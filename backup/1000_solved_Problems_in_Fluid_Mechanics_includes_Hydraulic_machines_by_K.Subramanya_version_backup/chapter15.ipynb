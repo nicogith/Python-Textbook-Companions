{
 "metadata": {
  "name": "chapter15"
 },
 "nbformat": 3,
 "nbformat_minor": 0,
 "worksheets": [
  {
   "cells": [
    {
     "cell_type": "heading",
     "level": 1,
     "metadata": {},
     "source": "Chapter 15:Compressible Flow"
    },
    {
     "cell_type": "heading",
     "level": 2,
     "metadata": {},
     "source": "Example 15.1 Page No376"
    },
    {
     "cell_type": "code",
     "collapsed": false,
     "input": "from __future__ import division\n\nimport math\n\n#variable initialization\n\nMg=44                #molecular weight of carbondioxide\n\n#solution\n\nR=8314/Mg            #gas constant for carbondioxide\n\nprint \"R=\",int(round(R,1)),\"N.m/(Kg.K)\"\n\nMg=32                #molecular weight of oxygen\n\nR=8314/Mg            #gas constant for oxygen\n\nprint \"R=\",int(math.ceil(round(R,1))),\"N.m/(Kg.K)\"",
     "language": "python",
     "metadata": {},
     "outputs": [
      {
       "output_type": "stream",
       "stream": "stdout",
       "text": "R= 189 N.m/(Kg.K)\nR= 260 N.m/(Kg.K)\n"
      }
     ],
     "prompt_number": 1
    },
    {
     "cell_type": "heading",
     "level": 2,
     "metadata": {},
     "source": "Example 15.2 Page No376"
    },
    {
     "cell_type": "code",
     "collapsed": false,
     "input": "from __future__ import division\n\nimport math\n\n#variable initialization\n\nMg=28.96            #molecular weight of air\n\nk=1.4               #constant for air \n\n#solution\n\nR=int(8314/Mg)      #in J/(kg.K)\n\nCp=(k/(k-1.0))*R\n\nprint \"Cp=\",Cp,\"J/(Kg.K)\"\n\nCv=R/(k-1)         #in J/(kg.K)\n\nprint \"Cv=\",Cv,\"J/(Kg.K)\"\n\n#1 Kcal = 4187 J\n\nprint \"In heat units\"\n\nCp=Cp/4187\n\nprint \"Cp=\",round(Cp,3),\"Kcal/(Kg.K)\" \n\nCv=Cv/4187\n\nprint \"Cv=\",round(Cv,3),\"Kcal/(Kg.K)\"",
     "language": "python",
     "metadata": {},
     "outputs": [
      {
       "output_type": "stream",
       "stream": "stdout",
       "text": "Cp= 1004.5 J/(Kg.K)\nCv= 717.5 J/(Kg.K)\nIn heat units\nCp= 0.24 Kcal/(Kg.K)\nCv= 0.171 Kcal/(Kg.K)\n"
      }
     ],
     "prompt_number": 5
    },
    {
     "cell_type": "heading",
     "level": 2,
     "metadata": {},
     "source": "Example 15.7 Page No378"
    },
    {
     "cell_type": "code",
     "collapsed": false,
     "input": "from __future__ import division\n\nimport math\n\n#variable initialization\n\nk=1.40              #constant for gases\n\nR=260               #gas constant in J/(Kg.K)\n\nT=25                #temperature in degree C\n\n#solution\n\nT=273 +T            #converting into K\n\nC=math.sqrt(k*R*T)  #Speed of sound\n\nprint \"C=\",round(C,1),\"m/s\"",
     "language": "python",
     "metadata": {},
     "outputs": [
      {
       "output_type": "stream",
       "stream": "stdout",
       "text": "C= 329.4 m/s\n"
      }
     ],
     "prompt_number": 6
    },
    {
     "cell_type": "heading",
     "level": 2,
     "metadata": {},
     "source": "Example 15.8 Page No378"
    },
    {
     "cell_type": "code",
     "collapsed": false,
     "input": "from __future__ import division\n\nimport math\n\n#variable initialization\n\nM=1.5                    #Mach number\n\np=89.89                  #Pressure in kPa\n\nrho=1.112                #density in kg/m^3\n\nk=1.4                    #constant for gases\n\n#solution\n\n#At 1000 m altitude,\n\nC=math.sqrt((k*(p*1000))/rho)\n\nV=C*M                   #Using Mach number\n\nV=(V*3600)/1000         #Converting V from m/s to Km/h\n\nprint \"V=\",int(math.ceil(round(V,1))),\"Km/h\"\n\n#At 10,000 m altitude\n\np=26.42                #Pressure in kPa\n\nrho=0.4125             #density in kg/m^3\n\nC=math.sqrt((k*(p*1000))/rho)\n\nV=C*M\n\nV=(V*3600)/1000       #Converting V from m/s to Km/h\n\nprint \"V=\",int(V),\"Km/h\"",
     "language": "python",
     "metadata": {},
     "outputs": [
      {
       "output_type": "stream",
       "stream": "stdout",
       "text": "V= 1817 Km/h\nV= 1617 Km/h\n"
      }
     ],
     "prompt_number": 7
    },
    {
     "cell_type": "heading",
     "level": 2,
     "metadata": {},
     "source": "Example 15.16 Page No381"
    },
    {
     "cell_type": "code",
     "collapsed": false,
     "input": "from __future__ import division\n\nimport math\n\n#variable initialization\n\nTo=35              #temperature in degree C\n\nR=287              #gas constant in (J/Kg.K)\n\npo=250             #pressure in kPa\n\nk=1.4              #constant for gases\n\nV1=200             #velocity in m/s\n\n#solution\n\nTo=273+To          #converting into K\n\nCp=(k*R)/(k-1)\n\nT1=int(To-((V1**2)/(2*Cp)))\n\n#The Mach number M1,at the exit is,\n\nM1=math.sqrt(((To/T1)-1)/0.2)\n\nprint \"M1=\",round(M1,3)",
     "language": "python",
     "metadata": {},
     "outputs": [
      {
       "output_type": "stream",
       "stream": "stdout",
       "text": "M1= 0.589\n"
      }
     ],
     "prompt_number": 8
    }
   ],
   "metadata": {}
  }
 ]
}