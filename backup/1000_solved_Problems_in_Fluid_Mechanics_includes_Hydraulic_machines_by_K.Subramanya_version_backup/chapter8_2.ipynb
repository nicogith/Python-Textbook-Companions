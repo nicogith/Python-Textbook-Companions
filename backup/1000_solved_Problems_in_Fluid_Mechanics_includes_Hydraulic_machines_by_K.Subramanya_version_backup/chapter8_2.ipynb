{
 "metadata": {
  "name": "",
  "signature": "sha256:abbef0b066ab549282c5b597a49f485e7d871355c952c6f48a6b8d3f7167b150"
 },
 "nbformat": 3,
 "nbformat_minor": 0,
 "worksheets": [
  {
   "cells": [
    {
     "cell_type": "heading",
     "level": 1,
     "metadata": {},
     "source": [
      "Chapter 8:Boundary Layer Concepts"
     ]
    },
    {
     "cell_type": "heading",
     "level": 2,
     "metadata": {},
     "source": [
      "Example 8.3 Page No180"
     ]
    },
    {
     "cell_type": "code",
     "collapsed": false,
     "input": [
      "from sympy import *\n",
      "\n",
      "#Variable Initialisation\n",
      "\n",
      "x, y,z,c,u,eta,delt,U=symbols(\"x y z c u delt U eta\")\n",
      "\n",
      "#Calculation\n",
      "\n",
      "u=sin(U*pi*y/2*delt)                         #Given equation 1\n",
      "\n",
      "#Let us take a=(du/dy)\n",
      "\n",
      "a=diff(u,y,2)                                #differentiating\n",
      "\n",
      "#At y=0,u=U sin(0),\n",
      "\n",
      "b=a.subs(y,0)                                #Substituting 0 for y\n",
      "\n",
      "print \"(a)(d**2u/dy**2)=\",b\n",
      "\n",
      "#At y=delt,u=U sin(pi/2)\n",
      "\n",
      "b=a.subs(y,pi/2)                             #Substituting pi/2 for y\n",
      "\n",
      "print \"(d**2u/dy**2)=\",b,\"not equal to 0\"\n",
      "\n",
      "print \"Hence all essential and one desirable boundary condition are satisfied\"\n",
      "\n",
      "u=U*(1+eta-2*eta**2)                         #Given equation 2\n",
      "\n",
      "#Let us take a=(du/dy)\n",
      "\n",
      "u=u.subs(eta,y/delt)\n",
      "\n",
      "a=diff(u,y,2)                                #differentiating\n",
      "\n",
      "#At y=0,u=U sin(0),\n",
      "\n",
      "b=a.subs(y,0)                               #Substituting 0 for y\n",
      "\n",
      "print \"(b)(d**2u/dy**2)=\",b,\"not equal to 0\"\n",
      "\n",
      "#At y=delt,u=0\n",
      "\n",
      "b=a.subs(y,delt)                            #Substituting delt for y\n",
      "\n",
      "print \"(d**2u/dy**2)=\",b,\"not equal to 0\"\n",
      "\n",
      "print \"Hence this is not a proper locality distribution in a laminar boundary layer\"\n"
     ],
     "language": "python",
     "metadata": {},
     "outputs": [
      {
       "output_type": "stream",
       "stream": "stdout",
       "text": [
        "(a)(d**2u/dy**2)= 0\n",
        "(d**2u/dy**2)= -pi**2*U**2*eta**2*sin(pi**2*U*eta/4)/4 not equal to 0\n",
        "Hence all essential and one desirable boundary condition are satisfied\n",
        "(b)(d**2u/dy**2)= -4*eta/U**2 not equal to 0\n",
        "(d**2u/dy**2)= -4*eta/U**2 not equal to 0\n",
        "Hence this is not a proper locality distribution in a laminar boundary layer\n"
       ]
      }
     ],
     "prompt_number": 1
    },
    {
     "cell_type": "heading",
     "level": 2,
     "metadata": {},
     "source": [
      "Example 8.6 Page No182"
     ]
    },
    {
     "cell_type": "code",
     "collapsed": false,
     "input": [
      "from __future__ import division\n",
      "\n",
      "import math\n",
      "\n",
      "#variable initialisation\n",
      "\n",
      "U=6                          #free stream velocity in m/s\n",
      "\n",
      "L=45                         #length in cm\n",
      "\n",
      "v=0.9                        #kinematic viscosity in stoke\n",
      "\n",
      "rho=0.925                    #relative density of oil\n",
      "\n",
      "B=15                         #Width of plate in cm\n",
      "\n",
      "#Calculation\n",
      "\n",
      "L=L/100                      #converting into m\n",
      "\n",
      "v=0.9/10000                  #1 stoke=(10^-4) m^2/s\n",
      "\n",
      "rho=rho*1000\n",
      "\n",
      "B=B/100                      #Converting into m\n",
      "\n",
      "Re_L=(U*L)/v                 #calculating reynolds number \n",
      "\n",
      "#Since Re_L is less than Re(crit)=5.0E5,the boundary layer is laminar\n",
      "\n",
      "#Using Blasius' results\n",
      "\n",
      "#del/x=5.0/math.sqrt(Rex)\n",
      "\n",
      "x=0.45                      #At the trailing edge \n",
      "\n",
      "delta_L=round(((5.0*L)/math.sqrt(Re_L))*100,1)#Boundary layer thickness\n",
      "\n",
      "print \"delta_L=\",delta_L,\"cm\"\n",
      "\n",
      "#tau_L=(rho*U**2/2)*(Cf*L),wheren Cf=(0.664/math.sqrt(Re_L))\n",
      "\n",
      "tau_L=round(((rho*(U**2))/2)*(0.664/math.sqrt(Re_L)),1)\n",
      "\n",
      "print \"tau_L=\",tau_L,\"N/m^2\"           #shear stress at the trailing edge\n",
      "\n",
      "#F_D=C_Df*(L.B)*rho*U**2/2 where,C_Df=1.328/math.sqrt(Re_L)\n",
      "\n",
      "C_Df=1.328/(math.sqrt(Re_L))\n",
      "\n",
      "F_D=round(C_Df*(L*B)*(rho*(U**2))/2,3) #Drag on one side of the plate\n",
      "\n",
      "print \"F_D=\",F_D,\"N\"\n",
      "\n",
      "F_2D=2*F_D                             #on both sides of the plate\n",
      "\n",
      "print \"F_2D=\",round(F_2D,2),\"N\""
     ],
     "language": "python",
     "metadata": {},
     "outputs": [
      {
       "output_type": "stream",
       "stream": "stdout",
       "text": [
        "delta_L= 1.3 cm\n",
        "tau_L= 63.8 N/m^2\n",
        "F_D= 8.617 N\n",
        "F_2D= 17.23 N\n"
       ]
      }
     ],
     "prompt_number": 2
    },
    {
     "cell_type": "heading",
     "level": 2,
     "metadata": {},
     "source": [
      "Example 8.7 Page No182"
     ]
    },
    {
     "cell_type": "code",
     "collapsed": false,
     "input": [
      "from __future__ import division\n",
      "\n",
      "import math\n",
      "\n",
      "#variable initialisation\n",
      "\n",
      "x=1.25                    #At the centre of plate\n",
      "\n",
      "U=1.5                     #free stream velocity in m/s\n",
      "\n",
      "v=0.0001                  #kinematic viscosity in stoke\n",
      "\n",
      "rho=0.8*1000              #relative density of oil\n",
      "\n",
      "B=2                       #Width of plate in m \n",
      "\n",
      "#Calculation\n",
      "\n",
      "#(a)At the centre of plate\n",
      "\n",
      "Re_x=(x*U)/v\n",
      "\n",
      "#This is less than Re(crit)=5E5 and hence boundary layer is laminar\n",
      "\n",
      "#del/x=5.0/math.sqrt(\\Re_x)\n",
      "\n",
      "delta_m=round((5.0*x)/(math.sqrt(Re_x))*100,2)\n",
      "\n",
      "print \"delta_m=\",delta_m,\"cm\"\n",
      "\n",
      "C_f=0.664/math.sqrt(Re_x)           #local friction coefficient \n",
      "\n",
      "tau_0m=round(C_f*(rho*(U**2))/2,3)  #shear stress\n",
      "\n",
      "print \"tau_m=\",tau_0m,\"N/m^2\"\n",
      "\n",
      "x=L=2.5                             #(b)At the trailing edge\n",
      "\n",
      "Re_L=(L*U)/v\n",
      "\n",
      "#This is less than Re(crit)=5E5 and hence boundary layer is laminar\n",
      "\n",
      "delta_L=round(5.0*L/(math.sqrt(Re_L))*100,2)\n",
      "\n",
      "print \"delta_L=\",delta_L,\"cm\"\n",
      "\n",
      "C_f=0.664/math.sqrt(Re_L)          #local friction coefficient \n",
      "\n",
      "tau_0L=round(C_f*(rho*(U**2))/2,3) #shear stress\n",
      "\n",
      "print \"tau_0L=\",tau_0L,\"N/m^2\"\n",
      "\n",
      "#F=C_Df*area*(rho*(U**2)/2         #(c)Total force\n",
      "\n",
      "C_Df=1.328/(math.sqrt(Re_L))\n",
      "\n",
      "area=2*L*B\n",
      "\n",
      "F=C_Df*area*(rho*(U**2))/2\n",
      "\n",
      "print \"F=\",round(F,2),\"N\"\n",
      "\n",
      "P=F*U\n",
      "\n",
      "print  \"P=\",round(P,2),\"W\""
     ],
     "language": "python",
     "metadata": {},
     "outputs": [
      {
       "output_type": "stream",
       "stream": "stdout",
       "text": [
        "delta_m= 4.56 cm\n",
        "tau_m= 4.364 N/m^2\n",
        "delta_L= 6.45 cm\n",
        "tau_0L= 3.086 N/m^2\n",
        "F= 61.72 N\n",
        "P= 92.58 W\n"
       ]
      }
     ],
     "prompt_number": 3
    },
    {
     "cell_type": "heading",
     "level": 2,
     "metadata": {},
     "source": [
      "Example 8.8 Page No183"
     ]
    },
    {
     "cell_type": "code",
     "collapsed": false,
     "input": [
      "from __future__ import division\n",
      "\n",
      "import math\n",
      "\n",
      "#variable initialisation\n",
      "\n",
      "U=3.0                  #Velocity in m/s\n",
      "\n",
      "v=1.45E-5              #velocity of air in m^2/s\n",
      "\n",
      "rho_a=1.2              #density in kg/m^3\n",
      "\n",
      "Re=5E+5                #critical reynolds number\n",
      "\n",
      "w=1.5                  #width in m\n",
      "\n",
      "#solution\n",
      "\n",
      "L=round((Re*v)/U,3)               #Maximum Length of plate\n",
      "\n",
      "print \"L=\",L,\"m\"\n",
      "\n",
      "C_df=(1.328)/(math.sqrt(Re))      #length of plate in a laminar sublayer\n",
      "\n",
      "F_D=C_df*(w*L)*((2*(U**2))/2)     #Drag force in one side of the plate\n",
      "\n",
      "print \"F_D=\",round(F_D/100*60,5),\"N\"\n"
     ],
     "language": "python",
     "metadata": {},
     "outputs": [
      {
       "output_type": "stream",
       "stream": "stdout",
       "text": [
        "L= 2.417 m\n",
        "F_D= 0.03677 N\n"
       ]
      }
     ],
     "prompt_number": 4
    },
    {
     "cell_type": "heading",
     "level": 2,
     "metadata": {},
     "source": [
      "Example 8.11 Page No184"
     ]
    },
    {
     "cell_type": "code",
     "collapsed": false,
     "input": [
      "from __future__ import division\n",
      "\n",
      "import math\n",
      "\n",
      "#variable initialisation\n",
      "\n",
      "U=2                            #free stream velocity in m/s\n",
      "\n",
      "L=20                           #length in m\n",
      "\n",
      "v=1*(1/1000000)                #kinematic viscosity in stoke\n",
      "\n",
      "Re_crit=5*100000               #critical Reynolds number\n",
      "\n",
      "rho=998                        #Relative density\n",
      "\n",
      "#Calculation\n",
      "\n",
      "Re_L=U*L/v\n",
      "\n",
      "#The boundary layer is turbulent at the trailing edge.\n",
      "\n",
      "#(i)Taking the critical reynolds number\n",
      "\n",
      "x_crit=(Re_crit)*v/U\n",
      "\n",
      "print \"x_crit\",int(x_crit*100),\"cm\"\n",
      "\n",
      "#Laminate boundary layer exists in the first 25cm of the plate\n",
      "\n",
      "delta_c=5.0*x_crit/(math.sqrt(Re_crit))*1000\n",
      "\n",
      "print \"delta_c=\",round(delta_c,3),\"mm\"\n",
      "\n",
      "#At the trailing edge,as reynolds numbere is >E7,the thickness is obtained by putting,\n",
      "\n",
      "x=L=20\n",
      "\n",
      "Re_x=U*L/v\n",
      "\n",
      "delta_t=(0.22*x)/((Re_x)**(1/6))*100\n",
      "\n",
      "print \"delta_t=\",round(delta_t,1),\"cm\"\n",
      "\n",
      "#(iii)shear stress coefficient\n",
      "\n",
      "C_f=0.370/(log(Re_x,10))**(2.58)\n",
      "\n",
      "tau_0=C_f*(rho*(U**2))/2\n",
      "\n",
      "print \"tau_0=\",round(tau_0,2),\"Pa\"\n"
     ],
     "language": "python",
     "metadata": {},
     "outputs": [
      {
       "output_type": "stream",
       "stream": "stdout",
       "text": [
        "x_crit 25 cm\n",
        "delta_c= 1.768 mm\n",
        "delta_t= 23.8 cm\n",
        "tau_0= 3.94 Pa\n"
       ]
      }
     ],
     "prompt_number": 6
    },
    {
     "cell_type": "heading",
     "level": 2,
     "metadata": {},
     "source": [
      "Example 8.12 Page No185"
     ]
    },
    {
     "cell_type": "code",
     "collapsed": false,
     "input": [
      "from __future__ import division\n",
      "\n",
      "import math\n",
      "\n",
      "#variable initialisation\n",
      "\n",
      "mu=1.8E-6                      #viscosity in poise\n",
      "\n",
      "rho=1.22                       #relative density\n",
      "\n",
      "U=1.75                         #free stream velocity in m/s\n",
      "\n",
      "L=5                            #Length in m\n",
      "\n",
      "B=1.8                          #width in m\n",
      "\n",
      "#Calculation\n",
      "\n",
      "mu=(mu)*10           #in Poise\n",
      "\n",
      "v=mu/rho                       #calculating kinematic viscosity in stoke\n",
      "\n",
      "Re_L=U*L/v                     #Reynolds number\n",
      "\n",
      "#(i)For laminar boundary layer:\n",
      "\n",
      "C_DF=1.328/(math.sqrt(Re_L))   #Drag Coefficient\n",
      "\n",
      "area=B*L\n",
      "\n",
      "F_D=C_DF*area*(rho*(U**2)/2)\n",
      "\n",
      "print \"F_D=\",round(F_D,3),\"N\"\n",
      "\n",
      "#(ii)For turbulent boundary layer:\n",
      "\n",
      "#since Re_L is between 5E5 and E7,the 1/7 th power law is applicable.\n",
      "\n",
      "C_DF=0.074/((Re_L)**(1/5))     #Drag coefficient\n",
      "\n",
      "area=B*L\n",
      "\n",
      "F_D=C_DF*area*(rho*(U**2)/2)   #Drag force on one side of the plate\n",
      "\n",
      "print \"F_D=\",round(F_D,4),\"N\"\n"
     ],
     "language": "python",
     "metadata": {},
     "outputs": [
      {
       "output_type": "stream",
       "stream": "stdout",
       "text": [
        "F_D= 0.029 N\n",
        "F_D= 0.0871 N\n"
       ]
      }
     ],
     "prompt_number": 7
    },
    {
     "cell_type": "heading",
     "level": 2,
     "metadata": {},
     "source": [
      "Example 8.13 Page No185"
     ]
    },
    {
     "cell_type": "code",
     "collapsed": false,
     "input": [
      "from sympy import *\n",
      "\n",
      "from __future__ import division\n",
      "\n",
      "import math\n",
      "\n",
      "#variable initialisation\n",
      "\n",
      "U=1.5                                                       #velocity in m/s\n",
      "\n",
      "L=35                                                        #Length in m\n",
      "\n",
      "mu=0.001                                                    #viscosity in Pa.s\n",
      "\n",
      "rho=1025                                                    #relative density in kg/m^3\n",
      "\n",
      "b=10                                                        #breadth in m\n",
      "\n",
      "ep=0.002                                                    #roughness height in m\n",
      "\n",
      "#Calculation\n",
      "\n",
      "v=mu/rho                                                    #calculating velocity\n",
      "\n",
      "ReL=(U*L)/v                                                 #Reynolds number\n",
      "\n",
      "#The flow is turbulent in the boundary layer.\n",
      "\n",
      "C_Df=round((0.455/(log(ReL,10))**(2.58))-(1700/ReL),5)      #Drag coefficient\n",
      "\n",
      "area=b*L                                                    #area\n",
      "\n",
      "F_D=int(C_Df*area*((rho*U**2)/2))#drag force on the bottom of the barge\n",
      "\n",
      "print \"F_D=\",F_D,\"N\"\n",
      "\n",
      "s=L/ep\n",
      "\n",
      "C_Df=1/((1.89+1.62*(log(s,10)))**(2.5))                     #For a rough flat boundary\n",
      "\n",
      "F_D=int(C_Df*area*((rho*U**2)/2))                           #Drag force\n",
      "\n",
      "print \"F_D=\",F_D,\"N\"\n"
     ],
     "language": "python",
     "metadata": {},
     "outputs": [
      {
       "output_type": "stream",
       "stream": "stdout",
       "text": [
        "F_D= 924 N\n",
        "F_D= 1775 N\n"
       ]
      }
     ],
     "prompt_number": 8
    },
    {
     "cell_type": "heading",
     "level": 2,
     "metadata": {},
     "source": [
      "Example 8.14 Page No186"
     ]
    },
    {
     "cell_type": "code",
     "collapsed": false,
     "input": [
      "from __future__ import division\n",
      "\n",
      "import math\n",
      "\n",
      "#variable initialisation\n",
      "V=20                         #velocity in km/h\n",
      "\n",
      "L=6                          #length in m\n",
      "\n",
      "rho=1.2                      #relative density in kg/m^3\n",
      "\n",
      "v=1.5E-5                     #kinematic viscosity in stoke\n",
      "\n",
      "B=1                          #Breadth in m\n",
      "\n",
      "#Calculation\n",
      "\n",
      "U=round(V*1000/3600,2)           #Wind velocity\n",
      "\n",
      "Re_L=U*L/(v)                     #Reynolds number\n",
      "\n",
      "#The boundary layer is turbulent and the drag coefficient is corresponding to the power law,\n",
      "\n",
      "C_DF=round((0.074/(Re_L)**(1/5))-(1700/(Re_L)),6)\n",
      "\n",
      "area=B*L\n",
      "\n",
      "F_D=round(C_DF*area*(rho*(U**2))/2,4)\n",
      "\n",
      "print \"F_D=\",F_D,\"N\"\n",
      "\n",
      "#The turbulent boundary layer thickness at trailing edge:\n",
      "\n",
      "x=L=6                                    #in m\n",
      "\n",
      "delta=round(L*(0.3773/(Re_L**(1/5)))*100,2)\n",
      "\n",
      "print \"delta=\",delta,\"cm\"\n"
     ],
     "language": "python",
     "metadata": {},
     "outputs": [
      {
       "output_type": "stream",
       "stream": "stdout",
       "text": [
        "F_D= 0.3578 N\n",
        "delta= 12.17 cm\n"
       ]
      }
     ],
     "prompt_number": 9
    },
    {
     "cell_type": "heading",
     "level": 2,
     "metadata": {},
     "source": [
      "Example 8.15 Page No186"
     ]
    },
    {
     "cell_type": "code",
     "collapsed": false,
     "input": [
      "from __future__ import division\n",
      "\n",
      "import math\n",
      "\n",
      "#variable initialisation\n",
      "\n",
      "U=3                     #free stream velocity in m/s\n",
      "\n",
      "L=3                     #Length in m\n",
      "\n",
      "v=1E-6                  #kinematic viscosity in stoke\n",
      "\n",
      "rho=998                 #Relative density in kg/m^3\n",
      "\n",
      "area=3.50               #area in m^2\n",
      "\n",
      "Total=70                #total measured drag in N\n",
      "\n",
      "#Calculation\n",
      "\n",
      "Re_L=U*L/v\n",
      "\n",
      "#The boundary layer is turbulent\n",
      "\n",
      "C_DF=(0.074/(Re_L**(1/5)))-(1700/Re_L)     #Drag coefficient\n",
      "\n",
      "F_D=round(C_DF*area*(rho*(U**2))/2,1)\n",
      "\n",
      "print \"F_D=\",F_D,\"N\"\n",
      "\n",
      "#total measured drag=skin friction drag+wave drag\n",
      "\n",
      "F_DW=Total-F_D\n",
      "\n",
      "print \"F_DW=\",F_DW,\"N\"\n",
      "\n"
     ],
     "language": "python",
     "metadata": {},
     "outputs": [
      {
       "output_type": "stream",
       "stream": "stdout",
       "text": [
        "F_D= 44.3 N\n",
        "F_DW= 25.7 N\n"
       ]
      }
     ],
     "prompt_number": 10
    },
    {
     "cell_type": "heading",
     "level": 2,
     "metadata": {},
     "source": [
      "Example 8.17 Page No187"
     ]
    },
    {
     "cell_type": "code",
     "collapsed": false,
     "input": [
      "from sympy import *\n",
      "\n",
      "from __future__ import division\n",
      "\n",
      "import math\n",
      "\n",
      "#variable initialisation\n",
      "\n",
      "U=5                                                         #velocity in m/s\n",
      "\n",
      "L=10                                                        #Length in m\n",
      "\n",
      "mu=0.0018                                                   #viscosity in Pa.s\n",
      "\n",
      "rho=1020                                                    #relative density in kg/m^3\n",
      "\n",
      "b=2                                                         #breadth in m\n",
      "\n",
      "ep=0.005                                                    #roughness height in m\n",
      "\n",
      "#Calculation\n",
      "\n",
      "ReL=(U*L*rho)/mu                                            #Reynolds number\n",
      "\n",
      "#The flow is turbulent in the boundary layer.\n",
      "\n",
      "area=b*L*2                                                   #area\n",
      "\n",
      "s=L/ep\n",
      "\n",
      "C_Df=1/((1.89+1.62*(log(s,10)))**(2.5))                     #For a rough flat boundary\n",
      "\n",
      "F_D=int(C_Df*area*((rho*U**2)/2))                           #Drag force\n",
      "\n",
      "P=(F_D*U)/1000\n",
      "\n",
      "print \"P=\",round(P,1),\"kW\"\n"
     ],
     "language": "python",
     "metadata": {},
     "outputs": [
      {
       "output_type": "stream",
       "stream": "stdout",
       "text": [
        "P= 18.1 kW\n"
       ]
      }
     ],
     "prompt_number": 11
    },
    {
     "cell_type": "heading",
     "level": 2,
     "metadata": {},
     "source": [
      "Example 8.18 Page No187"
     ]
    },
    {
     "cell_type": "code",
     "collapsed": false,
     "input": [
      "from sympy import *\n",
      "\n",
      "from __future__ import division\n",
      "\n",
      "import math\n",
      "\n",
      "#variable initialisation\n",
      "\n",
      "Up=10                                             #speed of prototype\n",
      "\n",
      "Lm=1                                              #length of model\n",
      "\n",
      "Lp=30                                             #length of prototype\n",
      "\n",
      "area=1600                                         #wetted area\n",
      "\n",
      "rho=1025                                          #relative density \n",
      "\n",
      "mu=1.07E-3                                        #dynamic viscosity in Pa.s\n",
      "\n",
      "Tm=20                                             #total measured drag\n",
      "\n",
      "rho_r=1                                           #relative density \n",
      "\n",
      "Lr=(1/30)                                         #ratio of model\n",
      "\n",
      "#Calculation\n",
      "\n",
      "#two drage:surface,wave.m for model and p for prototype\n",
      "\n",
      "#Froude number\n",
      "\n",
      "Um=round(Up*(math.sqrt(Lm/Lp)),3)\n",
      "\n",
      "Am=round(area*((Lm/Lp)**2),3)\n",
      "\n",
      "Lm=100*(Lm/Lp)\n",
      "\n",
      "Lp=100\n",
      "\n",
      "ReLP=((rho*Up*Lp)/mu)                             #Reynolds number\n",
      "\n",
      "ReLM=rho*Um*Lm/mu\n",
      "\n",
      "#The boundary is turbulent\n",
      "\n",
      "C_Dfm=(0.074/(ReLM**(1/5)))-(1700/ReLM)\n",
      "\n",
      "Fsm=C_Dfm*Am*((rho*(Um**2))/2)                   #surface resistance\n",
      "\n",
      "Fwm=Tm-Fsm\n",
      "\n",
      "#Fwm is modelled by Froude's law,\n",
      "\n",
      "Fwp=round(Fwm/(rho_r*(Lr**3))/1000,1)            #wave drag\n",
      "\n",
      "C_Dfp=round((0.455/(log(ReLP,10))**(2.58))-(1700/ReLP),5)   #Drag coefficient\n",
      "\n",
      "Fsp=round(C_Dfp*area*((rho*(Up**2))/2)/1000,1)\n",
      "\n",
      "Fp=Fwp+Fsp                                      #Total prototype drag\n",
      "\n",
      "print \"Fp=\",round(Fp,0),\"kN\"\n"
     ],
     "language": "python",
     "metadata": {},
     "outputs": [
      {
       "output_type": "stream",
       "stream": "stdout",
       "text": [
        "Fp= 424.0 kN\n"
       ]
      }
     ],
     "prompt_number": 12
    }
   ],
   "metadata": {}
  }
 ]
}