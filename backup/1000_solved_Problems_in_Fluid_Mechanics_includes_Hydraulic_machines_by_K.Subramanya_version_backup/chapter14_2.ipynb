{
 "metadata": {
  "name": "",
  "signature": "sha256:3f4f998f72684cffa9780465ca64d4846d2ef896c2b80cb970d0fc405ba894c0"
 },
 "nbformat": 3,
 "nbformat_minor": 0,
 "worksheets": [
  {
   "cells": [
    {
     "cell_type": "heading",
     "level": 1,
     "metadata": {},
     "source": [
      "Chapter 14:Unsteady Flow"
     ]
    },
    {
     "cell_type": "heading",
     "level": 2,
     "metadata": {},
     "source": [
      "Example 14.11 Page No358"
     ]
    },
    {
     "cell_type": "code",
     "collapsed": false,
     "input": [
      "from __future__ import division\n",
      "\n",
      "import math\n",
      "\n",
      "#variable initialization\n",
      "\n",
      "#bulk modulus of elasticity for water in MPa\n",
      "\n",
      "k_w=2.22E+3 \n",
      "\n",
      "k_c=1.50E+3\n",
      "\n",
      "k_g=9.58E+2\n",
      "\n",
      "rho=998       #density in kg/m^3\n",
      "\n",
      "RD_c=0.8      #relative density of crude oil\n",
      "\n",
      "RD_g=0.68     #relative density of gasolene\n",
      "\n",
      "#solution\n",
      "\n",
      "C=math.sqrt((k_w*10**6)/rho)         #for water\n",
      "\n",
      "print \"C=\",round(C,1),\"m/s\"\n",
      "\n",
      "C=math.sqrt((k_c*10**6)/(RD_c*rho))  #for crude oil\n",
      "\n",
      "print \"C=\",round(C,1),\"m/s\"\n",
      "\n",
      "C=math.sqrt((k_g*10**6)/(RD_g*rho))  #for gasolene\n",
      "\n",
      "print \"C=\",int(C),\"m/s\"\n"
     ],
     "language": "python",
     "metadata": {},
     "outputs": [
      {
       "output_type": "stream",
       "stream": "stdout",
       "text": [
        "C= 1491.5 m/s\n",
        "C= 1370.7 m/s\n",
        "C= 1188 m/s\n"
       ]
      }
     ],
     "prompt_number": 1
    },
    {
     "cell_type": "heading",
     "level": 2,
     "metadata": {},
     "source": [
      "Example 14.12 Page No358"
     ]
    },
    {
     "cell_type": "code",
     "collapsed": false,
     "input": [
      "from __future__ import division\n",
      "\n",
      "import math\n",
      "\n",
      "#variable initialization\n",
      "\n",
      "E=2.07E+5               #pressure in steel pipe\n",
      "\n",
      "K=1.43E+3               #Bulk modulus in MPa\n",
      "\n",
      "t=2                     #thickness in cm\n",
      "\n",
      "D=2.5                   #diameter in m\n",
      "\n",
      "RD=0.80                 #relative density\n",
      "\n",
      "rho=998                 #density in m/s^2\n",
      "\n",
      "#solution\n",
      "\n",
      "D=D*100                 #converting D to cm\n",
      "\n",
      "E=E*(10**6)             #converting MPa to Pa\n",
      "\n",
      "K=K*(10**6)             #converting MPa to Pa\n",
      "\n",
      "#velocity of pressure wave\n",
      "\n",
      "C=(math.sqrt(K/(rho*RD)))*(math.pow(1/(1+((D/t)*(K/E))),1/2))\n",
      "\n",
      "print \"C=\",round(C,1),\"m/s\"\n"
     ],
     "language": "python",
     "metadata": {},
     "outputs": [
      {
       "output_type": "stream",
       "stream": "stdout",
       "text": [
        "C= 980.4 m/s\n"
       ]
      }
     ],
     "prompt_number": 3
    },
    {
     "cell_type": "heading",
     "level": 2,
     "metadata": {},
     "source": [
      "Example 14.13 Page No358"
     ]
    },
    {
     "cell_type": "code",
     "collapsed": false,
     "input": [
      "from __future__ import division\n",
      "\n",
      "import math\n",
      "\n",
      "#variable initialisation\n",
      "\n",
      "k=2.2E9                        #Bulk modulus in MPa\n",
      "\n",
      "rho=998                        #relative density\n",
      "\n",
      "V2=1.0                         #velocity in m/s\n",
      "\n",
      "V1=4.0                         #Decreased velocity in m/s\n",
      "\n",
      "#calculation\n",
      "\n",
      "del_V=-(V2-V1) \n",
      "\n",
      "C=(k/rho)**(1/2)              #change of pressure surge\n",
      "\n",
      "delP_h=(rho*C*del_V)\n",
      "\n",
      "print \"delP_h=\"'%4.3E' % delP_h,\"which is \",round(delP_h/1000000,3),\"MPa\"\n"
     ],
     "language": "python",
     "metadata": {},
     "outputs": [
      {
       "output_type": "stream",
       "stream": "stdout",
       "text": [
        "delP_h=4.445E+06 which is  4.445 MPa\n"
       ]
      }
     ],
     "prompt_number": 4
    },
    {
     "cell_type": "heading",
     "level": 2,
     "metadata": {},
     "source": [
      "Example 14.14 Page No358"
     ]
    },
    {
     "cell_type": "code",
     "collapsed": false,
     "input": [
      "from __future__ import division\n",
      "\n",
      "import math\n",
      "\n",
      "#variable initialization\n",
      "\n",
      "E=1.0E+11                   #modulus of elasticity\n",
      "\n",
      "K=2.0E+9                    #Bulk modulus in Pa\n",
      "\n",
      "t=1.25                      #thickness in mm\n",
      "\n",
      "D=0.9                       #diameter in m\n",
      "\n",
      "rho=998                     #density in kg/m^3\n",
      "\n",
      "L=1000                      #length in m\n",
      "\n",
      "V=2.60                      #velocity in m/s\n",
      "\n",
      "g=9.81                      #gravity in m/s^2\n",
      "\n",
      "#solution\n",
      "\n",
      "D=D*100                     #converting D to cm\n",
      "\n",
      "#velocity of pressure wave\n",
      "\n",
      "C=(math.sqrt(K/(rho)))*(math.pow(1/(1+((D/t)*(K/E))),1/2))\n",
      "\n",
      "#with Pressure rise,\n",
      "\n",
      "del_V=0-V                   #calculating del_V\n",
      "\n",
      "h_h=-(C*del_V)/g            #Water Wammer Head\n",
      "\n",
      "print \"h_W=\",round(h_h,1),\"m\"\n"
     ],
     "language": "python",
     "metadata": {},
     "outputs": [
      {
       "output_type": "stream",
       "stream": "stdout",
       "text": [
        "h_W= 240.2 m\n"
       ]
      }
     ],
     "prompt_number": 5
    },
    {
     "cell_type": "heading",
     "level": 2,
     "metadata": {},
     "source": [
      "Example 14.15 Page No358"
     ]
    },
    {
     "cell_type": "code",
     "collapsed": false,
     "input": [
      "from __future__ import division\n",
      "\n",
      "import math\n",
      "\n",
      "#variable initialisation\n",
      "\n",
      "k=2.1E9                        #Bulk modulus in MPa\n",
      "\n",
      "rho=998                        #relative density\n",
      "\n",
      "V2=0                           #velocity in m/s\n",
      "\n",
      "V1=2.1                         #Decreased velocity in m/s\n",
      "\n",
      "D=60                           #Diameter in cm\n",
      "\n",
      "t=1.2                          #thickness in cm\n",
      "\n",
      "E=2.1E11                       #modulus of elasticity\n",
      "\n",
      "#calculation\n",
      "\n",
      "del_V=-(V2-V1) \n",
      "\n",
      "c=(k/rho)**(1/2)              #By neglecting the elasticity of pipe material velocity,\n",
      "\n",
      "delP_h=(rho*c*del_V)          #water hammer pressure rise\n",
      "\n",
      "print \"delP_h=\"'%4.3E' % delP_h,\"which is \",round(delP_h/1000000,3),\"MPa\"\n",
      "\n",
      "#By considering the elasticity of pressure material,\n",
      "\n",
      "C=(((1/(1+(D/t)*(k/E))))**(1/2))*c\n",
      "\n",
      "delP_h=(rho*C*del_V)\n",
      "\n",
      "print \"delP_h=\"'%4.3E' % delP_h,\"which is \",round(delP_h/1000000,3),\"MPa\"\n"
     ],
     "language": "python",
     "metadata": {},
     "outputs": [
      {
       "output_type": "stream",
       "stream": "stdout",
       "text": [
        "delP_h=3.040E+06 which is  3.04 MPa\n",
        "delP_h=2.482E+06 which is  2.482 MPa\n"
       ]
      }
     ],
     "prompt_number": 6
    },
    {
     "cell_type": "heading",
     "level": 2,
     "metadata": {},
     "source": [
      "Example 14.16 Page No359"
     ]
    },
    {
     "cell_type": "code",
     "collapsed": false,
     "input": [
      "from __future__ import division\n",
      "\n",
      "import math\n",
      "\n",
      "#variable initialization\n",
      "\n",
      "E=2.10E+11                #modulus of elasticity\n",
      "\n",
      "K=1.43E+9                 #Bulk modulus in Pa\n",
      "\n",
      "t=80                      #thickness in mm\n",
      "\n",
      "D=80                      #diameter in cm\n",
      "\n",
      "RD=0.8                    #relative density for kerosene\n",
      "\n",
      "rho=998                   #density in m/s^2\n",
      "\n",
      "L=1000                    #length in m\n",
      "\n",
      "#solution\n",
      "\n",
      "D=D*10                    #converting D to mm\n",
      "\n",
      "#velocity of pressure wave\n",
      "\n",
      "C=(math.sqrt(K/(rho*RD)))*(math.pow(1/(1+((D/t)*(K/E))),1/2))\n",
      "\n",
      "To=(2*L)/C\n",
      "\n",
      "print \"Hence maximum time for a sudden closure is\",round(To,3),\"s\"\n"
     ],
     "language": "python",
     "metadata": {},
     "outputs": [
      {
       "output_type": "stream",
       "stream": "stdout",
       "text": [
        "Hence maximum time for a sudden closure is 1.544 s\n"
       ]
      }
     ],
     "prompt_number": 7
    },
    {
     "cell_type": "heading",
     "level": 2,
     "metadata": {},
     "source": [
      "Example 14.17 Page No359"
     ]
    },
    {
     "cell_type": "code",
     "collapsed": false,
     "input": [
      "from __future__ import division\n",
      "\n",
      "import math\n",
      "\n",
      "#variable initialisation\n",
      "\n",
      "L=100                             #length in m\n",
      "\n",
      "C=1430                            #Sonic velocity in m/s\n",
      "\n",
      "v=0.5                             #Velocity in m/s\n",
      "\n",
      "D=0.5                             #Diameter in m\n",
      "\n",
      "rho=998                           #relative density \n",
      "\n",
      "T=1                               #time in second\n",
      "\n",
      "#Calculation\n",
      "\n",
      "T0=round((2*L)/C,2)               #Critical time\n",
      "\n",
      "V=round(v/((math.pi/.4)*(D**2)),4)\n",
      "\n",
      "Ph=rho*C*V\n",
      "\n",
      "print \"Ph=\",round(Ph/1000,2),\"kPa\"\n",
      "\n",
      "Pvsc=rho*L*V/T                    #P|ressure rise\n",
      "\n",
      "print \"Pvsc=\",round(Pvsc/1000,2),\"kPa\"\n"
     ],
     "language": "python",
     "metadata": {},
     "outputs": [
      {
       "output_type": "stream",
       "stream": "stdout",
       "text": [
        "Ph= 363.35 kPa\n",
        "Pvsc= 25.41 kPa\n"
       ]
      }
     ],
     "prompt_number": 8
    },
    {
     "cell_type": "heading",
     "level": 2,
     "metadata": {},
     "source": [
      "Example 14.18 Page No359"
     ]
    },
    {
     "cell_type": "code",
     "collapsed": false,
     "input": [
      "from __future__ import division\n",
      "\n",
      "import math\n",
      "\n",
      "#variable initialisation\n",
      "\n",
      "k=2.11E9                       #Bulk modulus in MPa\n",
      "\n",
      "rho=998                        #relative density\n",
      "\n",
      "V2=0                           #velocity in m/s\n",
      "\n",
      "V1=2.1                         #Decreased velocity in m/s\n",
      "\n",
      "D=60                           #Diameter in cm\n",
      "\n",
      "t=1.5                          #thickness in cm\n",
      "\n",
      "E=1.041E11                     #modulus pf elasticity\n",
      "\n",
      "del_V=-3.0                     #change in volume\n",
      "\n",
      "T=2.00                         #pressure rise\n",
      "\n",
      "L=800                          #length\n",
      "\n",
      "#calculation\n",
      "\n",
      "c=int((k/rho)**(1/2))\n",
      "\n",
      "C=round((((1/(1+(D/t)*(k/E))))**(1/2))*c,3)           #Velocity of pressure wave\n",
      "\n",
      "T0=round((2*L)/C,2)\n",
      "\n",
      "Ph=-rho*C*del_V                                       #T=1.25,Hence,water hammer pressure\n",
      "\n",
      "print \"(a)Ph=\",round(Ph/1000000,3),\"MPa\"\n",
      "\n",
      "Phs=(T0/T)*Ph                                         #Pressure rise at the valve\n",
      "\n",
      "print \"(b)Phs=\",round(Phs/1000000,3),\"MPa\"\n",
      "\n",
      "print \"(c)Ph=\",round(Ph/1000000,3),\"MPa\""
     ],
     "language": "python",
     "metadata": {},
     "outputs": [
      {
       "output_type": "stream",
       "stream": "stdout",
       "text": [
        "(a)Ph= 3.235 MPa\n",
        "(b)Phs= 2.394 MPa\n",
        "(c)Ph= 3.235 MPa\n"
       ]
      }
     ],
     "prompt_number": 9
    },
    {
     "cell_type": "heading",
     "level": 2,
     "metadata": {},
     "source": [
      "Example 14.19 Page No359"
     ]
    },
    {
     "cell_type": "code",
     "collapsed": false,
     "input": [
      "from __future__ import division\n",
      "\n",
      "import math\n",
      "\n",
      "#variable initialisation\n",
      "\n",
      "k=2.10E9                       #Bulk modulus in Pa\n",
      "\n",
      "rho=998                        #relative density\n",
      "\n",
      "D=400                          #Diameter in cm\n",
      "\n",
      "t=10                           #thickness in cm\n",
      "\n",
      "E=2.11E11                      #modulus pf elasticity\n",
      "\n",
      "V2=0.5                         #Volume 1\n",
      "\n",
      "V1=3.0                         #Volume 2\n",
      "\n",
      "T=5.00                         #pressure rise\n",
      "\n",
      "L=2500                         #length\n",
      "\n",
      "Pstatic=9.79*250               #Pressure  \n",
      "\n",
      "#calculation\n",
      "\n",
      "c=((k/rho)**(1/2))\n",
      "\n",
      "C=round((((1/(1+(D/t)*(k/E))))**(1/2))*c,4)           #Velocity of pressure wave\n",
      "\n",
      "T0=round((2*L)/C,3)\n",
      "\n",
      "del_V=V2-V1                                           #change in volume\n",
      "\n",
      "Ph=-rho*C*del_V                                       #T=1.25,Hence,water hammer pressure\n",
      "\n",
      "\n",
      "Phs=((T0/T)*Ph)/1000                                  #Pressure rise at the valve\n",
      "\n",
      "Pt=Pstatic+Phs\n",
      "\n",
      "print \"Pt=\",int(round(Pt,0)),\"kPa\"                    #Total pressure at the valve end\n"
     ],
     "language": "python",
     "metadata": {},
     "outputs": [
      {
       "output_type": "stream",
       "stream": "stdout",
       "text": [
        "Pt= 4943 kPa\n"
       ]
      }
     ],
     "prompt_number": 10
    },
    {
     "cell_type": "heading",
     "level": 2,
     "metadata": {},
     "source": [
      "Example 14.20 Page No360"
     ]
    },
    {
     "cell_type": "code",
     "collapsed": false,
     "input": [
      "from __future__ import division\n",
      "\n",
      "import math\n",
      "\n",
      "#variable initialization\n",
      "\n",
      "K=2.2E+3             #bulk modulus in MPa\n",
      "\n",
      "rho=998              #density in kg/m^3\n",
      "\n",
      "L=3500               #length in m\n",
      "\n",
      "Vo=0.8               #velocity in m/s\n",
      "\n",
      "T=4.0                #closure in s\n",
      "\n",
      "#solution\n",
      "\n",
      "C=round(math.sqrt((K*10**6)/rho),1)   #velocity of pressure wave\n",
      "\n",
      "To=(2*L)/C                            #critical time\n",
      "\n",
      "#T=4.0 s,the closure is rapid.\n",
      "\n",
      "Ph=(rho*C*Vo)/(10**6)                #water hammer pressure\n",
      "\n",
      "print \"Ph=\",round(Ph,3),\"MPa\"\n",
      "\n",
      "#length of the pipe affected by peak pressure\n",
      "\n",
      "Xo=L-((C*T)/2)\n",
      "\n",
      "print \"Xo=\",Xo,\"m\"\n"
     ],
     "language": "python",
     "metadata": {},
     "outputs": [
      {
       "output_type": "stream",
       "stream": "stdout",
       "text": [
        "Ph= 1.185 MPa\n",
        "Xo= 530.6 m\n"
       ]
      }
     ],
     "prompt_number": 11
    },
    {
     "cell_type": "heading",
     "level": 2,
     "metadata": {},
     "source": [
      "Example 14.23 Page No362"
     ]
    },
    {
     "cell_type": "code",
     "collapsed": false,
     "input": [
      "from __future__ import division\n",
      "\n",
      "import math\n",
      "\n",
      "#variable initialisation\n",
      "\n",
      "k=1.52E9                       #Bulk modulus in Pa\n",
      "\n",
      "rho=998                        #relative density\n",
      "\n",
      "D=200                          #Diameter in cm\n",
      "\n",
      "t=10                           #thickness in cm\n",
      "\n",
      "E=2.11E11                      #modulus pf elasticity\n",
      "\n",
      "T=1.25                         #pressure rise\n",
      "\n",
      "L=1000                         #length\n",
      "\n",
      "Pstatic=9.79*250               #Pressure\n",
      "\n",
      "Rd=0.8                         #Relative density\n",
      "\n",
      "Q=0.040                        #discharge \n",
      "\n",
      "#calculation\n",
      "\n",
      "c=((k/(Rd*rho))**(1/2))\n",
      "\n",
      "C=round((((1/(1+(D/t)*(k/E))))**(1/2))*c,4)          #Velocity of pressure wave\n",
      "\n",
      "V0=Q/((math.pi/4)*((D/1000)**2))\n",
      "\n",
      "T0=round((2*L)/C,3)\n",
      "\n",
      "Ph=rho*Rd*C*V0                                       #T=1.25,Hence,water hammer pressure\n",
      "\n",
      "alpha_a=(Ph*D/(2*t))/1000\n",
      "\n",
      "print \"alpha_a=\",round(alpha_a/1000000,4),\"kN/mm^2\"  #Convert into mm\n"
     ],
     "language": "python",
     "metadata": {},
     "outputs": [
      {
       "output_type": "stream",
       "stream": "stdout",
       "text": [
        "alpha_a= 0.0131 kN/mm^2\n"
       ]
      }
     ],
     "prompt_number": 12
    },
    {
     "cell_type": "heading",
     "level": 2,
     "metadata": {},
     "source": [
      "Example 14.24 Page No362"
     ]
    },
    {
     "cell_type": "code",
     "collapsed": false,
     "input": [
      "from __future__ import division\n",
      "\n",
      "import math\n",
      "\n",
      "#variable initialisation\n",
      "\n",
      "k=1E9                          #Bulk modulus in Pa\n",
      "\n",
      "rho=998                        #relative density\n",
      "\n",
      "D=300                          #Diameter in cm\n",
      "\n",
      "t=3                            #thickness in cm\n",
      "\n",
      "E=2.14E11                      #modulus pf elasticity\n",
      "\n",
      "T=1.25                         #pressure rise\n",
      "\n",
      "L=1000                         #length\n",
      "\n",
      "Pstatic=9.79*250               #Pressure\n",
      "\n",
      "Rd=0.82                        #Relative density\n",
      "\n",
      "Q=0.100                        #discharge \n",
      "\n",
      "Sh=160                         #Static head in m\n",
      "\n",
      "alpha_w=1.0E5                  #stress value\n",
      "\n",
      "#calculation\n",
      "\n",
      "c=((k/(Rd*rho))**(1/2))\n",
      "\n",
      "C=round((((1/(1+(D/t)*(k/E))))**(1/2))*c,4)          #Velocity of pressure wave\n",
      "\n",
      "V0=round(Q/((math.pi/4)*((D/1000)**2)),2)\n",
      "\n",
      "T0=round((2*L)/C,3)\n",
      "\n",
      "Ph=round((rho*Rd*C*V0)/1000,2)                       #water hammer pressure\n",
      "\n",
      "Ps=Sh*(9.79*Rd)                                      #Static pressure\n",
      "\n",
      "P=Ps+Ph                                              #Total pressure\n",
      "\n",
      "alpha_a=(Ph*D/(2*t))/1000\n",
      "\n",
      "#As working stress is lower than alpha_w value,valve must be closed with time T>T0\n",
      "\n",
      "Pt=alpha_w*2*t/(D)\n",
      "\n",
      "Phw=Pt-Ps                                            #Allowable hammer pressure in the closure\n",
      "\n",
      "T=T0*(Ph/Phw)\n",
      "\n",
      "#Since this value <1.5,the assumption of slow closure is O.K.\n",
      "\n",
      "print \"Minimum time of closure Tm=\",round(T,2),\"s\""
     ],
     "language": "python",
     "metadata": {},
     "outputs": [
      {
       "output_type": "stream",
       "stream": "stdout",
       "text": [
        "Minimum time of closure Tm= 3.23 s\n"
       ]
      }
     ],
     "prompt_number": 13
    }
   ],
   "metadata": {}
  }
 ]
}