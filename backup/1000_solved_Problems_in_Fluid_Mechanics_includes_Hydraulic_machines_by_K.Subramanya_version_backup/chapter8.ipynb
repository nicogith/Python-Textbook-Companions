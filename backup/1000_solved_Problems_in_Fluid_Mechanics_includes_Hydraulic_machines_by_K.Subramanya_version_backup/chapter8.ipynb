{
 "metadata": {
  "name": "chapter8"
 },
 "nbformat": 3,
 "nbformat_minor": 0,
 "worksheets": [
  {
   "cells": [
    {
     "cell_type": "heading",
     "level": 2,
     "metadata": {},
     "source": "Example 8.8 Page No183"
    },
    {
     "cell_type": "code",
     "collapsed": false,
     "input": "from __future__ import division\n\nimport math\n\n#variable initialisation\n\nU=3.0                  #Velocity in m/s\n\nv=1.45E-5              #velocity of air in m^2/s\n\nrho_a=1.2              #density in kg/m^3\n\nRe=5E+5                #critical reynolds number\n\nw=1.5                  #width in m\n\n#solution\n\nL=round((Re*v)/U,3)               #Maximum Length of plate\n\nprint \"L=\",L,\"m\"\n\nC_df=(1.328)/(math.sqrt(Re))      #length of plate in a laminar sublayer\n\nF_D=C_df*(w*L)*((2*(U**2))/2)     #Drag force in one side of the plate\n\nprint \"F_D=\",round(F_D/100*60,5),\"N\"\n\n",
     "language": "python",
     "metadata": {},
     "outputs": [
      {
       "output_type": "stream",
       "stream": "stdout",
       "text": "L= 2.417 m\nF_D= 0.03677 N\n"
      }
     ],
     "prompt_number": 1
    },
    {
     "cell_type": "code",
     "collapsed": false,
     "input": "",
     "language": "python",
     "metadata": {},
     "outputs": []
    }
   ],
   "metadata": {}
  }
 ]
}