{
 "metadata": {
  "name": "chapter10"
 },
 "nbformat": 3,
 "nbformat_minor": 0,
 "worksheets": [
  {
   "cells": [
    {
     "cell_type": "heading",
     "level": 1,
     "metadata": {},
     "source": "Chapter 10:Turbulent Pipe Flow"
    },
    {
     "cell_type": "heading",
     "level": 2,
     "metadata": {},
     "source": "Example 10.1 Page No216"
    },
    {
     "cell_type": "code",
     "collapsed": false,
     "input": "from __future__ import division\n\nimport math\n\n#variable initialisation\n\nD=2                   #diameter in cm\n\nv=0.0098              #viscosity of water\n\nRe=2000               #Critical Reynolds number\n\nrho=998               #density in kg/m^3\n\n#solution\n\nV=Re*v/10000/(D/100)   #Calculating V\n\nL=(math.pi/4)*((D/100)**2)*V\n\nprint \"The required Largest Discharge\",round(L*1000*60,3),\"L/min\"\n\nf=64/Re\n\nu=V*(math.sqrt(f/8))   #Boundary shear stress\n\ntou=rho*(u**2)\n\nprint \"tou=\",round(tou,4),\"Pa\"",
     "language": "python",
     "metadata": {},
     "outputs": [
      {
       "output_type": "stream",
       "stream": "stdout",
       "text": "The required Largest Discharge 1.847 L/min\ntou= 0.0383 Pa\n"
      }
     ],
     "prompt_number": 1
    },
    {
     "cell_type": "heading",
     "level": 2,
     "metadata": {},
     "source": "Example 10.5 Page No217"
    },
    {
     "cell_type": "code",
     "collapsed": false,
     "input": "from __future__ import division\n\nimport math\n\n#variable initialization\n\nf=0.035          #friction factor\n\nRe=1E+5          #Reynolds number\n\nd=10             #diameter in cm\n\nEs=0.80          #roughness of pipe\n\n#solution\n\nro=(d/2)/100        #Radius in m\n\ndelta=round((65.6*ro)/(Re*math.sqrt(f))*1000,3) #Thickness of lamina sublayer\n\nprint \"delta=\",delta,\"mm\"  \n\nEs_delta=Es/delta   #Calculating Es_delta\n\nprint \"Es_delta=\",round(Es_delta,2)\n\nprint \"This value being less than 6.0 and greater than 0.25,the pipe flow is in transition regime\"\n",
     "language": "python",
     "metadata": {},
     "outputs": [
      {
       "output_type": "stream",
       "stream": "stdout",
       "text": "delta= 0.175 mm\nEs_delta= 4.57\nThis value being less than 6.0 and greater than 0.25,the pipe flow is in transition regime\n"
      }
     ],
     "prompt_number": 5
    }
   ],
   "metadata": {}
  }
 ]
}