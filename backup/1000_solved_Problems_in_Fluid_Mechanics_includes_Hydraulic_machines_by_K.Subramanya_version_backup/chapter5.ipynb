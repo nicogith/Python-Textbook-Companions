{
 "metadata": {
  "name": "",
  "signature": "sha256:4512caad83833b695829ee7e41ead3cce8d9d4f539ab1cf386596a2fbe1c76d0"
 },
 "nbformat": 3,
 "nbformat_minor": 0,
 "worksheets": [
  {
   "cells": [
    {
     "cell_type": "heading",
     "level": 1,
     "metadata": {},
     "source": [
      "Chapter 5:Momentum Equation and Its Applications"
     ]
    },
    {
     "cell_type": "heading",
     "level": 2,
     "metadata": {},
     "source": [
      "Example 5.2 Page No121"
     ]
    },
    {
     "cell_type": "code",
     "collapsed": false,
     "input": [
      "from __future__ import division\n",
      "\n",
      "import math\n",
      "\n",
      "#variable initialisation\n",
      "\n",
      "V1=11 #Velocity in m/s\n",
      "\n",
      "r=0.075 #radius in m\n",
      "\n",
      "Ry=400 #total load  in N\n",
      "\n",
      "rho=800 #oil density in kg/m^3\n",
      "\n",
      "g=9.81 #gravity\n",
      "\n",
      "#Calculation\n",
      "\n",
      "A1=(math.pi/4)*(r**2)\n",
      "\n",
      "Q=A1*V1\n",
      "\n",
      "#since the jet is issuing into atmosphere p1=p2=0\n",
      "\n",
      "#h=equilibrium height of the plane above 1,V2=velocity of the plate just before impact\n",
      "\n",
      "#Ry=rho*Q*V1**2\n",
      "\n",
      "h=(((Ry/(rho*Q))**2)-(V1**2))/(-(2*g))\n",
      "\n",
      "print \"The equilibrium height of the plate is\",round(h,3),\"m\"\n"
     ],
     "language": "python",
     "metadata": {},
     "outputs": [
      {
       "output_type": "stream",
       "stream": "stdout",
       "text": [
        "The equilibrium height of the plate is 0.772 m\n"
       ]
      }
     ],
     "prompt_number": 1
    },
    {
     "cell_type": "heading",
     "level": 2,
     "metadata": {},
     "source": [
      "Example 5.6 Page No124"
     ]
    },
    {
     "cell_type": "code",
     "collapsed": false,
     "input": [
      "from __future__ import division\n",
      "\n",
      "import math\n",
      "\n",
      "#variable initialisation\n",
      "\n",
      "Q=0.06                         #discharge in m^3/s\n",
      "\n",
      "D1=15                          #Diameter 1 in cm\n",
      "\n",
      "D2=5                           #Diameter 2 in cm\n",
      "\n",
      "ga=9.79                        #unit length of water in kN/m^3\n",
      "\n",
      "g=9.81                         #gravity\n",
      "\n",
      "rho= 998                       #relative density\n",
      "\n",
      "#Calculation\n",
      "\n",
      "A2=((math.pi)/4)*((D2/100)**2)\n",
      "\n",
      "V2=Q/A2\n",
      "\n",
      "V1=V2*((D2/D1)**2)\n",
      "\n",
      "#By applying Bernoullis equation to sections 1 and 2,by assuming the bend to be in the horizontal plane,\n",
      "\n",
      "p1=round(((((V2**2)/(2*g))-((V1**2)/(2*g)))*ga),1)\n",
      "\n",
      "#By momentum equation in the x-direction,\n",
      "\n",
      "A1=((math.pi)/4)*((D1/100)**2)\n",
      "\n",
      "Rx=rho*Q*(V2-(-V1))+((p1*1000)*A1)\n",
      "\n",
      "#The force exerted by the fluid on the pipe,and hence on the bolts in section1,is equal and opposite to Rx.\n",
      "\n",
      "print \"F=\",int(Rx),\" N and acts to the left,i.e. in the negative x-direction,as a pull (tension) on the joint.\"\n"
     ],
     "language": "python",
     "metadata": {},
     "outputs": [
      {
       "output_type": "stream",
       "stream": "stdout",
       "text": [
        "F= 10165  N and acts to the left,i.e. in the negative x-direction,as a pull (tension) on the joint.\n"
       ]
      }
     ],
     "prompt_number": 2
    },
    {
     "cell_type": "heading",
     "level": 2,
     "metadata": {},
     "source": [
      "Example 5.9 Page No125"
     ]
    },
    {
     "cell_type": "code",
     "collapsed": false,
     "input": [
      "from __future__ import division\n",
      "\n",
      "import math\n",
      "\n",
      "#variable initialisation\n",
      "\n",
      "D1=0.5                         #diameter in m\n",
      "\n",
      "D2=0.25                        #diameter in m\n",
      "\n",
      "ga=9.79                        #unit length of water in kN/m^3\n",
      "\n",
      "g=9.81                         #gravity\n",
      "\n",
      "p1=15.0                        #pressure at section 1 in kPa\n",
      "\n",
      "h=2                            #height in m\n",
      "\n",
      "rho=0.998                      #relative density\n",
      "\n",
      "Q=0.5                          #discharge in m\n",
      "\n",
      "#Calculation\n",
      "\n",
      "A1=(math.pi/4)*(D1**2)\n",
      "\n",
      "A2=(math.pi/4)*(D2**2)\n",
      "\n",
      "V1=D1/A1                                                           #Velocities at section 1 and 2\n",
      "\n",
      "print \"(i)V1=\",round(V1,3),\"m/s\"\n",
      "\n",
      "V2=D1/A2\n",
      "\n",
      "print \"V2=\",round(V2,3),\"m/s\"\n",
      "\n",
      "#By applying Bernoullis theorem to sections 1 and 2,\n",
      "\n",
      "p2=(((p1/ga)+(V1**2)/(2*g))-(h+(V2**2)/(2*g)))*ga                  #Calculating pressure at section 2\n",
      "\n",
      "print \"(ii)P2=\",round(p2,3),\"kPa(guage)\"\n",
      "\n",
      "#Now,consider a control volume.\n",
      "\n",
      "r1=D1/2\n",
      "\n",
      "r2=D2/2\n",
      "\n",
      "#weight of water in the control volume which is in the shape of frustum of cone\n",
      "\n",
      "W=round((ga*(math.pi/3))*(h*((r1**2)+(r1*r2)+(r2**2))),3)\n",
      "\n",
      "#Applying linear momentum equation in the vertical direction to cv\n",
      "\n",
      "#reaction force on the water in the control volume\n",
      "\n",
      "Ry=round((rho*Q*(V2-V1))-(-W+(p1*A1)+(-p2*A2)),3)\n",
      "\n",
      "#F=Net force on the nozzle walls is equal and opposite to Ry\n",
      "\n",
      "print \"(iii)F=\",Ry,\"kN acting vertically downwards\""
     ],
     "language": "python",
     "metadata": {},
     "outputs": [
      {
       "output_type": "stream",
       "stream": "stdout",
       "text": [
        "(i)V1= 2.546 m/s\n",
        "V2= 10.186 m/s\n",
        "(ii)P2= -53.115 kPa(guage)\n",
        "(iii)F= 0.503 kN acting vertically downwards\n"
       ]
      }
     ],
     "prompt_number": 4
    },
    {
     "cell_type": "heading",
     "level": 2,
     "metadata": {},
     "source": [
      "Example 5.16 Page No129"
     ]
    },
    {
     "cell_type": "code",
     "collapsed": false,
     "input": [
      "from __future__ import division\n",
      "\n",
      "import math\n",
      "\n",
      "#variable initialisation\n",
      "\n",
      "A1=0.01                  #Area of cross section 1 in m^2\n",
      "\n",
      "V1=20                    #velocity1 in m/s\n",
      "\n",
      "V2=10                    #velocity2 in m/s\n",
      "\n",
      "A2=0.02                  #Area of cross section 2 in m^2\n",
      "\n",
      "rho=1000                 #density of water in kg/m^3\n",
      "\n",
      "#Calculation\n",
      "\n",
      "Q1=V1*A1\n",
      "\n",
      "Q2=V2*(A2-A1)\n",
      "\n",
      "Q=Q1+Q2                  #total flow\n",
      "\n",
      "V3=Q/A2                  #velocity 3\n",
      "\n",
      "#By momentum equation in the x-direction:\n",
      "\n",
      "#p1*A2-p2*A2=Mout-Min\n",
      "\n",
      "#let us take (p1-p2) as a\n",
      "\n",
      "a=(-(rho*((Q*V3)-(Q1*V1)-(Q2*V2)))/A2)\n",
      "\n",
      "print \"(p2-p1)=\",round(a/1000,0),\"kPa\"\n",
      "\n"
     ],
     "language": "python",
     "metadata": {},
     "outputs": [
      {
       "output_type": "stream",
       "stream": "stdout",
       "text": [
        "(p2-p1)= 25.0 kPa\n"
       ]
      }
     ],
     "prompt_number": 7
    },
    {
     "cell_type": "heading",
     "level": 2,
     "metadata": {},
     "source": [
      "Example 5.18 Page No130"
     ]
    },
    {
     "cell_type": "code",
     "collapsed": false,
     "input": [
      "from __future__ import division\n",
      "\n",
      "import math\n",
      "\n",
      "#variable initialisation\n",
      "\n",
      "D=1                         #diameter in cm\n",
      "\n",
      "Q=2500                      #discharge in cm^3/s\n",
      "\n",
      "r=0.30                      #radius in m\n",
      "\n",
      "#Calculation\n",
      "\n",
      "a=round((math.pi/4)*(D**2),4)\n",
      "\n",
      "print \"answer calculated in this book for V2 is wrong.It should be as follows,\"\n",
      "\n",
      "V2=(Q/(2*a))/100\n",
      "\n",
      "print \"V2=\",round(V2,2),\"m/s\"  #relative velocity of jet\n",
      "\n",
      "#T=-rho*Q*r(U2-V2)             #Torque\n",
      "\n",
      "omega=V2/r                     #angular velocity\n",
      "\n",
      "print \"omega\",round(omega,2),\"rad./s\"\n",
      "\n",
      "N=(omega/(2*math.pi))*60       #Speed of rotation per minute,\n",
      "\n",
      "print \"N=\",round(N,1),\"rpm\""
     ],
     "language": "python",
     "metadata": {},
     "outputs": [
      {
       "output_type": "stream",
       "stream": "stdout",
       "text": [
        "answer calculated in this book for V2 is wrong.It should be as follows,\n",
        "V2= 15.92 m/s\n",
        "omega 53.05 rad./s\n",
        "N= 506.6 rpm\n"
       ]
      }
     ],
     "prompt_number": 8
    },
    {
     "cell_type": "heading",
     "level": 2,
     "metadata": {},
     "source": [
      "Example 5.19 Page No130"
     ]
    },
    {
     "cell_type": "code",
     "collapsed": false,
     "input": [
      "from __future__ import division\n",
      "\n",
      "import math\n",
      "\n",
      "#variable initialisation\n",
      "\n",
      "rho=998                #relative density of water in kg/m^3\n",
      "\n",
      "Q=2.5                  #discharge in L/s\n",
      "\n",
      "D=1                    #diameter in cm\n",
      "\n",
      "r=0.30                 #radius in cm\n",
      "\n",
      "#calculation\n",
      "\n",
      "a=round((math.pi/4)*(D**2),4)\n",
      "\n",
      "print \"answer calculated in this book for V2 is wrong.It should be as follows,\"\n",
      "\n",
      "V2=((Q*1000)/(2*a))/100\n",
      "\n",
      "print \"V2=\",round(V2,2),\"m/s\"  #relative velocity of jet\n",
      "\n",
      "To=rho*Q*r*V2                  #when the sprinkler is stationary\n",
      "\n",
      "print \"Torque To=\",round((To)/1000,2),\"N.m\"\n"
     ],
     "language": "python",
     "metadata": {},
     "outputs": [
      {
       "output_type": "stream",
       "stream": "stdout",
       "text": [
        "answer calculated in this book for V2 is wrong.It should be as follows,\n",
        "V2= 15.92 m/s\n",
        "Torque To= 11.91 N.m\n"
       ]
      }
     ],
     "prompt_number": 10
    },
    {
     "cell_type": "heading",
     "level": 2,
     "metadata": {},
     "source": [
      "Example 5.22 Page No131"
     ]
    },
    {
     "cell_type": "code",
     "collapsed": false,
     "input": [
      "from __future__ import division\n",
      "\n",
      "import math\n",
      "\n",
      "#variable initialisation\n",
      "\n",
      "Q=1.5                     #discharge in L/s\n",
      "\n",
      "A=0.8                     #area in cm^2\n",
      "\n",
      "V2=9.375                  #relative velocity in m/s\n",
      "\n",
      "V3=9.375                  #relative velocity in m/s\n",
      "\n",
      "r3=0.4                    #radius in cm\n",
      "\n",
      "r2=0.3                    #radius in cm\n",
      "\n",
      "rho=998                   #density of water in kg/m^3\n",
      "\n",
      "#calculation\n",
      "\n",
      "Qn=Q/2\n",
      "\n",
      "V=(Q*1000)/(A*2)\n",
      "\n",
      "#absolute velocity,V2=v2+omega*r2\n",
      "\n",
      "#V3=v3-omega-omega*r3\n",
      "\n",
      "#r2V2=r3V3,for zero frictional resistance\n",
      "\n",
      "omega=(r3*V2-r2*V2)/(r3*r3+r2*r2)\n",
      "\n",
      "N=(omega*60)/(math.pi*2)\n",
      "\n",
      "print \"(i)Torque on the arm\"\n",
      "\n",
      "print \"N=\",round(N,2),\"rpm\"\n",
      "\n",
      "To=(-rho*Qn*(-r3*V3+r2*V2))/1000\n",
      "\n",
      "print \"(ii)When the arm is stationary\"\n",
      "\n",
      "print \"To=\",round(To,3),\"N.m\"\n"
     ],
     "language": "python",
     "metadata": {},
     "outputs": [
      {
       "output_type": "stream",
       "stream": "stdout",
       "text": [
        "(i)Torque on the arm\n",
        "N= 35.81 rpm\n",
        "(ii)When the arm is stationary\n",
        "To= 0.702 N.m\n"
       ]
      }
     ],
     "prompt_number": 11
    }
   ],
   "metadata": {}
  }
 ]
}