{
 "metadata": {
  "name": "",
  "signature": "sha256:9c660e9d97dd87e451372acab037edaf245a1e1285c7a23634062392e2bc2073"
 },
 "nbformat": 3,
 "nbformat_minor": 0,
 "worksheets": [
  {
   "cells": [
    {
     "cell_type": "heading",
     "level": 1,
     "metadata": {},
     "source": [
      "Chapter 6:Dimensional Analysis and Similitude"
     ]
    },
    {
     "cell_type": "heading",
     "level": 2,
     "metadata": {},
     "source": [
      "Example 6.2 Page No143"
     ]
    },
    {
     "cell_type": "code",
     "collapsed": false,
     "input": [
      "from __future__ import division\n",
      "\n",
      "import math\n",
      "\n",
      "from sympy import *\n",
      "\n",
      "#Variable Initialisation\n",
      "\n",
      "q = Symbol('q')\n",
      "\n",
      "q=0.305                              #value of one feet\n",
      "\n",
      "#Calculation\n",
      "\n",
      "p=2.67*sqrt(q)\n",
      "\n",
      "#Rewriting the given equation\n",
      "\n",
      "#2.67=p/sqrt(q)\n",
      "\n",
      "#in terms of dimensions,\n",
      "\n",
      "p=2.67*(q)**(-1/2)\n",
      "\n",
      "print\"The formula in SI units would now read as,P=\",round(p,2),\"*sqrt(q)\"\n"
     ],
     "language": "python",
     "metadata": {},
     "outputs": [
      {
       "output_type": "stream",
       "stream": "stdout",
       "text": [
        "The formula in SI units would now read as,P= 4.83 *sqrt(q)\n"
       ]
      }
     ],
     "prompt_number": 2
    },
    {
     "cell_type": "heading",
     "level": 2,
     "metadata": {},
     "source": [
      "Example 6.13 Page No147"
     ]
    },
    {
     "cell_type": "code",
     "collapsed": false,
     "input": [
      "from __future__ import division\n",
      "\n",
      "import math\n",
      "\n",
      "#variable initialisation\n",
      "\n",
      "Lr=1/50                         #size of model\n",
      "\n",
      "Qm=1.25                         #discharge in m^3/s\n",
      "\n",
      "tp=12                           #time taken by prototype\n",
      "\n",
      "#Calculation\n",
      "\n",
      "#Frm=Vm/math.sqrt(g*Lm)\n",
      "\n",
      "Qp=(1/Lr)**(2.5)*Qm             #Prorotype ratio\n",
      "\n",
      "print \"Qp=\",int(Qp),\"m^3/s\"\n",
      "\n",
      "#Tr=Lr/Vr                       #Time ratio\n",
      "\n",
      "tm=tp/math.sqrt(1/Lr)\n",
      "\n",
      "print \"tm=\",round(tm,3),\"hours\"\n"
     ],
     "language": "python",
     "metadata": {},
     "outputs": [
      {
       "output_type": "stream",
       "stream": "stdout",
       "text": [
        "Qp= 22097 m^3/s\n",
        "tm= 1.697 hours\n"
       ]
      }
     ],
     "prompt_number": 6
    },
    {
     "cell_type": "heading",
     "level": 2,
     "metadata": {},
     "source": [
      "Example 6.14 Page No147"
     ]
    },
    {
     "cell_type": "code",
     "collapsed": false,
     "input": [
      "from __future__ import division\n",
      "\n",
      "import math\n",
      "\n",
      "#variable initialisation\n",
      "\n",
      "Lr=1/100                    #size of prototype\n",
      "\n",
      "Fm=0.12                     #resistance in N\n",
      "\n",
      "rhor=1                      #relative density\n",
      "\n",
      "#Calculation\n",
      "\n",
      "#resistance is the significant force and is appropriate by froude's law.\n",
      "\n",
      "#Frm=Vm/math.sqrt(g*Lm)\n",
      "\n",
      "#Vr=math.sqrt(Lr)\n",
      "\n",
      "Fp=(Fm/(Lr)**3*rhor)/1000   #Prototype force\n",
      "\n",
      "print \"Fp=\",(Fp),\"kN\"\n"
     ],
     "language": "python",
     "metadata": {},
     "outputs": [
      {
       "output_type": "stream",
       "stream": "stdout",
       "text": [
        "Fp= 120.0 kN\n"
       ]
      }
     ],
     "prompt_number": 5
    },
    {
     "cell_type": "heading",
     "level": 2,
     "metadata": {},
     "source": [
      "Example 6.15 Page No147"
     ]
    },
    {
     "cell_type": "code",
     "collapsed": false,
     "input": [
      "from sympy import *\n",
      "\n",
      "x,Lr=symbols(\"x Lr\")\n",
      "\n",
      "from __future__ import division\n",
      "\n",
      "import math\n",
      "\n",
      "#variable initialisation\n",
      "\n",
      "Lr=1/100                          #size of prototype\n",
      "\n",
      "nm=0.013                          #Manning's n\n",
      "\n",
      "#Calculation\n",
      "\n",
      "#froude model law is applicable\n",
      "\n",
      "#Frm=Vm/math.sqrt(g*Lm)\n",
      "\n",
      "a=Lr**(2/3)                      #By mannings formula,\n",
      "\n",
      "s=Lr**(1/2)\n",
      "\n",
      "x=cancel(a/s)                    #simplifying \n",
      "\n",
      "np=nm/x                          #prototype roughness coefficient\n",
      "\n",
      "print \"np=\",round(np,3)\n"
     ],
     "language": "python",
     "metadata": {},
     "outputs": [
      {
       "output_type": "stream",
       "stream": "stdout",
       "text": [
        "np= 0.028\n"
       ]
      }
     ],
     "prompt_number": 7
    },
    {
     "cell_type": "heading",
     "level": 2,
     "metadata": {},
     "source": [
      "Example 6.16 Page No147"
     ]
    },
    {
     "cell_type": "code",
     "collapsed": false,
     "input": [
      "from __future__ import division\n",
      "\n",
      "import math\n",
      "\n",
      "#variable initialisation\n",
      "\n",
      "Lr=1/20                          #size of prototype\n",
      "\n",
      "Vm=1.5                           #velocity in m/s                       \n",
      "\n",
      "qm=0.20                          #unit width in m^3/s\n",
      "\n",
      "Pm=5                             #model pressure head in cm\n",
      "\n",
      "#Calculation\n",
      "\n",
      "Vp=round(Vm/math.sqrt(Lr),2)     #Prototype velocity\n",
      "\n",
      "print \"Vp=\",Vp,\"m/s\"\n",
      "\n",
      "#qr=Qr/Lr\n",
      "\n",
      "qp=round(qm/(Lr)**(3/2),2)       #prototype discharge\n",
      "\n",
      "print \"qp=\",qp,\"m^3/s/m\"\n",
      "\n",
      "#Assuming rho_r=1,hence,Pr=Lr\n",
      "\n",
      "Pp=Pm/Lr                         #pressure head in prototype\n",
      "\n",
      "print \"Pp=\",Pp,\"cm of mercury\"\n",
      "\n",
      "#Power ratio=(energy loss/second)\n",
      "\n",
      "Pm=Pp*10*Lr**(7/2)                  #Energy dissipated\n",
      "\n",
      "print \"Pm=\",round(Pm,3),\"W\"\n"
     ],
     "language": "python",
     "metadata": {},
     "outputs": [
      {
       "output_type": "stream",
       "stream": "stdout",
       "text": [
        "Vp= 6.71 m/s\n",
        "qp= 17.89 m^3/s/m\n",
        "Pp= 100.0 cm of mercury\n",
        "Pm= 0.028 W\n"
       ]
      }
     ],
     "prompt_number": 9
    },
    {
     "cell_type": "heading",
     "level": 2,
     "metadata": {},
     "source": [
      "Example 6.17 Page No148"
     ]
    },
    {
     "cell_type": "code",
     "collapsed": false,
     "input": [
      "from __future__ import division\n",
      "\n",
      "import math\n",
      "\n",
      "#variable initialisation\n",
      "\n",
      "rho_p=917    #density in kg/m^3\n",
      "\n",
      "mu_p=0.29    #viscosity in Pa.s\n",
      "\n",
      "L_p=15.0     #diameter in cm\n",
      "\n",
      "V_p=2        #velocity of pipe\n",
      "\n",
      "rho_m=998    #density in kg/m^3\n",
      "\n",
      "L_m=1.0      #diameter in cm\n",
      "\n",
      "mu_m=1.31E-3 #viscosity in Pa.s\n",
      "\n",
      "#solution\n",
      "\n",
      "#Reynold's similarity law of applicable,referring oil with p and water with m\n",
      "\n",
      "m=round((mu_m/mu_p)*(1)/((L_m/L_p)*(rho_m)/(rho_p)),4)\n",
      "\n",
      "V_m=V_p*m     #velocity of water flow\n",
      "\n",
      "print \"V_m=\",V_m,\"m/s\"\n"
     ],
     "language": "python",
     "metadata": {},
     "outputs": [
      {
       "output_type": "stream",
       "stream": "stdout",
       "text": [
        "V_m= 0.1246 m/s\n"
       ]
      }
     ],
     "prompt_number": 8
    },
    {
     "cell_type": "heading",
     "level": 2,
     "metadata": {},
     "source": [
      "Example 6.18 Page No148"
     ]
    },
    {
     "cell_type": "code",
     "collapsed": false,
     "input": [
      "from __future__ import division\n",
      "\n",
      "import math\n",
      "\n",
      "#variable initialisation\n",
      "\n",
      "V_p=60      #velocity in Km/h\n",
      "\n",
      "F_m=250     #model drag\n",
      "\n",
      "mu_r=1      #viscosity\n",
      "\n",
      "rho_r=1     #density in in kg/m^3\n",
      "\n",
      "#solution\n",
      "\n",
      "#Reynold's similarity law is applicable\n",
      "\n",
      "#V_r=vr/L_r\n",
      "\n",
      "#If vr=1,then V_r=1/L_r\n",
      "\n",
      "L_r=6 \n",
      "\n",
      "V_m=((V_p*L_r)*1000)/3600      #V_m in m/s\n",
      "\n",
      "#using force ratio,Fm/Fp=(mu_r**2)/rho_r\n",
      "\n",
      "#Fm/Fp=1.0\n",
      "\n",
      "Fp=F_m/((mu_r*mu_r))/rho_r     #drag required\n",
      "\n",
      "print \"Fp=\",int(Fp),\"N(same as in the model)\"\n",
      "\n",
      "V_p=(V_p*1000)/(3600)          #V_m in m/s\n",
      "\n",
      "Pp=Fp*V_p                      #power to overcome drag in the prototype\n",
      "\n",
      "print \"Pp=\",math.ceil(Pp)/1000,\"kW\""
     ],
     "language": "python",
     "metadata": {},
     "outputs": [
      {
       "output_type": "stream",
       "stream": "stdout",
       "text": [
        "Fp= 250 N(same as in the model)\n",
        "Pp= 4.167 kW\n"
       ]
      }
     ],
     "prompt_number": 10
    },
    {
     "cell_type": "heading",
     "level": 2,
     "metadata": {},
     "source": [
      "Example 6.19 Page No149"
     ]
    },
    {
     "cell_type": "code",
     "collapsed": false,
     "input": [
      "from __future__ import division\n",
      "\n",
      "import math\n",
      "\n",
      "#variable initialisation\n",
      "\n",
      "Vr=1E-3                              #Viscosity in Pa.s\n",
      "\n",
      "Vp=0.104                             #viscosity of prototype in Pa.s\n",
      "\n",
      "rho_p=900                            #density of prototype in kg/m^3\n",
      "\n",
      "Lr=1/6                               #size of prototype\n",
      "\n",
      "Pm=450                               #Pressure drop in Pa\n",
      "\n",
      "Qp=200                               #Prototype discharge\n",
      "\n",
      "#Calculation\n",
      "\n",
      "#Reynolds model law is applicable,\n",
      "\n",
      "mu_r=Vr/Vp\n",
      "\n",
      "rho_r=998/rho_p\n",
      "\n",
      "Pr=(mu_r)**2/(Lr**2*rho_r)\n",
      "\n",
      "rh_p=(Pm/Pr)/1000                    #Prototype pressure drop\n",
      "\n",
      "print \"rho_p=\",round(rh_p,0),\"kPa\"\n",
      "\n",
      "Qr=(mu_r)*Lr/rho_r\n",
      "\n",
      "Qm=Qp*Qr                             #model discharge\n",
      "\n",
      "print \"Qm=\",round(Qm,3),\"L/s\"\n",
      "\n"
     ],
     "language": "python",
     "metadata": {},
     "outputs": [
      {
       "output_type": "stream",
       "stream": "stdout",
       "text": [
        "rho_p= 150.0 kPa\n",
        "Qm= 0.289 L/s\n"
       ]
      }
     ],
     "prompt_number": 11
    },
    {
     "cell_type": "heading",
     "level": 2,
     "metadata": {},
     "source": [
      "Example 6.20 Page No149"
     ]
    },
    {
     "cell_type": "code",
     "collapsed": false,
     "input": [
      "from __future__ import division\n",
      "\n",
      "import math\n",
      "\n",
      "#variable initialisation\n",
      "\n",
      "Lm=0.30                         #length of model in m\n",
      "\n",
      "Lp=1.50                         #Elength of device in m\n",
      "\n",
      "Vm=35                           #Velocity of model in m/s\n",
      "\n",
      "Vp=3.5                          #Velocity of prototype in m/s\n",
      "\n",
      "mu_m=1.90E5                     #relative density in Pa.s\n",
      "\n",
      "mu_p=1E-3                       #relative density in Pa.s\n",
      "\n",
      "P=1.17                          #atmospheric pressure in kg/m^3\n",
      "\n",
      "Fm=40                           #drag force in N\n",
      "\n",
      "#Calculation\n",
      "\n",
      "#Reynolds model law is applicable\n",
      "\n",
      "a=1E-6\n",
      "\n",
      "Lr=Lm/Lp                        #prototype length\n",
      "\n",
      "Vr=Vm/Vp                        #prototype velocity\n",
      "\n",
      "mu_r=mu_m/mu_p*a\n",
      "\n",
      "rho_r=mu_r/(Vr*Lr)/10000        #prototype density\n",
      "\n",
      "rho_air=(998*rho_r)             #density of air\n",
      "\n",
      "print \"rho_air=\",rho_air\n",
      "\n",
      "#This is 8 times larger than the density at atmospheric pressure.\n",
      "\n",
      "P_model=rho_air/P\n",
      "\n",
      "print round(P_model,3),\"times local atmospheric pressure\"\n",
      "\n",
      "Fr=mu_r**2/rho_r*a/100          #Force ratio\n",
      "\n",
      "Fp=Fm/Fr                        #Drag force of prototype\n",
      "\n",
      "print \"Fp=\",round(Fp/1000,3),\"kN\"\n"
     ],
     "language": "python",
     "metadata": {},
     "outputs": [
      {
       "output_type": "stream",
       "stream": "stdout",
       "text": [
        "rho_air= 9.481\n",
        "8.103 times local atmospheric pressure\n",
        "Fp= 1.053 kN\n"
       ]
      }
     ],
     "prompt_number": 12
    },
    {
     "cell_type": "heading",
     "level": 2,
     "metadata": {},
     "source": [
      "Example 6.21 Page No149"
     ]
    },
    {
     "cell_type": "code",
     "collapsed": false,
     "input": [
      "import math\n",
      "\n",
      "#variable initialisation\n",
      "\n",
      "D_p=1.5           #Diameter in m\n",
      "\n",
      "rd=0.9            #relative density\n",
      "\n",
      "v_p=0.03          #viscosity in stoke\n",
      "\n",
      "Q=3.0             #rate\n",
      "\n",
      "D_m=0.15          #diameter2 in m\n",
      "\n",
      "V_m=0.01          #viscosity2 in stoke \n",
      "\n",
      "#solution\n",
      "\n",
      "#Reynolds number must be the same in the model and prototype for similar pipe flows\n",
      "\n",
      "V_p=round((Q)/((math.pi/4)*(1.5*1.5)),4)\n",
      "\n",
      "V_m=V_p*(D_p/D_m)*(V_m/v_p) \n",
      "\n",
      "print \"V_m=\",V_m,\"m/s\"\n",
      "\n",
      "Q_m=(math.pi/4)*(D_m**2)*(V_m)   #Discharge in the model\n",
      "\n",
      "print \"Q_m=\",round(Q_m,1),\"m^3/s\"\n"
     ],
     "language": "python",
     "metadata": {},
     "outputs": [
      {
       "output_type": "stream",
       "stream": "stdout",
       "text": [
        "V_m= 5.659 m/s\n",
        "Q_m= 0.1 m^3/s\n"
       ]
      }
     ],
     "prompt_number": 13
    },
    {
     "cell_type": "heading",
     "level": 2,
     "metadata": {},
     "source": [
      "Example 6.22 Page No150"
     ]
    },
    {
     "cell_type": "code",
     "collapsed": false,
     "input": [
      "from __future__ import division\n",
      "\n",
      "import math\n",
      "\n",
      "#variable initialisation\n",
      "\n",
      "Lr=1/10                          #model length\n",
      "\n",
      "mu_r=400                         #speed of prototype in km/h\n",
      "\n",
      "rho_r=10                         #density \n",
      "\n",
      "Vr=1                             #model velocity\n",
      "\n",
      "Vp=1                             #prototype velocity\n",
      "\n",
      "Fm=500                           #Force ratio\n",
      "\n",
      "fm=25                            #Frequency in Hz\n",
      "\n",
      "#Calculation\n",
      "\n",
      "#Reynolds number and prototype is same in this model.\n",
      "\n",
      "Vm=Vp*mu_r/(rho_r*Lr)            #Velocity in m/s\n",
      "\n",
      "print \"Vm=\",Vm,\"km/h\"\n",
      "\n",
      "#Model Velocity is the same as prototype velocity\n",
      "\n",
      "Fr=Lr**2*rho_r*Vr**2             #Force ratio\n",
      "\n",
      "Fp=Fm/Fr\n",
      "\n",
      "print \"Fp=\",Fp,\"N\"\n",
      "\n",
      "Fr=Fm/Fp\n",
      "\n",
      "Fp=fm/10                        #Prototype frequency\n",
      "\n",
      "print \"Fp=\",Fp,\"Hz\""
     ],
     "language": "python",
     "metadata": {},
     "outputs": [
      {
       "output_type": "stream",
       "stream": "stdout",
       "text": [
        "Vm= 400.0 km/h\n",
        "Fp= 5000.0 N\n",
        "Fp= 2.5 Hz\n"
       ]
      }
     ],
     "prompt_number": 16
    },
    {
     "cell_type": "heading",
     "level": 2,
     "metadata": {},
     "source": [
      "Example 6.25 Page No151"
     ]
    },
    {
     "cell_type": "code",
     "collapsed": false,
     "input": [
      "from __future__ import division\n",
      "\n",
      "import math\n",
      "\n",
      "#variable initialisation\n",
      "\n",
      "L_r=1/200      #horizontal scale\n",
      "\n",
      "h_r=1/40       #vertical scale\n",
      "\n",
      "Q_p=152        #normal discharge in m^3/s\n",
      "\n",
      "y_p=2.0        #depth in metres\n",
      "\n",
      "B_p=90         #width in metres\n",
      "\n",
      "n_p=0.025      #roughness value\n",
      "\n",
      "#solution\n",
      "\n",
      "L_r=1/200\n",
      "\n",
      "h_r=1/40\n",
      "\n",
      "h=math.sqrt(h_r)\n",
      "  \n",
      "Q_m=Q_p*L_r*h*h_r*10                   #Discharge    \n",
      "\n",
      "print \"(i)Qm=\",round(Q_m,2),\"m^3/s\"\n",
      "\n",
      "y_m=y_p*h_r                            #Depth\n",
      "\n",
      "print \"(ii) ym=\",y_m,\"m\"\n",
      "\n",
      "B_m=B_p*L_r                            #Width\n",
      "\n",
      "print \"(iii)Bm=\",B_m/10,\"m\"\n",
      " \n",
      "a=math.pow(h_r,2/3)                    #Manning's n_m\n",
      "\n",
      "b=math.sqrt(L_r)*L_r\n",
      "\n",
      "n_m=((n_p)*(math.pow(h_r,2/3)))/(math.pow(L_r,1/2))\n",
      "\n",
      "print \"(iv) n_m=\",round(n_m,2)\n"
     ],
     "language": "python",
     "metadata": {},
     "outputs": [
      {
       "output_type": "stream",
       "stream": "stdout",
       "text": [
        "(i)Qm= 0.03 m^3/s\n",
        "(ii) ym= 0.05 m\n",
        "(iii)Bm= 0.045 m\n",
        "(iv) n_m= 0.03\n"
       ]
      }
     ],
     "prompt_number": 17
    },
    {
     "cell_type": "heading",
     "level": 2,
     "metadata": {},
     "source": [
      "Example 6.26 Page No151"
     ]
    },
    {
     "cell_type": "code",
     "collapsed": false,
     "input": [
      "from __future__ import division\n",
      "\n",
      "import math\n",
      "\n",
      "#variable initialisation\n",
      "\n",
      "L_r=1/500      #horizontal scale ratio\n",
      "\n",
      "h_r=1/50       #vertical scale ratio\n",
      "\n",
      "T_p=12         #time period\n",
      "\n",
      "#Calculation\n",
      "\n",
      "h_r=1/50\n",
      "\n",
      "L_r=1/500\n",
      "\n",
      "a=(math.sqrt(h_r))\n",
      "\n",
      "T_r=round((L_r)/(a),5)  #Time ratio\n",
      "\n",
      "T_p=12*60*60            #model period\n",
      "\n",
      "T_m=T_p*T_r\n",
      "\n",
      "a=T_m/60                #To separate minutes and seconds\n",
      "\n",
      "b=T_m%60\n",
      "\n",
      "print \"Model Period T_m =\",int(a),\"minutes\",int(b),\"seconds\"\n",
      " \n"
     ],
     "language": "python",
     "metadata": {},
     "outputs": [
      {
       "output_type": "stream",
       "stream": "stdout",
       "text": [
        "Model Period T_m = 10 minutes 10 seconds\n"
       ]
      }
     ],
     "prompt_number": 18
    },
    {
     "cell_type": "heading",
     "level": 2,
     "metadata": {},
     "source": [
      "Example 6.27 Page No151"
     ]
    },
    {
     "cell_type": "code",
     "collapsed": false,
     "input": [
      "from __future__ import division\n",
      "\n",
      "import math\n",
      "\n",
      "#variable initialisation\n",
      "\n",
      "L_r=1/250      #horizontal scale\n",
      "\n",
      "h_r=1/25       #vertical scale\n",
      "\n",
      "S_p=0.0002     #prototype slope\n",
      "\n",
      "V_m=0.50       #velocity in m/s\n",
      "\n",
      "Q_m=0.02       #discharge in m^3/s\n",
      "\n",
      "#solution\n",
      "\n",
      "h_r=1/25\n",
      "\n",
      "L_r=1/250\n",
      "\n",
      "S_r=h_r/L_r\n",
      "\n",
      "S_m=round((S_p)*(S_r),3) #Slope ratio \n",
      "\n",
      "print \"(i)S_m=\",S_m\n",
      "\n",
      "V_r=math.sqrt(h_r)\n",
      "\n",
      "V_p=V_m/V_r              #Velocity ratio\n",
      "\n",
      "print \"(ii)V_p=\", V_p,\"r\"\n",
      "\n",
      "Q_p=(L_r)*(math.sqrt(h_r))*(h_r)\n",
      "\n",
      "Q_p=(Q_m)/(Q_p)          #Discharge ratio\n",
      "\n",
      "print \"(iii)Q_p=\",int(round(Q_p,1)),\"m^3/s\"\n"
     ],
     "language": "python",
     "metadata": {},
     "outputs": [
      {
       "output_type": "stream",
       "stream": "stdout",
       "text": [
        "(i)S_m= 0.002\n",
        "(ii)V_p= 2.5 r\n",
        "(iii)Q_p= 625 m^3/s\n"
       ]
      }
     ],
     "prompt_number": 19
    }
   ],
   "metadata": {}
  }
 ]
}