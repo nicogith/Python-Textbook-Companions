{
 "metadata": {
  "name": "",
  "signature": "sha256:6d4bf73c597c8573d7c2f8189f4ea310f5f931d31ffa57ef03b6b5acfe2cd6e1"
 },
 "nbformat": 3,
 "nbformat_minor": 0,
 "worksheets": [
  {
   "cells": [
    {
     "cell_type": "heading",
     "level": 1,
     "metadata": {},
     "source": [
      "Chapter 16:Fluid Flow Machines"
     ]
    },
    {
     "cell_type": "heading",
     "level": 2,
     "metadata": {},
     "source": [
      "Example 16.8 Page No408"
     ]
    },
    {
     "cell_type": "code",
     "collapsed": false,
     "input": [
      "from __future__ import division\n",
      "\n",
      "import math\n",
      "\n",
      "#variable initialization\n",
      "\n",
      "Ht=H=30                            #Height\n",
      "\n",
      "Sp=2.0                             #speed ratio\n",
      "\n",
      "Db=0.35                            #Diameter of the boss\n",
      "\n",
      "F=0.65                             #Flow ratio\n",
      "\n",
      "ga=9.81                            #density\n",
      "\n",
      "eta0=0.90                          #overall efficiency\n",
      "\n",
      "P=15000E3\n",
      "\n",
      "#Calculation\n",
      "\n",
      "U1=round(Sp*math.sqrt(2*ga*H),2)\n",
      "\n",
      "Vf1=round(F*math.sqrt(2*ga*H),2)\n",
      "\n",
      "#using power equation,P=ga*Q*H*eta0\n",
      "\n",
      "Q=P/(ga*998*H*eta0)                #Discharge\n",
      "\n",
      "D=math.sqrt(Q/((math.pi/4)*(1-Db**2)*Vf1))\n",
      "\n",
      "print \"(i)D=\",round(D,3),\"m\"       #Diameter of the runner\n",
      "\n",
      "Db=D*Db\n",
      "\n",
      "N=(U1*60)/(math.pi*D)              #If Speed=N rpm\n",
      "\n",
      "print \"(ii)N=\",round(N,1),\"rpm\"    #Rotational speed\n",
      "\n",
      "Ns=(N*math.sqrt(P/1000))/(H**(5/4))#Specific speed\n",
      "\n",
      "print \"(iii)Ns=\",round(Ns,1)"
     ],
     "language": "python",
     "metadata": {},
     "outputs": [
      {
       "output_type": "stream",
       "stream": "stdout",
       "text": [
        "(i)D= 2.285 m\n",
        "(ii)N= 405.5 rpm\n",
        "(iii)Ns= 707.4\n"
       ]
      }
     ],
     "prompt_number": 2
    },
    {
     "cell_type": "heading",
     "level": 2,
     "metadata": {},
     "source": [
      "Example 16.11 Page No409"
     ]
    },
    {
     "cell_type": "code",
     "collapsed": false,
     "input": [
      "from __future__ import division\n",
      "\n",
      "import math\n",
      "\n",
      "#variable initialization\n",
      "\n",
      "H=N=300                            #Height\n",
      "\n",
      "Cv=0.98                            #Coefficient of velocity of jet\n",
      "\n",
      "D=2.5                              #Diameter                           \n",
      "\n",
      "d=0.20                             #Diameter of the jet\n",
      "\n",
      "F=0.65                             #Flow ratio\n",
      "\n",
      "k=0.95                             #Blade friction coefficient\n",
      "\n",
      "Beta=165                           #Blade angle\n",
      "\n",
      "ga=9.81                            #density\n",
      "\n",
      "g=9.79                             #gravity\n",
      "\n",
      "etam=0.95                          #Mechanical efficiency\n",
      "\n",
      "#Calculation\n",
      "\n",
      "BetaD=180-Beta\n",
      "\n",
      "V1=round(((Cv*math.sqrt(2*ga*H))),3)                 #Jet velocity\n",
      "\n",
      "Q=round((math.pi/4)*((d**2)*V1),3)                   #Discharge\n",
      "\n",
      "u=(math.pi*D*H)/(60)\n",
      "\n",
      "BetaD=BetaD*0.0175                                   #converting into radians\n",
      "\n",
      "He=round((1/ga)*(u*(V1-u))*(1+k*(math.cos(BetaD))),1)#Head extracted\n",
      "\n",
      "etaH=He/H                                            #Hydraulic efficiency\n",
      "\n",
      "print \"(i)etaH=\",round(etaH,3)\n",
      "\n",
      "P=g*Q*H*etaH*etam                                    #Power developed\n",
      "\n",
      "print \"(ii)P=\",int(round(P,0)),\"kW\"\n",
      "\n",
      "Ns=(N*math.sqrt(P))/(H**(5/4))                       #Specific speed\n",
      "\n",
      "print \"(iii)Ns=\",round(Ns,1)"
     ],
     "language": "python",
     "metadata": {},
     "outputs": [
      {
       "output_type": "stream",
       "stream": "stdout",
       "text": [
        "(i)etaH= 0.919\n",
        "(ii)P= 6057 kW\n",
        "(iii)Ns= 18.7\n"
       ]
      }
     ],
     "prompt_number": 6
    },
    {
     "cell_type": "heading",
     "level": 2,
     "metadata": {},
     "source": [
      "Example 16.12 Page No409"
     ]
    },
    {
     "cell_type": "code",
     "collapsed": false,
     "input": [
      "from __future__ import division\n",
      "\n",
      "import math\n",
      "\n",
      "#variable initialization\n",
      "\n",
      "u=14.0                          #man bucket diameter in m^3/s\n",
      "\n",
      "beta=165                        #angle deflected in degree\n",
      "\n",
      "k=1.0                           #assumed value\n",
      "\n",
      "Q=0.8                           #discharge\n",
      "\n",
      "H=45                            #height\n",
      "\n",
      "etam=0.95                       #overall efficiency\n",
      "\n",
      "Cv=0.985                        #Given value\n",
      "\n",
      "g=9.81                          #gravity\n",
      "\n",
      "rho=998                         #relative density\n",
      "\n",
      "#Calculation\n",
      "\n",
      "BetaD=180-beta                                      #in degrees\n",
      "\n",
      "V1=((Cv*math.sqrt(2*g*H)))\n",
      "\n",
      "BetaD=BetaD*0.0175                                  #converting into radians\n",
      "\n",
      "P=((rho*Q*u*((V1-u)*(1+math.cos(BetaD))))/1000)     #Power produced\n",
      "\n",
      "Ps=round(P*etam,2)\n",
      "\n",
      "print \"Ps=\",round(Ps,1),\"kW\"\n",
      "\n",
      "eta0=Ps/(((g*rho)/1000)*Q*H)                       #Overall efficiency\n",
      "\n",
      "#Answer given in the book varies slightly and correct answer is,\n",
      "\n",
      "print \"eta0=\",round(eta0,3)\n"
     ],
     "language": "python",
     "metadata": {},
     "outputs": [
      {
       "output_type": "stream",
       "stream": "stdout",
       "text": [
        "Ps= 318.7 kW\n",
        "eta0= 0.904\n"
       ]
      }
     ],
     "prompt_number": 5
    },
    {
     "cell_type": "heading",
     "level": 2,
     "metadata": {},
     "source": [
      "Example 16.13 Page No410"
     ]
    },
    {
     "cell_type": "code",
     "collapsed": false,
     "input": [
      "from __future__ import division\n",
      "\n",
      "import math\n",
      "\n",
      "#variable initialization\n",
      "\n",
      "f=0.05                           #friction loss\n",
      "\n",
      "h=400                            #height\n",
      "\n",
      "N=420                            #speed in rpm\n",
      "\n",
      "ga=9.79                          #density\n",
      "\n",
      "eta0=0.85                        #overall efficiency\n",
      "\n",
      "Cv=0.98                          #Given value\n",
      "\n",
      "Ns=14                            #Specific Speed\n",
      "\n",
      "P=500                            #Power per jet\n",
      "\n",
      "phy=0.46                         #speed ratio\n",
      "\n",
      "g=9.81                           #gravity\n",
      "\n",
      "#Calculation\n",
      "\n",
      "H=h*(1-f)                                       #Net available Head\n",
      "\n",
      "N=int((Ns*(H**(5/4)))/(math.sqrt(P)))           #Rotational speed\n",
      "\n",
      "print \"N=\",N,\"rpm\"\n",
      "\n",
      "V1=round((Cv*math.sqrt(2*g*H)),2)\n",
      "\n",
      "U=phy*(math.sqrt(2*g*H))\n",
      "\n",
      "D=round((U*60)/(math.pi*N),3)\n",
      "\n",
      "print \"D=\",D,\"m\"                               #mean diameter of bucket circle\n",
      "\n",
      "Q=P*1000/(ga*998*H*eta0)                       #Discharge\n",
      "\n",
      "d=math.sqrt(Q/((math.pi/4)*V1))\n",
      "\n",
      "print \"d=\",round((d*100),2),\"cm\""
     ],
     "language": "python",
     "metadata": {},
     "outputs": [
      {
       "output_type": "stream",
       "stream": "stdout",
       "text": [
        "N= 1050 rpm\n",
        "D= 0.722 m\n",
        "d= 4.88 cm\n"
       ]
      }
     ],
     "prompt_number": 7
    },
    {
     "cell_type": "heading",
     "level": 2,
     "metadata": {},
     "source": [
      "Example 16.16 Page No411"
     ]
    },
    {
     "cell_type": "code",
     "collapsed": false,
     "input": [
      "from __future__ import division\n",
      "\n",
      "import math\n",
      "\n",
      "#variable initialization\n",
      "\n",
      "H=270                            #Height\n",
      "\n",
      "D=1.5                            #Diameter\n",
      "\n",
      "N=400                            #speed in rpm\n",
      "\n",
      "ga=9.81                          #density\n",
      "\n",
      "eta0=0.90                        #overall efficiency\n",
      "\n",
      "I=3000                           #Impulse\n",
      "\n",
      "Cv=0.95                          #Given value\n",
      "\n",
      "#Calculation\n",
      "\n",
      "P=I/2\n",
      "\n",
      "#using power equation,P=ga*Q*H*eta0\n",
      "\n",
      "Q=P*1000/(ga*998*H*eta0)                #Discharge\n",
      "\n",
      "V1=round(Cv*math.sqrt(2*ga*H),2)\n",
      "\n",
      "d=math.sqrt(Q/((math.pi/4)*V1))\n",
      "\n",
      "print \"(i)d=\",round(d*100,2),\"cm\"       #Diameter of the nozzle\n",
      "\n",
      "U=round(((math.pi*D*N)/60),2)           #Peripheral velocity of the bucket\n",
      "\n",
      "phy=U/(math.sqrt(2*ga*H))\n",
      "\n",
      "print \"(ii)phy=\",round(phy,3)           #Speed ratio\n",
      "\n",
      "Ns=(N*math.sqrt(P))/(H**(5/4))          #Specific speed\n",
      "\n",
      "print \"(iii)Ns=\",round(Ns,2)"
     ],
     "language": "python",
     "metadata": {},
     "outputs": [
      {
       "output_type": "stream",
       "stream": "stdout",
       "text": [
        "(i)d= 10.78 cm\n",
        "(ii)phy= 0.432\n",
        "(iii)Ns= 14.15\n"
       ]
      }
     ],
     "prompt_number": 8
    },
    {
     "cell_type": "heading",
     "level": 2,
     "metadata": {},
     "source": [
      "Example 16.17 Page No411"
     ]
    },
    {
     "cell_type": "code",
     "collapsed": false,
     "input": [
      "from __future__ import division\n",
      "\n",
      "import math\n",
      "\n",
      "#variable initialization\n",
      "\n",
      "H=500                   #Head in m\n",
      "\n",
      "Cv=0.98                 #specific heat\n",
      "\n",
      "g=9.81                  #gravity\n",
      "\n",
      "fi=0.45                 #assume\n",
      "\n",
      "eta_o=0.85              #assume\n",
      "\n",
      "d=18                    #diameter in cm\n",
      "\n",
      "gamma=9.79              #specific weight\n",
      "\n",
      "N=420 \n",
      "\n",
      "#solution\n",
      "\n",
      "V1=Cv*(math.sqrt(2*g*H)) #Velocity\n",
      "\n",
      "d=d/100                  #diameter in m\n",
      "\n",
      "Q=(math.pi/4)*(d**2)*V1  #Discharge\n",
      "\n",
      "P=eta_o*gamma*Q*H        #Power developed\n",
      "\n",
      "Ns=(N*math.sqrt(P))/(math.pow(H,5/4)) #Specific speed\n",
      "\n",
      "print \"Ns=\",int(Ns)\n"
     ],
     "language": "python",
     "metadata": {},
     "outputs": [
      {
       "output_type": "stream",
       "stream": "stdout",
       "text": [
        "Ns= 18\n"
       ]
      }
     ],
     "prompt_number": 9
    },
    {
     "cell_type": "heading",
     "level": 2,
     "metadata": {},
     "source": [
      "Example 16.19 Page No412"
     ]
    },
    {
     "cell_type": "code",
     "collapsed": false,
     "input": [
      "from __future__ import division\n",
      "\n",
      "import math\n",
      "\n",
      "#variable initialisation\n",
      "\n",
      "N1=100         #speed of turbine in rpm\n",
      "\n",
      "H1=30          #head on turbine in m\n",
      "\n",
      "H2=18          #head reduced in m\n",
      "\n",
      "P1=8000        #p in kW\n",
      "\n",
      "#solution\n",
      "\n",
      "#For geometrically similar turbines,the unit speed,Nu=N/math.sqrt(H)\n",
      "\n",
      "N2=round(N1*(math.sqrt(H2/H1)),2)  #speed \n",
      "\n",
      "print \"N2=\",N2,\"rpm\"\n",
      "\n",
      "P2=P1*(math.pow((H2/H1),3/2))      #power developed\n",
      "\n",
      "print \"P2=\",int(P2),\"kW\"\n"
     ],
     "language": "python",
     "metadata": {},
     "outputs": [
      {
       "output_type": "stream",
       "stream": "stdout",
       "text": [
        "N2= 77.46 rpm\n",
        "P2= 3718 kW\n"
       ]
      }
     ],
     "prompt_number": 10
    },
    {
     "cell_type": "heading",
     "level": 2,
     "metadata": {},
     "source": [
      "Example 16.20 Page No412"
     ]
    },
    {
     "cell_type": "code",
     "collapsed": false,
     "input": [
      "from __future__ import division\n",
      "\n",
      "import math\n",
      "\n",
      "#variable initialisation\n",
      "\n",
      "P1=6750                #p in kW\n",
      "\n",
      "N1=300                 #speed in rpm\n",
      "\n",
      "H1=45                  #net head in m\n",
      "\n",
      "H2=60                  #net head under homologus conditions in m\n",
      "\n",
      "ete_o=85               #efficiency in percentage\n",
      "\n",
      "ga=9.81*998            #density in kg/m^3\n",
      "\n",
      "#solution\n",
      "\n",
      "#using unit relationships,\n",
      "\n",
      "eta_o=85/100\n",
      "\n",
      "Q=round(P1/((eta_o)*(ga/1000)*H1),2) \n",
      "\n",
      "N2=round(N1*(math.sqrt(H2/H1)),1)    #revolutions per minute\n",
      "\n",
      "print \"N2=\",N2,\"rpm\"\n",
      "\n",
      "Q1=18.03                             #Q value\n",
      "\n",
      "Q2=Q1*(math.sqrt(H2/H1))             #Discharge\n",
      "\n",
      "print \"Q2=\",round(Q2,2),\"m^3/s\"\n",
      "\n",
      "P2=P1*(math.pow((H2/H1),3/2))        #brake power\n",
      "\n",
      "print \"P2=\",int(round(P2,5)),\"kW\"\n"
     ],
     "language": "python",
     "metadata": {},
     "outputs": [
      {
       "output_type": "stream",
       "stream": "stdout",
       "text": [
        "N2= 346.4 rpm\n",
        "Q2= 20.82 m^3/s\n",
        "P2= 10392 kW\n"
       ]
      }
     ],
     "prompt_number": 11
    },
    {
     "cell_type": "heading",
     "level": 2,
     "metadata": {},
     "source": [
      "Example 16.38 Page No420"
     ]
    },
    {
     "cell_type": "code",
     "collapsed": false,
     "input": [
      "from __future__ import division\n",
      "\n",
      "import math\n",
      "\n",
      "#variable initialization\n",
      "\n",
      "r=0.15                            #radius in m\n",
      "\n",
      "N=60                              #speed at rpm\n",
      "\n",
      "rho=9800                          #density\n",
      "\n",
      "Ht=15                             #Height\n",
      "\n",
      "Qa=310                            #actual discharge in l/min\n",
      "\n",
      "#calculation\n",
      "\n",
      "A=math.pi/4*(r**2)                #Calculating area\n",
      "\n",
      "L=2*r\n",
      "\n",
      "Qt=round(((A*L*N)/60),4)\n",
      "\n",
      "Qt1=Qt*60*1000                    #converting into l/min\n",
      "\n",
      "slip=(Qt1-Qa)*100/Qt1\n",
      "\n",
      "print \"slip=\",round(slip,2),\"%\"\n",
      "\n",
      "Cd=round(Qa/Qt1,3)                #Coefficient of discharge\n",
      "\n",
      "print \"Coefficient of discharge=\",Cd\n",
      "\n",
      "Pt=rho*(Qt)*Ht                    #Power\n",
      "\n",
      "print \"Answer in the book is wrong.It should be as,\"\n",
      "\n",
      "print \"Power,Pt=\",round(Pt/1000,3),\"kW\"\n"
     ],
     "language": "python",
     "metadata": {},
     "outputs": [
      {
       "output_type": "stream",
       "stream": "stdout",
       "text": [
        "slip= 2.52 %\n",
        "Coefficient of discharge= 0.975\n",
        "Answer in the book is wrong.It should be as,\n",
        "Power,Pt= 0.779 kW\n"
       ]
      }
     ],
     "prompt_number": 12
    },
    {
     "cell_type": "heading",
     "level": 2,
     "metadata": {},
     "source": [
      "Example 16.40 Page No420"
     ]
    },
    {
     "cell_type": "code",
     "collapsed": false,
     "input": [
      "from __future__ import division\n",
      "\n",
      "import math\n",
      "\n",
      "#variable initialization\n",
      "\n",
      "r=0.40                          #radius in cm\n",
      "\n",
      "Ld=45.0                         #length in m\n",
      "\n",
      "g=9.81                          #gravity\n",
      "\n",
      "A=20                            #size of cylinder in cm\n",
      "\n",
      "Ad=10                           #suction pipe in cm\n",
      "\n",
      "Hv=2.5                          #in m water (abs)\n",
      "\n",
      "Hatmo=10                        #atmospheric pressure of water in m\n",
      "\n",
      "Hd=40                           #height of water\n",
      "\n",
      "#Calculation\n",
      "\n",
      "Had=int(-(Hv-Hd-Hatmo))#At incipient caviation in the delivery pipe\n",
      "\n",
      "N=Had/((Ld/g)*((A/Ad)**2)*(((2*math.pi)/60)**2)*r)\n",
      "\n",
      "print \"N=\",round(N**(1/2),2),\"rpm\"\n"
     ],
     "language": "python",
     "metadata": {},
     "outputs": [
      {
       "output_type": "stream",
       "stream": "stdout",
       "text": [
        "N= 24.17 rpm\n"
       ]
      }
     ],
     "prompt_number": 13
    },
    {
     "cell_type": "heading",
     "level": 2,
     "metadata": {},
     "source": [
      "Example 16.41 Page No421"
     ]
    },
    {
     "cell_type": "code",
     "collapsed": false,
     "input": [
      "from __future__ import division\n",
      "\n",
      "import math\n",
      "\n",
      "#variable initialization\n",
      "\n",
      "N=30                            #speed in rpm\n",
      "\n",
      "D=0.30                          #radius of cylinder\n",
      "\n",
      "Ls=5.0                          #length in m\n",
      "\n",
      "g=9.81                          #gravity\n",
      "\n",
      "A=15                            #size of cylinder in cm\n",
      "\n",
      "As=5                            #suction pipe in cm\n",
      "\n",
      "Hv=2.0                          #in m water (abs)\n",
      "\n",
      "Hatmo=10                        #atmospheric pressure of water in m\n",
      "\n",
      "Hs=2.5                          #Suction head\n",
      "\n",
      "#Calculation\n",
      "\n",
      "omega=(2*math.pi*N)/60\n",
      "\n",
      "r=D/2\n",
      "\n",
      "Hasm=(-Hv-Hs+Hatmo)\n",
      "\n",
      "N=Hasm/((Ls/g)*((A/As)**2)*(((2*math.pi)/60)**2)*r)#At limiting condition for a suction pipe,\n",
      "\n",
      "print \"N=\",round(N**(1/2),0),\"rpm\"\n"
     ],
     "language": "python",
     "metadata": {},
     "outputs": [
      {
       "output_type": "stream",
       "stream": "stdout",
       "text": [
        "N= 27.0 rpm\n"
       ]
      }
     ],
     "prompt_number": 14
    },
    {
     "cell_type": "heading",
     "level": 2,
     "metadata": {},
     "source": [
      "Example 16.42 Page No421"
     ]
    },
    {
     "cell_type": "code",
     "collapsed": false,
     "input": [
      "from __future__ import division\n",
      "\n",
      "import math\n",
      "\n",
      "#variable initialization\n",
      "\n",
      "N=30                            #speed in rpm\n",
      "\n",
      "S=40                            #stroke in cm\n",
      "\n",
      "Ls=5.0                          #length in m\n",
      "\n",
      "g=9.81                          #gravity\n",
      "\n",
      "A=20                            #size of cylinder in cm\n",
      "\n",
      "As=10                           #suction pipe in cm\n",
      "\n",
      "Hv=2.5                          #in m water (abs)\n",
      "\n",
      "Hatmo=10                        #atmospheric pressure of water in m\n",
      "\n",
      "#Calculation\n",
      "\n",
      "omega=(2*math.pi*N)/60\n",
      "\n",
      "r=(S/100)/2\n",
      "\n",
      "Hasm=(Ls/g)*((A/As)**2)*(omega**2)*r\n",
      "\n",
      "Hs=Hatmo-Hv-Hasm\n",
      "\n",
      "print \"Hs=\",round(Hs,3),\"m\""
     ],
     "language": "python",
     "metadata": {},
     "outputs": [
      {
       "output_type": "stream",
       "stream": "stdout",
       "text": [
        "Hs= 3.476 m\n"
       ]
      }
     ],
     "prompt_number": 15
    },
    {
     "cell_type": "heading",
     "level": 2,
     "metadata": {},
     "source": [
      "Example 16.45 Page No422"
     ]
    },
    {
     "cell_type": "code",
     "collapsed": false,
     "input": [
      "from __future__ import division\n",
      "\n",
      "import math\n",
      "\n",
      "#variable initialization\n",
      "\n",
      "N=50                            #speed in rpm\n",
      "\n",
      "Ls=5.0                          #length in m\n",
      "\n",
      "g=9.81                          #gravity\n",
      "\n",
      "r=0.20                          #size of cylinder in cm\n",
      "\n",
      "Hv=2.5                          #in m water (abs)\n",
      "\n",
      "Hatmo=10.0                      #atmospheric pressure of water in m\n",
      "\n",
      "Hs=3.0                          #in m\n",
      "\n",
      "d=25                            #diameter in cm\n",
      "\n",
      "#Calculation\n",
      "\n",
      "N=N/2                           #since there are 2 strokes per revolution\n",
      "\n",
      "omega=round((2*math.pi*N)/60,3)\n",
      "\n",
      "Hasm=round((Ls/g)*(omega**2)*r,2)#Maximum acceleration head in suction pipe\n",
      "\n",
      "Ds=(Hatmo-Hs-Hv)/(Hasm)          #At limiting condition for a suction pipe\n",
      "\n",
      "print \"ds=\",round(d/Ds**(1/2),2),\"cm\""
     ],
     "language": "python",
     "metadata": {},
     "outputs": [
      {
       "output_type": "stream",
       "stream": "stdout",
       "text": [
        "ds= 9.86 cm\n"
       ]
      }
     ],
     "prompt_number": 16
    }
   ],
   "metadata": {}
  }
 ]
}