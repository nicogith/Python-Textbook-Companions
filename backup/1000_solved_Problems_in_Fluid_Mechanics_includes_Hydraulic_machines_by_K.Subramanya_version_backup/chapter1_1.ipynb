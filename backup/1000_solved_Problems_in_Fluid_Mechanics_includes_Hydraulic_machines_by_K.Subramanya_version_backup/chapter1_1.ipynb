{
 "metadata": {
  "name": "chapter1"
 },
 "nbformat": 3,
 "nbformat_minor": 0,
 "worksheets": [
  {
   "cells": [
    {
     "cell_type": "heading",
     "level": 1,
     "metadata": {},
     "source": "Chapter 1:Properties of Fluids"
    },
    {
     "cell_type": "heading",
     "level": 2,
     "metadata": {},
     "source": "Example 1.1 Page No5 "
    },
    {
     "cell_type": "code",
     "collapsed": false,
     "input": "#variable initialisation\n\nw=500        #mass of liquid in N\n\ng=9.806      #gravity in m/s*2\n\ng1=3.5       #gravity in m/s*2\n\ng2=18.0      #gravity in m/s*2\n\n\n#Solution\n\nm=w/g        #mass\n\nprint \"a)m=\",round(m,2),\"kg\"\n\nw1=m*g1      #weight\n\nw2=m*g2\n\nprint \"b)w1=\",round(w1,2),\"N\"\n\nprint \"w2=\",round(w2,1),\"N\"",
     "language": "python",
     "metadata": {},
     "outputs": [
      {
       "output_type": "stream",
       "stream": "stdout",
       "text": "a)m= 50.99 kg\nb)w1= 178.46 N\nw2= 917.8 N\n"
      }
     ],
     "prompt_number": 1
    },
    {
     "cell_type": "heading",
     "level": 2,
     "metadata": {},
     "source": "Example 1.2 Page No5"
    },
    {
     "cell_type": "code",
     "collapsed": false,
     "input": "#variable initialisation\n\nweight=400        # weight in N\n\ngravity= 9.806    # gravity in m/s^2\n\nF=800             # force in n\n\ng=1.6             # gravity in m/s^2\n\n#Solution\n\nm=round(weight/gravity,3)\n\n#mass is constant and does not change with location.By Newton's second law F=m*a\"\n\na=F/m\n\n#acceleration is independent of g.Hence both on the earth ,as well as on moon\"\n\nprint \"a=\",round(a,3),\"m/s^2\"",
     "language": "python",
     "metadata": {},
     "outputs": [
      {
       "output_type": "stream",
       "stream": "stdout",
       "text": "a= 19.612 m/s^2\n"
      }
     ],
     "prompt_number": 1
    },
    {
     "cell_type": "heading",
     "level": 2,
     "metadata": {},
     "source": "Example 1.3 Page No5"
    },
    {
     "cell_type": "code",
     "collapsed": false,
     "input": "#variable initialisation\n\nRD=0.8          #relative density\n\nrho_w=998       #density of water at 20 degree C in kg/m^3\n\ng=9.81          #gravity in m/s^2\n\nv=2.3           #viscosity in centistoke\n\n#calculation\n\nUnitWeight=((rho_w*RD)*g)/1000         #Unit Weight \n\nprint \"(i) gamma=\",round(UnitWeight,3),\"kN/m^3\"\n\nv=2.3/(10**6)                          #viscosity in m^2/s\n\nrho=round(rho_w*RD,1)                  #dymanic viscosity \n\nmu=v*rho\n\nprint \"(ii) mu=\"'%4.3E' % mu,\"Pa.s.\"\n",
     "language": "python",
     "metadata": {},
     "outputs": [
      {
       "output_type": "stream",
       "stream": "stdout",
       "text": "(i) gamma= 7.832 kN/m^3\n(ii) mu=1.836E-03 Pa.s.\n"
      }
     ],
     "prompt_number": 5
    },
    {
     "cell_type": "heading",
     "level": 2,
     "metadata": {},
     "source": "Example 1.15 Page No9"
    },
    {
     "cell_type": "code",
     "collapsed": false,
     "input": "#variable initialisation\n\nsigma=0.073           #surface Tension at air-water interface in N/m\n\nd=0.01                #diameter of air bubble in mm\n\n#calculation\n\n#air bubble has only one surface\n\nR=(d/2)/1000\n\ndelta_p=(2*sigma)/R    #Pressure difference in N/m^2\n\nprint \"delta_p=\",delta_p/1000,\"kPa\"\n",
     "language": "python",
     "metadata": {},
     "outputs": [
      {
       "output_type": "stream",
       "stream": "stdout",
       "text": "delta_p= 29.2 kPa\n"
      }
     ],
     "prompt_number": 3
    },
    {
     "cell_type": "heading",
     "level": 2,
     "metadata": {},
     "source": "Example 1.16 Page No9"
    },
    {
     "cell_type": "code",
     "collapsed": false,
     "input": "#variable initialisation\n\nsigma=0.088           #surface Tension at soap-air interface in N/m\n\nd=3                   #diameter of air bubble in cm\n\n#Solution\n\n#soap bubble has two interfaces\n\nR=0.03/2              #in m\n\ndelta_p=(4*sigma)/R   #in N/m^2\n\nprint \"delta_p=\",round(delta_p,2),\"N/m^2 above atmospheric pressure\"\n",
     "language": "python",
     "metadata": {},
     "outputs": [
      {
       "output_type": "stream",
       "stream": "stdout",
       "text": "delta_p= 23.47 N/m^2 above atmospheric pressure\n"
      }
     ],
     "prompt_number": 4
    },
    {
     "cell_type": "heading",
     "level": 2,
     "metadata": {},
     "source": "Example 1.17 Page No9"
    },
    {
     "cell_type": "code",
     "collapsed": false,
     "input": "#variable initialisation\n\nd1=6                  #diameter in mm\n\nd2=16                 #diameter in mm\n\nsigma=0.073           #surface tension of water in N/m\n\ng=9.81                #gravity\n\nrho=998               #density\n\n#Solution\n\n#assume angle of contact theta=0 degree\n\nR1=0.006/2            #radius in m\n\nR2=0.016/2            #raidus in m\n\nr=(1/R1)-(1/R2)\n\nh=(2*sigma*r)/(rho*g) #difference in water level\n\nprint \"h=\",round(h,4)*1000,\"mm\"",
     "language": "python",
     "metadata": {},
     "outputs": [
      {
       "output_type": "stream",
       "stream": "stdout",
       "text": "h= 3.1 mm\n"
      }
     ],
     "prompt_number": 5
    },
    {
     "cell_type": "heading",
     "level": 2,
     "metadata": {},
     "source": "Example 1.18 Page No9"
    },
    {
     "cell_type": "code",
     "collapsed": false,
     "input": "import math\n\n#variable initialisation\n\nd=3E-3         #diameter of tube\n\nsigma=0.48     #surface tension in N/m\n\na=130          #angle of contact in degree C\n\nrho=13600      #density of liquid in kg/m^3\n\ng=9.81         #gravity in m/s^2\n\n#solution\n\nR=d/2\n\ngamma=rho*g\n\ne=math.radians(a) #converting degree into radians\n\nc=math.cos(e)     #cosine value\n\nh=(2*sigma*c)/(gamma*R)\n\nh1=round(h*1000,2)\n\nprint \"Therefore,there is a capillary depression of\",-(h1),\"mm\"",
     "language": "python",
     "metadata": {},
     "outputs": [
      {
       "output_type": "stream",
       "stream": "stdout",
       "text": "Therefore,there is a capillary depression of 3.08 mm\n"
      }
     ],
     "prompt_number": 3
    },
    {
     "cell_type": "heading",
     "level": 2,
     "metadata": {},
     "source": "Example 1.19 Page No10"
    },
    {
     "cell_type": "code",
     "collapsed": false,
     "input": "#variable initialisation\n\nd=0.005        #diamter of grain in mm\n\nsigma=0.073    #surface tension of air-water interface in N/m\n\ng= 9.81        #gravity in m/s^2\n\nde=998         #density\n\n#solution\n\nR=(d/2)/1000\n\nga=g*de\n\n#by assuming theta = 0 degree\n\ndel_h=(2*sigma)/(ga*R)     #height of water rise\n\nprint \"Answer given in the book is incorrect.It's given as 5.95\"\n\nprint \"correct Answer is\"\n\nprint \"delta_h=\",round(del_h,2),\"m\"\n",
     "language": "python",
     "metadata": {},
     "outputs": [
      {
       "output_type": "stream",
       "stream": "stdout",
       "text": "Answer given in the book is incorrect.It's given as 5.95\ncorrect Answer is\ndelta_h= 5.97 m\n"
      }
     ],
     "prompt_number": 4
    },
    {
     "cell_type": "heading",
     "level": 2,
     "metadata": {},
     "source": "Example 1.22 Page No10"
    },
    {
     "cell_type": "code",
     "collapsed": false,
     "input": "from __future__ import division\n\nimport math\n\n#variable initialisation\n\nM=28.97                   #molecular weight of air\n\np=120E+3                  #in abs\n\nT=60                      #Temperature in degree C\n\n#solution\n\nR=math.ceil(8312/28.97)   #gas constant for air\n\nT=T+273                   #Temperature in K\n\nrho=round(p/(R*T),3)\n\nprint \"(i)density of air=\",rho,\"kg/m^3\"\n\nM1=44\n\nR=int(math.ceil(8312/44)) # gas constant for co2\n\na=R*T\n\nrho=p/a\n\nprint \"(ii)density of co2=\",round(rho,3),\"kg/m^3\"",
     "language": "python",
     "metadata": {},
     "outputs": [
      {
       "output_type": "stream",
       "stream": "stdout",
       "text": "(i)density of air= 1.256 kg/m^3\n(ii)density of co2= 1.907 kg/m^3\n"
      }
     ],
     "prompt_number": 8
    },
    {
     "cell_type": "heading",
     "level": 2,
     "metadata": {},
     "source": "Example 1.24 Page No11"
    },
    {
     "cell_type": "code",
     "collapsed": false,
     "input": "#variable initialisation\n\np=100              #compression rate in abs\n\np1=80              #compression rate in abs\n\n#solution\n\n#In isothermal change K=p\n\nKA=p               #bulk modulus \n\nprint \"KA=\",KA,\"kPa\"\n\n#In adiabatic change K=kp\n\nk=1.4               #constant for gases\n\nKB=int(k*p1)        #bulk modulus\n\nprint \"KB=\",KB,\"kPa\"\n\nprint \"KA<KB,gas A is more compressible than gas B,in the notified situation\"\n",
     "language": "python",
     "metadata": {},
     "outputs": [
      {
       "output_type": "stream",
       "stream": "stdout",
       "text": "KA= 100 kPa\nKB= 112 kPa\nKA<KB,gas A is more compressible than gas B,in the notified situation\n"
      }
     ],
     "prompt_number": 9
    },
    {
     "cell_type": "heading",
     "level": 2,
     "metadata": {},
     "source": "Example 1.26 Page No11"
    },
    {
     "cell_type": "code",
     "collapsed": false,
     "input": "import math \n\n#variable initialisation\n\nk=1.43E+9              #bulk modulus of elasticity of kerosene in Pa\n\nr=0.804                #relative density \n\n#solution\n\nrho=round(r*998,1)     #density of kerosene in kg/m^3\n\nC=math.ceil(math.sqrt(k/rho))\n\nprint \"velocity of sound C=\",int(C),\"m/s\"",
     "language": "python",
     "metadata": {},
     "outputs": [
      {
       "output_type": "stream",
       "stream": "stdout",
       "text": "velocity of sound C= 1335 m/s\n"
      }
     ],
     "prompt_number": 10
    },
    {
     "cell_type": "heading",
     "level": 2,
     "metadata": {},
     "source": "Example 1.28 Page No11"
    },
    {
     "cell_type": "code",
     "collapsed": false,
     "input": "import math\n\n#variable initialisation\n\nR=287             #gas constant\n\nT=80              #temperature in degree C\n\n#solution\n\nT=273+80          #temperature in K\n\nk=1.4             #for air\n\nC=round(math.sqrt(k*R*T),1) #velocity of sound at 80 degree\n\nprint \"C=\",C,\"m/s\"",
     "language": "python",
     "metadata": {},
     "outputs": [
      {
       "output_type": "stream",
       "stream": "stdout",
       "text": "C= 376.6 m/s\n"
      }
     ],
     "prompt_number": 11
    }
   ],
   "metadata": {}
  }
 ]
}