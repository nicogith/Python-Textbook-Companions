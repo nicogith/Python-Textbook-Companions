{
 "metadata": {
  "name": "",
  "signature": "sha256:f95d8fc0e85f999623c145342afc794cce273d357d90e981a23af293d857bbb1"
 },
 "nbformat": 3,
 "nbformat_minor": 0,
 "worksheets": [
  {
   "cells": [
    {
     "cell_type": "heading",
     "level": 1,
     "metadata": {},
     "source": [
      "Chapter 3:Fluid Flow Kinematics"
     ]
    },
    {
     "cell_type": "heading",
     "level": 2,
     "metadata": {},
     "source": [
      "Example 3.1 Page No74"
     ]
    },
    {
     "cell_type": "code",
     "collapsed": false,
     "input": [
      "from __future__ import division\n",
      "\n",
      "import math\n",
      "\n",
      "#variable initialisation\n",
      "\n",
      "D=0.1                     #diameter in cm\n",
      "\n",
      "L=2                       #length in m\n",
      "\n",
      "V1=2.0                    #inlet discharge in m/s\n",
      "\n",
      "V2=1.2                    #outlet dischargein m/s\n",
      "\n",
      "\n",
      "#calculation\n",
      "\n",
      "A=(math.pi/4)*(D*D)      #area calculation\n",
      "\n",
      "Q1= round(V1*A,5)        #inlet discharge\n",
      "\n",
      "Q2=round(V2*A,7)         #outlet discharge\n",
      "\n",
      "Q_e=Q1-Q2                #discharge emitted through walls of the porous pipe\n",
      "\n",
      "print \"Answer given in the book for discharge emitted is wrong.It should come as\"\n",
      "\n",
      "print \"Q_e=\",Q_e,\"m^3/s\"\n",
      "\n",
      "A_e=math.pi*D*L         #surface area of emission \n",
      "\n",
      "V_e=Q_e/A_e             #Velocity of emission\n",
      "\n",
      "print \"V_e=\",round(V_e,2),\"m/s\"\n",
      "\n"
     ],
     "language": "python",
     "metadata": {},
     "outputs": [
      {
       "output_type": "stream",
       "stream": "stdout",
       "text": [
        "Answer given in the book for discharge emitted is wrong.It should come as\n",
        "Q_e= 0.0062852 m^3/s\n",
        "V_e= 0.01 m/s\n"
       ]
      }
     ],
     "prompt_number": 1
    },
    {
     "cell_type": "heading",
     "level": 2,
     "metadata": {},
     "source": [
      "Example 3.3 Page No74"
     ]
    },
    {
     "cell_type": "code",
     "collapsed": false,
     "input": [
      "from __future__ import division\n",
      "\n",
      "import math\n",
      "\n",
      "#variable initialisation\n",
      "\n",
      "Q=0.08                         #Discharge in m^3/s\n",
      "\n",
      "D_a=12                         #Diameter of inlet in cm\n",
      "\n",
      "V_r=25                         #Width in mm\n",
      "\n",
      "D_i=30                         #Diameter of impeller in cm of impeller\n",
      "\n",
      "\n",
      "#Calculation\n",
      "\n",
      "A=round(math.pi*(D_i/100)*(25/1000)*(0.95),5)#Area calculation\n",
      "\n",
      "R_v=Q/A                        #radial velocity at the edge of impeller\n",
      "\n",
      "print \"R_v=\",round(R_v,3),\"m/s\"\n",
      "\n",
      "#V_A*A_A=0.08 #V_a is the axial Velocity,A_z is the area of inlet\n",
      "\n",
      "D=D_a/100                      #converting diameter of inlet into m\n",
      "\n",
      "V_a=0.08/((math.pi/4)*(D*D))   #calculating axial velocity\n",
      "\n",
      "print \"V_a=\",round(V_a,3),\"m/s\"\n",
      "\n"
     ],
     "language": "python",
     "metadata": {},
     "outputs": [
      {
       "output_type": "stream",
       "stream": "stdout",
       "text": [
        "R_v= 3.575 m/s\n",
        "V_a= 7.074 m/s\n"
       ]
      }
     ],
     "prompt_number": 2
    },
    {
     "cell_type": "heading",
     "level": 2,
     "metadata": {},
     "source": [
      "Example 3.10 Page No78"
     ]
    },
    {
     "cell_type": "code",
     "collapsed": false,
     "input": [
      "from __future__ import division\n",
      "\n",
      "import math\n",
      "\n",
      "#variable initialisation\n",
      "\n",
      "#points of A\n",
      "\n",
      "x=2\n",
      "\n",
      "y=-3\n",
      "\n",
      "z=1\n",
      "\n",
      "t=2\n",
      "\n",
      "#V=(10*t+x*y)i+(-y*z-10*t)j+(-y*z|+z*z/2)k given velocity equation  1\n",
      "\n",
      "#V=4xi+(-4*y+3*t)j given velocit equation 2\n",
      "\n",
      "#Calculation\n",
      "\n",
      "#V is in the form ui+vj+zk\n",
      "\n",
      "U_a=(10*t)+(x*y)\n",
      "\n",
      "V_a=-(y*z)-(10*t)\n",
      "\n",
      "W_a=-(y*z)+((z*z)/2)\n",
      "\n",
      "V_A=math.sqrt((U_a**2)+(V_a**2)+(W_a**2))    #calculating Magnitude\n",
      "\n",
      "print \"(i) V_A=\",round(V_A,1),\"units\"\n",
      "\n",
      "#Second Equation,\n",
      "\n",
      "U_a=4*x\n",
      "\n",
      "V_a=(-4*y)+(3*t)\n",
      "\n",
      "W_a=0\n",
      "\n",
      "V_A=math.sqrt((U_a**2)+(V_a**2)+(W_a**2))   #Calculating magnitude\n",
      "\n",
      "print \"(ii) V_A=\",round(V_A,1),\"units\"\n"
     ],
     "language": "python",
     "metadata": {},
     "outputs": [
      {
       "output_type": "stream",
       "stream": "stdout",
       "text": [
        "(i) V_A= 22.3 units\n",
        "(ii) V_A= 19.7 units\n"
       ]
      }
     ],
     "prompt_number": 3
    },
    {
     "cell_type": "heading",
     "level": 2,
     "metadata": {},
     "source": [
      "Example 3.11 Page No78"
     ]
    },
    {
     "cell_type": "code",
     "collapsed": false,
     "input": [
      "from __future__ import division\n",
      "\n",
      "import math\n",
      "\n",
      "#variable initialisation\n",
      "\n",
      "t=3                       #time in s from commencement of flow\n",
      "\n",
      "x=0.5                     #distance from inlet into the nozzle in m\n",
      "\n",
      "L=0.8 #in m\n",
      "\n",
      "#Calculation\n",
      "\n",
      "c=1-(x/(2*L))             #calculating local acceleration\n",
      "\n",
      "c=c**2\n",
      "\n",
      "lo=c*2\n",
      "\n",
      "print \"(i)Local acceleration doe_v/doe_t=\",round(lo,3),\"m/s^2\"\n",
      "\n",
      "c=(1-(x/(2*L)))**3        #calculating convective acceleration Vdoe_V/doe_x\n",
      "\n",
      "b=-((4*t*t)/L)*c\n",
      "\n",
      "print \"(ii)Convective acceleration=\",round(b,3),\"m/s^2\"\n",
      "\n",
      "T=lo+b                    #calculating total acceleration\n",
      "\n",
      "print \"(iii)Total acceleration=\",round(T,2),\"m/s^2\""
     ],
     "language": "python",
     "metadata": {},
     "outputs": [
      {
       "output_type": "stream",
       "stream": "stdout",
       "text": [
        "(i)Local acceleration doe_v/doe_t= 0.945 m/s^2\n",
        "(ii)Convective acceleration= -14.623 m/s^2\n",
        "(iii)Total acceleration= -13.68 m/s^2\n"
       ]
      }
     ],
     "prompt_number": 4
    },
    {
     "cell_type": "heading",
     "level": 2,
     "metadata": {},
     "source": [
      "Example 3.14 Page No80"
     ]
    },
    {
     "cell_type": "code",
     "collapsed": false,
     "input": [
      "from __future__ import division\n",
      "\n",
      "import math\n",
      "\n",
      "from sympy import *\n",
      "\n",
      "#Variable Initialisation\n",
      "\n",
      "x, y,z=symbols(\"x y z\")\n",
      "\n",
      "u=4*x*y+y**2                                  #Given equations\n",
      "\n",
      "v=6*x*y+3*x\n",
      "\n",
      "#Calculation\n",
      "\n",
      "#For steady,incompressible flow,the equation (du/dx)+(dv/dy)=0 must be satisfied.\n",
      "\n",
      "#Let us take,a=(du/dx,b=du/dy)\n",
      "\n",
      "a=diff(u,x,1)                                #differentiating to get (du/dx)\n",
      "\n",
      "b=diff(v,y,1)                                #differentiating to get (dv/dy)\n",
      "\n",
      "c=a+b\n",
      "\n",
      "print \"(du/dx)+(du/dy)=\",c,\"not equal to 0.Hence flow is not possible\"\n",
      "\n",
      "u=2*x**2+y**2                                #Given equations \n",
      "\n",
      "v=-4*x*y\n",
      "\n",
      "a=diff(u,x,1)                                #differentiating to get (du/dx)\n",
      "\n",
      "b=diff(v,y,1)                                #differentiating to get (dv/dy)\n",
      "\n",
      "c=a+b\n",
      "\n",
      "print \"(du/dx)+(du/dy)=\",c,\".Hence flow is possible\"\n",
      "\n",
      "u=-(x/(x**2+y**2))                           #Given equations\n",
      "\n",
      "v=-(y/(x**2+y**2))\n",
      "\n",
      "a=diff(u,x,1)                                #differentiating to get (du/dx)\n",
      "\n",
      "s=simplify(a)\n",
      "\n",
      "b=diff(v,y,1)                                #differentiating to get (dv/dy)\n",
      "\n",
      "q=simplify(b)                                #simplifying\n",
      "   \n",
      "c=cancel(s+q)\n",
      "\n",
      "print \"(du/dx)+(du/dy)=\",c,\"Hence flow is possible\"\n"
     ],
     "language": "python",
     "metadata": {},
     "outputs": [
      {
       "output_type": "stream",
       "stream": "stdout",
       "text": [
        "(du/dx)+(du/dy)= 6*x + 4*y not equal to 0.Hence flow is not possible\n",
        "(du/dx)+(du/dy)= 0 .Hence flow is possible\n",
        "(du/dx)+(du/dy)="
       ]
      },
      {
       "output_type": "stream",
       "stream": "stdout",
       "text": [
        " 0 Hence flow is possible\n"
       ]
      }
     ],
     "prompt_number": 5
    },
    {
     "cell_type": "heading",
     "level": 2,
     "metadata": {},
     "source": [
      "Example 3.15 Page No80"
     ]
    },
    {
     "cell_type": "code",
     "collapsed": false,
     "input": [
      "from __future__ import division\n",
      "\n",
      "import math\n",
      "\n",
      "from sympy import *\n",
      "\n",
      "#Variable Initialisation\n",
      "\n",
      "x, y,z,c,A=symbols(\"x y z c A\")\n",
      "\n",
      "u=c*x                                        #Given equations\n",
      "\n",
      "v=-c*y\n",
      "\n",
      "#Calculation\n",
      "\n",
      "#For steady,incompressible flow,the equation (du/dx)+(dv/dy)=0 must be satisfied.\n",
      "\n",
      "#Let us take,a=(du/dx,b=du/dy)\n",
      "\n",
      "a=diff(u,x,1)                                #differentiating to get (du/dx)\n",
      "\n",
      "b=diff(v,y,1)                                #differentiating to get (dv/dy)\n",
      "\n",
      "c=a+b\n",
      "\n",
      "print \"(du/dx)+(du/dy)=\",c,\"Hence,the continuity equation is satisfied\"\n",
      "\n",
      "u=-c*c/y                                     #Given equations \n",
      "\n",
      "v=c*ln(x*y)\n",
      "\n",
      "a=diff(u,x,1)                                #differentiating to get (du/dx)\n",
      "\n",
      "b=diff(v,y,1)                                #differentiating to get (dv/dy)\n",
      "\n",
      "c=a+b\n",
      "\n",
      "print \"(du/dx)+(du/dy)=\",c,\".Hence,the continuity equation is satisfied\"\n",
      "\n",
      "u=A*sin(x*y)                                 #Given equations\n",
      "\n",
      "v=-A*sin(x*y)\n",
      "\n",
      "a=diff(u,x,1)                                #differentiating to get (du/dx)\n",
      "\n",
      "s=simplify(a)\n",
      "\n",
      "b=diff(v,y,1)                                #differentiating to get (dv/dy)\n",
      "\n",
      "q=simplify(b)                                #simplifying\n",
      "   \n",
      "c=cancel(s+q)\n",
      "\n",
      "print \"(du/dx)+(du/dy)=\",c,\",not equal to 0.Hence,the continuity equation is not satisfied\"\n",
      "\n",
      "u=x+y                                        #Given equations \n",
      "\n",
      "v=x-y\n",
      "\n",
      "a=diff(u,x,1)                                #differentiating to get (du/dx)\n",
      "\n",
      "b=diff(v,y,1)                                #differentiating to get (dv/dy)\n",
      "\n",
      "c=a+b\n",
      "\n",
      "print \"(du/dx)+(du/dy)=\",c,\".Hence,the continuity equation is satisfied\"\n",
      "\n",
      "u=2*x**2+z*y                                 #Given equations \n",
      "\n",
      "v=-2*x*y+3*y**3+3*z*y\n",
      "\n",
      "w=-(3/2)*z**2-2*x*y-6*y*z\n",
      "\n",
      "a=diff(u,x,1)                                #differentiating to get (du/dx)\n",
      "\n",
      "b=diff(v,y,1)                                #differentiating to get (dv/dy)\n",
      "\n",
      "s=diff(w,z,1)\n",
      "\n",
      "c=a+b+s\n",
      "\n",
      "print \"(du/dx)+(du/dy)=\",c,\",not equal to 0.Hence,the continuity equation is not satisfied\"\n"
     ],
     "language": "python",
     "metadata": {},
     "outputs": [
      {
       "output_type": "stream",
       "stream": "stdout",
       "text": [
        "(du/dx)+(du/dy)= 0 Hence,the continuity equation is satisfied\n",
        "(du/dx)+(du/dy)= 0 .Hence,the continuity equation is satisfied\n",
        "(du/dx)+(du/dy)="
       ]
      },
      {
       "output_type": "stream",
       "stream": "stdout",
       "text": [
        " -A*x*cos(x*y) + A*y*cos(x*y) ,not equal to 0.Hence,the continuity equation is not satisfied\n",
        "(du/dx)+(du/dy)= 0 .Hence,the continuity equation is satisfied\n",
        "(du/dx)+(du/dy)= 2*x + 9*y**2 - 6*y ,not equal to 0.Hence,the continuity equation is not satisfied\n"
       ]
      }
     ],
     "prompt_number": 6
    },
    {
     "cell_type": "heading",
     "level": 2,
     "metadata": {},
     "source": [
      "Example 3.16 Page No80"
     ]
    },
    {
     "cell_type": "code",
     "collapsed": false,
     "input": [
      "from sympy import *\n",
      "\n",
      "#Variable Initialisation\n",
      "\n",
      "x, y, A,e,L=symbols(\"x y A e L\")\n",
      "\n",
      "u=A*(x**2+y**2)\n",
      "\n",
      "du=-diff(u,x,1)                        #differentiating u with respect to x\n",
      "\n",
      "a=integrate((du), y)                   #integrating with respect to y\n",
      "\n",
      "print \"(a)v=\",a,\"+f(x)\"\n",
      "\n",
      "u=A*(e**x)\n",
      "\n",
      "du=-diff(u,x,1)                        #differentiating u with respect to x\n",
      "\n",
      "a=integrate((du),x)                    #integrating with respect to x\n",
      "\n",
      "print \"(b)v=\",a,\"y+f(x)\"\n",
      "\n",
      "u=-A*ln(x/L)\n",
      "\n",
      "du=-diff(u,x,1)                        #differentiating u with respect to x\n",
      "\n",
      "a=integrate((du), y)                   #integrating with respect to y\n",
      "\n",
      "print \"(c)v=\",a,\"+f(x)\"\n",
      "\n",
      "v=-A*x*y\n",
      "\n",
      "dv=-diff(v,y,1)                        #differentiating u with respect to y\n",
      "\n",
      "a=-integrate((dv), x)                  #integrating with respect to x\n",
      "\n",
      "print \"(d)u=\",a,\"+f(y)\"\n",
      "\n",
      "\n"
     ],
     "language": "python",
     "metadata": {},
     "outputs": [
      {
       "output_type": "stream",
       "stream": "stdout",
       "text": [
        "(a)v= -2*A*x*y +f(x)\n",
        "(b)v="
       ]
      },
      {
       "output_type": "stream",
       "stream": "stdout",
       "text": [
        " -A*e**x y+f(x)\n",
        "(c)v= A*y/x +f(x)\n",
        "(d)u= -A*x**2/2 +f(y)\n"
       ]
      }
     ],
     "prompt_number": 8
    },
    {
     "cell_type": "heading",
     "level": 2,
     "metadata": {},
     "source": [
      "Example 3.17 Page No81"
     ]
    },
    {
     "cell_type": "code",
     "collapsed": false,
     "input": [
      "from __future__ import division\n",
      "\n",
      "import math\n",
      "\n",
      "from sympy import *\n",
      "\n",
      "#Variable Initialisation\n",
      "\n",
      "x, y,z=symbols(\"x y z\")\n",
      "\n",
      "#Calculation\n",
      "\n",
      "#let us take a=(dv/dx),b=(du/dy),c=(dw/dy),d=(dv/dz),e=du/dz,f=(dw/dx)\n",
      "\n",
      "u=x*y**3*z\n",
      "\n",
      "v=-y**2*z**2\n",
      "\n",
      "w=y*z**2-(y**3*z**2)/2\n",
      "\n",
      "a=diff(v,x,1)                                         #finding (dv/dx)\n",
      "\n",
      "b=diff(u,y,1)                                         #finding (du/dy)\n",
      "\n",
      "c=diff(w,y,1)                                         #finding (dw/dy)\n",
      "\n",
      "d=diff(v,z,1)                                         #finding (dv/dz)\n",
      "\n",
      "e=diff(u,z,1)                                         #finding (du/dz)\n",
      "\n",
      "f=diff(w,x,1)                                         #finding (dw/dx)\n",
      "    \n",
      "omega_z=(1/2)*((a-b))                                 #calculating omega_z\n",
      "\n",
      "print \"(i)omega_z=\",omega_z\n",
      "\n",
      "omega_x=(1/2)*((c-d))                                 #calculating omega_x\n",
      "\n",
      "print \"omega_x=\",omega_x\n",
      "\n",
      "omega_y=(1/2)*(e-f)                                   #calculating omega_y\n",
      "\n",
      "print \"omega_y=\",omega_y\n",
      "\n",
      "#second values given \n",
      "\n",
      "u=3*x*y\n",
      "\n",
      "v=(3/2)*x**2-(3/2)*y**2\n",
      "\n",
      "a=diff(v,x,1)                                          #finding (dv/dx)\n",
      "\n",
      "b=diff(u,y,1)                                          #finding (du/dy)\n",
      "\n",
      "omega_z=(1/2)*((a-b))                                  #calculating omega_z\n",
      "\n",
      "print \"(ii)omega_z=\",omega_z,\"As the flow is two-dimensional in the x-y plane omega_z=omega_y=0\"\n",
      "\n",
      "#third values given \n",
      "\n",
      "u=y**2\n",
      "\n",
      "v=-3*x\n",
      "\n",
      "a=diff(v,x,1)                                          #finding (dv/dx)\n",
      "\n",
      "b=diff(u,y,1)                                          #finding (du/dy)\n",
      "\n",
      "omega_z=(1/2)*((a-b))                                  #calculating omega_z\n",
      "\n",
      "print \"(iii)omega_z=\",omega_z,\"As the flow is two-dimensional in x-y plane omega_z=omega_y=0\"\n",
      "\n"
     ],
     "language": "python",
     "metadata": {},
     "outputs": [
      {
       "output_type": "stream",
       "stream": "stdout",
       "text": [
        "(i)omega_z= -1.5*x*y**2*z\n",
        "omega_x= -0.75*y**2*z**2 + 1.0*y**2*z + 0.5*z**2\n",
        "omega_y= 0.5*x*y**3\n",
        "(ii)omega_z= 0 As the flow is two-dimensional in the x-y plane omega_z=omega_y=0\n",
        "(iii)omega_z= -1.0*y - 1.5 As the flow is two-dimensional in x-y plane omega_z=omega_y=0\n"
       ]
      }
     ],
     "prompt_number": 10
    },
    {
     "cell_type": "heading",
     "level": 2,
     "metadata": {},
     "source": [
      "Example 3.19 Page No81"
     ]
    },
    {
     "cell_type": "code",
     "collapsed": false,
     "input": [
      "from __future__ import division\n",
      "\n",
      "import math\n",
      "\n",
      "from sympy import *\n",
      "\n",
      "#Variable Initialisation\n",
      "\n",
      "x,y,z,a=symbols(\"x y z a\")\n",
      "\n",
      "#Calculation\n",
      "\n",
      "u=2*x*y\n",
      "\n",
      "v=a**2+x**2-y**2\n",
      "\n",
      "#let us take c=(du/dx),b=dv/dy\n",
      "\n",
      "c=diff(u,x,1)                                         #finding (dv/dx)\n",
      "\n",
      "b=diff(v,y,1)                                         #finding (du/dy)\n",
      "\n",
      "#The continuity equation for steady,incompressible flow is satisfied.Hence the flow is possible.The stream, function psi is related to u and v as,\n",
      "\n",
      "psi=integrate((u),y)                                  #integrating with respect to y\n",
      "\n",
      "print \"psi\",psi,\"+f(x)\"\n",
      "\n",
      "d_psi=diff(psi,x,1)                                   #finding (dpsi/dx)\n",
      "\n",
      "#take f'(x) as ff\n",
      "\n",
      "ff=-(a**2)+(x**2)                                     # assigning f'(x)\n",
      "\n",
      "f_x=integrate(ff, x)                                  #integrating to get f(x)\n",
      "\n",
      "print \"psi=\",psi,f_x,\"+constant\"                      #replacing f(x)\n"
     ],
     "language": "python",
     "metadata": {},
     "outputs": [
      {
       "output_type": "stream",
       "stream": "stdout",
       "text": [
        "psi x*y**2 +f(x)\n",
        "psi= x*y**2 -a**2*x + x**3/3 +constant\n"
       ]
      }
     ],
     "prompt_number": 11
    },
    {
     "cell_type": "heading",
     "level": 2,
     "metadata": {},
     "source": [
      "Example 3.24 Page No83"
     ]
    },
    {
     "cell_type": "code",
     "collapsed": false,
     "input": [
      "from sympy import *\n",
      "\n",
      "#Variable Initialisation\n",
      "\n",
      "x,y,z,U_in,a,r=symbols(\"x y z U_in a r\")\n",
      "\n",
      "#Calculation\n",
      "\n",
      "n=3*x*y                                   #given value\n",
      "\n",
      "u=diff(n,x,1)                             #d_psi/dy\n",
      "\n",
      "psi=integrate(u, y)  #integrating to find psi    \n",
      "\n",
      "v=diff(n,y,1)                             #d_psi/dx\n",
      "\n",
      "ff=-v                                     #assinging to f'(x)\n",
      "\n",
      "f_x=integrate(ff, x)                      #integrating to get f(x)\n",
      "\n",
      "psi=psi-(-f_x)                            #substituting in psi\n",
      "\n",
      "print \"(i)psi=\",psi,\"+c,where c is a constant\"\n",
      "\n",
      "#second equation\n",
      "\n",
      "n=4*(x**2-y**2)                           #given value\n",
      "\n",
      "u=diff(n,x,1)                             #d_psi/dy\n",
      "\n",
      "psi=integrate(u, y)                       #integrating to find psi    \n",
      "\n",
      "v=diff(n,y,1)                             #d_psi/dx\n",
      "\n",
      "ff=-v                                     #assinging to f'(x)\n",
      "\n",
      "f_x=diff(ff,x)                            #differentiating to get f(x)\n",
      "\n",
      "psi=psi-(-f_x)                            #substituting in psi\n",
      "\n",
      "print \"(i)psi=\",psi,\"+c\"\n",
      "\n",
      "\n",
      "#Third value\n",
      "\n",
      "n=x+y+3                                   #given value\n",
      "\n",
      "u=diff(n,x,1)                             #d_psi/dy\n",
      "\n",
      "psi=integrate(u, y)  #integrating to find psi    \n",
      "\n",
      "v=diff(n,y,1)                             #d_psi/dx\n",
      "\n",
      "ff=-v                                     #assinging to f'(x)\n",
      "\n",
      "f_x=integrate(ff, x)                      #integrating to get f(x)\n",
      "\n",
      "psi=psi-(-f_x)                            #substituting in psi\n",
      "\n",
      "print \"(i)psi=\",psi,\"+c,where c is a constant\"\n"
     ],
     "language": "python",
     "metadata": {},
     "outputs": [
      {
       "output_type": "stream",
       "stream": "stdout",
       "text": [
        "(i)psi= -3*x**2/2 + 3*y**2/2 +c,where c is a constant\n",
        "(i)psi= 8*x*y +c\n",
        "(i)psi= -x + y +c,where c is a constant\n"
       ]
      }
     ],
     "prompt_number": 12
    },
    {
     "cell_type": "heading",
     "level": 2,
     "metadata": {},
     "source": [
      "Example 3.25 Page No84"
     ]
    },
    {
     "cell_type": "code",
     "collapsed": false,
     "input": [
      "from sympy import *\n",
      "\n",
      "#Variable Initialisation\n",
      "\n",
      "x, y,z,c,A,m=symbols(\"x y z c A m\")\n",
      "\n",
      "#Calculation\n",
      "\n",
      "#A valid potential function satisfies the Laplace equation.(d**2u/dx**2)+(d**2v/dy**2)=0.\n",
      "\n",
      "phi=A*x*y                                            #Given equations\n",
      "\n",
      "a=diff(phi,x,2)                                      #differentiating to get (d**2u/dx**2)\n",
      "\n",
      "b=diff(phi,y,2)                                      #Differentiating to get (d**2v/dy**2)\n",
      "\n",
      "c=a+b\n",
      "\n",
      "print \"(d**2u/dx**2)+(d**2u/dy**2)=\",c,\"Hence,phi=\",phi,\"is a valid potential function\"\n",
      "\n",
      "phi=m*ln(x)                                          #Given equations\n",
      "\n",
      "a=diff(phi,x,2)                                      #differentiating to get (d**2u/dx**2)\n",
      "\n",
      "b=diff(phi,y,2)                                      #Differentiating to get (d**2v/dy**2)\n",
      "\n",
      "c=a+b\n",
      "\n",
      "print \"(d**2u/dx**2)+(d**2u/dy**2)=\",c,\"Hence,phi=\",phi,\"is not a valid potential function\"\n",
      "\n",
      "phi=A*(x**2-y**2)                                    #Given equations\n",
      "\n",
      "a=diff(phi,x,2)                                      #differentiating to get (d**2u/dx**2)\n",
      "\n",
      "b=diff(phi,y,2)                                      #Differentiating to get (d**2v/dy**2)\n",
      "\n",
      "c=a+b\n",
      "\n",
      "print \"(d**2u/dx**2)+(d**2u/dy**2)=\",c,\"Hence,phi=\",phi,\"is a valid potential function\"\n",
      "\n",
      "phi=A*cos(x)                                         #Given equations\n",
      "\n",
      "a=diff(phi,x,2)                                      #differentiating to get (d**2u/dx**2)\n",
      "\n",
      "b=diff(phi,y,2)                                      #Differentiating to get (d**2v/dy**2)\n",
      "\n",
      "c=a+b\n",
      "\n",
      "print \"(d**2u/dx**2)+(d**2u/dy**2)=\",c,\"Hence,phi=\",phi,\"is not a valid potential function\"\n"
     ],
     "language": "python",
     "metadata": {},
     "outputs": [
      {
       "output_type": "stream",
       "stream": "stdout",
       "text": [
        "(d**2u/dx**2)+(d**2u/dy**2)= 0 Hence,phi= A*x*y is a valid potential function\n",
        "(d**2u/dx**2)+(d**2u/dy**2)= -m/x**2 Hence,phi= m*log(x) is not a valid potential function\n",
        "(d**2u/dx**2)+(d**2u/dy**2)= 0 Hence,phi= A*(x**2 - y**2) is a valid potential function\n",
        "(d**2u/dx**2)+(d**2u/dy**2)= -A*cos(x) Hence,phi= A*cos(x) is not a valid potential function\n"
       ]
      }
     ],
     "prompt_number": 13
    },
    {
     "cell_type": "heading",
     "level": 2,
     "metadata": {},
     "source": [
      "Example 3.26 Page No85"
     ]
    },
    {
     "cell_type": "code",
     "collapsed": false,
     "input": [
      "from sympy import *\n",
      "\n",
      "#Variable Initialisation\n",
      "\n",
      "x,y,z,A=symbols(\"x y z A\")\n",
      "\n",
      "#Calculation\n",
      "\n",
      "psi=A*((x**2)-(y**2))                                           #given\n",
      "\n",
      "u=diff(psi,y,1)                                                 #differentiating to find dn/dx\n",
      "\n",
      "n=integrate(u, x)                                               #integrating to find n\n",
      "\n",
      "v=-diff(psi,x,1)                                                #differentiating to find dn/dy\n",
      "\n",
      "#v=diff(n,y,1)=-2*A*x+f'(y),By comparing those two\n",
      "\n",
      "#f'(y)=0\n",
      "\n",
      "print \"n=\",n,\"+constant\"\n",
      "\n",
      "#second equation is taken\n",
      "\n",
      "psi=y**3-(3*x**2*y)                                             #given\n",
      "\n",
      "u=diff(psi,y,1)                                                 #differentiating to find dn/dx\n",
      "\n",
      "n=integrate(u, x)                                               #integrating to find n\n",
      "\n",
      "v=-diff(psi,x,1)                                                #differentiating to find dn/dy\n",
      "\n",
      "#v=diff(n,y,1)=-2*A*x+f'(y),By comparing those two\n",
      "\n",
      "#f'(y)=0\n",
      "\n",
      "print \"n=\",n,\"+constant\"\n"
     ],
     "language": "python",
     "metadata": {},
     "outputs": [
      {
       "output_type": "stream",
       "stream": "stdout",
       "text": [
        "n= -2*A*x*y +constant\n",
        "n= -x**3 + 3*x*y**2 +constant\n"
       ]
      }
     ],
     "prompt_number": 14
    },
    {
     "cell_type": "code",
     "collapsed": false,
     "input": [],
     "language": "python",
     "metadata": {},
     "outputs": []
    }
   ],
   "metadata": {}
  }
 ]
}