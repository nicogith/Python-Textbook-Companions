{
 "metadata": {
  "name": "chapter9"
 },
 "nbformat": 3,
 "nbformat_minor": 0,
 "worksheets": [
  {
   "cells": [
    {
     "cell_type": "heading",
     "level": 1,
     "metadata": {},
     "source": "Chapter 9:Drag and Lift on Immersed Bodies"
    },
    {
     "cell_type": "heading",
     "level": 2,
     "metadata": {},
     "source": "Example 9.2 Page No198"
    },
    {
     "cell_type": "code",
     "collapsed": false,
     "input": "from __future__ import division\n\nimport math\n\n#variable initialisation\n\nD=20                         #diameter in cm\n\nrho_s=2.8*998                #relative density\n\nrho_w=998                    #relative density of water in kg/m^3\n\nv=1E-6                       #velocity in m^2/s\n\ng=9.81                       #gravity constant in m/s^2\n\nrho_f=998\n\n#solution\n\n#assume Re>3*E+5.then\n\nC_D=0.20\n\n#At terminal velocity V-0t,submerged weight=Drag\n\nD=D/100                     #converting D in m\n\nV_ot=round(math.sqrt((4/3)*(D/C_D)*((g)*((rho_s/rho_f)-1))),3)\n\nRe=(V_ot*(D/100))/v         #calculating Re\n\n#from Re,its clear,Re>3*10^5\n\nprint \"Hence the initial assumption is correct and V_ot=\",V_ot,\"m/s\"\n                    ",
     "language": "python",
     "metadata": {},
     "outputs": [
      {
       "output_type": "stream",
       "stream": "stdout",
       "text": "Hence the initial assumption is correct and V_ot= 4.852 m/s\n"
      }
     ],
     "prompt_number": 1
    },
    {
     "cell_type": "heading",
     "level": 2,
     "metadata": {},
     "source": "Example 9.3 Page No199"
    },
    {
     "cell_type": "code",
     "collapsed": false,
     "input": "from __future__ import division\n\nimport math\n\n#variable initialisation\n\nrho_f=998                  #density of water in kg/m^3\n\nmu=1E-3                    #coefficient of viscosity in Pa.s\n\ng=9.81                     #gravity in m/s^2\n\nga_s=2.65*998              #particles RD\n\nga_f=998                   #relative density in kg/m^3\n\n#solution\n\n#Stoke's law is valid upto Re=1.0\n\n#For maximum size particles that obey stoke's law,\n\n#Using fall velocity and stoke's law,\n\nV_ot=(1/18)*g*(mu/rho_f)*((ga_s/ga_f)-1)        #terminal velocity\n\nV_o=round(math.pow(V_ot,1/3)*1000,2)            #taking cube root\n\nprint \"V_ot=\",V_o,\"mm/s\"\n\nD=(mu)/(rho_f*V_o/1000)                          #size\n\nprint \"D=\",round(D*1000,4),\"mm\"",
     "language": "python",
     "metadata": {},
     "outputs": [
      {
       "output_type": "stream",
       "stream": "stdout",
       "text": "V_ot= 9.66 mm/s\nD= 0.1037 mm\n"
      }
     ],
     "prompt_number": 3
    },
    {
     "cell_type": "heading",
     "level": 2,
     "metadata": {},
     "source": "Example 9.4 Page No199"
    },
    {
     "cell_type": "code",
     "collapsed": false,
     "input": "from __future__ import division\n\n#variable initialisation\n\nga_s=2.60*998           #relative density of sphere\n\nD=2.0                   #Diameter in mm\n\nv=1.25                  #velocity in cm/s\n\nga_f=917                #density of oil in kg/m^3 \n\ng=9.81                  #gravity in m/s^2\n\n#solution\n\n#Assuming validity of Stoke's law,\n\n#using Fall Velocity equation,\n\nmu=round((((D/1000)**2)*((ga_s*g)-(ga_f*g)))/(18*(v/100)),3)\n\nprint \"coefficient of dynamic viscosity mu=\",mu,\"Pa.s\"\n\n#Reynold's number,\n\nRe=round((ga_f*(v/100)*(D/1000))/(mu),3)\n\nprint Re,\" < 1.0\"\n\nprint \"Hence the assumed Stoke's law is valid\"",
     "language": "python",
     "metadata": {},
     "outputs": [
      {
       "output_type": "stream",
       "stream": "stdout",
       "text": "coefficient of dynamic viscosity mu= 0.293 Pa.s\n0.078  < 1.0\nHence the assumed Stoke's law is valid\n"
      }
     ],
     "prompt_number": 4
    },
    {
     "cell_type": "heading",
     "level": 2,
     "metadata": {},
     "source": "Example 9.5 Page No199"
    },
    {
     "cell_type": "code",
     "collapsed": false,
     "input": "from __future__ import division\n\nimport math\n\n#variable initialisation\n\nD=0.2                        #diameter in mm\n\nrho_f=1.20                   #density of air in kg/m^3\n\nrho_s=998                    #density of water in kg/m^3\n\ng=9.81                       #gravity in m/s^2\n\nC_D=4.20                     #Drag coefficient\n\nD1=2.0                       #Diameter in mm\n\nC_D1=0.517                   #Drag coefficient\n\n#solution\n\nD=D/1000                     #converting D to m\n\nprint \"For 0.2 mm rain drop:\"\n\nV_ot=round(math.sqrt((((4*g*D)/(3*C_D))*((rho_s/rho_f)-1))),2)\n\nprint \"V_ot=\",V_ot,\"m/s\"\n\nprint \"For 2.0 mm rain drop:\"\n\nD1=D1/1000                   #converting D to m\n\nV_ot=round(math.sqrt((((4*g*D1)/(3*C_D1))*((rho_s/rho_f)-1))),2)\n\nprint \"V_ot=\",V_ot,\"m/s\"",
     "language": "python",
     "metadata": {},
     "outputs": [
      {
       "output_type": "stream",
       "stream": "stdout",
       "text": "For 0.2 mm rain drop:\nV_ot= 0.72 m/s\nFor 2.0 mm rain drop:\nV_ot= 6.48 m/s\n"
      }
     ],
     "prompt_number": 5
    },
    {
     "cell_type": "heading",
     "level": 2,
     "metadata": {},
     "source": "Example 9.6 Page No199"
    },
    {
     "cell_type": "code",
     "collapsed": false,
     "input": "from __future__ import division\n\nimport math\n\n#variable initialisation\n\nV_o=60                  #velocity in Km/h\n\nC_d=0.35                #Drag coefficient\n\nC_d1=0.30               #reduced Drag coefficient \n\nA=1.6                   #area in m^2\n\nrho=1.2 \n\n#solution\n\nV_o=(V_o*1000)/(60*60)   #converting V_o into m/s\n\n#power required to overcome wind resistance by the car\n\nF_D=round(C_d * A * rho * ((V_o**2)/2),2)\n\np=F_D*V_o                #power \n\nprint \"a)power=\",round(p/1000,3),\"kW\"\n\nV_o=(p*2)/(C_d1*A*rho)   #Speed\n\nV=math.pow(V_o,1/3)*18/5 #taking cuberoot\n\nprint \"b)Vo=\",round(V,2),\"Km/h\"",
     "language": "python",
     "metadata": {},
     "outputs": [
      {
       "output_type": "stream",
       "stream": "stdout",
       "text": "a)power= 1.556 kW\nb)Vo= 63.16 Km/h\n"
      }
     ],
     "prompt_number": 1
    },
    {
     "cell_type": "heading",
     "level": 2,
     "metadata": {},
     "source": "Example 9.9 Page No201"
    },
    {
     "cell_type": "code",
     "collapsed": false,
     "input": "from __future__ import division\n\nimport math\n\n#variable initialisation\n\ng=9.81               #gravity in m/s^2\n\nh=2                  #height in m\n\nF_D=1000             #total load in N\n\nrho=1.2              #density in kg/m^3\n\n#solution\n\nC_d=1.33                       #for the hemisphere with concave frontal surface\n\nV_ot=round(math.sqrt(2*g*h),2) #Terminal Velocity\n\nD=F_D*(4/3.14)*(2/(C_d*rho*(V_ot**2)))#minimum size\n       \nprint \"D=\",round(math.sqrt(D),2),\"m,say 6.5 m\"",
     "language": "python",
     "metadata": {},
     "outputs": [
      {
       "output_type": "stream",
       "stream": "stdout",
       "text": "D= 6.38 m,say 6.5 m\n"
      }
     ],
     "prompt_number": 8
    }
   ],
   "metadata": {}
  }
 ]
}