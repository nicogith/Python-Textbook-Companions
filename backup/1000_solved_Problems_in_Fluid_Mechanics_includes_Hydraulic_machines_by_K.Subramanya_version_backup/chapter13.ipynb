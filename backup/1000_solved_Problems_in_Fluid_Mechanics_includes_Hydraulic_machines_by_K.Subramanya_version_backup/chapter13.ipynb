{
 "metadata": {
  "name": "chapter13"
 },
 "nbformat": 3,
 "nbformat_minor": 0,
 "worksheets": [
  {
   "cells": [
    {
     "cell_type": "heading",
     "level": 1,
     "metadata": {},
     "source": "Chapter 13:Flow Measurement"
    },
    {
     "cell_type": "heading",
     "level": 2,
     "metadata": {},
     "source": "Example 13.2 Page No321"
    },
    {
     "cell_type": "code",
     "collapsed": false,
     "input": "from __future__ import division\n\nimport math\n\n#variable initialization\n\nd=25                             #diameter im mm\n\nH=5.5                            #head in m\n\nQ=3                              #rate in L/s\n\nx=1.5                            #horizontal distance\n\ny=0.12                           #vertical distance\n\ng=9.81                           #gravity in m/s^2\n\n#solution\n\nCv=round(x/(math.sqrt(4*y*H)),3)    #Coefficient of velocity\n\nprint \"Cv=\",Cv                  \n\nQ=Q/1000 \n\na=((math.pi)/4)*((d/1000)**2)\n\nCd=round(Q/(a*(math.sqrt(2*g*H))),3) #Coefficient of contadiction\n\nprint \"Cd=\",Cd\n\nCc=Cd/Cv                             #Coefficient of discharge\n\nprint \"Cc=\",round(Cc,3)",
     "language": "python",
     "metadata": {},
     "outputs": [
      {
       "output_type": "stream",
       "stream": "stdout",
       "text": "Cv= 0.923\nCd= 0.588\nCc= 0.637\n"
      }
     ],
     "prompt_number": 1
    },
    {
     "cell_type": "heading",
     "level": 2,
     "metadata": {},
     "source": "Example 13.5 Page No322"
    },
    {
     "cell_type": "code",
     "collapsed": false,
     "input": "from __future__ import division\n\nimport math\n\n#variable initialisation\n\nD=10                 #diameter in cm\n\nV1=2.5               #Velocity in pipe in m/s\n\nP1=50                #pressure in kPa\n\nCv=0.98              #coefficient of velocity\n\nga=9.79              #Relative density\n\ng=9.81               #gravity in m/s^2\n\n#solution\n\nH=round((P1/ga)+((V1**2)/(2*g)),3)    #Total head\n\nVj=round(Cv*(math.sqrt(2*g*H)),2)     #Velocity of jet\n\nprint \"Vj=\",Vj,\"m/s\"\n\nA1=(math.pi/4)*((D/100)**2)           #Discharge\n\naj=(A1*V1)/Vj\n\nDj=math.sqrt(aj*4/(math.pi))\n\nprint \"Dj=\",round((Dj*100),2),\"cm\"\n\nHl=((1/(Cv**2))-1)*((Vj**2)/(2*g))    #Headloss\n\nprint \"HL=\",round(Hl,3),\"m\" ",
     "language": "python",
     "metadata": {},
     "outputs": [
      {
       "output_type": "stream",
       "stream": "stdout",
       "text": "Vj= 10.11 m/s\nDj= 4.97 cm\nHL= 0.215 m\n"
      }
     ],
     "prompt_number": 2
    },
    {
     "cell_type": "heading",
     "level": 2,
     "metadata": {},
     "source": "Example 13.8 Page No323"
    },
    {
     "cell_type": "code",
     "collapsed": false,
     "input": "from __future__ import division\n\nimport math\n\n#variable initialisation\n\nQ=20                     #Discharge in L/s\n\ng=9.81                   #gravity in m/s^2\n\nKf=0.99                  #flow coefficient of nozzle\n\nD=3.0                    #diameter in cm\n\nga=0.70*9.79             #relative density\n\n#solution\n\nA2=math.pi/4*(D/100)**2      #calculating area\n\nQ=Q/10000                    #converting into m^3/s\n\ndel_H=((Q/(Kf*A2))**2)/(2*g) #Head difference across nozzle\n\n#For a Horizontal nozzle Z1-Z2=0\n\ndel_P=ga*del_H               #calculating del_p\n\nprint \"del_p=\", round(del_P,3),\"kPa\"",
     "language": "python",
     "metadata": {},
     "outputs": [
      {
       "output_type": "stream",
       "stream": "stdout",
       "text": "del_p= 2.853 kPa\n"
      }
     ],
     "prompt_number": 3
    },
    {
     "cell_type": "heading",
     "level": 2,
     "metadata": {},
     "source": "Example 13.18 Page No328"
    },
    {
     "cell_type": "code",
     "collapsed": false,
     "input": "from __future__ import division\n\nimport math\n\n#variable initialisation\n\nD2=10                  #diameter in cm\n\nD1=20                  #diameter in cm\n\nSm=13.6                #relative density constant\n\nSp=0.9                 #relative density\n\nCd=0.99                #coefficient of discharge\n\ng=9.81                 #gravity in m/s^2\n\ny=9                    #manometer reading in cm\n\n#solution\n\n#for a differential monometer\n\nr=(D1/2)/100            #radius\n\nA2=(math.pi/4)*((r)**2) #area\n\nD=round(math.sqrt(1-(D2/D1)**4),3) \n\ndelh=(Sm/Sp)-1          #calculating delh\n\nQ=round(((Cd*A2)/D)*(math.sqrt(2*g*(delh*(y/100)))),2) #calculating flow\n\nprint \"Q=\",Q*1000,\"L/s\"\n\n#when Q=50L/s\n\nQ=50/1000\n\ns=(((Cd*A2)/D)*(math.sqrt(2*g*(delh))))\n\ny=round((Q/s)**2,2)     #manometer reading\n\nprint \"y=\",int(y*100),\"cm\"",
     "language": "python",
     "metadata": {},
     "outputs": [
      {
       "output_type": "stream",
       "stream": "stdout",
       "text": "Q= 40.0 L/s\ny= 14 cm\n"
      }
     ],
     "prompt_number": 4
    },
    {
     "cell_type": "heading",
     "level": 2,
     "metadata": {},
     "source": "Example 13.22 Page No330"
    },
    {
     "cell_type": "code",
     "collapsed": false,
     "input": "from __future__ import division\n\nimport math\n\n#variable initialisation\n\nD1=20                    #diameter in cm\n\nCd=0.985                 #coefficient of discharge\n\nSm=0.6                   #relative density of liquid\n\nSp=1.0                   #relative density\n\ny=15                     #U-tube reading in cm\n\nD2=10                    #diameter in cm\n\ng=9.81                   #gravity in m/s^2\n\n#solution\n\n#from the inverted differential manometer\n\ndelh=(y/100)*(1-(Sm/Sp))\n\n#By the venturimeter equation,\n\nA2=(math.pi/4)*(((D1/100)/2)**2)  #area\n\ns=math.sqrt((1-((D2/D1)**4)))\n\nQ=((Cd*A2)/s)*(math.sqrt((2*g*delh)))\n\nprint \"Q=\",round(Q*1000,2),\"L/s\"\n\nHLi=(1-(Cd**2))*delh              #Head loss in the intel section\n\nprint \"HLi=\",(round(HLi,4)*1000),\"mm of water\"",
     "language": "python",
     "metadata": {},
     "outputs": [
      {
       "output_type": "stream",
       "stream": "stdout",
       "text": "Q= 8.67 L/s\nHLi= 1.8 mm of water\n"
      }
     ],
     "prompt_number": 6
    },
    {
     "cell_type": "heading",
     "level": 2,
     "metadata": {},
     "source": "Example 13.24 Page No331"
    },
    {
     "cell_type": "code",
     "collapsed": false,
     "input": "from __future__ import division\n\nimport math\n\n#variable initialization\n\nSp=0.85              #Relative density\n\ny=4                  #pitot static tube reading in cm\n\nC=0.99               #coefficient of pitot tube\n\nSm=13.6              #relative density\n\ng=9.81               #gravity in m/s^2\n\n#solution\n\n#For the differential monometer\n\ndel_h=(y/100)*((Sm/Sp)-1)    #del_h\n\n#For the pitot tube\n\nVo=C*(math.sqrt(2*g*del_h))  #Velocity\n\nprint \"Velocity at M=\",round(Vo,3),\"m/s\"",
     "language": "python",
     "metadata": {},
     "outputs": [
      {
       "output_type": "stream",
       "stream": "stdout",
       "text": "Velocity at M= 3.397 m/s\n"
      }
     ],
     "prompt_number": 8
    },
    {
     "cell_type": "heading",
     "level": 2,
     "metadata": {},
     "source": "Example 13.26 Page No332"
    },
    {
     "cell_type": "code",
     "collapsed": false,
     "input": "from __future__ import division\n\nimport math\n\n#variable initialization\n\nPs=3.0                     #Stagnation Pressure in kPa\n\nPo=-3.0                    #Static pressure in kPa\n\nrho=1.20                   #mass density in kg/m^3\n\nC=0.98                     #instrument coefficient\n\n#solution\n\n#In a pitot static tube,\n\n#Velocity of flow\n\nVo=C*math.sqrt(((2*(Ps-Po))/rho)*1000)\n\nprint \"Vo=\",int(Vo),\"m/s\"",
     "language": "python",
     "metadata": {},
     "outputs": [
      {
       "output_type": "stream",
       "stream": "stdout",
       "text": "Vo= 98 m/s\n"
      }
     ],
     "prompt_number": 13
    },
    {
     "cell_type": "heading",
     "level": 2,
     "metadata": {},
     "source": "Example 13.27 Page No332"
    },
    {
     "cell_type": "code",
     "collapsed": false,
     "input": "from __future__ import division\n\nimport math\n\n#variable initialization\n\nD=30                     #diameter in cm\n\nPs=-10                   #static pressure in cm\n\nPsn=1.0                  #stagnation pressure in N/cm^2\n\nC=0.98                   #coefficient of tube\n \nga=9790                  #density\n\ng=9.81                   #gravity\n\n#solution\n\nPo=(Ps/100)*13.6                 #Calculating Po/ga\n\nPs=Psn*(10**4)/ga                #Calculating ps/ga\n\ndel_h=(Ps-Po)\n\nVm=C*math.sqrt(2*g*del_h)        #Centreline velocity\n\nV=0.85*Vm                        #Mean velocity\n\nQ=(math.pi/4)*((D/100)**2)*V     #Discharge\n\nprint \"Q=\",round(Q,3),\"m^3/s\"",
     "language": "python",
     "metadata": {},
     "outputs": [
      {
       "output_type": "stream",
       "stream": "stdout",
       "text": "Q= 0.402 m^3/s\n"
      }
     ],
     "prompt_number": 10
    },
    {
     "cell_type": "heading",
     "level": 2,
     "metadata": {},
     "source": "Example 13.31 Page No333"
    },
    {
     "cell_type": "code",
     "collapsed": false,
     "input": "from __future__ import division\n\nimport math\n\n#variable initialization\n\nL=0.40              #Width in m\n\nQ=25                #discharge in L/s\n\nH1=10               #head in cm\n\ng=9.81              #gravity in m/s^2\n\n#solution\n\n#By the weir formula,\n\nCd=(Q/1000)/((2/3)*(math.sqrt(2*g))*L*(math.pow((H1/100),3/2)))\n\nprint \"Cd=\",round(Cd,3) #Coefficient of discharge",
     "language": "python",
     "metadata": {},
     "outputs": [
      {
       "output_type": "stream",
       "stream": "stdout",
       "text": "Cd= 0.669\n"
      }
     ],
     "prompt_number": 11
    },
    {
     "cell_type": "heading",
     "level": 2,
     "metadata": {},
     "source": "Example 13.35 Page No334"
    },
    {
     "cell_type": "code",
     "collapsed": false,
     "input": "from __future__ import division\n\nimport math\n\n#variable initialization\n\nL=2.5              #length in m\n  \nCd=0.62            #Coefficient of discharge\n\nH1=0.7             #head in m\n\nt=0.15             #thickness in m\n\ng=9.81             #gravity in m/s^2\n\n#solution\n\nL=L-2*t                #crest length\n\nn=2+(2*2)              #no of end contractions\n\nLe=L-(0.1*n*H1)        #effective crest length\n\n#The discharge from Francis Formula by neglecting the velocity of approach,\n\nQ=(2/3)*(Cd)*(math.sqrt(2*g))*(Le)*(math.pow(H1,3/2)) \n\nprint \"Q=\",round(Q,2),\"m^3/s\"",
     "language": "python",
     "metadata": {},
     "outputs": [
      {
       "output_type": "stream",
       "stream": "stdout",
       "text": "Q= 1.91 m^3/s\n"
      }
     ],
     "prompt_number": 12
    }
   ],
   "metadata": {}
  }
 ]
}