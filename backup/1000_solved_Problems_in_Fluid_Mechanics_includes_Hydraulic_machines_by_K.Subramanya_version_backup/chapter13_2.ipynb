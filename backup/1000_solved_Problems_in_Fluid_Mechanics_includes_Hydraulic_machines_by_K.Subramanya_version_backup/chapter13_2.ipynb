{
 "metadata": {
  "name": "",
  "signature": "sha256:114e27d0f75ab0a3937767151340a6084dece65cd6fc08658c68961d11e12fb8"
 },
 "nbformat": 3,
 "nbformat_minor": 0,
 "worksheets": [
  {
   "cells": [
    {
     "cell_type": "heading",
     "level": 1,
     "metadata": {},
     "source": [
      "Chapter 13:Flow Measurement"
     ]
    },
    {
     "cell_type": "heading",
     "level": 2,
     "metadata": {},
     "source": [
      "Example 13.1 Page No320"
     ]
    },
    {
     "cell_type": "code",
     "collapsed": false,
     "input": [
      "from __future__ import division\n",
      "\n",
      "import math\n",
      "\n",
      "#variable initialization\n",
      "\n",
      "g=9.81                               #Gravity constant\n",
      "\n",
      "H=2                                  #height in m\n",
      "\n",
      "hL=0.2                               #headloss\n",
      "\n",
      "Cc=0.63                              #Coefficient of contraction\n",
      "\n",
      "D=4                                  #Diameter in cm\n",
      "\n",
      "#Calculation\n",
      "\n",
      "D=D/100                              #Converting into m\n",
      "\n",
      "V=round(math.sqrt(2*g*H),3)          #Ideal Velocity\n",
      "\n",
      "Va=math.sqrt(2*g*(H-hL))\n",
      "\n",
      "Cv=round(Va/V,3)\n",
      "\n",
      "print \"(i)Coefficient of velocity Cv=\",Cv\n",
      "\n",
      "Cd=round(Cc*Cv,3)\n",
      "\n",
      "print \"Coefficient of discharge Cd=\",Cd\n",
      "\n",
      "a=math.pi/4*(D**2)                   #Discharge through the orifice\n",
      "\n",
      "Q=Cd*a*(V)\n",
      "\n",
      "print \"(ii)Q=\",round(Q*1000,3),\"L/s\"\n",
      "\n",
      "y=0.50                              #Given value\n",
      "\n",
      "x=Cv*(4*y*H)**(1/2)\n",
      "\n",
      "print \"(iii)x=\",x,\"m\"\n"
     ],
     "language": "python",
     "metadata": {},
     "outputs": [
      {
       "output_type": "stream",
       "stream": "stdout",
       "text": [
        "(i)Coefficient of velocity Cv= 0.949\n",
        "Coefficient of discharge Cd= 0.598\n",
        "(ii)Q= 4.707 L/s\n",
        "(iii)x= 1.898 m\n"
       ]
      }
     ],
     "prompt_number": 1
    },
    {
     "cell_type": "heading",
     "level": 2,
     "metadata": {},
     "source": [
      "Example 13.2 Page No321"
     ]
    },
    {
     "cell_type": "code",
     "collapsed": false,
     "input": [
      "from __future__ import division\n",
      "\n",
      "import math\n",
      "\n",
      "#variable initialization\n",
      "\n",
      "d=25                             #diameter im mm\n",
      "\n",
      "H=5.5                            #head in m\n",
      "\n",
      "Q=3                              #rate in L/s\n",
      "\n",
      "x=1.5                            #horizontal distance\n",
      "\n",
      "y=0.12                           #vertical distance\n",
      "\n",
      "g=9.81                           #gravity in m/s^2\n",
      "\n",
      "#solution\n",
      "\n",
      "Cv=round(x/(math.sqrt(4*y*H)),3)    #Coefficient of velocity\n",
      "\n",
      "print \"Cv=\",Cv                  \n",
      "\n",
      "Q=Q/1000 \n",
      "\n",
      "a=((math.pi)/4)*((d/1000)**2)\n",
      "\n",
      "Cd=round(Q/(a*(math.sqrt(2*g*H))),3) #Coefficient of contadiction\n",
      "\n",
      "print \"Cd=\",Cd\n",
      "\n",
      "Cc=Cd/Cv                             #Coefficient of discharge\n",
      "\n",
      "print \"Cc=\",round(Cc,3)\n"
     ],
     "language": "python",
     "metadata": {},
     "outputs": [
      {
       "output_type": "stream",
       "stream": "stdout",
       "text": [
        "Cv= 0.923\n",
        "Cd= 0.588\n",
        "Cc= 0.637\n"
       ]
      }
     ],
     "prompt_number": 2
    },
    {
     "cell_type": "heading",
     "level": 2,
     "metadata": {},
     "source": [
      "Example 13.5 Page No322"
     ]
    },
    {
     "cell_type": "code",
     "collapsed": false,
     "input": [
      "from __future__ import division\n",
      "\n",
      "import math\n",
      "\n",
      "#variable initialisation\n",
      "\n",
      "D=10                 #diameter in cm\n",
      "\n",
      "V1=2.5               #Velocity in pipe in m/s\n",
      "\n",
      "P1=50                #pressure in kPa\n",
      "\n",
      "Cv=0.98              #coefficient of velocity\n",
      "\n",
      "ga=9.79              #Relative density\n",
      "\n",
      "g=9.81               #gravity in m/s^2\n",
      "\n",
      "#solution\n",
      "\n",
      "H=round((P1/ga)+((V1**2)/(2*g)),3)    #Total head\n",
      "\n",
      "Vj=round(Cv*(math.sqrt(2*g*H)),2)     #Velocity of jet\n",
      "\n",
      "print \"Vj=\",Vj,\"m/s\"\n",
      "\n",
      "A1=(math.pi/4)*((D/100)**2)           #Discharge\n",
      "\n",
      "aj=(A1*V1)/Vj\n",
      "\n",
      "Dj=math.sqrt(aj*4/(math.pi))\n",
      "\n",
      "print \"Dj=\",round((Dj*100),2),\"cm\"\n",
      "\n",
      "Hl=((1/(Cv**2))-1)*((Vj**2)/(2*g))    #Headloss\n",
      "\n",
      "print \"HL=\",round(Hl,3),\"m\" \n"
     ],
     "language": "python",
     "metadata": {},
     "outputs": [
      {
       "output_type": "stream",
       "stream": "stdout",
       "text": [
        "Vj= 10.11 m/s\n",
        "Dj= 4.97 cm\n",
        "HL= 0.215 m\n"
       ]
      }
     ],
     "prompt_number": 3
    },
    {
     "cell_type": "heading",
     "level": 2,
     "metadata": {},
     "source": [
      "Example 13.7 Page No323"
     ]
    },
    {
     "cell_type": "code",
     "collapsed": false,
     "input": [
      "from __future__ import division\n",
      "\n",
      "import math\n",
      "\n",
      "#variable initialization\n",
      "\n",
      "D=20                         #Diameter in cm\n",
      "\n",
      "del_H=0.5                    #pressure head differential in m\n",
      "\n",
      "mu=0.001                     #Coefficient of viscosity in Pa.s\n",
      "\n",
      "rho=998                      #density in kg/m63\n",
      "\n",
      "g=9.81                       #Gravity constant\n",
      "\n",
      "#Calculation\n",
      "\n",
      "D=D/100                      #Coverting into m\n",
      "\n",
      "#Q=K0*A2*math.sqrt(2*g*del_H)\n",
      "\n",
      "A2=(math.pi/4)*((D/2)**2)\n",
      "\n",
      "Q=A2*math.sqrt(2*g*del_H)\n",
      "\n",
      "#As K0 is not known use trial and error method,\n",
      "\n",
      "K0=0.62\n",
      "\n",
      "Q=K0*Q\n",
      "\n",
      "print \"Q=\",round(Q,5),\"m^3/s\"\n",
      "\n",
      "V=Q/(math.pi*D**2/4)         #Velocity\n",
      "\n",
      "v=mu/rho\n",
      "\n",
      "Re=V*D/v                     #Reynold's number\n",
      "\n",
      "#For this value of Re,K0 is same as assumed.Hence no iterations required.\n",
      "\n",
      "print \"Q=\",round(Q*1000,2),\"L/s\"\n"
     ],
     "language": "python",
     "metadata": {},
     "outputs": [
      {
       "output_type": "stream",
       "stream": "stdout",
       "text": [
        "Q= 0.01525 m^3/s\n",
        "Q= 15.25 L/s\n"
       ]
      }
     ],
     "prompt_number": 4
    },
    {
     "cell_type": "heading",
     "level": 2,
     "metadata": {},
     "source": [
      "Example 13.8 Page No323"
     ]
    },
    {
     "cell_type": "code",
     "collapsed": false,
     "input": [
      "from __future__ import division\n",
      "\n",
      "import math\n",
      "\n",
      "#variable initialisation\n",
      "\n",
      "Q=20                     #Discharge in L/s\n",
      "\n",
      "g=9.81                   #gravity in m/s^2\n",
      "\n",
      "Kf=0.99                  #flow coefficient of nozzle\n",
      "\n",
      "D=3.0                    #diameter in cm\n",
      "\n",
      "ga=0.70*9.79             #relative density\n",
      "\n",
      "#solution\n",
      "\n",
      "A2=math.pi/4*(D/100)**2      #calculating area\n",
      "\n",
      "Q=Q/10000                    #converting into m^3/s\n",
      "\n",
      "del_H=((Q/(Kf*A2))**2)/(2*g) #Head difference across nozzle\n",
      "\n",
      "#For a Horizontal nozzle Z1-Z2=0\n",
      "\n",
      "del_P=ga*del_H               #calculating del_p\n",
      "\n",
      "print \"del_p=\", round(del_P,3),\"kPa\"\n"
     ],
     "language": "python",
     "metadata": {},
     "outputs": [
      {
       "output_type": "stream",
       "stream": "stdout",
       "text": [
        "del_p= 2.853 kPa\n"
       ]
      }
     ],
     "prompt_number": 5
    },
    {
     "cell_type": "heading",
     "level": 2,
     "metadata": {},
     "source": [
      "Example 13.18 Page No328"
     ]
    },
    {
     "cell_type": "code",
     "collapsed": false,
     "input": [
      "from __future__ import division\n",
      "\n",
      "import math\n",
      "\n",
      "#variable initialisation\n",
      "\n",
      "D2=10                  #diameter in cm\n",
      "\n",
      "D1=20                  #diameter in cm\n",
      "\n",
      "Sm=13.6                #relative density constant\n",
      "\n",
      "Sp=0.9                 #relative density\n",
      "\n",
      "Cd=0.99                #coefficient of discharge\n",
      "\n",
      "g=9.81                 #gravity in m/s^2\n",
      "\n",
      "y=9                    #manometer reading in cm\n",
      "\n",
      "#solution\n",
      "\n",
      "#for a differential monometer\n",
      "\n",
      "r=(D1/2)/100            #radius\n",
      "\n",
      "A2=(math.pi/4)*((r)**2) #area\n",
      "\n",
      "D=round(math.sqrt(1-(D2/D1)**4),3) \n",
      "\n",
      "delh=(Sm/Sp)-1          #calculating delh\n",
      "\n",
      "Q=round(((Cd*A2)/D)*(math.sqrt(2*g*(delh*(y/100)))),2) #calculating flow\n",
      "\n",
      "print \"Q=\",Q*1000,\"L/s\"\n",
      "\n",
      "#when Q=50L/s\n",
      "\n",
      "Q=50/1000\n",
      "\n",
      "s=(((Cd*A2)/D)*(math.sqrt(2*g*(delh))))\n",
      "\n",
      "y=round((Q/s)**2,2)     #manometer reading\n",
      "\n",
      "print \"y=\",int(y*100),\"cm\"\n"
     ],
     "language": "python",
     "metadata": {},
     "outputs": [
      {
       "output_type": "stream",
       "stream": "stdout",
       "text": [
        "Q= 40.0 L/s\n",
        "y= 14 cm\n"
       ]
      }
     ],
     "prompt_number": 6
    },
    {
     "cell_type": "heading",
     "level": 2,
     "metadata": {},
     "source": [
      "Example 13.22 Page No330"
     ]
    },
    {
     "cell_type": "code",
     "collapsed": false,
     "input": [
      "from __future__ import division\n",
      "\n",
      "import math\n",
      "\n",
      "#variable initialisation\n",
      "\n",
      "D1=20                    #diameter in cm\n",
      "\n",
      "Cd=0.985                 #coefficient of discharge\n",
      "\n",
      "Sm=0.6                   #relative density of liquid\n",
      "\n",
      "Sp=1.0                   #relative density\n",
      "\n",
      "y=15                     #U-tube reading in cm\n",
      "\n",
      "D2=10                    #diameter in cm\n",
      "\n",
      "g=9.81                   #gravityi in m/s^2\n",
      "\n",
      "#solution\n",
      "\n",
      "#from the inverted differential manometer\n",
      "\n",
      "delh=(y/100)*(1-(Sm/Sp))\n",
      "\n",
      "#By the venturimeter equation,\n",
      "\n",
      "A2=(math.pi/4)*(((D1/100)/2)**2)  #area\n",
      "\n",
      "s=math.sqrt((1-((D2/D1)**4)))\n",
      "\n",
      "Q=((Cd*A2)/s)*(math.sqrt((2*g*delh)))\n",
      "\n",
      "print \"Q=\",round(Q*1000,2),\"L/s\"\n",
      "\n",
      "HLi=(1-(Cd**2))*delh              #Head loss in the intel section\n",
      "\n",
      "print \"HLi=\",(round(HLi,4)*1000),\"mm of water\""
     ],
     "language": "python",
     "metadata": {},
     "outputs": [
      {
       "output_type": "stream",
       "stream": "stdout",
       "text": [
        "Q= 8.67 L/s\n",
        "HLi= 1.8 mm of water\n"
       ]
      }
     ],
     "prompt_number": 7
    },
    {
     "cell_type": "heading",
     "level": 2,
     "metadata": {},
     "source": [
      "Example 13.24 Page No331"
     ]
    },
    {
     "cell_type": "code",
     "collapsed": false,
     "input": [
      "from __future__ import division\n",
      "\n",
      "import math\n",
      "\n",
      "#variable initialization\n",
      "\n",
      "Sp=0.85              #Relative density\n",
      "\n",
      "y=4                  #pitot static tube reading in cm\n",
      "\n",
      "C=0.99               #coefficient of pitot tube\n",
      "\n",
      "Sm=13.6              #relative density\n",
      "\n",
      "g=9.81               #gravity\n",
      "\n",
      "#solution\n",
      "\n",
      "#For the differential monometer\n",
      "\n",
      "del_h=(y/100)*((Sm/Sp)-1)    #del_h\n",
      "\n",
      "#For the pitot tube\n",
      "\n",
      "Vo=C*(math.sqrt(2*g*del_h))  #Velocity\n",
      "\n",
      "print \"Velocity at M=\",round(Vo,3),\"m/s\""
     ],
     "language": "python",
     "metadata": {},
     "outputs": [
      {
       "output_type": "stream",
       "stream": "stdout",
       "text": [
        "Velocity at M= 3.397 m/s\n"
       ]
      }
     ],
     "prompt_number": 8
    },
    {
     "cell_type": "heading",
     "level": 2,
     "metadata": {},
     "source": [
      "Example 13.26 Page No332"
     ]
    },
    {
     "cell_type": "code",
     "collapsed": false,
     "input": [
      "from __future__ import division\n",
      "\n",
      "import math\n",
      "\n",
      "#variable initialization\n",
      "\n",
      "Ps=3.0                     #Stagnation Pressure in kPa\n",
      "\n",
      "Po=-3.0                    #Static pressure in kPa\n",
      "\n",
      "rho=1.20                   #mass density in kg/m^3\n",
      "\n",
      "C=0.98                     #instrument coefficient\n",
      "\n",
      "#solution\n",
      "\n",
      "#In a pitot static tube,\n",
      "\n",
      "#Velocity of flow\n",
      "\n",
      "Vo=C*math.sqrt(((2*(Ps-Po))/rho)*1000)\n",
      "\n",
      "print \"Vo=\",int(Vo),\"m/s\"\n"
     ],
     "language": "python",
     "metadata": {},
     "outputs": [
      {
       "output_type": "stream",
       "stream": "stdout",
       "text": [
        "Vo= 98 m/s\n"
       ]
      }
     ],
     "prompt_number": 9
    },
    {
     "cell_type": "heading",
     "level": 2,
     "metadata": {},
     "source": [
      "Example 13.27 Page No332"
     ]
    },
    {
     "cell_type": "code",
     "collapsed": false,
     "input": [
      "from __future__ import division\n",
      "\n",
      "import math\n",
      "\n",
      "#variable initialization\n",
      "\n",
      "D=30                     #diameter in cm\n",
      "\n",
      "Ps=-10                   #static pressure in cm\n",
      "\n",
      "Psn=1.0                  #stagnation pressure in N/cm^2\n",
      "\n",
      "C=0.98                   #coefficient of tube\n",
      " \n",
      "ga=9790                  #density\n",
      "\n",
      "g=9.81                   #gravity\n",
      "\n",
      "#solution\n",
      "\n",
      "Po=(Ps/100)*13.6                 #Calculating Po/ga\n",
      "\n",
      "Ps=Psn*(10**4)/ga                #Calculating ps/ga\n",
      "\n",
      "del_h=(Ps-Po)\n",
      "\n",
      "Vm=C*math.sqrt(2*g*del_h)        #Centreline velocity\n",
      "\n",
      "V=0.85*Vm                        #Mean velocity\n",
      "\n",
      "Q=(math.pi/4)*((D/100)**2)*V     #Discharge\n",
      "\n",
      "print \"Q=\",round(Q,3),\"m^3/s\""
     ],
     "language": "python",
     "metadata": {},
     "outputs": [
      {
       "output_type": "stream",
       "stream": "stdout",
       "text": [
        "Q= 0.402 m^3/s\n"
       ]
      }
     ],
     "prompt_number": 10
    },
    {
     "cell_type": "heading",
     "level": 2,
     "metadata": {},
     "source": [
      "Example 13.31 Page No333"
     ]
    },
    {
     "cell_type": "code",
     "collapsed": false,
     "input": [
      "from __future__ import division\n",
      "\n",
      "import math\n",
      "\n",
      "#variable initialization\n",
      "\n",
      "L=0.40              #Width in m\n",
      "\n",
      "Q=25                #discharge in L/s\n",
      "\n",
      "H1=10               #head in cm\n",
      "\n",
      "g=9.81              #gravity in m/s^2\n",
      "\n",
      "#solution\n",
      "\n",
      "#By the weir formula,\n",
      "\n",
      "Cd=(Q/1000)/((2/3)*(math.sqrt(2*g))*L*(math.pow((H1/100),3/2)))\n",
      "\n",
      "print \"Cd=\",round(Cd,3) #Coefficient of discharge\n"
     ],
     "language": "python",
     "metadata": {},
     "outputs": [
      {
       "output_type": "stream",
       "stream": "stdout",
       "text": [
        "Cd= 0.669\n"
       ]
      }
     ],
     "prompt_number": 11
    },
    {
     "cell_type": "heading",
     "level": 2,
     "metadata": {},
     "source": [
      "Example 13.35 Page No334"
     ]
    },
    {
     "cell_type": "code",
     "collapsed": false,
     "input": [
      "from __future__ import division\n",
      "\n",
      "import math\n",
      "\n",
      "#variable initialization\n",
      "\n",
      "L=2.5              #length in m\n",
      "  \n",
      "Cd=0.62            #Coefficient of discharge\n",
      "\n",
      "H1=0.7             #head in m\n",
      "\n",
      "t=0.15             #thickness in m\n",
      "\n",
      "g=9.81             #gravity in m/s^2\n",
      "\n",
      "#solution\n",
      "\n",
      "L=L-2*t                #crest length\n",
      "\n",
      "n=2+(2*2)              #no of end contractions\n",
      "\n",
      "Le=L-(0.1*n*H1)        #effective crest length\n",
      "\n",
      "#The discharge from Francis Formula by neglecting the velocity of approach,\n",
      "\n",
      "Q=(2/3)*(Cd)*(math.sqrt(2*g))*(Le)*(math.pow(H1,3/2)) \n",
      "\n",
      "print \"Q=\",round(Q,2),\"m^3/s\"\n"
     ],
     "language": "python",
     "metadata": {},
     "outputs": [
      {
       "output_type": "stream",
       "stream": "stdout",
       "text": [
        "Q= 1.91 m^3/s\n"
       ]
      }
     ],
     "prompt_number": 12
    }
   ],
   "metadata": {}
  }
 ]
}