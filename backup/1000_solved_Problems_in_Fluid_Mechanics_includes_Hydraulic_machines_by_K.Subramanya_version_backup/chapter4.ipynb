{
 "metadata": {
  "name": "",
  "signature": "sha256:2f13b10d00543bfad520008e8fd14a2627132428dc21fe006dc7d21a59db0909"
 },
 "nbformat": 3,
 "nbformat_minor": 0,
 "worksheets": [
  {
   "cells": [
    {
     "cell_type": "heading",
     "level": 1,
     "metadata": {},
     "source": [
      "Chapter 4:Energy Equation and Its Applications"
     ]
    },
    {
     "cell_type": "heading",
     "level": 2,
     "metadata": {},
     "source": [
      "Example 4.1 Page No95"
     ]
    },
    {
     "cell_type": "code",
     "collapsed": false,
     "input": [
      "from __future__ import division\n",
      "\n",
      "import math\n",
      "\n",
      "#variable initialisation\n",
      "\n",
      "d1=0.15                        #diameter of section A in m\n",
      "\n",
      "Q=0.05                         #discharge in m^3/s\n",
      "\n",
      "d2=0.30                        #diameter of section B in m\n",
      "\n",
      "Z1=100                         #elevation at section A in m\n",
      "\n",
      "Z2=107                         #elevation at section B in m\n",
      "\n",
      "p1=30                          #pressure at section A  in kPa\n",
      "\n",
      "H_L=2                          #energy loss in the pipe\n",
      "\n",
      "g=9.81\n",
      "\n",
      "#calculation\n",
      "\n",
      "A1=(math.pi/4)*(d1*d1)        #calculating area for section A\n",
      "\n",
      "V1=round(Q/A1,3)              #calculating volume \n",
      "\n",
      "A2=(math.pi/4)*(d2*d2)        #calculating area for section B\n",
      "\n",
      "V2=round(Q/A2,4)              #calculating volume\n",
      "\n",
      "ga=round(998*g/1000,2)        #unit length of water in kN/m^3\n",
      "\n",
      "#By,Bernuolli equation\n",
      "\n",
      "#when the flow is from A to B,taling the pressure as zero\n",
      "\n",
      "p2=round((((p1/ga)+((V1*V1)/(2*g))+Z1)-(((V2*V2)/(2*g))+Z2+H_L))*ga,2) #calculating pressure\n",
      "\n",
      "print \"(i)p2=\",p2,\"kPa(guage)\"\n",
      "\n",
      "#when the flow is from B to A,taking pressure as zero\n",
      "\n",
      "b=(p1/ga)+((V1*V1)/(2*g))+Z1\n",
      "\n",
      "a=(((V2*V2/(2*g)))+Z2)-H_L\n",
      "\n",
      "p2=round((b-a)*ga,2)                                                  #calculating pressure \n",
      "\n",
      "print \"(ii)p2=\",p2,\"kPa(guage)\""
     ],
     "language": "python",
     "metadata": {},
     "outputs": [
      {
       "output_type": "stream",
       "stream": "stdout",
       "text": [
        "(i)p2= -54.37 kPa(guage)\n",
        "(ii)p2= -15.21 kPa(guage)\n"
       ]
      }
     ],
     "prompt_number": 1
    },
    {
     "cell_type": "heading",
     "level": 2,
     "metadata": {},
     "source": [
      "Example 4.3 Page No96"
     ]
    },
    {
     "cell_type": "code",
     "collapsed": false,
     "input": [
      "from __future__ import division\n",
      "\n",
      "import math\n",
      "\n",
      "#variable initialisation\n",
      "\n",
      "p1=0                                           #pressure in kPa\n",
      "\n",
      "V1=0                                           #Velocity in m/s\n",
      "\n",
      "p3=0                                           #pressure in kPa\n",
      "\n",
      "Z3=20                                           #elevation at section 3 in m\n",
      "\n",
      "H=4                                            #head in the tank in m\n",
      "\n",
      "d=25                                           #diameter in mm\n",
      "\n",
      "D=100                                          #Diameter of pipe in mm\n",
      "\n",
      "g=9.81                                         #gravity \n",
      "\n",
      "RD_oil=0.8                                     #relative density in kg/m^3\n",
      "\n",
      "#Calculation\n",
      "\n",
      "#By continuity ctiterion,V2(math.pi/4)(D**2)=V3(math.pi/4)(d**2)=Q\n",
      "\n",
      "#Applying Bernoullis equation to points 1 and 2 with centre line of pipe as datum and pressure as zero\n",
      "\n",
      "#V2=(d/D)**2*V3\n",
      "\n",
      "#Using this equation,(p1/ga)+(V1**2)/(2*g)+Z1)=(p3/ga)+((V3**2)/(2*g))+Z3+H_L\n",
      "\n",
      "#H=V3**2/2g+20*V2**2/2g\n",
      "\n",
      "#H_L=20*V2**2/(2*g)                            #given loss of pipe\n",
      "\n",
      "V3=round(((2*g*H)/(Z3*((d/D)**4)+1))**(1/2),4)#Velocity in the pipe\n",
      "\n",
      "Q=(math.pi/4)*((d/1000)**2)*(V3)*1000              #Discharge\n",
      "\n",
      "print \"Q=\",round(Q,4),\"L/s\"\n",
      "\n",
      "V2=round((d/D)**2*V3,4)\n",
      "\n",
      "H_L=round(Z3*V2**2/(2*g),4)                   #Loss of head in the pipe\n",
      "\n",
      "#Applying Bernoulli equation to points 1 and 2,\n",
      "\n",
      "#(p1/ga)+(V1**2)/(2*g)+Z1)=(p3/ga)+((V3**2)/(2*g))+Z3+H_L\n",
      "\n",
      "ga=round(RD_oil*998*(g/1000),3)\n",
      "\n",
      "p2=round((H-(((V2**2)/(2*g))+p3+H_L)),4)       #Pressure at the base of the nozzle\n",
      "\n",
      "print \"p2=\",round(p2*ga,3),\"kPa\"\n",
      "\n",
      "\n"
     ],
     "language": "python",
     "metadata": {},
     "outputs": [
      {
       "output_type": "stream",
       "stream": "stdout",
       "text": [
        "Q= 4.1881 L/s\n",
        "p2= 28.945 kPa\n"
       ]
      }
     ],
     "prompt_number": 3
    },
    {
     "cell_type": "heading",
     "level": 2,
     "metadata": {},
     "source": [
      "Example 4.4 Page No97"
     ]
    },
    {
     "cell_type": "code",
     "collapsed": false,
     "input": [
      "from __future__ import division\n",
      "\n",
      "import math\n",
      "\n",
      "#variable initialisation\n",
      "\n",
      "d=0.30                         #diameter in m\n",
      "\n",
      "d1=0.15                        #diameter in m\n",
      "\n",
      "S=13.6                         #relative density of mercury \n",
      "\n",
      "g=9.81                         #gravity \n",
      "\n",
      "Q=0.120                        #discharge in L/s\n",
      "\n",
      "#Calculation\n",
      "\n",
      "#by continuity creiterion,\n",
      "\n",
      "V1=round(Q/((math.pi/4)*(d*d)),4)\n",
      "\n",
      "V2=round(Q/((math.pi/4)*(d1*d1)),4)\n",
      "\n",
      "#Considering the elevation of section 1 as datum,\n",
      "\n",
      "#by assumption ((p1-p2)/ga) is taken as a\n",
      "\n",
      "#a=(S-1)*h\n",
      "\n",
      "#By,Bernoulli equation for points 1 and 2\n",
      "\n",
      "#a-0.8=((v2^2-V1^2)/2g)\n",
      "\n",
      "h=((V2**2-V1**2)/(2*g))/(S-1)\n",
      "\n",
      "print \"h=\",round(h*100,01),\"cm\"   #calculating magnitude\n",
      "\n",
      "print \"Deflection:The manometer limb  connected to section 1 will be having smaller column of mercury than the other limb\"\n"
     ],
     "language": "python",
     "metadata": {},
     "outputs": [
      {
       "output_type": "stream",
       "stream": "stdout",
       "text": [
        "h= 17.5 cm\n",
        "Deflection:The manometer limb  connected to section 1 will be having smaller column of mercury than the other limb\n"
       ]
      }
     ],
     "prompt_number": 4
    },
    {
     "cell_type": "heading",
     "level": 2,
     "metadata": {},
     "source": [
      "Example 4.7 Page No99"
     ]
    },
    {
     "cell_type": "code",
     "collapsed": false,
     "input": [
      "from __future__ import division\n",
      "\n",
      "import math\n",
      "\n",
      "#variable initialisation\n",
      "\n",
      "p_A=4                    #vapour prssure in kPa(abs)\n",
      "\n",
      "p1=95.48                 #atmospheric pressure in kPa\n",
      "\n",
      "p2=95.48                 #atmospheric pressure in kPa\n",
      "\n",
      "g=9.81                   #gravity\n",
      "\n",
      "Z1=1.5                   #elevation at section 1 in m\n",
      "\n",
      "Z_A=0                    #elevation at section A in m\n",
      "\n",
      "ga=9.79                  #unit length of water in kN/m^3\n",
      "\n",
      "V1=0                     #volume of section 1\n",
      "\n",
      "#Calculation\n",
      "\n",
      "#by applying Bernoullis equation to points 1 and A\n",
      "\n",
      "#formula is,(p1/ga)+(V1**2)/(2*g)+Z1)=(pA/ga)+((V_A**2)/(2g))+Z_A\n",
      "\n",
      "V_A=round(math.sqrt((((p1/ga)+(V1**2)/(2*g)+Z1)-(p_A/ga)+Z_A)*2*g),2)\n",
      "\n",
      "V2=round(V_A/2,2)\n",
      "\n",
      "print \"V2=\",V2,\"m/s\"\n",
      "\n",
      "#by applying Bernoullis equation to points 1 and 2,with datum at point 2,\n",
      "\n",
      "#(p1/ga)+(V1**2)/(2*g)+Z1)=(p2/ga)+((V_A**2)/(2g))+Z_A\n",
      "\n",
      "c=(p1/ga)+((V1**2)/(2*g))+Z1\n",
      "\n",
      "e=(p2/ga)+(V2**2)/(2*g)\n",
      "\n",
      "L=e-c                    #Calculating length of pipe\n",
      "\n",
      "print\"L=\",round(L,2),\"m\"\n"
     ],
     "language": "python",
     "metadata": {},
     "outputs": [
      {
       "output_type": "stream",
       "stream": "stdout",
       "text": [
        "V2= 7.29 m/s\n",
        "L= 1.21 m\n"
       ]
      }
     ],
     "prompt_number": 5
    },
    {
     "cell_type": "heading",
     "level": 2,
     "metadata": {},
     "source": [
      "Example 4.8 Page No99"
     ]
    },
    {
     "cell_type": "code",
     "collapsed": false,
     "input": [
      "from __future__ import division\n",
      "\n",
      "import math\n",
      "\n",
      "#variable initialisation\n",
      "\n",
      "Q=0.015                           #discharge in m^3/s\n",
      "\n",
      "d=0.05                            #diameter in m\n",
      "\n",
      "V1=0                              #volume in m/s\n",
      "\n",
      "Z1=0                              #elevation at section 1 in m\n",
      "\n",
      "Z2=3.00                           #elevation at section 2 in m\n",
      "\n",
      "H_L=1.5                           #Energy loss due to friction in m\n",
      "\n",
      "p2=0 #pressure\n",
      "\n",
      "ga=9.79                           #unit length of water in kN/m^3\n",
      "\n",
      "g=9.81                            #gravity\n",
      "\n",
      "#Calculation\n",
      "\n",
      "V2=(Q*4)/(math.pi*(d**2))\n",
      "\n",
      "#By applying Bernoullis equation to points 1 and 2,\n",
      "\n",
      "#(p1/ga)+(V1**2)/(2*g)+Z1)=(p2/ga)+((V2**2)/(2g))+Z2\n",
      "\n",
      "p1=(((p2/ga)+((V2**2)/(2*g))+Z2)+H_L-((V1**2)/(2*g)+Z1))*ga\n",
      "\n",
      "print \"p1=\",round(p1,2),\"kPa\"     #Calculating air pressure\n"
     ],
     "language": "python",
     "metadata": {},
     "outputs": [
      {
       "output_type": "stream",
       "stream": "stdout",
       "text": [
        "p1= 73.18 kPa\n"
       ]
      }
     ],
     "prompt_number": 6
    },
    {
     "cell_type": "heading",
     "level": 2,
     "metadata": {},
     "source": [
      "Example 4.16 Page No104"
     ]
    },
    {
     "cell_type": "code",
     "collapsed": false,
     "input": [
      "from __future__ import division\n",
      "\n",
      "import math\n",
      "\n",
      "from sympy import *\n",
      "\n",
      "#Variable Initialisation\n",
      "\n",
      "x, y,z,c,r,r1,r2=symbols(\"x y z c r r1 r2\")\n",
      "\n",
      "b=0.4                                    #breadth in m\n",
      "\n",
      "V0=2                                     #volume in m/s\n",
      "\n",
      "r2=1.2                                   #radius in m\n",
      "\n",
      "r1=0.8                                   #radius in m\n",
      "\n",
      "g=9.81                                   #gravity\n",
      "\n",
      "#Calculation\n",
      "\n",
      "q=integrate(c/r, r)                      #Integrating v\n",
      "\n",
      "s=q.subs(r,r2/r1)\n",
      "\n",
      "C=(b*V0)/ln(r2/r1)                       #Finding C\n",
      "\n",
      "V1=C/r1\n",
      "\n",
      "print \"V1=\",round(V1,3),\"m/s\"            #Velocity at the inner wall\n",
      "\n",
      "V2=C/r2\n",
      "\n",
      "print \"V2=\",round(V2,3),\"m/s\"            #velocity at the outer wall\n",
      "\n",
      "#Since the flow is irrotational,Bernoullis theorem can be applied across streamlines.\n",
      "\n",
      "#(p1/ga)+(V1**2)/(2*g)+Z1)=(pb/ga)+((V2**2)/(2*g))+Z2\n",
      "\n",
      "PD=(V1**2-V2**2)/(2*g)\n",
      "\n",
      "print \"The difference in pressure head between outer and inner wall is\",round(PD,3),\"m\"\n"
     ],
     "language": "python",
     "metadata": {},
     "outputs": [
      {
       "output_type": "stream",
       "stream": "stdout",
       "text": [
        "V1= 2.466 m/s\n",
        "V2= 1.644 m/s\n",
        "The difference in pressure head between outer and inner wall is 0.172 m\n"
       ]
      }
     ],
     "prompt_number": 10
    },
    {
     "cell_type": "heading",
     "level": 2,
     "metadata": {},
     "source": [
      "Example 4.19 Page No105"
     ]
    },
    {
     "cell_type": "code",
     "collapsed": false,
     "input": [
      "from __future__ import division\n",
      "\n",
      "import math\n",
      "\n",
      "#variable initialisation\n",
      "\n",
      "Q=0.8                              #discharge in m^3/s\n",
      "\n",
      "r=0.45                             #radius in m\n",
      "\n",
      "Z1=40                              #elevation at section 1 in m\n",
      "\n",
      "Z2=0                               #elevation at section 2 in m\n",
      "\n",
      "P1=0                               #power at section 1 in m\n",
      "\n",
      "V1=0                               #volume at section 1 in m\n",
      "\n",
      "ga=9.79                            #unit length of water in kN/m^3\n",
      "\n",
      "g=9.81                             #gravity\n",
      "\n",
      "H_L=10                             #frictional loss\n",
      "\n",
      "eta=0.85                           #turbine efficiency \n",
      "\n",
      "#Calculation\n",
      "\n",
      "#(i)Water friction loss is neglected:\n",
      "\n",
      "V2=round(Q/((math.pi/4)*(r**2)),2)\n",
      "\n",
      "#Applying Bernoullis equation to points 1 and 2\n",
      "\n",
      "#(p1/ga)+(V1**2)/(2*g)+Z1)=(pb/ga)+((V2**2)/(2*g))+Z2\n",
      "\n",
      "H_T=round(((P1/ga)+(V1**2)/(2*g)+Z1)-(((V2**2)/(2*g))+Z2),2)     #Calculating heat extracted by the turbine\n",
      "\n",
      "print\"P=\",round(ga*Q*H_T,1),\"kW\"                                 #power extracted by the turbine\n",
      "\n",
      "print \"(ii)when loses are included:\"\n",
      "\n",
      "#Applying Bernoullis equation to points 1 and 2\n",
      "\n",
      "H_T=round(((P1/ga)+(V1**2)/(2*g)+Z1)-(((V2**2)/(2*g))+H_L+Z2),2)\n",
      "\n",
      "Pn=ga*Q*H_T*eta                                                  #power output of the turbine\n",
      "\n",
      "print \"Pn=\",round(Pn,1),\"kW\"\n"
     ],
     "language": "python",
     "metadata": {},
     "outputs": [
      {
       "output_type": "stream",
       "stream": "stdout",
       "text": [
        "P= 303.2 kW\n",
        "(ii)when loses are included:\n",
        "Pn= 191.1 kW\n"
       ]
      }
     ],
     "prompt_number": 9
    },
    {
     "cell_type": "heading",
     "level": 2,
     "metadata": {},
     "source": [
      "Example 4.17 Page No105"
     ]
    },
    {
     "cell_type": "code",
     "collapsed": false,
     "input": [
      "from __future__ import division\n",
      "\n",
      "import math\n",
      "\n",
      "#variable initialisation\n",
      "\n",
      "Q=0.060                           #discharge in m^3/s\n",
      "\n",
      "a=60                              #pumping water rate from tank in L/s\n",
      "\n",
      "r1=0.15                           #radius in m\n",
      "\n",
      "r2=0.10                           #radius in m\n",
      "\n",
      "ga=9.79                           #unit length of water in kN/m^3\n",
      "\n",
      "P=10                              #power delivered by the pump in kW\n",
      "\n",
      "P_c=0                             #power delivered by section b in m\n",
      "\n",
      "V_c=0                             #volume in m\n",
      "\n",
      "Z_c=3                             #elevation at section c in m\n",
      "\n",
      "Z_b=3                             #elevation at section b in m\n",
      "\n",
      "H_L=1.2                           #heat delivered in m\n",
      "\n",
      "g=9.81                            #gravity\n",
      "\n",
      "#Calculation\n",
      "\n",
      "V_a=round(Q/((math.pi/4)*(r1**2)),3)\n",
      "\n",
      "V_b=round(Q/((math.pi/4)*(r2**2)),3)\n",
      "\n",
      "#by applying power delivered formula,P=ga*Q*H_p\n",
      "\n",
      "H_p=round(P/(Q*ga),2)                                                                      #calculating heat delivered by the pump\n",
      "\n",
      "#By applying Bernoullis equation between C and A \n",
      "\n",
      "P_a=round((((P_c/ga)+((V_c**2)/(2*g))+Z_c)-((V_a**2)/(2*g)))*ga,4)\n",
      "\n",
      "print \"P_a=\",round(P_a,3),\"kPa\"                                                            #Calculating pressure at A\n",
      "\n",
      "#By applying Bernoullis equation between C and B with level at A as datum,\n",
      "\n",
      "#(pc/ga)+(Vc**2)/(2*g)+Zc)=(pb/ga)+((Vb**2)/(2g))+Zb\n",
      "\n",
      "P_b=round((((P_c/ga)+((V_c**2)/(2*g))+Z_c+H_p)-(((V_b**2)/(2*g))+Z_b+H_L))*ga-0.01,2)      #Calculating pressure at B\n",
      "\n",
      "print \"P_b=\",P_b,\"kPa\"\n",
      "\n",
      "print \"when loses are considered:\"\n",
      "\n",
      "s=((P_c/ga)+((V_c**2)/(2*g))+Z_c+H_p)-(((V_b**2)/(2*g))+(Z_b+H_L)+(2*((V_b**2)/(2*g))))\n",
      "\n",
      "print \"P_b=\",round((s*ga),1),\"kPa\"                                                         #Calculating pressure at B\n"
     ],
     "language": "python",
     "metadata": {},
     "outputs": [
      {
       "output_type": "stream",
       "stream": "stdout",
       "text": [
        "P_a= 23.619 kPa\n",
        "P_b= 125.75 kPa\n",
        "when loses are considered:\n",
        "P_b= 67.5 kPa\n"
       ]
      }
     ],
     "prompt_number": 8
    },
    {
     "cell_type": "heading",
     "level": 2,
     "metadata": {},
     "source": [
      "Example 4.20 Page No106"
     ]
    },
    {
     "cell_type": "code",
     "collapsed": false,
     "input": [
      "from __future__ import division\n",
      "\n",
      "import math\n",
      "\n",
      "#variable initialisation\n",
      "\n",
      "Q=0.5                     #discharge in m^3/s\n",
      "\n",
      "r=0.4                     #radius in m\n",
      "\n",
      "r1=0.6                    #radius in m\n",
      "\n",
      "P_a=30.0                  #pressure head at the upstream of turbine in m\n",
      "\n",
      "P_b=-4                    #pressure head at the point B in draft tube in m\n",
      "\n",
      "Z_a=2                     #elevation at section A in m\n",
      "\n",
      "Z_b=0                     #elevation at section B in m\n",
      "\n",
      "g=9.81                    #gravity\n",
      "\n",
      "eta=0.90                  #turbine efficiency \n",
      "\n",
      "ga=9.79                   #unit length of water in kN/m^3\n",
      "\n",
      "#Calculation\n",
      "\n",
      "V_a=round(Q/((math.pi/4)*(r**2)),2)\n",
      "\n",
      "V_b=round(Q/((math.pi/4)*(r1**2)),3)\n",
      "\n",
      "#Applying Bernoullis equation to points A and B\n",
      "\n",
      "#(P_a/ga)+(V_a**2)/(2*g)+Z_a)=(P_b/ga)+((V_b**2)/(2*g))+Z_b+H_t\n",
      "\n",
      "H_T=round(((P_a)+(V_a**2)/(2*g)+Z_a)-((P_b)+((V_b**2)/(2*g))+Z_b)#calculating heat extracted\n",
      ",2)\n",
      "\n",
      "P=round(ga*Q*H_T*eta,2)                                          #Calculating power\n",
      "\n",
      "print \"Answer given in the book is wrong.It is,\"\n",
      "\n",
      "print \"P=\",P,\"kW\"\n"
     ],
     "language": "python",
     "metadata": {},
     "outputs": [
      {
       "output_type": "stream",
       "stream": "stdout",
       "text": [
        "Answer given in the book is wrong.It is,\n",
        "P= 161.46 kW\n"
       ]
      }
     ],
     "prompt_number": 7
    },
    {
     "cell_type": "heading",
     "level": 2,
     "metadata": {},
     "source": [
      "Example 4.23 Page No107"
     ]
    },
    {
     "cell_type": "code",
     "collapsed": false,
     "input": [
      "from __future__ import division\n",
      "\n",
      "import math\n",
      "\n",
      "#variable initialisation\n",
      "\n",
      "Q=0.20                               #Discharge in m^3/s\n",
      "\n",
      "r=0.25                               #radius at point 1 in m\n",
      "\n",
      "r1=0.35                              #radius at point 2 in m\n",
      "\n",
      "P1=120                               #pressure head at the upstream of turbine in m\n",
      "\n",
      "ga=9.79                              #unit length of water in kN/m^3\n",
      "\n",
      "alpha_1=1.1                          #kinetic energy correction factors for section 1\n",
      "\n",
      "Z1=25                                #elevation at section 1 in m\n",
      "\n",
      "alpha_2=1.5                          #kinetic energy correction factors for section 2\n",
      "\n",
      "Z2=20                                #elevation at section 2 in m\n",
      "\n",
      "g=9.81                               #gravity\n",
      "\n",
      "#Calculation\n",
      "\n",
      "V1=round(Q/((math.pi/4)*(r**2)),3)\n",
      "\n",
      "V2=round((Q/((math.pi/4)*(r1**2))),3)\n",
      "\n",
      "#Applying Bernoullis equation to points 1 and 2\n",
      "\n",
      "#(P1/ga)+(V1**2)/(2*g)+Z1)=(P2/ga)+((V2**2)/(2*g))+Z2+H_L\n",
      "\n",
      "#given H_L is,\n",
      "\n",
      "H_L=round((1.2*(V1-V2)**2)/(2*g),3)          #calculating frictional loss\n",
      "\n",
      "P2=round((((P1/ga)+alpha_1*((V1**2)/(2*g))+Z1)-(alpha_2*((V2**2)/(2*g))+Z2+H_L)),3)\n",
      "\n",
      "print \"P2=\",round(P2*ga,2),\"kPa\"\n",
      "\n"
     ],
     "language": "python",
     "metadata": {},
     "outputs": [
      {
       "output_type": "stream",
       "stream": "stdout",
       "text": [
        "P2= 172.45 kPa\n"
       ]
      }
     ],
     "prompt_number": 13
    }
   ],
   "metadata": {}
  }
 ]
}