{
 "metadata": {
  "name": "chapter6"
 },
 "nbformat": 3,
 "nbformat_minor": 0,
 "worksheets": [
  {
   "cells": [
    {
     "cell_type": "heading",
     "level": 1,
     "metadata": {},
     "source": "Chapter 6:Dimensional Analysis and Similitude"
    },
    {
     "cell_type": "heading",
     "level": 2,
     "metadata": {},
     "source": "Example 6.17 Page No148"
    },
    {
     "cell_type": "code",
     "collapsed": false,
     "input": "from __future__ import division\n\nimport math\n\n#variable initialisation\n\nrho_p=917    #density in kg/m^3\n\nmu_p=0.29    #viscosity in Pa.s\n\nL_p=15.0     #diameter in cm\n\nV_p=2        #velocity of pipe\n\nrho_m=998    #density in kg/m^3\n\nL_m=1.0      #diameter in cm\n\nmu_m=1.31E-3 #viscosity in Pa.s\n\n#solution\n\n#Reynold's similarity law of applicable,referring oil with p and water with m\n\nm=round((mu_m/mu_p)*(1)/((L_m/L_p)*(rho_m)/(rho_p)),4)\n\nV_m=V_p*m     #velocity of water flow\n\nprint \"V_m=\",V_m,\"m/s\"\n",
     "language": "python",
     "metadata": {},
     "outputs": [
      {
       "output_type": "stream",
       "stream": "stdout",
       "text": "V_m= 0.1246 m/s\n"
      }
     ],
     "prompt_number": 1
    },
    {
     "cell_type": "heading",
     "level": 2,
     "metadata": {},
     "source": "Example 6.18 Page No148"
    },
    {
     "cell_type": "code",
     "collapsed": false,
     "input": "from __future__ import division\n\nimport math\n\n#variable initialisation\n\nV_p=60      #velocity in Km/h\n\nF_m=250     #model drag\n\nmu_r=1      #viscosity\n\nrho_r=1     #density in in kg/m^3\n\n#solution\n\n#Reynold's similarity law is applicable\n\n#V_r=vr/L_r\n\n#If vr=1,then V_r=1/L_r\n\nL_r=6 \n\nV_m=((V_p*L_r)*1000)/3600      #V_m in m/s\n\n#using force ratio,Fm/Fp=(mu_r**2)/rho_r\n\n#Fm/Fp=1.0\n\nFp=F_m/((mu_r*mu_r))/rho_r     #drag required\n\nprint \"Fp=\",int(Fp),\"N(same as in the model)\"\n\nV_p=(V_p*1000)/(3600)          #V_m in m/s\n\nPp=Fp*V_p                      #power to overcome drag in the prototype\n\nprint \"Pp=\",math.ceil(Pp)/1000,\"kW\"\n",
     "language": "python",
     "metadata": {},
     "outputs": [
      {
       "output_type": "stream",
       "stream": "stdout",
       "text": "Fp= 250 N(same as in the model)\nPp= 4.167 kW\n"
      }
     ],
     "prompt_number": 2
    },
    {
     "cell_type": "heading",
     "level": 2,
     "metadata": {},
     "source": "Example 6.21 Page No149"
    },
    {
     "cell_type": "code",
     "collapsed": false,
     "input": "import math\n\n#variable initialisation\n\nD_p=1.5           #Diameter in m\n\nrd=0.9            #relative density\n\nv_p=0.03          #viscosity in stoke\n\nQ=3.0             #rate\n\nD_m=0.15          #diameter2 in m\n\nV_m=0.01          #viscosity2 in stoke \n\n#solution\n\n#Reynolds number must be the same in the model and prototype for similar pipe flows\n\nV_p=round((Q)/((math.pi/4)*(1.5*1.5)),4)\n\nV_m=V_p*(D_p/D_m)*(V_m/v_p) \n\nprint \"V_m=\",V_m,\"m/s\"\n\nQ_m=(math.pi/4)*(D_m**2)*(V_m)   #Discharge in the model\n\nprint \"Q_m=\",round(Q_m,1),\"m^3/s\"",
     "language": "python",
     "metadata": {},
     "outputs": [
      {
       "output_type": "stream",
       "stream": "stdout",
       "text": "V_m= 5.659 m/s\nQ_m= 0.1 m^3/s\n"
      }
     ],
     "prompt_number": 3
    },
    {
     "cell_type": "heading",
     "level": 2,
     "metadata": {},
     "source": "Example 6.25 Page No151"
    },
    {
     "cell_type": "code",
     "collapsed": false,
     "input": "from __future__ import division\n\nimport math\n\n#variable initialisation\n\nL_r=1/200      #horizontal scale\n\nh_r=1/40       #vertical scale\n\nQ_p=152        #normal discharge in m^3/s\n\ny_p=2.0        #depth in metres\n\nB_p=90         #width in metres\n\nn_p=0.025      #roughness value\n\n#solution\n\nL_r=1/200\n\nh_r=1/40\n\nh=math.sqrt(h_r)\n  \nQ_m=Q_p*L_r*h*h_r*10                   #Discharge    \n\nprint \"(i)Qm=\",round(Q_m,2),\"m^3/s\"\n\ny_m=y_p*h_r                            #Depth\n\nprint \"(ii) ym=\",y_m,\"m\"\n\nB_m=B_p*L_r                            #Width\n\nprint \"(iii)Bm=\",B_m/10,\"m\"\n \na=math.pow(h_r,2/3)                    #Manning's n_m\n\nb=math.sqrt(L_r)*L_r\n\nn_m=((n_p)*(math.pow(h_r,2/3)))/(math.pow(L_r,1/2))\n\nprint \"(iv) n_m=\",round(n_m,2)\n",
     "language": "python",
     "metadata": {},
     "outputs": [
      {
       "output_type": "stream",
       "stream": "stdout",
       "text": "(i)Qm= 0.03 m^3/s\n(ii) ym= 0.05 m\n(iii)Bm= 0.045 m\n(iv) n_m= 0.03\n"
      }
     ],
     "prompt_number": 4
    },
    {
     "cell_type": "heading",
     "level": 2,
     "metadata": {},
     "source": "Example 6.27 Page No151"
    },
    {
     "cell_type": "code",
     "collapsed": false,
     "input": "from __future__ import division\n\nimport math\n\n#variable initialisation\n\nL_r=1/250      #horizontal scale\n\nh_r=1/25       #vertical scale\n\nS_p=0.0002     #prototype slope\n\nV_m=0.50       #velocity in m/s\n\nQ_m=0.02       #discharge in m^3/s\n\n#solution\n\nh_r=1/25\n\nL_r=1/250\n\nS_r=h_r/L_r\n\nS_m=round((S_p)*(S_r),3) #Slope ratio \n\nprint \"(i)S_m=\",S_m\n\nV_r=math.sqrt(h_r)\n\nV_p=V_m/V_r              #Velocity ratio\n\nprint \"(ii)V_p=\", V_p,\"m/s\"\n\nQ_p=(L_r)*(math.sqrt(h_r))*(h_r)\n\nQ_p=(Q_m)/(Q_p)          #Discharge ratio\n\nprint \"(iii)Q_p=\",int(round(Q_p,1)),\"m^3/s\"\n",
     "language": "python",
     "metadata": {},
     "outputs": [
      {
       "output_type": "stream",
       "stream": "stdout",
       "text": "(i)S_m= 0.002\n(ii)V_p= 2.5 m/s\n(iii)Q_p= 625 m^3/s\n"
      }
     ],
     "prompt_number": 1
    }
   ],
   "metadata": {}
  }
 ]
}