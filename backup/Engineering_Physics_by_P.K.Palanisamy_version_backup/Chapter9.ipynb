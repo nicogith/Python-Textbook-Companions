{
 "cells": [
  {
   "cell_type": "markdown",
   "metadata": {},
   "source": [
    "#9: Physics of Semiconductor Devices"
   ]
  },
  {
   "cell_type": "markdown",
   "metadata": {},
   "source": [
    "##Example number 9.1, Page number 9.14"
   ]
  },
  {
   "cell_type": "code",
   "execution_count": 4,
   "metadata": {
    "collapsed": false
   },
   "outputs": [
    {
     "name": "stdout",
     "output_type": "stream",
     "text": [
      "wavelength of radiation is 0.868 micro m\n"
     ]
    }
   ],
   "source": [
    "#importing modules\n",
    "import math\n",
    "from __future__ import division\n",
    "\n",
    "#Variable declaration\n",
    "h=6.62*10**-34;     #planck's constant(J sec)\n",
    "c=3*10**8;     #velocity of light(m/sec)\n",
    "Eg=1.43*1.6*10**-19;    #energy gap(J)\n",
    "\n",
    "#Calculation\n",
    "lamda=h*c*10**6/Eg;    #wavelength of radiation(micro m)\n",
    "\n",
    "#Result\n",
    "print \"wavelength of radiation is\",round(lamda,3),\"micro m\""
   ]
  },
  {
   "cell_type": "markdown",
   "metadata": {},
   "source": [
    "##Example number 9.2, Page number 9.28"
   ]
  },
  {
   "cell_type": "code",
   "execution_count": 6,
   "metadata": {
    "collapsed": false
   },
   "outputs": [
    {
     "name": "stdout",
     "output_type": "stream",
     "text": [
      "time taken is 3.7 *10**-9 s\n"
     ]
    }
   ],
   "source": [
    "#importing modules\n",
    "import math\n",
    "from __future__ import division\n",
    "\n",
    "#Variable declaration\n",
    "d=5*10**-6;     #thickness(m)\n",
    "Dc=3.4*10**-3;    #diffusion coefficient(m**2 S-1)\n",
    "\n",
    "#Calculation\n",
    "tow_diff=d**2/(2*Dc);     #time taken(s)\n",
    "\n",
    "#Result\n",
    "print \"time taken is\",round(tow_diff*10**9,1),\"*10**-9 s\""
   ]
  },
  {
   "cell_type": "markdown",
   "metadata": {},
   "source": [
    "##Example number 9.3, Page number 9.28"
   ]
  },
  {
   "cell_type": "code",
   "execution_count": 7,
   "metadata": {
    "collapsed": false
   },
   "outputs": [
    {
     "name": "stdout",
     "output_type": "stream",
     "text": [
      "transit time is 5e-11 s\n"
     ]
    }
   ],
   "source": [
    "#importing modules\n",
    "import math\n",
    "from __future__ import division\n",
    "\n",
    "#Variable declaration\n",
    "w=5*10**-6;     #thickness(m)\n",
    "vsat=10**5;     #velocity(m/s)\n",
    "\n",
    "#Calculation\n",
    "tow_drift=w/vsat;     #transit time(s)\n",
    "\n",
    "#Result\n",
    "print \"transit time is\",tow_drift,\"s\""
   ]
  },
  {
   "cell_type": "markdown",
   "metadata": {},
   "source": [
    "##Example number 9.4, Page number 9.29"
   ]
  },
  {
   "cell_type": "code",
   "execution_count": 16,
   "metadata": {
    "collapsed": false
   },
   "outputs": [
    {
     "name": "stdout",
     "output_type": "stream",
     "text": [
      "diode capacitance is 28.8 pF\n",
      "frequency bandwidth is 110 MHz\n",
      "answer varies due to rounding off errors\n"
     ]
    }
   ],
   "source": [
    "#importing modules\n",
    "import math\n",
    "from __future__ import division\n",
    "\n",
    "#Variable declaration\n",
    "A=10**-6;     #area(m**2)\n",
    "e=1.6*10**-19;     #charge(coulomb)\n",
    "Nd=10**21;     #electron concentration(m**-3)\n",
    "epsilonr=11.7;\n",
    "epsilon0=8.85*10**-12;\n",
    "V=10;    #potential(V)\n",
    "RL=50;   #resistance(ohm)\n",
    "\n",
    "#Calculation\n",
    "Cj=(A/2)*math.sqrt(2*e*epsilonr*epsilon0*Nd/V);      #diode capacitance(F)\n",
    "delta_fel=1/(2*math.pi*RL*Cj);    #frequency bandwidth(Hz)\n",
    "\n",
    "#Result\n",
    "print \"diode capacitance is\",round(Cj*10**12,1),\"pF\"\n",
    "print \"frequency bandwidth is\",int(delta_fel*10**-6),\"MHz\"\n",
    "print \"answer varies due to rounding off errors\""
   ]
  }
 ],
 "metadata": {
  "kernelspec": {
   "display_name": "Python 2",
   "language": "python",
   "name": "python2"
  },
  "language_info": {
   "codemirror_mode": {
    "name": "ipython",
    "version": 2
   },
   "file_extension": ".py",
   "mimetype": "text/x-python",
   "name": "python",
   "nbconvert_exporter": "python",
   "pygments_lexer": "ipython2",
   "version": "2.7.9"
  }
 },
 "nbformat": 4,
 "nbformat_minor": 0
}
