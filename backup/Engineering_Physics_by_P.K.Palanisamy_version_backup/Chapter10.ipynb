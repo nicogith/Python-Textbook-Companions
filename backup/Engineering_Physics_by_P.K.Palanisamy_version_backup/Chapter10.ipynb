{
 "cells": [
  {
   "cell_type": "markdown",
   "metadata": {},
   "source": [
    "#10: Dielectric properties"
   ]
  },
  {
   "cell_type": "markdown",
   "metadata": {},
   "source": [
    "##Example number 10.1, Page number 10.23"
   ]
  },
  {
   "cell_type": "code",
   "execution_count": 2,
   "metadata": {
    "collapsed": false
   },
   "outputs": [
    {
     "name": "stdout",
     "output_type": "stream",
     "text": [
      "energy stored in the condenser is 1.0 J\n",
      "energy stored in the dielectric is 0.99 J\n"
     ]
    }
   ],
   "source": [
    "#importing modules\n",
    "import math\n",
    "from __future__ import division\n",
    "\n",
    "#Variable declaration\n",
    "C=2*10**-6;    #capacitance(F)\n",
    "V=1000;      #voltage(V)\n",
    "epsilon_r=100;\n",
    "\n",
    "#Calculation\n",
    "W=C*V**2/2;    #energy stored in the condenser(J)\n",
    "C0=C/epsilon_r;\n",
    "W0=C0*V**2/2;\n",
    "E=1-W0;       #energy stored in the dielectric(J)\n",
    "\n",
    "#Result\n",
    "print \"energy stored in the condenser is\",W,\"J\"\n",
    "print \"energy stored in the dielectric is\",E,\"J\""
   ]
  },
  {
   "cell_type": "markdown",
   "metadata": {},
   "source": [
    "##Example number 10.2, Page number 10.24"
   ]
  },
  {
   "cell_type": "code",
   "execution_count": 4,
   "metadata": {
    "collapsed": false
   },
   "outputs": [
    {
     "name": "stdout",
     "output_type": "stream",
     "text": [
      "ratio betwen electronic and ionic polarizability is 1.738\n"
     ]
    }
   ],
   "source": [
    "#importing modules\n",
    "import math\n",
    "from __future__ import division\n",
    "\n",
    "#Variable declaration\n",
    "epsilon_r=4.94;\n",
    "n2=2.69;\n",
    "\n",
    "#Calculation\n",
    "x=(epsilon_r-1)/(epsilon_r+2);\n",
    "y=(n2-1)/(n2+2);\n",
    "r=(x/y)-1;       #ratio betwen electronic and ionic polarizability\n",
    "\n",
    "#Result\n",
    "print \"ratio betwen electronic and ionic polarizability is\",round(1/r,3)"
   ]
  },
  {
   "cell_type": "markdown",
   "metadata": {},
   "source": [
    "##Example number 10.3, Page number 10.24"
   ]
  },
  {
   "cell_type": "code",
   "execution_count": 11,
   "metadata": {
    "collapsed": false
   },
   "outputs": [
    {
     "name": "stdout",
     "output_type": "stream",
     "text": [
      "parallel loss resistance is 10.0 ohm\n",
      "answer varies due to rounding off errors\n",
      "parallel loss capacitance is 226.56 *10**-12 Farad\n"
     ]
    }
   ],
   "source": [
    "#importing modules\n",
    "import math\n",
    "from __future__ import division\n",
    "\n",
    "#Variable declaration\n",
    "epsilon_r=2.56;\n",
    "epsilon_R=2.65*0.7*10**-4;\n",
    "tan_delta=0.7*10**-4;   \n",
    "A=8*10**-4;    #area(m**2)\n",
    "d=0.08*10**-3;    #diameter(m)\n",
    "f=1*10**6;    #frequency(Hz)\n",
    "epsilon0=8.85*10**-12;\n",
    "\n",
    "#Calculation\n",
    "Rp=d/(2*math.pi*f*epsilon0*epsilon_R*A);    #parallel loss resistance(ohm)\n",
    "Cp=A*epsilon0*epsilon_r/d;     #parallel loss capacitance(Farad)\n",
    "\n",
    "#Result\n",
    "print \"parallel loss resistance is\",round(Rp/10**6),\"ohm\"\n",
    "print \"answer varies due to rounding off errors\"\n",
    "print \"parallel loss capacitance is\",round(Cp*10**12,2),\"*10**-12 Farad\""
   ]
  },
  {
   "cell_type": "markdown",
   "metadata": {},
   "source": [
    "##Example number 10.4, Page number 10.25"
   ]
  },
  {
   "cell_type": "code",
   "execution_count": 14,
   "metadata": {
    "collapsed": false
   },
   "outputs": [
    {
     "name": "stdout",
     "output_type": "stream",
     "text": [
      "dielectric constant of material is 1.339\n"
     ]
    }
   ],
   "source": [
    "#importing modules\n",
    "import math\n",
    "from __future__ import division\n",
    "\n",
    "#Variable declaration\n",
    "N=3*10**28;     #number of atoms(per m**3)\n",
    "alphae=10**-40;    \n",
    "epsilon0=8.854*10**-12;\n",
    "\n",
    "#Calculation\n",
    "epsilon_r=1+(N*alphae/epsilon0);   #dielectric constant of material\n",
    "\n",
    "#Result\n",
    "print \"dielectric constant of material is\",round(epsilon_r,3)"
   ]
  },
  {
   "cell_type": "markdown",
   "metadata": {},
   "source": [
    "##Example number 10.5, Page number 10.26"
   ]
  },
  {
   "cell_type": "code",
   "execution_count": 16,
   "metadata": {
    "collapsed": false
   },
   "outputs": [
    {
     "name": "stdout",
     "output_type": "stream",
     "text": [
      "electronic polarizability is 2.243 *10**-41 Fm**2\n"
     ]
    }
   ],
   "source": [
    "#importing modules\n",
    "import math\n",
    "from __future__ import division\n",
    "\n",
    "#Variable declaration\n",
    "N=2.7*10**25;     #number of atoms(per m**3)\n",
    "epsilon0=8.854*10**-12;\n",
    "epsilon_r=1.0000684;\n",
    "\n",
    "#Calculation\n",
    "alphae=epsilon0*(epsilon_r-1)/N;    #electronic polarizability(Fm**2)\n",
    "\n",
    "#Result\n",
    "print \"electronic polarizability is\",round(alphae*10**41,3),\"*10**-41 Fm**2\""
   ]
  },
  {
   "cell_type": "markdown",
   "metadata": {},
   "source": [
    "##Example number 10.6, Page number 10.26"
   ]
  },
  {
   "cell_type": "code",
   "execution_count": 18,
   "metadata": {
    "collapsed": false
   },
   "outputs": [
    {
     "name": "stdout",
     "output_type": "stream",
     "text": [
      "capacitance is 8.85e-12 F\n",
      "charge on plates is 8.85e-10 coulomb\n"
     ]
    }
   ],
   "source": [
    "#importing modules\n",
    "import math\n",
    "from __future__ import division\n",
    "\n",
    "#Variable declaration\n",
    "epsilon0=8.85*10**-12;\n",
    "A=100*10**-4;    #area(m**2)\n",
    "d=10**-2;    #diameter(m)\n",
    "V=100;       #potential(V)\n",
    "\n",
    "#Calculation\n",
    "C=epsilon0*A/d;    #capacitance(F)\n",
    "Q=C*V;        #charge on plates(coulomb)\n",
    "\n",
    "#Result\n",
    "print \"capacitance is\",C,\"F\"\n",
    "print \"charge on plates is\",Q,\"coulomb\""
   ]
  },
  {
   "cell_type": "markdown",
   "metadata": {},
   "source": [
    "##Example number 10.7, Page number 10.27"
   ]
  },
  {
   "cell_type": "code",
   "execution_count": 19,
   "metadata": {
    "collapsed": false
   },
   "outputs": [
    {
     "name": "stdout",
     "output_type": "stream",
     "text": [
      "electronic polarizability is 3.181 *10**-40 Fm**2\n"
     ]
    }
   ],
   "source": [
    "#importing modules\n",
    "import math\n",
    "from __future__ import division\n",
    "\n",
    "#Variable declaration\n",
    "n=6.02*10**26;     #avagadro number\n",
    "d=2050;     #density(kg/m**3)\n",
    "w=32;       #atomic weight\n",
    "gama=1/3;    #internal field constant\n",
    "epsilon0=8.55*10**-12;\n",
    "epsilon_r=3.75;\n",
    "\n",
    "#Calculation\n",
    "N=n*d/w;       #number of atoms(per m**3)\n",
    "alphae=3*epsilon0*((epsilon_r-1)/(epsilon_r+2))/N;      #electronic polarizability(Fm**2)\n",
    "\n",
    "#Result\n",
    "print \"electronic polarizability is\",round(alphae*10**40,3),\"*10**-40 Fm**2\""
   ]
  },
  {
   "cell_type": "markdown",
   "metadata": {},
   "source": [
    "##Example number 10.8, Page number 10.28"
   ]
  },
  {
   "cell_type": "code",
   "execution_count": 21,
   "metadata": {
    "collapsed": false
   },
   "outputs": [
    {
     "name": "stdout",
     "output_type": "stream",
     "text": [
      "resultant voltage is 39.73 Volts\n"
     ]
    }
   ],
   "source": [
    "#importing modules\n",
    "import math\n",
    "from __future__ import division\n",
    "\n",
    "#Variable declaration\n",
    "Q=2*10**-10;    #charge(C)\n",
    "d=4*10**-3;     #seperation(m)\n",
    "epsilon_r=3.5;\n",
    "A=650*10**-6;    #area(m**2)\n",
    "epsilon0=8.85*10**-12;\n",
    "\n",
    "#Calculation\n",
    "V=Q*d/(epsilon0*epsilon_r*A);      #resultant voltage(V)\n",
    "\n",
    "#Result\n",
    "print \"resultant voltage is\",round(V,2),\"Volts\""
   ]
  },
  {
   "cell_type": "markdown",
   "metadata": {},
   "source": [
    "##Example number 10.9, Page number 10.28"
   ]
  },
  {
   "cell_type": "code",
   "execution_count": 23,
   "metadata": {
    "collapsed": false
   },
   "outputs": [
    {
     "name": "stdout",
     "output_type": "stream",
     "text": [
      "dielectric displacement is 265.5 *10**-9 C m**-2\n"
     ]
    }
   ],
   "source": [
    "#importing modules\n",
    "import math\n",
    "from __future__ import division\n",
    "\n",
    "#Variable declaration\n",
    "d=2*10**-3;     #seperation(m)\n",
    "epsilon_r=6;\n",
    "V=10;      #voltage(V)\n",
    "epsilon0=8.85*10**-12;\n",
    "\n",
    "#Calculation\n",
    "E=V/d;\n",
    "D=epsilon0*epsilon_r*E;      #dielectric displacement(C m**-2)\n",
    "\n",
    "#Result\n",
    "print \"dielectric displacement is\",round(D*10**9,1),\"*10**-9 C m**-2\""
   ]
  }
 ],
 "metadata": {
  "kernelspec": {
   "display_name": "Python 2",
   "language": "python",
   "name": "python2"
  },
  "language_info": {
   "codemirror_mode": {
    "name": "ipython",
    "version": 2
   },
   "file_extension": ".py",
   "mimetype": "text/x-python",
   "name": "python",
   "nbconvert_exporter": "python",
   "pygments_lexer": "ipython2",
   "version": "2.7.9"
  }
 },
 "nbformat": 4,
 "nbformat_minor": 0
}
