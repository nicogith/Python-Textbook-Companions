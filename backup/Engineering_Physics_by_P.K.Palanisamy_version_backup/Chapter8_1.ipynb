{
 "cells": [
  {
   "cell_type": "markdown",
   "metadata": {},
   "source": [
    "#8: Semiconductors"
   ]
  },
  {
   "cell_type": "markdown",
   "metadata": {},
   "source": [
    "##Example number 8.1, Page number 8.11"
   ]
  },
  {
   "cell_type": "code",
   "execution_count": 3,
   "metadata": {
    "collapsed": false
   },
   "outputs": [
    {
     "name": "stdout",
     "output_type": "stream",
     "text": [
      "resistivity is 0.471 ohm m\n"
     ]
    }
   ],
   "source": [
    "#importing modules\n",
    "import math\n",
    "from __future__ import division\n",
    "\n",
    "#Variable declaration\n",
    "ni=2.37*10**19;     #carrier density(per m**3)\n",
    "mew_e=0.38;     #electron mobility(m**2/Vs)\n",
    "mew_h=0.18;     #hole mobility(m**2/Vs)\n",
    "e=1.6*10**-19;   \n",
    "\n",
    "#Calculation\n",
    "sigma_i=ni*e*(mew_e+mew_h);     \n",
    "rho=1/sigma_i;      #resistivity(ohm m)\n",
    "\n",
    "#Result\n",
    "print \"resistivity is\",round(rho,3),\"ohm m\""
   ]
  },
  {
   "cell_type": "markdown",
   "metadata": {},
   "source": [
    "##Example number 8.2, Page number 8.11"
   ]
  },
  {
   "cell_type": "code",
   "execution_count": 7,
   "metadata": {
    "collapsed": false
   },
   "outputs": [
    {
     "name": "stdout",
     "output_type": "stream",
     "text": [
      "position of fermi level is 0.576 eV\n"
     ]
    }
   ],
   "source": [
    "#importing modules\n",
    "import math\n",
    "from __future__ import division\n",
    "\n",
    "#Variable declaration\n",
    "Eg=1.12;    #band gap(eV)\n",
    "T=300;      #temperature(K)\n",
    "m0=1;    #assume\n",
    "me=0.12*m0;\n",
    "mh=0.28*m0;\n",
    "k=1.38*10**-23;   #boltzmann constant\n",
    "e=1.6*10**-19;  \n",
    "\n",
    "#Calculation\n",
    "EF=(Eg/2)+(3*k*T*math.log(mh/me)/(4*e));    #position of fermi level(eV)\n",
    "\n",
    "#Result\n",
    "print \"position of fermi level is\",round(EF,3),\"eV\""
   ]
  },
  {
   "cell_type": "markdown",
   "metadata": {},
   "source": [
    "##Example number 8.3, Page number 8.12"
   ]
  },
  {
   "cell_type": "code",
   "execution_count": 13,
   "metadata": {
    "collapsed": false
   },
   "outputs": [
    {
     "name": "stdout",
     "output_type": "stream",
     "text": [
      "concentration of intrinsic charge carriers is 33.48 *10**18 per m**3\n"
     ]
    }
   ],
   "source": [
    "#importing modules\n",
    "import math\n",
    "from __future__ import division\n",
    "\n",
    "#Variable declaration\n",
    "T=300;      #temperature(K)\n",
    "k=1.38*10**-23;   #boltzmann constant\n",
    "m=9.109*10**-31;    #mass(kg)\n",
    "h=6.626*10**-34;    #plancks constant\n",
    "Eg=0.7;     #energy(eV)\n",
    "e=1.6*10**-19;  \n",
    "\n",
    "#Calculation\n",
    "x=(2*math.pi*m*k/h**2)**(3/2);\n",
    "y=math.exp(-Eg*e/(2*k*T));\n",
    "ni=2*x*(T**(3/2))*y;             #concentration of intrinsic charge carriers(per m**3)\n",
    "\n",
    "#Result\n",
    "print \"concentration of intrinsic charge carriers is\",round(ni/10**18,2),\"*10**18 per m**3\""
   ]
  },
  {
   "cell_type": "markdown",
   "metadata": {},
   "source": [
    "##Example number 8.4, Page number 8.13"
   ]
  },
  {
   "cell_type": "code",
   "execution_count": 20,
   "metadata": {
    "collapsed": false
   },
   "outputs": [
    {
     "name": "stdout",
     "output_type": "stream",
     "text": [
      "resistivity is 0.449 ohm m\n"
     ]
    }
   ],
   "source": [
    "#importing modules\n",
    "import math\n",
    "from __future__ import division\n",
    "\n",
    "#Variable declaration\n",
    "ni=2.4*10**19;     #carrier density(per m**3)\n",
    "mew_e=0.39;     #electron mobility(m**2/Vs)\n",
    "mew_h=0.19;     #hole mobility(m**2/Vs)\n",
    "e=1.6*10**-19;   \n",
    "\n",
    "#Calculation\n",
    "sigma_i=ni*e*(mew_e+mew_h);     \n",
    "rhoi=1/sigma_i;      #resistivity(ohm m)\n",
    "\n",
    "#Result\n",
    "print \"resistivity is\",round(rhoi,3),\"ohm m\""
   ]
  },
  {
   "cell_type": "markdown",
   "metadata": {},
   "source": [
    "##Example number 8.5, Page number 8.13"
   ]
  },
  {
   "cell_type": "code",
   "execution_count": 22,
   "metadata": {
    "collapsed": false
   },
   "outputs": [
    {
     "name": "stdout",
     "output_type": "stream",
     "text": [
      "resistance is 4.31 *10**3 ohm\n"
     ]
    }
   ],
   "source": [
    "#importing modules\n",
    "import math\n",
    "from __future__ import division\n",
    "\n",
    "#Variable declaration\n",
    "ni=2.5*10**19;     #carrier density(per m**3)\n",
    "mew_e=0.39;     #electron mobility(m**2/Vs)\n",
    "mew_p=0.19;     #hole mobility(m**2/Vs)\n",
    "e=1.6*10**-19; \n",
    "l=1*10**-2;     #length(m)\n",
    "A=10**-3*10**-3;     #area(m**2)\n",
    "\n",
    "#Calculation\n",
    "R=l/(ni*e*A*(mew_p+mew_e));     #resistance(ohm)\n",
    "\n",
    "#Result\n",
    "print \"resistance is\",round(R/10**3,2),\"*10**3 ohm\""
   ]
  },
  {
   "cell_type": "markdown",
   "metadata": {},
   "source": [
    "##Example number 8.6, Page number 8.14"
   ]
  },
  {
   "cell_type": "code",
   "execution_count": 28,
   "metadata": {
    "collapsed": false
   },
   "outputs": [
    {
     "name": "stdout",
     "output_type": "stream",
     "text": [
      "conductivity is 1.578 *10**-3 ohm-1 m-1\n",
      "answer given in the book is wrong\n"
     ]
    }
   ],
   "source": [
    "#importing modules\n",
    "import math\n",
    "from __future__ import division\n",
    "\n",
    "#Variable declaration\n",
    "T=300;      #temperature(K)\n",
    "k=1.38*10**-23;   #boltzmann constant\n",
    "m=9.109*10**-31;    #mass(kg)\n",
    "h=6.626*10**-34;    #plancks constant\n",
    "Eg=1.1;     #energy(eV)\n",
    "e=1.6*10**-19;  \n",
    "mew_e=0.48;     #electron mobility(m**2/Vs)\n",
    "mew_p=0.013;     #hole mobility(m**2/Vs)\n",
    "\n",
    "#Calculation\n",
    "C=2*((2*math.pi*m*k/h**2)**(3/2));\n",
    "y=math.exp(-Eg*e/(2*k*T));\n",
    "ni=C*(T**(3/2))*y;             #concentration of intrinsic charge carriers(per m**3)\n",
    "sigma_i=ni*e*(mew_e+mew_h);     #conductivity(ohm-1 m-1)\n",
    "\n",
    "\n",
    "#Result\n",
    "print \"conductivity is\",round(sigma_i*10**3,3),\"*10**-3 ohm-1 m-1\"\n",
    "print \"answer given in the book is wrong\""
   ]
  },
  {
   "cell_type": "markdown",
   "metadata": {},
   "source": [
    "##Example number 8.7, Page number 8.15"
   ]
  },
  {
   "cell_type": "code",
   "execution_count": 33,
   "metadata": {
    "collapsed": false
   },
   "outputs": [
    {
     "name": "stdout",
     "output_type": "stream",
     "text": [
      "concentration of intrinsic charge carriers is 3.35 *10**19 per m**3\n",
      "conductivity is 3.589 ohm-1 m-1\n",
      "answer in the book varies due to rounding off errors\n"
     ]
    }
   ],
   "source": [
    "#importing modules\n",
    "import math\n",
    "from __future__ import division\n",
    "\n",
    "#Variable declaration\n",
    "T=300;      #temperature(K)\n",
    "k=1.38*10**-23;   #boltzmann constant\n",
    "m=9.109*10**-31;    #mass(kg)\n",
    "h=6.626*10**-34;    #plancks constant\n",
    "Eg=0.7;     #energy(eV)\n",
    "e=1.6*10**-19;  \n",
    "mew_e=0.48;     #electron mobility(m**2/Vs)\n",
    "mew_p=0.013;     #hole mobility(m**2/Vs)\n",
    "\n",
    "#Calculation\n",
    "C=2*((2*math.pi*m*k/h**2)**(3/2));\n",
    "y=math.exp(-Eg*e/(2*k*T));\n",
    "ni=C*(T**(3/2))*y;             #concentration of intrinsic charge carriers(per m**3)\n",
    "sigma_i=ni*e*(mew_e+mew_h);     #conductivity(ohm-1 m-1)\n",
    "\n",
    "#Result\n",
    "print \"concentration of intrinsic charge carriers is\",round(ni/10**19,2),\"*10**19 per m**3\"\n",
    "print \"conductivity is\",round(sigma_i,3),\"ohm-1 m-1\"\n",
    "print \"answer in the book varies due to rounding off errors\""
   ]
  },
  {
   "cell_type": "markdown",
   "metadata": {},
   "source": [
    "##Example number 8.8, Page number 8.15"
   ]
  },
  {
   "cell_type": "code",
   "execution_count": 45,
   "metadata": {
    "collapsed": false
   },
   "outputs": [
    {
     "name": "stdout",
     "output_type": "stream",
     "text": [
      "forbidden energy gap is 0.793 eV\n",
      "answer varies due to rounding off errors\n"
     ]
    }
   ],
   "source": [
    "#importing modules\n",
    "import math\n",
    "from __future__ import division\n",
    "\n",
    "#Variable declaration\n",
    "e=1.6*10**-19;  \n",
    "mew_e=0.36;     #electron mobility(m**2/Vs)\n",
    "mew_h=0.17;     #hole mobility(m**2/Vs)\n",
    "rho=2.12;       #resistivity(ohm m)\n",
    "T=300;      #temperature(K)\n",
    "k=1.38*10**-23;   #boltzmann constant\n",
    "m=9.109*10**-31;    #mass(kg)\n",
    "h=6.626*10**-34;    #plancks constant\n",
    "\n",
    "#Calculation\n",
    "sigma=1/rho;\n",
    "ni=sigma/(e*(mew_e+mew_h));\n",
    "C=2*((2*math.pi*m*k/h**2)**(3/2));\n",
    "y=C*T**(3/2)/ni;\n",
    "z=math.log(y);\n",
    "Eg=2*k*T*z/(1.6*10**-19);        #forbidden energy gap(eV)\n",
    "\n",
    "#Result\n",
    "print \"forbidden energy gap is\",round(Eg,3),\"eV\"\n",
    "print \"answer varies due to rounding off errors\""
   ]
  },
  {
   "cell_type": "markdown",
   "metadata": {},
   "source": [
    "##Example number 8.9, Page number 8.16"
   ]
  },
  {
   "cell_type": "code",
   "execution_count": 3,
   "metadata": {
    "collapsed": false
   },
   "outputs": [
    {
     "name": "stdout",
     "output_type": "stream",
     "text": [
      "energy band gap is 0.452 eV\n",
      "answer varies due to rounding off errors\n"
     ]
    }
   ],
   "source": [
    "#importing modules\n",
    "import math\n",
    "from __future__ import division\n",
    "\n",
    "#Variable declaration\n",
    "x=0.6532;\n",
    "y=0.3010;\n",
    "T1=273+20;    #temperature(K)\n",
    "T2=273+32;    #temperature(K)\n",
    "k=8.616*10**-5;\n",
    "\n",
    "#Calculation\n",
    "dy=x-y;\n",
    "dx=(1/T1)-(1/T2);\n",
    "Eg=2*k*dy/dx;      #energy band gap(eV)\n",
    "\n",
    "#Result\n",
    "print \"energy band gap is\",round(Eg,3),\"eV\"\n",
    "print \"answer varies due to rounding off errors\""
   ]
  },
  {
   "cell_type": "markdown",
   "metadata": {},
   "source": [
    "##Example number 8.10, Page number 8.17"
   ]
  },
  {
   "cell_type": "code",
   "execution_count": 8,
   "metadata": {
    "collapsed": false
   },
   "outputs": [
    {
     "name": "stdout",
     "output_type": "stream",
     "text": [
      "temperature is 1729.0 K\n"
     ]
    }
   ],
   "source": [
    "#importing modules\n",
    "import math\n",
    "from __future__ import division\n",
    "\n",
    "#Variable declaration\n",
    "k=1.38*10**-23;   #boltzmann constant\n",
    "EF=0.18;      #fermi shift(eV)\n",
    "E=1.2;       #energy gap(eV)\n",
    "e=1.6*10**-19;  \n",
    "r=5;   \n",
    "\n",
    "#Calculation\n",
    "T=EF*e*4/(3*k*math.log(r));    #temperature(K)\n",
    "\n",
    "#Result\n",
    "print \"temperature is\",round(T),\"K\""
   ]
  },
  {
   "cell_type": "markdown",
   "metadata": {},
   "source": [
    "##Example number 8.11, Page number 8.17"
   ]
  },
  {
   "cell_type": "code",
   "execution_count": 11,
   "metadata": {
    "collapsed": false
   },
   "outputs": [
    {
     "name": "stdout",
     "output_type": "stream",
     "text": [
      "electron concentration is 2.0 *10**9 per m**3\n"
     ]
    }
   ],
   "source": [
    "#importing modules\n",
    "import math\n",
    "from __future__ import division\n",
    "\n",
    "#Variable declaration\n",
    "Na=5*10**23;     #number of atoms(atoms)\n",
    "Nd=3*10**23;     #number of atoms(atoms)\n",
    "ni=2*10**16;    #intrinsic charge carriers(per m**3)\n",
    "\n",
    "#Calculation\n",
    "p=2*(Na-Nd)/2;    #hole concentration(per m**3)\n",
    "n=ni**2/p;       #electron concentration(per m**3)\n",
    "\n",
    "#Result\n",
    "print \"electron concentration is\",n/10**9,\"*10**9 per m**3\""
   ]
  },
  {
   "cell_type": "markdown",
   "metadata": {},
   "source": [
    "##Example number 8.12, Page number 8.18"
   ]
  },
  {
   "cell_type": "code",
   "execution_count": 18,
   "metadata": {
    "collapsed": false
   },
   "outputs": [
    {
     "name": "stdout",
     "output_type": "stream",
     "text": [
      "conductivity is 0.432 *10**-3 ohm-1 m-1\n",
      "conductivity is 10.38 ohm-1 m-1\n",
      "conductivity is 3.99 ohm-1 m-1\n"
     ]
    }
   ],
   "source": [
    "#importing modules\n",
    "import math\n",
    "from __future__ import division\n",
    "\n",
    "#Variable declaration\n",
    "ni=1.5*10**16;     #carrier density(per m**3)\n",
    "mew_e=0.13;     #electron mobility(m**2/Vs)\n",
    "mew_h=0.05;     #hole mobility(m**2/Vs)\n",
    "e=1.6*10**-19;   \n",
    "d=2.33*10**3;    #density(kg/m**3)\n",
    "n=28.1;\n",
    "na=6.02*10**26;     #number of atoms\n",
    "\n",
    "#Calculation\n",
    "sigma=ni*e*(mew_e+mew_h);     #conductivity(ohm-1 m-1)\n",
    "Nd=d*na/(n*10**8);\n",
    "p=ni**2/Nd;    \n",
    "sigma_ex1=Nd*e*mew_e;     #conductivity(ohm-1 m-1)\n",
    "n=p;\n",
    "Na=Nd;\n",
    "sigma_ex2=Na*e*mew_h;     #conductivity(ohm-1 m-1)\n",
    "\n",
    "#Result\n",
    "print \"conductivity is\",sigma*10**3,\"*10**-3 ohm-1 m-1\"\n",
    "print \"conductivity is\",round(sigma_ex1,2),\"ohm-1 m-1\"\n",
    "print \"conductivity is\",round(sigma_ex2,2),\"ohm-1 m-1\""
   ]
  },
  {
   "cell_type": "markdown",
   "metadata": {},
   "source": [
    "##Example number 8.13, Page number 8.20"
   ]
  },
  {
   "cell_type": "code",
   "execution_count": 28,
   "metadata": {
    "collapsed": false
   },
   "outputs": [
    {
     "name": "stdout",
     "output_type": "stream",
     "text": [
      "conductivity is 0.4392 *10**-3 ohm-1 m-1\n",
      "hole concentration is 2250000000.0 per m**3\n",
      "conductivity is 2.16 *10**3 ohm-1 m-1\n",
      "position of fermi level is 0.02 eV\n"
     ]
    }
   ],
   "source": [
    "#importing modules\n",
    "import math\n",
    "from __future__ import division\n",
    "\n",
    "#Variable declaration\n",
    "ni=1.5*10**16;     #carrier density(per m**3)\n",
    "mew_e=0.135;     #electron mobility(m**2/Vs)\n",
    "mew_h=0.048;     #hole mobility(m**2/Vs)\n",
    "e=1.6*10**-19;  \n",
    "Nd=10**23;      \n",
    "T=300;    #temperature(K)\n",
    "k=1.38*10**-23;\n",
    "\n",
    "#Calculation\n",
    "sigma=ni*e*(mew_e+mew_h);     #conductivity(ohm-1 m-1)\n",
    "p=ni**2/Nd;     #hole concentration(per m**3)\n",
    "sigma_ex=Nd*e*mew_e;      #conductivity(ohm-1 m-1)\n",
    "x=3*k*T*math.log(mew_e/mew_h)/4;\n",
    "\n",
    "#Result\n",
    "print \"conductivity is\",sigma*10**3,\"*10**-3 ohm-1 m-1\"\n",
    "print \"hole concentration is\",p,\"per m**3\"\n",
    "print \"conductivity is\",sigma_ex/10**3,\"*10**3 ohm-1 m-1\"\n",
    "print \"position of fermi level is\",round(x/(1.6*10**-19),2),\"eV\""
   ]
  },
  {
   "cell_type": "markdown",
   "metadata": {},
   "source": [
    "##Example number 8.14, Page number 8.35"
   ]
  },
  {
   "cell_type": "code",
   "execution_count": 33,
   "metadata": {
    "collapsed": false
   },
   "outputs": [
    {
     "name": "stdout",
     "output_type": "stream",
     "text": [
      "diffusion coefficient is 49.162 *10**-4 m**2 s-1\n",
      "answer varies due to rounding off errors\n"
     ]
    }
   ],
   "source": [
    "#importing modules\n",
    "import math\n",
    "from __future__ import division\n",
    "\n",
    "#Variable declaration\n",
    "mew_e=0.19;     #electron mobility(m**2/Vs)\n",
    "e=1.6*10**-19;        \n",
    "T=300;    #temperature(K)\n",
    "k=1.38*10**-23;\n",
    "\n",
    "#Calculation\n",
    "Dn=mew_e*k*T/e;     #diffusion coefficient(m**2 s-1)\n",
    "\n",
    "#Result\n",
    "print \"diffusion coefficient is\",round(Dn*10**4,3),\"*10**-4 m**2 s-1\"\n",
    "print \"answer varies due to rounding off errors\""
   ]
  },
  {
   "cell_type": "markdown",
   "metadata": {},
   "source": [
    "##Example number 8.15, Page number 8.44"
   ]
  },
  {
   "cell_type": "code",
   "execution_count": 37,
   "metadata": {
    "collapsed": false
   },
   "outputs": [
    {
     "name": "stdout",
     "output_type": "stream",
     "text": [
      "hall voltage is 1.83 mV\n"
     ]
    }
   ],
   "source": [
    "#importing modules\n",
    "import math\n",
    "from __future__ import division\n",
    "\n",
    "#Variable declaration\n",
    "RH=3.66*10**-4;   #hall coefficient(m**3/coulomb)\n",
    "I=10**-2;     #current(amp)\n",
    "B=0.5;     #magnetic field(wb/m**2)\n",
    "t=1*10**-3;    #thickness(m)\n",
    "\n",
    "#Calculation\n",
    "VH=RH*I*B*10**3/t;     #hall voltage(mV)\n",
    "\n",
    "#Result\n",
    "print \"hall voltage is\",VH,\"mV\""
   ]
  },
  {
   "cell_type": "markdown",
   "metadata": {},
   "source": [
    "##Example number 8.16, Page number 8.45"
   ]
  },
  {
   "cell_type": "code",
   "execution_count": 40,
   "metadata": {
    "collapsed": false
   },
   "outputs": [
    {
     "name": "stdout",
     "output_type": "stream",
     "text": [
      "hall coefficient is 3.7e-06 C-1 m**3\n"
     ]
    }
   ],
   "source": [
    "#importing modules\n",
    "import math\n",
    "from __future__ import division\n",
    "\n",
    "#Variable declaration\n",
    "Vy=37*10**-6;     #voltage(V)\n",
    "t=10**-3;    #thickness(m)\n",
    "Bz=0.5;      #magnetic field(wb/m**2)\n",
    "Ix=20*10**-3;   #current(A)\n",
    "\n",
    "#Calculation\n",
    "RH=Vy*t/(Ix*Bz);     #hall coefficient(m**3/coulomb)\n",
    "\n",
    "#Result\n",
    "print \"hall coefficient is\",RH,\"C-1 m**3\""
   ]
  },
  {
   "cell_type": "markdown",
   "metadata": {},
   "source": [
    "##Example number 8.17, Page number 8.46"
   ]
  },
  {
   "cell_type": "code",
   "execution_count": 44,
   "metadata": {
    "collapsed": false
   },
   "outputs": [
    {
     "name": "stdout",
     "output_type": "stream",
     "text": [
      "density of charge carriers is 9.124 *10**22 m**3\n",
      "mobility of charge carriers is 17.125 *10**-3 m**2 V-1 s-1\n"
     ]
    }
   ],
   "source": [
    "#importing modules\n",
    "import math\n",
    "from __future__ import division\n",
    "\n",
    "#Variable declaration\n",
    "RH=6.85*10**-5;   #hall coefficient(m**3/coulomb)\n",
    "e=1.6*10**-19; \n",
    "sigma=250;      #conductivity(m-1 ohm-1)\n",
    "\n",
    "#Calculation\n",
    "n=1/(RH*e);       #density of charge carriers(m**3)\n",
    "mew=sigma/(n*e);    #mobility of charge carriers(m**2/Vs)\n",
    "\n",
    "#Result\n",
    "print \"density of charge carriers is\",round(n/10**22,3),\"*10**22 m**3\"\n",
    "print \"mobility of charge carriers is\",mew*10**3,\"*10**-3 m**2 V-1 s-1\""
   ]
  },
  {
   "cell_type": "markdown",
   "metadata": {},
   "source": [
    "##Example number 8.18, Page number 8.46"
   ]
  },
  {
   "cell_type": "code",
   "execution_count": 48,
   "metadata": {
    "collapsed": false
   },
   "outputs": [
    {
     "name": "stdout",
     "output_type": "stream",
     "text": [
      "hall voltage is 1.431 micro V\n"
     ]
    }
   ],
   "source": [
    "#importing modules\n",
    "import math\n",
    "from __future__ import division\n",
    "\n",
    "#Variable declaration\n",
    "I=30;    #current(A)\n",
    "B=1.75;   #magnetic field(T)\n",
    "n=6.55*10**28;    #electron concentration(/m**3)\n",
    "t=0.35*10**-2;    #thickness(m)\n",
    "e=1.6*10**-19; \n",
    "\n",
    "#Calculation\n",
    "VH=I*B*10**6/(n*e*t);     #hall voltage(micro V)\n",
    "\n",
    "#Result\n",
    "print \"hall voltage is\",round(VH,3),\"micro V\""
   ]
  },
  {
   "cell_type": "markdown",
   "metadata": {},
   "source": [
    "##Example number 8.19, Page number 8.47"
   ]
  },
  {
   "cell_type": "code",
   "execution_count": 55,
   "metadata": {
    "collapsed": false
   },
   "outputs": [
    {
     "name": "stdout",
     "output_type": "stream",
     "text": [
      "density of charge carriers is 1.708 *10**22 per m**3\n",
      "mobility of charge carriers is 0.041 m**2 V-1 s-1\n"
     ]
    }
   ],
   "source": [
    "#importing modules\n",
    "import math\n",
    "from __future__ import division\n",
    "\n",
    "#Variable declaration\n",
    "RH=3.66*10**-4;   #hall coefficient(m**3/coulomb)\n",
    "e=1.6*10**-19;\n",
    "Pn=8.93*10**-3;    #resistivity(ohm m)\n",
    "\n",
    "#Calculation\n",
    "n=1/(RH*e);      #density of charge carriers(per m**3)\n",
    "mew_e=RH/Pn;    #mobility of charge carriers(m**2/Vs)\n",
    "\n",
    "#Result\n",
    "print \"density of charge carriers is\",round(n/10**22,3),\"*10**22 per m**3\"\n",
    "print \"mobility of charge carriers is\",round(mew_e,3),\"m**2 V-1 s-1\""
   ]
  }
 ],
 "metadata": {
  "kernelspec": {
   "display_name": "Python 2",
   "language": "python",
   "name": "python2"
  },
  "language_info": {
   "codemirror_mode": {
    "name": "ipython",
    "version": 2
   },
   "file_extension": ".py",
   "mimetype": "text/x-python",
   "name": "python",
   "nbconvert_exporter": "python",
   "pygments_lexer": "ipython2",
   "version": "2.7.9"
  }
 },
 "nbformat": 4,
 "nbformat_minor": 0
}
