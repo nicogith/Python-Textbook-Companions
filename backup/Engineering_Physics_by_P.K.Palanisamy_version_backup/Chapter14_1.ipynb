{
 "cells": [
  {
   "cell_type": "markdown",
   "metadata": {},
   "source": [
    "#14: Acoustics of buildings and acoustic quieting"
   ]
  },
  {
   "cell_type": "markdown",
   "metadata": {},
   "source": [
    "##Example number 14.1, Page number 14.7"
   ]
  },
  {
   "cell_type": "code",
   "execution_count": 22,
   "metadata": {
    "collapsed": false
   },
   "outputs": [
    {
     "name": "stdout",
     "output_type": "stream",
     "text": [
      "reverberation time of hall is 1.264 s\n"
     ]
    }
   ],
   "source": [
    "#importing modules\n",
    "import math\n",
    "from __future__ import division\n",
    "\n",
    "#Variable declaration\n",
    "V=475;     #volume(m**3)\n",
    "aw=200;    #area of wall(m**2)\n",
    "ac=100;    #area of ceiling(m**2)\n",
    "ac_w=0.025;    #absorption coefficient of wall\n",
    "ac_c=0.02;    #absorption coefficient of ceiling\n",
    "ac_f=0.55;    #absorption coefficient of floor\n",
    "\n",
    "#Calculation\n",
    "sigma_as=(aw*ac_w)+(ac*ac_c)+(ac*ac_f);     \n",
    "T=0.165*V/sigma_as;          #reverberation time of hall(s)\n",
    "\n",
    "#Result\n",
    "print \"reverberation time of hall is\",round(T,3),\"s\""
   ]
  },
  {
   "cell_type": "markdown",
   "metadata": {},
   "source": [
    "##Example number 14.2, Page number 14.8"
   ]
  },
  {
   "cell_type": "code",
   "execution_count": 23,
   "metadata": {
    "collapsed": false
   },
   "outputs": [
    {
     "name": "stdout",
     "output_type": "stream",
     "text": [
      "new reverberation time is 1.31 s\n"
     ]
    }
   ],
   "source": [
    "#importing modules\n",
    "import math\n",
    "from __future__ import division\n",
    "\n",
    "#Variable declaration\n",
    "V=12500;     #volume(m**3)\n",
    "T1=1.5;      #reverberation time(sec)\n",
    "n=200;    #number of cushioned chairs\n",
    "\n",
    "#Calculation\n",
    "sigma_as=0.165*V/T1;    \n",
    "T2=0.165*V/(sigma_as+n);     #new reverberation time(s)\n",
    "\n",
    "#Result\n",
    "print \"new reverberation time is\",round(T2,2),\"s\""
   ]
  },
  {
   "cell_type": "markdown",
   "metadata": {},
   "source": [
    "##Example number 14.3, Page number 14.8"
   ]
  },
  {
   "cell_type": "code",
   "execution_count": 24,
   "metadata": {
    "collapsed": false
   },
   "outputs": [
    {
     "name": "stdout",
     "output_type": "stream",
     "text": [
      "total absorption in the hall is 660.0 OWU\n"
     ]
    }
   ],
   "source": [
    "#importing modules\n",
    "import math\n",
    "from __future__ import division\n",
    "\n",
    "#Variable declaration\n",
    "V=5000;    #volume(m**3)\n",
    "T=1.25;    #time(s)\n",
    "\n",
    "#Calculation\n",
    "sigma_as=0.165*V/T;          #total absorption in the hall(OWU)\n",
    "\n",
    "#Result\n",
    "print \"total absorption in the hall is\",sigma_as,\"OWU\""
   ]
  },
  {
   "cell_type": "markdown",
   "metadata": {},
   "source": [
    "##Example number 14.4, Page number 14.9"
   ]
  },
  {
   "cell_type": "code",
   "execution_count": 25,
   "metadata": {
    "collapsed": false
   },
   "outputs": [
    {
     "name": "stdout",
     "output_type": "stream",
     "text": [
      "total absorption in the hall is 1045.0 OWU\n",
      "new period of reverberation is 1.369 s\n"
     ]
    }
   ],
   "source": [
    "#importing modules\n",
    "import math\n",
    "from __future__ import division\n",
    "\n",
    "#Variable declaration\n",
    "V=9500;    #volume(m**3)\n",
    "T=1.5;    #time(s)\n",
    "x=100;    #absorption(sabines)\n",
    "\n",
    "#Calculation\n",
    "sigma_as=0.165*V/T;          #total absorption in the hall(OWU)\n",
    "T=0.165*V/(sigma_as+x);      #new period of reverberation(s)\n",
    "\n",
    "#Result\n",
    "print \"total absorption in the hall is\",sigma_as,\"OWU\"\n",
    "print \"new period of reverberation is\",round(T,3),\"s\""
   ]
  },
  {
   "cell_type": "markdown",
   "metadata": {},
   "source": [
    "##Example number 14.5, Page number 14.9"
   ]
  },
  {
   "cell_type": "code",
   "execution_count": 26,
   "metadata": {
    "collapsed": false
   },
   "outputs": [
    {
     "name": "stdout",
     "output_type": "stream",
     "text": [
      "total absorption in the hall is 70.714 OWU\n",
      "average absorption coefficient is 0.074 sabine/m**2\n"
     ]
    }
   ],
   "source": [
    "#importing modules\n",
    "import math\n",
    "from __future__ import division\n",
    "\n",
    "#Variable declaration\n",
    "V=20*15*5;    #volume(m**3)\n",
    "T=3.5;    #time(s)\n",
    "A=950;    #surface area(m**2)\n",
    "\n",
    "#Calculation\n",
    "sigma_as=0.165*V/T;          #total absorption in the hall(OWU)\n",
    "ac=sigma_as/A;       #average absorption coefficient\n",
    "\n",
    "#Result\n",
    "print \"total absorption in the hall is\",round(sigma_as,3),\"OWU\"\n",
    "print \"average absorption coefficient is\",round(ac,3),\"sabine/m**2\""
   ]
  },
  {
   "cell_type": "markdown",
   "metadata": {},
   "source": [
    "##Example number 14.6, Page number 14.9"
   ]
  },
  {
   "cell_type": "code",
   "execution_count": 37,
   "metadata": {
    "collapsed": false
   },
   "outputs": [
    {
     "name": "stdout",
     "output_type": "stream",
     "text": [
      "reverberation time of hall is 4.023 s\n",
      "number of persons to be seated is 5\n"
     ]
    }
   ],
   "source": [
    "#importing modules\n",
    "import math\n",
    "from __future__ import division\n",
    "\n",
    "#Variable declaration\n",
    "V=2265;    #volume(m**3)\n",
    "sigma_as=92.9;    #absorption(m**2)\n",
    "a=18.6;      #area(m**2)\n",
    "\n",
    "#Calculation\n",
    "T=0.165*V/sigma_as;          #reverberation time of hall(s)\n",
    "T1=0.165*V/2;      \n",
    "inc=T1-sigma_as;       #increase in absorption(OWU)\n",
    "n=inc/a;        #number of persons to be seated\n",
    "\n",
    "#Result\n",
    "print \"reverberation time of hall is\",round(T,3),\"s\"\n",
    "print \"number of persons to be seated is\",int(n)"
   ]
  }
 ],
 "metadata": {
  "kernelspec": {
   "display_name": "Python 2",
   "language": "python",
   "name": "python2"
  },
  "language_info": {
   "codemirror_mode": {
    "name": "ipython",
    "version": 2
   },
   "file_extension": ".py",
   "mimetype": "text/x-python",
   "name": "python",
   "nbconvert_exporter": "python",
   "pygments_lexer": "ipython2",
   "version": "2.7.9"
  }
 },
 "nbformat": 4,
 "nbformat_minor": 0
}
