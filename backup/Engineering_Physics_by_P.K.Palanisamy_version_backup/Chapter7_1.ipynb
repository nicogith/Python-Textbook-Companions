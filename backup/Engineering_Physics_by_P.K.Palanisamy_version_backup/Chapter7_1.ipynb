{
 "cells": [
  {
   "cell_type": "markdown",
   "metadata": {},
   "source": [
    "#7: Band Theory of Solids"
   ]
  },
  {
   "cell_type": "markdown",
   "metadata": {},
   "source": [
    "##Example number 7.1, Page number 7.5"
   ]
  },
  {
   "cell_type": "code",
   "execution_count": 5,
   "metadata": {
    "collapsed": false
   },
   "outputs": [
    {
     "name": "stdout",
     "output_type": "stream",
     "text": [
      "density of electrons is 5.86 *10**28\n",
      "mobility of electrons is 0.725 *10**-2 m**2 V-1 s-1\n"
     ]
    }
   ],
   "source": [
    "#importing modules\n",
    "import math\n",
    "from __future__ import division\n",
    "\n",
    "#Variable declaration\n",
    "rho_s=10.5*10**3;     #density(kg/m**3)\n",
    "NA=6.02*10**26;       #avagadro number(per k mol)\n",
    "MA=107.9;      #atomic mass\n",
    "sigma=6.8*10**7;     #conductance(ohm-1 m-1)\n",
    "e=1.6*10**-19;     #charge(coulomb)\n",
    "\n",
    "#Calculation\n",
    "n=rho_s*NA/MA;     #density of electrons\n",
    "mew=sigma/(n*e);    #mobility of electrons(m**2/Vs)\n",
    "\n",
    "#Result\n",
    "print \"density of electrons is\",round(n/10**28,2),\"*10**28\"\n",
    "print \"mobility of electrons is\",round(mew*10**2,3),\"*10**-2 m**2 V-1 s-1\""
   ]
  },
  {
   "cell_type": "markdown",
   "metadata": {},
   "source": [
    "##Example number 7.2, Page number 7.6"
   ]
  },
  {
   "cell_type": "code",
   "execution_count": 9,
   "metadata": {
    "collapsed": false
   },
   "outputs": [
    {
     "name": "stdout",
     "output_type": "stream",
     "text": [
      "mobility of electrons is 0.427 *10**-2 m V-1 s-1\n",
      "average time of collision is 2.43 *10**-14 s\n"
     ]
    }
   ],
   "source": [
    "#importing modules\n",
    "import math\n",
    "from __future__ import division\n",
    "\n",
    "#Variable declaration\n",
    "d=8.92*10**3;     #density(kg/m**3)\n",
    "rho=1.73*10**-8;     #resistivity of copper(ohm m)\n",
    "NA=6.02*10**26;       #avagadro number(per k mol)\n",
    "Aw=63.5;      #atomic weight\n",
    "m=9.1*10**-31;     #mass(kg)\n",
    "e=1.6*10**-19;     #charge(coulomb)\n",
    "\n",
    "#Calculation\n",
    "n=d*NA/Aw;     #density of electrons\n",
    "mew=1/(rho*n*e);    #mobility of electrons(m**2/Vs)\n",
    "t=m/(n*e**2*rho);    #average time of collision(s)\n",
    "\n",
    "#Result\n",
    "print \"mobility of electrons is\",round(mew*10**2,3),\"*10**-2 m V-1 s-1\"\n",
    "print \"average time of collision is\",round(t*10**14,2),\"*10**-14 s\""
   ]
  },
  {
   "cell_type": "markdown",
   "metadata": {},
   "source": [
    "##Example number 7.3, Page number 7.7"
   ]
  },
  {
   "cell_type": "code",
   "execution_count": 11,
   "metadata": {
    "collapsed": false
   },
   "outputs": [
    {
     "name": "stdout",
     "output_type": "stream",
     "text": [
      "relaxation time of conduction electrons is 3.97 *10**-14 s\n"
     ]
    }
   ],
   "source": [
    "#importing modules\n",
    "import math\n",
    "from __future__ import division\n",
    "\n",
    "#Variable declaration\n",
    "P=1.54*10**-8;     #resistance(ohm m)\n",
    "n=5.8*10**28;      #number of electrons(per m**3)\n",
    "m=9.108*10**-31;     #mass(kg)\n",
    "e=1.602*10**-19;     #charge(coulomb)\n",
    "\n",
    "#Calculation\n",
    "t=m/(n*e**2*P);      #relaxation time of conduction electrons(s) \n",
    "\n",
    "#Result\n",
    "print \"relaxation time of conduction electrons is\",round(t*10**14,2),\"*10**-14 s\""
   ]
  },
  {
   "cell_type": "markdown",
   "metadata": {},
   "source": [
    "##Example number 7.4, Page number 7.8"
   ]
  },
  {
   "cell_type": "code",
   "execution_count": 15,
   "metadata": {
    "collapsed": false
   },
   "outputs": [
    {
     "name": "stdout",
     "output_type": "stream",
     "text": [
      "free electron concentration is 1.8088 *10**29 electrons/m**2\n",
      "mobility is 1.278 *10**-3 m s-1 V-1\n",
      "drift velocity of electrons is 0.23 *10**-3 m s-1\n"
     ]
    }
   ],
   "source": [
    "#importing modules\n",
    "import math\n",
    "from __future__ import division\n",
    "\n",
    "#Variable declaration\n",
    "R=0.06;    #resistance(ohm)\n",
    "I=15;      #current(A)\n",
    "D=5;     #length(m)\n",
    "MA=26.98;       #atomic mass\n",
    "rho_s=2.7*10**3;    #density(kg/m**3)\n",
    "NA=6.025*10**26;       #avagadro number(per k mol)\n",
    "e=1.602*10**-19;     #charge(coulomb)\n",
    "\n",
    "#Calculation\n",
    "n=3*rho_s*NA/MA;     #free electron concentration(electrons/m**2)\n",
    "mew=1/(n*e*rho_s*10**-11);     #mobility(m s-1 V-1)\n",
    "E=I*R/D;     #electric field(V/m)\n",
    "vd=mew*E;    #drift velocity of electrons(m/s)\n",
    "\n",
    "#Result\n",
    "print \"free electron concentration is\",round(n/10**29,4),\"*10**29 electrons/m**2\"\n",
    "print \"mobility is\",round(mew*10**3,3),\"*10**-3 m s-1 V-1\"\n",
    "print \"drift velocity of electrons is\",round(vd*10**3,2),\"*10**-3 m s-1\""
   ]
  }
 ],
 "metadata": {
  "kernelspec": {
   "display_name": "Python 2",
   "language": "python",
   "name": "python2"
  },
  "language_info": {
   "codemirror_mode": {
    "name": "ipython",
    "version": 2
   },
   "file_extension": ".py",
   "mimetype": "text/x-python",
   "name": "python",
   "nbconvert_exporter": "python",
   "pygments_lexer": "ipython2",
   "version": "2.7.9"
  }
 },
 "nbformat": 4,
 "nbformat_minor": 0
}
