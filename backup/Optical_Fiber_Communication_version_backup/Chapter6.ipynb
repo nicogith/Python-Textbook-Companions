{
 "metadata": {
  "name": "",
  "signature": "sha256:ade43627b2f5d9f9e9fc6f1fe77b719e4d5ca9dd8c4d3cb361adefbae3d62e1a"
 },
 "nbformat": 3,
 "nbformat_minor": 0,
 "worksheets": [
  {
   "cells": [
    {
     "cell_type": "heading",
     "level": 1,
     "metadata": {},
     "source": [
      "Chapter 6: Optical Sources LEDs"
     ]
    },
    {
     "cell_type": "heading",
     "level": 2,
     "metadata": {},
     "source": [
      "Example 1: PgNo-277"
     ]
    },
    {
     "cell_type": "code",
     "collapsed": false,
     "input": [
      "import math\n",
      "\n",
      "# Initialisation of variables\n",
      "r=125*math.pow(10,-6) # cladding radius in meter\n",
      "R=8*math.pow(10,-2) # curve of radius in meter\n",
      "s=((R+2*r)/(R+r))-1\n",
      "s_p=s*100 # percentage of strain\n",
      "\n",
      "# Results\n",
      "print ('%s %.2f %s' %(\" The percentage of strain = \",s_p,\"%\"))\n",
      "print (\"\\n If this condition is maintained the fiber will maintain without any break \")\n"
     ],
     "language": "python",
     "metadata": {},
     "outputs": [
      {
       "output_type": "stream",
       "stream": "stdout",
       "text": [
        " The percentage of strain =  0.16 %\n",
        "\n",
        " If this condition is maintained the fiber will maintain without any break \n"
       ]
      }
     ],
     "prompt_number": 1
    },
    {
     "cell_type": "heading",
     "level": 2,
     "metadata": {},
     "source": [
      "Example 2: PgNo-279"
     ]
    },
    {
     "cell_type": "code",
     "collapsed": false,
     "input": [
      "import math\n",
      "\n",
      "# initialisation of variables\n",
      "w=40*math.pow(10,-3) # cable weighing in kg/m\n",
      "R=20*math.pow(10,-2) # radius of curvature in meter\n",
      "n=0.19 # co-efficient of friction\n",
      "x=(3.14/4) # angle in rad\n",
      "\n",
      "# calculations\n",
      "si=42.36   # pulling tension at the entrance in kg\n",
      "X=(si/(w*R))\n",
      "Y=math.asinh(si/(w*R))\n",
      "Z=w*R*math.sinh(n*x+Y) # puttling tension at the exit of an optical cable\n",
      "\n",
      "# Results\n",
      "print ('%s %.3f %s' %(\" The puttling tension at the exit of an optical cable = \",Z,\"kg\"))"
     ],
     "language": "python",
     "metadata": {},
     "outputs": [
      {
       "output_type": "stream",
       "stream": "stdout",
       "text": [
        " The puttling tension at the exit of an optical cable =  49.173 kg\n"
       ]
      }
     ],
     "prompt_number": 2
    }
   ],
   "metadata": {}
  }
 ]
}