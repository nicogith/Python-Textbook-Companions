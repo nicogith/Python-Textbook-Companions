{
 "metadata": {
  "name": "",
  "signature": "sha256:73390f8563e8d4a1d9bd2f7f6ade532b739ba3ced6bfe518d2929933836b62ae"
 },
 "nbformat": 3,
 "nbformat_minor": 0,
 "worksheets": [
  {
   "cells": [
    {
     "cell_type": "heading",
     "level": 1,
     "metadata": {},
     "source": [
      "Chapter 11: Virtual Functions"
     ]
    },
    {
     "cell_type": "heading",
     "level": 2,
     "metadata": {},
     "source": [
      "Example 11.1, Page Number 505"
     ]
    },
    {
     "cell_type": "code",
     "collapsed": false,
     "input": [
      "class Base:               #Base class\n",
      "    def show(self):       #virtual function\n",
      "        print 'Base'\n",
      "        \n",
      "class Derv1(Base):        #derived class 1\n",
      "    def show(self):\n",
      "        print 'Derv1'\n",
      "        \n",
      "class Derv2(Base):        #derived class 2\n",
      "    def show(self):\n",
      "        print 'Derv2'\n",
      "        \n",
      "        \n",
      "        \n",
      "dv1 = Derv1()             #object of derived class 1\n",
      "dv2 = Derv2()             #object of derived class 2\n",
      "\n",
      "ptr = [Base()]            #pointer to base class\n",
      "\n",
      "ptr[0] = dv1              #put address of dv1 in pointer\n",
      "ptr[0].show()             #execute show()\n",
      "\n",
      "ptr[0] = dv2              #put address of dv2 in pointer\n",
      "ptr[0].show()             #execute show()\n",
      "\n",
      "#in python all functions are virtual by default that is why here output is diffrent from the book"
     ],
     "language": "python",
     "metadata": {},
     "outputs": [
      {
       "output_type": "stream",
       "stream": "stdout",
       "text": [
        "Derv1\n",
        "Derv2\n"
       ]
      }
     ],
     "prompt_number": 1
    },
    {
     "cell_type": "heading",
     "level": 2,
     "metadata": {},
     "source": [
      "Example 11.2, Page Number 507"
     ]
    },
    {
     "cell_type": "code",
     "collapsed": false,
     "input": [
      "class Base:                #base class\n",
      "    def show(self):        #virtual function\n",
      "        print 'Base'\n",
      "        \n",
      "class Derv1(Base):         #derived class 1\n",
      "    def show(self):\n",
      "        print 'Derv1'\n",
      "        \n",
      "class Derv2(Base):         #derived class 2\n",
      "    def show(self):\n",
      "        print 'Derv2'\n",
      "        \n",
      "        \n",
      "        \n",
      "dv1 = Derv1()             #object of derived class 1\n",
      "dv2 = Derv2()             #object of derived class 2\n",
      "\n",
      "ptr = [Base()]            #pointer to base class\n",
      "\n",
      "ptr[0] = dv1              #put address of dv1 in pointer\n",
      "ptr[0].show()             #execute show()\n",
      "\n",
      "ptr[0] = dv2              #put address of dv2 in pointer\n",
      "ptr[0].show()             #execute show()"
     ],
     "language": "python",
     "metadata": {},
     "outputs": [
      {
       "output_type": "stream",
       "stream": "stdout",
       "text": [
        "Derv1\n",
        "Derv2\n"
       ]
      }
     ],
     "prompt_number": 2
    },
    {
     "cell_type": "heading",
     "level": 2,
     "metadata": {},
     "source": [
      "Example 11.3, Page Number 510"
     ]
    },
    {
     "cell_type": "code",
     "collapsed": false,
     "input": [
      "class Base:             #base class\n",
      "    def show(self):     #pure virtual function\n",
      "        pass\n",
      "        \n",
      "class Derv1(Base):      #derived class 1\n",
      "    def show(self):\n",
      "        print 'Derv1'\n",
      "        \n",
      "class Derv2(Base):      #derived class 2\n",
      "    def show(self):\n",
      "        print 'Derv2'\n",
      "\n",
      "        \n",
      "        \n",
      "arr = [Base(),Base()]   #array of pointers to base class\n",
      "dv1 = Derv1()           #object of derived class 1\n",
      "dv2 = Derv2()           #object of derived class 2\n",
      "\n",
      "arr[0] = dv1            #put address of dv1 in pointer\n",
      "arr[1] = dv2            #put address of dv2 in pointer\n",
      "\n",
      "arr[0].show()           #execute show() in both objects\n",
      "arr[1].show()"
     ],
     "language": "python",
     "metadata": {},
     "outputs": [
      {
       "output_type": "stream",
       "stream": "stdout",
       "text": [
        "Derv1\n",
        "Derv2\n"
       ]
      }
     ],
     "prompt_number": 3
    },
    {
     "cell_type": "heading",
     "level": 2,
     "metadata": {},
     "source": [
      "Example 11.4, Page Number 512"
     ]
    },
    {
     "cell_type": "code",
     "collapsed": false,
     "input": [
      "class person:        #person class\n",
      "    \n",
      "    def getName(self):\n",
      "        self._name = raw_input(\"   Enter name: \")\n",
      "        \n",
      "    def putName(self):\n",
      "        print 'Name is:',self._name\n",
      "        \n",
      "    def getData(self):           #pure virtual function\n",
      "        pass\n",
      "    \n",
      "    def isOutstanding(self):     #pure virtual function\n",
      "        pass\n",
      "    \n",
      "    \n",
      "    \n",
      "class student(person):           #student class\n",
      "    \n",
      "    def getData(self):           #get student data from user\n",
      "        person.getName(self)\n",
      "        self.__gpa = input('   Enter student\\'s GPA: ')    #grade point aerage\n",
      "        \n",
      "    def isOutstanding(self):\n",
      "        if self.__gpa > 3.5:\n",
      "            return True\n",
      "        else:\n",
      "            return False\n",
      "        \n",
      "        \n",
      "        \n",
      "class professor(person):          #professor class\n",
      "    \n",
      "    def getData(self):            #get professor data from user\n",
      "        person.getName(self)\n",
      "        self.__numPubs = input('   Enter number of professor\\'s publications: ')      #number of papers published\n",
      "        \n",
      "    def isOutstanding(self):\n",
      "        if self.__numPubs > 100:\n",
      "            return True\n",
      "        else:\n",
      "            return False\n",
      "        \n",
      "        \n",
      "        \n",
      "        \n",
      "persPtr = [person()]*100          #array of persons\n",
      "n = 0                             #number of persons on list\n",
      "\n",
      "while True:\n",
      "    choice = raw_input('Enter student or professor (s/p): ')\n",
      "    \n",
      "    if choice=='s': \n",
      "        persPtr[n] = student()           #put new student in array\n",
      "    else:\n",
      "        persPtr[n] = professor()         #put new professor in array\n",
      "    \n",
      "    persPtr[n].getData()                 #get data for person\n",
      "    n+=1\n",
      "    \n",
      "    choice = raw_input('   Enter another (y/n)? ')          #do another person?\n",
      "    \n",
      "    if choice=='n':             #cycle untill not 'y'\n",
      "        break\n",
      "        \n",
      "        \n",
      "print ''\n",
      "for j in range(n):              #print names of all persons, and say if outstanding \n",
      "    persPtr[j].putName()\n",
      "    \n",
      "    if persPtr[j].isOutstanding():\n",
      "        print '   This person is outstanding'"
     ],
     "language": "python",
     "metadata": {},
     "outputs": [
      {
       "name": "stdout",
       "output_type": "stream",
       "stream": "stdout",
       "text": [
        "Enter student or professor (s/p): s\n"
       ]
      },
      {
       "name": "stdout",
       "output_type": "stream",
       "stream": "stdout",
       "text": [
        "   Enter name: Timmy\n"
       ]
      },
      {
       "name": "stdout",
       "output_type": "stream",
       "stream": "stdout",
       "text": [
        "   Enter student's GPA: 1.2\n"
       ]
      },
      {
       "name": "stdout",
       "output_type": "stream",
       "stream": "stdout",
       "text": [
        "   Enter another (y/n)? y\n"
       ]
      },
      {
       "name": "stdout",
       "output_type": "stream",
       "stream": "stdout",
       "text": [
        "Enter student or professor (s/p): s\n"
       ]
      },
      {
       "name": "stdout",
       "output_type": "stream",
       "stream": "stdout",
       "text": [
        "   Enter name: Brenda\n"
       ]
      },
      {
       "name": "stdout",
       "output_type": "stream",
       "stream": "stdout",
       "text": [
        "   Enter student's GPA: 3.9\n"
       ]
      },
      {
       "name": "stdout",
       "output_type": "stream",
       "stream": "stdout",
       "text": [
        "   Enter another (y/n)? y\n"
       ]
      },
      {
       "name": "stdout",
       "output_type": "stream",
       "stream": "stdout",
       "text": [
        "Enter student or professor (s/p): s\n"
       ]
      },
      {
       "name": "stdout",
       "output_type": "stream",
       "stream": "stdout",
       "text": [
        "   Enter name: Sandy\n"
       ]
      },
      {
       "name": "stdout",
       "output_type": "stream",
       "stream": "stdout",
       "text": [
        "   Enter student's GPA: 2.4\n"
       ]
      },
      {
       "name": "stdout",
       "output_type": "stream",
       "stream": "stdout",
       "text": [
        "   Enter another (y/n)? y\n"
       ]
      },
      {
       "name": "stdout",
       "output_type": "stream",
       "stream": "stdout",
       "text": [
        "Enter student or professor (s/p): p\n"
       ]
      },
      {
       "name": "stdout",
       "output_type": "stream",
       "stream": "stdout",
       "text": [
        "   Enter name: Shipley\n"
       ]
      },
      {
       "name": "stdout",
       "output_type": "stream",
       "stream": "stdout",
       "text": [
        "   Enter number of professor's publications: 714\n"
       ]
      },
      {
       "name": "stdout",
       "output_type": "stream",
       "stream": "stdout",
       "text": [
        "   Enter another (y/n)? y\n"
       ]
      },
      {
       "name": "stdout",
       "output_type": "stream",
       "stream": "stdout",
       "text": [
        "Enter student or professor (s/p): p\n"
       ]
      },
      {
       "name": "stdout",
       "output_type": "stream",
       "stream": "stdout",
       "text": [
        "   Enter name: Wainright\n"
       ]
      },
      {
       "name": "stdout",
       "output_type": "stream",
       "stream": "stdout",
       "text": [
        "   Enter number of professor's publications: 13\n"
       ]
      },
      {
       "name": "stdout",
       "output_type": "stream",
       "stream": "stdout",
       "text": [
        "   Enter another (y/n)? n\n"
       ]
      },
      {
       "output_type": "stream",
       "stream": "stdout",
       "text": [
        "\n",
        "Name is: Timmy\n",
        "Name is: Brenda\n",
        "   This person is outstanding\n",
        "Name is: Sandy\n",
        "Name is: Shipley\n",
        "   This person is outstanding\n",
        "Name is: Wainright\n"
       ]
      }
     ],
     "prompt_number": 4
    },
    {
     "cell_type": "heading",
     "level": 2,
     "metadata": {},
     "source": [
      "Example 11.5, Page Number 515"
     ]
    },
    {
     "cell_type": "code",
     "collapsed": false,
     "input": [
      "from turtle import *       #importing turtles library\n",
      "\n",
      "class shape:                                   #base class\n",
      "    def __init__(self,x=0,y=0,fc=\"white\"):     #constructor\n",
      "        self._xCo = x                          #coordinate for shape\n",
      "        self._yCo = y\n",
      "        self._fillcolor = fc                   #color for shape\n",
      "        \n",
      "    def draw(self,a):              #virtual draw function\n",
      "        a.color(self._fillcolor)\n",
      "\n",
      "        \n",
      "        \n",
      "class ball(shape):                 #defining circle class\n",
      "    \n",
      "    def __init__(self,x,y,r,fc):     #constructor for set circle attribute\n",
      "        shape.__init__(self,x,y,fc)  \n",
      "        self._radius = r\n",
      "        \n",
      "    def draw(self):      #draw the circle\n",
      "        setup()\n",
      "        turtle = Turtle()\n",
      "        turtle.begin_fill()\n",
      "        \n",
      "        shape.draw(self,turtle)\n",
      "        \n",
      "        turtle.up()\n",
      "        turtle.goto(self._xCo,self._yCo)\n",
      "        turtle.down()\n",
      "        turtle.circle(self._radius)\n",
      "        turtle.end_fill()\n",
      "        turtle.hideturtle()\n",
      "        done()\n",
      "        \n",
      "        \n",
      "        \n",
      "class rect(shape):          #defining rectangle class\n",
      "    \n",
      "    def __init__(self,x,y,h,w,fc):     #constructor\n",
      "        shape.__init__(self,x,y,fc)  \n",
      "        self._height = h\n",
      "        self._weight = w\n",
      "        \n",
      "    def draw(self):      #draw the rectangle\n",
      "        setup()\n",
      "        turtle = Turtle()\n",
      "        turtle.begin_fill()\n",
      "        \n",
      "        shape.draw(self,turtle)\n",
      "        \n",
      "        turtle.up()\n",
      "        turtle.goto(self._xCo,self._yCo)\n",
      "        turtle.down()\n",
      "        turtle.forward(self._weight) \n",
      "        turtle.left(90)\n",
      "        turtle.forward(self._height)\n",
      "        turtle.left(90)\n",
      "        turtle.forward(self._weight)\n",
      "        turtle.left(90)\n",
      "        turtle.forward(self._height)\n",
      "        turtle.end_fill()\n",
      "        turtle.hideturtle()\n",
      "        done()  \n",
      "\n",
      "        \n",
      "class tria(shape):          #defining triangle class\n",
      "    \n",
      "    def __init__(self,x,y,h,fc):     #constructor \n",
      "        shape.__init__(self,x,y,fc)  \n",
      "        self._height = h\n",
      "        \n",
      "    def draw(self):      #draw the triangle\n",
      "        setup()\n",
      "        turtle = Turtle()\n",
      "        turtle.begin_fill()\n",
      "        \n",
      "        shape.draw(self,turtle)\n",
      "        \n",
      "        turtle.up()\n",
      "        turtle.goto(self._xCo,self._yCo)\n",
      "        turtle.down()\n",
      "        turtle.forward(self._height) \n",
      "        turtle.left(120)\n",
      "        turtle.forward(self._height)\n",
      "        turtle.left(120)\n",
      "        turtle.forward(self._height)\n",
      "        turtle.end_fill()\n",
      "        turtle.hideturtle()\n",
      "        done()\n",
      "    \n",
      "    \n",
      "    \n",
      "pShapes = [shape()]*3                #array of shapes define three shapes\n",
      "\n",
      "pShapes[0] = ball(40,12,5,\"blue\")                  #create circle\n",
      "pShapes[1] = rect(12,7,10,15,\"red\")                #create rectangle\n",
      "pShapes[2] = tria(60,7,11,\"green\")                 #create triangle\n",
      "\n",
      "for j in range(3):            #draw all shape\n",
      "    pShapes[j].draw()"
     ],
     "language": "python",
     "metadata": {},
     "outputs": [],
     "prompt_number": 5
    },
    {
     "cell_type": "heading",
     "level": 2,
     "metadata": {},
     "source": [
      "Example 11.6, Page Number 517"
     ]
    },
    {
     "cell_type": "code",
     "collapsed": false,
     "input": [
      "class Base:\n",
      "    def __del__(self):            #non virtual destructor\n",
      "        print 'Base destroyed'\n",
      "        \n",
      "class Derv(Base):\n",
      "    def __del__(self):\n",
      "        print 'Derv destroyed'\n",
      "        \n",
      "        \n",
      "        \n",
      "pBase = [Base()]\n",
      "\n",
      "del pBase[0]"
     ],
     "language": "python",
     "metadata": {},
     "outputs": [
      {
       "output_type": "stream",
       "stream": "stdout",
       "text": [
        "Base destroyed\n"
       ]
      }
     ],
     "prompt_number": 6
    },
    {
     "cell_type": "heading",
     "level": 2,
     "metadata": {},
     "source": [
      "Example 11.7, Page Number 521"
     ]
    },
    {
     "cell_type": "code",
     "collapsed": false,
     "input": [
      "class alpha:\n",
      "    def __init__(self):          #no-arg constructor\n",
      "        self.__data = 3\n",
      "        \n",
      "class beta:\n",
      "    def __init__(self):          #no-arg constructor\n",
      "        self.__data = 7\n",
      "        \n",
      "        \n",
      "def frifunc(a,b):                #friend function of both alpha and beta classes\n",
      "    return a._alpha__data + b._beta__data\n",
      "\n",
      "\n",
      "\n",
      "aa = alpha()\n",
      "bb = beta()\n",
      "\n",
      "print frifunc(aa,bb)             #call the function"
     ],
     "language": "python",
     "metadata": {},
     "outputs": [
      {
       "output_type": "stream",
       "stream": "stdout",
       "text": [
        "10\n"
       ]
      }
     ],
     "prompt_number": 7
    },
    {
     "cell_type": "heading",
     "level": 2,
     "metadata": {},
     "source": [
      "Example 11.8, Page Number 522"
     ]
    },
    {
     "cell_type": "code",
     "collapsed": false,
     "input": [
      "class Distance:             #class Distance\n",
      "    \n",
      "    def __init__(self,ft=0,inc=0.0):        #constructor\n",
      "        \n",
      "        if isinstance(ft,float):            #one argument \n",
      "            fltfeet = ft\n",
      "            self.__feet = int(fltfeet)                    #feet is integer part\n",
      "            self.__inches = 12*(fltfeet-self.__feet)      #inches is what's left\n",
      "            \n",
      "        else:                                   #two arguments\n",
      "            self.__feet = ft\n",
      "            self.__inches = inc\n",
      "    \n",
      "    \n",
      "    def showdist(self):             #display Distance\n",
      "        print self.__feet , '\\' -' , self.__inches , '\\\"'\n",
      "        \n",
      "        \n",
      "    def __add__(self,d2):           #add distance to this one\n",
      "        \n",
      "        if isinstance(d2,float):\n",
      "            d2 = Distance(d2)\n",
      "            \n",
      "        f = self.__feet + d2.__feet         #add the feet\n",
      "        i = self.__inches + d2.__inches     #add the inches\n",
      "        \n",
      "        if i >= 12.0:               #if total exceeds 12.0, \n",
      "            i -= 12.0               #then decrease inches by 12.0 and\n",
      "            f += 1                  #increase feet by 1\n",
      "            \n",
      "        return Distance(f,i)        #return new Distance with sum\n",
      "    \n",
      "    \n",
      "    \n",
      "    \n",
      "d1 = Distance(2.5)             #constructor converts float feet to Distance\n",
      "d2 = Distance(1.25)\n",
      "d3 = Distance()\n",
      "\n",
      "print 'd1 =',;d1.showdist()\n",
      "print 'd2 =',;d2.showdist()\n",
      "\n",
      "d3 = d1 + 10.0                 #Distance + feet: OK\n",
      "print 'd3 =',;d3.showdist()"
     ],
     "language": "python",
     "metadata": {},
     "outputs": [
      {
       "output_type": "stream",
       "stream": "stdout",
       "text": [
        "d1 = 2 ' - 6.0 \"\n",
        "d2 = 1 ' - 3.0 \"\n",
        "d3 = 12 ' - 6.0 \"\n"
       ]
      }
     ],
     "prompt_number": 8
    },
    {
     "cell_type": "heading",
     "level": 2,
     "metadata": {},
     "source": [
      "Example 11.9, Page Number 524"
     ]
    },
    {
     "cell_type": "code",
     "collapsed": false,
     "input": [
      "class Distance:           #class Distance\n",
      "    \n",
      "    def __init__(self,ft=0,inc=0.0):    #constructor\n",
      "        \n",
      "        if isinstance(ft,float):        #one argument \n",
      "            fltfeet = ft\n",
      "            self.__feet = int(fltfeet)                       #feet is integer part\n",
      "            self.__inches = 12*(fltfeet-self.__feet)         #inches is what's left\n",
      "            \n",
      "        else:                           #two arguments\n",
      "            self.__feet = ft\n",
      "            self.__inches = inc\n",
      "    \n",
      "    \n",
      "    def showdist(self):                 #display Distance\n",
      "        print self.__feet , '\\' -' , self.__inches , '\\\"'\n",
      "        \n",
      "        \n",
      "        \n",
      "def add(d1,d2):                 #add distance to this one\n",
      "    \n",
      "    if isinstance(d2,float):\n",
      "        d2 = Distance(d2)\n",
      "        \n",
      "    if isinstance(d1,float):\n",
      "        d1 = Distance(d1)\n",
      "            \n",
      "    f = d1._Distance__feet + d2._Distance__feet         #add the feet\n",
      "    i = d1._Distance__inches + d2._Distance__inches     #add the inches\n",
      "        \n",
      "    if i >= 12.0:               #if total exceeds 12.0, \n",
      "        i -= 12.0               #then decrease inches by 12.0 and\n",
      "        f += 1                  #increase feet by 1\n",
      "        \n",
      "    return Distance(f,i)        #return new Distance with sum\n",
      "    \n",
      "    \n",
      "    \n",
      "    \n",
      "d1 = Distance(2.5)              #constructor converts float feet to Distance\n",
      "d2 = Distance(1.25)\n",
      "d3 = Distance()\n",
      "\n",
      "print 'd1 =',;d1.showdist()\n",
      "print 'd2 =',;d2.showdist()\n",
      "\n",
      "d3 = add(d1,10.0)                #Distance + feet: OK\n",
      "print 'd3 =',;d3.showdist()\n",
      "\n",
      "d3 = add(10.0,d1)                #feet + Distance: OK\n",
      "print 'd3 =',;d3.showdist()"
     ],
     "language": "python",
     "metadata": {},
     "outputs": [
      {
       "output_type": "stream",
       "stream": "stdout",
       "text": [
        "d1 = 2 ' - 6.0 \"\n",
        "d2 = 1 ' - 3.0 \"\n",
        "d3 = 12 ' - 6.0 \"\n",
        "d3 = 12 ' - 6.0 \"\n"
       ]
      }
     ],
     "prompt_number": 9
    },
    {
     "cell_type": "heading",
     "level": 2,
     "metadata": {},
     "source": [
      "Example 11.10, Page Number 526"
     ]
    },
    {
     "cell_type": "code",
     "collapsed": false,
     "input": [
      "class Distance:         #class Distance\n",
      "    \n",
      "    def __init__(self,ft=0,inc=0.0):      #constructor\n",
      "        self.__feet = ft\n",
      "        self.__inches = inc\n",
      "    \n",
      "    def showdist(self):         #display Distance\n",
      "        print self.__feet , '\\' -' , self.__inches , '\\\"'\n",
      "        \n",
      "    def square(self):                                   #returns square of this distance\n",
      "        fltfeet = self.__feet + self.__inches/12        #convert to float\n",
      "        feetsqrd = fltfeet*fltfeet                      #find the square\n",
      "        return feetsqrd                                 #return square feet\n",
      "    \n",
      "    \n",
      "    \n",
      "dist = Distance(3,6.0)\n",
      "\n",
      "sqft = dist.square()                   #return square of dist\n",
      "\n",
      "print 'Distance =',;dist.showdist()           #display distance and square\n",
      "print 'Square =',sqft,'square feet'"
     ],
     "language": "python",
     "metadata": {},
     "outputs": [
      {
       "output_type": "stream",
       "stream": "stdout",
       "text": [
        "Distance = 3 ' - 6.0 \"\n",
        "Square = 12.25 square feet\n"
       ]
      }
     ],
     "prompt_number": 10
    },
    {
     "cell_type": "heading",
     "level": 2,
     "metadata": {},
     "source": [
      "Example 11.11, Page Number 527"
     ]
    },
    {
     "cell_type": "code",
     "collapsed": false,
     "input": [
      "class Distance:         #class Distance\n",
      "    \n",
      "    def __init__(self,ft=0,inc=0.0):       #constructor\n",
      "        self.__feet = ft\n",
      "        self.__inches = inc\n",
      "    \n",
      "    def showdist(self):       #display Distance\n",
      "        print self.__feet , '\\' -' , self.__inches , '\\\"'\n",
      "   \n",
      "        \n",
      "#friend function\n",
      "\n",
      "def square(d):                                                 #returns square of this distance\n",
      "    fltfeet = d._Distance__feet + d._Distance__inches/12       #convert to float\n",
      "    feetsqrd = fltfeet*fltfeet                                 #find the square\n",
      "    return feetsqrd                                            #return square feet\n",
      "    \n",
      "    \n",
      "    \n",
      "dist = Distance(3,6.0)\n",
      "\n",
      "sqft = square(dist)            #return square of dist\n",
      "\n",
      "print 'Distance =',;dist.showdist()           #display distance and square\n",
      "print 'Square =',sqft,'square feet'"
     ],
     "language": "python",
     "metadata": {},
     "outputs": [
      {
       "output_type": "stream",
       "stream": "stdout",
       "text": [
        "Distance = 3 ' - 6.0 \"\n",
        "Square = 12.25 square feet\n"
       ]
      }
     ],
     "prompt_number": 11
    },
    {
     "cell_type": "heading",
     "level": 2,
     "metadata": {},
     "source": [
      "Example 11.12, Page Number 528"
     ]
    },
    {
     "cell_type": "code",
     "collapsed": false,
     "input": [
      "class alpha:\n",
      "    def __init__(self):          #constructor\n",
      "        self.__data1 = 99\n",
      "        \n",
      "class beta:\n",
      "    def func1(self,a):                     #it can access private member of alpha class through a\n",
      "        print 'data1 =',a._alpha__data1\n",
      "    \n",
      "    def func2(self,a):                     #it can access private member of alpha class through a\n",
      "        print 'data1 =',a._alpha__data1\n",
      "\n",
      "        \n",
      "        \n",
      "a = alpha()\n",
      "b = beta()\n",
      "\n",
      "b.func1(a)\n",
      "b.func2(a)"
     ],
     "language": "python",
     "metadata": {},
     "outputs": [
      {
       "output_type": "stream",
       "stream": "stdout",
       "text": [
        "data1 = 99\n",
        "data1 = 99\n"
       ]
      }
     ],
     "prompt_number": 12
    },
    {
     "cell_type": "heading",
     "level": 2,
     "metadata": {},
     "source": [
      "Example 11.13, Page Number 529"
     ]
    },
    {
     "cell_type": "code",
     "collapsed": false,
     "input": [
      "class gamma:\n",
      "    __total = 0            #total object of this classs\n",
      "    \n",
      "    def __init__(self):                 #no-arg constructor\n",
      "        gamma.__total += 1              #add another object\n",
      "        self.__id = gamma.__total       #ID number of this object   and   ID equals to current total\n",
      "        \n",
      "    def __del__(self):                  #destructor\n",
      "        gamma.__total -= 1\n",
      "        print 'Destroyed ID number',self.__id\n",
      "        \n",
      "    def showtotal(self):                #function\n",
      "        print 'Total is',gamma.__total\n",
      "    \n",
      "    def showid(self):                   #function\n",
      "        print 'ID number is',self.__id\n",
      "        \n",
      "        \n",
      "        \n",
      "        \n",
      "g1 = gamma()\n",
      "g1.showtotal()\n",
      "\n",
      "g2 = gamma()\n",
      "g3 = gamma()\n",
      "g1.showtotal()\n",
      "\n",
      "g1.showid()\n",
      "g2.showid()\n",
      "g3.showid()\n",
      "\n",
      "print '-----------end of program-----------'\n",
      "\n",
      "del g3\n",
      "del g2\n",
      "del g1"
     ],
     "language": "python",
     "metadata": {},
     "outputs": [
      {
       "output_type": "stream",
       "stream": "stdout",
       "text": [
        "Total is 1\n",
        "Total is 3\n",
        "ID number is 1\n",
        "ID number is 2\n",
        "ID number is 3\n",
        "-----------end of program-----------\n",
        "Destroyed ID number 3\n",
        "Destroyed ID number 2\n",
        "Destroyed ID number 1\n"
       ]
      }
     ],
     "prompt_number": 13
    },
    {
     "cell_type": "heading",
     "level": 2,
     "metadata": {},
     "source": [
      "Example 11.14, Page Number 533"
     ]
    },
    {
     "cell_type": "code",
     "collapsed": false,
     "input": [
      "class alpha:\n",
      "    def __init__(self,d=0):             #constructor\n",
      "        \n",
      "        if isinstance(d,int):\n",
      "            self.__data = d\n",
      "        else:\n",
      "            self.__data = d.__data\n",
      "        \n",
      "        \n",
      "    def display(self):                 #display data\n",
      "        print self.__data\n",
      "        \n",
      "    def __eq__(self,a):                #overloaded == operator\n",
      "        self.__data = a.__data         #not done automatically\n",
      "        print 'Assignment operator invoked'\n",
      "        \n",
      "        return alpha(self.__data)      #return copy of this alpha\n",
      "    \n",
      "    \n",
      "    \n",
      "    \n",
      "a1 = alpha(37)\n",
      "a2 = alpha()\n",
      "\n",
      "a2 = (a2 == a1)                 #invoke overloaded ==\n",
      "print 'a2 =',;a2.display()      #display a2\n",
      "\n",
      "a3 = alpha(a2)                  #does not invoke ==\n",
      "print 'a3 =',;a3.display()      #display a3"
     ],
     "language": "python",
     "metadata": {},
     "outputs": [
      {
       "output_type": "stream",
       "stream": "stdout",
       "text": [
        "Assignment operator invoked\n",
        "a2 = 37\n",
        "a3 = 37\n"
       ]
      }
     ],
     "prompt_number": 14
    },
    {
     "cell_type": "heading",
     "level": 2,
     "metadata": {},
     "source": [
      "Example 11.15, Page Number 536"
     ]
    },
    {
     "cell_type": "code",
     "collapsed": false,
     "input": [
      "class alpha:\n",
      "    \n",
      "    def __init__(self,d=0):               #constructor\n",
      "        if isinstance(d,int):\n",
      "            self.__data = d\n",
      "        else:\n",
      "            self.__data = d.__data\n",
      "            print 'copy constructor invoked'\n",
      "        \n",
      "    def display(self):                    #display data\n",
      "        print self.__data\n",
      "        \n",
      "    def __eq__(self,a):                   #overloaded == operator\n",
      "        self.__data = a.__data\n",
      "        print 'Assignment operator invoked'\n",
      "        return alpha(self.__data)\n",
      "    \n",
      "    \n",
      "    \n",
      "a1 = alpha(37)\n",
      "a2 = alpha()\n",
      "\n",
      "a2 = (a2 == a1)                #invoke overloaded ==\n",
      "print 'a2 =',;a2.display()     #display a2\n",
      "\n",
      "a3 = alpha(a2)                 #invoke copy constructor\n",
      "print 'a3 =',;a3.display()     #display a3"
     ],
     "language": "python",
     "metadata": {},
     "outputs": [
      {
       "output_type": "stream",
       "stream": "stdout",
       "text": [
        "Assignment operator invoked\n",
        "a2 = 37\n",
        "copy constructor invoked\n",
        "a3 = 37\n"
       ]
      }
     ],
     "prompt_number": 15
    },
    {
     "cell_type": "heading",
     "level": 2,
     "metadata": {},
     "source": [
      "Example 11.16, Page Number 543"
     ]
    },
    {
     "cell_type": "code",
     "collapsed": false,
     "input": [
      "class strCount:                        #keep track of number of unique strings\n",
      "     \n",
      "    def __init__(self,s):              #one - arg constructor \n",
      "        self.__str = s                 #copy argument to string\n",
      "        self.__count = 1               #number of instances and start count at 1\n",
      "        \n",
      "    def __del__(self):                 #destructor \n",
      "        del self.__str                 #delete the string\n",
      "        \n",
      "        \n",
      "class String:                          #string class\n",
      "    \n",
      "    def __init__(self,s=\"\"):           #constructor\n",
      "        \n",
      "        if isinstance(s,String):\n",
      "            self.__psc = s.__psc\n",
      "            self.__psc._strCount__count += 1\n",
      "        else:\n",
      "            self.__psc = strCount(s)\n",
      "            \n",
      "        \n",
      "    def __del__(self):          #destructor\n",
      "        \n",
      "        if self.__psc._strCount__count == 1:         #if we are its last user, delete the string\n",
      "            del self.__psc\n",
      "            \n",
      "        else:\n",
      "            self.__psc._strCount__count -= 1         #otherwise decrement its count\n",
      "            \n",
      "            \n",
      "    def display(self):                            #display the string\n",
      "        print self.__psc._strCount__str,          #print string\n",
      "        print '(addr =',hex(id(self.__psc)),')'   #print address\n",
      "        \n",
      "        \n",
      "    def __eq__(self,s):                           #assign the string\n",
      "        \n",
      "        if self.__psc._strCount__count == 1:      #if we are its last user, delete the string\n",
      "            del self.__psc\n",
      "            \n",
      "        else:\n",
      "            self.__psc._strCount__count -= 1      #otherwise decrement its count\n",
      "            \n",
      "        self.__psc = s.__psc                      #use argument's strCount\n",
      "        self.__psc._strCount__count += 1          #increment its count\n",
      "        \n",
      "        return s\n",
      "        \n",
      "        \n",
      "        \n",
      "s3 = String(\"When the fox preaches, look to your geeses.\")\n",
      "print 's3 =',;s3.display()           #display s3\n",
      "\n",
      "s1 = String()                       #define string\n",
      "s1 = (s1==s3)                       #assign it another string\n",
      "print 's1 =',;s1.display()           #display it\n",
      "\n",
      "s2 = String(s3)                     #initialize with string\n",
      "print 's2 =',;s2.display()           #display it"
     ],
     "language": "python",
     "metadata": {},
     "outputs": [
      {
       "output_type": "stream",
       "stream": "stdout",
       "text": [
        "s3 = When the fox preaches, look to your geeses. (addr = 0x3ac0988L )\n",
        "s1 = When the fox preaches, look to your geeses. (addr = 0x3ac0988L )\n",
        "s2 = When the fox preaches, look to your geeses. (addr = 0x3ac0988L )\n"
       ]
      }
     ],
     "prompt_number": 16
    },
    {
     "cell_type": "heading",
     "level": 2,
     "metadata": {},
     "source": [
      "Example 11.17, Page Number 547"
     ]
    },
    {
     "cell_type": "code",
     "collapsed": false,
     "input": [
      "class where:\n",
      "    __charray = []*10          #copies 10 bytes\n",
      "    \n",
      "    def reveal(self):\n",
      "        print \"my object's address is\",hex(id(self))\n",
      "        \n",
      "        \n",
      "        \n",
      "w1 = where()         #make three objects\n",
      "w2 = where()\n",
      "w3 = where()\n",
      "\n",
      "w1.reveal()          #see where they are\n",
      "w2.reveal()\n",
      "w3.reveal()"
     ],
     "language": "python",
     "metadata": {},
     "outputs": [
      {
       "output_type": "stream",
       "stream": "stdout",
       "text": [
        "my object's address is 0x38ec3c8L\n",
        "my object's address is 0x375a188L\n",
        "my object's address is 0x375a208L\n"
       ]
      }
     ],
     "prompt_number": 17
    },
    {
     "cell_type": "heading",
     "level": 2,
     "metadata": {},
     "source": [
      "Example 11.18, Page Number 548"
     ]
    },
    {
     "cell_type": "code",
     "collapsed": false,
     "input": [
      "class what:\n",
      "    def tester(self):\n",
      "        self.__alpha = 11          #same as alpha = 11\n",
      "        print self.__alpha         #same as print alpha\n",
      "        \n",
      "        \n",
      "w = what()\n",
      "w.tester()"
     ],
     "language": "python",
     "metadata": {},
     "outputs": [
      {
       "output_type": "stream",
       "stream": "stdout",
       "text": [
        "11\n"
       ]
      }
     ],
     "prompt_number": 18
    },
    {
     "cell_type": "heading",
     "level": 2,
     "metadata": {},
     "source": [
      "Example 11.19, Page Number 549"
     ]
    },
    {
     "cell_type": "code",
     "collapsed": false,
     "input": [
      "class alpha:\n",
      "    def __init__(self,d=None):          #constructor\n",
      "        self.__data = d\n",
      "        \n",
      "    def display(self):                  #display data\n",
      "        print self.__data\n",
      "        \n",
      "    def __eq__(self,a):                 #overloaded == operator\n",
      "        self.__data = a.__data          #not done automatically\n",
      "        print 'Assignment operator invoked'\n",
      "        return alpha(self.__data)       #return copy of this alpha\n",
      "    \n",
      "    \n",
      "    \n",
      "a1 = alpha(37)\n",
      "a2 = alpha()\n",
      "a3 = alpha()\n",
      "\n",
      "a3 = a3 == a2 == a1              #invoke overloaded ==, twice\n",
      "print 'a2 =',;a2.display()       #display a2\n",
      "print 'a3 =',;a3.display()       #display a3"
     ],
     "language": "python",
     "metadata": {},
     "outputs": [
      {
       "output_type": "stream",
       "stream": "stdout",
       "text": [
        "Assignment operator invoked\n",
        "Assignment operator invoked\n",
        "a2 = 37\n",
        "a3 = 37\n"
       ]
      }
     ],
     "prompt_number": 19
    },
    {
     "cell_type": "heading",
     "level": 2,
     "metadata": {},
     "source": [
      "Example 11.20, Page Number 550"
     ]
    },
    {
     "cell_type": "code",
     "collapsed": false,
     "input": [
      "class strCount:                    #keep track of number of unique strings\n",
      "    \n",
      "    def __init__(self,s):              #one - arg constructor \n",
      "        self.__str = s                 #copy argument to string\n",
      "        self.__count = 1               #number of instances and start count at 1\n",
      "        \n",
      "    def __del__(self):                 #destructor \n",
      "        del self.__str                 #delete the string\n",
      "        \n",
      "        \n",
      "class String:\n",
      "    \n",
      "    def __init__(self,s=\"\"):           #constructor\n",
      "        \n",
      "        if isinstance(s,String):\n",
      "            print 'COPY CONSTRUCTOR'\n",
      "            self.__psc = s.__psc\n",
      "            self.__psc._strCount__count += 1\n",
      "        else:\n",
      "            self.__psc = strCount(s)\n",
      "        \n",
      "        \n",
      "        \n",
      "    def __del__(self):          #destructor\n",
      "        \n",
      "        if self.__psc._strCount__count == 1:      #if we are its last user, delete the string\n",
      "            del self.__psc\n",
      "            \n",
      "        else:\n",
      "            self.__psc._strCount__count -= 1      #otherwise decrement its count\n",
      "            \n",
      "            \n",
      "            \n",
      "    def display(self):                            #display the string\n",
      "        print self.__psc._strCount__str,          #print string\n",
      "        print '(addr =',hex(id(self.__psc)),')'   #print address\n",
      "        \n",
      "        \n",
      "        \n",
      "    def __eq__(self,s):\n",
      "        print 'ASSIGNMENT'\n",
      "        \n",
      "        if self.__psc._strCount__count == 1:      #if we are its last user, delete the string\n",
      "            del self.__psc\n",
      "            \n",
      "        else:\n",
      "            self.__psc._strCount__count -= 1      #otherwise decrement its count\n",
      "            \n",
      "        self.__psc = s.__psc                      #use argument's strCount\n",
      "        self.__psc._strCount__count += 1          #increment its count\n",
      "        \n",
      "        return self\n",
      "    \n",
      "        \n",
      "        \n",
      "        \n",
      "s3 = String(\"When the fox preaches, look to your geeses.\")\n",
      "print 's3 =',;s3.display()        #display s3\n",
      "\n",
      "s1 = String()                    #define strings\n",
      "s2 = String()\n",
      "\n",
      "s1 = s1 == s2==s3                #assign them\n",
      "\n",
      "print 's1 =',;s1.display()        #display it\n",
      "print 's2 =',;s2.display()"
     ],
     "language": "python",
     "metadata": {},
     "outputs": [
      {
       "output_type": "stream",
       "stream": "stdout",
       "text": [
        "s3 = When the fox preaches, look to your geeses. (addr = 0x3ac0f88L )\n",
        "ASSIGNMENT\n",
        "ASSIGNMENT\n",
        "s1 = When the fox preaches, look to your geeses. (addr = 0x3ac0f88L )\n",
        "s2 = When the fox preaches, look to your geeses. (addr = 0x3ac0f88L )\n"
       ]
      }
     ],
     "prompt_number": 20
    },
    {
     "cell_type": "heading",
     "level": 2,
     "metadata": {},
     "source": [
      "Example 11.21, Page Number 553"
     ]
    },
    {
     "cell_type": "code",
     "collapsed": false,
     "input": [
      "class Base:\n",
      "    def vertFunc(self):           #needed for dynamic cast\n",
      "        pass\n",
      "    \n",
      "class Derv1(Base):\n",
      "    pass\n",
      "\n",
      "class Derv2(Base):\n",
      "    pass\n",
      " \n",
      "    \n",
      "def isDerv1(pUnknown):               #unKnown subclass of base\n",
      "    if isinstance(pUnknown,Derv1):\n",
      "        return True\n",
      "    else:\n",
      "        return False\n",
      "    \n",
      "    \n",
      "    \n",
      "d1 = Derv1()\n",
      "d2 = Derv2()\n",
      "\n",
      "if isDerv1(d1):\n",
      "    print 'd1 is a member of the Derv1 class'\n",
      "else:\n",
      "    print 'd1 is not a member of the Derv1 class'\n",
      "    \n",
      "if isDerv1(d2):\n",
      "    print 'd2 is a member of the Derv1 class'\n",
      "else:\n",
      "    print 'd2 is not a member of the Derv1 class'"
     ],
     "language": "python",
     "metadata": {},
     "outputs": [
      {
       "output_type": "stream",
       "stream": "stdout",
       "text": [
        "d1 is a member of the Derv1 class\n",
        "d2 is not a member of the Derv1 class\n"
       ]
      }
     ],
     "prompt_number": 21
    },
    {
     "cell_type": "heading",
     "level": 2,
     "metadata": {},
     "source": [
      "Example 11.22, Page Number 555"
     ]
    },
    {
     "cell_type": "code",
     "collapsed": false,
     "input": [
      "class Base:\n",
      "    def __init__(self,b=0):\n",
      "        self._ba = b\n",
      "        \n",
      "    def vertFunc(self):           #needed for dynamic cast\n",
      "        pass\n",
      "    \n",
      "    def show(self):\n",
      "        print 'Base: ba =',self._ba\n",
      "        \n",
      "        \n",
      "class Derv(Base):\n",
      "    def __init__(self,b,d):\n",
      "        self._ba = b\n",
      "        self.__da = d\n",
      "        \n",
      "    def show(self):\n",
      "        print 'Derv: ba =',self._ba,'da =',self.__da\n",
      "        \n",
      "        \n",
      "        \n",
      "pBase = Base(10)         #Base class object\n",
      "pDerv = Derv(21,22)      #derv class object\n",
      "\n",
      "pBase.show()             #\"Base: ba=10\"\n",
      "\n",
      "pBase = Derv(31,32)\n",
      "pDerv = pBase\n",
      "pDerv.show()"
     ],
     "language": "python",
     "metadata": {},
     "outputs": [
      {
       "output_type": "stream",
       "stream": "stdout",
       "text": [
        "Base: ba = 10\n",
        "Derv: ba = 31 da = 32\n"
       ]
      }
     ],
     "prompt_number": 22
    },
    {
     "cell_type": "heading",
     "level": 2,
     "metadata": {},
     "source": [
      "Example 11.23, Page Number 556"
     ]
    },
    {
     "cell_type": "code",
     "collapsed": false,
     "input": [
      "class Base:\n",
      "    def vertFunc(self):\n",
      "        pass\n",
      "    \n",
      "class Derv1(Base):\n",
      "    pass\n",
      "\n",
      "class Derv2(Base):\n",
      "    pass\n",
      "\n",
      "\n",
      "def displayName(pB):                    #display name of class\n",
      "    print 'pointer to an object of',\n",
      "                                        #to show from which class this object belongs\n",
      "    if isinstance(pB,Derv1):\n",
      "        print 'Derv1'\n",
      "    if isinstance(pB,Derv2):\n",
      "        print 'Derv2'\n",
      "        \n",
      "        \n",
      "        \n",
      "pBase = Derv1()            #object of Derv1\n",
      "displayName(pBase)\n",
      "        \n",
      "pBase = Derv2()            #object of Derv2\n",
      "displayName(pBase)"
     ],
     "language": "python",
     "metadata": {},
     "outputs": [
      {
       "output_type": "stream",
       "stream": "stdout",
       "text": [
        "pointer to an object of Derv1\n",
        "pointer to an object of Derv2\n"
       ]
      }
     ],
     "prompt_number": 23
    },
    {
     "cell_type": "code",
     "collapsed": false,
     "input": [],
     "language": "python",
     "metadata": {},
     "outputs": []
    }
   ],
   "metadata": {}
  }
 ]
}