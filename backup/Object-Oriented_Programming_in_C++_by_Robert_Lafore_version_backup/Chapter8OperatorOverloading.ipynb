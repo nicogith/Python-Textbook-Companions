{
 "metadata": {
  "name": "",
  "signature": "sha256:e97f28812ffff3c22d6a882dd8878c6179cd59a36325e2b50f6519bcb63c581f"
 },
 "nbformat": 3,
 "nbformat_minor": 0,
 "worksheets": [
  {
   "cells": [
    {
     "cell_type": "heading",
     "level": 1,
     "metadata": {},
     "source": [
      "Chapter 8: Operator Overloading"
     ]
    },
    {
     "cell_type": "heading",
     "level": 2,
     "metadata": {},
     "source": [
      "Example 8.1, Page Number 321"
     ]
    },
    {
     "cell_type": "code",
     "collapsed": false,
     "input": [
      "class Counter:                              \n",
      "    def __init__(self):                   #constructor\n",
      "        self.__count = 0\n",
      "        \n",
      "    def get_count(self):                  #return count\n",
      "        return self.__count\n",
      "    \n",
      "    def __iadd__(self,other):             #increment\n",
      "        self.__count += other\n",
      "        return self\n",
      "        \n",
      "        \n",
      "        \n",
      "c1 = Counter()                            #define and initialize\n",
      "c2 = Counter()\n",
      "\n",
      "print 'c1 =',c1.get_count()               #display\n",
      "print 'c2 =',c2.get_count()\n",
      "\n",
      "c1 += 1                                   #increment c1\n",
      "c2 += 1                                   #increment c2\n",
      "c2 += 1                                   #increment c3\n",
      "\n",
      "print 'c1 =',c1.get_count()               #display again\n",
      "print 'c2 =',c2.get_count()"
     ],
     "language": "python",
     "metadata": {},
     "outputs": [
      {
       "output_type": "stream",
       "stream": "stdout",
       "text": [
        "c1 = 0\n",
        "c2 = 0\n",
        "c1 = 1\n",
        "c2 = 2\n"
       ]
      }
     ],
     "prompt_number": 1
    },
    {
     "cell_type": "heading",
     "level": 2,
     "metadata": {},
     "source": [
      "Example 8.2, Page Number 324"
     ]
    },
    {
     "cell_type": "code",
     "collapsed": false,
     "input": [
      "class Counter:\n",
      "    def __init__(self):                   #constructor\n",
      "        self.count = 0\n",
      "        \n",
      "    def get_count(self):                  #return count\n",
      "        return self.count\n",
      "    \n",
      "    def __iadd__(self,other):             #increment count\n",
      "        \n",
      "        self.count += other               #increment count\n",
      "        temp = Counter()                  #make a temporary Counter\n",
      "        temp.count = self.count           #give it same value as this obj\n",
      "        return temp                       #return the copy\n",
      "        \n",
      "        \n",
      "        \n",
      "c1 = Counter()                            #c1=0, c2=0\n",
      "c2 = Counter()\n",
      "\n",
      "print 'c1 =',c1.get_count()               #display\n",
      "print 'c2 =',c2.get_count()\n",
      "\n",
      "c1 += 1                                   #c1=1\n",
      "c1 += 1                                   #c1=2, c2=2\n",
      "c2 = c1\n",
      " \n",
      "print 'c1 =',c1.get_count()               #display again\n",
      "print 'c2 =',c2.get_count()"
     ],
     "language": "python",
     "metadata": {},
     "outputs": [
      {
       "output_type": "stream",
       "stream": "stdout",
       "text": [
        "c1 = 0\n",
        "c2 = 0\n",
        "c1 = 2\n",
        "c2 = 2\n"
       ]
      }
     ],
     "prompt_number": 2
    },
    {
     "cell_type": "heading",
     "level": 2,
     "metadata": {},
     "source": [
      "Example 8.3, Page Number 325"
     ]
    },
    {
     "cell_type": "code",
     "collapsed": false,
     "input": [
      "class Counter:\n",
      "    def __init__(self,c=0):                #overloaded constructor\n",
      "        self.__count = c\n",
      "        \n",
      "    def get_count(self):                   #return count\n",
      "        return self.__count\n",
      "    \n",
      "    def __iadd__(self,other):              #increment count\n",
      "        \n",
      "        self.__count += other              #increment count, then return \n",
      "        return Counter(self.__count)       #an unnamed temporary object initialized to this count\n",
      "        \n",
      "        \n",
      "        \n",
      "c1 = Counter()                            #c1=0, c2=0\n",
      "c2 = Counter()\n",
      "\n",
      "print 'c1 =',c1.get_count()               #display\n",
      "print 'c2 =',c2.get_count()\n",
      "\n",
      "c1 += 1                                   #c1=1\n",
      "c1 += 1                                   #c1=2, c2=2\n",
      "c2 = c1\n",
      " \n",
      "print 'c1 =',c1.get_count()               #display again\n",
      "print 'c2 =',c2.get_count()"
     ],
     "language": "python",
     "metadata": {},
     "outputs": [
      {
       "output_type": "stream",
       "stream": "stdout",
       "text": [
        "c1 = 0\n",
        "c2 = 0\n",
        "c1 = 2\n",
        "c2 = 2\n"
       ]
      }
     ],
     "prompt_number": 3
    },
    {
     "cell_type": "heading",
     "level": 2,
     "metadata": {},
     "source": [
      "Example 8.4, Page Number 327"
     ]
    },
    {
     "cell_type": "code",
     "collapsed": false,
     "input": [
      "import copy\n",
      "\n",
      "class Counter:\n",
      "    def __init__(self,c=0):                     #constructor \n",
      "        self.__count = c\n",
      "        \n",
      "    def get_count(self):                        #return count\n",
      "        return self.__count\n",
      "    \n",
      "    def __iadd__(self,other):                  #increment count (prefix & postifix both)  ; 'In python no ++ opertor is there'\n",
      "        self.__count += other\n",
      "        return Counter(self.__count)\n",
      "        \n",
      "        \n",
      "        \n",
      "c1 = Counter()                                 #c1=0, c2=0\n",
      "c2 = Counter()\n",
      "\n",
      "print 'c1 =',c1.get_count()                    #display\n",
      "print 'c2 =',c2.get_count()\n",
      "\n",
      "c1 += 1                                        #c1=1\n",
      "c1 += 1                                        #c1=2, c2=2\n",
      "c2 = c1\n",
      "\n",
      "print 'c1 =',c1.get_count()                    #display\n",
      "print 'c2 =',c2.get_count() \n",
      "\n",
      "c2 = copy.deepcopy(c1)\n",
      "c1 += 1                                        #c1=3, c2=3\n",
      "\n",
      "print 'c1 =',c1.get_count()                    #display again\n",
      "print 'c2 =',c2.get_count()"
     ],
     "language": "python",
     "metadata": {},
     "outputs": [
      {
       "output_type": "stream",
       "stream": "stdout",
       "text": [
        "c1 = 0\n",
        "c2 = 0\n",
        "c1 = 2\n",
        "c2 = 2\n",
        "c1 = 3\n",
        "c2 = 2\n"
       ]
      }
     ],
     "prompt_number": 4
    },
    {
     "cell_type": "heading",
     "level": 2,
     "metadata": {},
     "source": [
      "Example 8.5, Page Number 329"
     ]
    },
    {
     "cell_type": "code",
     "collapsed": false,
     "input": [
      "class Distance:                                              #class Distance\n",
      "    def __init__(self,ft=0,inc=0.0):                         #overloaded constructor\n",
      "        self.__feet = ft\n",
      "        self.__inches = inc\n",
      "        \n",
      "    def getdist(self):                                       #get length from user\n",
      "        self.__feet = input(\"Enter feet: \")\n",
      "        self.__inches = input(\"Enter inches: \")\n",
      "        \n",
      "    def showdist(self):                                     #display distance\n",
      "        print self.__feet , '\\' -' , self.__inches , '\\\"'\n",
      "        \n",
      "    def __add__(self,d2):                                   #add 2 distances\n",
      "        f = self.__feet + d2.__feet                         #add the feet\n",
      "        i = self.__inches + d2.__inches                     #add the inches\n",
      "         \n",
      "        if i >= 12.0:                   #if total exceeds 12.0\n",
      "            i -= 12.0                   #decrease inches by 12.0 and\n",
      "            f += 1                      #increase feet by 1\n",
      "            \n",
      "        return Distance(f,i)            #return a temporary Distance initialized to sum\n",
      "\n",
      "    \n",
      "    \n",
      "dist1 = Distance()                      #define distances\n",
      "dist3 = Distance()\n",
      "dist4 = Distance()\n",
      "dist1.getdist()                         #get dist1 from user\n",
      "\n",
      "dist2 = Distance(11,6.25)               #define , initialize dist2\n",
      "\n",
      "dist3 = dist1 + dist2                   #single '+' operator\n",
      "\n",
      "dist4 = dist1 + dist2 + dist3           #multiple '+' operator\n",
      "\n",
      "print '\\ndist1 =',; dist1.showdist()    #display all length\n",
      "print 'dist2 =',;   dist2.showdist()\n",
      "print 'dist3 =',;   dist3.showdist()\n",
      "print 'dist4 =',;   dist4.showdist()"
     ],
     "language": "python",
     "metadata": {},
     "outputs": [
      {
       "name": "stdout",
       "output_type": "stream",
       "stream": "stdout",
       "text": [
        "Enter feet: 10\n"
       ]
      },
      {
       "name": "stdout",
       "output_type": "stream",
       "stream": "stdout",
       "text": [
        "Enter inches: 6.5\n"
       ]
      },
      {
       "output_type": "stream",
       "stream": "stdout",
       "text": [
        "\n",
        "dist1 = 10 ' - 6.5 \"\n",
        "dist2 = 11 ' - 6.25 \"\n",
        "dist3 = 22 ' - 0.75 \"\n",
        "dist4 = 44 ' - 1.5 \"\n"
       ]
      }
     ],
     "prompt_number": 5
    },
    {
     "cell_type": "heading",
     "level": 2,
     "metadata": {},
     "source": [
      "Example 8.6, Page Number 332"
     ]
    },
    {
     "cell_type": "code",
     "collapsed": false,
     "input": [
      "class String:                                    #user - defined string type\n",
      "    __SZ = 80                                    #size of String objects\n",
      "    \n",
      "    def __init__(self,s=\"\"):                     #overloaded constructor\n",
      "        self.__str = s\n",
      "        \n",
      "    def display(self):                           #display string\n",
      "        print self.__str ,\n",
      "        \n",
      "    def __add__(self,ss):                        #add strings\n",
      "        temp = String()                          #make temporary string\n",
      "        \n",
      "        if len(self.__str) + len(ss.__str) < self.__SZ:\n",
      "            temp.__str = self.__str + \" \" + ss.__str              #add this string and arg string to temp string\n",
      "            \n",
      "        else:\n",
      "            print '\\nString overflow'\n",
      "            raise SystemExit \n",
      "            \n",
      "        return temp                              #return temp string\n",
      "     \n",
      "        \n",
      "        \n",
      "s1 = String(\"\\nMerry Christmus!  \")              #intialize the string variables\n",
      "s2 = String(\"Happy new year!\")\n",
      "s3 = String()\n",
      "\n",
      "s1.display()                                     #display strings\n",
      "s2.display()  \n",
      "s3.display()\n",
      "\n",
      "s3 = s1 + s2                                     #add s2 to s1 and assign to s3\n",
      "s3.display()                                     #display s3\n",
      "print"
     ],
     "language": "python",
     "metadata": {},
     "outputs": [
      {
       "output_type": "stream",
       "stream": "stdout",
       "text": [
        "\n",
        "Merry Christmus!   Happy new year!  \n",
        "Merry Christmus!   Happy new year!\n"
       ]
      }
     ],
     "prompt_number": 6
    },
    {
     "cell_type": "heading",
     "level": 2,
     "metadata": {},
     "source": [
      "Example 8.7, Page Number 334"
     ]
    },
    {
     "cell_type": "code",
     "collapsed": false,
     "input": [
      "class Distance:                                                  #class Distance\n",
      "    def __init__(self,ft=0,inc=0.0):                             #overloaded constructor\n",
      "        self.__feet = ft \n",
      "        self.__inches = inc\n",
      "        \n",
      "    def getdist(self):                                           #get length from user\n",
      "        self.__feet = input(\"Enter feet: \")\n",
      "        self.__inches = input(\"Enter inches: \")\n",
      "        \n",
      "    def showdist(self):                                          #display distance\n",
      "        print self.__feet , '\\' -' , self.__inches , '\\\"'\n",
      "        \n",
      "    def __lt__(self,d2):                                         #compare this distance with d2\n",
      "        bf1 = self.__feet + self.__inches/12\n",
      "        bf2 = d2.__feet + d2.__inches/12\n",
      "        \n",
      "        return bf1 < bf2\n",
      "    \n",
      "    \n",
      "\n",
      "dist1 = Distance()                          #define Distance dist1\n",
      "dist1.getdist()                             #get dist1 from user\n",
      "\n",
      "dist2 = Distance(11,6.25)                   #define and initialize dist2\n",
      "\n",
      "print '\\ndist1 =',; dist1.showdist()        #display Distances\n",
      "\n",
      "print 'dist2 =',; dist2.showdist()\n",
      "\n",
      "if dist1 < dist2:                           #overloaded '<' operator\n",
      "    print 'dist1 is less than dist2'\n",
      "else:\n",
      "    print 'dist2 is greater than (or equal to) dist2'"
     ],
     "language": "python",
     "metadata": {},
     "outputs": [
      {
       "name": "stdout",
       "output_type": "stream",
       "stream": "stdout",
       "text": [
        "Enter feet: 5\n"
       ]
      },
      {
       "name": "stdout",
       "output_type": "stream",
       "stream": "stdout",
       "text": [
        "Enter inches: 11.5\n"
       ]
      },
      {
       "output_type": "stream",
       "stream": "stdout",
       "text": [
        "\n",
        "dist1 = 5 ' - 11.5 \"\n",
        "dist2 = 11 ' - 6.25 \"\n",
        "dist1 is less than dist2\n"
       ]
      }
     ],
     "prompt_number": 7
    },
    {
     "cell_type": "heading",
     "level": 2,
     "metadata": {},
     "source": [
      "Example 8.8, Page Number 336"
     ]
    },
    {
     "cell_type": "code",
     "collapsed": false,
     "input": [
      "class String:                                       #user-define String type\n",
      "    __SZ = 80                                       #size of string objects\n",
      "    def __init__(self,s=\"\"):                        #constructor\n",
      "        self.__str = s\n",
      "        \n",
      "    def display(self):                              #display a string\n",
      "        print self.__str ,\n",
      "        \n",
      "    def getstr(self):                               #read a string\n",
      "        self.__str = raw_input()\n",
      "        \n",
      "    def __eq__(self,ss):                            #check for equality\n",
      "        return self.__str == ss.__str\n",
      "    \n",
      "    \n",
      "    \n",
      "s1 = String(\"yes\")\n",
      "s2 = String(\"no\")\n",
      "s3 = String()\n",
      "\n",
      "print \"\\n Enter 'yes' or 'no': \",\n",
      "s3.getstr()                                        #get string from user\n",
      "\n",
      "if s3 == s1:                                       #compare from \"yes\"\n",
      "    print 'You typed yes\\n'\n",
      "elif s3 == s2:                                     #compare from \"no\"\n",
      "    print 'you typed no\\n'\n",
      "else:\n",
      "    print \"you didn't follow instructions\\n\""
     ],
     "language": "python",
     "metadata": {},
     "outputs": [
      {
       "output_type": "stream",
       "stream": "stdout",
       "text": [
        "\n",
        " Enter 'yes' or 'no': "
       ]
      },
      {
       "name": "stdout",
       "output_type": "stream",
       "stream": "stdout",
       "text": [
        "yes\n"
       ]
      },
      {
       "output_type": "stream",
       "stream": "stdout",
       "text": [
        " You typed yes\n",
        "\n"
       ]
      }
     ],
     "prompt_number": 8
    },
    {
     "cell_type": "heading",
     "level": 2,
     "metadata": {},
     "source": [
      "Example 8.9, Page Number 337"
     ]
    },
    {
     "cell_type": "code",
     "collapsed": false,
     "input": [
      "class Distance:                                              #class Distance\n",
      "    def __init__(self,ft=0,inc=0.0):                         #constructor\n",
      "        self.__feet = ft\n",
      "        self.__inches = inc\n",
      "        \n",
      "    def getdist(self):                                       #get length from user\n",
      "        self.__feet = input(\"Enter feet: \")\n",
      "        self.__inches = input(\"Enter inches: \")\n",
      "        \n",
      "    def showdist(self):                                      #display Distance\n",
      "        print self.__feet , '\\' -' , self.__inches , '\\\"'\n",
      "        \n",
      "    def __iadd__(self,d2):                                   #add distance to this one\n",
      "        self.__feet = self.__feet + d2.__feet                #add the feet\n",
      "        self.__inches = self.__inches + d2.__inches          #add the inches\n",
      "        \n",
      "        if self.__inches >= 12.0:                            #if total exceeds 12.0, \n",
      "            self.__inches -= 12.0                            #then decrease inches by 12.0 and\n",
      "            self.__feet += 1                                 #increase feet by 1\n",
      "            \n",
      "        return self\n",
      "\n",
      "    \n",
      "    \n",
      "dist1 = Distance()                       #define dist1\n",
      "dist1.getdist()                          #get dist1 from user\n",
      "print '\\ndist1 =',; dist1.showdist()\n",
      "\n",
      "dist2 = Distance(11,6.25)                #define, initialize dist2\n",
      "print 'dist2 =',; dist2.showdist()\n",
      "\n",
      "dist1 += dist2                           #dist1 = dist1 + dist2\n",
      "\n",
      "print 'After addition,'\n",
      "\n",
      "print 'dist1 =',; dist1.showdist()"
     ],
     "language": "python",
     "metadata": {},
     "outputs": [
      {
       "name": "stdout",
       "output_type": "stream",
       "stream": "stdout",
       "text": [
        "Enter feet: 3\n"
       ]
      },
      {
       "name": "stdout",
       "output_type": "stream",
       "stream": "stdout",
       "text": [
        "Enter inches: 5.75\n"
       ]
      },
      {
       "output_type": "stream",
       "stream": "stdout",
       "text": [
        "\n",
        "dist1 = 3 ' - 5.75 \"\n",
        "dist2 = 11 ' - 6.25 \"\n",
        "After addition,\n",
        "dist1 = 15 ' - 0.0 \"\n"
       ]
      }
     ],
     "prompt_number": 9
    },
    {
     "cell_type": "heading",
     "level": 2,
     "metadata": {},
     "source": [
      "Example 8.10, Page Number 340"
     ]
    },
    {
     "cell_type": "code",
     "collapsed": false,
     "input": [
      "LIMIT = 100\n",
      "\n",
      "class safearay:\n",
      "    __arr = [0 for j in range(LIMIT)]\n",
      "    \n",
      "    def putel(self,n,elvalue):                #set value of element\n",
      "        if n<0 or n>=LIMIT:\n",
      "            print 'Index out of bound'\n",
      "        self.__arr[n] = elvalue\n",
      "        \n",
      "    def getel(self,n):                        #get value of element \n",
      "        if n<0 or n>=LIMIT:\n",
      "            print 'Index out of bound'\n",
      "        return self.__arr[n]\n",
      "    \n",
      "    \n",
      "    \n",
      "sa1 = safearay()\n",
      " \n",
      "for j in range(LIMIT):                        #insert element\n",
      "    sa1.putel(j,j*10)\n",
      "    \n",
      "for j in range(LIMIT):                        #display element\n",
      "    temp = sa1.getel(j)\n",
      "    print 'Element',j,'is',temp"
     ],
     "language": "python",
     "metadata": {},
     "outputs": [
      {
       "output_type": "stream",
       "stream": "stdout",
       "text": [
        "Element 0 is 0\n",
        "Element 1 is 10\n",
        "Element 2 is 20\n",
        "Element 3 is 30\n",
        "Element 4 is 40\n",
        "Element 5 is 50\n",
        "Element 6 is 60\n",
        "Element 7 is 70\n",
        "Element 8 is 80\n",
        "Element 9 is 90\n",
        "Element 10 is 100\n",
        "Element 11 is 110\n",
        "Element 12 is 120\n",
        "Element 13 is 130\n",
        "Element 14 is 140\n",
        "Element 15 is 150\n",
        "Element 16 is 160\n",
        "Element 17 is 170\n",
        "Element 18 is 180\n",
        "Element 19 is 190\n",
        "Element 20 is 200\n",
        "Element 21 is 210\n",
        "Element 22 is 220\n",
        "Element 23 is 230\n",
        "Element 24 is 240\n",
        "Element 25 is 250\n",
        "Element 26 is 260\n",
        "Element 27 is 270\n",
        "Element 28 is 280\n",
        "Element 29 is 290\n",
        "Element 30 is 300\n",
        "Element 31 is 310\n",
        "Element 32 is 320\n",
        "Element 33 is 330\n",
        "Element 34 is 340\n",
        "Element 35 is 350\n",
        "Element 36 is 360\n",
        "Element 37 is 370\n",
        "Element 38 is 380\n",
        "Element 39 is 390\n",
        "Element 40 is 400\n",
        "Element 41 is 410\n",
        "Element 42 is 420\n",
        "Element 43 is 430\n",
        "Element 44 is 440\n",
        "Element 45 is 450\n",
        "Element 46 is 460\n",
        "Element 47 is 470\n",
        "Element 48 is 480\n",
        "Element 49 is 490\n",
        "Element 50 is 500\n",
        "Element 51 is 510\n",
        "Element 52 is 520\n",
        "Element 53 is 530\n",
        "Element 54 is 540\n",
        "Element 55 is 550\n",
        "Element 56 is 560\n",
        "Element 57 is 570\n",
        "Element 58 is 580\n",
        "Element 59 is 590\n",
        "Element 60 is 600\n",
        "Element 61 is 610\n",
        "Element 62 is 620\n",
        "Element 63 is 630\n",
        "Element 64 is 640\n",
        "Element 65 is 650\n",
        "Element 66 is 660\n",
        "Element 67 is 670\n",
        "Element 68 is 680\n",
        "Element 69 is 690\n",
        "Element 70 is 700\n",
        "Element 71 is 710\n",
        "Element 72 is 720\n",
        "Element 73 is 730\n",
        "Element 74 is 740\n",
        "Element 75 is 750\n",
        "Element 76 is 760\n",
        "Element 77 is 770\n",
        "Element 78 is 780\n",
        "Element 79 is 790\n",
        "Element 80 is 800\n",
        "Element 81 is 810\n",
        "Element 82 is 820\n",
        "Element 83 is 830\n",
        "Element 84 is 840\n",
        "Element 85 is 850\n",
        "Element 86 is 860\n",
        "Element 87 is 870\n",
        "Element 88 is 880\n",
        "Element 89 is 890\n",
        "Element 90 is 900\n",
        "Element 91 is 910\n",
        "Element 92 is 920\n",
        "Element 93 is 930\n",
        "Element 94 is 940\n",
        "Element 95 is 950\n",
        "Element 96 is 960\n",
        "Element 97 is 970\n",
        "Element 98 is 980\n",
        "Element 99 is 990\n"
       ]
      }
     ],
     "prompt_number": 10
    },
    {
     "cell_type": "heading",
     "level": 2,
     "metadata": {},
     "source": [
      "Example 8.11, Page Number 341"
     ]
    },
    {
     "cell_type": "code",
     "collapsed": false,
     "input": [
      "LIMIT = 100\n",
      "\n",
      "class safearay:\n",
      "    __arr = [0 for j in range(LIMIT)]\n",
      "    \n",
      "    def access1(self,n,n1):                  #function for set the value in the array \n",
      "        if n<0 or n>=LIMIT:\n",
      "            print 'Index out of bound'\n",
      "        self.__arr[n] = n1\n",
      "        \n",
      "    def access2(self,n):                     #function for return the array\n",
      "        if n<0 or n>=LIMIT:\n",
      "            print 'Index out of bound'\n",
      "        return self.__arr[n]\n",
      "    \n",
      "    \n",
      "    \n",
      "sa1 = safearay()\n",
      "\n",
      "for j in range(LIMIT):                       #insert elements using first function\n",
      "    sa1.access1(j,j*10)\n",
      "    \n",
      "for j in range(LIMIT):                       #display elements using second function\n",
      "    temp = sa1.access2(j)\n",
      "    print 'Element',j,'is',temp"
     ],
     "language": "python",
     "metadata": {},
     "outputs": [
      {
       "output_type": "stream",
       "stream": "stdout",
       "text": [
        "Element 0 is 0\n",
        "Element 1 is 10\n",
        "Element 2 is 20\n",
        "Element 3 is 30\n",
        "Element 4 is 40\n",
        "Element 5 is 50\n",
        "Element 6 is 60\n",
        "Element 7 is 70\n",
        "Element 8 is 80\n",
        "Element 9 is 90\n",
        "Element 10 is 100\n",
        "Element 11 is 110\n",
        "Element 12 is 120\n",
        "Element 13 is 130\n",
        "Element 14 is 140\n",
        "Element 15 is 150\n",
        "Element 16 is 160\n",
        "Element 17 is 170\n",
        "Element 18 is 180\n",
        "Element 19 is 190\n",
        "Element 20 is 200\n",
        "Element 21 is 210\n",
        "Element 22 is 220\n",
        "Element 23 is 230\n",
        "Element 24 is 240\n",
        "Element 25 is 250\n",
        "Element 26 is 260\n",
        "Element 27 is 270\n",
        "Element 28 is 280\n",
        "Element 29 is 290\n",
        "Element 30 is 300\n",
        "Element 31 is 310\n",
        "Element 32 is 320\n",
        "Element 33 is 330\n",
        "Element 34 is 340\n",
        "Element 35 is 350\n",
        "Element 36 is 360\n",
        "Element 37 is 370\n",
        "Element 38 is 380\n",
        "Element 39 is 390\n",
        "Element 40 is 400\n",
        "Element 41 is 410\n",
        "Element 42 is 420\n",
        "Element 43 is 430\n",
        "Element 44 is 440\n",
        "Element 45 is 450\n",
        "Element 46 is 460\n",
        "Element 47 is 470\n",
        "Element 48 is 480\n",
        "Element 49 is 490\n",
        "Element 50 is 500\n",
        "Element 51 is 510\n",
        "Element 52 is 520\n",
        "Element 53 is 530\n",
        "Element 54 is 540\n",
        "Element 55 is 550\n",
        "Element 56 is 560\n",
        "Element 57 is 570\n",
        "Element 58 is 580\n",
        "Element 59 is 590\n",
        "Element 60 is 600\n",
        "Element 61 is 610\n",
        "Element 62 is 620\n",
        "Element 63 is 630\n",
        "Element 64 is 640\n",
        "Element 65 is 650\n",
        "Element 66 is 660\n",
        "Element 67 is 670\n",
        "Element 68 is 680\n",
        "Element 69 is 690\n",
        "Element 70 is 700\n",
        "Element 71 is 710\n",
        "Element 72 is 720\n",
        "Element 73 is 730\n",
        "Element 74 is 740\n",
        "Element 75 is 750\n",
        "Element 76 is 760\n",
        "Element 77 is 770\n",
        "Element 78 is 780\n",
        "Element 79 is 790\n",
        "Element 80 is 800\n",
        "Element 81 is 810\n",
        "Element 82 is 820\n",
        "Element 83 is 830\n",
        "Element 84 is 840\n",
        "Element 85 is 850\n",
        "Element 86 is 860\n",
        "Element 87 is 870\n",
        "Element 88 is 880\n",
        "Element 89 is 890\n",
        "Element 90 is 900\n",
        "Element 91 is 910\n",
        "Element 92 is 920\n",
        "Element 93 is 930\n",
        "Element 94 is 940\n",
        "Element 95 is 950\n",
        "Element 96 is 960\n",
        "Element 97 is 970\n",
        "Element 98 is 980\n",
        "Element 99 is 990\n"
       ]
      }
     ],
     "prompt_number": 11
    },
    {
     "cell_type": "heading",
     "level": 2,
     "metadata": {},
     "source": [
      "Example 8.12, Page Number 343"
     ]
    },
    {
     "cell_type": "code",
     "collapsed": false,
     "input": [
      "LIMIT = 100\n",
      "\n",
      "class safearay:\n",
      "    __arr = [0 for j in range(LIMIT)]\n",
      "    \n",
      "    def op1(self,n,n1):                  #function for set the value in the array \n",
      "        if n<0 or n>=LIMIT:\n",
      "            print 'Index out of bound'\n",
      "        self.__arr[n] = n1\n",
      "        \n",
      "    def op2(self,n):                     #function for return the array\n",
      "        if n<0 or n>=LIMIT:\n",
      "            print 'Index out of bound'\n",
      "        return self.__arr[n]\n",
      "    \n",
      "    \n",
      "    \n",
      "sa1 = safearay()\n",
      "\n",
      "for j in range(LIMIT):                       #insert elements using first function\n",
      "    sa1.op1(j,j*10)\n",
      "    \n",
      "for j in range(LIMIT):                       #display elements using second function\n",
      "    temp = sa1.op2(j)\n",
      "    print 'Element',j,'is',temp"
     ],
     "language": "python",
     "metadata": {},
     "outputs": [
      {
       "output_type": "stream",
       "stream": "stdout",
       "text": [
        "Element 0 is 0\n",
        "Element 1 is 10\n",
        "Element 2 is 20\n",
        "Element 3 is 30\n",
        "Element 4 is 40\n",
        "Element 5 is 50\n",
        "Element 6 is 60\n",
        "Element 7 is 70\n",
        "Element 8 is 80\n",
        "Element 9 is 90\n",
        "Element 10 is 100\n",
        "Element 11 is 110\n",
        "Element 12 is 120\n",
        "Element 13 is 130\n",
        "Element 14 is 140\n",
        "Element 15 is 150\n",
        "Element 16 is 160\n",
        "Element 17 is 170\n",
        "Element 18 is 180\n",
        "Element 19 is 190\n",
        "Element 20 is 200\n",
        "Element 21 is 210\n",
        "Element 22 is 220\n",
        "Element 23 is 230\n",
        "Element 24 is 240\n",
        "Element 25 is 250\n",
        "Element 26 is 260\n",
        "Element 27 is 270\n",
        "Element 28 is 280\n",
        "Element 29 is 290\n",
        "Element 30 is 300\n",
        "Element 31 is 310\n",
        "Element 32 is 320\n",
        "Element 33 is 330\n",
        "Element 34 is 340\n",
        "Element 35 is 350\n",
        "Element 36 is 360\n",
        "Element 37 is 370\n",
        "Element 38 is 380\n",
        "Element 39 is 390\n",
        "Element 40 is 400\n",
        "Element 41 is 410\n",
        "Element 42 is 420\n",
        "Element 43 is 430\n",
        "Element 44 is 440\n",
        "Element 45 is 450\n",
        "Element 46 is 460\n",
        "Element 47 is 470\n",
        "Element 48 is 480\n",
        "Element 49 is 490\n",
        "Element 50 is 500\n",
        "Element 51 is 510\n",
        "Element 52 is 520\n",
        "Element 53 is 530\n",
        "Element 54 is 540\n",
        "Element 55 is 550\n",
        "Element 56 is 560\n",
        "Element 57 is 570\n",
        "Element 58 is 580\n",
        "Element 59 is 590\n",
        "Element 60 is 600\n",
        "Element 61 is 610\n",
        "Element 62 is 620\n",
        "Element 63 is 630\n",
        "Element 64 is 640\n",
        "Element 65 is 650\n",
        "Element 66 is 660\n",
        "Element 67 is 670\n",
        "Element 68 is 680\n",
        "Element 69 is 690\n",
        "Element 70 is 700\n",
        "Element 71 is 710\n",
        "Element 72 is 720\n",
        "Element 73 is 730\n",
        "Element 74 is 740\n",
        "Element 75 is 750\n",
        "Element 76 is 760\n",
        "Element 77 is 770\n",
        "Element 78 is 780\n",
        "Element 79 is 790\n",
        "Element 80 is 800\n",
        "Element 81 is 810\n",
        "Element 82 is 820\n",
        "Element 83 is 830\n",
        "Element 84 is 840\n",
        "Element 85 is 850\n",
        "Element 86 is 860\n",
        "Element 87 is 870\n",
        "Element 88 is 880\n",
        "Element 89 is 890\n",
        "Element 90 is 900\n",
        "Element 91 is 910\n",
        "Element 92 is 920\n",
        "Element 93 is 930\n",
        "Element 94 is 940\n",
        "Element 95 is 950\n",
        "Element 96 is 960\n",
        "Element 97 is 970\n",
        "Element 98 is 980\n",
        "Element 99 is 990\n"
       ]
      }
     ],
     "prompt_number": 12
    },
    {
     "cell_type": "heading",
     "level": 2,
     "metadata": {},
     "source": [
      "Example 8.13, Page Number 345"
     ]
    },
    {
     "cell_type": "code",
     "collapsed": false,
     "input": [
      "class Distance:                                              #class Distance\n",
      "    \n",
      "    def __init__(self,meters=None,ft=0,inc=0.0):             #constructor\n",
      "        \n",
      "        if isinstance(meters,float):                         #one argument \n",
      "            self.__MTF = 3.280833                            #convert meters to Distance,\n",
      "            fltfeet = self.__MTF*meters                      #convert to float feet\n",
      "            self.__feet = int(fltfeet)                       #feet is integer part\n",
      "            self.__inches = 12*(fltfeet-self.__feet)         #inches is what's left\n",
      "            \n",
      "        else:                                                #three arguments (first should be None)\n",
      "            self.__MTF = 3.280833\n",
      "            self.__feet = ft\n",
      "            self.__inches = inc\n",
      "        \n",
      "        \n",
      "    def getdist(self):                                       #get length from user\n",
      "        self.__feet = input(\"Enter feet: \")\n",
      "        self.__inches = input(\"Enter inches: \")\n",
      "        \n",
      "    def showdist(self):                                      #display Distance\n",
      "        print self.__feet , '\\' -' , self.__inches , '\\\"'\n",
      "        \n",
      "    def co(self):                               #conversion function, converts Distance to meters\n",
      "        fracfeet = self.__inches/12             #convert the inches\n",
      "        fracfeet += float(self.__feet)          #add the feet\n",
      "        return fracfeet/self.__MTF              #convert to meters\n",
      "    \n",
      "    \n",
      "    \n",
      "dist1 = Distance(2.35)                          #uses 1-arg constructor to convert meters to Distance\n",
      "print 'dist1 =',; dist1.showdist()\n",
      "\n",
      "mtrs = dist1.co()                               #uses conversion function for Distance to meters\n",
      "print 'dist1 =',mtrs,'meters'\n",
      "   \n",
      "dist2 = Distance(None,5,10.25)                  #uses 2-arg constructor\n",
      "mtrs = dist2.co()                               #also uses conversion function\n",
      "print 'dist2 =',mtrs,'meters'"
     ],
     "language": "python",
     "metadata": {},
     "outputs": [
      {
       "output_type": "stream",
       "stream": "stdout",
       "text": [
        "dist1 = 7 ' - 8.5194906 \"\n",
        "dist1 = 2.35 meters\n",
        "dist2 = 1.78435375 meters\n"
       ]
      }
     ],
     "prompt_number": 13
    },
    {
     "cell_type": "heading",
     "level": 2,
     "metadata": {},
     "source": [
      "Example 8.14, Page Number 348"
     ]
    },
    {
     "cell_type": "code",
     "collapsed": false,
     "input": [
      "class String:                            #user-defined string type\n",
      "    __SZ = 80                            #size of all String type\n",
      "    \n",
      "    def __init__(self,s = None):         #constructor with zero or one argument\n",
      "        self.__str = s\n",
      "        \n",
      "    def display(self):                   #display the String\n",
      "        print self.__str,\n",
      "    \n",
      "    def char(self):                      #conversion function\n",
      "        return self.__str\n",
      "    \n",
      "    \n",
      "    \n",
      "xstr = \"Joyeux Noel! \"\n",
      "\n",
      "s1 = String(xstr)                       #use 1-arg constructor\n",
      "s1.display()                            #display string\n",
      "\n",
      "s2 = String(\"Bonne Annee!\")             #use 1-arg constructor to initialize string\n",
      "print s2.char()                         #uses conversion fuction"
     ],
     "language": "python",
     "metadata": {},
     "outputs": [
      {
       "output_type": "stream",
       "stream": "stdout",
       "text": [
        "Joyeux Noel!  Bonne Annee!\n"
       ]
      }
     ],
     "prompt_number": 14
    },
    {
     "cell_type": "heading",
     "level": 2,
     "metadata": {},
     "source": [
      "Example 8.15, Page Number 351"
     ]
    },
    {
     "cell_type": "code",
     "collapsed": false,
     "input": [
      "class time12:\n",
      "    \n",
      "    def __init__(self,ap=True,h=0,m=0):              #constructor\n",
      "        self.__pm = ap                               #true = pm, false = am\n",
      "        self.__hrs = h                               # 1 to 12\n",
      "        self.__mins = m                              # 0 to 59\n",
      "        \n",
      "    def display(self):                               #format: 11:59 p.m.\n",
      "        print self.__hrs,':',\n",
      "        \n",
      "        if self.__mins < 10:\n",
      "            print '0',                               #extra zero for \"01\"\n",
      "            \n",
      "        print self.__mins,\n",
      "        \n",
      "        if self.__pm:\n",
      "            print 'p.m.'\n",
      "        else:\n",
      "            print 'a.m.'\n",
      "            \n",
      "            \n",
      "            \n",
      "class time24:\n",
      "    \n",
      "    def __init__(self,h=0,m=0,s=0):                  #constructor\n",
      "        self.__hours = h                             # 0 to 23\n",
      "        self.__minutes = m                           # 0 to 59\n",
      "        self.__seconds = s                           # 0 to 59\n",
      "         \n",
      "    def display(self):                               #format: 23:15:01\n",
      "        if self.__hours < 10:\n",
      "            print '0',\n",
      "        print self.__hours,':',\n",
      "        \n",
      "        if self.__minutes < 10:\n",
      "            print '0',\n",
      "        print self.__minutes,':',\n",
      "        \n",
      "        if self.__seconds < 10:\n",
      "            print '0',\n",
      "        print self.__seconds\n",
      "        \n",
      "        \n",
      "    def time_12(self):                               #conversion from 24-hour time to 12-hour time\n",
      "        \n",
      "        hrs24 = self.__hours\n",
      "        if self.__hours < 12:                        #find am/pm\n",
      "            pm = False\n",
      "        else:\n",
      "            pm = True\n",
      "            \n",
      "        if self.__seconds < 30:                      #round secs\n",
      "            roundMins = self.__minutes\n",
      "        else:\n",
      "            roundMins = self.__minutes + 1\n",
      "            \n",
      "        if roundMins == 60:                          #carry mins?\n",
      "            roundMins = 0\n",
      "            hrs24 += 1\n",
      "            if hrs24 == 12 or hrs24 == 24:           #carry hrs?\n",
      "                if pm == True:                       #toggle am/pm\n",
      "                    pm = False\n",
      "                else:\n",
      "                    pm = True\n",
      "        \n",
      "        if hrs24 < 13:\n",
      "            hrs12 = hrs24\n",
      "        else:\n",
      "            hrs12 = hrs24-12\n",
      "            \n",
      "        if hrs12 == 0:                               # 00 is 12 a.m.\n",
      "            hrs12 = 12\n",
      "            pm = False\n",
      "            \n",
      "        return time12(pm,hrs12,roundMins)\n",
      "    \n",
      "    \n",
      "    \n",
      "while True:\n",
      "    \n",
      "    print '\\nEnter 24-hour time: '\n",
      "    h = input(\"   Hours (0 to 23): \")                #get 24-hr time from user\n",
      "    \n",
      "    if h > 23:                                       #quit if hours > 23\n",
      "        break\n",
      "        \n",
      "    m = input(\"   Minutes: \")  \n",
      "    s = input(\"   Seconds: \")\n",
      "        \n",
      "    t24 = time24(h,m,s)                          #make a time24\n",
      "    print 'You entered:',\n",
      "    t24.display()                                #display the time24\n",
      "         \n",
      "    t12 = t24.time_12()                          #convert time24 to time12\n",
      "        \n",
      "    print '12-hour time:',                       #display equivalent time12\n",
      "    t12.display()"
     ],
     "language": "python",
     "metadata": {},
     "outputs": [
      {
       "output_type": "stream",
       "stream": "stdout",
       "text": [
        "\n",
        "Enter 24-hour time: \n"
       ]
      },
      {
       "name": "stdout",
       "output_type": "stream",
       "stream": "stdout",
       "text": [
        "   Hours (0 to 23): 17\n"
       ]
      },
      {
       "name": "stdout",
       "output_type": "stream",
       "stream": "stdout",
       "text": [
        "   Minutes: 59\n"
       ]
      },
      {
       "name": "stdout",
       "output_type": "stream",
       "stream": "stdout",
       "text": [
        "   Seconds: 45\n"
       ]
      },
      {
       "output_type": "stream",
       "stream": "stdout",
       "text": [
        "You entered: 17 : 59 : 45\n",
        "12-hour time: 6 : 0 0 p.m.\n",
        "\n",
        "Enter 24-hour time: \n"
       ]
      },
      {
       "name": "stdout",
       "output_type": "stream",
       "stream": "stdout",
       "text": [
        "   Hours (0 to 23): 24\n"
       ]
      }
     ],
     "prompt_number": 15
    },
    {
     "cell_type": "heading",
     "level": 2,
     "metadata": {},
     "source": [
      "Example 8.16, Page Number 354"
     ]
    },
    {
     "cell_type": "code",
     "collapsed": false,
     "input": [
      "class time24:\n",
      "    \n",
      "    def __init__(self,h=0,m=0,s=0):                  #constructor\n",
      "        self.__hours = h                             # 0 to 23\n",
      "        self.__minutes = m                           # 0 to 59\n",
      "        self.__seconds = s                           # 0 to 59\n",
      "         \n",
      "    def display(self):                               #format: 23:15:01\n",
      "        if self.__hours < 10:\n",
      "            print '0',\n",
      "        print self.__hours,':',\n",
      "        \n",
      "        if self.__minutes < 10:\n",
      "            print '0',\n",
      "        print self.__minutes,':',\n",
      "        \n",
      "        if self.__seconds < 10:\n",
      "            print '0',\n",
      "        print self.__seconds\n",
      "        \n",
      "    def getHrs(self):\n",
      "        return self.__hours\n",
      "    def getMins(self):\n",
      "        return self.__minutes\n",
      "    def getSecs(self):\n",
      "        return self.__seconds\n",
      "    \n",
      "    \n",
      "class time12:\n",
      "    \n",
      "    def __init__(self,ap=True,h=0,m=0):              #constructor\n",
      "        \n",
      "        if isinstance(ap,bool):\n",
      "            self.__pm = ap                               #true = pm, false = am\n",
      "            self.__hrs = h                               # 1 to 12\n",
      "            self.__mins = m                              # 0 to 59\n",
      "            \n",
      "        else:                                           #conversion from 24-hour time to 12-hour time\n",
      "            t24 = ap\n",
      "            \n",
      "            hrs24 = t24.getHrs()\n",
      "            \n",
      "            if t24.getHrs() < 12:                        #find am/pm\n",
      "                self.__pm = False\n",
      "            else:\n",
      "                self.__pm = True\n",
      "            \n",
      "            if t24.getSecs() < 30:                      #round secs\n",
      "                self.__mins = t24.getMins()\n",
      "            else:\n",
      "                self.__mins = t24.getMins() + 1\n",
      "            \n",
      "            if self.__mins == 60:                          #carry mins?\n",
      "                self.__mins = 0\n",
      "                hrs24 += 1\n",
      "                \n",
      "                if hrs24 == 12 or hrs24 == 24:           #carry hrs?\n",
      "                    if self.__pm == True:                       #toggle am/pm\n",
      "                        self.__pm = False\n",
      "                    else:\n",
      "                        self.__pm = True\n",
      "        \n",
      "            if hrs24 < 13:\n",
      "                self.__hrs = hrs24\n",
      "            else:\n",
      "                self.__hrs = hrs24-12\n",
      "            \n",
      "            if self.__hrs == 0:                               # 00 is 12 a.m.\n",
      "                self.__hrs = 12\n",
      "                self.__pm = False\n",
      "        \n",
      "    def display(self):                               #format: 11:59 p.m.\n",
      "        print self.__hrs,':',\n",
      "        \n",
      "        if self.__mins < 10:\n",
      "            print '0',                               #extra zero for \"01\"\n",
      "        print self.__mins,\n",
      "        \n",
      "        if self.__pm:\n",
      "            print 'p.m.'\n",
      "        else:\n",
      "            print 'a.m.'\n",
      "            \n",
      "            \n",
      "            \n",
      "while True:\n",
      "    \n",
      "    print '\\nEnter 24-hour time: '\n",
      "    h = input(\"   Hours (0 to 23): \")                #get 24-hr time from user\n",
      "    \n",
      "    if h > 23:                                       #quit if hours > 23\n",
      "        break\n",
      "        \n",
      "    m = input(\"   Minutes: \")  \n",
      "    s = input(\"   Seconds: \")\n",
      "        \n",
      "    t24 = time24(h,m,s)                          #make a time24\n",
      "    print 'You entered:',\n",
      "    t24.display()                                #display the time24\n",
      "         \n",
      "    t12 = time12(t24)                          #convert time24 to time12\n",
      "        \n",
      "    print '12-hour time:',                       #display equivalent time12\n",
      "    t12.display()"
     ],
     "language": "python",
     "metadata": {},
     "outputs": [
      {
       "output_type": "stream",
       "stream": "stdout",
       "text": [
        "\n",
        "Enter 24-hour time: \n"
       ]
      },
      {
       "name": "stdout",
       "output_type": "stream",
       "stream": "stdout",
       "text": [
        "   Hours (0 to 23): 17\n"
       ]
      },
      {
       "name": "stdout",
       "output_type": "stream",
       "stream": "stdout",
       "text": [
        "   Minutes: 59\n"
       ]
      },
      {
       "name": "stdout",
       "output_type": "stream",
       "stream": "stdout",
       "text": [
        "   Seconds: 45\n"
       ]
      },
      {
       "output_type": "stream",
       "stream": "stdout",
       "text": [
        "You entered: 17 : 59 : 45\n",
        "12-hour time: 6 : 0 0 p.m.\n",
        "\n",
        "Enter 24-hour time: \n"
       ]
      },
      {
       "name": "stdout",
       "output_type": "stream",
       "stream": "stdout",
       "text": [
        "   Hours (0 to 23): 25\n"
       ]
      }
     ],
     "prompt_number": 16
    },
    {
     "cell_type": "heading",
     "level": 2,
     "metadata": {},
     "source": [
      "Example 8.17, Page Number 360"
     ]
    },
    {
     "cell_type": "code",
     "collapsed": false,
     "input": [
      "class Distance:                                              #class Distance\n",
      "    \n",
      "    def __init__(self,meters=None,ft=0,inc=0.0):             #constructor\n",
      "        \n",
      "        if isinstance(meters,float):                         #one argument \n",
      "            self.__MTF = 3.280833                            #convert meters to Distance,\n",
      "            fltfeet = self.__MTF*meters                      #convert to float feet\n",
      "            self.__feet = int(fltfeet)                       #feet is integer part\n",
      "            self.__inches = 12*(fltfeet-self.__feet)         #inches is what's left\n",
      "            \n",
      "        else:                                                #three arguments (first should be None)\n",
      "            self.__MTF = 3.280833\n",
      "            self.__feet = ft\n",
      "            self.__inches = inc\n",
      "            \n",
      "            \n",
      "    def showdist(self):                                      #display Distance\n",
      "        print self.__feet , '\\' -' , self.__inches , '\\\"'\n",
      "        \n",
      "        \n",
      "        \n",
      "def fancyDist(d):\n",
      "    print '(in feet and inches) =',\n",
      "    d.showdist()\n",
      "    \n",
      "    \n",
      "\n",
      "dist1 = Distance(2.35)\n",
      "print 'dist1 =',; dist1.showdist()\n",
      "\n",
      "mtrs = 3.0\n",
      "print 'dist1'"
     ],
     "language": "python",
     "metadata": {},
     "outputs": [
      {
       "output_type": "stream",
       "stream": "stdout",
       "text": [
        "dist1 = 7 ' - 8.5194906 \"\n",
        "dist1\n"
       ]
      }
     ],
     "prompt_number": 17
    },
    {
     "cell_type": "heading",
     "level": 2,
     "metadata": {},
     "source": [
      "Example 8.18, Page Number 363"
     ]
    },
    {
     "cell_type": "code",
     "collapsed": false,
     "input": [
      "class scrollbar:\n",
      "    \n",
      "    def __init__(self,sz,own):               #constructor\n",
      "        self.__size = sz\n",
      "        self.__owner = own\n",
      "        \n",
      "    def setSize(self,sz):                    #change size\n",
      "        self.__size = sz\n",
      "        \n",
      "    def setOwner(self,own):                  #change owner\n",
      "        self.__owner = own\n",
      "        \n",
      "    def getSize(self):                       #returns size\n",
      "        return self.__size\n",
      "    \n",
      "    def getOwner(self):                      #returns owner\n",
      "        return self.__owner\n",
      "    \n",
      "    \n",
      "    \n",
      "sbar = scrollbar(60,\"Window1\")\n",
      "\n",
      "sbar.setOwner(\"Window2\")\n",
      "\n",
      "print sbar.getSize(),', ',sbar.getOwner()"
     ],
     "language": "python",
     "metadata": {},
     "outputs": [
      {
       "output_type": "stream",
       "stream": "stdout",
       "text": [
        "60 ,  Window2\n"
       ]
      }
     ],
     "prompt_number": 18
    },
    {
     "cell_type": "code",
     "collapsed": false,
     "input": [],
     "language": "python",
     "metadata": {},
     "outputs": []
    }
   ],
   "metadata": {}
  }
 ]
}