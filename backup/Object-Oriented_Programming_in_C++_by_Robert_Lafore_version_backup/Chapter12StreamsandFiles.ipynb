{
 "metadata": {
  "name": "",
  "signature": "sha256:568f6285e8843e18804f4f5d950104746e10133535c613cf28a00f18dc9d570b"
 },
 "nbformat": 3,
 "nbformat_minor": 0,
 "worksheets": [
  {
   "cells": [
    {
     "cell_type": "heading",
     "level": 1,
     "metadata": {},
     "source": [
      "Chapter 12: Streams and Files"
     ]
    },
    {
     "cell_type": "heading",
     "level": 2,
     "metadata": {},
     "source": [
      "Example 12.1, Page Number 581"
     ]
    },
    {
     "cell_type": "code",
     "collapsed": false,
     "input": [
      "def isFeet(str):             #return true if the string is a correct feet value\n",
      "    \n",
      "    slen = len(str)          #get length\n",
      "    \n",
      "    if slen==0 or slen>5:    #if no input, or too long \n",
      "        return False         #not an int\n",
      "    \n",
      "    \n",
      "    for j in range(slen):    #check each character\n",
      "        \n",
      "        if (str[j] < '0' or str[j] > '9' ) and str[j] != '-':       #if not digit or minus\n",
      "            return False     #string is not correct feet\n",
      "        \n",
      "        \n",
      "    n = float(str)           #convert to float\n",
      "    \n",
      "    if(n<-999.0 or n>999.0):     #is it out of range\n",
      "        return False             #if so, not correct feet\n",
      "    \n",
      "    return True             #it is correct feet\n",
      "\n",
      "\n",
      "\n",
      "class Distance:                      #Distance class\n",
      "    \n",
      "    def __init__(self,ft=0,inc=0):   #constructor\n",
      "        self.__feet = ft\n",
      "        self.__inches = inc\n",
      "        \n",
      "    def showdist(self):              #display distance\n",
      "        print self.__feet , '\\' -' , self.__inches , '\\\"'\n",
      "    \n",
      "    \n",
      "    def getdist(self):               #get length from user\n",
      "        \n",
      "        while True:\n",
      "            self.__feet = raw_input('Enter feet:')       #it will not skip white space\n",
      "        \n",
      "            if(isFeet(self.__feet)):              #is it a correct feet value?\n",
      "                \n",
      "                self.__feet.replace(' ','')       #eat white spaces\n",
      "                self.__feet = int(self.__feet)    #convert to integer\n",
      "                break;                            #break out of 'while'\n",
      "                \n",
      "            print 'Feet must be an integer less than 1000'\n",
      "            \n",
      "            \n",
      "        while True:                 #cycle untill inches are right\n",
      "            \n",
      "            self.__inches = input('Enter inches:')           #get inches and do not skip white space\n",
      "            \n",
      "            if(self.__inches<12.0 and self.__inches>0.0):\n",
      "                break;\n",
      "            \n",
      "            if(self.__inches>=12.0 or self.__inches<0.0):\n",
      "                print 'Inches must be between 0.0 and 11.99'\n",
      "            print 'Incorrect inches input'                \n",
      "        \n",
      "        \n",
      "        \n",
      "d = Distance()        #make a distance object\n",
      "\n",
      "while True:\n",
      "    d.getdist()       #get its value from user\n",
      "    \n",
      "    print 'Distance =',;d.showdist()           #display it\n",
      "    \n",
      "    ans = raw_input(\"Do another (y/n)? \")\n",
      "    \n",
      "    if ans == 'n':       #cycle untill 'n'\n",
      "        break"
     ],
     "language": "python",
     "metadata": {},
     "outputs": [
      {
       "name": "stdout",
       "output_type": "stream",
       "stream": "stdout",
       "text": [
        "Enter feet:1 2 3\n"
       ]
      },
      {
       "output_type": "stream",
       "stream": "stdout",
       "text": [
        "Feet must be an integer less than 1000\n"
       ]
      },
      {
       "name": "stdout",
       "output_type": "stream",
       "stream": "stdout",
       "text": [
        "Enter feet:9999\n"
       ]
      },
      {
       "output_type": "stream",
       "stream": "stdout",
       "text": [
        "Feet must be an integer less than 1000\n"
       ]
      },
      {
       "name": "stdout",
       "output_type": "stream",
       "stream": "stdout",
       "text": [
        "Enter feet:99\n"
       ]
      },
      {
       "name": "stdout",
       "output_type": "stream",
       "stream": "stdout",
       "text": [
        "Enter inches:14\n"
       ]
      },
      {
       "output_type": "stream",
       "stream": "stdout",
       "text": [
        "Inches must be between 0.0 and 11.99\n",
        "Incorrect inches input\n"
       ]
      },
      {
       "name": "stdout",
       "output_type": "stream",
       "stream": "stdout",
       "text": [
        "Enter inches:11\n"
       ]
      },
      {
       "output_type": "stream",
       "stream": "stdout",
       "text": [
        "Distance = 99 ' - 11 \"\n"
       ]
      },
      {
       "name": "stdout",
       "output_type": "stream",
       "stream": "stdout",
       "text": [
        "Do another (y/n)? y\n"
       ]
      },
      {
       "name": "stdout",
       "output_type": "stream",
       "stream": "stdout",
       "text": [
        "Enter feet:-98\n"
       ]
      },
      {
       "name": "stdout",
       "output_type": "stream",
       "stream": "stdout",
       "text": [
        "Enter inches:12\n"
       ]
      },
      {
       "output_type": "stream",
       "stream": "stdout",
       "text": [
        "Inches must be between 0.0 and 11.99\n",
        "Incorrect inches input\n"
       ]
      },
      {
       "name": "stdout",
       "output_type": "stream",
       "stream": "stdout",
       "text": [
        "Enter inches:-98\n"
       ]
      },
      {
       "output_type": "stream",
       "stream": "stdout",
       "text": [
        "Inches must be between 0.0 and 11.99\n",
        "Incorrect inches input\n"
       ]
      },
      {
       "name": "stdout",
       "output_type": "stream",
       "stream": "stdout",
       "text": [
        "Enter inches:11\n"
       ]
      },
      {
       "output_type": "stream",
       "stream": "stdout",
       "text": [
        "Distance = -98 ' - 11 \"\n"
       ]
      },
      {
       "name": "stdout",
       "output_type": "stream",
       "stream": "stdout",
       "text": [
        "Do another (y/n)? n\n"
       ]
      }
     ],
     "prompt_number": 1
    },
    {
     "cell_type": "heading",
     "level": 2,
     "metadata": {},
     "source": [
      "Example 12.2, Page Number 584"
     ]
    },
    {
     "cell_type": "code",
     "collapsed": false,
     "input": [
      "ch = \"x\"\n",
      "str1 = \"Kafka\"           #strings without white spaces\n",
      "str2 = \"Proust\"\n",
      "\n",
      "outfile=open(\"fdata.txt\",'w')      #open a file \n",
      "\n",
      "outfile.write(ch)         #insert (write) data\n",
      "outfile.write(\"77\")\n",
      "outfile.write(\"6.02\")\n",
      "outfile.write(' ')        #needed space between numbers and string\n",
      "outfile.write(str1)\n",
      "outfile.write(' ')        #needed space between strings\n",
      "outfile.write(str2)\n",
      "\n",
      "print 'File written'\n",
      "outfile.close()"
     ],
     "language": "python",
     "metadata": {},
     "outputs": [
      {
       "output_type": "stream",
       "stream": "stdout",
       "text": [
        "File written\n"
       ]
      }
     ],
     "prompt_number": 2
    },
    {
     "cell_type": "heading",
     "level": 2,
     "metadata": {},
     "source": [
      "Example 12.3, Page Number 585"
     ]
    },
    {
     "cell_type": "code",
     "collapsed": false,
     "input": [
      "infile = open(\"fdata.txt\",'r')    #open the file for reading\n",
      "\n",
      "ch = infile.read(1)               #extract (read) data from it\n",
      "j = infile.read(2)\n",
      "d = infile.read(5)\n",
      "str1 = infile.read(6)\n",
      "str2 = infile.read()\n",
      "\n",
      "print ch,\"\\n\",j,\"\\n\",d,\"\\n\",str1,\"\\n\",str2,\"\\n\",        #display the data"
     ],
     "language": "python",
     "metadata": {},
     "outputs": [
      {
       "output_type": "stream",
       "stream": "stdout",
       "text": [
        "x \n",
        "77 \n",
        "6.02  \n",
        "Kafka  \n",
        "Proust \n"
       ]
      }
     ],
     "prompt_number": 3
    },
    {
     "cell_type": "heading",
     "level": 2,
     "metadata": {},
     "source": [
      "Example 12.4, Page Number 586"
     ]
    },
    {
     "cell_type": "code",
     "collapsed": false,
     "input": [
      "outfile = open(\"TEST.TXT\",'w')         #create a file for output\n",
      "\n",
      "#send text to file\n",
      "outfile.write(\"I fear thee, ancient Marner!\\n\")             \n",
      "outfile.write(\"I fear thy skinny hand\\n\")\n",
      "outfile.write(\"And thou art long, and lank, and brown,\\n\")\n",
      "outfile.write(\"As is the ribbed sea sand.\\n\")\n",
      "\n",
      "outfile.close()         #close the file"
     ],
     "language": "python",
     "metadata": {},
     "outputs": [],
     "prompt_number": 4
    },
    {
     "cell_type": "heading",
     "level": 2,
     "metadata": {},
     "source": [
      "Example 12.5, Page Number 587"
     ]
    },
    {
     "cell_type": "code",
     "collapsed": false,
     "input": [
      "MAX = 80                   #size of buffer\n",
      "buffer = []*MAX            #character buffer\n",
      "\n",
      "infile = open(\"TEST.TXT\",'r')        #open a file to read\n",
      "\n",
      "buffer = infile.readline()           #read one line from the file\n",
      "\n",
      "while buffer:                        #untill buffer has some data in it or untill end-of-file\n",
      "    print buffer,                    #display buffer\n",
      "    buffer = infile.readline()       #read a line of text\n",
      "    \n",
      "infile.close()          #close file"
     ],
     "language": "python",
     "metadata": {},
     "outputs": [
      {
       "output_type": "stream",
       "stream": "stdout",
       "text": [
        "I fear thee, ancient Marner!\n",
        "I fear thy skinny hand\n",
        "And thou art long, and lank, and brown,\n",
        "As is the ribbed sea sand.\n"
       ]
      }
     ],
     "prompt_number": 5
    },
    {
     "cell_type": "heading",
     "level": 2,
     "metadata": {},
     "source": [
      "Example 12.6, Page Number 588"
     ]
    },
    {
     "cell_type": "code",
     "collapsed": false,
     "input": [
      "str = \"Time is a great teache, but unfortunately \" + \"it kills all its puplies.  Berlioz\"\n",
      "\n",
      "outfile = open(\"Test.txt\",\"w\")          #create file for output\n",
      "\n",
      "for j in range(len(str)):         #for each character\n",
      "    ch = \"\"+str[j]\n",
      "    outfile.write(ch),\n",
      "    \n",
      "print \"File written\"\n",
      "outfile.close()"
     ],
     "language": "python",
     "metadata": {},
     "outputs": [
      {
       "output_type": "stream",
       "stream": "stdout",
       "text": [
        "File written\n"
       ]
      }
     ],
     "prompt_number": 6
    },
    {
     "cell_type": "heading",
     "level": 2,
     "metadata": {},
     "source": [
      "Example 12.7, Page Number 588"
     ]
    },
    {
     "cell_type": "code",
     "collapsed": false,
     "input": [
      "infile = open(\"Test.txt\",\"r\")     #open file for read\n",
      "\n",
      "ch = infile.read(1)         #read character\n",
      " \n",
      "while ch != '':           #read untill EOF\n",
      "    print ch,             #display it\n",
      "    ch = infile.read(1)   #read character"
     ],
     "language": "python",
     "metadata": {},
     "outputs": [
      {
       "output_type": "stream",
       "stream": "stdout",
       "text": [
        "T i m e   i s   a   g r e a t   t e a c h e ,   b u t   u n f o r t u n a t e l y   i t   k i l l s   a l l   i t s   p u p l i e s .     B e r l i o z\n"
       ]
      }
     ],
     "prompt_number": 7
    },
    {
     "cell_type": "heading",
     "level": 2,
     "metadata": {},
     "source": [
      "Example 12.8, Page Number 589"
     ]
    },
    {
     "cell_type": "code",
     "collapsed": false,
     "input": [
      "infile = open(\"Test.txt\",\"r\")      #open file for read\n",
      "\n",
      "print infile.read()          #read whole file and print it"
     ],
     "language": "python",
     "metadata": {},
     "outputs": [
      {
       "output_type": "stream",
       "stream": "stdout",
       "text": [
        "Time is a great teache, but unfortunately it kills all its puplies.  Berlioz\n"
       ]
      }
     ],
     "prompt_number": 8
    },
    {
     "cell_type": "heading",
     "level": 2,
     "metadata": {},
     "source": [
      "Example 12.9, Page Number 590"
     ]
    },
    {
     "cell_type": "code",
     "collapsed": false,
     "input": [
      "MAX = 100                                #size of buffer\n",
      "buff = [j for j in range(MAX)]           #buffer for integers and fill buffer with data (0, 1, 2, ...)\n",
      "\n",
      "os = open(\"edata.txt\",'r+b')             #first make edata.txt file\n",
      "\n",
      "s = ''\n",
      "for j in range(MAX):             \n",
      "    s += '%d' %buff[j]  \n",
      "os.write(s)                   #write to file\n",
      "\n",
      "\n",
      "for j in range(MAX):          #erase buffer\n",
      "    buff[j] = 0\n",
      "    \n",
      "    \n",
      "os.seek(0,0)\n",
      "\n",
      "#read data from file\n",
      "for j in range (10):\n",
      "    buff[j] = os.read(1)\n",
      "    \n",
      "for j in range(10,MAX):\n",
      "    buff[j] = os.read(2)\n",
      "    \n",
      "    \n",
      "c=0\n",
      "for j in range(MAX):            #check data\n",
      "    if int(buff[j])!=j:\n",
      "        print \"Data is incorrect\\n\"\n",
      "        c=1\n",
      "        break\n",
      "    \n",
      "if c==0:\n",
      "    print \"Data is correct\""
     ],
     "language": "python",
     "metadata": {},
     "outputs": [
      {
       "output_type": "stream",
       "stream": "stdout",
       "text": [
        "Data is correct\n"
       ]
      }
     ],
     "prompt_number": 9
    },
    {
     "cell_type": "heading",
     "level": 2,
     "metadata": {},
     "source": [
      "Example 12.10, Page Number 592"
     ]
    },
    {
     "cell_type": "code",
     "collapsed": false,
     "input": [
      "import pickle\n",
      "\n",
      "class person:                  #class person\n",
      "    \n",
      "    def getData(self):         #get person's data\n",
      "        self.name = raw_input(\"Enter name: \")     #person's name\n",
      "        self.age = input(\"Enter age: \")           #person's age\n",
      "        \n",
      "        \n",
      "        \n",
      "pers = person()          #create a person\n",
      "pers.getData()           #get data for person\n",
      "\n",
      "outfile = open(\"PERSON.txt\",'wb')       #open file for write obect to it\n",
      "\n",
      "pickle.dump(pers, outfile)              #write object\n",
      "\n",
      "outfile.close()"
     ],
     "language": "python",
     "metadata": {},
     "outputs": [
      {
       "name": "stdout",
       "output_type": "stream",
       "stream": "stdout",
       "text": [
        "Enter name: Coleridge\n"
       ]
      },
      {
       "name": "stdout",
       "output_type": "stream",
       "stream": "stdout",
       "text": [
        "Enter age: 62\n"
       ]
      }
     ],
     "prompt_number": 10
    },
    {
     "cell_type": "heading",
     "level": 2,
     "metadata": {},
     "source": [
      "Example 12.11, Page Number 593"
     ]
    },
    {
     "cell_type": "code",
     "collapsed": false,
     "input": [
      "import pickle\n",
      "\n",
      "class person:\n",
      "    \n",
      "    def showData(self):             #display person's data\n",
      "        print \"Name:\",self.name     #person's name\n",
      "        print \"Age:\",self.age       #person's age\n",
      "        \n",
      "        \n",
      "        \n",
      "pers = person()         #create person variable\n",
      "\n",
      "infile = open(\"PERSON.txt\",'rb')     #open file in binary mode\n",
      "\n",
      "pers = pickle.load(infile)           #read object \n",
      "pers.showData()                      #display person"
     ],
     "language": "python",
     "metadata": {},
     "outputs": [
      {
       "output_type": "stream",
       "stream": "stdout",
       "text": [
        "Name: Coleridge\n",
        "Age: 62\n"
       ]
      }
     ],
     "prompt_number": 11
    },
    {
     "cell_type": "heading",
     "level": 2,
     "metadata": {},
     "source": [
      "Example 12.12, Page Number 594"
     ]
    },
    {
     "cell_type": "code",
     "collapsed": false,
     "input": [
      "import pickle\n",
      "\n",
      "class person:                #class of persons\n",
      "    \n",
      "    def getData(self):       #get person's data\n",
      "        self._name = raw_input(\"Enter name: \")\n",
      "        self._age = input(\"Enter age: \")\n",
      "        \n",
      "    def showData(self):      #display person's data\n",
      "        print \"   Name:\",self._name\n",
      "        print \"   Age:\",self._age\n",
      "        \n",
      "        \n",
      "        \n",
      "pers = person()                   #create person object\n",
      "file = open(\"Group.txt\",'r+b')    #open file\n",
      "c=0                               #for total number of objects\n",
      "\n",
      "\n",
      "while True:    \n",
      "    print \"\\nEnter person's data: \"\n",
      "    pers.getData()           #get one person's data\n",
      "    pickle.dump(pers, file)  #wriet to file\n",
      "    c += 1\n",
      "    \n",
      "    ch = raw_input(\"Enter another person (y/n)? \")\n",
      "    if(ch == 'n'):\n",
      "        break\n",
      "        \n",
      "           \n",
      "file.seek(0,0)\n",
      "\n",
      "print ''\n",
      "for j in range(c):\n",
      "    print 'person:'\n",
      "    pers = pickle.load(file)     #read person from file\n",
      "    pers.showData()              #display person"
     ],
     "language": "python",
     "metadata": {},
     "outputs": [
      {
       "output_type": "stream",
       "stream": "stdout",
       "text": [
        "\n",
        "Enter person's data: \n"
       ]
      },
      {
       "name": "stdout",
       "output_type": "stream",
       "stream": "stdout",
       "text": [
        "Enter name: Whitney\n"
       ]
      },
      {
       "name": "stdout",
       "output_type": "stream",
       "stream": "stdout",
       "text": [
        "Enter age: 20\n"
       ]
      },
      {
       "name": "stdout",
       "output_type": "stream",
       "stream": "stdout",
       "text": [
        "Enter another person (y/n)? y\n"
       ]
      },
      {
       "output_type": "stream",
       "stream": "stdout",
       "text": [
        "\n",
        "Enter person's data: \n"
       ]
      },
      {
       "name": "stdout",
       "output_type": "stream",
       "stream": "stdout",
       "text": [
        "Enter name: Rainier\n"
       ]
      },
      {
       "name": "stdout",
       "output_type": "stream",
       "stream": "stdout",
       "text": [
        "Enter age: 21\n"
       ]
      },
      {
       "name": "stdout",
       "output_type": "stream",
       "stream": "stdout",
       "text": [
        "Enter another person (y/n)? y\n"
       ]
      },
      {
       "output_type": "stream",
       "stream": "stdout",
       "text": [
        "\n",
        "Enter person's data: \n"
       ]
      },
      {
       "name": "stdout",
       "output_type": "stream",
       "stream": "stdout",
       "text": [
        "Enter name: McKinley\n"
       ]
      },
      {
       "name": "stdout",
       "output_type": "stream",
       "stream": "stdout",
       "text": [
        "Enter age: 22\n"
       ]
      },
      {
       "name": "stdout",
       "output_type": "stream",
       "stream": "stdout",
       "text": [
        "Enter another person (y/n)? n\n"
       ]
      },
      {
       "output_type": "stream",
       "stream": "stdout",
       "text": [
        "\n",
        "person:\n",
        "   Name: Whitney\n",
        "   Age: 20\n",
        "person:\n",
        "   Name: Rainier\n",
        "   Age: 21\n",
        "person:\n",
        "   Name: McKinley\n",
        "   Age: 22\n"
       ]
      }
     ],
     "prompt_number": 12
    },
    {
     "cell_type": "heading",
     "level": 2,
     "metadata": {},
     "source": [
      "Example 12.13, Page Number 599"
     ]
    },
    {
     "cell_type": "code",
     "collapsed": false,
     "input": [
      "import pickle\n",
      "\n",
      "class person:          #class of person's\n",
      "    \n",
      "    def getData(self):          #get person's data\n",
      "        self._name = raw_input(\"Enter name: \")\n",
      "        self._age = input(\"Enter age: \")\n",
      "        \n",
      "    def showData(self):         #dislay person's data\n",
      "        print \"   Name:\",self._name\n",
      "        print \"   Age:\",self._age\n",
      "        \n",
      "        \n",
      "        \n",
      "pers = person()         #create person object\n",
      "infile = open(\"Group.txt\",'r+b')        #create input file and open it\n",
      "c=3\n",
      "print 'There are',c,'persons in file'   #print number of objects in file\n",
      "\n",
      "n = input(\"Enter person number: \")\n",
      "\n",
      "print ''\n",
      "for j in range(3):\n",
      "    pers = pickle.load(infile)      #read one person\n",
      "    if j==n-1:\n",
      "        pers.showData()         #display the person"
     ],
     "language": "python",
     "metadata": {},
     "outputs": [
      {
       "output_type": "stream",
       "stream": "stdout",
       "text": [
        "There are 3 persons in file\n"
       ]
      },
      {
       "name": "stdout",
       "output_type": "stream",
       "stream": "stdout",
       "text": [
        "Enter person number: 2\n"
       ]
      },
      {
       "output_type": "stream",
       "stream": "stdout",
       "text": [
        "\n",
        "   Name: Rainier\n",
        "   Age: 21\n"
       ]
      }
     ],
     "prompt_number": 13
    },
    {
     "cell_type": "heading",
     "level": 2,
     "metadata": {},
     "source": [
      "Example 12.14, Page Number 601"
     ]
    },
    {
     "cell_type": "code",
     "collapsed": false,
     "input": [
      "import pickle\n",
      "\n",
      "MAX = 1000\n",
      "buff = []*1000\n",
      "\n",
      "for j in range(MAX):        #fill buffer with data\n",
      "    buff.append(j)\n",
      "\n",
      "try:\n",
      "    os = open(\"edata.txt\",'r+b')         #open a file\n",
      "\n",
      "except IOError:\n",
      "    print \"could not open output file\"\n",
      "    \n",
      "print 'Writing...'\n",
      "\n",
      "try:\n",
      "    pickle.dump(buff, os)       #write buffer to it\n",
      "except IOError:\n",
      "    print \"could not write ot file\"\n",
      "    \n",
      "os.close()             #must close it\n",
      "\n",
      "\n",
      "\n",
      "for j in range(MAX):   #clear buffer\n",
      "    buff[j]=0\n",
      "    \n",
      "try:\n",
      "    is1 = open(\"edata.txt\",'r+b')     #open the same file in read mode\n",
      "\n",
      "except IOError:\n",
      "    print \"could not open output file\"\n",
      "    \n",
      "print 'Reading...'\n",
      "\n",
      "try:\n",
      "    buff = pickle.load(is1)           #read file data and put it into a buffer\n",
      "except IOError:\n",
      "    print \"could not read from file\"\n",
      "    \n",
      "c=0\n",
      "for j in range(MAX):            #check data\n",
      "    if int(buff[j])!=j:\n",
      "        print \"Data is incorrect\\n\"\n",
      "        c=1\n",
      "        break\n",
      "    \n",
      "if c==0:\n",
      "    print \"Data is correct\""
     ],
     "language": "python",
     "metadata": {},
     "outputs": [
      {
       "output_type": "stream",
       "stream": "stdout",
       "text": [
        "Writing...\n",
        "Reading...\n",
        "Data is correct\n"
       ]
      }
     ],
     "prompt_number": 14
    },
    {
     "cell_type": "heading",
     "level": 2,
     "metadata": {},
     "source": [
      "Example 12.15, Page Number 603"
     ]
    },
    {
     "cell_type": "code",
     "collapsed": false,
     "input": [
      "class error:                   #class error#\n",
      "    \n",
      "    def rdstate(self):         #show the error state\n",
      "        try:\n",
      "            file = open(\"GROUP1.txt\",'r')\n",
      "            return 0\n",
      "    \n",
      "        except IOError:\n",
      "            return 4\n",
      "        \n",
      "    def good(self):            #check no error occur to open the file\n",
      "        try:\n",
      "            file = open(\"GROUP1.txt\",'r')\n",
      "            return 1\n",
      "    \n",
      "        except IOError:\n",
      "            return 0\n",
      "        \n",
      "    def eof(self):            #check end-of-file\n",
      "        try:\n",
      "            file = open(\"GROUP1.txt\",'r')\n",
      "            return 1\n",
      "    \n",
      "        except IOError:\n",
      "            return 0\n",
      "        \n",
      "    def fail(self):           #check any error has come?\n",
      "        try:\n",
      "            file = open(\"GROUP1.txt\",'r')\n",
      "            return 0\n",
      "    \n",
      "        except IOError:\n",
      "            return 4\n",
      "        \n",
      "    def bad(self):            #file can't be open\n",
      "        try:\n",
      "            file = open(\"GROUP1.txt\",'r')\n",
      "            return 0\n",
      "    \n",
      "        except IOError:\n",
      "            return 4\n",
      "\n",
      "\n",
      "try:\n",
      "    file = open(\"GROUP1.txt\",'r')\n",
      "    \n",
      "except IOError:\n",
      "    print \"can't open output file\"\n",
      "\n",
      "print 'file =',hex(id(file))\n",
      "\n",
      "file = error()\n",
      "\n",
      "print 'Error state =',file.rdstate()\n",
      "print 'good() =',file.good()\n",
      "print 'eof() =',file.eof()\n",
      "print 'fail() =',file.fail()\n",
      "print 'bad() =',file.bad()"
     ],
     "language": "python",
     "metadata": {},
     "outputs": [
      {
       "output_type": "stream",
       "stream": "stdout",
       "text": [
        "can't open output file\n",
        "file = 0x37cd270L\n",
        "Error state = 4\n",
        "good() = 0\n",
        "eof() = 0\n",
        "fail() = 4\n",
        "bad() = 4\n"
       ]
      }
     ],
     "prompt_number": 15
    },
    {
     "cell_type": "heading",
     "level": 2,
     "metadata": {},
     "source": [
      "Example 12.16, Page Number 604"
     ]
    },
    {
     "cell_type": "code",
     "collapsed": false,
     "input": [
      "import pickle\n",
      "\n",
      "class person:            #class of persons\n",
      "\n",
      "    def getData(self):                                #get person's data\n",
      "        self._name = raw_input(\"Enter name: \")        #person's name\n",
      "        self._age = input(\"Enter age: \")              #person's age\n",
      "        \n",
      "        \n",
      "    def showData(self):          #display person's data\n",
      "        print \"   Name:\",self._name\n",
      "        print \"   Age:\",self._age\n",
      "        \n",
      "        \n",
      "    def diskIn(self,pn,c):       #read person number pn from file\n",
      "        \n",
      "        infile = open(\"PERSFILE.txt\",'r+b')  #open file\n",
      "        \n",
      "        for j in range(c):\n",
      "            self = pickle.load(infile)       #read one person\n",
      "            \n",
      "            if j==pn:\n",
      "                return self;\n",
      "                \n",
      "                \n",
      "    def diskOut(self):           #write person to end of file\n",
      "        \n",
      "        outfile = open(\"PERSFILE.txt\",'ab')   #open file\n",
      "        pickle.dump(self, outfile)            #write to it\n",
      "        outfile.close()\n",
      "        \n",
      "        \n",
      "    def diskCount(self,c):        #return number of persons in file\n",
      "        return c \n",
      "    \n",
      "    \n",
      "    \n",
      "      \n",
      "p = person()         #make an empty person\n",
      "c=0\n",
      "outfile = open(\"PERSFILE.txt\",'wb')        #open file to delete its containt\n",
      "outfile.close()\n",
      "\n",
      "while True:                                #save person to disk\n",
      "    print \"\\nEnter person's data: \"\n",
      "    p.getData()                            #get data \n",
      "    p.diskOut()                            #write to disk\n",
      "    c += 1\n",
      "    \n",
      "    ch = raw_input(\"Enter another person (y/n)? \")\n",
      "    if(ch == 'n'):                         #untill user enters 'n'\n",
      "        break        \n",
      "        \n",
      "c = p.diskCount(c)                         #how many persons are in file?\n",
      "\n",
      "print 'There are',c,'persons in file'\n",
      "\n",
      "print ''\n",
      "for j in range(c):            #for each person\n",
      "    print 'person'\n",
      "    p = p.diskIn(j,c)         #read person from disk\n",
      "    p.showData()              #display person"
     ],
     "language": "python",
     "metadata": {},
     "outputs": [
      {
       "output_type": "stream",
       "stream": "stdout",
       "text": [
        "\n",
        "Enter person's data: \n"
       ]
      },
      {
       "name": "stdout",
       "output_type": "stream",
       "stream": "stdout",
       "text": [
        "Enter name: Stimson\n"
       ]
      },
      {
       "name": "stdout",
       "output_type": "stream",
       "stream": "stdout",
       "text": [
        "Enter age: 45\n"
       ]
      },
      {
       "name": "stdout",
       "output_type": "stream",
       "stream": "stdout",
       "text": [
        "Enter another person (y/n)? y\n"
       ]
      },
      {
       "output_type": "stream",
       "stream": "stdout",
       "text": [
        "\n",
        "Enter person's data: \n"
       ]
      },
      {
       "name": "stdout",
       "output_type": "stream",
       "stream": "stdout",
       "text": [
        "Enter name: Hull\n"
       ]
      },
      {
       "name": "stdout",
       "output_type": "stream",
       "stream": "stdout",
       "text": [
        "Enter age: 58\n"
       ]
      },
      {
       "name": "stdout",
       "output_type": "stream",
       "stream": "stdout",
       "text": [
        "Enter another person (y/n)? y\n"
       ]
      },
      {
       "output_type": "stream",
       "stream": "stdout",
       "text": [
        "\n",
        "Enter person's data: \n"
       ]
      },
      {
       "name": "stdout",
       "output_type": "stream",
       "stream": "stdout",
       "text": [
        "Enter name: Acheson\n"
       ]
      },
      {
       "name": "stdout",
       "output_type": "stream",
       "stream": "stdout",
       "text": [
        "Enter age: 63\n"
       ]
      },
      {
       "name": "stdout",
       "output_type": "stream",
       "stream": "stdout",
       "text": [
        "Enter another person (y/n)? y\n"
       ]
      },
      {
       "output_type": "stream",
       "stream": "stdout",
       "text": [
        "\n",
        "Enter person's data: \n"
       ]
      },
      {
       "name": "stdout",
       "output_type": "stream",
       "stream": "stdout",
       "text": [
        "Enter name: Dulles\n"
       ]
      },
      {
       "name": "stdout",
       "output_type": "stream",
       "stream": "stdout",
       "text": [
        "Enter age: 72\n"
       ]
      },
      {
       "name": "stdout",
       "output_type": "stream",
       "stream": "stdout",
       "text": [
        "Enter another person (y/n)? n\n"
       ]
      },
      {
       "output_type": "stream",
       "stream": "stdout",
       "text": [
        "There are 4 persons in file\n",
        "\n",
        "person\n",
        "   Name: Stimson\n",
        "   Age: 45\n",
        "person\n",
        "   Name: Hull\n",
        "   Age: 58\n",
        "person\n",
        "   Name: Acheson\n",
        "   Age: 63\n",
        "person\n",
        "   Name: Dulles\n",
        "   Age: 72\n"
       ]
      }
     ],
     "prompt_number": 16
    },
    {
     "cell_type": "heading",
     "level": 2,
     "metadata": {},
     "source": [
      "Example 12.17, Page Number 608"
     ]
    },
    {
     "cell_type": "code",
     "collapsed": false,
     "input": [
      "import sys\n",
      "import pickle\n",
      "\n",
      "employee_type = [\"tmanager\",\"tscientist\",\"tlaborer\"]  \n",
      "(tmanager,tscientist,tlaborer) = (0,1,2)                 #Atteching the names with number  \n",
      "\n",
      "LEN = 32                                                 #maximum length of last names\n",
      "MAXEM = 100                                              #maximum length of employees\n",
      "\n",
      "\n",
      "\n",
      "class employee:               #employee class\n",
      "    __name = [None]*LEN       #employee name\n",
      "    __n = 0                   #current number of employee\n",
      "    __arrap = []              #array of ptrs to emps\n",
      "    \n",
      "    def getdata(self):                                     #get data from user\n",
      "        self.__name = raw_input(\"   Enter last name: \")\n",
      "        self.__number = input(\"   Enter number: \")         #employee number\n",
      "        \n",
      "    def putdata(self):                                     #display data\n",
      "        print '    Name:',self.__name \n",
      "        print '    Number:',self.__number\n",
      "        \n",
      "        \n",
      "    def get_type(self):                                    #return the type of object\n",
      "        \n",
      "        if sys.getsizeof(self)==sys.getsizeof(manager()):\n",
      "            return tmanager\n",
      "        elif sys.getsizeof(self)==sys.getsizeof(scientisit()):\n",
      "            return tscientist\n",
      "        elif sys.getsizeof(self)==sys.getsizeof(laborer()):\n",
      "            return tlaborer\n",
      "        else:\n",
      "            print 'Bad employee type'\n",
      "            return tmanager\n",
      "        \n",
      "        \n",
      "    def add(self):            #add employee to list in memory\n",
      "        \n",
      "        print \"'m' to add manager \\n's' to add a scientist\\n'l' to add a laborer\"\n",
      "        ch = raw_input(\"Enter selection: \")\n",
      "        \n",
      "        #create specific employee type\n",
      "        if ch=='m':\n",
      "            employee.__arrap.append(manager())\n",
      "            \n",
      "        elif ch=='s':\n",
      "            employee.__arrap.append(scientist())\n",
      "            \n",
      "        elif ch=='l':\n",
      "            employee.__arrap.append(laborer())\n",
      "            \n",
      "        else:\n",
      "            print 'Unknown command'\n",
      "            \n",
      "        employee.__arrap[employee.__n].getdata()        #get employee data from user\n",
      "        employee.__n += 1                               #increase the number of employee\n",
      "         \n",
      "            \n",
      "    def display(self):                    #display all employees\n",
      "        \n",
      "        for j in range(employee.__n):\n",
      "            print j+1,                    #display number\n",
      "            \n",
      "            #display type\n",
      "            if employee.__arrap[j].get_type()==tmanager:\n",
      "                print '. Type: Manager'\n",
      "                \n",
      "            elif employee.__arrap[j].get_type()==tscientist:\n",
      "                print '. Type: scientist'\n",
      "                \n",
      "            elif employee.__arrap[j].get_type()==tlaborer:\n",
      "                print '. Type: laborer'\n",
      "                \n",
      "            else:\n",
      "                print '. Unknown type'\n",
      "                \n",
      "            employee.__arrap[j].putdata()       #display employee data\n",
      "            \n",
      "        \n",
      "    def write(self):                            #write all current memory object to file\n",
      "        ouf = open(\"EMPLOY.txt\",'w')\n",
      "        ouf.close()\n",
      "        \n",
      "        print 'Writing',employee.__n,'employees.'\n",
      "            \n",
      "        try:\n",
      "            ouf = open(\"EMPLOY.txt\",'ab')       #open file in binary mode\n",
      "        except IOError:\n",
      "            print \"could not open file\"\n",
      "            \n",
      "            \n",
      "        for j in range(employee.__n):                  #for every employee objects\n",
      "            \n",
      "            etype = employee.__arrap[j].get_type()     #get its type\n",
      "            pickle.dump(etype, ouf)                    #write type to file\n",
      "        \n",
      "            #find its size\n",
      "            if etype == tmanager:\n",
      "                size = sys.getsizeof(manager)\n",
      "            elif etype == tscientist:\n",
      "                size = sys.getsizeof(scientist)\n",
      "            elif etype == tlaborer:\n",
      "                size = sys.getsizeof(laborer)\n",
      "                \n",
      "            try:\n",
      "                pickle.dump(employee.__arrap[j], ouf)       #write employee object to file\n",
      "            except IOError:\n",
      "                print \"could not write to file\"\n",
      "                \n",
      "        ouf.close()        #close the file\n",
      "        \n",
      "        \n",
      "                    \n",
      "    def read(self,c):      #read data for all employee from file into memory\n",
      "        \n",
      "        try:\n",
      "            inf = open(\"EMPLOY.txt\",'rb')           #open file into binary mode\n",
      "        except IOError:\n",
      "            print \"could not open file\"\n",
      "        \n",
      "        employee.__n = 0             #no employee in memeory yet\n",
      "        \n",
      "        for j in range(c):\n",
      "            \n",
      "            try:\n",
      "                etype = pickle.load(inf)                   #read type of next employee\n",
      "            except IOError:\n",
      "                print \"could not read type from file\"\n",
      "                \n",
      "            if j==c:\n",
      "                break\n",
      "                \n",
      "            if etype == tmanager:                               #make new employee of correct type\n",
      "                employee.__arrap[employee.__n] = manager()\n",
      "                size = sys.getsizeof(manager)\n",
      "            elif etype == tscientist:\n",
      "                employee.__arrap[employee.__n] = scientist()\n",
      "                size = sys.getsizeof(scientist)\n",
      "            elif etype == tlaborer:\n",
      "                employee.__arrap[employee.__n] = laborer()\n",
      "                size = sys.getsizeof(laborer)\n",
      "            else:\n",
      "                print 'Unknown type in file'\n",
      "                \n",
      "            try:\n",
      "                employee.__arrap[employee.__n] = pickle.load(inf)        #read data from file into it\n",
      "            except IOError:\n",
      "                print \"could not read type from file\"\n",
      "                \n",
      "            employee.__n += 1           #count employee\n",
      "            \n",
      "        print 'Reading',employee.__n,'employees'\n",
      "                \n",
      "            \n",
      "            \n",
      "        \n",
      "class manager(employee):                                       #management class\n",
      "    __title = [None]*LEN                                       #'vice-president' etc. \n",
      "    \n",
      "    def getdata(self):\n",
      "        employee.getdata(self)\n",
      "        self.__title = raw_input(\"   Enter Title: \")\n",
      "        self.__dues = input(\"   Enter golf club dues: \")       #golf club dues\n",
      "        \n",
      "    def putdata(self):\n",
      "        employee.putdata(self)\n",
      "        print '    Title:',self.__title\n",
      "        print '    golf club dues:',self.__dues\n",
      "      \n",
      "        \n",
      "        \n",
      "class scientist(employee):                                     #scientist class\n",
      "    \n",
      "    def getdata(self):\n",
      "        employee.getdata(self)\n",
      "        self.__pubs = raw_input(\"   Enter Number of pubs: \")   #number of publication\n",
      "        \n",
      "    def putdata(self):\n",
      "        employee.putdata(self)\n",
      "        print '    Number of publications:',self.__pubs\n",
      "        \n",
      "        \n",
      "        \n",
      "class laborer(employee):             #labour class\n",
      "    pass \n",
      "\n",
      "\n",
      "\n",
      "\n",
      "z = 0\n",
      "while True:\n",
      "    \n",
      "    print \"\\n'a' --to add data for an employee \\n'd' --display data for all employees\\n'w' --write all employee data to file\"\n",
      "    print \"'r' --read all employee data to file\\n'x' --exit\"\n",
      "    ch = raw_input(\"Enter selection: \")\n",
      "    \n",
      "    if ch == 'a':                  #add an employee to list\n",
      "        z += 1\n",
      "        employee().add()\n",
      "        \n",
      "    elif ch == 'd':                #display all employess\n",
      "        employee().display()\n",
      "        \n",
      "    elif ch == 'w':                #write employee to file\n",
      "        employee().write()\n",
      "        \n",
      "    elif ch == 'r':                #read all employee from file\n",
      "        employee().read(z)\n",
      "        \n",
      "    elif ch == 'x':                #exit program\n",
      "        break;\n",
      "    else:\n",
      "        print 'Unknown command'\n",
      "    "
     ],
     "language": "python",
     "metadata": {},
     "outputs": [
      {
       "output_type": "stream",
       "stream": "stdout",
       "text": [
        "\n",
        "'a' --to add data for an employee \n",
        "'d' --display data for all employees\n",
        "'w' --write all employee data to file\n",
        "'r' --read all employee data to file\n",
        "'x' --exit\n"
       ]
      },
      {
       "name": "stdout",
       "output_type": "stream",
       "stream": "stdout",
       "text": [
        "Enter selection: a\n"
       ]
      },
      {
       "output_type": "stream",
       "stream": "stdout",
       "text": [
        "'m' to add manager \n",
        "'s' to add a scientist\n",
        "'l' to add a laborer\n"
       ]
      },
      {
       "name": "stdout",
       "output_type": "stream",
       "stream": "stdout",
       "text": [
        "Enter selection: m\n"
       ]
      },
      {
       "name": "stdout",
       "output_type": "stream",
       "stream": "stdout",
       "text": [
        "   Enter last name: Johnson\n"
       ]
      },
      {
       "name": "stdout",
       "output_type": "stream",
       "stream": "stdout",
       "text": [
        "   Enter number: 1111\n"
       ]
      },
      {
       "name": "stdout",
       "output_type": "stream",
       "stream": "stdout",
       "text": [
        "   Enter Title: President\n"
       ]
      },
      {
       "name": "stdout",
       "output_type": "stream",
       "stream": "stdout",
       "text": [
        "   Enter golf club dues: 20000\n"
       ]
      },
      {
       "output_type": "stream",
       "stream": "stdout",
       "text": [
        "\n",
        "'a' --to add data for an employee \n",
        "'d' --display data for all employees\n",
        "'w' --write all employee data to file\n",
        "'r' --read all employee data to file\n",
        "'x' --exit\n"
       ]
      },
      {
       "name": "stdout",
       "output_type": "stream",
       "stream": "stdout",
       "text": [
        "Enter selection: a\n"
       ]
      },
      {
       "output_type": "stream",
       "stream": "stdout",
       "text": [
        "'m' to add manager \n",
        "'s' to add a scientist\n",
        "'l' to add a laborer\n"
       ]
      },
      {
       "name": "stdout",
       "output_type": "stream",
       "stream": "stdout",
       "text": [
        "Enter selection: s\n"
       ]
      },
      {
       "name": "stdout",
       "output_type": "stream",
       "stream": "stdout",
       "text": [
        "   Enter last name: Faraday\n"
       ]
      },
      {
       "name": "stdout",
       "output_type": "stream",
       "stream": "stdout",
       "text": [
        "   Enter number: 2222\n"
       ]
      },
      {
       "name": "stdout",
       "output_type": "stream",
       "stream": "stdout",
       "text": [
        "   Enter Number of pubs: 99\n"
       ]
      },
      {
       "output_type": "stream",
       "stream": "stdout",
       "text": [
        "\n",
        "'a' --to add data for an employee \n",
        "'d' --display data for all employees\n",
        "'w' --write all employee data to file\n",
        "'r' --read all employee data to file\n",
        "'x' --exit\n"
       ]
      },
      {
       "name": "stdout",
       "output_type": "stream",
       "stream": "stdout",
       "text": [
        "Enter selection: a\n"
       ]
      },
      {
       "output_type": "stream",
       "stream": "stdout",
       "text": [
        "'m' to add manager \n",
        "'s' to add a scientist\n",
        "'l' to add a laborer\n"
       ]
      },
      {
       "name": "stdout",
       "output_type": "stream",
       "stream": "stdout",
       "text": [
        "Enter selection: l\n"
       ]
      },
      {
       "name": "stdout",
       "output_type": "stream",
       "stream": "stdout",
       "text": [
        "   Enter last name: Smith\n"
       ]
      },
      {
       "name": "stdout",
       "output_type": "stream",
       "stream": "stdout",
       "text": [
        "   Enter number: 3333\n"
       ]
      },
      {
       "output_type": "stream",
       "stream": "stdout",
       "text": [
        "\n",
        "'a' --to add data for an employee \n",
        "'d' --display data for all employees\n",
        "'w' --write all employee data to file\n",
        "'r' --read all employee data to file\n",
        "'x' --exit\n"
       ]
      },
      {
       "name": "stdout",
       "output_type": "stream",
       "stream": "stdout",
       "text": [
        "Enter selection: w\n"
       ]
      },
      {
       "output_type": "stream",
       "stream": "stdout",
       "text": [
        "Writing 3 employees.\n",
        "\n",
        "'a' --to add data for an employee \n",
        "'d' --display data for all employees\n",
        "'w' --write all employee data to file"
       ]
      },
      {
       "output_type": "stream",
       "stream": "stdout",
       "text": [
        "\n",
        "'r' --read all employee data to file\n",
        "'x' --exit\n"
       ]
      },
      {
       "name": "stdout",
       "output_type": "stream",
       "stream": "stdout",
       "text": [
        "Enter selection: r\n"
       ]
      },
      {
       "output_type": "stream",
       "stream": "stdout",
       "text": [
        "Reading 3 employees\n",
        "\n",
        "'a' --to add data for an employee \n",
        "'d' --display data for all employees\n",
        "'w' --write all employee data to file\n",
        "'r' --read all employee data to file\n",
        "'x' --exit\n"
       ]
      },
      {
       "name": "stdout",
       "output_type": "stream",
       "stream": "stdout",
       "text": [
        "Enter selection: d\n"
       ]
      },
      {
       "output_type": "stream",
       "stream": "stdout",
       "text": [
        "1 . Type: Manager\n",
        "    Name: Johnson\n",
        "    Number: 1111\n",
        "    Title: President\n",
        "    Number: 20000\n",
        "2 . Type: Manager\n",
        "    Name: Faraday\n",
        "    Number: 2222\n",
        "    Number of publications: 99\n",
        "3 . Type: Manager\n",
        "    Name: Smith\n",
        "    Number: 3333\n",
        "\n",
        "'a' --to add data for an employee \n",
        "'d' --display data for all employees\n",
        "'w' --write all employee data to file\n",
        "'r' --read all employee data to file\n",
        "'x' --exit\n"
       ]
      },
      {
       "name": "stdout",
       "output_type": "stream",
       "stream": "stdout",
       "text": [
        "Enter selection: x\n"
       ]
      }
     ],
     "prompt_number": 17
    },
    {
     "cell_type": "heading",
     "level": 2,
     "metadata": {},
     "source": [
      "Example 12.18, Page Number 616"
     ]
    },
    {
     "cell_type": "code",
     "collapsed": false,
     "input": [
      "class Distance:                      #Distance class\n",
      "    \n",
      "    def __init__(self,ft=0,inc=0):   #constructor \n",
      "        self.__feet = ft\n",
      "        self.__inches = inc\n",
      "    \n",
      "    \n",
      "def gd(d):               #get length from user  (friend function)\n",
      "    d._Distance__feet = input('\\nEnter feet:')\n",
      "    d._Distance__inches = input('Enter inches:')\n",
      "    \n",
      "    \n",
      "    \n",
      "def sd(d):              #display distance  (friend function)\n",
      "    print d._Distance__feet , '\\' -' , d._Distance__inches , '\\\"'\n",
      "        \n",
      "        \n",
      "        \n",
      "        \n",
      "#define distances\n",
      "dist1 = Distance()\n",
      "dist2 = Distance()\n",
      "\n",
      "#define and initialize dist3\n",
      "dist3 = Distance(11,6.25)\n",
      "\n",
      "#get dist1 and dist2 from user\n",
      "print 'Enter two Distance value:',\n",
      "gd(dist1)\n",
      "gd(dist2)\n",
      "\n",
      "#display all lengths\n",
      "print '\\ndist1 = ',;sd(dist1)\n",
      "print 'dist2 = ',;sd(dist2)\n",
      "print 'dist3 = ',;sd(dist3)"
     ],
     "language": "python",
     "metadata": {},
     "outputs": [
      {
       "output_type": "stream",
       "stream": "stdout",
       "text": [
        "Enter two Distance value:"
       ]
      },
      {
       "name": "stdout",
       "output_type": "stream",
       "stream": "stdout",
       "text": [
        "\n",
        "Enter feet:10\n"
       ]
      },
      {
       "name": "stdout",
       "output_type": "stream",
       "stream": "stdout",
       "text": [
        "Enter inches:3.5\n"
       ]
      },
      {
       "name": "stdout",
       "output_type": "stream",
       "stream": "stdout",
       "text": [
        "\n",
        "Enter feet:12\n"
       ]
      },
      {
       "name": "stdout",
       "output_type": "stream",
       "stream": "stdout",
       "text": [
        "Enter inches:6\n"
       ]
      },
      {
       "output_type": "stream",
       "stream": "stdout",
       "text": [
        " \n",
        "dist1 =  10 ' - 3.5 \"\n",
        "dist2 =  12 ' - 6 \"\n",
        "dist3 =  11 ' - 6.25 \"\n"
       ]
      }
     ],
     "prompt_number": 18
    },
    {
     "cell_type": "heading",
     "level": 2,
     "metadata": {},
     "source": [
      "Example 12.19, Page Number 618"
     ]
    },
    {
     "cell_type": "code",
     "collapsed": false,
     "input": [
      "import pickle\n",
      "\n",
      "class Distance:                      #Distance class\n",
      "    \n",
      "    def __init__(self,ft=0,inc=0):   #constructor \n",
      "        self.__feet = ft\n",
      "        self.__inches = inc\n",
      "    \n",
      "    \n",
      "def gd(d):               #get length from user  (friend function)\n",
      "    d._Distance__feet,dummy,dummy,d._Distance__inches,dummy = input(),raw_input(),raw_input(),input(),raw_input()\n",
      "    \n",
      "    \n",
      "    \n",
      "def sd(d):              #display distance  (friend function)\n",
      "    print d._Distance__feet , '\\' -' , d._Distance__inches , '\\\"'\n",
      "        \n",
      "        \n",
      "        \n",
      "        \n",
      "dist1 = Distance()\n",
      "ofile = open('Dist.txt','w')           #create and open a file\n",
      "\n",
      "z=0\n",
      "while True:\n",
      "    print 'Enter Distance:'\n",
      "    gd(dist1)                    #get distance from user\n",
      "    pickle.dump(dist1,ofile)     #write it to file\n",
      "    z += 1\n",
      "    ch = raw_input(\"Enter another person (y/n)? \")\n",
      "    if(ch == 'n'):\n",
      "        break\n",
      "        \n",
      "ofile.close()          #close file\n",
      "\n",
      "\n",
      "\n",
      "ifile = open('Dist.txt','r')        #open same file in read mode\n",
      "\n",
      "print '\\nContents of disk file is:'\n",
      "for j in range(z):\n",
      "    dist1 = pickle.load(ifile)      #read dist from stream\n",
      "    print 'Distance =',;sd(dist1)   #display dist"
     ],
     "language": "python",
     "metadata": {},
     "outputs": [
      {
       "output_type": "stream",
       "stream": "stdout",
       "text": [
        "Enter Distance:\n"
       ]
      },
      {
       "name": "stdout",
       "output_type": "stream",
       "stream": "stdout",
       "text": [
        "3\n"
       ]
      },
      {
       "name": "stdout",
       "output_type": "stream",
       "stream": "stdout",
       "text": [
        "'\n"
       ]
      },
      {
       "name": "stdout",
       "output_type": "stream",
       "stream": "stdout",
       "text": [
        "-\n"
       ]
      },
      {
       "name": "stdout",
       "output_type": "stream",
       "stream": "stdout",
       "text": [
        "4.5\n"
       ]
      },
      {
       "name": "stdout",
       "output_type": "stream",
       "stream": "stdout",
       "text": [
        "\"\n"
       ]
      },
      {
       "name": "stdout",
       "output_type": "stream",
       "stream": "stdout",
       "text": [
        "Enter another person (y/n)? y\n"
       ]
      },
      {
       "output_type": "stream",
       "stream": "stdout",
       "text": [
        "Enter Distance:\n"
       ]
      },
      {
       "name": "stdout",
       "output_type": "stream",
       "stream": "stdout",
       "text": [
        "7\n"
       ]
      },
      {
       "name": "stdout",
       "output_type": "stream",
       "stream": "stdout",
       "text": [
        "'\n"
       ]
      },
      {
       "name": "stdout",
       "output_type": "stream",
       "stream": "stdout",
       "text": [
        "-\n"
       ]
      },
      {
       "name": "stdout",
       "output_type": "stream",
       "stream": "stdout",
       "text": [
        "11.25\n"
       ]
      },
      {
       "name": "stdout",
       "output_type": "stream",
       "stream": "stdout",
       "text": [
        "\"\n"
       ]
      },
      {
       "name": "stdout",
       "output_type": "stream",
       "stream": "stdout",
       "text": [
        "Enter another person (y/n)? y\n"
       ]
      },
      {
       "output_type": "stream",
       "stream": "stdout",
       "text": [
        "Enter Distance:\n"
       ]
      },
      {
       "name": "stdout",
       "output_type": "stream",
       "stream": "stdout",
       "text": [
        "11\n"
       ]
      },
      {
       "name": "stdout",
       "output_type": "stream",
       "stream": "stdout",
       "text": [
        "'\n"
       ]
      },
      {
       "name": "stdout",
       "output_type": "stream",
       "stream": "stdout",
       "text": [
        "-\n"
       ]
      },
      {
       "name": "stdout",
       "output_type": "stream",
       "stream": "stdout",
       "text": [
        "6\n"
       ]
      },
      {
       "name": "stdout",
       "output_type": "stream",
       "stream": "stdout",
       "text": [
        "\"\n"
       ]
      },
      {
       "name": "stdout",
       "output_type": "stream",
       "stream": "stdout",
       "text": [
        "Enter another person (y/n)? n\n"
       ]
      },
      {
       "output_type": "stream",
       "stream": "stdout",
       "text": [
        "\n",
        "Contents of disk file is:\n",
        "Distance = 3 ' - 4.5 \"\n",
        "Distance = 7 ' - 11.25 \"\n",
        "Distance = 11 ' - 6 \"\n"
       ]
      }
     ],
     "prompt_number": 19
    },
    {
     "cell_type": "heading",
     "level": 2,
     "metadata": {},
     "source": [
      "Example 12.20, Page Number 621"
     ]
    },
    {
     "cell_type": "code",
     "collapsed": false,
     "input": [
      "                        #test data\n",
      "ch = 'x'\n",
      "j=77\n",
      "d=67890.12345\n",
      "str1 = \"Kafka\"\n",
      "str2 = \"Freud\"\n",
      "\n",
      "                        #print data\n",
      "print 'ch =',ch\n",
      "print 'j =',j\n",
      "print 'd = %.2f' %d\n",
      "print 'str1 =',str1\n",
      "print 'str2 =',str2"
     ],
     "language": "python",
     "metadata": {},
     "outputs": [
      {
       "output_type": "stream",
       "stream": "stdout",
       "text": [
        "ch = x\n",
        "j = 77\n",
        "d = 67890.12\n",
        "str1 = Kafka\n",
        "str2 = Freud\n"
       ]
      }
     ],
     "prompt_number": 20
    },
    {
     "cell_type": "heading",
     "level": 2,
     "metadata": {},
     "source": [
      "Example 12.21, Page Number 622"
     ]
    },
    {
     "cell_type": "code",
     "collapsed": false,
     "input": [
      "import sys\n",
      "\n",
      "print 'argc =',len(sys.argv)          #number of arguments\n",
      "\n",
      "for j in range(len(sys.argv)):        #display arguments\n",
      "    print 'Argument',j,'=',sys.argv[j]  "
     ],
     "language": "python",
     "metadata": {},
     "outputs": [
      {
       "output_type": "stream",
       "stream": "stdout",
       "text": [
        "argc = 8\n",
        "Argument 0 = -c\n",
        "Argument 1 = -f\n",
        "Argument 2 = C:\\Users\\Aman Jain\\.ipython\\profile_default\\security\\kernel-dfe059f6-c65f-4f35-99cb-1d8e989160d1.json\n",
        "Argument 3 = --IPKernelApp.parent_appname='ipython-notebook'\n",
        "Argument 4 = --profile-dir\n",
        "Argument 5 = C:\\Users\\Aman Jain\\.ipython\\profile_default\n",
        "Argument 6 = --interrupt=2108\n",
        "Argument 7 = --parent=2096\n"
       ]
      }
     ],
     "prompt_number": 21
    },
    {
     "cell_type": "heading",
     "level": 2,
     "metadata": {},
     "source": [
      "Example 12.22, Page Number 623"
     ]
    },
    {
     "cell_type": "code",
     "collapsed": false,
     "input": [
      "import sys\n",
      "                                     \n",
      "if not(len(sys.argv)==2):             \n",
      "    print \"Format: otype filename\"\n",
      "else:\n",
      "                                #Open a file\n",
      "    infile=open(sys.argv[1],'r')\n",
      "\n",
      "                                #In case file cannot open\n",
      "    if(not(infile)):\n",
      "        print \"Cannot open file.\"\n",
      "    else:\n",
      "                                #Read file\n",
      "        ch=In.read()\n",
      "        print ch\n",
      "        In.close()"
     ],
     "language": "python",
     "metadata": {},
     "outputs": [
      {
       "output_type": "stream",
       "stream": "stdout",
       "text": [
        "Format: otype filename\n"
       ]
      }
     ],
     "prompt_number": 22
    },
    {
     "cell_type": "heading",
     "level": 2,
     "metadata": {},
     "source": [
      "Example 12.23, Page Number 625"
     ]
    },
    {
     "cell_type": "code",
     "collapsed": false,
     "input": [
      "s1 = \"\\nToday's winning number is \"\n",
      "n1 = \"17982\"\n",
      "\n",
      "outfile = open(\"PRN1.txt\",'w')     #open the file\n",
      "\n",
      "                        #send data to file\n",
      "outfile.write(s1)\n",
      "outfile.write(n1)\n",
      "outfile.write(\"\\x0C\")\n",
      "\n",
      "outfile.close()"
     ],
     "language": "python",
     "metadata": {},
     "outputs": [],
     "prompt_number": 23
    },
    {
     "cell_type": "heading",
     "level": 2,
     "metadata": {},
     "source": [
      "Example 12.24, Page Number 625"
     ]
    },
    {
     "cell_type": "code",
     "collapsed": false,
     "input": [
      "import sys\n",
      "                                     \n",
      "if not(len(sys.argv)==2):\n",
      "    print \"Format: otype filename\"\n",
      "else:\n",
      "                                #Open a file\n",
      "    infile=open(sys.argv[1],'r')\n",
      "\n",
      "                                #In case file cannot open\n",
      "    if(not(infile)):\n",
      "        print \"Cannot open file.\"\n",
      "    else:\n",
      "        outfile = open(\"PRN1.txt\")\n",
      "        ch=In.read()\n",
      "        print ch\n",
      "        In.close()"
     ],
     "language": "python",
     "metadata": {},
     "outputs": [
      {
       "output_type": "stream",
       "stream": "stdout",
       "text": [
        "Format: otype filename\n"
       ]
      }
     ],
     "prompt_number": 24
    },
    {
     "cell_type": "code",
     "collapsed": false,
     "input": [],
     "language": "python",
     "metadata": {},
     "outputs": []
    }
   ],
   "metadata": {}
  }
 ]
}