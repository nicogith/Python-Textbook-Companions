{
 "metadata": {
  "name": "",
  "signature": "sha256:ab6ac684b51a5d325a82c969da5eb63f77af7f08482f4de24c0a1bba07a7b4b7"
 },
 "nbformat": 3,
 "nbformat_minor": 0,
 "worksheets": [
  {
   "cells": [
    {
     "cell_type": "heading",
     "level": 1,
     "metadata": {},
     "source": [
      "Chapter 13: Multifile Programs"
     ]
    },
    {
     "cell_type": "heading",
     "level": 2,
     "metadata": {},
     "source": [
      "Example 13.1, Page Number 657"
     ]
    },
    {
     "cell_type": "code",
     "collapsed": false,
     "input": [
      "fact = 1\n",
      "\n",
      "numb = input(\"Enter number: \")            #Enter a long number\n",
      "\n",
      "for j in range (numb,0,-1):               #factorial is numb * numb-1 * numb-2 * numb-3 and so on\n",
      "    fact *= j\n",
      "    \n",
      "print \"Factorial is:\",fact                #display factorial"
     ],
     "language": "python",
     "metadata": {},
     "outputs": [
      {
       "name": "stdout",
       "output_type": "stream",
       "stream": "stdout",
       "text": [
        "Enter number: 100\n"
       ]
      },
      {
       "output_type": "stream",
       "stream": "stdout",
       "text": [
        "Factorial is: 93326215443944152681699238856266700490715968264381621468592963895217599993229915608941463976156518286253697920827223758251185210916864000000000000000000000000\n"
       ]
      }
     ],
     "prompt_number": 1
    },
    {
     "cell_type": "code",
     "collapsed": false,
     "input": [],
     "language": "python",
     "metadata": {},
     "outputs": []
    }
   ],
   "metadata": {}
  }
 ]
}