{
 "metadata": {
  "name": "",
  "signature": "sha256:dfe6721ac5865b13382527eb98cf85f121f742b7bca64a3e85e05ff14773232e"
 },
 "nbformat": 3,
 "nbformat_minor": 0,
 "worksheets": [
  {
   "cells": [
    {
     "cell_type": "heading",
     "level": 1,
     "metadata": {},
     "source": [
      "Chapter 5: Functions"
     ]
    },
    {
     "cell_type": "heading",
     "level": 2,
     "metadata": {},
     "source": [
      "Example 5.1, Page Number: 163"
     ]
    },
    {
     "cell_type": "code",
     "collapsed": false,
     "input": [
      "def starline():                  #function declarator\n",
      "    for j in range(25):          #function body\n",
      "        print '*', \n",
      "    print\n",
      "    \n",
      "    \n",
      "starline()                       #call to function\n",
      "print 'Data type   Range'\n",
      "starline()                       #call to function\n",
      "print 'Char        -128 to 127'\n",
      "print 'short       -32,768 to 32,767'\n",
      "print 'int         System dependent'\n",
      "print 'long        -2,147,483,648 to 2,147,483,647'\n",
      "starline()                       #call to function"
     ],
     "language": "python",
     "metadata": {},
     "outputs": [
      {
       "output_type": "stream",
       "stream": "stdout",
       "text": [
        "* * * * * * * * * * * * * * * * * * * * * * * * *\n",
        "Data type   Range\n",
        "* * * * * * * * * * * * * * * * * * * * * * * * *\n",
        "Char        -128 to 127\n",
        "short       -32,768 to 32,767\n",
        "int         System dependent\n",
        "long        -2,147,483,648 to 2,147,483,647\n",
        "* * * * * * * * * * * * * * * * * * * * * * * * *\n"
       ]
      }
     ],
     "prompt_number": 1
    },
    {
     "cell_type": "heading",
     "level": 2,
     "metadata": {},
     "source": [
      "Example 5.2, Page Number: 167"
     ]
    },
    {
     "cell_type": "code",
     "collapsed": false,
     "input": [
      "                #function definition\n",
      "def starline():\n",
      "    for j in range(25):\n",
      "        print '*',\n",
      "    print\n",
      "    \n",
      "    \n",
      "starline()                          #call to function\n",
      "print 'Data type   Range'\n",
      "starline()                          #call to function\n",
      "print 'Char        -128 to 127'\n",
      "print 'short       -32,768 to 32,767'\n",
      "print 'int         System dependent'\n",
      "print 'long        -2,147,483,648 to 2,147,483,647'\n",
      "starline()                          #call to function"
     ],
     "language": "python",
     "metadata": {},
     "outputs": [
      {
       "output_type": "stream",
       "stream": "stdout",
       "text": [
        "* * * * * * * * * * * * * * * * * * * * * * * * *\n",
        "Data type   Range\n",
        "* * * * * * * * * * * * * * * * * * * * * * * * *\n",
        "Char        -128 to 127\n",
        "short       -32,768 to 32,767\n",
        "int         System dependent\n",
        "long        -2,147,483,648 to 2,147,483,647\n",
        "* * * * * * * * * * * * * * * * * * * * * * * * *\n"
       ]
      }
     ],
     "prompt_number": 2
    },
    {
     "cell_type": "heading",
     "level": 2,
     "metadata": {},
     "source": [
      "Example 5.3, Page Number: 168"
     ]
    },
    {
     "cell_type": "code",
     "collapsed": false,
     "input": [
      "def repchar(ch,n):                    #function declarator\n",
      "    for j in range(n):                #function body\n",
      "        print ch,\n",
      "    print\n",
      "   \n",
      "    \n",
      "repchar('-',22)                       #call to function\n",
      "print 'Data type   Range'\n",
      "repchar('=',12)                       #call to function\n",
      "print 'Char        -128 to 127'\n",
      "print 'short       -32,768 to 32,767'\n",
      "print 'int         System dependent'\n",
      "print 'long        -2,147,483,648 to 2,147,483,647'\n",
      "repchar('-',22)                       #call to function"
     ],
     "language": "python",
     "metadata": {},
     "outputs": [
      {
       "output_type": "stream",
       "stream": "stdout",
       "text": [
        "- - - - - - - - - - - - - - - - - - - - - -\n",
        "Data type   Range\n",
        "= = = = = = = = = = = =\n",
        "Char        -128 to 127\n",
        "short       -32,768 to 32,767\n",
        "int         System dependent\n",
        "long        -2,147,483,648 to 2,147,483,647\n",
        "- - - - - - - - - - - - - - - - - - - - - -\n"
       ]
      }
     ],
     "prompt_number": 3
    },
    {
     "cell_type": "heading",
     "level": 2,
     "metadata": {},
     "source": [
      "Example 5.4, Page Number: 169"
     ]
    },
    {
     "cell_type": "code",
     "collapsed": false,
     "input": [
      "def repchar(ch,n):                    #function declarator\n",
      "    for j in range(n):                #function body\n",
      "        print ch,\n",
      "    print\n",
      "    \n",
      "    \n",
      "chin = raw_input(\"Enter a character: \")             #get character from user\n",
      "\n",
      "nin = input(\"Enter number of times to repeat it: \")  #get repetition\n",
      "\n",
      "repchar(chin,nin)                       #call to function"
     ],
     "language": "python",
     "metadata": {},
     "outputs": [
      {
       "name": "stdout",
       "output_type": "stream",
       "stream": "stdout",
       "text": [
        "Enter a character: +\n"
       ]
      },
      {
       "name": "stdout",
       "output_type": "stream",
       "stream": "stdout",
       "text": [
        "Enter number of times to repeat it: 20\n"
       ]
      },
      {
       "output_type": "stream",
       "stream": "stdout",
       "text": [
        "+ + + + + + + + + + + + + + + + + + + +\n"
       ]
      }
     ],
     "prompt_number": 4
    },
    {
     "cell_type": "heading",
     "level": 2,
     "metadata": {},
     "source": [
      "Example 5.5, Page Number: 172"
     ]
    },
    {
     "cell_type": "code",
     "collapsed": false,
     "input": [
      "class Distance:                #Distance class\n",
      "    feet = None\n",
      "    inches = None\n",
      "\n",
      "                               #function for display distance\n",
      "def engldisp(dd):              #parameter dd of type Distance\n",
      "    print dd.feet,'\\' -',dd.inches,'\\\"',\n",
      "    \n",
      "                        #define two lengths\n",
      "d1 = Distance()\n",
      "d2 = Distance()\n",
      "\n",
      "                        #get length d1 from user\n",
      "d1.feet = input(\"Enter feet: \")\n",
      "d1.inches = input(\"Enter inches: \")\n",
      "\n",
      "                        #get length d2 from user\n",
      "d2.feet = input(\"\\nEnter feet: \")\n",
      "d2.inches = input(\"Enter inches: \")\n",
      "\n",
      "print '\\nd1 =',          #display length 1\n",
      "engldisp(d1)\n",
      "\n",
      "print '\\nd2 =',          #display length 2\n",
      "engldisp(d2)"
     ],
     "language": "python",
     "metadata": {},
     "outputs": [
      {
       "name": "stdout",
       "output_type": "stream",
       "stream": "stdout",
       "text": [
        "Enter feet: 6\n"
       ]
      },
      {
       "name": "stdout",
       "output_type": "stream",
       "stream": "stdout",
       "text": [
        "Enter inches: 4\n"
       ]
      },
      {
       "name": "stdout",
       "output_type": "stream",
       "stream": "stdout",
       "text": [
        "\n",
        "Enter feet: 5\n"
       ]
      },
      {
       "name": "stdout",
       "output_type": "stream",
       "stream": "stdout",
       "text": [
        "Enter inches: 4.25\n"
       ]
      },
      {
       "output_type": "stream",
       "stream": "stdout",
       "text": [
        "\n",
        "d1 = 6 ' - 4 \" \n",
        "d2 = 5 ' - 4.25 \"\n"
       ]
      }
     ],
     "prompt_number": 5
    },
    {
     "cell_type": "heading",
     "level": 2,
     "metadata": {},
     "source": [
      "Example 5.6, Page Number: 174"
     ]
    },
    {
     "cell_type": "code",
     "collapsed": false,
     "input": [
      "from turtle import *       #importing turtles library\n",
      "\n",
      "class circle:          #defining circle class\n",
      "    xCo = None\n",
      "    yCo = None\n",
      "    radius = None\n",
      "    fillcolor = None\n",
      "\n",
      "                        #draw circle\n",
      "def circ_draw(c):\n",
      "    setup()\n",
      "    turtle = Turtle()\n",
      "    turtle.begin_fill()\n",
      "    turtle.color(c.fillcolor)\n",
      "    turtle.up()\n",
      "    turtle.goto(c.xCo,c.yCo)\n",
      "    turtle.down()\n",
      "    turtle.circle(c.radius)\n",
      "    turtle.end_fill()\n",
      "    turtle.hideturtle()\n",
      "    done()\n",
      "    \n",
      "    \n",
      "    \n",
      "                    #create circles\n",
      "c1 = circle()\n",
      "c2 = circle()\n",
      "c3 = circle()\n",
      "        \n",
      "                    #initialize the values of each circle\n",
      "c1.xCo = 15\n",
      "c1.yCo = 7\n",
      "c1.radius = 5\n",
      "c1.fillcolor = \"Blue\"\n",
      "\n",
      "c2.xCo = 41\n",
      "c2.yCo = 12\n",
      "c2.radius = 7\n",
      "c2.fillcolor = \"Red\"\n",
      "\n",
      "c3.xCo = 65\n",
      "c3.yCo = 18\n",
      "c3.radius = 4\n",
      "c3.fillcolor = \"Green\"\n",
      "\n",
      "                    #draw circle\n",
      "circ_draw(c1)\n",
      "circ_draw(c2)\n",
      "circ_draw(c3)"
     ],
     "language": "python",
     "metadata": {},
     "outputs": [],
     "prompt_number": 6
    },
    {
     "cell_type": "heading",
     "level": 2,
     "metadata": {},
     "source": [
      "Example 5.7, Page Number: 176"
     ]
    },
    {
     "cell_type": "code",
     "collapsed": false,
     "input": [
      "def lbstokg(pounds):                #function for converting pounds to kilograms\n",
      "    kilograms = 0.453592 * pounds\n",
      "    return kilograms\n",
      "\n",
      "lbs = input(\"Enter your weight in pounds: \")         #get the weight from user\n",
      "\n",
      "kgs = lbstokg(lbs)          #function call \n",
      "\n",
      "print 'Your weight in kilogram is',kgs,'\\n'         #display weight from pounds to kilogram"
     ],
     "language": "python",
     "metadata": {},
     "outputs": [
      {
       "name": "stdout",
       "output_type": "stream",
       "stream": "stdout",
       "text": [
        "Enter your weight in pounds: 182\n"
       ]
      },
      {
       "output_type": "stream",
       "stream": "stdout",
       "text": [
        "Your weight in kilogram is 82.553744 \n",
        "\n"
       ]
      }
     ],
     "prompt_number": 7
    },
    {
     "cell_type": "heading",
     "level": 2,
     "metadata": {},
     "source": [
      "Example 5.8, Page Number: 179"
     ]
    },
    {
     "cell_type": "code",
     "collapsed": false,
     "input": [
      "def lbstokg(pounds):                #function for converting pounds to kilogram\n",
      "    return 0.453592 * pounds\n",
      "\n",
      "lbs = input(\"Enter your weight in pounds: \")         #get the weight from user\n",
      "\n",
      "print 'Your weight in kilogram is',lbstokg(lbs),'\\n'   #call function an display weight"
     ],
     "language": "python",
     "metadata": {},
     "outputs": [
      {
       "name": "stdout",
       "output_type": "stream",
       "stream": "stdout",
       "text": [
        "Enter your weight in pounds: 182\n"
       ]
      },
      {
       "output_type": "stream",
       "stream": "stdout",
       "text": [
        "Your weight in kilogram is 82.553744 \n",
        "\n"
       ]
      }
     ],
     "prompt_number": 8
    },
    {
     "cell_type": "heading",
     "level": 2,
     "metadata": {},
     "source": [
      "Example 5.9, Page Number: 180"
     ]
    },
    {
     "cell_type": "code",
     "collapsed": false,
     "input": [
      "class Distance:                 #Distance class\n",
      "    feet = None\n",
      "    inches = None\n",
      "\n",
      "def addeng1(dd1,dd2):          #function for add two lengths\n",
      "    \n",
      "    dd3 = Distance()           #define a new structure for sum\n",
      "    \n",
      "    dd3.inches = dd1.inches + dd2.inches        #add the inches\n",
      "    dd3.feet = 0\n",
      "\n",
      "    if dd3.inches>=12.0:       #if inches >= 12.0\n",
      "        dd3.inches -= 12.0     #then decrease inches by 12,0\n",
      "        dd3.feet += 1          #and increase feet by 1\n",
      "        \n",
      "    dd3.feet += dd1.feet + dd2.feet        #add feet\n",
      "    \n",
      "    return dd3                 #return structure\n",
      "  \n",
      "    \n",
      "def engldisp(dd):              #display the length\n",
      "    print dd.feet,'\\' -',dd.inches,'\\\"',\n",
      "    \n",
      "    \n",
      "    \n",
      "    \n",
      "                    #define three lengths\n",
      "d1 = Distance()\n",
      "d2 = Distance()\n",
      "d3 = Distance()\n",
      "\n",
      "                        #get length d1 from user\n",
      "d1.feet = input(\"Enter feet: \")\n",
      "d1.inches = input(\"Enter inches: \")\n",
      "\n",
      "                        #get length d2 from user\n",
      "d2.feet = input(\"\\nEnter feet: \")\n",
      "d2.inches = input(\"Enter inches: \")\n",
      "                \n",
      "d3 = addeng1(d1,d2)        #d3 is sum of d1 and d2\n",
      "\n",
      "print '\\n',                #display all lengths\n",
      "engldisp(d1); print ' + ',\n",
      "engldisp(d2); print ' = ',\n",
      "engldisp(d3); print '\\n'"
     ],
     "language": "python",
     "metadata": {},
     "outputs": [
      {
       "name": "stdout",
       "output_type": "stream",
       "stream": "stdout",
       "text": [
        "Enter feet: 4\n"
       ]
      },
      {
       "name": "stdout",
       "output_type": "stream",
       "stream": "stdout",
       "text": [
        "Enter inches: 5.5\n"
       ]
      },
      {
       "name": "stdout",
       "output_type": "stream",
       "stream": "stdout",
       "text": [
        "\n",
        "Enter feet: 5\n"
       ]
      },
      {
       "name": "stdout",
       "output_type": "stream",
       "stream": "stdout",
       "text": [
        "Enter inches: 6.5\n"
       ]
      },
      {
       "output_type": "stream",
       "stream": "stdout",
       "text": [
        "\n",
        "4 ' - 5.5 \"  +  5 ' - 6.5 \"  =  10 ' - 0.0 \" \n",
        "\n"
       ]
      }
     ],
     "prompt_number": 9
    },
    {
     "cell_type": "heading",
     "level": 2,
     "metadata": {},
     "source": [
      "Example 5.10, Page Number: 182"
     ]
    },
    {
     "cell_type": "code",
     "collapsed": false,
     "input": [
      "def intfrac(n):                    #function for finding the integer and fractional part of real number\n",
      "    temp = n\n",
      "    intp = int(temp)          #convert to int\n",
      "    fracp = n - intp          #subtract integer part to get fractional part\n",
      "    return intp,fracp\n",
      "\n",
      "\n",
      "while True:\n",
      "    \n",
      "    number = input(\"Enter a real number: \")            #get number from user\n",
      "    \n",
      "    intpart,fracpart = intfrac(number)                 #function call\n",
      "    \n",
      "    if number == 0.0:        #exit loop when number is 0.0\n",
      "        break\n",
      "        \n",
      "    print 'Integer part is',intpart,', fraction part is',fracpart,'\\n'       #print integer and fractional part"
     ],
     "language": "python",
     "metadata": {},
     "outputs": [
      {
       "name": "stdout",
       "output_type": "stream",
       "stream": "stdout",
       "text": [
        "Enter a real number: 99.44\n"
       ]
      },
      {
       "output_type": "stream",
       "stream": "stdout",
       "text": [
        "Integer part is 99 , fraction part is 0.44 \n",
        "\n"
       ]
      },
      {
       "name": "stdout",
       "output_type": "stream",
       "stream": "stdout",
       "text": [
        "Enter a real number: 0\n"
       ]
      }
     ],
     "prompt_number": 10
    },
    {
     "cell_type": "heading",
     "level": 2,
     "metadata": {},
     "source": [
      "Example 5.11, Page Number: 185"
     ]
    },
    {
     "cell_type": "code",
     "collapsed": false,
     "input": [
      "def order(numb1,numb2):        #orders of two numbers\n",
      "    \n",
      "    if numb1>numb2:            #if 1st larger than 2nd\n",
      "        temp = numb1           #swap them\n",
      "        numb1 = numb2\n",
      "        numb2 = temp\n",
      "        \n",
      "    return numb1,numb2\n",
      "\n",
      "\n",
      "\n",
      "n1 = 99       #this pair not ordered\n",
      "n2 = 11\n",
      "\n",
      "n3 = 22       #this pair ordered\n",
      "n4 = 88\n",
      "\n",
      "n1,n2 = order(n1,n2)           #order each pair of numbers\n",
      "n3,n4 = order(n3,n4)\n",
      "\n",
      "print 'n1 =',n1             #print out all numbers\n",
      "print 'n2 =',n2\n",
      "print 'n3 =',n3\n",
      "print 'n4 =',n4"
     ],
     "language": "python",
     "metadata": {},
     "outputs": [
      {
       "output_type": "stream",
       "stream": "stdout",
       "text": [
        "n1 = 11\n",
        "n2 = 99\n",
        "n3 = 22\n",
        "n4 = 88\n"
       ]
      }
     ],
     "prompt_number": 11
    },
    {
     "cell_type": "heading",
     "level": 2,
     "metadata": {},
     "source": [
      "Example 5.12, Page Number: 186"
     ]
    },
    {
     "cell_type": "code",
     "collapsed": false,
     "input": [
      "class Distance:                 #class Distance\n",
      "    feet = None\n",
      "    inches = None\n",
      "    \n",
      "def scale(dd,factor):           #Scales value of type Distance by factor\n",
      "    inches = (dd.feet*12 + dd.inches) * factor\n",
      "    dd.feet = int(inches/12)\n",
      "    dd.inches = inches - dd.feet * 12\n",
      "    return dd\n",
      "\n",
      "def engldisp(dd):               #dispaly length\n",
      "    print dd.feet,'\\' -',dd.inches,'\\\"'\n",
      "\n",
      "    \n",
      "    \n",
      "d1 = Distance()           #initialize d1\n",
      "d1.feet = 12\n",
      "d1.inches = 6.5\n",
      "\n",
      "d2 = Distance()           #initialize d2\n",
      "d2.feet = 10\n",
      "d2.inches = 5.5\n",
      "\n",
      "print 'd1 =', ; engldisp(d1)          #display old d1 and d2\n",
      "print 'd2 =', ; engldisp(d2)\n",
      "\n",
      "d1 = scale(d1,0.5)              #scale d1 and d2\n",
      "d2 = scale(d2,0.25)\n",
      "\n",
      "print 'd1 =', ; engldisp(d1)          #display new d1 and d2\n",
      "print 'd2 =', ; engldisp(d2)"
     ],
     "language": "python",
     "metadata": {},
     "outputs": [
      {
       "output_type": "stream",
       "stream": "stdout",
       "text": [
        "d1 = 12 ' - 6.5 \"\n",
        "d2 = 10 ' - 5.5 \"\n",
        "d1 = 6 ' - 3.25 \"\n",
        "d2 = 2 ' - 7.375 \"\n"
       ]
      }
     ],
     "prompt_number": 12
    },
    {
     "cell_type": "heading",
     "level": 2,
     "metadata": {},
     "source": [
      "Example 5.13, Page Number: 189"
     ]
    },
    {
     "cell_type": "code",
     "collapsed": false,
     "input": [
      "def repchar(ch=None,n=None):           #display specified character\n",
      "    \n",
      "    if ch == None:\n",
      "        for j in range(45):            #display 45 asterisks\n",
      "            print '*',\n",
      "        print ''\n",
      "        \n",
      "    elif n == None:\n",
      "        for j in range(45):           #display 45 specified character\n",
      "            print ch,\n",
      "        print ''\n",
      "        \n",
      "    else:\n",
      "        for j in range(n):            #display specified number of copies of specified character \n",
      "            print ch,\n",
      "        print ''\n",
      "        \n",
      "        \n",
      "repchar()                    #call functions\n",
      "repchar('=')\n",
      "repchar('+',30)"
     ],
     "language": "python",
     "metadata": {},
     "outputs": [
      {
       "output_type": "stream",
       "stream": "stdout",
       "text": [
        "* * * * * * * * * * * * * * * * * * * * * * * * * * * * * * * * * * * * * * * * * * * * * \n",
        "= = = = = = = = = = = = = = = = = = = = = = = = = = = = = = = = = = = = = = = = = = = = = \n",
        "+ + + + + + + + + + + + + + + + + + + + + + + + + + + + + + \n"
       ]
      }
     ],
     "prompt_number": 13
    },
    {
     "cell_type": "heading",
     "level": 2,
     "metadata": {},
     "source": [
      "Example 5.14, Page Number: 191"
     ]
    },
    {
     "cell_type": "code",
     "collapsed": false,
     "input": [
      "class Distance:                #Distance class\n",
      "    feet = None\n",
      "    inches = None\n",
      "\n",
      "    \n",
      "#function overloading\n",
      "def engldisp(dd):              \n",
      "    \n",
      "    if isinstance(dd,float):       #if dd is float type\n",
      "        feet = int(dd/12)\n",
      "        inches = dd - feet*12\n",
      "        print feet,'\\' -',inches,'\\\"',\n",
      "        \n",
      "    else:                           #if parameter dd of type Distance\n",
      "        print dd.feet,'\\' -',dd.inches,'\\\"',\n",
      "        \n",
      "        \n",
      "        \n",
      "d1 = Distance()                          #distance of type Distance\n",
      "d1.feet = input(\"Enter feet: \")          #get d1 from user\n",
      "d1.inches = input(\"Enter inches: \")\n",
      "\n",
      "d2 = input(\"\\nEnter entire distance in inches: \")        #distance of type float\n",
      "\n",
      "print '\\nd1 =',           #display length d1\n",
      "engldisp(d1)\n",
      "\n",
      "print '\\nd2 =',         #display length d2\n",
      "engldisp(d2)"
     ],
     "language": "python",
     "metadata": {},
     "outputs": [
      {
       "name": "stdout",
       "output_type": "stream",
       "stream": "stdout",
       "text": [
        "Enter feet: 5\n"
       ]
      },
      {
       "name": "stdout",
       "output_type": "stream",
       "stream": "stdout",
       "text": [
        "Enter inches: 10.5\n"
       ]
      },
      {
       "name": "stdout",
       "output_type": "stream",
       "stream": "stdout",
       "text": [
        "\n",
        "Enter entire distance in inches: 76.5\n"
       ]
      },
      {
       "output_type": "stream",
       "stream": "stdout",
       "text": [
        "\n",
        "d1 = 5 ' - 10.5 \" \n",
        "d2 = 6 ' - 4.5 \"\n"
       ]
      }
     ],
     "prompt_number": 14
    },
    {
     "cell_type": "heading",
     "level": 2,
     "metadata": {},
     "source": [
      "Example 5.15, Page Number: 193"
     ]
    },
    {
     "cell_type": "code",
     "collapsed": false,
     "input": [
      "def factfunc(n):               #calls itself to calculate factorials\n",
      "    \n",
      "    if n>1:\n",
      "        return n * factfunc(n-1)\n",
      "    else:\n",
      "        return 1\n",
      "    \n",
      "    \n",
      "n = input(\"Enter an integer: \")             #get number from user\n",
      "\n",
      "fact = factfunc(n)                          #function call for factorial\n",
      "print 'Factorial of',n,'is',fact,'\\n'       #dsplay factorial"
     ],
     "language": "python",
     "metadata": {},
     "outputs": [
      {
       "name": "stdout",
       "output_type": "stream",
       "stream": "stdout",
       "text": [
        "Enter an integer: 5\n"
       ]
      },
      {
       "output_type": "stream",
       "stream": "stdout",
       "text": [
        "Factorial of 5 is 120 \n",
        "\n"
       ]
      }
     ],
     "prompt_number": 15
    },
    {
     "cell_type": "heading",
     "level": 2,
     "metadata": {},
     "source": [
      "Example 5.16, Page Number: 197"
     ]
    },
    {
     "cell_type": "code",
     "collapsed": false,
     "input": [
      "#inline function\n",
      "lbstokg = lambda pounds: 0.453592 * pounds             #converts pounds to kilogram\n",
      "\n",
      "lbs = input(\"Enter your weight in pounds: \")           #get weight from user\n",
      "print 'Your weight in kilogram is',lbstokg(lbs)        #convert it and display"
     ],
     "language": "python",
     "metadata": {},
     "outputs": [
      {
       "name": "stdout",
       "output_type": "stream",
       "stream": "stdout",
       "text": [
        "Enter your weight in pounds: 182\n"
       ]
      },
      {
       "output_type": "stream",
       "stream": "stdout",
       "text": [
        "Your weight in kilogram is 82.553744\n"
       ]
      }
     ],
     "prompt_number": 16
    },
    {
     "cell_type": "heading",
     "level": 2,
     "metadata": {},
     "source": [
      "Example 5.17, Page Number: 198"
     ]
    },
    {
     "cell_type": "code",
     "collapsed": false,
     "input": [
      "def repchar(ch='*',n=45):        #function with default arguments\n",
      "    for j in range(n):           #loops n times\n",
      "        print ch,                #print ch\n",
      "    print\n",
      "                       \n",
      "        \n",
      "repchar()                #prints 45 asterisks\n",
      "repchar('=')             #prints 45 equal sign\n",
      "repchar('+',30)          #prints 30 plus sign"
     ],
     "language": "python",
     "metadata": {},
     "outputs": [
      {
       "output_type": "stream",
       "stream": "stdout",
       "text": [
        "* * * * * * * * * * * * * * * * * * * * * * * * * * * * * * * * * * * * * * * * * * * * *\n",
        "= = = = = = = = = = = = = = = = = = = = = = = = = = = = = = = = = = = = = = = = = = = = =\n",
        "+ + + + + + + + + + + + + + + + + + + + + + + + + + + + + +\n"
       ]
      }
     ],
     "prompt_number": 17
    },
    {
     "cell_type": "heading",
     "level": 2,
     "metadata": {},
     "source": [
      "Example 5.18, Page Number: 202"
     ]
    },
    {
     "cell_type": "code",
     "collapsed": false,
     "input": [
      "ch = 'a'\n",
      "\n",
      "def getachar():            #function for accesses text line\n",
      "    global ch\n",
      "    ch = raw_input()\n",
      "\n",
      "def putachar():        #function for display text line\n",
      "    global ch\n",
      "    print ch\n",
      "    \n",
      "    \n",
      "getachar()         #functions call\n",
      "putachar()"
     ],
     "language": "python",
     "metadata": {},
     "outputs": [
      {
       "name": "stdout",
       "output_type": "stream",
       "stream": "stdout",
       "text": [
        "I'm typing in this line if text\n"
       ]
      },
      {
       "output_type": "stream",
       "stream": "stdout",
       "text": [
        "I'm typing in this line if text\n"
       ]
      }
     ],
     "prompt_number": 18
    },
    {
     "cell_type": "heading",
     "level": 2,
     "metadata": {},
     "source": [
      "Example 5.19, Page Number: 204"
     ]
    },
    {
     "cell_type": "code",
     "collapsed": false,
     "input": [
      "total = 0           #works as static variables\n",
      "count = 0\n",
      "\n",
      "def getavg(newdata):      #function for finds average of old and new data\n",
      "    global total\n",
      "    global count\n",
      "    \n",
      "    count += 1             #increment count\n",
      "    total += newdata       #add new data to total\n",
      "    \n",
      "    return total / count      #return the new average\n",
      "\n",
      "\n",
      "\n",
      "data = 1\n",
      "\n",
      "while(data != 0):\n",
      "    data = input(\"Enter a number: \")       #get data from user\n",
      "    avg = getavg(data)                     #find out average each time\n",
      "    print 'new average is',avg             #print average"
     ],
     "language": "python",
     "metadata": {},
     "outputs": [
      {
       "name": "stdout",
       "output_type": "stream",
       "stream": "stdout",
       "text": [
        "Enter a number: 10\n"
       ]
      },
      {
       "output_type": "stream",
       "stream": "stdout",
       "text": [
        "new average is 10\n"
       ]
      },
      {
       "name": "stdout",
       "output_type": "stream",
       "stream": "stdout",
       "text": [
        "Enter a number: 20\n"
       ]
      },
      {
       "output_type": "stream",
       "stream": "stdout",
       "text": [
        "new average is 15\n"
       ]
      },
      {
       "name": "stdout",
       "output_type": "stream",
       "stream": "stdout",
       "text": [
        "Enter a number: 30\n"
       ]
      },
      {
       "output_type": "stream",
       "stream": "stdout",
       "text": [
        "new average is 20\n"
       ]
      },
      {
       "name": "stdout",
       "output_type": "stream",
       "stream": "stdout",
       "text": [
        "Enter a number: 0\n"
       ]
      },
      {
       "output_type": "stream",
       "stream": "stdout",
       "text": [
        "new average is 15\n"
       ]
      }
     ],
     "prompt_number": 19
    },
    {
     "cell_type": "heading",
     "level": 2,
     "metadata": {},
     "source": [
      "Example 5.20, Page Number: 206"
     ]
    },
    {
     "cell_type": "code",
     "collapsed": false,
     "input": [
      "x = None                #global variable\n",
      "\n",
      "def setx():             #returns the value to be modified\n",
      "    global x\n",
      "    return x\n",
      "\n",
      "\n",
      "x = 92                 #set x to a value\n",
      "\n",
      "print 'x =',setx()      #and print x using functon call"
     ],
     "language": "python",
     "metadata": {},
     "outputs": [
      {
       "output_type": "stream",
       "stream": "stdout",
       "text": [
        "x = 92\n"
       ]
      }
     ],
     "prompt_number": 20
    },
    {
     "cell_type": "heading",
     "level": 2,
     "metadata": {},
     "source": [
      "Example 5.21, Page Number: 208"
     ]
    },
    {
     "cell_type": "code",
     "collapsed": false,
     "input": [
      "def aFunc(a,b):        #functon for modify the arguments\n",
      "    a = 107\n",
      "    b = 111\n",
      "    return a,b\n",
      "\n",
      "\n",
      "alpha = 7\n",
      "beta = 11\n",
      "\n",
      "alpha,beta = aFunc(alpha,beta)            #function call"
     ],
     "language": "python",
     "metadata": {},
     "outputs": [],
     "prompt_number": 21
    },
    {
     "cell_type": "code",
     "collapsed": false,
     "input": [],
     "language": "python",
     "metadata": {},
     "outputs": []
    }
   ],
   "metadata": {}
  }
 ]
}