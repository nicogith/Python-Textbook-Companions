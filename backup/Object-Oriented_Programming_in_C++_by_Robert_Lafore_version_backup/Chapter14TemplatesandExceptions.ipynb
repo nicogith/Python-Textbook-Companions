{
 "metadata": {
  "name": "",
  "signature": "sha256:5687925b0ce89c3c7fdffea973edf76fe3b10da3a53391d98b50115e63f96ddd"
 },
 "nbformat": 3,
 "nbformat_minor": 0,
 "worksheets": [
  {
   "cells": [
    {
     "cell_type": "heading",
     "level": 1,
     "metadata": {},
     "source": [
      "Chapter 14: Templates and Exceptions"
     ]
    },
    {
     "cell_type": "heading",
     "level": 2,
     "metadata": {},
     "source": [
      "Example 14.1, Page Number 684"
     ]
    },
    {
     "cell_type": "code",
     "collapsed": false,
     "input": [
      "def abs(n):                  #absolute function\n",
      "    if n<0:\n",
      "        return -n\n",
      "    else:\n",
      "        return n\n",
      "\n",
      "#variables\n",
      "int1 = 5\n",
      "int2 = -6\n",
      "lon1 = 70000\n",
      "lon2 = -80000\n",
      "dub1 = 9.95\n",
      "dub2 = -10.15\n",
      "\n",
      "#call instantiate functions\n",
      "print 'abs(%d)=%d' %(int1,abs(int1))       #abs(int)\n",
      "print 'abs(%d)=%d' %(int2,abs(int2))       #abs(int)\n",
      "print 'abs(%d)=%d' %(lon1,abs(lon1))       #abs(long)\n",
      "print 'abs(%d)=%d' %(lon2,abs(lon2))       #abs(long)\n",
      "print 'abs(%.2f)=%.2f' %(dub1,abs(dub1))   #abs(double)\n",
      "print 'abs(%.2f)=%.2f' %(dub2,abs(dub2))   #abs(double)"
     ],
     "language": "python",
     "metadata": {},
     "outputs": [
      {
       "output_type": "stream",
       "stream": "stdout",
       "text": [
        "abs(5)=5\n",
        "abs(-6)=6\n",
        "abs(70000)=70000\n",
        "abs(-80000)=80000\n",
        "abs(9.95)=9.95\n",
        "abs(-10.15)=10.15\n"
       ]
      }
     ],
     "prompt_number": 1
    },
    {
     "cell_type": "heading",
     "level": 2,
     "metadata": {},
     "source": [
      "Example 14.2, Page Number 687"
     ]
    },
    {
     "cell_type": "code",
     "collapsed": false,
     "input": [
      "#function returns index number of item, or -1 if not found\n",
      "\n",
      "def find(array, value, size):\n",
      "    for j in range(size):\n",
      "        if array[j] == value:\n",
      "            return j\n",
      "    return -1\n",
      "\n",
      "\n",
      "chrArr = [1, 3, 5, 9, 11, 13]     #array\n",
      "ch = 5                            #value to find\n",
      "\n",
      "intArr = [1, 3, 5, 9, 11, 13]\n",
      "int = 6\n",
      "\n",
      "lonArr = [1, 3, 5, 9, 11, 13]\n",
      "lo = 11\n",
      "\n",
      "dubArr = [1.0, 3.0, 5.0, 9.0, 11.0, 13.0]\n",
      "db = 4.0\n",
      "\n",
      "print ' 5 in chrArray: index =',find(chrArr,ch,6)\n",
      "print ' 6 in intArray: index =',find(intArr,int,6)\n",
      "print '11 in lonArray: index =',find(lonArr,lo,6)\n",
      "print ' 4 in dubArray: index =',find(dubArr,db,6)"
     ],
     "language": "python",
     "metadata": {},
     "outputs": [
      {
       "output_type": "stream",
       "stream": "stdout",
       "text": [
        " 5 in chrArray: index = 2\n",
        " 6 in intArray: index = -1\n",
        "11 in lonArray: index = 4\n",
        " 4 in dubArray: index = -1\n"
       ]
      }
     ],
     "prompt_number": 2
    },
    {
     "cell_type": "heading",
     "level": 2,
     "metadata": {},
     "source": [
      "Example 14.3, Page Number 691"
     ]
    },
    {
     "cell_type": "code",
     "collapsed": false,
     "input": [
      "MAX = 100               #size of array\n",
      "\n",
      "class Stack:\n",
      "    __st = [None]*MAX          #stack: array of any type\n",
      "    \n",
      "    def __init__(self):        #constructor\n",
      "        self.__top = -1        #number of top of stack\n",
      "        \n",
      "    def push(self,var):        #put number on stack\n",
      "        self.__top += 1\n",
      "        self.__st[self.__top] = var\n",
      "        \n",
      "    def pop(self):             #take number off stack\n",
      "        x = self.__st[self.__top]\n",
      "        self.__top -= 1\n",
      "        return x\n",
      "    \n",
      "    \n",
      "     \n",
      "s1 = Stack()                   #s1 is object of class Stack\n",
      "\n",
      "#push 3 floats, pop 3 floats\n",
      "s1.push(1111.1)\n",
      "s1.push(2222.2)\n",
      "s1.push(3333.3)\n",
      "print '1:',s1.pop()\n",
      "print '2:',s1.pop()\n",
      "print '3:',s1.pop()\n",
      "\n",
      "s2 = Stack()                   #s2 is object of class Stack\n",
      "\n",
      "#push 3 longs, pop 3 longs\n",
      "s2.push(123123123)\n",
      "s2.push(234234234)\n",
      "s2.push(345345345)\n",
      "print '1:',s2.pop()\n",
      "print '2:',s2.pop()\n",
      "print '3:',s2.pop()"
     ],
     "language": "python",
     "metadata": {},
     "outputs": [
      {
       "output_type": "stream",
       "stream": "stdout",
       "text": [
        "1: 3333.3\n",
        "2: 2222.2\n",
        "3: 1111.1\n",
        "1: 345345345\n",
        "2: 234234234\n",
        "3: 123123123\n"
       ]
      }
     ],
     "prompt_number": 3
    },
    {
     "cell_type": "heading",
     "level": 2,
     "metadata": {},
     "source": [
      "Example 14.4, Page Number 694"
     ]
    },
    {
     "cell_type": "code",
     "collapsed": false,
     "input": [
      "MAX = 100               #size of array\n",
      "\n",
      "class Stack:\n",
      "    __st = [None]*MAX          #stack: array of any type\n",
      "    \n",
      "    def __init__(self):        #constructor\n",
      "        self.__top = -1        #number of top of stack\n",
      "        \n",
      "    def push(self,var):        #put number on stack\n",
      "        self.__top += 1\n",
      "        self.__st[self.__top] = var\n",
      "        \n",
      "    def pop(self):             #take number off stack\n",
      "        x = self.__st[self.__top]\n",
      "        self.__top -= 1\n",
      "        return x\n",
      "    \n",
      "    \n",
      "    \n",
      "s1 = Stack()                   #s1 is object of class Stack\n",
      "\n",
      "#push 3 floats, pop 3 floats\n",
      "s1.push(1111.1)\n",
      "s1.push(2222.2)\n",
      "s1.push(3333.3)\n",
      "print '1:',s1.pop()\n",
      "print '2:',s1.pop()\n",
      "print '3:',s1.pop()\n",
      "\n",
      "s2 = Stack()                   #s2 is object of class Stack\n",
      "\n",
      "#push 3 longs, pop 3 longs\n",
      "s2.push(123123123)\n",
      "s2.push(234234234)\n",
      "s2.push(345345345)\n",
      "print '1:',s2.pop()\n",
      "print '2:',s2.pop()\n",
      "print '3:',s2.pop()"
     ],
     "language": "python",
     "metadata": {},
     "outputs": [
      {
       "output_type": "stream",
       "stream": "stdout",
       "text": [
        "1: 3333.3\n",
        "2: 2222.2\n",
        "3: 1111.1\n",
        "1: 345345345\n",
        "2: 234234234\n",
        "3: 123123123\n"
       ]
      }
     ],
     "prompt_number": 4
    },
    {
     "cell_type": "heading",
     "level": 2,
     "metadata": {},
     "source": [
      "Example 14.5, Page Number 696"
     ]
    },
    {
     "cell_type": "code",
     "collapsed": false,
     "input": [
      "class link:\n",
      "    def __init__(self):\n",
      "        self.data = None                     #contains the data\n",
      "        self.next = None                     #contains the reference to the next node\n",
      "\n",
      "\n",
      "class linklist:\n",
      "    def __init__(self):\n",
      "        self.first = None\n",
      "\n",
      "    def additem(self, d):\n",
      "        newlink = link()                     #create a new node\n",
      "        newlink.data = d\n",
      "        newlink.next = self.first            #link the new node to the 'previous' node.\n",
      "        self.first = newlink                 #set the current node to the new one.\n",
      "\n",
      "    def display(self):\n",
      "        current = self.first                 #set current to first link\n",
      "        \n",
      "        while current:\n",
      "            print current.data\n",
      "            current = current.next\n",
      "\n",
      "\n",
      "\n",
      "            \n",
      "ld = linklist()              #ld is the object of class linkedlist\n",
      "\n",
      "#add three doubles to list ld\n",
      "ld.additem(151.5)\n",
      "ld.additem(262.6)\n",
      "ld.additem(373.7)\n",
      "ld.display()                  #display entire list ld\n",
      "\n",
      "\n",
      "lch = linklist()              #lch is the object of class linkedlist\n",
      "\n",
      "#add three chars to list lch\n",
      "lch.additem('a')\n",
      "lch.additem('b')\n",
      "lch.additem('c')\n",
      "lch.display()                  #display entire list lch"
     ],
     "language": "python",
     "metadata": {},
     "outputs": [
      {
       "output_type": "stream",
       "stream": "stdout",
       "text": [
        "373.7\n",
        "262.6\n",
        "151.5\n",
        "c\n",
        "b\n",
        "a\n"
       ]
      }
     ],
     "prompt_number": 5
    },
    {
     "cell_type": "heading",
     "level": 2,
     "metadata": {},
     "source": [
      "Example 14.6, Page Number 699"
     ]
    },
    {
     "cell_type": "code",
     "collapsed": false,
     "input": [
      "class employee:                    #employee class\n",
      "    \n",
      "    def __init__(self):\n",
      "        self.__name = []*80        #employee name\n",
      "        self.__number = 0          #employee number\n",
      "        \n",
      "def ip(e):\n",
      "    e._employee__name = raw_input(\"\\n   Enter last name: \")\n",
      "    e._employee__number = input(\"   Enter number\")\n",
      "    \n",
      "def op(e):\n",
      "    print '\\n   Name:',e._employee__name\n",
      "    print '   number:',e._employee__number\n",
      "    \n",
      "    \n",
      "    \n",
      "    \n",
      "class link:\n",
      "    def __init__(self):\n",
      "        self.data = None                    #contains the data\n",
      "        self.next = None                    #contains the reference to the next node\n",
      "\n",
      "\n",
      "class linklist:\n",
      "    def __init__(self):\n",
      "        self.first = None\n",
      "\n",
      "    def additem(self, d):                   #add data item\n",
      "        newlink = link()                    #make a new link\n",
      "        newlink.data = d                    #give it data\n",
      "        newlink.next = self.first           #it points to next link\n",
      "        self.first = newlink                #now first points to this\n",
      "\n",
      "    def display(self):\n",
      "        current = self.first                #set ptr to first link\n",
      "        while current:                      #quit on last link\n",
      "            op(current.data)                #print data\n",
      "            current = current.next          #move to next link\n",
      "           \n",
      "            \n",
      "            \n",
      "            \n",
      "lemp = linklist()              #lemp is object of class linkedlist\n",
      "\n",
      "\n",
      "while True:\n",
      "    emptemp = employee()           #temporary employee storage \n",
      "    ip(emptemp)                    #get employee data from user\n",
      "    lemp.additem(emptemp)          #add it to linked list 'lemp'\n",
      "    \n",
      "    ans = raw_input(\"Add another (y/n)? \")\n",
      "    \n",
      "    if(ans == 'n'):            #when user is done\n",
      "        break;\n",
      "        \n",
      "lemp.display()                 #display entire linked list"
     ],
     "language": "python",
     "metadata": {},
     "outputs": [
      {
       "name": "stdout",
       "output_type": "stream",
       "stream": "stdout",
       "text": [
        "\n",
        "   Enter last name: Mendez\n"
       ]
      },
      {
       "name": "stdout",
       "output_type": "stream",
       "stream": "stdout",
       "text": [
        "   Enter number1233\n"
       ]
      },
      {
       "name": "stdout",
       "output_type": "stream",
       "stream": "stdout",
       "text": [
        "Add another (y/n)? y\n"
       ]
      },
      {
       "name": "stdout",
       "output_type": "stream",
       "stream": "stdout",
       "text": [
        "\n",
        "   Enter last name: Smith\n"
       ]
      },
      {
       "name": "stdout",
       "output_type": "stream",
       "stream": "stdout",
       "text": [
        "   Enter number2344\n"
       ]
      },
      {
       "name": "stdout",
       "output_type": "stream",
       "stream": "stdout",
       "text": [
        "Add another (y/n)? y\n"
       ]
      },
      {
       "name": "stdout",
       "output_type": "stream",
       "stream": "stdout",
       "text": [
        "\n",
        "   Enter last name: Chang\n"
       ]
      },
      {
       "name": "stdout",
       "output_type": "stream",
       "stream": "stdout",
       "text": [
        "   Enter number3455\n"
       ]
      },
      {
       "name": "stdout",
       "output_type": "stream",
       "stream": "stdout",
       "text": [
        "Add another (y/n)? n\n"
       ]
      },
      {
       "output_type": "stream",
       "stream": "stdout",
       "text": [
        "\n",
        "   Name: Chang\n",
        "   number: 3455\n",
        "\n",
        "   Name: Smith\n",
        "   number: 2344\n",
        "\n",
        "   Name: Mendez\n",
        "   number: 1233\n"
       ]
      }
     ],
     "prompt_number": 6
    },
    {
     "cell_type": "heading",
     "level": 2,
     "metadata": {},
     "source": [
      "Example 14.7, Page Number 707"
     ]
    },
    {
     "cell_type": "code",
     "collapsed": false,
     "input": [
      "class Range:          #exception class for stack, Note: empty class body\n",
      "    pass\n",
      "\n",
      "\n",
      "class Stack:\n",
      "    \n",
      "    def __init__(self):                       #construtor\n",
      "        self.__st = [0 for j in range(3)]     #array of integers\n",
      "        self.__top = -1\n",
      "        \n",
      "    def push(self,var):\n",
      "        \n",
      "        if self.__top>=2:            #if stack is full,\n",
      "            raise Range()            #throw exception\n",
      "            \n",
      "        self.__top += 1\n",
      "        self.__st[self.__top] = var\n",
      "        \n",
      "    def pop(self):\n",
      "        \n",
      "        if self.__top<0:             #if stack is empty,\n",
      "            raise Range()            #throw exception\n",
      "            \n",
      "        m = self.__top\n",
      "        self.__top -= 1\n",
      "        return self.__st[m]\n",
      "    \n",
      "    \n",
      "    \n",
      "s1 = Stack()\n",
      "\n",
      "try:\n",
      "    s1.push(11)\n",
      "    s1.push(22)\n",
      "    s1.push(33)\n",
      "\n",
      "    print '1:',s1.pop()\n",
      "    print '2:',s1.pop()\n",
      "    print '3:',s1.pop()\n",
      "    print '4:',s1.pop()            #oops: stack empty\n",
      "    \n",
      "except Range as i:\n",
      "    print 'Exception: Stack Full or Empty'\n",
      "    \n",
      "print 'Arrive here after catch (or normal exit)'"
     ],
     "language": "python",
     "metadata": {},
     "outputs": [
      {
       "output_type": "stream",
       "stream": "stdout",
       "text": [
        "1: 33\n",
        "2: 22\n",
        "3: 11\n",
        "4: Exception: Stack Full or Empty\n",
        "Arrive here after catch (or normal exit)\n"
       ]
      }
     ],
     "prompt_number": 7
    },
    {
     "cell_type": "heading",
     "level": 2,
     "metadata": {},
     "source": [
      "Example 14.8, Page Number 710"
     ]
    },
    {
     "cell_type": "code",
     "collapsed": false,
     "input": [
      "class Full:            #exception class\n",
      "    pass\n",
      "    \n",
      "class Empty:           #exception class\n",
      "    pass\n",
      "\n",
      "class Stack:\n",
      "    \n",
      "    def __init__(self):                       #construtor\n",
      "        self.__st = [0 for j in range(3)]     #array of integers\n",
      "        self.__top = -1\n",
      "        \n",
      "    def push(self,var):\n",
      "        \n",
      "        if self.__top>=2:            #if stack is full,\n",
      "            raise Full()             #throw full exception\n",
      "            \n",
      "        self.__top += 1\n",
      "        self.__st[self.__top] = var\n",
      "        \n",
      "    def pop(self):\n",
      "        \n",
      "        if self.__top<0:              #if stack is empty,\n",
      "            raise Empty()             #throw empty exception \n",
      "            \n",
      "        m = self.__top\n",
      "        self.__top -= 1\n",
      "        return self.__st[m]\n",
      "    \n",
      "    \n",
      "    \n",
      "s1 = Stack()\n",
      "\n",
      "try:\n",
      "    s1.push(11)\n",
      "    s1.push(22)\n",
      "    s1.push(33)\n",
      "\n",
      "    print '1:',s1.pop()\n",
      "    print '2:',s1.pop()\n",
      "    print '3:',s1.pop()\n",
      "    print '4:',s1.pop()                #oops: stack is empty\n",
      "    \n",
      "except Full as i:\n",
      "    print 'Exception: Stack Full'\n",
      "except Empty as i:\n",
      "    print 'Exception: Stack Empty'"
     ],
     "language": "python",
     "metadata": {},
     "outputs": [
      {
       "output_type": "stream",
       "stream": "stdout",
       "text": [
        "1: 33\n",
        "2: 22\n",
        "3: 11\n",
        "4: Exception: Stack Empty\n"
       ]
      }
     ],
     "prompt_number": 8
    },
    {
     "cell_type": "heading",
     "level": 2,
     "metadata": {},
     "source": [
      "Example 14.9, Page Number 712"
     ]
    },
    {
     "cell_type": "code",
     "collapsed": false,
     "input": [
      "class Inchex:\n",
      "    pass\n",
      "\n",
      "class Distance:                      #Distance class\n",
      "    \n",
      "    def __init__(self,ft=0,inc=0):   #constructor \n",
      "        \n",
      "        if inc>=12.0:                #if inches too big,\n",
      "            raise Inchex()           #throw exception\n",
      "            \n",
      "        self.__feet = ft\n",
      "        self.__inches = inc\n",
      "    \n",
      "    def getdist(self):               #get length from user\n",
      "        self.__feet = input('Enter feet:')\n",
      "        self.__inches = input('Enter inches:')\n",
      "        \n",
      "        if self.__inches>=12.0:      #if inches too big,\n",
      "            raise Inchex()           #throw exception\n",
      "    \n",
      "    def showdist(self):              #display distance\n",
      "        print self.__feet , '\\' -' , self.__inches , '\\\"'\n",
      "    \n",
      "    \n",
      "    \n",
      "try:                                #define and initialize dist1\n",
      "    dist1 = Distance(17,3.5)\n",
      "    dist2 = Distance()\n",
      "    dist2.getdist()                 #get dist2 from user\n",
      "\n",
      "                                    #display all lengths\n",
      "    print 'dist1 = ',;dist1.showdist()\n",
      "    print 'dist2 = ',;dist2.showdist()\n",
      "    \n",
      "except Inchex as i:                  #catch exception\n",
      "    print 'Initialization error: inches value is too large.'"
     ],
     "language": "python",
     "metadata": {},
     "outputs": [
      {
       "name": "stdout",
       "output_type": "stream",
       "stream": "stdout",
       "text": [
        "Enter feet:5\n"
       ]
      },
      {
       "name": "stdout",
       "output_type": "stream",
       "stream": "stdout",
       "text": [
        "Enter inches:13.5\n"
       ]
      },
      {
       "output_type": "stream",
       "stream": "stdout",
       "text": [
        "Initialization error: inches value is too large.\n"
       ]
      }
     ],
     "prompt_number": 9
    },
    {
     "cell_type": "heading",
     "level": 2,
     "metadata": {},
     "source": [
      "Example 14.10, Page Number 714"
     ]
    },
    {
     "cell_type": "code",
     "collapsed": false,
     "input": [
      "class Inchex:                        #exception class\n",
      "    \n",
      "    def __init__(self,ori,inc):      #2-arg constructor\n",
      "        self.origin = ori            #for name of routine\n",
      "        self.ivalue = inc            #for faulty inches value\n",
      "\n",
      "        \n",
      "class Distance:                      #Distance class\n",
      "    \n",
      "    def __init__(self,ft=0,inc=0):   #constructor \n",
      "        \n",
      "        if inc>=12.0:\n",
      "            raise Inchex(\"2-arg constructor\",inc)\n",
      "            \n",
      "        self.__feet = ft\n",
      "        self.__inches = inc\n",
      "    \n",
      "    \n",
      "    def getdist(self):               #get length from user\n",
      "        self.__feet = input('Enter feet:')\n",
      "        self.__inches = input('Enter inches:')\n",
      "        \n",
      "        if self.__inches>=12.0:\n",
      "            raise Inchex(\"getdist() function\",self.__inches)\n",
      "    \n",
      "    def showdist(self):              #display distance\n",
      "        print self.__feet , '\\' -' , self.__inches , '\\\"'\n",
      "    \n",
      "    \n",
      "    \n",
      "try:                                #define and initialize dist1\n",
      "    dist1 = Distance(17,3.5)\n",
      "    dist2 = Distance()\n",
      "    dist2.getdist()                 #get dist2 from user\n",
      "\n",
      "    #display all lengths\n",
      "    print 'dist1 = ',;dist1.showdist()\n",
      "    print 'dist2 = ',;dist2.showdist()\n",
      "    \n",
      "except Inchex as ix:                #exception handler\n",
      "    print 'Initialization error in',ix.origin,'.\\n   inches value of',ix.ivalue,'is too large.'"
     ],
     "language": "python",
     "metadata": {},
     "outputs": [
      {
       "name": "stdout",
       "output_type": "stream",
       "stream": "stdout",
       "text": [
        "Enter feet:7\n"
       ]
      },
      {
       "name": "stdout",
       "output_type": "stream",
       "stream": "stdout",
       "text": [
        "Enter inches:13.5\n"
       ]
      },
      {
       "output_type": "stream",
       "stream": "stdout",
       "text": [
        "Initialization error in getdist() function .\n",
        "   inches value of 13.5 is too large.\n"
       ]
      }
     ],
     "prompt_number": 10
    },
    {
     "cell_type": "heading",
     "level": 2,
     "metadata": {},
     "source": [
      "Example 14.11, Page Number 718"
     ]
    },
    {
     "cell_type": "code",
     "collapsed": false,
     "input": [
      "try:\n",
      "    ptr = []*10000           #allocate memory\n",
      "    \n",
      "except MemoryError:          #exception handler\n",
      "    print \"Memory Error Exception: can't allocate memory.\"\n",
      "    \n",
      "del ptr                      #deallocate memory\n",
      "print \"Memory use is successfull.\""
     ],
     "language": "python",
     "metadata": {},
     "outputs": [
      {
       "output_type": "stream",
       "stream": "stdout",
       "text": [
        "Memory use is successfull.\n"
       ]
      }
     ],
     "prompt_number": 11
    },
    {
     "cell_type": "code",
     "collapsed": false,
     "input": [],
     "language": "python",
     "metadata": {},
     "outputs": []
    }
   ],
   "metadata": {}
  }
 ]
}