{
 "metadata": {
  "name": "",
  "signature": "sha256:eea6a405d0bf81eb1385bd8d9cdbd2821e6bd3fe520748ab53e47eefcfeece69"
 },
 "nbformat": 3,
 "nbformat_minor": 0,
 "worksheets": [
  {
   "cells": [
    {
     "cell_type": "heading",
     "level": 1,
     "metadata": {},
     "source": [
      "Chapter 7: Arrays and Strings"
     ]
    },
    {
     "cell_type": "heading",
     "level": 2,
     "metadata": {},
     "source": [
      "Example 7.1, Page Number 264"
     ]
    },
    {
     "cell_type": "code",
     "collapsed": false,
     "input": [
      "age = []*4                            #array 'age' of 4 \n",
      "\n",
      "for j in range(4):                    #get 4 ages\n",
      "    x = input(\"Enter an age: \")\n",
      "    age.append(x)                     #access array element\n",
      "\n",
      "    \n",
      "for j in range(4):                    #display 4 ages\n",
      "    print '\\nYou entered',age[j],"
     ],
     "language": "python",
     "metadata": {},
     "outputs": [
      {
       "name": "stdout",
       "output_type": "stream",
       "stream": "stdout",
       "text": [
        "Enter an age: 44\n"
       ]
      },
      {
       "name": "stdout",
       "output_type": "stream",
       "stream": "stdout",
       "text": [
        "Enter an age: 16\n"
       ]
      },
      {
       "name": "stdout",
       "output_type": "stream",
       "stream": "stdout",
       "text": [
        "Enter an age: 23\n"
       ]
      },
      {
       "name": "stdout",
       "output_type": "stream",
       "stream": "stdout",
       "text": [
        "Enter an age: 68\n"
       ]
      },
      {
       "output_type": "stream",
       "stream": "stdout",
       "text": [
        "\n",
        "You entered 44 \n",
        "You entered 16 \n",
        "You entered 23 \n",
        "You entered 68\n"
       ]
      }
     ],
     "prompt_number": 1
    },
    {
     "cell_type": "heading",
     "level": 2,
     "metadata": {},
     "source": [
      "Example 7.2, Page Number 267"
     ]
    },
    {
     "cell_type": "code",
     "collapsed": false,
     "input": [
      "SIZE = 6                   #size of array\n",
      "sales = []*SIZE            #array of 6 variables\n",
      "\n",
      "print 'Enter widget sales for 6 days'\n",
      "\n",
      "for j in range(SIZE):      #put figures in array\n",
      "    x = input()\n",
      "    sales.append(x)\n",
      "    \n",
      "total = 0\n",
      "\n",
      "for j in range(SIZE):      #read figures from array\n",
      "    total += sales[j]      #to find total\n",
      "    \n",
      "average = total / SIZE     #find average\n",
      "\n",
      "print 'Average =',average,'\\n'"
     ],
     "language": "python",
     "metadata": {},
     "outputs": [
      {
       "output_type": "stream",
       "stream": "stdout",
       "text": [
        "Enter widget sales for 6 days\n"
       ]
      },
      {
       "name": "stdout",
       "output_type": "stream",
       "stream": "stdout",
       "text": [
        "352.64\n"
       ]
      },
      {
       "name": "stdout",
       "output_type": "stream",
       "stream": "stdout",
       "text": [
        "867.70\n"
       ]
      },
      {
       "name": "stdout",
       "output_type": "stream",
       "stream": "stdout",
       "text": [
        "781.32\n"
       ]
      },
      {
       "name": "stdout",
       "output_type": "stream",
       "stream": "stdout",
       "text": [
        "867.35\n"
       ]
      },
      {
       "name": "stdout",
       "output_type": "stream",
       "stream": "stdout",
       "text": [
        "746.21\n"
       ]
      },
      {
       "name": "stdout",
       "output_type": "stream",
       "stream": "stdout",
       "text": [
        "189.45\n"
       ]
      },
      {
       "output_type": "stream",
       "stream": "stdout",
       "text": [
        "Average = 634.111666667 \n",
        "\n"
       ]
      }
     ],
     "prompt_number": 2
    },
    {
     "cell_type": "heading",
     "level": 2,
     "metadata": {},
     "source": [
      "Example 7.3, Page Number 268"
     ]
    },
    {
     "cell_type": "code",
     "collapsed": false,
     "input": [
      "days_per_month = (31,28,31,30,31,30,31,31,30,31,30,31)\n",
      "\n",
      "month = input(\"Enter month (1 to 12): \")      #get date\n",
      "day = input(\"Enter day (1 to 31): \")\n",
      "\n",
      "\n",
      "total_days = day                #separate days\n",
      "\n",
      "for j in range(month-1):                  #add days each month\n",
      "    total_days += days_per_month[j] \n",
      "    \n",
      "print 'Total days from start of year is:',total_days"
     ],
     "language": "python",
     "metadata": {},
     "outputs": [
      {
       "name": "stdout",
       "output_type": "stream",
       "stream": "stdout",
       "text": [
        "Enter month (1 to 12): 3\n"
       ]
      },
      {
       "name": "stdout",
       "output_type": "stream",
       "stream": "stdout",
       "text": [
        "Enter day (1 to 31): 11\n"
       ]
      },
      {
       "output_type": "stream",
       "stream": "stdout",
       "text": [
        "Total days from start of year is: 70\n"
       ]
      }
     ],
     "prompt_number": 3
    },
    {
     "cell_type": "heading",
     "level": 2,
     "metadata": {},
     "source": [
      "Example 7.4, Page Number 270"
     ]
    },
    {
     "cell_type": "code",
     "collapsed": false,
     "input": [
      "DISRICTS = 4                   #array dimensions\n",
      "MONTHS = 3\n",
      "\n",
      "sales = [[0] * (DISRICTS+1) for i in range(MONTHS+1)]            #two-dimensional array definition\n",
      "\n",
      "\n",
      "print '',\n",
      "for d in range(DISRICTS):                          #get array values\n",
      "    for m in range(MONTHS):\n",
      "        print 'Enter sales for district',d+1,\n",
      "        print ', month',m+1,': ',\n",
      "        sales[d][m] = input()                      #put number in array\n",
      "        \n",
      "        \n",
      "print '\\n'\n",
      "print '                             month'\n",
      "print '                 1           2           3',\n",
      "\n",
      "\n",
      "for d in range(DISRICTS):\n",
      "    print '\\nDistrict',d+1,\n",
      "    for m in range(MONTHS):\n",
      "        print '%10.2f' %(sales[d][m]),          #get number from array"
     ],
     "language": "python",
     "metadata": {},
     "outputs": [
      {
       "output_type": "stream",
       "stream": "stdout",
       "text": [
        " Enter sales for district 1 , month 1 : "
       ]
      },
      {
       "name": "stdout",
       "output_type": "stream",
       "stream": "stdout",
       "text": [
        "3964.23\n"
       ]
      },
      {
       "output_type": "stream",
       "stream": "stdout",
       "text": [
        " Enter sales for district 1 , month 2 : "
       ]
      },
      {
       "name": "stdout",
       "output_type": "stream",
       "stream": "stdout",
       "text": [
        "4135.87\n"
       ]
      },
      {
       "output_type": "stream",
       "stream": "stdout",
       "text": [
        " Enter sales for district 1 , month 3 : "
       ]
      },
      {
       "name": "stdout",
       "output_type": "stream",
       "stream": "stdout",
       "text": [
        "4397.98\n"
       ]
      },
      {
       "output_type": "stream",
       "stream": "stdout",
       "text": [
        " Enter sales for district 2 , month 1 : "
       ]
      },
      {
       "name": "stdout",
       "output_type": "stream",
       "stream": "stdout",
       "text": [
        "867.75\n"
       ]
      },
      {
       "output_type": "stream",
       "stream": "stdout",
       "text": [
        " Enter sales for district 2 , month 2 : "
       ]
      },
      {
       "name": "stdout",
       "output_type": "stream",
       "stream": "stdout",
       "text": [
        "923.59\n"
       ]
      },
      {
       "output_type": "stream",
       "stream": "stdout",
       "text": [
        " Enter sales for district 2 , month 3 : "
       ]
      },
      {
       "name": "stdout",
       "output_type": "stream",
       "stream": "stdout",
       "text": [
        "1037.01\n"
       ]
      },
      {
       "output_type": "stream",
       "stream": "stdout",
       "text": [
        " Enter sales for district 3 , month 1 : "
       ]
      },
      {
       "name": "stdout",
       "output_type": "stream",
       "stream": "stdout",
       "text": [
        "12.77\n"
       ]
      },
      {
       "output_type": "stream",
       "stream": "stdout",
       "text": [
        " Enter sales for district 3 , month 2 : "
       ]
      },
      {
       "name": "stdout",
       "output_type": "stream",
       "stream": "stdout",
       "text": [
        "378.32\n"
       ]
      },
      {
       "output_type": "stream",
       "stream": "stdout",
       "text": [
        " Enter sales for district 3 , month 3 : "
       ]
      },
      {
       "name": "stdout",
       "output_type": "stream",
       "stream": "stdout",
       "text": [
        "798.22\n"
       ]
      },
      {
       "output_type": "stream",
       "stream": "stdout",
       "text": [
        " Enter sales for district 4 , month 1 : "
       ]
      },
      {
       "name": "stdout",
       "output_type": "stream",
       "stream": "stdout",
       "text": [
        "2983.53\n"
       ]
      },
      {
       "output_type": "stream",
       "stream": "stdout",
       "text": [
        " Enter sales for district 4 , month 2 : "
       ]
      },
      {
       "name": "stdout",
       "output_type": "stream",
       "stream": "stdout",
       "text": [
        "3983.73\n"
       ]
      },
      {
       "output_type": "stream",
       "stream": "stdout",
       "text": [
        " Enter sales for district 4 , month 3 : "
       ]
      },
      {
       "name": "stdout",
       "output_type": "stream",
       "stream": "stdout",
       "text": [
        "9494.98\n"
       ]
      },
      {
       "output_type": "stream",
       "stream": "stdout",
       "text": [
        " \n",
        "\n",
        "                             month\n",
        "                 1           2           3 \n",
        "District 1    3964.23    4135.87    4397.98 \n",
        "District 2     867.75     923.59    1037.01 \n",
        "District 3      12.77     378.32     798.22 \n",
        "District 4    2983.53    3983.73    9494.98\n"
       ]
      }
     ],
     "prompt_number": 4
    },
    {
     "cell_type": "heading",
     "level": 2,
     "metadata": {},
     "source": [
      "Example 7.5, Page Number 273"
     ]
    },
    {
     "cell_type": "code",
     "collapsed": false,
     "input": [
      "DISRICTS = 4                                 #array dimensions\n",
      "MONTHS = 3\n",
      "\n",
      "                                             #initialize array elements\n",
      "sales = [[1432.07,234.50,654.01],\n",
      "         [322.00,13838.32,17589.88],\n",
      "         [9328.34,934.00,4492.30],\n",
      "         [12838.29,2332.63,32.98]]\n",
      "        \n",
      "print '\\n'\n",
      "print '                             month'\n",
      "print '                 1           2           3',\n",
      "\n",
      "\n",
      "for d in range(DISRICTS):                    #display array elements\n",
      "    print '\\nDistrict',d+1,\n",
      "    \n",
      "    for m in range(MONTHS):\n",
      "        print '%10.2f' %(sales[d][m]),       #access array elements"
     ],
     "language": "python",
     "metadata": {},
     "outputs": [
      {
       "output_type": "stream",
       "stream": "stdout",
       "text": [
        "\n",
        "\n",
        "                             month\n",
        "                 1           2           3 \n",
        "District 1    1432.07     234.50     654.01 \n",
        "District 2     322.00   13838.32   17589.88 \n",
        "District 3    9328.34     934.00    4492.30 \n",
        "District 4   12838.29    2332.63      32.98\n"
       ]
      }
     ],
     "prompt_number": 5
    },
    {
     "cell_type": "heading",
     "level": 2,
     "metadata": {},
     "source": [
      "Example 7.6, Page Number 274"
     ]
    },
    {
     "cell_type": "code",
     "collapsed": false,
     "input": [
      "DISRICTS = 4                   #array dimensions\n",
      "MONTHS = 3\n",
      "\n",
      "def display(funsales):         #function for display array elements\n",
      "    print '\\n'\n",
      "    print '                             month'\n",
      "    print '                 1           2           3',\n",
      "\n",
      "    for d in range(DISRICTS):\n",
      "        print '\\nDistrict',d+1,\n",
      "        for m in range(MONTHS):\n",
      "            print '%10.2f' %(sales[d][m]),         #access array elements\n",
      "            \n",
      "            \n",
      "            \n",
      "sales = [[1432.07,234.50,654.01],           #initialize two-dimentional array\n",
      "         [322.00,13838.32,17589.88],\n",
      "         [9328.34,934.00,4492.30],\n",
      "         [12838.29,2332.63,32.98]]\n",
      "\n",
      "display(sales)                       #call function; array as argument"
     ],
     "language": "python",
     "metadata": {},
     "outputs": [
      {
       "output_type": "stream",
       "stream": "stdout",
       "text": [
        "\n",
        "\n",
        "                             month\n",
        "                 1           2           3 \n",
        "District 1    1432.07     234.50     654.01 \n",
        "District 2     322.00   13838.32   17589.88 \n",
        "District 3    9328.34     934.00    4492.30 \n",
        "District 4   12838.29    2332.63      32.98\n"
       ]
      }
     ],
     "prompt_number": 6
    },
    {
     "cell_type": "heading",
     "level": 2,
     "metadata": {},
     "source": [
      "Example 7.7, Page Number 277"
     ]
    },
    {
     "cell_type": "code",
     "collapsed": false,
     "input": [
      "SIZE = 4                    #number of parts in array\n",
      "\n",
      "class part:                 #specify a structure\n",
      "    modelnumber = None      #ID number of widget\n",
      "    partnumber = None       #ID number of widget part\n",
      "    cost = None             #cost of part\n",
      "    \n",
      "    \n",
      "    \n",
      "apart = [part() for i in range(SIZE)]         #define array of structures\n",
      "\n",
      "\n",
      "for n in range(SIZE):                         #get values for all members\n",
      "    apart[n].modelnumber = input('Enter model number: ')          #get model number\n",
      "    apart[n].partnumber = input('Enter part number: ')            #get part number\n",
      "    apart[n].cost = input('Enter cost: ')                         #get cost\n",
      "    print \n",
      "    \n",
      "    \n",
      "for n in range(SIZE):                          #show values for all members\n",
      "    print 'Model',apart[n].modelnumber,\n",
      "    print ' Part',apart[n].partnumber,\n",
      "    print ' Cost',apart[n].cost"
     ],
     "language": "python",
     "metadata": {},
     "outputs": [
      {
       "name": "stdout",
       "output_type": "stream",
       "stream": "stdout",
       "text": [
        "Enter model number: 44\n"
       ]
      },
      {
       "name": "stdout",
       "output_type": "stream",
       "stream": "stdout",
       "text": [
        "Enter part number: 4954\n"
       ]
      },
      {
       "name": "stdout",
       "output_type": "stream",
       "stream": "stdout",
       "text": [
        "Enter cost: 133.45\n"
       ]
      },
      {
       "output_type": "stream",
       "stream": "stdout",
       "text": [
        "\n"
       ]
      },
      {
       "name": "stdout",
       "output_type": "stream",
       "stream": "stdout",
       "text": [
        "Enter model number: 44\n"
       ]
      },
      {
       "name": "stdout",
       "output_type": "stream",
       "stream": "stdout",
       "text": [
        "Enter part number: 8431\n"
       ]
      },
      {
       "name": "stdout",
       "output_type": "stream",
       "stream": "stdout",
       "text": [
        "Enter cost: 97.59\n"
       ]
      },
      {
       "output_type": "stream",
       "stream": "stdout",
       "text": [
        "\n"
       ]
      },
      {
       "name": "stdout",
       "output_type": "stream",
       "stream": "stdout",
       "text": [
        "Enter model number: 77\n"
       ]
      },
      {
       "name": "stdout",
       "output_type": "stream",
       "stream": "stdout",
       "text": [
        "Enter part number: 9343\n"
       ]
      },
      {
       "name": "stdout",
       "output_type": "stream",
       "stream": "stdout",
       "text": [
        "Enter cost: 109.99\n"
       ]
      },
      {
       "output_type": "stream",
       "stream": "stdout",
       "text": [
        "\n"
       ]
      },
      {
       "name": "stdout",
       "output_type": "stream",
       "stream": "stdout",
       "text": [
        "Enter model number: 77\n"
       ]
      },
      {
       "name": "stdout",
       "output_type": "stream",
       "stream": "stdout",
       "text": [
        "Enter part number: 4297\n"
       ]
      },
      {
       "name": "stdout",
       "output_type": "stream",
       "stream": "stdout",
       "text": [
        "Enter cost: 3456.55\n"
       ]
      },
      {
       "output_type": "stream",
       "stream": "stdout",
       "text": [
        "\n",
        "Model 44  Part 4954  Cost 133.45\n",
        "Model 44  Part 8431  Cost 97.59\n",
        "Model 77  Part 9343  Cost 109.99\n",
        "Model 77  Part 4297  Cost 3456.55\n"
       ]
      }
     ],
     "prompt_number": 7
    },
    {
     "cell_type": "heading",
     "level": 2,
     "metadata": {},
     "source": [
      "Example 7.8, Page Number 279"
     ]
    },
    {
     "cell_type": "code",
     "collapsed": false,
     "input": [
      "class Stack:\n",
      "    __max = 10            #define maximum size of stack array\n",
      "    \n",
      "    def __init__(self):                                    #constructor\n",
      "        self.__st = [0 for i in range(self.__max)]         #stack: array of integers\n",
      "        self.__top = -1                                    #number of top of stack, initially -1\n",
      "     \n",
      "    def push(self,var):                #put number on stack\n",
      "        self.__top += 1\n",
      "        self.__st[self.__top] = var\n",
      "        \n",
      "    def pop(self):                     #take number from stack\n",
      "        x = self.__st[self.__top]\n",
      "        self.__top -= 1\n",
      "        return x\n",
      "    \n",
      "    \n",
      "    \n",
      "s1 = Stack()              #define a stack variable\n",
      "\n",
      "s1.push(11)               #push value on stack\n",
      "s1.push(22)\n",
      "\n",
      "print '1:',s1.pop()       #pop value from stack, and display it\n",
      "print '2:',s1.pop()\n",
      "\n",
      "s1.push(33)               #push values on stack\n",
      "s1.push(44)\n",
      "s1.push(55)\n",
      "s1.push(66)\n",
      "\n",
      "print '3:',s1.pop()       #pop values from stack\n",
      "print '4:',s1.pop()\n",
      "print '5:',s1.pop()\n",
      "print '6:',s1.pop()"
     ],
     "language": "python",
     "metadata": {},
     "outputs": [
      {
       "output_type": "stream",
       "stream": "stdout",
       "text": [
        "1: 22\n",
        "2: 11\n",
        "3: 66\n",
        "4: 55\n",
        "5: 44\n",
        "6: 33\n"
       ]
      }
     ],
     "prompt_number": 8
    },
    {
     "cell_type": "heading",
     "level": 2,
     "metadata": {},
     "source": [
      "Example 7.9, Page Number 283"
     ]
    },
    {
     "cell_type": "code",
     "collapsed": false,
     "input": [
      "class Distance:                     #Distance class\n",
      "    \n",
      "    def getdist(self):              #get length from usser\n",
      "        self.__feet = input('   Enter feet: ')\n",
      "        self.__inches = input('   Enter inches: ')\n",
      "        \n",
      "    def showdist(self):            #display distance\n",
      "        print self.__feet,'\\' -',self.__inches,'\\\"',\n",
      "        \n",
      "        \n",
      "        \n",
      "dist = [Distance() for i in range(100)]                #array of distances\n",
      "n = 0                                                  #count the entries\n",
      "\n",
      "\n",
      "while True:                                            #get distances from user\n",
      "    \n",
      "    print '\\nEnter distance number',n+1\n",
      "    dist[n].getdist()                                  #store distances in array\n",
      "    n += 1 \n",
      "    \n",
      "    ans = raw_input('Enter another (y/n)?: ')\n",
      "    if(ans == 'n'):                                    #quit if user types 'n'\n",
      "        break\n",
      "        \n",
      "for j in range(n):                                     #display all distances\n",
      "    print '\\nDistance number',j+1,'is',\n",
      "    dist[j].showdist()"
     ],
     "language": "python",
     "metadata": {},
     "outputs": [
      {
       "output_type": "stream",
       "stream": "stdout",
       "text": [
        "\n",
        "Enter distance number 1\n"
       ]
      },
      {
       "name": "stdout",
       "output_type": "stream",
       "stream": "stdout",
       "text": [
        "   Enter feet: 5\n"
       ]
      },
      {
       "name": "stdout",
       "output_type": "stream",
       "stream": "stdout",
       "text": [
        "   Enter inches: 4\n"
       ]
      },
      {
       "name": "stdout",
       "output_type": "stream",
       "stream": "stdout",
       "text": [
        "Enter another (y/n)?: y\n"
       ]
      },
      {
       "output_type": "stream",
       "stream": "stdout",
       "text": [
        "\n",
        "Enter distance number 2\n"
       ]
      },
      {
       "name": "stdout",
       "output_type": "stream",
       "stream": "stdout",
       "text": [
        "   Enter feet: 6\n"
       ]
      },
      {
       "name": "stdout",
       "output_type": "stream",
       "stream": "stdout",
       "text": [
        "   Enter inches: 2.5\n"
       ]
      },
      {
       "name": "stdout",
       "output_type": "stream",
       "stream": "stdout",
       "text": [
        "Enter another (y/n)?: y\n"
       ]
      },
      {
       "output_type": "stream",
       "stream": "stdout",
       "text": [
        "\n",
        "Enter distance number 3\n"
       ]
      },
      {
       "name": "stdout",
       "output_type": "stream",
       "stream": "stdout",
       "text": [
        "   Enter feet: 5\n"
       ]
      },
      {
       "name": "stdout",
       "output_type": "stream",
       "stream": "stdout",
       "text": [
        "   Enter inches: 10.75\n"
       ]
      },
      {
       "name": "stdout",
       "output_type": "stream",
       "stream": "stdout",
       "text": [
        "Enter another (y/n)?: n\n"
       ]
      },
      {
       "output_type": "stream",
       "stream": "stdout",
       "text": [
        "\n",
        "Distance number 1 is 5 ' - 4 \" \n",
        "Distance number 2 is 6 ' - 2.5 \" \n",
        "Distance number 3 is 5 ' - 10.75 \"\n"
       ]
      }
     ],
     "prompt_number": 9
    },
    {
     "cell_type": "heading",
     "level": 2,
     "metadata": {},
     "source": [
      "Example 7.10, Page Number 286"
     ]
    },
    {
     "cell_type": "code",
     "collapsed": false,
     "input": [
      "import random                           #for selecting random number\n",
      "\n",
      "symbols = ['\u2663','\u2666','\u2665','\u2660']             #array for printing the symbol of cards\n",
      "Suit = [\"clubs\",\"diamonds\",\"hearts\",\"spades\"]  \n",
      "\n",
      "\n",
      "#from 2 to 10 are integers without names\n",
      "jack = 11      \n",
      "queen = 12 \n",
      "king = 13\n",
      "ace = 14\n",
      "\n",
      "\n",
      "class card:       \n",
      "    \n",
      "    def __init__(self):             #constructor\n",
      "        self.__number = None\n",
      "        self.__suit = None\n",
      "        \n",
      "    def set(self,n,s):\n",
      "        self.__number = n           #2 to 10, jack, queen, king, ace\n",
      "        self.__suit = s             #clubs, diamonds, hearts, spades\n",
      "        \n",
      "    \n",
      "    def display(self):              #display the cards\n",
      "        \n",
      "        if self.__number >= 2 and self.__number <= 10:       #display the card number\n",
      "            print self.__number ,\n",
      "            \n",
      "        else:\n",
      "            if self.__number == jack:\n",
      "                print 'J',\n",
      "            elif self.__number == queen:\n",
      "                print 'Q',\n",
      "            elif self.__number == king:\n",
      "                print 'K',\n",
      "            elif self.__number == ace:\n",
      "                print 'A',\n",
      "                \n",
      "        if self.__suit == \"clubs\":              #dispaly the symbol\n",
      "            print symbols[0],\n",
      "        elif self.__suit == \"diamonds\":\n",
      "            print symbols[1],\n",
      "        elif self.__suit == \"hearts\":\n",
      "            print symbols[2],\n",
      "        elif self.__suit == \"spades\":\n",
      "            print symbols[3],\n",
      "            \n",
      "            \n",
      "            \n",
      "            \n",
      "deck = [card() for j in range(52)]           #array of cards\n",
      "\n",
      "for j in range(52):                      #make an ordered deck\n",
      "    num = (j % 13) + 2                   #cycles through 2 to 14, 4 times\n",
      "    su = Suit[j / 13]                    #cycles through 0 to 3, 13 times\n",
      "    deck[j].set(num,su)                  #set cards\n",
      "\n",
      "    \n",
      "print '\\nOrderd deck:'\n",
      "\n",
      "for j in range(52):                      #display ordered deck\n",
      "    deck[j].display()\n",
      "    print '',\n",
      "    if (j+1)%13 == 0:                    #new line every 13 cards\n",
      "        print\n",
      "\n",
      "        \n",
      "        \n",
      "for j in range(52):                      #for each card in deck,\n",
      "    \n",
      "    k = random.randrange(2,52)%52        #pick card at random\n",
      "    \n",
      "    temp = deck[j]                       #and swap them\n",
      "    deck[j] = deck[k]\n",
      "    deck[k] = temp\n",
      "\n",
      "print '\\nshuffled deck:'\n",
      "\n",
      "for j in range(52):                      #display suffled card\n",
      "    deck[j].display()                    \n",
      "    print '',\n",
      "    if (j+1)%13 == 0:                    #new line every 13 cards\n",
      "        print"
     ],
     "language": "python",
     "metadata": {},
     "outputs": [
      {
       "output_type": "stream",
       "stream": "stdout",
       "text": [
        "\n",
        "Orderd deck:\n",
        "2 \u2663  3 \u2663  4 \u2663  5 \u2663  6 \u2663  7 \u2663  8 \u2663  9 \u2663  10 \u2663  J \u2663  Q \u2663  K \u2663  A \u2663 \n",
        "2 \u2666  3 \u2666  4 \u2666  5 \u2666  6 \u2666  7 \u2666  8 \u2666  9 \u2666  10 \u2666  J \u2666  Q \u2666  K \u2666  A \u2666 \n",
        "2 \u2665  3 \u2665  4 \u2665  5 \u2665  6 \u2665  7 \u2665  8 \u2665  9 \u2665  10 \u2665  J \u2665  Q \u2665  K \u2665  A \u2665 \n",
        "2 \u2660  3 \u2660  4 \u2660  5 \u2660  6 \u2660  7 \u2660  8 \u2660  9 \u2660  10 \u2660  J \u2660  Q \u2660  K \u2660  A \u2660 \n",
        "\n",
        "shuffled deck:\n",
        "5 \u2663  2 \u2666  A \u2666  J \u2665  7 \u2663  A \u2663  7 \u2665  J \u2666  10 \u2666  K \u2665  2 \u2660  9 \u2663  4 \u2666 \n",
        "10 \u2660  8 \u2666  6 \u2666  A \u2665  J \u2663  K \u2666  4 \u2660  3 \u2666  4 \u2663  Q \u2666  4 \u2665  5 \u2665  3 \u2660 \n",
        "10 \u2663  9 \u2660  Q \u2663  3 \u2663  6 \u2663  8 \u2663  3 \u2665  6 \u2660  8 \u2665  2 \u2663  5 \u2666  6 \u2665  K \u2660 \n",
        "A \u2660  9 \u2666  J \u2660  7 \u2660  Q \u2665  2 \u2665  8 \u2660  5 \u2660  7 \u2666  Q \u2660  10 \u2665  9 \u2665  K \u2663 \n"
       ]
      }
     ],
     "prompt_number": 10
    },
    {
     "cell_type": "heading",
     "level": 2,
     "metadata": {},
     "source": [
      "Example 7.11, Page Number 290"
     ]
    },
    {
     "cell_type": "code",
     "collapsed": false,
     "input": [
      "MAX = 80                               #max characters in string\n",
      "str = [0 for i in range(MAX)]          #string variable str\n",
      "\n",
      "str = raw_input(\"Enter a string \")     #put string in str\n",
      "\n",
      "print 'You entered:',str             #display string from str"
     ],
     "language": "python",
     "metadata": {},
     "outputs": [
      {
       "name": "stdout",
       "output_type": "stream",
       "stream": "stdout",
       "text": [
        "Enter a string amanuensis\n"
       ]
      },
      {
       "output_type": "stream",
       "stream": "stdout",
       "text": [
        "You entered: amanuensis\n"
       ]
      }
     ],
     "prompt_number": 11
    },
    {
     "cell_type": "heading",
     "level": 2,
     "metadata": {},
     "source": [
      "Example 7.12, Page Number 292"
     ]
    },
    {
     "cell_type": "code",
     "collapsed": false,
     "input": [
      "MAX = 20              #max characters in string\n",
      "str = []*MAX          #string variable str\n",
      "\n",
      "str = raw_input(\"Enter a string: \")        #put string in str\n",
      "\n",
      "print 'You entered: %20s' %str             #display string from str"
     ],
     "language": "python",
     "metadata": {},
     "outputs": [
      {
       "name": "stdout",
       "output_type": "stream",
       "stream": "stdout",
       "text": [
        "Enter a string: hello world.....\n"
       ]
      },
      {
       "output_type": "stream",
       "stream": "stdout",
       "text": [
        "You entered:     hello world.....\n"
       ]
      }
     ],
     "prompt_number": 12
    },
    {
     "cell_type": "heading",
     "level": 2,
     "metadata": {},
     "source": [
      "Example 7.13, Page Number 292"
     ]
    },
    {
     "cell_type": "code",
     "collapsed": false,
     "input": [
      "str = []\n",
      "\n",
      "str = \"Farewell! thou art too dear for my possessing.\"      #store string in an array\n",
      "\n",
      "print str,'\\n'          #print array"
     ],
     "language": "python",
     "metadata": {},
     "outputs": [
      {
       "output_type": "stream",
       "stream": "stdout",
       "text": [
        "Farewell! thou art too dear for my possessing. \n",
        "\n"
       ]
      }
     ],
     "prompt_number": 13
    },
    {
     "cell_type": "heading",
     "level": 2,
     "metadata": {},
     "source": [
      "Example 7.14, Page Number 293"
     ]
    },
    {
     "cell_type": "code",
     "collapsed": false,
     "input": [
      "MAX = 20              #max characters in string\n",
      "str = []*MAX          #string variable str\n",
      "\n",
      "str = raw_input(\"Enter a string: \")     #put string in str\n",
      "\n",
      "print 'You entered:',str                #display string from str"
     ],
     "language": "python",
     "metadata": {},
     "outputs": [
      {
       "name": "stdout",
       "output_type": "stream",
       "stream": "stdout",
       "text": [
        "Enter a string: Law is a bottomless pit.\n"
       ]
      },
      {
       "output_type": "stream",
       "stream": "stdout",
       "text": [
        "You entered: Law is a bottomless pit.\n"
       ]
      }
     ],
     "prompt_number": 14
    },
    {
     "cell_type": "heading",
     "level": 2,
     "metadata": {},
     "source": [
      "Example 7.15, Page Number 294"
     ]
    },
    {
     "cell_type": "code",
     "collapsed": false,
     "input": [
      "print 'Enter a string:'\n",
      "\n",
      "str = \"\"                     #string variable\n",
      "stopword = \"$\"               #taking for checking the termination condition\n",
      "\n",
      "\n",
      "while True:\n",
      "    \n",
      "    line = raw_input()               #taking input line by line\n",
      "    \n",
      "    if line.strip() == stopword:     #stop when tenmination condition matches\n",
      "        break\n",
      "        \n",
      "    str += \"%s\\n\" % line\n",
      "    \n",
      "    \n",
      "print 'You entered:'\n",
      "print str                   #print the whole string"
     ],
     "language": "python",
     "metadata": {},
     "outputs": [
      {
       "output_type": "stream",
       "stream": "stdout",
       "text": [
        "Enter a string:\n"
       ]
      },
      {
       "name": "stdout",
       "output_type": "stream",
       "stream": "stdout",
       "text": [
        "Ask me no more where Jove bestows\n"
       ]
      },
      {
       "name": "stdout",
       "output_type": "stream",
       "stream": "stdout",
       "text": [
        "When June is past, the fading rose;\n"
       ]
      },
      {
       "name": "stdout",
       "output_type": "stream",
       "stream": "stdout",
       "text": [
        "For in your beauty's orient deep\n"
       ]
      },
      {
       "name": "stdout",
       "output_type": "stream",
       "stream": "stdout",
       "text": [
        "These flowers, as in their causes, sleep.\n"
       ]
      },
      {
       "name": "stdout",
       "output_type": "stream",
       "stream": "stdout",
       "text": [
        "$\n"
       ]
      },
      {
       "output_type": "stream",
       "stream": "stdout",
       "text": [
        "You entered:\n",
        "Ask me no more where Jove bestows\n",
        "When June is past, the fading rose;\n",
        "For in your beauty's orient deep\n",
        "These flowers, as in their causes, sleep.\n",
        "\n"
       ]
      }
     ],
     "prompt_number": 15
    },
    {
     "cell_type": "heading",
     "level": 2,
     "metadata": {},
     "source": [
      "Example 7.16, Page Number 295"
     ]
    },
    {
     "cell_type": "code",
     "collapsed": false,
     "input": [
      "str1 = []                                       #initialized string\n",
      "str1 = \"Oh, Captain, my Captain! our fearful trip is done\"\n",
      "\n",
      "MAX = 80                    #size of str2 buffer\n",
      "str2 = [None]*MAX           #empty string\n",
      "\n",
      "str2 = ''.join(str1)        #copy str1 character to str2\n",
      "\n",
      "print str2                  #print str2"
     ],
     "language": "python",
     "metadata": {},
     "outputs": [
      {
       "output_type": "stream",
       "stream": "stdout",
       "text": [
        "Oh, Captain, my Captain! our fearful trip is done\n"
       ]
      }
     ],
     "prompt_number": 16
    },
    {
     "cell_type": "heading",
     "level": 2,
     "metadata": {},
     "source": [
      "Example 7.17, Page Number 296"
     ]
    },
    {
     "cell_type": "code",
     "collapsed": false,
     "input": [
      "str1 = []\n",
      "\n",
      "str1 = \"Tiger, tiger, burning bright\\nIn the forests of the night\"\n",
      "\n",
      "MAX = 80                    #size of str2 buffer\n",
      "str2 = str1                 #copy str1 to str2\n",
      "\n",
      "print str2                  #display str2"
     ],
     "language": "python",
     "metadata": {},
     "outputs": [
      {
       "output_type": "stream",
       "stream": "stdout",
       "text": [
        "Tiger, tiger, burning bright\n",
        "In the forests of the night\n"
       ]
      }
     ],
     "prompt_number": 17
    },
    {
     "cell_type": "heading",
     "level": 2,
     "metadata": {},
     "source": [
      "Example 7.18, Page Number 297"
     ]
    },
    {
     "cell_type": "code",
     "collapsed": false,
     "input": [
      "Days = 7                      #number of string in array\n",
      "\n",
      "star = [\"Sunday\" , \"Monday\" , \"Tuesday\" , \"Wednesday\" , \"Thursday\" , \"Friday\" , \"Saturday\"]          #arrray of string\n",
      "\n",
      "for j in range(Days):         #display every string\n",
      "    print star[j]"
     ],
     "language": "python",
     "metadata": {},
     "outputs": [
      {
       "output_type": "stream",
       "stream": "stdout",
       "text": [
        "Sunday\n",
        "Monday\n",
        "Tuesday\n",
        "Wednesday\n",
        "Thursday\n",
        "Friday\n",
        "Saturday\n"
       ]
      }
     ],
     "prompt_number": 18
    },
    {
     "cell_type": "heading",
     "level": 2,
     "metadata": {},
     "source": [
      "Example 7.19, Page Number 298"
     ]
    },
    {
     "cell_type": "code",
     "collapsed": false,
     "input": [
      "class part:\n",
      "    \n",
      "    def setpart(self,pname,pn,c):                    #set data\n",
      "        self.__partname = pname\n",
      "        self.__partnumber = pn\n",
      "        self.__cost = c\n",
      "        \n",
      "    def showpart(self):                              #display data         \n",
      "        print 'Name %s,'     %self.__partname,\n",
      "        print 'number %d,'   %self.__partnumber,\n",
      "        print 'costs $%.2f'  %self.__cost\n",
      "        \n",
      "        \n",
      "#define part objects        \n",
      "part1 = part()\n",
      "part2 = part()\n",
      "\n",
      "part1.setpart(\"handle bolt\",4473,217.55)             #set parts\n",
      "part2.setpart(\"start level\",9924,419.25)\n",
      " \n",
      "print 'First part:'                                  #show part\n",
      "part1.showpart()\n",
      "print 'Second parrt:'\n",
      "part2.showpart()"
     ],
     "language": "python",
     "metadata": {},
     "outputs": [
      {
       "output_type": "stream",
       "stream": "stdout",
       "text": [
        "First part:\n",
        "Name handle bolt, number 4473, costs $217.55\n",
        "Second parrt:\n",
        "Name start level, number 9924, costs $419.25\n"
       ]
      }
     ],
     "prompt_number": 19
    },
    {
     "cell_type": "heading",
     "level": 1,
     "metadata": {},
     "source": [
      "Example 7.20, Page Number 300"
     ]
    },
    {
     "cell_type": "code",
     "collapsed": false,
     "input": [
      "class String:\n",
      "    \n",
      "    def __init__(self,s = '\\0'):               #overloaded constructor\n",
      "        self.__str = s\n",
      "        \n",
      "    def display(self):                         #display string\n",
      "        print self.__str\n",
      "        \n",
      "    def concat(self,s2):                       #add argument string to this string\n",
      "        if len(self.__str)+len(s2.__str) < 80:\n",
      "            self.__str = self.__str + s2.__str\n",
      "        else:\n",
      "            print 'String too long'\n",
      "        \n",
      "        \n",
      "        \n",
      "s1 = String(\"Merry Christmas!  \")              #define the string\n",
      "s2 = String(\"Season's Greetings!\")\n",
      "s3 = String()\n",
      "\n",
      "print 's1 =',               #display them all\n",
      "s1.display()\n",
      "print 's2 =',\n",
      "s2.display()\n",
      "print 's3 =',\n",
      "s3.display()\n",
      "\n",
      "s3 = s1                     #assignment\n",
      "\n",
      "print 's3 =',               #display s3\n",
      "s3.display()\n",
      "\n",
      "s3.concat(s2)               #concatenation\n",
      "\n",
      "print 's3 =',               #display s3\n",
      "s3.display()"
     ],
     "language": "python",
     "metadata": {},
     "outputs": [
      {
       "output_type": "stream",
       "stream": "stdout",
       "text": [
        "s1 = Merry Christmas!  \n",
        "s2 = Season's Greetings!\n",
        "s3 = \u0000\n",
        "s3 = Merry Christmas!  \n",
        "s3 = Merry Christmas!  Season's Greetings!\n"
       ]
      }
     ],
     "prompt_number": 20
    },
    {
     "cell_type": "heading",
     "level": 2,
     "metadata": {},
     "source": [
      "Example 7.21, Page Number 303"
     ]
    },
    {
     "cell_type": "code",
     "collapsed": false,
     "input": [
      "s1 = \"Man\"                 #initialize\n",
      "s2 = \"Beast\"\n",
      "\n",
      "s3 = s1                    #assign\n",
      "print 's3 =',s3\n",
      "\n",
      "s3 = \"Neither \" + s1 + \" Nor \"         #concatenate\n",
      "s3 += s2                               #concatenate\n",
      "print 's3 =',s3\n",
      " \n",
      "s4 = s2                    #swap s1 and s2\n",
      "s2 = s1\n",
      "s1 = s4\n",
      "\n",
      "print s1 , 'nor' , s2"
     ],
     "language": "python",
     "metadata": {},
     "outputs": [
      {
       "output_type": "stream",
       "stream": "stdout",
       "text": [
        "s3 = Man\n",
        "s3 = Neither Man Nor Beast\n",
        "Beast nor Man\n"
       ]
      }
     ],
     "prompt_number": 21
    },
    {
     "cell_type": "heading",
     "level": 2,
     "metadata": {},
     "source": [
      "Example 7.22, Page Number 304"
     ]
    },
    {
     "cell_type": "code",
     "collapsed": false,
     "input": [
      "greeting = \"Hello, \"\n",
      "\n",
      "full_name = raw_input(\"Enter your full name: \")            #get the name of user\n",
      "print 'Your full name is:',full_name\n",
      "\n",
      "nickname = raw_input(\"Enter your nickname: \")              #get the nickname\n",
      " \n",
      "greeting += nickname                                       #append name with greeting\n",
      "print greeting                                             #output: \"Hello, Jim\"\n",
      "\n",
      "print 'Enter your address on separate lines'\n",
      "print 'Terminate with \\'$\\''\n",
      "\n",
      "address = \"\"\n",
      "stopword = \"$\"\n",
      "\n",
      "while True:\n",
      "    line = raw_input()               #taking input line by line\n",
      "    if line.strip() == stopword:     #stop when tenmination condition matches\n",
      "        break\n",
      "    address += \"%s\\n\" % line\n",
      "    \n",
      "print 'Your address is:'\n",
      "print address                   #print the whole string"
     ],
     "language": "python",
     "metadata": {},
     "outputs": [
      {
       "name": "stdout",
       "output_type": "stream",
       "stream": "stdout",
       "text": [
        "Enter your full name: F. Scott Fitzgerald\n"
       ]
      },
      {
       "output_type": "stream",
       "stream": "stdout",
       "text": [
        "Your full name is: F. Scott Fitzgerald\n"
       ]
      },
      {
       "name": "stdout",
       "output_type": "stream",
       "stream": "stdout",
       "text": [
        "Enter your nickname: Scotty\n"
       ]
      },
      {
       "output_type": "stream",
       "stream": "stdout",
       "text": [
        "Hello, Scotty\n",
        "Enter your address on separate lines\n",
        "Terminate with '$'\n"
       ]
      },
      {
       "name": "stdout",
       "output_type": "stream",
       "stream": "stdout",
       "text": [
        "1922 Zelda Lane\n"
       ]
      },
      {
       "name": "stdout",
       "output_type": "stream",
       "stream": "stdout",
       "text": [
        "East Egg, New York\n"
       ]
      },
      {
       "name": "stdout",
       "output_type": "stream",
       "stream": "stdout",
       "text": [
        "$\n"
       ]
      },
      {
       "output_type": "stream",
       "stream": "stdout",
       "text": [
        "Your address is:\n",
        "1922 Zelda Lane\n",
        "East Egg, New York\n",
        "\n"
       ]
      }
     ],
     "prompt_number": 22
    },
    {
     "cell_type": "heading",
     "level": 2,
     "metadata": {},
     "source": [
      "Example 7.23, Page Number 305"
     ]
    },
    {
     "cell_type": "code",
     "collapsed": false,
     "input": [
      "def find_first_not_of(s1,s2):\n",
      "    \n",
      "    a = len(s2)                        #length of the string to be checked\n",
      "    \n",
      "    arr = [99 for j in range(a)]       #array for storing the matches index\n",
      "    \n",
      "    for j in range(a):\n",
      "        n = s1.find(s2[j])             #A character of second string is present in the first string then \n",
      "        if n!=-1:\n",
      "            arr[j] = n                 #put the index in the array\n",
      "            \n",
      "    arr.sort()                         #sort the array to check first occarence\n",
      "    \n",
      "    return arr[0]+1                    #return the first index\n",
      "\n",
      "\n",
      "\n",
      "s1 = \"In xanada did Kubla Kahn a stately pleasure dome decree\"\n",
      "\n",
      "n = s1.find(\"Kubla\")\n",
      "print 'Found kubla at',n\n",
      "\n",
      "n = s1.index(\"d\")\n",
      "print 'First of spde at',n\n",
      "\n",
      "n = find_first_not_of(s1,\"aeiouAEIOU\")\n",
      "print 'Found consonant at',n"
     ],
     "language": "python",
     "metadata": {},
     "outputs": [
      {
       "output_type": "stream",
       "stream": "stdout",
       "text": [
        "Found kubla at 14\n",
        "First of spde at 7\n",
        "Found consonant at 1\n"
       ]
      }
     ],
     "prompt_number": 23
    },
    {
     "cell_type": "heading",
     "level": 2,
     "metadata": {},
     "source": [
      "Example 7.24, Page Number 306"
     ]
    },
    {
     "cell_type": "code",
     "collapsed": false,
     "input": [
      "s1 = \"Quick! Send for Count Graystone.\"\n",
      "s2 = \"Lord\"\n",
      "s3 = \"Don't \"\n",
      "\n",
      "s1 = s1[7:]                          #remove \"Quick! \"\n",
      "s1 = s1.replace(\"Count\",s2)          #replace \"Count\" with \"Lord\"\n",
      "s1 = s1.replace(\"S\",\"s\")             #replace 'S' with 's'\n",
      "s1 = s3 + s1                         #insert \"Don't \" at beginning\n",
      "s1 = s1[:-1]                         #remove '.'\n",
      "s1 = s1 + \"!!!\"                      #append \"!!!\"\n",
      "s1 = s1.replace(\" \",\"/\")             #replace all white space with '/'\n",
      "    \n",
      "print s1"
     ],
     "language": "python",
     "metadata": {},
     "outputs": [
      {
       "output_type": "stream",
       "stream": "stdout",
       "text": [
        "Don't/send/for/Lord/Graystone!!!\n"
       ]
      }
     ],
     "prompt_number": 24
    },
    {
     "cell_type": "heading",
     "level": 2,
     "metadata": {},
     "source": [
      "Example 7.25, Page Number 308"
     ]
    },
    {
     "cell_type": "code",
     "collapsed": false,
     "input": [
      "aName = \"George\"\n",
      "\n",
      "username = raw_input(\"Enter your first name: \")\n",
      "\n",
      "if username == aName:                    #operator ==\n",
      "    print \"Greetings, George\"\n",
      "    \n",
      "elif username < aName:                   #operator <\n",
      "    print 'You come before George'\n",
      "    \n",
      "else:\n",
      "    print 'You come after George'\n",
      "    \n",
      "    \n",
      "    \n",
      "print 'The first two letters of your name',    \n",
      "\n",
      "username = username[:2]\n",
      "aName = aName[:2]\n",
      "\n",
      "if username == aName:\n",
      "    print \"match\",\n",
      "elif username < aName:\n",
      "    print 'come before',\n",
      "else:\n",
      "    print 'come after',\n",
      "print aName"
     ],
     "language": "python",
     "metadata": {},
     "outputs": [
      {
       "name": "stdout",
       "output_type": "stream",
       "stream": "stdout",
       "text": [
        "Enter your first name: Alfred\n"
       ]
      },
      {
       "output_type": "stream",
       "stream": "stdout",
       "text": [
        "You come before George\n",
        "The first two letters of your name come before Ge\n"
       ]
      }
     ],
     "prompt_number": 25
    },
    {
     "cell_type": "heading",
     "level": 2,
     "metadata": {},
     "source": [
      "Example 7.26, Page Number 309"
     ]
    },
    {
     "cell_type": "code",
     "collapsed": false,
     "input": [
      "word = raw_input(\"Enter a word: \")    #take string from user\n",
      "wlen = len(word)                      #length of string object\n",
      "\n",
      "print 'One character at a time: ',\n",
      "for j in range(wlen):\n",
      "    print word[j],\n",
      "    \n",
      "charray = []*80\n",
      "charray = word                        #copy string object to another object\n",
      "print '\\nArray contains:',charray"
     ],
     "language": "python",
     "metadata": {},
     "outputs": [
      {
       "name": "stdout",
       "output_type": "stream",
       "stream": "stdout",
       "text": [
        "Enter a word: symbiosis\n"
       ]
      },
      {
       "output_type": "stream",
       "stream": "stdout",
       "text": [
        "One character at a time:  s y m b i o s i s \n",
        "Array contains: symbiosis\n"
       ]
      }
     ],
     "prompt_number": 26
    },
    {
     "cell_type": "code",
     "collapsed": false,
     "input": [],
     "language": "python",
     "metadata": {},
     "outputs": []
    }
   ],
   "metadata": {}
  }
 ]
}