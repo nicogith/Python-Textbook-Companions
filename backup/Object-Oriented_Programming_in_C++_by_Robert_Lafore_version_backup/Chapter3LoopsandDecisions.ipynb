{
 "metadata": {
  "name": "",
  "signature": "sha256:abb4d46ac01e10f7d8b20abc34507fedb6ef862a0261c1c08a15bf0753bd1d1a"
 },
 "nbformat": 3,
 "nbformat_minor": 0,
 "worksheets": [
  {
   "cells": [
    {
     "cell_type": "heading",
     "level": 1,
     "metadata": {},
     "source": [
      "Chapter 3: Loops and Decisions"
     ]
    },
    {
     "cell_type": "heading",
     "level": 2,
     "metadata": {},
     "source": [
      "Example 3.1, Page Number: 76"
     ]
    },
    {
     "cell_type": "code",
     "collapsed": false,
     "input": [
      "numb = input(\"Enter a number: \")                #get the number\n",
      "\n",
      "print 'numb<10  is',int(numb < 10)\n",
      "print 'numb>10  is',int(numb > 10)\n",
      "print 'numb==10 is',int(numb == 10),'\\n'"
     ],
     "language": "python",
     "metadata": {},
     "outputs": [
      {
       "name": "stdout",
       "output_type": "stream",
       "stream": "stdout",
       "text": [
        "Enter a number: 20\n"
       ]
      },
      {
       "output_type": "stream",
       "stream": "stdout",
       "text": [
        "numb<10  is 0\n",
        "numb>10  is 1\n",
        "numb==10 is 0 \n",
        "\n"
       ]
      }
     ],
     "prompt_number": 1
    },
    {
     "cell_type": "heading",
     "level": 2,
     "metadata": {},
     "source": [
      "Example 3.2, Page Number: 78"
     ]
    },
    {
     "cell_type": "code",
     "collapsed": false,
     "input": [
      "for j in range(15):           #for loop from 0 to 14\n",
      "    print j*j,'',             #displaying the square of j"
     ],
     "language": "python",
     "metadata": {},
     "outputs": [
      {
       "output_type": "stream",
       "stream": "stdout",
       "text": [
        "0  1  4  9  16  25  36  49  64  81  100  121  144  169  196 \n"
       ]
      }
     ],
     "prompt_number": 2
    },
    {
     "cell_type": "heading",
     "level": 2,
     "metadata": {},
     "source": [
      "Example 3.3, Page Number: 81"
     ]
    },
    {
     "cell_type": "code",
     "collapsed": false,
     "input": [
      "numb = 1        #define noop variable\n",
      "\n",
      "\n",
      "for numb in range(1,11):           #loop from 1 to 10\n",
      "    \n",
      "    print '%4d' %(numb),           #display first column\n",
      "    cube = numb*numb*numb          #calculate cube\n",
      "    print '%6d' %(cube)            #display 2nd column"
     ],
     "language": "python",
     "metadata": {},
     "outputs": [
      {
       "output_type": "stream",
       "stream": "stdout",
       "text": [
        "   1      1\n",
        "   2      8\n",
        "   3     27\n",
        "   4     64\n",
        "   5    125\n",
        "   6    216\n",
        "   7    343\n",
        "   8    512\n",
        "   9    729\n",
        "  10   1000\n"
       ]
      }
     ],
     "prompt_number": 3
    },
    {
     "cell_type": "heading",
     "level": 2,
     "metadata": {},
     "source": [
      "Example 3.4, Page Number: 84"
     ]
    },
    {
     "cell_type": "code",
     "collapsed": false,
     "input": [
      "fact = 1\n",
      "\n",
      "numb = input(\"Enter a number: \")        #get number\n",
      "\n",
      "for j in range(numb,1,-1):             #loop from numb to 1 (numb , numb-1 , .... , 2 , 1)\n",
      "    fact *= j                          #multiply by j\n",
      "\n",
      "print 'Factorial is',fact,'\\n'         #display the factorial of the number"
     ],
     "language": "python",
     "metadata": {},
     "outputs": [
      {
       "name": "stdout",
       "output_type": "stream",
       "stream": "stdout",
       "text": [
        "Enter a number: 10\n"
       ]
      },
      {
       "output_type": "stream",
       "stream": "stdout",
       "text": [
        "Factorial is 3628800 \n",
        "\n"
       ]
      }
     ],
     "prompt_number": 4
    },
    {
     "cell_type": "heading",
     "level": 2,
     "metadata": {},
     "source": [
      "Example 3.5, Page Number: 86"
     ]
    },
    {
     "cell_type": "code",
     "collapsed": false,
     "input": [
      "n = 99      \n",
      "\n",
      "while(n!=0):            #loop untill n is 0\n",
      "    n = input()         #read a number into n\n",
      "\n",
      "print       #for end line"
     ],
     "language": "python",
     "metadata": {},
     "outputs": [
      {
       "name": "stdout",
       "output_type": "stream",
       "stream": "stdout",
       "text": [
        "1\n"
       ]
      },
      {
       "name": "stdout",
       "output_type": "stream",
       "stream": "stdout",
       "text": [
        "27\n"
       ]
      },
      {
       "name": "stdout",
       "output_type": "stream",
       "stream": "stdout",
       "text": [
        "33\n"
       ]
      },
      {
       "name": "stdout",
       "output_type": "stream",
       "stream": "stdout",
       "text": [
        "144\n"
       ]
      },
      {
       "name": "stdout",
       "output_type": "stream",
       "stream": "stdout",
       "text": [
        "9\n"
       ]
      },
      {
       "name": "stdout",
       "output_type": "stream",
       "stream": "stdout",
       "text": [
        "0\n"
       ]
      },
      {
       "output_type": "stream",
       "stream": "stdout",
       "text": [
        "\n"
       ]
      }
     ],
     "prompt_number": 5
    },
    {
     "cell_type": "heading",
     "level": 2,
     "metadata": {},
     "source": [
      "Example 3.6, Page Number: 88"
     ]
    },
    {
     "cell_type": "code",
     "collapsed": false,
     "input": [
      "pow = 1                #power variable initially 1\n",
      "numb = 1               #numb goes from 1 to ???\n",
      " \n",
      "    \n",
      "while(pow<10000):                #loop untill power <= 4 digits\n",
      "    print '%2d' %(numb),         #display number\n",
      "    print '%5d' %(pow)           #display 4th power\n",
      "    numb += 1                    #get for next power\n",
      "    pow = numb*numb*numb*numb    #calculate forth power"
     ],
     "language": "python",
     "metadata": {},
     "outputs": [
      {
       "output_type": "stream",
       "stream": "stdout",
       "text": [
        " 1     1\n",
        " 2    16\n",
        " 3    81\n",
        " 4   256\n",
        " 5   625\n",
        " 6  1296\n",
        " 7  2401\n",
        " 8  4096\n",
        " 9  6561\n"
       ]
      }
     ],
     "prompt_number": 6
    },
    {
     "cell_type": "heading",
     "level": 2,
     "metadata": {},
     "source": [
      "Example 3.7, Page Number: 89"
     ]
    },
    {
     "cell_type": "code",
     "collapsed": false,
     "input": [
      "limit = 4294967295      #largest unsigned long  \n",
      "next = 0                #next-to-last term\n",
      "last = 1                #last term\n",
      "\n",
      "\n",
      "while(next<limit/2):       #don't let results get too big\n",
      "    print last,'',         #display last term\n",
      "    sum = next + last      #add last two terms\n",
      "    next = last            #variables move forword in the series\n",
      "    last = sum             \n",
      "     \n",
      "print '\\n'"
     ],
     "language": "python",
     "metadata": {},
     "outputs": [
      {
       "output_type": "stream",
       "stream": "stdout",
       "text": [
        "1  1  2  3  5  8  13  21  34  55  89  144  233  377  610  987  1597  2584  4181  6765  10946  17711  28657  46368  75025  121393  196418  317811  514229  832040  1346269  2178309  3524578  5702887  9227465  14930352  24157817  39088169  63245986  102334155  165580141  267914296  433494437  701408733  1134903170  1836311903  2971215073  \n",
        "\n"
       ]
      }
     ],
     "prompt_number": 7
    },
    {
     "cell_type": "heading",
     "level": 2,
     "metadata": {},
     "source": [
      "Example 3.8, Page Number: 91"
     ]
    },
    {
     "cell_type": "code",
     "collapsed": false,
     "input": [
      "while True:                                   #start while loop\n",
      "                                              #find out the quotient and remainder\n",
      "    dividend = input(\"Enter dividend: \")\n",
      "    divisor = input(\"Enter divisor: \")\n",
      "    \n",
      "    print 'Quotient is',dividend / divisor,\n",
      "    print ', Remainder is',dividend % divisor\n",
      "    \n",
      "    ch = raw_input(\"Do another? (y/n): \")      #do it again\n",
      "    \n",
      "    if(ch == 'n'):              #loop condition\n",
      "        break;"
     ],
     "language": "python",
     "metadata": {},
     "outputs": [
      {
       "name": "stdout",
       "output_type": "stream",
       "stream": "stdout",
       "text": [
        "Enter dividend: 11\n"
       ]
      },
      {
       "name": "stdout",
       "output_type": "stream",
       "stream": "stdout",
       "text": [
        "Enter divisor: 3\n"
       ]
      },
      {
       "output_type": "stream",
       "stream": "stdout",
       "text": [
        "Quotient is 3 , Remainder is 2\n"
       ]
      },
      {
       "name": "stdout",
       "output_type": "stream",
       "stream": "stdout",
       "text": [
        "Do another? (y/n): y\n"
       ]
      },
      {
       "name": "stdout",
       "output_type": "stream",
       "stream": "stdout",
       "text": [
        "Enter dividend: 222\n"
       ]
      },
      {
       "name": "stdout",
       "output_type": "stream",
       "stream": "stdout",
       "text": [
        "Enter divisor: 17\n"
       ]
      },
      {
       "output_type": "stream",
       "stream": "stdout",
       "text": [
        "Quotient is 13 , Remainder is 1\n"
       ]
      },
      {
       "name": "stdout",
       "output_type": "stream",
       "stream": "stdout",
       "text": [
        "Do another? (y/n): n\n"
       ]
      }
     ],
     "prompt_number": 8
    },
    {
     "cell_type": "heading",
     "level": 2,
     "metadata": {},
     "source": [
      "Example 3.9, Page Number: 94"
     ]
    },
    {
     "cell_type": "code",
     "collapsed": false,
     "input": [
      "x = input(\"Enter a number: \")              #get input\n",
      "\n",
      "if(x > 100):                       #check whether a number is greater than 100 or not\n",
      "    print 'That number is greater than 100 \\n'"
     ],
     "language": "python",
     "metadata": {},
     "outputs": [
      {
       "name": "stdout",
       "output_type": "stream",
       "stream": "stdout",
       "text": [
        "Enter a number: 2000\n"
       ]
      },
      {
       "output_type": "stream",
       "stream": "stdout",
       "text": [
        "That number is greater than 100 \n",
        "\n"
       ]
      }
     ],
     "prompt_number": 9
    },
    {
     "cell_type": "heading",
     "level": 2,
     "metadata": {},
     "source": [
      "Example 3.10, Page Number: 96"
     ]
    },
    {
     "cell_type": "code",
     "collapsed": false,
     "input": [
      "x = input(\"Enter a number: \")          #get input\n",
      "\n",
      "if(x > 100):                           #check whether a number is greater than 100 or not\n",
      "    print 'That number',x,             #print the number\n",
      "    print 'is greater than 100 \\n'"
     ],
     "language": "python",
     "metadata": {},
     "outputs": [
      {
       "name": "stdout",
       "output_type": "stream",
       "stream": "stdout",
       "text": [
        "Enter a number: 12345\n"
       ]
      },
      {
       "output_type": "stream",
       "stream": "stdout",
       "text": [
        "That number 12345 is greater than 100 \n",
        "\n"
       ]
      }
     ],
     "prompt_number": 10
    },
    {
     "cell_type": "heading",
     "level": 2,
     "metadata": {},
     "source": [
      "Example 3.11, Page Number: 96"
     ]
    },
    {
     "cell_type": "code",
     "collapsed": false,
     "input": [
      "import sys\n",
      "\n",
      "n = input(\"Enter a number: \")            #get input to test\n",
      "b=0\n",
      "\n",
      "for j in range(2,n/2+1,1):            #divide by every integer from 2\n",
      "    \n",
      "    if(n%j == 0):                     #if remainder is 0\n",
      "        print 'It\\'s not prime; divisible by',j             #it's divisible by j\n",
      "        b=1\n",
      "        break\n",
      "        \n",
      "if b==0:\n",
      "    print 'It\\'s prime'"
     ],
     "language": "python",
     "metadata": {},
     "outputs": [
      {
       "name": "stdout",
       "output_type": "stream",
       "stream": "stdout",
       "text": [
        "Enter a number: 22231\n"
       ]
      },
      {
       "output_type": "stream",
       "stream": "stdout",
       "text": [
        "It's not prime; divisible by 11\n"
       ]
      }
     ],
     "prompt_number": 11
    },
    {
     "cell_type": "heading",
     "level": 2,
     "metadata": {},
     "source": [
      "Example 3.12, Page Number: 98"
     ]
    },
    {
     "cell_type": "code",
     "collapsed": false,
     "input": [
      "x = input(\"Enter a number: \")              #get input\n",
      "\n",
      "if x>100:                                #if input is greater than 100\n",
      "    print 'That number is greater than 100\\n'\n",
      "    \n",
      "else:                                    #if input less than or equal to 100\n",
      "    print 'That number is not greater than 100\\n'"
     ],
     "language": "python",
     "metadata": {},
     "outputs": [
      {
       "name": "stdout",
       "output_type": "stream",
       "stream": "stdout",
       "text": [
        "Enter a number: 3\n"
       ]
      },
      {
       "output_type": "stream",
       "stream": "stdout",
       "text": [
        "That number is not greater than 100\n",
        "\n"
       ]
      }
     ],
     "prompt_number": 12
    },
    {
     "cell_type": "heading",
     "level": 2,
     "metadata": {},
     "source": [
      "Example 3.13, Page Number: 100"
     ]
    },
    {
     "cell_type": "code",
     "collapsed": false,
     "input": [
      "chcount = 0             #counts non-space characters\n",
      "wdcount = 1             #counts spaces between words\n",
      "ch = 'a'\n",
      "\n",
      "ch = raw_input(\"Enter a phrase: \")        #geting the line\n",
      "\n",
      "for j in range(len(ch)):      #for loop till line ends\n",
      "    if ch[j] == ' ':          #if it's a space\n",
      "        wdcount += 1          #count a word\n",
      "    else:                     #otherwise\n",
      "        chcount += 1          #count a character\n",
      "\n",
      "print 'Words =',wdcount,'\\nLetters =',(chcount),'\\n'        #display result"
     ],
     "language": "python",
     "metadata": {},
     "outputs": [
      {
       "name": "stdout",
       "output_type": "stream",
       "stream": "stdout",
       "text": [
        "Enter a phrase: For while and do\n"
       ]
      },
      {
       "output_type": "stream",
       "stream": "stdout",
       "text": [
        "Words = 4 \n",
        "Letters = 13 \n",
        "\n"
       ]
      }
     ],
     "prompt_number": 13
    },
    {
     "cell_type": "heading",
     "level": 2,
     "metadata": {},
     "source": [
      "Example 3.14, Page Number: 101"
     ]
    },
    {
     "cell_type": "code",
     "collapsed": false,
     "input": [
      "chcount = 0             #counts non-space characters\n",
      "wdcount = 1             #counts spaces between words\n",
      "ch = 'a'\n",
      "\n",
      "ch = raw_input(\"Enter a phrase: \")        #geting the line\n",
      "\n",
      "for j in range(len(ch)):      #for loop till line ends\n",
      "    if ch[j] == ' ':          #if it's a space\n",
      "        wdcount += 1          #count a word\n",
      "    else:                     #otherwise\n",
      "        chcount += 1          #count a character\n",
      "\n",
      "print 'Words =',wdcount,'\\nLetters =',(chcount),'\\n'        #display result"
     ],
     "language": "python",
     "metadata": {},
     "outputs": [
      {
       "name": "stdout",
       "output_type": "stream",
       "stream": "stdout",
       "text": [
        "Enter a phrase: For while and do\n"
       ]
      },
      {
       "output_type": "stream",
       "stream": "stdout",
       "text": [
        "Words = 4 \n",
        "Letters = 13 \n",
        "\n"
       ]
      }
     ],
     "prompt_number": 14
    },
    {
     "cell_type": "heading",
     "level": 2,
     "metadata": {},
     "source": [
      "Example 3.15, Page Number: 102"
     ]
    },
    {
     "cell_type": "code",
     "collapsed": false,
     "input": [
      "dir = 'a'\n",
      "x = 10\n",
      "y = 10\n",
      "\n",
      "print 'Type Enter to quit'\n",
      "\n",
      "while(dir != '\\n'):                 #untill Enter is typed\n",
      "    \n",
      "    print 'Your location is',x,',',y\n",
      "    dir = raw_input('\\nPress direction key (n, s, e, w): ')           #get direction\n",
      "    \n",
      "    if dir == 'n':       #go north\n",
      "        y += 1\n",
      "    else:\n",
      "        if dir == 's':      #go south\n",
      "            y -= 1\n",
      "        else:\n",
      "            if dir == 'e':      #go east\n",
      "                x += 1\n",
      "            else:\n",
      "                if dir == 'w':     #go west\n",
      "                    x-=1\n",
      "                else:\n",
      "                    break"
     ],
     "language": "python",
     "metadata": {},
     "outputs": [
      {
       "output_type": "stream",
       "stream": "stdout",
       "text": [
        "Type Enter to quit\n",
        "Your location is 10 , 10\n"
       ]
      },
      {
       "name": "stdout",
       "output_type": "stream",
       "stream": "stdout",
       "text": [
        "\n",
        "Press direction key (n, s, e, w): s\n"
       ]
      },
      {
       "output_type": "stream",
       "stream": "stdout",
       "text": [
        "Your location is 10 , 9\n"
       ]
      },
      {
       "name": "stdout",
       "output_type": "stream",
       "stream": "stdout",
       "text": [
        "\n",
        "Press direction key (n, s, e, w): e\n"
       ]
      },
      {
       "output_type": "stream",
       "stream": "stdout",
       "text": [
        "Your location is 11 , 9\n"
       ]
      },
      {
       "name": "stdout",
       "output_type": "stream",
       "stream": "stdout",
       "text": [
        "\n",
        "Press direction key (n, s, e, w): \n"
       ]
      }
     ],
     "prompt_number": 15
    },
    {
     "cell_type": "heading",
     "level": 2,
     "metadata": {},
     "source": [
      "Example 3.16, Page Number: 104"
     ]
    },
    {
     "cell_type": "code",
     "collapsed": false,
     "input": [
      "#get three numbers\n",
      "print 'Enter three number, a, b, c:'\n",
      "a = input()\n",
      "b = input()\n",
      "c = input()\n",
      "\n",
      "if a==b:                        #if a=b\n",
      "    \n",
      "    if b==c:                    #if b=c i.e. all three numbers are same \n",
      "        print 'a, b, and c are the same\\n'\n",
      "        \n",
      "    else:\n",
      "        print 'b and c are different\\n'\n",
      "        \n",
      "else:                       #if a != b\n",
      "    print 'a and b are different\\n'"
     ],
     "language": "python",
     "metadata": {},
     "outputs": [
      {
       "output_type": "stream",
       "stream": "stdout",
       "text": [
        "Enter three number, a, b, c:\n"
       ]
      },
      {
       "name": "stdout",
       "output_type": "stream",
       "stream": "stdout",
       "text": [
        "2\n"
       ]
      },
      {
       "name": "stdout",
       "output_type": "stream",
       "stream": "stdout",
       "text": [
        "3\n"
       ]
      },
      {
       "name": "stdout",
       "output_type": "stream",
       "stream": "stdout",
       "text": [
        "3\n"
       ]
      },
      {
       "output_type": "stream",
       "stream": "stdout",
       "text": [
        "a and b are different\n",
        "\n"
       ]
      }
     ],
     "prompt_number": 16
    },
    {
     "cell_type": "heading",
     "level": 2,
     "metadata": {},
     "source": [
      "Example 3.17, Page Number: 106"
     ]
    },
    {
     "cell_type": "code",
     "collapsed": false,
     "input": [
      "dir = 'a'\n",
      "x = 10\n",
      "y = 10\n",
      "\n",
      "print 'Type Enter to quit'\n",
      "\n",
      "while(dir != '\\n'):                 #untill Enter is typed\n",
      "    \n",
      "    print 'Your location is',x,',',y\n",
      "    dir = raw_input('\\nPress direction key (n, s, e, w): ')           #get charcter\n",
      "    \n",
      "    if dir == 'n':       #go north\n",
      "        y += 1\n",
      "    elif dir == 's':     #go south\n",
      "        y -= 1\n",
      "    elif dir == 'e':     #go east\n",
      "        x += 1\n",
      "    elif dir == 'w':     #go west\n",
      "        x -= 1\n",
      "    else:\n",
      "        break"
     ],
     "language": "python",
     "metadata": {},
     "outputs": [
      {
       "output_type": "stream",
       "stream": "stdout",
       "text": [
        "Type Enter to quit\n",
        "Your location is 10 , 10\n"
       ]
      },
      {
       "name": "stdout",
       "output_type": "stream",
       "stream": "stdout",
       "text": [
        "\n",
        "Press direction key (n, s, e, w): s\n"
       ]
      },
      {
       "output_type": "stream",
       "stream": "stdout",
       "text": [
        "Your location is 10 , 9\n"
       ]
      },
      {
       "name": "stdout",
       "output_type": "stream",
       "stream": "stdout",
       "text": [
        "\n",
        "Press direction key (n, s, e, w): e\n"
       ]
      },
      {
       "output_type": "stream",
       "stream": "stdout",
       "text": [
        "Your location is 11 , 9\n"
       ]
      },
      {
       "name": "stdout",
       "output_type": "stream",
       "stream": "stdout",
       "text": [
        "\n",
        "Press direction key (n, s, e, w): \n"
       ]
      }
     ],
     "prompt_number": 17
    },
    {
     "cell_type": "heading",
     "level": 2,
     "metadata": {},
     "source": [
      "Example 3.18, Page Number: 107"
     ]
    },
    {
     "cell_type": "code",
     "collapsed": false,
     "input": [
      "speed = input(\"Enter 33, 45, or 78: \")             #get value of speed from user\n",
      "\n",
      "#selection based on speed\n",
      "\n",
      "if speed == 33:            #if user entered 33              \n",
      "    print 'LP album\\n'\n",
      "    \n",
      "elif speed == 45:          #if user entered 45\n",
      "    print 'Single selection\\n'\n",
      "    \n",
      "elif speed == 78:          #if user entered 78\n",
      "    print 'Obsolete formate\\n'"
     ],
     "language": "python",
     "metadata": {},
     "outputs": [
      {
       "name": "stdout",
       "output_type": "stream",
       "stream": "stdout",
       "text": [
        "Enter 33, 45, or 78: 45\n"
       ]
      },
      {
       "output_type": "stream",
       "stream": "stdout",
       "text": [
        "Single selection\n",
        "\n"
       ]
      }
     ],
     "prompt_number": 18
    },
    {
     "cell_type": "heading",
     "level": 2,
     "metadata": {},
     "source": [
      "Example 3.19, Page Number: 110"
     ]
    },
    {
     "cell_type": "code",
     "collapsed": false,
     "input": [
      "dir = 'a'\n",
      "x = 10\n",
      "y = 10\n",
      "\n",
      "print 'Type Enter to quit'\n",
      "\n",
      "while(dir != '\\n'):                 #untill Enter is typed\n",
      "    \n",
      "    print 'Your location is',x,',',y\n",
      "    dir = raw_input('\\nPress direction key (n, s, e, w): ')           #get charcter\n",
      "    \n",
      "    if dir == 'n':       #go north\n",
      "        y += 1\n",
      "    elif dir == 's':      #go south\n",
      "        y -= 1\n",
      "    elif dir == 'e':      #go east\n",
      "        x += 1\n",
      "    elif dir == 'w':     #go west\n",
      "        x -= 1\n",
      "        \n",
      "    elif not dir:\n",
      "        print 'Exiting'\n",
      "        break\n",
      "        \n",
      "    else:\n",
      "        print 'Try again'\n",
      "        "
     ],
     "language": "python",
     "metadata": {},
     "outputs": [
      {
       "output_type": "stream",
       "stream": "stdout",
       "text": [
        "Type Enter to quit\n",
        "Your location is 10 , 10\n"
       ]
      },
      {
       "name": "stdout",
       "output_type": "stream",
       "stream": "stdout",
       "text": [
        "\n",
        "Press direction key (n, s, e, w): s\n"
       ]
      },
      {
       "output_type": "stream",
       "stream": "stdout",
       "text": [
        "Your location is 10 , 9\n"
       ]
      },
      {
       "name": "stdout",
       "output_type": "stream",
       "stream": "stdout",
       "text": [
        "\n",
        "Press direction key (n, s, e, w): e\n"
       ]
      },
      {
       "output_type": "stream",
       "stream": "stdout",
       "text": [
        "Your location is 11 , 9\n"
       ]
      },
      {
       "name": "stdout",
       "output_type": "stream",
       "stream": "stdout",
       "text": [
        "\n",
        "Press direction key (n, s, e, w): a\n"
       ]
      },
      {
       "output_type": "stream",
       "stream": "stdout",
       "text": [
        "Try again\n",
        "Your location is 11 , 9\n"
       ]
      },
      {
       "name": "stdout",
       "output_type": "stream",
       "stream": "stdout",
       "text": [
        "\n",
        "Press direction key (n, s, e, w): \n"
       ]
      },
      {
       "output_type": "stream",
       "stream": "stdout",
       "text": [
        "Exiting\n"
       ]
      }
     ],
     "prompt_number": 19
    },
    {
     "cell_type": "heading",
     "level": 2,
     "metadata": {},
     "source": [
      "Example 3.20, Page Number: 113"
     ]
    },
    {
     "cell_type": "code",
     "collapsed": false,
     "input": [
      "for j in range(80):           #for every column\n",
      "    ch = '' if j%8 else 'X'    #ch is 'x' if column is multiple of 8 and ' ' (space) otherwise\n",
      "    print ch,"
     ],
     "language": "python",
     "metadata": {},
     "outputs": [
      {
       "output_type": "stream",
       "stream": "stdout",
       "text": [
        "X        X        X        X        X        X        X        X        X        X       \n"
       ]
      }
     ],
     "prompt_number": 20
    },
    {
     "cell_type": "heading",
     "level": 2,
     "metadata": {},
     "source": [
      "Example 3.21, Page Number: 115"
     ]
    },
    {
     "cell_type": "code",
     "collapsed": false,
     "input": [
      "dir = 'a'\n",
      "x = 10\n",
      "y = 10\n",
      "\n",
      "print 'Type Enter to quit'\n",
      "\n",
      "while(dir != '\\n'):                 #untill Enter is typed\n",
      "    \n",
      "    print 'Your location is',x,',',y\n",
      "    dir = raw_input('\\nPress direction key (n, s, e, w): ')           #get charcter\n",
      "    \n",
      "                          #Update coordinates\n",
      "    if dir == 'n':        #go north\n",
      "        y -= 1\n",
      "    elif dir == 's':      #go south\n",
      "        y += 1\n",
      "    elif dir == 'e':      #go east\n",
      "        x += 1\n",
      "    elif dir == 'w':      #go west\n",
      "        x -= 1\n",
      "    else:\n",
      "        break\n",
      "    if x == 7 and y == 11:        #if x is 7 and y is 11\n",
      "        print 'You found the treasure'\n",
      "        break;                    #exit from program"
     ],
     "language": "python",
     "metadata": {},
     "outputs": [
      {
       "output_type": "stream",
       "stream": "stdout",
       "text": [
        "Type Enter to quit\n",
        "Your location is 10 , 10\n"
       ]
      },
      {
       "name": "stdout",
       "output_type": "stream",
       "stream": "stdout",
       "text": [
        "\n",
        "Press direction key (n, s, e, w): w\n"
       ]
      },
      {
       "output_type": "stream",
       "stream": "stdout",
       "text": [
        "Your location is 9 , 10\n"
       ]
      },
      {
       "name": "stdout",
       "output_type": "stream",
       "stream": "stdout",
       "text": [
        "\n",
        "Press direction key (n, s, e, w): w\n"
       ]
      },
      {
       "output_type": "stream",
       "stream": "stdout",
       "text": [
        "Your location is 8 , 10\n"
       ]
      },
      {
       "name": "stdout",
       "output_type": "stream",
       "stream": "stdout",
       "text": [
        "\n",
        "Press direction key (n, s, e, w): w\n"
       ]
      },
      {
       "output_type": "stream",
       "stream": "stdout",
       "text": [
        "Your location is 7 , 10\n"
       ]
      },
      {
       "name": "stdout",
       "output_type": "stream",
       "stream": "stdout",
       "text": [
        "\n",
        "Press direction key (n, s, e, w): s\n"
       ]
      },
      {
       "output_type": "stream",
       "stream": "stdout",
       "text": [
        "You found the treasure\n"
       ]
      }
     ],
     "prompt_number": 21
    },
    {
     "cell_type": "heading",
     "level": 2,
     "metadata": {},
     "source": [
      "Example 3.22, Page Number: 116"
     ]
    },
    {
     "cell_type": "code",
     "collapsed": false,
     "input": [
      "dir = 'a'\n",
      "x = 10\n",
      "y = 10\n",
      "\n",
      "print 'Type Enter to quit'\n",
      "\n",
      "while(dir != '\\n'):                 #untill Enter is typed\n",
      "    \n",
      "    print 'Your location is',x,',',y\n",
      "    \n",
      "    if x < 5 or x > 15:        #if x west of 5 and x east 15\n",
      "        print 'Beware: dragons lurk here'\n",
      "    \n",
      "    dir = raw_input('\\nPress direction key (n, s, e, w): ')           #get charcter\n",
      "    \n",
      "                          #Update coordinates\n",
      "    if dir == 'n':        #go north\n",
      "        y -= 1\n",
      "    elif dir == 's':      #go south\n",
      "        y += 1\n",
      "    elif dir == 'e':      #go east\n",
      "        x += 1\n",
      "    elif dir == 'w':     #go west\n",
      "        x -= 1\n",
      "    else:\n",
      "        break\n",
      "    "
     ],
     "language": "python",
     "metadata": {},
     "outputs": [
      {
       "output_type": "stream",
       "stream": "stdout",
       "text": [
        "Type Enter to quit\n",
        "Your location is 10 , 10\n"
       ]
      },
      {
       "name": "stdout",
       "output_type": "stream",
       "stream": "stdout",
       "text": [
        "\n",
        "Press direction key (n, s, e, w): n\n"
       ]
      },
      {
       "output_type": "stream",
       "stream": "stdout",
       "text": [
        "Your location is 10 , 9\n"
       ]
      },
      {
       "name": "stdout",
       "output_type": "stream",
       "stream": "stdout",
       "text": [
        "\n",
        "Press direction key (n, s, e, w): e\n"
       ]
      },
      {
       "output_type": "stream",
       "stream": "stdout",
       "text": [
        "Your location is 11 , 9\n"
       ]
      },
      {
       "name": "stdout",
       "output_type": "stream",
       "stream": "stdout",
       "text": [
        "\n",
        "Press direction key (n, s, e, w): e\n"
       ]
      },
      {
       "output_type": "stream",
       "stream": "stdout",
       "text": [
        "Your location is 12 , 9\n"
       ]
      },
      {
       "name": "stdout",
       "output_type": "stream",
       "stream": "stdout",
       "text": [
        "\n",
        "Press direction key (n, s, e, w): e\n"
       ]
      },
      {
       "output_type": "stream",
       "stream": "stdout",
       "text": [
        "Your location is 13 , 9\n"
       ]
      },
      {
       "name": "stdout",
       "output_type": "stream",
       "stream": "stdout",
       "text": [
        "\n",
        "Press direction key (n, s, e, w): e\n"
       ]
      },
      {
       "output_type": "stream",
       "stream": "stdout",
       "text": [
        "Your location is 14 , 9\n"
       ]
      },
      {
       "name": "stdout",
       "output_type": "stream",
       "stream": "stdout",
       "text": [
        "\n",
        "Press direction key (n, s, e, w): e\n"
       ]
      },
      {
       "output_type": "stream",
       "stream": "stdout",
       "text": [
        "Your location is 15 , 9\n"
       ]
      },
      {
       "name": "stdout",
       "output_type": "stream",
       "stream": "stdout",
       "text": [
        "\n",
        "Press direction key (n, s, e, w): e\n"
       ]
      },
      {
       "output_type": "stream",
       "stream": "stdout",
       "text": [
        "Your location is 16 , 9\n",
        "Beware: dragons lurk here\n"
       ]
      },
      {
       "name": "stdout",
       "output_type": "stream",
       "stream": "stdout",
       "text": [
        "\n",
        "Press direction key (n, s, e, w): \n"
       ]
      }
     ],
     "prompt_number": 22
    },
    {
     "cell_type": "heading",
     "level": 2,
     "metadata": {},
     "source": [
      "Example 3.23, Page Number: 121"
     ]
    },
    {
     "cell_type": "code",
     "collapsed": false,
     "input": [
      "while True:\n",
      "    \n",
      "    dividend = input(\"\\nEnter dividend: \")\n",
      "    divisor = input(\"Enetre divisor\")\n",
      "    \n",
      "    if divisor==0:                     #if attempt to divide by 0\n",
      "        \n",
      "        print 'Illegal divisor'        #display message\n",
      "        continue                       #go to top of loop\n",
      "        \n",
      "    print 'Quotient is',dividend/divisor \n",
      "    print 'remainder is',dividend%divisor\n",
      "    \n",
      "    ch = raw_input('Do another? (y/n): ')\n",
      "    \n",
      "    if(ch=='n'):\n",
      "        break"
     ],
     "language": "python",
     "metadata": {},
     "outputs": [
      {
       "name": "stdout",
       "output_type": "stream",
       "stream": "stdout",
       "text": [
        "\n",
        "Enter dividend: 10\n"
       ]
      },
      {
       "name": "stdout",
       "output_type": "stream",
       "stream": "stdout",
       "text": [
        "Enetre divisor0\n"
       ]
      },
      {
       "output_type": "stream",
       "stream": "stdout",
       "text": [
        "Illegal divisor\n"
       ]
      },
      {
       "name": "stdout",
       "output_type": "stream",
       "stream": "stdout",
       "text": [
        "\n",
        "Enter dividend: 5\n"
       ]
      },
      {
       "name": "stdout",
       "output_type": "stream",
       "stream": "stdout",
       "text": [
        "Enetre divisor2\n"
       ]
      },
      {
       "output_type": "stream",
       "stream": "stdout",
       "text": [
        "Quotient is 2\n",
        "remainder is 1\n"
       ]
      },
      {
       "name": "stdout",
       "output_type": "stream",
       "stream": "stdout",
       "text": [
        "Do another? (y/n): n\n"
       ]
      }
     ],
     "prompt_number": 23
    },
    {
     "cell_type": "code",
     "collapsed": false,
     "input": [],
     "language": "python",
     "metadata": {},
     "outputs": []
    }
   ],
   "metadata": {}
  }
 ]
}