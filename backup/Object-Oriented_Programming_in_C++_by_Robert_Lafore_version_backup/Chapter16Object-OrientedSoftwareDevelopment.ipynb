{
 "metadata": {
  "name": "",
  "signature": "sha256:cd8630fc9b66a7e6efedc99ae328bfdc2e4a3602dc808dff9cc5b962dbd1f46e"
 },
 "nbformat": 3,
 "nbformat_minor": 0,
 "worksheets": [
  {
   "cells": [
    {
     "cell_type": "heading",
     "level": 1,
     "metadata": {},
     "source": [
      "Chapter 16: Object-Oriented Software Development"
     ]
    },
    {
     "cell_type": "heading",
     "level": 2,
     "metadata": {},
     "source": [
      "Example 16.1, Page Number 831"
     ]
    },
    {
     "cell_type": "code",
     "collapsed": false,
     "input": [
      "class set:                                 #*class set*#\n",
      "    \n",
      "    def __init__(self):                    #constructor\n",
      "        self.__arr = []\n",
      "        \n",
      "    def insert(self,s):                    #insert the element in the array\n",
      "        self.__arr.append(s)\n",
      "\n",
      "    def begin(self):                       #return the first index position\n",
      "        return 0\n",
      "    \n",
      "    def end(self):                         #return the last index position\n",
      "        return len(self.__arr)\n",
      "    \n",
      "    def empty(self):                       #check set is empty or not\n",
      "        if len(self.__arr)==0:\n",
      "            return True\n",
      "        else:\n",
      "            return False\n",
      "        \n",
      "    def erase(self,s):                     #erase a particualr item from the set\n",
      "        self.__arr.remove(s)\n",
      "        \n",
      "    def op1(self,n):                       #function to return array element\n",
      "        return self.__arr[n]\n",
      "    \n",
      "    \n",
      "class vector:                               #*class vector*#\n",
      "    \n",
      "    def __init__(self):                     #constructor\n",
      "        self.__arr = []\n",
      "        \n",
      "    def push_back(self,s):                  #insert the element in the array\n",
      "        self.__arr.append(s)\n",
      "\n",
      "    def begin(self):                       #return the first index position\n",
      "        return 0\n",
      "    \n",
      "    def end(self):                         #return the last index position\n",
      "        return len(self.__arr)\n",
      "    \n",
      "    def empty(self):                       #check vector is empty or not\n",
      "        if len(self.__arr)==0:\n",
      "            return True\n",
      "        else:\n",
      "            return False\n",
      "        \n",
      "    def size(self):                         #return the size of vector\n",
      "        return len(self.__arr)\n",
      "        \n",
      "    def erase(self,s):                      #erase a particualr item from the vector\n",
      "        self.__arr.remove(s)\n",
      "        \n",
      "    def op1(self,n):                     #function to return array element\n",
      "        return self.__arr[n]   \n",
      "    \n",
      "    def sort(self,a,b):                  #sort the elements of vector by date\n",
      "        for k in range(1,b,1):\n",
      "            j=k-1\n",
      "            \n",
      "            c = compareDates()\n",
      "            while c.cmpdat(self.__arr[k],self.__arr[j]) and j>=0:\n",
      "                self.__arr[j+1] = self.__arr[j]\n",
      "                j -= 1\n",
      "                \n",
      "            self.__arr[j+1] = self.__arr[k]\n",
      "            \n",
      "            \n",
      "                                    #get line of text\n",
      "def getaLine(inStr):            \n",
      "    inStr = raw_input()\n",
      "    return inStr\n",
      "\n",
      "\n",
      "def getaChar():                     #get a character\n",
      "    ch = raw_input()\n",
      "    return ch\n",
      "\n",
      "\n",
      "\n",
      "class tenant:                                  #---class tenant---#\n",
      "    \n",
      "    def __init__(self,n,aNo):\n",
      "        self.__name = n                        #tenant's name\n",
      "        self.__aptNumber = aNo                 #tenant's apartment number\n",
      "        \n",
      "    def __del__(self):\n",
      "        pass\n",
      "    \n",
      "    def getAptNumber(self):\n",
      "        return self.__aptNumber\n",
      "    \n",
      "    \n",
      "#friend functions\n",
      "\n",
      "def ten_lt(t1,t2):                                 #overloaded less than function\n",
      "    return t1._tenant__name < t2._tenant__name\n",
      "\n",
      "def ten_eq(t1,t2):                                 #overloaded equal function\n",
      "    return t1._tenant__name == t2._tenant__name\n",
      "\n",
      "def ten_out(t):                                    #for output\n",
      "    print t._tenant__aptNumber,'\\t',t._tenant__name\n",
      "    \n",
      "\n",
      "    \n",
      "class compareTenants:                                  #---class compareTenants---#\n",
      "    \n",
      "    def cmpTen(self,ptrT1,ptrT2):           #compares tenants\n",
      "        return ten_lt(ptrT1,ptrT2)\n",
      "    \n",
      "\n",
      "    \n",
      "class tenantList:                                  #---class tenantList---#\n",
      "    __setPtrsTens = set()                          #set object\n",
      "    \n",
      "    def __del__(self):                             #destructor\n",
      "        \n",
      "        while not (self.__setPtrsTens.empty()):    \n",
      "            \n",
      "            j = self.__setPtrsTens.begin()\n",
      "            self.__setPtrsTens.erase(self.__setPtrsTens.op1(j))       #erase all tenants\n",
      "            \n",
      "            \n",
      "    def insertTenant(self,ptrT):                #insert tenants into set\n",
      "        self.__setPtrsTens.insert(ptrT)\n",
      "        \n",
      "        \n",
      "    def getAptNo(self,tName):                   #return apartment number\n",
      "        \n",
      "        dummy = tenant(tName,0)\n",
      "        iter = self.__setPtrsTens.begin()\n",
      "        \n",
      "        while iter != self.__setPtrsTens.end():\n",
      "            aptNo = self.__setPtrsTens.op1(iter).getAptNumber()         #look for tenant on the list?\n",
      "            \n",
      "            if ten_eq(dummy,self.__setPtrsTens.op1(iter)):             #yes\n",
      "                return aptNo\n",
      "            \n",
      "            iter += 1\n",
      "            \n",
      "        return -1                                                      #no\n",
      "    \n",
      "    \n",
      "    def display(self):                                                 #display tenant list\n",
      "        print '\\nApt#\\tTenant name\\n----------------------\\n',\n",
      "        \n",
      "        if self.__setPtrsTens.empty():\n",
      "            print '*****No tenants*****'\n",
      "            \n",
      "        else:\n",
      "            iter = self.__setPtrsTens.begin()\n",
      "        \n",
      "            while iter != self.__setPtrsTens.end():\n",
      "                ten_out(self.__setPtrsTens.op1(iter))\n",
      "                iter += 1\n",
      "                \n",
      "\n",
      "                \n",
      "class tenantInputScreen:                                  #---class tenantInputScreen---#\n",
      "    __ptrTenantList = tenantList()\n",
      "    \n",
      "    def __init__(self,ptrTL=None):\n",
      "        self.__ptrTenantList = ptrTL\n",
      "        self.__tName = \"\"\n",
      "        self.__aptNo = 0\n",
      "            \n",
      "    def getTenant(self):                                   #get tenant info\n",
      "        print \"Enter tenant's name (George Smith): \",\n",
      "        self.__tName = getaLine(self.__tName)\n",
      "        \n",
      "        self.__aptNo =  input(\"Enter tenant's apartment number (10): \")\n",
      "        \n",
      "        ptrTenant = tenant(self.__tName,self.__aptNo)\n",
      "        self.__ptrTenantList.insertTenant(ptrTenant)        #send to tenant list\n",
      "        \n",
      "        \n",
      "        \n",
      "class rentRow:                                            #---class rentRow---#\n",
      "    \n",
      "    def __init__(self,an):                            #one-arg constructor\n",
      "        self.__aptNo = an\n",
      "        self.__rent = [0 for j in range(12)]\n",
      "        \n",
      "    def setRent(self,m,am):                           #return rent for one month\n",
      "        self.__rent[m] = am\n",
      "        \n",
      "    def getSumOfRow(self):                            #return sum of rent  in row\n",
      "        c = 0\n",
      "        for j in range(12):\n",
      "            c += self.__rent[j]\n",
      "            \n",
      "        return j\n",
      "    \n",
      "    \n",
      "def rent_lt(t1,t2):                                   #overloaded less than function\n",
      "    return t1._rentRow__aptNo < t2._rentRow__aptNo\n",
      "\n",
      "def rent_eq(t1,t2):                                   #overloaded equal function\n",
      "    return t1._rentRow__aptNo == t2._rentRow__aptNo\n",
      "\n",
      "def rent_out(an):                                     #for output\n",
      "    print an._rentRow__aptNo,'\\t',                    #print apartment number\n",
      "    \n",
      "    for j in range(12):                               #print 12 rents\n",
      "        if (an._rentRow__rent[j] == 0):\n",
      "            print '  0 ',\n",
      "            \n",
      "        else:\n",
      "            print an._rentRow__rent[j],' ',\n",
      "            \n",
      "    print ''\n",
      "            \n",
      "            \n",
      "            \n",
      "class compareRows:                                      #---class compareRows---#\n",
      "    \n",
      "    def cmpRow(self,ptrR1,ptrR2):                       #compare apartment number\n",
      "        return rent_lt(ptrR1,ptrR2)\n",
      "    \n",
      "    \n",
      "    \n",
      "class rentRecord:                                       #---class rentRecord---#\n",
      "    __setPtrsRR = set()\n",
      "    \n",
      "    def __del__(self):                                  #destructor\n",
      "        while not (self.__setPtrsRR.empty()):\n",
      "            \n",
      "            j = self.__setPtrsRR.begin()\n",
      "            self.__setPtrsRR.erase(self.__setPtrsRR.op1(j))         #delete rent rows, remove ptrs from set\n",
      "            \n",
      "            \n",
      "    def insertRent(self,aptNo,month,amount):\n",
      "        \n",
      "        searchRow = rentRow(aptNo)                                  #temp row with same aptNo\n",
      "        \n",
      "        iter = self.__setPtrsRR.begin()                             #searchsetPtrsRR\n",
      "        \n",
      "        b=0\n",
      "        while iter != self.__setPtrsRR.end():                       #rent row found?\n",
      "            \n",
      "            if rent_eq(searchRow,self.__setPtrsRR.op1(iter)):       #yes,\n",
      "                self.__setPtrsRR.op1(iter).setRent(month,amount)    #put rent in row\n",
      "                b=1\n",
      "                break\n",
      "            else:                                                   #didn't find it\n",
      "                iter += 1\n",
      "                \n",
      "        if(b==0):        \n",
      "            ptrRow = rentRow(aptNo)                     #make new row\n",
      "            ptrRow.setRent(month,amount)                #put rent in row\n",
      "        \n",
      "            self.__setPtrsRR.insert(ptrRow)             #put row in set\n",
      "                \n",
      "                \n",
      "    def display(self):\n",
      "        print \"\\nAptNo\\tJan  Feb  Mar  Apr  May  Jun  Jul  Aug  Sep  Oct  Nov  Dec\\n-----------------------------------------------------\",\n",
      "        print \"---------------\"\n",
      "        \n",
      "        if self.__setPtrsRR.empty():\n",
      "            print \"*****No Rents*****\"\n",
      "            \n",
      "        else:\n",
      "            iter = self.__setPtrsRR.begin()\n",
      "        \n",
      "            while iter != self.__setPtrsRR.end():\n",
      "                rent_out(self.__setPtrsRR.op1(iter))\n",
      "                iter += 1\n",
      "                \n",
      "                \n",
      "    def getSumOfRents(self):                #returns sum of all rents\n",
      "        sumRents = 0.0\n",
      "        \n",
      "        iter = self.__setPtrsRR.begin()\n",
      "        \n",
      "        while iter != self.__setPtrsRR.end():\n",
      "            sumRents += self.__setPtrsRR.op1(iter).getSumOfRow()\n",
      "            iter += 1\n",
      "            \n",
      "        return sumRents\n",
      "    \n",
      "    \n",
      "\n",
      "class rentInputScreen:                                       #---class rentInputScreen---#\n",
      "    __ptrTenantList = tenantList()\n",
      "    __ptrRentRecord = rentRecord()\n",
      "    \n",
      "    def __init__(self,ptrTL=None,ptrRR=None):\n",
      "        self.__ptrTenantList = ptrTL\n",
      "        self.__ptrRentRecord = ptrRR\n",
      "        \n",
      "        self.__renterName = None\n",
      "        self.__rentPaid = 0.0\n",
      "        self.__month = 0\n",
      "        self.__aptNo = 0\n",
      "        \n",
      "        \n",
      "    def getRent(self):                                  #rent for one tenant and one month\n",
      "        \n",
      "        print \"Enter tenant's name: \",\n",
      "        self.__renterName = getaLine(self.__renterName)\n",
      "        \n",
      "        self.__aptNo = self.__ptrTenantList.getAptNo(self.__renterName)\n",
      "        \n",
      "        if self.__aptNo>0:                                                    #if name found,\n",
      "                                                                              #get rent amount\n",
      "            self.__rentPaid =  input(\"Enter amount paid (345.67): \")\n",
      "            self.__month = input(\"Enter month rent is for(1-12): \")\n",
      "            \n",
      "            self.__month -= 1                                                 #internal is 0-11\n",
      "            \n",
      "            self.__ptrRentRecord.insertRent(self.__aptNo,self.__month,self.__rentPaid)\n",
      "            \n",
      "        else:\n",
      "            print 'No tenant with that name.'\n",
      "            \n",
      "            \n",
      "class expense:                                                   #---class expense---#\n",
      "    \n",
      "    def __init__(self,m=0,d=0,c=\"\",p=\"\",a=0.0):                  #constructor\n",
      "        self.__month = m\n",
      "        self.__day = d\n",
      "        self.__category = c\n",
      "        self.__payee = p\n",
      "        self.__amount = a\n",
      "        \n",
      "        \n",
      "def exp_lt(e1,e2):                                   #overloaded less than function\n",
      "    if e1._expense__month == e2._expense__month:\n",
      "        return e1._expense__day < e2._expense__day\n",
      "\n",
      "def exp_eq(e1,e2):                                   #overloaded equal function\n",
      "    return e1._expense__month == e2._expense__month and e1._expense__day == e2._expense__day\n",
      "\n",
      "def exp_out(exp):                                    #for output\n",
      "    print exp._expense__month,'/',exp._expense__day,'\\t',exp._expense__payee,'\\t',exp._expense__amount,'\\t',exp._expense__category\n",
      "    \n",
      "  \n",
      "    \n",
      "class compareDates:                                                   #---class compareDates---#\n",
      "    \n",
      "    def cmpdat(self,ptrE1,ptrE2):                                     #compare expenses according to dates\n",
      "        return exp_lt(ptrE1,ptrE2)\n",
      "    \n",
      "    \n",
      "    \n",
      "class compareCategories:                                              #---class compareCategories---#\n",
      "    \n",
      "    def cmpcat(self,ptrE1,ptrE2):                                     #compare expenses according to category\n",
      "        return ptrE1._expense__category < ptrE2._expense__category\n",
      "    \n",
      "    \n",
      "    \n",
      "class expenseRecord:                                                   #---class expenseRecord---#\n",
      "    __vectPtrsExpenses = vector()\n",
      "    \n",
      "    def __del__(self):                                                 #destructor\n",
      "        \n",
      "        while not (self.__vectPtrsExpenses.empty()):\n",
      "            \n",
      "            j = self.__vectPtrsExpenses.begin()\n",
      "            self.__vectPtrsExpenses.erase(self.__vectPtrsExpenses.op1(j))           #delete expense objects, remove ptrs from vector\n",
      "            \n",
      "    def insertExp(self,ptrExp):\n",
      "        self.__vectPtrsExpenses.push_back(ptrExp)\n",
      "        \n",
      "    def display(self):\n",
      "        print \"\\nDate\\tPayee\\t\\tAmount\\tCategory\\n--------------------------------------------\"\n",
      "        \n",
      "        if self.__vectPtrsExpenses.size() == 0:\n",
      "            print \"*****No Expenses*****\"\n",
      "            \n",
      "        else:\n",
      "            self.__vectPtrsExpenses.sort(self.__vectPtrsExpenses.begin(),self.__vectPtrsExpenses.end())     #sort by date\n",
      "             \n",
      "            iter = self.__vectPtrsExpenses.begin()\n",
      "        \n",
      "            while iter != self.__vectPtrsExpenses.end():\n",
      "                exp_out(self.__vectPtrsExpenses.op1(iter))\n",
      "                iter += 1\n",
      "                \n",
      "    def displaySummary(self):                                 #used by annualReport\n",
      "        \n",
      "        totalExpenses = 0.0                                   #total, all category\n",
      "        \n",
      "        if self.__vectPtrsExpenses.size() == 0:\n",
      "            print \"\\tAll categories\\t0\"\n",
      "            return 0.0\n",
      "        \n",
      "        self.__vectPtrsExpenses.sort(self.__vectPtrsExpenses.begin(),self.__vectPtrsExpenses.end())        #sort by category\n",
      "        \n",
      "        #for each category, sum the enries\n",
      "        \n",
      "        iter = self.__vectPtrsExpenses.begin()\n",
      "        tempCat = self.__vectPtrsExpenses.op1(iter)._expense__category\n",
      "        sumCat = 0.0\n",
      "        \n",
      "        while iter != self.__vectPtrsExpenses.end():\n",
      "            \n",
      "            if tempCat == self.__vectPtrsExpenses.op1(iter)._expense__category:\n",
      "                sumCat += self.__vectPtrsExpenses.op1(iter)._expense__amount           #same category\n",
      "                \n",
      "            else:\n",
      "                                                                #different category\n",
      "                print '\\t',tempCat,'\\t',sumCat\n",
      "                totalExpenses += sumCat                         #add previous category\n",
      "                \n",
      "                tempCat = self.__vectPtrsExpenses.op1(iter)._expense__category\n",
      "                sumCat = self.__vectPtrsExpenses.op1(iter)._expense__amount           #add final amount\n",
      "                \n",
      "            iter += 1\n",
      "            \n",
      "        totalExpenses += sumCat                            #add fianl category\n",
      "        print '\\t',tempCat,'\\t',sumCat\n",
      "        \n",
      "        return totalExpenses\n",
      "    \n",
      "\n",
      "class expenseInputScreen:                                           #---class expenseInputScreen---#\n",
      "    __ptrExpenseRecord = expenseRecord()\n",
      "    \n",
      "    def __init__(self,per=None):                                    #constructor\n",
      "        self.__ptrExpenseRecord = per\n",
      "        \n",
      "        \n",
      "    def getExpense(self):\n",
      "        \n",
      "        month = input(\"Enter month (1-12): \")\n",
      "        day = input(\"Enter day (1-31): \")\n",
      "        \n",
      "        category = \"\"\n",
      "        print \"Enter expense category (Repairing, Utilities): \",\n",
      "        category = getaLine(category)\n",
      "        \n",
      "        payee = \"\"\n",
      "        print \"Enter payee (Bob's Hardware, Big Electric Co): \",\n",
      "        payee = getaLine(payee)\n",
      "        \n",
      "        amount = input(\"Enter amount (39.95): \")\n",
      "        \n",
      "        ptrExpense = expense(month,day,category,payee,amount)\n",
      "        \n",
      "        self.__ptrExpenseRecord.insertExp(ptrExpense)\n",
      "        \n",
      "        \n",
      "        \n",
      "class annualReport:                                           #---class annualReport---#\n",
      "    \n",
      "    __ptrRR = rentRecord()\n",
      "    __ptrER = expenseRecord()\n",
      "    \n",
      "    def __init__(self,pRR=None,pER=None):                     #constructor\n",
      "        self.__ptrRR = pRR\n",
      "        self.__ptrER = pER\n",
      "        self.__expenses = 0.0\n",
      "        self.__rents = 0.0\n",
      "        \n",
      "    def display(self):                                        #display annual report\n",
      "        print \"Annual Summary\\n-----------------------------\\nIncome\\n\\tRent\\t\\t\",\n",
      "        self.__rents = self.__ptrRR.getSumOfRents()\n",
      "        print self.__rents\n",
      "        print \"Expenses\"\n",
      "        self.__expenses = self.__ptrER.displaySummary()\n",
      "        print \"\\nbalance\\t\\t\\t\",self.__rents-self.__expenses\n",
      "        \n",
      "        \n",
      "class userInterface:                                           #---class userInterface---#\n",
      "    \n",
      "    __ptrTenantList = tenantList()\n",
      "    __ptrTenantInputScreen = tenantInputScreen()\n",
      "    __ptrRentRecord = rentRecord()\n",
      "    __ptrrentInputScreen = rentInputScreen()\n",
      "    __ptrExpenseRecord = expenseRecord()\n",
      "    __ptrExpenseInputScreen = expenseInputScreen()\n",
      "    __ptrAnnualReport = annualReport()\n",
      "    \n",
      "    def __init__(self):                                        #constructor\n",
      "        \n",
      "        #three reports exist for the life of the program\n",
      "        self.__ptrTenantList = tenantList()\n",
      "        self.__ptrRentRecord = rentRecord()\n",
      "        self.__ptrExpenseRecord = expenseRecord()\n",
      "        \n",
      "    def __del__(self):                                         #destructor\n",
      "        del self.__ptrTenantList\n",
      "        del self.__ptrRentRecord\n",
      "        del self.__ptrExpenseRecord\n",
      "        \n",
      "    \n",
      "    \n",
      "    def interact(self):\n",
      "        \n",
      "        while True:\n",
      "            \n",
      "            print \"\\nEnter 'i' to input data, \"\n",
      "            print \"      'd' to display a report,\"\n",
      "            print \"      'q' to quit program: \",\n",
      "            \n",
      "            ch = getaChar()\n",
      "            \n",
      "            if ch=='i':                                  #enter data\n",
      "                \n",
      "                print \"Enter 't' to add tenant,\"\n",
      "                print \"      'r' to record rent payment\"\n",
      "                print \"      'e' to record expense: \",\n",
      "                \n",
      "                ch = getaChar()\n",
      "                print '\\n'\n",
      "                \n",
      "                if ch=='t':\n",
      "                    self.__ptrTenantInputScreen = tenantInputScreen(self.__ptrTenantList)\n",
      "                    self.__ptrTenantInputScreen.getTenant()\n",
      "                    \n",
      "                elif ch=='r':\n",
      "                    self.__ptrRentInputScreen = rentInputScreen(self.__ptrTenantList,self.__ptrRentRecord)\n",
      "                    self.__ptrRentInputScreen.getRent()\n",
      "                    \n",
      "                elif ch=='e':\n",
      "                    self.__ptrExpenseInputScreen = expenseInputScreen(self.__ptrExpenseRecord)\n",
      "                    self.__ptrExpenseInputScreen.getExpense()\n",
      "                    \n",
      "                else:\n",
      "                    print \"Unknown input option\"\n",
      "                \n",
      "                \n",
      "            elif ch=='d':                                 #display data\n",
      "                \n",
      "                print \"Enter 't' to display tenants,\"\n",
      "                print \"      'r' to display rents\"\n",
      "                print \"      'e' to display expense,\"\n",
      "                print \"      'a' to display annual report: \",\n",
      "                \n",
      "                ch = getaChar()\n",
      "                print '\\n'\n",
      "                \n",
      "                if ch=='t':\n",
      "                    self.__ptrTenantList.display()\n",
      "                    \n",
      "                elif ch=='r':\n",
      "                    self.__ptrRentRecord.display()\n",
      "                    \n",
      "                elif ch=='e':\n",
      "                    self.__ptrExpenseRecord.display()\n",
      "                    \n",
      "                elif ch=='a':\n",
      "                    self.__ptrAnnualReport = annualReport(self.__ptrRentRecord,self.__ptrExpenseRecord)\n",
      "                    self.__ptrAnnualReport.display()\n",
      "                    del self.__ptrAnnualReport\n",
      "                    \n",
      "                else:\n",
      "                    print \"Unknown display option\"\n",
      "                \n",
      "                    \n",
      "            elif ch=='q':\n",
      "                break                        #quit\n",
      "                \n",
      "            else:\n",
      "                print \"Unknown option. Enter only 'i', 'd' or 'q'\"\n",
      "                \n",
      "            \n",
      "                \n",
      "theUserInterface = userInterface()\n",
      "\n",
      "theUserInterface.interact()"
     ],
     "language": "python",
     "metadata": {},
     "outputs": [
      {
       "output_type": "stream",
       "stream": "stdout",
       "text": [
        "\n",
        "Enter 'i' to input data, \n",
        "      'd' to display a report,\n",
        "      'q' to quit program: "
       ]
      },
      {
       "name": "stdout",
       "output_type": "stream",
       "stream": "stdout",
       "text": [
        "i\n"
       ]
      },
      {
       "output_type": "stream",
       "stream": "stdout",
       "text": [
        " Enter 't' to add tenant,\n",
        "      'r' to record rent payment\n",
        "      'e' to record expense: "
       ]
      },
      {
       "name": "stdout",
       "output_type": "stream",
       "stream": "stdout",
       "text": [
        "t\n"
       ]
      },
      {
       "output_type": "stream",
       "stream": "stdout",
       "text": [
        " \n",
        "\n",
        "Enter tenant's name (George Smith): "
       ]
      },
      {
       "name": "stdout",
       "output_type": "stream",
       "stream": "stdout",
       "text": [
        "Harry Ellis\n"
       ]
      },
      {
       "name": "stdout",
       "output_type": "stream",
       "stream": "stdout",
       "text": [
        "Enter tenant's apartment number (10): 101\n"
       ]
      },
      {
       "output_type": "stream",
       "stream": "stdout",
       "text": [
        " \n",
        "Enter 'i' to input data, \n",
        "      'd' to display a report,\n",
        "      'q' to quit program: "
       ]
      },
      {
       "name": "stdout",
       "output_type": "stream",
       "stream": "stdout",
       "text": [
        "i\n"
       ]
      },
      {
       "output_type": "stream",
       "stream": "stdout",
       "text": [
        " Enter 't' to add tenant,\n",
        "      'r' to record rent payment\n",
        "      'e' to record expense: "
       ]
      },
      {
       "name": "stdout",
       "output_type": "stream",
       "stream": "stdout",
       "text": [
        "t\n"
       ]
      },
      {
       "output_type": "stream",
       "stream": "stdout",
       "text": [
        " \n",
        "\n",
        "Enter tenant's name (George Smith): "
       ]
      },
      {
       "name": "stdout",
       "output_type": "stream",
       "stream": "stdout",
       "text": [
        "Wanda Brown\n"
       ]
      },
      {
       "name": "stdout",
       "output_type": "stream",
       "stream": "stdout",
       "text": [
        "Enter tenant's apartment number (10): 102\n"
       ]
      },
      {
       "output_type": "stream",
       "stream": "stdout",
       "text": [
        " \n",
        "Enter 'i' to input data, \n",
        "      'd' to display a report,\n",
        "      'q' to quit program: "
       ]
      },
      {
       "name": "stdout",
       "output_type": "stream",
       "stream": "stdout",
       "text": [
        "d\n"
       ]
      },
      {
       "output_type": "stream",
       "stream": "stdout",
       "text": [
        " Enter 't' to display tenants,\n",
        "      'r' to display rents\n",
        "      'e' to display expense,\n",
        "      'a' to display annual report: "
       ]
      },
      {
       "name": "stdout",
       "output_type": "stream",
       "stream": "stdout",
       "text": [
        "t\n"
       ]
      },
      {
       "output_type": "stream",
       "stream": "stdout",
       "text": [
        " \n",
        "\n",
        "\n",
        "Apt#\tTenant name\n",
        "----------------------\n",
        "101 \tHarry Ellis\n",
        "102 \tWanda Brown\n",
        "\n",
        "Enter 'i' to input data, \n",
        "      'd' to display a report,\n",
        "      'q' to quit program: "
       ]
      },
      {
       "name": "stdout",
       "output_type": "stream",
       "stream": "stdout",
       "text": [
        "i\n"
       ]
      },
      {
       "output_type": "stream",
       "stream": "stdout",
       "text": [
        " Enter 't' to add tenant,\n",
        "      'r' to record rent payment\n",
        "      'e' to record expense: "
       ]
      },
      {
       "name": "stdout",
       "output_type": "stream",
       "stream": "stdout",
       "text": [
        "r\n"
       ]
      },
      {
       "output_type": "stream",
       "stream": "stdout",
       "text": [
        " \n",
        "\n",
        "Enter tenant's name: "
       ]
      },
      {
       "name": "stdout",
       "output_type": "stream",
       "stream": "stdout",
       "text": [
        "Harry Ellis\n"
       ]
      },
      {
       "name": "stdout",
       "output_type": "stream",
       "stream": "stdout",
       "text": [
        "Enter amount paid (345.67): 695\n"
       ]
      },
      {
       "name": "stdout",
       "output_type": "stream",
       "stream": "stdout",
       "text": [
        "Enter month rent is for(1-12): 1\n"
       ]
      },
      {
       "output_type": "stream",
       "stream": "stdout",
       "text": [
        " \n",
        "Enter 'i' to input data, \n",
        "      'd' to display a report,\n",
        "      'q' to quit program: "
       ]
      },
      {
       "name": "stdout",
       "output_type": "stream",
       "stream": "stdout",
       "text": [
        "i\n"
       ]
      },
      {
       "output_type": "stream",
       "stream": "stdout",
       "text": [
        " Enter 't' to add tenant,\n",
        "      'r' to record rent payment\n",
        "      'e' to record expense: "
       ]
      },
      {
       "name": "stdout",
       "output_type": "stream",
       "stream": "stdout",
       "text": [
        "r\n"
       ]
      },
      {
       "output_type": "stream",
       "stream": "stdout",
       "text": [
        " \n",
        "\n",
        "Enter tenant's name: "
       ]
      },
      {
       "name": "stdout",
       "output_type": "stream",
       "stream": "stdout",
       "text": [
        "Harry Ellis\n"
       ]
      },
      {
       "name": "stdout",
       "output_type": "stream",
       "stream": "stdout",
       "text": [
        "Enter amount paid (345.67): 695\n"
       ]
      },
      {
       "name": "stdout",
       "output_type": "stream",
       "stream": "stdout",
       "text": [
        "Enter month rent is for(1-12): 2\n"
       ]
      },
      {
       "output_type": "stream",
       "stream": "stdout",
       "text": [
        " \n",
        "Enter 'i' to input data, \n",
        "      'd' to display a report,\n",
        "      'q' to quit program: "
       ]
      },
      {
       "name": "stdout",
       "output_type": "stream",
       "stream": "stdout",
       "text": [
        "i\n"
       ]
      },
      {
       "output_type": "stream",
       "stream": "stdout",
       "text": [
        " Enter 't' to add tenant,\n",
        "      'r' to record rent payment\n",
        "      'e' to record expense: "
       ]
      },
      {
       "name": "stdout",
       "output_type": "stream",
       "stream": "stdout",
       "text": [
        "r\n"
       ]
      },
      {
       "output_type": "stream",
       "stream": "stdout",
       "text": [
        " \n",
        "\n",
        "Enter tenant's name: "
       ]
      },
      {
       "name": "stdout",
       "output_type": "stream",
       "stream": "stdout",
       "text": [
        "Wanda Brown\n"
       ]
      },
      {
       "name": "stdout",
       "output_type": "stream",
       "stream": "stdout",
       "text": [
        "Enter amount paid (345.67): 595\n"
       ]
      },
      {
       "name": "stdout",
       "output_type": "stream",
       "stream": "stdout",
       "text": [
        "Enter month rent is for(1-12): 1\n"
       ]
      },
      {
       "output_type": "stream",
       "stream": "stdout",
       "text": [
        " \n",
        "Enter 'i' to input data, \n",
        "      'd' to display a report,\n",
        "      'q' to quit program: "
       ]
      },
      {
       "name": "stdout",
       "output_type": "stream",
       "stream": "stdout",
       "text": [
        "Wanda Brown\n"
       ]
      },
      {
       "output_type": "stream",
       "stream": "stdout",
       "text": [
        " Unknown option. Enter only 'i', 'd' or 'q'\n",
        "\n",
        "Enter 'i' to input data, \n",
        "      'd' to display a report,\n",
        "      'q' to quit program: "
       ]
      },
      {
       "name": "stdout",
       "output_type": "stream",
       "stream": "stdout",
       "text": [
        "i\n"
       ]
      },
      {
       "output_type": "stream",
       "stream": "stdout",
       "text": [
        " Enter 't' to add tenant,\n",
        "      'r' to record rent payment\n",
        "      'e' to record expense: "
       ]
      },
      {
       "name": "stdout",
       "output_type": "stream",
       "stream": "stdout",
       "text": [
        "r\n"
       ]
      },
      {
       "output_type": "stream",
       "stream": "stdout",
       "text": [
        " \n",
        "\n",
        "Enter tenant's name: "
       ]
      },
      {
       "name": "stdout",
       "output_type": "stream",
       "stream": "stdout",
       "text": [
        "Wanda Brown\n"
       ]
      },
      {
       "name": "stdout",
       "output_type": "stream",
       "stream": "stdout",
       "text": [
        "Enter amount paid (345.67): 595\n"
       ]
      },
      {
       "name": "stdout",
       "output_type": "stream",
       "stream": "stdout",
       "text": [
        "Enter month rent is for(1-12): 2\n"
       ]
      },
      {
       "output_type": "stream",
       "stream": "stdout",
       "text": [
        " \n",
        "Enter 'i' to input data, \n",
        "      'd' to display a report,\n",
        "      'q' to quit program: "
       ]
      },
      {
       "name": "stdout",
       "output_type": "stream",
       "stream": "stdout",
       "text": [
        "d\n"
       ]
      },
      {
       "output_type": "stream",
       "stream": "stdout",
       "text": [
        " Enter 't' to display tenants,\n",
        "      'r' to display rents\n",
        "      'e' to display expense,\n",
        "      'a' to display annual report: "
       ]
      },
      {
       "name": "stdout",
       "output_type": "stream",
       "stream": "stdout",
       "text": [
        "r\n"
       ]
      },
      {
       "output_type": "stream",
       "stream": "stdout",
       "text": [
        " \n",
        "\n",
        "\n",
        "AptNo\tJan  Feb  Mar  Apr  May  Jun  Jul  Aug  Sep  Oct  Nov  Dec\n",
        "----------------------------------------------------- ---------------\n",
        "101 \t695   695     0    0    0    0    0    0    0    0    0    0  \n",
        "102 \t595   595     0    0    0    0    0    0    0    0    0    0  \n",
        "\n",
        "Enter 'i' to input data, \n",
        "      'd' to display a report,\n",
        "      'q' to quit program: "
       ]
      },
      {
       "name": "stdout",
       "output_type": "stream",
       "stream": "stdout",
       "text": [
        "i\n"
       ]
      },
      {
       "output_type": "stream",
       "stream": "stdout",
       "text": [
        " Enter 't' to add tenant,\n",
        "      'r' to record rent payment\n",
        "      'e' to record expense: "
       ]
      },
      {
       "name": "stdout",
       "output_type": "stream",
       "stream": "stdout",
       "text": [
        "e\n"
       ]
      },
      {
       "output_type": "stream",
       "stream": "stdout",
       "text": [
        " \n",
        "\n"
       ]
      },
      {
       "name": "stdout",
       "output_type": "stream",
       "stream": "stdout",
       "text": [
        "Enter month (1-12): 1\n"
       ]
      },
      {
       "name": "stdout",
       "output_type": "stream",
       "stream": "stdout",
       "text": [
        "Enter day (1-31): 3\n"
       ]
      },
      {
       "output_type": "stream",
       "stream": "stdout",
       "text": [
        "Enter expense category (Repairing, Utilities): "
       ]
      },
      {
       "name": "stdout",
       "output_type": "stream",
       "stream": "stdout",
       "text": [
        "Mortgage\n"
       ]
      },
      {
       "output_type": "stream",
       "stream": "stdout",
       "text": [
        " Enter payee (Bob's Hardware, Big Electric Co): "
       ]
      },
      {
       "name": "stdout",
       "output_type": "stream",
       "stream": "stdout",
       "text": [
        "First megaBank\n"
       ]
      },
      {
       "name": "stdout",
       "output_type": "stream",
       "stream": "stdout",
       "text": [
        "Enter amount (39.95): 5187.30\n"
       ]
      },
      {
       "output_type": "stream",
       "stream": "stdout",
       "text": [
        " \n",
        "Enter 'i' to input data, \n",
        "      'd' to display a report,\n",
        "      'q' to quit program: "
       ]
      },
      {
       "name": "stdout",
       "output_type": "stream",
       "stream": "stdout",
       "text": [
        "i\n"
       ]
      },
      {
       "output_type": "stream",
       "stream": "stdout",
       "text": [
        " Enter 't' to add tenant,\n",
        "      'r' to record rent payment\n",
        "      'e' to record expense: "
       ]
      },
      {
       "name": "stdout",
       "output_type": "stream",
       "stream": "stdout",
       "text": [
        "e\n"
       ]
      },
      {
       "output_type": "stream",
       "stream": "stdout",
       "text": [
        " \n",
        "\n"
       ]
      },
      {
       "name": "stdout",
       "output_type": "stream",
       "stream": "stdout",
       "text": [
        "Enter month (1-12): 1\n"
       ]
      },
      {
       "name": "stdout",
       "output_type": "stream",
       "stream": "stdout",
       "text": [
        "Enter day (1-31): 8\n"
       ]
      },
      {
       "output_type": "stream",
       "stream": "stdout",
       "text": [
        "Enter expense category (Repairing, Utilities): "
       ]
      },
      {
       "name": "stdout",
       "output_type": "stream",
       "stream": "stdout",
       "text": [
        "Utilities\n"
       ]
      },
      {
       "output_type": "stream",
       "stream": "stdout",
       "text": [
        " Enter payee (Bob's Hardware, Big Electric Co): "
       ]
      },
      {
       "name": "stdout",
       "output_type": "stream",
       "stream": "stdout",
       "text": [
        "City Water\n"
       ]
      },
      {
       "name": "stdout",
       "output_type": "stream",
       "stream": "stdout",
       "text": [
        "Enter amount (39.95): 963.10\n"
       ]
      },
      {
       "output_type": "stream",
       "stream": "stdout",
       "text": [
        " \n",
        "Enter 'i' to input data, \n",
        "      'd' to display a report,\n",
        "      'q' to quit program: "
       ]
      },
      {
       "name": "stdout",
       "output_type": "stream",
       "stream": "stdout",
       "text": [
        "i\n"
       ]
      },
      {
       "output_type": "stream",
       "stream": "stdout",
       "text": [
        " Enter 't' to add tenant,\n",
        "      'r' to record rent payment\n",
        "      'e' to record expense: "
       ]
      },
      {
       "name": "stdout",
       "output_type": "stream",
       "stream": "stdout",
       "text": [
        "e\n"
       ]
      },
      {
       "output_type": "stream",
       "stream": "stdout",
       "text": [
        " \n",
        "\n"
       ]
      },
      {
       "name": "stdout",
       "output_type": "stream",
       "stream": "stdout",
       "text": [
        "Enter month (1-12): 1\n"
       ]
      },
      {
       "name": "stdout",
       "output_type": "stream",
       "stream": "stdout",
       "text": [
        "Enter day (1-31): 9\n"
       ]
      },
      {
       "output_type": "stream",
       "stream": "stdout",
       "text": [
        "Enter expense category (Repairing, Utilities): "
       ]
      },
      {
       "name": "stdout",
       "output_type": "stream",
       "stream": "stdout",
       "text": [
        "Insurance\n"
       ]
      },
      {
       "output_type": "stream",
       "stream": "stdout",
       "text": [
        " Enter payee (Bob's Hardware, Big Electric Co): "
       ]
      },
      {
       "name": "stdout",
       "output_type": "stream",
       "stream": "stdout",
       "text": [
        "Steady State\n"
       ]
      },
      {
       "name": "stdout",
       "output_type": "stream",
       "stream": "stdout",
       "text": [
        "Enter amount (39.95): 4840.00\n"
       ]
      },
      {
       "output_type": "stream",
       "stream": "stdout",
       "text": [
        " \n",
        "Enter 'i' to input data, \n",
        "      'd' to display a report,\n",
        "      'q' to quit program: "
       ]
      },
      {
       "name": "stdout",
       "output_type": "stream",
       "stream": "stdout",
       "text": [
        "d\n"
       ]
      },
      {
       "output_type": "stream",
       "stream": "stdout",
       "text": [
        " Enter 't' to display tenants,\n",
        "      'r' to display rents\n",
        "      'e' to display expense,\n",
        "      'a' to display annual report: "
       ]
      },
      {
       "name": "stdout",
       "output_type": "stream",
       "stream": "stdout",
       "text": [
        "e\n"
       ]
      },
      {
       "output_type": "stream",
       "stream": "stdout",
       "text": [
        " \n",
        "\n",
        "\n",
        "Date\tPayee\t\tAmount\tCategory\n",
        "--------------------------------------------\n",
        "1 / 3 \tFirst megaBank \t5187.3 \tMortgage\n",
        "1 / 8 \tCity Water \t963.1 \tUtilities\n",
        "1 / 9 \tSteady State \t4840.0 \tInsurance\n",
        "\n",
        "Enter 'i' to input data, \n",
        "      'd' to display a report,\n",
        "      'q' to quit program: "
       ]
      },
      {
       "name": "stdout",
       "output_type": "stream",
       "stream": "stdout",
       "text": [
        "d\n"
       ]
      },
      {
       "output_type": "stream",
       "stream": "stdout",
       "text": [
        " Enter 't' to display tenants,\n",
        "      'r' to display rents\n",
        "      'e' to display expense,\n",
        "      'a' to display annual report: "
       ]
      },
      {
       "name": "stdout",
       "output_type": "stream",
       "stream": "stdout",
       "text": [
        "a\n"
       ]
      },
      {
       "output_type": "stream",
       "stream": "stdout",
       "text": [
        " \n",
        "\n",
        "Annual Summary\n",
        "-----------------------------\n",
        "Income\n",
        "\tRent\t\t22.0\n",
        "Expenses\n",
        "\tMortgage \t5187.3\n",
        "\tUtilities \t963.1\n",
        "\tInsurance \t4840.0\n",
        "\n",
        "balance\t\t\t-10968.4\n",
        "\n",
        "Enter 'i' to input data, \n",
        "      'd' to display a report,\n",
        "      'q' to quit program: "
       ]
      },
      {
       "name": "stdout",
       "output_type": "stream",
       "stream": "stdout",
       "text": [
        "q\n"
       ]
      },
      {
       "output_type": "stream",
       "stream": "stdout",
       "text": [
        "\n"
       ]
      }
     ],
     "prompt_number": 1
    },
    {
     "cell_type": "code",
     "collapsed": false,
     "input": [],
     "language": "python",
     "metadata": {},
     "outputs": []
    }
   ],
   "metadata": {}
  }
 ]
}