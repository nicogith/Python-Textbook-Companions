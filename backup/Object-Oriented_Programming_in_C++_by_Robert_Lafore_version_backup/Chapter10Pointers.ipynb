{
 "metadata": {
  "name": "",
  "signature": "sha256:c2567ccef170e76f122505b3516db5eb25f7ed3b0c22bde2bb3ba546dad6d2f0"
 },
 "nbformat": 3,
 "nbformat_minor": 0,
 "worksheets": [
  {
   "cells": [
    {
     "cell_type": "heading",
     "level": 1,
     "metadata": {},
     "source": [
      "Chapter 10: Pointers"
     ]
    },
    {
     "cell_type": "heading",
     "level": 2,
     "metadata": {},
     "source": [
      "Example 10.1, Page Number 431"
     ]
    },
    {
     "cell_type": "code",
     "collapsed": false,
     "input": [
      "var1 = 11                    #define and initialize three variables\n",
      "var2 = 22\n",
      "var3 = 33\n",
      "\n",
      "print hex(id(var1))          #print the address of these variables\n",
      "print hex(id(var2))\n",
      "print hex(id(var3))"
     ],
     "language": "python",
     "metadata": {},
     "outputs": [
      {
       "output_type": "stream",
       "stream": "stdout",
       "text": [
        "0x6b5fd8L\n",
        "0x6b5ed0L\n",
        "0x6b5dc8L\n"
       ]
      }
     ],
     "prompt_number": 1
    },
    {
     "cell_type": "heading",
     "level": 2,
     "metadata": {},
     "source": [
      "Example 10.2, Page Number 433"
     ]
    },
    {
     "cell_type": "code",
     "collapsed": false,
     "input": [
      "from ctypes import *\n",
      "\n",
      "var1 = c_int(11)            #two integer variables\n",
      "var2 = c_int(22)\n",
      "\n",
      "print hex(id(var1)),'\\n',hex(id(var2)),'\\n'       #print addresses of variables\n",
      "\n",
      "ptr = pointer(var1)                     #pointer to integer variable var1\n",
      "print hex(addressof(ptr))               #print address of ptr\n",
      "\n",
      "ptr = pointer(var2)                     #pointer to integer variable var2\n",
      "print hex(addressof(ptr))               #print address of ptr\n",
      "\n",
      "#in python, id(a) != addressof(pinter(a))"
     ],
     "language": "python",
     "metadata": {},
     "outputs": [
      {
       "output_type": "stream",
       "stream": "stdout",
       "text": [
        "0x3678448L \n",
        "0x3678848L \n",
        "\n",
        "0x3678790L\n",
        "0x3678690L\n"
       ]
      }
     ],
     "prompt_number": 2
    },
    {
     "cell_type": "heading",
     "level": 2,
     "metadata": {},
     "source": [
      "Example 10.3, Page Number 436"
     ]
    },
    {
     "cell_type": "code",
     "collapsed": false,
     "input": [
      "from ctypes import *\n",
      "\n",
      "var1 = c_int(11)             #two integer variables\n",
      "var2 = c_int(22)\n",
      "\n",
      "ptr = pointer(var1)          #pointer to integer variable var1\n",
      "print ptr[0]                 #print contents of pointer (11)\n",
      "\n",
      "ptr = pointer(var2)          #pointer to integer variable var2\n",
      "print ptr[0]                 #print contents of pointer (22)"
     ],
     "language": "python",
     "metadata": {},
     "outputs": [
      {
       "output_type": "stream",
       "stream": "stdout",
       "text": [
        "11\n",
        "22\n"
       ]
      }
     ],
     "prompt_number": 3
    },
    {
     "cell_type": "heading",
     "level": 2,
     "metadata": {},
     "source": [
      "Example 10.4, Page Number 437"
     ]
    },
    {
     "cell_type": "code",
     "collapsed": false,
     "input": [
      "from ctypes import *\n",
      "\n",
      "var1 = c_int()             #integer variable\n",
      "\n",
      "ptr = pointer(var1)        #set pointer to address of var1\n",
      "ptr[0] = c_int(37)         #same as var1 = 37\n",
      "var2 = ptr[0]              #same as var2 = var1\n",
      "\n",
      "print var2                 #verify var2 is 37"
     ],
     "language": "python",
     "metadata": {},
     "outputs": [
      {
       "output_type": "stream",
       "stream": "stdout",
       "text": [
        "37\n"
       ]
      }
     ],
     "prompt_number": 4
    },
    {
     "cell_type": "heading",
     "level": 2,
     "metadata": {},
     "source": [
      "Example 10.5, Page Number 439"
     ]
    },
    {
     "cell_type": "code",
     "collapsed": false,
     "input": [
      "from ctypes import *\n",
      "\n",
      "intvar = c_int()               #define integer variable\n",
      "flovar = c_float()             #define float variable\n",
      "\n",
      "ptrint = pointer(intvar)\n",
      "ptrflo = pointer(flovar)\n",
      "ptrvoid = pointer(intvar)\n",
      "ptrvoid = pointer(flovar)"
     ],
     "language": "python",
     "metadata": {},
     "outputs": [],
     "prompt_number": 5
    },
    {
     "cell_type": "heading",
     "level": 2,
     "metadata": {},
     "source": [
      "Example 10.6, Page Number 440"
     ]
    },
    {
     "cell_type": "code",
     "collapsed": false,
     "input": [
      "intarray = [31,54,77,52,93]           #array\n",
      "\n",
      "for j in range(5):                    #for each element\n",
      "    print intarray[j]                 #print value"
     ],
     "language": "python",
     "metadata": {},
     "outputs": [
      {
       "output_type": "stream",
       "stream": "stdout",
       "text": [
        "31\n",
        "54\n",
        "77\n",
        "52\n",
        "93\n"
       ]
      }
     ],
     "prompt_number": 6
    },
    {
     "cell_type": "heading",
     "level": 2,
     "metadata": {},
     "source": [
      "Example 10.7, Page Number 441"
     ]
    },
    {
     "cell_type": "code",
     "collapsed": false,
     "input": [
      "import ctypes\n",
      "\n",
      "intarray = [31,54,77,52,93]           #array\n",
      "\n",
      "arr = (ctypes.c_int * len(intarray))(*intarray)        #pointer to intarray\n",
      "\n",
      "for j in range(5):                    #for each element\n",
      "    print arr[0 + j]                  #print value"
     ],
     "language": "python",
     "metadata": {},
     "outputs": [
      {
       "output_type": "stream",
       "stream": "stdout",
       "text": [
        "31\n",
        "54\n",
        "77\n",
        "52\n",
        "93\n"
       ]
      }
     ],
     "prompt_number": 7
    },
    {
     "cell_type": "heading",
     "level": 2,
     "metadata": {},
     "source": [
      "Example 10.8, Page Number 443"
     ]
    },
    {
     "cell_type": "code",
     "collapsed": false,
     "input": [
      "import ctypes\n",
      "\n",
      "intarray = [31,54,77,52,93]           #array\n",
      "\n",
      "arr = (ctypes.c_int * len(intarray))(*intarray)        #pointer to intarray\n",
      "\n",
      "for j in range(5):                    #for each element\n",
      "    print arr[0 + j]                  #print value"
     ],
     "language": "python",
     "metadata": {},
     "outputs": [
      {
       "output_type": "stream",
       "stream": "stdout",
       "text": [
        "31\n",
        "54\n",
        "77\n",
        "52\n",
        "93\n"
       ]
      }
     ],
     "prompt_number": 8
    },
    {
     "cell_type": "heading",
     "level": 2,
     "metadata": {},
     "source": [
      "Example 10.9, Page Number 443"
     ]
    },
    {
     "cell_type": "code",
     "collapsed": false,
     "input": [
      "def centimize(v):\n",
      "    v *= 2.54                       #convert inches to centimeters\n",
      "    return v\n",
      "\n",
      "var = 10.0                          #var has value of 10 inches\n",
      "print 'var =',var,'inches'\n",
      "\n",
      "var = centimize(var)                #change variable var to centimeters\n",
      "print 'var =',var,'centimeters'"
     ],
     "language": "python",
     "metadata": {},
     "outputs": [
      {
       "output_type": "stream",
       "stream": "stdout",
       "text": [
        "var = 10.0 inches\n",
        "var = 25.4 centimeters\n"
       ]
      }
     ],
     "prompt_number": 9
    },
    {
     "cell_type": "heading",
     "level": 2,
     "metadata": {},
     "source": [
      "Example 10.10, Page Number 444"
     ]
    },
    {
     "cell_type": "code",
     "collapsed": false,
     "input": [
      "from ctypes import *\n",
      "\n",
      "def centimize(ptrd):\n",
      "    ptrd[0] *= 2.54                 #ptrd[0] is the same as var\n",
      " \n",
      "var = 10.0                          #var has value of 10 inches\n",
      "print 'var =',var,'inches'\n",
      "\n",
      "var = c_float(10.0)\n",
      "\n",
      "centimize(pointer(var))             #change variable var to centimeters\n",
      "print 'var =',var,'centimeters'"
     ],
     "language": "python",
     "metadata": {},
     "outputs": [
      {
       "output_type": "stream",
       "stream": "stdout",
       "text": [
        "var = 10.0 inches\n",
        "var = c_float(25.399999618530273) centimeters\n"
       ]
      }
     ],
     "prompt_number": 10
    },
    {
     "cell_type": "heading",
     "level": 2,
     "metadata": {},
     "source": [
      "Example 10.11, Page Number 446"
     ]
    },
    {
     "cell_type": "code",
     "collapsed": false,
     "input": [
      "MAX = 5                                  #number of array element\n",
      "\n",
      "def centimize(ptrd):\n",
      "    for j in range(MAX):\n",
      "        ptrd[0+j] *= 2.54                #ptrd points to elements of array\n",
      "\n",
      "varray = [10.0,43.1,95.9,59.7,87.3]\n",
      "\n",
      "centimize(varray)                        #change elements of array to cm\n",
      "\n",
      "for j in range(MAX):                     #display new array values\n",
      "    print 'varray[%d]=%.3f centimeter' %(j,varray[j])"
     ],
     "language": "python",
     "metadata": {},
     "outputs": [
      {
       "output_type": "stream",
       "stream": "stdout",
       "text": [
        "varray[0]=25.400 centimeter\n",
        "varray[1]=109.474 centimeter\n",
        "varray[2]=243.586 centimeter\n",
        "varray[3]=151.638 centimeter\n",
        "varray[4]=221.742 centimeter\n"
       ]
      }
     ],
     "prompt_number": 11
    },
    {
     "cell_type": "heading",
     "level": 2,
     "metadata": {},
     "source": [
      "Example 10.12, Page Number 448"
     ]
    },
    {
     "cell_type": "code",
     "collapsed": false,
     "input": [
      "def order(numb1 ,numb2):              #orders two numbers\n",
      "    if numb1[0] > numb2[0]:           #if 1st larger than 2nd\n",
      "        temp = numb1[0]               #swap them\n",
      "        numb1[0] = numb2[0]\n",
      "        numb2[0] = temp\n",
      "        \n",
      "        \n",
      "n1 = c_int(99);n2 = c_int(11)         #one pair ordered, one not\n",
      "n3 = c_int(22);n4 = c_int(88)\n",
      "\n",
      "order(pointer(n1) , pointer(n2))      #order each pair of numbers\n",
      "order(pointer(n3) , pointer(n4))\n",
      "\n",
      "print 'n1 =',n1              #print out all numbers\n",
      "print 'n2 =',n2\n",
      "print 'n3 =',n3\n",
      "print 'n4 =',n4"
     ],
     "language": "python",
     "metadata": {},
     "outputs": [
      {
       "output_type": "stream",
       "stream": "stdout",
       "text": [
        "n1 = c_long(11)\n",
        "n2 = c_long(99)\n",
        "n3 = c_long(22)\n",
        "n4 = c_long(88)\n"
       ]
      }
     ],
     "prompt_number": 12
    },
    {
     "cell_type": "heading",
     "level": 2,
     "metadata": {},
     "source": [
      "Example 10.13, Page Number 449"
     ]
    },
    {
     "cell_type": "code",
     "collapsed": false,
     "input": [
      "from ctypes import *\n",
      "\n",
      "def order(numb1 ,numb2):        #orders two numbers\n",
      "    if numb1 > numb2:           #if 1st larger than 2nd\n",
      "        temp = numb1            #swap them\n",
      "        numb1 = numb2\n",
      "        numb2 = temp\n",
      "    return numb1,numb2\n",
      "    \n",
      "        \n",
      "def bsort(ptr,n):\n",
      "    for j in range(n-1):                      #outer loop\n",
      "        for k in range(j+1,n,1):              #inner loop starts at outer\n",
      "            ptr[j] ,ptr[k] = order(ptr[j] ,ptr[k])       #order the contents\n",
      "            \n",
      "            \n",
      "            \n",
      "N = 10                  #array size\n",
      "\n",
      "arr = [37,84,62,91,11,65,57,28,19,49]        #test array\n",
      "\n",
      "bsort(arr,N)            #sort the array\n",
      "\n",
      "for j in range(N):      #print out sorted array\n",
      "    print arr[j],'',\n",
      "    "
     ],
     "language": "python",
     "metadata": {},
     "outputs": [
      {
       "output_type": "stream",
       "stream": "stdout",
       "text": [
        "11  19  28  37  49  57  62  65  84  91 \n"
       ]
      }
     ],
     "prompt_number": 13
    },
    {
     "cell_type": "heading",
     "level": 2,
     "metadata": {},
     "source": [
      "Example 10.14, Page Number 452"
     ]
    },
    {
     "cell_type": "code",
     "collapsed": false,
     "input": [
      "str1 = \"Defined as an array\"             #two strings\n",
      "str2 = \"Defined as a pointer\"\n",
      "\n",
      "print str1                 #display both string\n",
      "print str2\n",
      "\n",
      "print str2[1:]             #str2 starts from \"efined...\""
     ],
     "language": "python",
     "metadata": {},
     "outputs": [
      {
       "output_type": "stream",
       "stream": "stdout",
       "text": [
        "Defined as an array\n",
        "Defined as a pointer\n",
        "efined as a pointer\n"
       ]
      }
     ],
     "prompt_number": 14
    },
    {
     "cell_type": "heading",
     "level": 2,
     "metadata": {},
     "source": [
      "Example 10.15, Page Number 453"
     ]
    },
    {
     "cell_type": "code",
     "collapsed": false,
     "input": [
      "def dispstr(ps):\n",
      "    print ps        #display string str through ps\n",
      "    \n",
      "str = \"Idle people have the least leisure.\"            #string\n",
      "\n",
      "dispstr(str)         #display string"
     ],
     "language": "python",
     "metadata": {},
     "outputs": [
      {
       "output_type": "stream",
       "stream": "stdout",
       "text": [
        "Idle people have the least leisure.\n"
       ]
      }
     ],
     "prompt_number": 15
    },
    {
     "cell_type": "heading",
     "level": 2,
     "metadata": {},
     "source": [
      "Example 10.16, Page Number 454"
     ]
    },
    {
     "cell_type": "code",
     "collapsed": false,
     "input": [
      "def copystr(dest,src):\n",
      "    dest = src                 #copy string \n",
      "    return dest\n",
      "\n",
      "str1 = \"Self-conquest is the greatest victory.\"\n",
      "str2 = \"\"                       #empty string\n",
      "\n",
      "str2 = copystr(str2,str1)       #copy str1 to str2\n",
      "\n",
      "print str2"
     ],
     "language": "python",
     "metadata": {},
     "outputs": [
      {
       "output_type": "stream",
       "stream": "stdout",
       "text": [
        "Self-conquest is the greatest victory.\n"
       ]
      }
     ],
     "prompt_number": 16
    },
    {
     "cell_type": "heading",
     "level": 2,
     "metadata": {},
     "source": [
      "Example 10.17, Page Number 457"
     ]
    },
    {
     "cell_type": "code",
     "collapsed": false,
     "input": [
      "Days = 7            #number of variables in array\n",
      "\n",
      "arrptrs = [\"Sunday\" , \"Monday\" , \"Tuesday\" , \"Wednesday\" , \"Thursday\" , \"Friday\" , \"Saturday\"]\n",
      "\n",
      "for j in range(Days):        #display every string\n",
      "    print arrptrs[j]"
     ],
     "language": "python",
     "metadata": {},
     "outputs": [
      {
       "output_type": "stream",
       "stream": "stdout",
       "text": [
        "Sunday\n",
        "Monday\n",
        "Tuesday\n",
        "Wednesday\n",
        "Thursday\n",
        "Friday\n",
        "Saturday\n"
       ]
      }
     ],
     "prompt_number": 17
    },
    {
     "cell_type": "heading",
     "level": 2,
     "metadata": {},
     "source": [
      "Example 10.18, Page Number 459"
     ]
    },
    {
     "cell_type": "code",
     "collapsed": false,
     "input": [
      "from ctypes import *\n",
      "\n",
      "str = \"Idle hands are the devil's workshop.\"\n",
      "strlen = len(str)                                #get length of str\n",
      "\n",
      "ptr = [\"\" for j in range(strlen + 1)]            #set aside memory: string + '\\0'\n",
      "ptr = str                 #copy str to new memory area ptr\n",
      "  \n",
      "print 'ptr =',ptr                 #show that ptr is now in str\n",
      "\n",
      "del ptr"
     ],
     "language": "python",
     "metadata": {},
     "outputs": [
      {
       "output_type": "stream",
       "stream": "stdout",
       "text": [
        "ptr = Idle hands are the devil's workshop.\n"
       ]
      }
     ],
     "prompt_number": 18
    },
    {
     "cell_type": "heading",
     "level": 2,
     "metadata": {},
     "source": [
      "Example 10.19, Page Number 462"
     ]
    },
    {
     "cell_type": "code",
     "collapsed": false,
     "input": [
      "class String:                        #user-defined string type\n",
      "    def __init__(self,s):            #constructor\n",
      "        self.__str = s               #copy argument to str\n",
      "        \n",
      "    def __del__(self):               #destructor\n",
      "        print 'Deleting str'         #release memory\n",
      "        \n",
      "    def display(self):               #display the string\n",
      "        print self.__str\n",
      "        \n",
      "        \n",
      "        \n",
      "s1 = String(\"Who knows nothing doubts nothing.\")          #uses 1-arg constructor\n",
      "\n",
      "print 's1 =',            #display string\n",
      "s1.display()\n",
      "\n",
      "del s1"
     ],
     "language": "python",
     "metadata": {},
     "outputs": [
      {
       "output_type": "stream",
       "stream": "stdout",
       "text": [
        "s1 = Who knows nothing doubts nothing.\n",
        "Deleting str\n"
       ]
      }
     ],
     "prompt_number": 19
    },
    {
     "cell_type": "heading",
     "level": 2,
     "metadata": {},
     "source": [
      "Example 10.20, Page Number 464"
     ]
    },
    {
     "cell_type": "code",
     "collapsed": false,
     "input": [
      "from ctypes import *\n",
      "\n",
      "class Distance(Structure):          #Distance class\n",
      "    \n",
      "    def getdist(self):              #get length from user\n",
      "        self.__feet = input(\"\\nEnter feet: \")\n",
      "        self.__inches = input(\"Enter inches: \")\n",
      "        \n",
      "    def showdist(self):             #display distance\n",
      "        print self.__feet , '\\' -' , self.__inches , '\\\"'\n",
      "        \n",
      "        \n",
      "        \n",
      "dist = Distance()                   #define a named Disatance object\n",
      "dist.getdist()                      #access object member with dot operator\n",
      "dist.showdist()\n",
      "\n",
      "distptr = POINTER(Distance)         #points to Distance\n",
      "\n",
      "distptr = dist                      \n",
      "\n",
      "distptr.getdist()                   #access object members\n",
      "distptr.showdist()"
     ],
     "language": "python",
     "metadata": {},
     "outputs": [
      {
       "name": "stdout",
       "output_type": "stream",
       "stream": "stdout",
       "text": [
        "\n",
        "Enter feet: 10\n"
       ]
      },
      {
       "name": "stdout",
       "output_type": "stream",
       "stream": "stdout",
       "text": [
        "Enter inches: 6.25\n"
       ]
      },
      {
       "output_type": "stream",
       "stream": "stdout",
       "text": [
        "10 ' - 6.25 \"\n"
       ]
      },
      {
       "name": "stdout",
       "output_type": "stream",
       "stream": "stdout",
       "text": [
        "\n",
        "Enter feet: 6\n"
       ]
      },
      {
       "name": "stdout",
       "output_type": "stream",
       "stream": "stdout",
       "text": [
        "Enter inches: 4.75\n"
       ]
      },
      {
       "output_type": "stream",
       "stream": "stdout",
       "text": [
        "6 ' - 4.75 \"\n"
       ]
      }
     ],
     "prompt_number": 20
    },
    {
     "cell_type": "heading",
     "level": 2,
     "metadata": {},
     "source": [
      "Example 10.21, Page Number 466"
     ]
    },
    {
     "cell_type": "code",
     "collapsed": false,
     "input": [
      "from ctypes import *\n",
      "\n",
      "class Distance(Structure):          #Distance class\n",
      "    \n",
      "    def getdist(self):              #get length from user\n",
      "        self.__feet = input(\"Enter feet: \")\n",
      "        self.__inches = input(\"Enter inches: \")\n",
      "        \n",
      "    def showdist(self):             #display distance\n",
      "        print self.__feet , '\\' -' , self.__inches , '\\\"'\n",
      "        \n",
      "        \n",
      "        \n",
      "dist = Distance()\n",
      "distptr = POINTER(Distance)\n",
      "\n",
      "distptr = dist          \n",
      "\n",
      "distptr.getdist()\n",
      "distptr.showdist()"
     ],
     "language": "python",
     "metadata": {},
     "outputs": [
      {
       "name": "stdout",
       "output_type": "stream",
       "stream": "stdout",
       "text": [
        "Enter feet: 10\n"
       ]
      },
      {
       "name": "stdout",
       "output_type": "stream",
       "stream": "stdout",
       "text": [
        "Enter inches: 4.75\n"
       ]
      },
      {
       "output_type": "stream",
       "stream": "stdout",
       "text": [
        "10 ' - 4.75 \"\n"
       ]
      }
     ],
     "prompt_number": 21
    },
    {
     "cell_type": "heading",
     "level": 2,
     "metadata": {},
     "source": [
      "Example 10.22, Page Number 467"
     ]
    },
    {
     "cell_type": "code",
     "collapsed": false,
     "input": [
      "from ctypes import *\n",
      "\n",
      "class person(Structure):                #class of persons\n",
      "    \n",
      "    def setName(self):                  #set the name\n",
      "        self.__name = raw_input(\"Enter name: \")\n",
      "        \n",
      "    def printName(self):                #get the name\n",
      "        print '   Name is :',self.__name\n",
      "        \n",
      "        \n",
      "        \n",
      "ob = [person() for j in range(100)]     #array of persons\n",
      "persPtr = ob                            #array to persons\n",
      "n = 0                                   #number of persons in array\n",
      "\n",
      "\n",
      "while True:                             #put persons in array\n",
      "    \n",
      "    persPtr[n].setName()                #set person's name\n",
      "    n += 1                              #count new person\n",
      "    choice = raw_input('Enter another (y/n)? ')      #person ?\n",
      "    \n",
      "    if choice=='n':                     #quit on 'n'\n",
      "        break\n",
      "        \n",
      "for j in range(n):                      #print names of all persons\n",
      "    print 'person number',j+1\n",
      "    persPtr[j].printName()\n",
      "    "
     ],
     "language": "python",
     "metadata": {},
     "outputs": [
      {
       "name": "stdout",
       "output_type": "stream",
       "stream": "stdout",
       "text": [
        "Enter name: Stroustrup\n"
       ]
      },
      {
       "name": "stdout",
       "output_type": "stream",
       "stream": "stdout",
       "text": [
        "Enter another (y/n)? y\n"
       ]
      },
      {
       "name": "stdout",
       "output_type": "stream",
       "stream": "stdout",
       "text": [
        "Enter name: Ritchie\n"
       ]
      },
      {
       "name": "stdout",
       "output_type": "stream",
       "stream": "stdout",
       "text": [
        "Enter another (y/n)? y\n"
       ]
      },
      {
       "name": "stdout",
       "output_type": "stream",
       "stream": "stdout",
       "text": [
        "Enter name: Kernighan\n"
       ]
      },
      {
       "name": "stdout",
       "output_type": "stream",
       "stream": "stdout",
       "text": [
        "Enter another (y/n)? n\n"
       ]
      },
      {
       "output_type": "stream",
       "stream": "stdout",
       "text": [
        "person number 1\n",
        "   Name is : Stroustrup\n",
        "person number 2\n",
        "   Name is : Ritchie\n",
        "person number 3\n",
        "   Name is : Kernighan\n"
       ]
      }
     ],
     "prompt_number": 22
    },
    {
     "cell_type": "heading",
     "level": 2,
     "metadata": {},
     "source": [
      "Example 10.23, Page Number 469"
     ]
    },
    {
     "cell_type": "code",
     "collapsed": false,
     "input": [
      "class link:\n",
      "    def __init__(self):\n",
      "        self.data = None                    # contains the data\n",
      "        self.next = None                    # contains the reference to the next node\n",
      "\n",
      "\n",
      "class linklist:\n",
      "    def __init__(self):\n",
      "        self.first = None\n",
      "\n",
      "    def additem(self, d):                   # add data item\n",
      "        newlink = link()                    # make a new link\n",
      "        newlink.data = d                    # give it data\n",
      "        newlink.next = self.first           # it points to next link\n",
      "        self.first = newlink                # now first points to this\n",
      "\n",
      "    def display(self):\n",
      "        current = self.first                # set ptr to first link\n",
      "        while current:                      # quit on last link\n",
      "            print current.data              # print data\n",
      "            current = current.next          # move to next link\n",
      "\n",
      "\n",
      "            \n",
      "\n",
      "li = linklist()             # make linked list\n",
      "\n",
      "li.additem(25)              # add four items to linked list\n",
      "li.additem(36)\n",
      "li.additem(49)\n",
      "li.additem(64)\n",
      "\n",
      "li.display()                # display entire list"
     ],
     "language": "python",
     "metadata": {},
     "outputs": [
      {
       "output_type": "stream",
       "stream": "stdout",
       "text": [
        "64\n",
        "49\n",
        "36\n",
        "25\n"
       ]
      }
     ],
     "prompt_number": 23
    },
    {
     "cell_type": "heading",
     "level": 2,
     "metadata": {},
     "source": [
      "Example 10.24, Page Number 474"
     ]
    },
    {
     "cell_type": "code",
     "collapsed": false,
     "input": [
      "from ctypes import *\n",
      "\n",
      "def order(numb1 ,numb2):        #orders two objects\n",
      "    if numb1.getname() > numb2.getname():           #if the name of 1st larger than 2nd\n",
      "        temp = numb1            #swap them\n",
      "        numb1 = numb2\n",
      "        numb2 = temp\n",
      "    return numb1,numb2\n",
      "    \n",
      "        \n",
      "def bsort(ptr,n):\n",
      "    for j in range(n-1):                      #outer loop\n",
      "        for k in range(j+1,n,1):              #inner loop starts at outer\n",
      "            ptr[j] ,ptr[k] = order(ptr[j] ,ptr[k])       #order the contents\n",
      "    return ptr\n",
      "\n",
      "\n",
      "class person(Structure):                #class of persons\n",
      "    \n",
      "    def setName(self):                  #set the name\n",
      "        self.__name = raw_input(\"Enter name: \")\n",
      "        \n",
      "    def printName(self):                #display the name\n",
      "        print self.__name\n",
      "        \n",
      "    def getname(self):                  #returns the name\n",
      "        return self.__name\n",
      "    \n",
      "    \n",
      "    \n",
      "    \n",
      "ob = [person()]*100                     #array of persons\n",
      "persPtr = POINTER(person)               #pointer to person\n",
      " \n",
      "persPtr = ob                            #array of pointers to persons\n",
      "n = 0                                   #number of persons in array\n",
      "\n",
      "while True:                             #put persons in array\n",
      "    \n",
      "    persPtr[n] = person()\n",
      "    persPtr[n].setName()                #set person's name\n",
      "    \n",
      "    n += 1                              #count new person\n",
      "    \n",
      "    choice = raw_input('Enter another (y/n)? ')           #person ?\n",
      "    \n",
      "    if choice=='n':                     #quit on 'n'\n",
      "        break\n",
      "\n",
      "        \n",
      "print '\\nUnsorted list:'\n",
      "for j in range(n):                      #print names of all persons\n",
      "    persPtr[j].printName()\n",
      "    \n",
      "    \n",
      "persPtr = bsort(persPtr,n)              #sorts the content of array according to their name\n",
      "\n",
      "print '\\nSorted list:'\n",
      "for j in range(n):                      #print names of all persons\n",
      "    persPtr[j].printName()"
     ],
     "language": "python",
     "metadata": {},
     "outputs": [
      {
       "name": "stdout",
       "output_type": "stream",
       "stream": "stdout",
       "text": [
        "Enter name: Washington\n"
       ]
      },
      {
       "name": "stdout",
       "output_type": "stream",
       "stream": "stdout",
       "text": [
        "Enter another (y/n)? y\n"
       ]
      },
      {
       "name": "stdout",
       "output_type": "stream",
       "stream": "stdout",
       "text": [
        "Enter name: Adams\n"
       ]
      },
      {
       "name": "stdout",
       "output_type": "stream",
       "stream": "stdout",
       "text": [
        "Enter another (y/n)? y\n"
       ]
      },
      {
       "name": "stdout",
       "output_type": "stream",
       "stream": "stdout",
       "text": [
        "Enter name: Jefferson\n"
       ]
      },
      {
       "name": "stdout",
       "output_type": "stream",
       "stream": "stdout",
       "text": [
        "Enter another (y/n)? y\n"
       ]
      },
      {
       "name": "stdout",
       "output_type": "stream",
       "stream": "stdout",
       "text": [
        "Enter name: Madison\n"
       ]
      },
      {
       "name": "stdout",
       "output_type": "stream",
       "stream": "stdout",
       "text": [
        "Enter another (y/n)? n\n"
       ]
      },
      {
       "output_type": "stream",
       "stream": "stdout",
       "text": [
        "\n",
        "\n",
        "Unsorted list:\n",
        "Washington\n",
        "Adams\n",
        "Jefferson\n",
        "Madison\n",
        "\n",
        "Sorted list:\n",
        "Adams\n",
        "Jefferson\n",
        "Madison\n",
        "Washington\n"
       ]
      }
     ],
     "prompt_number": 24
    },
    {
     "cell_type": "heading",
     "level": 2,
     "metadata": {},
     "source": [
      "Example 10.25, Page Number 481"
     ]
    },
    {
     "cell_type": "code",
     "collapsed": false,
     "input": [
      "LEN = 80               #length of expression, in character\n",
      "MAX = 40               #size of stack\n",
      "\n",
      "\n",
      "class stack:\n",
      "    \n",
      "    def __init__(self):\n",
      "        self.__st = [None]*MAX              #stack: array of chars\n",
      "        self.__top = 0                      #number of top of stack\n",
      "        \n",
      "    def push(self,var):                     #put char on stack\n",
      "        self.__top += 1\n",
      "        self.__st[self.__top] = var\n",
      "        \n",
      "    def pop(self):                          #take char off stack\n",
      "        x = self.__st[self.__top]\n",
      "        self.__top -= 1\n",
      "        return x\n",
      "    \n",
      "    def gettop(self):                       #get top of stack\n",
      "        return self.__top\n",
      "    \n",
      "    \n",
      "    \n",
      "class express:                                      #expression class\n",
      "    \n",
      "    def __init__(self,ptr):\n",
      "        \n",
      "        self.__s = stack()                          #stack for analysis\n",
      "        self.__pStr = ptr                           #input string\n",
      "        self.__len = len(self.__pStr)               #length of input string\n",
      "        \n",
      "        \n",
      "    def parse(self):                                #add items to stack\n",
      "        \n",
      "        for j in range(self.__len):                 #for each input character\n",
      "            \n",
      "            ch = self.__pStr[j]                     #get next character\n",
      "            \n",
      "            if ch >= '0' and ch<='9':               #if it's a digit,\n",
      "                self.__s.push(ch)                   #save the character\n",
      "                \n",
      "                                                    #if it's operator\n",
      "            elif ch == '+' or ch == '-' or ch == '*' or ch == '/':\n",
      "                \n",
      "                if self.__s.gettop() == 1:           #if it's first operator\n",
      "                    self.__s.push(ch)                #put on stack\n",
      "                    \n",
      "                else:                                #not first operator\n",
      "                    \n",
      "                    lastval = self.__s.pop()         #get previous digit \n",
      "                    lastop = self.__s.pop()          #get previous operator\n",
      "                    \n",
      "                    \n",
      "                    #if this is * or / AND last operator was + or -\n",
      "                    if (ch=='*' or ch=='/') and (lastop == '+' or lastop == '-'):\n",
      "                         \n",
      "                        self.__s.push(lastop)           #restore last two pops\n",
      "                        self.__s.push(lastval)\n",
      "                        \n",
      "                        \n",
      "                    else:                               #in all other cases\n",
      "                                                        #do last operation, and push result on stack\n",
      "                        \n",
      "                        if lastop == '+':\n",
      "                            self.__s.push(str(int(self.__s.pop()) + int(lastval)))\n",
      "                            \n",
      "                        elif lastop == '-':\n",
      "                            self.__s.push(str(int(self.__s.pop()) - int(lastval)))\n",
      "                            \n",
      "                        elif lastop == '*':\n",
      "                            self.__s.push(str(int(self.__s.pop()) * int(lastval)))\n",
      "                            \n",
      "                        elif lastop == '/':\n",
      "                            self.__s.push(str(int(int(self.__s.pop()) / int(lastval))))\n",
      "                            \n",
      "                        else:\n",
      "                            print 'Unknown oper'\n",
      "                            \n",
      "                            \n",
      "                    self.__s.push(ch)                    #put current operator on stack\n",
      "                \n",
      "                \n",
      "            else:                                        #not a known character\n",
      "                \n",
      "                print 'Unkown input character'\n",
      "            \n",
      "            \n",
      "            \n",
      "    def solve(self):                                   #remove items from stack\n",
      "        \n",
      "        while self.__s.gettop() > 1:\n",
      "            \n",
      "            lastval = self.__s.pop()                   #get previous value\n",
      "            \n",
      "            a = self.__s.pop()                         #get previous operator\n",
      "            \n",
      "            \n",
      "                                                       #do operation, push answer\n",
      "            if a == '+':\n",
      "                self.__s.push(str(int(self.__s.pop()) + int(lastval)))\n",
      "                            \n",
      "            elif a == '-':\n",
      "                self.__s.push(str(int(self.__s.pop()) - int(lastval)))\n",
      "                            \n",
      "            elif a == '*':\n",
      "                self.__s.push(str(int(self.__s.pop()) * int(lastval)))\n",
      "                            \n",
      "            elif a == '/':\n",
      "                self.__s.push(str(int(int(self.__s.pop()) / int(lastval))))\n",
      "                            \n",
      "            else:\n",
      "                print 'Unknown oper'\n",
      "                \n",
      "                \n",
      "        return self.__s.pop()                #last item on stack is ans\n",
      "    \n",
      "    \n",
      "    \n",
      "    \n",
      "\n",
      "print 'Enter an arithmetic expression'\n",
      "print 'of the form 2+3*4/3-2'\n",
      "print 'No number may have more than one digit.'\n",
      "print 'Dont\\'t use any spaces or parentheses.'    \n",
      "\n",
      "while True:\n",
      "    string = raw_input(\"Enter expression: \")              #input from user\n",
      "\n",
      "    eptr = express(string)                                #make expression\n",
      "\n",
      "    eptr.parse()                                          #parse it\n",
      "\n",
      "    print '\\nThe numerical value is: ',eptr.solve()       #solve it\n",
      "    \n",
      "    del eptr                                              #delete expression\n",
      "    \n",
      "    ans =  raw_input(\"\\n\\nDo another (Enter y or n)? \")\n",
      "    \n",
      "    if ans == 'n':\n",
      "        break"
     ],
     "language": "python",
     "metadata": {},
     "outputs": [
      {
       "output_type": "stream",
       "stream": "stdout",
       "text": [
        "Enter an arithmetic expression\n",
        "of the form 2+3*4/3-2\n",
        "No number may have more than one digit.\n",
        "Dont't use any spaces or parentheses.\n"
       ]
      },
      {
       "name": "stdout",
       "output_type": "stream",
       "stream": "stdout",
       "text": [
        "Enter expression: 2+3*4/3-2\n"
       ]
      },
      {
       "output_type": "stream",
       "stream": "stdout",
       "text": [
        "\n",
        "The numerical value is:  4\n"
       ]
      },
      {
       "name": "stdout",
       "output_type": "stream",
       "stream": "stdout",
       "text": [
        "\n",
        "\n",
        "Do another (Enter y or n)? y\n"
       ]
      },
      {
       "name": "stdout",
       "output_type": "stream",
       "stream": "stdout",
       "text": [
        "Enter expression: 9+6/3\n"
       ]
      },
      {
       "output_type": "stream",
       "stream": "stdout",
       "text": [
        "\n",
        "The numerical value is:  11\n"
       ]
      },
      {
       "name": "stdout",
       "output_type": "stream",
       "stream": "stdout",
       "text": [
        "\n",
        "\n",
        "Do another (Enter y or n)? n\n"
       ]
      }
     ],
     "prompt_number": 25
    },
    {
     "cell_type": "code",
     "collapsed": false,
     "input": [],
     "language": "python",
     "metadata": {},
     "outputs": []
    }
   ],
   "metadata": {}
  }
 ]
}