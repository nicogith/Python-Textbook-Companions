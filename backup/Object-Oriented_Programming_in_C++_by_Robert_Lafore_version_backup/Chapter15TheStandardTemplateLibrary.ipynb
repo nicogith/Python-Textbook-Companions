{
 "metadata": {
  "name": "",
  "signature": "sha256:9f3cc87ca66ff6fe2a52d0d72cf4859c6f5730f0081a8f18f154de578d8ad2e0"
 },
 "nbformat": 3,
 "nbformat_minor": 0,
 "worksheets": [
  {
   "cells": [
    {
     "cell_type": "heading",
     "level": 1,
     "metadata": {},
     "source": [
      "Chapter 15: The Standard Template Library"
     ]
    },
    {
     "cell_type": "heading",
     "level": 2,
     "metadata": {},
     "source": [
      "Example 15.1, Page Number 735"
     ]
    },
    {
     "cell_type": "code",
     "collapsed": false,
     "input": [
      "arr = [11,22,33,44,55,66,77,88]\n",
      "\n",
      "ptr = arr.index(33)         #find first 33\n",
      "\n",
      "print 'First object with value 33 found at offset',ptr"
     ],
     "language": "python",
     "metadata": {},
     "outputs": [
      {
       "output_type": "stream",
       "stream": "stdout",
       "text": [
        "First object with value 33 found at offset 2\n"
       ]
      }
     ],
     "prompt_number": 1
    },
    {
     "cell_type": "heading",
     "level": 2,
     "metadata": {},
     "source": [
      "Example 15.2, Page Number 736"
     ]
    },
    {
     "cell_type": "code",
     "collapsed": false,
     "input": [
      "arr = [33,22,33,44,33,66,77,88]\n",
      "\n",
      "n = arr.count(33)           #count number of 33's\n",
      "\n",
      "print 'There are',n,'33\\'s in arr.\\n'"
     ],
     "language": "python",
     "metadata": {},
     "outputs": [
      {
       "output_type": "stream",
       "stream": "stdout",
       "text": [
        "There are 3 33's in arr.\n",
        "\n"
       ]
      }
     ],
     "prompt_number": 2
    },
    {
     "cell_type": "heading",
     "level": 2,
     "metadata": {},
     "source": [
      "Example 15.3, Page Number 737"
     ]
    },
    {
     "cell_type": "code",
     "collapsed": false,
     "input": [
      "arr = [45,2,22,-17,0,-30,25,55]           #array of numbers\n",
      "\n",
      "arr1 = sorted(arr)            #sort the numbers\n",
      "\n",
      "for j in range(8):            #display sorted numbers\n",
      "    print arr1[j],'',"
     ],
     "language": "python",
     "metadata": {},
     "outputs": [
      {
       "output_type": "stream",
       "stream": "stdout",
       "text": [
        "-30  -17  0  2  22  25  45  55 \n"
       ]
      }
     ],
     "prompt_number": 3
    },
    {
     "cell_type": "heading",
     "level": 2,
     "metadata": {},
     "source": [
      "Example 15.4, Page Number 737"
     ]
    },
    {
     "cell_type": "code",
     "collapsed": false,
     "input": [
      "def find_sublist(sub, bigger):      #function for find the substring\n",
      "    \n",
      "    if not bigger:\n",
      "        return -1\n",
      "    if not sub:\n",
      "        return 0\n",
      "    \n",
      "    first, rest = sub[0], sub[1:]\n",
      "    pos = 0\n",
      "    \n",
      "    try:\n",
      "        while True:\n",
      "            pos = bigger.index(first, pos) + 1\n",
      "            if not rest or bigger[pos:pos+len(rest)] == rest:\n",
      "                return pos-1\n",
      "    except ValueError:\n",
      "        return -1\n",
      "    \n",
      "    \n",
      "\n",
      "source = [11,44,33,11,22,33,11,22,44]\n",
      "pattern = [11,22,33]\n",
      "\n",
      "ptr =  find_sublist(pattern, source)\n",
      "\n",
      "if ptr == -1:                     #if past-the-end\n",
      "    print \"No Match Found\"\n",
      "else:\n",
      "    print 'Match at',ptr"
     ],
     "language": "python",
     "metadata": {},
     "outputs": [
      {
       "output_type": "stream",
       "stream": "stdout",
       "text": [
        "Match at 3\n"
       ]
      }
     ],
     "prompt_number": 4
    },
    {
     "cell_type": "heading",
     "level": 2,
     "metadata": {},
     "source": [
      "Example 15.5, Page Number 738"
     ]
    },
    {
     "cell_type": "code",
     "collapsed": false,
     "input": [
      "src1 = [2,3,4,6,8]\n",
      "src2 = [1,3,5]\n",
      "\n",
      "dest = sorted(src1 + src2)        #merge src1 and src2 into dest and sort it\n",
      "\n",
      "for j in range(8):                #display dist\n",
      "    print dest[j],"
     ],
     "language": "python",
     "metadata": {},
     "outputs": [
      {
       "output_type": "stream",
       "stream": "stdout",
       "text": [
        "1 2 3 3 4 5 6 8\n"
       ]
      }
     ],
     "prompt_number": 5
    },
    {
     "cell_type": "heading",
     "level": 2,
     "metadata": {},
     "source": [
      "Example 15.6, Page Number 739"
     ]
    },
    {
     "cell_type": "code",
     "collapsed": false,
     "input": [
      "fdata = [19.2 , 87.4 , 33.6 , 55.0 , 11.5 , 42.2]            #array of doubles\n",
      "\n",
      "fdata1 = sorted(fdata , reverse = True)         #sort the doubles in reverse order\n",
      "\n",
      "for j in range(6):             #display sorted doubles\n",
      "    print fdata1[j],"
     ],
     "language": "python",
     "metadata": {},
     "outputs": [
      {
       "output_type": "stream",
       "stream": "stdout",
       "text": [
        "87.4 55.0 42.2 33.6 19.2 11.5\n"
       ]
      }
     ],
     "prompt_number": 6
    },
    {
     "cell_type": "heading",
     "level": 2,
     "metadata": {},
     "source": [
      "Example 15.7, Page Number 740"
     ]
    },
    {
     "cell_type": "code",
     "collapsed": false,
     "input": [
      "names = [\"George\", \"Penny\", \"Estelle\", \"Don\", \"Mike\", \"Bob\"]         #array of strings\n",
      "\n",
      "names = sorted(names)           #sort the string\n",
      "\n",
      "for i in range (6):             #display sorted strings\n",
      "    print names[i]"
     ],
     "language": "python",
     "metadata": {},
     "outputs": [
      {
       "output_type": "stream",
       "stream": "stdout",
       "text": [
        "Bob\n",
        "Don\n",
        "Estelle\n",
        "George\n",
        "Mike\n",
        "Penny\n"
       ]
      }
     ],
     "prompt_number": 7
    },
    {
     "cell_type": "heading",
     "level": 2,
     "metadata": {},
     "source": [
      "Example 15.8, Page Number 741"
     ]
    },
    {
     "cell_type": "code",
     "collapsed": false,
     "input": [
      "names = [\"George\", \"Estelle\", \"Don\", \"Mike\", \"Bob\"]\n",
      "\n",
      "ptr = names.index(\"Don\")             #index of an element\n",
      "\n",
      "print 'Don is element',ptr,'on the list.'"
     ],
     "language": "python",
     "metadata": {},
     "outputs": [
      {
       "output_type": "stream",
       "stream": "stdout",
       "text": [
        "Don is element 2 on the list.\n"
       ]
      }
     ],
     "prompt_number": 8
    },
    {
     "cell_type": "heading",
     "level": 2,
     "metadata": {},
     "source": [
      "Example 15.9, Page Number 742"
     ]
    },
    {
     "cell_type": "code",
     "collapsed": false,
     "input": [
      "def in_to_cm(inc):                   #convert and display as centimeters\n",
      "    print inc*2.54,\n",
      "    \n",
      "inches = [3.5,6.2,1.0,12.75,4.33]    #array of inches value\n",
      "\n",
      "for x in range(len(inches)):         #output as centimeters\n",
      "    in_to_cm(inches[x])"
     ],
     "language": "python",
     "metadata": {},
     "outputs": [
      {
       "output_type": "stream",
       "stream": "stdout",
       "text": [
        "8.89 15.748 2.54 32.385 10.9982\n"
       ]
      }
     ],
     "prompt_number": 9
    },
    {
     "cell_type": "heading",
     "level": 2,
     "metadata": {},
     "source": [
      "Example 15.10, Page Number 743"
     ]
    },
    {
     "cell_type": "code",
     "collapsed": false,
     "input": [
      "def in_to_cm(inc):                   #convert and display as centimeters\n",
      "    return inc*2.54\n",
      "    \n",
      "inches = [3.5,6.2,1.0,12.75,4.33]\n",
      "centi = [0.0 for j in range(5)]\n",
      "\n",
      "for x in range(len(inches)):         #transform into array centi[]\n",
      "    centi[x] = in_to_cm(inches[x])\n",
      "    \n",
      "for x in range(len(centi)):          #display array centi[]\n",
      "    print centi[x],"
     ],
     "language": "python",
     "metadata": {},
     "outputs": [
      {
       "output_type": "stream",
       "stream": "stdout",
       "text": [
        "8.89 15.748 2.54 32.385 10.9982\n"
       ]
      }
     ],
     "prompt_number": 10
    },
    {
     "cell_type": "heading",
     "level": 2,
     "metadata": {},
     "source": [
      "Example 15.11, Page Number 744"
     ]
    },
    {
     "cell_type": "code",
     "collapsed": false,
     "input": [
      "x = []\n",
      "\n",
      "                #put values at end of array\n",
      "x.append(10)\n",
      "x.append(11)\n",
      "x.append(12)\n",
      "x.append(13)\n",
      "\n",
      "                #replace with new values\n",
      "x[0] = 20\n",
      "x[3] = 23\n",
      "\n",
      "                #display array contents\n",
      "for j in range(x.__len__()):\n",
      "    print x[j],"
     ],
     "language": "python",
     "metadata": {},
     "outputs": [
      {
       "output_type": "stream",
       "stream": "stdout",
       "text": [
        "20 11 12 23\n"
       ]
      }
     ],
     "prompt_number": 11
    },
    {
     "cell_type": "heading",
     "level": 2,
     "metadata": {},
     "source": [
      "Example 15.12, Page Number 745"
     ]
    },
    {
     "cell_type": "code",
     "collapsed": false,
     "input": [
      "#*class vector*#\n",
      "\n",
      "class vector:                                               \n",
      "    \n",
      "    def __init__(self,a):            #construtor\n",
      "        \n",
      "        if isinstance(a,int):\n",
      "            self.__arr = [0.0 for j in range(a)]\n",
      "            \n",
      "        elif isinstance(a,vector):\n",
      "            self.__arr = a.__arr\n",
      "        \n",
      "        else:\n",
      "            self.__arr = a\n",
      "            \n",
      "            \n",
      "    def swap(self,v2):                  #swap contents of two vectors\n",
      "        return v2.__arr,self.__arr\n",
      "    \n",
      "    def empty(self):                    #check vector is empty or not\n",
      "        if len(self.__arr)==0:\n",
      "            return True\n",
      "        else:\n",
      "            return False\n",
      "        \n",
      "    def back(self):                     #return the last element of vector\n",
      "        a = len(self.__arr)\n",
      "        return self.__arr[a-1]\n",
      "        \n",
      "    def pop_back(self):                 #delete last element vector \n",
      "        self.__arr.pop()\n",
      "        \n",
      "        \n",
      "        \n",
      "        \n",
      "arr = [1.1,2.2,3.3,4.4]                 #an array of doubles\n",
      "\n",
      "v1 = vector(arr)                        #initialize vector to array\n",
      "v2 = vector(4)                          #empty vector of size 4\n",
      "\n",
      "\n",
      "v1,v2 = v1.swap(v2)                     #swap contents of v1 and v2\n",
      "\n",
      "v2 = vector(v2)\n",
      "\n",
      "while not v2.empty():                   #untill vector is empty\n",
      "    \n",
      "    print v2.back(),                    #display the last element\n",
      "    v2.pop_back()                       #remove last element"
     ],
     "language": "python",
     "metadata": {},
     "outputs": [
      {
       "output_type": "stream",
       "stream": "stdout",
       "text": [
        "4.4 3.3 2.2 1.1\n"
       ]
      }
     ],
     "prompt_number": 12
    },
    {
     "cell_type": "heading",
     "level": 2,
     "metadata": {},
     "source": [
      "Example 15.13, Page Number 746"
     ]
    },
    {
     "cell_type": "code",
     "collapsed": false,
     "input": [
      "arr = [100,110,120,130]              #an array of ints\n",
      "v = arr                              \n",
      "\n",
      "print 'Before insertion:',\n",
      "for j in range(len(v)):              #display all elements\n",
      "    print v[j],\n",
      "    \n",
      "v.insert(2,115)                      #insert 115 at element 2\n",
      "\n",
      "print '\\nAfter insertion: ',\n",
      "for j in range(len(v)):              #display all elements\n",
      "    print v[j],\n",
      "    \n",
      "v.remove(115)                        #erase element 2\n",
      "\n",
      "print '\\nAfter erasure:   ',\n",
      "for j in range(len(v)):              #display all elements\n",
      "    print v[j],\n",
      "\n",
      "print '\\n'"
     ],
     "language": "python",
     "metadata": {},
     "outputs": [
      {
       "output_type": "stream",
       "stream": "stdout",
       "text": [
        "Before insertion: 100 110 120 130 \n",
        "After insertion:  100 110 115 120 130 \n",
        "After erasure:    100 110 120 130 \n",
        "\n"
       ]
      }
     ],
     "prompt_number": 13
    },
    {
     "cell_type": "heading",
     "level": 2,
     "metadata": {},
     "source": [
      "Example 15.14, Page Number 747"
     ]
    },
    {
     "cell_type": "code",
     "collapsed": false,
     "input": [
      "class list:                              #*list class*#\n",
      "    \n",
      "    def __init__(self):                    #constructor\n",
      "        self.__arr = []\n",
      "        \n",
      "    def push_back(self,a):                 #function to add element in array at last\n",
      "        self.__arr.append(a)\n",
      "        \n",
      "    def size(self):                        #return size of array\n",
      "        self.__arr = sorted(self.__arr)    #sort the array\n",
      "        return len(self.__arr)\n",
      "        \n",
      "    def front(self):                       #gives the first element\n",
      "        return self.__arr[0]\n",
      "    \n",
      "    def pop_front(self):                   #delete first element\n",
      "        a = self.__arr[0]\n",
      "        self.__arr.remove(a)\n",
      "        \n",
      "        \n",
      "        \n",
      "        \n",
      "ilist = list()\n",
      "\n",
      "ilist.push_back(30)              #push items on back\n",
      "ilist.push_back(40)\n",
      "ilist.push_back(20)\n",
      "ilist.push_back(10)\n",
      "\n",
      "size = ilist.size()              #number of items\n",
      "\n",
      "for j in range(size):\n",
      "    print ilist.front(),         #read items from front\n",
      "    ilist.pop_front()            #pop items off front"
     ],
     "language": "python",
     "metadata": {},
     "outputs": [
      {
       "output_type": "stream",
       "stream": "stdout",
       "text": [
        "10 20 30 40\n"
       ]
      }
     ],
     "prompt_number": 14
    },
    {
     "cell_type": "heading",
     "level": 2,
     "metadata": {},
     "source": [
      "Example 15.15, Page Number 748"
     ]
    },
    {
     "cell_type": "code",
     "collapsed": false,
     "input": [
      "class list:                              #*list class*#\n",
      "    \n",
      "    def __init__(self):                    #constructor\n",
      "        self.__arr = []\n",
      "        \n",
      "    def push_back(self,a):                 #function to add element in array at last\n",
      "        self.__arr.append(a)\n",
      "        \n",
      "    def reverse(self):                     #reverse the array\n",
      "        self.__arr.reverse()\n",
      "        \n",
      "    def merge(self,a):                     #merge 'a' perameter to array\n",
      "        self.__arr.extend(a.__arr)\n",
      "        \n",
      "    def unique(self):                      #remove duplicate items from the array\n",
      "        a = []\n",
      "        for x in self.__arr:\n",
      "            if x not in a:\n",
      "                a.append(x)\n",
      "        self.__arr = a\n",
      "        \n",
      "    def size(self):                        #return size of array\n",
      "        self.__arr = sorted(self.__arr)    #sort the array\n",
      "        return len(self.__arr)\n",
      "    \n",
      "    def empty(self):                       #check array is empty or not\n",
      "        if len(self.__arr)==0:\n",
      "            return 1\n",
      "        else:\n",
      "            return 0\n",
      "        \n",
      "    def front(self):                       #gives the first element\n",
      "        return self.__arr[0]\n",
      "    \n",
      "    def pop_front(self):                   #delete first element\n",
      "        a = self.__arr[0]\n",
      "        self.__arr.remove(a)\n",
      "        \n",
      "        \n",
      "        \n",
      "        \n",
      "arr1 = [40,30,20,10]\n",
      "arr2 = [15,20,25,30,35]\n",
      "\n",
      "list1 = list()\n",
      "list2 = list()\n",
      "\n",
      "for j in range(4):\n",
      "    list1.push_back(arr1[j])               #list1: 40, 30, 20, 10\n",
      "\n",
      "for j in range(5):\n",
      "    list2.push_back(arr2[j])               #list2: 15, 20, 25, 30, 35\n",
      "    \n",
      "list1.reverse()                            #reverse list1: 10 20 30 40\n",
      "\n",
      "list1.merge(list2)                         #merge list2 into list1\n",
      "\n",
      "list1.unique()                             #remove duplicate 20 and 30\n",
      "\n",
      "size = list1.size()\n",
      "\n",
      "while (list1.empty()==False):\n",
      "    print list1.front(),                   #read item from front\n",
      "    list1.pop_front()                      #poopitem off front"
     ],
     "language": "python",
     "metadata": {},
     "outputs": [
      {
       "output_type": "stream",
       "stream": "stdout",
       "text": [
        "10 15 20 25 30 35 40\n"
       ]
      }
     ],
     "prompt_number": 15
    },
    {
     "cell_type": "heading",
     "level": 2,
     "metadata": {},
     "source": [
      "Example 15.16, Page Number 750"
     ]
    },
    {
     "cell_type": "code",
     "collapsed": false,
     "input": [
      "class deque:                              #*deque class*#\n",
      "    \n",
      "    def __init__(self):                    #constructor\n",
      "        self.__arr = []\n",
      "        \n",
      "    def push_back(self,a):                 #function to add element in array at last\n",
      "        self.__arr.append(a)\n",
      "        \n",
      "    def op1(self,a,b):                     #function to change the item of array\n",
      "        self.__arr[a] = b\n",
      "        \n",
      "    def size(self):                        #reurn size of array\n",
      "        self.__arr = sorted(self.__arr)    #sort the array\n",
      "        return len(self.__arr)\n",
      "    \n",
      "    def op2(self,n):                       #function to return array item\n",
      "        return self.__arr[n]\n",
      "    \n",
      "        \n",
      "    \n",
      "    \n",
      "deq = deque()\n",
      "\n",
      "deq.push_back(30)               #push item on back\n",
      "deq.push_back(40)\n",
      "deq.push_back(50)\n",
      "deq.push_back(20)\n",
      "deq.push_back(10)\n",
      "\n",
      "k = deq.size()\n",
      "\n",
      "deq.op1(2,33)                   #change middle item\n",
      "\n",
      "for j in range(k):\n",
      "    print deq.op2(j),           #display items"
     ],
     "language": "python",
     "metadata": {},
     "outputs": [
      {
       "output_type": "stream",
       "stream": "stdout",
       "text": [
        "10 20 33 40 50\n"
       ]
      }
     ],
     "prompt_number": 16
    },
    {
     "cell_type": "heading",
     "level": 2,
     "metadata": {},
     "source": [
      "Example 15.17, Page Number 759"
     ]
    },
    {
     "cell_type": "code",
     "collapsed": false,
     "input": [
      "class list:                  #*class list*#\n",
      "    \n",
      "    def __init__(self):                    #constructor\n",
      "        self.__arr = []\n",
      "        \n",
      "    def push_back(self,a):                 #function to add element in array at last\n",
      "        self.__arr.append(a)\n",
      "        \n",
      "    def begin(self):                       #return the first index position\n",
      "        return 0\n",
      "    \n",
      "    def end(self):                         #return the last index position\n",
      "        return len(self.__arr)\n",
      "    \n",
      "    def op1(self,n):                       #function to return array item\n",
      "        return self.__arr[n]\n",
      "    \n",
      "    \n",
      "    \n",
      "    \n",
      "arr = [2,4,6,8]\n",
      "\n",
      "theList = list()\n",
      "\n",
      "for k in range(4):\n",
      "    theList.push_back(arr[k])              #fill list with array elements\n",
      "    \n",
      "\n",
      "for iter in range(theList.begin(),theList.end(),1):\n",
      "    print theList.op1(iter),                            #display the list"
     ],
     "language": "python",
     "metadata": {},
     "outputs": [
      {
       "output_type": "stream",
       "stream": "stdout",
       "text": [
        "2 4 6 8\n"
       ]
      }
     ],
     "prompt_number": 17
    },
    {
     "cell_type": "heading",
     "level": 2,
     "metadata": {},
     "source": [
      "Example 15.18, Page Number 760"
     ]
    },
    {
     "cell_type": "code",
     "collapsed": false,
     "input": [
      "class list:             #*class list*#\n",
      "    \n",
      "    def __init__(self,a):                    #constructor\n",
      "        self.__arr = [0 for j in range(a)]\n",
      "   \n",
      "    def op1(self,a,b):                       #change the particular item\n",
      "        self.__arr[a] = b\n",
      "    \n",
      "    def begin(self):                       #return the first index position\n",
      "        return 0\n",
      "    \n",
      "    def end(self):                         #return the last index position\n",
      "        return len(self.__arr)\n",
      "    \n",
      "    def op2(self,n):                     #function to return array element\n",
      "        return self.__arr[n]\n",
      "    \n",
      "    \n",
      "    \n",
      "    \n",
      "data = 0\n",
      "\n",
      "iList = list(5)                          #empty list holds 5 ints\n",
      "\n",
      "                                         #fill list with data\n",
      "for it in range(iList.begin(),iList.end(),1):\n",
      "    data += 2\n",
      "    iList.op1(it,data)                   \n",
      "     \n",
      "                                         #display list\n",
      "for it in range(iList.begin(),iList.end(),1):\n",
      "    print iList.op2(it),"
     ],
     "language": "python",
     "metadata": {},
     "outputs": [
      {
       "output_type": "stream",
       "stream": "stdout",
       "text": [
        "2 4 6 8 10\n"
       ]
      }
     ],
     "prompt_number": 18
    },
    {
     "cell_type": "heading",
     "level": 2,
     "metadata": {},
     "source": [
      "Example 15.19, Page Number 761"
     ]
    },
    {
     "cell_type": "code",
     "collapsed": false,
     "input": [
      "class list:             #*class list*#\n",
      "    \n",
      "    def __init__(self,a):                    #constructor\n",
      "        self.__arr = [0 for j in range(a)]\n",
      "   \n",
      "    def op1(self,a,b):                       #change the particular item\n",
      "        self.__arr[a] = b\n",
      "    \n",
      "    def begin(self):                       #return the first index position\n",
      "        return 0\n",
      "    \n",
      "    def end(self):                         #return the last index position\n",
      "        return len(self.__arr)\n",
      "    \n",
      "    def find(self,a,b,c):                  #return the index of a particular element\n",
      "        for j in range(a,b,1):\n",
      "            if self.__arr[j] == c:\n",
      "                b = j\n",
      "                break\n",
      "        return b\n",
      "    \n",
      "data = 0\n",
      "\n",
      "theList = list(5)                         #empty list holds 5 ints\n",
      "\n",
      "                                          #fill list with data\n",
      "for it in range(theList.begin(),theList.end(),1):\n",
      "    data += 2                             #2, 4, 6, 8, 10\n",
      "    theList.op1(it,data)\n",
      "    \n",
      "                                          #look for number 8\n",
      "iter = theList.find(theList.begin(),theList.end(),8)\n",
      "\n",
      "if iter!=theList.end():\n",
      "    print 'Found 8.'\n",
      "    \n",
      "else:\n",
      "    print 'Dis not find 8.'"
     ],
     "language": "python",
     "metadata": {},
     "outputs": [
      {
       "output_type": "stream",
       "stream": "stdout",
       "text": [
        "Found 8.\n"
       ]
      }
     ],
     "prompt_number": 19
    },
    {
     "cell_type": "heading",
     "level": 2,
     "metadata": {},
     "source": [
      "Example 15.20, Page Number 762"
     ]
    },
    {
     "cell_type": "code",
     "collapsed": false,
     "input": [
      "class vector:               #*class vector*#\n",
      "    \n",
      "    def __init__(self,a):                            #constructor\n",
      "        if isinstance(a,int):\n",
      "            self.__arr = [0.0 for j in range(a)]\n",
      "            \n",
      "        elif isinstance(a,vector):\n",
      "            self.__arr = a.__arr\n",
      "        \n",
      "        else:\n",
      "            self.__arr = a\n",
      "            \n",
      "    def begin(self):                       #return the first index position\n",
      "        return 0\n",
      "    \n",
      "    def copy(self,a,b,v):                  #copy the elements of array in another vector\n",
      "        for j in range(a,b,1):\n",
      "            v.__arr[j-a] = self.__arr[j]\n",
      "        return b-a\n",
      "    \n",
      "    def op1(self,n):                     #function to return array element\n",
      "        return self.__arr[n]\n",
      "            \n",
      "        \n",
      "        \n",
      "        \n",
      "arr = [11,13,15,17,19,21,23,25,27,29]\n",
      "\n",
      "v1 = vector(arr)           #initialized vector\n",
      "v2 = vector(10)            #uninitialized vector\n",
      "\n",
      "print 'Enter range to be copied (Example: 2 5): '\n",
      "beginRange = input(\"\")\n",
      "endRange = input(\"\")\n",
      "\n",
      "iter1 = v1.begin() + beginRange\n",
      "iter2 = v1.begin() + endRange\n",
      "\n",
      "iter3 = v1.copy(iter1,iter2,v2)           #copy range from v1 to v2\n",
      "\n",
      "iter1 = v2.begin()\n",
      "\n",
      "print 'values:',\n",
      "while (iter1 != iter3):            #iteration through range in v2\n",
      "    print v2.op1(iter1),           #displaying values\n",
      "    iter1 += 1"
     ],
     "language": "python",
     "metadata": {},
     "outputs": [
      {
       "output_type": "stream",
       "stream": "stdout",
       "text": [
        "Enter range to be copied (Example: 2 5): \n"
       ]
      },
      {
       "name": "stdout",
       "output_type": "stream",
       "stream": "stdout",
       "text": [
        "3\n"
       ]
      },
      {
       "name": "stdout",
       "output_type": "stream",
       "stream": "stdout",
       "text": [
        "6\n"
       ]
      },
      {
       "output_type": "stream",
       "stream": "stdout",
       "text": [
        "values: 17 19 21\n"
       ]
      }
     ],
     "prompt_number": 20
    },
    {
     "cell_type": "heading",
     "level": 2,
     "metadata": {},
     "source": [
      "Example 15.21, Page Number 763"
     ]
    },
    {
     "cell_type": "code",
     "collapsed": false,
     "input": [
      "class list:                  #*class list*#\n",
      "    \n",
      "    def __init__(self):                    #constructor\n",
      "        self.__arr = []\n",
      "        \n",
      "    def push_back(self,a):                 #function to add element in array at last\n",
      "        self.__arr.append(a)\n",
      "        \n",
      "    def rend(self):                        #return the first index\n",
      "        return -1\n",
      "    \n",
      "    def rbegin(self):                      #returns the last index\n",
      "        return len(self.__arr)-1\n",
      "    \n",
      "    def op1(self,n):                     #function to return array element\n",
      "        return self.__arr[n]\n",
      "    \n",
      "    \n",
      "    \n",
      "    \n",
      "arr = [2,4,6,8,10]               #array of ints\n",
      "\n",
      "theList = list()\n",
      "\n",
      "for j in range(5):               #transfer array to list\n",
      "    theList.push_back(arr[j])\n",
      "    \n",
      "revit = theList.rbegin()         #reverse iterator\n",
      "\n",
      "while (revit != theList.rend()):      #iterate backward through list,\n",
      "    print theList.op1(revit),           #displaying output\n",
      "    revit -= 1"
     ],
     "language": "python",
     "metadata": {},
     "outputs": [
      {
       "output_type": "stream",
       "stream": "stdout",
       "text": [
        "10 8 6 4 2\n"
       ]
      }
     ],
     "prompt_number": 21
    },
    {
     "cell_type": "heading",
     "level": 2,
     "metadata": {},
     "source": [
      "Example 15.22, Page Number 764"
     ]
    },
    {
     "cell_type": "code",
     "collapsed": false,
     "input": [
      "class deque:                                #*class deque*#\n",
      "    \n",
      "    def __init__(self):                    #constructor\n",
      "        self.__arr = []\n",
      "        \n",
      "    def push_back(self,a):                 #function to add element in array at last\n",
      "        self.__arr.append(a)\n",
      "        \n",
      "    def begin(self):                       #return the first index position\n",
      "        return 0\n",
      "    \n",
      "    def copy(self,a,b,v):                  #copy the elements of array in another vector\n",
      "        for j in range(a,b,1):\n",
      "            v.__arr[j] = self.__arr[j]\n",
      "    \n",
      "    def end(self):                         #returns the length of the array\n",
      "        return len(self.__arr)\n",
      "        \n",
      "    def size(self):                        #reurn size of array\n",
      "        self.__arr = sorted(self.__arr)    #sort the array\n",
      "        return len(self.__arr)\n",
      "    \n",
      "    def op1(self,n):                     #function to return array element\n",
      "        return self.__arr[n]\n",
      "    \n",
      "    \n",
      "    \n",
      "    \n",
      "arr1 = [1,3,5,7,9]\n",
      "arr2 = [2,4,6,8,10]\n",
      "    \n",
      "d1 = deque()\n",
      "d2 = deque()\n",
      "\n",
      "for j in range(5):                       #transfer arrays to deque\n",
      "    d1.push_back(arr1[j])\n",
      "    d2.push_back(arr2[j])\n",
      "\n",
      "d1.copy(d1.begin(),d1.end(),d2)          #copy d1 to d2\n",
      "\n",
      "for k in range(d2.size()):               #display d2\n",
      "    print d2.op1(k),"
     ],
     "language": "python",
     "metadata": {},
     "outputs": [
      {
       "output_type": "stream",
       "stream": "stdout",
       "text": [
        "1 3 5 7 9\n"
       ]
      }
     ],
     "prompt_number": 22
    },
    {
     "cell_type": "heading",
     "level": 2,
     "metadata": {},
     "source": [
      "Example 15.23, Page Number 765"
     ]
    },
    {
     "cell_type": "code",
     "collapsed": false,
     "input": [
      "class deque:                                #*class deque*#\n",
      "    \n",
      "    def __init__(self):                    #constructor\n",
      "        self.__arr = []\n",
      "        \n",
      "    def push_back(self,a):                 #function to add element in array at last\n",
      "        self.__arr.append(a)\n",
      "        \n",
      "    def begin(self):                       #return the first index position\n",
      "        return 0\n",
      "    \n",
      "    def copy(self,a,b,v):                  #add one deque to another\n",
      "        for j in range(a,b,1):\n",
      "            v.__arr.append(self.__arr[j])\n",
      "    \n",
      "    def end(self):                         #returns the length of the array\n",
      "        return len(self.__arr)\n",
      "        \n",
      "    def size(self):                        #reurn size of array\n",
      "        return len(self.__arr)\n",
      "    \n",
      "    def op1(self,n):                     #function to return array element\n",
      "        return self.__arr[n]\n",
      "    \n",
      "    \n",
      "    \n",
      "    \n",
      "arr1 = [1,3,5,7,9]\n",
      "arr2 = [2,4,6]\n",
      "    \n",
      "d1 = deque()\n",
      "d2 = deque()\n",
      "\n",
      "                                #transfer array to deques\n",
      "for i in range(5):\n",
      "    d1.push_back(arr1[i])\n",
      "for j in range(3):\n",
      "    d2.push_back(arr2[j])\n",
      "    \n",
      "print 'd2:',\n",
      "                                #copy d1 to back of d2\n",
      "d1.copy(d1.begin(),d1.end(),d2)\n",
      "\n",
      "for k in range(d2.size()):      #display d2\n",
      "    print d2.op1(k),"
     ],
     "language": "python",
     "metadata": {},
     "outputs": [
      {
       "output_type": "stream",
       "stream": "stdout",
       "text": [
        "d2: 2 4 6 1 3 5 7 9\n"
       ]
      }
     ],
     "prompt_number": 23
    },
    {
     "cell_type": "heading",
     "level": 2,
     "metadata": {},
     "source": [
      "Example 15.24, Page Number 767"
     ]
    },
    {
     "cell_type": "code",
     "collapsed": false,
     "input": [
      "class list:                  #*class list*#\n",
      "    \n",
      "    def __init__(self):                    #constructor\n",
      "        self.__arr = []\n",
      "        \n",
      "    def push_back(self,a):                 #function to add element in array at last\n",
      "        self.__arr.append(a)\n",
      "        \n",
      "    def begin(self):                       #return the first index position\n",
      "        return 0\n",
      "    \n",
      "    def end(self):                         #return the last index position\n",
      "        return len(self.__arr)\n",
      "    \n",
      "    def copy(self,a,b,c):\n",
      "        for j in range(a,b,1):\n",
      "            print self.__arr[j],c,\n",
      "            \n",
      "            \n",
      "            \n",
      "            \n",
      "arr = [10,20,30,40,50]\n",
      "\n",
      "theList = list()\n",
      "\n",
      "for j in range(5):                    #transfer array to list\n",
      "    theList.push_back(arr[j])\n",
      "    \n",
      "c = \",\"\n",
      "\n",
      "print 'Contents of list: ',\n",
      "\n",
      "theList.copy(theList.begin(),theList.end(),c)      #display list"
     ],
     "language": "python",
     "metadata": {},
     "outputs": [
      {
       "output_type": "stream",
       "stream": "stdout",
       "text": [
        "Contents of list:  10 , 20 , 30 , 40 , 50 ,\n"
       ]
      }
     ],
     "prompt_number": 24
    },
    {
     "cell_type": "heading",
     "level": 2,
     "metadata": {},
     "source": [
      "Example 15.25, Page Number 768"
     ]
    },
    {
     "cell_type": "code",
     "collapsed": false,
     "input": [
      "class list:                  #*class list*#\n",
      "    \n",
      "    def __init__(self):                    #constructor\n",
      "        self.__arr = []\n",
      "        \n",
      "    def push_back(self,a):                 #function to add element in array at last\n",
      "        self.__arr.append(a)\n",
      "        \n",
      "    def begin(self):                       #return the first index position\n",
      "        return 0\n",
      "    \n",
      "    def end(self):                         #return the last index position\n",
      "        return len(self.__arr)\n",
      "     \n",
      "    def copy(self,a,b,c):                  #write the array in the file\n",
      "        for j in range(a,b,1):\n",
      "            s = ''\n",
      "            s += '%d' %self.__arr[j]\n",
      "            c.write(s)\n",
      "            \n",
      "            \n",
      "            \n",
      "arr = [11,21,31,41,51]\n",
      "\n",
      "theList = list()               #uninitialized list\n",
      "\n",
      "for j in range(5):\n",
      "    theList.push_back(arr[j])        #transfer array to list\n",
      "    \n",
      "outfile = open(\"ITER.TXT\",\"w\")          #open the file \n",
      "\n",
      "theList.copy(theList.begin(),theList.end(),outfile)        #write list to file\n",
      "\n",
      "outfile.close()"
     ],
     "language": "python",
     "metadata": {},
     "outputs": [],
     "prompt_number": 25
    },
    {
     "cell_type": "heading",
     "level": 2,
     "metadata": {},
     "source": [
      "Example 15.26, Page Number 769"
     ]
    },
    {
     "cell_type": "code",
     "collapsed": false,
     "input": [
      "class list:                                     #*class list*#\n",
      "     \n",
      "    def __init__(self,a):                       #constructor\n",
      "        self.__arr = [0.0 for j in range(a)]\n",
      "      \n",
      "    def begin(self):                           #return the first index position\n",
      "        return 0\n",
      "    \n",
      "    def end(self):                             #return the last index position\n",
      "        return len(self.__arr)\n",
      "    \n",
      "    def copy(self,a,b,c):\n",
      "        if isinstance(c,int):\n",
      "            self.__arr = a\n",
      "        \n",
      "        else:\n",
      "            for j in range(a,b,1):\n",
      "                print self.__arr[j],c,\n",
      "            \n",
      "            \n",
      "            \n",
      "            \n",
      "arr = []*5\n",
      "print \"Enter 5 floating numbers: \"\n",
      "for j in range(5):\n",
      "    x = input()\n",
      "    arr.append(x)\n",
      "\n",
      "fList = list(5)                        #uninitialized list\n",
      "\n",
      "fList.copy(arr,'end_of_stream',fList.begin())\n",
      "    \n",
      "c = \"--\"\n",
      "\n",
      "fList.copy(fList.begin(),fList.end(),c)"
     ],
     "language": "python",
     "metadata": {},
     "outputs": [
      {
       "output_type": "stream",
       "stream": "stdout",
       "text": [
        "Enter 5 floating numbers: \n"
       ]
      },
      {
       "name": "stdout",
       "output_type": "stream",
       "stream": "stdout",
       "text": [
        "1.1\n"
       ]
      },
      {
       "name": "stdout",
       "output_type": "stream",
       "stream": "stdout",
       "text": [
        "2.2\n"
       ]
      },
      {
       "name": "stdout",
       "output_type": "stream",
       "stream": "stdout",
       "text": [
        "3.3\n"
       ]
      },
      {
       "name": "stdout",
       "output_type": "stream",
       "stream": "stdout",
       "text": [
        "4.4\n"
       ]
      },
      {
       "name": "stdout",
       "output_type": "stream",
       "stream": "stdout",
       "text": [
        "5.5\n"
       ]
      },
      {
       "output_type": "stream",
       "stream": "stdout",
       "text": [
        "1.1 -- 2.2 -- 3.3 -- 4.4 -- 5.5 --\n"
       ]
      }
     ],
     "prompt_number": 26
    },
    {
     "cell_type": "heading",
     "level": 2,
     "metadata": {},
     "source": [
      "Example 15.27, Page Number 770"
     ]
    },
    {
     "cell_type": "code",
     "collapsed": false,
     "input": [
      "class list:                  #*class list*#\n",
      "    \n",
      "    def __init__(self):                    #constructor\n",
      "        self.__arr = []\n",
      "        \n",
      "    def begin(self):                       #return the first index position\n",
      "        return 0\n",
      "    \n",
      "    def end(self):                         #return the last index position\n",
      "        return len(self.__arr)\n",
      "    \n",
      "    def copy(self,a,b,c):\n",
      "        if isinstance(c,int):\n",
      "            self.__arr = a\n",
      "        \n",
      "        else:\n",
      "            for j in range(a,b,1):\n",
      "                print self.__arr[j],c,\n",
      "\n",
      "                \n",
      "                \n",
      "                \n",
      "arr = []*5\n",
      "\n",
      "iList = list()                      #empty list\n",
      "\n",
      "infile = open(\"ITER.TXT\",\"r\")       #open a file in read mode\n",
      "\n",
      "for j in range(5):\n",
      "    arr.append(infile.read(2))      #add data from file to array \n",
      "    \n",
      "iList.copy(arr,'end_of_stream',iList.begin())       #copy array to list\n",
      "\n",
      "c = \"--\"\n",
      "\n",
      "iList.copy(iList.begin(),iList.end(),c)            #display list"
     ],
     "language": "python",
     "metadata": {},
     "outputs": [
      {
       "output_type": "stream",
       "stream": "stdout",
       "text": [
        "11 -- 21 -- 31 -- 41 -- 51 --\n"
       ]
      }
     ],
     "prompt_number": 27
    },
    {
     "cell_type": "heading",
     "level": 2,
     "metadata": {},
     "source": [
      "Example 15.28, Page Number 772"
     ]
    },
    {
     "cell_type": "code",
     "collapsed": false,
     "input": [
      "class set:                                  #*class set*#\n",
      "    \n",
      "    def __init__(self,a):                   #constructor\n",
      "        self.__arr = a\n",
      "        \n",
      "    def insert(self,s):                     #insert the elements but without repeating\n",
      "        d=1\n",
      "        for j in range(len(self.__arr)):\n",
      "            if s==self.__arr[j]:\n",
      "                d=0\n",
      "                break;\n",
      "        if d==1:\n",
      "            self.__arr.append(s)\n",
      "            \n",
      "    def erase(self,s):                      #erase a particualr item from the set\n",
      "        self.__arr.remove(s)\n",
      "            \n",
      "    def begin(self):                       #return the first index position\n",
      "        return 0\n",
      "    \n",
      "    def end(self):                         #return the last index position\n",
      "        return len(self.__arr)\n",
      "    \n",
      "    def size(self):                        #reurn size of array\n",
      "        self.__arr = sorted(self.__arr)    #sort the array\n",
      "        return len(self.__arr)\n",
      "    \n",
      "    def find(self,sn):                     #find the index of a particular element\n",
      "        d=-1\n",
      "        for j in range(len(self.__arr)):\n",
      "            if sn==self.__arr[j]:\n",
      "                d=j\n",
      "                break;\n",
      "        if d==-1:\n",
      "            return len(self.__arr)\n",
      "        else:\n",
      "            return d\n",
      "        \n",
      "    def op1(self,n):                     #function to return array element\n",
      "        return self.__arr[n]\n",
      "        \n",
      "        \n",
      "        \n",
      "        \n",
      "names = [\"Juanita\",\"Robert\",\"Mary\",\"Amanda\",\"Marie\"]       #array of string objects\n",
      "\n",
      "nameSet = set(names)                   #initialize set to array\n",
      "\n",
      "nameSet.insert(\"Yvette\")               #insert more names\n",
      "nameSet.insert(\"Larry\")\n",
      "nameSet.insert(\"Robert\")               #no effect; already in set\n",
      "nameSet.insert(\"Barry\")\n",
      "\n",
      "nameSet.erase(\"Mary\")                  #erase a name\n",
      "\n",
      "print 'Size',nameSet.size()            #display size of set\n",
      "\n",
      "iter = nameSet.begin()\n",
      "\n",
      "while(iter != nameSet.end()-1):        #display members of set\n",
      "    print nameSet.op1(iter)\n",
      "    iter += 1\n",
      "    \n",
      "searchName = raw_input(\"Enter name to search for: \")        #get name from user\n",
      "\n",
      "iter = nameSet.find(searchName)        #find matching name in set\n",
      "\n",
      "if(iter == nameSet.end()):\n",
      "    print 'The name',searchName,'is NOT in the set.'\n",
      "    \n",
      "else:\n",
      "    print 'The name',searchName,'IS in the set.'"
     ],
     "language": "python",
     "metadata": {},
     "outputs": [
      {
       "output_type": "stream",
       "stream": "stdout",
       "text": [
        "Size 7\n",
        "Amanda\n",
        "Barry\n",
        "Juanita\n",
        "Larry\n",
        "Marie\n",
        "Robert\n"
       ]
      },
      {
       "name": "stdout",
       "output_type": "stream",
       "stream": "stdout",
       "text": [
        "Enter name to search for: George\n"
       ]
      },
      {
       "output_type": "stream",
       "stream": "stdout",
       "text": [
        "The name George is NOT in the set.\n"
       ]
      }
     ],
     "prompt_number": 28
    },
    {
     "cell_type": "heading",
     "level": 2,
     "metadata": {},
     "source": [
      "Example 15.29, Page Number 774"
     ]
    },
    {
     "cell_type": "code",
     "collapsed": false,
     "input": [
      "class set:                                        #*class set*#\n",
      "    \n",
      "    def __init__(self):                         #constructor\n",
      "        self.__arr = []\n",
      "        \n",
      "    def insert(self,s):                         #insert the element in the array\n",
      "        self.__arr.append(s)\n",
      "    \n",
      "    def unique(self):                           #remove the duplicate items from the array\n",
      "        self.__arr = sorted(self.__arr)\n",
      "        a = []\n",
      "        for x in self.__arr:\n",
      "            if x not in a:\n",
      "                a.append(x)\n",
      "        self.__arr = a\n",
      "        \n",
      "    def begin(self):                       #return the first index position\n",
      "        return 0\n",
      "    \n",
      "    def end(self):                         #return the last index position\n",
      "        return len(self.__arr)\n",
      "    \n",
      "    def op1(self,n):                     #function to return array element\n",
      "        return self.__arr[n]\n",
      "    \n",
      "    \n",
      "organic = set()                        #set of string objects\n",
      "\n",
      "                                       #insert organic compounds\n",
      "organic.insert(\"Curine\")\n",
      "organic.insert(\"Xanthine\")\n",
      "organic.insert(\"Curarine\")\n",
      "organic.insert(\"Melamine\")\n",
      "organic.insert(\"Cyanimide\")\n",
      "organic.insert(\"Phenol\")\n",
      "organic.insert(\"Aphrodine\")\n",
      "organic.insert(\"Imidazole\")\n",
      "organic.insert(\"Cinchonine\")\n",
      "organic.insert(\"Palmitamide\")\n",
      "organic.insert(\"Cyanimide\")\n",
      "\n",
      "organic.unique()\n",
      "\n",
      "iter = organic.begin()\n",
      "\n",
      "while (iter!=organic.end()):           #display set\n",
      "    print organic.op1(iter)\n",
      "    iter += 1"
     ],
     "language": "python",
     "metadata": {},
     "outputs": [
      {
       "output_type": "stream",
       "stream": "stdout",
       "text": [
        "Aphrodine\n",
        "Cinchonine\n",
        "Curarine\n",
        "Curine\n",
        "Cyanimide\n",
        "Imidazole\n",
        "Melamine\n",
        "Palmitamide\n",
        "Phenol\n",
        "Xanthine\n"
       ]
      }
     ],
     "prompt_number": 29
    },
    {
     "cell_type": "heading",
     "level": 2,
     "metadata": {},
     "source": [
      "Example 15.30, Page Number 776"
     ]
    },
    {
     "cell_type": "code",
     "collapsed": false,
     "input": [
      "class map:                                 #*class map*#\n",
      "    \n",
      "    def __init__(self):                    #constructor\n",
      "        self.__arr1 = []                   #array for key\n",
      "        self.__arr2 = []                   #array for value\n",
      "        \n",
      "    def op1(self,a,b):                     #add data in the arrays\n",
      "        self.__arr1.append(a)\n",
      "        self.__arr2.append(b)\n",
      "        \n",
      "    def op2(self,a):                       #return the value according to the key\n",
      "        for j in range(len(self.__arr1)):\n",
      "            if a==self.__arr1[j]:\n",
      "                return self.__arr2[j]\n",
      "            \n",
      "    def sort(self):\n",
      "        \n",
      "        n = len(self.__arr1)\n",
      "        \n",
      "        for j in range(n-1):                      #outer loop\n",
      "            for k in range(j+1,n,1):              #inner loop starts at outer\n",
      "                \n",
      "                if self.__arr1[j] > self.__arr1[k]:           #if 1st larger than 2nd\n",
      "                    \n",
      "                    temp = self.__arr1[j]            #swap first array\n",
      "                    self.__arr1[j] = self.__arr1[k]\n",
      "                    self.__arr1[k] = temp\n",
      "                    \n",
      "                    temp = self.__arr2[j]            #swap second array\n",
      "                    self.__arr2[j] = self.__arr2[k]\n",
      "                    self.__arr2[k] = temp\n",
      "                    \n",
      "            \n",
      "    def begin(self):                       #return the first index position\n",
      "        return 0\n",
      "    \n",
      "    def end(self):                         #return the last index position\n",
      "        return len(self.__arr1)\n",
      "    \n",
      "    def first(self,a):                     #returns the key\n",
      "        return self.__arr1[a]\n",
      "    \n",
      "    def second(self,a):                    #returns the value\n",
      "        return self.__arr2[a]\n",
      "            \n",
      "        \n",
      "        \n",
      "        \n",
      "states = [\"Wyoming\",\"Colorado\",\"Nevada\",\"Montana\",\"Arizona\",\"Idaho\"]\n",
      "pops = [470,2890,800,787,2718,944]\n",
      "\n",
      "mapStates = map()                   #map\n",
      "\n",
      "for j in range(6):\n",
      "    name = states[j]                #get data from array\n",
      "    pop = pops[j]\n",
      "    mapStates.op1(name,pop)         #put it in map\n",
      "    \n",
      "name = raw_input(\"Enter state: \")   #get state from user\n",
      "pop = mapStates.op2(name)\n",
      "print 'Population: %d,000' %pop     #find population\n",
      "print \n",
      "\n",
      "mapStates.sort()\n",
      "\n",
      "                                    #display entire map\n",
      "for iter in range(mapStates.begin(),mapStates.end(),1):\n",
      "    print mapStates.first(iter),'%d,000' %mapStates.second(iter) "
     ],
     "language": "python",
     "metadata": {},
     "outputs": [
      {
       "name": "stdout",
       "output_type": "stream",
       "stream": "stdout",
       "text": [
        "Enter state: Wyoming\n"
       ]
      },
      {
       "output_type": "stream",
       "stream": "stdout",
       "text": [
        "Population: 470,000\n",
        "\n",
        "Arizona 2718,000\n",
        "Colorado 2890,000\n",
        "Idaho 944,000\n",
        "Montana 787,000\n",
        "Nevada 800,000\n",
        "Wyoming 470,000\n"
       ]
      }
     ],
     "prompt_number": 30
    },
    {
     "cell_type": "heading",
     "level": 2,
     "metadata": {},
     "source": [
      "Example 15.31, Page Number 778"
     ]
    },
    {
     "cell_type": "code",
     "collapsed": false,
     "input": [
      "class person:            #class person\n",
      "    \n",
      "    def __init__(self,lana = \"blank\",fina = \"blank\",pho = 0):          #construvtor\n",
      "        self.__lastName = lana\n",
      "        self.__firstName = fina\n",
      "        self.__phoneNumber = pho\n",
      "        \n",
      "    def display(self):                                                 #display person's data\n",
      "        print self.__lastName,'\\t',self.__firstName,'\\t\\tPhone:',self.__phoneNumber\n",
      "        \n",
      "        \n",
      "def lesst(p1,p2):                    #less than function (friend function)\n",
      "    \n",
      "    if p1._person__lastName == p2._person__lastName:\n",
      "        if p1._person__firstName < p2._person__firstName:\n",
      "            return True\n",
      "        else:\n",
      "            return False\n",
      "        \n",
      "    elif p1._person__lastName < p2._person__lastName:\n",
      "        return True\n",
      "    else:\n",
      "        return False\n",
      "    \n",
      "    \n",
      "def equ(p1,p2):                      #equal function (friend function)\n",
      "    \n",
      "    if (p1._person__lastName == p2._person__lastName) and (p1._person__firstName == p2._person__firstName):\n",
      "        return True\n",
      "    else:\n",
      "        return False\n",
      "    \n",
      "    \n",
      "    \n",
      "    \n",
      "class multiset:                                   #*class multiet*#\n",
      "    \n",
      "    def __init__(self):                          #constructor\n",
      "        self.__arr = []\n",
      "        \n",
      "    def insert(self,a):                          #insert the element in the multiset\n",
      "        self.__arr.append(a)\n",
      "        \n",
      "    def size(self):                              #return the size of multiset\n",
      "        return len(self.__arr)\n",
      "    \n",
      "    def display(self,it):                        #display the items from multiset\n",
      "        if isinstance(it,int):\n",
      "            self.__arr[it].display()\n",
      "            \n",
      "        else:\n",
      "            for j in range(len(self.__arr)):\n",
      "                if equ(it,self.__arr[j]):\n",
      "                    self.__arr[j].display()\n",
      "        \n",
      "    def begin(self):                       #return the first index position\n",
      "        return 0\n",
      "    \n",
      "    def end(self):                         #return the last index position\n",
      "        return len(self.__arr)\n",
      "    \n",
      "    def count(self,sp):                    #return count of a element\n",
      "        a=0\n",
      "        for j in range(len(self.__arr)):\n",
      "            if equ(sp,self.__arr[j]):\n",
      "                a += 1\n",
      "        return a\n",
      "    \n",
      "    \n",
      "    def sort(self):\n",
      "        \n",
      "        n = len(self.__arr)\n",
      "        \n",
      "        for j in range(n-1):                      #outer loop\n",
      "            for k in range(j+1,n,1):              #inner loop starts at outer\n",
      "                \n",
      "                if not lesst(self.__arr[j],self.__arr[k]):           #if 1st larger than 2nd\n",
      "                    \n",
      "                    temp = self.__arr[j]._person__lastName            #swap last name\n",
      "                    self.__arr[j]._person__lastName = self.__arr[k]._person__lastName\n",
      "                    self.__arr[k]._person__lastName = temp\n",
      "                    \n",
      "                    temp = self.__arr[j]._person__firstName            #swap firs tname\n",
      "                    self.__arr[j]._person__firstName = self.__arr[k]._person__firstName\n",
      "                    self.__arr[k]._person__firstName = temp\n",
      "                    \n",
      "                    temp = self.__arr[j]._person__phoneNumber            #swap phone number\n",
      "                    self.__arr[j]._person__phoneNumber = self.__arr[k]._person__phoneNumber\n",
      "                    self.__arr[k]._person__phoneNumber = temp\n",
      "    \n",
      "    \n",
      "    \n",
      "    \n",
      "    \n",
      "                                                #create person objects\n",
      "pers1 = person(\"Deauville\",\"Wiliam\",8435150)\n",
      "pers2 = person(\"McDonald\",\"Stacey\",3327563)\n",
      "pers3 = person(\"Bartoski\",\"peter\",6946473)\n",
      "pers4 = person(\"Kuangthu\",\"Bruce\",4157300)\n",
      "pers5 = person(\"Wellington\",\"John\",9207404)\n",
      "pers6 = person(\"McDonald\",\"Amanda\",8435150)\n",
      "pers7 = person(\"Fredericks\",\"Roger\",7049982)\n",
      "pers8 = person(\"McDonald\",\"Stacey\",7764987)\n",
      "\n",
      "persSet = multiset()                           #multiset of persons\n",
      "\n",
      "                                               #put persons in multiset\n",
      "persSet.insert(pers1)\n",
      "persSet.insert(pers2)\n",
      "persSet.insert(pers3)\n",
      "persSet.insert(pers4)\n",
      "persSet.insert(pers5)\n",
      "persSet.insert(pers6)\n",
      "persSet.insert(pers7)\n",
      "persSet.insert(pers8)\n",
      "\n",
      "print 'Number of entries =',persSet.size()\n",
      "\n",
      "persSet.sort()\n",
      "\n",
      "iter = persSet.begin()\n",
      "\n",
      "print\n",
      "while(iter != persSet.end()):                 #display contents of multiset\n",
      "    persSet.display(iter)\n",
      "    iter += 1\n",
      "    \n",
      "                                              #get last and first name\n",
      "searchLastName = raw_input(\"\\nEnter last name of person to search for: \")\n",
      "searchFirstName = raw_input(\"Enter first name: \")\n",
      "\n",
      "searchPerson = person(searchLastName,searchFirstName,0)\n",
      "\n",
      "                                              #get count of such persons\n",
      "cntPersons = persSet.count(searchPerson)       \n",
      "print 'Number of persons with this name =',cntPersons\n",
      "\n",
      "\n",
      "persSet.display(searchPerson)                 #display all matches"
     ],
     "language": "python",
     "metadata": {},
     "outputs": [
      {
       "output_type": "stream",
       "stream": "stdout",
       "text": [
        "Number of entries = 8\n",
        "\n",
        "Bartoski \tpeter \t\tPhone: 6946473\n",
        "Deauville \tWiliam \t\tPhone: 8435150\n",
        "Fredericks \tRoger \t\tPhone: 7049982\n",
        "Kuangthu \tBruce \t\tPhone: 4157300\n",
        "McDonald \tAmanda \t\tPhone: 8435150\n",
        "McDonald \tStacey \t\tPhone: 7764987\n",
        "McDonald \tStacey \t\tPhone: 3327563\n",
        "Wellington \tJohn \t\tPhone: 9207404\n"
       ]
      },
      {
       "name": "stdout",
       "output_type": "stream",
       "stream": "stdout",
       "text": [
        "\n",
        "Enter last name of person to search for: McDonald\n"
       ]
      },
      {
       "name": "stdout",
       "output_type": "stream",
       "stream": "stdout",
       "text": [
        "Enter first name: Stacey\n"
       ]
      },
      {
       "output_type": "stream",
       "stream": "stdout",
       "text": [
        "Number of persons with this name = 2\n",
        "McDonald \tStacey \t\tPhone: 7764987\n",
        "McDonald \tStacey \t\tPhone: 3327563\n"
       ]
      }
     ],
     "prompt_number": 31
    },
    {
     "cell_type": "heading",
     "level": 2,
     "metadata": {},
     "source": [
      "Example 15.32, Page Number 782"
     ]
    },
    {
     "cell_type": "code",
     "collapsed": false,
     "input": [
      "class person:                            #person class\n",
      "    \n",
      "    def __init__(self,lana = \"blank\",fina = \"blank\",pho = 0):           #constructor\n",
      "        self.__lastName = lana\n",
      "        self.__firstName = fina\n",
      "        self.__phoneNumber = pho\n",
      "        \n",
      "    def display(self):                   #display person's data\n",
      "        print self.__lastName,'\\t',self.__firstName,'\\t\\tPhone:',self.__phoneNumber\n",
      "        \n",
      "    def get_phone(self):                 #return phone number\n",
      "        return self.__phoneNumber\n",
      "        \n",
      "        \n",
      "def lesst(p1,p2):                    #less than function (friend function)\n",
      "    \n",
      "    if p1._person__lastName == p2._person__lastName:\n",
      "        if p1._person__firstName < p2._person__firstName:\n",
      "            return True\n",
      "        else:\n",
      "            return False\n",
      "        \n",
      "    elif p1._person__lastName == p2._person__lastName:\n",
      "        return True\n",
      "    else:\n",
      "        return False\n",
      "    \n",
      "    \n",
      "def equ(p1,p2):                      #equal function (friend function)\n",
      "    \n",
      "    if (p1._person__lastName == p2._person__lastName) and (p1._person__firstName == p2._person__firstName):\n",
      "        return True\n",
      "    else:\n",
      "        return False\n",
      "    \n",
      "def notequ(p1,p2):                    #not equal function (friend function)\n",
      "    return not(equ(p1,p2))\n",
      "\n",
      "def greatert(p1,p2):                  #greater than function (friend function)\n",
      "    return not(lesst(p1,p2)) and not(equ(p1,p2))\n",
      "\n",
      "\n",
      "\n",
      "\n",
      "\n",
      "class list:                                 #*class list*#\n",
      "    \n",
      "    def __init__(self):                    #constructor\n",
      "        self.__arr = []\n",
      "        \n",
      "    def push_back(self,pe):                 #function to add element in array at last\n",
      "        self.__arr.append(pe)\n",
      "        \n",
      "    def size(self):                         #return the size of list\n",
      "        return len(self.__arr)\n",
      "    \n",
      "    def display(self,it):                   #display the element of list\n",
      "        if isinstance(it,int):\n",
      "            self.__arr[it].display()\n",
      "            \n",
      "        else:\n",
      "            for j in range(len(self.__arr)):\n",
      "                if equ(it,self.__arr[j]):\n",
      "                    self.__arr[j].display()\n",
      "        \n",
      "    def begin(self):                       #return the first index position\n",
      "        return 0\n",
      "    \n",
      "    def end(self):                         #return the last index position\n",
      "        return len(self.__arr)\n",
      "    \n",
      "    def find(self,sp):                     #find the index of a particular item\n",
      "        for j in range(len(self.__arr)):\n",
      "            if equ(sp,self.__arr[j]):\n",
      "                return j\n",
      "    \n",
      "    def display1(self,sn):                 #display the elements according to the phone number\n",
      "        for j in range(len(self.__arr)):\n",
      "            if sn==self.__arr[j].get_phone():\n",
      "                self.__arr[j].display()\n",
      "\n",
      "                \n",
      "                \n",
      "                \n",
      "                \n",
      "persList = list()                    #list of persons\n",
      "\n",
      "                                     #put persons in list\n",
      "persList.push_back(person(\"Deauville\",\"Wiliam\",8435150))\n",
      "persList.push_back(person(\"McDonald\",\"Stacey\",3327563))\n",
      "persList.push_back(person(\"Bartoski\",\"peter\",6946473))\n",
      "persList.push_back(person(\"Kuangthu\",\"Bruce\",4157300))\n",
      "persList.push_back(person(\"Wellington\",\"John\",9207404))\n",
      "persList.push_back(person(\"McDonald\",\"Amanda\",8435150))\n",
      "persList.push_back(person(\"Fredericks\",\"Roger\",7049982))\n",
      "persList.push_back(person(\"McDonald\",\"Stacey\",7764987))\n",
      "\n",
      "print 'Number of entries =',persList.size()\n",
      "\n",
      "iter = persList.begin()\n",
      "\n",
      "print\n",
      "while(iter != persList.end()):       #display contents of list\n",
      "    persList.display(iter)\n",
      "    iter += 1\n",
      "    \n",
      "    \n",
      "#find person with specified name (last and first)\n",
      "searchLastName = raw_input(\"\\nEnter last name of person to search for: \")\n",
      "searchFirstName = raw_input(\"Enter first name: \")\n",
      "\n",
      "searchPerson = person(searchLastName,searchFirstName,0)        #make a person with that name\n",
      "\n",
      "                                                    #search for first match of name\n",
      "iter1 = persList.find(searchPerson)\n",
      "print 'Person(s) with the same name is(are)'\n",
      "\n",
      "persList.display(searchPerson)\n",
      "\n",
      "\n",
      "#find person with specified phone number\n",
      "sNumber = input(\"\\nEnter phone nnumber (format 1234567): \")\n",
      "print 'Person(s) with the same name is(are)'\n",
      "\n",
      "persList.display1(sNumber)            #display the match "
     ],
     "language": "python",
     "metadata": {},
     "outputs": [
      {
       "output_type": "stream",
       "stream": "stdout",
       "text": [
        "Number of entries = 8\n",
        "\n",
        "Deauville \tWiliam \t\tPhone: 8435150\n",
        "McDonald \tStacey \t\tPhone: 3327563\n",
        "Bartoski \tpeter \t\tPhone: 6946473\n",
        "Kuangthu \tBruce \t\tPhone: 4157300\n",
        "Wellington \tJohn \t\tPhone: 9207404\n",
        "McDonald \tAmanda \t\tPhone: 8435150\n",
        "Fredericks \tRoger \t\tPhone: 7049982\n",
        "McDonald \tStacey \t\tPhone: 7764987\n"
       ]
      },
      {
       "name": "stdout",
       "output_type": "stream",
       "stream": "stdout",
       "text": [
        "\n",
        "Enter last name of person to search for: Wellington\n"
       ]
      },
      {
       "name": "stdout",
       "output_type": "stream",
       "stream": "stdout",
       "text": [
        "Enter first name: John\n"
       ]
      },
      {
       "output_type": "stream",
       "stream": "stdout",
       "text": [
        "Person(s) with the same name is(are)\n",
        "Wellington \tJohn \t\tPhone: 9207404\n"
       ]
      },
      {
       "name": "stdout",
       "output_type": "stream",
       "stream": "stdout",
       "text": [
        "\n",
        "Enter phone nnumber (format 1234567): 8435150\n"
       ]
      },
      {
       "output_type": "stream",
       "stream": "stdout",
       "text": [
        "Person(s) with the same name is(are)\n",
        "Deauville \tWiliam \t\tPhone: 8435150\n",
        "McDonald \tAmanda \t\tPhone: 8435150\n"
       ]
      }
     ],
     "prompt_number": 32
    },
    {
     "cell_type": "heading",
     "level": 2,
     "metadata": {},
     "source": [
      "Example 15.33, Page Number 787"
     ]
    },
    {
     "cell_type": "code",
     "collapsed": false,
     "input": [
      "class airtime:\n",
      "    \n",
      "    def __init__(self,h=0,m=0):\n",
      "        self.__hours = h                     # 0 to 23\n",
      "        self.__minutes = m                   # 0 to 59\n",
      "        \n",
      "    def display(self):                       #output to screen\n",
      "        print self.__hours,':',self.__minutes\n",
      "        \n",
      "    def get(self):                           #input from user\n",
      "        print 'Enter airtime (format 12:59):'\n",
      "        self.__hours = input()\n",
      "        self.__dummy = raw_input()\n",
      "        self.__minutes = input()\n",
      "        \n",
      "    def __iadd__(self,right):                #overloaded + operator\n",
      "        temph = self.__hours + right.__hours\n",
      "        tempm = self.__minutes + right.__minutes\n",
      "        \n",
      "        if tempm>=60:\n",
      "            temph =temph + 1\n",
      "            tempm =tempm - 60\n",
      "            \n",
      "        return airtime(temph,tempm)\n",
      "    \n",
      "    \n",
      "    \n",
      "class list:                                 #*class list*#\n",
      "    \n",
      "    def __init__(self):                    #constructor\n",
      "        self.__arr = []\n",
      "        \n",
      "    def push_back(self,te):                 #function to add element in array at last\n",
      "        self.__arr.append(te)\n",
      "        \n",
      "    def accumulate(self,a,b,c):             #sum all the airtime\n",
      "        for j in range(b):\n",
      "            c += self.__arr[j]\n",
      "        return c\n",
      "    \n",
      "    def begin(self):                       #return the first index position\n",
      "        return 0\n",
      "    \n",
      "    def end(self):                         #return the last index position\n",
      "        return len(self.__arr)\n",
      "    \n",
      "\n",
      "    \n",
      "    \n",
      "    \n",
      "sum = airtime()\n",
      "airlist = list()\n",
      "\n",
      "while True:\n",
      "    temp = airtime()\n",
      "    temp.get()                              #get airtime from user\n",
      "    airlist.push_back(temp)\n",
      "    answer = raw_input(\"enter another (y/n)? \")\n",
      "    \n",
      "    if(answer=='n'):\n",
      "        break;\n",
      "        \n",
      "sum = airlist.accumulate(airlist.begin(),airlist.end(),airtime(0,0))          #sum all the airtimes\n",
      "\n",
      "print '\\n\\nsum =',\n",
      "sum.display()             #display sum"
     ],
     "language": "python",
     "metadata": {},
     "outputs": [
      {
       "output_type": "stream",
       "stream": "stdout",
       "text": [
        "Enter airtime (format 12:59):\n"
       ]
      },
      {
       "name": "stdout",
       "output_type": "stream",
       "stream": "stdout",
       "text": [
        "3\n"
       ]
      },
      {
       "name": "stdout",
       "output_type": "stream",
       "stream": "stdout",
       "text": [
        ":\n"
       ]
      },
      {
       "name": "stdout",
       "output_type": "stream",
       "stream": "stdout",
       "text": [
        "45\n"
       ]
      },
      {
       "name": "stdout",
       "output_type": "stream",
       "stream": "stdout",
       "text": [
        "enter another (y/n)? y\n"
       ]
      },
      {
       "output_type": "stream",
       "stream": "stdout",
       "text": [
        "Enter airtime (format 12:59):\n"
       ]
      },
      {
       "name": "stdout",
       "output_type": "stream",
       "stream": "stdout",
       "text": [
        "5\n"
       ]
      },
      {
       "name": "stdout",
       "output_type": "stream",
       "stream": "stdout",
       "text": [
        ":\n"
       ]
      },
      {
       "name": "stdout",
       "output_type": "stream",
       "stream": "stdout",
       "text": [
        "10\n"
       ]
      },
      {
       "name": "stdout",
       "output_type": "stream",
       "stream": "stdout",
       "text": [
        "enter another (y/n)? y\n"
       ]
      },
      {
       "output_type": "stream",
       "stream": "stdout",
       "text": [
        "Enter airtime (format 12:59):\n"
       ]
      },
      {
       "name": "stdout",
       "output_type": "stream",
       "stream": "stdout",
       "text": [
        "2\n"
       ]
      },
      {
       "name": "stdout",
       "output_type": "stream",
       "stream": "stdout",
       "text": [
        ":\n"
       ]
      },
      {
       "name": "stdout",
       "output_type": "stream",
       "stream": "stdout",
       "text": [
        "25\n"
       ]
      },
      {
       "name": "stdout",
       "output_type": "stream",
       "stream": "stdout",
       "text": [
        "enter another (y/n)? y\n"
       ]
      },
      {
       "output_type": "stream",
       "stream": "stdout",
       "text": [
        "Enter airtime (format 12:59):\n"
       ]
      },
      {
       "name": "stdout",
       "output_type": "stream",
       "stream": "stdout",
       "text": [
        "0\n"
       ]
      },
      {
       "name": "stdout",
       "output_type": "stream",
       "stream": "stdout",
       "text": [
        ":\n"
       ]
      },
      {
       "name": "stdout",
       "output_type": "stream",
       "stream": "stdout",
       "text": [
        "55\n"
       ]
      },
      {
       "name": "stdout",
       "output_type": "stream",
       "stream": "stdout",
       "text": [
        "enter another (y/n)? n\n"
       ]
      },
      {
       "output_type": "stream",
       "stream": "stdout",
       "text": [
        "\n",
        "\n",
        "sum = 12 : 15\n"
       ]
      }
     ],
     "prompt_number": 33
    },
    {
     "cell_type": "heading",
     "level": 2,
     "metadata": {},
     "source": [
      "Example 15.34, Page Number 790"
     ]
    },
    {
     "cell_type": "code",
     "collapsed": false,
     "input": [
      "class person:             #class person\n",
      "    \n",
      "    def __init__(self,lana = \"blank\",fina = \"blank\",pho = 0):         #constructor\n",
      "        self.__lastName = lana\n",
      "        self.__firstName = fina\n",
      "        self.__phoneNumber = pho\n",
      "        \n",
      "    def display(self):            #display person's data\n",
      "        print self.__lastName,'\\t',self.__firstName,'\\t\\tPhone:',self.__phoneNumber\n",
      "        \n",
      "    def get_lastname(self):       #return last name\n",
      "        return self.__lastName\n",
      "\n",
      "        \n",
      "def lesst(p1,p2):                    #less than function (friend function)\n",
      "    \n",
      "    if p1._person__lastName == p2._person__lastName:\n",
      "        if p1._person__firstName < p2._person__firstName:\n",
      "            return True\n",
      "        else:\n",
      "            return False\n",
      "        \n",
      "    elif p1._person__lastName == p2._person__lastName:\n",
      "        return True\n",
      "    else:\n",
      "        return False\n",
      "    \n",
      "def equ(p1,p2):                      #equal function (friend function)\n",
      "    if (p1._person__lastName == p2._person__lastName) and (p1._person__firstName == p2._person__firstName):\n",
      "        return True\n",
      "    else:\n",
      "        return False\n",
      "    \n",
      "    \n",
      "    \n",
      "class vector:                             #*class vector*#\n",
      "     \n",
      "    def __init__(self):                    #constructor\n",
      "        self.__arr = []\n",
      "        \n",
      "    def push_back(self,te):                 #function to add element in array at last\n",
      "        self.__arr.append(te)                    \n",
      "    \n",
      "    def begin(self):                       #return the first index position\n",
      "        return 0\n",
      "    \n",
      "    def end(self):                         #return the last index position\n",
      "        return len(self.__arr)\n",
      "    \n",
      "    def display(self,a,b):                  #display the vector element \n",
      "        for j in range(a,b,1):\n",
      "            self.__arr[j].display()\n",
      "    \n",
      "    def sort(self):\n",
      "        \n",
      "        n = len(self.__arr)\n",
      "        \n",
      "        for j in range(n-1):                      #outer loop\n",
      "            for k in range(j+1,n,1):              #inner loop starts at outer\n",
      "                \n",
      "                if not lesst(self.__arr[j],self.__arr[k]):           #if 1st larger than 2nd\n",
      "                    \n",
      "                    temp = self.__arr[j]._person__lastName            #swap last name\n",
      "                    self.__arr[j]._person__lastName = self.__arr[k]._person__lastName\n",
      "                    self.__arr[k]._person__lastName = temp\n",
      "                    \n",
      "                    temp = self.__arr[j]._person__firstName            #swap firstname\n",
      "                    self.__arr[j]._person__firstName = self.__arr[k]._person__firstName\n",
      "                    self.__arr[k]._person__firstName = temp\n",
      "                    \n",
      "                    temp = self.__arr[j]._person__phoneNumber            #swap phone number\n",
      "                    self.__arr[j]._person__phoneNumber = self.__arr[k]._person__phoneNumber\n",
      "                    self.__arr[k]._person__phoneNumber = temp\n",
      "    \n",
      "    \n",
      "    \n",
      "\n",
      "vectPtrspers = vector()                         #vector object\n",
      "\n",
      "#make persons\n",
      "ptrp1 = person(\"Kuangthu\",\"Bruce\",4157300)\n",
      "ptrp2 = person(\"Deauville\",\"Wiliam\",8435150)\n",
      "ptrp3 = person(\"Wellington\",\"John\",9207404)\n",
      "ptrp4 = person(\"Bartoski\",\"peter\",6946473)\n",
      "ptrp5 = person(\"Fredericks\",\"Roger\",7049982)\n",
      "ptrp6 = person(\"McDonald\",\"Stacey\",7764987)\n",
      "\n",
      "#put persons in set\n",
      "vectPtrspers.push_back(ptrp1)\n",
      "vectPtrspers.push_back(ptrp2)\n",
      "vectPtrspers.push_back(ptrp3)\n",
      "vectPtrspers.push_back(ptrp4)\n",
      "vectPtrspers.push_back(ptrp5)\n",
      "vectPtrspers.push_back(ptrp6)\n",
      "\n",
      "vectPtrspers.display(vectPtrspers.begin(),vectPtrspers.end())          #display vector\n",
      "\n",
      "print '\\nsorted pointers '\n",
      "vectPtrspers.display(vectPtrspers.begin(),vectPtrspers.end())\n",
      "\n",
      "vectPtrspers.sort()\n",
      "print '\\nsorted persons '\n",
      "vectPtrspers.display(vectPtrspers.begin(),vectPtrspers.end())"
     ],
     "language": "python",
     "metadata": {},
     "outputs": [
      {
       "output_type": "stream",
       "stream": "stdout",
       "text": [
        "Kuangthu \tBruce \t\tPhone: 4157300\n",
        "Deauville \tWiliam \t\tPhone: 8435150\n",
        "Wellington \tJohn \t\tPhone: 9207404\n",
        "Bartoski \tpeter \t\tPhone: 6946473\n",
        "Fredericks \tRoger \t\tPhone: 7049982\n",
        "McDonald \tStacey \t\tPhone: 7764987\n",
        "\n",
        "sorted pointers \n",
        "Kuangthu \tBruce \t\tPhone: 4157300\n",
        "Deauville \tWiliam \t\tPhone: 8435150\n",
        "Wellington \tJohn \t\tPhone: 9207404\n",
        "Bartoski \tpeter \t\tPhone: 6946473\n",
        "Fredericks \tRoger \t\tPhone: 7049982\n",
        "McDonald \tStacey \t\tPhone: 7764987\n",
        "\n",
        "sorted persons \n",
        "McDonald \tStacey \t\tPhone: 7764987\n",
        "Fredericks \tRoger \t\tPhone: 7049982\n",
        "Bartoski \tpeter \t\tPhone: 6946473\n",
        "Wellington \tJohn \t\tPhone: 9207404\n",
        "Deauville \tWiliam \t\tPhone: 8435150\n",
        "Kuangthu \tBruce \t\tPhone: 4157300\n"
       ]
      }
     ],
     "prompt_number": 34
    },
    {
     "cell_type": "code",
     "collapsed": false,
     "input": [],
     "language": "python",
     "metadata": {},
     "outputs": []
    }
   ],
   "metadata": {}
  }
 ]
}