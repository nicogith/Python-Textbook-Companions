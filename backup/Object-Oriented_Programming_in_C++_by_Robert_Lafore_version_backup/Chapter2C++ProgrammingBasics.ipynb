{
 "metadata": {
  "name": "",
  "signature": "sha256:0d10ddbed87889d5ebd0a638bd92c45d253d9ae5e7d6cf948e85b7da69aa9365"
 },
 "nbformat": 3,
 "nbformat_minor": 0,
 "worksheets": [
  {
   "cells": [
    {
     "cell_type": "heading",
     "level": 1,
     "metadata": {},
     "source": [
      "Chapter 2: C++ Programming Basics"
     ]
    },
    {
     "cell_type": "heading",
     "level": 2,
     "metadata": {},
     "source": [
      "Example 2.1, Page Number: 36"
     ]
    },
    {
     "cell_type": "code",
     "collapsed": false,
     "input": [
      "print 'Every age has a language of its own\\n'     #print the statement"
     ],
     "language": "python",
     "metadata": {},
     "outputs": [
      {
       "output_type": "stream",
       "stream": "stdout",
       "text": [
        "Every age has a language of its own\n",
        "\n"
       ]
      }
     ],
     "prompt_number": 1
    },
    {
     "cell_type": "heading",
     "level": 2,
     "metadata": {},
     "source": [
      "Example 2.2, Page Number: 38"
     ]
    },
    {
     "cell_type": "code",
     "collapsed": false,
     "input": [
      "var1 = 20       #define var1 and assign value to it\n",
      "var2 = var1 + 10      #assign value to var2\n",
      "\n",
      "print 'var1+10 is',    #output text\n",
      "print var2, '\\n'      #output value of var2"
     ],
     "language": "python",
     "metadata": {},
     "outputs": [
      {
       "output_type": "stream",
       "stream": "stdout",
       "text": [
        "var1+10 is 30 \n",
        "\n"
       ]
      }
     ],
     "prompt_number": 2
    },
    {
     "cell_type": "heading",
     "level": 2,
     "metadata": {},
     "source": [
      "Example 2.3, Page Number: 44"
     ]
    },
    {
     "cell_type": "code",
     "collapsed": false,
     "input": [
      "charvar1 = 'A'       #define a character type variable\n",
      "charvar2 = '\\t'      #define a character variable as tab\n",
      "\n",
      "print charvar1,      #display character\n",
      "print charvar2,      #display character\n",
      "\n",
      "charvar1 = 'B'       #set character variable to character constant\n",
      "print charvar1,      #display character\n",
      "\n",
      "print '\\n'"
     ],
     "language": "python",
     "metadata": {},
     "outputs": [
      {
       "output_type": "stream",
       "stream": "stdout",
       "text": [
        "A \tB \n",
        "\n"
       ]
      }
     ],
     "prompt_number": 3
    },
    {
     "cell_type": "heading",
     "level": 2,
     "metadata": {},
     "source": [
      "Example 2.4, Page Number: 46"
     ]
    },
    {
     "cell_type": "code",
     "collapsed": false,
     "input": [
      "ftemp = input(\"Enter temperature in fahrenheit: \")      #take temperature in fahrenheit from user\n",
      "\n",
      "ctemp = (ftemp-32) * 5 / 9                              #calculating temprature in Celsius\n",
      "\n",
      "print 'Equivalent in Celsius is:', ctemp, '\\n'          #deisplay temprature in Celsius"
     ],
     "language": "python",
     "metadata": {},
     "outputs": [
      {
       "name": "stdout",
       "output_type": "stream",
       "stream": "stdout",
       "text": [
        "Enter temperature in fahrenheit: 212\n"
       ]
      },
      {
       "output_type": "stream",
       "stream": "stdout",
       "text": [
        "Equivalent in Celsius is: 100 \n",
        "\n"
       ]
      }
     ],
     "prompt_number": 4
    },
    {
     "cell_type": "heading",
     "level": 2,
     "metadata": {},
     "source": [
      "Example 2.5, Page Number: 48"
     ]
    },
    {
     "cell_type": "code",
     "collapsed": false,
     "input": [
      "PI = 3.14159                                      #float type variable\n",
      "\n",
      "rad  = input(\"Enter radius of circle: \")          #get radius from user\n",
      "\n",
      "area = PI * rad * rad                             #find area of circle\n",
      "\n",
      "print 'Area is',area,'\\n'                         #display area"
     ],
     "language": "python",
     "metadata": {},
     "outputs": [
      {
       "name": "stdout",
       "output_type": "stream",
       "stream": "stdout",
       "text": [
        "Enter radius of circle: 0.5\n"
       ]
      },
      {
       "output_type": "stream",
       "stream": "stdout",
       "text": [
        "Area is 0.7853975 \n",
        "\n"
       ]
      }
     ],
     "prompt_number": 5
    },
    {
     "cell_type": "heading",
     "level": 2,
     "metadata": {},
     "source": [
      "Example 2.6, Page Number: 52"
     ]
    },
    {
     "cell_type": "code",
     "collapsed": false,
     "input": [
      "#define the variables\n",
      "pop1 = 2425785\n",
      "pop2 = 47\n",
      "pop3 = 9761\n",
      "\n",
      "print 'LOCATION POP.\\nPortcity',pop1,'\\nHightown',pop2,'\\nLowvilla',pop3,'\\n'       #display all variables"
     ],
     "language": "python",
     "metadata": {},
     "outputs": [
      {
       "output_type": "stream",
       "stream": "stdout",
       "text": [
        "LOCATION POP.\n",
        "Portcity 2425785 \n",
        "Hightown 47 \n",
        "Lowvilla 9761 \n",
        "\n"
       ]
      }
     ],
     "prompt_number": 6
    },
    {
     "cell_type": "heading",
     "level": 2,
     "metadata": {},
     "source": [
      "Example 2.7, Page Number: 53"
     ]
    },
    {
     "cell_type": "code",
     "collapsed": false,
     "input": [
      "#define the variables\n",
      "pop1 = 2425785\n",
      "pop2 = 47\n",
      "pop3 = 9761\n",
      "\n",
      "print 'LOCATION %12s \\nPortcity %12d \\nHightown %12d \\nLowville %12d \\n' % ('POPULATION', pop1, pop2, pop3)"
     ],
     "language": "python",
     "metadata": {},
     "outputs": [
      {
       "output_type": "stream",
       "stream": "stdout",
       "text": [
        "LOCATION   POPULATION \n",
        "Portcity      2425785 \n",
        "Hightown           47 \n",
        "Lowville         9761 \n",
        "\n"
       ]
      }
     ],
     "prompt_number": 7
    },
    {
     "cell_type": "heading",
     "level": 2,
     "metadata": {},
     "source": [
      "Example 2.8, Page Number: 55"
     ]
    },
    {
     "cell_type": "code",
     "collapsed": false,
     "input": [
      "from ctypes import *\n",
      "\n",
      "signedVar = c_int(1500000000)       #sigened\n",
      "unsignVar = c_uint(1500000000)      #unsigned\n",
      "\n",
      "signedVar.value = signedVar.value * 2\n",
      "signedVar.value = signedVar.value / 3           #calculate exceeds range\n",
      "\n",
      "unsignVar.value = (unsignVar.value * 2) / 3     #calculate within range\n",
      "\n",
      "print 'signedVar =',signedVar.value          #wrong\n",
      "print 'unsignVar =',unsignVar.value          #ok"
     ],
     "language": "python",
     "metadata": {},
     "outputs": [
      {
       "output_type": "stream",
       "stream": "stdout",
       "text": [
        "signedVar = -431655766\n",
        "unsignVar = 1000000000\n"
       ]
      }
     ],
     "prompt_number": 8
    },
    {
     "cell_type": "heading",
     "level": 2,
     "metadata": {},
     "source": [
      "Example 2.9, Page Number: 56"
     ]
    },
    {
     "cell_type": "code",
     "collapsed": false,
     "input": [
      "#define variables\n",
      "count = 7\n",
      "avgWeight = 155.5\n",
      "\n",
      "totalWeight = count * avgWeight       #calculate total weight\n",
      "\n",
      "print 'totalWeight =',totalWeight,'\\n'       #print total weight"
     ],
     "language": "python",
     "metadata": {},
     "outputs": [
      {
       "output_type": "stream",
       "stream": "stdout",
       "text": [
        "totalWeight = 1088.5 \n",
        "\n"
       ]
      }
     ],
     "prompt_number": 9
    },
    {
     "cell_type": "heading",
     "level": 2,
     "metadata": {},
     "source": [
      "Example 2.10, Page Number: 59"
     ]
    },
    {
     "cell_type": "code",
     "collapsed": false,
     "input": [
      "from ctypes import *\n",
      "\n",
      "intVar = c_int(1500000000)\n",
      "\n",
      "intVar.value = intVar.value * 10\n",
      "intVar.value = intVar.value/10          #result too large\n",
      "print 'intVar =',intVar.value,'\\n',      #wrong answer\n",
      "\n",
      "intVar = 1500000000\n",
      "\n",
      "intVar = (intVar * 10) / 10;\n",
      "print 'intVar =',intVar,'\\n'           #right answer"
     ],
     "language": "python",
     "metadata": {},
     "outputs": [
      {
       "output_type": "stream",
       "stream": "stdout",
       "text": [
        "intVar = 211509811 \n",
        "intVar = 1500000000 \n",
        "\n"
       ]
      }
     ],
     "prompt_number": 10
    },
    {
     "cell_type": "heading",
     "level": 2,
     "metadata": {},
     "source": [
      "Example 2.11, Page Number: 61"
     ]
    },
    {
     "cell_type": "code",
     "collapsed": false,
     "input": [
      "print 6%8,'\\n',7%8,'\\n',8%8,'\\n',9%8,'\\n',10%8,'\\n'"
     ],
     "language": "python",
     "metadata": {},
     "outputs": [
      {
       "output_type": "stream",
       "stream": "stdout",
       "text": [
        "6 \n",
        "7 \n",
        "0 \n",
        "1 \n",
        "2 \n",
        "\n"
       ]
      }
     ],
     "prompt_number": 11
    },
    {
     "cell_type": "heading",
     "level": 2,
     "metadata": {},
     "source": [
      "Example 2.12, Page Number: 62"
     ]
    },
    {
     "cell_type": "code",
     "collapsed": false,
     "input": [
      "ans = 27            #define ans variable\n",
      "\n",
      "ans += 10           #same as: ans = ans + 10\n",
      "print ans,',',\n",
      "\n",
      "ans -= 7           #same as: ans = ans - 7\n",
      "print ans,',',\n",
      "\n",
      "ans *= 2           #same as: ans = ans * 2\n",
      "print ans,',',\n",
      "\n",
      "ans /= 3           #same as: ans = ans / 3\n",
      "print ans,',',\n",
      "\n",
      "ans %= 3           #same as: ans = ans % 3\n",
      "print ans,'\\n'"
     ],
     "language": "python",
     "metadata": {},
     "outputs": [
      {
       "output_type": "stream",
       "stream": "stdout",
       "text": [
        "37 , 30 , 60 , 20 , 2 \n",
        "\n"
       ]
      }
     ],
     "prompt_number": 12
    },
    {
     "cell_type": "heading",
     "level": 2,
     "metadata": {},
     "source": [
      "Example 2.13, Page Number: 64"
     ]
    },
    {
     "cell_type": "code",
     "collapsed": false,
     "input": [
      "#The ++ operator is not available in Python\n",
      "\n",
      "count = 10\n",
      "\n",
      "print 'count =',count\n",
      "count += 1                #work as prefix\n",
      "\n",
      "print 'count =',count\n",
      "print 'count =',count\n",
      "print 'count =',count\n",
      "\n",
      "count += 1                #work as postfix\n",
      "print 'count =',count"
     ],
     "language": "python",
     "metadata": {},
     "outputs": [
      {
       "output_type": "stream",
       "stream": "stdout",
       "text": [
        "count = 10\n",
        "count = 11\n",
        "count = 11\n",
        "count = 11\n",
        "count = 12\n"
       ]
      }
     ],
     "prompt_number": 13
    },
    {
     "cell_type": "heading",
     "level": 2,
     "metadata": {},
     "source": [
      "Example 2.14, Page Number: 65"
     ]
    },
    {
     "cell_type": "code",
     "collapsed": false,
     "input": [
      "from math import *                          #import for srt()\n",
      "\n",
      "number = input(\"Enter the number: \")        #get the number\n",
      "\n",
      "answer = sqrt(number)                       #find square root\n",
      "\n",
      "print 'Square root is',answer,'\\n'          #display it"
     ],
     "language": "python",
     "metadata": {},
     "outputs": [
      {
       "name": "stdout",
       "output_type": "stream",
       "stream": "stdout",
       "text": [
        "Enter the number: 1000\n"
       ]
      },
      {
       "output_type": "stream",
       "stream": "stdout",
       "text": [
        "Square root is 31.6227766017 \n",
        "\n"
       ]
      }
     ],
     "prompt_number": 14
    },
    {
     "cell_type": "code",
     "collapsed": false,
     "input": [],
     "language": "python",
     "metadata": {},
     "outputs": []
    }
   ],
   "metadata": {}
  }
 ]
}