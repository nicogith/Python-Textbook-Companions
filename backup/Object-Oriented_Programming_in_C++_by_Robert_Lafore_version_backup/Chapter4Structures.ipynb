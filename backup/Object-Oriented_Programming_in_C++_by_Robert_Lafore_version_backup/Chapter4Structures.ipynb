{
 "metadata": {
  "name": "",
  "signature": "sha256:4064e4393addeb287dc28b053f240cb52dee01e0413e7dfb8579fc8b2d7511ad"
 },
 "nbformat": 3,
 "nbformat_minor": 0,
 "worksheets": [
  {
   "cells": [
    {
     "cell_type": "heading",
     "level": 1,
     "metadata": {},
     "source": [
      "Chapter 4: Structures"
     ]
    },
    {
     "cell_type": "heading",
     "level": 2,
     "metadata": {},
     "source": [
      "Example 4.1, Page Number: 132"
     ]
    },
    {
     "cell_type": "code",
     "collapsed": false,
     "input": [
      "class part:                 #declare a structure\n",
      "    modelnumber = None      #ID number of widget\n",
      "    partnumber = None       #ID number of widget part\n",
      "    cost = None             #cost of part\n",
      "\n",
      "part1 = part()              #define a strcture variable\n",
      "\n",
      "part1.modelnumber = 6244    #give values to structue member\n",
      "part1.partnumber = 373\n",
      "part1.cost = 217.55\n",
      "\n",
      "                            #display structure member\n",
      "print 'Model %d,'    %part1.modelnumber,\n",
      "print 'part %d,'     %part1.partnumber,\n",
      "print 'costs $%.2f'  %part1.cost,'\\n'"
     ],
     "language": "python",
     "metadata": {},
     "outputs": [
      {
       "output_type": "stream",
       "stream": "stdout",
       "text": [
        "Model 6244, part 373, costs $217.55 \n",
        "\n"
       ]
      }
     ],
     "prompt_number": 1
    },
    {
     "cell_type": "heading",
     "level": 2,
     "metadata": {},
     "source": [
      "Example 4.2, Page Number: 138"
     ]
    },
    {
     "cell_type": "code",
     "collapsed": false,
     "input": [
      "class part:                 #declare a structure\n",
      "    modelnumber = None      #ID number of widget\n",
      "    partnumber = None       #ID number of widget part\n",
      "    cost = None             #cost of part\n",
      "\n",
      "part1 = part()\n",
      "                           #initialize structure variable\n",
      "part1.modelnumber = 6244\n",
      "part1.partnumber = 373\n",
      "part1.cost = 217.55\n",
      "\n",
      "                        #display first variable\n",
      "print 'Model %d,'    %part1.modelnumber,\n",
      "print 'part %d,'     %part1.partnumber,\n",
      "print 'costs $%.2f'  %part1.cost,'\\n',\n",
      "\n",
      "part2 = part1           #assign first variable to second\n",
      "\n",
      "                        #display second variable\n",
      "print 'Model %d,'    %part2.modelnumber,\n",
      "print 'part %d,'     %part2.partnumber,\n",
      "print 'costs $%.2f'  %part2.cost,'\\n'"
     ],
     "language": "python",
     "metadata": {},
     "outputs": [
      {
       "output_type": "stream",
       "stream": "stdout",
       "text": [
        "Model 6244, part 373, costs $217.55 \n",
        "Model 6244, part 373, costs $217.55 \n",
        "\n"
       ]
      }
     ],
     "prompt_number": 2
    },
    {
     "cell_type": "heading",
     "level": 2,
     "metadata": {},
     "source": [
      "Example 4.3, Page Number: 139"
     ]
    },
    {
     "cell_type": "code",
     "collapsed": false,
     "input": [
      "class Distance:         #Distance structure\n",
      "    feet = None\n",
      "    inches = None\n",
      "\n",
      "d1 = Distance()         #define three length\n",
      "d3 = Distance()\n",
      "d2 = Distance()\n",
      "\n",
      "d2.feet = 11            #initialize second length\n",
      "d2.inches = 6.25\n",
      "\n",
      "                        #get lenght d1 from user\n",
      "d1.feet = input(\"Enter feet: \")\n",
      "d1.inches = input(\"Enter inches: \")\n",
      "\n",
      "                        #add length d1 and d2 to get d3\n",
      "d3.inches = d1.inches + d2.inches         #add the inches\n",
      "\n",
      "\n",
      "d3.feet = 0                     #initially feet is zero\n",
      "\n",
      "if d3.inches>=12.0:             #if total exceeds 12.0\n",
      "    d3.inches -= 12.0           #then decrease inches by 12.0\n",
      "    d3.feet += 1                #and increase feet by 1\n",
      "\n",
      "d3.feet += d1.feet + d2.feet    #add the feet\n",
      "\n",
      "                                #display all length\n",
      "print d1.feet,'\\' -',d1.inches,'\\\" +',\n",
      "print d2.feet,'\\' -',d2.inches,'\\\" =',\n",
      "print d3.feet,'\\' -',d3.inches,'\\\" \\n',"
     ],
     "language": "python",
     "metadata": {},
     "outputs": [
      {
       "name": "stdout",
       "output_type": "stream",
       "stream": "stdout",
       "text": [
        "Enter feet: 10\n"
       ]
      },
      {
       "name": "stdout",
       "output_type": "stream",
       "stream": "stdout",
       "text": [
        "Enter inches: 6.75\n"
       ]
      },
      {
       "output_type": "stream",
       "stream": "stdout",
       "text": [
        "10 ' - 6.75 \" + 11 ' - 6.25 \" = 22 ' - 1.0 \" \n"
       ]
      }
     ],
     "prompt_number": 3
    },
    {
     "cell_type": "heading",
     "level": 2,
     "metadata": {},
     "source": [
      "Example 4.4, Page Number: 141"
     ]
    },
    {
     "cell_type": "code",
     "collapsed": false,
     "input": [
      "class Distance:                #distance structure\n",
      "    feet = None\n",
      "    inches = None\n",
      "\n",
      "class Room:                    #rectangular area\n",
      "    length = Distance()        #length of rectangle\n",
      "    width = Distance()         #width of rectangle\n",
      "        \n",
      "dining = Room()                #define a room\n",
      "\n",
      "dining.length.feet = 13        #assign values \n",
      "dining.length.inches = 6.5\n",
      "dining.width.feet = 10\n",
      "dining.width.inches = 0.0\n",
      "\n",
      "                               #convet length and width\n",
      "l = dining.length.feet + dining.length.inches/12\n",
      "w = dining.width.feet + dining.width.inches/12\n",
      "\n",
      "                               #find area and display it\n",
      "print 'Dining room area is',l*w,'square feet\\n'"
     ],
     "language": "python",
     "metadata": {},
     "outputs": [
      {
       "output_type": "stream",
       "stream": "stdout",
       "text": [
        "Dining room area is 135.416666667 square feet\n",
        "\n"
       ]
      }
     ],
     "prompt_number": 4
    },
    {
     "cell_type": "heading",
     "level": 2,
     "metadata": {},
     "source": [
      "Example 4.5, Page Number: 145"
     ]
    },
    {
     "cell_type": "code",
     "collapsed": false,
     "input": [
      "clubs = 0                   #suits\n",
      "diamonds = 1\n",
      "hearts = 2\n",
      "spades = 3\n",
      "\n",
      "#from 2 to 10 are integers without names\n",
      "jack = 11                  #face cards\n",
      "queen = 12 \n",
      "king = 13\n",
      "ace = 14\n",
      "\n",
      "\n",
      "class card:\n",
      "        number = None                   #2 to 10, jack, queen, king, ace\n",
      "        suit = None                     #clubs, diamonds, hearts, spades\n",
      "    \n",
      "\n",
      "#define various cards\n",
      "temp = card()\n",
      "chosen = card()\n",
      "prize = card()\n",
      "\n",
      "\n",
      "#define and initialize card1\n",
      "card1 = card()\n",
      "card1.number = 7\n",
      "card1.suit = clubs\n",
      "print 'card 1 is the 7 of clubs'\n",
      "\n",
      "\n",
      "#define and initialize card2\n",
      "card2 = card()\n",
      "card2.number = jack\n",
      "card2.suit = hearts\n",
      "print 'card 2 is the jack of hearts'\n",
      "\n",
      "#define and initialize card3\n",
      "card3 = card()\n",
      "card3.number = ace\n",
      "card3.suit = spades\n",
      "print 'card 3 is the ace of spades'\n",
      "\n",
      "\n",
      "#prize is the card to guess\n",
      "prize = card3        #copy this card, to remember it\n",
      "\n",
      "\n",
      "#swapping cards\n",
      "print 'I\\'m swapping card 1 and card 3'\n",
      "temp = card3\n",
      "card3 = card1\n",
      "card1 = temp\n",
      "\n",
      "print 'I\\'m swapping card 2 and card 3'\n",
      "temp = card2\n",
      "card3 = card2\n",
      "card2 = temp\n",
      "\n",
      "print 'I\\'m swapping card 1 and card 2'\n",
      "temp = card2\n",
      "card2 = card1\n",
      "card1 = temp\n",
      "\n",
      "\n",
      "print 'Now, where (1,2, or 3) is the ace of spades? ',\n",
      "\n",
      "position = input()       #get user's guess of position\n",
      "\n",
      "\n",
      "#set chosen to user's choice \n",
      "if position == 1:\n",
      "    chosen = card1\n",
      "elif position == 2:\n",
      "    chosen = card2\n",
      "else:\n",
      "    chosen = card3\n",
      "    \n",
      "    \n",
      "if chosen.number == prize.number and chosen.suit == prize.suit:       #compare cards\n",
      "    print 'That\\'s right! You win!'\n",
      "else:\n",
      "    print 'Sorry. You lose.'"
     ],
     "language": "python",
     "metadata": {},
     "outputs": [
      {
       "output_type": "stream",
       "stream": "stdout",
       "text": [
        "card 1 is the 7 of clubs\n",
        "card 2 is the jack of hearts\n",
        "card 3 is the ace of spades\n",
        "I'm swapping card 1 and card 3\n",
        "I'm swapping card 2 and card 3\n",
        "I'm swapping card 1 and card 2\n",
        "Now, where (1,2, or 3) is the ace of spades? "
       ]
      },
      {
       "name": "stdout",
       "output_type": "stream",
       "stream": "stdout",
       "text": [
        "3\n"
       ]
      },
      {
       "output_type": "stream",
       "stream": "stdout",
       "text": [
        " Sorry. You lose.\n"
       ]
      }
     ],
     "prompt_number": 5
    },
    {
     "cell_type": "heading",
     "level": 2,
     "metadata": {},
     "source": [
      "Example 4.6, Page Number: 148"
     ]
    },
    {
     "cell_type": "code",
     "collapsed": true,
     "input": [
      "(Sun,Mon,Tue,Wed,Thu,Fri,Sat) = (0,1,2,3,4,5,6)                   #specify enum type\n",
      "\n",
      "day1 = Mon               #define variables and assign values\n",
      "day2 = Thu\n",
      "\n",
      "diff = day2 - day1        #can do integer arithmetic\n",
      "print 'Days between =',diff\n",
      "\n",
      "if day1<day2:             #can do comprisons\n",
      "    print 'day1 comes before day2\\n'"
     ],
     "language": "python",
     "metadata": {},
     "outputs": [
      {
       "output_type": "stream",
       "stream": "stdout",
       "text": [
        "Days between = 3\n",
        "day1 comes before day2\n",
        "\n"
       ]
      }
     ],
     "prompt_number": 6
    },
    {
     "cell_type": "heading",
     "level": 2,
     "metadata": {},
     "source": [
      "Example 4.7, Page Number: 152"
     ]
    },
    {
     "cell_type": "code",
     "collapsed": false,
     "input": [
      "(NO , YES) = (0,1)         #N0 = 0, YES = 1\n",
      "\n",
      "isWord = NO               #YES when in a word, NO when in whitespace\n",
      "ch = 'a'                  #character read from keyboard\n",
      "wordcount = 1             #counts spaces between words\n",
      "\n",
      "print 'Enter a phrase'\n",
      "ch = raw_input()          #geting the line\n",
      "\n",
      "for j in range(len(ch)):           #for loop till line ends\n",
      "    \n",
      "    if ch[j] == ' ':               #if it's a space,\n",
      "        if isWord == YES:          #and going  word, then it's end of word\n",
      "            wordcount += 1         #count a word\n",
      "            isWord == NO           #reset flag\n",
      "            \n",
      "    else:                          #otherwise\n",
      "        if isWord == NO:           \n",
      "            isWord = YES           #set flag\n",
      "\n",
      "print '--- Word count is',wordcount,'---'        #display result"
     ],
     "language": "python",
     "metadata": {},
     "outputs": [
      {
       "output_type": "stream",
       "stream": "stdout",
       "text": [
        "Enter a phrase\n"
       ]
      },
      {
       "name": "stdout",
       "output_type": "stream",
       "stream": "stdout",
       "text": [
        "For While and do\n"
       ]
      },
      {
       "output_type": "stream",
       "stream": "stdout",
       "text": [
        "--- Word count is 4 ---\n"
       ]
      }
     ],
     "prompt_number": 7
    },
    {
     "cell_type": "heading",
     "level": 2,
     "metadata": {},
     "source": [
      "Example 4.8, Page Number: 153"
     ]
    },
    {
     "cell_type": "code",
     "collapsed": false,
     "input": [
      "#from 2 to 10 are integers without names\n",
      "jack = 11      \n",
      "queen = 12 \n",
      "king = 13\n",
      "ace = 14\n",
      "\n",
      "(clubs,diamonds,hearts,spades) = (0,1,2,3)\n",
      "\n",
      "class card:\n",
      "        number = None                   #2 to 10, jack, queen, king, ace\n",
      "        suit = None                   #clubs, diamonds, hearts, spades\n",
      "    \n",
      "\n",
      "#define various cards\n",
      "temp = card()\n",
      "chosen = card()\n",
      "prize = card()\n",
      "\n",
      "\n",
      "#define and initialize card1\n",
      "card1 = card()\n",
      "card1.number = 7\n",
      "card1.suit = clubs\n",
      "print 'card 1 is the 7 of clubs'\n",
      "\n",
      "\n",
      "#define and initialize card2\n",
      "card2 = card()\n",
      "card2.number = jack\n",
      "card2.suit = hearts\n",
      "print 'card 2 is the jack of hearts'\n",
      "\n",
      "#define and initialize card3\n",
      "card3 = card()\n",
      "card3.number = ace\n",
      "card3.suit = spades\n",
      "print 'card 3 is the ace of spades'\n",
      "\n",
      "\n",
      "#prize is the card to guess\n",
      "prize = card3\n",
      "\n",
      "\n",
      "#swapping cards\n",
      "print 'I\\'m swapping card 1 and card 3'\n",
      "temp = card3\n",
      "card3 = card1\n",
      "card1 = temp\n",
      "\n",
      "print 'I\\'m swapping card 2 and card 3'\n",
      "temp = card2\n",
      "card3 = card2\n",
      "card2 = temp\n",
      "\n",
      "print 'I\\'m swapping card 1 and card 2'\n",
      "temp = card2\n",
      "card2 = card1\n",
      "card1 = temp\n",
      "\n",
      "\n",
      "print 'Now, where (1,2, or 3) is the ace of spades? ',\n",
      "\n",
      "position = input()       #get user's guess of position\n",
      "\n",
      "\n",
      "#set chosen to user's choice \n",
      "if position == 1:\n",
      "    chosen = card1\n",
      "elif position == 2:\n",
      "    chosen = card2\n",
      "else:\n",
      "    chosen = card3\n",
      "    \n",
      "                                                        #compare cards\n",
      "if chosen.number == prize.number and chosen.suit == prize.suit:\n",
      "    print 'That\\'s right! You win!'\n",
      "else:\n",
      "    print 'Sorry. You lose.'"
     ],
     "language": "python",
     "metadata": {},
     "outputs": [
      {
       "output_type": "stream",
       "stream": "stdout",
       "text": [
        "card 1 is the 7 of clubs\n",
        "card 2 is the jack of hearts\n",
        "card 3 is the ace of spades\n",
        "I'm swapping card 1 and card 3\n",
        "I'm swapping card 2 and card 3\n",
        "I'm swapping card 1 and card 2\n",
        "Now, where (1,2, or 3) is the ace of spades? "
       ]
      },
      {
       "name": "stdout",
       "output_type": "stream",
       "stream": "stdout",
       "text": [
        "2\n"
       ]
      },
      {
       "output_type": "stream",
       "stream": "stdout",
       "text": [
        " That's right! You win!\n"
       ]
      }
     ],
     "prompt_number": 8
    },
    {
     "cell_type": "code",
     "collapsed": false,
     "input": [],
     "language": "python",
     "metadata": {},
     "outputs": []
    }
   ],
   "metadata": {}
  }
 ]
}