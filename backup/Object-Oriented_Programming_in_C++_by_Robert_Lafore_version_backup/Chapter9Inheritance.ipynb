{
 "metadata": {
  "name": "",
  "signature": "sha256:6cf59f645122c2aa3a7bf9b9051d950f9c340bf80207c806770729fdb1d9f632"
 },
 "nbformat": 3,
 "nbformat_minor": 0,
 "worksheets": [
  {
   "cells": [
    {
     "cell_type": "heading",
     "level": 1,
     "metadata": {},
     "source": [
      "Chapter 9: Inheritance"
     ]
    },
    {
     "cell_type": "heading",
     "level": 2,
     "metadata": {
      "slideshow": {
       "slide_type": "-"
      }
     },
     "source": [
      "Example 9.1, Page Number 374"
     ]
    },
    {
     "cell_type": "code",
     "collapsed": false,
     "input": [
      "class Counter(CountDn):                         #base class\n",
      "    \n",
      "    def __init__(self,c=0):                     #constructor\n",
      "        self._count = c                         #not private\n",
      "        \n",
      "    def get_count(self):                        #return count\n",
      "        return self._count\n",
      "    \n",
      "    def __iadd__(self,other):                   #increment count\n",
      "        self._count += other \n",
      "        return Counter(self._count)\n",
      "    \n",
      "class CountDn(Counter):                         #derived class\n",
      "    \n",
      "    def __isub__(self,other):                   #decrement count\n",
      "        self._count -= other\n",
      "        return Counter(self._count)\n",
      "        \n",
      "    \n",
      "    \n",
      "c1 = CountDn()                                  #c1 of class CountDn\n",
      "\n",
      "print 'c1 =',c1.get_count()                     #display c1\n",
      " \n",
      "c1 += 1                                         #increment count 3 times\n",
      "c1 += 1\n",
      "c1 += 1\n",
      "print 'c1 =',c1.get_count()                     #display count\n",
      "\n",
      "c1 -= 1                                         #decrement c1, twice\n",
      "c1 -= 1\n",
      "print 'c1 =',c1.get_count()                     #display c1"
     ],
     "language": "python",
     "metadata": {},
     "outputs": [
      {
       "output_type": "stream",
       "stream": "stdout",
       "text": [
        "c1 = 0\n",
        "c1 = 3\n",
        "c1 = 1\n"
       ]
      }
     ],
     "prompt_number": 2
    },
    {
     "cell_type": "heading",
     "level": 2,
     "metadata": {},
     "source": [
      "Example 9.2, Page Number 380"
     ]
    },
    {
     "cell_type": "code",
     "collapsed": false,
     "input": [
      "class Counter:                                #base class\n",
      "    def __init__(self,c=0):                   #constructor\n",
      "        self._count = c\n",
      "        \n",
      "    def get_count(self):                      #return count\n",
      "        return self._count\n",
      "    \n",
      "    def __iadd__(self,other):                 #increment count\n",
      "        self._count += other\n",
      "        return Counter(self._count)\n",
      "    \n",
      "    \n",
      "    \n",
      "class CountDn(Counter):                       #derived class\n",
      "    def __init__(self,c=0):                   #constructor\n",
      "        self._count = c\n",
      "        \n",
      "    def __isub__(self,other):                 #decrement count\n",
      "        self._count -= 1\n",
      "        return CountDn(self._count)\n",
      "     \n",
      "        \n",
      "        \n",
      "        \n",
      "c1 = CountDn()                          #class CountDn\n",
      "c2 = CountDn(100)\n",
      "\n",
      "print 'c1 =',c1.get_count()             #display\n",
      "print 'c2 =',c2.get_count()\n",
      "\n",
      "c1 += 1                                 #increment c1\n",
      "c1 += 1\n",
      "c1 += 1\n",
      "print 'c1 =',c1.get_count()             #display c1\n",
      "\n",
      "c2 -= 1                                 #decrement c2\n",
      "c2 -= 1\n",
      "print 'c2 =',c2.get_count()             #display it\n",
      " \n",
      "c3 = CountDn()                          #create c3\n",
      "c2 -= 1                                 #decrement c2\n",
      "c3 = c2                                 #assign count value of c2 to c3\n",
      "print 'c3 =',c3.get_count()             #display c3"
     ],
     "language": "python",
     "metadata": {},
     "outputs": [
      {
       "output_type": "stream",
       "stream": "stdout",
       "text": [
        "c1 = 0\n",
        "c2 = 100\n",
        "c1 = 3\n",
        "c2 = 98\n",
        "c3 = 97\n"
       ]
      }
     ],
     "prompt_number": 2
    },
    {
     "cell_type": "heading",
     "level": 2,
     "metadata": {},
     "source": [
      "Example 9.3, Page Number 382"
     ]
    },
    {
     "cell_type": "code",
     "collapsed": false,
     "input": [
      "class Stack:                                    \n",
      "    _MAX = 3                                      #size of stack array\n",
      "    _st = [None]*_MAX                             #stack\n",
      "    \n",
      "    def __init__(self):                           #constructor\n",
      "        self._top = -1\n",
      "        \n",
      "    def push(self,var):                           #put number on stack\n",
      "        self._top += 1\n",
      "        self._st[self._top] = var\n",
      "        \n",
      "    def pop(self):                                #take number off stack\n",
      "        x = self._st[self._top]\n",
      "        self._top -= 1\n",
      "        return x\n",
      "    \n",
      "    \n",
      "    \n",
      "class Stack2(Stack):\n",
      "    \n",
      "    def push(self,var):                           #put number on stack\n",
      "        \n",
      "        if self._top >= self._MAX-1:              #error if stack full \n",
      "            print 'Error: stack is full'\n",
      "        else:\n",
      "            Stack.push(self,var)                  #call push() in Stack class\n",
      "        \n",
      "    def pop(self):                                #take number off stack\n",
      "        if self._top < 0:                         #error if stack empty\n",
      "            return 'Error: stack is empty' \n",
      "        else:\n",
      "            return Stack.pop(self)                #call pop() in Stack class\n",
      "    \n",
      "    \n",
      "    \n",
      "    \n",
      "s1 = Stack2()\n",
      "\n",
      "s1.push(11)                        #push some values onto stack\n",
      "s1.push(22)\n",
      "s1.push(33)\n",
      "\n",
      "print s1.pop()                     #pop some values from stack\n",
      "print s1.pop()\n",
      "print s1.pop()\n",
      "print s1.pop()                     #oops, popped one too many..."
     ],
     "language": "python",
     "metadata": {},
     "outputs": [
      {
       "output_type": "stream",
       "stream": "stdout",
       "text": [
        "33\n",
        "22\n",
        "11\n",
        "Error: stack is empty\n"
       ]
      }
     ],
     "prompt_number": 3
    },
    {
     "cell_type": "heading",
     "level": 2,
     "metadata": {},
     "source": [
      "Example 9.4, Page Number 385"
     ]
    },
    {
     "cell_type": "code",
     "collapsed": false,
     "input": [
      "class Distance:                                                 #Distance class\n",
      "    \n",
      "    def __init__(self,ft=0,inc=0):                              #constructor\n",
      "        self._feet = ft                                         #can't be private\n",
      "        self._inches = inc\n",
      "        \n",
      "    def getdist(self):                                          #get length from user\n",
      "        self._feet = input(\"Enter feet: \")\n",
      "        self._inches = input(\"Enter inches: \")\n",
      "        \n",
      "    def showdist(self):                                         #display distance\n",
      "        print self._feet , '\\' -' , self._inches , '\\\"'\n",
      "        \n",
      "        \n",
      "        \n",
      "class DistSign(Distance):                                   #adds sign to distance\n",
      "    \n",
      "    def __init__(self,ft=0,inc=0,sg='pos'):                 #constructor\n",
      "        Distance.__init__(self,ft,inc)                      #call base class constructor\n",
      "        self._sign = sg                                     #sign is pos or neg\n",
      "        \n",
      "    def getdist(self):                                      #get length from  user\n",
      "        Distance.getdist(self)                              #call base getdist()\n",
      "        \n",
      "        ch = raw_input(\"Enter sign (+ or -): \")             #get sign from user\n",
      "        if ch == '+':\n",
      "            self._sign = 'pos'\n",
      "        else:\n",
      "            self._sign = 'neg'\n",
      "            \n",
      "    def showdist(self):                                     #display distance\n",
      "        if self._sign == 'pos':                             #show sign\n",
      "            print '(+)',\n",
      "        else:\n",
      "            print '(-)',\n",
      "        Distance.showdist(self)                             #show ft and in\n",
      "        \n",
      "        \n",
      "        \n",
      "        \n",
      "alpha = DistSign()                           #object with no arg constructor\n",
      "alpha.getdist()                              #get alpha from user\n",
      "\n",
      "beta = DistSign(11,6.25)                     #object with 2 - arg constructor\n",
      "\n",
      "gamma = DistSign(100,5.5,'neg')              #object with 3 - arg constructor\n",
      "\n",
      "print '\\nalpha =',                           #display all distances\n",
      "alpha.showdist()\n",
      "print 'beta =',\n",
      "beta.showdist()\n",
      "print 'gamma =',\n",
      "gamma.showdist()"
     ],
     "language": "python",
     "metadata": {},
     "outputs": [
      {
       "name": "stdout",
       "output_type": "stream",
       "stream": "stdout",
       "text": [
        "Enter feet: 6\n"
       ]
      },
      {
       "name": "stdout",
       "output_type": "stream",
       "stream": "stdout",
       "text": [
        "Enter inches: 2.5\n"
       ]
      },
      {
       "name": "stdout",
       "output_type": "stream",
       "stream": "stdout",
       "text": [
        "Enter sign (+ or -): -\n"
       ]
      },
      {
       "output_type": "stream",
       "stream": "stdout",
       "text": [
        "\n",
        "alpha = (-) 6 ' - 2.5 \"\n",
        "beta = (+) 11 ' - 6.25 \"\n",
        "gamma = (-) 100 ' - 5.5 \"\n"
       ]
      }
     ],
     "prompt_number": 4
    },
    {
     "cell_type": "heading",
     "level": 2,
     "metadata": {},
     "source": [
      "Example 9.5, Page Number 389"
     ]
    },
    {
     "cell_type": "code",
     "collapsed": false,
     "input": [
      "LEN = 80                              #maximum length\n",
      "\n",
      "class employee:                                                #employee class\n",
      "    __name = [None]*LEN                                        #employee name\n",
      "    \n",
      "    def getdata(self):                                         #get data from user\n",
      "        self.__name = raw_input(\"   Enter last name: \")\n",
      "        self.__number = input(\"   Enter number: \")             #employee number\n",
      "        \n",
      "    def putdata(self):                                         #display data\n",
      "        print '   Name:',self.__name \n",
      "        print '   Number:',self.__number\n",
      "        \n",
      "        \n",
      "        \n",
      "class manager(employee):                                       #management class\n",
      "    __title = [None]*LEN                                       #'vice-president' etc. \n",
      "    \n",
      "    def getdata(self):\n",
      "        employee.getdata(self)\n",
      "        self.__title = raw_input(\"   Enter Title: \")\n",
      "        self.__dues = input(\"   Enter golf club dues: \")       #golf club dues\n",
      "        \n",
      "    def putdata(self):\n",
      "        employee.putdata(self)\n",
      "        print '   Title:',self.__title\n",
      "        print '   Number:',self.__dues\n",
      "        \n",
      "        \n",
      "        \n",
      "class scientist(employee):                                     #scientist class\n",
      "    def getdata(self):\n",
      "        employee.getdata(self)\n",
      "        self.__pubs = raw_input(\"   Enter Number of pubs: \")   #number of publication\n",
      "        \n",
      "    def putdata(self):\n",
      "        employee.putdata(self)\n",
      "        print '   Number of publications:',self.__pubs\n",
      "        \n",
      "        \n",
      "class laborer(employee):             #labour class\n",
      "    pass \n",
      "\n",
      "\n",
      "\n",
      "\n",
      "m1 = manager()\n",
      "m2 = manager()\n",
      "s1 = scientist()\n",
      "l1 = laborer()\n",
      "                                              #get data for several employees\n",
      "print 'Enter data for manager 1'\n",
      "m1.getdata()\n",
      "\n",
      "print 'Enter data for manager 2'\n",
      "m2.getdata()\n",
      "\n",
      "print 'Enter data for scientist 1'\n",
      "s1.getdata()\n",
      "\n",
      "print 'Enter data for laborer 1'\n",
      "l1.getdata()\n",
      "\n",
      "                                              #display data for several employees\n",
      "print '\\nData on manager 1'\n",
      "m1.putdata()\n",
      "\n",
      "print 'Data on manager 2'\n",
      "m2.putdata()\n",
      "\n",
      "print 'Data on scientist 1'\n",
      "s1.putdata()\n",
      "\n",
      "print 'Data on laborer 1'\n",
      "l1.putdata()"
     ],
     "language": "python",
     "metadata": {},
     "outputs": [
      {
       "output_type": "stream",
       "stream": "stdout",
       "text": [
        "Enter data for manager 1\n"
       ]
      },
      {
       "name": "stdout",
       "output_type": "stream",
       "stream": "stdout",
       "text": [
        "   Enter last name: Wainsworth\n"
       ]
      },
      {
       "name": "stdout",
       "output_type": "stream",
       "stream": "stdout",
       "text": [
        "   Enter number: 10\n"
       ]
      },
      {
       "name": "stdout",
       "output_type": "stream",
       "stream": "stdout",
       "text": [
        "   Enter Title: President\n"
       ]
      },
      {
       "name": "stdout",
       "output_type": "stream",
       "stream": "stdout",
       "text": [
        "   Enter golf club dues: 1000000\n"
       ]
      },
      {
       "output_type": "stream",
       "stream": "stdout",
       "text": [
        "Enter data for manager 2\n"
       ]
      },
      {
       "name": "stdout",
       "output_type": "stream",
       "stream": "stdout",
       "text": [
        "   Enter last name: Bradley\n"
       ]
      },
      {
       "name": "stdout",
       "output_type": "stream",
       "stream": "stdout",
       "text": [
        "   Enter number: 124\n"
       ]
      },
      {
       "name": "stdout",
       "output_type": "stream",
       "stream": "stdout",
       "text": [
        "   Enter Title: Vice-President\n"
       ]
      },
      {
       "name": "stdout",
       "output_type": "stream",
       "stream": "stdout",
       "text": [
        "   Enter golf club dues: 500000\n"
       ]
      },
      {
       "output_type": "stream",
       "stream": "stdout",
       "text": [
        "Enter data for scientist 1\n"
       ]
      },
      {
       "name": "stdout",
       "output_type": "stream",
       "stream": "stdout",
       "text": [
        "   Enter last name: Hauptman-Frenglish\n"
       ]
      },
      {
       "name": "stdout",
       "output_type": "stream",
       "stream": "stdout",
       "text": [
        "   Enter number: 234234\n"
       ]
      },
      {
       "name": "stdout",
       "output_type": "stream",
       "stream": "stdout",
       "text": [
        "   Enter Number of pubs: 999\n"
       ]
      },
      {
       "output_type": "stream",
       "stream": "stdout",
       "text": [
        "Enter data for laborer 1\n"
       ]
      },
      {
       "name": "stdout",
       "output_type": "stream",
       "stream": "stdout",
       "text": [
        "   Enter last name: jones\n"
       ]
      },
      {
       "name": "stdout",
       "output_type": "stream",
       "stream": "stdout",
       "text": [
        "   Enter number: 6546544\n"
       ]
      },
      {
       "output_type": "stream",
       "stream": "stdout",
       "text": [
        "\n",
        "Data on manager 1\n",
        "   Name: Wainsworth\n",
        "   Number: 10\n",
        "   Title: President\n",
        "   Number: 1000000\n",
        "Data on manager 2\n",
        "   Name: Bradley\n",
        "   Number: 124\n",
        "   Title: Vice-President\n",
        "   Number: 500000\n",
        "Data on scientist 1\n",
        "   Name: Hauptman-Frenglish\n",
        "   Number: 234234\n",
        "   Number of publications: 999\n",
        "Data on laborer 1\n",
        "   Name: jones\n",
        "   Number: 6546544\n"
       ]
      }
     ],
     "prompt_number": 5
    },
    {
     "cell_type": "heading",
     "level": 2,
     "metadata": {},
     "source": [
      "Example 9.6, Page Number 393"
     ]
    },
    {
     "cell_type": "code",
     "collapsed": false,
     "input": [
      "from turtle import *       #importing turtles library\n",
      "\n",
      "class shape:                                   #base class\n",
      "    def __init__(self,x=0,y=0,fc=\"white\"):     #constructor\n",
      "        self._xCo = x                          #coordinate for shape\n",
      "        self._yCo = y\n",
      "        self._fillcolor = fc                   #color for shape\n",
      "\n",
      "        \n",
      "\n",
      "class circle(shape):                 #defining circle class\n",
      "    \n",
      "    def __init__(self,x,y,r,fc):     #constructor for set circle attribute\n",
      "        shape.__init__(self,x,y,fc)  \n",
      "        self._radius = r\n",
      "        \n",
      "    def draw(self):      #draw the circle\n",
      "        setup()\n",
      "        turtle = Turtle()\n",
      "        turtle.begin_fill()\n",
      "        turtle.color(self._fillcolor)\n",
      "        turtle.up()\n",
      "        turtle.goto(self._xCo,self._yCo)\n",
      "        turtle.down()\n",
      "        turtle.circle(self._radius)\n",
      "        turtle.end_fill()\n",
      "        turtle.hideturtle()\n",
      "        done()\n",
      "        \n",
      "        \n",
      "class rect(shape):          #defining rectangle class\n",
      "    \n",
      "    def __init__(self,x,y,h,w,fc):     #constructor\n",
      "        shape.__init__(self,x,y,fc)  \n",
      "        self._height = h\n",
      "        self._weight = w\n",
      "        \n",
      "    def draw(self):      #draw the rectangle\n",
      "        setup()\n",
      "        turtle = Turtle()\n",
      "        turtle.begin_fill()\n",
      "        turtle.color(self._fillcolor)\n",
      "        turtle.up()\n",
      "        turtle.goto(self._xCo,self._yCo)\n",
      "        turtle.down()\n",
      "        turtle.forward(self._weight) \n",
      "        turtle.left(90)\n",
      "        turtle.forward(self._height)\n",
      "        turtle.left(90)\n",
      "        turtle.forward(self._weight)\n",
      "        turtle.left(90)\n",
      "        turtle.forward(self._height)\n",
      "        turtle.end_fill()\n",
      "        turtle.hideturtle()\n",
      "        done()  \n",
      "\n",
      "        \n",
      "class tria(shape):          #defining triangle class\n",
      "    \n",
      "    def __init__(self,x,y,h,fc):     #constructor \n",
      "        shape.__init__(self,x,y,fc)  \n",
      "        self._height = h\n",
      "        \n",
      "    def draw(self):      #draw the triangle\n",
      "        setup()\n",
      "        turtle = Turtle()\n",
      "        turtle.begin_fill()\n",
      "        turtle.color(self._fillcolor)\n",
      "        turtle.up()\n",
      "        turtle.goto(self._xCo,self._yCo)\n",
      "        turtle.down()\n",
      "        turtle.forward(self._height) \n",
      "        turtle.left(120)\n",
      "        turtle.forward(self._height)\n",
      "        turtle.left(120)\n",
      "        turtle.forward(self._height)\n",
      "        turtle.end_fill()\n",
      "        turtle.hideturtle()\n",
      "        done()\n",
      "    \n",
      "    \n",
      "    \n",
      "    \n",
      "cir = circle(40,12,5,\"blue\")                #create circle\n",
      "rec = rect(12,7,10,15,\"red\")                #create rectangle\n",
      "tri = tria(60,7,11,\"green\")                 #create triangle\n",
      "\n",
      "#draw all shape\n",
      "cir.draw()\n",
      "rec.draw()\n",
      "tri.draw()"
     ],
     "language": "python",
     "metadata": {},
     "outputs": [],
     "prompt_number": 6
    },
    {
     "cell_type": "heading",
     "level": 2,
     "metadata": {},
     "source": [
      "Example 9.7, Page Number 397"
     ]
    },
    {
     "cell_type": "code",
     "collapsed": false,
     "input": [
      "class A:                                    #base class\n",
      "    __privdataA = None                      #private variable\n",
      "    _protdataA = None                       #protected variable\n",
      "    pubdataA = None                         #public variable\n",
      "    \n",
      "class B(A):\n",
      "    def funct(self):\n",
      "        a = self.__privdataA\n",
      "        a = self._protdataA\n",
      "        a = self.pubdataA\n",
      "        \n",
      "class C(A):\n",
      "    def funct(self):\n",
      "        a = self.__privdataA\n",
      "        a = self._protdataA\n",
      "        a = self._pubdataA\n",
      "        \n",
      "        \n",
      "        \n",
      "objB = B()\n",
      "#a = objB.privdataA                 #not accesible because private variable\n",
      "#a = objB.protdataA                 #not accesible because protected variable\n",
      "a = objB.pubdataA\n",
      "\n",
      "objC = C()\n",
      "#a = objC.privdataA                 #not accesible because private variable\n",
      "#a = objC.protdataA                 #not accesible because protected variable\n",
      "a = objC.pubdataA            #In python, there is no concept of public or private inheritance so this line won't show any arror"
     ],
     "language": "python",
     "metadata": {},
     "outputs": [],
     "prompt_number": 7
    },
    {
     "cell_type": "heading",
     "level": 2,
     "metadata": {},
     "source": [
      "Example 9.8, Page Number 400"
     ]
    },
    {
     "cell_type": "code",
     "collapsed": false,
     "input": [
      "LEN = 80                                     #maximum length of names\n",
      "\n",
      "class employee:                                                #employee class\n",
      "    __name = [None]*LEN                                        #employee name\n",
      "    \n",
      "    def getdata(self):                                         #get data from user\n",
      "        self.__name = raw_input(\"   Enter last name: \")\n",
      "        self.__number = input(\"   Enter number: \")             #employee number\n",
      "        \n",
      "    def putdata(self):                                         #display data\n",
      "        print '   Name:',self.__name\n",
      "        print '   Number:',self.__number\n",
      "        \n",
      "        \n",
      "class manager(employee):                                       #management class\n",
      "    __title = [None]*LEN                                       #'vice-president' etc. \n",
      "    \n",
      "    def getdata(self):\n",
      "        employee.getdata(self)\n",
      "        self.__title = raw_input(\"   Enter Title: \")\n",
      "        self.__dues = input(\"   Enter golf club dues: \")       #golf club dues\n",
      "        \n",
      "    def putdata(self):\n",
      "        employee.putdata(self)\n",
      "        print '   Title:',self.__title\n",
      "        print '   Number:',self.__dues\n",
      "        \n",
      "        \n",
      "class scientist(employee):                                     #scientist class\n",
      "    def getdata(self):\n",
      "        employee.getdata(self)\n",
      "        self.__pubs = raw_input(\"   Enter Number of pubs: \")   #number of publication\n",
      "        \n",
      "    def putdata(self):\n",
      "        employee.putdata(self)\n",
      "        print '   Number of publications:',self.__pubs\n",
      "        \n",
      "        \n",
      "class laborer(employee):                                       #laborer class\n",
      "    pass\n",
      "\n",
      "\n",
      "class foreman(laborer):                                        #foreman class\n",
      "    def getdata(self): \n",
      "        laborer.getdata(self)\n",
      "        self.__quotas = raw_input(\"   Enter quotas: \")         #percent of quotes met successfully\n",
      "        \n",
      "    def putdata(self):\n",
      "        laborer.putdata(self)\n",
      "        print '   Quotas:',self.__quotas\n",
      "\n",
      "        \n",
      "        \n",
      "        \n",
      "l1 = laborer()\n",
      "f1 = foreman()\n",
      "                                              #get data for several employees\n",
      "print 'Enter data for laborer 1'\n",
      "l1.getdata()\n",
      "\n",
      "print 'Enter data for foreman 1'\n",
      "f1.getdata()\n",
      "\n",
      "                                              #display data for several employees\n",
      "print '\\nData on laborer 1'\n",
      "l1.putdata()\n",
      "\n",
      "print 'Data on foreman 1'\n",
      "f1.putdata()"
     ],
     "language": "python",
     "metadata": {},
     "outputs": [
      {
       "output_type": "stream",
       "stream": "stdout",
       "text": [
        "Enter data for laborer 1\n"
       ]
      },
      {
       "name": "stdout",
       "output_type": "stream",
       "stream": "stdout",
       "text": [
        "   Enter last name: Jones\n"
       ]
      },
      {
       "name": "stdout",
       "output_type": "stream",
       "stream": "stdout",
       "text": [
        "   Enter number: 6546544\n"
       ]
      },
      {
       "output_type": "stream",
       "stream": "stdout",
       "text": [
        "Enter data for foreman 1\n"
       ]
      },
      {
       "name": "stdout",
       "output_type": "stream",
       "stream": "stdout",
       "text": [
        "   Enter last name: Jones\n"
       ]
      },
      {
       "name": "stdout",
       "output_type": "stream",
       "stream": "stdout",
       "text": [
        "   Enter number: 6546544\n"
       ]
      },
      {
       "name": "stdout",
       "output_type": "stream",
       "stream": "stdout",
       "text": [
        "   Enter quotas: 100\n"
       ]
      },
      {
       "output_type": "stream",
       "stream": "stdout",
       "text": [
        "\n",
        "Data on laborer 1\n",
        "   Name: Jones\n",
        "   Number: 6546544\n",
        "Data on foreman 1\n",
        "   Name: Jones\n",
        "   Number: 6546544\n",
        "   Quotas: 100\n"
       ]
      }
     ],
     "prompt_number": 8
    },
    {
     "cell_type": "heading",
     "level": 2,
     "metadata": {},
     "source": [
      "Example 9.9, Page Number 405"
     ]
    },
    {
     "cell_type": "code",
     "collapsed": false,
     "input": [
      "LEN = 80                              #maximum length of names\n",
      "\n",
      "\n",
      "class student:                        #eduational background\n",
      "    __school = [None]*LEN             #name of school or university\n",
      "    __degree = [None]*LEN             #hightest degree earned\n",
      "    \n",
      "    def getedu(self):\n",
      "        self.__school = raw_input(\"   Enter name of school or university: \")\n",
      "        print '   Enter highest degree earned '\n",
      "        self.__degree = raw_input(\"   (Highschool, Bachelor\\'s, Master\\'s, PhD): \")\n",
      "        \n",
      "    def putedu(self):\n",
      "        print '   School or Uniersity:',self.__school\n",
      "        print '   Highest degree earned:',self.__degree\n",
      "        \n",
      "        \n",
      "class employee:                      #employee class\n",
      "    __name = [None]*LEN              #employee name\n",
      "    \n",
      "    def getdata(self):\n",
      "        self.__name = raw_input(\"   Enter last name: \")\n",
      "        self.__number = input(\"   Enter number: \")               #employee number\n",
      "        \n",
      "    def putdata(self):\n",
      "        print '   Name:',self.__name\n",
      "        print '   Number:',self.__number\n",
      "        \n",
      "        \n",
      "class manager(employee,student):              #management\n",
      "    __title = [None]*LEN                      #\"vice-precident\" etc.\n",
      "    \n",
      "    def getdata(self):\n",
      "        employee.getdata(self)\n",
      "        self.__title = raw_input(\"   Enter Title: \")\n",
      "        self.__dues = input(\"   Enter golf club dues: \")        #golf club dues\n",
      "        student.getedu(self)\n",
      "        \n",
      "    def putdata(self):\n",
      "        employee.putdata(self)\n",
      "        print '   Title:',self.__title\n",
      "        print '   Number:',self.__dues\n",
      "        student.putedu(self)\n",
      "        \n",
      "        \n",
      "class scientist(employee,student):            #scientist\n",
      "    def getdata(self):\n",
      "        employee.getdata(self)\n",
      "        self.__pubs = raw_input(\"   Enter Number of pubs: \")        #number of publications\n",
      "        student.getedu(self)\n",
      "        \n",
      "    def putdata(self):\n",
      "        employee.putdata(self)\n",
      "        print '   Number of publications:',self.__pubs\n",
      "        student.putedu(self)\n",
      "        \n",
      "        \n",
      "class laborer(employee):             #labrer\n",
      "    pass\n",
      "\n",
      "\n",
      "\n",
      "m1 = manager()\n",
      "s1 = scientist()\n",
      "s2 = scientist()\n",
      "l1 = laborer()\n",
      "\n",
      "                                                        #get data for several employee\n",
      "print '\\nEnter data for manager 1'\n",
      "m1.getdata()\n",
      "\n",
      "print '\\nEnter data for scientist 1'\n",
      "s1.getdata()\n",
      "\n",
      "print '\\nEnter data for scientist 2'\n",
      "s2.getdata()\n",
      "\n",
      "print '\\nEnter data for laborer 1'\n",
      "l1.getdata()\n",
      "\n",
      "                                                        #display data for several employee\n",
      "print '\\n\\nData on manager 1'\n",
      "m1.putdata()\n",
      "\n",
      "print '\\nData on scientist 1'\n",
      "s1.putdata()\n",
      "\n",
      "print '\\nData on scientist 2'\n",
      "s2.putdata()\n",
      "\n",
      "print '\\nData on laborer 1'\n",
      "l1.putdata()"
     ],
     "language": "python",
     "metadata": {},
     "outputs": [
      {
       "output_type": "stream",
       "stream": "stdout",
       "text": [
        "\n",
        "Enter data for manager 1\n"
       ]
      },
      {
       "name": "stdout",
       "output_type": "stream",
       "stream": "stdout",
       "text": [
        "   Enter last name: Bradley\n"
       ]
      },
      {
       "name": "stdout",
       "output_type": "stream",
       "stream": "stdout",
       "text": [
        "   Enter number: 12\n"
       ]
      },
      {
       "name": "stdout",
       "output_type": "stream",
       "stream": "stdout",
       "text": [
        "   Enter Title: Vice-President\n"
       ]
      },
      {
       "name": "stdout",
       "output_type": "stream",
       "stream": "stdout",
       "text": [
        "   Enter golf club dues: 100000\n"
       ]
      },
      {
       "name": "stdout",
       "output_type": "stream",
       "stream": "stdout",
       "text": [
        "   Enter name of school or university: Yale\n"
       ]
      },
      {
       "output_type": "stream",
       "stream": "stdout",
       "text": [
        "   Enter highest degree earned \n"
       ]
      },
      {
       "name": "stdout",
       "output_type": "stream",
       "stream": "stdout",
       "text": [
        "   (Highschool, Bachelor's, Master's, PhD): Bachelor's\n"
       ]
      },
      {
       "output_type": "stream",
       "stream": "stdout",
       "text": [
        "\n",
        "Enter data for scientist 1\n"
       ]
      },
      {
       "name": "stdout",
       "output_type": "stream",
       "stream": "stdout",
       "text": [
        "   Enter last name: Twilling\n"
       ]
      },
      {
       "name": "stdout",
       "output_type": "stream",
       "stream": "stdout",
       "text": [
        "   Enter number: 764\n"
       ]
      },
      {
       "name": "stdout",
       "output_type": "stream",
       "stream": "stdout",
       "text": [
        "   Enter Number of pubs: 99\n"
       ]
      },
      {
       "name": "stdout",
       "output_type": "stream",
       "stream": "stdout",
       "text": [
        "   Enter name of school or university: MIT\n"
       ]
      },
      {
       "output_type": "stream",
       "stream": "stdout",
       "text": [
        "   Enter highest degree earned \n"
       ]
      },
      {
       "name": "stdout",
       "output_type": "stream",
       "stream": "stdout",
       "text": [
        "   (Highschool, Bachelor's, Master's, PhD): PhD\n"
       ]
      },
      {
       "output_type": "stream",
       "stream": "stdout",
       "text": [
        "\n",
        "Enter data for scientist 2\n"
       ]
      },
      {
       "name": "stdout",
       "output_type": "stream",
       "stream": "stdout",
       "text": [
        "   Enter last name: Yang\n"
       ]
      },
      {
       "name": "stdout",
       "output_type": "stream",
       "stream": "stdout",
       "text": [
        "   Enter number: 845\n"
       ]
      },
      {
       "name": "stdout",
       "output_type": "stream",
       "stream": "stdout",
       "text": [
        "   Enter Number of pubs: 101\n"
       ]
      },
      {
       "name": "stdout",
       "output_type": "stream",
       "stream": "stdout",
       "text": [
        "   Enter name of school or university: Stanford\n"
       ]
      },
      {
       "output_type": "stream",
       "stream": "stdout",
       "text": [
        "   Enter highest degree earned \n"
       ]
      },
      {
       "name": "stdout",
       "output_type": "stream",
       "stream": "stdout",
       "text": [
        "   (Highschool, Bachelor's, Master's, PhD): Master's\n"
       ]
      },
      {
       "output_type": "stream",
       "stream": "stdout",
       "text": [
        "\n",
        "Enter data for laborer 1\n"
       ]
      },
      {
       "name": "stdout",
       "output_type": "stream",
       "stream": "stdout",
       "text": [
        "   Enter last name: Jones\n"
       ]
      },
      {
       "name": "stdout",
       "output_type": "stream",
       "stream": "stdout",
       "text": [
        "   Enter number: 48323\n"
       ]
      },
      {
       "output_type": "stream",
       "stream": "stdout",
       "text": [
        "\n",
        "\n",
        "Data on manager 1\n",
        "   Name: Bradley\n",
        "   Number: 12\n",
        "   Title: Vice-President\n",
        "   Number: 100000\n",
        "   School or Uniersity: Yale\n",
        "   Highest degree earned: Bachelor's\n",
        "\n",
        "Data on scientist 1\n",
        "   Name: Twilling\n",
        "   Number: 764\n",
        "   Number of publications: 99\n",
        "   School or Uniersity: MIT\n",
        "   Highest degree earned: PhD\n",
        "\n",
        "Data on scientist 2\n",
        "   Name: Yang\n",
        "   Number: 845\n",
        "   Number of publications: 101\n",
        "   School or Uniersity: Stanford\n",
        "   Highest degree earned: Master's\n",
        "\n",
        "Data on laborer 1\n",
        "   Name: Jones\n",
        "   Number: 48323\n"
       ]
      }
     ],
     "prompt_number": 9
    },
    {
     "cell_type": "heading",
     "level": 2,
     "metadata": {},
     "source": [
      "Example 9.10, Page Number 409"
     ]
    },
    {
     "cell_type": "code",
     "collapsed": false,
     "input": [
      "class Type:                                         #type of lumber\n",
      "    \n",
      "    def __init__(self,di = \"N/A\",gr = \"N/A\"):       #constructor\n",
      "        self.__dimensions = di\n",
      "        self.__grade = gr\n",
      "        \n",
      "    def gettype(self):                              #get type from user\n",
      "        self.__dimensions = raw_input(\"   Enter nominal dimensions (2x4 etc.): \")\n",
      "        self.__grade = raw_input(\"   Enter grade (rough, const, etc.): \")\n",
      "        \n",
      "    def showtype(self):                             #display type\n",
      "        print '   Dimensions:',self.__dimensions\n",
      "        print '   Grade:',self.__grade\n",
      "        \n",
      "        \n",
      "class Distance:                                     #Distance class\n",
      "    \n",
      "    def __init__(self,ft=0,inc=0.0):                #constructor\n",
      "        self.__feet = ft\n",
      "        self.__inches = inc\n",
      "         \n",
      "    def getdist(self):                              #get length from user\n",
      "        self.__feet = input(\"   Enter feet: \")\n",
      "        self.__inches = input(\"   Enter inches: \")\n",
      "        \n",
      "    def showdist(self):                             #display distance\n",
      "        print self.__feet , '\\' -' , self.__inches , '\\\"'\n",
      "         \n",
      "class Lumber(Type,Distance):\n",
      "    \n",
      "    def __init__(self,di=None,gr=None,ft=0,inc=0.0,qu=0,prc=0.0):            #constructor\n",
      "        \n",
      "        Type.__init__(self,di,gr)                   #call type constructor\n",
      "        Distance.__init__(self,ft,inc)              #call Distance constructor\n",
      "        \n",
      "        self.__quantity = qu                        #number of pieces\n",
      "        self.__price = prc                          #price of each piece\n",
      "        \n",
      "        \n",
      "    def getlumber(self):\n",
      "        Type.gettype(self)\n",
      "        Distance.getdist(self)\n",
      "        \n",
      "        self.__quantity = input(\"   Enter quantity: \")\n",
      "        self.__price = input(\"   Enter price per piece: \")\n",
      "        \n",
      "        \n",
      "    def showlumber(self):\n",
      "        Type.showtype(self)\n",
      "        print '   Length: ',\n",
      "        Distance.showdist(self)\n",
      "        print '   price for',self.__quantity,'pieces: $',self.__price*self.__quantity\n",
      "        \n",
      "        \n",
      "        \n",
      "        \n",
      "siding = Lumber()             #constructor with no argument\n",
      "\n",
      "print 'Siding data:'\n",
      "siding.getlumber()                               #get siding from user\n",
      "\n",
      "studs = Lumber(\"2x4\",\"const\",8,0.0,200,4.5)      #constructor with 6 arguments\n",
      "\n",
      "print '\\nSiding'              #display lumber data\n",
      "siding.showlumber()\n",
      "print 'studs'\n",
      "studs.showlumber()"
     ],
     "language": "python",
     "metadata": {},
     "outputs": [
      {
       "output_type": "stream",
       "stream": "stdout",
       "text": [
        "Siding data:\n"
       ]
      },
      {
       "name": "stdout",
       "output_type": "stream",
       "stream": "stdout",
       "text": [
        "   Enter nominal dimensions (2x4 etc.): 3x4\n"
       ]
      },
      {
       "name": "stdout",
       "output_type": "stream",
       "stream": "stdout",
       "text": [
        "   Enter grade (rough, const, etc.): rough\n"
       ]
      },
      {
       "name": "stdout",
       "output_type": "stream",
       "stream": "stdout",
       "text": [
        "   Enter feet: 5\n"
       ]
      },
      {
       "name": "stdout",
       "output_type": "stream",
       "stream": "stdout",
       "text": [
        "   Enter inches: 6.5\n"
       ]
      },
      {
       "name": "stdout",
       "output_type": "stream",
       "stream": "stdout",
       "text": [
        "   Enter quantity: 300\n"
       ]
      },
      {
       "name": "stdout",
       "output_type": "stream",
       "stream": "stdout",
       "text": [
        "   Enter price per piece: 19.5\n"
       ]
      },
      {
       "output_type": "stream",
       "stream": "stdout",
       "text": [
        "\n",
        "Siding\n",
        "   Dimensions: 3x4\n",
        "   Grade: rough\n",
        "   Length:  5 ' - 6.5 \"\n",
        "   price for 300 pieces: $ 5850.0\n",
        "studs\n",
        "   Dimensions: 2x4\n",
        "   Grade: const\n",
        "   Length:  8 ' - 0.0 \"\n",
        "   price for 200 pieces: $ 900.0\n"
       ]
      }
     ],
     "prompt_number": 10
    },
    {
     "cell_type": "heading",
     "level": 2,
     "metadata": {},
     "source": [
      "Example 9.11, Page Number 413"
     ]
    },
    {
     "cell_type": "code",
     "collapsed": false,
     "input": [
      "class A:\n",
      "    def show(self):\n",
      "        print 'Class A'\n",
      "        \n",
      "class B:\n",
      "    def show(self):\n",
      "        print 'Class B'\n",
      "        \n",
      "class C(A,B):\n",
      "    pass\n",
      "\n",
      "\n",
      "\n",
      "objC = C()            #object of class C\n",
      "#objC.show()          \n",
      "A().show()            \n",
      "B().show()"
     ],
     "language": "python",
     "metadata": {},
     "outputs": [
      {
       "output_type": "stream",
       "stream": "stdout",
       "text": [
        "Class A\n",
        "Class B\n"
       ]
      }
     ],
     "prompt_number": 11
    },
    {
     "cell_type": "heading",
     "level": 2,
     "metadata": {},
     "source": [
      "Example 9.12, Page Number 414"
     ]
    },
    {
     "cell_type": "code",
     "collapsed": false,
     "input": [
      "class A:\n",
      "    def func(self):\n",
      "        pass\n",
      "    \n",
      "class B(A):\n",
      "    pass\n",
      "class C(A):\n",
      "    pass\n",
      "class D(B,C):\n",
      "    pass\n",
      "\n",
      "\n",
      "\n",
      "objD = D()\n",
      "#objD.func()"
     ],
     "language": "python",
     "metadata": {},
     "outputs": [],
     "prompt_number": 12
    },
    {
     "cell_type": "heading",
     "level": 2,
     "metadata": {},
     "source": [
      "Example 9.13, Page Number 417"
     ]
    },
    {
     "cell_type": "code",
     "collapsed": false,
     "input": [
      "class student:                        #educational background\n",
      "    \n",
      "    def getedu(self):\n",
      "        self.__school = raw_input(\"   Enter name of school or university: \")                #name of school or university\n",
      "        print '   Enter highest degree earned '\n",
      "        self.__degree = raw_input(\"   (Highschool, Bachelor\\'s, Master\\'s, PhD): \")         #heighest degree earned\n",
      "        \n",
      "    def putedu(self):\n",
      "        print '   School or Uniersity:',self.__school\n",
      "        print '   Highest degree earned:',self.__degree\n",
      "        \n",
      "        \n",
      "class employee:\n",
      "    \n",
      "    def getdata(self):\n",
      "        self.__name = raw_input(\"   Enter last name: \")              #employee name\n",
      "        self.__number = input(\"   Enter number: \")                   #employee number\n",
      "         \n",
      "    def putdata(self):\n",
      "        print '   Name:',self.__name\n",
      "        print '   Number:',self.__number\n",
      "        \n",
      "        \n",
      "class manager:                          #management\n",
      "    \n",
      "    __emp = employee()                  #object of class employee\n",
      "    __stu = student()                   #object of class student\n",
      "    \n",
      "    def getdata(self):\n",
      "        self.__emp.getdata()\n",
      "        self.__title = raw_input(\"   Enter Title: \")                 #\"vice-president\" etc.\n",
      "        self.__dues = input(\"   Enter golf club dues: \")             #golf club dues\n",
      "        self.__stu.getedu()\n",
      "        \n",
      "    def putdata(self):\n",
      "        self.__emp.putdata()\n",
      "        print '   Title:',self.__title\n",
      "        print '   Number:',self.__dues\n",
      "        self.__stu.putedu()\n",
      "        \n",
      "        \n",
      "class scientist:                        #scientist\n",
      "    \n",
      "    __emp = employee()                  #object of class employee\n",
      "    __stu = student()                   #object of class student\n",
      "    \n",
      "    def getdata(self):\n",
      "        self.__emp.getdata()\n",
      "        self.__pubs = raw_input(\"   Enter Number of pubs: \")         #number of publications\n",
      "        self.__stu.getedu()\n",
      "        \n",
      "    def putdata(self):\n",
      "        self.__emp.putdata()\n",
      "        print '   Number of publications:',self.__pubs\n",
      "        self.__stu.putedu()\n",
      "         \n",
      "            \n",
      "class laborer:                          #laborer\n",
      "    \n",
      "    __emp = employee()                  #object of class employee\n",
      "    \n",
      "    def getdata(self):\n",
      "        self.__emp.getdata()\n",
      "    def putdata(self):\n",
      "        self.__emp.putdata()\n",
      "        \n",
      "        \n",
      "\n",
      "m1 = manager()\n",
      "s1 = scientist()\n",
      "s2 = scientist()\n",
      "l1 = laborer()\n",
      "\n",
      "                                                        #get data for several employee\n",
      "print '\\nEnter data for manager 1'\n",
      "m1.getdata()\n",
      "\n",
      "print '\\nEnter data for scientist 1'\n",
      "s1.getdata()\n",
      "\n",
      "print '\\nEnter data for scientist 2'\n",
      "s2.getdata()\n",
      "\n",
      "print '\\nEnter data for laborer 1'\n",
      "l1.getdata()\n",
      "\n",
      "                                                        #display data for several employee\n",
      "print '\\n\\nData on manager 1'\n",
      "m1.putdata()\n",
      "\n",
      "print '\\nData on scientist 1'\n",
      "s1.putdata()\n",
      "\n",
      "print '\\nData on scientist 2'\n",
      "s2.putdata()\n",
      "\n",
      "print '\\nData on laborer 1'\n",
      "l1.putdata()"
     ],
     "language": "python",
     "metadata": {},
     "outputs": [
      {
       "output_type": "stream",
       "stream": "stdout",
       "text": [
        "\n",
        "Enter data for manager 1\n"
       ]
      },
      {
       "name": "stdout",
       "output_type": "stream",
       "stream": "stdout",
       "text": [
        "   Enter last name: Bradley\n"
       ]
      },
      {
       "name": "stdout",
       "output_type": "stream",
       "stream": "stdout",
       "text": [
        "   Enter number: 12\n"
       ]
      },
      {
       "name": "stdout",
       "output_type": "stream",
       "stream": "stdout",
       "text": [
        "   Enter Title: Vice-President\n"
       ]
      },
      {
       "name": "stdout",
       "output_type": "stream",
       "stream": "stdout",
       "text": [
        "   Enter golf club dues: 100000\n"
       ]
      },
      {
       "name": "stdout",
       "output_type": "stream",
       "stream": "stdout",
       "text": [
        "   Enter name of school or university: Yale\n"
       ]
      },
      {
       "output_type": "stream",
       "stream": "stdout",
       "text": [
        "   Enter highest degree earned \n"
       ]
      },
      {
       "name": "stdout",
       "output_type": "stream",
       "stream": "stdout",
       "text": [
        "   (Highschool, Bachelor's, Master's, PhD): Bachelor's\n"
       ]
      },
      {
       "output_type": "stream",
       "stream": "stdout",
       "text": [
        "\n",
        "Enter data for scientist 1\n"
       ]
      },
      {
       "name": "stdout",
       "output_type": "stream",
       "stream": "stdout",
       "text": [
        "   Enter last name: Twilling\n"
       ]
      },
      {
       "name": "stdout",
       "output_type": "stream",
       "stream": "stdout",
       "text": [
        "   Enter number: 764\n"
       ]
      },
      {
       "name": "stdout",
       "output_type": "stream",
       "stream": "stdout",
       "text": [
        "   Enter Number of pubs: 99\n"
       ]
      },
      {
       "name": "stdout",
       "output_type": "stream",
       "stream": "stdout",
       "text": [
        "   Enter name of school or university: MIT\n"
       ]
      },
      {
       "output_type": "stream",
       "stream": "stdout",
       "text": [
        "   Enter highest degree earned \n"
       ]
      },
      {
       "name": "stdout",
       "output_type": "stream",
       "stream": "stdout",
       "text": [
        "   (Highschool, Bachelor's, Master's, PhD): PhD\n"
       ]
      },
      {
       "output_type": "stream",
       "stream": "stdout",
       "text": [
        "\n",
        "Enter data for scientist 2\n"
       ]
      },
      {
       "name": "stdout",
       "output_type": "stream",
       "stream": "stdout",
       "text": [
        "   Enter last name: Yang\n"
       ]
      },
      {
       "name": "stdout",
       "output_type": "stream",
       "stream": "stdout",
       "text": [
        "   Enter number: 845\n"
       ]
      },
      {
       "name": "stdout",
       "output_type": "stream",
       "stream": "stdout",
       "text": [
        "   Enter Number of pubs: 101\n"
       ]
      },
      {
       "name": "stdout",
       "output_type": "stream",
       "stream": "stdout",
       "text": [
        "   Enter name of school or university: Stanford\n"
       ]
      },
      {
       "output_type": "stream",
       "stream": "stdout",
       "text": [
        "   Enter highest degree earned \n"
       ]
      },
      {
       "name": "stdout",
       "output_type": "stream",
       "stream": "stdout",
       "text": [
        "   (Highschool, Bachelor's, Master's, PhD): master's\n"
       ]
      },
      {
       "output_type": "stream",
       "stream": "stdout",
       "text": [
        "\n",
        "Enter data for laborer 1\n"
       ]
      },
      {
       "name": "stdout",
       "output_type": "stream",
       "stream": "stdout",
       "text": [
        "   Enter last name: Jones\n"
       ]
      },
      {
       "name": "stdout",
       "output_type": "stream",
       "stream": "stdout",
       "text": [
        "   Enter number: 48323\n"
       ]
      },
      {
       "output_type": "stream",
       "stream": "stdout",
       "text": [
        "\n",
        "\n",
        "Data on manager 1\n",
        "   Name: Bradley\n",
        "   Number: 12\n",
        "   Title: Vice-President\n",
        "   Number: 100000\n",
        "   School or Uniersity: Yale\n",
        "   Highest degree earned: Bachelor's\n",
        "\n",
        "Data on scientist 1\n",
        "   Name: Yang\n",
        "   Number: 845\n",
        "   Number of publications: 99\n",
        "   School or Uniersity: Stanford\n",
        "   Highest degree earned: master's\n",
        "\n",
        "Data on scientist 2\n",
        "   Name: Yang\n",
        "   Number: 845\n",
        "   Number of publications: 101\n",
        "   School or Uniersity: Stanford\n",
        "   Highest degree earned: master's\n",
        "\n",
        "Data on laborer 1\n",
        "   Name: Jones\n",
        "   Number: 48323\n"
       ]
      }
     ],
     "prompt_number": 13
    },
    {
     "cell_type": "code",
     "collapsed": false,
     "input": [],
     "language": "python",
     "metadata": {},
     "outputs": []
    }
   ],
   "metadata": {}
  }
 ]
}