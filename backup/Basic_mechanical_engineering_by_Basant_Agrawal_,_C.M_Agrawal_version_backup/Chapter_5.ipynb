{
 "metadata": {
  "name": "Chapter 5 Metrology"
 },
 "nbformat": 3,
 "nbformat_minor": 0,
 "worksheets": [
  {
   "cells": [
    {
     "cell_type": "heading",
     "level": 1,
     "metadata": {},
     "source": "Chapter 5 Metrology"
    },
    {
     "cell_type": "heading",
     "level": 2,
     "metadata": {},
     "source": "Example 1 Page No:81"
    },
    {
     "cell_type": "code",
     "collapsed": false,
     "input": "#Input data\nMSR=3.2          #Main scale reading of cylindrical rod in cm\nNCD=7            #Number of coinciding Vernier Scale division \nLc=0.1*10**-3    #Least count of the instrument in mm\n\n#Calculation\nDOR=MSR+(NCD*Lc) #Diameter of the rod\n\n#Output\nprint(\"Diameter of the rod= \",round(DOR,3),\"cm\")\n\n",
     "language": "python",
     "metadata": {},
     "outputs": [
      {
       "output_type": "stream",
       "stream": "stdout",
       "text": "Diameter of the rod=  3.201 cm\n"
      }
     ],
     "prompt_number": 19
    },
    {
     "cell_type": "heading",
     "level": 2,
     "metadata": {},
     "source": "Example 2 Page No:82"
    },
    {
     "cell_type": "code",
     "collapsed": false,
     "input": "#Input data\nMSR=5.3             #Main scale reading of prismatic bar in cm\nNCD=6               #Number of coinciding Vernier Scale division \nLc=0.1*10**-3       #Least count of the instrument in mm \nNe=(-0.2*10**-3)    #Instrument bears a nagative error in mm\n\n#Calulation\nMlb=MSR+(NCD*Lc)    #Measured length of the bar in cm\nTlb=(Mlb-(Ne))      #True length of the bar in cm\n\n\n#Output\nprint(\"Measured length of the bar= \",round(Mlb,3),\"cm\")\nprint(\"true length of the bar= \",round(Tlb,3),\"cm\")\n\n\n",
     "language": "python",
     "metadata": {},
     "outputs": [
      {
       "output_type": "stream",
       "stream": "stdout",
       "text": "Measured length of the bar=  5.301 cm\ntrue length of the bar=  5.301 cm\n"
      }
     ],
     "prompt_number": 20
    },
    {
     "cell_type": "heading",
     "level": 2,
     "metadata": {},
     "source": "Example 3 Page No:88 "
    },
    {
     "cell_type": "code",
     "collapsed": false,
     "input": "#Input data\nimport math\nL=100         #Height of sine bar\ntheta=12.8    #angle in degree minut\n#Z=sin(theta)=0.22154849\nZ=0.22154849\n\n#Calculation\nb=Z*L         #Height required to setup in mm\n\n\n#Output\nprint(\"Height required=\",round(b,4),\"mm\")\n    ",
     "language": "python",
     "metadata": {},
     "outputs": [
      {
       "output_type": "stream",
       "stream": "stdout",
       "text": "Height required= 22.1548 mm\n"
      }
     ],
     "prompt_number": 18
    }
   ],
   "metadata": {}
  }
 ]
}