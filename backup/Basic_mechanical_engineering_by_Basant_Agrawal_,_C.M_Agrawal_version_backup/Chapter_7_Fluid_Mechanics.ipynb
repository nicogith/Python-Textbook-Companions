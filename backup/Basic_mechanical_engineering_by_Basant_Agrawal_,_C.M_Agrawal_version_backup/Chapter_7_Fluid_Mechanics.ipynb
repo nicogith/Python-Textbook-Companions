{
 "metadata": {
  "name": "Chapter 7 Fluid Mechanics"
 },
 "nbformat": 3,
 "nbformat_minor": 0,
 "worksheets": [
  {
   "cells": [
    {
     "cell_type": "heading",
     "level": 1,
     "metadata": {},
     "source": "Chapter 7 Fluid Mechanics"
    },
    {
     "cell_type": "heading",
     "level": 2,
     "metadata": {},
     "source": "Example 1 Page No:113"
    },
    {
     "cell_type": "code",
     "collapsed": false,
     "input": "#Input data\nV=5            #volume of the liquid in m**3\nW=45*10**3     #weight of the liquid in KN\ng=9.81         #acceleration due to gravity in m/s**2\nrhow=1000      #constant value\n\n#Calculation\nm=((W)/(g))    #mass in Kg\nrho=(m/V)      #Mass density in kg/m**3\nw=(W/V)        #Weight Density in N/m**3\nv=(V/m)        #Specific volume in m**3/kg\nS=rho/rhow     #Specific gravity\n \n    \n#Output\nprint(\"mass= \",round(m,2),\"Kg\")\nprint(\"Mass density= \",round(rho,2),\"kg/m**3\")\nprint(\"Weight Density= \",w,\"N/m**3\")\nprint(\"Specific volume= \",v,\"m**3/kg\")\nprint(\"Specific gravity= \",round(S,4),)\n\n\n",
     "language": "python",
     "metadata": {},
     "outputs": [
      {
       "output_type": "stream",
       "stream": "stdout",
       "text": "mass=  4587.16 Kg\nMass density=  917.43 kg/m**3\nWeight Density=  9000.0 N/m**3\nSpecific volume=  0.00109 m**3/kg\nSpecific gravity=  0.9174\n"
      }
     ],
     "prompt_number": 1
    },
    {
     "cell_type": "heading",
     "level": 2,
     "metadata": {},
     "source": "Example 2 Page No:114"
    },
    {
     "cell_type": "code",
     "collapsed": false,
     "input": "#Input data\nV=3*10**-3      #3l of oil in m**3\nW=24            #Weight of oil in N\ng=9.81          #Gravity in m/s**2\nrohw=1000       #Constant value\n\n\n#Calculation\nm=((W)/(g))     #Mass in Kg\nrho=(m/V)       #Mass density in kg/m**3\nw=(W/V)         #Weight Density in N/m**3\nv=(V/m)         #Specific volume in m**3/kg\nS=rho/rhow      #Specific gravity\n \n#Output\nprint(\"mass= \",round(m,3),\"Kg\")\nprint(\"Mass density= \",round(rho,1),\"kg/m**3\")\nprint(\"Weight Density= \",w,\"N/m**3\")\nprint(\"Specific volume= \",round(v,7),\"m**3/kg\")\nprint(\"Specific gravity= \",round(S,4),)\n\n\n ",
     "language": "python",
     "metadata": {},
     "outputs": [
      {
       "output_type": "stream",
       "stream": "stdout",
       "text": "mass=  2.446 Kg\nMass density=  815.5 kg/m**3\nWeight Density=  8000.0 N/m**3\nSpecific volume=  0.0012263 m**3/kg\nSpecific gravity=  0.8155\n"
      }
     ],
     "prompt_number": 2
    },
    {
     "cell_type": "heading",
     "level": 2,
     "metadata": {},
     "source": "Example 3 Page No:114"
    },
    {
     "cell_type": "code",
     "collapsed": false,
     "input": "#Input data\nS=0.85             #Specific gravity of a liquid\ng=9.81             #Acceleration due to gravity in m/s**2(constant)\nrhow=1000          #Constant value\n\n\n#Calculation\n#Specific gravity S=roh/rohw \nrho=S*rhow         #Mass density in Kg/m**3\nw=rho*g            #Weight Density in N/m**3\nv=(1/rho)          #Specific volume in m**3/kg\n\n\n#Output\nprint(\"Mass densit=  \",rho,\"Kg/m**3\")\nprint(\"Weight Density= \",w,\"N/m**3\")\nprint(\"Specific volume= \",round(v,6),\"m**3/kg\")\n\n\n",
     "language": "python",
     "metadata": {},
     "outputs": [
      {
       "output_type": "stream",
       "stream": "stdout",
       "text": "Mass densit=   850.0 Kg/m**3\nWeight Density=  8338.5 N/m**3\nSpecific volume=  0.001176 m**3/kg\n"
      }
     ],
     "prompt_number": 3
    },
    {
     "cell_type": "heading",
     "level": 2,
     "metadata": {},
     "source": "Example 4 Page No:116"
    },
    {
     "cell_type": "code",
     "collapsed": false,
     "input": "#Input data\ndy=21*10**-3      #Horizontal plates in mm\ndu=1.4            #Relative velocity between the plates in m/s\nmu=0.6            #Oil of viscosity 6 poise in Ns/m**2\n\n#Calculation\ntau=(mu*(du/dy))  #Shear in the oil in N/m**2\n\n#Output\nprint(\"shear in the oil= \",round(tau,),\"N/m**2\")\n",
     "language": "python",
     "metadata": {},
     "outputs": [
      {
       "output_type": "stream",
       "stream": "stdout",
       "text": "shear in the oil=  40 N/m**2\n"
      }
     ],
     "prompt_number": 4
    },
    {
     "cell_type": "heading",
     "level": 2,
     "metadata": {},
     "source": "Example 5 Page No:116"
    },
    {
     "cell_type": "code",
     "collapsed": false,
     "input": "#Input data\nv=4*10**-4    #kinematic viscosity is 4 stoke inm**2/s\nS=1.2         #specific gravity\ndow=1000      #density of water Kg/m**3\n\n\n#Calculation\nrho=S*dow     \nvol=rho*v     #viscosity of the liquid in Ns/m**2 or poise\n\n#Output\nprint(\"viscosity of the liquid= \",round(vol,2),\"Ns/m**2 \")",
     "language": "python",
     "metadata": {},
     "outputs": [
      {
       "output_type": "stream",
       "stream": "stdout",
       "text": "viscosity of the liquid=  0.48 Ns/m**2 \n"
      }
     ],
     "prompt_number": 5
    },
    {
     "cell_type": "heading",
     "level": 2,
     "metadata": {},
     "source": "Example 6 Page No:6"
    },
    {
     "cell_type": "code",
     "collapsed": false,
     "input": "#Input data\nS=0.9          #Specific gravity\ntau=2.4        #shear stress in N/m**2\n(vg)=0.125     #velocitty gradientin per s\ndow=1000       #density of water Kg/m**3\n\n\n#Calculation\nmu=(tau)/(vg)  #newton's law of viscosity in shear stress in Ns/m**2\nrho=S*dow      #Density of oil in Kg/m**3\nv=(mu/rho)     #Kinematic viscosity in m**2/s or stoke\n\n#Output\nprint(\"newton's law of viscosity in shear stress= \",mu,\"Ns/m**2\")\nprint(\"Density of oil= \",rho,\"Kg/m**3\")\nprint(\"Kinematic viscosity= \",round(v,5),\"m**2/s or stoke\")\n",
     "language": "python",
     "metadata": {},
     "outputs": [
      {
       "output_type": "stream",
       "stream": "stdout",
       "text": "newton's law of viscosity in shear stress=  19.2 Ns/m**2\nDensity of oil=  900.0 Kg/m**3\nKinematic viscosity=  0.02133 m**2/s or stoke\n"
      }
     ],
     "prompt_number": 6
    },
    {
     "cell_type": "heading",
     "level": 2,
     "metadata": {},
     "source": "Example 7 Page No:117"
    },
    {
     "cell_type": "code",
     "collapsed": false,
     "input": "#Input data\nA=6*10**-2           #Space between two square plates in mm\ndy=8*10**-3          #Thickness of fluid in mm\nu1=0                 #Lower pate is stationary\nu2=2.4               #Upper plate in m/s\nF=5                  #Speed of force in N\ns=1.6                #Specific gravity of the liquid\ndow=1000             #Density of water Kg/m**3\n\n\n#(1)Calculation\ndu=u2-u1             #change in velocity in m/s\ntau=(F/((A)**2))     #shear stress N/m**2\nmu=(tau/(du/dy))     #Newton's law of viscosity in Ns/m**2 or poise\nrho=s*dow            #Density of oil in kg/m**3\nv=(mu/rho)           #kinematic viscosity is given by m**2/s or stoke\n\n\n#Output\nprint(\"change in velocity= \",du,\"m/s\")\nprint(\"shear stress=  \",round(tau,2),\"N/m**2\")\nprint(\"Newton's law of viscosity=  \",round(mu,1),\"Ns/m**2 \")\nprint(\"Density of oil= \",rho,\" kg/m**3\")\nprint(\"kinematic viscosity= \",round(v,4),\"m**2/s \")\n\n\n",
     "language": "python",
     "metadata": {},
     "outputs": [
      {
       "output_type": "stream",
       "stream": "stdout",
       "text": "change in velocity=  2.4 m/s\nshear stress=   1388.89 N/m**2\nNewton's law of viscosity=   4.6 Ns/m**2 \nDensity of oil=  1600.0  kg/m**3\nkinematic viscosity=  0.0029 m**2/s \n"
      }
     ],
     "prompt_number": 7
    },
    {
     "cell_type": "heading",
     "level": 2,
     "metadata": {},
     "source": "Example 8 Page No:118"
    },
    {
     "cell_type": "code",
     "collapsed": false,
     "input": "#Input data\ndy=1.5*10**-4      #Two horizontal plates are placed in m\nmu=0.12            #Space between plates  Ns/m**2\nA=2.5              #Upper area is required to move in m**2\ndu=0.6             #Speed rerlated to lower plate in m/s\n\n\n#(1)Calculation\ntau=(mu*(du/dy))   #Shear stress N/m**2\nF=tau*A            #Force in N\nP=F*du             #Power required to maintain the speed of upper plate in W\n\n\n#Output \nprint(\"Shear stress= \",round(tau,),\"N/m**2\")\nprint(\"Force= \",round(F,),\"N\")\nprint(\"Power required to maintain the speed of upper plate= \",round(P,),\"W\")\n",
     "language": "python",
     "metadata": {},
     "outputs": [
      {
       "output_type": "stream",
       "stream": "stdout",
       "text": "Shear stress=  480 N/m**2\nForce=  1200 N\nPower required to maintain the speed of upper plate=  720 W\n"
      }
     ],
     "prompt_number": 8
    },
    {
     "cell_type": "heading",
     "level": 2,
     "metadata": {},
     "source": "Example 9 Page No 118"
    },
    {
     "cell_type": "code",
     "collapsed": false,
     "input": "#Input data \nmu=0.1                 #Oil of viscosity used for lubricant in poise or Ns/m**2\nD=0.15                 #Clearance between the shaft of diameter in m\ndy=3*10**-4            #Clearance in m\nN=90                   #Shaft rorates in rpm\npi=3.14\n\n\n#Calculation\ndu=((pi*D*N)/60)       #Tangential speed of shaft in m/s\ntau=(mu*(du/dy))       #The shear force in N/m**2\n\n#Output\nprint(\"Tangential speed of shaft= \",du,\"m/s\")\nprint(\"The shear force= \",tau,\"N/m**2\")\n\n\n\n",
     "language": "python",
     "metadata": {},
     "outputs": [
      {
       "output_type": "stream",
       "stream": "stdout",
       "text": "Tangential speed of shaft=  0.7065 m/s\nThe shear force=  235.5 N/m**2\n"
      }
     ],
     "prompt_number": 9
    },
    {
     "cell_type": "heading",
     "level": 2,
     "metadata": {},
     "source": "Example 10 Page No:119"
    },
    {
     "cell_type": "code",
     "collapsed": false,
     "input": "#Input data\nimport math\nA=120*10**-3        #Side of square plate in mm\nW=30                #Side weight in N\ndu=3.75             #Uniform velocity in m/s\ntheta=30            #Lubricated inclined plane making an angle in degree at horizontal\ndy=6*10**-3         #Thickness lubricating oil film in mm\nrho=800             #Lubricating oil film density in Kg/m**3\n\n\n#Calculation\nsin30=0.5                    \nF=W*sin30            #Component of force in N\ntau=(F/(A**2))       #Shear stress in Ns/m**2 \nmu=(tau/(du/dy))     #From Newton's law of Shear stress in Ns/m**2 \nV=(mu/rho)*10**3     #Kinematic viscosity in m**2/s\n\n\n#Output\nprint(\"Component of force= \",F,\"N\")\nprint(\"Shear stress= \",round(tau,2),\" Ns/m**2 \")\nprint(\"From Newton's law of Shear stress= \",round(mu,3),\"Ns/m**2\")\nprint(\"Kinematic viscosity= \",round(V,3),\"m**2/s\")\n",
     "language": "python",
     "metadata": {},
     "outputs": [
      {
       "output_type": "stream",
       "stream": "stdout",
       "text": "Component of force=  15.0 N\nShear stress=  1041.67  Ns/m**2 \nFrom Newton's law of Shear stress=  1.667 Ns/m**2\nKinematic viscosity=  2.083 m**2/s\n"
      }
     ],
     "prompt_number": 10
    },
    {
     "cell_type": "heading",
     "level": 2,
     "metadata": {},
     "source": "Example 11 Page No 121"
    },
    {
     "cell_type": "code",
     "collapsed": false,
     "input": "#Input data \nZ=15            #Pressure due to column in m\nS=0.85          #Oil of specific gravity\ng=9.81          #Gravity\n\n\n\n#Calculation\nrho=S*10**3     #Density of oil in kg/m**3\nP=rho*g*Z       #Pressure in N/m**2 or kPa\n\n\n#Output\nprint(\"Density of oil= \",rho,\"kg/m**3\")\nprint(\"Pressure= \",P,\"N/m**2\")",
     "language": "python",
     "metadata": {},
     "outputs": [
      {
       "output_type": "stream",
       "stream": "stdout",
       "text": "Density of oil=  850.0 kg/m**3\nPressure=  125077.5 N/m**2\n"
      }
     ],
     "prompt_number": 11
    },
    {
     "cell_type": "heading",
     "level": 2,
     "metadata": {},
     "source": "Example 12 Page No 122"
    },
    {
     "cell_type": "code",
     "collapsed": false,
     "input": "#Input data\nZ1=1.5                   #open tank contain water in m\nZ2=2.5                   #oil of specific gravity for depth in m\nS=0.9                    #oil of specific gravity \nrho1=1000                #density of water in Kg/m**3\nrho2=S*10**3             #density of oil in Kg/m**3\ng=9.81                   #gravity\n\n\n\n#calculation\nP=rho1*g*Z1+rho2*g*Z2    #intensity of pressure in kPa\n\n\n#output\nprint(\"intensity of pressure=\",P,\"N/m**2\")",
     "language": "python",
     "metadata": {},
     "outputs": [
      {
       "output_type": "stream",
       "stream": "stdout",
       "text": "intensity of pressure= 36787.5 N/m**2\n"
      }
     ],
     "prompt_number": 12
    },
    {
     "cell_type": "heading",
     "level": 2,
     "metadata": {},
     "source": "Example 13 Page No:124"
    },
    {
     "cell_type": "code",
     "collapsed": false,
     "input": "#Input data\nD1=0.2                      #Diameter of pipe section 1 in m\nD2=0.3                      #Diameter of pipe section 2 in m\nV1=15                       #Velocity of water in m/s\npi=3.14\n\n#calculation\nQ=((3.14/4)*(0.2)**2)*15    #Discharge through pipe in m**3/s\nV2=(((3.14/4)*(0.2)**2)*15)/((3.14/4)*(0.3)**2) #velocity of section2 in m/s\n\n\n#Output\nprint(\"Discharge through pipe= \",round(Q,2),\"m**3/s\")\nprint(\"velocity of section2= \",round(V2,2),\"m/s\")",
     "language": "python",
     "metadata": {},
     "outputs": [
      {
       "output_type": "stream",
       "stream": "stdout",
       "text": "Discharge through pipe=  0.47 m**3/s\nvelocity of section2=  6.67 m/s\n"
      }
     ],
     "prompt_number": 13
    },
    {
     "cell_type": "heading",
     "level": 2,
     "metadata": {},
     "source": "Example 14 Page No:126"
    },
    {
     "cell_type": "code",
     "collapsed": false,
     "input": "#Input data\nV=13                #Velocity of water flowing throgh pipe in m/s\nP=200*10**3         #Pressure of water in Kpa\nZ=25                #Height above the datum in m\ng=9.81\nrho=1000\n\n\n#Calculation\nE=(P/(rho*g))+((V**2)/(2*g))+(Z) #Total energy per unit weight in m\n\n\n#Output\nprint(\"Total energy per unit weight=\",round(E,),\"m\")\n",
     "language": "python",
     "metadata": {},
     "outputs": [
      {
       "output_type": "stream",
       "stream": "stdout",
       "text": "Total energy per unit weight= 54 m\n"
      }
     ],
     "prompt_number": 14
    },
    {
     "cell_type": "heading",
     "level": 2,
     "metadata": {},
     "source": "Example 15 Page No:127"
    },
    {
     "cell_type": "code",
     "collapsed": false,
     "input": "#Input data\nimport math\nS=0.85              #Specific gravity of oil\nD=0.08              #Diameter of pipe in m\nP=1*10**5           #Intenity of presssure in N/m**2\nZ=15                #Total energy bead in m\nE=45                #Datum plane in m\nMdw=1*10**3         #Mass density of water constant\ng=9.81              #Gravity constant\nrho=S*Mdw           #Mass density of oil\npi=3.14\n\n#calculation\nrho=S*Mdw           #Mass density of oil\n#E=(P/(rho*g))+((V**2)/(2*g))+(Z)\nV=math.sqrt((E-((P/(rho*g))+Z))*(2*g))  #Total energy per unit weight in m/s\nQ=(pi/4)*D**2*V                         #Discharge in m**3/Kg\"\n\n#output\nprint(\"mass density of oil= \",rho,\"Kg/m**3\")\nprint(\"Total energy per unit weight= \",round(V,1),\"m/s\")\nprint(\"discharge=\",round(Q,4),\"m**3/Kg\")\n",
     "language": "python",
     "metadata": {},
     "outputs": [
      {
       "output_type": "stream",
       "stream": "stdout",
       "text": "mass density of oil=  850.0 Kg/m**3\nTotal energy per unit weight=  18.8 m/s\ndischarge= 0.0944 m**3/Kg\n"
      }
     ],
     "prompt_number": 15
    },
    {
     "cell_type": "heading",
     "level": 1,
     "metadata": {},
     "source": "Example 16 Page No:127"
    },
    {
     "cell_type": "code",
     "collapsed": false,
     "input": "#input data\n#refer figure 11\nZA=2                   #water flows section A-A in m \nDA=0.3                 #datum pipe diameter at section A-A in m\nPA=550*10**3           #pressure in kPa\nVA=6                   #flow velocity in m/s\nZB=18                  #water flows at section B-B in m\nDB=0.15                #datum pipe diameter at section B-B in m\npi=3.14                #constant\nrho=1000               #constant\ng=9.81                 #constant\nAa=(pi/4)*(DA)**2\nAb=(pi/4)*(DB)**2\npi=3.14\n\n#calculation\nVB=((Aa*VA)/Ab)         #continuity discharge equation in m/s\n#bernoulli's equation Kpa\n#(PA/rho*g)+(VA**2/2*g)+ZA=(PB/rho*g)+(VB**2/2*g)+ZB \nPB=(((PA/(rho*g))+(VA**2/(2*g))+ZA)-((VB**2/(2*g))+ZB))*(rho*g)\n\n\n#output\nprint(\"continuity discharge equation= \",VB,\"m/s\")\nprint(\"bernoulli's equation= \",round(PB,1),\"pa\")\n\n\n",
     "language": "python",
     "metadata": {},
     "outputs": [
      {
       "output_type": "stream",
       "stream": "stdout",
       "text": "continuity discharge equation=  24.0 m/s\nbernoulli's equation=  123040.0 pa\n"
      }
     ],
     "prompt_number": 16
    },
    {
     "cell_type": "heading",
     "level": 1,
     "metadata": {},
     "source": "Example 17 Page No:128"
    },
    {
     "cell_type": "code",
     "collapsed": false,
     "input": "#input data\n#refer figure 12\nQ=0.04             #Water flows at rate in m**2/s\nDA=0.22            #Pipe diameter at section A in m\nDB=0.12            #Pipe diameter at section B in m\nPA=400*10**3       #Intensity of pressure at setion A in kPa\nPB=150*10**3       #Intensity of pressure at setion B in kPa\npi=3.14            #Pi constant \ng=9.81             #Gravity constant\nrho=1000\n\n#calculation\nVA=Q/(pi/4*(DA)**2) #contuity equation for discharge\nVB=Q/(pi/4*(DB)**2) #bernoulli's equation for discharge\n#Z=ZB-ZA\nZ=(PA/(rho*g))+(VA**2/(2*g))-(PB/(rho*g))-(VB**2/(2*g))\n\n\n#output\nprint(\"contuity equation for discharge= \",round(VA,3),\"m**3\")\nprint(\"contuity equation for discharge= \",round(VB,3),\"m**3\")\nprint(\"bernoulli's equation for discharge= \",round(Z,2),\"m\")\n\n\n\n\n\n\n\n",
     "language": "python",
     "metadata": {},
     "outputs": [
      {
       "output_type": "stream",
       "stream": "stdout",
       "text": "contuity equation for discharge=  1.053 m**3\ncontuity equation for discharge=  3.539 m**3\nbernoulli's equation for discharge=  24.9 m\n"
      }
     ],
     "prompt_number": 17
    },
    {
     "cell_type": "heading",
     "level": 1,
     "metadata": {},
     "source": "Example 18 Page No:129"
    },
    {
     "cell_type": "code",
     "collapsed": false,
     "input": "#Input data\nL=200               #length of pipe in m\nD1=1                #Diameter at high end in m\nD2=0.4              #Diameter at low end in m\nP1=50*10**3         #Pressure at high end  in kPa\nQ=4000              #Rate of water flow l/min\nS=1                 #Slope of pipe 1 in 100\nZ2=0                #Datum line is passing through the center of the low end,therefore\npi=3.14\n\n\n\n#calculation\nQ=(4000*10**-3)/60   #rate of water flow l/min in m**3/s\nZ1=1/100*L           #slope of pipe 1 in 100 is in m\n#Q=A1*V1=A2V2        #continuity eqation ,discharge\nV1=Q/((pi/4)*(D1**2))#in m**3\nV2=Q/((pi/4)*(D2**2))#in m**3\n#bernoulli's equation \nP2=(((((P1/(rho*g))+(V1**2/(2*g))+Z1)-(V2**2/(2*g))-Z2))*(rho*g))*10**-3 \n\n\n#output\nprint(\"rate of water flow= \",round(Q,4),\"m**3/s\")\nprint(\"slope of pipe= \",Z1,\"m\")\nprint(\"continuity eqation ,discharge= \",round(V1,5),\"m**3\")\nprint(\"continuity eqation ,discharge= \",round(V2,4),\"m**3\")\nprint(\"bernoulli's equation for discharge= \",round(P2,2),\" Kpa\")\n",
     "language": "python",
     "metadata": {},
     "outputs": [
      {
       "output_type": "stream",
       "stream": "stdout",
       "text": "rate of water flow=  0.0667 m**3/s\nslope of pipe=  2.0 m\ncontinuity eqation ,discharge=  0.08493 m**3\ncontinuity eqation ,discharge=  0.5308 m**3\nbernoulli's equation for discharge=  69.48  Kpa\n"
      }
     ],
     "prompt_number": 18
    },
    {
     "cell_type": "heading",
     "level": 1,
     "metadata": {},
     "source": "Example 19 Page No:130"
    },
    {
     "cell_type": "code",
     "collapsed": false,
     "input": "#Input data\nimport math\nL=36                    #Length of pipe in m\nD1=0.15                 #Diameter at upper side in m\nD2=0.3                  #Diameter at lower side in m\nsin30=0.5\ntheta=math.sin(30)      #Pipe slope upward at angle in degree\nV1=2                    #Velocity of water at smaller section in m/s  \npi=3.14                 #Pi constant \nrho=1000                #Roh constant\ng=9.81                  #Gravity constant\n\n\n#calculation\n#datum line is passing through the center of the low end,therefore\nZ1=0\nZ2=Z1+L*(0.5)           #pipe inclined 30 degree,therefore in m\n#Q=A1*V1=A2*V2  continuity eqation ,discharge\nV2=(pi/4*(D1**2)*2)/(pi/4*(D2**2))\n#Z=P1-P2 bernoulli's equation \nZ=((((-V1**2)/(2*g))+((V2**2)/(2*g))-Z1+Z2)*(rho*g))*10**-3\n\n\n\n\n\n\n#output\nprint(\"pipe inclined 30 degree,therefore Z2=\",Z2,\"m\")\nprint(\"continuity eqation ,discharge V2=\",V2,\"m/s\")\nprint(\"#bernoulli's equation Z=\",round(Z,1),\"Kpa\")\n\n\n",
     "language": "python",
     "metadata": {},
     "outputs": [
      {
       "output_type": "stream",
       "stream": "stdout",
       "text": "pipe inclined 30 degree,therefore Z2= 18.0 m\ncontinuity eqation ,discharge V2= 0.5 m/s\n#bernoulli's equation Z= 174.7 Kpa\n"
      }
     ],
     "prompt_number": 19
    },
    {
     "cell_type": "heading",
     "level": 1,
     "metadata": {},
     "source": "Example 20 Page No:130-131"
    },
    {
     "cell_type": "code",
     "collapsed": false,
     "input": "#Input data\nD1=0.25                    #Diameter at inlet in m\nD2=0.175                   #Diameter at outlet in m\nP1=450*10**3               #Intensity of pressure at inlet in kPa\nP2=200*10**3               #Intensity of pressure at outlet in kPa\npi=3.14                    #pi constant \nrho=1000                   #Roh constant\ng=9.81                     #Gravity constant\nZ1=Z2\n\n#Calculation \n#A1*V1=A2*V2               Continuity eqation in V1\nV2=((pi/4)*(D1**2))/((pi/4)*(D2**2))\n#Z=V2**2-V1**2             Bernoulli's equation in m/s\nZ=-(((P2/(rho*g))-(P1/(rho*g)))*(2*g))\nX=Z/((V2**2)-1)\nV1=math.sqrt(X)\nQ=(pi/4)*(D1**2)*V1         #Flow rate Water in m**3/Kg\n\n\n#Output\nprint(\"Continuity eqation= \",round(V2,2),\"V1\")\nprint(\"Bernoulli's equation= \",Z,\"m/s\")\nprint(\"V1=\",round(V1,2),\"\")\nprint(\"Flow rate Water= \",round(Q,3),\"m**3/Kg\")\n\n\n\n",
     "language": "python",
     "metadata": {},
     "outputs": [
      {
       "output_type": "stream",
       "stream": "stdout",
       "text": "Continuity eqation=  2.04 V1\nBernoulli's equation=  500.0 m/s\nV1= 12.57 \nFlow rate Water=  0.617 m**3/Kg\n"
      }
     ],
     "prompt_number": 20
    },
    {
     "cell_type": "heading",
     "level": 1,
     "metadata": {},
     "source": "Example 21 Page No:131-132"
    },
    {
     "cell_type": "code",
     "collapsed": false,
     "input": "#Input data\nL=300                  #Length of pipe in m\nD1=0.9                 #Diameter at higher end in m\nD2=0.6                 #Diameter at lower end in m\nS=0.85                 #Specific gravity \nQ=0.08                 #Flow in l/s\nP1=40*10**3            #Pressure at higher end in kPa\npi=3.14                #pi constant \nrho=1000               #Roh constant\ng=9.81                 #Gravity constant\nslop=1/50              #1 in 50\n\n\n#Calculation\n#Datum line is passing through the center of the low end,therefore\nZ2=0 \nZ1=slop*L\n#Q=A1*V1=A2*V2        Continuity eqation\nV1=Q/((pi/4)*(D1**2)) #Frome continuity eqation, discharge\nV2=Q/((pi/4)*(D2**2)) #Frome continuity eqation, discharge\n#Bernoulli's equation \nP2=(((((P1/(rho*S*g))+(V1**2/(2*g))+Z1)-(V2**2/(2*g))+Z2))*(S*rho*g))*10**-3\n\n\n\n#Output\nprint(\"Z1=\",Z1,\"m\")\nprint(\"continuity eqation, discharge V1=\",round(V1,5),\"m**3\")\nprint(\"continuity eqation, discharge V2=\",round(V2,5),\"m**3\")\nprint(\"bernoulli's equation= \",round(P2,),\"KPa\")\n\n",
     "language": "python",
     "metadata": {},
     "outputs": [
      {
       "output_type": "stream",
       "stream": "stdout",
       "text": "Z1= 6.0 m\ncontinuity eqation, discharge V1= 0.12582 m**3\ncontinuity eqation, discharge V2= 0.28309 m**3\nbernoulli's equation=  90 KPa\n"
      }
     ],
     "prompt_number": 21
    }
   ],
   "metadata": {}
  }
 ]
}