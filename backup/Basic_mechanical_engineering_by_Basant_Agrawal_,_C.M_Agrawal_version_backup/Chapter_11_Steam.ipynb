{
 "metadata": {
  "name": "Chapter 11 Steam Boilers"
 },
 "nbformat": 3,
 "nbformat_minor": 0,
 "worksheets": [
  {
   "cells": [
    {
     "cell_type": "heading",
     "level": 1,
     "metadata": {},
     "source": "Chapter 11 Steam Boilers"
    },
    {
     "cell_type": "heading",
     "level": 2,
     "metadata": {},
     "source": "Example 1 Page No:228"
    },
    {
     "cell_type": "code",
     "collapsed": false,
     "input": "#Input data\nms=5000                 #Boiler produces wet steam in Kg/h\nx=0.95                  #Dryness function\nP=10                    #Operating pressure in bar\nmf=5500                 #Bour in the furnace in Kg\nTw=40                   #Feed water temp in degree celsius\n\n#calculation\n#from steam table\nhfw=167.45              #In KJ/Kg\nhf=762.61               #In KJ/Kg\nhfg=2031.6              #In KJ/Kg\nhs=(hf+x*hfg)           #Enthalpy of wet stream in KJ/Kg\nme=ms/mf                #Mass of evaporation\nE=((me*(hs-hfw))/(2257))*10 #Equivalent evaporation in Kg/Kg of coal\n\n#output\n\nprint(\"Enthalpy of wet stream=\",round(hs,2),\"KJ/Kg\")\nprint(\"Mass of evaporation=\",round(me,2),)\nprint(\"Equivalent evaporation=\",round(E,2),\"Kg/Kg of coal\")\n",
     "language": "python",
     "metadata": {},
     "outputs": [
      {
       "output_type": "stream",
       "stream": "stdout",
       "text": "Enthalpy of wet stream= 2692.63 KJ/Kg\nMass of evaporation= 0.91\nEquivalent evaporation= 10.17 Kg/Kg of coal\n"
      }
     ],
     "prompt_number": 1
    },
    {
     "cell_type": "heading",
     "level": 2,
     "metadata": {},
     "source": "Example 2 Page No:229"
    },
    {
     "cell_type": "code",
     "collapsed": false,
     "input": "#Input data\np=14                            #Boiler pressure in bar\nme=9                            #Evaporates of water in Kg\nTw=35                           #Feed water entering in degree celsius\nx=0.9                           #Steam stop value\nCV=35000                        #Calorific value  of the coal\n\n#Calculation\n#From Steam Table\nhfw=146.56                      #In KJ/Kg\nhf=830.07                       #In KJ/Kg\nhfg=1957.7                      #In KJ/Kg\nhs=hf+x*hfg                     #Enthalpy of wet stream in KJ/Kg\nE=((me*(hs-hfw))/2257)          #Equivalent evaporation in Kg/Kg of coal\netaboiler=((me*(hs-hfw))/CV)*100#Boiler efficiency in %\n\n#Output\nprint(\"Enthalpy of wet stream=\",hs,\"KJ/Kg\")\nprint(\"Equivalent evaporation=\",round(E,2),\"Kg/Kg of coal\")\nprint(\"Boiler efficiency=\",round(etaboiler,2),\"%\")\n\n",
     "language": "python",
     "metadata": {},
     "outputs": [
      {
       "output_type": "stream",
       "stream": "stdout",
       "text": "Enthalpy of wet stream= 2592.0 KJ/Kg\nEquivalent evaporation= 9.75 Kg/Kg of coal\nBoiler efficiency= 62.88 %\n"
      }
     ],
     "prompt_number": 2
    },
    {
     "cell_type": "heading",
     "level": 2,
     "metadata": {},
     "source": "Example 3 Page No:228"
    },
    {
     "cell_type": "code",
     "collapsed": false,
     "input": "#Input data\nms=2500                          #Saturated steam per bour in Kg\nx=1         \nP=15                             #Boiler pressure in bar\nTw=25                            #Feed water entering in degree celsius \nmf=350                           #Coal burnt in Kg/bour\nCV=32000                         #Calorific value in Kj/Kg \n\n#calculation\n#steam table\nhfw=104.77                       #In KJ/Kg\nhf=844.66                        #In KJ/Kg\nhfg=1945.2                       #In KJ/Kg\nhg=2789.9                        #In KJ/Kg\nhs=2789.9                        #Enthalpy of dry steam in KJ/Kg\nme=ms/mf                         #mass of evaporation \nE=((me*(hs-hfw))/2257)           #Equivalent evaporation in Kg/Kg ofcoal\netaboiler=((me*(hs-hfw))/CV)*100 #Boiler efficiency in %\n\n#Output\nprint(\"mass of evaporation=\",round(me,3),)\nprint(\"Equivalent evaporation=\",round(E,2),\"Kg/Kg ofcoal\")\nprint(\"Boiler efficiency=\",round(etaboiler,2),\"%\")\n\n\n\n",
     "language": "python",
     "metadata": {},
     "outputs": [
      {
       "output_type": "stream",
       "stream": "stdout",
       "text": "mass of evaporation= 7.143\nEquivalent evaporation= 8.5 Kg/Kg ofcoal\nBoiler efficiency= 59.94 %\n"
      }
     ],
     "prompt_number": 3
    },
    {
     "cell_type": "heading",
     "level": 2,
     "metadata": {},
     "source": "Example 4 Page No:231"
    },
    {
     "cell_type": "code",
     "collapsed": false,
     "input": "#Input data\nmf=500                          #Boiler plant consumes of coal in Kg/h\nCV=32000                        #Calorific value in Kj/Kg\nms=3200                         #plant generates in Kg/h\nP=1.2                           #Absolute pressure MN/m**2\nMN=12                           \nTsup=300                        #Absolute temperature in degree celsius\nTw=35                           #Feed water temperature\nCps=2.3\n\n#calculation\nhfw=146.56                      #In KJ/Kg\nTs=187.96                       #In Degree celsius\nhf=798.43                       #In KJ/Kg\nhfg=1984.3                      #In KJ/Kg\nhg=2782.7                       #In KJ/Kg\nhs=hg+Cps*(Tsup-Ts)             #Enthalpy of superheated steam in KJ/Kg\nme=ms/mf                        #mass of evaporation \nE=((me*(hs-hfw))/2257)          #Equivalent evaporation in Kg/Kg ofcoal\netaboiler=((me*(hs-hfw))/CV)*100#Boiler efficiency in %\n  \n\n#Output\nprint(\"Enthalpy of superheated steam=\",round(hs,2),\"KJ/Kg\")\nprint(\"mass of evaporation=\",me,)\nprint(\"Equivalent evaporation=\",round(E,1),\"Kg/Kg ofcoal\")\nprint(\"Boiler efficiency\",round(etaboiler,2),\"%\")\n    \n\n    \n",
     "language": "python",
     "metadata": {},
     "outputs": [
      {
       "output_type": "stream",
       "stream": "stdout",
       "text": "Enthalpy of superheated steam= 3040.39 KJ/Kg\nmass of evaporation= 6.4\nEquivalent evaporation= 8.2 Kg/Kg ofcoal\nBoiler efficiency 57.88 %\n"
      }
     ],
     "prompt_number": 4
    },
    {
     "cell_type": "heading",
     "level": 2,
     "metadata": {},
     "source": "Example 5 Page No:232"
    },
    {
     "cell_type": "code",
     "collapsed": false,
     "input": "#Input data\nms=5000                           #Steam generted in Kg/h\nmf=700                            #Coal burnt in Kg/h \nCV=31402                          #Cv of coal in KJ/Kg\nx=0.92                            #quality of steam\nP=1.2                             #Boiler pressure in MPa\nTw=45                             #Feed water temperature in degree celsius\n\n\n#calculation\nhfw=188.35                        #In KJ/Kg\nhf=798.43                         #In KJ/Kg\nhfg=1984.3                        #In KJ/Kg\nhs=hf+x*hfg                       #Enthalpy of wet stream in KJ/Kg\nme=ms/mf                          #mass of evaporation \nE=((me*(hs-hfw))/2257)            #Equivalent evaporation in Kg/Kg of coal\netaboiler=((me*(hs-hfw))/CV)*100  #Boiler efficiency in %\n\n\n\n#Output\nprint(\"Enthalpy of wet stream=\",round(hs,2),\"KJ/Kg\")\nprint(\"mass of evaporation=\",round(me,2),\"\")\nprint(\"Equivalent evaporation=\",round(E,1),\"Kg/Kg of coal\")\nprint(\"Boiler efficiency=\",round(etaboiler,2),\"%\")\n  \n",
     "language": "python",
     "metadata": {},
     "outputs": [
      {
       "output_type": "stream",
       "stream": "stdout",
       "text": "Enthalpy of wet stream= 2623.99 KJ/Kg\nmass of evaporation= 7.14 \nEquivalent evaporation= 7.7 Kg/Kg of coal\nBoiler efficiency= 55.4 %\n"
      }
     ],
     "prompt_number": 5
    },
    {
     "cell_type": "heading",
     "level": 2,
     "metadata": {},
     "source": "Example 6 Page No:233"
    },
    {
     "cell_type": "code",
     "collapsed": false,
     "input": "#Input data\nms=6000                   #Boiler produce of steam Kg/h\nP=25                      #Boiler pressure in bar\nTsup=350                  #Boiler temperature in degree celsius\nTw=40                     #Feed water temperature indegree celsius\nCV=42000                  #Calorific value in Kj/Kg\netaboiler=75/100          #Expected thermal efficiency in %\n\n\n#Calculation\nhfw=167.45                #In KJ/Kg\nTs=223.94                 #In degree celsius  \nhf=961.96                 #In KJ/Kg\nhfg=1839.0                #In KJ/Kg\nhg=2800.9                 #In KJ/Kg\nCps=2.3\nhs=((hg)+(Cps)*(Tsup-Ts))         #Enthalpy of superheated steam KJ/Kg\nmf=((ms*(hs-hfw))/(CV*etaboiler)) #Boiler efficiency in %\nme=ms/mf                          #Equivalent mass of evaporation\nE=((me*(hs-hfw))/2257)            #Equivalent evaporation in Kg/Kg of oil\n\n\n#Output\nprint(\"Enthalpy of superheated steam=\",hs,\"KJ/Kg\")\nprint(\"Boiler efficiency=\",round(mf,1),\"%\")\nprint(\"Equivalent mass of evaporation=\",round(me,3),)\nprint(\"Equivalent evaporation=\",round(E,2),\"Kg/Kg of oil\")\n\n",
     "language": "python",
     "metadata": {},
     "outputs": [
      {
       "output_type": "stream",
       "stream": "stdout",
       "text": "Enthalpy of superheated steam= 3090.838 KJ/Kg\nBoiler efficiency= 556.8 %\nEquivalent mass of evaporation= 10.775\nEquivalent evaporation= 13.96 Kg/Kg of oil\n"
      }
     ],
     "prompt_number": 6
    },
    {
     "cell_type": "heading",
     "level": 2,
     "metadata": {},
     "source": "Example 7 Page No:234"
    },
    {
     "cell_type": "code",
     "collapsed": false,
     "input": "#Input data\nE=12                        #Boiler found steam in Kg/Kg\nCV=35000                    #Calorific value in KJ/Kg\nms=15000                    #Boiler produces in Kg/h\nP=20                        #Boiler pressure in bar\nTw=40                       #Feed water in degree celsius\nmf=1800                     #Fuel consumption\n\n\n#calculation\n#R=me(hs-hfw)\nhfw=167.45                  #In KJ/Kg\nhg=2797.2                   #In KJ/Kg\nTs=211.37                   #In degree celsius\nCps=2.3\nR=E*2257                    #Equivalent evaporation in KJ/Kg of coal\netaboiler=(R/CV)*100        #Boiler efficiency in %\nme=ms/mf                    #Equivalent mass evaporation in KJ/Kg of coal                   \nhs=(R/me)+hfw               # In KJ/Kg\nTsup=((hs-hg)/Cps)+Ts       #Enthalpy of superheated steam in degree celsius\n\n\n\n#Output\nprint(\"Equivalent evaporation=\",R,\"KJ/Kg of coal\")\nprint(\"Boiler efficiency=\",round(etaboiler,2),\"%\")\nprint(\"Equivalent mass evaporation=\",round(me,2),\"KJ/Kg of coal\")\nprint(\"hs=\",round(hs,2),\"KJ/Kg\")\nprint(\"Enthalpy of superheated steam=\",round(Tsup,2),\"degree celsius\")",
     "language": "python",
     "metadata": {},
     "outputs": [
      {
       "output_type": "stream",
       "stream": "stdout",
       "text": "Equivalent evaporation= 27084 KJ/Kg of coal\nBoiler efficiency= 77.38 %\nEquivalent mass evaporation= 8.33 KJ/Kg of coal\nhs= 3417.53 KJ/Kg\nEnthalpy of superheated steam= 481.08 degree celsius\n"
      }
     ],
     "prompt_number": 7
    },
    {
     "cell_type": "heading",
     "level": 2,
     "metadata": {},
     "source": "Example 8 Page No:236"
    },
    {
     "cell_type": "code",
     "collapsed": false,
     "input": "#Input data\nms=6000                           #Steam generated in Kg/h\nmf=700                            #Coal burnt in Kg/h\nCV=31500                          #Cv of coal in KJ/Kg\nx=0.92                            #Dryness in fraction of steam\nP=12                              #Boiler pressure in bar\nTsup=259                          #Temperature of steam in degree celsius\nTw=45                             #Hot well temperature in degree celsius\n\n#calculation\nhfw=188.35                        #In KJ/Kg\nTs=187.96                         #In degree celsius\nhf=798.43                         #In KJ/Kg\nhfg=1984.3                        #In KJ/Kg\nhg=2782.7                         #In KJ/Kg\nCps=2.3                           \nme=ms/mf                          #Equivalent mass evaporation\nhs=hf+x*hfg                       #Enthalpy of wet steam in KJ/Kg\nE=((me*(hs-hfw))/2257)            #Equivalent evaporation in Kg/Kg of coal\nhs1=(hg+Cps*(Tsup-Ts))            #Enthalpy of superheated steam in KJ/Kg\nE1=((me*(hs1-hfw))/2257)          #Equivalent evaporation(with superheater) in Kg/Kg of coal\netaboiler=((me*(hs-hfw))/CV)*100  #Boiler efficiency without superheater in %\netaboiler1=((me*(hs1-hfw))/CV)*100#Boiler efficiency with superheater in %\n\n\n#Output\nprint(\"Equivalent mass evaporation=\",round(me,2),)\nprint(\"Enthalpy of wet steam=\",hs,\"KJ/Kg\")\nprint(\"Equivalent evaporation=\",round(E,2),\"Kg/Kg of coal\")\nprint(\"Enthalpy of superheated steam=\",round(hs1,2),\"KJ/Kg\")\nprint(\"Equivalent evaporation(with superheater)=\",round(E1,2),\"Kg/Kg of coal\")\nprint(\"Boiler efficiency without superheater=\",round(etaboiler,2),\"%\")\nprint(\"Boiler efficiency without superheater=\",round(etaboiler1,2),\"%\")\n\n\n",
     "language": "python",
     "metadata": {},
     "outputs": [
      {
       "output_type": "stream",
       "stream": "stdout",
       "text": "Equivalent mass evaporation= 8.57\nEnthalpy of wet steam= 2623.986 KJ/Kg\nEquivalent evaporation= 9.25 Kg/Kg of coal\nEnthalpy of superheated steam= 2946.09 KJ/Kg\nEquivalent evaporation(with superheater)= 10.47 Kg/Kg of coal\nBoiler efficiency without superheater= 66.28 %\nBoiler efficiency without superheater= 75.04 %\n"
      }
     ],
     "prompt_number": 8
    },
    {
     "cell_type": "heading",
     "level": 2,
     "metadata": {},
     "source": "Example 9 Page No:237"
    },
    {
     "cell_type": "code",
     "collapsed": false,
     "input": "#Input data\nP=15                             #Boiler produces steam in bar\nTsup=250                         #Boiler temperature in degree celsius \nTw=35                            #Feed water in degree celsius\nMWh=1.5                          #steam supplied to the turbine\nCV=32000                         #Coal of calorific value in KJ/Kg\netaboiler=80/100                 #Thermal efficiency in %\nfr=210                           #Firing rate in Kg/m**2/h\n#From steam table(temp basis at 35 degree celsius)\nhfw=146.56                       #In KJ/Kg\nTs=198.29                        #In degree celsius\nhfg=1945.2                       #In KJ/Kg\nhg=2789.9                        #In KJ/Kg\nCps=2.3 \n\n\n#calculator\nhs=hg+Cps*(Tsup-Ts)               #Enthalpy of superheated steam(with superheater) in KJ/Kg\nms=9000/MWh                       #Steam rate in Kg/MWh\nmf=((ms*(hs-hfw))/(etaboiler*CV)) #Mass of steam consumption in Kg/h\nGA=mf/fr                          #Grate rate in m**2\n\n\n\n#Output\nprint(\"Enthalpy of superheated steam(with superheater)=\",hs,\"KJ/Kg\")\nprint(\"Steam rate=\",ms,\"Kg/h\")\nprint(\"ass of steam consumption=\",round(mf,1),\"Kg/h\")\nprint(\"Grate rate=\",round(GA,3),\"m**2\")\n\n\n\n",
     "language": "python",
     "metadata": {},
     "outputs": [
      {
       "output_type": "stream",
       "stream": "stdout",
       "text": "Enthalpy of superheated steam(with superheater)= 2908.833 KJ/Kg\nSteam rate= 6000.0 Kg/h\nass of steam consumption= 647.4 Kg/h\nGrate rate= 3.083 m**2\n"
      }
     ],
     "prompt_number": 9
    },
    {
     "cell_type": "heading",
     "level": 2,
     "metadata": {},
     "source": "Example 10 Page No:242"
    },
    {
     "cell_type": "code",
     "collapsed": false,
     "input": "#Input data\nma=18            #Boileruses of per Kg of fuel in Kg/Kg\nhw=25*10**-3     #Chimney height to produce draught in mm\nTg=315+273       #Temperature of chimney gases in degree celsius \nTa=27+273        #Out side air temp in degree celsius\n\n#Calculation\n#Draught produce in terms of water column in m\nH=(hw/(353*(1/Ta-1/Tg*((ma+1)/ma))))*1000\n\n#Output\nprint(\"Draught produce in terms of water column=\",round(H,2),\"m\")",
     "language": "python",
     "metadata": {},
     "outputs": [
      {
       "output_type": "stream",
       "stream": "stdout",
       "text": "Draught produce in terms of water column= 46.04 m\n"
      }
     ],
     "prompt_number": 10
    },
    {
     "cell_type": "heading",
     "level": 2,
     "metadata": {},
     "source": "Example 11 Page No:242"
    },
    {
     "cell_type": "code",
     "collapsed": false,
     "input": "#Input data\nH=40                             #High discharge in m\nma=19                            #Fuel gases per Kg of fuel burnt\nTg=220+273                       #Average temp of fuel gases in degree celsius\nTa=25+273                        #Ambient temperature in degreee celsius\n\n\n#calculation\nhw=353*H*(1/Ta-1/Tg*((ma+1)/ma)) #Draught produce in terms of water column in mm\nH1=H*((Tg/Ta)*(ma/(ma+1))-1)     #Draught produce in terms of hot gas column in m\n\n#output\nprint(\"Draught produce in terms of water column=\",round(hw,2),\"mm\")\nprint(\"Draught produce in terms of hot gas column=\",round(H1,2),\"m\")",
     "language": "python",
     "metadata": {},
     "outputs": [
      {
       "output_type": "stream",
       "stream": "stdout",
       "text": "Draught produce in terms of water column= 17.23 mm\nDraught produce in terms of hot gas column= 22.87 m\n"
      }
     ],
     "prompt_number": 11
    },
    {
     "cell_type": "heading",
     "level": 2,
     "metadata": {},
     "source": "Example 12 Page No:243"
    },
    {
     "cell_type": "code",
     "collapsed": false,
     "input": "#Input data\nH=27                                #Chimney height in m\nhw=15                        #Draught produces of water column in mm\nma=21                               #Gases formed per Kg of fuel burnt in Kg/Kg\nTa=25+273                           #Temperature of the ambient air in degree celsius\n\n\n#calculation\nTg=-(((ma+1)/ma)/((hw/(353*H))-(1/Ta))) #Mean temperature of fuel gases in K\n\n#Output\nprint(\"Mean temperature of fuel gases\",Tg,\"k\")",
     "language": "python",
     "metadata": {},
     "outputs": [
      {
       "output_type": "stream",
       "stream": "stdout",
       "text": "Mean temperature of fuel gases 587.9248031162673 k\n"
      }
     ],
     "prompt_number": 12
    },
    {
     "cell_type": "heading",
     "level": 2,
     "metadata": {},
     "source": "Example 13 Page No:244"
    },
    {
     "cell_type": "code",
     "collapsed": false,
     "input": "#Input data\nhw=20                   #Static draught of water in mm\nH=50                    #Chimney height in m\nTg=212+273              #Temperature of the fuel degree celsius\nTa=27+273               #Atmospheric air in degree celsius\n\n#calculation\nma=(-((hw/(353*H))-Ta*Tg))*10**-4   #Air-fuel ratio in Kg/Kg of fuel burnt-3\n\n#Output\nprint(\"Air-fuel ratio\",round(ma,1),\"Kg/Kg of fuel burnt\")",
     "language": "python",
     "metadata": {},
     "outputs": [
      {
       "output_type": "stream",
       "stream": "stdout",
       "text": "Air-fuel ratio 14.5 Kg/Kg of fuel burnt\n"
      }
     ],
     "prompt_number": 13
    },
    {
     "cell_type": "heading",
     "level": 2,
     "metadata": {},
     "source": "Example 14 Page No:245"
    },
    {
     "cell_type": "code",
     "collapsed": false,
     "input": "#Input data\nimport math\nH=24            #Chimney height in m\nTa=25+273       #Ambient temperature in degree celsius\nTg=300+273      #Temperature of fuel gases in degree celsius\nma=20           #Combustion space of fuel burnt in Kg/Kgof fuel\ng=9.81 \n\n\n#calculation\nhw=((353*H)*((1/Ta)-((1/Tg)*((ma+1)/ma))))#Theoretical draught in millimeters of water in mm\nH1=H*((Tg/Ta)*(ma/(ma+1))-1)              #Theoretical draught produced in hot gas column in m\nH2=H1-9.975                               #Draught lost in friction at the grate and passage in m\nV=math.sqrt(2*g*H2)                       #Actual draught produced in hot gas column in m\n\n#Output\nprint(\"Theoretical draught in millimeters of water=\",round(hw,2),\"mm\")\nprint(\"Theoretical draught produced in hot gas column=\",round(H1,2),\"m\")\nprint(\"Draught lost in friction at the grate and passage=\",round(H2,3),\"m\")\nprint(\"Actual draught produced in hot gas column=\",round(V,),\"m\")",
     "language": "python",
     "metadata": {},
     "outputs": [
      {
       "output_type": "stream",
       "stream": "stdout",
       "text": "Theoretical draught in millimeters of water= 12.9 mm\nTheoretical draught produced in hot gas column= 19.95 m\nDraught lost in friction at the grate and passage= 9.975 m\nActual draught produced in hot gas column= 14 m\n"
      }
     ],
     "prompt_number": 14
    },
    {
     "cell_type": "heading",
     "level": 2,
     "metadata": {},
     "source": "Example 15 Page No:246"
    },
    {
     "cell_type": "code",
     "collapsed": false,
     "input": "#Input data\nimport math\nH=38                          #Stack height in m\nd=1.8                         #Stack diameter discharge in m\nma=17                         #Fuel gases per Kg of fuel burnt Kg/Kg\nTg=277+273                    #Average temperature of fuel gases in degree celsius\nTa=27+273                     #Temperature of outside air in degree celsius\nh1=0.4                        #Theoretical draught is lost in friction in \ng=9.81\npi=3.142\n\n#calculation\nH1=H*(((Tg/Ta)*(ma/(ma+1))-1))#Theoretical draught produce in hot gas column in m\ngp=0.45*27.8                  #Draught lost in friction at the grate and pasage in m\nC=H1-gp                       #Actual draught produce in hot gas column in m\nV=math.sqrt(2*9.81*C)         #Velocity of the flue gases in the chimney in m/s\nrhog=((353*(ma+1))/(ma*Tg))   #Density of flue gases in Kg/m**3\nmg=(rhog*((pi/4)*(d**(2))*V)) #Mass of gas flowing through the chimney in Kg/s\n\n\n#Output\nprint(\"Theoretical draught produce in hot gas column=\",round(H1,1),\"m\")\nprint(\"Draught lost in friction at the grate and pasage=\",gp,\"m\")\nprint(\"Actual draught produce in hot gas column=\",round(C,2),\"m\")\nprint(\"Velocity of the flue gases in the chimney =\",round(V,2),\"m/s\")\nprint(\"Density of flue gases=\",round(rhog,3),\"Kg/m**3\")\nprint(\"Mass of gas flowing through the chimney=\",round(mg,),\"Kg/s\")\n\n",
     "language": "python",
     "metadata": {},
     "outputs": [
      {
       "output_type": "stream",
       "stream": "stdout",
       "text": "Theoretical draught produce in hot gas column= 27.8 m\nDraught lost in friction at the grate and pasage= 12.51 m\nActual draught produce in hot gas column= 15.29 m\nVelocity of the flue gases in the chimney = 17.32 m/s\nDensity of flue gases= 0.68 Kg/m**3\nMass of gas flowing through the chimney= 30 Kg/s\n"
      }
     ],
     "prompt_number": 15
    },
    {
     "cell_type": "heading",
     "level": 2,
     "metadata": {},
     "source": "Example 16 Page No:247"
    },
    {
     "cell_type": "code",
     "collapsed": false,
     "input": "#Input data\nimport math\nhw=1.9           #Drauhgt water in cm\nTg=290+273       #Temp of flue gases in degree celsius \nTa=20+273        #Ambient temp in degree celsius\nma=22            #Flue gases formed in kg/Kg of coal\nd=1.8            #Fuel burnt in m\npi=3.142\ng=9.81\n\n#calculation\nH=(hw/(353*(1/Ta-1/Tg*((ma+1)/ma))))*10 #Theoretical draught produced in water column in m\nH1=H*(((Tg/Ta)*(ma/(ma+1))-1))          #Theoretical draught produced in hot gas column n m\nV=math.sqrt(2*g*H1)                     #Velocity of tthe flue gases in the chimney in m/s \nrhog=((353*(ma+1))/(ma*Tg))             #Density  of flue gases in Kg/m**3\nmg=rhog*((pi/4)*d**2)*V                 #Mass of gas flowing through the chimney in Kg/s\n\n#Output\nprint(\"Theoretical draught produced in water column=\",round(H,1),\"m\")\nprint(\"Theoretical draught produced in hot gas column=\",round(H1,),\"m\")\nprint(\"Velocity of tthe flue gases in the chimney=\",round(V,2),\"m\")\nprint(\"Density  of flue gases=\",round(rhog,4),\"Kg/m**3\")\nprint(\"Mass of gas flowing through the chimney=\",round(mg,1),\"Kg/s\")\n\n",
     "language": "python",
     "metadata": {},
     "outputs": [
      {
       "output_type": "stream",
       "stream": "stdout",
       "text": "Theoretical draught produced in water column= 34.6 m\nTheoretical draught produced in hot gas column= 29 m\nVelocity of tthe flue gases in the chimney= 23.85 m\nDensity  of flue gases= 0.6555 Kg/m**3\nMass of gas flowing through the chimney= 39.8 Kg/s\n"
      }
     ],
     "prompt_number": 16
    },
    {
     "cell_type": "heading",
     "level": 2,
     "metadata": {},
     "source": "Example 17 Page No:248"
    },
    {
     "cell_type": "code",
     "collapsed": false,
     "input": "#Input data\nimport math\nmf=8000           #Average coal consumption in Kg/h\nma=19            #Flue gases formed in Kg/Kg\nTg=270+273       #Average temperature of the chimney in degree celsius\nTa=27+273        #Ambient temperature in degree celsius\nhw=18            #Theoretical draught produced by the chimney in mm\nh1=0.6           #Draught is lost in friction H1\ng=9.81\npi=3.142\n\n\n#calculation\nH=(hw/(353*(1/Ta-1/Tg*((ma+1)/ma)))) #Theoretical draught produced in water column in m\nH1=H*(((Tg/Ta)*(ma/(ma+1)))-1)       #Theoretical draught produced in hot gas column in m\ngp=h1*H1                             #Draught is lost in friction at the grate and passing in m\nhgc=H1-gp                            #Actual draught produced in hot gas column in m\nV=math.sqrt(2*g*(hgc))             #Velocity of the flue gases in the chimney in m/s\nrhog=((353*(ma+1))/(ma*Tg))          #Density of flue gases in Kg/m**3\nmg=((mf/3600)*ma)                    #Mass of gas fowing throgh the chimney in Kg/s\nd=math.sqrt(mg/(rhog*(pi/4)*V))        #Diameter of the chimney in m\n\n\n#Output\nprint(\"Theoretical draught produced in water column=\",round(H,1),\"m\")\nprint(\"Theoretical draught produced in hot gas column=\",round(H1,3),\"m\")\nprint(\"Draught is lost in friction at the grate and passing=\",round(gp,2),\"m\")\nprint(\"Actual draught produced in hot gas column=\",round(hgc,3),\"m\")\nprint(\"Velocity of the flue gases in the chimney=\",round(V,2),\"\")\nprint(\"Density of flue gases=\",round(rhog,3),\"Kg/m**3\")\nprint(\"Mass of gas fowing throgh the chimney=\",round(mg,3),\"Kg/s\")\nprint(\"Diameter of the chimney=\",round(d,3),\"m\")\n\n\n",
     "language": "python",
     "metadata": {},
     "outputs": [
      {
       "output_type": "stream",
       "stream": "stdout",
       "text": "Theoretical draught produced in water column= 36.6 m\nTheoretical draught produced in hot gas column= 26.304 m\nDraught is lost in friction at the grate and passing= 15.78 m\nActual draught produced in hot gas column= 10.522 m\nVelocity of the flue gases in the chimney= 14.37 \nDensity of flue gases= 0.684 Kg/m**3\nMass of gas fowing throgh the chimney= 42.222 Kg/s\nDiameter of the chimney= 2.338 m\n"
      }
     ],
     "prompt_number": 17
    },
    {
     "cell_type": "heading",
     "level": 2,
     "metadata": {},
     "source": "Example 18 Page No:251"
    },
    {
     "cell_type": "code",
     "collapsed": false,
     "input": "#Input data\nimport math\nH=24                  #Chimney height in m\nTa=25+273             #Ambient temperature in degree celsius\nTg=300+273            #Temp of flue gases passing through the chimney in degree celsius\nma=20                 #Combustion space of fuel burnt in Kg/kg of fuel\ng=9.81\n\n#calculation\nhw=((353*H)*((1/Ta)-((1/Tg)*((ma+1)/ma)))) #Theoretical draught produced in water column in m\n                                           ##Calculation mistake in book of hw it is correct according to data &calculation\n\nH1=H*(((Tg/Ta)*(ma/(ma+1))-1))             #Theoretical draught produced in hot gas column in m\nH2=0.5*H1                                  #Draught is lost in friction at the grate and passing in m\nhgc=H1-H2                                  #Actual draught produced in hot gas column in m\nV=math.sqrt(2*g*H2)                        #Velocity of the flue gases in the chimney in m/s\n\n\n#Output\nprint(\"Theoretical draught produced in water column=\",round(hw,1),\"m\")\nprint(\"Theoretical draught produced in hot gas column=\",round(H1,2),\"m\")\nprint(\"Draught is lost in friction at the grate and passing=\",round(H2,3),\"m\")\nprint(\"Actual draught produced in hot gas column=\",round(hgc,3),\"m\")\nprint(\"Velocity of the flue gases in the chimney=\",round(V,),\"m/s\")\n",
     "language": "python",
     "metadata": {},
     "outputs": [
      {
       "output_type": "stream",
       "stream": "stdout",
       "text": "Theoretical draught produced in water column= 12.9 m\nTheoretical draught produced in hot gas column= 19.95 m\nDraught is lost in friction at the grate and passing= 9.975 m\nActual draught produced in hot gas column= 9.975 m\nVelocity of the flue gases in the chimney= 14 m/s\n"
      }
     ],
     "prompt_number": 18
    },
    {
     "cell_type": "heading",
     "level": 2,
     "metadata": {},
     "source": "Example 19 Page No:252"
    },
    {
     "cell_type": "code",
     "collapsed": false,
     "input": "#Input data\nH=38              #Stack height in m\nd=1.8             #Stack diameter in m\nma=18             #Flue gases per kg of the fuel burnt\nTg=277+273        #Average temp of the flue gases in degree celsius\nTa=27+273         #Temperature of outside air in degree celsius\nh1=0.4            #Theorical draught is lost in friction in %\ng=9.81\n\n#calculation\nH1=H*(((Tg/Ta)*(ma/(ma+1))-1)) #Theoretical draught produced in hot gas column in m\ngp=0.40*H1                     #Draught is lost in friction at the grate and passing in m\nhgc=H1-gp                      #Actual draught produced in hot gas column in m\nV=math.sqrt(2*g*hgc)           #Velocity of the flue gases in the chimney in m/s\nrhog=((353*(ma+1))/(ma*Tg))    #Density of flue gases in Kg/m**3\nmg=rhog*((pi/4)*d**2)*V        #Mass of gas fowing throgh the chimney in Kg/s\n\n\n#Output\nprint(\"Theoretical draught produced in hot gas column=\",round(H1,3),\"m\")\nprint(\"Draught is lost in friction at the grate and passing=\",round(gp,2),\"m\")\nprint(\"Actual draught produced in hot gas column=\",round(hgc,2),\"m\")\nprint(\"Velocity of the flue gases in the chimney=\",round(V,2),\"m/s\")\nprint(\"Density of flue gases=\",round(rhog,2),\"Kg/m**3\")\nprint(\"Mass of gas fowing throgh the chimney=\",round(mg,1),\"Kg/s\")\n\n\n\n",
     "language": "python",
     "metadata": {},
     "outputs": [
      {
       "output_type": "stream",
       "stream": "stdout",
       "text": "Theoretical draught produced in hot gas column= 28.0 m\nDraught is lost in friction at the grate and passing= 11.2 m\nActual draught produced in hot gas column= 16.8 m\nVelocity of the flue gases in the chimney= 18.16 m/s\nDensity of flue gases= 0.68 Kg/m**3\nMass of gas fowing throgh the chimney= 31.3 Kg/s\n"
      }
     ],
     "prompt_number": 19
    },
    {
     "cell_type": "heading",
     "level": 2,
     "metadata": {},
     "source": "Example 20 Page No:253"
    },
    {
     "cell_type": "code",
     "collapsed": false,
     "input": "#Input data\nimport math\nhw=19           #Draught produced water in cm\nTg=290+273      #Temperature of flue gases in degree celsius\nTa=20+273       #Ambient temperature  in degree celsius\nma=22           #Flue gases formed  per kg of fuel burnt in kg/kg of coal \nd=1.8           #Diameter of chimney\ng=9.81\n\n\n#calculation\nH=(hw/((353)*((1/Ta)-((1/Tg)*((ma+1)/ma))))) #Theoretical draught produced in hot gas column in m\nH1=H*(((Tg/Ta)*(ma/(ma+1))-1))               #Draught is lost in friction at the grate and passing in m\nV=math.sqrt(2*g*H1)                          #Velocity of the flue gases in the chimney in m/s\nrhog=((353*(ma+1))/(ma*Tg))                  #Density of flue gases in Kg/m**3\nmg=rhog*((pi/4)*d**2)*V                      #Mass of gas fowing throgh the chimney in Kg/s\n\n\n#Output\nprint(\"Theoretical draught produced in hot gas column=\",round(H,),\"m\")\nprint(\"Draught is lost in friction at the grate and passing=\",round(H1,1),\"m\")\nprint(\"Velocity of the flue gases in the chimney=\",round(V,2),\"m/s\")\nprint(\"Density of flue gases=\",round(rhog,4),\" Kg/m**\")\nprint(\"Mass of gas fowing throgh the chimney=\",round(mg,1),\"Kg/s\")\n",
     "language": "python",
     "metadata": {},
     "outputs": [
      {
       "output_type": "stream",
       "stream": "stdout",
       "text": "Theoretical draught produced in hot gas column= 35 m\nDraught is lost in friction at the grate and passing= 29.0 m\nVelocity of the flue gases in the chimney= 23.85 m/s\nDensity of flue gases= 0.6555  Kg/m**\nMass of gas fowing throgh the chimney= 39.8 Kg/s\n"
      }
     ],
     "prompt_number": 20
    },
    {
     "cell_type": "heading",
     "level": 2,
     "metadata": {},
     "source": "Example 21 Page No:254"
    },
    {
     "cell_type": "code",
     "collapsed": false,
     "input": "#Input data\nimport math\nmf=8000                #Average coal consumption in m \nma=18                  #Fuel gases formed ccoal fired in m\nTg=270+273             #Average temp of the chimney of water in degree celsius\nTa=27+273              #Ambient temp in degree celsius\nhw=18                  #Theoretical draught produced by the chimney in mm\nh1=0.6                 #Draught is lost in friction in H1\ng=9.81\npi=3.142\n\n\n#calculation\nH=(hw/((353)*((1/Ta)-((1/Tg)*((ma+1)/ma))))) #Theoretical draught produced in water column in m\nH1=H*(((Tg/Ta)*(ma/(ma+1))-1))               #Theoretical draught produced in hot gas column in m\ngp=0.6*H1                                    #Draught is lost in friction at the grate and passing in m\nhgc=H1-gp                                    #Actual draught produced in hot gas column in m \nV=math.sqrt(2*g*hgc)                         #Velocity of the flue gases in the chimney in m/s\nrhog=((353*(ma+1))/(ma*Tg))                  #Density of flue gases in Kg/m**3\nmg=mf/3600*(ma+1)                            #Mass of gas fowing throgh the chimney in Kg/s\nd=math.sqrt(mg/(rhog*(pi/4)*V))              #Diameter of flue gases in Kg/m**3\n\n#Output\nprint(\"Theoretical draught produced in water column=\",round(H,1),\"m\")\nprint(\"Theoretical draught produced in hot gas column=\",round(H1,2),\"m\")\nprint(\"Draught is lost in friction at the grate and passing=\",round(gp,2),\"m\")\nprint(\"Actual draught produced in hot gas column=\",round(hgc,2),\"\")\nprint(\"Velocity of the flue gases in the chimney=\",round(V,2),\"m/s\")\nprint(\"Density of flue gases=\",round(rhog,3),\"Kg/m**3\")\nprint(\"Mass of gas fowing throgh the chimney=\",round(mg,2),\"Kg/s\")\nprint(\"Diameter of flue gases=\",round(d,3),\"Kg/m**3\")\n\n\n",
     "language": "python",
     "metadata": {},
     "outputs": [
      {
       "output_type": "stream",
       "stream": "stdout",
       "text": "Theoretical draught produced in water column= 36.7 m\nTheoretical draught produced in hot gas column= 26.23 m\nDraught is lost in friction at the grate and passing= 15.74 m\nActual draught produced in hot gas column= 10.49 \nVelocity of the flue gases in the chimney= 14.35 m/s\nDensity of flue gases= 0.686 Kg/m**3\nMass of gas fowing throgh the chimney= 42.22 Kg/s\nDiameter of flue gases= 2.337 Kg/m**3\n"
      }
     ],
     "prompt_number": 21
    },
    {
     "cell_type": "heading",
     "level": 2,
     "metadata": {},
     "source": "Example 22 Page No:256"
    },
    {
     "cell_type": "code",
     "collapsed": false,
     "input": "#Input data\nH=45          #Chimney height in m\nTg=370+273    #Temperature of flue gases in degree celsius\nT1=150+273    #Temperature of flue gases in degree celsius\nma=25         #Mass of the flue gas formed in Kg/kg of a cosl fired\nTa=35+273     #The boiler temperature in degree celsius\nCp=1.004      #fuel gas\n\n#calculation\n#Efficeincy of chimney draught in %\nA=(H*(((Tg/Ta)*(ma/(ma+1)))-1))/(Cp*(Tg-T1))*100\n\n#Output\nprint(\"Efficeincy of chimney draught=\",round(A,2),\"%\")",
     "language": "python",
     "metadata": {},
     "outputs": [
      {
       "output_type": "stream",
       "stream": "stdout",
       "text": "Efficeincy of chimney draught= 20.52 %\n"
      }
     ],
     "prompt_number": 22
    }
   ],
   "metadata": {}
  }
 ]
}