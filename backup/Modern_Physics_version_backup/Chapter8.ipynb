{
 "metadata": {
  "name": "Chapter8"
 },
 "nbformat": 3,
 "nbformat_minor": 0,
 "worksheets": [
  {
   "cells": [
    {
     "cell_type": "heading",
     "level": 1,
     "metadata": {},
     "source": [
      "Chapter 8:Many Electron Atoms"
     ]
    },
    {
     "cell_type": "heading",
     "level": 2,
     "metadata": {},
     "source": [
      "Example 8.1 Page 248"
     ]
    },
    {
     "cell_type": "code",
     "collapsed": false,
     "input": [
      "#initiation of variable\n",
      "hc=1240.0*10**-9;Rinfi=1.097*10**7;Z=11;  #for sodium atom;and other constants in MeV\n",
      "\n",
      "#calculation\n",
      "delE=3*hc*Rinfi*(Z-1)**2/4.0              #change in energy\n",
      "\n",
      "#result\n",
      "print\"The energy of the Ka x-ray of the sodium atom in KeV.is\",round(delE/10**3,3);\n"
     ],
     "language": "python",
     "metadata": {},
     "outputs": [
      {
       "output_type": "stream",
       "stream": "stdout",
       "text": [
        "The energy of the Ka x-ray of the sodium atom in KeV.is 1.02\n"
       ]
      }
     ],
     "prompt_number": 1
    },
    {
     "cell_type": "heading",
     "level": 2,
     "metadata": {},
     "source": [
      "Example 8.2 Page 249"
     ]
    },
    {
     "cell_type": "code",
     "collapsed": false,
     "input": [
      "#initiation of variable\n",
      "EKa=21.990;EKb=25.145;EK=25.514                                      #all the values are in KeV\n",
      "\n",
      "#calcualtion\n",
      "ELo=EKb-EKa;\n",
      "\n",
      "#result\n",
      "print\"The energy of La of X-ray in KeV.is\",round(ELo,3);             #Energy of La X-ray\n",
      "\n",
      "#partb\n",
      "EL=-EK+EKa;\n",
      "\n",
      "#result\n",
      "print\"Hence the binding energy of the L electon in KeV.is\",round(EL,3); # for electron L electron"
     ],
     "language": "python",
     "metadata": {},
     "outputs": [
      {
       "output_type": "stream",
       "stream": "stdout",
       "text": [
        "The enrgy of La of X-ray in KeV.is 3.155\n",
        "Hence the binding energy of the L electon in KeV.is -3.524\n"
       ]
      }
     ],
     "prompt_number": 2
    },
    {
     "cell_type": "heading",
     "level": 2,
     "metadata": {},
     "source": [
      "Example 8.3 Page 250"
     ]
    },
    {
     "cell_type": "code",
     "collapsed": false,
     "input": [
      "#initiation of variable\n",
      "l=1.0; \n",
      "\n",
      "#calculation\n",
      "Lmax=l+l;Lmin=l-l;\n",
      "s=1.0/2; Smax=s+s;Smin=s-s;\n",
      "\n",
      "#result\n",
      "print\"Value of L ranges from\",Lmin,\" to\",Lmax,\" i.e\",Lmin,1,Lmax;\n",
      "print\"Values of S are maxi,min\",Smax,Smin;\n"
     ],
     "language": "python",
     "metadata": {},
     "outputs": [
      {
       "output_type": "stream",
       "stream": "stdout",
       "text": [
        "Value of L ranges from 0.0  to 2.0  i.e 0.0 1 2.0\n",
        "Values of S are maxi,min 1.0 0.0\n"
       ]
      }
     ],
     "prompt_number": 5
    },
    {
     "cell_type": "heading",
     "level": 2,
     "metadata": {},
     "source": [
      "Example 8.4 Page 250"
     ]
    },
    {
     "cell_type": "code",
     "collapsed": false,
     "input": [
      "#initiation of variable\n",
      "l=1.0; \n",
      "\n",
      "#calculation\n",
      "Lmax=l+l;Lmin=l-l;\n",
      "s=1.0/2; Smax=s+s;Smin=s-s;\n",
      "\n",
      "#result\n",
      "print\"Considering any two electrons,Value of L2e ranges from\",Lmin,\" to\",Lmax,\" i.e\",Lmin,1,Lmax;\n",
      "print\"Adding the angular momentum of the third electron to L2emax gives the maximum  whole angular momentum as 2+1=3; and subtracting it from L2e=1 gives 0\"\n",
      "print\"Values of S are maxi,min\",Smax,Smin;\n",
      "print\"Adding and subtracting the spin of third to S2e=1 and S2e=0 respectively gives the spins 3/2 and 1/2 for the 3 electron system.\";"
     ],
     "language": "python",
     "metadata": {},
     "outputs": [
      {
       "output_type": "stream",
       "stream": "stdout",
       "text": [
        "Considering any two electrons,Value of L2e ranges from 0.0  to 2.0  i.e 0.0 1 2.0\n",
        "Adding the angular momentum of the third electron to L2emax gives the maximum  whole angular momentum as 2+1=3; and subtracting it from L2e=1 gives 0\n",
        "Values of S are maxi,min 1.0 0.0\n",
        "Adding and subtracting the spin of third to S2e=1 and S2e=0 respectively gives the spins 3/2 and 1/2 for the 3 electron system.\n"
       ]
      }
     ],
     "prompt_number": 6
    }
   ],
   "metadata": {}
  }
 ]
}