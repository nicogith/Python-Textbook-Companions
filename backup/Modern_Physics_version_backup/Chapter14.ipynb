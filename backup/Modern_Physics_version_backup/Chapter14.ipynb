{
 "metadata": {
  "name": "Chapter14"
 },
 "nbformat": 3,
 "nbformat_minor": 0,
 "worksheets": [
  {
   "cells": [
    {
     "cell_type": "heading",
     "level": 1,
     "metadata": {},
     "source": [
      "Chapter 14:Elementary Particles"
     ]
    },
    {
     "cell_type": "heading",
     "level": 2,
     "metadata": {},
     "source": [
      "Example 14.2, Page 451"
     ]
    },
    {
     "cell_type": "code",
     "collapsed": false,
     "input": [
      "#initiation of variable\n",
      "mvo=1116.0;mp=938.0;mpi=140.0;    #mass of various particles\n",
      "\n",
      "#calculation\n",
      "Q=(mvo-mp-mpi);            #Q value of energy\n",
      "Pp=100.0;Ppi=100;            #momentum of various particles\n",
      "Kp=5.0;Kpi=38-Kp;            #kinetic energy of particles\n",
      "\n",
      "#result\n",
      "print \"The kinetic energy of the particles Kp and Kpi are\", Kp,\" MeV and\",Kpi,\" MeV respectively\""
     ],
     "language": "python",
     "metadata": {},
     "outputs": [
      {
       "output_type": "stream",
       "stream": "stdout",
       "text": [
        " The kinetic energy of the particles Kp and Kpi are 5.0  MeV and 33.0  MeV respectively\n"
       ]
      }
     ],
     "prompt_number": 2
    },
    {
     "cell_type": "heading",
     "level": 2,
     "metadata": {},
     "source": [
      "Example 14.3, Page 453"
     ]
    },
    {
     "cell_type": "code",
     "collapsed": false,
     "input": [
      "#initiation of variable\n",
      "Q=105.2                    # The Q value for the given decay\n",
      "Muc2=105.80344         #mass energy\n",
      "\n",
      "#calculation\n",
      "Ke= Q**2/(2*Muc2);       #Ke=Ee-mec2;\n",
      "\n",
      "#result\n",
      "print \"The maximum kinetic energy in MeV is\",round(Ke,3);\n"
     ],
     "language": "python",
     "metadata": {},
     "outputs": [
      {
       "output_type": "stream",
       "stream": "stdout",
       "text": [
        "The maximum kinetic energy in MeV is 52.3\n"
       ]
      }
     ],
     "prompt_number": 3
    },
    {
     "cell_type": "heading",
     "level": 2,
     "metadata": {},
     "source": [
      "Example 14.4, Page 455"
     ]
    },
    {
     "cell_type": "code",
     "collapsed": false,
     "input": [
      "#initiation of variable\n",
      "from __future__ import division\n",
      "from sympy.solvers import solve\n",
      "from sympy import Symbol\n",
      "from sympy import *\n",
      "from math import sqrt\n",
      "mkc2=494.0; mpic2=135.0;mec2=0.5;# mass of various particles\n",
      "\n",
      "#calculation\n",
      "Q1=mkc2-mpic2-mec2;       #Q of reaction\n",
      "# the neutrino has negligible energy\n",
      "x = symbols('x')\n",
      "k=solve((x**2+135.0**2)**(0.5)+x-494,x);# assigning the Q to sum of energies and simplifying\n",
      "\n",
      "print \"The value of maximum kinetic enrgy for pi-meson  and positron are\",266,\"MeV &\",k,\" MeV\";"
     ],
     "language": "python",
     "metadata": {},
     "outputs": [
      {
       "output_type": "stream",
       "stream": "stdout",
       "text": [
        " The value of maximum kinetic enrgy for pi-meson  and positron are 266 MeV & [228.553643724696]  MeV\n"
       ]
      }
     ],
     "prompt_number": 17
    },
    {
     "cell_type": "heading",
     "level": 2,
     "metadata": {},
     "source": [
      "Example 14.5, Page 457"
     ]
    },
    {
     "cell_type": "code",
     "collapsed": false,
     "input": [
      "#initiation of variable\n",
      "mpi_=140;mp=938;mKo=498;mLo=1116; #mass of various particles\n",
      "\n",
      "#calculation\n",
      "Q1= mpi_+mp-mKo-mLo;          #Q value of reaction 1\n",
      "mK_=494.0;mpio=135.0;         \n",
      "Q2=mK_+mp-mLo-mpio;         #Q value of reaction 2\n",
      "\n",
      "#result\n",
      "print\"The Q values of reactions 1 and 2 are\", Q1,\" MeV and\",Q2,\"MeV\";"
     ],
     "language": "python",
     "metadata": {},
     "outputs": [
      {
       "output_type": "stream",
       "stream": "stdout",
       "text": [
        "The Q values of reactions 1 and 2 are -536  MeV and 181.0 MeV\n"
       ]
      }
     ],
     "prompt_number": 19
    },
    {
     "cell_type": "heading",
     "level": 2,
     "metadata": {},
     "source": [
      "Example 14.6, Page 459"
     ]
    },
    {
     "cell_type": "code",
     "collapsed": false,
     "input": [
      "#initiation of variable\n",
      "mpic2=135.0;        #mass energy of pi particle\n",
      "\n",
      "#calculation\n",
      "Q=-mpic2;\n",
      "mp=938.0;mpi=135.0;\n",
      "Kth=(-Q)*((4*mp)+mpi)/(2*(mp));  #threshold energy\n",
      "\n",
      "#result\n",
      "print\"The threshold kinetic energy in MeV is\",round(Kth,3);"
     ],
     "language": "python",
     "metadata": {},
     "outputs": [
      {
       "output_type": "stream",
       "stream": "stdout",
       "text": [
        "The threshold kinetic energy in MeV is 279.715\n"
       ]
      }
     ],
     "prompt_number": 20
    },
    {
     "cell_type": "heading",
     "level": 2,
     "metadata": {},
     "source": [
      "Example 14.7, Page 460"
     ]
    },
    {
     "cell_type": "code",
     "collapsed": false,
     "input": [
      "#initiation of variable\n",
      "mpc2=938.0;   #rest energy of proton\n",
      "\n",
      "#result\n",
      "Q=mpc2+mpc2-(4*mpc2);        #Q value of reaction \n",
      "Kth=(-Q)*(6*mpc2/(2*mpc2));       # thershold kinetic energy\n",
      "\n",
      "#result\n",
      "print \"The threshold kinetic energy in MeV is\",round(Kth,3);"
     ],
     "language": "python",
     "metadata": {},
     "outputs": [
      {
       "output_type": "stream",
       "stream": "stdout",
       "text": [
        "The threshold kinetic energy in MeV is 5628.0\n"
       ]
      }
     ],
     "prompt_number": 21
    }
   ],
   "metadata": {}
  }
 ]
}