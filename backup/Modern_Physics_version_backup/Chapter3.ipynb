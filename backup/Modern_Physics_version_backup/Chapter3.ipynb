{
 "metadata": {
  "name": "Chapter3"
 },
 "nbformat": 3,
 "nbformat_minor": 0,
 "worksheets": [
  {
   "cells": [
    {
     "cell_type": "heading",
     "level": 1,
     "metadata": {},
     "source": [
      "Chapter 3:The particle like properties of electromagnetic radiation"
     ]
    },
    {
     "cell_type": "heading",
     "level": 2,
     "metadata": {},
     "source": [
      "Example 3.1 Page 69"
     ]
    },
    {
     "cell_type": "code",
     "collapsed": false,
     "input": [
      "#initiation of variable\n",
      "from math import sin,pi\n",
      "w=0.250; theta=26.3;n=1 # n=1 for hydrogen atom and rest all are given values\n",
      "\n",
      "#calculation\n",
      "d=n*w/(2*sin(theta*pi/180));     # bragg's law\n",
      "\n",
      "#result\n",
      "print \"Hence the atomic spacing in nm is\",round(d,3);"
     ],
     "language": "python",
     "metadata": {},
     "outputs": [
      {
       "output_type": "stream",
       "stream": "stdout",
       "text": [
        "Hence the atomic spacing in nm is 0.282\n"
       ]
      }
     ],
     "prompt_number": 1
    },
    {
     "cell_type": "heading",
     "level": 2,
     "metadata": {},
     "source": [
      "Example 3.2 Page 73"
     ]
    },
    {
     "cell_type": "code",
     "collapsed": false,
     "input": [
      "#initiation of variable\n",
      "from math import pi,sin\n",
      "I=120.0;r=0.1*10**-9;Eev=2.3   #I-intensity in W/m^2 r in m & E in electron volt\n",
      "A=pi*r**2;K=1.6*10**-19;     # A=area and K is conversion factor from ev to joules\n",
      "\n",
      "#calculation\n",
      "t= Eev*K/(I*A);            #time interval\n",
      "\n",
      "#result\n",
      "print \"The value of time interval was found out to be in sec is\",round(t,3);\n"
     ],
     "language": "python",
     "metadata": {},
     "outputs": [
      {
       "output_type": "stream",
       "stream": "stdout",
       "text": [
        "The value of time interval was found out to be in sec is 0.098\n"
       ]
      }
     ],
     "prompt_number": 2
    },
    {
     "cell_type": "heading",
     "level": 2,
     "metadata": {},
     "source": [
      "Example 3.3 Page 76"
     ]
    },
    {
     "cell_type": "code",
     "collapsed": false,
     "input": [
      "#initiation of variable\n",
      "from math import pi,sin\n",
      "w=650.0*10**-9;h=6.63*10**-34;c=3*10**8;  #given values and constant taken in comfortable units\n",
      "\n",
      "#calculation\n",
      "E=h*c/w; \n",
      "E1=E/(1.6*10**-19);\n",
      "\n",
      "#result\n",
      "print \"The Energy of the electron in J \",E,\"which is equivalent to in eV is \", round(E1,3);\n",
      "print \"The momentum of electron is p=E/c i.e is \", round(E1,3);\n",
      "\n",
      "#part b\n",
      "E2=2.40;                          #given energy of photon.\n",
      "\n",
      "#calculation\n",
      "w2=h*c*10**9/(E2*1.6*10**9);      #converting the energy in to eV and nm \n",
      "\n",
      "#result\n",
      "print \"The wavelength of the photon in m is\",round(w2*10**28,0)"
     ],
     "language": "python",
     "metadata": {},
     "outputs": [
      {
       "output_type": "stream",
       "stream": "stdout",
       "text": [
        "The Energy of the electron in J  3.06e-19 which is equivalent to in eV is  1.912\n",
        "The momentum of electron is p=E/c i.e is  1.912\n",
        "The wavelength of the photon in m is 518.0\n"
       ]
      }
     ],
     "prompt_number": 8
    },
    {
     "cell_type": "heading",
     "level": 2,
     "metadata": {},
     "source": [
      "Example 3.4 Page 78"
     ]
    },
    {
     "cell_type": "code",
     "collapsed": false,
     "input": [
      "#initiation of variable\n",
      "hc=1240.0; phi=4.52               #both the values are in eV\n",
      "\n",
      "#calcualtion\n",
      "w1=hc/phi; \n",
      "\n",
      "#result\n",
      "print \"The cutoff wavelength of the tungsten metal in nm is \",round(w1,3);\n",
      "\n",
      "#part b\n",
      "w2=198.0;     #given value of wavelength \n",
      "\n",
      "#calculation\n",
      "Kmax=(hc/w2)-phi;\n",
      "\n",
      "#result\n",
      "print 'The max value of kinetic energy in eV is',round(Kmax,3);\n",
      "\n",
      "#part c\n",
      "Vs=Kmax;\n",
      "\n",
      "#result\n",
      "print \"The numerical value of the max kinetic energy is same as stopping potential in volts.Hence in V is\",round(Vs,3);"
     ],
     "language": "python",
     "metadata": {},
     "outputs": [
      {
       "output_type": "stream",
       "stream": "stdout",
       "text": [
        "The cutoff wavelength of the tungsten metal in fnm is  274.336\n",
        "The max value of kinetic energy in eV is 1.743\n",
        "The numerical value of the max kinetic energy is same as stopping potential in volts.Hence in V is 1.743\n"
       ]
      }
     ],
     "prompt_number": 5
    },
    {
     "cell_type": "heading",
     "level": 2,
     "metadata": {},
     "source": [
      "Example 3.5 Page 80"
     ]
    },
    {
     "cell_type": "code",
     "collapsed": false,
     "input": [
      "#initiation of variable\n",
      "T1=293.0; Kw=2.898*10**-3;\n",
      "\n",
      "#calculation\n",
      "w1=Kw/T1;\n",
      "\n",
      "#result\n",
      "print \"The wavelength at which emits maximum radiation in um. is\",round(w1*10**6,3);\n",
      "\n",
      "#part b\n",
      "w2=650.0*10**-9; \n",
      "T2=Kw/w2;\n",
      "\n",
      "#result\n",
      "print 'The temperature of the object must be raised to in K. is',round(T2,3);\n",
      "\n",
      "#part c\n",
      "x=(T2/T1)**4; \n",
      "\n",
      "#result\n",
      "print \"Thus the thermal radiation at higher temperature in times the room (lower) tempertaure. is\",round(x,3);"
     ],
     "language": "python",
     "metadata": {},
     "outputs": [
      {
       "output_type": "stream",
       "stream": "stdout",
       "text": [
        "The wavelength at which emits maximum radiation in um. is 9.891\n",
        "The temperature of the object must be raised to in K. is 4458.462\n",
        "Thus the thermal radiation at higher temperature in times the room (lower) tempertaure. is 53612.939\n"
       ]
      }
     ],
     "prompt_number": 8
    },
    {
     "cell_type": "heading",
     "level": 2,
     "metadata": {},
     "source": [
      "Example 3.6 Page 82"
     ]
    },
    {
     "cell_type": "code",
     "collapsed": false,
     "input": [
      "#initiation of variable\n",
      "#part a\n",
      "from math import cos, sin, pi,atan\n",
      "w1=0.24;wc=0.00243;theta=60.0;   #given values w=wavelength(lambeda)\n",
      "\n",
      "#calculation\n",
      "w2=w1+(wc*(1-cos(theta*pi/180))); \n",
      "\n",
      "#result\n",
      "print \"The wavelength of x-rays after scattering in nm is\",round(w2,5);\n",
      "\n",
      "#part b;\n",
      "hc=1240;\n",
      "E2=hc/w2;E1=hc/w1; \n",
      "\n",
      "#result\n",
      "print \"The energy of scattered x-rays in eV is\",round(E2,3);\n",
      "\n",
      "#part c\n",
      "K= E1-E2; #The kinetic energy is the difference in the energy before and after the collision;\n",
      "\n",
      "print \"The kinetic energy of the x-rays in eV is\",round(K,3);\n",
      "\n",
      "#part d\n",
      "phi2=atan(E2*sin(theta*pi/180)/(E1-E2*cos(theta*pi/180)))\n",
      "\n",
      "#result\n",
      "print \"The direction of the scattered eletron in degrees is\",round(phi2*180/pi,3);"
     ],
     "language": "python",
     "metadata": {},
     "outputs": [
      {
       "output_type": "stream",
       "stream": "stdout",
       "text": [
        "The wavelength of x-rays after scattering in nm is 0.24121\n",
        "The energy of scattered x-rays in eV is 5140.642\n",
        "The kinetic energy of the x-rays in eV is 26.025\n",
        "The direction of the scattered eletron in degrees is 59.749\n"
       ]
      }
     ],
     "prompt_number": 9
    }
   ],
   "metadata": {}
  }
 ]
}