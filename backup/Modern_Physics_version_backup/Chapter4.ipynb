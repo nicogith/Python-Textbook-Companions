{
 "metadata": {
  "name": "Chapter4"
 },
 "nbformat": 3,
 "nbformat_minor": 0,
 "worksheets": [
  {
   "cells": [
    {
     "cell_type": "heading",
     "level": 1,
     "metadata": {},
     "source": [
      "Chapter 4:The Wave Like Properties of Particles"
     ]
    },
    {
     "cell_type": "heading",
     "level": 2,
     "metadata": {},
     "source": [
      "Example 4.1 Page 101"
     ]
    },
    {
     "cell_type": "code",
     "collapsed": false,
     "input": [
      "#initiation of variable\n",
      "from math import sqrt\n",
      "h=6.6*10**-34;                              # h(planck's constant)= 6.6*10^-34 \n",
      "m1= 10.0**3;v1=100.0;                           # for automobile\n",
      "\n",
      "#calculation\n",
      "w1= h/(m1*v1);                            # ['w'-wavelength in metre'm'-mass in Kg 'v'-velocity in metres/sec.] of the particles \n",
      "m2=10.0*(10**-3);v2= 500;                     # for bullet\n",
      "w2=h/(m2*v2);\n",
      "m3=(10.0**-9)*(10.0**-3); v3=1.0*10**-2;\n",
      "w3=h/(m3*v3);\n",
      "m4=9.1*10**-31;k=1*1.6*10**-19;            # k- kinetic energy of the electron & using 1ev = 1.6*10^-19 joule\n",
      "p=sqrt(2.0*m4*k);                         # p=momentum of electron ;from K=1/2*m*v^2\n",
      "w4=h/p;\n",
      "hc=1240;pc=100                         # In the extreme relativistc realm, K=E=pc; Given pc=100MeV,hc=1240MeV \n",
      "w5= hc/pc;\n",
      "\n",
      "#result\n",
      "print \"Wavelength of the automobile in m is\",w1;\n",
      "print \"Wavelength of the bullet in m is \",w2 ;\n",
      "print\"Wavelength of the smoke particle in m is\",w3 ;\n",
      "print \"Wavelength of the electron(1ev) in nm is\",round(w4*10**9,3) ;\n",
      "print \"Wavelength of the electron (100Mev) in fm is\",w5;"
     ],
     "language": "python",
     "metadata": {},
     "outputs": [
      {
       "output_type": "stream",
       "stream": "stdout",
       "text": [
        "Wavelength of the automobile in m is 6.6e-39\n",
        "Wavelength of the bullet in m is  1.32e-34\n",
        "Wavelength of the smoke particle in m is 6.6e-20\n",
        "Wavelength of the electron(1ev) in nm is 1.223\n",
        "Wavelength of the electron (100Mev) in fm is 12\n"
       ]
      }
     ],
     "prompt_number": 3
    },
    {
     "cell_type": "heading",
     "level": 2,
     "metadata": {},
     "source": [
      "Example 4.2 Page 113"
     ]
    },
    {
     "cell_type": "code",
     "collapsed": false,
     "input": [
      "#initiation of variable\n",
      "from math import pi\n",
      "# w=wavelength; consider k=2*(pi/w); \n",
      "# differentiate k w.r.t w and replace del(k)/del(w) = 1 for equation.4.3\n",
      "# which gives del(w)= w^2 /(2*pi*del(x)), hence \n",
      "w=20; delx=200; # delx=200cm and w=20cm\n",
      "\n",
      "#calculation\n",
      "delw=(w**2)/(delx*2*pi);\n",
      "\n",
      "#result\n",
      "print \"Hence uncertainity in length in cm is\",round(delw,3);"
     ],
     "language": "python",
     "metadata": {},
     "outputs": [
      {
       "output_type": "stream",
       "stream": "stdout",
       "text": [
        "Hence uncertainity in length is in cm 0.318\n"
       ]
      }
     ],
     "prompt_number": 4
    },
    {
     "cell_type": "heading",
     "level": 2,
     "metadata": {},
     "source": [
      "Example 4.3 Page 114"
     ]
    },
    {
     "cell_type": "code",
     "collapsed": false,
     "input": [
      "#initiation of variable\n",
      "from math import pi\n",
      "delt=1.0;             #consider time interval of 1 sec\n",
      "delw=1/delt;        # since delw*delt =1 from equation 4.4\n",
      "delf=0.01          #calculated accuracy is 0.01Hz\n",
      "\n",
      "#calculation\n",
      "delwc =2*pi*delf # delwc-claimed accuracy from w=2*pi*f\n",
      "\n",
      "#result\n",
      "print \"The minimum uncertainity calculated is 1rad/sec. The claimed accuracy in rad/sec is \\n\",round(delwc,3);\n",
      "print \"thus there is a reason to doubt the claim\"\n"
     ],
     "language": "python",
     "metadata": {},
     "outputs": [
      {
       "output_type": "stream",
       "stream": "stdout",
       "text": [
        "The minimum uncertainity calculated is 1rad/sec. The claimed accuracy is in rad/sec\n",
        "0.063\n",
        "thus there is a reason to doubt the claim\n"
       ]
      }
     ],
     "prompt_number": 6
    },
    {
     "cell_type": "heading",
     "level": 2,
     "metadata": {},
     "source": [
      "Example 4.4 Page 115"
     ]
    },
    {
     "cell_type": "code",
     "collapsed": false,
     "input": [
      "#initiation of variable\n",
      "from math import pi\n",
      "m=9.11*10**-31;v=3.6*10**6; #'m','v' - mass an velocity of the electron in SI units\n",
      "h=1.05*10**-34; #planck's constant in SI\n",
      "p=m*v; #momentum\n",
      "delp=p*0.01; #due to 1% precision in p\n",
      "delx = h/delp; #uncertainity in position\n",
      "\n",
      "#result\n",
      "print \"Uncertainty in position in nm is\",round(delx*10**9,2);\n",
      "\n",
      "#partb\n",
      "print \"Since the motion is strictly along X-direction, its velocity in Y direction is absolutely zero.\\n So uncertainity in velocity along y is zero=> uncertainity in position along y is infinite. \\nSo nothing can be said about its position/motion along \""
     ],
     "language": "python",
     "metadata": {},
     "outputs": [
      {
       "output_type": "stream",
       "stream": "stdout",
       "text": [
        "Uncertainity in position in nm is 3.2\n",
        "Since the motion is strictly along X-direction, its velocity in Y direction is absolutely zero.\n",
        " So uncertainity in velocity along y is zero=> uncertainity in position along y is infinite. \n",
        "So nothing can be said about its position/motion along \n"
       ]
      }
     ],
     "prompt_number": 4
    },
    {
     "cell_type": "heading",
     "level": 2,
     "metadata": {},
     "source": [
      "Example 4.5 Page 116"
     ]
    },
    {
     "cell_type": "code",
     "collapsed": false,
     "input": [
      "#initiation of variable\n",
      "from math import pi\n",
      "m=0.145;v=42.5; #'m','v' - mass an velocity of the electron in SI units\n",
      "h=1.05*10**-34; #planck's constant in SI\n",
      "p=m*v; #momentum\n",
      "delp=p*0.01;#due to 1% precision in p\n",
      "\n",
      "#calculation\n",
      "delx = h/delp#uncertainty in position\n",
      "\n",
      "#result\n",
      "print \"Uncertainity in position is %.1e\" %delx;\n",
      "\n",
      "#part b\n",
      "print \"Motion along y is unpredictable as long as the velocity along y is exactly known(as zero).\";"
     ],
     "language": "python",
     "metadata": {},
     "outputs": [
      {
       "output_type": "stream",
       "stream": "stdout",
       "text": [
        "Uncertainity in position is 1.7e-33\n",
        "Motion along y is unpredictable as long as the veloity along y is exactly known(as zero).\n"
       ]
      }
     ],
     "prompt_number": 5
    },
    {
     "cell_type": "heading",
     "level": 2,
     "metadata": {},
     "source": [
      "Example 4.7 Page 119"
     ]
    },
    {
     "cell_type": "code",
     "collapsed": false,
     "input": [
      "#initiation of variable\n",
      "from math import sqrt\n",
      "mc2=2.15*10**-4;          #mc2 is the mass of the electron, concidered in Mev for the simplicity in calculations\n",
      "hc=197.0                  # The value of h*c in Mev.fm for simplicity\n",
      "delx= 10.0               # Given uncertainty in position=diameter of nucleus= 10 fm\n",
      "\n",
      "#calculation\n",
      "delp= hc/delx ;       #Uncertainty in momentum per unit 'c' i.e (Mev/c) delp= h/delx =(h*c)/(c*delx);hc=197 Mev.fm  1Mev=1.6*10^-13 Joules')\n",
      "p=delp;               # Equating delp to p  as a consequence of equation 4.10\n",
      "K1=p**2+mc2**2   # The following 3 steps are the steps invlolved in calculating K.E= sqrt((p*c)^2 + (mc^2)^2)- m*c^2\n",
      "K1=sqrt(K1)\n",
      "K1= K1-(mc2);\n",
      "\n",
      "#result\n",
      "print \"Kinetic energy was found out to be in Mev is\", round(K1,3)"
     ],
     "language": "python",
     "metadata": {},
     "outputs": [
      {
       "output_type": "stream",
       "stream": "stdout",
       "text": [
        "Kinetic energy was found out to be in Mev 19.7\n"
       ]
      }
     ],
     "prompt_number": 14
    },
    {
     "cell_type": "heading",
     "level": 2,
     "metadata": {},
     "source": [
      "Example 4.8 Page 120"
     ]
    },
    {
     "cell_type": "code",
     "collapsed": false,
     "input": [
      "#initiation of variable\n",
      "h=6.58*10**-16; # plack's constant\n",
      "delt1=26.0*10**-9;E1=140.0*10**6 #given values of lifetime and rest energy of charged pi meson\n",
      "delt2=8.3*10**-17;E2=135.0*10**6;  #given values of lifetime and rest energy of uncharged pi meson\n",
      "delt3=4.4*10**-24;E3=765*10**6;       #given values of lifetime and rest energy of rho meson\n",
      "\n",
      "#calculation\n",
      "delE1=h/delt1; k1=delE1/E1;  # k is the measure of uncertainity\n",
      "delE2=h/delt2; k2=delE2/E2;\n",
      "delE3=h/delt3; k3=delE3/E3;\n",
      "\n",
      "#result\n",
      "print \"Uncertainty in energy of charged pi meson is %.1e\" %k1;\n",
      "print \"Uncertainty in energy of uncharged pi meson is %.1e\" %k2;\n",
      "print \"Uncertainty in energy of rho meson is \",round(k3,2);"
     ],
     "language": "python",
     "metadata": {},
     "outputs": [
      {
       "output_type": "stream",
       "stream": "stdout",
       "text": [
        "Uncertainity in energy of charged pi meson is 1.8e-16\n",
        "Uncertainity in energy of uncharged pi meson is 5.9e-08\n",
        "Uncertainity in energy of rho meson is  0.2\n"
       ]
      }
     ],
     "prompt_number": 9
    },
    {
     "cell_type": "heading",
     "level": 2,
     "metadata": {},
     "source": [
      "Example 4.9 Page 121"
     ]
    },
    {
     "cell_type": "code",
     "collapsed": false,
     "input": [
      "#initiation of variable\n",
      "h=1.05*10**-34;  #value of planck's constant in J.sec\n",
      "delx= 1.0;        # uncertainty in positon= dimension of the ball\n",
      "delp=h/delx;    # uncertainty in momentum \n",
      "m=0.1;         #mass of the ball in kg\n",
      "\n",
      "#calculation\n",
      "delv=delp/m;    # uncertainty in velocity\n",
      "\n",
      "#result\n",
      "print \"The value of minimum velocity was found out to be in m/sec\",delv;"
     ],
     "language": "python",
     "metadata": {},
     "outputs": [
      {
       "output_type": "stream",
       "stream": "stdout",
       "text": [
        "The value of minimum velocity was found out to be in m/sec 1.05e-33\n"
       ]
      }
     ],
     "prompt_number": 17
    }
   ],
   "metadata": {}
  }
 ]
}