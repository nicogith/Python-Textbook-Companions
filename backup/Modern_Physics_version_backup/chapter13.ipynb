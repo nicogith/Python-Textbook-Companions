{
 "metadata": {
  "name": "",
  "signature": "sha256:bee0f8df3068997ca43cf44df4f129c530dc6e34523ca501c99a2183643ee772"
 },
 "nbformat": 3,
 "nbformat_minor": 0,
 "worksheets": [
  {
   "cells": [
    {
     "cell_type": "heading",
     "level": 1,
     "metadata": {},
     "source": [
      "13: Nuclear Reactions"
     ]
    },
    {
     "cell_type": "heading",
     "level": 2,
     "metadata": {},
     "source": [
      "Example number 13.1, Page number 259"
     ]
    },
    {
     "cell_type": "code",
     "collapsed": false,
     "input": [
      "#import modules\n",
      "import math\n",
      "from __future__ import division\n",
      "\n",
      "#Variable declaration\n",
      "m1=7.0183;      #mass of 3Li7(amu)\n",
      "m2=4.0040;      #mass of 2He4(amu)\n",
      "m3=1.0082;      #mass of 1H1(amu)\n",
      "N=6.026*10**26;      #Avgraodo no.(per kg atom)\n",
      "#rxn = 3Li7 + 1H1 = 2He4 + 2He4 \n",
      "\n",
      "#Calculation\n",
      "delta_m=m1+m3-(2*m2);      #deltam(amu)\n",
      "E=delta_m*931;          #energy per disintegration(MeV)\n",
      "n=0.1*N/7;      #no of atoms in 100 gm of lithium\n",
      "TE=n*E;         #Total energy available(MeV)  \n",
      "\n",
      "#Result\n",
      "print \"energy available per disintegration is\",round(E,2),\"MeV\"\n",
      "print \"Total energy available is\",round(TE/1e+25,2),\"*10**25 MeV\""
     ],
     "language": "python",
     "metadata": {},
     "outputs": [
      {
       "output_type": "stream",
       "stream": "stdout",
       "text": [
        "energy available per disintegration is 17.22 MeV\n",
        "Total energy available is 14.83 *10**25 MeV\n"
       ]
      }
     ],
     "prompt_number": 5
    },
    {
     "cell_type": "heading",
     "level": 2,
     "metadata": {},
     "source": [
      "Example number 13.2, Page number 259"
     ]
    },
    {
     "cell_type": "code",
     "collapsed": false,
     "input": [
      "#import modules\n",
      "import math\n",
      "from __future__ import division\n",
      "\n",
      "#Variable declaration\n",
      "m1=6.015126;    #mass of 3Li7(a.m.u)\n",
      "m2=4.002604;    #mass oh 2He4(a.m.u)\n",
      "m3=1.00865;     #mass of 0n1(a.m.u)\n",
      "m4=3.016049;    #mass of 1H3(a.m.u)\n",
      "#rxn = 3Li7 + 0n1 = 2He4 + 1H3 + Q\n",
      "\n",
      "#Calculation\n",
      "dm=m1+m3-(m2+m4);\n",
      "Q=dm*931;         #energy released(MeV)\n",
      "\n",
      "#Result\n",
      "print \"energy released is\",round(Q,4),\"MeV\"\n",
      "print \"answer given in the book varies due to rounding off errors\""
     ],
     "language": "python",
     "metadata": {},
     "outputs": [
      {
       "output_type": "stream",
       "stream": "stdout",
       "text": [
        "energy released is 4.7695 MeV\n",
        "answer given in the book varies due to rounding off errors\n"
       ]
      }
     ],
     "prompt_number": 8
    },
    {
     "cell_type": "heading",
     "level": 2,
     "metadata": {},
     "source": [
      "Example number 13.3, Page number 260"
     ]
    },
    {
     "cell_type": "code",
     "collapsed": false,
     "input": [
      "#import modules\n",
      "import math\n",
      "from __future__ import division\n",
      "\n",
      "#Variable declaration\n",
      "m1=14.007515;     #mass of 7N14(a.m.u)\n",
      "m2=4.003837;      #mass of 2He4(a.m.u)\n",
      "m3=17.004533;     #mass of 8O17(a.m.u)\n",
      "m4=1.008142;      #mass of 1H1(a.m.u)\n",
      "#rxn = 7N14 + 2He14 = 8O17 + 1H1\n",
      "\n",
      "#Calculation\n",
      "dm=m3+m4-(m1+m2);\n",
      "Q=dm*931;           #Q value of the reaction(MeV)\n",
      "\n",
      "#Result\n",
      "print \"Q value of the reaction is\",round(Q,3),\"MeV\""
     ],
     "language": "python",
     "metadata": {},
     "outputs": [
      {
       "output_type": "stream",
       "stream": "stdout",
       "text": [
        "Q value of the reaction is 1.232 MeV\n"
       ]
      }
     ],
     "prompt_number": 11
    },
    {
     "cell_type": "heading",
     "level": 2,
     "metadata": {},
     "source": [
      "Example number 13.4, Page number 260"
     ]
    },
    {
     "cell_type": "code",
     "collapsed": false,
     "input": [
      "#import modules\n",
      "import math\n",
      "from __future__ import division\n",
      "\n",
      "#Variable declaration\n",
      "m1=14.007520;     #mass of 7N14(a.m.u)\n",
      "m2=1.008986;      #mass oh 0n1(a.m.u)\n",
      "#m3=mass of 6C14 in a.m.u\n",
      "m4=1.008145;      #mass of 1H1(a.m.u)\n",
      "#rxn = 7N14 + 0n1 = 6C14 + 1H1 + 0.55 MeV\n",
      "\n",
      "#Calculation\n",
      "Q=0.55;           #energy(MeV)\n",
      "dm=Q/931;              \n",
      "m3=dm+m1+m2-m4;       #mass of 6C14(a.m.u)\n",
      "\n",
      "#Result\n",
      "print \"mass of 6C14 is\",round(m3,5),\"a.m.u\"\n",
      "print \"answer given in the book varies due to rounding off errors\""
     ],
     "language": "python",
     "metadata": {},
     "outputs": [
      {
       "output_type": "stream",
       "stream": "stdout",
       "text": [
        "mass of 6C14 is 14.00895 a.m.u\n",
        "answer given in the book varies due to rounding off errors\n"
       ]
      }
     ],
     "prompt_number": 14
    },
    {
     "cell_type": "heading",
     "level": 2,
     "metadata": {},
     "source": [
      "Example number 13.6, Page number 261"
     ]
    },
    {
     "cell_type": "code",
     "collapsed": false,
     "input": [
      "#import modules\n",
      "import math\n",
      "from __future__ import division\n",
      "\n",
      "#Variable declaration\n",
      "m0=11.01280;     #mass 5B11(a.m.u)\n",
      "m1=4.00387;      #mass of alpha particle(a.m.u)\n",
      "m2=14.00752;     #mass of 7N14(a.m.u)\n",
      "#m3=mass of neutron \n",
      "E1=5.250;       #energy of alpha particle(MeV)\n",
      "E2=2.139;       #energy of 7N14(MeV)\n",
      "E3=3.260;       #energy of 0n1(MeV)\n",
      "\n",
      "#Calculation\n",
      "m3=(m0*931)+((m1*931)+E1)-((m2*931)+E2)-E3;          #mass of neutron(a.m.u)\n",
      "\n",
      "#Result\n",
      "print \"mass of neutron is\",round(m3/931,3),\"a.m.u\""
     ],
     "language": "python",
     "metadata": {},
     "outputs": [
      {
       "output_type": "stream",
       "stream": "stdout",
       "text": [
        "mass of neutron is 1.009 a.m.u\n"
       ]
      }
     ],
     "prompt_number": 16
    }
   ],
   "metadata": {}
  }
 ]
}