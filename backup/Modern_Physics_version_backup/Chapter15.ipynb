{
 "metadata": {
  "name": "Chapter15"
 },
 "nbformat": 3,
 "nbformat_minor": 0,
 "worksheets": [
  {
   "cells": [
    {
     "cell_type": "heading",
     "level": 1,
     "metadata": {},
     "source": [
      "Chapter 15:The General Theory of Relativity"
     ]
    },
    {
     "cell_type": "heading",
     "level": 2,
     "metadata": {},
     "source": [
      "Example 15.1, Page 491"
     ]
    },
    {
     "cell_type": "code",
     "collapsed": false,
     "input": [
      "#initiation of variable\n",
      "w=121.5;   #lambda\n",
      "G=6.67*10**-11; #Various given values and constants\n",
      "M= 1.99*10**30; \n",
      "R= 6.96*10**8;\n",
      "c=3*10**8;\n",
      "\n",
      "#calculation\n",
      "k= G*M/(R*c**2);    #(delLambda)/(lambda)\n",
      "delw=k*w;           #del(lambda)\n",
      "\n",
      "#result\n",
      "print \"The change in wavelength due to gravitational shift in pm is\",round(delw*10**3,3);\n",
      "\n",
      "#part3\n",
      "k=5.5*10**-5;#due to thermal Doppler broadening effect\n",
      "delw=k*w;\n",
      "\n",
      "#result\n",
      "print \"The change in wavelength due to thermal Doppler broadening effect in pm is\",round(delw*10**3,3);"
     ],
     "language": "python",
     "metadata": {},
     "outputs": [
      {
       "output_type": "stream",
       "stream": "stdout",
       "text": [
        " The change in wavelength due to gravitational shift in pm is 0.257\n",
        "The change in wavelength due to thermal Doppler broadening effect in pm is 6.683\n"
       ]
      }
     ],
     "prompt_number": 2
    },
    {
     "cell_type": "heading",
     "level": 2,
     "metadata": {},
     "source": [
      "Example 15.2, Page 501"
     ]
    },
    {
     "cell_type": "code",
     "collapsed": false,
     "input": [
      "#initiation of variable\n",
      "mp=938.280;   #mass of various particles\n",
      "me=0.511;\n",
      "m2h=1875.628;\n",
      "\n",
      "#calculation\n",
      "mic2=2*mp;           #mass energy on L.H.S\n",
      "mfc2=m2h+me;  #mass energy on R.H.S\n",
      "Q=mic2-mfc2;    #Q value of reation\n",
      "pc=Q;\n",
      "mc2=1875.628;\n",
      "K=(pc**2)/(2*mc2);     #kinetic threshold energy\n",
      "Emax=Q-K;        #maximum energy \n",
      "\n",
      "#result\n",
      "print \"The maximum neutrino energy in MeV is\",round(Emax,3);"
     ],
     "language": "python",
     "metadata": {},
     "outputs": [
      {
       "output_type": "stream",
       "stream": "stdout",
       "text": [
        "The maximum neutrino energy in MeV is 0.421\n"
       ]
      }
     ],
     "prompt_number": 3
    }
   ],
   "metadata": {}
  }
 ]
}