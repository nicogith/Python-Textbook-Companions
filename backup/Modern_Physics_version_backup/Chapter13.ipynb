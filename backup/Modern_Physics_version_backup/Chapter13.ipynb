{
 "metadata": {
  "name": "Chapter13",
  "signature": "sha256:3612dc1ad0c2617d4c1e1da21ea7791334391562bfe93ddc9d0f98037d4fe15d"
 },
 "nbformat": 3,
 "nbformat_minor": 0,
 "worksheets": [
  {
   "cells": [
    {
     "cell_type": "heading",
     "level": 1,
     "metadata": {},
     "source": [
      "Chapter 13:Nuclear Reaction and Application"
     ]
    },
    {
     "cell_type": "heading",
     "level": 2,
     "metadata": {},
     "source": [
      "Example 13.1, Page 417"
     ]
    },
    {
     "cell_type": "code",
     "collapsed": false,
     "input": [
      "#initiation of variable\n",
      "v=1*1.0*10**-6.0*10**2; p=7.9; m=p*v;Na=6.023*10**23     #given values and various constants in suitable units\n",
      "M=56.0;N=m*Na/M;                                 #number of atoms\n",
      "i=3.0*10**-6;\n",
      "q=1.6*10**-19;\n",
      "\n",
      "#calculation\n",
      "Io=i/q;                 #intensity\n",
      "s=0.6*10**-24;S=1;             #given values in suitable units\n",
      "R=N*s*Io/S;                     #rate of neutrons\n",
      "\n",
      "#result\n",
      "print\"The rate of neutrons emitted from the target in particles per second is %.1e\" %round(R,3);\n",
      "print\"Slight difference in answer due to approximation error\""
     ],
     "language": "python",
     "metadata": {},
     "outputs": [
      {
       "output_type": "stream",
       "stream": "stdout",
       "text": [
        "The rate of neutrons emitted from the target in particles per second is 9.6e+07\n",
        "slight difference due to approximation error\n"
       ]
      }
     ],
     "prompt_number": 4
    },
    {
     "cell_type": "heading",
     "level": 2,
     "metadata": {},
     "source": [
      "Example 13.2, Page 419"
     ]
    },
    {
     "cell_type": "code",
     "collapsed": false,
     "input": [
      "#initiation of variable\n",
      "A=197.0; m=30*10**-3;phi=3.0*10**12;    #given values and various constants taken in suitable units\n",
      "Ar=99.0*10**-24; Na=6.023*10**23\n",
      "\n",
      "#calculation\n",
      "R=(phi*Na*Ar*m/A);        #rate or production of gold\n",
      "t=2.7*24*60         # time of decay\n",
      "Act=R*(0.693/t);     #activity /sec\n",
      "ActCi=Act/(3.7*10**4);     # in terms of curie(Ci)\n",
      "\n",
      "#result\n",
      "print\"The activity is found out to be %.1e\" %round(Act,3),\"/sec i.e \" ,round(ActCi,3),\"muCi\"\n",
      "print\"Slight difference in answer due to approximation error\""
     ],
     "language": "python",
     "metadata": {},
     "outputs": [
      {
       "output_type": "stream",
       "stream": "stdout",
       "text": [
        "The activity is found out to be 4.9e+06 /sec i.e  131.229 muCi\n",
        "slight difference due to approximation error\n"
       ]
      }
     ],
     "prompt_number": 7
    },
    {
     "cell_type": "heading",
     "level": 2,
     "metadata": {},
     "source": [
      "Example 13.3, Page 423"
     ]
    },
    {
     "cell_type": "code",
     "collapsed": false,
     "input": [
      "#initiation of variable\n",
      "from math import exp\n",
      "v=1.5*1.5*2.5*(10**-6)*10**2; #volume in cm3\n",
      "p=8.9;         #density in g/cm3\n",
      "m=p*v;Na=6.023*10**23 #mass and Avagadro's number\n",
      "M=58.9;        #Given values\n",
      "\n",
      "#calculation\n",
      "N=m*Na/M;\n",
      "i=12*10**-6;       #thickness of beam\n",
      "q=1.6*10**-19;\n",
      "Io=i/(2*q);      #intensity\n",
      "s=0.64*10**-24;   #Given values\n",
      "S=1.5*1.5;\n",
      "R=N*s*Io/S;       #rate of production of 61Cu\n",
      "\n",
      "#result\n",
      "print \"The rate of neutrons emitted from the target in particles/second is %.1e\" %round(R,3);\n",
      "\n",
      "#part b\n",
      "act=R*(1-(exp((0.693)*(-2/3.41))));          #activity\n",
      "\n",
      "#result\n",
      "print\"The activity after 2.0h in /sec is %.1e\" %round(act,3),\"=4.9mCi\";\n"
     ],
     "language": "python",
     "metadata": {},
     "outputs": [
      {
       "output_type": "stream",
       "stream": "stdout",
       "text": [
        "The rate of neutrons emitted from the target in particles/second is 5.5e+08\n",
        "The activity after 2.0h in /sec is 1.8e+08 =4.9mCi\n"
       ]
      }
     ],
     "prompt_number": 6
    },
    {
     "cell_type": "heading",
     "level": 2,
     "metadata": {},
     "source": [
      "Example 13.4, Page 425"
     ]
    },
    {
     "cell_type": "code",
     "collapsed": false,
     "input": [
      "#initiation of variable\n",
      "m2H=2.014102;    #mass of various particles\n",
      "mn=1.008665;m63Cu=62.929599;\n",
      "m64Zn=63.929145;c2=931.5;     #c^2=931.5 MeV\n",
      "Q=(m2H+m63Cu-mn-m64Zn)*c2;       #Q of the reaction\n",
      "\n",
      "#result\n",
      "print\"The value of Q is in MeV\",round(Q,3);\n",
      "\n",
      "\n",
      "#part b\n",
      "Kx=12.00;Ky=16.85;\n",
      "Ky=Q+Kx-Ky              #kinetic energy of 64Zn\n",
      "\n",
      "#result\n",
      "print\"The value of Ky was found out to be in MeV\",round(Ky,3);"
     ],
     "language": "python",
     "metadata": {},
     "outputs": [
      {
       "output_type": "stream",
       "stream": "stdout",
       "text": [
        "The value of Q is in MeV 5.487\n",
        "The value of Ky was found out to be in MeV 0.637\n"
       ]
      }
     ],
     "prompt_number": 5
    },
    {
     "cell_type": "heading",
     "level": 2,
     "metadata": {},
     "source": [
      "Example 13.5, Page 425"
     ]
    },
    {
     "cell_type": "code",
     "collapsed": false,
     "input": [
      "#initiation of variable\n",
      "mp=1.007825;m3H=3.016049;    #mass of the particle\n",
      "m2H=2.014102;c2=931.5;      #constant\n",
      "Q=(mp+m3H-(2*m2H))*c2;     #Q of the reaction\n",
      "\n",
      "#result\n",
      "print\"The value of q was found out to be in MeV\",round(Q,3);\n",
      "\n",
      "#partb\n",
      "Kth1= -Q*(1+(mp/m3H));        #threshold energy of kinetic energy\n",
      "Kth2=-Q*(1+(m3H/mp));        #threshold kinetic energy in case2\n",
      "\n",
      "#result\n",
      "print\"The threshold kinetic energy in case-1 in MeV\",round(Kth1,3);\n",
      "print\"The threshold kinetic energy in case-2 in MeV\",round(Kth2,3);"
     ],
     "language": "python",
     "metadata": {},
     "outputs": [
      {
       "output_type": "stream",
       "stream": "stdout",
       "text": [
        "The value of q was found out to be in MeV -4.033\n",
        "The threshold kinetic energy in case-1 in MeV 5.381\n",
        "The threshold kinetic energy in case-2 in MeV 16.104\n"
       ]
      }
     ],
     "prompt_number": 6
    }
   ],
   "metadata": {}
  }
 ]
}