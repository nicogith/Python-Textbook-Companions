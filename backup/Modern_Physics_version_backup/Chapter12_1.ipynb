{
 "metadata": {
  "name": "MP-12"
 },
 "nbformat": 3,
 "nbformat_minor": 0,
 "worksheets": [
  {
   "cells": [
    {
     "cell_type": "heading",
     "level": 1,
     "metadata": {},
     "source": "Nuclear Structure and Reactivity"
    },
    {
     "cell_type": "heading",
     "level": 2,
     "metadata": {},
     "source": "Example 12.1 Page 375"
    },
    {
     "cell_type": "code",
     "collapsed": false,
     "input": "#initiation of variable\nZ=2;A=4;N=A-Z;         # Given values\n\n#result\nprint\"The following method of representing atoms is followed throughout the chapter\\n\\t\\t x,y,z\\n where x=atomic number y=mass number z= Neutron Number S=symbol of the atom\\n\\n\"\nprint\"The helium can be reperesented as He-- \",Z,A,N;\n\n#part b\nZ=50.0;N=66.0;A=Z+N;       # Given values and standard formulae\nprint\"The Tin can be reperesented as Sn-- \",Z,A,N;\n\n\n#part c\nA=235;N=143;Z=A-N;\nprint\"The Uranium can be reperesented as U-- \",Z,A,N;",
     "language": "python",
     "metadata": {},
     "outputs": [
      {
       "output_type": "stream",
       "stream": "stdout",
       "text": "The following method of representing atoms is followed throughout the chapter\n\t\t x,y,z\n where x=atomic number y=mass number z= Neutron Number S=symbol of the atom\n\n\nThe helium can be reperesented as He--  2 4 2\nThe Tin can be reperesented as Sn--  50.0 116.0 66.0\nThe Uranium can be reperesented as U--  92 235 143\n"
      }
     ],
     "prompt_number": 4
    },
    {
     "cell_type": "heading",
     "level": 2,
     "metadata": {},
     "source": "Example 12.2 Page 377"
    },
    {
     "cell_type": "code",
     "collapsed": false,
     "input": "#initiation of variable\nr0=1.2;         #standard value.\nA=12.0; \nr= r0*A**(1.0/3);\n\n#result\nprint\"The value of mean radius for C in fm is\",round(r,3);\n\n#part2\nA=70.0;        #given value\nr= r0*A**(1.0/3);\n\n#result\nprint\"The value of mean radius for C in fm is\",round(r,3);\n\n#part3\nA=209;\nr= r0*A**(1.0/3);\n\n#result\nprint\"The value of mean radius for C in fm is\",round(r,3);",
     "language": "python",
     "metadata": {},
     "outputs": [
      {
       "output_type": "stream",
       "stream": "stdout",
       "text": "The value of mean radius for C in fm is 2.747\nThe value of mean radius for C in fm is 4.946\nThe value of mean radius for C in fm is 7.121\n"
      }
     ],
     "prompt_number": 6
    },
    {
     "cell_type": "heading",
     "level": 2,
     "metadata": {},
     "source": "Example 12.3 Page 379"
    },
    {
     "cell_type": "code",
     "collapsed": false,
     "input": "#initiation of variable\nfrom math import pi\nm=1.67*10**-27; r0=1.2*10**-15; v=4*pi*(r0**3)/3.0     #standard values of mass radius and volume\n\n#calculation\np=m/v;                                               #denisty \n\n#result\nprint\"Density of typical nucleus in kg/m3 is %.1e\" %p;\n\n#part 2\nr0=0.01;v=4*pi*(r0**3)/3.0;p=2.0*10**17;              #/hypothetical values\nm1=p*v;                                  \n\n#result\nprint\"The mass of the hypothetical nucleus would be in Kg %.1e\" %m1;\n",
     "language": "python",
     "metadata": {},
     "outputs": [
      {
       "output_type": "stream",
       "stream": "stdout",
       "text": "Density of typical nucleus in kg/m3 is 2.3e+17\nThe mass of the hypothetical nucleus would be in Kg 8.4e+11\n"
      }
     ],
     "prompt_number": 1
    },
    {
     "cell_type": "heading",
     "level": 2,
     "metadata": {},
     "source": "Example 12.4 Page 380"
    },
    {
     "cell_type": "code",
     "collapsed": false,
     "input": "#initiation of variable\nN=30.0;Z=26.0;A=56.0;Mn=1.008665;Mp=1.007825;m=55.934939;c2=931.5; #given values and constants for case-1\nB=((N*Mn)+(Z*Mp)-(m))*c2;                                  #binding energy(per nucleon)\n\n#result\nprint\"Binding nergy per nucleon for 26,56Fe30 in MeV is\",round(B/A,3);\n\n#part 2\nN=146.0;Z=92.0;A=238.0;Mn=1.008665;Mp=1.007825;m=238.050785;c2=931.5;      #given values and constants for case-2\nB=((N*Mn)+(Z*Mp)-(m))*c2;                             #binding energy(per nucleon)\n\n#result\nprint\"Binding nergy per nucleon for 26,56Fe30 in MeV is\",round(B/A,3);",
     "language": "python",
     "metadata": {},
     "outputs": [
      {
       "output_type": "stream",
       "stream": "stdout",
       "text": "Binding nergy per nucleon for 26,56Fe30 in MeV is 8.79\nBinding nergy per nucleon for 26,56Fe30 in MeV is 7.57\n"
      }
     ],
     "prompt_number": 10
    },
    {
     "cell_type": "heading",
     "level": 2,
     "metadata": {},
     "source": "Example 12.5 Page 382"
    },
    {
     "cell_type": "code",
     "collapsed": false,
     "input": "#initiation of variable\nfrom math import exp\nt12=2.7*24*3600;              #converting days into seconds\nw=0.693/t12;                  #lambeda\n\n#result\nprint\"The decay constant in sec is %.2e\" %w; \n\n#partb\nprint\"The decay constant is equal to probability of decay in one second hence %.2e\" %w;\n\n#partc\nm=10**-6;Na=6.023*10**23; M=198.0;     #given values and constants\nN=m*Na/M;                        #number of atoms in the sample \nAo=w*N;             #activity\n\n#result\nprint\"The activity was found out to be in Ci is %.2e\" %Ao;        \n\n#partd\nt=7*24*3600.0;         #given time\nA=Ao*exp(-w*t);        #activity\n\n#result\nprint\"The activity after one week was found out to be in decays/sec %.1e\" %A;",
     "language": "python",
     "metadata": {},
     "outputs": [
      {
       "output_type": "stream",
       "stream": "stdout",
       "text": "The decay constant in sec is 2.97e-06\nThe decay constant is equal to probability of decay in one second hence 2.97e-06\nThe activity was found out to be in Ci is 9.04e+09\nThe activity after one week was found out to be in decays/sec 1.5e+09\n"
      }
     ],
     "prompt_number": 6
    },
    {
     "cell_type": "heading",
     "level": 2,
     "metadata": {},
     "source": "Example 12.6 Page 384"
    },
    {
     "cell_type": "code",
     "collapsed": false,
     "input": "#initiation  of variable\nt1=4.55*10**9;t2=7.04*10**8;       #given values of time at 2 different instants\n\n#calculation\nage=t1/t2;\nr=2**age;\n\n#result\nprint \"The original rock hence contained\",round(r,3),\"Na atoms of 235U where Na is the Avagadro''s Number=6.023*10^23\";",
     "language": "python",
     "metadata": {},
     "outputs": [
      {
       "output_type": "stream",
       "stream": "stdout",
       "text": "The original rock hence contained 88.222 Na atoms of 235U where Na is the Avagadro''s Number=6.023*10^23\n"
      }
     ],
     "prompt_number": 13
    },
    {
     "cell_type": "heading",
     "level": 2,
     "metadata": {},
     "source": "Example 12.7 Page 385"
    },
    {
     "cell_type": "code",
     "collapsed": false,
     "input": "#initiation of variable\nm236Ra=226.025403;\nm222Rn=222.017571;\nm4He=4.002603;c2=931.5; #mass of various elements and c2=c^2\n\n#calculation\nQ=(m236Ra-m222Rn-m4He)*c2;#Q of the reaction\nA=226.0              \nK=((A-4)/A)*Q;                           #kinetic energy\n\n#result\nprint\"The kinetic energy of the alpha particle in Mev is\",round(K,3);",
     "language": "python",
     "metadata": {},
     "outputs": [
      {
       "output_type": "stream",
       "stream": "stdout",
       "text": "The kinetic energy of the alpha particle in Mev is 4.785\n"
      }
     ],
     "prompt_number": 14
    },
    {
     "cell_type": "heading",
     "level": 2,
     "metadata": {},
     "source": "Example 12.8 Page 387"
    },
    {
     "cell_type": "code",
     "collapsed": false,
     "input": "#initiation of variable\nm226Ra=226.025403; #mass of various elements\nm212Pb=211.991871;\nm14c=14.003242;\nc2=931.5;       #value of c^2\n\n#calculation\nQ=(m226Ra-m212Pb-m14c)*c2;      #Q of the reaction\n\n#result\nprint\"The value of Q for 14c emission in MeV is\",round(Q,3);\nprint\"The probability of 14c emission is 10^-9 times that of an alpha particle since the energy barrier for 14c emission is nearly 3 times higher and thicker.\"",
     "language": "python",
     "metadata": {},
     "outputs": [
      {
       "output_type": "stream",
       "stream": "stdout",
       "text": "The value of Q for 14c emission in MeV is 28.215\nThe probability of 14c emission is 10^-9 times that of an alpha particle since the energy barrier for 14c emission is nearly 3 times higher and thicker.\n"
      }
     ],
     "prompt_number": 15
    },
    {
     "cell_type": "heading",
     "level": 2,
     "metadata": {},
     "source": "Example 12.9 Page 389"
    },
    {
     "cell_type": "code",
     "collapsed": false,
     "input": "#initiation of variable\nm23Ne=22.994465; #mass of various elements\nm23Na=22.989768;\nc2=931.5;          #value of c^2\n\n#calculation\nQ=(m23Ne-m23Na)*c2;     #Q of the reaction\n\n#result\nprint \"Hence the maximum kinetic energy of the emitted electrons in MeV is\",round(Q,3);",
     "language": "python",
     "metadata": {},
     "outputs": [
      {
       "output_type": "stream",
       "stream": "stdout",
       "text": "Hence the maximum kinetic energy of the emitted electrons in MeV is 4.375\n"
      }
     ],
     "prompt_number": 16
    },
    {
     "cell_type": "heading",
     "level": 2,
     "metadata": {},
     "source": "Example 12.10 Page 390"
    },
    {
     "cell_type": "code",
     "collapsed": false,
     "input": "#initiation of variable\nm40K=39.963999;         #mass of various particles\nm40Ca=39.962591;\nc2=931.5;                    #value of c^2 in MeV\n\n#calculation\nQb1=(m40K-m40Ca)*c2;       #Q value of the reaction\n\n#result\nprint\"The Q value for -VE beta emission in Mev in\",round(Qb1,3);\n\n#partb\nm40K=39.963999;          #mass of various particles\nm40Ar=39.962384;\nme=0.000549;\nQb2=(m40K-m40Ar-2*me)*c2;         #Q value of the reaction\n\n#result\nprint\"The Q value for +VE beta emission in Mev in\",round(Qb2,3);\n\n#partc\nm40K=39.963999;\nm40Ar=39.962384;\n\n#calculation\nQec=(m40K-m40Ar)*c2;\n\n#result\nprint\"The Q value for +VE beta emission in Mev in\",round(Qec,3);",
     "language": "python",
     "metadata": {},
     "outputs": [
      {
       "output_type": "stream",
       "stream": "stdout",
       "text": "The Q value for -VE beta emission in Mev in 1.312\nThe Q value for +VE beta emission in Mev in 0.482\nThe Q value for +VE beta emission in Mev in 1.504\n"
      }
     ],
     "prompt_number": 17
    },
    {
     "cell_type": "heading",
     "level": 2,
     "metadata": {},
     "source": "Example 12.11 Page 392"
    },
    {
     "cell_type": "code",
     "collapsed": false,
     "input": "#initiation of variable\nMg=12.000000; #mass of the carbon atom in amu\nc2=931.5; \nEg=4.43;     #given energy of gamma ray \nMex=Mg+(Eg/c2);     #mass in excited state\nMe=0.000549;        #mass of an electron\n\n#calculation\nQ=(12.018613-Mex-2*Me)*c2;     #Q of the particle\n\n#result\nprint\"The maximum value of kinetic energy is in MeV\",round(Q,3);\n",
     "language": "python",
     "metadata": {},
     "outputs": [
      {
       "output_type": "stream",
       "stream": "stdout",
       "text": "The maximum value of kinetic energy is in MeV 11.885\n"
      }
     ],
     "prompt_number": 18
    },
    {
     "cell_type": "heading",
     "level": 2,
     "metadata": {},
     "source": "Example 12.12 Page 393"
    },
    {
     "cell_type": "code",
     "collapsed": false,
     "input": "#initiation of variable\nm238U=238.050786; #mass of various quantities\nm206Pb=205.974455;\nm4He=4.002603;\nc2=931.5;     #constants\nNa=6.023*10**23;   #avagadro's number\n\n#calculation\nQ=(m238U-m206Pb-8*m4He)*c2; \nt12=(4.5)*10**9*(3.16*10**7);    #half life years to seconds conversion\nw=0.693/t12;                 # lambeda\nNoD=(Na/238)*w;      #number of decays\nE=NoD*Q*(1.6*10**-19)*10**6;        #rate of liberation of energy,converting MeV to eV\n\n#result\nprint\"Rate of energy liberation in W is %.2e\" %E;",
     "language": "python",
     "metadata": {},
     "outputs": [
      {
       "output_type": "stream",
       "stream": "stdout",
       "text": "Rate of energy liberation in W is 1.02e-07\n"
      }
     ],
     "prompt_number": 8
    },
    {
     "cell_type": "heading",
     "level": 2,
     "metadata": {},
     "source": "Example 12.13 Page 395"
    },
    {
     "cell_type": "code",
     "collapsed": false,
     "input": "#initiation of variable\nfrom math import log\nR=0.5;t12=4.5*10**9;                 #value of radius and half-life \nt1=(t12/0.693)*log(1+(1/R));        #age of rock 1\nR=1.0;\nt2=(t12/0.693)*log(1+(1/R));       #age of rock-2\nR=2.0\nt3=(t12/0.693)*log(1+(1/R));       #age of rock 3\n\n#result\nprint\"The ages of rock samples in years respectively are %.1e\"%t1,\" %.1e\" %t2,\"  %.1e\" %t3;",
     "language": "python",
     "metadata": {},
     "outputs": [
      {
       "output_type": "stream",
       "stream": "stdout",
       "text": "The ages of rock samples in years respectively are 7.1e+09  4.5e+09   2.6e+09\n"
      }
     ],
     "prompt_number": 11
    },
    {
     "cell_type": "heading",
     "level": 2,
     "metadata": {},
     "source": "Example 12.14 Page 397"
    },
    {
     "cell_type": "code",
     "collapsed": false,
     "input": "#initiation of variable\nfrom math import log\nP=2.0*10**14; V=2.0*10**-14; R=8.314; T=295.0;Na=6.023*10**23;   #varoius constants and given values\n\n#calculation\nn=P*V/(R*T);       #ideal gas law\nN=Na*n;f=10**-12         #avagadaro's number and fracction of carbon molecules\nt12=5730*3.16*(10**7);   #half life\nA=(0.693/t12)*N*f;    #activity\nD1w=A*7*24*60*60;       #decays per second\n\n#result\nprint\"the no. of decays per second is %.2e\" %A\nprint\"The no of decays pers week is \",round(D1w);\n    \n    \n#partb\nc1=1420.0;             #concentration at instant 1\nc2=D1w;              #concentration at instant 2\nt12y=5730;          #half life\nt=t12y*log(c2/c1)/0.693;            #age of the sample\n\n#result\nprint\"Age of the sample in years is\",round(t,3);\nprint\"the answer in the book is wrong\"",
     "language": "python",
     "metadata": {},
     "outputs": [
      {
       "output_type": "stream",
       "stream": "stdout",
       "text": "the no. of decays per second is 3.76e-03\nThe no of decays pers week is  2274.0\nAge of the sample in years is 3892.57\n"
      }
     ],
     "prompt_number": 15
    },
    {
     "cell_type": "code",
     "collapsed": false,
     "input": "",
     "language": "python",
     "metadata": {},
     "outputs": []
    }
   ],
   "metadata": {}
  }
 ]
}