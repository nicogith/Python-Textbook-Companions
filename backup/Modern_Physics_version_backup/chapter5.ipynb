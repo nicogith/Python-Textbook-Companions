{
 "metadata": {
  "name": "",
  "signature": "sha256:9388f9d8764031d08c03b951ac3babfe1cafed91339d0e7cf1d9a5afd45176fa"
 },
 "nbformat": 3,
 "nbformat_minor": 0,
 "worksheets": [
  {
   "cells": [
    {
     "cell_type": "heading",
     "level": 1,
     "metadata": {},
     "source": [
      "5: Quantum Theory"
     ]
    },
    {
     "cell_type": "heading",
     "level": 2,
     "metadata": {},
     "source": [
      "Example number 5.1, Page number 97"
     ]
    },
    {
     "cell_type": "code",
     "collapsed": false,
     "input": [
      "#import modules\n",
      "import math\n",
      "from __future__ import division\n",
      "\n",
      "#Variable declaration\n",
      "W1=4;     #wavelength(Angstrom)\n",
      "W2=1;     #wavelength(Angstrom)\n",
      "e=1.6*10**-19;   #the charge on electron(C)\n",
      "m=9.12*10**-31;   #mass of electron(kg)\n",
      "\n",
      "#Calculation\n",
      "E=12400/W1;      #energy(eV)\n",
      "v=math.sqrt(E*e*2/m);      #velocity(m/s)\n",
      "E1=12400/W2;       #energy(eV)\n",
      "v1=math.sqrt(E1*e*2/m);        #velocity(m/s)\n",
      "\n",
      "#Result\n",
      "print \"The energy for 4 angstrom wavelength is\",E,\"eV\"\n",
      "print \"The velocity is\",round(v/1e+6),\"*10**6 m/s\"\n",
      "print \"The energy for 1 angstrom wavelength is\",E1,\"eV\"\n",
      "print \"The velocity is\",round(v1/1e+6),\"*10**6 m/s\"\n",
      "\n",
      "#answers given in the book are wrong"
     ],
     "language": "python",
     "metadata": {},
     "outputs": [
      {
       "output_type": "stream",
       "stream": "stdout",
       "text": [
        "The energy for 4 angstrom wavelength is 3100.0 eV\n",
        "The velocity is 33.0 *10**6 m/s\n",
        "The energy for 1 angstrom wavelength is 12400.0 eV\n",
        "The velocity is 66.0 *10**6 m/s\n"
       ]
      }
     ],
     "prompt_number": 6
    },
    {
     "cell_type": "heading",
     "level": 2,
     "metadata": {},
     "source": [
      "Example number 5.2, Page number 98"
     ]
    },
    {
     "cell_type": "code",
     "collapsed": false,
     "input": [
      "#import modules\n",
      "import math\n",
      "from __future__ import division\n",
      "\n",
      "#Variable declaration\n",
      "f=880*10**3;      #frequency(Hz)\n",
      "P=10*10**3;    #Power(W)\n",
      "h=6.625*10**-34;    #Plank's constant\n",
      "\n",
      "#Calculation\n",
      "E=h*f;    #energy carried by each photon(J)\n",
      "n=P/E;    #number of photons emitted per second\n",
      "\n",
      "#Result\n",
      "print \"The number of photons emitted per second are\",round(n/1e+30,2),\"*10**30\""
     ],
     "language": "python",
     "metadata": {},
     "outputs": [
      {
       "output_type": "stream",
       "stream": "stdout",
       "text": [
        "The number of photons emitted per second are 17.15 *10**30\n"
       ]
      }
     ],
     "prompt_number": 10
    },
    {
     "cell_type": "heading",
     "level": 2,
     "metadata": {},
     "source": [
      "Example number 5.3, Page number 98"
     ]
    },
    {
     "cell_type": "code",
     "collapsed": false,
     "input": [
      "#import modules\n",
      "import math\n",
      "from __future__ import division\n",
      "\n",
      "#Variable declaration\n",
      "P=200;     #power(W)\n",
      "W=6123*10**-10;    #wavelength(m)\n",
      "c=3*10**8;   #speed of light(m/s)\n",
      "h=6.625*10**-34;    #Plank's constant\n",
      "\n",
      "#Calculation\n",
      "Op=0.5*P;    #radiant output(J/s)\n",
      "E=h*c/W;     #energy content(J)\n",
      "n=2/E;      #number of quanta emitted per second\n",
      "\n",
      "#Result\n",
      "print \"Number of quanta emitted per second is\",round(n/1e+18,2),\"*10**18\""
     ],
     "language": "python",
     "metadata": {},
     "outputs": [
      {
       "output_type": "stream",
       "stream": "stdout",
       "text": [
        "Number of quanta emitted per second is 6.16 *10**18\n"
       ]
      }
     ],
     "prompt_number": 12
    },
    {
     "cell_type": "heading",
     "level": 2,
     "metadata": {},
     "source": [
      "Example number 5.4, Page number 98"
     ]
    },
    {
     "cell_type": "code",
     "collapsed": false,
     "input": [
      "#import modules\n",
      "import math\n",
      "from __future__ import division\n",
      "\n",
      "#Variable declaration\n",
      "N=5*10**4;      #no. of photons\n",
      "W=3000*10**-10;    #wavelength(m)\n",
      "J=5*10**-3;    #senstivity(A/W)\n",
      "h=6.625*10**-34;    #Plank's constant\n",
      "c=3*10**8;       #speed of light(m/s)\n",
      "e=1.6*10**-19;       #the charge on electron(C)\n",
      "\n",
      "#Calculation\n",
      "E=h*c/W;  #energy content of each photon(J)\n",
      "TE=N*E;   #total energy(J)\n",
      "I=J*TE;   #current produced(ampere)\n",
      "n=I/e;       #number of photo electrons ejected\n",
      "\n",
      "#Result\n",
      "print \"number of photoelectrons emitted are\",int(n)\n",
      "print \"answer given in the book varies due to rounding off errors\""
     ],
     "language": "python",
     "metadata": {},
     "outputs": [
      {
       "output_type": "stream",
       "stream": "stdout",
       "text": [
        "number of photoelectrons emitted are 1035\n",
        "answer given in the book varies due to rounding off errors\n"
       ]
      }
     ],
     "prompt_number": 16
    },
    {
     "cell_type": "heading",
     "level": 2,
     "metadata": {},
     "source": [
      "Example number 5.5, Page number 99"
     ]
    },
    {
     "cell_type": "code",
     "collapsed": false,
     "input": [
      "#import modules\n",
      "import math\n",
      "from __future__ import division\n",
      "\n",
      "#Variable declaration\n",
      "W=5*10**-7;     #wavelength(m)\n",
      "F=10**-5;    #force(N)\n",
      "h=6.625*10**-34;    #Plank's constant\n",
      "m=1.5*10**-3;     #mass(kg)\n",
      "c=3*10**8;     #speed of light in (m/s)\n",
      "S=0.1;     #specific heat\n",
      "\n",
      "#Calculation\n",
      "n=F*W/h;    #number of photons\n",
      "E=F*c/4200;     #energy of each photon(kcal/s)\n",
      "theta=E/(m*S);     #rate of rise in temperature(C/s)\n",
      "\n",
      "#Result\n",
      "print \"number of photons are\",round(n/1e+21,3),\"*10**21\"\n",
      "print \"the rate of temperature rise is\",round(theta/1e+3,1),\"*10**3 C/s\""
     ],
     "language": "python",
     "metadata": {},
     "outputs": [
      {
       "output_type": "stream",
       "stream": "stdout",
       "text": [
        "number of photons are 7.547 *10**21\n",
        "the rate of temperature rise is 4.8 *10**3 C/s\n"
       ]
      }
     ],
     "prompt_number": 24
    },
    {
     "cell_type": "heading",
     "level": 2,
     "metadata": {},
     "source": [
      "Example number 5.6, Page number 99"
     ]
    },
    {
     "cell_type": "code",
     "collapsed": false,
     "input": [
      "#import modules\n",
      "import math\n",
      "from __future__ import division\n",
      "\n",
      "#Variable declaration\n",
      "W=4500*10**-10;    #wavelength(m)\n",
      "V=150;   #rated voltage(W)\n",
      "h=6.625*10**-34;   #Plank's constant\n",
      "c=3*10**8;      #speed of light(m/s)\n",
      "\n",
      "#Calculation\n",
      "P=V*8/100;     #lamp power emitted(W)\n",
      "E=h*c/W;       #energy carried by 1 photon(J) \n",
      "n=P/E;        #number of photons emitted per second\n",
      "\n",
      "#Result\n",
      "print \"Number of photons emitted per second is\",round(n/1e+18,2),\"*10**18\"\n",
      "print \"answer given in the book varies due to rounding off errors\""
     ],
     "language": "python",
     "metadata": {},
     "outputs": [
      {
       "output_type": "stream",
       "stream": "stdout",
       "text": [
        "Number of photons emitted per second is 27.17 *10**18\n",
        "answer given in the book varies due to rounding off errors\n"
       ]
      }
     ],
     "prompt_number": 30
    },
    {
     "cell_type": "heading",
     "level": 2,
     "metadata": {},
     "source": [
      "Example number 5.7, Page number 99"
     ]
    },
    {
     "cell_type": "code",
     "collapsed": false,
     "input": [
      "#import modules\n",
      "import math\n",
      "from __future__ import division\n",
      "\n",
      "#Variable declaration\n",
      "f=1*10**12;     #frequency(Hz)\n",
      "h=6.625*10**-34;    #Plank's constant\n",
      "\n",
      "#Calculation\n",
      "E=h*f;     #energy per photon(J)\n",
      "n=E/6.625;     #number of photons\n",
      "\n",
      "#Result\n",
      "print \"the number of photons required is\",n"
     ],
     "language": "python",
     "metadata": {},
     "outputs": [
      {
       "output_type": "stream",
       "stream": "stdout",
       "text": [
        "the number of photons required is 1e-22\n"
       ]
      }
     ],
     "prompt_number": 31
    },
    {
     "cell_type": "heading",
     "level": 2,
     "metadata": {},
     "source": [
      "Example number 5.8, Page number 100"
     ]
    },
    {
     "cell_type": "code",
     "collapsed": false,
     "input": [
      "#import modules\n",
      "import math\n",
      "from __future__ import division\n",
      "\n",
      "#Variable declaration\n",
      "W=5200*10**-10;     #wavelength(m)\n",
      "h=6.625*10**-34;    #Plank's constant\n",
      "m=9.12*10**-31;     #mass of electron(kg)\n",
      "\n",
      "#Calculation\n",
      "p=h/W;      #momentum(kg-m/s)\n",
      "v=p/m;      #velocity(m/s)\n",
      "\n",
      "#Result\n",
      "print \"velocity is\",round(v),\"m/s\"\n",
      "print \"answer given in the book varies due to rounding off errors\""
     ],
     "language": "python",
     "metadata": {},
     "outputs": [
      {
       "output_type": "stream",
       "stream": "stdout",
       "text": [
        "velocity is 1397.0 m/s\n",
        "answer given in the book varies due to rounding off errors\n"
       ]
      }
     ],
     "prompt_number": 33
    },
    {
     "cell_type": "heading",
     "level": 2,
     "metadata": {},
     "source": [
      "Example number 5.9, Page number 105"
     ]
    },
    {
     "cell_type": "code",
     "collapsed": false,
     "input": [
      "#import modules\n",
      "import math\n",
      "from __future__ import division\n",
      "\n",
      "#Variable declaration\n",
      "v=7*10**5;    #maximum speed(m/sec)\n",
      "f=8*10**14;   #frequency(Hz)\n",
      "h=6.625*10**-34;    #Plank's constant\n",
      "c=3*10**8;       #speed of light(m/s)\n",
      "m=9.12*10**-31;  #mass of electron(kg)\n",
      "\n",
      "#Calulation\n",
      "E=m*v*v/2;    #energy(J)\n",
      "fo=f-(E/h);    #threshold frequency of the surface(Hz) \n",
      "\n",
      "#Result\n",
      "print \"the threshold frequency is\",round(fo/1e+14,2),\"*10**14 Hz\""
     ],
     "language": "python",
     "metadata": {},
     "outputs": [
      {
       "output_type": "stream",
       "stream": "stdout",
       "text": [
        "the threshold frequency is 4.63 *10**14 Hz\n"
       ]
      }
     ],
     "prompt_number": 37
    },
    {
     "cell_type": "heading",
     "level": 2,
     "metadata": {},
     "source": [
      "Example number 5.10, Page number 106"
     ]
    },
    {
     "cell_type": "code",
     "collapsed": false,
     "input": [
      "#import modules\n",
      "import math\n",
      "from __future__ import division\n",
      "\n",
      "#Variable declaration\n",
      "Wo=2300*10;    #threshold wavelength(Angstrom)\n",
      "W=1800*10;     #incident light wavelength(Angstrom)\n",
      "\n",
      "#Calculation\n",
      "w=124000/Wo;      #maximum energy of photoelectrons emitted(eV)\n",
      "E=124000*((1/W)-(1/Wo));    #work function for tungsten(eV)\n",
      "\n",
      "#Result\n",
      "print \"maximum energy of photoelectrons emitted is\",round(w,1),\"eV\"\n",
      "print \"work function for tungsten is\",round(E,1),\"eV\""
     ],
     "language": "python",
     "metadata": {},
     "outputs": [
      {
       "output_type": "stream",
       "stream": "stdout",
       "text": [
        "maximum energy of photoelectrons emitted is 5.4 eV\n",
        "work function for tungsten is 1.5 eV\n"
       ]
      }
     ],
     "prompt_number": 39
    },
    {
     "cell_type": "heading",
     "level": 2,
     "metadata": {},
     "source": [
      "Example number 5.11, Page number 106"
     ]
    },
    {
     "cell_type": "code",
     "collapsed": false,
     "input": [
      "#import modules\n",
      "import math\n",
      "from __future__ import division\n",
      "\n",
      "#Variable declaration\n",
      "W=6000;      #wavelegth(Angstrom)\n",
      "v=4*10**5;      #velocity(m/sec)\n",
      "m=9.12*10**-31;    #mass of electron(kg)\n",
      "e=1.6*10**-19;     #the charge on electron(C)\n",
      "\n",
      "#Calculation\n",
      "KE=m*v**2/(2*e);     #kinetic energy of photo electronns(eV)\n",
      "WF=12400/W;          #energy content of photon(eV)\n",
      "Wo=12400/(WF-KE);     #photo electric threshold wavelength(angstrom)\n",
      "\n",
      "#Result\n",
      "print \"The Kinetic energy is\",KE,\"eV\"\n",
      "print \"The threshold wavelength is\",int(Wo),\"Angstrom\"\n",
      "print \"answer given in the book varies due to rounding off errors\""
     ],
     "language": "python",
     "metadata": {},
     "outputs": [
      {
       "output_type": "stream",
       "stream": "stdout",
       "text": [
        "The Kinetic energy is 0.456 eV\n",
        "The threshold wavelength is 7698 Angstrom\n",
        "answer given in the book varies due to rounding off errors\n"
       ]
      }
     ],
     "prompt_number": 43
    },
    {
     "cell_type": "heading",
     "level": 2,
     "metadata": {},
     "source": [
      "Example number 5.12, Page number 106"
     ]
    },
    {
     "cell_type": "code",
     "collapsed": false,
     "input": [
      "#import modules\n",
      "import math\n",
      "from __future__ import division\n",
      "\n",
      "#Variable declaration\n",
      "Wo=4.8;    #work function(eV)\n",
      "W=2220;    #wavelength(angstrom)\n",
      "\n",
      "#Calculation\n",
      "E=12400/W;    #energy of light photon(eV)\n",
      "Emax=E-Wo;    #maximum kinetic energy(eV)\n",
      "\n",
      "#Result\n",
      "print \"maximum kinetic energy is\",round(Emax,3),\"eV\""
     ],
     "language": "python",
     "metadata": {},
     "outputs": [
      {
       "output_type": "stream",
       "stream": "stdout",
       "text": [
        "maximum kinetic energy is 0.786 eV\n"
       ]
      }
     ],
     "prompt_number": 46
    },
    {
     "cell_type": "heading",
     "level": 2,
     "metadata": {},
     "source": [
      "Example number 5.13, Page number 106"
     ]
    },
    {
     "cell_type": "code",
     "collapsed": false,
     "input": [
      "#import modules\n",
      "import math\n",
      "from __future__ import division\n",
      "\n",
      "#Variable declaration\n",
      "W=4000*10**-10;     #wavelength(m)\n",
      "Vs=0.4;     #retarding potential(eV)\n",
      "h=6.625*10**-34;    #Plank's constant\n",
      "c=3*10**8;      #speed of light(m/s)\n",
      "e=1.6*10**-19;     #the charge on electron(C)\n",
      "\n",
      "#Calculation\n",
      "f=c/W;    #frequency of light(Hz)\n",
      "E=h*f/e;    #photon energy(eV)\n",
      "Wo=E-Vs;    #work function(eV)\n",
      "fo=Wo/h*e;     #threshold frequency(Hz)\n",
      "NE=(E-Wo)*e;    #net energy(J)\n",
      "\n",
      "#Result\n",
      "print \"The light frequency is\",f,\"Hz\"\n",
      "print \"The photon energy is\",round(E,1),\"eV\"\n",
      "print \"The work function is\",round(Wo,1),\"eV\"\n",
      "print \"The threshold frequency is\",round(fo/1e+14,1),\"*10**14 Hz\"\n",
      "print \"The net energy is\",NE,\"J\""
     ],
     "language": "python",
     "metadata": {},
     "outputs": [
      {
       "output_type": "stream",
       "stream": "stdout",
       "text": [
        "The light frequency is 7.5e+14 Hz\n",
        "The photon energy is 3.1 eV\n",
        "The work function is 2.7 eV\n",
        "The threshold frequency is 6.5 *10**14 Hz\n",
        "The net energy is 6.4e-20 J\n"
       ]
      }
     ],
     "prompt_number": 51
    },
    {
     "cell_type": "heading",
     "level": 2,
     "metadata": {},
     "source": [
      "Example number 5.14, Page number 107"
     ]
    },
    {
     "cell_type": "code",
     "collapsed": false,
     "input": [
      "#import modules\n",
      "import math\n",
      "from __future__ import division\n",
      "\n",
      "#Variable declaration\n",
      "W1=3310*10**-10;    #photon wavelength(m)\n",
      "W2=5000*10**-10;    #photon wavelength(m)\n",
      "E1=3*10**-19;     #electron energy(J)\n",
      "E2=0.972*10**-19;   #electron energy(J)\n",
      "c=3*10**8;       #speed of light in m/s\n",
      "\n",
      "#Calculation\n",
      "h=(E1-E2)*(W1*W2)/(c*(W2-W1));    #planck's constant(Js)\n",
      "Wo=c*h/E1;        #threshold wavelength(m)   \n",
      "\n",
      "#Result\n",
      "print \"the plancks const is\",round(h/1e-34,2),\"*10**-34 Js\"\n",
      "print \"The threshold wavelength is\",round(Wo*1e+10),\"*10**-10 m\"\n",
      "print \"answer given in the book is wrong\""
     ],
     "language": "python",
     "metadata": {},
     "outputs": [
      {
       "output_type": "stream",
       "stream": "stdout",
       "text": [
        "the plancks const is 6.62 *10**-34 Js\n",
        "The threshold wavelength is 6620.0 *10**-10 m\n",
        "answer given in the book is wrong\n"
       ]
      }
     ],
     "prompt_number": 57
    },
    {
     "cell_type": "heading",
     "level": 2,
     "metadata": {},
     "source": [
      "Example number 5.15, Page number 107"
     ]
    },
    {
     "cell_type": "code",
     "collapsed": false,
     "input": [
      "#import modules\n",
      "import math\n",
      "from __future__ import division\n",
      "\n",
      "#Variable declaration\n",
      "W=6525;     #wavelength(angstrom)\n",
      "\n",
      "#Calculation\n",
      "Vo_a=12400*((1/4000)-(1/W));       #stopping potential(V)\n",
      "Vo_b=12400*((1/2000)-(1/W));       #stopping potential(V)\n",
      "Vo_c=12400*((1/2000)-(2/W));       #stopping potential(V)\n",
      "\n",
      "#Result\n",
      "print \"Stopping potential is\",round(Vo_a,1),\"Volt\"\n",
      "print \"Stopping potential is\",round(Vo_b,1),\"Volt\"\n",
      "print \"Stopping potential is\",round(Vo_c,1),\"Volt\""
     ],
     "language": "python",
     "metadata": {},
     "outputs": [
      {
       "output_type": "stream",
       "stream": "stdout",
       "text": [
        "Stopping potential is 1.2 Volt\n",
        "Stopping potential is 4.3 Volt\n",
        "Stopping potential is 2.4 Volt\n"
       ]
      }
     ],
     "prompt_number": 3
    },
    {
     "cell_type": "heading",
     "level": 2,
     "metadata": {},
     "source": [
      "Example number 5.16, Page number 107"
     ]
    },
    {
     "cell_type": "code",
     "collapsed": false,
     "input": [
      "#import modules\n",
      "import math\n",
      "from __future__ import division\n",
      "\n",
      "#Variable declaration\n",
      "Wo=5000;      #wavelength(angstrom)\n",
      "V=3.1;        #stopping potential(V)\n",
      "\n",
      "#Calcultion\n",
      "W=1/((V/12400)+(1/Wo));      #wavelength(angstrom)\n",
      "\n",
      "#Result\n",
      "print \"The wavelength is\",int(W),\"Angstrom\""
     ],
     "language": "python",
     "metadata": {},
     "outputs": [
      {
       "output_type": "stream",
       "stream": "stdout",
       "text": [
        "The wavelength is 2222 Angstrom\n"
       ]
      }
     ],
     "prompt_number": 5
    },
    {
     "cell_type": "heading",
     "level": 2,
     "metadata": {},
     "source": [
      "Example number 5.17, Page number 108"
     ]
    },
    {
     "cell_type": "code",
     "collapsed": false,
     "input": [
      "#import modules\n",
      "import math\n",
      "from __future__ import division\n",
      "\n",
      "#Variable declaration\n",
      "W=2000;         #wavelength(Angstrom)\n",
      "Vs=4.2;         #Work Function(eV)\n",
      "e=1.6*10**-19;      #the charge on electron(C)\n",
      "\n",
      "#Calculation\n",
      "E=12400/W;       #photon energy(eV)\n",
      "Emax=(E-Vs)*e;     #maximum kinetic energy(J)\n",
      "Emin=0;         #minimum kinetic energy\n",
      "Vo=Emax/e;      #stopping potential(V)\n",
      "Wo=12400/Vs;      #cut off wavelength(angstrom)\n",
      "\n",
      "#Result\n",
      "print \"Kinetic Energy of fastest photoelectron is\",Emax,\"J\"\n",
      "print \"Kinetic Energy of slowest moving electron is\",Emin,\"J\"\n",
      "print \"Stopping potential is\",Vo,\"V\"\n",
      "print \"The cutoff wavelength is\",round(Wo,1),\"Angstrom\""
     ],
     "language": "python",
     "metadata": {},
     "outputs": [
      {
       "output_type": "stream",
       "stream": "stdout",
       "text": [
        "Kinetic Energy of fastest photoelectron is 3.2e-19 J\n",
        "Kinetic Energy of slowest moving electron is 0 J\n",
        "Stopping potential is 2.0 V\n",
        "The cutoff wavelength is 2952.4 Angstrom\n"
       ]
      }
     ],
     "prompt_number": 8
    },
    {
     "cell_type": "heading",
     "level": 2,
     "metadata": {},
     "source": [
      "Example number 5.18, Page number 108"
     ]
    },
    {
     "cell_type": "code",
     "collapsed": false,
     "input": [
      "#import modules\n",
      "import math\n",
      "from __future__ import division\n",
      "\n",
      "#Variable declaration\n",
      "Vs1=4.6;     #Stopping Potential(V)\n",
      "Vs2=12.9;    #Stopping Potential(V)\n",
      "f1=2*10**15;     #frequency(Hz)\n",
      "f2=4*10**15;     #frequency(Hz)\n",
      "e=1.6*10**-19;   #the charge on electron(C)\n",
      "\n",
      "#Calculation\n",
      "h=((Vs2-Vs1)*e)/(f2-f1);     #planck's constant(Js)\n",
      "\n",
      "#Result\n",
      "print \"The Planck's constant is\",h,\"Js\"\n",
      "print \"answer given in the book is wrong\""
     ],
     "language": "python",
     "metadata": {},
     "outputs": [
      {
       "output_type": "stream",
       "stream": "stdout",
       "text": [
        "The Planck's constant is 6.64e-34 Js\n",
        "answer given in the book is wrong\n"
       ]
      }
     ],
     "prompt_number": 10
    }
   ],
   "metadata": {}
  }
 ]
}