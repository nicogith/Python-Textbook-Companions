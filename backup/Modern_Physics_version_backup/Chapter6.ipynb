{
 "metadata": {
  "name": "Chapter6",
  "signature": "sha256:36f31f6870acf2c11b00274dcf34bd9e9879abf6f82026373900139ccc4b5799"
 },
 "nbformat": 3,
 "nbformat_minor": 0,
 "worksheets": [
  {
   "cells": [
    {
     "cell_type": "heading",
     "level": 1,
     "metadata": {},
     "source": [
      "Chapter 6:The Rutherford Bohr Model"
     ]
    },
    {
     "cell_type": "heading",
     "level": 2,
     "metadata": {},
     "source": [
      "Example 6.1 Page 178"
     ]
    },
    {
     "cell_type": "code",
     "collapsed": false,
     "input": [
      "#initiation of variable\n",
      "from math import sqrt, pi\n",
      "R=0.1;Z=79.0; x=1.44;          #x=e^2/4*pi*epsi0\n",
      "zkR2=2*Z*x/R                # from zkR2= (2*Z*e^2)*R^2/(4*pi*epsi0)*R^3\n",
      "mv2=10.0*10**6;                #MeV=>eV\n",
      "\n",
      "#calculation\n",
      "theta=sqrt(3.0/4)*zkR2/mv2;     #deflection angle\n",
      "theta=theta*(180/pi);        #converting to degrees\n",
      "\n",
      "#result\n",
      "print\"Hence the average deflection angle per collision in degrees is\",round(theta,3 );"
     ],
     "language": "python",
     "metadata": {},
     "outputs": [
      {
       "output_type": "stream",
       "stream": "stdout",
       "text": [
        "Hence the average deflection angle per collision in degrees.is 0.011\n"
       ]
      }
     ],
     "prompt_number": 2
    },
    {
     "cell_type": "heading",
     "level": 2,
     "metadata": {},
     "source": [
      "Example 6.2 Page 181"
     ]
    },
    {
     "cell_type": "code",
     "collapsed": false,
     "input": [
      "#initiation of variable\n",
      "from math import sin, cos, tan, sqrt, pi\n",
      "Na=6.023*10**23;p=19.3;M=197.0;\n",
      "n=Na*p/M;         #The number of nuclei per atom\n",
      "t=2*10**-6;Z=79;K=8*10**6;x=1.44; theta=90.0*pi/180;  #x=e^2/4*pi*epsi0\n",
      "b1=t*Z*x/tan(theta/2)/(2*K)         #impact parameter b\n",
      "f1=n*pi*b1**2*t                      #scattering angle greater than 90\n",
      "\n",
      "#result\n",
      "print\"The fraction of alpha particles scattered at angles greater than 90 degrees is %.1e\" %f1;\n",
      "\n",
      "#part b\n",
      "theta=45.0*pi/180;\n",
      "b2=t*Z*x/tan(theta/2)/(2*K);\n",
      "f2=n*pi*b2**2*t;                  #scattering angle greater than 45\n",
      "fb=f2-f1                       #scattering angle between 45 to 90\n",
      "\n",
      "#result\n",
      "print\"The fraction of particles with scattering angle from 45 to 90 is %.1e\" %fb;"
     ],
     "language": "python",
     "metadata": {},
     "outputs": [
      {
       "output_type": "stream",
       "stream": "stdout",
       "text": [
        "The fraction of alpha particles scattered at angles greater than 90 degrees is 7.5e-05\n",
        "The fraction of particles with scattering angle from 45 to 90 is 3.6e-04\n"
       ]
      }
     ],
     "prompt_number": 5
    },
    {
     "cell_type": "heading",
     "level": 2,
     "metadata": {},
     "source": [
      "Example 6.3 Page 185"
     ]
    },
    {
     "cell_type": "code",
     "collapsed": false,
     "input": [
      "#initiation of variable\n",
      "from math import sin, cos, tan, sqrt, pi\n",
      "Z=79.0;x=1.44;K=8.0*10**6;z=2;    #where x=e^2/4*pi*epsi0;z=2 for alpha particles\n",
      "\n",
      "#calculation\n",
      "d=z*x*Z/K;                   #distance\n",
      "\n",
      "#result\n",
      "print \"The distance of closest approach in nm. is\",d*10**-9"
     ],
     "language": "python",
     "metadata": {},
     "outputs": [
      {
       "output_type": "stream",
       "stream": "stdout",
       "text": [
        " The distance of closest approasch in nm. is 2.844e-14\n"
       ]
      }
     ],
     "prompt_number": 7
    },
    {
     "cell_type": "heading",
     "level": 2,
     "metadata": {},
     "source": [
      "Example 6.4 Page 188"
     ]
    },
    {
     "cell_type": "code",
     "collapsed": false,
     "input": [
      "#initiation of variable\n",
      "sl=820.1;n0=3.0;  #given values\n",
      "n=4;w=sl*(n**2/(n**2-n0**2)); \n",
      "#result\n",
      "print \"The 3 longest possible wavelengths in nm respectively are a.\",round(w,3),;    \n",
      "\n",
      "#partb\n",
      "n=5.0;w=sl*(n**2/(n**2-n0**2)); \n",
      "\n",
      "#result\n",
      "print \"b. (in nm)\",round(w,3),;\n",
      "\n",
      "#partc\n",
      "n=6.0;w=sl*(n**2/(n**2-n0**2));\n",
      "\n",
      "#result\n",
      "print \"c.  (in nm )\",round(w,3);\n"
     ],
     "language": "python",
     "metadata": {},
     "outputs": [
      {
       "output_type": "stream",
       "stream": "stdout",
       "text": [
        "The 3 longest possible wavelengths in nm respectively are a. 1874.514 b. (in nm) 1281.406 c.  (in nm ) 1093.467\n"
       ]
      }
     ],
     "prompt_number": 3
    },
    {
     "cell_type": "heading",
     "level": 2,
     "metadata": {},
     "source": [
      "Example 6.5 Page 189"
     ]
    },
    {
     "cell_type": "code",
     "collapsed": false,
     "input": [
      "#initiation of variable\n",
      "sl=364.5;n=3.0;           #given variables and various constants are declared in the subsequent steps wherever necessary   \n",
      "w1=sl*(n**2/(n**2-4));     #longest wavelength of balmer \n",
      "c=3.0*10**8;\n",
      "f1=c/(w1*10**-9);         #corresponding freq.\n",
      "n0=1.0;n=2.0;                 \n",
      "\n",
      "#calculation\n",
      "w2=91.13*(n**2/(n**2-n0**2)); #first longest of lymann   \n",
      "f2=c/(w2*10**-9);          #correspoding freq\n",
      "n0=1.0;n=3.0\n",
      "w3=91.13*(n**2/(n**2-n0**2));      #second longest of lymann\n",
      "f3=3.0*10**8/(w3*10**-9)             #corresponding freq.\n",
      "\n",
      "#result\n",
      "print \"The freq. corresponding to the longest wavelength of balmer is %.1e\" %f1,\" & First longest wavelength  of Lymann is %.1e\" %f2;\n",
      "print\"The sum of which s equal to %.1e\" %(f1+f2);\n",
      "print\"The freq. corresponding to 2nd longest wavelength was found out to be %.1e\" %f3,\"Hence Ritz combination principle is satisfied.\";"
     ],
     "language": "python",
     "metadata": {},
     "outputs": [
      {
       "output_type": "stream",
       "stream": "stdout",
       "text": [
        "The freq. corresponding to the longest wavelength of balmer is 4.6e+14  & First longest wavelength  of Lymann is 2.5e+15\n",
        "The sum of which s equal to 2.9e+15\n",
        "The freq. corresponding to 2nd longest wavelength was found out to be 2.92622261239e+15 Hence Ritz combination principle is satisfied.\n"
       ]
      }
     ],
     "prompt_number": 6
    },
    {
     "cell_type": "heading",
     "level": 2,
     "metadata": {},
     "source": [
      "Example 6.6 Page 192"
     ]
    },
    {
     "cell_type": "code",
     "collapsed": false,
     "input": [
      "#initiation of variable\n",
      "Rinfi=1.097*10**7;  #known value \n",
      "n1=3.0;n2=2.0;       #first 2 given states\n",
      "\n",
      "#calculation\n",
      "w=(n1**2*n2**2)/((n1**2-n2**2)*Rinfi);\n",
      "\n",
      "#result\n",
      "print\"Wavelength of transition from n1=3 to n2=2 in nm is\",round(w*10**9,3);\n",
      "\n",
      "#partb\n",
      "n1=4.0;n2=2.0;      #second 2 given states  \n",
      "w=(n1**2*n2**2)/((n1**2-n2**2)*Rinfi);\n",
      "\n",
      "#result\n",
      "print\"Wavelength of transition from n1=3 to n2=2 in nm is\",round(w*10**9,3);"
     ],
     "language": "python",
     "metadata": {},
     "outputs": [
      {
       "output_type": "stream",
       "stream": "stdout",
       "text": [
        "Wavelength of trnasition from n1=3 to n2=2 in nm is 656.335\n",
        "Wavelength of trnasition from n1=3 to n2=2 in nm is 486.174\n"
       ]
      }
     ],
     "prompt_number": 9
    },
    {
     "cell_type": "heading",
     "level": 2,
     "metadata": {},
     "source": [
      "Example 6.7 Page 194"
     ]
    },
    {
     "cell_type": "code",
     "collapsed": false,
     "input": [
      "#initiation of variable\n",
      "n1=3.0;n2=2.0;Z=4.0;hc=1240.0;\n",
      "delE=(-13.6)*(Z**2)*((1/(n1**2))-((1/n2**2)));\n",
      "\n",
      "#calculation\n",
      "w=(hc)/delE; #for transition 1\n",
      "\n",
      "#result\n",
      "print \"The wavelngth of radiation for transition(2->3) in nm is\", round(w,3);\n",
      "\n",
      "#for transition 2\n",
      "n1=4.0;n2=2.0;   # n values for transition 2\n",
      "delE=(-13.6)*(Z**2)*((1/n1**2)-(1/n2**2));\n",
      "w=(hc)/delE;\n",
      "\n",
      "#result\n",
      "print \"The wavelngth of radiation emitted for transition(2->4) in nm is\", round(w,3);"
     ],
     "language": "python",
     "metadata": {},
     "outputs": [
      {
       "output_type": "stream",
       "stream": "stdout",
       "text": [
        "The wavelngth of radiation for transition(2->3) in nm is 41.029\n",
        "The wavelngth of radiation emitted for transition(2->4) in nm is 30.392\n"
       ]
      }
     ],
     "prompt_number": 11
    }
   ],
   "metadata": {}
  }
 ]
}