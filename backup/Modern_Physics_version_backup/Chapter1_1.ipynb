{
 "metadata": {
  "name": "MP-1"
 },
 "nbformat": 3,
 "nbformat_minor": 0,
 "worksheets": [
  {
   "cells": [
    {
     "cell_type": "heading",
     "level": 1,
     "metadata": {},
     "source": "Introduction"
    },
    {
     "cell_type": "heading",
     "level": 2,
     "metadata": {},
     "source": "Example 1.1 Page 12"
    },
    {
     "cell_type": "code",
     "collapsed": false,
     "input": "#initiation of variable\nMn=1.008665;Mp=1.007276                                     #Given mass of an electron and a proton in terms of u\n\n#calculation\nMd= Mn-Mp;                                                  #mass difference       \nMd2=Md*931.50;                                              #converting u into Mev/c^2 by multiplying by 931.5 MeV/c^2\n\n#result\nprint \"Mass difference in terms of U is\",round(Md,4); \nprint\"which equals in Mev/c^2. :\",round(Md2,3);",
     "language": "python",
     "metadata": {},
     "outputs": [
      {
       "output_type": "stream",
       "stream": "stdout",
       "text": "Mass difference in terms of U is 0.0014\nwhich equals in Mev/c^2. : 1.294\n"
      }
     ],
     "prompt_number": 4
    },
    {
     "cell_type": "heading",
     "level": 2,
     "metadata": {},
     "source": "Example 1.2 Page 12"
    },
    {
     "cell_type": "code",
     "collapsed": false,
     "input": "#initiation of variable\nMp=1.007276 ; Me=5.4858*10**-4; #mass of proton and electron in terms of U\n\n#calculation\nMt=Mp+Me;                      #Total mass= sum of above masses  \n\n#result\nprint\"The combined mass of an electron and a proton was found out to be in U.\",round(Mt,3);\n",
     "language": "python",
     "metadata": {},
     "outputs": [
      {
       "output_type": "stream",
       "stream": "stdout",
       "text": "The combined mass of an electron and a proton was found out to be in U. 1.008\n"
      }
     ],
     "prompt_number": 5
    },
    {
     "cell_type": "heading",
     "level": 2,
     "metadata": {},
     "source": "Example 1.3 Page 13"
    },
    {
     "cell_type": "code",
     "collapsed": false,
     "input": "#initiation of variable\nh=6.621*10**-34 ; c=2.9979*10**8;                  # h is in J/s and c is  in m/s\nhc=h*c*((10**9)/(1.6022*10**-19));               #1e=1.602*10^-19 J and 1 m=10^9 nm\n\n#result\nprint \"The value of hc in  eV.nm is\",round(hc,4); \nprint 'Hence zero at the end is significant.';\n",
     "language": "python",
     "metadata": {},
     "outputs": [
      {
       "output_type": "stream",
       "stream": "stdout",
       "text": "The value of hc in  eV.nm is 1238.8651\nHence zero at the end is significant.\n"
      }
     ],
     "prompt_number": 8
    }
   ],
   "metadata": {}
  }
 ]
}