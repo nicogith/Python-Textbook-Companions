{
 "metadata": {
  "name": "MP-15"
 },
 "nbformat": 3,
 "nbformat_minor": 0,
 "worksheets": [
  {
   "cells": [
    {
     "cell_type": "heading",
     "level": 1,
     "metadata": {},
     "source": "The General Theory of Relativity"
    },
    {
     "cell_type": "heading",
     "level": 2,
     "metadata": {},
     "source": "Example 15.1 Page 491"
    },
    {
     "cell_type": "code",
     "collapsed": false,
     "input": "#initiation of variable\nw=121.5;   #lambeda\nG=6.67*10**-11; #Various given values and constants\nM= 1.99*10**30; \nR= 6.96*10**8;\nc=3*10**8;\n\n#calculation\nk= G*M/(R*c**2);    #(delLambeda)/(lambeda)\ndelw=k*w;           #del(lambeda)\n\n#result\nprint \"The change in wavelength due to gravitational shift in pm is\",round(delw*10**3,3);\n\n#part3\nk=5.5*10**-5;#due to thermal Doppler broadening effect\ndelw=k*w;\n\n#result\nprint \"The change in wavelength due to thermal Doppler broadening effect in pm is\",round(delw*10**3,3);",
     "language": "python",
     "metadata": {},
     "outputs": [
      {
       "output_type": "stream",
       "stream": "stdout",
       "text": " The change in wavelength due to gravitational shift in pm is 0.257\nThe change in wavelength due to thermal Doppler broadening effect in pm is 6.683\n"
      }
     ],
     "prompt_number": 2
    },
    {
     "cell_type": "heading",
     "level": 2,
     "metadata": {},
     "source": "Example 15.2 Page 501"
    },
    {
     "cell_type": "code",
     "collapsed": false,
     "input": "#initiation of variable\nmp=938.280;   #mass of various particles\nme=0.511;\nm2h=1875.628;\n\n#calculation\nmic2=2*mp;           #mass energy on L.H.S\nmfc2=m2h+me;  #mass energy on R.H.S\nQ=mic2-mfc2;    #Q value of reation\npc=Q;\nmc2=1875.628;\nK=(pc**2)/(2*mc2);     #kinetic threshold energy\nEmax=Q-K;        #maximum energy \n\n#result\nprint \"The maximum neutrino energy in MeV is\",round(Emax,3);",
     "language": "python",
     "metadata": {},
     "outputs": [
      {
       "output_type": "stream",
       "stream": "stdout",
       "text": "The maximum neutrino energy in MeV is 0.421\n"
      }
     ],
     "prompt_number": 3
    }
   ],
   "metadata": {}
  }
 ]
}