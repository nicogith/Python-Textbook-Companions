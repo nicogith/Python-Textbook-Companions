{
 "metadata": {
  "name": "MP-13"
 },
 "nbformat": 3,
 "nbformat_minor": 0,
 "worksheets": [
  {
   "cells": [
    {
     "cell_type": "heading",
     "level": 1,
     "metadata": {},
     "source": "Nuclear Reaction and Application"
    },
    {
     "cell_type": "heading",
     "level": 2,
     "metadata": {},
     "source": "Example 13.1 Page 417"
    },
    {
     "cell_type": "code",
     "collapsed": false,
     "input": "#initiation of variable\nv=1*1.0*10**-6.0*10**2; p=7.9; m=p*v;Na=6.023*10**23     #given values and various constants in suitable units\nM=56.0;N=m*Na/M;                                 #number of atoms\ni=3.0*10**-6;\nq=1.6*10**-19;\n\n#calculation\nIo=i/q;                 #intensity\ns=0.6*10**-24;S=1;             #given values in suitable units\nR=N*s*Io/S;                     #rate of neutrons\n\n#result\nprint\"The rate of neutrons emitted from the target in particles per second is %.1e\" %round(R,3);",
     "language": "python",
     "metadata": {},
     "outputs": [
      {
       "output_type": "stream",
       "stream": "stdout",
       "text": "The rate of neutrons emitted from the target in particles per second is 9.6e+07\n"
      }
     ],
     "prompt_number": 1
    },
    {
     "cell_type": "heading",
     "level": 2,
     "metadata": {},
     "source": "Example 13.2 Page 419"
    },
    {
     "cell_type": "code",
     "collapsed": false,
     "input": "#initiation of variable\nA=197.0; m=30*10**-3;phi=3.0*10**12;    #given values and various constants taken in suitable units\nAr=99.0*10**-24; Na=6.023*10**23\n\n#calculation\nR=(phi*Na*Ar*m/A);        #rate or production of gold\nt=2.7*24*60         # time of decay\nAct=R*(0.693/t);     #activity /sec\nActCi=Act/(3.7*10**4);     # in terms of curie(Ci)\n\n#result\nprint\"The activity is found out to be %.1e\" %round(Act,3),\"/sec i.e \" ,ActCi,\"Ci\";\n",
     "language": "python",
     "metadata": {},
     "outputs": [
      {
       "output_type": "stream",
       "stream": "stdout",
       "text": "The activity is found out to be 4.9e+06 /sec i.e  131.228932295 Ci\n"
      }
     ],
     "prompt_number": 8
    },
    {
     "cell_type": "heading",
     "level": 2,
     "metadata": {},
     "source": "Example 13.3 Page 423"
    },
    {
     "cell_type": "code",
     "collapsed": false,
     "input": "#initiation of variable\nfrom math import exp\nv=1.5*1.5*2.5*(10**-6)*10**2; #volume in cm3\np=8.9;         #density in g/cm3\nm=p*v;Na=6.023*10**23 #mass and Avagadro's number\nM=58.9;        #Given values\n\n#calculation\nN=m*Na/M;\ni=12*10**-6;       #thickness of beam\nq=1.6*10**-19;\nIo=i/(2*q);      #intensity\ns=0.64*10**-24;   #Given values\nS=1.5*1.5;\nR=N*s*Io/S;       #rate of production of 61Cu\n\n#result\nprint \"The rate of neutrons emitted from the target in particles/second is %.1e\" %round(R,3);\n\n#part b\nact=R*(1-(exp((0.693)*(-2/3.41))));          #activity\n\n#result\nprint\"The activity after 2.0h in /sec is %.1e\" %round(act,3);\n",
     "language": "python",
     "metadata": {},
     "outputs": [
      {
       "output_type": "stream",
       "stream": "stdout",
       "text": "The rate of neutrons emitted from the target in particles/second is 546058064.516\nThe activity after 2.0h in /sec is 182378303.69\n"
      }
     ],
     "prompt_number": 4
    },
    {
     "cell_type": "heading",
     "level": 2,
     "metadata": {},
     "source": "Example 13.4 Page 425"
    },
    {
     "cell_type": "code",
     "collapsed": false,
     "input": "#initiation of variable\nm2H=2.014102;    #mass of various particles\nmn=1.008665;m63Cu=62.929599;\nm64Zn=63.929145;c2=931.5;     #c^2=931.5 MeV\nQ=(m2H+m63Cu-mn-m64Zn)*c2;       #Q of the reaction\n\n#result\nprint\"The value of Q is in MeV\",round(Q,3);\n\n\n#part b\nKx=12.00;Ky=16.85;\nKy=Q+Kx-Ky              #kinetic energy of 64Zn\n\n#result\nprint\"The value of Ky was found out to be in MeV\",round(Ky,3);",
     "language": "python",
     "metadata": {},
     "outputs": [
      {
       "output_type": "stream",
       "stream": "stdout",
       "text": "The value of Q is in MeV 5.487\nThe value of Ky was found out to be in MeV 0.637\n"
      }
     ],
     "prompt_number": 5
    },
    {
     "cell_type": "heading",
     "level": 2,
     "metadata": {},
     "source": "Example 13.5 Page 425"
    },
    {
     "cell_type": "code",
     "collapsed": false,
     "input": "#initiation of variable\nmp=1.007825;m3H=3.016049;    #mass of the particle\nm2H=2.014102;c2=931.5;      #constant\nQ=(mp+m3H-(2*m2H))*c2;     #Q of thereaction\n\n#result\nprint\"The value of q was found out to be in MeV\",round(Q,3);\n\n#partb\nKth1= -Q*(1+(mp/m3H));        #threshold energy of kinetic energy\nKth2=-Q*(1+(m3H/mp));        #threshold kinetic energy in case2\n\n#result\nprint\"The threshold kinetic energy in case-1 in MeV\",round(Kth1,3);\nprint\"The threshold kinetic energy in case-2 in MeV\",round(Kth2,3);",
     "language": "python",
     "metadata": {},
     "outputs": [
      {
       "output_type": "stream",
       "stream": "stdout",
       "text": "The value of q was found out to be in MeV -4.033\nThe threshold kinetic energy in case-1 in MeV 5.381\nThe threshold kinetic energy in case-2 in MeV 16.104\n"
      }
     ],
     "prompt_number": 6
    }
   ],
   "metadata": {}
  }
 ]
}