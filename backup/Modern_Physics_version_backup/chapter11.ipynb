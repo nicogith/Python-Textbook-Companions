{
 "metadata": {
  "name": "",
  "signature": "sha256:47ab953016e5f85b7389dfd03b89e4eaceb4217fd3c41781effc5a2eb8d08d3e"
 },
 "nbformat": 3,
 "nbformat_minor": 0,
 "worksheets": [
  {
   "cells": [
    {
     "cell_type": "heading",
     "level": 1,
     "metadata": {},
     "source": [
      "11: Natural Radioactivity"
     ]
    },
    {
     "cell_type": "heading",
     "level": 2,
     "metadata": {},
     "source": [
      "Example number 11.1, Page number 222"
     ]
    },
    {
     "cell_type": "code",
     "collapsed": false,
     "input": [
      "#import modules\n",
      "import math\n",
      "from __future__ import division\n",
      "\n",
      "#Variable declaration\n",
      "ttg=8378-1898;       #total time gap(yrs)\n",
      "hf=1620;      #half life(yrs)\n",
      "n=ttg/hf;     #number of half-periods\n",
      "Mo=200;       #amount of radium(mg)\n",
      "\n",
      "#Calculation\n",
      "M=Mo*(0.5)**n;     #amount of radium left(mg)\n",
      "\n",
      "#Result\n",
      "print \"amount of radium left is\",M,\"mg\""
     ],
     "language": "python",
     "metadata": {},
     "outputs": [
      {
       "output_type": "stream",
       "stream": "stdout",
       "text": [
        "amount of radium left is 12.5 mg\n"
       ]
      }
     ],
     "prompt_number": 4
    },
    {
     "cell_type": "heading",
     "level": 2,
     "metadata": {},
     "source": [
      "Example number 11.2, Page number 222"
     ]
    },
    {
     "cell_type": "code",
     "collapsed": false,
     "input": [
      "#import modules\n",
      "import math\n",
      "from __future__ import division\n",
      "\n",
      "#Variable declaration\n",
      "T=30;      #half life(days)\n",
      "#M is intial conc.\n",
      "\n",
      "#Calculation\n",
      "lamda=0.693/T;     #radioactive disintegration constant(per day)\n",
      "#M/4 is left\n",
      "t1=-math.log(1/4)/lamda;     #time taken(days)\n",
      "#M/8 is left\n",
      "t2=-math.log(1/8)/lamda;      #time taken(days)\n",
      "\n",
      "#Result\n",
      "print \"radioactive disintegration constant is\",lamda,\"per day\"\n",
      "print \"time taken for 3/4th of original is\",int(t1),\"days\"\n",
      "print \"time taken for 1/8th of original is\",int(t2),\"days\""
     ],
     "language": "python",
     "metadata": {},
     "outputs": [
      {
       "output_type": "stream",
       "stream": "stdout",
       "text": [
        "radioactive disintegration constant is 0.0231 per day\n",
        "time taken for 3/4th of original is 60 days\n",
        "time taken for 1/8th of original is 90 days\n"
       ]
      }
     ],
     "prompt_number": 3
    },
    {
     "cell_type": "heading",
     "level": 2,
     "metadata": {},
     "source": [
      "Example number 11.3, Page number 222"
     ]
    },
    {
     "cell_type": "code",
     "collapsed": false,
     "input": [
      "#import modules\n",
      "import math\n",
      "from __future__ import division\n",
      "\n",
      "#Variable declaration\n",
      "No=4750;      #count rate(per minute)\n",
      "N=2700;       #rate(counts/minute)\n",
      "t=5;          #time(minutes)\n",
      "\n",
      "#Calculation \n",
      "lamda=math.log(No/N)/t;     #decay constant(per minute)\n",
      "T=0.693/lamda;          #half life(minutes)\n",
      "\n",
      "#Result\n",
      "print \"radioactive disintegration constant is\",round(lamda,3),\"per minute\"\n",
      "print \"half life of sample is\",round(T,1),\"minutes\""
     ],
     "language": "python",
     "metadata": {},
     "outputs": [
      {
       "output_type": "stream",
       "stream": "stdout",
       "text": [
        "radioactive disintegration constant is 0.113 per minute\n",
        "half life of sample is 6.1 minutes\n"
       ]
      }
     ],
     "prompt_number": 2
    },
    {
     "cell_type": "heading",
     "level": 2,
     "metadata": {},
     "source": [
      "Example number 11.4, Page number 223"
     ]
    },
    {
     "cell_type": "code",
     "collapsed": false,
     "input": [
      "#import modules\n",
      "import math\n",
      "from __future__ import division\n",
      "\n",
      "#Variable declaration\n",
      "m=4.00387;     #mass of alpha particle(amu)\n",
      "M=10**-6;      #mass of Pu-239(kg) \n",
      "\n",
      "#Calculation\n",
      "m=m*1.66*10**-24;     #mass of alpha particle(g)\n",
      "Mo=2300*m;       #mass of 2300 alpha particles(g)\n",
      "lamda=(Mo/1)/M;     #radioactive disintegration constant(per second)\n",
      "T=0.693/lamda;      #half life period(seconds)\n",
      "T=T/(365*24*3600);    #half life period(years)\n",
      "\n",
      "#Result\n",
      "print \"half life is\",round(T/1e+6,3),\"*10**6 years\"\n",
      "print \"answer given in the book varies due to rounding off errors\""
     ],
     "language": "python",
     "metadata": {},
     "outputs": [
      {
       "output_type": "stream",
       "stream": "stdout",
       "text": [
        "half life is 1.438 *10**6 years\n",
        "answer given in the book varies due to rounding off errors\n"
       ]
      }
     ],
     "prompt_number": 5
    },
    {
     "cell_type": "heading",
     "level": 2,
     "metadata": {},
     "source": [
      "Example number 11.5, Page number 223"
     ]
    },
    {
     "cell_type": "code",
     "collapsed": false,
     "input": [
      "#import modules\n",
      "import math\n",
      "from __future__ import division\n",
      "\n",
      "#Variable declaration\n",
      "T=2.48*10**5;    #half life(yrs)\n",
      "lamda=8.88*10**-14    #decay constant (per second)\n",
      "Mo=4;      #intial mass(mg)\n",
      "t=62000;             #time(years)\n",
      "Na=6.02*10**23;    #Avgraodo no.(per g-mol)\n",
      "\n",
      "#Calculation\n",
      "lamdat=0.693/T*t;      \n",
      "M=Mo*(math.exp(-lamdat));     #mass remained unchanged(mg) \n",
      "N=M*10**-3*Na/234;\n",
      "A=lamda*N;        #activity(disintegrations/second)\n",
      "\n",
      "#Result\n",
      "print \"mass remained unchanged is\",round(M,3),\"mg\"\n",
      "print \"Activity is\",round(A/1e+5,3),\"*10**5 disintegrations/second\""
     ],
     "language": "python",
     "metadata": {},
     "outputs": [
      {
       "output_type": "stream",
       "stream": "stdout",
       "text": [
        "mass remained unchanged is 3.364 mg\n",
        "Activity is 7.684 *10**5 disintegrations/second\n"
       ]
      }
     ],
     "prompt_number": 6
    },
    {
     "cell_type": "heading",
     "level": 2,
     "metadata": {},
     "source": [
      "Example number 11.6, Page number 223"
     ]
    },
    {
     "cell_type": "code",
     "collapsed": false,
     "input": [
      "#import modules\n",
      "import math\n",
      "from __future__ import division\n",
      "\n",
      "#Variable declaration\n",
      "T=1620;       #half life(years)\n",
      "Mo=1/100;     #mass(g)\n",
      "\n",
      "#Calculation\n",
      "lamda=0.693/T;      #radioactive constant(per years)   \n",
      "M=(1-Mo);           #amount of radium left behind(g)  \n",
      "t=math.log(1/M)/lamda;         #time required to lose 1 centigram(years)\n",
      "t1=math.log(1/Mo)/lamda;         #time required to be reduced to 1 centigram(years)\n",
      "\n",
      "#Result\n",
      "print \"time required to lose 1 centigram is\",round(t,1),\"years\"\n",
      "print \"time required to be reduced to 1 centigram is\",int(t1),\"years\"\n",
      "print \"answer given in the book varies due to rounding off errors\""
     ],
     "language": "python",
     "metadata": {},
     "outputs": [
      {
       "output_type": "stream",
       "stream": "stdout",
       "text": [
        "time required to lose 1 centigram is 23.5 years\n",
        "time required to be reduced to 1 centigram is 10765 years\n",
        "answer given in the book varies due to rounding off errors\n"
       ]
      }
     ],
     "prompt_number": 7
    },
    {
     "cell_type": "heading",
     "level": 2,
     "metadata": {},
     "source": [
      "Example number 11.7, Page number 232"
     ]
    },
    {
     "cell_type": "code",
     "collapsed": false,
     "input": [
      "#import modules\n",
      "import math\n",
      "from __future__ import division\n",
      "\n",
      "#Variable declaration\n",
      "T=2*10**-4;           #dead time(seconds)\n",
      "n=500;                #number of pulses(per second)\n",
      "\n",
      "#Calculation\n",
      "n0=n/(1-(n*T));       #number of incoming particles(per second)\n",
      "r=n*T*100;               #relative error of counting(%)\n",
      "\n",
      "#Result\n",
      "print \"intensity of the incoming beam is\",int(n0),\"particles/second\"\n",
      "print \"relative error of counting is\",int(r),\"%\"\n",
      "print \"answer for intensity given in the book is wrong\""
     ],
     "language": "python",
     "metadata": {},
     "outputs": [
      {
       "output_type": "stream",
       "stream": "stdout",
       "text": [
        "intensity of the incoming beam is 555 particles/second\n",
        "relative error of counting is 10 %\n",
        "answer for intensity given in the book is wrong\n"
       ]
      }
     ],
     "prompt_number": 8
    }
   ],
   "metadata": {}
  }
 ]
}