{
 "metadata": {
  "name": "MP-6"
 },
 "nbformat": 3,
 "nbformat_minor": 0,
 "worksheets": [
  {
   "cells": [
    {
     "cell_type": "heading",
     "level": 1,
     "metadata": {},
     "source": "The Rutherford Bohr Model"
    },
    {
     "cell_type": "heading",
     "level": 2,
     "metadata": {},
     "source": "Example 6.1 Page 178"
    },
    {
     "cell_type": "code",
     "collapsed": false,
     "input": "#initiation of variable\nfrom math import sqrt, pi\nR=0.1;Z=79.0; x=1.44;          #x=e^2/4*pi*epsi0\nzkR2=2*Z*x/R                # from zkR2= (2*Z*e^2)*R^2/(4*pi*epsi0)*R^3\nmv2=10.0*10**6;                #MeV=>eV\n\n#calculation\ntheta=sqrt(3.0/4)*zkR2/mv2;     #deflection angle\ntheta=theta*(180/pi);        #converting to degrees\n\n#result\nprint\"Hence the average deflection angle per collision in degrees is\",round(theta,3 );",
     "language": "python",
     "metadata": {},
     "outputs": [
      {
       "output_type": "stream",
       "stream": "stdout",
       "text": "Hence the average deflection angle per collision in degrees.is 0.011\n"
      }
     ],
     "prompt_number": 2
    },
    {
     "cell_type": "heading",
     "level": 2,
     "metadata": {},
     "source": "Example 6.2 Page 181"
    },
    {
     "cell_type": "code",
     "collapsed": false,
     "input": "#initiation of vriable\nfrom math import sin, cos, tan, sqrt, pi\nNa=6.023*10**23;p=19.3;M=197.0;\nn=Na*p/M;         #The number of nuclei per atom\nt=2*10**-6;Z=79;K=8*10**6;x=1.44; theta=90.0*pi/180;  #x=e^2/4*pi*epsi0\nb1=t*Z*x/tan(theta/2)/(2*K)         #impact parameter b\nf1=n*pi*b1**2*t                      #scattering angle greater than 90\n\n#result\nprint\"The fraction of alpha particles scattered at angles greater than 90 degrees is %.1e\" %f1;\n\n#part b\ntheta=45.0*pi/180;\nb2=t*Z*x/tan(theta/2)/(2*K);\nf2=n*pi*b2**2*t;                  #scattering angle greater than 45\nfb=f2-f1                       #scattering angle between 45 to 90\n\n#result\nprint\"The fraction of particles with scattering angle from 45 to 90 is %.1e\" %fb;",
     "language": "python",
     "metadata": {},
     "outputs": [
      {
       "output_type": "stream",
       "stream": "stdout",
       "text": "The fraction of alpha particles scattered at angles greater than 90 degrees is 7.5e-05\nThe fraction of particles with scattering angle from 45 to 90 is 3.6e-04\n"
      }
     ],
     "prompt_number": 5
    },
    {
     "cell_type": "heading",
     "level": 2,
     "metadata": {},
     "source": "Example 6.3 Page 185"
    },
    {
     "cell_type": "code",
     "collapsed": false,
     "input": "#initiation of vriable\nfrom math import sin, cos, tan, sqrt, pi\nZ=79.0;x=1.44;K=8.0*10**6;z=2;    #where x=e^2/4*pi*epsi0;z=2 for alpha particles\n\n#calculation\nd=z*x*Z/K;                   #distance\n\n#result\nprint \"The distance of closest approasch in nm. is\",d*10**-9",
     "language": "python",
     "metadata": {},
     "outputs": [
      {
       "output_type": "stream",
       "stream": "stdout",
       "text": " The distance of closest approasch in nm. is 2.844e-14\n"
      }
     ],
     "prompt_number": 7
    },
    {
     "cell_type": "heading",
     "level": 2,
     "metadata": {},
     "source": "Example 6.4 Page 188"
    },
    {
     "cell_type": "code",
     "collapsed": false,
     "input": "#initiation of variable\nsl=820.1;n0=3.0;  #given values\nn=4;w=sl*(n**2/(n**2-n0**2)); \n#result\nprint \"The 3 longest possible wavelengths are in nm respectively are\",w,;    \n\n#partb\nn=5.0;w=sl*(n**2/(n**2-n0**2)); \n\n#result\nprint \"(in nm)\",round(w,3),;\n\n#partc\nn=6.0;w=sl*(n**2/(n**2-n0**2));\n\n#result\nprint \" (in nm )\",round(w,3);\n",
     "language": "python",
     "metadata": {},
     "outputs": [
      {
       "output_type": "stream",
       "stream": "stdout",
       "text": "The 3 longest possible wavelengths are in nm respectively are 1874.51428571 (in nm) 1281.406  (in nm ) 1093.467\n"
      }
     ],
     "prompt_number": 3
    },
    {
     "cell_type": "heading",
     "level": 2,
     "metadata": {},
     "source": "Example 6.5 Page 189"
    },
    {
     "cell_type": "code",
     "collapsed": false,
     "input": "#initiation of variable\nsl=364.5;n=3.0;           #given variables and various constants are declared in the subsequent steps wherever necessary   \nw1=sl*(n**2/(n**2-4));     #longest wavelength of balmer \nc=3.0*10**8;\nf1=c/(w1*10**-9);         #corresponding freq.\nn0=1.0;n=2.0;                 \n\n#calculation\nw2=91.13*(n**2/(n**2-n0**2)); #first longest of lymann   \nf2=c/(w2*10**-9);          #correspoding freq\nn0=1.0;n=3.0\nw3=91.13*(n**2/(n**2-n0**2));      #second longest of lymann\nf3=3.0*10**8/(w3*10**-9)             #corresponding freq.\n\n#result\nprint \"The freq. corresponding to the longest wavelength of balmer is %.1e\" %f1,\" & First longest wavelength  of Lymann is %.1e\" %f2;\nprint\"The sum of which s equal to %.1e\" %(f1+f2);\nprint\"The freq. corresponding to 2nd longest wavelength was found out to be %.1e\" %f3,\"Hence Ritz combination principle is satisfied.\";",
     "language": "python",
     "metadata": {},
     "outputs": [
      {
       "output_type": "stream",
       "stream": "stdout",
       "text": "The freq. corresponding to the longest wavelength of balmer is 4.6e+14  & First longest wavelength  of Lymann is 2.5e+15\nThe sum of which s equal to 2.9e+15\nThe freq. corresponding to 2nd longest wavelength was found out to be 2.92622261239e+15 Hence Ritz combination principle is satisfied.\n"
      }
     ],
     "prompt_number": 6
    },
    {
     "cell_type": "heading",
     "level": 2,
     "metadata": {},
     "source": "Example 6.6 Page 192"
    },
    {
     "cell_type": "code",
     "collapsed": false,
     "input": "#initiation of variable\nRinfi=1.097*10**7;  #known value \nn1=3.0;n2=2.0;       #first 2 given states\n\n#calculation\nw=(n1**2*n2**2)/((n1**2-n2**2)*Rinfi);\n\n#result\nprint\"Wavelength of trnasition from n1=3 to n2=2 in nm is\",round(w*10**9,3);\n\n#partb\nn1=4.0;n2=2.0;      #second 2 given states  \nw=(n1**2*n2**2)/((n1**2-n2**2)*Rinfi);\n\n#result\nprint\"Wavelength of trnasition from n1=3 to n2=2 in nm is\",round(w*10**9,3);",
     "language": "python",
     "metadata": {},
     "outputs": [
      {
       "output_type": "stream",
       "stream": "stdout",
       "text": "Wavelength of trnasition from n1=3 to n2=2 in nm is 656.335\nWavelength of trnasition from n1=3 to n2=2 in nm is 486.174\n"
      }
     ],
     "prompt_number": 9
    },
    {
     "cell_type": "heading",
     "level": 2,
     "metadata": {},
     "source": "Example 6.7 Page 194"
    },
    {
     "cell_type": "code",
     "collapsed": false,
     "input": "#initiation of variable\nn1=3.0;n2=2.0;Z=4.0;hc=1240.0;\ndelE=(-13.6)*(Z**2)*((1/(n1**2))-((1/n2**2)));\n\n#calculation\nw=(hc)/delE; #for transition 1\n\n#result\nprint \"The wavelngth of radiation for transition(2->3) in nm is\", round(w,3);\n\n#for transition 2\nn1=4.0;n2=2.0;   # n values for transition 2\ndelE=(-13.6)*(Z**2)*((1/n1**2)-(1/n2**2));\nw=(hc)/delE;\n\n#result\nprint \"The wavelngth of radiation emitted for transition(2->4) in nm is\", round(w,3);",
     "language": "python",
     "metadata": {},
     "outputs": [
      {
       "output_type": "stream",
       "stream": "stdout",
       "text": "The wavelngth of radiation for transition(2->3) in nm is 41.029\nThe wavelngth of radiation emitted for transition(2->4) in nm is 30.392\n"
      }
     ],
     "prompt_number": 11
    }
   ],
   "metadata": {}
  }
 ]
}