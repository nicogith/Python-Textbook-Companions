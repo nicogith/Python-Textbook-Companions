{
 "metadata": {
  "name": "chapter6"
 },
 "nbformat": 3,
 "nbformat_minor": 0,
 "worksheets": [
  {
   "cells": [
    {
     "cell_type": "heading",
     "level": 1,
     "metadata": {},
     "source": "Chapter 6:Series Circuits"
    },
    {
     "cell_type": "heading",
     "level": 2,
     "metadata": {},
     "source": "Problem no:6.1, Page no:54"
    },
    {
     "cell_type": "code",
     "collapsed": false,
     "input": "#Cal of Resistance\n\n#Initialization\n\n#Resistances in ohm connected in series\n\nR1=5\n\nR2=5\n\nR3=5\n\n#Calculation\n\nR=R1+R2+R3                        #Formula for series resistors\n\nprint \"The Equivalent resistance is\",R,\"ohm\"",
     "language": "python",
     "metadata": {},
     "outputs": [
      {
       "output_type": "stream",
       "stream": "stdout",
       "text": "The Equivalent resistance is 15 ohm\n"
      }
     ],
     "prompt_number": 1
    },
    {
     "cell_type": "heading",
     "level": 2,
     "metadata": {},
     "source": "Problem no:6.7, Page no:57"
    },
    {
     "cell_type": "code",
     "collapsed": false,
     "input": "#Cal of Current\n\n#initialization\n\nV_emf=1.5                          #Voltage in V\n\nR=0.4                              #Resistance in Ohm\n\nr=0.05                             #internal resistance in Ohm\n\n#Calculation\n\nI=V_emf/(R+r)                      #Formula for current with emf and internal resistance\n\nprint \"The Current in the circuit is\",round(I,2),\"A\"\n",
     "language": "python",
     "metadata": {},
     "outputs": [
      {
       "output_type": "stream",
       "stream": "stdout",
       "text": "The Current in the circuit is 3.33 A\n"
      }
     ],
     "prompt_number": 2
    }
   ],
   "metadata": {}
  }
 ]
}