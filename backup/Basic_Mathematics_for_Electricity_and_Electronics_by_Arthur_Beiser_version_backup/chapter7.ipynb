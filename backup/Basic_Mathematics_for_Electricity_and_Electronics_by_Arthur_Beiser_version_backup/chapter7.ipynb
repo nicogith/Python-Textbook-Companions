{
 "metadata": {
  "name": "chapter7"
 },
 "nbformat": 3,
 "nbformat_minor": 0,
 "worksheets": [
  {
   "cells": [
    {
     "cell_type": "heading",
     "level": 1,
     "metadata": {},
     "source": "Chapter 7:Parallel Circuits"
    },
    {
     "cell_type": "heading",
     "level": 2,
     "metadata": {},
     "source": "Problem no:7.5, Page no:67\n"
    },
    {
     "cell_type": "code",
     "collapsed": false,
     "input": "from __future__ import division\n\n#Cal of Equivalent resistance\n\n#Initialization\n\n#Resistors connected in parallel in Ohm\n\nR1=5\n\nR2=10\n\nfrom decimal import *\n\n#Calculation\n\nR=(R1*R2)/(R1+R2)\n\nprint \"R=\",round(R,2),\"ohm\"",
     "language": "python",
     "metadata": {},
     "outputs": [
      {
       "output_type": "stream",
       "stream": "stdout",
       "text": "R= 3.33 ohm\n"
      }
     ],
     "prompt_number": 1
    }
   ],
   "metadata": {}
  }
 ]
}