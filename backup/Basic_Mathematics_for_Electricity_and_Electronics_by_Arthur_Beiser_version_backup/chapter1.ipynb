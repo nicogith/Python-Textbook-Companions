{
 "metadata": {
  "name": "chapter1"
 },
 "nbformat": 3,
 "nbformat_minor": 0,
 "worksheets": [
  {
   "cells": [
    {
     "cell_type": "heading",
     "level": 1,
     "metadata": {},
     "source": "Chapter 1:Basic Electricity and Algebra"
    },
    {
     "cell_type": "heading",
     "level": 2,
     "metadata": {},
     "source": "Problem no:1.1, Page no:2"
    },
    {
     "cell_type": "code",
     "collapsed": false,
     "input": "#cal of current in toaster\n\n#Initialization\n\nV=120       #voltage in V\n\nR=12        #Resistance in Ohm\n\n#calculation\n\nI=V/R\n\nprint \"I=\",I,\"A\"",
     "language": "python",
     "metadata": {},
     "outputs": [
      {
       "output_type": "stream",
       "stream": "stdout",
       "text": "I= 10 A\n"
      }
     ],
     "prompt_number": 1
    },
    {
     "cell_type": "heading",
     "level": 2,
     "metadata": {},
     "source": "Problem no:1.3, Page no:3"
    },
    {
     "cell_type": "code",
     "collapsed": false,
     "input": "from __future__ import division\n\n\n#cal of current in toaster\n\n#initialization\n\nR=12                #Resistance in Ohm\n\nV=100               #voltage in V\n\n\n#calculation\n\nI=V/R               #ohm's Law\n\nprint \"When V=100 V,I=\",round(I,1),\"A\"\n\nV=150               #Voltage in V\n\n#calculation\n\nI=V/R\n\nprint \"When V=150 V,I=\",I,\"A\"",
     "language": "python",
     "metadata": {},
     "outputs": [
      {
       "output_type": "stream",
       "stream": "stdout",
       "text": "When V=100 V,I= 8.3 A\nWhen V=150 V,I= 12.5 A\n"
      }
     ],
     "prompt_number": 3
    },
    {
     "cell_type": "heading",
     "level": 2,
     "metadata": {},
     "source": "Problem no:1.2, Page no:2"
    },
    {
     "cell_type": "code",
     "collapsed": false,
     "input": "#cal of current in toaster\n\n#initialization\n\nR=10             #Resistance in Ohm\n\nV=120            #voltage in V\n\n#calculation\n\nI=V/R            #ohm's Law\n\nprint \"When R=10 ohm,I=\",I,\"A\"\n\nR=15             #Resistance in Ohm\n\n#calculation\n\nI=V/R\n\nprint \"When R=15 Ohm, I=\",I,\"A\"",
     "language": "python",
     "metadata": {},
     "outputs": [
      {
       "output_type": "stream",
       "stream": "stdout",
       "text": "When R=10 ohm,I= 12 A\nWhen R=15 Ohm, I= 8 A\n"
      }
     ],
     "prompt_number": 2
    },
    {
     "cell_type": "heading",
     "level": 2,
     "metadata": {},
     "source": "Problem no:1.10, Page no:7"
    },
    {
     "cell_type": "code",
     "collapsed": false,
     "input": "#Cal of potential difference across the terminals\n\n#Initialization\n\nI=2               #Current in A\n\nR=8               #Resistance in V\n\n#calculation\n\nV=I*R             #ohm's Law\n\nprint \"V=\",V,\"V\"",
     "language": "python",
     "metadata": {},
     "outputs": [
      {
       "output_type": "stream",
       "stream": "stdout",
       "text": "V= 16 V\n"
      }
     ],
     "prompt_number": 4
    },
    {
     "cell_type": "heading",
     "level": 2,
     "metadata": {},
     "source": "Problem no:1.11, Page no:7"
    },
    {
     "cell_type": "code",
     "collapsed": false,
     "input": "from __future__ import division\n\n#Cal of Resistance of Electric heater\n\n#initialization\n\nV=120                #Voltage in V\n\nI=25                 #Current in A\n\n#calculation\n\nR=V/I                #Ohm's Law\n\nprint \"R=\",R,\"Ohm\"",
     "language": "python",
     "metadata": {},
     "outputs": [
      {
       "output_type": "stream",
       "stream": "stdout",
       "text": "R= 4.8 Ohm\n"
      }
     ],
     "prompt_number": 5
    },
    {
     "cell_type": "heading",
     "level": 2,
     "metadata": {},
     "source": "Problem no:1.16, Page no:9"
    },
    {
     "cell_type": "code",
     "collapsed": false,
     "input": "#cal of unknown resistance\n\n#initialization\n\n#Resistances in Ohm\n\nR1=10\n\nR2=1000\n\nR3=26\n\n#calculation\n\nRx=(R2*R3)/R1          #Wheatstone Bridge Formula\n\nprint \"Rx=\",int(Rx),\"Ohm\"",
     "language": "python",
     "metadata": {},
     "outputs": [
      {
       "output_type": "stream",
       "stream": "stdout",
       "text": "Rx= 2600 Ohm\n"
      }
     ],
     "prompt_number": 1
    }
   ],
   "metadata": {}
  }
 ]
}