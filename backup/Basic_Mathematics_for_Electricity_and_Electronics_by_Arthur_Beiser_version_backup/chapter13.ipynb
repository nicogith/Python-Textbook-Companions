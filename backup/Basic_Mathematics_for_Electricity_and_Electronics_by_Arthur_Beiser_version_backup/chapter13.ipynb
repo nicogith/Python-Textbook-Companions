{
 "metadata": {
  "name": "chapter13"
 },
 "nbformat": 3,
 "nbformat_minor": 0,
 "worksheets": [
  {
   "cells": [
    {
     "cell_type": "heading",
     "level": 1,
     "metadata": {},
     "source": "Chapter 13:Alternating Current"
    },
    {
     "cell_type": "heading",
     "level": 2,
     "metadata": {},
     "source": "Problem no:13.2, Page no:150"
    },
    {
     "cell_type": "code",
     "collapsed": false,
     "input": "\nfrom __future__ import division\n\n#Cal of Frequency,Velocity,Amplitude\n\n#Initialization\n\nT=4                              #Time period in s\n\nLambda=30                        #wavelength in m\n\nf=0.25                           #Frequency in Hz\n\ntot_range=2                      #in m\n\n#Calculation\n\nf=1/T\n\nv=f*Lambda\n\nprint \"(a) f=\",f,\"Hz\"\n\nprint \"(b) v=\",v,\"m/s\"\n\nprint \"(c) The amplitude is half the total range,hence A=\",int(tot_range/2),\"m\"\n",
     "language": "python",
     "metadata": {},
     "outputs": [
      {
       "output_type": "stream",
       "stream": "stdout",
       "text": "(a) f= 0.25 Hz\n(b) v= 7.5 m/s\n(c) The amplitude is half the total range,hence A= 1 m\n"
      }
     ],
     "prompt_number": 4
    },
    {
     "cell_type": "heading",
     "level": 2,
     "metadata": {},
     "source": "Problem no:13.3, Page no:150"
    },
    {
     "cell_type": "code",
     "collapsed": false,
     "input": "from __future__ import division\n\n#Cal of Frequency\n\n#Initialization\n\nv=25                         #Wave velocity in cm/s\n\nLambda=0.1                   #Wavelength in mm\n\n#Calculation\n\nLambda=Lambda/1000           #Convert Wavelength in m\n\nv=v/100                      #Convert wave velocity in m/s\n\nf=v/Lambda\n\nprint \"f=\",int(f),\"Hz\"\n\n\n",
     "language": "python",
     "metadata": {},
     "outputs": [
      {
       "output_type": "stream",
       "stream": "stdout",
       "text": "f= 2500 Hz\n"
      }
     ],
     "prompt_number": 1
    },
    {
     "cell_type": "heading",
     "level": 2,
     "metadata": {},
     "source": "Problem no:13.4, Page no:151"
    },
    {
     "cell_type": "code",
     "collapsed": false,
     "input": "from __future__ import division\n\n#Cal of Wavelength\n\n#Initialization\n\nv=5020                       #Velocity in ft/s\n\nf=256                        #Frequency in Hz\n\n#Calculation\n\nLambda=v/f\n\nprint \"Lambda=\",round(Lambda,1),\"ft\"",
     "language": "python",
     "metadata": {},
     "outputs": [
      {
       "output_type": "stream",
       "stream": "stdout",
       "text": "Lambda= 19.6 ft\n"
      }
     ],
     "prompt_number": 2
    },
    {
     "cell_type": "heading",
     "level": 2,
     "metadata": {},
     "source": "Problem no:13.5, Page no:151"
    },
    {
     "cell_type": "code",
     "collapsed": false,
     "input": "\nfrom __future__ import division\n\n#Cal of Frequency\n\n#Initialization\n\nLambda=3.2                     #Wavelength in cm\n\nc=3E+8                         #Velocity of light in m/s\n\n#Calculation\n\nLambda=Lambda/100              #Convert Wavelength in m\n\nf=c/Lambda\n\nprint \"f=\",'%0.1E' % f,\"Hz\"",
     "language": "python",
     "metadata": {},
     "outputs": [
      {
       "output_type": "stream",
       "stream": "stdout",
       "text": "f= 9.4E+09 Hz\n"
      }
     ],
     "prompt_number": 6
    },
    {
     "cell_type": "heading",
     "level": 2,
     "metadata": {},
     "source": "Problem no:13.7, Page no:152"
    },
    {
     "cell_type": "code",
     "collapsed": false,
     "input": "from __future__ import division\n\n#Cal of Effective ac potential difference\n\n#Initialization\n\nVmax=300              #Potential difference in V\n\n#Calculation\n\nVeff=0.707*(Vmax)\n\nprint \"Veff=\",int(Veff),\"V\"\n",
     "language": "python",
     "metadata": {},
     "outputs": [
      {
       "output_type": "stream",
       "stream": "stdout",
       "text": "Veff= 212 V\n"
      }
     ],
     "prompt_number": 5
    },
    {
     "cell_type": "heading",
     "level": 2,
     "metadata": {},
     "source": "Problem no:13.8, Page no:152"
    },
    {
     "cell_type": "code",
     "collapsed": false,
     "input": "from __future__ import division\n\n#Cal of Effective current\n\n#Initialization\n\nImax=10                 #Current in A\n\nR=20                    #Resistance in Ohm     \n\n#Calculation\n\nIeff=0.707*Imax\n\nP=(Ieff**2)*R\n\nprint \"Ieff=\",Ieff,\"A\"\n\nprint \"P=\",int(round(P)),\"W\"\n",
     "language": "python",
     "metadata": {},
     "outputs": [
      {
       "output_type": "stream",
       "stream": "stdout",
       "text": "Ieff= 7.07 A\nP= 1000 W\n"
      }
     ],
     "prompt_number": 4
    },
    {
     "cell_type": "heading",
     "level": 2,
     "metadata": {},
     "source": "Problem no:13.9, Page no:153"
    },
    {
     "cell_type": "code",
     "collapsed": false,
     "input": "from __future__ import division\n\n#Cal of Secondary voltage and current\n\n#Initialization\n\nN1=100                     #No.of turns in primary winding\n\nN2=500                     #No. of turns in secondary winding\n\nV1=120                     #Primary voltage in V\n\nI1=3                       #Primary current in  A\n\n#Calculation\n\nV2=(N2/N1)*V1\n\nI2=(N1/N2)*I1\n\nprint \"V2=\",int(V2),\"V\"\n\nprint \"I2=\",I2,\"A\"",
     "language": "python",
     "metadata": {},
     "outputs": [
      {
       "output_type": "stream",
       "stream": "stdout",
       "text": "V2= 600 V\nI2= 0.6 A\n"
      }
     ],
     "prompt_number": 10
    },
    {
     "cell_type": "heading",
     "level": 2,
     "metadata": {},
     "source": "Problem no:13.10, Page no:154"
    },
    {
     "cell_type": "code",
     "collapsed": false,
     "input": "from __future__ import division\n\n#Initialization\n\nV1=5000                   #primary voltage in V\n\nV2=240                    #Secondary voltage in V\n\nP=10                      #Power in kW\n\n#Cal of Ratio of turns\n\nN1_N2=V1/V2\n\nP=P*1000                  #Convert power in W\n\n#Cal of Maximum current\n\nI2=P/V2\n\nprint \"(a) N1_N2=\",round(N1_N2,1)\n\nprint \"(b) I2=\",round(I2,1),\"A\"",
     "language": "python",
     "metadata": {},
     "outputs": [
      {
       "output_type": "stream",
       "stream": "stdout",
       "text": "(a) N1_N2= 20.8\n(b) I2= 41.7 A\n"
      }
     ],
     "prompt_number": 9
    }
   ],
   "metadata": {}
  }
 ]
}