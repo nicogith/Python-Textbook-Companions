{
 "metadata": {
  "name": "chapter15"
 },
 "nbformat": 3,
 "nbformat_minor": 0,
 "worksheets": [
  {
   "cells": [
    {
     "cell_type": "heading",
     "level": 1,
     "metadata": {},
     "source": "Chapter 15:Parallel AC Circuits"
    },
    {
     "cell_type": "heading",
     "level": 2,
     "metadata": {},
     "source": "Problem no:15.12, Page no:183"
    },
    {
     "cell_type": "code",
     "collapsed": false,
     "input": "from __future__ import division\n\nimport math\n\n#Cal of resonance frquency\n\n#Initialization\n\nL=180                        #Inductance in muH\n\nC=100                        #Capacitance in pF\n\n#Calculation\n\nL=L*(10**-6)\n\nC=C*(10**-12)\n\nfo=1/((2*math.pi)*(math.sqrt(L*C)))\n\nfo=fo/10**6                   #Convert fo in MHz\n\nprint \"fo=\",round(fo,1),\"MHz\"",
     "language": "python",
     "metadata": {},
     "outputs": [
      {
       "output_type": "stream",
       "stream": "stdout",
       "text": "fo= 1.2 MHz\n"
      }
     ],
     "prompt_number": 1
    }
   ],
   "metadata": {}
  }
 ]
}