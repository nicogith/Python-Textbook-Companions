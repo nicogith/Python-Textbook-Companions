{
 "metadata": {
  "name": "chapter4"
 },
 "nbformat": 3,
 "nbformat_minor": 0,
 "worksheets": [
  {
   "cells": [
    {
     "cell_type": "heading",
     "level": 1,
     "metadata": {},
     "source": "Chapter 4:Powers of 10 and Logarithms"
    },
    {
     "cell_type": "heading",
     "level": 2,
     "metadata": {},
     "source": "Problem no:4.17, Page no:37"
    },
    {
     "cell_type": "code",
     "collapsed": false,
     "input": "from __future__ import division\n\n#Cal of Inductive Reactance\n\n#Iniatialization\n\nL=5                         #Inductance in mH\n\nf=10                        #Frequency in kHz\n\n\n#Calculation\n\nL=5/1000                    #Convert Inductance in H\n\nf=10*1000                   #Convert Frequency in Hz\n\nXL=2*3.14*f*L               #Inductance Formula\n\nprint \"The inductive Reactance of 5mH inductor is\",int(XL),\"Ohm\"",
     "language": "python",
     "metadata": {},
     "outputs": [
      {
       "output_type": "stream",
       "stream": "stdout",
       "text": "The inductive Reactance of 5mH inductor is 314 Ohm\n"
      }
     ],
     "prompt_number": 2
    }
   ],
   "metadata": {}
  }
 ]
}