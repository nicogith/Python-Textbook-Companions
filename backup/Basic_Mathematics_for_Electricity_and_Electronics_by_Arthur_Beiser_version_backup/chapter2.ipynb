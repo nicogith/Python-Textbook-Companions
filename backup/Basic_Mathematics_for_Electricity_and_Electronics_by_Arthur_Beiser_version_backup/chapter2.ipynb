{
 "metadata": {
  "name": "chapter2"
 },
 "nbformat": 3,
 "nbformat_minor": 0,
 "worksheets": [
  {
   "cells": [
    {
     "cell_type": "heading",
     "level": 1,
     "metadata": {},
     "source": "chapter:2 Fractions,Decimals,and Percentage"
    },
    {
     "cell_type": "heading",
     "level": 2,
     "metadata": {},
     "source": "Problem no:2.10, Page no:17"
    },
    {
     "cell_type": "code",
     "collapsed": false,
     "input": "#Initialisation\n\nI=3.7        #Current in ampere\n\nt=1.4        #time in hours\n \n#Calculation \n\nE=I*t       #Energy     \n\nprint \"E=\",E,\"Ah\"",
     "language": "python",
     "metadata": {},
     "outputs": [
      {
       "output_type": "stream",
       "stream": "stdout",
       "text": "E= 5.18 Ah\n"
      }
     ],
     "prompt_number": 3
    }
   ],
   "metadata": {}
  }
 ]
}