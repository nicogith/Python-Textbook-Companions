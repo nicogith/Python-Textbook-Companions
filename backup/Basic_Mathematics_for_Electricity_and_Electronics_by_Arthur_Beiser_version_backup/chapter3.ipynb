{
 "metadata": {
  "name": "chapter3"
 },
 "nbformat": 3,
 "nbformat_minor": 0,
 "worksheets": [
  {
   "cells": [
    {
     "cell_type": "heading",
     "level": 1,
     "metadata": {},
     "source": "Chapter 3:Power and Energy"
    },
    {
     "cell_type": "heading",
     "level": 2,
     "metadata": {},
     "source": "Problem no:3.3,Page no:24"
    },
    {
     "cell_type": "code",
     "collapsed": false,
     "input": "#cal of Highest voltage drop\n\n#initialization\n\nP=10                       #Power in W\n\nI=0.04                     #Current in A\n\n#calculation\n\nV=P/I\n\nprint \"V=\",int(V),\"V\"",
     "language": "python",
     "metadata": {},
     "outputs": [
      {
       "output_type": "stream",
       "stream": "stdout",
       "text": "V= 250 V\n"
      }
     ],
     "prompt_number": 1
    },
    {
     "cell_type": "heading",
     "level": 2,
     "metadata": {},
     "source": "Problem no:3.5,Page no:24"
    },
    {
     "cell_type": "code",
     "collapsed": false,
     "input": "#cal of power dissipated as heat\n\n#initialization\n\nR=50                  #Resistance on Ohm\n\nI=2                   #Current in A\n\n#calculation\n\nP=(I**2)*R            #Power Equation\n\nprint \"P=\",P,\"W\"",
     "language": "python",
     "metadata": {},
     "outputs": [
      {
       "output_type": "stream",
       "stream": "stdout",
       "text": "P= 200 W\n"
      }
     ],
     "prompt_number": 2
    },
    {
     "cell_type": "heading",
     "level": 2,
     "metadata": {},
     "source": "Problem no:3.6,Page no:24"
    },
    {
     "cell_type": "code",
     "collapsed": false,
     "input": "from __future__ import division\n\n#Cal of Resistance\n\n#Initialization\n\nP=3000                    #Power in W\n\nV=240                     #Voltage in V\n\n#calculation\n\nR=(V**2)/P                #Another form of power equation\n\nprint \"R=\",R,\"Ohm\"\n",
     "language": "python",
     "metadata": {},
     "outputs": [
      {
       "output_type": "stream",
       "stream": "stdout",
       "text": "R= 19.2 Ohm\n"
      }
     ],
     "prompt_number": 3
    },
    {
     "cell_type": "heading",
     "level": 2,
     "metadata": {},
     "source": "Problem no:3.7,Page no:25"
    },
    {
     "cell_type": "code",
     "collapsed": false,
     "input": "#cal of area of circle\n\n#initialization\n\nr=6                  #Radius in inches\n\npi=3.14              #Pi constant Value\n\n#calculation\n\nA=pi*r**2            #Area of Circle Euation in square inches\n\nprint \"A=\",int(A),\"in^2\"\n",
     "language": "python",
     "metadata": {},
     "outputs": [
      {
       "output_type": "stream",
       "stream": "stdout",
       "text": "A= 113 in^2\n"
      }
     ],
     "prompt_number": 4
    },
    {
     "cell_type": "heading",
     "level": 2,
     "metadata": {},
     "source": "Problem no:3.8,Page no:25"
    },
    {
     "cell_type": "code",
     "collapsed": false,
     "input": "import math\n\n#Cal of Volume of a spherical tank\n\n#Initialization\n\nr=10                        #Radius in m\n\npi=3.14                     #Pi value constant\n\n\n#Calculation\n\nV=math.ceil((4*pi*r**3)/3)  #Equation of volume of sphere\n\nprint \"V=\",int(V),\"m^3\"",
     "language": "python",
     "metadata": {},
     "outputs": [
      {
       "output_type": "stream",
       "stream": "stdout",
       "text": "V= 4187 m^3\n"
      }
     ],
     "prompt_number": 5
    },
    {
     "cell_type": "heading",
     "level": 2,
     "metadata": {},
     "source": "Problem no:3.11,Page no:26"
    },
    {
     "cell_type": "code",
     "collapsed": false,
     "input": "#Cal of Operating voltage\n\n#Initialization\n\nR=18                  #resistance in ohm\n\nP=2                   #Power in W\n\nimport math\n\n#calculation\n\nV=math.sqrt(P*R)\n\nprint \"V=\",int(V),\"V\"",
     "language": "python",
     "metadata": {},
     "outputs": [
      {
       "output_type": "stream",
       "stream": "stdout",
       "text": "V= 6 V\n"
      }
     ],
     "prompt_number": 6
    },
    {
     "cell_type": "heading",
     "level": 2,
     "metadata": {},
     "source": "Problem no:3.12,Page no:26"
    },
    {
     "cell_type": "code",
     "collapsed": false,
     "input": "from __future__ import division\n\nimport math\n\n#cal of Maximum current\n\n#initialization\n\nR=50                      #Resistance in Ohm\n\nP=10                      #Power in W\n\n#calculation\n\nI=math.sqrt(P/R)\n\nprint \"I=\",round(I,3),\"A\"",
     "language": "python",
     "metadata": {},
     "outputs": [
      {
       "output_type": "stream",
       "stream": "stdout",
       "text": "I= 0.447 A\n"
      }
     ],
     "prompt_number": 7
    },
    {
     "cell_type": "heading",
     "level": 2,
     "metadata": {},
     "source": "Problem no:3.13,Page no:27"
    },
    {
     "cell_type": "code",
     "collapsed": false,
     "input": "#cal of radius of wire\n\n#initialization\n\nA=5                      #Area in mm^2\n\npi=3.14                  #pi constant value\n\nimport math\n\n#calculation\n\nr=math.sqrt(A/pi)\n\nprint \"r=\",round(r,2),\"mm\"",
     "language": "python",
     "metadata": {},
     "outputs": [
      {
       "output_type": "stream",
       "stream": "stdout",
       "text": "r= 1.26 mm\n"
      }
     ],
     "prompt_number": 8
    },
    {
     "cell_type": "heading",
     "level": 2,
     "metadata": {},
     "source": "Problem no:3.15,Page no:28"
    },
    {
     "cell_type": "code",
     "collapsed": false,
     "input": "from __future__ import division\n\n#cal of Energy\n\n#initialization\n\nV=240                      #Voltage in V\n\nI=15                       #Current in A\n\nt=45                       #Time in minutes\n\n\n\n#Calculation\n\nP=(I*V)/1000               #Power in kW\n\nt=t/60                     #convert time to hours\n\nW=P*t                      #Work done in kWh\n\nprint \"W=\",round(W,1),\"kWh\"",
     "language": "python",
     "metadata": {},
     "outputs": [
      {
       "output_type": "stream",
       "stream": "stdout",
       "text": "W= 2.7 kWh\n"
      }
     ],
     "prompt_number": 9
    },
    {
     "cell_type": "heading",
     "level": 2,
     "metadata": {},
     "source": "Problem no:3.16,Page no:28"
    },
    {
     "cell_type": "code",
     "collapsed": false,
     "input": "import math\n\n#cal of Cost per week\n\n#Initialization\n\nP=75                         #Power in W\n\n#Calculation\n\nt=7*24                       #Number of hours in a week\n\nP=75/1000                    #Power in kWh\n\nW=P*t                        #Energy used per week\n\nC=12.6*0.09                  #Cost at $0.09 per kWh\n\nprint \"Cost per week W =\",\"$\",round(C,2)",
     "language": "python",
     "metadata": {},
     "outputs": [
      {
       "output_type": "stream",
       "stream": "stdout",
       "text": "Cost per week W = $ 1.13\n"
      }
     ],
     "prompt_number": 10
    }
   ],
   "metadata": {}
  }
 ]
}