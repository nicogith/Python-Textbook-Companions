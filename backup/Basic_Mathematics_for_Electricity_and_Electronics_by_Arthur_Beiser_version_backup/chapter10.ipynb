{
 "metadata": {
  "name": "chapter10"
 },
 "nbformat": 3,
 "nbformat_minor": 0,
 "worksheets": [
  {
   "cells": [
    {
     "cell_type": "heading",
     "level": 1,
     "metadata": {},
     "source": "Chapter 10:Inductance"
    },
    {
     "cell_type": "heading",
     "level": 2,
     "metadata": {},
     "source": "Problem no:10.1, Page no:115\n"
    },
    {
     "cell_type": "code",
     "collapsed": false,
     "input": "from __future__ import division\n\n#Cal of average self-induced emf\n\n#Initialization\n\nL=25                        #Inductance in mH\n\ndel_I=0.2                   #Current in A\n\ndel_t=0.01                  #Time in s\n\n#Calculation\n\nL=L/1000                    #Inductance in H\n\nV=L*(del_I/del_t)\n\nprint \"V=\",V,\"V\"",
     "language": "python",
     "metadata": {},
     "outputs": [
      {
       "output_type": "stream",
       "stream": "stdout",
       "text": "V= 0.5 V\n"
      }
     ],
     "prompt_number": 1
    },
    {
     "cell_type": "heading",
     "level": 2,
     "metadata": {},
     "source": "Problem no:10.3, Page no:116"
    },
    {
     "cell_type": "code",
     "collapsed": false,
     "input": "from __future__ import division\n\n#Cal of inductance\n\n#Initialization\n\nN=500                       #No. of Turns\n\nmu_o=1.26E-6                #Magnetic permeability of solenoid in air\n\nA=20                        #Area in cm^2\n\nl=10                        #Length in cm\n\n\n\n#calculation\n\nl=10/100                    #convert length in m\n\nA=20/10000                  #Convert area in m^2\n\nL= ((mu_o)*(N*N)*(A))/(l)   #Formula for inductance of solenoid\n\nL=L*1000                    #convert inductance in mH\n\nprint \"L=\",L,\"mH\"",
     "language": "python",
     "metadata": {},
     "outputs": [
      {
       "output_type": "stream",
       "stream": "stdout",
       "text": "L= 6.3 mH\n"
      }
     ],
     "prompt_number": 1
    },
    {
     "cell_type": "heading",
     "level": 2,
     "metadata": {},
     "source": "Problem no:10.4, Page no:116\n"
    },
    {
     "cell_type": "code",
     "collapsed": false,
     "input": "from __future__ import division\n\nimport math\n\n#Cal of turns of wire\n\n#Initialization\n\nL=0.178                      #Inductance in mH\n\nl=20                         #Length of solenoid in cm\n\nd=2                          #Diameter in cm\n\nmu_o=1.26E-6                 #magnetic permeability in air\n\n#Calculation\n\nL=L/1000                     #Convert Inductance in H\n\nl=l/100                      #Convert Length in m\n\nd=2/100                      #Convert diameter in m\n\nr=d/2                        #Cal of radius\n\nA=(math.pi)*(r**2)           #Cal of Area in m^2\n\nN=math.sqrt((L*l)/(mu_o*A))  #Calculating No.of Turns\n\nprint \"N= \",int(round(N)),\"turns\"",
     "language": "python",
     "metadata": {},
     "outputs": [
      {
       "output_type": "stream",
       "stream": "stdout",
       "text": "N=  300 turns\n"
      }
     ],
     "prompt_number": 2
    },
    {
     "cell_type": "heading",
     "level": 2,
     "metadata": {},
     "source": "Problem no:10.5, Page no:116"
    },
    {
     "cell_type": "code",
     "collapsed": false,
     "input": "from __future__ import division\n\nimport math\n\n#Cal of Inductance\n\n#Initialization\n\nD=5                          #Diameter in cm\n\nA=1                          #Cross-sectional area in cm^&2\n\nmu_o=1.26E-6                 #Magnetic permeability in air\n\nmu=400*mu_o                  #Permeability of iron given\n\nN=1000                       #No. of turns\n\n#Calculation\n\nl=math.pi*(D/100)            #Calculating length in m\n\nA=A/10000                    #Convert Area in m^2\n\nL=(mu*(N**2)*A)/(l)          #inductance Formula\n\nprint \"L=\",round(L,2),\"H\"",
     "language": "python",
     "metadata": {},
     "outputs": [
      {
       "output_type": "stream",
       "stream": "stdout",
       "text": "L= 0.32 H\n"
      }
     ],
     "prompt_number": 3
    },
    {
     "cell_type": "heading",
     "level": 2,
     "metadata": {},
     "source": "Problem no:10.6, Page no:117\n"
    },
    {
     "cell_type": "code",
     "collapsed": false,
     "input": "from __future__ import division\n\n#Cal of magnetic potential energy\n\n#initialization\n\nL=20                          #inductance in mH\n\nI=0.2                         #Current in A\n\n#Calculation\n\nL=L/1000                      #Convert Inductance in H\n\nW=(1/2)*(L*I**2)              #Formula for energy in current-carrying conductor\n\nprint \"W=\",'%4.0E' % W,\"J\"\n",
     "language": "python",
     "metadata": {},
     "outputs": [
      {
       "output_type": "stream",
       "stream": "stdout",
       "text": "W= 4E-04 J\n"
      }
     ],
     "prompt_number": 7
    },
    {
     "cell_type": "heading",
     "level": 2,
     "metadata": {},
     "source": "Problem no:10.7, Page no:117"
    },
    {
     "cell_type": "code",
     "collapsed": false,
     "input": "from __future__ import division\n\nimport math\n\n#Cal of Current\n\n#initialization\n\nL=20                     #Inductance in mH\n\nW=1                      #Energy in J\n\n#Calculation\n\nL=L/1000                 #convert Inductance in H\n\nI=math.sqrt((2*W)/L)\n\nprint \"I=\",int(I),\"A\"",
     "language": "python",
     "metadata": {},
     "outputs": [
      {
       "output_type": "stream",
       "stream": "stdout",
       "text": "I= 10 A\n"
      }
     ],
     "prompt_number": 4
    }
   ],
   "metadata": {}
  }
 ]
}