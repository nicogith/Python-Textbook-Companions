{
 "metadata": {
  "name": "chapter14"
 },
 "nbformat": 3,
 "nbformat_minor": 0,
 "worksheets": [
  {
   "cells": [
    {
     "cell_type": "heading",
     "level": 1,
     "metadata": {},
     "source": "Chapter 14:Series AC Circuits"
    },
    {
     "cell_type": "heading",
     "level": 2,
     "metadata": {},
     "source": "Problem no:14.2, Page no:160"
    },
    {
     "cell_type": "code",
     "collapsed": false,
     "input": "from __future__ import division\n\nimport math\n\n#Initialization\n\nC=10                 #Capacitance in muF\n\nV=15                 #Voltage in V\n\nf=5                  #Frequency in kHz\n\n#Cal of reactance of capacitor\n\nf=f*1000\n\nC=C*(10**(-6))\n\nXc=round(1/(2*math.pi*f*C),2)\n\nprint \"(a) Xc=\",Xc,\"Ohm\"\n\n#Cal of Current\n\nI=V/Xc\n\nprint \"(b) I=\",round(I,2),\"A\"",
     "language": "python",
     "metadata": {},
     "outputs": [
      {
       "output_type": "stream",
       "stream": "stdout",
       "text": "(a) Xc= 3.18 Ohm\n(b) I= 4.72 A\n"
      }
     ],
     "prompt_number": 1
    },
    {
     "cell_type": "heading",
     "level": 2,
     "metadata": {},
     "source": "Problem no:14.4, Page no:160"
    },
    {
     "cell_type": "code",
     "collapsed": false,
     "input": "from __future__ import division\n\nimport math\n\n#Initializtion\n\nV=24                        #Voltage in V\n\nf=60                        #Frequency in Hz\n\nL=0.3                       #Inductance in H\n\n#Cal of Reactance\n\nXL=2*math.pi*f*L\n\nprint \"(a) XL=\",int(XL),\"Ohm\"\n\n#Cal of Current\n\nI=V/XL\n\nprint \"(b) I=\",round(I,2),\"A\"",
     "language": "python",
     "metadata": {},
     "outputs": [
      {
       "output_type": "stream",
       "stream": "stdout",
       "text": "(a) XL= 113 Ohm\n(b) I= 0.21 A\n"
      }
     ],
     "prompt_number": 2
    },
    {
     "cell_type": "heading",
     "level": 2,
     "metadata": {},
     "source": "Problem no:14.5, Page no:160"
    },
    {
     "cell_type": "code",
     "collapsed": false,
     "input": "from __future__ import division\n\nimport math\n\n#Cal of Inductance\n\n#Initialization\n\nf=500                       #Frequency in Hz\n\nXL=80                       #Reactance in Ohm\n\n#Calculation\n\nL=XL/(2*math.pi*f)\n\nL=L*1000 #Convert L in mH\n\nprint \"L=\",round(L,1),\"mH\"",
     "language": "python",
     "metadata": {},
     "outputs": [
      {
       "output_type": "stream",
       "stream": "stdout",
       "text": "L= 25.5 mH\n"
      }
     ],
     "prompt_number": 4
    },
    {
     "cell_type": "heading",
     "level": 2,
     "metadata": {},
     "source": "Problem no:14.11, Page no:167"
    },
    {
     "cell_type": "code",
     "collapsed": false,
     "input": "from __future__ import division\n\nimport math\n\n#Initialization\n\nL=5                                #inductance in mH\n\nC=5                                #Capacitance in pF\n\nR=5                                #Resistance in Ohm\n\nV=5E-4\n\n#Cal of frequency\n\nL=L/1000                           #Convert L in H\n\nC=C/(10**12)                       #Convert C in F\n\n\nfo=1/(2*math.pi*(math.sqrt(L*C)))  #Frequency\n\nfo=fo/1000                         #Convert fo in kHz\n\nprint \"(a) fo=\",int(math.ceil(fo)),\"kHz\"\n\n#Cal of Current\n\n#At Resonance XL=XC and Z=R\n\nI=V/R\n\nI=I*1000\n\nprint \"(b) I=\",I,\"mA\"",
     "language": "python",
     "metadata": {},
     "outputs": [
      {
       "output_type": "stream",
       "stream": "stdout",
       "text": "(a) fo= 1007 kHz\n(b) I= 0.1 mA\n"
      }
     ],
     "prompt_number": 5
    }
   ],
   "metadata": {}
  }
 ]
}