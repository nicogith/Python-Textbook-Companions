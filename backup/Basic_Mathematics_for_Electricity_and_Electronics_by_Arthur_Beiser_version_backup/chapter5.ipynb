{
 "metadata": {
  "name": "chapter5"
 },
 "nbformat": 3,
 "nbformat_minor": 0,
 "worksheets": [
  {
   "cells": [
    {
     "cell_type": "heading",
     "level": 1,
     "metadata": {},
     "source": "Chapter 5:Resistance and Wire Size"
    },
    {
     "cell_type": "heading",
     "level": 2,
     "metadata": {},
     "source": "Problem no:5.1, Page no: 46"
    },
    {
     "cell_type": "code",
     "collapsed": false,
     "input": "from __future__ import division\n\n#Cal of Length of wire\n\n#Initialization\n\nL1=20                      #Length in ft\n\nR1=13                      #Resistance in Ohm\n\nR2=8                       #Resistance in Ohm\n\n\n#Calculation\n\nL2=(R2*L1)/R1\n\nprint \"L2=\",round(L2,1),\"ft\"",
     "language": "python",
     "metadata": {},
     "outputs": [
      {
       "output_type": "stream",
       "stream": "stdout",
       "text": "L2= 12.3 ft\n"
      }
     ],
     "prompt_number": 2
    },
    {
     "cell_type": "heading",
     "level": 2,
     "metadata": {},
     "source": "Problem no.:5.2, Page no: 47"
    },
    {
     "cell_type": "code",
     "collapsed": false,
     "input": "#Cal of Resistance\n\n#Initialization\n\nR1=2                       #Resistance in Ohm\n\nD1=0.04                    #Diameter in inches\n\nD2=0.10                    #Diameter in inches\n\n\n\n\n#Cal of Resistance when diameter is 0.10 in\n\nR2=(D1/D2)**2*R1\n\nprint \"(a) The resistance when diameter is 0.10 in is\",R2,\"Ohm\"\n\n\n\n\n#Cal of Resistance when diameter is 0.01 in \n\nD2=0.01                    #Diameter in inches\n\nR2=(D1/D2)**2*R1\n\nprint \"(b) The resistance when diameter is 0.01 in is\",int(R2),\"Ohm\"\n",
     "language": "python",
     "metadata": {},
     "outputs": [
      {
       "output_type": "stream",
       "stream": "stdout",
       "text": "(a) The resistance when diameter is 0.10 in is 0.32 Ohm\n(b) The resistance when diameter is 0.01 in is 32 Ohm\n"
      }
     ],
     "prompt_number": 2
    },
    {
     "cell_type": "heading",
     "level": 2,
     "metadata": {},
     "source": "Problem no:5.4, Page no:47"
    },
    {
     "cell_type": "code",
     "collapsed": false,
     "input": "#Cal of Cross-sectional area\n\n#Initialization\n\nD=0.06408                    #Diameter in inches\n\n#Calculation\n\nD=0.06408/0.001              #Convert Diameter in mils\n\nA=D**2\n\nprint \"A_cmil=\",int(A),\"cmil\"",
     "language": "python",
     "metadata": {},
     "outputs": [
      {
       "output_type": "stream",
       "stream": "stdout",
       "text": "A_cmil= 4106 cmil\n"
      }
     ],
     "prompt_number": 5
    },
    {
     "cell_type": "heading",
     "level": 2,
     "metadata": {},
     "source": "Problem no:5.5, Page no:48"
    },
    {
     "cell_type": "code",
     "collapsed": false,
     "input": "from __future__ import division\n\n#Comparing the Resistances of wires\n\n#Initialization\n\nA10=10380                         #Area in cmil\n\nA14=4106                          #Area in cmil\n\nfrom decimal import *\n\n#Calculation\n\nR14_R10=A10/A14\n\nprint \"The no. 14 wire has\",round(R14_R10,2),\"times as much resistance as the no. 10 wire\"",
     "language": "python",
     "metadata": {},
     "outputs": [
      {
       "output_type": "stream",
       "stream": "stdout",
       "text": "The no. 14 wire has 2.53 times as much resistance as the no. 10 wire\n"
      }
     ],
     "prompt_number": 7
    },
    {
     "cell_type": "heading",
     "level": 2,
     "metadata": {},
     "source": "Problem no:5.6, Page no:48"
    },
    {
     "cell_type": "code",
     "collapsed": false,
     "input": "#Cal of Resistance\n\n#Initialization\n\nD_mil=0.080                       #Diameter in inches\n\nl=1500                            #Length in ft\n\nrho=10.4                          #Specific resistance in Ohm\n\n#Calculation\n\nD_mil=0.080/0.001                 #Diameter in mils\n\nA_cmil=D_mil*D_mil                #Area in cmil\n\nR=(rho*l)/A_cmil                  #Specific Resistance formula\n\nprint \"R=\",round(R,2),\"ohm\"",
     "language": "python",
     "metadata": {},
     "outputs": [
      {
       "output_type": "stream",
       "stream": "stdout",
       "text": "R= 2.44 ohm\n"
      }
     ],
     "prompt_number": 9
    },
    {
     "cell_type": "heading",
     "level": 2,
     "metadata": {},
     "source": "Problem no:5.7, Page no:48"
    },
    {
     "cell_type": "code",
     "collapsed": false,
     "input": "from __future__ import division\n\n#Cal of Length of Nichrome wire\n\n#Initialization\n\nD_mil=20                         #Diameter in inches\n\nrho=600                          #Specific resistance in Ohm\n\nR=5                              #Resistance in ohm\n\n\n\n#Calculation\n\nA_cmil=D_mil*D_mil               #Area in cmil\n\nl=(R*A_cmil)/rho #Specific Resistance formula\n\nprint \"l=\",round(l,2),\"ft\"",
     "language": "python",
     "metadata": {},
     "outputs": [
      {
       "output_type": "stream",
       "stream": "stdout",
       "text": "l= 3.33 ft\n"
      }
     ],
     "prompt_number": 13
    },
    {
     "cell_type": "heading",
     "level": 2,
     "metadata": {},
     "source": "Problem no:5.8, Page no:48"
    },
    {
     "cell_type": "code",
     "collapsed": false,
     "input": "#Cal of minimum diameter of wire\n\n#initialization\n\nl=400                     #Length in ft\n\nR=1.5                     #Resistance in ohm\n\nrho=10.4                  #Specific resistance for copper wire in cmil/ft\n\nimport math\n\n#Calculation\n\nA_cmil=(rho*l)/R\n\nD_mil=math.sqrt(A_cmil)\n\nprint \"D_mil=\",round(D_mil,1),\"mils\"",
     "language": "python",
     "metadata": {},
     "outputs": [
      {
       "output_type": "stream",
       "stream": "stdout",
       "text": "D_mil= 52.7 mils\n"
      }
     ],
     "prompt_number": 14
    },
    {
     "cell_type": "heading",
     "level": 2,
     "metadata": {},
     "source": "Problem no:5.14, Page no: 51"
    },
    {
     "cell_type": "code",
     "collapsed": false,
     "input": "#Cal of Maximum length\n\n#Initialization\n\nA=6530                          #Area in cmil\n\nV=5                             #Voltage in V\n\nI=15                            #Current in A\n\n#Calculation\n\nl=(A*V)/(10.4*I)\n\nprint \"l=\",int(l),\"ft\"",
     "language": "python",
     "metadata": {},
     "outputs": [
      {
       "output_type": "stream",
       "stream": "stdout",
       "text": "l= 209 ft\n"
      }
     ],
     "prompt_number": 16
    },
    {
     "cell_type": "heading",
     "level": 2,
     "metadata": {},
     "source": "Problem no:5.15, Page no: 52"
    },
    {
     "cell_type": "code",
     "collapsed": false,
     "input": "#Cal of Resistance\n\n#Initialization\n\nl=80                            #length in m\n\nA=2.5                           #Area in mm^2\n\nrho=0.0175                      #Specific Resistance of copper wire in mm^2/m\n\n#Calculation\n\nR=(rho*l)/A\n\nprint \"R=\",R,\"Ohm\"",
     "language": "python",
     "metadata": {},
     "outputs": [
      {
       "output_type": "stream",
       "stream": "stdout",
       "text": "R= 0.56 Ohm\n"
      }
     ],
     "prompt_number": 1
    },
    {
     "cell_type": "heading",
     "level": 2,
     "metadata": {},
     "source": "Problem no:5.16, Page no: 52"
    },
    {
     "cell_type": "code",
     "collapsed": false,
     "input": "#Cal of Length of wire\n\n#Iniatialization\n\nA=0.1                        #Area in mm^2\n\nR=3                          #Resistance in Ohm\n\nrho=0.0175                   #Specific Resistance of copper wire in mm^2/m\n\n#Calculation\n\nl=(R*A)/rho\n\nprint \"l= \",int(l),\"m\"",
     "language": "python",
     "metadata": {},
     "outputs": [
      {
       "output_type": "stream",
       "stream": "stdout",
       "text": "l=  17 m\n"
      }
     ],
     "prompt_number": 2
    },
    {
     "cell_type": "heading",
     "level": 2,
     "metadata": {},
     "source": "Problem no:5.17, Page no: 52"
    },
    {
     "cell_type": "code",
     "collapsed": false,
     "input": "#Cal of cross-sectional area\n\n#Initialization\n\nl=50                      #Length in m\n\nR=0.2                     #Resistance in ohm\n\nrho=0.0175                #Specific Resistance of copper wire in mm^2/m\n\n#Calculation\n\nA=(rho*l)/R\n\nprint \"A=\",round(A,1),\"mm^2\"",
     "language": "python",
     "metadata": {},
     "outputs": [
      {
       "output_type": "stream",
       "stream": "stdout",
       "text": "A= 4.4 mm^2\n"
      }
     ],
     "prompt_number": 3
    }
   ],
   "metadata": {}
  }
 ]
}