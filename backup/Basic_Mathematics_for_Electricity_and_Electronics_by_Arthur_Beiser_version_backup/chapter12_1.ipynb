{
 "metadata": {
  "name": "chapter12"
 },
 "nbformat": 3,
 "nbformat_minor": 0,
 "worksheets": [
  {
   "cells": [
    {
     "cell_type": "heading",
     "level": 1,
     "metadata": {},
     "source": "Chapter 12:Trigonometry and Vectors"
    },
    {
     "cell_type": "heading",
     "level": 2,
     "metadata": {},
     "source": "Problem no:12.1, Page no:134"
    },
    {
     "cell_type": "code",
     "collapsed": false,
     "input": "from __future__ import division\n\n#Expressing the degree in radians\n\n#Initialization\n\nd=8                   #Given degree\n\n#Calculation\n\ntheta=d*0.01745       #Converting degree to radians\n\nprint \"theta=\",round(theta,2),\"rad\"\n",
     "language": "python",
     "metadata": {},
     "outputs": [
      {
       "output_type": "stream",
       "stream": "stdout",
       "text": "theta= 0.14 rad\n"
      }
     ],
     "prompt_number": 1
    },
    {
     "cell_type": "heading",
     "level": 2,
     "metadata": {},
     "source": "Problem no:12.15, Page no:138"
    },
    {
     "cell_type": "code",
     "collapsed": false,
     "input": "from __future__ import division\n\nimport math\n\n#Cal of length of hypotenuse\n\n#initialization\n\na=6                   #Length of one side in in\n\nb=12                  #Length of other side in in\n\n#Calculation\n\nc=math.sqrt((a**2)+(b**2))\n\nprint \"c=\",round(c,1),\"in\"\n",
     "language": "python",
     "metadata": {},
     "outputs": [
      {
       "output_type": "stream",
       "stream": "stdout",
       "text": "c= 13.4 in\n"
      }
     ],
     "prompt_number": 2
    },
    {
     "cell_type": "heading",
     "level": 2,
     "metadata": {},
     "source": "Problem no:12.16, Page no:138"
    },
    {
     "cell_type": "code",
     "collapsed": false,
     "input": "from __future__ import division\n\nimport math\n\n#Cal of length of other side\n\n#initialization\n\nc=8                   #Length of hypotenuse in m\n\nb=6                   #Length of other side in m\n\n#Calculation\n\na=math.sqrt((c**2)-(b**2))\n\nprint \" a=\",round(a,1),\"m\"\n\n\n",
     "language": "python",
     "metadata": {},
     "outputs": [
      {
       "output_type": "stream",
       "stream": "stdout",
       "text": " a= 5.3 m\n"
      }
     ],
     "prompt_number": 3
    }
   ],
   "metadata": {}
  }
 ]
}