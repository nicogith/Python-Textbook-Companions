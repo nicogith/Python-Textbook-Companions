{
 "cells": [
  {
   "cell_type": "markdown",
   "metadata": {},
   "source": [
    "# Chapter 6 - Quantum Physics"
   ]
  },
  {
   "cell_type": "markdown",
   "metadata": {},
   "source": [
    "## Example 1 - pg 165"
   ]
  },
  {
   "cell_type": "code",
   "execution_count": 1,
   "metadata": {
    "collapsed": false
   },
   "outputs": [
    {
     "name": "stdout",
     "output_type": "stream",
     "text": [
      "Energy at First three levels for a 1s simple pendulum : \n",
      "E_ 1 :  6.62 x 10^-34 J\n",
      "E_ 2 :  13.25 x 10^-34 J\n",
      "E_ 3 :  19.88 x 10^-34 J\n",
      "Energy at First three levels  for a hydrogen electron :\n",
      "E_ 1 :  -13.6 eV\n",
      "E_ 2 :  -3.4 eV\n",
      "E_ 3 :  -1.51 eV\n",
      "Quantum number n is : 2.98  x 10**28\n",
      "Percentage change in energy ( pendulum ) is 3.0 x 10**-27 \n",
      "Percentage change in energy (hydrogen electron) is  75.0\n"
     ]
    }
   ],
   "source": [
    "#pg 165\n",
    "#Quantised energy levels for microscopic and macroscopic systems\n",
    "#calculate the energy levels and percentage change in energy\n",
    "#Given :\n",
    "import math\n",
    "# (a) For a 1s simple pendulum :\n",
    "T = 1.; # time period in s\n",
    "nu = 1./T; #Frequency in Hz\n",
    "#Planck's quantisation princple : E_n = n*h*nu\n",
    "h = 6.625*10**-34 ; #Planck's constant in Js\n",
    "#calculations and results\n",
    "print \"Energy at First three levels for a 1s simple pendulum : \"\n",
    "for n1 in range(1,4):\n",
    "    E1 = n1*h*nu ; # Energry  in J\n",
    "    print \"E_\",n1,\": \",round(E1*10**34,2),\"x 10^-34 J\"\n",
    "\n",
    "# (b) For a hydrogen electron \n",
    "# E_n = (-13.6/n**2)eV\n",
    "print \"Energy at First three levels  for a hydrogen electron :\"\n",
    "\n",
    "for n2 in range(1,4):\n",
    "    E2 = (-13.6/n2**2);#Energy in eV\n",
    "    print\"E_\",n2,\": \",round(E2,2),\"eV\"\n",
    "\n",
    "#Now, for a simple pendulum\n",
    "m = 10.; # mass in g\n",
    "a = 1.; # amplitude in cm\n",
    "omega = 2*math.pi*nu; # angular frequency in rad/s\n",
    "# 1 g = 1.0*10**-3 Kg and  1 cm = 1.0*10**-2 m\n",
    "E = 1./2*((m*10**-3)*(omega**2)*(a*10**-2)**2); # Energy in J\n",
    "#Thus,quantum number n = E/h*nu\n",
    "n = E/(h*nu);\n",
    "print\"Quantum number n is :\",round(n*10**-28,2),\" x 10**28\"\n",
    "#(i)Pendulum :\n",
    "#percentage change in energy  = (E_n+1 - E_n)*100/E_n  which is equal to [(n+1)*h*nu - n*h*nu]*100/(n*h*nu )\n",
    "#Therefore , it is (1/n) * 100\n",
    "pc = (1./n)*100; #percentage change in energy\n",
    "print\"Percentage change in energy ( pendulum ) is\",round(pc*10**27,0),\"x 10**-27 \"\n",
    "#(ii)Hyderogen electron :\n",
    "n_1 = 1; #ground state\n",
    "n_2 = 2; # next quantum state\n",
    "E_1 = (-13.6/n_1**2); # Energy in eV\n",
    "E_2 = (-13.6/n_2**2);#Energy in eV\n",
    "#percentage change : |((E_2-E_1)*100)|/ |E_1|\n",
    "pc1 =((E_2-E_1)*100)/(-E_1);#percentage change\n",
    "print\"Percentage change in energy (hydrogen electron) is \",abs(pc1)\n"
   ]
  },
  {
   "cell_type": "markdown",
   "metadata": {},
   "source": [
    "## Example 2 - pg 167"
   ]
  },
  {
   "cell_type": "code",
   "execution_count": 2,
   "metadata": {
    "collapsed": false
   },
   "outputs": [
    {
     "name": "stdout",
     "output_type": "stream",
     "text": [
      "Energy of a photon is 19.875 x 10**-16 /lambd(in A)  J\n",
      "Energy of a photon is  12422.0 /lambd(in A)  eV\n",
      "Hence the range of energies for visible photos is 1.8 eV  to 3.1 eV\n"
     ]
    }
   ],
   "source": [
    "#pg 167\n",
    "#calculate the range of energies visible\n",
    "#Given :\n",
    "h = 6.625*10**-34;#Planck's constant in Js\n",
    "c = 3*10**8 ; #velocity of light in m/s\n",
    "# 1A = 1.0*10**-10 m\n",
    "#(a)Energy of a photon : \n",
    "# E = h*nu or E = h*c/lambd\n",
    "#calculations and results\n",
    "print\"Energy of a photon is\",round(((h*c)*10**10)*10**16,3),\"x 10**-16 /lambd(in A)  J\"\n",
    "#1eV = 1.6*10**-19 J\n",
    "print\"Energy of a photon is \",round(((h*c)/(1.6*10**-19))*10**10),\"/lambd(in A)  eV\"\n",
    "#(b)Visible light Range is 4000-7000 A\n",
    "lambd1 = 4000;#Wavelength in A\n",
    "lambd2 = 7000;#Wavelength in A\n",
    "# 1eV = 1.6*10**-19 J , \n",
    "E1 = (h*c)/(lambd1*10**-10*1.6*10**-19); #Energy in eV\n",
    "E2 = (h*c)/(lambd2*10**-10*1.6*10**-19);#Energy in eV\n",
    "print\"Hence the range of energies for visible photos is\",round(E2,1), \"eV  to\",round(E1,1), \"eV\"\n"
   ]
  },
  {
   "cell_type": "markdown",
   "metadata": {},
   "source": [
    "## Example 3 - pg 171"
   ]
  },
  {
   "cell_type": "code",
   "execution_count": 5,
   "metadata": {
    "collapsed": false
   },
   "outputs": [
    {
     "name": "stdout",
     "output_type": "stream",
     "text": [
      " It will take 93.0 days\n"
     ]
    }
   ],
   "source": [
    "#pg 171\n",
    "#calculate the take off time\n",
    "import math\n",
    "#Given :\n",
    "#Power of the source = 10**-5 W = 10**-5 J/s\n",
    "P = 10**-5 ; #Power in J/s\n",
    "r = 10**-9; #radius in m\n",
    "r1 = 5.; # metal plate 5 m away from the source\n",
    "WF = 5.;#Work function in eV\n",
    "#calculations\n",
    "area = math.pi*(10**-9)**2 ; #area in m**2\n",
    "area1 = 4*math.pi*r1**2; # area in m**2\n",
    "P1 = P*(area/area1); # in J/s\n",
    "# 1eV = 1.6*10**-19 J\n",
    "t = (WF*1.6*10**-19)/P1 ;# in s\n",
    "#1 day = 24 hours * 60 minutes * 60 seconds\n",
    "N = t/(24*60*60); #in days\n",
    "print \" It will take\",round(N),\"days\"\n"
   ]
  },
  {
   "cell_type": "markdown",
   "metadata": {},
   "source": [
    "## Example 4 - pg 173"
   ]
  },
  {
   "cell_type": "code",
   "execution_count": 6,
   "metadata": {
    "collapsed": false
   },
   "outputs": [
    {
     "name": "stdout",
     "output_type": "stream",
     "text": [
      "Plancks constant h is 6.6 x 10^-34 Js  and Work function phi is 1.755 eV \n"
     ]
    }
   ],
   "source": [
    "#pg 173\n",
    "#calculate the Planck's constant and work function\n",
    "#Given :\n",
    "nu1 = 10*10**14;# Frequency in Hz\n",
    "nu2 = 6*10**14;# Frequency in Hz\n",
    "V_01 = 2.37; #Stopping potential in volts\n",
    "V_02 = 0.72; #Stopping potential in volts\n",
    "e = 1.6*10**-19 ;# Charge of an electron in C\n",
    "#Einstein's photoeletric equation : h*nu = phi + e*V_0  \n",
    "#calculations\n",
    "h = (e*(V_02 - V_01))/(nu2 - nu1);#Planck's constant in Js\n",
    "phi = ((h*nu1)-(e*V_01))/e ; # work function in eV\n",
    "#results\n",
    "print \"Plancks constant h is\",h*10**34,\"x 10^-34 Js  and Work function phi is\",phi,\"eV \"\n"
   ]
  },
  {
   "cell_type": "markdown",
   "metadata": {},
   "source": [
    "## Example 5 - pg 176"
   ]
  },
  {
   "cell_type": "code",
   "execution_count": 7,
   "metadata": {
    "collapsed": false
   },
   "outputs": [
    {
     "name": "stdout",
     "output_type": "stream",
     "text": [
      "Incident photon wavelength in Compton scattering is (A) =  0.11\n"
     ]
    }
   ],
   "source": [
    "#pg 176\n",
    "#calculate the Incident photon wavelength\n",
    "#Given :\n",
    "import math,numpy\n",
    "ME = 35*10**3 ; #Maximum energy in eV\n",
    "theta = math.pi; # photon is backscattered\n",
    "h = 6.625*10**-34; #planck's constant in Js\n",
    "m0 = 9.1*10**-31; #electron mass in Kg\n",
    "c = 3*10**8; #Speed of light in m/s\n",
    "#calculations\n",
    "deltalambd = (h*(1-math.cos(theta)))/(m0*c); # in A\n",
    "# (h*c/lambd) - (h*c/lambd') = 35 KeV   or  (deltalambd/lambd*lambd1) = (35 KeV/h*c)\n",
    "#Simplifying the above Equation , we will obtain : lambd**2 + 0.048 lambd - 0.017\n",
    "#Roots of the quadratic equation are :\n",
    "values = numpy.array([1,0.048,-0.017]); # a,b,c values of the quadratic equation\n",
    "r = numpy.roots(values); #Roots of the final equation\n",
    "#results\n",
    "print \"Incident photon wavelength in Compton scattering is (A) = \",round(r[1],2)"
   ]
  },
  {
   "cell_type": "markdown",
   "metadata": {},
   "source": [
    "## Example 6 - pg 177"
   ]
  },
  {
   "cell_type": "code",
   "execution_count": 9,
   "metadata": {
    "collapsed": false
   },
   "outputs": [
    {
     "name": "stdout",
     "output_type": "stream",
     "text": [
      "Percentage change in energy for radiation in microwave range is : 8.0 x 10**-9\n",
      "Percentage change in energy for radiation in visible range is : 5.0 x 10**-4\n",
      "Percentage change in energy for radiation in X-ray range is : 2.4\n",
      "Percentage change in energy for radiation in Gamma range is :  66.9\n"
     ]
    }
   ],
   "source": [
    "#pg 177\n",
    "#calculate the Percentage change in energy\n",
    "#Given :\n",
    "import math\n",
    "theta = 90.; #angle in degrees\n",
    "m0 = 9.1*10**-31; #electron mass in kg\n",
    "c = 3.*10**8; #Speed of light in m/s\n",
    "h = 6.625*10**-34; #planck's constant in Js\n",
    "deltalambda = ((h*(1-math.cos(theta/57.3)))/(m0*c))*10**10; # in A\n",
    "#(a) Microwave range\n",
    "lambda1 = 3.0 ;# wavelength in cm\n",
    "#calculations and results\n",
    "#lambda1 = 3.0*10**8 A , 1 cm = 1*10**8 A\n",
    "pc1 = ((deltalambda)*100.)/((lambda1*10**8) + deltalambda) ;#percent change in photon energy\n",
    "print\"Percentage change in energy for radiation in microwave range is :\",round(pc1*10**9,0),\"x 10**-9\"\n",
    "#(b) Visible range\n",
    "lambda2 = 5000 ;# wavelength in A\n",
    "pc2 = ((deltalambda)/(lambda2 + deltalambda))*100 ;#percent change in photon energy\n",
    "print\"Percentage change in energy for radiation in visible range is :\",round(pc2*10**4,0),\"x 10**-4\"\n",
    "#(c) X-ray range\n",
    "lambda3 = 1 ; #wavelength in A\n",
    "pc3 = ((deltalambda)/(lambda3 + deltalambda))*100 ;#percent change in photon energy\n",
    "print\"Percentage change in energy for radiation in X-ray range is :\" ,round(pc3,1)\n",
    "#(d)Gamma ray range\n",
    "lambda4 = 0.012 ;# wavelength in A\n",
    "pc4 = ((deltalambda)/(lambda4 + deltalambda))*100 ;#percent change in photon energy\n",
    "print\"Percentage change in energy for radiation in Gamma range is : \",round(pc4,1)"
   ]
  },
  {
   "cell_type": "markdown",
   "metadata": {},
   "source": [
    "## Example 7 - pg 179"
   ]
  },
  {
   "cell_type": "code",
   "execution_count": 10,
   "metadata": {
    "collapsed": false
   },
   "outputs": [
    {
     "name": "stdout",
     "output_type": "stream",
     "text": [
      "Photoelectric effect :\n",
      "Electron energy : 3.911 eV \n",
      " Electron momentum  : 1.07 x 10**-24 kg m/s \n",
      " Momentum of incident photon : 3.31  x 10**-27 kg m/s \n",
      " pe/pp : 322.0\n",
      "Compton  effect :\n",
      "Electron energy : 568.9 eV \n",
      " Electron momentum  : 1.3 x 10**-23 kg m/s \n",
      " Momentum of incident photon : 6.6 x 10**-24 kg m/s \n",
      " pe/pp :  1.94\n"
     ]
    }
   ],
   "source": [
    "#pg 179\n",
    "#calculate the electron energy and momentum\n",
    "#Given:\n",
    "#Photoelectric effect\n",
    "import math\n",
    "lambda1 = 2000.; #wavelength in A\n",
    "phi1 = 2.3;# Work function in eV\n",
    "m = 9.1*10**-31; #electron mass in kg\n",
    "E1 = 12422./lambda1; # Energy of photon in eV\n",
    "c = 3.*10**8; #Speed of light in m/s\n",
    "Ee1 = (12422./lambda1)- phi1; # energy of an electron in eV\n",
    "pe1 = math.sqrt(2*m*Ee1*1.6*10**-19); #electron momentum in kg m/s\n",
    "pp1 = (E1*1.6*10**-19)/c ; # Momentum of incident photon in kg m/s\n",
    "#calculations\n",
    "ratio1 = pe1/pp1 ; # (pe/pp)\n",
    "#Compton effect\n",
    "lambda2 = 1; # wavelength in A\n",
    "deltalambda = 0.048; # Compton shift in A\n",
    "E2 = 12422/lambda2; # Energy of photon in eV\n",
    "Ee2 = (12422/lambda2)- (12422/(lambda2+deltalambda));#energy of an electron in eV\n",
    "pe2 = math.sqrt(2*m*Ee2*1.6*10**-19); #electron momentum in kg m/s\n",
    "pp2 = (E2*1.6*10**-19)/c ; # Momentum of incident photon in kg m/s\n",
    "ratio2 = pe2/pp2 ; # (pe/pp)\n",
    "#results\n",
    "print\"Photoelectric effect :\";\n",
    "print\"Electron energy :\",Ee1,\"eV \\n Electron momentum  :\",round(pe1*10**24,2),\"x 10**-24 kg m/s \\n Momentum of incident photon :\",round(pp1*10**27,2),\" x 10**-27 kg m/s \\n pe/pp :\",round(ratio1,0)\n",
    "print\"Compton  effect :\"\n",
    "print\"Electron energy :\",round(Ee2,1),\"eV \\n Electron momentum  :\",round(pe2*10**23,1),\"x 10**-23 kg m/s \\n Momentum of incident photon :\",round(pp2*10**24,1),\"x 10**-24 kg m/s \\n pe/pp : \",round(ratio2,2)\n"
   ]
  },
  {
   "cell_type": "markdown",
   "metadata": {},
   "source": [
    "## Example 8 - pg 182"
   ]
  },
  {
   "cell_type": "code",
   "execution_count": 11,
   "metadata": {
    "collapsed": false
   },
   "outputs": [
    {
     "name": "stdout",
     "output_type": "stream",
     "text": [
      "Gamma-rays,X-rays : \n",
      "  Energy : 1.2422  x 10**6 eV \n",
      " Momentum : 6.6  x 10**-22 kg m/s\n",
      " UV : \n",
      "  Energy : 124.22 eV \n",
      " Momentum : 6.6 x 10**-26 kg m/s\n",
      " IR : \n",
      "  Energy : 0.012422 eV \n",
      " Momentum : 6.6 x 10**-30 kg m/s\n",
      " Microwave : \n",
      "  Energy : 1.2422 x 10**-6 eV \n",
      " Momentum : 6.6 x 10**-34 kg m/s\n",
      " Radio waves : \n",
      "  Energy : 1.2422 x 10**-8 eV \n",
      " Momentum : 6.6 x 10**-36 kg m/s\n"
     ]
    }
   ],
   "source": [
    "#pg 182\n",
    "#calculate the Energy, Momentum of rays\n",
    "#Given:\n",
    "#Gamma-rays,X-rays\n",
    "lambda1 = 0.01;#Wavelength in A\n",
    "c = 3*10**8; #Speed of light in m/s\n",
    "#calculations\n",
    "E1 =  12422./lambda1; # Energy in A\n",
    "p1 = (E1*1.6*10**-19)/c ; #Momentum in kg m/s\n",
    "#UV\n",
    "lambda2 = 100;#Wavelength in A\n",
    "c = 3*10**8; #Speed of light in m/s\n",
    "E2 =  12422./lambda2; # Energy in A\n",
    "p2 = (E2*1.6*10**-19)/c ; #Momentum in kg m/s\n",
    "#IR\n",
    "lambda3 = 1*10**-4;#Wavelength in m\n",
    "c = 3*10**8; #Speed of light in m/s\n",
    "#lambda3 = 1*10**-4*10**10 A , 1 m = 1*10**10 A\n",
    "E3 =  12422./(lambda3*10**10); # Energy in A\n",
    "p3 = (E3*1.6*10**-19)/c ; #Momentum in kg m/s\n",
    "#Microwave\n",
    "lambda4 = 1;#Wavelength in m\n",
    "c = 3*10**8; #Speed of light in m/s\n",
    "#lambda4 = 1*10**10 A , 1 m = 1*10**10 A\n",
    "E4 =  12422./(lambda4*10**10); # Energy in A\n",
    "p4 = (E4*1.6*10**-19)/c ; #Momentum in kg m/s\n",
    "#Radio waves\n",
    "lambda5 = 100;#Wavelength in m\n",
    "c = 3*10**8; #Speed of light in m/s\n",
    "#lambda5 = 100*10**10 A , 1 m = 1*10**10 A\n",
    "E5 =  12422./(lambda5*10**10); # Energy in A\n",
    "p5 = (E5*1.6*10**-19)/c ; #Momentum in kg m/s\n",
    "#results\n",
    "print\"Gamma-rays,X-rays : \\n  Energy :\",E1*10**-6,\" x 10**6 eV \\n Momentum :\",round(p1*10**22,1),\" x 10**-22 kg m/s\"\n",
    "print\" UV : \\n  Energy :\",E2,\"eV \\n Momentum :\",round(p2*10**26,1),\"x 10**-26 kg m/s\"\n",
    "print\" IR : \\n  Energy :\",E3,\"eV \\n Momentum :\",round(p3*10**30,1),\"x 10**-30 kg m/s\"\n",
    "print\" Microwave : \\n  Energy :\",E4*10**6,\"x 10**-6 eV \\n Momentum :\",round(p4*10**34,1),\"x 10**-34 kg m/s\"\n",
    "print\" Radio waves : \\n  Energy :\",E5*10**8,\"x 10**-8 eV \\n Momentum :\",round(p5*10**36,1),\"x 10**-36 kg m/s\""
   ]
  },
  {
   "cell_type": "markdown",
   "metadata": {},
   "source": [
    "## Example 9 - pg 183"
   ]
  },
  {
   "cell_type": "code",
   "execution_count": 12,
   "metadata": {
    "collapsed": false
   },
   "outputs": [
    {
     "name": "stdout",
     "output_type": "stream",
     "text": [
      "lambd(A) = 12.27 /sqrt(V) \n"
     ]
    }
   ],
   "source": [
    "#pg 183\n",
    "#calculate the wavelength\n",
    "#Given :\n",
    "import math\n",
    "h = 6.625*10**-34; #planck's constant in Js\n",
    "m = 9.109*10**-31;# electron mass in kg\n",
    "e = 1.6*10**-19; # charge of an electron in C\n",
    "#calculations\n",
    "#lambd = h/sqrt(2*m*eV)   here we dont have V , so let us caluclate the remaining part.\n",
    "lambd = h/math.sqrt(2*m*e);# wavelength in A\n",
    "# 1 A = 1.0*10**-10 m\n",
    "#results\n",
    "print\"lambd(A) =\",round(lambd/(1.0*10**-10),2),\"/sqrt(V) \"\n"
   ]
  },
  {
   "cell_type": "markdown",
   "metadata": {},
   "source": [
    "## Example 10 - pg 185"
   ]
  },
  {
   "cell_type": "code",
   "execution_count": 13,
   "metadata": {
    "collapsed": false
   },
   "outputs": [
    {
     "name": "stdout",
     "output_type": "stream",
     "text": [
      "De Broglie wavelength \n",
      " (a)Rock : 3.31  x 10**-34 m \n",
      " (b)For an electron (A) =  1.74\n"
     ]
    }
   ],
   "source": [
    "#pg 185\n",
    "#calculate the de Broglie wavelength for Rock and electron\n",
    "#Given :\n",
    "import math\n",
    "#(a)Rock\n",
    "h = 6.625*10**-34; #planck's constant in Js\n",
    "m = 50.; # mass in g\n",
    "v = 40.; # Speed in m/s\n",
    "# m = 50*10**-3 kg , 1g = 1.0*10**-3 kg\n",
    "#calculations\n",
    "lambd1 = h/(m*10**-3*v); # Wavelength in m\n",
    "#(b)For an electron\n",
    "V = 50.; # in volts\n",
    "lambd2 = 12.28/math.sqrt(V); # Wavelength in A\n",
    "#results\n",
    "print\"De Broglie wavelength \\n (a)Rock :\",round(lambd1*10**34,2),\" x 10**-34 m \\n (b)For an electron (A) = \",round(lambd2,2)\n"
   ]
  },
  {
   "cell_type": "markdown",
   "metadata": {},
   "source": [
    "## Example 14 - pg 193"
   ]
  },
  {
   "cell_type": "code",
   "execution_count": 14,
   "metadata": {
    "collapsed": false
   },
   "outputs": [
    {
     "name": "stdout",
     "output_type": "stream",
     "text": [
      "Uncertainty in  position for a ball : 2.45 x 10^-32 m\n",
      "Uncertainty in  position for an electron (A) =  243.0\n"
     ]
    }
   ],
   "source": [
    "#pg 193\n",
    "#calculate the uncertainty in position for ball and electron\n",
    "#Given:\n",
    "#(a) Ball\n",
    "h = 6.625*10**-34; #planck's constant in Js\n",
    "m1 = 45; #mass in g\n",
    "v1 = 40; #Speed in m/s\n",
    "prec1 = 1.5/100 ;#precision\n",
    "# m1 = 45*10**-3 kg , 1 g = 1.0*10**-3 kg\n",
    "#calculations and results\n",
    "p1 =m1*10**-3*v1 ; # momentum in kg m/s\n",
    "#(deltap/p)*100 = 1.5\n",
    "deltap1 = prec1*p1 ;\n",
    "deltax1 = h/deltap1; # uncertainty in position in m\n",
    "print\"Uncertainty in  position for a ball :\",round(deltax1*10**32,2),\"x 10^-32 m\"\n",
    "#(b) Electron\n",
    "m2 = 9.1*10**-31; #electron mass in kg\n",
    "v2 = 2*10**6 ; # Speed in m/s\n",
    "prec2 = 1.5/100 ; # precision\n",
    "p2 = m2*v2; # momentum in kg m/s\n",
    "#(deltap/p)*100 = 1.5\n",
    "deltap2 = prec2*p2 ;\n",
    "deltax2 = h/deltap2; # uncertainty in position in m\n",
    "# 1 A  = 1.0*10**-10 m\n",
    "print\"Uncertainty in  position for an electron (A) = \",round(deltax2/(1.0*10**-10),0)\n"
   ]
  },
  {
   "cell_type": "markdown",
   "metadata": {},
   "source": [
    "## Example 17 - pg 203"
   ]
  },
  {
   "cell_type": "code",
   "execution_count": 15,
   "metadata": {
    "collapsed": false
   },
   "outputs": [
    {
     "name": "stdout",
     "output_type": "stream",
     "text": [
      "(a)Marble \n",
      "E_ 1 :  5.5 x 10**-64 J\n",
      "E_ 2 :  21.9 x 10**-64 J\n",
      "E_ 3 :  49.4 x 10**-64 J\n",
      "(b)For an electron \n",
      "E_ 1 : 37.6  eV\n",
      "E_ 2 : 150.5  eV\n",
      "E_ 3 : 338.7  eV\n"
     ]
    }
   ],
   "source": [
    "#pg 203\n",
    "#calculate the first 3 Energy levels of marble and electron\n",
    "#Given:\n",
    "#(a) Marble\n",
    "h = 6.625*10**-34; #planck's constant in Js\n",
    "m1 = 10.; # mass in g\n",
    "L1 = 10.; # width in cm\n",
    "# m1 = 10*10**-3 kg , 1 g = 1.0*10**-3 kg  and L1 = 10*10**-2 m , 1 cm = 1.0*10**-2 m\n",
    "#calculations and results\n",
    "print\"(a)Marble \"\n",
    "for n1 in range (1,4):\n",
    "    En1 = (n1**2*h**2)/(8*m1*10**-3*(L1*10**-2)**2); # Energry  in J\n",
    "    print\"E_\",n1,\": \",round(En1*10**64,1),\"x 10**-64 J\"\n",
    "\n",
    "#(b) For an electron\n",
    "m2 = 9.1*10**-31; #electron mass in kg\n",
    "L2 = 1 ; # width in A\n",
    "#L2 = 1*10**-10 m , 1 A = 1.0*10**-10 m\n",
    "print\"(b)For an electron \"\n",
    "for n2 in range(1,4):\n",
    "    En2 = (n2**2*h**2)/(8*m2*(L2*10**-10)**2); # Energry  in J\n",
    "    print\"E_\",n2,\":\",round(En2*6.24150934*10**18,1),\" eV\" # 1J = 6.24150934*10**18  eV\n"
   ]
  }
 ],
 "metadata": {
  "kernelspec": {
   "display_name": "Python 2",
   "language": "python",
   "name": "python2"
  },
  "language_info": {
   "codemirror_mode": {
    "name": "ipython",
    "version": 2
   },
   "file_extension": ".py",
   "mimetype": "text/x-python",
   "name": "python",
   "nbconvert_exporter": "python",
   "pygments_lexer": "ipython2",
   "version": "2.7.9"
  }
 },
 "nbformat": 4,
 "nbformat_minor": 0
}
