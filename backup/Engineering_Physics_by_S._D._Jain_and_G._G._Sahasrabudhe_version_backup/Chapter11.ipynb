{
 "cells": [
  {
   "cell_type": "markdown",
   "metadata": {},
   "source": [
    "# Chapter 11 - Conductors, Semiconductors and Superconductors"
   ]
  },
  {
   "cell_type": "markdown",
   "metadata": {},
   "source": [
    "## Example 3 - pg 357"
   ]
  },
  {
   "cell_type": "code",
   "execution_count": 1,
   "metadata": {
    "collapsed": false
   },
   "outputs": [
    {
     "name": "stdout",
     "output_type": "stream",
     "text": [
      "Fermi energy (eV) =   7.06\n"
     ]
    }
   ],
   "source": [
    "#pg 357\n",
    "#calculate the Fermi energy\n",
    "#Given :\n",
    "n =8.48*10**28; # number of conduction electrons / m**3\n",
    "#calculations\n",
    "Ef = 3.65*10**-19*(n**0.6667);#Fermi energy in eV\n",
    "#results\n",
    "print \"Fermi energy (eV) =  \",round(Ef,2)\n"
   ]
  },
  {
   "cell_type": "markdown",
   "metadata": {},
   "source": [
    "## Example 4 - pg 358"
   ]
  },
  {
   "cell_type": "code",
   "execution_count": 2,
   "metadata": {
    "collapsed": false
   },
   "outputs": [
    {
     "name": "stdout",
     "output_type": "stream",
     "text": [
      "Fraction of electrons which are excited are 0.0055 or 0.55 percentage.\n"
     ]
    }
   ],
   "source": [
    "#pg 358\n",
    "#calculate the Fraction of electrons which are excited\n",
    "#Given :\n",
    "Ef = 7.04 ; # Ef for copper in eV\n",
    "kT = 0.026; # kT value at room temperature in eV\n",
    "F = (3/2.)*(0.026/7.04); # Fraction of electrons \n",
    "#results\n",
    "print \"Fraction of electrons which are excited are\",round(F,4),\"or\",round(F*100,2),\"percentage.\"\n"
   ]
  },
  {
   "cell_type": "markdown",
   "metadata": {},
   "source": [
    "## Example 6 - pg 370"
   ]
  },
  {
   "cell_type": "code",
   "execution_count": 3,
   "metadata": {
    "collapsed": false
   },
   "outputs": [
    {
     "name": "stdout",
     "output_type": "stream",
     "text": [
      "Resistivity of Ge (ohm m) =   0.446\n",
      "Resistivity of Si 2.315 x 10^3 ohm m\n"
     ]
    }
   ],
   "source": [
    "#pg 370\n",
    "#calculate the resistivity of Ge, Si\n",
    "#Given :\n",
    "ni1 = 2.5*10**19; # per m**3 for Ge\n",
    "ni2 = 1.5*10**16; # per m**3 for Si\n",
    "mu_e1 = 0.38; # mobility of free electrons for Ge in m**2/Vs\n",
    "mu_h1 = 0.18; #mobility of holes for Ge in m**2/Vs\n",
    "mu_e2 = 0.13;#mobility of free electrons for Si in m**2/Vs\n",
    "mu_h2 = 0.05;#mobility of holes for Si in m**2/Vs\n",
    "e = 1.6*10**-19; # charge of an electron in C\n",
    "#calculations\n",
    "sigma1 = ni1*e*(mu_e1 + mu_h1); # intrinsic conductivity in mho m**-1 for Ge\n",
    "sigma2 = ni2*e*(mu_e2 + mu_h2);# intrinsic conductivity in mho m**-1 for Si\n",
    "rho1 = 1/sigma1; #intrinsic resistivity in ohm m for Ge\n",
    "rho2 = 1/sigma2;#intrinsic resistivity in ohm m for Si\n",
    "#results\n",
    "print \"Resistivity of Ge (ohm m) =  \",round(rho1,3)\n",
    "print \"Resistivity of Si\",round(rho2*10**-3,3),\"x 10^3 ohm m\""
   ]
  },
  {
   "cell_type": "markdown",
   "metadata": {},
   "source": [
    "## Example 7 - pg 370"
   ]
  },
  {
   "cell_type": "code",
   "execution_count": 5,
   "metadata": {
    "collapsed": false
   },
   "outputs": [
    {
     "name": "stdout",
     "output_type": "stream",
     "text": [
      " For 30 K , n/N  = 7.36  x 10^-61\n",
      " For 300 K , n/N  = 9.7  x 10^-7\n",
      " For 1210 K , n/N  =  0.0323\n"
     ]
    }
   ],
   "source": [
    "#pg 370\n",
    "#calculate the vaue of F1, F2, F3\n",
    "#Given :\n",
    "#Fraction F = n/N\n",
    "import math\n",
    "from math import exp\n",
    "Eg = 0.72; # Energy gap in eV\n",
    "k = 0.026/300;# kT value at 300 K , so k = kT/T\n",
    "T1 = 30.; # Temperature in K\n",
    "T2 = 300.; #Temperature in K\n",
    "T3 = 1210.;#Temperature in K\n",
    "#Fraction of electrons : n/N = exp(-Eg/2*k*T)\n",
    "#calculations\n",
    "F1 = exp(-Eg/(2*k*T1));\n",
    "F2 = exp(-Eg/(2*k*T2));\n",
    "F3 = exp(-Eg/(2*k*T3));\n",
    "#results\n",
    "print \" For 30 K , n/N  =\",round(F1*10**61,2),\" x 10^-61\"\n",
    "print \" For 300 K , n/N  =\",round(F2*10**7,1),\" x 10^-7\"\n",
    "print \" For 1210 K , n/N  = \",round(F3,4)\n"
   ]
  },
  {
   "cell_type": "markdown",
   "metadata": {},
   "source": [
    "## Example 8 - pg 371"
   ]
  },
  {
   "cell_type": "code",
   "execution_count": 6,
   "metadata": {
    "collapsed": false
   },
   "outputs": [
    {
     "name": "stdout",
     "output_type": "stream",
     "text": [
      "For Germanium , n/N = 9.7 x 10**-7\n",
      "For Silicon , n/N = 6.5 x 10**-10\n",
      "For diamond, n/N = 1.7 x 10**-47\n"
     ]
    }
   ],
   "source": [
    "#pg 371\n",
    "#calculate the n/N ratio for Germanium, Silicon and diamond\n",
    "#Given :\n",
    "import math\n",
    "from math import exp\n",
    "Eg1= 0.72; #Energy gap for Germanium in eV\n",
    "Eg2= 1.10; #Energy gap for Silicon in eV\n",
    "Eg3= 5.6; #Energy gap for diamond in eV\n",
    "#Fraction of electron : n/N = exp(-Eg/(2*k*T)) , k*T = 0.026 eV\n",
    "#calculations\n",
    "F1 = exp(-Eg1/(2*0.026)); # For Germanium\n",
    "F2 = exp(-Eg2/(2*0.026)); # For Silicon\n",
    "F3 = exp(-Eg3/(2*0.026)); # For diamond\n",
    "#results\n",
    "print \"For Germanium , n/N =\",round(F1*10**7,1),\"x 10**-7\"\n",
    "print \"For Silicon , n/N =\",round(F2*10**10,1),\"x 10**-10\"\n",
    "print \"For diamond, n/N =\",round(F3*10**47,1),\"x 10**-47\"\n"
   ]
  },
  {
   "cell_type": "markdown",
   "metadata": {},
   "source": [
    "## Example 9 - pg 371"
   ]
  },
  {
   "cell_type": "code",
   "execution_count": 7,
   "metadata": {
    "collapsed": false
   },
   "outputs": [
    {
     "name": "stdout",
     "output_type": "stream",
     "text": [
      "Temperature (K) =  0.14\n"
     ]
    }
   ],
   "source": [
    "#pg 371\n",
    "#calculate the Temperature\n",
    "#Given :\n",
    "D = 5*10**28; # density of atoms in silicon per m**3\n",
    "C = 2.0*10**8; #donor concentration\n",
    "#calculations\n",
    "ND = D/C; # donor atoms density per m**3\n",
    "# ND = 4.82*10**21*T**(3/2)\n",
    "T = (ND/(4.82*10**21))**(2./3.);\n",
    "#results\n",
    "print \"Temperature (K) = \",round(T,2)\n"
   ]
  },
  {
   "cell_type": "markdown",
   "metadata": {},
   "source": [
    "## Example 10 - pg 372"
   ]
  },
  {
   "cell_type": "code",
   "execution_count": 9,
   "metadata": {
    "collapsed": false
   },
   "outputs": [
    {
     "name": "stdout",
     "output_type": "stream",
     "text": [
      "Nd = 2.8 x 10^24 / m^3\n",
      "Nd_plus = 1.13 x 10^24 / m^3\n",
      "n = 1.13 x 10^24 / m^3\n",
      "p = 9.6 x 10^6 / m^3\n"
     ]
    }
   ],
   "source": [
    "#pg 372\n",
    "#calculate the Nd and n,p\n",
    "#Given :\n",
    "import math\n",
    "from math import exp\n",
    "Ecd = 0.045; # Ec-Ed in eV\n",
    "Ecf = 0.035; # Ec-Ef in eV\n",
    "Efd = 0.01;# Ef-Ed in eV\n",
    "Ev = 0; # in eV\n",
    "Ef = 1.065; # in eV\n",
    "me = 9.1*10**-31;# electron mass in kg\n",
    "m_e = 0.31*me; # free electron mass\n",
    "m_h = 0.38*me;# hole mass\n",
    "kT = 0.026; # kT value at room temperature\n",
    "h = 6.625*10**-34; # planck's constant in Js\n",
    "#calculations\n",
    "Nc = 2*((2*math.pi*m_e*kT*1.6*10**-19)/(h**2))**(3/2.); # per m**3\n",
    "Nv = 2*((2*math.pi*m_h*kT*1.6*10**-19)/(h**2))**(3/2.); # per m**3\n",
    "#(a)\n",
    "# Nc*exp[-(Ec-Ef)/kT] = Nd*[1 - 1/(1+ exp[(Ed-Ef)/kT])]\n",
    "#Ed - Ef = -(Ef-Ed) = - Efd\n",
    "Nd = (Nc*exp(-Ecf/kT))/(1 - (1/(1+exp(-Efd/kT)))); # per m**3\n",
    "#(b)\n",
    "Nd_plus = Nd*(1 - (1/(1 + exp(-Efd/kT)))); # per m**3\n",
    "#(c)\n",
    "n = Nc*exp(-Ecf/kT); # per m**3\n",
    "#(d)\n",
    "p = Nv*exp((Ev-Ef)/kT);# per m**3\n",
    "#results\n",
    "print \"Nd =\",round(Nd*10**-24,1),\"x 10^24 / m^3\"\n",
    "print \"Nd_plus =\",round(Nd_plus*10**-24,2),\"x 10^24 / m^3\"\n",
    "print \"n =\",round(n*10**-24,2),\"x 10^24 / m^3\"\n",
    "print \"p =\",round(p*10**-6,1),\"x 10^6 / m^3\"\n"
   ]
  },
  {
   "cell_type": "markdown",
   "metadata": {},
   "source": [
    "## Example 11 - pg 374"
   ]
  },
  {
   "cell_type": "code",
   "execution_count": 14,
   "metadata": {
    "collapsed": false
   },
   "outputs": [
    {
     "name": "stdout",
     "output_type": "stream",
     "text": [
      "Major carrier concentration  = 1.0 x 10^21 electrons/m^3\n",
      "Minor carrier concentration  = 2.25 x 10^11 holes/m^3\n",
      "Resistivity (ohm m) =  0.046\n"
     ]
    }
   ],
   "source": [
    "#pg 374\n",
    "#calculate the Major and Minor carrier concentration, resistivity\n",
    "#Given :\n",
    "ni = 1.5*10**16; # ni for Si in m**-3\n",
    "mue = 0.135; # mobility of free electrons in m**2/Vs\n",
    "muh = 0.048; # mobility of holes in m**2/Vs\n",
    "Nd = 10**21; # phosphorus atoms/m**3\n",
    "e = 1.6*10**-19;# charge of an electron in C\n",
    "#calculations\n",
    "#(a) \n",
    "n = Nd; # electrons/m**3\n",
    "#(b)\n",
    "p = ni**2/Nd; # holes/m**3\n",
    "#(c)\n",
    "sigma = e*(n*mue + p*muh); # conductivity in mho m**-1\n",
    "rho = 1/sigma; # resistivity in ohm m\n",
    "#results\n",
    "print \"Major carrier concentration  =\",n*10**-21,\"x 10^21 electrons/m^3\"\n",
    "print \"Minor carrier concentration  =\",p*10**-11,\"x 10^11 holes/m^3\"\n",
    "print \"Resistivity (ohm m) = \",round(rho,3)\n"
   ]
  },
  {
   "cell_type": "markdown",
   "metadata": {},
   "source": [
    "## Example 12 - pg 375"
   ]
  },
  {
   "cell_type": "code",
   "execution_count": 15,
   "metadata": {
    "collapsed": false
   },
   "outputs": [
    {
     "name": "stdout",
     "output_type": "stream",
     "text": [
      "Thus, sigma_473 is 2390.0 times  sigma_300\n"
     ]
    }
   ],
   "source": [
    "#pg 375\n",
    "#Compare the electrical conductivity of silicon 473 and silicon 300 K\n",
    "import math\n",
    "#Given :\n",
    "Eg = 1.1;# Energy gap in eV\n",
    "T1 = 300. ;# Temperature in K\n",
    "T2 = 473.; # Temperature in K (273+ 200 = 473 K)\n",
    "k = 8.62*10**-5 ; # in eV\n",
    "#calculations\n",
    "# sigma = A*exp(-Eg/(2*k*T))\n",
    "#Ratio = sigma_473/sigma_300\n",
    "Ratio = math.exp((-Eg/(2*k))*((1/T2)-(1/T1)));\n",
    "#results\n",
    "print \"Thus, sigma_473 is\",round(Ratio,0),\"times  sigma_300\"\n"
   ]
  },
  {
   "cell_type": "markdown",
   "metadata": {},
   "source": [
    "## Example 13 - pg 387"
   ]
  },
  {
   "cell_type": "code",
   "execution_count": 12,
   "metadata": {
    "collapsed": false
   },
   "outputs": [
    {
     "name": "stdout",
     "output_type": "stream",
     "text": [
      "Wavelength for Ge (A) =  17252.8\n",
      "Wavelength for Si (A) =  11292.7\n",
      "Wavelength for GaAs (A) =  9410.61\n"
     ]
    }
   ],
   "source": [
    "#pg 387\n",
    "#calculate the wavelength of Ge, Si and GaAs\n",
    "#Given :\n",
    "Eg1 = 0.72; # Energy gap for Ge in eV\n",
    "Eg2 = 1.1; # Energy gap for Si in eV\n",
    "Eg3 = 1.32; # Energy gap for GaAs in eV\n",
    "# lambda = c/v = (c*h)/Eg   or lambda(A) = 12422/Eg (eV)\n",
    "#calculations\n",
    "lambda1 = 12422/Eg1; # wavelength in A  (Ge)\n",
    "lambda2 = 12422/Eg2; # wavelength in A  (Si)\n",
    "lambda3 = 12422/Eg3; # wavelength in A  (GaAs)\n",
    "#results\n",
    "print \"Wavelength for Ge (A) = \",round(lambda1,1)\n",
    "print \"Wavelength for Si (A) = \",round(lambda2,1)\n",
    "print \"Wavelength for GaAs (A) = \",round(lambda3,2)\n"
   ]
  },
  {
   "cell_type": "markdown",
   "metadata": {},
   "source": [
    "## Example 14 - pg 388"
   ]
  },
  {
   "cell_type": "code",
   "execution_count": 13,
   "metadata": {
    "collapsed": false
   },
   "outputs": [
    {
     "name": "stdout",
     "output_type": "stream",
     "text": [
      "Conductivity increased 26968.0 times\n",
      "Result obtained differs from that in textbook, because approximate value for sigma1 was considered.\n"
     ]
    }
   ],
   "source": [
    "#pg 388\n",
    "#calculate the times conductivity increased\n",
    "#Given :\n",
    "sigma = 4*10**-4; # conductivity at room temperature in ohm**-1 m**-1\n",
    "M = 28.1; # atomic weight in kg/kmole\n",
    "d = 2330; # density in kg/m**3\n",
    "dop = 10**8 ;# doping per 10**8 silicon atoms\n",
    "e = 1.6*10**-19; # charge of an electron in C\n",
    "mue = 0.135; # mobility of free electrons for silicon in m**2/Vs\n",
    "Na = 6.023*10**26 ; # Avagadro's constant in atoms/kmole\n",
    "#calculations\n",
    "N = (d*Na)/M; #atoms/m**3\n",
    "Nd = N/dop; # per m**3\n",
    "n = Nd; # electron concentration / m**3\n",
    "sigma1 = n*e*mue; # conductivity in ohm**-1 m**-1\n",
    "t = sigma1/sigma; # number of times the conductivity  increased\n",
    "#results\n",
    "print \"Conductivity increased\",round(t,0), \"times\"\n",
    "print 'Result obtained differs from that in textbook, because approximate value for sigma1 was considered.'\n"
   ]
  }
 ],
 "metadata": {
  "kernelspec": {
   "display_name": "Python 2",
   "language": "python",
   "name": "python2"
  },
  "language_info": {
   "codemirror_mode": {
    "name": "ipython",
    "version": 2
   },
   "file_extension": ".py",
   "mimetype": "text/x-python",
   "name": "python",
   "nbconvert_exporter": "python",
   "pygments_lexer": "ipython2",
   "version": "2.7.9"
  }
 },
 "nbformat": 4,
 "nbformat_minor": 0
}
