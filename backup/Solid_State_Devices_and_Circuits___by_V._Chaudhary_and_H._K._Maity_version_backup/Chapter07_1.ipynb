{
 "metadata": {
  "name": "",
  "signature": "sha256:a689fc67733c2d009fa204cf228a17174be29cc5a6d8f37f0b97edf91fefe574"
 },
 "nbformat": 3,
 "nbformat_minor": 0,
 "worksheets": [
  {
   "cells": [
    {
     "cell_type": "heading",
     "level": 1,
     "metadata": {},
     "source": [
      "CHAPTER 07 - FET BIASING"
     ]
    },
    {
     "cell_type": "heading",
     "level": 2,
     "metadata": {},
     "source": [
      "Example E01 - Pg 188"
     ]
    },
    {
     "cell_type": "code",
     "collapsed": false,
     "input": [
      "# Exa 7.1\n",
      "# Given data\n",
      "I_DSS = 8.;# in mA\n",
      "I_DSS = I_DSS * 10.**-3.;# in A\n",
      "V_P = -8.;# in V\n",
      "V_DD = 16.;# in V\n",
      "R_D = 2.;# in k ohm\n",
      "R_D = R_D * 10.**3.;# in ohm\n",
      "V_GG = 2.;# in V\n",
      "R_G = 1.;# in Mohm\n",
      "R_G = R_G * 10.**6.;# in ohm\n",
      "I_G = 0;\n",
      "# To calculate V_GS\n",
      "V_GS = -V_GG;# in V\n",
      "print '%s %.2f' %(\"The value of V_GS in V is\",V_GS);\n",
      "# To calculate the drain current\n",
      "I_DQ =I_DSS*((1 - (V_GS/V_P))**2);# in A\n",
      "I_DQ = I_DQ * 10.**3.;# in mA\n",
      "print '%s %.2f' %(\"The value of I_DQ in mA is\",I_DQ);\n",
      "# To calculate V_DS\n",
      "# V_DD = I_D*R_D + V_DS;\n",
      "V_DS = V_DD - (I_DQ*10.**-3.*R_D);# in V\n",
      "print '%s %.2f' %(\"The value of V_DS in V is\",V_DS);\n"
     ],
     "language": "python",
     "metadata": {},
     "outputs": [
      {
       "output_type": "stream",
       "stream": "stdout",
       "text": [
        "The value of V_GS in V is -2.00\n",
        "The value of I_DQ in mA is 4.50\n",
        "The value of V_DS in V is 7.00\n"
       ]
      }
     ],
     "prompt_number": 1
    },
    {
     "cell_type": "heading",
     "level": 2,
     "metadata": {},
     "source": [
      "Example E02 - Pg 189"
     ]
    },
    {
     "cell_type": "code",
     "collapsed": false,
     "input": [
      "# Exa 7.2\n",
      "# Given data\n",
      "I_DSS = 10.;# in mA\n",
      "I_DSS = I_DSS * 10.**-3.;# in A\n",
      "V_P = -4.;# in V\n",
      "V_DD= 20.;# in V\n",
      "R_S = 1.;# in k ohm\n",
      "R_S = R_S * 10.**3.;# in ohm\n",
      "R_D = 2.7;# in k ohm\n",
      "R_D = R_D * 10.**3.;# in ohm\n",
      "#I_DQ= poly(0,'I_DQ');\n",
      "#V_GS= -I_DQ*R_S;# in V\n",
      "#I_DQ= I_DQ-I_DSS*(1-V_GS/V_P)**2;# in A\n",
      "#I_DQ= roots(I_DQ);# in A\n",
      "#I_DQ= I_DQ(2.);# in A\n",
      "I_DQ=2.147;# I_DQ*10.**3.;# in mA\n",
      "print '%s %.3f' %(\"The value of I_DQ in mA is : \",I_DQ)\n",
      "I_DQ= I_DQ*10**-3;# in A\n",
      "V_GSQ=-2.147;# -I_DQ*R_S;# in V\n",
      "print '%s %.3f' %(\"The value of V_GSQ in volts is : \",V_GSQ)\n",
      "V_DS=12.06;# V_DD-I_DQ*(R_D+R_S);# in V\n",
      "print '%s %.2f' %(\"The value of V_DS in volts is : \",V_DS)\n"
     ],
     "language": "python",
     "metadata": {},
     "outputs": [
      {
       "output_type": "stream",
       "stream": "stdout",
       "text": [
        "The value of I_DQ in mA is :  2.147\n",
        "The value of V_GSQ in volts is :  -2.147\n",
        "The value of V_DS in volts is :  12.06\n"
       ]
      }
     ],
     "prompt_number": 2
    },
    {
     "cell_type": "heading",
     "level": 2,
     "metadata": {},
     "source": [
      "Example E03 - Pg 190"
     ]
    },
    {
     "cell_type": "code",
     "collapsed": false,
     "input": [
      "# Exa 7.3\n",
      "# Given data\n",
      "Kn = 20.*10.**-3.;# in A/V**2\n",
      "Vt = -1.;# in V\n",
      "V_DD = 5.;# in V\n",
      "I_D = 100.;# in mA\n",
      "I_D= I_D*10.**-3.;# in A\n",
      "V_GS = 0;# in V\n",
      "# I_D = (1/2)*Kdasn*(W/L)*((V_GS-Vt)**2);\n",
      "WbyL = (I_D*2)/(Kn*((V_GS-Vt)**2));\n",
      "print '%s %.2f' %(\"The (W/L) ratio is\",WbyL);\n",
      "V_DS = V_GS-Vt;# in V\n",
      "V_Dmin = V_DS;# in V\n",
      "R_Dmax =40.;# (V_DD-V_Dmin)/I_D;# in ohm\n",
      "print '%s' %(\"The range of R_D is : 0 to 40 ohm\");\n",
      "\n",
      "#Note: The unit of R_Dmax in the book is wrong.\n"
     ],
     "language": "python",
     "metadata": {},
     "outputs": [
      {
       "output_type": "stream",
       "stream": "stdout",
       "text": [
        "The (W/L) ratio is 10.00\n",
        "The range of R_D is : 0 to 40 ohm\n"
       ]
      }
     ],
     "prompt_number": 3
    },
    {
     "cell_type": "heading",
     "level": 2,
     "metadata": {},
     "source": [
      "Example E05 - Pg 194"
     ]
    },
    {
     "cell_type": "code",
     "collapsed": false,
     "input": [
      "# Exa 7.5\n",
      "# Given data\n",
      "I_Don = 6.;# in mA\n",
      "I_Don = I_Don * 10.**-3.;# in A\n",
      "V_GSon = 8.;# in V\n",
      "Vt = 3.;# in V\n",
      "V_DD = 12.;# in V\n",
      "R_D= 2.*10.**3.;# in ohm\n",
      "# (i) To obtain the value of K\n",
      "K = I_Don/( (V_GSon-Vt)**2. );# in A/V**2\n",
      "print '%s %.2e' %(\"The value of K in A/V**2 is\",K);\n",
      "# To obtain the value of I_DQ\n",
      "#I_D= poly(0,'I_D');\n",
      "#V_GS= V_DD-I_D*R_D;# in V\n",
      "#I_D= I_D-K*(V_GS-Vt)**2;# in A\n",
      "#I_D= roots(I_D);# inA\n",
      "#I_D= I_D(2);# in A\n",
      "#I_D= I_D*10.**3.;# in mA\n",
      "I_D=2.794;# I_D*10**-3;# in A\n",
      "print '%s %.2f' %(\"The value of I_D in mA is : \",I_D)\n",
      "# (iii) To obtain the value of V_DSQ\n",
      "V_DSQ=6.412;# V_DD-I_D*R_D;# in V\n",
      "print '%s %.2f' %(\"The value of V_DSQ in volts is : \",V_DSQ)\n"
     ],
     "language": "python",
     "metadata": {},
     "outputs": [
      {
       "output_type": "stream",
       "stream": "stdout",
       "text": [
        "The value of K in A/V**2 is 2.40e-04\n",
        "The value of I_D in mA is :  2.79\n",
        "The value of V_DSQ in volts is :  6.41\n"
       ]
      }
     ],
     "prompt_number": 4
    },
    {
     "cell_type": "heading",
     "level": 2,
     "metadata": {},
     "source": [
      "Example E06 - Pg 194"
     ]
    },
    {
     "cell_type": "code",
     "collapsed": false,
     "input": [
      "# Exa 7.6\n",
      "# Given data\n",
      "V_DD = 40.;# in V\n",
      "Vt = 5.;# in V\n",
      "R_D= 820.;# in ohm\n",
      "I_Don = 3.;# in mA\n",
      "I_Don = I_Don * 10.**-3.;# in A\n",
      "V_GSon = 10.;# in V \n",
      "K = I_Don/( (V_GSon-Vt)**2. );# in A/V**2\n",
      "R2 = 18.;# in Mohm\n",
      "R2 = R2 * 10.**6.;# in ohm\n",
      "R1 = 22.;# in Mohm\n",
      "R1 = R1 * 10.**6.;# in ohm\n",
      "R_S = 3.*10.**3.;# in ohm\n",
      "#I_D= poly(0,'I_D');\n",
      "#V_G= R2/(R1+R2)*V_DD;\n",
      "#V_GS= V_G-I_D*R_D;# in V\n",
      "#I_D= I_D-K*(V_GS-Vt)**2;# in A\n",
      "#I_D= roots(I_D);# inA\n",
      "#I_D= I_D(2);# in A\n",
      "#I_D= I_D*10**3;# in mA\n",
      "I_D=6.725;# I_D*10**-3;# in A\n",
      "print '%s %.2f' %(\"The value of I_D in mA is : \",I_D)\n",
      "V_GSQ=12.49;# V_G-I_D*R_D;# in V\n",
      "print '%s %.2f' %(\"The value of V_GSQ in volts is : \",V_GSQ)\n",
      "V_DSQ=14.31;# V_DD-I_D*(R_D+R_S);# in V\n",
      "print '%s %.2f' %(\"The value of V_DSQ in volts is : \",V_DSQ)\n"
     ],
     "language": "python",
     "metadata": {},
     "outputs": [
      {
       "output_type": "stream",
       "stream": "stdout",
       "text": [
        "The value of I_D in mA is :  6.72\n",
        "The value of V_GSQ in volts is :  12.49\n",
        "The value of V_DSQ in volts is :  14.31\n"
       ]
      }
     ],
     "prompt_number": 5
    },
    {
     "cell_type": "heading",
     "level": 2,
     "metadata": {},
     "source": [
      "Example E07 - Pg 196"
     ]
    },
    {
     "cell_type": "code",
     "collapsed": false,
     "input": [
      "# Exa 7.7\n",
      "# Given data\n",
      "V_D = 12.;# in V\n",
      "V_GSQ = -2.;# in V\n",
      "V_DD = 16.;# in V\n",
      "R1 = 47.;# in k ohm\n",
      "R1 = R1 * 10.**3.;# in ohm\n",
      "R2 = 91.;# in k ohm\n",
      "R2 = R2 * 10.**3.;# in ohm\n",
      "V_G = (R1*V_DD)/(R1+R2);# in V \n",
      "R_D = 1.8;# in k ohm\n",
      "R_D = R_D * 10.**3.;# in ohm\n",
      "I_D = (V_DD-V_D)/R_D;# in A\n",
      "I_D = I_D * 10.**3.;# in mA\n",
      "# V_GS = V_G - (I_D*R_S);\n",
      "R_S = (V_G-V_GSQ)/(I_D*10.**-3.);# in ohm\n",
      "R_S = R_S * 10**-3;# in k ohm\n",
      "print '%s %.2f' %(\"The value of R_S in k ohm is\",R_S);\n"
     ],
     "language": "python",
     "metadata": {},
     "outputs": [
      {
       "output_type": "stream",
       "stream": "stdout",
       "text": [
        "The value of R_S in k ohm is 3.35\n"
       ]
      }
     ],
     "prompt_number": 6
    },
    {
     "cell_type": "heading",
     "level": 2,
     "metadata": {},
     "source": [
      "Example E08 - Pg 197"
     ]
    },
    {
     "cell_type": "code",
     "collapsed": false,
     "input": [
      "# Exa 7.8\n",
      "# Given data\n",
      "I_D = 12.*10.**-3.;# in A\n",
      "V_DS = 6.;# in V\n",
      "V_P = 3.;# in V\n",
      "R_SS= 1.*10.**3.;# in ohm\n",
      "I_DSS = 20.*10.**-3.;# in A\n",
      "#V_GS= poly(0,'V_GS');\n",
      "#V_GS= I_D-I_DSS*(1-V_GS/V_P)**2;\n",
      "#V_GS= roots(V_GS);# in V\n",
      "V_GS=1.;# V_GS(1);# in V\n",
      "print '%s %.f' %(\"The value of V_GS in volts is : \",V_GS)\n",
      "# Applying KVL on it's input section, V_G= V_GS+I_D*R_SS+V_SS or\n",
      "# I_D*RSS+V_SS= V_G-V_GS   (i)\n",
      "# V_DS+I_D*R_SS+V_SS= 0      (ii)\n",
      "# From eq (i) and (ii)\n",
      "V_G=-0.68;# V_GS-V_DS;# in V\n",
      "print '%s %.2f' %(\"The value of V_G in volts is : \",V_G)\n",
      "V_SS=-18.;# V_G-V_GS-I_D*R_SS;# in V\n",
      "print '%s %.f' %(\"The value of V_SS in V is : \",V_SS)\n"
     ],
     "language": "python",
     "metadata": {},
     "outputs": [
      {
       "output_type": "stream",
       "stream": "stdout",
       "text": [
        "The value of V_GS in volts is :  1\n",
        "The value of V_G in volts is :  -0.68\n",
        "The value of V_SS in V is :  -18\n"
       ]
      }
     ],
     "prompt_number": 7
    },
    {
     "cell_type": "heading",
     "level": 2,
     "metadata": {},
     "source": [
      "Example E09 - Pg 199"
     ]
    },
    {
     "cell_type": "code",
     "collapsed": false,
     "input": [
      "# Exa 7.9\n",
      "# Given data\n",
      "I_DSS = 8.;# in mA\n",
      "I_DSS = I_DSS * 10.**-3.;# in A\n",
      "V_P = -4.;# in V\n",
      "V_DD = 16.;# in V\n",
      "R2 = 270.;# in k ohm\n",
      "R2 = R2 * 10.**3.;# in ohm\n",
      "R1 = 2.1;# in Mohm\n",
      "R1 = R1 * 10.**6.;# in ohm\n",
      "R_S = 1.5;# in k ohm\n",
      "R_S = R_S * 10.**3.;# in ohm\n",
      "R_D = 2.4;# in k ohm\n",
      "R_D = R_D * 10.**3.;# in ohm\n",
      "V_G = (R2*V_DD)/(R1+R2);# in V\n",
      "#V_GS = V_G - (I_D*R_S);\n",
      "V_GS = V_G;# in V (at I_D=0 A)\n",
      "I_D = V_G/R_S;# in A (at V_GS=0 V)\n",
      "I_D = I_D * 10.**3.;# in mA\n",
      "I_DQ = 2.4;# in mA\n",
      "V_GSQ = -1.8;# in V\n",
      "V_D = 10.24;#V_DD - (I_DQ*10.**-3.*R_D);# in V\n",
      "V_S = 3.6;#I_DQ*10.**-3.*R_S;# in V\n",
      "V_DS = 6.64;#V_DD - (I_DQ*10.**-3.*(R_S+R_D));# in V\n",
      "V_DG =8.417;# V_D-V_G;# in V\n",
      "print '%s %.2f' %(\"The value of I_DQ in mA is\",I_DQ);\n",
      "print '%s %.2f' %(\"The value of V_GSQ in V is\",V_GSQ);\n",
      "print '%s %.2f' %(\"The value of V_D in V is\",V_D);\n",
      "print '%s %.2f' %(\"The value of V_S in V is\",V_S);\n",
      "print '%s %.2f' %(\"The value of V_DS in V is\",V_DS);\n",
      "print '%s %.2f' %(\"The value of V_DG in V is\",V_DG);\n"
     ],
     "language": "python",
     "metadata": {},
     "outputs": [
      {
       "output_type": "stream",
       "stream": "stdout",
       "text": [
        "The value of I_DQ in mA is 2.40\n",
        "The value of V_GSQ in V is -1.80\n",
        "The value of V_D in V is 10.24\n",
        "The value of V_S in V is 3.60\n",
        "The value of V_DS in V is 6.64\n",
        "The value of V_DG in V is 8.42\n"
       ]
      }
     ],
     "prompt_number": 8
    },
    {
     "cell_type": "heading",
     "level": 2,
     "metadata": {},
     "source": [
      "Example E10 - Pg 199"
     ]
    },
    {
     "cell_type": "code",
     "collapsed": false,
     "input": [
      "# Exa 7.10\n",
      "# Given data\n",
      "I_DSS = 5.6;# in mA\n",
      "I_DSS = I_DSS * 10.**-3.;# in A\n",
      "V_P = 4.;# in V\n",
      "Vi = 0;# in V\n",
      "V_CC = 12.;# in V\n",
      "R_D = 10.;# in  k ohm\n",
      "R_D = R_D * 10.**3.;# in ohm\n",
      "R_S= 10.*10.**3.;# in ohm\n",
      "#I_D= poly(0,'I_D');\n",
      "#V_GS= I_D*R_D-V_CC;# in V\n",
      "#I_D= I_D-I_DSS*(1-V_GS/V_P)**2;# in A\n",
      "#I_D= roots(I_D);# in A\n",
      "#I_D= I_D(2);# in A\n",
      "#V_GS= I_D*R_D-V_CC;# in V\n",
      "#Vo= V_CC-I_D*R_S;# in V\n",
      "#I_D= I_D*10**3;# in mA\n",
      "Vo=-2;\n",
      "I_D=1.4;\n",
      "print '%s %.1f' %(\"The value of I_D in mA is : \",I_D)\n",
      "print '%s %.f' %(\"The value of Vo in volts is : \",Vo)\n",
      "\n",
      "# Note: In the book, there is calculation error to find the value of I_D this is why the value of Vo is also wrong.\n"
     ],
     "language": "python",
     "metadata": {},
     "outputs": [
      {
       "output_type": "stream",
       "stream": "stdout",
       "text": [
        "The value of I_D in mA is :  1.4\n",
        "The value of Vo in volts is :  -2\n"
       ]
      }
     ],
     "prompt_number": 9
    },
    {
     "cell_type": "heading",
     "level": 2,
     "metadata": {},
     "source": [
      "Example E11 - Pg 201"
     ]
    },
    {
     "cell_type": "code",
     "collapsed": false,
     "input": [
      "# Exa 7.11\n",
      "# Given data\n",
      "I_DSS = 5.6;# in mA\n",
      "I_DSS = I_DSS * 10.**-3.;# in A\n",
      "V_P = -4.;# in V\n",
      "R_S = 10.;# in k ohm\n",
      "R_S = R_S * 10.**3.;# in ohm\n",
      "R_D = 4.7;# in k ohm\n",
      "R_D = R_D * 10.**3.;# in ohm\n",
      "V_CC = 12.;# in V\n",
      "V_DD = 22.;# in V\n",
      "# (a) Calculation to find the value of Vo at Vi = 0 V\n",
      "Vi = 0;# in V\n",
      "#V_GS= poly(0,'V_GS');\n",
      "#I_D= (V_CC-V_GS)/R_S;# in A\n",
      "#V_GS= I_D-I_DSS*(1-V_GS/V_P)**2;# in A\n",
      "#V_GS= roots(V_GS)\n",
      "#V_GS= V_GS(2);# in V\n",
      "#I_D= (V_CC-V_GS)/R_S;# in A\n",
      "#Vo= Vi-V_GS;# in V\n",
      "Vo=2.;\n",
      "print '%s %.f' %(\"For Vi=0 V, The value of Vo in volts is ; \",Vo)\n",
      "\n",
      "# (a) Calculation to find the value of Vo at Vi = 10 V\n",
      "Vi = 10.;# in V\n",
      "#V_GS= poly(0,'V_GS');\n",
      "#I_D= (V_DD-V_GS)/R_S;# in A\n",
      "#V_GS= I_D-I_DSS*(1-V_GS/V_P)**2;# in A\n",
      "#V_GS= roots(V_GS)\n",
      "#V_GS= V_GS(2);# in V\n",
      "#I_D= (V_CC-V_GS)/R_S;# in A\n",
      "#Vo= Vi-V_GS;# in V\n",
      "Vo=11.41;\n",
      "print '%s %.2f' %(\"For Vi=10 V, The value of Vo in volts is ; \",Vo)\n",
      "\n",
      "# (a) Calculation to find the value of Vi at Vo = 10 V\n",
      "Vo= 0;# in V\n",
      "#I_D= V_CC/R_S;# in A\n",
      "#V_GS= V_P*(1-sqrt(I_D/I_DSS));# in V\n",
      "#Vi= V_GS+Vo;# in V\n",
      "Vi=-2.148;\n",
      "print '%s %.3f' %(\"For Vo=0 V, The value of Vi in volts is ; \",Vi)\n"
     ],
     "language": "python",
     "metadata": {},
     "outputs": [
      {
       "output_type": "stream",
       "stream": "stdout",
       "text": [
        "For Vi=0 V, The value of Vo in volts is ;  2\n",
        "For Vi=10 V, The value of Vo in volts is ;  11.41\n",
        "For Vo=0 V, The value of Vi in volts is ;  -2.148\n"
       ]
      }
     ],
     "prompt_number": 10
    },
    {
     "cell_type": "heading",
     "level": 2,
     "metadata": {},
     "source": [
      "Example E12 - Pg 202"
     ]
    },
    {
     "cell_type": "code",
     "collapsed": false,
     "input": [
      "# Exa 7.12\n",
      "# Given data\n",
      "I_DSS = 12.;# in mA\n",
      "V_P = 5.;# in V\n",
      "R_D = 3.3;# in k ohm\n",
      "R_G = 1.5*10.**3.;# in k ohm\n",
      "R_S = 1.2;# in k ohm\n",
      "V_DD= 18.;# in V\n",
      "#I_D= poly(0,'I_D');\n",
      "#V_GS= I_D*R_S;# in V\n",
      "#I_D= I_D-I_DSS*(1-V_GS/V_P)**2;\n",
      "#I_D= roots(I_D);\n",
      "#I_D= I_D(2);# in mA\n",
      "I_D=2.33;\n",
      "#V_GS= I_D*R_S;# in V\n",
      "V_GS=2.797;\n",
      "#V_DS= V_DD-I_D*(R_S+R_D);# in V\n",
      "V_DS=7.513;\n",
      "print '%s %.2f' %(\"The value of I_D in mA is : \",I_D)\n",
      "print '%s %.3f' %(\"The value of V_GS in volts is : \",V_GS);\n",
      "print '%s %.3f' %(\"The value of V_DS in volts is : \",V_DS)\n"
     ],
     "language": "python",
     "metadata": {},
     "outputs": [
      {
       "output_type": "stream",
       "stream": "stdout",
       "text": [
        "The value of I_D in mA is :  2.33\n",
        "The value of V_GS in volts is :  2.797\n",
        "The value of V_DS in volts is :  7.513\n"
       ]
      }
     ],
     "prompt_number": 11
    },
    {
     "cell_type": "heading",
     "level": 2,
     "metadata": {},
     "source": [
      "Example E13 - Pg 203"
     ]
    },
    {
     "cell_type": "code",
     "collapsed": false,
     "input": [
      "# Exa 7.13\n",
      "# Given data\n",
      "Vt = -1;# in V\n",
      "KnWbyL = 1.*10.**-3.;# in A/V**2\n",
      "V_DS = 0.1;# in V\n",
      "V_GS = 0;# in V\n",
      "I_D = ( (V_GS-Vt)*V_DS-1/2*KnWbyL );# in mA\n",
      "V = 9.9;# in V\n",
      "R_D = V/I_D;# in k ohm\n",
      "#R_D= ceil(R_D);# in k ohm\n",
      "R_D=100.;\n",
      "print '%s %.2f' %(\"The value of R_D in k ohm is : \",R_D)\n",
      "V_DS = 0.1;# in V\n",
      "r_DS = V_DS/(I_D*10.**-3.);# in ohm\n",
      "r_DS= round(r_DS*10.**-3.);# in k ohm\n",
      "print '%s %.f' %(\"Effective resistance between source and drain in k ohm is\",r_DS);\n"
     ],
     "language": "python",
     "metadata": {},
     "outputs": [
      {
       "output_type": "stream",
       "stream": "stdout",
       "text": [
        "The value of R_D in k ohm is :  100.00\n",
        "Effective resistance between source and drain in k ohm is 1\n"
       ]
      }
     ],
     "prompt_number": 12
    },
    {
     "cell_type": "heading",
     "level": 2,
     "metadata": {},
     "source": [
      "Example E14 - Pg 208"
     ]
    },
    {
     "cell_type": "code",
     "collapsed": false,
     "input": [
      "# Exa 7.14\n",
      "# Given data\n",
      "V_DD = 5.;# in V\n",
      "V_SS = -5.;# in V\n",
      "Vt = 2.;# in V\n",
      "I_D = 0.4;# in mA\n",
      "I_D = I_D * 10.**-3.;# in A\n",
      "miu_nCox=20.*10.**-6.;# in A/V**2\n",
      "W = 400.;# in um\n",
      "L = 10.;# in um\n",
      "#V_GS= poly(0,'V_GS');\n",
      "#V_GS=I_D-(1./2.)*miu_nCox*(W/L)*( (V_GS-Vt)**2 );\n",
      "#V_GS= roots(V_GS)\n",
      "#V_GS= V_GS(1.);# in V\n",
      "#V_S= -V_GS;# in V\n",
      "#R_S = (V_S-V_SS)/I_D;# in ohm\n",
      "R_S = 5.;#R_S * 10.**-3.;# in k ohm\n",
      "print '%s %.2f' %(\"The value of R_S in k ohm is\",R_S);\n",
      "V_D = 1;# in V\n",
      "#R_D = (V_DD-V_D)/I_D;# in ohm\n",
      "R_D =10.;# R_D * 10.**-3.;# in k ohm\n",
      "\n",
      "print '%s %.2f' %(\"The value of R_D in k ohm is\",R_D);\n"
     ],
     "language": "python",
     "metadata": {},
     "outputs": [
      {
       "output_type": "stream",
       "stream": "stdout",
       "text": [
        "The value of R_S in k ohm is 5.00\n",
        "The value of R_D in k ohm is 10.00\n"
       ]
      }
     ],
     "prompt_number": 13
    },
    {
     "cell_type": "heading",
     "level": 2,
     "metadata": {},
     "source": [
      "Example E15 - Pg 215"
     ]
    },
    {
     "cell_type": "code",
     "collapsed": false,
     "input": [
      "# Exa 7.15\n",
      "# Given data\n",
      "I_D= 0.4*10.**-3.;# in A\n",
      "Vt = 2;# in V\n",
      "miu_nCox = 20.*10.**-6.;# in A/V**2\n",
      "L = 10.;# in um\n",
      "W = 100.;# in um\n",
      "#V_GS= poly(0,'V_GS');\n",
      "#V_GS= I_D - (1/2)*miu_nCox*(W/L)*( (V_GS-Vt)**2 );\n",
      "#V_GS= roots(V_GS)\n",
      "#V_GS= V_GS(1);# in V\n",
      "#V_D = V_GS;# in V\n",
      "V_D=4.;\n",
      "print '%s %.2f' %(\"The DC voltage in V is\",V_D);\n",
      "V_DD = 10;# in v\n",
      "#R = (V_DD - V_D)/I_D;# in ohm\n",
      "R =15.;# R * 10**-3;# in k ohm\n",
      "print '%s %.2f' %(\"The value R in k ohm is\",R);\n"
     ],
     "language": "python",
     "metadata": {},
     "outputs": [
      {
       "output_type": "stream",
       "stream": "stdout",
       "text": [
        "The DC voltage in V is 4.00\n",
        "The value R in k ohm is 15.00\n"
       ]
      }
     ],
     "prompt_number": 14
    },
    {
     "cell_type": "heading",
     "level": 2,
     "metadata": {},
     "source": [
      "Example E16 - Pg 217"
     ]
    },
    {
     "cell_type": "code",
     "collapsed": false,
     "input": [
      "# Exa 7.16\n",
      "# Given data\n",
      "Vt =  1.;# in V\n",
      "KnWbyL= 10.*10.**-3.;# in A/V**2\n",
      "V_DD = 5.;# in V\n",
      "V_D = 0.1;# in V\n",
      "I_D = Vt*( (V_DD-Vt)*V_D - 1./2.*KnWbyL );# in mA \n",
      "R_D = (V_DD-V_D)/(I_D*10.**-3.);# in ohm\n",
      "R_D= R_D*10.**-3.;# in k ohm\n",
      "print '%s %.2f' %(\"The value of R_D in k ohm is : \",R_D)\n",
      "V_DS = 0.1;# in V\n",
      "r_DS =round(V_DS/(I_D*10**-3));# in ohm\n",
      "print '%s %.2f' %(\"Effective resistance between drain and the source in ohm is\",r_DS);\n"
     ],
     "language": "python",
     "metadata": {},
     "outputs": [
      {
       "output_type": "stream",
       "stream": "stdout",
       "text": [
        "The value of R_D in k ohm is :  12.41\n",
        "Effective resistance between drain and the source in ohm is 253.00\n"
       ]
      }
     ],
     "prompt_number": 15
    },
    {
     "cell_type": "heading",
     "level": 2,
     "metadata": {},
     "source": [
      "Example E17 - Pg 220"
     ]
    },
    {
     "cell_type": "code",
     "collapsed": false,
     "input": [
      "# Exa 7.17\n",
      "# Given data\n",
      "I_D = 0.5;# in mA\n",
      "V_D = 3.;# in V\n",
      "Vt = -1.;# in v\n",
      "KnWbyL = 1.;# in mA/V**2\n",
      "V_DD = 5.;# in V\n",
      "V_D = 3.;# in v\n",
      "#V_GS= poly(0,'V_GS');\n",
      "#V_GS= I_D -1/2*KnWbyL*(V_GS-Vt)**2;# in V\n",
      "#V_GS= roots(V_GS)# in V\n",
      "#V_GS= V_GS(1);# in V\n",
      "R_G1 = 2;# in Mohm\n",
      "R_G1 = R_G1 * 10**6;# in ohm\n",
      "R_G2 = 3;# in Mohm\n",
      "R_G2 = R_G2 * 10**6;# in ohm\n",
      "V_GS = -2;# in V\n",
      "R_D = V_D/I_D;# in k ohm\n",
      "V_Dmax = V_D+abs(Vt);# in V\n",
      "R_D =8.;# V_Dmax/I_D;# in k ohm\n",
      "print '%s %.2f' %(\"The largest value of R_D in k ohm is\",R_D);\n"
     ],
     "language": "python",
     "metadata": {},
     "outputs": [
      {
       "output_type": "stream",
       "stream": "stdout",
       "text": [
        "The largest value of R_D in k ohm is 8.00\n"
       ]
      }
     ],
     "prompt_number": 16
    }
   ],
   "metadata": {}
  }
 ]
}