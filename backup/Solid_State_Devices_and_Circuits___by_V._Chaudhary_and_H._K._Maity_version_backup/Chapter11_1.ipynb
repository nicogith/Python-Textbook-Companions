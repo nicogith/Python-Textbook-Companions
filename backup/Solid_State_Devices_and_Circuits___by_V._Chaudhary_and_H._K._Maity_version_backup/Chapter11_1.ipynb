{
 "metadata": {
  "name": "",
  "signature": "sha256:b5a5ef242fe360ff74629e2f732d34b780c92a5fcbe734bf4a3133327c615679"
 },
 "nbformat": 3,
 "nbformat_minor": 0,
 "worksheets": [
  {
   "cells": [
    {
     "cell_type": "heading",
     "level": 1,
     "metadata": {},
     "source": [
      "CHAPTER 11 - OSCILLATORS"
     ]
    },
    {
     "cell_type": "heading",
     "level": 2,
     "metadata": {},
     "source": [
      "Example E01 - Pg 282"
     ]
    },
    {
     "cell_type": "code",
     "collapsed": false,
     "input": [
      "#  Exa 11.1\n",
      "#  Given data\n",
      "import math \n",
      "#w=poly(0,'w');\n",
      "#  For sustained oscillation,\n",
      "#w= 4.*w*10.**6.-w**3.;\n",
      "#w= roots(w);\n",
      "#w= w(1);#  in rad/sec\n",
      "f= 318.;#round(w/(2*math.pi));#  in Hz\n",
      "print '%s %.2f' %(\"The frequency of oscillation in Hz is : \",f)\n",
      "print '%s' %(\"\\nHence the system will oscillate\")\n"
     ],
     "language": "python",
     "metadata": {},
     "outputs": [
      {
       "output_type": "stream",
       "stream": "stdout",
       "text": [
        "The frequency of oscillation in Hz is :  318.00\n",
        "\n",
        "Hence the system will oscillate\n"
       ]
      }
     ],
     "prompt_number": 1
    },
    {
     "cell_type": "heading",
     "level": 2,
     "metadata": {},
     "source": [
      "Example E02 - Pg 283"
     ]
    },
    {
     "cell_type": "code",
     "collapsed": false,
     "input": [
      "#  Exa 11.2\n",
      "import math \n",
      "#  Given data\n",
      "Av= 29.;\n",
      "I_Bmax = 0.5*10.**-6.;#  in A\n",
      "I1= 100.*I_Bmax\n",
      "Vo_sat = 0.9;#  in V\n",
      "V_CC = 9.0;#  in V\n",
      "V_EE= -9.;#  in V\n",
      "V1= 9./Av;#  in V\n",
      "R1= V1/I1;#  in ohm\n",
      "R1= 5.6*10.**3.;#  in ohm (standard value)\n",
      "Rf= Av*R1;#  in ohm\n",
      "Rf= 180.*10.**3.;#  in ohm\n",
      "R3= Rf;#  in ohm\n",
      "R=R1;#  in ohm\n",
      "C= 1./(2.*math.pi*R*math.sqrt(6.)*1000.);#  in F\n",
      "R= R*10.**-3.;#  in k ohm\n",
      "Rf= Rf*10.**-3.;#  in k ohm\n",
      "C= C*10.**6.;#  in uF\n",
      "print '%s %.2f' %(\"The value of R and R1 in k ohm is : \",R)\n",
      "print '%s %.f' %(\"The value of Rf and R3 in k ohm is : \",Rf)\n",
      "print '%s %.2f' %(\"The value of C in uF is : \",C)\n",
      "print '%s %.f' %(\"The value of V_CC in volts is : \",V_CC)\n",
      "print '%s %.f' %(\"The value of V_EE in volts is : \",V_EE)\n"
     ],
     "language": "python",
     "metadata": {},
     "outputs": [
      {
       "output_type": "stream",
       "stream": "stdout",
       "text": [
        "The value of R and R1 in k ohm is :  5.60\n",
        "The value of Rf and R3 in k ohm is :  180\n",
        "The value of C in uF is :  0.01\n",
        "The value of V_CC in volts is :  9\n",
        "The value of V_EE in volts is :  -9\n"
       ]
      }
     ],
     "prompt_number": 2
    },
    {
     "cell_type": "heading",
     "level": 2,
     "metadata": {},
     "source": [
      "Example E03 - Pg 285"
     ]
    },
    {
     "cell_type": "code",
     "collapsed": false,
     "input": [
      "#  Exa 11.3\n",
      "#  Given data\n",
      "import math \n",
      "f = 5.;#  in kHz\n",
      "f = f * 10.**3.;#  in Hz\n",
      "miu = 55.;\n",
      "r_d = 5.5;#  in k ohm\n",
      "r_d = r_d * 10.**3.;#  in ohm\n",
      "A= 29.;\n",
      "#  abs(A) = g_m*R_L = (g_m*r_d*R_D)/(r_d+R_D) = (miu*R_D)/(r_d+R_D);\n",
      "#  miu*R_D = abs(A)*(r_d+R_D);\n",
      "R_D = (abs(A)*r_d)/(miu-A);#  in ohm  \n",
      "R_D= R_D*10.**-3.;#  in k ohm\n",
      "print '%s %.2f' %(\"Minimum value of R_D in  k ohm is\",R_D);\n",
      "R_D= R_D*10.**3.;#  in ohm\n",
      "Alpha = math.sqrt(6.);\n",
      "#  Alpha = 1/(2*%pi*f*R_C);\n",
      "RC = 1./(2.*math.pi*f*Alpha);#  in sec\n",
      "RC= round(RC*10.**6.);#  in usec\n",
      "print '%s %.2f' %(\"The value of RC in usec is\",RC);\n",
      "RC= RC*10.**-6.;#  in sec\n",
      "R_L = (r_d*R_D)/(r_d+R_D);#  in ohm\n",
      "R = 30.*10.**3.;#  in ohm\n",
      "C = RC/R;#  in F\n",
      "C = C * 10.**12.;#  in pF \n",
      "R= R*10.**-3.;#  in k ohm\n",
      "print '%s %.2f' %(\"The value of R in k ohm is\",R);\n",
      "print '%s %.2f' %(\"The value of C in pF is\",C);\n"
     ],
     "language": "python",
     "metadata": {},
     "outputs": [
      {
       "output_type": "stream",
       "stream": "stdout",
       "text": [
        "Minimum value of R_D in  k ohm is 6.13\n",
        "The value of RC in usec is 13.00\n",
        "The value of R in k ohm is 30.00\n",
        "The value of C in pF is 433.33\n"
       ]
      }
     ],
     "prompt_number": 3
    },
    {
     "cell_type": "heading",
     "level": 2,
     "metadata": {},
     "source": [
      "Example E04 - Pg 286"
     ]
    },
    {
     "cell_type": "code",
     "collapsed": false,
     "input": [
      "#  Exa 11.4\n",
      "#  Given data\n",
      "import math\n",
      "f= 100.*10.**3.;#  in Hz\n",
      "h_fe = 100.;\n",
      "h_ie = 1.* 10.**3.;#  in ohm\n",
      "V_CE = 5.;#  in V\n",
      "V_BE= 0.7;#  in V\n",
      "I_C = 1.* 10.**-3.;#  in A\n",
      "I_B= 0.01*10.**-3.;#  in A\n",
      "V_CC = 20.;#  in V\n",
      "R_E = 1.* 10.**3.;#  in ohm\n",
      "I_E = I_C;#  in A\n",
      "R_C = (V_CC-V_CE-(I_E*R_E))/I_C;#  in ohm\n",
      "R = 10.*10.**3.;#  in k ohm\n",
      "k = R_C/R;\n",
      "h_fe=(23.+29./k+4.*k);\n",
      "#  Formula f= 1/(2*%pi*R*C*sqrt(6+4*k))\n",
      "C= 1./(2.*math.pi*R*f*math.sqrt(6.+4.*k));#  in F\n",
      "#  R= R3+R1 || R2+h_ie = R3+h_ie (approx)\n",
      "R3= R-h_ie;#  in ohm\n",
      "V_B= V_BE+I_E*R_E;#  in V\n",
      "R2= 10.*10.**3.;#  in ohm (assumed value)\n",
      "I_R2= V_B/R2;#  current in R2 in A\n",
      "V_R1= V_CC-V_B;#  drop across R1 in V\n",
      "I_R1= I_R2+I_B;#  in A\n",
      "R1= V_R1/I_R1;#  in ohm\n",
      "R_E= R_E*10.**-3.;#  in k ohm\n",
      "R_C= R_C*10.**-3.;#  in k ohm\n",
      "R= R*10.**-3.;#  in k ohm\n",
      "R1= R1*10.**-3.;#  in k ohm\n",
      "R2= R2*10.**-3.;#  in k ohm\n",
      "R3= R3*10.**-3.;#  in k ohm\n",
      "C=C*10.**12.;#  in pF\n",
      "print '%s %.2f' %(\"The value of R_E in k ohm is\",R_E);\n",
      "print '%s %.2f' %(\"The value of R_C in k ohm is\",R_C);\n",
      "print '%s %.2f' %(\"The value of R in k ohm is\",R);\n",
      "print '%s %.2f' %(\"The value of h_fe >=\",h_fe);\n",
      "print '%s %.2f' %(\"The value of C in pF is : \",C)\n",
      "print '%s %.2f' %(\"The value of R3 in k ohm is : \",R3)\n",
      "print '%s %.2f' %(\"The value of R2 in k ohm is : \",R2)\n",
      "print '%s %.2f' %(\"The value of R1 in k ohm is : \",R1)\n"
     ],
     "language": "python",
     "metadata": {},
     "outputs": [
      {
       "output_type": "stream",
       "stream": "stdout",
       "text": [
        "The value of R_E in k ohm is 1.00\n",
        "The value of R_C in k ohm is 14.00\n",
        "The value of R in k ohm is 10.00\n",
        "The value of h_fe >= 49.31\n",
        "The value of C in pF is :  46.73\n",
        "The value of R3 in k ohm is :  9.00\n",
        "The value of R2 in k ohm is :  10.00\n",
        "The value of R1 in k ohm is :  101.67\n"
       ]
      }
     ],
     "prompt_number": 4
    },
    {
     "cell_type": "heading",
     "level": 2,
     "metadata": {},
     "source": [
      "Example E05 - Pg 290"
     ]
    },
    {
     "cell_type": "code",
     "collapsed": false,
     "input": [
      "#  Exa 11.5\n",
      "#  Given data\n",
      "import math\n",
      "f = 5.;#  in kHz\n",
      "f = f * 10.**3.;#  in Hz\n",
      "R1 = 14.;#  in k ohm\n",
      "R2 = 75.;#  in k ohm\n",
      "R_C = 18.;#  in k ohm\n",
      "R = 6.;#  in k ohm\n",
      "h_ie = 2.;#  in k ohm\n",
      "k = R_C/R;#  in k ohm\n",
      "#  f = 1/( 2*%pi*RC*sqrt(6+(4*k)) );\n",
      "C = 1./( 2.*math.pi*R*10.**3.*f*math.sqrt(6.+(4.*k)) );#  in F\n",
      "C = C * 10**9;#  in nF\n",
      "print '%s %.2f' %(\"The value of capacitor in nF is\",C);\n",
      "h_fe= 23.+(29./k)+(4.*k);\n",
      "print '%s %.2f' %(\"The value of h_fe >= \",h_fe)\n",
      "print '%s' %(\"Thus the transistor used mush have a minimum current gain of 45\")\n"
     ],
     "language": "python",
     "metadata": {},
     "outputs": [
      {
       "output_type": "stream",
       "stream": "stdout",
       "text": [
        "The value of capacitor in nF is 1.25\n",
        "The value of h_fe >=  44.67\n",
        "Thus the transistor used mush have a minimum current gain of 45\n"
       ]
      }
     ],
     "prompt_number": 5
    },
    {
     "cell_type": "heading",
     "level": 2,
     "metadata": {},
     "source": [
      "Example E07 - Pg 294"
     ]
    },
    {
     "cell_type": "code",
     "collapsed": false,
     "input": [
      "#  Exa 11.7\n",
      "#  Given data\n",
      "import math\n",
      "f_max = 10.;#  in kHz\n",
      "f_max = f_max * 10.**3.;#  in Hz\n",
      "R = 100.*10.**3.;#  in k ohm\n",
      "C = 1./(2.*math.pi*f_max*R);#  in F\n",
      "C= C*10.**9.;#  in nF\n",
      "print '%s %.2f' %(\"For maximum frequency, the value of C in nF is\",C);\n",
      "f_min = 100;#  in Hz\n",
      "C = 1./(2.*math.pi*f_min*R);#  in F\n",
      "C= C*10.**9.;#  in nF\n",
      "print '%s %.2f' %(\"For minimum frequency, the value of C in nF is\",C);\n"
     ],
     "language": "python",
     "metadata": {},
     "outputs": [
      {
       "output_type": "stream",
       "stream": "stdout",
       "text": [
        "For maximum frequency, the value of C in nF is 0.16\n",
        "For minimum frequency, the value of C in nF is 15.92\n"
       ]
      }
     ],
     "prompt_number": 6
    },
    {
     "cell_type": "heading",
     "level": 2,
     "metadata": {},
     "source": [
      "Example E08 - Pg 295"
     ]
    },
    {
     "cell_type": "code",
     "collapsed": false,
     "input": [
      "#  Exa 11.8\n",
      "#  Given data\n",
      "import math\n",
      "R4 = 220.;#  in k ohm\n",
      "R4 = R4 * 10.**3.;#  in ohm\n",
      "R3 = R4;#  in ohm\n",
      "R = R4;#  in ohm \n",
      "C1 = 250.* 10.**-12.;#  in F\n",
      "C2 = C1;#  in F\n",
      "C = C1;#  in F\n",
      "f = 1./(2.*math.pi*R*C);#  in Hz\n",
      "f= f*10.**-3.;#  in k Hz\n",
      "print '%s %.2f' %(\"The frequency of oscillation in kHz is\",f);\n"
     ],
     "language": "python",
     "metadata": {},
     "outputs": [
      {
       "output_type": "stream",
       "stream": "stdout",
       "text": [
        "The frequency of oscillation in kHz is 2.89\n"
       ]
      }
     ],
     "prompt_number": 7
    },
    {
     "cell_type": "heading",
     "level": 2,
     "metadata": {},
     "source": [
      "Example E09 - Pg 298"
     ]
    },
    {
     "cell_type": "code",
     "collapsed": false,
     "input": [
      "#  Exa 11.9\n",
      "#  Given data\n",
      "import math\n",
      "L = 0.33;\n",
      "Cs = 0.65;#  in pF\n",
      "Cs = Cs * 10.**-12.;#  in F\n",
      "C_M = 1.;#  in pF\n",
      "C_M = C_M * 10.**-12.;#  in F\n",
      "R = 5.5;#  in k ohm\n",
      "R = R * 10.**3.;#  in ohm\n",
      "f_s = 1./(2.*math.pi*math.sqrt( L*Cs ));#  in Hz\n",
      "f_s= f_s*10.**-6.;#  in MHz\n",
      "print '%s %.2f' %(\"The series resonant frequency in MHz is\",f_s);\n",
      "f_s= f_s*10.**6.;#  in Hz\n",
      "Ceq = (Cs*C_M)/(Cs+C_M);#  in F\n",
      "f_P = 1./(2.*math.pi*math.sqrt( L*Ceq ));#  in Hz\n",
      "f_P= f_P*10.**-6.;#  in MHz\n",
      "print '%s %.2f' %(\"The parallel resonant frequency in MHz is : \",f_P)\n",
      "f_P= f_P*10.**6.;#  in Hz\n",
      "P = ((f_P-f_s)/f_s)*100.;#  in %\n",
      "print '%s %.2f %s' %(\"The parallel resonant frequency exceds series resonant frequency by\",P,\"%\");\n",
      "Q = (math.sqrt(L/Cs))/R;\n",
      "print '%s %.2f' %(\"The Q factor of the crystal is\",Q);\n"
     ],
     "language": "python",
     "metadata": {},
     "outputs": [
      {
       "output_type": "stream",
       "stream": "stdout",
       "text": [
        "The series resonant frequency in MHz is 0.34\n",
        "The parallel resonant frequency in MHz is :  0.44\n",
        "The parallel resonant frequency exceds series resonant frequency by 28.45 %\n",
        "The Q factor of the crystal is 129.55\n"
       ]
      }
     ],
     "prompt_number": 8
    },
    {
     "cell_type": "heading",
     "level": 2,
     "metadata": {},
     "source": [
      "Example E10 - Pg 298"
     ]
    },
    {
     "cell_type": "code",
     "collapsed": false,
     "input": [
      "#  Exa 11.10\n",
      "#  Given data\n",
      "Cs = 0.04;#  in pF\n",
      "C_M = 2.;#  in pF\n",
      "Per =(1./2.)*(Cs/C_M)*100.;#  in %\n",
      "print '%s %.f %s' %(\"Parallel resonant frequency is greater than series resonant frequency by\" ,Per, \"%\")\n"
     ],
     "language": "python",
     "metadata": {},
     "outputs": [
      {
       "output_type": "stream",
       "stream": "stdout",
       "text": [
        "Parallel resonant frequency is greater than series resonant frequency by 1 %\n"
       ]
      }
     ],
     "prompt_number": 9
    },
    {
     "cell_type": "heading",
     "level": 2,
     "metadata": {},
     "source": [
      "Example E12 - Pg 302"
     ]
    },
    {
     "cell_type": "code",
     "collapsed": false,
     "input": [
      "#  Exa 11.12\n",
      "#  Given data\n",
      "import math\n",
      "C = 0.01;#  in pF\n",
      "C = C * 10.**-12.;#  in F\n",
      "L = 10.;#  in mH\n",
      "L = L * 10.**-3.;#  in H\n",
      "f_o = 1/(2*math.pi*math.sqrt(L*C));#  in Hz\n",
      "f_o = f_o * 10**-6;#  in MHz\n",
      "print '%s %.2f' %(\"The oscillation frequency in MHz is\",f_o);\n",
      "R1 = 100.;#  in k ohm\n",
      "R2 = 5.;#  in k ohm\n",
      "A = 1. + (R1/R2);\n",
      "#  Beta = R/10;\n",
      "#  loopgain = A*Beta A*R/10 >=1\n",
      "R= 10./A;#  in k ohm\n",
      "R=round(R*10.**3.);#  in ohm\n",
      "print '%s %.f %s' %(\"The value of R is >=\",R,\"ohm\")\n"
     ],
     "language": "python",
     "metadata": {},
     "outputs": [
      {
       "output_type": "stream",
       "stream": "stdout",
       "text": [
        "The oscillation frequency in MHz is 15.92\n",
        "The value of R is >= 476 ohm\n"
       ]
      }
     ],
     "prompt_number": 10
    }
   ],
   "metadata": {}
  }
 ]
}