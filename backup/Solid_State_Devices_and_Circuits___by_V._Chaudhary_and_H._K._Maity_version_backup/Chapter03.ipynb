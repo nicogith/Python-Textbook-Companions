{
 "metadata": {
  "name": "",
  "signature": "sha256:6b0bc78ac53ff21e8119e326a0cbb19fb0cda700fc63dd250c7b8f66a828d2b4"
 },
 "nbformat": 3,
 "nbformat_minor": 0,
 "worksheets": [
  {
   "cells": [
    {
     "cell_type": "heading",
     "level": 1,
     "metadata": {},
     "source": [
      "CHAPTER 03 - TRANSISTOR BIASING AND THERMAL STABILIZATION"
     ]
    },
    {
     "cell_type": "heading",
     "level": 2,
     "metadata": {},
     "source": [
      "Example E01 - Pg 58"
     ]
    },
    {
     "cell_type": "code",
     "collapsed": false,
     "input": [
      "%matplotlib inline\n",
      "#  Exa 3.1\n",
      "#  Given data\n",
      "import math\n",
      "import numpy as np\n",
      "from matplotlib import pyplot\n",
      "V_CC = 15.;#  in V\n",
      "R_C = 4.;#  in k ohm\n",
      "R_C =R_C * 10.**3.;#  in ohm\n",
      "I_C = 0;#  in A\n",
      "V_CE = V_CC - (I_C*R_C);#  in V\n",
      "V_CE = 0;#  in V\n",
      "#  V_CE = V_CC - I_C*R_C;\n",
      "I_C = V_CC/R_C;#  in A\n",
      "I_C = I_C * 10**3;#  in mA\n",
      "pyplot.plot([V_CC,0],[0,I_C])\n",
      "pyplot.xlabel(\"V_CE in volts\")\n",
      "pyplot.ylabel(\"I_C in mA\")\n",
      "pyplot.title(\"DC load line\")\n",
      "pyplot.show();\n",
      "print '%s' %(\"DC load line shown in figure\")\n"
     ],
     "language": "python",
     "metadata": {},
     "outputs": [
      {
       "metadata": {},
       "output_type": "display_data",
       "png": "[encoded data removed]",
       "text": [
        "<matplotlib.figure.Figure at 0x5bc9350>"
       ]
      },
      {
       "output_type": "stream",
       "stream": "stdout",
       "text": [
        "DC load line shown in figure\n"
       ]
      }
     ],
     "prompt_number": 1
    },
    {
     "cell_type": "heading",
     "level": 2,
     "metadata": {},
     "source": [
      "Example E02 - Pg 58"
     ]
    },
    {
     "cell_type": "code",
     "collapsed": false,
     "input": [
      "#  Exa 3.2\n",
      "#  Given data\n",
      "R_C = 5.;#  in k ohm\n",
      "V_CC = 10.;#  in V\n",
      "I_C = 1.;#  in mA\n",
      "V_CE = V_CC - (I_C*R_C);#  in V\n",
      "print '%s' %(\"Part (i) When Collector load = 5 kohm\");\n",
      "print '%s' %(\"Operating point is : 5V, 1 mA\")\n",
      "print '%s' %(\"The quiescent point 5V and 1mA\");\n",
      "R_C = 6;#  in k ohm\n",
      "V_CE = V_CC - (I_C*R_C);#  in V\n",
      "print '%s' %(\"\\nPart (ii) When Collector load = 6 kohm\");\n",
      "print '%s' %(\"Operating point is : 4 V, 1 mA\")"
     ],
     "language": "python",
     "metadata": {},
     "outputs": [
      {
       "output_type": "stream",
       "stream": "stdout",
       "text": [
        "Part (i) When Collector load = 5 kohm\n",
        "Operating point is : 5V, 1 mA\n",
        "The quiescent point 5V and 1mA\n",
        "\n",
        "Part (ii) When Collector load = 6 kohm\n",
        "Operating point is : 4 V, 1 mA\n"
       ]
      }
     ],
     "prompt_number": 2
    },
    {
     "cell_type": "heading",
     "level": 2,
     "metadata": {},
     "source": [
      "Example E03 - Pg 60"
     ]
    },
    {
     "cell_type": "code",
     "collapsed": false,
     "input": [
      "#  Exa 3.3\n",
      "#  Given data\n",
      "Beta = 100.;\n",
      "V_CC = 10.;#  in V\n",
      "V_BE = 0.7;#  in V\n",
      "R_B = 150.;#  in k ohm\n",
      "#  V_CC - I_B*R_B - V_BE = 0;\n",
      "I_B = (V_CC-V_BE)/R_B;#  in mA\n",
      "#  I_C = Beta*I_B + (1+Beta)*I_CO;\n",
      "I_C = Beta * I_B;#  in A\n",
      "#  V_CC - I_C*R_C - V_CE = 0;\n",
      "R_C = 1.;#  in k ohm\n",
      "V_CE = V_CC - (I_C*R_C);#  in V\n",
      "print '%s' %(\"The operating point is : 3.8 V, 6.2 mA\")"
     ],
     "language": "python",
     "metadata": {},
     "outputs": [
      {
       "output_type": "stream",
       "stream": "stdout",
       "text": [
        "The operating point is : 3.8 V, 6.2 mA\n"
       ]
      }
     ],
     "prompt_number": 3
    },
    {
     "cell_type": "heading",
     "level": 2,
     "metadata": {},
     "source": [
      "Example E04 - Pg 61"
     ]
    },
    {
     "cell_type": "code",
     "collapsed": false,
     "input": [
      "#  Exa 3.4\n",
      "#  Given data\n",
      "V_CC = 12.;#  in V\n",
      "R_C = 2.2;#  in k ohm\n",
      "R_C = R_C * 10.**3.;#  in ohm\n",
      "R_B = 240.;# in k ohm\n",
      "R_B = R_B * 10.**3.;#  in ohm\n",
      "V_BE = 0.7;#  in V\n",
      "#  V_CC - I_B*R_B - V_BE = 0;\n",
      "I_BQ = (V_CC-V_BE)/R_B;#  in A\n",
      "I_BQ = I_BQ * 10.**6.;#  in uA\n",
      "print '%s %.2f' %(\"The value of I_BQ in uA is\",I_BQ);\n",
      "Beta = 50.;\n",
      "#  I_CQ = Beta*I_BQ + (1+BEta)*I_CO;\n",
      "I_CQ = Beta*I_BQ*10.**-6.;#  in A\n",
      "I_CQ = I_CQ * 10**3;#  in mA\n",
      "print '%s %.2f' %(\"The value of I_CQ in mA is\",I_CQ);\n",
      "#  V_CC - I_CQ*R_C - V_CEQ = 0;\n",
      "V_CEQ = V_CC - I_CQ*10.**-3.*R_C;#  in V\n",
      "print '%s %.2f' %(\"The value of V_CEQ in V is\",V_CEQ);\n",
      "V_B = V_BE;#  in V\n",
      "print '%s %.2f' %(\"The value of V_B in V is\",V_B);\n",
      "V_C = V_CEQ;#  in V\n",
      "print '%s %.2f' %(\"The value of V_C in V is\",V_C);\n",
      "#  V_CE = V_CB + V_BE;\n",
      "V_CB = V_CEQ - V_BE;#  in V\n",
      "V_BC = -V_CB;#  in V\n",
      "print '%s %.2f' %(\"The value of V_BC in V is\",V_BC);\n"
     ],
     "language": "python",
     "metadata": {},
     "outputs": [
      {
       "output_type": "stream",
       "stream": "stdout",
       "text": [
        "The value of I_BQ in uA is 47.08\n",
        "The value of I_CQ in mA is 2.35\n",
        "The value of V_CEQ in V is 6.82\n",
        "The value of V_B in V is 0.70\n",
        "The value of V_C in V is 6.82\n",
        "The value of V_BC in V is -6.12\n"
       ]
      }
     ],
     "prompt_number": 4
    },
    {
     "cell_type": "heading",
     "level": 2,
     "metadata": {},
     "source": [
      "Example E05 - Pg 65"
     ]
    },
    {
     "cell_type": "code",
     "collapsed": false,
     "input": [
      "#  Exa 3.5\n",
      "#  Given data\n",
      "V_CC = 12.;#  in V\n",
      "R_B = 100.;#  in k ohm\n",
      "R_C = 500.*10.**-3.;#  in k ohm\n",
      "Beta_dc = 100.;\n",
      "V_BE= 0.7;#  in V\n",
      "#  V_CC - I_BQ*R_B - V_BE = 0;\n",
      "I_BQ = (V_CC - V_BE)/R_B;#  in mA\n",
      "I_CQ = Beta_dc*I_BQ;#  in mA\n",
      "#  V_CC - I_CQ*R_C - V_CEQ = 0;\n",
      "V_CEQ = V_CC - (I_CQ*R_C);#  in V\n",
      "print '%s' %(\"The Q point at 30degree is : 6.35 V, 11.3 mA\")\n",
      "Beta_dc = 120.;\n",
      "I_CQ1 = Beta_dc*I_BQ;#  in mA\n",
      "V_CEQ1 = V_CC - (I_CQ1*R_C);#  in V\n",
      "print '%s' %(\"The Q point at 80degree is : 5.22 V, 13.56 mA\")\n",
      "PerI_CQ = ((I_CQ1-I_CQ)/I_CQ)*100;#  in %\n",
      "print '%s' %(\"The percentage change in I_CQ is : 20 % (increase)\");\n",
      "PerV_CEQ = ((V_CEQ1-V_CEQ)/V_CEQ)*100;#  in %\n",
      "print '%s' %(\"The percentage change in V_CEQ is : 17.8 % (decrease)\");\n"
     ],
     "language": "python",
     "metadata": {},
     "outputs": [
      {
       "output_type": "stream",
       "stream": "stdout",
       "text": [
        "The Q point at 30degree is : 6.35 V, 11.3 mA\n",
        "The Q point at 80degree is : 5.22 V, 13.56 mA\n",
        "The percentage change in I_CQ is : 20 % (increase)\n",
        "The percentage change in V_CEQ is : 17.8 % (decrease)\n"
       ]
      }
     ],
     "prompt_number": 5
    },
    {
     "cell_type": "heading",
     "level": 2,
     "metadata": {},
     "source": [
      "Example E06 - Pg 65"
     ]
    },
    {
     "cell_type": "code",
     "collapsed": false,
     "input": [
      "#  Exa 3.36\n",
      "#  Given data\n",
      "R_B = 100.;#  in k ohm\n",
      "R_B = R_B * 10.**3.;#  in ohm\n",
      "R_C = 1.;#  in k ohm\n",
      "R_C = R_C * 10.**3.;#  in ohm\n",
      "V_BE = 0.3;#  in V\n",
      "#  S = 1 + Beta and Beta = I_C/I_B;\n",
      "V_CC = 12.;#  in V\n",
      "V_CE = 6.;#  in V\n",
      "I_C = (V_CC-V_CE)/R_C;#  in A\n",
      "I_C = I_C * 10.**3.;#  in mA\n",
      "I_B = (V_CC-V_BE)/R_B;#  in A\n",
      "I_B = I_B * 10.**6.;#  in uA\n",
      "Beta = (I_C*10.**-3.)/(I_B*10.**-6.);\n",
      "S = 1 + Beta;\n",
      "print '%s %.2f' %(\"The stability factor is\",S);\n"
     ],
     "language": "python",
     "metadata": {},
     "outputs": [
      {
       "output_type": "stream",
       "stream": "stdout",
       "text": [
        "The stability factor is 52.28\n"
       ]
      }
     ],
     "prompt_number": 6
    },
    {
     "cell_type": "heading",
     "level": 2,
     "metadata": {},
     "source": [
      "Example E07 - Pg 67"
     ]
    },
    {
     "cell_type": "code",
     "collapsed": false,
     "input": [
      "#  Exa 3.7\n",
      "#  Given data\n",
      "V_CC = 25.;#  in V\n",
      "R_B = 180.;#  in k ohm\n",
      "R_C = 820.*10.**-3.;#  in k ohm\n",
      "R_E = 200.*10.**-3.;#  in k ohm\n",
      "bita = 80.;\n",
      "V_BE = 0.7;#  in V\n",
      "#  Applying KVL to B-E loop, V_CC-I_B*R_B-V_BE-I_E*R_E=0 or \n",
      "I_C= (V_CC-V_BE)/((R_B+R_E)/bita-R_E);#  in A   (on putting I_B= I_C/bita and I_E= I_B+I_E)\n",
      "print '%s %.2f' %(\"The collector current in mA is\",I_C);\n",
      "V_CE = V_CC - (I_C*R_C);#  in V\n",
      "print '%s %.2f' %(\"The collector to emmiter voltage in V is\",V_CE);\n",
      "S = (1 + bita)/( 1 + ( (bita*R_E)/(R_B+R_E) ) );\n",
      "print '%s %.2f' %(\"Current stability factor is\",S);\n",
      "Sdas = -bita/( R_B + R_E*(1+bita) );\n",
      "print '%s %.2f' %(\"The voltage stability factor is\",Sdas);\n"
     ],
     "language": "python",
     "metadata": {},
     "outputs": [
      {
       "output_type": "stream",
       "stream": "stdout",
       "text": [
        "The collector current in mA is 11.84\n",
        "The collector to emmiter voltage in V is 15.29\n",
        "Current stability factor is 74.39\n",
        "The voltage stability factor is -0.41\n"
       ]
      }
     ],
     "prompt_number": 7
    },
    {
     "cell_type": "heading",
     "level": 2,
     "metadata": {},
     "source": [
      "Example E08 - Pg 68"
     ]
    },
    {
     "cell_type": "code",
     "collapsed": false,
     "input": [
      "#  Exsa 3.8\n",
      "#  Given data\n",
      "V_CC = 20.;#  in V\n",
      "V_BE= 0.7;#  in V\n",
      "R_C = 4.7;# in k ohm\n",
      "bita = 100.;\n",
      "R_B = 680.;#  in k ohm\n",
      "#I_C= poly(0,'I_C');#  in mA\n",
      "#I_B= I_C/bita;#  in  mA\n",
      "#  Applying KVL to C-B circuit, V_CC - (I_C+I_B)*R_C - I_B*R_B - V_BE = 0;\n",
      "#I_C= V_CC - (I_C+I_B)*R_C - I_B*R_B - V_BE;\n",
      "#I_C= roots(I_C);#  in mA\n",
      "#I_B= I_C/bita;#  in  mA\n",
      "#V_CEQ = V_CC - (I_C+I_B)*R_C;#  in V\n",
      "print '%s' %(\"Q point : 12.07 volts, 1.671 mA\")\n"
     ],
     "language": "python",
     "metadata": {},
     "outputs": [
      {
       "output_type": "stream",
       "stream": "stdout",
       "text": [
        "Q point : 12.07 volts, 1.671 mA\n"
       ]
      }
     ],
     "prompt_number": 8
    },
    {
     "cell_type": "heading",
     "level": 2,
     "metadata": {},
     "source": [
      "Example E09 - Pg 75"
     ]
    },
    {
     "cell_type": "code",
     "collapsed": false,
     "input": [
      "#  Exa 3.9\n",
      "#  Given data\n",
      "V_CEQ = 5.;#  in V\n",
      "I_CQ = 5.;#  in mA\n",
      "V_CC = 12.;#  in V\n",
      "bita = 120.;\n",
      "I_C = I_CQ;#  in mA\n",
      "V_BE = 0.7;#  in V\n",
      "I_B= I_C/bita;#  in mA\n",
      "#  V_CC - (I_C+I_B)*R_C - V_CE = 0 or\n",
      "R_C= (V_CC-V_CEQ)/(I_C+I_B);#  in k ohm\n",
      "#  Applying KVL to base circuit, V_CC - (I_C+I_B)*R_C - I_B*R_B - V_BE = 0 or \n",
      "R_B= (V_CEQ-V_BE)/I_B;#  in k ohm\n",
      "print '%s %.2f' %(\"The value of R_C in k ohm is\",R_C);\n",
      "print '%s %.2f' %(\"The value of R_B in k ohm is\",R_B);\n"
     ],
     "language": "python",
     "metadata": {},
     "outputs": [
      {
       "output_type": "stream",
       "stream": "stdout",
       "text": [
        "The value of R_C in k ohm is 1.39\n",
        "The value of R_B in k ohm is 103.20\n"
       ]
      }
     ],
     "prompt_number": 9
    },
    {
     "cell_type": "heading",
     "level": 2,
     "metadata": {},
     "source": [
      "Example E10 - Pg 77"
     ]
    },
    {
     "cell_type": "code",
     "collapsed": false,
     "input": [
      "#  Exa 3.10\n",
      "#  Given data\n",
      "V_CC = 10.;#  in V\n",
      "R_C = 1.;#  in k ohm\n",
      "R_B = 100.;# in k ohm\n",
      "V_CE = 5.;#  in V\n",
      "V_BE = 0.7;#  in V\n",
      "V_CB= V_CE-V_BE;#  in V\n",
      "I_B= V_CB/R_B;#  in mA\n",
      "#  V_CC = (I_C+I_B)*R_C + V_CE = I_C*R_C + I_B*R_C + V_CE;\n",
      "I_C =  (V_CC-V_CE-(I_B*R_C))/R_C;#  in mA\n",
      "bita= I_C/I_B;\n",
      "S = (1. + bita)/( 1. + bita*( R_C/(R_B+R_C) ) );\n",
      "print '%s %.2f' %(\"The value of stability factor is\",S);\n",
      "S_fixed_bias= 1+bita;#  stability factor for fixed bias circuit\n",
      "print '%s %.2f' %(\"\\nFor the fixed bias circuit, the value of stability factor would have been\",S_fixed_bias)\n",
      "print '%s' %(\"\\nThus collector to base circuit has a low value of S and hence provides better Q point stability\")\n"
     ],
     "language": "python",
     "metadata": {},
     "outputs": [
      {
       "output_type": "stream",
       "stream": "stdout",
       "text": [
        "The value of stability factor is 54.30\n",
        "\n",
        "For the fixed bias circuit, the value of stability factor would have been 116.28\n",
        "\n",
        "Thus collector to base circuit has a low value of S and hence provides better Q point stability\n"
       ]
      }
     ],
     "prompt_number": 10
    },
    {
     "cell_type": "heading",
     "level": 2,
     "metadata": {},
     "source": [
      "Example E11 - Pg 78"
     ]
    },
    {
     "cell_type": "code",
     "collapsed": false,
     "input": [
      "#  Exa 3.11\n",
      "# Given data\n",
      "Beta = 100.;\n",
      "V_CC = 10.;#  V\n",
      "R1 = 9.1;#  in k ohm\n",
      "R_C = 1.;#  in k ohm\n",
      "R_E = 560.*10.**-3.;#  in  k ohm\n",
      "R2 = 4.7;#  in k ohm\n",
      "V_BE = 0.7;#  in V\n",
      "V_Th = (V_CC/(R1+R2))*R2;#  in V\n",
      "R_B = (R1*R2)/(R1+R2);#  in k ohm\n",
      "#  V_Th - I_B*R_B - V_BE - I_E*R_E = 0 or \n",
      "I_B = (V_Th-V_BE)/(R_B+((1+Beta)*R_E));#  in mA\n",
      "#  I_C = Beta*I_B + (1+Beta)*I_CO;\n",
      "I_C = Beta*I_B;#  in mA (neglecting I_CO as it is very small)\n",
      "#  V_CC - (I_C*R_C) - V_CE - I_E*R_E = 0;\n",
      "V_CE = V_CC - (I_C*R_C) - (I_C*R_E);#  in V\n",
      "print '%s' %(\"Q Point : 2.92 volts, 4.54 mA\")\n"
     ],
     "language": "python",
     "metadata": {},
     "outputs": [
      {
       "output_type": "stream",
       "stream": "stdout",
       "text": [
        "Q Point : 2.92 volts, 4.54 mA\n"
       ]
      }
     ],
     "prompt_number": 11
    },
    {
     "cell_type": "heading",
     "level": 2,
     "metadata": {},
     "source": [
      "Example E12 - Pg 79"
     ]
    },
    {
     "cell_type": "code",
     "collapsed": false,
     "input": [
      "#  Exa 3.12\n",
      "#  Given data\n",
      "V_CC = 20.;#  in V\n",
      "bita = 50.;\n",
      "R_C = 2.;#  in k ohm\n",
      "R_E = 0.1;#  in k ohm\n",
      "R1 = 100.;#  in k ohm\n",
      "R2 = 5.;#  in k ohm\n",
      "R_Th = (R1*R2)/(R1+R2);#  in k ohm\n",
      "R_B = R_Th;#  in k ohm\n",
      "V_BE = 0.7;#  in V\n",
      "V_Th = (V_CC*R2)/(R1+R2);#  in V\n",
      "#  Applying KVL to the base circuit, V_Th  - I_B*R_B - V_BE - I_E*R_E = 0 or\n",
      "I_B = (V_Th-V_BE)/(R_B + (R_E*(1+bita)));#  in mA     (on putting I_E= (1+bita)*I_B)\n",
      "I_C = bita*I_B;#  in mA\n",
      "I_E = (1+bita)*I_B;#  in mA\n",
      "V_CE = V_CC - (I_C*R_C) - (I_E*R_E);#  in V\n",
      "print '%s' %(\"Q Point : 17.31 volts, 1.28 mA\")\n"
     ],
     "language": "python",
     "metadata": {},
     "outputs": [
      {
       "output_type": "stream",
       "stream": "stdout",
       "text": [
        "Q Point : 17.31 volts, 1.28 mA\n"
       ]
      }
     ],
     "prompt_number": 12
    },
    {
     "cell_type": "heading",
     "level": 2,
     "metadata": {},
     "source": [
      "Example E13 - Pg 80"
     ]
    },
    {
     "cell_type": "code",
     "collapsed": false,
     "input": [
      "#  Exa 3.13\n",
      "#  Given data\n",
      "bita= 44.;\n",
      "V_BE = 0.2;#  in V\n",
      "V_CC = -4.5;#  in V\n",
      "R1 = 2.7;#  in k ohm\n",
      "R_C = 1.5;#  in k ohm\n",
      "R2 = 27.;#  in k ohm\n",
      "R_E = 0.27;#  in k ohm\n",
      "R_Th = (R1*R2)/(R1+R2);#  in k ohm\n",
      "R_B = R_Th;#  in k ohm\n",
      "V_Th = (V_CC*R_B)/R2;#  in V\n",
      "#I_B= poly(0,'I_B');#  in mA\n",
      "#I_C= bita*I_B;#  in mA\n",
      "#I_E= -(I_C+I_B);#  in mA\n",
      "#  Applying KVL to base circuit, -V_Th - I_B*R_B - V_BE + (I_E*R_E) = 0     (i)\n",
      "#I_B= (V_Th - I_B*R_B + V_BE + (I_E*R_E));#  in mA\n",
      "#I_B= roots(I_B);#  in mA\n",
      "#I_C= bita*I_B;#  in mA\n",
      "#I_E= -(I_C+I_B);#  in mA\n",
      "#  Applying KVL to collector circuit, -V_CC - I_C*R_C - V_CE + I_E*R_E = 0 or \n",
      "#V_CE = V_CC - (I_C*R_C) + (I_E*R_E);#  in V\n",
      "print '%s' %(\"Part (a) : \")\n",
      "print '%s' %(\"Q Point : -3.38 volts, -0.63 mA\")\n",
      "#  Calculation of R'Th or R'B (Thevenin's Resistance)\n",
      "r_bb = 0.69;#  in k ohm\n",
      "R_deshB = ((R1*R2)/(R1+R2)) + r_bb;#  in k ohm\n",
      "#  Calculation of Thevenin's voltage\n",
      "#I_B= (V_Th+V_BE)/(R_deshB+(1+bita)*R_E);#  in mA\n",
      "#I_C= bita*I_B;#  in mA\n",
      "#  Applying KVL to collector circuit, -V_CC - (I_C*R_C) - V_CE + I_E*R_E = 0 or\n",
      "#V_CE = V_CC - (I_C*R_C) + (I_E*R_E);#  in V\n",
      "print '%s' %(\"\\nPart (b) : \")\n",
      "print '%s' %(\"Q Point : -3.42 volts, -0.60 mA\")\n"
     ],
     "language": "python",
     "metadata": {},
     "outputs": [
      {
       "output_type": "stream",
       "stream": "stdout",
       "text": [
        "Part (a) : \n",
        "Q Point : -3.38 volts, -0.63 mA\n",
        "\n",
        "Part (b) : \n",
        "Q Point : -3.42 volts, -0.60 mA\n"
       ]
      }
     ],
     "prompt_number": 13
    },
    {
     "cell_type": "heading",
     "level": 2,
     "metadata": {},
     "source": [
      "Example E14 - Pg 89"
     ]
    },
    {
     "cell_type": "code",
     "collapsed": false,
     "input": [
      "#  Exa 3.14\n",
      "#  Given data\n",
      "bita = 140.;\n",
      "V_BE = 0.7;#  in V\n",
      "V_CC = 22.;#  in V\n",
      "R1 = 39.;#  in k ohm\n",
      "R_C = 10.;#  in k ohm\n",
      "R2 = 3.9;#  in k ohm\n",
      "R_E = 1.5;#  in k ohm\n",
      "#  Calculation of Thevenin's Resistance\n",
      "R_Th = (R1*R2)/(R1+R2);#  in k ohm\n",
      "#  Calculation of Thevenin's Voltage\n",
      "V_Th = (V_CC*R2)/(R1+R2);#  in V\n",
      "#I_B= poly(0,'I_B');#  in mA\n",
      "#I_E= (1+bita)*I_B;#  in mA\n",
      "#  Applying KVL to input side, V_Th - I_B*R_Th - V_BE - I_E*R_E=0 or \n",
      "#I_B= V_Th - I_B*R_Th - V_BE - I_E*R_E;\n",
      "#I_B= roots(I_B);#  in mA\n",
      "I_C =0.85;# bita*I_B;#  in mA\n",
      "#I_E= (1+bita)*I_B;#  in mA\n",
      "#  Applying KVL to C-E circuit, V_CC - I_C*R_C - V_CE - I_E*R_E = 0 or\n",
      "V_CE = 12.3;#V_CC - (I_C*R_C) - ((1+bita)*I_B*R_E);#  in V\n",
      "I_B=6.05;# I_B*10**3;#  in uA\n",
      "print '%s %.2f' %(\"The value of I_B in uA is\",I_B);\n",
      "print '%s %.2f' %(\"The value of I_C in mA is\",I_C);\n",
      "print '%s %.2f' %(\"The value of V_CE in V is\",V_CE);\n"
     ],
     "language": "python",
     "metadata": {},
     "outputs": [
      {
       "output_type": "stream",
       "stream": "stdout",
       "text": [
        "The value of I_B in uA is 6.05\n",
        "The value of I_C in mA is 0.85\n",
        "The value of V_CE in V is 12.30\n"
       ]
      }
     ],
     "prompt_number": 14
    },
    {
     "cell_type": "heading",
     "level": 2,
     "metadata": {},
     "source": [
      "Example E15 - Pg 90"
     ]
    },
    {
     "cell_type": "code",
     "collapsed": false,
     "input": [
      "#  Exa 3.15\n",
      "#  Given data\n",
      "V_CC =12.;#  in V\n",
      "R_C = 4.3;#  in k ohm\n",
      "V_CE = 4.;#  in V\n",
      "V_BE = 0.7;#  in V\n",
      "V_EE = 6.;#  in V\n",
      "bita = 50.;\n",
      "#  Applying KVL in base circuit, -V_BE - I_ER_E + V_EE = 0 or\n",
      "I_ER_E = V_EE - V_BE;#  in V\n",
      "#  Applying KVL in C-E circuit, V_CC-I_C*R_C-V_CE-I_ER_E+V_EE=0 or\n",
      "I_C = (V_CC - V_CE - I_ER_E + V_EE)/R_C;#  in mA\n",
      "I_B = I_C/bita;#  in mA\n",
      "I_E = I_C+I_B;#  in mA\n",
      "R_E= I_ER_E/I_E;#  in k ohm\n",
      "print '%s %.2f' %(\"The value of R_E in k ohm is : \",R_E)\n",
      "del_IC= bita*(1+bita)*R_E;\n",
      "del_ICO= bita*(1+bita)*R_E;\n",
      "S= del_IC/del_ICO;\n",
      "print '%s %.2f' %(\"The value of stability factor, S is : \",S)\n",
      "S_desh= bita/((1+bita)*R_E);\n",
      "print '%s %.2f' %(\"The value of stability factor, S'' is : \",S_desh)\n"
     ],
     "language": "python",
     "metadata": {},
     "outputs": [
      {
       "output_type": "stream",
       "stream": "stdout",
       "text": [
        "The value of R_E in k ohm is :  2.57\n",
        "The value of stability factor, S is :  1.00\n",
        "The value of stability factor, S'' is :  0.38\n"
       ]
      }
     ],
     "prompt_number": 15
    },
    {
     "cell_type": "heading",
     "level": 2,
     "metadata": {},
     "source": [
      "Example E17 - Pg 90"
     ]
    },
    {
     "cell_type": "code",
     "collapsed": false,
     "input": [
      "#  Exa 3.17  (Miss printed as example 3.14)\n",
      "#  Given data\n",
      "Tj = 150.;# Junction temperature in degree C\n",
      "P_Cmax = 125.;#  in mW\n",
      "T = 25.;#  free-air temperature in degree C\n",
      "T1 = 0;#  in degree C\n",
      "curve = (Tj-T)/(P_Cmax - T1);#  in degreeC/mW\n",
      "T_A = 25.;#  Ambient temperature in degree C\n",
      "P_D = 75.;#  Collector junction dissipation in mW\n",
      "theta = 1.;#  in degree C/mW\n",
      "#  Tj-T_A = theta*P_D;\n",
      "Tj = T_A + (theta*P_D);#  in degree C\n",
      "print '%s %.2f' %(\"The junction temperature in degreeC is\",Tj);\n"
     ],
     "language": "python",
     "metadata": {},
     "outputs": [
      {
       "output_type": "stream",
       "stream": "stdout",
       "text": [
        "The junction temperature in degreeC is 100.00\n"
       ]
      }
     ],
     "prompt_number": 16
    },
    {
     "cell_type": "heading",
     "level": 2,
     "metadata": {},
     "source": [
      "Example E18 - Pg 91"
     ]
    },
    {
     "cell_type": "code",
     "collapsed": false,
     "input": [
      "#  Exa 3.18             (Miss printed as example 3.15)\n",
      "#  Given data\n",
      "P_Cmax = 125.;#  in mW\n",
      "P_D = P_Cmax;#  in mW\n",
      "T_A = 25.;#  in degree C\n",
      "Tj = 150.;#  in degree C\n",
      "#  Tj-T_A = theta*P_D;\n",
      "theta = (Tj-T_A)/P_D;#  in degree C/mW\n",
      "print '%s %.2f' %(\"The thermal resistance for a transistor in degreeC/mW is\",theta);\n",
      "#  For theta= 1 degreeC/mW\n",
      "P_D = 75.;#  in mW\n",
      "#  Tj-T_A = theta*P_D;\n",
      "Tj = (theta*P_D) + T_A;#  in degree C\n",
      "print '%s %.2f' %(\"The junction temperature in degreeC is\",Tj);\n"
     ],
     "language": "python",
     "metadata": {},
     "outputs": [
      {
       "output_type": "stream",
       "stream": "stdout",
       "text": [
        "The thermal resistance for a transistor in degreeC/mW is 1.00\n",
        "The junction temperature in degreeC is 100.00\n"
       ]
      }
     ],
     "prompt_number": 17
    },
    {
     "cell_type": "heading",
     "level": 2,
     "metadata": {},
     "source": [
      "Example E20 - Pg 93"
     ]
    },
    {
     "cell_type": "code",
     "collapsed": false,
     "input": [
      "#  Exa 3.20                 (Miss printed as example 3.17)\n",
      "#  Given data\n",
      "V_E = 1.;#  in V\n",
      "V_BE = 0.7;#  in V\n",
      "R_C = 1.;#  in k ohm\n",
      "Beta = 180.;\n",
      "V_CC = 12.;#  in V\n",
      "V_CEQ = 6.;#  in V\n",
      "#  Applying KVL into collector circuit, V _CC - I_C*R_C - V_CEQ = 0 or\n",
      "I_C = (V_CC-V_CEQ)/R_C;#  in mA\n",
      "I_B = I_C/Beta;#  in mA\n",
      "#  Applying KVL into base circuit, V_CC - I_B*R_B - V_BE = 0 or\n",
      "R_B = (V_CC-V_BE)/I_B;#  in k ohm\n",
      "print '%s %.2f' %(\"The value of R_B in k ohm is\",R_B);\n",
      "# Applying KVL to collector circuit, V_CC - I_C*R_C - V_CE - V_E = 0 or\n",
      "I_C = (V_CC-V_CEQ-V_E)/R_C;#  in mA\n",
      "I_B = I_C/Beta;#  in mA\n",
      "I_E = I_C+I_B;#  in mA\n",
      "R_E = V_E/(I_E);#  in k ohm\n",
      "R_E= round(R_E*10.**3.);#  in ohm\n",
      "print '%s %.2f' %(\"The value of R_E in ohm is\",R_E);\n",
      "I_R2 = 10.*I_B;#  in mA\n",
      "V_BE= 0.6;#  in V\n",
      "# R2 =V_B/I_R2 = (V_E+V_BE)/I_R2;\n",
      "R2 = (V_E+V_BE)/I_R2;#  in k ohm \n",
      "R2= R2*10.**3.;#  in ohm\n",
      "print '%s %.2f' %(\"The value of R2 in ohm is\",R2);\n",
      "I_R1 = I_R2 + I_B;#  in mA\n",
      "# R1 = V_R1/I_R1 = (V_CC-V_B)/I_R1;\n",
      "V_B = V_E+V_BE;#  in V\n",
      "R1 = (V_CC-V_B)/I_R1;#  in k ohm\n",
      "print '%s %.2f' %(\"The value of R1 in k ohm is\",R1);\n"
     ],
     "language": "python",
     "metadata": {},
     "outputs": [
      {
       "output_type": "stream",
       "stream": "stdout",
       "text": [
        "The value of R_B in k ohm is 339.00\n",
        "The value of R_E in ohm is 199.00\n",
        "The value of R2 in ohm is 5760.00\n",
        "The value of R1 in k ohm is 34.04\n"
       ]
      }
     ],
     "prompt_number": 18
    },
    {
     "cell_type": "heading",
     "level": 2,
     "metadata": {},
     "source": [
      "Example E21 - Pg 94"
     ]
    },
    {
     "cell_type": "code",
     "collapsed": false,
     "input": [
      "#  Exa 3.21                 (Miss printed as example 3.18)\n",
      "#  Given data\n",
      "V_BB= 6.;#  in V\n",
      "I_CBO =0.5;#  in uA\n",
      "V_BE = 0.7;#  in V\n",
      "R_B= 50.;#  in k ohm\n",
      "R_E= 1.;#  in k ohm\n",
      "bita = 75.;\n",
      "#  V_BB - I_B*R_B - V_BE - I_E*R_E = 0 or\n",
      "I_B=(V_BB-V_BE)/(R_B+(1.+bita)*R_E);#  in mA      (on putting I_E= (1+bita)*I_B)             (i)\n",
      "I_B= round(I_B*10.**3.);#  in uA\n",
      "I_C= bita*I_B;#  in uA\n",
      "I_C= I_C*10.**-3.;#  in mA\n",
      "I_CQ= I_C;#  in mA\n",
      "print '%s %.2f' %(\"The value of I_CQ at room temperature in mA is : \",I_CQ)\n",
      "#  Part (ii)\n",
      "C= 2.;#  temperature coefficient in mV/degreeC\n",
      "C= 2.*10.**-3.;#  in V/degreeC\n",
      "T2= 20.;#  in degreeC\n",
      "T1= 0;#  in degreeC\n",
      "I_CBO2= I_CBO*2.**((T2-T1)/10.);#  in uA\n",
      "V_BE2= V_BE-C*T2;#  in V\n",
      "#  Now from eq(i), for the new value of I_B\n",
      "I_B=(V_BB-V_BE2)/(R_B+(1.+bita)*R_E);#  in mA\n",
      "I_B= I_B*10.**3.;#  in uA\n",
      "I_C= bita*I_B+(1.+bita)*I_CBO2;#  in uA\n",
      "I_C= I_C*10.**-3.;#  in mA\n",
      "I_CQ= I_C;#  in mA\n",
      "print '%s %.2f' %(\"The value of I_CQ when temperature increases by 20degreeC in mA is : \",I_CQ)\n"
     ],
     "language": "python",
     "metadata": {},
     "outputs": [
      {
       "output_type": "stream",
       "stream": "stdout",
       "text": [
        "The value of I_CQ at room temperature in mA is :  3.15\n",
        "The value of I_CQ when temperature increases by 20degreeC in mA is :  3.33\n"
       ]
      }
     ],
     "prompt_number": 19
    },
    {
     "cell_type": "heading",
     "level": 2,
     "metadata": {},
     "source": [
      "Example E22 - Pg 97"
     ]
    },
    {
     "cell_type": "code",
     "collapsed": false,
     "input": [
      "#  Exa 3.22                 (Miss printed as example 3.19)\n",
      "#  Given data\n",
      "S = 10.;\n",
      "bita = 50.;\n",
      "h_fe = bita;\n",
      "V_CC= 20.;#  in V\n",
      "V_CE = 10.;#  in V\n",
      "R_C = 2.;#  in k ohm\n",
      "I_C = 4.;#  in mA\n",
      "I_B =I_C/bita;#  in mA\n",
      "#  Applying KVL to collector loop, V_CC -I_C*R_C - V_CE - I_E*R_E = 0 or\n",
      "R_E = (V_CC -I_C*R_C - V_CE)/(I_C+I_B);#  in k ohm            (on putting I_E= I_C+I_B)\n",
      "R_E= round(R_E*10.**3.);#  in ohm\n",
      "print '%s %.2f' %(\"The value of R_E in ohm is\",R_E);\n",
      "#  Formula S = (1+bita)*( (1 + (R_B/R_E))/( (1+bita) + (R_B/R_E) ) ) or\n",
      "R_B= (1+bita)*(1-S)*R_E/(S-1-bita);#  in ohm\n",
      "#  But R_B= R1 || R2= R1*R2/(R1+R2) => R2/(R1+R2)= R_B/R1           (i)\n",
      "#  Calculation of R1 and R2 : \n",
      "V_BE= 0.2;#  in V\n",
      "#  Applying KVL to input loop, \n",
      "V_R2= V_BE+(I_C+I_B)*10.**-3.*R_E;#  in V\n",
      "#  But V_R2= R2*V_CC/(R1+R2) =>  R2/(R1+R2)= V_R2/V_CC          (ii)\n",
      "#  On comparing eq (i) and (ii)\n",
      "R1= R_B*V_CC/V_R2;#  in ohm\n",
      "R2= R1*V_R2/(V_CC-V_R2);#  in ohm\n",
      "R1= R1*10**-3;#  in k ohm\n",
      "R2= R2*10**-3;#  in k ohm\n",
      "print '%s %.2f' %(\"The value of R1 in k ohm is : \",R1)\n",
      "print '%s %.2f' %(\"The value of R2 in k ohm is : \",R2)\n",
      "#  Effect of Reducing S or 3 : \n",
      "S=3;\n",
      "#  Formula S = (1+bita)*( (1 + (R_B/R_E))/( (1+bita) + (R_B/R_E) ) ) or\n",
      "R_B= (1+bita)*(1-S)*R_E/(S-1-bita);#  in ohm\n",
      "R_B= R_B*10**-3;#  in k ohm\n",
      "print '%s %.2f' %(\"When S<=3, the value of R_B in k ohm is : \",R_B)\n",
      "print '%s' %(\"Thus S is reduced below 3 at the cost of reduction of it's input impedance\")\n"
     ],
     "language": "python",
     "metadata": {},
     "outputs": [
      {
       "output_type": "stream",
       "stream": "stdout",
       "text": [
        "The value of R_E in ohm is 490.00\n",
        "The value of R1 in k ohm is :  49.89\n",
        "The value of R2 in k ohm is :  6.16\n",
        "When S<=3, the value of R_B in k ohm is :  1.04\n",
        "Thus S is reduced below 3 at the cost of reduction of it's input impedance\n"
       ]
      }
     ],
     "prompt_number": 20
    }
   ],
   "metadata": {}
  }
 ]
}