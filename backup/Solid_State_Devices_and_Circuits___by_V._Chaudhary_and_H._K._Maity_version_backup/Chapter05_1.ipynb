{
 "metadata": {
  "name": "",
  "signature": "sha256:bc301ad6165c1272098ace3d8ce3c4396922f7ca604b7a15f4ec7430d3e672ac"
 },
 "nbformat": 3,
 "nbformat_minor": 0,
 "worksheets": [
  {
   "cells": [
    {
     "cell_type": "heading",
     "level": 1,
     "metadata": {},
     "source": [
      "CHAPTER 05 - BJT AT HIGH FREQUENCY"
     ]
    },
    {
     "cell_type": "heading",
     "level": 2,
     "metadata": {},
     "source": [
      "Example E01 - Pg 139"
     ]
    },
    {
     "cell_type": "code",
     "collapsed": false,
     "input": [
      "#  Exa 5.1\n",
      "#  Given data\n",
      "import math\n",
      "I_C = 2.;#  in mA\n",
      "I_C =I_C * 10.**-3.;#  in A\n",
      "V_CEQ = 20.;#  in V\n",
      "h_fe = 100.;\n",
      "I_BQ = 20.;#  in uA\n",
      "I_BQ = I_BQ * 10.**-6.;#  in A\n",
      "Beta = 100.;\n",
      "f_T = 50.;#  in MHz\n",
      "f_T = f_T * 10.**6.;#  in Hz\n",
      "Cob = 3.;#  in pF\n",
      "Cob = Cob * 10.**-12.;#  in F\n",
      "h_ie = 1400.;#  in ohm\n",
      "T = 300.;#  in K\n",
      "#  (i) Transconductance\n",
      "g_m = 11600.*(I_C/T);#  in S\n",
      "g_m=g_m*10.**6.;#  in uS\n",
      "print '%s %.2e' %(\"The transconductance in uS is\",g_m);\n",
      "#  (ii) Input resistance\n",
      "g_m=g_m*10.**-6.;#  in S\n",
      "r_be = h_fe/g_m; # in ohm \n",
      "print '%s %.2f' %(\"The input resistance in ohm is\",r_be);\n",
      "#  (iii) Capacitance\n",
      "Cbc = Cob ;#  in F\n",
      "Cbe = g_m/(2.*math.pi*f_T)-Cbc;#  in F \n",
      "Cbe= round(Cbe*10.**12.);#  in pF\n",
      "print '%s %.2f' %(\"The capacitance in pF is\",Cbe);\n",
      "#  (iv) Base Spreading Resistance\n",
      "r_bb = round(h_ie - r_be);#  in ohm\n",
      "print '%s %.2f' %(\"The base spreading resistance in ohm is\",r_bb);\n"
     ],
     "language": "python",
     "metadata": {},
     "outputs": [
      {
       "output_type": "stream",
       "stream": "stdout",
       "text": [
        "The transconductance in uS is 7.73e+04\n",
        "The input resistance in ohm is 1293.10\n",
        "The capacitance in pF is 243.00\n",
        "The base spreading resistance in ohm is 107.00\n"
       ]
      }
     ],
     "prompt_number": 1
    },
    {
     "cell_type": "heading",
     "level": 2,
     "metadata": {},
     "source": [
      "Example E02 - Pg 141"
     ]
    },
    {
     "cell_type": "code",
     "collapsed": false,
     "input": [
      "#  Exa 5.2\n",
      "#  Given data\n",
      "import math\n",
      "I_C = 10.;#  in mA\n",
      "I_C =I_C * 10.**-3.;#  in A\n",
      "V_CE = 10.;#  in V\n",
      "V_T= 26.*10.**-3.;#  in V\n",
      "h_ie = 500.;#  in ohm\n",
      "h_oe = 4.*10.**-5.;#  in S\n",
      "h_fe  = 100.;\n",
      "g_be = 1./260.;\n",
      "h_re = 10.**-4.;\n",
      "f_T = 50.;#  in MHz\n",
      "f_T = f_T * 10.**6.;#  in Hz\n",
      "T = 300.;#  in K\n",
      "Cob =3.;#  in pF\n",
      "Cob = Cob * 10.**-12.;#  in F\n",
      "#  (i) Transconductance\n",
      "g_m = I_C/V_T;#  in A/V\n",
      "g_m= round(g_m*10.**3.);#  in mA/V\n",
      "print '%s %.2f' %(\"The Transconductance in mA/V is\",g_m);\n",
      "#  (ii) Input resistance\n",
      "g_m= g_m*10.**-3.;#  in A/V\n",
      "r_be = round(h_fe/g_m);#  in ohm\n",
      "print '%s %.2f' %(\"The input resistance in ohm is\",r_be);\n",
      "#  (iii) Base spreading resistance \n",
      "r_bb = h_ie - r_be;#  in ohm\n",
      "print '%s %.2f' %(\"The base spreading resistance in ohm is\",r_bb);\n",
      "#  (iv) The feedback conductance \n",
      "g_bc = h_re*g_be;\n",
      "print '%s %.2e' %(\"The feedback conductance is\",g_bc);\n",
      "#  (v) The output conductance \n",
      "g_ce = h_oe - (1.+h_fe)*g_bc\n",
      "print '%s %.2e' %(\"The output conductance is : \",g_ce)\n",
      "#  (vi) Capacitance\n",
      "Cbe= g_m/(2.*math.pi*f_T);#  in F\n",
      "Cbe= Cbe*10.**12.;#  in pF\n",
      "print '%s %.2f' %(\"The value of C_b''e in pF is : \",Cbe)\n",
      "Cc= Cob;#  in F\n",
      "Cc= Cc*10.**12.\n",
      "print '%s %.2f' %(\"The value of Cc in pF is : \",Cc)\n"
     ],
     "language": "python",
     "metadata": {},
     "outputs": [
      {
       "output_type": "stream",
       "stream": "stdout",
       "text": [
        "The Transconductance in mA/V is 385.00\n",
        "The input resistance in ohm is 260.00\n",
        "The base spreading resistance in ohm is 240.00\n",
        "The feedback conductance is 3.85e-07\n",
        "The output conductance is :  1.15e-06\n",
        "The value of C_b''e in pF is :  1225.49\n",
        "The value of Cc in pF is :  3.00\n"
       ]
      }
     ],
     "prompt_number": 2
    },
    {
     "cell_type": "heading",
     "level": 2,
     "metadata": {},
     "source": [
      "Example E03 - Pg 142"
     ]
    },
    {
     "cell_type": "code",
     "collapsed": false,
     "input": [
      "#  Exa 5.3\n",
      "#  Given data\n",
      "import math\n",
      "W = 10.**-6.;#  in m\n",
      "I_E =2.;#  in mA\n",
      "I_E = I_E * 10.**-3.;#  in A\n",
      "V_T = 26.;#  in mV\n",
      "V_T = V_T * 10.**-3.;#  in V\n",
      "D_B = 47.*10.**-4.;\n",
      "# g_m = abs(I_C)/V_T = abs(I_E)/V_T;\n",
      "#  The emitter diffusion capacitance, Cbe = g_m*((W**2)/(2*D_B));\n",
      "Cbe = I_E/V_T*W**2./(2.*D_B);#  F\n",
      "Cbe= Cbe*10.**12.;#  in pF\n",
      "print '%s %.2f' %(\"The emitter diffusion capacitance in pF is\",Cbe);\n",
      "Cbe= Cbe*10.**-12.;#  in F\n",
      "g_m = abs(I_E)/V_T;\n",
      "#  The transition frequency \n",
      "f_T = g_m/(2*math.pi*Cbe);#  in Hz\n",
      "f_T = f_T * 10.**-6.;#  in MHz\n",
      "print '%s %.2f' %(\"The transition frequency in MHz is\",f_T);\n",
      "\n",
      "#  Note: The answer in the book is not accurate.\n"
     ],
     "language": "python",
     "metadata": {},
     "outputs": [
      {
       "output_type": "stream",
       "stream": "stdout",
       "text": [
        "The emitter diffusion capacitance in pF is 8.18\n",
        "The transition frequency in MHz is 1496.06\n"
       ]
      }
     ],
     "prompt_number": 3
    },
    {
     "cell_type": "heading",
     "level": 2,
     "metadata": {},
     "source": [
      "Example E04 - Pg 145"
     ]
    },
    {
     "cell_type": "code",
     "collapsed": false,
     "input": [
      "#  Exa 5.4\n",
      "import math\n",
      "I_CQ = 5.;#  in mA\n",
      "I_CQ = I_CQ * 10.**-3.;#  in A\n",
      "V_VEQ = 10.;#  in V\n",
      "h_ie = 600.;#  in ohm\n",
      "h_fe = 100.;\n",
      "C_C = 3.;#  in pF\n",
      "C_C = C_C * 10.**-12.;#  in F\n",
      "Ai = 10.;#  Ai(f)\n",
      "f = 10.;#  in MHz\n",
      "#  Ai = h_fe/( sqrt( 1 + ((f/f_Beta)**2) ) );\n",
      "f_Beta = f/(math.sqrt( ((h_fe/Ai)**2.) - 1. ));#  in MHz\n",
      "print '%s %.2f' %(\"The Beta cut off frequency in MHz is\",f_Beta);\n",
      "f_T = h_fe*f_Beta;#  in MHz\n",
      "print '%s %.2f' %(\"The gain bandwidth product in MHz is\",f_T);\n",
      "g_m = 0.1923;\n",
      "Ce = g_m/(2*math.pi*f_T*10.**6.);#  in F\n",
      "print '%s %.2f' %(\"The value of Ce in F is\",Ce);\n",
      "Cbe= Ce;#  in F\n",
      "print '%s %.2e' %(\"The value of C_b''e in pF is : \",Cbe*10.**12)\n",
      "r_be = h_fe/g_m;#  in ohm\n",
      "print '%s %.2f' %(\"The value of r_b''e in ohm is\",r_be);\n",
      "r_bb = h_ie - r_be;#  in ohm\n",
      "print '%s %.2f' %(\"The value of r_bb'' in ohm is\",r_bb);\n"
     ],
     "language": "python",
     "metadata": {},
     "outputs": [
      {
       "output_type": "stream",
       "stream": "stdout",
       "text": [
        "The Beta cut off frequency in MHz is 1.01\n",
        "The gain bandwidth product in MHz is 100.50\n",
        "The value of Ce in F is 0.00\n",
        "The value of C_b''e in pF is :  3.05e+02\n",
        "The value of r_b''e in ohm is 520.02\n",
        "The value of r_bb'' in ohm is 79.98\n"
       ]
      }
     ],
     "prompt_number": 4
    },
    {
     "cell_type": "heading",
     "level": 2,
     "metadata": {},
     "source": [
      "Example E05 - Pg 146"
     ]
    },
    {
     "cell_type": "code",
     "collapsed": false,
     "input": [
      "#  Exa 5.5\n",
      "#  Given data\n",
      "import math \n",
      "f_T = 400.;#  in MHz\n",
      "D_Beta = 13.;#  in cm**2/sec\n",
      "# Ce = (g_m*(W**2))/(2*D_B), so\n",
      "# f_T = (g_m/(2*%pi))*( (2*D_B)/(g_m*(W**2)) ) = D_B/(%pi*(W**2));\n",
      "W = math.sqrt( D_Beta/(math.pi*f_T*10.**6.) );#  in cm\n",
      "W = W * 10.**4.;#  in um\n",
      "print '%s %.2f' %(\"The base width of silicon transistor in um is\",W);\n"
     ],
     "language": "python",
     "metadata": {},
     "outputs": [
      {
       "output_type": "stream",
       "stream": "stdout",
       "text": [
        "The base width of silicon transistor in um is 1.02\n"
       ]
      }
     ],
     "prompt_number": 5
    },
    {
     "cell_type": "heading",
     "level": 2,
     "metadata": {},
     "source": [
      "Example E06 - Pg 147"
     ]
    },
    {
     "cell_type": "code",
     "collapsed": false,
     "input": [
      "#Exa 5.6 clc;\n",
      "#  Given data\n",
      "import math \n",
      "D_B = 47.;#  in cm**2/sec\n",
      "I_C = 2.;#  in mA\n",
      "I_C = I_C * 10.**-3.;#  in A\n",
      "V_CEQ = 15.;#  in V\n",
      "W = 1.;#  in um\n",
      "W = W * 10.**-4.;#  in cm\n",
      "V_T = 0.026;#  in V\n",
      "g_m =I_C/(abs(V_T));#  in ohm\n",
      "Ce = (g_m*(W**2.))/(2.*D_B);#  in F\n",
      "Ce = Ce * 10.**12.;#  in pF\n",
      "print '%s %.2f' %(\"The value of Ce in pF is\",Ce);\n",
      "f_T = g_m/(2.*math.pi*Ce*10.**-12.);#  in Hz\n",
      "f_T = f_T * 10.**-6.;#  in MHz\n",
      "print '%s %.2f' %(\"The value of f_T in MHz is\",f_T);\n"
     ],
     "language": "python",
     "metadata": {},
     "outputs": [
      {
       "output_type": "stream",
       "stream": "stdout",
       "text": [
        "The value of Ce in pF is 8.18\n",
        "The value of f_T in MHz is 1496.06\n"
       ]
      }
     ],
     "prompt_number": 6
    }
   ],
   "metadata": {}
  }
 ]
}