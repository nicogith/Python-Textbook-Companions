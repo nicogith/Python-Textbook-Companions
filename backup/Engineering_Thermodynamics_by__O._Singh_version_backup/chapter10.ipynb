{
 "cells": [
  {
   "cell_type": "markdown",
   "metadata": {},
   "source": [
    "# Chapter 10:Intoduction to Internal Combustion engines"
   ]
  },
  {
   "cell_type": "markdown",
   "metadata": {},
   "source": [
    "##example 10.1;pg no: 387"
   ]
  },
  {
   "cell_type": "code",
   "execution_count": 1,
   "metadata": {
    "collapsed": false
   },
   "outputs": [
    {
     "name": "stdout",
     "output_type": "stream",
     "text": [
      "Example 10.1, Page:387  \n",
      " \n",
      "\n",
      "Engineering Thermodynamics by Onkar Singh Chapter 10 Example 1\n",
      "from stroke to bore ratio i.e L/D=1.2 and cylinder diameter=bore,i.e D=12 cm\n",
      "stroke(L)=1.2*D in m\n",
      "Area of indicator diagram(A)=30*10^-4 m^2\n",
      "length of indicator diagram(l)=(1/2)*L in m\n",
      "mean effective pressure(mep)=A*k/l in N/m^2\n",
      "cross-section area of piston(Ap)=%pi*D^2/4 in m^2\n",
      "for one cylinder indicated power(IP)=mep*Ap*L*N/(2*60) in W\n",
      "for four cylinder total indicated power(IP)=4*IP in W 90477.87\n",
      "frictional power loss(FP)=0.10*IP in W\n",
      "brake power available(BP)=indicated power-frictional power=IP-FP in W 81430.08\n",
      "therefore,mechanical efficiency of engine(n)=brake power/indicated power=BP/IP= 0.9\n",
      "in percentage 90.0\n",
      "so indicated power=90477.8 W\n",
      "and mechanical efficiency=90%\n"
     ]
    }
   ],
   "source": [
    "#cal of indicated power,,mechanical efficiency\n",
    "#intiation of all variables\n",
    "# Chapter 9\n",
    "import math\n",
    "print\"Example 10.1, Page:387  \\n \\n\"\n",
    "print(\"Engineering Thermodynamics by Onkar Singh Chapter 10 Example 1\")\n",
    "k=20.*10**6;#spring constant in N/m^2\n",
    "N=2000.;#engine rpm\n",
    "print(\"from stroke to bore ratio i.e L/D=1.2 and cylinder diameter=bore,i.e D=12 cm\")\n",
    "D=12.*10**-2;#cylinder diameter in m\n",
    "print(\"stroke(L)=1.2*D in m\")\n",
    "L=1.2*D\n",
    "print(\"Area of indicator diagram(A)=30*10^-4 m^2\")\n",
    "A=30.*10**-4;\n",
    "print(\"length of indicator diagram(l)=(1/2)*L in m\")\n",
    "l=(1./2.)*L\n",
    "print(\"mean effective pressure(mep)=A*k/l in N/m^2\")\n",
    "mep=A*k/l\n",
    "print(\"cross-section area of piston(Ap)=%pi*D^2/4 in m^2\")\n",
    "Ap=math.pi*D**2./4.\n",
    "print(\"for one cylinder indicated power(IP)=mep*Ap*L*N/(2*60) in W\")\n",
    "IP=mep*Ap*L*N/(2.*60.)\n",
    "IP=4.*IP\n",
    "print(\"for four cylinder total indicated power(IP)=4*IP in W\"),round(IP,2)\n",
    "print(\"frictional power loss(FP)=0.10*IP in W\")\n",
    "FP=0.10*IP\n",
    "BP=IP-FP\n",
    "print(\"brake power available(BP)=indicated power-frictional power=IP-FP in W\"),round(BP,2)\n",
    "n=BP/IP\n",
    "print(\"therefore,mechanical efficiency of engine(n)=brake power/indicated power=BP/IP=\"),round(BP/IP,2)\n",
    "print(\"in percentage\"),round(n*100,2)\n",
    "print(\"so indicated power=90477.8 W\")\n",
    "print(\"and mechanical efficiency=90%\")\n"
   ]
  },
  {
   "cell_type": "markdown",
   "metadata": {},
   "source": [
    "##example 10.2;pg no: 388"
   ]
  },
  {
   "cell_type": "code",
   "execution_count": 2,
   "metadata": {
    "collapsed": false
   },
   "outputs": [
    {
     "name": "stdout",
     "output_type": "stream",
     "text": [
      "Example 10.2, Page:388  \n",
      " \n",
      "\n",
      "Engineering Thermodynamics by Onkar Singh Chapter 10 Example 2\n",
      "reciprocating pump is work absorbing machine having its mechanism similar to the piston-cylinder arrangement in IC engine.\n",
      "mean effective pressure(mep)=A*k/l in pa\n",
      "indicator power(IP)=Ap*L*mep*N*1*2/60 in W\n",
      "(it is double acting so let us assume total power to be double of that in single acting) 88357.29\n",
      "so power required to drive=88.36 KW\n"
     ]
    }
   ],
   "source": [
    "#cal of power required to drive\n",
    "#intiation of all variables\n",
    "# Chapter 10\n",
    "import math\n",
    "print\"Example 10.2, Page:388  \\n \\n\"\n",
    "print(\"Engineering Thermodynamics by Onkar Singh Chapter 10 Example 2\")\n",
    "A=40*10**-4;#area of indicator diagram in m^2\n",
    "l=8*10**-2;#length of indicator diagram in m\n",
    "D=15*10**-2;#bore of cylinder in m\n",
    "L=20*10**-2;#stroke in m\n",
    "k=1.5*10**8;#spring constant in pa/m\n",
    "N=100;#pump motor rpm\n",
    "print(\"reciprocating pump is work absorbing machine having its mechanism similar to the piston-cylinder arrangement in IC engine.\")\n",
    "print(\"mean effective pressure(mep)=A*k/l in pa\")\n",
    "mep=A*k/l \n",
    "print(\"indicator power(IP)=Ap*L*mep*N*1*2/60 in W\")\n",
    "Ap=math.pi*D**2/4\n",
    "IP=Ap*L*mep*N*2/60\n",
    "print(\"(it is double acting so let us assume total power to be double of that in single acting)\"),round(IP,2)\n",
    "print(\"so power required to drive=88.36 KW\")\n"
   ]
  },
  {
   "cell_type": "markdown",
   "metadata": {},
   "source": [
    "##example 10.3;pg no: 388"
   ]
  },
  {
   "cell_type": "code",
   "execution_count": 3,
   "metadata": {
    "collapsed": false
   },
   "outputs": [
    {
     "name": "stdout",
     "output_type": "stream",
     "text": [
      "Example 10.3, Page:388  \n",
      " \n",
      "\n",
      "Engineering Thermodynamics by Onkar Singh Chapter 10 Example 3\n",
      "indicated power(IP)=brake power/mechanical efficiency in KW= 42.22\n",
      "frictional power loss(FP)=IP-BP in KW 4.22\n",
      "brake power at quater load(BPq)=0.25*BP in KW\n",
      "mechanical efficiency(n1)=BPq/IP 0.69\n",
      "in percentage 69.23\n",
      "so indicated power=42.22 KW\n",
      "frictional power loss=4.22 KW\n",
      "mechanical efficiency=69.24%\n"
     ]
    }
   ],
   "source": [
    "#cal of indicated power,frictional power loss,mechanical efficiency\n",
    "#intiation of all variables\n",
    "# Chapter 10\n",
    "print\"Example 10.3, Page:388  \\n \\n\"\n",
    "print(\"Engineering Thermodynamics by Onkar Singh Chapter 10 Example 3\")\n",
    "n=0.9;#mechanical efficiency of engine\n",
    "BP=38;#brake power in KW\n",
    "IP=BP/n\n",
    "print(\"indicated power(IP)=brake power/mechanical efficiency in KW=\"),round(IP,2)\n",
    "FP=IP-BP\n",
    "print(\"frictional power loss(FP)=IP-BP in KW\"),round(FP,2)\n",
    "print(\"brake power at quater load(BPq)=0.25*BP in KW\")\n",
    "BPq=0.25*BP\n",
    "IP=BPq+FP;\n",
    "n1=BPq/IP\n",
    "print(\"mechanical efficiency(n1)=BPq/IP\"),round(n1,2)\n",
    "print(\"in percentage\"),round(n1*100,2)\n",
    "print(\"so indicated power=42.22 KW\")\n",
    "print(\"frictional power loss=4.22 KW\")\n",
    "print(\"mechanical efficiency=69.24%\")\n"
   ]
  },
  {
   "cell_type": "markdown",
   "metadata": {},
   "source": [
    "##example 10.4;pg no: 389"
   ]
  },
  {
   "cell_type": "code",
   "execution_count": 4,
   "metadata": {
    "collapsed": false
   },
   "outputs": [
    {
     "name": "stdout",
     "output_type": "stream",
     "text": [
      "Example 10.4, Page:389  \n",
      " \n",
      "\n",
      "Engineering Thermodynamics by Onkar Singh Chapter 10 Example 4\n",
      "brake power of engine(BP) in MW= 3120.98\n",
      "so brake power is 3.121 MW\n",
      "The fuel consumption in kg/hr(m)=m*BP in kg/hr\n",
      "In order to find out brake thermal efficiency the heat input from fuel per second is required.\n",
      "heat from fuel(Q)in KJ/s\n",
      "Q=m*C/3600\n",
      "energy to brake power=3120.97 KW\n",
      "brake thermal efficiency(n)= 0.33\n",
      "in percentage 33.49\n",
      "so fuel consumption=780.24 kg/hr,brake thermal efficiency=33.49%\n",
      "NOTE=>In book,it is given that brake power in MW is 31.21 but in actual it is 3120.97 KW or 3.121 MW which is corrected above.\n"
     ]
    }
   ],
   "source": [
    "#cal of brake power,fuel consumption\n",
    "#intiation of all variables\n",
    "# Chapter 10\n",
    "import math\n",
    "print\"Example 10.4, Page:389  \\n \\n\"\n",
    "print(\"Engineering Thermodynamics by Onkar Singh Chapter 10 Example 4\")\n",
    "m=0.25;#specific fuel consumption in kg/KWh\n",
    "Pb_mep=1.5*1000;#brake mean effective pressure of each cylinder in Kpa\n",
    "N=100;#engine rpm\n",
    "D=85*10**-2;#bore of cylinder in m\n",
    "L=220*10**-2;#stroke in m\n",
    "C=43*10**3;#calorific value of diesel in KJ/kg\n",
    "A=math.pi*D**2/4;\n",
    "BP=Pb_mep*L*A*N/60\n",
    "print(\"brake power of engine(BP) in MW=\"),round(BP,2)\n",
    "print(\"so brake power is 3.121 MW\")\n",
    "print(\"The fuel consumption in kg/hr(m)=m*BP in kg/hr\")\n",
    "m=m*BP\n",
    "print(\"In order to find out brake thermal efficiency the heat input from fuel per second is required.\")\n",
    "print(\"heat from fuel(Q)in KJ/s\")\n",
    "print(\"Q=m*C/3600\")\n",
    "Q=m*C/3600\n",
    "print(\"energy to brake power=3120.97 KW\")\n",
    "n=BP/Q\n",
    "print(\"brake thermal efficiency(n)=\"),round(n,2)\n",
    "print(\"in percentage\"),round(n*100,2)\n",
    "print(\"so fuel consumption=780.24 kg/hr,brake thermal efficiency=33.49%\")\n",
    "print(\"NOTE=>In book,it is given that brake power in MW is 31.21 but in actual it is 3120.97 KW or 3.121 MW which is corrected above.\")\n"
   ]
  },
  {
   "cell_type": "markdown",
   "metadata": {},
   "source": [
    "##example 10.5;pg no: 389"
   ]
  },
  {
   "cell_type": "code",
   "execution_count": 5,
   "metadata": {
    "collapsed": false
   },
   "outputs": [
    {
     "name": "stdout",
     "output_type": "stream",
     "text": [
      "Example 10.5, Page:389  \n",
      " \n",
      "\n",
      "Engineering Thermodynamics by Onkar Singh Chapter 10 Example 5\n",
      "brake thermal efficiency(n)=3600/(m*C) 0.33\n",
      "in percentage 33.49\n",
      "brake power(BP)in KW\n",
      "BP= 226.19\n",
      "brake specific fuel consumption,m=mf/BP\n",
      "so mf=m*BP in kg/hr\n",
      "air consumption(ma)from given air fuel ratio=k*mf in kg/hr\n",
      "ma in kg/min\n",
      "using perfect gas equation,\n",
      "P*Va=ma*R*T\n",
      "sa Va=ma*R*T/P in m^3/min\n",
      "swept volume(Vs)=%pi*D^2*L/4 in m^3\n",
      "volumetric efficiency,n_vol=Va/(Vs*(N/2)*no. of cylinder) 1.87\n",
      "in percentage 186.55\n",
      "NOTE=>In this question,while calculating swept volume in book,values of D=0.30 m and L=0.4 m is taken which is wrong.Hence above solution is solve taking right values given in book which is D=0.20 m and L=0.3 m,so the volumetric efficiency vary accordingly.\n"
     ]
    }
   ],
   "source": [
    "#cal of brake thermal efficiency,brake power,volumetric efficiency\n",
    "#intiation of all variables\n",
    "# Chapter 10\n",
    "import math\n",
    "print\"Example 10.5, Page:389  \\n \\n\"\n",
    "print(\"Engineering Thermodynamics by Onkar Singh Chapter 10 Example 5\")\n",
    "Pb_mep=6*10**5;#brake mean effective pressure in pa\n",
    "N=600;#engine rpm\n",
    "m=0.25;#specific fuel consumption in kg/KWh\n",
    "D=20*10**-2;#bore of cylinder in m\n",
    "L=30*10**-2;#stroke in m\n",
    "k=26;#air to fuel ratio\n",
    "C=43*10**3;#calorific value in KJ/kg\n",
    "R=0.287;#gas constant in KJ/kg K\n",
    "T=(27+273);#ambient temperature in K\n",
    "P=1*10**2;#ambient pressure in Kpa\n",
    "n=3600/(m*C)\n",
    "print(\"brake thermal efficiency(n)=3600/(m*C)\"),round(n,2)\n",
    "print(\"in percentage\"),round(n*100,2)\n",
    "print(\"brake power(BP)in KW\")\n",
    "A=math.pi*D**2/4;\n",
    "BP=4*Pb_mep*L*A*N/60000\n",
    "print(\"BP=\"),round(BP,2)\n",
    "print(\"brake specific fuel consumption,m=mf/BP\")\n",
    "print(\"so mf=m*BP in kg/hr\")\n",
    "mf=m*BP\n",
    "print(\"air consumption(ma)from given air fuel ratio=k*mf in kg/hr\")\n",
    "ma=k*mf\n",
    "print(\"ma in kg/min\")\n",
    "ma=ma/60\n",
    "print(\"using perfect gas equation,\")\n",
    "print(\"P*Va=ma*R*T\")\n",
    "print(\"sa Va=ma*R*T/P in m^3/min\")\n",
    "Va=ma*R*T/P\n",
    "print(\"swept volume(Vs)=%pi*D^2*L/4 in m^3\")\n",
    "Vs=math.pi*D**2*L/4\n",
    "n_vol=Va/(Vs*(N/2)*4)\n",
    "print(\"volumetric efficiency,n_vol=Va/(Vs*(N/2)*no. of cylinder)\"),round(n_vol,2)\n",
    "print(\"in percentage\"),round(n_vol*100,2)\n",
    "print(\"NOTE=>In this question,while calculating swept volume in book,values of D=0.30 m and L=0.4 m is taken which is wrong.Hence above solution is solve taking right values given in book which is D=0.20 m and L=0.3 m,so the volumetric efficiency vary accordingly.\")\n"
   ]
  },
  {
   "cell_type": "markdown",
   "metadata": {},
   "source": [
    "##example 10.6;pg no: 390"
   ]
  },
  {
   "cell_type": "code",
   "execution_count": 6,
   "metadata": {
    "collapsed": false
   },
   "outputs": [
    {
     "name": "stdout",
     "output_type": "stream",
     "text": [
      "Example 10.6, Page:390  \n",
      " \n",
      "\n",
      "Engineering Thermodynamics by Onkar Singh Chapter 10 Example 6\n",
      "let the bore diameter be (D) m\n",
      "piston speed(V)=2*L*N\n",
      "so L=V/(2*N) in m\n",
      "volumetric efficiency,n_vol=air sucked/(swept volume * no. of cylinder)\n",
      "so air sucked/D^2=n_vol*(%pi*L/4)*N*2 in m^3/min\n",
      "so air sucked =274.78*D^2 m^3/min\n",
      "air requirement(ma),kg/min=A/F ratio*fuel consumption per min\n",
      "so ma=r*m in kg/min\n",
      "using perfect gas equation,P*Va=ma*R*T\n",
      "so Va=ma*R*T/P in m^3/min\n",
      "ideally,air sucked=Va\n",
      "so 274.78*D^2=0.906\n",
      "D=sqrt(0.906/274.78) in m\n",
      "indicated power(IP)=P_imep*L*A*N*no.of cylinders in KW\n",
      "brake power=indicated power*mechanical efficiency\n",
      "BP=IP*n_mech in KW 10.35\n",
      "so brake power=10.34 KW\n"
     ]
    }
   ],
   "source": [
    "#cal of brake power\n",
    "#intiation of all variables\n",
    "# Chapter 9\n",
    "import math\n",
    "print\"Example 10.6, Page:390  \\n \\n\"\n",
    "print(\"Engineering Thermodynamics by Onkar Singh Chapter 10 Example 6\")\n",
    "N=3000;#engine rpm\n",
    "m=5;#fuel consumption in litre/hr\n",
    "r=19;#air-fuel ratio\n",
    "sg=0.7;#specific gravity of fuel\n",
    "V=500;#piston speed in m/min\n",
    "P_imep=6*10**5;#indicated mean effective pressure in pa\n",
    "P=1.013*10**5;#ambient pressure in pa\n",
    "T=(15+273);#ambient temperature in K\n",
    "n_vol=0.7;#volumetric efficiency \n",
    "n_mech=0.8;#mechanical efficiency\n",
    "R=0.287;#gas constant for gas in KJ/kg K\n",
    "print(\"let the bore diameter be (D) m\")\n",
    "print(\"piston speed(V)=2*L*N\")\n",
    "print(\"so L=V/(2*N) in m\")\n",
    "L=V/(2*N)\n",
    "L=0.0833;#approx.\n",
    "print(\"volumetric efficiency,n_vol=air sucked/(swept volume * no. of cylinder)\")\n",
    "print(\"so air sucked/D^2=n_vol*(%pi*L/4)*N*2 in m^3/min\")\n",
    "n_vol*(math.pi*L/4)*N*2\n",
    "print(\"so air sucked =274.78*D^2 m^3/min\")\n",
    "print(\"air requirement(ma),kg/min=A/F ratio*fuel consumption per min\")\n",
    "print(\"so ma=r*m in kg/min\")\n",
    "ma=r*m*sg/60\n",
    "print(\"using perfect gas equation,P*Va=ma*R*T\")\n",
    "print(\"so Va=ma*R*T/P in m^3/min\")\n",
    "Va=ma*R*T*1000/P \n",
    "print(\"ideally,air sucked=Va\")\n",
    "print(\"so 274.78*D^2=0.906\")\n",
    "print(\"D=sqrt(0.906/274.78) in m\")\n",
    "D=math.sqrt(0.906/274.78) \n",
    "print(\"indicated power(IP)=P_imep*L*A*N*no.of cylinders in KW\")\n",
    "IP=P_imep*L*(math.pi*D**2/4)*(N/60)*2/1000\n",
    "print(\"brake power=indicated power*mechanical efficiency\")\n",
    "BP=IP*n_mech \n",
    "print(\"BP=IP*n_mech in KW\"),round(BP,2)\n",
    "print(\"so brake power=10.34 KW\")"
   ]
  },
  {
   "cell_type": "markdown",
   "metadata": {},
   "source": [
    "##example 10.7;pg no: 391"
   ]
  },
  {
   "cell_type": "code",
   "execution_count": 7,
   "metadata": {
    "collapsed": false
   },
   "outputs": [
    {
     "name": "stdout",
     "output_type": "stream",
     "text": [
      "Example 10.7, Page:391  \n",
      " \n",
      "\n",
      "Engineering Thermodynamics by Onkar Singh Chapter 10 Example 7\n",
      "After switching off fuel supply the capacity of motor required to run engine will be the friction power required at this speed of engine.\n",
      "friction power(FP)=5 KW\n",
      "brake power(BP) in KW= 30.82\n",
      "indicated power(IP) in KW= 35.82\n",
      "mechanical efficiency(n_mech)= 0.86\n",
      "in percentage 86.04\n",
      "brake specific fuel consumption(bsfc)=specific fuel consumption/brake power in kg/KW hr= 0.29\n",
      "brake thermal efficiency(n_bte)= 0.29\n",
      "in percentage 28.67\n",
      "also,mechanical efficiency(n_mech)=brake thermal efficiency/indicated thermal efficiency\n",
      "indicated thermal efficiency(n_ite)= 0.33\n",
      "in percentage 33.32\n",
      "indicated power(IP)=P_imep*L*A*N\n",
      "so P_imep in Kpa= 76.01\n",
      "Also,mechanical efficiency=P_bmep/P_imep\n",
      "so P_bmep in Kpa= 65.4\n",
      "brake power=30.82 KW\n",
      "indicated power=35.82 KW\n",
      "mechanical efficiency=86.04%\n",
      "brake thermal efficiency=28.67%\n",
      "indicated thermal efficiency=33.32%\n",
      "brake mean effective pressure=65.39 Kpa\n",
      "indicated mean effective pressure=76.01 Kpa\n"
     ]
    }
   ],
   "source": [
    "#cal of power and efficiency\n",
    "#intiation of all variables\n",
    "# Chapter 10\n",
    "import math\n",
    "print\"Example 10.7, Page:391  \\n \\n\"\n",
    "print(\"Engineering Thermodynamics by Onkar Singh Chapter 10 Example 7\")\n",
    "M=20;#load on dynamometer in kg\n",
    "r=50*10**-2;#radius in m\n",
    "N=3000;#speed of rotation in rpm\n",
    "D=20*10**-2;#bore in m\n",
    "L=30*10**-2;#stroke in m\n",
    "m=0.15;#fuel supplying rate in kg/min\n",
    "C=43;#calorific value of fuel in MJ/kg\n",
    "FP=5;#friction power in KW\n",
    "g=9.81;#acceleration due to gravity in m/s^2\n",
    "print(\"After switching off fuel supply the capacity of motor required to run engine will be the friction power required at this speed of engine.\")\n",
    "print(\"friction power(FP)=5 KW\")\n",
    "BP=2*math.pi*N*(M*g*r)*10**-3/60\n",
    "print(\"brake power(BP) in KW=\"),round(BP,2)\n",
    "IP=BP+FP\n",
    "print(\"indicated power(IP) in KW=\"),round(IP,2)\n",
    "n_mech=BP/IP\n",
    "print(\"mechanical efficiency(n_mech)=\"),round(n_mech,2)\n",
    "print(\"in percentage\"),round(n_mech*100,2)\n",
    "bsfc=m*60/BP\n",
    "print(\"brake specific fuel consumption(bsfc)=specific fuel consumption/brake power in kg/KW hr=\"),round(bsfc,2)\n",
    "n_bte=3600/(bsfc*C*1000)\n",
    "print(\"brake thermal efficiency(n_bte)=\"),round(n_bte,2)\n",
    "print(\"in percentage\"),round(n_bte*100,2)\n",
    "print(\"also,mechanical efficiency(n_mech)=brake thermal efficiency/indicated thermal efficiency\")\n",
    "n_ite=n_bte/n_mech\n",
    "print(\"indicated thermal efficiency(n_ite)=\"),round(n_ite,2)\n",
    "print(\"in percentage\"),round(n_ite*100,2)\n",
    "print(\"indicated power(IP)=P_imep*L*A*N\")\n",
    "P_imep=IP/(L*(math.pi*D**2/4)*N/60)\n",
    "print(\"so P_imep in Kpa=\"),round(P_imep,2)\n",
    "print(\"Also,mechanical efficiency=P_bmep/P_imep\")\n",
    "n_mech=0.8604;#mechanical efficiency\n",
    "P_bmep=P_imep*n_mech\n",
    "print(\"so P_bmep in Kpa=\"),round(P_bmep,2)\n",
    "print(\"brake power=30.82 KW\")\n",
    "print(\"indicated power=35.82 KW\")\n",
    "print(\"mechanical efficiency=86.04%\")\n",
    "print(\"brake thermal efficiency=28.67%\")\n",
    "print(\"indicated thermal efficiency=33.32%\")\n",
    "print(\"brake mean effective pressure=65.39 Kpa\")\n",
    "print(\"indicated mean effective pressure=76.01 Kpa\")"
   ]
  },
  {
   "cell_type": "markdown",
   "metadata": {},
   "source": [
    "##example 10.8;pg no: 392"
   ]
  },
  {
   "cell_type": "code",
   "execution_count": 8,
   "metadata": {
    "collapsed": false
   },
   "outputs": [
    {
     "name": "stdout",
     "output_type": "stream",
     "text": [
      "Example 10.8, Page:392  \n",
      " \n",
      "\n",
      "Engineering Thermodynamics by Onkar Singh Chapter 10 Example 8\n",
      "indicated power(IP) in KW= 282.74\n",
      "mechanical efficiency(n_mech)=brake power/indicated power\n",
      "so n_mech= 0.88\n",
      "in percentage  88.42\n",
      "brake specific fuel consumption(bsfc)=m*60/BP in kg/KW hr\n",
      "brake thermal efficiency(n_bte)= 0.35\n",
      "in percentage 34.88\n",
      "swept volume(Vs)=%pi*D^2*L/4 in m^3\n",
      "mass of air corresponding to above swept volume,using perfect gas equation\n",
      "P*Vs=ma*R*T\n",
      "so ma=(P*Vs)/(R*T) in kg\n",
      "volumetric effeciency(n_vol)=mass of air taken per minute/mass corresponding to swept volume per minute\n",
      "so mass of air taken per minute in kg/min \n",
      "mass corresponding to swept volume per minute in kg/min\n",
      "so volumetric efficiency  0.8333\n",
      "in percentage 83.3333\n",
      "so indicated power =282.74 KW,mechanical efficiency=88.42%\n",
      "brake thermal efficiency=34.88%,volumetric efficiency=83.33%\n"
     ]
    }
   ],
   "source": [
    "#cal of brake thermal efficiency,volumetric effeciency\n",
    "#intiation of all variables\n",
    "# Chapter 10\n",
    "import math\n",
    "print\"Example 10.8, Page:392  \\n \\n\"\n",
    "print(\"Engineering Thermodynamics by Onkar Singh Chapter 10 Example 8\")\n",
    "N=300.;#engine rpm\n",
    "BP=250.;#brake power in KW\n",
    "D=30.*10**-2;#bore in m\n",
    "L=25.*10**-2;#stroke in m\n",
    "m=1.;#fuel consumption in kg/min\n",
    "r=10.;#airfuel ratio \n",
    "P_imep=0.8;#indicated mean effective pressure in pa\n",
    "C=43.*10**3;#calorific value of fuel in KJ/kg\n",
    "P=1.013*10**5;#ambient pressure in K\n",
    "R=0.287;#gas constant in KJ/kg K\n",
    "T=(27.+273.);#ambient temperature in K\n",
    "IP=P_imep*L*(math.pi*D**2/4)*N*4*10**3/60\n",
    "print(\"indicated power(IP) in KW=\"),round(IP,2)\n",
    "print(\"mechanical efficiency(n_mech)=brake power/indicated power\")\n",
    "n_mech=BP/IP\n",
    "print(\"so n_mech=\"),round(n_mech,2)\n",
    "print(\"in percentage \"),round(n_mech*100,2)\n",
    "print(\"brake specific fuel consumption(bsfc)=m*60/BP in kg/KW hr\")\n",
    "bsfc=m*60./BP\n",
    "n_bte=3600./(bsfc*C)\n",
    "print(\"brake thermal efficiency(n_bte)=\"),round(n_bte,2)\n",
    "print(\"in percentage\"),round(n_bte*100,2)\n",
    "print(\"swept volume(Vs)=%pi*D^2*L/4 in m^3\")\n",
    "Vs=math.pi*D**2*L/4\n",
    "print(\"mass of air corresponding to above swept volume,using perfect gas equation\")\n",
    "print(\"P*Vs=ma*R*T\")\n",
    "print(\"so ma=(P*Vs)/(R*T) in kg\")\n",
    "ma=(P*Vs)/(R*T*1000) \n",
    "ma=0.02;#approx.\n",
    "print(\"volumetric effeciency(n_vol)=mass of air taken per minute/mass corresponding to swept volume per minute\")\n",
    "print(\"so mass of air taken per minute in kg/min \")\n",
    "1*10\n",
    "print(\"mass corresponding to swept volume per minute in kg/min\")\n",
    "ma*4*N/2\n",
    "print(\"so volumetric efficiency \"),round(10./12.,4)\n",
    "print(\"in percentage\"),round((10./12.)*100.,4)\n",
    "print(\"so indicated power =282.74 KW,mechanical efficiency=88.42%\")\n",
    "print(\"brake thermal efficiency=34.88%,volumetric efficiency=83.33%\")\n"
   ]
  },
  {
   "cell_type": "markdown",
   "metadata": {},
   "source": [
    "##example 10.9;pg no: 393"
   ]
  },
  {
   "cell_type": "code",
   "execution_count": 9,
   "metadata": {
    "collapsed": false
   },
   "outputs": [
    {
     "name": "stdout",
     "output_type": "stream",
     "text": [
      "Example 10.9, Page:393  \n",
      " \n",
      "\n",
      "Engineering Thermodynamics by Onkar Singh Chapter 10 Example 9\n",
      "indicated mean effective pressure(P_imeb)=h*k in Kpa\n",
      "indicated power(IP)=P_imeb*L*A*N/2 in KW 9.375\n",
      "brake power(BP)=2*%pi*N*T in KW 4.62\n",
      "mechanical efficiency(n_mech)= 0.49\n",
      "in percentage 49.31\n",
      "so indicated power=9.375 KW\n",
      "brake power=4.62 KW\n",
      "mechanical efficiency=49.28%\n",
      "energy liberated from fuel(Ef)=C*m/60 in KJ/s\n",
      "energy available as brake power(BP)=4.62 KW\n",
      "energy to coolant(Ec)=(mw/M)*Cw*(T2-T1) in KW\n",
      "energy carried by exhaust gases(Eg)=30 KJ/s\n",
      "unaccounted energy loss in KW= 34.75\n",
      "NOTE=>overall energy balance sheet is attached as jpg file with this code.\n"
     ]
    }
   ],
   "source": [
    "#cal of indicated power,brake power,mechanical efficiency\n",
    "#intiation of all variables\n",
    "# Chapter 10\n",
    "import math\n",
    "print\"Example 10.9, Page:393  \\n \\n\"\n",
    "print(\"Engineering Thermodynamics by Onkar Singh Chapter 10 Example 9\")\n",
    "h=10.;#height of indicator diagram in mm\n",
    "k=25.;#indicator constant in KN/m^2  per mm\n",
    "N=300.;#engine rpm\n",
    "Vs=1.5*10**-2;#swept volume in m^3\n",
    "M=60.;#effective brake load upon dynamometer in kg\n",
    "r=50.*10**-2;#effective brake drum radius in m\n",
    "m=0.12;#fuel consumption in kg/min\n",
    "C=42.*10**3;#calorific value in KJ/kg\n",
    "mw=6.;#circulating water rate in kg/min\n",
    "T1=35.;#cooling water entering temperature in degree celcius\n",
    "T2=70.;#cooling water leaving temperature in degree celcius\n",
    "Eg=30.;#exhaust gases leaving energy in KJ/s\n",
    "Cw=4.18;#specific heat of water in KJ/kg K\n",
    "g=9.81;#accelaration due to gravity in m/s^2\n",
    "print(\"indicated mean effective pressure(P_imeb)=h*k in Kpa\")\n",
    "P_imeb=h*k\n",
    "IP=P_imeb*Vs*N/(2*60)\n",
    "print(\"indicated power(IP)=P_imeb*L*A*N/2 in KW\") ,round(IP,3)\n",
    "BP=2*math.pi*N*(M*g*r*10**-3)/(2*60)\n",
    "print(\"brake power(BP)=2*%pi*N*T in KW\"),round(BP,2)\n",
    "n_mech=BP/IP\n",
    "print(\"mechanical efficiency(n_mech)=\"),round(n_mech,2)\n",
    "print(\"in percentage\"),round(n_mech*100,2)\n",
    "print(\"so indicated power=9.375 KW\")\n",
    "print(\"brake power=4.62 KW\")\n",
    "print(\"mechanical efficiency=49.28%\")\n",
    "print(\"energy liberated from fuel(Ef)=C*m/60 in KJ/s\")\n",
    "Ef=C*m/60\n",
    "print(\"energy available as brake power(BP)=4.62 KW\")\n",
    "print(\"energy to coolant(Ec)=(mw/M)*Cw*(T2-T1) in KW\")\n",
    "Ec=(mw/M)*Cw*(T2-T1)\n",
    "print(\"energy carried by exhaust gases(Eg)=30 KJ/s\")\n",
    "Ef-BP-Ec-Eg\n",
    "print(\"unaccounted energy loss in KW=\"),round(Ef-BP-Ec-Eg,2)\n",
    "print(\"NOTE=>overall energy balance sheet is attached as jpg file with this code.\")\n"
   ]
  },
  {
   "cell_type": "markdown",
   "metadata": {},
   "source": [
    "##example 10.10;pg no: 394"
   ]
  },
  {
   "cell_type": "code",
   "execution_count": 10,
   "metadata": {
    "collapsed": false
   },
   "outputs": [
    {
     "name": "stdout",
     "output_type": "stream",
     "text": [
      "Example 10.10, Page:394  \n",
      " \n",
      "\n",
      "Engineering Thermodynamics by Onkar Singh Chapter 10 Example 10\n",
      "brake power(BP)=2*%pi*N*T in KW 47.12\n",
      "so brake power=47.124 KW\n",
      "brake specific fuel consumption(bsfc) in kg/KW hr= 0.34\n",
      "indicated power(IP) in Kw= 52.36\n",
      "indicated  thermal efficiency(n_ite)= 0.28\n",
      "in percentage 28.05\n",
      "so indicated thermal efficiency=28.05%\n",
      "heat available from fuel(Qf)=(m/mw)*C in KJ/min 11200.0\n",
      "energy consumed as brake power(BP) in KJ/min= 2827.43\n",
      "energy carried by cooling water(Qw) in KJ/min= 1442.1\n",
      "energy carried by exhaust gases(Qg) in KJ/min= 4786.83\n",
      "unaccounted energy loss in KJ/min 2143.63\n",
      "NOTE=>Heat balance sheet on per minute basis is attached as jpg file with this code.\n"
     ]
    }
   ],
   "source": [
    "#cal of brake power,brake specific fuel consumption,indicated  thermal efficiency\n",
    "#intiation of all variables\n",
    "# Chapter 10\n",
    "import math\n",
    "print\"Example 10.10, Page:394  \\n \\n\"\n",
    "print(\"Engineering Thermodynamics by Onkar Singh Chapter 10 Example 10\")\n",
    "m=4.;#mass of fuel consumed in kg\n",
    "N=1500.;#engine rpm\n",
    "mw=15.;#water circulation rate in kg/min\n",
    "T1=27.;#cooling water inlet temperature in degree celcius\n",
    "T2=50.;#cooling water outlet temperature in degree celcius\n",
    "ma=150.;#mass of air consumed in kg\n",
    "T_exhaust=400.;#exhaust temperature in degree celcius\n",
    "T_atm=27.;#atmospheric temperature in degree celcius\n",
    "Cg=1.25;#mean specific heat of exhaust gases in KJ/kg K\n",
    "n_mech=0.9;#mechanical efficiency\n",
    "T=300.*10**-3;#brake torque in N\n",
    "C=42.*10**3;#calorific value in KJ/kg\n",
    "Cw=4.18;#specific heat of water in KJ/kg K\n",
    "BP=2.*math.pi*N*T/60\n",
    "print(\"brake power(BP)=2*%pi*N*T in KW\"),round(BP,2)\n",
    "print(\"so brake power=47.124 KW\")\n",
    "bsfc=m*60/(mw*BP)\n",
    "print(\"brake specific fuel consumption(bsfc) in kg/KW hr=\"),round(bsfc,2)\n",
    "IP=BP/n_mech\n",
    "print(\"indicated power(IP) in Kw=\"),round(IP,2)\n",
    "n_ite=IP*mw*60/(m*C)\n",
    "print(\"indicated  thermal efficiency(n_ite)=\"),round(n_ite,2)\n",
    "print(\"in percentage\"),round(n_ite*100,2)\n",
    "print(\"so indicated thermal efficiency=28.05%\")\n",
    "Qf=(m/mw)*C\n",
    "print(\"heat available from fuel(Qf)=(m/mw)*C in KJ/min\"),round(Qf,2)\n",
    "BP=BP*60 \n",
    "print(\"energy consumed as brake power(BP) in KJ/min=\"),round(BP,2)\n",
    "Qw=mw*Cw*(T2-T1)\n",
    "print(\"energy carried by cooling water(Qw) in KJ/min=\"),round(Qw,2)\n",
    "Qg=(ma+m)*Cg*(T_exhaust-T_atm)/mw\n",
    "print(\"energy carried by exhaust gases(Qg) in KJ/min=\"),round(Qg,2)\n",
    "Qf-(BP+Qw+Qg)\n",
    "print(\"unaccounted energy loss in KJ/min\"),round(Qf-(BP+Qw+Qg),2)\n",
    "print(\"NOTE=>Heat balance sheet on per minute basis is attached as jpg file with this code.\")\n"
   ]
  },
  {
   "cell_type": "markdown",
   "metadata": {},
   "source": [
    "##example 10.11;pg no: 395"
   ]
  },
  {
   "cell_type": "code",
   "execution_count": 11,
   "metadata": {
    "collapsed": false
   },
   "outputs": [
    {
     "name": "stdout",
     "output_type": "stream",
     "text": [
      "Example 10.11, Page:395  \n",
      " \n",
      "\n",
      "Engineering Thermodynamics by Onkar Singh Chapter 10 Example 11\n",
      "indicated power of 1st cylinder=BP-BP1 in KW\n",
      "indicated power of 2nd cylinder=BP-BP2 in KW\n",
      "indicated power of 3rd cylinder=BP-BP3 in KW\n",
      "indicated power of 4th cylinder=BP-BP4 in KW\n",
      "indicated power of 5th cylinder=BP-BP5 in KW\n",
      "indicated power of 6th cylinder=BP-BP6 in KW\n",
      " total indicated power(IP)in KW= 61.9\n",
      "mechanical efficiency(n_mech)= 0.81\n",
      "in percentage 80.78\n",
      "so indicated power=61.9 KW\n",
      "mechanical efficiency=80.77%\n"
     ]
    }
   ],
   "source": [
    "#cal of indicated power and mechanical efficiency\n",
    "#intiation of all variables\n",
    "# Chapter 10\n",
    "import math\n",
    "print\"Example 10.11, Page:395  \\n \\n\"\n",
    "print(\"Engineering Thermodynamics by Onkar Singh Chapter 10 Example 11\")\n",
    "BP=50.;#brake power output at full load in KW\n",
    "BP1=40.1;#brake power output of 1st cylinder in KW\n",
    "BP2=39.5;#brake power output of 2nd cylinder in KW\n",
    "BP3=39.1;#brake power output of 3rd cylinder in KW\n",
    "BP4=39.6;#brake power output of 4th cylinder in KW\n",
    "BP5=39.8;#brake power output of 5th cylinder in KW\n",
    "BP6=40.;#brake power output of 6th cylinder in KW\n",
    "print(\"indicated power of 1st cylinder=BP-BP1 in KW\")\n",
    "BP-BP1\n",
    "print(\"indicated power of 2nd cylinder=BP-BP2 in KW\")\n",
    "BP-BP2\n",
    "print(\"indicated power of 3rd cylinder=BP-BP3 in KW\")\n",
    "BP-BP3\n",
    "print(\"indicated power of 4th cylinder=BP-BP4 in KW\")\n",
    "BP-BP4\n",
    "print(\"indicated power of 5th cylinder=BP-BP5 in KW\")\n",
    "BP-BP5\n",
    "print(\"indicated power of 6th cylinder=BP-BP6 in KW\")\n",
    "BP-BP6\n",
    "IP=9.9+10.5+10.9+10.4+10.2+10\n",
    "print(\" total indicated power(IP)in KW=\"),round(IP,2)\n",
    "n_mech=BP/IP\n",
    "print(\"mechanical efficiency(n_mech)=\"),round(n_mech,2)\n",
    "print(\"in percentage\"),round(n_mech*100,2)\n",
    "print(\"so indicated power=61.9 KW\")\n",
    "print(\"mechanical efficiency=80.77%\")"
   ]
  },
  {
   "cell_type": "markdown",
   "metadata": {},
   "source": [
    "##example 10.12;pg no: 396"
   ]
  },
  {
   "cell_type": "code",
   "execution_count": 12,
   "metadata": {
    "collapsed": false
   },
   "outputs": [
    {
     "name": "stdout",
     "output_type": "stream",
     "text": [
      "Example 10.12, Page:396  \n",
      " \n",
      "\n",
      "Engineering Thermodynamics by Onkar Singh Chapter 10 Example 12\n",
      "brake power output of engine(BP) in KW= 19.63\n",
      "brake power when cylinder 1 is cut(BP1) in KW= 13.74\n",
      "so indicated power of first cylinder(IP1) in KW= 5.89\n",
      "brake power when cylinder 2 is cut(BP2) in KW= 14.14\n",
      "so indicated power of second cylinder(IP2) in KW= 5.5\n",
      "brake power when cylinder 3 is cut(BP3) in KW= 14.29\n",
      "so indicated power of third cylinder(IP3) in KW= 5.34\n",
      "brake power when cylinder 4 is cut(BP4) in KW= 13.35\n",
      "so indicated power of fourth cylinder(IP4) in KW= 6.28\n",
      "now total indicated power(IP) in KW 23.01\n",
      "engine mechanical efficiency(n_mech)= 0.85\n",
      "in percentage 85.32\n",
      "so BP=19.63 KW,IP=23 KW,n_mech=83.35%\n",
      "heat liberated by fuel(Qf)=m*C in KJ/min 8127.0\n",
      "heat carried by exhaust gases(Qg) in KJ/min= 1436.02\n",
      "heat carried by cooling water(Qw) in KJ/min= 1730.52\n",
      "energy to brake power(BP) in KJ/min= 1177.8\n",
      "unaccounted losses in KJ/min 3782.66\n",
      "NOTE=>Heat balance sheet on per minute basis is attached as jpg file with this code. \n"
     ]
    }
   ],
   "source": [
    "#cal of brake power,indicated power,heat balance sheet\n",
    "#intiation of all variables\n",
    "# Chapter 9\n",
    "import math\n",
    "print\"Example 10.12, Page:396  \\n \\n\"\n",
    "print(\"Engineering Thermodynamics by Onkar Singh Chapter 10 Example 12\")\n",
    "N=1500.;#engine rpm at full load\n",
    "F=250.;#brake load at full load in N\n",
    "F1=175.;#brake reading 1 in N\n",
    "F2=180.;#brake reading 2 in N\n",
    "F3=182.;#brake reading 3 in N\n",
    "F4=170.;#brake reading 4 in N\n",
    "r=50.*10**-2;#brake drum radius in m\n",
    "m=0.189;#fuel consumption rate in kg/min\n",
    "C=43.*10**3;#fuel calorific value in KJ/kg\n",
    "k=12.;#air to fuel ratio\n",
    "T_exhaust=600.;#exhaust gas temperature in degree celcius\n",
    "mw=18.;#cooling water flow rate in kg/min\n",
    "T1=27.;#cooling water entering temperature in degree celcius\n",
    "T2=50.;#cooling water leaving temperature in degree celcius\n",
    "T_atm=27.;#atmospheric air temperature\n",
    "Cg=1.02;#specific heat of exhaust gas in KJ/kg K\n",
    "Cw=4.18;#specific heat of water in KJ/kg K\n",
    "BP=2.*math.pi*N*F*r*10**-3/60.\n",
    "print(\"brake power output of engine(BP) in KW=\"),round(BP,2)\n",
    "BP1=2.*math.pi*N*F1*r*10**-3/60.\n",
    "print(\"brake power when cylinder 1 is cut(BP1) in KW=\"),round(BP1,2)\n",
    "IP1=BP-BP1\n",
    "print(\"so indicated power of first cylinder(IP1) in KW=\"),round(IP1,2)\n",
    "BP2=2.*math.pi*N*F2*r*10**-3/60.\n",
    "print(\"brake power when cylinder 2 is cut(BP2) in KW=\"),round(BP2,2)\n",
    "IP2=BP-BP2\n",
    "print(\"so indicated power of second cylinder(IP2) in KW=\"),round(IP2,2)\n",
    "BP3=2.*math.pi*N*F3*r*10**-3/60.\n",
    "print(\"brake power when cylinder 3 is cut(BP3) in KW=\"),round(BP3,2)\n",
    "IP3=BP-BP3\n",
    "print(\"so indicated power of third cylinder(IP3) in KW=\"),round(IP3,2)\n",
    "BP4=2.*math.pi*N*F4*r*10**-3/60.\n",
    "print(\"brake power when cylinder 4 is cut(BP4) in KW=\"),round(BP4,2)\n",
    "IP4=BP-BP4\n",
    "print(\"so indicated power of fourth cylinder(IP4) in KW=\"),round(IP4,2)\n",
    "IP=IP1+IP2+IP3+IP4\n",
    "print(\"now total indicated power(IP) in KW\"),round(IP,2)\n",
    "n_mech=BP/IP\n",
    "print(\"engine mechanical efficiency(n_mech)=\"),round(n_mech,2)\n",
    "print(\"in percentage\"),round(n_mech*100,2)\n",
    "print(\"so BP=19.63 KW,IP=23 KW,n_mech=83.35%\")\n",
    "Qf=m*C\n",
    "print(\"heat liberated by fuel(Qf)=m*C in KJ/min\"),round(Qf,2)\n",
    "Qg=(k+1)*m*Cg*(T_exhaust-T_atm)\n",
    "print(\"heat carried by exhaust gases(Qg) in KJ/min=\"),round(Qg,2)\n",
    "Qw=mw*Cw*(T2-T1)\n",
    "print(\"heat carried by cooling water(Qw) in KJ/min=\"),round(Qw,2)\n",
    "BP=19.63*60\n",
    "print(\"energy to brake power(BP) in KJ/min=\"),round(19.63*60,2)\n",
    "Qf-(Qg+Qw+BP)\n",
    "print(\"unaccounted losses in KJ/min\"),round(Qf-(Qg+Qw+BP),2)\n",
    "print(\"NOTE=>Heat balance sheet on per minute basis is attached as jpg file with this code. \")\n"
   ]
  },
  {
   "cell_type": "markdown",
   "metadata": {},
   "source": [
    "##example 10.13;pg no: 397"
   ]
  },
  {
   "cell_type": "code",
   "execution_count": 13,
   "metadata": {
    "collapsed": false
   },
   "outputs": [
    {
     "name": "stdout",
     "output_type": "stream",
     "text": [
      "Example 10.13, Page:397  \n",
      " \n",
      "\n",
      "Engineering Thermodynamics by Onkar Singh Chapter 10 Example 13\n",
      "brake power(BP)=2*%pi*N*T in KW\n",
      "indicated power(IP)=(mep*L*A*N)/60000 in KW\n",
      "A> heat added(Q)=m*C/3600 in KJ/s 52.36\n",
      "or Q in KJ/min\n",
      "thermal efficiency(n_th)=  0.27\n",
      "in percentage 26.85\n",
      "B> heat equivalent of brake power(BP) in KJ/min=  659.76\n",
      "C> heat loss to cooling water(Qw)=mw*Cpw*(T2-T1) in KJ/min\n",
      "heat carried by exhaust gases=heat carried by steam in exhaust gases+heat carried by fuel gases(dry gases) in exhaust gases\n",
      "mass of exhaust gases(mg)=mass of air+mass of fuel in kg/min\n",
      "mg=(ma+m)/60\n",
      "mass of steam in exhaust gases in kg/min\n",
      "mass of dry exhaust gases in kg/min\n",
      "D> heat carried by steam in exhaust in KJ/min 299.86\n",
      "E> heat carried by fuel gases(dry gases) in exhaust gases(Qg) in KJ/min 782.64\n",
      "F> unaccounted loss=A-B-C-D-E in KJ/min 537.4\n",
      "NOTE># on per minute basis is attached as jpg file with this code.\n"
     ]
    }
   ],
   "source": [
    "#cal of thermal efficiency and heat balance sheet\n",
    "#intiation of all variables\n",
    "# Chapter 10\n",
    "import math\n",
    "print\"Example 10.13, Page:397  \\n \\n\"\n",
    "print(\"Engineering Thermodynamics by Onkar Singh Chapter 10 Example 13\")\n",
    "D=20.*10**-2;#cylinder diameter in m\n",
    "L=28.*10**-2;#stroke in m\n",
    "m=4.22;#mass of fuel used in kg\n",
    "C=44670.;#calorific value of fuel in KJ/kg\n",
    "N=21000./60.;#engine rpm\n",
    "mep=2.74*10**5;#mean effective pressure in pa\n",
    "F=600.;#net brake load applied to a drum of 100 cm diameter in N\n",
    "r=50.*10**-2;#brake drum radius in m\n",
    "mw=495.;#total mass of cooling water in kg\n",
    "T1=13.;#cooling water inlet temperature in degree celcius\n",
    "T2=38.;#cooling water outlet temperature in degree celcius\n",
    "ma=135.;#mass of air used in kg\n",
    "T_air=20.;#temperature of air in test room in degree celcius\n",
    "T_exhaust=370.;#temperature of exhaust gases in degree celcius\n",
    "Cp_gases=1.005;#specific heat of gases in KJ/kg K\n",
    "Cp_steam=2.093;#specific heat of steam at atmospheric pressure in KJ/kg K\n",
    "Cpw=4.18;#specific heat of water in KJ/kg K\n",
    "print(\"brake power(BP)=2*%pi*N*T in KW\")\n",
    "BP=2*math.pi*N*F*r/60000\n",
    "print(\"indicated power(IP)=(mep*L*A*N)/60000 in KW\")\n",
    "IP=(mep*L*(math.pi*D**2/4)*N)/60000\n",
    "Q=m*C/3600\n",
    "print(\"A> heat added(Q)=m*C/3600 in KJ/s\"),round(Q,2)\n",
    "print(\"or Q in KJ/min\")\n",
    "Q=Q*60\n",
    "Q=52.36;#heat added in KJ/s\n",
    "n_th=IP/Q\n",
    "print(\"thermal efficiency(n_th)= \"),round(n_th,2)\n",
    "print(\"in percentage\"),round(n_th*100,2)\n",
    "BP=BP*60\n",
    "print(\"B> heat equivalent of brake power(BP) in KJ/min= \"),round(10.996*60,2)\n",
    "print(\"C> heat loss to cooling water(Qw)=mw*Cpw*(T2-T1) in KJ/min\")\n",
    "Qw=mw*Cpw*(T2-T1)/60\n",
    "print(\"heat carried by exhaust gases=heat carried by steam in exhaust gases+heat carried by fuel gases(dry gases) in exhaust gases\")\n",
    "print(\"mass of exhaust gases(mg)=mass of air+mass of fuel in kg/min\")\n",
    "print(\"mg=(ma+m)/60\")\n",
    "mg=(ma+m)/60\n",
    "print(\"mass of steam in exhaust gases in kg/min\")\n",
    "9*(0.15*m/60)\n",
    "print(\"mass of dry exhaust gases in kg/min\")\n",
    "mg-0.095\n",
    "0.095*(Cpw*(100-T_air)+2256.9+Cp_steam*(T_exhaust-100))\n",
    "print(\"D> heat carried by steam in exhaust in KJ/min\"),round(0.095*(Cpw*(100-T_air)+2256.9+Cp_steam*(T_exhaust-100)),2)\n",
    "Qg=2.225*Cp_gases*(T_exhaust-T_air)\n",
    "print(\"E> heat carried by fuel gases(dry gases) in exhaust gases(Qg) in KJ/min\"),round(Qg,2)\n",
    "print(\"F> unaccounted loss=A-B-C-D-E in KJ/min\"),round(3141.79-659.76-862.13-299.86-782.64,2)\n",
    "print(\"NOTE># on per minute basis is attached as jpg file with this code.\")\n"
   ]
  }
 ],
 "metadata": {
  "kernelspec": {
   "display_name": "Python 2",
   "language": "python",
   "name": "python2"
  },
  "language_info": {
   "codemirror_mode": {
    "name": "ipython",
    "version": 2
   },
   "file_extension": ".py",
   "mimetype": "text/x-python",
   "name": "python",
   "nbconvert_exporter": "python",
   "pygments_lexer": "ipython2",
   "version": "2.7.9"
  }
 },
 "nbformat": 4,
 "nbformat_minor": 0
}
