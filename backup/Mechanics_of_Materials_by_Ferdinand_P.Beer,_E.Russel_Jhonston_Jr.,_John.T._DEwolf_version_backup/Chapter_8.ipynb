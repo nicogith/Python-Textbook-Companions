{
 "cells": [
  {
   "cell_type": "markdown",
   "metadata": {},
   "source": [
    "# Chapter 8 : Principal Stresses under a Given Loading"
   ]
  },
  {
   "cell_type": "markdown",
   "metadata": {},
   "source": [
    "# SAMPLE PROBLEM 8.1, Page number 520"
   ]
  },
  {
   "cell_type": "code",
   "execution_count": 6,
   "metadata": {
    "collapsed": false
   },
   "outputs": [
    {
     "name": "stdout",
     "output_type": "stream",
     "text": [
      "The specification, smax<= 150 MPa, is not satisfied\n"
     ]
    }
   ],
   "source": [
    "import math\n",
    "from sympy import *\n",
    "\n",
    "#Variable declaration\n",
    "Ma=160*0.375                                                       # Torque on rod AC(kN.m)\n",
    "Va = 160                                                           # Force(kN)\n",
    "S=511*(pow(10,-6))                                                 # Inertia(m**3)   \n",
    "yb=90.4                                                            # Distance(mm)\n",
    "c=103                                                              # Distance(mm) \n",
    "I=52.9*(pow(10,-6))                                                # Moment oof inertia(m**4) \n",
    "t=0.00787                                                          # Distance(m)\n",
    "\n",
    "#Calculation         \n",
    "#Normal Stresses on Transverse Plane\n",
    "#At point a:\n",
    "Sa=round((Ma/S)/(1000),1)                                          # Stress at A(MPa) \n",
    "#At point b:\n",
    "Sb=round((Sa*(yb/c)),0)                                            # Stress at B(MPa)   \n",
    "\n",
    "#Shearing Stresses on Transverse Plane \n",
    "#At point a:\n",
    "Q=0\n",
    "ta=0\n",
    "#At point b:\n",
    "Q=round((206*12.6*96.7)/(1000),0)                                  \n",
    "Q=(Q)/(pow(10,6))\n",
    "tb=round(((Va*Q)/(I*t))/(pow(10,3)),1)                             # Shearing stress(MPa) \n",
    "\n",
    "#Principal Stress at Point b\n",
    "Smax=round((1/2)*Sb + math.sqrt(pow((1/2)*Sb,2) + pow(tb,2)),1)    # Stress maximum(MPa)\n",
    "\n",
    "# Result\n",
    "print ('The specification, smax<= 150 MPa, is not satisfied' )"
   ]
  },
  {
   "cell_type": "markdown",
   "metadata": {},
   "source": [
    "# SAMPLE PROBLEM 8.2, Page number 521"
   ]
  },
  {
   "cell_type": "code",
   "execution_count": 12,
   "metadata": {
    "collapsed": false
   },
   "outputs": [
    {
     "name": "stdout",
     "output_type": "stream",
     "text": [
      "We now select the lightest shape available, namely :-\n",
      "W21*62\n"
     ]
    }
   ],
   "source": [
    "import math\n",
    "from sympy import *\n",
    "\n",
    "\n",
    "#Variable declaration\n",
    "Aweb=8.40                                                             # Area of cross section(in**2)\n",
    "S=127                                                                     \n",
    "yb=9.88                                                               # Distance(in)\n",
    "c=10.50                                                               # Distance(in)\n",
    "V=12.2                                                                # Force(kips)\n",
    "\n",
    "#Calculation         \n",
    "#Reactions at A and D\n",
    "sumMd=0                                                               # Equilibrium equations\n",
    "sumMa=0                                                               # Equilibrium equations\n",
    "\n",
    "#Shear and Bending-Moment Diagrams\n",
    "Mmax=2873                                                             # Maximum moment(kip.ft)  \n",
    "Vmax=43                                                               # Maximum force(kips)\n",
    "\n",
    "#Section Modulus\n",
    "Sall=24                                                               # Maximum stress(ksi) \n",
    "Smin=round((Mmax/Sall),1)                                             # Minimum section modulus(in**3) \n",
    "\n",
    "#Selection of Wide-Flange Shape\n",
    "\n",
    "#   W24*68          154\n",
    "#   W21*62          127\n",
    "#   W18*76          146\n",
    "#   W16*77          134\n",
    "#   W14*82          123\n",
    "#   W12*96          131\n",
    "\n",
    "# We now select the lightest shape available, namely W21*62\n",
    "\n",
    "#Shearing Stress\n",
    "tm=round(Vmax/Aweb,2)                                                # Shearing stress(ksi)\n",
    "\n",
    "\n",
    "#Principal Stress at Point b\n",
    "Sa=round(Mmax/S,1)                                                   # Stress at A(ksi)\n",
    "Sb=round(Sa*(yb/c),1)                                                # Stress at B(ksi)\n",
    "\n",
    "tb=round(V/Aweb,2)\n",
    "smax=round((1/2)*Sb + math.sqrt(pow((1/2)*Sb,2) + pow(tb,2)),1)\n",
    "\n",
    "# Result\n",
    "print ('We now select the lightest shape available, namely :-')\n",
    "print('W21*62')"
   ]
  },
  {
   "cell_type": "markdown",
   "metadata": {},
   "source": [
    "# SAMPLE PROBLEM 8.3, Page number 522"
   ]
  },
  {
   "cell_type": "code",
   "execution_count": 23,
   "metadata": {
    "collapsed": false
   },
   "outputs": [
    {
     "name": "stdout",
     "output_type": "stream",
     "text": [
      "Diamter of shaft = 51.704299 mm\n"
     ]
    }
   ],
   "source": [
    "import math\n",
    "from sympy import *\n",
    "\n",
    "# Variable declaration\n",
    "P=30                                                                      # Power(kW)\n",
    "tall=50                                                                   # Shearing stress(MPa)\n",
    "f=8                                                                       # Frequency(Hz)\n",
    "Te=597                                                                    # Torque at E(N.m)\n",
    "rE=0.16                                                                   # Radius(m) \n",
    "\n",
    "# Calculation         \n",
    "# Torques Exerted on Gears\n",
    "Te=(P/(2*(math.pi)*f))                                                    # Torque exerted on gear E(N.m)\n",
    "Fe=Te/rE                                                                  # Tangential force(kN)\n",
    "Tc=20/(2*(math.pi)*8)                                                     # Torque(N.m)\n",
    "Fc=6.63                                                                   # Force(kN)\n",
    "Td=10/(2*(math.pi)*8)                                                     # Torque(N.m)\n",
    "Fd=2.49                                                                   # Force(kN) \n",
    "\n",
    "# Critical Transverse Section\n",
    "Tor=math.sqrt(1160**2 + 373**2 + 597**2)                                  # Maximum value of torque(N.m)\n",
    "\n",
    "\n",
    "# Diameter of Shaft.\n",
    "c=((((27.14*(pow(10,-6)))*(2/(math.pi)))**(1/3))*(1000))*2                # Diameter(mm)     \n",
    "\n",
    "# Result\n",
    "print ('Diamter of shaft = %lf mm' %c)"
   ]
  },
  {
   "cell_type": "markdown",
   "metadata": {},
   "source": [
    "# Example 8.01, Page number 529"
   ]
  },
  {
   "cell_type": "code",
   "execution_count": 15,
   "metadata": {
    "collapsed": false
   },
   "outputs": [
    {
     "name": "stdout",
     "output_type": "stream",
     "text": [
      "Case(a) Normal stress = 107.429587 MPa\n",
      "Case(a) Shearing stress = -52.526646 MPa\n",
      "Case(b) Principal axis angle = 22.200000 degree\n",
      "Case(b) Maximum principal stress at point k = 128.799534 MPa\n",
      "Case(b) Minimum principal stress at point k = -21.399534 MPa\n",
      "Case(c) Maximum shearing stress at point k = 75.100000 MPa\n"
     ]
    }
   ],
   "source": [
    "import math\n",
    "from sympy import *\n",
    "\n",
    "#Variable declaration\n",
    "n=-1                                                                     \n",
    "P1=15                                                                            # Force(kN)\n",
    "P2=18                                                                            # Force(kN) \n",
    "a=50                                                                             # Distance(mm)\n",
    "b=60                                                                             # Distance(mm)  \n",
    "c=0.020                                                                          # Distance(m)\n",
    "F=P1                                                                             # Force(kN)\n",
    "V=P2                                                                             # Force(kN) \n",
    "t=0.040                                                                          # Distance(m)  \n",
    "Iz=125.7*(pow(10,-9))                                                            # Moment of inertia(m**4)\n",
    "\n",
    "#Calculation         \n",
    "#Internal Forces in Given Section\n",
    "T=P2*a                                                                           # Torque(N.m)\n",
    "My=P1*a                                                                          # Moment(N.m) \n",
    "Mz=P2*b                                                                          # Moment(N.m)\n",
    "# Case(a) Normal and Shearing Stresses at Point K\n",
    "# Geometric Properties of the Section\n",
    "A=(math.pi)*(c**2)                                                               # Area of cross section(m**2)\n",
    "Iy=(1/4)*(math.pi)*(c**4)                                                        # Moment of inertia(m**4)\n",
    "Jc=(1/2)*(math.pi)*(c**4)                                                        # Moment of inertia(m**4)\n",
    "Q=(A/2)*((4*c)/(3*(math.pi)))\n",
    "t=2*c                                                                            # Distance(m)\n",
    "# Normal Stresses\n",
    "Sx=(n*(F/A))/(1000) + ((My*c)/(Iy))/(1000000)                                    # Normal stress(MPa)\n",
    "# Shearing Stresses\n",
    "txyV=((V*Q)/(Iz*t))/(1000)                                                       # Shearing stress(MPa)\n",
    "txytwist=((n*(T*c))/(Jc))/(1000000)                                              # Shearing stress(MPa) \n",
    "txy=(txyV + txytwist)                                                            # Shearing stress(MPa)\n",
    "# Case(b) Principal Planes and Principal Stresses at Point K\n",
    "OC=CD=(1/2)*(107.4)                                                              # Stress(MPa)  \n",
    "DX=52.5                                                                          # Stress(MPa) \n",
    "phyp=44.4/2                                                                      # Angle(degree)\n",
    "R=sqrt(53.7**2 + 52.5**2)                                                        # Stress(MPa)\n",
    "Smax=OC+R                                                                        # Maximum principal stress(MPa)\n",
    "Smin=OC-R                                                                        # Minimum principal stress(MPa)\n",
    "# Case(c) Maximum shearing stress at point k\n",
    "tmax=75.1                                                                        # Shearing stress(MPa) \n",
    "\n",
    "# Result\n",
    "print ('Case(a) Normal stress = %lf MPa' %Sx)\n",
    "print ('Case(a) Shearing stress = %lf MPa' %txy)\n",
    "print ('Case(b) Principal axis angle = %lf degree' %phyp)\n",
    "print ('Case(b) Maximum principal stress at point k = %lf MPa' %Smax)\n",
    "print ('Case(b) Minimum principal stress at point k = %lf MPa' %Smin)\n",
    "print ('Case(c) Maximum shearing stress at point k = %lf MPa' %tmax)"
   ]
  },
  {
   "cell_type": "markdown",
   "metadata": {},
   "source": [
    "# SAMPLE PROBLEM 8.5, Page number 532"
   ]
  },
  {
   "cell_type": "code",
   "execution_count": 21,
   "metadata": {
    "collapsed": false
   },
   "outputs": [
    {
     "name": "stdout",
     "output_type": "stream",
     "text": [
      "Normal stress at H = 66.000000 MPa\n",
      "Shearing stress at H = 17.530000 MPa\n",
      "Principal axis angle = 13.980000 degree\n",
      "Maximum shearing stress at point k = 37.362420 MPa\n",
      "Maximum principal stress at point k = 70.362420 MPa\n",
      "Minimum principal stress at point k = -4.362420 MPa\n"
     ]
    }
   ],
   "source": [
    "import math\n",
    "\n",
    "#Variable declaration\n",
    "#Free Body. Entire Crankshaft\n",
    "Vx=-30                                                                        # Force(kN)\n",
    "P=50                                                                          # Force(kN)\n",
    "Vz=-75                                                                        # Force(kN)\n",
    "Mx=(50)*(0.130) - (75)*(0.2)                                                  # Moment(kN.m)\n",
    "My=0                                                                          # Moment\n",
    "Mz=30*0.1                                                                     # Moment(kN.m)\n",
    "A=0.040*0.140                                                                 # Area(m**2)   \n",
    "Ix=(1/12)*(0.040)*(pow(0.140,3))                                              # Moment of inertia(m**4)\n",
    "Iz=(1/12)*(pow(0.040,3))*(0.140)                                              # Moment of inertia(m**4)\n",
    "a=0.020                                                                       # Distance(m)\n",
    "b=0.025                                                                       # Distance(m)\n",
    "t=0.040                                                                       # Distance(m)\n",
    "OC=33.0                                                                       # Stress(MPa)\n",
    "\n",
    "#Calculation         \n",
    "#Normal Stress at H\n",
    "Sy=round(((P/A) + ((Mz)*a)/Iz + ((Mx)*b)/Ix)/(1000),0)                        # Normal stress at H(MPa) \n",
    "\n",
    "\n",
    "#Shearing Stress at H\n",
    "Q=(0.040*0.045*0.0475)\n",
    "tyz=round((((-(Vz)*(Q))/(Ix*t))/1000),2)                                      # Shearing stress at H(MPa)\n",
    "\n",
    "\n",
    "#Principal Stresses, Principal Planes, and Maximum Shearing Stress at H.\n",
    "phyp=27.96/2\n",
    "R=sqrt(33**2 + 17.52**2)\n",
    "Smax=OC+R\n",
    "Smin=OC-R\n",
    "\n",
    "\n",
    "# Result\n",
    "print ('Normal stress at H = %lf MPa' %Sy)\n",
    "print ('Shearing stress at H = %lf MPa' %tyz)\n",
    "print ('Principal axis angle = %lf degree' %phyp)\n",
    "print ('Maximum shearing stress at point k = %lf MPa' %R)\n",
    "print ('Maximum principal stress at point k = %lf MPa' %Smax)\n",
    "print ('Minimum principal stress at point k = %lf MPa' %Smin)"
   ]
  }
 ],
 "metadata": {
  "kernelspec": {
   "display_name": "Python 3",
   "language": "python",
   "name": "python3"
  },
  "language_info": {
   "codemirror_mode": {
    "name": "ipython",
    "version": 3
   },
   "file_extension": ".py",
   "mimetype": "text/x-python",
   "name": "python",
   "nbconvert_exporter": "python",
   "pygments_lexer": "ipython3",
   "version": "3.5.1"
  }
 },
 "nbformat": 4,
 "nbformat_minor": 0
}
