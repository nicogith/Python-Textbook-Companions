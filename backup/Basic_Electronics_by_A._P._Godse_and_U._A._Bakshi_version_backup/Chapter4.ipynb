{
 "cells": [
  {
   "cell_type": "markdown",
   "metadata": {},
   "source": [
    "# Chapter 4 Transistors"
   ]
  },
  {
   "cell_type": "markdown",
   "metadata": {},
   "source": [
    "## Ex 4_1 PG-4.11"
   ]
  },
  {
   "cell_type": "code",
   "execution_count": 1,
   "metadata": {
    "collapsed": false
   },
   "outputs": [
    {
     "name": "stdout",
     "output_type": "stream",
     "text": [
      "\n",
      " Therefore base current is 235 microA \n",
      "\n"
     ]
    }
   ],
   "source": [
    "from __future__ import division\n",
    "Ie=12e-3##emitter current\n",
    "Ic=Ie/1.02##collector current\n",
    "Ib=Ie-Ic##base current\n",
    "print \"\\n Therefore base current is %.0f microA \\n\"%(Ib*1e6)"
   ]
  },
  {
   "cell_type": "markdown",
   "metadata": {},
   "source": [
    "## Ex 4_2 Pg-4.14"
   ]
  },
  {
   "cell_type": "code",
   "execution_count": 2,
   "metadata": {
    "collapsed": false
   },
   "outputs": [
    {
     "name": "stdout",
     "output_type": "stream",
     "text": [
      "When beta_dc=50 \n",
      "\n",
      " alpha_dc=0.9804 \n",
      "\n",
      "\n",
      " When beta_dc=190 \n",
      "\n",
      " alpha_dc=0.9948 \n",
      "\n",
      "\n",
      " When alpha_dc=0.995 \n",
      "\n",
      " beta_dc=199 \n",
      "\n",
      "\n",
      " When alpha_dc=0.9765 \n",
      "\n",
      " beta_dc=41.55 \n",
      "\n"
     ]
    }
   ],
   "source": [
    "print \"When beta_dc=50 \"\n",
    "beta_dc=50#\n",
    "alpha_dc=beta_dc/(1+beta_dc)#\n",
    "print \"\\n alpha_dc=%.4f \\n\\n\"%(alpha_dc)\n",
    "print \" When beta_dc=190 \"\n",
    "beta_dc=190#\n",
    "alpha_dc=beta_dc/(1+beta_dc)#\n",
    "print \"\\n alpha_dc=%.4f \\n\\n\"%(alpha_dc)\n",
    "print \" When alpha_dc=0.995 \"\n",
    "alpha_dc=0.995#\n",
    "beta_dc=alpha_dc/(1-alpha_dc)#\n",
    "print \"\\n beta_dc=%.0f \\n\\n\"%(beta_dc)\n",
    "print \" When alpha_dc=0.9765 \"\n",
    "alpha_dc=0.9765#\n",
    "beta_dc=alpha_dc/(1-alpha_dc)#\n",
    "print \"\\n beta_dc=%.2f \\n\"%(beta_dc)"
   ]
  },
  {
   "cell_type": "markdown",
   "metadata": {},
   "source": [
    "## Ex 4_3 Pg-4.15"
   ]
  },
  {
   "cell_type": "code",
   "execution_count": 3,
   "metadata": {
    "collapsed": false
   },
   "outputs": [
    {
     "name": "stdout",
     "output_type": "stream",
     "text": [
      "\n",
      " beta_dc=319 \n",
      " \n",
      " alpha_dc=0.996875 \n",
      "\n",
      "\n",
      " collector current is 6.380 mA \n",
      "\n"
     ]
    }
   ],
   "source": [
    "Ib=20e-6#\n",
    "Ie=0.0064#\n",
    "beta_dc=Ie/Ib-1#\n",
    "alpha_dc=beta_dc/(1+beta_dc)#\n",
    "print \"\\n beta_dc=%.0f \\n \\n alpha_dc=%f \\n\"%(beta_dc,alpha_dc)\n",
    "Ic=beta_dc*Ib##collector current\n",
    "print \"\\n collector current is %.3f mA \\n\"%(Ic*1e3)"
   ]
  },
  {
   "cell_type": "markdown",
   "metadata": {},
   "source": [
    "## Ex 4_4 PG-4.15"
   ]
  },
  {
   "cell_type": "code",
   "execution_count": 4,
   "metadata": {
    "collapsed": false
   },
   "outputs": [
    {
     "name": "stdout",
     "output_type": "stream",
     "text": [
      "\n",
      " alpha_dc=0.996 \n",
      "\n",
      "We know that Ic=alpha_dc*Ie+Icbo \n",
      "Therefore emitter current is Ie=(Ic-Icbo)/alpha_dc\n",
      "\n",
      " emitter current is 20.08 mA\n"
     ]
    }
   ],
   "source": [
    "Icbo=5e-6##leakage current\n",
    "Ic=20e-3##collector current\n",
    "Ie=Ic/0.996##Ic=o.996Ie\n",
    "alpha_dc=Ic/Ie#\n",
    "print \"\\n alpha_dc=%.3f \\n\"%(alpha_dc)\n",
    "print \"We know that Ic=alpha_dc*Ie+Icbo \"\n",
    "print \"Therefore emitter current is Ie=(Ic-Icbo)/alpha_dc\"\n",
    "Ie=(Ic-Icbo)/alpha_dc##emitter current\n",
    "Ie=Ie*1e3#\n",
    "print \"\\n emitter current is %.2f mA\"%(Ie)"
   ]
  }
 ],
 "metadata": {
  "kernelspec": {
   "display_name": "Python 2",
   "language": "python",
   "name": "python2"
  },
  "language_info": {
   "codemirror_mode": {
    "name": "ipython",
    "version": 2
   },
   "file_extension": ".py",
   "mimetype": "text/x-python",
   "name": "python",
   "nbconvert_exporter": "python",
   "pygments_lexer": "ipython2",
   "version": "2.7.9"
  }
 },
 "nbformat": 4,
 "nbformat_minor": 0
}
