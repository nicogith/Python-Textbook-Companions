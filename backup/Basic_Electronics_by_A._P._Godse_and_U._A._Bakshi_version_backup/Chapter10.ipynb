{
 "cells": [
  {
   "cell_type": "markdown",
   "metadata": {},
   "source": [
    "# Chapter 10 Introduction to operational amplifiers"
   ]
  },
  {
   "cell_type": "markdown",
   "metadata": {},
   "source": [
    "## Ex 10_1 PG-10.7"
   ]
  },
  {
   "cell_type": "code",
   "execution_count": 1,
   "metadata": {
    "collapsed": false
   },
   "outputs": [
    {
     "name": "stdout",
     "output_type": "stream",
     "text": [
      "Refer to the figure-10.5 shown\n",
      "\n",
      " when CMRR=100\n",
      "\n",
      " common mode gain Ac=50 \n",
      "\n",
      " output voltage is Vo=313.5 mV \n",
      "\n",
      "\n",
      " when CMRR=100000\n",
      "\n",
      " common mode gain Ac=0.05 \n",
      "\n",
      " output voltage is Vo=300.0135 mV \n",
      "\n"
     ]
    }
   ],
   "source": [
    "from __future__ import division\n",
    "print \"Refer to the figure-10.5 shown\"\n",
    "V1=300e-6#\n",
    "V2=240e-6#\n",
    "Vd=V1-V2#differential mode voltage \n",
    "Vc=(V1+V2)/2##common mode voltage \n",
    "Ad=5000##differential gain\n",
    "print \"\\n when CMRR=100\"\n",
    "CMRR=100##common mode rejection ratio\n",
    "Ac=Ad/CMRR#\n",
    "print \"\\n common mode gain Ac=%.f \\n\"%(Ac)\n",
    "Vo=Ad*Vd+Ac*Vc##output voltage\n",
    "print \" output voltage is Vo=%.1f mV \\n\"%(Vo*1e3)\n",
    "print \"\\n when CMRR=100000\"\n",
    "CMRR=1e5##common mode rejection ratio\n",
    "Ac=Ad/CMRR#\n",
    "print \"\\n common mode gain Ac=%.2f \\n\"%(Ac)\n",
    "Vo=Ad*Vd+Ac*Vc##output voltage\n",
    "print \" output voltage is Vo=%.4f mV \\n\"%(Vo*1e3)"
   ]
  },
  {
   "cell_type": "markdown",
   "metadata": {},
   "source": [
    "## Ex 10_2 PG-10.17"
   ]
  },
  {
   "cell_type": "code",
   "execution_count": 2,
   "metadata": {
    "collapsed": false
   },
   "outputs": [
    {
     "name": "stdout",
     "output_type": "stream",
     "text": [
      "\n",
      " input bias current= 20 microA \n",
      "\n",
      "\n",
      " input offset current= 4 microA \n",
      "\n"
     ]
    }
   ],
   "source": [
    "Ib1=18##in microA\n",
    "Ib2=22##in microA\n",
    "Ib=(Ib1+Ib2)/2##input bias current\n",
    "Ib=Ib\n",
    "print \"\\n input bias current= %.0f microA \\n\"%(Ib)\n",
    "Iios=(Ib1-Ib2)##input offset current\n",
    "Iios=abs(Iios)#\n",
    "Iios=Iios\n",
    "print \"\\n input offset current= %.0f microA \\n\"%(Iios)"
   ]
  },
  {
   "cell_type": "markdown",
   "metadata": {},
   "source": [
    "## Ex 10_3 PG-10.17"
   ]
  },
  {
   "cell_type": "code",
   "execution_count": 3,
   "metadata": {
    "collapsed": false
   },
   "outputs": [
    {
     "name": "stdout",
     "output_type": "stream",
     "text": [
      " Iios=Ib1-Ib2=20\n",
      " ie Ib=(Ib1+Ib2)/2=60 ie Ib=(Ib1+Ib2)=120\n",
      " values of Ib1 andIb2 are\n",
      "  100 & -140 nA \n"
     ]
    }
   ],
   "source": [
    "Iios=20##Input offset current in nA\n",
    "Ib=60##Input bias current in nA\n",
    "#Iios=Ib1-Ib2=20\n",
    "#Ib=(Ib1+Ib2)/2=60\n",
    "#ie Ib=(Ib1+Ib2)=120\n",
    "print \" Iios=Ib1-Ib2=20\"\n",
    "print \" ie Ib=(Ib1+Ib2)/2=60 ie Ib=(Ib1+Ib2)=120\"\n",
    "import numpy as np\n",
    "a=np.mat([[1 ,-1],[1, 1]])##coefficient of Ib1 and Ib2 for Iios and Ib\n",
    "b=np.mat([[20], [120]])##value of Iios and Ib\n",
    "x=(a*-1)*b\n",
    "print \" values of Ib1 andIb2 are\"\n",
    "print \"  %.0f & %0.0f nA \"%(x[0,0],x[1,0])"
   ]
  },
  {
   "cell_type": "markdown",
   "metadata": {},
   "source": [
    "## Ex 10_4 PG-10.35"
   ]
  },
  {
   "cell_type": "code",
   "execution_count": 4,
   "metadata": {
    "collapsed": false
   },
   "outputs": [
    {
     "name": "stdout",
     "output_type": "stream",
     "text": [
      "Refer to the figure-10.32 shown\n",
      "\n",
      " the gain is -4.7 (inverting amplifier) \n",
      "\n"
     ]
    }
   ],
   "source": [
    "print \"Refer to the figure-10.32 shown\"\n",
    "#the circuit is an inverting amplifier\n",
    "R1=10e3#\n",
    "Rf=47e3##feedback resistance\n",
    "A=-Rf/R1##gain of an inverting amplifier\n",
    "print \"\\n the gain is %.1f (inverting amplifier) \\n\"%(A)"
   ]
  },
  {
   "cell_type": "markdown",
   "metadata": {},
   "source": [
    "## Ex 10_5 PG-10.35"
   ]
  },
  {
   "cell_type": "code",
   "execution_count": 5,
   "metadata": {
    "collapsed": false
   },
   "outputs": [
    {
     "name": "stdout",
     "output_type": "stream",
     "text": [
      "If Vm=0.5V then\n",
      "\n",
      " peak value of the output voltage Vo=2.5 V \n",
      "\n",
      "\n",
      " if Vm=5V then\n",
      "\n",
      " peak value of the output voltage Vo=25 V \n",
      "\n",
      "but the opamp output saturates at +/- 12V hence portion above +12V and\n",
      " below -12V will be clipped off.So 25V \n",
      " peak output is not practically possible it will show upto +/- 12V\n"
     ]
    },
    {
     "data": {
      "image/png": "[encoded data removed]",
      "text/plain": [
       "<matplotlib.figure.Figure at 0x7f30881150d0>"
      ]
     },
     "metadata": {},
     "output_type": "display_data"
    },
    {
     "data": {
      "image/png": "[encoded data removed]",
      "text/plain": [
       "<matplotlib.figure.Figure at 0x7f3074a6e550>"
      ]
     },
     "metadata": {},
     "output_type": "display_data"
    }
   ],
   "source": [
    "from numpy import pi, sin\n",
    "R1=10e3#\n",
    "Rf=50e3##feedback resistance\n",
    "Vcc=12##supply voltage in volts\n",
    "A=-Rf/R1##gain of an inverting amplifier\n",
    "A=abs(A)##magnitude of the gain\n",
    "print \"If Vm=0.5V then\"\n",
    "Vm=0.5##peak value of the input voltage\n",
    "Vo=A*Vm##output voltage\n",
    "print \"\\n peak value of the output voltage Vo=%.1f V \\n\"%(Vo)\n",
    "print \"\\n if Vm=5V then\"\n",
    "Vm=5##peak value of the input voltage\n",
    "Vo1=A*Vm##output voltage\n",
    "print \"\\n peak value of the output voltage Vo=%.0f V \\n\"%(Vo1)\n",
    "print \"but the opamp output saturates at +/- 12V hence portion above +12V and\"\n",
    "print \" below -12V will be clipped off.So 25V \\n peak output is not practically possible it will show upto +/- 12V\"\n",
    "%matplotlib inline\n",
    "from matplotlib import pyplot as plt\n",
    "plt.subplot(2,1,1)        #input voltage Vin=0.5V peak\n",
    "import numpy as np\n",
    "x=np.arange(0,9,pi/100)\n",
    "y=0.5*sin(x)\n",
    "plt.plot(x,y)\n",
    "#plt.xtitle(\"(Vin)m=0.5V\" ,\"time\"%(\"Input voltage Vin= 0.5V peak\"\n",
    "plt.grid()\n",
    "plt.subplot(2,1,2)         #output voltage Vo=2.5V peak                  \n",
    "x=np.arange(0,9,pi/100)\n",
    "y=-Vo*sin(x)        #output is inverted \n",
    "plt.plot(x,y)\n",
    "plt.title(\"(Vin)m=0.5V\" )\n",
    "plt.xlabel(\"time\")\n",
    "plt.ylabel(\"Output voltage(inverted) Vo=2.5V peak\")\n",
    "plt.grid()\n",
    "plt.show()\n",
    "\n",
    "plt.subplot(2,1,1)        #input voltage Vin=5V peak\n",
    "x=np.arange(0,9,pi/100)\n",
    "y=5*sin(x)\n",
    "plt.plot(x,y)\n",
    "plt.title(\"(Vin)m=5V\" )\n",
    "plt.xlabel(\"time\")\n",
    "plt.ylabel(\"Input voltage Vin=5V peak\")\n",
    "plt.grid()\n",
    "plt.subplot(2,1,2)        #output voltage Vo=25V peak but clipped at + or-12V \n",
    "x=np.arange(0,9,pi/100)\n",
    "y=-Vo1*sin(x)       #output is inverted\n",
    "#y(find(y > 12)) =  12# \n",
    "#y(find(y < -12))= -12#\n",
    "plt.plot(x,y)\n",
    "plt.title(\"(Vin)m=5V\")\n",
    "plt.xlabel(\"time\")\n",
    "plt.ylabel(\"Output voltage(inverted) Vo=12V clipped\")\n",
    "plt.grid()\n",
    "plt.show()"
   ]
  },
  {
   "cell_type": "markdown",
   "metadata": {},
   "source": [
    "## Ex 10_6 PG-10.36"
   ]
  },
  {
   "cell_type": "code",
   "execution_count": 6,
   "metadata": {
    "collapsed": false
   },
   "outputs": [
    {
     "name": "stdout",
     "output_type": "stream",
     "text": [
      "\n",
      " Reading on the AC voltmeter is 3.3234 V \n",
      "\n"
     ]
    }
   ],
   "source": [
    "from numpy import sqrt\n",
    "R1=10e3#\n",
    "Rf=47e3##feedback resistance\n",
    "Vcc=12##supply voltage\n",
    "A=-Rf/R1##gain of an inverting amplifier\n",
    "A=abs(A)##magnitude of the gain of an inverting amplifier\n",
    "Vin=2##peak to peak input voltage\n",
    "Voo=Vin*A##peak to peak output voltage\n",
    "#the AC voltmeter measures the rms value\n",
    "Vo=Voo/2##peak output voltage\n",
    "Vrms=Vo/sqrt(2)##rms value of the output voltage\n",
    "print \"\\n Reading on the AC voltmeter is %.4f V \\n\"%(Vrms)"
   ]
  },
  {
   "cell_type": "markdown",
   "metadata": {},
   "source": [
    "## Ex 10_7 PG-10.37 ;;;;;;;;;;;;;;;;;;;;;;;"
   ]
  },
  {
   "cell_type": "code",
   "execution_count": 7,
   "metadata": {
    "collapsed": false
   },
   "outputs": [
    {
     "name": "stdout",
     "output_type": "stream",
     "text": [
      "\n",
      " peak to peak value of the output voltage Vo = -0 V \n",
      "\n",
      "\n",
      " voltage gain of the inverting amplifier  Af = -1 \n",
      " \n"
     ]
    },
    {
     "data": {
      "image/png": "[encoded data removed]",
      "text/plain": [
       "<matplotlib.figure.Figure at 0x7f30748a6a90>"
      ]
     },
     "metadata": {},
     "output_type": "display_data"
    }
   ],
   "source": [
    "## R1=1e3#\n",
    "Rf=10e3##feedback resistance\n",
    "Vin=100e-3##input voltage peak to peak\n",
    "A=-Rf/R1##gain of an inverting amplifier\n",
    "Vo=A*Vin#\n",
    "print \"\\n peak to peak value of the output voltage Vo = %.0f V \\n\"%(Vo)\n",
    "print \"\\n voltage gain of the inverting amplifier  Af = %.0f \\n \"%(A)\n",
    "#plotting of the waveforms\n",
    "%matplotlib inline\n",
    "from matplotlib.pyplot import plot, subplot, title, xlabel, ylabel, show, grid\n",
    "plt.subplot(2,1,1)    #input voltage Vin=0.5V peak\n",
    "from numpy import arange, pi, sqrt, sin\n",
    "x=arange(0,9,pi/100)\n",
    "y=50*sin(x)\n",
    "plot(x,y)\n",
    "title(\"Input voltage Vin \")\n",
    "xlabel(\"time\")\n",
    "ylabel(\"Vin=100mV peak to peak\")\n",
    "grid()\n",
    "subplot(2,1,2)      #output voltage Vo=2.5V peak\n",
    "x=arange(0,9,pi/100)  \n",
    "y=-500*sin(x)\n",
    "plot(x,y)\n",
    "#xtitle(\"Output voltage Vo\" ,\"time\"%(\"Vo=1000mV peak to peak\"\n",
    "grid()"
   ]
  },
  {
   "cell_type": "markdown",
   "metadata": {},
   "source": [
    "## Ex 10_8 PG-10.40"
   ]
  },
  {
   "cell_type": "code",
   "execution_count": 8,
   "metadata": {
    "collapsed": false
   },
   "outputs": [
    {
     "name": "stdout",
     "output_type": "stream",
     "text": [
      "Refer to the figure-10.36 shown\n",
      "\n",
      " \n",
      " The gain of the non inverting amplifier is A=1+Rf/R1\n",
      "\n",
      "\n",
      " Therefore feedback resistance Rf=60 kohm \n",
      "\n"
     ]
    }
   ],
   "source": [
    "A=61##gain required for the non inverting amplifier\n",
    "R1=1e3#\n",
    "print \"Refer to the figure-10.36 shown\\n\"\n",
    "print \" \\n The gain of the non inverting amplifier is A=1+Rf/R1\"\n",
    "#the gain of the non inverting amplifier is A=1+Rf/R1\n",
    "x=A-1##x=Rf/R1\n",
    "Rf=x*R1#\n",
    "print \"\\n\\n Therefore feedback resistance Rf=%.0f kohm \\n\"%(Rf*1e-3)"
   ]
  },
  {
   "cell_type": "markdown",
   "metadata": {},
   "source": [
    "## Ex 10_9 PG-10.40"
   ]
  },
  {
   "cell_type": "code",
   "execution_count": 9,
   "metadata": {
    "collapsed": false
   },
   "outputs": [
    {
     "name": "stdout",
     "output_type": "stream",
     "text": [
      "Gain is 11\n",
      "\n",
      "For Vin =0.5V \n",
      " Output voltage Vo=5.5 V \n",
      "\n",
      "For Vin =-3V \n",
      " Output voltage Vo=-33.0 V \n",
      "\n",
      "\n",
      " but Vo=-33V is not possible. Output will saturate at -12V \n",
      "\n",
      " And the remaining portion will be clipped from output.\n"
     ]
    }
   ],
   "source": [
    "R1=1e3#\n",
    "Rf=10e3##feedback resistance\n",
    "A=1+Rf/R1##gain of a non-inverting amplifier\n",
    "print \"Gain is %.0f\\n\"%(A)\n",
    "print \"For Vin =0.5V \"\n",
    "Vin=0.5##input voltage\n",
    "Vo=A*Vin#\n",
    "print \" Output voltage Vo=%.1f V \\n\"%(Vo)\n",
    "print \"For Vin =-3V \"\n",
    "Vin=-3##input voltage\n",
    "Vo=A*Vin#\n",
    "print \" Output voltage Vo=%.1f V \\n\"%(Vo)\n",
    "print \"\\n but Vo=-33V is not possible. Output will saturate at -12V \\n\"\n",
    "print \" And the remaining portion will be clipped from output.\""
   ]
  },
  {
   "cell_type": "markdown",
   "metadata": {},
   "source": [
    "## Ex 10_10 PG-10.48"
   ]
  },
  {
   "cell_type": "code",
   "execution_count": 10,
   "metadata": {
    "collapsed": false
   },
   "outputs": [
    {
     "name": "stdout",
     "output_type": "stream",
     "text": [
      "Refer to the figure-10.43 shown\n",
      " \n",
      "\n",
      " Vb=Va=0  ................(1)\n",
      "\n",
      " Vb=0 \n",
      " I1=(Vin-Vb)/R1=Vin/R1 \n",
      " I1=(Vb-Vx)/R2=-Vx/R2 \n",
      " \n",
      "   Vin/Rf=-Vx/R2\n",
      "\n",
      " =>Vx=-R2/R1*Vin........(2) \n",
      " \n",
      " now Vx=I2*R4 and (I1-I2)=(Vx-Vo)/R3 \n",
      "\n",
      " =>I2=Vx/R4 and I1-Vx/R4=(Vx-Vo)/R3 \n",
      " Therefore \n",
      " Vin/R1-Vx/R4=(Vx-Vo)/R3 ....\n",
      ".......using I1=Vin/R1 \n",
      " Vin/R1-Vx(1/R4+1/R3)=-Vo/R3 \n",
      " \n",
      " \n",
      "Vin/R1-(-R2/R1)*Vin*(1/R4+1/R3)=-Vo/R3 ........using (2) \n",
      "\n",
      " Vin*(1/R1+R2/R1*(1/R4+1/R3))=-Vo/R3 \n",
      " \n",
      " \n",
      "Vin=-(R1*R4/(R3*R4+R2*R3+R2*R4))*Vo \n",
      " \n",
      "\n",
      " Acl=Vo/Vin=-(R3*R4+R2*R3+R2*R4)/(R1*R4) \n",
      "\n",
      "\n",
      " closed loop gain Acl=-260 \n",
      "\n",
      "\n",
      " equivalent feedback resistance Rf= 260 kohm \n"
     ]
    }
   ],
   "source": [
    "print \"Refer to the figure-10.43 shown\\n \"\n",
    "#A is grounded so B is virtual ground\n",
    "#Vb=Va=0\n",
    "Vb=0#\n",
    "R1=1e3#\n",
    "R2=5e3#\n",
    "R3=5e3#\n",
    "R4=100#\n",
    "print \"\\n Vb=Va=0  ................(1)\"\n",
    "print \"\\n Vb=0 \\n I1=(Vin-Vb)/R1=Vin/R1 \\n I1=(Vb-Vx)/R2=-Vx/R2 \\n \\n   Vin/Rf=-Vx/R2\"\n",
    "print \"\\n =>Vx=-R2/R1*Vin........(2) \\n \\n now Vx=I2*R4 and (I1-I2)=(Vx-Vo)/R3 \\n\"\n",
    "print \" =>I2=Vx/R4 and I1-Vx/R4=(Vx-Vo)/R3 \\n Therefore \\n Vin/R1-Vx/R4=(Vx-Vo)/R3 ....\"\n",
    "print \".......using I1=Vin/R1 \\n Vin/R1-Vx(1/R4+1/R3)=-Vo/R3 \\n \\n \"\n",
    "print \"Vin/R1-(-R2/R1)*Vin*(1/R4+1/R3)=-Vo/R3 ........using (2) \\n\"\n",
    "print \" Vin*(1/R1+R2/R1*(1/R4+1/R3))=-Vo/R3 \\n \\n \"                 \n",
    "print \"Vin=-(R1*R4/(R3*R4+R2*R3+R2*R4))*Vo \\n \\n\"\n",
    "print \" Acl=Vo/Vin=-(R3*R4+R2*R3+R2*R4)/(R1*R4) \\n\"\n",
    "Acl=-(R3*R4+R2*R3+R2*R4)/(R1*R4)#\n",
    "print \"\\n closed loop gain Acl=%.0f \\n\"%(Acl)\n",
    "Acl=abs(Acl)#\n",
    "Rf=R1*Acl##equivalent feedback resistance\n",
    "print \"\\n equivalent feedback resistance Rf= %.0f kohm \"%(Rf*1e-3)"
   ]
  },
  {
   "cell_type": "markdown",
   "metadata": {},
   "source": [
    "## Ex 10_11 PG-10.50"
   ]
  },
  {
   "cell_type": "code",
   "execution_count": 11,
   "metadata": {
    "collapsed": false
   },
   "outputs": [
    {
     "name": "stdout",
     "output_type": "stream",
     "text": [
      "Refer to the figure-10.45 and figure-10.45(a)shown\n",
      "\n",
      " output voltage Vo=30 V \n",
      "\n"
     ]
    }
   ],
   "source": [
    "print \"Refer to the figure-10.45 and figure-10.45(a)shown\"\n",
    "#the circuit is a non inverting amplifier\n",
    "Vin=10##input voltage\n",
    "#opamp input current is zero...\n",
    "R1=10e3##resistance connected to the -ve terminal of the amplifier\n",
    "R2=1e3##resistance connected to the +ve terminal of the amplifier to the input voltage \n",
    "R3=1e3###resistance connected to the +ve terminal of the amplifier to the gound\n",
    "Rf=50e3##feedback resistance\n",
    "I=Vin/(R2+R3)#\n",
    "Vb=I*R3#\n",
    "V0=(1+Rf/R1)*Vb##output voltage\n",
    "print \"\\n output voltage Vo=%.f V \\n\"%(V0)"
   ]
  },
  {
   "cell_type": "markdown",
   "metadata": {},
   "source": [
    "## Ex 10_12 PG-10.51"
   ]
  },
  {
   "cell_type": "code",
   "execution_count": 12,
   "metadata": {
    "collapsed": false
   },
   "outputs": [
    {
     "name": "stdout",
     "output_type": "stream",
     "text": [
      "Refer to the figure-10.46 and figure-10.46(a)shown\n",
      "We split the circuit of the figure-10.46 as shown in figure-10.46(a)\n",
      "For first stage the circuit is a non-inverting amplifier\n",
      "Therefore Vo1 = 1.1*V1\n",
      "\n",
      " For the second stage we use superposition principle.\n",
      " We use each input at one time\n",
      "\n",
      "First we assume Vo1 is active and V2 is grounded as shown in figure10.46(b)\n",
      "Therefore Vo_ = -11.0*V1\n",
      "then we assume V2 is active and Vo1 is grounded as shown in figure10.46(c)\n",
      "Therefore Vo__ = 11.0*V2\n",
      "\n",
      "   Therefore output voltage Vo = Vo_ + Vo__= 11V2-11V1 \n",
      "  =>Vo=11(V2-V1)\n"
     ]
    }
   ],
   "source": [
    "print \"Refer to the figure-10.46 and figure-10.46(a)shown\"\n",
    "print \"We split the circuit of the figure-10.46 as shown in figure-10.46(a)\" \n",
    "print \"For first stage the circuit is a non-inverting amplifier\"\n",
    "Rf=10e3##feedback resistance for the first stage of the circuit\n",
    "R1=100e3##value of R1 for the first stage of the circuit \n",
    "from sympy import symbols\n",
    "V1=symbols('V1')##V1=Vin\n",
    "Vo1=(1+Rf/R1)*V1#\n",
    "print \"Therefore Vo1 =\",Vo1\n",
    "\n",
    "print \"\\n For the second stage we use superposition principle.\\n We use each input at one time\\n\"\n",
    "print \"First we assume Vo1 is active and V2 is grounded as shown in figure10.46(b)\"\n",
    "Rf1=100e3##feedback resistance for figure-10.46(b)\n",
    "R11=10e3##value of R1 for figure1-10.46(a)\n",
    "Vo_=-Rf1/R11*Vo1##when V2=0V as shown in figure-10.46(b)\n",
    "print \"Therefore Vo_ =\",Vo_\n",
    "\n",
    "print \"then we assume V2 is active and Vo1 is grounded as shown in figure10.46(c)\"\n",
    "V2=symbols('V2')##V2=Vin\n",
    "Vo__=(1+Rf1/R11)*V2##when Vo1=0V as shown in figure-10.46(c),it is a non inverting amplifier\n",
    "print \"Therefore Vo__ =\",Vo__\n",
    "print \"\\n   Therefore output voltage Vo = Vo_ + Vo__= 11V2-11V1 \"\n",
    "print \"  =>Vo=11(V2-V1)\""
   ]
  },
  {
   "cell_type": "markdown",
   "metadata": {},
   "source": [
    "## Ex 10_13 PG-10.62"
   ]
  },
  {
   "cell_type": "code",
   "execution_count": 13,
   "metadata": {
    "collapsed": false
   },
   "outputs": [
    {
     "name": "stdout",
     "output_type": "stream",
     "text": [
      "Refer to the figure-10.55 and shown\n",
      "\n",
      " output voltage Vout=-7 V \n",
      "\n"
     ]
    }
   ],
   "source": [
    "print \"Refer to the figure-10.55 and shown\"\n",
    "R1=1e3#\n",
    "Rf=1e3##feedback resistance\n",
    "Vin1=2#\n",
    "Vin2=1#\n",
    "Vin3=4#\n",
    "Vout=-(Vin1+Vin2+Vin3)*Rf/R1\n",
    "print \"\\n output voltage Vout=%.f V \\n\"%(Vout)"
   ]
  },
  {
   "cell_type": "markdown",
   "metadata": {},
   "source": [
    "## Ex 10_14 PG-10.62"
   ]
  },
  {
   "cell_type": "code",
   "execution_count": 14,
   "metadata": {
    "collapsed": false
   },
   "outputs": [
    {
     "name": "stdout",
     "output_type": "stream",
     "text": [
      "\n",
      "   Vo = -(3V1 + 4V2 + 5V3)\n",
      "\n",
      "\n",
      "   R1= 40kohm  R2= 30kohm R3 = 24kohm\n",
      "\n",
      "\n",
      "   The circuit design is shown\n"
     ]
    }
   ],
   "source": [
    "print \"\\n   Vo = -(3V1 + 4V2 + 5V3)\\n\\n\"\n",
    "Rf=120##we assume feedback resistance to be equal to 120kohm\n",
    "R1=Rf/3##Rf/R1=3 given \n",
    "R2=Rf/4##Rf/R2=4 given \n",
    "R3=Rf/5##Rf/R3=5 given \n",
    "print \"   R1= %.0fkohm  R2= %.0fkohm R3 = %.0fkohm\\n\"%(R1,R2,R3)\n",
    "print \"\\n   The circuit design is shown\""
   ]
  },
  {
   "cell_type": "markdown",
   "metadata": {},
   "source": [
    "## Ex 10_16 PG-10.64"
   ]
  },
  {
   "cell_type": "code",
   "execution_count": 15,
   "metadata": {
    "collapsed": false
   },
   "outputs": [
    {
     "name": "stdout",
     "output_type": "stream",
     "text": [
      "\n",
      " Therefore output voltage is Vo=12 V \n",
      "\n",
      "\n",
      " Vo=12 \n",
      "\n"
     ]
    }
   ],
   "source": [
    "## print \"Refer to the figure-10.58 and figure-10.58(a)shown\"\n",
    "R1=1e3#\n",
    "R2=R1#\n",
    "Rf=5e3##feedback resistance\n",
    "R=1e3##resistance connected to the inverting terminal\n",
    "V1=1##first input voltage at the non inverting terminal\n",
    "V2=3##second input voltage at the non inverting terminal\n",
    "Vb=(V1*R2+V2*R1)/(R1+R2)##voltage at the non inverting terminal\n",
    "Vo=(1+Rf/R)*Vb##output voltage \n",
    "print \"\\n Therefore output voltage is Vo=%.0f V \\n\"%(Vo)\n",
    "#alternatively we can find the output voltage by the following equation\n",
    "Vo1=(R2*(R+Rf))/(R*(R1+R2))*V1+(R1*(R+Rf))/(R*(R1+R2))*V2 \n",
    "print \"\\n Vo=%.0f \\n\"%(Vo1)"
   ]
  },
  {
   "cell_type": "markdown",
   "metadata": {},
   "source": [
    "## Ex 10_17 PG-10.65"
   ]
  },
  {
   "cell_type": "code",
   "execution_count": 16,
   "metadata": {
    "collapsed": false
   },
   "outputs": [
    {
     "name": "stdout",
     "output_type": "stream",
     "text": [
      "Refer to the figure-10.59 shown\n",
      "\n",
      " Therefore output voltage is Vo=-0.5 V \n",
      "\n"
     ]
    }
   ],
   "source": [
    "print \"Refer to the figure-10.59 shown\"\n",
    "Rf=10e3##feedback resistance\n",
    "R1=10e3#\n",
    "R2=20e3#\n",
    "R3=30e3#\n",
    "R4=40e3#\n",
    "V1=-1##first input voltage at the inverting terminal\n",
    "V2=2##second input voltage at the  inverting terminal\n",
    "V3=3##third input voltage at the inverting terminal\n",
    "V4=-2##fourth input voltage at the inverting terminal\n",
    "Vo=-(Rf/R1*V1+Rf/R2*V2+Rf/R3*V3+Rf/R4*V4)##output voltage\n",
    "print \"\\n Therefore output voltage is Vo=%.1f V \\n\"%(Vo)"
   ]
  },
  {
   "cell_type": "markdown",
   "metadata": {},
   "source": [
    "## Ex 10_18 PG-10.66"
   ]
  },
  {
   "cell_type": "code",
   "execution_count": 17,
   "metadata": {
    "collapsed": false
   },
   "outputs": [
    {
     "name": "stdout",
     "output_type": "stream",
     "text": [
      "\n",
      " Therefore output voltage is Vo=-20 V \n",
      "\n"
     ]
    }
   ],
   "source": [
    "Rf=1e6##feedback resistance\n",
    "R1=200e3#\n",
    "R2=250e3#\n",
    "R3=500e3#\n",
    "V1=-2##first input voltage at the inverting terminal\n",
    "V2=2##second input voltage at the  inverting terminal\n",
    "V3=11##third input voltage at the inverting terminal\n",
    "Vo=-(Rf/R1*V1+Rf/R2*V2+Rf/R3*V3)##output voltage\n",
    "print \"\\n Therefore output voltage is Vo=%.0f V \\n\"%(Vo)\n",
    "#in the book the output Vo=-20V if the value of V3=11V \n",
    "#but in the question the value of V3=1V so\n",
    "#I have taken V3=11V so that the Vo=-20V "
   ]
  },
  {
   "cell_type": "markdown",
   "metadata": {},
   "source": [
    "## Ex 10_19 PG-10.66"
   ]
  },
  {
   "cell_type": "code",
   "execution_count": 18,
   "metadata": {
    "collapsed": false
   },
   "outputs": [
    {
     "name": "stdout",
     "output_type": "stream",
     "text": [
      "\n",
      " Therefore output voltage is Vo= 6 V \n",
      "\n"
     ]
    }
   ],
   "source": [
    "Rf=60e3##feedback resistance\n",
    "R1=10e3#\n",
    "R2=20e3#\n",
    "R3=30e3#\n",
    "V1=-1##first input voltage at the inverting terminal\n",
    "V2=-2##second input voltage at the  inverting terminal\n",
    "V3=3##third input voltage at the inverting terminal\n",
    "Vo=-(Rf/R1*V1+Rf/R2*V2+Rf/R3*V3)##output voltage\n",
    "print \"\\n Therefore output voltage is Vo= %.0f V \\n\"%(Vo)"
   ]
  },
  {
   "cell_type": "markdown",
   "metadata": {},
   "source": [
    "## Ex 10_20 PG-10.67"
   ]
  },
  {
   "cell_type": "code",
   "execution_count": 19,
   "metadata": {
    "collapsed": false
   },
   "outputs": [
    {
     "name": "stdout",
     "output_type": "stream",
     "text": [
      "\n",
      "   Vo = -(0.1V1 + 0.5V2 + 20V3)\n",
      "\n",
      "\n",
      "   R1= 100 kohm  R2= 20 kohm R3 = 500 ohm\n",
      "\n",
      "\n",
      "   The circuit design is shown\n"
     ]
    }
   ],
   "source": [
    "print \"\\n   Vo = -(0.1V1 + 0.5V2 + 20V3)\\n\\n\"\n",
    "Rf=10##we assume feedback resistance to be equal to 10kohm\n",
    "R1=Rf/0.1##Rf/R1=0.1 given \n",
    "R2=Rf/0.5##Rf/R2=0.5 given \n",
    "R3=Rf/20##Rf/R3=20 given \n",
    "print \"   R1= %.0f kohm  R2= %.0f kohm R3 = %.0f ohm\\n\"%(R1,R2,R3*1e3)\n",
    "print \"\\n   The circuit design is shown\""
   ]
  },
  {
   "cell_type": "markdown",
   "metadata": {},
   "source": [
    "## Ex 10_21 PG-10.70"
   ]
  },
  {
   "cell_type": "code",
   "execution_count": 20,
   "metadata": {
    "collapsed": false
   },
   "outputs": [
    {
     "name": "stdout",
     "output_type": "stream",
     "text": [
      "\n",
      "   Vo = (2V1 - 3V2 + 4V3 - 5V4)\n",
      "\n",
      "\n",
      "   The positive terms and negative terms can be added separately\n",
      "\n",
      "\n",
      "\n",
      "   Vo1 = (2V1 + 4V3 )\n",
      "\n",
      "   Therefore R1= 50kohm   R3 = 25kohm\n",
      "\n",
      "\n",
      "   Vo2 = -(3V2 + 5V4)\n",
      "\n",
      "   Therefore R2= 40kohm   R4 = 24kohm\n",
      "\n",
      "\n",
      "   The output voltage is Vo = Vo2-Vo1 = (2V1 - 3V2 + 4V3 - 5V4)\n",
      "\n",
      "   The circuit design is shown\n",
      "\n",
      "   For the subtractor we use R = 100kohm  \n"
     ]
    }
   ],
   "source": [
    "print \"\\n   Vo = (2V1 - 3V2 + 4V3 - 5V4)\\n\\n\"\n",
    "print \"   The positive terms and negative terms can be added separately\\n\\n\"\n",
    "print \"\\n   Vo1 = (2V1 + 4V3 )\\n\"\n",
    "Rf1=100##we assume feedback resistance to be equal to 100kohm\n",
    "R1=Rf1/2##Rf/R1=2 given \n",
    "R3=Rf1/4##Rf/R3=4 given \n",
    "print \"   Therefore R1= %.0fkohm   R3 = %.0fkohm\\n\"%(R1,R3)\n",
    "\n",
    "print \"\\n   Vo2 = -(3V2 + 5V4)\\n\"\n",
    "Rf2=120##we assume feedback resistance to be equal to 120kohm\n",
    "R2=Rf2/3##Rf/R2=3 given \n",
    "R4=Rf2/5##Rf/R4=5 given \n",
    "print \"   Therefore R2= %.0fkohm   R4 = %.0fkohm\\n\"%(R2,R4)\n",
    "print \"\\n   The output voltage is Vo = Vo2-Vo1 = (2V1 - 3V2 + 4V3 - 5V4)\"\n",
    "print \"\\n   The circuit design is shown\"\n",
    "print \"\\n   For the subtractor we use R = 100kohm  \""
   ]
  },
  {
   "cell_type": "markdown",
   "metadata": {},
   "source": [
    "## Ex 10_22 PG-10.76"
   ]
  },
  {
   "cell_type": "code",
   "execution_count": 21,
   "metadata": {
    "collapsed": false
   },
   "outputs": [
    {
     "name": "stdout",
     "output_type": "stream",
     "text": [
      "\n",
      "   We integrate Vin ie Vo = -0.06*integrate(sin4*pi*100)\n",
      "\n",
      "\n",
      "Enter the value of t (between 0 and 1) :  0.5\n",
      "-1.2799344354326e-15\n"
     ]
    }
   ],
   "source": [
    "R1=100e3#\n",
    "Cf=1e-6#\n",
    "Vm=6e-3##peak value of the input voltage\n",
    "fr=2e3##frequency  supplied at the input\n",
    "w=2*pi*fr##angular frequency in rad/s\n",
    "a=-Vm/(R1*Cf)#constant \n",
    "print \"\\n   We integrate Vin ie Vo = %.2f*integrate(sin4*pi*100)\\n\\n\"%(a)\n",
    "def f(x):\n",
    "    y=sin(w*x)\n",
    "    return y\n",
    "t=input('Enter the value of t (between 0 and 1) :  ')\n",
    "#the limit is from 0 to t\n",
    "from sympy.mpmath import quad, sin\n",
    "I=quad(f,[0,t])##we should enter the value of t \n",
    "x=I*a#\n",
    "print x#                    "
   ]
  }
 ],
 "metadata": {
  "kernelspec": {
   "display_name": "Python 2",
   "language": "python",
   "name": "python2"
  },
  "language_info": {
   "codemirror_mode": {
    "name": "ipython",
    "version": 2
   },
   "file_extension": ".py",
   "mimetype": "text/x-python",
   "name": "python",
   "nbconvert_exporter": "python",
   "pygments_lexer": "ipython2",
   "version": "2.7.9"
  }
 },
 "nbformat": 4,
 "nbformat_minor": 0
}
