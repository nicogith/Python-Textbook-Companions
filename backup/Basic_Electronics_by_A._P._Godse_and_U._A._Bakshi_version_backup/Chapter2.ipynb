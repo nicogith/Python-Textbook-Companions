{
 "cells": [
  {
   "cell_type": "markdown",
   "metadata": {},
   "source": [
    "# Chapter 2 Semiconductor devices"
   ]
  },
  {
   "cell_type": "markdown",
   "metadata": {},
   "source": [
    "## Ex 2.1 Pg-2.18"
   ]
  },
  {
   "cell_type": "code",
   "execution_count": 1,
   "metadata": {
    "collapsed": false
   },
   "outputs": [
    {
     "name": "stdout",
     "output_type": "stream",
     "text": [
      "the equivalent resistance are Rf=3.333 ohm and Rr=2.4 M ohm\n"
     ]
    }
   ],
   "source": [
    "Vf=0.2 #  #voltage in volts\n",
    "Vr=60 #  #voltage in volts\n",
    "If=60*10**(-3) #  #current in  ampere\n",
    "I0=0.025*10**(-3) #  #current in  ampere\n",
    "Rf=Vf/If # #forward resistance\n",
    "Rr=Vr/I0 # #reverse resistance\n",
    "Rr=Rr*1e-6\n",
    "print \"the equivalent resistance are Rf=%.3f ohm and Rr=%-.1f M ohm\"%(Rf,Rr)"
   ]
  },
  {
   "cell_type": "markdown",
   "metadata": {},
   "source": [
    "## Ex-2.2 Pg-2.18"
   ]
  },
  {
   "cell_type": "code",
   "execution_count": 2,
   "metadata": {
    "collapsed": false
   },
   "outputs": [
    {
     "name": "stdout",
     "output_type": "stream",
     "text": [
      "refer to the Figure-2.19 given \n",
      "from the characteristics at point P, Vf=0.7V,If=60mA\n",
      "\n",
      " DC forward resistance Rf : 11.67 ohm\n",
      "\n",
      "as the forward voltage changes from P to Q\n",
      "\n",
      " Dynamic forward resistance rf : 1.167 ohm\n"
     ]
    }
   ],
   "source": [
    "print \"refer to the Figure-2.19 given \"\n",
    "print \"from the characteristics at point P, Vf=0.7V,If=60mA\"\n",
    "Vf=0.7 #\n",
    "If=0.06 #\n",
    "Rf=Vf/If # #DC forward resistance\n",
    "print \"\\n DC forward resistance Rf : %.2f ohm\\n\"%(Rf)\n",
    "print \"as the forward voltage changes from P to Q\"\n",
    "delta_Vf=0.77-.7 #\n",
    "delta_If=(120-60)*10**(-3) #\n",
    "rf=delta_Vf/delta_If # #dynamic forward resistance\n",
    "print \"\\n Dynamic forward resistance rf : %.3f ohm\"%(rf)"
   ]
  },
  {
   "cell_type": "markdown",
   "metadata": {},
   "source": [
    "## Ex 2_3 Pg-2-22"
   ]
  },
  {
   "cell_type": "code",
   "execution_count": 3,
   "metadata": {
    "collapsed": false
   },
   "outputs": [
    {
     "name": "stdout",
     "output_type": "stream",
     "text": [
      " Refer to the figure-2.24 shown \n",
      " since Rf=0 The circuit becomes as shown in figure-2.24(a)\n",
      "\n",
      " \n",
      " current through the resistance Il=If = is 9.3 mA\n",
      "\n",
      " \n",
      " voltage across Rl is 9.3 V\n",
      "\n",
      " \n",
      " diode power Pd = 6.51 mW\n",
      "\n",
      " \n",
      " load power Pl = 86.49 mW\n"
     ]
    }
   ],
   "source": [
    "print \" Refer to the figure-2.24 shown \"\n",
    "print \" since Rf=0 The circuit becomes as shown in figure-2.24(a)\"\n",
    "V=10 # #supply voltage\n",
    "Rf=0 # #forward resistance\n",
    "Rl=1 # #load resistance in k ohm\n",
    "Vin=0.7 # #cut in voltage\n",
    "Il=(V-Vin)/Rl # #applying KVL to the loop\n",
    "If=Il #\n",
    "print \"\\n \\n current through the resistance Il=If = is %.1f mA\"%(If)\n",
    "Vl=Il*Rl #\n",
    "print \"\\n \\n voltage across Rl is %.1f V\"%(Vl)\n",
    "Pd=If*Vin #\n",
    "print \"\\n \\n diode power Pd = %.2f mW\"%(Pd)\n",
    "Pl=Il*Vl #\n",
    "print \"\\n \\n load power Pl = %.2f mW\"%(Pl)"
   ]
  },
  {
   "cell_type": "markdown",
   "metadata": {},
   "source": [
    "## Ex 2_4 PG-2.23"
   ]
  },
  {
   "cell_type": "code",
   "execution_count": 4,
   "metadata": {
    "collapsed": false
   },
   "outputs": [
    {
     "name": "stdout",
     "output_type": "stream",
     "text": [
      "Refer the Figure-2.25 shown\n",
      "When forward resistance Rf is neglected  then\n",
      "the diode behaves as a battery as shown in Figure-2.25(a)\n",
      "\n",
      " Forward current is 18.60 mA\n",
      "\n",
      "When forward resistance is Rf is 3.2 Ohm then\n",
      "the equivalent circuit is as shown in fig-2.25(b)\n",
      "\n",
      " therefore Forward current is 18.4817 mA\n"
     ]
    }
   ],
   "source": [
    "print \"Refer the Figure-2.25 shown\"\n",
    "print \"When forward resistance Rf is neglected  then\"\n",
    "print \"the diode behaves as a battery as shown in Figure-2.25(a)\"\n",
    "Vf=0.7 # #cut-in voltage\n",
    "V=10 # #supply voltage\n",
    "Rl=500 # #load resistance\n",
    "If=(V-Vf)/Rl # #applying KVL to the circuit\n",
    "If=If*1e3\n",
    "print \"\\n Forward current is %.2f mA\\n\"%(If)\n",
    "print \"When forward resistance is Rf is 3.2 Ohm then\"\n",
    "print \"the equivalent circuit is as shown in fig-2.25(b)\"\n",
    "Rf=3.2 #\n",
    "If=(V-Vf)/(Rl+Rf) # #applying KVL to the circuit\n",
    "If=If*1e3\n",
    "print \"\\n therefore Forward current is %.4f mA\"%(If)"
   ]
  },
  {
   "cell_type": "markdown",
   "metadata": {},
   "source": [
    "## Ex 2_5 PG-2.23"
   ]
  },
  {
   "cell_type": "code",
   "execution_count": 5,
   "metadata": {
    "collapsed": false
   },
   "outputs": [
    {
     "name": "stdout",
     "output_type": "stream",
     "text": [
      "when forward current is zero then\n",
      " voltage across the diode is 0.3 V\n",
      "\n",
      "when forward current is 80mA then\n",
      " voltage across the diode is 0.332 V\n"
     ]
    },
    {
     "data": {
      "image/png": "[encoded data removed]",
      "text/plain": [
       "<matplotlib.figure.Figure at 0x7fb06044c950>"
      ]
     },
     "metadata": {},
     "output_type": "display_data"
    }
   ],
   "source": [
    "If=80e-3 # #maximum forward current\n",
    "Rf=0.4 # #dynamic resistance\n",
    "Vin=0.3 # #cut-in voltage for germanium\n",
    "print \"when forward current is zero then\"\n",
    "Vf=Vin # #voltage across the diode\n",
    "print \" voltage across the diode is %1.1f V\\n\"%(Vf)\n",
    "print \"when forward current is 80mA then\"\n",
    "Vf=Vin+If*Rf #\n",
    "print \" voltage across the diode is %1.3f V\"%(Vf)\n",
    "x=[0 ,.1 ,.2 ,.3 ,.332] # #x-coordinate\n",
    "y=[0  ,0  ,0  ,0  ,80] # #y-coordinate\n",
    "%matplotlib inline\n",
    "import matplotlib.pyplot as plt\n",
    "plt.plot(x,y)\n",
    "plt.xlabel('voltage across the diode (V) ') #\n",
    "plt.ylabel('current (mA)') #\n",
    "plt.title('Piecewise linear characteristic')\n",
    "plt.grid()\n",
    "plt.show()"
   ]
  },
  {
   "cell_type": "markdown",
   "metadata": {},
   "source": [
    "## Ex 2_6 PG-2.28"
   ]
  },
  {
   "cell_type": "code",
   "execution_count": 6,
   "metadata": {
    "collapsed": false
   },
   "outputs": [
    {
     "name": "stdout",
     "output_type": "stream",
     "text": [
      "Refer to the Figure:2.29 shown\n",
      "for Q point If=25mA, ie Iq=25mA\n",
      "for If=0 A, Vf=Vin=3V at point B\n",
      "Now we draw the graph\n",
      "The coordinates are Q=(1V,25mA) B=(3V,0mA)\n"
     ]
    },
    {
     "data": {
      "image/png": "[encoded data removed]",
      "text/plain": [
       "<matplotlib.figure.Figure at 0x7fb060470d50>"
      ]
     },
     "metadata": {},
     "output_type": "display_data"
    },
    {
     "name": "stdout",
     "output_type": "stream",
     "text": [
      "Q-point is denoted by the intersection of two lines as shown in the plot\n",
      "Therefore load resistance is the reciprocal of the slope \n",
      "\n",
      " required load resistance is 90 ohm\n"
     ]
    }
   ],
   "source": [
    "print \"Refer to the Figure:2.29 shown\"\n",
    "If=25e-3 # #current at Q-point\n",
    "print \"for Q point If=25mA, ie Iq=25mA\"\n",
    "print \"for If=0 A, Vf=Vin=3V at point B\"\n",
    "print \"Now we draw the graph\"\n",
    "print \"The coordinates are Q=(1V,25mA) B=(3V,0mA)\"\n",
    "x=[ 0 ,0.5, 0.6,    1,   1.1 ] # #x-coordinate\n",
    "y=[ 0 , 1 ,  5     ,25   ,30 ] # #y-coordinate\n",
    "%matplotlib inline\n",
    "import matplotlib.pyplot as plt\n",
    "plt.plot(x,y)\n",
    "x1=[0.5 ,  1,    3] # #x-coordinate\n",
    "y1=[ 31   ,25 ,  0] # #y-coordinate\n",
    "plt.plot(x1,y1)\n",
    "x2=[ 0, 1] #\n",
    "y2=[25 ,25] #\n",
    "plt.plot(x2,y2)\n",
    "plt.xlabel('Vf (volts)') #\n",
    "plt.ylabel('If (mA)') #\n",
    "plt.title(\"Piece-wise linear characteristic\")\n",
    "plt.grid() #\n",
    "plt.show()\n",
    "print \"Q-point is denoted by the intersection of two lines as shown in the plot\"\n",
    "delta_If=10e-3 # #from the graph plotted\n",
    "delta_Vf=0.9 # #from the graph plotted\n",
    "s=delta_If/delta_Vf # #slope\n",
    "print \"Therefore load resistance is the reciprocal of the slope \"\n",
    "Rl=1/s # #load resistance\n",
    "print \"\\n required load resistance is %.0f ohm\"%(Rl)"
   ]
  },
  {
   "cell_type": "markdown",
   "metadata": {},
   "source": [
    "## Ex 2_7 PG-2.29"
   ]
  },
  {
   "cell_type": "code",
   "execution_count": 7,
   "metadata": {
    "collapsed": false
   },
   "outputs": [
    {
     "name": "stdout",
     "output_type": "stream",
     "text": [
      "We draw the new DC load line in the plot\n",
      "\n",
      " slope is -1.000000 \n",
      "\n",
      "The slope passes through the Q-point so the equation of the load \n",
      "line is If=(-Vf/Rl)+(Vin/Rl)\n",
      "Now from the graph we can see that slope =(change in If)/(change in Vf)\n",
      "For If=35 mA Vf=1.1 V\n",
      "The coordinates are Q=(1.1V,35mA) C=(2.6V,25mA) B=(6.4V,0mA)\n",
      "\n",
      " change in Vf is 0.0 V \n",
      "\n",
      "This is point C corresponding to If=35-10=35mA, as If is change by 10mA\n",
      "and Vf=2.6V \n",
      "We join the Q-point and point C as shown in the plot to get the DC load\n",
      " line we extend the line to intersect point B \n",
      "the voltage at point B is the new supply voltage required\n",
      "\n",
      " From the plot voltage at point B = 6.7 V\n"
     ]
    },
    {
     "data": {
      "image/png": "[encoded data removed]",
      "text/plain": [
       "<matplotlib.figure.Figure at 0x7fb060470dd0>"
      ]
     },
     "metadata": {},
     "output_type": "display_data"
    }
   ],
   "source": [
    "Rl=150 # #load resistance\n",
    "If=35e-3 # #current at which Q-point appears\n",
    "print \"We draw the new DC load line in the plot\"\n",
    "s=-1/Rl # #slope\n",
    "print \"\\n slope is %f \\n\"%(s)\n",
    "x=[ 0 ,0.5,  1,   1.1, 1.15 ] # #x-coordinate\n",
    "y=[ 0  ,1 , 25   ,35  , 40 ] # #y-coordinate\n",
    "import matplotlib.pyplot as plt\n",
    "%matplotlib inline\n",
    "plt.plot(x,y)\n",
    "x1=[0, 1.1, 2.6, 6.4 ] # #x-coordinate\n",
    "y1=[42  ,35  , 25 , 0] # #y-coordinate\n",
    "plt.plot(x1,y1)\n",
    "x2=[ 0 , 1 , 1.1] # #x-coordinate\n",
    "y2=[35 ,35 , 35] # #y-coordinate\n",
    "plt.plot(x2,y2)\n",
    "x3=[0 , 1 , 2.6] # #x-coordinate\n",
    "y3=[25 ,25 ,25] # #y-coordinate\n",
    "plt.plot(x3,y3)\n",
    "x4=[1.1 ,1.1, 1.1] #\n",
    "y4=[ 0  ,10  , 35 ] #\n",
    "plt.plot(x4,y4)\n",
    "x5=[2.6, 2.6] #\n",
    "y5=[0  ,  25] #\n",
    "plt.plot(x5,y5)\n",
    "plt.xlabel('Vf (volts)') #\n",
    "plt.ylabel('If (mA)') #\n",
    "plt.title(\"Piece-wise linear characteristic\")\n",
    "plt.grid()\n",
    "print \"The slope passes through the Q-point so the equation of the load \"\n",
    "print \"line is If=(-Vf/Rl)+(Vin/Rl)\"\n",
    "print \"Now from the graph we can see that slope =(change in If)/(change in Vf)\"\n",
    "print \"For If=35 mA Vf=1.1 V\"\n",
    "print \"The coordinates are Q=(1.1V,35mA) C=(2.6V,25mA) B=(6.4V,0mA)\"\n",
    "delta_If=10e-3 # #change in If\n",
    "delta_Vf=delta_If/abs(s) # #change in Vf and we take only the magnitudeof the slope \n",
    "print \"\\n change in Vf is %1.1f V \\n\"%(delta_Vf)\n",
    "print \"This is point C corresponding to If=35-10=35mA, as If is change by 10mA\" \n",
    "print \"and Vf=2.6V \"\n",
    "print \"We join the Q-point and point C as shown in the plot to get the DC load\"\n",
    "print \" line we extend the line to intersect point B \"\n",
    "print \"the voltage at point B is the new supply voltage required\"\n",
    "print \"\\n From the plot voltage at point B = 6.7 V\""
   ]
  },
  {
   "cell_type": "markdown",
   "metadata": {},
   "source": [
    "## Ex 2_8 PG-2.33"
   ]
  },
  {
   "cell_type": "code",
   "execution_count": 8,
   "metadata": {
    "collapsed": false
   },
   "outputs": [
    {
     "name": "stdout",
     "output_type": "stream",
     "text": [
      "therefore the P-N junction diode current is 10.483844 A\n"
     ]
    }
   ],
   "source": [
    "from math import exp\n",
    "V=0.22 # #forward bias voltage\n",
    "T=25+273 # #room temperature in degree kelvin\n",
    "I0=2e-3 # #reverse saturation current\n",
    "n=1 # #for germanium diode\n",
    "k=8.62e-5 #Boltzmann's constant\n",
    "Vt=k*T #\n",
    "I=I0*(exp(V/(n*Vt))) # # diode current\n",
    "print \"therefore the P-N junction diode current is %f A\"%(I)\n",
    "# in the book they have taken the approximate value \n",
    "#hence the answer is slighty different. in the book \n",
    "#Vt=0.02568(approx) whereas Vt=0.0256876(exact value)"
   ]
  },
  {
   "cell_type": "markdown",
   "metadata": {},
   "source": [
    "## Ex 2_9 PG-2.36"
   ]
  },
  {
   "cell_type": "code",
   "execution_count": 9,
   "metadata": {
    "collapsed": false
   },
   "outputs": [
    {
     "name": "stdout",
     "output_type": "stream",
     "text": [
      "At temperature T=27 degree C\n",
      "For silicon diode Vf=0.7 V is constant \n",
      " \n",
      " Therefore maximum forward current at T=27 degree C is 0.7143 A \n",
      "\n",
      "At temperature T=77 degree C\n",
      "\n",
      " Therefore maximum forward current at T=77 degree C is 0.4286 A\n"
     ]
    }
   ],
   "source": [
    "P1=500e-3 # #rated power rating of the diode \n",
    "T1=27 # #temperature in Degree Celsius\n",
    "Df=4e-3 # #Derating factor \n",
    "print \"At temperature T=27 degree C\"\n",
    "print \"For silicon diode Vf=0.7 V is constant \"\n",
    "Vf=0.7 #\n",
    "If1=P1/Vf #\n",
    "print \" \\n Therefore maximum forward current at T=27 degree C is %.4f A \\n\"%(If1)\n",
    "print \"At temperature T=77 degree C\"\n",
    "T2=77 # #temperature in degree celsius\n",
    "P2=P1-(T2-T1)*Df # #rated power rating of the diode at T=77 degree C\n",
    "If2=P2/Vf #\n",
    "print \"\\n Therefore maximum forward current at T=77 degree C is %.4f A\"%(If2)"
   ]
  },
  {
   "cell_type": "markdown",
   "metadata": {},
   "source": [
    "## Ex 2_10 PG-2.37"
   ]
  },
  {
   "cell_type": "code",
   "execution_count": 10,
   "metadata": {
    "collapsed": false
   },
   "outputs": [
    {
     "name": "stdout",
     "output_type": "stream",
     "text": [
      "at T2=25 degree C\n",
      "\n",
      " therefore forward voltage drop at 50 degree C is 0.6471 V \n",
      "\n",
      "at T3=77 degree C\n",
      "\n",
      " therefore forward voltage drop at 77 degree C is 0.585 V\n"
     ]
    }
   ],
   "source": [
    "T1=27 # #initial temperature\n",
    "Vfl=0.7 # #forward voltage\n",
    "Vtc=-2.3e-3 # #voltage temperature coefficient\n",
    "print \"at T2=25 degree C\"\n",
    "T2=50 #\n",
    "Vf2=Vfl+((T2-T1)*Vtc)\n",
    "print \"\\n therefore forward voltage drop at 50 degree C is %.4f V \\n\"%(Vf2)\n",
    "print \"at T3=77 degree C\"\n",
    "T3=77 #\n",
    "Vf2=Vfl+((T3-T1)*Vtc)\n",
    "print \"\\n therefore forward voltage drop at 77 degree C is %.3f V\"%(Vf2)"
   ]
  },
  {
   "cell_type": "markdown",
   "metadata": {},
   "source": [
    "## Ex 2_11 PG-2.38"
   ]
  },
  {
   "cell_type": "code",
   "execution_count": 11,
   "metadata": {
    "collapsed": false
   },
   "outputs": [
    {
     "name": "stdout",
     "output_type": "stream",
     "text": [
      "Therefore at a temperature of 25 Degree C \n",
      "\n",
      " dynamic resistance is 0.867 ohm \n",
      "\n",
      "Therefore at a temperature of 75 Degree C \n",
      "\n",
      " dynamic resistance is 0.867 ohm\n"
     ]
    }
   ],
   "source": [
    "If=30e-3 # #forward current\n",
    "T1=25+273 # #temperature in degree kelvin\n",
    "print \"Therefore at a temperature of 25 Degree C \"\n",
    "Rf=26e-3/If #\n",
    "print \"\\n dynamic resistance is %.3f ohm \\n\"%(Rf)\n",
    "print \"Therefore at a temperature of 75 Degree C \"\n",
    "T2=75+273 #Temperature in degree kelvin\n",
    "Rf=Rf*(T2/T1) #\n",
    "print \"\\n dynamic resistance is %.3f ohm\"%(Rf)"
   ]
  },
  {
   "cell_type": "markdown",
   "metadata": {},
   "source": [
    "## Ex 2_12 PG-2.43"
   ]
  },
  {
   "cell_type": "code",
   "execution_count": 12,
   "metadata": {
    "collapsed": false
   },
   "outputs": [
    {
     "name": "stdout",
     "output_type": "stream",
     "text": [
      "the maximum recovery time is 0.0 micro sec\n"
     ]
    }
   ],
   "source": [
    "Tf_min=1 # #fall time in micro second\n",
    "Trr_max=Tf_min/10\n",
    "print \"the maximum recovery time is %.1f micro sec\"%(Trr_max)"
   ]
  },
  {
   "cell_type": "markdown",
   "metadata": {},
   "source": [
    "## Ex 2_13 PG-2.48"
   ]
  },
  {
   "cell_type": "code",
   "execution_count": 13,
   "metadata": {
    "collapsed": false
   },
   "outputs": [
    {
     "name": "stdout",
     "output_type": "stream",
     "text": [
      "Therefore the derated power rating at a temperature T=100 Degree celsius\n",
      "\n",
      " is 0.205 W\n"
     ]
    }
   ],
   "source": [
    "PD_max=320e-3 # #maximum power rating\n",
    "T1=50 # #temperature in degree celsius at which maximum power rating occurs\n",
    "DF=2.3e-3 # #Derating factor\n",
    "print \"Therefore the derated power rating at a temperature T=100 Degree celsius\"\n",
    "T2=100 #\n",
    "PD=PD_max-DF*(T2-T1) #\n",
    "print \"\\n is %.3f W\"%(PD)"
   ]
  },
  {
   "cell_type": "markdown",
   "metadata": {},
   "source": [
    "## Ex 2_14 PG-2.52"
   ]
  },
  {
   "cell_type": "code",
   "execution_count": 14,
   "metadata": {
    "collapsed": false
   },
   "outputs": [
    {
     "name": "stdout",
     "output_type": "stream",
     "text": [
      "zener resistance Zz=20 ohm\n"
     ]
    }
   ],
   "source": [
    "Vzd=50e-3 # #change in Vz\n",
    "Izd=2.5e-3 #change in Iz\n",
    "Zz=Vzd/Izd # #zener resistance\n",
    "print \"zener resistance Zz=%.0f ohm\"%(Zz)"
   ]
  },
  {
   "cell_type": "markdown",
   "metadata": {},
   "source": [
    "## Ex 2_15 PG-2.52"
   ]
  },
  {
   "cell_type": "code",
   "execution_count": 15,
   "metadata": {
    "collapsed": false
   },
   "outputs": [
    {
     "name": "stdout",
     "output_type": "stream",
     "text": [
      "Therefore total terminal voltage across the diode Vz''= 5.2V\n"
     ]
    }
   ],
   "source": [
    "rz=4 # #zener diode resistance\n",
    "Vz=5.1 #\n",
    "Iz=25e-3 #\n",
    "x=Iz*rz #\n",
    "Vzz=Vz+x # #total terminal voltage across the diode \n",
    "print \"Therefore total terminal voltage across the diode Vz''= %.1fV\"%(Vzz)"
   ]
  },
  {
   "cell_type": "markdown",
   "metadata": {},
   "source": [
    "## Ex 2_16 PG-2.52"
   ]
  },
  {
   "cell_type": "code",
   "execution_count": 16,
   "metadata": {
    "collapsed": false
   },
   "outputs": [
    {
     "name": "stdout",
     "output_type": "stream",
     "text": [
      "   At T=40 degree celsius maximum zener current Izm=73.53 mA\n",
      "\n",
      "\n",
      "   At T=100 degree celsius maximum zener current Izm=50.588 mA\n",
      "\n",
      "\n"
     ]
    }
   ],
   "source": [
    "Vz=6.8 #nominal voltage\n",
    "Pd_max=500 # #zener diode power loss in mW at 40 degree celsius\n",
    "D=2.6 # #Derating factor in mW/degree celsius\n",
    "T1=40 # #Temperature in degree celsius\n",
    "Izm=Pd_max/Vz #\n",
    "print \"   At T=40 degree celsius maximum zener current Izm=%.2f mA\\n\\n\"%(Izm)\n",
    "T2=100 # #Temperature in degree celsius\n",
    "delta_T=T2-T1 # #change in temperature\n",
    "Pd_derated=Pd_max-D*delta_T\n",
    "Izm=Pd_derated/Vz #\n",
    "print \"   At T=100 degree celsius maximum zener current Izm=%.3f mA\\n\\n\"%(Izm)"
   ]
  },
  {
   "cell_type": "markdown",
   "metadata": {},
   "source": [
    "## Ex 2_17 PG-2.52"
   ]
  },
  {
   "cell_type": "code",
   "execution_count": 17,
   "metadata": {
    "collapsed": false
   },
   "outputs": [
    {
     "name": "stdout",
     "output_type": "stream",
     "text": [
      "Refer to the figure-2.51 shown\n",
      "\n",
      " We apply KVL across the circuit \n",
      "\n",
      " Therefore -Iz*R1-Vz+Vin = 0 \n",
      "\n",
      " \n",
      " zener diode current Iz:14.626866 mA\n",
      " power dissipation :76.059701 mW \n"
     ]
    }
   ],
   "source": [
    "print \"Refer to the figure-2.51 shown\\n\"\n",
    "print \" We apply KVL across the circuit \\n\"\n",
    "print \" Therefore -Iz*R1-Vz+Vin = 0 \\n\"\n",
    "Vin=15 #\n",
    "Vz=5.2 #\n",
    "R1=670 #\n",
    "Iz=(Vin-Vz)/R1 # #zener diode current\n",
    "Iz=Iz*1e3 # #in mA\n",
    "Pd=Vz*Iz # #power dissipation\n",
    "print \" \\n zener diode current Iz:%f mA\\n power dissipation :%f mW \"%(Iz,Pd)"
   ]
  }
 ],
 "metadata": {
  "kernelspec": {
   "display_name": "Python 2",
   "language": "python",
   "name": "python2"
  },
  "language_info": {
   "codemirror_mode": {
    "name": "ipython",
    "version": 2
   },
   "file_extension": ".py",
   "mimetype": "text/x-python",
   "name": "python",
   "nbconvert_exporter": "python",
   "pygments_lexer": "ipython2",
   "version": "2.7.9"
  }
 },
 "nbformat": 4,
 "nbformat_minor": 0
}
