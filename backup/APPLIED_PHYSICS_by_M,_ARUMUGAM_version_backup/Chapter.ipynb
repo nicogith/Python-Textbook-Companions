{
 "cells": [
  {
   "cell_type": "markdown",
   "metadata": {},
   "source": [
    "#6(B): Superconductivity"
   ]
  },
  {
   "cell_type": "markdown",
   "metadata": {},
   "source": [
    "##Example number 6.2, Page number 6.55"
   ]
  },
  {
   "cell_type": "code",
   "execution_count": 1,
   "metadata": {
    "collapsed": false
   },
   "outputs": [
    {
     "name": "stdout",
     "output_type": "stream",
     "text": [
      "critical field is 33.64 *10**3 ampere/m\n"
     ]
    }
   ],
   "source": [
    "#importing modules\n",
    "import math\n",
    "from __future__ import division\n",
    "\n",
    "#Variable declaration\n",
    "H0=64*10**3;    #initial field(ampere/m)\n",
    "T=5;    #temperature(K)\n",
    "Tc=7.26;   #transition temperature(K)\n",
    "\n",
    "#Calculation\n",
    "H=H0*(1-(T/Tc)**2);     #critical field(ampere/m)\n",
    "\n",
    "#Result\n",
    "print \"critical field is\",round(H/10**3,2),\"*10**3 ampere/m\""
   ]
  },
  {
   "cell_type": "markdown",
   "metadata": {},
   "source": [
    "##Example number 6.3, Page number 6.56"
   ]
  },
  {
   "cell_type": "code",
   "execution_count": 4,
   "metadata": {
    "collapsed": false
   },
   "outputs": [
    {
     "name": "stdout",
     "output_type": "stream",
     "text": [
      "Frequency of generated microwaves= 483.0 *10**9 Hz\n"
     ]
    }
   ],
   "source": [
    "#importing modules\n",
    "import math\n",
    "from __future__ import division\n",
    "\n",
    "#Variable declaration\n",
    "e=1.6*10**-19\n",
    "V=1*10\n",
    "h=6.625*10**-34\n",
    "\n",
    "#Calculations\n",
    "v=(2*e*V**-3)/h \n",
    "\n",
    "#Result\n",
    "print\"Frequency of generated microwaves=\",round(v/10**9),\"*10**9 Hz\"\n"
   ]
  },
  {
   "cell_type": "markdown",
   "metadata": {},
   "source": [
    "##Example number 6.4, Page number 6.56"
   ]
  },
  {
   "cell_type": "code",
   "execution_count": 2,
   "metadata": {
    "collapsed": false
   },
   "outputs": [
    {
     "name": "stdout",
     "output_type": "stream",
     "text": [
      "Number of electrons per unit volume = 3.7 *10**28/m**3\n",
      "Effective mass of electron 'm*' = 17.3 *10*-31 kg\n",
      "Penetration depth = 3.81011659367 Angstroms\n",
      "#The answer given in the text book is wrong\n"
     ]
    }
   ],
   "source": [
    "#importing modules\n",
    "import math\n",
    "from __future__ import division\n",
    "\n",
    "#Variable declaration\n",
    "d=7300                  #density in (kg/m**3)\n",
    "N=6.02*10**26           #Avagadro Number\n",
    "A=118.7                 #Atomic Weight\n",
    "E=1.9                 #Effective mass\n",
    "e=1.6*10**-19\n",
    "\n",
    "#Calculations\n",
    "n=(d*N)/A\n",
    "m=E*9.1*10**-31\n",
    "x=4*math.pi*10**-7*n*e**2\n",
    "lamda_L=math.sqrt(m/x)\n",
    "      \n",
    "#Result\n",
    "print \"Number of electrons per unit volume =\",round(n/10**28,1),\"*10**28/m**3\"\n",
    "print\"Effective mass of electron 'm*' =\",round(m*10**31,1),\"*10*-31 kg\"\n",
    "print\"Penetration depth =\",lamda_L*10**8,\"Angstroms\"\n",
    "print\"#The answer given in the text book is wrong\""
   ]
  },
  {
   "cell_type": "markdown",
   "metadata": {
    "collapsed": true
   },
   "source": [
    "##Example number 6.5, Page number 6.56"
   ]
  },
  {
   "cell_type": "code",
   "execution_count": 18,
   "metadata": {
    "collapsed": false
   },
   "outputs": [
    {
     "name": "stdout",
     "output_type": "stream",
     "text": [
      "Tc = 7.0969 K\n",
      "lamda0= 39.0 nm\n"
     ]
    }
   ],
   "source": [
    "#importing modules\n",
    "import math\n",
    "from __future__ import division\n",
    "\n",
    "#Variable declaration\n",
    "lamda_L1=39.6*10**-9\n",
    "lamda_L2=173*10**-9\n",
    "T1=7.1\n",
    "T2=3\n",
    "\n",
    "#Calculations\n",
    "x=(lamda_L1/lamda_L2)**2\n",
    "Tc4=(T1**4)-((T2**4)*x)/(1-x)\n",
    "Tc=(Tc4)**(1/4)\n",
    "print\"Tc =\",round(Tc,4),\"K\"\n",
    "print\"lamda0=\",round((math.sqrt(1-(T2/Tc)**4)*lamda_L1)*10**9),\"nm\""
   ]
  },
  {
   "cell_type": "markdown",
   "metadata": {},
   "source": [
    "##Example number 6.6, Page number 6.57"
   ]
  },
  {
   "cell_type": "code",
   "execution_count": 24,
   "metadata": {
    "collapsed": false
   },
   "outputs": [
    {
     "name": "stdout",
     "output_type": "stream",
     "text": [
      "Hc = 4.2759 *10**4\n",
      "Critical current density,Jc = 1.71 *10**8 ampere/metre**2\n"
     ]
    }
   ],
   "source": [
    "#importing modules\n",
    "import math\n",
    "from __future__ import division\n",
    "\n",
    "#Variable declaration\n",
    "H0=6.5*10**4           #(ampere/metre)\n",
    "T=4.2                  #K\n",
    "Tc=7.18                #K\n",
    "r=0.5*10**-3\n",
    "\n",
    "#Calculations\n",
    "Hc=H0*(1-(T/Tc)**2)\n",
    "Ic=(2*math.pi*r)*Hc\n",
    "A=math.pi*r**2\n",
    "Jc=Ic/A                #Critical current density\n",
    "\n",
    "#Result\n",
    "print\"Hc =\",round(Hc/10**4,4),\"*10**4\"\n",
    "print \"Critical current density,Jc =\",round(Jc/10**8,2),\"*10**8 ampere/metre**2\"\n"
   ]
  },
  {
   "cell_type": "markdown",
   "metadata": {},
   "source": [
    "##Example number 6.7, Page number 6.57"
   ]
  },
  {
   "cell_type": "code",
   "execution_count": 26,
   "metadata": {
    "collapsed": false
   },
   "outputs": [
    {
     "name": "stdout",
     "output_type": "stream",
     "text": [
      "New critical temperature for mercury = 4.145 K\n"
     ]
    }
   ],
   "source": [
    "#importing modules\n",
    "import math\n",
    "from __future__ import division\n",
    "\n",
    "#Variable declaration\n",
    "Tc1=4.185\n",
    "M1=199.5\n",
    "M2=203.4\n",
    "\n",
    "#Calculations\n",
    "Tc2=Tc1*(M1/M2)**(1/2)\n",
    "\n",
    "#Result\n",
    "print\"New critical temperature for mercury =\",round(Tc2,3),\"K\""
   ]
  }
 ],
 "metadata": {
  "kernelspec": {
   "display_name": "Python 2",
   "language": "python",
   "name": "python2"
  },
  "language_info": {
   "codemirror_mode": {
    "name": "ipython",
    "version": 2
   },
   "file_extension": ".py",
   "mimetype": "text/x-python",
   "name": "python",
   "nbconvert_exporter": "python",
   "pygments_lexer": "ipython2",
   "version": "2.7.9"
  }
 },
 "nbformat": 4,
 "nbformat_minor": 0
}
