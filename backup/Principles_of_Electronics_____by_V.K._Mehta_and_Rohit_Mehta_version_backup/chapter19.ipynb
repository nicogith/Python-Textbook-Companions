{
 "metadata": {
  "name": "",
  "signature": "sha256:e80dba2d461291c68fb06b32e702542441b6f13e4e124da0b4826c1be4471e9c"
 },
 "nbformat": 3,
 "nbformat_minor": 0,
 "worksheets": [
  {
   "cells": [
    {
     "cell_type": "heading",
     "level": 1,
     "metadata": {},
     "source": [
      "CHAPTER 19 : FIELD EFFECT TRANSISTORS"
     ]
    },
    {
     "cell_type": "heading",
     "level": 2,
     "metadata": {},
     "source": [
      "Example 19.1 : Page number 515\n"
     ]
    },
    {
     "cell_type": "code",
     "collapsed": false,
     "input": [
      "#Variable declaration\n",
      "I_DSS=12.0;                                 #Shorted gate drain current, mA\n",
      "V_GS_off=-5.0;                              #Gate-source cut-off voltage, V\n",
      "\n",
      "#Result\n",
      "print(\"ID=%d[1 + VGS/%d]\u00b2mA.\"%(I_DSS,abs(V_GS_off)));\n"
     ],
     "language": "python",
     "metadata": {},
     "outputs": [
      {
       "output_type": "stream",
       "stream": "stdout",
       "text": [
        "ID=12[1 + VGS/5]\u00b2mA.\n"
       ]
      }
     ],
     "prompt_number": 40
    },
    {
     "cell_type": "heading",
     "level": 2,
     "metadata": {},
     "source": [
      "Example 19.2 : Page number 515\n"
     ]
    },
    {
     "cell_type": "code",
     "collapsed": false,
     "input": [
      "#Variable declaration\n",
      "I_DSS=32.0;                                 #Shorted gate drain current, mA\n",
      "V_GS_off=-8.0;                              #Gate-source cut-off voltage, V\n",
      "V_GS=-4.5;                                  #Gate-source voltage, V\n",
      "\n",
      "\n",
      "#Calculation\n",
      "I_D=I_DSS*(1-(V_GS/V_GS_off))**2;                    #Drain current mA\n",
      "\n",
      "#Result\n",
      "print(\"The drain current=%.2fmA.\"%I_D);\n"
     ],
     "language": "python",
     "metadata": {},
     "outputs": [
      {
       "output_type": "stream",
       "stream": "stdout",
       "text": [
        "The drain current=6.12mA.\n"
       ]
      }
     ],
     "prompt_number": 41
    },
    {
     "cell_type": "heading",
     "level": 2,
     "metadata": {},
     "source": [
      "Example 19.3 : Page number  515\n"
     ]
    },
    {
     "cell_type": "code",
     "collapsed": false,
     "input": [
      "from math import sqrt\n",
      "\n",
      "#Variable declaration\n",
      "I_DSS=10.0;                                 #Shorted gate drain current, mA\n",
      "V_GS_off=-6.0;                              #Gate-source cut-off voltage, V\n",
      "I_D=5.0;                                    #Drain current mA\n",
      "\n",
      "\n",
      "#Calculation\n",
      "#(i)\n",
      "#Since, I_D=I_DSS*[1 - (V_GS/V_GS_off)]\u00b2\n",
      "V_GS=V_GS_off*(1-sqrt(I_D/I_DSS));              #Gate-source voltage, V\n",
      "\n",
      "#(ii)\n",
      "V_P=-V_GS_off;                                  #Pinch-off voltage, V        \n",
      "\n",
      "#Result\n",
      "print(\"(i) VGS=%.2fV.\"%V_GS);\n",
      "print(\"(ii) VP=%dV\"%V_P);\n"
     ],
     "language": "python",
     "metadata": {},
     "outputs": [
      {
       "output_type": "stream",
       "stream": "stdout",
       "text": [
        "(i) VGS=-1.76V.\n",
        "(ii) VP=6V\n"
       ]
      }
     ],
     "prompt_number": 42
    },
    {
     "cell_type": "heading",
     "level": 2,
     "metadata": {},
     "source": [
      "Example 19.4 : Page number 515-516\n"
     ]
    },
    {
     "cell_type": "code",
     "collapsed": false,
     "input": [
      "#Variable declaration\n",
      "V_GS_off=-4.0;                              #Gate-source cut-off voltage, V\n",
      "I_DSS=12.0;                                 #Shorted gate drain current, mA\n",
      "R_D=560.0;                                  #Drain resistor, \u03a9\n",
      "\n",
      "#Calculation\n",
      "V_P=-V_GS_off;          #Pinch-off voltage, V\n",
      "V_DS=V_P;               #Minimum drain-source voltage for JFET to be in constant current region, V\n",
      "I_D=I_DSS;              #Maximum drain current, mA (V_GS=0)\n",
      "V_RD=(I_D/1000)*R_D;    #Voltage across drain resistor, V (OHM's LAW)\n",
      "V_DD=V_DS+V_RD;         #Minimum value of supply voltage to drain, V\n",
      "\n",
      "#Result\n",
      "print(\"The minimum value of VDD required =%.2fV.\"%V_DD);\n"
     ],
     "language": "python",
     "metadata": {},
     "outputs": [
      {
       "output_type": "stream",
       "stream": "stdout",
       "text": [
        "The minimum value of VDD required =10.72V.\n"
       ]
      }
     ],
     "prompt_number": 43
    },
    {
     "cell_type": "heading",
     "level": 2,
     "metadata": {},
     "source": [
      "Example 19.5 : Page number 516\n"
     ]
    },
    {
     "cell_type": "code",
     "collapsed": false,
     "input": [
      "#Variable declaration\n",
      "I_DSS=3.0;                                 #Shorted gate drain current, mA\n",
      "V_GS_off=-6.0;                              #Gate-source cut-off voltage, V\n",
      "V_GS=-2.0;                                  #Gate-source voltage, V\n",
      "\n",
      "\n",
      "#Calculation\n",
      "I_D=I_DSS*(1-(V_GS/V_GS_off))**2;                    #Drain current mA\n",
      "\n",
      "#Result\n",
      "print(\"The drain current=%.2fmA.\"%I_D);\n"
     ],
     "language": "python",
     "metadata": {},
     "outputs": [
      {
       "output_type": "stream",
       "stream": "stdout",
       "text": [
        "The drain current=1.33mA.\n"
       ]
      }
     ],
     "prompt_number": 44
    },
    {
     "cell_type": "heading",
     "level": 2,
     "metadata": {},
     "source": [
      "Example 19.6 : Page number 516"
     ]
    },
    {
     "cell_type": "code",
     "collapsed": false,
     "input": [
      "#Variable declaration\n",
      "VGS_off=4;                #Gate-source cut-off voltage, V\n",
      "VGS=6;                    #Gate source voltage, V\n",
      "\n",
      "print(\"p-channel JFET requires a positive gate-to-source voltage to pass drain current.\");\n",
      "print(\"More positive voltage, the less the drain current. \");\n",
      "print(\"Any further increase in VGS keeps the JFET cut-off. Therefore, ID=0A.\");"
     ],
     "language": "python",
     "metadata": {},
     "outputs": [
      {
       "output_type": "stream",
       "stream": "stdout",
       "text": [
        "p-channel JFET requires a positive gate-to-source voltage to pass drain current.\n",
        "More positive voltage, the less the drain current. \n",
        "Any further increase in VGS keeps the JFET cut-off. Therefore, ID=0A.\n"
       ]
      }
     ],
     "prompt_number": 45
    },
    {
     "cell_type": "heading",
     "level": 2,
     "metadata": {},
     "source": [
      "Example 19.7 : Page number 517-518\n"
     ]
    },
    {
     "cell_type": "code",
     "collapsed": false,
     "input": [
      "#Variable declaration\n",
      "V_GS=15.0;              #Gate-source voltage, V\n",
      "I_G=1e-03;               #Gate current, \u03bcA\n",
      "\n",
      "#Calculation\n",
      "R_GS=(V_GS/(I_G*10**-6))/10**6;          #Gate to source resistance, M\u03a9 (OHM's LAW)\n",
      "\n",
      "#Result\n",
      "print(\"The gate to source resistance=%dM\u03a9.\"%R_GS);\n"
     ],
     "language": "python",
     "metadata": {},
     "outputs": [
      {
       "output_type": "stream",
       "stream": "stdout",
       "text": [
        "The gate to source resistance=15000M\u03a9.\n"
       ]
      }
     ],
     "prompt_number": 47
    },
    {
     "cell_type": "heading",
     "level": 2,
     "metadata": {},
     "source": [
      "Example 19.8 : Page  number 518\n"
     ]
    },
    {
     "cell_type": "code",
     "collapsed": false,
     "input": [
      "\n",
      "#Variable declaration\n",
      "V_GS_max=-3.1;                      #Maximum gate to source voltage, V\n",
      "V_GS_min=-3.0;                      #Minimum gate to source voltage, V\n",
      "I_D_max=1.3;                      #Maximum drain current, mA\n",
      "I_D_min=1.0;                      #Minimum drain current, mA\n",
      "\n",
      "\n",
      "#Calculation\n",
      "delta_V_GS=abs(V_GS_max-V_GS_min);              #Change in gate to source voltage, V\n",
      "delta_I_D=I_D_max-I_D_min;                      #Change in drain current, mA\n",
      "g_fs=(delta_I_D/delta_V_GS)*1000;               #Transconductance, \u03bc mho\n",
      "\n",
      "\n",
      "#Result\n",
      "print(\"Transconductance=%.0f \u03bc mho\"%g_fs);\n"
     ],
     "language": "python",
     "metadata": {},
     "outputs": [
      {
       "output_type": "stream",
       "stream": "stdout",
       "text": [
        "Transconductance=3000 \u03bc mho\n"
       ]
      }
     ],
     "prompt_number": 50
    },
    {
     "cell_type": "heading",
     "level": 2,
     "metadata": {},
     "source": [
      "Example 19.9 : Page number 518\n"
     ]
    },
    {
     "cell_type": "code",
     "collapsed": false,
     "input": [
      "#Variable declaration\n",
      "V_GS=[0,0,-0.2];            #Readings of Gate-source voltage, V\n",
      "V_DS=[7,15,15];             #Readings of Drain-source voltage, V\n",
      "ID=[10,10.25,9.65];         #Readings of drain current, mA\n",
      "\n",
      "\n",
      "#Displaying the readings:\n",
      "print(\"VGS= %dV     %dV        %.1fV\"%(V_GS[0],V_GS[1],V_GS[2]));\n",
      "print(\"VDS= %dV     %dV        %dV\"%(V_DS[0],V_DS[1],V_DS[2]));\n",
      "print(\"ID = %dV    %.2fV     %.2fV\"%(ID[0],ID[1],ID[2]));\n",
      "\n",
      "#Calculations\n",
      "#(i)\n",
      "#V_GS constant at 0V,\n",
      "delta_VDS=V_DS[1]-V_DS[0];          #Change in drain-source voltage, V\n",
      "delta_ID=ID[1]-ID[0];               #Change in drain current, mA\n",
      "rd=delta_VDS/delta_ID;              #a.c drain resistance, k\u03a9\n",
      "\n",
      "#(ii)\n",
      "#V_DS constant at 15V,\n",
      "delta_VGS=V_GS[2]-V_GS[1];                  #Change in gate-source voltage, V\n",
      "delta_ID=ID[2]-ID[1];                       #Change in drain current, mA\n",
      "g_fs=round((delta_ID/delta_VGS)*1000,);     #Transconductance, \u03bc mho\n",
      "\n",
      "#(iii)\n",
      "amplification_factor=rd*1000*g_fs*10**-6;                          #Amplification factor\n",
      "\n",
      "\n",
      "#Result\n",
      "print(\"(i)   The a.c drain resistance=%dk\u03a9.\"%rd);\n",
      "print(\"(ii)  The transconductance=%d \u03bc mho.\"%g_fs);\n",
      "print(\"(iii) The amplification factor=%d.\"%amplification_factor );\n"
     ],
     "language": "python",
     "metadata": {},
     "outputs": [
      {
       "output_type": "stream",
       "stream": "stdout",
       "text": [
        "VGS= 0V     0V        -0.2V\n",
        "VDS= 7V     15V        15V\n",
        "ID = 10V    10.25V     9.65V\n",
        "(i)   The a.c drain resistance=32k\u03a9.\n",
        "(ii)  The transconductance=3000 \u03bc mho.\n",
        "(iii) The amplification factor=96.\n"
       ]
      }
     ],
     "prompt_number": 53
    },
    {
     "cell_type": "heading",
     "level": 2,
     "metadata": {},
     "source": [
      "Example 19.10 : Page number 519\n"
     ]
    },
    {
     "cell_type": "code",
     "collapsed": false,
     "input": [
      "#Variable declaration\n",
      "g_mo=4000.0;                        #Maximum transconductance, \u03bcS\n",
      "V_GS=-3.0;                          #Gate to source voltage, V\n",
      "V_GS_off=-8.0;                      #Gate-source cut-off voltage, V\n",
      "\n",
      "#Calculation\n",
      "g_m=g_mo*(1-(V_GS/V_GS_off));               #Transconductance, \u03bcS\n",
      "\n",
      "#Result\n",
      "print(\"The transconductance=%d \u03bcS.\"%g_m);\n"
     ],
     "language": "python",
     "metadata": {},
     "outputs": [
      {
       "output_type": "stream",
       "stream": "stdout",
       "text": [
        "The transconductance=2500 \u03bcS.\n"
       ]
      }
     ],
     "prompt_number": 54
    },
    {
     "cell_type": "heading",
     "level": 2,
     "metadata": {},
     "source": [
      "Example 19.11 : Page number 519\n"
     ]
    },
    {
     "cell_type": "code",
     "collapsed": false,
     "input": [
      "#Variable declaration\n",
      "g_mo=5000.0;                        #Maximum transconductance, \u03bcS\n",
      "V_GS=-4.0;                          #Gate to source voltage, V\n",
      "V_GS_off=-6.0;                      #Gate-source cut-off voltage, V\n",
      "I_DSS=3.0;                          #Shorted-gate drain current, mA\n",
      "\n",
      "#Calculation\n",
      "g_m=g_mo*(1-(V_GS/V_GS_off));               #Transconductance, \u03bcS\n",
      "I_D=(I_DSS*(1-(V_GS/V_GS_off))**2)*1000;                    #Drain current \u03bcA\n",
      "\n",
      "\n",
      "#Result\n",
      "print(\"The transconductance=%.0f \u03bcS.\"%g_m);\n",
      "print(\"The drain current=%d \u03bcA.\"%I_D);\n"
     ],
     "language": "python",
     "metadata": {},
     "outputs": [
      {
       "output_type": "stream",
       "stream": "stdout",
       "text": [
        "The transconductance=1667 \u03bcS.\n",
        "The drain current=333 \u03bcA.\n"
       ]
      }
     ],
     "prompt_number": 55
    },
    {
     "cell_type": "heading",
     "level": 2,
     "metadata": {},
     "source": [
      "Example 19.12 : Page number 520\n"
     ]
    },
    {
     "cell_type": "code",
     "collapsed": false,
     "input": [
      "#Variable declaration\n",
      "V_GS_off=-8.0;                      #Gate-source cut-off voltage, V\n",
      "I_DSS=16.0;                         #Shorted-gate drain current, mA\n",
      "R_D=2.2;                            #Drain resistor, k\u03a9\n",
      "R_G=1.0;                            #Gate resistor, M\u03a9\n",
      "V_DD=10.0;                          #Drain supply voltage, V\n",
      "V_GG=-5.0;                           #Gate supply voltage, V\n",
      "\n",
      "\n",
      "#Calculation\n",
      "V_GS=V_GG;                                           #Gate-source voltage, V\n",
      "I_D=I_DSS*(1-(V_GS/V_GS_off))**2;                    #Drain current \u03bcA\n",
      "V_DS=V_DD-I_D*R_D;                                   #Drain-source voltage, V (Kirchhoff's voltage law)\n",
      "\n",
      "#Result\n",
      "print(\"The gate-source voltage=%dV.\"%V_GS);\n",
      "print(\"The drain current=%.2fmA.\"%I_D);\n",
      "print(\"The drain-source voltage=%.2fV.\"%V_DS);\n"
     ],
     "language": "python",
     "metadata": {},
     "outputs": [
      {
       "output_type": "stream",
       "stream": "stdout",
       "text": [
        "The gate-source voltage=-5V.\n",
        "The drain current=2.25mA.\n",
        "The drain-source voltage=5.05V.\n"
       ]
      }
     ],
     "prompt_number": 56
    },
    {
     "cell_type": "heading",
     "level": 2,
     "metadata": {},
     "source": [
      "Example 19.13 : Page number 521\n"
     ]
    },
    {
     "cell_type": "code",
     "collapsed": false,
     "input": [
      "#Variable declaration\n",
      "I_D=5.0;                   #Drain current mA\n",
      "V_DD=15.0;                 #Drain supply voltage, V\n",
      "V_G=0;                     #Gate voltage, V\n",
      "R_D=1.0;                   #Drain resistor, k\u03a9\n",
      "R_S=470.0;                 #Source resistor, \u03a9\n",
      "\n",
      "\n",
      "#Calculation\n",
      "V_S=(I_D/1000)*R_S;                 #Source voltage, V (OHM's LAW)\n",
      "V_D=V_DD-I_D*R_D;                   #Drain voltage, V (Kirchhoff's voltage law)\n",
      "V_DS=V_D-V_S;                       #Drain-source voltage, V\n",
      "V_GS=V_G-V_S;                       #Gate-source voltage, V\n",
      "\n",
      "#Result\n",
      "print(\"The drain-source voltage=%.2fV.\"%V_DS);\n",
      "print(\"The gate-source voltage=%.2fV.\"%V_GS);\n"
     ],
     "language": "python",
     "metadata": {},
     "outputs": [
      {
       "output_type": "stream",
       "stream": "stdout",
       "text": [
        "The drain-source voltage=7.65V.\n",
        "The gate-source voltage=-2.35V.\n"
       ]
      }
     ],
     "prompt_number": 57
    },
    {
     "cell_type": "heading",
     "level": 2,
     "metadata": {},
     "source": [
      "Example 19.14 : Page number 521\n"
     ]
    },
    {
     "cell_type": "code",
     "collapsed": false,
     "input": [
      "#Variable declaration\n",
      "V_GS=-5.0;                     #Gate-source voltage, V\n",
      "I_D=6.25;                      #Drain current mA\n",
      "\n",
      "\n",
      "#Calculation\n",
      "R_S=abs(V_GS/(I_D/1000));              #Required source resistor, \u03a9 (OHM's LAW)\n",
      "\n",
      "#Result\n",
      "print(\"The required source resistor=%d \u03a9.\"%R_S);\n"
     ],
     "language": "python",
     "metadata": {},
     "outputs": [
      {
       "output_type": "stream",
       "stream": "stdout",
       "text": [
        "The required source resistor=800 \u03a9.\n"
       ]
      }
     ],
     "prompt_number": 58
    },
    {
     "cell_type": "heading",
     "level": 2,
     "metadata": {},
     "source": [
      "Example 19.15 : Page number : 521\n"
     ]
    },
    {
     "cell_type": "code",
     "collapsed": false,
     "input": [
      "#Variable declaration\n",
      "I_DSS=25.0;                                 #Shorted gate drain current, mA\n",
      "V_GS_off=15.0;                              #Gate-source cut-off voltage, V\n",
      "V_GS=5.0;                                   #Gate-source voltage, V\n",
      "\n",
      "\n",
      "#Calculation\n",
      "I_D=I_DSS*(1-(V_GS/V_GS_off))**2;               #Drain current mA\n",
      "R_S=V_GS/(I_D/1000);                            #Required source resistor, \u03a9 (OHM's LAW)\n",
      "\n",
      "\n",
      "#Result\n",
      "print(\"The source resistance=%.0f\u03a9.\"%R_S);\n"
     ],
     "language": "python",
     "metadata": {},
     "outputs": [
      {
       "output_type": "stream",
       "stream": "stdout",
       "text": [
        "The source resistance=450\u03a9.\n"
       ]
      }
     ],
     "prompt_number": 59
    },
    {
     "cell_type": "heading",
     "level": 2,
     "metadata": {},
     "source": [
      "Example 19.16 : Page number 522\n"
     ]
    },
    {
     "cell_type": "code",
     "collapsed": false,
     "input": [
      "#Variable declaration\n",
      "I_DSS=15.0;                                 #Shorted gate drain current, mA\n",
      "V_GS_off=-8.0;                              #Gate-source cut-off voltage, V\n",
      "V_DD=12.0;                                  #Drain supply voltage,V\n",
      "V_D=V_DD/2;                                 #Drain voltage(half of V_DD), V\n",
      "\n",
      "#Calculation\n",
      "I_D=I_DSS/2;                                #Drain current(approximately half of I_DSS), mA\n",
      "V_GS=V_GS_off/3.4;                          #Gate-source voltage, V\n",
      "R_S=abs(V_GS/(I_D/1000));                   #Source resistor, \u03a9 (OHM's LAW)\n",
      "#Since,V_D=V_DD-I_D*R_D;                      \n",
      "R_D=(V_DD-V_D)/(I_D/1000);                         #Drain resistor, \u03a9 (OHM's LAW)\n",
      "\n",
      "#Result\n",
      "print(\" RS=%d \u03a9 and RD=%d \u03a9.\"%(R_S,R_D));\n"
     ],
     "language": "python",
     "metadata": {},
     "outputs": [
      {
       "output_type": "stream",
       "stream": "stdout",
       "text": [
        " RS=313 \u03a9 and RD=800 \u03a9.\n"
       ]
      }
     ],
     "prompt_number": 60
    },
    {
     "cell_type": "heading",
     "level": 2,
     "metadata": {},
     "source": [
      "Example 19.17 : Page number 522\n"
     ]
    },
    {
     "cell_type": "code",
     "collapsed": false,
     "input": [
      "from math import sqrt\n",
      "\n",
      "#Variable declaration\n",
      "I_DSS=5.0;                       #Shorted gate drain current, mA\n",
      "V_GS_off=-2.0;                   #Gate-source cut-off voltage, V\n",
      "V_DS=10.0;                       #Drain-source voltage,V\n",
      "I_D=1.5;                         #Drain current, mA\n",
      "V_DD=20.0;                       #Drain supply voltage,V\n",
      "V_G=0;                           #Gate voltage, V\n",
      "\n",
      "\n",
      "#Calculation\n",
      "#Since,  Drain current, I_D=I_DSS*(1-(V_GS/V_GS_off))**2;                    \n",
      "V_GS=V_GS_off*(1-sqrt(I_D/I_DSS));              #Gate-source voltage, V\n",
      "\n",
      "#Since, V_GS=V_G-V_S,\n",
      "V_S=V_G-V_GS;                           #Source voltage, V\n",
      "\n",
      "R_S=V_S/I_D;                            #Source resistor, k\u03a9\n",
      "\n",
      "#Since, V_DD=I_D*R_D +V_DS+ I_D*R_S,\n",
      "R_D=(V_DD-I_D*R_S-V_DS)/I_D;                    #Drain resistor, k\u03a9\n",
      "\n",
      "#Calculation\n",
      "print(\"The source resistance=%.1f k\u03a9\"%R_S);\n",
      "print(\"The drain resistance=%d k\u03a9.\"%R_D);\n"
     ],
     "language": "python",
     "metadata": {},
     "outputs": [
      {
       "output_type": "stream",
       "stream": "stdout",
       "text": [
        "The source resistance=0.6 k\u03a9\n",
        "The drain resistance=6 k\u03a9.\n"
       ]
      }
     ],
     "prompt_number": 61
    },
    {
     "cell_type": "heading",
     "level": 2,
     "metadata": {},
     "source": [
      "Example 19.18 : Page number 522-523\n"
     ]
    },
    {
     "cell_type": "code",
     "collapsed": false,
     "input": [
      "#Variable declaration\n",
      "V_DD=30.0;                  #Drain supply voltage, V\n",
      "R_D=5.0;                    #Drain resistor, k\u03a9\n",
      "I_D=2.5;                    #Drain current, mA\n",
      "R_S=200.0;                  #Source resistor, \u03a9\n",
      "\n",
      "#Calculation\n",
      "#(i)\n",
      "V_DS=V_DD-I_D*(R_D+(R_S/1000));                 #Drain-source voltage, V\n",
      "\n",
      "#(ii)\n",
      "V_GS=-(I_D/1000)*R_S;                          #Gate-source voltage, V\n",
      "\n",
      "#Result\n",
      "print(\"The drain-source voltage=%dV.\"%V_DS);\n",
      "print(\"The gate-source voltage=%.1fV.\"%V_GS);\n"
     ],
     "language": "python",
     "metadata": {},
     "outputs": [
      {
       "output_type": "stream",
       "stream": "stdout",
       "text": [
        "The drain-source voltage=17V.\n",
        "The gate-source voltage=-0.5V.\n"
       ]
      }
     ],
     "prompt_number": 62
    },
    {
     "cell_type": "heading",
     "level": 2,
     "metadata": {},
     "source": [
      "Example 19.19 : Page number 523"
     ]
    },
    {
     "cell_type": "code",
     "collapsed": false,
     "input": [
      "#Variable declaration\n",
      "ID_1=2.15;                  #First stage drain current, mA\n",
      "ID_2=9.15;                  #Second stage drain current, mA\n",
      "VDD=30;                     #Drain supply voltage, V\n",
      "RS_1=0.68;                  #Source resistance of 1st stage, k\u03a9\n",
      "RS_2=0.22;                  #Source resistance of 2nd stage, k\u03a9\n",
      "RD_1=8.2;                   #Drain resistor of 1st stage, k\u03a9\n",
      "RD_2=2;                     #Drain resistor of 2nd stage, k\u03a9\n",
      "\n",
      "#Calculation\n",
      "V_RD1=ID_1*RD_1;                #Voltage drop across 8.2k\u03a9\n",
      "VD_1=VDD-V_RD1;                 #Drain voltage of 1st stage, V\n",
      "VS_1=ID_1*RS_1;                 #D.C potential of source of first stage, V\n",
      "V_RD2=ID_2*RD_2;                #Voltage drop across 2k\u03a9\n",
      "VD_2=VDD-V_RD2;                 #Drain voltage of 2nd stage, V\n",
      "VS_2=ID_2*RS_2;                 #D.C potential of source of 2nd stage, V\n",
      "\n",
      "\n",
      "#Result\n",
      "print(\"drain voltage of 1st stage=%.2fV.\"%VD_1);\n",
      "print(\"Source voltage of 1st stage=%.2fV.\"%VS_1);\n",
      "print(\"drain voltage of 2nd stage=%.1fV.\"%VD_2);\n",
      "print(\"Source voltage of 2nd stage=%.2fV.\"%VS_2);\n"
     ],
     "language": "python",
     "metadata": {},
     "outputs": [
      {
       "output_type": "stream",
       "stream": "stdout",
       "text": [
        "drain voltage of 1st stage=12.37V.\n",
        "Source voltage of 1st stage=1.46V.\n",
        "drain voltage of 2nd stage=11.7V.\n",
        "Source voltage of 2nd stage=2.01V.\n"
       ]
      }
     ],
     "prompt_number": 63
    },
    {
     "cell_type": "heading",
     "level": 2,
     "metadata": {},
     "source": [
      "Example 19.20 : Page number 524"
     ]
    },
    {
     "cell_type": "code",
     "collapsed": false,
     "input": [
      "#Variable declaration\n",
      "VDD=12;                     #Drain supply voltage, V\n",
      "VD=7;                       #Drain voltage, V\n",
      "R1=6.8;                     #Resistor R1, M\u03a9\n",
      "R2=1;                       #Resistor R2, M\u03a9\n",
      "RS=1.8;                     #Source resistance, k\u03a9\n",
      "RD=3.3;                     #Drain resistor, k\u03a9\n",
      "\n",
      "#Calculation\n",
      "ID=(VDD-VD)/RD;                  #Second stage drain current, mA\n",
      "VS=ID*RS;                        #Source voltage, V\n",
      "VG=VDD*R2/(R1+R2);               #Drain voltage, V\n",
      "VGS=VG-VS;                       #Drain-source voltage, V\n",
      "\n",
      "#Calculation\n",
      "print(\"Drain current=%.2fmA.\"%ID);\n",
      "print(\"Gate-source voltage=%.1fV.\"%VGS);\n"
     ],
     "language": "python",
     "metadata": {},
     "outputs": [
      {
       "output_type": "stream",
       "stream": "stdout",
       "text": [
        "Drain current=1.52mA.\n",
        "Gate-source voltage=-1.2V.\n"
       ]
      }
     ],
     "prompt_number": 65
    },
    {
     "cell_type": "heading",
     "level": 2,
     "metadata": {},
     "source": [
      "Example 19.21 : Page number 524-525"
     ]
    },
    {
     "cell_type": "code",
     "collapsed": false,
     "input": [
      "from math import sqrt\n",
      "\n",
      "#Variable declaration\n",
      "VDD=30;                     #Drain supply voltage, V\n",
      "ID=2.5;                     #Drain current, mA\n",
      "VDS=8;                      #Drain-source voltage, V\n",
      "VGS_off=-5;                 #Gate-source cutoff voltage, V\n",
      "R1=1;                       #Resistor R1, M\u03a9\n",
      "R2=500;                     #Resistor R2, k\u03a9\n",
      "IDSS=10;                    #Shorted gate drain current, mA\n",
      "\n",
      "#Calculation\n",
      "#ID=IDSS*square_of(1-(VGS/VGS_off))\n",
      "VGS=VGS_off*(1-sqrt(ID/IDSS));           #Gate-source voltage, V\n",
      "V2=VDD*R2/(R1*1000+R2);                       #Voltage across R2, V\n",
      "\n",
      "\n",
      "#V2=VGS+ID*RS\n",
      "RS=(V2-VGS)/ID;                         #Source resistor, k\u03a9\n",
      "\n",
      "#Result\n",
      "print(\"Source resistor, RS=%dk\u03a9.\"%RS);\n"
     ],
     "language": "python",
     "metadata": {},
     "outputs": [
      {
       "output_type": "stream",
       "stream": "stdout",
       "text": [
        "Source resistor, RS=5k\u03a9.\n"
       ]
      }
     ],
     "prompt_number": 66
    },
    {
     "cell_type": "heading",
     "level": 2,
     "metadata": {},
     "source": [
      "\n",
      "Example 19.22 : Page number 528-529\n"
     ]
    },
    {
     "cell_type": "code",
     "collapsed": false,
     "input": [
      "#Variable declaration\n",
      "VDD=20.0;                 #Drain supply voltage, V\n",
      "RS=50.0;                  #Source resistor, \u03a9\n",
      "RD=150.0;                 #Drain resistor, \u03a9\n",
      "\n",
      "#Calculation\n",
      "VDS_max=VDD;                           #Maximum drain source voltage, V\n",
      "ID_max=(VDD/(RD+RS))*1000;             #Maximum drain current, mA\n",
      "\n",
      "\n",
      "#plot\n",
      "x=[i for i in range(0,(int)(VDS_max+1))];          #Plot variable for V_DS\n",
      "y=[(i/(RD+RS))*1000 for i in reversed(x[:])];      #Plot variable for ID\n",
      "p=plot(x,y);\n",
      "xlabel(\"VDS(V)\");\n",
      "ylabel(\"ID(mA)\");\n",
      "title(\"d.c load line\");\n",
      "show(p);"
     ],
     "language": "python",
     "metadata": {},
     "outputs": [
      {
       "metadata": {},
       "output_type": "display_data",
       "png": "[encoded data removed]",
       "text": [
        "<matplotlib.figure.Figure at 0x7fafb8158f50>"
       ]
      }
     ],
     "prompt_number": 68
    },
    {
     "cell_type": "heading",
     "level": 2,
     "metadata": {},
     "source": [
      "Example 19.23 : Page number 529"
     ]
    },
    {
     "cell_type": "code",
     "collapsed": false,
     "input": [
      "#Variable declaration\n",
      "VDD=20;                 #Drain supply voltage, V\n",
      "RD=500.0;                 #Drain resistor, \u03a9\n",
      "\n",
      "#Calculation\n",
      "VDS_max=VDD;                           #Maximum drain source voltage, v \n",
      "ID_max=(VDD/RD)*1000;                  #Maximum drain current, mA\n",
      "\n",
      "#Plot\n",
      "x=[i for i in range(0,(int)(VDS_max+1))];          #Plot variable for V_DS\n",
      "y=[(i/RD)*1000 for i in reversed(x[:])];      #Plot variable for ID\n",
      "p=plot(x,y);\n",
      "xlabel(\"VDS(V)\");\n",
      "ylabel(\"ID(mA)\");\n",
      "title(\"d.c load line\");\n",
      "show(p);"
     ],
     "language": "python",
     "metadata": {},
     "outputs": [
      {
       "metadata": {},
       "output_type": "display_data",
       "png": "[encoded data removed]",
       "text": [
        "<matplotlib.figure.Figure at 0x7fafb804f310>"
       ]
      }
     ],
     "prompt_number": 71
    },
    {
     "cell_type": "heading",
     "level": 2,
     "metadata": {},
     "source": [
      "Example 19.24 : Page number 530-531"
     ]
    },
    {
     "cell_type": "code",
     "collapsed": false,
     "input": [
      "#Variable declaration\n",
      "VDD=20;                 #Drain supply voltage, V\n",
      "RD=12.0;                  #Drain resistor, k\u03a9\n",
      "RL=8.0;                   #Load resistor, k\u03a9\n",
      "RG=1.0;                   #Gate resistor, M\u03a9\n",
      "gm=1.0;                   #transconductance, mA/V\n",
      "\n",
      "#Calculation\n",
      "gm=gm*10**-3;                   #transconductance, mho\n",
      "RAC=(RD*RL)/(RD+RL);            #Total a.c load, k\u03a9\n",
      "Av=gm*RAC*1000;                 #Voltage gain\n",
      "\n",
      "\n",
      "#Result\n",
      "print(\"Voltage gain=%.1f.\"%Av);\n"
     ],
     "language": "python",
     "metadata": {},
     "outputs": [
      {
       "output_type": "stream",
       "stream": "stdout",
       "text": [
        "Voltage gain=4.8.\n"
       ]
      }
     ],
     "prompt_number": 73
    },
    {
     "cell_type": "heading",
     "level": 2,
     "metadata": {},
     "source": [
      "Example 19.25 : Page number 531"
     ]
    },
    {
     "cell_type": "code",
     "collapsed": false,
     "input": [
      "#Variable declaration\n",
      "gm=3000;                   #transconductance, \u03bcmho\n",
      "RD=10;                     #Drain resistance, k\u03a9\n",
      "\n",
      "#Calculation\n",
      "Av=gm*10**-6*RD*1000;       #Voltage gain\n",
      "\n",
      "#Result\n",
      "print(\"Voltage gain=%d.\"%Av);\n"
     ],
     "language": "python",
     "metadata": {},
     "outputs": [
      {
       "output_type": "stream",
       "stream": "stdout",
       "text": [
        "Voltage gain=30.\n"
       ]
      }
     ],
     "prompt_number": 74
    },
    {
     "cell_type": "heading",
     "level": 2,
     "metadata": {},
     "source": [
      "Example 19.26 : Page number 531"
     ]
    },
    {
     "cell_type": "code",
     "collapsed": false,
     "input": [
      "#Variable declaration\n",
      "IDSS=8;                     #Shorted gate drain current, mA\n",
      "VGS_off=-10;                #Gate-source cut-off voltage, V\n",
      "ID=1.9;                     #Drain current, mA\n",
      "RD=3.3;                     #Drain resistance, k\u03a9\n",
      "RS=2.7;                     #Source resistor, k\u03a9\n",
      "vin=100;                    #Input voltage, mV\n",
      "\n",
      "#Calculation\n",
      "VGS=-ID*RS;                      #Gate-source voltage, V\n",
      "gmo=2*IDSS*10**-3/abs(VGS_off);  #Maximum transconductance, S\n",
      "gm=gmo*(1-(VGS/VGS_off));        #Transconductance, S\n",
      "Av=gm*RD*1000;                   #Voltage gain\n",
      "vout=Av*vin;                     #Output voltage, mA\n",
      "\n",
      "#Result\n",
      "print(\"Output voltage=%dmV(r.m.s).\"%vout);\n",
      "                \n"
     ],
     "language": "python",
     "metadata": {},
     "outputs": [
      {
       "output_type": "stream",
       "stream": "stdout",
       "text": [
        "Output voltage=257mV(r.m.s).\n"
       ]
      }
     ],
     "prompt_number": 76
    },
    {
     "cell_type": "heading",
     "level": 2,
     "metadata": {},
     "source": [
      "Example 19.27 : Page number 531-532"
     ]
    },
    {
     "cell_type": "code",
     "collapsed": false,
     "input": [
      "#Variable declaration\n",
      "RL=4.7;                    #Load resistor, \u03a9\n",
      "RD=3.3;                     #Drain resistance, k\u03a9\n",
      "gm=779*10**-6;              #Transconductance, S\n",
      "vin=100;                    #Input voltage, mV\n",
      "\n",
      "\n",
      "#Calculation\n",
      "RAC=RD*RL/(RD+RL);          #Total a.c drain resistance, k\u03a9\n",
      "Av=gm*RAC*1000;             #Voltage gain\n",
      "vout=Av*vin;                     #Output voltage, mA\n",
      "\n",
      "#Result\n",
      "print(\"Output voltage=%dmV(r.m.s).\"%vout);"
     ],
     "language": "python",
     "metadata": {},
     "outputs": [
      {
       "output_type": "stream",
       "stream": "stdout",
       "text": [
        "Output voltage=151mV(r.m.s).\n"
       ]
      }
     ],
     "prompt_number": 1
    },
    {
     "cell_type": "heading",
     "level": 2,
     "metadata": {},
     "source": [
      "Example 19.28 : Page number 532-533"
     ]
    },
    {
     "cell_type": "code",
     "collapsed": false,
     "input": [
      "#Variable declaration\n",
      "RD=1.5;            #Drain resistance, k\u03a9\n",
      "gm=4;              #Transconductance, mS\n",
      "RS=560;            #Source resistance, \u03a9\n",
      "\n",
      "#Calculation\n",
      "Av=gm*10**-3*RD*1000/(1+gm*10**-3*RS);\n",
      "print(\"Voltage gain=%.2f.\"%Av);\n",
      "\n",
      "#If RS is bypassed by a capacitor\n",
      "Av=gm*10**-3*RD*1000;\n",
      "print(\"Voltage gain, if RS resistor is bypassed=%d.\"%Av);"
     ],
     "language": "python",
     "metadata": {},
     "outputs": [
      {
       "output_type": "stream",
       "stream": "stdout",
       "text": [
        "Voltage gain=1.85.\n",
        "Voltage gain, if RS resistor is bypassed=6.\n"
       ]
      }
     ],
     "prompt_number": 2
    },
    {
     "cell_type": "heading",
     "level": 2,
     "metadata": {},
     "source": [
      "Example 19.29 : Page number 533"
     ]
    },
    {
     "cell_type": "code",
     "collapsed": false,
     "input": [
      "#Variable declaration\n",
      "from math import sqrt\n",
      "\n",
      "IDSS=10;                     #Shorted gate drain current, mA\n",
      "VGS_off=-3.5;                #Gate-source cut-off voltage, V\n",
      "RD=1.5;            #Drain resistance, k\u03a9\n",
      "RS=750;            #Source resistance, \u03a9\n",
      "\n",
      "\n",
      "#Calculation\n",
      "#From d.c biasing\n",
      "ID=2.3;                                     #Drain current, mA\n",
      "VGS=round(VGS_off*(1-sqrt(ID/IDSS)),1);              #Gate-source voltage, V\n",
      "gm=round(round((2*IDSS/abs(VGS_off)),1)*round((1-(VGS/VGS_off)),3),2);           #Transconductance, mS\n",
      "\n",
      "\n",
      "#(i)\n",
      "Av=gm*RD;                         #Voltage gain with RS resistor bypassed\n",
      "print(\"(i) Voltage gain with RS bypassed=%.3f.\"%Av);\n",
      "\n",
      "#(ii)\n",
      "Av=Av/(1+gm*(RS/1000.0));\n",
      "print(\"(ii) Voltage gain with RS unbypassed=%.2f.\"%Av);\n"
     ],
     "language": "python",
     "metadata": {},
     "outputs": [
      {
       "output_type": "stream",
       "stream": "stdout",
       "text": [
        "(i) Voltage gain with RS bypassed=4.155.\n",
        "(ii) Voltage gain with RS unbypassed=1.35.\n"
       ]
      }
     ],
     "prompt_number": 12
    },
    {
     "cell_type": "heading",
     "level": 2,
     "metadata": {},
     "source": [
      "Example 19.30 : Page number 539-540"
     ]
    },
    {
     "cell_type": "code",
     "collapsed": false,
     "input": [
      "#Variable declaration\n",
      "IDSS=10.0;                     #Shorted gate drain current, mA\n",
      "VGS_off=-8.0;                  #Gate-source cut-off voltage, V\n",
      "\n",
      "#Calculation\n",
      "#(i)\n",
      "if(VGS_off<0):\n",
      "    print(\"(i)  n-channel D-MOSFET\");\n",
      "else:\n",
      "    print(\"(i)  p-channel D-MOSFET\");\n",
      "    \n",
      "\n",
      "#(ii)\n",
      "VGS=-3.0;                                #Gate-source voltage, V\n",
      "ID=IDSS*(1-(VGS/VGS_off))**2;          #Drain current mA\n",
      "print(\"(ii) Drain current=%.2fmA\"%ID);\n",
      "\n",
      "#(iii)\n",
      "VGS=3.0;                                #Gate-source voltage, V\n",
      "ID=IDSS*(1-(VGS/VGS_off))**2;          #Drain current mA\n",
      "print(\"(iii) Drain current=%.1fmA\"%ID);\n"
     ],
     "language": "python",
     "metadata": {},
     "outputs": [
      {
       "output_type": "stream",
       "stream": "stdout",
       "text": [
        "(i)  n-channel D-MOSFET\n",
        "(ii) Drain current=3.91mA\n",
        "(iii) Drain current=18.9mA\n"
       ]
      }
     ],
     "prompt_number": 15
    },
    {
     "cell_type": "heading",
     "level": 2,
     "metadata": {},
     "source": [
      "Example 19.31 : Page number 540\n"
     ]
    },
    {
     "cell_type": "code",
     "collapsed": false,
     "input": [
      "#Variable declaration\n",
      "IDSS=1.0;                     #Shorted gate drain current, mA\n",
      "VGS_off=-6.0;                  #Gate-source cut-off voltage, V\n",
      "\n",
      "\n",
      "#Calculation\n",
      "#Point 1\n",
      "VGS=0;                  #Gate source voltage, V               \n",
      "ID=IDSS;                #Drain current, mA\n",
      "print(\"Point 1: VGS=%dV and ID=%dmA.\"%(VGS,ID));\n",
      "\n",
      "#Point 2\n",
      "VGS=VGS_off;                  #Gate source voltage, V               \n",
      "ID=0;                        #Drain current, mA\n",
      "print(\"Point 2: VGS=%dV and ID=%dmA.\"%(VGS,ID));\n",
      "\n",
      "#locating more points by changing VG values\n",
      "VGS=-3;                  #Gate source voltage, V               \n",
      "ID=IDSS*(1-(VGS/VGS_off))**2;          #Drain current mA\n",
      "print(\"Point 3: VGS=%dV and ID=%.2fmA.\"%(VGS,ID));\n",
      "\n",
      "VGS=-1;                  #Gate source voltage, V               \n",
      "ID=IDSS*(1-(VGS/VGS_off))**2;          #Drain current mA\n",
      "print(\"Point 4: VGS=%dV and ID=%.3fmA.\"%(VGS,ID));\n",
      "\n",
      "VGS=1;                  #Gate source voltage, V               \n",
      "ID=IDSS*(1-(VGS/VGS_off))**2;          #Drain current mA\n",
      "print(\"Point 5: VGS=%dV and ID=%.2fmA.\"%(VGS,ID));\n",
      "\n",
      "VGS=3;                  #Gate source voltage, V               \n",
      "ID=IDSS*(1-(VGS/VGS_off))**2;          #Drain current mA\n",
      "print(\"Point 6: VGS=%dV and ID=%.2fmA.\"%(VGS,ID));"
     ],
     "language": "python",
     "metadata": {},
     "outputs": [
      {
       "output_type": "stream",
       "stream": "stdout",
       "text": [
        "Point 1: VGS=0V and ID=1mA.\n",
        "Point 2: VGS=-6V and ID=0mA.\n",
        "Point 3: VGS=-3V and ID=0.25mA.\n",
        "Point 4: VGS=-1V and ID=0.694mA.\n",
        "Point 5: VGS=1V and ID=1.36mA.\n",
        "Point 6: VGS=3V and ID=2.25mA.\n"
       ]
      }
     ],
     "prompt_number": 16
    },
    {
     "cell_type": "heading",
     "level": 2,
     "metadata": {},
     "source": [
      "Example 19.32 : Page number 541"
     ]
    },
    {
     "cell_type": "code",
     "collapsed": false,
     "input": [
      "#Variable declaration\n",
      "VDD=18;          #Drain supply voltage, V\n",
      "RD=620.0;           #Drain resistor, \u03a9\n",
      "IDSS=12.0;        #Shorted gate drain current, mA\n",
      "VGS_off=-8.0;      #Gate-source cut-off voltage, V\n",
      "\n",
      "\n",
      "#Calculation\n",
      "ID=IDSS;               #Drain current, mA\n",
      "VDS=VDD-IDSS*(RD/1000);       #Drain source voltage, V\n",
      "\n",
      "#Result\n",
      "print(\"Drain source voltage=%.1fV.\"%VDS);"
     ],
     "language": "python",
     "metadata": {},
     "outputs": [
      {
       "output_type": "stream",
       "stream": "stdout",
       "text": [
        "Drain source voltage=10.6V.\n"
       ]
      }
     ],
     "prompt_number": 21
    },
    {
     "cell_type": "heading",
     "level": 2,
     "metadata": {},
     "source": [
      "Example 19.33 : Page number 542"
     ]
    },
    {
     "cell_type": "code",
     "collapsed": false,
     "input": [
      "#Variable declaration\n",
      "VDD=15;           #Drain supply voltage\n",
      "RD=620.0;          #Drain resistor, \u03a9\n",
      "RL=8.2;          #Load resistor, k\u03a9\n",
      "vin=500.0;         #Input voltage, V\n",
      "IDSS=12.0;        #Shorted gate drain current, mA\n",
      "gm=3.2;            #Transconductance, mS\n",
      "\n",
      "#Calculation\n",
      "#(i)\n",
      "VDS=VDD-IDSS*(RD/1000.0);       #Drain source voltage, V\n",
      "\n",
      "#(ii)\n",
      "RAC=RD*RL*1000/(RD+RL*1000);  #Total a.c drain resistace, \u03a9\n",
      "vout=(gm/1000.0)*RAC*vin;     #Output voltage, V\n",
      "\n",
      "#Result\n",
      "print(\"(i)  Drain source voltage=%.2fV.\"%VDS);\n",
      "print(\"(ii) Output voltage=%dmV\"%vout);"
     ],
     "language": "python",
     "metadata": {},
     "outputs": [
      {
       "output_type": "stream",
       "stream": "stdout",
       "text": [
        "(i)  Drain source voltage=7.56V.\n",
        "(ii) Output voltage=922mV\n"
       ]
      }
     ],
     "prompt_number": 28
    },
    {
     "cell_type": "heading",
     "level": 2,
     "metadata": {},
     "source": [
      "Example 19.34 : Page number 545"
     ]
    },
    {
     "cell_type": "code",
     "collapsed": false,
     "input": [
      "#Variable declaration\n",
      "ID_on=500.0;             #Drain current for MOSFET ON, mA\n",
      "VGS_on=10.0;             #Gate-source voltage for MOSFET ON, V\n",
      "VGS_th=1.0;              #Threshold value of gate-source voltage, V\n",
      "VGS=5;                 #Gate-source voltage, V\n",
      "\n",
      "#Calculation\n",
      "K=round(ID_on/(VGS_on-VGS_th)**2,2);   #Constant for a E-MOSFET, mA/V\u00b2\n",
      "ID=K*(VGS-VGS_th)**2;                  #Drain current, mA\n",
      "\n",
      "#Result\n",
      "print(\"Drain current=%.1fmA\"%ID);\n"
     ],
     "language": "python",
     "metadata": {},
     "outputs": [
      {
       "output_type": "stream",
       "stream": "stdout",
       "text": [
        "Drain current=98.7mA\n"
       ]
      }
     ],
     "prompt_number": 10
    },
    {
     "cell_type": "heading",
     "level": 2,
     "metadata": {},
     "source": [
      "Example 19.35 : Page number 545"
     ]
    },
    {
     "cell_type": "code",
     "collapsed": false,
     "input": [
      "#Variable declaration\n",
      "ID_on=3.0;             #Drain current for MOSFET ON, mA\n",
      "VGS_on=10.0;             #Gate-source voltage for MOSFET ON, V\n",
      "VGS_th=3.0;              #Threshold value of gate-source voltage, V\n",
      "\n",
      "#Calculation\n",
      "K=round((ID_on/(VGS_on-VGS_th)**2),3);   #Constant for a E-MOSFET, mA/V\u00b2\n",
      "print(\"K=%.3fe-03A/V\u00b2.\"%K);\n",
      "\n",
      "#Determining different points for plotting\n",
      "VGS=5;                                 #Gate-source voltage, V\n",
      "ID=K*(VGS-VGS_th)**2;                  #Drain current, mA\n",
      "print(\"For VGS=5V, Drain current=%.3fmA\"%ID);\n",
      "VGS=8;                                 #Gate-source voltage, V\n",
      "ID=K*(VGS-VGS_th)**2;                  #Drain current, mA\n",
      "print(\"For VGS=8V, Drain current=%.3fmA\"%ID);\n",
      "VGS=10;                                 #Gate-source voltage, V\n",
      "ID=K*(VGS-VGS_th)**2;                  #Drain current, mA\n",
      "print(\"For VGS=10V, Drain current=%.dmA\"%ID);\n",
      "VGS=12;                                 #Gate-source voltage, V\n",
      "ID=K*(VGS-VGS_th)**2;                  #Drain current, mA\n",
      "print(\"For VGS=12V, Drain current=%.2fmA\"%ID);\n"
     ],
     "language": "python",
     "metadata": {},
     "outputs": [
      {
       "output_type": "stream",
       "stream": "stdout",
       "text": [
        "K=0.061e-03A/V\u00b2.\n",
        "For VGS=5V, Drain current=0.244mA\n",
        "For VGS=8V, Drain current=1.525mA\n",
        "For VGS=10V, Drain current=2mA\n",
        "For VGS=12V, Drain current=4.94mA\n"
       ]
      }
     ],
     "prompt_number": 12
    },
    {
     "cell_type": "heading",
     "level": 2,
     "metadata": {},
     "source": [
      "Example 19.36 : Page number 546-547"
     ]
    },
    {
     "cell_type": "code",
     "collapsed": false,
     "input": [
      "#Variable declaration\n",
      "VDD=24.0;             #Drain supply voltage, V\n",
      "RD=470.0;             #Drain resistor, \u03a9\n",
      "R1=100.0;             #Resistor R1, k\u03a9\n",
      "R2=15.0;              #Resistor R2, k\u03a9\n",
      "ID_on=500.0;             #Drain current for MOSFET ON, mA\n",
      "VGS_on=10.0;             #Gate-source voltage for MOSFET ON, V\n",
      "VGS_th=1.0;              #Threshold value of gate-source voltage, V\n",
      "\n",
      "\n",
      "#Calculation\n",
      "VGS=VDD*R2/(R1+R2);                      #Gate-source voltage, V (Voltage divider rule)\n",
      "K=round((ID_on/(VGS_on-VGS_th)**2),2);   #Constant for a E-MOSFET, mA/V\u00b2\n",
      "ID=K*(VGS-VGS_th)**2;                    #Drain current, mA\n",
      "VDS=VDD-(ID/1000)*RD;                           #Drain-source voltage, V\n",
      "\n",
      "#Result\n",
      "print(\"Drain-source voltage=%.1fV.\"%VDS);\n",
      "\n"
     ],
     "language": "python",
     "metadata": {},
     "outputs": [
      {
       "output_type": "stream",
       "stream": "stdout",
       "text": [
        "Drain-source voltage=10.8V.\n"
       ]
      }
     ],
     "prompt_number": 14
    },
    {
     "cell_type": "heading",
     "level": 2,
     "metadata": {},
     "source": [
      "Example 19.37 : Page number 547"
     ]
    },
    {
     "cell_type": "code",
     "collapsed": false,
     "input": [
      "#Variable declaration\n",
      "VDD=20.0;             #Drain supply voltage, V\n",
      "RD=1.0;               #Drain resistor, k\u03a9\n",
      "RG=5.0;               #Gate resistor , M\u03a9\n",
      "ID_on=10.0;             #Drain current for MOSFET ON, mA\n",
      "\n",
      "#Calculation\n",
      "#since, VGS=VDS\n",
      "ID=ID_on;              #Drain current, mA\n",
      "VDS=VDD-ID*RD;         #Drain-source voltage, V\n",
      "\n",
      "#Result\n",
      "print(\"Drain current=%dmA.\"%ID);\n",
      "print(\"Drain-source voltage=%dV.\"%VDS);\n"
     ],
     "language": "python",
     "metadata": {},
     "outputs": [
      {
       "output_type": "stream",
       "stream": "stdout",
       "text": [
        "Drain current=10mA.\n",
        "Drain-source voltage=10V.\n"
       ]
      }
     ],
     "prompt_number": 16
    },
    {
     "cell_type": "heading",
     "level": 2,
     "metadata": {},
     "source": [
      "Example 19.38 : Page number 547-548"
     ]
    },
    {
     "cell_type": "code",
     "collapsed": false,
     "input": [
      "#Variable declaration\n",
      "VDD=10.0;             #Drain supply voltage, V\n",
      "RD=3.0;             #Drain resistor, k\u03a9\n",
      "R1=1.0;             #Resistor R1, M\u03a9\n",
      "R2=1.0;              #Resistor R2, M\u03a9\n",
      "ID_on=10.0;             #Drain current for MOSFET ON, mA\n",
      "VGS_on=10.0;             #Gate-source voltage for MOSFET ON, V\n",
      "VGS_th=1.5;              #Threshold value of gate-source voltage, V\n",
      "\n",
      "#Calculation\n",
      "K=round((ID_on/(VGS_on-VGS_th)**2),3);   #Constant for a E-MOSFET, mA/V\u00b2\n",
      "VGS=VDD*R2/(R1+R2);                      #Gate-source voltage, V (Voltage divider rule)\n",
      "ID=K*(VGS-VGS_th)**2;                    #Drain current, mA\n",
      "\n",
      "#Result\n",
      "print(\"Drain current=%.2fmA.\"%ID);\n"
     ],
     "language": "python",
     "metadata": {},
     "outputs": [
      {
       "output_type": "stream",
       "stream": "stdout",
       "text": [
        "Drain current=1.69mA.\n"
       ]
      }
     ],
     "prompt_number": 20
    }
   ],
   "metadata": {}
  }
 ]
}