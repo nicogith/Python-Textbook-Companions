{
 "metadata": {
  "name": "",
  "signature": "sha256:e210474f5c4fc6668f4c7b5af2adf833a1c7f62577017a980ab8d11cd8ce2886"
 },
 "nbformat": 3,
 "nbformat_minor": 0,
 "worksheets": [
  {
   "cells": [
    {
     "cell_type": "heading",
     "level": 1,
     "metadata": {},
     "source": [
      "CHAPTER 7 : SPECIAL-PURPOSE DIODES"
     ]
    },
    {
     "cell_type": "heading",
     "level": 2,
     "metadata": {},
     "source": [
      "Example 7.1 : Page number 127-128\n"
     ]
    },
    {
     "cell_type": "code",
     "collapsed": false,
     "input": [
      "#Variable declaration\n",
      "V_S=10.0;                        #Supply voltage in V\n",
      "V_D=1.6;                         #Forward voltage drop of LED, in V\n",
      "I_F=20.0;                          #Required limited current through LED, in mA\n",
      "\n",
      "#Calculations\n",
      "R_S=(V_S-V_D)/(I_F/1000);               #Series resistor required to limit the current through the LED, in \u2126\n",
      "\n",
      "#Result \n",
      "print(\"The value of series resistor required to limit the current through the LED = %d \u2126.\"%R_S);\n",
      " \n"
     ],
     "language": "python",
     "metadata": {},
     "outputs": [
      {
       "output_type": "stream",
       "stream": "stdout",
       "text": [
        "The value of series resistor required to limit the current through the LED = 420 \u2126.\n"
       ]
      }
     ],
     "prompt_number": 1
    },
    {
     "cell_type": "heading",
     "level": 2,
     "metadata": {},
     "source": [
      "Example 7.2: Page number 128"
     ]
    },
    {
     "cell_type": "code",
     "collapsed": false,
     "input": [
      "#Variable declaration\n",
      "V_S=15.0;                        #Supply voltage in V\n",
      "V_D=2.0;                         #Forward voltage drop of LED, in V\n",
      "R_S=2200.0;                         #Series resistor required to limit the current through the LED, in \u2126\n",
      "\n",
      "#Calculations\n",
      "I_F=((V_S-V_D)/R_S)*1000;                          #Required limited current through LED, in mA\n",
      "\n",
      "#Result \n",
      "print(\"The current through the LED in the circuit = %.2f mA\"%I_F);\n"
     ],
     "language": "python",
     "metadata": {},
     "outputs": [
      {
       "output_type": "stream",
       "stream": "stdout",
       "text": [
        "The current through the LED in the circuit = 5.91 mA\n"
       ]
      }
     ],
     "prompt_number": 2
    },
    {
     "cell_type": "heading",
     "level": 2,
     "metadata": {},
     "source": [
      "Example 7.3: Page number 132-133"
     ]
    },
    {
     "cell_type": "code",
     "collapsed": false,
     "input": [
      "#Variable declaration\n",
      "Ir=50.0;                                 #Dark current as observed from the current Illumination curve, in mA \n",
      "V_R=10.0;                                #Reverse voltage in V\n",
      "\n",
      "#Calculation\n",
      "R_R=V_R/(Ir/pow(10,6));                    #Dark Resistance in \u2126\n",
      "\n",
      "#Result\n",
      "print(\"The dark resistance is=%d k\u2126\"%(R_R/1000));\n"
     ],
     "language": "python",
     "metadata": {},
     "outputs": [
      {
       "output_type": "stream",
       "stream": "stdout",
       "text": [
        "The dark resistance is=200 k\u2126\n"
       ]
      }
     ],
     "prompt_number": 3
    },
    {
     "cell_type": "heading",
     "level": 2,
     "metadata": {},
     "source": [
      "Example 7.4: Page number 133"
     ]
    },
    {
     "cell_type": "code",
     "collapsed": false,
     "input": [
      "#Variable declaration\n",
      "E=2.5;                      #Illumination in mW/cm\u00b2\n",
      "m=37.4;                     #sensitivity of the photodiode in \ud835\udf07A/mW/cm\u00b2\n",
      "\n",
      "#Calculations\n",
      "I_R=m*E;                     #Reverse current in \ud835\udf07A\n",
      "\n",
      "#Result\n",
      "print(\"The reverese current in the photodiode = %.1f  \ud835\udf07A\"%I_R);\n"
     ],
     "language": "python",
     "metadata": {},
     "outputs": [
      {
       "output_type": "stream",
       "stream": "stdout",
       "text": [
        "The reverese current in the photodiode = 93.5  \ud835\udf07A\n"
       ]
      }
     ],
     "prompt_number": 4
    },
    {
     "cell_type": "heading",
     "level": 2,
     "metadata": {},
     "source": [
      "Example 7.5: Page number 137"
     ]
    },
    {
     "cell_type": "code",
     "collapsed": false,
     "input": [
      "from math import pi\n",
      "from math import sqrt\t\n",
      "#Variable declaration\n",
      "L=1.0;                        #Inductance of the inductor in mH\n",
      "C=100.0;                      #Capacitance of the varactor in pF\n",
      "\n",
      "#Result\n",
      "f_r=1/(2*pi*sqrt(L*pow(10,-3)*C*pow(10,-12)));        #Resonant frequency of the circuit in Hz\n",
      "f_r=f_r/1000;                                         #Resonant frequency of the circuit in kHz\n",
      "\n",
      "#Result\n",
      "print(\"The resonant frequency of the circuit = %.1f kHz\"%f_r);\n"
     ],
     "language": "python",
     "metadata": {},
     "outputs": [
      {
       "output_type": "stream",
       "stream": "stdout",
       "text": [
        "The resonant frequency of the circuit = 503.3 kHz\n"
       ]
      }
     ],
     "prompt_number": 5
    },
    {
     "cell_type": "code",
     "collapsed": false,
     "input": [],
     "language": "python",
     "metadata": {},
     "outputs": []
    }
   ],
   "metadata": {}
  }
 ]
}