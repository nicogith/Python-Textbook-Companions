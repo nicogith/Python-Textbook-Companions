{
 "metadata": {
  "name": "",
  "signature": "sha256:a688629536ad6915939234eacc1ed3eaaf36e0aaa88de5df5b6a309da4d2c64d"
 },
 "nbformat": 3,
 "nbformat_minor": 0,
 "worksheets": [
  {
   "cells": [
    {
     "cell_type": "heading",
     "level": 1,
     "metadata": {},
     "source": [
      "CHAPTER 22: ELECTRONIC INSTRUMENTS"
     ]
    },
    {
     "cell_type": "heading",
     "level": 2,
     "metadata": {},
     "source": [
      "Example 22.1 : Page number 606\n"
     ]
    },
    {
     "cell_type": "code",
     "collapsed": false,
     "input": [
      "#Variable declaration\n",
      "I_g=1;                  #Full scale deflection current, mA\n",
      "\n",
      "#Calculation\n",
      "MS=1/(I_g/1000.0);        #Multimeter sensitivity, \u03a9 per volt\n",
      "\n",
      "#Result\n",
      "print(\"The multimeter sensitivity=%d \u03a9 per volt.\"%MS);\n"
     ],
     "language": "python",
     "metadata": {},
     "outputs": [
      {
       "output_type": "stream",
       "stream": "stdout",
       "text": [
        "The multimeter sensitivity=1000 \u03a9 per volt.\n"
       ]
      }
     ],
     "prompt_number": 2
    },
    {
     "cell_type": "heading",
     "level": 2,
     "metadata": {},
     "source": [
      "Example 22.2 : Page number 606-607\n"
     ]
    },
    {
     "cell_type": "code",
     "collapsed": false,
     "input": [
      "#Variable declaration\n",
      "meter_sensitivity=1000.0;                  #Meter sensitivity, \u03a9 per volt\n",
      "V_full_scale=50.0;                        #Full scale volts\n",
      "R=50000.0;                                #Resistance to be measured, \u03a9\n",
      "\n",
      "#Calculation\n",
      "meter_resistance=V_full_scale*meter_sensitivity;            #Meter resistance, \u03a9\n",
      "R_p=R*meter_resistance/(R+meter_resistance);                #Parallel resistance, \u03a9\n",
      "\n",
      "#Result\n",
      "print(\"When the meter is used to measure the voltage across the resistance %d\u03a9, total resistance =%d\u03a9.\"%(R,R_p));\n",
      "print(\"\u2234 Meter will give highly incorrect reading.\");\n"
     ],
     "language": "python",
     "metadata": {},
     "outputs": [
      {
       "output_type": "stream",
       "stream": "stdout",
       "text": [
        "When the meter is used to measure the voltage across the resistance 50000\u03a9, total resistance =25000\u03a9.\n",
        "\u2234 Meter will give highly incorrect reading.\n"
       ]
      }
     ],
     "prompt_number": 3
    },
    {
     "cell_type": "heading",
     "level": 2,
     "metadata": {},
     "source": [
      "Example 22.3 : Page number 607\n"
     ]
    },
    {
     "cell_type": "code",
     "collapsed": false,
     "input": [
      "#Variable declaration\n",
      "meter_sensitivity=4.0;                #Meter sensitivity, k\u03a9/V\n",
      "R_1=10.0;                             #Resistance across which voltage is to be measured, k\u03a9\n",
      "R_2=10.0;                             #Resistance, k\u03a9\n",
      "range_max=10.0;                       #Maximum range of the meter, V\n",
      "range_min=0;                        #Minimum range of the meter, V\n",
      "V=20.0;                               #Battery voltage, V\n",
      "\n",
      "#Calculation\n",
      "R_meter=meter_sensitivity*range_max;                       #Resistance of the meter, k\u03a9\n",
      "R_T=(R_meter*R_1)/(R_1+R_meter) +  R_2;                     #Total circuit resistance, k\u03a9\n",
      "I_circuit=round(V/R_T,2);                                            #Circuit current, mA\n",
      "V_multimeter=I_circuit*((R_meter*R_1)/(R_1+R_meter));       #Voltage read by multimeter, V\n",
      "\n",
      "\n",
      "#Result\n",
      "print(\"Voltage read by multimeter=%.2fV.\"%V_multimeter);\n"
     ],
     "language": "python",
     "metadata": {},
     "outputs": [
      {
       "output_type": "stream",
       "stream": "stdout",
       "text": [
        "Voltage read by multimeter=8.88V.\n"
       ]
      }
     ],
     "prompt_number": 5
    },
    {
     "cell_type": "heading",
     "level": 2,
     "metadata": {},
     "source": [
      "Example 22.4 : Page number 607-608\n"
     ]
    },
    {
     "cell_type": "code",
     "collapsed": false,
     "input": [
      "#Variable declaration\n",
      "meter_sensitivity=20.0;                #Meter sensitivity, k\u03a9/V\n",
      "R_1=10.0;                             #Resistance across which voltage is to be measured, k\u03a9\n",
      "R_2=10.0;                             #Resistance, k\u03a9\n",
      "range_max=10.0;                       #Maximum range of the meter, V\n",
      "range_min=0;                        #Minimum range of the meter, V\n",
      "V=20.0;                               #Battery voltage, V\n",
      "\n",
      "#Calculation\n",
      "R_meter=meter_sensitivity*range_max;                       #Resistance of the meter, k\u03a9\n",
      "R_T=round((R_meter*R_1)/(R_1+R_meter) +  R_2,1);                     #Total circuit resistance, k\u03a9\n",
      "I_circuit=round(V/R_T,2);                                           #Circuit current, mA\n",
      "V_multimeter=I_circuit*((R_meter*R_1)/(R_1+R_meter));       #Voltage read by multimeter, V\n",
      "\n",
      "\n",
      "#Result\n",
      "print(\"Voltage read by multimeter=%.2fV.\"%V_multimeter);\n",
      "\n",
      "\n",
      "#Note: The circuit current=1.0256mA, has been approximated in the text  as 1.04mA. But, in the code 1.03 mA has been used. Therefore, the final answer is obtained as 9.81V and not 9.88V.\n"
     ],
     "language": "python",
     "metadata": {},
     "outputs": [
      {
       "output_type": "stream",
       "stream": "stdout",
       "text": [
        "Voltage read by multimeter=9.81V.\n"
       ]
      }
     ],
     "prompt_number": 7
    },
    {
     "cell_type": "heading",
     "level": 2,
     "metadata": {},
     "source": [
      "Example 22.5 : Page number 608-609\n"
     ]
    },
    {
     "cell_type": "code",
     "collapsed": false,
     "input": [
      "from math import floor\n",
      "\n",
      "#Variable declaration\n",
      "R_A=20.0;             #Resistance after point A, k\u03a9\n",
      "R_B=20.0;             #Resistance after point B, k\u03a9\n",
      "R_C=30.0;             #Resistance after point C, k\u03a9\n",
      "R_D=30.0;             #Resistance after point D, k\u03a9\n",
      "R_meter=60.0;         #Resistance of the meter, k\u03a9\n",
      "V=100.0;              #Battery voltage, V\n",
      "\n",
      "#Calculation\n",
      "#(i) When meter is not connected:\n",
      "R_T=R_A+R_B+R_C+R_D;                    #Total circuit resistance, k\u03a9\n",
      "I_circuit=V/R_T;                        #Circuit current, mA\n",
      "V_A=V;                                  #Voltage at point A, V\n",
      "V_B=V-(I_circuit*R_A);                  #Voltage at point B, V\n",
      "V_C=V-(I_circuit*(R_A+R_B));            #Voltage at point C, V\n",
      "V_D=V-(I_circuit*(R_T-R_D));            #Voltage at point D, V\n",
      "\n",
      "print(\"(i) When meter is not connected:\");\n",
      "print(\"    Voltage at point A=%dV.\"%V_A);\n",
      "print(\"    Voltage at point B=%dV.\"%V_B);\n",
      "print(\"    Voltage at point C=%dV.\"%V_C);\n",
      "print(\"    Voltage at point D=%dV.\"%V_D);\n",
      "\n",
      "\n",
      "#(ii) When meter is connected:\n",
      "#(a) Since, point A is directly connected to the source, voltage at point A is equal to source voltage.\n",
      "V_A=V;                                      #Voltage at point A, V\n",
      "\n",
      "#(b)\n",
      "R_T_B=R_A  + round((R_T-R_A)*R_meter/(R_meter + (R_T-R_A)),2);             #Total circuit resistance, k\u03a9\n",
      "I_circuit=round(V/R_T_B,2);                                                #Circuit current, mA\n",
      "V_B=I_circuit*(R_T-R_A)*R_meter/(R_meter + (R_T-R_A));                   #Voltage at point B, V\n",
      "\n",
      "\n",
      "#(c)\n",
      "R_T_C=(R_A+R_B)  + (R_T-R_A-R_B)*R_meter/(R_meter + (R_T-R_A-R_B));               #Total circuit resistance, k\u03a9\n",
      "I_circuit=V/R_T_C;                                                                #Circuit current, mA\n",
      "V_C=floor((I_circuit*(R_T-R_A-R_B)*R_meter/(R_meter + (R_T-R_A-R_B)))*10)/10;     #Voltage at point C, V\n",
      "\n",
      "\n",
      "\n",
      "#(c)\n",
      "R_T_D=(R_T-R_D)  + R_D*R_meter/(R_meter + R_D);             #Total circuit resistance, k\u03a9\n",
      "I_circuit=round(V/R_T_D,2);                                 #Circuit current, mA\n",
      "V_D=I_circuit*(R_D*R_meter)/(R_meter + R_D);                #Voltage at point D, V\n",
      "\n",
      "\n",
      "print(\"(ii) When meter is connected:\");\n",
      "print(\"     Voltage at point A=%dV.\"%V_A);\n",
      "print(\"     Voltage at point B=%dV.\"%V_B);\n",
      "print(\"     Voltage at point C=%.1fV.\"%V_C);\n",
      "print(\"     Voltage at point D=%.1fV.\"%V_D);\n"
     ],
     "language": "python",
     "metadata": {},
     "outputs": [
      {
       "output_type": "stream",
       "stream": "stdout",
       "text": [
        "(i) When meter is not connected:\n",
        "    Voltage at point A=100V.\n",
        "    Voltage at point B=80V.\n",
        "    Voltage at point C=60V.\n",
        "    Voltage at point D=30V.\n",
        "(ii) When meter is connected:\n",
        "     Voltage at point A=100V.\n",
        "     Voltage at point B=63V.\n",
        "     Voltage at point C=42.8V.\n",
        "     Voltage at point D=22.2V.\n"
       ]
      }
     ],
     "prompt_number": 8
    },
    {
     "cell_type": "heading",
     "level": 2,
     "metadata": {},
     "source": [
      "Example 22.6 : Page number 614\n"
     ]
    },
    {
     "cell_type": "code",
     "collapsed": false,
     "input": [
      "#Variable declaration\n",
      "VCC=12.0;                     #Supply voltage, V\n",
      "R_m=1.0;                      #Meter resistance, k\u03a9\n",
      "I_m_fsd=2.0;                  #Full scale deflection of meter current, mA\n",
      "beta=80.0;                    #Base current amplification factor\n",
      "E=5.0;                        #Voltage to be measured, V\n",
      "V_BE=0.7;                   #Base-emitter voltage, V\n",
      "\n",
      "\n",
      "#Calculation\n",
      "V_E=E-V_BE;                 #Emitter voltage, V\n",
      "\n",
      "#(i)\n",
      "#I_m_fsd=V_E/(R_s+R_m), (OHM's LAW)\n",
      "R_s=((V_E/I_m_fsd)-R_m)*1000;                  #Multiplier resistor, \u03a9\n",
      "\n",
      "#(ii)\n",
      "IB=I_m_fsd/beta;     \t\t\t\t#Base current, mA\n",
      "R_i=E/IB;                    \t\t\t#Input resistance of voltmeter, k\u03a9\n",
      "\n",
      "\n",
      "\n",
      "#Result\n",
      "print(\"(i)  The multiplier resistor=%d\u03a9.\"%R_s);\n",
      "print(\"(ii) The voltmeter input resistance=%dk\u03a9\"%R_i);\n"
     ],
     "language": "python",
     "metadata": {},
     "outputs": [
      {
       "output_type": "stream",
       "stream": "stdout",
       "text": [
        "(i)  The multiplier resistor=1150\u03a9.\n",
        "(ii) The voltmeter input resistance=200k\u03a9\n"
       ]
      }
     ],
     "prompt_number": 13
    },
    {
     "cell_type": "heading",
     "level": 2,
     "metadata": {},
     "source": [
      "Example 22.7 : Page number 614\n"
     ]
    },
    {
     "cell_type": "code",
     "collapsed": false,
     "input": [
      "#Variable declaration\n",
      "VCC=20;                     #Supply voltage, V\n",
      "Rs_Rm=9.3;                  #Sum of multipier resistance and meter resistance, k\u03a9\n",
      "I_m=1;                      #Meter current, mA\n",
      "beta=100;                   #Base current amplification factor\n",
      "E=10;                       #Voltage to be measured, V\n",
      "V_BE=0.7;                   #Base-emitter voltage, V\n",
      "\n",
      "\n",
      "#Calculation\n",
      "#(i)\n",
      "V_E=E-V_BE;             #Emitter voltage, V\n",
      "I_m=V_E/Rs_Rm;          #Meter current, mA\n",
      "\n",
      "#(ii)\n",
      "I_B=I_m/beta;               #Base current, mA\n",
      "R_i_T=(E/I_B)/1000;         #Input resistance of voltmeter, with transistor, M\u03a9\n",
      "R_i_WT=Rs_Rm;               #Input resistance of voltmeter, without transistor, k\u03a9\n",
      "\n",
      "#Result\n",
      "print(\"(i) The meter current=%dmA\"%I_m);\n",
      "print(\"(ii) The input resistance of voltmeter with transistor=%dM\u03a9.\"%R_i_T);\n",
      "print(\"     The input resistance of voltmeter without transistor=%.1fk\u03a9.\"%R_i_WT);\n"
     ],
     "language": "python",
     "metadata": {},
     "outputs": [
      {
       "output_type": "stream",
       "stream": "stdout",
       "text": [
        "(i) The meter current=1mA\n",
        "(ii) The input resistance of voltmeter with transistor=1M\u03a9.\n",
        "     The input resistance of voltmeter without transistor=9.3k\u03a9.\n"
       ]
      }
     ],
     "prompt_number": 14
    },
    {
     "cell_type": "heading",
     "level": 2,
     "metadata": {},
     "source": [
      "Example 22.8 : Page number 614-615\n"
     ]
    },
    {
     "cell_type": "code",
     "collapsed": false,
     "input": [
      "#Variable declaration\n",
      "VCC=20;                     #Supply voltage, V\n",
      "Rs_Rm=9.3;                  #Sum of multipier resistance and meter resistance, k\u03a9\n",
      "I_m=1;                      #Meter current, mA\n",
      "beta=100;                   #Base current amplification factor\n",
      "E=5;                        #Voltage to be measured, V\n",
      "V_BE=0.7;                   #Base-emitter voltage, V\n",
      "\n",
      "\n",
      "#Calculation\n",
      "I_m=(E-V_BE)/Rs_Rm;          #Meter current, mA\n",
      "\n",
      "#Result\n",
      "print(\"The meter current=%.2fmA\"%I_m);\n"
     ],
     "language": "python",
     "metadata": {},
     "outputs": [
      {
       "output_type": "stream",
       "stream": "stdout",
       "text": [
        "The meter current=0.46mA\n"
       ]
      }
     ],
     "prompt_number": 15
    },
    {
     "cell_type": "heading",
     "level": 2,
     "metadata": {},
     "source": [
      "Example 22.9 : Page number 616\n"
     ]
    },
    {
     "cell_type": "code",
     "collapsed": false,
     "input": [
      "from math import sqrt\n",
      "from math import floor\n",
      "\n",
      "#Variable declaration\n",
      "I_m_fsd=100.0;                  #Full scale deflection of meter current, \u03bcA\n",
      "R_m=1.0;                        #Meter resistance, k\u03a9\n",
      "V_rms=100.0;                    #r.m.s voltage to be measured, V\n",
      "V_F=0.7;                      #Forward voltage drop of rectifier diode, V \n",
      "\n",
      "#Calculation\n",
      "V_m=round(sqrt(2)*V_rms,1);                                                          #Peak value of applied voltage, V\n",
      "V_rectifier_drop=2*V_F;                                                              #Total rectifier drop, V\n",
      "I_peak=round(I_m_fsd/0.637,2);                                                       #Peak f.s.d current, \u03bcA\n",
      "R_s=floor(((((V_m-V_rectifier_drop)/(I_peak*10**-6))-(R_m*1000))/1000)*10)/10;       #Multiplier resistance, k\u03a9 (OHM's LAW)\n",
      "\n",
      "\n",
      "#Result\n",
      "print(\"The multiplier resistance=%.1fk\u03a9.\"%R_s);\n"
     ],
     "language": "python",
     "metadata": {},
     "outputs": [
      {
       "output_type": "stream",
       "stream": "stdout",
       "text": [
        "The multiplier resistance=890.7k\u03a9.\n"
       ]
      }
     ],
     "prompt_number": 16
    },
    {
     "cell_type": "heading",
     "level": 2,
     "metadata": {},
     "source": [
      "Example 22.10 : Page number 616\n"
     ]
    },
    {
     "cell_type": "code",
     "collapsed": false,
     "input": [
      "from math import sqrt\n",
      "\n",
      "#Variable declaration\n",
      "I_av=75;                  #Full scale deflection of meter current, \u03bcA\n",
      "R_s=708;                     #Multiplier resistor, k\u03a9\n",
      "R_m=900;                     #Meter coil resistor, \u03a9\n",
      "\n",
      "#Calculation\n",
      "I_peak=I_av*10**-6/0.637;                   #Peak f.s.d meter current, A\n",
      "R_T=R_s*1000+R_m;                                #Total circuit resistance, \u03a9\n",
      "\n",
      "#I_peak=(Vm-V_drop)/R_T; (OHM's LAW)\n",
      "#And, Vm=sqrt(2)*Vrms\n",
      "V_rms=(I_peak*R_T+(2*0.7))/sqrt(2) ;             #applied r.m.s voltage, V\n",
      "\n",
      "\n",
      "#Result\n",
      "print(\"The applied r.m.s voltage=%dV\"%V_rms);\n"
     ],
     "language": "python",
     "metadata": {},
     "outputs": [
      {
       "output_type": "stream",
       "stream": "stdout",
       "text": [
        "The applied r.m.s voltage=60V\n"
       ]
      }
     ],
     "prompt_number": 17
    },
    {
     "cell_type": "heading",
     "level": 2,
     "metadata": {},
     "source": [
      "Example 22.11 : Page number 618\n"
     ]
    },
    {
     "cell_type": "code",
     "collapsed": false,
     "input": [
      "#Variable declaration\n",
      "deflection_sensitivity=0.01;            #Deflection sensitivity, mm/V\n",
      "V=400;                                  #Applied voltage, V\n",
      "\n",
      "#Calculation\n",
      "spot_shift=V*deflection_sensitivity;         #Spot shift produced, mm\n",
      "\n",
      "\n",
      "#Result\n",
      "print(\"The shift produced in the spot=%dmm.\"%spot_shift);\n"
     ],
     "language": "python",
     "metadata": {},
     "outputs": [
      {
       "output_type": "stream",
       "stream": "stdout",
       "text": [
        "The shift produced in the spot=4mm.\n"
       ]
      }
     ],
     "prompt_number": 18
    },
    {
     "cell_type": "heading",
     "level": 2,
     "metadata": {},
     "source": [
      "Example 22.12 : Page number 618-619\n"
     ]
    },
    {
     "cell_type": "code",
     "collapsed": false,
     "input": [
      "#Variable declaration\n",
      "deflection_sensitivity=0.03;            #Deflection sensitivity, mm/V\n",
      "spot_shift=3;                           #Spot shift produced, mm\n",
      "\n",
      "\n",
      "#Calculation\n",
      "#Since, spot_shift=Applied_Voltage*deflection_sensitivity,\n",
      "V=spot_shift/deflection_sensitivity;    #Applied voltage, V\n",
      "\n",
      "\n",
      "#Result\n",
      "print(\"Applied voltage=%dV.\"%V);\n"
     ],
     "language": "python",
     "metadata": {},
     "outputs": [
      {
       "output_type": "stream",
       "stream": "stdout",
       "text": [
        "Applied voltage=100V.\n"
       ]
      }
     ],
     "prompt_number": 19
    },
    {
     "cell_type": "heading",
     "level": 2,
     "metadata": {},
     "source": [
      "Example 22.13 : Page number  622\n"
     ]
    },
    {
     "cell_type": "code",
     "collapsed": false,
     "input": [
      "#Variable declaration\n",
      "deflection=2;                            #Deflection produced by applied voltage, cm\n",
      "V=200;                                   #Applied voltage, V\n",
      "deflection_by_another_voltage=3;         #Deflection by another voltage, cm\n",
      "\n",
      "#Calculation\n",
      "deflection_sensitivity=V/deflection;                                #deflection sensitivity, V/cm\n",
      "V_unknown=deflection_sensitivity*deflection_by_another_voltage;     #Unknown voltage, V\n",
      "\n",
      "#Result\n",
      "print(\"The unknown voltage=%dV.\"%V_unknown);\n"
     ],
     "language": "python",
     "metadata": {},
     "outputs": [
      {
       "output_type": "stream",
       "stream": "stdout",
       "text": [
        "The unknown voltage=300V.\n"
       ]
      }
     ],
     "prompt_number": 20
    },
    {
     "cell_type": "heading",
     "level": 2,
     "metadata": {},
     "source": [
      "Example 22.14 : Page number 622\n"
     ]
    },
    {
     "cell_type": "code",
     "collapsed": false,
     "input": [
      "#Variable declaration\n",
      "f_H=1000;                   #Frequency applied to horizontal plates, Hz\n",
      "\n",
      "#Calculation\n",
      "#(i)\n",
      "Loops_H=1;                        #Number of loops cut by horizontal line\n",
      "Loops_V=1;                        #Number of loops cut by vertical line\n",
      "f_V=f_H*(Loops_H/Loops_V);        #Unknown frequency, Hz\n",
      "\n",
      "print(\"(i)   Unknown frequency=%dHz.\"%f_V);\n",
      "\n",
      "#(ii)\n",
      "Loops_H=2;                        #Number of loops cut by horizontal line\n",
      "Loops_V=1;                        #Number of loops cut by vertical line\n",
      "f_V=f_H*(Loops_H/Loops_V);        #Unknown frequency, Hz\n",
      "\n",
      "print(\"(ii)  Unknown frequency=%dHz.\"%f_V);\n",
      "\n",
      "#(iii)\n",
      "Loops_H=6;                        #Number of loops cut by horizontal line\n",
      "Loops_V=1;                        #Number of loops cut by vertical line\n",
      "f_V=f_H*(Loops_H/Loops_V);        #Unknown frequency, Hz\n",
      "\n",
      "print(\"(iii) Unknown frequency=%dHz.\"%f_V);\n"
     ],
     "language": "python",
     "metadata": {},
     "outputs": [
      {
       "output_type": "stream",
       "stream": "stdout",
       "text": [
        "(i)   Unknown frequency=1000Hz.\n",
        "(ii)  Unknown frequency=2000Hz.\n",
        "(iii) Unknown frequency=6000Hz.\n"
       ]
      }
     ],
     "prompt_number": 21
    }
   ],
   "metadata": {}
  }
 ]
}