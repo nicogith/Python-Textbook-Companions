{
 "cells": [
  {
   "cell_type": "markdown",
   "metadata": {},
   "source": [
    "## Example 8.1: Page number 147-148"
   ]
  },
  {
   "cell_type": "code",
   "execution_count": 1,
   "metadata": {
    "collapsed": false
   },
   "outputs": [
    {
     "name": "stdout",
     "output_type": "stream",
     "text": [
      "The voltage amplification = 50. \n"
     ]
    }
   ],
   "source": [
    "#Variable declaration\n",
    "Signal=500.0;                    #Signal voltage in V\n",
    "Rin=20.0;                        #Input resistance in Ω \n",
    "Rout=100.0;                      #Output resistance in Ω\n",
    "R_C=1000.0;                      #Collector load in Ω\n",
    "alpha_ac=1.0;                    #current amplification factor\n",
    "\n",
    "#Calculation\n",
    "I_E=(Signal/1000)/Rin;        \t#Input current in mA\n",
    "I_C=I_E*alpha_ac;               #Output current in mA\n",
    "Vout=I_C*R_C;                   #Output voltage in V \n",
    "Av=Vout/(Signal/1000);          #Voltage amplification \n",
    "\n",
    "#Result\n",
    "print(\"The voltage amplification = %d. \"%Av);\n"
   ]
  },
  {
   "cell_type": "markdown",
   "metadata": {},
   "source": [
    "## Example 8.2: Page number 150"
   ]
  },
  {
   "cell_type": "code",
   "execution_count": 2,
   "metadata": {
    "collapsed": false
   },
   "outputs": [
    {
     "name": "stdout",
     "output_type": "stream",
     "text": [
      "The base current = 0.05 mA \n"
     ]
    }
   ],
   "source": [
    "#Variable declaration\n",
    "I_E=1;                            #Emitter curent in mA\n",
    "I_C=0.95;                         #Collector current in mA\n",
    "\n",
    "#Calculation\n",
    "I_B=I_E-I_C;                      #Base current in mA\n",
    "\n",
    "#Result \n",
    "print(\"The base current = %.2f mA \"%I_B);\n"
   ]
  },
  {
   "cell_type": "markdown",
   "metadata": {},
   "source": [
    "# Example 8.3: Page number 150\n"
   ]
  },
  {
   "cell_type": "code",
   "execution_count": 3,
   "metadata": {
    "collapsed": false
   },
   "outputs": [
    {
     "name": "stdout",
     "output_type": "stream",
     "text": [
      "The base current =0.1 mA\n"
     ]
    }
   ],
   "source": [
    "#variable declaration\n",
    "alpha=0.9;                      #Current amplification factor\n",
    "I_E=1;                          #Emitter current in mA\n",
    "\n",
    "#Calculation\n",
    "I_C=alpha*I_E;                  #Collector current in mA\n",
    "I_B=I_E-I_C;                    #Base current in mA\n",
    "\n",
    "#Result\n",
    "print(\"The base current =%.1f mA\"%I_B);\n"
   ]
  },
  {
   "cell_type": "markdown",
   "metadata": {},
   "source": [
    "## Example 8.4: Page number 150"
   ]
  },
  {
   "cell_type": "code",
   "execution_count": 4,
   "metadata": {
    "collapsed": false
   },
   "outputs": [
    {
     "name": "stdout",
     "output_type": "stream",
     "text": [
      "The current amplification factor = 0.95 .\n"
     ]
    }
   ],
   "source": [
    "#Variable declaration\n",
    "I_C=0.95;\t\t\t#Collector current in mA\n",
    "I_B=0.05;\t\t\t#Base current in mA\n",
    "\n",
    "#Calculation\n",
    "I_E=I_B+I_C;                    #Emitter current in mA\n",
    "alpha=I_C/I_E;                  #Current amplification factor \n",
    "\n",
    "#Result\n",
    "print(\"The current amplification factor = %.2f .\"%alpha);\n"
   ]
  },
  {
   "cell_type": "markdown",
   "metadata": {},
   "source": [
    "## Example 8.5: Page number 150"
   ]
  },
  {
   "cell_type": "code",
   "execution_count": 5,
   "metadata": {
    "collapsed": false
   },
   "outputs": [
    {
     "name": "stdout",
     "output_type": "stream",
     "text": [
      "The total collector current = 0.97 mA.\n"
     ]
    }
   ],
   "source": [
    "#Variable declaration\n",
    "I_E=1;                  #Emitter current in mA\n",
    "I_CBO=50.0;               #Collector current with emitter circuit open, in microAmp\n",
    "alpha=0.92;             #Current amplification factor\n",
    "\n",
    "#Calculation\n",
    "I_C=alpha*I_E + (I_CBO/1000);           #Total collector current in mA\n",
    "\n",
    "#Result\n",
    "print(\"The total collector current = %.2f mA.\"%I_C);\n",
    "\n"
   ]
  },
  {
   "cell_type": "markdown",
   "metadata": {},
   "source": [
    "## Example 8.6: Page number 150-151"
   ]
  },
  {
   "cell_type": "code",
   "execution_count": 6,
   "metadata": {
    "collapsed": false
   },
   "outputs": [
    {
     "name": "stdout",
     "output_type": "stream",
     "text": [
      "The base current = 0.05 mA\n"
     ]
    }
   ],
   "source": [
    "#Variable declaration\n",
    "alpha=0.95;               #Current amplification factor\n",
    "Rc=2.0;                   #Resistor connected to the collector, in kilo ohm\n",
    "V_Rc=2.0;                 #Voltage drop across the resistor connected to the collector in V\n",
    "\n",
    "\n",
    "#Calculation\n",
    "I_C=V_Rc/Rc;              #Collector current in mA\n",
    "I_E=I_C/alpha;            #Emitter current in mA\n",
    "I_B=I_E-I_C;              #Base current in mA\n",
    "\n",
    "#Result\n",
    "print(\"The base current = %.2f mA\"%I_B); \n"
   ]
  },
  {
   "cell_type": "markdown",
   "metadata": {},
   "source": [
    "## Example 8.7: Page number 151"
   ]
  },
  {
   "cell_type": "code",
   "execution_count": 7,
   "metadata": {
    "collapsed": false
   },
   "outputs": [
    {
     "name": "stdout",
     "output_type": "stream",
     "text": [
      "The collector current =4.87 mA\n",
      "The collector to base voltage = 12.16 V\n"
     ]
    }
   ],
   "source": [
    "#Variable declaration\n",
    "V_EE=8.0;                 #Supply voltage at the emitter in V\n",
    "V_CC=18.0;                #Supply voltage at the collector in V\n",
    "V_BE=0.7;                 #Base to emitter voltage in V\n",
    "R_E=1.5;                  #Emitter resistance in Ω\n",
    "R_C=1.2;                  #Collector resistance in Ω\n",
    "\n",
    "#Calculations\n",
    "I_E=(V_EE-V_BE)/R_E;              #Emitter current in mA\n",
    "I_C=I_E;                          #Collector current in mA (approximately equal to emitter current)\n",
    "V_CB=V_CC-(I_C*R_C);              #Collector to base voltage in V\n",
    "\n",
    "#Result\n",
    "print(\"The collector current =%.2f mA\"%I_C);\n",
    "print(\"The collector to base voltage = %.2f V\"%V_CB);\n"
   ]
  },
  {
   "cell_type": "markdown",
   "metadata": {},
   "source": [
    "## Example 8.8:Page number 155"
   ]
  },
  {
   "cell_type": "code",
   "execution_count": 8,
   "metadata": {
    "collapsed": false
   },
   "outputs": [
    {
     "name": "stdout",
     "output_type": "stream",
     "text": [
      "(i) Value of beta =9\n",
      "(ii) Value of beta =49\n",
      "(iii) Value of beta =99\n"
     ]
    }
   ],
   "source": [
    "#Function for calculating beta from alpha\n",
    "def calc_beta(a):                   #a is the value of alpha\n",
    "\treturn(a/(1-a));\n",
    "\n",
    "#Case (i)\n",
    "alpha=0.9;                      #current amplification factor\n",
    "beta=calc_beta(alpha);\t\t#Base current amplification factor    \n",
    "print(\"(i) Value of beta =%d\"%beta );\t\t\t\t\t\t\t\t\t\n",
    "\n",
    "#Case (ii)\n",
    "alpha=0.98;                     #current amplification factor\n",
    "beta=calc_beta(alpha);          #Base current amplification factor\n",
    "print(\"(ii) Value of beta =%.0f\"%beta );\n",
    "\n",
    "\n",
    "#Case (iii)\n",
    "alpha=0.99;                     #current amplification factor\n",
    "beta=calc_beta(alpha);          #Base current amplification factor                      \n",
    "print(\"(iii) Value of beta =%.0f\"%beta );\n"
   ]
  },
  {
   "cell_type": "markdown",
   "metadata": {},
   "source": [
    "## Example 8.9: Page number 155"
   ]
  },
  {
   "cell_type": "code",
   "execution_count": 9,
   "metadata": {
    "collapsed": false
   },
   "outputs": [
    {
     "name": "stdout",
     "output_type": "stream",
     "text": [
      "The emitter curent = 1.02 mA\n"
     ]
    }
   ],
   "source": [
    "#Variable declaration\n",
    "beta=50.0;                   #Base current amplification factor\n",
    "I_B=20.0;                    #Base current in microAmp\n",
    "\n",
    "#Calculation\n",
    "I_B=I_B/1000;               #Base current in mA\n",
    "I_C=beta*I_B;               #Collector current in mA\n",
    "I_E=I_B+I_C;                #Emitter current in mA\n",
    "\n",
    "#Result\n",
    "print(\"The emitter curent = %.2f mA\"%I_E);\n"
   ]
  },
  {
   "cell_type": "markdown",
   "metadata": {},
   "source": [
    "## Example 8.10: Page number 155"
   ]
  },
  {
   "cell_type": "code",
   "execution_count": 10,
   "metadata": {
    "collapsed": false
   },
   "outputs": [
    {
     "name": "stdout",
     "output_type": "stream",
     "text": [
      "alpha=0.98.\n",
      "Collector current determined using alpha =11.76 mA\n",
      "Collector current determined using beta =11.76 mA\n"
     ]
    }
   ],
   "source": [
    "#Variable declaration\n",
    "I_B=240.0;                    #Base current in microAmp\n",
    "I_E=12;                       #Emitter current in mA\n",
    "beta=49.0;                      #Base current amplification factor\n",
    "\n",
    "#Calculations\n",
    "alpha=beta/(1+beta);              #current amplification factor \n",
    "I_C_alpha=alpha*I_E;              #Collector current in mA calculated using alpha\n",
    "I_C_beta=beta*(I_B/1000);         #Collector current in mA calculated using beta\n",
    "\n",
    "#Results\n",
    "print(\"alpha=%.2f.\"%alpha);\n",
    "print(\"Collector current determined using alpha =%.2f mA\"%I_C_alpha);\n",
    "print(\"Collector current determined using beta =%.2f mA\"%I_C_beta);\n"
   ]
  },
  {
   "cell_type": "markdown",
   "metadata": {},
   "source": [
    "## Example 8.11: Page number 156"
   ]
  },
  {
   "cell_type": "code",
   "execution_count": 11,
   "metadata": {
    "collapsed": false
   },
   "outputs": [
    {
     "name": "stdout",
     "output_type": "stream",
     "text": [
      "The base current =0.022 mA\n"
     ]
    }
   ],
   "source": [
    "#Variable declaration\n",
    "beta=45.0;                       #Base current amplification factor\n",
    "R_C=1.0;                         #Resistance of the collector resistance in kΩ\n",
    "V_R_C=1.0;                       #Voltage drop across the collector resistance in V\n",
    "\n",
    "#Calculation\n",
    "I_C=V_R_C/R_C;                   #Collector current in mA\n",
    "I_B=I_C/beta;                           #Base current in mA\n",
    "\n",
    "#Result\n",
    "print(\"The base current =%.3f mA\"%I_B);\n"
   ]
  },
  {
   "cell_type": "markdown",
   "metadata": {},
   "source": [
    "## Example 8.12: Page number 156"
   ]
  },
  {
   "cell_type": "code",
   "execution_count": 12,
   "metadata": {
    "collapsed": false
   },
   "outputs": [
    {
     "name": "stdout",
     "output_type": "stream",
     "text": [
      "Collector to emitter voltage = 7.5 V\n",
      "Base current= 0.026 mA\n"
     ]
    }
   ],
   "source": [
    "#Variable declaration\n",
    "V_CC=8.0;                  #Collector supply voltage in V\n",
    "R_C=800.0;                  #Resistance of the collector resistance in Ω\n",
    "V_R_C=0.5;                 #Voltage drop across collector resistance in V\n",
    "alpha=0.96;                #current amplification factor\n",
    "\n",
    "#Calculation\n",
    "V_CE=V_CC-V_R_C;           #Collector to emitter voltage in V\n",
    "I_C=V_R_C/R_C;             #Collector current in A\n",
    "I_C=I_C*1000;              #Collector current in mA\n",
    "beta=alpha/(1-alpha);      #Base current amplification factor\n",
    "I_B=I_C/beta;              #Base current in mA\n",
    "\n",
    "#Result\n",
    "print(\"Collector to emitter voltage = %.1f V\"%V_CE);\n",
    "print(\"Base current= %.3f mA\"%I_B);\n"
   ]
  },
  {
   "cell_type": "markdown",
   "metadata": {},
   "source": [
    "## Example 8.13: Page number 156-157"
   ]
  },
  {
   "cell_type": "code",
   "execution_count": 13,
   "metadata": {
    "collapsed": false
   },
   "outputs": [
    {
     "name": "stdout",
     "output_type": "stream",
     "text": [
      "Current amplification factor = 0.99 \n",
      "The emitter curent =1010  μA \n",
      "The base curent =10  μA \n"
     ]
    }
   ],
   "source": [
    "#Variable declaration\n",
    "V_CC=5;                  \t#Collector supply voltage in V\n",
    "I_CBO=0.2;               \t#Leakage current at collector base junction with emitter open, in  μA\n",
    "I_CEO=20.0;              \t#Leakage current with base open, in  μA\n",
    "I_C=1.0;                        #Collector current in mA\n",
    "I_C=I_C*1000;                  \t#Collector current in  μA\n",
    "\n",
    "\n",
    "#Calculation\n",
    "alpha=1-(I_CBO/I_CEO);\t\t#current amplification factor\n",
    "I_E=(I_C-I_CBO)/alpha;          #Emitter current in  μA\n",
    "I_E=round(I_E,-1);\n",
    "I_B=I_E-I_C;                    #Base current in  μA\n",
    "I_B=round(I_B,-1);\n",
    "\n",
    "#Result\n",
    "print(\"Current amplification factor = %.2f \"%alpha);\n",
    "print(\"The emitter curent =%d  μA \"%I_E);\n",
    "print(\"The base curent =%d  μA \"%I_B);\n",
    "\n"
   ]
  },
  {
   "cell_type": "markdown",
   "metadata": {},
   "source": [
    "## Example 8.14: Page number 157"
   ]
  },
  {
   "cell_type": "code",
   "execution_count": 14,
   "metadata": {
    "collapsed": false
   },
   "outputs": [
    {
     "name": "stdout",
     "output_type": "stream",
     "text": [
      "Vale of I_CBO= 2.4 μA\n"
     ]
    }
   ],
   "source": [
    "#Variable declaration\n",
    "I_CEO=300.0;              #Leakage current in common emitter configuration, in  μA\n",
    "beta=120.0;               #Base current amplification factor\n",
    "\n",
    "#Calculation\n",
    "alpha=beta/(1+beta);               #Current amplification factor\n",
    "alpha=round(alpha,3);\n",
    "I_CBO=(1-alpha)*I_CEO;             #Leakage current in common base configuration, in  μA\n",
    "\n",
    "\n",
    "#Result\n",
    "print(\"Vale of I_CBO= %.1f μA\"%I_CBO);\n"
   ]
  },
  {
   "cell_type": "markdown",
   "metadata": {},
   "source": [
    "## Example 8.15: Page number 157"
   ]
  },
  {
   "cell_type": "code",
   "execution_count": 15,
   "metadata": {
    "collapsed": false
   },
   "outputs": [
    {
     "name": "stdout",
     "output_type": "stream",
     "text": [
      "Value of I_CBO=0.0048 mA\n"
     ]
    }
   ],
   "source": [
    "#Variable declaration\n",
    "I_B=20.0;                       #Base current in μA\n",
    "I_C=2.0;                        #Collector current in mA\n",
    "beta=80.0;                      #Base current amplification factor\n",
    "\n",
    "#Calculation\n",
    "I_CEO=I_C-(beta*I_B/1000);            #Leakage current with base open, in mA \n",
    "alpha=beta/(beta+1);                  #Current amplification factor\n",
    "alpha=round(alpha,3);\n",
    "I_CBO=(1-alpha)*I_CEO;                #Leakage current with emitter open, in mA\n",
    "\n",
    "\n",
    "#Result\n",
    "print(\"Value of I_CBO=%.4f mA\"%I_CBO);\n"
   ]
  },
  {
   "cell_type": "markdown",
   "metadata": {},
   "source": [
    "## Example 8.17: Page number 158"
   ]
  },
  {
   "cell_type": "code",
   "execution_count": 16,
   "metadata": {
    "collapsed": false
   },
   "outputs": [
    {
     "name": "stdout",
     "output_type": "stream",
     "text": [
      "Collector to base voltage, V_CB= 2.85 V\n"
     ]
    }
   ],
   "source": [
    "#Variable declaration\n",
    "beta=150.0;               \t#Base current amplification factor\n",
    "R_B=10.0;                   \t#Base resistance in kilo ohm\n",
    "R_C=100.0;                   \t#Collector resistance in kilo ohm\n",
    "V_CC=10.0;                      #Collector supply voltage in V\n",
    "V_BB=5.0;                       #Base supply voltage in V\n",
    "V_BE=0.7;                       #Base to emitter voltage in V\n",
    "\n",
    "\n",
    "#Calculation\n",
    "I_B=(V_BB-V_BE)/R_B;              #Base current in mA\n",
    "I_C=beta*I_B;                     #Collector current in mA\n",
    "V_CE=V_CC - (I_C/1000)*R_C;       #Collector to emitter voltage in V\n",
    "V_CB=V_CE-V_BE;                   #Collector to base voltage in V\n",
    "\n",
    "\n",
    "#Result \n",
    "print(\"Collector to base voltage, V_CB= %.2f V\"%V_CB);\n"
   ]
  },
  {
   "cell_type": "markdown",
   "metadata": {},
   "source": [
    "## Example 8.18: Page number158-159"
   ]
  },
  {
   "cell_type": "code",
   "execution_count": 17,
   "metadata": {
    "collapsed": false
   },
   "outputs": [
    {
     "name": "stdout",
     "output_type": "stream",
     "text": [
      "Collector current determined using alpha rating =29.93 mA\n",
      "Collector current determined using beta rating =29.92 mA\n"
     ]
    }
   ],
   "source": [
    "#Variable declaration\n",
    "I_B=68.0;              #Base current in μA\n",
    "I_E=30.0;              #Emitter current in mA\n",
    "beta=440.0;\t     #Base current amplification factor\n",
    "\n",
    "#Calculation\n",
    "alpha=beta/(beta + 1);          #current amplification factor\n",
    "I_C_alpha=alpha*I_E;\t\t#Collector current using alpha rating, in mA\n",
    "I_C_beta=beta*(I_B/1000.0);       #Collector current using beta rating, in mA\n",
    "\n",
    "#Result\n",
    "print(\"Collector current determined using alpha rating =%.2f mA\"%I_C_alpha);\n",
    "print(\"Collector current determined using beta rating =%.2f mA\"%I_C_beta);\n",
    "\n",
    "#Note: In the textbook, the collector current obtained from beta rating is approximated to 29.93 mA\n"
   ]
  },
  {
   "cell_type": "markdown",
   "metadata": {},
   "source": [
    "## Example 8.19: Page number 159"
   ]
  },
  {
   "cell_type": "code",
   "execution_count": 18,
   "metadata": {
    "collapsed": false
   },
   "outputs": [
    {
     "name": "stdout",
     "output_type": "stream",
     "text": [
      "The maximum allowable value of base current = 1.67 mA\n"
     ]
    }
   ],
   "source": [
    "#Variable declaration\n",
    "I_C_max=500.0;                   #Maximum collector current in mA\n",
    "beta_max=300.0;                  #Maximum base current amplification factor\n",
    "\n",
    "#Calculation\n",
    "I_B_max=I_C_max/beta_max;           #Maximum base current in mA\n",
    "\n",
    "\n",
    "#Result\n",
    "print(\"The maximum allowable value of base current = %.2f mA\"%I_B_max);\n",
    "\n"
   ]
  },
  {
   "cell_type": "markdown",
   "metadata": {},
   "source": [
    "## Example 8.22 : Page number 167-168"
   ]
  },
  {
   "cell_type": "code",
   "execution_count": 23,
   "metadata": {
    "collapsed": false
   },
   "outputs": [
    {
     "data": {
      "image/png": "[encoded data removed]",
      "text/plain": [
       "<matplotlib.figure.Figure at 0x7f9cdbfbafd0>"
      ]
     },
     "metadata": {},
     "output_type": "display_data"
    }
   ],
   "source": [
    "%matplotlib inline\n",
    "import matplotlib.pyplot as plt\n",
    "\n",
    "#Variable declaration\n",
    "VCC=12.5;                #Collector supply voltage, V\n",
    "RC=2.5;                  #Collector resistor, kΩ\n",
    "\n",
    "#Calculation\n",
    "#VCE=VCC-IC*RC\n",
    "#For calculating VCE, IC=0\n",
    "IC=0;                           #Collector current for maximum Collector-emitter voltage, mA\n",
    "VCE_max=VCC-IC*RC;               #Maximum collector-emitter voltage, V\n",
    "\n",
    "#For calculating VCE, IC=0\n",
    "VCE=0;                         #Collector emitter voltage for maximum collector current, V\n",
    "IC_max=(VCC-VCE)/RC;           #Maximum collector current, mA\n",
    "\n",
    "\n",
    "#Plotting of d.c load line\n",
    "VCE_plot=[0,VCE_max];                 #Plotting variable for VCE\n",
    "IC_plot=[IC_max,0];                   #Plotting variable for IC\n",
    "p=plt.plot(VCE_plot,IC_plot);\n",
    "limit = plt.gca()\n",
    "limit.set_xlim([0,15])\n",
    "limit.set_ylim([0,6])\n",
    "plt.xlabel('VCE(V)');\n",
    "plt.ylabel('IC(mA)');\n",
    "plt.title('d.c load line');\n",
    "plt.grid();\n",
    "plt.show(p);"
   ]
  },
  {
   "cell_type": "markdown",
   "metadata": {},
   "source": [
    "## Example 8.23 : Page number 168"
   ]
  },
  {
   "cell_type": "code",
   "execution_count": 24,
   "metadata": {
    "collapsed": false
   },
   "outputs": [
    {
     "data": {
      "image/png": "[encoded data removed]",
      "text/plain": [
       "<matplotlib.figure.Figure at 0x7f9cec03e9b0>"
      ]
     },
     "metadata": {},
     "output_type": "display_data"
    },
    {
     "name": "stdout",
     "output_type": "stream",
     "text": [
      "Operating point: IC=1mA and VCE=6V.\n"
     ]
    }
   ],
   "source": [
    "%matplotlib inline\n",
    "import matplotlib.pyplot as plt\n",
    "\n",
    "#Variable declaration\n",
    "VCC=12.0;                #Collector supply voltage, V\n",
    "RC=6.0;                  #Collector resistor, kΩ\n",
    "IB=20.0;                     #Zero signal base current,  μA\n",
    "beta=50.0;                  #Base current amplification factor\n",
    "\n",
    "#Calculation\n",
    "#VCE=VCC-IC*RC\n",
    "#For calculating VCE, IC=0\n",
    "IC=0;                           #Collector current for maximum Collector-emitter voltage, mA\n",
    "VCE_max=VCC-IC*RC;               #Maximum collector-emitter voltage, V\n",
    "\n",
    "#For calculating VCE, IC=0\n",
    "VCE=0;                         #Collector emitter voltage for maximum collector current, V\n",
    "IC_max=(VCC-VCE)/RC;           #Maximum collector current, mA\n",
    "\n",
    "\n",
    "#Plotting of d.c load line\n",
    "VCE_plot=[0,VCE_max];                 #Plotting variable for VCE\n",
    "IC_plot=[IC_max,0];                   #Plotting variable for IC\n",
    "p=plt.plot(VCE_plot,IC_plot);\n",
    "limit = plt.gca()\n",
    "limit.set_xlim([0,15])\n",
    "limit.set_ylim([0,5])\n",
    "plt.xlabel('VCE(V)');\n",
    "plt.ylabel('IC(mA)');\n",
    "plt.title('d.c load line');\n",
    "plt.grid();\n",
    "plt.show(p);\n",
    "\n",
    "#Calculating Q-point\n",
    "IC=beta*(IB/1000);                                  #Collector current, mA\n",
    "VCE=VCC-IC*RC;                               #Collector emitter voltage, V\n",
    "\n",
    "#Result\n",
    "print(\"Operating point: IC=%dmA and VCE=%dV.\"%(IC,VCE));\n"
   ]
  },
  {
   "cell_type": "markdown",
   "metadata": {},
   "source": [
    "## Example 8.24 : Page number 168"
   ]
  },
  {
   "cell_type": "code",
   "execution_count": 25,
   "metadata": {
    "collapsed": false
   },
   "outputs": [
    {
     "name": "stdout",
     "output_type": "stream",
     "text": [
      "(i) Operating point: VCE=6V and IC=1mA.\n",
      "(ii) Operating point: VCE=5V and IC=1mA.\n"
     ]
    }
   ],
   "source": [
    "#Variable declaration\n",
    "RC=4.0;               #Collector load, kΩ\n",
    "IC_Q=1.0;             #Quiescent current, mA\n",
    "\n",
    "#Calculation\n",
    "#(i)\n",
    "VCC=10;                  #Collector supply voltage, V\n",
    "VCE=VCC-IC*RC;            #Collector emitter voltage, V\n",
    "\n",
    "print(\"(i) Operating point: VCE=%dV and IC=%dmA.\"%(VCE,IC) );\n",
    "\n",
    "#(ii)\n",
    "RC=5.0;               #Collector load, kΩ\n",
    "VCE=VCC-IC*RC;            #Collector emitter voltage, V\n",
    "print(\"(ii) Operating point: VCE=%dV and IC=%dmA.\"%(VCE,IC) );\n"
   ]
  },
  {
   "cell_type": "markdown",
   "metadata": {},
   "source": [
    "# Example 8.25 : Page number 168-169"
   ]
  },
  {
   "cell_type": "code",
   "execution_count": 27,
   "metadata": {
    "collapsed": false
   },
   "outputs": [
    {
     "name": "stdout",
     "output_type": "stream",
     "text": [
      "Operating point: IC=39.6mA and VCE=6.93V.\n"
     ]
    },
    {
     "data": {
      "image/png": "[encoded data removed]",
      "text/plain": [
       "<matplotlib.figure.Figure at 0x7f9cec03e978>"
      ]
     },
     "metadata": {},
     "output_type": "display_data"
    }
   ],
   "source": [
    "%matplotlib inline\n",
    "from matplotlib import pyplot as plt\n",
    "\n",
    "#Variable declaration\n",
    "VCC=20.0;                #Collector supply voltage, V\n",
    "VBB=10.0;                  #Base supply voltage, V\n",
    "RC=330.0;                  #Collector resistor, Ω\n",
    "RB=47.0;                #Base resistoe, kΩ\n",
    "beta=200.0;                 #Base current amplification factor\n",
    "VBE=0.7;                      #Base -emitter voltage, V\n",
    "\n",
    "#Calculation\n",
    "#VBB-IB*RB-VBE=0\n",
    "IB=round(((VBB-VBE)/RB)*1000,0);                     #Base current,  μA\n",
    "IC=beta*IB/1000;                    #Collector current, mA\n",
    "VCE=VCC-IC*(RC/1000);                       #Collector-emitter voltage, V\n",
    "\n",
    "print(\"Operating point: IC=%.1fmA and VCE=%.2fV.\"%(IC,VCE));\n",
    "\n",
    "#For d.c load line\n",
    "#VCE=VCC-IC*RC\n",
    "#For calculating VCE, IC=0\n",
    "IC=0;                           #Collector current for maximum Collector-emitter voltage, mA\n",
    "VCE_max=VCC-IC*RC;               #Maximum collector-emitter voltage, V\n",
    "\n",
    "#For calculating VCE, IC=0\n",
    "VCE=0;                         #Collector emitter voltage for maximum collector current, V\n",
    "IC_max=(VCC-VCE)/(RC/1000.0);           #Maximum collector current, mA\n",
    "\n",
    "\n",
    "#Plotting of d.c load line\n",
    "VCE_plot=[0,VCE_max];                 #Plotting variable for VCE\n",
    "IC_plot=[IC_max,0];                   #Plotting variable for IC\n",
    "p=plt.plot(VCE_plot,IC_plot);\n",
    "limit = plt.gca()\n",
    "limit.set_xlim([0,25])\n",
    "limit.set_ylim([0,65])\n",
    "plt.xlabel('VCE(V)');\n",
    "plt.ylabel('IC(mA)');\n",
    "plt.title('d.c load line');\n",
    "plt.grid();\n",
    "plt.show(p);\n",
    "\n",
    "\n"
   ]
  },
  {
   "cell_type": "markdown",
   "metadata": {},
   "source": [
    "## Example 8.26 : Page number 169-170"
   ]
  },
  {
   "cell_type": "code",
   "execution_count": 29,
   "metadata": {
    "collapsed": false
   },
   "outputs": [
    {
     "name": "stdout",
     "output_type": "stream",
     "text": [
      "Operating point: IC=1.8mA and VCE=9.74V.\n"
     ]
    },
    {
     "data": {
      "image/png": "[encoded data removed]",
      "text/plain": [
       "<matplotlib.figure.Figure at 0x7f9cdbd4bdd8>"
      ]
     },
     "metadata": {},
     "output_type": "display_data"
    }
   ],
   "source": [
    "%matplotlib inline\n",
    "from matplotlib import pyplot as plt\n",
    "\n",
    "#Variable declaration\n",
    "VCC=10.0;                #Collector supply voltage, V\n",
    "VEE=10.0;                  #Emitter supply voltage, V\n",
    "RC=1.0;                  #Collector resistor, kΩ\n",
    "RE=4.7;                  #Collector resistor, kΩ\n",
    "RB=47.0;                #Base resistoe, kΩ\n",
    "beta=100.0;                 #Base current amplification factor\n",
    "VBE=0.7;                      #Base -emitter voltage, V\n",
    "\n",
    "#Calculation\n",
    "#-IB*RB-VBE-IE*RE+VEE=0\n",
    "#AS, IC=beta*IB and IC~IE\n",
    "IE=round((VEE-VBE)/(RE+(RB/beta)),1);      #Emitter current,  mA\n",
    "IC=IE;                                     #Collector current, mA\n",
    "\n",
    "#VCC-IC*RC-VCE-IE*RE+VEE=0\n",
    "#IC~IE\n",
    "VCE=VCC+VEE-IC*(RC+RE);                       #Collector-emitter voltage, V\n",
    "\n",
    "print(\"Operating point: IC=%.1fmA and VCE=%.2fV.\"%(IC,VCE));\n",
    "\n",
    "\n",
    "#For d.c load line\n",
    "#VCE=VCC-IC*RC\n",
    "#For calculating VCE, IC=0\n",
    "IC=0;                           #Collector current for maximum Collector-emitter voltage, mA\n",
    "VCE_max=VCC+VEE-IC*(RC+RE);               #Maximum collector-emitter voltage, V\n",
    "\n",
    "#For calculating VCE, IC=0\n",
    "VCE=0;                         #Collector emitter voltage for maximum collector current, V\n",
    "IC_max=(VCC+VEE-VCE)/(RC+RE);           #Maximum collector current, mA\n",
    "\n",
    "\n",
    "#Plotting of d.c load line\n",
    "VCE_plot=[0,VCE_max];                 #Plotting variable for VCE\n",
    "IC_plot=[IC_max,0];                   #Plotting variable for IC\n",
    "p=plt.plot(VCE_plot,IC_plot);\n",
    "limit = plt.gca()\n",
    "limit.set_xlim([0,25])\n",
    "limit.set_ylim([0,5])\n",
    "plt.xlabel('VCE(V)');\n",
    "plt.ylabel('IC(mA)');\n",
    "plt.title('d.c load line');\n",
    "plt.grid();\n",
    "plt.show(p);\n",
    "\n",
    "\n"
   ]
  },
  {
   "cell_type": "markdown",
   "metadata": {},
   "source": [
    "## Example 8.27 : Page number 170-171"
   ]
  },
  {
   "cell_type": "code",
   "execution_count": 30,
   "metadata": {
    "collapsed": false
   },
   "outputs": [
    {
     "name": "stdout",
     "output_type": "stream",
     "text": [
      "(i) Emitter voltage=-1.54V.\n",
      "(i) Base voltage=10.7V.\n",
      "(i) Collector voltage=8.2V.\n"
     ]
    }
   ],
   "source": [
    "#Variable declaration\n",
    "VEE=10.0;                    #Emitter supply voltage, V\n",
    "IE=1.8;                      #Emitter current, mA\n",
    "RE=4.7;                      #Emitter resistor, kΩ\n",
    "VBE=0.7;                     #Base-emitter voltage, V\n",
    "VCC=10.0;                     #Collector supply voltage, V\n",
    "IC=1.8;                       #Collector current, mA\n",
    "RC=1.0;                       #Collector resistor, kΩ\n",
    "\n",
    "\n",
    "#Calculation\n",
    "#(i)\n",
    "VE=-VEE+IE*RE;               #Emitter voltage, V\n",
    "\n",
    "#(ii)\n",
    "VB=VEE+VBE;                   #Base voltage, V\n",
    "\n",
    "#(iii)\n",
    "VC=VCC-IC*RC;                 #Collector voltage, V\n",
    "\n",
    "\n",
    "#Result\n",
    "print(\"(i) Emitter voltage=%.2fV.\"%VE);\n",
    "print(\"(i) Base voltage=%.1fV.\"%VB);\n",
    "print(\"(i) Collector voltage=%.1fV.\"%VC);\n",
    "\n",
    "#Note: In the textbook, VB=VE+VBE has been written, which is worng. It should be VB=VEE+VBE. "
   ]
  },
  {
   "cell_type": "markdown",
   "metadata": {},
   "source": [
    "##  Example 8.28: Page number 173-174"
   ]
  },
  {
   "cell_type": "code",
   "execution_count": 31,
   "metadata": {
    "collapsed": false
   },
   "outputs": [
    {
     "name": "stdout",
     "output_type": "stream",
     "text": [
      "Input resistance =2 kΩ\n"
     ]
    }
   ],
   "source": [
    "#Variable declaration\n",
    "V_BE_change=200.0;                #Change in base-emitter voltage in mV\n",
    "I_B_change=100.0;                  #Change in base current in  μA\n",
    "\n",
    "#Calculations\n",
    "Ri=V_BE_change/I_B_change;              #Input resistance in kΩ\n",
    "\n",
    "#Result\n",
    "print(\"Input resistance =%d kΩ\"%Ri);\n"
   ]
  },
  {
   "cell_type": "markdown",
   "metadata": {},
   "source": [
    "## Example 8.29; Page number 174"
   ]
  },
  {
   "cell_type": "code",
   "execution_count": 32,
   "metadata": {
    "collapsed": false
   },
   "outputs": [
    {
     "name": "stdout",
     "output_type": "stream",
     "text": [
      "The output resistance =8kΩ\n"
     ]
    }
   ],
   "source": [
    "#Variable declaration\n",
    "V_CE_final=10.0;\t\t\t#Final value of collector-emitter voltage in V\n",
    "V_CE_initial=2.0;                 #Initial value of collector-emitter voltage in V\n",
    "I_C_final=3.0;                    #Final value of collector current in mA\n",
    "I_C_initial=2.0;                  #Initial value of collector current in mA\n",
    "\n",
    "#Calculations\n",
    "V_CE_change=V_CE_final-V_CE_initial;\t\t#Change in collector to emitter voltage in V\n",
    "I_C_change=I_C_final-I_C_initial;               #Change in collector current in mA\n",
    "R0=V_CE_change/I_C_change;                      #Output resistance in kΩ\n",
    "\n",
    "#Result\n",
    "print(\"The output resistance =%dkΩ\"%R0);\n"
   ]
  },
  {
   "cell_type": "markdown",
   "metadata": {},
   "source": [
    "## Example 8.30: Page number 174"
   ]
  },
  {
   "cell_type": "code",
   "execution_count": 33,
   "metadata": {
    "collapsed": false
   },
   "outputs": [
    {
     "name": "stdout",
     "output_type": "stream",
     "text": [
      "The voltage gain of the amplifier =100 \n"
     ]
    }
   ],
   "source": [
    "#Variable declaration\n",
    "R_C=2.0;\t\t#Collector load in kilo ohm\n",
    "R_i=1.0;\t\t#Input resistance in kilo ohm\n",
    "R_AC=R_C;               #Effective collector load for single stage in kilo ohm(appoximately equal to collector load for single stage)\n",
    "beta=50.0;              #Current gain\n",
    "\n",
    "#Calculations\n",
    "A_v=beta*(R_AC/R_i);\t\t#Voltage gain of the amplifier\n",
    "\n",
    "#Result \n",
    "print(\"The voltage gain of the amplifier =%d \"%A_v);\t\t\n"
   ]
  },
  {
   "cell_type": "markdown",
   "metadata": {},
   "source": [
    "## Example 8.31: Page number 175-176"
   ]
  },
  {
   "cell_type": "code",
   "execution_count": 34,
   "metadata": {
    "collapsed": false
   },
   "outputs": [
    {
     "name": "stdout",
     "output_type": "stream",
     "text": [
      "Collector current during saturation = 20 mA\n",
      "Collector emitter voltage during cutoff = 20 V.\n"
     ]
    }
   ],
   "source": [
    "#Variable declaration\n",
    "V_CC=20;\t\t#Collector supply voltage in V\n",
    "R_C=1;                  #Collector resistance in kilo ohm\n",
    "V_knee_Si=1;\t\t#Knee voltage of V_CE for Si in V \n",
    "V_knee_Ge=0.5;\t\t#Knee voltage of V_CE for Ge in V\n",
    "\n",
    "#Calculations\n",
    "I_C_sat_Si=(V_CC-V_knee_Si)/R_C;\t\t#Saturation (maximum) value of collector current in mA (for Si transistor)\n",
    "I_C_sat_Ge=(V_CC-V_knee_Ge)/R_C;\t\t#Saturation (maximum) value of collector current in mA (for Ge transistor)\n",
    "I_C_sat=(V_CC)/R_C;\t\t\t\t#Saturation (maximum) value of collector current in mA (neglecting knee voltage)\n",
    "V_CE_cut_off=V_CC;                              #Collector to emitter voltage in cutoff when base current=0, in V\n",
    "\n",
    "#Result\n",
    "print(\"Collector current during saturation = %d mA\"%I_C_sat);\n",
    "print(\"Collector emitter voltage during cutoff = %d V.\"%V_CE_cut_off);\n"
   ]
  },
  {
   "cell_type": "markdown",
   "metadata": {},
   "source": [
    "## Example 8.32: Page number 176-177"
   ]
  },
  {
   "cell_type": "code",
   "execution_count": 35,
   "metadata": {
    "collapsed": false
   },
   "outputs": [
    {
     "name": "stdout",
     "output_type": "stream",
     "text": [
      "Vce(off)= 24V\n",
      "Ic(sat) = 10.67 mA\n"
     ]
    }
   ],
   "source": [
    "#Variable declaration\n",
    "V_CC=12.0;\t\t#Collector supply voltage in V\n",
    "V_EE=12.0;\t\t#Emitter supply voltage in V\n",
    "R_C=750.0;\t\t#Collector resistance in ohm\n",
    "R_E=1.5;\t\t#Emitter resistance in kilo ohm\n",
    "R_B=100.0;\t\t#Base resistance in ohm\n",
    "beta=200;\t\t#base current amplification factor\n",
    "\n",
    "#Calculations\n",
    "\n",
    "#Applying Kirchhoff's voltage law to the collector side of the circuit\n",
    "#using the equation: Vcc -IcRc-Vce -IeRe+Vee=0\n",
    "#we get Vce=Vcc+Vee-Ic(Rc+Re), [Ie=Ic, approximately]\n",
    "#We get Vce(off), when Ic=0;\n",
    "\n",
    "I_C_Vce_off=0;\t\t\t\t\t#Collector current for Vce(off) in mA\n",
    "V_CE_off=V_CC+V_EE -(I_C_Vce_off * (R_C +R_E));\t#Collector to emitter voltage in V, during transistor in off state\n",
    "\n",
    "#We get Ic(sat), when Vce=0\n",
    "V_CE_Ic_sat=0;\t\t\t\t\t\t#Collector to emitter voltage for saturation current of collector in V\n",
    "I_C_sat=(V_CC+V_EE-V_CE_Ic_sat)/(R_C+(R_E*1000));\t#Saturated collector current in A \n",
    "I_C_sat=I_C_sat*1000;\t\t\t\t\t#Saturated collector current in mA\n",
    "#Result\n",
    "print(\"Vce(off)= %dV\"%V_CE_off);\n",
    "print(\"Ic(sat) = %.2f mA\"%I_C_sat);\n",
    "\n"
   ]
  },
  {
   "cell_type": "markdown",
   "metadata": {},
   "source": [
    "## Example 8.33 : Page number 177"
   ]
  },
  {
   "cell_type": "code",
   "execution_count": 36,
   "metadata": {
    "collapsed": false
   },
   "outputs": [
    {
     "name": "stdout",
     "output_type": "stream",
     "text": [
      "The base current is large enough to produce Ic greater than Ic(sat), therefore the transistor is saturated.\n"
     ]
    }
   ],
   "source": [
    "#Variable declaration\n",
    "V_knee=0.2;\t\t\t\t#Knee voltage of collector-emitter voltage in V\n",
    "V_CC=10.0;\t\t\t\t#Collector supply voltage in V\n",
    "V_BB=3.0;\t\t\t\t#Base supply voltage in V\n",
    "V_BE=0.7;\t\t\t\t#Base-emitter voltage in V \t\n",
    "R_B=10.0;\t\t\t\t#Base resistor's resistance in kilo ohm\n",
    "R_C=1.0;\t\t\t\t#Collector resistor's resistance in kilo ohm\n",
    "beta=50.0;\t\t\t\t#base current amplification factor\n",
    "\n",
    "#Calculations\n",
    "\n",
    "#applying Kirchhoff's voltage law along the collector side of the circuit,\n",
    "#We get Vcc-Ic(sat)*Rc-V_knee=0\n",
    "#From the above equation, we get:\n",
    "I_C_sat=(V_CC-V_knee)/R_C;\t\t#Saturated collector current in mA\n",
    "\n",
    "#Applying Kirchhoff's voltage law along base emitter side,\n",
    "#We get VBB-IB*RB-VBE=0;\n",
    "#From the above equation, we get:\n",
    "I_B=(V_BB-V_BE)/R_B;\t\t\t#Base current in mA\n",
    "\n",
    "\n",
    "I_C=beta*I_B\t\t\t\t#Collector current in mA\n",
    "\n",
    "#Result\n",
    "if(I_C>I_C_sat):\n",
    "\tprint(\"The base current is large enough to produce Ic greater than Ic(sat), therefore the transistor is saturated.\");\n",
    "else:\n",
    "\tprint(\"The base current is not large enough to produce Ic greater than Ic(sat), therefore the transistor isn't saturated. \");\n"
   ]
  },
  {
   "cell_type": "markdown",
   "metadata": {},
   "source": [
    "## Example 8.34: Page number 177-178"
   ]
  },
  {
   "cell_type": "code",
   "execution_count": 37,
   "metadata": {
    "collapsed": false
   },
   "outputs": [
    {
     "name": "stdout",
     "output_type": "stream",
     "text": [
      "As both collector-base and emitter-base junction are forward biased, the transistor is operating in the saturation region. \n"
     ]
    }
   ],
   "source": [
    "\n",
    "#Variable declaration\n",
    "V_CC=10.0;\t\t\t\t#Collector supply voltage in V\n",
    "V_BE=0.95;\t\t\t\t#Base-emitter voltage in V \t\n",
    "I_B=100.0;\t\t\t\t#Base current in microAmp\n",
    "R_C=970.0;\t\t\t\t#Collector resistor's resistance in ohm\n",
    "beta=100.0;\t\t\t\t#base current amplification factor\n",
    "\n",
    "#Calculations\n",
    "I_C=(I_B/1000)*beta;\t\t\t\t#Collector current in mA \n",
    "\n",
    "#Applying Kirchhoff's voltage law along collector side\n",
    "#We get Vcc-IcRc-Vce=0\n",
    "#From the above equation, we get:\n",
    "\n",
    "V_CE=V_CC-((I_C/1000)*R_C);\t\t\t\t#Collector-emitter voltage in V\n",
    "\n",
    "#From the equation, V_CE=V_CB+V_BE,\n",
    "V_CB=V_CE-V_BE;\t\t\t\t\t\t#Collector-base voltage in V\n",
    "\n",
    "\n",
    "#Result\n",
    "if(V_CB<0 and V_BE >0):\n",
    "\tprint(\"As both collector-base and emitter-base junction are forward biased, the transistor is operating in the saturation region. \");\n",
    "else:\n",
    "\tprint(\"No. The transistor isn't operating in the saturation region.\");\n"
   ]
  },
  {
   "cell_type": "markdown",
   "metadata": {},
   "source": [
    "## Example 8.35: Page number 178"
   ]
  },
  {
   "cell_type": "code",
   "execution_count": 38,
   "metadata": {
    "collapsed": false
   },
   "outputs": [
    {
     "name": "stdout",
     "output_type": "stream",
     "text": [
      "Therefore, for putting transistor in saturation, VBB >= 1.95 V\n"
     ]
    }
   ],
   "source": [
    "#Variable declaration\n",
    "V_CC=10.0;\t\t\t\t#Collector supplu voltage in V\n",
    "V_BE=0.7;\t\t\t\t#Base-emitter voltage in V\n",
    "R_B=50.0;\t\t\t\t#Base resistor's resistance in kilo ohm\n",
    "R_C=2.0;\t\t\t\t#Collector resistor's resistance in kilo ohm\n",
    "beta=200.0;\t\t\t\t#Base current amplification factor\n",
    "\n",
    "#Calculations\n",
    "\n",
    "#Applying Kirchhoff's voltage law along the collector side,\n",
    "#We get, Vcc-Ic(sat)*Rc-Vce=0;\n",
    "#From the above equation, we get:\n",
    "#I_C_sat=(V_CC-V_CE)/R_C, but as transistor goes into saturation, Vce=0;\n",
    "\n",
    "V_CE=0;\t\t\t\t\t\t#Collector-emiter voltage in V, for transistor in saturation \n",
    "I_C_sat=(V_CC-V_CE)/R_C;\t\t\t#Saturated collector current in mA\n",
    "\n",
    "I_B=I_C_sat/beta;\t\t\t\t#Base current in mA\n",
    "\n",
    "#Applying Kirchhoff's voltage law to the base circuit,\n",
    "#We get, VBB - IB*RB - VBE=0\n",
    "#From the above equation. we get:\n",
    "V_BB=V_BE+ I_B*R_B;\t\t\t\t#Base supply voltage to put transistor in saturation, in V\n",
    "\n",
    "#Result\n",
    "print(\"Therefore, for putting transistor in saturation, VBB >= %.2f V\"%V_BB);\n",
    " \n"
   ]
  },
  {
   "cell_type": "markdown",
   "metadata": {},
   "source": [
    "## Example 8.36: Page number 178-179"
   ]
  },
  {
   "cell_type": "code",
   "execution_count": 39,
   "metadata": {
    "collapsed": false
   },
   "outputs": [
    {
     "name": "stdout",
     "output_type": "stream",
     "text": [
      "(i)Our assumption was correct, the transistor is in active state for Rc=2 kilo ohm.\n",
      "(ii)The transistor is at the edge of saturation for Rc=4 kilo ohm, therefore relation between transistor currents are same for both saturation and active state.\n",
      "(iii)Our assumption was wrong, the transistor is in saturation for Rc=8 kilo ohm.\n"
     ]
    }
   ],
   "source": [
    "#Variable declaration\n",
    "V_CC=10.0;\t\t\t#Collector supply voltage in V\n",
    "V_BB=2.7;\t\t\t#Base supply voltage in V\n",
    "V_BE=0.7;\t\t\t#Base-emitter voltage in V\n",
    "beta=100.0;\t\t\t#Base current amplification factor\n",
    "R_E=1.0;\t\t\t#Emitter resistor's resistance in kilo ohm\n",
    "\n",
    "\n",
    "#Calcultaion\t\n",
    "V_B=V_BB;\t\t\t#Base voltage in V\n",
    "V_E=V_B-V_BE;\t\t\t#Emitter voltage in V\n",
    "I_E=V_E/R_E;\t\t\t#Emitter current in mA\n",
    "I_C=I_E;\t\t\t#Collector current (approximately equal to emitter current) in mA\n",
    "I_B=I_C/beta;\t\t\t#Base current in mA\n",
    "\n",
    "#Case (i):\n",
    "R_C=2;\t\t\t\t#Collector resistor's resistance in kilo ohm\n",
    "\n",
    "#Assuming transistor to be in active state\n",
    "#Applying Kirchhoff's voltage law along collector side,\n",
    "#We get,Vcc-IcRc=Vc,\n",
    "\n",
    "V_C=V_CC-I_C*R_C;\t\t#Collector voltage in V\n",
    "\n",
    "if(V_C>V_E):\n",
    "\tprint(\"(i)Our assumption was correct, the transistor is in active state for Rc=2 kilo ohm.\");\n",
    "elif(V_C<V_E):\n",
    "\tprint(\"(i)Our assumption was wrong, the transistor is in saturation for Rc=2 kilo ohm.\");\n",
    "elif(V_C==V_E):\n",
    "\tprint(\"(i)The transistor is at the edge of saturation for Rc=2 kilo ohm, therefore relation between transistor currents are same for both saturation and active state.\");\n",
    "\n",
    "#Case (ii):\n",
    "R_C=4;\t\t\t\t#Collector resistor's resistance in kilo ohm\n",
    "\n",
    "#Assuming transistor to be in active state\n",
    "#Applying Kirchhoff's voltage law along collector side,\n",
    "#We get,Vcc-IcRc=Vc,\n",
    "\n",
    "V_C=V_CC-I_C*R_C;\t\t#Collector voltage in V\n",
    "if(V_C>V_E):\n",
    "\tprint(\"(ii)Our assumption was correct, the transistor is in active state for Rc=4 kilo ohm.\");\n",
    "elif(V_C==V_E):\n",
    "\tprint(\"(ii)The transistor is at the edge of saturation for Rc=4 kilo ohm, therefore relation between transistor currents are same for both saturation and active state.\");\n",
    "elif(V_C<V_E):\n",
    "\tprint(\"(ii)Our assumption was wrong, the transistor is in saturation for Rc=4 kilo ohm.\");\n",
    "\n",
    "\n",
    "#Case (iii):\n",
    "R_C=8;\t\t\t\t#Collector resistor's resistance in kilo ohm\n",
    "\n",
    "#Assuming transistor to be in active state\n",
    "#Applying Kirchhoff's voltage law along collector side,\n",
    "#We get,Vcc-IcRc=Vc,\n",
    "\n",
    "V_C=V_CC-I_C*R_C;\t\t#Collector voltage in V\n",
    "if(V_C>V_E):\n",
    "\tprint(\"(iii)Our assumption was correct, the transistor is in active state for Rc=8 kilo ohm.\");\n",
    "elif(V_C<V_E):\n",
    "\tprint(\"(iii)Our assumption was wrong, the transistor is in saturation for Rc=8 kilo ohm.\");\n",
    "elif(V_C==V_E):\n",
    "\tprint(\"(iii)The transistor is at the edge of saturation for Rc=8 kilo ohm, therefore relation between transistor currents are same for both saturation and active state.\");\n"
   ]
  },
  {
   "cell_type": "markdown",
   "metadata": {},
   "source": [
    "## Example 8.37 : Page number 179-180"
   ]
  },
  {
   "cell_type": "code",
   "execution_count": 40,
   "metadata": {
    "collapsed": false
   },
   "outputs": [
    {
     "name": "stdout",
     "output_type": "stream",
     "text": [
      "(i) Base voltage =0.5V is less than VBE=0.7V, therefore, transistor is cut-off.\n",
      "0.8 0.8 7.0\n",
      "(ii) VC=7V > VE=0.8V, therefore the transistor is active. Our assumption was correct.\n",
      "(iii) VC=-8V < VE=2.3V, therefore the transistor is saturated. Our assumption was wrong.\n"
     ]
    }
   ],
   "source": [
    "#Variable declaration\n",
    "V_CC=15.0;\t\t\t#Collector supply voltage in V\n",
    "R_C=10.0;\t\t\t#Collector resistor's resistance in kilo ohm\n",
    "V_BE=0.7;\t\t\t#Base-emitter voltage in V\n",
    "beta=100.0;\t\t\t#Base current amplification factor\n",
    "R_E=1.0;\t\t\t#Emitter resistor's resistance in kilo ohm\n",
    "\n",
    "\n",
    "#Calculation\t\n",
    "\n",
    "#Case (i):\n",
    "V_BB=0.5;\t\t\t#Base supply voltage in V\n",
    "VB=V_BB;            #Base voltage, V\n",
    "print(\"(i) Base voltage =%.1fV is less than VBE=%.1fV, therefore, transistor is cut-off.\"%(VB,V_BE));\n",
    "\n",
    "\n",
    "#Case (ii):\n",
    "V_BB=1.5;\t\t\t#Base supply voltage in V\n",
    "VB=V_BB;            #Base voltage, V\n",
    "VE=VB-V_BE;          #Emitter voltage, V\n",
    "IE=round(VE/R_E,1);  #Emitter current, mA\n",
    "#Assuming transistor to be in active state\n",
    "#Applying Kirchhoff's voltage law along collector side,\n",
    "IC=IE;              #Collector current, mA\n",
    "IB=IC/beta;         #Base  current, mA\n",
    "VC=V_CC-IC*R_C;      #Collector voltage, V\n",
    "print(VE,IE,VC);\n",
    "print(\"(ii) VC=%dV > VE=%.1fV, therefore the transistor is active. Our assumption was correct.\"%(VC,VE));\n",
    "\n",
    "#Case (iii):\n",
    "V_BB=3; \t\t\t#Base supply voltage in V\n",
    "VB=V_BB;            #Base voltage, V\n",
    "VE=VB-V_BE;          #Emitter voltage, V\n",
    "IE=round(VE/R_E,1);  #Emitter current, mA\n",
    "#Assuming transistor to be in active state\n",
    "#Applying Kirchhoff's voltage law along collector side,\n",
    "IC=IE;              #Collector current, mA\n",
    "IB=IC/beta;         #Base  current, mA\n",
    "VC=V_CC-IC*R_C;      #Collector voltage, V\n",
    "\n",
    "print(\"(iii) VC=%dV < VE=%.1fV, therefore the transistor is saturated. Our assumption was wrong.\"%(VC,VE));"
   ]
  },
  {
   "cell_type": "markdown",
   "metadata": {},
   "source": [
    "## Example 8.38: Page number 181"
   ]
  },
  {
   "cell_type": "code",
   "execution_count": 41,
   "metadata": {
    "collapsed": false
   },
   "outputs": [
    {
     "name": "stdout",
     "output_type": "stream",
     "text": [
      "Maximum collector current that can be allowed without destruction of the transistor = 5 mA.\n"
     ]
    }
   ],
   "source": [
    "#Variable declaration\n",
    "P_D_max=100.0;\t\t\t#Maximum power dissipation of a transistor in mW\n",
    "V_CE=20.0;\t\t\t#Collector emitter voltage in V\n",
    "\n",
    "#Calculation\n",
    "#As power=curent*voltage\n",
    "#P_D_max=I_C_max*V_CE\n",
    "#From the above equation, we get:\n",
    "\n",
    "I_C_max=P_D_max/V_CE;\t\t#Maximum collector current that can be allowed without destruction of the transistor, in mA\n",
    "\n",
    "#Result\n",
    "print(\"Maximum collector current that can be allowed without destruction of the transistor = %d mA.\"%I_C_max); \n"
   ]
  },
  {
   "cell_type": "markdown",
   "metadata": {},
   "source": [
    "## Example 8.39: Page number 181"
   ]
  },
  {
   "cell_type": "code",
   "execution_count": 42,
   "metadata": {
    "collapsed": false
   },
   "outputs": [
    {
     "name": "stdout",
     "output_type": "stream",
     "text": [
      "Power dissipated = 4.3W\n"
     ]
    }
   ],
   "source": [
    "#Variable declaration\n",
    "V_CC=5.0;\t\t\t\t#Collector supply voltage in V\n",
    "V_BB=5.0;\t\t\t\t#Base supply voltage in V\n",
    "V_BE=0.7;\t\t\t\t#Base-emitter voltage in V\n",
    "R_B=1.0;\t\t\t\t#Base resistor's resistance in kilo ohm\n",
    "R_C=0;\t\t\t\t\t#Collector resistor's resistance in kilo ohm\n",
    "beta=200.0;\t\t\t\t#base current amplification factor\n",
    "\n",
    "#Calculation\n",
    "\n",
    "#Applying Kirchhoff's voltage law along base circuit<\n",
    "#We get, VBB- IB*RB - VBE=0.\n",
    "#From the above equation, we get:\n",
    "\n",
    "I_B=(V_BB-V_BE)/R_B;\t\t\t#Base current in mA\n",
    "\n",
    "I_C=beta*I_B;\t\t\t\t#Collector current in mA\n",
    "\n",
    "#Applying Kirchhoff's voltage law along collector circuit:\n",
    "\n",
    "V_CE=V_CC-I_C*R_C;\t\t\t#Collector-emitter voltage in V\n",
    "\n",
    "#As power=curent*voltage\n",
    "#P_D=I_C*V_CE\n",
    "#From the above equation, we get:\n",
    "P_D=V_CE*I_C;\t\t\t\t#Power dissipated in mW\n",
    "P_D=P_D/1000;\t\t\t\t#Power dissipated in W\n",
    "\n",
    "#Result\n",
    "print(\"Power dissipated = %.1fW\"%P_D);\n"
   ]
  },
  {
   "cell_type": "markdown",
   "metadata": {},
   "source": [
    "## Example 8.40: Page number 181-182"
   ]
  },
  {
   "cell_type": "code",
   "execution_count": 43,
   "metadata": {
    "collapsed": false
   },
   "outputs": [
    {
     "name": "stdout",
     "output_type": "stream",
     "text": [
      "Power dissipated = 6mW\n"
     ]
    }
   ],
   "source": [
    "#Variable declaration\n",
    "V_CC=5.0;\t\t\t\t#Collector supply voltage in V\n",
    "V_BB=1.0;\t\t\t\t#Base supply voltage in V\n",
    "V_BE=0.7;\t\t\t\t#Base-emitter voltage in V\n",
    "R_B=10.0;\t\t\t\t#Base resistor's resistance in kilo ohm\n",
    "R_C=1.0;\t\t\t\t\t#Collector resistor's resistance in kilo ohm\n",
    "beta=100.0;\t\t\t\t#base current amplification factor\n",
    "\n",
    "#Calculation\n",
    "\n",
    "#Applying Kirchhoff's voltage law along base circuit<\n",
    "#We get, VBB- IB*RB - VBE=0.\n",
    "#From the above equation, we get:\n",
    "\n",
    "I_B=(V_BB-V_BE)/R_B;\t\t\t#Base current in mA\n",
    "\n",
    "I_C=beta*I_B;\t\t\t\t#Collector current in mA\n",
    "\n",
    "#Applying Kirchhoff's voltage law along collector circuit:\n",
    "\n",
    "V_CE=V_CC-I_C*R_C;\t\t\t#Collector-emitter voltage in V\n",
    "\n",
    "#As power=curent*voltage\n",
    "#P_D=I_C*V_CE\n",
    "#From the above equation, we get:\n",
    "P_D=V_CE*I_C;\t\t\t\t#Power dissipated in mW\n",
    "\n",
    "\n",
    "#Result\n",
    "print(\"Power dissipated = %.0fmW\"%P_D);\n"
   ]
  },
  {
   "cell_type": "markdown",
   "metadata": {},
   "source": [
    "## Example 8.41 : Page number 182"
   ]
  },
  {
   "cell_type": "code",
   "execution_count": 44,
   "metadata": {
    "collapsed": false
   },
   "outputs": [
    {
     "name": "stdout",
     "output_type": "stream",
     "text": [
      "IC=19.5mA is much less than IC_max=100mA. Therefore, will not change with VCC and current rating is not exceeded.\n",
      "PD=293mW  is less than PD_max=800mW. Therefore, power rating is not exceeded.\n",
      "If base current is removed, transistor will turn off. Hence, VCE_max will be exceeded because entire supply voltage VCC will be dropped across the transistor.\n"
     ]
    }
   ],
   "source": [
    "#Variable declaration\n",
    "VBB=5.0;                     #Base supply voltage, V\n",
    "RB=22.0;                  #Base resistor, kilo ohm\n",
    "RC=1.0;                   #Collector resistor, kilo ohm\n",
    "beta=100.0;               #Base current amplification factor\n",
    "VBE=0.7;                  #Base-emitter voltage, V\n",
    "PD_max=800.0;             #Maximum power dissipation, mW\n",
    "VCE_max=15.0;             #Maximum collector-emitter voltage, V\n",
    "IC_max=100.0;             #Maximum collector current, mA\n",
    "\n",
    "#Calculation\n",
    "IB=((VBB-VBE)/RB)*1000;               #Base current,  μA\n",
    "IC=beta*IB/1000;                      #Collector current, mA\n",
    "\n",
    "print(\"IC=%.1fmA is much less than IC_max=%dmA. Therefore, will not change with VCC and current rating is not exceeded.\"%(IC,IC_max));\n",
    "\n",
    "#VCC=VCE+IC*RC\n",
    "VCC_max=VCE_max+IC*RC;           #Maximum value of Collector supply voltage, V\n",
    "PD=VCE_max*IC;                  #Power dissipation, mW\n",
    "\n",
    "print(\"PD=%dmW  is less than PD_max=%dmW. Therefore, power rating is not exceeded.\"%(PD,PD_max));\n",
    "\n",
    "print(\"If base current is removed, transistor will turn off. Hence, VCE_max will be exceeded because entire supply voltage VCC will be dropped across the transistor.\");"
   ]
  },
  {
   "cell_type": "code",
   "execution_count": null,
   "metadata": {
    "collapsed": false
   },
   "outputs": [],
   "source": []
  }
 ],
 "metadata": {
  "kernelspec": {
   "display_name": "Python 3",
   "language": "python",
   "name": "python3"
  },
  "language_info": {
   "codemirror_mode": {
    "name": "ipython",
    "version": 3
   },
   "file_extension": ".py",
   "mimetype": "text/x-python",
   "name": "python",
   "nbconvert_exporter": "python",
   "pygments_lexer": "ipython3",
   "version": "3.5.1"
  },
  "widgets": {
   "state": {},
   "version": "1.1.2"
  }
 },
 "nbformat": 4,
 "nbformat_minor": 0
}
