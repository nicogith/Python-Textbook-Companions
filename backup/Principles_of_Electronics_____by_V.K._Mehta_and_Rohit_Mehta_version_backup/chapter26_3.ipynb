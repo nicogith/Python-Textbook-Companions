{
 "metadata": {
  "name": "",
  "signature": "sha256:a1845801144904256bc26f3ca2e0294eb55dcabb139a523d403624121bc6876a"
 },
 "nbformat": 3,
 "nbformat_minor": 0,
 "worksheets": [
  {
   "cells": [
    {
     "cell_type": "markdown",
     "metadata": {},
     "source": [
      "#CHAPTER 26 : DIGITAL ELECTRONICS"
     ]
    },
    {
     "cell_type": "markdown",
     "metadata": {},
     "source": [
      "##Example 26.1 : Page 732"
     ]
    },
    {
     "cell_type": "code",
     "collapsed": false,
     "input": [
      "#Given\n",
      "d=37;         #Given decimal number\n",
      "\n",
      "#Calculation\n",
      "b=int(bin(d)[2:]);                #Equivalent Octal number \n",
      "\n",
      "#Result\n",
      "print(\"The equivalent binary number=%s.\"%b);"
     ],
     "language": "python",
     "metadata": {},
     "outputs": [
      {
       "output_type": "stream",
       "stream": "stdout",
       "text": [
        "The equivalent binary number=100101.\n"
       ]
      }
     ],
     "prompt_number": 4
    },
    {
     "cell_type": "markdown",
     "metadata": {},
     "source": [
      "##Example 26.2 : Page number 733"
     ]
    },
    {
     "cell_type": "code",
     "collapsed": false,
     "input": [
      "#Given\n",
      "d=23;      #Given decimal number\n",
      "\n",
      "#Calculation\n",
      "b=int(bin(d)[2:]);                   #Equivalent Octal number\n",
      "\n",
      "#Result\n",
      "print(\"The equivalent binary number=%d.\"%b);"
     ],
     "language": "python",
     "metadata": {},
     "outputs": [
      {
       "output_type": "stream",
       "stream": "stdout",
       "text": [
        "The equivalent binary number=10111.\n"
       ]
      }
     ],
     "prompt_number": 5
    },
    {
     "cell_type": "markdown",
     "metadata": {},
     "source": [
      "##Example 26.3 : Page number 733"
     ]
    },
    {
     "cell_type": "code",
     "collapsed": false,
     "input": [
      "#Given \n",
      "b=0b110001;               #Given binary number\n",
      "\n",
      "#Calculation\n",
      "d=int(b);                   #Equivalent decimal number\n",
      "\n",
      "#Result\n",
      "print(\"Equivalent decimal number=%d.\"%d);"
     ],
     "language": "python",
     "metadata": {},
     "outputs": [
      {
       "output_type": "stream",
       "stream": "stdout",
       "text": [
        "Equivalent decimal number=49.\n"
       ]
      }
     ],
     "prompt_number": 6
    },
    {
     "cell_type": "markdown",
     "metadata": {},
     "source": [
      "##Example 26.4 : Page number 735"
     ]
    },
    {
     "cell_type": "code",
     "collapsed": false,
     "input": [
      "#Given \n",
      "d1=76;                #Given decimal number\n",
      "d2=255;               #Given decimal number\n",
      "d3=372;               #Given decimal number\n",
      "\n",
      "#Calculation\n",
      "o1=int(oct(d1)[1:]);                   #Equivalent octal number\n",
      "o2=int(oct(d2)[1:]);                   #Equivalent octal number\n",
      "o3=int(oct(d3)[1:]);                   #Equivalent octal number\n",
      "\n",
      "\n",
      "#Result\n",
      "print(\"(i)   Equivalent octal number=%d.\"%o1);\n",
      "print(\"(ii)  Equivalent octal number=%d.\"%o2);\n",
      "print(\"(iii) Equivalent octal number=%d.\"%o3);"
     ],
     "language": "python",
     "metadata": {},
     "outputs": [
      {
       "output_type": "stream",
       "stream": "stdout",
       "text": [
        "(i)   Equivalent octal number=114.\n",
        "(ii)  Equivalent octal number=377.\n",
        "(iii) Equivalent octal number=564.\n"
       ]
      }
     ],
     "prompt_number": 7
    },
    {
     "cell_type": "markdown",
     "metadata": {},
     "source": [
      "##Example 26.5 : Page number 735"
     ]
    },
    {
     "cell_type": "code",
     "collapsed": false,
     "input": [
      "#Given \n",
      "o=24.6;               #Given octal number\n",
      "\n",
      "#Calculation\n",
      "o_f=o%1;                             #Floating part of octal number\n",
      "o_i=(int)(o-(o%1));                  #Integer part of octal number\n",
      "d=int(str(o_i),8);                   #Equivalent decimal number\n",
      "\n",
      "s=str(o_f);                         #String value of floating  part \n",
      "i=2\n",
      "while(i<len(s)):\n",
      "    d=d+int(s[i])*8**-(i-1);\n",
      "    i+=1;\n",
      "#Result\n",
      "print(\"Equivalent decimal number=%.2f.\"%d);"
     ],
     "language": "python",
     "metadata": {},
     "outputs": [
      {
       "output_type": "stream",
       "stream": "stdout",
       "text": [
        "Equivalent decimal number=20.75.\n"
       ]
      }
     ],
     "prompt_number": 64
    },
    {
     "cell_type": "markdown",
     "metadata": {},
     "source": [
      "##Example 26.6 : Page number 735"
     ]
    },
    {
     "cell_type": "code",
     "collapsed": false,
     "input": [
      "#Given \n",
      "d=177;               #Given decimal number\n",
      "\n",
      "#Calculation\n",
      "o=oct(d)[1:];                   #Equivalent octal number\n",
      "\n",
      "b=\"\";\n",
      "for i in o:\n",
      "    bo=bin(int(i))[2:];                     #Binary of individual octal digit\n",
      "    b=b+((\"0\" if len(bo)==2 else (\"00\" if len(bo)==1 else\"\")) +bo);                   #Equivalent binary number\n",
      "    \n",
      "#Result\n",
      "print(\"Equivalent octal number=%s.\"%o);\n",
      "print(\"Equivalent binary number=%s.\"%b);"
     ],
     "language": "python",
     "metadata": {},
     "outputs": [
      {
       "output_type": "stream",
       "stream": "stdout",
       "text": [
        "Equivalent octal number=261.\n",
        "Equivalent binary number=010110001.\n"
       ]
      }
     ],
     "prompt_number": 63
    },
    {
     "cell_type": "markdown",
     "metadata": {},
     "source": [
      "##Example 26.7 : Page number 737"
     ]
    },
    {
     "cell_type": "code",
     "collapsed": false,
     "input": [
      "#Given \n",
      "d=541;               #Given decimal number\n",
      "\n",
      "#Calculation\n",
      "h=hex(d)[2:];                   #Equivalent hexadecimal number\n",
      "\n",
      "#Result\n",
      "print(\"Equivalent hexadecimal number=%s.\"%h);"
     ],
     "language": "python",
     "metadata": {},
     "outputs": [
      {
       "output_type": "stream",
       "stream": "stdout",
       "text": [
        "Equivalent hexadecimal number=21d.\n"
       ]
      }
     ],
     "prompt_number": 23
    },
    {
     "cell_type": "markdown",
     "metadata": {},
     "source": [
      "##Example 26.8 : Page number 737"
     ]
    },
    {
     "cell_type": "code",
     "collapsed": false,
     "input": [
      "hex_to_dec={'0':0,'1':1,'2':2,'3':3,'4':4,'5':5,'6':6,'7':7,'8':8,'9':9,'a':10,'b':11,'c':12,'d':13,'e':14,'f':15};\n",
      "        \n",
      "#Given \n",
      "d=378;               #Given decimal number\n",
      "\n",
      "#Calculation\n",
      "h=hex(d)[2:];                   #Equivalent Hexadecimal number\n",
      "\n",
      "\n",
      "b=\"\";\n",
      "for i in h:\n",
      "    bh=bin(hex_to_dec[i])[2:];                 #Binary of individual hexadecimaldigit\n",
      "    b=b+((\"0\" if len(bh)==3 else (\"00\" if len(bh)==2 else (\"000\" if len(bh)==1 else \"\")))+bh);    #Equivalent binary number\n",
      "\n",
      "#Result\n",
      "print(\"Equivalent hexadeciaml number=%s.\"%h);\n",
      "print(\"Equivalent binary number=%s.\"%b);"
     ],
     "language": "python",
     "metadata": {},
     "outputs": [
      {
       "output_type": "stream",
       "stream": "stdout",
       "text": [
        "Equivalent hexadeciaml number=17a.\n",
        "Equivalent binary number=000101111010.\n"
       ]
      }
     ],
     "prompt_number": 56
    },
    {
     "cell_type": "heading",
     "level": 2,
     "metadata": {},
     "source": [
      "Example 26.9 : Page number 737"
     ]
    },
    {
     "cell_type": "code",
     "collapsed": false,
     "input": [
      "#Given\n",
      "h=0xB2F;        #Given hexadecimal number\n",
      "\n",
      "#Calculation\n",
      "o=oct(h)[1:];       #Equivalent octal number\n",
      "\n",
      "#Result\n",
      "print(\"Equivalent octal number=%s.\"%o);"
     ],
     "language": "python",
     "metadata": {},
     "outputs": [
      {
       "output_type": "stream",
       "stream": "stdout",
       "text": [
        "Equivalent octal number=5457.\n"
       ]
      }
     ],
     "prompt_number": 58
    },
    {
     "cell_type": "markdown",
     "metadata": {},
     "source": [
      "##Example 26.10 : Page number 738"
     ]
    },
    {
     "cell_type": "code",
     "collapsed": false,
     "input": [
      "#Given\n",
      "BCD=\"0100 0000 0010\"             #Given BCD string\n",
      "BCD_split=BCD.split(\" \");        #Splitting th binary string into individual BCD \n",
      "d=0;\n",
      "for i in range(len(BCD_split),0,-1):\n",
      "    d+=int(BCD_split[len(BCD_split)-i],2)*10**(i-1);\n",
      "\n",
      "#Result\n",
      "print(\"The equivalent decimal =%d.\"%d);\n",
      "    "
     ],
     "language": "python",
     "metadata": {},
     "outputs": [
      {
       "output_type": "stream",
       "stream": "stdout",
       "text": [
        "The equivalent decimal =402.\n"
       ]
      }
     ],
     "prompt_number": 7
    },
    {
     "cell_type": "markdown",
     "metadata": {},
     "source": [
      "##Example 26.11 : Page number 745"
     ]
    },
    {
     "cell_type": "code",
     "collapsed": false,
     "input": [
      "print(\"Boolean Expression obtained from the circuit: \\n Y'=A+B \\n Y=((A+B).A)\");\n",
      "print(\"Truth Table:\");\n",
      "print(\"a\\tb\\tY'=A+B\\t  Y=Y'.A\");\n",
      "for b in range(0,2):\n",
      "    for a in range(0,2):\n",
      "        Y_dash=1 if a or b else 0;\n",
      "        Y=1 if Y_dash and a else 0;\n",
      "        print(\"%d\\t%d\\t%d\\t  %d\"%(a,b,Y_dash,Y));"
     ],
     "language": "python",
     "metadata": {},
     "outputs": [
      {
       "output_type": "stream",
       "stream": "stdout",
       "text": [
        "Boolean Expression obtained from the circuit: \n",
        " Y'=A+B \n",
        " Y=((A+B).A)\n",
        "Truth Table:\n",
        "a\tb\tY'=A+B\t  Y=Y'.A\n",
        "0\t0\t0\t  0\n",
        "1\t0\t1\t  1\n",
        "0\t1\t1\t  0\n",
        "1\t1\t1\t  1\n"
       ]
      }
     ],
     "prompt_number": 29
    },
    {
     "cell_type": "markdown",
     "metadata": {},
     "source": [
      "##Example 26.12 : Page number 745-746"
     ]
    },
    {
     "cell_type": "code",
     "collapsed": false,
     "input": [
      "print(\"Boolean Expression obtained from the circuit: \\n Y'=A'.B \\n Y=Y'+B'\");\n",
      "print(\"Truth Table:\");\n",
      "print(\"A\\tB\\tA'\\tY'=A'.B\\t  B'\\tY=Y'+B'\");\n",
      "for b in range(0,2):\n",
      "    for a in range(0,2):\n",
      "        a_dash=1 if not a else 0;\n",
      "        b_dash=1 if not b else 0;\n",
      "        Y_dash=1 if a_dash and b else 0;\n",
      "        Y=1 if Y_dash or b_dash else 0;\n",
      "        print(\"%d\\t%d\\t%d\\t%d\\t  %d\\t%d\"%(a,b,a_dash,Y_dash,b_dash,Y));"
     ],
     "language": "python",
     "metadata": {},
     "outputs": [
      {
       "output_type": "stream",
       "stream": "stdout",
       "text": [
        "Boolean Expression obtained from the circuit: \n",
        " Y'=A'.B \n",
        " Y=Y'+B'\n",
        "Truth Table:\n",
        "A\tB\tA'\tY'=A'.B\t  B'\tY=Y'+B'\n",
        "0\t0\t1\t0\t  1\t1\n",
        "1\t0\t0\t0\t  1\t1\n",
        "0\t1\t1\t1\t  0\t1\n",
        "1\t1\t0\t0\t  0\t0\n"
       ]
      }
     ],
     "prompt_number": 30
    }
   ],
   "metadata": {}
  }
 ]
}