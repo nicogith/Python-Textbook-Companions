{
 "metadata": {
  "name": "",
  "signature": "sha256:0ac98582dd0b2497034e459e869a2a3bd28001d0d4c4b37a61a8ed5d05f228e3"
 },
 "nbformat": 3,
 "nbformat_minor": 0,
 "worksheets": [
  {
   "cells": [
    {
     "cell_type": "heading",
     "level": 1,
     "metadata": {},
     "source": [
      "CHAPTER 1: INTRODUCTION"
     ]
    },
    {
     "cell_type": "heading",
     "level": 2,
     "metadata": {},
     "source": [
      "EXAMPLE 1.1: Page Number 8"
     ]
    },
    {
     "cell_type": "code",
     "collapsed": false,
     "input": [
      "#Variable Declaration\n",
      "Eg=24.0;                     #Generated voltage in V\n",
      "Ri=0.01;                   #Internal Resistance in \u03a9\n",
      "P=100;                     #Power supplied in watts\n",
      "\n",
      "#Calculations\n",
      "# (i)\n",
      "I=P/Eg;                         #Load current in A\n",
      "V_Ri=I*Ri;                      #Voltage drop in internal resistance\n",
      "\n",
      "# (ii)\n",
      "V=Eg-(I*Ri);                     #Terminal Voltage\n",
      "\n",
      "#Results\n",
      "print (\"The voltage drop in internal resistance is %.4f V\"%V_Ri);\n",
      "print (\"The terminal voltage is %.2f V\"%V);"
     ],
     "language": "python",
     "metadata": {},
     "outputs": [
      {
       "output_type": "stream",
       "stream": "stdout",
       "text": [
        "The voltage drop in internal resistance is 0.0417 V\n",
        "The terminal voltage is 23.96 V\n"
       ]
      }
     ],
     "prompt_number": 2
    },
    {
     "cell_type": "heading",
     "level": 2,
     "metadata": {},
     "source": [
      "EXAMPLE 1.2: Page number 10"
     ]
    },
    {
     "cell_type": "code",
     "collapsed": false,
     "input": [
      "#Variable declaration\n",
      "Eg=500.0;                 #Generated voltage in V\n",
      "Ri=1000.0;                #Internal Resistance in \u03a9\n",
      "\n",
      "\n",
      "#Calculations\n",
      "# (i)\n",
      "RL=10;                    #Load resistance of case 1 in \u03a9 \n",
      "I= Eg/(RL+Ri);            #Load current in A\n",
      "\n",
      "print(\"The load current for RL=10\u03a9 is %.3f A\"%I);\n",
      "\n",
      "# (ii)\n",
      "RL=50;                    #Load resistance of case 2 in \u03a9 \n",
      "I= Eg/(RL+Ri);            #Load current in A\n",
      "\n",
      "print(\"The load current for RL=50\u03a9 is %.3f A\"%I);\n",
      "\n",
      "# (iii)\n",
      "RL=100;                    #Load resistance of case 3 in \u03a9 \n",
      "I= Eg/(RL+Ri);            #Load current in A\n",
      "I=round(I,3);\n",
      "\n",
      "print(\"The load current for RL=100\u03a9 is %.3f A\"%I);"
     ],
     "language": "python",
     "metadata": {},
     "outputs": [
      {
       "output_type": "stream",
       "stream": "stdout",
       "text": [
        "The load current for RL=10\u03a9 is 0.495 A\n",
        "The load current for RL=50\u03a9 is 0.476 A\n",
        "The load current for RL=100\u03a9 is 0.455 A\n"
       ]
      }
     ],
     "prompt_number": 6
    },
    {
     "cell_type": "heading",
     "level": 2,
     "metadata": {},
     "source": [
      "Example 1.3: Page Number 11"
     ]
    },
    {
     "cell_type": "code",
     "collapsed": false,
     "input": [
      "#Variable declaration\n",
      "E=10.0;                #voltage of voltage source in V\n",
      "Ri=10.0;               #Internal Resistance of the voltage source in \u03a9\n",
      "\n",
      "#Calculation\n",
      "Isc=E/Ri;                #short circuit current in A\n",
      "I=Isc;                   #Current value of current source in A\n",
      "R=Ri;                    #Internal Resistence of the current source in \u03a9\n",
      "\n",
      "#Results\n",
      "print(\"The current value of the current source= %d A\"%Isc);\n",
      "print(\"The internal resistance of the current source =%d \u03a9 \"%R);"
     ],
     "language": "python",
     "metadata": {},
     "outputs": [
      {
       "output_type": "stream",
       "stream": "stdout",
       "text": [
        "The current value of the current source= 1 A\n",
        "The internal resistance of the current source =10 \u03a9 \n"
       ]
      }
     ],
     "prompt_number": 8
    },
    {
     "cell_type": "heading",
     "level": 2,
     "metadata": {},
     "source": [
      "EXAMPLE 1.4: Page number 11-12"
     ]
    },
    {
     "cell_type": "code",
     "collapsed": false,
     "input": [
      "#Variable declaration\n",
      "I=6.0;                    # current value of current source in mA\n",
      "Ri=2000.0;              #Internal Resistance of the current source in \u03a9\n",
      "\n",
      "#Calcultion\n",
      "V=(I/1000)*Ri;                      #Voltage of voltage source in V\n",
      "R=Ri;                         #Internal resistance of voltage source in \u03a9\n",
      "\n",
      "#Results\n",
      "print(\"The voltage of voltage source is %d V\"%V);\n",
      "print(\"The internal resistance of the voltage source is %d \u03a9\"%R);"
     ],
     "language": "python",
     "metadata": {},
     "outputs": [
      {
       "output_type": "stream",
       "stream": "stdout",
       "text": [
        "The voltage of voltage source is 12 V\n",
        "The internal resistance of the voltage source is 2000 \u03a9\n"
       ]
      }
     ],
     "prompt_number": 11
    },
    {
     "cell_type": "heading",
     "level": 2,
     "metadata": {},
     "source": [
      "Example 1.5: Page number 13\n"
     ]
    },
    {
     "cell_type": "code",
     "collapsed": false,
     "input": [
      "#variable declaration\n",
      "E=200.0;                    #Generated voltage in V\n",
      "Ri=100.0;                   #Internal Resistance of generator in \u03a9\n",
      "\n",
      "#Calculations\n",
      "#(i)\n",
      "RL=100;                      #Load resistance for 1st case in \u03a9\n",
      "I=E/(RL+Ri);                 #Load current in 1st case A\n",
      "P=(I*I)*RL;                  #Power delivered to load of 2nd case in watts\n",
      "Pt=(I*I)*(Ri+RL);            #Total power generated in watts\n",
      "\n",
      "print(\"Power delivered for RL=100\u03a9 is %d watts\"%P);\n",
      "print(\"Total power generated for RL=100\u03a9 is %d watts\"%Pt);\n",
      "\n",
      "\n",
      "#(ii)\n",
      "RL=300;                      #Load resistance for 2nd case in \u03a9\n",
      "I=E/(RL+Ri);                 #Load current in 2nd case in A\n",
      "P=(I*I)*RL;                  #Power delivered to load of 2nd case in watts\n",
      "Pt=(I*I)*(Ri+RL);            #Total power generated in watts\n",
      "\n",
      "print(\"Power delivered for RL=300\u03a9 is %d watts\"%P);\n",
      "print(\"Total power generated for RL=300\u03a9 is %d watts\"%Pt);\n",
      "\n",
      "\n"
     ],
     "language": "python",
     "metadata": {},
     "outputs": [
      {
       "output_type": "stream",
       "stream": "stdout",
       "text": [
        "Power delivered for RL=100\u03a9 is 100 watts\n",
        "Total power generated for RL=100\u03a9 is 200 watts\n",
        "Power delivered for RL=300\u03a9 is 75 watts\n",
        "Total power generated for RL=300\u03a9 is 100 watts\n"
       ]
      }
     ],
     "prompt_number": 15
    },
    {
     "cell_type": "heading",
     "level": 2,
     "metadata": {},
     "source": [
      "Example 1.6: Page number 14"
     ]
    },
    {
     "cell_type": "code",
     "collapsed": false,
     "input": [
      "#Variable declaration\n",
      "V=12.0;                  #Output from amplifier in V\n",
      "R_out_eq=15;           #Equivalent resistance in \u03a9\n",
      "\n",
      "#Calculations\n",
      "RL=R_out_eq;              #Load resistance in \u03a9\n",
      "Rt=RL+R_out_eq;           #Total resistance in \u03a9\n",
      "I=V/Rt;                   #Circuit current in A\n",
      "PL=pow(I,2)*RL;           #Power delivered to load in W\n",
      "\n",
      "#Results\n",
      "print(\"Load resistance required is = %d \u03a9\"%RL);\n",
      "print(\"Power delivered to load = %.1f W\"%PL);"
     ],
     "language": "python",
     "metadata": {},
     "outputs": [
      {
       "output_type": "stream",
       "stream": "stdout",
       "text": [
        "Load resistance required is = 15 \u03a9\n",
        "Power delivered to load = 2.4 W\n"
       ]
      }
     ],
     "prompt_number": 16
    },
    {
     "cell_type": "heading",
     "level": 2,
     "metadata": {},
     "source": [
      "Example 1.7, Page number 14"
     ]
    },
    {
     "cell_type": "code",
     "collapsed": false,
     "input": [
      "#Variable declaration\n",
      "V=50.0;                      #voltage from ac generator in V\n",
      "R=100.0;                     #Resistance of internal impedance in \u03a9\n",
      "XL=50.0;                     #inductive reactance of internal impedance in \u03a9\n",
      "\n",
      "#Calculation\n",
      "Zi=100+(50j);               #Internal impedance in complex form (\u03a9)\n",
      "ZL=conjugate(Zi);          #Load impedance (conjugate of internal impedance ) in \u03a9\n",
      "Zt=Zi+ZL;                  #Total impedance in \u03a9\n",
      "I=real(V/Zt);              #Circuit current in A\n",
      "\n",
      "Max_Power=pow(I,2)*R;      #Maximum power transferred to the load in watts\n",
      "\n",
      "\n",
      "#Results\n",
      "print (\"Load impedance %d %dj \u03a9\"%(real(ZL),imag(ZL)));\n",
      "print(\"Maximum power transferred to the load =%.2f W\"%Max_Power);\n",
      "\n",
      "\n"
     ],
     "language": "python",
     "metadata": {},
     "outputs": [
      {
       "output_type": "stream",
       "stream": "stdout",
       "text": [
        "Load impedance 100 -50j \u03a9\n",
        "Maximum power transferred to the load =6.25 W\n"
       ]
      }
     ],
     "prompt_number": 28
    },
    {
     "cell_type": "heading",
     "level": 2,
     "metadata": {},
     "source": [
      "Example 1.8: Page number 16"
     ]
    },
    {
     "cell_type": "code",
     "collapsed": false,
     "input": [
      "\n",
      "#Function for calculating parallel resistance\n",
      "def pR(R1,R2):\n",
      "    return((R1*R2)/(R1+R2));\n",
      "\n",
      "\n",
      "#Variable declaration\n",
      "E=100.0;                              #Source voltage in V\n",
      "R1=10.0;                              #Resistance of resistor 1 in \u03a9\n",
      "R2=20.0;                              #Resistance of resistor 2 in \u03a9\n",
      "R3=12.0;                              #Resistance of resistor 3 in \u03a9\n",
      "R4=8.0;                               #Resistance of resistor 4 in \u03a9\n",
      "RL=100.0;                             #Resistance of load in \u03a9\n",
      "\n",
      "#Calculation\n",
      "Req=R1+pR(R3+R4,R2);                 #Equivalent resistance after removing RL ,in \u03a9\n",
      "I=E/Req;                             #Total circuit current in A\n",
      "I8=I*R2/(R2+R3+R4);\n",
      "\n",
      "#Thevenin's equivalent circuit's parameters\n",
      "E0=I8*R4;                                         #Thevenin voltage V\n",
      "R0=pR(pR(R1,R2)+R3,R4);                           #Thevenin resistance   \n",
      "I_RL=E0/(R0+RL);                                  #Load current in A  \n",
      "\n",
      "#Result \n",
      "print (\"Current through load = %.2f A.\"%I_RL);\n"
     ],
     "language": "python",
     "metadata": {},
     "outputs": [
      {
       "output_type": "stream",
       "stream": "stdout",
       "text": [
        "Current through load = 0.19 A.\n"
       ]
      }
     ],
     "prompt_number": 3
    },
    {
     "cell_type": "heading",
     "level": 2,
     "metadata": {},
     "source": [
      "Example 1.9: Page number 17"
     ]
    },
    {
     "cell_type": "code",
     "collapsed": false,
     "input": [
      "#Function for calculating parallel resistance\n",
      "def pR(R1,R2):\n",
      "    return((R1*R2)/(R1+R2));\n",
      "\n",
      "\n",
      "#Variable declaration\n",
      "V=20.0;                           #Voltage source in V\n",
      "R1=1000.0;                        #resistance of resistor 1 in \u03a9\n",
      "R2=1000.0;                        #resistance of resistor 2 in \u03a9\n",
      "R3=1000.0;                        #resistance of resistor 3 in \u03a9\n",
      "\n",
      "#calculation\n",
      "#parameter for Thevenin's equivalent circuit\n",
      "E0=(V*R3)/(R1+R3);                         #thevenin voltage in V\n",
      "R0=pR(R1,R3)+R2;                     #Thevenins resistance in \u03a9\n",
      "\n",
      "#result\n",
      "print(\"The thevenin voltage = %d V\"%E0);\n",
      "print(\"The thevenin resistance = %d \u03a9\"%R0);\n"
     ],
     "language": "python",
     "metadata": {},
     "outputs": [
      {
       "output_type": "stream",
       "stream": "stdout",
       "text": [
        "The thevenin voltage = 10 V\n",
        "The thevenin resistance = 1500 \u03a9\n"
       ]
      }
     ],
     "prompt_number": 3
    },
    {
     "cell_type": "heading",
     "level": 2,
     "metadata": {},
     "source": [
      "Example 1.10: Page number 18"
     ]
    },
    {
     "cell_type": "code",
     "collapsed": false,
     "input": [
      "#Variable declaration\n",
      "V=120.0;                          #Supply voltage in V\n",
      "R1=40.0;                          #Resistor 1's resistance in \u03a9\n",
      "R2=20.0;                          #Resistor 2's resistance in \u03a9\n",
      "R3=60.0;                          #Resistor 3's resistance in \u03a9\n",
      "\n",
      "#Calculations\n",
      "#Using Thevenin's theorem, Thevenin's voltage and resistance are calculated\n",
      "E0=(V*R2)/(R1+R2);                  #Thevenin voltage (voltage across the load resistance RL, after removing RL)in V\n",
      "R0=(R1*R2)/(R1+R2) + R3;                 #Thevenin's resistance (Resistance between the terminals of load RL, with RL removed and source voltage shorted)in \u03a9                \n",
      "RL=R0;                              #Value of load resistance to be connected for maximum power transfer in \u03a9\n",
      "Pmax=pow(E0,2)/(4*RL);              #Maximum power transferred to load in watts\n",
      "\n",
      "#Results\n",
      "print(\"The value of load resistance RL to which maximum power will be transferred = %.2f \u03a9.\"%RL);\n",
      "print(\"The maximum power transferred to load =%.2f W.\"%Pmax);\n"
     ],
     "language": "python",
     "metadata": {},
     "outputs": [
      {
       "output_type": "stream",
       "stream": "stdout",
       "text": [
        "The value of load resistance RL to which maximum power will be transferred = 73.33 \u03a9.\n",
        "The maximum power transferred to load =5.45 W.\n"
       ]
      }
     ],
     "prompt_number": 1
    },
    {
     "cell_type": "heading",
     "level": 2,
     "metadata": {},
     "source": [
      "Example 1.11: Page number 18-19-20"
     ]
    },
    {
     "cell_type": "code",
     "collapsed": false,
     "input": [
      "#Variable declaration\n",
      "V=80.0;                           #Supply voltage in V\n",
      "R1=100.0;                         #Resistor 1's resistance in \u03a9\n",
      "R2=100.0;                         #Resistor 2's resistance in \u03a9\n",
      "R3=30.0;                          #Resistor 3's resistance in \u03a9\n",
      "R4=80.0;                          #Resistor 4's resistance in \u03a9\n",
      "R5=20.0;                          #Resistor 5's resistance in \u03a9\n",
      "R6=60.0;                          #Resistor 6's resistance in \u03a9\n",
      "R7=20.0;                          #Resistor 7's resistance in \u03a9\n",
      "R8=50.0;                          #Resistor 8's resistance in \u03a9\n",
      "\n",
      "#Calculations\n",
      "#Using Thevenin's theorem,\n",
      "E0=(V*R2)/(R1+R2);              #Thevenin's voltage for the circuit containing V, R1, R2 in V.\n",
      "R0=(R1*R2)/(R1+R2);             #Thevenin's resistance for R1, R2 in \u03a9.\n",
      "\n",
      "#Using Thevenin's theorem again on E0, R0 and rest of the circuit resistors.\n",
      "E0_1=(E0*R4)/(R0+R3+R4);                #Thevenin's voltage for the cicruit containing E0, R0, R3, R4 in V\n",
      "R0_1=((R0+R3)*R4)/(R0+R3+R4);           #Thevenin's resistance of R0,R3,R4 (R0 and R3 in series and both in parallel with R4), in \u03a9 \n",
      "\n",
      "#Using Thevenin's theorem again on E0_1, R0_1, and rest of the circuit resistors.\n",
      "E0_2=(E0_1*R6)/(R0_1+R5+R6);                       #Thevenin's voltage for the circuit containing E0_1, R0_1, R5, R6 in V\n",
      "R0_2=((R0_1+R5)*R6)/(R0_1+R5+R6);                  #Thevenin's resistance of R0_1,R5,R6 (R0 and R3 in series and both in parallel with R4), in \u03a9\n",
      "\n",
      "\n",
      "I_50=E0_2/(R0_2+R7+R8);                           #Current through the 50 \u03a9 resistor in A\n",
      "\n",
      "\n",
      "#Results\n",
      "print(\"The current through the 50 \u03a9 resistor =%.1f A.\"%I_50);"
     ],
     "language": "python",
     "metadata": {},
     "outputs": [
      {
       "output_type": "stream",
       "stream": "stdout",
       "text": [
        "The current through the 50 \u03a9 resistor =0.1 A.\n"
       ]
      }
     ],
     "prompt_number": 2
    },
    {
     "cell_type": "heading",
     "level": 2,
     "metadata": {},
     "source": [
      "Example 1.12: Page number 22\n"
     ]
    },
    {
     "cell_type": "code",
     "collapsed": false,
     "input": [
      "\n",
      "from math import floor\n",
      "#Variable declaration\n",
      "V=40.0;                       #Voltage supply in V\n",
      "R1=4.0;                       #Resistor 1's resistance in \u03a9\n",
      "R2=6.0;                       #Resistor 2's resistance in \u03a9\n",
      "R3=5.0;                       #Resistor 3's resistance in \u03a9\n",
      "R4=8.0;                       #Resistor 4's resistance in \u03a9\n",
      "\n",
      "\n",
      "#Calculation\n",
      "#Using Norton's theorem,\n",
      "#calculating Norton current by removing the load resistance R4 and short circuiting those two terminals of the circuit\n",
      "R=R1 + (R2*R3)/(R2+R3);         #Load on source after removing R4 resistor, in  \u03a9\n",
      "I=V/R;                          #Source current in A\n",
      "\n",
      "#Using current dividing rule ,calculating the short circuit current.\n",
      "I_N=(I*R2)/(R2+R3);             #Norton's equivalent current or the short circuit current in A\n",
      "\n",
      "R_N=R3 + (R1*R2)/(R1+R2);       #Norton's equivalent resistance in \u03a9\n",
      "\n",
      "I_8=(I_N*R_N)/(R_N+R4);         #Current through the 8 \u03a9 resistance in A\n",
      "\n",
      " \n",
      "\n",
      "#Results\n",
      "print(\"The current through the 8\u03a9 resistance =%.2f A.\"%I_8);\n",
      "\n",
      "#Note: The answer in the book is 1.55 A, but in the above code the approximate value is obtained, i.e not 1.55A but 1.56A\n",
      "\n"
     ],
     "language": "python",
     "metadata": {},
     "outputs": [
      {
       "output_type": "stream",
       "stream": "stdout",
       "text": [
        "The current through the 8\u03a9 resistance =1.56 A.\n"
       ]
      }
     ],
     "prompt_number": 5
    },
    {
     "cell_type": "heading",
     "level": 2,
     "metadata": {},
     "source": [
      "Example 1.13 :Page number 23\n"
     ]
    },
    {
     "cell_type": "code",
     "collapsed": false,
     "input": [
      "#Variable declaration\n",
      "V1=30.0;                #Voltage source 1, V\n",
      "V2=18.0;                #Voltage source 2, V\n",
      "R1=20.0;                #1st resistor, \u03a9\n",
      "R2=10.0;                #2nd resistor, \u03a9\n",
      "\n",
      "\n",
      "#Calculations\n",
      "\n",
      "#Finding Thevenin's Equivalent circuit\n",
      "I=(V1-V2)/(R1+R2);              #Current in the circuit, A\n",
      "\n",
      "#Applying Kirchhoff's voltage law to 1st loop of the circuit,\n",
      "#V1-I*R1-E0=0, where E0 is the voltage across the points X-Y.\n",
      "E0=V1-I*R1;                     #Thevenin's voltage source, V\n",
      "\n",
      "R0=R1*R2/(R1+R2);               #Thevenin's resistance, \u03a9\n",
      "\n",
      "#Finding Norton's equivalent circuit\n",
      "IN=E0/R0;                   #Norton's equivalent current source, A\n",
      "RN=R0;                      #Norton's equivanlent resistance, \u03a9\n",
      "\n",
      "#Result\n",
      "print(\"IN=%.1fA and RN=%.2f \u03a9\"%(IN,RN));\n"
     ],
     "language": "python",
     "metadata": {},
     "outputs": [
      {
       "output_type": "stream",
       "stream": "stdout",
       "text": [
        "IN=3.3A and RN=6.67 \u03a9\n"
       ]
      }
     ],
     "prompt_number": 4
    },
    {
     "cell_type": "code",
     "collapsed": false,
     "input": [],
     "language": "python",
     "metadata": {},
     "outputs": []
    }
   ],
   "metadata": {}
  }
 ]
}