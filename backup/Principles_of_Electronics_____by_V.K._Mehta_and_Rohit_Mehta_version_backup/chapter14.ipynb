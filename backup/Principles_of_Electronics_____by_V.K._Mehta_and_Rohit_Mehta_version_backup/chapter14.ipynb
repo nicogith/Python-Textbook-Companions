{
 "metadata": {
  "name": "",
  "signature": "sha256:ec0d27209d08b0b95750f66ce9ee21af5ef586e23d0bf0ea218aa20a4ce63e43"
 },
 "nbformat": 3,
 "nbformat_minor": 0,
 "worksheets": [
  {
   "cells": [
    {
     "cell_type": "markdown",
     "metadata": {},
     "source": [
      "#CHAPTER 14: SINUSOIDAL OSCILLATORS"
     ]
    },
    {
     "cell_type": "heading",
     "level": 2,
     "metadata": {},
     "source": [
      "Example 14.1 : Page number 371-372\n"
     ]
    },
    {
     "cell_type": "code",
     "collapsed": false,
     "input": [
      "from math import sqrt\n",
      "from math import pi\n",
      "\n",
      "#Variable declaration\n",
      "L1=58.6;                #Inductance, micro henry\n",
      "C1=300.0;               #Capacitance, pF\n",
      "\n",
      "#Calculation\n",
      "f=(1/(2*round(pi,2)*sqrt(L1*10**-6*C1*10**-12)))/1000;         #Frequency of oscillation, kHz\n",
      "\n",
      "\n",
      "#Result\n",
      "print(\"frequency of oscillation=%dkHz\"%f);\n",
      "\n",
      "\n",
      "#Note : The frequency has been calculated in the text  as 1199kHz but here the answer gets approximated to 1200kHz.\n"
     ],
     "language": "python",
     "metadata": {},
     "outputs": [
      {
       "output_type": "stream",
       "stream": "stdout",
       "text": [
        "frequency of oscillation=1200kHz\n"
       ]
      }
     ],
     "prompt_number": 2
    },
    {
     "cell_type": "heading",
     "level": 2,
     "metadata": {},
     "source": [
      "Example 14.2 : Page number 372\n"
     ]
    },
    {
     "cell_type": "code",
     "collapsed": false,
     "input": [
      "from math import pi\n",
      "\n",
      "#Variable declaration\n",
      "L1=1.0;                     #Inductance , mH\n",
      "f=1.0;                      #frequency of oscillation, GHz\n",
      "\n",
      "#Calculation\n",
      "#Since, f=1/(2*pi*sqrt(L1*C1)),\n",
      "C1=(1/(L1*10**-3*(f*10**12*2*pi)**2))*10**12;               #Capacitance, pF\n",
      "\n",
      "\n",
      "#Result\n",
      "print(\"The Capacitance of the capacitor of the LC oscillator=%.2epF\"%C1);\n"
     ],
     "language": "python",
     "metadata": {},
     "outputs": [
      {
       "output_type": "stream",
       "stream": "stdout",
       "text": [
        "The Capacitance of the capacitor of the LC oscillator=2.53e-11pF\n"
       ]
      }
     ],
     "prompt_number": 3
    },
    {
     "cell_type": "heading",
     "level": 2,
     "metadata": {},
     "source": [
      "Example 14.3 : Page number 373-374\n"
     ]
    },
    {
     "cell_type": "code",
     "collapsed": false,
     "input": [
      "from math import pi\n",
      "from math import sqrt\n",
      "\n",
      "#Variable declaration\n",
      "C1=0.001;               #Capacitor C1, microfarad\n",
      "C2=0.01;                #Capacitor C2, microfarad\n",
      "L=15.0;                 #Inductance, microhenry\n",
      "\n",
      "#Calculation\n",
      "CT=C1*C2/(C1+C2);               #Total capacitance\n",
      "\n",
      "#(i) Operating frequency\n",
      "f=(1/(2*pi*sqrt(CT*10**-6*L*10**-6)))/1000;             #Operating frequency, kHz\n",
      "\n",
      "#(ii) Feedback fraction\n",
      "mv=C1/C2;                                   #Feedback fraction\n",
      "\n",
      "#Result\n",
      "print(\"(i)  The operating frequency=%dkHz\"%f);\n",
      "print(\"(ii) The feedback fraction=%.1f\"%mv);\n",
      "\n",
      "#Note : The operating frequency is calculated in the text as 1361kHz but here it has been approximated to 1362kHz\n"
     ],
     "language": "python",
     "metadata": {},
     "outputs": [
      {
       "output_type": "stream",
       "stream": "stdout",
       "text": [
        "(i)  The operating frequency=1362kHz\n",
        "(ii) The feedback fraction=0.1\n"
       ]
      }
     ],
     "prompt_number": 4
    },
    {
     "cell_type": "heading",
     "level": 2,
     "metadata": {},
     "source": [
      "Example 14.4 : Page number 374: Page number\n"
     ]
    },
    {
     "cell_type": "code",
     "collapsed": false,
     "input": [
      "from math import pi\n",
      "\n",
      "#Variable declaration\n",
      "mv=0.25;                    #Feedback fraction\n",
      "L=1.0;                      #Inductance, mH\n",
      "f=1.0;                      #Operating frequeny, MHz\n",
      "\n",
      "#Calculation\n",
      "#Since, f=1/(2*pi*sqrt(L*C))\n",
      "CT=round((1/(L*10**-3*(2*pi*f*10**6)**2))*10**12,1);              #Total capacitance, pF\n",
      "\n",
      "#Since, mv=C1/C2 and CT=C1*C2/(C1+C2) or CT=C2/(1+ (C2/C1)),\n",
      "#From the above equations, substituting value of mv and calculaing value of C2,\n",
      "C2=CT*(1+(1/mv));               #Capacitance of C2 capactior, pF\n",
      "C1=mv*C2;                       #Capacitance of C1 capacitor, pF\n",
      "\n",
      "#Result\n",
      "print(\"C1=%.1fpF and C2=%.1fpF\"%(C1,C2));\n"
     ],
     "language": "python",
     "metadata": {},
     "outputs": [
      {
       "output_type": "stream",
       "stream": "stdout",
       "text": [
        "C1=31.6pF and C2=126.5pF\n"
       ]
      }
     ],
     "prompt_number": 5
    },
    {
     "cell_type": "heading",
     "level": 2,
     "metadata": {},
     "source": [
      "Example 14.5 : Page number 375-376\n"
     ]
    },
    {
     "cell_type": "code",
     "collapsed": false,
     "input": [
      "from math import sqrt\n",
      "from math import pi\n",
      "\n",
      "#Variable decalaration\n",
      "L1=1000.0;                  #Inductance of L1 inductor, microhenry\n",
      "L2=100.0;                   #Inductance of L2 inductor, microhenry\n",
      "M=20.0;                     #Mutual inductance, microhenry\n",
      "C=20.0;                     #Capacitance, pF\n",
      "\n",
      "#Calculation\n",
      "LT=L1+L2+2*M;                   #Total inductance, microhenry\n",
      "\n",
      "#(i) Operating frequency\n",
      "f=(1/(2*pi*sqrt(LT*10**-6*C*10**-12)))/1000;           #Operating frequency, kHz\n",
      "\n",
      "#(ii)\n",
      "mv=L2/L1;                   #feedback fraction\n",
      "\n",
      "#Result\n",
      "print(\"(i)  The operating frequency=%dkHz.\"%f);\n",
      "print(\"(ii) The feedback fraction=%.1f.\"%mv);\n",
      "\n",
      "#Note : The operating frequecy has been calculated in the text as 1052kHz but here it gets approximated to 1054kHz\n"
     ],
     "language": "python",
     "metadata": {},
     "outputs": [
      {
       "output_type": "stream",
       "stream": "stdout",
       "text": [
        "(i)  The operating frequency=1054kHz.\n",
        "(ii) The feedback fraction=0.1.\n"
       ]
      }
     ],
     "prompt_number": 6
    },
    {
     "cell_type": "heading",
     "level": 2,
     "metadata": {},
     "source": [
      "Example 14.6 : Page number 376\n"
     ]
    },
    {
     "cell_type": "code",
     "collapsed": false,
     "input": [
      "from math import pi\n",
      "\n",
      "#Variable declaration\n",
      "C=1.0;                  #Capacitance, pF\n",
      "f=1.0;                  #Frequency, MHz\n",
      "mv=0.2;                 #Feedback frequency\n",
      "\n",
      "\n",
      "#Calculation\n",
      "LT=(1/(C*10**-12*(2*pi*f*10**6)**2))*1000;               #Total inductance, mH\n",
      "\n",
      "#Since, mv=L2/L1 or L2=mv*L1 and L1+L2=LT or L1(1+mv)=LT,\n",
      "L1=LT/(1+mv);                   #Inductance of L1 inductor, mH\n",
      "L2=L1*mv;                       #inductance of L2 inductor, mH\n",
      "\n",
      "#Result\n",
      "print(\"L1=%.1fmH and L2=%.2fmH.\"%(L1,L2));\n"
     ],
     "language": "python",
     "metadata": {},
     "outputs": [
      {
       "output_type": "stream",
       "stream": "stdout",
       "text": [
        "L1=21.1mH and L2=4.22mH.\n"
       ]
      }
     ],
     "prompt_number": 7
    },
    {
     "cell_type": "heading",
     "level": 2,
     "metadata": {},
     "source": [
      "Example 14.7 : Page number 378\n"
     ]
    },
    {
     "cell_type": "code",
     "collapsed": false,
     "input": [
      "from math import sqrt\n",
      "from math import pi\n",
      "\n",
      "#Variable declaration\n",
      "R1=1.0;                 #Resistor R1, mega ohm\n",
      "R2=R1;                  #Resistor R2, mega ohm\n",
      "R3=R1;                  #Resistor R3, mega ohm\n",
      "C1=68.0;                #Capacitor C1, pF\n",
      "C2=C1;                  #Capacitor C2, pF\n",
      "C3=C1;                  #Capacitor C3, pF\n",
      "\n",
      "\n",
      "#Calculation\n",
      "R=R1*10**6;                   #Resistance of the resistors of phase shift circuit, ohm\n",
      "C=C1*10**-12;                 #Capacitance of the capacitors of phase shift circuit, F\n",
      "fo=1/(2*pi*R*C*sqrt(6));      #Frequency of oscillation, Hz\n",
      "\n",
      "#Result\n",
      "print(\"The frequency of oscillation=%dHz\"%fo);\n",
      "\n",
      "#Note: The frequency of oscillation had been calculated in the text as 954Hz, but here it gets approximated to 955 HZ.\n"
     ],
     "language": "python",
     "metadata": {},
     "outputs": [
      {
       "output_type": "stream",
       "stream": "stdout",
       "text": [
        "The frequency of oscillation=955Hz\n"
       ]
      }
     ],
     "prompt_number": 8
    },
    {
     "cell_type": "heading",
     "level": 2,
     "metadata": {},
     "source": [
      "Example 14.8 : Page number 378\n"
     ]
    },
    {
     "cell_type": "code",
     "collapsed": false,
     "input": [
      "from math import pi\n",
      "from math import sqrt\n",
      "\n",
      "#Variable declaration\n",
      "C=5.0;                      #Capacitance of the capacitors of phase shift circuit, pF\n",
      "fo=800.0;                    #Required frequency of oscillation, kHz\n",
      "\n",
      "#Calculation\n",
      "#Since, fo=1/(2*pi*R*C*sqrt(6))\n",
      "R=(1/(2*pi*C*10**-12*fo*10**3*sqrt(6)))/1000;                   #Resistance of the resistors of phase shift circuit, kilo ohm\n",
      "\n",
      "#Result\n",
      "print(\"R=%.1f kilo ohm.\"%R);\n"
     ],
     "language": "python",
     "metadata": {},
     "outputs": [
      {
       "output_type": "stream",
       "stream": "stdout",
       "text": [
        "R=16.2 kilo ohm.\n"
       ]
      }
     ],
     "prompt_number": 9
    },
    {
     "cell_type": "heading",
     "level": 2,
     "metadata": {},
     "source": [
      "Example 14.9 : Page number 380\n"
     ]
    },
    {
     "cell_type": "code",
     "collapsed": false,
     "input": [
      "from math import pi\n",
      "\n",
      "#Variable declaration\n",
      "#Resistance of R1 and R2 resistors of the R-C bridge circuit\n",
      "R1=220.0;                           #kilo ohm \n",
      "R2=220.0;                           #kilo ohm\n",
      "\n",
      "#Capacitance of C1 and C2 the capacitors of the R-C bridge circuit\n",
      "C1=250.0;                           #pF\n",
      "C2=250.0;                           #pF\n",
      "\n",
      "#Calculation\n",
      "#Since, R1=R2 and C1=C2, R1=R2 is taken as R and C1=C2 is taken as C\n",
      "#And, f=1/(2*pi*sqrt(R1*R2*C1*C2))is transformed to f=1/(2*pi*R*C).\n",
      "R=R1*10**3;                                   #kilo ohm\n",
      "C=C1*10**-12;                                   #pF\n",
      "f=1/(2*pi*R*C);           #Frequency of oscillation, Hz\n",
      "\n",
      "\n",
      "#Result\n",
      "print(\"The frequency of oscillation=%dHz.\"%f);\n",
      "\n",
      "\n",
      "#Note : The frequency of oscillation is calculated in the text as 2892Hz but here it gets approximated to 2893 Hz.\n"
     ],
     "language": "python",
     "metadata": {},
     "outputs": [
      {
       "output_type": "stream",
       "stream": "stdout",
       "text": [
        "The frequency of oscillation=2893Hz.\n"
       ]
      }
     ],
     "prompt_number": 10
    },
    {
     "cell_type": "heading",
     "level": 2,
     "metadata": {},
     "source": [
      "Example 14.11 : Page number 384\n"
     ]
    },
    {
     "cell_type": "code",
     "collapsed": false,
     "input": [
      "from math import sqrt\n",
      "from math import pi\n",
      "\n",
      "#Variable declaration\n",
      "#a.c equivalent values of the crystal:\n",
      "L=1.0;                          #Inductance , H\n",
      "C=0.01;                         #Capacitance , pF\n",
      "R=1000.0;                       #Resistance , ohm\n",
      "Cm=20.0;                        #Mounting capacitance, pF\n",
      "\n",
      "#Calculation\n",
      "fs=(1/(2*round(pi,2)*sqrt(L*C*10**-12)))/1000;               #Series resonant frrequency, kHz\n",
      "CT=(C*Cm/(C+Cm));                                            #Total capacitance, pF\n",
      "fp=(1/(2*round(pi,2)*sqrt(L*CT*10**-12)))/1000;              #Prallel resonant frequency, kHz\n",
      "\n",
      "#Result\n",
      "print(\"fs=%.0fkHz and fp=%.0fkHz.\"%(fs,fp));\n",
      "\n",
      "#Note: fs and fp are calculated in the text as 1589kHz and 1590kHz, but here it gets approximated to 1592kHz and 1593kHz\n"
     ],
     "language": "python",
     "metadata": {},
     "outputs": [
      {
       "output_type": "stream",
       "stream": "stdout",
       "text": [
        "fs=1592kHz and fp=1593kHz.\n"
       ]
      }
     ],
     "prompt_number": 11
    },
    {
     "cell_type": "code",
     "collapsed": false,
     "input": [],
     "language": "python",
     "metadata": {},
     "outputs": []
    },
    {
     "cell_type": "code",
     "collapsed": false,
     "input": [],
     "language": "python",
     "metadata": {},
     "outputs": []
    },
    {
     "cell_type": "code",
     "collapsed": false,
     "input": [],
     "language": "python",
     "metadata": {},
     "outputs": []
    },
    {
     "cell_type": "code",
     "collapsed": false,
     "input": [],
     "language": "python",
     "metadata": {},
     "outputs": []
    }
   ],
   "metadata": {}
  }
 ]
}