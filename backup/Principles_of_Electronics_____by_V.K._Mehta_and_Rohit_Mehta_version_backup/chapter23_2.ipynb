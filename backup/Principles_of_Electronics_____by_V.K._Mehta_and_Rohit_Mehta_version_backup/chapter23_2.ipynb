{
 "metadata": {
  "name": "",
  "signature": "sha256:87bd5c8d9448f5bb2e75909f89934a6fb2b64e65e6ea37b085ce080a58026071"
 },
 "nbformat": 3,
 "nbformat_minor": 0,
 "worksheets": [
  {
   "cells": [
    {
     "cell_type": "heading",
     "level": 1,
     "metadata": {},
     "source": [
      "CHAPTER 23 : INTEGRATED CIRCUITS"
     ]
    },
    {
     "cell_type": "heading",
     "level": 2,
     "metadata": {},
     "source": [
      "Example 23.1: Page number 637"
     ]
    },
    {
     "cell_type": "code",
     "collapsed": false,
     "input": [
      "#Variable declaration\n",
      "R1=240;                     #Adjusted resistance of R2 resistor of LM317 voltage regulator, in kilo ohm\n",
      "R2=2.4;                     #Fixed value of R1 resistor of LM317 voltage regulator, in ohm\n",
      "\n",
      "#Calculations\n",
      "#Output voltage of LM317 voltage regulator IC = 1.25(R2/R1 +1)\n",
      "Vout=1.25*((R2*1000)/R1 + 1);                      #Regulated d.c output voltage for the circuit in V\n",
      "\n",
      "#Results\n",
      "print(\"The regulated d.c output voltage = %.2fV\"%Vout);\n"
     ],
     "language": "python",
     "metadata": {},
     "outputs": [
      {
       "output_type": "stream",
       "stream": "stdout",
       "text": [
        "The regulated d.c output voltage = 13.75V\n"
       ]
      }
     ],
     "prompt_number": 1
    },
    {
     "cell_type": "heading",
     "level": 2,
     "metadata": {},
     "source": [
      "Example 23.2 : Page number 638"
     ]
    },
    {
     "cell_type": "code",
     "collapsed": false,
     "input": [
      "#Variable declaration\n",
      "R=1.2;                  #Value of resistance of monostable multivibrator in kilo ohm\n",
      "C=0.1;                  #Value of capacitance of monostable multivibrator in microfarad\n",
      "\n",
      "#Calculations\n",
      "T=1.1*(R*1000)*C;              #Time for which the circuit is ON, in microseconds\n",
      "\n",
      "#Results\n",
      "print(\"Time for which the circuit is ON = %d microseconds.\"%T);                \n"
     ],
     "language": "python",
     "metadata": {},
     "outputs": [
      {
       "output_type": "stream",
       "stream": "stdout",
       "text": [
        "Time for which the circuit is ON = 132 microseconds.\n"
       ]
      }
     ],
     "prompt_number": 2
    },
    {
     "cell_type": "heading",
     "level": 2,
     "metadata": {},
     "source": [
      "Example 23.3 : Page number 639\n"
     ]
    },
    {
     "cell_type": "code",
     "collapsed": false,
     "input": [
      "#Variable declaration\n",
      "R1=3.0;                       #Resistance of R1 resistor of 555 timer circuit in kilo ohm\n",
      "R2=2.7;                       #Resistance of R2 resistor of 555 timer circuit in kilo ohm\n",
      "C=0.033;                      #Capacitance of the capacitor of 555 timer circuit in microfarad\n",
      "\n",
      "#Calculations\n",
      "f=1.44/(((R1*1000) + 2*(R2*1000))*(C*pow(10,-6)));                   #Frequency of the circuit in Hz\n",
      "f=f/1000;                                                            #Frequency of the circuit in kHz\n",
      "\n",
      "#Results\n",
      "print(\"The frequency of the circuit = %.2fkHz\"%f);\n",
      "\n",
      "\n"
     ],
     "language": "python",
     "metadata": {},
     "outputs": [
      {
       "output_type": "stream",
       "stream": "stdout",
       "text": [
        "The frequency of the circuit = 5.19kHz\n"
       ]
      }
     ],
     "prompt_number": 3
    }
   ],
   "metadata": {}
  }
 ]
}