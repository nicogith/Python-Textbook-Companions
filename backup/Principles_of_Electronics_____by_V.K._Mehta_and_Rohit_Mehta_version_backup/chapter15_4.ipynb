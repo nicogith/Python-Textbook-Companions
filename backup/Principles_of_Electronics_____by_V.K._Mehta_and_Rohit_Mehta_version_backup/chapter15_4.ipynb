{
 "metadata": {
  "name": "",
  "signature": "sha256:034eec32676d4e7abdedfb3bf68426d81a2d1483fc668bcbfdb5be18cec2e406"
 },
 "nbformat": 3,
 "nbformat_minor": 0,
 "worksheets": [
  {
   "cells": [
    {
     "cell_type": "heading",
     "level": 1,
     "metadata": {},
     "source": [
      "CHAPTER 15: TRANSISTOR TUNED AMPLIFIERS"
     ]
    },
    {
     "cell_type": "heading",
     "level": 2,
     "metadata": {},
     "source": [
      "Example 15.1 : Page number 394"
     ]
    },
    {
     "cell_type": "code",
     "collapsed": false,
     "input": [
      "from math import sqrt\n",
      "from math import pi\n",
      "\n",
      "#Variable declaration\n",
      "C=250.0*10**-12;                       #Capacitor of parallel resonant circuit, F\n",
      "L=1.25*10**-3;                         #Inductor of the parallel resonant circuit, H\n",
      "R=10.0;                                #Resistor of the parallel resonant circuit, ohm\n",
      "\n",
      "#Calculation\n",
      "#(i) Resonant frequency\n",
      "fr=((1/(2*pi))*sqrt((1/(L*C))-(R/L)**2))/1000;                         #Resonant frequecy, kHz\n",
      "\n",
      "#(ii)  Impedance of the circuit at resonance\n",
      "Zr=(L/(C*R))/1000;                          #Impedance of the circuit at resonance, kilo ohm\n",
      "\n",
      "#(iii) Quality factor of the circuit\n",
      "Q=2*pi*(fr*10**3)*L/R;                          #Quality factor of the circuit\n",
      "\n",
      "#Result\n",
      "print(\"(i) The resonant frequency=%.1fkHz.\"%fr);\n",
      "print(\"(ii) The impedance of the circuit at resonance=%d kilo ohm.\"%Zr);\n",
      "print(\"(iii) The quality factor of the circuit=%.1f.\"%Q);\n"
     ],
     "language": "python",
     "metadata": {},
     "outputs": [
      {
       "output_type": "stream",
       "stream": "stdout",
       "text": [
        "(i) The resonant frequency=284.7kHz.\n",
        "(ii) The impedance of the circuit at resonance=500 kilo ohm.\n",
        "(iii) The quality factor of the circuit=223.6.\n"
       ]
      }
     ],
     "prompt_number": 2
    },
    {
     "cell_type": "heading",
     "level": 2,
     "metadata": {},
     "source": [
      "Example 15.2 : Page number 394-395\n"
     ]
    },
    {
     "cell_type": "code",
     "collapsed": false,
     "input": [
      "from math import sqrt\n",
      "from math import pi\n",
      "\n",
      "#Variable declaration\n",
      "C=100.0*10**-12;                        #Capacitor of parallel resonant circuit, F\n",
      "L=100.0*10**-6;                         #Inductor of the parallel resonant circuit, H\n",
      "R=10.0;                                 #Resistor of the parallel resonant circuit, ohm\n",
      "V=10.0;                                 #Supply voltage, V\n",
      "\n",
      "#Calculation\n",
      "#(i) Resonant frequency\n",
      "fr=((1/(2*pi))*sqrt((1/(L*C))-(R/L)**2))/1000;                         #Resonant frequecy, kHz\n",
      "\n",
      "#(ii)  Impedance of the circuit at resonance\n",
      "Zr=(L/(C*R))/10**6;                          #Impedance of the circuit at resonance, mega ohm\n",
      "\n",
      "I=V/Zr;                                     #Line current at resonance, microampere\n",
      "\n",
      "#Result\n",
      "print(\"(i) The resonant frequency=%.2fkHz.\"%fr);\n",
      "print(\"(ii) The impedance of the circuit at resonance=%.1f mega ohm.\"%Zr);\n",
      "print(\"The line current at resonance=%d micro ampere.\"%I);\n",
      "\n",
      "#Note : The resonant frequency in the text has been calculated as 1592.28 kHz, but here it gets approximated to 1591.47 kHz.\n"
     ],
     "language": "python",
     "metadata": {},
     "outputs": [
      {
       "output_type": "stream",
       "stream": "stdout",
       "text": [
        "(i) The resonant frequency=1591.47kHz.\n",
        "(ii) The impedance of the circuit at resonance=0.1 mega ohm.\n",
        "The line current at resonance=100 micro ampere.\n"
       ]
      }
     ],
     "prompt_number": 1
    },
    {
     "cell_type": "heading",
     "level": 2,
     "metadata": {},
     "source": [
      "Example 15.3 : Page number 395\n"
     ]
    },
    {
     "cell_type": "code",
     "collapsed": false,
     "input": [
      "from math import sqrt\n",
      "from math import pi\n",
      "\n",
      "#Variable declaration\n",
      "C=250.0*10**-12;                              #Capacitor of parallel resonant circuit, F\n",
      "Zr=500.0*10**3;                               #Dynamic impedance, ohm\n",
      "R=10.0;                                       #Resistance of the coil, ohm\n",
      "\n",
      "\n",
      "#Calculation\n",
      "#(i)\n",
      "#Since,Zr=L/CR,\n",
      "L=(Zr*C*R)*10**3;                           #Inductance of the coil, mH\n",
      "\n",
      "#(ii) Resonant frequency\n",
      "fr=((1/(2*pi))*sqrt((1/(L*10**-3*C))-(R/(L*10**-3))**2))/1000;                         #Resonant frequecy, kHz\n",
      "\n",
      "#(iii) Quality factor of the circuit\n",
      "Q=2*pi*(fr*10**3)*(L*10**-3)/R;                          #Quality factor of the circuit\n",
      "\n",
      "#Result\n",
      "print(\"(i) The inductance of the coil=%.2fmH.\"%L);\n",
      "print(\"(ii) The resonant frequency=%.1fkHz.\"%fr);\n",
      "print(\"(iii) The quality factor of the circuit=%.1f.\"%Q);\n"
     ],
     "language": "python",
     "metadata": {},
     "outputs": [
      {
       "output_type": "stream",
       "stream": "stdout",
       "text": [
        "(i) The inductance of the coil=1.25mH.\n",
        "(ii) The resonant frequency=284.7kHz.\n",
        "(iii) The quality factor of the circuit=223.6.\n"
       ]
      }
     ],
     "prompt_number": 3
    },
    {
     "cell_type": "heading",
     "level": 2,
     "metadata": {},
     "source": [
      "Example 15.4  : Page number 397\n"
     ]
    },
    {
     "cell_type": "code",
     "collapsed": false,
     "input": [
      "#Variable declaration\n",
      "Q=60.0;                     #Quality factor of the tuned amplifier\n",
      "fr=1200.0;                  #Resonant frequency, kHz\n",
      "\n",
      "#Calculation\n",
      "#(i)\n",
      "BW=fr/Q;                    #Bandwidth, kHz\n",
      "\n",
      "#(ii)\n",
      "f1=fr-(BW/2);                       #Lower cut-off frequency, kHz\n",
      "f2=fr+(BW/2);                       #Upper cut-off frequency, kHz\n",
      "\n",
      "#Result\n",
      "print(\"(i)  The bandwidth=%dkHz\"%BW);\n",
      "print(\"(ii) The lower and upper cut-off frequencies are=%dkHz and %dkHz.\"%(f1,f2));\n"
     ],
     "language": "python",
     "metadata": {},
     "outputs": [
      {
       "output_type": "stream",
       "stream": "stdout",
       "text": [
        "(i)  The bandwidth=20kHz\n",
        "(ii) The lower and upper cut-off frequencies are=1190kHz and 1210kHz.\n"
       ]
      }
     ],
     "prompt_number": 4
    },
    {
     "cell_type": "heading",
     "level": 2,
     "metadata": {},
     "source": [
      "Example 15.5 : Page number 397\n"
     ]
    },
    {
     "cell_type": "code",
     "collapsed": false,
     "input": [
      "#Variable declaration\n",
      "fr=2.0;                     #Resonant frequency, MHz\n",
      "BW=50.0;                    #Bandwidth, kHz\n",
      "\n",
      "#Calculation\n",
      "#Since, bandwidth=resonant_frequency/quality_factor\n",
      "Q=(fr*10**6)/(BW*10**3);                            #Quality factor\n",
      "\n",
      "#Result\n",
      "print(\"The quality factor=%d\"%Q);\n"
     ],
     "language": "python",
     "metadata": {},
     "outputs": [
      {
       "output_type": "stream",
       "stream": "stdout",
       "text": [
        "The quality factor=40\n"
       ]
      }
     ],
     "prompt_number": 5
    },
    {
     "cell_type": "heading",
     "level": 2,
     "metadata": {},
     "source": [
      "Example 15.7 : Page number 400\n"
     ]
    },
    {
     "cell_type": "code",
     "collapsed": false,
     "input": [
      "from math import sqrt\n",
      "from math import pi\n",
      "\n",
      "#Variable declaration\n",
      "C=0.1*10**-6;                          #Capacitor of parallel resonant circuit, F\n",
      "L=33.0*10**-3;                         #Inductor of the parallel resonant circuit, H\n",
      "R=25.0;                                #Resistor of the parallel resonant circuit, ohm\n",
      "\n",
      "\n",
      "#Calculation\n",
      "#(i)\n",
      "fr=(1/(2*pi*sqrt(L*C)))/1000;                  #Resonant frequency, kHz\n",
      "\n",
      "#(ii)\n",
      "XL=2*pi*(fr*10**3)*L;                           #Inductive reactance, ohm\n",
      "Q=round(XL/R,0);                                #Quality factor\n",
      "\n",
      "#(iii)\n",
      "BW=(fr*10**3)/Q;                                #Bandwidth\n",
      "\n",
      "#Result\n",
      "print(\"(i)   The resonant frequency=%.2fkHz\"%fr);\n",
      "print(\"(ii)  The quality factor= %d.\"%Q);\n",
      "print(\"(iii) The bandwidth=%dHz.\"%BW);\n"
     ],
     "language": "python",
     "metadata": {},
     "outputs": [
      {
       "output_type": "stream",
       "stream": "stdout",
       "text": [
        "(i)   The resonant frequency=2.77kHz\n",
        "(ii)  The quality factor= 23.\n",
        "(iii) The bandwidth=120Hz.\n"
       ]
      }
     ],
     "prompt_number": 6
    },
    {
     "cell_type": "heading",
     "level": 2,
     "metadata": {},
     "source": [
      "Example 15.8 : Page number 401-402\n"
     ]
    },
    {
     "cell_type": "code",
     "collapsed": false,
     "input": [
      "#Variable declaration\n",
      "BW_dt=200.0;                       #Bandwidth, kHz\n",
      "fr=10.0;                        #Operating frequency, MHz\n",
      "\n",
      "#Calculation\n",
      "#Since, BW_dt=k*fr (i.e.,co-efficient_of_coupling * operating_frequency)\n",
      "k=BW_dt/(fr*10**3);                     #co-efficient of coupling\n",
      "\n",
      "#Result\n",
      "print(\"The co-efficient of coupling=%.2f.\"%k);\n"
     ],
     "language": "python",
     "metadata": {},
     "outputs": [
      {
       "output_type": "stream",
       "stream": "stdout",
       "text": [
        "The co-efficient of coupling=0.02.\n"
       ]
      }
     ],
     "prompt_number": 7
    },
    {
     "cell_type": "heading",
     "level": 2,
     "metadata": {},
     "source": [
      "Example 15.9 : Page number 405\n"
     ]
    },
    {
     "cell_type": "code",
     "collapsed": false,
     "input": [
      "from math import sqrt\n",
      "from math import pi\n",
      "\n",
      "#Variable declaration\n",
      "C=500.0*10**-12;                          #Capacitor of parallel resonant circuit, F\n",
      "L=50.7*10**-6;                            #Inductor of the parallel resonant circuit, H\n",
      "R=10.0;                                   #Resistor of the parallel resonant circuit, ohm\n",
      "RL=1.0;                                   #Load resistance, mega ohm\n",
      "\n",
      "#Calculation\n",
      "#(i)\n",
      "fr=round((1/(2*pi*sqrt(L*C)))/1000);                  #Resonant frequency, Hz\n",
      "\n",
      "#(ii)\n",
      "R_dc=R;                                             #d.c load, ohm\n",
      "XL=2*pi*(fr*1000)*L;                                       #Inductive reactance, ohm\n",
      "Q_coil=round(XL/R,1);                               #Quality factor\n",
      "R_P=(Q_coil*XL)/1000   ;                            #Equivalent parallel resistance, kilo ohm\n",
      "R_AC=(R_P*RL*10**3)/(R_P+RL*10**3);                 #A.C load,kilo ohm\n",
      "\n",
      "\n",
      "#Result\n",
      "print(\"(i)   The resonant frequency=%dkHz\"%fr);\n",
      "print(\"(ii)  d.c load=%d ohm and a.c load=%d kilo ohm.\"%(R_dc,R_AC));\n",
      "\n",
      "#Note: In the text resonant frequency has been wrongly calculated to 106kHz but its actual value is approximately 1000kHz\n"
     ],
     "language": "python",
     "metadata": {},
     "outputs": [
      {
       "output_type": "stream",
       "stream": "stdout",
       "text": [
        "(i)   The resonant frequency=1000kHz\n",
        "(ii)  d.c load=10 ohm and a.c load=10 kilo ohm.\n"
       ]
      }
     ],
     "prompt_number": 11
    },
    {
     "cell_type": "heading",
     "level": 2,
     "metadata": {},
     "source": [
      "Example 15.10 : Page number 406-407\n"
     ]
    },
    {
     "cell_type": "code",
     "collapsed": false,
     "input": [
      "#Variable declaration\n",
      "RL=50.0;                #Load resistance, ohm\n",
      "n=5;                    #Turns ratio of the transformer\n",
      "VCC=50.0;               #Supply voltage, V\n",
      "\n",
      "#Calculation\n",
      "#(i)\n",
      "R_ac=n**2*RL;               #A.C load, ohm\n",
      "\n",
      "#(ii)\n",
      "P_o_max=VCC**2/(2*R_ac);                #Maximum load power, W\n",
      "\n",
      "#Result\n",
      "print(\"(i)  The a.c load=%d ohm\"%R_ac);\n",
      "print(\"(ii) Maximum load power=%dW\"%P_o_max);\n"
     ],
     "language": "python",
     "metadata": {},
     "outputs": [
      {
       "output_type": "stream",
       "stream": "stdout",
       "text": [
        "(i)  The a.c load=1250 ohm\n",
        "(ii) Maximum load power=1W\n"
       ]
      }
     ],
     "prompt_number": 9
    },
    {
     "cell_type": "heading",
     "level": 2,
     "metadata": {},
     "source": [
      "Example 15.11 : Page number 407\n"
     ]
    },
    {
     "cell_type": "code",
     "collapsed": false,
     "input": [
      "#Variable declaration\n",
      "P_D=4.0;                    #Maximum power dissipation, mW\n",
      "P_o_max=1.0;                #Maximum load power, W\n",
      "\n",
      "\n",
      "#Calculation\n",
      "max_collector_eff=(P_o_max/(P_o_max+(P_D/1000)))*100;         #Maximum collector efficiency\n",
      "\n",
      "#Result\n",
      "print(\"The maximum collector efficiency=%.1f%%\"%max_collector_eff);\n"
     ],
     "language": "python",
     "metadata": {},
     "outputs": [
      {
       "output_type": "stream",
       "stream": "stdout",
       "text": [
        "The maximum collector efficiency=99.6%\n"
       ]
      }
     ],
     "prompt_number": 10
    },
    {
     "cell_type": "code",
     "collapsed": false,
     "input": [],
     "language": "python",
     "metadata": {},
     "outputs": []
    }
   ],
   "metadata": {}
  }
 ]
}