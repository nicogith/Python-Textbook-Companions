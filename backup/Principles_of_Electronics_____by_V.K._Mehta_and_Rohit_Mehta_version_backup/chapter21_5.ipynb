{
 "metadata": {
  "name": "",
  "signature": "sha256:412bf04e25192c77f9fa9664d995cc0ae6446a81f631fb5e0e755ebfa36436bf"
 },
 "nbformat": 3,
 "nbformat_minor": 0,
 "worksheets": [
  {
   "cells": [
    {
     "cell_type": "heading",
     "level": 1,
     "metadata": {},
     "source": [
      "CHAPTER 21 : POWER ELECTRONICS"
     ]
    },
    {
     "cell_type": "heading",
     "level": 2,
     "metadata": {},
     "source": [
      "Example 21.3: Page number 585\n"
     ]
    },
    {
     "cell_type": "code",
     "collapsed": false,
     "input": [
      "#Variable declaration\n",
      "V_GT=2;                 #Gate triggering voltage, V\n",
      "V_F=0.7;               #Forward voltage for diode D1\n",
      "\n",
      "#Calculation\n",
      "#(i)Triggering only by a positive gate voltage,\n",
      "#A diode is connected at the gatewith the n-side connected to thegate of the device,\n",
      "V_A=V_F+V_GT;                   #Required voltage to trigger the device, V\n",
      "\n",
      "print(\"The  required voltage to trigger the device only by positive voltage=%.1fV.\"%V_A);\n",
      "\n",
      "#(ii)\n",
      "print(\"In order to trigger the triac only by negative voltage, the direction of diode D1 is reversed.\");\n"
     ],
     "language": "python",
     "metadata": {},
     "outputs": [
      {
       "output_type": "stream",
       "stream": "stdout",
       "text": [
        "The  required voltage to trigger the device only by positive voltage=2.7V.\n",
        "In order to trigger the triac only by negative voltage, the direction of diode D1 is reversed.\n"
       ]
      }
     ],
     "prompt_number": 1
    },
    {
     "cell_type": "heading",
     "level": 2,
     "metadata": {},
     "source": [
      "Example 21.4 : Page number 585-586\n"
     ]
    },
    {
     "cell_type": "code",
     "collapsed": false,
     "input": [
      "#Variable declaration\n",
      "R=50.0;                   #Resitor, \u03a9\n",
      "V=50.0;                   #Supply voltage, V\n",
      "V_drop=1.0;               #Drop across the triac in conduction, V\n",
      "\n",
      "#Calculation\n",
      "#(i) Ideal triac\n",
      "#Since the triac is ideal, voltage drop across it is zero,\n",
      "I=V/R;                  #Current through the 50 \u03a9 resistor, A\n",
      "\n",
      "print(\"(i) The cuurent through the 50 \u03a9 resistor when the triac is ideal=%dA.\"%I);\n",
      "\n",
      "#(ii) Triac has a drop of 1V\n",
      "I=(V-V_drop)/R;                     #Current through the 50 \u03a9 resistor, A\n",
      "\n",
      "print(\"(ii) The current through the 50 \u03a9 resistor when the triac has a drop of 1V=%.2fA.\"%I);\n"
     ],
     "language": "python",
     "metadata": {},
     "outputs": [
      {
       "output_type": "stream",
       "stream": "stdout",
       "text": [
        "(i) The cuurent through the 50 \u03a9 resistor when the triac is ideal=1A.\n",
        "(ii) The current through the 50 \u03a9 resistor when the triac has a drop of 1V=0.98A.\n"
       ]
      }
     ],
     "prompt_number": 3
    },
    {
     "cell_type": "heading",
     "level": 2,
     "metadata": {},
     "source": [
      "Example 21.5 : Page number 588-589\n"
     ]
    },
    {
     "cell_type": "code",
     "collapsed": false,
     "input": [
      "#Variable declaration\n",
      "V_GT=2;             #Gate triggering voltage, V\n",
      "V_BO=20;            #Breakover voltage,V\n",
      "\n",
      "#Calculation\n",
      "print(\"The triggering level is raised by using a diac.\");\n",
      "V_A=V_BO+V_GT;                  #Gate trigger signal, V\n",
      "\n",
      "#Result\n",
      "print(\"In order to turn on the triac, the gate trigger signal=%dV.\"%V_A);\n"
     ],
     "language": "python",
     "metadata": {},
     "outputs": [
      {
       "output_type": "stream",
       "stream": "stdout",
       "text": [
        "The triggering level is raised by using a diac.\n",
        "In order to turn on the triac, the gate trigger signal=22V.\n"
       ]
      }
     ],
     "prompt_number": 4
    },
    {
     "cell_type": "heading",
     "level": 2,
     "metadata": {},
     "source": [
      "Example 21.6 : Page number 589\n"
     ]
    },
    {
     "cell_type": "code",
     "collapsed": false,
     "input": [
      "#Variable declaration\n",
      "V_BO=30;            #Breakover voltage of diac, V\n",
      "V_GT=1;             #Trigger voltage of the triac, V\n",
      "I_T=10;             #Trigger current, mA\n",
      "\n",
      "\n",
      "#Calculation\n",
      "V_A=V_BO+V_GT;              #Voltage required for triggering the triac, V\n",
      "\n",
      "#Result\n",
      "print(\"The minimum capacitor voltage that will trigger the triac=%d V.\"%V_A);\n"
     ],
     "language": "python",
     "metadata": {},
     "outputs": [
      {
       "output_type": "stream",
       "stream": "stdout",
       "text": [
        "The minimum capacitor voltage that will trigger the triac=31 V.\n"
       ]
      }
     ],
     "prompt_number": 5
    },
    {
     "cell_type": "heading",
     "level": 2,
     "metadata": {},
     "source": [
      "Example 21.7 : Page number 593\n"
     ]
    },
    {
     "cell_type": "code",
     "collapsed": false,
     "input": [
      "\n",
      "#Variable declaration\n",
      "eta=0.6;                        #Intrinsic stand-off ratio for UJT\n",
      "R_BB=10;                        #Inter-base resistance, k\u03a9\n",
      "\n",
      "#Calculation\n",
      "#Since, RBB=RB1+RB2 and eta=RB1/(RB1+RB2),\n",
      "#eta=RB1/RBB.\n",
      "R_B1=eta*R_BB;                  #Resistance of the bar between B1 and emitter junction, k\u03a9\n",
      "R_B2=R_BB-R_B1;                 #Resistance of the bar between B2 and emitter junction, k\u03a9 \n",
      "\n",
      "#Result\n",
      "print(\"Resistance of the bar between B1 and emitter junction=%d k\u03a9.\"%R_B1);\n",
      "print(\"Resistance of the bar between B2 and emitter junction=%d k\u03a9.\"%R_B2);\n"
     ],
     "language": "python",
     "metadata": {},
     "outputs": [
      {
       "output_type": "stream",
       "stream": "stdout",
       "text": [
        "Resistance of the bar between B1 and emitter junction=6 k\u03a9.\n",
        "Resistance of the bar between B2 and emitter junction=4 k\u03a9.\n"
       ]
      }
     ],
     "prompt_number": 6
    },
    {
     "cell_type": "heading",
     "level": 2,
     "metadata": {},
     "source": [
      "Example 21.8 : Page number 593\n"
     ]
    },
    {
     "cell_type": "code",
     "collapsed": false,
     "input": [
      "#Variable declaration\n",
      "V_BB=10;                #Interbase voltage, V\n",
      "eta=0.65;                #Intrinsic stand-off ratio for UJT\n",
      "V_D=0.7;                #Voltage drop in the pn junction, V\n",
      "\n",
      "#Calculation\n",
      "V_stand_off=eta*V_BB;               #Stand off voltage, V\n",
      "V_P=V_stand_off+V_D;                #Peak-point voltage, V\n",
      "\n",
      "#Result\n",
      "print(\"Stand off voltage=%.1f V.\"%V_stand_off);\n",
      "print(\"Peak-point voltage=%.1f V.\"%V_P);\n"
     ],
     "language": "python",
     "metadata": {},
     "outputs": [
      {
       "output_type": "stream",
       "stream": "stdout",
       "text": [
        "Stand off voltage=6.5 V.\n",
        "Peak-point voltage=7.2 V.\n"
       ]
      }
     ],
     "prompt_number": 7
    },
    {
     "cell_type": "heading",
     "level": 2,
     "metadata": {},
     "source": [
      "Example 21.9 : Page number 593\n"
     ]
    },
    {
     "cell_type": "code",
     "collapsed": false,
     "input": [
      "#Variable declaration\n",
      "V_BB=25;                #Interbase voltage, V\n",
      "eta_max=0.86;           #Maximum intrinsic stand-off ratio for UJT\n",
      "eta_min=0.74;           #Minimum intrinsic stand-off ratio for UJT\n",
      "V_D=0.7;                #Voltage drop in the pn junction, V\n",
      "\n",
      "#Calculation\n",
      "V_P_max=eta_max*V_BB+V_D;           #Maximum peak-point, V\n",
      "V_P_min=eta_min*V_BB+V_D;           #Minimum peak-point, V\n",
      "\n",
      "#Result\n",
      "print(\"Maximum peak-point voltage=%.1fV\"%V_P_max);\n",
      "print(\"Minimum peak-point voltage=%.1fV\"%V_P_min);\n"
     ],
     "language": "python",
     "metadata": {},
     "outputs": [
      {
       "output_type": "stream",
       "stream": "stdout",
       "text": [
        "Maximum peak-point voltage=22.2V\n",
        "Minimum peak-point voltage=19.2V\n"
       ]
      }
     ],
     "prompt_number": 8
    },
    {
     "cell_type": "heading",
     "level": 2,
     "metadata": {},
     "source": [
      "Example 21.10 : Page number 593-594\n"
     ]
    },
    {
     "cell_type": "code",
     "collapsed": false,
     "input": [
      "#Variable declaration\n",
      "eta=0.65;                        #Intrinsic stand-off ratio for UJT\n",
      "R_BB=7.0;                          #Inter-base resistance, k\u03a9\n",
      "R1=100.0;                          #Resistor R1, \u03a9\n",
      "R2=400.0;                          #Resistor R2, \u03a9\n",
      "V_S=12.0;                          #Source voltage, V\n",
      "V_D=0.7;                         #Voltage drop in the pn junction, V\n",
      "\n",
      "#Calculation\n",
      "#(i)\n",
      "#Since, eta=RB1/RBB,\n",
      "R_B1=eta*R_BB;                  #Resistance of the bar between B1 and emitter junction, k\u03a9\n",
      "R_B2=R_BB-R_B1;                 #Resistance of the bar between B2 and emitter junction, k\u03a9 \n",
      "\n",
      "print(\"(i)  Resistance of the bar between B1 and emitter junction=%.2f k\u03a9.\"%R_B1);\n",
      "print(\"     Resistance of the bar between B2 and emitter junction=%.2f k\u03a9.\"%R_B2);\n",
      "\n",
      "#(ii)\n",
      "V_B2_B1=V_S*R_BB/(R_BB + (R1/1000) + (R2/1000));          #Voltage  across B2-B1, V (voltage divider rule)\n",
      "V_P=eta*V_B2_B1+V_D;                        #Peak-point voltage, V\n",
      "\n",
      "print(\"(ii) The voltage across the base B2-B1=%.1fV.\"%V_B2_B1);\n",
      "print(\"     Peak-point voltage=%.2fV\"%V_P);\n"
     ],
     "language": "python",
     "metadata": {},
     "outputs": [
      {
       "output_type": "stream",
       "stream": "stdout",
       "text": [
        "(i)  Resistance of the bar between B1 and emitter junction=4.55 k\u03a9.\n",
        "     Resistance of the bar between B2 and emitter junction=2.45 k\u03a9.\n",
        "(ii) The voltage across the base B2-B1=11.2V.\n",
        "     Peak-point voltage=7.98V\n"
       ]
      }
     ],
     "prompt_number": 11
    },
    {
     "cell_type": "heading",
     "level": 2,
     "metadata": {},
     "source": [
      "Example 21.11 : Page number  596\n"
     ]
    },
    {
     "cell_type": "code",
     "collapsed": false,
     "input": [
      "from math import log\n",
      "\n",
      "#Variable declaration\n",
      "RE_initial=5;                   #Initial value of emitter resistor, k\u03a9\n",
      "RE_adjusted=10;                 #Adjusted value of emitter resistor, k\u03a9\n",
      "C=0.2;                          #Capacitance, \u03bcF\n",
      "eta=0.54;                         #intrinsic stand-off ratio\n",
      "\n",
      "#Calculation\n",
      "#(i)\n",
      "t=round((RE_initial*1000*C*10**-6*log(1/(1-eta)))*1000,2);                #Time period, ms\n",
      "f=(1/t)*1000;                                             #frequency, Hz\n",
      "\n",
      "print(\"Frequency for 5k\u03a9 setting=%dHz.\"%f);\n",
      "\n",
      "#(i)\n",
      "t=round((RE_adjusted*1000*C*10**-6*log(1/(1-eta)))*1000,2);                #Time period, ms\n",
      "f=(1/t)*1000;                                             #frequency, Hz\n",
      "\n",
      "print(\"Frequency for 10k\u03a9 setting=%dHz.\"%f);\n"
     ],
     "language": "python",
     "metadata": {},
     "outputs": [
      {
       "output_type": "stream",
       "stream": "stdout",
       "text": [
        "Frequency for 5k\u03a9 setting=1282Hz.\n",
        "Frequency for 10k\u03a9 setting=645Hz.\n"
       ]
      }
     ],
     "prompt_number": 12
    },
    {
     "cell_type": "heading",
     "level": 2,
     "metadata": {},
     "source": [
      "Example 21.12 : Page number 596-597\n"
     ]
    },
    {
     "cell_type": "code",
     "collapsed": false,
     "input": [
      "from math import log\n",
      "\n",
      "#Variable declaration\n",
      "V_S=12;                         #Supply voltage, V\n",
      "R_BB=5;                         #Interbase resistance, k\u03a9\n",
      "R_1=50;                         #Resistor R1, k\u03a9\n",
      "R_2=0.1;                        #Resistor R2, k\u03a9\n",
      "C=0.1;                          #Capacitance, \u03bcF\n",
      "eta=0.6;                          #intrinsic stand-off ratio\n",
      "V_D=0.7;                        #Voltage drop across pn junction, V\n",
      "\n",
      "#Calculation\n",
      "#(i)\n",
      "#Since, \u03b7=R_B1/R_BB,\n",
      "R_B1=eta*R_BB;                            #Resitance between base B1 and emitter junction, k\u03a9\n",
      "\n",
      "#Since, R_BB=R_B1+R_B2\n",
      "R_B2=R_BB-R_B1;                         #Resitance between base B2 and emitter junction, k\u03a9\n",
      "\n",
      "#(ii)\n",
      "V_RB1_R2=V_S*(R_B1+R_2)/(R_BB+R_2);           #Voltage drop across R_B1 and R_2 resistors, V\n",
      "V_P=V_D+V_RB1_R2;                           #Peak-point voltage, V\n",
      "\n",
      "#(iii)\n",
      "t=round((R_1*1000*C*10**-6*log(1/(1-eta)))*1000,2);                #Time period, ms\n",
      "f=(1/t)*1000;                                                    #frequency, Hz\n",
      "\n",
      "\n",
      "#Result\n",
      "print(\"(i)   R_B1=%dk\u03a9 and R_B2=%dk\u03a9\"%(R_B1,R_B2));\n",
      "print(\"(ii)  The peak-point voltage to turn on the UJT=%.0fV.\"%V_P);\n",
      "print(\"(iii) Frequency of oscillations=%dHz.\"%f);\n"
     ],
     "language": "python",
     "metadata": {},
     "outputs": [
      {
       "output_type": "stream",
       "stream": "stdout",
       "text": [
        "(i)   R_B1=3k\u03a9 and R_B2=2k\u03a9\n",
        "(ii)  The peak-point voltage to turn on the UJT=8V.\n",
        "(iii) Frequency of oscillations=218Hz.\n"
       ]
      }
     ],
     "prompt_number": 13
    },
    {
     "cell_type": "code",
     "collapsed": false,
     "input": [],
     "language": "python",
     "metadata": {},
     "outputs": []
    }
   ],
   "metadata": {}
  }
 ]
}