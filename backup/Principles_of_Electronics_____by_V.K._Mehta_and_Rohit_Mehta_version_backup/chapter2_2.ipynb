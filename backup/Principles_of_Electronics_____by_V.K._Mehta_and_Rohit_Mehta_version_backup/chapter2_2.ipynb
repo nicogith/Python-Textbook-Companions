{
 "metadata": {
  "name": "",
  "signature": "sha256:c0ff4f67576afe73a11c06eedd0a50709b7f5831737f83db1cd640098e3e9740"
 },
 "nbformat": 3,
 "nbformat_minor": 0,
 "worksheets": [
  {
   "cells": [
    {
     "cell_type": "heading",
     "level": 1,
     "metadata": {},
     "source": [
      "CHAPTER 2 : ELECTRONIC EMISSION"
     ]
    },
    {
     "cell_type": "heading",
     "level": 2,
     "metadata": {},
     "source": [
      "Example 2.1: Page number 31\n"
     ]
    },
    {
     "cell_type": "code",
     "collapsed": false,
     "input": [
      "#variable declaration\n",
      "\n",
      "from math import exp\n",
      "from math import pi\n",
      "\n",
      "l=5.0;                        #length of tungsten filament in cm\n",
      "d=0.01;                       #diameter of the filament in cm\n",
      "T=2500.0;                     #operating temperature in K\n",
      "A=60.2*pow(10,4);             #constant, depending upon the type of thermionic emitter, in amp/m\u00b2/K\u00b2\n",
      "phi=4.517;                    #work function of emitter in eV\n",
      "\n",
      "\n",
      "#Calculation\n",
      "b=round(11600*phi,-1);                       #constant for a metal, in K\n",
      "Js=round(A*T*T*exp(-b/T),-2);                #Emission current density in amp/m\u00b2\n",
      "a=pi*(d/100)*(l/100);                        #Surface area of the cathode in m\u00b2\n",
      "E_I=Js*a;                                     #Emission current in A\n",
      "\n",
      "#Result\n",
      "print(\"emission current =%.3f A\"%E_I);"
     ],
     "language": "python",
     "metadata": {},
     "outputs": [
      {
       "output_type": "stream",
       "stream": "stdout",
       "text": [
        "emission current =0.047 A\n"
       ]
      }
     ],
     "prompt_number": 1
    },
    {
     "cell_type": "heading",
     "level": 2,
     "metadata": {},
     "source": [
      "Example 2.2:Page number 31\n"
     ]
    },
    {
     "cell_type": "code",
     "collapsed": false,
     "input": [
      "from math import log\n",
      "\n",
      "#Variable declaration\n",
      "Js=0.1;                   #Emission current density in amp/cm\u00b2\n",
      "A=60.2;                   #Constant depending upon the type of thermionic emitter, in amp/cm\u00b2/K\u00b2\n",
      "T=1900.0;                 #Absolute temperature in K\n",
      "\n",
      "\n",
      "#calculations\n",
      "#Calculating b according to the formula Js=A*T\u00b2*exp(-b/T) for emission current density\n",
      "b=-T*(log(Js/(A*T*T)));          #constant for emitter, in K\n",
      "phi= round(b/11600,2);           # work function in eV\n",
      "\n",
      "print (\"Work function of the tungsten wire = %.2f eV\"%phi);\n",
      "\n",
      "if(phi==4.52):\n",
      "\tprint(\"Given sample is pure Tungsten\");\n",
      "elif(phi!=4.52 and phi>=2.63 and phi<=4.52):\n",
      "\tprint (\"The sample is not pure Tungsten\");\n",
      "    \n",
      "#Note : In the text book, the work function has been approximated to 3.56eV, but in the code it calculates as  3.52eV\n"
     ],
     "language": "python",
     "metadata": {},
     "outputs": [
      {
       "output_type": "stream",
       "stream": "stdout",
       "text": [
        "Work function of the tungsten wire = 3.52 eV\n",
        "The sample is not pure Tungsten\n"
       ]
      }
     ],
     "prompt_number": 3
    },
    {
     "cell_type": "code",
     "collapsed": false,
     "input": [],
     "language": "python",
     "metadata": {},
     "outputs": []
    }
   ],
   "metadata": {}
  }
 ]
}