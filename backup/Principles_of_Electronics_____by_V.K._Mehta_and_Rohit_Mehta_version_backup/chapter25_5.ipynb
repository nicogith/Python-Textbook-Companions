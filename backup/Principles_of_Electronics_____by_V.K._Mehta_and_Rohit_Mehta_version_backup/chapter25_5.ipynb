{
 "cells": [
  {
   "cell_type": "markdown",
   "metadata": {},
   "source": [
    "# CHAPTER 25 : OPERATIONAL AMPLIFIERS"
   ]
  },
  {
   "cell_type": "code",
   "execution_count": 1,
   "metadata": {
    "collapsed": true
   },
   "outputs": [],
   "source": [
    "%matplotlib inline"
   ]
  },
  {
   "cell_type": "markdown",
   "metadata": {},
   "source": [
    "## Example 25.1: Page number 664"
   ]
  },
  {
   "cell_type": "code",
   "execution_count": 2,
   "metadata": {
    "collapsed": false
   },
   "outputs": [
    {
     "name": "stdout",
     "output_type": "stream",
     "text": [
      "The output voltage of the differential amplifier = 10V\n"
     ]
    }
   ],
   "source": [
    "#Variable declaration\n",
    "A=100.0;              #Open-circuit voltage gain of differential amplifier\n",
    "V1=3.25;              #Input voltage to terminal 1 in V\n",
    "V2=3.15;              #Input voltage to terminal 2 in V\n",
    "\n",
    "#Calculations\n",
    "V0=A*(V1-V2);         #Output voltage in V\n",
    "\n",
    "#Results\n",
    "print(\"The output voltage of the differential amplifier = %dV\"%V0);\n"
   ]
  },
  {
   "cell_type": "markdown",
   "metadata": {},
   "source": [
    "## Example 25.2: Page number 672"
   ]
  },
  {
   "cell_type": "code",
   "execution_count": 3,
   "metadata": {
    "collapsed": false
   },
   "outputs": [
    {
     "name": "stdout",
     "output_type": "stream",
     "text": [
      "The common mode rejection ratio = 10000.\n",
      "The common mode rejection ratio in decibels= 80dB.\n"
     ]
    }
   ],
   "source": [
    "from math import log10\n",
    "\n",
    "#Variable declaration\n",
    "A_DM=2000.0;              #Differential mode voltage gain\n",
    "A_CM=0.2;                 #Common mode voltage gain\n",
    "\n",
    "#Calculations\n",
    "CMRR=A_DM/A_CM;           #Common mode rejection ratio\n",
    "CMRR_dB=20*log10(CMRR);     #Common mode rejection ratio in dB\n",
    "\n",
    "\n",
    "#Results\n",
    "print(\"The common mode rejection ratio = %d.\"%CMRR);\n",
    "print(\"The common mode rejection ratio in decibels= %ddB.\"%CMRR_dB);\n"
   ]
  },
  {
   "cell_type": "markdown",
   "metadata": {},
   "source": [
    "## Example 25.3: Page number 672"
   ]
  },
  {
   "cell_type": "code",
   "execution_count": 4,
   "metadata": {
    "collapsed": false
   },
   "outputs": [
    {
     "name": "stdout",
     "output_type": "stream",
     "text": [
      "The common mode rejection ratio in decibels= 46dB.\n"
     ]
    }
   ],
   "source": [
    "from math import log10\n",
    "\n",
    "#Variable declaration\n",
    "VD_in=10.0;               #Differential mode input in mV\n",
    "VD_out=1.0;               #Output for differential mode input in V\n",
    "VC_in=10.0;                 #Common mode input in mV\n",
    "VC_out=5.0;                 #Output for common mode input in mV\\\n",
    "\n",
    "#Calculations\n",
    "A_DM=(VD_out*1000)/VD_in;       #Differntial mode voltage gain\n",
    "A_CM=VC_out/VC_in;       #Common mode voltage gain\n",
    "CMRR=A_DM/A_CM;           #Common mode rejection ratio\n",
    "CMRR_dB=20*log10(CMRR);     #Common mode rejection ratio in dB\n",
    "\n",
    "#Results\n",
    "print(\"The common mode rejection ratio in decibels= %ddB.\"%CMRR_dB);\n"
   ]
  },
  {
   "cell_type": "markdown",
   "metadata": {},
   "source": [
    "## Example 25.4: Page number 672"
   ]
  },
  {
   "cell_type": "code",
   "execution_count": 5,
   "metadata": {
    "collapsed": false
   },
   "outputs": [
    {
     "name": "stdout",
     "output_type": "stream",
     "text": [
      "Output voltage =7.5V\n",
      "Noise on output = 4.7x10^-6V\n"
     ]
    }
   ],
   "source": [
    "#Variable declaration\n",
    "A_DM=150.0;           #Differential mode voltage gain\n",
    "CMRR_dB=90.0;         #Common mode rejection ratio\n",
    "V1=100.0;             #Input voltage for terminal 1 in mV\n",
    "V2=50.0;              #Input voltage for terminal 2 in mV\n",
    "V_noise=1.0;          #Voltage of noise signal in mV\n",
    "\n",
    "#Calculation\n",
    "\n",
    "#Case(i)\n",
    "V_out=A_DM*(V1-V2)/1000.0;            #Output voltage for differntial mode input, in V\n",
    "\n",
    "#Since CMRR_dB=20*log10(differential mode gain/common mode gain),\n",
    "A_CM=A_DM/pow(10,(CMRR_dB/20));         #Common mode gain\n",
    "V_OUT_noise=A_CM*(V_noise/1000);        #Noise on output in V\n",
    "\n",
    "\n",
    "#Results\n",
    "print(\"Output voltage =%.1fV\"%V_out);\n",
    "print(\"Noise on output = %.1fx10^-6V\"%(V_OUT_noise*pow(10,6)));\n"
   ]
  },
  {
   "cell_type": "markdown",
   "metadata": {},
   "source": [
    "## Example 25.5 : Page number 672-673"
   ]
  },
  {
   "cell_type": "code",
   "execution_count": 6,
   "metadata": {
    "collapsed": false
   },
   "outputs": [
    {
     "name": "stdout",
     "output_type": "stream",
     "text": [
      "Common mode gain =0.083\n",
      "Common mode rejection ratio in decibels=89.5dB\n",
      "r.m.s output signal =1.25V\n",
      "r.m.s interfernce output voltage = 83mV\n"
     ]
    }
   ],
   "source": [
    "from math import log10\n",
    "\n",
    "#Variable declaration\n",
    "A_DM=2500.0;                    #Differential mode voltage gain\n",
    "CMRR=30000.0;                   #Common mode rejection ratio\n",
    "Input_signal=500.0;             #Single ended input r.m.s signal in microvolts\n",
    "Interference=1.0;               #Interference signal, in V\n",
    "\n",
    "#Calculations\n",
    "\n",
    "#(i)\n",
    "A_CM=A_DM/CMRR;                 #Common mode gain\n",
    "\n",
    "#(ii)\n",
    "CMRR_dB=20*log10(CMRR);         #Common mode rejection ratio in decibels\n",
    "\n",
    "#(iii)\n",
    "V_out=A_DM*(Input_signal/pow(10,6)-0);        #r.m.s output signal  in V\n",
    "\n",
    "#(iv)\n",
    "Interference_out=A_CM*Interference;          #r.m.s interference output in V\n",
    "Interference_out=Interference_out*1000;      #r.m.s interference output in mV\n",
    "\n",
    "\n",
    "#Results\n",
    "print(\"Common mode gain =%.3f\"%A_CM);\n",
    "print(\"Common mode rejection ratio in decibels=%.1fdB\"%CMRR_dB);\n",
    "print(\"r.m.s output signal =%.2fV\"%V_out);\n",
    "print(\"r.m.s interfernce output voltage = %dmV\"%Interference_out);\n"
   ]
  },
  {
   "cell_type": "markdown",
   "metadata": {},
   "source": [
    "## Example 25.6 : Page number 674-675"
   ]
  },
  {
   "cell_type": "code",
   "execution_count": 7,
   "metadata": {
    "collapsed": false
   },
   "outputs": [
    {
     "name": "stdout",
     "output_type": "stream",
     "text": [
      "VE=-0.7V\n",
      "IE=0.452mA\n",
      "IE1=0.226mA\n",
      "IE2=0.226mA\n",
      "IC1=0.226mA\n",
      "IC2=0.226mA\n",
      "IB1=2.26μA\n",
      "IB2=2.26μA\n",
      "VC1=12V\n",
      "VC2=9.7V\n"
     ]
    }
   ],
   "source": [
    "#Variable declaration\n",
    "VCC=12;                 #Collector supply voltage, V\n",
    "VEE=12;                 #Emitter supply voltage, V\n",
    "RB=10;                  #Base resistor, kΩ\n",
    "RC2=10;                 #Collector resistor, kΩ\n",
    "RE=25;                  #Emitter resistor, kΩ\n",
    "VBE=0.7;               #Base-emitter voltage, V\n",
    "beta=100;               #Base amplification factor\n",
    "\n",
    "#Calculation\n",
    "VE=-VBE;                    #Emitter voltage, V (Ignoring the base current)\n",
    "IE=(VEE-VBE)/RE;            #Tail current, mA\n",
    "IE1=IE/2;                   #Emitter current of 1st transistor, mA\n",
    "IE2=IE1;                    #Emitter current of 2nd transistor, mA\n",
    "IC1=IE1;                    #Collector current(= emitter current) of 1st transistor, mA\n",
    "IC2=IC1;                    #Collector current of 2nd transistor, mA\n",
    "IB1=(IC1/beta)*1000;        #Base current of 1st transistor, μA\n",
    "IB2=IB1;                    #Base current of 2nd transistor, μA\n",
    "VC1=VCC;                    #Collector voltage of 1st transistor, V\n",
    "VC2=VCC-IC2*RC2;            #Collector voltage of 2nd transistor, V\n",
    "\n",
    "#Result\n",
    "print(\"VE=%.1fV\"%VE);\n",
    "print(\"IE=%.3fmA\"%IE);\n",
    "print(\"IE1=%.3fmA\"%IE1);\n",
    "print(\"IE2=%.3fmA\"%IE2);\n",
    "print(\"IC1=%.3fmA\"%IC1);\n",
    "print(\"IC2=%.3fmA\"%IC2);\n",
    "print(\"IB1=%.2fμA\"%IB1);\n",
    "print(\"IB2=%.2fμA\"%IB2);\n",
    "print(\"VC1=%dV\"%VC1);\n",
    "print(\"VC2=%.1fV\"%VC2);\n"
   ]
  },
  {
   "cell_type": "markdown",
   "metadata": {},
   "source": [
    "## Example 25.7 : Page number 675"
   ]
  },
  {
   "cell_type": "code",
   "execution_count": 8,
   "metadata": {
    "collapsed": false
   },
   "outputs": [
    {
     "name": "stdout",
     "output_type": "stream",
     "text": [
      "The output voltage=7.85V.\n"
     ]
    }
   ],
   "source": [
    "#Variable declaration\n",
    "VCC=15;                 #Collector supply voltage, V\n",
    "VEE=15;                 #Emitter supply voltage, V\n",
    "RB=33;                  #Base resistor, kΩ\n",
    "RC=15;                  #Collector resistor, kΩ\n",
    "RE=15;                  #Emitter resistor, kΩ\n",
    "VBE=0.7;                #Base-emitter voltage, V\n",
    "\n",
    "\n",
    "#Calculation\n",
    "IE_tail=(VEE-VBE)/RE;            #Tail current, mA\n",
    "IE=round(IE_tail/2,3);                    #Emitter current in each transistor, mA\n",
    "IC=IE;                           #Collector current(=emitter current), mA\n",
    "Vout=VCC-IC*RC;                  #Output voltage, V\n",
    "\n",
    "#Result\n",
    "print(\"The output voltage=%.2fV.\"%Vout);\n"
   ]
  },
  {
   "cell_type": "markdown",
   "metadata": {},
   "source": [
    "## Example 25.8 : Page number 675"
   ]
  },
  {
   "cell_type": "code",
   "execution_count": 9,
   "metadata": {
    "collapsed": false
   },
   "outputs": [
    {
     "name": "stdout",
     "output_type": "stream",
     "text": [
      "(i) IB1=5.56μA\n",
      "    IB2=4.55μA\n",
      "(ii) VB1=-0.183V\n",
      "     VB2=-0.15V\n"
     ]
    }
   ],
   "source": [
    "#Variable declaration\n",
    "VCC=15.0;                 #Collector supply voltage, V\n",
    "VEE=15.0;                 #Emitter supply voltage, V\n",
    "RB=33.0;                  #Base resistor, kΩ\n",
    "RC=15.0;                  #Collector resistor, kΩ\n",
    "RE=15.0;                  #Emitter resistor, kΩ\n",
    "VBE=0;                  #Base-emitter voltage, V\n",
    "beta_dc_l=90.0;           #base current amplification factor for left transistor\n",
    "beta_dc_r=110.0;          #base current amplification factor for right transistor\n",
    "\n",
    "\n",
    "#Calculation\n",
    "#(i)\n",
    "IE_tail=(VEE-VBE)/RE;             #Tail current, mA\n",
    "IE=IE_tail/2;                      #Emitter current in each transistor, mA\n",
    "IB1=(IE/beta_dc_l)*1000;          #Base current of 1st transistor, μA\n",
    "IB2=(IE/beta_dc_r)*1000;          #Base current of 2nd transistor, μA\n",
    "\n",
    "#(ii)\n",
    "VB1=-IB1/1000*RB;                    #Base voltage of 1st transistor, V\n",
    "VB2=-IB2/1000*RB;                    #Base voltage of 1st transistor, V\n",
    "\n",
    "#Result\n",
    "print(\"(i) IB1=%.2fμA\"%IB1);\n",
    "print(\"    IB2=%.2fμA\"%IB2);\n",
    "print(\"(ii) VB1=%.3fV\"%VB1);\n",
    "print(\"     VB2=%.2fV\"%VB2);\n"
   ]
  },
  {
   "cell_type": "markdown",
   "metadata": {},
   "source": [
    "## Example 25.9 : Page number 675-676"
   ]
  },
  {
   "cell_type": "code",
   "execution_count": 10,
   "metadata": {
    "collapsed": false
   },
   "outputs": [
    {
     "name": "stdout",
     "output_type": "stream",
     "text": [
      "VE=-0.7V\n",
      "Emitter current in each transistor=0.5mA.\n",
      "IC1~IE1=0.5mA and IC2~IE2=0.5mA\n",
      "VC1=VC2=10V.\n"
     ]
    }
   ],
   "source": [
    "#Variable declaration\n",
    "VCC=15.0;                 #Collector supply voltage, V\n",
    "VEE=15.0;                 #Emitter supply voltage, V\n",
    "RB=10.0;                  #Base resistor, kΩ\n",
    "RC1=10.0;                 #Collector resistor of 1st transistor, kΩ\n",
    "RC2=10.0;                 #Collector resistor of 2nd transistor, kΩ\n",
    "IE=1.0;                   #Tail current, mA\n",
    "VBE=0.7;                #Base-emitter voltage, V\n",
    "\n",
    "\n",
    "#Calculation\n",
    "VE=-VBE;                    #Emitter voltage, V (Ignoring the base current)\n",
    "IE1=IE/2.0;                   #Emitter current of 1st transistor, mA\n",
    "IE2=IE1;                    #Emitter current of 2nd transistor, mA\n",
    "IC1=IE1;                    #Collector current(= emitter current) of 1st transistor, mA\n",
    "IC2=IE2;                    #Collector current of 2nd transistor, mA\n",
    "VC1=VCC-IC1*RC1;            #Collector voltage of 1st transistor, V\n",
    "VC2=VCC-IC2*RC2;            #Collector voltage of 2nd transistor, V\n",
    "\n",
    "\n",
    "#Result\n",
    "print(\"VE=%.1fV\"%VE);\n",
    "print(\"Emitter current in each transistor=%.1fmA.\"%(IE/2.0));\n",
    "print(\"IC1~IE1=%.1fmA and IC2~IE2=%.1fmA\"%(IE1,IE2));\n",
    "print(\"VC1=VC2=%dV.\"%VC2);\n"
   ]
  },
  {
   "cell_type": "markdown",
   "metadata": {},
   "source": [
    "## Example 25.10 : Page number 676-677"
   ]
  },
  {
   "cell_type": "code",
   "execution_count": 11,
   "metadata": {
    "collapsed": false
   },
   "outputs": [
    {
     "name": "stdout",
     "output_type": "stream",
     "text": [
      "VE=0.7V\n",
      "Tail current=0.452mA.\n",
      "Emitter current in each transistor=0.226mA.\n",
      "IC1~IE1=0.226mA and IC2~IE2=0.226mA\n",
      "VC1=-12V\n",
      "VC2=-9.74V\n"
     ]
    }
   ],
   "source": [
    "#Variable declaration\n",
    "VCC=12.0;                 #Collector supply voltage, V\n",
    "VEE=12.0;                 #Emitter supply voltage, V\n",
    "RC2=10.0;                 #Collector resistor of 2nd transistor, kΩ\n",
    "RE=25.0;                  #Emitter current, kΩ\n",
    "VBE=-0.7;               #Base-emitter voltage, V\n",
    "\n",
    "\n",
    "#Calculation\n",
    "VE=-VBE;                    #Emitter voltage, V (Ignoring the base current)\n",
    "IE=(VCC-VE)/RE;             #Tail current, mA\n",
    "IE1=IE/2.0;                   #Emitter current of 1st transistor, mA\n",
    "IE2=IE1;                    #Emitter current of 2nd transistor, mA\n",
    "IC1=IE1;                    #Collector current(= emitter current) of 1st transistor, mA\n",
    "IC2=IE2;                    #Collector current of 2nd transistor, mA\n",
    "VC1=-VEE;                   #Collector voltage of 1st transistor, V\n",
    "VC2=-VEE+IC2*RC2;            #Collector voltage of 2nd transistor, V\n",
    "\n",
    "\n",
    "#Result\n",
    "print(\"VE=%.1fV\"%VE);\n",
    "print(\"Tail current=%.3fmA.\"%IE);\n",
    "print(\"Emitter current in each transistor=%.3fmA.\"%(IE/2.0));\n",
    "print(\"IC1~IE1=%.3fmA and IC2~IE2=%.3fmA\"%(IC1,IC2));\n",
    "print(\"VC1=%dV\"%VC1);\n",
    "print(\"VC2=%.2fV\"%VC2);\n"
   ]
  },
  {
   "cell_type": "markdown",
   "metadata": {},
   "source": [
    "## Example 25.11 : Page number 679"
   ]
  },
  {
   "cell_type": "code",
   "execution_count": 12,
   "metadata": {
    "collapsed": false
   },
   "outputs": [
    {
     "name": "stdout",
     "output_type": "stream",
     "text": [
      "(i)  The input offset current=15.1nA\n",
      "(ii) The input bias current=75.8nA\n"
     ]
    }
   ],
   "source": [
    "#Variable declaration\n",
    "VCC=15;                 #Collector supply voltage, V\n",
    "VEE=15;                 #Emitter supply voltage, V\n",
    "RB=1;                   #Base resistor, MΩ\n",
    "RC2=1;                  #Collector resistor, MΩ\n",
    "RE=1;                   #Emitter resistor, MΩ\n",
    "VBE=0;                  #Base-emitter voltage, V (Neglected)\n",
    "beta_dc_l=90.0;           #base current amplification factor for left transistor\n",
    "beta_dc_r=110.0;          #base current amplification factor for right transistor\n",
    "\n",
    "\n",
    "#Calculation\n",
    "#(i)\n",
    "IE=(VEE-VBE)/RE;                    #Tail current, μA\n",
    "IE1=IE/2.0;                           #Emitter current of 1st transistor, μA\n",
    "IE2=IE1;                            #Emitter current of 2nd transistor, μA\n",
    "IB1=round((IE1/beta_dc_l)*1000,1);           #Base current of 1st transistor, nA\n",
    "IB2=round((IE2/beta_dc_r)*1000,1);           #Base current of 2nd transistor, nA\n",
    "I_in_offset=IB1-IB2;                 #Input offset current, nA\n",
    "\n",
    "#(ii)\n",
    "I_in_bias=(IB1+IB2)/2;                  #Input bias current, nA\n",
    "\n",
    "#Result\n",
    "print(\"(i)  The input offset current=%.1fnA\"%I_in_offset);\n",
    "print(\"(ii) The input bias current=%.1fnA\"%I_in_bias);\n"
   ]
  },
  {
   "cell_type": "markdown",
   "metadata": {},
   "source": [
    "## Example 25.12 : Page number 679"
   ]
  },
  {
   "cell_type": "code",
   "execution_count": 13,
   "metadata": {
    "collapsed": false
   },
   "outputs": [
    {
     "name": "stdout",
     "output_type": "stream",
     "text": [
      "The two base currents are: IB1=90nA and IB2=70nA.\n"
     ]
    }
   ],
   "source": [
    "#Variable declaration\n",
    "I_in_offset=20;                 #Input offset current, nA\n",
    "I_in_bias=80;                   #Input bias current, nA\n",
    "\n",
    "#Calculation\n",
    "IB1=I_in_bias+I_in_offset/2;            #Base current in 1st transistor, nA\n",
    "IB2=I_in_bias-I_in_offset/2;            #Base current in 2nd transistor, nA\n",
    "\n",
    "\n",
    "#Result\n",
    "print(\"The two base currents are: IB1=%dnA and IB2=%dnA.\"%(IB1,IB2));\n"
   ]
  },
  {
   "cell_type": "markdown",
   "metadata": {},
   "source": [
    "## Example 25.13 : Page number 679-680"
   ]
  },
  {
   "cell_type": "code",
   "execution_count": 14,
   "metadata": {
    "collapsed": false
   },
   "outputs": [
    {
     "name": "stdout",
     "output_type": "stream",
     "text": [
      "The input offset voltage=2mV.\n",
      "The output offset voltage=0.3V.\n"
     ]
    }
   ],
   "source": [
    "#Variable declration\n",
    "I_in_offset=20;                 #Input offset current, nA\n",
    "I_in_bias=80;                   #Input bias current, nA\n",
    "A=150;                          #Voltage gain\n",
    "RB=100;                         #Base resistor, kΩ\n",
    "\n",
    "\n",
    "#Calculation\n",
    "V_io=(I_in_offset*10**-9*RB*1000)*1000;       #Input offset voltage, mV\n",
    "V_out_offset=(A*V_io)/1000;                     #Output offset voltage, V\n",
    "\n",
    "#Result\n",
    "print(\"The input offset voltage=%dmV.\"%V_io);\n",
    "print(\"The output offset voltage=%.1fV.\"%V_out_offset);\n"
   ]
  },
  {
   "cell_type": "markdown",
   "metadata": {},
   "source": [
    "## Example 25.14 : Page number 682"
   ]
  },
  {
   "cell_type": "code",
   "execution_count": 15,
   "metadata": {
    "collapsed": false
   },
   "outputs": [
    {
     "name": "stdout",
     "output_type": "stream",
     "text": [
      "(i) Output voltage=0.15V.\n",
      "(ii) Output voltage=-0.15V.\n"
     ]
    }
   ],
   "source": [
    "#Variable declaration\n",
    "VCC=15;                 #Collector supply voltage, V\n",
    "VEE=15;                 #Emitter supply voltage, V\n",
    "RE=1;                   #Emitter resistor, MΩ\n",
    "RC=1;                   #Collector resistor, MΩ\n",
    "\n",
    "\n",
    "#Calculation\n",
    "IE=VEE/RE;                  #Tail current, μA\n",
    "IE1=IE/2.0;                   #Emitter current of 1st transistor, μA\n",
    "IE2=IE1;                    #Emitter current of 2nd transistor, μA\n",
    "re=25/IE1;                  #a.c emitter resistance, kΩ\n",
    "A_DM=RC/(2.0*re);        #Differential voltage gain,\n",
    "\n",
    "#(i)\n",
    "vin=1;                      #Input voltage, V\n",
    "Vout=A_DM*vin;              #Output voltage, V\n",
    "\n",
    "print(\"(i) Output voltage=%.2fV.\"%Vout);\n",
    "\n",
    "#(ii)\n",
    "vin=-1;                      #Input voltage, V\n",
    "Vout=A_DM*vin;              #Output voltage, V;\n",
    "print(\"(ii) Output voltage=%.2fV.\"%Vout);\n"
   ]
  },
  {
   "cell_type": "markdown",
   "metadata": {},
   "source": [
    "## Example 25.15 : Page number 682-683"
   ]
  },
  {
   "cell_type": "code",
   "execution_count": 16,
   "metadata": {
    "collapsed": false
   },
   "outputs": [
    {
     "name": "stdout",
     "output_type": "stream",
     "text": [
      "(i) The input impedance=194kΩ.\n",
      "(ii) The differential voltage gain=136.\n"
     ]
    }
   ],
   "source": [
    "#Variable declaration\n",
    "VCC=12;                 #Collector supply voltage, V\n",
    "VEE=12;                 #Emitter supply voltage, V\n",
    "RE=100;                 #Emitter resistor, kΩ\n",
    "RC1=120;                #Collector resistor of 1st transistor, kΩ\n",
    "RC2=120;                #Collector resistor of 2nd transistor, kΩ\n",
    "beta=220;               #Base amplification factor\n",
    "VBE=0.7;                #Base-emitter voltage, V\n",
    "\n",
    "\n",
    "#Calcualtion\n",
    "IE=((VEE-VBE)/RE)*1000;     #Tail current, μA\n",
    "IE1=IE/2.0;                   #Emitter current of 1st transistor, μA\n",
    "IE2=IE1;                    #Emitter current of 2nd transistor, μA\n",
    "re=(25/IE1)*1000;           #a.c emitter resistance, Ω\n",
    "Zin=2*beta*re/1000;         #Input impedance, kΩ\n",
    "A_DM=RC1*1000/(2.0*re);             #Differential voltage gain,\n",
    "\n",
    "\n",
    "#Result\n",
    "print(\"(i) The input impedance=%dkΩ.\"%Zin);\n",
    "print(\"(ii) The differential voltage gain=%.0f.\"%A_DM);\n"
   ]
  },
  {
   "cell_type": "markdown",
   "metadata": {},
   "source": [
    "## Example 25.16: Page number 683-684"
   ]
  },
  {
   "cell_type": "code",
   "execution_count": 17,
   "metadata": {
    "collapsed": false
   },
   "outputs": [
    {
     "name": "stdout",
     "output_type": "stream",
     "text": [
      "Differential voltage gain=56.6.\n"
     ]
    }
   ],
   "source": [
    "#Variable declaration\n",
    "VCC=12;                 #Collector supply voltage, V\n",
    "VEE=12;                 #Emitter supply voltage, V\n",
    "RE=200;                 #Emitter resistor, kΩ\n",
    "RC=100;                 #Collector resistor, kΩ\n",
    "VBE=0.7;                #Base-emitter voltage, V\n",
    "\n",
    "#Calculation\n",
    "IE=round((VEE-VBE)/RE,4);            #Tail current, mA\n",
    "IE1=round(IE/2,4);                   #Emitter current of 1st transistor, mA\n",
    "IE2=IE1;                             #Emitter current of 2nd transistor, mA\n",
    "re=round(25/IE1,1);                  #a.c emitter resistance, Ω\n",
    "A_DM=RC*1000/(2*re);                 #Differential voltage gain,\n",
    "\n",
    "#Result\n",
    "print(\"Differential voltage gain=%.1f.\"%A_DM);\n"
   ]
  },
  {
   "cell_type": "markdown",
   "metadata": {},
   "source": [
    "## Example 25.17 : Page number 685-686"
   ]
  },
  {
   "cell_type": "code",
   "execution_count": 18,
   "metadata": {
    "collapsed": false
   },
   "outputs": [
    {
     "name": "stdout",
     "output_type": "stream",
     "text": [
      "Common mode rejection ratio=666.7.\n",
      "Common mode rejection ratio in decibel=56.48dB\n"
     ]
    }
   ],
   "source": [
    "from math import log10\n",
    "\n",
    "#Variable declaration\n",
    "v1=0.5;               #Voltage in terminal 1, mV\n",
    "v2=-0.5;               #Voltage in terminal 2, mV\n",
    "vo=8.0;                   #Output voltage, V\n",
    "vo_cm=12.0;               #Common mode output, mV\n",
    "\n",
    "#Calculation\n",
    "vin=v1-v2;                  #Differential input, mV\n",
    "A_DM=vo/(vin/1000.0);         #Differential mode gain,\n",
    "vin_cm=1;                   #Common mode input, mV\n",
    "A_CM=vo_cm/vin_cm;          #Common mode gain\n",
    "CMRR=A_DM/A_CM;             #Common mode rejection ratio\n",
    "CMRR_dB=20*log10(CMRR);     #Common mode rejection ratio in dB\n",
    "\n",
    "#Result\n",
    "print(\"Common mode rejection ratio=%.1f.\"%CMRR)\n",
    "print(\"Common mode rejection ratio in decibel=%.2fdB\"%CMRR_dB);\n"
   ]
  },
  {
   "cell_type": "markdown",
   "metadata": {},
   "source": [
    "## Example 25.18 : Page number 686"
   ]
  },
  {
   "cell_type": "code",
   "execution_count": 19,
   "metadata": {
    "collapsed": false
   },
   "outputs": [
    {
     "name": "stdout",
     "output_type": "stream",
     "text": [
      "Common mode voltage gain=6.32.\n"
     ]
    }
   ],
   "source": [
    "#Variable declaration\n",
    "A_DM=200000;                #Differential mode gain\n",
    "CMRR_dB=90;                 #Common mode rejection ratio, dB\n",
    "\n",
    "#Calculation\n",
    "CMRR=10**(CMRR_dB/20.0);              #Common mode rejection ratio\n",
    "A_CM=A_DM/CMRR;                     #Common mode gain\n",
    "\n",
    "\n",
    "\n",
    "#Result\n",
    "print(\"Common mode voltage gain=%.2f.\"%A_CM);\n"
   ]
  },
  {
   "cell_type": "markdown",
   "metadata": {},
   "source": [
    "## Example 25.19 : Page number 686"
   ]
  },
  {
   "cell_type": "code",
   "execution_count": 20,
   "metadata": {
    "collapsed": false
   },
   "outputs": [
    {
     "name": "stdout",
     "output_type": "stream",
     "text": [
      "(i)  The Common mode gain=0.0081\n",
      "(ii) The common mode rejection ratio=81.8dB.\n"
     ]
    }
   ],
   "source": [
    "from math import log10\n",
    "\n",
    "#Variable declaration\n",
    "vin_cm=3.2;                     #Common input voltage, V\n",
    "vout=26;                        #Output voltage, V\n",
    "A_DM=100;                       #Open-circuit voltage gain\n",
    "\n",
    "#Calculation\n",
    "#(i)\n",
    "A_CM=vout*10**-3/vin_cm;                #Common mode gain\n",
    "\n",
    "#(ii)\n",
    "CMRR_dB=20*log10(A_DM/A_CM);            #Common mode rejection ratio, dB\n",
    "\n",
    "#Result\n",
    "print(\"(i)  The Common mode gain=%.4f\"%A_CM);\n",
    "print(\"(ii) The common mode rejection ratio=%.1fdB.\"%CMRR_dB);\n"
   ]
  },
  {
   "cell_type": "markdown",
   "metadata": {},
   "source": [
    "## Example 25.20 : Page number 686-687"
   ]
  },
  {
   "cell_type": "code",
   "execution_count": 21,
   "metadata": {
    "collapsed": false
   },
   "outputs": [
    {
     "name": "stdout",
     "output_type": "stream",
     "text": [
      "(i) Common mode gain=0.25\n",
      "(ii)Common mode rejection ratio=47.09dB\n"
     ]
    }
   ],
   "source": [
    "from math import log10\n",
    "from math import floor\n",
    "\n",
    "#Variable declaration\n",
    "VCC=12;                 #Collector supply voltage, V\n",
    "VEE=12;                 #Emitter supply voltage, V\n",
    "RE=200.0;                 #Emitter resistor, kΩ\n",
    "RC=100.0;                 #Collector resistor, kΩ\n",
    "VBE=0.7;                #Base-emitter voltage, V\n",
    "\n",
    "\n",
    "#Calculation\n",
    "#(i)\n",
    "A_CM=round(RC/(2*RE),2);             #Common mode voltage gain\n",
    "\n",
    "#(ii)\n",
    "IE=round((VEE-VBE)/RE,4);            #Tail current, mA\n",
    "IE1=round(IE/2,4);                   #Emitter current of 1st transistor, mA\n",
    "IE2=IE1;                             #Emitter current of 2nd transistor, mA\n",
    "re=round(25/IE1,1);                  #a.c emitter resistance, Ω\n",
    "A_DM=RC*1000/(2*re);                 #Differential voltage gain,\n",
    "CMRR_dB=floor(20*log10(A_DM/A_CM)*100)/100;         #Common mode rejection ratio, dB\n",
    "\n",
    "\n",
    "#Result\n",
    "print(\"(i) Common mode gain=%.2f\"%A_CM);\n",
    "print(\"(ii)Common mode rejection ratio=%.2fdB\"%CMRR_dB);\n"
   ]
  },
  {
   "cell_type": "markdown",
   "metadata": {},
   "source": [
    "## Example 25.21 : Page number 691"
   ]
  },
  {
   "cell_type": "code",
   "execution_count": 22,
   "metadata": {
    "collapsed": false
   },
   "outputs": [
    {
     "name": "stdout",
     "output_type": "stream",
     "text": [
      "f2=30kHz\n",
      "ACL=75 or 37.5dB.\n"
     ]
    }
   ],
   "source": [
    "from math import log10\n",
    "\n",
    "#Variable declaration\n",
    "ACL=500;                    #closed loop gain\n",
    "f_unity=15;                 #frequency with cloased-loop unity gain, MHz\n",
    "\n",
    "\n",
    "#Calculation\n",
    "f2=f_unity*1000/500                 #Upper frequency of bandwidth,kHz\n",
    "BW=f2-0;                            #Bandwidth, kHz\n",
    "A_CL=f_unity*1000/200;                    #Maximum value of A_CL when f2=200kHz\n",
    "A_CL_dB=20*log10(A_CL);             #Maximum value of A_CL in decibel\n",
    "\n",
    "\n",
    "#Result\n",
    "print(\"f2=%dkHz\"%f2);\n",
    "print(\"ACL=%d or %.1fdB.\"%(A_CL,A_CL_dB));\n"
   ]
  },
  {
   "cell_type": "markdown",
   "metadata": {},
   "source": [
    "## Example 25.22 : Page number 691-692"
   ]
  },
  {
   "cell_type": "code",
   "execution_count": 23,
   "metadata": {
    "collapsed": false
   },
   "outputs": [
    {
     "name": "stdout",
     "output_type": "stream",
     "text": [
      "(i) Operating Bandwidth=1.5MHz.\n",
      "(ii) Operating Bandwidth=150kHz.\n",
      "(iii) Operating Bandwidth=15kHz.\n"
     ]
    }
   ],
   "source": [
    "\n",
    "#Variable declaration\n",
    "GBW=1.5;                    #Gain-bandwidth, MHz\n",
    "\n",
    "#Calculation\n",
    "#(i) For A_CL=1;\n",
    "A_CL=1;                         #Closed loop gain\n",
    "BW=GBW/A_CL;                    #Bandwidth, MHz\n",
    "\n",
    "print(\"(i) Operating Bandwidth=%.1fMHz.\"%BW);\n",
    "\n",
    "#(ii) For A_CL=10;\n",
    "A_CL=10;                         #Closed loop gain\n",
    "BW=(GBW/A_CL)*1000;              #Bandwidth, kHz\n",
    "\n",
    "print(\"(ii) Operating Bandwidth=%dkHz.\"%BW);\n",
    "\n",
    "#(iii) For A_CL=100;\n",
    "A_CL=100;                         #Closed loop gain\n",
    "BW=(GBW/A_CL)*1000;               #Bandwidth, kHz\n",
    "\n",
    "print(\"(iii) Operating Bandwidth=%dkHz.\"%BW);\n"
   ]
  },
  {
   "cell_type": "markdown",
   "metadata": {},
   "source": [
    "## Example 25.23 : Page number 692"
   ]
  },
  {
   "cell_type": "code",
   "execution_count": 24,
   "metadata": {
    "collapsed": false
   },
   "outputs": [
    {
     "name": "stdout",
     "output_type": "stream",
     "text": [
      "Maximum operating frequency=9.95kHz.\n"
     ]
    }
   ],
   "source": [
    "from math import pi\n",
    "\n",
    "#Variable declaration\n",
    "slew_rate=0.5;                  #Slew rate, V/μs\n",
    "V_supply=10;                     #Supply voltage, V\n",
    "\n",
    "\n",
    "#Calculation\n",
    "V_sat=V_supply-2;                           #Saturation voltage, V\n",
    "V_pk=V_sat;                                 #Maximum peak-output voltage, V\n",
    "f_max=((slew_rate*10**6)/(2*pi*V_pk))/1000;       #Maximum operating frequency, kHz\n",
    "\n",
    "#Result\n",
    "print(\"Maximum operating frequency=%.2fkHz.\"%f_max);\n"
   ]
  },
  {
   "cell_type": "markdown",
   "metadata": {},
   "source": [
    "## Example 25.24 : Page number 692"
   ]
  },
  {
   "cell_type": "code",
   "execution_count": 25,
   "metadata": {
    "collapsed": false
   },
   "outputs": [
    {
     "name": "stdout",
     "output_type": "stream",
     "text": [
      "Maximum operating frequency=796kHz\n"
     ]
    }
   ],
   "source": [
    "from math import pi\n",
    "\n",
    "#Variable declaration\n",
    "slew_rate=0.5;                  #Slew rate, V/μs\n",
    "V_pk=100.0;                       #Peak-output voltage, mV\n",
    "\n",
    "\n",
    "#Calculation\n",
    "V_pk=V_pk/1000.0;                                #Peak-output voltage, V\n",
    "f_max=(slew_rate*10**6/(2*pi*V_pk))/1000.0;      #Maximum operating frequency, kHz\n",
    "\n",
    "#Result\n",
    "print(\"Maximum operating frequency=%.0fkHz\"%f_max);\n"
   ]
  },
  {
   "cell_type": "markdown",
   "metadata": {},
   "source": [
    "## Example 25.25 : Page number 695-696"
   ]
  },
  {
   "cell_type": "code",
   "execution_count": 26,
   "metadata": {
    "collapsed": false
   },
   "outputs": [
    {
     "name": "stdout",
     "output_type": "stream",
     "text": [
      "Feedback resistor=220kΩ\n"
     ]
    }
   ],
   "source": [
    "#Variable declaration\n",
    "A_CL=-100;              #Closed-loop voltage gain\n",
    "Ri=2.2;                 #Input resistor, kΩ\n",
    "\n",
    "#Calculation\n",
    "#Since, A_CL=-(Rf/Ri)\n",
    "Rf=-A_CL*Ri;                #Feedback resistor, kΩ\n",
    "\n",
    "#Result\n",
    "print(\"Feedback resistor=%dkΩ\"%Rf);\n"
   ]
  },
  {
   "cell_type": "markdown",
   "metadata": {},
   "source": [
    "## Example 25.26 : Page number 696"
   ]
  },
  {
   "cell_type": "code",
   "execution_count": 27,
   "metadata": {
    "collapsed": false
   },
   "outputs": [
    {
     "name": "stdout",
     "output_type": "stream",
     "text": [
      "Output voltage=-0.25V\n"
     ]
    }
   ],
   "source": [
    "#Variable declaration\n",
    "vin=2.5;                #Input voltage, mV\n",
    "Rf=200;                 #Feedback resistor, kΩ\n",
    "Ri=2;                   #Input resistor, kΩ\n",
    "\n",
    "#Calculation\n",
    "A_CL=-(Rf/Ri);                  #Closed-loop voltage gain\n",
    "vout=A_CL*vin/1000;                  #Output voltage,V\n",
    "\n",
    "#Result\n",
    "print(\"Output voltage=%.2fV\"%vout);\n"
   ]
  },
  {
   "cell_type": "markdown",
   "metadata": {},
   "source": [
    "## Example 25.27 : Page number 696"
   ]
  },
  {
   "cell_type": "code",
   "execution_count": 28,
   "metadata": {
    "collapsed": false
   },
   "outputs": [
    {
     "name": "stdout",
     "output_type": "stream",
     "text": [
      "Closed-loop voltage gain=-1\n",
      "Therefore, output will have same amplitude but 180° phase inversion.\n"
     ]
    }
   ],
   "source": [
    "#Varaiable declaration\n",
    "Rf=1.0;                   #Feedback resistor, kΩ\n",
    "Ri=1.0;                   #Input resistor, kΩ\n",
    "\n",
    "#Calculation\n",
    "A_CL=-(Rf/Ri);                  #Closed-loop voltage gain\n",
    "\n",
    "#Result\n",
    "print(\"Closed-loop voltage gain=%d\"%A_CL);\n",
    "print(\"Therefore, output will have same amplitude but 180° phase inversion.\");\n"
   ]
  },
  {
   "cell_type": "markdown",
   "metadata": {},
   "source": [
    "## Example 25.28 : Page number 696-697"
   ]
  },
  {
   "cell_type": "code",
   "execution_count": 29,
   "metadata": {
    "collapsed": false
   },
   "outputs": [
    {
     "name": "stdout",
     "output_type": "stream",
     "text": [
      "Closed-loop voltage gain=-40\n",
      "Supply voltage=±15V, saturation voltage=±13V. Since gain=-40, op-Amp will be driven to saturation.\n"
     ]
    }
   ],
   "source": [
    "#Variable declaration\n",
    "Rf=40;                   #Feedback resistor, kΩ\n",
    "Ri=1;                   #Input resistor, kΩ\n",
    "\n",
    "#Calculation\n",
    "A_CL=-(Rf/Ri);                  #Closed-loop voltage gain\n",
    "\n",
    "\n",
    "#Result\n",
    "print(\"Closed-loop voltage gain=%d\"%A_CL);\n",
    "print(\"Supply voltage=±15V, saturation voltage=±13V. Since gain=-40, op-Amp will be driven to saturation.\");\n"
   ]
  },
  {
   "cell_type": "markdown",
   "metadata": {},
   "source": [
    "## Example 25.29 : Page number 697"
   ]
  },
  {
   "cell_type": "code",
   "execution_count": 30,
   "metadata": {
    "collapsed": false
   },
   "outputs": [
    {
     "name": "stdout",
     "output_type": "stream",
     "text": [
      "(i)  A_CL=-10.\n",
      "(ii) Zi=10kΩ\n",
      "(iii) Maximum operating frequency=15.9kHz.\n"
     ]
    }
   ],
   "source": [
    "from math import pi\n",
    "\n",
    "#Variable declaration\n",
    "Rf=100;                   #Feedback resistor, kΩ\n",
    "Ri=10;                    #Input resistor, kΩ\n",
    "Vpp=1;                    #Input peak-peak voltage, V\n",
    "slew_rate=0.5;            #Slew rate, V//μs\n",
    "\n",
    "#Calculation\n",
    "#(i)\n",
    "A_CL=-(Rf/Ri);                  #Closed-loop voltage gain\n",
    "\n",
    "#(ii)\n",
    "Zi=Ri;                  #Input impedance(~ Input resistor), kΩ\n",
    "\n",
    "#(iii)\n",
    "Vout=A_CL*Vpp;                           #Peak-to-peak voltage, V\n",
    "Vpk=Vout/2;                              #Peak output voltage, V\n",
    "f_max=(slew_rate*10**6/(2*pi*abs(Vpk)))/1000;        #Maximum operating frequency, kHz\n",
    "\n",
    "\n",
    "#Result\n",
    "print(\"(i)  A_CL=%d.\"%A_CL);\n",
    "print(\"(ii) Zi=%dkΩ\"%Zi);\n",
    "print(\"(iii) Maximum operating frequency=%.1fkHz.\"%f_max);\n"
   ]
  },
  {
   "cell_type": "markdown",
   "metadata": {},
   "source": [
    "## Example 25.30 : Page number 697"
   ]
  },
  {
   "cell_type": "code",
   "execution_count": 31,
   "metadata": {
    "collapsed": false
   },
   "outputs": [
    {
     "name": "stdout",
     "output_type": "stream",
     "text": [
      "Rf=20kΩ and Ri=5kΩ.\n"
     ]
    }
   ],
   "source": [
    "#Variable declaration\n",
    "A_CL=-4;                    #Closed loop voltage gain\n",
    "R=[1.0,5.0,10.0,20.0];              #List of available resistors, kΩ\n",
    "\n",
    "#Calculation\n",
    "for i in R[:]:\n",
    "    for j in R[:]:\n",
    "        if -(i/j)==A_CL :\n",
    "            print(\"Rf=%dkΩ and Ri=%dkΩ.\"%(i,j));\n",
    "            break;\n",
    "\n",
    "\n"
   ]
  },
  {
   "cell_type": "markdown",
   "metadata": {},
   "source": [
    "## Example 25.31 : Page  number 697-698"
   ]
  },
  {
   "cell_type": "code",
   "execution_count": 32,
   "metadata": {
    "collapsed": false
   },
   "outputs": [
    {
     "name": "stdout",
     "output_type": "stream",
     "text": [
      "(i) Closed loop voltage gain=-100.\n",
      "(ii) Closed loop voltage gain=-50.\n"
     ]
    }
   ],
   "source": [
    "#Variable declaration\n",
    "Rf=100;                   #Feedback resistor, kΩ\n",
    "Ri=1;                    #Input resistor, kΩ\n",
    "\n",
    "\n",
    "#Calculation\n",
    "#(i)\n",
    "R_source=0;               #Source resistor, kΩ\n",
    "A_CL=-Rf/(R_source+Ri);    #Closed-loop voltage gain\n",
    "\n",
    "print(\"(i) Closed loop voltage gain=%d.\"%A_CL);\n",
    "\n",
    "#(ii)\n",
    "R_source=1;               #Source resistor, kΩ\n",
    "A_CL=-Rf/(R_source+Ri);    #Closed-loop voltage gain\n",
    "\n",
    "print(\"(ii) Closed loop voltage gain=%d.\"%A_CL);\n"
   ]
  },
  {
   "cell_type": "markdown",
   "metadata": {},
   "source": [
    "## Example 25.32 : Page number 699-700"
   ]
  },
  {
   "cell_type": "code",
   "execution_count": 33,
   "metadata": {
    "collapsed": false
   },
   "outputs": [
    {
     "name": "stdout",
     "output_type": "stream",
     "text": [
      "Output voltage=12.12mV\n"
     ]
    }
   ],
   "source": [
    "#Variable declaration\n",
    "Rf=240;                   #Feedback resistor, kΩ\n",
    "Ri=2.4;                    #Input resistor, kΩ\n",
    "Vin=120;                    #Input voltage, μV\n",
    "\n",
    "\n",
    "#Calculation\n",
    "A_CL=1+(Rf/Ri);             #Closed loop voltage gain\n",
    "Vout=(A_CL*Vin)/1000;       #Output voltage, mV\n",
    "\n",
    "#Result\n",
    "print(\"Output voltage=%.2fmV\"%Vout);\n"
   ]
  },
  {
   "cell_type": "markdown",
   "metadata": {},
   "source": [
    "## Example 25.33 : Page number 700"
   ]
  },
  {
   "cell_type": "code",
   "execution_count": 34,
   "metadata": {
    "collapsed": false
   },
   "outputs": [
    {
     "name": "stdout",
     "output_type": "stream",
     "text": [
      "(i)  Output voltage=11V\n",
      "(ii) Output voltage=-11V\n"
     ]
    }
   ],
   "source": [
    "#Variable declaration\n",
    "Rf=10;                   #Feedback resistor, kΩ\n",
    "Ri=1;                    #Input resistor, kΩ\n",
    "\n",
    "\n",
    "#Calculation\n",
    "A_CL=1+(Rf/Ri);             #Closed loop voltage gain\n",
    "#(i)\n",
    "Vin=1;                      #Input voltage, V\n",
    "Vout=A_CL*Vin;              #Output voltage, V\n",
    "\n",
    "print(\"(i)  Output voltage=%dV\"%Vout);\n",
    "\n",
    "\n",
    "#(ii)\n",
    "Vin=-1;                      #Input voltage, V\n",
    "Vout=A_CL*Vin;               #Output voltage, V\n",
    "\n",
    "print(\"(ii) Output voltage=%dV\"%Vout);\n"
   ]
  },
  {
   "cell_type": "markdown",
   "metadata": {},
   "source": [
    "## Example 25.34 : Page number 700"
   ]
  },
  {
   "cell_type": "code",
   "execution_count": 35,
   "metadata": {
    "collapsed": false
   },
   "outputs": [
    {
     "name": "stdout",
     "output_type": "stream",
     "text": [
      "Peak to peak output voltage=12V\n"
     ]
    }
   ],
   "source": [
    "#Variable declaration\n",
    "Rf=5;                       #Feedback resistor, kΩ\n",
    "Ri=1;                       #Input resistor, kΩ\n",
    "Vin_max=1;                  #Maximum input voltage, V\n",
    "Vin_min=-1;                 #Minimum input voltage, V\n",
    "\n",
    "#Calculation\n",
    "V_inpp=Vin_max-Vin_min;               #Peak-peak input voltage, V\n",
    "A_CL=1+(Rf/Ri);                     #Closed loop voltage gain\n",
    "Vout_pp=A_CL*V_inpp;                #Peak-peak output voltage, V\n",
    "\n",
    "#Result\n",
    "print(\"Peak to peak output voltage=%dV\"%Vout_pp);\n"
   ]
  },
  {
   "cell_type": "markdown",
   "metadata": {},
   "source": [
    "## Example 25.35 : Page number 700-701"
   ]
  },
  {
   "cell_type": "code",
   "execution_count": 36,
   "metadata": {
    "collapsed": false
   },
   "outputs": [
    {
     "name": "stdout",
     "output_type": "stream",
     "text": [
      "(i)  Closed-loop voltage gain=11\n",
      "(ii) Maximum operating frequency=14.47kHz\n"
     ]
    }
   ],
   "source": [
    "from math import pi\n",
    "\n",
    "#Variable declaration\n",
    "Rf=100;                       #Feedback resistor, kΩ\n",
    "Ri=10;                       #Input resistor, kΩ\n",
    "Vpp=1;                    #Input peak-peak voltage, V\n",
    "slew_rate=0.5;              #Slew rate, V/μs\n",
    "\n",
    "#Calculation\n",
    "#(i)\n",
    "A_CL=1+(Rf/Ri);                                      #Closed loop voltage gain\n",
    "\n",
    "#(ii)\n",
    "Vout_pp=A_CL*Vpp;                                    #Peak-peak output voltage, V\n",
    "Vpk=Vout_pp/2.0;                                          #Peak output voltage, V\n",
    "f_max=((slew_rate*10**6)/(2*pi*Vpk))/1000.0;           #Maximum operating frequency, kHz\n",
    "\n",
    "#Result\n",
    "print(\"(i)  Closed-loop voltage gain=%d\"%A_CL);\n",
    "\n",
    "print(\"(ii) Maximum operating frequency=%.2fkHz\"%f_max);\n"
   ]
  },
  {
   "cell_type": "markdown",
   "metadata": {},
   "source": [
    "## Example 25.36 : Page number 701"
   ]
  },
  {
   "cell_type": "code",
   "execution_count": 37,
   "metadata": {
    "collapsed": false
   },
   "outputs": [
    {
     "name": "stdout",
     "output_type": "stream",
     "text": [
      "(i)  Bandwidth=44.3kHz.\n",
      "(ii)  Bandwidth=63.8kHz.\n"
     ]
    }
   ],
   "source": [
    "#Variable declaration\n",
    "Rf=220;                       #Feedback resistor, kΩ\n",
    "Ri=3.3;                       #Input resistor, kΩ\n",
    "unity_gain_BW=3;              #Unity gain bandwidth, MHz\n",
    "\n",
    "#Calculation\n",
    "#(i) For non-inverting amplifier\n",
    "A_CL=1+(Rf/Ri);                    #Closed loop voltage gain\n",
    "BW=unity_gain_BW*1000.0/A_CL;        #Bandwidth, kHz\n",
    "\n",
    "print(\"(i)  Bandwidth=%.1fkHz.\"%BW);\n",
    "\n",
    "#(ii) For inverting amplifier\n",
    "Rf=47;                          #Feedback resistor, kΩ\n",
    "Ri=1;                           #Input resistor, kΩ\n",
    "A_CL=-(Rf/Ri);                    #Closed loop voltage gain\n",
    "BW=unity_gain_BW*1000.0/abs(A_CL);        #Bandwidth, kHz\n",
    "\n",
    "print(\"(ii)  Bandwidth=%.1fkHz.\"%BW);\n"
   ]
  },
  {
   "cell_type": "markdown",
   "metadata": {},
   "source": [
    "## Example 25.37 : Page number 701-702"
   ]
  },
  {
   "cell_type": "code",
   "execution_count": 38,
   "metadata": {
    "collapsed": false
   },
   "outputs": [
    {
     "name": "stdout",
     "output_type": "stream",
     "text": [
      "(i) For voltage follower A_CL=1.\n",
      "(ii) The maximum output frequency=26.53kHz.\n"
     ]
    }
   ],
   "source": [
    "from math import pi\n",
    "\n",
    "#(i)\n",
    "A_CL=1;                     #Closed loop voltage gain for voltage follower\n",
    "print(\"(i) For voltage follower A_CL=1.\");\n",
    "\n",
    "\n",
    "#(ii)\n",
    "slew_rate=0.5;              #Slew rate, V/μs\n",
    "V_inpp=6;                   #peak-peak input voltage, V\n",
    "Vout=A_CL*V_inpp;           #Peak-peak output voltage, V\n",
    "Vpk=Vout/2;                 #Peak output voltage, V\n",
    "\n",
    "f_max=(slew_rate*10**6/(2*pi*Vpk))/1000;       #Maximum operating frequency, kHz\n",
    "\n",
    "#Result\n",
    "print(\"(ii) The maximum output frequency=%.2fkHz.\"%f_max);\n"
   ]
  },
  {
   "cell_type": "markdown",
   "metadata": {},
   "source": [
    "## Example 25.38 : Page number 702"
   ]
  },
  {
   "cell_type": "code",
   "execution_count": 39,
   "metadata": {
    "collapsed": false
   },
   "outputs": [
    {
     "name": "stdout",
     "output_type": "stream",
     "text": [
      "Output voltage=1.78V\n"
     ]
    }
   ],
   "source": [
    "#Variable declaration\n",
    "Rf=470.0;                 #Feedback resistor, kΩ\n",
    "R1=4.3;                 #Input resistor of 1st op-Amp, kΩ\n",
    "R2=33.0;                 #Input resistor of 2nd op-Amp, kΩ\n",
    "R3=33.0;                 #Input resistor of 3rd op-Amp, kΩ\n",
    "Vin=80.0;                 #Input voltage, μV.\n",
    "\n",
    "#Calculation\n",
    "A1=1+Rf/R1;                 #Gain of first op-Amp\n",
    "A2=-round(Rf/R2,1);         #Gain of second op-Amp\n",
    "A3=-round(Rf/R3,1);         #Gain of third op-Amp\n",
    "A=A1*A2*A3;                 #Overall gain\n",
    "Vout=A*Vin*10**-6;          #Output voltage, V\n",
    "\n",
    "#Result\n",
    "print(\"Output voltage=%.2fV\"%Vout);\n"
   ]
  },
  {
   "cell_type": "markdown",
   "metadata": {},
   "source": [
    "## Example 25.39 : Page number 702-703"
   ]
  },
  {
   "cell_type": "code",
   "execution_count": 40,
   "metadata": {
    "collapsed": false
   },
   "outputs": [
    {
     "name": "stdout",
     "output_type": "stream",
     "text": [
      "R1=30kΩ, R2=15kΩ and R3=10kΩ.\n",
      "Output voltage=0.729V.\n"
     ]
    }
   ],
   "source": [
    "#Variable declaration\n",
    "A1=10;                  #Voltage gain of 1st op-Amp\n",
    "A2=-18;                 #Voltage gain of 2nd op-Amp\n",
    "A3=-27;                 #Voltage gain of 3rd op-Amp\n",
    "Rf=270;                 #Feedback resistor, kΩ\n",
    "Vin=150;                #Input voltage, μV  \n",
    "\n",
    "\n",
    "#Calculation\n",
    "R1=Rf/(A1-1);                   #Input resistor of 1st op-Amp, kΩ\n",
    "R2=-Rf/A2;                      #Input resistr of 2nd op-Amp, kΩ\n",
    "R3=-Rf/A3;                      #Input resistor of 3rd op-Amp, kΩ\n",
    "\n",
    "A=A1*A2*A3;                     #overall gain,\n",
    "Vout=Vin*10**-6*A;              #Output voltage, V\n",
    "\n",
    "\n",
    "#Result\n",
    "print(\"R1=%dkΩ, R2=%dkΩ and R3=%dkΩ.\"%(R1,R2,R3));\n",
    "print(\"Output voltage=%.3fV.\"%Vout);\n"
   ]
  },
  {
   "cell_type": "markdown",
   "metadata": {},
   "source": [
    "## Example 25.40 : Page number 703-704"
   ]
  },
  {
   "cell_type": "code",
   "execution_count": 41,
   "metadata": {
    "collapsed": false
   },
   "outputs": [
    {
     "name": "stdout",
     "output_type": "stream",
     "text": [
      "R1=50kΩ, R2=25kΩ and R3=10kΩ.\n"
     ]
    }
   ],
   "source": [
    "#Variable declaration\n",
    "Rf=500;                 #Feedback resistor, kΩ\n",
    "A1=-10;                 #Gain of 1st op-Amp\n",
    "A2=-20;                 #Gain of 2nd op-Amp\n",
    "A3=-50;                 #Gain of 3rd op-Amp\n",
    "\n",
    "#Calculation\n",
    "R1=-Rf/A1;                      #Input resistor of 1st op-Amp, kΩ\n",
    "R2=-Rf/A2;                      #Input resistor of 2nd op-Amp, kΩ\n",
    "R3=-Rf/A3;                      #Input resistor of 3rd op-Amp, kΩ\n",
    "\n",
    "\n",
    "#Result\n",
    "print(\"R1=%dkΩ, R2=%dkΩ and R3=%dkΩ.\"%(R1,R2,R3));\n"
   ]
  },
  {
   "cell_type": "markdown",
   "metadata": {},
   "source": [
    "## Example 25.41 : Page number 705"
   ]
  },
  {
   "cell_type": "code",
   "execution_count": 42,
   "metadata": {
    "collapsed": false
   },
   "outputs": [
    {
     "name": "stdout",
     "output_type": "stream",
     "text": [
      "(i) The input impedance=17202MΩ and output impedance=8.7e-03Ω.\n",
      "(ii) The closed loop voltage gain=23.\n"
     ]
    }
   ],
   "source": [
    "#Variable declaration\n",
    "Zin=2.0;              #Input impedance of op-Amp, MΩ\n",
    "Zout=75.0;            #Output impedance of op-Amp, Ω\n",
    "A_OL=200000.0;        #Open-loop voltage gain\n",
    "Rf=220.0;             #Feedback resistor, kΩ\n",
    "Ri=10.0;              #Input resistor, kΩ\n",
    "\n",
    "\n",
    "#Calculation\n",
    "#(i)\n",
    "mv=round(Ri/(Ri+Rf),3);       #Feedback fraction\n",
    "Zin_NI=Zin*(1+(A_OL*mv));     #Input impedance, MΩ\n",
    "Zout_NI=Zout/(1+A_OL*mv);     #Output impedance, Ω\n",
    "\n",
    "#(ii)\n",
    "A_CL=1+Rf/Ri;               #Closed loop voltage gain\n",
    "\n",
    "#Result\n",
    "print(\"(i) The input impedance=%dMΩ and output impedance=%.1eΩ.\"%(Zin_NI,Zout_NI));\n",
    "print(\"(ii) The closed loop voltage gain=%d.\"%A_CL);\n"
   ]
  },
  {
   "cell_type": "markdown",
   "metadata": {},
   "source": [
    "## Example 25.42 : Page number 705-706"
   ]
  },
  {
   "cell_type": "code",
   "execution_count": 43,
   "metadata": {
    "collapsed": false
   },
   "outputs": [
    {
     "name": "stdout",
     "output_type": "stream",
     "text": [
      "The input impedance=400002MΩ and output impedance=0.38e-03Ω.\n"
     ]
    }
   ],
   "source": [
    "#Variable declaration\n",
    "#For voltage follower,\n",
    "mv=1.0;               #Feedback fraction\n",
    "A_OL=200000.0;        #Open-loop voltage gain\n",
    "Zin=2.0;              #Input impedance of op-Amp, MΩ\n",
    "Zout=75.0;            #Output impedance of op-Amp, Ω\n",
    "\n",
    "\n",
    "#Calculation\n",
    "Zin_VF=Zin*(1+(A_OL*mv));     #Input impedance, MΩ\n",
    "Zout_VF=round(round(Zout/(1+A_OL*mv),6),5);     #Output impedance, Ω\n",
    "\n",
    "#Result\n",
    "print(\"The input impedance=%dMΩ and output impedance=%.2fe-03Ω.\"%(Zin_VF,Zout_VF*1000));\n"
   ]
  },
  {
   "cell_type": "markdown",
   "metadata": {},
   "source": [
    "## Example 25.43 : Page number 706"
   ]
  },
  {
   "cell_type": "code",
   "execution_count": 44,
   "metadata": {
    "collapsed": false
   },
   "outputs": [
    {
     "name": "stdout",
     "output_type": "stream",
     "text": [
      "The input impedance=1kΩ and output impedance=50Ω.\n",
      "Closed-loop voltage gain=-100\n"
     ]
    }
   ],
   "source": [
    "#Variable declaration\n",
    "Rf=100;             #Feedback resistor, kΩ\n",
    "Ri=1.0;               #Input resistor, kΩ\n",
    "Zin=4;              #Input impedance of op-Amp, MΩ\n",
    "Zout=50;            #Output impedance of op-Amp, Ω\n",
    "\n",
    "\n",
    "#Calculation\n",
    "Zin_I=Ri;                   #Input impedance, kΩ\n",
    "Zout_I=Zout;                #Output impedance, Ω\n",
    "A_CL=-(Rf/Ri);              #Closed loop voltage gain\n",
    "\n",
    "\n",
    "#Result\n",
    "print(\"The input impedance=%dkΩ and output impedance=%dΩ.\"%(Zin_I,Zout_I));\n",
    "print(\"Closed-loop voltage gain=%d\"%A_CL);\n"
   ]
  },
  {
   "cell_type": "markdown",
   "metadata": {},
   "source": [
    "## Example 25.44 : Page number 709"
   ]
  },
  {
   "cell_type": "code",
   "execution_count": 45,
   "metadata": {
    "collapsed": false
   },
   "outputs": [
    {
     "name": "stdout",
     "output_type": "stream",
     "text": [
      "Output voltage=-12V.\n"
     ]
    }
   ],
   "source": [
    "#Variable declaration\n",
    "Rf=10;               #Feedback resistor, kΩ\n",
    "Ri=10;               #Input resistor, kΩ\n",
    "V1=3;                #Input voltage 1st, V\n",
    "V2=1;                #Input voltage 2nd, V\n",
    "V3=8;                #Input voltage 3rd, V\n",
    "\n",
    "\n",
    "#Calculation\n",
    "#Since, Rf=Ri, Vout=-(Rf/Ri)*(V1+V2+V3)= -(V1+V2+V3);\n",
    "Vout=-(V1+V2+V3);           #Output voltage, V\n",
    "\n",
    "#Result\n",
    "print(\"Output voltage=%dV.\"%Vout);\n"
   ]
  },
  {
   "cell_type": "markdown",
   "metadata": {},
   "source": [
    "## Example 25.45 : Page number 709"
   ]
  },
  {
   "cell_type": "code",
   "execution_count": 46,
   "metadata": {
    "collapsed": false
   },
   "outputs": [
    {
     "name": "stdout",
     "output_type": "stream",
     "text": [
      "Output voltage=-7V.\n"
     ]
    }
   ],
   "source": [
    "#Variable declaration\n",
    "Rf=10;               #Feedback resistor, kΩ\n",
    "R1=1;                #Input resistor for input 1, kΩ\n",
    "R2=1;                #Input resistor for input 2, kΩ\n",
    "V1=0.2;              #Input voltage 1st, V\n",
    "V2=0.5;              #Input voltage 2nd, V\n",
    "\n",
    "\n",
    "#Calculation\n",
    "R=R1;                       #Input resistor(=R1 or R2), kΩ\n",
    "Vout=-(Rf/R)*(V1+V2);       #Output voltage, V\n",
    "\n",
    "#Result\n",
    "print(\"Output voltage=%dV.\"%Vout);\n"
   ]
  },
  {
   "cell_type": "markdown",
   "metadata": {},
   "source": [
    "## Example 25.46 : Page number 709-710"
   ]
  },
  {
   "cell_type": "code",
   "execution_count": 47,
   "metadata": {
    "collapsed": false
   },
   "outputs": [
    {
     "name": "stdout",
     "output_type": "stream",
     "text": [
      "Output voltage=-2.5V.\n"
     ]
    }
   ],
   "source": [
    "#Variable declaration\n",
    "Rf=1;                #Feedback resistor, kΩ\n",
    "Ri=10.0;               #Input resistor, kΩ\n",
    "V1=10;                #Input voltage 1st, V\n",
    "V2=8.0;                #Input voltage 2nd, V\n",
    "V3=7.0;                #Input voltage 3rd, V\n",
    "\n",
    "\n",
    "#Calculation\n",
    "#Since, Vout=-(Rf/Ri)*(V1+V2+V3);\n",
    "Vout=-(Rf/Ri)*(V1+V2+V3);           #Output voltage, V\n",
    "\n",
    "#Result\n",
    "print(\"Output voltage=%.1fV.\"%Vout);\n"
   ]
  },
  {
   "cell_type": "markdown",
   "metadata": {},
   "source": [
    "## Example 25.47 : Page number 710"
   ]
  },
  {
   "cell_type": "code",
   "execution_count": 48,
   "metadata": {
    "collapsed": false
   },
   "outputs": [
    {
     "name": "stdout",
     "output_type": "stream",
     "text": [
      "Output voltage=2.5V\n"
     ]
    }
   ],
   "source": [
    "#Variable declaration\n",
    "V1=0.6;                 #Input voltage to 1st input resistor, V\n",
    "V2=-1.4;                #Input voltage to 2nd input resistor, V\n",
    "Rf=200;                 #Feedback resistor, kΩ\n",
    "R1=400;                 #Input resistor 1, kΩ\n",
    "R2=100.0;                 #Input resistor 2, kΩ\n",
    "\n",
    "#Calculation\n",
    "Vout=-Rf*(V1/R1 +V2/R2);                 #Output voltage, V\n",
    "\n",
    "#Result\n",
    "print(\"Output voltage=%.1fV\"%Vout);\n"
   ]
  },
  {
   "cell_type": "markdown",
   "metadata": {},
   "source": [
    "## Example 25.48 : Page number 710-711"
   ]
  },
  {
   "cell_type": "code",
   "execution_count": 49,
   "metadata": {
    "collapsed": false
   },
   "outputs": [
    {
     "name": "stdout",
     "output_type": "stream",
     "text": [
      "(i) The output voltage=-12.5V\n",
      "(ii) The output voltage=-7.5V\n",
      "(iii) The output voltage=-17.5V\n"
     ]
    }
   ],
   "source": [
    "#Variable declaration\n",
    "Rf=1.0;                 #Feedback resistor, kΩ\n",
    "R1=1.0;                 #Input resistor 1, kΩ\n",
    "R2=2.0;                 #Input resistor 2, kΩ\n",
    "R3=4.0;                 #Input resistor 3, kΩ\n",
    "\n",
    "\n",
    "#Calculation\n",
    "Rf_R1=Rf/R1;                #Ratio of feedback resistor and 1st input resistor\n",
    "Rf_R2=Rf/R2;                #Ratio of feedback resistor and 2nd input resistor\n",
    "Rf_R3=Rf/R3;                #Ratio of feedback resistor and 3rd input resistor\n",
    "\n",
    "#(i) First input combination\n",
    "V1=10;                                   #Input voltage to 1st input resistor, V\n",
    "V2=0;                                    #Input voltage to 2nd input resistor, V\n",
    "V3=10;                                   #Input voltage to 3rd input resistor, V\n",
    "Vout=-(V1*Rf_R1 +V2*Rf_R2 +V3*Rf_R3);          #Output voltage, V\n",
    "print(\"(i) The output voltage=%.1fV\"%Vout);\n",
    "\n",
    "#(i) First input combination\n",
    "V1=0;                                   #Input voltage to 1st input resistor, V\n",
    "V2=10;                                    #Input voltage to 2nd input resistor, V\n",
    "V3=10;                                   #Input voltage to 3rd input resistor, V\n",
    "Vout=-(V1*Rf_R1 +V2*Rf_R2 +V3*Rf_R3);          #Output voltage, V\n",
    "print(\"(ii) The output voltage=%.1fV\"%Vout);\n",
    "\n",
    "\n",
    "#(i) First input combination\n",
    "V1=10;                                   #Input voltage to 1st input resistor, V\n",
    "V2=10;                                    #Input voltage to 2nd input resistor, V\n",
    "V3=10;                                   #Input voltage to 3rd input resistor, V\n",
    "Vout=-(V1*Rf_R1 +V2*Rf_R2 +V3*Rf_R3);          #Output voltage, V\n",
    "print(\"(iii) The output voltage=%.1fV\"%Vout);\n"
   ]
  },
  {
   "cell_type": "markdown",
   "metadata": {},
   "source": [
    "## Example 25.49 : Page number 711"
   ]
  },
  {
   "cell_type": "code",
   "execution_count": 50,
   "metadata": {
    "collapsed": false
   },
   "outputs": [
    {
     "name": "stdout",
     "output_type": "stream",
     "text": [
      "Vout=-[0.5sin(1000t)+0.33sin(3000t)]V\n"
     ]
    }
   ],
   "source": [
    "#Variable declaration\n",
    "Rf=330;                 #Feedback resistor, kΩ\n",
    "R1=33.0;                  #Input resistor 1, kΩ\n",
    "R2=10.0;                  #Input resistor 2, kΩ\n",
    "V1_m=50;                #Peak voltage of 1st input, mV\n",
    "V2_m=10;                #Peak voltage of 2nd input, mV\n",
    "\n",
    "#Calculation\n",
    "#Since, Vout=-((Rf/R1)*V1 + (Rf/R2)*V2)\n",
    "print(\"Vout=-[%.1fsin(1000t)+%.2fsin(3000t)]V\"%((V1_m/1000.0)*(Rf/R1),(V2_m/1000.0)*(Rf/R2)));\n"
   ]
  },
  {
   "cell_type": "markdown",
   "metadata": {},
   "source": [
    "## Example 25.50 : Page number 715"
   ]
  },
  {
   "cell_type": "code",
   "execution_count": 51,
   "metadata": {
    "collapsed": false
   },
   "outputs": [
    {
     "name": "stdout",
     "output_type": "stream",
     "text": [
      "Vo=-1*(1/RC)∫vi dt.\n",
      "=>Vo=-1*(1/1)∫vi dt\n",
      "=>Vo=∫vi dt\n"
     ]
    }
   ],
   "source": [
    "#Variable declaration\n",
    "R=100;                      #Input resistor, kΩ\n",
    "C=10;                       #Feedback capacitor, μF\n",
    "\n",
    "#Calculation\n",
    "RC=R*10**3*C*10**-6;        #product of input resistance and feedback capacitance, s\n",
    "\n",
    "\n",
    "#Result\n",
    "print(\"Vo=-1*(1/RC)∫vi dt.\");\n",
    "print(\"=>Vo=-1*(1/%d)∫vi dt\"%RC);\n",
    "print(\"=>Vo=∫vi dt\");\n"
   ]
  },
  {
   "cell_type": "markdown",
   "metadata": {},
   "source": [
    "## Example 25.51 : Page number 715-716"
   ]
  },
  {
   "cell_type": "code",
   "execution_count": 52,
   "metadata": {
    "collapsed": false
   },
   "outputs": [
    {
     "name": "stdout",
     "output_type": "stream",
     "text": [
      "The critical frequency=159Hz.\n"
     ]
    }
   ],
   "source": [
    "from math import pi\n",
    "\n",
    "#Variable declaration\n",
    "Rf=100;                      #Feedback resistor, kΩ\n",
    "C=0.01;                      #Feedback capacitor, μF\n",
    "\n",
    "\n",
    "#Calculation\n",
    "fc=1/(2*pi*Rf*1000*C*10**-6);               #Crictical frequency, Hz\n",
    "\n",
    "#Result\n",
    "print(\"The critical frequency=%dHz.\"%fc);\n"
   ]
  },
  {
   "cell_type": "markdown",
   "metadata": {},
   "source": [
    "## Example 25.52 : Page number 716"
   ]
  },
  {
   "cell_type": "code",
   "execution_count": 53,
   "metadata": {
    "collapsed": false
   },
   "outputs": [
    {
     "name": "stdout",
     "output_type": "stream",
     "text": [
      "(i) Vout=-1*(1/RC)∫vi dt.\n",
      "    ΔVout/dt = -vin/RC = -50mV/μs.\n"
     ]
    },
    {
     "data": {
      "image/png": "[encoded data removed]",
      "text/plain": [
       "<matplotlib.figure.Figure at 0x7f8b042c6b70>"
      ]
     },
     "metadata": {},
     "output_type": "display_data"
    }
   ],
   "source": [
    "%matplotlib inline\n",
    "import matplotlib.pyplot as plt\n",
    "\n",
    "#Variable declaration\n",
    "R=10.0;                      #Input resistor, kΩ\n",
    "C=0.01;                    #Feedback capacitor, μF\n",
    "vin=5;                     #Input voltage, V\n",
    "\n",
    "#Calculation\n",
    "#(i)\n",
    "Vout_change_rate=-vin/(R*C);            #Rate of change of output voltage, V/μs   \n",
    "print(\"(i) Vout=-1*(1/RC)∫vi dt.\");\n",
    "print(\"    ΔVout/dt = -vin/RC = %dmV/μs.\"%Vout_change_rate);\n",
    "\n",
    "#(ii) Plotting the output waveform\n",
    "vin_plot=[];                    #Plotting variable for input waveform, V\n",
    "dt=100;                          #time between edges, μs\n",
    "for i in range(0,3*dt+1):\n",
    "    if i<dt or i>2*dt :\n",
    "        vin_plot.append(0);\n",
    "    else:\n",
    "        vin_plot.append(5); \n",
    "\n",
    "plt.subplot(211);\n",
    "plt.plot(vin_plot);\n",
    "plt.xlim([0,300])\n",
    "plt.ylim([-5,10])\n",
    "plt.xlabel(\"t(microsecond)\");\n",
    "plt.ylabel(\"Vin(V)\");\n",
    "plt.title(\"Input waveform\");\n",
    "\n",
    "        \n",
    "vout_plot=[];                  #Plotting variable for output waveform, V\n",
    "t=[i for i in range(0,301)];  #Time scale, μs\n",
    "for i in t[:] :\n",
    "    if i<dt:\n",
    "        vout_plot.append(0);\n",
    "    elif i>2*dt:\n",
    "        vout_plot.append((Vout_change_rate/1000.0)*dt);\n",
    "    else :\n",
    "        vout_plot.append((-vin_plot[i]/(R*C))/1000*(i-dt));\n",
    "\n",
    "plt.subplot(212)\n",
    "plt.plot(vout_plot);\n",
    "plt.xlim([0,300])\n",
    "plt.ylim([-5,5]);\n",
    "plt.xlabel('t(microsecond)');\n",
    "plt.ylabel(\"Vout(V)\");\n",
    "plt.title(\"output waveform\");\n"
   ]
  },
  {
   "cell_type": "markdown",
   "metadata": {},
   "source": [
    "## Example 25.53 : Page number 716-717"
   ]
  },
  {
   "cell_type": "code",
   "execution_count": 54,
   "metadata": {
    "collapsed": false
   },
   "outputs": [
    {
     "name": "stdout",
     "output_type": "stream",
     "text": [
      "Vout=-1*(1/RC)∫vi dt.\n",
      "Vout=-5*t volts\n",
      "Time required=2.6seconds.\n"
     ]
    }
   ],
   "source": [
    "#Variable declaration\n",
    "V_supply=15;              #Supply voltage, V\n",
    "R=10;                     #Input resistor, kΩ\n",
    "C=0.2;                    #Feedback capacitor, μF\n",
    "vin=10;                   #Input voltage, mV\n",
    "\n",
    "\n",
    "#Calculation\n",
    "Vs=-V_supply+2;         #Saturation voltage, V\n",
    "print(\"Vout=-1*(1/RC)∫vi dt.\");\n",
    "print(\"Vout=%d*t volts\"%(-vin/(R*C)));\n",
    "t=Vs/(-vin/(R*C));                      #Time required, seconds\n",
    "print(\"Time required=%.1fseconds.\"%t);\n"
   ]
  },
  {
   "cell_type": "markdown",
   "metadata": {},
   "source": [
    "## Example 25.54 : Page number 717-718"
   ]
  },
  {
   "cell_type": "code",
   "execution_count": 55,
   "metadata": {
    "collapsed": false
   },
   "outputs": [
    {
     "name": "stdout",
     "output_type": "stream",
     "text": [
      "Vo=-5V.\n"
     ]
    }
   ],
   "source": [
    "#Variable declaration\n",
    "R=1;                     #Feedback resistor, kΩ\n",
    "C=0.1;                   #Input capacitor, μF\n",
    "Vin_change=5;            #Change in input voltage, V\n",
    "t=0.1;                   #Time taken for change in input voltage, ms\n",
    "\n",
    "#Calcualtion\n",
    "dvi_dt=Vin_change/(t/1000);        #Rate of change of input voltage, V/s\n",
    "RC=R*1000*C*10**-6;                #Product of feedback resistance and input capacitance, s\n",
    "#Since, Vo=-R*C*(dvi/dt);\n",
    "Vo=-RC*dvi_dt;                      #Output voltage, V\n",
    "\n",
    "#Result\n",
    "print(\"Vo=%dV.\"%Vo);\n"
   ]
  },
  {
   "cell_type": "markdown",
   "metadata": {},
   "source": [
    "## Example 25.55 : Page number 718"
   ]
  },
  {
   "cell_type": "code",
   "execution_count": 56,
   "metadata": {
    "collapsed": false
   },
   "outputs": [
    {
     "name": "stdout",
     "output_type": "stream",
     "text": [
      "Vo=-0.55V.\n",
      "The output voltage stays constant at -0.55V.\n"
     ]
    }
   ],
   "source": [
    "#Variable declaration\n",
    "R=10;                     #Feedback resistor, kΩ\n",
    "C=2.2;                   #Input capacitor, μF\n",
    "Vin_change=10;            #Change in input voltage, V\n",
    "t=0.4;                   #Time taken for change in input voltage, s\n",
    "\n",
    "#Calcualtin\n",
    "dvi_dt=Vin_change/t;        #Rate of change of input voltage, V/s\n",
    "RC=R*1000*C*10**-6;         #Product of feedback resistance and input capacitance, s\n",
    "#Since, Vo=-R*C*(dvi/dt);\n",
    "Vo=-RC*dvi_dt;                      #Output voltage, V\n",
    "\n",
    "#Result\n",
    "print(\"Vo=%.2fV.\"%Vo);\n",
    "print(\"The output voltage stays constant at %.2fV.\"%Vo);\n"
   ]
  },
  {
   "cell_type": "markdown",
   "metadata": {},
   "source": [
    "## Example 25.56 : Page number 718-719"
   ]
  },
  {
   "cell_type": "code",
   "execution_count": 57,
   "metadata": {
    "collapsed": false
   },
   "outputs": [
    {
     "name": "stdout",
     "output_type": "stream",
     "text": [
      "vo=-1*(dvi/dt).\n",
      "vo=-5V.\n",
      "Therefore, between 0 to 0.2s, the output voltage is constant at -5V.\n",
      "For t>0.2s, the input is constant so that output voltage is zero.\n"
     ]
    }
   ],
   "source": [
    "#Variable declaration\n",
    "R=100;                     #Feedback resistor, kΩ\n",
    "C=10;                   #Input capacitor, μF\n",
    "Vin_change=1;            #Change in input voltage, V\n",
    "t=0.2;                   #Time taken for change in input voltage, s\n",
    "\n",
    "\n",
    "#Calculation\n",
    "RC=R*1000*C*10**-6;             #Product of feedback resistor and input capacitance, s\n",
    "#(i)\n",
    "print(\"vo=-%d*(dvi/dt).\"%RC);\n",
    "\n",
    "#(ii)\n",
    "dvi_dt=Vin_change/t;                #Rate of change of input voltage, V\n",
    "vo=-dvi_dt;                         #Output voltage, V\n",
    "print(\"vo=%dV.\"%vo);\n",
    "\n",
    "print(\"Therefore, between 0 to 0.2s, the output voltage is constant at %dV.\"%vo);\n",
    "print(\"For t>0.2s, the input is constant so that output voltage is zero.\");\n"
   ]
  },
  {
   "cell_type": "code",
   "execution_count": null,
   "metadata": {
    "collapsed": true
   },
   "outputs": [],
   "source": []
  }
 ],
 "metadata": {
  "kernelspec": {
   "display_name": "Python 3",
   "language": "python",
   "name": "python3"
  },
  "language_info": {
   "codemirror_mode": {
    "name": "ipython",
    "version": 3
   },
   "file_extension": ".py",
   "mimetype": "text/x-python",
   "name": "python",
   "nbconvert_exporter": "python",
   "pygments_lexer": "ipython3",
   "version": "3.5.1"
  },
  "widgets": {
   "state": {},
   "version": "1.1.2"
  }
 },
 "nbformat": 4,
 "nbformat_minor": 0
}
