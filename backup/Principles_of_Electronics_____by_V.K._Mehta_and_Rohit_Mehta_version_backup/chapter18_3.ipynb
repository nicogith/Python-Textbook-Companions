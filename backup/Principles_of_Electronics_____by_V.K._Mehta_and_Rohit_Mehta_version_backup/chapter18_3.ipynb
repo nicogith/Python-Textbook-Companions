{
 "cells": [
  {
   "cell_type": "markdown",
   "metadata": {},
   "source": [
    "# CHAPTER 18 : SOLID-STATE SWITCHING CIRCUITS"
   ]
  },
  {
   "cell_type": "code",
   "execution_count": 1,
   "metadata": {
    "collapsed": false
   },
   "outputs": [],
   "source": [
    "%matplotlib inline"
   ]
  },
  {
   "cell_type": "markdown",
   "metadata": {},
   "source": [
    "## Example 18.1 : Page number 472"
   ]
  },
  {
   "cell_type": "code",
   "execution_count": 2,
   "metadata": {
    "collapsed": false
   },
   "outputs": [
    {
     "name": "stdout",
     "output_type": "stream",
     "text": [
      "Input voltage required to saturate the transistor switch=5.4V.\n"
     ]
    }
   ],
   "source": [
    "#Variable declaration\n",
    "VCC=10;             #Supply voltage, V\n",
    "RC=1.0;               #Collector resistor, kΩ\n",
    "RB=47.0;              #Base resistor, kΩ\n",
    "beta=100.0;           #Base current amplification factor\n",
    "VBE=0.7;            #Base-emitter voltage, V\n",
    "\n",
    "#Calculation\n",
    "IC_sat=VCC/RC;              #Collector saturation current, mA\n",
    "IB=IC_sat/beta;             #Base current, mA\n",
    "V=IB*RB+VBE;                #Input voltage, V\n",
    "\n",
    "#Result\n",
    "print(\"Input voltage required to saturate the transistor switch=%.1fV.\"%V);\n"
   ]
  },
  {
   "cell_type": "markdown",
   "metadata": {},
   "source": [
    "## Example 18.2 : Page number 475"
   ]
  },
  {
   "cell_type": "code",
   "execution_count": 3,
   "metadata": {
    "collapsed": false
   },
   "outputs": [
    {
     "name": "stdout",
     "output_type": "stream",
     "text": [
      "(i) The collector emitter voltage at cut-off=9.99V.\n",
      "(ii) The collector emitter voltage at saturation=0.7V.\n"
     ]
    }
   ],
   "source": [
    "#Variable declaration\n",
    "VCC=10;             #Supply voltage, V\n",
    "RC=1.0;               #Collector resistor, kΩ\n",
    "ICBO=10.0;            #Collector leakage current, μA\n",
    "V_knee=0.7;         #Knee voltage, V\n",
    "\n",
    "\n",
    "#Calculation\n",
    "#(i)\n",
    "IC=ICBO;                    #Collector current, μA\n",
    "VCE=VCC-(ICBO/1000)*RC;            #Collector-emitter voltage, V\n",
    "\n",
    "print(\"(i) The collector emitter voltage at cut-off=%.2fV.\"%VCE);\n",
    "\n",
    "#(ii)\n",
    "#Since, saturation current=IC_sat=(VCC-V_knee)/RC;         \n",
    "VCE=V_knee;                    #Collector-emitter voltage, V\n",
    "\n",
    "print(\"(ii) The collector emitter voltage at saturation=%.1fV.\"%VCE);\n"
   ]
  },
  {
   "cell_type": "markdown",
   "metadata": {},
   "source": [
    "## Example 18.3 : Page number 475-476"
   ]
  },
  {
   "cell_type": "code",
   "execution_count": 4,
   "metadata": {
    "collapsed": false
   },
   "outputs": [
    {
     "name": "stdout",
     "output_type": "stream",
     "text": [
      "(i) Minimum β=19.4.\n",
      "(ii) The transistor will not be saturated.\n"
     ]
    }
   ],
   "source": [
    "#Variable declaration\n",
    "VCC=10;             #Supply voltage, V\n",
    "RC=1;               #Collector resistor, kΩ\n",
    "VBB=2;              #Supply voltage to base, V\n",
    "RB=2.7;             #Base resistor, kΩ\n",
    "V_knee=0.7;         #Knee voltage, V\n",
    "VBE=0.7;            #Base-emitter voltage, V\n",
    "\n",
    "#Calculation\n",
    "#(i)\n",
    "IB=round((VBB-VBE)/RB,2);           #Base current, mA\n",
    "Ic_sat=(VCC-V_knee)/RC;             #Collector saturation current, mA\n",
    "beta_min=Ic_sat/IB;                 #Minimum value of base current amplification factor\n",
    "print(\"(i) Minimum β=%.1f.\"%beta_min);\n",
    "\n",
    "#(ii)\n",
    "VBB=1;                       #Supply voltage to base(changed), V\n",
    "beta=50;                     #Base current amplification factor\n",
    "IB=(VBB-VBE)/RB;             #Base current, mA\n",
    "IC=beta*IB;                  #Collector current,mA\n",
    "\n",
    "if(IC<Ic_sat):\n",
    "    print(\"(ii) The transistor will not be saturated.\");\n",
    "else:\n",
    "    print(\"(ii) The transistor will be saturated.\");\n"
   ]
  },
  {
   "cell_type": "markdown",
   "metadata": {},
   "source": [
    "## Example 18.4 : Page number 480"
   ]
  },
  {
   "cell_type": "code",
   "execution_count": 5,
   "metadata": {
    "collapsed": false
   },
   "outputs": [
    {
     "name": "stdout",
     "output_type": "stream",
     "text": [
      "Time period of the square wave=0.14 m sec.\n",
      "Time frequency of the square wave=7 kHz.\n"
     ]
    }
   ],
   "source": [
    "#Variable declaration\n",
    "R2=10;                  #Resistor R2, kΩ\n",
    "R3=10;                  #Resistor R3, kΩ\n",
    "C1=0.01;                #Capacitor of 1st transistor, μF\n",
    "C2=0.01;                #Capacitor of 2nd transistor, μF\n",
    "\n",
    "#Calculation\n",
    "R=R2*1000;                   #Resistance, Ω\n",
    "C=C1*10**-6;                 #Capacitance, F\n",
    "T=round((1.4*R*C)*1000,2);   #Time period,m sec\n",
    "f=1/(T*10**-3);              #Frequency, Hz\n",
    "f=f/1000;                    #Frequency, kHz\n",
    "\n",
    "#Result\n",
    "print(\"Time period of the square wave=%.2f m sec.\"%T);\n",
    "print(\"Time frequency of the square wave=%d kHz.\"%f);\n"
   ]
  },
  {
   "cell_type": "markdown",
   "metadata": {},
   "source": [
    "## Example 18.6 : Page number 485"
   ]
  },
  {
   "cell_type": "code",
   "execution_count": 6,
   "metadata": {
    "collapsed": false
   },
   "outputs": [
    {
     "name": "stdout",
     "output_type": "stream",
     "text": [
      "The output voltage=0.55V.\n"
     ]
    }
   ],
   "source": [
    "#Variable declaration\n",
    "R=10;               #Resistance in differentiating circuit, kΩ\n",
    "C=2.2;              #Capacitance in differentiating circuit, μF\n",
    "d_ei=10;            #Change in input voltage, V\n",
    "dt=0.4;             #Time in which change occurs, s\n",
    "\n",
    "#Calculation\n",
    "eo=R*1000*C*10**-6*d_ei/dt\n",
    "\n",
    "\n",
    "#Result\n",
    "print(\"The output voltage=%.2fV.\"%eo);\n"
   ]
  },
  {
   "cell_type": "markdown",
   "metadata": {},
   "source": [
    "## Example 18.7 : Page number 489"
   ]
  },
  {
   "cell_type": "code",
   "execution_count": 7,
   "metadata": {
    "collapsed": false
   },
   "outputs": [
    {
     "name": "stdout",
     "output_type": "stream",
     "text": [
      "The peak output voltage=11.3V.\n"
     ]
    }
   ],
   "source": [
    "#Variable declaration\n",
    "Vin_peak=12;                #Peak value of input voltage, V\n",
    "V_D=0.7;                    #Forward bias voltage of diode, V\n",
    "\n",
    "#Calculation\n",
    "Vout_peak=Vin_peak-V_D;         #Peak value of output voltage, V\n",
    "\n",
    "#Result\n",
    "print(\"The peak output voltage=%.1fV.\"%Vout_peak);\n"
   ]
  },
  {
   "cell_type": "markdown",
   "metadata": {},
   "source": [
    "## Example 18.8 : Page number 489"
   ]
  },
  {
   "cell_type": "code",
   "execution_count": 8,
   "metadata": {
    "collapsed": false
   },
   "outputs": [
    {
     "name": "stdout",
     "output_type": "stream",
     "text": [
      "The peak output voltage=8V.\n"
     ]
    }
   ],
   "source": [
    "#Variable declaration\n",
    "Vin_peak=10;                #Peak value of input voltage, V\n",
    "R=1;                        #Input resistor, kΩ\n",
    "RL=4;                       #Load resistor, kΩ\n",
    "\n",
    "#Calculation\n",
    "Vout_peak=(Vin_peak*RL)/(R+RL);         #Peak output voltage, V\n",
    "\n",
    "\n",
    "#Result\n",
    "print(\"The peak output voltage=%dV.\"%Vout_peak);\n"
   ]
  },
  {
   "cell_type": "markdown",
   "metadata": {},
   "source": [
    "## Example 18.9 : Page number 490"
   ]
  },
  {
   "cell_type": "code",
   "execution_count": 9,
   "metadata": {
    "collapsed": false
   },
   "outputs": [
    {
     "name": "stdout",
     "output_type": "stream",
     "text": [
      "The diode will be forward biased for the negative half-cycle of input signal.\n",
      "The output voltage=-0.7V.\n",
      "The voltage across R=-9.3V.\n"
     ]
    }
   ],
   "source": [
    "#Variable declaration\n",
    "Vin=-10;                #Input voltage, V\n",
    "V_D=0.7;                #Forward bias voltage of the diode, V\n",
    "R=1;                    #Resistance, kΩ\n",
    "\n",
    "\n",
    "print(\"The diode will be forward biased for the negative half-cycle of input signal.\");\n",
    "Vout=-V_D;              #Output voltage, V\n",
    "V_R=Vin-(-V_D);         #Voltage across resistor R, V\n",
    "\n",
    "#Result\n",
    "print(\"The output voltage=%.1fV.\"%Vout);\n",
    "print(\"The voltage across R=%.1fV.\"%V_R);\n"
   ]
  },
  {
   "cell_type": "markdown",
   "metadata": {},
   "source": [
    "## Example 18.10 : Page number 490-491"
   ]
  },
  {
   "cell_type": "code",
   "execution_count": 10,
   "metadata": {
    "collapsed": false
   },
   "outputs": [
    {
     "name": "stdout",
     "output_type": "stream",
     "text": [
      "During the positive half cycle, the diode is foward biased and can be replaced by battery of 0.7V.\n",
      "Therefore, Vout=0.7V.\n",
      "During the negative half cycle, the diode is reverse biased and hence behaves as an open circuit.\n",
      "Therefore, Vout_peak=-8.33V.\n"
     ]
    }
   ],
   "source": [
    "#Variable declaration\n",
    "V_F=0.7;                        #Forward bias voltage of diode, V\n",
    "R=200.0;                          #Input resistor of the circuit,  Ω\n",
    "RL=1.0;                           #Load resistor, kΩ\n",
    "Vin_peak=10.0;                    #Peak input voltage, V\n",
    "\n",
    "\n",
    "#Calculations\n",
    "\n",
    "#Positive half-cycle:\n",
    "print(\"During the positive half cycle, the diode is foward biased and can be replaced by battery of %.1fV.\"%V_F);\n",
    "print(\"Therefore, Vout=%.1fV.\"%V_F);\n",
    "\n",
    "#Negative half-cycle:\n",
    "print(\"During the negative half cycle, the diode is reverse biased and hence behaves as an open circuit.\");\n",
    "Vout_peak=RL*(-Vin_peak)/(R/1000+RL);\n",
    "print(\"Therefore, Vout_peak=%.2fV.\"%Vout_peak);\n"
   ]
  },
  {
   "cell_type": "markdown",
   "metadata": {},
   "source": [
    "## Example 18.12 : Page number 491"
   ]
  },
  {
   "cell_type": "code",
   "execution_count": 11,
   "metadata": {
    "collapsed": false
   },
   "outputs": [
    {
     "data": {
      "image/png": "[encoded data removed]",
      "text/plain": [
       "<matplotlib.figure.Figure at 0x7f8a844e3828>"
      ]
     },
     "metadata": {},
     "output_type": "display_data"
    }
   ],
   "source": [
    "%matplotlib inline\n",
    "import matplotlib.pyplot as plt\n",
    "from math import sin\n",
    "from math import pi\n",
    "\n",
    "V_biasing=10.0;                        #Biasing voltage, V\n",
    "vin=[30*sin(t/10.0) for t in range(0,(int)(2*pi*10))]      #input voltage  waveform, V\n",
    "\n",
    "plt.subplot(211)\n",
    "plt.plot(vin);\n",
    "plt.xlabel('t-->');\n",
    "plt.ylabel('Vin(V)');\n",
    "plt.title('Input waveform');\n",
    "\n",
    "vout=[];                             #Output voltage waveform, V\n",
    "for v in vin[:]:\n",
    "    if(v-V_biasing)>0 :              #Diode is forward biased.\n",
    "        vout.append(v-V_biasing);\n",
    "    else:                            #Diode is reverse biased.\n",
    "        vout.append(0);\n",
    "\n",
    "plt.subplot(212)        \n",
    "plt.plot(vout);\n",
    "plt.xlabel('t-->');\n",
    "plt.ylabel('Vout(V)');\n",
    "plt.title('Output waveform');\n",
    "\n"
   ]
  },
  {
   "cell_type": "markdown",
   "metadata": {},
   "source": [
    "## Example 18.13 : Page number 492"
   ]
  },
  {
   "cell_type": "code",
   "execution_count": 12,
   "metadata": {
    "collapsed": false
   },
   "outputs": [
    {
     "data": {
      "image/png": "[encoded data removed]",
      "text/plain": [
       "<matplotlib.figure.Figure at 0x7f8a84f72fd0>"
      ]
     },
     "metadata": {},
     "output_type": "display_data"
    }
   ],
   "source": [
    "%matplotlib inline\n",
    "import matplotlib.pyplot as plt\n",
    "\n",
    "Vin=[];      #Input voltage waveform, V\n",
    "t1=50;         #Assumed time interval, s\n",
    "t2=100;         #Assumed time interval, s\n",
    "V_biasing=10;  #Biasing voltage, V\n",
    "for t in range(0,151):                  #time interval from 0s to 151s\n",
    "    if(t<=t1):                      \n",
    "        Vin.append(15);               #Value of input voltage for time 0 to t1 seconds \n",
    "    elif(t<=t2 and t>t1):\n",
    "        Vin.append(-30);             #Value of input voltage for time t1 to t2 seconds\n",
    "    else :\n",
    "        Vin.append(15);             #Value of input voltage after t2 seconds\n",
    "\n",
    "plt.subplot(211)\n",
    "plt.plot(Vin);\n",
    "plt.xlim([0,160])\n",
    "plt.ylim([-35,20])\n",
    "plt.xlabel('t-->');\n",
    "plt.ylabel('Vin(V)');\n",
    "plt.title('Input waveform');\n",
    "\n",
    "\n",
    "vout=[];                 #Output voltage waveform, V\n",
    "for v in Vin[:]:                  #Loop iterating input voltage \n",
    "    if(v<=0):\n",
    "        vout.append(0);               #Diode reverse biased\n",
    "    else:\n",
    "        vout.append(v-V_biasing);      #Diode forward biased\n",
    "\n",
    "plt.subplot(212)\n",
    "plt.plot(vout);\n",
    "plt.xlim(0,160)\n",
    "plt.ylim(-35,20)\n",
    "plt.xlabel('t-->');\n",
    "plt.ylabel('Vout(V)');\n",
    "plt.title('Output waveform');\n"
   ]
  },
  {
   "cell_type": "markdown",
   "metadata": {},
   "source": [
    "## Example 18.14 : Page number 492-493"
   ]
  },
  {
   "cell_type": "code",
   "execution_count": 13,
   "metadata": {
    "collapsed": false
   },
   "outputs": [
    {
     "data": {
      "image/png": "[encoded data removed]",
      "text/plain": [
       "<matplotlib.figure.Figure at 0x7f8a8455d630>"
      ]
     },
     "metadata": {},
     "output_type": "display_data"
    }
   ],
   "source": [
    "%matplotlib inline\n",
    "import matplotlib.pyplot as plt\n",
    "\n",
    "Vin=[];      #Input voltage waveform, V\n",
    "t1=50;         #Assumed time interval, s\n",
    "t2=100;         #Assumed time interval, s\n",
    "V_biasing=5;  #Biasing voltage, V\n",
    "for t in range(0,151):                  #time interval from 0s to 151s\n",
    "    if(t<=t1):                      \n",
    "        Vin.append(10);               #Value of input voltage for time 0 to t1 seconds \n",
    "    elif(t<=t2 and t>t1):\n",
    "        Vin.append(-10);             #Value of input voltage for time t1 to t2 seconds\n",
    "    else :\n",
    "        Vin.append(0);\n",
    "\n",
    "plt.subplot(211)        \n",
    "plt.plot(Vin);\n",
    "plt.xlim(0,101)\n",
    "plt.ylim(-20,20)\n",
    "plt.xlabel('t-->');\n",
    "plt.ylabel('Vin(V)');\n",
    "plt.title('Input waveform');\n",
    "\n",
    "\n",
    "vout=[];                 #Output voltage waveform, V\n",
    "for v in Vin[:]:                  #Loop iterating input voltage \n",
    "    if(v<=0):\n",
    "        vout.append(v);               #Diode reverse biased\n",
    "    else:\n",
    "        vout.append(v-V_biasing);      #Diode forward biased\n",
    "\n",
    "plt.subplot(212)\n",
    "plt.plot(vout);\n",
    "plt.xlim(0,101)\n",
    "plt.ylim(-20,20)\n",
    "plt.xlabel('t-->');\n",
    "plt.ylabel('Vout(V)');\n",
    "plt.title('Output waveform');\n"
   ]
  },
  {
   "cell_type": "markdown",
   "metadata": {},
   "source": [
    "## Example 18.15 : Page number 493"
   ]
  },
  {
   "cell_type": "code",
   "execution_count": 14,
   "metadata": {
    "collapsed": false
   },
   "outputs": [
    {
     "data": {
      "image/png": "[encoded data removed]",
      "text/plain": [
       "<matplotlib.figure.Figure at 0x7f8a845679e8>"
      ]
     },
     "metadata": {},
     "output_type": "display_data"
    }
   ],
   "source": [
    "%matplotlib inline\n",
    "import matplotlib.pyplot as plt\n",
    "\n",
    "Vin=[];      #Input voltage waveform, V\n",
    "t1=50;         #Assumed time interval, s\n",
    "t2=100;         #Assumed time interval, s\n",
    "V_D1=0.6;          #Forward Biasing voltage of the 1st diode, V\n",
    "V_D2=0.6;          #Forward Biasing voltage of the 2nd diode, V\n",
    "for t in range(0,151):                  #time interval from 0s to 151s\n",
    "    if(t<=t1):                      \n",
    "        Vin.append(10);               #Value of input voltage for time 0 to t1 seconds \n",
    "    elif(t<=t2 and t>t1):\n",
    "        Vin.append(-10);             #Value of input voltage for time t1 to t2 seconds\n",
    "    else :\n",
    "        Vin.append(0);\n",
    "\n",
    "plt.subplot(211);\n",
    "plt.plot(Vin);\n",
    "plt.xlim(0,110)\n",
    "plt.ylim(-20,20)\n",
    "plt.xlabel('t-->');\n",
    "plt.ylabel('Vin(V)');\n",
    "plt.title('Input waveform');\n",
    "\n",
    "vout=[];                 #Output voltage waveform, V\n",
    "for v in Vin[:]:                  #Loop iterating input voltage \n",
    "    if(v<=0):\n",
    "        vout.append(-V_D1);               #Diode D1 forward biased, \n",
    "    else:\n",
    "        vout.append(V_D2);      #Diode D2 forward biased\n",
    "\n",
    "plt.subplot(212)        \n",
    "plt.plot(vout);\n",
    "plt.xlim(0,110)\n",
    "plt.ylim(-1,1)\n",
    "plt.xlabel('t-->');\n",
    "plt.ylabel('Vout(V)');\n",
    "plt.title('Output waveform');\n"
   ]
  },
  {
   "cell_type": "markdown",
   "metadata": {},
   "source": [
    "## Example 18.16 : Page number 493-494"
   ]
  },
  {
   "cell_type": "code",
   "execution_count": 15,
   "metadata": {
    "collapsed": false
   },
   "outputs": [
    {
     "data": {
      "image/png": "[encoded data removed]",
      "text/plain": [
       "<matplotlib.figure.Figure at 0x7f8a940a7780>"
      ]
     },
     "metadata": {},
     "output_type": "display_data"
    }
   ],
   "source": [
    "%matplotlib inline\n",
    "import matplotlib.pyplot as plt\n",
    "from math import sin\n",
    "from math import pi\n",
    "\n",
    "VZ=20;                   #Assumed zener voltage, V\n",
    "VF=0.7;          #Assumed forward biasing voltage of the zener diode, V\n",
    "Vin=[];      #Input voltage waveform, V\n",
    "for t in range(0,(int)(2*pi*10)):                  #time interval from 0s to 151s\n",
    "    Vin.append(30*sin(t/10.0));\n",
    "\n",
    "plt.subplot(211)\n",
    "plt.plot(Vin);\n",
    "plt.xlabel('t-->');\n",
    "plt.ylabel('Vin(V)');\n",
    "plt.title('Input waveform');\n",
    "\n",
    "\n",
    "vout=[];                 #Output voltage waveform, V\n",
    "for v in Vin[:]:                  #Loop iterating input voltage \n",
    "    if(v<=-VF):\n",
    "        vout.append(-VF);               #Zener diode forward biased, \n",
    "    elif(v>=VZ):\n",
    "        vout.append(VZ);        #Input voltage exceeds zener voltage\n",
    "    else:\n",
    "        vout.append(v);           #Zener diode reverse biased\n",
    "\n",
    "plt.subplot(212)\n",
    "plt.plot(vout);\n",
    "plt.xlim([0,80])\n",
    "plt.ylim([-1,40])\n",
    "plt.xlabel('t-->');\n",
    "plt.ylabel('Vout(V)');\n",
    "plt.title('Output waveform');\n",
    "\n"
   ]
  },
  {
   "cell_type": "markdown",
   "metadata": {},
   "source": [
    "## Example 18.17 : Page number 494"
   ]
  },
  {
   "cell_type": "code",
   "execution_count": 16,
   "metadata": {
    "collapsed": false
   },
   "outputs": [
    {
     "data": {
      "image/png": "[encoded data removed]",
      "text/plain": [
       "<matplotlib.figure.Figure at 0x7f8a73eeb3c8>"
      ]
     },
     "metadata": {},
     "output_type": "display_data"
    }
   ],
   "source": [
    "%matplotlib inline\n",
    "import matplotlib.pyplot as plt\n",
    "from math import sin\n",
    "from math import pi\n",
    "\n",
    "VZ1=20;                   #Assumed zener voltage, V\n",
    "VF1=0.7;          #Assumed forward biasing voltage of the zener diode, V\n",
    "VZ2=20;                   #Assumed zener voltage, V\n",
    "VF2=0.7;          #Assumed forward biasing voltage of the zener diode, V\n",
    "Vin=[];      #Input voltage waveform, V\n",
    "for t in range(0,(int)(2*pi*10)):                  #time interval from 0s to 151s\n",
    "    Vin.append(30*sin(t/10.0));\n",
    "    \n",
    "plt.subplot(211)\n",
    "plt.plot(Vin);\n",
    "plt.xlabel('t-->');\n",
    "plt.ylabel('Vin(V)');\n",
    "plt.title('Input waveform');\n",
    "\n",
    "\n",
    "vout=[];                 #Output voltage waveform, V\n",
    "for v in Vin[:]:                  #Loop iterating input voltage \n",
    "    if(v<=-(VZ1+VF2)):\n",
    "        vout.append(-(VZ1+VF2));               #Zener diode forward biased, \n",
    "    elif(v>=VZ2+VF1):\n",
    "        vout.append(VZ2+VF1);        #Input voltage exceeds zener voltage\n",
    "    else:\n",
    "        vout.append(v);           #Zener diode reverse biased\n",
    "plt.subplot(212)\n",
    "plt.plot(vout); \n",
    "plt.xlim([0,80])\n",
    "plt.ylim([-40,40])\n",
    "plt.xlabel('t-->');\n",
    "plt.ylabel('Vout(V)');\n",
    "plt.title('Output waveform');\n"
   ]
  },
  {
   "cell_type": "code",
   "execution_count": null,
   "metadata": {
    "collapsed": true
   },
   "outputs": [],
   "source": []
  }
 ],
 "metadata": {
  "kernelspec": {
   "display_name": "Python 3",
   "language": "python",
   "name": "python3"
  },
  "language_info": {
   "codemirror_mode": {
    "name": "ipython",
    "version": 3
   },
   "file_extension": ".py",
   "mimetype": "text/x-python",
   "name": "python",
   "nbconvert_exporter": "python",
   "pygments_lexer": "ipython3",
   "version": "3.5.1"
  },
  "widgets": {
   "state": {},
   "version": "1.1.2"
  }
 },
 "nbformat": 4,
 "nbformat_minor": 0
}
