{
 "metadata": {
  "name": "",
  "signature": "sha256:369e36634d005b832372dcae6796c76b979f32b499d8baadce951517f2201533"
 },
 "nbformat": 3,
 "nbformat_minor": 0,
 "worksheets": [
  {
   "cells": [
    {
     "cell_type": "heading",
     "level": 1,
     "metadata": {},
     "source": [
      "CHAPTER 20 : SILICON CONTROLLED RECTIFIERS"
     ]
    },
    {
     "cell_type": "heading",
     "level": 2,
     "metadata": {},
     "source": [
      "Example 20.2 : Page number 559\n"
     ]
    },
    {
     "cell_type": "code",
     "collapsed": false,
     "input": [
      "#Variable declaration\n",
      "I=50.0;                             #Surge current, A\n",
      "t=12.0;                             #Time for which surge current lasts, ms\n",
      "circuit_fusing_rating_max=90;       #Maximum circuit fusing rating, A\u00b2s\n",
      "\n",
      "#Calculation\n",
      "circuit_fusing_rating=I**2*(t*10**-3);              #Circuit fusing rating, A\u00b2s\n",
      "\n",
      "#Result\n",
      "if(circuit_fusing_rating<circuit_fusing_rating_max):\n",
      "    print(\"The device will not be destroyed.\");\n",
      "else:\n",
      "    print(\"The device will be destroyed.\");\n"
     ],
     "language": "python",
     "metadata": {},
     "outputs": [
      {
       "output_type": "stream",
       "stream": "stdout",
       "text": [
        "The device will not be destroyed.\n"
       ]
      }
     ],
     "prompt_number": 1
    },
    {
     "cell_type": "heading",
     "level": 2,
     "metadata": {},
     "source": [
      "Example 20.3 : Page number 559\n"
     ]
    },
    {
     "cell_type": "code",
     "collapsed": false,
     "input": [
      "#Variable declaration\n",
      "I2_t_rating=50.0;                   #circuit fuse rating, A\u00b2s\n",
      "Is=100.0;                           #Surge current, A\n",
      "\n",
      "#Calculation\n",
      "t_max=(I2_t_rating/Is**2)*1000;            #Maximum allowable duration, ms\n",
      "\n",
      "\n",
      "#Result\n",
      "print(\"The maximum allowable duration =%dms\"%t_max);\n"
     ],
     "language": "python",
     "metadata": {},
     "outputs": [
      {
       "output_type": "stream",
       "stream": "stdout",
       "text": [
        "The maximum allowable duration =5ms\n"
       ]
      }
     ],
     "prompt_number": 1
    },
    {
     "cell_type": "heading",
     "level": 2,
     "metadata": {},
     "source": [
      "Example 20.4 : Page number 559\n"
     ]
    },
    {
     "cell_type": "code",
     "collapsed": false,
     "input": [
      "\n",
      "#Variable declaration\n",
      "R=220.0;                    #Gate resistor, \u03a9\n",
      "I_G=7.0;                    #Gate current, mA\n",
      "V_GK=0.7;                   #Junction voltage, V\n",
      "\n",
      "#Calculation\n",
      "V_in=V_GK+(I_G/1000)*R;                    #Input voltage, V (Kirchhoff's voltage law)\n",
      "\n",
      "#Result\n",
      "print(\"The required input voltage=%.2fV.\"%V_in);\n"
     ],
     "language": "python",
     "metadata": {},
     "outputs": [
      {
       "output_type": "stream",
       "stream": "stdout",
       "text": [
        "The required input voltage=2.24V.\n"
       ]
      }
     ],
     "prompt_number": 2
    },
    {
     "cell_type": "heading",
     "level": 2,
     "metadata": {},
     "source": [
      "Example 20.5 : Page number 564\n"
     ]
    },
    {
     "cell_type": "code",
     "collapsed": false,
     "input": [
      "from math import asin\n",
      "from math import cos\n",
      "from math import pi\n",
      "\n",
      "#Variable declaration\n",
      "I_G=1.0;                #Gate current, mA\n",
      "V_m=200.0;              #Peak value of input sinusoidal voltage, V\n",
      "v=100.0;              #Forward breakdown voltage of SCR, V\n",
      "R_L=100.0;              #Load resistance, \u03a9\n",
      "\n",
      "#Calculation\n",
      "#(i)\n",
      "#v=Vm*sin(theta)\n",
      "#Finding angle theta, for input voltage (v)= (V_f)forward_breakdown_voltage\n",
      "theta=asin(v/V_m);            #angle for input voltage = forward breakdown voltage, rad\n",
      "theta=theta*180/pi;             #angle for input voltage = forward breakdown voltage, degrees\n",
      "\n",
      "alpha=round(theta,0);                    #Firing angle, degrees\n",
      "\n",
      "#(ii)\n",
      "phi=180-alpha;                  #Conduction angle, degrees\n",
      "\n",
      "#(iii)\n",
      "V_avg=(V_m/(2*pi))*(1+cos(alpha*pi/180));           #Average voltage, V\n",
      "I_avg=V_avg/R_L;                                    #Average current, A\n",
      "\n",
      "\n",
      "#Result\n",
      "print(\"(i) The firing agle=%d\u00b0\"%alpha);\n",
      "print(\"(ii) The conduction angle=%.0f\u00b0\"%phi);\n",
      "print(\"(iii) The average current=%.4fA \"%I_avg);\n",
      "\n",
      "#Note: In the text book has approximated the average current to 0.5925A but in the code it gets approximated to 0.5940A.\n"
     ],
     "language": "python",
     "metadata": {},
     "outputs": [
      {
       "output_type": "stream",
       "stream": "stdout",
       "text": [
        "(i) The firing agle=30\u00b0\n",
        "(ii) The conduction angle=150\u00b0\n",
        "(iii) The average current=0.5940A \n"
       ]
      }
     ],
     "prompt_number": 3
    },
    {
     "cell_type": "heading",
     "level": 2,
     "metadata": {},
     "source": [
      "Example 20.6 : Page number 564\n"
     ]
    },
    {
     "cell_type": "code",
     "collapsed": false,
     "input": [
      "from math import asin\n",
      "from math import cos\n",
      "from math import pi\n",
      "from math import floor\n",
      "\n",
      "\n",
      "#Variable declaration\n",
      "I_G=1.0;                #Gate current, mA\n",
      "V_m=400.0;              #Peak value of input sinusoidal voltage, V\n",
      "v=150.0;                #Forward breakdown voltage of SCR, V\n",
      "R_L=200.0;              #Load resistance, \u03a9\n",
      "\n",
      "\n",
      "#Calculation\n",
      "#(i)\n",
      "#v=Vm*sin(theta)\n",
      "#Finding angle theta, for input voltage (v)= (V_f)forward_breakdown_voltage\n",
      "theta=asin(v/V_m);            #angle for input voltage = forward breakdown voltage, rad\n",
      "theta=theta*180/pi;             #angle for input voltage = forward breakdown voltage, degrees\n",
      "\n",
      "alpha=theta;                    #Firing angle, degrees\n",
      "\n",
      "#(ii)\n",
      "V_av=floor((V_m/(2*pi))*(1+cos(alpha*pi/180))*10)/10;           #Average voltage, V\n",
      "\n",
      "#(iii)\n",
      "I_av=V_av/R_L;                                    #Average current, A\n",
      "\n",
      "#(iv)\n",
      "P_out=V_av*I_av;                                #Output power, W\n",
      "\n",
      "#Result\n",
      "print(\"(i) The firing agle=%d\u00b0\"%alpha);\n",
      "print(\"(ii) The average output voltage=%.1f V\"%V_av);\n",
      "print(\"(iii) The average current=%.3fA \"%I_av);\n",
      "print(\"(iv) The output power=%.2f W\"%P_out);\n"
     ],
     "language": "python",
     "metadata": {},
     "outputs": [
      {
       "output_type": "stream",
       "stream": "stdout",
       "text": [
        "(i) The firing agle=22\u00b0\n",
        "(ii) The average output voltage=122.6 V\n",
        "(iii) The average current=0.613A \n",
        "(iv) The output power=75.15 W\n"
       ]
      }
     ],
     "prompt_number": 4
    },
    {
     "cell_type": "heading",
     "level": 2,
     "metadata": {},
     "source": [
      "Example 20.7 : Page number 564-565\n"
     ]
    },
    {
     "cell_type": "code",
     "collapsed": false,
     "input": [
      "from math import asin\n",
      "\n",
      "#Variable declaration\n",
      "v=180.0;                    #Forward breakdown voltage, V\n",
      "V_m=240.0;                  #Peak value of input voltage, V\n",
      "w=314.0;                    #Angular frequency of input ,rad/s\n",
      "\n",
      "\n",
      "#Calculation\n",
      "#v=Vm*sin(w*t)\n",
      "#So, t=asin(v/Vm)/w\n",
      "t=(asin(v/V_m)/w)*1000;                        #Time for which SCR remains off, ms\n",
      "\n",
      "#Result\n",
      "print(\"The SCR remains off for %.1f ms.\"%t);\n"
     ],
     "language": "python",
     "metadata": {},
     "outputs": [
      {
       "output_type": "stream",
       "stream": "stdout",
       "text": [
        "The SCR remains off for 2.7 ms.\n"
       ]
      }
     ],
     "prompt_number": 5
    },
    {
     "cell_type": "heading",
     "level": 2,
     "metadata": {},
     "source": [
      "Example 20.8 : Page number 565\n"
     ]
    },
    {
     "cell_type": "code",
     "collapsed": false,
     "input": [
      "from math import pi\n",
      "from math import cos\n",
      "from math import floor\n",
      "\n",
      "#Variable declaration\n",
      "I_dc=1.0;                   #d.c load current, A\n",
      "alpha=30.0;                 #Firing angle, \u00b0\n",
      "\n",
      "\n",
      "#Calculation\n",
      "I_av=I_dc;                                                 #Average current(= d.c current), A\n",
      "\n",
      "#Since, Iav=(Vm/(2*pi*RL))*(1+cos(alpha)) and Im=Vm/RL\n",
      "I_m=floor((2*pi*I_av/(1+cos(alpha*pi/180)))*100)/100;      #Peak-load current, A\n",
      "\n",
      "\n",
      "\n",
      "#Result\n",
      "print(\"Peak-load current=%.2f A.\"%I_m);\n"
     ],
     "language": "python",
     "metadata": {},
     "outputs": [
      {
       "output_type": "stream",
       "stream": "stdout",
       "text": [
        "Peak-load current=3.36 A.\n"
       ]
      }
     ],
     "prompt_number": 6
    },
    {
     "cell_type": "heading",
     "level": 2,
     "metadata": {},
     "source": [
      "Example 20.9: Page number 565\n"
     ]
    },
    {
     "cell_type": "code",
     "collapsed": false,
     "input": [
      "from math import sqrt\n",
      "from math import pi\n",
      "from math import sin\n",
      "\n",
      "#Variable declaration\n",
      "alpha=60.0;                 #Firing angle, \u00b0\n",
      "P=100.0;                    #Power rating of tungsten lamp, W\n",
      "V=110.0;                    #Voltage rating of tungsten lamp, V\n",
      "V_ac=110.0;                 #a.c supply voltage, V\n",
      "\n",
      "\n",
      "#Calculation\n",
      "V_m=V_ac*sqrt(2);               #Peak value of input voltage, V\n",
      "\n",
      "alpha=alpha*pi/180;             #firing angle, rad\n",
      "\n",
      "#Since, E_rms\u00b2=(1/2*pi) \u222b V_m\u00b2sin\u00b2(theta) d(theta), limits: alpha to pi\n",
      "# E_rms\u00b2=Vm\u00b2*((2*(pi-alpha) + sin(2*alpha))/(8*pi)),\n",
      "# E_rms=Vm*sqrt((2*(pi-alpha) + sin(2*alpha))/(8*pi)),\n",
      "E_rms=round(V_m*sqrt((2*(pi-alpha) + sin(2*alpha))/(8*pi)));            #r.m.s voltage developed in the lamp, V\n",
      "\n",
      "\n",
      "RL=V**2/P;                      #Load resistance, \u03a9\n",
      "\n",
      "I_rms=E_rms/RL;                 #r.m.s current developed in the lamp, A\n",
      "\n",
      "#Result\n",
      "print(\"The r.m.s voltage developed in the lamp=%d V.\"%E_rms);\n",
      "print(\"The r.m.s current developed in the lamp=%.2f A.\"%I_rms);\n"
     ],
     "language": "python",
     "metadata": {},
     "outputs": [
      {
       "output_type": "stream",
       "stream": "stdout",
       "text": [
        "The r.m.s voltage developed in the lamp=70 V.\n",
        "The r.m.s current developed in the lamp=0.58 A.\n"
       ]
      }
     ],
     "prompt_number": 7
    },
    {
     "cell_type": "heading",
     "level": 2,
     "metadata": {},
     "source": [
      "Example 20.10 : Page number 567\n"
     ]
    },
    {
     "cell_type": "code",
     "collapsed": false,
     "input": [
      "from math import cos\n",
      "from math import pi\n",
      "\n",
      "#Variable declaration\n",
      "RL=100.0;                   #Load resistance, \u03a9\n",
      "V_m=200.0;                  #Peak a.c voltage, V\n",
      "alpha=60;                   #firing angle, \u00b0\n",
      "\n",
      "#Calculation\n",
      "#(i)\n",
      "V_av=(V_m/pi)*(1+cos(alpha*pi/180));                #D.C output voltage, V\n",
      "\n",
      "#(ii)\n",
      "I_av=V_av/RL;                   #Load current, A\n",
      "\n",
      "#Result\n",
      "print(\"(i)  d.c output voltage=%.1f V.\"%V_av);\n",
      "print(\"(ii) Load current=%.3f A\"%I_av);\n"
     ],
     "language": "python",
     "metadata": {},
     "outputs": [
      {
       "output_type": "stream",
       "stream": "stdout",
       "text": [
        "(i)  d.c output voltage=95.5 V.\n",
        "(ii) Load current=0.955 A\n"
       ]
      }
     ],
     "prompt_number": 8
    },
    {
     "cell_type": "heading",
     "level": 2,
     "metadata": {},
     "source": [
      "Example 20.11: Page number 567\n"
     ]
    },
    {
     "cell_type": "code",
     "collapsed": false,
     "input": [
      "from math import sqrt\n",
      "from math import pi\n",
      "from math import sin\n",
      "\n",
      "#Variable declaration\n",
      "alpha=60.0;                 #Firing angle, \u00b0\n",
      "P=100.0;                    #Power rating of tungsten lamp, W\n",
      "V=110.0;                    #Voltage rating of tungsten lamp, V\n",
      "V_ac=110.0;                 #a.c supply voltage, V\n",
      "\n",
      "\n",
      "#Calculation\n",
      "V_m=round(V_ac*sqrt(2));               #Peak value of input voltage, V\n",
      "\n",
      "alpha=alpha*pi/180;             #firing angle, rad\n",
      "\n",
      "#Since, E_rms\u00b2=(1/2*pi) \u222b V_m\u00b2sin\u00b2(theta) d(theta), limits: alpha to pi\n",
      "# E_rms\u00b2=Vm\u00b2*((2*(pi-alpha) + sin(2*alpha))/(8*pi)),\n",
      "# E_rms=Vm*sqrt((2*(pi-alpha) + sin(2*alpha))/(8*pi)),\n",
      "E_rms=V_m*sqrt((2*(pi-alpha) + sin(2*alpha))/(4*pi));            #r.m.s voltage developed in the lamp, V\n",
      "\n",
      "RL=V**2/P;                      #Load resistance, \u03a9\n",
      "\n",
      "I_rms=E_rms/RL;                 #r.m.s current developed in the lamp, A\n",
      "\n",
      "#Result\n",
      "print(\"The r.m.s voltage developed in the lamp=%.1f V.\"%E_rms);\n",
      "print(\"The r.m.s current developed in the lamp=%.2f A.\"%I_rms);\n"
     ],
     "language": "python",
     "metadata": {},
     "outputs": [
      {
       "output_type": "stream",
       "stream": "stdout",
       "text": [
        "The r.m.s voltage developed in the lamp=98.9 V.\n",
        "The r.m.s current developed in the lamp=0.82 A.\n"
       ]
      }
     ],
     "prompt_number": 9
    },
    {
     "cell_type": "heading",
     "level": 2,
     "metadata": {},
     "source": [
      "Example 20.12 : Page number 572\n"
     ]
    },
    {
     "cell_type": "code",
     "collapsed": false,
     "input": [
      "#Variable declaration\n",
      "VCC=15;                     #Suuply voltage, V\n",
      "V_T=0.7;                    #Gate trigger voltage, V\n",
      "I_T=7.0;                    #Gate trigger current, mA\n",
      "I_H=6.0;                    #Holding current. mA\n",
      "R_Vin=1;                    #Resistance at Vin, k\u03a9\n",
      "R_VCC=100;                  #Resistance at Vcc, \u03a9\n",
      "\n",
      "\n",
      "#Calculation\n",
      "#(i) when SCR is off, there is no current, therefore no voltage drop across the resistor\n",
      "V_out=VCC;                      #Output voltage, when SCR is off, V\n",
      "\n",
      "#(ii)\n",
      "V_in=V_T+I_T*R_Vin;             #Input voltage required to trigger the SCR, V\n",
      "\n",
      "#(iii)\n",
      "#Since, I_H=(Vcc-VT)/R_Vin;\n",
      "VCC_SCR_open=(I_H/1000)*R_VCC+V_T;                 #Decreased value of supply voltage at which SCR opens, V\n",
      "\n",
      "#Result\n",
      "print(\"(i) The output voltage when SCR is off=%dV.\"%V_out);\n",
      "print(\"(ii) The input voltage required to trigger the SCR=%.1f V.\"%V_in);\n",
      "print(\"(iii) The decreased supply voltage at which SCR opens=%.1f V.\"%VCC_SCR_open);\n"
     ],
     "language": "python",
     "metadata": {},
     "outputs": [
      {
       "output_type": "stream",
       "stream": "stdout",
       "text": [
        "(i) The output voltage when SCR is off=15V.\n",
        "(ii) The input voltage required to trigger the SCR=7.7 V.\n",
        "(iii) The decreased supply voltage at which SCR opens=1.3 V.\n"
       ]
      }
     ],
     "prompt_number": 10
    },
    {
     "cell_type": "heading",
     "level": 2,
     "metadata": {},
     "source": [
      "Example 20.13 : Page number 572-573\n"
     ]
    },
    {
     "cell_type": "code",
     "collapsed": false,
     "input": [
      "#Variable declaration\n",
      "Vz=5.6;                 #zener voltage, V\n",
      "V_T=0.7;                #Trigger voltage of SCR, V\n",
      "\n",
      "#Calculation\n",
      "VCC=Vz+V_T;                 #Required supply voltage to turn on the crowbar, V\n",
      "\n",
      "#Result\n",
      "print(\"The required supply voltage to turn on the crowbar=%.1fV.\"%VCC);\n"
     ],
     "language": "python",
     "metadata": {},
     "outputs": [
      {
       "output_type": "stream",
       "stream": "stdout",
       "text": [
        "The required supply voltage to turn on the crowbar=6.3V.\n"
       ]
      }
     ],
     "prompt_number": 11
    },
    {
     "cell_type": "heading",
     "level": 2,
     "metadata": {},
     "source": [
      "Example 20.14 : Page number 573\n"
     ]
    },
    {
     "cell_type": "code",
     "collapsed": false,
     "input": [
      "#Variable declaration\n",
      "Vz=12;                  #Zener breakdown voltage, V\n",
      "V_T=1.5;                #Trigger voltage, V\n",
      "tolerance_z=10.0;         #Tolerance of zener diode, %\n",
      "\n",
      "\n",
      "#Calculation\n",
      "Vz_max=Vz*(1+tolerance_z/100);          #Maximum value of zener breakdown, V\n",
      "Vz_min=Vz*(1-tolerance_z/100);          #Minimum value of zener breakdown, V\n",
      "V_crowbar=Vz_max+V_T;                   #Maximum value of supply voltage for crowbarring, V\n",
      "\n",
      "#Result\n",
      "print(\"The maximum value of supply voltage for crowbarring=%.1fV\"%V_crowbar);\n"
     ],
     "language": "python",
     "metadata": {},
     "outputs": [
      {
       "output_type": "stream",
       "stream": "stdout",
       "text": [
        "The maximum value of supply voltage for crowbarring=14.7V\n"
       ]
      }
     ],
     "prompt_number": 13
    },
    {
     "cell_type": "heading",
     "level": 2,
     "metadata": {},
     "source": [
      "Example 20.15 : Page number 573\n"
     ]
    },
    {
     "cell_type": "code",
     "collapsed": false,
     "input": [
      "#Variable declaration\n",
      "VCC=25.0;               #Supply voltage, V\n",
      "\n",
      "#Calculation\n",
      "#When brights light is on, LASCR conducts and thus gets short circuited to ground, hence,\n",
      "V_out=0;                #Output voltage, V\n",
      "\n",
      "print(\"Output voltage when bright light is on=%dV\"%V_out);\n",
      "\n",
      "\n",
      "#When brights light is off, LASCR stops conducting and thus no current through resistor, hence,\n",
      "V_out=VCC;                #Output voltage, V\n",
      "print(\"Output voltage when bright light is off=%dV\"%V_out);\n"
     ],
     "language": "python",
     "metadata": {},
     "outputs": [
      {
       "output_type": "stream",
       "stream": "stdout",
       "text": [
        "Output voltage when bright light is on=0V\n",
        "Output voltage when bright light is off=25V\n"
       ]
      }
     ],
     "prompt_number": 14
    },
    {
     "cell_type": "code",
     "collapsed": false,
     "input": [],
     "language": "python",
     "metadata": {},
     "outputs": []
    }
   ],
   "metadata": {}
  }
 ]
}