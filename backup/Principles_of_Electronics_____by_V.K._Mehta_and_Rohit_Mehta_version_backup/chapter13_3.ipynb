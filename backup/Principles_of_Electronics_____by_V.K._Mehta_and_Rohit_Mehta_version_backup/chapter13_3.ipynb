{
 "cells": [
  {
   "cell_type": "markdown",
   "metadata": {},
   "source": [
    "# CHAPTER 13: AMPLIFIERS WITH NEGATIVE FEEDBACK"
   ]
  },
  {
   "cell_type": "code",
   "execution_count": 2,
   "metadata": {
    "collapsed": true
   },
   "outputs": [],
   "source": [
    "%matplotlib inline"
   ]
  },
  {
   "cell_type": "markdown",
   "metadata": {},
   "source": [
    "## Example 13.1 : Page number 338"
   ]
  },
  {
   "cell_type": "code",
   "execution_count": 3,
   "metadata": {
    "collapsed": false
   },
   "outputs": [
    {
     "name": "stdout",
     "output_type": "stream",
     "text": [
      "The voltage gain of the amplifier with negative feedback=97.\n"
     ]
    }
   ],
   "source": [
    "#Variable declaration\n",
    "Av=3000.0;              #Voltage gain without feedback\n",
    "m_v=0.01;               #Feedback fraction\n",
    "\n",
    "#Calculation\n",
    "#Since, Gain_with_feedback= Gain_without_feedback/(1+Gain_without_feedback*feedback_fraction),\n",
    "Avf=Av/(1+Av*m_v);                  #Voltage gain of the amplifier with negative feedback\n",
    "\n",
    "#Result\n",
    "print(\"The voltage gain of the amplifier with negative feedback=%.0f.\"%Avf);\n"
   ]
  },
  {
   "cell_type": "markdown",
   "metadata": {},
   "source": [
    "## Example 13.2 : Page number  339"
   ]
  },
  {
   "cell_type": "code",
   "execution_count": 4,
   "metadata": {
    "collapsed": false
   },
   "outputs": [
    {
     "name": "stdout",
     "output_type": "stream",
     "text": [
      "The fraction of output fedback to the input=1/20.\n"
     ]
    }
   ],
   "source": [
    "#Variable declaration\n",
    "Av=140.0;                   #Voltage gain\n",
    "Avf=17.5;                   #Voltage gain with negative feedback\n",
    "\n",
    "#Calculation\n",
    "#Since, Avf=Av/(1+Av*mv), so,\n",
    "mv=(Av-Avf)/(Av*Avf);                 #Fraction of output fedback to the input\n",
    "\n",
    "\n",
    "#Result\n",
    "print(\"The fraction of output fedback to the input=1/%.0f.\"%(1.0/mv));\n"
   ]
  },
  {
   "cell_type": "markdown",
   "metadata": {},
   "source": [
    "## Example 13.3 : Page number 339"
   ]
  },
  {
   "cell_type": "code",
   "execution_count": 5,
   "metadata": {
    "collapsed": false
   },
   "outputs": [
    {
     "name": "stdout",
     "output_type": "stream",
     "text": [
      "(i)  The fraction of output fedback to input=0.01.\n",
      "(ii) The required amplifier gain for overall gain to be 75=300.\n"
     ]
    }
   ],
   "source": [
    "#Variable declaration\n",
    "Av=100.0;                   #Voltage gain\n",
    "Avf=50.0;                   #Voltage gain with negative feedback\n",
    "\n",
    "#Calculation\n",
    "#(i)\n",
    "#Since, Gain_with_feedback= Gain_without_feedback/(1+Gain_without_feedback*feedback_fraction),\n",
    "mv=(Av-Avf)/(Av*Avf);       #The fraction of output fedback to input\n",
    "\n",
    "#(ii) Overall gain is to be 75:\n",
    "Avf=75.0;                           #The required overall gain\n",
    "#Since, Gain_with_feedback= Gain_without_feedback/(1+Gain_without_feedback*feedback_fraction),\n",
    "Av=Avf/(1-Avf*mv);                  #The required value of amplifier gain\n",
    "\n",
    "#result\n",
    "print(\"(i)  The fraction of output fedback to input=%.2f.\"%mv);\n",
    "print(\"(ii) The required amplifier gain for overall gain to be 75=%d.\"%Av);\n"
   ]
  },
  {
   "cell_type": "markdown",
   "metadata": {},
   "source": [
    "## Example 13.4 : Page number 339-340"
   ]
  },
  {
   "cell_type": "code",
   "execution_count": 6,
   "metadata": {
    "collapsed": false
   },
   "outputs": [
    {
     "name": "stdout",
     "output_type": "stream",
     "text": [
      "(i)  The voltage gain without feedback=40.\n",
      "(ii) The feedback fraction = 1/40.\n"
     ]
    }
   ],
   "source": [
    "#Variable declaration\n",
    "Vout=10.0;              #output voltage , V\n",
    "Vin_f=0.5;              #Input votage for amplifier with feedback, V\n",
    "Vin=0.25;                #Input votage for amplifier without feedback, V\n",
    "\n",
    "#Calculation\n",
    "#(i)\n",
    "Av=Vout/Vin;                #Voltage gain without negative feedback\n",
    "\n",
    "#(ii)\n",
    "Avf=Vout/Vin_f;             #Voltage gain with negative feedback\n",
    "#Since, Gain_with_feedback= Gain_without_feedback/(1+Gain_without_feedback*feedback_fraction),\n",
    "mv=(Av-Avf)/(Av*Avf);       #Feedback fraction\n",
    "\n",
    "#Result\n",
    "print(\"(i)  The voltage gain without feedback=%d.\"%Av);\n",
    "print(\"(ii) The feedback fraction = 1/%d.\"%(1/mv));\n"
   ]
  },
  {
   "cell_type": "markdown",
   "metadata": {},
   "source": [
    "## Example 13.5 : Page number 340"
   ]
  },
  {
   "cell_type": "code",
   "execution_count": 7,
   "metadata": {
    "collapsed": false
   },
   "outputs": [
    {
     "name": "stdout",
     "output_type": "stream",
     "text": [
      "(i)  The percentage of reduction in stage gain without feedback=20%.\n",
      "(ii) The percentage of reduction in net gain with feedback=11.2%\n"
     ]
    }
   ],
   "source": [
    "#Variable declaration\n",
    "Av=50.0;                #Gain without feedback\n",
    "Avf=25.0;               #Gain with negative feedback\n",
    "\n",
    "#Calculation\n",
    "#Since, Gain_with_feedback= Gain_without_feedback/(1+Gain_without_feedback*feedback_fraction),\n",
    "mv=(Av-Avf)/(Av*Avf);               #Feedback fraction\n",
    "\n",
    "#(i)\n",
    "#percentage of reduction without feedback\n",
    "Av_reduced=40.0;                                        #Reduced amplifier gain due to ageing\n",
    "percentage_of_reduction=((Av-Av_reduced)/Av)*100;       #Percentage of reduction in stage gain\n",
    "\n",
    "print(\"(i)  The percentage of reduction in stage gain without feedback=%d%%.\"%percentage_of_reduction);\n",
    "\n",
    "#(ii)\n",
    "#Since, Gain_with_feedback= Gain_without_feedback/(1+Gain_without_feedback*feedback_fraction),\n",
    "Avf_reduced=round(Av_reduced/(1+mv*Av_reduced),1);               #Reduced net gain with negative feedback \n",
    "percentage_of_reduction_f=((Avf-Avf_reduced)/Avf)*100;          #Percentage of reduction in net gain with feedback\n",
    "\n",
    "print(\"(ii) The percentage of reduction in net gain with feedback=%.1f%%\"%percentage_of_reduction_f);\n"
   ]
  },
  {
   "cell_type": "markdown",
   "metadata": {},
   "source": [
    "## Example 13.6 : Page number 340"
   ]
  },
  {
   "cell_type": "code",
   "execution_count": 8,
   "metadata": {
    "collapsed": false
   },
   "outputs": [
    {
     "name": "stdout",
     "output_type": "stream",
     "text": [
      "The percentage change in system gain=8.36%\n"
     ]
    }
   ],
   "source": [
    "#Variable declaration\n",
    "Av=100.0;               #Gain\n",
    "mv=0.1;                 #feedback fraction\n",
    "Av_fall=6.0;            #fall in gain, dB\n",
    "\n",
    "#Calculation\n",
    "#Since, Gain_with_feedback= Gain_without_feedback/(1+Gain_without_feedback*feedback_fraction),\n",
    "Avf=round(Av/(1+Av*mv),2);           #Total system gain with feedback\n",
    "\n",
    "#Since, fall in gain=20*log10(Av/Av_1)\n",
    "Av1=round(Av/10**(Av_fall/20),0);            #New absolute voltage gain without feedback\n",
    "#Since, Gain_with_feedback= Gain_without_feedback/(1+Gain_without_feedback*feedback_fraction),\n",
    "Avf_new=round(Av1/(1+Av1*mv),2);             #New net system gain with feedback\n",
    "\n",
    "percentage_change=((Avf-Avf_new)/Avf)*100;          #Percentage change in system gain\n",
    "\n",
    "#Result\n",
    "print(\"The percentage change in system gain=%.2f%%\"%percentage_change);\n"
   ]
  },
  {
   "cell_type": "markdown",
   "metadata": {},
   "source": [
    "## Example 13.7 : Page number 341"
   ]
  },
  {
   "cell_type": "code",
   "execution_count": 9,
   "metadata": {
    "collapsed": false
   },
   "outputs": [
    {
     "name": "stdout",
     "output_type": "stream",
     "text": [
      "The feedback fraction=0.008.\n",
      "The percentage fall in system gain=4.8%.\n"
     ]
    }
   ],
   "source": [
    "#Variable declaration\n",
    "Av=500.0;                       #Voltage gain without feedback\n",
    "Avf=100.0;                      #Voltage gain with negative feedback\n",
    "Av_fall_percentage=20.0;          #Gain fall percentage due to ageing\n",
    "\n",
    "\n",
    "#Calculation\n",
    "#Since, Gain_with_feedback= Gain_without_feedback/(1+Gain_without_feedback*feedback_fraction),\n",
    "mv=(Av-Avf)/(Av*Avf);                                           #Feedback fraction\n",
    "Av_reduced=((100-Av_fall_percentage)/100)*Av;                   #Reduced voltage gain\n",
    "Avf_reduced=round(Av_reduced/(1+Av_reduced*mv),1);                       #Reduced total gain of the system\n",
    "percentage_fall=((Avf-Avf_reduced)/Avf)*100;                    #Percentage of fall in total system gain\n",
    "\n",
    "#Result\n",
    "print(\"The feedback fraction=%.3f.\"%mv);\n",
    "print(\"The percentage fall in system gain=%.1f%%.\"%percentage_fall);\n",
    "\n",
    "#Note: The percentage gain is calculated in the text as 4.7% due to approximation of Avf to 95.3 whose actual approximation will be (95.238)~95.2. So, the percentage fall calculated here is 4.8%\n"
   ]
  },
  {
   "cell_type": "markdown",
   "metadata": {},
   "source": [
    "## Example 13.8 : Page number 341"
   ]
  },
  {
   "cell_type": "code",
   "execution_count": 10,
   "metadata": {
    "collapsed": false
   },
   "outputs": [
    {
     "name": "stdout",
     "output_type": "stream",
     "text": [
      "The voltage gain with feedback=31622.\n",
      "The feedback fraction=2.16e-05.\n"
     ]
    }
   ],
   "source": [
    "from math import log10\n",
    "\n",
    "#Variable declaration\n",
    "Av=100000.0;                        #Open loop voltage gain\n",
    "f_dB=10.0;                          #Negative feedback, dB\n",
    "\n",
    "#Calculation\n",
    "Av_dB=20*log10(Av);                        #dB voltage gain without feedback, dB\n",
    "Avf_dB=Av_dB-f_dB;                         #dB voltage gain with feedback, dB\n",
    "Avf=10**(Avf_dB/20);                       #Voltage gain with feedback\n",
    "\n",
    "#Since, Gain_with_feedback= Gain_without_feedback/(1+Gain_without_feedback*feedback_fraction),\n",
    "mv=(Av-Avf)/(Av*Avf);                       #feedback fraction\n",
    "\n",
    "#Result\n",
    "print(\"The voltage gain with feedback=%d.\"%Avf);\n",
    "print(\"The feedback fraction=%.2e.\"%mv);\n"
   ]
  },
  {
   "cell_type": "markdown",
   "metadata": {},
   "source": [
    "## Example 13.9 : Page number 341-342"
   ]
  },
  {
   "cell_type": "code",
   "execution_count": 11,
   "metadata": {
    "collapsed": false
   },
   "outputs": [
    {
     "name": "stdout",
     "output_type": "stream",
     "text": [
      "The voltage gain with feedback=47.4.\n"
     ]
    }
   ],
   "source": [
    "#Variable declaration\n",
    "Ao=1000.0;                        #Open circuit voltage gain\n",
    "Rout=100.0;                       #Output resistance, ohm\n",
    "RL=900.0;                         #Resistive load, ohm\n",
    "mv=1/50;                          #feedback fraction\n",
    "\n",
    "#Calculation\n",
    "#Since, Av=Ao*RL/(Rout+RL)\n",
    "Av=Ao*RL/(Rout+RL);                     #Voltage gain without feedback\n",
    "Avf=Av/(1+Av*mv);                       #Voltage gain with feedback\n",
    "\n",
    "#Result\n",
    "print(\"The voltage gain with feedback=%.1f.\"%Avf);\n"
   ]
  },
  {
   "cell_type": "markdown",
   "metadata": {},
   "source": [
    "## Example 13.10 : Page number 342"
   ]
  },
  {
   "cell_type": "code",
   "execution_count": 12,
   "metadata": {
    "collapsed": false
   },
   "outputs": [
    {
     "name": "stdout",
     "output_type": "stream",
     "text": [
      "100=Av/(1+Av*mv)        ------Eq. 1\n",
      "99=0.8*Av/(1+0.8*Av*mv)        ------Eq. 2\n",
      "99 + 79.2*Av*mv=0.8Av        ------Eq. 3 from Eq. 2\n",
      "79.2 + 79.2*Av*mv=0.792Av        ------Eq. 4 from Eq. 1\n",
      "Subtracting Eq.4 from Eq.3\n",
      "19.8 = 0.008*Av\n",
      "Av=2475.\n",
      "mv=0.0096.\n"
     ]
    }
   ],
   "source": [
    "#Variable declaration\n",
    "Avf=100.0;                    #Voltage gain with feedback\n",
    "vary_f=1;                     #Vary percentage in voltage gain with feedback\n",
    "vary_wf=20;                   #Vary percentage in voltage gain without feedback\n",
    "\n",
    "#Calculation\n",
    "#Avf=Av/(1+Av*mv)\n",
    "print(\"%d=Av/(1+Av*mv)        ------Eq. 1\"%Avf);         #Equation 1\n",
    "\n",
    "#considering variation in gains\n",
    "Avf_vary=Avf*(1- vary_f/100.0);               #Gain with feedback, considering variation\n",
    "print(\"%d=%.1f*Av/(1+%.1f*Av*mv)        ------Eq. 2\"%(Avf_vary,(1-vary_wf/100.0),(1-vary_wf/100.0)));     #Equation 2\n",
    "\n",
    "#Solving the above two equations\n",
    "print(\"%d + %.1f*Av*mv=%.1fAv        ------Eq. 3 from Eq. 2\"%(Avf_vary,Avf_vary*(1-vary_wf/100.0),(1-vary_wf/100.0)));     #Equation 3\n",
    "\n",
    "#multiplying Eq. 1 with (Avf_vary*(1-vary_wf/100.0))/100=0.792\n",
    "print(\"%.1f + %.1f*Av*mv=%.3fAv        ------Eq. 4 from Eq. 1\"%(Avf*Avf_vary*(1-vary_wf/100.0)/100.0,Avf*Avf_vary*(1-vary_wf/100.0)/100.0,Avf_vary*(1-vary_wf/100.0)/100.0));     #Equation 4\n",
    "\n",
    "print(\"Subtracting Eq.4 from Eq.3\" );\n",
    "print(\"%.1f = %.3f*Av\"%(Avf_vary-Avf*Avf_vary*(1-vary_wf/100.0)/100.0,(1-vary_wf/100.0)-Avf_vary*(1-vary_wf/100.0)/100.0));\n",
    "Av=(Avf_vary-Avf*Avf_vary*(1-vary_wf/100.0)/100.0)/((1-vary_wf/100.0)-Avf_vary*(1-vary_wf/100.0)/100.0);\n",
    "print(\"Av=%.0f.\"%Av);\n",
    "mv=(Av-Avf)/(Av*Avf);\n",
    "print(\"mv=%.4f.\"%mv);\n",
    "      "
   ]
  },
  {
   "cell_type": "markdown",
   "metadata": {},
   "source": [
    "## Example 13.11 : Page number 345"
   ]
  },
  {
   "cell_type": "code",
   "execution_count": 13,
   "metadata": {
    "collapsed": false
   },
   "outputs": [
    {
     "name": "stdout",
     "output_type": "stream",
     "text": [
      "(i)   Feedback fraction=0.1.\n",
      "(ii)  Voltage gain with feedback=10.\n",
      "(iii) Output voltage=10mV.\n"
     ]
    }
   ],
   "source": [
    "#Variable declaration\n",
    "Av=10000.0;             #Volage gain without feedback\n",
    "R1=2.0;                 #Resistor R1, kilo ohm\n",
    "R2=18.0;                #Resistor R2, kilo ohm\n",
    "Vin=1.0;                #input voltage, mV\n",
    "\n",
    "#Calculation\n",
    "#(i)\n",
    "mv=R1/(R1+R2);              #feedback fraction\n",
    "\n",
    "#(ii)\n",
    "#Since, Gain_with_feedback= Gain_without_feedback/(1+Gain_without_feedback*feedback_fraction),\n",
    "Avf=round(Av/(1+Av*mv),0);           #Voltage gain with feedback\n",
    "\n",
    "#(iii)\n",
    "Vout=Avf*Vin;               #Output voltage, mV\n",
    "\n",
    "#Result\n",
    "print(\"(i)   Feedback fraction=%.1f.\"%mv);\n",
    "print(\"(ii)  Voltage gain with feedback=%d.\"%Avf);\n",
    "print(\"(iii) Output voltage=%dmV.\"%Vout);\n"
   ]
  },
  {
   "cell_type": "markdown",
   "metadata": {},
   "source": [
    "## Example 13.12 : Page number 345-346"
   ]
  },
  {
   "cell_type": "code",
   "execution_count": 14,
   "metadata": {
    "collapsed": false
   },
   "outputs": [
    {
     "name": "stdout",
     "output_type": "stream",
     "text": [
      "(i)   Feedback fraction=0.1.\n",
      "(ii)  The voltage gain with feedback=10.\n",
      "(iii) Increased input impedance due to negative feedback=10 mega ohm\n",
      "(iv)  Decreased output impedance due to negative feedback=0.1 ohm.\n"
     ]
    }
   ],
   "source": [
    "#Variable declaration\n",
    "Av=10000.0;             #Volateg gain without feedback\n",
    "Zin=10.0;               #Input impedance, kilo ohm\n",
    "Zout=100.0;             #Output impedance, ohm\n",
    "R1=10.0;                #Resistor R1, kilo ohm\n",
    "R2=90.0;                #Resistor R2, kilo ohm\n",
    "\n",
    "#Calculation\n",
    "#(i)\n",
    "mv=R1/(R1+R2);                  #Feedback fraction\n",
    "\n",
    "#(ii)\n",
    "#Since, Gain_with_feedback= Gain_without_feedback/(1+Gain_without_feedback*feedback_fraction),\n",
    "Avf=round(Av/(1+Av*mv),0);               #Voltage gain with feedback\n",
    "\n",
    "#(iii)\n",
    "Zin_feedback=((1+Av*mv)*Zin)/1000;             #Increased input impedance due to negative feedback, mega ohm\n",
    "\n",
    "#(iv)\n",
    "Zout_feedback=Zout/(1+Av*mv);             #Decreased output impedance due to negative feedback, ohm\n",
    "\n",
    "\n",
    "#Result\n",
    "print(\"(i)   Feedback fraction=%.1f.\"%mv);\n",
    "print(\"(ii)  The voltage gain with feedback=%d.\"%Avf);\n",
    "print(\"(iii) Increased input impedance due to negative feedback=%.0f mega ohm\"%Zin_feedback);\n",
    "print(\"(iv)  Decreased output impedance due to negative feedback=%.1f ohm.\"%Zout_feedback);\n"
   ]
  },
  {
   "cell_type": "markdown",
   "metadata": {},
   "source": [
    "## Example 13.13 : Page number 346"
   ]
  },
  {
   "cell_type": "code",
   "execution_count": 15,
   "metadata": {
    "collapsed": false
   },
   "outputs": [
    {
     "name": "stdout",
     "output_type": "stream",
     "text": [
      "Distortion with negative feedback=0.312%\n"
     ]
    }
   ],
   "source": [
    "#Variable declaration\n",
    "Av=150.0;                       #Voltage gain\n",
    "D=5/100.0;                        #Distortion\n",
    "mv=10/100.0;                      #Feedback fraction\n",
    "\n",
    "#Calculation\n",
    "Dvf=round((D/(1+Av*mv))*100,3);                #Distortion with negative feedback\n",
    "\n",
    "\n",
    "#Result\n",
    "print(\"Distortion with negative feedback=%.3f%%\"%Dvf);\n",
    "\n",
    "#Note: In the text, value of Dvf=0.3125% has been approximated to 0.313%. But, here the approximation is done to 0.312%\n"
   ]
  },
  {
   "cell_type": "markdown",
   "metadata": {},
   "source": [
    "## Example 13.14 : Page number 346"
   ]
  },
  {
   "cell_type": "code",
   "execution_count": 16,
   "metadata": {
    "collapsed": false
   },
   "outputs": [
    {
     "name": "stdout",
     "output_type": "stream",
     "text": [
      "The new lower cut-off frequency=136.4Hz\n",
      "The new upper cut-off frequency=5.52MHz\n"
     ]
    }
   ],
   "source": [
    "#Variable declaration\n",
    "Av=1000.0;                      #Voltage gain\n",
    "f1=1.5;                         #Lower cut-off frequency, kHz\n",
    "f2=501.5;                       #Upper cut-off frequency, kHz\n",
    "mv=1/100.0;                       #Feedbcack fraction\n",
    "\n",
    "#Calculation\n",
    "f1_f=(f1/(1+mv*Av))*1000;              #New lower cut-off frequency, Hz\n",
    "f2_f=(f2*(1+mv*Av))/1000;              #New upper cut-off frequency, MHz\n",
    "\n",
    "\n",
    "#Result\n",
    "print(\"The new lower cut-off frequency=%.1fHz\"%f1_f);\n",
    "print(\"The new upper cut-off frequency=%.2fMHz\"%f2_f);\n"
   ]
  },
  {
   "cell_type": "markdown",
   "metadata": {},
   "source": [
    "## Example 13.15 : Page number 348"
   ]
  },
  {
   "cell_type": "code",
   "execution_count": 17,
   "metadata": {
    "collapsed": false
   },
   "outputs": [
    {
     "name": "stdout",
     "output_type": "stream",
     "text": [
      "The effective current gain=58.82.\n"
     ]
    }
   ],
   "source": [
    "#Variable declaration\n",
    "Ai=200.0;                       #Current gain without feedback\n",
    "mi=0.012;                       #Current attenuation\n",
    "\n",
    "#Calculation\n",
    "Aif=Ai/(1+Ai*mi);\n",
    "\n",
    "#Result\n",
    "print(\"The effective current gain=%.2f.\"%Aif);\n"
   ]
  },
  {
   "cell_type": "markdown",
   "metadata": {},
   "source": [
    "## Example 13.16 : Page number 349"
   ]
  },
  {
   "cell_type": "code",
   "execution_count": 18,
   "metadata": {
    "collapsed": false
   },
   "outputs": [
    {
     "name": "stdout",
     "output_type": "stream",
     "text": [
      "The input impedance when negative feedback is applied=3.26 kilo ohm\n"
     ]
    }
   ],
   "source": [
    "#Variable declaration\n",
    "Ai=240.0;                       #Current gain\n",
    "Zin=15.0;                       #Input impedance without feedback, kilo ohm\n",
    "mi=0.015;                       #Current feedback fraction\n",
    "\n",
    "#Calculations\n",
    "Zin_f=Zin/(1+mi*Ai);                #Input impedance with feedback, kilo ohm\n",
    "\n",
    "\n",
    "#Result\n",
    "print(\"The input impedance when negative feedback is applied=%.2f kilo ohm\"%Zin_f);\n"
   ]
  },
  {
   "cell_type": "markdown",
   "metadata": {},
   "source": [
    "## Example 13.17 : Page number 349"
   ]
  },
  {
   "cell_type": "code",
   "execution_count": 19,
   "metadata": {
    "collapsed": false
   },
   "outputs": [
    {
     "name": "stdout",
     "output_type": "stream",
     "text": [
      "The output impedance with negative feedback=9kilo ohm.\n"
     ]
    }
   ],
   "source": [
    "#Variable declaration\n",
    "Ai=200.0;                   #Current gain without feedback\n",
    "Zout=3.0;                   #Output impedance without feedback, kilo ohm\n",
    "mi=0.01;                    #current feedback fraction\n",
    "\n",
    "#Calculation\n",
    "Zout_f=Zout*(1+mi*Ai);              #Output impedance with negative feedback, kilo ohm\n",
    "\n",
    "#Result\n",
    "print(\"The output impedance with negative feedback=%dkilo ohm.\"%Zout_f);\n"
   ]
  },
  {
   "cell_type": "markdown",
   "metadata": {},
   "source": [
    "## Example 13.18 : Page number 349"
   ]
  },
  {
   "cell_type": "code",
   "execution_count": 20,
   "metadata": {
    "collapsed": false
   },
   "outputs": [
    {
     "name": "stdout",
     "output_type": "stream",
     "text": [
      "Bandwidth when negative feedback is applied=1400kHz.\n"
     ]
    }
   ],
   "source": [
    "#Variable declaration\n",
    "Ai=250.0;                   #Current gain without feedback\n",
    "BW=400.0;                   #Bandwidth, kHz\n",
    "mi=0.01;                    #current feedback fraction\n",
    "\n",
    "#Calculation\n",
    "BW_f=BW*(1+mi*Ai);              #Bandwidth when negative feedback is applied, kHz\n",
    "\n",
    "#Result\n",
    "print(\"Bandwidth when negative feedback is applied=%dkHz.\"%BW_f);\n"
   ]
  },
  {
   "cell_type": "markdown",
   "metadata": {},
   "source": [
    "## Example 13.19 : Page number 350-351"
   ]
  },
  {
   "cell_type": "code",
   "execution_count": 22,
   "metadata": {
    "collapsed": false
   },
   "outputs": [
    {
     "name": "stdout",
     "output_type": "stream",
     "text": [
      "Value of VE=9.72V and IE=10.68mA\n"
     ]
    },
    {
     "data": {
      "image/png": "[encoded data removed]",
      "text/plain": [
       "<matplotlib.figure.Figure at 0x7f9a7522f0b8>"
      ]
     },
     "metadata": {},
     "output_type": "display_data"
    }
   ],
   "source": [
    "%matplotlib inline\n",
    "import matplotlib.pylab as p\n",
    "\n",
    "#Variable declaration\n",
    "VCC=18.0;                   #Supply voltage, V\n",
    "R1=16.0;                    #Resistor R1, kilo ohm\n",
    "R2=22.0;                    #Resistor R2, kilo ohm\n",
    "RE=910.0;                   #Emitter resistor, ohm\n",
    "VBE=0.7;                    #Base-emitter voltage, V\n",
    "\n",
    "#Calculations\n",
    "V2=VCC*R2/(R1+R2);                 #Voltage across R2, V (Voltage divider rule)\n",
    "VE=V2-VBE;                         #Emitter voltage, V\n",
    "IE=(VE/RE)*1000;                   #Emitter current, mA (OHM's LAW)\n",
    "\n",
    "#D.C load line\n",
    "IC_sat=(VCC/RE)*1000;                      #Collector saturation current, mA\n",
    "VCE_off=VCC;                               #Collector-emitter voltage in off state, V\n",
    "\n",
    "#Result\n",
    "print(\"Value of VE=%.2fV and IE=%.2fmA\"%(VE,IE));\n",
    "\n",
    "#Plotting\n",
    "VCE_plot=[0,VCE_off];            #Plotting variable for VCE\n",
    "IC_plot=[IC_sat,0];              #Plotting variable for IC\n",
    "p.plot(VCE_plot,IC_plot);\n",
    "p.xlim(0,20)\n",
    "p.ylim(0,25)\n",
    "p.xlabel('VCE(V)');\n",
    "p.ylabel('IC(mA)');\n",
    "p.title('d.c load line');\n",
    "p.grid();\n",
    "\n"
   ]
  },
  {
   "cell_type": "markdown",
   "metadata": {},
   "source": [
    "## Example 13.20 : Page number 352"
   ]
  },
  {
   "cell_type": "code",
   "execution_count": 23,
   "metadata": {
    "collapsed": false
   },
   "outputs": [
    {
     "name": "stdout",
     "output_type": "stream",
     "text": [
      "The voltage gain of the emitter follower circuit=0.994.\n"
     ]
    }
   ],
   "source": [
    "#Variable declaration\n",
    "VCC=10.0;                   #Supply voltage, V\n",
    "R1=10.0;                    #Resistor R1, kilo ohm\n",
    "R2=10.0;                    #Resistor R2, kilo ohm\n",
    "RE=5.0;                     #Emitter resistance, kilo ohm\n",
    "VBE=0.7;                    #Base-emitter voltage, V\n",
    "\n",
    "\n",
    "#Calculation\n",
    "V2=VCC*R2/(R1+R2);                 #Voltage across R2, V (Voltage divider rule)\n",
    "VE=V2-VBE;                         #Emitter voltage, V\n",
    "IE=(VE/RE);                   #Emitter current, mA (OHM's LAW)\n",
    "re=25/IE;                          #a.c emitter resistance, ohm\n",
    "Av=RE*1000/(re+RE*1000);                     #Voltage gain\n",
    "\n",
    "\n",
    "#Result\n",
    "print(\"The voltage gain of the emitter follower circuit=%.3f.\"%Av);\n"
   ]
  },
  {
   "cell_type": "markdown",
   "metadata": {},
   "source": [
    "## Example 13.21 : Page number 352-353"
   ]
  },
  {
   "cell_type": "code",
   "execution_count": 24,
   "metadata": {
    "collapsed": false
   },
   "outputs": [
    {
     "name": "stdout",
     "output_type": "stream",
     "text": [
      "The voltage gain=0.988\n"
     ]
    }
   ],
   "source": [
    "#Variable declaration\n",
    "RE=5.0;                 #Emitter resistance, kilo ohm\n",
    "re=29.1;                #a.c emitter resistance, ohm\n",
    "RL=5.0;                 #Load resistance, kilo ohm\n",
    "\n",
    "#Calculation\n",
    "RE_ac=(RE*RL)/(RE+RL);               #New effective value of emitter resistance, kilo ohm\n",
    "Av=RE_ac*1000/(re+RE_ac*1000);     #Voltage gain\n",
    "\n",
    "#Result\n",
    "print(\"The voltage gain=%.3f\"%Av);\n"
   ]
  },
  {
   "cell_type": "markdown",
   "metadata": {},
   "source": [
    "## Example 13.22 : Page number 354"
   ]
  },
  {
   "cell_type": "code",
   "execution_count": 25,
   "metadata": {
    "collapsed": false
   },
   "outputs": [
    {
     "name": "stdout",
     "output_type": "stream",
     "text": [
      "The input impedance of the emitter follower =4.96 kilo ohm\n",
      "The approximate value of the input impedance=5 kilo ohm\n"
     ]
    }
   ],
   "source": [
    "def pr(r1,r2):                     #Function for calculating parallel resistance\n",
    "    return (r1*r2)/(r1+r2);\n",
    "\n",
    "#Variable declaration\n",
    "VCC=10.0;                   #Supply voltage, V\n",
    "R1=10.0;                    #Resistor R1, kilo ohm\n",
    "R2=10.0;                    #Resistor R2, kilo ohm\n",
    "RE=4.3;                     #Emitter resistor, kilo ohm\n",
    "RL=10.0;                    #Load resistance, kilo ohm\n",
    "VBE=0.7;                    #Base-emitter voltage, V\n",
    "beta=200.0;                 #Base current amplification factor\n",
    "\n",
    "#Calculation\n",
    "V2=VCC*R2/(R1+R2);                 #Voltage across R2, V (Voltage divider rule)\n",
    "VE=V2-VBE;                         #Emitter voltage, V\n",
    "IE=(VE/RE);                        #Emitter current, mA (OHM's LAW)\n",
    "re=25/IE;                          #a.c emitter resistance, ohm\n",
    "RE_eff=pr(RE,RL);                  #Effective external emitter resistance, kilo ohm\n",
    "Zin_base=beta*(re/1000+RE_eff);         #Input impedance of the base of the transistor, kilo ohm\n",
    "Zin=pr(pr(R1,R2),Zin_base);        #Input impedance of emitter follower, kilo ohm\n",
    "#Approximate value of input impedance taken as parallel resistance of R1 and R2 and ignoring Zin_base due to its relatively large value\n",
    "Zin_approx=pr(R1,R2);              #Approximate input impedance, kilo ohm\n",
    "\n",
    "#Result\n",
    "print(\"The input impedance of the emitter follower =%.2f kilo ohm\"%Zin);\n",
    "print(\"The approximate value of the input impedance=%d kilo ohm\"%Zin_approx);\n"
   ]
  },
  {
   "cell_type": "markdown",
   "metadata": {},
   "source": [
    "## Example 13.23 : Page number 355"
   ]
  },
  {
   "cell_type": "code",
   "execution_count": 26,
   "metadata": {
    "collapsed": false
   },
   "outputs": [
    {
     "name": "stdout",
     "output_type": "stream",
     "text": [
      "The output impedance=22.3 ohm\n"
     ]
    }
   ],
   "source": [
    "def pr(r1,r2):                     #Function for calculating parallel resistance\n",
    "    return (r1*r2)/(r1+r2);\n",
    "\n",
    "\n",
    "#Variable declaration\n",
    "re=20.0;                    #a.c emitter resistance, ohm\n",
    "R1=3.0;                     #Resistor R1, kilo ohm\n",
    "R2=4.7;                     #Resistor R2, kilo ohm\n",
    "RS=600.0;                   #Source resistance, kilo ohm\n",
    "beta=200.0;                 #Base current amplification factor\n",
    "\n",
    "#Calculation\n",
    "Rin_ac=pr(pr(R1,R2)*1000,RS);            #Input a.c resistance, ohm\n",
    "Zout=re + Rin_ac/beta;                   #Output impedance, ohm\n",
    "\n",
    "#Result\n",
    "print(\"The output impedance=%.1f ohm\"%Zout);\n"
   ]
  },
  {
   "cell_type": "markdown",
   "metadata": {},
   "source": [
    "## Example 13.24 : Page number  358"
   ]
  },
  {
   "cell_type": "code",
   "execution_count": 27,
   "metadata": {
    "collapsed": false
   },
   "outputs": [
    {
     "name": "stdout",
     "output_type": "stream",
     "text": [
      "(i)  d.c value of current in RE=1.09mA\n",
      "(ii) Input impedance=16.17 mega ohm.\n"
     ]
    }
   ],
   "source": [
    "#Variable declaration\n",
    "VCC=10.0;                    #Supply voltage, V\n",
    "R1=120.0;                    #Resistor R1, kilo ohm\n",
    "R2=120.0;                    #Resistor R2, kilo ohm\n",
    "RE=3.3;                      #Emitter resistor, kilo ohm\n",
    "VBE=0.7;                     #Base-emitter voltage, V\n",
    "beta_1=70.0;                 #Base current amplification factor of 1st transistor\n",
    "beta_2=70.0;                 #Base current amplification factor of 2nd transistor\n",
    "\n",
    "#Calculation\n",
    "#(i)\n",
    "V2=VCC*R2/(R1+R2);                 #Voltage across R2, V (Voltage divider rule)\n",
    "IE_2=(V2-2*VBE)/RE;                #Emitter current, mA (OHM's LAW)\n",
    "\n",
    "#(ii)\n",
    "Zin=(beta_1*beta_2*RE)/1000;               #Input impedance, mega ohm\n",
    "\n",
    "#Result\n",
    "print(\"(i)  d.c value of current in RE=%.2fmA\"%IE_2);\n",
    "print(\"(ii) Input impedance=%.2f mega ohm.\"%Zin);\n"
   ]
  },
  {
   "cell_type": "markdown",
   "metadata": {},
   "source": [
    "## Example 13.25 : Page number 358-359"
   ]
  },
  {
   "cell_type": "code",
   "execution_count": 28,
   "metadata": {
    "collapsed": false
   },
   "outputs": [
    {
     "name": "stdout",
     "output_type": "stream",
     "text": [
      "(i) D.C Bias levels: \n",
      " VB1= 4V, VE1=3.3V, VB2=3.3V, VE2=2.6V, IE2=1.3mA and IE1=0.013mA.\n",
      "(ii) A.C Analysis:   \n",
      " re1=1923 ohm and re2=19.23 ohm \n"
     ]
    }
   ],
   "source": [
    "#Variable declaration\n",
    "VCC=12.0;                    #Supply voltage, V\n",
    "R1=20.0;                     #Resistor R1, kilo ohm\n",
    "R2=10.0;                     #Resistor R2, kilo ohm\n",
    "RC=4.0;                      #Collector resistor, kilo ohm\n",
    "RE=2.0;                      #Emitter resistor, kilo ohm\n",
    "VBE=0.7;                     #Base-emitter voltage, V\n",
    "beta=100.0;                  #Base current amplification factor of 1st transistor\n",
    "\n",
    "#Calculation\n",
    "#(i) D.C Bias levels\n",
    "VB1=VCC*R2/(R1+R2);                 #Base voltage of 1st transistor, V (Voltage divider rule)\n",
    "VE1=VB1-VBE;                        #Emitter voltage of 1st transistor, V\n",
    "VB2=VE1;                            #Base voltage of 2nd transistor, V\n",
    "VE2=VB2-VBE;                        #Emitter voltage of 2nd transistor, V\n",
    "IE2=VE2/RE;                         #Emitter current of 2nd transistor, mA (OHM' LAW)\n",
    "IE1=IE2/beta;                       #Emitter current of 1st transistor, mA (IE~IC=beta*IB, here IB2=IE1)\n",
    "\n",
    "#(ii) A.C analysis\n",
    "re1=25/IE1;                         #a.c emitter resistance of 1st transistor\n",
    "re2=25/IE2;                         #a.c emitter resistance of 2nd transistor\n",
    "\n",
    "\n",
    "#Result\n",
    "print(\"(i) D.C Bias levels: \\n VB1= %dV, VE1=%.1fV, VB2=%.1fV, VE2=%.1fV, IE2=%.1fmA and IE1=%.3fmA.\"%(VB1,VE1,VB2,VE2,IE2,IE1));\n",
    "print(\"(ii) A.C Analysis:   \\n re1=%d ohm and re2=%.2f ohm \"%(re1,re2));\n"
   ]
  }
 ],
 "metadata": {
  "kernelspec": {
   "display_name": "Python 3",
   "language": "python",
   "name": "python3"
  },
  "language_info": {
   "codemirror_mode": {
    "name": "ipython",
    "version": 3
   },
   "file_extension": ".py",
   "mimetype": "text/x-python",
   "name": "python",
   "nbconvert_exporter": "python",
   "pygments_lexer": "ipython3",
   "version": "3.5.1"
  },
  "widgets": {
   "state": {},
   "version": "1.1.2"
  }
 },
 "nbformat": 4,
 "nbformat_minor": 0
}
