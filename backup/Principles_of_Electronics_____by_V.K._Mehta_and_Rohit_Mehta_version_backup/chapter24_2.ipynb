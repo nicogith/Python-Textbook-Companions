{
 "metadata": {
  "name": "",
  "signature": "sha256:947f358cf49d029c94d008f72a340051744678cf2e36ecc199100b78d31fcba5"
 },
 "nbformat": 3,
 "nbformat_minor": 0,
 "worksheets": [
  {
   "cells": [
    {
     "cell_type": "heading",
     "level": 1,
     "metadata": {},
     "source": [
      "CHAPTER 24 : HYBRID PARAMETERS"
     ]
    },
    {
     "cell_type": "heading",
     "level": 2,
     "metadata": {},
     "source": [
      "Example 24.1 : Page number 644-645\n"
     ]
    },
    {
     "cell_type": "code",
     "collapsed": false,
     "input": [
      "#Variable declaration\n",
      "R1=10.0;                          #1st resistor, \u03a9\n",
      "R2=5.0;                           #2nd resistor, \u03a9\n",
      "\n",
      "\n",
      "#Calculation\n",
      "print(\"To find h11 and h21, output terminals are shorted.\");\n",
      "h11=R1;                 #Input impedance with output shorted,  \u03a9\n",
      "\n",
      "print(\"h11=%d\u03a9.\"%h11);\n",
      "\n",
      "print(\"Output current flowing into the box= input current flowing out of the box.\");\n",
      "print(\"i2=-i1\");                        #Output current flowing into the box= input current flowing out of the box.\n",
      "print(\"h21=i2/i1 = -i1/i1= -1.\");       #Current gain with output shorted.\n",
      "\n",
      "\n",
      "print(\"For finding h22 and h12, voltage source is connected at the output\");\n",
      "#As, there will be no current through 10k\u03a9 resistor due to open circuited input,\n",
      "print(\"v1=v2\");                         #Output voltage is equal to input voltage(equal to voltage drop across 5k\u03a9 resistor)\n",
      "print(\"h12=v1/v2 = v2/v2 = 1\");         #Voltage feedback ratio with input terminals open\n",
      "\n",
      "h22=1/R2;                               #Output admittance, mho\n",
      "print(\"h22=%.1f mho\"%h22);\n"
     ],
     "language": "python",
     "metadata": {},
     "outputs": [
      {
       "output_type": "stream",
       "stream": "stdout",
       "text": [
        "To find h11 and h21, output terminals are shorted.\n",
        "h11=10\u03a9.\n",
        "Output current flowing into the box= input current flowing out of the box.\n",
        "i2=-i1\n",
        "h21=i2/i1 = -i1/i1= -1.\n",
        "For finding h22 and h12, voltage source is connected at the output\n",
        "v1=v2\n",
        "h12=v1/v2 = v2/v2 = 1\n",
        "h22=0.2 mho\n"
       ]
      }
     ],
     "prompt_number": 2
    },
    {
     "cell_type": "heading",
     "level": 2,
     "metadata": {},
     "source": [
      "Example 24.2 : Page number 645-646\n"
     ]
    },
    {
     "cell_type": "code",
     "collapsed": false,
     "input": [
      "#Variable declaration\n",
      "R1=4.0;                          #1st resistor(at the input side), \u03a9\n",
      "R2=4.0;                          #2nd resistor(at the middle), \u03a9\n",
      "R3=4.0;                          #3rd resistor(at the output side), \u03a9\n",
      "\n",
      "#Calculation\n",
      "print(\"To find h11 and h21, output terminals are shorted.\");\n",
      "h11=R1 + (R2*R3/(R2+R3));                 #Input impedance with output shorted,  \u03a9\n",
      "print(\"h11=%d\u03a9.\"%h11);\n",
      "\n",
      "#As the input current gets divided in half due to R2=R3.\n",
      "print(\"Output current flowing into the box=negative of half of input current flowing out of the box.\");\n",
      "print(\"i2=-i1/2 = -0.5i1\");                        \n",
      "print(\"h21=i2/i1 = -0.5i1/i1= -0.5.\");       #Current gain with output shorted.\n",
      "\n",
      "print(\"For finding h22 and h12, voltage source is connected at the output\");\n",
      "#As, there will be no current through the 1st 4k\u03a9 resistor due to open circuited input,\n",
      "#Voltage gets equally divided across R2 and R3 resistor\n",
      "print(\"v1=v2/2 = 0.5v2\");                    #Input voltage is equal to half of input voltage\n",
      "print(\"h12=v1/v2 = 0.5v2/v2 = 0.5\");         #Voltage feedback ratio with input terminals open\n",
      "\n",
      "h22=1/(R2+R3);                               #Output admittance, mho\n",
      "print(\"h22=%.3f mho\"%h22);\n"
     ],
     "language": "python",
     "metadata": {},
     "outputs": [
      {
       "output_type": "stream",
       "stream": "stdout",
       "text": [
        "To find h11 and h21, output terminals are shorted.\n",
        "h11=6\u03a9.\n",
        "Output current flowing into the box=negative of half of input current flowing out of the box.\n",
        "i2=-i1/2 = -0.5i1\n",
        "h21=i2/i1 = -0.5i1/i1= -0.5.\n",
        "For finding h22 and h12, voltage source is connected at the output\n",
        "v1=v2/2 = 0.5v2\n",
        "h12=v1/v2 = 0.5v2/v2 = 0.5\n",
        "h22=0.125 mho\n"
       ]
      }
     ],
     "prompt_number": 4
    },
    {
     "cell_type": "heading",
     "level": 2,
     "metadata": {},
     "source": [
      "Example 24.3 ; Page number 649-650\n"
     ]
    },
    {
     "cell_type": "code",
     "collapsed": false,
     "input": [
      "#Variable declaration\n",
      "R1=10.0;                  #Resistor at the input side, \u03a9\n",
      "R2=5.0;                   #Resistor at the middle, \u03a9\n",
      "rL=5.0;                   #Load resistor, \u03a9\n",
      "\n",
      "#h-parameter values from 24.1\n",
      "h11=10.0;                     #Input impedance with output shorted,  \u03a9\n",
      "h21=-1.0;                     #Current gain with output shorted\n",
      "h12=1.0;                      #Voltage feedback ratio with input terminal open\n",
      "h22=0.2;                    #Output admittance, mho\n",
      "\n",
      "#Calculation\n",
      "#(i)\n",
      "Zin=h11-(h12*h21/(h22+(1/rL)));                 #Input impedance, \u03a9\n",
      "\n",
      "#(ii)\n",
      "Av=-h21/(Zin*(h22+(1/rL)));                     #voltage gain,\n",
      "\n",
      "#Result\n",
      "print(\"(i)  The input impedance=%.1f\u03a9.\"%Zin );\n",
      "print(\"(ii) The voltage gain=1/%d.\"%(1/Av));\n"
     ],
     "language": "python",
     "metadata": {},
     "outputs": [
      {
       "output_type": "stream",
       "stream": "stdout",
       "text": [
        "(i)  The input impedance=12.5\u03a9.\n",
        "(ii) The voltage gain=1/5.\n"
       ]
      }
     ],
     "prompt_number": 5
    },
    {
     "cell_type": "heading",
     "level": 2,
     "metadata": {},
     "source": [
      "Example 24.4 : Page number 652-653\n"
     ]
    },
    {
     "cell_type": "code",
     "collapsed": false,
     "input": [
      "#Variable declaration\n",
      "VCE=10.0;                 #Collector-emitter voltage, V\n",
      "IC=1.0;                   #Collector current, mA\n",
      "rL=600.0;                 #a.c load seen by the transistor,\u03a9\n",
      "\n",
      "#h-parameters\n",
      "hie=2000.0;               #Input impedance with output shorted, \u03a9\n",
      "hoe=10**-4;             #Output impedance, mho\n",
      "hre=10**-3;             #Voltage feedback ratio with input terminal open\n",
      "hfe=50.0;                 #Current gain with output shorted\n",
      "\n",
      "\n",
      "#Calculation\n",
      "#(i)\n",
      "Zin=hie - (hre*hfe/(hoe+(1/rL)));                  #Input impedance, \u03a9\n",
      "print(\"Input impedance=%.0f \u03a9. \\n As second term in the expression of Zin is small compared to first, Zin~hie=%d\u03a9.\"%(Zin,hie));\n",
      "\n",
      "#(ii)\n",
      "Ai=hfe/(1+hoe*rL);                      #Current gain\n",
      "print(\"Current gain=%d\"%Ai);\n",
      "print(\"if hoe*rL<<1, then Ai~hfe=%d.\"%hfe);\n",
      "\n",
      "#(iii)\n",
      "Av=-hfe/(Zin*(hoe+(1/rL)));                   #Voltage gain\n",
      "print(\"Voltage gain=%.1f\"%Av);\n"
     ],
     "language": "python",
     "metadata": {},
     "outputs": [
      {
       "output_type": "stream",
       "stream": "stdout",
       "text": [
        "Input impedance=1972 \u03a9. \n",
        " As second term in the expression of Zin is small compared to first, Zin~hie=2000\u03a9.\n",
        "Current gain=47\n",
        "if hoe*rL<<1, then Ai~hfe=50.\n",
        "Voltage gain=-14.4\n"
       ]
      }
     ],
     "prompt_number": 9
    },
    {
     "cell_type": "heading",
     "level": 2,
     "metadata": {},
     "source": [
      "Example 24.5 : Page number 653\n"
     ]
    },
    {
     "cell_type": "code",
     "collapsed": false,
     "input": [
      "from math import ceil\n",
      "\n",
      "#Variable declaration\n",
      "VCE=5.0;                 #Collector-emitter voltage, V\n",
      "IC=1.0;                   #Collector current, mA\n",
      "rL=2.0;                 #a.c load seen by the transistor,\u03a9\n",
      "\n",
      "\n",
      "#h-parameters\n",
      "hie=1700.0;               #Input impedance with output shorted, \u03a9\n",
      "hoe=6*10**-6;           #Output impedance, mho\n",
      "hre=1.3*10**-4;         #Voltage feedback ratio with input terminal open\n",
      "hfe=38.0;                 #Current gain with output shorted\n",
      "\n",
      "#Calculation\n",
      "#(i)\n",
      "Zin=hie - (hre*hfe/(hoe+(1/(rL*1000))));                  #Input impedance, \u03a9\n",
      "print(\"Input impedance=%.0f \u03a9.\"%Zin);\n",
      "\n",
      "#(ii)\n",
      "Ai=ceil((hfe/round((1+hoe*rL*1000),3))*10)/10;            #Current gain\n",
      "print(\"Current gain=%.1f\"%Ai);\n",
      "\n",
      "#(iii)\n",
      "Av=-hfe/(Zin*(hoe+(1/(rL*1000))));                   #Voltage gain\n",
      "print(\"Voltage gain=%.1f\"%abs(Av));\n"
     ],
     "language": "python",
     "metadata": {},
     "outputs": [
      {
       "output_type": "stream",
       "stream": "stdout",
       "text": [
        "Input impedance=1690 \u03a9.\n",
        "Current gain=37.6\n",
        "Voltage gain=44.4\n"
       ]
      }
     ],
     "prompt_number": 11
    },
    {
     "cell_type": "heading",
     "level": 2,
     "metadata": {},
     "source": [
      "Example 24.6 : Page number 653-654\n"
     ]
    },
    {
     "cell_type": "code",
     "collapsed": false,
     "input": [
      "#Function for calculating parallel resistance\n",
      "def pr(r1,r2):\n",
      "    return r1*r2/(r1+r2);\n",
      "\n",
      "\n",
      "#Variable declaration\n",
      "RC=10.0;                  #Collector resistance, k\u03a9\n",
      "RL=30.0;                  #Load resistance, k\u03a9\n",
      "R1=80.0;                  #Resistor R1, k\u03a9\n",
      "R2=40.0;                  #Resistor R2, k\u03a9\n",
      "\n",
      "#h-parameters\n",
      "hie=1500.0;               #Input impedance with output shorted, \u03a9\n",
      "hoe=5*10**-5;           #Output impedance, mho\n",
      "hre=4*10**-4;           #Voltage feedback ratio with input terminal open\n",
      "hfe=50.0;                 #Current gain with output shorted\n",
      "\n",
      "\n",
      "#Calculation\n",
      "rL=((RC*RL)/(RC+RL))*1000;             #a.c load as seen by resistance, \u03a9\n",
      "\n",
      "#(i)\n",
      "Zin=round(hie - (hre*hfe/(hoe+(1/rL))),-1);                  #Input impedance, \u03a9\n",
      "print(\"Input impedance=%.0f \u03a9.\"%Zin);\n",
      "\n",
      "#Input impedance of stage=input impedance || bias resistors\n",
      "Zin_stage=round(pr(pr(R1,R2)*1000,Zin),-1);        #\u03a9\n",
      "print(\"Input impedance of the stage=%.0f \u03a9.\"%Zin_stage);\n",
      "\n",
      "#(ii)\n",
      "Av=-hfe/(Zin*(hoe+(1/rL)));                   #Voltage gain\n",
      "print(\"Voltage gain=%d\"%Av);\n",
      "print(\"The negative sign represents phase reversal.\");\n",
      "\n",
      "\n",
      "#(iii)\n",
      "Zout=(1/(hoe-(hfe*hre/hie)))/1000;                     #Output impedance of transistor, k\u03a9\n",
      "Zout_stage=pr(Zout,pr(RL,RC));                    #Output impedance of the stage, k\u03a9\n",
      "print(\"Output impedance=%.2f k\u03a9.\"%Zout);\n",
      "print(\"Output impedance of the stage=%.2f k\u03a9.\"%Zout_stage);\n",
      "\n",
      "\n"
     ],
     "language": "python",
     "metadata": {},
     "outputs": [
      {
       "output_type": "stream",
       "stream": "stdout",
       "text": [
        "Input impedance=1390 \u03a9.\n",
        "Input impedance of the stage=1320 \u03a9.\n",
        "Voltage gain=-196\n",
        "The negative sign represents phase reversal.\n",
        "Output impedance=27.27 k\u03a9.\n",
        "Output impedance of the stage=5.88 k\u03a9.\n"
       ]
      }
     ],
     "prompt_number": 12
    },
    {
     "cell_type": "heading",
     "level": 2,
     "metadata": {},
     "source": [
      "Example 24.7 : Page number 654\n"
     ]
    },
    {
     "cell_type": "code",
     "collapsed": false,
     "input": [
      "#Function for calculating parallel resistance\n",
      "def pr(r1,r2):\n",
      "    return r1*r2/(r1+r2);\n",
      "\n",
      "#Variable declaration\n",
      "RC=4.7;                  #Collector resistance, k\u03a9\n",
      "RL=10.0;                   #Load resistance, k\u03a9\n",
      "R1=33.0;                   #Resistor R1, k\u03a9\n",
      "R2=10.0;                   #Resistor R2, k\u03a9\n",
      "\n",
      "#h-parameters\n",
      "hie=1;                  #Input impedance with output shorted, k\u03a9\n",
      "hoe=25;                 #Output impedance, \u03bcS\n",
      "hre=2.5*10**-4;         #Voltage feedback ratio with input terminal open\n",
      "hfe=50;                 #Current gain with output shorted\n",
      "\n",
      "\n",
      "#Calculation\n",
      "rL=(RC*RL)/(RC+RL);             #a.c load as seen by resistance, k\u03a9\n",
      "\n",
      "Ai=hfe/(1+hoe*10**-6*rL*1000);            #Current gain\n",
      "print(\"Current gain=%.1f\"%Ai);\n"
     ],
     "language": "python",
     "metadata": {},
     "outputs": [
      {
       "output_type": "stream",
       "stream": "stdout",
       "text": [
        "Current gain=46.3\n"
       ]
      }
     ],
     "prompt_number": 14
    },
    {
     "cell_type": "heading",
     "level": 2,
     "metadata": {},
     "source": [
      "Example 24.8  : Page number 654-655\n"
     ]
    },
    {
     "cell_type": "code",
     "collapsed": false,
     "input": [
      "#Variable declaration\n",
      "R_S=100.0;                    #Series resistance, \u03a9 \n",
      "\n",
      "#h-parameters\n",
      "hie=1.0;                  #Input impedance with output shorted, k\u03a9\n",
      "hoe=25.0;                 #Output impedance, \u03bcS\n",
      "hre=2.5*10**-4;         #Voltage feedback ratio with input terminal open\n",
      "hfe=50.0;                 #Current gain with output shorted\n",
      "\n",
      "\n",
      "#Calculation\n",
      "Zout=(1/(hoe*10**-6-(hfe*hre/(hie*1000+R_S))))/1000;                #Output impedance of transistor, k\u03a9\n",
      "print(\"Output impedance=%.1f k\u03a9.\"%Zout);\n"
     ],
     "language": "python",
     "metadata": {},
     "outputs": [
      {
       "output_type": "stream",
       "stream": "stdout",
       "text": [
        "Output impedance=73.3 k\u03a9.\n"
       ]
      }
     ],
     "prompt_number": 16
    },
    {
     "cell_type": "heading",
     "level": 2,
     "metadata": {},
     "source": [
      "Example 24.9 : Page number 656\n"
     ]
    },
    {
     "cell_type": "code",
     "collapsed": false,
     "input": [
      "from math import floor\n",
      "\n",
      "#Function for calculating parallel resistance\n",
      "def pr(r1,r2):\n",
      "    return r1*r2/(r1+r2);\n",
      "\n",
      "#Variable declaration\n",
      "RC=12.0;                  #Collector resistance, k\u03a9\n",
      "RL=15.0;                  #Load resistance, k\u03a9\n",
      "R1=50.0;                  #Resistor R1, k\u03a9\n",
      "R2=5.0;                   #Resistor R2, k\u03a9\n",
      "hie=1.94;               #Input impedance with output shorted, k\u03a9\n",
      "hfe=71.0;                 #Current gain with output shorted\n",
      "\n",
      "\n",
      "\n",
      "#Calculation\n",
      "rL=(RC*RL)/(RC+RL);             #a.c load as seen by resistance, \u03a9\n",
      "\n",
      "#(i)\n",
      "Zin_base=hie;                                           #Transistor input impedance, k\u03a9\n",
      "Zin_circuit=floor(pr(Zin_base,pr(R1,R2))*100)/100;      #Circuit input impedance, k\u03a9\n",
      "print(\"Circuit input impedance=%.2fk\u03a9\"%Zin_circuit);\n",
      "\n",
      "\n",
      "#(ii)\n",
      "Av=hfe*rL/hie;                   #Voltage gain\n",
      "print(\"Voltage gain=%.0f\"%Av);\n"
     ],
     "language": "python",
     "metadata": {},
     "outputs": [
      {
       "output_type": "stream",
       "stream": "stdout",
       "text": [
        "Circuit input impedance=1.35k\u03a9\n",
        "Voltage gain=244\n"
       ]
      }
     ],
     "prompt_number": 17
    },
    {
     "cell_type": "heading",
     "level": 2,
     "metadata": {},
     "source": [
      "Example 24.10 : Page number 656\n"
     ]
    },
    {
     "cell_type": "code",
     "collapsed": false,
     "input": [
      "from math import sqrt\n",
      "\n",
      "#Variable declaration\n",
      "hie_min=600;            #Minimum input impedance with output shorted, \u03a9\n",
      "hfe_min=110;            #Minimum current gain with output shorted\n",
      "hie_max=800;            #Maximum input impedance with output shorted, \u03a9\n",
      "hfe_max=140;            #Maximum current gain with output shorted\n",
      "rL=460;                 #a.c collector load, \u03a9\n",
      "\n",
      "#Calculation\n",
      "hie=round(sqrt(hie_min*hie_max));          #Input impedance with output shorted, \u03a9\n",
      "hfe=round(sqrt(hfe_min*hfe_max));          #Current gain with output shorted\n",
      "Av=hfe*rL/hie;                      #Voltage gain\n",
      "\n",
      "#Result\n",
      "print(\"Voltage gain=%.1f\"%Av);\n"
     ],
     "language": "python",
     "metadata": {},
     "outputs": [
      {
       "output_type": "stream",
       "stream": "stdout",
       "text": [
        "Voltage gain=82.3\n"
       ]
      }
     ],
     "prompt_number": 18
    },
    {
     "cell_type": "heading",
     "level": 2,
     "metadata": {},
     "source": [
      "Example 24.11 : Page number 658-659\n"
     ]
    },
    {
     "cell_type": "code",
     "collapsed": false,
     "input": [
      "#(a)Variable declaration\n",
      "Ib=10;              #Base current, \u03bcA\n",
      "Ic=1;               #Collector current, mA\n",
      "Vbe=10;             #Base-emitter voltage, mV\n",
      "\n",
      "#Calculation\n",
      "hie=Vbe*10**-3/(Ib*10**-6);           #Input impedance with output shorted, \u03a9\n",
      "hfe=Ic*10**-3/(Ib*10**-6);            #Current gain with output shorted\n",
      "\n",
      "#(b) Variable declaration\n",
      "Vbe=0.65;             #Base-emitter voltage, mV\n",
      "Ic=60;                #Collector current, \u03bcA\n",
      "Vce=1;                #Collector-emitter voltage, V\n",
      "\n",
      "#Calculation\n",
      "hre=Vbe*10**-3/Vce;           #Voltage feedback ratio with input terminal open\n",
      "hoe=Ic/Vce;                   #Output impedance, \u03bcmho\n",
      "\n",
      "\n",
      "#Result\n",
      "print(\"hie=%d\u03a9\"%hie);\n",
      "print(\"hfe=%d\"%hfe);\n",
      "print(\"hre=%.2fe\u201303\"%(hre*1000));\n",
      "print(\"hoe=%d\u03bcmho\"%hoe);\n"
     ],
     "language": "python",
     "metadata": {},
     "outputs": [
      {
       "output_type": "stream",
       "stream": "stdout",
       "text": [
        "hie=1000\u03a9\n",
        "hfe=100\n",
        "hre=0.65e\u201303\n",
        "hoe=60\u03bcmho\n"
       ]
      }
     ],
     "prompt_number": 20
    }
   ],
   "metadata": {}
  }
 ]
}