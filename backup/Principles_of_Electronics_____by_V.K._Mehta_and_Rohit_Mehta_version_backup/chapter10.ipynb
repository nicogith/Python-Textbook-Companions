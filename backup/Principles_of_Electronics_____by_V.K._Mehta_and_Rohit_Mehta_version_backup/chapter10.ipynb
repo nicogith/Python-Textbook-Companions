{
 "metadata": {
  "name": "",
  "signature": "sha256:4bf16723750572755d7939b2e42621cb1f52fcda512b32f42476447ce96a6e93"
 },
 "nbformat": 3,
 "nbformat_minor": 0,
 "worksheets": [
  {
   "cells": [
    {
     "cell_type": "heading",
     "level": 1,
     "metadata": {},
     "source": [
      "CHAPTER 10 : SINGLE STAGE TRANSISTOR AMPLIFIERS\n"
     ]
    },
    {
     "cell_type": "heading",
     "level": 2,
     "metadata": {},
     "source": [
      "Example 10.2 : page number 243-244\n"
     ]
    },
    {
     "cell_type": "code",
     "collapsed": false,
     "input": [
      "from math import pi\n",
      "#Variable declaration\n",
      "f_min=2.0;                            #Minimum frequency of operation of amplifier, kHz\n",
      "f_max=10.0;                           #Maximum frequency of operation of amplifier, kHz\n",
      "RE=560.0;                             #Emitter resistor, \u2126\n",
      "\n",
      "#Calculations\n",
      "#X_CE(Emitter capacitor's capacitive reactance)\n",
      "#X_CE=1/(2*pi*f_min*CE)=RE/10\n",
      "#From the above equation.\n",
      "CE=1/(2*pi*f_min*1000*(RE/10));              #Emitter capacitor, F,\n",
      "\n",
      "CE=CE*10**6;                                 #Emitter capacitor, \ud835\udf07F\n",
      "\n",
      "\n",
      "#Results\n",
      "print('The value of the emitter capacitor = %.2f \ud835\udf07F'%(CE));\n"
     ],
     "language": "python",
     "metadata": {},
     "outputs": [
      {
       "output_type": "stream",
       "stream": "stdout",
       "text": [
        "The value of the emitter capacitor = 1.42 \ud835\udf07F\n"
       ]
      }
     ],
     "prompt_number": 1
    },
    {
     "cell_type": "heading",
     "level": 2,
     "metadata": {},
     "source": [
      "Example 10.5: Page number 252-253\n"
     ]
    },
    {
     "cell_type": "code",
     "collapsed": false,
     "input": [
      "import matplotlib.pyplot as plt\n",
      "\n",
      "#Variable declaration\n",
      "VCC=15.0;                         #Collector supply voltage in V\n",
      "VBE=0.7;                          #Base-emitter voltage, V\n",
      "R1=10.0;                          #Resistor R1, k\u2126\n",
      "R2=5.0;                           #Resistor R2, k\u2126\n",
      "RC=1.0;                           #Collector resistor, k\u2126\n",
      "RE=2.0;                           #Emitter resistor, k\u2126\n",
      "RL=1.0;                           #Load resistor, k\u2126\n",
      "\n",
      "\n",
      "#Calculation\n",
      "#(i)\n",
      "#For d.c load line, from the equation: VCE=VCC-IC*(RC+RE),\n",
      "#VCE is maximum when IC=0 and IC is maximum when VCE=0.\n",
      "VCE_max=VCC;                                        #Maximum collector-emitter voltage, V\n",
      "IC_max=VCC/(RC+RE);                                 #Maximum collector current, mA\n",
      "\n",
      "\n",
      "#plot\n",
      "limit = plt.gca()\n",
      "limit.set_xlim([0,20])\n",
      "limit.set_ylim([0,6])\n",
      "VCE_plot=[i for i in range(0,(int)(VCC+1))];          #Plot variable for V_CE\n",
      "IC_plot=[((VCC-i)/(RC+RE)) for i in (VCE_plot[:])];      #Plot variable for I_C\n",
      "\n",
      "p=plot(VCE_plot,IC_plot);\n",
      "xlabel(\"VCE(V)\");\n",
      "ylabel(\"IC(mA)\");\n",
      "title(\"d.c load line\");\n",
      "show(p);\n",
      "\n",
      "\n",
      "#(ii)\n",
      "#For operating point:\n",
      "#Assuming VCC drops almost completely across R1 and R2,\n",
      "V2=VCC*R2/(R1+R2);                                  #Voltage across resistor R2, V\n",
      "IE=(V2-VBE)/RE;                                     #Emitter current, mA\n",
      "IC=IE;                                              #Collector current, mA\n",
      "VCE=VCC-IC*(RC+RE);                                 #Collector-emitter voltage , V\n",
      "\n",
      "print(\"The operating point: VCE=%.2fV and IC=%.2fmA.\"%(VCE,IC));\n",
      "\n",
      "\n",
      "#(iii)\n",
      "#For a.c load line\n",
      "RAC=(RC*RL)/(RC+RL);                                #a.c load, k\u2126\n",
      "VCE_ac_max=VCE+IC*RAC;                              #Maximum collector-emitter voltage, V\n",
      "IC_ac_max=IC+VCE/RAC;                               #Maximum collector current, mA\n",
      "print(\"Maximum v_CE=%.2fV and maximum i_C=%.2fmA\"%(VCE_ac_max,IC_ac_max));\n",
      "\n",
      "#plot\n",
      "limit = plt.gca()\n",
      "limit.set_xlim([0,10])\n",
      "limit.set_ylim([0,20])\n",
      "vCE_plot=[0,VCE_ac_max];          #Plot variable for V_CE\n",
      "iC_plot=[IC_ac_max,0];      #Plot variable for I_C\n",
      "\n",
      "p=plot(vCE_plot,iC_plot);\n",
      "xlabel(\"vCE(V)\");\n",
      "ylabel(\"iC(mA)\");\n",
      "title(\"a.c load line\");\n",
      "show(p);\n"
     ],
     "language": "python",
     "metadata": {},
     "outputs": [
      {
       "metadata": {},
       "output_type": "display_data",
       "png": "[encoded data removed]",
       "text": [
        "<matplotlib.figure.Figure at 0x7fc7c93536d0>"
       ]
      },
      {
       "output_type": "stream",
       "stream": "stdout",
       "text": [
        "The operating point: VCE=8.55V and IC=2.15mA.\n",
        "Maximum v_CE=9.62V and maximum i_C=19.25mA\n"
       ]
      },
      {
       "metadata": {},
       "output_type": "display_data",
       "png": "[encoded data removed]",
       "text": [
        "<matplotlib.figure.Figure at 0x7fc7c8684290>"
       ]
      }
     ],
     "prompt_number": 10
    },
    {
     "cell_type": "heading",
     "level": 2,
     "metadata": {},
     "source": [
      "Example 10.6: Page number 253-254\n"
     ]
    },
    {
     "cell_type": "code",
     "collapsed": false,
     "input": [
      "import matplotlib.pyplot as plt\n",
      "\n",
      "#Variable declaration\n",
      "RC=10;                          #Collector resistor, k\u2126\n",
      "RL=30;                          #Load resistor, k\u2126\n",
      "VCC=20;                         #Collector supply voltage, V\n",
      "IC=1;                           #Collector current, mA\n",
      "VCE=10;                         #Collector-emitter voltage, V\n",
      "\n",
      "\n",
      "#Calculations\n",
      "#For d.c load line:\n",
      "#From the equation: VCE=VCC-IC*(RC+RE),\n",
      "#When VCE=0, IC is  maximum.\n",
      "#Emitter resistor is neglected, assuming it as negligible\n",
      "IC_max=VCC/RC;                      #Maximum collector current, mA\n",
      "\n",
      "#And, when IC=0, VCE is maximum\n",
      "VCE_max=VCC;                        #Maximum collector-emitter voltage, V\n",
      "\n",
      "#plot\n",
      "limit = plt.gca()\n",
      "limit.set_xlim([0,20])\n",
      "limit.set_ylim([0,5])\n",
      "VCE_plot=[0,VCE_max];          #Plot variable for V_CE\n",
      "IC_plot=[IC_max,0];            #Plot variable for I_C\n",
      "\n",
      "p=plot(VCE_plot,IC_plot);\n",
      "xlabel(\"VCE(V)\");\n",
      "ylabel(\"IC(mA)\");\n",
      "title(\"d.c load line\");\n",
      "show(p);\n",
      "\n",
      "#For a.c load line:\n",
      "RAC=(RC*RL)/(RC+RL);                #a.c Load resistor, k\u2126\n",
      "\n",
      "VCE_ac_max=VCE+IC*RAC;                 #Maximum collector-emitter voltage, V\n",
      "IC_ac_max=IC+ VCE/RAC;                #Maximum collector current, mA\n",
      "\n",
      "#plot\n",
      "limit = plt.gca()\n",
      "limit.set_xlim([0,25])\n",
      "limit.set_ylim([0,5])\n",
      "vCE_plot=[0,VCE_ac_max];          #Plot variable for V_CE\n",
      "iC_plot=[IC_ac_max,0];      #Plot variable for I_C\n",
      "\n",
      "p=plot(vCE_plot,iC_plot);\n",
      "xlabel(\"vCE(V)\");\n",
      "ylabel(\"iC(mA)\");\n",
      "title(\"a.c load line\");\n",
      "show(p);\n"
     ],
     "language": "python",
     "metadata": {},
     "outputs": [
      {
       "metadata": {},
       "output_type": "display_data",
       "png": "[encoded data removed]",
       "text": [
        "<matplotlib.figure.Figure at 0x7fc7c8c8ec90>"
       ]
      },
      {
       "metadata": {},
       "output_type": "display_data",
       "png": "[encoded data removed]",
       "text": [
        "<matplotlib.figure.Figure at 0x7fc7c8a07890>"
       ]
      }
     ],
     "prompt_number": 14
    },
    {
     "cell_type": "heading",
     "level": 2,
     "metadata": {},
     "source": [
      "Example 10.7 : Page number 254-255"
     ]
    },
    {
     "cell_type": "code",
     "collapsed": false,
     "input": [
      "import matplotlib.pyplot as plt\n",
      "\n",
      "#Variabe declaration\n",
      "VCE_Q=8.0;           #Q-point collector emitter voltage, V\n",
      "IC_Q=1;               #Q-point collector current, mA\n",
      "ic_positive_peak=1.5;        #Collector current at positive peak of signal, mA\n",
      "ic_negative_peak=0.5;         #Collector current at negative peak of signal, mA\n",
      "vce_positive_peak=7;          #Collector emitter voltage at positive peak of signal, V\n",
      "vce_negative_peak=9;          #Collector emitter voltage at negative peak of signal, V\n",
      "\n",
      "#Plot\n",
      "vce_plot=[vce_positive_peak,vce_negative_peak];    #Plot variable of vce\n",
      "ic_plot=[ic_positive_peak,ic_negative_peak];    #Plot variable of ic\n",
      "limit = plt.gca()\n",
      "limit.set_xlim([0,10])\n",
      "limit.set_ylim([0,2])\n",
      "p=plot(vce_plot,ic_plot);\n",
      "xlabel(\"vCE(V)\");\n",
      "ylabel(\"iC(mA)\");\n",
      "title(\"a.c load line\");\n",
      "plt.grid();\n",
      "show(p);\n"
     ],
     "language": "python",
     "metadata": {},
     "outputs": [
      {
       "metadata": {},
       "output_type": "display_data",
       "png": "[encoded data removed]",
       "text": [
        "<matplotlib.figure.Figure at 0x7fc7c877c550>"
       ]
      }
     ],
     "prompt_number": 18
    },
    {
     "cell_type": "heading",
     "level": 2,
     "metadata": {},
     "source": [
      "Example 10.8 : Page number 256\n"
     ]
    },
    {
     "cell_type": "code",
     "collapsed": false,
     "input": [
      "#Variable declaration\n",
      "VCC=10.0;                 #Collector supply voltage, V\n",
      "RC=2.0;                   #Collector resistor, k\u2126\n",
      "Rin=1.0;                  #Input resistance, k\u2126\n",
      "beta=60.0;                #Base current amplification factor\n",
      "RL=0.5;                   #Load resistor, k\u2126\n",
      "\n",
      "\n",
      "#Calculation\n",
      "RAC=(RC*RL)/(RC+RL);                #a.c load resistor, k\u2126\n",
      "Av=beta*(RAC/Rin);                  #Voltage gain\n",
      "\n",
      "#Results\n",
      "print(\"Voltage gain= %d.\"%Av);\n"
     ],
     "language": "python",
     "metadata": {},
     "outputs": [
      {
       "output_type": "stream",
       "stream": "stdout",
       "text": [
        "Voltage gain= 24.\n"
       ]
      }
     ],
     "prompt_number": 19
    },
    {
     "cell_type": "heading",
     "level": 2,
     "metadata": {},
     "source": [
      "Example 10.9 : Page number 256\n"
     ]
    },
    {
     "cell_type": "code",
     "collapsed": false,
     "input": [
      "\n",
      "#Variable declaration\n",
      "V_in=1.0;                      #Input voltage , mV\n",
      "RC=10.0;                      #Collector resistor, k\u2126\n",
      "Rin=2.5;                      #Input resistance, k\u2126\n",
      "beta=100.0;                   #Base current amplification factor\n",
      "RL=10.0;                      #Load resistor, k\u2126\n",
      "\n",
      "#Calculations\n",
      "RAC=(RC*RL)/(RC+RL);                #Effective load, k\u2126\n",
      "Av=beta*(RAC/Rin);                  #Voltage gain\n",
      "\n",
      "V_out=V_in*Av;                      #Output voltage, V\n",
      "\n",
      "#Results\n",
      "print(\"Output voltage= %dmV.\"%V_out);\n"
     ],
     "language": "python",
     "metadata": {},
     "outputs": [
      {
       "output_type": "stream",
       "stream": "stdout",
       "text": [
        "Output voltage= 200mV.\n"
       ]
      }
     ],
     "prompt_number": 20
    },
    {
     "cell_type": "heading",
     "level": 2,
     "metadata": {},
     "source": [
      "Example 10.10 : Page number 256-257\n"
     ]
    },
    {
     "cell_type": "code",
     "collapsed": false,
     "input": [
      "#Variable declaration\n",
      "change_in_IB=10.0;                    #Change in base current, \ud835\udf07A\n",
      "change_in_IC=1.0;                     #Change in collector current, mA\n",
      "change_in_VBE=0.02;                   #Change in Base-emitter voltage, V\n",
      "RC=5.0;                               #Collector resistor, k\u2126\n",
      "RL=10.0;                              #Emitter resistor, k\u2126\n",
      "\n",
      "#Calculations\n",
      "#(i)\n",
      "beta=(change_in_IC*1000)/change_in_IB;         #Base current amplification factor\n",
      "\n",
      "#(ii)\n",
      "Rin=(change_in_VBE/change_in_IB)*1000;         #Input impedance, k\u2126\n",
      "\n",
      "#(iii)\n",
      "RAC=round((RC*RL)/(RC+RL),1);                            #a.c load, k\u2126\n",
      "\n",
      "#(iv)\n",
      "Av=beta*RAC/Rin;                                #Voltage gain\n",
      "\n",
      "#(v)\n",
      "Ap=beta*Av;                                     #Power gain\n",
      "\n",
      "\n",
      "#Results\n",
      "print(\"Beta= %d.\"%beta);\n",
      "print(\"Input impedance=%d k\u2126.\"%Rin);\n",
      "print(\"a.c load=%.1f k\u2126.\"%RAC);\n",
      "print(\"Voltage gain= %d.\"%Av);\n",
      "print(\"Power gain=%d.\"%Ap);\n"
     ],
     "language": "python",
     "metadata": {},
     "outputs": [
      {
       "output_type": "stream",
       "stream": "stdout",
       "text": [
        "Beta= 100.\n",
        "Input impedance=2 k\u2126.\n",
        "a.c load=3.3 k\u2126.\n",
        "Voltage gain= 165.\n",
        "Power gain=16500.\n"
       ]
      }
     ],
     "prompt_number": 21
    },
    {
     "cell_type": "heading",
     "level": 2,
     "metadata": {},
     "source": [
      "Example 10.11 : Page number 257\n"
     ]
    },
    {
     "cell_type": "code",
     "collapsed": false,
     "input": [
      "#Variable declaration\n",
      "beta=50.0;                      #Base current amplification factor\n",
      "RC=3.0;                         #Collector resistor,k\u2126\n",
      "RL=6.0;                         #Load resistor, k\u2126\n",
      "Rin=0.5;                        #Input impedance, k\u2126\n",
      "Vin=1;                          #Input voltage,  mV\n",
      "\n",
      "#Calculation\n",
      "RAC=(RC*RL)/(RC+RL);            #a.c load, k\u2126\n",
      "Av=beta*RAC/Rin;                #Voltage gain\n",
      "Vout=Vin*Av;                    #Output voltage, V\n",
      "\n",
      "#Results\n",
      "print(\"Output voltage=%dmV\"%Vout);\n"
     ],
     "language": "python",
     "metadata": {},
     "outputs": [
      {
       "output_type": "stream",
       "stream": "stdout",
       "text": [
        "Output voltage=200mV\n"
       ]
      }
     ],
     "prompt_number": 22
    },
    {
     "cell_type": "heading",
     "level": 2,
     "metadata": {},
     "source": [
      "Example 10.12 : Page number 257-258\n"
     ]
    },
    {
     "cell_type": "code",
     "collapsed": false,
     "input": [
      "#Variable declaration\n",
      "VT=6.0;                   #Collector potential, V\n",
      "R1=1.0;                   #Resistor R1, k\u2126\n",
      "R2=2.0;                   #Resistor R2, k\u2126\n",
      "VB_found=4.0;             #Measured base voltage, V\n",
      "\n",
      "#Calculations\n",
      "VB=(VT*R1)/(R1+R2);                     #Theoretical base voltage, V\n",
      "\n",
      "if(VB_found==VB):\n",
      "    print(\"The circuit is operating properly.\");\n",
      "else:\n",
      "    print(\"The circuit is not operating properly.\");\n"
     ],
     "language": "python",
     "metadata": {},
     "outputs": [
      {
       "output_type": "stream",
       "stream": "stdout",
       "text": [
        "The circuit is not operating properly.\n"
       ]
      }
     ],
     "prompt_number": 23
    },
    {
     "cell_type": "heading",
     "level": 2,
     "metadata": {},
     "source": [
      "Example 10.13 : Page number 258-259\n"
     ]
    },
    {
     "cell_type": "code",
     "collapsed": false,
     "input": [
      "#Variable declaration\n",
      "VCC=10.0;                   #Collector supply voltage, V\n",
      "R1=40.0;                    #Resistor R1, k\u2126\n",
      "R2=10.0;                    #Resistor R2, k\u2126\n",
      "RC=6.0;                     #Collector resistor, k\u2126\n",
      "RE=2.0;                     #Emitter resistor, k\u2126\n",
      "beta=80;                    #Base current amplification factor\n",
      "VBE=0.7;                    #Base emitter voltage, V\n",
      "\n",
      "#Calculations\n",
      "V2=(VCC*R2)/(R1+R2);            #Voltage across resistor R2, V\n",
      "VE=V2-VBE;                      #Emitter voltage, V\n",
      "IE=VE/RE;                       #Emitter current,  mA\n",
      "re=25/IE;                       #a.c emitter resistance, \u2126\n",
      "\n",
      "\n",
      "#Results\n",
      "print(\"a.c emitter resistance= %.2f \u2126.\"%re);\n"
     ],
     "language": "python",
     "metadata": {},
     "outputs": [
      {
       "output_type": "stream",
       "stream": "stdout",
       "text": [
        "a.c emitter resistance= 38.46 \u2126.\n"
       ]
      }
     ],
     "prompt_number": 24
    },
    {
     "cell_type": "heading",
     "level": 2,
     "metadata": {},
     "source": [
      "Example 10.14  : Page number 262-263\n"
     ]
    },
    {
     "cell_type": "code",
     "collapsed": false,
     "input": [
      "\n",
      "#Variable declaration\n",
      "VCC=20.0;                     #Collector supply voltage, V\n",
      "VBE=0.7;                      #Base-emitter voltage, V\n",
      "R1=150.0;                     #Resistor R1, k\u2126\n",
      "R2=20.0                       #Resistor R2, k\u2126\n",
      "RC=12.0;                      #Collector resistor, k\u2126\n",
      "RE=2.2;                       #Emitter resistor, k\u2126\n",
      "\n",
      "\n",
      "#Calculations\n",
      "V2=round(VCC*R2/(R1+R2),2);                  #Voltage across R2, V\n",
      "VE=round(V2-VBE,2);                          #Voltage across emitter resistor, V\n",
      "IE=round(VE/RE,2);                           #Emitter current, mA\n",
      "re=round(25/IE,1);                           #a.c emitter resistance, \u2126\n",
      "\n",
      "\n",
      "#(i)\n",
      "#CE(emitter capacitor) connected in the circuit:\n",
      "Av=(RC*1000)/re;                                   #Voltage gain for emitter capacitor connected.\n",
      "\n",
      "print(\"(i)Voltage gain= %d.\"%Av);\n",
      "\n",
      "#(ii)\n",
      "#CE(emitter capacitor) removed from the circuit:\n",
      "Av=(RC*1000)/(re+RE*1000);                          #Voltage gain for emitter capacitor removed.\n",
      "\n",
      "print(\"(ii)Voltage gain= %.2f.\"%Av);\n",
      "\n",
      "#Note: The answer in the text book has been approximated to 5.38 but it's actually coming 5.37.\n"
     ],
     "language": "python",
     "metadata": {},
     "outputs": [
      {
       "output_type": "stream",
       "stream": "stdout",
       "text": [
        "(i)Voltage gain= 360.\n",
        "(ii)Voltage gain= 5.37.\n"
       ]
      }
     ],
     "prompt_number": 28
    },
    {
     "cell_type": "heading",
     "level": 2,
     "metadata": {},
     "source": [
      "Example 10.15 : Page number 263\n"
     ]
    },
    {
     "cell_type": "code",
     "collapsed": false,
     "input": [
      "#Variable declaration\n",
      "RC=6.0;                       #Collector resistor, k\u2126\n",
      "RL=12.0;                      #Load resistor, k\u2126\n",
      "re=33.3;                      #a.c emitter resistance, \u2126\n",
      "\n",
      "\n",
      "#Calculations\n",
      "RAC=RC*RL/(RC+RL);              #a.c effective load, k\u2126\n",
      "Av=RAC*1000/re;                 #Voltage gain\n",
      "\n",
      "#Result\n",
      "print(\"Voltage gain= %d.\"%Av);\n"
     ],
     "language": "python",
     "metadata": {},
     "outputs": [
      {
       "output_type": "stream",
       "stream": "stdout",
       "text": [
        "Voltage gain= 120.\n"
       ]
      }
     ],
     "prompt_number": 29
    },
    {
     "cell_type": "heading",
     "level": 2,
     "metadata": {},
     "source": [
      "Example 10.16 : Page number 263-264\n"
     ]
    },
    {
     "cell_type": "code",
     "collapsed": false,
     "input": [
      "#Variable declaration\n",
      "VCC=9.0;                      #Collector supply voltage, V\n",
      "VBE=0.7;                      #Base-emitter voltage, V\n",
      "R1=240.0;                     #Resistor R1, k\u2126\n",
      "R2=30.0                       #Resistor R2, k\u2126\n",
      "RC=20.0;                      #Collector resistor, k\u2126\n",
      "RE=3.0;                       #Emitter resistor, k\u2126\n",
      "\n",
      "\n",
      "#Calculations\n",
      "#(i)\n",
      "V2=round(VCC*R2/(R1+R2),1);                  #Voltage across R2, V\n",
      "VE=round(V2-VBE,1);                          #Voltage across emitter resistor, V\n",
      "IE=round(VE/RE,1);                           #Emitter current, mA\n",
      "re=25/IE;                                    #a.c emitter resistance, \u2126\n",
      "\n",
      "#(ii)\n",
      "Av=RC*1000/re;                                   #Voltage gain\n",
      "\n",
      "#(iii)\n",
      "V_C_in=V2;                                  #d.c voltage across input capacitor, V\n",
      "V_C_E=VE;                                   #d.c vooltage across emitter capacitor, V\n",
      "\n",
      "\n",
      "\n",
      "#Results\n",
      "print(\"(i) a.c emitter resistance=%d \u2126.\"%re);\n",
      "print(\"(ii) Voltage gain =%d.\"%Av);\n",
      "print(\"(iii) d.c voltage across input capacitor= %dV and emitter capacitor=%.1fV.\"%(V_C_in,V_C_E));\n"
     ],
     "language": "python",
     "metadata": {},
     "outputs": [
      {
       "output_type": "stream",
       "stream": "stdout",
       "text": [
        "(i) a.c emitter resistance=250 \u2126.\n",
        "(ii) Voltage gain =80.\n",
        "(iii) d.c voltage across input capacitor= 1V and emitter capacitor=0.3V.\n"
       ]
      }
     ],
     "prompt_number": 30
    },
    {
     "cell_type": "heading",
     "level": 2,
     "metadata": {},
     "source": [
      "Example 10.17 : Page number 264-265"
     ]
    },
    {
     "cell_type": "code",
     "collapsed": false,
     "input": [
      "#Variable declaration\n",
      "VCC=15.0;                      #Collector supply voltage, V\n",
      "VBE=0.7;                      #Base-emitter voltage, V\n",
      "R1=40.0;                     #Resistor R1, k\u2126\n",
      "R2=10.0                       #Resistor R2, k\u2126\n",
      "RC=2.0;                      #Collector resistor, k\u2126\n",
      "RE=1.0;                       #Emitter resistor, k\u2126\n",
      "RL=1.0;                       #Load resistor, k\u2126\n",
      "beta=100;                     #Base current amplification factor\n",
      "\n",
      "#Calculation\n",
      "#(i) D.C bias levels\n",
      "V2=VCC*R2/(R1+R2);                  #Voltage across R2, V\n",
      "VE=round(V2-VBE,1);                 #Voltage across emitter resistor, V\n",
      "IE=round(VE/RE,1);                  #Emitter current, mA\n",
      "IC=IE;                              #Collector current, mA\n",
      "IB=IC/beta;                         #Base  current, mA\n",
      "VC=VCC-IC*RC;                       #Collector voltage, V\n",
      "print(\"(i) D.C bias levels: V2=%dV, VE=%.1fV, IE=%.1fmA, IC=%.1fmA, IB=%.3fmA and VC=%.1fV.\"%(V2,VE,IE,IC,IB,VC));\n",
      "\n",
      "\n",
      "#(ii)\n",
      "Cin_V=V2;                            #Voltage across Cin capacitor, V\n",
      "CE_V=VE;                             #Voltage across CE capacitor, V \n",
      "CC_V=VC;                             #Voltage across CC capacitor, V\n",
      "print(\"(ii) D.c voltage across: Cin=%dV and CE=%.1fV and CC=%.1fV.\"%(Cin_V,CE_V,CC_V));\n",
      "\n",
      "#(iii)\n",
      "re=round(25/IE,1);                           #a.c emitter resistance, \u2126\n",
      "print(\"(iii) a.c emitter resistance=%.1f\u2126.\"%re);\n",
      "\n",
      "\n",
      "#(iv)\n",
      "RAC=round(RC*RL/(RC+RL),3);                #Total a.c collector resistance, k\u2126\n",
      "Av=RAC/(re/1000);                        #Voltage gain\n",
      "print(\"(iv) Voltage gain=%.1f.\"%Av);\n",
      "\n",
      "#(v)\n",
      "print(\"(v) VC>VE. Therefore, the transistor is in active state.\" );\n",
      "\n"
     ],
     "language": "python",
     "metadata": {},
     "outputs": [
      {
       "output_type": "stream",
       "stream": "stdout",
       "text": [
        "(i) D.C bias levels: V2=3V, VE=2.3V, IE=2.3mA, IC=2.3mA, IB=0.023mA and VC=10.4V.\n",
        "(ii) D.c voltage across: Cin=3V and CE=2.3V and CC=10.4V.\n",
        "(iii) a.c emitter resistance=10.9\u2126.\n",
        "(iv) Voltage gain=61.2.\n",
        "(v) VC>VE. Therefore, the transistor is in active state.\n"
       ]
      }
     ],
     "prompt_number": 6
    },
    {
     "cell_type": "heading",
     "level": 2,
     "metadata": {},
     "source": [
      "Example 10.18 : page number 265\n"
     ]
    },
    {
     "cell_type": "code",
     "collapsed": false,
     "input": [
      "#Variable declaration\n",
      "Av=132.0;                   #Voltage gain\n",
      "beta=200.0;                 #Base current amplification factor\n",
      "P_in=60.0;                     #Input power, \ud835\udf07W\n",
      "\n",
      "\n",
      "#Calculations\n",
      "Ap=beta*Av;                          #Power gain\n",
      "P_out=Ap*(P_in/10**6);                #Output power, W\n",
      "\n",
      "\n",
      "#Results\n",
      "print(\"The power gain = %d and output power = %.3fW.\"%(Ap,P_out));\n"
     ],
     "language": "python",
     "metadata": {},
     "outputs": [
      {
       "output_type": "stream",
       "stream": "stdout",
       "text": [
        "The power gain = 26400 and output power = 1.584W.\n"
       ]
      }
     ],
     "prompt_number": 32
    },
    {
     "cell_type": "heading",
     "level": 2,
     "metadata": {},
     "source": [
      "Example 10.19 : page number 265-266\n"
     ]
    },
    {
     "cell_type": "code",
     "collapsed": false,
     "input": [
      "#Variable declaration\n",
      "IB=200.0;                       #Base current, microampere\n",
      "IE=10.0;                        #Emitter current, mA\n",
      "R1=27.0;                      #Resistor R1, kilo ohm\n",
      "R2=13.0                       #Resistor R2, kilo ohm\n",
      "RC=4.7;                       #Collector resistor, kilo ohm\n",
      "RE=2.2;                       #Emitter resistor, kilo ohm\n",
      "\n",
      "\n",
      "#Calculations\n",
      "#(i)\n",
      "IC=IE-(IB/1000);                              #Collector current, mA\n",
      "beta=IC/(IB/1000);                            #Current gain\n",
      "\n",
      "print(\"(i) Current gain=%d\"%beta);\n",
      "\n",
      "#(ii)\n",
      "#a.c emitter resistance is neglected, voltage gain=(collector resistor)/(emitter resistor)\n",
      "Av=RC/RE;                           #Voltage gain\n",
      "\n",
      "print(\"(ii) Voltage gain=%.2f\"%Av);\n",
      "\n",
      "#(iii)\n",
      "Ap=round(beta*Av,0);                         #Power gain\n",
      "\n",
      "#Results\n",
      "print(\"(iii) Power gain=%d.\"%Ap);\n"
     ],
     "language": "python",
     "metadata": {},
     "outputs": [
      {
       "output_type": "stream",
       "stream": "stdout",
       "text": [
        "(i) Current gain=49\n",
        "(ii) Voltage gain=2.14\n",
        "(iii) Power gain=105.\n"
       ]
      }
     ],
     "prompt_number": 8
    },
    {
     "cell_type": "heading",
     "level": 2,
     "metadata": {},
     "source": [
      "Example 10.20 : Page number 266-267\n"
     ]
    },
    {
     "cell_type": "code",
     "collapsed": false,
     "input": [
      "#Variable declaration\n",
      "VCC=30.0;                     #Collector supply voltage, V\n",
      "VBE=0.7;                      #Base emitter voltage, V\n",
      "R1=45.0;                      #Resistor R1, k\u2126\n",
      "R2=15.0                       #Resistor R2, k\u2126\n",
      "RC=10.0;                      #Collector resistor,k\u2126\n",
      "RE=7.5;                       #Emitter resistor, k\u2126\n",
      "beta=200.0;                   #Base current amplification factor\n",
      "\n",
      "#Calculations\n",
      "V2=round(VCC*R2/(R1+R2),1);                  #Voltage across R2, V (Voltage divider rule)\n",
      "VE=V2;                                       #Voltage across emitter resistor(base-emitter voltage is neglected), V\n",
      "IE=VE/RE;                                    #Emitter current, mA (OHM's LAW)\n",
      "re=25/IE;                                    #a.c emitter resistance, ohm\n",
      "Zin_base=(beta*re)/1000;                     #input impedance of transistor base,k\u2126\n",
      "R1_R2=(R1*R2)/(R1+R2);                       #Parallel resistance between R1 and R2, k\u2126\n",
      "Zin=((R1_R2)*Zin_base)/(R1_R2+Zin_base);     #Input impedance of the amplifier circuit, k\u2126\n",
      "\n",
      "\n",
      "#Result\n",
      "print(\"The input impedance of the amplifier circuit= %.2f k\u2126.\"%Zin);       \n",
      "\n",
      "#Note: The input impedance of the amplifier circuit is approximated as 3.45 k\u2126 in the text book, but actually it's 3.46 k\u2126.\n"
     ],
     "language": "python",
     "metadata": {},
     "outputs": [
      {
       "output_type": "stream",
       "stream": "stdout",
       "text": [
        "The input impedance of the amplifier circuit= 3.46 k\u2126.\n"
       ]
      }
     ],
     "prompt_number": 10
    },
    {
     "cell_type": "heading",
     "level": 2,
     "metadata": {},
     "source": [
      "Example 10.21 : Page Number 268-269\n"
     ]
    },
    {
     "cell_type": "code",
     "collapsed": false,
     "input": [
      "#Variable declaration\n",
      "VCC=10.0;                           #Collector supply voltage, V.\n",
      "RC=1.5;                             #Collector resistor, k\u2126.\n",
      "R1=18.0;                            #Resistor R1, k\u2126.\n",
      "R2=4.7;                             #Resistor R2, k\u2126.\n",
      "RE1=300.0;                          #Emitter resistor 1, \u2126.\n",
      "RE2=900.0;                          #Emitter resistor 2, \u2126.\n",
      "VBE=0.7;                            #Base-emitter voltage, V.\n",
      "beta=150.0;                         #Base current amplification factor.\n",
      "\n",
      "\n",
      "#Calculations\n",
      "V2=round(VCC*R2/(R1+R2),1);                      #d.c voltage across R2, V. (Voltage divider rule)\n",
      "VE=round(V2-VBE,1);                              #d.c voltage across RE, V.\n",
      "IE=round((VE/(RE1+RE2))*1000,2);                 #d.c emitter current, mA.(OHM'S LAW)\n",
      "re=round(25/IE,1);                               #a.c emitter resistance, \u2126.\n",
      "Av=RC*1000/(re+RE1);                             #Voltage gain\n",
      "Zin_base=(beta*(re+RE1))/1000;                   #Input impedance of transistor base, k\u2126.\n",
      "\n",
      "\n",
      "#Results\n",
      "print(\"The voltage gain of the swamped amplifier= %.2f.\"%Av);\n",
      "print(\"Input impedance of transistor base of the swamped amplifier= %.2f k\u2126.\"%Zin_base);\n",
      "\n",
      "#Note:In the textbook Av is approximated to 4.66and Zin_base to 48.22 kilo ohm, but the actual answers come as 4.67 and 48.21 kilo ohm.\n"
     ],
     "language": "python",
     "metadata": {},
     "outputs": [
      {
       "output_type": "stream",
       "stream": "stdout",
       "text": [
        "The voltage gain of the swamped amplifier= 4.67.\n",
        "Input impedance of transistor base of the swamped amplifier= 48.21 k\u2126.\n"
       ]
      }
     ],
     "prompt_number": 11
    },
    {
     "cell_type": "heading",
     "level": 2,
     "metadata": {},
     "source": [
      "Example 10.22 : Page number 269\n"
     ]
    },
    {
     "cell_type": "code",
     "collapsed": false,
     "input": [
      "#Variable declaration\n",
      "RC=1.5;                             #Collector resistor, k\u2126.\n",
      "RE1=300.0;                          #Emitter resistor 1, \u2126.\n",
      "re=21.5;                            #a.c emitter resistance, \u2126.\n",
      "\n",
      "#Calculations\n",
      "Av=round(RC*1000/(re+RE1),2);                     #Voltage gain.\n",
      "Av_1=round(RC*1000/(2*re+RE1),2);                 #Voltage gain when re doubles.\n",
      "change_in_gain=round(Av-Av_1,2);                      #Change in voltage gain.\n",
      "change_percentage=change_in_gain*100/Av;               #Change percentage\n",
      "\n",
      "\n",
      "#Results\n",
      "if(change_in_gain>0):\n",
      "    print(\"The percentage change from the original value= %.2f%%(decrease)\"%change_percentage);\n",
      "else:\n",
      "    print(\"The percentage change from the original value= %.2f%%(increase)\"%change_percentage);\n",
      "\n",
      "\n",
      "#Note: The percentage has been approximated in the text book as 6.22%, but the answer comes as 6.42%.\n"
     ],
     "language": "python",
     "metadata": {},
     "outputs": [
      {
       "output_type": "stream",
       "stream": "stdout",
       "text": [
        "The percentage change from the original value= 6.42%(decrease)\n"
       ]
      }
     ],
     "prompt_number": 13
    },
    {
     "cell_type": "heading",
     "level": 2,
     "metadata": {},
     "source": [
      "Example 10.23 : Page number 269-270\n"
     ]
    },
    {
     "cell_type": "code",
     "collapsed": false,
     "input": [
      "#Variable declaration\n",
      "VCC=10.0;                     #Collector supply voltage, V\n",
      "VBE=0.7;                      #Base emitter voltage, V\n",
      "R1=10.0;                      #Resistor R1, kilo ohm\n",
      "R2=2.2;                       #Resistor R2, kilo ohm\n",
      "RC=4.0;                       #Collector resistor, kilo ohm\n",
      "RE=1.1;                       #Emitter resistor, kilo ohm\n",
      "beta=200.0;                   #Base current amplification factor\n",
      "RE1=210.0;                    #Emitter resistor 1 of swamped amplifier, ohm.\n",
      "RE2=900.0;                    #Emitter resistor 2 of swamped amplifier, ohm.\n",
      "\n",
      "\n",
      "#Calculations\n",
      "V2=round(VCC*R2/(R1+R2),1);                      #d.c voltage across R2, V. (Voltage divider rule)\n",
      "VE=round(V2-VBE,1);                              #d.c voltage across RE, V.\n",
      "IE=(VE/RE);                                      #d.c emitter current, mA.(OHM'S LAW)\n",
      "re=25/IE;                                        #a.c emitter resistance, ohm.\n",
      "\n",
      "\n",
      "#(i) Zin_base:\n",
      "Zin_base_standard=(beta*re)/1000;                      #input impedance of transistor base for standard amplifier , kilo ohm.\n",
      "Zin_base_swamped=(beta*(re+RE1))/1000;                 #input impedance of transistor base for swamped amplifier, kilo ohm.\n",
      "\n",
      "\n",
      "#(ii) Zin:\n",
      "#input impedance for standard amplifier circuit\n",
      "Zin_standard=(((R1*R2)/(R1+R2))*Zin_base_standard)/(Zin_base_standard +((R1*R2)/(R1+R2)));    #kilo ohm\n",
      "\n",
      "#input impedance for standard amplifier circuit\n",
      "Zin_swamped=(((R1*R2)/(R1+R2))*Zin_base_swamped)/(Zin_base_swamped +((R1*R2)/(R1+R2)));       #kilo ohm\n",
      "\n",
      "\n",
      "#Results\n",
      "print(\"(i) input impedance of transistor base for standard amplifier= %d kilo ohm\"%Zin_base_standard);\n",
      "print(\"    input impedance of transistor base for swamped amplifier= %d kilo ohm\"%Zin_base_swamped);\n",
      "print(\"(ii) input impedance for standard amplifier= %.2f kilo ohm\"%Zin_standard);\n",
      "print(\"     input impedance for swamped amplifier= %.2f kilo ohm\"%Zin_swamped);\n",
      "\n",
      "\n",
      "\n",
      "\n"
     ],
     "language": "python",
     "metadata": {},
     "outputs": [
      {
       "output_type": "stream",
       "stream": "stdout",
       "text": [
        "(i) input impedance of transistor base for standard amplifier= 5 kilo ohm\n",
        "    input impedance of transistor base for swamped amplifier= 47 kilo ohm\n",
        "(ii) input impedance for standard amplifier= 1.33 kilo ohm\n",
        "     input impedance for swamped amplifier= 1.74 kilo ohm\n"
       ]
      }
     ],
     "prompt_number": 14
    },
    {
     "cell_type": "heading",
     "level": 2,
     "metadata": {},
     "source": [
      "Example 10.24 : Page number 270-271\n"
     ]
    },
    {
     "cell_type": "code",
     "collapsed": false,
     "input": [
      "#Variable declaration\n",
      "RC=4.0;                     #Collector resistor, kilo ohm\n",
      "re=25.0;                    #a.c emitter resistance, ohm (calculated in example 10.23)\n",
      "RE_1=210.0;                  #Emitter resistor 1 of swamped amplifier,ohm\n",
      "\n",
      "#Calculation\n",
      "Av_standard=(RC*1000)/re;                       #Voltage gain of standard common emitter amplifier\n",
      "Av_swamped=(RC*1000)/(re+RE_1);                 #Voltage gain of swamped amplifier\n",
      "\n",
      "#Results\n",
      "print(\"The voltage gain of standard amplifier=%d.\"%Av_standard);\n",
      "print(\"The voltage gain of swamped amplifier=%d.\"%Av_swamped);\n"
     ],
     "language": "python",
     "metadata": {},
     "outputs": [
      {
       "output_type": "stream",
       "stream": "stdout",
       "text": [
        "The voltage gain of standard amplifier=160.\n",
        "The voltage gain of swamped amplifier=17.\n"
       ]
      }
     ],
     "prompt_number": 15
    },
    {
     "cell_type": "heading",
     "level": 2,
     "metadata": {},
     "source": [
      "Example 10.26 : Page number 273-274\n"
     ]
    },
    {
     "cell_type": "code",
     "collapsed": false,
     "input": [
      "#Variable declaration\n",
      "A_0=1000.0;                  #Open circuit voltage gain\n",
      "R_in=2.0;                    #Input resistance, kilo ohm\n",
      "R_out=1.0;                   #Output resistance, ohm\n",
      "RL=4;                        #Load resistor across the output, ohm\n",
      "I_2=0.5;                     #Output signal current, A.\n",
      "\n",
      "\n",
      "#Calculations\n",
      "#Since A_0*(I_1*R_in) = I_2*(R_out+RL)\n",
      "I_1=I_2*(R_out+RL)/(A_0*(R_in*1000));           #Input current, A\n",
      "V_1=I_1*(R_in*1000);                            #Input signal voltage, V\n",
      "V_1=V_1*1000;                                   #Input signal voltage, mV\n",
      "\n",
      "print(\"The required input signal voltage =%.1fmV\"%V_1);\n"
     ],
     "language": "python",
     "metadata": {},
     "outputs": [
      {
       "output_type": "stream",
       "stream": "stdout",
       "text": [
        "The required input signal voltage =2.5mV\n"
       ]
      }
     ],
     "prompt_number": 16
    },
    {
     "cell_type": "heading",
     "level": 2,
     "metadata": {},
     "source": [
      "Example 10.27 : Page number 274\n"
     ]
    },
    {
     "cell_type": "code",
     "collapsed": false,
     "input": [
      "#Variable declaration\n",
      "A_0=1000.0;                     #Open circuit voltage gain\n",
      "R_in=7.0;                       #Input resistance, kilo ohm\n",
      "R_out=15.0;                     #Output resistance, ohm\n",
      "RL=35.0;                        #Load resistor across the output, ohm\n",
      "R_s=3.0;                        #Internal resistance, kilo ohm\n",
      "E_s=10.0;                       #Input signal voltage, mV.\n",
      "\n",
      "#Calculations\n",
      "#(i)\n",
      "I_1=E_s*(10**-3)/(R_s*1000+R_in*1000);                  #Input current, A\n",
      "V_1=I_1*(R_in*1000);                                    #Voltage across input resistance, V\n",
      "\n",
      "#Since, A_v=V_2/V_1 = A_0*RL/(R_out+RL)\n",
      "A_v=A_0*RL/(R_out+RL);                                 #Voltage gain\n",
      "V_2=A_v*V_1;                                            #Outout voltage, V\n",
      "\n",
      "\n",
      "#(ii)\n",
      "P_2=V_2**2/RL;                              #Output power, W\n",
      "P_1=V_1**2/(R_in*1000);                            #Input power, W\n",
      "A_p=round(P_2/P_1,-6);                                #Power gain\n",
      "\n",
      "\n",
      "#Result\n",
      "print(\"The magnitude of output voltage = %.1fV\"%V_2);\n",
      "print(\"The power gain =%de-06.\"%(A_p/10**6));\n",
      "\n"
     ],
     "language": "python",
     "metadata": {},
     "outputs": [
      {
       "output_type": "stream",
       "stream": "stdout",
       "text": [
        "The magnitude of output voltage = 4.9V\n",
        "The power gain =98e-06.\n"
       ]
      }
     ],
     "prompt_number": 19
    },
    {
     "cell_type": "heading",
     "level": 2,
     "metadata": {},
     "source": [
      "Example 10.28 : Page number 274-275\n"
     ]
    },
    {
     "cell_type": "code",
     "collapsed": false,
     "input": [
      "#Variable declaration\n",
      "A_v=80.0;                   #Voltage gain\n",
      "V_2=1.0;                    #Output voltage, V\n",
      "A_i=120.0;                  #Current gain\n",
      "RL=2;                       #Load resistor, kilo ohm\n",
      "\n",
      "#Calculation\n",
      "V_1=(V_2/A_v)*1000;                #Input signal voltage, mV\n",
      "\n",
      "#Since, A_i=A0*R_in/(R_out+RL) and A_v=A0*RL/(R_out+RL)\n",
      "#So, A_v/A_i=RL/R_in\n",
      "R_in=RL*A_i/A_v;                #Input resistance, kilo ohm\n",
      "I_1=V_1/R_in;                   #Input current,  \u03bcA\n",
      "A_p=A_i*A_v;                    #Power gain\n",
      "\n",
      "#Results\n",
      "print(\"Necessary input signal voltage= %.1fmV\"%V_1);\n",
      "print(\"Input signal current =%.2f  \u03bcA\"%I_1);\n",
      "print(\"Power gain = %d.\"%A_p);\n",
      "\n"
     ],
     "language": "python",
     "metadata": {},
     "outputs": [
      {
       "output_type": "stream",
       "stream": "stdout",
       "text": [
        "Necessary input signal voltage= 12.5mV\n",
        "Input signal current =4.17  \u03bcA\n",
        "Power gain = 9600.\n"
       ]
      }
     ],
     "prompt_number": 20
    },
    {
     "cell_type": "code",
     "collapsed": false,
     "input": [],
     "language": "python",
     "metadata": {},
     "outputs": []
    }
   ],
   "metadata": {}
  }
 ]
}