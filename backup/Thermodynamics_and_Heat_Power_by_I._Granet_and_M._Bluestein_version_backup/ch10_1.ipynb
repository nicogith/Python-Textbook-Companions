{
 "metadata": {
  "name": "",
  "signature": "sha256:8da890ac5238ff5b0c8b5e2f22721a2e530a75b68b25eb33de8468d2a1b6f0fb"
 },
 "nbformat": 3,
 "nbformat_minor": 0,
 "worksheets": [
  {
   "cells": [
    {
     "cell_type": "heading",
     "level": 1,
     "metadata": {},
     "source": [
      "Chapter 10 : Refrigeration"
     ]
    },
    {
     "cell_type": "heading",
     "level": 2,
     "metadata": {},
     "source": [
      "Example 10.1  Page No : 503"
     ]
    },
    {
     "cell_type": "code",
     "collapsed": false,
     "input": [
      "\n",
      "T1 = 70+460; \t\t\t#70F = 70+460 R \t\t\t#Energy flows into the system at reservoir at constant temperature T1(unit:R)\n",
      "T2 = 32+460; \t\t\t#32F = 32+460 R \t\t\t#Heat is rejected to the constant temperature T2(Unit:R)\n",
      "print \"Solution for a\"\n",
      "COP = T2/(T1-T2); \t\t\t#Coefficient of performance\n",
      "print \"Coefficient of performanceCOP) of the cycle is %.2f\"%(COP);\n",
      "print \"Solution for b\"\n",
      "Qremoved = 1000; \t\t\t#Unit:Btu/min \t\t\t#heat removal\n",
      "WbyJ = Qremoved/COP; \t\t\t#The power required \t\t\t#Unit:Btu/min\n",
      "print \"The power required is %.2f Btu/min\"%(WbyJ);\n",
      "print \"Solution for c\"\n",
      "Qrej = Qremoved+WbyJ; \t\t\t#The rate of heat rejected to the room  \t\t\t#Unit:Btu/min\n",
      "print \"The rate of heat rejected to the room is %.2f Btu/min\"%(Qrej);\n"
     ],
     "language": "python",
     "metadata": {},
     "outputs": [
      {
       "output_type": "stream",
       "stream": "stdout",
       "text": [
        "Solution for a\n",
        "Coefficient of performanceCOP) of the cycle is 12.00\n",
        "Solution for b\n",
        "The power required is 83.00 Btu/min\n",
        "Solution for c\n",
        "The rate of heat rejected to the room is 1083.00 Btu/min\n"
       ]
      }
     ],
     "prompt_number": 2
    },
    {
     "cell_type": "heading",
     "level": 2,
     "metadata": {},
     "source": [
      "Example 10.2  Page No : 504"
     ]
    },
    {
     "cell_type": "code",
     "collapsed": false,
     "input": [
      "\n",
      "T1 = 20+273; \t\t\t#20C = 20+273 R \t\t\t#Energy flows into the system at reservoir at constant temperature T1(unit:R)\n",
      "T2 = -5+273; \t\t\t#-5C = -5+273 R \t\t\t#Heat is rejected to the constant temperature T2(Unit:R)\n",
      "print \"Solution for a\"\n",
      "COP = T2/(T1-T2); \t\t\t#Coefficient of performance\n",
      "print \"Coefficient of performanceCOP) of the cycle is %.2f\"%(COP);\n",
      "print \"Solution for b\"\n",
      "Qremoved = 30; \t\t\t#Unit:kW \t\t\t#heat removal \n",
      "W = Qremoved/COP; \t\t\t#power required \t\t\t#unit:kW\n",
      "print \"The power required is %.2f kW \"%(W);\n",
      "print \"Solution for c\"\n",
      "Qrej = Qremoved+W; \t\t\t#The rate of heat rejected to the room  \t\t\t#Unit:kW\n",
      "print \"The rate of heat rejected to the room is %.2f kW\"%(Qrej);\n"
     ],
     "language": "python",
     "metadata": {},
     "outputs": [
      {
       "output_type": "stream",
       "stream": "stdout",
       "text": [
        "Solution for a\n",
        "Coefficient of performanceCOP) of the cycle is 10.00\n",
        "Solution for b\n",
        "The power required is 3.00 kW \n",
        "Solution for c\n",
        "The rate of heat rejected to the room is 33.00 kW\n"
       ]
      }
     ],
     "prompt_number": 4
    },
    {
     "cell_type": "heading",
     "level": 2,
     "metadata": {},
     "source": [
      "Example 10.3  Page No : 505"
     ]
    },
    {
     "cell_type": "code",
     "collapsed": false,
     "input": [
      "\n",
      "T1 = 70+460; \t\t\t#70F = 70+460 R \t\t\t#Energy flows into the system at reservoir at constant temperature T1(unit:R)\n",
      "T2 = 20+460; \t\t\t#20F = 20+460 R \t\t\t#Heat is rejected to the constant temperature T2(Unit:R)\n",
      "print \"Solution for a\"\n",
      "COP = T2/(T1-T2); \t\t\t#Coefficient of performance\n",
      "print \"Coefficient of performanceCOP) of the cycle is %.2f\"%(COP);\n",
      "print \"Solution for b\"\n",
      "HPperTOR = 4.717/COP; \t\t\t#Horsepower per ton of refrigeration \t\t\t#Unit:hp/ton\n",
      "COPactual = 2; \t\t\t#Actual Coefficient of performance(COP) is stated to be 2\n",
      "HPperTORactual = 4.717/COPactual; \t\t\t#Horsepower per ton of refrigeration(actual) \t\t\t#Unit:hp/ton\n",
      "print \"The horsepower required by the actual cycle over the minimum is %.2f hp/ton\"%(HPperTORactual-HPperTOR);\n"
     ],
     "language": "python",
     "metadata": {},
     "outputs": [
      {
       "output_type": "stream",
       "stream": "stdout",
       "text": [
        "Solution for a\n",
        "Coefficient of performanceCOP) of the cycle is 9.00\n",
        "Solution for b\n",
        "The horsepower required by the actual cycle over the minimum is 1.83 hp/ton\n"
       ]
      }
     ],
     "prompt_number": 6
    },
    {
     "cell_type": "heading",
     "level": 2,
     "metadata": {},
     "source": [
      "Example 10.4  Page No : 506"
     ]
    },
    {
     "cell_type": "code",
     "collapsed": false,
     "input": [
      "from numpy.linalg import inv\n",
      "\n",
      "COP = 4.5; \t\t\t#Coefficient of performance \t\t\t#From problem 10.1\n",
      "HPperTOR = 4.717/COP; \t\t\t#Horsepower per ton of refrigeration \t\t\t#Unit:hp/ton\n",
      "Qremoved = 1000; \t\t\t#Unit:Btu/min \t\t\t#From problem 10.1\n",
      "#1000 Btu/min /200 Btu/min ton  =  5 tons of refrigeration\n",
      "HPrequired = HPperTOR*5; \t\t\t#The horsepower required \t\t\t#unit:hp\n",
      "print \"The horsepower required is %.2f hp\"%(HPrequired);\n",
      "#In problem 10.1, 77.2 Btu/min was required\n",
      "print \"The power required is %.2f hp\"%(77.2*778*inv([[33000]])); \t\t\t#1 Btu = 778 ft*lbf \t\t\t#1 min*hp  =  33000 ft*lbf\n",
      "#The ratio of the power required in each problem is the same as the inverse ratio of the COP value\n",
      "#Therefore,\n",
      "print \"The power required is %.2f hp\"%((COP/12.95)*HPrequired); \t\t\t#COPin problem 10.1) = 12.95\n",
      "print \"This checks our results\"\n"
     ],
     "language": "python",
     "metadata": {},
     "outputs": [
      {
       "output_type": "stream",
       "stream": "stdout",
       "text": [
        "The horsepower required is 5.24 hp\n",
        "The power required is 1.82 hp\n",
        "The power required is 1.82 hp\n",
        "This checks our results\n"
       ]
      }
     ],
     "prompt_number": 1
    },
    {
     "cell_type": "heading",
     "level": 2,
     "metadata": {},
     "source": [
      "Example 10.5  Page No : 506"
     ]
    },
    {
     "cell_type": "code",
     "collapsed": false,
     "input": [
      "# given data\n",
      "COP = 10.72; \t\t\t#In the problem 10.2 \t\t\t#Coefficient of performance\n",
      "P = 2.8; \t\t\t#In the problem 10.2 \t\t\t#The power was 2.8 kW\n",
      "COPactual = 3.8; \t\t\t#Actual Coefficient of performance(COP)\n",
      "\n",
      "# calculation\n",
      "power = P*COP/COPactual; \t\t\t#The power required  \t\t\t#unit:kW\n",
      "\n",
      "# results\n",
      "print \"The power required is %.2f kW\"%(power)\n"
     ],
     "language": "python",
     "metadata": {},
     "outputs": [
      {
       "output_type": "stream",
       "stream": "stdout",
       "text": [
        "The power required is 7.90 kW\n"
       ]
      }
     ],
     "prompt_number": 8
    },
    {
     "cell_type": "heading",
     "level": 2,
     "metadata": {},
     "source": [
      "Example 10.6  Page No : 509"
     ]
    },
    {
     "cell_type": "code",
     "collapsed": false,
     "input": [
      "\n",
      "#From Appendix 3,at 120psia,the corresponding saturation temperature is 66 F, enthalpies are\n",
      "h1 = 116.0; \t\t\t#Unit:Btu/lbm \t\t\t#enthalpy\n",
      "h2 = 116.0; \t\t\t#Unit:Btu/lbm \t\t\t#Throttling gives h1 = h2 \t\t\t#enthalpy\n",
      "h3 = 602.4; \t\t\t#Unit:Btu/lbm \t\t\t#enthalpy\n",
      "#From the consideration that s3 = s4,h4 is found at 15 psia,\n",
      "s3 = 1.3938; \t\t\t#s = entropy \t\t\t#Unit:Btu/(lbm*F)\n",
      "#Therefore by interpolation in the superheat tables at 120 psia,\n",
      "t4 = 237.4; \t\t\t#Unit:fahrenheit \t\t\t#temperature\n",
      "h4 = 733.4; \t\t\t#Unit:Btu/lbm \t\t\t#enthalpy\n",
      "print \"Solution for a\"\n",
      "COP = (h3-h1)/(h4-h3); \t\t\t#Coefficient of performance\n",
      "print \"Coefficient of performance is %.2f\"%(COP);\n",
      "print \"Solution for b\"\n",
      "print \"The work of compression is %.2f Btu/lbm\"%(h4-h3);\n",
      "print \"Solution for c\"\n",
      "print \"The refrigatering effect is %.2f Btu/lbm\"%(h3-h1);\n",
      "print \"Solution for d\"\n",
      "tons = 30; \t\t\t#capacity of 30 tons is desired\n",
      "print \"The pounds per minute of ammonia required for ciculation is %.2f lbm/min\"%((200*tons)/(h3-h1));\n",
      "print \"Solution for e\"\n",
      "print \"The ideal horsepower per ton of refrigeration is %.2f hp/ton\"%((4.717*h4-h3)/(h3-h1));\n",
      "\n",
      "\n"
     ],
     "language": "python",
     "metadata": {},
     "outputs": [
      {
       "output_type": "stream",
       "stream": "stdout",
       "text": [
        "Solution for a\n",
        "Coefficient of performance is 3.71\n",
        "Solution for b\n",
        "The work of compression is 131.00 Btu/lbm\n",
        "Solution for c\n",
        "The refrigatering effect is 486.40 Btu/lbm\n",
        "Solution for d\n",
        "The pounds per minute of ammonia required for ciculation is 12.34 lbm/min\n",
        "Solution for e\n",
        "The ideal horsepower per ton of refrigeration is 5.87 hp/ton\n"
       ]
      }
     ],
     "prompt_number": 10
    },
    {
     "cell_type": "heading",
     "level": 2,
     "metadata": {},
     "source": [
      "Example 10.7  Page No : 510"
     ]
    },
    {
     "cell_type": "code",
     "collapsed": false,
     "input": [
      "\n",
      "#From Appendix 3,110 psig corresponds to 96 F, enthalpies are\n",
      "h1 = 30.14; \t\t\t#Unit:Btu/lbm \t\t\t#enthalpy\n",
      "h2 = 30.14; \t\t\t#Unit:Btu/lbm \t\t\t#Throttling gives h1 = h2 \t\t\t#enthalpy\n",
      "h3 = 75.110; \t\t\t#Unit:Btu/lbm \t\t\t#enthalpy\n",
      "#From the consideration that s3 = s4,at -20F,\n",
      "s3 = 0.17102; \t\t\t#Unit:Btu/(lbm*F) \t\t\t#s = entropy\n",
      "#Therefore by interpolation in the Freon-12 superheat table at these values,\n",
      "h4 = 89.293; \t\t\t#Unit:Btu/lbm \t\t\t#enthalpy\n",
      "print \"Solution for a\"\n",
      "COP = (h3-h1)/(h4-h3); \t\t\t#Coefficient of performance\n",
      "print \"Coefficient of performance is %.2f\"%(COP);\n",
      "print \"Solution for b\"\n",
      "print \"The work of compression is %.2f Btu/lbm\"%(h4-h3);\n",
      "print \"Solution for c\"\n",
      "print \"The refrigatering effect is %.2f Btu/lbm\"%(h3-h1);\n",
      "print \"Solution for d\";\n",
      "tons = 30; \t\t\t#capacity of 30 tons is desired\n",
      "print \"The pounds per minute of ammonia required for ciculation is %.2f lbm/min\"%((200*tons)/h3-h1);\n",
      "print \"Solution for e\"\n",
      "print \"The ideal horsepower per ton of refrigeration is %.2f hp/ton\"%((4.717*h4-h3)/(h3-h1))\n"
     ],
     "language": "python",
     "metadata": {},
     "outputs": [
      {
       "output_type": "stream",
       "stream": "stdout",
       "text": [
        "Solution for a\n",
        "Coefficient of performance is 3.17\n",
        "Solution for b\n",
        "The work of compression is 14.18 Btu/lbm\n",
        "Solution for c\n",
        "The refrigatering effect is 44.97 Btu/lbm\n",
        "Solution for d\n",
        "The pounds per minute of ammonia required for ciculation is 49.74 lbm/min\n",
        "Solution for e\n",
        "The ideal horsepower per ton of refrigeration is 7.70 hp/ton\n"
       ]
      }
     ],
     "prompt_number": 12
    },
    {
     "cell_type": "heading",
     "level": 2,
     "metadata": {},
     "source": [
      "Example 10.8  Page No : 517"
     ]
    },
    {
     "cell_type": "code",
     "collapsed": false,
     "input": [
      "\n",
      "#From Appendix 3,Using the Freon-12 tables, enthalpies are\n",
      "h1 = 28.713; \t\t\t#Unit:Btu/lbm \t\t\t#enthalpy\n",
      "h2 = 28.713; \t\t\t#Unit:Btu/lbm \t\t\t#Throttling gives h1 = h2 \t\t\t#enthalpy\n",
      "h3 = 78.335; \t\t\t#Unit:Btu/lbm \t\t\t#enthalpy\n",
      "#From the consideration that s3 = s4,\n",
      "s3 = 0.16798; \t\t\t#Unit:Btu/(lbm*F) \t\t\t#s = entropy\n",
      "#Therefore by interpolation in the superheat tables at 90 F,\n",
      "s = 0.16798; \t\t\t#entropy at 90F \t\t\t#Btu/lbm*F\n",
      "h4 = 87.192; \t\t\t#Unit:Btu/lbm \t\t\t#enthalpy\n",
      "print \"The heat extracted is %.2f Btu/lbm\"%(h3-h1);\n",
      "print \"The work required is %.2f Btu/lbm\"%(h4-h3);\n",
      "COP = (h3-h1)/(h4-h3); \t\t\t#Coefficient of performance\n",
      "print \"The Coefficient of performanceCOP) of this ideal cycle is %.2f\"%(COP);\n"
     ],
     "language": "python",
     "metadata": {},
     "outputs": [
      {
       "output_type": "stream",
       "stream": "stdout",
       "text": [
        "The heat extracted is 49.62 Btu/lbm\n",
        "The work required is 8.86 Btu/lbm\n",
        "The Coefficient of performanceCOP) of this ideal cycle is 5.60\n"
       ]
      }
     ],
     "prompt_number": 13
    },
    {
     "cell_type": "heading",
     "level": 2,
     "metadata": {},
     "source": [
      "Example 10.9  Page No : 518"
     ]
    },
    {
     "cell_type": "code",
     "collapsed": false,
     "input": [
      "\n",
      "#From Appendix 3,Using the HFC-134a tables, enthalpies are\n",
      "h1 = 41.6; \t\t\t#Unit:Btu/lbm \t\t\t#enthalpy\n",
      "h2 = 41.6; \t\t\t#Unit:Btu/lbm \t\t\t#Throttling gives h1 = h2 \t\t\t#enthalpy\n",
      "h3 = 104.6; \t\t\t#Unit:Btu/lbm \t\t\t#enthalpy\n",
      "#From the consideration that s3 = s4,\n",
      "s3 = 0.2244; \t\t\t#Unit:Btu/(lbm*F) \t\t\t#s = entropy\n",
      "h4 = 116.0; \t\t\t#Unit:Btu/lbm \t\t\t#enthalpy\n",
      "print \"The heat extracted is %.2f Btu/lbm\"%(h3-h1);\n",
      "print \"The work required is %.2f Btu/lbm\"%(h4-h3);\n",
      "COP = (h3-h1)/(h4-h3); \t\t\t#Coefficient of performance\n",
      "print \"The Coefficient of performanceCOP) of this ideal cycle is %.2f\"%(COP);"
     ],
     "language": "python",
     "metadata": {},
     "outputs": [
      {
       "output_type": "stream",
       "stream": "stdout",
       "text": [
        "The heat extracted is 63.00 Btu/lbm\n",
        "The work required is 11.40 Btu/lbm\n",
        "The Coefficient of performanceCOP) of this ideal cycle is 5.53\n"
       ]
      }
     ],
     "prompt_number": 14
    },
    {
     "cell_type": "heading",
     "level": 2,
     "metadata": {},
     "source": [
      "Example 10.10  Page No : 518"
     ]
    },
    {
     "cell_type": "code",
     "collapsed": false,
     "input": [
      "\n",
      "print \"Solution for a\";\n",
      "#By defination,the efficiency of the compressor is the ratio of the ideal compression work to actual compression work.\n",
      "#Based on the points on fig.10.12, \t\t\t#n = (h4-h3)/(h4'-h3);\n",
      "#There is close correspondence between 5.3 psia and -60F for saturated conditions.Therefore,state 3 is a superheated vapour at 5.3 psia and approximately -20F,because the problem states\n",
      "#that state 3 has a 40F superheat.Interpolation in the Freon tables in Appendix 3 yields\n",
      "T = -20; \t\t\t#Unit:F  \t\t\t#temperature\n",
      "# p      h        s\n",
      "#7.5  75.719  0.18371\n",
      "#5.3  76.885  0.18985             h3 = 75.886 Btu/lbm\n",
      "#5.0  75.990  0.19069\n",
      "\n",
      "#At 100 psia and s = 0.18985,\n",
      "#  t           s      h\n",
      "# 170F     0.18996  100.571\n",
      "# 169.6F   0.18985  100.5          h4 = 100.5 Btu/lbm\n",
      "# 160F     0.18726  98.884\n",
      "\n",
      "#The weight of refrigerant is given by\n",
      "# 200(tons)/(h3-h1)  =  (200*5)/(75.886-h1)\n",
      "#In the saturated tables,h1 is\n",
      "#    p        h \n",
      "# 101.86   26.832\n",
      "# 100psia  26.542\n",
      "# 98.87    26.365\n",
      "\n",
      "#m = mass flow/min\n",
      "h1 = 26.542; \t\t\t#enthalpy \t\t\t#Unit:Btu/lbm\n",
      "n = 0.8; \t\t\t#Efficiency\n",
      "h4 = 100.5; \t\t\t#enthalpy \t\t\t#Unit:Btu/lbm\n",
      "h3 = 75.886; \t\t\t#enthalpy \t\t\t#Unit:Btu/lbm\n",
      "m = (200*5)/(75.886-h1); \t\t\t#mass\n",
      "h4dashminush3 = (h4-h3)/n; \n",
      "#Total work of compression = m*(h4minush3)\n",
      "J = 778; \t\t\t#J = Conversion factor\n",
      "work = (h4dashminush3*m*J)/33000; \t\t\t#1 horsepower  =  33,000 ft*LBf/min \t\t\t#Unit:hp \t\t\t#work\n",
      "print \"%.2f horsepower is required to drive the compressor if it has a mechanical efficiency 100percentage\"%(work);\n",
      "\n",
      "print \"Solution for b\";\n",
      "#Assuming a specific heat of the water as unity,we obtain\n",
      "#From part (a),\n",
      "#h4'-h3 = h4minush3\n",
      "h4dash = h4dashminush3+h3; \t\t\t#Unit:Btu/lbm\n",
      "mdot = (m*(h4dash-h1))/(70-60); \t\t\t#water enters at 60F and leaves at 70F \t\t\t#the required capacity in lbm/min\n",
      "print \"%.2f lbm/min of cooling water i.e. %.2f gal/min is the required capacity of cooling water to pump\"%(mdot,mdot/8.3);\n"
     ],
     "language": "python",
     "metadata": {},
     "outputs": [
      {
       "output_type": "stream",
       "stream": "stdout",
       "text": [
        "Solution for a\n",
        "14.70 horsepower is required to drive the compressor if it has a mechanical efficiency 100percentage\n",
        "Solution for b\n",
        "162.35 lbm/min of cooling water i.e. 19.56 gal/min is the required capacity of cooling water to pump\n"
       ]
      }
     ],
     "prompt_number": 15
    },
    {
     "cell_type": "heading",
     "level": 2,
     "metadata": {},
     "source": [
      "Example 10.11  Page No : 521"
     ]
    },
    {
     "cell_type": "code",
     "collapsed": false,
     "input": [
      "\n",
      "print \"Solution for a\";\n",
      "#From appendix3,reading the p-h diagram directly,we have\n",
      "h3 = 76.2; \t\t\t#Unit:Btu/lbm \t\t\t#Enthalpy\n",
      "h4 = 100.5; \t\t\t#Unit:Btu/lbm \t\t\t#Enthalpy\n",
      "n = 0.8; \t\t\t#Efficiency \t\t\t#From 10.10\n",
      "work = (h4-h3)/n; \t\t\t#Work of compression \t\t\t#Unit:Btu/lbm\n",
      "#The enthalpy of saturated liquid at 100 psia is given at 26.1 Btu/lbm.Proceeding as before yields\n",
      "m = (200*5)/(h3-26.1); \t\t\t#Unit:lbm/min \t\t\t#m = massflow/min\n",
      "J = 778; \t\t\t#J = Conversion factor\n",
      "totalwork = (m*work*J)/33000; \t\t\t#1 horsepower  =  33,000 ft*LBf/min \t\t\t#total ideal work \t\t\t#unit:hp\n",
      "print \"Total ideal work of compression is %.2f hp\"%(totalwork);\n",
      "\n",
      "print \"Solution for b\";\n",
      "h4dash = h3+work; \t\t\t#Btu/lbm\n",
      "mdot = (m*(h4dash-26.5))/(70-60); \t\t\t#water enters at 60F and leaves at 70F \t\t\t#the required capacity in lbm/min\n",
      "print \"%.2f lbm/min of cooling water i.e. %.2f gal/min is the required capacity of cooling water to pump\"%(mdot,mdot/8.3);\n"
     ],
     "language": "python",
     "metadata": {},
     "outputs": [
      {
       "output_type": "stream",
       "stream": "stdout",
       "text": [
        "Solution for a\n",
        "Total ideal work of compression is 14.29 hp\n",
        "Solution for b\n",
        "159.83 lbm/min of cooling water i.e. 19.26 gal/min is the required capacity of cooling water to pump\n"
       ]
      }
     ],
     "prompt_number": 17
    },
    {
     "cell_type": "heading",
     "level": 2,
     "metadata": {},
     "source": [
      "Example 10.12  Page No : 526"
     ]
    },
    {
     "cell_type": "code",
     "collapsed": false,
     "input": [
      "# given data\n",
      "COP = 2.5; \t\t\t#Coefficient of performance\n",
      "cp = 0.24; \t\t\t#Unit:Btu/(lbm*R) \t\t\t#Specific heat constant for constant pressure process\n",
      "T1 = -100+460; \t\t\t#temperatures converted to absolute temperatures; \t\t\t#Unit:R \t\t\t#lowest temperature of the cycle\n",
      "T3 = 150+460; \t\t\t#temperatures converted to absolute temperatures; \t\t\t#Unit:R \t\t\t#Upper temperature of the cycle\n",
      "#T1/T4-T1  =  COP\n",
      "T4 = (3.5*T1)/COP; \t\t\t#Unit:R \t\t\t#temperature at point 4\n",
      "#T2/T3-T2  = COP\n",
      "T2 = (COP*T3)/3.5; \t\t\t#Unit:R \t\t\t#temperature at point 2\n",
      "print \"The work of the expander is %.2f Btu/lbm of air\"%(cp*T4-T1);\n",
      "print \"The work of the compressor is %.2f Btu/lbm of air\"%(cp*T3-T2);\n",
      "print \"The net work required by the cycle is %.2f Btu/lbm\"%(((cp*T3-T2))-cp*(T4-T1));\n",
      "print \"Per ton of refrigeration, the required airflow is %.2f lbm/min per ton\"%((200/cp*T2-T1))\n"
     ],
     "language": "python",
     "metadata": {},
     "outputs": [
      {
       "output_type": "stream",
       "stream": "stdout",
       "text": [
        "The work of the expander is -239.04 Btu/lbm of air\n",
        "The work of the compressor is -289.31 Btu/lbm of air\n",
        "The net work required by the cycle is -323.87 Btu/lbm\n",
        "Per ton of refrigeration, the required airflow is 362735.24 lbm/min per ton\n"
       ]
      }
     ],
     "prompt_number": 21
    },
    {
     "cell_type": "heading",
     "level": 2,
     "metadata": {},
     "source": [
      "Example 10.13  Page No : 536"
     ]
    },
    {
     "cell_type": "code",
     "collapsed": false,
     "input": [
      "\n",
      "#A VACUUM REFRIGERATION SYSTEM \n",
      "#A vacuum refrigeration system is used to cool water from 90F to 45F\n",
      "h1 = 58.07; \t\t\t#Unit:Btu/lbm \t\t\t#enthalpy\n",
      "h2 = 13.04; \t\t\t#Unit:Btu/lbm  \t\t\t#enthalpy\n",
      "h3 = 1081.1; \t\t\t#Unit:Btu/lbm \t\t\t#enthalpy\n",
      "m1 = 1; \t\t\t#mass \t\t\t#unit:lbm\n",
      "#m2 = 1-m3 \t\t\t#unit:lbm\n",
      "#Now, m1*h1  =  m2*h2 + m3*h3\n",
      "#Putting the values and arranging the equation,\n",
      "m3 = (m1*h1-h2)/(h3+h2); \t\t\t#The mass of vapour that must be removed per pound \t\t\t#unit:lbm\n",
      "\n",
      "# results\n",
      "print \"The mass of vapour that must be removed per pound of entering water is %.2f lbm\"%(m3);\n"
     ],
     "language": "python",
     "metadata": {},
     "outputs": [
      {
       "output_type": "stream",
       "stream": "stdout",
       "text": [
        "The mass of vapour that must be removed per pound of entering water is 0.04 lbm\n"
       ]
      }
     ],
     "prompt_number": 22
    },
    {
     "cell_type": "heading",
     "level": 2,
     "metadata": {},
     "source": [
      "Example 10.14  Page No : 536"
     ]
    },
    {
     "cell_type": "code",
     "collapsed": false,
     "input": [
      "\n",
      "#In problem 10.13,\n",
      "#A VACUUM REFRIGERATION SYSTEM \n",
      "#A vacuum refrigeration system is used to cool water from 90F to 45F\n",
      "h1 = 58.07; \t\t\t#Unit:Btu/lbm \t\t\t#enthalpy\n",
      "h2 = 13.04; \t\t\t#Unit:Btu/lbm  \t\t\t#enthalpy\n",
      "h3 = 1081.1; \t\t\t#Unit:Btu/lbm \t\t\t#enthalpy\n",
      "m1 = 1; \t\t\t#mass \t\t\t#lbm\n",
      "#m2 = 1-m3 \t\t\t#unit:lbm\n",
      "#Now, m1*h1  =  m2*h2 + m3*h3\n",
      "#Putting the values and arranging the equation,\n",
      "m3 = (m1*h1-h2)/(h3+h2); \t\t\t#The mass of vapour that must be removed per pound \t\t\t#unit:lbm\n",
      "m2 = 1-m3; \t\t\t#mass \t\t\t#unit:lbm\n",
      "print \"The mass of vapour that must be removed per pound of entering water is %.2f lbm\"%(m3);\n",
      "#Now,in problem 10.14,\n",
      "#The refrigeration effect can be determined as m3*(h3-h1) or m2*(h1-h2)\n",
      "print \"The refrigeration effect Using eqn m3*h3-h1) is %.2f Btu/lbm\"%(m3*h3-h1)\n",
      "print \"The refrigeration effect Using eqn m2*h1-h2) is %.2f Btu/lbm\"%(m2*h1-h2)\n"
     ],
     "language": "python",
     "metadata": {},
     "outputs": [
      {
       "output_type": "stream",
       "stream": "stdout",
       "text": [
        "The mass of vapour that must be removed per pound of entering water is 0.04 lbm\n",
        "The refrigeration effect Using eqn m3*h3-h1) is -13.58 Btu/lbm\n",
        "The refrigeration effect Using eqn m2*h1-h2) is 42.64 Btu/lbm\n"
       ]
      }
     ],
     "prompt_number": 23
    },
    {
     "cell_type": "heading",
     "level": 2,
     "metadata": {},
     "source": [
      "Example 10.15  Page No : 539"
     ]
    },
    {
     "cell_type": "code",
     "collapsed": false,
     "input": [
      "\n",
      "#THE HEAT PUMP\n",
      "T1 = 70.+460; \t\t\t#70F = 70+460 R \t\t\t#Energy flows into the system at reservoir at constant temperature T1(unit:R) \t\t\t#from problem 10.1\n",
      "T2 = 32+460; \t\t\t#32F = 32+460 R \t\t\t#Heat is rejected to the constant temperature T2(Unit:R) \t\t\t#from problem 10.1\n",
      "COP = T1/(T1-T2); \t\t\t#Coefficient of performance for carnot heat pump\n",
      "print \"Coefficient of performanceCOP) of the carnot cycle is %.2f\"%(COP);\n",
      "print \"The COP can also be obtained from the energy items solved for in problem 10.1\"\n",
      "#In problem 10.1, The power was found to be 77.2 Btu/min and the total tare of heat rejection was 1077.2 Btu/min\n",
      "#Therefore,\n",
      "print \"Coefficient of performanceCOP) of the cycle is %.2f\"%(1077.2/77.2); \n"
     ],
     "language": "python",
     "metadata": {},
     "outputs": [
      {
       "output_type": "stream",
       "stream": "stdout",
       "text": [
        "Coefficient of performanceCOP) of the carnot cycle is 13.95\n",
        "The COP can also be obtained from the energy items solved for in problem 10.1\n",
        "Coefficient of performanceCOP) of the cycle is 13.95\n"
       ]
      }
     ],
     "prompt_number": 24
    },
    {
     "cell_type": "heading",
     "level": 2,
     "metadata": {},
     "source": [
      "Example 10.16  Page No : 539"
     ]
    },
    {
     "cell_type": "code",
     "collapsed": false,
     "input": [
      "\n",
      "#Let us first consider the cycle as a refrigeration cycle\n",
      "#In problem 10.1\n",
      "T1 = 70+460; \t\t\t#70F = 70+460 R \t\t\t#Energy flows into the system at reservoir at constant temperature T1(unit:R)\n",
      "T2 = 0+460; \t\t\t#0F = 32+460 R \t\t\t#Heat is rejected to the constant temperature T2(Unit:R)\n",
      "COP = T2/(T1-T2); \t\t\t#Coefficient of performance\n",
      "print \"Coefficient of performanceCOP) of the cycle is %.2f\"%(COP);\n",
      "Qremoved = 1000; \t\t\t#Unit:Btu/min \t\t\t#heat removal\n",
      "WbyJ = Qremoved/COP; \t\t\t#the power input \t\t\t#unit:Btu/min\n",
      "print \"The power input is %.2f Btu/min\"%(WbyJ);\n",
      "Qrej = Qremoved+WbyJ; \t\t\t#The rate of heat rejected to the room \t\t\t#Unit:Btu/min\n",
      "print \"The rate of heat rejected to the room is %.2f Btu/min\"%(Qrej);\n",
      "print \"The COP as a heat pump is %.2f\"%(Qrej/WbyJ);\n",
      "print \"As a check, COP of heat pump is %.2f  =  1 + COP of carnot cycle %.2f\"%(Qrej/WbyJ,COP);\n",
      "\n"
     ],
     "language": "python",
     "metadata": {},
     "outputs": [
      {
       "output_type": "stream",
       "stream": "stdout",
       "text": [
        "Coefficient of performanceCOP) of the cycle is 6.00\n",
        "The power input is 166.00 Btu/min\n",
        "The rate of heat rejected to the room is 1166.00 Btu/min\n",
        "The COP as a heat pump is 7.00\n",
        "As a check, COP of heat pump is 7.00  =  1 + COP of carnot cycle 6.00\n"
       ]
      }
     ],
     "prompt_number": 27
    }
   ],
   "metadata": {}
  }
 ]
}