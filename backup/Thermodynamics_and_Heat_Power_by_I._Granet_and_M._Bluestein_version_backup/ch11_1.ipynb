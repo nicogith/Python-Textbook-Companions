{
 "metadata": {
  "name": "",
  "signature": "sha256:bca14a59244f78cacc86ebeeb6d600dde8a0df0a85b519507569f4ae617ed968"
 },
 "nbformat": 3,
 "nbformat_minor": 0,
 "worksheets": [
  {
   "cells": [
    {
     "cell_type": "heading",
     "level": 1,
     "metadata": {},
     "source": [
      "Chapter 11 : Heat Transfer"
     ]
    },
    {
     "cell_type": "heading",
     "level": 2,
     "metadata": {},
     "source": [
      "Example 11.1  Page No : 553"
     ]
    },
    {
     "cell_type": "code",
     "collapsed": false,
     "input": [
      "\n",
      "# given data\n",
      "deltaX = 6./12; \t\t\t#6 inch  =  6/12 feet \t\t\t#deltaX = length \t\t\t#unit:feet\n",
      "k = 0.40; \t\t\t#Unit:Btu/(hr*ft*F) \t\t\t#k = proportionality constant \t\t\t#k = thermal conductivity \t\t\t#From the table\n",
      "T1 = 150; \t\t\t#temperature maintained at one face \t\t\t#fahrenheit\n",
      "T2 = 80.; \t\t\t#tempetature maintained at other face \t\t\t#fahrenheit\n",
      "\n",
      "# calculations\n",
      "deltaT = T2-T1; \t\t\t#fahrenheit \t\t\t#Change in temperature\n",
      "Q = (-k*deltaT)/deltaX; \t\t\t#Heat transfer per square foot of wall \t\t\t#Unit:Btu/hr*ft**2\n",
      "\n",
      "# results\n",
      "print \"Heat transfer per square foot of wall is %.2f Btu/hr*ft**2\"%(Q);\n"
     ],
     "language": "python",
     "metadata": {},
     "outputs": [
      {
       "output_type": "stream",
       "stream": "stdout",
       "text": [
        "Heat transfer per square foot of wall is 56.00 Btu/hr*ft**2\n"
       ]
      }
     ],
     "prompt_number": 1
    },
    {
     "cell_type": "heading",
     "level": 2,
     "metadata": {},
     "source": [
      "Example 11.2  Page No : 553"
     ]
    },
    {
     "cell_type": "code",
     "collapsed": false,
     "input": [
      "# given data\n",
      "deltaX = 0.150; \t\t\t#Given,150 mm  = 0.150 meter \t\t\t# \t\t\t#deltaX = length \t\t\t#Unit:meter\n",
      "k = 0.692; \t\t\t#Unit:W/(m*celcius) \t\t\t#k = proportionality constant \t\t\t#k = thermal conductivity \n",
      "T1 = 70; \t\t\t#temperature maintained at one face \t\t\t#celcius\n",
      "T2 = 30; \t\t\t#tempetature maintained at other face \t\t\t#celcius\n",
      "\n",
      "# calculations\n",
      "deltaT = T2-T1; \t\t\t#celcius \t\t\t#change in temperature\n",
      "Q = (-k*deltaT)/deltaX; \t\t\t#Heat transfer per square foot of wall \t\t\t#unit:W/m**2\n",
      "\n",
      "# results\n",
      "print \"Heat transfer per square foot of wall is %.2f W/m**2\"%(Q);\n"
     ],
     "language": "python",
     "metadata": {},
     "outputs": [
      {
       "output_type": "stream",
       "stream": "stdout",
       "text": [
        "Heat transfer per square foot of wall is 184.53 W/m**2\n"
       ]
      }
     ],
     "prompt_number": 2
    },
    {
     "cell_type": "heading",
     "level": 2,
     "metadata": {},
     "source": [
      "Example 11.3  Page No : 556"
     ]
    },
    {
     "cell_type": "code",
     "collapsed": false,
     "input": [
      "\n",
      "#From example 11.1,\n",
      "deltaX = 6./12; \t\t\t#6 inch  =  6/12 feet \t\t\t#deltaX = length \t\t\t#unit:feet \n",
      "A = 1; \t\t\t#area  \t\t\t#ft**2\n",
      "k = 0.40; \t\t\t#Unit:Btu/(hr*ft*F) \t\t\t#k = proportionality constant \t\t\t#k = thermal conductivity \t\t\t#From the table\n",
      "\n",
      "Rt = deltaX/(k*A); \t\t\t#Thermal resistance \t\t\t#Unit:(hr*f)/Btu\n",
      "\n",
      "#Q = deltaT/Rt \t\t\t#Q = heat transfer \t\t\t#ohm's law (fourier's equation)\n",
      "#i = deltaE/Re \t\t\t#i = current in amperes \t\t\t#deltaE = The potential difference \t\t\t#Re = the electrical resistance \t\t\t#ohm's law\n",
      "# Q/i  =  (deltaT/Rt)*(deltaE/Re)\n",
      "#Q/i = 100; \t\t\t#Given \t\t\t# 1 A correspond to 100 Btu/(hr*ft**2)\n",
      "deltaE = 9.; \t\t\t#Unit:Volt \t\t\t#potential difference\n",
      "T1 = 150.; \t\t\t#temperature maintained at one face \t\t\t#fahrenheit\n",
      "T2 = 80.; \t\t\t#tempetature maintained at other face \t\t\t#fahrenheit\n",
      "deltaT = T2-T1; \t\t\t#fahrenheit \t\t\t#Change in temperature\n",
      "Re = (100*deltaE*Rt)/deltaT; \t\t\t#Unit:Ohms \t\t\t#The electrical resistance needed\n",
      "print \"The electrical resistance needed is %.2f ohms\"%(abs(Re));\n",
      "i = deltaE/Re; \t\t\t#current \t\t\t#Unit:amperes\n",
      "Q = 100*i; \t\t\t#Heat transfer per square foot of wall \t\t\t#Unit:Btu/hr*ft**2\n",
      "print \"Heat transfer per square foot of wall is %.2f Btu/hr*ft**2\"%(abs(Q));\n",
      "\n",
      "\n"
     ],
     "language": "python",
     "metadata": {},
     "outputs": [
      {
       "output_type": "stream",
       "stream": "stdout",
       "text": [
        "The electrical resistance needed is 16.07 ohms\n",
        "Heat transfer per square foot of wall is 56.00 Btu/hr*ft**2\n"
       ]
      }
     ],
     "prompt_number": 5
    },
    {
     "cell_type": "heading",
     "level": 2,
     "metadata": {},
     "source": [
      "Example 11.4  Page No : 558"
     ]
    },
    {
     "cell_type": "code",
     "collapsed": false,
     "input": [
      "\n",
      "#For Brick,\n",
      "deltaX = 6./12; \t\t\t#6 inch  =  6/12 feet \t\t\t#deltaX = length \t\t\t#unit:ft\n",
      "A = 1.; \t\t\t#area  \t\t\t#unit:ft**2\n",
      "k = 0.40; \t\t\t#Unit:Btu/(hr*ft*F) \t\t\t#k = proportionality constant \t\t\t#k = thermal conductivity \t\t\t#From the table\n",
      "R = deltaX/(k*A); \t\t\t#Thermal resistance \t\t\t#Unit:(hr*f)/Btu\n",
      "print \"For brick\"\n",
      "print \"The resistance is %.2f hr*F)/Btu\"%(R);\n",
      "R1 = R;\n",
      "\n",
      "#For Concrete,\n",
      "deltaX = (1./2)/12; \t\t\t#(1/2) inch  =  (1/2)/12 feet \t\t\t#deltaX = length \t\t\t#unit:ft\n",
      "A = 1; \t\t\t#area \t\t\t#ft**2\n",
      "k = 0.80; \t\t\t#Unit:Btu/(hr*ft*F) \t\t\t#k = proportionality constant \t\t\t#k = thermal conductivity \t\t\t#From the table\n",
      "R = deltaX/(k*A); \t\t\t#Thermal resistance \t\t\t#Unit:(hr*f)/Btu\n",
      "print \"For Concrete\"\n",
      "print \"The resistance is %.2f hr*F)/Btu\"%(R);\n",
      "R2 = R;\n",
      "\n",
      "#For plaster,\n",
      "deltaX = (1./2)/12; \t\t\t# (1/2) inch  =  6/12 feet \t\t\t#deltaX = length \t\t\t#unit:ft\n",
      "A = 1; \t\t\t#area \t\t\t#ft**2\n",
      "k = 0.30; \t\t\t#Unit:Btu/(hr*ft*F) \t\t\t#k = proportionality constant \t\t\t#k = thermal conductivity \t\t\t#From the table\n",
      "R = deltaX/(k*A); \t\t\t#Thermal resistance \t\t\t#Unit:(hr*f)/Btu\n",
      "print \"For plaster\"\n",
      "print \"The resistance is %.2f hr*F)/Btu\"%(R);\n",
      "R3 = R;\n",
      "\n",
      "Rot = R1+R2+R3; \t\t\t#Rot = The overall resistance \t\t\t#unit:(hr*F)/Btu\n",
      "print \"The overall resistance is %.2f hr*F)/Btu\"%(Rot);\n",
      "T1 = 70.; \t\t\t#temperature maintained at one face \t\t\t#fahrenheit \n",
      "T2 = 30; \t\t\t#tempetature maintained at other face \t\t\t#fahrenheit \n",
      "deltaT = T2-T1; \t\t\t#fahrenheit \t\t\t#Change in temperature\n",
      "Q = deltaT/Rot; \t\t\t#Q = Heat transfer \t\t\t#Unit:Btu/(hr*ft**2); \t\t\t#ohm's law (fourier's equation)\n",
      "print \"Heat transfer per square foot of wall is %.2f Btu/hr*ft**2\"%(abs(Q));\n"
     ],
     "language": "python",
     "metadata": {},
     "outputs": [
      {
       "output_type": "stream",
       "stream": "stdout",
       "text": [
        "For brick\n",
        "The resistance is 1.25 hr*F)/Btu\n",
        "For Concrete\n",
        "The resistance is 0.05 hr*F)/Btu\n",
        "For plaster\n",
        "The resistance is 0.14 hr*F)/Btu\n",
        "The overall resistance is 1.44 hr*F)/Btu\n",
        "Heat transfer per square foot of wall is 27.76 Btu/hr*ft**2\n"
       ]
      }
     ],
     "prompt_number": 6
    },
    {
     "cell_type": "heading",
     "level": 2,
     "metadata": {},
     "source": [
      "Example 11.5  Page No : 558"
     ]
    },
    {
     "cell_type": "code",
     "collapsed": false,
     "input": [
      "\n",
      "print \"In problem 11.4\"\n",
      "#From example 11.4,,,\n",
      "#For Brick,\n",
      "deltaX = 6./12; \t\t\t#6 inch  =  6/12 feet \t\t\t#deltaX = length \t\t\t#unit:ft\n",
      "A = 1; \t\t\t#area  \t\t\t#unit:ft**2\n",
      "k = 0.40; \t\t\t#Unit:Btu/(hr*ft*F) \t\t\t#k = proportionality constant \t\t\t#k = thermal conductivity \t\t\t#From the table\n",
      "R = deltaX/(k*A); \t\t\t#Thermal resistance \t\t\t#Unit:(hr*f)/Btu\n",
      "print \"For brick\"\n",
      "print \"The resistance is %.2f hr*F)/Btu\"%(R);\n",
      "R1 = R;\n",
      "\n",
      "#For Concrete,\n",
      "deltaX = (1./2)/12; \t\t\t#(1/2) inch  =  (1/2)/12 feet \t\t\t#deltaX = length \t\t\t#unit:ft\n",
      "A = 1; \t\t\t#area \t\t\t#ft**2\n",
      "k = 0.80; \t\t\t#Unit:Btu/(hr*ft*F) \t\t\t#k = proportionality constant \t\t\t#k = thermal conductivity \t\t\t#From the table\n",
      "R = deltaX/(k*A); \t\t\t#Thermal resistance \t\t\t#Unit:(hr*f)/Btu\n",
      "print \"For Concrete\"\n",
      "print \"The resistance is %.2f hr*F)/Btu\"%(R);\n",
      "R2 = R;\n",
      "\n",
      "#For plaster,\n",
      "deltaX = (1./2)/12; \t\t\t# (1/2) inch  =  6/12 feet \t\t\t#deltaX = length \t\t\t#unit:ft\n",
      "A = 1; \t\t\t#area \t\t\t#ft**2\n",
      "k = 0.30; \t\t\t#Unit:Btu/(hr*ft*F) \t\t\t#k = proportionality constant \t\t\t#k = thermal conductivity \t\t\t#From the table\n",
      "R = deltaX/(k*A); \t\t\t#Thermal resistance \t\t\t#Unit:(hr*f)/Btu\n",
      "print \"For plaster\"\n",
      "print \"The resistance is %.2f hr*F)/Btu\"%(R);\n",
      "R3 = R;\n",
      "\n",
      "Rot = R1+R2+R3; \t\t\t#Rot = The overall resistance \t\t\t#unit:(hr*F)/Btu\n",
      "print \"The overall resistance is %.2f hr*F)/Btu\"%(Rot);\n",
      "T1 = 70; \t\t\t#temperature maintained at one face \t\t\t#fahrenheit \n",
      "T2 = 30; \t\t\t#tempetature maintained at other face \t\t\t#fahrenheit \n",
      "deltaT = T2-T1; \t\t\t#fahrenheit \t\t\t#Change in temperature\n",
      "Q = deltaT/Rot; \t\t\t#Q = Heat transfer \t\t\t#Unit:Btu/(hr*ft**2);\n",
      "print \"Heat transfer per square foot of wall is %.2f Btu/hr*ft**2\"%(abs(Q));\n",
      "\n",
      "print \"Now in problem 11.5\"\n",
      "deltaT = R*Q \t\t\t#ohm's law (fourier's equation) \t\t\t#Change in temperature \t\t\t#fahrenheit\n",
      "#For Brick,\n",
      "deltaT = Q*R1; \t\t\t#Unit:fahrenheit \t\t\t#ohm's law (fourier's equation) \t\t\t#Change in temperature\n",
      "t1 = deltaT;\n",
      "#For Concrete,\n",
      "deltaT = Q*R2; \t\t\t#Unit:fahrenheit \t\t\t#ohm's law (fourier's equation) \t\t\t#Change in temperature\n",
      "t2 = deltaT;\n",
      "#For plaster,\n",
      "deltaT = Q*R3; \t\t\t#Unit:fahrenheit \t\t\t#ohm's law (fourier's equation) \t\t\t#Change in temperature\n",
      "t3 = deltaT;\n",
      "\n",
      "deltaTo = t1+t2+t3; \t\t\t#Overall Change in temperature \t\t\t#fahrenheit\n",
      "print \"The overall change in temperature is %.2f F\"%(abs(deltaTo));\n",
      "#The interface temperature are:\n",
      "print \"The interface temperature are:\";\n",
      "print \"For brick-concrete : %.2f fahrenheit\"%(abs(T2)+abs(t1));\n",
      "print \"For concrete-plaster : %.2f fahrenheit\"%(abs(T2)+abs(t1)+abs(t2));\n"
     ],
     "language": "python",
     "metadata": {},
     "outputs": [
      {
       "output_type": "stream",
       "stream": "stdout",
       "text": [
        "In problem 11.4\n",
        "For brick\n",
        "The resistance is 1.25 hr*F)/Btu\n",
        "For Concrete\n",
        "The resistance is 0.05 hr*F)/Btu\n",
        "For plaster\n",
        "The resistance is 0.14 hr*F)/Btu\n",
        "The overall resistance is 1.44 hr*F)/Btu\n",
        "Heat transfer per square foot of wall is 27.76 Btu/hr*ft**2\n",
        "Now in problem 11.5\n",
        "The overall change in temperature is 40.00 F\n",
        "The interface temperature are:\n",
        "For brick-concrete : 64.70 fahrenheit\n",
        "For concrete-plaster : 66.14 fahrenheit\n"
       ]
      }
     ],
     "prompt_number": 9
    },
    {
     "cell_type": "heading",
     "level": 2,
     "metadata": {},
     "source": [
      "Example 11.6  Page No : 559"
     ]
    },
    {
     "cell_type": "code",
     "collapsed": false,
     "input": [
      "\n",
      "#For Brick,\n",
      "deltaX = 0.150; \t\t\t#Unit:m \t\t\t#150 mm  =  0.150 m \t\t\t#deltaX = length \t\t\t#unit:meter\n",
      "A = 1; \t\t\t#area  \t\t\t#unit:m**2\n",
      "k = 0.692; \t\t\t#Unit:W/(m*C) \t\t\t#k = proportionality constant \t\t\t#k = thermal conductivity \t\t\t#From the table\n",
      "R = deltaX/(k*A); \t\t\t#Thermal resistance \t\t\t#Unit:C/W\n",
      "print \"For brick\"\n",
      "print \"The resistance is %.2f Celcius/W\"%(R);\n",
      "R1 = R;\n",
      "\n",
      "#For Concrete,\n",
      "deltaX = 0.012; \t\t\t#Unit:m \t\t\t#12 mm  =  0.0120 m \t\t\t#deltaX = length \t\t\t#unit:meter\n",
      "A = 1; \t\t\t#area  \t\t\t#unit:m**2\n",
      "k = 1.385; \t\t\t#Unit:W/(m*C) \t\t\t#k = proportionality constant \t\t\t#k = thermal conductivity \t\t\t#From the table\n",
      "R = deltaX/(k*A); \t\t\t#Thermal resistance \t\t\t#Unit:C/W\n",
      "print \"For Concrete\"\n",
      "print \"The resistance is %.2f Celcius/W\"%(R);\n",
      "R2 = R;\n",
      "\n",
      "#For plaster,\n",
      "deltaX = 0.0120; \t\t\t#Unit:m \t\t\t#12 mm  =  0.0120 m \t\t\t#deltaX = length \t\t\t#unit:meter\n",
      "A = 1; \t\t\t#area  \t\t\t#unit:m**2\n",
      "k = 0.519; \t\t\t#Unit:W/(m*C) \t\t\t#k = proportionality constant \t\t\t#k = thermal conductivity \t\t\t#From the table\n",
      "R = deltaX/(k*A); \t\t\t#Thermal resistance \t\t\t#Unit:C/W\n",
      "print \"For plaster\"\n",
      "print \"The resistance is %.2f Celcius/W\"%(R);\n",
      "R3 = R;\n",
      "\n",
      "Ro = R1+R2+R3; \t\t\t#Rot = The overall resistance \t\t\t#unit:C/W\n",
      "print \"The overall resistance is %.2f Celcius/W\"%(Ro);\n",
      "T1 = 0; \t\t\t#temperature maintained at one face \t\t\t#Celcius\n",
      "T2 = 20; \t\t\t#tempetature maintained at other face \t\t\t#Celcius\n",
      "deltaT = T2-T1; \t\t\t#Change in temperature  \t\t\t#Celcius\n",
      "Q = deltaT/Ro; \t\t\t#Q = Heat transfer \t\t\t#Unit:W/m**2; \t\t\t#ohm's law (fourier's equation)\n",
      "print \"Heat transfer per square meter of wall is %.2f W/m**2\"%(abs(Q));\n"
     ],
     "language": "python",
     "metadata": {},
     "outputs": [
      {
       "output_type": "stream",
       "stream": "stdout",
       "text": [
        "For brick\n",
        "The resistance is 0.22 Celcius/W\n",
        "For Concrete\n",
        "The resistance is 0.01 Celcius/W\n",
        "For plaster\n",
        "The resistance is 0.02 Celcius/W\n",
        "The overall resistance is 0.25 Celcius/W\n",
        "Heat transfer per square meter of wall is 80.47 W/m**2\n"
       ]
      }
     ],
     "prompt_number": 10
    },
    {
     "cell_type": "heading",
     "level": 2,
     "metadata": {},
     "source": [
      "Example 11.7  Page No : 560"
     ]
    },
    {
     "cell_type": "code",
     "collapsed": false,
     "input": [
      "\n",
      "print \"In problem 11.6\"\n",
      "#For Brick,\n",
      "deltaX = 0.150; \t\t\t#Unit:m \t\t\t#150 mm  =  0.150 m \t\t\t#deltaX = length \t\t\t#unit:meter\n",
      "A = 1; \t\t\t#area \t\t\t#unit:meter**2\n",
      "k = 0.692; \t\t\t#Unit:W/(m*C) \t\t\t#k = proportionality constant \t\t\t#k = thermal conductivity \t\t\t#From the table\n",
      "R = deltaX/(k*A); \t\t\t#Thermal resistance \t\t\t#Unit:Celcius/W\n",
      "print \"For brick\"\n",
      "print \"The resistance is %.2f Celcius/W\"%(R);\n",
      "R1 = R;\n",
      "\n",
      "#For Concrete,\n",
      "deltaX = 0.012; \t\t\t#Unit:m \t\t\t#12 mm  =  0.0120 m \t\t\t#deltaX = length \t\t\t#unit:meter\n",
      "A = 1; \t\t\t#area  \t\t\t#unit:meter**2\n",
      "k = 1.385; \t\t\t#Unit:W/(m*C) \t\t\t#k = proportionality constant \t\t\t#k = thermal conductivity \t\t\t#From the table\n",
      "R = deltaX/(k*A); \t\t\t#Thermal resistance \t\t\t#Unit:Celcius/W\n",
      "print \"For Concrete\"\n",
      "print \"The resistance is %.2f Celcius/W\"%(R);\n",
      "R2 = R;\n",
      "\n",
      "#For plaster,\n",
      "deltaX = 0.0120; \t\t\t#Unit:m \t\t\t#12 mm  =  0.0120 m \t\t\t#deltaX = length \t\t\t#unit:meter\n",
      "A = 1; \t\t\t#area  \t\t\t#unit:meter**2\n",
      "k = 0.519; \t\t\t#Unit:W/(m*C) \t\t\t#k = proportionality constant \t\t\t#k = thermal conductivity \t\t\t#From the table\n",
      "R = deltaX/(k*A); \t\t\t#Thermal resistance \t\t\t#Unit:Celcius/W\n",
      "print \"For plaster\"\n",
      "print \"The resistance is %.2f Celcius/W\"%(R);\n",
      "R3 = R;\n",
      "\n",
      "Ro = R1+R2+R3; \t\t\t#Rot = The overall resistance Celcius/W\n",
      "print \"The overall resistance is %.2f Celcius/W\"%(Ro);\n",
      "T1 = 0; \t\t\t#temperature maintained at one face \t\t\t#Celcius\n",
      "T2 = 20; \t\t\t#tempetature maintained at other face \t\t\t#Celcius\n",
      "deltaT = T2-T1; \t\t\t#Change in temperature \t\t\t#Celcius\n",
      "Q = deltaT/Ro; \t\t\t#Q = Heat transfer \t\t\t#Unit:W/m**2;\n",
      "print \"Heat transfer per square meter of wall is %.2f W/m**2\"%(abs(Q));\n",
      "\n",
      "print \"Now in problem 11.5\"\n",
      "#deltaT = R*Q \t\t\t#ohm's law (fourier's equation)\n",
      "#For Brick,\n",
      "deltaT = Q*R1; \t\t\t#Unit:Celcius \t\t\t#Change in temperature\n",
      "t1 = deltaT;\n",
      "#For Concrete,\n",
      "deltaT = Q*R2; \t\t\t#Unit:Celcius \t\t\t#Change in temperature\n",
      "t2 = deltaT;\n",
      "#For plaster,\n",
      "deltaT = Q*R3; \t\t\t#Unit:Celcius \t\t\t#Change in temperature\n",
      "t3 = deltaT;\n",
      "\n",
      "deltaTo = t1+t2+t3; \t\t\t#The overall Change in temperature \t\t\t#Celcius\n",
      "print \"The overall change in temperature is %.2f celcius\"%(abs(deltaTo));\n",
      "#The interface temperature are:\n",
      "print \"The interface temperature are:\";\n",
      "print \"%.2f Celcius\"%(abs(deltaTo)-abs(t1));\n",
      "print \"%.2f Celcius\"%(abs(deltaTo)-abs(t1)-abs(t2));\n",
      "print \"%.2f Celcius\"%(abs(deltaTo)-abs(t1)-abs(t2)-abs(t3));\n"
     ],
     "language": "python",
     "metadata": {},
     "outputs": [
      {
       "output_type": "stream",
       "stream": "stdout",
       "text": [
        "In problem 11.6\n",
        "For brick\n",
        "The resistance is 0.22 Celcius/W\n",
        "For Concrete\n",
        "The resistance is 0.01 Celcius/W\n",
        "For plaster\n",
        "The resistance is 0.02 Celcius/W\n",
        "The overall resistance is 0.25 Celcius/W\n",
        "Heat transfer per square meter of wall is 80.47 W/m**2\n",
        "Now in problem 11.5\n",
        "The overall change in temperature is 20.00 celcius\n",
        "The interface temperature are:\n",
        "2.56 Celcius\n",
        "1.86 Celcius\n",
        "-0.00 Celcius\n"
       ]
      }
     ],
     "prompt_number": 11
    },
    {
     "cell_type": "heading",
     "level": 2,
     "metadata": {},
     "source": [
      "Example 11.8  Page No : 561"
     ]
    },
    {
     "cell_type": "code",
     "collapsed": false,
     "input": [
      "from numpy.linalg import inv\n",
      "\n",
      "deltaX = 4./12; \t\t\t#4 inch  =  6/12 feet \t\t\t#deltaX = length \t\t\t#unit:ft\n",
      "A = 7*2.; \t\t\t#area \t\t\t#area = hight*width \t\t\t#unit:ft**2\n",
      "k = 0.090; \t\t\t#Unit:Btu/(hr*ft*F) \t\t\t#k = proportionality constant \t\t\t#k = thermal conductivity for fir \t\t\t#From the table\n",
      "Rfir = deltaX/(k*A); \t\t\t#Resistance of fir \t\t\t#Unit:(hr*F)/Btu\n",
      "print \"For fir\"\n",
      "print \"The resistance is %.2f hr*F)/Btu\"%(Rfir);\n",
      "\n",
      "deltaX = 4./12; \t\t\t#4 inch  =  6/12 feet \t\t\t#deltaX = length \t\t\t#unit:ft\n",
      "A = 7*2; \t\t\t#area \t\t\t#area = hight*width  \t\t\t#unit:ft**2\n",
      "k = 0.065; \t\t\t#Unit:Btu/(hr*ft*F) \t\t\t#k = proportionality constant \t\t\t#k = thermal conductivity for pine \t\t\t#From the table\n",
      "Rpine = deltaX/(k*A); \t\t\t#Resistance of pine \t\t\t#Unit:(hr*F)/Btu\n",
      "print \"For pine\"\n",
      "print \"The resistance is %.2f hr*F)/Btu\"%(Rpine);\n",
      "\n",
      "deltaX = 4./12; \t\t\t#4 inch  =  6/12 feet \t\t\t#deltaX = length \t\t\t#unit:ft\n",
      "A = 7*2; \t\t\t#area \t\t\t#area = hight*width \t\t\t#unit:ft**2\n",
      "k = 0.025; \t\t\t#Unit:Btu/(hr*ft*F) \t\t\t#k = proportionality constant \t\t\t#k = thermal conductivity for corkboard \t\t\t#From the table\n",
      "Rcorkboard = deltaX/(k*A); \t\t\t#Resistance of corkboard \t\t\t#Unit:(hr*F)/Btu\n",
      "print \"For corkboard\"\n",
      "print \"The resistance is %.2f hr*F)/Btu\"%(Rcorkboard);\n",
      "\n",
      "Roverall = inv([[inv([[Rfir]])+inv([[Rpine]])+inv([[Rcorkboard]])]]);\n",
      "print \"The overall resistance is %.2f hr*F)/Btu\"%(Roverall);\n",
      "\n",
      "T1 = 60.; \t\t\t#temperature maintained at one face \t\t\t#unit:fahrenheit\n",
      "T2 = 80.; \t\t\t#tempetature maintained at other face \t\t\t#unit:fahrenheit\n",
      "deltaT = T2-T1; \t\t\t#Change in temperature \t\t\t#unit:fahrenheit\n",
      "Qtotal = deltaT/Roverall; \t\t\t#Q = Total Heat loss \t\t\t#Unit:Btu/hr; \t\t\t#ohm's law (fourier's equation)\n",
      "print \"Total Heat loss from the wall is %.2f Btu/hr\"%(abs(Qtotal));\n",
      "\n",
      "#As a check,\n",
      "Qfir = deltaT/Rfir; \t\t\t#Q = Fir Heat loss \t\t\t#Unit:Btu/hr; \t\t\t#ohm's law (fourier's equation)\n",
      "print \"Heat loss from the wall made of fir is %.2f Btu/hr\"%(abs(Qfir));\n",
      "Qpine = deltaT/Rpine; \t\t\t#Q = Pine Heat loss \t\t\t#Unit:Btu/hr; \t\t\t#ohm's law (fourier's equation)\n",
      "print \"Heat loss from the wall made of pine is %.2f Btu/hr\"%(abs(Qpine));\n",
      "Qcorkboard = deltaT/Rcorkboard; \t\t\t#Q = corkboard Heat loss \t\t\t#Unit:Btu/hr; \t\t\t#ohm's law (fourier's equation)\n",
      "print \"Heat loss from the wall made of corkboard is %.2f Btu/hr\"%(abs(Qcorkboard));\n",
      "Qtotal = Qfir+Qpine+Qcorkboard; \t\t\t#Total Heat loss from the wall \t\t\t#unit:Btu/hr\n",
      "print \"Total Heat loss from the wall is %.2f Btu/hr\"%(abs(Qtotal));\n"
     ],
     "language": "python",
     "metadata": {},
     "outputs": [
      {
       "output_type": "stream",
       "stream": "stdout",
       "text": [
        "For fir\n",
        "The resistance is 0.26 hr*F)/Btu\n",
        "For pine\n",
        "The resistance is 0.37 hr*F)/Btu\n",
        "For corkboard\n",
        "The resistance is 0.95 hr*F)/Btu\n",
        "The overall resistance is 0.13 hr*F)/Btu\n",
        "Total Heat loss from the wall is 151.20 Btu/hr\n",
        "Heat loss from the wall made of fir is 75.60 Btu/hr\n",
        "Heat loss from the wall made of pine is 54.60 Btu/hr\n",
        "Heat loss from the wall made of corkboard is 21.00 Btu/hr\n",
        "Total Heat loss from the wall is 151.20 Btu/hr\n"
       ]
      }
     ],
     "prompt_number": 6
    },
    {
     "cell_type": "heading",
     "level": 2,
     "metadata": {},
     "source": [
      "Example 11.9  Page No : 565"
     ]
    },
    {
     "cell_type": "code",
     "collapsed": false,
     "input": [
      "import math\n",
      "\n",
      "#A bare steel pipe\n",
      "ro = 3.50; \t\t\t#Outside diameter \t\t\t#Unit:in.\n",
      "ri = 3.00; \t\t\t#inside diameter \t\t\t#Unit:in.\n",
      "Ti = 240; \t\t\t#Inside temperature \t\t\t#unit:fahrenheit\n",
      "To = 120; \t\t\t#Outside temperature \t\t\t#unit:fahrenheit\n",
      "L = 5; \t\t\t#Length \t\t\t#Unit:ft\n",
      "deltaT = Ti-To; \t\t\t#Change in temperature \t\t\t#unit:fahrenheit\n",
      "k = 26 \t\t\t#Unit:Btu/(hr*ft*F) \t\t\t#k = proportionality constant \t\t\t#k = thermal conductivity\n",
      "\n",
      "# Calculations\n",
      "Q = (2*math.pi*k*L*deltaT)/math.log(ro/ri); \t\t\t#The heat loss from the pipe \t\t\t#unit:Btu/hr\n",
      "\n",
      "# Results\n",
      "print \"The heat loss from the pipe is %.2f Btu/hr\"%(Q);\n"
     ],
     "language": "python",
     "metadata": {},
     "outputs": [
      {
       "output_type": "stream",
       "stream": "stdout",
       "text": [
        "The heat loss from the pipe is 635856.36 Btu/hr\n"
       ]
      }
     ],
     "prompt_number": 13
    },
    {
     "cell_type": "heading",
     "level": 2,
     "metadata": {},
     "source": [
      "Example 11.10  Page No : 566"
     ]
    },
    {
     "cell_type": "code",
     "collapsed": false,
     "input": [
      "import math\n",
      "\n",
      "#A bare steel pipe\n",
      "ro = 90.; \t\t\t#Outside diameter \t\t\t#Unit:mm\n",
      "ri = 75; \t\t\t#inside diameter \t\t\t#Unit:mm\n",
      "Ti = 110; \t\t\t#Inside temperature \t\t\t#Unit:Celcius\n",
      "To = 40; \t\t\t#Outside temperature \t\t\t#Unit:Celcius\n",
      "L = 2; \t\t\t#Length \t\t\t#Unit:m\n",
      "\n",
      "# Calculations\n",
      "deltaT = Ti-To; \t\t\t#Change in temperature \t\t\t#Unit:Celcius\n",
      "k = 45 \t\t\t#Unit:W/(m*C) \t\t\t#k = proportionality constant \t\t\t#k = thermal conductivity\n",
      "Q = (2*math.pi*k*L*deltaT)/math.log(ro/ri); \t\t\t#The heat loss from the pipe  \t\t\t#unit:W\n",
      "\n",
      "# Results\n",
      "print \"The heat loss from the pipe is %.2f W\"%(Q);\n",
      "\n"
     ],
     "language": "python",
     "metadata": {},
     "outputs": [
      {
       "output_type": "stream",
       "stream": "stdout",
       "text": [
        "The heat loss from the pipe is 217111.28 W\n"
       ]
      }
     ],
     "prompt_number": 14
    },
    {
     "cell_type": "heading",
     "level": 2,
     "metadata": {},
     "source": [
      "Example 11.11  Page No : 567"
     ]
    },
    {
     "cell_type": "code",
     "collapsed": false,
     "input": [
      "import math\n",
      "from numpy.linalg import inv\n",
      "\n",
      "#From problem 11.9,\n",
      "#A bare steel pipe\n",
      "r2 = 3.50; \t\t\t#Outside diameter \t\t\t#Unit:in.\n",
      "r1 = 3.00; \t\t\t#inside diameter \t\t\t#Unit:in.\n",
      "Ti = 240; \t\t\t#Inside temperature \t\t\t#unit:fahrenheit\n",
      "L = 5; \t\t\t#Length \t\t\t#Unit:ft\n",
      "k1 = [[26]]; \t\t\t#Unit:Btu/(hr*ft*F) \t\t\t#k = proportionality constant \t\t\t#k = thermal conductivity\n",
      "ans1 = (inv(k1)*math.log(r2/r1));\n",
      "\n",
      "#Now,in problem 11.11,\n",
      "#Mineral wool\n",
      "r3 = 5.50; \t\t\t#inside diameter \t\t\t#Unit:in.\n",
      "r2 = 3.50; \t\t\t#outside diameter \t\t\t#Unit:in.\n",
      "To = 85; \t\t\t#Outside temperature \t\t\t#unit:fahrenheit\n",
      "deltaT = Ti-To; \t\t\t#Change in temperature \t\t\t#unit:fahrenheit\n",
      "k2 = [[0.026]] \t\t\t#Unit:Btu/(hr*ft*F) \t\t\t#k = proportionality constant \t\t\t#k = thermal conductivity\n",
      "ans2 = (inv(k2)*math.log(r3/r2));\n",
      "\n",
      "Q = (2*math.pi*L*deltaT)/(ans1+ans2); \t\t\t#The heat loss from the pipe  \t\t\t#unit:Btu/hr\n",
      "\n",
      "# Results\n",
      "print \"The heat loss from the pipe is %.2f Btu/hr\"%(Q);\n"
     ],
     "language": "python",
     "metadata": {},
     "outputs": [
      {
       "output_type": "stream",
       "stream": "stdout",
       "text": [
        "The heat loss from the pipe is 280.02 Btu/hr\n"
       ]
      }
     ],
     "prompt_number": 7
    },
    {
     "cell_type": "heading",
     "level": 2,
     "metadata": {},
     "source": [
      "Example 11.12  Page No : 569"
     ]
    },
    {
     "cell_type": "code",
     "collapsed": false,
     "input": [
      "import math\n",
      "from numpy.linalg import inv\n",
      "\n",
      "#From problem 11.9,\n",
      "#The bare pipe\n",
      "r2 = 3.50; \t\t\t#Outside diameter \t\t\t#Unit:in.\n",
      "r1 = 3.00; \t\t\t#inside diameter \t\t\t#Unit:in.\n",
      "Ti = 240.; \t\t\t#Inside temperature \t\t\t#unit:fahrenheit\n",
      "L = 5.; \t\t\t#Length \t\t\t#Unit:ft\n",
      "k = 26.; \t\t\t#Unit:Btu/(hr*ft*F) \t\t\t#k = proportionality constant \t\t\t#k = thermal conductivity\n",
      "Rpipe = math.log(r2/r1)/(2*math.pi*k*L); \t\t\t#the resistance of pipe \t\t\t#Unit:(hr*F)/Btu\n",
      "print \"The resistance of pipe is %.5f hr*F)/Btu\"%(Rpipe);\n",
      "\n",
      "#Now,in problem 11.12,\n",
      "To = 70; \t\t\t#Outside temperature \t\t\t#unit:fahrenheit\n",
      "deltaT = Ti-To; \t\t\t#Change in temperature \t\t\t#unit:fahrenheit\n",
      "h = 0.9; \t\t\t#Coefficient of heat transfer \t\t\t#Unit:Btu/(hr*ft**2*F)\n",
      "A = (math.pi*r2)/12*L;  \t\t\t#Area \t\t\t#Unit:ft**2 \t\t\t#1 inch  =  1/12 feet \t\t\t#unit:ft**2\n",
      "Rconvection = inv([[h*A]]); \t\t\t#The resistance due to natural convection to the surrounding air \t\t\t#Unit:(hr*F)/Btu\n",
      "print \"The resistance due to natural convection to the surrounding air is %.2f hr*F)/Btu\"%(Rconvection);\n",
      "\n",
      "Rtotal = Rpipe+Rconvection; \t\t\t#The total resistance   \t\t\t#unit:(hr*F)/Btu\n",
      "print \"The total resistance is %.2f hr*F)/Btu\"%(Rtotal);\n",
      "Q = deltaT/Rtotal; \t\t\t#ohm's law (fourier's equation) \t\t\t#The heat transfer from the pipe to the surrounding air   \t\t\t#unit:Btu/hr\n",
      "print \"The heat transfer from the pipe to the surrounding air is %.2f Btu/hr\"%(Q);\n"
     ],
     "language": "python",
     "metadata": {},
     "outputs": [
      {
       "output_type": "stream",
       "stream": "stdout",
       "text": [
        "The resistance of pipe is 0.00019 hr*F)/Btu\n",
        "The resistance due to natural convection to the surrounding air is 0.24 hr*F)/Btu\n",
        "The total resistance is 0.24 hr*F)/Btu\n",
        "The heat transfer from the pipe to the surrounding air is 700.42 Btu/hr\n"
       ]
      }
     ],
     "prompt_number": 13
    },
    {
     "cell_type": "heading",
     "level": 2,
     "metadata": {},
     "source": [
      "Example 11.15  Page No : 574"
     ]
    },
    {
     "cell_type": "code",
     "collapsed": false,
     "input": [
      "import math\n",
      "\n",
      "# given data\n",
      "D = 3.5/12; \t\t\t#3.5 inch  =  3.5/12 feet\t\t\t#Unit:ft \t\t\t#Outside diameter\n",
      "Ti = 120; \t\t\t#Inside temperature \t\t\t#unit:fahrenheit\n",
      "To = 70; \t\t\t#Outside temperature \t\t\t#unit:fahrenheit\n",
      "deltaT = Ti-To; \t\t\t#unit:fahrenheit \t\t\t#Change in temperature\n",
      "h = 0.9; \t\t\t#Coefficient of heat transfer \t\t\t#Unit:Btu/(hr*ft**2*F)\n",
      "L = 5; \t\t\t#Length \t\t\t#Unit:ft \t\t\t#From problem 11.10\n",
      "A = (math.pi*D)*L;  \t\t\t#Area \t\t\t#Unit:ft**2 \n",
      "Q = h*A*deltaT; \t\t\t#The heat loss due to convection \t\t\t#Unit:Btu/hr \t\t\t#Newton's law of cooling\n",
      "\n",
      "# Results\n",
      "print \"The heat loss due to convection is %.2f Btu/hr\"%(Q);\n"
     ],
     "language": "python",
     "metadata": {},
     "outputs": [
      {
       "output_type": "stream",
       "stream": "stdout",
       "text": [
        "The heat loss due to convection is 206.17 Btu/hr\n"
       ]
      }
     ],
     "prompt_number": 17
    },
    {
     "cell_type": "heading",
     "level": 2,
     "metadata": {},
     "source": [
      "Example 11.16  Page No : 575"
     ]
    },
    {
     "cell_type": "code",
     "collapsed": false,
     "input": [
      "from numpy.linalg import inv\n",
      "\n",
      "#This problem can not be solved directly,because the individual film resistances aree functions of unknown temperature differences.Therefore,\n",
      "#From the first approximation,\n",
      "h = 1./2; \t\t\t#Coefficient of heat transfer \t\t\t#unit:Btu/(hr*ft**2*F)\n",
      "#For area 1 ft**2,\n",
      "R = (3./12)/0.07; \t\t\t#The wall resistance is deltax/(k*A) \t\t\t#k = 0.07 \t\t\t#Unit:Btu/(hr*ft*F) \t\t\t#k = proportionality constant \t\t\t#k = thermal conductivity\n",
      "Roverall = inv([[1./2]])+inv([[1./2]])+R; \t\t\t#the overall series resistance \t\t\t#Unit:Btu/(hr*ft*F)\n",
      "print \"For h = 0.5, the overall series resistance is %.2f Btu/hr*ft*F)\"%(Roverall);\n",
      "#Using the value of Roverall,we can now obtain Q and individual temperature differences,\n",
      "Ti = 80.; \t\t\t#warm air temperature \t\t\t#unit:fahrenheit\n",
      "To = 50; \t\t\t#cold air temperature \t\t\t#unit:fahrenheit\n",
      "deltaT = Ti-To; \t\t\t#unit:fahrenheit  \t\t\t#Change in temperature\n",
      "Q = deltaT/Roverall; \t\t\t#Unit:Btu/(hr*ft**2) \t\t\t#heat transfer \t\t\t#ohm's law (fourier's equation)\n",
      "print \"For h = 0.5, heat transfer is %.2f Btu/hr*ft**2)\"%(Q);\n",
      "print \"For h = 0.5\"\n",
      "#deltaT through the hot air film is Q/(1/2)\n",
      "print \"Temperaure difference through the hot air film is %.2f F\"%(Q/1./2);\n",
      "#Throught the wall deltaT is R*Q\n",
      "print \"Temperaure difference through the wall is %.2f F\"%(Q*R);\n",
      "#deltaT through the cold air film is Q/(1/2)\n",
      "print \"Temperaure difference through the cold air film is %.2f F\"%(Q/1./2);\n",
      "\n",
      "#With these temperature differences,we can now enter figures 11.12 and 11.14 to verify our approximation.From figure 11.14,we find h = 0.42 Btu/(hr*ft*2*F)\n",
      "#Using h = 0.42,we have for the overall resistance (1/0.42)+(1/0.42)+R\n",
      "h = [[0.42]]; \t\t\t#Coefficient of heat transfer  \t\t\t#unit:Btu/(hr*ft**2*F)\n",
      "Roverall = inv(h)+inv(h)+R; \t\t\t#the overall series resistance \t\t\t#Unit:Btu/(hr*ft*F)\n",
      "print \"For h = 0.42, the overall series resistance is %.2f Btu/hr*ft*F)\"%(Roverall);\n",
      "Q = deltaT/Roverall; \t\t\t#Unit:Btu/(hr*ft**2) \t\t\t#heat transfer \t\t\t#ohm's law (fourier's equation)\n",
      "print \"For h = 0.42, heat transfer is %.2f Btu/hr*ft**2)\"%(Q);\n",
      "print \"For h = 0.42\"\n",
      "# deltat through both air films is Q/h\n",
      "print \"Temperaure difference through the hot and cold air film is %.2f F\"%(Q/h);\n",
      "#and through the wall,deltat is Q*R\n",
      "print \"Temperaure difference through the wall is %.2f F\"%(Q*R);\n",
      "\n",
      "#Entering figure 11.14,we find that h stays essentially 0.42,and our solution is that the heat flow is Q,the \"hot\" side of the wall is at Ti-(Q/h),the \"cold\" side  is at To+(Q/h) ,and temperature drop in the wall is Ti-(Q/h)-(To+(Q/h)).\n",
      "print \"The temperature drop on the hot side of the wall is %.2f F\"%(Ti-Q/h)\n",
      "print \"The temperature drop on the cold side of the wall is %.2f F\"%(To+Q/h)\n",
      "print \"The temperature drop in the wall is %.2f F\"%(((Ti-Q/h)-To+Q/h));\n",
      "#Which checks our wall deltat calculation.\n"
     ],
     "language": "python",
     "metadata": {},
     "outputs": [
      {
       "output_type": "stream",
       "stream": "stdout",
       "text": [
        "For h = 0.5, the overall series resistance is 7.57 Btu/hr*ft*F)\n",
        "For h = 0.5, heat transfer is 3.96 Btu/hr*ft**2)\n",
        "For h = 0.5\n",
        "Temperaure difference through the hot air film is 1.98 F\n",
        "Temperaure difference through the wall is 14.15 F\n",
        "Temperaure difference through the cold air film is 1.98 F\n",
        "For h = 0.42, the overall series resistance is 8.33 Btu/hr*ft*F)\n",
        "For h = 0.42, heat transfer is 3.60 Btu/hr*ft**2)\n",
        "For h = 0.42\n",
        "Temperaure difference through the hot and cold air film is 8.57 F\n",
        "Temperaure difference through the wall is 12.86 F\n",
        "The temperature drop on the hot side of the wall is 71.43 F\n",
        "The temperature drop on the cold side of the wall is 58.57 F\n",
        "The temperature drop in the wall is 30.00 F\n"
       ]
      }
     ],
     "prompt_number": 16
    },
    {
     "cell_type": "heading",
     "level": 2,
     "metadata": {},
     "source": [
      "Example 11.17  Page No : 578"
     ]
    },
    {
     "cell_type": "code",
     "collapsed": false,
     "input": [
      "\n",
      "#The first step is to check Reynolds number.It will be recalled that the Reynolds number is given by (D*V*rho)/mu and is dimensionless.Therefore,we can use D,      diameter in feet;V velocity in ft/hr;rho density in lbm/ft**3 and mu vismath.cosity in lbm/(ft*hr).\n",
      "#Alternatively,the Reynolds number is given by (D*G)/mu,where G is the mass flow rate per unit area (lbm/(hr*ft**2)).\n",
      "G = ((20*60)*(4*144)/(math.pi*0.87**2)); \t\t\t#Unit:lbm/(hr*ft**2)  \t\t\t#Inside diameter = 0.87 inch \t\t\t#\t\t\t#1 in.**2 = 144 ft**2 \t\t\t#20 lbm/min of water(min converted to second)\n",
      "#the vismath.cosity of air at these conditions is obtained from figure 11.17 as 0.062 lbm/(ft*hr).So,\n",
      "mu = 0.33; \t\t\t#the vismath.cosity of air \t\t\t#unit:lbm/(ft*hr)\n",
      "D = 0.87/12; \t\t\t#Inside diameter \t\t\t#1 in**2 = 144 ft**2\n",
      "#Therefore Reynolds number is \n",
      "Re = (D*G)/mu; \t\t\t#Reynolds number\n",
      "#which is well into the turbulent flow regime.\n",
      "print \"The Reynolds number is %.2f\"%(Re);\n",
      "#The next step is to enter Figure 11.18 at W/1000 of 20*(60/1000) = 1.2 and 400F to obtain h1 = 630.\n",
      "#From the figure 11.20,we obtain F = 1.25 for an inside diameter of 0.87 inch.So,\n",
      "h1 = 630; \t\t\t#basic heat transfer coefficient \t\t\t#unit:Btu/(hr*ft**2*F)\n",
      "F = 1.25; \t\t\t#correction factor\n",
      "h = h1*F; \t\t\t#heat transfer coefficient \t\t\t#the inside film coefficient \t\t\t#unit:Btu/(hr*ft**2*F)\n",
      "print \"The heat-transfer coefficient is %.2f Btu/hr*ft**2*F)\"%(h);\n"
     ],
     "language": "python",
     "metadata": {},
     "outputs": [
      {
       "output_type": "stream",
       "stream": "stdout",
       "text": [
        "The Reynolds number is 63861.54\n",
        "The heat-transfer coefficient is 787.50 Btu/hr*ft**2*F)\n"
       ]
      }
     ],
     "prompt_number": 22
    },
    {
     "cell_type": "heading",
     "level": 2,
     "metadata": {},
     "source": [
      "Example 11.18  Page No : 579"
     ]
    },
    {
     "cell_type": "code",
     "collapsed": false,
     "input": [
      "\n",
      "#We first check the Reynolds number and note that G is same as for problem 11.17.So,\n",
      "#G is the mass flow rate per unit area (lbm/(hr*ft**2)).\n",
      "G = ((20*60)*(4*144))/(math.pi*(0.87**2)); \t\t\t#Unit:lbm/(hr*ft**2)  \t\t\t#Inside diameter = 0.87 inch \t\t\t#\t\t\t#1 in.**2 = 144 ft**2 \t\t\t#20 lbm/min of water(min converted to second)\n",
      "#the vismath.cosity of air at these conditions is obtained from figure 11.17 as 0.062 lbm/(ft*hr).So,\n",
      "mu = 0.062; \t\t\t#the vismath.cosity of air \t\t\t#unit:lbm/(ft*hr)\n",
      "D = 0.87/12; \t\t\t#Inside diameter \t\t\t#1 in**2 = 144 ft**2\n",
      "#Reynolds number is DG/mu,therefore \n",
      "Re = (D*G)/mu; \t\t\t#Reynolds number\n",
      "print \"The Reynolds number is %.2f\"%(Re);\n",
      "#which places the flow in the turbulent regime.Because W/1000(W = weight flow) is same as for problem 11.17 and equals 1.2,we now enter figure 11.19 at 1.2 and 400F   to obtain h1 = 135.Because the inside tube diameter is same as before,F = 1.25.Therefore,\n",
      "h1 = 135; \t\t\t#basic heat transfer coefficient \t\t\t#unit:Btu/(hr*ft**2*F)\n",
      "F = 1.25; \t\t\t#correction factor\n",
      "h = h1*F; \t\t\t#heat transfer coefficient \t\t\t#the inside film coefficient \t\t\t#unit:Btu/(hr*ft**2*F)\n",
      "print \"The inside film coefficient is %.2f Btu/hr*ft**2*F)\"%(h);\n",
      "#It is interesting that for equal mass flow rates,water yields a heat-transfer coefficient almost five times greater than air\n"
     ],
     "language": "python",
     "metadata": {},
     "outputs": [
      {
       "output_type": "stream",
       "stream": "stdout",
       "text": [
        "The Reynolds number is 339908.22\n",
        "The inside film coefficient is 168.75 Btu/hr*ft**2*F)\n"
       ]
      }
     ],
     "prompt_number": 23
    },
    {
     "cell_type": "heading",
     "level": 2,
     "metadata": {},
     "source": [
      "Example 11.19  Page No : 586"
     ]
    },
    {
     "cell_type": "code",
     "collapsed": false,
     "input": [
      "\n",
      "#A bare steel pipe\n",
      "#From the Table 11.5,case 2,\n",
      "Fe = 0.79; \t\t\t#Emissivity factor to allow for the departure of the surfaces interchanging heat from complete blackness;Fe is a function of the surface emissivities and       configurations\n",
      "FA = 1; \t\t\t#geometric factor to allow for the average solid angle through which one surface \"sees\" the other\n",
      "sigma = 0.173*10**-8; \t\t\t#Stefan-Boltzmann constant \t\t\t#Unit:Btu/(hr*ft**2*R**4)\n",
      "T1 = 120+460; \t\t\t#outside temperature \t\t\t#Unit:R \t\t\t#fahrenheit converted to absolute temperature\n",
      "T2 = 70+460; \t\t\t#inside temperature \t\t\t#Unit:R \t\t\t#fahrenheit converted to absolute temperature\n",
      "D = 3.5/12; \t\t\t#3.5 inch  =  3.5/12 feet\t\t\t#Unit:ft \t\t\t#Outside diameter\n",
      "L = 5; \t\t\t#Length \t\t\t#Unit:ft \t\t\t#From problem 11.10\n",
      "A = (math.pi*D)*L;  \t\t\t#Area \t\t\t#Unit:ft**2 \n",
      "Q = sigma*Fe*FA*A*(T1**4-T2**4); \t\t\t#The net interchange of heat by radiation between two bodies at different temperatures \t\t\t#Unit:Btu/hr \t\t\t#\t\t\t#Stefan-Boltzmann law\n",
      "\n",
      "# Results\n",
      "print \"The heat loss by radiation is %.2f Btu/hr\"%(Q);\n"
     ],
     "language": "python",
     "metadata": {},
     "outputs": [
      {
       "output_type": "stream",
       "stream": "stdout",
       "text": [
        "The heat loss by radiation is 214.52 Btu/hr\n"
       ]
      }
     ],
     "prompt_number": 24
    },
    {
     "cell_type": "heading",
     "level": 2,
     "metadata": {},
     "source": [
      "Example 11.20  Page No : 588"
     ]
    },
    {
     "cell_type": "code",
     "collapsed": false,
     "input": [
      "\n",
      "#The upper temperature is given as 120 F and the temperature difference is \n",
      "Ti = 120; \t\t\t#Inside temperature \t\t\t#unit:fahrenheit\n",
      "To = 70; \t\t\t#Outside temperature \t\t\t#unit:fahrenheit\n",
      "deltaT = 120-70; \t\t\t#unit:fahrenheit \t\t\t#Change in temperature\n",
      "#Using figure 11.28, \n",
      "hrdash = 1.18; \t\t\t#factor for radiation coefficient \t\t\t#Unit:Btu/(hr*ft**2*F)\n",
      "Fe = 1; \t\t\t#Emissivity factor to allow for the departure of the surfaces interchanging heat from complete blackness;Fe is a function of the surface emissivities and       configurations\n",
      "FA = 0.79; \t\t\t#geometric factor to allow for the average solid angle through which one surface \"sees\" the other\n",
      "hr = Fe*FA*hrdash; \t\t\t#The radiation heat-transfer coefficient for the pipe \t\t\t#Unit:Btu/(hr*ft**2*F)\n",
      "print \"The radiation heat-transfer coefficient for the pipe is %.2f Btu/hr*ft**2*F)\"%(hr);\n",
      "\n",
      "#As a check,Using the results of problem 11.17,\n",
      "print \"As a check, Using the results of problem 11.17\"\n",
      "D = 3.5/12; \t\t\t#3.5 inch  =  3.5/12 feet\t\t\t#Unit:ft \t\t\t#Outside diameter\n",
      "L = 5; \t\t\t#Length \t\t\t#Unit:ft \t\t\t#From problem 11.10\n",
      "A = (math.pi*D)*L;  \t\t\t#Area \t\t\t#Unit:ft**2 \n",
      "Q = 214.5; \t\t\t#heat loss \t\t\t#Unit:Btu/hr\n",
      "hr = Q/(A*deltaT); \t\t\t#The radiation heat-transfer coefficient for the pipe \t\t\t#Unit:Btu/(hr*ft**2*F) \t\t\t#Newton's law of cooling\n",
      "print \"The radiation heat-transfer coefficient for the pipe is %.2f Btu/hr*ft**2*F)\"%(hr);\n"
     ],
     "language": "python",
     "metadata": {},
     "outputs": [
      {
       "output_type": "stream",
       "stream": "stdout",
       "text": [
        "The radiation heat-transfer coefficient for the pipe is 0.93 Btu/hr*ft**2*F)\n",
        "As a check, Using the results of problem 11.17\n",
        "The radiation heat-transfer coefficient for the pipe is 0.94 Btu/hr*ft**2*F)\n"
       ]
      }
     ],
     "prompt_number": 25
    },
    {
     "cell_type": "heading",
     "level": 2,
     "metadata": {},
     "source": [
      "Example 11.21  Page No : 589"
     ]
    },
    {
     "cell_type": "code",
     "collapsed": false,
     "input": [
      "\n",
      "#Because the conditions of illustrative problem 11.15 are the same as for problem 11.19 and 11.20,we can solve this problem in two ways to obtain a check.\n",
      "#Thus,adding the results of these problems yields,\n",
      "print \"Adding the results of the problems yields\"\n",
      "Qtotal = 206.2+214.5; \t\t\t#Unit:Btu/hr \t\t\t#total heat loss\n",
      "print \"The heat loss due to convection is %.2f Btu/hr\"%(Qtotal);\n",
      "\n",
      "#We can also approach this solution by obtaining radiation and convection heat-transfer co-efficcient.Thus,\n",
      "hcombined = 0.9+0.94; \t\t\t#Coefficient of heat transfer \t\t\t#Unit:Btu/(hr*ft**2*F)\n",
      "D = 3.5/12; \t\t\t#3.5 inch  =  3.5/12 feet \t\t\t#Unit:ft \t\t\t#Outside diameter\n",
      "Ti = 120; \t\t\t#Inside temperature \t\t\t#unit:fahrenheit\n",
      "To = 70; \t\t\t#Outside temperature \t\t\t#unit:fahrenheit\n",
      "deltaT = Ti-To; \t\t\t#unit:fahrenheit \t\t\t#Change in temperature\n",
      "L = 5; \t\t\t#Length \t\t\t#Unit:ft \t\t\t#From problem 11.10\n",
      "A = (math.pi*D)*L;  \t\t\t#Area \t\t\t#Unit:ft**2 \n",
      "Qtotal = hcombined*A*deltaT; \t\t\t#Unit:Btu/hr \t\t\t#total heat loss due to convection \t\t\t#Newton's law of cooling\n",
      "print \"By obtaining radiation and convection heat-transfer co-efficcient\"\n",
      "print \"The heat loss due to convection is %.2f Btu/hr\"%(Qtotal);\n"
     ],
     "language": "python",
     "metadata": {},
     "outputs": [
      {
       "output_type": "stream",
       "stream": "stdout",
       "text": [
        "Adding the results of the problems yields\n",
        "The heat loss due to convection is 420.70 Btu/hr\n",
        "By obtaining radiation and convection heat-transfer co-efficcient\n",
        "The heat loss due to convection is 421.50 Btu/hr\n"
       ]
      }
     ],
     "prompt_number": 26
    },
    {
     "cell_type": "heading",
     "level": 2,
     "metadata": {},
     "source": [
      "Example 11.22  Page No : 595"
     ]
    },
    {
     "cell_type": "code",
     "collapsed": false,
     "input": [
      "from numpy.linalg import inv\n",
      "\n",
      "#For brick,concrete,plaster,hot film and cold film,\n",
      "A = 1.; \t\t\t#area \t\t\t#Unit:ft**2\n",
      "#For a plane wall,the areas are all the same,and if we use 1 ft**2 of wall surface as the reference area,\n",
      "#For Brick,\n",
      "deltax = 6./12; \t\t\t#6 inch  =  6/12 feet \t\t\t#deltax = length \t\t\t#unit:ft\n",
      "k = 0.40; \t\t\t#Unit:Btu/(hr*ft*F) \t\t\t#k = proportionality constant \t\t\t#k = thermal conductivity \t\t\t#From the table\n",
      "brickResistance = deltax/(k*A); \t\t\t#Thermal resistance \t\t\t#Unit:(hr*f)/Btu\n",
      "print \"For brick\";\n",
      "print \"The resistance is %.2f hr*F)/Btu\"%(brickResistance);\n",
      "\n",
      "#For Concrete,\n",
      "deltax = (1./2)/12; \t\t\t#(1/2) inch  =  (1/2)/12 feet \t\t\t#deltax = length \t\t\t#unit:ft\n",
      "k = 0.80; \t\t\t#Unit:Btu/(hr*ft*F) \t\t\t#k = proportionality constant \t\t\t#k = thermal conductivity \t\t\t#From the table\n",
      "concreteResistance = deltax/(k*A); \t\t\t#Thermal resistance \t\t\t#Unit:(hr*f)/Btu\n",
      "print \"For Concrete\"\n",
      "print \"The resistance is %.2f hr*F)/Btu\"%(concreteResistance);\n",
      "\n",
      "#For plaster,\n",
      "deltax = (1./2)/12; \t\t\t# (1/2) inch  =  6/12 feet \t\t\t#deltax = length \t\t\t#unit:ft\n",
      "k = 0.30; \t\t\t#Unit:Btu/(hr*ft*F) \t\t\t#k = proportionality constant \t\t\t#k = thermal conductivity \t\t\t#From the table\n",
      "plasterResistance = deltax/(k*A); \t\t\t#Thermal resistance \t\t\t#Unit:(hr*f)/Btu\n",
      "print \"For plaster\";\n",
      "print \"The resistance is %.2f hr*F)/Btu\"%(plasterResistance);\n",
      "\n",
      "#For \"hot film\",\n",
      "h = 0.9; \t\t\t#Coefficient of heat transfer \t\t\t#Unit:Btu/(hr*ft**2*F)\n",
      "hotfilmResistance = inv([[h*A]]); \t\t\t#Thermal resistance \t\t\t#Unit:(hr*f)/Btu\n",
      "print \"For hot film\"\n",
      "print \"The resistance is %.2f hr*F)/Btu\"%(hotfilmResistance);\n",
      "\n",
      "#For \"cold film\",\n",
      "h = 1.5; \t\t\t#Coefficient of heat transfer \t\t\t#Unit:Btu/(hr*ft**2*F)\n",
      "coldfilmResistance = inv([[h*A]]); \t\t\t#Thermal resistance \t\t\t#Unit:(hr*f)/Btu\n",
      "print \"For cold film\"\n",
      "print \"The resistance is %.2f hr*F)/Btu\"%(coldfilmResistance);\n",
      "\n",
      "totalResistance = brickResistance+concreteResistance+plasterResistance+hotfilmResistance+coldfilmResistance; \t\t\t#the overall resistance  \t\t\t#Unit:(hr*f)/Btu\n",
      "print \"The overall resistance is %.2f hr*F)/Btu\"%(totalResistance);\n",
      "\n",
      "U = inv([[totalResistance]]); \t\t\t#Unit:Btu/(hr*ft**2) \t\t\t#The overall conducmath.tance(or overall heat-transfer coefficient)\n",
      "print \"The overall conductanceor overall heat-transfer coefficient) is %.2f Btu/hr/ft**2)\"%(U);\n",
      "#In problem 11.21,the solution is straightforward,because the heat-transfer area is constant for all series resistances.\n"
     ],
     "language": "python",
     "metadata": {},
     "outputs": [
      {
       "output_type": "stream",
       "stream": "stdout",
       "text": [
        "For brick\n",
        "The resistance is 1.25 hr*F)/Btu\n",
        "For Concrete\n",
        "The resistance is 0.05 hr*F)/Btu\n",
        "For plaster\n",
        "The resistance is 0.14 hr*F)/Btu\n",
        "For hot film\n",
        "The resistance is 1.11 hr*F)/Btu\n",
        "For cold film\n",
        "The resistance is 0.67 hr*F)/Btu\n",
        "The overall resistance is 3.22 hr*F)/Btu\n",
        "The overall conductanceor overall heat-transfer coefficient) is 0.31 Btu/hr/ft**2)\n"
       ]
      }
     ],
     "prompt_number": 18
    },
    {
     "cell_type": "heading",
     "level": 2,
     "metadata": {},
     "source": [
      "Example 11.23  Page No : 596"
     ]
    },
    {
     "cell_type": "code",
     "collapsed": false,
     "input": [
      "import math\n",
      "\n",
      "# given data\n",
      "hi = 45; \t\t\t#Film coefficient on the inside of the pipe \t\t\t#Unit:Btu/(hr*ft**2*F)\n",
      "r1 = 3.0/2; \t\t\t#Inside radius \t\t\t#Unit:inch\n",
      "k1 = 26; \t\t\t#Unit:Btu/(hr*ft**2*F) \t\t\t#k = proportionality constant for steel pipe \t\t\t#k = thermal conductivity for fir \t\t\t#From the table\n",
      "r2 = 3.5/2; \t\t\t#outide radius \t\t\t#Unit:inch\n",
      "k2 = 0.026; \t\t\t#Unit:Btu/(hr*ft**2*F) \t\t\t#k = proportionality constant for mineral wool \t\t\t#k = thermal conductivity for fir \t\t\t#From the table\n",
      "r3 = 5.50/2; \t\t\t#radius \t\t\t#Unit:inch\n",
      "ho = 0.9; \t\t\t#Film coefficient on the outside of the pipe \t\t\t#Unit:Btu/(hr*ft**2*F)\n",
      "#Results of problem 11.23,\n",
      "Ui = 1/((1/hi)+((r1/(k1*12))*math.log(r2/r1))+((r1/(k2*12))*math.log(r3/r2))+(1/(ho*(r3/r1)))); \t\t\t#Unit:Btu/(hr*ft**2*F) \t\t\t#1 in. = 12 ft \t\t\t#Heat transfer coefficient based on inside surface \n",
      "print \"Heat transfer coefficient based on inside surface is %.2f Btu/hr*ft**2*F)\"%(Ui); \n",
      "#Because Uo*Ao = Ui*Ai\n",
      "Uo = Ui*(r1/r3); \t\t\t#Heat transfer coefficient based on outside surface \t\t\t#Unit:Btu/(hr*ft**2*F)\n",
      "print \"Heat transfer coefficient based on outside surface is %.2f Btu/hr*ft**2*F)\"%(Uo);\n"
     ],
     "language": "python",
     "metadata": {},
     "outputs": [
      {
       "output_type": "stream",
       "stream": "stdout",
       "text": [
        "Heat transfer coefficient based on inside surface is 0.36 Btu/hr*ft**2*F)\n",
        "Heat transfer coefficient based on outside surface is 0.20 Btu/hr*ft**2*F)\n"
       ]
      }
     ],
     "prompt_number": 29
    },
    {
     "cell_type": "heading",
     "level": 2,
     "metadata": {},
     "source": [
      "Example 11.24  Page No : 601"
     ]
    },
    {
     "cell_type": "code",
     "collapsed": false,
     "input": [
      "import math\n",
      "\n",
      "#A COUNTERFLOW HEAT EXCHANGER\n",
      "#Hot oil enters at 215 F and leaves at 125 F\n",
      "#Water enters the unit at 60 F and leaves at 90 F\n",
      "#Therefore,From figure 11.34, \n",
      "thetaA = 215.-90; \t\t\t#the greatest temperature difference between the fluids(at either inlet or outlet) \t\t\t#Unit:fahrenheit\n",
      "thetaB = 125.-60; \t\t\t#the least temperature difference between the fluids(at either inlet or outlet) \t\t\t#Unit:fahrenheit\n",
      "deltaTm = (thetaA-thetaB)/math.log(thetaA/thetaB); \t\t\t#math.logarithmic mean temperature difference \t\t\t#Unit:fahrenheit \n",
      "#From the oil data,\n",
      "m = 400*60;  \t\t\t#mass \t\t\t#Unit:lb/sec \t\t\t#1 min = 60 sec\n",
      "Cp = 0.85; \t\t\t#Specific heat of the oil \t\t\t#Unit:Btu/(lb*F)\n",
      "deltaT = 215.-125;  \t\t\t#Change in temperature \t\t\t#Unit:fahrenheit\n",
      "Q = m*Cp*deltaT \t\t\t#The heat transfer \t\t\t#Unit:Btu/hr\n",
      "#Q = U*A*deltaTm\n",
      "U = 40.;\t\t\t#The overall coefficient of heat transfer of the unit \t\t\t#Unit:Btu/(hr*ft**2*F)\n",
      "A = Q/(U*deltaTm); \t\t\t#Umit:ft**2 \t\t\t#The outside surface area\n",
      "print \"The outside surface area required is %.2f ft**2\"%(A);\n",
      "\n"
     ],
     "language": "python",
     "metadata": {},
     "outputs": [
      {
       "output_type": "stream",
       "stream": "stdout",
       "text": [
        "The outside surface area required is 500.25 ft**2\n"
       ]
      }
     ],
     "prompt_number": 30
    },
    {
     "cell_type": "heading",
     "level": 2,
     "metadata": {},
     "source": [
      "Example 11.25  Page No : 602"
     ]
    },
    {
     "cell_type": "code",
     "collapsed": false,
     "input": [
      "import math\n",
      "\n",
      "\n",
      "#In problem 11.24, A COUNTERFLOW HEAT EXCHANGER is operated in the parallel flow\n",
      "#Hot oil enters at 215 F and leaves at 125 F\n",
      "#Water enters the unit at 60 F and leaves at 90 F\n",
      "#Therefore,From figure 11.35, \n",
      "thetaA = 215.-60; \t\t\t#the greatest temperature difference between the fluids(at either inlet or outlet) \t\t\t#Unit:fahrenheit\n",
      "thetaB = 125.-90; \t\t\t#the least temperature difference between the fluids(at either inlet or outlet) \t\t\t#Unit:fahrenheit\n",
      "deltaTm = (thetaA-thetaB)/math.log(thetaA/thetaB); \t\t\t#math.logarithmic mean temperature difference \t\t\t#Unit:fahrenheit \n",
      "#From the oil data,\n",
      "m = 400*60.;  \t\t\t#mass \t\t\t#Unit:lb/sec \t\t\t#1 min = 60 sec\n",
      "Cp = 0.85; \t\t\t#Specific heat of the oil \t\t\t#Unit:Btu/(lb*F)\n",
      "deltaT = 215.-125;  \t\t\t#Change in temperature  \t\t\t#Unit:fahrenheit\n",
      "Q = m*Cp*deltaT \t\t\t#The heat transfer \t\t\t#Unit:Btu/hr\n",
      "#Q = U*A*deltaTm\n",
      "U = 40.;\t\t\t#The overall coefficient of heat transfer of the unit \t\t\t#Unit:Btu/(hr*ft**2*F)\n",
      "A = Q/(U*deltaTm); \t\t\t#Umit:ft**2 \t\t\t#The outside surface area\n",
      "print \"The outside surface area required is %.2f ft**2\"%(A);"
     ],
     "language": "python",
     "metadata": {},
     "outputs": [
      {
       "output_type": "stream",
       "stream": "stdout",
       "text": [
        "The outside surface area required is 569.19 ft**2\n"
       ]
      }
     ],
     "prompt_number": 32
    },
    {
     "cell_type": "heading",
     "level": 2,
     "metadata": {},
     "source": [
      "Example 11.26  Page No : 603"
     ]
    },
    {
     "cell_type": "code",
     "collapsed": false,
     "input": [
      "\n",
      "#From the table 11.7,\n",
      "#For the oil side,a resistance(fouling factor) of 0.005 (hr*F*ft**2)/Btu can be used\n",
      "#and for the water side,a fouling factor of 0.001 (hr*F*ft**2)/Btu can be used\n",
      "#From problem 11.25,\n",
      "U = 40;\t\t\t#The coefficient of heat transfer of the unit \t\t\t#Unit:Btu/(hr*ft**2*F)\n",
      "#therefore,\n",
      "Roil = 0.005; \t\t\t#unit:(hr*ft**2*F)/Btu \t\t\t#resistance at oil side\n",
      "Rwater = 0.001; \t\t\t#unit:(hr*ft**2*F)/Btu \t\t\t#resistance for water side\n",
      "invU = 0.025             # Inv of U\n",
      "Rcleanunit = invU; \t\t\t#unit:(hr*ft**2*F)/Btu \t\t\t#resistance at clean unit\n",
      "Roverall = Roil+Rwater+Rcleanunit; \t\t\t#unit:(hr*ft**2*F)/Btu \t\t\t#overall resistance\n",
      "invRoverall = 32.258065;\n",
      "Uoverall = invRoverall; \t\t\t#Unit:Btu/(hr*ft**2*F) \t\t\t#The overall coefficient of heat transfer of the unit\n",
      "#Because all the parameters are the same,the surface area required will vary inversely as U\n",
      "A = 569*(U/Uoverall); \t\t\t#A = 569 ft**2 in the problem 11.25 \t\t\t#unit:ft**2  \t\t\t#The outside surface area\n",
      "print \"The outside surface area required is %.2f ft**2\"%(A);\n"
     ],
     "language": "python",
     "metadata": {},
     "outputs": [
      {
       "output_type": "stream",
       "stream": "stdout",
       "text": [
        "The outside surface area required is 705.56 ft**2\n"
       ]
      }
     ],
     "prompt_number": 3
    },
    {
     "cell_type": "heading",
     "level": 2,
     "metadata": {},
     "source": [
      "Example 11.27  Page No : 605"
     ]
    },
    {
     "cell_type": "code",
     "collapsed": false,
     "input": [
      "\n",
      "#HEAT EXCHANGER\n",
      "#Oil flows in the tube side and is cooled from  280 F to 140 F\n",
      "#Therefore,\n",
      "t2 = 140.; \t\t\t#Unit:fahrenheit\n",
      "t1 = 280.; \t\t\t#Unit:fahrenheit\n",
      "#On the shell side,water is heated from 85 F to 115 F\n",
      "T1 = 85.; \t\t\t#Unit:fahrenheit\n",
      "T2 = 115.; \t\t\t#Unit:fahrenheit\n",
      "P = (t2-t1)/(T1-t1); \n",
      "R = (T1-T2)/(t2-t1);\n",
      "#From the figure,\n",
      "F = 0.91;\t\t\t#Correction factor\n",
      "LMTD = ((t1-T2)-(t2-T1))/math.log((t1-T2)/(t2-T1)); \t\t\t#LMTD = Log mean temperature difference \t\t\t#Unit:fahrenheit\n",
      "TMTD = F*LMTD; \t\t\t#TMTD = True mean temperature difference \t\t\t#Unit:fahrenheit\n",
      "\n",
      "# Results\n",
      "print \"The true mean temperature is %.2f fahrenheit\"%(TMTD);\n",
      "\n"
     ],
     "language": "python",
     "metadata": {},
     "outputs": [
      {
       "output_type": "stream",
       "stream": "stdout",
       "text": [
        "The true mean temperature is 91.11 fahrenheit\n"
       ]
      }
     ],
     "prompt_number": 34
    }
   ],
   "metadata": {}
  }
 ]
}