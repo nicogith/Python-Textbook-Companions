{
 "metadata": {
  "name": "",
  "signature": "sha256:66356009206cf2a059db6adf4246ee44a4d1b30e2da1d2c932b5c468912f3519"
 },
 "nbformat": 3,
 "nbformat_minor": 0,
 "worksheets": [
  {
   "cells": [
    {
     "cell_type": "heading",
     "level": 1,
     "metadata": {},
     "source": [
      "Chapter 7 : Mixtures of Ideal Gases"
     ]
    },
    {
     "cell_type": "heading",
     "level": 2,
     "metadata": {},
     "source": [
      "Example 7.1  Page No : 322"
     ]
    },
    {
     "cell_type": "code",
     "collapsed": false,
     "input": [
      "\n",
      "#As the basis of the calculation,assume that we have 1 lbm of mixture.Also,take the molecular weight of oxygen to be 32.00 and nitrogen to be 28.02.(from table7.1)\n",
      "print \"Solution for a\";\n",
      "nO2 = 0.2315/32; \t\t\t#no of moles of oxygen = ratio of mass and molecular weight \t\t\t#0.2315 lb of oxygen per pound\n",
      "print \"The moles of oxygen is %.2f mole/lbm of mixture\"%(nO2);\n",
      "nN2 = 0.7685/28.02; \t\t\t#no of moles of nitrogen = ratio of mass and molecular weight \t\t\t#0.7685 lb of nitrogen per pound\n",
      "print \"The moles of nitrogen is %.2f mole/lbm of mixture\"%(nN2);\n",
      "nm = nO2+nN2; \t\t\t#Unit:Mole/lbm \t\t\t#number of moles of gas mixture is sum of the moles of its constituent gases\n",
      "print \"The total number of moles is %.2f mole/lbm\"%(nm); \n",
      "xO2 = nO2/nm; \t\t\t#mole fraction of oxygen = ratio of no of moles of oxygen and total moles in mixture\n",
      "xN2 = nN2/nm; \t\t\t#mole fraction of nitrogen = ratio of no of moles of oxygen and total moles in mixture\n",
      "print \"The mole fraction of oxygen is %.2f and the mole fraction of nitrogen is %.2f\"%(xO2,xN2);\n",
      "#(Check:xO2+xN2 = 1)\n",
      "print \"xO2+xN2 = %.2f\"%(xO2+xN2);\n",
      "\n",
      "print \"Solution for b\";\n",
      "# the air is at 14.7 psia\n",
      "pO2 = xO2*14.7; \t\t\t#the partial pressure of oxygen = pressure of air * the mole fraction of oxygen \t\t\t#psia\n",
      "print \"The partial pressure of oxygen is %.2f psia\"%(pO2);\n",
      "pN2 = xN2*14.7; \t\t\t#the partial pressure of nitrogen = pressure of air * the mole fraction of nitrogen \t\t\t#psia\n",
      "print \"The partial pressure of nitrogen is %.2f psia\"%(pN2);\n",
      "\n",
      "print \"Solution for c\";\n",
      "MWm = (xO2*32) + (xN2*28.02); \t\t\t#the molecular weight of air = sum of products of mole fraction of each gas component\n",
      "print \"The molecular weight of air is %.2f\"%(MWm);\n",
      "\n",
      "print \"Solution for d\";\n",
      "Rm = 1545/MWm; \t\t\t#the gas constant of air\n",
      "print \"The gas constant of air is %.2f\"%(Rm);\n"
     ],
     "language": "python",
     "metadata": {},
     "outputs": [
      {
       "output_type": "stream",
       "stream": "stdout",
       "text": [
        "Solution for a\n",
        "The moles of oxygen is 0.01 mole/lbm of mixture\n",
        "The moles of nitrogen is 0.03 mole/lbm of mixture\n",
        "The total number of moles is 0.03 mole/lbm\n",
        "The mole fraction of oxygen is 0.21 and the mole fraction of nitrogen is 0.79\n",
        "xO2+xN2 = 1.00\n",
        "Solution for b\n",
        "The partial pressure of oxygen is 3.07 psia\n",
        "The partial pressure of nitrogen is 11.63 psia\n",
        "Solution for c\n",
        "The molecular weight of air is 28.85\n",
        "Solution for d\n",
        "The gas constant of air is 53.55\n"
       ]
      }
     ],
     "prompt_number": 2
    },
    {
     "cell_type": "heading",
     "level": 2,
     "metadata": {},
     "source": [
      "Example 7.2  Page No : 323"
     ]
    },
    {
     "cell_type": "code",
     "collapsed": false,
     "input": [
      "\n",
      "#For Gaseous Freon-12 (CCl2F2)\n",
      "#MW of air = 29 & MW of freon-12 = 120.9\n",
      "#initial pressure in math.tank is atmospheric pressure that is 14.7 psia\n",
      "#final pressure of math.tank is 1000 psia\n",
      "#The partial pressure of the Freon-12 is 1000-14.7\n",
      "print \"The partial pressure of the Freon-12 is %.2f\"%(1000-14.7)\n",
      "#the mole fraction of air = the initial pressure / final pressure\n",
      "print \"The mole fraction of air is %.2f\"%(14.7/1000)\n",
      "#the mole fraction of freon = the partial pressure of freon / the final pressure\n",
      "print \"The mole fraction of Freon-12 is %.2f\"%((1000-14.7)/1000)\n",
      "MWm = ((14.7/1000)*29) + (((1000-14.7)/1000)*120.9);\t\t\t#the molecular weight of mixture = sum of products of mole fraction of each gas component \n",
      "print \"The molecular weight of the mixture is %.2f\"%(MWm);\n"
     ],
     "language": "python",
     "metadata": {},
     "outputs": [
      {
       "output_type": "stream",
       "stream": "stdout",
       "text": [
        "The partial pressure of the Freon-12 is 985.30\n",
        "The mole fraction of air is 0.01\n",
        "The mole fraction of Freon-12 is 0.99\n",
        "The molecular weight of the mixture is 119.55\n"
       ]
      }
     ],
     "prompt_number": 6
    },
    {
     "cell_type": "heading",
     "level": 2,
     "metadata": {},
     "source": [
      "Example 7.3  Page No : 323"
     ]
    },
    {
     "cell_type": "code",
     "collapsed": false,
     "input": [
      "\n",
      "#Ten pounds of air,1 lb of carbon dioxide,and 5 lb of nitrogen are mixed at constant temperature until the mixture pressure is constant\n",
      "nair = 10./29; \t\t\t#no of moles of air = ratio of mass and molecular weight \t\t\t#10 lb of nitrogen per pound \t\t\t#molecular weight of air = 29\n",
      "print \"The moles of air is %.2f mole/lbm of mixture\"%(nair);\n",
      "nCO2 = 1./44; \t\t\t#no of moles of carbon dioxide = ratio of mass and molecular weight \t\t\t#1 lb of per pound \t\t\t#molecular weight of CO2 = 44\n",
      "print \"The moles of carbon dioxide is %.2f mole/lbm of mixture\"%(nCO2);\n",
      "nN2 = 5./28; \t\t\t#no of moles of nitrogen = ratio of mass and molecular weight \t\t\t#5 lb of nitrogen per pound \t\t\t#molecular weight of N2 = 28\n",
      "print \"The moles of nitrogen is %.2f mole/lbm of mixture\"%(nN2);\n",
      "nm = nair+nCO2+nN2; \t\t\t#Unit:Mole/lbm \t\t\t#number of moles of gas mixture is sum of the moles of its constituent gases\n",
      "print \"The total number of moles is %.2f mole/lbm\"%(nm); \n",
      "\n",
      "xair = nair/nm \t\t\t#mole fraction of air = ratio of no of moles of air and total moles in mixture\n",
      "xCO2 = nCO2/nm; \t\t\t#mole fraction of carbon dioxide = ratio of no of moles of carbon dioxide and total moles in mixture\n",
      "xN2 = nN2/nm; \t\t\t#mole fraction of nitrogen = ratio of no of moles of oxygen and total moles in mixture\n",
      "print \"The mole fraction of air is %.2f \"%(xair);\n",
      "print \"The mole fraction of carbon dioxide is %.2f\"%(xCO2)\n",
      "print \"The mole fraction of nitrogen is %.2f\"%(xN2);\n",
      "\n",
      "#final pressure of is 100 psia\n",
      "pair = xair*100; \t\t\t#the partial pressure of air =  final pressure * the mole fraction of air \t\t\t#psia\n",
      "print \"The partial pressure of air is %.2f psia\"%(pair);\n",
      "pCO2 = xCO2*100; \t\t\t#the partial pressure of carbon dioxide =  final pressure * the mole fraction of CO2 \t\t\t#psia\n",
      "print \"The partial pressure of carbon dioxide is %.2f psia\"%(pCO2);\n",
      "pN2 = xN2*100; \t\t\t#the partial pressure of nitrogen = final pressure * the mole fraction of nitrogen \t\t\t#psia\n",
      "print \"The partial pressure of nitrogen is %.2f psia\"%(pN2);\n",
      "\n",
      "#the molecular weight of mixture = sum of products of mole fraction of each gas component\n",
      "MWm = (xair*29) + (xCO2*44) + (xN2*28); \t\t\t#The molecular weight of air \n",
      "print \"The molecular weight of air is %.2f\"%(MWm);\n",
      "\n",
      "Rm = 1545/MWm; \t\t\t#the gas constant of air\n",
      "print \"The gas constant of air is %.2f\"%(Rm);\n"
     ],
     "language": "python",
     "metadata": {},
     "outputs": [
      {
       "output_type": "stream",
       "stream": "stdout",
       "text": [
        "The moles of air is 0.34 mole/lbm of mixture\n",
        "The moles of carbon dioxide is 0.02 mole/lbm of mixture\n",
        "The moles of nitrogen is 0.18 mole/lbm of mixture\n",
        "The total number of moles is 0.55 mole/lbm\n",
        "The mole fraction of air is 0.63 \n",
        "The mole fraction of carbon dioxide is 0.04\n",
        "The mole fraction of nitrogen is 0.33\n",
        "The partial pressure of air is 63.14 psia\n",
        "The partial pressure of carbon dioxide is 4.16 psia\n",
        "The partial pressure of nitrogen is 32.70 psia\n",
        "The molecular weight of air is 29.30\n",
        "The gas constant of air is 52.74\n"
       ]
      }
     ],
     "prompt_number": 7
    },
    {
     "cell_type": "heading",
     "level": 2,
     "metadata": {},
     "source": [
      "Example 7.4  Page No : 325"
     ]
    },
    {
     "cell_type": "code",
     "collapsed": false,
     "input": [
      "\n",
      "#five moles of oxygen and 10 moles of hydrogen are mixed\n",
      "#The total number of moles is 10+5 = 15.Therefore,mole fraction of each constituent is\n",
      "xO2 = 5./15; \t\t\t#The mole fraction of oxygen \n",
      "xH2 = 10./15; \t\t\t#The mole fraction of hydrogen\n",
      "print \"The mole fraction of oxygen is %.2f and of hydrogen is %.2f\"%(xO2,xH2);\n",
      "#the molecular weight of mixture = sum of products of mole fraction of each gas component(MW of O2 = 32 and MW of H2 = 2.016)\n",
      "print \"The molecular weight of the final mixture is %.2f\"%((((5./15)*32)+10./15)*2.016)\n",
      "R = 1545./32; \t\t\t#the gas constant of oxygen\n",
      "T = 460.+70; \t\t\t#absolute temperature \t\t\t#Unit:R\n",
      "p = 14.7; \t\t\t#pressure \t\t\t#psia\n",
      "#The partial volume of the oxygen can be found as follows:per pound of oxygen,\n",
      "#p*vO2 = R*T;\n",
      "vO2 = (R*T)/(p*144); \t\t\t#ft**3/lbm \t\t\t#1 in**2 = 144 ft**2  \n",
      "#Because there are 5 moles of oxygen,each containing 32 lbm,\n",
      "VO2 = vO2*5*32; \t\t\t#ft**3 \t\t\t#partial volume of oxygen\n",
      "print \"The partial volume of oxygen is %.2f ft**3\"%(VO2);\n",
      "#For the hydrogen,we can simplify the procedure by noting that the fraction of the total volume occupied by the oxygen is the same as its mole fraction.Therefore,\n",
      "Vm = 3*VO2; \t\t\t#total volume occupied \t\t\t#ft**3\n",
      "print \"The mixture volume is %.2f ft**3\"%(Vm);\n",
      "#and the hydrogen volume\n",
      "VH2 = Vm-VO2; \t\t\t#Ft**2 \t\t\t#partial volume of hydrogen\n",
      "print \"From simplified procedure, The partial volume of hydrogen is %.2f ft**3\"%(VH2);\n",
      "\n",
      "#We could obtain the partial volume of hydrogen by proceeding as we did for the oxygen.Thus,\n",
      "#p*vH2 = R*T;\n",
      "R = 1545/2.016; \t\t\t#the gas constant of hydrogen\n",
      "vH2 = (R*T)/(p*144); \t\t\t#ft**3/lbm \t\t\t#1 in**2 = 144 ft**2  \n",
      "#Because there are 10 moles of hydrogen,each containing 2.016 lbm,\n",
      "VH2 = vH2*10*2.016; \t\t\t#ft**3 \t\t\t#partial volume of hydrogen\n",
      "print \"The partial volume of hydrogen is %.2f ft**3\"%(VH2);\n",
      "#Which checks our previous values.\n",
      "\n",
      "\n",
      "print \"From another method\"\n",
      "#As an alternative to the foregoing,we could also use the fact that at 14.7 psia and 32F a mole of any gas occupies a volume of 358 ft**3.\n",
      "print \"At 70F and 14.7 psia, a mole occupies %.2f ft**3\"%((((358*460+70.)/460+32))); \n",
      "#Therefore, 5 moles of oxygen occupies \n",
      "VO2 = 5*358*((460+70.)/(460+32)); \t\t\t#The partial volume of oxygen \t\t\t#ft**3\n",
      "print \"The partial volume of oxygen is %.2f ft**3\"%(VO2);\n",
      "#and 10 moles of hydrogen occupies\n",
      "VH2 = 10*358*((460+70.)/(460+32)); \t\t\t#The partial volume of hydrogen \t\t\t#ft**3\n",
      "print \"The partial volume of hydrogen is %.2f ft**3\"%(VH2);\n",
      "#Both values are in good agreement with the previous calculations.\n",
      "\n"
     ],
     "language": "python",
     "metadata": {},
     "outputs": [
      {
       "output_type": "stream",
       "stream": "stdout",
       "text": [
        "The mole fraction of oxygen is 0.33 and of hydrogen is 0.67\n",
        "The molecular weight of the final mixture is 22.85\n",
        "The partial volume of oxygen is 1934.17 ft**3\n",
        "The mixture volume is 5802.51 ft**3\n",
        "From simplified procedure, The partial volume of hydrogen is 3868.34 ft**3\n",
        "The partial volume of hydrogen is 3868.34 ft**3\n",
        "From another method\n",
        "At 70F and 14.7 psia, a mole occupies 390.15 ft**3\n",
        "The partial volume of oxygen is 1928.25 ft**3\n",
        "The partial volume of hydrogen is 3856.50 ft**3\n"
       ]
      }
     ],
     "prompt_number": 13
    },
    {
     "cell_type": "heading",
     "level": 2,
     "metadata": {},
     "source": [
      "Example 7.5  Page No : 326"
     ]
    },
    {
     "cell_type": "code",
     "collapsed": false,
     "input": [
      "\n",
      "#Referring to figure 7.3,we have for CO2,\n",
      "nCO2 = 10./44; \t\t\t#mole \t\t\t#no of moles of carbon dioxide = ratio of mass and molecular weight \t\t\t#10 lb of per pound \t\t\t#molecular weight of CO2 = 44\n",
      "#and for N2,\n",
      "nN2 = 5/28.02; \t\t\t#mole \t\t\t#no of moles of nitrogen = ratio of mass and molecular weight \t\t\t#5 lb of nitrogen per pound\n",
      "print \"The total number of moles in the mixture is %.2f mole\"%(nCO2+nN2);\n",
      "#Therefore,\n",
      "xCO2 = nCO2/(nCO2+nN2); \t\t\t#mole fraction of carbon dioxide = ratio of no of moles of carbon dioxide and total moles in mixture\n",
      "xN2 = nN2/(nCO2+nN2); \t\t\t#mole fraction of nitrogen = ratio of no of moles of oxygen and total moles in mixture\n",
      "print \"The mole fraction of carbon dioxide is %.2f and the mole fraction of nitrogen is %.2f\"%(xCO2,xN2);\n",
      "#the molecular weight of mixture = sum of products of mole fraction of each gas component\n",
      "MWm = (xCO2*44) + (xN2*28.02); \t\t\t#the molecular weight of mixture\n",
      "print \"The molecular weight of air is %.2f\"%(MWm);\n",
      "#Because the mixture is 15 lbm (10CO2 + 5N2),the volume of the mixture is found from pm*Vm = mm*Rm*Tm\n",
      "pm = 100.; \t\t\t#mixture pressure \t\t\t#psia \n",
      "Tm = 460.+70; \t\t\t#mixture temperature \t\t\t#R(absolute temperature)\n",
      "Rm = 1545/37.0; \t\t\t#gas constant of mixture \n",
      "mm = 15.; \t\t\t#mass of mixture \t\t\t#Unit:lb\n",
      "#So,rearranging the equation,gives\n",
      "Vm = (mm*Rm*Tm)/(pm*144);  \t\t\t#mixture volume \t\t\t#ft**3 \t\t\t#1 in**2 =  144 ft**2\n",
      "print \"The mixture volume is %.2f ft**3\"%(Vm);\n",
      "#the partial volume of carbon dioxide is the total volume multiplied by the mole fraction.Thus,\n",
      "VCO2 = Vm*xCO2; \t\t\t#the partial volume of CO2 \t\t\t#ft**3\n",
      "print \"The partial volume of carbon dioxide is %.2f ft**3\"%(VCO2);\n",
      "VN2 = Vm*xN2; \t\t\t#the partial volume of N2 \t\t\t#ft**3\n",
      "print \"The partial volume of nitrogen is %.2f ft**3\"%(VN2);\n",
      "#The partial pressure of each constituent is proportional to its mole fraction,for these conditions,\n",
      "pCO2 = pm*xCO2; \t\t\t#the partial pressure of carbon dioxide =  final pressure * the mole fraction of CO2 \t\t\t#psia\n",
      "print \"The partial pressure of carbon dioxide is %.2f psia\"%(pCO2);\n",
      "pN2 = pm*xN2; \t\t\t#the partial pressure of nitrogen = final pressure * the mole fraction of nitrogen \t\t\t#psia\n",
      "print \"The partial pressure of nitrogen is %.2f psia\"%(pN2);\n",
      "\n",
      "\n"
     ],
     "language": "python",
     "metadata": {},
     "outputs": [
      {
       "output_type": "stream",
       "stream": "stdout",
       "text": [
        "The total number of moles in the mixture is 0.41 mole\n",
        "The mole fraction of carbon dioxide is 0.56 and the mole fraction of nitrogen is 0.44\n",
        "The molecular weight of air is 36.97\n",
        "The mixture volume is 23.05 ft**3\n",
        "The partial volume of carbon dioxide is 12.91 ft**3\n",
        "The partial volume of nitrogen is 10.14 ft**3\n",
        "The partial pressure of carbon dioxide is 56.02 psia\n",
        "The partial pressure of nitrogen is 43.98 psia\n"
       ]
      }
     ],
     "prompt_number": 15
    },
    {
     "cell_type": "heading",
     "level": 2,
     "metadata": {},
     "source": [
      "Example 7.6  Page No : 327"
     ]
    },
    {
     "cell_type": "code",
     "collapsed": false,
     "input": [
      "\n",
      "#we will assume that we have 100 volumes of gas mixture and set up table 7.2.In first coloumn,we tabulate the gas,and in the second coloumn,we tabulate the given   volume fractions.Because the mole fraction equals to volume fraction,the values in coloumn 3 are the same as those in coloumn 2.\n",
      "#The molecular weight is obtained from table 7.1.Because the MW of the mixture is the sum of the individual mole fraction multiplied by the respective molecular      weights,the next coloumn tabulates the product of the mole fraction multiplied by molecular weight(3*4).The sum of these entries is the molecular weight of the    mixture,which for this case is 33.4.\n",
      "print \"Basis:100 volumes of gas mixture\"\n",
      "print \"gas    Volume       Mole           Molecular                            mass  \"\n",
      "print \"       fraction    fraction x      weight MW     xMW                  fraction\"\n",
      "print \"CO2    0.40        0.40          44.0           %.2f               %.2f\"%(0.40*44.0,(0.40*44.0)/33.4)\n",
      "print \"N2     0.10        0.10          28.02          %.2f                %.2f                \"%(28.02*0.10,(28.02*0.10)/33.4)\n",
      "print \"H2     0.10        0.10          2.016          %.2f                %.2f                \"%(0.10*2.016,(0.10*2.016)/33.4)\n",
      "print \"O2     0.40        0.40          32.0           %.2f               %.2f                \"%(0.40*32.0,(0.40*32.0)/33.4)\n",
      "print \"       1.00        1.00                         33.4 = MWm                =  1.000               \"\n"
     ],
     "language": "python",
     "metadata": {},
     "outputs": [
      {
       "output_type": "stream",
       "stream": "stdout",
       "text": [
        "Basis:100 volumes of gas mixture\n",
        "gas    Volume       Mole           Molecular                            mass  \n",
        "       fraction    fraction x      weight MW     xMW                  fraction\n",
        "CO2    0.40        0.40          44.0           17.60               0.53\n",
        "N2     0.10        0.10          28.02          2.80                0.08                \n",
        "H2     0.10        0.10          2.016          0.20                0.01                \n",
        "O2     0.40        0.40          32.0           12.80               0.38                \n",
        "       1.00        1.00                         33.4 = MWm                =  1.000               \n"
       ]
      }
     ],
     "prompt_number": 21
    },
    {
     "cell_type": "heading",
     "level": 2,
     "metadata": {},
     "source": [
      "Example 7.7  Page No : 328"
     ]
    },
    {
     "cell_type": "code",
     "collapsed": false,
     "input": [
      "\n",
      "#We will take as a basis 100 lbm of mixture.\n",
      "#Dividing colomn 2 by 3 gives us mass/molecular weight  or moles of each constituents.The total number of moles in the mixture is the sum of coloumn 4,and the      molecular weight of the mixture is the mass of the mixture(100 lbm) divided by the number of moles\n",
      "#In coloumn 5,mole fraction is given by moles/total mole\n",
      "\n",
      "print \"Basis:100 pounds of gas mixture\"\n",
      "print \"gas    Mass        Molecular      Moles                   Mole         Percent      \"\n",
      "print \"        lbm        weight MW                           fraction        Volume        \"\n",
      "print \"CO2    52.7          44.0          1.2                   %.2f             %.2f   \"%(1.2/3,1.2/3*100)\n",
      "print \"N2      8.4          28.02         0.3                   %.2f             %.2f   \"%(0.3/3,0.3/3*100)\n",
      "print \"H2      0.6          2.016         0.3                   %.2f             %.2f   \"%(0.3/3,0.3/3*100)\n",
      "print \"O2     38.3          32.0          1.2                   %.2f             %.2f   \"%(1.2/3,1.2/3*100)\n",
      "print \"        = 100.0                      = 3.0                  = 1.00                =  100               \"\n",
      "print \"                              MWm = 100/3 = 33.3               \"\n",
      "\n"
     ],
     "language": "python",
     "metadata": {},
     "outputs": [
      {
       "output_type": "stream",
       "stream": "stdout",
       "text": [
        "Basis:100 pounds of gas mixture\n",
        "gas    Mass        Molecular      Moles                   Mole         Percent      \n",
        "        lbm        weight MW                           fraction        Volume        \n",
        "CO2    52.7          44.0          1.2                   0.40             40.00   \n",
        "N2      8.4          28.02         0.3                   0.10             10.00   \n",
        "H2      0.6          2.016         0.3                   0.10             10.00   \n",
        "O2     38.3          32.0          1.2                   0.40             40.00   \n",
        "        = 100.0                      = 3.0                  = 1.00                =  100               \n",
        "                              MWm = 100/3 = 33.3               \n"
       ]
      }
     ],
     "prompt_number": 22
    },
    {
     "cell_type": "heading",
     "level": 2,
     "metadata": {},
     "source": [
      "Example 7.8  Page No : 329"
     ]
    },
    {
     "cell_type": "code",
     "collapsed": false,
     "input": [
      "\n",
      "#We will take as a basis 100 lbm of mixture.\n",
      "#Dividing colomn 2 by 3 gives us mass/molecular weight  or moles of each constituents.The total number of moles in the mixture is the sum of coloumn 4,and the      molecular weight of the mixture is the mass of the mixture(100 lbm) divided by the number of moles\n",
      "#In coloumn 5,mole fraction is given by moles/total mole\n",
      "\n",
      "print \"Basis:100 pounds of gas mixture\"\n",
      "print \"gas    Mass        Molecular      Moles                   Mole         Percent      \"\n",
      "print \"        lbm        weight MW                           fraction        Volume        \"\n",
      "print \"O2     23.18         32.00         0.724                   %.2f             %.2f   \"%(0.724/3.45,0.724/3.45*100)\n",
      "print \"N2     75.47         28.02         2.693                   %.2f             %.2f   \"%(2.692/3.45,2.692/3.45*100)\n",
      "print \"A       1.30         39.90         0.033                   %.2f             %.2f   \"%(0.033/3.45,0.033/3.45*100)\n",
      "print \"CO2     0.05         44.00          -                       -             -  \"\n",
      "print \"        = 100.00                      = 3.45                  = 1.00                =  100               \"\n",
      "print \"                            MWm = 100/3.45 = 28.99               \"\n"
     ],
     "language": "python",
     "metadata": {},
     "outputs": [
      {
       "output_type": "stream",
       "stream": "stdout",
       "text": [
        "Basis:100 pounds of gas mixture\n",
        "gas    Mass        Molecular      Moles                   Mole         Percent      \n",
        "        lbm        weight MW                           fraction        Volume        \n",
        "O2     23.18         32.00         0.724                   0.21             20.99   \n",
        "N2     75.47         28.02         2.693                   0.78             78.03   \n",
        "A       1.30         39.90         0.033                   0.01             0.96   \n",
        "CO2     0.05         44.00          -                       -             -  \n",
        "        = 100.00                      = 3.45                  = 1.00                =  100               \n",
        "                            MWm = 100/3.45 = 28.99               \n"
       ]
      }
     ],
     "prompt_number": 23
    },
    {
     "cell_type": "heading",
     "level": 2,
     "metadata": {},
     "source": [
      "Example 7.9  Page No : 331"
     ]
    },
    {
     "cell_type": "code",
     "collapsed": false,
     "input": [
      "\n",
      "#Given: cp of oxygen is 0.23 Btu/lbm*R.cp of nitrogen is 0.25 Btu/lbm*R. 160 lbm/hr of oxygen and 196 lbm/hr of nitrogen are mixed.oxygen is at 500 F and nitrogen  is at 200 F.\n",
      "\n",
      "#The energy equation for the steady-flow,adiaatic mixing process gives us the requirement that the enthalpy of the mixture must equal to the enthalpies of the      components,because deltah = q = 0.An alternative statement of this requirement is that the gain in enthalpy of the nitrogen must equal the decrease in enthalpy of the   oxygen.Using the latter statement,that the change in enthalpy of nitrogen,yields\n",
      "# (160*0.23*(500-tm))  =  (196*0.25*(tm-200)) where tm = mixture temperature\n",
      "#where m*cp*deltat has been used for deltah. \t\t\t#cp = specific heat at constant pressure \t\t\t#Unit for cp is Btu/lbm*R\n",
      "#rearranging the above equation,\n",
      "tm = ((500.*160*0.23)+(196*0.25*200))/((196*0.25)+(160*0.23)); \t\t\t#tm = mixture temperature \t\t\t#Unit:fahrenheit\n",
      "print \"The final temperature of the mixture is %.2f F\"%(tm);\n",
      "#Using the requirement that the enthalpy of the mixture must equal to the sum of the enthalpies of the components yields an alternative solution to this problem.Let  us assume that at 0 F,the enthalpy of each gas and of the mixture is zero.The enthalpy of the entering oxygen is (160*0.23*(500-0)),and the enthalpy of the        entering nitrogen is (196*0.25*(200-0)).The enthalpy of the mixture is ((160+196)*cpm*(tm-0))\n",
      "#Therefore,  (160*0.23*500)+(196*0.25*200)  =  ((160+196)*cpm*tm)\n",
      "cpm = ((160./(160+196))*0.23)+((196/(160+196))*0.25); \t\t\t#specific heat at constant pressure for gas mixture \t\t\t#Btu/lbm*R\n",
      "print \"For mixture, Specific heat at constant pressure is %.2f Btu/lbm*R\"%(cpm);\n",
      "#therefore,\n",
      "tm = ((160*0.23*500)+(196*0.25*200))/(cpm*(160.+196)); \t\t\t#tm = mixture temperature \t\t\t#Unit:fahrenheit\n",
      "print \"By Using value of cpm, The final temperature of the mixture is %.2f F\"%(tm);\n",
      "#The use of 0 F as a base was arbitrary but convenient.Any base would yield the same results.\n",
      "#The answer of cpm is wrong in the book.\n"
     ],
     "language": "python",
     "metadata": {},
     "outputs": [
      {
       "output_type": "stream",
       "stream": "stdout",
       "text": [
        "The final temperature of the mixture is 328.67 F\n",
        "For mixture, Specific heat at constant pressure is 0.10 Btu/lbm*R\n",
        "By Using value of cpm, The final temperature of the mixture is 766.30 F\n"
       ]
      }
     ],
     "prompt_number": 29
    },
    {
     "cell_type": "heading",
     "level": 2,
     "metadata": {},
     "source": [
      "Example 7.10  Page No : 332"
     ]
    },
    {
     "cell_type": "code",
     "collapsed": false,
     "input": [
      "\n",
      "#Problem 7.9 is carried out as a nonflow mixing process.\n",
      "#Given in problem 7.9,: cp of oxygen is 0.23 Btu/lbm*R.cp of nitrogen is 0.25 Btu/lbm*R. 160 lbm/hr of oxygen and 196 lbm/hr of nitrogen are mixed.oxygen is at 500F and nitrogen  is at 200 F. \t\t\t#cp = specific heat at constant pressure \n",
      "#Given in problem 7.10,: cv of oxygen is 0.164 Btu/lbm*R.cv of nitrogen is 0.178 Btu/lbm*R. \t\t\t#cv = specific heat at constant volume\n",
      "\n",
      "#Because this is a nonflow process,the energy equation for this process requires the internal energy of the mixture to equal to the sum of the internal energy of   its components.\n",
      "#Alternatively,the decrease in internal energy of the oxygen must equal the increase in internal energy of the nitrogen.Using latter statement gives us,\n",
      "# (160*0.164*(500-tm))  =  (196*0.178*(tm-200))\n",
      "#where m*cv*deltat has been used for deltau. \t\t\t#Unit for cp & cv is Btu/lbm*R\n",
      "#rearranging the above equation,\n",
      "tm = ((500*160*0.164)+(196*0.178*200))/((196*0.178)+(160*0.164)); \t\t\t#tm = mixture temperature \t\t\t#Unit:fahrenheit\n",
      "\n",
      "# Results\n",
      "print \"The final temperature of the mixture is %.2f F\"%(tm);\n",
      "\n"
     ],
     "language": "python",
     "metadata": {},
     "outputs": [
      {
       "output_type": "stream",
       "stream": "stdout",
       "text": [
        "The final temperature of the mixture is 328.78 F\n"
       ]
      }
     ],
     "prompt_number": 30
    },
    {
     "cell_type": "heading",
     "level": 2,
     "metadata": {},
     "source": [
      "Example 7.12  Page No : 334"
     ]
    },
    {
     "cell_type": "code",
     "collapsed": false,
     "input": [
      "import math\n",
      "\n",
      "#The change in entropy of the mixture is the sum of the changes in entropy of each component.\n",
      "#Given in problem 7.9,: cp of oxygen is 0.23 Btu/lbm*R.cp of nitrogen is 0.25 Btu/lbm*R. 160 lbm/hr of oxygen and 196 lbm/hr of nitrogen are mixed.oxygen is at 500F and nitrogen  is at 200 F. \t\t\t#cp = specific heat at constant pressure \n",
      "#In 7.9,for the oxygen,the temperature starts at 500F(960 R) and decreases to 328.7 F.For the nitrogen,the temperature starts at 200F(660 R) and increase to 328.7 F.\n",
      "#deltas  =  (cp*math.log(T2/T1)); \t\t\t#Unit:Btu/lbm*R \t\t\t#change in entropy\n",
      "\n",
      "#For the oxygen,\n",
      "cp = 0.23; \t\t\t#specific heat at constant pressure \t\t\t#Unit:Btu/lbm*R\n",
      "T2 = 328.7+460; \t\t\t#Unit:R \t\t\t#final temperature\n",
      "T1 = 500+460; \t\t\t#Unit:R \t\t\t#starting temperature\n",
      "deltas = (cp*math.log(T2/T1)); \t\t\t#Unit:Btu/lbm*R \t\t\t#change in entropy for oxygen\n",
      "DeltaS = 160*deltas; \t\t\t#Btu/R \t\t\t#The total change in entropy of the oxygen\n",
      "print \"The total change in entropy of the oxygen is %.2f Btu/R\"%(DeltaS);\n",
      "\n",
      "#For the nitrogen,\n",
      "cp = 0.25; \t\t\t#specific heat at constant pressure \t\t\t#Unit:Btu/lbm*R\n",
      "T2 = 328.7+460; \t\t\t#Unit:R \t\t\t#final temperature\n",
      "T1 = 200+460; \t\t\t#Unit:R \t\t\t#starting temperature\n",
      "deltas = (cp*math.log(T2/T1)); \t\t\t#Unit:Btu/lbm*R \t\t\t#change in entropy for nitrogen\n",
      "deltaS = 196*deltas; \t\t\t#Btu/R \t\t\t#The total change in entropy of the nitrogen\n",
      "print \"The total change in entropy of the nitrogen is %.2f Btu/R\"%(deltaS);\n",
      "deltaS = deltaS+DeltaS; \t\t\t#the total change in entropy for the mixture \t\t\t#Btu/lbm*R\n",
      "print \"The total change in entropy for the mixture is %.2f Btu/R\"%(deltaS);\n",
      "\n",
      "#Per pound of mixture,\n",
      "deltasm = deltaS/(196+160); \t\t\t#increase in entropy per pound mass of mixture\n",
      "print \"Increase in entropy per pound mass of mixture is %.2f Btu/lbm*R\"%(deltasm);\n",
      "\n",
      "\n",
      "print \"An alternative solution:\";\n",
      "#As an alternative solution,assume an arbitrary datum of 0 F(460 R).\n",
      "cp = 0.23; \t\t\t#specific heat at constant pressure \t\t\t#Unit:Btu/lbm*R\n",
      "#For initial entropy of oxygen,\n",
      "T2 = 500+460; \t\t\t#Unit:R \t\t\t#final temperature\n",
      "T1 = 0+460; \t\t\t#Unit:R \t\t\t#starting temperature\n",
      "deltas = cp*math.log(T2/T1); \t\t\t#the initial change in entropy for oxygen \t\t\t# Btu/lbm*R\n",
      "print \"The initial change in entropy for oxygen is %.2f Btu/lbm*R\"%(deltas);\n",
      "#For final entropy of oxygen,\n",
      "T2 = 328.7+460; \t\t\t#Unit:R \t\t\t#final temperature\n",
      "T1 = 0+460; \t\t\t#Unit:R \t\t\t#starting temperature\n",
      "Deltas = cp*math.log(T2/T1); \t\t\t#the final change in entropy for oxygen \t\t\t# Btu/lbm*R\n",
      "print \"The final change in entropy for oxygen is %.2f Btu/lbm*R\"%(Deltas);\n",
      "deltaS = Deltas-deltas; \t\t\t#The entropy change of the oxygen \t\t\t#Btu/lbm*R\n",
      "print \"The entropy change of the oxygen is %.2f Btu/lbm*R\"%(deltaS);\n",
      "\n",
      "#For nitrogen,\n",
      "cp = 0.25; \t\t\t#specific heat at constant pressure \t\t\t#Unit:Btu/lbm*R\n",
      "#For initial entropy of nitrogen,\n",
      "T2 = 200.+460; \t\t\t#Unit:R \t\t\t#final temperature\n",
      "T1 = 0+460; \t\t\t#Unit:R \t\t\t#starting temperature\n",
      "deltas = cp*math.log(T2/T1); \t\t\t#the initial change in entropy for nitrogen \t\t\t# Btu/lbm*R\n",
      "print \"The initial change in entropy for nitrogen is %.2f Btu/lbm*R\"%(deltas);\n",
      "#For final entropy of nitrogen,\n",
      "T2 = 328.7+460; \t\t\t#Unit:R \t\t\t#final temperature\n",
      "T1 = 0+460; \t\t\t#Unit:R \t\t\t#starting temperature\n",
      "Deltas = cp*math.log(T2/T1); \t\t\t#the final change in entropy for nitrogen \t\t\t# Btu/lbm*R\n",
      "print \"The final change in entropy for nitrogen is %.2f Btu/lbm*R\"%(Deltas);\n",
      "deltaS = Deltas-deltas; \t\t\t#The entropy change of the nitrogen \t\t\t#Btu/lbm*R\n",
      "print \"The entropy change of the nitrogen is %.2f Btu/lbm*R\"%(deltaS);\n",
      "\n",
      "#The remainder of the problem is as before.The advantage of Using this alternative method is the negative math.logarithms are avoided by choomath.sing a reference          temperature lower than any other temperature in the system\n"
     ],
     "language": "python",
     "metadata": {},
     "outputs": [
      {
       "output_type": "stream",
       "stream": "stdout",
       "text": [
        "The total change in entropy of the oxygen is -7.23 Btu/R\n",
        "The total change in entropy of the nitrogen is 8.73 Btu/R\n",
        "The total change in entropy for the mixture is 1.50 Btu/R\n",
        "Increase in entropy per pound mass of mixture is 0.00 Btu/lbm*R\n",
        "An alternative solution:\n",
        "The initial change in entropy for oxygen is 0.16 Btu/lbm*R\n",
        "The final change in entropy for oxygen is 0.12 Btu/lbm*R\n",
        "The entropy change of the oxygen is -0.04 Btu/lbm*R\n",
        "The initial change in entropy for nitrogen is 0.09 Btu/lbm*R\n",
        "The final change in entropy for nitrogen is 0.13 Btu/lbm*R\n",
        "The entropy change of the nitrogen is 0.04 Btu/lbm*R\n"
       ]
      }
     ],
     "prompt_number": 32
    },
    {
     "cell_type": "heading",
     "level": 2,
     "metadata": {},
     "source": [
      "Example 7.13  Page No : 338"
     ]
    },
    {
     "cell_type": "code",
     "collapsed": false,
     "input": [
      "\n",
      "#Referring to figure 7.6,it will be seen that the cooling of an air-water vapor mixture from B to A proceeds at constant pressure until the saturation curve is   reached.\n",
      "#At 80 F(the mixture temperature),the Steam Tables give us a saturation pressure of a 0.5073 psia,and because the relative humidity is 50%,the vapor pressure of  the water is 0.5*0.5073 = 0.2537 psia.\n",
      "#Using the steam tables,the saturation temperature corresponding to 0.2537 psia is 60 F.\n",
      "#So,\n",
      "print \"The dew point temperature of the air is 60 F\"\n"
     ],
     "language": "python",
     "metadata": {},
     "outputs": [
      {
       "output_type": "stream",
       "stream": "stdout",
       "text": [
        "The dew point temperature of the air is 60 F\n"
       ]
      }
     ],
     "prompt_number": 33
    },
    {
     "cell_type": "heading",
     "level": 2,
     "metadata": {},
     "source": [
      "Example 7.14  Page No : 338"
     ]
    },
    {
     "cell_type": "code",
     "collapsed": false,
     "input": [
      "\n",
      "#To solve this probelm,it is necessary to determine the properties of the saturated mixture 90 F.If the air is saturated at 90 F,the partial pressure of the water  vapor is found directly from the Steam Tables as 0.6988 psia,and the specific volume of the water vapor is 467.7 ft**3/lbm of vapor.\n",
      "print \"The partial pressure of the dry air is %.2f psia\"%(14.7-0.6988); \t\t\t#the mixture is at 14.7 psia\n",
      "R = 1545/28.966; \t\t\t#gas constant of dry air = 1545/Molecular weight\n",
      "T = 90+460; \t\t\t#temperature of dry air \t\t\t#Unit:R\n",
      "pdryair = 14.0; \t\t\t#psia \t\t\t#pressure of dry air\n",
      "#Applying the ideal gas equation to the air,\n",
      "vdryair = (R*T)/(pdryair*144); \t\t\t#volume of dry air \t\t\t#ft**3/lbm \t\t\t#1 in**2 = 144 Ft**2\n",
      "#the mass of dry air in the 467.7 ft**3 container \n",
      "print \"The mass of dry air in the 467.7 ft**3 container is %.2f lbm\"%(467.7/vdryair);\n",
      "#To obtain relative humidity(phy),it is necessary to determine the mole fraction of water vapor for both the saturated mixture and the mixture in question.\n",
      "#The saturated mixture contains 1 lbm of water vapor or 1/18.016 moles  = 0.055 mole of water vapor and (467.7/vdryair)/28.966 = 1.109 moles of dry air.\n",
      "#For the saturated mixture, the ratio of moles of water vapor to moles of mixture is 0.055/(0.055+1.109) = 0.0477\n",
      "#For the actual mixture,the moles of water vapor per pound of dry air is 0.005/18.016 = 0.000278 and 1 lbm of dry air is 1/28.966 = 0.0345 mole.So,the mole of water vapor per mole of  mixture at the conditions of the  mixture is 0.000278/(0.0345+0.000278) = 0.00799\n",
      "#From the defination of relative humidity,\n",
      "print \"The relative humidity of the mixture is %.2f \"%((0.00799/0.0477)*100);\n",
      "\n",
      "#Because the mole ratio is also the ratio of the partial pressures for the ideal gas,phy can be expressed as the ratio of the partial pressure of the water vapor in  the mixture to the partial pressure of the water vapor at saturation.Therefore,\n",
      "print \"The partial pressure of the vapor at saturation is %.2f psia\"%((0.00799/0.0477)*0.6988);\n",
      "print \"And the partial pressure of the dry air in the mixture is %.2f psia\"%((14.7-0.00799/0.0477)*0.6988); \t\t\t#14.7-The partial pressure of the vapor at saturation\n",
      "#The dew point temperature is the saturation temperature corresponding to the partial pressure of the water vapor in the mixture.So,\n",
      "print \"The dew point temperature corresponding to %.2f psia is 39F\"%((0.00799/0.0477)*0.6988);\n"
     ],
     "language": "python",
     "metadata": {},
     "outputs": [
      {
       "output_type": "stream",
       "stream": "stdout",
       "text": [
        "The partial pressure of the dry air is 14.00 psia\n",
        "The mass of dry air in the 467.7 ft**3 container is 32.14 lbm\n",
        "The relative humidity of the mixture is 16.75 \n",
        "The partial pressure of the vapor at saturation is 0.12 psia\n",
        "And the partial pressure of the dry air in the mixture is 10.16 psia\n",
        "The dew point temperature corresponding to 0.12 psia is 39F\n"
       ]
      }
     ],
     "prompt_number": 36
    },
    {
     "cell_type": "heading",
     "level": 2,
     "metadata": {},
     "source": [
      "Example 7.15  Page No : 343"
     ]
    },
    {
     "cell_type": "code",
     "collapsed": false,
     "input": [
      "\n",
      "#Problem 7.14 Using equations, Rm = ((ma/(ma+mv))*Ra)+((mv/(ma+mv))*Rv)   and  phy*pvs = pv\n",
      "W = 0.005; \t\t\t#Humidity ratio\n",
      "pm = 14.7; \t\t\t#mixture is at 14.7 psia\n",
      "#W = 0.622*(pv/(pm-pv))\n",
      "#Rearranging,\n",
      "pv = (W*pm)/(0.622+W); \t\t\t#the partial pressure of the water vapor \n",
      "print \"The partial pressure of the water vapor is %.2f psia\"%(pv);\n",
      "pa = pm-pv; \t\t\t#pa = the partial pressure of the dry air in the mixture\n",
      "print \"The partial pressure of dry air is %.2f psia\"%(pa);\n",
      "#It is necessary to obtain pvs from the Steam Tables at 90 F.This is 0.6988 psia.\n",
      "pvs = 0.6988; \t\t\t#saturation pressure of water vapor at the temperature of mixture\n",
      "print \"The partial pressure of the water vapor at saturation is %.2f psia\"%(pvs);\n",
      "#Therefore,\n",
      "phy = pv/pvs; \t\t\t#relative humidity\n",
      "print \"The relative humidity  is %.2f percent\"%(phy*100);\n",
      "#The dew point temperature is the saturation temperature corresponding to 0.117 psia,which is found from the Steam Tables to be 39 F.\n",
      "print \"The dew point temperature of the mixture is 39 F\";\n",
      "#The results of this problem and problem 7.14 are in good agreement\n"
     ],
     "language": "python",
     "metadata": {},
     "outputs": [
      {
       "output_type": "stream",
       "stream": "stdout",
       "text": [
        "The partial pressure of the water vapor is 0.12 psia\n",
        "The partial pressure of dry air is 14.58 psia\n",
        "The partial pressure of the water vapor at saturation is 0.70 psia\n",
        "The relative humidity  is 16.78 percent\n",
        "The dew point temperature of the mixture is 39 F\n"
       ]
      }
     ],
     "prompt_number": 37
    },
    {
     "cell_type": "heading",
     "level": 2,
     "metadata": {},
     "source": [
      "Example 7.16  Page No : 343"
     ]
    },
    {
     "cell_type": "code",
     "collapsed": false,
     "input": [
      "\n",
      "pm = 14.7; \t\t\t#the barometer is at 14.7 psia \t\t\t#mixture is at 14.7 psia\n",
      "#The amount of water vapor removed (per pound of dry air) is the difference between the humidity ratio (specific humidity) at inlet and outlet of the conditioning    unit.We shall therefore evalute W for both specified conditions.Because phy = pv/pvs,\n",
      "#At 90F:\n",
      "phy = 0.7; \t\t\t#relative humidity\n",
      "pvs = 0.6988; \t\t\t#psia \t\t\t#saturation pressure of water vapor at the temperature of mixture\n",
      "pv = phy*pvs; \t\t\t#psia \t\t\t#the partial pressure of the water vapor \n",
      "pa = pm-pv; \t\t\t#psia \t\t\t#pa = the partial pressure of the dry air in the mixture\n",
      "W = 0.622*(pv/pa); \t\t\t#Humidity ratio\n",
      "\n",
      "#At 80F:\n",
      "phy = 0.4; \t\t\t#relative humidity\n",
      "pvs = 0.5073; \t\t\t#psia \t\t\t#saturation pressure of water vapor at the temperature of mixture\n",
      "pv = phy*pvs; \t\t\t#psia \t\t\t#the partial pressure of the water vapor \n",
      "pa = pm-pv; \t\t\t#psia \t\t\t#pa = the partial pressure of the dry air in the mixture\n",
      "w = 0.622*(pv/pa); \t\t\t#Humidity ratio\n",
      "\n",
      "print \"The amount of water removed per pound of dry air is %.2f\"%(W-w);\n"
     ],
     "language": "python",
     "metadata": {},
     "outputs": [
      {
       "output_type": "stream",
       "stream": "stdout",
       "text": [
        "The amount of water removed per pound of dry air is 0.01\n"
       ]
      }
     ],
     "prompt_number": 38
    },
    {
     "cell_type": "heading",
     "level": 2,
     "metadata": {},
     "source": [
      "Example 7.17  Page No : 347"
     ]
    },
    {
     "cell_type": "code",
     "collapsed": false,
     "input": [
      "\n",
      "#Problem 7.13 Using the psychrometric chart\n",
      "#Entering figure 7.11 at a dry-bulb temperature of 80 F,we proceed vertically until we reach 50% humidity curve.At this intersection,we proceed horizontally and    read the dew-point temperature as approximately 60 F.\n",
      "print \"The dew point temperature of air is 60 F\";\n"
     ],
     "language": "python",
     "metadata": {},
     "outputs": [
      {
       "output_type": "stream",
       "stream": "stdout",
       "text": [
        "The dew point temperature of air is 60 F\n"
       ]
      }
     ],
     "prompt_number": 39
    },
    {
     "cell_type": "heading",
     "level": 2,
     "metadata": {},
     "source": [
      "Example 7.18  Page No : 347"
     ]
    },
    {
     "cell_type": "code",
     "collapsed": false,
     "input": [
      "\n",
      "#Problem 7.14 Using the psychrometric chart\n",
      "#In this problem,we are given the moisture content of the air to be 0.005 lb per pound of dry air.\n",
      "#This corresponds to 0.005*7000 = 35 grains per pound of dry air.\n",
      "#Entering the chart at 90F and proceeding verticaly to 35 grains per pound of dry air,we find the dew point to be 39F by proceeding horizontally to the intersection with the saturation curve. \n",
      "print \"The dew-point temperature of the mixture is 39 F\";\n",
      "print \"The relative humidity is approximately 17 percent\";\n",
      "#From the leftmost scale,we read the pressure of water vapor to be 0.12 psia.\n",
      "print \"The partial pressure of the air is %.2f psia\"%(14.7-0.12);\n",
      "#Comparing these results to problem 7.14,indicated good agreement between the results obtained by chart and by calculation\n"
     ],
     "language": "python",
     "metadata": {},
     "outputs": [
      {
       "output_type": "stream",
       "stream": "stdout",
       "text": [
        "The dew-point temperature of the mixture is 39 F\n",
        "The relative humidity is approximately 17 percent\n",
        "The partial pressure of the air is 14.58 psia\n"
       ]
      }
     ],
     "prompt_number": 40
    },
    {
     "cell_type": "heading",
     "level": 2,
     "metadata": {},
     "source": [
      "Example 7.19  Page No : 348"
     ]
    },
    {
     "cell_type": "code",
     "collapsed": false,
     "input": [
      "\n",
      "#Problem 7.16 Using the psychrometric chart\n",
      "#The initial conditions are 90 F and 70% relative humidity\n",
      "#Entering the chart at 90 F dry bulb temperature and proceeding vertically to 70% relative humidity,we find the air to have 150 grains water vapor per pound of dry air.At the final condition of 80F and 40% relative humidity,we read 61 grains of water/lb of dry air.\n",
      "#So,\n",
      "print \"The water removed is %.2f grains per pound of dry air\"%(150-61);\n",
      "print \"Or %.2f lb of water per pound of dry air is removed\"%((150.-61)/7000);\n"
     ],
     "language": "python",
     "metadata": {},
     "outputs": [
      {
       "output_type": "stream",
       "stream": "stdout",
       "text": [
        "The water removed is 89.00 grains per pound of dry air\n",
        "Or 0.01 lb of water per pound of dry air is removed\n"
       ]
      }
     ],
     "prompt_number": 41
    },
    {
     "cell_type": "heading",
     "level": 2,
     "metadata": {},
     "source": [
      "Example 7.20  Page No : 349"
     ]
    },
    {
     "cell_type": "code",
     "collapsed": false,
     "input": [
      "\n",
      "#dry bulb temperature is 50 F\n",
      "#relative humidity is 50 percent\n",
      "#We first locate 50 F and 50 percent relative humidity on figure 7.11.At this state,we read 26 grains of water per pound of dry air and a total heat of 16.1 Btu per  pound of a dry air.\n",
      "#We now proceed horizontally to 80 F at a constant value of 26 grains of water per pound of dry air and read a total heat of 23.4 Btu per pound of dry air.\n",
      "print \"The heat required is %.2f Btu per pound of dry air\"%(23.4-16.1)\n"
     ],
     "language": "python",
     "metadata": {},
     "outputs": [
      {
       "output_type": "stream",
       "stream": "stdout",
       "text": [
        "The heat required is 7.30 Btu per pound of dry air\n"
       ]
      }
     ],
     "prompt_number": 42
    },
    {
     "cell_type": "heading",
     "level": 2,
     "metadata": {},
     "source": [
      "Example 7.21  Page No : 352"
     ]
    },
    {
     "cell_type": "code",
     "collapsed": false,
     "input": [
      "\n",
      "#An evaporative cooling process\n",
      "#Because the exit air is saturated,we find the exit condition on the curve corresponding to a wet-bulb temperature of 50 F.The process is carried out at constant     total enthalpy,which is along a line of constant wet-bulb temperature.\n",
      "#Proceeding along the 50 F wet-bulb temperature line of figure 7.11 diagonally to the right until it intersects with the vertical 80 F dry-bulb temperature line    yields a relative humidity of approximately 4 %\n",
      "print \"For An evaporative cooling process,  The relative humidity of the entering air is 4 percent\"\n"
     ],
     "language": "python",
     "metadata": {},
     "outputs": [
      {
       "output_type": "stream",
       "stream": "stdout",
       "text": [
        "For An evaporative cooling process,  The relative humidity of the entering air is 4 percent\n"
       ]
      }
     ],
     "prompt_number": 43
    },
    {
     "cell_type": "heading",
     "level": 2,
     "metadata": {},
     "source": [
      "Example 7.22  Page No : 356"
     ]
    },
    {
     "cell_type": "code",
     "collapsed": false,
     "input": [
      "\n",
      "#As noted from figure 7.27, 1 lb of mixture,4/5 lb of indoor air,and 1/5 lb of outdoor air are mixed per pound of mixture. \n",
      "#We now locate the two end states on the psychrometric chart and connect them with a straight line.The line connecting the end states is divided  into 5 equal parts. Using the results of equation, (ha-ha2)/(ha-ha1)  =  (W2-W)/(W-W1)  =  ma1/ma2  =  l1/l2 ,we now proceed from the 75 F indoor air state 1 part toward the 90F outdoor air state.This Locates \n",
      "print \"The final mixture,  which is found to be a dry-bulb temperature of approximately 78 F, \\\n",
      "a wet-bulb temperature of 66 F and relative humidity of 54 percent\"\n"
     ],
     "language": "python",
     "metadata": {},
     "outputs": [
      {
       "output_type": "stream",
       "stream": "stdout",
       "text": [
        "The final mixture,  which is found to be a dry-bulb temperature of approximately 78 F, a wet-bulb temperature of 66 F and relative humidity of 54 percent\n"
       ]
      }
     ],
     "prompt_number": 44
    },
    {
     "cell_type": "heading",
     "level": 2,
     "metadata": {},
     "source": [
      "Example 7.23  Page No : 358"
     ]
    },
    {
     "cell_type": "code",
     "collapsed": false,
     "input": [
      "\n",
      "#The cooling tower\n",
      "#From the Steam tables,\n",
      "#For water:\n",
      "h100F = 68.05;  \t\t\t#Btu/lbm \t\t\t#enthalpy at 100 F\n",
      "h70F = 38.09;   \t\t\t#Btu/lbm  \t\t\t#enthalpy at 70 F\n",
      "#For air:\n",
      "h = 20.4; \t\t\t#Unit:Btu/lb \t\t\t#at inlet,total heat/lb dry air\n",
      "w = 38.2; \t\t\t#Unit:grains/lb  \t\t\t#at inlet,moisture pickup/lb dry air (at 60F D.B. and 50% R.H.)\n",
      "H = 52.1; \t\t\t#Unit:Btu/lb \t\t\t#at outlet,total heat/lb dry air\n",
      "W = 194.0; \t\t\t#Unit:grains/lb \t\t\t#at outlet,moisture pickup/lb dry air (at 90F D.B. and 90% R.H.)\n",
      "\n",
      "#Per pound of dry air,the heat interchange is H-h Btu per pound of dry air.\n",
      "#Per pound of dry air,the moisture increase is (W-w)/7000 lb per pound of dry air.\n",
      "#From the equation, ma*(H-h)  =  200000*h100F - mwout*h70F             \t\t\t#ma = mass of air  mwout = mass of cooled water \n",
      "#and  ma*((W-w)/7000)  =  200000 - mwout\n",
      "#Solving the latter equation for mwout,we have  mwout = 200000-(ma*((W-w)/7000))\n",
      "#Substituting this into the heat balance yields,\n",
      "# ma*(H-h)  =  200000*h100F - 200000*h70F + ma*h70F*((W-w)/7000)\n",
      "#Solving gives us,\n",
      "ma = (200000*(h100F-h70F))/((H-h)-(h70F*((W-w)/7000))); \t\t\t#The amount of air required per hour \t\t\t#Unit:lbm/hr of dry air\n",
      "print \"The amount of air required per hour is %.2f lbm/hr of dry air\"%(ma);\n",
      "print \"The amount of water lost per hour due to evaporation is %.2f lbm/hr\"%((ma*W-w)/7000)\n",
      "#note that the water evaporated is slightly over 2% of the incoming water,and this is the makeup that has to be furnished to the tower.\n",
      "#answer are slightly differ because of value of (W-w)/7000 is given 0.0233 instead of 0.0225\n"
     ],
     "language": "python",
     "metadata": {},
     "outputs": [
      {
       "output_type": "stream",
       "stream": "stdout",
       "text": [
        "The amount of air required per hour is 194216.14 lbm/hr of dry air\n",
        "The amount of water lost per hour due to evaporation is 5382.56 lbm/hr\n"
       ]
      }
     ],
     "prompt_number": 45
    }
   ],
   "metadata": {}
  }
 ]
}