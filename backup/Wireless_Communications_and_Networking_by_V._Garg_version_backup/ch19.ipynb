{
 "metadata": {
  "name": "",
  "signature": "sha256:dd18f098648291d58cdb32b1739d692bc9e7a8620a737fa84a463a3efca95463"
 },
 "nbformat": 3,
 "nbformat_minor": 0,
 "worksheets": [
  {
   "cells": [
    {
     "cell_type": "heading",
     "level": 1,
     "metadata": {},
     "source": [
      "Chapter 19: Wireless Personal Area Network - Bluetooth"
     ]
    },
    {
     "cell_type": "heading",
     "level": 2,
     "metadata": {},
     "source": [
      "Example 19.1, Page 666"
     ]
    },
    {
     "cell_type": "code",
     "collapsed": false,
     "input": [
      "#Variable declaration\n",
      "SS=80.; #Frame length of HV3 voice packet\n",
      "R=64*10**3; #Data rate in bps\n",
      "TS=240; #No of bits carried in a slot\n",
      "\n",
      "#Calculations\n",
      "#From table 19.3:Bluetooth air interface details, we get Frequency hopping rate as 1600hopes/second\n",
      "\n",
      "#From table 19.5, we can note that for HV3, No of slots are 1 and carry in all(80(user voice sample)+160(parity bits))=240 bits in one slot packet\n",
      "HR=1600; #hopes/second\n",
      "Eff=SS/TS;\n",
      "x=R/SS;  #x is number of times a packet is sent\n",
      "\n",
      "#Results\n",
      "print 'Hopping rate is %d hopes/sec'%HR;\n",
      "print 'No of bits transmitted in one slot are %d'%TS;\n",
      "print 'Efficiency of packet transmission is %.4f'%Eff;\n",
      "print 'Number of times a packet is sent is equal to %d'%x;"
     ],
     "language": "python",
     "metadata": {},
     "outputs": [
      {
       "output_type": "stream",
       "stream": "stdout",
       "text": [
        "Hopping rate is 1600 hopes/sec\n",
        "No of bits transmitted in one slot are 240\n",
        "Efficiency of packet transmission is 0.3333\n",
        "Number of times a packet is sent is equal to 800\n"
       ]
      }
     ],
     "prompt_number": 1
    },
    {
     "cell_type": "heading",
     "level": 2,
     "metadata": {},
     "source": [
      "Example 19.2, Page 666"
     ]
    },
    {
     "cell_type": "code",
     "collapsed": false,
     "input": [
      "#Variable declaration\n",
      "R=136.; # bits per slot\n",
      "SR=800; # no of slots per second\n",
      "\n",
      "#Calculations\n",
      "# A symmetric 1-slot DM1 link is setup  between a master and a slave\n",
      "AR=R*SR; #Data rate in bps\n",
      "\n",
      "#Result\n",
      "print 'Associated data rate is %0.1f kbps'%(AR/1000);"
     ],
     "language": "python",
     "metadata": {},
     "outputs": [
      {
       "output_type": "stream",
       "stream": "stdout",
       "text": [
        "Associated data rate is 108.8 kbps\n"
       ]
      }
     ],
     "prompt_number": 2
    }
   ],
   "metadata": {}
  }
 ]
}