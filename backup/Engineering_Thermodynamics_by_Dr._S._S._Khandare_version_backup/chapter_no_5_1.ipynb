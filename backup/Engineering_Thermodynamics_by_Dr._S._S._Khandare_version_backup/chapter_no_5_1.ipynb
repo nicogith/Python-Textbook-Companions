{
 "metadata": {
  "name": ""
 },
 "nbformat": 3,
 "nbformat_minor": 0,
 "worksheets": [
  {
   "cells": [
    {
     "cell_type": "heading",
     "level": 1,
     "metadata": {},
     "source": [
      "Chapter No - 5 : Air Standard Cycles\n",
      "    "
     ]
    },
    {
     "cell_type": "heading",
     "level": 2,
     "metadata": {},
     "source": [
      "Example No :  5.1 - Page No :  128"
     ]
    },
    {
     "cell_type": "code",
     "collapsed": false,
     "input": [
      "from __future__ import division\n",
      "# Given data\n",
      "T1 = 550 # in degree C\n",
      "T1 = T1 + 273 # in K\n",
      "T2 = 27 # in degree C\n",
      "T2 = T2 + 273 # in K\n",
      "Eta = ((T1-T2)/T1)*100 # in %\n",
      "print \"Maximum possible efficiency for staem turbine plant = %0.2f %% \" %Eta\n",
      "T1 = 2500 # in degree C\n",
      "T1 = T1 + 273 # in K\n",
      "T2 = 400 # in degree C\n",
      "T2 = T2 + 273 # in K\n",
      "Eta = ((T1-T2)/T1)*100 # in %\n",
      "print \"Maximum possible efficiency for internal combustion engine = %0.2f %% \" %Eta\n",
      "T1 = 450 # in degree C\n",
      "T1 = T1 + 273 # in K\n",
      "T2 = 15 # in degree C\n",
      "T2 = T2 + 273 # in K\n",
      "Eta = ((T1-T2)/T1)*100 # in %\n",
      "print \"Maximum possible efficiency for nuclear power plant = %0.2f %% \" %Eta"
     ],
     "language": "python",
     "metadata": {},
     "outputs": [
      {
       "output_type": "stream",
       "stream": "stdout",
       "text": [
        "Maximum possible efficiency for staem turbine plant = 63.55 % \n",
        "Maximum possible efficiency for internal combustion engine = 75.73 % \n",
        "Maximum possible efficiency for nuclear power plant = 60.17 % \n"
       ]
      }
     ],
     "prompt_number": 12
    },
    {
     "cell_type": "heading",
     "level": 2,
     "metadata": {},
     "source": [
      "Example No :  5.2 - Page No :  133"
     ]
    },
    {
     "cell_type": "code",
     "collapsed": false,
     "input": [
      "from numpy import pi\n",
      "# Given data\n",
      "D = 0.3 # in m\n",
      "L = 0.45 # in m\n",
      "V_s = (pi/4)*(D)**2*L # in m**3\n",
      "V_c = 0.0114 # in m**3\n",
      "V = V_c+V_s # in m**3\n",
      "r = V/V_c \n",
      "Gamma = 1.4 \n",
      "Eta = (1-((1/r)**(Gamma-1)))*100 # in %\n",
      "print \"Efficiency of engine = %0.1f %% \" %Eta"
     ],
     "language": "python",
     "metadata": {},
     "outputs": [
      {
       "output_type": "stream",
       "stream": "stdout",
       "text": [
        "Efficiency of engine = 41.3 % \n"
       ]
      }
     ],
     "prompt_number": 13
    },
    {
     "cell_type": "heading",
     "level": 2,
     "metadata": {},
     "source": [
      "Example No :  5.3 - Page No :  133"
     ]
    },
    {
     "cell_type": "code",
     "collapsed": false,
     "input": [
      "import math\n",
      "# Given data\n",
      "P1 = 0.93 # in bar\n",
      "T1 = 93 # in degree C\n",
      "T1 = T1 + 273 # in K\n",
      "V2 = 1 # assumed\n",
      "V1 = 8.5*V2 \n",
      "r = V1/V2 \n",
      "Gamma = 1.4 \n",
      "P2 = P1 * ((V1/V2)**(Gamma)) # in bar\n",
      "print \"Pressure at the beginning of compression stroke = %0.1f bar \" %P2\n",
      "T2 = (P2*V2*T1)/(P1*V1) # in K\n",
      "print \"Temperature at the beginning of compression stroke = %0.0f \u00b0C\" %(T2-273)\n",
      "P3 = 38 # in bar\n",
      "T3 = T2 * (P3/P2) # in K\n",
      "print \"Pressure at the beginning of expansion stroke = %0.0f bar\" %P3\n",
      "print \"Temperature at the beginning of expansion stroke = %0.0f \u00b0C\" %(T3-273)\n",
      "V3 = V2 \n",
      "V4 = V1 \n",
      "P4 = P3 * ((V3/V4)**(Gamma)) # in bar\n",
      "T4 = T1 * (P4/P1) # in K\n",
      "T4 = math.ceil(T4-273) # in degree C\n",
      "print \"Pressure at the end of expansion stroke = %0.1f bar \" %P4\n",
      "print \"Temperature at the end of expansion stroke = %0.0f \u00b0C\" %T4\n",
      "Eta = 1 - (1/((r)**(Gamma-1))) \n",
      "Eta = Eta * 100 # in %\n",
      "print \"Standard air efficiency = %0.1f %% \" %Eta"
     ],
     "language": "python",
     "metadata": {},
     "outputs": [
      {
       "output_type": "stream",
       "stream": "stdout",
       "text": [
        "Pressure at the beginning of compression stroke = 18.6 bar \n",
        "Temperature at the beginning of compression stroke = 588 \u00b0C\n",
        "Pressure at the beginning of expansion stroke = 38 bar\n",
        "Temperature at the beginning of expansion stroke = 1486 \u00b0C\n",
        "Pressure at the end of expansion stroke = 1.9 bar \n",
        "Temperature at the end of expansion stroke = 475 \u00b0C\n",
        "Standard air efficiency = 57.5 % \n"
       ]
      }
     ],
     "prompt_number": 14
    },
    {
     "cell_type": "heading",
     "level": 2,
     "metadata": {},
     "source": [
      "Example No :  5.4 - Page No :  135"
     ]
    },
    {
     "cell_type": "code",
     "collapsed": false,
     "input": [
      "# Given data\n",
      "CalorificValue= 14.887*10**3 # in kJ/m**3\n",
      "Vs= 1 # in m**3 (assumed)\n",
      "Vc= 0.25*Vs # clearance volume in m**3\n",
      "V= Vs+Vc # in m**3\n",
      "Ratio= V/Vc # ratio of compression\n",
      "Gamma= 1.4 \n",
      "r= 5 \n",
      "Eta=1-1/(r**(Gamma-1))  \n",
      "Eta= Eta*100 # in %\n",
      "print \"Air standard efficiency = %0.1f %%\" %Eta\n",
      "Eta_Th= Eta*60/100 # thermal efficiency\n",
      "print \"Thermal efficiency = %0.2f %%\" %Eta_Th\n",
      "Eta_br_th= Eta_Th*75/100 # break thermal efficiency\n",
      "print \"Brake thermal efficiency = %0.2f %%\" %Eta_br_th\n",
      "E= 3600 # energy equivalent of brake in kJ\n",
      "GasConsumption= E/CalorificValue # in m**3\n",
      "print \"The consumption of gas = %0.3f m**3\" %GasConsumption"
     ],
     "language": "python",
     "metadata": {},
     "outputs": [
      {
       "output_type": "stream",
       "stream": "stdout",
       "text": [
        "Air standard efficiency = 47.5 %\n",
        "Thermal efficiency = 28.48 %\n",
        "Brake thermal efficiency = 21.36 %\n",
        "The consumption of gas = 0.242 m**3\n"
       ]
      }
     ],
     "prompt_number": 15
    },
    {
     "cell_type": "heading",
     "level": 2,
     "metadata": {},
     "source": [
      "Example No :  5.7 - Page No :  \t142"
     ]
    },
    {
     "cell_type": "code",
     "collapsed": false,
     "input": [
      "# Given data\n",
      "Gamma = 1.4 \n",
      "r = 8 \n",
      "Eta = 1 - (1/((r)**(Gamma-1))) \n",
      "Eta = Eta  * 100 # in %\n",
      "print \"Otto engine efficiency = %0.1f %% \" %Eta\n",
      "r = 13 \n",
      "x = 1 \n",
      "Rho = 2.5 \n",
      "Eta = 1-(1/r)**(Gamma-1)*((Rho**Gamma-1)/(Gamma*(Rho-1)))\n",
      "Eta = Eta * 100 # in %\n",
      "print \"Diesel engine efficiency = %0.1f %% \" %Eta\n",
      "r = 13 \n",
      "x = 3.5 \n",
      "Rho = 2.5 \n",
      "Eta = 1-(1/r)**(Gamma-1)*((x*Rho**Gamma-1)/((x-1)+x*Gamma*(Rho-1))) \n",
      "Eta = Eta * 100 # in %\n",
      "print \"Dual engine efficiency = %0.1f %% \" %Eta"
     ],
     "language": "python",
     "metadata": {},
     "outputs": [
      {
       "output_type": "stream",
       "stream": "stdout",
       "text": [
        "Otto engine efficiency = 56.5 % \n",
        "Diesel engine efficiency = 55.5 % \n",
        "Dual engine efficiency = 57.7 % \n"
       ]
      }
     ],
     "prompt_number": 16
    },
    {
     "cell_type": "heading",
     "level": 2,
     "metadata": {},
     "source": [
      "Example No :  5.8 - Page No :  143"
     ]
    },
    {
     "cell_type": "code",
     "collapsed": false,
     "input": [
      "from numpy import pi\n",
      "# Given data\n",
      "D = 15 \n",
      "L = 25 \n",
      "V_s = (pi/4) * (D)**2 * L # in cm**3\n",
      "V_c = 400 # in cm**3\n",
      "V = V_s+V_c # in cm**3\n",
      "r = V/V_c \n",
      "Rho = (V_c +( V_s*(5/100) ))/V_c \n",
      "Gamma = 1.4 \n",
      "Eta = 1-((1/r)**(Gamma-1)) * ( (((Rho)**(Gamma))-1)/(Gamma*(Rho-1)) ) \n",
      "Eta = Eta * 100 # in %\n",
      "print \"Efficiency of diesel cycle = %0.3f %% \" %Eta\n",
      "\n",
      "# Note: Calculation in the book is wrong, So the answer in the book is wrong"
     ],
     "language": "python",
     "metadata": {},
     "outputs": [
      {
       "output_type": "stream",
       "stream": "stdout",
       "text": [
        "Efficiency of diesel cycle = 59.335 % \n"
       ]
      }
     ],
     "prompt_number": 17
    },
    {
     "cell_type": "heading",
     "level": 2,
     "metadata": {},
     "source": [
      "Example No :  5.9 - Page No :  143"
     ]
    },
    {
     "cell_type": "code",
     "collapsed": false,
     "input": [
      "# Given data\n",
      "C_P = 0.966 # in kJ/kg-K\n",
      "C_v = 0.712 # in kJ/kg-K\n",
      "T1 = 83 # in  degree C\n",
      "T1  =T1 + 273 # in K\n",
      "T3 = 1800 # in degree C\n",
      "T3 = T3+273 # in K\n",
      "r = 13 \n",
      "Gamma = 1.4 \n",
      "T2 = T1 * (r)**(Gamma-1) # in K\n",
      "print \"Temperature at the end of compression = %0.0f \u00b0C \" %(T2-273)\n",
      "Rho = T3/T2 \n",
      "T4 = ((Rho)**(Gamma)) * T1 # in K\n",
      "print \"Temperature at the end of expansion = %0.0f \u00b0C \" %(T4-273)\n",
      "Q = C_P * (T3-T2) # in kJ\n",
      "print \"Heat supplied at constant pressure = %0.0f kJ \" %Q\n",
      "Q1 = C_v * (T4-T1) # in kJ\n",
      "print \"Heat rejected at constant volume = %0.1f kJ \" %Q1\n",
      "Eta = ((Q-Q1)/Q) * 100 # in %\n",
      "print \"Thermal efficiency = %0.1f %% \"  %Eta\n",
      "\n",
      "# Note: The answer in the book is not accurate"
     ],
     "language": "python",
     "metadata": {},
     "outputs": [
      {
       "output_type": "stream",
       "stream": "stdout",
       "text": [
        "Temperature at the end of compression = 720 \u00b0C \n",
        "Temperature at the end of expansion = 724 \u00b0C \n",
        "Heat supplied at constant pressure = 1043 kJ \n",
        "Heat rejected at constant volume = 456.6 kJ \n",
        "Thermal efficiency = 56.2 % \n"
       ]
      }
     ],
     "prompt_number": 18
    },
    {
     "cell_type": "heading",
     "level": 2,
     "metadata": {},
     "source": [
      "Example No :  5.11 - Page No :  146"
     ]
    },
    {
     "cell_type": "code",
     "collapsed": false,
     "input": [
      "# Given data\n",
      "r = 10 \n",
      "Gamma = 1.4 \n",
      "P1 = 1 # in bar\n",
      "P2 = 1 * ((r)**(Gamma)) # in bar\n",
      "P3 = 40 # in bar\n",
      "P4 = P3 # in bar\n",
      "T1 = 80 # in degree C\n",
      "T1 = T1+273 # in K\n",
      "T2 = T1 * ((r)**(Gamma-1)) # in K\n",
      "T3 = (P3/P2)*T2 # in K\n",
      "T4 = 1700 # in degree C\n",
      "T4 = T4 + 273 # in K\n",
      "Vc= 1 # in m**3(assumed)\n",
      "V4= Vc*T4/T3 \n",
      "V1= 10*Vc # volume at beginning of compression in m**3\n",
      "Vs= V1-Vc # in m**3\n",
      "PercentageStroke= (V4-Vc)/Vs*100 # in %\n",
      "print \"Percentage of stroke at which heat reception must stop = %0.1f %%\" %PercentageStroke\n",
      "r= V1/V4 \n",
      "P5= P4/r**Gamma # in bar\n",
      "ratio= (P4*V4-P5*V1)/(P2*Vc-P1*V1) \n",
      "print \"Ratio of work done during expansion to that done during compression = %0.2f\" %ratio"
     ],
     "language": "python",
     "metadata": {},
     "outputs": [
      {
       "output_type": "stream",
       "stream": "stdout",
       "text": [
        "Percentage of stroke at which heat reception must stop = 4.4 %\n",
        "Ratio of work done during expansion to that done during compression = 2.01\n"
       ]
      }
     ],
     "prompt_number": 19
    },
    {
     "cell_type": "heading",
     "level": 2,
     "metadata": {},
     "source": [
      "Example No :  5.12 - Page No :  146"
     ]
    },
    {
     "cell_type": "code",
     "collapsed": false,
     "input": [
      "# Given data\n",
      "P1 = 1 # in bar\n",
      "T1 = 320 # in K\n",
      "r= 11.6 \n",
      "Vc= 1 # in m**3 (assumed)\n",
      "Vs= 10.6*Vc #in m**3\n",
      "V1= r*Vc # in m**3\n",
      "Gamma= 1.4 \n",
      "P2= P1*r**Gamma # in bar\n",
      "V2= Vc # in m**3\n",
      "V3= Vc # in m**3\n",
      "V4=1.38*Vc # in m**3\n",
      "P3= 1.53*P2 # in bar\n",
      "P4= P3 # in bar\n",
      "expansionRatio= V1/V4 \n",
      "P5= P4/expansionRatio**Gamma # in bar\n",
      "V5= r*Vc # in m**3\n",
      "W= (P3*(V4-Vc)+(P4*V4-P5*V5)/(Gamma-1)-(P2*V2-P1*V1)/(Gamma-1))*10**5 # in joule\n",
      "Pm= W/(Vs*10**4) # in N/cm**2\n",
      "print \"The mean effective pressure of the cycle = %0.2f N/cm**2\" %Pm\n",
      "\n",
      "# Note: The calculation in the book is wrong"
     ],
     "language": "python",
     "metadata": {},
     "outputs": [
      {
       "output_type": "stream",
       "stream": "stdout",
       "text": [
        "The mean effective pressure of the cycle = 59.66 N/cm**2\n"
       ]
      }
     ],
     "prompt_number": 20
    },
    {
     "cell_type": "heading",
     "level": 2,
     "metadata": {},
     "source": [
      "Example No :  5.13 - Page No :  150"
     ]
    },
    {
     "cell_type": "code",
     "collapsed": false,
     "input": [
      "from math import log\n",
      "# Given data\n",
      "C_P = 0.998 # in kJ/kg-K\n",
      "C_v = 0.707 #in kJ/kg-K\n",
      "T1 = 15 # in degree C\n",
      "T1 = T1  +273 # in K\n",
      "T2 = 400 # in degree C\n",
      "T2 = T2 + 273 # in K\n",
      "Eta = (1 - (T1/T2))*100 # in %\n",
      "print \"The ideal efficiency when engine is fitted with a perfect regenerator = %0.2f %% \" %Eta\n",
      "R = C_P-C_v # in kJ/kg-K\n",
      "r = 3 \n",
      "Eta_r = 0.8 \n",
      "Eta = ((R*(log(r)))*(T2-T1))/( (R*(log(r))*T2) + (1-Eta_r) * C_v * (T2-T1) )*100 # in %\n",
      "print \"The ideal efficicency when efficiency of the regenrator is 0.8 = %0.1f %% \" %Eta"
     ],
     "language": "python",
     "metadata": {},
     "outputs": [
      {
       "output_type": "stream",
       "stream": "stdout",
       "text": [
        "The ideal efficiency when engine is fitted with a perfect regenerator = 57.21 % \n",
        "The ideal efficicency when efficiency of the regenrator is 0.8 = 45.7 % \n"
       ]
      }
     ],
     "prompt_number": 21
    },
    {
     "cell_type": "heading",
     "level": 2,
     "metadata": {},
     "source": [
      "Example No :  5.14 - Page No :  155"
     ]
    },
    {
     "cell_type": "code",
     "collapsed": false,
     "input": [
      "# Given data\n",
      "T1 = 15 # in degree C\n",
      "T1 = T1 + 273 # in K\n",
      "P1 = 1 # in bar\n",
      "P2 = 5 # in bar\n",
      "Gamma = 1.4 \n",
      "T2 = T1 * ((P2/P1)**((Gamma-1)/Gamma)) # in K\n",
      "C_P = 1.003 # in kJ/kg-K\n",
      "CompWork = C_P*(T2 - T1) # Compressure work in kJ/kg\n",
      "T3 = 800 # in degree C\n",
      "T3 = T3 + 273 # in K\n",
      "T4 = T3/((P2/P1)**((Gamma-1)/Gamma)) # in K\n",
      "T4= round(T4) # in K\n",
      "turbineWork = C_P * (T3-T4) # Turbine work in kJ/kg\n",
      "Q = C_P * (T3-T2) # Heat input in kJ/kg\n",
      "W = turbineWork-CompWork # in kJ/kg\n",
      "W= round(W) #in kJ/kg\n",
      "Eta = (W/Q)* 100 # in %\n",
      "print \"the thermal efficiency of plant = %0.0f %% \" %round(Eta)\n",
      "print \"Output of gas turbine installation\",int(W),\"kW per kg of flow per second\""
     ],
     "language": "python",
     "metadata": {},
     "outputs": [
      {
       "output_type": "stream",
       "stream": "stdout",
       "text": [
        "the thermal efficiency of plant = 37 % \n",
        "Output of gas turbine installation 229 kW per kg of flow per second\n"
       ]
      }
     ],
     "prompt_number": 22
    },
    {
     "cell_type": "heading",
     "level": 2,
     "metadata": {},
     "source": [
      "Example No :  5.15 - Page No :  158"
     ]
    },
    {
     "cell_type": "code",
     "collapsed": false,
     "input": [
      "from math import log\n",
      "# Given data\n",
      "C_v = 0.711 # in kJ/kg-K\n",
      "T3 = 850 # in degree C\n",
      "T3 = T3 + 273 # in K\n",
      "T2 = 90 # in degree C\n",
      "T2 = T2 + 273 # in K\n",
      "E = C_v * (log(T3/T2)) # Entropy change in kJ/kg-K\n",
      "print \"Entrophy change = %0.3f kJ/kg-K \" %E\n",
      "W = (E * (T3-T2))/2 #output work in kJ/kg\n",
      "Q = T2+E #rejected heat in kJ/kg\n",
      "Q1 = W + Q #heat supplied in kJ/kg\n",
      "Eta = (W/Q1) # in %\n",
      "print \"The efficiency of cycle = %0.3f %% \" %Eta"
     ],
     "language": "python",
     "metadata": {},
     "outputs": [
      {
       "output_type": "stream",
       "stream": "stdout",
       "text": [
        "Entrophy change = 0.803 kJ/kg-K \n",
        "The efficiency of cycle = 0.456 % \n"
       ]
      }
     ],
     "prompt_number": 23
    }
   ],
   "metadata": {}
  }
 ]
}