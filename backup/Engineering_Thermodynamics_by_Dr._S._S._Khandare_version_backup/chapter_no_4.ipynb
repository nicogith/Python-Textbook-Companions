{
 "metadata": {
  "name": ""
 },
 "nbformat": 3,
 "nbformat_minor": 0,
 "worksheets": [
  {
   "cells": [
    {
     "cell_type": "heading",
     "level": 1,
     "metadata": {},
     "source": [
      "Chapter No - 4 : Avaibility\n",
      "    "
     ]
    },
    {
     "cell_type": "heading",
     "level": 2,
     "metadata": {},
     "source": [
      "Example No :  4.1 - Page No : 122"
     ]
    },
    {
     "cell_type": "code",
     "collapsed": false,
     "input": [
      "from __future__ import division\n",
      "# Given data\n",
      "Q=  1000 # in kJ\n",
      "T1= 1000 # in K\n",
      "T2= 400 # in K\n",
      "delta_Qsource= -Q/T1 # in kJ/K\n",
      "delta_Qsystem= Q/T2 # in kJ/K\n",
      "delta_Qnet=delta_Qsystem+delta_Qsource # in kJ/K\n",
      "print \"The entropy production accompanying the heat transfer = %0.1f kJ/K \" %delta_Qnet\n",
      "T0= 300 # in K\n",
      "Q1= Q-T0*abs(delta_Qsource) # in kJ\n",
      "Q2= Q-T0*abs(delta_Qsystem) # in kJ\n",
      "LossOfEnergy= Q1-Q2 # in kJ\n",
      "print \"The decrease in available energy after heat transfer = %0.0f kJ \" %LossOfEnergy"
     ],
     "language": "python",
     "metadata": {},
     "outputs": [
      {
       "output_type": "stream",
       "stream": "stdout",
       "text": [
        "The entropy production accompanying the heat transfer = 1.5 kJ/K \n",
        "The decrease in available energy after heat transfer = 450 kJ \n"
       ]
      }
     ],
     "prompt_number": 3
    },
    {
     "cell_type": "heading",
     "level": 2,
     "metadata": {},
     "source": [
      "Example No :  4.2 - Page No :  122"
     ]
    },
    {
     "cell_type": "code",
     "collapsed": false,
     "input": [
      "from scipy.integrate import quad\n",
      "# Given data\n",
      "T1= 800+273 # in K\n",
      "T2= 400+273 # in K\n",
      "T3= 179+273 # in K\n",
      "T0= 25+273 # in K\n",
      "Q= 2018.4 # heat taken by water in kJ/kg\n",
      "# Formula mCp*(T1-T2)= Q\n",
      "mCp= Q/(T1-T2)\n",
      "def integrand(t):\n",
      "    return 1/t\n",
      "ans, err = quad(integrand, T1, T2)\n",
      "delta_Qgas= mCp*ans # in kJ/K\n",
      "delta_Qwater= Q/T3 # in kJ/K\n",
      "delta_Qnet= delta_Qwater+delta_Qgas #  in kJ/K\n",
      "print \"Net entropy changes = %0.3f kJ/K \" %delta_Qnet\n",
      "E1= T0*abs(delta_Qgas) # Original unavailable energy in kJ\n",
      "E2= T0*delta_Qwater #unavailable energy after heat transfer in kJ\n",
      "E= E2-E1 # in increase in unavailable energy in kJ\n",
      "print \"The increase in unavailable energy = %0.2f kJ \" %E\n",
      "\n",
      "# Note: In the book, the calculation is not accurate"
     ],
     "language": "python",
     "metadata": {},
     "outputs": [
      {
       "output_type": "stream",
       "stream": "stdout",
       "text": [
        "Net entropy changes = 2.112 kJ/K \n",
        "The increase in unavailable energy = 629.28 kJ \n"
       ]
      }
     ],
     "prompt_number": 11
    }
   ],
   "metadata": {}
  }
 ]
}