{
 "metadata": {
  "name": "",
  "signature": "sha256:58def12f7e424e92e928d020c21b40714eff26275c7ce87aa5600004fbc92a49"
 },
 "nbformat": 3,
 "nbformat_minor": 0,
 "worksheets": [
  {
   "cells": [
    {
     "cell_type": "heading",
     "level": 1,
     "metadata": {},
     "source": [
      "Chapter03:Interpolation"
     ]
    },
    {
     "cell_type": "heading",
     "level": 2,
     "metadata": {},
     "source": [
      "Ex3.4:pg-86"
     ]
    },
    {
     "cell_type": "code",
     "collapsed": false,
     "input": [
      "#example 3.4\n",
      "#interpolation\n",
      "#page 86\n",
      "import math\n",
      "from __future__ import division\n",
      "x=[1, 3, 5, 7]\n",
      "y=[24, 120, 336, 720]\n",
      "d1=[0,0,0]\n",
      "d2=[0,0,0]\n",
      "d3=[0,0,0]\n",
      "h=2     #interval between values of x\n",
      "c=0\n",
      "for i in range(0,3):\n",
      "    d1[c]=y[i+1]-y[i]\n",
      "    c=c+1\n",
      "c=0\n",
      "for i in range(0,2):\n",
      "    d2[c]=d1[i+1]-d1[i]\n",
      "    c=c+1\n",
      "c=0\n",
      "for i in range(0,1):\n",
      "    d3[c]=d2[i+1]-d2[i]\n",
      "    c=c+1\n",
      "d=[0,d1[0],d2[0],d3[0]]\n",
      "x0=8   #value at 8\n",
      "pp=1\n",
      "y_x=y[0]\n",
      "p=(x0-1)/2\n",
      "for i in range(1,4):\n",
      "    pp=1\n",
      "    for j in range(0,i):\n",
      "        pp=pp*(p-(j))  \n",
      "    y_x=y_x+(pp*d[i])/math.factorial(i)\n",
      "print \"value of function at %f is :%f\" %(x0,y_x)\n",
      "\n"
     ],
     "language": "python",
     "metadata": {},
     "outputs": [
      {
       "output_type": "stream",
       "stream": "stdout",
       "text": [
        "value of function at 8.000000 is :990.000000\n"
       ]
      }
     ],
     "prompt_number": 7
    },
    {
     "cell_type": "heading",
     "level": 2,
     "metadata": {},
     "source": [
      "Ex3.6:pg-87"
     ]
    },
    {
     "cell_type": "code",
     "collapsed": false,
     "input": [
      "#example 3.6\n",
      "#interpolation\n",
      "#page 87\n",
      "x=[15, 20, 25, 30, 35, 40]\n",
      "y=[0.2588190, 0.3420201, 0.4226183, 0.5, 0.5735764, 0.6427876]\n",
      "d1=[0,0,0,0,0]\n",
      "d2=[0,0,0,0]\n",
      "d3=[0,0,0]\n",
      "d4=[0,0]\n",
      "d5=[0]\n",
      "h=5  #interval between values of x\n",
      "c=0\n",
      "for i in range(0,5):\n",
      "    d1[c]=y[i+1]-y[i]\n",
      "    c=c+1\n",
      "c=0\n",
      "for i in range(0,4):\n",
      "    d2[c]=d1[i+1]-d1[i]\n",
      "    c=c+1\n",
      "c=0\n",
      "for i in range(0,3):\n",
      "    d3[c]=d2[i+1]-d2[i]\n",
      "    c=c+1\n",
      "c=0\n",
      "for i in range(0,2):\n",
      "    d4[c]=d3[i+1]-d3[i]\n",
      "    c=c+1\n",
      "c=0\n",
      "for i in range(0,1):\n",
      "    d5[c]=d4[i+1]-d4[i]\n",
      "    c=c+1\n",
      "c=0\n",
      "d=[0,d1[0], d2[0], d3[0], d4[0], d5[0]]\n",
      "x0=38    #value at 38 degree\n",
      "pp=1\n",
      "y_x=y[0]\n",
      "p=(x0-x[0])/h\n",
      "for i in range(1,6):\n",
      "    pp=1\n",
      "    for j in range(0,i):\n",
      "        pp=pp*(p-(j))   \n",
      "    y_x=y_x+((pp*d[i])/math.factorial(i));\n",
      "print \"value of function at %i is :%f\" %(x0,y_x)"
     ],
     "language": "python",
     "metadata": {},
     "outputs": [
      {
       "output_type": "stream",
       "stream": "stdout",
       "text": [
        "value of function at 38 is :0.615661\n"
       ]
      }
     ],
     "prompt_number": 26
    },
    {
     "cell_type": "heading",
     "level": 2,
     "metadata": {},
     "source": [
      "Ex3.7:pg-89"
     ]
    },
    {
     "cell_type": "code",
     "collapsed": false,
     "input": [
      "#example 3.7\n",
      "#interpolation\n",
      "#page 89\n",
      "x=[0, 1, 2, 4]\n",
      "y=[1, 3, 9, 81]\n",
      "#equation is y(5)-4*y(4)+6*y(2)-4*y(2)+y(1)\n",
      "y3=(y[3]+6*y[2]-4*y[1]+y[0])/4\n",
      "print \"the value of missing term of table is :%d\" %(y3)\n"
     ],
     "language": "python",
     "metadata": {},
     "outputs": [
      {
       "output_type": "stream",
       "stream": "stdout",
       "text": [
        "the value of missing term of table is :31\n"
       ]
      }
     ],
     "prompt_number": 1
    },
    {
     "cell_type": "heading",
     "level": 2,
     "metadata": {},
     "source": [
      "Ex3.8:pg-89"
     ]
    },
    {
     "cell_type": "code",
     "collapsed": false,
     "input": [
      "#example 3.8\n",
      "#interpolation\n",
      "#page 89\n",
      "import math\n",
      "x=[0.10, 0.15, 0.20, 0.25, 0.30]\n",
      "y=[0.1003, 0.1511, 0.2027, 0.2553, 0.3093]\n",
      "d1=[0,0,0,0,0]\n",
      "d2=[0,0,0,0,0]\n",
      "d3=[0,0,0,0,0]\n",
      "d4=[0,0,0,0,0]\n",
      "h=0.05 #interval between values of x\n",
      "c=0\n",
      "for i in range(0,4):\n",
      "    d1[c]=y[i+1]-y[i]\n",
      "    c=c+1\n",
      "c=0\n",
      "for i in range(0,3):\n",
      "    d2[c]=d1[i+1]-d1[i]\n",
      "    c=c+1\n",
      "c=0\n",
      "for i in range(0,2):\n",
      "    d3[c]=d2[i+1]-d2[i]\n",
      "    c=c+1\n",
      "c=0\n",
      "for i in range(0,4):\n",
      "    d4[c]=d3[i+1]-d3[i]\n",
      "    c=c+1\n",
      "d=[0,d1[0], d2[0], d3[0], d4[0]]\n",
      "x0=0.12   #value at 0.12;\n",
      "pp=1\n",
      "y_x=y[0]\n",
      "p=(x0-x[0])/h\n",
      "for i in range(1,5):\n",
      "    pp=1;\n",
      "    for j in range(0,i):\n",
      "        pp=pp*(p-(j))    \n",
      "    y_x=y_x+(pp*d[i])/math.factorial(i)\n",
      "print \"value of function at %f is :%0.4g\\n \\n\" %(x0,y_x)\n",
      "x0=0.26  #value at 0.26;\n",
      "pp=1\n",
      "y_x=y[0]\n",
      "p=(x0-x[0])/h\n",
      "for i in range(1,5):\n",
      "    pp=1\n",
      "    for j in range(0,i):\n",
      "        pp=pp*(p-(j))    \n",
      "    y_x=y_x+(pp*d[i])/math.factorial(i);\n",
      "print \"value of function at %f is :%0.4g\\n \\n\" %(x0,y_x)\n",
      "x0=0.40   #value at 0.40;\n",
      "pp=1\n",
      "y_x=y[0]\n",
      "p=(x0-x[0])/h\n",
      "for i in range(1,5):\n",
      "    pp=1\n",
      "    for j in range(0,i):\n",
      "         pp=pp*(p-(j))    \n",
      "    y_x=y_x+(pp*d[i])/math.factorial(i)\n",
      "print \"value of function at %f is :%0.4g\\n \\n\" %(x0,y_x)\n",
      "x0=0.50  #value at 0.50;\n",
      "pp=1\n",
      "y_x=y[0]\n",
      "p=(x0-x[0])/h\n",
      "for i in range(1,5):\n",
      "    pp=1\n",
      "    for j in range(0,i):\n",
      "         pp=pp*(p-(j))    \n",
      "    y_x=y_x+(pp*d[i])/math.factorial(i)\n",
      "print \"value of function at %f is :%0.5g\\n \\n\" %(x0,y_x)\n"
     ],
     "language": "python",
     "metadata": {},
     "outputs": [
      {
       "output_type": "stream",
       "stream": "stdout",
       "text": [
        "value of function at 0.120000 is :0.1205\n",
        " \n",
        "\n",
        "value of function at 0.260000 is :0.266\n",
        " \n",
        "\n",
        "value of function at 0.400000 is :0.4241\n",
        " \n",
        "\n",
        "value of function at 0.500000 is :0.5543\n",
        " \n",
        "\n"
       ]
      }
     ],
     "prompt_number": 33
    },
    {
     "cell_type": "heading",
     "level": 2,
     "metadata": {},
     "source": [
      "Ex3.9:pg-93"
     ]
    },
    {
     "cell_type": "code",
     "collapsed": false,
     "input": [
      "#example 3.9\n",
      "#Gauss' forward formula\n",
      "#page 93\n",
      "x=[1.0, 1.05, 1.10, 1.15, 1.20, 1.25, 1.30];\n",
      "y=[2.7183, 2.8577, 3.0042, 3.1582, 3.3201, 3.4903, 3.66693]\n",
      "d1=[0,0,0,0,0,0]\n",
      "d2=[0,0,0,0,0]\n",
      "d3=[0,0,0,0]\n",
      "d4=[0,0,0]\n",
      "d5=[0,0]\n",
      "d6=[0]\n",
      "h=0.05  #interval between values of x\n",
      "c=0\n",
      "for i in range(0,6):\n",
      "    d1[c]=y[i+1]-y[i]\n",
      "    c=c+1\n",
      "c=0\n",
      "for i in range(0,5):\n",
      "    d2[c]=d1[i+1]-d1[i]\n",
      "    c=c+1\n",
      "c=0\n",
      "for i in range(0,4):\n",
      "    d3[c]=d2[i+1]-d2[i]\n",
      "    c=c+1\n",
      "c=0\n",
      "for i in range(0,3):\n",
      "    d4[c]=d3[i+1]-d3[i]\n",
      "    c=c+1\n",
      "c=0\n",
      "for i in range(0,2):\n",
      "    d5[c]=d4[i+1]-d4[i]\n",
      "    c=c+1\n",
      "c=0\n",
      "for i in range(0,1):\n",
      "    d6[c]=d5[i+1]-d5[i]\n",
      "    c=c+1\n",
      "d=[0,d1[3], d2[2], d3[2], d4[1], d5[0], d6[0]]\n",
      "x0=1.17 #value at 1.17;\n",
      "pp=1\n",
      "y_x=y[3]\n",
      "p=(x0-x[3])/h\n",
      "for i in range(1,6):\n",
      "    pp=1;\n",
      "    for j in range(0,i):\n",
      "        pp=pp*(p-(j))    \n",
      "    y_x=y_x+(pp*d[i])/math.factorial(i)\n",
      "print \"value of function at %f is :%0.4g\\n \\n\" %(x0,y_x)\n"
     ],
     "language": "python",
     "metadata": {},
     "outputs": [
      {
       "output_type": "stream",
       "stream": "stdout",
       "text": [
        "value of function at 1.170000 is :3.222\n",
        " \n",
        "\n"
       ]
      }
     ],
     "prompt_number": 35
    },
    {
     "cell_type": "heading",
     "level": 2,
     "metadata": {},
     "source": [
      "Ex3.10:pg-97"
     ]
    },
    {
     "cell_type": "code",
     "collapsed": false,
     "input": [
      "#practical interpolation\n",
      "#example 3.10\n",
      "#page 97\n",
      "import math\n",
      "x=[0.61, 0.62, 0.63, 0.64, 0.65, 0.66, 0.67]\n",
      "y=[1.840431, 1.858928,1.877610, 1.896481, 1.915541, 1.934792, 1.954237]\n",
      "d1=[0,0,0,0,0,0]\n",
      "d2=[0,0,0,0,0]\n",
      "d3=[0,0,0,0]\n",
      "d4=[0,0,0]\n",
      "h=0.01 #interval between values of x\n",
      "c=0\n",
      "for i in range(0,6):\n",
      "    d1[c]=y[i+1]-y[i]\n",
      "    c=c+1\n",
      "c=0\n",
      "for i in range(0,5):\n",
      "    d2[c]=d1[i+1]-d1[i]\n",
      "    c=c+1\n",
      "c=0\n",
      "for i in range(0,4):\n",
      "    d3[c]=d2[i+1]-d2[i];\n",
      "    c=c+1\n",
      "c=0\n",
      "for i in range(0,3):\n",
      "    d4[c]=d3[i+1]-d3[i];\n",
      "    c=c+1\n",
      "d=[d1[0], d2[0], d3[0], d4[0]]\n",
      "x0=0.644\n",
      "p=(x0-x[3])/h;\n",
      "y_x=y[3]\n",
      "y_x=y_x+p*(d1[2]+d1[3])/2+p**2*(d2[1])/2  #stirling formula\n",
      "print \"the value at %f by stirling formula is : %f\\n\\n\" %(x0,y_x)\n",
      "y_x=y[3]\n",
      "y_x=y_x+p*d1[3]+p*(p-1)*(d2[2]+d2[3])/2\n",
      "print \" the value at %f by bessels formula is : %f\\n\\n\" %(x0,y_x)\n",
      "y_x=y[3]\n",
      "q=1-p\n",
      "y_x=q*y[3]+q*(q**2-1)*d2[2]/2+p*y[4]+p*(q**2-1)*d2[4]/2\n",
      "print \"the value at %f by everrets formula is : %f\\n\\n\" %(x0,y_x)\n"
     ],
     "language": "python",
     "metadata": {},
     "outputs": [
      {
       "output_type": "stream",
       "stream": "stdout",
       "text": [
        "the value at 0.644000 by stirling formula is : 1.904082\n",
        "\n",
        "\n",
        " the value at 0.644000 by bessels formula is : 1.904059\n",
        "\n",
        "\n",
        "the value at 0.644000 by everrets formula is : 1.904044\n",
        "\n",
        "\n"
       ]
      }
     ],
     "prompt_number": 37
    },
    {
     "cell_type": "heading",
     "level": 2,
     "metadata": {},
     "source": [
      "Ex3.11:pg-99"
     ]
    },
    {
     "cell_type": "code",
     "collapsed": false,
     "input": [
      "#practical interpolation\n",
      "#example 3.11\n",
      "#page 99\n",
      "x=[0.61, 0.62, 0.63, 0.64, 0.65, 0.66, 0.67]\n",
      "y=[1.840431, 1.858928, 1.877610, 1.896481, 1.915541, 1.934792, 1.954237]\n",
      "d1=[0,0,0,0,0,0]\n",
      "d2=[0,0,0,0,0]\n",
      "d3=[0,0,0,0]\n",
      "d4=[0,0,0]\n",
      "h=0.01   #interval between values of x\n",
      "c=0\n",
      "for i in range(0,6):\n",
      "    d1[c]=y[i+1]-y[i]\n",
      "    c=c+1\n",
      "c=0\n",
      "for i in range(0,5):\n",
      "    d2[c]=d1[i+1]-d1[i]\n",
      "    c=c+1\n",
      "c=0\n",
      "for i in range(0,4):\n",
      "    d3[c]=d2[i+1]-d2[i]\n",
      "    c=c+1\n",
      "c=0\n",
      "for i in range(0,3):\n",
      "    d4[c]=d3[i+1]-d3[i]\n",
      "    c=c+1\n",
      "d=[d1[0], d2[0], d3[0], d4[0]]\n",
      "x0=0.638\n",
      "p=(x0-x[3])/h\n",
      "y_x=y[3]\n",
      "y_x=y_x+p*(d1[2]+d1[3])/2+p**2*(d2[1])/2   #stirling formula\n",
      "print \"value at %f by stirling formula is : %f\\n\\n\" %(x0,y_x)\n",
      "y_x=y[2]\n",
      "p=(x0-x[2])/h\n",
      "y_x=y_x+p*d1[2]+p*(p-1)*(d2[1])/2\n",
      "print \"the value at %f by bessels formula is : %f\\n\\n\" %(x0,y_x)\n"
     ],
     "language": "python",
     "metadata": {},
     "outputs": [
      {
       "output_type": "stream",
       "stream": "stdout",
       "text": [
        "value at 0.638000 by stirling formula is : 1.892692\n",
        "\n",
        "\n",
        "the value at 0.638000 by bessels formula is : 1.892692\n",
        "\n",
        "\n"
       ]
      }
     ],
     "prompt_number": 39
    },
    {
     "cell_type": "heading",
     "level": 2,
     "metadata": {},
     "source": [
      "Ex3.12:pg-99"
     ]
    },
    {
     "cell_type": "code",
     "collapsed": false,
     "input": [
      "#practical interpolation\n",
      "#example 3.12\n",
      "#page 99\n",
      "x=[1.72, 1.73, 1.74, 1.75, 1.76, 1.77, 1.78]\n",
      "y=[0.1790661479, 0.1772844100, 0.1755204006, 0.1737739435, 0.1720448638, 0.1703329888, 0.1686381473]\n",
      "d1=[0,0,0,0,0,0]\n",
      "d2=[0,0,0,0,0]\n",
      "d3=[0,0,0,0]\n",
      "d4=[0,0,0]\n",
      "h=0.01  #interval between values of x\n",
      "c=0\n",
      "for i in range(0,6):\n",
      "    d1[c]=y[i+1]-y[i]\n",
      "    c=c+1\n",
      "c=0\n",
      "for i in range(0,5):\n",
      "    d2[c]=d1[i+1]-d1[i]\n",
      "    c=c+1\n",
      "c=0\n",
      "for i in range(0,4):\n",
      "    d3[c]=d2[i+1]-d2[i]\n",
      "    c=c+1\n",
      "c=0\n",
      "for i in range(0,3):\n",
      "    d4[c]=d3[i+1]-d3[i]\n",
      "    c=c+1\n",
      "x0=1.7475\n",
      "y_x=y[2]\n",
      "p=(x0-x[2])/h\n",
      "y_x=y_x+p*d1[2]+p*(p-1)*((d2[1]+d2[2])/2)/2\n",
      "print \"the value at %f by bessels formula is : %0.10f\\n\\n\" %(x0,y_x)\n",
      "y_x=y[3]\n",
      "q=1-p\n",
      "y_x=q*y[2]+q*(q**2-1)*d2[1]/6+p*y[3]+p*(p**2-1)*d2[1]/6\n",
      "print \"the value at %f by everrets formula is : %0.10f\\n\\n\" %(x0,y_x)"
     ],
     "language": "python",
     "metadata": {},
     "outputs": [
      {
       "output_type": "stream",
       "stream": "stdout",
       "text": [
        "the value at 1.747500 by bessels formula is : 0.1742089204\n",
        "\n",
        "\n",
        "the value at 1.747500 by everrets formula is : 0.1742089122\n",
        "\n",
        "\n"
       ]
      }
     ],
     "prompt_number": 41
    },
    {
     "cell_type": "heading",
     "level": 2,
     "metadata": {},
     "source": [
      "Ex3.13:pg-104"
     ]
    },
    {
     "cell_type": "code",
     "collapsed": false,
     "input": [
      "#example 3.13\n",
      "#lagrange's interpolation formula\n",
      "#page 104\n",
      "x=[300, 304, 305, 307]\n",
      "y=[2.4771, 2.4829, 2.4843, 2.4871]\n",
      "x0=301\n",
      "log_301=(-3*-4*-6*2.4771)/(-4*-5*-7)+(-4*-6*2.4829)/(4*-1*-3)+(-3*-6*2.4843)/(5*-2)+(-3*-4*2.4871)/(7*3*2)\n",
      "print \"valie of log x at 301 is =%f\" %(log_301)\n",
      "\n",
      " "
     ],
     "language": "python",
     "metadata": {},
     "outputs": [
      {
       "output_type": "stream",
       "stream": "stdout",
       "text": [
        "valie of log x at 301 is =2.478597\n"
       ]
      }
     ],
     "prompt_number": 43
    },
    {
     "cell_type": "heading",
     "level": 2,
     "metadata": {},
     "source": [
      "Ex3.14:pg-105"
     ]
    },
    {
     "cell_type": "code",
     "collapsed": false,
     "input": [
      "#example 3.14\n",
      "#lagrange's interpolation formula\n",
      "#page 105\n",
      "y=[4, 12, 19]\n",
      "x=[1, 3, 4];\n",
      "y_x=7\n",
      "Y_X=(-5*-12)/(-8*-15)+(3*3*-12)/(8*-7)+(3*-5*4)/(15*7)\n",
      "print \"values is %f\" %(Y_X)\n",
      " "
     ],
     "language": "python",
     "metadata": {},
     "outputs": [
      {
       "output_type": "stream",
       "stream": "stdout",
       "text": [
        "values is 1.857143\n"
       ]
      }
     ],
     "prompt_number": 44
    },
    {
     "cell_type": "heading",
     "level": 2,
     "metadata": {},
     "source": [
      "Ex3.15:pg-105"
     ]
    },
    {
     "cell_type": "code",
     "collapsed": false,
     "input": [
      "#example 3.15\n",
      "#lagrange's interpolation formula\n",
      "#page 105\n",
      "x=[2, 2.5, 3.0]\n",
      "y=[0.69315, 0.91629, 1.09861]\n",
      "def l0(x):\n",
      "    return (x-2.5)*(x-3.0)/(-0.5)*(-1.0)\n",
      "def l1(x):\n",
      "    return ((x-2.0)*(x-3.0))/((0.5)*(-0.5))\n",
      "def l2(x):\n",
      "    return ((x-2.0)*(x-2.5))/((1.0)*(0.5))\n",
      "f_x=l0(2.7)*y[0]+l1(2.7)*y[1]+l2(2.7)*y[2];\n",
      "print \"the calculated value is %f:\" %(f_x)\n",
      "print \"\\n\\n the error occured in the value is %0.9f\" %(abs(f_x-log(2.7)))"
     ],
     "language": "python",
     "metadata": {},
     "outputs": [
      {
       "output_type": "stream",
       "stream": "stdout",
       "text": [
        "the calculated value is 0.994116:\n",
        "\n",
        "\n",
        " the error occured in the value is 0.000864627\n"
       ]
      }
     ],
     "prompt_number": 2
    },
    {
     "cell_type": "heading",
     "level": 2,
     "metadata": {},
     "source": [
      "Ex3.16:pg-106"
     ]
    },
    {
     "cell_type": "code",
     "collapsed": false,
     "input": [
      "#example 3.16\n",
      "#lagrange's interpolation formula\n",
      "#page 106\n",
      "import math\n",
      "x=[0, math.pi/4,math.pi/2]\n",
      "y=[0, 0.70711, 1.0];\n",
      "x0=math.pi/6\n",
      "sin_x0=0\n",
      "for i in range(0,3):\n",
      "    p=y[i]\n",
      "    for j in range(0,3):\n",
      "        if j!=i:\n",
      "            p=p*((x0-x[j])/( x[i]-x[j]))\n",
      "    sin_x0=sin_x0+p\n",
      "print \"sin_x0=%f\" %(sin_x0)\n",
      " "
     ],
     "language": "python",
     "metadata": {},
     "outputs": [
      {
       "output_type": "stream",
       "stream": "stdout",
       "text": [
        "sin_x0=0.517431\n"
       ]
      }
     ],
     "prompt_number": 4
    },
    {
     "cell_type": "heading",
     "level": 2,
     "metadata": {},
     "source": [
      "Ex3.18:pg-107"
     ]
    },
    {
     "cell_type": "code",
     "collapsed": false,
     "input": [
      "#error in lagrange's interpolation formula\n",
      "#example 3.18\n",
      "#page 107\n",
      "import math\n",
      "x=[2, 2.5, 3.0]\n",
      "y=[0.69315, 0.91629, 1.09861]\n",
      "def l0(x):\n",
      "    return (x-2.5)*(x-3.0)/(-0.5)*(-1.0)\n",
      "def l1(x):\n",
      "    return ((x-2.0)*(x-3.0))/((0.5)*(-0.5))\n",
      "def l2(x):\n",
      "    return ((x-2.0)*(x-2.5))/((1.0)*(0.5))\n",
      "f_x=l0(2.7)*y[0]+l1(2.7)*y[1]+l2(2.7)*y[2]\n",
      "print \"the calculated value is %f:\" %(f_x)\n",
      "err=math.fabs(f_x-math.log10(2.7))\n",
      "def R_n(x):\n",
      "    return (((x-2)*(x-2.5)*(x-3))/6)\n",
      "est_err=abs(R_n(2.7)*(2/8))\n",
      "if est_err<err:\n",
      "    print \"\\n\\n the error agrees with the actual error\""
     ],
     "language": "python",
     "metadata": {},
     "outputs": [
      {
       "output_type": "stream",
       "stream": "stdout",
       "text": [
        "the calculated value is 0.994116:\n",
        "\n",
        "\n",
        " the error agrees with the actual error\n"
       ]
      }
     ],
     "prompt_number": 13
    },
    {
     "cell_type": "heading",
     "level": 2,
     "metadata": {},
     "source": [
      "Ex3.19:pg-107"
     ]
    },
    {
     "cell_type": "code",
     "collapsed": false,
     "input": [
      "#error in lagrenge's interpolation\n",
      "#example 3.19\n",
      "#page 107\n",
      "import math\n",
      "x=[0, math.pi/4 ,math.pi/2]\n",
      "y=[0, 0.70711, 1.0]\n",
      "def l0(x):\n",
      "    return ((x-0)*(x-math.pi/2))/((math.pi/4)*(-1*math.pi/4))\n",
      "def l1(x):\n",
      "    return ((x-0)*(x-math.pi/4))/((math.pi/2)*(math.pi/4))\n",
      "f_x=l0(math.pi/6)*y[1]+l1(math.pi/6)*y[2]\n",
      "err=abs(f_x-math.sin(math.pi/6))\n",
      "def f(x):\n",
      "    return ((x-0)*(x-math.pi/4)*(x-math.pi/2))/6\n",
      "if abs(f(math.pi/6))>err:\n",
      "    print \"\\n\\n the error agrees with the actual error\""
     ],
     "language": "python",
     "metadata": {},
     "outputs": [
      {
       "output_type": "stream",
       "stream": "stdout",
       "text": [
        "\n",
        "\n",
        " the error agrees with the actual error\n"
       ]
      }
     ],
     "prompt_number": 14
    },
    {
     "cell_type": "heading",
     "level": 2,
     "metadata": {},
     "source": [
      "Ex3.21:pg-110"
     ]
    },
    {
     "cell_type": "code",
     "collapsed": false,
     "input": [
      "#hermite's interpolation formula\n",
      "#exammple 3.21\n",
      "#page 110\n",
      "from __future__ import division\n",
      "import math\n",
      "x=[2.0, 2.5, 3.0]\n",
      "y=[0.69315, 0.91629, 1.09861]\n",
      "y1=[0,0,0]\n",
      "def f(x):\n",
      "    return math.log(x)\n",
      "h=0.0001\n",
      "for i in range(0,3):\n",
      "    y1[i]=(f(x[i]+h)-f(x[i]))/h\n",
      "def l0(x):\n",
      "    return (x-2.5)*(x-3.0)/(-0.5)*(-1.0)\n",
      "def l1(x):\n",
      "    return ((x-2.0)*(x-3.0))/((0.5)*(-0.5))\n",
      "def l2(x):\n",
      "    return ((x-2.0)*(x-2.5))/((1.0)*(0.5))\n",
      "dl0=(l0(x[0]+h)-l0(x[0]))/h\n",
      "dl1=(l1(x[1]+h)-l1(x[1]))/h\n",
      "dl2=(l2(x[2]+h)-l2(x[2]))/h\n",
      "x0=2.7\n",
      "u0=(1-2*(x0-x[0])*dl0)*(l0(x0))**2\n",
      "u1=(1-2*(x0-x[1])*dl1)*(l1(x0))**2\n",
      "u2=(1-2*(x0-x[2])*dl2)*(l2(x0))**2\n",
      "v0=(x0-x[0])*l0(x0)**2\n",
      "v1=(x0-x[1])*l1(x0)**2\n",
      "v2=(x0-x[2])*l2(x0)**2\n",
      "H=u0*y[0]+u1*y[1]+u2*y[2]+v0*y1[0]+v1*y1[1]+v2*y1[2]\n",
      "print \"the approximate value of ln(%0.2f) is %f:\" %(x0,H)\n"
     ],
     "language": "python",
     "metadata": {},
     "outputs": [
      {
       "output_type": "stream",
       "stream": "stdout",
       "text": [
        "the approximate value of ln(2.70) is 0.993362:\n"
       ]
      }
     ],
     "prompt_number": 35
    },
    {
     "cell_type": "heading",
     "level": 2,
     "metadata": {},
     "source": [
      "Ex3.22:pg-114"
     ]
    },
    {
     "cell_type": "code",
     "collapsed": false,
     "input": [
      "#newton's general interpolation formula\n",
      "#example 3.22\n",
      "#page 114\n",
      "x=[300, 304, 305, 307]\n",
      "y=[2.4771, 2.4829, 2.4843, 2.4871]\n",
      "d1=[0,0,0]\n",
      "d2=[0,0]\n",
      "for i in range(0,3):\n",
      "    d1[i]=(y[i+1]-y[i])/(x[i+1]-x[i])\n",
      "for i in range(0,2):\n",
      "    d2[i]=(d1[i+1]-d1[i])/(x[i+2]-x[i])\n",
      "x0=301\n",
      "log301=y[0]+(x0-x[0])*d1[0]+(x0-x[1])*d2[0]\n",
      "print \"valure of log(%d) is :%0.4f\" %(x0,log301)\n"
     ],
     "language": "python",
     "metadata": {},
     "outputs": [
      {
       "output_type": "stream",
       "stream": "stdout",
       "text": [
        "valure of log(301) is :2.4786\n"
       ]
      }
     ],
     "prompt_number": 37
    },
    {
     "cell_type": "heading",
     "level": 2,
     "metadata": {},
     "source": [
      "Ex3.23:pg-114"
     ]
    },
    {
     "cell_type": "code",
     "collapsed": false,
     "input": [
      "#example 3.23\n",
      "#newton's divided formula\n",
      "#page 114\n",
      "x=[-1, 0, 3, 6, 7]\n",
      "y=[3, -6, 39, 822, 1611]\n",
      "for in range(0,4):\n",
      "    d1[i]=(y[i+1]-y[i])/(x[i+1]-x[i])\n",
      "for in range(0,3):\n",
      "    d2[i]=(d1[i+1]-d1[i])/(x[i+2]-x[i])\n",
      "for in range(0,2):\n",
      "    d3[i]=(d2[i+1]-d2[i])/(x[i+3]-x[i])\n",
      "for iin range(0,1):\n",
      "    d4[i]=(d3[i+1]-d3[i])/(x[i+4]-x[i])\n",
      "X=poly(0,'X')\n",
      "f_x=y[0]+(X-x[0])*(d1[0])+(X-x[1])*(X-x[0])*d2[0]+(X-x[0])*(X-x[1])*(X-x[2])*d3[0]+(X-x[0])*(X-x[1])*(X-x[2])*(X-x[3])*d4[0]\n",
      "disp(f_x,'the polynomial equation is =')"
     ],
     "language": "python",
     "metadata": {},
     "outputs": []
    },
    {
     "cell_type": "heading",
     "level": 2,
     "metadata": {},
     "source": [
      "Ex3.24:pg-116"
     ]
    },
    {
     "cell_type": "code",
     "collapsed": false,
     "input": [
      "#interpolation by iteration\n",
      "#example 3.24\n",
      "#page 116\n",
      "x=[300, 304, 305, 307]\n",
      "y=[2.4771, 2.4829, 2.4843, 2.4871]\n",
      "x0=301\n",
      "d1=[0,0,0]\n",
      "d2=[0,0]\n",
      "d3=[0]\n",
      "for i in range(0,3):\n",
      "    a=y[i]\n",
      "    b=x[i]-x0\n",
      "    c=y[i+1]\n",
      "    e=x[i+1]-x0\n",
      "    d=matrix([[a,b],[c,e]])\n",
      "    d11=det(d)\n",
      "    d1[i]=d11/(x[i+1]-x[i])\n",
      "for i in range(0,2):\n",
      "    a=d1[i]\n",
      "    b=x[i+1]-x0\n",
      "    c=d1[i+1]\n",
      "    e=x[i+2]-x0\n",
      "    d=matrix([[a,b],[c,e]])\n",
      "    d22=det(d)\n",
      "    f=(x[i+2]-x[i+1])\n",
      "    d2[i]=d22/f\n",
      "for i in range(0,1):\n",
      "    a=d2[i]\n",
      "    b=x[i+2]-x0\n",
      "    c=d2[i+1]\n",
      "    e=x[i+3]-x0\n",
      "    d=matrix([[a,b],[c,e]])\n",
      "    d33=det(d)\n",
      "    d3[i]=d33/(x[i+3]-x[i+2])\n",
      "print \"the value of log(%d) is : %f\" %(x0,d3[0])\n"
     ],
     "language": "python",
     "metadata": {},
     "outputs": [
      {
       "output_type": "stream",
       "stream": "stdout",
       "text": [
        "the value of log(301) is : 2.476900\n"
       ]
      }
     ],
     "prompt_number": 26
    },
    {
     "cell_type": "heading",
     "level": 2,
     "metadata": {},
     "source": [
      "Ex3.25:pg-118"
     ]
    },
    {
     "cell_type": "code",
     "collapsed": false,
     "input": [
      "#inverse intrpolation\n",
      "#example 3.25\n",
      "#page  118\n",
      "from __future__ import division\n",
      "x=[2, 3, 4, 5]\n",
      "y=[8, 27, 64, 125]\n",
      "d1=[0,0,0]\n",
      "d2=[0,0]\n",
      "d3=[0]\n",
      "for i in range(0,3):\n",
      "    d1[i]=y[i+1]-y[i]\n",
      "for i in range(0,2):\n",
      "    d2[i]=d1[i+1]-d1[i]\n",
      "for i in range(0,1):\n",
      "    d3[i]=d2[i+1]-d2[i]\n",
      "yu=10   #square rooot of 10\n",
      "y0=y[0]\n",
      "d=[d1[0], d2[0] ,d3[0]]\n",
      "u1=(yu-y0)/d1[0]\n",
      "u2=((yu-y0-u1*(u1-1)*d2[0]/2)/d1[0])\n",
      "u3=(yu-y0-u2*(u2-1)*d2[0]/2-u2*(u2-1)*(u2-2)*d3[0]/6)/d1[0]\n",
      "u4=(yu-y0-u3*(u3-1)*d2[0]/2-u3*(u3-1)*(u3-2)*d3[0]/6)/d1[0]\n",
      "u5=(yu-y0-u4*(u4-1)*d2[0]/2-u4*(u4-1)*(u4-2)*d3[0]/6)/d1[0]\n",
      "print \"%f \\n %f \\n %f \\n %f \\n %f \\n \" %(u1,u2,u3,u4,u5)\n",
      "print \"the approximate square root of %d is: %0.3f\" %(yu,x[0]+u5)"
     ],
     "language": "python",
     "metadata": {},
     "outputs": [
      {
       "output_type": "stream",
       "stream": "stdout",
       "text": [
        "0.105263 \n",
        " 0.149876 \n",
        " 0.153210 \n",
        " 0.154107 \n",
        " 0.154347 \n",
        " \n",
        "the approximate square root of 10 is: 2.154\n"
       ]
      }
     ],
     "prompt_number": 4
    },
    {
     "cell_type": "heading",
     "level": 2,
     "metadata": {},
     "source": [
      "Ex2.26:pg-119"
     ]
    },
    {
     "cell_type": "code",
     "collapsed": false,
     "input": [
      "#double interpolation \n",
      "#example 3.26\n",
      "#page 119\n",
      "y=[0, 1, 2, 3, 4]\n",
      "z=[0,0,0,0,0]\n",
      "x=[[0, 1, 4, 9, 16],[2, 3, 6, 11, 18],[6, 7, 10, 15, 22],[12, 13, 16, 21, 28],[18, 19, 22, 27, 34]]\n",
      "print \"X=\"\n",
      "print x\n",
      "#for x=2.5\n",
      "for i in range(0,5):\n",
      "    z[i]=(x[i][2]+x[i][3])/2\n",
      "#y=1.5\n",
      "Z=(z[1]+z[2])/2\n",
      "print \"the interpolated value when x=2.5 and y=1.5 is : %f\" %(Z)"
     ],
     "language": "python",
     "metadata": {},
     "outputs": [
      {
       "output_type": "stream",
       "stream": "stdout",
       "text": [
        "X=\n",
        "[[0, 1, 4, 9, 16], [2, 3, 6, 11, 18], [6, 7, 10, 15, 22], [12, 13, 16, 21, 28], [18, 19, 22, 27, 34]]\n",
        "the interpolated value when x=2.5 and y=1.5 is : 10.500000\n"
       ]
      }
     ],
     "prompt_number": 14
    }
   ],
   "metadata": {}
  }
 ]
}