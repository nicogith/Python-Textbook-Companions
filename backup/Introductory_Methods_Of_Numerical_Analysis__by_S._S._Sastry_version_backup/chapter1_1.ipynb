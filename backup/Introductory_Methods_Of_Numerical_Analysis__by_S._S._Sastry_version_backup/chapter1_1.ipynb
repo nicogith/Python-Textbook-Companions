{
 "metadata": {
  "name": "",
  "signature": "sha256:659bf40fd24dcbea56efd9142b8ac03b3b827f2e9c5f83005d90a9bfbf26cc13"
 },
 "nbformat": 3,
 "nbformat_minor": 0,
 "worksheets": [
  {
   "cells": [
    {
     "cell_type": "heading",
     "level": 1,
     "metadata": {},
     "source": [
      "Chapter01:Errors in Numerical Calculations"
     ]
    },
    {
     "cell_type": "heading",
     "level": 2,
     "metadata": {},
     "source": [
      "Ex1.1:pg-7"
     ]
    },
    {
     "cell_type": "code",
     "collapsed": false,
     "input": [
      "#example 1.1\n",
      "#rounding off\n",
      "#page 7\n",
      "a1=1.6583\n",
      "a2=30.0567\n",
      "a3=0.859378\n",
      "a4=3.14159\n",
      "print \"\\nthe numbers after rounding to 4 significant figures are given below\\n\"\n",
      "print \"    %f       %.4g\\n'\" %(a1,a1)\n",
      "print \"    %f       %.4g\\n\" %(a2,a2)\n",
      "print \"    %f       %.4g\\n\" %(a3,a3)\n",
      "print \"    %f       %.4g\\n\" %(a4,a4)\n"
     ],
     "language": "python",
     "metadata": {},
     "outputs": [
      {
       "output_type": "stream",
       "stream": "stdout",
       "text": [
        "\n",
        "the numbers after rounding to 4 significant figures are given below\n",
        "\n",
        "    1.658300       1.658\n",
        "'\n",
        "    30.056700       30.06\n",
        "\n",
        "    0.859378       0.8594\n",
        "\n",
        "    3.141590       3.142\n",
        "\n"
       ]
      }
     ],
     "prompt_number": 1
    },
    {
     "cell_type": "heading",
     "level": 2,
     "metadata": {},
     "source": [
      "Ex1.2:pg-9"
     ]
    },
    {
     "cell_type": "code",
     "collapsed": false,
     "input": [
      "#example 1.2\n",
      "#percentage accuracy\n",
      "#page 9\n",
      "import math\n",
      "x=0.51 # the number given\n",
      "n=2 #correcting upto 2 decimal places\n",
      "d=math.pow(10,-n)\n",
      "d=d/2.0\n",
      "p=(d/x)*100 #percentage accuracy\n",
      "print \"the percentage accuracy of %f after correcting to two decimal places is %f\" %(x,p)\n",
      "\n"
     ],
     "language": "python",
     "metadata": {},
     "outputs": [
      {
       "output_type": "stream",
       "stream": "stdout",
       "text": [
        "the percentage accuracy of 0.510000 after correcting to two decimal places is 0.980392\n"
       ]
      }
     ],
     "prompt_number": 8
    },
    {
     "cell_type": "heading",
     "level": 2,
     "metadata": {},
     "source": [
      "Ex1.3:pg-9"
     ]
    },
    {
     "cell_type": "code",
     "collapsed": false,
     "input": [
      "#example 1.3\n",
      "#absolute and relative errors\n",
      "#page 9\n",
      "X=3.1428571 #approximate value of pi\n",
      "T_X=3.1415926 # true value of pi\n",
      "A_E=T_X-X #absolute error\n",
      "R_E=A_E/T_X #relative error\n",
      "print \"Absolute Error = %0.7f \\n Relative Error = %0.7f\" %(A_E,R_E)\n"
     ],
     "language": "python",
     "metadata": {},
     "outputs": [
      {
       "output_type": "stream",
       "stream": "stdout",
       "text": [
        "Absolute Error = -0.0012645 \n",
        " Relative Error = -0.0004025\n"
       ]
      }
     ],
     "prompt_number": 10
    },
    {
     "cell_type": "heading",
     "level": 2,
     "metadata": {},
     "source": [
      "Ex1.4:pg-10"
     ]
    },
    {
     "cell_type": "code",
     "collapsed": false,
     "input": [
      "#example 1.4\n",
      "#best approximation\n",
      "#page 10\n",
      "X=1/3 #the actual number\n",
      "X1=0.30\n",
      "X2=0.33\n",
      "X3=0.34\n",
      "E1=abs(X-X1)\n",
      "E2=abs(X-X2)\n",
      "E3=abs(X-X3)\n",
      "if E1<E2:\n",
      "        if E1<E3:\n",
      "                B_A=X1\n",
      "elif E2<E1:\n",
      "          if E2<E3:\n",
      "                   B_A=X2\n",
      "elif E3<E2:\n",
      "           if E3<E1:\n",
      "                    B_A=X3\n",
      "print \"the best approximation of 1/3 is %f\" %(B_A)\n",
      "\n"
     ],
     "language": "python",
     "metadata": {},
     "outputs": [
      {
       "output_type": "stream",
       "stream": "stdout",
       "text": [
        "the best approximation of 1/3 is 0.300000\n"
       ]
      }
     ],
     "prompt_number": 4
    },
    {
     "cell_type": "heading",
     "level": 2,
     "metadata": {},
     "source": [
      "Ex1.5:pg-10"
     ]
    },
    {
     "cell_type": "code",
     "collapsed": false,
     "input": [
      "#relative error\n",
      "#example 1.5\n",
      "#page 10\n",
      "import math\n",
      "n=8.6 # the corrected number\n",
      "N=1 #the no is rounded to one decimal places\n",
      "E_A=math.pow(10,-N)/2\n",
      "E_R=E_A/n\n",
      "print \"the relative error of the number is:%0.4f\" %(E_R)\n"
     ],
     "language": "python",
     "metadata": {},
     "outputs": [
      {
       "output_type": "stream",
       "stream": "stdout",
       "text": [
        "the relative error of the number is:0.0058\n"
       ]
      }
     ],
     "prompt_number": 5
    },
    {
     "cell_type": "heading",
     "level": 2,
     "metadata": {},
     "source": [
      "Ex1.6:pg-10"
     ]
    },
    {
     "cell_type": "code",
     "collapsed": false,
     "input": [
      "#example 1.6\n",
      "#absolute error and relative error\n",
      "#page 10\n",
      "import math\n",
      "s=math.sqrt(3)+math.sqrt(5)+math.sqrt(7)  #the sum square root of 3,5,7\n",
      "n=4\n",
      "Ea=3*(math.pow(10,-n)/2)  #absolute error\n",
      "R_E=Ea/s\n",
      "print \"the sum of square roots  is %0.4g \\n\" %(s)\n",
      "print \"the absolute error is %f \\n\" %(Ea)\n",
      "print \"the relative error is %f\" %(R_E)\n",
      "\n"
     ],
     "language": "python",
     "metadata": {},
     "outputs": [
      {
       "output_type": "stream",
       "stream": "stdout",
       "text": [
        "the sum of square roots  is 6.614 \n",
        "\n",
        "the absolute error is 0.000150 \n",
        "\n",
        "the relative error is 0.000023\n"
       ]
      }
     ],
     "prompt_number": 6
    },
    {
     "cell_type": "heading",
     "level": 2,
     "metadata": {},
     "source": [
      "Ex1.7:pg-10"
     ]
    },
    {
     "cell_type": "code",
     "collapsed": false,
     "input": [
      "#absolute error\n",
      "#example 1.7\n",
      "#page 10\n",
      "n=[0.1532, 15.45, 0.0000354, 305.1, 8.12, 143.3, 0.0212, 0.643, 0.1734]   #original numbbers\n",
      "#rounding all numbers to 2 decimal places\n",
      "n=[305.1, 143.3, 0.15,15.45, 0.00, 8.12, 0.02, 0.64, 0.17] \n",
      "sum=0;\n",
      "#l=length(n);\n",
      "for i in range(len(n)):\n",
      "    sum=sum+n[i];\n",
      "\n",
      "E_A=2*math.pow(10,-1)/2+7*math.pow(10,-2)/2\n",
      "print \"the absolute error is:%0.2f\" %(E_A)\n"
     ],
     "language": "python",
     "metadata": {},
     "outputs": [
      {
       "output_type": "stream",
       "stream": "stdout",
       "text": [
        "the absolute error is:0.14\n"
       ]
      }
     ],
     "prompt_number": 8
    },
    {
     "cell_type": "heading",
     "level": 2,
     "metadata": {},
     "source": [
      "Ex1.8:pg-11"
     ]
    },
    {
     "cell_type": "code",
     "collapsed": false,
     "input": [
      "#difference in 3 significant figures\n",
      "#example 1.8\n",
      "#page 11\n",
      "X1=math.sqrt(6.37)\n",
      "X2=math.sqrt(6.36)\n",
      "d=X1-X2  #difference between two numbers\n",
      "print \"the differencecorrected to 3 significant figures is %0.3g\" %(d)\n"
     ],
     "language": "python",
     "metadata": {},
     "outputs": [
      {
       "output_type": "stream",
       "stream": "stdout",
       "text": [
        "the differencecorrected to 3 significant figures is 0.00198\n"
       ]
      }
     ],
     "prompt_number": 10
    },
    {
     "cell_type": "heading",
     "level": 2,
     "metadata": {},
     "source": [
      "Ex1.9:pg-12"
     ]
    },
    {
     "cell_type": "code",
     "collapsed": false,
     "input": [
      "#relative error\n",
      "#example 1.10\n",
      "#page 12\n",
      "a=6.54\n",
      "b=48.64\n",
      "c=13.5\n",
      "da=0.01\n",
      "db=0.02\n",
      "dc=0.03\n",
      "s=math.pow(a,2)*math.sqrt(b)/math.pow(c,3)\n",
      "#disp(s,'s=')\n",
      "print \"s=%f\" %(s)\n",
      "r_err=2*(da/a)+(db/b)/2+3*(dc/c);\n",
      "print \"the relative error is :%f\" %(r_err)\n"
     ],
     "language": "python",
     "metadata": {},
     "outputs": [
      {
       "output_type": "stream",
       "stream": "stdout",
       "text": [
        "s=0.121241\n",
        "the relative error is :0.009930\n"
       ]
      }
     ],
     "prompt_number": 13
    },
    {
     "cell_type": "heading",
     "level": 2,
     "metadata": {},
     "source": [
      "Ex1.11:pg-13"
     ]
    },
    {
     "cell_type": "code",
     "collapsed": false,
     "input": [
      "#relative error\n",
      "#example 1.11\n",
      "#page 13\n",
      "import math\n",
      "x=1\n",
      "y=1\n",
      "z=1\n",
      "u=(5*x*math.pow(y,3))/math.pow(z,3)\n",
      "dx=0.001\n",
      "dy=0.001\n",
      "dz=0.001\n",
      "max=((5*math.pow(y,2))/math.pow(z,3))*dx+((10*x*y)/math.pow(z,3))*dy+((15*x*math.pow(y,2))/math.pow(z,4))*dz\n",
      "e=max/u\n",
      "print \" the relative error is :%f\" %(e)\n"
     ],
     "language": "python",
     "metadata": {},
     "outputs": [
      {
       "output_type": "stream",
       "stream": "stdout",
       "text": [
        " the relative error is :0.006000\n"
       ]
      }
     ],
     "prompt_number": 19
    },
    {
     "cell_type": "heading",
     "level": 2,
     "metadata": {},
     "source": [
      "Ex1.12:pg-12"
     ]
    },
    {
     "cell_type": "code",
     "collapsed": false,
     "input": [
      "#taylor series\n",
      "#example 1.12\n",
      "#page 12\n",
      "import math\n",
      "def f(x):\n",
      "      return math.pow(x,3)+5*x-10\n",
      "def f1(x):\n",
      "    return 3*math.pow(x,2)-6*x+5\n",
      "def f2(x):\n",
      "    return 6*x-6\n",
      "def f3(x):\n",
      "    return 6\n",
      "D=[0,f(0), f1(0), f2(0), f3(0)]\n",
      "S1=0;\n",
      "h=1;\n",
      "for i in range(1,5):\n",
      "    S1=S1+math.pow(h,i-1)*D[i]/math.factorial(i-1)\n",
      "    \n",
      "print \"the third order taylors series approximation of f(1) is :%d\" %(S1)\n",
      "\n",
      "\n"
     ],
     "language": "python",
     "metadata": {},
     "outputs": [
      {
       "output_type": "stream",
       "stream": "stdout",
       "text": [
        "the third order taylors series approximation of f(1) is :-7\n"
       ]
      }
     ],
     "prompt_number": 7
    },
    {
     "cell_type": "heading",
     "level": 2,
     "metadata": {},
     "source": [
      "Ex1.13:pg-16"
     ]
    },
    {
     "cell_type": "code",
     "collapsed": false,
     "input": [
      "#taylor series\n",
      "#example 1.13\n",
      "#page 16\n",
      "import math\n",
      "def f(x):\n",
      "    return math.sin(x)\n",
      "def f1(x):\n",
      "    return math.cos(x)\n",
      "def f2(x):\n",
      "    return -1*math.sin(x)\n",
      "def f3(x):\n",
      "    return -1*math.cos(x)\n",
      "def f4(x):\n",
      "    return math.sin(x)\n",
      "def f5(x):\n",
      "    return math.cos(x)\n",
      "def f6(x):\n",
      "    return -1*math.sin(x)\n",
      "def f7(x):\n",
      "    return -1*math.cos(x)\n",
      "D=[0,f(math.pi/6), f1(math.pi/6), f2(math.pi/6), f3(math.pi/6), f4(math.pi/6), f5(math.pi/6), f6(math.pi/6), f7(math.pi/6)]\n",
      "S1=0\n",
      "h=math.pi/6\n",
      "print \"order of approximation  computed value of sin(pi/3)   absolute eror\\n\\n\"\n",
      "for j in range(1,10):\n",
      "                for i in range(1,j):\n",
      "                          S1=S1+math.pow(h,i-1)*D[i]/math.factorial(i-1)                \n",
      "                print \"%d                       %0.9f                        %0.9f\\n\" %(j,S1,abs(math.sin(math.pi/3)-S1))\n",
      "                S1=0\n",
      "\n",
      "\n",
      "\n"
     ],
     "language": "python",
     "metadata": {},
     "outputs": [
      {
       "output_type": "stream",
       "stream": "stdout",
       "text": [
        "order of approximation  computed value of sin(pi/3)   absolute eror\n",
        "\n",
        "\n",
        "1                       0.000000000                        0.866025404\n",
        "\n",
        "2                       0.500000000                        0.366025404\n",
        "\n",
        "3                       0.953449841                        0.087424437\n",
        "\n",
        "4                       0.884910922                        0.018885518\n",
        "\n",
        "5                       0.864191614                        0.001833790\n",
        "\n",
        "6                       0.865757475                        0.000267929\n",
        "\n",
        "7                       0.866041490                        0.000016087\n",
        "\n",
        "8                       0.866027181                        0.000001777\n",
        "\n",
        "9                       0.866025327                        0.000000077\n",
        "\n"
       ]
      }
     ],
     "prompt_number": 32
    },
    {
     "cell_type": "heading",
     "level": 2,
     "metadata": {},
     "source": [
      "Ex1.14:pg-18"
     ]
    },
    {
     "cell_type": "code",
     "collapsed": false,
     "input": [
      "#maclaurins expansion\n",
      "#example 1.14\n",
      "#page 18\n",
      "n=8  #correct to 8 decimal places\n",
      "x=1\n",
      "for i in range(1,50):\n",
      "              if x/math.factorial(i)<math.pow(10,-8)/2:\n",
      "                  c=i\n",
      "                  break                                 \n",
      "print \"no of terms needed to correct to 8 decimal places is : %d \" %(c)"
     ],
     "language": "python",
     "metadata": {},
     "outputs": [
      {
       "output_type": "stream",
       "stream": "stdout",
       "text": [
        "no of terms needed to correct to 8 decimal places is : 2 \n"
       ]
      }
     ],
     "prompt_number": 78
    },
    {
     "cell_type": "heading",
     "level": 2,
     "metadata": {},
     "source": [
      "Ex1.15:pg-18"
     ]
    },
    {
     "cell_type": "code",
     "collapsed": false,
     "input": [
      "#series apprixamation\n",
      "#example 1.15\n",
      "#page 18\n",
      "import math\n",
      "x=.09090909  # 1/11 =.09090909\n",
      "S1=0\n",
      "for i in range(1,5,2):\n",
      "    S1=S1+math.pow(x,i)/i\n",
      "print \"value of log(1.2) is : %0.8f\\n\\n\" %(2*S1)\n",
      "c=0\n",
      "for i in range(1,50):\n",
      "    if math.pow(.09090909,i)/i<2*math.pow(10,-7):\n",
      "        c=i\n",
      "        break\n",
      "print \"min no of terms needed to get value wuth same accuracy  is :%d\" %(c)"
     ],
     "language": "python",
     "metadata": {},
     "outputs": [
      {
       "output_type": "stream",
       "stream": "stdout",
       "text": [
        "value of log(1.2) is : 0.18231906\n",
        "\n",
        "\n",
        "min no of terms needed to get value wuth same accuracy  is :6\n"
       ]
      }
     ],
     "prompt_number": 74
    },
    {
     "cell_type": "code",
     "collapsed": false,
     "input": [],
     "language": "python",
     "metadata": {},
     "outputs": []
    }
   ],
   "metadata": {}
  }
 ]
}