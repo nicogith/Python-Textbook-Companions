{
 "metadata": {
  "name": "",
  "signature": "sha256:4ea5f1862f23f05e185dbf413e39ce53a665076203199df3d54c2ad4a7911989"
 },
 "nbformat": 3,
 "nbformat_minor": 0,
 "worksheets": [
  {
   "cells": [
    {
     "cell_type": "heading",
     "level": 1,
     "metadata": {},
     "source": [
      "Chapter02:Solution of Algebric and Transcendental Equations"
     ]
    },
    {
     "cell_type": "heading",
     "level": 2,
     "metadata": {},
     "source": [
      "Ex2.1:pg-24"
     ]
    },
    {
     "cell_type": "code",
     "collapsed": false,
     "input": [
      "#example 2.1\n",
      "#bisection method\n",
      "#page 24\n",
      "import math\n",
      "def f(x):\n",
      "    return math.pow(x,3)-x-1\n",
      "x1=1\n",
      "x2=2      #f(1) is negative and f(2) is positive\n",
      "d=0.0001       #for accuracy of root\n",
      "c=1\n",
      "print \"Succesive approximations \\t   x1\\t   \\tx2\\t   \\tm\\t   \\tf(m)\\n\"\n",
      "while abs(x1-x2)>d:\n",
      "    \n",
      "    m=(x1+x2)/2.0\n",
      "    print \"                          \\t%f\\t%f\\t%f\\t%f\\n\" %(x1,x2,m,f(m))\n",
      "    if f(m)*f(x1)>0.0:\n",
      "       x1=m\n",
      "    else:\n",
      "       x2=m \n",
      "    c=c+1 # to count number of iterations \n",
      "print \"the solution of equation after %i iteration is %g\" %(c,m)"
     ],
     "language": "python",
     "metadata": {},
     "outputs": [
      {
       "output_type": "stream",
       "stream": "stdout",
       "text": [
        "Succesive approximations \t   x1\t   \tx2\t   \tm\t   \tf(m)\n",
        "\n",
        "                          \t1.000000\t2.000000\t1.500000\t0.875000\n",
        "\n",
        "                          \t1.000000\t1.500000\t1.250000\t-0.296875\n",
        "\n",
        "                          \t1.250000\t1.500000\t1.375000\t0.224609\n",
        "\n",
        "                          \t1.250000\t1.375000\t1.312500\t-0.051514\n",
        "\n",
        "                          \t1.312500\t1.375000\t1.343750\t0.082611\n",
        "\n",
        "                          \t1.312500\t1.343750\t1.328125\t0.014576\n",
        "\n",
        "                          \t1.312500\t1.328125\t1.320312\t-0.018711\n",
        "\n",
        "                          \t1.320312\t1.328125\t1.324219\t-0.002128\n",
        "\n",
        "                          \t1.324219\t1.328125\t1.326172\t0.006209\n",
        "\n",
        "                          \t1.324219\t1.326172\t1.325195\t0.002037\n",
        "\n",
        "                          \t1.324219\t1.325195\t1.324707\t-0.000047\n",
        "\n",
        "                          \t1.324707\t1.325195\t1.324951\t0.000995\n",
        "\n",
        "                          \t1.324707\t1.324951\t1.324829\t0.000474\n",
        "\n",
        "                          \t1.324707\t1.324829\t1.324768\t0.000214\n",
        "\n",
        "the solution of equation after 15 iteration is 1.32477'\n"
       ]
      }
     ],
     "prompt_number": 4
    },
    {
     "cell_type": "heading",
     "level": 2,
     "metadata": {},
     "source": [
      "Ex2.2:pg-25"
     ]
    },
    {
     "cell_type": "code",
     "collapsed": false,
     "input": [
      "#example 2.2\n",
      "#bisection method\n",
      "#page 25\n",
      "import math\n",
      "def f(x):\n",
      "    return math.pow(x,3)-2*x-5\n",
      "x1=2 \n",
      "x2=3   #f(2) is negative and f(3) is positive\n",
      "d=0.0001   #for accuracy of root\n",
      "c=1\n",
      "print \"Succesive approximations \\t   x1\\t   \\tx2\\t   \\tm\\t   \\tf(m)\\n\"\n",
      "while abs(x1-x2)>d:\n",
      "    m=(x1+x2)/2.0\n",
      "    print \"                          \\t%f\\t%f\\t%f\\t%f\\n\" %(x1,x2,m,f(m))\n",
      "    if f(m)*f(x1)>0:\n",
      "        x1=m\n",
      "    else:\n",
      "        x2=m \n",
      "    c=c+1;# to count number of iterations \n",
      "print \"the solution of equation after %i iteration is %0.4g\" %(c,m)"
     ],
     "language": "python",
     "metadata": {},
     "outputs": [
      {
       "output_type": "stream",
       "stream": "stdout",
       "text": [
        "Succesive approximations \t   x1\t   \tx2\t   \tm\t   \tf(m)\n",
        "\n",
        "                          \t2.000000\t3.000000\t2.500000\t5.625000\n",
        "\n",
        "                          \t2.000000\t2.500000\t2.250000\t1.890625\n",
        "\n",
        "                          \t2.000000\t2.250000\t2.125000\t0.345703\n",
        "\n",
        "                          \t2.000000\t2.125000\t2.062500\t-0.351318\n",
        "\n",
        "                          \t2.062500\t2.125000\t2.093750\t-0.008942\n",
        "\n",
        "                          \t2.093750\t2.125000\t2.109375\t0.166836\n",
        "\n",
        "                          \t2.093750\t2.109375\t2.101562\t0.078562\n",
        "\n",
        "                          \t2.093750\t2.101562\t2.097656\t0.034714\n",
        "\n",
        "                          \t2.093750\t2.097656\t2.095703\t0.012862\n",
        "\n",
        "                          \t2.093750\t2.095703\t2.094727\t0.001954\n",
        "\n",
        "                          \t2.093750\t2.094727\t2.094238\t-0.003495\n",
        "\n",
        "                          \t2.094238\t2.094727\t2.094482\t-0.000771\n",
        "\n",
        "                          \t2.094482\t2.094727\t2.094604\t0.000592\n",
        "\n",
        "                          \t2.094482\t2.094604\t2.094543\t-0.000090\n",
        "\n",
        "the solution of equation after 15 iteration is 2.095\n"
       ]
      }
     ],
     "prompt_number": 5
    },
    {
     "cell_type": "heading",
     "level": 2,
     "metadata": {},
     "source": [
      "Ex2.3:pg-26"
     ]
    },
    {
     "cell_type": "code",
     "collapsed": false,
     "input": [
      "#example 2.3\n",
      "#bisection method\n",
      "#page 26\n",
      "import math\n",
      "def f(x):\n",
      "     return math.pow(x,3)+math.pow(x,2)+x+7\n",
      "x1=-3\n",
      "x2=-2      #f(-3) is negative and f(-2) is positive\n",
      "d=0.0001   #for accuracy of root\n",
      "c=1\n",
      "print \"Succesive approximations \\t   x1\\t   \\tx2\\t   \\tm\\t   \\tf(m)\\n\"\n",
      "while abs(x1-x2)>d:\n",
      "    m=(x1+x2)/2.0\n",
      "    print \"                          \\t%f\\t%f\\t%f\\t%f\\n\" %(x1,x2,m,f(m))\n",
      "    if f(m)*f(x1)>0:\n",
      "        x1=m\n",
      "    else:\n",
      "        x2=m \n",
      "    c=c+1  # to count number of iterations \n",
      "print \"the solution of equation after %i iteration is %0.4g\" %(c,m)"
     ],
     "language": "python",
     "metadata": {},
     "outputs": [
      {
       "output_type": "stream",
       "stream": "stdout",
       "text": [
        "Succesive approximations \t   x1\t   \tx2\t   \tm\t   \tf(m)\n",
        "\n",
        "                          \t-3.000000\t-2.000000\t-2.500000\t-4.875000\n",
        "\n",
        "                          \t-2.500000\t-2.000000\t-2.250000\t-1.578125\n",
        "\n",
        "                          \t-2.250000\t-2.000000\t-2.125000\t-0.205078\n",
        "\n",
        "                          \t-2.125000\t-2.000000\t-2.062500\t0.417725\n",
        "\n",
        "                          \t-2.125000\t-2.062500\t-2.093750\t0.111481\n",
        "\n",
        "                          \t-2.125000\t-2.093750\t-2.109375\t-0.045498\n",
        "\n",
        "                          \t-2.109375\t-2.093750\t-2.101562\t0.033315\n",
        "\n",
        "                          \t-2.109375\t-2.101562\t-2.105469\t-0.006010\n",
        "\n",
        "                          \t-2.105469\t-2.101562\t-2.103516\t0.013673\n",
        "\n",
        "                          \t-2.105469\t-2.103516\t-2.104492\t0.003836\n",
        "\n",
        "                          \t-2.105469\t-2.104492\t-2.104980\t-0.001086\n",
        "\n",
        "                          \t-2.104980\t-2.104492\t-2.104736\t0.001376\n",
        "\n",
        "                          \t-2.104980\t-2.104736\t-2.104858\t0.000145\n",
        "\n",
        "                          \t-2.104980\t-2.104858\t-2.104919\t-0.000470\n",
        "\n",
        "the solution of equation after 15 iteration is -2.105\n"
       ]
      }
     ],
     "prompt_number": 6
    },
    {
     "cell_type": "heading",
     "level": 2,
     "metadata": {},
     "source": [
      "Ex2.4:pg-26"
     ]
    },
    {
     "cell_type": "code",
     "collapsed": false,
     "input": [
      "#example 2.4\n",
      "#bisection method\n",
      "#page 26\n",
      "import math\n",
      "def f(x):\n",
      "    return x*math.exp(x)-1\n",
      "x1=0 \n",
      "x2=1  #f(0) is negative and f(1) is positive\n",
      "d=0.0005   #maximun tolerance value\n",
      "c=1\n",
      "print \"Succesive approximations \\t   x1\\t   \\tx2\\t   \\tm\\t   \\ttol\\t    \\tf(m)\\n\"\n",
      "while abs((x2-x1)/x2)>d:\n",
      "    m=(x1+x2)/2.0  #tolerance value for each iteration\n",
      "    tol=((x2-x1)/x2)*100\n",
      "    print \"                          \\t%f\\t%f\\t%f\\t%f\\t%f\\n\" %(x1,x2,m,tol,f(m))\n",
      "    if f(m)*f(x1)>0:\n",
      "        x1=m\n",
      "    else:\n",
      "        x2=m \n",
      "    c=c+1  # to count number of iterations \n",
      "print \"the solution of equation after %i iteration is %0.4g\" %(c,m)"
     ],
     "language": "python",
     "metadata": {},
     "outputs": [
      {
       "output_type": "stream",
       "stream": "stdout",
       "text": [
        "Succesive approximations \t   x1\t   \tx2\t   \tm\t   \ttol\t    \tf(m)\n",
        "\n",
        "                          \t0.000000\t1.000000\t0.500000\t100.000000\t-0.175639\n",
        "\n",
        "                          \t0.500000\t1.000000\t0.750000\t50.000000\t0.587750\n",
        "\n",
        "                          \t0.500000\t0.750000\t0.625000\t33.333333\t0.167654\n",
        "\n",
        "                          \t0.500000\t0.625000\t0.562500\t20.000000\t-0.012782\n",
        "\n",
        "                          \t0.562500\t0.625000\t0.593750\t10.000000\t0.075142\n",
        "\n",
        "                          \t0.562500\t0.593750\t0.578125\t5.263158\t0.030619\n",
        "\n",
        "                          \t0.562500\t0.578125\t0.570312\t2.702703\t0.008780\n",
        "\n",
        "                          \t0.562500\t0.570312\t0.566406\t1.369863\t-0.002035\n",
        "\n",
        "                          \t0.566406\t0.570312\t0.568359\t0.684932\t0.003364\n",
        "\n",
        "                          \t0.566406\t0.568359\t0.567383\t0.343643\t0.000662\n",
        "\n",
        "                          \t0.566406\t0.567383\t0.566895\t0.172117\t-0.000687\n",
        "\n",
        "                          \t0.566895\t0.567383\t0.567139\t0.086059\t-0.000013\n",
        "\n",
        "the solution of equation after 13 iteration is 0.5671\n"
       ]
      }
     ],
     "prompt_number": 10
    },
    {
     "cell_type": "heading",
     "level": 2,
     "metadata": {},
     "source": [
      "Ex2.5:pg-27"
     ]
    },
    {
     "cell_type": "code",
     "collapsed": false,
     "input": [
      "#example 2.5\n",
      "#bisection method\n",
      "#page 27\n",
      "import math\n",
      "def f(x):\n",
      "    return 4*math.exp(-x)*math.sin(x)-1\n",
      "x1=0 \n",
      "x2=0.5  #f(0) is negative and f(1) is positive\n",
      "d=0.0001    #for accuracy of root\n",
      "c=1 \n",
      "print \"Succesive approximations \\t   x1\\t   \\tx2\\t   \\tm\\t   \\t    \\tf(m)\\n\"\n",
      "while abs(x2-x1)>d:\n",
      "    m=(x1+x2)/2.0\n",
      "    print \"                          \\t%f\\t%f\\t%f\\t%f\\n\" %(x1,x2,m,f(m))\n",
      "    if f(m)*f(x1)>0:\n",
      "        x1=m\n",
      "    else:\n",
      "        x2=m \n",
      "    c=c+1 # to count number of iterations \n",
      "print \"the solution of equation after %i iteration is %0.3g\" %(c,m)"
     ],
     "language": "python",
     "metadata": {},
     "outputs": [
      {
       "output_type": "stream",
       "stream": "stdout",
       "text": [
        "Succesive approximations \t   x1\t   \tx2\t   \tm\t   \t    \tf(m)\n",
        "\n",
        "                          \t0.000000\t0.500000\t0.250000\t-0.229286\n",
        "\n",
        "                          \t0.250000\t0.500000\t0.375000\t0.006941\n",
        "\n",
        "                          \t0.250000\t0.375000\t0.312500\t-0.100293\n",
        "\n",
        "                          \t0.312500\t0.375000\t0.343750\t-0.044068\n",
        "\n",
        "                          \t0.343750\t0.375000\t0.359375\t-0.017925\n",
        "\n",
        "                          \t0.359375\t0.375000\t0.367188\t-0.005334\n",
        "\n",
        "                          \t0.367188\t0.375000\t0.371094\t0.000842\n",
        "\n",
        "                          \t0.367188\t0.371094\t0.369141\t-0.002236\n",
        "\n",
        "                          \t0.369141\t0.371094\t0.370117\t-0.000694\n",
        "\n",
        "                          \t0.370117\t0.371094\t0.370605\t0.000075\n",
        "\n",
        "                          \t0.370117\t0.370605\t0.370361\t-0.000310\n",
        "\n",
        "                          \t0.370361\t0.370605\t0.370483\t-0.000118\n",
        "\n",
        "                          \t0.370483\t0.370605\t0.370544\t-0.000022\n",
        "\n",
        "the solution of equation after 14 iteration is 0.371\n"
       ]
      }
     ],
     "prompt_number": 11
    },
    {
     "cell_type": "heading",
     "level": 2,
     "metadata": {},
     "source": [
      "Ex2.6:pg-28"
     ]
    },
    {
     "cell_type": "code",
     "collapsed": false,
     "input": [
      "#example 2.6\n",
      "#false position method\n",
      "#page 28\n",
      "import math\n",
      "def f(x):\n",
      "    return x**3-2*x-5\n",
      "a=2.0\n",
      "b=3.0      #f(2) is negative and f(3)is positive\n",
      "d=0.00001\n",
      "print \"succesive iterations    \\ta\\t    b\\t    f(a)\\t    f(b)\\t\\  x1\\n\"\n",
      "for i in range(1,25):\n",
      "    x1=b*f(a)/(f(a)-f(b))+a*f(b)/(f(b)-f(a))\n",
      "    if(f(a)*f(x1))>0:\n",
      "        b=x1\n",
      "    else:\n",
      "        a=x1\n",
      "    if abs(f(x1))<d:\n",
      "        break\n",
      "    print \"                        \\t%f  %f  %f  %f  %f\\n\" %(a,b,f(a),f(b),x1)\n",
      "print \"the root of the equation is  %f\" %(x1)\n",
      "\n"
     ],
     "language": "python",
     "metadata": {},
     "outputs": [
      {
       "output_type": "stream",
       "stream": "stdout",
       "text": [
        "succesive iterations    \ta\t    b\t    f(a)\t    f(b)\t\\  x1\n",
        "\n",
        "                        \t2.000000  2.058824  -1.000000  -0.390800  2.058824\n",
        "\n",
        "                        \t2.096559  2.058824  0.022428  -0.390800  2.096559\n",
        "\n",
        "                        \t2.094511  2.058824  -0.000457  -0.390800  2.094511\n",
        "\n",
        "the root of the equation is  2.094552\n"
       ]
      }
     ],
     "prompt_number": 15
    },
    {
     "cell_type": "heading",
     "level": 2,
     "metadata": {},
     "source": [
      "Ex2.7:pg-29"
     ]
    },
    {
     "cell_type": "code",
     "collapsed": false,
     "input": [
      "#example 2.7\n",
      "#false position method\n",
      "#page 29\n",
      "def f(x):\n",
      "    return x**2.2-69\n",
      "a=5.0\n",
      "b=6.0      #f(5) is negative and f(6)is positive\n",
      "d=0.00001\n",
      "print \"succesive iterations    \\ta\\t    b\\t    f(a)\\t    f(b)\\t\\  x1\\n\"\n",
      "for i in range(1,25):\n",
      "    x1=b*f(a)/(f(a)-f(b))+a*f(b)/(f(b)-f(a));\n",
      "    if(f(a)*f(x1))>0:\n",
      "        b=x1\n",
      "    else:\n",
      "        a=x1\n",
      "    if abs(f(x1))<d:\n",
      "        break\n",
      "    print \"                         \\t%f  %f  %f  %f  %f\\n\" %(a,b,f(a),f(b),x1)\n",
      "print \"the root of the equation is  %f\" %(x1)\n",
      "\n"
     ],
     "language": "python",
     "metadata": {},
     "outputs": [
      {
       "output_type": "stream",
       "stream": "stdout",
       "text": [
        "succesive iterations    \ta\t    b\t    f(a)\t    f(b)\t\\  x1\n",
        "\n",
        "                         \t7.027228  6.000000  3.933141  -17.485113  7.027228\n",
        "\n",
        "                         \t6.838593  6.000000  -0.304723  -17.485113  6.838593\n",
        "\n",
        "                         \t6.853467  6.000000  0.024411  -17.485113  6.853467\n",
        "\n",
        "                         \t6.852277  6.000000  -0.001950  -17.485113  6.852277\n",
        "\n",
        "                         \t6.852372  6.000000  0.000156  -17.485113  6.852372\n",
        "\n",
        "                         \t6.852365  6.000000  -0.000012  -17.485113  6.852365\n",
        "\n",
        "the root of the equation is  6.852365\n"
       ]
      }
     ],
     "prompt_number": 17
    },
    {
     "cell_type": "heading",
     "level": 2,
     "metadata": {},
     "source": [
      "Ex2.8:pg-29"
     ]
    },
    {
     "cell_type": "code",
     "collapsed": false,
     "input": [
      "#example 2.8\n",
      "#false position method\n",
      "#page 29\n",
      "import math\n",
      "def f(x):\n",
      "    return 2*x-log10(x)-7\n",
      "a=3.0\n",
      "b=4.0         #f(3) is negative and f(4)is positive\n",
      "d=0.00001\n",
      "print \"succesive iterations    \\ta\\t    b\\t    f(a)\\t    f(b)\\t\\  x1\\n\"\n",
      "for i in range(1,25):\n",
      "    x1=b*f(a)/(f(a)-f(b))+a*f(b)/(f(b)-f(a))\n",
      "    if(f(a)*f(x1))>0:\n",
      "        b=x1\n",
      "    else:\n",
      "        a=x1\n",
      "    if abs(f(x1))<d:\n",
      "        break\n",
      "    print \"                          \\t%f  %f  %f  %f  %f\\n\" %(a,b,f(a),f(b),x1)\n",
      "print \"the root of the equation is  %0.4g\" %(x1)\n",
      "\n"
     ],
     "language": "python",
     "metadata": {},
     "outputs": [
      {
       "output_type": "stream",
       "stream": "stdout",
       "text": [
        "succesive iterations    \ta\t    b\t    f(a)\t    f(b)\t\\  x1\n",
        "\n",
        "                          \t3.000000  3.787772  -1.477121  -0.002839  3.787772\n",
        "\n",
        "                          \t3.789289  3.787772  0.000021  -0.002839  3.789289\n",
        "\n",
        "the root of the equation is  3.789\n"
       ]
      }
     ],
     "prompt_number": 19
    },
    {
     "cell_type": "heading",
     "level": 2,
     "metadata": {},
     "source": [
      "Ex2.9:pg-30"
     ]
    },
    {
     "cell_type": "code",
     "collapsed": false,
     "input": [
      "#example 2.9\n",
      "#false position method\n",
      "#page 30\n",
      "import math\n",
      "def f(x):\n",
      "    return 4*math.exp(-x)*math.sin(x)-1\n",
      "a=0.0\n",
      "b=0.5   #f(0) is negative and f(0.5)is positive\n",
      "d=0.00001\n",
      "print \"succesive iterations    \\ta\\t    b\\t    f(a)\\t    f(b)\\t\\  x1\\n\"\n",
      "for i in range(1,25):\n",
      "    x1=b*f(a)/(f(a)-f(b))+a*f(b)/(f(b)-f(a))\n",
      "    if(f(a)*f(x1))>0:\n",
      "        b=x1\n",
      "    else:\n",
      "        a=x1\n",
      "    if abs(f(x1))<d:\n",
      "        break\n",
      "    print \"                          \\t%f  %f  %f  %f  %f\\n\" %(a,b,f(a),f(b),x1)\n",
      "print \"the root of the equation is  %f\" %(x1)\n",
      "\n"
     ],
     "language": "python",
     "metadata": {},
     "outputs": [
      {
       "output_type": "stream",
       "stream": "stdout",
       "text": [
        "succesive iterations    \ta\t    b\t    f(a)\t    f(b)\t\\  x1\n",
        "\n",
        "                          \t0.429869  0.500000  0.084545  0.163145  0.429869\n",
        "\n",
        "                          \t0.354433  0.500000  -0.026054  0.163145  0.354433\n",
        "\n",
        "                          \t0.374479  0.500000  0.006132  0.163145  0.374479\n",
        "\n",
        "                          \t0.369577  0.500000  -0.001547  0.163145  0.369577\n",
        "\n",
        "                          \t0.370802  0.500000  0.000384  0.163145  0.370802\n",
        "\n",
        "                          \t0.370497  0.500000  -0.000096  0.163145  0.370497\n",
        "\n",
        "                          \t0.370573  0.500000  0.000024  0.163145  0.370573\n",
        "\n",
        "the root of the equation is  0.370554\n"
       ]
      }
     ],
     "prompt_number": 20
    },
    {
     "cell_type": "heading",
     "level": 2,
     "metadata": {},
     "source": [
      "Ex2.10:pg-33"
     ]
    },
    {
     "cell_type": "code",
     "collapsed": false,
     "input": [
      "#example 2.10\n",
      "#iteration method\n",
      "#page 33\n",
      "import math\n",
      "def f(x):\n",
      "    return 1/(math.sqrt(x+1))\n",
      "x1=0.75\n",
      "x2=0.0\n",
      "n=1\n",
      "d=0.0001 #accuracy opto 10^-4\n",
      "c=0 #to count no of iterations \n",
      "print \"successive iterations \\t\\x01\\tf(x1)\\n\"\n",
      "while abs(x1-x2)>d:\n",
      "    print \"                       \\t%f    %f\\n\" %(x1,f(x1))\n",
      "    x2=x1\n",
      "    x1=f(x1)\n",
      "    c=c+1\n",
      "print \" the root of the eqaution after %i iteration is %0.4g\" %(c,x1)"
     ],
     "language": "python",
     "metadata": {},
     "outputs": [
      {
       "output_type": "stream",
       "stream": "stdout",
       "text": [
        "successive iterations \t\u0001\tf(x1)\n",
        "\n",
        "                       \t0.750000    0.755929\n",
        "\n",
        "                       \t0.755929    0.754652\n",
        "\n",
        "                       \t0.754652    0.754926\n",
        "\n",
        "                       \t0.754926    0.754867\n",
        "\n",
        " the root of the eqaution after 4 iteration is 0.7549\n"
       ]
      }
     ],
     "prompt_number": 23
    },
    {
     "cell_type": "heading",
     "level": 2,
     "metadata": {},
     "source": [
      "Ex2.11:pg-34"
     ]
    },
    {
     "cell_type": "code",
     "collapsed": false,
     "input": [
      "#example 2.11\n",
      "#iteration method\n",
      "#page34\n",
      "import math\n",
      "def f(x):\n",
      "    return cos(x)/2.0+3.0/2.0\n",
      "x1=1.5    # as roots lies between 3/2 and pi/2\n",
      "x2=0\n",
      "d=0.0001  # accuracy opto 10^-4\n",
      "c=0 # to count no of iterations \n",
      "print \"successive iterations \\t\\x01\\tf(x1)\\n\"\n",
      "while abs(x2-x1)>d:\n",
      "    \n",
      "    print \"                      \\t%f    %f\\n\" %(x1,f(x1))\n",
      "    x2=x1\n",
      "    x1=f(x1)\n",
      "    c=c+1\n",
      "print \" the root of the eqaution after %i iteration is %0.4g\" %(c,x1)"
     ],
     "language": "python",
     "metadata": {},
     "outputs": [
      {
       "output_type": "stream",
       "stream": "stdout",
       "text": [
        "successive iterations \t\u0001\tf(x1)\n",
        "\n",
        "                      \t1.500000    1.535369\n",
        "\n",
        "                      \t1.535369    1.517710\n",
        "\n",
        "                      \t1.517710    1.526531\n",
        "\n",
        "                      \t1.526531    1.522126\n",
        "\n",
        "                      \t1.522126    1.524326\n",
        "\n",
        "                      \t1.524326    1.523227\n",
        "\n",
        "                      \t1.523227    1.523776\n",
        "\n",
        "                      \t1.523776    1.523502\n",
        "\n",
        "                      \t1.523502    1.523639\n",
        "\n",
        "                      \t1.523639    1.523570\n",
        "\n",
        " the root of the eqaution after 10 iteration is 1.524\n"
       ]
      }
     ],
     "prompt_number": 28
    },
    {
     "cell_type": "heading",
     "level": 2,
     "metadata": {},
     "source": [
      "Ex2.12:pg-35"
     ]
    },
    {
     "cell_type": "code",
     "collapsed": false,
     "input": [
      "#example 2.12\n",
      "#iteration method\n",
      "#page 35\n",
      "import math\n",
      "def f(x):\n",
      "    return math.exp(-x)\n",
      "x1=1.5 # as roots lies between 0 and 1\n",
      "x2=0\n",
      "d=0.0001   # accuracy opto 10^-4\n",
      "c=0    # to count no of iterations \n",
      "print \"successive iterations \\t   x1 \\t         f(x1)\\n\"\n",
      "while abs(x2-x1)>d:\n",
      "    \n",
      "    print \"                       \\t%f    %f\\n\" %(x1,f(x1))\n",
      "    x2=x1\n",
      "    x1=f(x1)\n",
      "    c=c+1\n",
      "print \"  the root of the eqaution after %i iteration is %0.4g\" %(c,x1)"
     ],
     "language": "python",
     "metadata": {},
     "outputs": [
      {
       "output_type": "stream",
       "stream": "stdout",
       "text": [
        "successive iterations \t   x1 \t         f(x1)\n",
        "\n",
        "                       \t1.500000    0.223130\n",
        "\n",
        "                       \t0.223130    0.800011\n",
        "\n",
        "                       \t0.800011    0.449324\n",
        "\n",
        "                       \t0.449324    0.638059\n",
        "\n",
        "                       \t0.638059    0.528317\n",
        "\n",
        "                       \t0.528317    0.589597\n",
        "\n",
        "                       \t0.589597    0.554551\n",
        "\n",
        "                       \t0.554551    0.574330\n",
        "\n",
        "                       \t0.574330    0.563082\n",
        "\n",
        "                       \t0.563082    0.569451\n",
        "\n",
        "                       \t0.569451    0.565836\n",
        "\n",
        "                       \t0.565836    0.567885\n",
        "\n",
        "                       \t0.567885    0.566723\n",
        "\n",
        "                       \t0.566723    0.567382\n",
        "\n",
        "                       \t0.567382    0.567008\n",
        "\n",
        "                       \t0.567008    0.567220\n",
        "\n",
        "                       \t0.567220    0.567100\n",
        "\n",
        "                       \t0.567100    0.567168\n",
        "\n",
        "  the root of the eqaution after 18 iteration is 0.5672\n"
       ]
      }
     ],
     "prompt_number": 34
    },
    {
     "cell_type": "heading",
     "level": 2,
     "metadata": {},
     "source": [
      "Ex2.13:pg-35"
     ]
    },
    {
     "cell_type": "code",
     "collapsed": false,
     "input": [
      "#example 2.13\n",
      "#iteration method\n",
      "#page 35\n",
      "import math\n",
      "def f(x):\n",
      "    return 1+math.sin(x)/10\n",
      "x1=1.0      # as roots lies between 1 and pi evident from graph\n",
      "x2=0\n",
      "d=0.0001     # accuracy opto 10^-4\n",
      "c=0    # to count no of iterations \n",
      "print \"successive iterations \\t   x1 \\t    f(x1)\\n\"\n",
      "while abs(x2-x1)>d:\n",
      "    print \"                       \\t%f  %f\\n\" %(x1,f(x1))\n",
      "    x2=x1\n",
      "    x1=f(x1)\n",
      "    c=c+1\n",
      "print \" the root of the eqaution after %i iteration is %0.4g\" %(c,x1)\n"
     ],
     "language": "python",
     "metadata": {},
     "outputs": [
      {
       "output_type": "stream",
       "stream": "stdout",
       "text": [
        "successive iterations \t   x1 \t    f(x1)\n",
        "\n",
        "                       \t1.000000  1.084147\n",
        "\n",
        "                       \t1.084147  1.088390\n",
        "\n",
        "                       \t1.088390  1.088588\n",
        "\n",
        "                       \t1.088588  1.088597\n",
        "\n",
        " the root of the eqaution after 4 iteration is 1.089\n"
       ]
      }
     ],
     "prompt_number": 36
    },
    {
     "cell_type": "heading",
     "level": 2,
     "metadata": {},
     "source": [
      "Ex2.14:pg-36"
     ]
    },
    {
     "cell_type": "code",
     "collapsed": false,
     "input": [
      "#example 2.14\n",
      "#aitken's process\n",
      "#page 36\n",
      "import math\n",
      "def f(x):\n",
      "    return 1.5+math.cos(x)/2.0\n",
      "x0=1.5\n",
      "y=0\n",
      "e=0.0001\n",
      "c=0\n",
      "print \"successive iterations     \\t  x0 \\t      x1 \\t       x2 \\t        x3 \\t      y\\n\"\n",
      "for i in range(1,10):\n",
      "    x1=f(x0)\n",
      "    x2=f(x1)\n",
      "    x3=f(x2)\n",
      "    y=x3-((x3-x2)**2)/(x3-2*x2+x1)\n",
      "    d=y-x0\n",
      "    x0=y\n",
      "    if abs(f(x0))<e:\n",
      "        break\n",
      "    c=c+1\n",
      "    print \"                          \\t%f   %f   %f   %f   %f\\n\" %(x0,x1,x2,x3,y)\n",
      "print \"the root of the equation after %i iteration is %f\" %(c,y)\n",
      "\n"
     ],
     "language": "python",
     "metadata": {},
     "outputs": [
      {
       "output_type": "stream",
       "stream": "stdout",
       "text": [
        "successive iterations     \t  x0 \t      x1 \t       x2 \t        x3 \t      y\n",
        "\n",
        "                          \t1.523592   1.535369   1.517710   1.526531   1.523592\n",
        "\n",
        "                          \t1.523593   1.523593   1.523593   1.523593   1.523593\n",
        "\n",
        "                          \t1.523593   1.523593   1.523593   1.523593   1.523593\n",
        "\n",
        "                          \t1.523593   1.523593   1.523593   1.523593   1.523593\n",
        "\n",
        "                          \t1.523593   1.523593   1.523593   1.523593   1.523593\n",
        "\n",
        "                          \t1.523593   1.523593   1.523593   1.523593   1.523593\n",
        "\n",
        "                          \t1.523593   1.523593   1.523593   1.523593   1.523593\n",
        "\n",
        "                          \t1.523593   1.523593   1.523593   1.523593   1.523593\n",
        "\n",
        "                          \t1.523593   1.523593   1.523593   1.523593   1.523593\n",
        "\n",
        "the root of the equation after 9 iteration is 1.523593\n"
       ]
      }
     ],
     "prompt_number": 42
    },
    {
     "cell_type": "heading",
     "level": 2,
     "metadata": {},
     "source": [
      "Ex2.15:pg-39"
     ]
    },
    {
     "cell_type": "code",
     "collapsed": false,
     "input": [
      "#example 2.15\n",
      "#newton-raphson method\n",
      "#page 39\n",
      "def f(x):\n",
      "    return x**3-2*x-5\n",
      "def f1(x):\n",
      "    return 3*x**2-2    # first derivative of the function\n",
      "x0=2.0       # initial value\n",
      "d=0.0001\n",
      "c=0\n",
      "n=1\n",
      "print \"successive iterations \\t x0 \\t        f(x0) \\t        f1(x0)\\n\"\n",
      "while n==1:\n",
      "    x2=x0\n",
      "    x1=x0-(f(x0)/f1(x0))\n",
      "    x0=x1\n",
      "    print \"                      \\t%f   \\t%f   \\t%f   \\n\" %(x2,f(x1),f1(x1))\n",
      "    c=c+1\n",
      "    if abs(f(x0))<d:\n",
      "        break\n",
      "print \"the root of %i iteration is:%f\" %(c,x0)\n"
     ],
     "language": "python",
     "metadata": {},
     "outputs": [
      {
       "output_type": "stream",
       "stream": "stdout",
       "text": [
        "successive iterations \t x0 \t        f(x0) \t        f1(x0)\n",
        "\n",
        "                      \t2.000000   \t0.061000   \t11.230000   \n",
        "\n",
        "                      \t2.100000   \t0.000186   \t11.161647   \n",
        "\n",
        "                      \t2.094568   \t0.000000   \t11.161438   \n",
        "\n",
        "the root of 3 iteration is:2.094551\n"
       ]
      }
     ],
     "prompt_number": 44
    },
    {
     "cell_type": "heading",
     "level": 2,
     "metadata": {},
     "source": [
      "Ex2.16:pg-40"
     ]
    },
    {
     "cell_type": "code",
     "collapsed": false,
     "input": [
      "#example 2.16\n",
      "#newton-raphson method\n",
      "#page 40\n",
      "import math\n",
      "def f(x):\n",
      "    return x*math.sin(x)+math.cos(x)\n",
      "def f1(x):\n",
      "    return x*math.cos(x)   #first derivation of the function\n",
      "x0=math.pi   # initial value\n",
      "d=0.0001\n",
      "c=0 \n",
      "n=1\n",
      "print \"successive iterations \\tx0\\t        f(x0)\\t        f1(x0)\\n\"\n",
      "while n==1:\n",
      "    x2=x0\n",
      "    x1=x0-(f(x0)/f1(x0))\n",
      "    x0=x1\n",
      "    print \"                      \\t%f  \\t%f  \\t%f\\n\" %(x2,f(x1),f1(x1))\n",
      "    c=c+1\n",
      "    if abs(f(x0))<d:\n",
      "        break\n",
      "print \"the root of %i iteration is:%f\" %(c,x0)\n"
     ],
     "language": "python",
     "metadata": {},
     "outputs": [
      {
       "output_type": "stream",
       "stream": "stdout",
       "text": [
        "successive iterations \tx0\t        f(x0)\t        f1(x0)\n",
        "\n",
        "                      \t3.141593  \t-0.066186  \t-2.681457\n",
        "\n",
        "                      \t2.823283  \t-0.000564  \t-2.635588\n",
        "\n",
        "                      \t2.798600  \t-0.000000  \t-2.635185\n",
        "\n",
        "the root of 3 iteration is:2.798386\n"
       ]
      }
     ],
     "prompt_number": 46
    },
    {
     "cell_type": "heading",
     "level": 2,
     "metadata": {},
     "source": [
      "Ex2.17:pg-40"
     ]
    },
    {
     "cell_type": "code",
     "collapsed": false,
     "input": [
      "#example 2.17\n",
      "#newton-raphson method\n",
      "#page 40\n",
      "import math\n",
      "def f(x):\n",
      "    return x*math.exp(x)-1\n",
      "def f1(x):\n",
      "    return math.exp(x)+x*math.exp(x)   #first derivative of the function\n",
      "x0=0       # initial value\n",
      "d=0.0001 \n",
      "c=0\n",
      "n=1\n",
      "print \"successive iterations \\tx0\\t        f(x0)\\t        f1(x0)\\n\"\n",
      "while n==1:\n",
      "    x2=x0\n",
      "    x1=x0-(f(x0)/f1(x0))\n",
      "    x0=x1\n",
      "    print \"                      \\t%f   \\t%f   \\t%f\\n\" %(x2,f(x1),f1(x1))\n",
      "    c=c+1\n",
      "    if abs(f(x0))<d:\n",
      "      break\n",
      "print \"the root of %i iteration is:%f\" %(c,x0)\n"
     ],
     "language": "python",
     "metadata": {},
     "outputs": [
      {
       "output_type": "stream",
       "stream": "stdout",
       "text": [
        "successive iterations \tx0\t        f(x0)\t        f1(x0)\n",
        "\n",
        "                      \t0.000000   \t1.718282   \t5.436564\n",
        "\n",
        "                      \t1.000000   \t0.355343   \t3.337012\n",
        "\n",
        "                      \t0.683940   \t0.028734   \t2.810232\n",
        "\n",
        "                      \t0.577454   \t0.000239   \t2.763614\n",
        "\n",
        "                      \t0.567230   \t0.000000   \t2.763223\n",
        "\n",
        "the root of 5 iteration is:0.567143\n"
       ]
      }
     ],
     "prompt_number": 48
    },
    {
     "cell_type": "heading",
     "level": 2,
     "metadata": {},
     "source": [
      "Ex2.18:pg-41"
     ]
    },
    {
     "cell_type": "code",
     "collapsed": false,
     "input": [
      "#example 2.18\n",
      "#newton-raphson method\n",
      "#page 41\n",
      "import math\n",
      "def f(x):\n",
      "   return math.sin(x)-x/2.0\n",
      "def f1(x):\n",
      "    return math.cos(x)-0.5\n",
      "x0=math.pi/2.0 # initial value\n",
      "d=0.0001\n",
      "c=0\n",
      "n=1\n",
      "print \"successive iterations \\t x0 \\t        f(x0)\\t        f1(x0)\\n\"\n",
      "while n==1:\n",
      "    x2=x0\n",
      "    x1=x0-(f(x0)/f1(x0))\n",
      "    x0=x1\n",
      "    print \"                      \\t%f\\t%f\\t%f\\n\" %(x2,f(x1),f1(x1))\n",
      "    c=c+1\n",
      "    if abs(f(x0))<d:\n",
      "       break\n",
      "print \"the root of %i iteration is: %0.4g\" %(c,x0)\n"
     ],
     "language": "python",
     "metadata": {},
     "outputs": [
      {
       "output_type": "stream",
       "stream": "stdout",
       "text": [
        "successive iterations \t x0 \t        f(x0)\t        f1(x0)\n",
        "\n",
        "                      \t1.570796\t-0.090703\t-0.916147\n",
        "\n",
        "                      \t2.000000\t-0.004520\t-0.824232\n",
        "\n",
        "                      \t1.900996\t-0.000014\t-0.819039\n",
        "\n",
        "the root of 3 iteration is: 1.896\n"
       ]
      }
     ],
     "prompt_number": 51
    },
    {
     "cell_type": "heading",
     "level": 2,
     "metadata": {},
     "source": [
      "Ex2.19:pg-41"
     ]
    },
    {
     "cell_type": "code",
     "collapsed": false,
     "input": [
      "#example 2.19\n",
      "#newton-raphson method\n",
      "#page 41\n",
      "import math\n",
      "def f(x):\n",
      "    return 4*math.exp(-x)*math.sin(x)-1\n",
      "def f1(x):\n",
      "    return math.cos(x)*4*math.exp(-x)-4*math.exp(-x)*math.sin(x)\n",
      "x0=0.2  # initial value\n",
      "d=0.0001\n",
      "c=0 \n",
      "n=1\n",
      "print \"successive iterations \\t x0 \\t        f(x0)\\t        f1(x0)\\n\"\n",
      "while n==1:\n",
      "    x2=x0\n",
      "    x1=x0-(f(x0)/f1(x0))\n",
      "    x0=x1\n",
      "    print \"                      \\t%f  \\t%f    \\t%f\\n\" %(x2,f(x1),f1(x1))\n",
      "    c=c+1\n",
      "    if abs(f(x0))<d:\n",
      "       break \n",
      "print \"the root of %i iteration is: %0.3g\" %(c,x0)\n"
     ],
     "language": "python",
     "metadata": {},
     "outputs": [
      {
       "output_type": "stream",
       "stream": "stdout",
       "text": [
        "successive iterations \t x0 \t        f(x0)\t        f1(x0)\n",
        "\n",
        "                      \t0.200000  \t-0.056593    \t1.753325\n",
        "\n",
        "                      \t0.336526  \t-0.002769    \t1.583008\n",
        "\n",
        "                      \t0.368804  \t-0.000008    \t1.573993\n",
        "\n",
        "the root of 3 iteration is: 0.371\n"
       ]
      }
     ],
     "prompt_number": 54
    },
    {
     "cell_type": "heading",
     "level": 2,
     "metadata": {},
     "source": [
      "Ex2.20:pg-42"
     ]
    },
    {
     "cell_type": "code",
     "collapsed": false,
     "input": [
      "#example 2.20\n",
      "#generalized newton-raphson method\n",
      "#page 42\n",
      "def f(x):\n",
      "    return x**3-x**2-x+1\n",
      "def f1(x):\n",
      "    return 3*x**2-2*x-1\n",
      "def f2(x):\n",
      "    return 6*x-2\n",
      "x0=0.8   # initial value to finf double root\n",
      "n=1 \n",
      "print \"successive iterations   \\t x0   \\t      x1\\t       x2\\n\"\n",
      "while n==1:\n",
      "    x1=x0-(f(x0)/f1(x0));\n",
      "    x2=x0-(f1(x0)/f2(x0));\n",
      "    if abs(x1-x2)<0.000000001:\n",
      "        x0=(x1+x2)/2.0\n",
      "        break\n",
      "    else:\n",
      "        x0=(x1+x2)/2;\n",
      "    print \"                          %f\\t  %f\\t  %f\\n\" %(x0,x1,x2)\n",
      "print \"\\n \\nthe double root is at: %f\" %(x0)\n"
     ],
     "language": "python",
     "metadata": {},
     "outputs": [
      {
       "output_type": "stream",
       "stream": "stdout",
       "text": [
        "successive iterations   \t x0   \t      x1\t       x2\n",
        "\n",
        "                          0.974370\t  0.905882\t  1.042857\n",
        "\n",
        "                          0.993890\t  0.987269\t  1.000512\n",
        "\n",
        "                          0.998489\t  0.996950\t  1.000028\n",
        "\n",
        "                          0.999623\t  0.999245\t  1.000002\n",
        "\n",
        "                          0.999906\t  0.999812\t  1.000000\n",
        "\n",
        "                          0.999976\t  0.999953\t  1.000000\n",
        "\n",
        "                          0.999994\t  0.999988\t  1.000000\n",
        "\n",
        "                          0.999999\t  0.999997\t  1.000000\n",
        "\n",
        "                          1.000000\t  0.999999\t  1.000000\n",
        "\n",
        "                          1.000000\t  1.000000\t  1.000000\n",
        "\n",
        "                          1.000000\t  1.000000\t  1.000000\n",
        "\n",
        "                          1.000000\t  1.000000\t  1.000000\n",
        "\n",
        "                          1.000000\t  1.000000\t  1.000000\n",
        "\n",
        "\n",
        " \n",
        "the double root is at: 1.000000\n"
       ]
      }
     ],
     "prompt_number": 57
    },
    {
     "cell_type": "heading",
     "level": 2,
     "metadata": {},
     "source": [
      "Ex2.21:pg-45"
     ]
    },
    {
     "cell_type": "code",
     "collapsed": false,
     "input": [
      "#ramanujan's method\n",
      "#example 2.21\n",
      "#page 45\n",
      "def f(x):\n",
      "    return 1-(13.0/12.0)*x-(3.0/8.0)*x**2+(1.0/24.0)*x**3\n",
      "a1=13.0/12.0\n",
      "a2=-3.0/8.0\n",
      "a3=1.0/24.0\n",
      "b1=1\n",
      "b2=a1\n",
      "b3=a1*b2+a2*b1\n",
      "b4=a1*b3+a2*b2+a3*b1\n",
      "b5=a1*b4+a2*b3+a3*b2\n",
      "b6=a1*b5+a2*b4+a3*b3\n",
      "b7=a1*b6+a2*b5+a3*b4\n",
      "b8=a1*b7+a2*b6+a3*b5\n",
      "b9=a1*b8+a2*b7+a3*b6\n",
      "print \"\\n\\n%f\" %(b1/b2)\n",
      "print \"\\n%f\" %(b2/b3)\n",
      "print \"\\n%f\" %(b3/b4)\n",
      "print \"\\n%f\" %(b4/b5)\n",
      "print \"\\n%f\" %(b5/b6)\n",
      "print \"\\n%f\" %(b6/b7)\n",
      "print \"\\n%f\" %(b7/b8)\n",
      "print \"\\n%f\" %(b8/b9)\n",
      "print \"\\n it appears as if the roots are converging at 2\""
     ],
     "language": "python",
     "metadata": {},
     "outputs": [
      {
       "output_type": "stream",
       "stream": "stdout",
       "text": [
        "\n",
        "\n",
        "0.923077\n",
        "\n",
        "1.356522\n",
        "\n",
        "1.595376\n",
        "\n",
        "1.738402\n",
        "\n",
        "1.828184\n",
        "\n",
        "1.886130\n",
        "\n",
        "1.924153\n",
        "\n",
        "1.949345\n",
        "\n",
        " it appears as if the roots are converging at 2\n"
       ]
      }
     ],
     "prompt_number": 3
    },
    {
     "cell_type": "heading",
     "level": 2,
     "metadata": {},
     "source": [
      "Ex2.22:pg-46"
     ]
    },
    {
     "cell_type": "code",
     "collapsed": false,
     "input": [
      "#ramanujan's method\n",
      "#example 2.22\n",
      "#page 46\n",
      "def f(x):\n",
      "    return x+x**2+(x**3)/2.0+(x**4)/6.0+(x**5)/24.0\n",
      "a1=1.0\n",
      "a2=1.0\n",
      "a3=1.0/2.0\n",
      "a4=1.0/6.0\n",
      "a5=1.0/24.0\n",
      "b1=1\n",
      "b2=a2\n",
      "b3=a1*b2+a2*b1\n",
      "b4=a1*b3+a2*b2+a3*b1\n",
      "b5=a1*b4+a2*b3+a3*b2\n",
      "b6=a1*b5+a2*b4+a3*b3\n",
      "print \"\\n%f\" %(b1/b2)\n",
      "print \"\\n%f\" %(b2/b3)\n",
      "print \"\\n%f\" %(b3/b4)\n",
      "print \"\\n%f\" %(b4/b5)\n",
      "print \"\\n%f\" %(b5/b6)\n",
      "print \"\\n it appears as if the roots are converging at around %f\" %(b5/b6)"
     ],
     "language": "python",
     "metadata": {},
     "outputs": [
      {
       "output_type": "stream",
       "stream": "stdout",
       "text": [
        "\n",
        "1.000000\n",
        "\n",
        "0.500000\n",
        "\n",
        "0.571429\n",
        "\n",
        "0.583333\n",
        "\n",
        "0.571429\n",
        "\n",
        " it appears as if the roots are converging at around 0.571429\n"
       ]
      }
     ],
     "prompt_number": 8
    },
    {
     "cell_type": "heading",
     "level": 2,
     "metadata": {},
     "source": [
      "Ex2.23:pg-47"
     ]
    },
    {
     "cell_type": "code",
     "collapsed": false,
     "input": [
      "#ramanujan's method\n",
      "#example 2.23\n",
      "#page 47\n",
      "from __future__ import division\n",
      "def f(x):\n",
      "    return 1-2*((3*x/2.0+(x**2)/4.0-(x**4)/48.0+(x**6)/1440.0)-(x**8)*2/80640.0)\n",
      "a1=3/2\n",
      "a2=1/4\n",
      "a3=0\n",
      "a4=1/48\n",
      "a5=0\n",
      "a6=1/1440\n",
      "a7=0\n",
      "a8=-1/80640\n",
      "b1=1\n",
      "b2=a1\n",
      "b3=a1*b2+a2*b1\n",
      "b4=a1*b3+a2*b2+a3*b1\n",
      "b5=a1*b4+a2*b3+a3*b2\n",
      "b6=a1*b5+a2*b4+a3*b3\n",
      "b7=a1*b6+a2*b5+a3*b4\n",
      "b8=a1*b7+a2*b6+a3*b5\n",
      "b9=a1*b8+a2*b7+a3*b6\n",
      "print \"\\n%f\" %(b1/b2)\n",
      "print \"\\n%f\" %(b2/b3)\n",
      "print \"\\n%f\" %(b3/b4)\n",
      "print \"\\n%f\" %(b4/b5)\n",
      "print \"\\n%f\" %(b5/b6)\n",
      "print \"\\n%f\" %(b6/b7)\n",
      "print \"\\n%f\" %(b7/b8)\n",
      "print \"\\n it appears as if the roots are converging at around %f\" %(b7/b8)"
     ],
     "language": "python",
     "metadata": {},
     "outputs": [
      {
       "output_type": "stream",
       "stream": "stdout",
       "text": [
        "\n",
        "0.666667\n",
        "\n",
        "0.600000\n",
        "\n",
        "0.606061\n",
        "\n",
        "0.605505\n",
        "\n",
        "0.605556\n",
        "\n",
        "0.605551\n",
        "\n",
        "0.605551\n",
        "\n",
        " it appears as if the roots are converging at around 0.605551\n"
       ]
      }
     ],
     "prompt_number": 2
    },
    {
     "cell_type": "heading",
     "level": 2,
     "metadata": {},
     "source": [
      "Ex2.24:pg-47"
     ]
    },
    {
     "cell_type": "code",
     "collapsed": false,
     "input": [
      "#ramanujan's method\n",
      "#example 2.24\n",
      "#page 47\n",
      "import math\n",
      "def f(x):\n",
      "    return 1-(x-x**2.0/math.factorial(2.0)**2.0+x**3.0/math.factorial(3.0)**2.0-x**4.0/math.factorial(4.0)**2.0)\n",
      "a1=1\n",
      "a2=-1/math.factorial(2.0)**2.0\n",
      "a3=1/math.factorial(3.0)**2.0\n",
      "a4=-1/math.factorial(4.0)**2.0\n",
      "a5=-1/math.factorial(5.0)**2.0\n",
      "a6=1/math.factorial(6.0)**2.0\n",
      "b1=1\n",
      "b2=a1\n",
      "b3=a1*b2+a2*b1\n",
      "b4=a1*b3+a2*b2+a3*b1\n",
      "b5=a1*b4+a2*b3+a3*b2\n",
      "print \"\\n\\n%f\" %(b1/b2)\n",
      "print \"\\n\\n%f\" %(b2/b3)\n",
      "print \"\\n%f\" %(b3/b4)\n",
      "print \"\\n%f\" %(b4/b5)\n",
      "print \"\\n it appears as if the roots are converging at around %f\" %(b4/b5)"
     ],
     "language": "python",
     "metadata": {},
     "outputs": [
      {
       "output_type": "stream",
       "stream": "stdout",
       "text": [
        "\n",
        "\n",
        "1.000000\n",
        "\n",
        "\n",
        "1.333333\n",
        "\n",
        "1.421053\n",
        "\n",
        "1.433962\n",
        "\n",
        " it appears as if the roots are converging at around 1.433962\n"
       ]
      }
     ],
     "prompt_number": 3
    },
    {
     "cell_type": "heading",
     "level": 2,
     "metadata": {},
     "source": [
      "Ex2.25:pg-49"
     ]
    },
    {
     "cell_type": "code",
     "collapsed": false,
     "input": [
      "#example 2.25\n",
      "#secant method\n",
      "#page 49\n",
      "from __future__ import division\n",
      "def f(x):\n",
      "    return x**3-2*x-5\n",
      "x1=2\n",
      "x2=3   # initial values\n",
      "n=1\n",
      "c=0\n",
      "print \"successive iterations    \\t x1          \\t x2 \\t       x3 \\t        f(x3)\\n\"\n",
      "while n==1:\n",
      "    x3=(x1*f(x2)-x2*f(x1))/(f(x2)-f(x1)) \n",
      "    print \"                         \\t%f   \\t%f  \\t%f  \\t%f\\n\" %(x1,x2,x3,f(x3))\n",
      "    if f(x3)*f(x1)>0:\n",
      "        x2=x3;\n",
      "    else:\n",
      "        x1=x3   \n",
      "    if abs(f(x3))<0.000001: \n",
      "        break\n",
      "    c=c+1\n",
      "print \"the root of the equation after %i iteration is: %f\" %(c,x3)"
     ],
     "language": "python",
     "metadata": {},
     "outputs": [
      {
       "output_type": "stream",
       "stream": "stdout",
       "text": [
        "successive iterations    \t x1          \t x2 \t       x3 \t        f(x3)\n",
        "\n",
        "                         \t2.000000   \t3.000000  \t2.058824  \t-0.390800\n",
        "\n",
        "                         \t2.000000   \t2.058824  \t2.096559  \t0.022428\n",
        "\n",
        "                         \t2.096559   \t2.058824  \t2.094511  \t-0.000457\n",
        "\n",
        "                         \t2.094511   \t2.058824  \t2.094552  \t0.000009\n",
        "\n",
        "                         \t2.094552   \t2.058824  \t2.094551  \t-0.000000\n",
        "\n",
        "the root of the equation after 4 iteration is: 2.094551\n"
       ]
      }
     ],
     "prompt_number": 29
    },
    {
     "cell_type": "heading",
     "level": 2,
     "metadata": {},
     "source": [
      "Ex2.26:pg-50"
     ]
    },
    {
     "cell_type": "code",
     "collapsed": false,
     "input": [
      "#example 2.26\n",
      "#secant method\n",
      "#page 50\n",
      "import math\n",
      "from __future__ import division\n",
      "def f(x):\n",
      "    return x*math.exp(x)-1\n",
      "x1=0\n",
      "x2=1 # initial values\n",
      "n=1\n",
      "c=0 \n",
      "print \"successive iterations    \\t x1          \\t x2 \\t       x3 \\t        f(x3)\\n\"\n",
      "while n==1:\n",
      "    x3=(x1*f(x2)-x2*f(x1))/(f(x2)-f(x1)) \n",
      "    print \"                          \\t%f   \\t%f  \\t%f  \\t%f\\n\" %(x1,x2,x3,f(x3))\n",
      "    if f(x3)*f(x1)>0:\n",
      "        x2=x3\n",
      "    else:\n",
      "        x1=x3    \n",
      "    if abs(f(x3))<0.0001:\n",
      "        break\n",
      "    c=c+1\n",
      "print \"the root of the equation after %i iteration is: %0.4g\" %(c,x3)"
     ],
     "language": "python",
     "metadata": {},
     "outputs": [
      {
       "output_type": "stream",
       "stream": "stdout",
       "text": [
        "successive iterations    \t x1          \t x2 \t       x3 \t        f(x3)\n",
        "\n",
        "                          \t0.000000   \t1.000000  \t0.367879  \t-0.468536\n",
        "\n",
        "                          \t0.000000   \t0.367879  \t0.692201  \t0.383091\n",
        "\n",
        "                          \t0.692201   \t0.367879  \t0.546310  \t-0.056595\n",
        "\n",
        "                          \t0.546310   \t0.367879  \t0.570823  \t0.010200\n",
        "\n",
        "                          \t0.570823   \t0.367879  \t0.566500  \t-0.001778\n",
        "\n",
        "                          \t0.566500   \t0.367879  \t0.567256  \t0.000312\n",
        "\n",
        "                          \t0.567256   \t0.367879  \t0.567124  \t-0.000055\n",
        "\n",
        "the root of the equation after 6 iteration is: 0.5671\n"
       ]
      }
     ],
     "prompt_number": 31
    },
    {
     "cell_type": "heading",
     "level": 2,
     "metadata": {},
     "source": [
      "Ex2.27:pg-52"
     ]
    },
    {
     "cell_type": "code",
     "collapsed": false,
     "input": [
      "# example 2.27\n",
      "#mulller's method\n",
      "#page 52\n",
      "from __future__ import division\n",
      "import math\n",
      "def f(x):\n",
      "    return x**3-x-1\n",
      "x0=0\n",
      "x1=1\n",
      "x2=2        # initial values\n",
      "n=1\n",
      "c=0\n",
      "print \"successive iterations     \\t x0     \\t      x1 \\t       x2 \\t      f(x0)\\t       f(x1)\\t    f(x2)\\n\"\n",
      "while n==1:   \n",
      "    c=c+1\n",
      "    y0=f(x0)\n",
      "    y1=f(x1)\n",
      "    y2=f(x2)\n",
      "    h2=x2-x1\n",
      "    h1=x1-x0\n",
      "    d2=f(x2)-f(x1)\n",
      "    d1=f(x1)-f(x0)\n",
      "    print \"                            \\t%f\\t  %f\\t  %f\\t  %f\\t  %f\\t  %f\\n\" %(x0,x1,x2,f(x0),f(x1),f(x2))\n",
      "    A=(d2/h2-d1/h1)/(h1+h2)\n",
      "    B=d2/h2+A*h2\n",
      "    S=math.sqrt(B**2-4*A*f(x2))\n",
      "    x3=x2-(2*f(x2))/(B+S)\n",
      "    E=abs((x3-x2)/x2)*100\n",
      "    if E<0.003:\n",
      "        break\n",
      "    else:\n",
      "        if c==1:\n",
      "            x2=x3\n",
      "        if c==2:\n",
      "            x1=x2\n",
      "            x2=x3\n",
      "        if c==3:\n",
      "            x0=x1\n",
      "            x1=x2\n",
      "            x2=x3\n",
      "        if c==3:\n",
      "            c=0\n",
      "print \"the required root is : %0.4f\" %(x3)\n"
     ],
     "language": "python",
     "metadata": {},
     "outputs": [
      {
       "output_type": "stream",
       "stream": "stdout",
       "text": [
        "successive iterations     \t x0     \t      x1 \t       x2 \t      f(x0)\t       f(x1)\t    f(x2)\n",
        "\n",
        "                            \t0.000000\t  1.000000\t  2.000000\t  -1.000000\t  -1.000000\t  5.000000\n",
        "\n",
        "                            \t0.000000\t  1.000000\t  1.263763\t  -1.000000\t  -1.000000\t  -0.245412\n",
        "\n",
        "                            \t0.000000\t  1.263763\t  1.331711\t  -1.000000\t  -0.245412\t  0.030015\n",
        "\n",
        "                            \t1.263763\t  1.331711\t  1.324583\t  -0.245412\t  0.030015\t  -0.000574\n",
        "\n",
        "                            \t1.263763\t  1.331711\t  1.324718\t  -0.245412\t  0.030015\t  -0.000000\n",
        "\n",
        "the required root is : 1.3247\n"
       ]
      }
     ],
     "prompt_number": 35
    },
    {
     "cell_type": "heading",
     "level": 2,
     "metadata": {},
     "source": [
      "Ex2.28:pg-55"
     ]
    },
    {
     "cell_type": "code",
     "collapsed": false,
     "input": [
      "#graeffe's method\n",
      "#example 2.28\n",
      "#page 55\n",
      "import math\n",
      "from __future__ import division\n",
      "def f(x):\n",
      "    return x**3-6*(x**2)+11*x-6\n",
      "#x=poly(0,'x')\n",
      "#g=f(-x)\n",
      "print \"the equation is:\\n\"\n",
      "A=[1, 14, 49, 36]   #coefficients of the above equation\n",
      "print \"%0.4g\\n\" %(math.sqrt(A[3]/A[2]))\n",
      "print \"%0.4g\\n\" %(math.sqrt(A[2]/A[1]))\n",
      "print \"%0.4g\\n\" %(math.sqrt(A[1]/A[0]))\n",
      "print \"the equation is:\\n\"\n",
      "#disp(g*(-1*g));\n",
      "B=[1, 98, 1393, 1296]\n",
      "print \"%0.4g\\n\" %((B[3]/B[2])**(1/4))\n",
      "print \"%0.4g\\n\" %((B[2]/B[1])**(1/4))\n",
      "print \"%0.4g\\n\" %((B[1]/B[0])**(1/4))\n",
      "print \"It is apparent from the outputs that the roots converge at 1 2 3\"\n",
      "\n",
      "\n",
      "\n",
      "#INCOMPLETE"
     ],
     "language": "python",
     "metadata": {},
     "outputs": [
      {
       "output_type": "stream",
       "stream": "stdout",
       "text": [
        "the equation is:\n",
        "\n",
        "0.8571\n",
        "\n",
        "1.871\n",
        "\n",
        "3.742\n",
        "\n",
        "the equation is:\n",
        "\n",
        "0.9821\n",
        "\n",
        "1.942\n",
        "\n",
        "3.146\n",
        "\n",
        "It is apparent from the outputs that the roots converge at 1 2 3\n"
       ]
      }
     ],
     "prompt_number": 3
    },
    {
     "cell_type": "heading",
     "level": 2,
     "metadata": {},
     "source": [
      "Ex2.29:pg-57"
     ]
    },
    {
     "cell_type": "code",
     "collapsed": false,
     "input": [
      "#quadratic factor by lin's--bairsttow method\n",
      "#example 2.29\n",
      "#page 57\n",
      "from numpy import matrix\n",
      "from __future__ import division\n",
      "def f(x):\n",
      "    return x**3-x-1\n",
      "a=[-1, -1, 0, 1]\n",
      "r1=1\n",
      "s1=1\n",
      "b4=a[3]\n",
      "def f3(r):\n",
      "    return a[2]-r*a[3]\n",
      "def f2(r,s):\n",
      "    return a[1]-r*a[2]+r**2*a[3]-s*a[3]\n",
      "def f1(r,s):\n",
      "    return a[0]-s*a[2]+s*r*a[3]\n",
      "A=matrix([[1,1],[2,-1]])\n",
      "C=matrix([[0],[1]])\n",
      "X=A.I*C\n",
      "X1=[[ 0.33333333],[-0.33333333]]\n",
      "dr=X1[0][0]\n",
      "ds=X1[1][0]\n",
      "r2=r1+dr\n",
      "s2=s1+ds\n",
      "#second pproximation\n",
      "r1=r2\n",
      "s1=s2\n",
      "b11=f1(r2,s2)\n",
      "b22=f2(r2,s2)\n",
      "h=0.001\n",
      "dr_b1=(f1(r1+h,s1)-f1(r1,s1))/h\n",
      "ds_b1=(f1(r1,s1+h)-f1(r1,s1))/h\n",
      "dr_b2=(f2(r1+h,s1)-f2(r1,s1))/h\n",
      "ds_b2=(f2(r1,s1+h)-f2(r1,s1))/h\n",
      "A=matrix([[dr_b1,ds_b1],[dr_b2,ds_b2]])\n",
      "C=matrix([[-f1(r1,s1)],[-f2(r1,s2)]])\n",
      "X=A.I*C\n",
      "r2=r1+X[0][0]\n",
      "s2=s1+X[1][0]\n",
      "print \"roots correct to 3 decimal places are : %0.3f       %0.3f\" %(r2,s2)\n",
      "\n"
     ],
     "language": "python",
     "metadata": {},
     "outputs": [
      {
       "output_type": "stream",
       "stream": "stdout",
       "text": [
        "roots correct to 3 decimal places are : 1.325       0.754\n"
       ]
      }
     ],
     "prompt_number": 7
    },
    {
     "cell_type": "heading",
     "level": 2,
     "metadata": {},
     "source": [
      "Ex2.31:pg-62"
     ]
    },
    {
     "cell_type": "code",
     "collapsed": false,
     "input": [
      "#method of iteration\n",
      "#example 2.31\n",
      "#page 62\n",
      "from __future__ import division\n",
      "def f(x,y):\n",
      "    return (3*y*x**2+7)/10\n",
      "def g(x,y):\n",
      "    return (y**2+4)/5\n",
      "h=0.0001\n",
      "x0=0.5\n",
      "y0=0.5\n",
      "f1_dx=(f(x0+h,y0)-f(x0,y0))/h\n",
      "f1_dy=(f(x0,y0+h)-f(x0,y0))/h\n",
      "g1_dx=(g(x0+h,y0)-g(x0,y0))/h\n",
      "g1_dy=(g(x0+h,y0)-g(x0,y0))/h\n",
      "if (f1_dx+f1_dy<1) and (g1_dx+g1_dy<1): \n",
      "    print \"coditions for convergence is satisfied\\n\\n\"\n",
      "print \"X \\t              Y\\t\\n\\n\"\n",
      "for i in range(0,10):\n",
      "    X=(3*y0*x0**2+7)/10\n",
      "    Y=(y0**2+4)/5\n",
      "    print \"%f\\t       %f\\t\\n\" %(X,Y)\n",
      "    x0=X\n",
      "    y0=Y\n",
      "print \"\\n\\n CONVERGENCE AT (1 1) IS OBVIOUS\"\n",
      "\n"
     ],
     "language": "python",
     "metadata": {},
     "outputs": [
      {
       "output_type": "stream",
       "stream": "stdout",
       "text": [
        "coditions for convergence is satisfied\n",
        "\n",
        "\n",
        "X \t              Y\t\n",
        "\n",
        "\n",
        "0.737500\t       0.850000\t\n",
        "\n",
        "0.838696\t       0.944500\t\n",
        "\n",
        "0.899312\t       0.978416\t\n",
        "\n",
        "0.937391\t       0.991460\t\n",
        "\n",
        "0.961360\t       0.996598\t\n",
        "\n",
        "0.976320\t       0.998642\t\n",
        "\n",
        "0.985572\t       0.999457\t\n",
        "\n",
        "0.991247\t       0.999783\t\n",
        "\n",
        "0.994707\t       0.999913\t\n",
        "\n",
        "0.996807\t       0.999965\t\n",
        "\n",
        "\n",
        "\n",
        " CONVERGENCE AT (1 1) IS OBVIOUS\n"
       ]
      }
     ],
     "prompt_number": 9
    },
    {
     "cell_type": "heading",
     "level": 2,
     "metadata": {},
     "source": [
      "Ex2.32:pg-65"
     ]
    },
    {
     "cell_type": "code",
     "collapsed": false,
     "input": [
      "#newton raphson method\n",
      "#example 2.32\n",
      "#page 65\n",
      "def f(x,y):\n",
      "    return 3*y*x**2-10*x+7\n",
      "def g(y):\n",
      "    return y**2-5*y+4\n",
      "hh=0.0001\n",
      "x0=0.5\n",
      "y0=0.5  #initial values\n",
      "f0=f(x0,y0)\n",
      "g0=g(y0)\n",
      "df_dx=(f(x0+hh,y0)-f(x0,y0))/hh\n",
      "df_dy=(f(x0,y0+hh)-f(x0,y0))/hh\n",
      "dg_dx=(g(y0)-g(y0))/hh\n",
      "dg_dy=(g(y0+hh)-g(y0))/hh\n",
      "d=[[df_dx,df_dy],[dg_dx,dg_dy]]\n",
      "D1=det(d)\n",
      "dd=[[-f0,df_dy],[-g0,dg_dy]]\n",
      "h=det(dd)/D1\n",
      "ddd=[[df_dx,-f0],[dg_dx,-g0]]\n",
      "k=det(ddd)/D1;\n",
      "x1=x0+h\n",
      "y1=y0+k\n",
      "f0=f(x1,y1)\n",
      "g0=g(y1)\n",
      "df_dx=(f(x1+hh,y1)-f(x1,y1))/hh\n",
      "df_dy=(f(x1,y1+hh)-f(x1,y1))/hh\n",
      "dg_dx=(g(y1)-g(y1))/hh\n",
      "dg_dy=(g(y1+hh)-g(y1))/hh\n",
      "dddd=[[df_dx,df_dy],[dg_dx,dg_dy]]\n",
      "D2=det(dddd)\n",
      "ddddd=[[-f0,df_dy],[-g0,dg_dy]]\n",
      "h=det(ddddd)/D2\n",
      "d6=[[df_dx,-f0],[dg_dx,-g0]]\n",
      "k=det(d6)/D2\n",
      "x2=x1+h\n",
      "y2=y1+k\n",
      "print \" the roots of the equation are x2=%f and y2=%f\" %(x2,y2)\n"
     ],
     "language": "python",
     "metadata": {},
     "outputs": [
      {
       "output_type": "stream",
       "stream": "stdout",
       "text": [
        " the roots of the equation are x2=0.970803 and y2=0.998752\n"
       ]
      }
     ],
     "prompt_number": 8
    },
    {
     "cell_type": "heading",
     "level": 2,
     "metadata": {},
     "source": [
      "Ex2.33:pg-66"
     ]
    },
    {
     "cell_type": "code",
     "collapsed": false,
     "input": [
      "#newton raphson method\n",
      "#example 2.33\n",
      "#page 66\n",
      "import math\n",
      "def f(x,y):\n",
      "    return x**2+y**2-1\n",
      "def g(x,y):\n",
      "    return y-x**2\n",
      "hh=0.0001\n",
      "x0=0.7071\n",
      "y0=0.7071     #initial values\n",
      "f0=f(x0,y0)\n",
      "g0=g(x0,y0)\n",
      "df_dx=(f(x0+hh,y0)-f(x0,y0))/hh\n",
      "df_dy=(f(x0,y0+hh)-f(x0,y0))/hh\n",
      "dg_dx=(g(x0+hh,y0)-g(x0,y0))/hh\n",
      "dg_dy=(g(x0,y0+hh)-g(x0,y0))/hh\n",
      "D1=det([[df_dx,df_dy],[dg_dx,dg_dy]])\n",
      "h=det([[-f0,df_dy],[-g0,dg_dy]])/D1\n",
      "k=det([[df_dx,-f0],[dg_dx,-g0]])/D1\n",
      "x1=x0+h\n",
      "y1=y0+k\n",
      "f0=f(x1,y1)\n",
      "g0=g(x1,y1)\n",
      "df_dx=(f(x1+hh,y1)-f(x1,y1))/hh\n",
      "df_dy=(f(x1,y1+hh)-f(x1,y1))/hh\n",
      "dg_dx=(g(x1+hh,y1)-g(x1,y1))/hh\n",
      "dg_dy=(g(x1,y1+hh)-g(x1,y1))/hh\n",
      "D2=det([[df_dx,df_dy],[dg_dx,dg_dy]])\n",
      "h=det([[-f0,df_dy],[-g0,dg_dy]])/D2\n",
      "k=det([[df_dx,-f0],[dg_dx,-g0]])/D2\n",
      "x2=x1+h\n",
      "y2=y1+k\n",
      "print \"the roots of the equation are x2=%f and y2=%f \" %(x2,y2)\n"
     ],
     "language": "python",
     "metadata": {},
     "outputs": [
      {
       "output_type": "stream",
       "stream": "stdout",
       "text": [
        "the roots of the equation are x2=0.786184 and y2=0.618039 \n"
       ]
      }
     ],
     "prompt_number": 11
    },
    {
     "cell_type": "heading",
     "level": 2,
     "metadata": {},
     "source": [
      "Ex2.34:pg-67"
     ]
    },
    {
     "cell_type": "code",
     "collapsed": false,
     "input": [
      "#newton raphson method\n",
      "#example 2.34\n",
      "#page 67\n",
      "import math\n",
      "def f(x,y):\n",
      "    return math.sin(x)-y+0.9793\n",
      "def g(x,y):\n",
      "    return math.cos(y)-x+0.6703\n",
      "hh=0.0001\n",
      "x0=0.5\n",
      "y0=1.5   #initial values\n",
      "f0=f(x0,y0)\n",
      "g0=g(x0,y0)\n",
      "df_dx=(f(x0+hh,y0)-f(x0,y0))/hh\n",
      "df_dy=(f(x0,y0+hh)-f(x0,y0))/hh\n",
      "dg_dx=(g(x0+hh,y0)-g(x0,y0))/hh\n",
      "dg_dy=(g(x0,y0+hh)-g(x0,y0))/hh\n",
      "d1=[[df_dx,df_dy],[dg_dx,dg_dy]]\n",
      "D1=det(d1)\n",
      "d2=[[-f0,df_dy],[-g0,dg_dy]]\n",
      "h=det(d2)/D1\n",
      "d3=[[df_dx,-f0],[dg_dx,-g0]]\n",
      "k=det(d3)/D1\n",
      "x1=x0+h\n",
      "y1=y0+k\n",
      "f0=f(x1,y1)\n",
      "g0=g(x1,y1)\n",
      "df_dx=(f(x1+hh,y1)-f(x1,y1))/hh\n",
      "df_dy=(f(x1,y1+hh)-f(x1,y1))/hh\n",
      "dg_dx=(g(x1+hh,y1)-g(x1,y1))/hh\n",
      "dg_dy=(g(x1,y1+hh)-g(x1,y1))/hh\n",
      "d4=[[df_dx,df_dy],[dg_dx,dg_dy]]\n",
      "D2=det(d4)\n",
      "h=det([[-f0,df_dy],[-g0,dg_dy]])/D2\n",
      "k=det([[df_dx,-f0],[dg_dx,-g0]])/D2\n",
      "x2=x1+h\n",
      "y2=y1+k\n",
      "print \"the roots of the equation are x2=%0.4f and y2=%0.4f\" %(x2,y2)\n"
     ],
     "language": "python",
     "metadata": {},
     "outputs": [
      {
       "output_type": "stream",
       "stream": "stdout",
       "text": [
        "the roots of the equation are x2=0.6537 and y2=1.5874\n"
       ]
      }
     ],
     "prompt_number": 9
    },
    {
     "cell_type": "code",
     "collapsed": false,
     "input": [],
     "language": "python",
     "metadata": {},
     "outputs": []
    }
   ],
   "metadata": {}
  }
 ]
}