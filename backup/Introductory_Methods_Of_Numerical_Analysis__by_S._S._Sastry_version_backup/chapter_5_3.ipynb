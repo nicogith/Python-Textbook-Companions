{
 "metadata": {
  "name": "",
  "signature": "sha256:73b3f1621533860d19417048028b6a582d3d1aa7cc7179cdde4368d0572261d3"
 },
 "nbformat": 3,
 "nbformat_minor": 0,
 "worksheets": [
  {
   "cells": [
    {
     "cell_type": "heading",
     "level": 1,
     "metadata": {},
     "source": [
      "Chapter05:Spline Functions"
     ]
    },
    {
     "cell_type": "heading",
     "level": 2,
     "metadata": {},
     "source": [
      "Ex5.1:pg-182"
     ]
    },
    {
     "cell_type": "code",
     "collapsed": false,
     "input": [
      "#linear splines\n",
      "#example 5.1\n",
      "#page 182\n",
      "from numpy import matrix\n",
      "X=matrix([[1],[2], [3]])\n",
      "y=matrix([[-8],[-1],[18]])\n",
      "m1=(y[1][0]-y[0][0])/(X[1][0]-X[0][0])\n",
      "m2=(y[2][0]-y[1][0])/(X[2][0]-X[1][0])\n",
      "def s1(x):\n",
      "      return y[0][0]+(x-X[0][0])*m1\n",
      "def s2(x):\n",
      "      return y[1][0]+(x-X[1][0])*m2\n",
      "print \"the value of function at 2.5 is %0.2f: \" %(s2(2.5))\n"
     ],
     "language": "python",
     "metadata": {},
     "outputs": [
      {
       "output_type": "stream",
       "stream": "stdout",
       "text": [
        "the value of function at 2.5 is 8.50: \n"
       ]
      }
     ],
     "prompt_number": 14
    },
    {
     "cell_type": "heading",
     "level": 2,
     "metadata": {},
     "source": [
      "Ex5.3:pg-188"
     ]
    },
    {
     "cell_type": "code",
     "collapsed": false,
     "input": [
      "#cubic splines\n",
      "#example 5.3\n",
      "#page 188\n",
      "from numpy import matrix\n",
      "import math\n",
      "X=matrix([[1],[2],[3]])\n",
      "y=matrix([[-8],[-1],[18]])\n",
      "M1=0\n",
      "M2=8\n",
      "M3=0\n",
      "h=1\n",
      "#deff('y=s1(x)','y=3*(x-1)^3-8*(2-x)-4*(x-1)')\n",
      "def s1(x):\n",
      "    return 3*math.pow(x-1,3)-8*(2-x)-4*(x-1)\n",
      "#deff('y=s2(x)','y=3*(3-x)^3+22*x-48');\n",
      "def s2(x):\n",
      "    return 3*math.pow(3-x,3)+22*x-48\n",
      "h=0.0001\n",
      "n=2.0\n",
      "D=(s2(n+h)-s2(n))/h;\n",
      "print \" y(2.5)=%f\" %(s2(2.5))\n",
      "print \"y1(2.0)=%f\" %(D)"
     ],
     "language": "python",
     "metadata": {},
     "outputs": [
      {
       "output_type": "stream",
       "stream": "stdout",
       "text": [
        " y(2.5)=7.375000\n",
        "y1(2.0)=13.000900\n"
       ]
      }
     ],
     "prompt_number": 18
    },
    {
     "cell_type": "heading",
     "level": 2,
     "metadata": {},
     "source": [
      "Ex5.4:pg-189"
     ]
    },
    {
     "cell_type": "code",
     "collapsed": false,
     "input": [
      "#cubic spline\n",
      "#example 5.4\n",
      "#page 189\n",
      "from numpy import matrix\n",
      "import math\n",
      "x=matrix([[0],[math.pi/2],[math.pi]])\n",
      "y=matrix([[0],[1],[0]])\n",
      "h=x[1][0]-x[0][0]\n",
      "M0=0\n",
      "M2=0\n",
      "M1=((6*(y[0][0]-2*y[1][0]+y[2][0])/math.pow(h,2))-M0-M2)/4\n",
      "X=math.pi/6.0\n",
      "s1=(math.pow(x[1][0]-X,3)*(M0/6)+math.pow(X-x[0][0],3)*M1/6+(y[0][0]-math.pow(h,2)*M0/6)*(x[1][0]-X)+(y[1][0]-math.pow(h,2)*M1/6)*(X-x[0][0]))/h;\n",
      "x=matrix([[0],[math.pi/4], [math.pi/2], [3*math.pi/4], [math.pi]])\n",
      "y=matrix([[0], [1.414], [1] ,[1.414]])\n",
      "M0=0\n",
      "M4=0\n",
      "A=matrix([[4, 1, 0],[1, 4, 1],[0 ,1 ,4]]) #calculating value of M1 M2 M3 by matrix method\n",
      "C=matrix([[-4.029],[-5.699],[-4.029]])\n",
      "B=A.I*C\n",
      "print \"M0=%f\\t   M1=%f\\t   M2=%f\\t   M3=%f\\t   M4=%f\\t\\n\\n\" %(M0,B[0][0],B[1][0],B[2][0],M4)\n",
      "h=math.pi/4;\n",
      "X=math.pi/6;\n",
      "s1=(-0.12408*math.pow(X,3)+0.7836*X)/h;\n",
      "print \"the value of sin(pi/6) is:%f\" %(s1)"
     ],
     "language": "python",
     "metadata": {},
     "outputs": [
      {
       "output_type": "stream",
       "stream": "stdout",
       "text": [
        "M0=0.000000\t   M1=-0.744071\t   M2=-1.052714\t   M3=-0.744071\t   M4=0.000000\t\n",
        "\n",
        "\n",
        "the value of sin(pi/6) is:0.499722\n"
       ]
      }
     ],
     "prompt_number": 5
    },
    {
     "cell_type": "heading",
     "level": 2,
     "metadata": {},
     "source": [
      "Ex5.5:pg-191"
     ]
    },
    {
     "cell_type": "code",
     "collapsed": false,
     "input": [
      "#cubic spline\n",
      "#example 5.5\n",
      "#page 191\n",
      "import math\n",
      "from numpy import matrix\n",
      "x=[1,2,3]\n",
      "y=[6,18,42]\n",
      "m0=40\n",
      "s1=0\n",
      "m1=(3*(y[2]-y[0])-m0)/4\n",
      "X=0\n",
      "s1=m0*((x[1]-X)**2)*(X-x[0])-m1*((X-x[0])**2)*(x[1]-X)+y[0]*((x[1]-X)**2)*(2*(X-x[0])+1)+y[1]*((X-x[0])**2)*(2*(x[1]-X)+1)\n",
      "print \"s1= %f+261*x-160X^2+33X^3\" %(s1)"
     ],
     "language": "python",
     "metadata": {},
     "outputs": [
      {
       "output_type": "stream",
       "stream": "stdout",
       "text": [
        "s1= -128.000000+261*x-160X^2+33X^3\n"
       ]
      }
     ],
     "prompt_number": 7
    },
    {
     "cell_type": "heading",
     "level": 2,
     "metadata": {},
     "source": [
      "Ex5.7:pg-195"
     ]
    },
    {
     "cell_type": "code",
     "collapsed": false,
     "input": [
      "#surface fitting by cubic spline\n",
      "#example 5.7\n",
      "#page 195\n",
      "from numpy import matrix\n",
      "def L0(y):\n",
      "    return math.pow(y,3)/4-5*y/4+1\n",
      "def L1(y):\n",
      "    return (math.pow(y,3)/2)*-1+3*y/2\n",
      "def L2(y):\n",
      "    return math.pow(y,3)/4-y/4\n",
      "A=[ [1,2,9], [2,3,10], [9,10,17] ]\n",
      "x=0.5\n",
      "y=0.5\n",
      "S=0.0\n",
      "S=S+L0(x)*(L0(x)*A[0][0]+L1(x)*A[0][1]+L2(x)*A[0][2])\n",
      "S=S+L1(x)*(L0(x)*A[1][0]+L1(x)*A[1][1]+L2(x)*A[1][2])\n",
      "S=S+L2(x)*(L0(x)*A[2][0]+L1(x)*A[2][1]+L2(x)*A[2][2])\n",
      "print \"approximated value of z(0.5 0.5)=%f\\n\\n\" %(S)\n",
      "print \" error in the approximated value : %f\" %((abs(1.25-S)/1.25)*100)\n"
     ],
     "language": "python",
     "metadata": {},
     "outputs": [
      {
       "output_type": "stream",
       "stream": "stdout",
       "text": [
        "approximated value of z(0.5 0.5)=0.875000\n",
        "\n",
        "\n",
        " error in the approximated value : 30.000000\n"
       ]
      }
     ],
     "prompt_number": 30
    },
    {
     "cell_type": "heading",
     "level": 2,
     "metadata": {},
     "source": [
      "Ex5.8:pg-200"
     ]
    },
    {
     "cell_type": "code",
     "collapsed": false,
     "input": [
      "#cubic B-splines\n",
      "#example 5.8\n",
      "#page 200\n",
      "import math\n",
      "k=[0.0, 1, 2, 3, 4]\n",
      "pi=[0.0, 0, 4, -6, 24]\n",
      "x=1\n",
      "S=0\n",
      "for i in range(2,5):\n",
      "    S=S+math.pow(k[i]-x,3)/(pi[i])\n",
      "print \"the cubic splines for x=1 is %f\\n\\n\" %(S)\n",
      "S=0\n",
      "x=2\n",
      "for i in range(2,5):\n",
      "    S=S+math.pow(k[i]-x,3)/(pi[i])\n",
      "print \"the cubic splines for x=2 is  %f\\n\\n\" %(S)\n"
     ],
     "language": "python",
     "metadata": {},
     "outputs": [
      {
       "output_type": "stream",
       "stream": "stdout",
       "text": [
        "the cubic splines for x=1 is 0.041667\n",
        "\n",
        "\n",
        "the cubic splines for x=2 is  0.166667\n",
        "\n",
        "\n"
       ]
      }
     ],
     "prompt_number": 39
    },
    {
     "cell_type": "heading",
     "level": 2,
     "metadata": {},
     "source": [
      "Ex5.9:pg-201"
     ]
    },
    {
     "cell_type": "code",
     "collapsed": false,
     "input": [
      "#cubic B-spline\n",
      "#example 5.9\n",
      "#page 201\n",
      "k=[0, 1, 2, 3, 4];\n",
      "x=1   #for x=1\n",
      "s11=0\n",
      "s13=0\n",
      "s14=0\n",
      "s24=0 \n",
      "s12=1/(k[2]-k[1])\n",
      "s22=((x-k[0])*s11+(k[2]-x)*s12)/2.0  #k[2]-k[0]=2\n",
      "s23=((x-k[1])*s11+(k[3]-x)*s13)/(k[3]-k[1])\n",
      "s33=((x-k[0])*s22+(k[3]-x)*s23)/(k[3]-k[0])\n",
      "s34=((x-k[1])*s23+(k[4]-x)*s24)/(k[4]-k[1])\n",
      "s44=((x-k[0])*s33+(k[4]-x)*s34)/(k[4]-k[0])\n",
      "print \"s11=%f\\t     s22=%f\\t    s23=%f\\t    s33=%f\\t   s34=%f\\t    s44=%f\\n\\n\" %(s11,s22,s23,s33,s34,s44)\n",
      "x=2     #for x=2\n",
      "s11=0\n",
      "s12=0\n",
      "s14=0\n",
      "s22=0\n",
      "s13=1/(k[3]-k[2])\n",
      "s23=((x-k[1])*s12+(k[3]-x)*s13)/2.0 # k[3]-k[1]=2\n",
      "s24=((x-k[2])*s13+(k[4]-x)*s14)/(k[2]-k[0])\n",
      "s33=((x-k[0])*s22+(k[3]-x)*s23)/(k[3]-k[0])\n",
      "s34=((x-k[1])*s23+(k[4]-x)*s24)/(k[4]-k[1])\n",
      "s44=((x-k[0])*s33+(k[4]-x)*s34)/(k[4]-k[0])\n",
      "print \"s13=%f\\t     s23=%f\\t     s24=%f\\t    s33=%f\\t    s34=%f\\t     s44=%f\\n\\n\" %(s13,s23,s24,s33,s34,s44)"
     ],
     "language": "python",
     "metadata": {},
     "outputs": [
      {
       "output_type": "stream",
       "stream": "stdout",
       "text": [
        "s11=0.000000\t     s22=0.500000\t    s23=0.000000\t    s33=0.166667\t   s34=0.000000\t    s44=0.041667\n",
        "\n",
        "\n",
        "s13=1.000000\t     s23=0.500000\t     s24=0.000000\t    s33=0.166667\t    s34=0.166667\t     s44=0.166667\n",
        "\n",
        "\n"
       ]
      }
     ],
     "prompt_number": 51
    }
   ],
   "metadata": {}
  }
 ]
}