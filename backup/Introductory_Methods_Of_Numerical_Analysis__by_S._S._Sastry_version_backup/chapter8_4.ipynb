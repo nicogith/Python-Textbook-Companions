{
 "metadata": {
  "name": "",
  "signature": "sha256:211485ee9675dbd033c1e0f7103541cc20ab60290b369496fbe4f65a805db82f"
 },
 "nbformat": 3,
 "nbformat_minor": 0,
 "worksheets": [
  {
   "cells": [
    {
     "cell_type": "heading",
     "level": 1,
     "metadata": {},
     "source": [
      "Chapter08:Numerical Solution of Ordinary Differential Equations"
     ]
    },
    {
     "cell_type": "heading",
     "level": 2,
     "metadata": {},
     "source": [
      "Ex8.1:pg-304"
     ]
    },
    {
     "cell_type": "code",
     "collapsed": false,
     "input": [
      "#example 8.1\n",
      "#taylor's method\n",
      "#page 304\n",
      "import math\n",
      "f=1    #value of function at 0\n",
      "def f1(x):\n",
      "    return x-f**2\n",
      "def f2(x):\n",
      "    return 1-2*f*f1(x)\n",
      "def f3(x):\n",
      "    return -2*f*f2(x)-2*f2(x)**2\n",
      "def f4(x):\n",
      "    return -2*f*f3(x)-6*f1(x)*f2(x)\n",
      "def f5(x):\n",
      "    return -2*f*f4(x)-8*f1(x)*f3(x)-6*f2(x)**2\n",
      "h=0.1   #value at 0.1\n",
      "k=f \n",
      "for j in range(1,5):\n",
      "    if j==1:\n",
      "        k=k+h*f1(0);\n",
      "    elif j==2:\n",
      "        k=k+(h**j)*f2(0)/math.factorial(j)\n",
      "    elif j ==3:\n",
      "        k=k+(h**j)*f3(0)/math.factorial(j)\n",
      "    elif j ==4:\n",
      "        k=k+(h**j)*f4(0)/math.factorial(j)\n",
      "    elif j==5:\n",
      "        k=k+(h**j)*f5(0)/math.factorial(j)\n",
      "print \"the value of the function at %.2f is :%0.4f\" %(h,k)\n"
     ],
     "language": "python",
     "metadata": {},
     "outputs": [
      {
       "output_type": "stream",
       "stream": "stdout",
       "text": [
        "the value of the function at 0.10 is :0.9113\n"
       ]
      }
     ],
     "prompt_number": 2
    },
    {
     "cell_type": "heading",
     "level": 2,
     "metadata": {},
     "source": [
      "Ex8.2:pg-304"
     ]
    },
    {
     "cell_type": "code",
     "collapsed": false,
     "input": [
      "#taylor's method\n",
      "#example 8.2\n",
      "#page 304\n",
      "import math\n",
      "f=1   #value of function at 0\n",
      "f1=0   #value of first derivatie at 0\n",
      "def f2(x):\n",
      "    return x*f1+f\n",
      "def f3(x):\n",
      "    return x*f2(x)+2*f1\n",
      "def f4(x):\n",
      "    return x*f3(x)+3*f2(x)\n",
      "def f5(x):\n",
      "    return x*f4(x)+4*f3(x)\n",
      "def f6(x):\n",
      "    return x*f5(x)+5*f4(x)\n",
      "h=0.1   #value at 0.1\n",
      "k=f\n",
      "for j in range(1,6):\n",
      "    if j==1:\n",
      "        k=k+h*f1\n",
      "    elif j==2:\n",
      "        k=k+(h**j)*f2(0)/math.factorial(j)\n",
      "    elif j ==3:\n",
      "        k=k+(h**j)*f3(0)/math.factorial(j)\n",
      "    elif j ==4:\n",
      "        k=k+(h**j)*f4(0)/math.factorial(j)\n",
      "    elif j==5:\n",
      "        k=k+(h**j)*f5(0)/math.factorial(j)\n",
      "    else:\n",
      "        k=k+(h**j)*f6(0)/math.factorial (j)\n",
      "print \"the value of the function at %.2f is :%0.7f\" %(h,k)\n"
     ],
     "language": "python",
     "metadata": {},
     "outputs": [
      {
       "output_type": "stream",
       "stream": "stdout",
       "text": [
        "the value of the function at 0.10 is :1.0050125\n"
       ]
      }
     ],
     "prompt_number": 4
    },
    {
     "cell_type": "heading",
     "level": 2,
     "metadata": {},
     "source": [
      "Ex8.3:pg-306"
     ]
    },
    {
     "cell_type": "code",
     "collapsed": false,
     "input": [
      "#example 8.3\n",
      "#picard's method\n",
      "#page 306\n",
      "from scipy import integrate\n",
      "from __future__ import division\n",
      "def f(x,y):\n",
      "    return x+y**2\n",
      "y=[0,0,0,0]\n",
      "y[1]=1\n",
      "for i in range(1,3):\n",
      "    a=integrate.quad(lambda x:x+y[i]**2,0,i/10)\n",
      "    y[i+1]=a[0]+y[1]\n",
      "    print \"\\n y (%g) = %g\\n\" %(i/10,y[i+1])"
     ],
     "language": "python",
     "metadata": {},
     "outputs": [
      {
       "output_type": "stream",
       "stream": "stdout",
       "text": [
        "\n",
        " y (0.1) = 1.105\n",
        "\n",
        "\n",
        " y (0.2) = 1.26421\n",
        "\n"
       ]
      }
     ],
     "prompt_number": 22
    },
    {
     "cell_type": "heading",
     "level": 2,
     "metadata": {},
     "source": [
      "Ex8.4:pg-306"
     ]
    },
    {
     "cell_type": "code",
     "collapsed": false,
     "input": [
      "#example 8.4\n",
      "#picard's method\n",
      "#page 306\n",
      "from scipy import integrate\n",
      "y=[0,0,0,0]   #value at 0\n",
      "c=0.25\n",
      "for i in range(0,3):\n",
      "    a=integrate.quad(lambda x:(x**2/(y[i]**2+1)),0,c)\n",
      "    y[i+1]=y[0]+a[0]\n",
      "    print \"\\n y(%0.2f) = %g\\n\" %(c,y[i+1])\n",
      "    c=c*2"
     ],
     "language": "python",
     "metadata": {},
     "outputs": [
      {
       "output_type": "stream",
       "stream": "stdout",
       "text": [
        "\n",
        " y(0.25) = 0.00520833\n",
        "\n",
        "\n",
        " y(0.50) = 0.0416655\n",
        "\n",
        "\n",
        " y(1.00) = 0.332756\n",
        "\n"
       ]
      }
     ],
     "prompt_number": 16
    },
    {
     "cell_type": "heading",
     "level": 2,
     "metadata": {},
     "source": [
      "Ex8.5:pg-308"
     ]
    },
    {
     "cell_type": "code",
     "collapsed": false,
     "input": [
      "#example 8.5\n",
      "#euler's method\n",
      "#page 308\n",
      "def f(y):\n",
      "    return -1*y\n",
      "y=[0,0,0,0,0]\n",
      "y[0]=1   #value at 0\n",
      "h=0.01\n",
      "c=0.01\n",
      "for i in range(0,4):\n",
      "    y[i+1]=y[i]+h*f(y[i])\n",
      "    print \"\\ny(%g)=%g\\n\" %(c,y[i+1])\n",
      "    c=c+0.01\n"
     ],
     "language": "python",
     "metadata": {},
     "outputs": [
      {
       "output_type": "stream",
       "stream": "stdout",
       "text": [
        "\n",
        "y(0.01)=0.99\n",
        "\n",
        "\n",
        "y(0.02)=0.9801\n",
        "\n",
        "\n",
        "y(0.03)=0.970299\n",
        "\n",
        "\n",
        "y(0.04)=0.960596\n",
        "\n"
       ]
      }
     ],
     "prompt_number": 6
    },
    {
     "cell_type": "heading",
     "level": 2,
     "metadata": {},
     "source": [
      "Ex8.6:pg-308"
     ]
    },
    {
     "cell_type": "code",
     "collapsed": false,
     "input": [
      "#example 8.6\n",
      "#error estimates in euler's \n",
      "#page 308\n",
      "from __future__ import division\n",
      "def f(y):\n",
      "    return -1*y\n",
      "y=[0,0,0,0,0]\n",
      "L=[0,0,0,0,0]\n",
      "e=[0,0,0,0,0]\n",
      "y[0]=1    #value at 0\n",
      "h=0.01\n",
      "c=0.01;\n",
      "for i in range(0,4):\n",
      "    y[i+1]=y[i]+h*f(y[i])\n",
      "    print \"\\ny(%g)=%g\\n\" %(c,y[i+1])\n",
      "    c=c+0.01\n",
      "for i in range(0,4):\n",
      "    L[i]=abs(-(1/2)*(h**2)*y[i+1])\n",
      "    print \"L(%d) =%f\\n\\n\" %(i,L[i])\n",
      "e[0]=0\n",
      "for i in range(0,4):\n",
      "    e[i+1]=abs(y[1]*e[i]+L[0])\n",
      "    print \"e(%d)=%f\\n\\n\" %(i,e[i])\n",
      "Actual_value=math.exp(-0.04)\n",
      "Estimated_value=y[4]\n",
      "err=abs(Actual_value-Estimated_value)\n",
      "if err<e[4]:\n",
      "    print \"VERIFIED\"\n",
      "\n",
      "\n"
     ],
     "language": "python",
     "metadata": {},
     "outputs": [
      {
       "output_type": "stream",
       "stream": "stdout",
       "text": [
        "\n",
        "y(0.01)=0.99\n",
        "\n",
        "\n",
        "y(0.02)=0.9801\n",
        "\n",
        "\n",
        "y(0.03)=0.970299\n",
        "\n",
        "\n",
        "y(0.04)=0.960596\n",
        "\n",
        "L(0) =0.000050\n",
        "\n",
        "\n",
        "L(1) =0.000049\n",
        "\n",
        "\n",
        "L(2) =0.000049\n",
        "\n",
        "\n",
        "L(3) =0.000048\n",
        "\n",
        "\n",
        "e(0)=0.000000\n",
        "\n",
        "\n",
        "e(1)=0.000050\n",
        "\n",
        "\n",
        "e(2)=0.000099\n",
        "\n",
        "\n",
        "e(3)=0.000147\n",
        "\n",
        "\n",
        "VERIFIED\n"
       ]
      }
     ],
     "prompt_number": 10
    },
    {
     "cell_type": "heading",
     "level": 2,
     "metadata": {},
     "source": [
      "Ex8.7:pg-310"
     ]
    },
    {
     "cell_type": "code",
     "collapsed": false,
     "input": [
      "#example 8.7\n",
      "#modified euler's method\n",
      "#page 310\n",
      "h=0.05\n",
      "f=1\n",
      "def f1(x,y):\n",
      "    return x**2+y\n",
      "x=[0,0.05,0.1]\n",
      "y1=[0,0,0,0]\n",
      "y2=[0,0,0,0]\n",
      "y1[0]=f+h*f1(x[0],f);\n",
      "y1[1]=f+h*(f1(x[0],f)+f1(x[1],y1[0]))/2\n",
      "y1[2]=f+h*(f1(x[0],f)+f1(x[2],y1[1]))/2\n",
      "y2[0]=y1[1]+h*f1(x[1],y1[1])\n",
      "y2[1]=y1[1]+h*(f1(x[1],y1[1])+f1(x[2],y2[0]))/2\n",
      "y2[2]=y1[1]+h*(f1(x[1],y1[1])+f1(x[2],y2[1]))/2\n",
      "print \"y1(0)\\t         y1(1)\\t      y1(2)\\t       y2(0)\\t        y2(1)\\t        y3(2)\\n\\n\"\n",
      "print \" %f\\t    %f\\t    %f\\t    %f\\t     %f\\t    %f\\n\" %(y1[0],y1[1],y1[2],y2[0],y2[1],y2[2])\n",
      "print \"\\n\\n the value of y at %0.2f is : %0.4f\" %(x[2],y2[2])\n"
     ],
     "language": "python",
     "metadata": {},
     "outputs": [
      {
       "output_type": "stream",
       "stream": "stdout",
       "text": [
        "y1(0)\t         y1(1)\t      y1(2)\t       y2(0)\t        y2(1)\t        y3(2)\n",
        "\n",
        "\n",
        " 1.050000\t    1.051313\t    1.051533\t    1.104003\t     1.105508\t    1.105546\n",
        "\n",
        "\n",
        "\n",
        " the value of y at 0.10 is : 1.1055\n"
       ]
      }
     ],
     "prompt_number": 25
    },
    {
     "cell_type": "heading",
     "level": 2,
     "metadata": {},
     "source": [
      "Ex8.8:pg-313"
     ]
    },
    {
     "cell_type": "code",
     "collapsed": false,
     "input": [
      "#example 8.8\n",
      "#runge-kutta formula\n",
      "#page 313\n",
      "from __future__ import division\n",
      "def f(x,y):\n",
      "    return y-x\n",
      "y=2\n",
      "x=0\n",
      "h=0.1\n",
      "K1=h*f(x,y)\n",
      "K2=h*f(x+h,y+K1)\n",
      "y1=y+( K1+K2)/2\n",
      "print \"\\n y(0.1) by second order runge kutta method:%0.4f\" %(y1)\n",
      "y=y1\n",
      "x=0.1\n",
      "h=0.1\n",
      "K1=h*f(x,y)\n",
      "K2=h*f(x+h,y+K1)\n",
      "y1=y+( K1+K2)/2\n",
      "print \"\\n y(0.2) by second order runge kutta method:%0.4f\" %(y1)\n",
      "y=2\n",
      "x=0\n",
      "h=0.1\n",
      "K1=h*f(x,y)\n",
      "K2=h*f(x+h/2,y+K1/2)\n",
      "K3=h*f(x+h/2,y+K2/2)\n",
      "K4=h*f(x+h,y+K3)\n",
      "y1=y+(K1+2*K2+2*K3+K4)/6\n",
      "print \"\\n y(0.1) by fourth order runge kutta method:%0.4f\" %(y1)\n",
      "y=y1\n",
      "x=0.1\n",
      "h=0.1\n",
      "K1=h*f(x,y)\n",
      "K2=h*f(x+h/2,y+K1/2)\n",
      "K3=h*f(x+h/2,y+K2/2)\n",
      "K4=h*f(x+h,y+K3)\n",
      "y1=y+(K1+2*K2+2*K3+K4)/6\n",
      "print \"\\n y(0.1) by fourth order runge kutta method:%0.4f \" %(y1)"
     ],
     "language": "python",
     "metadata": {},
     "outputs": [
      {
       "output_type": "stream",
       "stream": "stdout",
       "text": [
        "\n",
        " y(0.1) by second order runge kutta method:2.2050\n",
        "\n",
        " y(0.2) by second order runge kutta method:2.4210\n",
        "\n",
        " y(0.1) by fourth order runge kutta method:2.2052\n",
        "\n",
        " y(0.1) by fourth order runge kutta method:2.4214 \n"
       ]
      }
     ],
     "prompt_number": 29
    },
    {
     "cell_type": "heading",
     "level": 2,
     "metadata": {},
     "source": [
      "Ex8.9:pg-315"
     ]
    },
    {
     "cell_type": "code",
     "collapsed": false,
     "input": [
      "#example 8.9\n",
      "#runge kutta method\n",
      "#page  315\n",
      "from __future__ import division\n",
      "def f(x,y):\n",
      "    return 1+y**2\n",
      "y=0\n",
      "x=0\n",
      "h=0.2\n",
      "K1=h*f(x,y)\n",
      "K2=h*f(x+h/2,y+K1/2)\n",
      "K3=h*f(x+h/2,y+K2/2)\n",
      "K4=h*f(x+h,y+K3)\n",
      "y1=y+(K1+2*K2+2*K3+K4)/6\n",
      "print \"\\n y(0.2) by fourth order runge kutta method:%0.4f\" %(y1)\n",
      "y=y1\n",
      "x=0.2\n",
      "h=0.2\n",
      "K1=h*f(x,y)\n",
      "K2=h*f(x+h/2,y+K1/2)\n",
      "K3=h*f(x+h/2,y+K2/2)\n",
      "K4=h*f(x+h,y+K3)\n",
      "y1=y+(K1+2*K2+2*K3+K4)/6\n",
      "print \"\\n y(0.4) by fourth order runge kutta method:%0.4f\" %(y1)\n",
      "y=2\n",
      "x=0\n",
      "h=0.1\n",
      "y=y1\n",
      "x=0.4\n",
      "h=0.2\n",
      "K1=h*f(x,y)\n",
      "K2=h*f(x+h/2,y+K1/2)\n",
      "K3=h*f(x+h/2,y+K2/2)\n",
      "K4=h*f(x+h,y+K3)\n",
      "y1=y+(K1+2*K2+2*K3+K4)/6\n",
      "print \"\\n y(0.6) by fourth order runge kutta method:%0.4f\" %(y1)\n"
     ],
     "language": "python",
     "metadata": {},
     "outputs": [
      {
       "output_type": "stream",
       "stream": "stdout",
       "text": [
        "\n",
        " y(0.2) by fourth order runge kutta method:0.2027\n",
        "\n",
        " y(0.4) by fourth order runge kutta method:0.4228\n",
        "\n",
        " y(0.6) by fourth order runge kutta method:0.6841\n"
       ]
      }
     ],
     "prompt_number": 30
    },
    {
     "cell_type": "heading",
     "level": 2,
     "metadata": {},
     "source": [
      "Ex8.10:pg-315"
     ]
    },
    {
     "cell_type": "code",
     "collapsed": false,
     "input": [
      "#example 8.10\n",
      "#initial value problems\n",
      "#page 315\n",
      "from __future__ import division\n",
      "def f1(x,y):\n",
      "    return 3*x+y/2\n",
      "y=[1,0,0]\n",
      "h=0.1\n",
      "c=0\n",
      "for i in range(0,2):\n",
      "    y[i+1]=y[i]+h*f1(c,y[i])\n",
      "    print \"\\ny(%g)=%g\\n\" %(c,y[i])\n",
      "    c=c+0.1\n"
     ],
     "language": "python",
     "metadata": {},
     "outputs": [
      {
       "output_type": "stream",
       "stream": "stdout",
       "text": [
        "\n",
        "y(0)=1\n",
        "\n",
        "\n",
        "y(0.1)=1.05\n",
        "\n"
       ]
      }
     ],
     "prompt_number": 35
    },
    {
     "cell_type": "heading",
     "level": 2,
     "metadata": {},
     "source": [
      "Ex8.11:pg-316"
     ]
    },
    {
     "cell_type": "code",
     "collapsed": false,
     "input": [
      "#example 8.11\n",
      "#adam's moulton method\n",
      "#page  316\n",
      "def f(x,y):\n",
      "    return 1+y**2\n",
      "y=0\n",
      "x=0\n",
      "h=0.2\n",
      "f1=[0,0,0]\n",
      "K1=h*f(x,y)\n",
      "K2=h*f(x+h/2,y+K1/2)\n",
      "K3=h*f(x+h/2,y+K2/2)\n",
      "K4=h*f(x+h,y+K3)\n",
      "y1=y+(K1+2*K2+2*K3+K4)/6\n",
      "f1[0]=y1\n",
      "print \"\\n y(0.2) by fourth order runge kutta method:%0.4f\" %(y1)\n",
      "y=y1\n",
      "x=0.2\n",
      "h=0.2\n",
      "K1=h*f(x,y)\n",
      "K2=h*f(x+h/2,y+K1/2)\n",
      "K3=h*f(x+h/2,y+K2/2)\n",
      "K4=h*f(x+h,y+K3)\n",
      "y1=y+(K1+2*K2+2*K3+K4)/6\n",
      "f1[1]=y1\n",
      "print \"\\n y(0.4) by fourth order runge kutta method:%0.4f\" %(y1)\n",
      "y=2\n",
      "x=0\n",
      "h=0.1\n",
      "y=y1\n",
      "x=0.4\n",
      "h=0.2\n",
      "K1=h*f(x,y)\n",
      "K2=h*f(x+h/2,y+K1/2)\n",
      "K3=h*f(x+h/2,y+K2/2)\n",
      "K4=h*f(x+h,y+K3)\n",
      "y1=y+(K1+2*K2+2*K3+K4)/6\n",
      "f1[2]=y1\n",
      "print \"\\n y(0.6) by fourth order runge kutta method:%0.4f\" %(y1)\n",
      "y_p=y1+h*(55*(1+f1[2]**2)-59*(1+f1[1]**2)+37*(1+f1[0]**2)-9)/24\n",
      "y_c=y1+h*(9*(1+(y_p-1)**2)+19*(1+f1[2]**2)-5*(1+f1[1]**2)+(1+f1[0]**2))/24\n",
      "print \"\\nthe predicted value is:%0.4f:\\n\" %(y_p)\n",
      "print \" the computed value is:%0.4f:\" %(y_c)"
     ],
     "language": "python",
     "metadata": {},
     "outputs": [
      {
       "output_type": "stream",
       "stream": "stdout",
       "text": [
        "\n",
        " y(0.2) by fourth order runge kutta method:0.2027\n",
        "\n",
        " y(0.4) by fourth order runge kutta method:0.4228\n",
        "\n",
        " y(0.6) by fourth order runge kutta method:0.6841\n",
        "\n",
        "the predicted value is:1.0234:\n",
        "\n",
        " the computed value is:0.9512:\n"
       ]
      }
     ],
     "prompt_number": 1
    },
    {
     "cell_type": "heading",
     "level": 2,
     "metadata": {},
     "source": [
      "Ex8.12:pg-320"
     ]
    },
    {
     "cell_type": "code",
     "collapsed": false,
     "input": [
      "#example 8.12\n",
      "#milne's method\n",
      "#page 320\n",
      "def f(x,y):\n",
      "    return 1+y**2\n",
      "y=0\n",
      "f1=[0,0,0]\n",
      "Y1=[0,0,0,0]\n",
      "x=0\n",
      "h=0.2\n",
      "f1[0]=0\n",
      "print \"x                y              y1=1+y^2\\n\\n\"\n",
      "Y1[0]=1+y**2\n",
      "print \"%0.4f         %0.4f             %0.4f\\n\" %(x,y,(1+y**2))\n",
      "K1=h*f(x,y)\n",
      "K2=h*f(x+h/2,y+K1/2)\n",
      "K3=h*f(x+h/2,y+K2/2)\n",
      "K4=h*f(x+h,y+K3)\n",
      "y1=y+(K1+2*K2+2*K3+K4)/6\n",
      "f1[0]=y1\n",
      "Y1[1]=1+y1**2\n",
      "print \"%0.4f         %0.4f             %0.4f\\n\" %(x+h,y1,(1+y1**2))\n",
      "y=y1\n",
      "x=0.2\n",
      "h=0.2\n",
      "K1=h*f(x,y)\n",
      "K2=h*f(x+h/2,y+K1/2)\n",
      "K3=h*f(x+h/2,y+K2/2)\n",
      "K4=h*f(x+h,y+K3)\n",
      "y1=y+(K1+2*K2+2*K3+K4)/6\n",
      "f1[1]=y1\n",
      "Y1[2]=1+y1**2\n",
      "print \"%0.4f         %0.4f             %0.4f\\n\" %(x+h,y1,(1+y1**2))\n",
      "y=y1\n",
      "x=0.4\n",
      "h=0.2\n",
      "K1=h*f(x,y)\n",
      "K2=h*f(x+h/2,y+K1/2)\n",
      "K3=h*f(x+h/2,y+K2/2)\n",
      "K4=h*f(x+h,y+K3)\n",
      "y1=y+(K1+2*K2+2*K3+K4)/6\n",
      "f1[2]=y1\n",
      "Y1[3]=1+y1**2;\n",
      "print \"%0.4f         %0.4f             %0.4f\\n\" %(x+h,y1,(1+y1**2))\n",
      "Y_4=4*h*(2*Y1[1]-Y1[2]+2*Y1[3])/3\n",
      "print \"y(0.8)=%f\\n\" %(Y_4)\n",
      "Y=1+Y_4**2\n",
      "Y_4=f1[1]+h*(Y1[2]+4*Y1[3]+Y)/3    #more correct value\n",
      "print \"y(0.8)=%f\\n\" %(Y_4)\n"
     ],
     "language": "python",
     "metadata": {},
     "outputs": [
      {
       "output_type": "stream",
       "stream": "stdout",
       "text": [
        "x                y              y1=1+y^2\n",
        "\n",
        "\n",
        "0.0000         0.0000             1.0000\n",
        "\n",
        "0.2000         0.2027             1.0411\n",
        "\n",
        "0.4000         0.4228             1.1788\n",
        "\n",
        "0.6000         0.6841             1.4680\n",
        "\n",
        "y(0.8)=1.023869\n",
        "\n",
        "y(0.8)=1.029403\n",
        "\n"
       ]
      }
     ],
     "prompt_number": 4
    },
    {
     "cell_type": "heading",
     "level": 2,
     "metadata": {},
     "source": [
      "Ex8.13:pg-320"
     ]
    },
    {
     "cell_type": "code",
     "collapsed": false,
     "input": [
      "#example 8.13\n",
      "#milne's method\n",
      "#page 320\n",
      "def f1(x,y):\n",
      "    return x**2+y**2-2\n",
      "x=[-0.1, 0, 0.1, 0.2]\n",
      "y=[1.0900, 1.0, 0.8900, 0.7605]\n",
      "Y1=[0,0,0,0]\n",
      "h=0.1\n",
      "for i in range(0,4):\n",
      "    Y1[i]=f1(x[i],y[i])\n",
      "print \" x                y                y1=x^2+y^2-2    \\n\\n\"\n",
      "for i in range(0,4):\n",
      "    print \" %0.2f           %f           %f           \\n\" %(x[i],y[i],Y1[i])\n",
      "Y_3=y[0]+(4*h/3)*(2*Y1[1]-Y1[2]+2*Y1[3])\n",
      "print \"y(0.3)=%f\\n\" %(Y_3)\n",
      "Y1_3=f1(0.3,Y_3)\n",
      "Y_3=y[2]+h*(Y1[2]+4*Y1[3]+Y1_3)/3   #corrected value\n",
      "print \"corrected y(0.3)=%f\" %(Y_3)"
     ],
     "language": "python",
     "metadata": {},
     "outputs": [
      {
       "output_type": "stream",
       "stream": "stdout",
       "text": [
        " x                y                y1=x^2+y^2-2    \n",
        "\n",
        "\n",
        " -0.10           1.090000           -0.801900           \n",
        "\n",
        " 0.00           1.000000           -1.000000           \n",
        "\n",
        " 0.10           0.890000           -1.197900           \n",
        "\n",
        " 0.20           0.760500           -1.381640           \n",
        "\n",
        "y(0.3)=0.614616\n",
        "\n",
        "corrected y(0.3)=0.614776\n"
       ]
      }
     ],
     "prompt_number": 8
    },
    {
     "cell_type": "heading",
     "level": 2,
     "metadata": {},
     "source": [
      "Ex8.14:pg322"
     ]
    },
    {
     "cell_type": "code",
     "collapsed": false,
     "input": [
      "#example 8.14\n",
      "#initial-value problem\n",
      "#page 322\n",
      "from __future__ import division\n",
      "import math\n",
      "def f(x):\n",
      "    return 13*math.exp(x/2)-6*x-12\n",
      "s1=1.691358\n",
      "s3=3.430879\n",
      "print \"the erorr in the computed values are %0.7g  %0.7g\" %(abs(f(0.5)-s1),abs(f(1)-s3))"
     ],
     "language": "python",
     "metadata": {},
     "outputs": [
      {
       "output_type": "stream",
       "stream": "stdout",
       "text": [
        "the erorr in the computed values are 0.0009724169  0.002497519\n"
       ]
      }
     ],
     "prompt_number": 10
    },
    {
     "cell_type": "heading",
     "level": 2,
     "metadata": {},
     "source": [
      "Ex8.15:pg-328"
     ]
    },
    {
     "cell_type": "code",
     "collapsed": false,
     "input": [
      "#boundary value problem using finite difference method\n",
      "#example 8.15\n",
      "#page 328\n",
      "import math\n",
      "from numpy import matrix\n",
      "def f(x):\n",
      "    return math.cos(x)+((1-math.cos(1))/math.sin(1))*math.sin(x)-1\n",
      "h1=1/2\n",
      "Y=f(0.5)\n",
      "y0=0\n",
      "y2=0\n",
      "y1=4*(1/4+y0+y2)/7\n",
      "print \"computed value with h=%f of y(0.5) is %f\\n\" %(h1,y1)\n",
      "print \"error in the result with actual value %f\\n\" %(abs(Y-y1))\n",
      "h2=1/4\n",
      "y0=0\n",
      "y4=0\n",
      "#solving the approximated diffrential equation\n",
      "A=matrix([[-31/16, 1, 0],[1, -31/16, 1],[0, 1, -31/16]])\n",
      "X=matrix([[-1/16],[-1/16],[-1/16]])\n",
      "C=A.I*X\n",
      "print \"computed value with h=%f of y(0.5) is %f\\n\" %(h2,C[1][0])\n",
      "print \"error in the result with actual value %f\\n\" %(abs(Y-C[1][0]))"
     ],
     "language": "python",
     "metadata": {},
     "outputs": [
      {
       "output_type": "stream",
       "stream": "stdout",
       "text": [
        "computed value with h=0.500000 of y(0.5) is 0.142857\n",
        "\n",
        "error in the result with actual value 0.003363\n",
        "\n",
        "computed value with h=0.250000 of y(0.5) is 0.140312\n",
        "\n",
        "error in the result with actual value 0.000818\n",
        "\n"
       ]
      }
     ],
     "prompt_number": 13
    },
    {
     "cell_type": "heading",
     "level": 2,
     "metadata": {},
     "source": [
      "Ex8.16:pg-329"
     ]
    },
    {
     "cell_type": "code",
     "collapsed": false,
     "input": [
      "#boundary value problem using finite difference method\n",
      "#example 8.16\n",
      "#page 329\\\n",
      "from numpy import matrix\n",
      "import math\n",
      "def f(x):\n",
      "    return math.sinh(x)\n",
      "y0=0    #y(0)=0\n",
      "y4=3.62686         #y(2)=3.62686\n",
      "h1=0.5\n",
      "Y=f(0.5)\n",
      "#arranging and calculating the values\n",
      "A=matrix([[-9, 4, 0],[4, -9, 4],[0, 4, -9]])\n",
      "C=matrix([[0],[0],[-14.50744]])\n",
      "X=A.I*C\n",
      "print \"computed value with h=%f of y(0.5) is %f\\n\" %(h1,X[0][0])\n",
      "print \"error in the result with actual value %f\\n\" %(abs(Y-X[0][0]))\n",
      "h2=1.0\n",
      "y0=0    #y(0)=0\n",
      "y2=3.62686   #y(2)=3.62686\n",
      "y1=(y0+y2)/3\n",
      "Y=(4*X[1][0]-y1)/3\n",
      "print \"with better approximation error is reduced to %f\" %(abs(Y-f(1.0)))"
     ],
     "language": "python",
     "metadata": {},
     "outputs": [
      {
       "output_type": "stream",
       "stream": "stdout",
       "text": [
        "computed value with h=0.500000 of y(0.5) is 0.526347\n",
        "\n",
        "error in the result with actual value 0.005252\n",
        "\n",
        "with better approximation error is reduced to 0.000855\n"
       ]
      }
     ],
     "prompt_number": 14
    },
    {
     "cell_type": "heading",
     "level": 2,
     "metadata": {},
     "source": [
      "Ex8.17:pg-330"
     ]
    },
    {
     "cell_type": "code",
     "collapsed": false,
     "input": [
      "#cubic spline method\n",
      "#example 8.17\n",
      "#page 330\n",
      "def f(x):\n",
      "    return math.cos(x)+((1-math.cos(1))/math.sin(1))*math.sin(x)-1\n",
      "y=[f(0), f(0.5), f(1)]\n",
      "h=1/2\n",
      "Y=f(0.5)\n",
      "y0=0\n",
      "y2=0\n",
      "M0=-1\n",
      "M1=-22/25\n",
      "M2=-1\n",
      "s1_0=47/88\n",
      "s1_1=-47/88\n",
      "s1_05=0\n",
      "print \"the cubic spline value is %f\" %(Y)\n"
     ],
     "language": "python",
     "metadata": {},
     "outputs": [
      {
       "output_type": "stream",
       "stream": "stdout",
       "text": [
        "the cubic spline value is 0.139494\n"
       ]
      }
     ],
     "prompt_number": 15
    },
    {
     "cell_type": "heading",
     "level": 2,
     "metadata": {},
     "source": [
      "Ex8.18:pg-331"
     ]
    },
    {
     "cell_type": "code",
     "collapsed": false,
     "input": [
      "#cubic spline method\n",
      "#example 8.18\n",
      "#page 331\n",
      "from numpy import matrix\n",
      "from __future__ import division\n",
      "#after arranging and forming equation \n",
      "A=matrix([[10, -1, 0, 24],[0, 16, -1, -32],[1, 20, 0, 16],[0, 1, 26, -24]])\n",
      "C=matrix([[36],[-12],[24],[-9]])\n",
      "X=A.I*C;\n",
      "print \" Y1=%f\\n\\n\" %(X[3][0])\n",
      "print \" the error in the solution is :%f\" %(abs((2/3)-X[3][0]))"
     ],
     "language": "python",
     "metadata": {},
     "outputs": [
      {
       "output_type": "stream",
       "stream": "stdout",
       "text": [
        " Y1=0.653890\n",
        "\n",
        "\n",
        " the error in the solution is :0.012777\n"
       ]
      }
     ],
     "prompt_number": 17
    },
    {
     "cell_type": "heading",
     "level": 2,
     "metadata": {},
     "source": [
      "Ex8.19:pg-331"
     ]
    },
    {
     "cell_type": "code",
     "collapsed": false,
     "input": [
      "#boundary value problem by cubisc spline nethod\n",
      "#example 8.18\n",
      "#page 331\n",
      "from numpy import matrix\n",
      "h=1/2\n",
      "#arranging in two subintervals we get\n",
      "A=matrix([[10, -1, 0,24],[0, 16, -1, -32],[1, 20, 0, 16],[0, 1, 26, -24]])\n",
      "C=matrix([[36],[-12],[24],[-9]])\n",
      "X=A.I*C\n",
      "print \"the computed value of y(1.5) is %f \"%(X[3][0])\n"
     ],
     "language": "python",
     "metadata": {},
     "outputs": [
      {
       "output_type": "stream",
       "stream": "stdout",
       "text": [
        "the computed value of y(1.5) is 0.653890 \n"
       ]
      }
     ],
     "prompt_number": 18
    }
   ],
   "metadata": {}
  }
 ]
}