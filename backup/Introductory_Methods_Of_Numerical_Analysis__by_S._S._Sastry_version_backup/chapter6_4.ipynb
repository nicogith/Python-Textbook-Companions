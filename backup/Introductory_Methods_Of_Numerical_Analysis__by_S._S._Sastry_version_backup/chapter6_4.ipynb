{
 "metadata": {
  "name": "",
  "signature": "sha256:1a9f2b829e44e8c5b8b9fd16a973f697f286159a22f472b6b856723b189b82cb"
 },
 "nbformat": 3,
 "nbformat_minor": 0,
 "worksheets": [
  {
   "cells": [
    {
     "cell_type": "heading",
     "level": 1,
     "metadata": {},
     "source": [
      "Chapter06:Numerical Differentiation and Integration"
     ]
    },
    {
     "cell_type": "heading",
     "level": 2,
     "metadata": {},
     "source": [
      "Ex6.1:pg-201"
     ]
    },
    {
     "cell_type": "code",
     "collapsed": false,
     "input": [
      "#example 6.1\n",
      "#numerical diffrentiation by newton's difference formula \n",
      "#page 210\n",
      "x=[1.0, 1.2, 1.4, 1.6, 1.8, 2.0, 2.2]\n",
      "y=[2.7183, 3.3201, 4.0552, 4.9530, 6.0496, 7.3891, 9.0250]\n",
      "c=0\n",
      "d1=[0,0,0,0,0,0]\n",
      "d2=[0,0,0,0,0]\n",
      "d3=[0,0,0,0]\n",
      "d4=[0,0,0]\n",
      "d5=[0,0]\n",
      "d6=[0]\n",
      "for i in range(0,6):\n",
      "    d1[c]=y[i+1]-y[i]\n",
      "    c=c+1;\n",
      "c=0\n",
      "for i in range(0,5):\n",
      "    d2[c]=d1[i+1]-d1[i]\n",
      "    c=c+1;\n",
      "c=0\n",
      "for i in range(0,4):\n",
      "    d3[c]=d2[i+1]-d2[i]\n",
      "    c=c+1;\n",
      "c=0\n",
      "for i in range(0,3):\n",
      "    d4[c]=d3[i+1]-d3[i]\n",
      "    c=c+1;\n",
      "c=0\n",
      "for i in range(0,2):\n",
      "    d5[c]=d4[i+1]-d4[i]\n",
      "    c=c+1;\n",
      "c=0\n",
      "for i in range(0,1):\n",
      "    d6[c]=d5[i+1]-d5[i]\n",
      "    c=c+1;\n",
      "x0=1.2  #first and second derivative at 1.2\n",
      "h=0.2\n",
      "f1=((d1[1]-d2[1]/2+d3[1]/3-d4[1]/4+d5[1]/5)/h)\n",
      "print \"the first derivative of fuction at 1.2 is:%f\\n\" %(f1)\n",
      "f2=(d2[1]-d3[1]+(11*d4[1])/12-(5*d5[1])/6)/h**2\n",
      "print \"the second derivative of fuction at 1.2 is:%f\\n\" %(f2)\n",
      "\n",
      "\n",
      "\n"
     ],
     "language": "python",
     "metadata": {},
     "outputs": []
    },
    {
     "cell_type": "heading",
     "level": 2,
     "metadata": {},
     "source": [
      "Ex6.2:pg-211"
     ]
    },
    {
     "cell_type": "code",
     "collapsed": false,
     "input": [
      "#example 6.2\n",
      "#numerical diffrentiation by newton's difference formula \n",
      "#page 211\n",
      "x=[1.0, 1.2, 1.4, 1.6, 1.8, 2.0, 2.2]\n",
      "y=[2.7183, 3.3201, 4.0552, 4.9530, 6.0496, 7.3891, 9.0250]\n",
      "c=0\n",
      "d1=[0,0,0,0,0,0]\n",
      "d2=[0,0,0,0,0]\n",
      "d3=[0,0,0,0]\n",
      "d4=[0,0,0]\n",
      "d5=[0,0]\n",
      "d6=[0]\n",
      "for i in range(0,6):\n",
      "    d1[c]=y[i+1]-y[i]\n",
      "    c=c+1;\n",
      "c=0\n",
      "for i in range(0,5):\n",
      "    d2[c]=d1[i+1]-d1[i]\n",
      "    c=c+1;\n",
      "c=0\n",
      "for i in range(0,4):\n",
      "    d3[c]=d2[i+1]-d2[i]\n",
      "    c=c+1;\n",
      "c=0\n",
      "for i in range(0,3):\n",
      "    d4[c]=d3[i+1]-d3[i]\n",
      "    c=c+1;\n",
      "c=0\n",
      "for i in range(0,2):\n",
      "    d5[c]=d4[i+1]-d4[i]\n",
      "    c=c+1;\n",
      "c=0\n",
      "for i in range(0,1):\n",
      "    d6[c]=d5[i+1]-d5[i]\n",
      "    c=c+1;\n",
      "x0=2.2  #first and second derivative at 2.2\n",
      "h=0.2\n",
      "f1=((d1[5]+d2[4]/2+d3[3]/3+d4[2]/4+d5[1]/5)/h)\n",
      "print \"the first derivative of fuction at 1.2 is:%f\\n\" %(f1)\n",
      "f2=(d2[4]+d3[3]+(11*d4[2])/12+(5*d5[1])/6)/h**2\n",
      "print \"the second derivative of fuction at 1.2 is:%f\\n\" %(f2)\n",
      "x1=2.0  # first derivative also at 2.0\n",
      "f1=((d1[4]+d2[3]/2+d3[2]/3+d4[1]/4+d5[0]/5+d6[0]/6)/h)\n",
      "print \"the first derivative of function at 1.2 is:%f\\n\" %(f1)\n",
      "\n",
      "\n",
      "\n",
      "\n",
      "\n",
      "\n"
     ],
     "language": "python",
     "metadata": {},
     "outputs": [
      {
       "output_type": "stream",
       "stream": "stdout",
       "text": [
        "the first derivative of fuction at 1.2 is:9.022817\n",
        "\n",
        "the second derivative of fuction at 1.2 is:8.992083\n",
        "\n",
        "the first derivative of function at 1.2 is:7.389633\n",
        "\n"
       ]
      }
     ],
     "prompt_number": 6
    },
    {
     "cell_type": "heading",
     "level": 2,
     "metadata": {},
     "source": [
      "Ex6.3:pg-211"
     ]
    },
    {
     "cell_type": "code",
     "collapsed": false,
     "input": [
      "#example 6.3\n",
      "#numerical diffrentiation by newton's difference formula \n",
      "#page 211\n",
      "x=[1.0, 1.2, 1.4, 1.6, 1.8, 2.0, 2.2]\n",
      "y=[2.7183, 3.3201, 4.0552, 4.9530, 6.0496, 7.3891, 9.0250]\n",
      "c=0\n",
      "d1=[0,0,0,0,0,0]\n",
      "d2=[0,0,0,0,0]\n",
      "d3=[0,0,0,0]\n",
      "d4=[0,0,0]\n",
      "d5=[0,0]\n",
      "d6=[0]\n",
      "for i in range(0,6):\n",
      "    d1[c]=y[i+1]-y[i]\n",
      "    c=c+1;\n",
      "c=0\n",
      "for i in range(0,5):\n",
      "    d2[c]=d1[i+1]-d1[i]\n",
      "    c=c+1;\n",
      "c=0\n",
      "for i in range(0,4):\n",
      "    d3[c]=d2[i+1]-d2[i]\n",
      "    c=c+1;\n",
      "c=0\n",
      "for i in range(0,3):\n",
      "    d4[c]=d3[i+1]-d3[i]\n",
      "    c=c+1;\n",
      "c=0\n",
      "for i in range(0,2):\n",
      "    d5[c]=d4[i+1]-d4[i]\n",
      "    c=c+1;\n",
      "c=0\n",
      "for i in range(0,1):\n",
      "    d6[c]=d5[i+1]-d5[i]\n",
      "    c=c+1;\n",
      "x0=1.6  #first and second derivative at 1.6\n",
      "h=0.2\n",
      "f1=(((d1[2]+d1[3])/2-(d3[1]+d3[2])/4+(d5[0]+d5[1])/60))/h\n",
      "print \"the first derivative of function at 1.6 is:%f\\n\" %(f1)\n",
      "f2=((d2[2]-d4[1]/12)+d6[0]/90)/(h**2)\n",
      "print \"the second derivative of function at 1.6 is:%f\\n\" %(f2)\n",
      "\n",
      "\n",
      "\n"
     ],
     "language": "python",
     "metadata": {},
     "outputs": [
      {
       "output_type": "stream",
       "stream": "stdout",
       "text": [
        "the first derivative of function at 1.6 is:4.885975\n",
        "\n",
        "the second derivative of function at 1.6 is:4.953361\n",
        "\n"
       ]
      }
     ],
     "prompt_number": 8
    },
    {
     "cell_type": "heading",
     "level": 2,
     "metadata": {},
     "source": [
      "Ex6.4:pg-213"
     ]
    },
    {
     "cell_type": "code",
     "collapsed": false,
     "input": [
      "#example 6.4\n",
      "#estimation of errors \n",
      "#page 213\n",
      "x=[1.0, 1.2, 1.4, 1.6, 1.8, 2.0, 2.2]\n",
      "y=[2.7183, 3.3201, 4.0552, 4.9530, 6.0496, 7.3891, 9.0250]\n",
      "c=0\n",
      "d1=[0,0,0,0,0,0]\n",
      "d2=[0,0,0,0,0]\n",
      "d3=[0,0,0,0]\n",
      "d4=[0,0,0]\n",
      "d5=[0,0]\n",
      "d6=[0]\n",
      "for i in range(0,6):\n",
      "    d1[c]=y[i+1]-y[i]\n",
      "    c=c+1;\n",
      "c=0\n",
      "for i in range(0,5):\n",
      "    d2[c]=d1[i+1]-d1[i]\n",
      "    c=c+1;\n",
      "c=0\n",
      "for i in range(0,4):\n",
      "    d3[c]=d2[i+1]-d2[i]\n",
      "    c=c+1;\n",
      "c=0\n",
      "for i in range(0,3):\n",
      "    d4[c]=d3[i+1]-d3[i]\n",
      "    c=c+1;\n",
      "c=0\n",
      "for i in range(0,2):\n",
      "    d5[c]=d4[i+1]-d4[i]\n",
      "    c=c+1;\n",
      "c=0\n",
      "for i in range(0,1):\n",
      "    d6[c]=d5[i+1]-d5[i]\n",
      "    c=c+1\n",
      "x0=1.6      #first and second derivative at 1.6\n",
      "h=0.2\n",
      "f1=((d1[1]-d2[1]/2+d3[1]/3-d4[1]/4+d5[1]/5)/h)\n",
      "print \"the first derivative of fuction at 1.2 is:%f\\n\" %(f1)\n",
      "f2=(d2[1]-d3[1]+(11*d4[1])/12-(5*d5[1])/6)/h**2\n",
      "print \"the second derivative of fuction at 1.2 is:%f\\n\" %(f2)\n",
      "T_error1=((d3[1]+d3[2])/2)/(6*h)   #truncation error\n",
      "e=0.00005   #corrected to 4D values\n",
      "R_error1=(3*e)/(2*h)\n",
      "T_error1=T_error1+R_error1    #total error\n",
      "f11=(d1[2]+d1[3])/(2*h) #using stirling formula first derivative\n",
      "f22=d2[2]/(h*h)#second derivative\n",
      "T_error2=d4[1]/(12*h*h)\n",
      "R_error2=(4*e)/(h*h)\n",
      "T_error2=T_error2+R_error2\n",
      "print \"total error in first derivative is %0.4g:\\n\" %(T_error1)\n",
      "print \"total error in second derivative is %0.4g:\" %(T_error2)\n",
      "\n",
      "\n",
      "\n",
      "\n",
      "\n",
      "\n"
     ],
     "language": "python",
     "metadata": {},
     "outputs": [
      {
       "output_type": "stream",
       "stream": "stdout",
       "text": [
        "the first derivative of fuction at 1.2 is:3.320317\n",
        "\n",
        "the second derivative of fuction at 1.2 is:3.319167\n",
        "\n",
        "total error in first derivative is 0.03379:\n",
        "\n",
        "total error in second derivative is 0.02167:\n"
       ]
      }
     ],
     "prompt_number": 9
    },
    {
     "cell_type": "heading",
     "level": 2,
     "metadata": {},
     "source": [
      "Ex6.5:pg-214"
     ]
    },
    {
     "cell_type": "code",
     "collapsed": false,
     "input": [
      "#cubic spline method\n",
      "#example 6.5\n",
      "#page 214\n",
      "import math\n",
      "from __future__ import division\n",
      "x=[0, math.pi/2, math.pi]\n",
      "y=[0, 1, 0]\n",
      "M0=0\n",
      "M2=0\n",
      "h=math.pi/2\n",
      "M1=(6*(y[0]-2*y[1]+y[2])/(h**2)-M0-M2)/4\n",
      "def s1(x):\n",
      "    return (2/math.pi)*(-2*3*x*x/(math.pi**2)+3/2)\n",
      "S1=s1(math.pi/4)\n",
      "print \"S1(pi/4)=%f\" %(S1)\n",
      "def s2(x):\n",
      "    return (-24*x)/(math.pi**3)\n",
      "S2=s2(math.pi/4)\n",
      "print \"S2(pi/4)=%f\" %(S2)"
     ],
     "language": "python",
     "metadata": {},
     "outputs": [
      {
       "output_type": "stream",
       "stream": "stdout",
       "text": [
        "S1(pi/4)=0.716197\n",
        "S2(pi/4)=-0.607927\n"
       ]
      }
     ],
     "prompt_number": 15
    },
    {
     "cell_type": "heading",
     "level": 2,
     "metadata": {},
     "source": [
      "Ex6.6:pg-216"
     ]
    },
    {
     "cell_type": "code",
     "collapsed": false,
     "input": [
      "#derivative by cubic spline method\n",
      "#example 6.6\n",
      "#page 216\n",
      "x=[-2, -1, 2, 3]\n",
      "y=[-12, -8, 3, 5] \n",
      "def f(x):\n",
      "    return x**3/15-3*x**2/20+241*x/60-3.9\n",
      "def s2(x):\n",
      "    return (((2-x)**3)/6*(14/55)+((x+1)**3)/6*(-74/55))/3+(-8-21/55)*(2-x)/3+(3-(9/6)*(-74/55))*(x+1)/3\n",
      "h=0.0001\n",
      "x0=1.0\n",
      "y1=(s2(x0+h)-s2(x0))/h\n",
      "print \"the value y1(%0.2f) is : %f\" %(x0,y1)\n"
     ],
     "language": "python",
     "metadata": {},
     "outputs": [
      {
       "output_type": "stream",
       "stream": "stdout",
       "text": [
        "the value y1(1.00) is : 3.527232\n"
       ]
      }
     ],
     "prompt_number": 18
    },
    {
     "cell_type": "heading",
     "level": 2,
     "metadata": {},
     "source": [
      "Ex6.7:pg-218"
     ]
    },
    {
     "cell_type": "code",
     "collapsed": false,
     "input": [
      "#maximun and minimun of functions\n",
      "#example 6.7\n",
      "#page 218\n",
      "x=[1.2, 1.3, 1.4, 1.5, 1.6]\n",
      "y=[0.9320, 0.9636, 0.9855, 0.9975, 0.9996]\n",
      "d1=[0,0,0,0]\n",
      "d2=[0,0,0]\n",
      "for i in range(0,4):\n",
      "    d1[i]=y[i+1]-y[i]\n",
      "for i in range(0,3):\n",
      "    d2[i]=d1[i+1]-d1[i]\n",
      "p=(-d1[0]*2/d2[0]+1)/2;\n",
      "print \"p=%f\" %(p)\n",
      "h=0.1\n",
      "x0=1.2\n",
      "X=x0+p*h\n",
      "print \" the value of X correct to 2 decimal places is : %0.2f\" %(X)\n",
      "Y=y[4]-0.2*d1[3]+(-0.2)*(-0.2+1)*d2[2]/2\n",
      "print \"the value Y=%f\" %(Y)\n"
     ],
     "language": "python",
     "metadata": {},
     "outputs": [
      {
       "output_type": "stream",
       "stream": "stdout",
       "text": [
        "p=3.757732\n",
        " the value of X correct to 2 decimal places is : 1.58\n",
        "the value Y=0.999972\n"
       ]
      }
     ],
     "prompt_number": 26
    },
    {
     "cell_type": "heading",
     "level": 2,
     "metadata": {},
     "source": [
      "Ex6.8:pg-226"
     ]
    },
    {
     "cell_type": "code",
     "collapsed": false,
     "input": [
      "#example 6.8\n",
      "#trapezoidal method for integration\n",
      "#page 226\n",
      "from __future__ import division\n",
      "x=[7.47, 7.48, 7.49, 7.0, 7.51, 7.52]\n",
      "f_x=[1.93, 1.95, 1.98, 2.01, 2.03, 2.06]\n",
      "h=x[1]-x[0]\n",
      "l=6\n",
      "area=0\n",
      "for i in range(0,l):\n",
      "    if i==0:\n",
      "       area=area+f_x[i]\n",
      "    elif i==l-1:\n",
      "        area=area+f_x[i]\n",
      "    else:\n",
      "       area=area+2*f_x[i]\n",
      "area=area*(h/2)\n",
      "print \"area bounded by the curve is %f\" %(area)\n"
     ],
     "language": "python",
     "metadata": {},
     "outputs": [
      {
       "output_type": "stream",
       "stream": "stdout",
       "text": [
        "area bounded by the curve is 0.099650\n"
       ]
      }
     ],
     "prompt_number": 25
    },
    {
     "cell_type": "heading",
     "level": 2,
     "metadata": {},
     "source": [
      "Ex6.9:pg-226"
     ]
    },
    {
     "cell_type": "code",
     "collapsed": false,
     "input": [
      "#example 6.9\n",
      "#simpson 1/3rd  method for integration\n",
      "#page 226\n",
      "from __future__ import division\n",
      "import math\n",
      "x=[0,0.00, 0.25, 0.50, 0.75, 1.00]\n",
      "y=[0,1.000, 0.9896, 0.9589, 0.9089, 0.8415]\n",
      "h=x[2]-x[1]\n",
      "area=0\n",
      "for i in range(0,6):\n",
      "    y[i]=y[i]**2\n",
      "for i in range(1,6):\n",
      "    if i==1:\n",
      "        area=area+y[i]\n",
      "    elif i==5:\n",
      "        area=area+y[i]\n",
      "    elif i%2==0:\n",
      "        area=area+4*y[i]\n",
      "    elif i%2!=0: \n",
      "        area=area+2*y[i]\n",
      "area=(area/3)*(h*math.pi)\n",
      "print \"area bounded by the curve is %f\" %(area)\n"
     ],
     "language": "python",
     "metadata": {},
     "outputs": [
      {
       "output_type": "stream",
       "stream": "stdout",
       "text": [
        "area bounded by the curve is 2.819247\n"
       ]
      }
     ],
     "prompt_number": 8
    },
    {
     "cell_type": "heading",
     "level": 2,
     "metadata": {},
     "source": [
      "Ex6.10:pg-228"
     ]
    },
    {
     "cell_type": "code",
     "collapsed": false,
     "input": [
      "#example 6.10\n",
      "#integration by trapezoidal and simpson's method\n",
      "#page 228\n",
      "from __future__ import division\n",
      "def f(x):\n",
      "    return 1/(1+x)\n",
      "h=0.5\n",
      "x=[0,0.0,0.5,1.0]\n",
      "y=[0,0,0,0]\n",
      "l=4\n",
      "for i in range(0,l):\n",
      "    y[i]=f(x[i])\n",
      "area=0   #trapezoidal method\n",
      "for i in range(1,l):\n",
      "    if i==1:\n",
      "       area=area+y[i]\n",
      "    elif i==l-1:\n",
      "        area=area+y[i]\n",
      "    else:\n",
      "       area=area+2*y[i]\n",
      "area=area*(h/2)\n",
      "print \"area bounded by the curve by trapezoidal method with h=%f is %f\\n \\n\" %(h,area)\n",
      "area=0  #simpson 1/3rd rule\n",
      "for i in range(1,l):\n",
      "    if i==1: \n",
      "       area=area+y[i]\n",
      "    elif i==l-1:\n",
      "        area=area+y[i]\n",
      "    elif i%2==0:\n",
      "        area=area+4*y[i]\n",
      "    elif i%2!=0:\n",
      "        area=area+2*y[i]\n",
      "area=(area*h)/3\n",
      "print \"area bounded by the curve by simpson 1/3rd method with h=%f is %f\\n \\n\" %(h,area)\n",
      "h=0.25\n",
      "x=[0,0.0,0.25,0.5,0.75,1.0]\n",
      "y=[0,0,0,0,0,0]\n",
      "l=6\n",
      "for i in range(0,l):\n",
      "    y[i]=f(x[i])\n",
      "area=0   #trapezoidal method\n",
      "for i in range(1,l):\n",
      "    if i==1: \n",
      "       area=area+y[i]\n",
      "    elif i==l-1:\n",
      "        area=area+y[i]\n",
      "    else:\n",
      "        area=area+2*y[i]\n",
      "area=area*(h/2)\n",
      "print \"area bounded by the curve by trapezoidal method with h=%f is %f\\n \\n\" %(h,area)\n",
      "area=0  #simpson 1/3rd rule\n",
      "for i in range(1,l):\n",
      "    if i==1:\n",
      "       area=area+y[i]\n",
      "    elif i==l-1:\n",
      "        area=area+y[i]\n",
      "    elif i%2==0:\n",
      "        area=area+4*y[i]\n",
      "    elif i%2!=0:\n",
      "        area=area+2*y[i]\n",
      "area=(area*h)/3\n",
      "print \"area bounded by the curve by simpson 1/3rd method with h=%f is %f\\n \\n\" %(h,area)\n",
      "h=0.125\n",
      "x=[0,0.0,0.125,0.25,0.375,0.5,0.625,0.75,0.875,1.0]\n",
      "y=[0,0,0,0,0,0,0,0,0,0]\n",
      "l=10\n",
      "for i in range(0,l):\n",
      "    y[i]=f(x[i])\n",
      "area=0   #trapezoidal method\n",
      "for i in range(1,l):\n",
      "    if i==1:\n",
      "        area=area+y[i]\n",
      "    elif i==l-1:\n",
      "        area=area+y[i]\n",
      "    elif i%2==0:\n",
      "        area=area+2*y[i]\n",
      "    elif i%2!=0:\n",
      "        area=area+2*y[i]\n",
      "area=area*(h/2)\n",
      "print \"area bounded by the curve by trapezoidal method with h=%f is %f\\n \\n\" %(h,area)\n",
      "area=0  #simpson 1/3rd rule\n",
      "for i in range(1,l):\n",
      "    if i==1:\n",
      "       area=area+y[i]\n",
      "    elif i==l-1:\n",
      "        area=area+y[i]\n",
      "    elif i%2==0:\n",
      "        area=area+4*y[i]\n",
      "    elif i%2!=0:\n",
      "        area=area+2*y[i]\n",
      "area=(area*h)/3\n",
      "print \"area bounded by the curve by simpson 1/3rd method with h=%f is %f\\n \\n\" %(h,area)\n",
      "\n",
      "\n",
      "\n",
      "\n",
      "\n",
      "      \n",
      "\n",
      "\n",
      "\n",
      "\n"
     ],
     "language": "python",
     "metadata": {},
     "outputs": [
      {
       "output_type": "stream",
       "stream": "stdout",
       "text": [
        "area bounded by the curve by trapezoidal method with h=0.500000 is 0.708333\n",
        " \n",
        "\n",
        "area bounded by the curve by simpson 1/3rd method with h=0.500000 is 0.694444\n",
        " \n",
        "\n",
        "area bounded by the curve by trapezoidal method with h=0.250000 is 0.697024\n",
        " \n",
        "\n",
        "area bounded by the curve by simpson 1/3rd method with h=0.250000 is 0.693254\n",
        " \n",
        "\n",
        "area bounded by the curve by trapezoidal method with h=0.125000 is 0.694122\n",
        " \n",
        "\n",
        "area bounded by the curve by simpson 1/3rd method with h=0.125000 is 0.693155\n",
        " \n",
        "\n"
       ]
      }
     ],
     "prompt_number": 36
    },
    {
     "cell_type": "heading",
     "level": 2,
     "metadata": {},
     "source": [
      "Ex6.11:pg-229"
     ]
    },
    {
     "cell_type": "code",
     "collapsed": false,
     "input": [
      "#example 6.11\n",
      "#rommberg's method\n",
      "#page 229\n",
      "from __future__ import division\n",
      "def f(x):\n",
      "    return 1/(1+x)\n",
      "k=0\n",
      "h=0.5\n",
      "x=[0,0.0,0.5,1.0]\n",
      "y=[0,0,0,0]\n",
      "I=[0,0,0]\n",
      "I1=[0,0]\n",
      "T2=[0]\n",
      "l=4\n",
      "for i in range(0,l):\n",
      "    y[i]=f(x[i])\n",
      "area=0   #trapezoidal method\n",
      "for i in range(1,l):\n",
      "    if i==1:\n",
      "       area=area+y[i]\n",
      "    elif i==l-1:\n",
      "        area=area+y[i]\n",
      "    else:\n",
      "        area=area+2*y[i]\n",
      "area=area*(h/2)\n",
      "I[k]=area\n",
      "k=k+1\n",
      "h=0.25\n",
      "x=[0,0.0,0.25,0.5,0.75,1.0]\n",
      "y=[0,0,0,0,0,0]\n",
      "l=6\n",
      "for i in range(0,l):\n",
      "    y[i]=f(x[i])\n",
      "area=0   #trapezoidal method\n",
      "for i in range(1,l):\n",
      "    if i==1:\n",
      "       area=area+y[i]\n",
      "    elif i==l-1:\n",
      "        area=area+y[i]\n",
      "    else:\n",
      "        area=area+2*y[i]\n",
      "area=area*(h/2)\n",
      "I[k]=area\n",
      "k=k+1\n",
      "h=0.125\n",
      "x=[0,0.0,0.125,0.25,0.375,0.5,0.625,0.75,0.875,1.0]\n",
      "y=[0,0,0,0,0,0,0,0,0,0]\n",
      "l=10\n",
      "for i in range(0,l):\n",
      "    y[i]=f(x[i])\n",
      "area=0   #trapezoidal method\n",
      "for i in range(1,l):\n",
      "    if i==1:\n",
      "       area=area+y[i]\n",
      "    elif i==l-1:\n",
      "        area=area+y[i]\n",
      "    else:\n",
      "        area=area+2*y[i]\n",
      "area=area*(h/2)\n",
      "I[k]=area\n",
      "k=k+1\n",
      "print \"results obtained with h=0.5 0.25 0.125 is %f %f %f\\n \\n\" %(I[0],I[1],I[2])\n",
      "for i in range(0,2):\n",
      "    I1[i]=I[i+1]+(I[i+1]-I[i])/3\n",
      "for i in range(0,1):\n",
      "    T2[i]=I1[i+1]+(I1[i+1]-I1[i])/3\n",
      "print \"the area is %f\" %(T2[0])\n",
      "\n"
     ],
     "language": "python",
     "metadata": {},
     "outputs": [
      {
       "output_type": "stream",
       "stream": "stdout",
       "text": [
        "results obtained with h=0.5 0.25 0.125 is 0.708333 0.697024 0.694122\n",
        " \n",
        "\n",
        "the area is 0.693121\n"
       ]
      }
     ],
     "prompt_number": 43
    },
    {
     "cell_type": "heading",
     "level": 2,
     "metadata": {},
     "source": [
      "Ex6.13:pg-230"
     ]
    },
    {
     "cell_type": "code",
     "collapsed": false,
     "input": [
      "#area using cubic spline method\n",
      "#example 6.13\n",
      "#page 230\n",
      "x=[0, 0.5, 1.0]\n",
      "y=[0, 1.0, 0.0]\n",
      "h=0.5\n",
      "M0=0\n",
      "M2=0\n",
      "M=[0,0,0]\n",
      "M1=(6*(y[2]-2*y[1]+y[0])/h**2-M0-M2)/4\n",
      "M=[M0, M1, M2]\n",
      "I=0\n",
      "for i in range(0,2):\n",
      "    I=I+(h*(y[i]+y[i+1]))/2-((h**3)*(M[i]+M[i+1])/24)\n",
      "print \"the value of the integrand is : %f\" %(I)\n"
     ],
     "language": "python",
     "metadata": {},
     "outputs": [
      {
       "output_type": "stream",
       "stream": "stdout",
       "text": [
        "the value of the integrand is : 0.625000\n"
       ]
      }
     ],
     "prompt_number": 45
    },
    {
     "cell_type": "heading",
     "level": 2,
     "metadata": {},
     "source": [
      "Ex6.15:pg-233"
     ]
    },
    {
     "cell_type": "code",
     "collapsed": false,
     "input": [
      "#euler's maclaurin formula\n",
      "#example 6.15\n",
      "#page 233\n",
      "import math\n",
      "y=[0, 1, 0]\n",
      "h=math.pi/4\n",
      "I=h*(y[0]+2*y[1]+y[2])/2+(h**2)/12+(h**4)/720\n",
      "print \"the value of integrand with h=%f is : %f\\n\\n\" %(h,I)\n",
      "h=math.pi/8\n",
      "y=[0, math.sin(math.pi/8), math.sin(math.pi*2/8), math.sin(math.pi*3/8), math.sin(math.pi*4/8)]\n",
      "I=h*(y[0]+2*y[1]+2*y[2]+2*y[3]+y[4])/2+(h**2)/2+(h**2)/12+(h**4)/720\n",
      "print \" the value of integrand with h=%f is : %f\" %(h,I)\n"
     ],
     "language": "python",
     "metadata": {},
     "outputs": [
      {
       "output_type": "stream",
       "stream": "stdout",
       "text": [
        "the value of integrand with h=0.785398 is : 0.837331\n",
        "\n",
        "\n",
        " the value of integrand with h=0.392699 is : 1.077106\n"
       ]
      }
     ],
     "prompt_number": 47
    },
    {
     "cell_type": "heading",
     "level": 2,
     "metadata": {},
     "source": [
      "Ex6.17:pg-236"
     ]
    },
    {
     "cell_type": "code",
     "collapsed": false,
     "input": [
      "# example 6.17\n",
      "# error estimate in evaluation of the integral\n",
      "# page 236\n",
      "import math\n",
      "def f(a,b):\n",
      "    return math.cos(a)+4*math.cos((a+b)/2)+math.cos(b)\n",
      "a=0\n",
      "b=math.pi/2\n",
      "c=math.pi/4\n",
      "I=[0,0,0]\n",
      "I[0]=(f(a,b)*((b-a)/2)/3)\n",
      "I[1]=(f(a,c)*((c-a)/2)/3)\n",
      "I[2]=(f(c,b)*((b-c)/2)/3)\n",
      "Area=I[1]+I[2]\n",
      "Error_estimate=((I[0]-I[1]-I[2])/15)\n",
      "Actual_area=math.sin(math.pi/2)-math.sin(0)\n",
      "Actual_error=abs(Actual_area-Area)\n",
      "print \"the calculated area obtained is:%f\\n\" %(Area)\n",
      "print \"the actual area obtained is:%f\\n\" %(Actual_area)\n",
      "print \"the actual error obtained is:%f\\n\" %(Actual_error)"
     ],
     "language": "python",
     "metadata": {},
     "outputs": [
      {
       "output_type": "stream",
       "stream": "stdout",
       "text": [
        "the calculated area obtained is:1.000135\n",
        "\n",
        "the actual area obtained is:1.000000\n",
        "\n",
        "the actual error obtained is:0.000135\n",
        "\n"
       ]
      }
     ],
     "prompt_number": 49
    },
    {
     "cell_type": "heading",
     "level": 2,
     "metadata": {},
     "source": [
      "Ex6.18:pg-237"
     ]
    },
    {
     "cell_type": "code",
     "collapsed": false,
     "input": [
      "# example 6.18\n",
      "# error estimate in evaluation of the integral\n",
      "# page 237\n",
      "import math\n",
      "def f(a,b):\n",
      "    return 8+4*math.sin(a)+4*(8+4*math.sin((a+b)/2))+8+4*math.sin(b)\n",
      "a=0\n",
      "b=math.pi/2\n",
      "c=math.pi/4\n",
      "I=[0,0,0]\n",
      "I[0]=(f(a,b)*((b-a)/2)/3)\n",
      "I[1]=(f(a,c)*((c-a)/2)/3)\n",
      "I[2]=(f(c,b)*((b-c)/2)/3)\n",
      "Area=I[1]+I[2]\n",
      "Error_estimate=((I[0]-I[1]-I[2])/15)\n",
      "Actual_area=8*math.pi/2+4*math.sin(math.pi/2)\n",
      "Actual_error=abs(Actual_area-Area)\n",
      "print \"the calculated area obtained is:%f\\n\" %(Area)\n",
      "print \"the actual area obtained is:%f\\n\" %(Actual_area)\n",
      "print \"the actual error obtained is:%f\\n\" %(Actual_error)"
     ],
     "language": "python",
     "metadata": {},
     "outputs": [
      {
       "output_type": "stream",
       "stream": "stdout",
       "text": [
        "the calculated area obtained is:16.566909\n",
        "\n",
        "the actual area obtained is:16.566371\n",
        "\n",
        "the actual error obtained is:0.000538\n",
        "\n"
       ]
      }
     ],
     "prompt_number": 50
    },
    {
     "cell_type": "heading",
     "level": 2,
     "metadata": {},
     "source": [
      "Ex6.19:pg-242"
     ]
    },
    {
     "cell_type": "code",
     "collapsed": false,
     "input": [
      "#gauss' formula\n",
      "#example 6.19\n",
      "#page 242\n",
      "u=[-0.86113, -0.33998, 0.33998, 0.86113]\n",
      "W=[0.34785, 0.65214, 0.65214, 0.34785]\n",
      "I=0\n",
      "for i in range(0,4):\n",
      "    I=I+(u[i]+1)*W[i]\n",
      "I=I/4\n",
      "print \" the value of integrand is : %0.5f\" %(I)\n"
     ],
     "language": "python",
     "metadata": {},
     "outputs": [
      {
       "output_type": "stream",
       "stream": "stdout",
       "text": [
        " the value of integrand is : 0.49999\n"
       ]
      }
     ],
     "prompt_number": 51
    },
    {
     "cell_type": "heading",
     "level": 2,
     "metadata": {},
     "source": [
      "Ex6.20:pg-247"
     ]
    },
    {
     "cell_type": "code",
     "collapsed": false,
     "input": [
      "#example 6.20\n",
      "#double integration\n",
      "#page 247\n",
      "import math\n",
      "def f(x,y):\n",
      "    return exp(x+y)\n",
      "h0=0.5\n",
      "k0=0.5\n",
      "x=[[0,0,0],[0,0,0],[0,0,0]]\n",
      "h=[0, 0.5, 1]\n",
      "k=[0, 0.5, 1]\n",
      "for i in range(0,3):\n",
      "    for j in range(0,3):\n",
      "      x[i][j]=f(h[i],k[j])\n",
      "T_area=h0*k0*(x[0][0]+4*x[0][1]+4*x[2][1]+6*x[0][2]+x[2][2])/4     #trapezoidal method\n",
      "print \"the integration value by trapezoidal method  is %f\\n \" %(T_area)\n",
      "S_area=h0*k0*((x[0][0]+x[0][2]+x[2][0]+x[2][2]+4*(x[0][1]+x[2][1]+x[1][2]+x[1][0])+16*x[1][1]))/9\n",
      "print \"the integration value by Simpson method  is %f\" %(S_area)\n"
     ],
     "language": "python",
     "metadata": {},
     "outputs": [
      {
       "output_type": "stream",
       "stream": "stdout",
       "text": [
        "the integration value by trapezoidal method  is 3.076274\n",
        " \n",
        "the integration value by Simpson method  is 2.954484\n"
       ]
      }
     ],
     "prompt_number": 55
    }
   ],
   "metadata": {}
  }
 ]
}