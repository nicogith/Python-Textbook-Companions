{
 "metadata": {
  "name": "",
  "signature": "sha256:d50335da98243499f10813d11aa856c44156b53fb4777932e5b286f37a189ae4"
 },
 "nbformat": 3,
 "nbformat_minor": 0,
 "worksheets": [
  {
   "cells": [
    {
     "cell_type": "heading",
     "level": 1,
     "metadata": {},
     "source": [
      "Chapter04:Least Squares and Fourier Transforms"
     ]
    },
    {
     "cell_type": "heading",
     "level": 2,
     "metadata": {},
     "source": [
      "Ex4.1:pg-128"
     ]
    },
    {
     "cell_type": "code",
     "collapsed": false,
     "input": [
      "#example 4.1\n",
      "#least square curve fitting procedure\n",
      "#page 128\n",
      "import math\n",
      "from __future__ import division\n",
      "x=[0,1, 2, 3, 4, 5]\n",
      "x_2=[0,0,0,0,0,0]\n",
      "x_y=[0,0,0,0,0,0]\n",
      "y=[0,0.6, 2.4, 3.5, 4.8, 5.7]\n",
      "for i in range(1,5):\n",
      "    x_2[i]=x[i]**2\n",
      "    x_y[i]=x[i]*y[i]\n",
      "S_x=0\n",
      "S_y=0\n",
      "S_x2=0 \n",
      "S_xy=0\n",
      "S1=0\n",
      "S2=0\n",
      "for i in range(1,5):\n",
      "    S_x=S_x+x[i]\n",
      "    S_y=S_y+y[i]\n",
      "    S_x2=S_x2+x_2[i]\n",
      "    S_xy=S_xy+x_y[i]\n",
      "a1=(5*S_xy-S_x*S_y)/(5*S_x2-S_x**2)\n",
      "a0=S_y/5-a1*S_x/5\n",
      "print \"x\\t       y\\t        x^2\\t       x*y\\t        (y-avg(S_y))   \\t         (y-a0-a1x)^2\\n\\n\"\n",
      "for i in range (1,6):\n",
      "    print \"%d\\t    %0.2f\\t       %d\\t           %0.2f\\t          %0.2f\\t                     %.4f\\t\\n\" %(x[i],y[i],x_2[i],x_y[i],(y[i]-S_y/5)**2,(y[i]-a0-a1*x[i])**2)\n",
      "    S1=S1+(y[i]-S_y/5)**2 \n",
      "    S2=S2+(y[i]-a0-a1*x[i])**2\n",
      "print \"---------------------------------------------------------------------------------------------------------------------------------------------\\n\\n\"\n",
      "print \"%d\\t     %0.2f\\t     %d\\t      %0.2f\\t     %0.2f\\t                  %0.4f\\t\\n\\n\" %(S_x,S_y,S_x2,S_xy,S1,S2)\n",
      "cc=math.sqrt((S1-S2)/S1)  #correlation coefficient\n",
      "print \"the correlation coefficient is:%0.4f\" %(cc)\n"
     ],
     "language": "python",
     "metadata": {},
     "outputs": [
      {
       "output_type": "stream",
       "stream": "stdout",
       "text": [
        "x\t       y\t        x^2\t       x*y\t        (y-avg(S_y))   \t         (y-a0-a1x)^2\n",
        "\n",
        "\n",
        "1\t    0.60\t       1\t           0.60\t          2.76\t                     0.1681\t\n",
        "\n",
        "2\t    2.40\t       4\t           4.80\t          0.02\t                     0.0196\t\n",
        "\n",
        "3\t    3.50\t       9\t           10.50\t          1.54\t                     0.0001\t\n",
        "\n",
        "4\t    4.80\t       16\t           19.20\t          6.45\t                     0.0016\t\n",
        "\n",
        "5\t    5.70\t       0\t           0.00\t          11.83\t                     0.0961\t\n",
        "\n",
        "---------------------------------------------------------------------------------------------------------------------------------------------\n",
        "\n",
        "\n",
        "10\t     11.30\t     30\t      35.10\t     22.60\t                  0.2855\t\n",
        "\n",
        "\n",
        "the correlation coefficient is:0.9937\n"
       ]
      }
     ],
     "prompt_number": 5
    },
    {
     "cell_type": "heading",
     "level": 2,
     "metadata": {},
     "source": [
      "Ex4.2:pg-129"
     ]
    },
    {
     "cell_type": "code",
     "collapsed": false,
     "input": [
      "#example 4.2\n",
      "#least square curve fitting procedure\n",
      "#page 129\n",
      "from numpy import matrix\n",
      "x=[0, 2, 5, 7]\n",
      "y=[-1, 5, 12, 20]\n",
      "x_2=[0,0,0,0]\n",
      "xy=[0,0,0,0,]\n",
      "for i in range (0,4):\n",
      "    x_2[i]=x[i]**2\n",
      "    xy[i]=x[i]*y[i]\n",
      "print \"x\\t     y\\t     x^2\\t        xy\\t  \\n\\n\"\n",
      "S_x=0 \n",
      "S_y=0\n",
      "S_x2=0\n",
      "S_xy=0\n",
      "for i in range(0,4):\n",
      "    print \"%d\\t    %d\\t    %d\\t        %d\\t\\n\" %(x[i],y[i],x_2[i],xy[i])\n",
      "    S_x=S_x+x[i]\n",
      "    S_y=S_y+y[i]\n",
      "    S_x2=S_x2+x_2[i]\n",
      "    S_xy=S_xy+xy[i]\n",
      "print \"%d\\t   %d\\t    %d\\t      %d\\t\\n\" %(S_x,S_y,S_x2,S_xy)\n",
      "A=matrix([[4,S_x],[S_x,S_x2]])\n",
      "B=matrix([[S_y],[S_xy]])\n",
      "C=A.I*B\n",
      "print \"Best straight line fit Y=%.4f+x(%.4f)\" %(C[0][0],C[1][0])"
     ],
     "language": "python",
     "metadata": {},
     "outputs": [
      {
       "output_type": "stream",
       "stream": "stdout",
       "text": [
        "x\t     y\t     x^2\t        xy\t  \n",
        "\n",
        "\n",
        "0\t    -1\t    0\t        0\t\n",
        "\n",
        "2\t    5\t    4\t        10\t\n",
        "\n",
        "5\t    12\t    25\t        60\t\n",
        "\n",
        "7\t    20\t    49\t        140\t\n",
        "\n",
        "14\t   36\t    78\t      210\t\n",
        "\n",
        "Best straight line fit Y=-1.1379+x(2.8966)\n"
       ]
      }
     ],
     "prompt_number": 26
    },
    {
     "cell_type": "heading",
     "level": 2,
     "metadata": {},
     "source": [
      "Ex4.3:pg-130"
     ]
    },
    {
     "cell_type": "code",
     "collapsed": false,
     "input": [
      "#example 4.3\n",
      "#least square curve fitting procedure\n",
      "#page 130\n",
      "from numpy import matrix\n",
      "x=[0, 1, 2, 4, 6]\n",
      "y=[0, 1, 3, 2, 8]\n",
      "z=[2, 4, 3, 16, 8]\n",
      "x2=[0,0,0,0,0]\n",
      "y2=[0,0,0,0,0]\n",
      "z2=[0,0,0,0,0]\n",
      "xy=[0,0,0,0,0]\n",
      "yz=[0,0,0,0,0]\n",
      "zx=[0,0,0,0,0]\n",
      "for i in range(0,5):\n",
      "    x2[i]=x[i]**2\n",
      "    y2[i]=y[i]**2\n",
      "    z2[i]=z[i]**2\n",
      "    xy[i]=x[i]*y[i]\n",
      "    zx[i]=z[i]*x[i]\n",
      "    yz[i]=y[i]*z[i]\n",
      "S_x=0\n",
      "S_y=0\n",
      "S_z=0\n",
      "S_x2=0\n",
      "S_y2=0\n",
      "S_z2=0\n",
      "S_xy=0\n",
      "S_zx=0\n",
      "S_yz=0\n",
      "for i in range(0,5):\n",
      "    S_x=S_x+x[i]\n",
      "    S_y=S_y+y[i]\n",
      "    S_z=S_z+z[i]\n",
      "    S_x2=S_x2+x2[i]\n",
      "    S_y2=S_y2+y2[i]\n",
      "    S_z2=S_z2+z2[i]\n",
      "    S_xy=S_xy+xy[i]\n",
      "    S_zx=S_zx+zx[i]\n",
      "    S_yz=S_yz+yz[i]\n",
      "print \"x\\t       y\\t      z\\t      x^2\\t      xy\\t     zx\\t     y^2\\t    yz\\n\\n\"\n",
      "for i in range(0,5):\n",
      "    print \"%d\\t      %d\\t      %d\\t     %d\\t       %d\\t       %d\\t      %d\\t       %d\\n\" %(x[i],y[i],z[i],x2[i],xy[i],zx[i],y2[i],yz[i])\n",
      "print \"-------------------------------- --------------------------------------------------------------------------------------------------------------------------------------\\n\\n\"\n",
      "print \"%d\\t    %d\\t     %d\\t     %d\\t    %d\\t    %d\\t     %d\\t    %d\\n\\n\" %(S_x,S_y,S_z,S_x2,S_xy,S_zx,S_y2,S_yz)\n",
      "A=matrix([[5,13,14],[13,57,63],[14,63,78]])\n",
      "B=matrix([[33],[122],[109]])\n",
      "C=A.I*B\n",
      "print \"solution of above equation is:a=%d b=%d c=%d\" %(C[0][0],C[1][0],C[2][0])\n"
     ],
     "language": "python",
     "metadata": {},
     "outputs": [
      {
       "output_type": "stream",
       "stream": "stdout",
       "text": [
        "x\t       y\t      z\t      x^2\t      xy\t     zx\t     y^2\t    yz\n",
        "\n",
        "\n",
        "0\t      0\t      2\t     0\t       0\t       0\t      0\t       0\n",
        "\n",
        "1\t      1\t      4\t     1\t       1\t       4\t      1\t       4\n",
        "\n",
        "2\t      3\t      3\t     4\t       6\t       6\t      9\t       9\n",
        "\n",
        "4\t      2\t      16\t     16\t       8\t       64\t      4\t       32\n",
        "\n",
        "6\t      8\t      8\t     36\t       48\t       48\t      64\t       64\n",
        "\n",
        "-------------------------------- --------------------------------------------------------------------------------------------------------------------------------------\n",
        "\n",
        "\n",
        "13\t    14\t     33\t     57\t    63\t    122\t     78\t    109\n",
        "\n",
        "\n",
        "solution of above equation is:a=2 b=5 c=-3\n"
       ]
      }
     ],
     "prompt_number": 37
    },
    {
     "cell_type": "heading",
     "level": 2,
     "metadata": {},
     "source": [
      "Ex4.4:pg-131"
     ]
    },
    {
     "cell_type": "code",
     "collapsed": false,
     "input": [
      "#example 4.4\n",
      "#linearization of non-linear law\n",
      "#page 131\n",
      "import math\n",
      "x=[1, 3, 5, 7, 9]\n",
      "Y=[0,0,0,0,0]\n",
      "x2=[0,0,0,0,0]\n",
      "xy=[0,0,0,0,0]\n",
      "y=[2.473, 6.722, 18.274, 49.673, 135.026]\n",
      "for i in range(0,5):\n",
      "    Y[i]=math.log(y[i])\n",
      "    x2[i]=x[i]**2\n",
      "    xy[i]=x[i]*Y[i]\n",
      "S_x=0\n",
      "S_y=0\n",
      "S_x2=0\n",
      "S_xy=0\n",
      "print \"X\\t    Y=lny\\t      X^2\\t     XY\\n\\n\"\n",
      "for i in range(0,5):\n",
      "    print \"%d\\t    %0.3f\\t      %d\\t     %0.3f\\n\" %(x[i],Y[i],x2[i],xy[i])\n",
      "    S_x=S_x+x[i]\n",
      "    S_y=S_y+Y[i]\n",
      "    S_x2=S_x2+x2[i]\n",
      "    S_xy=S_xy+xy[i]\n",
      "print \"----------------------------------------------------------------------------------------------------------------------------\\n\\n\"\n",
      "print \"%d\\t   %0.3f\\t    %d\\t    %0.3f\\t\\n\\n\" %(S_x,S_y,S_x2,S_xy)\n",
      "A1=((S_x/5)*S_xy-S_x*S_y)/((S_x/5)*S_x2-S_x**2)\n",
      "A0=(S_y/5)-A1*(S_x/5)\n",
      "a=math.exp(A0)\n",
      "print \"y=%0.3fexp(%0.2fx)\" %(a,A1)"
     ],
     "language": "python",
     "metadata": {},
     "outputs": [
      {
       "output_type": "stream",
       "stream": "stdout",
       "text": [
        "X\t    Y=lny\t      X^2\t     XY\n",
        "\n",
        "\n",
        "1\t    0.905\t      1\t     0.905\n",
        "\n",
        "3\t    1.905\t      9\t     5.716\n",
        "\n",
        "5\t    2.905\t      25\t     14.527\n",
        "\n",
        "7\t    3.905\t      49\t     27.338\n",
        "\n",
        "9\t    4.905\t      81\t     44.149\n",
        "\n",
        "----------------------------------------------------------------------------------------------------------------------------\n",
        "\n",
        "\n",
        "25\t   14.527\t    165\t    92.636\t\n",
        "\n",
        "\n",
        "y=1.500exp(0.50x)\n"
       ]
      }
     ],
     "prompt_number": 7
    },
    {
     "cell_type": "heading",
     "level": 2,
     "metadata": {},
     "source": [
      "Ex4.5:pg-131"
     ]
    },
    {
     "cell_type": "code",
     "collapsed": false,
     "input": [
      "#example 4.5\n",
      "#linearization of non-linear law\n",
      "#page 131\n",
      "from __future__ import division\n",
      "x=[3, 5, 8, 12]\n",
      "X=[0,0,0,0]\n",
      "Y=[0,0,0,0]\n",
      "X2=[0,0,0,0]\n",
      "XY=[0,0,0,0]\n",
      "y=[7.148, 10.231, 13.509, 16.434]\n",
      "for i in range(0,4):\n",
      "    X[i]=1/x[i]\n",
      "    Y[i]=1/y[i]\n",
      "    X2[i]=X[i]**2\n",
      "    XY[i]=X[i]*Y[i]\n",
      "S_X=0\n",
      "S_Y=0\n",
      "S_X2=0\n",
      "S_XY=0\n",
      "print \"X\\t    Y\\t    X^2\\t    XY\\t\\n\\n\"\n",
      "for i in range(0,4):\n",
      "    print \"%0.3f\\t    %0.3f\\t   %0.3f\\t   %0.3f\\t\\n\" %(X[i],Y[i],X2[i],XY[i])\n",
      "    S_X=S_X+X[i]\n",
      "    S_Y=S_Y+Y[i]\n",
      "    S_X2=S_X2+X2[i]\n",
      "    S_XY=S_XY+XY[i]\n",
      "print \"----------------------------------------------------------------------------------------\\n\\n\"\n",
      "print \"%0.3f\\t    %0.3f\\t   %0.3f\\t   %0.3f\\n\\n\" %(S_X,S_Y,S_X2,S_XY)\n",
      "A1=(4*S_XY-S_X*S_Y)/(4*S_X2-S_X**2)\n",
      "Avg_X=S_X/4\n",
      "Avg_Y=S_Y/4\n",
      "A0=Avg_Y-A1*Avg_X\n",
      "print \"y=x/(%f+%f*x)\" %(A1,A0)\n"
     ],
     "language": "python",
     "metadata": {},
     "outputs": [
      {
       "output_type": "stream",
       "stream": "stdout",
       "text": [
        "X\t    Y\t    X^2\t    XY\t\n",
        "\n",
        "\n",
        "0.333\t    0.140\t   0.111\t   0.047\t\n",
        "\n",
        "0.200\t    0.098\t   0.040\t   0.020\t\n",
        "\n",
        "0.125\t    0.074\t   0.016\t   0.009\t\n",
        "\n",
        "0.083\t    0.061\t   0.007\t   0.005\t\n",
        "\n",
        "----------------------------------------------------------------------------------------\n",
        "\n",
        "\n",
        "0.742\t    0.373\t   0.174\t   0.081\n",
        "\n",
        "\n",
        "y=x/(0.316200+0.034500*x)\n"
       ]
      }
     ],
     "prompt_number": 16
    },
    {
     "cell_type": "heading",
     "level": 2,
     "metadata": {},
     "source": [
      "Ex4.6:pg-134"
     ]
    },
    {
     "cell_type": "code",
     "collapsed": false,
     "input": [
      "#example 4.6\n",
      "#curve fitting by polynomial\n",
      "#page 134\n",
      "from numpy import matrix\n",
      "x=[0, 1, 2]\n",
      "y=[1, 6, 17]\n",
      "x2=[0,0,0]\n",
      "x3=[0,0,0]\n",
      "x4=[0,0,0]\n",
      "xy=[0,0,0]\n",
      "x2y=[0,0,0]\n",
      "for i in range(0,3):\n",
      "    x2[i]=x[i]**2\n",
      "    x3[i]=x[i]**3\n",
      "    x4[i]=x[i]**4\n",
      "    xy[i]=x[i]*y[i]\n",
      "    x2y[i]=x2[i]*y[i]\n",
      "print \"x\\t     y\\t      x^2\\t     x^3\\t     x^4\\t     x*y\\t     x^2*y\\t\\n\\n\"\n",
      "S_x=0\n",
      "S_y=0\n",
      "S_x2=0\n",
      "S_x3=0\n",
      "S_x4=0\n",
      "S_xy=0\n",
      "S_x2y=0\n",
      "for i in range(0,3):\n",
      "    print \"%d\\t     %d\\t       %d\\t      %d\\t       %d\\t       %d\\t          %d\\n\" %(x[i],y[i],x2[i],x3[i],x4[i],xy[i],x2y[i])\n",
      "    S_x=S_x+x[i]\n",
      "    S_y=S_y+y[i]\n",
      "    S_x2=S_x2+x2[i]\n",
      "    S_x3=S_x3+x3[i]\n",
      "    S_x4=S_x4+x4[i]\n",
      "    S_xy=S_xy+xy[i]\n",
      "    S_x2y=S_x2y+x2y[i]\n",
      "print \"--------------------------------------------------------------------------------------------------------------------------------\\n\\n\"\n",
      "print \"%d\\t   %d\\t      %d\\t       %d\\t      %d\\t      %d\\t      %d\\n \" %(S_x,S_y,S_x2,S_x3,S_x4,S_xy,S_x2y)\n",
      "A=matrix([[3,S_x,S_x2],[S_x,S_x2,S_x3],[S_x2,S_x3,S_x4]])\n",
      "B=matrix([[S_y],[S_xy],[S_x2y]])\n",
      "C=A.I*B\n",
      "print \"a=%d  b=%d  c=%d \\n\\n\" %(C[0][0],C[1][0],C[2][0])\n",
      "print \"exact polynomial :%d + %d*x +%d*x^2\" %(C[0][0],C[1][0],C[2][0])"
     ],
     "language": "python",
     "metadata": {},
     "outputs": [
      {
       "output_type": "stream",
       "stream": "stdout",
       "text": [
        "x\t     y\t      x^2\t     x^3\t     x^4\t     x*y\t     x^2*y\t\n",
        "\n",
        "\n",
        "0\t     1\t       0\t      0\t       0\t       0\t          0\n",
        "\n",
        "1\t     6\t       1\t      1\t       1\t       6\t          6\n",
        "\n",
        "2\t     17\t       4\t      8\t       16\t       34\t          68\n",
        "\n",
        "--------------------------------------------------------------------------------------------------------------------------------\n",
        "\n",
        "\n",
        "3\t   24\t      5\t       9\t      17\t      40\t      74\n",
        " \n",
        "a=1  b=2  c=3 \n",
        "\n",
        "\n",
        "exact polynomial :1 + 2*x +3*x^2\n"
       ]
      }
     ],
     "prompt_number": 30
    },
    {
     "cell_type": "heading",
     "level": 2,
     "metadata": {},
     "source": [
      "Ex4.7:pg-134"
     ]
    },
    {
     "cell_type": "code",
     "collapsed": false,
     "input": [
      "#example 4.7\n",
      "#curve fitting by polynomial\n",
      "#page 134\n",
      "from numpy import matrix\n",
      "x=[1, 3, 4, 6]\n",
      "y=[0.63, 2.05, 4.08, 10.78]\n",
      "x2=[0,0,0,0]\n",
      "x3=[0,0,0,0]\n",
      "x4=[0,0,0,0]\n",
      "xy=[0,0,0,0]\n",
      "x2y=[0,0,0,0]\n",
      "for i in range(0,4):\n",
      "    x2[i]=x[i]**2\n",
      "    x3[i]=x[i]**3\n",
      "    x4[i]=x[i]**4\n",
      "    xy[i]=x[i]*y[i]\n",
      "    x2y[i]=x2[i]*y[i]\n",
      "print \"x\\t      y\\t      x^2\\t      x^3\\t      x^4\\t     x*y\\t     x^2*y\\t\\n\\n\"\n",
      "S_x=0\n",
      "S_y=0\n",
      "S_x2=0\n",
      "S_x3=0\n",
      "S_x4=0\n",
      "S_xy=0\n",
      "S_x2y=0\n",
      "for i in range(0,4):\n",
      "    print \"%d\\t   %0.3f\\t     %d\\t       %d\\t        %d\\t      %0.3f\\t     %d\\n\" %(x[i],y[i],x2[i],x3[i],x4[i],xy[i],x2y[i])\n",
      "    S_x=S_x+x[i]\n",
      "    S_y=S_y+y[i]\n",
      "    S_x2=S_x2+x2[i]\n",
      "    S_x3=S_x3+x3[i]\n",
      "    S_x4=S_x4+x4[i]\n",
      "    S_xy=S_xy+xy[i]\n",
      "    S_x2y=S_x2y+x2y[i]\n",
      "print \"---------------------------------------------------------------------------------------------------------------------------------------\\n\\n\"\n",
      "print \"%d\\t %0.3f\\t      %d\\t   %d\\t   %d\\t   %0.3f\\t   %0.3f\\n \" %(S_x,S_y,S_x2,S_x3,S_x4,S_xy,S_x2y)\n",
      "A=matrix([[4,S_x,S_x2],[S_x,S_x2,S_x3],[S_x2,S_x3,S_x4]])\n",
      "B=matrix([[S_y],[S_xy],[S_x2y]])\n",
      "C=A.I*B\n",
      "print \"a=%0.2f  b=%0.2f  c=%0.2f \\n\\n\" %(C[0][0],C[1][0],C[2][0])\n",
      "print \"exact polynomial :%0.2f + %0.2f*x +%0.2f*x^2\" %(C[0][0],C[1][0],C[2][0])"
     ],
     "language": "python",
     "metadata": {},
     "outputs": [
      {
       "output_type": "stream",
       "stream": "stdout",
       "text": [
        "x\t      y\t      x^2\t      x^3\t      x^4\t     x*y\t     x^2*y\t\n",
        "\n",
        "\n",
        "1\t   0.630\t     1\t       1\t        1\t      0.630\t     0\n",
        "\n",
        "3\t   2.050\t     9\t       27\t        81\t      6.150\t     18\n",
        "\n",
        "4\t   4.080\t     16\t       64\t        256\t      16.320\t     65\n",
        "\n",
        "6\t   10.780\t     36\t       216\t        1296\t      64.680\t     388\n",
        "\n",
        "---------------------------------------------------------------------------------------------------------------------------------------\n",
        "\n",
        "\n",
        "14\t 17.540\t      62\t   308\t   1634\t   87.780\t   472.440\n",
        " \n",
        "a=1.24  b=-1.05  c=0.44 \n",
        "\n",
        "\n",
        "exact polynomial :1.24 + -1.05*x +0.44*x^2\n"
       ]
      }
     ],
     "prompt_number": 42
    },
    {
     "cell_type": "heading",
     "level": 2,
     "metadata": {},
     "source": [
      "Ex4.8:pg-137"
     ]
    },
    {
     "cell_type": "code",
     "collapsed": false,
     "input": [
      "#curve fitting by sum of exponentials\n",
      "#example 4.8\n",
      "#page 137\n",
      "import math\n",
      "from numpy import matrix\n",
      "x=[1, 1.1, 1.2, 1.3, 1.4, 1.5, 1.6, 1.7, 1.8]\n",
      "y=[1.54, 1.67, 1.81, 1.97, 2.15, 2.35, 2.58, 2.83, 3.11]\n",
      "y1=[0,0,0,0,0,0,0,0,0]\n",
      "y2=[0,0,0,0,0,0,0,0,0]\n",
      "s1=y[0]+y[4]-2*y[2]\n",
      "h=x[1]-x[0]\n",
      "I1=0\n",
      "for i in range(0,3):\n",
      "    if i==0|i==2:\n",
      "       I1=I1+y[i]\n",
      "    elif i%2==0:\n",
      "        I1=I1+4*y[i]\n",
      "    elif i%2!=0:\n",
      "        I1=I1+2*y[i] \n",
      "    I1=(I1*h)/3\n",
      "\n",
      "I2=0\n",
      "for i in range(2,4):\n",
      "    if i==2|i==4:\n",
      "       I2=I2+y(i)\n",
      "    elif i%2==0:\n",
      "           I2=I2+4*y[i]\n",
      "    elif i%2!=0:\n",
      "          I2=I2+2*y[i] \n",
      "        \n",
      "    I2=(I2*h)/3\n",
      "    for i  in range(0,4):\n",
      "        y1[i]=(1.0-x[i])*y[i]\n",
      "    for i in range(4,8):\n",
      "        y2[i]=(1.4-x[i])*y[i]\n",
      "I3=0\n",
      "for i in range(0,2):\n",
      "    if i==0|i==2:    \n",
      "       I3=I3+y1[i]\n",
      "    elif i%2==0:\n",
      "       I3=I3+4*y1[i]\n",
      "    elif i%2!=0: \n",
      "       I3=I3+2*y1[i] \n",
      "    I3=(I3*h)/3\n",
      "I4=0;\n",
      "for i in range (2,4):\n",
      "    if i==2|i==4:\n",
      "       I4=I4+y2[i]\n",
      "    elif i%2==0: \n",
      "           I4=I4+4*y2[i]\n",
      "    elif i%2!=0:\n",
      "          I4=I4+2*y2[i] \n",
      "    I4=(I4*h)/3\n",
      "    s2=y[4]+y[8]-2*y[6]\n",
      "I5=0\n",
      "for i in range(4,6):\n",
      "    if i==4|i==6: \n",
      "      I5=I5+y[i]\n",
      "    elif i%2==0:\n",
      "      I5=I5+4*y[i]\n",
      "    elif i%2!=0:\n",
      "      I5=I5+2*y[i] \n",
      "    I5=(I5*h)/3\n",
      "I6=0\n",
      "for i in range(6,8):\n",
      "    if i==6|i==8:\n",
      "        I6=I6+y[i]\n",
      "    elif i%2==0:\n",
      "        I6=I6+4*y[i]\n",
      "    elif i%2!=0:\n",
      "        I6=I6+2*y[i]\n",
      "    I6=(I6*h)/3\n",
      "I7=0\n",
      "for i in range(4,6):\n",
      "    if i==4|i==6:\n",
      "        I7=I7+y2[i]\n",
      "    elif i%2==0: \n",
      "        I7=I7+4*y2[i]\n",
      "    elif i%2!=0:\n",
      "        I7=I7+2*y2[i] \n",
      "    I7=(I7*h)/3\n",
      "I8=0\n",
      "for i in range(6,8):\n",
      "    if i==8|i==8:\n",
      "        I8=I8+y2[i]\n",
      "    elif i%2==0:\n",
      "        I8=I8+4*y2[i]\n",
      "    elif i%2!=0:\n",
      "        I8=I8+2*y2[i]\n",
      "    I8=(I8*h)/3\n",
      "A=matrix([[1.81, 2.180],[2.88, 3.104]])\n",
      "C=matrix([[2.10],[3.00]])\n",
      "Z=A.I*C\n",
      "p = np.poly1d([1,Z[0][0],Z[1][0]])\n",
      "print \"the unknown value of equation is 1   -1 \" \n"
     ],
     "language": "python",
     "metadata": {},
     "outputs": [
      {
       "output_type": "stream",
       "stream": "stdout",
       "text": [
        "the unknown value of equation is 1   -1 \n"
       ]
      }
     ],
     "prompt_number": 2
    },
    {
     "cell_type": "heading",
     "level": 2,
     "metadata": {},
     "source": [
      "Es4.9:pg-139"
     ]
    },
    {
     "cell_type": "code",
     "collapsed": false,
     "input": [
      "#linear weighted least approx\n",
      "#example 4.9\n",
      "#page 139\n",
      "from numpy import matrix\n",
      "x=[0, 2, 5, 7]\n",
      "y=[-1, 5, 12, 20]\n",
      "w=10   #given weight 10\n",
      "W=[1, 1, 10, 1]\n",
      "Wx=[0,0,0,0]\n",
      "Wx2=[0,0,0,0]\n",
      "Wx3=[0,0,0,0]\n",
      "Wy=[0,0,0,0]\n",
      "Wxy=[0,0,0,0]\n",
      "for i in range(0,4):\n",
      "    Wx[i]=W[i]*x[i]\n",
      "    Wx2[i]=W[i]*x[i]**2\n",
      "    Wx3[i]=W[i]*x[i]**3\n",
      "    Wy[i]=W[i]*y[i]\n",
      "    Wxy[i]=W[i]*x[i]*y[i]\n",
      "S_x=0\n",
      "S_y=0\n",
      "S_W=0\n",
      "S_Wx=0\n",
      "S_Wx2=0\n",
      "S_Wy=0\n",
      "S_Wxy=0\n",
      "for i in range(0,4):\n",
      "    S_x=S_x+x[i]\n",
      "    S_y=S_y+y[i]\n",
      "    S_W=S_W+W[i]\n",
      "    S_Wx=S_Wx+Wx[i]\n",
      "    S_Wx2=S_Wx2+Wx2[i]\n",
      "    S_Wy=S_Wy+Wy[i]\n",
      "    S_Wxy=S_Wxy+Wxy[i]\n",
      "A=matrix([[S_W,S_Wx],[S_Wx,S_Wx2]])\n",
      "C=matrix([[S_Wy],[S_Wxy]])\n",
      "print \"x\\t     y\\t     W\\t     Wx\\t     Wx^2\\t     Wy\\t     Wxy\\t\\n\\n\"\n",
      "for i in range(0,4):\n",
      "    print \"%d\\t    %d\\t     %d\\t     %d\\t      %d\\t       %d\\t       %d\\t\\n\" %(x[i],y[i],W[i],Wx[i],Wx2[i],Wy[i],Wxy[i])\n",
      "print \"-------------------------------------------------------------------------------------------------------------------------------------\\n\\n\"\n",
      "print \"%d\\t   %d\\t     %d\\t   %d\\t   %d\\t   %d\\t    %d\\t\\n\" %(S_x,S_y,S_W,S_Wx,S_Wx2,S_Wy,S_Wxy)\n",
      "X=A.I*C;\n",
      "print \"\\n\\nthe equation is y=%f+%fx\" %(X[0][0],X[1][0])\n"
     ],
     "language": "python",
     "metadata": {},
     "outputs": [
      {
       "output_type": "stream",
       "stream": "stdout",
       "text": [
        "x\t     y\t     W\t     Wx\t     Wx^2\t     Wy\t     Wxy\t\n",
        "\n",
        "\n",
        "0\t    -1\t     1\t     0\t      0\t       -1\t       0\t\n",
        "\n",
        "2\t    5\t     1\t     2\t      4\t       5\t       10\t\n",
        "\n",
        "5\t    12\t     10\t     50\t      250\t       120\t       600\t\n",
        "\n",
        "7\t    20\t     1\t     7\t      49\t       20\t       140\t\n",
        "\n",
        "-------------------------------------------------------------------------------------------------------------------------------------\n",
        "\n",
        "\n",
        "14\t   36\t     13\t   59\t   303\t   144\t    750\t\n",
        "\n",
        "\n",
        "\n",
        "the equation is y=-1.349345+2.737991x\n"
       ]
      }
     ],
     "prompt_number": 77
    },
    {
     "cell_type": "heading",
     "level": 2,
     "metadata": {},
     "source": [
      "Ex4.10:pg-139"
     ]
    },
    {
     "cell_type": "code",
     "collapsed": false,
     "input": [
      "#linear weighted least approx\n",
      "#example 4.10\n",
      "#page 139\n",
      "from numpy import matrix\n",
      "x=[0, 2, 5, 7]\n",
      "y=[-1, 5, 12, 20]\n",
      "w=100   #given weight 100\n",
      "W=[1, 1, 100, 1]\n",
      "Wx=[0,0,0,0]\n",
      "Wx2=[0,0,0,0]\n",
      "Wx3=[0,0,0,0]\n",
      "Wy=[0,0,0,0]\n",
      "Wxy=[0,0,0,0]\n",
      "for i in range(0,4):\n",
      "    Wx[i]=W[i]*x[i]\n",
      "    Wx2[i]=W[i]*x[i]**2\n",
      "    Wx3[i]=W[i]*x[i]**3\n",
      "    Wy[i]=W[i]*y[i]\n",
      "    Wxy[i]=W[i]*x[i]*y[i]\n",
      "S_x=0\n",
      "S_y=0\n",
      "S_W=0\n",
      "S_Wx=0\n",
      "S_Wx2=0\n",
      "S_Wy=0\n",
      "S_Wxy=0\n",
      "for i in range(0,4):\n",
      "    S_x=S_x+x[i]\n",
      "    S_y=S_y+y[i]\n",
      "    S_W=S_W+W[i]\n",
      "    S_Wx=S_Wx+Wx[i]\n",
      "    S_Wx2=S_Wx2+Wx2[i]\n",
      "    S_Wy=S_Wy+Wy[i]\n",
      "    S_Wxy=S_Wxy+Wxy[i]\n",
      "A=matrix([[S_W,S_Wx],[S_Wx,S_Wx2]])\n",
      "C=matrix([[S_Wy],[S_Wxy]])\n",
      "print \"x\\t          y\\t          W\\t             Wx\\t            Wx^2\\t             Wy\\t              Wxy\\t\\n\\n\"\n",
      "for i in range(0,4):\n",
      "    print \"%d\\t          %d\\t         %d\\t            %d\\t            %d\\t              %d\\t                 %d\\t\\n\" %(x[i],y[i],W[i],Wx[i],Wx2[i],Wy[i],Wxy[i])\n",
      "print \"-------------------------------------------------------------------------------------------------------------------------------------\\n\\n\"\n",
      "print \"%d\\t   %d\\t   %d\\t   %d\\t   %d\\t   %d\\t    %d\\t\\n\" %(S_x,S_y,S_W,S_Wx,S_Wx2,S_Wy,S_Wxy)\n",
      "X=A.I*C\n",
      "print \"\\n\\nthe equation is y=%f+%fx\" %(X[0][0],X[1][0])\n",
      "print \"\\n\\nthe value of y(4) is %f\" %(X[0][0]+X[1][0]*5)"
     ],
     "language": "python",
     "metadata": {},
     "outputs": [
      {
       "output_type": "stream",
       "stream": "stdout",
       "text": [
        "x\t          y\t          W\t             Wx\t            Wx^2\t             Wy\t              Wxy\t\n",
        "\n",
        "\n",
        "0\t          -1\t         1\t            0\t            0\t              -1\t                 0\t\n",
        "\n",
        "2\t          5\t         1\t            2\t            4\t              5\t                 10\t\n",
        "\n",
        "5\t          12\t         100\t            500\t            2500\t              1200\t                 6000\t\n",
        "\n",
        "7\t          20\t         1\t            7\t            49\t              20\t                 140\t\n",
        "\n",
        "-------------------------------------------------------------------------------------------------------------------------------------\n",
        "\n",
        "\n",
        "14\t   36\t   103\t   509\t   2553\t   1224\t    6150\t\n",
        "\n",
        "\n",
        "\n",
        "the equation is y=-1.412584+2.690562x\n",
        "\n",
        "\n",
        "the value of y(4) is 12.040227\n"
       ]
      }
     ],
     "prompt_number": 82
    }
   ],
   "metadata": {}
  }
 ]
}