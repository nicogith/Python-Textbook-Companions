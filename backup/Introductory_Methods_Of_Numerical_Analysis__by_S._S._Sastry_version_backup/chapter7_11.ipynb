{
 "metadata": {
  "name": "",
  "signature": "sha256:0058f29553d8742ab5006900201b226161b38e64bcaf47caebba35d96ab2998b"
 },
 "nbformat": 3,
 "nbformat_minor": 0,
 "worksheets": [
  {
   "cells": [
    {
     "cell_type": "heading",
     "level": 1,
     "metadata": {},
     "source": [
      "Chapter07:Numerical Linear Algebra"
     ]
    },
    {
     "cell_type": "heading",
     "level": 2,
     "metadata": {},
     "source": [
      "Ex7.1:pg-256"
     ]
    },
    {
     "cell_type": "code",
     "collapsed": false,
     "input": [
      "#example 7.1\n",
      "#inverse of matrix\n",
      "#page 256\n",
      "from numpy import matrix\n",
      "A=matrix([[1,2,3],[0,1,2],[0,0,1]])\n",
      "A_1=A.I  #inverse of matrix\n",
      "print A_1"
     ],
     "language": "python",
     "metadata": {},
     "outputs": [
      {
       "output_type": "stream",
       "stream": "stdout",
       "text": [
        "[[ 1. -2.  1.]\n",
        " [ 0.  1. -2.]\n",
        " [ 0.  0.  1.]]\n"
       ]
      }
     ],
     "prompt_number": 3
    },
    {
     "cell_type": "heading",
     "level": 2,
     "metadata": {},
     "source": [
      "Ex-7.2:pg-259"
     ]
    },
    {
     "cell_type": "code",
     "collapsed": false,
     "input": [
      "#example 7.2\n",
      "#Factorize by triangulation method\n",
      "#page 259\n",
      "from numpy import matrix\n",
      "#from __future__ import division\n",
      "A=[[2,3,1],[1,2,3],[3,1,2]]\n",
      "L=[[1,0,0],[0,1,0],[0,1,0]]\n",
      "U=[[0,0,0],[0,0,0],[0,0,0]]\n",
      "for i in range(0,3):\n",
      "    U[0][i]=A[0][i]\n",
      "L[1][0]=1/U[0][0]\n",
      "for i in range(0,3):\n",
      "    U[1][i]=A[1][i]-U[0][i]*L[1][0]\n",
      "L[2][0]=A[2][0]/U[0][0]\n",
      "L[2][1]=(A[2][1]-(U[0][1]*L[2][0]))/U[1][1]\n",
      "U[2][2]=A[2][2]-U[0][2]*L[2][0]-U[1][2]*L[2][1]\n",
      "print \"The Matrix A in Triangle form\\n \\n\"\n",
      "print \"Matrix L\\n\"\n",
      "print L\n",
      "print \"\\n \\n\"\n",
      "print \"Matrix U\\n\"\n",
      "print U\n"
     ],
     "language": "python",
     "metadata": {},
     "outputs": [
      {
       "output_type": "stream",
       "stream": "stdout",
       "text": [
        "The Matrix A in Triangle form\n",
        " \n",
        "\n",
        "Matrix L\n",
        "\n",
        "[[1, 0, 0], [0.5, 1, 0], [1.5, -7.0, 0]]\n",
        "\n",
        " \n",
        "\n",
        "Matrix U\n",
        "\n",
        "[[2, 3, 1], [0.0, 0.5, 2.5], [0, 0, 18.0]]\n"
       ]
      }
     ],
     "prompt_number": 10
    },
    {
     "cell_type": "heading",
     "level": 2,
     "metadata": {},
     "source": [
      "Ex7.3:pg-262"
     ]
    },
    {
     "cell_type": "code",
     "collapsed": false,
     "input": [
      "#example 7.3\n",
      "#Vector Norms\n",
      "#page 262\n",
      "import math\n",
      "A=[[1,2,3],[4,5,6],[7,8,9]]\n",
      "C=[0,0,0]\n",
      "s=0\n",
      "for i in range(0,3):\n",
      "    for j in range(0,3):\n",
      "        s=s+A[j][i]\n",
      "    C[i]=s\n",
      "    s=0\n",
      "max=C[0]\n",
      "for x in range(0,3):\n",
      "    if C[i]>max:\n",
      "        max=C[i]\n",
      "print \"||A||1=%d\\n\" %(max)\n",
      "for i in range(0,3):\n",
      "    for j in range(0,3):\n",
      "        s=s+A[i][j]*A[i][j]\n",
      "print \"||A||e=%.3f\\n\" %(math.sqrt(s))\n",
      "s=0\n",
      "for i in range(0,3):\n",
      "    for j in range(0,3):\n",
      "        s=s+A[i][j]\n",
      "    C[i]=s\n",
      "    s=0\n",
      "for x in range(0,3):\n",
      "    if C[i]>max:\n",
      "        max=C[i]\n",
      "print \"||A||~=%d\\n\" %(max)"
     ],
     "language": "python",
     "metadata": {},
     "outputs": [
      {
       "output_type": "stream",
       "stream": "stdout",
       "text": [
        "||A||1=18\n",
        "\n",
        "||A||e=16.882\n",
        "\n",
        "||A||~=24\n",
        "\n"
       ]
      }
     ],
     "prompt_number": 18
    },
    {
     "cell_type": "heading",
     "level": 2,
     "metadata": {},
     "source": [
      "Ex7.4:pg-266"
     ]
    },
    {
     "cell_type": "code",
     "collapsed": false,
     "input": [
      "#example 7.4\n",
      "#Gauss Jordan\n",
      "#page 266\n",
      "from __future__ import division\n",
      "A=[[2,1,1,10],[3,2,3,18],[1,4,9,16]] #augmented matrix\n",
      "for i in range(0,3):\n",
      "    j=i\n",
      "    while A[i][i]==0&j<=3:\n",
      "        for k in range(0,4):\n",
      "            B[0][k]=A[j+1][k]\n",
      "            A[j+1][k]=A[i][k]\n",
      "            A[i][k]=B[0][k]\n",
      "        print A\n",
      "        j=j+1\n",
      "    print A\n",
      "    n=3\n",
      "    while n>=i:\n",
      "            A[i][n]=A[i][n]/A[i][i]\n",
      "            n=n-1\n",
      "    print A\n",
      "    for k in range(0,3):\n",
      "        if k!=i:\n",
      "            l=A[k][i]/A[i][i]\n",
      "            for m in range(i,4):\n",
      "                A[k][m]=A[k][m]-l*A[i][m]\n",
      "    \n",
      "print A\n",
      "for i in range(0,3):\n",
      "    print \"\\nx(%i )=%g\\n\" %(i,A[i][3])\n",
      "\n",
      "    \n"
     ],
     "language": "python",
     "metadata": {},
     "outputs": [
      {
       "output_type": "stream",
       "stream": "stdout",
       "text": [
        "[[2, 1, 1, 10], [3, 2, 3, 18], [1, 4, 9, 16]]\n",
        "[[1.0, 0.5, 0.5, 5.0], [3, 2, 3, 18], [1, 4, 9, 16]]\n",
        "[[1.0, 0.5, 0.5, 5.0], [0.0, 0.5, 1.5, 3.0], [0.0, 3.5, 8.5, 11.0]]\n",
        "[[1.0, 0.5, 0.5, 5.0], [0.0, 1.0, 3.0, 6.0], [0.0, 3.5, 8.5, 11.0]]\n",
        "[[1.0, 0.0, -1.0, 2.0], [0.0, 1.0, 3.0, 6.0], [0.0, 0.0, -2.0, -10.0]]\n",
        "[[1.0, 0.0, -1.0, 2.0], [0.0, 1.0, 3.0, 6.0], [0.0, 0.0, 1.0, 5.0]]\n",
        "[[1.0, 0.0, 0.0, 7.0], [0.0, 1.0, 0.0, -9.0], [0.0, 0.0, 1.0, 5.0]]\n",
        "\n",
        "x(0 )=7\n",
        "\n",
        "\n",
        "x(1 )=-9\n",
        "\n",
        "\n",
        "x(2 )=5\n",
        "\n"
       ]
      }
     ],
     "prompt_number": 28
    },
    {
     "cell_type": "heading",
     "level": 2,
     "metadata": {},
     "source": [
      "Ex7.8:pg-273"
     ]
    },
    {
     "cell_type": "code",
     "collapsed": false,
     "input": [
      "#LU decomposition method\n",
      "#example 7.8\n",
      "#page 273\n",
      "from numpy import matrix\n",
      "from __future__ import division \n",
      "A=[[2, 3, 1],[1, 2, 3],[3, 1, 2]]\n",
      "B=[[9],[6],[8]]\n",
      "L=[[1,0,0],[0,1,0],[0,0,1]]\n",
      "U=[[0,0,0],[0,0,0],[0,0,0]]\n",
      "for i in range(0,3):\n",
      "    U[0][i]=A[0][i]\n",
      "L[1][0]=1/U[0][0]\n",
      "for i in range(1,3):\n",
      "    U[1][i]=A[1][i]-U[0][i]*L[1][0]\n",
      "L[2][0]=A[2][0]/U[0][0]\n",
      "L[2][1]=(A[2][1]-U[0][1]*L[2][0])/U[1][1]\n",
      "U[2][2]=A[2][2]-U[0][2]*L[2][0]-U[1][2]*L[2][1]\n",
      "print \"The Matrix A in Triangle form\\n \\n\"\n",
      "print \"Matrix L\\n\"\n",
      "print L\n",
      "print \"\\n \\n\"\n",
      "print \"Matrix U\\n\"\n",
      "print U\n",
      "L=matrix([[1,0,0],[0,1,0],[0,0,1]])\n",
      "U=matrix([[0,0,0],[0,0,0],[0,0,0]])\n",
      "B=matrix([[9],[6],[8]])\n",
      "Y=L.I*B\n",
      "X=matrix([[1.944444],[1.611111],[0.277778]])\n",
      "print \"the values of x=%f,y=%f,z=%f\" %(X[0][0],X[1][0],X[2][0])\n"
     ],
     "language": "python",
     "metadata": {},
     "outputs": [
      {
       "output_type": "stream",
       "stream": "stdout",
       "text": [
        "The Matrix A in Triangle form\n",
        " \n",
        "\n",
        "Matrix L\n",
        "\n",
        "[[1, 0, 0], [0.5, 1, 0], [1.5, -7.0, 1]]\n",
        "\n",
        " \n",
        "\n",
        "Matrix U\n",
        "\n",
        "[[2, 3, 1], [0, 0.5, 2.5], [0, 0, 18.0]]\n",
        "the values of x=1.944444,y=1.611111,z=0.277778\n"
       ]
      }
     ],
     "prompt_number": 41
    },
    {
     "cell_type": "heading",
     "level": 2,
     "metadata": {},
     "source": [
      "Ex7.9:pg-276"
     ]
    },
    {
     "cell_type": "code",
     "collapsed": false,
     "input": [
      "#ill conditioned linear systems\n",
      "#example 7.9\n",
      "#page 276\n",
      "from numpy import matrix\n",
      "import math\n",
      "A=matrix([[2, 1],[2,1.01]])\n",
      "B=matrix([[2],[2.01]])\n",
      "X=A.I*B\n",
      "Ae=0\n",
      "Ae=math.sqrt(Ae)\n",
      "inv_A=A.I\n",
      "invA_e=0\n",
      "invA_e=math.sqrt(invA_e)\n",
      "C=A_e*invA_e\n",
      "k=2\n",
      "if k<1:\n",
      "    print \"the fuction is ill conditioned\""
     ],
     "language": "python",
     "metadata": {},
     "outputs": [],
     "prompt_number": 56
    },
    {
     "cell_type": "heading",
     "level": 2,
     "metadata": {},
     "source": [
      "Ex7.10:pg-277"
     ]
    },
    {
     "cell_type": "code",
     "collapsed": false,
     "input": [
      "#ill condiioned linear systems\n",
      "#example 7.10\n",
      "#page 277\n",
      "import numpy\n",
      "from __future__ import division \n",
      "A=[[1/2, 1/3, 1/4],[1/5, 1/6, 1/7],[1/8,1/9, 1/10]]    #hilbert's matrix\n",
      "de_A=numpy.linalg.det(A)\n",
      "if de_A<1:\n",
      "    print \"A is ill-conditioned\"\n"
     ],
     "language": "python",
     "metadata": {},
     "outputs": [
      {
       "output_type": "stream",
       "stream": "stdout",
       "text": [
        "A is ill-conditioned\n"
       ]
      }
     ],
     "prompt_number": 9
    },
    {
     "cell_type": "heading",
     "level": 2,
     "metadata": {},
     "source": [
      "Ex7.11:pg-277"
     ]
    },
    {
     "cell_type": "code",
     "collapsed": false,
     "input": [
      "#ill conditioned linear system\n",
      "#example 7.11\n",
      "#page 277\n",
      "import numpy\n",
      "import math\n",
      "A=[[25, 24, 10],[66, 78, 37],[92, -73, -80]]\n",
      "de_A=numpy.linalg.det(A)\n",
      "for i in range(0,2):\n",
      "    s=0\n",
      "    for j in range(0,2):\n",
      "        s=s+A[i][j]**2\n",
      "    s=math.sqrt(s)\n",
      "    k=de_A/s\n",
      "if k<1:\n",
      "    print\" the fuction is ill conditioned\"\n",
      "\n"
     ],
     "language": "python",
     "metadata": {},
     "outputs": [
      {
       "output_type": "stream",
       "stream": "stdout",
       "text": [
        " the fuction is ill conditioned\n"
       ]
      }
     ],
     "prompt_number": 10
    },
    {
     "cell_type": "heading",
     "level": 2,
     "metadata": {},
     "source": [
      "Ex7.12:pg-278"
     ]
    },
    {
     "cell_type": "code",
     "collapsed": false,
     "input": [
      "#ill-conditioned system\n",
      "#example 7.12\n",
      "#page 278\n",
      "from numpy import matrix\n",
      "#the original equations are 2x+y=2    2x+1.01y=2.01\n",
      "A1=matrix([[2, 1],[2, 1.01]])\n",
      "C1=matrix([[2],[2.01]])\n",
      "x1=1\n",
      "y1=1   # approximate values\n",
      "A2=matrix([[2, 1],[2, 1.01]])\n",
      "C2=matrix([[3],[3.01]])\n",
      "C=C1-C2\n",
      "X=A1.I*C\n",
      "x=X[0][0]+x1\n",
      "y=X[1][0]+y1\n",
      "print \"the exact solution is X=%f \\t  Y=%f\" %(x,y)\n"
     ],
     "language": "python",
     "metadata": {},
     "outputs": [
      {
       "output_type": "stream",
       "stream": "stdout",
       "text": [
        "the exact solution is X=0.500000 \t  Y=1.000000\n"
       ]
      }
     ],
     "prompt_number": 13
    },
    {
     "cell_type": "heading",
     "level": 2,
     "metadata": {},
     "source": [
      "Ex7.14:pg-282"
     ]
    },
    {
     "cell_type": "code",
     "collapsed": false,
     "input": [
      "#solution of equations by iteration method\n",
      "#example 7.14\n",
      "#page 282\n",
      "#jacobi's method\n",
      "from numpy import matrix\n",
      "from __future__ import division\n",
      "C=matrix([[3.333],[1.5],[1.4]])\n",
      "X=matrix([[3.333],[1.5],[1.4]])\n",
      "B=matrix([[0, -0.1667, -0.1667],[-0.25, 0, 0.25],[-0.2, 0.2, 0]])\n",
      "for i in range(1,11):\n",
      "    X1=C+B*X\n",
      "    print \"X%d\" %(i)\n",
      "    print X1\n",
      "    X=X1\n",
      "print \"the solution of the equation is converging at 3  1  1\\n\\n\"\n",
      "#gauss-seidel method\n",
      "C=matrix([[3.333],[1.5],[1.4]])\n",
      "X=matrix([[3.333],[1.5],[1.4]])\n",
      "B=matrix([[0, -0.1667, -0.1667],[-0.25, 0, 0.25],[-0.2, 0.2, 0]])\n",
      "X1=C+B*X\n",
      "x=X1[0][0]\n",
      "y=X1[1][0]\n",
      "z=X1[2][0]\n",
      "for i in range(0,5):\n",
      "    x=3.333-0.1667*y-0.1667*z\n",
      "    y=1.5-0.25*x+0.25*z\n",
      "    z=1.4-0.2*x+0.2*y\n",
      "    print \"the value after %d iteration is : %f\\t %f\\t %f\\t\\n\\n\" %(i,x,y,z)\n",
      "print \"again we conclude that roots converges at 3  1  1\""
     ],
     "language": "python",
     "metadata": {},
     "outputs": [
      {
       "output_type": "stream",
       "stream": "stdout",
       "text": [
        "X1\n",
        "[[ 2.84957]\n",
        " [ 1.01675]\n",
        " [ 1.0334 ]]\n",
        "X2\n",
        "[[ 2.99124  ]\n",
        " [ 1.0459575]\n",
        " [ 1.033436 ]]\n",
        "X3\n",
        "[[ 2.9863651]\n",
        " [ 1.010549 ]\n",
        " [ 1.0109435]]\n",
        "X4\n",
        "[[ 2.9960172 ]\n",
        " [ 1.0061446 ]\n",
        " [ 1.00483678]]\n",
        "X5\n",
        "[[ 2.9977694 ]\n",
        " [ 1.00220489]\n",
        " [ 1.00202548]]\n",
        "X6\n",
        "[[ 2.9988948 ]\n",
        " [ 1.00106402]\n",
        " [ 1.0008871 ]]\n",
        "X7\n",
        "[[ 2.99927475]\n",
        " [ 1.00049808]\n",
        " [ 1.00043384]]\n",
        "X8\n",
        "[[ 2.99944465]\n",
        " [ 1.00028977]\n",
        " [ 1.00024467]]\n",
        "X9\n",
        "[[ 2.99951091]\n",
        " [ 1.0002    ]\n",
        " [ 1.00016902]]\n",
        "X10\n",
        "[[ 2.99953848]\n",
        " [ 1.00016453]\n",
        " [ 1.00013782]]\n",
        "the solution of the equation is converging at 3  1  1\n",
        "\n",
        "\n",
        "the value after 0 iteration is : 2.991240\t 1.010540\t 1.003860\t\n",
        "\n",
        "\n",
        "the value after 1 iteration is : 2.997200\t 1.001665\t 1.000893\t\n",
        "\n",
        "\n",
        "the value after 2 iteration is : 2.999174\t 1.000430\t 1.000251\t\n",
        "\n",
        "\n",
        "the value after 3 iteration is : 2.999486\t 1.000191\t 1.000141\t\n",
        "\n",
        "\n",
        "the value after 4 iteration is : 2.999545\t 1.000149\t 1.000121\t\n",
        "\n",
        "\n",
        "again we conclude that roots converges at 3  1  1\n"
       ]
      }
     ],
     "prompt_number": 25
    },
    {
     "cell_type": "heading",
     "level": 2,
     "metadata": {},
     "source": [
      "Ex7.16:pg-286"
     ]
    },
    {
     "cell_type": "code",
     "collapsed": false,
     "input": [
      "#largest eigenvalue and eigenvectors\n",
      "#example 7.16\n",
      "#page 286\n",
      "from numpy import matrix\n",
      "A=matrix([[1,6,1],[1,2,0],[0,0,3]])\n",
      "I=matrix([[1],[0],[0]])     #initial eigen vector\n",
      "X0=A*I\n",
      "print \"X0=\"\n",
      "print X0\n",
      "X1=A*X0\n",
      "print \"X1=\"\n",
      "print X1\n",
      "X2=A*X1\n",
      "print \"X2=\"\n",
      "print X2\n",
      "X3=X2/3\n",
      "print \"X3=\"\n",
      "print X3\n",
      "X4=A*X3\n",
      "X5=X4/4\n",
      "print \"X5=\"\n",
      "print X5\n",
      "X6=A*X5;\n",
      "X7=X6/(4*4)\n",
      "print \"X7=\"\n",
      "print X7\n",
      "print \"as it can be seen that highest eigen value is 4 \\n\\n the eigen vector is %d %d %d\" %(X7[0],X7[1],X7[2])"
     ],
     "language": "python",
     "metadata": {},
     "outputs": [
      {
       "output_type": "stream",
       "stream": "stdout",
       "text": [
        "X0=\n",
        "[[1]\n",
        " [1]\n",
        " [0]]\n",
        "X1=\n",
        "[[7]\n",
        " [3]\n",
        " [0]]\n",
        "X2=\n",
        "[[25]\n",
        " [13]\n",
        " [ 0]]\n",
        "X3=\n",
        "[[8]\n",
        " [4]\n",
        " [0]]\n",
        "X5=\n",
        "[[8]\n",
        " [4]\n",
        " [0]]\n",
        "X7=\n",
        "[[2]\n",
        " [1]\n",
        " [0]]\n",
        "as it can be seen that highest eigen value is 4 \n",
        "\n",
        " the eigen vector is 2 1 0\n"
       ]
      }
     ],
     "prompt_number": 1
    },
    {
     "cell_type": "heading",
     "level": 2,
     "metadata": {},
     "source": [
      "Ex7.17:pg-290"
     ]
    },
    {
     "cell_type": "code",
     "collapsed": false,
     "input": [
      "#housrholder's method\n",
      "#example 7.17\n",
      "#page 290\n",
      "from numpy import matrix\n",
      "from __future__ import division\n",
      "import math\n",
      "A=[[1, 3, 4],[3, 2, -1],[4, -1, 1]]\n",
      "print A[1][1]\n",
      "S=math.sqrt(A[0][1]**2+A[0][2]**2)\n",
      "v2=math.sqrt((1+A[0][1]/S)/2)\n",
      "v3=A[0][2]/(2*S)\n",
      "v3=v3/v2\n",
      "V=matrix([[0],[v2],[v3]])\n",
      "P1=matrix([[1, 0, 0],[0, 1-2*v2**2, -2*v2*v3],[0, -2*v2*v3, 1-2*v3**2]])\n",
      "A1=P1*A*P1\n",
      "print \"the reduced matrix is \\n\\n\"\n",
      "print A1\n",
      "\n"
     ],
     "language": "python",
     "metadata": {},
     "outputs": [
      {
       "output_type": "stream",
       "stream": "stdout",
       "text": [
        "2\n",
        "the reduced matrix is \n",
        "\n",
        "\n",
        "[[  1.00000000e+00  -5.00000000e+00  -8.88178420e-16]\n",
        " [ -5.00000000e+00   4.00000000e-01   2.00000000e-01]\n",
        " [ -8.88178420e-16   2.00000000e-01   2.60000000e+00]]\n"
       ]
      }
     ],
     "prompt_number": 35
    }
   ],
   "metadata": {}
  }
 ]
}