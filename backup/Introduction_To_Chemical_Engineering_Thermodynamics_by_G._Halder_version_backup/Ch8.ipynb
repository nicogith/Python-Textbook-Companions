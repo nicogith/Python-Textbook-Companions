{
 "cells": [
  {
   "cell_type": "markdown",
   "metadata": {},
   "source": [
    "# Chapter 8 - Refrigeration and liquifaction processes"
   ]
  },
  {
   "cell_type": "markdown",
   "metadata": {},
   "source": [
    "## Example: 8.1 Page: 297"
   ]
  },
  {
   "cell_type": "code",
   "execution_count": 1,
   "metadata": {
    "collapsed": false
   },
   "outputs": [
    {
     "name": "stdout",
     "output_type": "stream",
     "text": [
      "Example: 8.1 - Page: 297\n",
      "\n",
      "\n",
      "The coeffecient of performance of the cycle is 7.91\n",
      "\n",
      "The power required is 3.79 kW\n",
      "\n",
      "The rate of heat rejection in the room is 33.79 kW\n"
     ]
    }
   ],
   "source": [
    "from __future__ import division\n",
    "print \"Example: 8.1 - Page: 297\\n\\n\"\n",
    "\n",
    "# Solution\n",
    "\n",
    "#*****Data******#\n",
    "Tl = 273 - 4## [K]\n",
    "Th = 273 + 30## [K]\n",
    "Ql = 30## [kW]\n",
    "#*************\n",
    "\n",
    "# Solution (a)\n",
    "COP = Tl/(Th - Tl)#\n",
    "print \"The coeffecient of performance of the cycle is %.2f\\n\"%(COP)\n",
    "\n",
    "# Solution (b)\n",
    "Wnet = Ql/COP## [kW]\n",
    "print \"The power required is %.2f kW\\n\"%(Wnet)\n",
    "\n",
    "# Solution (c)\n",
    "Qh = Wnet + Ql## [kW]\n",
    "print \"The rate of heat rejection in the room is %.2f kW\"%(Qh)#"
   ]
  },
  {
   "cell_type": "markdown",
   "metadata": {},
   "source": [
    "## Example: 8.2 Page: 298"
   ]
  },
  {
   "cell_type": "code",
   "execution_count": 2,
   "metadata": {
    "collapsed": false
   },
   "outputs": [
    {
     "name": "stdout",
     "output_type": "stream",
     "text": [
      "Example: 8.2 - Page: 298\n",
      "\n",
      "\n",
      "The power consumption is 0.735 kW\n",
      "\n",
      "Cooling Effect produced is 2.862 kW\n",
      "\n"
     ]
    }
   ],
   "source": [
    "print \"Example: 8.2 - Page: 298\\n\\n\"\n",
    "\n",
    "# Solution\n",
    "\n",
    "#*****Data******#\n",
    "Tl = -10 + 273## [K]\n",
    "Th = 45 + 273## [K]\n",
    "Ql = 1## [ton]\n",
    "#*************\n",
    "\n",
    "# Solution (a)\n",
    "COP = Tl/(Th - Tl)#\n",
    "Wnet = Ql*3.516/COP## [kW]\n",
    "print \"The power consumption is %.3f kW\\n\"%(Wnet)\n",
    "\n",
    "# Solution (b)\n",
    "Tl = -20 + 273## [K]\n",
    "Th = 45 + 273## [K]\n",
    "COP = Tl/(Th - Tl)#\n",
    "Ql = Wnet*COP## [kW]\n",
    "print \"Cooling Effect produced is %.3f kW\\n\"%(Ql)#"
   ]
  },
  {
   "cell_type": "markdown",
   "metadata": {},
   "source": [
    "## Example: 8.3 Page: 298"
   ]
  },
  {
   "cell_type": "code",
   "execution_count": 3,
   "metadata": {
    "collapsed": false
   },
   "outputs": [
    {
     "name": "stdout",
     "output_type": "stream",
     "text": [
      "Example: 8.3 - Page: 298\n",
      "\n",
      "\n",
      "Increase in percentage of work output is 22.97 %\n"
     ]
    }
   ],
   "source": [
    "print \"Example: 8.3 - Page: 298\\n\\n\"\n",
    "\n",
    "# Solution\n",
    "\n",
    "# From Example 8.2:\n",
    "\n",
    "# For refrigerated space:\n",
    "# Wnet = Ql/4.78 = 0.209*Ql\n",
    "\n",
    "# For freezer box.\n",
    "# Wnet = Ql/3.89 = 0.257*Ql\n",
    "\n",
    "percent = ((0.257 - 0.209)/0.209)*100#\n",
    "print \"Increase in percentage of work output is %.2f %%\"%(percent)#"
   ]
  },
  {
   "cell_type": "markdown",
   "metadata": {},
   "source": [
    "## Example: 8.4 Page: 299"
   ]
  },
  {
   "cell_type": "code",
   "execution_count": 4,
   "metadata": {
    "collapsed": false
   },
   "outputs": [
    {
     "name": "stdout",
     "output_type": "stream",
     "text": [
      "Example: 8.4 - Page: 299\n",
      "\n",
      "\n",
      "Coeffecient of performance of Carnot Heat Pump is 12.38\n",
      "\n",
      "Power input can be estimated as 2.02 kW\n",
      "\n"
     ]
    }
   ],
   "source": [
    "print \"Example: 8.4 - Page: 299\\n\\n\"\n",
    "\n",
    "# Solution\n",
    "\n",
    "#*****Data******#\n",
    "Th = 273 + 24## [K]\n",
    "Tl = 0 + 273## [K]\n",
    "Qh = 25## [kW]\n",
    "#*************\n",
    "\n",
    "COP = Th/(Th - Tl)#\n",
    "Wnet = Qh/COP## [kW]\n",
    "print \"Coeffecient of performance of Carnot Heat Pump is %.2f\\n\"%(COP)#\n",
    "print \"Power input can be estimated as %.2f kW\\n\"%(Wnet)#"
   ]
  },
  {
   "cell_type": "markdown",
   "metadata": {},
   "source": [
    "## Example: 8.5 Page: 299"
   ]
  },
  {
   "cell_type": "code",
   "execution_count": 5,
   "metadata": {
    "collapsed": false
   },
   "outputs": [
    {
     "name": "stdout",
     "output_type": "stream",
     "text": [
      "Example: 8.5 - Page: 299\n",
      "\n",
      "\n",
      "Minimum Power input required is 1.669 kW\n",
      "\n"
     ]
    }
   ],
   "source": [
    "print \"Example: 8.5 - Page: 299\\n\\n\"\n",
    "\n",
    "# Solution\n",
    "\n",
    "#*****Data******#\n",
    "Tl = -2 + 273## [K]\n",
    "Th = 20 + 273## [K]\n",
    "Qh = 80000## [kJ/h]\n",
    "#*************\n",
    "\n",
    "Ql = Qh*Tl/Th## [kJ/h]\n",
    "Wnet = Qh - Ql## [kJ/h]\n",
    "print \"Minimum Power input required is %.3f kW\\n\"%(Wnet/3600)#"
   ]
  },
  {
   "cell_type": "markdown",
   "metadata": {},
   "source": [
    "## Example: 8.6 Page: 303"
   ]
  },
  {
   "cell_type": "code",
   "execution_count": 6,
   "metadata": {
    "collapsed": false
   },
   "outputs": [
    {
     "name": "stdout",
     "output_type": "stream",
     "text": [
      "Example: 8.6 - Page: 303\n",
      "\n",
      "\n",
      "Enthalpy of saturated vapour is 6.65\n",
      "\n",
      "Refrigerating Effect is 113 kJ/kg\n",
      "\n",
      "The COP of an ideal Carnot refrigerator is 6.83\n",
      "\n",
      "Work done by the compression is 17.00 kJ/kg\n",
      "\n"
     ]
    }
   ],
   "source": [
    "print \"Example: 8.6 - Page: 303\\n\\n\"\n",
    "\n",
    "# Solution\n",
    "\n",
    "#*****Data******#\n",
    "Tl = 273## [K]\n",
    "Th = 313## [K]\n",
    "H1 = 187## [Enthalpy of saturated vapour at 273 K, kJ/kg]\n",
    "H3 = 74## [Enthalpy of saturated liquid at 313 K,kJ/kg]\n",
    "H4 = H3## [kJ/kg]\n",
    "H2 = 204## [Enthalpy of Supersaturated Vapour at 273 K, kJ/kg]\n",
    "#****************\n",
    "\n",
    "# Solution (i)\n",
    "# COP = Ql/Wnet#\n",
    "COP = ((H1 - H4)/(H2 - H1))#\n",
    "print \"Enthalpy of saturated vapour is %.2f\\n\"%(COP)\n",
    "\n",
    "# Solution (ii)\n",
    "Ref_Effect = H1 - H4## [kJ/kg]\n",
    "print \"Refrigerating Effect is %d kJ/kg\\n\"%(Ref_Effect)\n",
    "\n",
    "# Solution (iii)\n",
    "COP = Tl/(Th - Tl)#\n",
    "print \"The COP of an ideal Carnot refrigerator is %.2f\\n\"%(COP)\n",
    "\n",
    "# Solution (iv)\n",
    "W = H2 - H1## [kJ/kg]\n",
    "print \"Work done by the compression is %.2f kJ/kg\\n\"%(W)#"
   ]
  },
  {
   "cell_type": "markdown",
   "metadata": {},
   "source": [
    "## Example: 8.7 Page: 304"
   ]
  },
  {
   "cell_type": "code",
   "execution_count": 7,
   "metadata": {
    "collapsed": false
   },
   "outputs": [
    {
     "name": "stdout",
     "output_type": "stream",
     "text": [
      "Example: 8.7 - Page: 304\n",
      "\n",
      "\n",
      "Amount of heat removed from cold space is 9.18 kW\n",
      "\n",
      "THe power input required is 1.92 kW\n",
      "\n",
      "COP of refrigeration of cycle is 4.77\n",
      "\n"
     ]
    }
   ],
   "source": [
    "print \"Example: 8.7 - Page: 304\\n\\n\"\n",
    "\n",
    "# Solution\n",
    "\n",
    "#*****Data******#\n",
    "P1 = 0.18## [MPa]\n",
    "T1 = -10 + 273## [K]\n",
    "mdot = 0.06## [kg/s]\n",
    "P2 = 1## [MPa]\n",
    "T2 = 45 + 273## [K]\n",
    "T = 273 + 29## [K]\n",
    "P = 0.75## [MPa]\n",
    "H1 = 245.16## [Enthalpy of superheated vapour at -10 OC & 0.18 MPa, kJ/kg]\n",
    "H2 = 277.2## [Enthalpy of superheated vapour at 45 OC & 1 MPa, kJ/kg]\n",
    "H3 = 92.22## [Enthalpy of saturated liquid at 29 OC & 0.75 MPa, kJ/kg]\n",
    "H4 = H3## [kJ/kg]\n",
    "#*************\n",
    "\n",
    "# Solution (a)\n",
    "Ql = mdot*(H1 - H4)## [kW]\n",
    "print \"Amount of heat removed from cold space is %.2f kW\\n\"%(Ql)\n",
    "\n",
    "# Solution (b)\n",
    "Wnet = mdot*(H2 - H1)## [kW]\n",
    "print \"THe power input required is %.2f kW\\n\"%(Wnet)\n",
    "\n",
    "# Solution (c)\n",
    "COP = Ql/Wnet#\n",
    "print \"COP of refrigeration of cycle is %.2f\\n\"%(COP)#"
   ]
  },
  {
   "cell_type": "markdown",
   "metadata": {},
   "source": [
    "## Example: 8.8 Page: 305"
   ]
  },
  {
   "cell_type": "code",
   "execution_count": 8,
   "metadata": {
    "collapsed": false
   },
   "outputs": [
    {
     "name": "stdout",
     "output_type": "stream",
     "text": [
      "Example: 8.8 - Page: 305\n",
      "\n",
      "\n",
      "Mass flow rate of the refrigerant is 0.1546 kg/s\n",
      "\n",
      "Power consumption in the compression is 4.57 kW\n",
      "\n",
      "The amount of heat rejected in the condenser is 22.15 kW\n",
      "\n",
      "Relative COP is 0.78\n",
      "\n"
     ]
    }
   ],
   "source": [
    "print \"Example: 8.8 - Page: 305\\n\\n\"\n",
    "\n",
    "# Solution\n",
    "\n",
    "#*****Data******#\n",
    "Ql = 5## [tons]\n",
    "Tl = -10 + 273## [K]\n",
    "Th = 35 + 273## [K]\n",
    "eta = 0.85#\n",
    "H1 = 183.2## [Enthalpy of saturated vapour at 263 K, kJ/kg]\n",
    "H2 = 208.3## [Enthalpy of superheated vapour, kJ/kg]\n",
    "H3 = 69.5## [Enthalpy of saturated vapour at 308 K, kJ/kg]\n",
    "H4 = H3## [kJ/kg]\n",
    "#***************\n",
    "\n",
    "# Solution (a)\n",
    "# Mass flow rate:\n",
    "Ql = Ql*3.516## [kW]\n",
    "mdot = Ql/(H1 - H4)## [kW]\n",
    "print \"Mass flow rate of the refrigerant is %.4f kg/s\\n\"%(mdot)\n",
    "\n",
    "# Solution (b)\n",
    "W = H2 - H1## [kJ/kg]\n",
    "Wnet = W*mdot/eta## [kW]\n",
    "print \"Power consumption in the compression is %.2f kW\\n\"%(Wnet)\n",
    "\n",
    "# Solution (c)\n",
    "Qh = Ql + Wnet## [kW]\n",
    "print \"The amount of heat rejected in the condenser is %.2f kW\\n\"%(Qh)\n",
    "\n",
    "# Solution (d)\n",
    "COP_VapourCompression = (H1 - H4)/(H2 - H1)#\n",
    "COP_Carnot = Tl/(Th - Tl)#\n",
    "COP_relative = COP_VapourCompression/COP_Carnot#\n",
    "print \"Relative COP is %.2f\\n\"%(COP_relative)#"
   ]
  },
  {
   "cell_type": "markdown",
   "metadata": {},
   "source": [
    "## Example: 8.9 Page: 308"
   ]
  },
  {
   "cell_type": "code",
   "execution_count": 10,
   "metadata": {
    "collapsed": false
   },
   "outputs": [
    {
     "name": "stdout",
     "output_type": "stream",
     "text": [
      "Example: 8.9 - Page: 308\n",
      "\n",
      "\n",
      "Claim is Valid and reasonable\n"
     ]
    }
   ],
   "source": [
    "print \"Example: 8.9 - Page: 308\\n\\n\"\n",
    "\n",
    "# Solution\n",
    "\n",
    "#*****Data******#\n",
    "Th = 273 + 125## [K]\n",
    "Tl = 273 - 5## [K]\n",
    "Ts = 273 + 28## [K]\n",
    "COP = 2#\n",
    "#*************\n",
    "\n",
    "COP_absorption = (Tl/(Ts - Tl))*((Th - Ts)/Th)#\n",
    "if ((COP - 0.1) < COP_absorption) or ((COP + 0.1) > COP_absorption):\n",
    "    print \"Claim is Valid and reasonable\"\n",
    "else:\n",
    "    print \"Claim is not Valid\"\n"
   ]
  },
  {
   "cell_type": "markdown",
   "metadata": {},
   "source": [
    "## Example: 8.10 Page: 313"
   ]
  },
  {
   "cell_type": "code",
   "execution_count": 11,
   "metadata": {
    "collapsed": false
   },
   "outputs": [
    {
     "name": "stdout",
     "output_type": "stream",
     "text": [
      "Example: 8.10 - Page: 313\n",
      "\n",
      "\n",
      "COP of Air Refrigeration System is 2.06\n",
      "\n",
      "Mass flow rate of the refrigerant is 1279.07 kg/h\n",
      "\n",
      "The work of Compression is 26.13 kW\n",
      "\n",
      "The work of expansion is 17.58 kW\n",
      "\n",
      "Net work of the system is 8.55 kW\n",
      "\n"
     ]
    }
   ],
   "source": [
    "print \"Example: 8.10 - Page: 313\\n\\n\"\n",
    "\n",
    "# Solution\n",
    "\n",
    "#*****Data******#\n",
    "Q = 5## [tons]\n",
    "T1 = 253## [Temperature of the working fluid leaving the evaporator, K]\n",
    "T2 = 303## [Temperature of the working fluid leaving the evaporator, K]\n",
    "T3 = 303## [K]\n",
    "Pressure_Ratio = 4#\n",
    "C = 1.008## [kJ/kg]\n",
    "gama = 1.4#\n",
    "#**************\n",
    "\n",
    "# Solution (a)\n",
    "T2 = T1*((Pressure_Ratio)**((gama - 1)/gama))## [K]\n",
    "T2 = T1*(Pressure_Ratio)**((gama - 1)/gama)## [K]\n",
    "T4 = T3/((Pressure_Ratio)**((gama - 1)/gama))## [K]\n",
    "COP = T1/(T2 - T1)#\n",
    "print \"COP of Air Refrigeration System is %.2f\\n\"%(COP)\n",
    "\n",
    "# Solution (b)\n",
    "mdot = Q*12660/(C*(T1 - T4))## [kg/h]\n",
    "print \"Mass flow rate of the refrigerant is %.2f kg/h\\n\"%(mdot)\n",
    "\n",
    "# Solution (c)\n",
    "Wcompression = mdot*C*(T2 - T3)## [kJ/h]\n",
    "print \"The work of Compression is %.2f kW\\n\"%(Wcompression/3600)\n",
    "\n",
    "# Solution (d)\n",
    "Wexpansion = mdot*C*(T1 - T4)## [kJ/h]\n",
    "print \"The work of expansion is %.2f kW\\n\"%(Wexpansion/3600)\n",
    "\n",
    "# Solution (e)\n",
    "Wnet = Wcompression - Wexpansion## [kJ/h]\n",
    "print \"Net work of the system is %.2f kW\\n\"%(Wnet/3600)#"
   ]
  }
 ],
 "metadata": {
  "kernelspec": {
   "display_name": "Python 2",
   "language": "python",
   "name": "python2"
  },
  "language_info": {
   "codemirror_mode": {
    "name": "ipython",
    "version": 2
   },
   "file_extension": ".py",
   "mimetype": "text/x-python",
   "name": "python",
   "nbconvert_exporter": "python",
   "pygments_lexer": "ipython2",
   "version": "2.7.9"
  }
 },
 "nbformat": 4,
 "nbformat_minor": 0
}
