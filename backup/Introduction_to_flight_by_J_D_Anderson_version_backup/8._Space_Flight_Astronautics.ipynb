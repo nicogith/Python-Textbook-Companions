{
 "cells": [
  {
   "cell_type": "markdown",
   "metadata": {},
   "source": [
    "# Chapter 8: Space Flight (Astronautics)"
   ]
  },
  {
   "cell_type": "markdown",
   "metadata": {},
   "source": [
    "## Example 8.1"
   ]
  },
  {
   "cell_type": "code",
   "execution_count": 1,
   "metadata": {
    "collapsed": false
   },
   "outputs": [
    {
     "name": "stdout",
     "output_type": "stream",
     "text": [
      "Pressure after compression is P2:  1487.1 KPa\n",
      "Coefficient of performance of refrigerator:  5.55\n"
     ]
    }
   ],
   "source": [
    "# -*- coding: utf8 -*-\n",
    "from __future__ import division\n",
    "#Example: 8.1\n",
    "''' Consider a Carnot-cycle heat pump with R-134a as the working ﬂuid. Heat is absorbed\n",
    "into the R-134a at 0◦C, during which process it changes from a two-phase state to saturated\n",
    "vapor. The heat is rejected from the R-134a at 60◦C and ends up as saturated liquid. Find\n",
    "the pressure after compression, before the heat rejection process, and determine the COP\n",
    "for the cycle.'''\n",
    "\n",
    "#Variable Declaration: \n",
    "Th = 60 \t\t\t#temperature at which heat is rejected from R-134a\n",
    "Tl = 0 \t\t\t\t#temperature at which heat is absorbed into the R-134a \n",
    "s1 = 1.7262 \t\t#specific entropy at 0 Celsius\n",
    "s3 = 1.2857 \t\t#specific entropy at 60 celsius\n",
    "s4 = s3 \t\t\t#process of state change from 3-4 is isentropic\n",
    "\n",
    "#Calculations:\n",
    "s2 = s1 \t\t\t#process of state change from 1-2 is isentropic \n",
    "P2 = 1400+(1600-1400)*(1.7262-1.736)/(1.7135-1.736) \t\t#pressure after compression in kPa\n",
    "B = (Th+273)/(Th-Tl)#coefficient of performance of refrigerator\n",
    "\n",
    "#Results:\n",
    "print \"Pressure after compression is P2: \",round(P2,1) ,'KPa'\n",
    "print \"Coefficient of performance of refrigerator: \",round(B,2)"
   ]
  },
  {
   "cell_type": "markdown",
   "metadata": {},
   "source": [
    "## Example 8.2"
   ]
  },
  {
   "cell_type": "code",
   "execution_count": 2,
   "metadata": {
    "collapsed": false
   },
   "outputs": [
    {
     "name": "stdout",
     "output_type": "stream",
     "text": [
      "Work required to accomplish the process:  73.7 KJ\n",
      "Heat transfer:  277.9 KJ\n"
     ]
    }
   ],
   "source": [
    "# -*- coding: utf8 -*-\n",
    "from __future__ import division\n",
    "#Example: 8.2\n",
    "''' A cylinder/piston setup contains 1 L of saturated liquid refrigerant R-410a at 20◦C.\n",
    "The piston now slowly expands, maintaining constant temperature to a ﬁnal pressure of\n",
    "400 kPa in a reversible process. Calculate the work and heat transfer required to accom-\n",
    "plish this process'''\n",
    "\n",
    "#Variable Declaration: \n",
    "u1 = 87.94 \t\t\t\t\t#specific internal energy of R-12 at state 1 in kJ/kg\n",
    "u2 = 276.44 \t\t\t\t#specific internal energy of R-12 at state 2 in kJ/kg\n",
    "s1 = 0.3357 \t\t\t\t#specific entropy at state 1 in kJ/kg-K\n",
    "s2 = 1.2108 \t\t\t\t#specific entropy at state 2 in kJ/kg-K\n",
    "V = 0.001 \t\t\t\t\t#volume of saturated liquid in m**3\n",
    "v1 = 0.000923 \t\t\t\t#specific volume in m**3/kg\n",
    "T = 20 \t\t\t\t\t\t#temperature of liquid in celsius\n",
    "\n",
    "#Calculations:\n",
    "m = V/v1 \t\t\t\t\t#mass of saturated liquid in kg\n",
    "Q12 = m*(T+273.15)*(s2-s1) \t#heat transfer in kJ to accomplish the process\n",
    "W12 = m*(u1-u2)+Q12 \t\t#work required to accomplish the process\n",
    "\n",
    "#Results\n",
    "print \"Work required to accomplish the process: \",round(W12,1),'KJ'\n",
    "print \"Heat transfer: \",round(Q12,1),'KJ'"
   ]
  },
  {
   "cell_type": "markdown",
   "metadata": {},
   "source": [
    "## Example 8.3"
   ]
  },
  {
   "cell_type": "code",
   "execution_count": 3,
   "metadata": {
    "collapsed": false
   },
   "outputs": [
    {
     "name": "stdout",
     "output_type": "stream",
     "text": [
      "Change in entropy assuming constant specific heat:  0.8958 KJ/Kg-K\n",
      "Using steam table:  0.8959 KJ/Kg-K\n"
     ]
    }
   ],
   "source": [
    "# -*- coding: utf8 -*-\n",
    "from __future__ import division\n",
    "from math import log\n",
    "#Example: 8.3\n",
    "''' One kilogram of liquid water is heated from 20◦C to 90◦C. Calculate the entropy change,\n",
    "assuming constant speciﬁc heat, and compare the result with that found when using the\n",
    "steam tables.\n",
    "Control mass: Water.\n",
    "Initial and ﬁnal states: Known.\n",
    "Model: Constant speciﬁc heat, value at room temperature.'''\n",
    "\n",
    "#Variable Declaration: \n",
    "C = 4.184 \t\t# specific heat of water in kJ/kg-K\n",
    "T1 = 20 \t\t#initial temperature of water in celsius\n",
    "T2 = 90 \t\t#final temperature of water in celsius\n",
    "\n",
    "#Calculations:\n",
    "dS1 = C*log((T2+273.2)/(T1+273.2)) \t\t#change in entropy in kJ/kg-K\n",
    "dS2 = 1.1925-0.2966 \t\t#in kJ/kg-K using steam tables\n",
    "\n",
    "#Results\n",
    "print \"Change in entropy assuming constant specific heat: \",round(dS1,4),'KJ/Kg-K'\n",
    "print \"Using steam table: \",round(dS2,4) ,'KJ/Kg-K'"
   ]
  },
  {
   "cell_type": "markdown",
   "metadata": {},
   "source": [
    "## Example 8.4"
   ]
  },
  {
   "cell_type": "code",
   "execution_count": 4,
   "metadata": {
    "collapsed": false
   },
   "outputs": [
    {
     "name": "stdout",
     "output_type": "stream",
     "text": [
      "Change in entropy using ideal gas tables:  1.7228 KJ/Kg-K\n",
      "Change in entropy using empirical equation:  1.7058 KJ/Kg-K\n",
      "Change in entropy using the value of specific heat at 300K:  1.5586 KJ/Kg-K\n",
      "Change in entropy assuming specific heat is constant at its value at 900K:  1.8076 KJ/Kg-K\n"
     ]
    }
   ],
   "source": [
    "# -*- coding: utf8 -*-\n",
    "from __future__ import division\n",
    "from math import log\n",
    "from sympy import symbols, integrate\n",
    "#Example: 8.4\n",
    "''' Consider Example 5.7, in which oxygen is heated from 300 to 1500 K. Assume that during\n",
    "this process the pressure dropped from 200 to 150 kPa. Calculate the change in entropy\n",
    "per kilogram.'''\n",
    "\n",
    "#Variable Declaration: \n",
    "T1 = 300 \t\t#initial temperature in kelvins\n",
    "T2 = 1500 \t\t#final temperature in kelvins\n",
    "P1 = 200 \t\t#initial pressure in kPa\n",
    "P2 = 150 \t\t#final pressure in kPa\n",
    "R = 0.2598 \t\t# in kJ/kg-K\n",
    "Cp = 0.922 \t\t#specific heat in kJ/kg-K at constant pressure\n",
    "dsT2 = 8.0649 \t#in kJ/kg-K\n",
    "dsT1 = 6.4168 \t#in kJ/kg-K\n",
    "x = symbols('x')#Symbolic representation of theta \n",
    "\n",
    "#Calculations:\n",
    "dS1 = dsT2-dsT1-R*log(P2/P1) \t\t#entropy change calculated using ideal gas tables\n",
    "dS2 = integrate(0.88/x-0.0001+0.54*x-0.33*x**2,(x,0.3,1.5))-R*log(P2/P1) \t\t#entropy change calculated using empirical equation \n",
    "dS3 = Cp*log(T2/T1)-R*log(P2/P1) \t#entropy change assuming constant specific heat in kJ/kg-K\n",
    "dS4 = 1.0767*log(T2/T1)+0.0747 \t\t#entropy change assuming specific heat is constant at its value at 990K\n",
    "\n",
    "#Results\n",
    "print \"Change in entropy using ideal gas tables: \",round(dS1,4),'KJ/Kg-K'\n",
    "print \"Change in entropy using empirical equation: \",round(dS2,4),'KJ/Kg-K'\n",
    "print \"Change in entropy using the value of specific heat at 300K: \",round(dS3,4),'KJ/Kg-K'\n",
    "print \"Change in entropy assuming specific heat is constant at its value at 900K: \",round(dS4,4),'KJ/Kg-K'"
   ]
  },
  {
   "cell_type": "markdown",
   "metadata": {},
   "source": [
    "## Example 8.5"
   ]
  },
  {
   "cell_type": "code",
   "execution_count": 5,
   "metadata": {
    "collapsed": false
   },
   "outputs": [
    {
     "name": "stdout",
     "output_type": "stream",
     "text": [
      "Entropy change assuming constant specific heat:  0.7785 KJ/Kg-K\n",
      "Assuming variable specific heat:  0.7897 KJ/Kg-K\n"
     ]
    }
   ],
   "source": [
    "# -*- coding: utf8 -*-\n",
    "from __future__ import division\n",
    "from math import log\n",
    "#Example: 8.5\n",
    "''' Calculate the change in entropy per kilogram as air is heated from 300 to 600 K while\n",
    "pressure drops from 400 to 300 kPa. Assume:\n",
    "1. Constant speciﬁc heat.\n",
    "2. Variable speciﬁc heat.'''\n",
    "\n",
    "#Variable Declaration: \n",
    "Cp = 1.004 \t\t\t#specific heat at constant pressure in kJ/kg-K\n",
    "R = 0.287 \t\t\t#gas constant in kJ/kg-K\n",
    "P1 = 400 \t\t\t#initial pressure in kPa\n",
    "P2 = 300 \t\t\t#final pressure in kPa\n",
    "T1 = 300 \t\t\t#initial temperature in K\n",
    "T2 = 600 \t\t\t#final temperature in K\n",
    "s1 = 6.8693 \t\t#specific entropy at T1\n",
    "s2 = 7.5764 \t\t#specific entropy at T2\n",
    "\n",
    "#Calculations:\n",
    "dS1 = Cp*log(T2/T1)-R*log(P2/P1)#entropy change assuming constant specific heat\n",
    "dS2 = s2-s1-R*log(P2/P1) \t\t#entropy change assuming variable specific heat\n",
    "\n",
    "#Results\n",
    "print \"Entropy change assuming constant specific heat: \",round(dS1,4),'KJ/Kg-K'\n",
    "print \"Assuming variable specific heat: \",round(dS2,4),'KJ/Kg-K'"
   ]
  },
  {
   "cell_type": "markdown",
   "metadata": {},
   "source": [
    "## Example 8.6"
   ]
  },
  {
   "cell_type": "code",
   "execution_count": 6,
   "metadata": {
    "collapsed": false
   },
   "outputs": [
    {
     "name": "stdout",
     "output_type": "stream",
     "text": [
      "Work done by air:  106.96 KJ/Kg\n"
     ]
    }
   ],
   "source": [
    "# -*- coding: utf8 -*-\n",
    "from __future__ import division\n",
    "from math import log\n",
    "#Example: 8.6\n",
    "''' One kilogram of air is contained in a cylinder ﬁtted with a piston at a pressure of 400\n",
    "kPa and a temperature of 600 K. The air is expanded to 150 kPa in a reversible adiabatic\n",
    "process. Calculate the work done by the air.\n",
    "Control mass: Air.\n",
    "Initial state: P 1 , T 1 ; state 1 ﬁxed.\n",
    "Final state: P 2 .\n",
    "Process: Reversible and adiabatic.\n",
    "Model: Ideal gas and air tables, Table A.7.'''\n",
    "\n",
    "#Variable Declaration: \n",
    "T1 = 600 \t\t\t\t#initial temperature of air in K\n",
    "P1 = 400 \t\t\t\t#intial pressure of air in kPa\n",
    "P2 = 150 \t\t\t\t#final pressure in kPa\n",
    "u1 = 435.10 \t\t\t#specific internal energy at temperature T1 in kJ/kg\n",
    "sT1 = 7.5764 \t\t\t#specific entropy at temperature T1 in kJ/kg-K\n",
    "R = 0.287 \t\t\t\t#gas constant in kJ/kg-K\n",
    "ds = 0\n",
    "T2 = 457 \t\t\t\t#final temperature in K\n",
    "u2 = 328.14 \t\t\t#specific internal energy at temperature T2 in kJ/kg\n",
    "\n",
    "#Calculations:\n",
    "sT2 = ds+sT1+R*log(P2/P1)#specific entropy at temperature T2 in kJ/kg-K\n",
    "w = u1-u2 \t\t\t\t#work done by air in kJ/kg\n",
    "\n",
    "#Results\n",
    "print \"Work done by air: \",round(w,2),'KJ/Kg'"
   ]
  },
  {
   "cell_type": "markdown",
   "metadata": {},
   "source": [
    "## Example 8.7"
   ]
  },
  {
   "cell_type": "code",
   "execution_count": 7,
   "metadata": {
    "collapsed": false
   },
   "outputs": [
    {
     "name": "stdout",
     "output_type": "stream",
     "text": [
      "Work done is w12:  -130.5 KJ/Kg\n",
      "Heat transfer are:  -32.2 KJ/Kg\n"
     ]
    }
   ],
   "source": [
    "# -*- coding: utf8 -*-\n",
    "from __future__ import division\n",
    "#Example: 8.7\n",
    "''' In a reversible process, nitrogen is compressed in a cylinder from 100 kPa and 20◦\n",
    "C to 500 kPa. During this compression process, the relation between pressure and volume is\n",
    "PV 1.3 = constant. Calculate the work and heat transfer per kilogram, and show this process\n",
    "on P–v and T–s diagrams.\n",
    "Control mass: Nitrogen.\n",
    "Initial state: P 1 , T 1 ; state 1 known.\n",
    "Final state: P 2 .\n",
    "Process: Reversible, polytropic with exponent n < k.\n",
    "Diagram: Fig. 8.14.\n",
    "Model: Ideal gas, constant speciﬁc heat—value at 300 K.'''\n",
    "\n",
    "#Variable Declaration: \n",
    "P2 = 500  \t\t\t\t\t#final pressure in cylinder in kPa\n",
    "P1 = 100 \t\t\t\t\t#initial pressure in cylinder in kPa\n",
    "T1 = 20+273.2 \t\t\t\t#initial temperature inside cylinder in Kelvins\n",
    "n = 1.3 \n",
    "R = 0.2968 \t\t\t\t\t#gas constant in kJ/kg-K\n",
    "Cvo = 0.745 \t\t\t\t#specific heat at constant volume in kJ/kg-K\n",
    "\n",
    "#Calculations:\n",
    "T2 = (T1)*(P2/P1)**((n-1)/n)#final temperature inside cylinder in K\n",
    "w12 = R*(T2-T1)/(1-n) \t\t#work in kJ/kg\n",
    "q12 = Cvo*(T2-T1)+w12 \t\t#heat transfer in kJ/kg\n",
    "\n",
    "#Results\n",
    "print \"Work done is w12: \",round(w12,1),\"KJ/Kg\"\n",
    "print \"Heat transfer are: \",round(q12,1),\"KJ/Kg\""
   ]
  },
  {
   "cell_type": "markdown",
   "metadata": {},
   "source": [
    "## Example 8.8"
   ]
  },
  {
   "cell_type": "code",
   "execution_count": 8,
   "metadata": {
    "collapsed": false
   },
   "outputs": [
    {
     "name": "stdout",
     "output_type": "stream",
     "text": [
      "Increase in entropy of water plus surr: 1.522 KJ/K\n"
     ]
    }
   ],
   "source": [
    "# -*- coding: utf8 -*-\n",
    "from __future__ import division\n",
    "#Example: 8.8\n",
    "'''Consider an electric space heater that converts 1 kW of electric power into a heat ﬂux of\n",
    "1 kW delivered at 600 K from the hot wire surface. Let us look at the process of the energy\n",
    "conversion from electricity to heat transfer and ﬁnd the rate of total entropy generation.\n",
    "Control mass: The electric heater wire.\n",
    "State: Constant wire temperature 600 K.'''\n",
    "\n",
    "#Variable Declaration: \n",
    "m = 1 \t\t\t\t\t#mass of saturated water vapour\n",
    "sfg = 6.0480 \t\t\t#in kJ/K\n",
    "T = 25 \t\t\t\t\t#temperature of surrounding air in celsius\n",
    "hfg = 2257.0 \t\t\t#in kJ/kg\n",
    "\n",
    "#Calculations:\n",
    "dScm = -m*sfg \t\t\t#change in entropy of control mass in kJ/K\n",
    "Qsurr = m*hfg \t\t\t#heat transferred to surr in kJ\n",
    "dSsurr = Qsurr/(T+273.15)#in kJ/K\n",
    "dSnet = dScm+dSsurr\t\t#net increase in entropy in kJ/K\n",
    "\n",
    "#Results:\n",
    "print \"Increase in entropy of water plus surr:\",round(dSnet,4)  ,'KJ/K'"
   ]
  },
  {
   "cell_type": "markdown",
   "metadata": {},
   "source": [
    "## Example 8.9"
   ]
  },
  {
   "cell_type": "code",
   "execution_count": 9,
   "metadata": {
    "collapsed": false
   },
   "outputs": [
    {
     "name": "stdout",
     "output_type": "stream",
     "text": [
      "Entropy generation is:  0.00167 KW/K\n"
     ]
    }
   ],
   "source": [
    "# -*- coding: utf8 -*-\n",
    "from __future__ import division\n",
    "#Example: 8.9\n",
    "''' Consider an electric space heater that converts 1 kW of electric power into a heat ﬂux of\n",
    "1 kW delivered at 600 K from the hot wire surface. Let us look at the process of the energy\n",
    "conversion from electricity to heat transfer and ﬁnd the rate of total entropy generation.\n",
    "Control mass: The electric heater wire.\n",
    "State: Constant wire temperature 600 K.'''\n",
    "\n",
    "#Variable Declaration: \n",
    "Qout = 1 \t\t#value of heat flux generated by 1kW of electric power\n",
    "T = 600 \t\t#temperature of hot wire surface in K\n",
    "\n",
    "#Calculations:\n",
    "Sgen = Qout/T \t\t#entropy generation in kW/K\n",
    "\n",
    "#Results\n",
    "print \"Entropy generation is: \",round(Sgen,5),'KW/K'"
   ]
  },
  {
   "cell_type": "markdown",
   "metadata": {},
   "source": [
    "## Example 8.10"
   ]
  },
  {
   "cell_type": "code",
   "execution_count": 10,
   "metadata": {
    "collapsed": false
   },
   "outputs": [
    {
     "name": "stdout",
     "output_type": "stream",
     "text": [
      "Total entropy generated:  29.3 W/K\n"
     ]
    }
   ],
   "source": [
    "# -*- coding: utf8 -*-\n",
    "from __future__ import division\n",
    "#Example: 8.10\n",
    "''' Consider a modern air conditioner using R-410a working in heat pump mode, as shown in\n",
    "Fig. 8.21. It has a COP of 4 with 10 kW of power input. The cold side is buried underground,\n",
    "where it is 8◦C, and the hot side is a house kept at 21◦C. For simplicity, assume that the\n",
    "cycle has a high temperature of 50◦C and a low temperature of −10◦C (recall Section\n",
    "7.10). We would like to know where entropy is generated associated with the heat pump,\n",
    "assuming steady-state operation.'''\n",
    "\n",
    "#Variable Declaration: \n",
    "B = 4 \t\t\t\t\t#COP of air conditioner\n",
    "W = 10 \t\t\t\t\t#power input of air conditioner in kW\n",
    "Thigh = 323 \t\t\t#in Kelvin\n",
    "Tlow = 263 \t\t\t\t#in Kelvin\n",
    "Tl = 281 \t\t\t\t#in K\n",
    "Th = 294 \t\t\t\t#in K\n",
    "\n",
    "#Calculations:\n",
    "Qh = B*W \t\t\t\t#in kW\n",
    "Ql = Qh-W \t\t\t\t#in kW\n",
    "SgenHP = (Qh*1000/Thigh)-(Ql*1000/Tlow)\t#in W/K\n",
    "SgenCV1 = Ql*1000/Tlow-Ql*1000/Tl \t\t#in W/K\n",
    "SgenCV2 = Qh*1000/Th-Qh*1000/Thigh \t\t#in W/K\n",
    "SgenTOT = SgenCV1+SgenCV2+SgenHP \t\t#in W/K\n",
    "\n",
    "#Results\n",
    "print \"Total entropy generated: \",round(SgenTOT,1),'W/K'"
   ]
  }
 ],
 "metadata": {
  "kernelspec": {
   "display_name": "Python 2",
   "language": "python",
   "name": "python2"
  },
  "language_info": {
   "codemirror_mode": {
    "name": "ipython",
    "version": 2
   },
   "file_extension": ".py",
   "mimetype": "text/x-python",
   "name": "python",
   "nbconvert_exporter": "python",
   "pygments_lexer": "ipython2",
   "version": "2.7.6"
  }
 },
 "nbformat": 4,
 "nbformat_minor": 0
}
