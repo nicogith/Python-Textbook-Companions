{
 "cells": [
  {
   "cell_type": "markdown",
   "metadata": {},
   "source": [
    "# Chapter 3: The Standard Atmosphere"
   ]
  },
  {
   "cell_type": "markdown",
   "metadata": {},
   "source": [
    "## Example 3.1"
   ]
  },
  {
   "cell_type": "code",
   "execution_count": 1,
   "metadata": {
    "collapsed": false
   },
   "outputs": [
    {
     "name": "stdout",
     "output_type": "stream",
     "text": [
      "Theoretical question\n"
     ]
    }
   ],
   "source": [
    "# -*- coding: utf8 -*-\n",
    "from __future__ import division\n",
    "#Example: 3.1\n",
    "''' Determine the phase for each of the following water states using the tables in Appendix\n",
    "B and indicate the relative position in the P–v, T–v, and P–T diagrams. '''\n",
    "\n",
    "print 'Theoretical question';"
   ]
  },
  {
   "cell_type": "markdown",
   "metadata": {},
   "source": [
    "## Example 3.2"
   ]
  },
  {
   "cell_type": "code",
   "execution_count": 2,
   "metadata": {
    "collapsed": false
   },
   "outputs": [
    {
     "name": "stdout",
     "output_type": "stream",
     "text": [
      "Theoretical question\n"
     ]
    }
   ],
   "source": [
    "# -*- coding: utf8 -*-\n",
    "from __future__ import division\n",
    "#Example: 3.2\n",
    "'''Determine the phase for each of the following states using the tables in Appendix B and\n",
    "indicate the relative position in the P–v, T–v, and P–T diagrams, as in Figs. 3.11 and\n",
    "3.12.'''\n",
    "\n",
    "print 'Theoretical question';"
   ]
  },
  {
   "cell_type": "markdown",
   "metadata": {},
   "source": [
    "## Example 3.3"
   ]
  },
  {
   "cell_type": "code",
   "execution_count": 3,
   "metadata": {
    "collapsed": false
   },
   "outputs": [
    {
     "name": "stdout",
     "output_type": "stream",
     "text": [
      "Theoretical question\n"
     ]
    }
   ],
   "source": [
    "# -*- coding: utf8 -*-\n",
    "from __future__ import division\n",
    "#Example: 3.3\n",
    "'''Determine the temperature and quality (if defined) for water at a pressure of 300 kPa and\n",
    "at each of these specific volumes:\n",
    "a. 0.5 m3/kg\n",
    "b. 1.0 m3/kg'''\n",
    "\n",
    "print 'Theoretical question';"
   ]
  },
  {
   "cell_type": "markdown",
   "metadata": {},
   "source": [
    "## Example 3.4"
   ]
  },
  {
   "cell_type": "code",
   "execution_count": 4,
   "metadata": {
    "collapsed": false
   },
   "outputs": [
    {
     "name": "stdout",
     "output_type": "stream",
     "text": [
      "Vapor on mass basis: 22.12 %\n"
     ]
    }
   ],
   "source": [
    "# -*- coding: utf8 -*-\n",
    "from __future__ import division\n",
    "#Example: 3.4\n",
    "'''A closed vessel contains 0.1 m3 of saturated liquid and 0.9 m3 of saturated vapor R-134a\n",
    "in equilibrium at 30◦C. Determine the percent vapor on a mass basis.'''\n",
    "\n",
    "#Variable Declaration: \n",
    "vliq = 0.1 \t\t#Volume of saturated liquid in m**3\n",
    "vf = 0.000843 \t#in m**3/kg\n",
    "vvap = 0.9 \t\t#Volume of saturated vapor R-134a in equilbrium\n",
    "vg = 0.02671 \t#in m**3/kg\n",
    "\n",
    "#Calculation:\n",
    "mliq = vliq/vf \t#Mass of liquid in kg \n",
    "mvap = vvap/vg \t#Mass of vapor in kg\n",
    "m = mliq+mvap \t#Total mass in kg\n",
    "x = mvap/m \t\t#Percentage of vapor on mass basis\n",
    "\n",
    "#Result:\n",
    "print 'Vapor on mass basis:',round(x*100,2),'%'"
   ]
  },
  {
   "cell_type": "markdown",
   "metadata": {},
   "source": [
    "## Example 3.5"
   ]
  },
  {
   "cell_type": "code",
   "execution_count": 5,
   "metadata": {
    "collapsed": false
   },
   "outputs": [
    {
     "name": "stdout",
     "output_type": "stream",
     "text": [
      "Final pressure is(by interpolation): 945 KPa\n"
     ]
    }
   ],
   "source": [
    "# -*- coding: utf8 -*-\n",
    "from __future__ import division\n",
    "#Example: 3.5\n",
    "'''A rigid vessel contains saturated ammonia vapor at 20◦C. Heat is transferred to the system\n",
    "until the temperature reaches 40◦C. What is the final pressure?'''\n",
    "\n",
    "#Variable Declaration: \n",
    "v1 = 0.14922 \t#specific volume of sautrated ammonia in m**3/kg\n",
    "P2 = 945 \t\t#final pressure in kPa\n",
    "\n",
    "#Calculation:\n",
    "v2 = v1 \t\t#in m**3/kg\n",
    "\n",
    "print 'Final pressure is(by interpolation):',P2,'KPa'"
   ]
  },
  {
   "cell_type": "markdown",
   "metadata": {},
   "source": [
    "## Example 3.6"
   ]
  },
  {
   "cell_type": "code",
   "execution_count": 6,
   "metadata": {
    "collapsed": false
   },
   "outputs": [
    {
     "name": "stdout",
     "output_type": "stream",
     "text": [
      "Pressure is:  779.2 Kpa\n",
      "Quality is:  0.2201\n"
     ]
    }
   ],
   "source": [
    "# -*- coding: utf8 -*-\n",
    "from __future__ import division\n",
    "#Example: 3.6\n",
    "'''Determine the missing property of P–v–T and x if applicable for the following states.\n",
    "a. Nitrogen: −53.2◦C, 600 kPa\n",
    "b. Nitrogen: 100 K, 0.008 m3/kg'''\n",
    "\n",
    "#Variable Declaration: \n",
    "T1 = 273-53.2 \t#Given temperature in K\n",
    "P1 = 600 \t\t#Given pressure in kPa\n",
    "T2 = 100 \t\t#Given temp. in K\n",
    "v2 = 0.008 \t\t#Given specific volume in m**3/kg\n",
    "vf = 0.001452 \t#in m**3/kg\n",
    "vg = 0.0312 \t#in m**3/kg\n",
    "Psat = 779.2 \t#Saturation pressure in kPa\n",
    "\n",
    "#Calculation:\n",
    "vfg = vg-vf \t#in m**3/kg\n",
    "x = (v2-vf)/vfg \t#Quality\n",
    "\n",
    "#Result:\n",
    "print \"Pressure is: \",round(Psat,2),\"Kpa\"\n",
    "print \"Quality is: \",round(x,4)"
   ]
  },
  {
   "cell_type": "markdown",
   "metadata": {},
   "source": [
    "## Example 3.7"
   ]
  },
  {
   "cell_type": "code",
   "execution_count": 7,
   "metadata": {
    "collapsed": false
   },
   "outputs": [
    {
     "name": "stdout",
     "output_type": "stream",
     "text": [
      "Pressure of water: 534.2 KPa\n"
     ]
    }
   ],
   "source": [
    "# -*- coding: utf8 -*-\n",
    "from __future__ import division\n",
    "#Example: 3.7\n",
    "'''Determine the pressure for water at 200◦C with v = 0.4 m3/kg.'''\n",
    "\n",
    "#Variable Declaration: \n",
    "vg = 0.12736 \t#Specific volume in m**3/kg for water at 200C\n",
    "v = 0.4 \t\t#Specific volume in m**3/kg\n",
    "P1 = 500 \t\t#in kPa\n",
    "v1 = 0.42492 \t#Specific volume at P1 in m**3/kg\n",
    "P2 = 600 \t\t#in kPa\n",
    "v2 = 0.35202 \t#Specific volume at P2 in m**3/kg\n",
    "\n",
    "#Calculation:\n",
    "P = P1+(P2-P1)*(v-v1)/(v2-v1) #Calculating pressure by interplotation\n",
    "\n",
    "#Result:\n",
    "print 'Pressure of water:',round(P,1),'KPa'"
   ]
  },
  {
   "cell_type": "markdown",
   "metadata": {},
   "source": [
    "## Example 3.8"
   ]
  },
  {
   "cell_type": "code",
   "execution_count": 8,
   "metadata": {
    "collapsed": false
   },
   "outputs": [
    {
     "name": "stdout",
     "output_type": "stream",
     "text": [
      "Mass of air contained in room is: 280.43 Kg\n"
     ]
    }
   ],
   "source": [
    "# -*- coding: utf8 -*-\n",
    "from __future__ import division\n",
    "#Example: 3.8\n",
    "'''What is the mass of air contained in a room 6 m × 10 m × 4 m if the pressure is 100 kPa\n",
    "and the temperature is 25◦C?'''\n",
    "\n",
    "#Variable Declaration: \n",
    "P = 100 \t\t#Pressure in kPa\n",
    "V = 6*10*4 \t\t#Volume of room in m**3\n",
    "R = 0.287 \t\t#in kN-m/kg-K\n",
    "T = 25 \t\t#Temperature in Celsius\n",
    "\n",
    "#Calculation:\n",
    "m = P*V/(R*(T+273.2)) \t#Mass of air contained in room\n",
    "\n",
    "#Result:\n",
    "print \"Mass of air contained in room is:\",round(m,2),\"Kg\""
   ]
  },
  {
   "cell_type": "markdown",
   "metadata": {},
   "source": [
    "## Example 3.9"
   ]
  },
  {
   "cell_type": "code",
   "execution_count": 9,
   "metadata": {
    "collapsed": false
   },
   "outputs": [
    {
     "name": "stdout",
     "output_type": "stream",
     "text": [
      "Pressure inside tank is:  2066.0 KPa\n"
     ]
    }
   ],
   "source": [
    "# -*- coding: utf8 -*-\n",
    "from __future__ import division\n",
    "#Example: 3.9\n",
    "'''A tank has a volume of 0.5 m3 and contains 10 kg of an ideal gas having a molecular mass\n",
    "of 24. The temperature is 25◦C. What is the pressure?'''\n",
    "\n",
    "#Variable Declaration: \n",
    "V = 0.5 \t\t#Volumr of tank in m**3\n",
    "m = 10 \t\t#Mass of ideal gas in kg\n",
    "T = 25 \t\t#Temperature of tank in Celsius\n",
    "M = 24 \t\t#Molecular mass of gas in kg/kmol\n",
    "Ru = 8.3145 \t#Vniversal gas constant in kN-m/kmol-K\n",
    "\n",
    "#Calculation:\n",
    "R = Ru/M \t\t#Gas constant for given ideal gas in kN-m/kg-K\n",
    "P = m*R*(T+273.2)/V#Pressure inside tank\n",
    "\n",
    "#Result:\n",
    "print \"Pressure inside tank is: \",round(P),\"KPa\""
   ]
  },
  {
   "cell_type": "markdown",
   "metadata": {},
   "source": [
    "## Example 3.10"
   ]
  },
  {
   "cell_type": "code",
   "execution_count": 10,
   "metadata": {
    "collapsed": false
   },
   "outputs": [
    {
     "name": "stdout",
     "output_type": "stream",
     "text": [
      "Volume flow rate is:  0.004054 m**3/s\n",
      "Mass flow rate is:  0.00766 Kg/s\n"
     ]
    }
   ],
   "source": [
    "# -*- coding: utf8 -*-\n",
    "from __future__ import division\n",
    "#Example: 3.10\n",
    "'''A gas bell is submerged in liquid water, with its mass counterbalanced with rope and\n",
    "pulleys, as shown in Fig. 3.20. The pressure inside is measured carefully to be 105 kPa,\n",
    "and the temperature is 21◦C. A volume increase is measured to be 0.75 m3 over a period\n",
    "of 185 s. What is the volume flow rate and the mass flow rate of the flow into the bell,\n",
    "assuming it is carbon dioxide gas?'''\n",
    "\n",
    "#Variable Declaration: \n",
    "dt = 185 \t\t#Time period in seconds over which there is incrrease in volume \n",
    "dV = 0.75 \t\t#Increase in volume in 0.75 in m**3\n",
    "P = 105 \t\t#Pressure inside gas bell kPa\n",
    "T = 21 \t\t#Temperature in celsius\n",
    "R = 0.1889 \t\t#Ideal gas constant in kJ/kg-K\n",
    "\n",
    "#Calculation:\n",
    "V = dV/dt \t\t#Volume flow rate in m**3/s\n",
    "m = P*V/(R*(T+273.15))#Mass flow rate of the flow in kg/s\n",
    "\n",
    "#Result:\n",
    "print \"Volume flow rate is: \",round(V,6),\"m**3/s\"\n",
    "print \"Mass flow rate is: \",round(m,5),\"Kg/s\"\n"
   ]
  },
  {
   "cell_type": "markdown",
   "metadata": {},
   "source": [
    "## Example 3.12"
   ]
  },
  {
   "cell_type": "code",
   "execution_count": 11,
   "metadata": {
    "collapsed": false
   },
   "outputs": [
    {
     "name": "stdout",
     "output_type": "stream",
     "text": [
      "Specific volume for R-134a using R-134a tables is:  0.0065 m**3/kg\n",
      "Specific volume for R-134a using R-134a the ideal gas laws is: 0.01011 m**3/kg\n",
      "Specific volume for R-134a using the generalized chart is:  0.00677 m**3/kg\n"
     ]
    }
   ],
   "source": [
    "# -*- coding: utf8 -*-\n",
    "from __future__ import division\n",
    "#Example: 3.12\n",
    "'''Determine the specific volume for R-134a at 100◦C, 3.0 MPa for the following models:'''\n",
    "\n",
    "#Variable Declaration: \n",
    "T = 100 \t\t#Given temp.in 100 celsius\n",
    "P = 3 \t\t#Given pressure in MPa\n",
    "v1 = 0.0065 \t#Specific volume in m**3/kg using table\n",
    "M = 102.3 \t\t#Molecular mass in kg\n",
    "R = 8.3145 \t\t#in kJ/K\n",
    "Tr = 373.2/374.2 \t#Reduced temperature using generalized chart\n",
    "Pr = 3/4.06 \t#Reduced pressure using generalized chart\n",
    "Z = 0.67 \t\t#Compressibility factor \n",
    "\n",
    "#Calculation:\n",
    "Ru = R/M \t\t#in kJ/K-kg\n",
    "v2 = Ru*(T+273)/(P*1000)#Specific volume assuming R-134a to be ideal gas in m**3/kg\n",
    "v3 = Z*v2 \t\t#Specific volume using generalized chart in m**3/kg\n",
    "\n",
    "#Result:\n",
    "print \"Specific volume for R-134a using R-134a tables is: \",round(v1,5),\"m**3/kg\"\n",
    "print \"Specific volume for R-134a using R-134a the ideal gas laws is:\",round(v2,5),\"m**3/kg\"\n",
    "print \"Specific volume for R-134a using the generalized chart is: \",round(v3,5),\"m**3/kg\"\n"
   ]
  },
  {
   "cell_type": "markdown",
   "metadata": {},
   "source": [
    "## Example 3.13"
   ]
  },
  {
   "cell_type": "code",
   "execution_count": 12,
   "metadata": {
    "collapsed": false
   },
   "outputs": [
    {
     "name": "stdout",
     "output_type": "stream",
     "text": [
      "Pressure is P: 850.0 KPa\n",
      "Total propane mass is:  13.66 Kg\n"
     ]
    }
   ],
   "source": [
    "# -*- coding: utf8 -*-\n",
    "from __future__ import division\n",
    "#Example: 3.13\n",
    "'''Propane in a steel bottle of volume 0.1 m3 has a quality of 10% at a temperature of 15◦C.\n",
    "Use the generalized compressibility chart to estimate the total propane mass and to find\n",
    "the pressure.'''\n",
    "\n",
    "#Variable Declaration: \n",
    "Pc = 4250 \t\t#Critical pressure of propane in kPa\n",
    "Tc = 369.8 \t\t#Critical temperature in K\n",
    "T = 15 \t\t#Temperature of propane in celsius\n",
    "Prsat = 0.2 \t#Reduced pressure \n",
    "x = 0.1 \t\t#Given quality\n",
    "Zf = 0.035 \t\t#from graph\n",
    "Zg = 0.83 \t\t#from graph\n",
    "V = 0.1 \t\t#Volume of steel bottle in m**3\n",
    "R = 0.1887 \t\t#in kPa-m**3/kg-K\n",
    "\n",
    "#Calculation:\n",
    "Tr = T/Tc \t\t#Reduced temperature\n",
    "P = Prsat*Pc \t#Pressure in kPa\n",
    "Z = (1-x)*Zf+x*Zg #Overall compressibility factor\n",
    "m = P*V/(Z*R*(T+273))#Total propane mass in kg\n",
    "\n",
    "#Result:\n",
    "print \"Pressure is P:\",round(P,2),\"KPa\"\n",
    "print \"Total propane mass is: \",round(m,2),\"Kg\"\n"
   ]
  }
 ],
 "metadata": {
  "kernelspec": {
   "display_name": "Python 2",
   "language": "python",
   "name": "python2"
  },
  "language_info": {
   "codemirror_mode": {
    "name": "ipython",
    "version": 2
   },
   "file_extension": ".py",
   "mimetype": "text/x-python",
   "name": "python",
   "nbconvert_exporter": "python",
   "pygments_lexer": "ipython2",
   "version": "2.7.6"
  }
 },
 "nbformat": 4,
 "nbformat_minor": 0
}
