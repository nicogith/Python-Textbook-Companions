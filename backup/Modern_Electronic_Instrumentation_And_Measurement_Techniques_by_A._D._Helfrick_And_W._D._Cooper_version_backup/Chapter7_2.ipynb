{
 "metadata": {
  "name": "",
  "signature": "sha256:e7340f8f28dc1125639b884b427c98c7b76b7b5253f0bd98a418a9d51e4810f2"
 },
 "nbformat": 3,
 "nbformat_minor": 0,
 "worksheets": [
  {
   "cells": [
    {
     "cell_type": "heading",
     "level": 1,
     "metadata": {},
     "source": [
      "Chapter 7:Oscilloscopes\n"
     ]
    },
    {
     "cell_type": "heading",
     "level": 2,
     "metadata": {},
     "source": [
      "Ex7.1:pg-184"
     ]
    },
    {
     "cell_type": "code",
     "collapsed": false,
     "input": [
      "# To find minimum distance\n",
      "# Modern Electronic Instrumentation And Measurement Techniques\n",
      "# By Albert D. Helfrick, William D. Cooper\n",
      "# First Edition Second Impression, 2009\n",
      "# Dorling Kindersly Pvt. Ltd. India\n",
      "# Example 7-1 in Page 184\n",
      "\n",
      "\n",
      "\n",
      "\n",
      "# Given data\n",
      "D = 4*10**-2 #Deflection on the screen in m\n",
      "G = 100*100 # Deflection factor in V/m\n",
      "E_a = 2000 #Accelarating potential in V\n",
      "\n",
      "#Calculations\n",
      "# wkt. L = 2*d*E_a/(G*I_d)\n",
      "\n",
      "#Also L/D = I_d / d\n",
      "#Therefore\n",
      "\n",
      "L = math.sqrt(2*D*E_a/G)\n",
      "print \"The distance from the deflection plates to the oscilloscope tube screen = \",round(L,3),\"m\"\n",
      "\n",
      "#Result\n",
      "# The distance from the deflection plates to the oscilloscope tube screen = 0.126 m \n",
      "\n"
     ],
     "language": "python",
     "metadata": {},
     "outputs": [
      {
       "output_type": "stream",
       "stream": "stdout",
       "text": [
        "The distance from the deflection plates to the oscilloscope tube screen =  0.126 m\n"
       ]
      }
     ],
     "prompt_number": 2
    }
   ],
   "metadata": {}
  }
 ]
}