{
 "metadata": {
  "name": "",
  "signature": "sha256:732d8b53b905e9628a3915cdb529a16e94d453d40d081213ccbffa2aa86b0393"
 },
 "nbformat": 3,
 "nbformat_minor": 0,
 "worksheets": [
  {
   "cells": [
    {
     "cell_type": "heading",
     "level": 1,
     "metadata": {},
     "source": [
      "Chapter 11: Transducers as Input Elements to Instrumentation Systems"
     ]
    },
    {
     "cell_type": "heading",
     "level": 2,
     "metadata": {},
     "source": [
      "Ex11.1:pg-317"
     ]
    },
    {
     "cell_type": "code",
     "collapsed": false,
     "input": [
      "# To find change in resistance\n",
      "# Modern Electronic Instrumentation And Measurement Techniques\n",
      "# By Albert D. Helfrick, William D. Cooper\n",
      "# First Edition Second Impression, 2009\n",
      "# Dorling Kindersly Pvt. Ltd. India\n",
      "# Example 11-1 in Page 317\n",
      "\n",
      "\n",
      "\n",
      "\n",
      "# Given data\n",
      "K =2 #Gauge factor \n",
      "s = 1050 #stress in kg/cm**2\n",
      "E = 2.1*10**6 #modulus of elasticity of steel in kg/cm**2\n",
      "\n",
      "#Calculations\n",
      "strain = s/E #Hooke's law\n",
      "change_in_resistance = K*strain\n",
      "percentchange = change_in_resistance * 100\n",
      "\n",
      "print \"The change in resistance = \",round(change_in_resistance,3)\n",
      "print \"The percentage change in resistance = \",round(percentchange,1),\"%\"\n",
      "\n",
      "#Result\n",
      "# The change in resistance = 0.001\n",
      "# The percentage change in resistance = 0.1 % \n"
     ],
     "language": "python",
     "metadata": {},
     "outputs": [
      {
       "output_type": "stream",
       "stream": "stdout",
       "text": [
        "The change in resistance =  0.001\n",
        "The percentage change in resistance =  0.1 %\n"
       ]
      }
     ],
     "prompt_number": 3
    }
   ],
   "metadata": {}
  }
 ]
}