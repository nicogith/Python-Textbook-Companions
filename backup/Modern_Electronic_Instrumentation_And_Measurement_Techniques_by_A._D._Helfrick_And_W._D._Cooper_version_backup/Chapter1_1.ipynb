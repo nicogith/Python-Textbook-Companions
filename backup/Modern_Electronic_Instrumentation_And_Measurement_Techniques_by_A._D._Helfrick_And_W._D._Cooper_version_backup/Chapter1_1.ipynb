{
 "metadata": {
  "name": "",
  "signature": "sha256:378f7ba638588e9967d820c5fdb2d68cb7fcb0df3a9779d66b000d4f2aab3ac3"
 },
 "nbformat": 3,
 "nbformat_minor": 0,
 "worksheets": [
  {
   "cells": [
    {
     "cell_type": "heading",
     "level": 1,
     "metadata": {},
     "source": [
      "Chapter 01: Measurement and Error"
     ]
    },
    {
     "cell_type": "heading",
     "level": 2,
     "metadata": {},
     "source": [
      "Ex1.1:pg-3"
     ]
    },
    {
     "cell_type": "code",
     "collapsed": false,
     "input": [
      "# To find Average voltage Range of error\n",
      "# Modern Electronic Instrumentation And Measurement Techniques\n",
      "# By Albert D. Helfrick, William D. Cooper\n",
      "# First Edition Second Impression, 2009\n",
      "# Dorling Kindersly Pvt. Ltd. India\n",
      "# Example 1-1 in Page 3\n",
      "\n",
      "\n",
      "\n",
      "\n",
      "# Given data\n",
      "E_1 = 117.02 # Voltage observed by 1st observer is 117.02V\n",
      "E_2 = 117.11 # Voltage observed by 2nd observer is 117.11V\n",
      "E_3 = 117.08 # Voltage observed by 3rd observer is 117.08V\n",
      "E_4 = 117.03 # Voltage observed by 4th observer is 117.03V\n",
      "\n",
      "#Calculations\n",
      "E_av = (E_1+E_2+E_3+E_4)/4\n",
      "print \"(a)  The average voltage, E_av =\",E_av,\"V\"\n",
      "\n",
      "E_max = max (E_1,E_2,E_3,E_4) # Maximum value among the 4 nos\n",
      "E_min = min (E_1,E_2,E_3,E_4) # Minimum value among the 4 nos\n",
      "\n",
      "range_1 = E_max - E_av # Range calculated using two different formulae\n",
      "range_2 = E_av - E_min # Range calculated using two different formulae\n",
      "\n",
      "avg_range = (range_1+range_2)/2\n",
      "print \"(b)  The average range of error = +/-\",round(avg_range,2),\"V\"\n",
      "\n",
      "#Result\n",
      "# (a)  The average voltage, E_av = 117.06 V\n",
      "# (b)  The average range of error = +/- 0.05 V \n",
      "\n",
      "\n",
      "\n",
      "\n",
      "\n",
      "\n",
      "\n",
      "\n"
     ],
     "language": "python",
     "metadata": {},
     "outputs": [
      {
       "output_type": "stream",
       "stream": "stdout",
       "text": [
        "(a)  The average voltage, E_av = 117.06 V\n",
        "(b)  The average range of error = +/- 0.05 V\n"
       ]
      }
     ],
     "prompt_number": 7
    },
    {
     "cell_type": "heading",
     "level": 2,
     "metadata": {},
     "source": [
      "Ex1.2:pg-4"
     ]
    },
    {
     "cell_type": "code",
     "collapsed": false,
     "input": [
      "# To find Total resistance\n",
      "# Modern Electronic Instrumentation And Measurement Techniques\n",
      "# By Albert D. Helfrick, William D. Cooper\n",
      "# First Edition Second Impression, 2009\n",
      "# Dorling Kindersly Pvt. Ltd. India\n",
      "# Example 1-2 in Page 4\n",
      "\n",
      "\n",
      "\n",
      "\n",
      "# Given data\n",
      "R_1 = 18.7 # The first resistance is 18.7ohm\n",
      "R_2 = 3.624 # The second resistance is 3.624ohm\n",
      "\n",
      "# Calculations\n",
      "R_T = R_1 + R_2 # formula to calculate total resistance in series\n",
      "print \"The total resistance connected in series =\",R_T,\" ohm\\n\"\n",
      "print \"As one of the resistance is accurate to only tenths of an ohm, The result should be reduced to the nearest tenth. \\n Hence \"\n",
      "print \"the total resistance is =\",round(R_T,1),\" ohm\"\n",
      "\n",
      "#Result\n",
      "# The total resistance connected in series = 22.324 ohm\n",
      "# As one of the resistance is accurate to only tenths of an ohm, The result should be reduced to the nearest tenth. \n",
      "# Hence the total resistance is = 22.3 ohm \n",
      "\n",
      "\n"
     ],
     "language": "python",
     "metadata": {},
     "outputs": [
      {
       "output_type": "stream",
       "stream": "stdout",
       "text": [
        "The total resistance connected in series = 22.324  ohm\n",
        "\n",
        "As one of the resistance is accurate to only tenths of an ohm, The result should be reduced to the nearest tenth. \n",
        " Hence \n",
        "the total resistance is = 22.3  ohm\n"
       ]
      }
     ],
     "prompt_number": 9
    },
    {
     "cell_type": "heading",
     "level": 2,
     "metadata": {},
     "source": [
      "Ex1.3:pg-4"
     ]
    },
    {
     "cell_type": "code",
     "collapsed": false,
     "input": [
      "# To find voltage drop across resistor\n",
      "# Modern Electronic Instrumentation And Measurement Techniques\n",
      "# By Albert D. Helfrick, William D. Cooper\n",
      "# First Edition Second Impression, 2009\n",
      "# Dorling Kindersly Pvt. Ltd. India\n",
      "# Example 1-3 in Page 4\n",
      "\n",
      "\n",
      "\n",
      "\n",
      "# Given data\n",
      "I = 3.18 #Current flowing through the resistor = 3.18A\n",
      "R = 35.68 # The value of resistor = 35.68ohm\n",
      "\n",
      "# Calculations\n",
      "E = I*R\n",
      "print \"The voltage drop across the resistor = \",E,\"volts\"\n",
      "print \"Since there are 3 significant figures involved in the multiplication, the result can be written only to a max of 3 significant figures\"\n",
      "print \"Hence the voltage drop across the resistor = \",round(E),\" volts\"\n",
      "\n",
      "#Result\n",
      "# The voltage drop across the resistor = 113.4624 volts \n",
      "# Since there are 3 significant figures involved in the multiplication, the result can be written only to a max of 3 significant figures   \n",
      "# Hence the voltage drop across the resistor = 113 volts \n"
     ],
     "language": "python",
     "metadata": {},
     "outputs": [
      {
       "output_type": "stream",
       "stream": "stdout",
       "text": [
        "The voltage drop across the resistor =  113.4624 volts\n",
        "Since there are 3 significant figures involved in the multiplication, the result can be written only to a max of 3 significant figures\n",
        "Hence the voltage drop across the resistor =  113.0  volts\n"
       ]
      }
     ],
     "prompt_number": 12
    },
    {
     "cell_type": "heading",
     "level": 2,
     "metadata": {},
     "source": [
      "Ex1.4:pg-5"
     ]
    },
    {
     "cell_type": "code",
     "collapsed": false,
     "input": [
      "# To find sum with range of doubt\n",
      "# Modern Electronic Instrumentation And Measurement Techniques\n",
      "# By Albert D. Helfrick, William D. Cooper\n",
      "# First Edition Second Impression, 2009\n",
      "# Dorling Kindersly Pvt. Ltd. India\n",
      "# Example 1-4 in Page 5\n",
      "\n",
      "\n",
      "\n",
      "\n",
      "# Given data\n",
      "# let N_1 = X_1 +/- Y_1\n",
      "#     N_2 = X_2 +/- Y_2\n",
      "X_1 = 826.0\n",
      "Y_1 = 5\n",
      "X_2 = 628.0\n",
      "Y_2 = 3\n",
      "\n",
      "#Calculations\n",
      "X = (X_1 + X_2)\n",
      "Y = (Y_1 + Y_2)\n",
      "print \"SUM = \",X,\" +/- \",Y\n",
      "doubt = Y/X*100\n",
      "print \"The percentage range of doubt = +/-\",round(doubt,3)\n",
      "\n",
      "#Result\n",
      "# SUM = 1454 +/- 8\n",
      "# The percentage range of doubt = +/-0.55% \n",
      "\n",
      "\n",
      "\n"
     ],
     "language": "python",
     "metadata": {},
     "outputs": [
      {
       "output_type": "stream",
       "stream": "stdout",
       "text": [
        "SUM =  1454.0  +/-  8\n",
        "The percentage range of doubt = +/- 0.55\n"
       ]
      }
     ],
     "prompt_number": 17
    },
    {
     "cell_type": "heading",
     "level": 2,
     "metadata": {},
     "source": [
      "Ex1.5:pg-5"
     ]
    },
    {
     "cell_type": "code",
     "collapsed": false,
     "input": [
      "# To find difference with range of doubt\n",
      "# Modern Electronic Instrumentation And Measurement Techniques\n",
      "# By Albert D. Helfrick, William D. Cooper\n",
      "# First Edition Second Impression, 2009\n",
      "# Dorling Kindersly Pvt. Ltd. India\n",
      "# Example 1-5 in Page 5\n",
      "\n",
      "\n",
      "\n",
      "\n",
      "# Given data\n",
      "# let N_1 = X_1 +/- Y_1\n",
      "#     N_2 = X_2 +/- Y_2\n",
      "X_1 = 826.0\n",
      "Y_1 = 5\n",
      "X_2 = 628\n",
      "Y_2 = 3\n",
      "\n",
      "X = (X_1 - X_2)\n",
      "Y = (Y_1 + Y_2)\n",
      "print \"SUM = \",X,\" +/- \",Y\n",
      "doubt = Y/X*100\n",
      "print \"The percentage range of doubt = +/-\",round(doubt,3)\n",
      "#Result\n",
      "# Difference = 198 +/- 8\n",
      "# The percentage range of doubt = +/-4.04% \n"
     ],
     "language": "python",
     "metadata": {},
     "outputs": [
      {
       "output_type": "stream",
       "stream": "stdout",
       "text": [
        "SUM =  198.0  +/-  8\n",
        "The percentage range of doubt = +/- 4.04\n"
       ]
      }
     ],
     "prompt_number": 19
    },
    {
     "cell_type": "heading",
     "level": 2,
     "metadata": {},
     "source": [
      "Ex1.6:pg-5"
     ]
    },
    {
     "cell_type": "code",
     "collapsed": false,
     "input": [
      "# To find difference with range of doubt\n",
      "# Modern Electronic Instrumentation And Measurement Techniques\n",
      "# By Albert D. Helfrick, William D. Cooper\n",
      "# First Edition Second Impression, 2009\n",
      "# Dorling Kindersly Pvt. Ltd. India\n",
      "# Example 1-6 in Page 5\n",
      "\n",
      "\n",
      "\n",
      "\n",
      "# Given data\n",
      "# let N_1 = X_1 +/- Y_1\n",
      "#     N_2 = X_2 +/- Y_2\n",
      "X_1 = 462.0\n",
      "Y_1 = 4\n",
      "X_2 = 437.0\n",
      "Y_2 = 4\n",
      "\n",
      "#Calculations\n",
      "X = (X_1 - X_2)\n",
      "Y = (Y_1 + Y_2)\n",
      "print \"SUM = \",X,\" +/- \",Y\n",
      "doubt = Y/X*100\n",
      "print \"The percentage range of doubt = +/-\",round(doubt,3)\n",
      "\n",
      "#Result\n",
      "# Difference = 25 +/- 8\n",
      "# The percentage range of doubt = +/-32.00% \n"
     ],
     "language": "python",
     "metadata": {},
     "outputs": [
      {
       "output_type": "stream",
       "stream": "stdout",
       "text": [
        "SUM =  25.0  +/-  8\n",
        "The percentage range of doubt = +/- 32.0\n"
       ]
      }
     ],
     "prompt_number": 20
    },
    {
     "cell_type": "heading",
     "level": 2,
     "metadata": {},
     "source": [
      "Ex1.7:pg-6"
     ]
    },
    {
     "cell_type": "code",
     "collapsed": false,
     "input": [
      "# To find Apparent and actual resistance \n",
      "# Modern Electronic Instrumentation And Measurement Techniques\n",
      "# By Albert D. Helfrick, William D. Cooper\n",
      "# First Edition Second Impression, 2009\n",
      "# Dorling Kindersly Pvt. Ltd. India\n",
      "# Example 1-7 in Page 6\n",
      "\n",
      "\n",
      "\n",
      "\n",
      "# Given data\n",
      "I_T = 5*(10**-3) # Reading of the milliammeter in ampere\n",
      "V_T = 100 # Reading of the voltmeter in volt\n",
      "sensitivity = 1000 # sensitivity of voltmeter in ohm/volt\n",
      "scale = 150 # scale of the voltmeter\n",
      "\n",
      "#Calculations\n",
      "R_T = V_T / I_T # formula to calculate total circuit resistance\n",
      "print \"(a)  The apparent circuit resistance neglecting the resistance of milliammeter, R_T = \",R_T,\" ohm\\n\"\n",
      "\n",
      "R_V = sensitivity * scale # calculating resistance of voltmeter\n",
      "R_X = (R_T * R_V)/(R_V - R_T) # effective circuit resistance due to loading effect\n",
      "print \"(b)  The actual circuit resistance with the loading effect of voltmeter, R_X = \",round(R_X,2),\" ohm\\n\"\n",
      "\n",
      "percentage_error = (R_X - R_T)*100/ R_X\n",
      "# %error = (actual-apparent)/ actual\n",
      "print \"(c)  The percentage error due to loading effect of voltmeter = \",round(percentage_error,2),\"%\"\n",
      "\n",
      "#result\n",
      "# (a)  The apparent circuit resistance neglecting the resistance of milliammeter, R_T = 20000 ohm\n",
      "# (b)  The actual circuit resistance with the loading effect of voltmeter, R_X = 23076.92 ohm\n",
      "# (c)  The percentage error due to loading effect of voltmeter = 13.33% \n",
      "\n",
      "\n",
      "# The result shown in the textbook is printed incorrectly and does not match with the correct result\n",
      "\n",
      "\n",
      "\n",
      "\n",
      "\n"
     ],
     "language": "python",
     "metadata": {},
     "outputs": [
      {
       "output_type": "stream",
       "stream": "stdout",
       "text": [
        "(a)  The apparent circuit resistance neglecting the resistance of milliammeter, R_T =  20000.0  ohm\n",
        "\n",
        "(b)  The actual circuit resistance with the loading effect of voltmeter, R_X =  23076.92  ohm\n",
        "\n",
        "(c)  The percentage error due to loading effect of voltmeter =  13.33 %\n"
       ]
      }
     ],
     "prompt_number": 22
    },
    {
     "cell_type": "heading",
     "level": 2,
     "metadata": {},
     "source": [
      "Ex1.8:pg-7"
     ]
    },
    {
     "cell_type": "code",
     "collapsed": false,
     "input": [
      "# To find Apparent and actual resistance \n",
      "# Modern Electronic Instrumentation And Measurement Techniques\n",
      "# By Albert D. Helfrick, William D. Cooper\n",
      "# First Edition Second Impression, 2009\n",
      "# Dorling Kindersly Pvt. Ltd. India\n",
      "# Example 1-8 in Page 7\n",
      "\n",
      "\n",
      "\n",
      "\n",
      "# Given data\n",
      "I_T = 800*(10**-3) # Reading of the milliammeter in ampere\n",
      "V_T = 40 # Reading of the voltmeter in volt\n",
      "sensitivity = 1000 # sensitivity of voltmeter in ohm/volt\n",
      "scale = 150 # scale of the voltmeter\n",
      "\n",
      "#Calculations\n",
      "R_T = V_T / I_T # formula to calculate total circuit resistance\n",
      "print \"(a)  The apparent circuit resistance neglecting the resistance of milliammeter, R_T = \",R_T,\" ohm\\n\"\n",
      "\n",
      "R_V = sensitivity * scale # calculating resistance of voltmeter\n",
      "R_X = (R_T * R_V)/(R_V - R_T) # effective circuit resistance due to loading effect\n",
      "print \"(b)  The actual circuit resistance with the loading effect of voltmeter, R_X = \",round(R_X,2),\" ohm\\n\"\n",
      "\n",
      "percentage_error = (R_X - R_T)*100/ R_X\n",
      "# %error = (actual-apparent)/ actual\n",
      "print \"(c)  The percentage error due to loading effect of voltmeter = \",round(percentage_error,2),\"%\"\n",
      "\n",
      "#result\n",
      "# (a)  The apparent circuit resistance neglecting the resistance of milliammeter, R_T = 50.00 ohm\n",
      "# (b)  The actual circuit resistance with the loading effect of voltmeter, R_X = 50.02 ohm\n",
      "# (c)  The percentage error due to loading effect of voltmeter = 0.03% \n",
      "\n",
      "\n",
      "# The result shown in the textbook is printed incorrectly and does not match with the correct result\n",
      "\n"
     ],
     "language": "python",
     "metadata": {},
     "outputs": [
      {
       "output_type": "stream",
       "stream": "stdout",
       "text": [
        "(a)  The apparent circuit resistance neglecting the resistance of milliammeter, R_T =  50.0  ohm\n",
        "\n",
        "(b)  The actual circuit resistance with the loading effect of voltmeter, R_X =  50.02  ohm\n",
        "\n",
        "(c)  The percentage error due to loading effect of voltmeter =  0.03 %\n"
       ]
      }
     ],
     "prompt_number": 23
    },
    {
     "cell_type": "heading",
     "level": 2,
     "metadata": {},
     "source": [
      "Ex1.9:pg-9"
     ]
    },
    {
     "cell_type": "code",
     "collapsed": false,
     "input": [
      "# To find Arithmatic mean and deviation from mean\n",
      "# Modern Electronic Instrumentation And Measurement Techniques\n",
      "# By Albert D. Helfrick, William D. Cooper\n",
      "# First Edition Second Impression, 2009\n",
      "# Dorling Kindersly Pvt. Ltd. India\n",
      "# Example 1-9 in Page 9\n",
      "\n",
      "\n",
      "\n",
      "\n",
      "# Given data\n",
      "# Independent current measurements taken by six observers\n",
      "I_1 = 12.8*(10**-3)\n",
      "I_2 = 12.2*(10**-3)\n",
      "I_3 = 12.5*(10**-3)\n",
      "I_4 = 13.1*(10**-3)\n",
      "I_5 = 12.9*(10**-3)\n",
      "I_6 = 12.4*(10**-3)\n",
      "\n",
      "#Calculations\n",
      "arithmatic_mean = (I_1 +I_2 +I_3 +I_4 +I_5 +I_6)/6\n",
      "print \"(a)  The arithmatic mean of the observations =\",arithmatic_mean,\"A\"\n",
      "\n",
      "d_1 = I_1 - arithmatic_mean\n",
      "d_2 = I_2 - arithmatic_mean\n",
      "d_3 = I_3 - arithmatic_mean\n",
      "d_4 = I_4 - arithmatic_mean\n",
      "d_5 = I_5 - arithmatic_mean\n",
      "d_6 = I_6 - arithmatic_mean\n",
      "\n",
      "#deviation calculated using the formula d_n = x_n - arithmatic_mean\n",
      "disp('(b)  The deviations from the mean are:' )\n",
      "print \"d_1 = \",d_1,\" A\\n d_2 = \",d_2,\" A\\n d_3 = \",d_3,\" A\\n d_4 = \", d_4,\" A\\n d_5 = \",d_5,\" A\\n d_6 =\",d_6,\" A\"\n",
      "\n",
      "#Result\n",
      "# (a)  The arithmatic mean of the observations =0.01265 A \n",
      "# (b)  The deviations from the mean are:   \n",
      "# d_1 = 0.00015 A\n",
      "# d_2 = -0.00045 A\n",
      "# d_3 = -0.00015 A\n",
      "# d_4 = 0.00045 A\n",
      "# d_5 = 0.00025 A\n",
      "# d_6 = -0.00025 A\n",
      " \n"
     ],
     "language": "python",
     "metadata": {},
     "outputs": [
      {
       "output_type": "stream",
       "stream": "stdout",
       "text": [
        "(a)  The arithmatic mean of the observations = 0.01265 A\n",
        "(b)  The deviations from the mean are:\n"
       ]
      },
      {
       "output_type": "stream",
       "stream": "stdout",
       "text": [
        "d_1 =  0.00015  A\n",
        " d_2 =  -0.00045  A\n",
        " d_3 =  -0.00015  A\n",
        " d_4 =  0.00045  A\n",
        " d_5 =  0.00025  A\n",
        " d_6 = -0.00025  A\n"
       ]
      }
     ],
     "prompt_number": 24
    },
    {
     "cell_type": "heading",
     "level": 2,
     "metadata": {},
     "source": [
      "Ex1.10:pg-10"
     ]
    },
    {
     "cell_type": "code",
     "collapsed": false,
     "input": [
      "# To find Average deviation\n",
      "# Modern Electronic Instrumentation And Measurement Techniques\n",
      "# By Albert D. Helfrick, William D. Cooper\n",
      "# First Edition Second Impression, 2009\n",
      "# Dorling Kindersly Pvt. Ltd. India\n",
      "# Example 1-10 in Page 10\n",
      "\n",
      "\n",
      "\n",
      "\n",
      "# Given data\n",
      "# These are the data found out from the example_1-9\n",
      "d_1 = 0.000150\n",
      "d_2 = -0.000450\n",
      "d_3 = -0.000150\n",
      "d_4 = 0.000450\n",
      "d_5 = 0.000250\n",
      "d_6 = -0.000250\n",
      "\n",
      "#Calculation\n",
      "D = (abs(d_1) +abs(d_2) +abs(d_3) +abs(d_4) +abs(d_5) +abs(d_6))/6\n",
      "print \"The average deviation, D = \",round(D,6),\"A\"\n",
      "\n",
      "#Result\n",
      "#  The average deviation, D = 2.83e-004 A \n"
     ],
     "language": "python",
     "metadata": {},
     "outputs": [
      {
       "output_type": "stream",
       "stream": "stdout",
       "text": [
        "The average deviation, D =  0.000283 A\n"
       ]
      }
     ],
     "prompt_number": 32
    },
    {
     "cell_type": "heading",
     "level": 2,
     "metadata": {},
     "source": [
      "Ex1.11:pg-14"
     ]
    },
    {
     "cell_type": "code",
     "collapsed": false,
     "input": [
      "# To find Std deviation and Probable error \n",
      "# Modern Electronic Instrumentation And Measurement Techniques\n",
      "# By Albert D. Helfrick, William D. Cooper\n",
      "# First Edition Second Impression, 2009\n",
      "# Dorling Kindersly Pvt. Ltd. India\n",
      "# Example 1-11 in Page 14\n",
      "\n",
      "import numpy\n",
      "\n",
      "\n",
      "\n",
      "# Given data\n",
      "# let the 10 resistance measurements in ohm be taken as elements of matrix\n",
      "x = [101.2,101.7,101.3,101.0,101.5,101.3,101.2,101.4,101.3,101.1]\n",
      "\n",
      "#Calculations\n",
      "arithmatic_mean = numpy.mean(x)\n",
      "sigma = numpy.std(x)\n",
      "probable_error = 0.6745 * sigma\n",
      "print \"(a)  The arithmatic mean of the readings = \",arithmatic_mean,\" ohm\\n\"\n",
      "print \"(b)  The standard deviation of the readings = \",round(sigma,1),\" ohm\\n\"\n",
      "print \"(c)  The probable error of the readings = \",round(probable_error,2),\"ohm\"\n",
      "\n",
      "#Result\n",
      "# (a)  The arithmatic mean of the readings = 101.3 ohm\n",
      "# (b)  The standard deviation of the readings = 0.2 ohm\n",
      "# (c)  The probable error of the readings = 0.13 ohm \n"
     ],
     "language": "python",
     "metadata": {},
     "outputs": [
      {
       "output_type": "stream",
       "stream": "stdout",
       "text": [
        "(a)  The arithmatic mean of the readings =  101.3  ohm\n",
        "\n",
        "(b)  The standard deviation of the readings =  0.2  ohm\n",
        "\n",
        "(c)  The probable error of the readings =  0.13 ohm\n"
       ]
      }
     ],
     "prompt_number": 37
    },
    {
     "cell_type": "heading",
     "level": 2,
     "metadata": {},
     "source": [
      "Ex1.12:pg-14"
     ]
    },
    {
     "cell_type": "code",
     "collapsed": false,
     "input": [
      "# To find Limiting error \n",
      "# Modern Electronic Instrumentation And Measurement Techniques\n",
      "# By Albert D. Helfrick, William D. Cooper\n",
      "# First Edition Second Impression, 2009\n",
      "# Dorling Kindersly Pvt. Ltd. India\n",
      "# Example 1-12 in Page 14\n",
      "\n",
      "\n",
      "\n",
      "\n",
      "# Given data\n",
      "scale = 150\n",
      "percentage_accuracy = 1/100 # accuracy of 1% full scale reading\n",
      "V = 83 #voltage measured by instrument = 83 volt \n",
      "\n",
      "#Calculations\n",
      "limiting_error = percentage_accuracy * scale\n",
      "print \"The magnitude of the limiting error = %0.1f V\\n\",limiting_error)\n",
      "\n",
      "percentage_error = limiting_error/V * 100\n",
      "print \"The percentage limiting error = %0.2f percent\",percentage_error)\n",
      "\n",
      "#Result\n",
      "# The magnitude of the limiting error = 1.5 V\n",
      "# The percentage limiting error = 1.81 percent \n"
     ],
     "language": "python",
     "metadata": {},
     "outputs": []
    },
    {
     "cell_type": "heading",
     "level": 2,
     "metadata": {},
     "source": [
      "Ex1.13:pg-15"
     ]
    },
    {
     "cell_type": "code",
     "collapsed": false,
     "input": [
      "# To find the maximum error\n",
      "# Modern Electronic Instrumentation And Measurement Techniques\n",
      "# By Albert D. Helfrick, William D. Cooper\n",
      "# First Edition Second Impression, 2009\n",
      "# Dorling Kindersly Pvt. Ltd. India\n",
      "# Example 1-13 in Page 15\n",
      "\n",
      "\n",
      "\n",
      "\n",
      "# Given data\n",
      "# For the given tolerence of 0.1% \n",
      "# highest value of resistor is 1.001 times the nominal value\n",
      "# lowest value of resistor is 0.999 times the nominal value\n",
      "\n",
      "#Calculations\n",
      "V_out_max = 1.001 * 1.001/ 0.999\n",
      "V_out_min = 0.999 * 0.999/ 1.003\n",
      "total_var = 0.1 * 3 # total variation of the resultant voltage is sum of tolerences\n",
      "print \"The total variation of the resultant voltage = +/- \",total_var,\"%\"\n",
      "\n",
      "#Result\n",
      "# The total variation of the resultant voltage = +/- 0.3 %\n",
      "\n"
     ],
     "language": "python",
     "metadata": {},
     "outputs": [
      {
       "output_type": "stream",
       "stream": "stdout",
       "text": [
        "The total variation of the resultant voltage = +/-  0.3 %\n"
       ]
      }
     ],
     "prompt_number": 38
    },
    {
     "cell_type": "heading",
     "level": 2,
     "metadata": {},
     "source": [
      "Ex1.14:pg-16"
     ]
    },
    {
     "cell_type": "code",
     "collapsed": false,
     "input": [
      "# To find limiting error\n",
      "# Modern Electronic Instrumentation And Measurement Techniques\n",
      "# By Albert D. Helfrick, William D. Cooper\n",
      "# First Edition Second Impression, 2009\n",
      "# Dorling Kindersly Pvt. Ltd. India\n",
      "# Example 1-14 in Page 16\n",
      "\n",
      "\n",
      "\n",
      "\n",
      "# Given data\n",
      "# let I = X_1 +/- Y_1\n",
      "#     R = X_2 +/- Y_2\n",
      "X_1 = 2.00\n",
      "Y_1 = 0.5\n",
      "X_2 = 100\n",
      "Y_2 = 0.2\n",
      "\n",
      "#Calculations\n",
      "P_1 = ((1+0.005)**2)*(1+0.002)\n",
      "print \"For the worst possible combination of the values of current and resistance,\\nThe highest power dissipation becomes,\\n\"\n",
      "print \"P = \",round(P_1,3),\" (I**2)*R Watts\"\n",
      "P_2 = ((1-0.005)**2)*(1-0.002)\n",
      "print \"For the lowest power dissipation.\\nP = \",round(P_2,3),\" (I**2)*R Watts\\n\"\n",
      "lim_error = 2 * Y_1 + Y_2\n",
      "print \"The limiting error = +/- \",lim_error,\"%\"\n",
      "\n",
      "#Result\n",
      "# For the worst possible combination of the values of current and resistance,\n",
      "# The highest power dissipation becomes,\n",
      "# P = 1.012 (I**2)*R Watts\n",
      "# For the lowest power dissipation.\n",
      "# P = 0.988 (I**2)*R Watts\n",
      "# The limiting error = +/- 1.2% \n"
     ],
     "language": "python",
     "metadata": {},
     "outputs": [
      {
       "output_type": "stream",
       "stream": "stdout",
       "text": [
        "For the worst possible combination of the values of current and resistance,\n",
        "The highest power dissipation becomes,\n",
        "\n",
        "P =  1.012  (I**2)*R Watts\n",
        "For the lowest power dissipation.\n",
        "P =  0.988  (I**2)*R Watts\n",
        "\n",
        "The limiting error = +/-  1.2 %\n"
       ]
      }
     ],
     "prompt_number": 41
    }
   ],
   "metadata": {}
  }
 ]
}