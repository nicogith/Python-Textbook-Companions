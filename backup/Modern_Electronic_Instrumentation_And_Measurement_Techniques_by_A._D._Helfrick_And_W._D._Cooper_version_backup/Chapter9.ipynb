{
 "metadata": {
  "name": "",
  "signature": "sha256:349ae7afdee1d1b3c3dc4037b8dc3bb200738707d16369e5edfee0d065859f9b"
 },
 "nbformat": 3,
 "nbformat_minor": 0,
 "worksheets": [
  {
   "cells": [
    {
     "cell_type": "heading",
     "level": 1,
     "metadata": {},
     "source": [
      "Chapter 9: Signal Analysis"
     ]
    },
    {
     "cell_type": "heading",
     "level": 2,
     "metadata": {},
     "source": [
      "Ex9.1:pg-277"
     ]
    },
    {
     "cell_type": "code",
     "collapsed": false,
     "input": [
      "# To find dynamic range of spectrum analyser\n",
      "\n",
      "# Given data\n",
      "I_p = +25.0; #Third order intercept point in dBm\n",
      "MDS = -85.0; #noise level in dBm\n",
      "\n",
      "#Calculations\n",
      "\n",
      "dynamic_range = 2/3.0*(I_p -MDS);\n",
      "print \"The dynamic range of the spectrum analyser =\",int(dynamic_range),\" dB\"\n",
      "\n"
     ],
     "language": "python",
     "metadata": {},
     "outputs": [
      {
       "output_type": "stream",
       "stream": "stdout",
       "text": [
        "The dynamic range of the spectrum analyser = 73  dB\n"
       ]
      }
     ],
     "prompt_number": 2
    },
    {
     "cell_type": "heading",
     "level": 2,
     "metadata": {},
     "source": [
      "Ex9.2:pg-277"
     ]
    },
    {
     "cell_type": "code",
     "collapsed": false,
     "input": [
      "# To find minimum detectable signal\n",
      "\n",
      "import math\n",
      "\n",
      "# Given data\n",
      "NF = 20.0; #Noise figure in dB\n",
      "BW = 1*10.0**3; #Bandwidth in Hz\n",
      "\n",
      "#Calculations\n",
      "MDS=-114+10*math.log10((BW/(1*10.0**6)))+NF\n",
      "print \"The minimum detectable signal of the spectrum analyser = \",int(MDS),\" dBm\"\n",
      "\n"
     ],
     "language": "python",
     "metadata": {},
     "outputs": [
      {
       "output_type": "stream",
       "stream": "stdout",
       "text": [
        "The minimum detectable signal of the spectrum analyser =  -124  dBm\n"
       ]
      }
     ],
     "prompt_number": 13
    },
    {
     "cell_type": "heading",
     "level": 2,
     "metadata": {},
     "source": [
      "Ex9.3:pg-285"
     ]
    },
    {
     "cell_type": "code",
     "collapsed": false,
     "input": [
      "# To find dynamic range and total frequency display\n",
      "\n",
      "import math\n",
      "# Given data\n",
      "T = 4.0; #Sample window in s\n",
      "f_s = 20*10.0**3; # sample frequency in Hz\n",
      "N = 10.0; #no of bits\n",
      "\n",
      "#Calculations\n",
      "f_r = 1/T;\n",
      "f_h = f_s/2.0; \n",
      "R_d = 20*math.log10(2.0**N);\n",
      "\n",
      "print \"The ratio of the spectral calculation = \",round(f_r,2),\" Hz\\n\"\n",
      "print \"The maximum calculated spectral frequency = \",int(f_h),\" Hz\\n\"\n",
      "print \"The dynamic range = \",int(R_d),\" dB\"\n"
     ],
     "language": "python",
     "metadata": {},
     "outputs": [
      {
       "output_type": "stream",
       "stream": "stdout",
       "text": [
        "The ratio of the spectral calculation =  0.25  Hz\n",
        "\n",
        "The maximum calculated spectral frequency =  10000  Hz\n",
        "\n",
        "The dynamic range =  60  dB\n"
       ]
      }
     ],
     "prompt_number": 15
    }
   ],
   "metadata": {}
  }
 ]
}