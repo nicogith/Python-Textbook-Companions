{
 "metadata": {
  "name": "",
  "signature": "sha256:122a31de547475cc4aadab2eac419ec88d91c65017876c6ee98e7639ab9ef3a9"
 },
 "nbformat": 3,
 "nbformat_minor": 0,
 "worksheets": [
  {
   "cells": [
    {
     "cell_type": "heading",
     "level": 1,
     "metadata": {},
     "source": [
      "Chapter 04:Electromechanical Indicating Instruments"
     ]
    },
    {
     "cell_type": "heading",
     "level": 2,
     "metadata": {},
     "source": [
      "Ex4.1:pg-56"
     ]
    },
    {
     "cell_type": "code",
     "collapsed": false,
     "input": [
      "# To find Shunt resistance required\n",
      "# Modern Electronic Instrumentation And Measurement Techniques\n",
      "# By Albert D. Helfrick, William D. Cooper\n",
      "# First Edition Second Impression, 2009\n",
      "# Dorling Kindersly Pvt. Ltd. India\n",
      "# Example 4-1 in Page 56\n",
      "\n",
      "\n",
      "\n",
      "\n",
      "# Given data\n",
      "I_m = 1*(10.0**-3) #Full scale deflection of the movement in ampere\n",
      "R_m = 100.0 #Internal resistance of the movement(the coil) in ohm\n",
      "I = 100.0*(10**-3) #Full scale of the ammeter including the shunt in Ampere\n",
      "\n",
      "#Calculations\n",
      "I_s = I - I_m # calculating current through shunt\n",
      "R_s = I_m * R_m/ I_s #calculating shunt to be added\n",
      "print \"The value of the shunt resistance required, R_s =\",round(R_s,2),\"ohm\"\n",
      "\n",
      "#Result\n",
      "# The value of the shunt resistance required, R_s = 1.01 ohm\n"
     ],
     "language": "python",
     "metadata": {},
     "outputs": [
      {
       "output_type": "stream",
       "stream": "stdout",
       "text": [
        "The value of the shunt resistance required, R_s = 1.01 ohm\n"
       ]
      }
     ],
     "prompt_number": 1
    },
    {
     "cell_type": "heading",
     "level": 2,
     "metadata": {},
     "source": [
      "Ex4.2:pg-57"
     ]
    },
    {
     "cell_type": "code",
     "collapsed": false,
     "input": [
      "# To design Ayrton shunt\n",
      "# Modern Electronic Instrumentation And Measurement Techniques\n",
      "# By Albert D. Helfrick, William D. Cooper\n",
      "# First Edition Second Impression, 2009\n",
      "# Dorling Kindersly Pvt. Ltd. India\n",
      "# Example 4-2 in Page 57\n",
      "\n",
      "\n",
      "\n",
      "\n",
      "\n",
      "# Given data\n",
      "I_1 = 1 #Full scale currents of the ammeter in amp\n",
      "I_2 = 5\n",
      "I_3 = 10\n",
      "R_m = 50 #Internal resistance of the movement(the coil) in ohm\n",
      "I_m = 1*(10**-3) #Full scale deflection of the movement in ampere\n",
      "\n",
      "#Calculations\n",
      "# On the 1-A range: \n",
      "I_s1 = I_1 - I_m # calculating current through shunt\n",
      "#Using the eq. R_s = I_m * R_m/ I_s\n",
      "#1                       R_a +R_b +R_c = I_m * R_m/ I_s # As (R_a +R_b +R_c) are parallel with R_m\n",
      "\n",
      "# On the 5-A range\n",
      "I_s2 = I_2 - I_m\n",
      "#2                       R_a +R_b = I_m * (R_c +R_m)/ I_s # As (R_a+R_b) in parallel with (R_c+R_m)\n",
      "\n",
      "# On the 10-A range\n",
      "I_s3 = I_3 - I_m\n",
      "#3                       R_a = I_m * (R_b +R_c +R_m)/ I_s # As R_a is parallel with (R_b +R_c +R_m)\n",
      "\n",
      "\n",
      "import numpy as np\n",
      "a = np.array([[1,4999,-9999],[1,4999,1],[1,-1,1]])\n",
      "b = np.array([0.05005,50,-50])\n",
      "answer = np.linalg.solve(a.T, b)\n",
      "\n",
      "\n",
      "\n",
      "R_a = answer[0]\n",
      "R_b = answer[1]\n",
      "R_c = answer[2]\n",
      "\n",
      "disp('The different resistors used for the ayrton shunt for different ranges are:')\n",
      "print \"R_a = \",round(R_a,7),\" ohm\\n\"\n",
      "print \"R_b = \",round(R_b,7),\" ohm\\n\"\n",
      "print \"R_c = \",round(R_c,6),\" ohm\"\n",
      "\n",
      "#Result\n",
      "# The different resistors used for the ayrton shunt for different ranges are:   \n",
      "# R_a = 0.005005 ohm\n",
      "# R_b = 0.005005 ohm\n",
      "# R_c = 0.040040 ohm \n",
      "\n"
     ],
     "language": "python",
     "metadata": {},
     "outputs": [
      {
       "output_type": "stream",
       "stream": "stdout",
       "text": [
        "The different resistors used for the ayrton shunt for different ranges are:\n"
       ]
      },
      {
       "output_type": "stream",
       "stream": "stdout",
       "text": [
        "R_a =  0.005005  ohm\n",
        "\n",
        "R_b =  0.005005  ohm\n",
        "\n",
        "R_c =  0.04004  ohm\n"
       ]
      }
     ],
     "prompt_number": 9
    },
    {
     "cell_type": "heading",
     "level": 2,
     "metadata": {},
     "source": [
      "Ex4.3:pg-60"
     ]
    },
    {
     "cell_type": "code",
     "collapsed": false,
     "input": [
      "# To design multirange dc voltmeter\n",
      "# Modern Electronic Instrumentation And Measurement Techniques\n",
      "# By Albert D. Helfrick, William D. Cooper\n",
      "# First Edition Second Impression, 2009\n",
      "# Dorling Kindersly Pvt. Ltd. India\n",
      "# Example 4-3 in Page 60\n",
      "\n",
      "\n",
      "\n",
      "\n",
      "# Given data\n",
      "R_m = 100 # internal resistance of movement\n",
      "I_fsd = 1*(10**-3) #full-scale current in Amp\n",
      "V_1 = 10 #different ranges in volt\n",
      "V_2 = 50\n",
      "V_3 = 250\n",
      "V_4 = 500\n",
      "\n",
      "#Calculations\n",
      "\n",
      "#For the 10-V range\n",
      "R_T = V_1 / I_fsd\n",
      "R_4 = R_T - R_m\n",
      "print \"The value of the resistance R_4 = \",R_4,\" ohm\\n\"\n",
      "\n",
      "#For the 50-V range\n",
      "R_T = V_2 / I_fsd\n",
      "R_3 = R_T - (R_4 +R_m)\n",
      "print \"The value of the resistance R_3 = \",R_3/1000,\"K ohm\\n\"\n",
      "\n",
      "#For the 250-V range\n",
      "R_T = V_3 / I_fsd\n",
      "R_2 = R_T -(R_3 +R_4 +R_m)\n",
      "print \"The value of the resistance R_2 =\",R_2/1000,\"k ohm\\n\"\n",
      "\n",
      "#For the 500-V range\n",
      "R_T = V_4 / I_fsd\n",
      "R_1 = R_T - (R_2 +R_3 +R_4 +R_m)\n",
      "print \"The value of the resistance R_1 =\",R_1/1000,\"K ohm\"\n",
      "\n",
      "#Result\n",
      "# The value of the resistance R_4 = 9900 ohm\n",
      "# The value of the resistance R_3 = 40k ohm\n",
      "# The value of the resistance R_2 = 200k ohm\n",
      "# The value of the resistance R_1 = 250k ohm \n"
     ],
     "language": "python",
     "metadata": {},
     "outputs": [
      {
       "output_type": "stream",
       "stream": "stdout",
       "text": [
        "The value of the resistance R_4 =  9900.0  ohm\n",
        "\n",
        "The value of the resistance R_3 =  40.0 K ohm\n",
        "\n",
        "The value of the resistance R_2 = 200.0 k ohm\n",
        "\n",
        "The value of the resistance R_1 = 250.0 K ohm\n"
       ]
      }
     ],
     "prompt_number": 13
    }
   ],
   "metadata": {}
  }
 ]
}