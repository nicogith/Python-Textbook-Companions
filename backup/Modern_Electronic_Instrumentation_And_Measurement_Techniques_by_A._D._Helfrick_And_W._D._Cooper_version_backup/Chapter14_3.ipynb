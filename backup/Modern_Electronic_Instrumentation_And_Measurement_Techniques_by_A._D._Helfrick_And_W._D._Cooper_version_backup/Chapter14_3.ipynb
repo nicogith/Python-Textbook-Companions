{
 "metadata": {
  "name": "",
  "signature": "sha256:7da8fa256cdbc53a73e82048dec92ae378065cdecb2b93cd68e82575348dba15"
 },
 "nbformat": 3,
 "nbformat_minor": 0,
 "worksheets": [
  {
   "cells": [
    {
     "cell_type": "heading",
     "level": 1,
     "metadata": {},
     "source": [
      "Chapter 14:Fiber Optics Measurements"
     ]
    },
    {
     "cell_type": "heading",
     "level": 2,
     "metadata": {},
     "source": [
      "Ex14.1:pg-392"
     ]
    },
    {
     "cell_type": "code",
     "collapsed": false,
     "input": [
      "# To find acceptance angle and numerical aperture\n",
      "# Modern Electronic Instrumentation And Measurement Techniques\n",
      "# By Albert D. Helfrick, William D. Cooper\n",
      "# First Edition Second Impression, 2009\n",
      "# Dorling Kindersly Pvt. Ltd. India\n",
      "# Example 14-1 in Page 392\n",
      "\n",
      "\n",
      "\n",
      "\n",
      "# Given data\n",
      "n_2 = 1.45 #Core index of refraction\n",
      "n_1 = 1.47 #Cladding index of refraction\n",
      "\n",
      "#Calculation\n",
      "theta_c = math.acos(n_2/n_1)\n",
      "theta_A = 2*math.asin(n_1*math.sin(theta_c))\n",
      "NA = math.sqrt(n_1**2 -n_2**2)\n",
      "\n",
      "print \"The critical angle of the fiber =\",round(theta_c*180/math.pi,2),\"degree\\n\"\n",
      "print \"The acceptance angle of the fiber =\",round(theta_A*180/math.pi,2),\" degree\\n\"\n",
      "print \"The numerical aperture of the fiber = \",round(NA,3)\n",
      "\n",
      "#Result\n",
      "# The critical angle of the fiber = 9.46 degree\n",
      "# The acceptance angle of the fiber = 27.97 degree\n",
      "# The numerical aperture of the fiber = 0.242  \n",
      "\n",
      "\n"
     ],
     "language": "python",
     "metadata": {},
     "outputs": [
      {
       "output_type": "stream",
       "stream": "stdout",
       "text": [
        "The critical angle of the fiber = 9.46 degree\n",
        "\n",
        "The acceptance angle of the fiber = 27.97  degree\n",
        "\n",
        "The numerical aperture of the fiber =  0.242\n"
       ]
      }
     ],
     "prompt_number": 4
    },
    {
     "cell_type": "heading",
     "level": 2,
     "metadata": {},
     "source": [
      "Ex14.2:pg-393"
     ]
    },
    {
     "cell_type": "code",
     "collapsed": false,
     "input": [
      "# To find loss in the fiber\n",
      "# Modern Electronic Instrumentation And Measurement Techniques\n",
      "# By Albert D. Helfrick, William D. Cooper\n",
      "# First Edition Second Impression, 2009\n",
      "# Dorling Kindersly Pvt. Ltd. India\n",
      "# Example 14-2 in Page 393\n",
      "\n",
      "\n",
      "\n",
      "\n",
      "# Given data\n",
      "NA_1 = 0.3 # numerical apertures of Source fiber\n",
      "NA_2 = 0.242 #numerical apertures of receiving fiber\n",
      "\n",
      "#Calculations\n",
      "loss = 20*math.log10(NA_1/NA_2)\n",
      "print \"The energy that is lost through the cladding of the receiving fiber = \",round(loss,2),\" dB\"\n",
      "\n",
      "#Result\n",
      "# The energy that is lost through the cladding of the receiving fiber = 1.87 dB \n"
     ],
     "language": "python",
     "metadata": {},
     "outputs": [
      {
       "output_type": "stream",
       "stream": "stdout",
       "text": [
        "The energy that is lost through the cladding of the receiving fiber =  1.87  dB\n"
       ]
      }
     ],
     "prompt_number": 6
    },
    {
     "cell_type": "heading",
     "level": 2,
     "metadata": {},
     "source": [
      "Ex14.3:pg-395"
     ]
    },
    {
     "cell_type": "code",
     "collapsed": false,
     "input": [
      "# To find current developed in photodiode\n",
      "# Modern Electronic Instrumentation And Measurement Techniques\n",
      "# By Albert D. Helfrick, William D. Cooper\n",
      "# First Edition Second Impression, 2009\n",
      "# Dorling Kindersly Pvt. Ltd. India\n",
      "# Example 14-3 in Page 395\n",
      "\n",
      "\n",
      "\n",
      "\n",
      "# Given data\n",
      "h = 6.63*10**-34 #Planck's constant\n",
      "c = 3*10**8 #Speed of light in m/s\n",
      "Lambda = 1.3*10**-6 # photon wavelength in m\n",
      "QE = 0.82 #Quantum efficiency\n",
      "p = 75*10**-6 #Power in W\n",
      "q = 1.6*10**-19 #Charge of an electron\n",
      "\n",
      "#Calculations\n",
      "e = h*c/Lambda\n",
      "N = p/e\n",
      "N_QE= QE*N\n",
      "I = N_QE*q\n",
      "print \"The current developed in a PIN photodiode = \",round(I,7),\" A\"\n",
      "\n",
      "#Result\n",
      "# The current developed in a PIN photodiode = 6.43e-05 A \n",
      "\n",
      "\n",
      "\n"
     ],
     "language": "python",
     "metadata": {},
     "outputs": [
      {
       "output_type": "stream",
       "stream": "stdout",
       "text": [
        "The current developed in a PIN photodiode =  6.43e-05  A\n"
       ]
      }
     ],
     "prompt_number": 12
    },
    {
     "cell_type": "heading",
     "level": 2,
     "metadata": {},
     "source": [
      "Ex14.4:pg-401"
     ]
    },
    {
     "cell_type": "code",
     "collapsed": false,
     "input": [
      "# To find elapsed time\n",
      "# Modern Electronic Instrumentation And Measurement Techniques\n",
      "# By Albert D. Helfrick, William D. Cooper\n",
      "# First Edition Second Impression, 2009\n",
      "# Dorling Kindersly Pvt. Ltd. India\n",
      "# Example 14-4 in Page 401\n",
      "\n",
      "\n",
      "\n",
      "\n",
      "# Given data\n",
      "n = 1.55 #index of refraction \n",
      "c = 3*10**8 #speed of light in m/s\n",
      "d = 1.4*10**3 #Distance in m\n",
      "\n",
      "#Calculations\n",
      "v = c/n\n",
      "t = d/v\n",
      "print \"t = \",round(t,7),\"s\"\n",
      "print \"Since twice the time to reach the break is required for the reflection to arrive at the reflectometer,\"\n",
      "print \"Hence the total elapsed time = \",round(2*t,8),\"s\"\n",
      "\n",
      "#Result\n",
      "# t = 7.2e-06 s \n",
      "# Since twice the time to reach the break is required for the reflection to arrive at the reflectometer,   \n",
      "# Hence the total elapsed time = 1.447e-005 s \n"
     ],
     "language": "python",
     "metadata": {},
     "outputs": [
      {
       "output_type": "stream",
       "stream": "stdout",
       "text": [
        "t =  7.2e-06 s\n",
        "Since twice the time to reach the break is required for the reflection to arrive at the reflectometer,\n",
        "Hence the total elapsed time =  1.447e-05 s\n"
       ]
      }
     ],
     "prompt_number": 21
    }
   ],
   "metadata": {}
  }
 ]
}