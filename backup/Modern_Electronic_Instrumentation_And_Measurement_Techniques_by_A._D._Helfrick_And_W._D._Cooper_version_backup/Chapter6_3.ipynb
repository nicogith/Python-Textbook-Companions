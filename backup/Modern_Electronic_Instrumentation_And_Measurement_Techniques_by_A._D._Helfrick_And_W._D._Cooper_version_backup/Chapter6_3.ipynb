{
 "metadata": {
  "name": "",
  "signature": "sha256:bf5e1ba8fe50db5d826f3aa4aa6f0fbfe2110f01141414923f54b110cd4d507c"
 },
 "nbformat": 3,
 "nbformat_minor": 0,
 "worksheets": [
  {
   "cells": [
    {
     "cell_type": "heading",
     "level": 1,
     "metadata": {},
     "source": [
      "Chapter 6:Electronic Instruments for Measuring Basic Parameters"
     ]
    },
    {
     "cell_type": "heading",
     "level": 2,
     "metadata": {},
     "source": [
      "Ex6.3:pg-144"
     ]
    },
    {
     "cell_type": "code",
     "collapsed": false,
     "input": [
      "# To find the maximum time \n",
      "# Modern Electronic Instrumentation And Measurement Techniques\n",
      "# By Albert D. Helfrick, William D. Cooper\n",
      "# First Edition Second Impression, 2009\n",
      "# Dorling Kindersly Pvt. Ltd. India\n",
      "# Example 6-3 in Page 144\n",
      "\n",
      "\n",
      "\n",
      "\n",
      "# Given data\n",
      "R = 100*(10**3) # Value of resistance in ohm\n",
      "C = 0.1*(10**-6) # The value of integrating capacitor in F\n",
      "V_ref = 2 # The reference voltage in V\n",
      "V_out = 10 # The maximum limit of the output in V\n",
      "\n",
      "#Calculations\n",
      "T = R*C\n",
      "print \"The integrator time constant = \",T,\" s\"\n",
      "V_s = V_ref/T #Unit is V/s\n",
      "V = 1/V_s\n",
      "print \"Therefore the integrator output = \",V,\" s/V \\nTherefore to integrate 10V \"\n",
      "T_max = V*V_out #The max time the ref voltage can be integrated\n",
      "print \"The time required = \",T_max,\" s\"\n",
      "\n",
      "#Result\n",
      "# The integrator time constant = 0.010 s\n",
      "# Therefore the integrator output = 0.005 s/V \n",
      "# Therefore to integrate 10V   \n",
      "# The time required = 0.0500 s \n",
      "\n"
     ],
     "language": "python",
     "metadata": {},
     "outputs": [
      {
       "output_type": "stream",
       "stream": "stdout",
       "text": [
        "The integrator time constant =  0.01  s\n",
        "Therefore the integrator output =  0.005  s/V \n",
        "Therefore to integrate 10V \n",
        "The time required =  0.05  s\n"
       ]
      }
     ],
     "prompt_number": 21
    },
    {
     "cell_type": "heading",
     "level": 2,
     "metadata": {},
     "source": [
      "Ex6.4:pg-162"
     ]
    },
    {
     "cell_type": "code",
     "collapsed": false,
     "input": [
      "# To find the distributed capacitance\n",
      "# Modern Electronic Instrumentation And Measurement Techniques\n",
      "# By Albert D. Helfrick, William D. Cooper\n",
      "# First Edition Second Impression, 2009\n",
      "# Dorling Kindersly Pvt. Ltd. India\n",
      "# Example 6-4 in Page 162\n",
      "\n",
      "\n",
      "\n",
      "\n",
      "# Given data\n",
      "# Frequency measurements in Hz\n",
      "f_1 = 2*10**6\n",
      "f_2 = 4*10**6\n",
      "# Value of tuning capacitor in F\n",
      "C_1 = 460*10**-12\n",
      "C_2 = 100*10**-12\n",
      "\n",
      "#Calculations\n",
      "C_d = (C_1-(4*C_2))/3\n",
      "print \"C_d = \",round(C_d,13),\" F\\n\"\n",
      "print \"i.e The value of the distributed capacitance = \",round(C_d*10**12,1),\" pF\"\n",
      "\n",
      "#Result\n",
      "# C_d = 2E-011 F\n",
      "# i.e The value of the distributed capacitance = 20 pF \n",
      "\n"
     ],
     "language": "python",
     "metadata": {},
     "outputs": [
      {
       "output_type": "stream",
       "stream": "stdout",
       "text": [
        "C_d =  2e-11  F\n",
        "\n",
        "i.e The value of the distributed capacitance =  20.0  pF\n"
       ]
      }
     ],
     "prompt_number": 22
    },
    {
     "cell_type": "heading",
     "level": 2,
     "metadata": {},
     "source": [
      "Ex6.5:pg-162"
     ]
    },
    {
     "cell_type": "code",
     "collapsed": false,
     "input": [
      "# To find the self capacitance\n",
      "# Modern Electronic Instrumentation And Measurement Techniques\n",
      "# By Albert D. Helfrick, William D. Cooper\n",
      "# First Edition Second Impression, 2009\n",
      "# Dorling Kindersly Pvt. Ltd. India\n",
      "# Example 6-5 in Page 162\n",
      "\n",
      "\n",
      "\n",
      "\n",
      "# Given data\n",
      "# Values of frequencies in Hz\n",
      "f_1 = 2*10**6\n",
      "f_2 = 5*10**6\n",
      "# Values of the tuning capacitors in F\n",
      "C_1 = 450*10**-12\n",
      "C_2 = 60*10**-12\n",
      "\n",
      "#Calculations\n",
      "\n",
      "#Using the equation f = 1/(2*%pi*sqrt(L*(C_2+C_d)))\n",
      "#Since f_2 = 2.5*f_1\n",
      "#Equating & reducing the equations\n",
      "# 1/(C_2 +C_d) = 6.25/(C_1 +C_d)\n",
      "\n",
      "C_d = (C_1 -6.25*C_2)/5.25\n",
      "print \"C_d = \",round(C_d,13),\" F\\n\"\n",
      "print \"i.e The value of the distributed capacitance = \",round(C_d*10**12,1),\" pF\"\n",
      "\n",
      "#Result\n",
      "# C_d = 1.43E-011 F\n",
      "# i.e The value of the distributed capacitance = 14.3 pF \n",
      "\n",
      "\n"
     ],
     "language": "python",
     "metadata": {},
     "outputs": [
      {
       "output_type": "stream",
       "stream": "stdout",
       "text": [
        "C_d =  1.43e-11  F\n",
        "\n",
        "i.e The value of the distributed capacitance =  14.3  pF\n"
       ]
      }
     ],
     "prompt_number": 14
    },
    {
     "cell_type": "heading",
     "level": 2,
     "metadata": {},
     "source": [
      "Ex6.6:pg-163"
     ]
    },
    {
     "cell_type": "code",
     "collapsed": false,
     "input": [
      "# To find percentage error\n",
      "# Modern Electronic Instrumentation And Measurement Techniques\n",
      "# By Albert D. Helfrick, William D. Cooper\n",
      "# First Edition Second Impression, 2009\n",
      "# Dorling Kindersly Pvt. Ltd. India\n",
      "# Example 6-6 in Page 163\n",
      "\n",
      "\n",
      "\n",
      "\n",
      "# Given data\n",
      "R = 10 #Resistance of the coil in ohm\n",
      "f = 1*10**6 #The oscillator frequency in Hz\n",
      "C = 65*10**-12 #The value of resonating capacitor in F\n",
      "R_i = 0.02 #The value of the insertion resistor in ohm\n",
      "\n",
      "#Calculations\n",
      "w = 2*math.pi*f\n",
      "Q_e = 1/(w*C*R)\n",
      "print \"The effective Q of the coil = \",round(Q_e,1),\"\\n\"\n",
      "Q_i = 1/(w*C*(R+R_i))\n",
      "print \"The indicated Q of the coil = \",round(Q_i,1),\"\\n\"\n",
      "percenterror = (Q_e - Q_i)/Q_e*100\n",
      "print \"The percentage error is = \",round(percenterror,1),\" %\"\n",
      "\n",
      "#Result\n",
      "# The effective Q of the coil = 244.9\n",
      "# The indicated Q of the coil = 244.4\n",
      "# The percentage error is = 0.2 % \n",
      "\n"
     ],
     "language": "python",
     "metadata": {},
     "outputs": [
      {
       "output_type": "stream",
       "stream": "stdout",
       "text": [
        "The effective Q of the coil =  244.9 \n",
        "\n",
        "The indicated Q of the coil =  244.4 \n",
        "\n",
        "The percentage error is =  0.2  %\n"
       ]
      }
     ],
     "prompt_number": 11
    },
    {
     "cell_type": "heading",
     "level": 2,
     "metadata": {},
     "source": [
      "Ex6.7:pg-163"
     ]
    },
    {
     "cell_type": "code",
     "collapsed": false,
     "input": [
      "# To find percentage error\n",
      "# Modern Electronic Instrumentation And Measurement Techniques\n",
      "# By Albert D. Helfrick, William D. Cooper\n",
      "# First Edition Second Impression, 2009\n",
      "# Dorling Kindersly Pvt. Ltd. India\n",
      "# Example 6-7 in Page 163\n",
      "\n",
      "\n",
      "\n",
      "\n",
      "# Given data\n",
      "R = 0.1 #Resistance of the coil in ohm\n",
      "f = 40*10**6 #The frequency at resonance in Hz\n",
      "C = 135*10**-12 #The value of tuning capacitor in F\n",
      "R_i = 0.02 #The value of the insertion resistor in ohm\n",
      "\n",
      "\n",
      "#Calculations\n",
      "w = 2*math.pi*f\n",
      "Q_e = 1/(w*C*R)\n",
      "print \"The effective Q of the coil = \",ceil(Q_e),\"\\n\"\n",
      "Q_i = 1/(w*C*(R+R_i))\n",
      "print \"The indicated Q of the coil = \",ceil(Q_i),\"\\n\"\n",
      "percenterror = (Q_e - Q_i)/Q_e*100\n",
      "print \"The percentage error is = \",ceil(percenterror),\" %\"\n",
      "\n",
      "#Result\n",
      "# The effective Q of the coil = 295\n",
      "# The indicated Q of the coil = 246\n",
      "# The percentage error is = 17 % \n",
      " \n"
     ],
     "language": "python",
     "metadata": {},
     "outputs": [
      {
       "output_type": "stream",
       "stream": "stdout",
       "text": [
        "The effective Q of the coil =  295.0 \n",
        "\n",
        "The indicated Q of the coil =  246.0 \n",
        "\n",
        "The percentage error is =  17.0  %\n"
       ]
      }
     ],
     "prompt_number": 1
    }
   ],
   "metadata": {}
  }
 ]
}