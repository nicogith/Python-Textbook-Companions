{
 "cells": [
  {
   "cell_type": "markdown",
   "metadata": {},
   "source": [
    "# Chapter 5 : Angle(exponential) Modulation"
   ]
  },
  {
   "cell_type": "markdown",
   "metadata": {},
   "source": [
    "## Page 212 Problem 5.1"
   ]
  },
  {
   "cell_type": "code",
   "execution_count": 4,
   "metadata": {
    "collapsed": false
   },
   "outputs": [
    {
     "name": "stdout",
     "output_type": "stream",
     "text": [
      "Minimum frequency = 99.90 MHz\n",
      "Maximum frequency = 100.10 MHz\n",
      "Minimum frequency = 99.90 MHz\n",
      "Maximum frequency = 100.10 MHz\n"
     ]
    }
   ],
   "source": [
    "from math import pi\n",
    "\n",
    "# The values of constsnts Kf and Kp are given as Kf= 2*pi*10**5 and Kp=10*pi, and carrier frequency fc=100MHz\n",
    "\n",
    "# For FM :\n",
    "#fi= fc + Kf*m(t)/2*pi\n",
    "# Minimum value of m(t) = -1 and Maximum value of m(t)= +1\n",
    "Kf= 2*pi*10**5 #\n",
    "Kp=10*pi#\n",
    "fc=100*10**6 ## in Hz\n",
    "Mmin = -1 # \n",
    "Mmax=1#\n",
    "fimin1= fc + Kf*Mmin/(2*pi)#\n",
    "print 'Minimum frequency = %0.2f MHz'%(fimin1/10**6)\n",
    "fimax1= fc + Kf*Mmax/(2*pi)#\n",
    "print 'Maximum frequency = %0.2f MHz'%(fimax1/10**6)\n",
    "\n",
    "#For PM :\n",
    "#fi= fc + Kp*m(t)'/2*pi\n",
    "# Minimum value of m(t)' = -20,000 and Maximum value of m(t)'= +20,000\n",
    "Mmin1=-20000 # \n",
    "Mmax1=20000#\n",
    "fimin2= fc + Kp*Mmin1/(2*pi)#\n",
    "print 'Minimum frequency = %.2f MHz'%(fimin2/10**6)\n",
    "fimax2= fc + Kp*Mmax1/(2*pi)#\n",
    "print 'Maximum frequency = %.2f MHz'%(fimax2/10**6)\n",
    "\n",
    "# Since m(t) is increases and decreases linearly with time, the instantaneous frequency increases linearly from fimin to fimax"
   ]
  },
  {
   "cell_type": "markdown",
   "metadata": {},
   "source": [
    "## Page 213 Problem 5.2"
   ]
  },
  {
   "cell_type": "code",
   "execution_count": 5,
   "metadata": {
    "collapsed": false
   },
   "outputs": [
    {
     "name": "stdout",
     "output_type": "stream",
     "text": [
      "Minimum frequency = 99.90 MHz\n",
      "Maximum frequency = 100.10 MHz\n"
     ]
    }
   ],
   "source": [
    "from math import pi\n",
    "\n",
    "# The values of constsnts Kf and Kp are given as Kf= 2*pi*10**5 and Kp=pi/2, and carrier frequency fc=100MHz\n",
    "# For FM :\n",
    "#fi= fc + Kf*m(t)/2*pi\n",
    "# Minimum value of m(t) = -1 and Maximum value of m(t)= +1\n",
    "Kf= 2*pi*10**5 #\n",
    "Kp=pi/2#\n",
    "fc=100*10**6 ## in Hz\n",
    "Mmin = -1 #\n",
    "Mmax=1#\n",
    "fimin1= fc + Kf*Mmin/(2*pi)#\n",
    "print 'Minimum frequency = %.2f MHz'%(fimin1/10**6)\n",
    "fimax1= fc + Kf*Mmax/(2*pi)#\n",
    "print 'Maximum frequency = %.2f MHz'%(fimax1/10**6)\n",
    "# Since m(t) is increases and decreases linearly with time, the instantaneous frequency increases linearly from fimin to fimax"
   ]
  },
  {
   "cell_type": "markdown",
   "metadata": {},
   "source": [
    "## Page 222 Problem 5.3.a"
   ]
  },
  {
   "cell_type": "code",
   "execution_count": 6,
   "metadata": {
    "collapsed": false
   },
   "outputs": [
    {
     "name": "stdout",
     "output_type": "stream",
     "text": [
      "Bfm = 230.00 kHz\n",
      "Bpm = 130.00 kHz\n"
     ]
    }
   ],
   "source": [
    "from math import pi\n",
    "\n",
    "# refer fig from page no. 212 Fig.5.4a\n",
    "# The values of constsnts Kf and Kp are given as Kf= 2*pi*10**5 and Kp=5*pi .\n",
    "# Here we are assuming the Bandwidth B of m(t) as the frequency of the third harmonic, i.e. 3(10**4/2)Hz= 15kHz\n",
    "B=15## in kHz\n",
    "# For FM:\n",
    "#  Here peak amplitude of m(t) is mp=1\n",
    "mp=1#\n",
    "# df=kf*mp/2*pi\n",
    "Kf= 2*pi*10**5# \n",
    "Kp=5*pi#\n",
    "df= (Kf*mp)/(2*pi)## in Hz\n",
    "df=df/10**3## in KHz\n",
    "Bfm=2*(df+B)#\n",
    "print 'Bfm = %.2f kHz'%(Bfm)\n",
    "# For PM:\n",
    "#Here peak amplitude of m(t)' is mp=20000\n",
    "mp=20000#\n",
    "# df=kp*mp/2*pi\n",
    "df= (Kp*mp)/(2*pi)## in Hz\n",
    "df=df/10**3## in KHz\n",
    "Bpm=2*(df+B)#\n",
    "print 'Bpm = %.2f kHz'%Bpm"
   ]
  },
  {
   "cell_type": "markdown",
   "metadata": {},
   "source": [
    "## Page 222 Problem 5.3.b"
   ]
  },
  {
   "cell_type": "code",
   "execution_count": 7,
   "metadata": {
    "collapsed": false
   },
   "outputs": [
    {
     "name": "stdout",
     "output_type": "stream",
     "text": [
      "Bfm = 430.00 kHz\n",
      "Bpm = 230.00 kHz\n"
     ]
    }
   ],
   "source": [
    "from math import pi\n",
    "# The values of constsnts Kf and Kp are given as Kf= 2*pi*10**5 and Kp=5*pi .\n",
    "# Here we are assuming the Bandwidth B of m(t) as the frequency of the third harmonic, i.e. 3(10**4/2)Hz= 15kHz\n",
    "B=15## in kHz\n",
    "# For FM:\n",
    "#  Here peak amplitude of m(t) is doubled ,mp=2\n",
    "mp=2#\n",
    "# df=kf*mp/2*pi\n",
    "Kf= 2*pi*10**5#\n",
    "Kp=5*pi#\n",
    "df= (Kf*mp)/(2*pi)## in Hz\n",
    "df=df/10**3## in KHz\n",
    "Bfm=2*(df+B)#\n",
    "print 'Bfm = %.2f kHz'%Bfm\n",
    "# For PM:\n",
    "#Here peak amplitude of m(t)' is doubled mp=40000\n",
    "mp=40000#\n",
    "# df=kp*mp/2*pi\n",
    "df= (Kp*mp)/(2*pi)## in Hz\n",
    "df=df/10**3## in KHz\n",
    "Bpm=2*(df+B)#\n",
    "print 'Bpm = %.2f kHz'%Bpm\n",
    "# doubling the signal amplitude roughly doubles the bandwidth of both FM and PM waveform"
   ]
  },
  {
   "cell_type": "markdown",
   "metadata": {},
   "source": [
    "## Page 224 Problem 5.4"
   ]
  },
  {
   "cell_type": "code",
   "execution_count": 8,
   "metadata": {
    "collapsed": false
   },
   "outputs": [
    {
     "name": "stdout",
     "output_type": "stream",
     "text": [
      "Bfm = 215.00 kHz\n",
      "Bpm = 65.00 kHz\n"
     ]
    }
   ],
   "source": [
    "from math import pi\n",
    "\n",
    "# Repeat example 5.3 with m(t) expanded by a factor of 2 i.e. if the period of m(t) is 4*10**-4\n",
    "# The values of constsnts Kf and Kp are given as Kf= 2*pi*10**5 and Kp=5*pi .\n",
    "# we know that time expansion by a factor 2 reduces the signal spectrum width by a factor 2\n",
    "# Therefore bandwidth is half the previous bandwidth\n",
    "B=7.5# # im KHz\n",
    "# For FM:\n",
    "#  Time expansion does not affect the peak amplitude so that mp=1.\n",
    "mp=1#\n",
    "# df=kf*mp/2*pi\n",
    "Kf= 2*pi*10**5# \n",
    "Kp=5*pi#\n",
    "df= (Kf*mp)/(2*pi)## in Hz\n",
    "df=df/10**3## in KHz\n",
    "Bfm=2*(df+B)#\n",
    "print 'Bfm = %.2f kHz'%Bfm\n",
    "# For PM:\n",
    "#mp is halved i.e. mp=10000\n",
    "mp=10000#\n",
    "# df=kp*mp/2*pi\n",
    "df= (Kp*mp)/(2*pi)## in Hz\n",
    "df=df/10**3## in KHz\n",
    "Bpm=2*(df+B)#\n",
    "print 'Bpm = %.2f kHz'%Bpm\n",
    "# Time expansion of m(t) has very little effect on the FM bandwidth, but it halves the PM bandwidth"
   ]
  },
  {
   "cell_type": "markdown",
   "metadata": {},
   "source": [
    "## Page 225 Problem 5.5"
   ]
  },
  {
   "cell_type": "code",
   "execution_count": 10,
   "metadata": {
    "collapsed": false
   },
   "outputs": [
    {
     "name": "stdout",
     "output_type": "stream",
     "text": [
      "a) The carrier power is : 50.00 Watt\n",
      "b) The frequency deviation = 12387.32 Hz\n",
      "c) The deviation ratio is: 12.39 \n",
      "d)The phase deviation = 15.00 rad\n",
      "e)Bandwidth is : 26774.65 Hz\n"
     ]
    }
   ],
   "source": [
    "from math import pi\n",
    "#Assuming SI unit for all quantities\n",
    "\n",
    "# An angle modulated signal with carrier frequency wc = 2*pi*10**5 is described by the equation Qem= 10cos(@(t)) where @(t)=wct+5sin3000t+10sin2000pi*t\n",
    "B=2000*pi/(2*pi)##signal bandwidthis the highest frequency in m(t)\n",
    "Ac=10##carrier amplitude\n",
    "P=Ac**2/2## carrier power\n",
    "print 'a) The carrier power is : %.2f Watt'%P\n",
    "# to find frequency derivative df, e find instantaneous freq. w as\n",
    "# wi=d/dt(@(t))= wc+15000cos3000t+20000pi*cos2000pi*t#\n",
    "# The carrier derivative is 15000cos3000t+20000pi*cos2000pi*t. The two sinusoids will add in phase at some point and the maximum value of the expression is dW=15000+20000pi\n",
    "dW=15000+20000*pi#\n",
    "df=dW/(2*pi)#\n",
    "print 'b) The frequency deviation = %.2f Hz'%df\n",
    "# The deviation ratio B1 is given as\n",
    "B1=df/B#\n",
    "print 'c) The deviation ratio is: %.2f '%B1\n",
    "#The phase deviation is the maximum value of the angle @(t) and is given b d@\n",
    "d=5+10#\n",
    "print 'd)The phase deviation = %.2f rad'%d\n",
    "Bem=2*(df+B)#\n",
    "print 'e)Bandwidth is : %.2f Hz'%Bem"
   ]
  }
 ],
 "metadata": {
  "kernelspec": {
   "display_name": "Python 2",
   "language": "python",
   "name": "python2"
  },
  "language_info": {
   "codemirror_mode": {
    "name": "ipython",
    "version": 2
   },
   "file_extension": ".py",
   "mimetype": "text/x-python",
   "name": "python",
   "nbconvert_exporter": "python",
   "pygments_lexer": "ipython2",
   "version": "2.7.9"
  }
 },
 "nbformat": 4,
 "nbformat_minor": 0
}
