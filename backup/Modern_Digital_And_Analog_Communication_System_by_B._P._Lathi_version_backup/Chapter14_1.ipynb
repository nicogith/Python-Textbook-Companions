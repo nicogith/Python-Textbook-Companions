{
 "cells": [
  {
   "cell_type": "markdown",
   "metadata": {},
   "source": [
    "# Chapter 14 : Optimum signal detection"
   ]
  },
  {
   "cell_type": "markdown",
   "metadata": {},
   "source": [
    "## Page 631 Prob 14.1"
   ]
  },
  {
   "cell_type": "code",
   "execution_count": 6,
   "metadata": {
    "collapsed": false
   },
   "outputs": [
    {
     "data": {
      "image/png": "[encoded data removed]",
      "text/plain": [
       "<matplotlib.figure.Figure at 0x7f06e3c30650>"
      ]
     },
     "metadata": {},
     "output_type": "display_data"
    }
   ],
   "source": [
    "from numpy import arange\n",
    "%matplotlib inline\n",
    "from matplotlib.pyplot import plot,show,title,xlabel,ylabel\n",
    "\n",
    "# the co-ordinates of the vectors are \n",
    "# s1(1,-0.5),s2=(-0.5,1),s3=(0,-1),s4=(0.5,1)\n",
    "x4=arange(0,0.6,0.1)\n",
    "y4=[]\n",
    "for x in x4:y4.append(2*x)\n",
    "\n",
    "plot(x4,y4) # blue line\n",
    "x1=arange(0,1.1,0.1)\n",
    "y1=[]\n",
    "for x in x1:y1.append(-0.5*x)\n",
    "plot(x1,y1) #green line\n",
    "title(\"x4 Vs y4 & x1 Vs y1\")\n",
    "xlabel(\"x --->\")\n",
    "ylabel(\"y --->\")\n",
    "show()"
   ]
  },
  {
   "cell_type": "markdown",
   "metadata": {},
   "source": [
    "## Page no. 650 problem no. 14.2"
   ]
  },
  {
   "cell_type": "code",
   "execution_count": 7,
   "metadata": {
    "collapsed": false
   },
   "outputs": [
    {
     "name": "stdout",
     "output_type": "stream",
     "text": [
      "probability of symbol m1 is 0.168\n",
      "probability of symbol m2 is0.245\n",
      "the threshold is= 0.08 \n"
     ]
    }
   ],
   "source": [
    "from math import sqrt,log\n",
    "\n",
    "# the two symbols to be transmitted are m1 and m2,the probabilities of which are not equal\n",
    "# To design the optimum receiver we need to decide the threshold say d\n",
    "# N be the given noise  PSD,E the energy of the signal, assume N =1, E=1.5\n",
    "Pm1=input(\"probability of symbol m1 is \")\n",
    "Pm2=input(\"probability of symbol m2 is\")\n",
    "#d is calculated as follows\n",
    "N=1#\n",
    "E=1.5#\n",
    "d=(N/(4*sqrt(E)))*log(Pm2/Pm1)#\n",
    "print \"the threshold is= %0.2f \"%d"
   ]
  },
  {
   "cell_type": "markdown",
   "metadata": {},
   "source": [
    "## Page no 665 Problem 14.7"
   ]
  },
  {
   "cell_type": "code",
   "execution_count": 9,
   "metadata": {
    "collapsed": false
   },
   "outputs": [
    {
     "name": "stdout",
     "output_type": "stream",
     "text": [
      "probability of symbol m1 is0.25\n",
      "probability of symbol m2 is0.35\n",
      "mean energy of the first signal is 0.125000 units\n",
      "mean energy of the second signal is 0.087500 units\n"
     ]
    }
   ],
   "source": [
    "# we know k1P(m1)=k2P(m2), where k1 and k2 are the distances of the signals s1 and s2 resp.,hence k1+k2=d\n",
    "Pm1=input(\"probability of symbol m1 is\")\n",
    "Pm2=input(\"probability of symbol m2 is\")\n",
    "#assume d=1\n",
    "d=1#\n",
    "E1=(((Pm1)*((d**2)/2.))+((Pm2)*((d**2)/2)))#\n",
    "print \"mean energy of the first signal is %f units\"%E1\n",
    "E2=Pm1*Pm2*(d**2)#\n",
    "print \"mean energy of the second signal is %f units\"%E2\n",
    "if(E1==E2):\n",
    "    print \"signals are equiprobable\"#\n",
    "    "
   ]
  }
 ],
 "metadata": {
  "kernelspec": {
   "display_name": "Python 2",
   "language": "python",
   "name": "python2"
  },
  "language_info": {
   "codemirror_mode": {
    "name": "ipython",
    "version": 2
   },
   "file_extension": ".py",
   "mimetype": "text/x-python",
   "name": "python",
   "nbconvert_exporter": "python",
   "pygments_lexer": "ipython2",
   "version": "2.7.9"
  }
 },
 "nbformat": 4,
 "nbformat_minor": 0
}
