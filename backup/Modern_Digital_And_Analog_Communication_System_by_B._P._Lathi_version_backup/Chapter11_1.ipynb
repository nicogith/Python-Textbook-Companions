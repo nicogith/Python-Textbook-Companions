{
 "cells": [
  {
   "cell_type": "markdown",
   "metadata": {},
   "source": [
    "# Chapter 11 : Random Processes"
   ]
  },
  {
   "cell_type": "markdown",
   "metadata": {},
   "source": [
    "## Page 500 Example 11.2"
   ]
  },
  {
   "cell_type": "code",
   "execution_count": 1,
   "metadata": {
    "collapsed": false
   },
   "outputs": [
    {
     "name": "stdout",
     "output_type": "stream",
     "text": [
      "enter the value of T : 0.245\n",
      "mean square value of the signal is 0.9995 Watt\n"
     ]
    }
   ],
   "source": [
    "from math import pi,sin\n",
    "#given signal is Sx=(N/2)*rect(w/4(pi)B)\n",
    "N=1#\n",
    "B=1#\n",
    "T=input(\"enter the value of T : \")\n",
    "Rx=(N*B)*(sin(2*(pi)*B*T))#\n",
    "print \"mean square value of the signal is %0.4f\"%Rx,\"Watt\""
   ]
  },
  {
   "cell_type": "markdown",
   "metadata": {},
   "source": [
    "## Page 501 Example 11.3"
   ]
  },
  {
   "cell_type": "code",
   "execution_count": 3,
   "metadata": {
    "collapsed": false
   },
   "outputs": [
    {
     "name": "stdout",
     "output_type": "stream",
     "text": [
      "enter the value of wct : .165\n",
      "mean square value of the process is 1.9728 Watt\n"
     ]
    }
   ],
   "source": [
    "from math import cos\n",
    "# autocorrelation function of given signal is A**2/2 * cos(wct)\n",
    "A=2#\n",
    "wct=input(\"enter the value of wct : \")\n",
    "Rx=((A**2)/2)* cos(wct)#\n",
    "print \"mean square value of the process is %.4f\"%Rx,\"Watt\""
   ]
  },
  {
   "cell_type": "markdown",
   "metadata": {},
   "source": [
    "## Page 506 Example 11.7"
   ]
  },
  {
   "cell_type": "code",
   "execution_count": 4,
   "metadata": {
    "collapsed": false
   },
   "outputs": [
    {
     "name": "stdout",
     "output_type": "stream",
     "text": [
      "enter prob of symbol 1 : .75\n",
      "enter prob of symbol -1 : .21\n",
      "mean is 0.54\n",
      "mean square is 0.96\n"
     ]
    }
   ],
   "source": [
    "P1=input(\"enter prob of symbol 1 : \")\n",
    "P2=input(\"enter prob of symbol -1 : \")\n",
    "ak=(1)*P1+(-1)*P2#\n",
    "print \"mean is\",ak\n",
    "Ro=(1**2)*P1+((-1)**2)*P2#\n",
    "print \"mean square is\",Ro"
   ]
  },
  {
   "cell_type": "markdown",
   "metadata": {},
   "source": [
    "## Page 507 Example 11.8a "
   ]
  },
  {
   "cell_type": "code",
   "execution_count": 5,
   "metadata": {
    "collapsed": false
   },
   "outputs": [
    {
     "name": "stdout",
     "output_type": "stream",
     "text": [
      "enter prob of symbol 1 : 0.215\n",
      "enter prob of symbol 0 : .314\n",
      "mean is 0.215\n",
      "mean square is 0.215\n"
     ]
    }
   ],
   "source": [
    "P1=input(\"enter prob of symbol 1 : \")\n",
    "P0=input(\"enter prob of symbol 0 : \")\n",
    "ak=(1)*P1+(0)*P2#\n",
    "print \"mean is\",ak\n",
    "Ro=(1**2)*P1+((0)**2)*P2#\n",
    "print \"mean square is\",Ro"
   ]
  },
  {
   "cell_type": "markdown",
   "metadata": {},
   "source": [
    "## Page 508 Example 11.8b"
   ]
  },
  {
   "cell_type": "code",
   "execution_count": 7,
   "metadata": {
    "collapsed": false
   },
   "outputs": [
    {
     "name": "stdout",
     "output_type": "stream",
     "text": [
      "enter prob of symbol 0 : .25\n",
      "enter prob of symbol 1 : .35\n",
      "enter prob of symbol -1 : .45\n",
      "mean is -0.1\n",
      "mean square is 0.8\n"
     ]
    }
   ],
   "source": [
    "# bipolar signalling\n",
    "P0=input(\"enter prob of symbol 0 : \")\n",
    "P1=input(\"enter prob of symbol 1 : \")\n",
    "P2=input(\"enter prob of symbol -1 : \")\n",
    "ak=(0)*P0+(1)*P1+(-1)*P2#\n",
    "print \"mean is\",ak\n",
    "Ro=(0**2)*P0+(1**2)*P1+((-1)**2)*P2#\n",
    "print \"mean square is\",Ro"
   ]
  }
 ],
 "metadata": {
  "kernelspec": {
   "display_name": "Python 2",
   "language": "python",
   "name": "python2"
  },
  "language_info": {
   "codemirror_mode": {
    "name": "ipython",
    "version": 2
   },
   "file_extension": ".py",
   "mimetype": "text/x-python",
   "name": "python",
   "nbconvert_exporter": "python",
   "pygments_lexer": "ipython2",
   "version": "2.7.9"
  }
 },
 "nbformat": 4,
 "nbformat_minor": 0
}
