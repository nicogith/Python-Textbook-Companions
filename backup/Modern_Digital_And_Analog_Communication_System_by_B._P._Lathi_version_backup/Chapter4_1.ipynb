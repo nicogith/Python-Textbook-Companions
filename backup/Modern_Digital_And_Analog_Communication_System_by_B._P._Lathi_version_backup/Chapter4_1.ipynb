{
 "cells": [
  {
   "cell_type": "markdown",
   "metadata": {},
   "source": [
    "# Chapter 4 : Amplitude(Linear) Modulation"
   ]
  },
  {
   "cell_type": "markdown",
   "metadata": {},
   "source": [
    "## Page 166 Problem 4.5"
   ]
  },
  {
   "cell_type": "code",
   "execution_count": 2,
   "metadata": {
    "collapsed": false
   },
   "outputs": [
    {
     "name": "stdout",
     "output_type": "stream",
     "text": [
      "efficiency in % is 11.111\n",
      "efficiency in % is 4.306\n"
     ]
    }
   ],
   "source": [
    "# we  have given 1)u=.5 and 2)u=.3\n",
    "# efficiency n is calculated by using formula n= (u**2) / (2+u**2) *100 %\n",
    "#for u=0.5\n",
    "u1=0.5#\n",
    "n1= (u1**2) / (2+u1**2) *100 #\n",
    "print 'efficiency in % is',round(n1,3)\n",
    "# Hence only 11.1111% of total power is in sidebands.\n",
    "#for u=0.3\n",
    "u2=0.3#\n",
    "n2= (u2**2) / (2+u2**2) *100#\n",
    "print 'efficiency in % is',round(n2,3)\n",
    "# Hence only 4.3062% of the total power is the useful power (power in sidebands)"
   ]
  }
 ],
 "metadata": {
  "kernelspec": {
   "display_name": "Python 2",
   "language": "python",
   "name": "python2"
  },
  "language_info": {
   "codemirror_mode": {
    "name": "ipython",
    "version": 2
   },
   "file_extension": ".py",
   "mimetype": "text/x-python",
   "name": "python",
   "nbconvert_exporter": "python",
   "pygments_lexer": "ipython2",
   "version": "2.7.9"
  }
 },
 "nbformat": 4,
 "nbformat_minor": 0
}
