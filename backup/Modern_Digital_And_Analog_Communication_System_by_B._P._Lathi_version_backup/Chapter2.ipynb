{
 "cells": [
  {
   "cell_type": "markdown",
   "metadata": {},
   "source": [
    "# Chapter2 : Introduction to signals"
   ]
  },
  {
   "cell_type": "markdown",
   "metadata": {},
   "source": [
    "## Page no 17 Prob 2.1 b"
   ]
  },
  {
   "cell_type": "code",
   "execution_count": 3,
   "metadata": {
    "collapsed": false
   },
   "outputs": [
    {
     "name": "stdout",
     "output_type": "stream",
     "text": [
      "power of signal: 0.333 Watt\n"
     ]
    }
   ],
   "source": [
    "from sympy.mpmath import quad\n",
    "\n",
    "t0=-1\n",
    "t1=1\n",
    "y=quad(lambda t:t**2,[t0,t1])\n",
    "print 'power of signal: %0.3f'%(y/2),\"Watt\""
   ]
  },
  {
   "cell_type": "markdown",
   "metadata": {},
   "source": [
    "## page no.26 Exa no.2.3b"
   ]
  },
  {
   "cell_type": "code",
   "execution_count": 6,
   "metadata": {
    "collapsed": false
   },
   "outputs": [
    {
     "data": {
      "image/png": "[encoded data removed]",
      "text/plain": [
       "<matplotlib.figure.Figure at 0x7fc60b2ab310>"
      ]
     },
     "metadata": {},
     "output_type": "display_data"
    }
   ],
   "source": [
    "%matplotlib inline\n",
    "from matplotlib.pyplot import plot,subplot,show,title\n",
    "\n",
    "from numpy import arange\n",
    "\n",
    "t=arange(-3,1.0082,.0082)\n",
    "m1=(0-1)/(-3-(-1))##slope for -3<t<-1\n",
    "c1=(0-m1*(-3))##intercept for pt(-3,0)\n",
    "u=[]\n",
    "for tt in t:\n",
    "    if tt<=-1:\n",
    "        u.append(((m1*tt)+c1))\n",
    "    else:\n",
    "        break\n",
    "m2=(1-0)/(-1-1)##slope for -1<t<1\n",
    "c2=(0-m2*1)#intercept for pt(1,0)\n",
    "\n",
    "for tt in t:\n",
    "    if tt>-1:\n",
    "        u.append(((m2*tt)+c2))\n",
    "subplot(221)\n",
    "plot(t,u)\n",
    "title('original signal')\n",
    "subplot(222)\n",
    "plot([2*tt for tt in t],u)\n",
    "title('expansion of signal')\n",
    "show()\n"
   ]
  },
  {
   "cell_type": "markdown",
   "metadata": {},
   "source": [
    "## Page27 Problem 2.4"
   ]
  },
  {
   "cell_type": "code",
   "execution_count": 10,
   "metadata": {
    "collapsed": false
   },
   "outputs": [
    {
     "data": {
      "image/png": "[encoded data removed]",
      "text/plain": [
       "<matplotlib.figure.Figure at 0x7fcc37584190>"
      ]
     },
     "metadata": {},
     "output_type": "display_data"
    },
    {
     "data": {
      "image/png": "[encoded data removed]",
      "text/plain": [
       "<matplotlib.figure.Figure at 0x7fcc37462890>"
      ]
     },
     "metadata": {},
     "output_type": "display_data"
    }
   ],
   "source": [
    "from math import exp\n",
    "%matplotlib inline\n",
    "from matplotlib.pyplot import plot,subplot,show,title,xlabel,ylabel\n",
    "\n",
    "t=range(-5,0)#\n",
    "y=[]\n",
    "for tt in t:y.append(exp(tt/2))\n",
    "subplot(221)\n",
    "plot(t,y)\n",
    "title ( \" Original signal \" )\n",
    "xlabel( \" Time \")\n",
    "ylabel(\"g(t) \" )\n",
    "show()\n",
    "t_inv=[]\n",
    "for tt in t:t_inv.append(-tt)\n",
    "y=[]    \n",
    "for tt in t_inv:y.append(exp(-tt/2))    \n",
    "subplot(222)\n",
    "plot(t,y)#\n",
    "title ( \" Time inverted signal\")\n",
    "xlabel( \" time \")\n",
    "ylabel(\"g(-t)\" )\n",
    "show()"
   ]
  },
  {
   "cell_type": "markdown",
   "metadata": {},
   "source": [
    "## Page no 33 Exa 2.5a"
   ]
  },
  {
   "cell_type": "code",
   "execution_count": 13,
   "metadata": {
    "collapsed": false
   },
   "outputs": [
    {
     "name": "stdout",
     "output_type": "stream",
     "text": [
      "energy of sine signal= 3.14 Joule\n",
      "value of c= 1.27 \n"
     ]
    }
   ],
   "source": [
    "from numpy import arange,pi\n",
    "from sympy.mpmath import quad,sin\n",
    "\n",
    "#Assuming SI units for all quantities\n",
    "\n",
    "#approximation of square signal to sine signal with minimum energy\n",
    "t=arange(0,2*pi+.1,0.1)\n",
    "t0=0#\n",
    "t1=2*pi#\n",
    "y=quad(lambda t:(sin(t))**2,[t0,t1])\n",
    "print 'energy of sine signal= %.2f Joule'%y\n",
    "#to calculate value of c\n",
    "t2=0#\n",
    "t3=pi#\n",
    "g=quad(lambda t:sin(t),[t2,t3])\n",
    "t4=pi#\n",
    "t5=2*pi#\n",
    "h=quad(lambda t:-sin(t),[t4,t5])\n",
    "print \"value of c= %0.2f \"%((g+h)/pi)"
   ]
  },
  {
   "cell_type": "markdown",
   "metadata": {},
   "source": [
    "## Page no 33 Exa 2.6a"
   ]
  },
  {
   "cell_type": "code",
   "execution_count": 19,
   "metadata": {
    "collapsed": false
   },
   "outputs": [
    {
     "name": "stdout",
     "output_type": "stream",
     "text": [
      "energy of signal x(t)=5.00 J\n",
      "energy of signal=5.00 J\n",
      "correlation coefficient=1\n"
     ]
    }
   ],
   "source": [
    "from __future__ import division\n",
    "from numpy import arange,pi,sqrt\n",
    "from sympy.mpmath import quad,sin\n",
    "#Assuming SI units for all quantities\n",
    "#given signal is x(t)=1\n",
    "#energy of signal x(t)\n",
    "t0=0#\n",
    "t1=5\n",
    "x=1\n",
    "y=quad(lambda t:x**2,[t0,t1])\n",
    "print 'energy of signal x(t)=%.2f J'%y\n",
    "#to find correlation coefficient we have to calculate the energies of different given signals\n",
    "#1st signal g1(t)=1\n",
    "g1=1\n",
    "e1=quad(lambda t:g1**2,[t0,t1])\n",
    "print 'energy of signal=%.2f J'%e1\n",
    "#correltion coefficient \n",
    "c1=quad(lambda t:g1*x,[t0,t1])\n",
    "print 'correlation coefficient=%.f'%(c1/sqrt(y*e1))"
   ]
  },
  {
   "cell_type": "markdown",
   "metadata": {},
   "source": [
    "## Page no 33 Exa 2.6b"
   ]
  },
  {
   "cell_type": "code",
   "execution_count": 24,
   "metadata": {
    "collapsed": false
   },
   "outputs": [
    {
     "name": "stdout",
     "output_type": "stream",
     "text": [
      "energy of signal x(t)=5.00 J\n",
      "energy of signal=1.25 J\n",
      "correlation coefficient=1.00\n"
     ]
    }
   ],
   "source": [
    "from __future__ import division\n",
    "from numpy import arange,pi,sqrt\n",
    "from sympy.mpmath import quad,sin\n",
    "\n",
    "#Assuming SI units for all quantities\n",
    "#given signal is x(t)=1\n",
    "#energy of signal x(t)\n",
    "t0=0#\n",
    "t1=5\n",
    "x=1\n",
    "y=quad(lambda t:x**2,[t0,t1])\n",
    "print 'energy of signal x(t)=%.2f J'%y\n",
    "#to find correlation coefficient we have to calculate the energies of different given signals\n",
    "g2=.5\n",
    "e2=quad(lambda t:g2**2,[t0,t1])\n",
    "print 'energy of signal=%.2f J'%e2\n",
    "#correltion coefficient \n",
    "c2=quad(lambda t:g2*x,[t0,t1])\n",
    "print 'correlation coefficient=%.2f'%(c2/sqrt(y*e2))"
   ]
  },
  {
   "cell_type": "markdown",
   "metadata": {},
   "source": [
    "## Page no 33 Exa 2.6c"
   ]
  },
  {
   "cell_type": "code",
   "execution_count": 25,
   "metadata": {
    "collapsed": false
   },
   "outputs": [
    {
     "name": "stdout",
     "output_type": "stream",
     "text": [
      "energy of signal x(t)=5.00 J\n",
      "energy of signal=5.00 J\n",
      "correlation coefficient=-1.00\n"
     ]
    }
   ],
   "source": [
    "from __future__ import division\n",
    "from numpy import arange,pi,sqrt\n",
    "from sympy.mpmath import quad,sin\n",
    "\n",
    "#Assuming SI units for all quantities\n",
    "#given signal is x(t)=1\n",
    "#energy of signal x(t)\n",
    "t0=0#\n",
    "t1=5\n",
    "x=1\n",
    "y=quad(lambda t:x**2,[t0,t1])\n",
    "print 'energy of signal x(t)=%.2f J'%y\n",
    "#to find correlation coefficient we have to calculate the energies of different given signals\n",
    "g3=-1\n",
    "e3=quad(lambda t:g3**2,[t0,t1])\n",
    "print 'energy of signal=%0.2f J'%e3\n",
    "#correltion coefficient \n",
    "c3=quad(lambda t:g3*x,[t0,t1])\n",
    "print 'correlation coefficient=%.2f'%(c3/sqrt(y*e3))"
   ]
  },
  {
   "cell_type": "markdown",
   "metadata": {},
   "source": [
    "## Page no 33 Exa 2.6d"
   ]
  },
  {
   "cell_type": "code",
   "execution_count": 33,
   "metadata": {
    "collapsed": false
   },
   "outputs": [
    {
     "name": "stdout",
     "output_type": "stream",
     "text": [
      "energy of signal x(t)=5.00 J\n",
      "energy of signal=2.16 J\n",
      "correlation coefficient=0.96\n"
     ]
    }
   ],
   "source": [
    "from __future__ import division\n",
    "from numpy import arange,pi,sqrt\n",
    "from sympy.mpmath import quad,sin,exp\n",
    "\n",
    "#Assuming SI units for all quantities\n",
    "#given signal is x(t)=1\n",
    "#energy of signal x(t)\n",
    "t0=0#\n",
    "t1=5\n",
    "x=1\n",
    "y=quad(lambda t:x**2,[t0,t1])\n",
    "print 'energy of signal x(t)=%.2f J'%y\n",
    "#to find correlation coefficient we have to calculate the energies of different given signals\n",
    "e4=quad(lambda t:(exp(-t/5))**2,[t0,t1])\n",
    "print 'energy of signal=%.2f J'%e4\n",
    "\n",
    "#correltion coefficient \n",
    "c4=quad(lambda t:(exp(-t/5))*x,[t0,t1])\n",
    "print 'correlation coefficient=%.2f'%(c4/sqrt(y*e4))"
   ]
  },
  {
   "cell_type": "markdown",
   "metadata": {},
   "source": [
    "## Page no 33 Exa 2.6e"
   ]
  },
  {
   "cell_type": "code",
   "execution_count": 34,
   "metadata": {
    "collapsed": false
   },
   "outputs": [
    {
     "name": "stdout",
     "output_type": "stream",
     "text": [
      "energy of signal x(t)=5.00 J\n",
      "energy of signal=0.50 J\n",
      "correlation coefficient=0.63\n"
     ]
    }
   ],
   "source": [
    "from __future__ import division\n",
    "from numpy import arange,pi,sqrt\n",
    "from sympy.mpmath import quad,sin,exp\n",
    "\n",
    "#Assuming  SI units for all quantities\n",
    "#given signal is x(t)=1\n",
    "#energy of signal x(t)\n",
    "t0=0#\n",
    "t1=5\n",
    "x=1\n",
    "y=quad(lambda t:x**2,[t0,t1])\n",
    "print 'energy of signal x(t)=%.2f J'%y\n",
    "#to find correlation coefficient we have to calculate the energies of different given signals\n",
    "e5=quad(lambda t:(exp(-t))**2,[t0,t1])\n",
    "print 'energy of signal=%.2f J'%e5\n",
    "#correltion coefficient \n",
    "c5=quad(lambda t:(exp(-t))*x,[t0,t1])\n",
    "print 'correlation coefficient=%.2f'%(c5/sqrt(y*e5))"
   ]
  },
  {
   "cell_type": "markdown",
   "metadata": {},
   "source": [
    "## Page no 33 Exa 2.6f"
   ]
  },
  {
   "cell_type": "code",
   "execution_count": 35,
   "metadata": {
    "collapsed": false
   },
   "outputs": [
    {
     "name": "stdout",
     "output_type": "stream",
     "text": [
      "energy of signal x(t)=5.00 J\n",
      "energy of signal=2.50 J\n",
      "correlation coefficient=0.71\n"
     ]
    }
   ],
   "source": [
    "from __future__ import division\n",
    "from numpy import arange,pi,sqrt\n",
    "from sympy.mpmath import quad,sin,exp\n",
    "\n",
    "#Assuming SI units for all quantities\n",
    "#given signal is x(t)=1\n",
    "#energy of signal x(t)\n",
    "t0=0#\n",
    "t1=5\n",
    "x=1\n",
    "y=quad(lambda t:x**2,[t0,t1])\n",
    "print 'energy of signal x(t)=%.2f J'%y\n",
    "#to find correlation coefficient we have to calculate the energies of different given signals\n",
    "e6=quad(lambda t:(sin(2*pi*t))**2,[t0,t1])\n",
    "print 'energy of signal=%.2f J'%e6\n",
    "#correltion coefficient \n",
    "c6=quad(lambda t:((sin(2*pi*t))**2)*x,[t0,t1])\n",
    "print 'correlation coefficient=%.2f'%(c6/sqrt(y*e6))"
   ]
  }
 ],
 "metadata": {
  "kernelspec": {
   "display_name": "Python 2",
   "language": "python",
   "name": "python2"
  },
  "language_info": {
   "codemirror_mode": {
    "name": "ipython",
    "version": 2
   },
   "file_extension": ".py",
   "mimetype": "text/x-python",
   "name": "python",
   "nbconvert_exporter": "python",
   "pygments_lexer": "ipython2",
   "version": "2.7.9"
  }
 },
 "nbformat": 4,
 "nbformat_minor": 0
}
