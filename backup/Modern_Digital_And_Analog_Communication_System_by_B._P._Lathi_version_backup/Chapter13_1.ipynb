{
 "cells": [
  {
   "cell_type": "markdown",
   "metadata": {},
   "source": [
    "# Chapter 13 : Behaviour of digital communication systems in the presence of noise "
   ]
  },
  {
   "cell_type": "markdown",
   "metadata": {},
   "source": [
    "## page no 620 prob no 13.1"
   ]
  },
  {
   "cell_type": "code",
   "execution_count": 5,
   "metadata": {
    "collapsed": false
   },
   "outputs": [
    {
     "name": "stdout",
     "output_type": "stream",
     "text": [
      "signal power required at the receiver = 0.47 Watts\n",
      "Bandwidth is = 2080000.00 Hertz\n",
      "signal power required at the receiver= 10.38 Watts\n",
      "Bandwidth is = 520000.00 Hertz\n",
      "signal power required at the receiver = 2.87 Watts\n",
      "Bandwidth is = 1040000.00 Hertz\n"
     ]
    }
   ],
   "source": [
    "from math import log\n",
    "\n",
    "def log2(x):\n",
    "    y=log(x,2)\n",
    "    return y\n",
    "\n",
    "#Determinaion of the transmission bandwidth and the signal power required at the receiver input for i)Binary ii)16-ary ASK iii)16-ary PSK\n",
    "#given Rb=2.08*10**6,Pb<=10**-6\n",
    "\n",
    "#i)for BINARY we have to consider Pb=Pe=10**-6=Q(sqrt(2Eb/N)). This yields Eb/N=11.35. \n",
    "#SIgnal power is given by Si=Eb*Rb=11.35*N*Rb\n",
    "N=2*10**-8##for binary. Channel noise PSD=10**-8\n",
    "Rb=2.08*10**6#\n",
    "Si1=11.35*N*Rb#\n",
    "print \"signal power required at the receiver = %0.2f Watts\"%Si1\n",
    "Bt1=Rb## Bandwidth for baseband pulses\n",
    "print \"Bandwidth is = %0.2f Hertz\"%Bt1\n",
    "\n",
    "#ii)for 16-ary ASK we have to consider Pb=10**-6=Pem/log2(16)\n",
    "# therefore Pem is given as Pem=Pb*log2(16)\n",
    "Pb=10**-6#\n",
    "Pem=Pb*log2(16)#\n",
    "#'Pem' is also given as Pem=2(M-1/M)*Q*sqrt(6Eb*log2(16)/(N(M**2-1)))\n",
    "M=16## for 16-array ASk\n",
    "# By using above formula for 'Pem' , we can calculate the value of Eb,which is come out to be equal to 0.499*10**-5#\n",
    "Eb=0.499*10**-5## if the M-ary pulse rate is RM =Rb/4 then\n",
    "RM =Rb/4# \n",
    "Si2=Eb*(log2(M))*RM#\n",
    "print \"signal power required at the receiver= %0.2f Watts\"%Si2\n",
    "Bt2=RM##transmission bandwith\n",
    "print \"Bandwidth is = %0.2f Hertz\"%Bt2\n",
    "\n",
    "#iii) for 16-array PSK we have to consider Pem=4*Pb. This is approximately equal to 2*Q(sqrt(2*pi**2*Eb*log2(16))/256*N). This yields \n",
    "Eb= 137.8*10**-8#\n",
    "Si3=Eb*log2(16)*RM#\n",
    "print \"signal power required at the receiver = %0.2f Watts\"%Si3\n",
    "Bt3=RM##normally \n",
    "#But for PSK, as it is a modulated signal the required bandwidth is 2Bt3.\n",
    "Bpsk=2*(Bt3)#\n",
    "print \"Bandwidth is = %0.2f Hertz\"%Bpsk"
   ]
  }
 ],
 "metadata": {
  "kernelspec": {
   "display_name": "Python 2",
   "language": "python",
   "name": "python2"
  },
  "language_info": {
   "codemirror_mode": {
    "name": "ipython",
    "version": 2
   },
   "file_extension": ".py",
   "mimetype": "text/x-python",
   "name": "python",
   "nbconvert_exporter": "python",
   "pygments_lexer": "ipython2",
   "version": "2.7.9"
  }
 },
 "nbformat": 4,
 "nbformat_minor": 0
}
