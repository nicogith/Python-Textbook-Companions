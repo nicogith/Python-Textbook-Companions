{
 "metadata": {
  "name": ""
 },
 "nbformat": 3,
 "nbformat_minor": 0,
 "worksheets": [
  {
   "cells": [
    {
     "cell_type": "heading",
     "level": 1,
     "metadata": {},
     "source": [
      "Chapter - 3 : Special-Purpose Diode"
     ]
    },
    {
     "cell_type": "heading",
     "level": 2,
     "metadata": {},
     "source": [
      "Example 3.1\n",
      ": Page No 179"
     ]
    },
    {
     "cell_type": "code",
     "collapsed": false,
     "input": [
      "from __future__ import division\n",
      "# Given data\n",
      "V1 = 18 # in V\n",
      "V2 = 10 # in V\n",
      "R = 270 # in ohm\n",
      "I_S = (V1-V2)/R # in A\n",
      "V_L = 10 # in V\n",
      "R_L = 1 # in K ohm\n",
      "R_L = R_L*1000 # in ohm\n",
      "I_L = V_L/R_L # in A\n",
      "I_Z = I_S-I_L # in A\n",
      "print \"The zener current = %0.1f mA\" %(I_Z*10**3)"
     ],
     "language": "python",
     "metadata": {},
     "outputs": [
      {
       "output_type": "stream",
       "stream": "stdout",
       "text": [
        "The zener current = 19.6 mA\n"
       ]
      }
     ],
     "prompt_number": 2
    },
    {
     "cell_type": "heading",
     "level": 2,
     "metadata": {},
     "source": [
      "Example 3.5\n",
      ": Page No 186"
     ]
    },
    {
     "cell_type": "code",
     "collapsed": false,
     "input": [
      "# Given data\n",
      "I_Z = 2*10**-3 # in A\n",
      "R_Z = 8.5 # in V\n",
      "del_VL = I_Z*R_Z # in V\n",
      "V1 = 10 # in V\n",
      "print \"Change in load voltage = %0.2f V\" %del_VL\n",
      "V_L = V1 + del_VL # in V\n",
      "print \"The load voltage = %0.2f V\" %V_L\n",
      "\n",
      "# Note: There is calculation error to evaluate the value of del_VL. So the answer in the book is wrong."
     ],
     "language": "python",
     "metadata": {},
     "outputs": [
      {
       "output_type": "stream",
       "stream": "stdout",
       "text": [
        "Change in load voltage = 0.02 V\n",
        "The load voltage = 10.02 V\n"
       ]
      }
     ],
     "prompt_number": 3
    },
    {
     "cell_type": "heading",
     "level": 2,
     "metadata": {},
     "source": [
      "Example 3.6\n",
      ": Page No 194"
     ]
    },
    {
     "cell_type": "code",
     "collapsed": false,
     "input": [
      "# Given data\n",
      "R_L = 1.2 # in K ohm\n",
      "R_L = R_L * 10**3 # in ohm\n",
      "V_i = 16 # in V\n",
      "R_i = 1 # in K ohm\n",
      "R_i = R_i * 10**3 # in ohm\n",
      "V = (R_L * V_i)/(R_L + R_i) # in V\n",
      "V_L = V # in V\n",
      "print \"The load voltage = %0.2f V\" %V_L\n",
      "V_R = V_i - V_L # in V\n",
      "print \"The voltage = %0.2f V\" %V_R\n",
      "I_Z = 0 # A\n",
      "print \"The zener diode current = %0.f A\" %I_Z\n",
      "V_Z = 10 # in V\n",
      "P_Z = V_Z*I_Z # in W\n",
      "print \"Power dissipation = %0.f watt\" %P_Z"
     ],
     "language": "python",
     "metadata": {},
     "outputs": [
      {
       "output_type": "stream",
       "stream": "stdout",
       "text": [
        "The load voltage = 8.73 V\n",
        "The voltage = 7.27 V\n",
        "The zener diode current = 0 A\n",
        "Power dissipation = 0 watt\n"
       ]
      }
     ],
     "prompt_number": 4
    },
    {
     "cell_type": "heading",
     "level": 2,
     "metadata": {},
     "source": [
      "Example 3.7\n",
      ": Page No 195"
     ]
    },
    {
     "cell_type": "code",
     "collapsed": false,
     "input": [
      "# Given data\n",
      "I_Z1 = 20 # in mA\n",
      "I_Z1= I_Z1*10**-3 # in A\n",
      "I_Z2 = 30 # in mA\n",
      "I_Z2= I_Z2*10**-3 # in A\n",
      "V_Z1 = 5.6 # in V\n",
      "V_Z2 = 5.75 # in V\n",
      "del_IZ = I_Z2-I_Z1 # in A\n",
      "del_VZ = V_Z2-V_Z1 # in V\n",
      "r_Z = del_VZ/del_IZ # in ohm\n",
      "print \"Resistance of zener diode = %0.f ohm\" %r_Z"
     ],
     "language": "python",
     "metadata": {},
     "outputs": [
      {
       "output_type": "stream",
       "stream": "stdout",
       "text": [
        "Resistance of zener diode = 15 ohm\n"
       ]
      }
     ],
     "prompt_number": 5
    },
    {
     "cell_type": "heading",
     "level": 2,
     "metadata": {},
     "source": [
      "Example 3.8\n",
      ": Page No 195"
     ]
    },
    {
     "cell_type": "code",
     "collapsed": false,
     "input": [
      "# Given data\n",
      "R = 1 # in K ohm\n",
      "R = R * 10**3 # in ohm\n",
      "V_Z = 10 # in V\n",
      "V_i = 50 # in V\n",
      "I_ZM = 32 # in mA\n",
      "I_ZM= I_ZM*10**-3 # in A\n",
      "R_Lmin = (R*V_Z)/(V_i-V_Z) # in ohm\n",
      "print \"The minimum value of R_L = %0.f ohm\" %R_Lmin\n",
      "V_R = V_i-V_Z # in V\n",
      "I_R = V_R/R # in A\n",
      "I_Lmin = I_R-I_ZM # in A\n",
      "print \"The minimum value of I_L = %0.f mA\" %(I_Lmin*10**3)\n",
      "R_Lmax = V_Z/I_Lmin # in ohm\n",
      "print \"The maximum value of R_L = %0.2f kohm\" %(R_Lmax*10**-3)"
     ],
     "language": "python",
     "metadata": {},
     "outputs": [
      {
       "output_type": "stream",
       "stream": "stdout",
       "text": [
        "The minimum value of R_L = 250 ohm\n",
        "The minimum value of I_L = 8 mA\n",
        "The maximum value of R_L = 1.25 kohm\n"
       ]
      }
     ],
     "prompt_number": 7
    },
    {
     "cell_type": "heading",
     "level": 2,
     "metadata": {},
     "source": [
      "Example 3.9\n",
      ": Page No 196"
     ]
    },
    {
     "cell_type": "code",
     "collapsed": false,
     "input": [
      "# Given data\n",
      "V_Z = 20 # in V\n",
      "R_L = 1.2 # in K ohm\n",
      "R_L = R_L * 10**3 # in ohm\n",
      "R = 220 # in ohm\n",
      "I_ZM = 60 # in mA\n",
      "I_ZM= I_ZM*10**-3 # in A\n",
      "Vi_min = (R_L + R)/R_L*V_Z # in V\n",
      "print \"The minimum value of Vi = %0.2f V\" %Vi_min\n",
      "V_L= V_Z # in V\n",
      "I_L= V_L/R_L # in A\n",
      "Vi_max= (I_ZM+I_L)*R+V_Z # in V\n",
      "print \"The maximum value of Vi = %0.2f V\" %Vi_max"
     ],
     "language": "python",
     "metadata": {},
     "outputs": [
      {
       "output_type": "stream",
       "stream": "stdout",
       "text": [
        "The minimum value of Vi = 23.67 V\n",
        "The maximum value of Vi = 36.87 V\n"
       ]
      }
     ],
     "prompt_number": 8
    },
    {
     "cell_type": "heading",
     "level": 2,
     "metadata": {},
     "source": [
      "Example 3.10\n",
      ": Page No 197"
     ]
    },
    {
     "cell_type": "code",
     "collapsed": false,
     "input": [
      "# Given data\n",
      "V1 = 18 # in V\n",
      "V2 = 270 # in V\n",
      "R = 1 # in K ohm\n",
      "R = R*1000 # in ohm\n",
      "V = (V1*R)/(V2+R) # in V\n",
      "print \"The open circuit voltage = %0.1f volts\" %V\n",
      "if V>=10 :\n",
      "    print \"The zener diode is operating in the breakdown region.\"\n"
     ],
     "language": "python",
     "metadata": {},
     "outputs": [
      {
       "output_type": "stream",
       "stream": "stdout",
       "text": [
        "The open circuit voltage = 14.2 volts\n",
        "The zener diode is operating in the breakdown region.\n"
       ]
      }
     ],
     "prompt_number": 11
    },
    {
     "cell_type": "heading",
     "level": 2,
     "metadata": {},
     "source": [
      "Example 3.11\n",
      ": Page No 198"
     ]
    },
    {
     "cell_type": "code",
     "collapsed": false,
     "input": [
      "# Given data\n",
      "R_L = 300 # in ohm\n",
      "R = 200 # in ohm\n",
      "V_i = 20 # in V\n",
      "V = (R_L/(R_L+R))*V_i # in V\n",
      "print \"The value of V_L = %0.f Volts\" %V\n",
      "V_L = 10 # in V\n",
      "V_Z= V_L # in V\n",
      "I_L = V_L/R_L # A\n",
      "print \"The value of I_L = %0.2f mA\" %(I_L*10**3)\n",
      "I_R = (V_i-V_L)/R # in A\n",
      "print \"The value of I_R = %0.f mA\" %(I_R*10**3)\n",
      "I_Z = I_R-I_L # in A\n",
      "print \"The value of I_Z = %0.2f mA\" %(I_Z*10**3)\n",
      "# Formula V_Z= R_L*V_i/(R_L+R)\n",
      "R_L= R*V_Z/(V_i-V_Z) # in ohm\n",
      "print \"The value of R_L = %0.f ohm\" %R_L"
     ],
     "language": "python",
     "metadata": {},
     "outputs": [
      {
       "output_type": "stream",
       "stream": "stdout",
       "text": [
        "The value of V_L = 12 Volts\n",
        "The value of I_L = 33.33 mA\n",
        "The value of I_R = 50 mA\n",
        "The value of I_Z = 16.67 mA\n",
        "The value of R_L = 200 ohm\n"
       ]
      }
     ],
     "prompt_number": 13
    },
    {
     "cell_type": "heading",
     "level": 2,
     "metadata": {},
     "source": [
      "Example 3.12\n",
      ": Page No 199"
     ]
    },
    {
     "cell_type": "code",
     "collapsed": false,
     "input": [
      "# Given data\n",
      "V_Z = 5 # in V\n",
      "I_Zmin = 2 # in mA\n",
      "I_Zmin= I_Zmin*10**-3 # in A\n",
      "I_Zmax = 20 # in mA\n",
      "I_Zmax=I_Zmax*10**-3 # in A\n",
      "R_L = 1 # in kohm\n",
      "R_L = R_L * 10**3 # in ohm\n",
      "I_L = V_Z/R_L # in A\n",
      "I = I_L + I_Zmin # in A\n",
      "Vin_min = V_Z + (I*R_L) # in V\n",
      "print \"The minimum input voltage = %0.f V\" %Vin_min\n",
      "I = I_L + I_Zmax # in A\n",
      "Vin_max = V_Z + I* R_L # in V\n",
      "print \"The maximum input voltage = %0.f V\" %Vin_max"
     ],
     "language": "python",
     "metadata": {},
     "outputs": [
      {
       "output_type": "stream",
       "stream": "stdout",
       "text": [
        "The minimum input voltage = 12 V\n",
        "The maximum input voltage = 30 V\n"
       ]
      }
     ],
     "prompt_number": 14
    },
    {
     "cell_type": "heading",
     "level": 2,
     "metadata": {},
     "source": [
      "Example 3.13\n",
      ": Page No 200"
     ]
    },
    {
     "cell_type": "code",
     "collapsed": false,
     "input": [
      "# Given data\n",
      "V_in1 = 18 # in V\n",
      "V_in2 = 22 # in V\n",
      "V_o = 6 # in V\n",
      "I_L = 50 # in mA\n",
      "I_L= I_L*10**-3 # in A\n",
      "I_Zmin = 5 # in mA\n",
      "I_Zmin= I_Zmin*10**-3 # in A\n",
      "P_Z = 0.5 # in Watt\n",
      "V_Z= 6 # in V\n",
      "I_Zmax = P_Z/V_Z # in A\n",
      "print \"Zener diode current = %0.2f mA\" %(I_Zmax*10**3)\n",
      "R_S1 = (V_in2 - V_Z)/(I_L+I_Zmax) # in ohm\n",
      "print \"The minimum value of Rs = %0.f ohm\" %R_S1\n",
      "R_S2 = (V_in1-V_Z)/(I_L+I_Zmin) # in ohm\n",
      "print \"The maximum value of Rs = %0.1f ohm\" %R_S2"
     ],
     "language": "python",
     "metadata": {},
     "outputs": [
      {
       "output_type": "stream",
       "stream": "stdout",
       "text": [
        "Zener diode current = 83.33 mA\n",
        "The minimum value of Rs = 120 ohm\n",
        "The maximum value of Rs = 218.2 ohm\n"
       ]
      }
     ],
     "prompt_number": 16
    },
    {
     "cell_type": "heading",
     "level": 2,
     "metadata": {},
     "source": [
      "Example 3.14\n",
      ": Page No 201"
     ]
    },
    {
     "cell_type": "code",
     "collapsed": false,
     "input": [
      "# Given data\n",
      "R_S = 91 # in ohm\n",
      "V_Z = 8 # in V\n",
      "P_Z = 400 # in mW\n",
      "P_Z= P_Z*10**-3 # in W\n",
      "R_L = 0.22 # in K ohm\n",
      "R_L = R_L * 10**3 # in ohm\n",
      "I_L = V_Z/R_L # in A\n",
      "I_Z = P_Z/V_Z # in A\n",
      "print \"The value of I_Zmax = %0.f mA\" %(I_Z*10**3)\n",
      "Vin_min = (V_Z*(R_S+R_L))/R_L # in V\n",
      "print \"The minimum input voltage = %0.2f V\" %Vin_min\n",
      "I_R = I_L + I_Z # in A\n",
      "Vin_max = V_Z + (I_R*R_S) # in V\n",
      "print \"The maximum input voltage =%0.2f V\" %Vin_max"
     ],
     "language": "python",
     "metadata": {},
     "outputs": [
      {
       "output_type": "stream",
       "stream": "stdout",
       "text": [
        "The value of I_Zmax = 50 mA\n",
        "The minimum input voltage = 11.31 V\n",
        "The maximum input voltage =15.86 V\n"
       ]
      }
     ],
     "prompt_number": 19
    },
    {
     "cell_type": "heading",
     "level": 2,
     "metadata": {},
     "source": [
      "Example 3.15\n",
      ": Page No 202"
     ]
    },
    {
     "cell_type": "code",
     "collapsed": false,
     "input": [
      "# Given data\n",
      "V_L = 12 # in V\n",
      "I_Lmin = 0 # in mA\n",
      "I_Lmin =I_Lmin *10**-3 # in A\n",
      "I_Lmax = 200 # in mA\n",
      "I_Lmax =I_Lmax *10**-3 # in A\n",
      "I_Zmin = 5 # in mA\n",
      "I_Zmin= I_Zmin*10**-3 # in A\n",
      "I_Zmax = 200 # in mA\n",
      "I_Zmax= I_Zmax*10**-3 # in A\n",
      "V_i = 16 # in V\n",
      "V_Z = V_L # in V\n",
      "print \"The value of V_Z = %0.f V\" %V_Z\n",
      "R_Lmin = V_L/I_Lmax # in ohm\n",
      "print \"The minimum value of R_L = %0.f ohm\" %R_Lmin\n",
      "# R_L2 = V_L/I_Lmin # in ohm\n",
      "print \"The maximum value of R_L = infinite\" \n",
      "I_Z = I_Zmin+I_Zmax # in A\n",
      "print \"The zener current = %0.f mA\" %(I_Z*10**3)\n",
      "P_Zmax = V_Z*I_Z # in Watt\n",
      "print \"The maximum value of Pz = %0.2f Watt\" %P_Zmax\n",
      "R_S = (V_i-V_L)/(I_Zmin+I_Lmax) # in ohm\n",
      "print \"The value of R_S = %0.2f ohm\" %R_S"
     ],
     "language": "python",
     "metadata": {},
     "outputs": [
      {
       "output_type": "stream",
       "stream": "stdout",
       "text": [
        "The value of V_Z = 12 V\n",
        "The minimum value of R_L = 60 ohm\n",
        "The maximum value of R_L = infinite\n",
        "The zener current = 205 mA\n",
        "The maximum value of Pz = 2.46 Watt\n",
        "The value of R_S = 19.51 ohm\n"
       ]
      }
     ],
     "prompt_number": 23
    },
    {
     "cell_type": "heading",
     "level": 2,
     "metadata": {},
     "source": [
      "Example 3.16\n",
      ": Page No 203"
     ]
    },
    {
     "cell_type": "code",
     "collapsed": false,
     "input": [
      "# Given data\n",
      "V_in = 20 # in V\n",
      "R_S = 220 # in ohm\n",
      "V_Z = 10 # in V\n",
      "P_Z = 400 # in mW\n",
      "# Part (I)\n",
      "R_L = 200 # in ohm\n",
      "print \"Part (I) For R_L= 200 \u03a9\"\n",
      "V_L = V_Z # in V\n",
      "print \"Load voltage = %0.f V\" %V_L\n",
      "I_L = V_L/R_L # in A\n",
      "print \"Load current = %0.2f A\" %I_L\n",
      "I_R = (V_in-V_Z)/R_S # in A\n",
      "print \"The current through resistor = %0.3f A\" %I_R\n",
      "I_Z = I_R-I_L # in A\n",
      "print \"The value of I_Z = %0.2e A\" %I_Z\n",
      "# Part (II)\n",
      "R_L = 50 # in ohm\n",
      "print \"Part (II) For R_L= 50 \u03a9\"\n",
      "V_L = V_Z #\n",
      "print \"Load voltage = %0.f V\" %V_L\n",
      "I_L = V_L/R_L # in A\n",
      "print \"Load current = %0.1f A\" %I_L\n",
      "I_R = (V_in-V_Z)/R_S # in A\n",
      "print \"The current through resistor = %0.3f A\" %I_R\n",
      "I_Z = I_R-I_L # in A\n",
      "print \"Zener current = %0.3f A\" %I_Z\n",
      "print \"For both values of R_L, the current I_R is less than I_L and I_Z is negative.\"\n",
      "print \"It shows that given circuit can not work successfully as a voltage regulator\""
     ],
     "language": "python",
     "metadata": {},
     "outputs": [
      {
       "output_type": "stream",
       "stream": "stdout",
       "text": [
        "Part (I) For R_L= 200 \u03a9\n",
        "Load voltage = 10 V\n",
        "Load current = 0.05 A\n",
        "The current through resistor = 0.045 A\n",
        "The value of I_Z = -4.55e-03 A\n",
        "Part (II) For R_L= 50 \u03a9\n",
        "Load voltage = 10 V\n",
        "Load current = 0.2 A\n",
        "The current through resistor = 0.045 A\n",
        "Zener current = -0.155 A\n",
        "For both values of R_L, the current I_R is less than I_L and I_Z is negative.\n",
        "It shows that given circuit can not work successfully as a voltage regulator\n"
       ]
      }
     ],
     "prompt_number": 25
    },
    {
     "cell_type": "heading",
     "level": 2,
     "metadata": {},
     "source": [
      "Example 3.17\n",
      ": Page No 204"
     ]
    },
    {
     "cell_type": "code",
     "collapsed": false,
     "input": [
      "# Given data\n",
      "I_Zmin = 1 # in mA\n",
      "I_Zmin=I_Zmin*10**-3 # in A\n",
      "I_Zmax = 5 # in mA\n",
      "I_Zmax=I_Zmax*10**-3 # in A\n",
      "I_Lmin = 0 # in mA\n",
      "I_Lmin=I_Lmin*10**-3 # in A\n",
      "I_Lmax = 4 # in mA\n",
      "I_Lmax=I_Lmax*10**-3 # in A\n",
      "R = 5 # in kohm\n",
      "R = R * 10**3 # in ohm\n",
      "V_Z = 50 # in V\n",
      "print \"Part (A)\"\n",
      "V_max = (I_Zmax+ I_Lmin)*R+V_Z # in V\n",
      "print \"The maximum Voltage = %0.f V\" %V_max\n",
      "V_min = (I_Zmin+I_Lmax)*R + V_Z # in V\n",
      "print \"The minimum Voltage = %0.f V\" %V_min\n",
      "print \"Part (B)\"\n",
      "V_L = 50 # in V\n",
      "V_in = 75 # in V\n",
      "R_L = 15 # in kohm\n",
      "R_L= R_L*10**3 # in ohm\n",
      "I_L = V_L/R_L # in A\n",
      "V_max = (I_Zmax+I_L)*R+V_Z # in V\n",
      "print \"The maximum Voltage = %0.f V\" %round(V_max)\n",
      "V_min = (I_Zmin+I_L)*R+V_Z # in V\n",
      "print \"The minimum Voltage = %0.f V\" %round(V_min)"
     ],
     "language": "python",
     "metadata": {},
     "outputs": [
      {
       "output_type": "stream",
       "stream": "stdout",
       "text": [
        "Part (A)\n",
        "The maximum Voltage = 75 V\n",
        "The minimum Voltage = 75 V\n",
        "Part (B)\n",
        "The maximum Voltage = 92 V\n",
        "The minimum Voltage = 72 V\n"
       ]
      }
     ],
     "prompt_number": 27
    },
    {
     "cell_type": "heading",
     "level": 2,
     "metadata": {},
     "source": [
      "Example 3.18\n",
      ": Page No 205"
     ]
    },
    {
     "cell_type": "code",
     "collapsed": false,
     "input": [
      "# Given data\n",
      "V_S = 7.5 # in V\n",
      "V_Z = 5 # in V\n",
      "R_S = 4.75 # in ohm\n",
      "I_Zmin= 0.05 # in A\n",
      "I_Zmax=1.0 # in A\n",
      "I_S = (V_S-V_Z)/R_S # in A\n",
      "I_Lmax= I_S-I_Zmin # in A\n",
      "print \"The maximum value of load current = %0.3f A\" %I_Lmax\n",
      "# when\n",
      "V_S= 10 # in V\n",
      "I_S = (V_S-V_Z)/R_S # in A\n",
      "I_Lmin= I_S-I_Zmax # in A\n",
      "print \"The minimum value of load current = %0.2f A\" %I_Lmin\n",
      "print \"Thus, the range of load current for regulation =\",round(I_Lmin,2),\"<= I_L <=\",round(I_Lmax,3),\"A\""
     ],
     "language": "python",
     "metadata": {},
     "outputs": [
      {
       "output_type": "stream",
       "stream": "stdout",
       "text": [
        "The maximum value of load current = 0.476 A\n",
        "The minimum value of load current = 0.05 A\n",
        "Thus, the range of load current for regulation = 0.05 <= I_L <= 0.476 A\n"
       ]
      }
     ],
     "prompt_number": 32
    }
   ],
   "metadata": {}
  }
 ]
}