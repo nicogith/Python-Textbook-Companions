{
 "metadata": {
  "name": ""
 },
 "nbformat": 3,
 "nbformat_minor": 0,
 "worksheets": [
  {
   "cells": [
    {
     "cell_type": "heading",
     "level": 1,
     "metadata": {},
     "source": [
      "Chapter - 1 : Introduction To Electronics And Diode Fundamentals"
     ]
    },
    {
     "cell_type": "heading",
     "level": 2,
     "metadata": {},
     "source": [
      "Example 1.1\n",
      ": Page No 27 "
     ]
    },
    {
     "cell_type": "code",
     "collapsed": false,
     "input": [
      "from __future__ import division\n",
      "# Given data\n",
      "T1 = 25 # in degree C\n",
      "T2 = 100 # in degree C\n",
      "del_T = T2-T1 # in degree C\n",
      "V= 0.7 # barrier potential t 25\u00b0C in V\n",
      "del_V = -(2)*del_T # in mV\n",
      "del_V= del_V*10**-3 # in V\n",
      "V_B = V- abs(del_V) # in V\n",
      "print \"(i)  When the junction temperature is 100 \u00b0C, the barrier potential of a silicon diode = %0.2f V\" %V_B\n",
      "T2 = 0 # in degree C\n",
      "del_T = T2-T1 # in degree C\n",
      "del_V = -(2)*del_T # in mV\n",
      "del_V= del_V*10**-3 #in V\n",
      "V_B = V+del_V # in V\n",
      "print \"(ii) When the junction temperature is 0 \u00b0C, the barrier potential of a silicon diode = %0.2f V\" %V_B"
     ],
     "language": "python",
     "metadata": {},
     "outputs": [
      {
       "output_type": "stream",
       "stream": "stdout",
       "text": [
        "(i)  When the junction temperature is 100 \u00b0C, the barrier potential of a silicon diode = 0.55 V\n",
        "(ii) When the junction temperature is 0 \u00b0C, the barrier potential of a silicon diode = 0.75 V\n"
       ]
      }
     ],
     "prompt_number": 1
    },
    {
     "cell_type": "heading",
     "level": 2,
     "metadata": {},
     "source": [
      "Example 1.2\n",
      ": Page No 30"
     ]
    },
    {
     "cell_type": "code",
     "collapsed": false,
     "input": [
      "# Given data\n",
      "T1 = 25 # in degree C\n",
      "T2 = 100 # in degree C\n",
      "del_T = T2-T1 # in degree C\n",
      "I_S = (2)**7 *5 # in nA\n",
      "I_S = (1.07)**5*I_S # in nA\n",
      "print \"The saturation current at 100 degree C = %0.f nA\" %round(I_S)"
     ],
     "language": "python",
     "metadata": {},
     "outputs": [
      {
       "output_type": "stream",
       "stream": "stdout",
       "text": [
        "The saturation current at 100 degree C = 898 nA\n"
       ]
      }
     ],
     "prompt_number": 2
    },
    {
     "cell_type": "heading",
     "level": 2,
     "metadata": {},
     "source": [
      "Example 1.3\n",
      ": Page No 33"
     ]
    },
    {
     "cell_type": "code",
     "collapsed": false,
     "input": [
      "# Given data\n",
      "V_L = 10 # in V\n",
      "R_L = 1*10**3 # in \u03a9\n",
      "I_L = V_L/R_L # in A\n",
      "I_L = I_L*10**3 # mA\n",
      "print \"The load voltage = %0.f volts\" %V_L\n",
      "print \"The load current = %0.f mA\" %I_L"
     ],
     "language": "python",
     "metadata": {},
     "outputs": [
      {
       "output_type": "stream",
       "stream": "stdout",
       "text": [
        "The load voltage = 10 volts\n",
        "The load current = 10 mA\n"
       ]
      }
     ],
     "prompt_number": 3
    },
    {
     "cell_type": "heading",
     "level": 2,
     "metadata": {},
     "source": [
      "Example 1.4\n",
      ": Page No 37"
     ]
    },
    {
     "cell_type": "code",
     "collapsed": false,
     "input": [
      "# Given data\n",
      "v1 = 10 # in V\n",
      "v2 = 0.7 # in V\n",
      "V_L = v1-v2 # in V\n",
      "print \"The load voltage = %0.1f V\" %V_L\n",
      "R_L = 1*10**3 # in \u03a9\n",
      "I_L = V_L/R_L # in A\n",
      "print \"The load current = %0.1f mA\" %(I_L*10**3)\n",
      "P_D = v2*I_L # in watt\n",
      "print \"The diode Power = %0.2f mW\" %(P_D*10**3)"
     ],
     "language": "python",
     "metadata": {},
     "outputs": [
      {
       "output_type": "stream",
       "stream": "stdout",
       "text": [
        "The load voltage = 9.3 V\n",
        "The load current = 9.3 mA\n",
        "The diode Power = 6.51 mW\n"
       ]
      }
     ],
     "prompt_number": 5
    },
    {
     "cell_type": "heading",
     "level": 2,
     "metadata": {},
     "source": [
      "Example 1.5\n",
      ": Page No 39"
     ]
    },
    {
     "cell_type": "code",
     "collapsed": false,
     "input": [
      "# Given data\n",
      "R_L1 = 1*10**3 # in ohm\n",
      "R_L2 = 0.23 # in ohm\n",
      "R_T = R_L1+R_L2 # in ohm\n",
      "v1 = 10 # in V\n",
      "v2 = 0.7 # in V\n",
      "V_T = v1-v2 # in V\n",
      "I_L = V_T/R_T # in A\n",
      "print \"The load current = %0.2f mA\" %(I_L*10**3)\n",
      "V_L = I_L*R_L1 # in V\n",
      "print \"The load voltage = %0.1f V\" %V_L"
     ],
     "language": "python",
     "metadata": {},
     "outputs": [
      {
       "output_type": "stream",
       "stream": "stdout",
       "text": [
        "The load current = 9.30 mA\n",
        "The load voltage = 9.3 V\n"
       ]
      }
     ],
     "prompt_number": 7
    },
    {
     "cell_type": "heading",
     "level": 2,
     "metadata": {},
     "source": [
      "Example 1.6\n",
      ": Page No 45"
     ]
    },
    {
     "cell_type": "code",
     "collapsed": false,
     "input": [
      "# Given data\n",
      "V_o = 0.7 # in V\n",
      "print \"The value of V_o = %0.1f V\" %V_o\n",
      "E = 10 # in V\n",
      "V_D = V_o # in V\n",
      "R = 330 # in ohm\n",
      "I1 = (E - V_D)/R # in A\n",
      "I1 = I1*10**3 # in mA\n",
      "print \"The value of I1 = %0.2f mA\" %I1\n",
      "I_D1 = I1/2 # in mA\n",
      "print \"The value of I_D1 = %0.2f mA\" %I_D1\n",
      "I_D2 = I_D1 # in mA\n",
      "print \"The value of I_D2 = %0.2f mA\" %I_D2"
     ],
     "language": "python",
     "metadata": {},
     "outputs": [
      {
       "output_type": "stream",
       "stream": "stdout",
       "text": [
        "The value of V_o = 0.7 V\n",
        "The value of I1 = 28.18 mA\n",
        "The value of I_D1 = 14.09 mA\n",
        "The value of I_D2 = 14.09 mA\n"
       ]
      }
     ],
     "prompt_number": 9
    },
    {
     "cell_type": "heading",
     "level": 2,
     "metadata": {},
     "source": [
      "Example 1.7\n",
      ": Page No 46"
     ]
    },
    {
     "cell_type": "code",
     "collapsed": false,
     "input": [
      "# Given data\n",
      "V_i = 12 # in V\n",
      "V_D1 = 0.7 # in V\n",
      "V_D2 = 0.3 # in V\n",
      "R = 5.6*10**3 # in ohm\n",
      "V_o  = V_i - V_D1 - V_D2 # in V\n",
      "print \"The value of Vo voltage = %0.f V\" %V_o\n",
      "I_D = V_o/R # in A\n",
      "I_D = I_D*10**3 # in mA\n",
      "print \"The value of I_D = %0.2f mA\" %I_D"
     ],
     "language": "python",
     "metadata": {},
     "outputs": [
      {
       "output_type": "stream",
       "stream": "stdout",
       "text": [
        "The value of Vo voltage = 11 V\n",
        "The value of I_D = 1.96 mA\n"
       ]
      }
     ],
     "prompt_number": 10
    },
    {
     "cell_type": "heading",
     "level": 2,
     "metadata": {},
     "source": [
      "Example 1.8\n",
      ": Page No 47"
     ]
    },
    {
     "cell_type": "code",
     "collapsed": false,
     "input": [
      "# Given data\n",
      "V1 = 24 # in V\n",
      "V2 = 6 # in V\n",
      "V_D1 = 0.7 # in V\n",
      "R = 3*10**3 # in ohm\n",
      "I = (V1 - V2 - V_D1)/R # in A\n",
      "I = I * 10**3 # in mA\n",
      "print \"The current = %0.2f mA\" %I"
     ],
     "language": "python",
     "metadata": {},
     "outputs": [
      {
       "output_type": "stream",
       "stream": "stdout",
       "text": [
        "The current = 5.77 mA\n"
       ]
      }
     ],
     "prompt_number": 11
    },
    {
     "cell_type": "heading",
     "level": 2,
     "metadata": {},
     "source": [
      "Example 1.9\n",
      ": Page No 48"
     ]
    },
    {
     "cell_type": "code",
     "collapsed": false,
     "input": [
      "# Given data\n",
      "r= 20 # in \u03a9\n",
      "R_B= 15 # in \u03a9\n",
      "V_K1= 0.2 # in V\n",
      "V_K2= 0.6 # in V\n",
      "V= 100 # in V\n",
      "R1= 10*10**3 # in \u03a9\n",
      "# Vo= V_K1+r*I1 = V_K2+R_B*I2\n",
      "# Resulting current I= I1+I2 or\n",
      "# (V-Vo)/(R1) = (Vo-V_K1)/r + (Vo-V_K2)/R_B\n",
      "Vo= (r*R_B*V+R1*R_B*V_K1+R1*r*V_K2)/(R1*R_B+R1*r+r*R_B) # in V\n",
      "I1= (Vo-V_K1)/r # in A\n",
      "I2= (V_K2-Vo)/R_B # in A\n",
      "print \"The value of I1 = %0.2f mA\" %(I1*10**3)\n",
      "print \"The value of I2 = %0.2f mA\" %(I2*10**3)"
     ],
     "language": "python",
     "metadata": {},
     "outputs": [
      {
       "output_type": "stream",
       "stream": "stdout",
       "text": [
        "The value of I1 = 15.69 mA\n",
        "The value of I2 = 5.74 mA\n"
       ]
      }
     ],
     "prompt_number": 13
    },
    {
     "cell_type": "heading",
     "level": 2,
     "metadata": {},
     "source": [
      "Example 1.10\n",
      ": Page No 49"
     ]
    },
    {
     "cell_type": "code",
     "collapsed": false,
     "input": [
      "# Given data\n",
      "I_D = 10 # in mA\n",
      "I_D = I_D * 10**-3 # in A\n",
      "V_D = 0.5 # in V\n",
      "r_F1 = V_D/I_D # in ohm\n",
      "print \"The value of r_F1 = %0.f ohm\" %r_F1\n",
      "I_D = 20 # in mA\n",
      "I_D = I_D * 10**-3 # in A\n",
      "V_D = 0.8 # in V\n",
      "r_F2 = V_D/I_D # in ohm\n",
      "print \"The value of r_F2 = %0.f ohm\" %r_F2\n",
      "I_D = -1 # in \u00b5A\n",
      "I_D = I_D * 10**-6 # in A\n",
      "V_D = -10 # in V \n",
      "r_R = V_D/I_D # in ohm\n",
      "print \"The value of r_R = %0.f Mohm\" %(r_R*10**-6)\n",
      "\n",
      "# Note: There is calculation error to evaluate the value of r_F1. So the asnwer in the book is wrong."
     ],
     "language": "python",
     "metadata": {},
     "outputs": [
      {
       "output_type": "stream",
       "stream": "stdout",
       "text": [
        "The value of r_F1 = 50 ohm\n",
        "The value of r_F2 = 40 ohm\n",
        "The value of r_R = 10 Mohm\n"
       ]
      }
     ],
     "prompt_number": 15
    },
    {
     "cell_type": "heading",
     "level": 2,
     "metadata": {},
     "source": [
      "Example 1.11\n",
      ": Page No 49"
     ]
    },
    {
     "cell_type": "code",
     "collapsed": false,
     "input": [
      "# Given data\n",
      "R= 5.6*10**3 # in \u03a9\n",
      "I_D = 0 # in A\n",
      "V_D = 0 # in V\n",
      "E= 12 # in V\n",
      "Vo= I_D*R # in V\n",
      "print \"The value of I_D = %0.f A\" %I_D\n",
      "print \"The value of Vo = %0.f V\" %Vo\n",
      "V_D1 = 0 # in V\n",
      "V_D2 = E -V_D1 - Vo # in  V\n",
      "print \"The value of V_D2 = %0.f V\" %V_D2"
     ],
     "language": "python",
     "metadata": {},
     "outputs": [
      {
       "output_type": "stream",
       "stream": "stdout",
       "text": [
        "The value of I_D = 0 A\n",
        "The value of Vo = 0 V\n",
        "The value of V_D2 = 12 V\n"
       ]
      }
     ],
     "prompt_number": 16
    },
    {
     "cell_type": "heading",
     "level": 2,
     "metadata": {},
     "source": [
      "Example 1.12\n",
      ": Page No 50"
     ]
    },
    {
     "cell_type": "code",
     "collapsed": false,
     "input": [
      "# Given data\n",
      "E = 20 # in V\n",
      "V_D1 = 0.7 # in V\n",
      "V_D2 = 0.7 # in V\n",
      "V2 = E - V_D1  - V_D2 # in V\n",
      "R1 = 3.3*10**3 # in ohm\n",
      "R2 = 5.6*10**3 # in ohm\n",
      "I2 = V2/R2 # in A\n",
      "I2 = I2*10**3 # in mA\n",
      "print \"The current through resistor R2 = %0.2f mA\" %I2\n",
      "I1 = V_D2/R1 \n",
      "I1 = I1 * 10**3 # in mA\n",
      "print \"The current through resistor R1 = %0.2f mA\" %I1\n",
      "I_D2 = I2-I1 # in mA\n",
      "print \"The current through diode D2 = %0.2f mA\" %I_D2"
     ],
     "language": "python",
     "metadata": {},
     "outputs": [
      {
       "output_type": "stream",
       "stream": "stdout",
       "text": [
        "The current through resistor R2 = 3.32 mA\n",
        "The current through resistor R1 = 0.21 mA\n",
        "The current through diode D2 = 3.11 mA\n"
       ]
      }
     ],
     "prompt_number": 17
    },
    {
     "cell_type": "heading",
     "level": 2,
     "metadata": {},
     "source": [
      "Example 1.13\n",
      ": Page No 51"
     ]
    },
    {
     "cell_type": "code",
     "collapsed": false,
     "input": [
      "# Given data\n",
      "V1 = 12 # in V\n",
      "V2 = 0.3 # in V\n",
      "V_o = V1-V2 # in V\n",
      "print \"The output voltage = %0.1f V\" %V_o"
     ],
     "language": "python",
     "metadata": {},
     "outputs": [
      {
       "output_type": "stream",
       "stream": "stdout",
       "text": [
        "The output voltage = 11.7 V\n"
       ]
      }
     ],
     "prompt_number": 18
    },
    {
     "cell_type": "heading",
     "level": 2,
     "metadata": {},
     "source": [
      "Example 1.14\n",
      ": Page No 52"
     ]
    },
    {
     "cell_type": "code",
     "collapsed": false,
     "input": [
      "# Given data\n",
      "print \"Part (a) Analysis using approximate diode model\"\n",
      "V_D = 0.7 # in V\n",
      "print \"The value of V_D = %0.1f V\" %V_D\n",
      "E = 30 # in V\n",
      "V_R = E-V_D # in V\n",
      "print \"The value of V_R = %0.1f V\" %V_R\n",
      "R = 2.2 * 10**3 # in ohm\n",
      "I_D = V_R/R \n",
      "I_D = I_D * 10**3 # in mA\n",
      "print \"The value of I_D = %0.2f mA\" %I_D\n",
      "print \"Part (b) Analysis using ideal diode model\"\n",
      "V_D = 0 # in V\n",
      "print \"The value of V_D = %0.f V\" %V_D\n",
      "V_R = E # in V\n",
      "print \"The value of V_R = %0.f V\" %V_R\n",
      "I_D = V_R/R \n",
      "I_D = I_D * 10**3 # in mA\n",
      "print \"The value of I_D = %0.2f mA\" %I_D"
     ],
     "language": "python",
     "metadata": {},
     "outputs": [
      {
       "output_type": "stream",
       "stream": "stdout",
       "text": [
        "Part (a) Analysis using approximate diode model\n",
        "The value of V_D = 0.7 V\n",
        "The value of V_R = 29.3 V\n",
        "The value of I_D = 13.32 mA\n",
        "Part (b) Analysis using ideal diode model\n",
        "The value of V_D = 0 V\n",
        "The value of V_R = 30 V\n",
        "The value of I_D = 13.64 mA\n"
       ]
      }
     ],
     "prompt_number": 21
    },
    {
     "cell_type": "heading",
     "level": 2,
     "metadata": {},
     "source": [
      "Example 1.15\n",
      ": Page No 54"
     ]
    },
    {
     "cell_type": "code",
     "collapsed": false,
     "input": [
      "# Given data\n",
      "V1 = 20 # in V\n",
      "V2 = 0.7 # in V\n",
      "V = V1-V2 # in V\n",
      "R = 20 # in ohm\n",
      "I = V/R # in A\n",
      "print \"The current through resistance = %0.3f A\" %I"
     ],
     "language": "python",
     "metadata": {},
     "outputs": [
      {
       "output_type": "stream",
       "stream": "stdout",
       "text": [
        "The current through resistance = 0.965 A\n"
       ]
      }
     ],
     "prompt_number": 22
    },
    {
     "cell_type": "heading",
     "level": 2,
     "metadata": {},
     "source": [
      "Example 1.16\n",
      ": Page No 54"
     ]
    },
    {
     "cell_type": "code",
     "collapsed": false,
     "input": [
      "# Given data\n",
      "R1= 2 # in k\u03a9\n",
      "R2= 2 # in k\u03a9\n",
      "V=19 # in V\n",
      "V_o = (V*R1)/(R1+R2) # in V\n",
      "print \"The output voltage = %0.1f V\" %V_o"
     ],
     "language": "python",
     "metadata": {},
     "outputs": [
      {
       "output_type": "stream",
       "stream": "stdout",
       "text": [
        "The output voltage = 9.5 V\n"
       ]
      }
     ],
     "prompt_number": 23
    },
    {
     "cell_type": "heading",
     "level": 2,
     "metadata": {},
     "source": [
      "Example 1.17\n",
      ": Page No 55"
     ]
    },
    {
     "cell_type": "code",
     "collapsed": false,
     "input": [
      "# Given data\n",
      "V1 = 0.7 # in V\n",
      "V2 = 5 # in V\n",
      "V_o = V1-V2 # in V\n",
      "R = 2.2*10**3 # in ohm\n",
      "I_D = -V_o/R \n",
      "I_D = I_D * 10**3 # in mA\n",
      "print \"The output voltage = %0.1f volts\" %V_o\n",
      "print \"The current through diode = %0.2f mA\" %I_D"
     ],
     "language": "python",
     "metadata": {},
     "outputs": [
      {
       "output_type": "stream",
       "stream": "stdout",
       "text": [
        "The output voltage = -4.3 volts\n",
        "The current through diode = 1.95 mA\n"
       ]
      }
     ],
     "prompt_number": 24
    },
    {
     "cell_type": "heading",
     "level": 2,
     "metadata": {},
     "source": [
      "Example 1.18\n",
      ": Page No 56"
     ]
    },
    {
     "cell_type": "code",
     "collapsed": false,
     "input": [
      "# Given data\n",
      "V_gamma = 0.7 # in V\n",
      "R1 = 5*10**3 # in ohm\n",
      "R2 = 10*10**3 # in ohm\n",
      "V=5 # in V\n",
      "print \"Part (a)\"\n",
      "I_R2 = (V-V_gamma-(-V))/(R1+R2) # in A\n",
      "I_D2 = I_R2 # in A\n",
      "print \"The value of I_D1 and I_D2 = %0.2f mA\" %(I_D2*10**3)\n",
      "V_o = V - (I_D2 * R1) # in V\n",
      "print \"The value of Vo = %0.1f V\" %V_o\n",
      "V_A = V_o - V_gamma # in V\n",
      "print \"The value of V_A = %0.1f V\" %V_A\n",
      "print \"Part (b)\"\n",
      "V_I = 4 # in V\n",
      "V_A= V_I-V_gamma # in V\n",
      "Vo= V_A+V_gamma # in V\n",
      "I_R1= (V-Vo)/R1 # in A\n",
      "I_D2= I_R1 # in A\n",
      "print \"The value of I_D2 = %0.1f mA\" %(I_D2*10**3)\n",
      "I_R2= (V_A-(-V))/R2 # in A\n",
      "I_D1= I_R2-I_R1 # in A\n",
      "print \"The value of I_D1 = %0.2f mA\" %(I_D1*10**3)\n",
      "print \"The value of Vo = %0.f volts\" %Vo"
     ],
     "language": "python",
     "metadata": {},
     "outputs": [
      {
       "output_type": "stream",
       "stream": "stdout",
       "text": [
        "Part (a)\n",
        "The value of I_D1 and I_D2 = 0.62 mA\n",
        "The value of Vo = 1.9 V\n",
        "The value of V_A = 1.2 V\n",
        "Part (b)\n",
        "The value of I_D2 = 0.2 mA\n",
        "The value of I_D1 = 0.63 mA\n",
        "The value of Vo = 4 volts\n"
       ]
      }
     ],
     "prompt_number": 29
    },
    {
     "cell_type": "heading",
     "level": 2,
     "metadata": {},
     "source": [
      "Example 1.19\n",
      ": Page No 58"
     ]
    },
    {
     "cell_type": "code",
     "collapsed": false,
     "input": [
      "# Given data\n",
      "V_S = 6 # in V\n",
      "V_D = 0.7 # in V\n",
      "R = 10 # in K ohm\n",
      "R = R*10**3 # in ohm\n",
      "I_T = (V_S-V_D)/R # in A\n",
      "print \"The total current = %0.f \u00b5A\" %(I_T*10**6)"
     ],
     "language": "python",
     "metadata": {},
     "outputs": [
      {
       "output_type": "stream",
       "stream": "stdout",
       "text": [
        "The total current = 530 \u00b5A\n"
       ]
      }
     ],
     "prompt_number": 31
    },
    {
     "cell_type": "heading",
     "level": 2,
     "metadata": {},
     "source": [
      "Example 1.20\n",
      ": Page No 58"
     ]
    },
    {
     "cell_type": "code",
     "collapsed": false,
     "input": [
      "# Given data\n",
      "V_S = 5 # in V\n",
      "V_D = 0.7 # in V\n",
      "R1 = 1.2 * 10**3 # in ohm\n",
      "R2 = 2.2 * 10**3 # in ohm\n",
      "I_T = (V_S-V_D)/(R1+R2) \n",
      "I_T = I_T * 10**3 # in mA\n",
      "print \"The total circuit current = %0.2f mA\" %I_T"
     ],
     "language": "python",
     "metadata": {},
     "outputs": [
      {
       "output_type": "stream",
       "stream": "stdout",
       "text": [
        "The total circuit current = 1.26 mA\n"
       ]
      }
     ],
     "prompt_number": 32
    },
    {
     "cell_type": "heading",
     "level": 2,
     "metadata": {},
     "source": [
      "Example 1.21\n",
      ": Page No 59"
     ]
    },
    {
     "cell_type": "code",
     "collapsed": false,
     "input": [
      "# Given data\n",
      "V_S = 4 # in V\n",
      "V_D1 = 0.7 # in V\n",
      "V_D2 = 0.7 # in V\n",
      "R = 5.1*10**3 # in ohm\n",
      "I_T = (V_S-V_D1-V_D2)/R # in A\n",
      "print \"The total current = %0.f \u00b5A\" %round(I_T*10**6)"
     ],
     "language": "python",
     "metadata": {},
     "outputs": [
      {
       "output_type": "stream",
       "stream": "stdout",
       "text": [
        "The total current = 510 \u00b5A\n"
       ]
      }
     ],
     "prompt_number": 33
    },
    {
     "cell_type": "heading",
     "level": 2,
     "metadata": {},
     "source": [
      "Example 1.22\n",
      ": Page No 59"
     ]
    },
    {
     "cell_type": "code",
     "collapsed": false,
     "input": [
      "# Given data\n",
      "V_S = 10 # in V\n",
      "R1 = 1.5*10**3 # in ohm\n",
      "R2 = 1.8*10**3 # in ohm\n",
      "I_T = V_S/(R1+R2) # in A\n",
      "print \"Using the ideal diode, the total current = %0.2f mA\" %(I_T*10**3)\n",
      "V_D1 = 0.7 # in V\n",
      "V_D2 = 0.7 # in V\n",
      "I_T = (V_S-V_D1-V_D2)/(R1+R2) # in A\n",
      "print \"Using the pracitcal diode, the total current = %0.2f mA\" %(I_T*10**3)"
     ],
     "language": "python",
     "metadata": {},
     "outputs": [
      {
       "output_type": "stream",
       "stream": "stdout",
       "text": [
        "Using the ideal diode, the total current = 3.03 mA\n",
        "Using the pracitcal diode, the total current = 2.61 mA\n"
       ]
      }
     ],
     "prompt_number": 35
    },
    {
     "cell_type": "heading",
     "level": 2,
     "metadata": {},
     "source": [
      "Example 1.23\n",
      ": Page No 60"
     ]
    },
    {
     "cell_type": "code",
     "collapsed": false,
     "input": [
      "# Given data\n",
      "V_S = 5 # in V\n",
      "V2 = 3 # in V\n",
      "R = 500 # in ohm\n",
      "I_D2 = (V_S-V2)/R # in A\n",
      "I_D2 = I_D2 * 10**3 # in mA\n",
      "print \"The diode current = %0.f mA\" %I_D2"
     ],
     "language": "python",
     "metadata": {},
     "outputs": [
      {
       "output_type": "stream",
       "stream": "stdout",
       "text": [
        "The diode current = 4 mA\n"
       ]
      }
     ],
     "prompt_number": 36
    },
    {
     "cell_type": "heading",
     "level": 2,
     "metadata": {},
     "source": [
      "Example 1.24\n",
      ": Page No 60"
     ]
    },
    {
     "cell_type": "code",
     "collapsed": false,
     "input": [
      "# Given data\n",
      "V_S = 2 # in V\n",
      "R = 100 # in ohm\n",
      "I_D = V_S/R \n",
      "I_D = I_D * 10**3 # in mA\n",
      "print \"Part (a)\"\n",
      "print \"The diode current = %0.f mA\" %I_D\n",
      "V_K = 0.7 # in V\n",
      "I_D1 = (V_S-V_K)/R \n",
      "I_D1 = I_D1*10**3 # in mA\n",
      "print \"Part (b)\"\n",
      "print \"The diode current = %0.f mA\" %I_D1\n",
      "R_f = 30 # in ohm\n",
      "I_D2 = (V_S - V_K)/(R+R_f) \n",
      "I_D2 = I_D2 * 10**3 # in mA\n",
      "print \"Part (c)\"\n",
      "print \"The diode current = %0.f mA\" %I_D2"
     ],
     "language": "python",
     "metadata": {},
     "outputs": [
      {
       "output_type": "stream",
       "stream": "stdout",
       "text": [
        "Part (a)\n",
        "The diode current = 20 mA\n",
        "Part (b)\n",
        "The diode current = 13 mA\n",
        "Part (c)\n",
        "The diode current = 10 mA\n"
       ]
      }
     ],
     "prompt_number": 38
    },
    {
     "cell_type": "heading",
     "level": 2,
     "metadata": {},
     "source": [
      "Example 1.25\n",
      ": Page No 61"
     ]
    },
    {
     "cell_type": "code",
     "collapsed": false,
     "input": [
      "# Given data\n",
      "R1= 1 # in k\u03a9\n",
      "R2= 0.47 # in k\u03a9\n",
      "V_o1 = 0.7 # in V\n",
      "print \"The value of Vo1 = %0.1f V\" %V_o1\n",
      "V_o2 = 0.3 # in V\n",
      "print \"The value of Vo2 = %0.1f V\" %V_o2\n",
      "I1 = (20-V_o1)/R1 # in mA\n",
      "I2 = (V_o2-V_o1)/R2 # in mA\n",
      "I = I1 + I2 # in mA\n",
      "print \"The current = %0.2f mA\" %I"
     ],
     "language": "python",
     "metadata": {},
     "outputs": [
      {
       "output_type": "stream",
       "stream": "stdout",
       "text": [
        "The value of Vo1 = 0.7 V\n",
        "The value of Vo2 = 0.3 V\n",
        "The current = 18.45 mA\n"
       ]
      }
     ],
     "prompt_number": 40
    },
    {
     "cell_type": "heading",
     "level": 2,
     "metadata": {},
     "source": [
      "Example 1.26\n",
      ": Page No 62"
     ]
    },
    {
     "cell_type": "code",
     "collapsed": false,
     "input": [
      "# Given data\n",
      "V1 = 10 # in V\n",
      "V2 = 0.7 # in V\n",
      "R1 = 1*10**3 # in ohm\n",
      "R2 = 2*10**3 # in ohm\n",
      "I = (V1-V2)/(R1+R2) # in A\n",
      "V_o = I * R2 # in V\n",
      "print \"The output voltage = %0.1f V\" %V_o\n",
      "I_D = I/2 # in A\n",
      "print \"The diode current = %0.2f mA\" %(I_D*10**3)"
     ],
     "language": "python",
     "metadata": {},
     "outputs": [
      {
       "output_type": "stream",
       "stream": "stdout",
       "text": [
        "The output voltage = 6.2 V\n",
        "The diode current = 1.55 mA\n"
       ]
      }
     ],
     "prompt_number": 42
    },
    {
     "cell_type": "heading",
     "level": 2,
     "metadata": {},
     "source": [
      "Example 1.27\n",
      ": Page No 63"
     ]
    },
    {
     "cell_type": "code",
     "collapsed": false,
     "input": [
      "# Given data\n",
      "V1 = 20 # in V\n",
      "V2 = 0.7 # in V\n",
      "R = 4.7*10**3 # in ohm\n",
      "I = (V1-V2)/R # in A\n",
      "I_D = I/2 # in A\n",
      "print \"The diode current = %0.2f mA\" %(I_D*10**3)\n",
      "V_o = I_D*R # in V\n",
      "print \"The output voltage = %0.2f V\" %V_o\n",
      "#Note : The answer in the book is wrong."
     ],
     "language": "python",
     "metadata": {},
     "outputs": [
      {
       "output_type": "stream",
       "stream": "stdout",
       "text": [
        "The diode current = 2.05 mA\n",
        "The output voltage = 9.65 V\n"
       ]
      }
     ],
     "prompt_number": 48
    },
    {
     "cell_type": "heading",
     "level": 2,
     "metadata": {},
     "source": [
      "Example 1.28\n",
      ": Page No 64"
     ]
    },
    {
     "cell_type": "code",
     "collapsed": false,
     "input": [
      "# Given data\n",
      "V1 = 15 # in V\n",
      "V2 = 0.7 # in V\n",
      "V3 = 5 # in V\n",
      "R = 2.2 # in K ohm\n",
      "I_D = (V1-V2+V3)/R # in mA\n",
      "print \"The diode current = %0.2f mA\" %I_D\n",
      "V_o = (R * I_D) - V3 # in V\n",
      "print \"The output voltage = %0.1f V\" %V_o"
     ],
     "language": "python",
     "metadata": {},
     "outputs": [
      {
       "output_type": "stream",
       "stream": "stdout",
       "text": [
        "The diode current = 8.77 mA\n",
        "The output voltage = 14.3 V\n"
       ]
      }
     ],
     "prompt_number": 50
    },
    {
     "cell_type": "heading",
     "level": 2,
     "metadata": {},
     "source": [
      "Example 1.29\n",
      ": Page No 65"
     ]
    },
    {
     "cell_type": "code",
     "collapsed": false,
     "input": [
      "# Given data\n",
      "V1 = 16 # in V\n",
      "V2 = 0.7 # in V\n",
      "V3 = V2 # in V\n",
      "V4 = 12 # in V\n",
      "R = 4.7 # in K ohm\n",
      "I = (V1-V2-V3-V4)/R # in mA\n",
      "print \"The current = %0.3f mA\" %I\n",
      "V_o = (I * 10**-3 * R * 10**3) + V4 # in V\n",
      "print \"The output voltage = %0.1f V\" %V_o"
     ],
     "language": "python",
     "metadata": {},
     "outputs": [
      {
       "output_type": "stream",
       "stream": "stdout",
       "text": [
        "The current = 0.553 mA\n",
        "The output voltage = 14.6 V\n"
       ]
      }
     ],
     "prompt_number": 51
    }
   ],
   "metadata": {}
  }
 ]
}