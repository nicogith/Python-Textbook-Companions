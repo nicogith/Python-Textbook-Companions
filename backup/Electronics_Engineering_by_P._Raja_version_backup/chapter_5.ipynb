{
 "metadata": {
  "name": ""
 },
 "nbformat": 3,
 "nbformat_minor": 0,
 "worksheets": [
  {
   "cells": [
    {
     "cell_type": "heading",
     "level": 1,
     "metadata": {},
     "source": [
      "Chapter - 5 : Transistor Circuits"
     ]
    },
    {
     "cell_type": "heading",
     "level": 2,
     "metadata": {},
     "source": [
      "Example 5.1\n",
      ": Page No 309 "
     ]
    },
    {
     "cell_type": "code",
     "collapsed": false,
     "input": [
      "from __future__ import division\n",
      "from numpy import pi\n",
      "# Given data\n",
      "R1 = 600 # in ohm\n",
      "R2 = 1000 # in ohm\n",
      "R_TH = (R1*R2)/(R1+R2) # in ohm\n",
      "X_C = 37.5 # in ohm\n",
      "f = 1 # in kHz\n",
      "f= f*10**3 # in Hz\n",
      "C = 1/(2*pi * f*X_C) # in F\n",
      "print \"Value of C = %0.1f \u00b5F\" %(C*10**6)"
     ],
     "language": "python",
     "metadata": {},
     "outputs": [
      {
       "output_type": "stream",
       "stream": "stdout",
       "text": [
        "Value of C = 4.2 \u00b5F\n"
       ]
      }
     ],
     "prompt_number": 3
    },
    {
     "cell_type": "heading",
     "level": 2,
     "metadata": {},
     "source": [
      "Example 5.2\n",
      ": Page No 323"
     ]
    },
    {
     "cell_type": "code",
     "collapsed": false,
     "input": [
      "# Given data\n",
      "R_C= 3.6*10**3 # in ohm\n",
      "R_L= 10*10**3 # in ohm\n",
      "r_c = (R_C*R_L)/(R_C+R_L) # in ohm\n",
      "V_CC = 10 # in V\n",
      "V_BE = 0.7 # in V\n",
      "R_E = 1 # in kohm\n",
      "R_E = R_E * 10**3 # in ohm\n",
      "R1 = 10 # in kohm\n",
      "R1= R1*10**3 # in ohm\n",
      "R2 = 2.2 # in  kohm\n",
      "R2= R2*10**3 # in ohm\n",
      "V_B = (V_CC*R2)/(R1+R2) # in V\n",
      "I_E = (V_B-V_BE)/R_E # in A\n",
      "V = 25*10**-3 # in V   # only value is given in the book \n",
      "r_e = V/I_E # in ohm\n",
      "A_V = round(r_c/r_e) \n",
      "print \"The voltage gain = %0.f\" %A_V\n",
      "V_in = 2 #in mV\n",
      "V_out = A_V*V_in # in mV\n",
      "print \"The output voltage = %0.f mV\" %V_out"
     ],
     "language": "python",
     "metadata": {},
     "outputs": [
      {
       "output_type": "stream",
       "stream": "stdout",
       "text": [
        "The voltage gain = 117\n",
        "The output voltage = 234 mV\n"
       ]
      }
     ],
     "prompt_number": 4
    },
    {
     "cell_type": "heading",
     "level": 2,
     "metadata": {},
     "source": [
      "Example 5.3\n",
      ": Page No 324"
     ]
    },
    {
     "cell_type": "code",
     "collapsed": false,
     "input": [
      "# Given data\n",
      "A_V = 117 \n",
      "r_e = 22.7 # in ohm\n",
      "bita = 300 \n",
      "Zin_base = bita*r_e # in ohm\n",
      "R1 = 2.2*10**3 # in  ohm\n",
      "R2 = 10*10**3 # in ohm\n",
      "Zin_stage = (Zin_base*R1*R2)/(Zin_base*R1+R1*R2+R2*Zin_base) # in ohm \n",
      "R = 600 # in ohm\n",
      "V = 2 # in mV\n",
      "V_in = (Zin_stage/(R+Zin_stage))*V # in mV\n",
      "V_out = A_V * V_in # in mV\n",
      "print \"The output voltage = %0.f mV\" %round(V_out)"
     ],
     "language": "python",
     "metadata": {},
     "outputs": [
      {
       "output_type": "stream",
       "stream": "stdout",
       "text": [
        "The output voltage = 165 mV\n"
       ]
      }
     ],
     "prompt_number": 5
    },
    {
     "cell_type": "heading",
     "level": 2,
     "metadata": {},
     "source": [
      "Example 5.4\n",
      ": Page No 328"
     ]
    },
    {
     "cell_type": "code",
     "collapsed": false,
     "input": [
      "# Given data\n",
      "R1 = 4.3 # in K ohm\n",
      "R1= R1*10**3 # in ohm\n",
      "R2 = 10 # in K ohm\n",
      "R2= R2*10**3 # in ohm\n",
      "r_e = (R1*R2)/(R1+R2) # in ohm\n",
      "bita = 200 \n",
      "V=25 # in mV\n",
      "I= 1 # in mA\n",
      "r_e_desh= V/I # in ohm\n",
      "Zin_base = bita*(r_e + r_e_desh) # in ohm\n",
      "print \"The input impedence of the base = %0.f k\u03a9\" %(Zin_base*10**-3)\n",
      "R3 = 10*10**3 # in ohm\n",
      "Zin_stage = (R2*R3*Zin_base)/(R2*Zin_base+R3*Zin_base+R2*R3) # in ohm\n",
      "print \"The input impedance of the stage = %0.2f k\u03a9\" %(Zin_stage*10**-3)\n",
      "print \"Because the input impedence of base is much larger than the input impedence of the stage,\"\n",
      "print \"usually approximate the input impedence of the stage as the parallel of the biasing resistor only %0.f k\u03a9\" %(Zin_stage*10**-3)\n",
      "Zin_stage= R2*R3/(R2+R3) # in ohm"
     ],
     "language": "python",
     "metadata": {},
     "outputs": [
      {
       "output_type": "stream",
       "stream": "stdout",
       "text": [
        "The input impedence of the base = 606 k\u03a9\n",
        "The input impedance of the stage = 4.96 k\u03a9\n",
        "Because the input impedence of base is much larger than the input impedence of the stage,\n",
        "usually approximate the input impedence of the stage as the parallel of the biasing resistor only 5 k\u03a9\n"
       ]
      }
     ],
     "prompt_number": 16
    },
    {
     "cell_type": "heading",
     "level": 2,
     "metadata": {},
     "source": [
      "Example 5.5\n",
      ": Page No 332"
     ]
    },
    {
     "cell_type": "code",
     "collapsed": false,
     "input": [
      "# Given data\n",
      "V_CE = 0.2 # in V\n",
      "V_BE= 0.7 # in V\n",
      "R = 1 # in kohm\n",
      "R = R * 10**3 # in ohm\n",
      "V = 10 # in V\n",
      "I_C = (V-V_CE)/R # in A\n",
      "beta_min = 50 \n",
      "I_B = I_C/beta_min # in A\n",
      "I_B1 = V*I_B # in A\n",
      "V1 = 5 # in V\n",
      "R_B = (V1-V_BE)/I_B1 # in ohm\n",
      "print \"The base resistance = %0.1f k\u03a9\" %(R_B*10**-3)"
     ],
     "language": "python",
     "metadata": {},
     "outputs": [
      {
       "output_type": "stream",
       "stream": "stdout",
       "text": [
        "The base resistance = 2.2 k\u03a9\n"
       ]
      }
     ],
     "prompt_number": 17
    },
    {
     "cell_type": "heading",
     "level": 2,
     "metadata": {},
     "source": [
      "Example 5.6\n",
      ": Page No 333"
     ]
    },
    {
     "cell_type": "code",
     "collapsed": false,
     "input": [
      "# Given data\n",
      "R = 10 # in K ohm\n",
      "R = R * 10**3 # in ohm\n",
      "X_C = 0.1 * R \n",
      "C = 47 # in \u00b5F\n",
      "C = C * 10**-6 # in F\n",
      "f = 1/(2*pi * X_C *C)  # in Hz\n",
      "print \"Lowest frequency = %0.2f Hz\" %f"
     ],
     "language": "python",
     "metadata": {},
     "outputs": [
      {
       "output_type": "stream",
       "stream": "stdout",
       "text": [
        "Lowest frequency = 3.39 Hz\n"
       ]
      }
     ],
     "prompt_number": 18
    },
    {
     "cell_type": "heading",
     "level": 2,
     "metadata": {},
     "source": [
      "Example 5.7\n",
      ": Page No 333"
     ]
    },
    {
     "cell_type": "code",
     "collapsed": false,
     "input": [
      "# Given data\n",
      "C = 220 # in \u00b5F\n",
      "C = C * 10**-6 # in F\n",
      "R1 = 10 # in kohm\n",
      "R1 = R1 * 10**3 # in ohm\n",
      "R2 = 2.2 # in kohm\n",
      "R2 = R2 * 10**3 # in ohm\n",
      "R_TH = (R1*R2)/(R1+R2) # in ohm\n",
      "X_C = 0.1*R_TH # in ohm\n",
      "f = 1/(2*pi*C*X_C) # in Hz\n",
      "print \"The lowest frequency = %0.2f Hz\" %f"
     ],
     "language": "python",
     "metadata": {},
     "outputs": [
      {
       "output_type": "stream",
       "stream": "stdout",
       "text": [
        "The lowest frequency = 4.01 Hz\n"
       ]
      }
     ],
     "prompt_number": 19
    },
    {
     "cell_type": "heading",
     "level": 2,
     "metadata": {},
     "source": [
      "Example 5.8\n",
      ": Page No 334"
     ]
    },
    {
     "cell_type": "code",
     "collapsed": false,
     "input": [
      "# Given data\n",
      "i_c = 15 # in mA\n",
      "i_c = i_c * 10**-3 # in A\n",
      "i_b = 100 # in \u00b5A\n",
      "i_b = i_b * 10**-6 # in A\n",
      "bita = i_c/i_b \n",
      "print \"The value of ac bita = %0.f\" %bita"
     ],
     "language": "python",
     "metadata": {},
     "outputs": [
      {
       "output_type": "stream",
       "stream": "stdout",
       "text": [
        "The value of ac bita = 150\n"
       ]
      }
     ],
     "prompt_number": 20
    },
    {
     "cell_type": "heading",
     "level": 2,
     "metadata": {},
     "source": [
      "Example 5.9\n",
      ": Page No 334"
     ]
    },
    {
     "cell_type": "code",
     "collapsed": false,
     "input": [
      "# Given data\n",
      "R_C = 3.6 # in kohm\n",
      "R_C= R_C*10**3 # in ohm\n",
      "R_L = 10 # in kohm\n",
      "R_L=R_L*10**3 # in ohm\n",
      "R_TH = (R_C*R_L)/(R_C+R_L) # in ohm\n",
      "V_CC = 10 # in V\n",
      "R2 = 2.2 # in kohm\n",
      "R2 = R2 * 10**3 # in ohm\n",
      "R1 = 10 # in kohm\n",
      "R1 = R1 * 10**3 # in ohm\n",
      "V_BE = 0.7 # in V\n",
      "V_B = (V_CC*R2)/(R1+R2) # in V\n",
      "R_E = 1 # in kohm  \n",
      "R_E = R_E *10**3 # in ohm\n",
      "I_E = (V_B-V_BE)/R_E # in A\n",
      "V1 = 25 # in mV\n",
      "V1 = V1*10**-3 # in V\n",
      "r_e = V1/(I_E) # in ohm\n",
      "A_v = (R_TH)/r_e \n",
      "V_in = 2 # in mV\n",
      "V_in = V_in * 10**-3 # in V\n",
      "V_out = A_v*V_in # in V\n",
      "print \"The output voltage = %0.2f V\" %V_out"
     ],
     "language": "python",
     "metadata": {},
     "outputs": [
      {
       "output_type": "stream",
       "stream": "stdout",
       "text": [
        "The output voltage = 0.23 V\n"
       ]
      }
     ],
     "prompt_number": 21
    },
    {
     "cell_type": "heading",
     "level": 2,
     "metadata": {},
     "source": [
      "Example 5.10\n",
      ": Page No 336"
     ]
    },
    {
     "cell_type": "code",
     "collapsed": false,
     "input": [
      "# Given data\n",
      "R_L = 10 # in kohm\n",
      "R_L= R_L*10**3 # in ohm\n",
      "R_C = 3.6 # in kohm\n",
      "R_C= R_C*10**3 # in ohm\n",
      "r_e_desh = 22.73 # in ohm \n",
      "R_L_desh = R_L/2 # in ohm\n",
      "A_v = ( (R_C*R_L_desh)/(R_C+R_L_desh))/r_e_desh \n",
      "print \"The voltage gain = %0.2f\" %A_v"
     ],
     "language": "python",
     "metadata": {},
     "outputs": [
      {
       "output_type": "stream",
       "stream": "stdout",
       "text": [
        "The voltage gain = 92.08\n"
       ]
      }
     ],
     "prompt_number": 22
    },
    {
     "cell_type": "heading",
     "level": 2,
     "metadata": {},
     "source": [
      "Example 5.11\n",
      ": Page No 336"
     ]
    },
    {
     "cell_type": "code",
     "collapsed": false,
     "input": [
      "# Given data\n",
      "R_E = 1 # in kohm\n",
      "R_E = R_E * 10**3 # in ohm\n",
      "R_L = 3.3 # in kohm\n",
      "R_L = R_L * 10**3 # in ohm\n",
      "r_e = (R_E*R_L)/(R_E+R_L) # in ohm\n",
      "V_CC = 15 # in V\n",
      "R2 = 2.2 # in K ohm\n",
      "R2 = R2 * 10**3 # in ohm\n",
      "R1 = R2 # in ohm\n",
      "V_B = (V_CC*R2)/(R1+R2) # in V\n",
      "V_BE = 0.7 # in V\n",
      "R_E = 1 # in K ohm\n",
      "R_E = R_E * 10**3 # in ohm\n",
      "I_E = (V_B-V_BE)/R_E # in A\n",
      "V1 = 25*10**-3 # in V\n",
      "r_e1 = V1/I_E \n",
      "bita = 200 \n",
      "Zin_base = bita*(r_e+r_e1) # in ohm\n",
      "print \"The input impedence of the base = %0.2f k\u03a9\" %(Zin_base*10**-3)\n",
      "Zin_stage = (R1*R2*Zin_base)/(R1*R2+R2*Zin_base+R1*Zin_base) # in ohm\n",
      "print \"The input impedance of the stage = %0.2f k\u03a9\" %(Zin_stage*10**-3)"
     ],
     "language": "python",
     "metadata": {},
     "outputs": [
      {
       "output_type": "stream",
       "stream": "stdout",
       "text": [
        "The input impedence of the base = 154.22 k\u03a9\n",
        "The input impedance of the stage = 1.09 k\u03a9\n"
       ]
      }
     ],
     "prompt_number": 23
    },
    {
     "cell_type": "heading",
     "level": 2,
     "metadata": {},
     "source": [
      "Example 5.12\n",
      ": Page No 337 "
     ]
    },
    {
     "cell_type": "code",
     "collapsed": false,
     "input": [
      "# Given data\n",
      "r_e = 767.44 \n",
      "r_e1 = 3.68 \n",
      "V_in = 1 # in V\n",
      "A_v = round(r_e/(r_e+r_e1)) \n",
      "print \"The voltage gain = %0.f\" %A_v\n",
      "V_o = A_v*V_in # in V\n",
      "print \"The load voltage = %0.f V\" %V_o"
     ],
     "language": "python",
     "metadata": {},
     "outputs": [
      {
       "output_type": "stream",
       "stream": "stdout",
       "text": [
        "The voltage gain = 1\n",
        "The load voltage = 1 V\n"
       ]
      }
     ],
     "prompt_number": 24
    }
   ],
   "metadata": {}
  }
 ]
}