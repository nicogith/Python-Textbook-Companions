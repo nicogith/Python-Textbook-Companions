{
 "metadata": {
  "name": ""
 },
 "nbformat": 3,
 "nbformat_minor": 0,
 "worksheets": [
  {
   "cells": [
    {
     "cell_type": "heading",
     "level": 1,
     "metadata": {},
     "source": [
      "Chapter - 6 : Field Effect Devices (JFET)"
     ]
    },
    {
     "cell_type": "heading",
     "level": 2,
     "metadata": {},
     "source": [
      "Example 6.1\n",
      ": Page No 351"
     ]
    },
    {
     "cell_type": "code",
     "collapsed": false,
     "input": [
      "from __future__ import division\n",
      "# Given data\n",
      "V_D = 10 # in V\n",
      "R = 10*10**3 # in ohm\n",
      "I_D = V_D/R # in A\n",
      "V_P = 4 # in V\n",
      "I_DSS = 10 # in mA\n",
      "I_DSS = I_DSS * 10**-3 # in A\n",
      "R_DS  = V_P/I_DSS # in ohm\n",
      "V_D = (R_DS/(R+R_DS))*V_D # in V\n",
      "print \"The drain voltage = %0.3f V\" %V_D"
     ],
     "language": "python",
     "metadata": {},
     "outputs": [
      {
       "output_type": "stream",
       "stream": "stdout",
       "text": [
        "The drain voltage = 0.385 V\n"
       ]
      }
     ],
     "prompt_number": 1
    },
    {
     "cell_type": "heading",
     "level": 2,
     "metadata": {},
     "source": [
      "Example 6.2\n",
      ": Page No 353"
     ]
    },
    {
     "cell_type": "code",
     "collapsed": false,
     "input": [
      "# Given data\n",
      "V_P = 4 # in V\n",
      "I_DSS = 10 # in mA\n",
      "I_DSS  =I_DSS  *10**-3 # in A\n",
      "R_DS = V_P/I_DSS # in ohm\n",
      "V_DD = 30 # in V\n",
      "I_D = 2.5 # in mA\n",
      "R_D = 2 # in kohm\n",
      "V_D = V_DD - (I_D*R_D) # in V\n",
      "print \"The drain voltage = %0.f V\" %V_D"
     ],
     "language": "python",
     "metadata": {},
     "outputs": [
      {
       "output_type": "stream",
       "stream": "stdout",
       "text": [
        "The drain voltage = 25 V\n"
       ]
      }
     ],
     "prompt_number": 2
    },
    {
     "cell_type": "heading",
     "level": 2,
     "metadata": {},
     "source": [
      "Example 6.3\n",
      ": Page No 355"
     ]
    },
    {
     "cell_type": "code",
     "collapsed": false,
     "input": [
      "%matplotlib inline\n",
      "import matplotlib.pyplot as plt\n",
      "import numpy as np\n",
      "# Given data\n",
      "R2 = 1 # in M ohm\n",
      "R2 = R2*10**6 # in ohm\n",
      "R1 = 2 # in M ohm\n",
      "R1 = R1*10**6 # in ohm\n",
      "V_DD = 30 # in V\n",
      "R_D= 1*10**3 # in ohm\n",
      "V_G = (R2/(R1+R2))*V_DD # in V\n",
      "R_S= 2*10**3 # in ohm\n",
      "I_D= V_G/R_S # in A\n",
      "V_D= V_DD-I_D*R_D # in V\n",
      "V_DS= V_D-V_G # in V\n",
      "R_D= R_D+R_S # in ohm\n",
      "I_Dsat=V_DD/R_D*10**3 # in mA\n",
      "print \"The value of I_D = %0.f mA\" %(I_D*10**3)\n",
      "print \"The value of V_DS = %0.f volts\" %V_DS\n",
      "print \"Thus the Q-point = (\",int(V_DS),\"V,\",int(I_D*10**3),\"mA)\" \n",
      "V_D= np.arange(0,V_DD,0.1) # in V\n",
      "I_D= (V_DD-V_D)/R_D*10**3 # in mV\n",
      "plt.plot(V_D,I_D) \n",
      "plt.plot([0,15],[5,5], '--')\n",
      "plt.plot([15,15],[0,5], '--')\n",
      "plt.ylabel(\"I_D in mA\")\n",
      "plt.xlabel(\"V_DS in volts\")\n",
      "plt.title(\"DC load line\")\n",
      "print \"DC load line shown in figure\""
     ],
     "language": "python",
     "metadata": {},
     "outputs": [
      {
       "output_type": "stream",
       "stream": "stdout",
       "text": [
        "The value of I_D = 0 mA\n",
        "The value of V_DS = 30 volts\n",
        "Thus the Q-point = ( 30 V, 0 mA)\n",
        "DC load line shown in figure"
       ]
      },
      {
       "output_type": "stream",
       "stream": "stdout",
       "text": [
        "\n"
       ]
      },
      {
       "metadata": {},
       "output_type": "display_data",
       "png": "[encoded data removed]",
       "text": [
        "<matplotlib.figure.Figure at 0x7ffba61e4e10>"
       ]
      }
     ],
     "prompt_number": 14
    },
    {
     "cell_type": "heading",
     "level": 2,
     "metadata": {},
     "source": [
      "Example 6.4\n",
      ": Page No 358"
     ]
    },
    {
     "cell_type": "code",
     "collapsed": false,
     "input": [
      "# Given data\n",
      "V_DD = 15 # in V\n",
      "R = 3 # in kohm\n",
      "I_D = V_DD/R # in mA\n",
      "R_D = 1 # in kohm\n",
      "V_D = V_DD - (I_D*R_D) # in V\n",
      "print \"The drain voltage = %0.f V\" %V_D"
     ],
     "language": "python",
     "metadata": {},
     "outputs": [
      {
       "output_type": "stream",
       "stream": "stdout",
       "text": [
        "The drain voltage = 10 V\n"
       ]
      }
     ],
     "prompt_number": 21
    },
    {
     "cell_type": "heading",
     "level": 2,
     "metadata": {},
     "source": [
      "Example 6.5\n",
      ": Page No 362"
     ]
    },
    {
     "cell_type": "code",
     "collapsed": false,
     "input": [
      "# Given data\n",
      "R_D = 3.6 # in K ohm\n",
      "R_L = 10 # in K ohm\n",
      "r_d = (R_D*R_L)/(R_D+R_L) # in K ohm\n",
      "g_m = 5000 # in \u00b5S\n",
      "g_m= g_m*10**-6 # in S\n",
      "A_v = g_m *r_d \n",
      "V_out = A_v # in V\n",
      "print \"The output volatge = %0.1f mV\" %(V_out*10**3)"
     ],
     "language": "python",
     "metadata": {},
     "outputs": [
      {
       "output_type": "stream",
       "stream": "stdout",
       "text": [
        "The output volatge = 13.2 mV\n"
       ]
      }
     ],
     "prompt_number": 22
    },
    {
     "cell_type": "heading",
     "level": 2,
     "metadata": {},
     "source": [
      "Example 6.6\n",
      ": Page No 370"
     ]
    },
    {
     "cell_type": "code",
     "collapsed": false,
     "input": [
      "# Given data\n",
      "V_GS = -2 # in V\n",
      "V_P = -5 # in V\n",
      "V_DS = V_GS-V_P # in V\n",
      "I_DSS = 8 # in mA\n",
      "I_DS = I_DSS*( 1-(V_GS/V_P) )**2 # in mA\n",
      "print \"The drain current = %0.2f mA\" %I_DS"
     ],
     "language": "python",
     "metadata": {},
     "outputs": [
      {
       "output_type": "stream",
       "stream": "stdout",
       "text": [
        "The drain current = 2.88 mA\n"
       ]
      }
     ],
     "prompt_number": 23
    },
    {
     "cell_type": "heading",
     "level": 2,
     "metadata": {},
     "source": [
      "Example 6.7\n",
      ": Page No 370"
     ]
    },
    {
     "cell_type": "code",
     "collapsed": false,
     "input": [
      "# Given data\n",
      "I_DSS = 8.4 # in mA\n",
      "I_DSS= I_DSS*10**-3 # in A\n",
      "V_P = -3 # in V\n",
      "V_GS = -1.5 # in V\n",
      "I_D = I_DSS*( 1-(V_GS/V_P) )**2 # in A\n",
      "print \"The drain current = %0.1f mA\" %(I_D*10**3)\n",
      "V_GS1 = 0 # in V\n",
      "g_mo = -( (2*I_DSS)/V_P ) # in A/V\n",
      "g_m = g_mo*(1-(V_GS/V_P)) # in A/V\n",
      "print \"Transconductacne  = %0.1f mA/V\" %(g_m*10**3)"
     ],
     "language": "python",
     "metadata": {},
     "outputs": [
      {
       "output_type": "stream",
       "stream": "stdout",
       "text": [
        "The drain current = 2.1 mA\n",
        "Transconductacne  = 2.8 mA/V\n"
       ]
      }
     ],
     "prompt_number": 29
    },
    {
     "cell_type": "heading",
     "level": 2,
     "metadata": {},
     "source": [
      "Example 6.8\n",
      ": Page No 371"
     ]
    },
    {
     "cell_type": "code",
     "collapsed": false,
     "input": [
      "# Given data\n",
      "V_P = -4 # in V\n",
      "V_GS = -2 # in V\n",
      "I_DSS = 10 # in mA\n",
      "I_DSS= I_DSS*10**-3 # in A\n",
      "I_D = I_DSS*(1-(V_GS/V_P))**2 # in A\n",
      "print \"The drain current = %0.1f mA\" %(I_D*10**3)\n",
      "V_DS = V_P # in V\n",
      "print \"The minimum value of V_DS = %0.f V\" %V_DS"
     ],
     "language": "python",
     "metadata": {},
     "outputs": [
      {
       "output_type": "stream",
       "stream": "stdout",
       "text": [
        "The drain current = 2.5 mA\n",
        "The minimum value of V_DS = -4 V\n"
       ]
      }
     ],
     "prompt_number": 31
    },
    {
     "cell_type": "heading",
     "level": 2,
     "metadata": {},
     "source": [
      "Example 6.9\n",
      ": Page No 371"
     ]
    },
    {
     "cell_type": "code",
     "collapsed": false,
     "input": [
      "from math import sqrt\n",
      "# Given data\n",
      "I_DSS = -40 # in mA\n",
      "V_P = 5 # in V\n",
      "I_D = -15 # in mA\n",
      "V_GS = V_P*(1-sqrt(I_D/I_DSS)) # in V\n",
      "print \"The gate source voltage = %0.3f V\" %V_GS"
     ],
     "language": "python",
     "metadata": {},
     "outputs": [
      {
       "output_type": "stream",
       "stream": "stdout",
       "text": [
        "The gate source voltage = 1.938 V\n"
       ]
      }
     ],
     "prompt_number": 33
    },
    {
     "cell_type": "heading",
     "level": 2,
     "metadata": {},
     "source": [
      "Example 6.10\n",
      ": Page No 372"
     ]
    },
    {
     "cell_type": "code",
     "collapsed": false,
     "input": [
      "# Given data\n",
      "I_DSS = 4 # in mA\n",
      "I_DSS= I_DSS*10**-3 # in A\n",
      "V_P = -4 # in V\n",
      "V_GG = -2 # in V\n",
      "V_GS = V_GG # in V\n",
      "print \"The value of V_GS = %0.f V\" %V_GS\n",
      "I_D = I_DSS*(1-(V_GS/V_P))**2 # in A\n",
      "print \"The value of I_D = %0.f mA\" %(I_D*10**3)\n",
      "V_DD = 10 # in V\n",
      "R_D = 5 # in kohm\n",
      "R_D = R_D * 10**3 # in ohm\n",
      "V_DS = V_DD - (I_D*R_D) # in V\n",
      "print \"The value of V_DS = %0.f V\" %V_DS"
     ],
     "language": "python",
     "metadata": {},
     "outputs": [
      {
       "output_type": "stream",
       "stream": "stdout",
       "text": [
        "The value of V_GS = -2 V\n",
        "The value of I_D = 1 mA\n",
        "The value of V_DS = 5 V\n"
       ]
      }
     ],
     "prompt_number": 34
    },
    {
     "cell_type": "heading",
     "level": 2,
     "metadata": {},
     "source": [
      "Example 6.11\n",
      ": Page No 373"
     ]
    },
    {
     "cell_type": "code",
     "collapsed": false,
     "input": [
      "from sympy import symbols, solve, N#Given data\n",
      "I_D= symbols('I_D')\n",
      "# Given data\n",
      "V_DD= 20 # in V\n",
      "R1= 2.1*10**6 # in \u03a9\n",
      "R2= 270*10**3 # in \u03a9\n",
      "R_D= 4.7 # in k\u03a9\n",
      "R_S= 1.5 # in k\u03a9\n",
      "I_DSS= 8 # in mA\n",
      "V_P= -4 # in V\n",
      "V_G= V_DD*R2/(R1+R2) # in V\n",
      "# V_GS= V_G-R_S*I_D    (as Vs= I_D*R_S) and \n",
      "# I_D= I_DSS*(1-V_GS/V_P)**2 # in A\n",
      "# I_D= I_DSS*(1-(V_G-R_S*I_D)/V_P)**2 # in mA  or\n",
      "# I_D= I_D**2*I_DSS*R_S**2/V_P**2  + I_D*(2*R_S*I_DSS/V_P-2*V_G*R_S*I_DSS/V_P**2-1) + I_DSS*(1+V_G**2/V_P**2-2*V_G/V_P)\n",
      "expr= I_D**2*I_DSS*R_S**2/V_P**2  + I_D*(2*R_S*I_DSS/V_P-2*V_G*R_S*I_DSS/V_P**2-1) + I_DSS*(1+V_G**2/V_P**2-2*V_G/V_P)\n",
      "I_D , x1= solve(expr, I_D)\n",
      "I_DQ= I_D # in mA\n",
      "print \"The value of I_DQ = %0.2f mA\" %I_DQ\n",
      "V_GSQ= V_G-R_S*I_D # in V\n",
      "print \"The value of V_GSQ = %0.3f V\" %V_GSQ\n",
      "V_DSQ= V_DD-I_DQ*(R_D+R_S) # in V\n",
      "print \"The value of V_DSQ = %0.2f V\" %V_DSQ\n",
      "V_S= I_D*R_S # in V\n",
      "V_D= V_S+V_DSQ #in V\n",
      "V_DS= V_D-V_G # in V\n",
      "print \"The value of V_S = %0.3f V\" %V_S\n",
      "print \"The value of V_D = %0.3f V\" %V_D\n",
      "print \"The value of V_DS = %0.3f V\" %V_DS"
     ],
     "language": "python",
     "metadata": {},
     "outputs": [
      {
       "output_type": "stream",
       "stream": "stdout",
       "text": [
        "The value of I_DQ = 2.65 mA\n",
        "The value of V_GSQ = -1.698 V\n",
        "The value of V_DSQ = 3.57 V\n",
        "The value of V_S = 3.976 V\n",
        "The value of V_D = 7.542 V\n",
        "The value of V_DS = 5.263 V\n"
       ]
      }
     ],
     "prompt_number": 40
    },
    {
     "cell_type": "heading",
     "level": 2,
     "metadata": {},
     "source": [
      "Example 6.12\n",
      ": Page No 374"
     ]
    },
    {
     "cell_type": "code",
     "collapsed": false,
     "input": [
      "I_D= symbols('I_D')\n",
      "# Given data\n",
      "V_DD= 20 # in V\n",
      "I_DSS= 9 # in mA\n",
      "V_BB= -10 # in V\n",
      "R_S= 1.5 # in k\u03a9\n",
      "R_D= 1.8 # in k\u03a9\n",
      "V_P= -3 # in V\n",
      "V_G=0 \n",
      "# V_S= I_D*R_S+V_BB \n",
      "# V_GS= V_G-V_S or\n",
      "# V_GS= V_G-(I_D*R_S+V_BB)\n",
      "# I_D= I_DSS*(1-V_GS/V_P)**2 or\n",
      "# I_D**2*R_S**2 + I_D*[2*R_S*V_BB+2*V_P*R_S-V_P**2/I_DSS]+[V_P**2+V_BB**2+2*V_BB*V_P]\n",
      "expr = I_D**2*R_S**2 + I_D*(2*R_S*V_BB+2*V_P*R_S-V_P**2/I_DSS)+(V_P**2+V_BB**2+2*V_BB*V_P)\n",
      "I_D , x1= solve(expr, I_D)\n",
      "I_DQ= I_D # in mA\n",
      "print \"The value of I_DQ = %0.2f mA\" %I_DQ\n",
      "V_GS= V_G-(I_D*R_S+V_BB) # in V\n",
      "V_GSQ= V_GS # in V\n",
      "print \"The value of V_GSQ = %0.3f volts\" %V_GSQ\n",
      "V_DS= V_DD-I_D*(R_D+R_S)-V_BB # in V\n",
      "print \"The value of V_DS = %0.3f volts\" %V_DS\n",
      "V_S= I_D*R_S+V_BB # in V\n",
      "print \"The value of V_S = %0.3f volts\" %V_S\n",
      "V_D= V_S+V_DS # in V\n",
      "print \"The value of V_D = %0.3f volts\" %V_D"
     ],
     "language": "python",
     "metadata": {},
     "outputs": [
      {
       "output_type": "stream",
       "stream": "stdout",
       "text": [
        "The value of I_DQ = 6.91 mA\n",
        "The value of V_GSQ = -0.371 volts\n",
        "The value of V_DS = 7.185 volts\n",
        "The value of V_S = 0.371 volts\n",
        "The value of V_D = 7.555 volts\n"
       ]
      }
     ],
     "prompt_number": 45
    },
    {
     "cell_type": "heading",
     "level": 2,
     "metadata": {},
     "source": [
      "Example 6.13\n",
      ": Page No 376"
     ]
    },
    {
     "cell_type": "code",
     "collapsed": false,
     "input": [
      "# Given data\n",
      "V_S = 1.7 # in V\n",
      "R_S = 0.51 # in kohm\n",
      "R_S= R_S*10**3 # in ohm\n",
      "V_DD = 18 # in V\n",
      "R_D = 2*10**3 # in ohm\n",
      "V_GS = -1.7 # in V\n",
      "V_P = - 4.5 # in V\n",
      "I_DQ = V_S/R_S #in A\n",
      "print \"The value of I_DQ = %0.2f mA\" %(I_DQ*10**3)\n",
      "V_GSQ = -V_S # in V\n",
      "print \"The value of V_GSQ = %0.1f V\" %V_GSQ\n",
      "I_DSS = I_DQ/( (1-(V_GS/V_P))**2 ) # in A\n",
      "print \"The value of I_DSS = %0.1f mA\" %(I_DSS*10**3)\n",
      "V_D = V_DD - (I_DQ*R_D) # in V\n",
      "print \"The value of V_D = %0.2f V\" %V_D\n",
      "V_DS = V_D-V_S # in V\n",
      "print \"The value of V_DS = %0.2f V\" %V_DS"
     ],
     "language": "python",
     "metadata": {},
     "outputs": [
      {
       "output_type": "stream",
       "stream": "stdout",
       "text": [
        "The value of I_DQ = 3.33 mA\n",
        "The value of V_GSQ = -1.7 V\n",
        "The value of I_DSS = 8.6 mA\n",
        "The value of V_D = 11.33 V\n",
        "The value of V_DS = 9.63 V\n"
       ]
      }
     ],
     "prompt_number": 46
    },
    {
     "cell_type": "heading",
     "level": 2,
     "metadata": {},
     "source": [
      "Example 6.14\n",
      ": Page No 377"
     ]
    },
    {
     "cell_type": "code",
     "collapsed": false,
     "input": [
      "%matplotlib inline\n",
      "import matplotlib.pyplot as plt\n",
      "import numpy as np\n",
      "# Given data\n",
      "I_DSS = 12 # in mA\n",
      "V_GS = 0 # in V\n",
      "I_D = 0 # in mA\n",
      "V_P = -6 # in V\n",
      "V_GS= np.arange(0,V_P,-0.1) # in V\n",
      "I_D = I_DSS*(1-(V_GS/V_P))**2 # mA\n",
      "plt.subplot(1,2,1)\n",
      "plt.plot(V_GS,I_D) \n",
      "plt.xlabel('V_GS in volts')\n",
      "plt.ylabel('I_D in mA')\n",
      "plt.title('n-channel device')\n",
      "V_P = 6 # in V\n",
      "V_GS= np.arange(0,V_P,0.1) # in V\n",
      "I_D = I_DSS*(1-(V_GS/V_P))**2 # mA\n",
      "plt.subplot(1,2,2)\n",
      "plt.plot(V_GS,I_D) \n",
      "plt.xlabel(\"V_GS in volts\")\n",
      "plt.ylabel(\"I_D in mA\")\n",
      "plt.title(\"p-channel device\")\n",
      "print \"\""
     ],
     "language": "python",
     "metadata": {},
     "outputs": [
      {
       "output_type": "stream",
       "stream": "stdout",
       "text": [
        "\n"
       ]
      },
      {
       "metadata": {},
       "output_type": "display_data",
       "png": "[encoded data removed]",
       "text": [
        "<matplotlib.figure.Figure at 0x7ffba5748810>"
       ]
      }
     ],
     "prompt_number": 18
    },
    {
     "cell_type": "heading",
     "level": 2,
     "metadata": {},
     "source": [
      "Example 6.15\n",
      ": Page No 378"
     ]
    },
    {
     "cell_type": "code",
     "collapsed": false,
     "input": [
      "# Given data\n",
      "I_DSS = 30 # in mA\n",
      "V_GS = -5 # in V\n",
      "V_GS_off = -8 # in V\n",
      "I_D = I_DSS*(1-(V_GS/V_GS_off))**2 # in mA\n",
      "print \"The drain current = %0.3f mA\" %I_D"
     ],
     "language": "python",
     "metadata": {},
     "outputs": [
      {
       "output_type": "stream",
       "stream": "stdout",
       "text": [
        "The drain current = 4.219 mA\n"
       ]
      }
     ],
     "prompt_number": 62
    },
    {
     "cell_type": "heading",
     "level": 2,
     "metadata": {},
     "source": [
      "Example 6.16\n",
      ": Page No 378"
     ]
    },
    {
     "cell_type": "code",
     "collapsed": false,
     "input": [
      "# Given data\n",
      "I_D = 1.5 # in mA\n",
      "I_DSS = 5 # in mA\n",
      "V_P = -2 # in V\n",
      "V_GS = V_P*(1-sqrt(I_D/I_DSS)) # in V\n",
      "V_G = 0 # in V\n",
      "V_S = V_G-V_GS # in V\n",
      "R_S = V_S/I_D # in kohm\n",
      "print \"The source resistance = %0.f ohm\" %(R_S*10**3)\n",
      "V_DD = 20 # in V\n",
      "V_DS= 10 # in V\n",
      "R_D = (V_DD-(V_DS+(I_D*R_S)))/(I_D) # in kohm\n",
      "print \"The diode resistance = %0.f K ohm\" %R_D"
     ],
     "language": "python",
     "metadata": {},
     "outputs": [
      {
       "output_type": "stream",
       "stream": "stdout",
       "text": [
        "The source resistance = 603 ohm\n",
        "The diode resistance = 6 K ohm\n"
       ]
      }
     ],
     "prompt_number": 63
    },
    {
     "cell_type": "heading",
     "level": 2,
     "metadata": {},
     "source": [
      "Example 6.17\n",
      ": Page No 379"
     ]
    },
    {
     "cell_type": "code",
     "collapsed": false,
     "input": [
      "# Given data\n",
      "I_D = 0.8 # in mA\n",
      "I_D= I_D*10**-3 # in A\n",
      "I_DSS = 1.645 # in mA\n",
      "I_DSS= I_DSS*10**-3 # in A\n",
      "V_P = -2 # in V\n",
      "V_GS = V_P * (1-sqrt(I_D/I_DSS)) # in V\n",
      "print \"The gate source voltage = %0.2f V\" %V_GS\n",
      "g_mo = -((2*I_DSS)/V_P) # in A/V\n",
      "g_m = g_mo*(1-(V_GS/V_P)) # in A/V\n",
      "print \"The transconductance = %0.2f mA/V\" %(g_m*10**3)\n",
      "R_S = -(V_GS/I_D) # in ohm\n",
      "print \"The source resistance = %0.f ohm\" %R_S\n",
      "AdB= 20 # in dB\n",
      "A= 10**(AdB/20) \n",
      "R_D= A/g_m # in ohm\n",
      "print \"The value of R_D = %0.2f k\u03a9\" %(R_D*10**-3)\n",
      "\n",
      "# Note: There is calculation error to find the value of R_S in the book . So the answer in the book is wrong"
     ],
     "language": "python",
     "metadata": {},
     "outputs": [
      {
       "output_type": "stream",
       "stream": "stdout",
       "text": [
        "The gate source voltage = -0.61 V\n",
        "The transconductance = 1.15 mA/V\n",
        "The source resistance = 757 ohm\n",
        "The value of R_D = 8.72 k\u03a9\n"
       ]
      }
     ],
     "prompt_number": 64
    },
    {
     "cell_type": "heading",
     "level": 2,
     "metadata": {},
     "source": [
      "Example 6.18\n",
      ": Page No 381"
     ]
    },
    {
     "cell_type": "code",
     "collapsed": false,
     "input": [
      "# Given data\n",
      "V_GG = 2 # in V\n",
      "V_GS = -V_GG # in V\n",
      "print \"The value of V_GS = %0.f V\" %V_GS\n",
      "I_DSS = 10 # in mA\n",
      "V_P = -8 # in V\n",
      "I_D = I_DSS*(1-(V_GS/V_P))**2 # in mA\n",
      "I_DQ= I_D # in mA\n",
      "print \"The value of I_DQ = %0.3f mA\" %I_DQ\n",
      "R_D = 2 # in K ohm\n",
      "V_DD = 16 # in V\n",
      "V_DS = V_DD - (I_D*R_D) # in V\n",
      "print \"The value of V_DS = %0.2f V\" %V_DS\n",
      "V_D = V_DS # in V\n",
      "print \"The value of V_D = %0.2f V\" %V_D\n",
      "V_G = V_GS # in V\n",
      "print \"The value of V_G = %0.f V\" %V_G\n",
      "V_S = 0 # in V\n",
      "print \"The value of V_S = %0.f V\" %V_S"
     ],
     "language": "python",
     "metadata": {},
     "outputs": [
      {
       "output_type": "stream",
       "stream": "stdout",
       "text": [
        "The value of V_GS = -2 V\n",
        "The value of I_DQ = 5.625 mA\n",
        "The value of V_DS = 4.75 V\n",
        "The value of V_D = 4.75 V\n",
        "The value of V_G = -2 V\n",
        "The value of V_S = 0 V\n"
       ]
      }
     ],
     "prompt_number": 65
    },
    {
     "cell_type": "heading",
     "level": 2,
     "metadata": {},
     "source": [
      "Example 6.19\n",
      ": Page No 381"
     ]
    },
    {
     "cell_type": "code",
     "collapsed": false,
     "input": [
      "# Given data\n",
      "V_GS = 10 # in V\n",
      "I_G = 0.001 # in \u00b5A\n",
      "R_GS = V_GS/I_G # in M\u03a9\n",
      "print \"The gate source resistance = %0.f M\u03a9\" %R_GS"
     ],
     "language": "python",
     "metadata": {},
     "outputs": [
      {
       "output_type": "stream",
       "stream": "stdout",
       "text": [
        "The gate source resistance = 10000 M\u03a9\n"
       ]
      }
     ],
     "prompt_number": 66
    },
    {
     "cell_type": "heading",
     "level": 2,
     "metadata": {},
     "source": [
      "Example 6.20\n",
      ": Page No 382"
     ]
    },
    {
     "cell_type": "code",
     "collapsed": false,
     "input": [
      "# Given data\n",
      "del_VDS = 1.5 # in V\n",
      "del_ID = 120 * 10**-6 # in A\n",
      "r_d = del_VDS/del_ID # in ohm\n",
      "r_d = r_d * 10**-3 # in kohm\n",
      "print \"The drain resistance of the JFET = %0.1f K ohm\" %r_d"
     ],
     "language": "python",
     "metadata": {},
     "outputs": [
      {
       "output_type": "stream",
       "stream": "stdout",
       "text": [
        "The drain resistance of the JFET = 12.5 K ohm\n"
       ]
      }
     ],
     "prompt_number": 67
    },
    {
     "cell_type": "heading",
     "level": 2,
     "metadata": {},
     "source": [
      "Example 6.21\n",
      ": Page No 382"
     ]
    },
    {
     "cell_type": "code",
     "collapsed": false,
     "input": [
      "# Given data\n",
      "I_DSS  = 8.4 # in mA\n",
      "V_P = -3 # in V\n",
      "V_GS = -1.5 # in V\n",
      "I_D = I_DSS*(1-(V_GS/V_P))**2 # in mA\n",
      "g_mo = -( (2*I_DSS)/V_P ) # in mA/V\n",
      "g_m = g_mo*(1-(V_GS/V_P)) # in mA/V\n",
      "print \"The value of g_m = %0.1f mA/V\" %g_m"
     ],
     "language": "python",
     "metadata": {},
     "outputs": [
      {
       "output_type": "stream",
       "stream": "stdout",
       "text": [
        "The value of g_m = 2.8 mA/V\n"
       ]
      }
     ],
     "prompt_number": 68
    },
    {
     "cell_type": "heading",
     "level": 2,
     "metadata": {},
     "source": [
      "Example 6.22\n",
      ": Page No 383"
     ]
    },
    {
     "cell_type": "code",
     "collapsed": false,
     "input": [
      "from sympy import symbols, solve, N#Given data\n",
      "V_GS= symbols('V_GS')\n",
      "# Given data\n",
      "V_DD= 20 # in V\n",
      "I_DSS= 9 # in mA\n",
      "V_P= -3 # in V\n",
      "R1= 0.3*10**3 # in k\u03a9\n",
      "R2= 1.7*10**3 #in k\u03a9\n",
      "R_D= 3.2 # in k\u03a9\n",
      "R=1 # in k\u03a9\n",
      "V_G= V_DD*R1/(R1+R2) # in V\n",
      "#I_D= I_DSS*[1-V_GS/V_P]**2                             (i)\n",
      "# V_G= V_GS+I_D*R or I_D= (V_G-V_GS)/R     (ii)\n",
      "# From (i) and (ii)\n",
      "#V_GS*1/V_P**2+V_GS*[1/(R*I_DSS)-2/V_P]+[1-V_G/(R*I_DSS)]=0\n",
      "expr= V_GS**2*(R*I_DSS/V_P**2)+V_GS*(1-2*R*I_DSS/V_P)+(R*I_DSS-V_G)\n",
      "x1 , V_GS= solve(expr, V_GS)\n",
      "I_D= I_DSS*(1-V_GS/V_P)**2 # in mA\n",
      "print \"The value of I_D = %0.f mA\" %I_D\n",
      "V_S= I_D*R #in V\n",
      "V_D= V_DD-I_D*R_D # in V\n",
      "V_DS= V_D-V_S # in V\n",
      "gm= -2*I_DSS/V_P*(1-V_GS/V_P) # in mA/V\n",
      "print \"The value of V_DS = %0.1f volts\" %V_DS\n",
      "print \"The transconductance = %0.f mA/V\" %gm"
     ],
     "language": "python",
     "metadata": {},
     "outputs": [
      {
       "output_type": "stream",
       "stream": "stdout",
       "text": [
        "The value of I_D = 4 mA\n",
        "The value of V_DS = 3.2 volts\n",
        "The transconductance = 4 mA/V\n"
       ]
      }
     ],
     "prompt_number": 87
    },
    {
     "cell_type": "heading",
     "level": 2,
     "metadata": {},
     "source": [
      "Example 6.23\n",
      ": Page No 385"
     ]
    },
    {
     "cell_type": "code",
     "collapsed": false,
     "input": [
      "# Given data\n",
      "r_d = 25 # in k\u03a9\n",
      "R1 = r_d # in k\u03a9\n",
      "R2 = r_d # in k\u03a9\n",
      "g_m = 2 #mA/V\n",
      "g_m= g_m*10**-3 # in A/V\n",
      "R_L = (r_d*R1*R2)/(r_d*R1+R1*R2+R2*r_d) # in k\u03a9\n",
      "R_L= R_L*10**3 # in \u03a9\n",
      "A_v = -g_m*R_L \n",
      "print \"The voltage gain = %0.2f\" %A_v"
     ],
     "language": "python",
     "metadata": {},
     "outputs": [
      {
       "output_type": "stream",
       "stream": "stdout",
       "text": [
        "The voltage gain = -16.67\n"
       ]
      }
     ],
     "prompt_number": 88
    },
    {
     "cell_type": "heading",
     "level": 2,
     "metadata": {},
     "source": [
      "Example 6.24\n",
      ": Page No 386"
     ]
    },
    {
     "cell_type": "code",
     "collapsed": false,
     "input": [
      "# Given data\n",
      "V_GS = 15 # in V\n",
      "I_G = 1 # in nA\n",
      "I_G =I_G * 10**-9 # in A\n",
      "R_in = V_GS/I_G # in \u03a9\n",
      "print \"Input resistance = %0.f G\u03a9\" %(R_in*10**-9)"
     ],
     "language": "python",
     "metadata": {},
     "outputs": [
      {
       "output_type": "stream",
       "stream": "stdout",
       "text": [
        "Input resistance = 15 G\u03a9\n"
       ]
      }
     ],
     "prompt_number": 90
    },
    {
     "cell_type": "heading",
     "level": 2,
     "metadata": {},
     "source": [
      "Example 6.25\n",
      ": Page No 386"
     ]
    },
    {
     "cell_type": "code",
     "collapsed": false,
     "input": [
      "# Given data\n",
      "I_DSS = 20 # in mA\n",
      "V_P = 4 # in V\n",
      "I_D = I_DSS # in mA\n",
      "print \"The maximum drain current = %0.f mA\" %I_D\n",
      "V_GS = -V_P # in V\n",
      "print \"The gate source cut off voltage = %0.f volts\" %V_GS\n",
      "R_DS = V_P/I_DSS # in k\u03a9\n",
      "print \"The value of ohmic resistance = %0.f \u03a9\" %(R_DS*10**3)"
     ],
     "language": "python",
     "metadata": {},
     "outputs": [
      {
       "output_type": "stream",
       "stream": "stdout",
       "text": [
        "The maximum drain current = 20 mA\n",
        "The gate source cut off voltage = -4 volts\n",
        "The value of ohmic resistance = 200 \u03a9\n"
       ]
      }
     ],
     "prompt_number": 92
    },
    {
     "cell_type": "heading",
     "level": 2,
     "metadata": {},
     "source": [
      "Example 6.26\n",
      ": Page No 386"
     ]
    },
    {
     "cell_type": "code",
     "collapsed": false,
     "input": [
      "# Given data\n",
      "I_DSS= 16*10**-3 # in A\n",
      "V_GSoff= -6 #in V\n",
      "V_GS= V_GSoff/2 # in V\n",
      "I_D= I_DSS*(1-V_GS/V_GSoff)**2 # in A\n",
      "print \"The drain current = %0.f mA\" %(I_D*10**3)\n",
      "V_GS= abs(V_GSoff)/2 # in V\n",
      "print \"The gate voltage = %0.f volts\" %V_GS"
     ],
     "language": "python",
     "metadata": {},
     "outputs": [
      {
       "output_type": "stream",
       "stream": "stdout",
       "text": [
        "The drain current = 4 mA\n",
        "The gate voltage = 3 volts\n"
       ]
      }
     ],
     "prompt_number": 93
    },
    {
     "cell_type": "heading",
     "level": 2,
     "metadata": {},
     "source": [
      "Example 6.27\n",
      ": Page No 387"
     ]
    },
    {
     "cell_type": "code",
     "collapsed": false,
     "input": [
      "# Given data\n",
      "V_DD = 15 # in V\n",
      "R_D = 10 # in kohm\n",
      "R_D = R_D * 10**3 # in ohm\n",
      "I_D = V_DD/R_D # in A\n",
      "print \"The drain current = %0.1f mA\" %(I_D*10**3)\n",
      "V_D = V_DD - I_D*R_D # in V\n",
      "print \"The drain voltage = %0.f V\" %V_D"
     ],
     "language": "python",
     "metadata": {},
     "outputs": [
      {
       "output_type": "stream",
       "stream": "stdout",
       "text": [
        "The drain current = 1.5 mA\n",
        "The drain voltage = 0 V\n"
       ]
      }
     ],
     "prompt_number": 94
    },
    {
     "cell_type": "heading",
     "level": 2,
     "metadata": {},
     "source": [
      "Example 6.28\n",
      ": Page No 388"
     ]
    },
    {
     "cell_type": "code",
     "collapsed": false,
     "input": [
      "# Given data\n",
      "R2 = 1 # in M ohm\n",
      "R2 = R2 * 10**6 # in ohm\n",
      "R1 = 1.5 # in M ohm\n",
      "R1 = R1 * 10**6 # in ohm\n",
      "V_DD = 25 # in V\n",
      "V_G = (R2*V_DD)/(R1+R2) # in V\n",
      "R_S = 22 # in kohm\n",
      "R_S = R_S * 10**3 # in ohm\n",
      "I_D = V_G/R_S # in A\n",
      "print \"The drain current = %0.2f mA\" %(I_D*10**3)\n",
      "R_D = 10 # in  kohm\n",
      "R_D = R_D * 10**3 # in ohm\n",
      "V_D = V_DD - (I_D*R_D) #in V\n",
      "V_S = 10 # in V\n",
      "V_DS = V_D - V_S # in V\n",
      "print \"The Drain source voltage = %0.1f V\" %V_DS\n",
      "print \"Thus the Q-point is : (\",round(V_DS,1),\"V,\",round(I_D*10**3,2),\"mA)\"\n",
      "I_Dsat = V_DD/R_D # in A\n",
      "V_DS = V_DD # in V\n",
      "V_D= np.arange(0,25,0.1) # in V\n",
      "I_D= (V_DD-V_D)/R_D*10**3 # in mA\n",
      "plt.plot(V_D,I_D) \n",
      "plt.xlabel(\"V_DS in volts\") \n",
      "plt.ylabel(\"I_D in mA\") \n",
      "plt.title(\"DC load line\") \n",
      "print \"DC load line shown in figure\""
     ],
     "language": "python",
     "metadata": {},
     "outputs": [
      {
       "output_type": "stream",
       "stream": "stdout",
       "text": [
        "The drain current = 0.45 mA\n",
        "The Drain source voltage = 10.5 V\n",
        "Thus the Q-point is : ( 10.5 V, 0.45 mA)\n",
        "DC load line shown in figure"
       ]
      },
      {
       "output_type": "stream",
       "stream": "stdout",
       "text": [
        "\n"
       ]
      },
      {
       "metadata": {},
       "output_type": "display_data",
       "png": "[encoded data removed]",
       "text": [
        "<matplotlib.figure.Figure at 0x7ffba566e950>"
       ]
      }
     ],
     "prompt_number": 12
    },
    {
     "cell_type": "heading",
     "level": 2,
     "metadata": {},
     "source": [
      "Example 6.29\n",
      ": Page No 389"
     ]
    },
    {
     "cell_type": "code",
     "collapsed": false,
     "input": [
      "# Given data\n",
      "V_SS = 25 # in V\n",
      "V_GS = 0 # in V\n",
      "R_S = 18 # in kohm\n",
      "R_S = R_S * 10**3 # in ohm\n",
      "I_D = (V_SS-V_GS)/R_S # in A\n",
      "print \"The drain current = %0.2f mA\" %(I_D*10**3)\n",
      "V_DD = 25 # in V\n",
      "R_D = 7.5 # in kohm\n",
      "R_D = R_D * 10**3 # in ohm\n",
      "V_D = V_DD - (I_D*R_D) # in V\n",
      "print \"The drain voltage = %0.2f V\" %V_D"
     ],
     "language": "python",
     "metadata": {},
     "outputs": [
      {
       "output_type": "stream",
       "stream": "stdout",
       "text": [
        "The drain current = 1.39 mA\n",
        "The drain voltage = 14.58 V\n"
       ]
      }
     ],
     "prompt_number": 102
    },
    {
     "cell_type": "heading",
     "level": 2,
     "metadata": {},
     "source": [
      "Example 6.30\n",
      ": Page No 390 "
     ]
    },
    {
     "cell_type": "code",
     "collapsed": false,
     "input": [
      "# Given data\n",
      "R_D = 1 # in kohm\n",
      "R_D = R_D * 10**3 # in ohm\n",
      "V_in = 2 # in mV\n",
      "V_in = V_in * 10**-3 # in V\n",
      "R_L = 10 # in kohm\n",
      "R_L = R_L * 10**3 # in ohm\n",
      "r_d = (R_D*R_L)/(R_D+R_L) # in ohm\n",
      "g_m = 3000 #in \u00b5S\n",
      "g_m = g_m * 10**-6 # in S\n",
      "A_v = g_m*r_d \n",
      "V_out = A_v*V_in # in V\n",
      "V_out = V_out * 10**3 # in mV\n",
      "print \"The output Voltage = %0.2f mV\" %V_out"
     ],
     "language": "python",
     "metadata": {},
     "outputs": [
      {
       "output_type": "stream",
       "stream": "stdout",
       "text": [
        "The output Voltage = 5.45 mV\n"
       ]
      }
     ],
     "prompt_number": 103
    }
   ],
   "metadata": {}
  }
 ]
}