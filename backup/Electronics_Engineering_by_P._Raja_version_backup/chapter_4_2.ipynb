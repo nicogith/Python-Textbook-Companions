{
 "metadata": {
  "name": ""
 },
 "nbformat": 3,
 "nbformat_minor": 0,
 "worksheets": [
  {
   "cells": [
    {
     "cell_type": "heading",
     "level": 1,
     "metadata": {},
     "source": [
      "Chapter - 4 : Bipolar Junction Transistors"
     ]
    },
    {
     "cell_type": "heading",
     "level": 2,
     "metadata": {},
     "source": [
      "Example 4.1\n",
      ": Page No 223"
     ]
    },
    {
     "cell_type": "code",
     "collapsed": false,
     "input": [
      "from __future__ import division\n",
      "# Given data\n",
      "I_C= 0.9 # in mA\n",
      "I_E=1 # in mA\n",
      "alpha = I_C/I_E \n",
      "print \"Current gain = %0.1f\" %alpha\n",
      "# Formula I_E= I_B+I_C\n",
      "I_B= I_E-I_C # in mA\n",
      "print \"The base current = %0.1f mA\" %I_B"
     ],
     "language": "python",
     "metadata": {},
     "outputs": [
      {
       "output_type": "stream",
       "stream": "stdout",
       "text": [
        "Current gain = 0.9\n",
        "The base current = 0.1 mA\n"
       ]
      }
     ],
     "prompt_number": 1
    },
    {
     "cell_type": "heading",
     "level": 2,
     "metadata": {},
     "source": [
      "Example 4.2\n",
      ": Page No 224"
     ]
    },
    {
     "cell_type": "code",
     "collapsed": false,
     "input": [
      "# Given data\n",
      "alpha= 0.97 \n",
      "I_E=1 # in mA\n",
      "# Formula alpha = I_C/I_E \n",
      "I_C= alpha*I_E # in mA\n",
      "# Formula I_E= I_B+I_C\n",
      "I_B= I_E-I_C # in mA\n",
      "print \"The base current = %0.2f mA\" %I_B"
     ],
     "language": "python",
     "metadata": {},
     "outputs": [
      {
       "output_type": "stream",
       "stream": "stdout",
       "text": [
        "The base current = 0.03 mA\n"
       ]
      }
     ],
     "prompt_number": 2
    },
    {
     "cell_type": "heading",
     "level": 2,
     "metadata": {},
     "source": [
      "Example 4.3\n",
      ": Page No 226"
     ]
    },
    {
     "cell_type": "code",
     "collapsed": false,
     "input": [
      "# Given data\n",
      "# Part (i)\n",
      "a= 0.90 \n",
      "B=a/(1-a) \n",
      "print \"At alpha= 0.90, the value of Bita = %0.f\" %B\n",
      "# Part (ii)\n",
      "a= 0.99 \n",
      "B=a/(1-a) \n",
      "print \"At alpha= 0.99, the value of Bita = %0.f\" %B"
     ],
     "language": "python",
     "metadata": {},
     "outputs": [
      {
       "output_type": "stream",
       "stream": "stdout",
       "text": [
        "At alpha= 0.90, the value of Bita = 9\n",
        "At alpha= 0.99, the value of Bita = 99\n"
       ]
      }
     ],
     "prompt_number": 3
    },
    {
     "cell_type": "heading",
     "level": 2,
     "metadata": {},
     "source": [
      "Example 4.4\n",
      ": Page No 226"
     ]
    },
    {
     "cell_type": "code",
     "collapsed": false,
     "input": [
      "# Given data\n",
      "bita= 50 \n",
      "I_E= 10 # in mA\n",
      "I_B= 200*10**-3 # in mA\n",
      "alfa= bita/(1+bita)\n",
      "print \"The value of alfa = %0.2f\" %alfa\n",
      "I_C= alfa*I_E # in mA\n",
      "print \"The value of I_C = %0.1f mA using the value of alpha\" %I_C\n",
      "I_C= bita*I_B # in mA\n",
      "print \"The value of I_C = %0.f mA using the value of bita\" %I_C"
     ],
     "language": "python",
     "metadata": {},
     "outputs": [
      {
       "output_type": "stream",
       "stream": "stdout",
       "text": [
        "The value of alfa = 0.98\n",
        "The value of I_C = 9.8 mA using the value of alpha\n",
        "The value of I_C = 10 mA using the value of bita\n"
       ]
      }
     ],
     "prompt_number": 4
    },
    {
     "cell_type": "heading",
     "level": 2,
     "metadata": {},
     "source": [
      "Example 4.5\n",
      ": Page No 233"
     ]
    },
    {
     "cell_type": "code",
     "collapsed": false,
     "input": [
      "# Given data\n",
      "V_BB= 10 # in V\n",
      "V_CC= 10 # in V\n",
      "V_BE= 0.7 # in V\n",
      "R_B= 1 # in M\u03a9\n",
      "R_B= R_B*10**6 # in \u03a9\n",
      "R_C= 2 # in k\u03a9\n",
      "R_C= R_C*10**3 # in \u03a9\n",
      "bita= 300 \n",
      "I_B= (V_BB-V_BE)/R_B # in A\n",
      "I_C= bita*I_B # in A\n",
      "V_CE= V_CC-I_C*R_C # in V\n",
      "P_D= V_CE*I_C # in W\n",
      "print \"The value of I_B = %0.1f \u00b5A\" %(I_B*10**6)\n",
      "print \"The value of I_C = %0.2f mA\" %(I_C*10**3)\n",
      "print \"The value of V_CE = %0.2f volts\" %V_CE\n",
      "print \"The value of P_D = %0.1f mW\" %(P_D*10**3)"
     ],
     "language": "python",
     "metadata": {},
     "outputs": [
      {
       "output_type": "stream",
       "stream": "stdout",
       "text": [
        "The value of I_B = 9.3 \u00b5A\n",
        "The value of I_C = 2.79 mA\n",
        "The value of V_CE = 4.42 volts\n",
        "The value of P_D = 12.3 mW\n"
       ]
      }
     ],
     "prompt_number": 6
    },
    {
     "cell_type": "heading",
     "level": 2,
     "metadata": {},
     "source": [
      "Example 4.6\n",
      ": Page No 241"
     ]
    },
    {
     "cell_type": "code",
     "collapsed": false,
     "input": [
      "# Given data\n",
      "bita= 100 \n",
      "V_BE= 0 # in V\n",
      "V_BB= 15 # in V\n",
      "R_B= 470 # in k\u03a9\n",
      "R_B= R_B*10**3 # in \u03a9\n",
      "V_CC= 15 # in V\n",
      "R_C= 3.6 # in k\u03a9\n",
      "R_C= R_C*10**3 # in \u03a9\n",
      "I_B= (V_BB-V_BE)/R_B # in A\n",
      "I_C= bita*I_B # in A\n",
      "V_CE= V_CC-I_C*R_C # in V\n",
      "I_E= I_C+I_B # in A\n",
      "print \"The base current = %0.1f \u00b5A\" %(I_B*10**6)\n",
      "print \"The collector current = %0.2f mA\" %(I_C*10**3)\n",
      "print \"The value of V_CE = %0.2f volts\" %V_CE\n",
      "print \"The emitter current = %0.2f mA\" %(I_E*10**3)"
     ],
     "language": "python",
     "metadata": {},
     "outputs": [
      {
       "output_type": "stream",
       "stream": "stdout",
       "text": [
        "The base current = 31.9 \u00b5A\n",
        "The collector current = 3.19 mA\n",
        "The value of V_CE = 3.51 volts\n",
        "The emitter current = 3.22 mA\n"
       ]
      }
     ],
     "prompt_number": 8
    },
    {
     "cell_type": "heading",
     "level": 2,
     "metadata": {},
     "source": [
      "Example 4.7\n",
      ": Page No 242 "
     ]
    },
    {
     "cell_type": "code",
     "collapsed": false,
     "input": [
      "# Given data\n",
      "bita= 100 \n",
      "V_BE= 0.7 # in V\n",
      "V_BB= 15 # in V\n",
      "R_B= 470 # in k\u03a9\n",
      "R_B= R_B*10**3 # in \u03a9\n",
      "V_CC= 15 # in V\n",
      "R_C= 3.6 # in k\u03a9\n",
      "R_C= R_C*10**3 # in \u03a9\n",
      "I_B= (V_BB-V_BE)/R_B # in A\n",
      "I_C= bita*I_B # in A\n",
      "V_CE= V_CC-I_C*R_C # in V\n",
      "print \"The base current = %0.1f \u00b5A\" %(I_B*10**6)\n",
      "print \"The collector current = %0.2f mA\" %(I_C*10**3)\n",
      "print \"The value of V_CE = %0.2f volts\" %V_CE"
     ],
     "language": "python",
     "metadata": {},
     "outputs": [
      {
       "output_type": "stream",
       "stream": "stdout",
       "text": [
        "The base current = 30.4 \u00b5A\n",
        "The collector current = 3.04 mA\n",
        "The value of V_CE = 4.05 volts\n"
       ]
      }
     ],
     "prompt_number": 10
    },
    {
     "cell_type": "heading",
     "level": 2,
     "metadata": {},
     "source": [
      "Example 4.8\n",
      ": Page No 255"
     ]
    },
    {
     "cell_type": "code",
     "collapsed": false,
     "input": [
      "%matplotlib inline\n",
      "import matplotlib.pyplot as plt\n",
      "import numpy as np\n",
      "# Given data\n",
      "V_CC= 15 # in V\n",
      "V_BE= 0.7 # in V\n",
      "R_C= 1 # in k\u03a9\n",
      "R_C= R_C*10**3 # in \u03a9\n",
      "R_E= 2 # in k\u03a9\n",
      "R_E= R_E*10**3 # in \u03a9\n",
      "R1= 10 # in k\u03a9\n",
      "R1= R1*10**3 # in \u03a9\n",
      "R2= 5 # in k\u03a9\n",
      "R2= R2*10**3 # in \u03a9\n",
      "V_CE= np.arange(0,V_CC,0.1)\n",
      "I_C= (V_CC-V_CE)/(R_C+R_E)*10**3 # in mA\n",
      "plt.plot(V_CE,I_C) \n",
      "plt.plot([0,8.55],[2.15,2.15], '--',)\n",
      "plt.plot([8.55,8.55],[0,2.15], '--')\n",
      "plt.xlabel('V_CE in volts')\n",
      "plt.ylabel('I_C in mA')\n",
      "plt.title('DC load line') \n",
      "V_B= V_CC*R2/(R1+R2) # in V\n",
      "I_E= (V_B-V_BE)/R_E # in A\n",
      "I_C= I_E # in A\n",
      "I_CQ= I_C # in A\n",
      "V_CE= V_CC-I_C*(R_C+R_E) # in V\n",
      "print \"Q-point is : \",round(V_CE,2),\" V\",round(I_CQ*10**3,2),\" mA\"\n",
      "print \"DC load line shown in figure\""
     ],
     "language": "python",
     "metadata": {},
     "outputs": [
      {
       "output_type": "stream",
       "stream": "stdout",
       "text": [
        "Q-point is :  8.55  V 2.15  mA\n",
        "DC load line shown in figure\n"
       ]
      },
      {
       "metadata": {},
       "output_type": "display_data",
       "png": "[encoded data removed]",
       "text": [
        "<matplotlib.figure.Figure at 0x7ff2041da990>"
       ]
      }
     ],
     "prompt_number": 1
    },
    {
     "cell_type": "heading",
     "level": 2,
     "metadata": {},
     "source": [
      "Example 4.9\n",
      ": Page No 258"
     ]
    },
    {
     "cell_type": "code",
     "collapsed": false,
     "input": [
      "# Given data\n",
      "V_BB= 1.8 # in V\n",
      "V_BE= 0.7 # in V\n",
      "R1= 10 # in k\u03a9\n",
      "R2= 2.2 # in k\u03a9\n",
      "R_E= 1 # in k\u03a9\n",
      "bita= 200 \n",
      "R= R1*R2/(R1+R2) # in k\u03a9\n",
      "R=R*10**3 # in \u03a9\n",
      "R_E= R_E*10**3 # in \u03a9\n",
      "I_E= (V_BB-V_BE)/(R_E+R/bita) # in mA\n",
      "print \"The emitter current = %0.2f mA\" %(I_E*10**3)\n",
      "print \"This is extremely close to 1.1 mA, the value we get with the simplified analysis.\""
     ],
     "language": "python",
     "metadata": {},
     "outputs": [
      {
       "output_type": "stream",
       "stream": "stdout",
       "text": [
        "The emitter current = 1.09 mA\n",
        "This is extremely close to 1.1 mA, the value we get with the simplified analysis.\n"
       ]
      }
     ],
     "prompt_number": 14
    },
    {
     "cell_type": "heading",
     "level": 2,
     "metadata": {},
     "source": [
      "Example 4.10\n",
      ": Page No 261"
     ]
    },
    {
     "cell_type": "code",
     "collapsed": false,
     "input": [
      "# Given data\n",
      "V_CC= 10 # in V\n",
      "V_BE= 0.7 # in V\n",
      "V_CE= 5 # in V\n",
      "bita= 100 \n",
      "I_C= 5 # in mA\n",
      "# Applying KVL to collector circuit, V_CC-V_CE-I_C*R_C =0\n",
      "R_C= (V_CC-V_CE)/I_C # in k\u03a9\n",
      "print \"The value of R_C = %0.f k\u03a9\" %R_C\n",
      "I_B= I_C/bita # in mA\n",
      "print \"The value of I_B = %0.f \u00b5A\" %(I_B*10**3)\n",
      "# Applying KVL to base circuit, V_CC-I_B*R_B-V_BE= 0\n",
      "R_B= (V_CC-V_BE)/I_B # in k\u03a9\n",
      "print \"The value of R_B = %0.f k\u03a9\" %R_B"
     ],
     "language": "python",
     "metadata": {},
     "outputs": [
      {
       "output_type": "stream",
       "stream": "stdout",
       "text": [
        "The value of R_C = 1 k\u03a9\n",
        "The value of I_B = 50 \u00b5A\n",
        "The value of R_B = 186 k\u03a9\n"
       ]
      }
     ],
     "prompt_number": 17
    },
    {
     "cell_type": "heading",
     "level": 2,
     "metadata": {},
     "source": [
      "Example 4.11\n",
      ": Page No 261"
     ]
    },
    {
     "cell_type": "code",
     "collapsed": false,
     "input": [
      "%matplotlib inline\n",
      "import matplotlib.pyplot as plt\n",
      "import numpy as np\n",
      "# Given data\n",
      "V_CC= 6 # in V\n",
      "V_BE= 0.7 # in V\n",
      "bita= 100 \n",
      "R_C= 2 # in k\u03a9\n",
      "R_C= R_C*10**3 # in \u03a9\n",
      "R_B= 530 # in k\u03a9\n",
      "R_B= R_B*10**3 # in \u03a9\n",
      "R1= 10 # in k\u03a9\n",
      "R1= R1*10**3 # in \u03a9\n",
      "R2= 5 # in k\u03a9\n",
      "R2= R2*10**3 # in \u03a9\n",
      "V_CE= np.arange(0,V_CC,0.1) # in V\n",
      "I_C= (V_CC-V_CE)/(R_C)*10**3 # in mA\n",
      "plt.plot(V_CE,I_C) \n",
      "plt.xlabel('V_CE in volts') \n",
      "plt.ylabel('I_C in mA')\n",
      "plt.plot([0,4],[1,1], '--',)\n",
      "plt.plot([4,4],[0,1], '--')\n",
      "plt.title('DC load line') \n",
      "I_B= (V_CC-V_BE)/R_B # in A\n",
      "I_CQ= I_B*bita # in A\n",
      "V_CE= V_CC-I_CQ*R_C # in V\n",
      "print \"Q-point is : (\",round(V_CE,),\"V\",round(I_CQ*10**3),\"mA )\"\n",
      "print \"DC load line shown in figure\""
     ],
     "language": "python",
     "metadata": {},
     "outputs": [
      {
       "output_type": "stream",
       "stream": "stdout",
       "text": [
        "Q-point is : ( 4.0 V 1.0 mA )\n",
        "DC load line shown in figure\n"
       ]
      },
      {
       "metadata": {},
       "output_type": "display_data",
       "png": "[encoded data removed]",
       "text": [
        "<matplotlib.figure.Figure at 0x7ff1eee33190>"
       ]
      }
     ],
     "prompt_number": 2
    },
    {
     "cell_type": "heading",
     "level": 2,
     "metadata": {},
     "source": [
      "Example 4.12\n",
      ": Page No 265"
     ]
    },
    {
     "cell_type": "code",
     "collapsed": false,
     "input": [
      "# Given data\n",
      "V_CC= 12 # in V\n",
      "V_BE= 0.7 # in V\n",
      "bita= 100 \n",
      "R_C= 10 # in k\u03a9\n",
      "R_C=R_C*10**3 # in \u03a9\n",
      "R_B= 100 # in \u03a9\n",
      "R_B=R_B*10**3 # in \u03a9\n",
      "I_BQ= (V_CC-V_BE)/((1+bita)*R_C+R_B) # in A\n",
      "I_CQ= bita*I_BQ # in A\n",
      "V_CEQ= V_CC-(I_CQ+I_BQ)*R_C # in volts\n",
      "print \"Q-Point value for the circuit =\",round(V_CEQ,3),\"V and\",round(I_CQ*10**3,3),\"mA\"\n",
      "# For dc load line when \n",
      "I_C=0 \n",
      "V_CE= V_CC-(I_C+I_BQ)*R_C # in V\n",
      "print \"At I_C=0, the value of V_CE = %0.2f volts\" %V_CE\n",
      "# When\n",
      "V_CE= 0 \n",
      "I_C= (V_CC-I_BQ*R_C)/R_C # in A\n",
      "print \"At V_CE=0, the value of I_C = %0.1f mA\" %(I_C*10**3)"
     ],
     "language": "python",
     "metadata": {},
     "outputs": [
      {
       "output_type": "stream",
       "stream": "stdout",
       "text": [
        "Q-Point value for the circuit = 1.718 V and 1.018 mA\n",
        "At I_C=0, the value of V_CE = 11.90 volts\n",
        "At V_CE=0, the value of I_C = 1.2 mA\n"
       ]
      }
     ],
     "prompt_number": 23
    },
    {
     "cell_type": "heading",
     "level": 2,
     "metadata": {},
     "source": [
      "Example 4.13\n",
      ": Page No 266"
     ]
    },
    {
     "cell_type": "code",
     "collapsed": false,
     "input": [
      "# Given data\n",
      "V_BE= 0.7 # in V\n",
      "V_CC= 15 # in V\n",
      "V_CE= 5 # in V\n",
      "I_C= 5 # in mA\n",
      "I_C=I_C*10**-3 # in A\n",
      "bita= 100 \n",
      "I_B= I_C/bita # in A\n",
      "# Applying KVL to collector circuit, V_CC= (I_C+I_B)*R_C+V_CE\n",
      "R_C= (V_CC-V_CE)/(I_C+I_B) # in \u03a9\n",
      "# Applying KVL to base circuit, V_CC= (I_C+I_B)*R_C+I_B*R_B+V_BE\n",
      "R_B= (V_CC-V_BE-R_C*(I_C+I_B))/I_B # in \u03a9\n",
      "print \"The value of R_C = %0.2f k\u03a9\" %(R_C*10**-3)\n",
      "print \"The value of R_B = %0.f k\u03a9\" %(R_B*10**-3)"
     ],
     "language": "python",
     "metadata": {},
     "outputs": [
      {
       "output_type": "stream",
       "stream": "stdout",
       "text": [
        "The value of R_C = 1.98 k\u03a9\n",
        "The value of R_B = 86 k\u03a9\n"
       ]
      }
     ],
     "prompt_number": 25
    },
    {
     "cell_type": "heading",
     "level": 2,
     "metadata": {},
     "source": [
      "Example 4.14\n",
      ": Page No 267"
     ]
    },
    {
     "cell_type": "code",
     "collapsed": false,
     "input": [
      "# Given data\n",
      "I_B= 20*10**-6 # in A\n",
      "V_CE= 7.3 # in V\n",
      "V_BE= 0.6 # in V\n",
      "V_E= 2.1 # in V\n",
      "R_E= 0.68*10**3 # in \u03a9\n",
      "R_C= 2.7*10**3 # in \u03a9\n",
      "I_E= V_E/R_E # in A\n",
      "I_C= I_E # in A (approx)\n",
      "bita= round(I_C/I_B) \n",
      "V_CC= V_CE+I_C*R_C+I_E*R_E # in V\n",
      "# From V_CC= I_B*R_B+V_BE+V_E\n",
      "R_B= (V_CC-(V_BE+V_E))/I_B # in \u03a9\n",
      "print \"The value of bita = %0.f\" %bita\n",
      "print \"The value of V_CC = %0.1f volts\" %V_CC\n",
      "print \"The value of R_B = %0.f k\u03a9\" %(R_B*10**-3)\n",
      "\n",
      "# Note: In  the book, there is an error to calculate the value of R_B, hence the value of R_B in the book is wrong."
     ],
     "language": "python",
     "metadata": {},
     "outputs": [
      {
       "output_type": "stream",
       "stream": "stdout",
       "text": [
        "The value of bita = 154\n",
        "The value of V_CC = 17.7 volts\n",
        "The value of R_B = 752 k\u03a9\n"
       ]
      }
     ],
     "prompt_number": 27
    },
    {
     "cell_type": "heading",
     "level": 2,
     "metadata": {},
     "source": [
      "Example 4.15\n",
      ": Page No 268"
     ]
    },
    {
     "cell_type": "code",
     "collapsed": false,
     "input": [
      "# Given data\n",
      "V_CC = 18 # in V\n",
      "bita = 90 \n",
      "R_C = 2.2 * 10**3 # in ohm\n",
      "R_E = 1.8*10**3 # in ohm\n",
      "R_B = 510*10**3 # in ohm\n",
      "I_B = V_CC/( (bita*(R_C+R_E))+R_B ) # in A\n",
      "I_C = bita*I_B # in A\n",
      "print \"The value of I_C = %0.1f mA\" %(I_C*10**3)\n",
      "V_CE = I_B*R_B # in V\n",
      "print \"The value of V_CE = %0.1f V\" %V_CE"
     ],
     "language": "python",
     "metadata": {},
     "outputs": [
      {
       "output_type": "stream",
       "stream": "stdout",
       "text": [
        "The value of I_C = 1.9 mA\n",
        "The value of V_CE = 10.6 V\n"
       ]
      }
     ],
     "prompt_number": 29
    },
    {
     "cell_type": "heading",
     "level": 2,
     "metadata": {},
     "source": [
      "Example 4.16\n",
      ": Page No 269"
     ]
    },
    {
     "cell_type": "code",
     "collapsed": false,
     "input": [
      "# Given data\n",
      "bita = 50 \n",
      "V_CC = 12 # in V\n",
      "V_BE = 0.7 # in V\n",
      "R_B = 240 # in kohm\n",
      "R_B = R_B*10**3 # in ohm\n",
      "I_C = 2.35 * 10**-3 # in A\n",
      "R_C = 2.2 # in kohm\n",
      "R_C = R_C * 10**3 # in ohm\n",
      "I_BQ = (V_CC - V_BE)/R_B # in A\n",
      "print \"The value of I_BQ = %0.2f \u00b5A\" %(I_BQ*10**6)\n",
      "I_CQ = bita*I_BQ # in A\n",
      "print \"The value of I_CQ = %0.2f mA\" %(I_CQ*10**3)\n",
      "V_CEQ = V_CC - (I_C*R_C) # in V\n",
      "print \"The value of V_CEQ = %0.2f V\" %V_CEQ\n",
      "V_B = V_BE # in V\n",
      "print \"The value of V_B = %0.1f V\" %V_B\n",
      "V_BC = V_B -V_CEQ # in V\n",
      "print \"The voltage = %0.2f V\" %V_BC\n",
      "\n",
      "# Note: In the book, there is a calculation error to evaluating the value of V_CEQ. So the answer in the book is wrong"
     ],
     "language": "python",
     "metadata": {},
     "outputs": [
      {
       "output_type": "stream",
       "stream": "stdout",
       "text": [
        "The value of I_BQ = 47.08 \u00b5A\n",
        "The value of I_CQ = 2.35 mA\n",
        "The value of V_CEQ = 6.83 V\n",
        "The value of V_B = 0.7 V\n",
        "The voltage = -6.13 V\n"
       ]
      }
     ],
     "prompt_number": 31
    },
    {
     "cell_type": "heading",
     "level": 2,
     "metadata": {},
     "source": [
      "Example 4.17\n",
      ": Page No 269"
     ]
    },
    {
     "cell_type": "code",
     "collapsed": false,
     "input": [
      "# Given data\n",
      "V_CC = 18 # in V\n",
      "V_BE = 0.7 # in V\n",
      "R_C = 3.3 # in kohm\n",
      "R_C = R_C * 10**3 # in ohm\n",
      "R_B = 210 # in kohm\n",
      "R_B  = R_B * 10**3 # in ohm\n",
      "bita = 75 \n",
      "R_C = 3.3 # in kohm\n",
      "R_C = R_C * 10**3 # in ohm\n",
      "R_E = 510 # in ohm\n",
      "I_B = (V_CC-V_BE)/( R_C+R_B+bita*(R_C+R_E) ) # A\n",
      "print \"The value of I_B = %0.f \u00b5A\" %round(I_B*10**6)\n",
      "I_C = bita*I_B # in A\n",
      "print \"The value of I_C = %0.1f mA\" %(I_C*10**3)\n",
      "V_C = V_CC - (I_C*R_C) # in V\n",
      "print \"The voltage = %0.2f V\" %V_C"
     ],
     "language": "python",
     "metadata": {},
     "outputs": [
      {
       "output_type": "stream",
       "stream": "stdout",
       "text": [
        "The value of I_B = 35 \u00b5A\n",
        "The value of I_C = 2.6 mA\n",
        "The voltage = 9.42 V\n"
       ]
      }
     ],
     "prompt_number": 33
    },
    {
     "cell_type": "heading",
     "level": 2,
     "metadata": {},
     "source": [
      "Example 4.18\n",
      ": Page No 271"
     ]
    },
    {
     "cell_type": "code",
     "collapsed": false,
     "input": [
      "# Given data\n",
      "V_BE = 0.7 # in V\n",
      "I_B = 40 * 10**-6 # in A\n",
      "V_CC = 20 # in V (From the load line)\n",
      "print \"The voltage = %0.f V\" %V_CC\n",
      "I_C = 8 # in mA\n",
      "R_C = V_CC/I_C # in kohm\n",
      "print \"The resistance = %0.1f kohm\" %R_C\n",
      "R_B = (V_CC - V_BE)/I_B # in ohm\n",
      "print \"The resistance = %0.1f kohm\" %(R_B*10**-3)"
     ],
     "language": "python",
     "metadata": {},
     "outputs": [
      {
       "output_type": "stream",
       "stream": "stdout",
       "text": [
        "The voltage = 20 V\n",
        "The resistance = 2.5 kohm\n",
        "The resistance = 482.5 kohm\n"
       ]
      }
     ],
     "prompt_number": 35
    },
    {
     "cell_type": "heading",
     "level": 2,
     "metadata": {},
     "source": [
      "Example 4.19\n",
      ": Page No 271"
     ]
    },
    {
     "cell_type": "code",
     "collapsed": false,
     "input": [
      "# Given data\n",
      "R1 = 47 # in kohm\n",
      "R1=  R1*10**3 # in ohm\n",
      "R2 = 10 # in kohm\n",
      "R2= R2*10**3 # in ohm\n",
      "R_E = 1.1 # in kohm\n",
      "R_E = R_E * 10**3 # in ohm\n",
      "R_C = 2.4 # in kohm\n",
      "R_C = R_C * 10**3 # in ohm\n",
      "V_CC = -18 # in V\n",
      "V_B = (R2*V_CC)/(R1+R2) # in V\n",
      "V_BE = -0.7 # in V\n",
      "V_E = V_B - V_BE # in V\n",
      "I_E = abs(V_E)/R_E # in A\n",
      "V_CE = V_CC + (I_E)*(R_C+R_E) # in V\n",
      "print \"The value of V_B = %0.2f volts\" %V_B\n",
      "print \"The value of I_E = %0.2f mA\" %(I_E*10**3)\n",
      "print \"The value of V_CE = %0.2f V\" %V_CE"
     ],
     "language": "python",
     "metadata": {},
     "outputs": [
      {
       "output_type": "stream",
       "stream": "stdout",
       "text": [
        "The value of V_B = -3.16 volts\n",
        "The value of I_E = 2.23 mA\n",
        "The value of V_CE = -10.18 V\n"
       ]
      }
     ],
     "prompt_number": 37
    },
    {
     "cell_type": "heading",
     "level": 2,
     "metadata": {},
     "source": [
      "Example 4.20\n",
      ": Page No 273"
     ]
    },
    {
     "cell_type": "code",
     "collapsed": false,
     "input": [
      "# Given data\n",
      "V_BE = 0.8 # in V\n",
      "V_CE = 0.2 # in V\n",
      "V1 = 5 # in V\n",
      "R_B = 50 # in kohm\n",
      "R_B= R_B*10**3 # in ohm\n",
      "R_C = 3 # in K ohm\n",
      "R_C = R_C * 10**3 # in ohm\n",
      "bita = 100 \n",
      "R_E = 2 # in kohm\n",
      "R_E= R_E*10**3 # in ohm\n",
      "I_B = (V1-V_BE)/(R_B+(1+bita)*R_E) # in A\n",
      "print \"The value of I_B = %0.2f \u00b5A\" %(I_B*10**6)\n",
      "V_CC = 10 # in V\n",
      "I_Csat = (V_CC - V_CE - (I_B*R_E))/(R_C+R_E) #in A\n",
      "print \"The value of I_C(sat) = %0.3f mA\" %(I_Csat*10**3)\n",
      "I_Bmin = I_Csat /bita # in A\n",
      "print \"The minimum value of I_B = %0.3f \u00b5A\" %(I_Bmin*10**6)\n",
      "\n",
      "# Note: There is calculation error to evaluate the value of I_Csat in the book, so the answer in the book is wrong"
     ],
     "language": "python",
     "metadata": {},
     "outputs": [
      {
       "output_type": "stream",
       "stream": "stdout",
       "text": [
        "The value of I_B = 16.67 \u00b5A\n",
        "The value of I_C(sat) = 1.953 mA\n",
        "The minimum value of I_B = 19.533 \u00b5A\n"
       ]
      }
     ],
     "prompt_number": 40
    },
    {
     "cell_type": "heading",
     "level": 2,
     "metadata": {},
     "source": [
      "Example 4.21\n",
      ": Page No 274"
     ]
    },
    {
     "cell_type": "code",
     "collapsed": false,
     "input": [
      "# Given data\n",
      "R1 = 5 # in kohm\n",
      "R1= R1*10**3 # in ohm\n",
      "R2 = 5 # in kohm\n",
      "R2= R2*10**3 # in ohm\n",
      "R_B = R1*R2/(R1+R2) # in ohm\n",
      "R_E = 1 # in kohm\n",
      "R_E = R_E * 10**3 # in ohm\n",
      "V_EE = 3 # in V\n",
      "V_Th = (R2*V_EE)/(R1+R2) # in V\n",
      "V_BE = 0.7 # in V\n",
      "bita = 44 \n",
      "I_B = (V_EE - V_BE - V_Th)/( ((1+bita)*R_E)+R_B) # in A\n",
      "I_BQ = I_B # in A\n",
      "print \"The value of I_BQ = %0.2f \u00b5A\" %(I_BQ*10**6)\n",
      "I_C = bita*I_BQ # in A\n",
      "print \"The value of I_C = %0.2f mA\" %(I_C*10**3)\n",
      "I_E = (1+bita)*I_B # in A\n",
      "print \"The value of I_E = %0.3f mA\" %(I_E*10**3)\n",
      "V_EC = (I_E*R_E)-V_EE # in V\n",
      "print \"The value of V_EC = %0.3f V\" %V_EC\n",
      "print \"Q-point = (\",round(V_EC,3),\"V\",round(I_C*10**3,2),\"mA )\""
     ],
     "language": "python",
     "metadata": {},
     "outputs": [
      {
       "output_type": "stream",
       "stream": "stdout",
       "text": [
        "The value of I_BQ = 16.84 \u00b5A\n",
        "The value of I_C = 0.74 mA\n",
        "The value of I_E = 0.758 mA\n",
        "The value of V_EC = -2.242 V\n",
        "Q-point = ( -2.242 V 0.74 mA )\n"
       ]
      }
     ],
     "prompt_number": 45
    },
    {
     "cell_type": "heading",
     "level": 2,
     "metadata": {},
     "source": [
      "Example 4.22\n",
      ": Page No 275"
     ]
    },
    {
     "cell_type": "code",
     "collapsed": false,
     "input": [
      "# Given data\n",
      "V_BE = 0.7 # in V\n",
      "V_BB = 5 # in V\n",
      "R_B = 100 # in kohm\n",
      "R_B = R_B * 10**3 # in ohm\n",
      "R_E = 2 # in kohm\n",
      "R_E = R_E * 10**3 # in ohm\n",
      "bita = 100 \n",
      "I_B = (V_BB-V_BE)/( R_B+((1+bita)*R_E) ) # in A\n",
      "print \"The value of I_B = %0.3f mA\" %(I_B*10**3)\n",
      "V_B = V_BB-(I_B*10**-3*R_B) # in V\n",
      "I_C = bita*I_B # in A\n",
      "print \"The value of I_C = %0.1f mA\" %(I_C*10**3)\n",
      "V_CC = 10 # in V\n",
      "V_C = V_CC-(I_C*R_E) # in V\n",
      "print \"The voltage = %0.1f V\" %V_C\n",
      "print \"Transistor is in active region is valid\""
     ],
     "language": "python",
     "metadata": {},
     "outputs": [
      {
       "output_type": "stream",
       "stream": "stdout",
       "text": [
        "The value of I_B = 0.014 mA\n",
        "The value of I_C = 1.4 mA\n",
        "The voltage = 7.2 V\n",
        "Transistor is in active region is valid\n"
       ]
      }
     ],
     "prompt_number": 49
    },
    {
     "cell_type": "heading",
     "level": 2,
     "metadata": {},
     "source": [
      "Example 4.23\n",
      ": Page No 276 "
     ]
    },
    {
     "cell_type": "code",
     "collapsed": false,
     "input": [
      "# Given data\n",
      "V_CC = 20 # in V\n",
      "V_BE = 0.7 # in V\n",
      "R_B = 430 # in kohm\n",
      "R_B = 430 * 10**3 # in ohm\n",
      "bita = 50 \n",
      "R_E = 1 # in kohm\n",
      "R_E = R_E * 10**3 # in ohm\n",
      "R_C = 2 # in kohm\n",
      "R_C = R_C * 10**3 # in ohm\n",
      "I_B = (V_CC - V_BE)/(R_B +(1+bita)*R_E) # in A\n",
      "print \"The base current = %0.1f \u00b5A\" %(I_B*10**6)\n",
      "I_C = bita*I_B # in A\n",
      "print \"The collector current = %0.2f mA\" %(I_C*10**3)\n",
      "V_CE = V_CC - I_C*(R_C+R_E) # in V\n",
      "print \"The value of V_CE = %0.2f V\" %V_CE\n",
      "V_C = V_CC - (I_C*R_C) # in V\n",
      "print \"The value of V_C = %0.2f V\" %V_C\n",
      "V_E = V_C - V_CE # in V\n",
      "print \"The value of V_E = %0.2f V\" %V_E\n",
      "V_B = V_BE+V_E # in V\n",
      "print \"The value of V_B = %0.2f V\" %V_B\n",
      "V_BC = V_B-V_C # in V\n",
      "print \"The value of V_BC = %0.2f V\" %V_BC"
     ],
     "language": "python",
     "metadata": {},
     "outputs": [
      {
       "output_type": "stream",
       "stream": "stdout",
       "text": [
        "The base current = 40.1 \u00b5A\n",
        "The collector current = 2.01 mA\n",
        "The value of V_CE = 13.98 V\n",
        "The value of V_C = 15.99 V\n",
        "The value of V_E = 2.01 V\n",
        "The value of V_B = 2.71 V\n",
        "The value of V_BC = -13.28 V\n"
       ]
      }
     ],
     "prompt_number": 51
    },
    {
     "cell_type": "heading",
     "level": 2,
     "metadata": {},
     "source": [
      "Example 4.24\n",
      ": Page No 277"
     ]
    },
    {
     "cell_type": "code",
     "collapsed": false,
     "input": [
      "# Given data\n",
      "V_CC = 20 # in V\n",
      "V_BE = 0.7 # in V\n",
      "R_B = 680 # in kohm\n",
      "R_B = R_B * 10**3 # in ohm\n",
      "R_C = 4.7 # in kohm\n",
      "R_C = R_C * 10**3 # in ohm\n",
      "bita = 120 \n",
      "I_B = (V_CC - V_BE)/(R_B+bita*R_C) # in A\n",
      "I_CQ = bita*I_B # in A\n",
      "print \"The value of I_CQ = %0.2f mA\" %(I_CQ*10**3)\n",
      "V_CEQ = V_CC - (I_CQ*R_C) # in V\n",
      "print \"The value of V_CEQ = %0.2f V\" %V_CEQ\n",
      "V_B = V_BE # in V\n",
      "V_C = 11.26 # in V\n",
      "V_E = 0 # in V\n",
      "print \"The value of V_E = %0.f V\" %V_E\n",
      "V_BC = V_B - V_C # in V\n",
      "print \"The value of V_BC = %0.2f V\" %V_BC"
     ],
     "language": "python",
     "metadata": {},
     "outputs": [
      {
       "output_type": "stream",
       "stream": "stdout",
       "text": [
        "The value of I_CQ = 1.86 mA\n",
        "The value of V_CEQ = 11.25 V\n",
        "The value of V_E = 0 V\n",
        "The value of V_BC = -10.56 V\n"
       ]
      }
     ],
     "prompt_number": 52
    },
    {
     "cell_type": "heading",
     "level": 2,
     "metadata": {},
     "source": [
      "Example 4.25\n",
      ": Page No 278"
     ]
    },
    {
     "cell_type": "code",
     "collapsed": false,
     "input": [
      "# Given data\n",
      "V_CC = 16 # in V\n",
      "V_BE = 0.7 # in V\n",
      "R_B = 470 # in kohm\n",
      "R_B= R_B*10**3 # in ohm\n",
      "bita = 120 \n",
      "R_C = 3.6 # in kohm\n",
      "R_C= R_C*10**3 # in ohm\n",
      "R_E = 0.51 # in kohm\n",
      "R_E= R_E*10**3 # in ohm\n",
      "I_B = (V_CC - V_BE)/(R_B+bita*(R_C+R_E)) # in A\n",
      "print \"The base current = %0.2f \u00b5A\" %(I_B*10**6)\n",
      "I_C  = bita*I_B # in A\n",
      "print \"The collector current = %0.2f mA\" %(I_C*10**3)\n",
      "V_C = V_CC - I_C*R_C # in V\n",
      "print \"The collector voltage = %0.2f V\" %V_C"
     ],
     "language": "python",
     "metadata": {},
     "outputs": [
      {
       "output_type": "stream",
       "stream": "stdout",
       "text": [
        "The base current = 15.88 \u00b5A\n",
        "The collector current = 1.91 mA\n",
        "The collector voltage = 9.14 V\n"
       ]
      }
     ],
     "prompt_number": 53
    },
    {
     "cell_type": "heading",
     "level": 2,
     "metadata": {},
     "source": [
      "Example 4.26\n",
      ": Page No 279"
     ]
    },
    {
     "cell_type": "code",
     "collapsed": false,
     "input": [
      "# Given data\n",
      "V_CC = 10 # in V\n",
      "V_BE = 0.7 # in V\n",
      "R_B = 250 # in kohm\n",
      "R_B= R_B*10**3 # in ohm\n",
      "bita = 90 \n",
      "R_C = 4.7 # in kohm\n",
      "R_C= R_C*10**3 # in ohm\n",
      "R_E = 1.2 # in kohm\n",
      "R_E= R_E*10**3 # in ohm\n",
      "I_BQ = (V_CC - V_BE)/(R_B + bita*(R_C+R_E)) # in A\n",
      "print \"The base current at Q-point = %0.2f \u00b5A\" %(I_BQ*10**6)\n",
      "I_CQ = bita*I_BQ # in A\n",
      "print \"The collector current at Q-point = %0.2f mA\" %(I_CQ*10**3)\n",
      "V_CEQ = V_CC - (I_CQ*(R_C+R_E)) # in V\n",
      "print \"Collector emitter voltage at Q point = %0.3f V\" %V_CEQ"
     ],
     "language": "python",
     "metadata": {},
     "outputs": [
      {
       "output_type": "stream",
       "stream": "stdout",
       "text": [
        "The base current at Q-point = 11.91 \u00b5A\n",
        "The collector current at Q-point = 1.07 mA\n",
        "Collector emitter voltage at Q point = 3.677 V\n"
       ]
      }
     ],
     "prompt_number": 55
    },
    {
     "cell_type": "heading",
     "level": 2,
     "metadata": {},
     "source": [
      "Example 4.27\n",
      ": Page No 281"
     ]
    },
    {
     "cell_type": "code",
     "collapsed": false,
     "input": [
      "# Given data\n",
      "V_CC = 12 # in V\n",
      "V_BE = 0.7 # in V\n",
      "R_B = 150 # in kohm\n",
      "R_B= R_B*10**3 # in ohm\n",
      "bita = 180 \n",
      "R_C = 4.7 # in kohm\n",
      "R_C= R_C*10**3 # in ohm\n",
      "R_E = 3.3 # in kohm\n",
      "R_E= R_E*10**3 # in ohm\n",
      "I_B = (V_CC-V_BE)/(R_B + bita*(R_C+R_E)) # in A\n",
      "print \"The base current = %0.2f \u00b5A\" %(I_B*10**6)"
     ],
     "language": "python",
     "metadata": {},
     "outputs": [
      {
       "output_type": "stream",
       "stream": "stdout",
       "text": [
        "The base current = 7.11 \u00b5A\n"
       ]
      }
     ],
     "prompt_number": 58
    },
    {
     "cell_type": "heading",
     "level": 2,
     "metadata": {},
     "source": [
      "Example 4.28\n",
      ": Page No 282"
     ]
    },
    {
     "cell_type": "code",
     "collapsed": false,
     "input": [
      "# Given data\n",
      "V_B = 4 # in V\n",
      "V_BE = 0.7 # in V\n",
      "R_E = 1.2 # in kohm\n",
      "R_E= R_E*10**3 # in ohm\n",
      "V_E = V_B-V_BE # in V\n",
      "R_C = 2.2 # in kohm\n",
      "R_C= R_C*10**3 # in ohm\n",
      "R_B= 330 # in kohm\n",
      "R_B= R_B*10**3 # in ohm\n",
      "bita = 180 \n",
      "I_B = 7.11 * 10**-6 # in A\n",
      "V_CC = 18 # in V\n",
      "print \"Part (a)\"\n",
      "print \"The value of V_E = %0.1f V\" %V_E\n",
      "I_C = V_E/R_E # in A\n",
      "print \"Part (b)\"\n",
      "print \"The value of I_C = %0.2f mA\" %(I_C*10**3)\n",
      "V_C =V_CC - (I_C*R_C) # in V\n",
      "print \"Part (c)\"\n",
      "print \"The value of V_C = %0.2f V\" %V_C\n",
      "V_CE = V_C-V_E # in V\n",
      "print \"Part (d)\"\n",
      "print \"The value of V_CE = %0.2f V\" %V_CE\n",
      "I_B = (V_CC - (I_C*R_C) - V_BE - V_E)/R_B # in A\n",
      "print \"Part (e)\"\n",
      "print \"Base current = %0.2f \u00b5A\" %(I_B*10**6)\n",
      "bita = I_C/I_B \n",
      "print \"Part (f)\"\n",
      "print \"Current gain = %0.f\" %bita"
     ],
     "language": "python",
     "metadata": {},
     "outputs": [
      {
       "output_type": "stream",
       "stream": "stdout",
       "text": [
        "Part (a)\n",
        "The value of V_E = 3.3 V\n",
        "Part (b)\n",
        "The value of I_C = 2.75 mA\n",
        "Part (c)\n",
        "The value of V_C = 11.95 V\n",
        "Part (d)\n",
        "The value of V_CE = 8.65 V\n",
        "Part (e)\n",
        "Base current = 24.09 \u00b5A\n",
        "Part (f)\n",
        "Current gain = 114\n"
       ]
      }
     ],
     "prompt_number": 62
    },
    {
     "cell_type": "heading",
     "level": 2,
     "metadata": {},
     "source": [
      "Example 4.29\n",
      ": Page No 284"
     ]
    },
    {
     "cell_type": "code",
     "collapsed": false,
     "input": [
      "# Given data\n",
      "I_E = 10 # in mA\n",
      "I_C = 9.95 # in mA\n",
      "I_B = I_E-I_C # in mA\n",
      "print \"The base current = %0.2f mA\" %I_B"
     ],
     "language": "python",
     "metadata": {},
     "outputs": [
      {
       "output_type": "stream",
       "stream": "stdout",
       "text": [
        "The base current = 0.05 mA\n"
       ]
      }
     ],
     "prompt_number": 63
    },
    {
     "cell_type": "heading",
     "level": 2,
     "metadata": {},
     "source": [
      "Example 4.30\n",
      ": Page No 284"
     ]
    },
    {
     "cell_type": "code",
     "collapsed": false,
     "input": [
      "# Given data\n",
      "I_C = 10 # in mA\n",
      "I_B = 0.1 # in mA\n",
      "bita = I_C/I_B \n",
      "print \"The current gain = %0.f\" %bita"
     ],
     "language": "python",
     "metadata": {},
     "outputs": [
      {
       "output_type": "stream",
       "stream": "stdout",
       "text": [
        "The current gain = 100\n"
       ]
      }
     ],
     "prompt_number": 64
    },
    {
     "cell_type": "heading",
     "level": 2,
     "metadata": {},
     "source": [
      "Example 4.31\n",
      ": Page No 284"
     ]
    },
    {
     "cell_type": "code",
     "collapsed": false,
     "input": [
      "# Given data\n",
      "V_BE = 0.7 # in V\n",
      "V_BB = 10 # in V\n",
      "R_B = 470 # in kohm\n",
      "R_B = R_B * 10**3 # in ohm\n",
      "I_B = (V_BB-V_BE)/R_B # in A\n",
      "print \"The base current = %0.2f \u00b5A\" %(I_B*10**6)"
     ],
     "language": "python",
     "metadata": {},
     "outputs": [
      {
       "output_type": "stream",
       "stream": "stdout",
       "text": [
        "The base current = 19.79 \u00b5A\n"
       ]
      }
     ],
     "prompt_number": 66
    },
    {
     "cell_type": "heading",
     "level": 2,
     "metadata": {},
     "source": [
      "Example 4.32\n",
      ": Page No 285"
     ]
    },
    {
     "cell_type": "code",
     "collapsed": false,
     "input": [
      "# Given data\n",
      "V_BB = 10 # in V\n",
      "V_BE = 0 # in V\n",
      "R_B = 470 # in kohm\n",
      "R_B = R_B * 10**3 # in ohm \n",
      "I_B = (V_BB - V_BE)/R_B # in A\n",
      "bita = 200 \n",
      "I_C = bita*I_B # in A\n",
      "V_CC = 10 # in V\n",
      "R_C = 820 # in ohm\n",
      "V_CE = V_CC  - (I_C*R_C) # in V\n",
      "print \"Part (a) : For ideal approximation\"\n",
      "print \"The collector emitter voltage = %0.2f V\" %V_CE\n",
      "P_D = V_CE * I_C # in W\n",
      "print \"Power dissipation = %0.2f mW\" %(P_D*10**3)\n",
      "print \"Part (b) : For second approximation\"\n",
      "V_BE = 0.7 # in V\n",
      "I_B = (V_BB-V_BE)/R_B # in A\n",
      "I_C = bita*I_B # in A\n",
      "V_CE = V_CC - (I_C*R_C) # in V\n",
      "print \"The collector emitter voltage = %0.2f V\" %V_CE\n",
      "P_D = V_CE * I_C # in W\n",
      "print \"Power dissipation = %0.2f mW\" %(P_D*10**3)"
     ],
     "language": "python",
     "metadata": {},
     "outputs": [
      {
       "output_type": "stream",
       "stream": "stdout",
       "text": [
        "Part (a) : For ideal approximation\n",
        "The collector emitter voltage = 6.51 V\n",
        "Power dissipation = 27.70 mW\n",
        "Part (b) : For second approximation\n",
        "The collector emitter voltage = 6.75 V\n",
        "Power dissipation = 26.73 mW\n"
       ]
      }
     ],
     "prompt_number": 69
    },
    {
     "cell_type": "heading",
     "level": 2,
     "metadata": {},
     "source": [
      "Example 4.33\n",
      ": Page No 286"
     ]
    },
    {
     "cell_type": "code",
     "collapsed": false,
     "input": [
      "# Given data\n",
      "V_BE = 0 # in V\n",
      "V_BB = 12 # in V\n",
      "R_B = 680 # in kohm\n",
      "R_B = R_B * 10**3 # in ohm\n",
      "I_B = (V_BB-V_BE)/R_B # in A\n",
      "beta_dc = 175 \n",
      "I_C = beta_dc*I_B # in A\n",
      "V_CC = 12 # in V\n",
      "R_C = 1.5 # in kohm\n",
      "R_C = R_C * 10**3 # in ohm\n",
      "V_CE = V_CC - (I_C*R_C) # in V\n",
      "print \"Part (a) For ideal approximation\"\n",
      "print \"The collector emitter voltage = %0.2f V\" %V_CE\n",
      "P_D = V_CE * I_C # in mW\n",
      "print \"Transistor power = %0.2f mW\" %(P_D*10**3)\n",
      "print \"Part (b) For second approximation\"\n",
      "V_BE1 = 0.7 # in V\n",
      "I_B = (V_BB-V_BE1)/R_B # in A\n",
      "I_C = beta_dc * I_B # in A\n",
      "V_CE = V_CC - (I_C*R_C) # in V\n",
      "print \"Collector emitter voltage = %0.2f V\" %V_CE\n",
      "P_D = V_CE * I_C # in W\n",
      "print \"Power dissipation = %0.2f mW\" %(P_D*10**3)"
     ],
     "language": "python",
     "metadata": {},
     "outputs": [
      {
       "output_type": "stream",
       "stream": "stdout",
       "text": [
        "Part (a) For ideal approximation\n",
        "The collector emitter voltage = 7.37 V\n",
        "Transistor power = 22.75 mW\n",
        "Part (b) For second approximation\n",
        "Collector emitter voltage = 7.64 V\n",
        "Power dissipation = 22.21 mW\n"
       ]
      }
     ],
     "prompt_number": 71
    },
    {
     "cell_type": "heading",
     "level": 2,
     "metadata": {},
     "source": [
      "Example 4.34\n",
      ": Page No 288"
     ]
    },
    {
     "cell_type": "code",
     "collapsed": false,
     "input": [
      "%matplotlib inline\n",
      "import matplotlib.pyplot as plt\n",
      "import numpy as np\n",
      "# Given data\n",
      "V_CC = 20 # in V\n",
      "R_C = 3.3 # in kohm\n",
      "R_C = R_C * 10**3 # in ohm\n",
      "I_C = V_CC/R_C # in A\n",
      "print \"Collector current = %0.2f mA\" %(I_C*10**3)\n",
      "V_CE = V_CC # in V\n",
      "print \"Collector emitter voltage = %0.f V\" %V_CE\n",
      "V_CE=np.arange(0,20,0.1)  # in V\n",
      "I_C= (V_CC-V_CE)/(R_C*10**-3) # in mA\n",
      "plt.plot(V_CE,I_C) \n",
      "plt.xlabel('V_CE in volts')\n",
      "plt.ylabel('I_C in mA')\n",
      "plt.title('DC load line')\n",
      "print \"DC load line shown in figure\""
     ],
     "language": "python",
     "metadata": {},
     "outputs": [
      {
       "output_type": "stream",
       "stream": "stdout",
       "text": [
        "Collector current = 6.06 mA\n",
        "Collector emitter voltage = 20 V\n",
        "DC load line shown in figure"
       ]
      },
      {
       "output_type": "stream",
       "stream": "stdout",
       "text": [
        "\n"
       ]
      },
      {
       "metadata": {},
       "output_type": "display_data",
       "png": "[encoded data removed]",
       "text": [
        "<matplotlib.figure.Figure at 0x7ff2041850d0>"
       ]
      }
     ],
     "prompt_number": 3
    },
    {
     "cell_type": "heading",
     "level": 2,
     "metadata": {},
     "source": [
      "Example 4.35\n",
      ": Page No 289"
     ]
    },
    {
     "cell_type": "code",
     "collapsed": false,
     "input": [
      "# Given data\n",
      "V_BB = 10 # in V\n",
      "V_BE = 0.7 # in V\n",
      "R_B = 1 # in kohm\n",
      "R_B = 1 * 10**6 # in ohm\n",
      "I_B = (V_BB-V_BE)/R_B # in A\n",
      "print \"The base current = %0.1f \u00b5A\" %(I_B*10**6)\n",
      "beta_dc = 200 \n",
      "I_C = beta_dc * I_B # in A\n",
      "print \"The collector current = %0.2f mA\" %(I_C*10**3)\n",
      "V_CC = 20 # in V\n",
      "R_C = 3.3 # in kohm\n",
      "R_C = R_C * 10**3 # in ohm\n",
      "V_CE = V_CC - I_C*R_C # in V\n",
      "print \"The collector voltage = %0.3f V\" %V_CE"
     ],
     "language": "python",
     "metadata": {},
     "outputs": [
      {
       "output_type": "stream",
       "stream": "stdout",
       "text": [
        "The base current = 9.3 \u00b5A\n",
        "The collector current = 1.86 mA\n",
        "The collector voltage = 13.862 V\n"
       ]
      }
     ],
     "prompt_number": 73
    },
    {
     "cell_type": "heading",
     "level": 2,
     "metadata": {},
     "source": [
      "Example 4.36\n",
      ": Page No 290"
     ]
    },
    {
     "cell_type": "code",
     "collapsed": false,
     "input": [
      "# Given data\n",
      "V_BB = 5 # in V\n",
      "V_BE = 0.7 # in V\n",
      "R_B = 680 # in kohm\n",
      "R_B = 680*10**3 # in ohm\n",
      "I_B = (V_BB-V_BE)/R_B # in A\n",
      "print \"The base current = %0.2f \u00b5A\" %(I_B*10**6)\n",
      "beta_dc= 150 \n",
      "I_C = beta_dc * I_B # in A\n",
      "print \"The collector current = %0.2f mA\" %(I_C*10**3)\n",
      "V_CC = 5 # in V\n",
      "R_C = 470 # in ohm\n",
      "V_CE = V_CC-(I_C*R_C) # in V\n",
      "print \"Voltage between collector and ground = %0.2f V\" %V_CE"
     ],
     "language": "python",
     "metadata": {},
     "outputs": [
      {
       "output_type": "stream",
       "stream": "stdout",
       "text": [
        "The base current = 6.32 \u00b5A\n",
        "The collector current = 0.95 mA\n",
        "Voltage between collector and ground = 4.55 V\n"
       ]
      }
     ],
     "prompt_number": 75
    },
    {
     "cell_type": "heading",
     "level": 2,
     "metadata": {},
     "source": [
      "Example 4.37\n",
      ": Page No 291"
     ]
    },
    {
     "cell_type": "code",
     "collapsed": false,
     "input": [
      "# Given data\n",
      "V_BB = 2.5 # in V\n",
      "V_BE = 0.7 # in V\n",
      "V_E = V_BB-V_BE # in V\n",
      "print \"The emitter voltage = %0.1f V\" %V_E\n",
      "R_E = 1.8 # in kohm\n",
      "R_E = R_E * 10**3 # in ohm\n",
      "I_E = V_E/R_E # in A\n",
      "I_C= I_E # in A\n",
      "V_CC = 20 # in V\n",
      "R_C = 10 # in kohm\n",
      "R_C = R_C * 10**3 # in ohm\n",
      "V_C = V_CC-(I_C*R_C) # in V\n",
      "print \"The collector voltage = %0.f V\" %V_C"
     ],
     "language": "python",
     "metadata": {},
     "outputs": [
      {
       "output_type": "stream",
       "stream": "stdout",
       "text": [
        "The emitter voltage = 1.8 V\n",
        "The collector voltage = 10 V\n"
       ]
      }
     ],
     "prompt_number": 77
    },
    {
     "cell_type": "heading",
     "level": 2,
     "metadata": {},
     "source": [
      "Example 4.38\n",
      ": Page No 292"
     ]
    },
    {
     "cell_type": "code",
     "collapsed": false,
     "input": [
      "# Given data\n",
      "V_CC = 25 # in V\n",
      "R2 = 2.2 # in kohm\n",
      "R1 = 10 # in kohm\n",
      "V_BB = (V_CC * R2)/(R1+R2) # in V\n",
      "V_BE = 0.7 # in V\n",
      "V_E = V_BB - V_BE # in V\n",
      "print \"The emitter voltage = %0.1f V\" %V_E\n",
      "R_E = 1 # in kohm\n",
      "R_E = R_E * 10**3 # in ohm\n",
      "I_E = V_E/R_E # in A\n",
      "I_C= I_E # in A\n",
      "V_CC = 25 # in V\n",
      "R_C = 3.6 # in kohm\n",
      "R_C = R_C * 10**3 # in ohm\n",
      "V_C = V_CC - (I_C*R_C) # in V\n",
      "print \"Collector voltage = %0.2f V\" %V_C"
     ],
     "language": "python",
     "metadata": {},
     "outputs": [
      {
       "output_type": "stream",
       "stream": "stdout",
       "text": [
        "The emitter voltage = 3.8 V\n",
        "Collector voltage = 11.29 V\n"
       ]
      }
     ],
     "prompt_number": 78
    },
    {
     "cell_type": "heading",
     "level": 2,
     "metadata": {},
     "source": [
      "Example 4.39\n",
      ": Page No 293 "
     ]
    },
    {
     "cell_type": "code",
     "collapsed": false,
     "input": [
      "# Given data\n",
      "V_BB = 4.50 # in V\n",
      "V_E = 3.8 # in V\n",
      "V_C = 11.32 # in V\n",
      "I_C = 3.8 # in mA\n",
      "I_C=I_C*10**-3 # in A\n",
      "V_BE = 0.7 # in V\n",
      "R1 = 10 # in kohm\n",
      "R2 = 2.2 # in kohm\n",
      "R_B = (R1*R2)/(R1+R2) # in kohm\n",
      "R_B = R_B * 10**3 # in ohm\n",
      "I_B = (V_BB-V_BE)/R_B # in A\n",
      "print \"The base current = %0.2f mA\" %(I_B*10**3)\n",
      "V_CE = V_C-V_E # in V\n",
      "print \"Collector emitter voltage = %0.2f V\" %V_CE\n",
      "print \"Thus the Q-point is :\",round(V_CE,2),\"V\",round(I_B*10**3,2),\"mA\"\n",
      "\n",
      "# Note: There is calculation error to evaluate the value of I_B. So the answer in the book is wrong."
     ],
     "language": "python",
     "metadata": {},
     "outputs": [
      {
       "output_type": "stream",
       "stream": "stdout",
       "text": [
        "The base current = 2.11 mA\n",
        "Collector emitter voltage = 7.52 V\n",
        "Thus the Q-point is : 7.52 V 2.11 mA\n"
       ]
      }
     ],
     "prompt_number": 80
    }
   ],
   "metadata": {}
  }
 ]
}