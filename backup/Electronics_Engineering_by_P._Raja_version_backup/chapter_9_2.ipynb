{
 "metadata": {
  "name": ""
 },
 "nbformat": 3,
 "nbformat_minor": 0,
 "worksheets": [
  {
   "cells": [
    {
     "cell_type": "heading",
     "level": 1,
     "metadata": {},
     "source": [
      "Chapter - 9 : Electronic Instrumentation And Measurements"
     ]
    },
    {
     "cell_type": "heading",
     "level": 2,
     "metadata": {},
     "source": [
      "Example 9.1\n",
      ": Page No 512 "
     ]
    },
    {
     "cell_type": "code",
     "collapsed": false,
     "input": [
      "from __future__ import division\n",
      "# Given data\n",
      "scale= 5 # in mV/cm\n",
      "gh= 5.2 #amplitude of the graph in cm\n",
      "PtoPamplitude= gh*scale # in mV\n",
      "print \"Peak-to-peak amplitude = %0.f mV\" %PtoPamplitude"
     ],
     "language": "python",
     "metadata": {},
     "outputs": [
      {
       "output_type": "stream",
       "stream": "stdout",
       "text": [
        "Peak-to-peak amplitude = 26 mV\n"
       ]
      }
     ],
     "prompt_number": 1
    },
    {
     "cell_type": "heading",
     "level": 2,
     "metadata": {},
     "source": [
      "Example 9.2\n",
      ": Page No 512"
     ]
    },
    {
     "cell_type": "code",
     "collapsed": false,
     "input": [
      "# Given data\n",
      "scale= 100 # in mV/cm\n",
      "gh= 5.2 #amplitude of the graph in cm\n",
      "PtoPamplitude= gh*scale # in mV\n",
      "print \"Peak-to-peak amplitude = %0.2f V\" %(PtoPamplitude*10**-3)"
     ],
     "language": "python",
     "metadata": {},
     "outputs": [
      {
       "output_type": "stream",
       "stream": "stdout",
       "text": [
        "Peak-to-peak amplitude = 0.52 V\n"
       ]
      }
     ],
     "prompt_number": 3
    },
    {
     "cell_type": "heading",
     "level": 2,
     "metadata": {},
     "source": [
      "Example 9.3\n",
      ": Page No 513"
     ]
    },
    {
     "cell_type": "code",
     "collapsed": false,
     "input": [
      "# Given data\n",
      "scale= 20 # in \u00b5S/cm\n",
      "gh= 3.2 #amplitude of the graph in cm\n",
      "T= gh*scale # in mV\n",
      "print \"The period of the waveform = %0.f \u00b5S\" %T"
     ],
     "language": "python",
     "metadata": {},
     "outputs": [
      {
       "output_type": "stream",
       "stream": "stdout",
       "text": [
        "The period of the waveform = 64 \u00b5S\n"
       ]
      }
     ],
     "prompt_number": 4
    },
    {
     "cell_type": "heading",
     "level": 2,
     "metadata": {},
     "source": [
      "Example 9.4\n",
      ": Page No 513"
     ]
    },
    {
     "cell_type": "code",
     "collapsed": false,
     "input": [
      "# Given data\n",
      "scale= 50 # in \u00b5S/cm\n",
      "gh= 2 #amplitude of the graph in cm\n",
      "T_PD= gh*scale # in mV\n",
      "print \"The pulse delay for the waveform = %0.f \u00b5s\" %T_PD"
     ],
     "language": "python",
     "metadata": {},
     "outputs": [
      {
       "output_type": "stream",
       "stream": "stdout",
       "text": [
        "The pulse delay for the waveform = 100 \u00b5s\n"
       ]
      }
     ],
     "prompt_number": 5
    },
    {
     "cell_type": "heading",
     "level": 2,
     "metadata": {},
     "source": [
      "Example 9.5\n",
      ": Page No 514"
     ]
    },
    {
     "cell_type": "code",
     "collapsed": false,
     "input": [
      "# Given data\n",
      "scale= 2 # in \u00b5S/cm\n",
      "gh= 4.6 #amplitude of the graph in cm\n",
      "T_PQ= gh*scale # in mV\n",
      "print \"The pulse width of the waveform = %0.1f \u00b5s\" %T_PQ"
     ],
     "language": "python",
     "metadata": {},
     "outputs": [
      {
       "output_type": "stream",
       "stream": "stdout",
       "text": [
        "The pulse width of the waveform = 9.2 \u00b5s\n"
       ]
      }
     ],
     "prompt_number": 6
    }
   ],
   "metadata": {}
  }
 ]
}