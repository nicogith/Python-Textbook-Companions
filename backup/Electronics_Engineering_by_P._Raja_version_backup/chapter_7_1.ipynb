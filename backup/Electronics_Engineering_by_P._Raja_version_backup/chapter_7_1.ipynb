{
 "metadata": {
  "name": ""
 },
 "nbformat": 3,
 "nbformat_minor": 0,
 "worksheets": [
  {
   "cells": [
    {
     "cell_type": "heading",
     "level": 1,
     "metadata": {},
     "source": [
      "Chapter - 7 : Metal Oxide Semiconductor Field Effect Transistors (MOSFET)"
     ]
    },
    {
     "cell_type": "heading",
     "level": 2,
     "metadata": {},
     "source": [
      "Example 7.1\n",
      ": Page No 403"
     ]
    },
    {
     "cell_type": "code",
     "collapsed": false,
     "input": [
      "from __future__ import division\n",
      "# Given data\n",
      "V_GS = 0 # in V\n",
      "I_D = 4 # in mA\n",
      "R = 2 # in kohm\n",
      "V_DD = 15 # in V\n",
      "V_DS = V_DD - (I_D*R) # in V\n",
      "g_m = 2000 # in \u00b5S\n",
      "g_m= g_m*10**-6 # in S\n",
      "g_mo = g_m # in S\n",
      "R_D = 2 # in kohm\n",
      "R_D = R_D * 10**3 # in ohm\n",
      "R_L = 10 # in  kohm\n",
      "R_L = R_L * 10**3 # in ohm\n",
      "r_d = (R_D*R_L)/(R_D+R_L) # in ohm\n",
      "A_v = g_m*r_d \n",
      "V_in = 20 # in mV\n",
      "V_out = A_v * V_in # in mV\n",
      "print \"The output voltage = %0.1f mV\" %V_out"
     ],
     "language": "python",
     "metadata": {},
     "outputs": [
      {
       "output_type": "stream",
       "stream": "stdout",
       "text": [
        "The output voltage = 66.7 mV\n"
       ]
      }
     ],
     "prompt_number": 1
    },
    {
     "cell_type": "heading",
     "level": 2,
     "metadata": {},
     "source": [
      "Example 7.2\n",
      ": Page No 411"
     ]
    },
    {
     "cell_type": "code",
     "collapsed": false,
     "input": [
      "# Given data\n",
      "V1 = 20 # in V\n",
      "V2 = 2 # in V\n",
      "V = V1-V2 # in V\n",
      "R = 1 # in  kohm\n",
      "R = R * 10**3 # in ohm\n",
      "I_D = V/R # in A\n",
      "I_D = I_D * 10**3 # in mA\n",
      "print \"The drain current = %0.f mA\" %I_D"
     ],
     "language": "python",
     "metadata": {},
     "outputs": [
      {
       "output_type": "stream",
       "stream": "stdout",
       "text": [
        "The drain current = 18 mA\n"
       ]
      }
     ],
     "prompt_number": 2
    },
    {
     "cell_type": "heading",
     "level": 2,
     "metadata": {},
     "source": [
      "Example 7.3\n",
      ": Page No 414"
     ]
    },
    {
     "cell_type": "code",
     "collapsed": false,
     "input": [
      "\n",
      "\n",
      "%matplotlib inline\n",
      "import matplotlib.pyplot as plt\n",
      "import numpy as np\n",
      "# Given data\n",
      "I_DSS = 10 # in mA\n",
      "V_GS = 0 # in V\n",
      "I_D = 0 # in mA\n",
      "V_P = -4 # in V\n",
      "V_GS= np.arange(0,V_P,-0.1) # in V\n",
      "I_D = I_DSS*(1-(V_GS/V_P))**2 # mA\n",
      "plt.plot(V_GS,I_D) \n",
      "plt.xlabel(\"V_gs in volts\") \n",
      "plt.ylabel(\"I_D in mA\") \n",
      "plt.title(\"Transfer characteristics for an n-channel depletion type MOSFET\")\n",
      "print \"Transfer characteristics for an n-channel depletion type MOSFET Shown in figure\"\n"
     ],
     "language": "python",
     "metadata": {},
     "outputs": [
      {
       "output_type": "stream",
       "stream": "stdout",
       "text": [
        "Transfer characteristics for an n-channel depletion type MOSFET Shown in figure\n"
       ]
      },
      {
       "metadata": {},
       "output_type": "display_data",
       "png": "[encoded data removed]",
       "text": [
        "<matplotlib.figure.Figure at 0x7f9785cf0a50>"
       ]
      }
     ],
     "prompt_number": 33
    },
    {
     "cell_type": "heading",
     "level": 2,
     "metadata": {},
     "source": [
      "Example 7.4\n",
      ": Page No 414"
     ]
    },
    {
     "cell_type": "code",
     "collapsed": false,
     "input": [
      "# Given data\n",
      "V_GS = 0 # in V\n",
      "I_DSS = 10 # in mA\n",
      "I_D = I_DSS # in mA\n",
      "R_D = 1.5 # in kohm\n",
      "V_DD = 20 # in V\n",
      "V_DS = V_DD - (I_D*R_D) # in V\n",
      "print \"The value of V_DS = %0.f V\" %V_DS"
     ],
     "language": "python",
     "metadata": {},
     "outputs": [
      {
       "output_type": "stream",
       "stream": "stdout",
       "text": [
        "The value of V_DS = 5 V\n"
       ]
      }
     ],
     "prompt_number": 20
    },
    {
     "cell_type": "heading",
     "level": 2,
     "metadata": {},
     "source": [
      "Example 7.5\n",
      ": Page No 415"
     ]
    },
    {
     "cell_type": "code",
     "collapsed": false,
     "input": [
      "# Given data\n",
      "I_D = 5 # in mA\n",
      "V_GS1 = 8 # in V\n",
      "V_GS2 = 4 # in V\n",
      "V_GS = 6 # in V\n",
      "K = I_D/(V_GS1-V_GS2)**2 # in mA/V**2\n",
      "I_D = K*(V_GS-V_GS2)**2 # in mA\n",
      "print \"The drain current = %0.2f mA\" %I_D"
     ],
     "language": "python",
     "metadata": {},
     "outputs": [
      {
       "output_type": "stream",
       "stream": "stdout",
       "text": [
        "The drain current = 1.25 mA\n"
       ]
      }
     ],
     "prompt_number": 21
    },
    {
     "cell_type": "heading",
     "level": 2,
     "metadata": {},
     "source": [
      "Example 7.6\n",
      ": Page No 415"
     ]
    },
    {
     "cell_type": "code",
     "collapsed": false,
     "input": [
      "# Given data\n",
      "V_T = 1 # in V\n",
      "I_D = 4 # in mA\n",
      "V_GS = 5 # in V\n",
      "V_GSth = 1 # in V\n",
      "K = I_D/(V_GS-V_GSth)**2 # in mA/V**2\n",
      "print \"The value of K = %0.2f mA/V**2\" %K"
     ],
     "language": "python",
     "metadata": {},
     "outputs": [
      {
       "output_type": "stream",
       "stream": "stdout",
       "text": [
        "The value of K = 0.25 mA/V**2\n"
       ]
      }
     ],
     "prompt_number": 22
    },
    {
     "cell_type": "heading",
     "level": 2,
     "metadata": {},
     "source": [
      "Example 7.7\n",
      ": Page No 415"
     ]
    },
    {
     "cell_type": "code",
     "collapsed": false,
     "input": [
      "# Given data\n",
      "V_GS = 3 # in V\n",
      "V_GSth=2 # inV\n",
      "# Part (a)\n",
      "print \"Part (a) : For V_DS= 0.5 V\"\n",
      "V_DS= 0.5 # in V\n",
      "if V_DS<(V_GS-V_GSth) :\n",
      "    print \"Transistor is in ohmic region\"\n",
      "else :\n",
      "    print \"Transistor is in saturation region\"\n",
      "\n",
      "# Part (b)\n",
      "print \"Part (b) : For V_DS= 1 V\"\n",
      "V_DS= 1 # in V\n",
      "if V_DS<(V_GS-V_GSth) :\n",
      "    print \"Transistor is in ohmic region\"\n",
      "else :\n",
      "    print \"Transistor is in saturation region\"\n",
      "\n",
      "# Part (c)\n",
      "print \"Part (c) : For V_DS= 5 V\"\n",
      "V_DS= 5 # in V\n",
      "if V_DS<(V_GS-V_GSth) :\n",
      "    print \"Transistor is in ohmic region\"\n",
      "else :\n",
      "    print \"Transistor is in saturation region\"\n"
     ],
     "language": "python",
     "metadata": {},
     "outputs": [
      {
       "output_type": "stream",
       "stream": "stdout",
       "text": [
        "Part (a) : For V_DS= 0.5 V\n",
        "Transistor is in ohmic region\n",
        "Part (b) : For V_DS= 1 V\n",
        "Transistor is in saturation region\n",
        "Part (c) : For V_DS= 5 V\n",
        "Transistor is in saturation region\n"
       ]
      }
     ],
     "prompt_number": 27
    },
    {
     "cell_type": "heading",
     "level": 2,
     "metadata": {},
     "source": [
      "Example 7.8\n",
      ": Page No 416"
     ]
    },
    {
     "cell_type": "code",
     "collapsed": false,
     "input": [
      "# Given data\n",
      "I_DSS = 4 # in mA\n",
      "V_GSoff = -2 # in V\n",
      "V_GS = -0.5 # in V\n",
      "I_D = I_DSS*(1-(V_GS/V_GSoff))**2 # in mA\n",
      "print \"At V_GS=-0.5 V, the drain current = %0.2f mA\" %I_D\n",
      "V_GS = -1 #in V\n",
      "I_D = I_DSS*(1-(V_GS/V_GSoff))**2 # in mA\n",
      "print \"At V_GS=-1.0 V, the drain current = %0.f mA\" %I_D\n",
      "V_GS = -1.5 # in V\n",
      "I_D = I_DSS*(1-(V_GS/V_GSoff))**2 # in mA\n",
      "print \"At V_GS=-1.5 V, the drain current = %0.2f mA\" %I_D"
     ],
     "language": "python",
     "metadata": {},
     "outputs": [
      {
       "output_type": "stream",
       "stream": "stdout",
       "text": [
        "At V_GS=-0.5 V, the drain current = 2.25 mA\n",
        "At V_GS=-1.0 V, the drain current = 1 mA\n",
        "At V_GS=-1.5 V, the drain current = 0.25 mA\n"
       ]
      }
     ],
     "prompt_number": 28
    },
    {
     "cell_type": "heading",
     "level": 2,
     "metadata": {},
     "source": [
      "Example 7.9\n",
      ": Page No 416"
     ]
    },
    {
     "cell_type": "code",
     "collapsed": false,
     "input": [
      "# Given data\n",
      "I_DSS = 12 # in mA\n",
      "I_DSS= I_DSS*10**-3 # in A\n",
      "I_D = I_DSS # in A\n",
      "V_DD = 12 # in V\n",
      "R_D = 470 # in ohm\n",
      "V_DS = V_DD - (I_D*R_D) # in V\n",
      "print \"The circuit drain current = %0.f mA\" %(I_D*10**3)\n",
      "print \"The drain source voltage = %0.2f V\" %V_DS"
     ],
     "language": "python",
     "metadata": {},
     "outputs": [
      {
       "output_type": "stream",
       "stream": "stdout",
       "text": [
        "The circuit drain current = 12 mA\n",
        "The drain source voltage = 6.36 V\n"
       ]
      }
     ],
     "prompt_number": 29
    },
    {
     "cell_type": "heading",
     "level": 2,
     "metadata": {},
     "source": [
      "Example 7.10\n",
      ": Page No 417"
     ]
    },
    {
     "cell_type": "code",
     "collapsed": false,
     "input": [
      "# Given data\n",
      "I_D = 12 # in mA\n",
      "I_D= I_D*10**-3 # in A\n",
      "I_DSS = I_D # in A\n",
      "V_DS = 6.36 # in V\n",
      "g_mo = 4000 # in \u00b5S\n",
      "g_mo=g_mo*10**-6 # in S\n",
      "g_m = g_mo # in S\n",
      "R_D = 470 # in ohm\n",
      "R_L = 2 # in kohm\n",
      "R_L = R_L * 10**3 # in ohm\n",
      "r_d = (R_D*R_L)/(R_D+R_L) # in ohm\n",
      "print \"The value of r_d = %0.2f \u03a9\" %r_d\n",
      "A_v = g_m*r_d \n",
      "print \"The value of A_v = %0.2f\" %A_v\n",
      "V_in = 100 # in mV\n",
      "V_in = V_in *10**-3 # in V\n",
      "V_out = A_v*V_in # in V\n",
      "print \"The value of Vout = %0.2f V\" %V_out"
     ],
     "language": "python",
     "metadata": {},
     "outputs": [
      {
       "output_type": "stream",
       "stream": "stdout",
       "text": [
        "The value of r_d = 380.57 \u03a9\n",
        "The value of A_v = 1.52\n",
        "The value of Vout = 0.15 V\n"
       ]
      }
     ],
     "prompt_number": 30
    },
    {
     "cell_type": "heading",
     "level": 2,
     "metadata": {},
     "source": [
      "Example 7.11\n",
      ": Page No 417 "
     ]
    },
    {
     "cell_type": "code",
     "collapsed": false,
     "input": [
      "# Given data\n",
      "V_DS = 0.1 # in V\n",
      "I_D = 10 # in mA\n",
      "I_D= I_D*10**-3 # in A\n",
      "R_DS = V_DS/I_D # in ohm\n",
      "print \"Part (a) The value of R_DS(on) = %0.f ohm\" %R_DS\n",
      "V_DS = 0.75 # in V\n",
      "I_D = 100 # in mA\n",
      "I_D= I_D*10**-3 # in A\n",
      "R_DS = V_DS/I_D # in ohm \n",
      "print \"Part (b) The value of R_DS(on) = %0.1f ohm\" %R_DS"
     ],
     "language": "python",
     "metadata": {},
     "outputs": [
      {
       "output_type": "stream",
       "stream": "stdout",
       "text": [
        "Part (a) The value of R_DS(on) = 10 ohm\n",
        "Part (b) The value of R_DS(on) = 7.5 ohm\n"
       ]
      }
     ],
     "prompt_number": 31
    },
    {
     "cell_type": "heading",
     "level": 2,
     "metadata": {},
     "source": [
      "Example 7.12\n",
      ": Page No 418 "
     ]
    },
    {
     "cell_type": "code",
     "collapsed": false,
     "input": [
      "# Given data\n",
      "I_D = 500 # in mA\n",
      "V_GS = 3 # in V\n",
      "R_DS = 2 # in ohm\n",
      "V_DD = 20 # in V\n",
      "R1 = 1 # in kohm\n",
      "R1 = R1 * 10**3 # in ohm\n",
      "V_out = (R_DS/(R1+R_DS))*V_DD # in V\n",
      "print \"The output voltage = %0.2f V\" %V_out"
     ],
     "language": "python",
     "metadata": {},
     "outputs": [
      {
       "output_type": "stream",
       "stream": "stdout",
       "text": [
        "The output voltage = 0.04 V\n"
       ]
      }
     ],
     "prompt_number": 32
    }
   ],
   "metadata": {}
  }
 ]
}