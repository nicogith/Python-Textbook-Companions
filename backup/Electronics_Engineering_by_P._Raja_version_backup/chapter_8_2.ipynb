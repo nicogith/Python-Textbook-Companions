{
 "metadata": {
  "name": ""
 },
 "nbformat": 3,
 "nbformat_minor": 0,
 "worksheets": [
  {
   "cells": [
    {
     "cell_type": "heading",
     "level": 1,
     "metadata": {},
     "source": [
      "Chapter - 8 : Operational Amplifiers (OPAMPs)"
     ]
    },
    {
     "cell_type": "heading",
     "level": 2,
     "metadata": {},
     "source": [
      "Example 8.1\n",
      ": Page No 432 "
     ]
    },
    {
     "cell_type": "code",
     "collapsed": false,
     "input": [
      "from __future__ import division\n",
      "# Given data\n",
      "A_V = -100 \n",
      "R1 = 2.2 # in kohm\n",
      "R1 = R1*10**3 # in ohm\n",
      "R_f =-( A_V*R1) # in ohm\n",
      "R_f = R_f * 10**-3 # in kohm\n",
      "print \"The resistance value = %0.f k\u03a9\" %R_f"
     ],
     "language": "python",
     "metadata": {},
     "outputs": [
      {
       "output_type": "stream",
       "stream": "stdout",
       "text": [
        "The resistance value = 220 k\u03a9\n"
       ]
      }
     ],
     "prompt_number": 1
    },
    {
     "cell_type": "heading",
     "level": 2,
     "metadata": {},
     "source": [
      "Example 8.2\n",
      ": Page No 432"
     ]
    },
    {
     "cell_type": "code",
     "collapsed": false,
     "input": [
      "# Given data\n",
      "R_f = 200 # in kohm \n",
      "R1 = 2 # in kohm\n",
      "A_V = - (R_f/R1) \n",
      "V_in = 2.5 # in mV\n",
      "V_in= V_in*10**-3 # in V\n",
      "V_o = (A_V * V_in) # in V\n",
      "print \"The output voltage = %0.2f V\" %V_o"
     ],
     "language": "python",
     "metadata": {},
     "outputs": [
      {
       "output_type": "stream",
       "stream": "stdout",
       "text": [
        "The output voltage = -0.25 V\n"
       ]
      }
     ],
     "prompt_number": 2
    },
    {
     "cell_type": "heading",
     "level": 2,
     "metadata": {},
     "source": [
      "Example 8.3\n",
      ": Page No 461"
     ]
    },
    {
     "cell_type": "code",
     "collapsed": false,
     "input": [
      "# Given data\n",
      "V1 = 2 # in V\n",
      "R_f = 500 # in kohm\n",
      "R_f = R_f*10**3 # in ohm\n",
      "R1 = 100 # in kohm\n",
      "R1 = R1 * 10**3 # in ohm\n",
      "V_o = (1+(R_f/R1))*V1 # in V\n",
      "print \"The output voltage = %0.f V\" %V_o"
     ],
     "language": "python",
     "metadata": {},
     "outputs": [
      {
       "output_type": "stream",
       "stream": "stdout",
       "text": [
        "The output voltage = 12 V\n"
       ]
      }
     ],
     "prompt_number": 3
    },
    {
     "cell_type": "heading",
     "level": 2,
     "metadata": {},
     "source": [
      "Example 8.4\n",
      ": Page No 461"
     ]
    },
    {
     "cell_type": "code",
     "collapsed": false,
     "input": [
      "# Given data\n",
      "R_f = 1 # in Mohm\n",
      "R_f = R_f * 10**6 # in ohm\n",
      "print \"Part (a)\"\n",
      "V1 = 1 # in V\n",
      "V2 = 2 # in V\n",
      "V3 = 3 # in V\n",
      "R1 = 500 # in kohm\n",
      "R1 = R1 * 10**3 # in ohm\n",
      "R2 = 1 # in Mohm\n",
      "R2 = R2 * 10**6 # in ohm\n",
      "R3 = 1 # in Mohm\n",
      "R3 = R3 * 10**6 # in ohm\n",
      "V_o = -(R_f) * ( (V1/R1)+(V2/R2)+(V3/R3) ) # in V\n",
      "print \"The output voltage = %0.f V\" %V_o\n",
      "\n",
      "print \"Part (b)\"\n",
      "V1 = -2 # in V\n",
      "V2 = 3 # in V\n",
      "V3 = 1 # in V\n",
      "R1 = 200 # in kohm\n",
      "R1 = R1 * 10**3 # in ohm\n",
      "R2 = 500 # in kohm\n",
      "R2 = R2 * 10**3 # in ohm\n",
      "R3 = 1 # in Mohm\n",
      "R3 = R3 * 10**6 # in ohm\n",
      "V_o = -(R_f) * ( (V1/R1)+(V2/R2)+(V3/R3) ) # in V\n",
      "print \"The output voltage = %0.f V\" %V_o"
     ],
     "language": "python",
     "metadata": {},
     "outputs": [
      {
       "output_type": "stream",
       "stream": "stdout",
       "text": [
        "Part (a)\n",
        "The output voltage = -7 V\n",
        "Part (b)\n",
        "The output voltage = 3 V\n"
       ]
      }
     ],
     "prompt_number": 5
    },
    {
     "cell_type": "heading",
     "level": 2,
     "metadata": {},
     "source": [
      "Example 8.6\n",
      ": Page No 462"
     ]
    },
    {
     "cell_type": "code",
     "collapsed": false,
     "input": [
      "# Given data\n",
      "R_f = 0 # in V\n",
      "R1 = 2 # in kohm\n",
      "R1 = R1 * 10**3 # in ohm\n",
      "A_vmin = (1+(R_f/R1)) \n",
      "print \"The minimum closed loop voltage gain = %0.f\" %A_vmin\n",
      "R_f1 = 100 # in kohm\n",
      "R_f1 = R_f1 * 10**3 # in ohm\n",
      "A_vmax = (1+(R_f1/R1)) \n",
      "print \"The maximum closed loop voltage gain = %0.f\" %A_vmax"
     ],
     "language": "python",
     "metadata": {},
     "outputs": [
      {
       "output_type": "stream",
       "stream": "stdout",
       "text": [
        "The minimum closed loop voltage gain = 1\n",
        "The maximum closed loop voltage gain = 51\n"
       ]
      }
     ],
     "prompt_number": 6
    },
    {
     "cell_type": "heading",
     "level": 2,
     "metadata": {},
     "source": [
      "Example 8.7\n",
      ": Page No 463"
     ]
    },
    {
     "cell_type": "code",
     "collapsed": false,
     "input": [
      "# Given data\n",
      "V1 = 745 # in \u00b5V\n",
      "V1 = V1 * 10**-6 # in V\n",
      "V2 = 740 # in \u00b5V\n",
      "V2 = V2 * 10**-6 # in V\n",
      "Av = 5*10**5 \n",
      "CMRR = 80 # in dB\n",
      "# Formula CMRR in dB= 20*log(Av/Ac)\n",
      "Ac= Av/(10**(CMRR/20)) \n",
      "print \"The common mode gain = %0.2f\" %Ac\n",
      "V_o = Av*(V1-V2)+Ac*((V1+V2)/2) # in V\n",
      "print \"The output voltage = %0.2f V\" %V_o\n",
      "\n",
      "# Note: In the book the calculation of finding the value of common mode gain  (i.e. Ac) is wrong, \n",
      "#       so the answer in the book is wrong"
     ],
     "language": "python",
     "metadata": {},
     "outputs": [
      {
       "output_type": "stream",
       "stream": "stdout",
       "text": [
        "The common mode gain = 50.00\n",
        "The output voltage = 2.54 V\n"
       ]
      }
     ],
     "prompt_number": 7
    },
    {
     "cell_type": "heading",
     "level": 2,
     "metadata": {},
     "source": [
      "Example 8.8\n",
      ": Page No 464"
     ]
    },
    {
     "cell_type": "code",
     "collapsed": false,
     "input": [
      "# Given data\n",
      "R_f = 1 # in Mohm\n",
      "R_f = R_f * 10**6 # in ohm\n",
      "Ri= 1*10**6 # in ohm\n",
      "R1 = Ri # in ohm\n",
      "A_VF = -(R_f/R1) \n",
      "print \"The Voltage gain = %0.f\" %A_VF"
     ],
     "language": "python",
     "metadata": {},
     "outputs": [
      {
       "output_type": "stream",
       "stream": "stdout",
       "text": [
        "The Voltage gain = -1\n"
       ]
      }
     ],
     "prompt_number": 8
    },
    {
     "cell_type": "heading",
     "level": 2,
     "metadata": {},
     "source": [
      "Example 8.10\n",
      ": Page No 465"
     ]
    },
    {
     "cell_type": "code",
     "collapsed": false,
     "input": [
      "# Given data\n",
      "R_F = 3 # in kohm\n",
      "R1 = 1 # in  kohm\n",
      "V1 = 2 # in V\n",
      "V2 = 3 # in V\n",
      "V_o1 = (1+(R_F/R1))*V1 # in V\n",
      "V_o2 = (1+(R_F/R1))*V2 # in V\n",
      "V_o = V_o1+V_o2 # in V\n",
      "print \"The output voltage = %0.f V\" %V_o"
     ],
     "language": "python",
     "metadata": {},
     "outputs": [
      {
       "output_type": "stream",
       "stream": "stdout",
       "text": [
        "The output voltage = 20 V\n"
       ]
      }
     ],
     "prompt_number": 9
    },
    {
     "cell_type": "heading",
     "level": 2,
     "metadata": {},
     "source": [
      "Example 8.11\n",
      ": Page No 466"
     ]
    },
    {
     "cell_type": "code",
     "collapsed": false,
     "input": [
      "# Given data\n",
      "R_i = 10 # in k\u03a9 \n",
      "R_im = 20 # in k\u03a9\n",
      "R_f = 500 # in k\u03a9\n",
      "A_vmin = -(R_f/R_i) \n",
      "print \"Closed loop voltage gain corresponding to minimum resistance = %0.f\" %A_vmin\n",
      "A_vmax = -(R_f/R_im) \n",
      "print \"Closed loop voltage gain corresponding to maximum resistance = %0.f\" %A_vmax"
     ],
     "language": "python",
     "metadata": {},
     "outputs": [
      {
       "output_type": "stream",
       "stream": "stdout",
       "text": [
        "Closed loop voltage gain corresponding to minimum resistance = -50\n",
        "Closed loop voltage gain corresponding to maximum resistance = -25\n"
       ]
      }
     ],
     "prompt_number": 10
    },
    {
     "cell_type": "heading",
     "level": 2,
     "metadata": {},
     "source": [
      "Example 8.12\n",
      ": Page No 467"
     ]
    },
    {
     "cell_type": "code",
     "collapsed": false,
     "input": [
      "# Given data\n",
      "R_f = 200 # in  kohm\n",
      "R1 = 20 # in kohm\n",
      "A_v = -(R_f/R1) \n",
      "V_i = 0.1 # in V\n",
      "V_im = 0.5 # in V\n",
      "V_omin = -10*V_i # in V\n",
      "print \"The minimum output voltage = %0.f V\" %V_omin\n",
      "V_omax = -10*V_im # in V\n",
      "print \"The maximum output voltage = %0.f V\" %V_omax\n",
      "print \"Output voltage ranges :  from\",int(V_omin,),\"to\",int(V_omax)"
     ],
     "language": "python",
     "metadata": {},
     "outputs": [
      {
       "output_type": "stream",
       "stream": "stdout",
       "text": [
        "The minimum output voltage = -1 V\n",
        "The maximum output voltage = -5 V\n",
        "Output voltage ranges :  from -1 to -5\n"
       ]
      }
     ],
     "prompt_number": 14
    },
    {
     "cell_type": "heading",
     "level": 2,
     "metadata": {},
     "source": [
      "Example 8.13\n",
      ": Page No 467"
     ]
    },
    {
     "cell_type": "code",
     "collapsed": false,
     "input": [
      "%matplotlib inline\n",
      "import matplotlib.pyplot as plt\n",
      "import numpy as np\n",
      "# Given data\n",
      "R = 133 # in kohm\n",
      "R = R *10**3 # in ohm\n",
      "C = 0.1 # in \u00b5F\n",
      "C = 0.1 * 10**-6 # in F\n",
      "Vi= 15 # in V\n",
      "plt.subplot(2,1,1)\n",
      "plt.plot([0,10],[1.5,1.5]) \n",
      "plt.ylabel(\"Vi in volts\")\n",
      "plt.xlabel(\"t\")\n",
      "plt.title(\"Input voltage\") \n",
      "t=np.arange(0,1,0.1)\n",
      "Vo= -1/(R*C)*t \n",
      "plt.subplot(2,1,2)\n",
      "plt.plot(t,Vo)\n",
      "plt.xlabel(\"t\") \n",
      "plt.ylabel(\"Vo in volts\") \n",
      "plt.title(\"Output voltage\")\n",
      "print \"\""
     ],
     "language": "python",
     "metadata": {},
     "outputs": [
      {
       "output_type": "stream",
       "stream": "stdout",
       "text": [
        "\n"
       ]
      },
      {
       "metadata": {},
       "output_type": "display_data",
       "png": "[encoded data removed]",
       "text": [
        "<matplotlib.figure.Figure at 0x7fdbd4185210>"
       ]
      }
     ],
     "prompt_number": 1
    },
    {
     "cell_type": "heading",
     "level": 2,
     "metadata": {},
     "source": [
      "Example 8.14\n",
      ": Page No 468"
     ]
    },
    {
     "cell_type": "code",
     "collapsed": false,
     "input": [
      "# Given data\n",
      "Rf = 250 # in kohm\n",
      "Vo= '-5*Va+3*Vb' # given expression\n",
      "# But output voltage of difference amplifier is \n",
      "# Vo= -Rf/R1*Va+(R2/(R1+R2))*(1+Rf/R1)*Vb      (i)\n",
      "# By comparing (i) with given expression\n",
      "R1 = Rf/5 # in kohm\n",
      "print \"The value of R1 = %0.f k\u03a9\" %R1\n",
      "# (R2/(R1+R2))*(1+Rf/R1)= 3\n",
      "R2= 3*R1**2/(R1+Rf-3*R1) # in k\u03a9\n",
      "print \"The value of R2 = %0.f k\u03a9\" %R2\n",
      "\n",
      "# Note: There is calculation error to find the value of R2 in the book."
     ],
     "language": "python",
     "metadata": {},
     "outputs": [
      {
       "output_type": "stream",
       "stream": "stdout",
       "text": [
        "The value of R1 = 50 k\u03a9\n",
        "The value of R2 = 50 k\u03a9\n"
       ]
      }
     ],
     "prompt_number": 28
    },
    {
     "cell_type": "heading",
     "level": 2,
     "metadata": {},
     "source": [
      "Example 8.15\n",
      ": Page No 469"
     ]
    },
    {
     "cell_type": "code",
     "collapsed": false,
     "input": [
      "# Given data\n",
      "V_i1 = 150 # in \u00b5V\n",
      "V_i2 = 140 # in \u00b5V\n",
      "V_d = V_i1-V_i2 # in \u00b5V\n",
      "V_C = (1/2)*(V_i1+V_i2) # in \u00b5V\n",
      "print \"Part (i)\"\n",
      "CMRR = 100 \n",
      "A_d = 4000 \n",
      "V_o = (A_d * V_d)*(1+(1/CMRR)*(V_C/V_d)) # in \u00b5V\n",
      "V_o = V_o * 10**-3 # in mV\n",
      "print \"The output voltage = %0.1f mV\" %V_o\n",
      "print \"Part(ii)\"\n",
      "CMRR = 10**5 \n",
      "V_o = (A_d * V_d)*(1+(1/CMRR)*(V_C/V_d)) # in \u00b5V\n",
      "V_o = V_o * 10**-3 # in mV\n",
      "print \"The output voltage = %0.3f mV\" %V_o"
     ],
     "language": "python",
     "metadata": {},
     "outputs": [
      {
       "output_type": "stream",
       "stream": "stdout",
       "text": [
        "Part (i)\n",
        "The output voltage = 45.8 mV\n",
        "Part(ii)\n",
        "The output voltage = 40.006 mV\n"
       ]
      }
     ],
     "prompt_number": 33
    },
    {
     "cell_type": "heading",
     "level": 2,
     "metadata": {},
     "source": [
      "Example 8.16\n",
      ": Page No 470"
     ]
    },
    {
     "cell_type": "code",
     "collapsed": false,
     "input": [
      "# Given data\n",
      "R_f = 470 # in k\u03a9\n",
      "R1 = 4.3 # in k\u03a9\n",
      "R2 = 33 # in k\u03a9\n",
      "R3 = R2 # in k\u03a9\n",
      "A1 = (1+R_f/R1) \n",
      "A2 = -(R_f/R2) \n",
      "A3 = -(R_f/R3) \n",
      "A = A1*A2*A3 \n",
      "V_i = 80 # in \u00b5V\n",
      "V_i= 80*10**-6 # in V\n",
      "V_o = A*V_i \n",
      "print \"The output voltage = %0.2f V\" %V_o"
     ],
     "language": "python",
     "metadata": {},
     "outputs": [
      {
       "output_type": "stream",
       "stream": "stdout",
       "text": [
        "The output voltage = 1.79 V\n"
       ]
      }
     ],
     "prompt_number": 34
    },
    {
     "cell_type": "heading",
     "level": 2,
     "metadata": {},
     "source": [
      "Example 8.18\n",
      ": Page No 472"
     ]
    },
    {
     "cell_type": "code",
     "collapsed": false,
     "input": [
      "# Given data\n",
      "R4 = 300 # in k\u03a9\n",
      "R2 = 150 # in k\u03a9\n",
      "R3 = 10 # in k\u03a9\n",
      "R1 = 10 # in k\u03a9\n",
      "V1 = 1 # in V\n",
      "V2 = 2 # in V\n",
      "V_o = ( (1+(R4/R2))*((R3/(R1+R3))*V1)-((R4/R2)*V2) ) # in V\n",
      "print \"The output voltage = %0.1f V\" %V_o"
     ],
     "language": "python",
     "metadata": {},
     "outputs": [
      {
       "output_type": "stream",
       "stream": "stdout",
       "text": [
        "The output voltage = -2.5 V\n"
       ]
      }
     ],
     "prompt_number": 35
    },
    {
     "cell_type": "heading",
     "level": 2,
     "metadata": {},
     "source": [
      "Example 8.19\n",
      ": Page No 472"
     ]
    },
    {
     "cell_type": "code",
     "collapsed": false,
     "input": [
      "# Given data\n",
      "V_o = 2 # in V\n",
      "R_i = 20 # in k\u03a9\n",
      "R_f = 1 # in M\u03a9\n",
      "V_i = -((V_o*R_i)/R_f) # in mV\n",
      "print \"The input volatge = %0.f mV\" %V_i"
     ],
     "language": "python",
     "metadata": {},
     "outputs": [
      {
       "output_type": "stream",
       "stream": "stdout",
       "text": [
        "The input volatge = -40 mV\n"
       ]
      }
     ],
     "prompt_number": 36
    },
    {
     "cell_type": "heading",
     "level": 2,
     "metadata": {},
     "source": [
      "Example 8.20\n",
      ": Page No 473"
     ]
    },
    {
     "cell_type": "code",
     "collapsed": false,
     "input": [
      "# Given data\n",
      "R_f = 200 # in k\u03a9\n",
      "R_i = 30 # in k\u03a9\n",
      "V_i = 0.1 # in V\n",
      "V_im = 0.5 # in V\n",
      "Vo_min = -((R_f/R_i)*V_i) # in V\n",
      "print \"The minimum output voltage = %0.2f V\" %Vo_min\n",
      "Vo_max = -((R_f/R_i)*V_im) # in V\n",
      "print \"The minimum output voltage = %0.2f V\" %Vo_max\n",
      "print \"The output voltage range is : \",round(Vo_min,2),\"V to\",round(Vo_max,2),\"V\""
     ],
     "language": "python",
     "metadata": {},
     "outputs": [
      {
       "output_type": "stream",
       "stream": "stdout",
       "text": [
        "The minimum output voltage = -0.67 V\n",
        "The minimum output voltage = -3.33 V\n",
        "The output voltage range is :  -0.67 V to -3.33 V\n"
       ]
      }
     ],
     "prompt_number": 38
    },
    {
     "cell_type": "heading",
     "level": 2,
     "metadata": {},
     "source": [
      "Example 8.21\n",
      ": Page No 473"
     ]
    },
    {
     "cell_type": "code",
     "collapsed": false,
     "input": [
      "# Given data\n",
      "R_f = 360 # in kohm\n",
      "R_i = 12 # in kohm\n",
      "V1 = - 0.3 # in V\n",
      "V_o = (1+(R_f/R_i))*V1 # in V\n",
      "print \"The output voltage = %0.1f V\" %V_o\n",
      "V_o1 = 2.4 # in V\n",
      "V_i = V_o1/(1+(R_f/R_i)) # in V\n",
      "print \"The input voltage = %0.2f mV\" %(V_i*10**3)"
     ],
     "language": "python",
     "metadata": {},
     "outputs": [
      {
       "output_type": "stream",
       "stream": "stdout",
       "text": [
        "The output voltage = -9.3 V\n",
        "The input voltage = 77.42 mV\n"
       ]
      }
     ],
     "prompt_number": 39
    },
    {
     "cell_type": "heading",
     "level": 2,
     "metadata": {},
     "source": [
      "Example 8.22\n",
      ": Page No 474"
     ]
    },
    {
     "cell_type": "code",
     "collapsed": false,
     "input": [
      "# Given data\n",
      "R_f = -68 # in kohm\n",
      "R1 = 33 # in kohm\n",
      "R2 = 22 # in kohm\n",
      "R3 = 12 # in kohm\n",
      "V1 = 0.2 # in V\n",
      "V2 = - 0.5 # in V\n",
      "V3 = 0.8 # in V\n",
      "V_o = ((R_f/R1)*V1) + ((R_f/R2)*V2) + ((R_f/R3)*V3) # in V\n",
      "print \"The output voltage = %0.3f V\" %V_o"
     ],
     "language": "python",
     "metadata": {},
     "outputs": [
      {
       "output_type": "stream",
       "stream": "stdout",
       "text": [
        "The output voltage = -3.400 V\n"
       ]
      }
     ],
     "prompt_number": 40
    },
    {
     "cell_type": "heading",
     "level": 2,
     "metadata": {},
     "source": [
      "Example 8.23\n",
      ": Page No 475"
     ]
    },
    {
     "cell_type": "code",
     "collapsed": false,
     "input": [
      "# Given data\n",
      "R_f = 1.8 # in kohm\n",
      "R_f = R_f * 10**3 # in ohm\n",
      "R1 = 180 # in ohm\n",
      "A_v = (R_f/R1) \n",
      "print \"Closed loop gain = %0.f\" %A_v\n",
      "F = 1 # in MHz\n",
      "F = F * 10**6 # in Hz\n",
      "f2 = F/A_v # in Hz\n",
      "print \"Closed loop bandwidth = %0.f Hz\" %f2\n",
      "V_in = 25 # in mV\n",
      "V_in = V_in * 10**-3 # in V\n",
      "V_o = A_v*V_in # in V\n",
      "print \"The output voltage = %0.2f V\" %V_o"
     ],
     "language": "python",
     "metadata": {},
     "outputs": [
      {
       "output_type": "stream",
       "stream": "stdout",
       "text": [
        "Closed loop gain = 10\n",
        "Closed loop bandwidth = 100000 Hz\n",
        "The output voltage = 0.25 V\n"
       ]
      }
     ],
     "prompt_number": 41
    },
    {
     "cell_type": "heading",
     "level": 2,
     "metadata": {},
     "source": [
      "Example 8.24\n",
      ": Page No 475 "
     ]
    },
    {
     "cell_type": "code",
     "collapsed": false,
     "input": [
      "# Given data\n",
      "R_f = 3 # in K ohm\n",
      "R_f = R_f * 10**3 # in ohm\n",
      "R1 = 150 # in ohm\n",
      "A_v = (R_f/R1) + 1 \n",
      "print \"Close loop gain for inverting amplifier = %0.f\" %A_v\n",
      "f = 1 # in MHz\n",
      "f = f * 10**6 # in Hz\n",
      "f2 = f/A_v # in Hz\n",
      "f2 = f2 * 10**-3 # in KHz\n",
      "print \"The closed loop bandwidth = %0.2f KHz\" %f2"
     ],
     "language": "python",
     "metadata": {},
     "outputs": [
      {
       "output_type": "stream",
       "stream": "stdout",
       "text": [
        "Close loop gain for inverting amplifier = 21\n",
        "The closed loop bandwidth = 47.62 KHz\n"
       ]
      }
     ],
     "prompt_number": 42
    }
   ],
   "metadata": {}
  }
 ]
}