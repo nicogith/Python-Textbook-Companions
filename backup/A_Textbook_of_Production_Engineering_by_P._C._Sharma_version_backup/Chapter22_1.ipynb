{
 "cells": [
  {
   "cell_type": "markdown",
   "metadata": {},
   "source": [
    "# Chapter 22 : Kinematics of Machine Tools"
   ]
  },
  {
   "cell_type": "markdown",
   "metadata": {},
   "source": [
    "## Exa 22.2 : page 778"
   ]
  },
  {
   "cell_type": "code",
   "execution_count": 1,
   "metadata": {
    "collapsed": false
   },
   "outputs": [
    {
     "name": "stdout",
     "output_type": "stream",
     "text": [
      "Spindle Speeds are :\n",
      "159\t227\t325\t466\t667\t954\t"
     ]
    },
    {
     "data": {
      "image/png": "[encoded data removed]",
      "text/plain": [
       "<matplotlib.figure.Figure at 0x7f69f0f20e90>"
      ]
     },
     "metadata": {},
     "output_type": "display_data"
    },
    {
     "name": "stdout",
     "output_type": "stream",
     "text": [
      " Range of cutting speed for 12 mm diameter = 11.5 m/min.\n",
      " Range of cutting speed for 36 mm diameter = 10.5 m/min.\n"
     ]
    }
   ],
   "source": [
    "from __future__ import division\n",
    "import numpy as np\n",
    "from math import pi\n",
    "%matplotlib inline\n",
    "from matplotlib.pyplot import plot, show, title, text, xlabel, ylabel\n",
    "\n",
    "d1 = 10 # min. dia of cutter in mm\n",
    "d2 = 60 # max. dia of cutter in mm\n",
    "v = 30e3 # operating speed in mm/min\n",
    "z= 6 # required speeds\n",
    "nmin = v / (pi * d2) # n_min in rpm\n",
    "nmax = v / (pi * d1) # n_max in rpm\n",
    "phi = (nmax / nmin)**(1/(z-1))\n",
    "spindle_speeds = [1]*6 # initializing\n",
    "print \"Spindle Speeds are :\" \n",
    "for i in range(0,6):\n",
    "    spindle_speeds[i] = (phi**i)*nmin\n",
    "    print '%d\\t'%spindle_speeds[i],\n",
    "    \n",
    "\n",
    "cutter_dia = [1]*6 # initializing\n",
    "for i in range(0,6):\n",
    "    cutter_dia[i] = (v/pi)/spindle_speeds[i]\n",
    "y = [0,v/1e3]\n",
    "plot([0,cutter_dia[0]], y, [0,cutter_dia[1]], y, [0,cutter_dia[2]], y, [0,cutter_dia[3]], y, [0,cutter_dia[4]], y, [0,cutter_dia[5]], y)\n",
    "title(\"cutting velocity Vs Cutter diameter\")\n",
    "xlabel('Cutter Diameter(mm)')\n",
    "ylabel('Cutting velocity(m/min)')\n",
    "text(5,28,'%d'%spindle_speeds[5])\n",
    "text(9,25,'%d'%spindle_speeds[4])\n",
    "text(12,22,'%d'%spindle_speeds[3])\n",
    "text(15,18,'%d'%spindle_speeds[2])\n",
    "text(18,15,'%d'%spindle_speeds[1])\n",
    "text(20,11,'%d'%spindle_speeds[0])\n",
    "show()\n",
    "# from graph\n",
    "vmax1 = 36 # m/min\n",
    "vmin1 = 24.5 # m/min\n",
    "r1 = vmax1 - vmin1 # Range of cutting speed for 12 mm diameter in m/min\n",
    "vmax2 = 36.5 # m/min.\n",
    "vmin2 = 26 # m/min.\n",
    "r2 = vmax2 - vmin2 # Range of cutting speed for 36 mm diameter in m/min\n",
    "print \" Range of cutting speed for 12 mm diameter = %0.1f m/min.\\n Range of cutting speed for 36 mm diameter = %0.1f m/min.\"%(r1 , r2)"
   ]
  },
  {
   "cell_type": "markdown",
   "metadata": {},
   "source": [
    "## Exa 22.2 : page 790"
   ]
  },
  {
   "cell_type": "code",
   "execution_count": 2,
   "metadata": {
    "collapsed": false
   },
   "outputs": [
    {
     "name": "stdout",
     "output_type": "stream",
     "text": [
      "Number of teeth on driver and driven are :- \n",
      " t1 = 25 ,T1 = 55\n",
      " t2 = 29 ,T2 = 51 \n",
      " t3 = 32 ,T3 = 48 \n",
      " t4 = 36 ,T4 = 44 \n",
      "The actual running speed of driven shaft will be : \n",
      " n1 = 68.18 rev/min\n",
      " n2 = 85.29 rev/min \n",
      " n3 = 100.00 rev/min \n",
      " n4 = 122.73 rev/min\n"
     ]
    }
   ],
   "source": [
    "from math import floor, ceil\n",
    "from sympy import solve, symbols\n",
    "m = 2.5 # module in mm\n",
    "phi = 1.2 # common ratio\n",
    "n = 150 # speed in rev/min. of driving shaft\n",
    "n1 = 70 # speed in rev/min. of driven shaft\n",
    "n2 = (phi)**1*n1 # speed in rev/min. of driven shaft\n",
    "n3 = (phi)**2*n1 # speed in rev/min. of driven shaft\n",
    "n4 = (phi)**3*n1 # speed in rev/min. of driven shaft\n",
    "T1=symbols('T1')\n",
    "t1=n1/n*T1\n",
    "expr = t1+T1-80\n",
    "T1=solve(expr,T1)[0]\n",
    "t1=n1/n*T1\n",
    "T2=symbols('T2')\n",
    "t2=n2/n*T2\n",
    "expr = t2+T2-80\n",
    "T2=solve(expr, T2)[0]\n",
    "t2=n2/n*T2\n",
    "\n",
    "T3=symbols('T3')\n",
    "t3=n3/n*T3\n",
    "expr=t3+T3-80\n",
    "T3=solve(expr, T3)[0]\n",
    "t3=n3/n*T3\n",
    "T4=symbols('T4')\n",
    "t4=n4/n*T4\n",
    "expr=t4+T4-80\n",
    "T4=solve(expr, T4)[0]\n",
    "t4=n4/n*T4\n",
    "t1 = floor(t1) # number of teeth on driving shaft\n",
    "T1 = ceil(T1) # number of teeth on driven shaft\n",
    "t2 = ceil(t2) # number of teeth on driving shaft\n",
    "T2 = floor(T2) # number of teeth on driven shaft\n",
    "t3 = floor(t3) # number of teeth on driving shaft\n",
    "T3 = ceil(T3) # number of teeth on driven shaft\n",
    "t4 = ceil(t4) # number of teeth on driving shaft\n",
    "T4 = floor(T4) # number of teeth on driven shaft\n",
    "# running speeds\n",
    "n1 = n*t1/T1\n",
    "n2 = n*t2/T2\n",
    "n3 = n*t3/T3\n",
    "n4 = n*t4/T4\n",
    "print \"Number of teeth on driver and driven are :- \\n t1 = %d ,T1 = %d\\n t2 = %d ,T2 = %d \\n t3 = %d ,T3 = %d \\n t4 = %d ,T4 = %d \"%(t1,T1,t2,T2,t3,T3,t4,T4)\n",
    "print \"The actual running speed of driven shaft will be : \\n n1 = %0.2f rev/min\\n n2 = %0.2f rev/min \\n n3 = %0.2f rev/min \\n n4 = %0.2f rev/min\"%(n1,n2,n3,n4)\n",
    "# Answer of n3 is given wrong in book\n",
    "# Answer vary due to round off error"
   ]
  },
  {
   "cell_type": "markdown",
   "metadata": {},
   "source": [
    "## Exa 22.3 : page 791"
   ]
  },
  {
   "cell_type": "code",
   "execution_count": 3,
   "metadata": {
    "collapsed": false
   },
   "outputs": [
    {
     "name": "stdout",
     "output_type": "stream",
     "text": [
      " Ta = 20 Tb = 32 \n",
      " Tc = 22 Td = 30 \n",
      " Te = 23 tf = 29 \n",
      " Th = 19 Tj = 28 \n",
      " Ti = 23 Tg = 23\n"
     ]
    }
   ],
   "source": [
    "from sympy import symbols, solve\n",
    "z = 6 # number of steps\n",
    "n1 = 180 # rev/min\n",
    "n2 = 100 # rev/min\n",
    "Rn = n1/n2 \n",
    "phi = (Rn)**(1/(z-1)) # common ratio\n",
    "n3 = phi*n2 # rev/min\n",
    "n4 = (phi)**2*n2 # rev/min\n",
    "n5 = (phi)**3*n2 # rev/min\n",
    "n6 = (phi)**4*n2 # rev/min\n",
    "n7 = 225 # speed of input shaft in rev/min\n",
    "Ta=symbols('Ta')\n",
    "tb=n7/n5*Ta\n",
    "Ta=solve(tb+Ta-52, Ta)[0]\n",
    "tb=n7/n5*Ta\n",
    "tb = ceil(tb)\n",
    "Tc=symbols('Tc')\n",
    "td=n7/n6*Tc\n",
    "Tc=solve(td+Tc-52, Tc)[0]\n",
    "td=n7/n6*Tc\n",
    "Tc = ceil(Tc)\n",
    "Te=symbols('Te') \n",
    "tf=n7/n1*Te\n",
    "Te=solve(tf+Te-52, Te)[0]\n",
    "tf=n7/n1*Te\n",
    "tf = ceil(tf)\n",
    "Th=symbols('Th')\n",
    "tj=n2/n5*Th\n",
    "Th=solve(tj+Th-46, Th)[0]\n",
    "Th = ceil(Th)\n",
    "tj=n2/n5*Th\n",
    "tj = floor(tj)\n",
    "Ti=symbols('Ti')\n",
    "tg=n5/n5*Ti\n",
    "Ti=solve(tg+Ti-46, Ti)[0]\n",
    "tg=n5/n5*Ti\n",
    "print \" Ta = %d Tb = %d \\n Tc = %d Td = %d \\n Te = %d tf = %d \\n Th = %d Tj = %d \\n Ti = %d Tg = %d\"%(Ta,tb,Tc,td,Te,tf,tj,Th,Ti,tg)\n",
    "# 'Answers vary due to round off error'"
   ]
  },
  {
   "cell_type": "markdown",
   "metadata": {},
   "source": [
    "## Exa 22.4 : page 793"
   ]
  },
  {
   "cell_type": "code",
   "execution_count": 4,
   "metadata": {
    "collapsed": false
   },
   "outputs": [
    {
     "name": "stdout",
     "output_type": "stream",
     "text": [
      " Common ratio = 1.32 \n",
      " Spindle speeds are : 334.23 , 441.0 , 581.92 , 767.85 ,1013.18 and 1336.9 rev/min.\n"
     ]
    }
   ],
   "source": [
    "from math import sqrt, pi\n",
    "v = 21 # cutting speed in rev/min.\n",
    "z = 6\n",
    "dmin = 5 # daimeter in mm\n",
    "dmax = 20 # daimeter in mm\n",
    "nmax = 1000*v/(pi*dmin) # spindle speed in rev/min.\n",
    "nmin = 1000*v/(pi*dmax) # spindle speed in rev/min.\n",
    "phi = (nmax/nmin)**(1/(z-1)) # common ratio\n",
    "n1 = nmin # rev/min.\n",
    "n2 = phi*n1 # rev/min.\n",
    "n3 = (phi)**2*n1 # rev/min.\n",
    "n4 = (phi)**3*n1 # rev/min.\n",
    "n5 = (phi)**4*n1 # rev/min.\n",
    "n6 = (phi)**5*n1 # rev/min.\n",
    "print \" Common ratio = %0.2f \\n Spindle speeds are : %0.2f , %0.1f , %0.2f , %0.2f ,%0.2f and %0.1f rev/min.\"%(phi,n1,n2,n3,n4,n5,n6)\n",
    "# 'Answers vary due to round off error'"
   ]
  },
  {
   "cell_type": "markdown",
   "metadata": {},
   "source": [
    "## Exa 22.5 : page 793"
   ]
  },
  {
   "cell_type": "code",
   "execution_count": 5,
   "metadata": {
    "collapsed": false
   },
   "outputs": [
    {
     "name": "stdout",
     "output_type": "stream",
     "text": [
      " Three gear ratios between input and intermediate shaft i1 = 1 i2 = 0.79 i3 = 0.630 \n",
      " The two ratios between intermediate and output shaft i4 = 1 i5 = 0.500 \n",
      " number of teeth for each pair between input and intermediate shaft t1 = 27/27 ,t2 = 24/30 , t3 = 21/33 \n",
      " number of teeth for each pair between output and intermediate shaft = t4 = 34/34 ,t5 = 20/48 \n",
      " Output speeds \n",
      " n1 = 371  rev/min , n2 = 466 rev/min , n3 = 583 rev/min \n",
      " n4 = 890 rev/min, n5 = 1120 rev/min , n6 = 1400 rev/min\n"
     ]
    }
   ],
   "source": [
    "# from fig. 22.18A\n",
    "# Three gear ratios between input and intermediate shaft\n",
    "nmax = 1400 # maximum speed in rev/min.\n",
    "i1 = 1/1\n",
    "i2 = 1/1.26\n",
    "i3 = 1/(1.26)**2\n",
    "# The two ratios between intermediate and output shaft\n",
    "i4 = 1/1\n",
    "i5 = 1/(1.26)**3\n",
    "# number of teeth for input and intermediate shaft\n",
    "t1 = 27/27\n",
    "t2 = 24/30\n",
    "t3 = 21/33\n",
    "#  number of teeth for output and intermediate shaft\n",
    "t4 = 34/34\n",
    "t5 = 20/48\n",
    "# output speeds in rev./min\n",
    "n1 = t3*t5*nmax\n",
    "n2 = t2*t5*nmax\n",
    "n3 = t1*t5*nmax\n",
    "n4 = t3*t4*nmax\n",
    "n5 = t2*t4*nmax\n",
    "n6 = t1*t4*nmax\n",
    "print \" Three gear ratios between input and intermediate shaft i1 = %d i2 = %0.2f i3 = %0.3f \\n The two ratios between intermediate and output shaft i4 = %d i5 = %0.3f \\n number of teeth for each pair between input and intermediate shaft t1 = 27/27 ,t2 = 24/30 , t3 = 21/33 \\n number of teeth for each pair between output and intermediate shaft = t4 = 34/34 ,t5 = 20/48 \\n Output speeds \\n n1 = %d  rev/min , n2 = %d rev/min , n3 = %d rev/min \\n n4 = %d rev/min, n5 = %d rev/min , n6 = %d rev/min\"%(i1 , i2 , i3 , i4 , i5 , n1 , n2, n3,n4,n5,n6)\n",
    "# Answer vary due to round off error"
   ]
  }
 ],
 "metadata": {
  "kernelspec": {
   "display_name": "Python 2",
   "language": "python",
   "name": "python2"
  },
  "language_info": {
   "codemirror_mode": {
    "name": "ipython",
    "version": 2
   },
   "file_extension": ".py",
   "mimetype": "text/x-python",
   "name": "python",
   "nbconvert_exporter": "python",
   "pygments_lexer": "ipython2",
   "version": "2.7.9"
  }
 },
 "nbformat": 4,
 "nbformat_minor": 0
}
