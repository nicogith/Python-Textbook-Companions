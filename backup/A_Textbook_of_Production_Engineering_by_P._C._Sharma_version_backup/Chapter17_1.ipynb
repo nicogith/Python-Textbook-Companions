{
 "cells": [
  {
   "cell_type": "markdown",
   "metadata": {},
   "source": [
    "# Chapter 17 : Thread Manufacturing"
   ]
  },
  {
   "cell_type": "markdown",
   "metadata": {},
   "source": [
    "## Exa 17.1 : Page 670"
   ]
  },
  {
   "cell_type": "code",
   "execution_count": 1,
   "metadata": {
    "collapsed": false
   },
   "outputs": [
    {
     "name": "stdout",
     "output_type": "stream",
     "text": [
      "Best wire size = 3.464 mm\n"
     ]
    }
   ],
   "source": [
    "d = 80 # outside diameter in mm\n",
    "p = 6  # pitch diameter in mm\n",
    "d = 0.5774*p # best wire size in mm\n",
    "print \"Best wire size = %0.3f mm\"%d"
   ]
  },
  {
   "cell_type": "markdown",
   "metadata": {},
   "source": [
    "## Exa 17.2 : Page 670"
   ]
  },
  {
   "cell_type": "code",
   "execution_count": 2,
   "metadata": {
    "collapsed": false
   },
   "outputs": [
    {
     "name": "stdout",
     "output_type": "stream",
     "text": [
      " Best wire size = 1.444 mm\n",
      " Distance over wires = 20.541 mm\n"
     ]
    }
   ],
   "source": [
    "D = 20 # diameter in mm\n",
    "p = 2.5 # pitch diameter in mm\n",
    "d = 0.5774*p # mm\n",
    "W = D+3*d-1.5156*p# best wire size in mm\n",
    "print \" Best wire size = %0.3f mm\\n Distance over wires = %0.3f mm\"%(d, W)\n",
    "# Answer vary due to round off error"
   ]
  }
 ],
 "metadata": {
  "kernelspec": {
   "display_name": "Python 2",
   "language": "python",
   "name": "python2"
  },
  "language_info": {
   "codemirror_mode": {
    "name": "ipython",
    "version": 2
   },
   "file_extension": ".py",
   "mimetype": "text/x-python",
   "name": "python",
   "nbconvert_exporter": "python",
   "pygments_lexer": "ipython2",
   "version": "2.7.9"
  }
 },
 "nbformat": 4,
 "nbformat_minor": 0
}
