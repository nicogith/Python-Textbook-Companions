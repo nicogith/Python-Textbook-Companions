{
 "metadata": {
  "name": "",
  "signature": "sha256:8396cc313a5f7ac528d04440985334b94cac20ea3e5313976a84c2a105bcc18d"
 },
 "nbformat": 3,
 "nbformat_minor": 0,
 "worksheets": [
  {
   "cells": [
    {
     "cell_type": "heading",
     "level": 1,
     "metadata": {},
     "source": [
      "Chapter 14 : Theory of Metal Cutting"
     ]
    },
    {
     "cell_type": "heading",
     "level": 2,
     "metadata": {},
     "source": [
      "Exa 14.1 : page 563"
     ]
    },
    {
     "cell_type": "code",
     "collapsed": false,
     "input": [
      "v1 = 18 # cutting speed in m/min\n",
      "t1 = 3 # tool life in hours\n",
      "n = 0.125 # exponent\n",
      "c = v1*(t1*60)**n # constant\n",
      "v2 = 24 # cutting speed in m/min\n",
      "t = (c/v2)**(1/0.125) # tool life in min.\n",
      "print \"Tool life = %d min.\"%(t)"
     ],
     "language": "python",
     "metadata": {},
     "outputs": [
      {
       "output_type": "stream",
       "stream": "stdout",
       "text": [
        "Tool life = 18 min.\n"
       ]
      }
     ],
     "prompt_number": 1
    },
    {
     "cell_type": "heading",
     "level": 2,
     "metadata": {},
     "source": [
      "Exa 14.2 : page 564"
     ]
    },
    {
     "cell_type": "code",
     "collapsed": false,
     "input": [
      "from __future__ import division\n",
      "c_t = 8 # tool change time in min.\n",
      "r_t = 5 # tool re-grind time in min.\n",
      "mr_c = 5 # machine running cost per hour\n",
      "d = 30 # total depreciation per re-grind in paisa\n",
      "n = 0.25 # exponent\n",
      "c = 150 # constant\n",
      "c_c = mr_c*c_t/60 # total change cost in Rs\n",
      "r_c = mr_c*r_t/60 # regrind cost in Rs\n",
      "ct = c_c+r_c+d/100 # tooling cost in Rs\n",
      "cm = mr_c/60 # machining cost in Rs\n",
      "v = c*((cm*n)/(ct*(1-n)))**n # cutting speed in m/min.\n",
      "print \"Cutting speed = %0.1f m/min.\"%(v) "
     ],
     "language": "python",
     "metadata": {},
     "outputs": [
      {
       "output_type": "stream",
       "stream": "stdout",
       "text": [
        "Cutting speed = 56.5 m/min.\n"
       ]
      }
     ],
     "prompt_number": 2
    },
    {
     "cell_type": "heading",
     "level": 2,
     "metadata": {},
     "source": [
      "Exa 14.3 : page 564"
     ]
    },
    {
     "cell_type": "code",
     "collapsed": false,
     "input": [
      "from math import pi, tan, atan, cos, sin\n",
      "mu1 = 0.15 # coefficient of friction   \n",
      "mu2 = 0.18 # coefficient of fricton\n",
      "alpha = 14 # angle of contact in degree\n",
      "alpha = alpha*pi/180\n",
      "bita = 10 # semi-cone angle in degree\n",
      "bita = bita*pi/180\n",
      "sigma_0 = 1.40 # kN/mm**2\n",
      "h0 = 1.5 #mm\n",
      "h1 = 1 # mm\n",
      "B = (mu1+mu2)/(tan(alpha)+tan(bita))\n",
      "sigmad = (sigma_0*(1+B)*(1-(h1/h0)**B))/B # drawing stress in kN/mm**2\n",
      "d1 = 11 # outside diameter in mm\n",
      "t = 1 # thickness in mm\n",
      "d2 = d1-t # mm\n",
      "a = (pi*((d1)**2-(d2)**2))/4 # area in mm**2\n",
      "l = sigmad*a # load in kN\n",
      "s = 0.65 # drawing speed in m/s\n",
      "w = l*s # work in kJ/s\n",
      "p = w # power in kW\n",
      "print \"Drawing load = %0.3f kN\\nPower rating of motor = %0.2f kW\"%(l , p)\n",
      "t = 0.127 # uncut chip thickness in mm\n",
      "b = 6.35 # width of cut in mm\n",
      "v = 2 # cutting speed in m/s\n",
      "alpha = 10 # rake angle in degrees\n",
      "fc = 567 # cutting force in N\n",
      "ft = 227 # thrust force in N\n",
      "tc = 0.228 # chip thickness in mm\n",
      "r = t/tc # chip thickness ratio\n",
      "alpha = alpha*pi/180 # rake angle in radians\n",
      "phi = atan(r*cos(alpha)/(1-(r*sin(alpha)))) # shear angle \n",
      "phi1 = phi*180/pi # shear angle\n",
      "print \"Shear angle = %0.2f degree\"%(phi1) \n",
      "mu =((fc*sin(alpha)+ft*cos(alpha))/(fc*cos(alpha)-ft*sin(alpha))) #coefficient of friction\n",
      "bita = atan(mu) # friction angle\n",
      "bita = bita*180/(pi)\n",
      "print \"Friction angle = %0.2f degree\"%(bita )\n",
      "fs = fc*cos(phi)-ft*sin(phi) #shear force in N\n",
      "taus = (fs*sin(phi))/(b*t) # shear stress\n",
      "print \"Shear stress = %0.1f N/mm**2\"%(taus)\n",
      "cp = fc*v/1000 # cutting power in kw\n",
      "print \"Cutting power = %0.3f kw \"%(cp)\n",
      "vc = v*r # chip velocity in m/s\n",
      "print \"Chip velocity = %0.3f m/s\"%(vc)\n",
      "ss = 1/tan(phi) + tan(phi-alpha) # shear strain\n",
      "print \"shear strain = %0.3f\"%(ss)\n",
      "spl = t/sin(phi) # shear plane length\n",
      "vs = v*cos(alpha)/cos(phi-alpha) # shear velocity\n",
      "S = vs*10/spl # shear strain rate\n",
      "S = S*10**3 # shear strain rate\n",
      "print \"Shear strain rate = %.3f s**-1\"%(S)\n",
      "# 'Answers vary due to round off error'"
     ],
     "language": "python",
     "metadata": {},
     "outputs": [
      {
       "output_type": "stream",
       "stream": "stdout",
       "text": [
        "Drawing load = 14.262 kN\n",
        "Power rating of motor = 9.27 kW\n",
        "Shear angle = 31.27 degree\n",
        "Friction angle = 31.82 degree\n",
        "Shear stress = 236.1 N/mm**2\n",
        "Cutting power = 1.134 kw \n",
        "Chip velocity = 1.114 m/s\n",
        "shear strain = 2.036\n",
        "Shear strain rate = 86386.645 s**-1\n"
       ]
      }
     ],
     "prompt_number": 10
    },
    {
     "cell_type": "heading",
     "level": 2,
     "metadata": {},
     "source": [
      "Exa 14.4 : page 566"
     ]
    },
    {
     "cell_type": "code",
     "collapsed": false,
     "input": [
      "v = 30 # cutting speed in m/min\n",
      "feed = 0.3 # feed rate in mm/rev.\n",
      "d = 2.5 # depth of cut in mm\n",
      "t = 60 # tool life in min.\n",
      "c = v*t**0.13*feed**0.77*d**0.37 # constant\n",
      "print \"constant = %0.2f \"%(c)\n",
      "v2 = v*1.2 # cutting speed in m/min \n",
      "t2 = (c/(v2*feed**0.77*d**0.37)) # tool life when cutting speed increased by 20% in min.\n",
      "t2 = t2**(1/0.13)\n",
      "f2 = feed*1.2 # feed rate in mm/rev.\n",
      "t3 = (c/(v*d**0.37*f2**0.77)) # tool life when feed rate increased by 20% in min.\n",
      "t3 = t3**(1/0.13)\n",
      "d2 = d*1.2 # depth of cut in mm\n",
      "t4 = (c/(v*feed**0.77*d2**0.37)) # tool life when depth of cut increased by 20% in min.\n",
      "t4 = t4**(1/0.13)\n",
      "t5 = (c/(v2*d2**0.37*f2**0.77)) # tool lfe in min.\n",
      "t5 = t5**(1/0.13)\n",
      "print \"Tool life when cutting speed increased by 20 = %0.2f min.\"%(t2)\n",
      "print \"Tool life when feed rate increased by 20 = %0.2f min.\"%(t3)\n",
      "print \"Tool life when depth of cut increased by 20 = %0.2f min.\"%(t4)\n",
      "print \"Tool life when all taken together after increasing by 20 = %0.2f min.\"%(t5)\n",
      "# 'Answers vary due to round off error'"
     ],
     "language": "python",
     "metadata": {},
     "outputs": [
      {
       "output_type": "stream",
       "stream": "stdout",
       "text": [
        "constant = 28.37 \n",
        "Tool life when cutting speed increased by 20 = 14.76 min.\n",
        "Tool life when feed rate increased by 20 = 20.38 min.\n",
        "Tool life when depth of cut increased by 20 = 35.71 min.\n",
        "Tool life when all taken together after increasing by 20 = 2.98 min.\n"
       ]
      }
     ],
     "prompt_number": 11
    },
    {
     "cell_type": "heading",
     "level": 2,
     "metadata": {},
     "source": [
      "Exa 14.5 : page 567"
     ]
    },
    {
     "cell_type": "code",
     "collapsed": false,
     "input": [
      "t = 0.25 # uncut chip thickness in mm\n",
      "b = 2.5 # width of cut in mm\n",
      "v = 2.5 # cutting speed in m/s\n",
      "alpha = 10 # rake angle in degrees\n",
      "fc = 1130 # cutting force in N\n",
      "ft = 295 # thrust force in N\n",
      "tc = 0.45 # chip thickness in mm\n",
      "r = t/tc # chip thickness ratio\n",
      "alpha = alpha*pi/180 # rake angle in radians\n",
      "phi = atan((r*cos(alpha))/(1-r*sin(alpha))) # shear angle \n",
      "phi2 = phi*180/pi # shear angle\n",
      "fs = fc*cos(phi) - ft*sin(phi) #shear force in N\n",
      "print \"Force of shear at shear plane = %0.2f N\"%(fs)\n",
      "mu = atan((fc*sin(alpha)+ft*cos(alpha))/(fc*cos(alpha)-ft*sin(alpha))) #friction anglele\n",
      "print \"Friction angle = %0.3f degree\"%(mu )\n",
      "# 'Answers vary due to round off error'"
     ],
     "language": "python",
     "metadata": {},
     "outputs": [
      {
       "output_type": "stream",
       "stream": "stdout",
       "text": [
        "Force of shear at shear plane = 813.80 N\n",
        "Friction angle = 0.430 degree\n"
       ]
      }
     ],
     "prompt_number": 12
    },
    {
     "cell_type": "heading",
     "level": 2,
     "metadata": {},
     "source": [
      "Exa 14.6 : page 568"
     ]
    },
    {
     "cell_type": "code",
     "collapsed": false,
     "input": [
      "t = 0.2 # uncut chip thickness in mm\n",
      "alpha = 15 # rake angle in degrees\n",
      "tc = 0.62 # chip thickness in mm\n",
      "r = t/tc # chip thickness ratio\n",
      "crc = 1/r # chip reduction coefficient\n",
      "print \"Cutting ratio = %0.3f\\nChip reduction co-efficient = %0.1f\"%(r , crc)\n",
      "alpha = alpha*pi/180 # rake angle in radians\n",
      "phi = atan(r*cos(alpha)/(1-r*sin(alpha))) # shear angle \n",
      "phi = phi*180/pi # shear angle\n",
      "print \"Shear angle = %0.2f degree\"%(phi) \n",
      "ss = 1/tan(phi*pi/180) + tan((phi*pi)/180-(alpha*pi)/180) # shear strain\n",
      "print \"shear strain = %0.3f\"%(ss)\n",
      "# 'Answers vary due to round off error'"
     ],
     "language": "python",
     "metadata": {},
     "outputs": [
      {
       "output_type": "stream",
       "stream": "stdout",
       "text": [
        "Cutting ratio = 0.323\n",
        "Chip reduction co-efficient = 3.1\n",
        "Shear angle = 18.78 degree\n",
        "shear strain = 3.276\n"
       ]
      }
     ],
     "prompt_number": 13
    },
    {
     "cell_type": "heading",
     "level": 2,
     "metadata": {},
     "source": [
      "Exa 14.7 : page 568"
     ]
    },
    {
     "cell_type": "code",
     "collapsed": false,
     "input": [
      "from math import log\n",
      "v1 = 25 # cutting speed in m/min\n",
      "t1 = 90 # tool life in min.\n",
      "v2 = 35 # cutting speed in m/min\n",
      "t2 = 20 # tool life in min\n",
      "n = log(v2/v1)/log(t1/t2) # exponent\n",
      "C = v1*(t1)**n # constant\n",
      "t = 60 # tool life in min.\n",
      "v = C/(t)**n # cutting speed in m/min.\n",
      "print \" n = %0.3f\\n C = %0.1f\\n Cutting speed = %0.2f m/min.\"%(n , C,v)\n",
      "# 'Answers vary due to round off error'"
     ],
     "language": "python",
     "metadata": {},
     "outputs": [
      {
       "output_type": "stream",
       "stream": "stdout",
       "text": [
        " n = 0.224\n",
        " C = 68.4\n",
        " Cutting speed = 27.37 m/min.\n"
       ]
      }
     ],
     "prompt_number": 14
    },
    {
     "cell_type": "heading",
     "level": 2,
     "metadata": {},
     "source": [
      "Exa 14.8 : page 569"
     ]
    },
    {
     "cell_type": "code",
     "collapsed": false,
     "input": [
      "from math import ceil\n",
      "t = 0.5 # uncut chip thickness in mm\n",
      "b = 3 # width of cut in mm\n",
      "alpha = 15 # rake angle in degrees\n",
      "alpha = alpha*pi/180 # rake angle in radians\n",
      "r = 0.383 # chip thickness ratio\n",
      "mu = 0.7 # average coefficient of friction on tool face\n",
      "bita = atan(mu) # friction angle\n",
      "tau = 280 # yield stress in N/mm**2\n",
      "phi = atan((r*cos(alpha))/(1-r*sin(alpha))) # shear angle \n",
      "fc = (tau*b*t)/(1/cos(bita-alpha)*cos(phi+bita-alpha)*sin(phi)) # cutting force in N\n",
      "ft = (fc*(mu-tan(alpha)))/(1+mu*tan(alpha)) # thrust force in N\n",
      "F = fc*sin(alpha)+ft*cos(alpha) # tangential force on tool face in N\n",
      "F = ceil(F)\n",
      "N = fc*cos(alpha)-ft*sin(alpha) # normal force on tool face in N\n",
      "print \" Tangential force on tool face = %d N\\n normal force on tool face = %0.1f N\"%(F,N)\n",
      "# 'Answers vary due to round off error'"
     ],
     "language": "python",
     "metadata": {},
     "outputs": [
      {
       "output_type": "stream",
       "stream": "stdout",
       "text": [
        " Tangential force on tool face = 858 N\n",
        " normal force on tool face = 1225.0 N\n"
       ]
      }
     ],
     "prompt_number": 15
    },
    {
     "cell_type": "heading",
     "level": 2,
     "metadata": {},
     "source": [
      "Exa 14.9 : page 570"
     ]
    },
    {
     "cell_type": "code",
     "collapsed": false,
     "input": [
      "from math import sqrt\n",
      "t = 0.25 # uncut chip thickness in mm\n",
      "b = 0.5 # width of cut in cm\n",
      "v = 8.2 # cutting speed in m/min.\n",
      "alpha = 20 # rake angle in degrees\n",
      "alpha2 = alpha*pi/180 # rake angle in radians\n",
      "r = 0.351 # cutting ratio\n",
      "phi = atan(r*cos(alpha2)/(1-r*sin(alpha2))) # shear angle  in radians\n",
      "phi2 = phi*180/pi # shear angle in degrees\n",
      "alpha2 = alpha*pi/180 # rake angle in radians\n",
      "bita = 35+alpha-phi2 # degrees\n",
      "s = 1/tan(phi) + tan(phi-alpha2) # shear strain\n",
      "e = s/sqrt(3) # natural strain\n",
      "sigma = 784*(e)**0.15 # tensile property in N/mm**2\n",
      "tau = sigma/sqrt(3) # yield shear stress in N/mm**2\n",
      "As = (b*10*t)/sin(phi) # shear plane area in mm**2\n",
      "Fs = tau*As # shear gorce in N\n",
      "R = Fs/cos(phi+(bita*pi/180)-alpha2)\n",
      "Fc = R*cos((bita*pi/180)-alpha2) # cutting force in N\n",
      "Ft = R*sin((bita*pi/180)-alpha2) # thrust force in N\n",
      "print \" Cutting force= %0.1f N\\n Thrust force = %0.1f N\"%(Fc , Ft)\n",
      "# 'Answers vary due to round off error'"
     ],
     "language": "python",
     "metadata": {},
     "outputs": [
      {
       "output_type": "stream",
       "stream": "stdout",
       "text": [
        " Cutting force= 2034.3 N\n",
        " Thrust force = 524.3 N\n"
       ]
      }
     ],
     "prompt_number": 18
    },
    {
     "cell_type": "heading",
     "level": 2,
     "metadata": {},
     "source": [
      "Exa 14.10  : page 571"
     ]
    },
    {
     "cell_type": "code",
     "collapsed": false,
     "input": [
      "from math import pi, atan, cos, sin, tan\n",
      "f = 0.2 # feed in mm/rev.\n",
      "t = 0.2 # uncut chip thickness in mm\n",
      "alpha = 10 # rake angle in degrees\n",
      "fc = 1600 # cutting force in N\n",
      "ft = 850 # thrust force in N\n",
      "tc = 0.39 # chip thickness in mm\n",
      "r = t/tc # chip thickness ratio\n",
      "d = 2 # depth of cut in mm\n",
      "b = 2 # mm\n",
      "alpha2 = alpha*pi/180 # rake angle in radians\n",
      "phi = atan(r*cos(alpha2)/(1-r*sin(alpha2))) # shear angle in radians\n",
      "phi2 = phi*180/pi # shear angle in degree\n",
      "fs = fc*cos(phi)-ft*sin(phi) #shear force in N\n",
      "fn = fc*sin(phi)+ft*cos(phi) # normal force in N\n",
      "f = fc*sin(alpha2)+ft*cos(alpha2) # friction force in N\n",
      "mu =((fc*tan(alpha2)+ft)/(fc-ft*tan(alpha2))) #kinetic coefficient of friction\n",
      "s = fc/(b*t) # specific cutting energy in N/mm**2\n",
      "print \" Shear force = %d N\\n Normal force = %0.1f N\\n Friction force = %0.1f N\\n Kinetic coefficient of friction = %0.3f\"%(fs , fn ,f , mu)\n",
      "print \" Specific cutting energy = %d N/mm**2\"%(s)\n",
      "# 'Answers vary due to round off error'"
     ],
     "language": "python",
     "metadata": {},
     "outputs": [
      {
       "output_type": "stream",
       "stream": "stdout",
       "text": [
        " Shear force = 987 N\n",
        " Normal force = 1519.2 N\n",
        " Friction force = 1114.9 N\n",
        " Kinetic coefficient of friction = 0.781\n",
        " Specific cutting energy = 4000 N/mm**2\n"
       ]
      }
     ],
     "prompt_number": 19
    },
    {
     "cell_type": "heading",
     "level": 2,
     "metadata": {},
     "source": [
      "Exa 14.11 : page 572"
     ]
    },
    {
     "cell_type": "code",
     "collapsed": false,
     "input": [
      "from math import sqrt\n",
      "cs = 20 # side cutting edge angle in degree\n",
      "ce = 30 # end cutting edge angle in degree\n",
      "f = 0.1 # feed in mm/rev.\n",
      "r = 3 # nose radius in mm\n",
      "cs2 = cs*pi/180 # side cutting edge angle in radians\n",
      "ce2 = ce*pi/180 # end cutting edge angle in radians\n",
      "h = (1-cos(ce2))*r + f*sin(ce2)*cos(ce2) - sqrt((2*f*r*(sin(ce2))**3)-((f**2)*(sin(ce2))**4))\n",
      "Ra = h/4 # Centre line average roughness in mm\n",
      "print \"Centre line average roughness = %0.2f*10**-6m\"%(Ra*10**3)\n",
      "# 'Answers vary due to round off error'"
     ],
     "language": "python",
     "metadata": {},
     "outputs": [
      {
       "output_type": "stream",
       "stream": "stdout",
       "text": [
        "Centre line average roughness = 43.13*10**-6m\n"
       ]
      }
     ],
     "prompt_number": 20
    },
    {
     "cell_type": "heading",
     "level": 2,
     "metadata": {},
     "source": [
      "Exa 14.12 : page 572"
     ]
    },
    {
     "cell_type": "code",
     "collapsed": false,
     "input": [
      "i = 0 # inclination angle in degree\n",
      "alpha = 10 # orthogonal rake angle in degree\n",
      "lemda = 75 # principal cutting edge angle in degree\n",
      "alpha = alpha*pi/180 # orthogonal rake angle in radian\n",
      "lemda = lemda*pi/180 # principal cutting edge angle in radian\n",
      "alpha_b = atan(cos(lemda)*tan(alpha)+sin(lemda)*tan(i)) #back rake angle in radians\n",
      "alpha_b = alpha_b*180/pi # back rake angle in degree\n",
      "alpha_s = atan(sin(lemda)*tan(alpha)-cos(lemda)*tan(i)) # side rake angle in radians\n",
      "alpha_s = alpha_s*180/pi # side rake angle in degree\n",
      "print \" Back rake angle = %0.2f degree\\n Side rake angle = %0.2f degree\"%(alpha_b,alpha_s)"
     ],
     "language": "python",
     "metadata": {},
     "outputs": [
      {
       "output_type": "stream",
       "stream": "stdout",
       "text": [
        " Back rake angle = 2.61 degree\n",
        " Side rake angle = 9.67 degree\n"
       ]
      }
     ],
     "prompt_number": 21
    },
    {
     "cell_type": "heading",
     "level": 2,
     "metadata": {},
     "source": [
      "Exa 14.13 : page 572"
     ]
    },
    {
     "cell_type": "code",
     "collapsed": false,
     "input": [
      "alphab = 8 # back rake in degree\n",
      "alphas = 4 # side rake in degree\n",
      "cs = 15 # side cutting edge angle in degree\n",
      "lemda = 90 - cs # approach angle in degree\n",
      "alphab = alphab*pi/180 # back rake in radian\n",
      "alphas = alphas*pi/180 # side rake in radian\n",
      "cs = cs*pi/180 # side cutting edge angle in radian\n",
      "lemda = lemda*pi/180 # approach angle in radian\n",
      "alpha = atan(tan(alphas)*sin(lemda)+tan(alphab)*cos(lemda)) # orthogonal rake angle in radian\n",
      "alpha = alpha*180/pi # orthogonal rake angle in degree\n",
      "i = atan(sin(lemda)*tan(alphab)-cos(lemda)*tan(alphas)) # inclnation angle in radian\n",
      "i = i*180/pi # inclnation angle in degree\n",
      "print \" Othogonal rake angle = %0.2f degree\\n Inclination angle = %0.1f degree\"%(alpha , i)"
     ],
     "language": "python",
     "metadata": {},
     "outputs": [
      {
       "output_type": "stream",
       "stream": "stdout",
       "text": [
        " Othogonal rake angle = 5.93 degree\n",
        " Inclination angle = 6.7 degree\n"
       ]
      }
     ],
     "prompt_number": 22
    },
    {
     "cell_type": "heading",
     "level": 2,
     "metadata": {},
     "source": [
      "Exa 14.14 : page 573"
     ]
    },
    {
     "cell_type": "code",
     "collapsed": false,
     "input": [
      "cs = 15 # side cutting edge angle in degree\n",
      "v = 0.2 # cutting speed in m/s\n",
      "f = 0.5 # feed rate in mm/rev.\n",
      "d = 3.2 # depth of cut in mm\n",
      "fc = 1593*(f)**0.85*(d)**0.98 # cutting force in N\n",
      "pc = fc*v/1000 # cutting power in kw\n",
      "ita_mt = 0.85 # efficiency of lathe\n",
      "pm = pc/ita_mt # motor power in kw\n",
      "a = f*d # area of uncut chio in mm**2\n",
      "r = fc/a # specific cutting resistance in N/mm**2\n",
      "p = pc/(a*v)# unit power in W/(mm**3)*s\n",
      "print \" Cutting power = %0.3f kw\\n Motor power = %0.2f kw\\n Specific cutting resistance = %0.2f N/mm**2\\n Unit power = %0.3f W/(mm**3)*s\"%(pc,pm,r,p)\n",
      "# 'Answers vary due to round off error'"
     ],
     "language": "python",
     "metadata": {},
     "outputs": [
      {
       "output_type": "stream",
       "stream": "stdout",
       "text": [
        " Cutting power = 0.553 kw\n",
        " Motor power = 0.65 kw\n",
        " Specific cutting resistance = 1726.90 N/mm**2\n",
        " Unit power = 1.727 W/(mm**3)*s\n"
       ]
      }
     ],
     "prompt_number": 23
    },
    {
     "cell_type": "heading",
     "level": 2,
     "metadata": {},
     "source": [
      "Exa 14.15 : page 574"
     ]
    },
    {
     "cell_type": "code",
     "collapsed": false,
     "input": [
      "C = 400\n",
      "n=0.5\n",
      "a=2 # (T1/T2)**n\n",
      "b=2**(1/n) # T2\n",
      "i = (b-1)*100 # percentage increase\n",
      "print \"Percentage increase = %d percent\"%(i)"
     ],
     "language": "python",
     "metadata": {},
     "outputs": [
      {
       "output_type": "stream",
       "stream": "stdout",
       "text": [
        "Percentage increase = 300 percent\n"
       ]
      }
     ],
     "prompt_number": 24
    },
    {
     "cell_type": "heading",
     "level": 2,
     "metadata": {},
     "source": [
      "Exa 14.16 : page 574"
     ]
    },
    {
     "cell_type": "code",
     "collapsed": false,
     "input": [
      "from math import acos\n",
      "t = 0.127 # uncut chip thickness in mm\n",
      "b = 6.35 # width of cut in mm\n",
      "v = 1.20 # cutting speed in m/min.\n",
      "alpha = 10 # rake angle in degrees\n",
      "fc = 556.25 # cutting force in N\n",
      "ft = 222.50 # thrust force in N\n",
      "tc = 0.229 # chip thickness in mm\n",
      "r = t/tc # chip thickness ratio\n",
      "R = sqrt((fc**2)+(ft**2))\n",
      "bita = (acos(fc/R)) + alpha*pi/180 #\n",
      "f = R*sin(bita) # \n",
      "fe = f*r # friction energy\n",
      "p = (f*r*100)/fc # percentage of fricton enrgy and total energy \n",
      "print \"The percentage of total energy that goes into overcoming friction at tool chip interface = %0.2f percent\"%(p)\n",
      "# 'Answers vary due to round off error'"
     ],
     "language": "python",
     "metadata": {},
     "outputs": [
      {
       "output_type": "stream",
       "stream": "stdout",
       "text": [
        "The percentage of total energy that goes into overcoming friction at tool chip interface = 31.48 percent\n"
       ]
      }
     ],
     "prompt_number": 25
    },
    {
     "cell_type": "heading",
     "level": 2,
     "metadata": {},
     "source": [
      "Exa 14.17 : page 575"
     ]
    },
    {
     "cell_type": "code",
     "collapsed": false,
     "input": [
      "D = 300 # diameter in mm\n",
      "r = 45 # rev/min.\n",
      "d = 2 # depth of cut in mm\n",
      "f = 0.3 # feed in mm/rev\n",
      "fc = 1850 # cutting force in N\n",
      "ff = 450 # feed force in N\n",
      "V = 2.5*10**6 # metal removed in mm\n",
      "v = (pi*D*r)/(60*1000) # cutting velocity in m/s\n",
      "pc = fc*v/1000 # cutting power in kW\n",
      "fv = f*r/60*1000 # feed velocity in m/s\n",
      "fp = fv*ff # feed power in W\n",
      "mrr = d*f*v*60*1000 # mm**3/min.\n",
      "ce = pc*1000*60/mrr # specific cutting energy in W*s/mm**2\n",
      "E = ce*V/(3600*1000) # energy consumed\n",
      "print \" Power consumption = %0.2f W\\n Specific cutting energy = %0.2f W*s/mm**3\\n Energy consumed = %0.3f kWh\"%(pc,ce,E)\n",
      "# 'Answers vary due to round off error'"
     ],
     "language": "python",
     "metadata": {},
     "outputs": [
      {
       "output_type": "stream",
       "stream": "stdout",
       "text": [
        " Power consumption = 1.31 W\n",
        " Specific cutting energy = 3.08 W*s/mm**3\n",
        " Energy consumed = 2.141 kWh\n"
       ]
      }
     ],
     "prompt_number": 26
    },
    {
     "cell_type": "heading",
     "level": 2,
     "metadata": {},
     "source": [
      "Exa 14.18 : page 576"
     ]
    },
    {
     "cell_type": "code",
     "collapsed": false,
     "input": [
      "from math import atan, degrees\n",
      "D = 100 # diameter in mm\n",
      "cs = 30 # side cutting edge angle in degree\n",
      "lemda = 90 - cs # approach angle in degree\n",
      "d = 2.5 # depth of cut in mm\n",
      "f = 0.125 # feed in mm/rev.\n",
      "N = 300 # turning speed of job in rev./min.\n",
      "mu = 0.6 # coefficient of friction\n",
      "tau = 400 # ultimate shear stress in Mpa\n",
      "bita = degrees(atan(mu)) # friction angle in radian\n",
      "alphas = 10 # side rake angle\n",
      "alphab = 6 # back rake angle\n",
      "alpha = degrees(atan(tan(alphas))*sin(lemda*pi/180)+tan(alphab*pi/180)*cos(lemda*pi/180)) # orthogonal rake angle in degree\n",
      "phi = 45 - ( bita - alpha) # shear angle\n",
      "Fc = tau*d*f/(1/cos((bita-alpha)*pi/180)*cos((phi+bita-alpha)*pi/180)*sin(phi*pi/180)) # cutting force in N\n",
      "Ft = Fc*tan((bita-alpha)*pi/180) # thrust component in N\n",
      "Ff = Ft*sin(lemda*pi/180) # feed force along axis of job in N\n",
      "Rf = Ft*cos(lemda*pi/180) # radial force normal to axis of job in N\n",
      "v = pi*D*N/(1000*60) # velocity in m/s\n",
      "p = Fc*v # power in watts\n",
      "print \" Cutting force = %d N\\n Thrust force = %0.3f N\\n Feed force = %0.1f N\\n Radial force = %0.3f N\\n Cutting power = %d watts\"%(Fc,Ft,Ff,Rf,p)\n",
      "# 'Answers vary due to round off error'"
     ],
     "language": "python",
     "metadata": {},
     "outputs": [
      {
       "output_type": "stream",
       "stream": "stdout",
       "text": [
        " Cutting force = 247 N\n",
        " Thrust force = -2.546 N\n",
        " Feed force = -2.2 N\n",
        " Radial force = -1.273 N\n",
        " Cutting power = 388 watts\n"
       ]
      }
     ],
     "prompt_number": 27
    }
   ],
   "metadata": {}
  }
 ]
}