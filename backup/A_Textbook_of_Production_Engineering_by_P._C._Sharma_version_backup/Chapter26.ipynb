{
 "metadata": {
  "name": "",
  "signature": "sha256:d15eaabae5c16008290b8d4157cd9d9005929cebb25c80eb1f530cce514c355d"
 },
 "nbformat": 3,
 "nbformat_minor": 0,
 "worksheets": [
  {
   "cells": [
    {
     "cell_type": "heading",
     "level": 1,
     "metadata": {},
     "source": [
      "Chapter 26 : Plant Layout"
     ]
    },
    {
     "cell_type": "heading",
     "level": 2,
     "metadata": {},
     "source": [
      "Exa 26.1 : Page 901"
     ]
    },
    {
     "cell_type": "code",
     "collapsed": false,
     "input": [
      "from __future__ import division\n",
      "N = 100000 # annual output of parts\n",
      "s = 2 # expected scrap\n",
      "t = 105 # estimated time per part in s\n",
      "ita = 80 # production efficiency of machine\n",
      "a = 2300 # number of working hours\n",
      "output = (3600*ita)/(t*100) # parts required per hour\n",
      "pr = N*(100+s)/(a*100) # output from one machine per hour\n",
      "mr = pr/output # machines required\n",
      "print \"Number of machines required = %0.2f\"%mr\n",
      "print \"If machine is to be used exclusively for part considered two machines required\""
     ],
     "language": "python",
     "metadata": {},
     "outputs": [
      {
       "output_type": "stream",
       "stream": "stdout",
       "text": [
        "Number of machines required = 1.62\n",
        "If machine is to be used exclusively for part considered two machines required\n"
       ]
      }
     ],
     "prompt_number": 1
    }
   ],
   "metadata": {}
  }
 ]
}