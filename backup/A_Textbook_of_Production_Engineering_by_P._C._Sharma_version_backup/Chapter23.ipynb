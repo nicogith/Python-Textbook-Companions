{
 "metadata": {
  "name": "",
  "signature": "sha256:c5985d3c2e3fc0309bf6ab59905fa2aa4218e760d878ddba8e4f1720de96a7c3"
 },
 "nbformat": 3,
 "nbformat_minor": 0,
 "worksheets": [
  {
   "cells": [
    {
     "cell_type": "heading",
     "level": 1,
     "metadata": {},
     "source": [
      "Chapter 23 : Production Planning & Control"
     ]
    },
    {
     "cell_type": "heading",
     "level": 2,
     "metadata": {},
     "source": [
      "Exa 23.1 : page 812"
     ]
    },
    {
     "cell_type": "code",
     "collapsed": false,
     "input": [
      "d1 = 90 # demand for first quarter\n",
      "d2 = 100 # demand for second quarter\n",
      "d3 = 80 # demand for third quarter\n",
      "sa = (d1+d2+d3)/3 # simple average\n",
      "print \"Forecast = %d\"%(sa)"
     ],
     "language": "python",
     "metadata": {},
     "outputs": [
      {
       "output_type": "stream",
       "stream": "stdout",
       "text": [
        "Forecast = 90\n"
       ]
      }
     ],
     "prompt_number": 1
    },
    {
     "cell_type": "heading",
     "level": 2,
     "metadata": {},
     "source": [
      "Exa 23.2 : page 812"
     ]
    },
    {
     "cell_type": "code",
     "collapsed": false,
     "input": [
      "d1 = 300 # demand for july\n",
      "d2 = 350 # demand for august\n",
      "d3 = 400 # demand for september\n",
      "d4 = 500 # demand for october\n",
      "d5 = 600 # demand for november\n",
      "d6 = 700 # demand for december\n",
      "# assuming n = 3 , where n is number of time period\n",
      "forecast = (d6+d5+d4)/3 # forecast\n",
      "print \"Forecast = %d\"%(forecast)"
     ],
     "language": "python",
     "metadata": {},
     "outputs": [
      {
       "output_type": "stream",
       "stream": "stdout",
       "text": [
        "Forecast = 600\n"
       ]
      }
     ],
     "prompt_number": 2
    },
    {
     "cell_type": "heading",
     "level": 2,
     "metadata": {},
     "source": [
      "Exa 23.3 : page 813"
     ]
    },
    {
     "cell_type": "code",
     "collapsed": false,
     "input": [
      "d1 = 500 # demand for october\n",
      "d2 = 600 # demand for november\n",
      "d3 = 700 # demand for december\n",
      "w1 = 0.25 # relative weight with december\n",
      "w2 = 0.25 # relative weight with november\n",
      "w3 = 0.5 # relative weight with october\n",
      "f = w1*d1 + w2*d2 + w3*d3 # forecast\n",
      "print \"Forecast by weighted moving average = %d\"%(f)"
     ],
     "language": "python",
     "metadata": {},
     "outputs": [
      {
       "output_type": "stream",
       "stream": "stdout",
       "text": [
        "Forecast by weighted moving average = 625\n"
       ]
      }
     ],
     "prompt_number": 3
    },
    {
     "cell_type": "heading",
     "level": 2,
     "metadata": {},
     "source": [
      "Exa 23.4 : page 814"
     ]
    },
    {
     "cell_type": "code",
     "collapsed": false,
     "input": [
      "from math import ceil\n",
      "alpha = 0.7 # smoothing coefficient\n",
      "d1 = 250 # demand for november\n",
      "d2 = 300 # demand for december\n",
      "f1 = 200 # forecast for november\n",
      "f2 = alpha*d1 + (1-alpha)*f1 # forecast for december\n",
      "f3 = alpha*d2 + (1-alpha)*f2 # forecast for january\n",
      "f3 = ceil(f3)\n",
      "print \"Forecast for january = %d units\"%(f3)"
     ],
     "language": "python",
     "metadata": {},
     "outputs": [
      {
       "output_type": "stream",
       "stream": "stdout",
       "text": [
        "Forecast for january = 281 units\n"
       ]
      }
     ],
     "prompt_number": 4
    },
    {
     "cell_type": "heading",
     "level": 2,
     "metadata": {},
     "source": [
      "Exa 23.5 : page 817"
     ]
    },
    {
     "cell_type": "code",
     "collapsed": false,
     "input": [
      "from __future__ import division\n",
      "from math import sqrt\n",
      "s = 600 # set up cost per lot in Rs\n",
      "c = 6 # unit cost of item in Rs\n",
      "a = 100000 # annual demand for item\n",
      "i = 25 #  annual carrying charges of average inventory\n",
      "i = 25/100 \n",
      "k = c*i # carrying cost factor in unit/year\n",
      "n = sqrt(2*s*a/k) # most economic lot size\n",
      "tc = a*c + s*a/n + k*n/2 # total cost in Rs\n",
      "print \"Total cost = Rs %0.2f\"%(tc)\n",
      "#  'Answers vary due to round off error'"
     ],
     "language": "python",
     "metadata": {},
     "outputs": [
      {
       "output_type": "stream",
       "stream": "stdout",
       "text": [
        "Total cost = Rs 613416.41\n"
       ]
      }
     ],
     "prompt_number": 5
    },
    {
     "cell_type": "heading",
     "level": 2,
     "metadata": {},
     "source": [
      "Exa 23.6 : page 835"
     ]
    },
    {
     "cell_type": "code",
     "collapsed": false,
     "input": [
      "a = 8000 # annual requirement of parts\n",
      "c = 60 # unit cost of part in Rs\n",
      "r = 150 # ordering cost per lot in Rs\n",
      "i = 30 # annual carrying charges of average inventory\n",
      "i = 30/100 \n",
      "k = i*c # carrying cost per unit per year\n",
      "n = sqrt(2*r*a/k) # most economical order quantity\n",
      "print \"Most economical ordering quantity = %d units\"%(n)"
     ],
     "language": "python",
     "metadata": {},
     "outputs": [
      {
       "output_type": "stream",
       "stream": "stdout",
       "text": [
        "Most economical ordering quantity = 365 units\n"
       ]
      }
     ],
     "prompt_number": 6
    },
    {
     "cell_type": "heading",
     "level": 2,
     "metadata": {},
     "source": [
      "Exa 23.7 : page 841"
     ]
    },
    {
     "cell_type": "code",
     "collapsed": false,
     "input": [
      "a = 12000 # annual requirement\n",
      "c = 5 # unit cost of part\n",
      "s = 60 # set up cost per lot\n",
      "p = 18750 # production rate per year\n",
      "i = 20 # inventory carrying cost\n",
      "i = 20/100 \n",
      "k = i*c # carrying cost per unit per year\n",
      "n = sqrt(2*s/(1/a-1/p)*k) # Most economic lot size\n",
      "print \"Most economic lot size = %d parts\"%(n)"
     ],
     "language": "python",
     "metadata": {},
     "outputs": [
      {
       "output_type": "stream",
       "stream": "stdout",
       "text": [
        "Most economic lot size = 2000 parts\n"
       ]
      }
     ],
     "prompt_number": 7
    },
    {
     "cell_type": "heading",
     "level": 2,
     "metadata": {},
     "source": [
      "Exa 23.8 : page 841"
     ]
    },
    {
     "cell_type": "code",
     "collapsed": false,
     "input": [
      "a = 15625 # annual requirement of parts\n",
      "c = 12 # unit cost of part in Rs\n",
      "r = 60 # ordering cost per lot in Rs\n",
      "k = 1.2 # inventory carrying cost per unit \n",
      "n = sqrt(2*r*a/k) # economical order quantity\n",
      "oc = r*a/n # ordering cost in Rs\n",
      "cc = k*n/2 # carrying cost in Rs\n",
      "tc = oc + cc # total inventory cost in Rs\n",
      "print \" Economical order quantity = %d units\\n order cost = Rs %d\\n carrying cost = Rs %d\\n Total inventory cost = Rs %d\"%(n , oc , cc , tc)"
     ],
     "language": "python",
     "metadata": {},
     "outputs": [
      {
       "output_type": "stream",
       "stream": "stdout",
       "text": [
        " Economical order quantity = 1250 units\n",
        " order cost = Rs 750\n",
        " carrying cost = Rs 750\n",
        " Total inventory cost = Rs 1500\n"
       ]
      }
     ],
     "prompt_number": 8
    },
    {
     "cell_type": "heading",
     "level": 2,
     "metadata": {},
     "source": [
      "Exa 23.9 : page 842"
     ]
    },
    {
     "cell_type": "code",
     "collapsed": false,
     "input": [
      "# case a\n",
      "a = 50 # annual requirement of parts in tonnes\n",
      "c = 500 # unit cost of part in Rs\n",
      "r = 100 # ordering cost per order in Rs\n",
      "i = 20 # inventory carrying cost \n",
      "i = i/100\n",
      "d = 2 # discount of purchase cost in percent\n",
      "k = i*c # inventory carrying cost per unit \n",
      "n1 = sqrt(2*r*a/k) # economical order quantity\n",
      "oc1 = r*a/n1 # ordering cost in Rs\n",
      "cc1 = k*n1/2 # carrying cost in Rs\n",
      "tc1 = oc1 + cc1 # total inventory cost in Rs\n",
      "# case b\n",
      "n2 = 25 # order per lot\n",
      "oc2 = r*a/n2 # ordering cost in Rs\n",
      "cc2 = k*n2/2 # carrying cost in Rs\n",
      "tc2 = oc2 + cc2 # total inventory cost in Rs\n",
      "i = tc2-tc1 # increase in cost in Rs\n",
      "d_o = d*c*a/100 # discount offered\n",
      "print \" Increase in inventory cost = Rs %d\\n Discount offered = Rs%d\"%(i,d_o)\n",
      "print \" offer is worth accepting\""
     ],
     "language": "python",
     "metadata": {},
     "outputs": [
      {
       "output_type": "stream",
       "stream": "stdout",
       "text": [
        " Increase in inventory cost = Rs 450\n",
        " Discount offered = Rs500\n",
        " offer is worth accepting\n"
       ]
      }
     ],
     "prompt_number": 9
    },
    {
     "cell_type": "heading",
     "level": 2,
     "metadata": {},
     "source": [
      "Exa 23.10 : page 843"
     ]
    },
    {
     "cell_type": "code",
     "collapsed": false,
     "input": [
      "from math import sqrt\n",
      "a = 1000000 # annual requirement of parts\n",
      "r = 32 # ordering cost per lot in Rs\n",
      "k = 4 # inventory carrying cost per unit \n",
      "d1 = 250 # number of working days\n",
      "d2 = 2 # days for safety stock\n",
      "d3 = 4 # lead time in days\n",
      "eoq = sqrt(2*r*a/k) # economical order quantity\n",
      "oc = r*a/eoq # ordering cost in Rs\n",
      "cc = k*eoq/2 # carrying cost in Rs\n",
      "tc = oc + cc # total inventory cost in Rs\n",
      "ss = a*d2/d1 # safety stock\n",
      "ro_p = ss+eoq*d3 # reorder point\n",
      "print \" Economic order qunantity = %d components\\n Re-order point = %d components\"%(eoq ,ro_p)"
     ],
     "language": "python",
     "metadata": {},
     "outputs": [
      {
       "output_type": "stream",
       "stream": "stdout",
       "text": [
        " Economic order qunantity = 4000 components\n",
        " Re-order point = 24000 components\n"
       ]
      }
     ],
     "prompt_number": 10
    }
   ],
   "metadata": {}
  }
 ]
}