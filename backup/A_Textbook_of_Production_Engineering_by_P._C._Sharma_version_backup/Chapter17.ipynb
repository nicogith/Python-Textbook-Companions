{
 "metadata": {
  "name": "",
  "signature": "sha256:b347fea808576317f67f0205b2752c88edd172e2df6e58c7a21795b0d2990635"
 },
 "nbformat": 3,
 "nbformat_minor": 0,
 "worksheets": [
  {
   "cells": [
    {
     "cell_type": "heading",
     "level": 1,
     "metadata": {},
     "source": [
      "Chapter 17 : Thread Manufacturing"
     ]
    },
    {
     "cell_type": "heading",
     "level": 2,
     "metadata": {},
     "source": [
      "Exa 17.1 : Page 670"
     ]
    },
    {
     "cell_type": "code",
     "collapsed": false,
     "input": [
      "d = 80 # outside diameter in mm\n",
      "p = 6  # pitch diameter in mm\n",
      "d = 0.5774*p # best wire size in mm\n",
      "print \"Best wire size = %0.3f mm\"%d"
     ],
     "language": "python",
     "metadata": {},
     "outputs": [
      {
       "output_type": "stream",
       "stream": "stdout",
       "text": [
        "Best wire size = 3.464 mm\n"
       ]
      }
     ],
     "prompt_number": 1
    },
    {
     "cell_type": "heading",
     "level": 2,
     "metadata": {},
     "source": [
      "Exa 17.2 : Page 670"
     ]
    },
    {
     "cell_type": "code",
     "collapsed": false,
     "input": [
      "D = 20 # diameter in mm\n",
      "p = 2.5 # pitch diameter in mm\n",
      "d = 0.5774*p # mm\n",
      "W = D+3*d-1.5156*p# best wire size in mm\n",
      "print \" Best wire size = %0.3f mm\\n Distance over wires = %0.3f mm\"%(d, W)\n",
      "# Answer vary due to round off error"
     ],
     "language": "python",
     "metadata": {},
     "outputs": [
      {
       "output_type": "stream",
       "stream": "stdout",
       "text": [
        " Best wire size = 1.444 mm\n",
        " Distance over wires = 20.541 mm\n"
       ]
      }
     ],
     "prompt_number": 2
    }
   ],
   "metadata": {}
  }
 ]
}