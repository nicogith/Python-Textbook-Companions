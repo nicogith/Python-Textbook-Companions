{
 "cells": [
  {
   "cell_type": "markdown",
   "metadata": {},
   "source": [
    "# Chapter 11 : Surface Finish"
   ]
  },
  {
   "cell_type": "markdown",
   "metadata": {},
   "source": [
    "## Exa 11.1 : Page 436"
   ]
  },
  {
   "cell_type": "code",
   "execution_count": 1,
   "metadata": {
    "collapsed": false
   },
   "outputs": [
    {
     "name": "stdout",
     "output_type": "stream",
     "text": [
      "C.L.A value = 0.00*10**-6 m \n"
     ]
    }
   ],
   "source": [
    "v = 15000 # vertical magnification\n",
    "h = 100 # horizontal magnification\n",
    "l = 0.8 # sampling length in mm\n",
    "a1 = 160 # area above datum line in mm**2\n",
    "a2 = 90 # area above datum line in mm**2\n",
    "a3 = 180 # area above datum line in mm**2\n",
    "a4 = 50 # area above datum line in mm**2\n",
    "a5 = 95 # area below datum line in mm**2\n",
    "a6 = 65 # area below datum line in mm**2\n",
    "a7 = 170 # area below datum line in mm**2\n",
    "a8 = 150 # area below datum line in mm**2\n",
    "a = (a1+a2+a3+a4+a5+a6+a7+a8)/(v*h)\n",
    "CLA= a/l\n",
    "print \"C.L.A value = %0.2f*10**-6 m \" %(CLA*1000)"
   ]
  },
  {
   "cell_type": "markdown",
   "metadata": {},
   "source": [
    "## Exa 11.2 : Page 436"
   ]
  },
  {
   "cell_type": "code",
   "execution_count": 2,
   "metadata": {
    "collapsed": false
   },
   "outputs": [
    {
     "name": "stdout",
     "output_type": "stream",
     "text": [
      " The arithmetic average = 0.23*10**-6 m \n",
      " The r.m.s. value = 0.248*10**-6 m\n"
     ]
    }
   ],
   "source": [
    "from math import sqrt\n",
    "# from figure 11.23\n",
    "y1 = 0.15 # mu_m\n",
    "y2 = 0.25 # mu_m\n",
    "y3 = 0.35 # mu_m\n",
    "y4 = 0.25 # mu_m\n",
    "y5 = 0.30 # mu_m\n",
    "y6 = 0.15 # mu_m\n",
    "y7 = 0.10 # mu_m\n",
    "y8 = 0.30 # mu_m\n",
    "y9 = 0.35 # mu_m\n",
    "y10 = 0.10 # mu_m\n",
    "y1sqr = y1**2 # mu_m\n",
    "y2sqr = y2**2# mu_m\n",
    "y3sqr = y3**2 # mu_m\n",
    "y4sqr = y4**2 # mu_m\n",
    "y5sqr = y5**2 # mu_m\n",
    "y6sqr = y6**2 # mu_m\n",
    "y7sqr = y7**2 # mu_m\n",
    "y8sqr = y8**2 # mu_m\n",
    "y9sqr = y9**2 # mu_m\n",
    "y10sqr = y10**2 # mu_m\n",
    "n = 10\n",
    "yn = (y1+y2+y3+y4+y5+y6+y7+y8+y9+y10)/n # arithmetic average in mu_m\n",
    "rms = sqrt((y1sqr+y2sqr+y3sqr+y4sqr+y5sqr+y6sqr+y7sqr+y8sqr+y9sqr+y10sqr)/n) # r.m.s value in mu_m\n",
    "print \" The arithmetic average = %0.2f*10**-6 m \\n The r.m.s. value = %0.3f*10**-6 m\"%(yn,rms)"
   ]
  }
 ],
 "metadata": {
  "kernelspec": {
   "display_name": "Python 2",
   "language": "python",
   "name": "python2"
  },
  "language_info": {
   "codemirror_mode": {
    "name": "ipython",
    "version": 2
   },
   "file_extension": ".py",
   "mimetype": "text/x-python",
   "name": "python",
   "nbconvert_exporter": "python",
   "pygments_lexer": "ipython2",
   "version": "2.7.9"
  }
 },
 "nbformat": 4,
 "nbformat_minor": 0
}
