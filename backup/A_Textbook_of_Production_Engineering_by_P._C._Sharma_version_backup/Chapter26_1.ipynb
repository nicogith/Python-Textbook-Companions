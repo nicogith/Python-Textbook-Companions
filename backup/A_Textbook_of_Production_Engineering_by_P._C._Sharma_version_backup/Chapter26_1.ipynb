{
 "cells": [
  {
   "cell_type": "markdown",
   "metadata": {},
   "source": [
    "# Chapter 26 : Plant Layout"
   ]
  },
  {
   "cell_type": "markdown",
   "metadata": {},
   "source": [
    "## Exa 26.1 : Page 901"
   ]
  },
  {
   "cell_type": "code",
   "execution_count": 1,
   "metadata": {
    "collapsed": false
   },
   "outputs": [
    {
     "name": "stdout",
     "output_type": "stream",
     "text": [
      "Number of machines required = 1.62\n",
      "If machine is to be used exclusively for part considered two machines required\n"
     ]
    }
   ],
   "source": [
    "from __future__ import division\n",
    "N = 100000 # annual output of parts\n",
    "s = 2 # expected scrap\n",
    "t = 105 # estimated time per part in s\n",
    "ita = 80 # production efficiency of machine\n",
    "a = 2300 # number of working hours\n",
    "output = (3600*ita)/(t*100) # parts required per hour\n",
    "pr = N*(100+s)/(a*100) # output from one machine per hour\n",
    "mr = pr/output # machines required\n",
    "print \"Number of machines required = %0.2f\"%mr\n",
    "print \"If machine is to be used exclusively for part considered two machines required\""
   ]
  }
 ],
 "metadata": {
  "kernelspec": {
   "display_name": "Python 2",
   "language": "python",
   "name": "python2"
  },
  "language_info": {
   "codemirror_mode": {
    "name": "ipython",
    "version": 2
   },
   "file_extension": ".py",
   "mimetype": "text/x-python",
   "name": "python",
   "nbconvert_exporter": "python",
   "pygments_lexer": "ipython2",
   "version": "2.7.9"
  }
 },
 "nbformat": 4,
 "nbformat_minor": 0
}
