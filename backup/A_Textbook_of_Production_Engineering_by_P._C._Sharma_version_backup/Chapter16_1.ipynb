{
 "cells": [
  {
   "cell_type": "markdown",
   "metadata": {},
   "source": [
    "# Chapter 16 : Gear Manufacturing"
   ]
  },
  {
   "cell_type": "markdown",
   "metadata": {},
   "source": [
    "## Exa 16.1 : Page 648"
   ]
  },
  {
   "cell_type": "code",
   "execution_count": 1,
   "metadata": {
    "collapsed": false
   },
   "outputs": [
    {
     "name": "stdout",
     "output_type": "stream",
     "text": [
      " Tooth thickness = 7.851 mm\n",
      " Chordal addendum = 5.091 mm\n"
     ]
    }
   ],
   "source": [
    "from math import sin, pi, cos\n",
    "n = 34 # number of teeths\n",
    "m = 5 # module in mm\n",
    "w = m*n*sin (pi/(n*2)) #tooth thickness in mm\n",
    "h = m*(1+(n*(1 - cos(pi/(n*2)))/2)) # chordal addendum in mm\n",
    "print \" Tooth thickness = %0.3f mm\\n Chordal addendum = %0.3f mm\"%(w ,h)\n",
    "# Answers vary due to round off error"
   ]
  }
 ],
 "metadata": {
  "kernelspec": {
   "display_name": "Python 2",
   "language": "python",
   "name": "python2"
  },
  "language_info": {
   "codemirror_mode": {
    "name": "ipython",
    "version": 2
   },
   "file_extension": ".py",
   "mimetype": "text/x-python",
   "name": "python",
   "nbconvert_exporter": "python",
   "pygments_lexer": "ipython2",
   "version": "2.7.9"
  }
 },
 "nbformat": 4,
 "nbformat_minor": 0
}
