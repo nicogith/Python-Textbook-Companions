{
 "metadata": {
  "name": "",
  "signature": "sha256:219d77d7f38fc19cfe849e0cfd0de3bcb029b11c9e3454d84ccc5176fa4ce213"
 },
 "nbformat": 3,
 "nbformat_minor": 0,
 "worksheets": [
  {
   "cells": [
    {
     "cell_type": "heading",
     "level": 1,
     "metadata": {},
     "source": [
      "Chapter 9 : Limits, Tolerances & Fits"
     ]
    },
    {
     "cell_type": "heading",
     "level": 2,
     "metadata": {},
     "source": [
      "Exa 9.1 : Page 376"
     ]
    },
    {
     "cell_type": "code",
     "collapsed": false,
     "input": [
      "h1 = 37.52 # high limit of hole in mm\n",
      "h2 = 37.50 # low limit of hole in mm\n",
      "s1 = 37.47 # high limit of shaft in mm\n",
      "s2 = 37.45 # low limit of shaft in mm\n",
      "ht = h1-h2 # hole tolerence in mm\n",
      "st = s1-s2 # shaft tolerence in mm\n",
      "a = h2-s1 # allowance in mm\n",
      "print \" Hole tolerence = %0.2f mm\\n Shaft tolerence = %0.2f mm\\n Allowance = %0.2f mm\"%(ht ,st ,a)"
     ],
     "language": "python",
     "metadata": {},
     "outputs": [
      {
       "output_type": "stream",
       "stream": "stdout",
       "text": [
        " Hole tolerence = 0.02 mm\n",
        " Shaft tolerence = 0.02 mm\n",
        " Allowance = 0.03 mm\n"
       ]
      }
     ],
     "prompt_number": 1
    },
    {
     "cell_type": "heading",
     "level": 2,
     "metadata": {},
     "source": [
      "Exa 9.2 : Page 377"
     ]
    },
    {
     "cell_type": "code",
     "collapsed": false,
     "input": [
      "t = 0.075 # tolerence in mm\n",
      "h2 = 75 # low limit of hole in mm\n",
      "a = 0.10 # allowance in mm\n",
      "h1 = h2+t  # high limit of hole in mm\n",
      "s1 = h2-a # high limit of shaft in mm\n",
      "s2 = s1-t # low limit of shaft in mm\n",
      "print \" High limit of hole = %0.3f mm\\n High limit of shaft = %0.2f mm\\n Low limit of shaft = %0.3f mm\"%(h1 ,s1 , s2)"
     ],
     "language": "python",
     "metadata": {},
     "outputs": [
      {
       "output_type": "stream",
       "stream": "stdout",
       "text": [
        " High limit of hole = 75.075 mm\n",
        " High limit of shaft = 74.90 mm\n",
        " Low limit of shaft = 74.825 mm\n"
       ]
      }
     ],
     "prompt_number": 2
    },
    {
     "cell_type": "heading",
     "level": 2,
     "metadata": {},
     "source": [
      "Exa 9.3 : Page 377"
     ]
    },
    {
     "cell_type": "code",
     "collapsed": false,
     "input": [
      "t = 0.225 # tolerence in mm\n",
      "h2 = 75 # low limit of hole in mm\n",
      "a = 0.0375 # interference in mm\n",
      "h1 = h2+t  # high limit of hole in mm\n",
      "s2 = h1+a # low limit of shaft in mm\n",
      "s1 = s2+t # high limit of shaft in mm\n",
      "print \" High limit of hole = %0.3f mm\\n Low limit of shaft = %0.4f mm\\n High limit of shaft = %0.4f mm\"%(h1 ,s2 , s1)"
     ],
     "language": "python",
     "metadata": {},
     "outputs": [
      {
       "output_type": "stream",
       "stream": "stdout",
       "text": [
        " High limit of hole = 75.225 mm\n",
        " Low limit of shaft = 75.2625 mm\n",
        " High limit of shaft = 75.4875 mm\n"
       ]
      }
     ],
     "prompt_number": 3
    },
    {
     "cell_type": "heading",
     "level": 2,
     "metadata": {},
     "source": [
      "Exa 9.4 : Page 378"
     ]
    },
    {
     "cell_type": "code",
     "collapsed": false,
     "input": [
      "s1 = 50 # diameter of step1 in mm\n",
      "s2 = 80 # diameter of step2 in mm\n",
      "d = (s1*s2)**(1/2) # mm\n",
      "i = (0.45*(d)**(1/3)+0.001*d)/10**3 # mm\n",
      "t1 = 25*i # tolerence for hole in mm\n",
      "t2 = 16*i # tolerence for shaft in mm\n",
      "a1 = 0 # fundamental deviation for hole in mm\n",
      "a2 = 5.5*(d)**0.41 # fundamental deviation for shaft in microns\n",
      "a2 = a2/10**4 # mm\n",
      "h1 = 60 # low limit of hole in mm\n",
      "h2 = h1+t1 # high limit of tolerence in mm\n",
      "s1 = h1 - t2 # high limit of shaft in mm\n",
      "s2 = s1-t2 # low limit of shaft in mm\n",
      "print \" Tolerence for hole = %0.3f mm\\n Tolerence for shaft = %0.3f mm\"%(t1 ,t2)\n",
      "print \" Fundamental deviation for hole = %0.2f mm\\n Fundamental deviation for shaft = %0.3f mm\"%(a1 , a2 )\n",
      "print \" Low limit of hole = %d mm\\n High limit of hole = %0.3f mm\\n High limit of shaft = %0.2f mm\\n Low limit of hole = %0.2f mm\"%(h1 ,h2 , s1 , s2)\n",
      "# Answers vary due to round off error"
     ],
     "language": "python",
     "metadata": {},
     "outputs": [
      {
       "output_type": "stream",
       "stream": "stdout",
       "text": [
        " Tolerence for hole = 0.011 mm\n",
        " Tolerence for shaft = 0.007 mm\n",
        " Fundamental deviation for hole = 0.00 mm\n",
        " Fundamental deviation for shaft = 0.001 mm\n",
        " Low limit of hole = 60 mm\n",
        " High limit of hole = 60.011 mm\n",
        " High limit of shaft = 59.99 mm\n",
        " Low limit of hole = 59.99 mm\n"
       ]
      }
     ],
     "prompt_number": 4
    },
    {
     "cell_type": "heading",
     "level": 2,
     "metadata": {},
     "source": [
      "Exa 9.5 : Page 379"
     ]
    },
    {
     "cell_type": "code",
     "collapsed": false,
     "input": [
      "b = 30 # basic size in mm\n",
      "s1 = 0.005 # maximum limit of shaft in mm\n",
      "s2 = 0.018 # minimum limit of shaft in mm\n",
      "h1 = 0.020 # maximum limit of hole in mm\n",
      "h2 = 0.0 # minimum limit of hole in mm\n",
      "t1 = s2-s1 # shaft tolerence in mm\n",
      "t2 = h1-h2 # hole tolerence in mm\n",
      "Sh = b-s1 # high limit of shaft in mm\n",
      "Sl = b-s2 # low limit of shaft in mm\n",
      "Hh = b+h1 # high limit of hole in mm\n",
      "Hl = b+h2 # low limit of hole in mm\n",
      "c1 = Hh-Sl # maximum clearance in mm\n",
      "c2 = Hl-Sh # minimum clearance in mm\n",
      "print \" Basic size = %d mm\\n Shaft tolerence = %0.3f mm\\n Hole tolerence = %0.3f mm\"%(b,t1,t2)\n",
      "print \" High limit of shaft = %0.3f mm\\n Low limit of shaft = %0.3f mm\\n High limit of hole = %0.3f mm \\n Low limit of hole = %0.3f mm\"%(Sh,Sl,Hh,Hl)\n",
      "print \" Maximum clearance = %0.3f mm\\n Minimum clearance = %0.3f mm\"%(c1,c2)"
     ],
     "language": "python",
     "metadata": {},
     "outputs": [
      {
       "output_type": "stream",
       "stream": "stdout",
       "text": [
        " Basic size = 30 mm\n",
        " Shaft tolerence = 0.013 mm\n",
        " Hole tolerence = 0.020 mm\n",
        " High limit of shaft = 29.995 mm\n",
        " Low limit of shaft = 29.982 mm\n",
        " High limit of hole = 30.020 mm \n",
        " Low limit of hole = 30.000 mm\n",
        " Maximum clearance = 0.038 mm\n",
        " Minimum clearance = 0.005 mm\n"
       ]
      }
     ],
     "prompt_number": 5
    },
    {
     "cell_type": "heading",
     "level": 2,
     "metadata": {},
     "source": [
      "Exa 9.6 : Page 379"
     ]
    },
    {
     "cell_type": "code",
     "collapsed": false,
     "input": [
      "minc = 0.01 # minimum clearance in mm\n",
      "bs = 25 # basic size in mm\n",
      "maxc = 0.02 # maximum clearance in mm\n",
      "from sympy import symbols, solve\n",
      "x=symbols('x')\n",
      "y=1.5*x\n",
      "expr = y+0.01+x-0.02\n",
      "x=solve(expr, x)[0]\n",
      "y=1.5*x\n",
      "# hole basis system\n",
      "low_h1 = bs # low limit of hole in mm\n",
      "high_h1 = bs+y # high limit of hole in mm\n",
      "u_s = low_h1-minc # upper limit of shaft in mm\n",
      "low_s1 = u_s-x # lower limit of shaft in mm\n",
      "# shaft basis system\n",
      "high_s = bs # high limit of shaft in mm\n",
      "low_s2 = bs-x # low limit of shaft in mm\n",
      "low_h2 = bs+minc # low limit of hole in mm\n",
      "high_h2 = low_h2+y # high limit of hole in mm\n",
      "print \" Hole basis system \\n Lower limit of hole = %d mm\\n Higher limit of hole = %0.3f mm\\n Higher limit of shaft = %0.3f mm \\n Lower limit of shaft = %0.3f mm\"%(low_h1,high_h1,u_s,low_s1)\n",
      "print \" Shaft basis system \\n high limit of shaft = %0.3f mm\\n lower limit of shaft = %0.3f mm\\n lower limit of hole = %0.3f mm\\n upper limit of hole = %0.3f mm\"%(high_s,low_s2,low_h2,high_h2)"
     ],
     "language": "python",
     "metadata": {},
     "outputs": [
      {
       "output_type": "stream",
       "stream": "stdout",
       "text": [
        " Hole basis system \n",
        " Lower limit of hole = 25 mm\n",
        " Higher limit of hole = 25.006 mm\n",
        " Higher limit of shaft = 24.990 mm \n",
        " Lower limit of shaft = 24.986 mm\n",
        " Shaft basis system \n",
        " high limit of shaft = 25.000 mm\n",
        " lower limit of shaft = 24.996 mm\n",
        " lower limit of hole = 25.010 mm\n",
        " upper limit of hole = 25.016 mm\n"
       ]
      }
     ],
     "prompt_number": 6
    },
    {
     "cell_type": "heading",
     "level": 2,
     "metadata": {},
     "source": [
      "Exa 9.7 : Page 380"
     ]
    },
    {
     "cell_type": "code",
     "collapsed": false,
     "input": [
      "from math import ceil\n",
      "bs = 100 # basic size in mm\n",
      "s1 = 120# diameter of step1 in mm\n",
      "s2 = 80 # diameter of step2 in mm\n",
      "d = (s1*s2)**(1/2) # mm\n",
      "d = ceil(d)\n",
      "i = (0.45*(d)**(1/3)+0.001*d)/10**3 # mm\n",
      "t1 = 16*i # tolerence for hole in mm\n",
      "t2 = 25*i # tolerence for shaft in mm\n",
      "G = (2.5*(d)**0.34)/10**3 # fundamental deviation for hole in mm\n",
      "e = (11*(d)**0.11)/10**3 # fundamental deviation for shaft in microns\n",
      "# Hole\n",
      "LLh = bs+G # lower limit of hole in mm\n",
      "HLh = LLh+t1 # higher limit of hole in mm\n",
      "# shaft\n",
      "ULs = bs-e # upper limit of shaft in mm\n",
      "LLs = ULs-t2 # lower limit of shaft in mm\n",
      "print \" lower limit of hole = %0.3f mm\\n higher limit of hole = %0.3f mm\\n upper limit of shaft = %0.3f mm\\n lower limit of shaft = %0.3f mm\"%(LLh,HLh,ULs,LLs)\n",
      "# Error in textbook"
     ],
     "language": "python",
     "metadata": {},
     "outputs": [
      {
       "output_type": "stream",
       "stream": "stdout",
       "text": [
        " lower limit of hole = 100.002 mm\n",
        " higher limit of hole = 100.010 mm\n",
        " upper limit of shaft = 99.989 mm\n",
        " lower limit of shaft = 99.978 mm\n"
       ]
      }
     ],
     "prompt_number": 7
    },
    {
     "cell_type": "heading",
     "level": 2,
     "metadata": {},
     "source": [
      "Exa 9.8 : Page 381"
     ]
    },
    {
     "cell_type": "code",
     "collapsed": false,
     "input": [
      "tb = 0.005 # tolerence on bearing in mm\n",
      "tj = 0.004 # tolerence on journal in mm\n",
      "a = 0.002 # allowance in mm\n",
      "#hole-basis system\n",
      "b = 100 # basic size in mm\n",
      "Bl = b # lower limit of bearing in mm\n",
      "Bh = Bl+tb # higher limit of bearing in mm\n",
      "Jh = Bl-a # higher limit of journal in mm\n",
      "Jl1 = Jh - tj # lower limit of journal in \n",
      "# shaft-basis system\n",
      "Ju = b # upper limit of journal in mm\n",
      "Jl2 = Ju-tj # lower limit of journal in mm\n",
      "Bl = Ju+a # lower limit of bearing in mm\n",
      "Bu = Bl+tb # upper limit of bearing in mm\n",
      "print \"Hole basis system \\n Lower limit of journal = %d mm\\n Higher limit of bearing = %0.3f mm\\n Higher limit of journal = %0.3f mm \\n Lower limit of journal = %0.3f mm\"%(Bl,Bh,Jh,Jl1)\n",
      "print \"shaft basis system \\n upper limit of journal = %0.3f mm\\n lower limit of journal = %0.3f mm\\n lower limit of bearing = %0.3f mm\\n upper limit of bearing = %0.3f mm\"%(Ju,Jl2,Bl,Bu)"
     ],
     "language": "python",
     "metadata": {},
     "outputs": [
      {
       "output_type": "stream",
       "stream": "stdout",
       "text": [
        "Hole basis system \n",
        " Lower limit of journal = 100 mm\n",
        " Higher limit of bearing = 100.005 mm\n",
        " Higher limit of journal = 99.998 mm \n",
        " Lower limit of journal = 99.994 mm\n",
        "shaft basis system \n",
        " upper limit of journal = 100.000 mm\n",
        " lower limit of journal = 99.996 mm\n",
        " lower limit of bearing = 100.002 mm\n",
        " upper limit of bearing = 100.007 mm\n"
       ]
      }
     ],
     "prompt_number": 8
    },
    {
     "cell_type": "heading",
     "level": 2,
     "metadata": {},
     "source": [
      "Exa 9.9 : Page 381"
     ]
    },
    {
     "cell_type": "code",
     "collapsed": false,
     "input": [
      "# Hole-basis system\n",
      "b = 100 # basic size in mm\n",
      "i1 = 0.12 # maximum interference in mm\n",
      "i2 = 0.05 # minimum interfernce in mm\n",
      "t = (i1-i2)/2 # tolerence in mm\n",
      "Sh = b+i1 # upper limit of shaft in mm\n",
      "Hl = b # lower limit of hole in mm\n",
      "Hh = b+t # higher limit of hole in mm\n",
      "Sl1 = Sh-t #lower limit of shaft in mm  \n",
      "# shaft-basis system\n",
      "Su = b # upper limit of shaft in mm\n",
      "Sl2 = b-t # lower limit of shaft in mm\n",
      "Hl1 = b-i1 # lower limit of hole in mm\n",
      "Hu = Hl1+t # higher limit of hole in mm\n",
      "print \" Hole basis system \\n upper limit of shaft = %0.3f mm\\n lower limit of hole = %0.3f mm\\n higher limit of hole = %0.3f mm\\n lower limit of shaft = %0.3f mm\"%(Sh,Hl,Hh,Sl1)\n",
      "print \" Shaft basis system \\n upper limit of shaft = %0.3f mm\\n lower limit of shaft = %0.3f mm\\n lower limit of hole = %0.3f mm\\n upper limit of hole = %0.3f mm\"%(Su,Sl2,Hl1,Hu)"
     ],
     "language": "python",
     "metadata": {},
     "outputs": [
      {
       "output_type": "stream",
       "stream": "stdout",
       "text": [
        " Hole basis system \n",
        " upper limit of shaft = 100.120 mm\n",
        " lower limit of hole = 100.000 mm\n",
        " higher limit of hole = 100.035 mm\n",
        " lower limit of shaft = 100.085 mm\n",
        " Shaft basis system \n",
        " upper limit of shaft = 100.000 mm\n",
        " lower limit of shaft = 99.965 mm\n",
        " lower limit of hole = 99.880 mm\n",
        " upper limit of hole = 99.915 mm\n"
       ]
      }
     ],
     "prompt_number": 9
    },
    {
     "cell_type": "heading",
     "level": 2,
     "metadata": {},
     "source": [
      "Exa 9.10 : Page 382"
     ]
    },
    {
     "cell_type": "code",
     "collapsed": false,
     "input": [
      "aa = 0.04 # average allowance in mm\n",
      "a = 0.012 # allowance in mm\n",
      "Max = aa+a # maximum allowance in mm\n",
      "Min = aa-a # minimum allowance in mm\n",
      "t = (Max-Min)/3 # tolerence in mm\n",
      "ts = t # tolerence in shat in mm\n",
      "th = 2*t # tolerence in hole in mm\n",
      "b = 100 # basic size in mm\n",
      "Hl = b # lower limit of hole in mm\n",
      "Hu = b+th # upper limit of hole in mm\n",
      "Su = b-0.028 # upper limit of shaft in mm\n",
      "Sl = Su-ts # lower limit of shaft in mm\n",
      "print \" lower limit of hole = %d mm\\n upper limit of hole = %0.3f mm\\n upper limit of shaft = %0.3f mm\\n lower limit of shaft = %0.3f mm\"%(Hl,Hu,Su,Sl)"
     ],
     "language": "python",
     "metadata": {},
     "outputs": [
      {
       "output_type": "stream",
       "stream": "stdout",
       "text": [
        " lower limit of hole = 100 mm\n",
        " upper limit of hole = 100.016 mm\n",
        " upper limit of shaft = 99.972 mm\n",
        " lower limit of shaft = 99.964 mm\n"
       ]
      }
     ],
     "prompt_number": 10
    }
   ],
   "metadata": {}
  }
 ]
}