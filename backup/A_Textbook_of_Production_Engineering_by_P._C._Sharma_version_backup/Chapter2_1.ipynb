{
 "cells": [
  {
   "cell_type": "markdown",
   "metadata": {},
   "source": [
    "# Chapter 2 - Press Tool Design"
   ]
  },
  {
   "cell_type": "markdown",
   "metadata": {},
   "source": [
    "## Exa 2.1 : page 132"
   ]
  },
  {
   "cell_type": "code",
   "execution_count": 1,
   "metadata": {
    "collapsed": false
   },
   "outputs": [
    {
     "name": "stdout",
     "output_type": "stream",
     "text": [
      " Blanking pressure = 226 kN\n",
      " Piercing pressure = 108.573 KN\n",
      " Total pressure required = 334.8 KN\n",
      " piercing punch diameter = 2.44 cm\n",
      " blanking punch diametre = 4.96 cm \n",
      " press capacity = 267.81 KN\n",
      "\n"
     ]
    }
   ],
   "source": [
    "from __future__ import division\n",
    "from math import pi, sqrt\n",
    "D = 50 # Diameter of washer in mm\n",
    "t = 4 # thickness of material in mm\n",
    "d = 24 # diameter of hole in mm\n",
    "p = 360 # shear strength of material in N/mm**2\n",
    "F1 = pi*D*t*p # blanking pressure in N\n",
    "F2 = pi*d*t*p # piercing pressure in N\n",
    "F = F1 + F2 # total pressure in N\n",
    "d1 = d + 0.4 # piercing die diameter in mm\n",
    "d2 = D - 0.4 # blank punch diameter in mm\n",
    "c = 0.8*F # press capacity in N\n",
    "print \" Blanking pressure = %d kN\\n Piercing pressure = %0.3f KN\\n Total pressure required = %0.1f KN\"%(F1/1000,F2/1000,F/1000)\n",
    "print \" piercing punch diameter = %0.2f cm\\n blanking punch diametre = %0.2f cm \\n press capacity = %0.2f KN\\n\"%(d1/10 , d2/10 , c/1000)\n",
    "# Answers vary due to round off error"
   ]
  },
  {
   "cell_type": "markdown",
   "metadata": {},
   "source": [
    "## Exa 2.2 : page 133"
   ]
  },
  {
   "cell_type": "code",
   "execution_count": 2,
   "metadata": {
    "collapsed": false
   },
   "outputs": [
    {
     "name": "stdout",
     "output_type": "stream",
     "text": [
      " Diameter at first draw  = 8.25 cm\n",
      " Diameter at second draw  = 6.19 cm\n",
      " Diameter at third draw  =4.950 cm\n"
     ]
    }
   ],
   "source": [
    "from math import sqrt, pi\n",
    "h = 10 # height of cup in cm\n",
    "d = 5 # diameter of cup in cm\n",
    "D = sqrt(d**2 + 4*d*h) # blank diameter in cm\n",
    "# height daimeter ratio is 2 . Therefore from table 2.9 total reductions are 3\n",
    "r1 = 0.45*D # first reduction is 45% \n",
    "d1 = D - r1 # diameter at first draw in cm\n",
    "r2 = d1*0.25 # second reduction is 25% \n",
    "d2 = d1 - r2 # diameter at second draw in cm\n",
    "r3 = d2*0.2 # third reduction is 20% \n",
    "d3 = d2 - r3 # diameter at third draw in cm\n",
    "print \" Diameter at first draw  = %0.2f cm\\n Diameter at second draw  = %0.2f cm\\n Diameter at third draw  =%0.3f cm\"%( d1 , d2 , d3)\n",
    " "
   ]
  },
  {
   "cell_type": "markdown",
   "metadata": {},
   "source": [
    "## Exa 2.3 : page 133"
   ]
  },
  {
   "cell_type": "code",
   "execution_count": 3,
   "metadata": {
    "collapsed": false
   },
   "outputs": [
    {
     "name": "stdout",
     "output_type": "stream",
     "text": [
      "bending force = 44.3 KN\n"
     ]
    }
   ],
   "source": [
    "K = 1.20 # die-opening factor\n",
    "L = 37.5 # Length of strip in cm\n",
    "T = 2.5 # thickness of strip in mm\n",
    "sigma_ut = 630 # tensile strength in N/mm**2\n",
    "W = 16*T # width of die opening in mm\n",
    "F = (K*L*10*sigma_ut*T**2)/W # bending force in N\n",
    "print \"bending force = %0.1f KN\"%( F/1000)"
   ]
  },
  {
   "cell_type": "markdown",
   "metadata": {},
   "source": [
    "## Exa 2.4 : page 134"
   ]
  },
  {
   "cell_type": "code",
   "execution_count": 4,
   "metadata": {
    "collapsed": false
   },
   "outputs": [
    {
     "name": "stdout",
     "output_type": "stream",
     "text": [
      " blanking force  = 74.25 KN\n",
      " work done  = 27.84 Nm\n"
     ]
    }
   ],
   "source": [
    "b = 25 # width of blank in mm\n",
    "l = 30 # length of blank in mm\n",
    "tau = 450 # ultimate shear stress of material in N/mm**2\n",
    "t = 1.5 # thickness of metal strip in mm\n",
    "p = 2*(l + b) # perimeter of blank in mm\n",
    "f = p*t*tau # blanking force in N\n",
    "Pt = 0.25*t # punch travel in mm\n",
    "w = f*Pt # work done in Nmm\n",
    "print \" blanking force  = %0.2f KN\\n work done  = %0.2f Nm\"%(f/1000,w/1000)"
   ]
  },
  {
   "cell_type": "markdown",
   "metadata": {},
   "source": [
    "## Exa 2.5 : page 134"
   ]
  },
  {
   "cell_type": "code",
   "execution_count": 5,
   "metadata": {
    "collapsed": false
   },
   "outputs": [
    {
     "name": "stdout",
     "output_type": "stream",
     "text": [
      " clearance = 0.075 mm\n",
      " blank die opening size = 25.35 mm \n",
      " blanking punch size = 25.20 mm\n",
      " piercing punch size = 12.75 mm\n",
      " piercing die size = 12.90 mm\n"
     ]
    }
   ],
   "source": [
    "t = 1.5 # thickness in mm\n",
    "c = 0.05*t # clearance in mm\n",
    "D = 25.4 # outside diameter in mm \n",
    "D_o = D - 0.05 # blank die opening in mm\n",
    "B_s = D_o - 2*c # blanking punch size in mm\n",
    "d = 12.7 # internal diameter in mm \n",
    "P_s = d + 0.05 # piercing punch size in mm\n",
    "D_s = P_s + 2*c # piercing die size in mm\n",
    "print \" clearance = %0.3f mm\\n blank die opening size = %0.2f mm \"%(c ,D_o)\n",
    "print \" blanking punch size = %0.2f mm\\n piercing punch size = %0.2f mm\\n piercing die size = %0.2f mm\"%(B_s,P_s,D_s )"
   ]
  },
  {
   "cell_type": "markdown",
   "metadata": {},
   "source": [
    "## Exa 2.6 : page 135"
   ]
  },
  {
   "cell_type": "code",
   "execution_count": 6,
   "metadata": {
    "collapsed": false
   },
   "outputs": [
    {
     "name": "stdout",
     "output_type": "stream",
     "text": [
      "shear force when both punch act at same time and no shear is applied = 50.27 kN\n",
      "cutting force when punches are staggered = 33.5 kN\n",
      "cutting force when there is penetration and shear on punch = 23.8 kN\n"
     ]
    }
   ],
   "source": [
    "D = 25.4 # outside diameter in mm \n",
    "d = 12.7 # internal diameter in mm\n",
    "t = 1.5 # thickness in mm\n",
    "tau = 280 # ultimate shearing strength in N/mm**2\n",
    "F = pi*(D + d)*t*tau # total cutting force in N\n",
    "F_s = pi*D*t*tau # cutting force when punches are staggered in N\n",
    "k = 0.6 # penetration\n",
    "i = 1 # shear of punch in mm\n",
    "F_p = (t*k*F)/(k*t +i)# cutting force when both punches act together in N \n",
    "print \"shear force when both punch act at same time and no shear is applied = %0.2f kN\"%( F/1000)\n",
    "print \"cutting force when punches are staggered = %0.1f kN\"%(F_s/1000)\n",
    "print \"cutting force when there is penetration and shear on punch = %0.1f kN\"%(F_p/1000)"
   ]
  },
  {
   "cell_type": "markdown",
   "metadata": {},
   "source": [
    "## Exa 2.7 : page 135"
   ]
  },
  {
   "cell_type": "code",
   "execution_count": 7,
   "metadata": {
    "collapsed": false
   },
   "outputs": [
    {
     "name": "stdout",
     "output_type": "stream",
     "text": [
      "Amount of shear on punch = 1 mm\n"
     ]
    }
   ],
   "source": [
    "D = 60 # hole diameter in mm\n",
    "tau = 450 # ultimate shear strength in N/mm**2\n",
    "t = 2.5 # thickness in mm\n",
    "F = pi*D*t*tau # maximum punch force in N\n",
    "w = F*0.4*t # work done in Nm\n",
    "f = F/2 # punching force in N\n",
    "k = 0.4 # penetration percentage\n",
    "i = k*t*(F-f)/f # shear on punch in mm\n",
    "print \"Amount of shear on punch = %d mm\"%( i)"
   ]
  },
  {
   "cell_type": "markdown",
   "metadata": {},
   "source": [
    "## Exa 2.8 : page 136"
   ]
  },
  {
   "cell_type": "code",
   "execution_count": 8,
   "metadata": {
    "collapsed": false
   },
   "outputs": [
    {
     "name": "stdout",
     "output_type": "stream",
     "text": [
      " Value of back scrap = 4.7 mm\n",
      " Value of scrap bridge = 3.2 mm \n",
      " Width of strip = 11.00 cm\n",
      " Length of one piece of stock needed to produce one part = 2.82 cm\n",
      " Number of parts = 84.0 blanks\n",
      " Scrap remaining at the end = 2.88 mm\n"
     ]
    }
   ],
   "source": [
    "from math import ceil\n",
    "# from fig 2.27\n",
    "w = 2.5 # cm\n",
    "t = 3.2 # strip thickness in mm\n",
    "h = 10 # cm\n",
    "a = t + 0.015*h*10 # back scrap and front scrap in mm\n",
    "b = t # scrap bridge in mm\n",
    "W = h + (2*a)/10 # width of strip in cm\n",
    "W = ceil(W) # cm\n",
    "s = w + b/10 # length of one piece of stock in cm\n",
    "L = 240 # length of strip in cm\n",
    "N = (L-b)/s # number of parts\n",
    "y = L - (N*s + b/10)  # scrap remaining at the end in mm\n",
    "print \" Value of back scrap = %0.1f mm\\n Value of scrap bridge = %0.1f mm \"%( a , b  )\n",
    "print \" Width of strip = %0.2f cm\\n Length of one piece of stock needed to produce one part = %0.2f cm\"%( W , s)\n",
    "print \" Number of parts = %0.1f blanks\\n Scrap remaining at the end = %0.2f mm\"%( N , y)\n",
    "# Answers vary due to round off error"
   ]
  },
  {
   "cell_type": "markdown",
   "metadata": {},
   "source": [
    "## Exa 2.9 : page 137"
   ]
  },
  {
   "cell_type": "code",
   "execution_count": 9,
   "metadata": {
    "collapsed": false
   },
   "outputs": [
    {
     "name": "stdout",
     "output_type": "stream",
     "text": [
      "(i) size of blank = 118.20 mm \n",
      "(ii) Percentage reduction = 57.7 percent \n",
      "(iii) Number of draws = 2 \n",
      "(iv) Radius on punch = 4 mm \n",
      " Die Radius = 6 mm \n",
      "(v) Die clearance for first draw = 0.87 mm \n",
      " die clearance for second draw = 0.88 mm\n",
      " Punch diameter for second draw = 48.4 mm \n",
      " Die opening diameter for second draw = 50.16 mm \n",
      " Punch diameter for first draw  = 63.412 mm \n",
      " Die opening diameter for first draw = 66.752 mm\n",
      "(vi) Drawing pressure = 91.97 mm \n",
      "(vii) Blank holding pressure = 30 kN \n",
      "(viii) Press capacity = 150 kN\n"
     ]
    }
   ],
   "source": [
    "from math import pi, sqrt\n",
    "# from figure 2.73\n",
    "t = 0.8 # thickness in mm\n",
    "d = 50 # shell diameter in mm\n",
    "r = 1.6 # radius of bottom corner in mm\n",
    "h = 50 # height in mm\n",
    "D = sqrt(d**2 + 4*d*h) # shell blank size in mm\n",
    "el = 6.4 # extra length required to add in shell blank size\n",
    "D = D + el # mm\n",
    "pr = 100*(1-(d/D)) # percentage reduction\n",
    "ratio = h/d \n",
    "n = 2 # number of draws\n",
    "R1 = 45 # first reduction\n",
    "D1 = D - R1*D/100 # diameter at first reduction in mm\n",
    "R2 = 100*(1-(d/D1)) # second reduction \n",
    "PR = 4*t # punch radius in mm\n",
    "PR = ceil(PR)\n",
    "DR = 6 # die radius in mm\n",
    "DC1 = 0.87 # die clearance for first draw in mm\n",
    "DC2 = 0.88 # die clearance for second draw in mm\n",
    "PD2 = d - 2*t # punch diameter for second draw in mm\n",
    "DD2 = PD2 + 2*DC2 # Die opening diameter for second draw in mm\n",
    "PD1 = D1 - 2*t # punch diameter for first draw in mm\n",
    "DD1 = D1 + 2*DC1 # Die opening diameter for first draw in mm\n",
    "# Drawing pressure\n",
    "c = 0.65 # constant\n",
    "sigma = 427 # N/mm**2\n",
    "F = pi*d*t*sigma*(D/d-c) # Drawing pressure in mm\n",
    "Bhp = 30.8 # blanking holding pressure in kN\n",
    "pc = 150 # press capacity in kN\n",
    "print \"(i) size of blank = %0.2f mm \\n(ii) Percentage reduction = %0.1f percent \\n(iii) Number of draws = %d \\n(iv) Radius on punch = %d mm \\n Die Radius = %d mm \\n(v) Die clearance for first draw = %0.2f mm \\n die clearance for second draw = %0.2f mm\"%( D , pr,n,PR,DR,DC1,DC2)\n",
    "print \" Punch diameter for second draw = %0.1f mm \\n Die opening diameter for second draw = %0.2f mm \\n Punch diameter for first draw  = %0.3f mm \\n Die opening diameter for first draw = %0.3f mm\\n(vi) Drawing pressure = %0.2f mm \\n(vii) Blank holding pressure = %d kN \\n(viii) Press capacity = %d kN\"%( PD2 , DD2 ,PD1 ,DD1 , F/1000 ,Bhp , pc)  \n",
    "# Answers vary due to round off error"
   ]
  },
  {
   "cell_type": "markdown",
   "metadata": {},
   "source": [
    "## Exa 2.10 : page 138"
   ]
  },
  {
   "cell_type": "code",
   "execution_count": 10,
   "metadata": {
    "collapsed": false
   },
   "outputs": [
    {
     "name": "stdout",
     "output_type": "stream",
     "text": [
      "Developed length = 187.22 mm\n"
     ]
    }
   ],
   "source": [
    "from math import pi\n",
    "# from figure 2.74\n",
    "l1 = 76 - ( 2.3 + 0.90) # length1 in mm\n",
    "l2 = 115 - (2.3 + 0.90) # length2 in mm\n",
    "t = 2.3 # mm\n",
    "r = 0.90 # inner radius in mm\n",
    "k = t/3 # mm\n",
    "B = 0.5*pi*(r + k) # bending allowance in mm\n",
    "d = l1 + l2 + B # developed length in mm\n",
    "print \"Developed length = %0.2f mm\"%( d)\n",
    "# Answers vary due to round off error"
   ]
  },
  {
   "cell_type": "markdown",
   "metadata": {},
   "source": [
    "## Exa 2.11 : page 139"
   ]
  },
  {
   "cell_type": "code",
   "execution_count": 11,
   "metadata": {
    "collapsed": false
   },
   "outputs": [
    {
     "name": "stdout",
     "output_type": "stream",
     "text": [
      "bending force = 111.25 kN\n"
     ]
    }
   ],
   "source": [
    "from math import floor\n",
    "t = 3.2 # thickness of blank in mm\n",
    "l = 900 # bending length in mm\n",
    "sigma = 400 # ultimate tensile strength in N/mm**2\n",
    "k = 0.67 # die opening factor\n",
    "r1 = 9.5 # punch radius in mm\n",
    "r2 = 9.5 # die edge radius in mm\n",
    "c = 3.2 # clearance in mm\n",
    "w = r1 + r2 + c # width between contact points batween die and punch in mm\n",
    "F= (k*l*sigma*t**2)/w # bending force in N\n",
    "F=floor(F/10)*10 # N\n",
    "print \"bending force = %0.2f kN\"%(F/1000)"
   ]
  },
  {
   "cell_type": "markdown",
   "metadata": {},
   "source": [
    "## Exa 2.12 : page 139"
   ]
  },
  {
   "cell_type": "code",
   "execution_count": 12,
   "metadata": {
    "collapsed": false
   },
   "outputs": [
    {
     "name": "stdout",
     "output_type": "stream",
     "text": [
      "bending force  = 145.24 kN\n"
     ]
    }
   ],
   "source": [
    "k = 1.33 # die opening factor\n",
    "l = 1200 # bend length in mm\n",
    "sigma = 455 # ultimate tensile strength in N/mm**2\n",
    "t = 1.6 # blank thickness in mm\n",
    "w = 8*t # width of die opening in mm\n",
    "F = k*l*sigma*t**2/w # bending force in N \n",
    "print \"bending force  = %0.2f kN\"%(F/1000)"
   ]
  },
  {
   "cell_type": "markdown",
   "metadata": {},
   "source": [
    "## Exa 2.13 : page 140"
   ]
  },
  {
   "cell_type": "code",
   "execution_count": 13,
   "metadata": {
    "collapsed": false
   },
   "outputs": [
    {
     "name": "stdout",
     "output_type": "stream",
     "text": [
      "Force required when bottoming is used  = 18.2 tonnes\n",
      "Force required when bottoming is not used  = 1.263 tonnes\n"
     ]
    }
   ],
   "source": [
    "c = 1.25 # clearance in mm\n",
    "r1 = 3 # die radius in mm\n",
    "r2 = 1.5 # punch radius in mm\n",
    "sigma = 315 # ultimate tensile strength in MPa\n",
    "t = 1 # thickness in mm\n",
    "l = 50 # width at bend in mm\n",
    "w = r1 + r2 +c # width between contact points on die and punch in mm\n",
    "F = 0.67*l*sigma*t**2/w # bending force in N\n",
    "F_p = 0.67*sigma*l*t # pad force in N\n",
    "sigma_c = 560 # setting pressure in MPa\n",
    "b1 = 2 # beads on punch\n",
    "b = b1*r1 # mm\n",
    "F_b = sigma_c*l*b # bottoming force in N\n",
    "F_o = F_p + F_b # Force required when bottoming is used in N\n",
    "F_n = F +F_p # Force required when bottoming is not used in N\n",
    "print \"Force required when bottoming is used  = %0.1f tonnes\"%(F_o/(9.81*1000))\n",
    "print \"Force required when bottoming is not used  = %0.3f tonnes\"%( F_n/(9.81*1000))"
   ]
  },
  {
   "cell_type": "markdown",
   "metadata": {},
   "source": [
    "## Exa 2.14 : page 140"
   ]
  },
  {
   "cell_type": "code",
   "execution_count": 14,
   "metadata": {
    "collapsed": false
   },
   "outputs": [
    {
     "name": "stdout",
     "output_type": "stream",
     "text": [
      "cutting force with parallel cutting edges = 3.825 MN\n",
      "cutting force when shear is considered = 91.48 kN \n"
     ]
    }
   ],
   "source": [
    "from math import sin, pi\n",
    "w = 2 # width in mm\n",
    "t = 5 # thickness in mm\n",
    "theta=6 # shear in degrees\n",
    "tau = 382.5 # ultimate shear stress in MPa\n",
    "F = w*t*tau*1000 # cutting force in N\n",
    "l = t/sin(theta*pi/180) # length to be cut in mm\n",
    "F_i = l*t*tau # cutting force in N\n",
    "print \"cutting force with parallel cutting edges = %0.3f MN\\ncutting force when shear is considered = %0.2f kN \"%(F/10**6 ,F_i/1000)"
   ]
  },
  {
   "cell_type": "markdown",
   "metadata": {},
   "source": [
    "## Exa 2.15 : page 141"
   ]
  },
  {
   "cell_type": "code",
   "execution_count": 15,
   "metadata": {
    "collapsed": false
   },
   "outputs": [
    {
     "name": "stdout",
     "output_type": "stream",
     "text": [
      " Blank diameter = 220 mm \n",
      " Thickness ratio = 0.453 \n",
      " Diameter for first draw = 121 mm \n",
      " Depth of first draw = 61.39 mm \n",
      " Press capacity = 177.92 kN\n"
     ]
    }
   ],
   "source": [
    "from math import pi, sqrt\n",
    "d1 = 105 # inside diameter in mm\n",
    "h = 90 # depth in mm\n",
    "t = 1 # thickness in mm\n",
    "D = sqrt(d1**2+4*d1*h) # blank diameter in mm\n",
    "tr = t*100/D # thickness ratio\n",
    "# from table safe drawing ratio is 1.82\n",
    "r = 1.82 # draw ratio\n",
    "d2 = D/r # diameter for first draw in mm\n",
    "d = 130 # Let diameter for first draw in mm\n",
    "ratio1 = D/d # D/d for first draw \n",
    "ratio2 = d/d1 # D/d for second draw\n",
    "h1 =((D)**2-(d)**2)/(4*d) # Depth of first draw in mm\n",
    "sigma = 415 # N/mm**2\n",
    "c = 0.65 # constant\n",
    "pc = pi*d*t*sigma*(D/d - c) # press capacity in kN\n",
    "print \" Blank diameter = %d mm \\n Thickness ratio = %0.3f \\n Diameter for first draw = %d mm \\n Depth of first draw = %0.2f mm \\n Press capacity = %0.2f kN\"%(D,tr,d2,h1,pc/1000)\n",
    "# Answers vary due to round off error"
   ]
  },
  {
   "cell_type": "markdown",
   "metadata": {},
   "source": [
    "## Exa 2.16 : page 142"
   ]
  },
  {
   "cell_type": "code",
   "execution_count": 16,
   "metadata": {
    "collapsed": false
   },
   "outputs": [
    {
     "name": "stdout",
     "output_type": "stream",
     "text": [
      " Diameter after first draw = 14.7 \n",
      " Diameter after second draw = 8.82 \n",
      " Percentage reduction after third draw = 9 percent\n",
      " Height of cup after first draw = 11.02 cm\n",
      " Height of cup after second draw = 22.29 cm\n",
      " Height of cup after third draw = 25.00 cm\n",
      " Drawing force = 56.817 kN\n"
     ]
    }
   ],
   "source": [
    "from math import pi, sqrt\n",
    "d = 80 # diameter in mm\n",
    "h = 250 # height in mm\n",
    "D = sqrt((d**2+4*d*h))/10 # blank diameter in cm\n",
    "D1 = 0.5*D # diameter after first draw in cm\n",
    "# let reduction be 40% in second draw\n",
    "D2 = D1-0.4*D1 # diameter after scond draw in cm\n",
    "R = (1 - (d/(10*D2)))*100 # percentage reduction for third draw\n",
    "l1 = ((D)**2-(D1)**2)/(4*D1) # height of cup after first draw in cm\n",
    "l2 = ((D)**2-(D2)**2)/(4*D2) # height of cup after first draw in cm\n",
    "l3 = ((D)**2-(d/10)**2)/(4*d/10) # height of cup after first draw in cm\n",
    "t = 3 # mm\n",
    "sigma = 250 # N/mm**2\n",
    "C = 0.66\n",
    "F = pi*d/10*t*sigma*((D*10/d)-C) # drawing force in kN\n",
    "print \" Diameter after first draw = %0.1f \\n Diameter after second draw = %0.2f \\n Percentage reduction after third draw = %d percent\"%(D1,D2,R)\n",
    "print \" Height of cup after first draw = %0.2f cm\\n Height of cup after second draw = %0.2f cm\\n Height of cup after third draw = %0.2f cm\"%(l1,l2,l3)\n",
    "print \" Drawing force = %0.3f kN\"%(F/1000)\n",
    "# Answers vary due to round off error"
   ]
  },
  {
   "cell_type": "markdown",
   "metadata": {},
   "source": [
    "## Exa 2.17 : page 143"
   ]
  },
  {
   "cell_type": "code",
   "execution_count": 17,
   "metadata": {
    "collapsed": false
   },
   "outputs": [
    {
     "name": "stdout",
     "output_type": "stream",
     "text": [
      "Total developed length = 1003.39 mm\n"
     ]
    }
   ],
   "source": [
    "from math import pi\n",
    "# from figure 2.75 (a)\n",
    "r1 = 30 # radius in mm\n",
    "t = 10 # thickness in mm\n",
    "h1 = 300 # height in mm\n",
    "ir1 = r1-t # inner radius of bends in mm\n",
    "L1 = h1-(ir1+t) # mm\n",
    "alpha1 = 90 # degree\n",
    "r2 = 2*t # mm\n",
    "k = 0.33*t # mm\n",
    "L2 = alpha1*2*pi*(r2+k)/360 # mm\n",
    "w = 200 # mm\n",
    "L3 = w-2*(t+ir1)# mm\n",
    "L4 = L2 #mm\n",
    "h2 = 100 # mm\n",
    "L5 = h2 -(t+ir1) # mm\n",
    "r3 = 150 #mm \n",
    "ir2 = r3 - t # inner radius in mm\n",
    "alpha2 = 180 # degree\n",
    "L6 = alpha2*2*pi*(ir2+k)/360 # mm\n",
    "dl = L1+L2+L3+L4+L5+L6 # Total developed length in mm\n",
    "print \"Total developed length = %0.2f mm\"%( dl)\n",
    "# Answers vary due to round off error"
   ]
  }
 ],
 "metadata": {
  "kernelspec": {
   "display_name": "Python 2",
   "language": "python",
   "name": "python2"
  },
  "language_info": {
   "codemirror_mode": {
    "name": "ipython",
    "version": 2
   },
   "file_extension": ".py",
   "mimetype": "text/x-python",
   "name": "python",
   "nbconvert_exporter": "python",
   "pygments_lexer": "ipython2",
   "version": "2.7.9"
  }
 },
 "nbformat": 4,
 "nbformat_minor": 0
}
