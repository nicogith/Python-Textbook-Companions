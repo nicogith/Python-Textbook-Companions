{
 "metadata": {
  "name": "",
  "signature": "sha256:5bc56c95b22d583a7568a500392ee20c7c472ceecf3eb82a9988fbcc6ba64b17"
 },
 "nbformat": 3,
 "nbformat_minor": 0,
 "worksheets": [
  {
   "cells": [
    {
     "cell_type": "heading",
     "level": 1,
     "metadata": {},
     "source": [
      "Chapter 16 : Gear Manufacturing"
     ]
    },
    {
     "cell_type": "heading",
     "level": 2,
     "metadata": {},
     "source": [
      "Exa 16.1 : Page 648"
     ]
    },
    {
     "cell_type": "code",
     "collapsed": false,
     "input": [
      "from math import sin, pi, cos\n",
      "n = 34 # number of teeths\n",
      "m = 5 # module in mm\n",
      "w = m*n*sin (pi/(n*2)) #tooth thickness in mm\n",
      "h = m*(1+(n*(1 - cos(pi/(n*2)))/2)) # chordal addendum in mm\n",
      "print \" Tooth thickness = %0.3f mm\\n Chordal addendum = %0.3f mm\"%(w ,h)\n",
      "# Answers vary due to round off error"
     ],
     "language": "python",
     "metadata": {},
     "outputs": [
      {
       "output_type": "stream",
       "stream": "stdout",
       "text": [
        " Tooth thickness = 7.851 mm\n",
        " Chordal addendum = 5.091 mm\n"
       ]
      }
     ],
     "prompt_number": 1
    }
   ],
   "metadata": {}
  }
 ]
}