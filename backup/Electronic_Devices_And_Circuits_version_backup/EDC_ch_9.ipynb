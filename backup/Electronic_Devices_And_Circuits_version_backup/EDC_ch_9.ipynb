{
 "metadata": {
  "name": ""
 },
 "nbformat": 3,
 "nbformat_minor": 0,
 "worksheets": [
  {
   "cells": [
    {
     "cell_type": "heading",
     "level": 1,
     "metadata": {},
     "source": [
      "Chapter 9: Uninjunction Transistor"
     ]
    },
    {
     "cell_type": "heading",
     "level": 2,
     "metadata": {},
     "source": [
      "example 9.1, Page No.310"
     ]
    },
    {
     "cell_type": "code",
     "collapsed": false,
     "input": [
      "#Stand of voltage and peak point Voltage\n",
      "import math\n",
      "#variable declaration\n",
      "\n",
      "VBB=20                       #in volt\n",
      "VB=0.7                       #in volt(For Si)\n",
      "ETA=0.6                      #intrinsic stand off ratio\n",
      "\n",
      "#Part (i)\n",
      "#calculations\n",
      "StandOffVoltage=ETA*VBB;     #in volt\n",
      "\n",
      "#Resuly\n",
      "print(\"\\n(i)\\nStand Off Voltage in volts :%.0f\"%StandOffVoltage)\n",
      "\n",
      "#Part (ii)\n",
      "#calculations\n",
      "VP=ETA*VBB+VB               #in volts\n",
      "\n",
      "#Result\n",
      "print(\"\\n(ii)\\nPeak point Voltage in volts : %.1f\"%VP)"
     ],
     "language": "python",
     "metadata": {},
     "outputs": [
      {
       "output_type": "stream",
       "stream": "stdout",
       "text": [
        "\n",
        "(i)\n",
        "Stand Off Voltage in volts :12\n",
        "\n",
        "(ii)\n",
        "Peak point Voltage in volts : 12.7\n"
       ]
      }
     ],
     "prompt_number": 4
    },
    {
     "cell_type": "heading",
     "level": 2,
     "metadata": {},
     "source": [
      "example 9.2, Page no. 310"
     ]
    },
    {
     "cell_type": "code",
     "collapsed": false,
     "input": [
      "#Time period of sawtooth waveform\n",
      "import math\n",
      "\n",
      "#variable declaration\n",
      "VP=10.0                                   #in volt\n",
      "R=100.0                                   #in Kohm\n",
      "C=1000.0                                  #in pF\n",
      "VBB=20.0                                  #in Volts\n",
      "ETA=VP/VBB                                #intrinsic stand off ratio\n",
      "\n",
      "#calculations\n",
      "T=R*10**3*C*10**-12*math.log(1/(1-ETA))   #in sec\n",
      "\n",
      "#Resullt\n",
      "print(\"Time period of sawtooth wave in micro seconds : %.2f\"%(T*10**6))"
     ],
     "language": "python",
     "metadata": {},
     "outputs": [
      {
       "output_type": "stream",
       "stream": "stdout",
       "text": [
        "Time period of sawtooth wave in micro seconds : 69.31\n"
       ]
      }
     ],
     "prompt_number": 8
    },
    {
     "cell_type": "heading",
     "level": 2,
     "metadata": {},
     "source": [
      "example 9.3, Page No.311"
     ]
    },
    {
     "cell_type": "code",
     "collapsed": false,
     "input": [
      "#Resistances RB1 and RB2\n",
      "import math\n",
      "#variable declaration\n",
      "RBB=10                                #in Kohm\n",
      "ETA=0.6                               #intrinsic stand off ratio\n",
      "\n",
      "#calculation\n",
      "RB1=ETA*RBB                           #in Kohm\n",
      "RB2=RBB-RB1                           #in Kohm\n",
      "\n",
      "#Result\n",
      "print(\"Resistance RB1 in Kohm :%.0f\"%RB1)\n",
      "print(\"Resistance RB2 in Kohm :%.0f\"%RB2)"
     ],
     "language": "python",
     "metadata": {},
     "outputs": [
      {
       "output_type": "stream",
       "stream": "stdout",
       "text": [
        "Resistance RB1 in Kohm :6\n",
        "Resistance RB2 in Kohm :4\n"
       ]
      }
     ],
     "prompt_number": 10
    }
   ],
   "metadata": {}
  }
 ]
}