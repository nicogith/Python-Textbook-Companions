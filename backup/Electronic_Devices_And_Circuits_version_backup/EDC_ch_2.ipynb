{
 "metadata": {
  "name": ""
 },
 "nbformat": 3,
 "nbformat_minor": 0,
 "worksheets": [
  {
   "cells": [
    {
     "cell_type": "heading",
     "level": 1,
     "metadata": {},
     "source": [
      "Chapter No.2: Bipolar junction Transistors(BJTs)"
     ]
    },
    {
     "cell_type": "heading",
     "level": 2,
     "metadata": {},
     "source": [
      "example 2.1 , Page No. 63"
     ]
    },
    {
     "cell_type": "code",
     "collapsed": false,
     "input": [
      "#Current amplification factors\n",
      "import math\n",
      "#variable declaration\n",
      "deltaIB=50.0                               #in uA\n",
      "deltaIC=1.0                                #in mA\n",
      "\n",
      "#Calculations\n",
      "deltaIC=deltaIC*10**3                    #in uA\n",
      "Beta=deltaIC/deltaIB                     #unitless\n",
      "Alfa=Beta/(1+Beta)                       #unittless\n",
      "\n",
      "#Result\n",
      "print(\"Current Amplification Factor,Beta :%.0f\"%Beta)\n",
      "print(\"Current Amplification Factor,Alfa :%.3f or 20/21\"%(Alfa))"
     ],
     "language": "python",
     "metadata": {},
     "outputs": [
      {
       "output_type": "stream",
       "stream": "stdout",
       "text": [
        "Current Amplification Factor,Beta :20\n",
        "Current Amplification Factor,Alfa :0.952 or 20/21\n"
       ]
      }
     ],
     "prompt_number": 1
    },
    {
     "cell_type": "heading",
     "level": 2,
     "metadata": {},
     "source": [
      "example 2.2, Page No.63"
     ]
    },
    {
     "cell_type": "code",
     "collapsed": false,
     "input": [
      "#Value of IE\n",
      "import math\n",
      "#variable Declaration\n",
      "IB=25.0                       #in uA\n",
      "Beta=40.0                     #unitless\n",
      "\n",
      "#Calculations\n",
      "IC=Beta*IB                    #in uA\n",
      "IE=IB+IC                      #in uA\n",
      "\n",
      "#Result\n",
      "print(\"The value of IE : %.0f micro Ampere\"%IE)"
     ],
     "language": "python",
     "metadata": {},
     "outputs": [
      {
       "output_type": "stream",
       "stream": "stdout",
       "text": [
        "The value of IE : 1025 micro Ampere\n"
       ]
      }
     ],
     "prompt_number": 127
    },
    {
     "cell_type": "heading",
     "level": 2,
     "metadata": {},
     "source": [
      "example 2.3, page No.63"
     ]
    },
    {
     "cell_type": "code",
     "collapsed": false,
     "input": [
      "#Change in collector current\n",
      "import math\n",
      "#variable declaration\n",
      "alfa=0.98                          #unitless\n",
      "deltaIB=0.2                        #in mA\n",
      "\n",
      "#calculations\n",
      "Beta=alfa/(1-alfa)                 #unitless\n",
      "deltaIC=Beta*deltaIB               #in mA\n",
      "\n",
      "#result\n",
      "print(\"Change in collector curent :%.0f mA \"% (deltaIC))"
     ],
     "language": "python",
     "metadata": {},
     "outputs": [
      {
       "output_type": "stream",
       "stream": "stdout",
       "text": [
        "Change in collector curent :10 mA \n"
       ]
      }
     ],
     "prompt_number": 128
    },
    {
     "cell_type": "heading",
     "level": 2,
     "metadata": {},
     "source": [
      "example 2.4, Page No.64"
     ]
    },
    {
     "cell_type": "code",
     "collapsed": false,
     "input": [
      "#nput current in CE and CB configuration\n",
      "import math\n",
      "#variable declaration\n",
      "Beta=45                               #unitless\n",
      "RL=1.0                                #in kOhm\n",
      "deltaVCE=1                            #in volt\n",
      "\n",
      "\n",
      "#calculation\n",
      "\n",
      "#(i)\n",
      "IC=deltaVCE/(RL*1000)                 #in Ampere\n",
      "#Formula : Beta=deltaIC/deltaIB\n",
      "IB=IC/Beta                            #in Ampere\n",
      "\n",
      "#(ii)\n",
      "IC=deltaVCE/(RL*1000)                 #in Ampere\n",
      "#Formula : Beta=deltaIC/deltaIB\n",
      "IE=IB+IC                              #in Ampere\n",
      "\n",
      "#result\n",
      "print(\"Part (i) : CE coniguration\\n\")\n",
      "print(\"Input Base Current, IB in mA :%.3f \"%(IB*10**3))\n",
      "print(\"\\nPart (ii) : CB coniguration\\n\")\n",
      "print(\"Input Emitter Current, IE in mA :%.3f \"%(IE*10**3))\n"
     ],
     "language": "python",
     "metadata": {},
     "outputs": [
      {
       "output_type": "stream",
       "stream": "stdout",
       "text": [
        "Part (i) : CE coniguration\n",
        "\n",
        "Input Base Current, IB in mA :0.022 \n",
        "\n",
        "Part (ii) : CB coniguration\n",
        "\n",
        "Input Emitter Current, IE in mA :1.022 \n"
       ]
      }
     ],
     "prompt_number": 129
    },
    {
     "cell_type": "heading",
     "level": 2,
     "metadata": {},
     "source": [
      "example 2.5, Page No.64"
     ]
    },
    {
     "cell_type": "code",
     "collapsed": false,
     "input": [
      "#Current gain and base current\n",
      "import math\n",
      "#variable declaration\n",
      "Ileakage=12.5                       #in uA\n",
      "ICBO=12.5                           #in uA\n",
      "IE=2                                #in mA\n",
      "IC=1.97                             #in mA\n",
      "\n",
      "#calculation\n",
      "#Formula : IC=alfa*IE+ICBO\n",
      "alfa=(IC-ICBO/10**3)/IE             #unitless\n",
      "IB=IE-IC                            #in mA\n",
      "\n",
      "#result\n",
      "print(\"Current Gain : %.3f\"%(math.floor(alfa*1000)/1000))\n",
      "print(\"Base current in mA : %.2f\"%IB)"
     ],
     "language": "python",
     "metadata": {},
     "outputs": [
      {
       "output_type": "stream",
       "stream": "stdout",
       "text": [
        "Current Gain : 0.978\n",
        "Base current in mA : 0.03\n"
       ]
      }
     ],
     "prompt_number": 130
    },
    {
     "cell_type": "heading",
     "level": 2,
     "metadata": {},
     "source": [
      "example 2.6, Page No.64"
     ]
    },
    {
     "cell_type": "code",
     "collapsed": false,
     "input": [
      "#Input resistance of transistor\n",
      "import math\n",
      "#variable declaration\n",
      "deltaVBE=200.0                        #in mVolt\n",
      "deltaIB=100                           #in uA\n",
      "\n",
      "#calculations\n",
      "ri=deltaVBE*10**-3/(deltaIB*10**-6)   #in Ohm\n",
      "\n",
      "#Result\n",
      "print(\"Input resistane of transistor in kohm :%.0f\"%(ri/1000))"
     ],
     "language": "python",
     "metadata": {},
     "outputs": [
      {
       "output_type": "stream",
       "stream": "stdout",
       "text": [
        "Input resistane of transistor in kohm :2\n"
       ]
      }
     ],
     "prompt_number": 131
    },
    {
     "cell_type": "heading",
     "level": 2,
     "metadata": {},
     "source": [
      "example 2.7, Page No.64"
     ]
    },
    {
     "cell_type": "code",
     "collapsed": false,
     "input": [
      "#Dynamic input resistance\n",
      "import math\n",
      "#variable declaration\n",
      "deltaVEB=200.0                         #in mVolt\n",
      "deltaIE=5.0                            #in mA\n",
      "\n",
      "#calculation\n",
      "ri=deltaVEB*10**-3/(deltaIE*10**-3)    #in Ohm\n",
      "\n",
      "#Result\n",
      "print(\"Input resistane of transistor in Ohm :%.0f\"%ri)"
     ],
     "language": "python",
     "metadata": {},
     "outputs": [
      {
       "output_type": "stream",
       "stream": "stdout",
       "text": [
        "Input resistane of transistor in Ohm :40\n"
       ]
      }
     ],
     "prompt_number": 132
    },
    {
     "cell_type": "heading",
     "level": 2,
     "metadata": {},
     "source": [
      "example 2.9, Page No.72"
     ]
    },
    {
     "cell_type": "code",
     "collapsed": false,
     "input": [
      "#Current gain input resistance and voltage gain\n",
      "import math\n",
      "#variable declaration\n",
      "Ri=500.0                              #in Ohm\n",
      "RL=1.0                                #in kOhm\n",
      "hie=1.0                               #in kOhm\n",
      "hre=2.0*10**-4                        #unitless\n",
      "hfe=50.0                              #unitless\n",
      "hoe=25.0                              #micro mho\n",
      "\n",
      "#Calculations\n",
      "#Part (a) :\n",
      "Ai=-hfe/(1+hoe*10**-6*RL*10**3)                       #unitless\n",
      "#Part (b) :\n",
      "Rin=(hie*10**3)-(hre*hfe/((hoe*10**-6)+1/(RL*10**3)))     #in Ohm\n",
      "#Part (c) :\n",
      "Av=Ai*RL*10**3/Ri                                     #unitless\n",
      "\n",
      "#Result\n",
      "print(\"(a)\\nCurrent Gain :%.1f \"%Ai)\n",
      "print(\"(b)\\nInput Resistance in Ohm :%.2f\"%Rin)\n",
      "print(\"(c)\\nVoltage Gain :%.1f \"%Av)"
     ],
     "language": "python",
     "metadata": {},
     "outputs": [
      {
       "output_type": "stream",
       "stream": "stdout",
       "text": [
        "(a)\n",
        "Current Gain :-48.8 \n",
        "(b)\n",
        "Input Resistance in Ohm :990.24\n",
        "(c)\n",
        "Voltage Gain :-97.6 \n"
       ]
      }
     ],
     "prompt_number": 133
    },
    {
     "cell_type": "heading",
     "level": 2,
     "metadata": {},
     "source": [
      "example 2.10, Page No.78"
     ]
    },
    {
     "cell_type": "code",
     "collapsed": false,
     "input": [
      "#Collector emitter saturation voltage\n",
      "import math\n",
      "\n",
      "#variable declaration\n",
      "alfaF=0.99                          #unitless\n",
      "alfaR=0.20                          #unitless\n",
      "IC=1.0                              #in mA\n",
      "IB=50.0                             #in micro Ampere\n",
      "T=300                               #in kelvin\n",
      "k=1.38*10**-23                      #Boltzman constant\n",
      "e=1.6*10**-19                       #in cooulamb\n",
      "\n",
      "#Calculation\n",
      "Vth=k*T/e                           #in Volt\n",
      "VCEsat=Vth*math.log(((IC*10**-3*(1-alfaR)+IB*10**-6)*alfaF)/((alfaF*IB*10**-6-(1-alfaF)*IC*10**-3)*alfaR))\n",
      "\n",
      "#Result\n",
      "print(\"Collector-Emitter saturation voltage in volt :%.3f\"%VCEsat)"
     ],
     "language": "python",
     "metadata": {},
     "outputs": [
      {
       "output_type": "stream",
       "stream": "stdout",
       "text": [
        "Collector-Emitter saturation voltage in volt :0.121\n"
       ]
      }
     ],
     "prompt_number": 134
    },
    {
     "cell_type": "heading",
     "level": 2,
     "metadata": {},
     "source": [
      "example 2.11, Page No.78"
     ]
    },
    {
     "cell_type": "code",
     "collapsed": false,
     "input": [
      "#Relative size of collector junction\n",
      "import math\n",
      "#variable declaration\n",
      "IES=10**-14                                 #in A\n",
      "alfaF=1                                     #unitless\n",
      "alfaR=0.1                                   #unitless\n",
      "\n",
      "#Calculations\n",
      "#Formula : alfaF*IES=alfaR*ICS\n",
      "ICS=(alfaF/alfaR)*IES                       #in Ampere\n",
      "RelativeSize=ICS/IES                        #unitless\n",
      "BetaR=alfaR/(1-alfaR)                       #unitless\n",
      "\n",
      "#Result\n",
      "print(\"Collector base junction saturation current in Ampere : %.1f * 10^-12\"%(ICS*10**12))\n",
      "print(\"\\nCollector is %.0f times larger in size than emitter\"%RelativeSize)\n",
      "print(\"\\nValue of BetaR :%.2f \"%BetaR)"
     ],
     "language": "python",
     "metadata": {},
     "outputs": [
      {
       "output_type": "stream",
       "stream": "stdout",
       "text": [
        "Collector base junction saturation current in Ampere : 0.1 * 10^-12\n",
        "\n",
        "Collector is 10 times larger in size than emitter\n",
        "\n",
        "Value of BetaR :0.11 \n"
       ]
      }
     ],
     "prompt_number": 135
    },
    {
     "cell_type": "heading",
     "level": 2,
     "metadata": {},
     "source": [
      "example 2.12, Page No.87"
     ]
    },
    {
     "cell_type": "code",
     "collapsed": false,
     "input": [
      "#DC load line and operating point\n",
      "import math\n",
      "#variable declaration\n",
      "Beta=100                                #unitless\n",
      "VCC=6                                   #in volt\n",
      "RB=530                                  #in kOhm\n",
      "RC=2                                    #in kOhm\n",
      "VBE=0.7                                 #in volt(For Si)\n",
      "\n",
      "#Part (i)\n",
      "IC1=0                                   #in A\n",
      "VCE1=VCC-IC1*RC                         #in volt\n",
      "#If VCE=0                               #in volt\n",
      "VCE2=0                                  #in volt\n",
      "IC2=VCC/RC                              #in Ampere\n",
      "################------------PLOT------------#############\n",
      "t = arange(0.0001,6 , 0.0005)\n",
      "t2 = arange(0.0001, 4, 0.0005)\n",
      "a=arange(0.001,1,0.0005)\n",
      "x=(4*a)/a\n",
      "plot(t2,1*t2/t2,'--')\n",
      "plot(x,a,'--')\n",
      "plot(t,(3-0.5*t),'b')\n",
      "text(4,1.1,'Q(4,1)')\n",
      "text(0.1,3.05,'A')\n",
      "text(6.05,0.1,'B')\n",
      "xlabel('VCE(in volts)')\n",
      "ylabel('IC(in mA)')\n",
      "title('DC load line')\n",
      "#########---------------------------------------##########\n",
      "#Formula : VCC=VBE+IB*RB\n",
      "IB=(VCC-VBE)/(RB*10**3)                 #in Ampere\n",
      "IC=Beta*IB;#in Ampere\n",
      "VCE=VCC-IC*RC*10**3                     #in volt\n",
      "print(\"Q point coordinates are :\");\n",
      "print(\"IC=%.1f mA and VCE=%.1f Volt.\"%((IC*10**3),(VCE)))\n"
     ],
     "language": "python",
     "metadata": {},
     "outputs": [
      {
       "output_type": "stream",
       "stream": "stdout",
       "text": [
        "Q point coordinates are :\n",
        "IC=1.0 mA and VCE=4.0 Volt.\n"
       ]
      },
      {
       "metadata": {},
       "output_type": "display_data",
       "png": "[encoded data removed]",
       "text": [
        "<matplotlib.figure.Figure at 0xa0c01d0>"
       ]
      }
     ],
     "prompt_number": 178
    },
    {
     "cell_type": "heading",
     "level": 2,
     "metadata": {},
     "source": [
      "example 2.13, Page No. 88"
     ]
    },
    {
     "cell_type": "code",
     "collapsed": false,
     "input": [
      "#RB and new value of IC\n",
      "import math\n",
      "#variable declaration\n",
      "Beta=100.0                        #unitless\n",
      "IC=1.0                            #in mA\n",
      "VCC=12.0                          #in volt\n",
      "VBE=0.3                           #in volt(For Ge)\n",
      "\n",
      "#calculation\n",
      "\n",
      "#Part (i)\n",
      "IB=IC/Beta                        #in mA\n",
      "#Formula : VCC=VBE+IB*RB\n",
      "RB=(VCC-VBE)/(IB*10**-3)          #in Ampere\n",
      "\n",
      "#part (ii)\n",
      "Beta=50                           #unitless\n",
      "IB=(VCC-VBE)/RB                   #in Ampere\n",
      "IC=Beta*IB                        #in Ampere\n",
      "\n",
      "#Result\n",
      "print(\"Resistance RB in kOhm : %.0f\"%(RB/10**3))\n",
      "print(\"Zero signal IC in mA:%.1f\"%(IC*10**3))"
     ],
     "language": "python",
     "metadata": {},
     "outputs": [
      {
       "output_type": "stream",
       "stream": "stdout",
       "text": [
        "Resistance RB in kOhm : 1170\n",
        "Zero signal IC in mA:0.5\n"
       ]
      }
     ],
     "prompt_number": 137
    },
    {
     "cell_type": "heading",
     "level": 2,
     "metadata": {},
     "source": [
      "example 2.14, Page No.88"
     ]
    },
    {
     "cell_type": "code",
     "collapsed": false,
     "input": [
      "#Set the operating point\n",
      "import math\n",
      "print(\"To set the required operating point, value of RB will be find out.\")\n",
      "\n",
      "#variable declaration\n",
      "IC=1.0                                          #in mA\n",
      "VCE=8.0                                         #in volt\n",
      "Beta=100.0                                      #unitless\n",
      "VCC=12.0                                        #in volt\n",
      "VBE=0.3                                         #in volt(For Ge)\n",
      "\n",
      "#calculation\n",
      "\n",
      "#Part (i)\n",
      "RC=(VCC-VCE)/(IC*10**-3)                      #in ohm\n",
      "IB=IC/Beta                                    #in mA\n",
      "RB=(VCC-VBE-Beta*(IB*10**-3)*RC)/(IB*10**-3)  #in Ohm\n",
      "\n",
      "#Part (ii)\n",
      "Beta=50                                       #unitless\n",
      "IB=(VCC-VBE)/(RB+Beta*RC)                     #in mA\n",
      "IC=Beta*IB                                    #in Ampere\n",
      "VCE=VCC-IC*RC                                 #in volt\n",
      "\n",
      "#Result\n",
      "print(\"Value of RB in kOhm : %.0f\"%(RB/1000))\n",
      "print(\"New operating point is %.1f V,%.1f mA\"%(VCE,IC*10**3))"
     ],
     "language": "python",
     "metadata": {},
     "outputs": [
      {
       "output_type": "stream",
       "stream": "stdout",
       "text": [
        "To set the required operating point, value of RB will be find out.\n",
        "Value of RB in kOhm : 770\n",
        "New operating point is 9.6 V,0.6 mA\n"
       ]
      }
     ],
     "prompt_number": 138
    },
    {
     "cell_type": "heading",
     "level": 2,
     "metadata": {},
     "source": [
      "example 2.15, Page No. 93"
     ]
    },
    {
     "cell_type": "code",
     "collapsed": false,
     "input": [
      "#Value of IC\n",
      "import math\n",
      "#variable declaration\n",
      "R1=50.0                                 #in kohm\n",
      "R2=10.0                                 #in kohm\n",
      "RE=1.0                                  #in kohm\n",
      "VCC=12.0                                #in volt\n",
      "\n",
      "#calaculation\n",
      "\n",
      "#Part (i)\n",
      "VBE=0.1                                   #in volt\n",
      "VBBdash=(R2/(R1+R2))*VCC                  #in volt\n",
      "IC1=(VBBdash-VBE)/(RE*1000)               #in mA\n",
      "\n",
      "#Part (ii)\n",
      "VBE=0.3                                   #in volt\n",
      "IC2=(VBBdash-VBE)/(RE*1000)               #in mA\n",
      "\n",
      "#result\n",
      "print(\"At VBE=0.1V, Value of IC in mA : %.1f\"%(IC1*1000))\n",
      "print(\"At VBE=0.3V, Value of IC in mA : %.1f\"%(IC2*1000))"
     ],
     "language": "python",
     "metadata": {},
     "outputs": [
      {
       "output_type": "stream",
       "stream": "stdout",
       "text": [
        "At VBE=0.1V, Value of IC in mA : 1.9\n",
        "At VBE=0.3V, Value of IC in mA : 1.7\n"
       ]
      }
     ],
     "prompt_number": 139
    },
    {
     "cell_type": "heading",
     "level": 2,
     "metadata": {},
     "source": [
      "example 2.16, Page No.94"
     ]
    },
    {
     "cell_type": "code",
     "collapsed": false,
     "input": [
      "#Operating point and stability factor\n",
      "import math\n",
      "#variable declaration\n",
      "R1=10.0                             #in kohm\n",
      "R2=5.0                              #in kohm\n",
      "RE=2.0                              #in kohm\n",
      "RC=1.0                              #in kohm\n",
      "VCC=12.0                            #in volt\n",
      "Beta=100.0                          #unitless\n",
      "VBE=0.7                             #in volt\n",
      "\n",
      "\n",
      "#calculation\n",
      "\n",
      "#Part (i)\n",
      "#Formula : VBE=VBBdash-IB*RBdash-IE*RE\n",
      "VBBdash=(R2/(R1+R2))*VCC          #in volt\n",
      "IE=(VBBdash-VBE)/(RE*10**3)       #in Ampere\n",
      "IC=IE                             #in mA\n",
      "#Formula : VCC=IC*RC+VCE+IE*RE\n",
      "VCE=VCC-IC*RC*10**3-IE*RE*10**3   #in Volt\n",
      "\n",
      "#Part (ii)\n",
      "RBdash=(R1*R2/(R1+R2))             #in kOhm\n",
      "S=(Beta+1)/(1+Beta*(RE/(RBdash+RE)))\n",
      "\n",
      "#Result\n",
      "print(\"IB is ver small : VBE=VBBdash-IE*RE\")\n",
      "print(\"As base current is very small IC=IE\\n\")\n",
      "print(\"Operating point is %.3f V, %.3f mA\\n\"%(VCE,IC*10**3))\n",
      "print(\"Staility factor S is : %.2f\"%(S))"
     ],
     "language": "python",
     "metadata": {},
     "outputs": [
      {
       "output_type": "stream",
       "stream": "stdout",
       "text": [
        "IB is ver small : VBE=VBBdash-IE*RE\n",
        "As base current is very small IC=IE\n",
        "\n",
        "Operating point is 7.050 V, 1.650 mA\n",
        "\n",
        "Staility factor S is : 2.62\n"
       ]
      }
     ],
     "prompt_number": 3
    },
    {
     "cell_type": "heading",
     "level": 2,
     "metadata": {},
     "source": [
      "example 2.17, Page No. 97"
     ]
    },
    {
     "cell_type": "code",
     "collapsed": false,
     "input": [
      "#IC and VCE\n",
      "import math\n",
      "#variable declaration\n",
      "R1=200.0                           #in kohm\n",
      "R2=100.0                           #in kohm\n",
      "RE=1.0                             #in kohm\n",
      "RC=1.0                             #in kohm\n",
      "VCC=9.0                            #in volt\n",
      "he=2.0                             #in kohm\n",
      "hfe=100.0                          #unitless\n",
      "hoe=0.0                            #unitless\n",
      "hre=0.0                            #unitless\n",
      "VBE=0.7                            #in volt(For Si)\n",
      "\n",
      "#Calculation\n",
      "\n",
      "#Part (i)\n",
      "RB=R1*R2/(R1+R2)                                      #in kohm\n",
      "VBBdash=(R2/(R1+R2))*VCC                              #in volt\n",
      "#Applying Kirchoff Law \n",
      "IB=(VBBdash-VBE)/(RB*10**3+RE*10**3*(1+hfe))          #in Ampere\n",
      "IC=hfe*IB                                             #in Ampere\n",
      "\n",
      "#Part (ii)\n",
      "#Applying Kirchoff Law \n",
      "VCE=VCC-IC*RC*10**3-RE*1063*IB*(hfe+1)                #in volt\n",
      "\n",
      "#Result\n",
      "print(\"Value of IC in mA : %.2f\"%(IC*10**3))\n",
      "print(\"VCE in volt :%.3f\"%VCE)\n",
      "#Note : Ans of VCE is wrong in the book as VCC=10 V has been taken instead of 9 volt."
     ],
     "language": "python",
     "metadata": {},
     "outputs": [
      {
       "output_type": "stream",
       "stream": "stdout",
       "text": [
        "Value of IC in mA : 1.37\n",
        "VCE in volt :6.155\n"
       ]
      }
     ],
     "prompt_number": 2
    },
    {
     "cell_type": "heading",
     "level": 2,
     "metadata": {},
     "source": [
      "example 2.18, Page No.99"
     ]
    },
    {
     "cell_type": "code",
     "collapsed": false,
     "input": [
      "#Region of Q point\n",
      "import math\n",
      "#variable declaration\n",
      "RB=50.0                                               #in kohm\n",
      "RC=3.0                                                #in kohm\n",
      "VCC=10.0                                              #in volt\n",
      "VEE=5.0                                               #in volt\n",
      "hfe=100.0                                             #unitless\n",
      "VCEsat=0.2                                            #in volt \n",
      "VBEsat=0.8                                            #in volt\n",
      "VBEactive=0.7                                         #in volt\n",
      "VBE=0.7                                               #in volt(For Si)\n",
      "\n",
      "#Calculations\n",
      "\n",
      "#Applying : Kirchoff 2nd Law : VEE-RB*IB-VBE=0\n",
      "IB=(VEE-VBE)/(RB*10**3)                               #in Ampere\n",
      "IC=hfe*IB                                             #in Ampere \n",
      "#Applying Kirchoff 2nd Law to collector-emitter loop: VCC-IC*RC-VCB-VBEactive=0\n",
      "VCB=VCC-IC*RC*10**3-VBEactive                         #in volt:\n",
      "IB=(VEE-VBEsat)/(RB*10**3)                            #in Ampere\n",
      "IC=(VCC-VCEsat)/(RC*10**3);\n",
      "\n",
      "#result\n",
      "print(\"Collector to base voltage, VCB :%.1fV\"%VCB)\n",
      "print(\"\\nThis shows that the base collector junction is forward biased. This implies that the transistor is in saturation region.\")\n",
      "print(\"\\nValue of IB in mA :%.3f\"%(IB*10**3))\n",
      "print(\"\\nValue of IC in mA :%.2f\"%(IC*10**3))"
     ],
     "language": "python",
     "metadata": {},
     "outputs": [
      {
       "output_type": "stream",
       "stream": "stdout",
       "text": [
        "Collector to base voltage, VCB :-16.5V\n",
        "\n",
        "This shows that the base collector junction is forward biased. This implies that the transistor is in saturation region.\n",
        "\n",
        "Value of IB in mA :0.084\n",
        "\n",
        "Value of IC in mA :3.27\n"
       ]
      }
     ],
     "prompt_number": 142
    },
    {
     "cell_type": "heading",
     "level": 2,
     "metadata": {},
     "source": [
      "example 2.19, Page No.100"
     ]
    },
    {
     "cell_type": "code",
     "collapsed": false,
     "input": [
      "#Voltage across RE\n",
      "import math\n",
      "#variable declaration\n",
      "VCC=20.0                                         #in volt\n",
      "VBE=0.7                                          #in volt(For Si)\n",
      "Beta=50.0                                        #unitless\n",
      "RE=200.0                                         #in ohm\n",
      "R1=60.0                                          #in kohm\n",
      "R2=30.0                                          #in kohm\n",
      "\n",
      "#calculation\n",
      "V2=VCC*R2/(R1+R2)                              #in volt\n",
      "VEO=V2-VBE                                     #in volt\n",
      "\n",
      "#result\n",
      "print(\"Voltage across RE in volt : %.2f\"%VEO)"
     ],
     "language": "python",
     "metadata": {},
     "outputs": [
      {
       "output_type": "stream",
       "stream": "stdout",
       "text": [
        "Voltage across RE in volt : 5.97\n"
       ]
      }
     ],
     "prompt_number": 143
    }
   ],
   "metadata": {}
  }
 ]
}