{
 "metadata": {
  "name": ""
 },
 "nbformat": 3,
 "nbformat_minor": 0,
 "worksheets": [
  {
   "cells": [
    {
     "cell_type": "heading",
     "level": 1,
     "metadata": {},
     "source": [
      "Chapter 6: Field Effect Transistors and MOSFETs"
     ]
    },
    {
     "cell_type": "heading",
     "level": 2,
     "metadata": {},
     "source": [
      "example 6.1, Page No.219"
     ]
    },
    {
     "cell_type": "code",
     "collapsed": false,
     "input": [
      "#Value of Transconductance\n",
      "import math\n",
      "#variable declaration\n",
      "VGS1=-3.1                        #in Volt\n",
      "VGS2=-3                          #in Volt\n",
      "ID1=1                            #in mA\n",
      "ID2=1.3                          #in mA\n",
      "\n",
      "#calculations\n",
      "delVGS=VGS2-VGS1                 #in Volts\n",
      "delID=ID2-ID1                    #in mA\n",
      "gm=delID*10**-3/delVGS           #in mhos\n",
      "\n",
      "#Result\n",
      "print(\"Transconductance in mhos : %.3f\"%gm)"
     ],
     "language": "python",
     "metadata": {},
     "outputs": [
      {
       "output_type": "stream",
       "stream": "stdout",
       "text": [
        "Transconductance in mhos : 0.003\n"
       ]
      }
     ],
     "prompt_number": 8
    },
    {
     "cell_type": "heading",
     "level": 2,
     "metadata": {},
     "source": [
      "example 6.2, Page No.219"
     ]
    },
    {
     "cell_type": "code",
     "collapsed": false,
     "input": [
      "#AC drain resistance transconductance and amplification factor\n",
      "import math\n",
      "#variable declaration\n",
      "VGS1=0                       #in Volt\n",
      "VGS2=0                       #in Volt\n",
      "VGS3=-0.2                    #in Volt\n",
      "VDS1=7                       #in Volt\n",
      "VDS2=15                      #in Volt\n",
      "VDS3=15                      #in Volt\n",
      "ID1=10                       #in mA\n",
      "ID2=10.25                    #in mA\n",
      "ID3=9.65                     #in mA\n",
      "\n",
      "#Calculations\n",
      "delVDS=VDS2-VDS1             #in Volts\n",
      "delID=ID2-ID1                #in mA\n",
      "rd=delVDS/delID              #in Kohm\n",
      "delVGS=VGS3-VGS2             #in Volts\n",
      "delID=ID3-ID2                #in mA\n",
      "gm=delID*10**-3/delVGS       #in mhos\n",
      "mu=rd*10**3*gm               #unitless\n",
      "\n",
      "\n",
      "#Result \n",
      "print(\"AC drain resistance in Kohm : %.0f\"%rd)\n",
      "print(\"Transconductance in mhos : %.3f\"%gm)\n",
      "print(\"Amplification factor : %.0f\"%mu)"
     ],
     "language": "python",
     "metadata": {},
     "outputs": [
      {
       "output_type": "stream",
       "stream": "stdout",
       "text": [
        "AC drain resistance in Kohm : 32\n",
        "Transconductance in mhos : 0.003\n",
        "Amplification factor : 96\n"
       ]
      }
     ],
     "prompt_number": 9
    },
    {
     "cell_type": "heading",
     "level": 2,
     "metadata": {},
     "source": [
      "example 6.5, Pae No.224"
     ]
    },
    {
     "cell_type": "code",
     "collapsed": false,
     "input": [
      "#Voltage Amplification\n",
      "import math\n",
      "#variable declaration\n",
      "gm=2                          #in milli-mho\n",
      "RL=10                         #in Kohm\n",
      "\n",
      "#calculation\n",
      "Av=gm*10**-3*RL*10**3         #unitless\n",
      "\n",
      "#Result\n",
      "print(\"assuming rd>>RL\")\n",
      "print(\"Voltage amplification : %.0f\"%Av)"
     ],
     "language": "python",
     "metadata": {},
     "outputs": [
      {
       "output_type": "stream",
       "stream": "stdout",
       "text": [
        "assuming rd>>RL\n",
        "Voltage amplification : 20\n"
       ]
      }
     ],
     "prompt_number": 10
    },
    {
     "cell_type": "heading",
     "level": 2,
     "metadata": {},
     "source": [
      "example 6.6, Page No.224"
     ]
    },
    {
     "cell_type": "code",
     "collapsed": false,
     "input": [
      "#Output voltage of amplifier\n",
      "import math\n",
      "\n",
      "#Variable declaration\n",
      "RL=20.0                   #in Kohm\n",
      "RS=1.0                    #in Kohm\n",
      "RG=1.0                    #in Mohm\n",
      "Cs=25.0*10**-6            #in uF\n",
      "mu=20.0                   #unitless\n",
      "rd=100.0                  #in Kohm\n",
      "Vs=2.0                    #in Volt\n",
      "f=1.0*10**3               #in KHz\n",
      "\n",
      "#Calculations\n",
      "Xc=1/(2*math.pi*f*Cs)   #in Ohm\n",
      "Av=mu*RL/(rd+RL)        #unitless\n",
      "Vo=Av*Vs                #in Volt\n",
      "\n",
      "#Result\n",
      "print(\"Xc in Ohm : %.1f\"%(math.floor(Xc*10)/10))\n",
      "print(\"As Xc<<Rs, therefore Cs bypasses all ac components. \")\n",
      "print(\"Output voltage in volt : %.2f\"%Vo)"
     ],
     "language": "python",
     "metadata": {},
     "outputs": [
      {
       "output_type": "stream",
       "stream": "stdout",
       "text": [
        "Xc in Ohm : 6.3\n",
        "As Xc<<Rs, therefore Cs bypasses all ac components. \n",
        "Output voltage in volt : 6.67\n"
       ]
      }
     ],
     "prompt_number": 11
    },
    {
     "cell_type": "heading",
     "level": 2,
     "metadata": {},
     "source": [
      "example 6.7, Page No.224"
     ]
    },
    {
     "cell_type": "code",
     "collapsed": false,
     "input": [
      "#IDQ VGSQ VD VS VDS VDG\n",
      "import math\n",
      "#variable declaration\n",
      "R1=2.1                              #in Mohm\n",
      "R2=270                              #in Kohm\n",
      "RD=4.7                              #in Kohm\n",
      "RS=1.5                              #in Kohm\n",
      "VDD=20                              #in Volt\n",
      "VP=-4                               #in Volt\n",
      "IDSS=8                              #in mA\n",
      "\n",
      "#Calculations\n",
      "\n",
      "#step 1 : Find VGS :\n",
      "VG=R2*10**3*VDD/(R1*10**6+R2*10**3) \n",
      "print(\"step 1\\nVS=ID*RS-VGS Volt\")\n",
      "print(\"VGS=VG-VS=2.28-1.5*ID\")\n",
      "\n",
      "#step 2 : Find ID :\n",
      "print(\"\\nstep 2\\nID=IDSS*[1-VGS/VP]^2 mA\")\n",
      "print(\"ID=8*[1-(2.28-1.5*ID)/4]^2 mA\")\n",
      "print(\"2*ID=39.44-18.84*ID+2.25*ID^2\")\n",
      "print(\"2.25*ID^2-20.84*ID39.44=0\")\n",
      "print(\"ID=6.6mA or 2.65mA\")\n",
      "print(\"For ID =6.6mA VDS=-ve\")\n",
      "print(\"So discard the value so IDQ = 2.65mA.\")\n",
      "ID=2.65                                     #in mA\n",
      "#step 3 : Find VGSQ :\n",
      "IDQ=ID                                      #in mA\n",
      "VGS=2.28                                    #in Volt\n",
      "VGSQ=VGS-1.5*IDQ                            #in Volt\n",
      "\n",
      "#step 4 : Find VDSQ :\n",
      "VDSQ=VDD-IDQ*(RD+RS)#in Volt\n",
      "\n",
      "#step 5 : Find VD,VS and VDG :\n",
      "VDS=VDSQ                                    #in Volt\n",
      "VG=VGS                                      #in Volt\n",
      "VS=ID*RS                                    #in Volt\n",
      "VD=VS+VDS                                   #in Volt\n",
      "VDG=VD-VG                                   #in Volt\n",
      "print(\"IDQ in mA : %.3f\"%IDQ)\n",
      "print(\"\\nstep 3\\nVGSQ in Volt :%.3f\"%VGSQ)\n",
      "print(\"VD in Volt :%.3f\"%VD)\n",
      "print(\"VS in Volt :%.3f\"%VS)\n",
      "print(\"\\nstep 4\\nVDS in Volt :%.2f\"%VDS)\n",
      "print(\"\\nstep 5\\nVDG in Volt :%.3f\"%VDG)"
     ],
     "language": "python",
     "metadata": {},
     "outputs": [
      {
       "output_type": "stream",
       "stream": "stdout",
       "text": [
        "step 1\n",
        "VS=ID*RS-VGS Volt\n",
        "VGS=VG-VS=2.28-1.5*ID\n",
        "\n",
        "step 2\n",
        "ID=IDSS*[1-VGS/VP]^2 mA\n",
        "ID=8*[1-(2.28-1.5*ID)/4]^2 mA\n",
        "2*ID=39.44-18.84*ID+2.25*ID^2\n",
        "2.25*ID^2-20.84*ID39.44=0\n",
        "ID=6.6mA or 2.65mA\n",
        "For ID =6.6mA VDS=-ve\n",
        "So discard the value so IDQ = 2.65mA.\n",
        "IDQ in mA : 2.650\n",
        "\n",
        "step 3\n",
        "VGSQ in Volt :-1.695\n",
        "VD in Volt :7.545\n",
        "VS in Volt :3.975\n",
        "\n",
        "step 4\n",
        "VDS in Volt :3.57\n",
        "\n",
        "step 5\n",
        "VDG in Volt :5.265\n"
       ]
      }
     ],
     "prompt_number": 17
    },
    {
     "cell_type": "heading",
     "level": 2,
     "metadata": {},
     "source": [
      "example 6.8, page no.226"
     ]
    },
    {
     "cell_type": "code",
     "collapsed": false,
     "input": [
      "#Pinch off voltage\n",
      "import math\n",
      "#variable declaration\n",
      "a=5.6*10**-6/2                     #in meter\n",
      "k=12                               #unitless\n",
      "epsilon_o=8.86*10**-12             #in F/m\n",
      "epsilon=k*epsilon_o                #in F/m\n",
      "ND=10**15                          #in cm^-3\n",
      "ND=10**15*10**6                    #in m^-3\n",
      "e=1.6*10**-19                      #in Coulamb\n",
      "\n",
      "#Calculationd\n",
      "VP=e*ND*a**2/(2*epsilon)           #in Volt\n",
      "\n",
      "#Result\n",
      "print(\"Pinch off voltage in volts : %.2f\"%VP)"
     ],
     "language": "python",
     "metadata": {},
     "outputs": [
      {
       "output_type": "stream",
       "stream": "stdout",
       "text": [
        "Pinch off voltage in volts : 5.90\n"
       ]
      }
     ],
     "prompt_number": 14
    },
    {
     "cell_type": "heading",
     "level": 2,
     "metadata": {},
     "source": [
      "example 6.10, Page No.226"
     ]
    },
    {
     "cell_type": "code",
     "collapsed": false,
     "input": [
      "#Plot gm VS IDSS\n",
      "import math\n",
      "#Variable declaration\n",
      "print(\"We have,\\nID=IDSS*[1-VGS/VP]^2\\n\")\n",
      "print(\"Mutual conductance, gm = (delID/delVGS)\\n\\t\\t       = IDSS*2*[1-VGS/VP]*(-1/VP)\\n\\t\\t       = (-2*IDSS/VP)*[1-VGS/VP]\");\n",
      "################------------PLOT------------#############\n",
      "t = arange(0.0001,3 , 0.0005)\n",
      "t2 = arange(0.0001,8.0/3.0 , 0.0005)\n",
      "a=arange(0.001,8,0.0005)\n",
      "x=(8.0*a/3.0)/a\n",
      "plot(t2,8*t2/t2,'b')\n",
      "plot(x,a,'b')\n",
      "plot(t,(3*t),'--')\n",
      "text(1.2,8.2,'gm')\n",
      "text(8.0/3.1,8.2,'Vgs = 0')\n",
      "text(8.0/4,4.1,'tan(theta) =1/3')\n",
      "xlabel('gm(in mS)')\n",
      "ylabel('IDSS(in mA)')\n",
      "title('gm versus IDSS')\n",
      "#########---------------------------------------##########\n",
      "\n",
      "print(\"\\nClearly the plot of gm vs IDSS for VD=-6V, IDSS=8mA is a straight line of slope=-2/VP=-(2/-6)=1/3\")"
     ],
     "language": "python",
     "metadata": {},
     "outputs": [
      {
       "output_type": "stream",
       "stream": "stdout",
       "text": [
        "We have,\n",
        "ID=IDSS*[1-VGS/VP]^2\n",
        "\n",
        "Mutual conductance, gm = (delID/delVGS)\n",
        "\t\t       = IDSS*2*[1-VGS/VP]*(-1/VP)\n",
        "\t\t       = (-2*IDSS/VP)*[1-VGS/VP]\n",
        "\n",
        "Clearly the plot of gm vs IDSS for VD=-6V, IDSS=8mA is a straight line of slope=-2/VP=-(2/-6)=1/3"
       ]
      },
      {
       "output_type": "stream",
       "stream": "stdout",
       "text": [
        "\n"
       ]
      },
      {
       "metadata": {},
       "output_type": "display_data",
       "png": "[encoded data removed]",
       "text": [
        "<matplotlib.figure.Figure at 0x8656ba8>"
       ]
      }
     ],
     "prompt_number": 15
    },
    {
     "cell_type": "heading",
     "level": 2,
     "metadata": {},
     "source": [
      "example 6.11, Page No.234"
     ]
    },
    {
     "cell_type": "code",
     "collapsed": false,
     "input": [
      "#Channel width W\n",
      "import math\n",
      "#variable declaration\n",
      "L=1.25                   #in um\n",
      "mu_n=0.065               #in m^2/V-s\n",
      "Cox=6.9*10**-4           #in F/m^2\n",
      "VT=0.65                  #in Volt\n",
      "ID_sat=4                 #in mA\n",
      "VGS=5                    #in Volt\n",
      "\n",
      "#calculations\n",
      "\n",
      "#Formula : ID_sat=W*mu_n*Cox*(VGS-VT)^2/(2*L)\n",
      "W=ID_sat*10**-3*2*L*10**-6/(mu_n*Cox*(VGS-VT)**2)\n",
      "\n",
      "#Result\n",
      "print(\"Channel Width in micro meter :%.1f\"%(W*10**6))"
     ],
     "language": "python",
     "metadata": {},
     "outputs": [
      {
       "output_type": "stream",
       "stream": "stdout",
       "text": [
        "Channel Width in micro meter :11.8\n"
       ]
      }
     ],
     "prompt_number": 16
    }
   ],
   "metadata": {}
  }
 ]
}