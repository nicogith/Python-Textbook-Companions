{
 "cells": [
  {
   "cell_type": "markdown",
   "metadata": {},
   "source": [
    "# Chapter 8 Chemical Kinetics and Catalysis"
   ]
  },
  {
   "cell_type": "markdown",
   "metadata": {},
   "source": [
    "## Example 8_3 pgno:552"
   ]
  },
  {
   "cell_type": "code",
   "execution_count": 20,
   "metadata": {
    "collapsed": false
   },
   "outputs": [
    {
     "name": "stdout",
     "output_type": "stream",
     "text": [
      "If out of each mole of N2O5,x mole of it decomposes at any instant\n",
      "The total pressure in the system is equal to that due to (1-x)moles of undecomposed N2O5,\n",
      "x moles of N2O4 and x/2moles of O2 i.e due to 1+(x/2)moles.\n",
      "\n",
      "The increase in pressure is thus due to x/2moles\n",
      "So the amount of N2O5 that has decomposed at any instant i.e x is proportional to twice the observed increase in pressure\n",
      "\n",
      "These can be fitted into the kinetic equation for a first order reaction\n",
      "k=(2.303/t)*log10(a/(a-x))\n",
      "and the value of k can be obtained.The average value of k is 1.37*10**-4per sec\n",
      "\n",
      "k=0.693/t0.5 that will result in t0.5=5057seconds\n",
      "This can also be obtained as the value corresponding to (a-x)=154.1mm,from a graph of t vs (a-x).\n"
     ]
    }
   ],
   "source": [
    "k=1.37*10**-4;#rate constant in per sec#\n",
    "thalf=5057;#half time of the reaction in sec#\n",
    "print'If out of each mole of N2O5,x mole of it decomposes at any instant\\nThe total pressure in the system is equal to that due to (1-x)moles of undecomposed N2O5,\\nx moles of N2O4 and x/2moles of O2 i.e due to 1+(x/2)moles.'\n",
    "print'\\nThe increase in pressure is thus due to x/2moles\\nSo the amount of N2O5 that has decomposed at any instant i.e x is proportional to twice the observed increase in pressure'\n",
    "print'\\nThese can be fitted into the kinetic equation for a first order reaction\\nk=(2.303/t)*log10(a/(a-x))\\nand the value of k can be obtained.The average value of k is 1.37*10**-4per sec'\n",
    "print'\\nk=0.693/t0.5 that will result in t0.5=5057seconds\\nThis can also be obtained as the value corresponding to (a-x)=154.1mm,from a graph of t vs (a-x).'\n"
   ]
  },
  {
   "cell_type": "markdown",
   "metadata": {},
   "source": [
    "## Example 8_4 pgno:552"
   ]
  },
  {
   "cell_type": "code",
   "execution_count": 21,
   "metadata": {
    "collapsed": false
   },
   "outputs": [
    {
     "name": "stdout",
     "output_type": "stream",
     "text": [
      "Let V0,Vt,Vinfinite be the volumes of N2 evolved at the beginning,at time t and at infinite time(no more collection of N2 is observed)respectively,\n",
      "\n",
      "(Vinfinite-V0)is a measure of the total amount of material that can decompose,\n",
      "i.e the initial concentration a.\n",
      "(Vinfinite-Vt) is a measure of the amount of material that remains unreacted at time t,i.e (a-x),\n",
      "because this volume corresponds to the amount of material that can still decompose between time t and infinite time.\n",
      "\n",
      "k=(2.303/t)*(log10((Vinfinte-V0)/(Vinfinite-Vt))).\n",
      "\n",
      "The average value of k can be found to be 6.54*10**-2per min or 1.09*10**-3per sec\n"
     ]
    }
   ],
   "source": [
    "Vinfinite=58.3;#volume of nitrogen evolved at infinite time#\n",
    "V0=19.3;#volume of nitrogen evolved at initial time#\n",
    "print'Let V0,Vt,Vinfinite be the volumes of N2 evolved at the beginning,at time t and at infinite time(no more collection of N2 is observed)respectively,'\n",
    "print'\\n(Vinfinite-V0)is a measure of the total amount of material that can decompose,\\ni.e the initial concentration a.\\n(Vinfinite-Vt) is a measure of the amount of material that remains unreacted at time t,i.e (a-x),\\nbecause this volume corresponds to the amount of material that can still decompose between time t and infinite time.'\n",
    "print'\\nk=(2.303/t)*(log10((Vinfinte-V0)/(Vinfinite-Vt))).'\n",
    "print'\\nThe average value of k can be found to be 6.54*10**-2per min or 1.09*10**-3per sec'\n"
   ]
  },
  {
   "cell_type": "markdown",
   "metadata": {},
   "source": [
    "## Example 8_5 pgno:553"
   ]
  },
  {
   "cell_type": "code",
   "execution_count": 22,
   "metadata": {
    "collapsed": false
   },
   "outputs": [
    {
     "name": "stdout",
     "output_type": "stream",
     "text": [
      "Value of k for the experiment=k=per min 0.00090234375\n",
      "\n",
      "-dN/dt=rate=100*k*N=(0.693/12.8*60)*N\n",
      "N,the number of copper atoms required to produce 100Beta particles per minute\n",
      " we get N=(100*12.8*60)/0.693=1.108*10**5\n",
      "\n",
      "Weight of Cu=W==1.17*10**-17grams 1.16815540428e-17\n",
      "\n",
      "Since the maximum activity is 100Beta particles per minute,N=(a-x) at the end of six hours,i.e t=6 and N=1.108*19**5atoms\n",
      "\n",
      "At zero time N0=a\n",
      " a-x=a*exp(-k*t)\n",
      "Upon solving the above equation we get N0=a=1.533*10**5atoms\n",
      "Weight of Cu to start with=1.66*10**-17grams.\n",
      "\n",
      "Initial activity=138.30000 disintegrations per minute\n"
     ]
    }
   ],
   "source": [
    "t=12.8;#half life of the particle in hours#\n",
    "k=0.693/(t*60);#value of k for the experiment in per min#\n",
    "print'Value of k for the experiment=k=per min',k\n",
    "print'\\n-dN/dt=rate=100*k*N=(0.693/12.8*60)*N\\nN,the number of copper atoms required to produce 100Beta particles per minute\\n we get N=(100*12.8*60)/0.693=1.108*10**5'\n",
    "w=63.5;#atomic weight of Cu in grams#\n",
    "AN=6.023*10**23;\n",
    "N=1.108*10**5;\n",
    "W=(N*w)/AN;#weight of Cu in grams#\n",
    "print'\\nWeight of Cu=W==1.17*10**-17grams',W\n",
    "print'\\nSince the maximum activity is 100Beta particles per minute,N=(a-x) at the end of six hours,i.e t=6 and N=1.108*19**5atoms'\n",
    "print'\\nAt zero time N0=a\\n a-x=a*exp(-k*t)\\nUpon solving the above equation we get N0=a=1.533*10**5atoms\\nWeight of Cu to start with=1.66*10**-17grams.'\n",
    "print'\\nInitial activity=138.30000 disintegrations per minute',\n"
   ]
  },
  {
   "cell_type": "markdown",
   "metadata": {},
   "source": [
    "## Example 8_7 pgno:556"
   ]
  },
  {
   "cell_type": "code",
   "execution_count": 23,
   "metadata": {
    "collapsed": false
   },
   "outputs": [
    {
     "name": "stdout",
     "output_type": "stream",
     "text": [
      "The kinetic equation for a second order reaction involving unequal concentrations of the reactants is\n",
      "k2=(2.303/(t*(a-b)))*log10((b*(a-x))/(a*(b-x)))\n",
      "\n",
      "Second order reaction rate=k2=litre per mol per second 0.10778\n"
     ]
    }
   ],
   "source": [
    "print'The kinetic equation for a second order reaction involving unequal concentrations of the reactants is\\nk2=(2.303/(t*(a-b)))*log10((b*(a-x))/(a*(b-x)))'\n",
    "k=2.312*10**-4;\n",
    "p=4.94*10**-3;#value of (a-b)#\n",
    "k2=(k*2.303)/p;#second order reaction rate#\n",
    "print'\\nSecond order reaction rate=k2=litre per mol per second',round(k2,5)\n"
   ]
  },
  {
   "cell_type": "markdown",
   "metadata": {},
   "source": [
    "## Example 8_8 pgno:557"
   ]
  },
  {
   "cell_type": "code",
   "execution_count": 24,
   "metadata": {
    "collapsed": false
   },
   "outputs": [
    {
     "name": "stdout",
     "output_type": "stream",
     "text": [
      "to know the order of the equation we can use 2^(n-1)=t1half/t2half\n",
      "\n",
      "by solving for first and second order n=1.95\n",
      "by solving for second and third order n=2.02\n",
      "\n",
      "by solving for first and third order n=1.98\n",
      "So the order of the reaction=n=2\n"
     ]
    }
   ],
   "source": [
    "t1half=37.00;#half time for the first order reaction#\n",
    "t2half=19.2;#half time for the second order reaction#\n",
    "t3half=9.45;#half time for the third order reaction#\n",
    "print'to know the order of the equation we can use 2^(n-1)=t1half/t2half'\n",
    "print'\\nby solving for first and second order n=1.95\\nby solving for second and third order n=2.02'\n",
    "print'\\nby solving for first and third order n=1.98\\nSo the order of the reaction=n=2'\n"
   ]
  },
  {
   "cell_type": "markdown",
   "metadata": {},
   "source": [
    "## Example 8_10 pgno:561"
   ]
  },
  {
   "cell_type": "code",
   "execution_count": 25,
   "metadata": {
    "collapsed": false
   },
   "outputs": [
    {
     "name": "stdout",
     "output_type": "stream",
     "text": [
      "Average value of k=8.676*10**-3per min\n",
      "\n",
      "The time at which the mixture is optically inactive=t=min 127.3\n"
     ]
    }
   ],
   "source": [
    "from math import log10\n",
    "k=8.676*10**-3;#average value of k in per min#\n",
    "print'Average value of k=8.676*10**-3per min'\n",
    "r0=22.4;\n",
    "rt=0;\n",
    "rinfinite=-11.1;\n",
    "t=(2.303/k)*log10((r0-rinfinite)/(rt-rinfinite));\n",
    "print'\\nThe time at which the mixture is optically inactive=t=min',round(t,1)#here in textbook the answer is given wrong,but by solving we get the same result as executed#\n"
   ]
  },
  {
   "cell_type": "markdown",
   "metadata": {},
   "source": [
    "## Example 8_13 pgno:565"
   ]
  },
  {
   "cell_type": "code",
   "execution_count": 26,
   "metadata": {
    "collapsed": false
   },
   "outputs": [
    {
     "name": "stdout",
     "output_type": "stream",
     "text": [
      "order of the reaction after solving is n= 2.88\n",
      "\n",
      "Hence the order of the reaction 3\n"
     ]
    }
   ],
   "source": [
    "from math import log10\n",
    "k=1.;\n",
    "a=10.;\n",
    "thalf=10**-1.88;#half time of the reaction#\n",
    "n=1-(log10(thalf/k)/log10(a));#order of the reaction#\n",
    "print'order of the reaction after solving is n=',n\n",
    "print'\\nHence the order of the reaction',3\n"
   ]
  },
  {
   "cell_type": "markdown",
   "metadata": {},
   "source": [
    "## Example 8_14 pgno:567"
   ]
  },
  {
   "cell_type": "code",
   "execution_count": 27,
   "metadata": {
    "collapsed": false
   },
   "outputs": [
    {
     "name": "stdout",
     "output_type": "stream",
     "text": [
      "Since thalf is directly proportional to concentration(doubling the concentration increases thalf by a factor 2),\n",
      "the reaction is Zero order.\n",
      "The half time corresponding to a concentration of 0.01M will be 24.5mins\n"
     ]
    }
   ],
   "source": [
    "thalf1=49;#half life for 0.02M compound#\n",
    "thalf2=100;#half life for 0.04M compound#\n",
    "M1=0.02;#initial concentration of the compound#\n",
    "M2=0.01;#Final concentration of the compound#\n",
    "print'Since thalf is directly proportional to concentration(doubling the concentration increases thalf by a factor 2),\\nthe reaction is Zero order.\\nThe half time corresponding to a concentration of 0.01M will be 24.5mins'\n"
   ]
  },
  {
   "cell_type": "markdown",
   "metadata": {},
   "source": [
    "## Example 8_18 pgno:581"
   ]
  },
  {
   "cell_type": "code",
   "execution_count": 28,
   "metadata": {
    "collapsed": false
   },
   "outputs": [
    {
     "name": "stdout",
     "output_type": "stream",
     "text": [
      "Energy of activation=E=cal per mol=11.88Kcal per mol 11883.0\n"
     ]
    }
   ],
   "source": [
    "from math import log10\n",
    "R=1.987;#universal gas constant#\n",
    "T1=293.;#initial temperature in kelvin#\n",
    "T2=303.;#Final temperature in kelvin#\n",
    "K1=6.68*10**-3;#rate constant corresponding to T1 in per min#\n",
    "K2=1.31*10**-2;#rate constant corresponding to T2 in per min#\n",
    "E=(2.303*R*T1*T2*log10(K2/K1))/(T2-T1);#energy of activation in Kcal per mol#\n",
    "print'Energy of activation=E=cal per mol=11.88Kcal per mol',round(E)\n"
   ]
  },
  {
   "cell_type": "markdown",
   "metadata": {},
   "source": [
    "## Example 8_19 pgno:582"
   ]
  },
  {
   "cell_type": "code",
   "execution_count": 29,
   "metadata": {
    "collapsed": false
   },
   "outputs": [
    {
     "name": "stdout",
     "output_type": "stream",
     "text": [
      "The ratio of V2 and V1 is K=V2/V1= 4.94\n"
     ]
    }
   ],
   "source": [
    "R=1.987;#universal gas constant#\n",
    "T1=350.;#initial temperature in kelvin#\n",
    "T2=360.;#Final temperature in kelvin#\n",
    "E=40000.;#energy of activation in cal per mol#\n",
    "K=10**(E*((T2-T1)/(T1*T2))/(2.303*R));#ratio of v2/v1#\n",
    "print'The ratio of V2 and V1 is K=V2/V1=',round(K,3)\n"
   ]
  },
  {
   "cell_type": "markdown",
   "metadata": {},
   "source": [
    "## Example 8_20 pgno:582"
   ]
  },
  {
   "cell_type": "code",
   "execution_count": 30,
   "metadata": {
    "collapsed": false
   },
   "outputs": [
    {
     "name": "stdout",
     "output_type": "stream",
     "text": [
      "Energy of activation=E=Kcal per mol 16.67\n"
     ]
    }
   ],
   "source": [
    "from math import log10\n",
    "R=1.987;#universal gas constant#\n",
    "T1=313.;#initial temperature in kelvin#\n",
    "T2=333.;#Final temperature in kelvin#\n",
    "t1=15.;#time for 20% reaction at 313K in mins#\n",
    "t2=3.;#time for 20%reaction at 333K in mins#\n",
    "K=t1/t2;#ratio of K2/K1#\n",
    "E=(2.303*R*T1*T2*log10(K))/(1000*(T2-T1));#energy of activation in Kcal per mol#\n",
    "print'Energy of activation=E=Kcal per mol',round(E,2)\n"
   ]
  },
  {
   "cell_type": "markdown",
   "metadata": {},
   "source": [
    "## Example 8_21 pgno:583"
   ]
  },
  {
   "cell_type": "code",
   "execution_count": 31,
   "metadata": {
    "collapsed": false
   },
   "outputs": [
    {
     "name": "stdout",
     "output_type": "stream",
     "text": [
      "From the graph slope=(-0.92/0.30)=(-E/(2.303*R))\n",
      "Graphical evaluation of A requires the determination of the intercept on the y axis corresponding to 1/T=0\n",
      "One can also calculate A from k=A*exp(-E/(R*T))\n",
      "\n",
      "Energy of activation=E==14.04Kcal per mol 0.0140332537333\n",
      "\n",
      "we can find the value of A using log10(k)=log10(A)-(E/(2.303*R*T))\n",
      "Upon solving we get A=4.015*10**9litre per mol per second\n"
     ]
    }
   ],
   "source": [
    "R=1.987;#universal gas constant#\n",
    "print'From the graph slope=(-0.92/0.30)=(-E/(2.303*R))\\nGraphical evaluation of A requires the determination of the intercept on the y axis corresponding to 1/T=0\\nOne can also calculate A from k=A*exp(-E/(R*T))'\n",
    "E=(0.92*R*2.303)/(0.30*10**3);\n",
    "print'\\nEnergy of activation=E==14.04Kcal per mol',E\n",
    "k=2.31*10**-2;\n",
    "T=273;#temperature in kelvin#\n",
    "print'\\nwe can find the value of A using log10(k)=log10(A)-(E/(2.303*R*T))\\nUpon solving we get A=4.015*10**9litre per mol per second'\n"
   ]
  },
  {
   "cell_type": "markdown",
   "metadata": {},
   "source": [
    "## Example 8_22 pgno:594"
   ]
  },
  {
   "cell_type": "code",
   "execution_count": 32,
   "metadata": {
    "collapsed": false
   },
   "outputs": [
    {
     "name": "stdout",
     "output_type": "stream",
     "text": [
      "Rate constant for the reaction=litre per mol per sec 5.44017531908e+11\n"
     ]
    }
   ],
   "source": [
    "from math import exp\n",
    "R=1.987;#universal gas constant#\n",
    "T=556.;#temperature in kelvin#\n",
    "E=44.;#Energy in Kcal#\n",
    "dS=-10;#entropy change in cal per deg#\n",
    "k=(exp(2)*exp(dS/R)*exp(-E/(R*T))*10**13.07);#rate constant for the reaction#\n",
    "print'Rate constant for the reaction=litre per mol per sec',k\n"
   ]
  },
  {
   "cell_type": "markdown",
   "metadata": {},
   "source": [
    "## Example 8_23 pgno:595"
   ]
  },
  {
   "cell_type": "code",
   "execution_count": 33,
   "metadata": {
    "collapsed": false
   },
   "outputs": [
    {
     "name": "stdout",
     "output_type": "stream",
     "text": [
      "The entropy of activation=dS==9.19eu 9.19302105513\n",
      "\n",
      "Since A is independent of concentration units dS does not sepend on the concentration units used\n",
      "and hence the standard state.\n",
      "However if the time were expressed in different units A will assume a different value\n",
      "and consequently the value of dS will be different\n",
      "If time were expressed in minutes A=2.75*10**15*60 per min\n",
      "dS=9.19+4.57*log10(60)=17.32eu\n",
      "for bimolecular reaction e**2=7.4*10**10 \n",
      "so dS will result in dS=-10.1eu or mol per litre.\n",
      "\n",
      "If the concentration were expressed in mol per millilitre A would be 7.4*10**13 \n",
      "so dS will result in dS=-10.1+13.6=3.5eu or mol per millilitre\n",
      "If the concentration were expressed in molecules per millilitre the value of A will be multiplied by 6.023*10**23 \n",
      "so dS would result in as dS=-10.1-94.9=-105eu or -105molecules per millilitre\n"
     ]
    }
   ],
   "source": [
    "from math import log10,exp\n",
    "R=1.987;#universal gas constant#\n",
    "T=473;#temperature in kelvin#\n",
    "A=2.75*10**15;#frequency factor in per sec#\n",
    "K=1.38*10**-16;#boltzmans constant#\n",
    "h=6.625*10**-27;#planks constant#\n",
    "dn=0;\n",
    "dS=4.57*(log10(A)-log10(exp(1))-log10(9.85*10**12));#entropy change in cal per deg#\n",
    "print'The entropy of activation=dS==9.19eu',dS\n",
    "print'\\nSince A is independent of concentration units dS does not sepend on the concentration units used\\nand hence the standard state.\\nHowever if the time were expressed in different units A will assume a different value\\nand consequently the value of dS will be different\\nIf time were expressed in minutes A=2.75*10**15*60 per min\\ndS=9.19+4.57*log10(60)=17.32eu\\nfor bimolecular reaction e**2=7.4*10**10 \\nso dS will result in dS=-10.1eu or mol per litre.'\n",
    "print'\\nIf the concentration were expressed in mol per millilitre A would be 7.4*10**13 \\nso dS will result in dS=-10.1+13.6=3.5eu or mol per millilitre\\nIf the concentration were expressed in molecules per millilitre the value of A will be multiplied by 6.023*10**23 \\nso dS would result in as dS=-10.1-94.9=-105eu or -105molecules per millilitre'\n"
   ]
  }
 ],
 "metadata": {
  "kernelspec": {
   "display_name": "Python 2",
   "language": "python",
   "name": "python2"
  },
  "language_info": {
   "codemirror_mode": {
    "name": "ipython",
    "version": 2
   },
   "file_extension": ".py",
   "mimetype": "text/x-python",
   "name": "python",
   "nbconvert_exporter": "python",
   "pygments_lexer": "ipython2",
   "version": "2.7.9"
  }
 },
 "nbformat": 4,
 "nbformat_minor": 0
}
