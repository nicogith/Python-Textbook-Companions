{
 "cells": [
  {
   "cell_type": "markdown",
   "metadata": {},
   "source": [
    "# Chapter 5 Thermodynamics"
   ]
  },
  {
   "cell_type": "markdown",
   "metadata": {},
   "source": [
    "## Example 5_1 pgno:249"
   ]
  },
  {
   "cell_type": "code",
   "execution_count": 72,
   "metadata": {
    "collapsed": false
   },
   "outputs": [
    {
     "name": "stdout",
     "output_type": "stream",
     "text": [
      "Maximum work required for the expansion of 1mol of ideal gas from 10atm to 1atm=Wrev=litre atm 51.6085304648\n",
      "\n",
      "If the gas is now compressed back from 1atm to 10atm under isothermal conditions,Wrev=-51.608530litre atm\n"
     ]
    }
   ],
   "source": [
    "from math import log\n",
    "P1=10.;#initial pressure in atm#\n",
    "P2=1.;#final pressure in atm#\n",
    "Wrev=0.0821*273*log(P1/P2);#maximum work required for the expansion of gas in litre-atm#\n",
    "print'Maximum work required for the expansion of 1mol of ideal gas from 10atm to 1atm=Wrev=litre atm',Wrev\n",
    "print'\\nIf the gas is now compressed back from 1atm to 10atm under isothermal conditions,Wrev=-51.608530litre atm'\n"
   ]
  },
  {
   "cell_type": "markdown",
   "metadata": {},
   "source": [
    "## Example 5_2 pgno:250"
   ]
  },
  {
   "cell_type": "code",
   "execution_count": 73,
   "metadata": {
    "collapsed": false
   },
   "outputs": [
    {
     "name": "stdout",
     "output_type": "stream",
     "text": [
      "Maximum work done=Wrev=ergs 1.45495e+11\n"
     ]
    }
   ],
   "source": [
    "n=5;#no. of moles of Benzene#\n",
    "R=8.314*10**7;#Universal gas constant#\n",
    "K=80;#Evaporated temperature of benzene in centigrades#\n",
    "T=270+K;#evaporated temperature of benzene in kelvins#\n",
    "Wrev=n*R*T;#Maximum work done in ergs#\n",
    "print'Maximum work done=Wrev=ergs',Wrev\n",
    "\n"
   ]
  },
  {
   "cell_type": "markdown",
   "metadata": {},
   "source": [
    "## Example 5_3 pgno:254"
   ]
  },
  {
   "cell_type": "code",
   "execution_count": 74,
   "metadata": {
    "collapsed": false
   },
   "outputs": [
    {
     "name": "stdout",
     "output_type": "stream",
     "text": [
      "mol of TNT exploded=mol 0.002\n",
      "\n",
      "dU=Kcal per mol -820.0\n",
      "\n",
      "dH=Kcal per mol -817.02\n"
     ]
    }
   ],
   "source": [
    "w=0.454;#weight of TNT in grams#\n",
    "T=298;#temperature in kelvin#\n",
    "R=2*10**-3;\n",
    "dn=5;\n",
    "m=w/227;#mol of TNT exploded#\n",
    "print'mol of TNT exploded=mol',m\n",
    "H=1.64;#Heat liberated in kcal#\n",
    "dU=-H/m;\n",
    "print'\\ndU=Kcal per mol',dU\n",
    "dH=dU+(R*T*dn);\n",
    "print'\\ndH=Kcal per mol',dH\n"
   ]
  },
  {
   "cell_type": "markdown",
   "metadata": {},
   "source": [
    "## Example 5_4 pgno:254"
   ]
  },
  {
   "cell_type": "code",
   "execution_count": 75,
   "metadata": {
    "collapsed": false
   },
   "outputs": [
    {
     "name": "stdout",
     "output_type": "stream",
     "text": [
      "Final pressure of the system=P2=atm 125.0\n",
      "\n",
      "In this problem P1 and P2 are in atm and V being in litres,The VdP term in litre atm.\n",
      "dH and dU are in Kcal and so the VdP term is converted into Kcal.\n",
      "It is seen that the pressure developed is enormous.\n",
      "This takes place in a confined space,an explosion occurs.\n",
      "The final pressure P2 can also be calculated from the ideal gas equation PV=nRT which gives the same result.\n"
     ]
    }
   ],
   "source": [
    "dH=-817.;\n",
    "dU=-820.;\n",
    "P1=1;#initial pressure in atm#\n",
    "V=1;#volume in litre#\n",
    "K=(1.99*10**-3)/0.082;#multiplying factor to convert litre atm to calories#\n",
    "P2=P1+((dH-dU)/(V*K));#final pressure in atm#\n",
    "print'Final pressure of the system=P2=atm',round(P2)\n",
    "print'\\nIn this problem P1 and P2 are in atm and V being in litres,The VdP term in litre atm.\\ndH and dU are in Kcal and so the VdP term is converted into Kcal.\\nIt is seen that the pressure developed is enormous.\\nThis takes place in a confined space,an explosion occurs.\\nThe final pressure P2 can also be calculated from the ideal gas equation PV=nRT which gives the same result.'#in textbook the answer given is bit wrong and it should be one we get through execution#\n"
   ]
  },
  {
   "cell_type": "markdown",
   "metadata": {},
   "source": [
    "## Example 5_5 pgno:257"
   ]
  },
  {
   "cell_type": "code",
   "execution_count": 76,
   "metadata": {
    "collapsed": false
   },
   "outputs": [
    {
     "name": "stdout",
     "output_type": "stream",
     "text": [
      "Enthalpy change for the reduction of Fe2O3 by Co at 298K=Kcal -6.42\n"
     ]
    }
   ],
   "source": [
    "dHfFe2O3=-196.5;#dHf value of Fe2O3 in kcal per mol#\n",
    "dHfCO2=-94.05;#dHf value of CO2 in kcal per mol#\n",
    "dHfCO=-26.41;#dHf value of CO in kcal per mol#\n",
    "dH298=(3*dHfCO2-dHfFe2O3-3*dHfCO);#enthalphy change at 298K in Kcal#\n",
    "print'Enthalpy change for the reduction of Fe2O3 by Co at 298K=Kcal',dH298\n"
   ]
  },
  {
   "cell_type": "markdown",
   "metadata": {},
   "source": [
    "## Example 5_6 pgno:257"
   ]
  },
  {
   "cell_type": "code",
   "execution_count": 77,
   "metadata": {
    "collapsed": false
   },
   "outputs": [
    {
     "name": "stdout",
     "output_type": "stream",
     "text": [
      "Standard enthalpy of formation of CH3COOH=Kcal per mol -116.4\n"
     ]
    }
   ],
   "source": [
    "dHfH2O=-68.32;#dHf value of H2O in kcal per mol#\n",
    "dHfCO2=-94.05;#dHf value of CO2 in kcal per mol#\n",
    "dH298=-208.34;#enthalphy change at 298K in Kcal#\n",
    "dHfCH3COOH=(2*dHfH2O+2*dHfCO2-dH298);#dHf value of CH3COOH in Kcal per mol#\n",
    "print'Standard enthalpy of formation of CH3COOH=Kcal per mol',dHfCH3COOH\n",
    " "
   ]
  },
  {
   "cell_type": "markdown",
   "metadata": {},
   "source": [
    "## Example 5_7 pgno:258"
   ]
  },
  {
   "cell_type": "code",
   "execution_count": 78,
   "metadata": {
    "collapsed": false
   },
   "outputs": [
    {
     "name": "stdout",
     "output_type": "stream",
     "text": [
      "dHf value of C7H16=dHf=Kcal per mol -1151.298504\n",
      "\n",
      "Standard enthalpy of formation of C7H16=Kcal per mol -53.61\n"
     ]
    }
   ],
   "source": [
    "T=298;#temperature in kelvin#\n",
    "R=1.987*10**-3;\n",
    "dn=-4;\n",
    "dU=-1148.93;#Internal energy change of n-Heptane in kcal per mol#\n",
    "dHf=dU+(R*T*dn);#dHf value of C7H16 in Kcal per mol#\n",
    "print'dHf value of C7H16=dHf=Kcal per mol',dHf\n",
    "dHfH2O=-68.32;#dHf value of Fe2O3 in kcal per mol#\n",
    "dHfCO2=-94.05;#dHf value of CO2 in kcal per mol#\n",
    "dHfC7H16=(8*dHfH2O+7*dHfCO2-dHf);#dHf value of CH3COOH in Kcal per mol#\n",
    "print'\\nStandard enthalpy of formation of C7H16=Kcal per mol',round(dHfC7H16,2)\n"
   ]
  },
  {
   "cell_type": "markdown",
   "metadata": {},
   "source": [
    "## Example 5_8 pgno:260"
   ]
  },
  {
   "cell_type": "code",
   "execution_count": 79,
   "metadata": {
    "collapsed": false
   },
   "outputs": [
    {
     "name": "stdout",
     "output_type": "stream",
     "text": [
      "Heat of formation of CO=Kcal -26.42\n"
     ]
    }
   ],
   "source": [
    "dHf=-67.63;#enthalpy change value in kcal#\n",
    "dHfCO2=-94.05;#Heat of formation value of CO2 in kcal#\n",
    "dHfCO=dHfCO2-dHf;#Heat of formation value of CO in Kcal#\n",
    "print'Heat of formation of CO=Kcal',dHfCO\n"
   ]
  },
  {
   "cell_type": "markdown",
   "metadata": {},
   "source": [
    "## Example 5_9 pgno:260"
   ]
  },
  {
   "cell_type": "code",
   "execution_count": 80,
   "metadata": {
    "collapsed": false
   },
   "outputs": [
    {
     "name": "stdout",
     "output_type": "stream",
     "text": [
      "Enthalpy change when graphite converted to diamondfKcal 0.45\n"
     ]
    }
   ],
   "source": [
    "dHfDiam=-94.50;#heat of formation value of Diamond in kcal#\n",
    "dHfGrap=-94.05;#Heat of formation value of Graphite in kcal#\n",
    "dHf=dHfGrap-dHfDiam;#Enthalpy change when graphite converted to diamond in Kcal#\n",
    "print'Enthalpy change when graphite converted to diamondfKcal',dHf\n"
   ]
  },
  {
   "cell_type": "markdown",
   "metadata": {},
   "source": [
    "## Example 5_10 pgno:261"
   ]
  },
  {
   "cell_type": "code",
   "execution_count": 81,
   "metadata": {
    "collapsed": false
   },
   "outputs": [
    {
     "name": "stdout",
     "output_type": "stream",
     "text": [
      "Standard enthalpy of formation of CH3COOH=Kcal per mol -116.4\n"
     ]
    }
   ],
   "source": [
    "dHfH2O=-68.32;#dHf value of H2O in kcal per mol#\n",
    "dHfCO2=-94.05;#dHf value of CO2 in kcal per mol#\n",
    "dH298=-208.34;#enthalphy change at 298K in Kcal#\n",
    "dHfCH3COOH=(2*dHfH2O+2*dHfCO2-dH298);#dHf value of CH3COOH in Kcal per mol#\n",
    "print'Standard enthalpy of formation of CH3COOH=Kcal per mol',dHfCH3COOH\n"
   ]
  },
  {
   "cell_type": "markdown",
   "metadata": {},
   "source": [
    "## Example 5_11 pgno:261"
   ]
  },
  {
   "cell_type": "code",
   "execution_count": 82,
   "metadata": {
    "collapsed": false
   },
   "outputs": [
    {
     "name": "stdout",
     "output_type": "stream",
     "text": [
      "Standard enthalpy of formation of ZnSO4 at 298K=Kcal -233.88\n"
     ]
    }
   ],
   "source": [
    "dHfZnSO4l=-36.43;#Standard heat of formation of ZnSO4 in kcal#\n",
    "dHfH2SO4l=-193.91;#Standard heat of formation of H2SO4 in kcal#\n",
    "dHfZnSO4aq=-19.45;#Heats of Dilution of ZnSO4 in kcal#\n",
    "dHfH2SO4aq=-22.99;#Heats of Dilution of H2SO4 in kcal#\n",
    "dH=dHfZnSO4l+dHfH2SO4l+dHfH2SO4aq;\n",
    "dHf298=dH-dHfZnSO4aq;#Standarad enthalphy of formation of ZnSO4 at 298K in Kcal#\n",
    "print'Standard enthalpy of formation of ZnSO4 at 298K=Kcal',dHf298\n"
   ]
  },
  {
   "cell_type": "markdown",
   "metadata": {},
   "source": [
    "## Example 5_12 pgno:265"
   ]
  },
  {
   "cell_type": "code",
   "execution_count": 83,
   "metadata": {
    "collapsed": false
   },
   "outputs": [
    {
     "name": "stdout",
     "output_type": "stream",
     "text": [
      "Net mean molar capacity=dCv=Kcal per deg -0.001735\n",
      "\n",
      "Heat of formation of water vapour at 373K=Kcal -57.93\n"
     ]
    }
   ],
   "source": [
    "CvH2=6.95*10**-3;#Mean molar capacity of H2 in Kcal per deg#\n",
    "CvO2=6.97*10**-3;#Mean molar capacity of O2 in Kcal per deg#\n",
    "CvH2O=8.7*10**-3;#Mean molar capacity of H2O in Kcal per deg#\n",
    "dCv=CvH2O-CvH2-0.5*CvO2;#Net mean molar capapcity in Kcal per deg#\n",
    "print'Net mean molar capacity=dCv=Kcal per deg',dCv\n",
    "dHf=-57.8;#Standard heat of formation of water vapour in Kcal#\n",
    "dHf373=dHf+(dCv*(373-298));#Heat of formation of water vapour at 373K in Kcal#\n",
    "print'\\nHeat of formation of water vapour at 373K=Kcal',round(dHf373,2)#here the answer is written wrong in textbook the correct answer is given here#\n"
   ]
  },
  {
   "cell_type": "markdown",
   "metadata": {},
   "source": [
    "## Example 5_13 pgno:266"
   ]
  },
  {
   "cell_type": "code",
   "execution_count": 84,
   "metadata": {
    "collapsed": false
   },
   "outputs": [
    {
     "name": "stdout",
     "output_type": "stream",
     "text": [
      "\n",
      "Enthropy of formation of CO2 at 300K=Kcal 94.1\n"
     ]
    }
   ],
   "source": [
    "CvCO2=1.331;#Mean molar capacity of CO2 in Kcal per deg#\n",
    "CvC=6.714*10**-3;#Mean molar capacity of C in Kcal per deg#\n",
    "CvO2=-77.09*10**-7;#Mean molar capacity of O2 in Kcal per deg#\n",
    "T1=300.;#Initial Temperature in kelvin#\n",
    "T2=400.;#final temperature in Kelvin#\n",
    "dHf400=-94.06;#Enthalpy change in the formation of CO2 at 400k in Kcal#\n",
    "dHf300=dHf400-((CvCO2*(T2-T1))-(0.5*CvC*(T2**2-T1**2))-(0.33*CvO2*(37*10**6)))*10**-3;#Enthropy of formation of CO2 at 300K in Kcal#\n",
    "print'\\nEnthropy of formation of CO2 at 300K=Kcal',round(-1*dHf300,1)#in textbook the answer is not having negative answer#\n"
   ]
  },
  {
   "cell_type": "markdown",
   "metadata": {},
   "source": [
    "## Example 5_14 pgno:266"
   ]
  },
  {
   "cell_type": "code",
   "execution_count": 85,
   "metadata": {
    "collapsed": false
   },
   "outputs": [
    {
     "name": "stdout",
     "output_type": "stream",
     "text": [
      "Enthalpy change for the oxidation of NH3 at 298K=Kcal -216.24\n"
     ]
    }
   ],
   "source": [
    "dHfNH3=-11.04;#Standard heat of formation of NH3 in kcal#\n",
    "dHfH2O=-57.80;#Standard heat of formation of H2O in kcal#\n",
    "dHfNO=21.60;#Standard heat of formation of NO in kcal#\n",
    "dHfO2=0;#Standard heat of formation of O2 in Kcal#\n",
    "dH=4*dHfNO+6*dHfH2O-4*dHfNH3-5*dHfO2;#Enthalpy change for the oxidation of NH3#\n",
    "print'Enthalpy change for the oxidation of NH3 at 298K=Kcal',dH\n"
   ]
  },
  {
   "cell_type": "markdown",
   "metadata": {},
   "source": [
    "## Example 5_15 pgno:268"
   ]
  },
  {
   "cell_type": "code",
   "execution_count": 86,
   "metadata": {
    "collapsed": false
   },
   "outputs": [
    {
     "name": "stdout",
     "output_type": "stream",
     "text": [
      "\n",
      "Enthalpy change for the oxidation of NH3 at 773K=cal=-215.69Kcal -215694.0\n"
     ]
    }
   ],
   "source": [
    "T=773;#temperature in kelvin#\n",
    "dH298=-216240;#Enthalpy change for the oxidation of NH3 in cal#\n",
    "CvO2=6.148+T*3.102*10**-3-(T**2)*9.23*10**-7;#heat capacity of O2 in cal deg**-1 mol**-1#\n",
    "CvH2O=7.219+T*2.374*10**-3+(T**2)*2.67*10**-7;#Heat capacity of H2O in cal deg**-1 mol**-1#\n",
    "CvNO=6.50+T*1*10**-3;#Heat capacity of NO in cal per deg per mol#\n",
    "CvNH3=6.189+T*7.887*10**-3-(T**2)*7.28*10**-7;#Heat capacity of H2O in cal deg**-1 mol**-1#\n",
    "dCv=4*CvNO+6*CvH2O-4*CvNH3-5*CvO2;#Heat capacity change for oxidation#\n",
    "da=13.818;\n",
    "db=-28.814*10**-3;\n",
    "dc=91.29*10**-7;\n",
    "T1=298;#temperature in kelvin#\n",
    "dH773=dH298+(T-T1)*da+(T**2-T1**2)*0.5*db+(T**3-T1**3)*0.33*dc;#Enthalpy change for the oxidation of NH3 at 773k in cal#\n",
    "print'\\nEnthalpy change for the oxidation of NH3 at 773K=cal=-215.69Kcal',round(dH773)#here the answer is slightly different#\n"
   ]
  },
  {
   "cell_type": "markdown",
   "metadata": {},
   "source": [
    "## Example 5_16 pgno:269"
   ]
  },
  {
   "cell_type": "code",
   "execution_count": 87,
   "metadata": {
    "collapsed": false
   },
   "outputs": [
    {
     "name": "stdout",
     "output_type": "stream",
     "text": [
      "Enthalpy change of the reaction=dE=Kcal -96\n"
     ]
    }
   ],
   "source": [
    "ECH=99;#bond energy of CH bond in Kcal#\n",
    "EClCl=58;#bond energy of ClCl bond in Kcal#\n",
    "ECCl=78;#bond energy of CCl bond in Kcal#\n",
    "EHCl=103;#bond energy of HCl bond in Kcal#\n",
    "dE=4*ECH+4*EClCl-4*ECCl-4*EHCl;#Net change in bond energy in kcal#\n",
    "print'Enthalpy change of the reaction=dE=Kcal',dE\n"
   ]
  },
  {
   "cell_type": "markdown",
   "metadata": {},
   "source": [
    "## Example 5_18 pgno:272"
   ]
  },
  {
   "cell_type": "code",
   "execution_count": 88,
   "metadata": {
    "collapsed": false
   },
   "outputs": [
    {
     "name": "stdout",
     "output_type": "stream",
     "text": [
      "The air used contains 2 mol of N2.\n",
      "dU=-57500cal.\n",
      "\n",
      "Cv value of N2=CvN2=Kcal deg^-1 mol^-1 6.31\n",
      "\n",
      "Cv value of H2O=CvH2O=Kcal deg^-1 mol^-1 9.31\n",
      "\n",
      "Solving integration we get T2=2940K.The maximum pressure can be calculated from PV=nRT equation.\n",
      "\n",
      "Maximum pressure of the reaction=P2=atm 8.46\n"
     ]
    }
   ],
   "source": [
    "dH=-57800;#Enthalpy change in cal#\n",
    "R=1.99;#universal gas constant#\n",
    "T=298;#temperture in kelvin#\n",
    "dn=-0.5;#change in no. of moles#\n",
    "dU=dH-(R*T*dn);#heat of combustion in cal#\n",
    "print'The air used contains 2 mol of N2.\\ndU=-57500cal.'\n",
    "CpN2=8.3;#Cp value of N2#\n",
    "CpH2O=11.3;#Cp value of H2O#\n",
    "CvN2=CpN2-R;#Cv value of N2#\n",
    "CvH2O=CpH2O-R;#Cv value of H2O#\n",
    "print'\\nCv value of N2=CvN2=Kcal deg^-1 mol^-1',CvN2\n",
    "print'\\nCv value of H2O=CvH2O=Kcal deg^-1 mol^-1',CvH2O\n",
    "print'\\nSolving integration we get T2=2940K.The maximum pressure can be calculated from PV=nRT equation.'\n",
    "P1=1;#initial pressure in atm#\n",
    "n1=3.5;\n",
    "n2=3;\n",
    "T2=2940;#final temperature in Kelvin#\n",
    "P2=(P1*n2*T2)/(n1*T);#maximum pressure in atm#\n",
    "print'\\nMaximum pressure of the reaction=P2=atm',round(P2,2)\n"
   ]
  },
  {
   "cell_type": "markdown",
   "metadata": {},
   "source": [
    "## Example 5_20 pgno:288"
   ]
  },
  {
   "cell_type": "code",
   "execution_count": 89,
   "metadata": {
    "collapsed": false
   },
   "outputs": [
    {
     "name": "stdout",
     "output_type": "stream",
     "text": [
      "The maximum possible efficiency is obtained only in a reversible carnots cycle according to which ME=dT/T.\n",
      "\n",
      "Maximum possible efficiency for operating temperature between 300K and 373K=ME1= 0.196\n",
      "\n",
      "Maximum possible efficiency for operating temperature between 300K and 630K=ME1= 0.524\n",
      "\n",
      "Maximum possible efficiency for operating temperature between 300K and 510K=ME3= 0.412\n"
     ]
    }
   ],
   "source": [
    "print'The maximum possible efficiency is obtained only in a reversible carnots cycle according to which ME=dT/T.'\n",
    "T=300.;#initial temperature of steam engine in kelvin#\n",
    "T1=373.;#operating temperature in kelvin#\n",
    "ME1=(T1-T)/T1;#maximum possible efficiency for temperature range of 300k to 373k#\n",
    "print'\\nMaximum possible efficiency for operating temperature between 300K and 373K=ME1=',round(ME1,3)\n",
    "T2=630.;#operating temperature in kelvin#\n",
    "ME2=(T2-T)/T2;#maximum possible efficiency for temperature range of 300k to 630k#\n",
    "print'\\nMaximum possible efficiency for operating temperature between 300K and 630K=ME1=',round(ME2,3)\n",
    "T3=510.;#operating temperature in kelvin#\n",
    "ME3=(T3-T)/T3;#maximum possible efficiency for temperature range of 300k to 510k#\n",
    "print'\\nMaximum possible efficiency for operating temperature between 300K and 510K=ME3=',round(ME3,3)\n"
   ]
  },
  {
   "cell_type": "markdown",
   "metadata": {},
   "source": [
    "## Example 5_22 pgno:291"
   ]
  },
  {
   "cell_type": "code",
   "execution_count": 90,
   "metadata": {
    "collapsed": false
   },
   "outputs": [
    {
     "name": "stdout",
     "output_type": "stream",
     "text": [
      "Change in entropy=dS=eu -6.0\n"
     ]
    }
   ],
   "source": [
    "from math import log10\n",
    "T1=300.;#initial temperature in kelvin#\n",
    "T2=400.;#final temperature in kelvin#\n",
    "P1=2.;#initial pressure in atm#\n",
    "P2=10.;#final pressure in atm#\n",
    "R=1.99;\n",
    "n=5.;#no.of moles#\n",
    "Cv=6.95;\n",
    "dS=n*Cv*2.303*log10(T2/T1)-n*2.303*R*log10(P2/P1);\n",
    "print'Change in entropy=dS=eu',round(dS)\n"
   ]
  },
  {
   "cell_type": "markdown",
   "metadata": {},
   "source": [
    "## Example 5_23 pgno:292"
   ]
  },
  {
   "cell_type": "code",
   "execution_count": 91,
   "metadata": {
    "collapsed": false
   },
   "outputs": [
    {
     "name": "stdout",
     "output_type": "stream",
     "text": [
      "Entropy change accompanying the vapourization=dS=eu or cal per deg 20.18\n"
     ]
    }
   ],
   "source": [
    "Lv=6896;#Latent heat of vapourization in cal per mol#\n",
    "Tb=341.7;#Boiling temperature in kelvin#\n",
    "dS=Lv/Tb;#entropy change accompanying the vapourization in eu#\n",
    "print'Entropy change accompanying the vapourization=dS=eu or cal per deg',round(dS,2)\n"
   ]
  },
  {
   "cell_type": "markdown",
   "metadata": {},
   "source": [
    "## Example 5_24 pgno:293"
   ]
  },
  {
   "cell_type": "code",
   "execution_count": 92,
   "metadata": {
    "collapsed": false
   },
   "outputs": [
    {
     "name": "stdout",
     "output_type": "stream",
     "text": [
      "Change in entropy for temperature change between 300k to 600k=dS2=cal per deg 4.22\n",
      "\n",
      "Change in entropy for temperature change between 373k to 746k=dS4=cal per deg 4.22\n"
     ]
    }
   ],
   "source": [
    "from math import log10\n",
    "T1=300.;#initial temperature in kelvin#\n",
    "T2=600.;#final temperature in kelvin#\n",
    "T3=373.;#initial temperature in kelvin#\n",
    "T4=746.;#final temperature in kelvin#\n",
    "Cv=6.09;#molar heat capacity in cal per deg#\n",
    "dS2=Cv*2.303*log10(T2/T1);#change in entropy for temperature change between 300k to 600k#\n",
    "print'Change in entropy for temperature change between 300k to 600k=dS2=cal per deg',round(dS2,2)\n",
    "dS4=Cv*2.303*log10(T4/T3);#change in entropy for temperature change between 373k to 746k#\n",
    "print'\\nChange in entropy for temperature change between 373k to 746k=dS4=cal per deg',round(dS4,2)\n"
   ]
  },
  {
   "cell_type": "markdown",
   "metadata": {},
   "source": [
    "## Example 5_25 pgno:295"
   ]
  },
  {
   "cell_type": "code",
   "execution_count": 93,
   "metadata": {
    "collapsed": false
   },
   "outputs": [
    {
     "name": "stdout",
     "output_type": "stream",
     "text": [
      "Change in entropy for temperature change between 300k to 692k=dS1=eu 5.03\n",
      "\n",
      "Change in entropy in the process of fusion=dS2=eu 2.6\n",
      "\n",
      "Change in entropy for temperature change between 692k to 1180k=dS3=eu 3.21\n",
      "\n",
      "Change in entropy in the process of vapourization=dS4=eu 23.47\n",
      "\n",
      "Change in entropy for temperature change between 1180k to 1500k=dS5=eu 1.44355374952\n",
      "\n",
      "Total entropy change accompanying the process=dStotal=eu 35.76\n"
     ]
    }
   ],
   "source": [
    "from math import log10\n",
    "T=300.;#initial temperature in kelvin#\n",
    "T1=692.;#temperature in kelvin#\n",
    "T2=1180.;#temperature in kelvin#\n",
    "T3=1500.;#final temperature in kelvin#\n",
    "Lf=1800.;#Latent heat of fusion in cal per mol#\n",
    "Tf=692.;#temperature of fusion in kelvin#\n",
    "Lv=27700.;#Latent heat of vapourization in cal per mol#\n",
    "Tv=1180.;#temperature of vapourization in kelvin#\n",
    "SH=0.092;#specific heat of Zn in cal per deg per gram#\n",
    "w=65.38;#atomic weight of Zn#\n",
    "Cv=w*SH;#molar heat capacity in cal per deg#\n",
    "dS1=Cv*2.303*log10(T1/T);#change in entropy for temperature change between 300k to 692k#\n",
    "print'Change in entropy for temperature change between 300k to 692k=dS1=eu',round(dS1,2)\n",
    "dS2=Lf/Tf;#change in entropy in the process of fusion in eu#\n",
    "print'\\nChange in entropy in the process of fusion=dS2=eu',round(dS2,2)\n",
    "dS3=Cv*2.303*log10(T2/T1);#change in entropy for temperature change between 692k to 1180k#\n",
    "print'\\nChange in entropy for temperature change between 692k to 1180k=dS3=eu',round(dS3,2)\n",
    "dS4=Lv/Tv;#change in entropy in the process of vapourization in eu#\n",
    "print'\\nChange in entropy in the process of vapourization=dS4=eu',round(dS4,2)\n",
    "dS5=Cv*2.303*log10(T3/T2);#change in entropy for temperature change between 1180k to 1500k#\n",
    "print'\\nChange in entropy for temperature change between 1180k to 1500k=dS5=eu',dS5\n",
    "dStotal=dS1+dS2+dS3+dS4+dS5;#total entropy change accompanying the process in eu#\n",
    "print'\\nTotal entropy change accompanying the process=dStotal=eu',round(dStotal,2)\n"
   ]
  },
  {
   "cell_type": "markdown",
   "metadata": {},
   "source": [
    "## Example 5_26 pgno:299"
   ]
  },
  {
   "cell_type": "code",
   "execution_count": 94,
   "metadata": {
    "collapsed": false
   },
   "outputs": [
    {
     "name": "stdout",
     "output_type": "stream",
     "text": [
      "This is a spontaneous process.Since dS is independent of the manner in which the processes are conducted,\n",
      "the above irreversible process can be considered to take place reversibly.\n",
      "\n",
      "Change in entropy of H2O for temperature change between 300k to 370k=dSH2O=eu -3.77564977632\n",
      "\n",
      "Change in entropy of thermostat=dSthermostat=eu 4.2\n",
      "\n",
      "Net entropy change=dS=eu 0.42\n"
     ]
    }
   ],
   "source": [
    "from math import log10\n",
    "print'This is a spontaneous process.Since dS is independent of the manner in which the processes are conducted,\\nthe above irreversible process can be considered to take place reversibly.'\n",
    "T1=300.;#initial temperature in kelvin#\n",
    "T2=370.;#final temperature in kelvin#\n",
    "Cv=18.;#molar heat capacity in cal per deg#\n",
    "dSH2O=-Cv*2.303*log10(T2/T1);#change in entropy of H2O for temperature change between 300k to 370k#\n",
    "print'\\nChange in entropy of H2O for temperature change between 300k to 370k=dSH2O=eu',dSH2O\n",
    "dT=T2-T1;#change in temperature in kelvin#\n",
    "dSthermostat=Cv*dT/T1;#change in entropy of thermostat in eu#\n",
    "print'\\nChange in entropy of thermostat=dSthermostat=eu',dSthermostat\n",
    "dS=dSH2O+dSthermostat;#net entropy chane in eu#\n",
    "print'\\nNet entropy change=dS=eu',round(dS,2)\n"
   ]
  },
  {
   "cell_type": "markdown",
   "metadata": {},
   "source": [
    "## Example 5_27 pgno:307"
   ]
  },
  {
   "cell_type": "code",
   "execution_count": 95,
   "metadata": {
    "collapsed": false
   },
   "outputs": [
    {
     "name": "stdout",
     "output_type": "stream",
     "text": [
      "Standard free energy change accompanying the combustion of ethanol at 298K=Kcal -316.82\n"
     ]
    }
   ],
   "source": [
    "dGC2H6O=-41.77;#Standard free energy change of C2H6O in Kcal per mol#\n",
    "dGCO2=-94.26;#Standard free energy change of CO2 in Kcal per mol#\n",
    "dGH2O=-56.69;#Standard free energy change of C2H6O in Kcal per mol#\n",
    "dGO2=0;#Standard free energy change of O2 in Kcal per mol#\n",
    "dG=2*dGCO2+3*dGH2O-dGC2H6O-3*dGO2;#Standard free energy change in Kcal#\n",
    "print'Standard free energy change accompanying the combustion of ethanol at 298K=Kcal',dG\n"
   ]
  },
  {
   "cell_type": "markdown",
   "metadata": {},
   "source": [
    "## Example 5_28 pgno:307"
   ]
  },
  {
   "cell_type": "code",
   "execution_count": 96,
   "metadata": {
    "collapsed": false
   },
   "outputs": [
    {
     "name": "stdout",
     "output_type": "stream",
     "text": [
      "Standard free energy change accompanying the Oxidation of ethanol to acetic acid=Kcal -108.72\n",
      "\n",
      "Since dG is negative the reaction is feasible under these conditions.\n"
     ]
    }
   ],
   "source": [
    "dGCH3COOH=-93.8;#Standard free energy change of CH3COOH in Kcal per mol#\n",
    "dGCH3CH2OH=-41.77;#Standard free energy change of CH3CH2OH in Kcal per mol#\n",
    "dGH2O=-56.69;#Standard free energy change of C2H6O in Kcal per mol#\n",
    "dGO2=0;#Standard free energy change of O2 in Kcal per mol#\n",
    "dG=dGCH3COOH+dGH2O-dGCH3CH2OH-dGO2;#Standard free energy change in Kcal#\n",
    "print'Standard free energy change accompanying the Oxidation of ethanol to acetic acid=Kcal',dG\n",
    "print'\\nSince dG is negative the reaction is feasible under these conditions.'\n"
   ]
  },
  {
   "cell_type": "markdown",
   "metadata": {},
   "source": [
    "## Example 5_29 pgno:307"
   ]
  },
  {
   "cell_type": "code",
   "execution_count": 97,
   "metadata": {
    "collapsed": false
   },
   "outputs": [
    {
     "name": "stdout",
     "output_type": "stream",
     "text": [
      "Standard free energy change accompanying the given reaction=Kcal 10.19\n",
      "\n",
      "Since dG is positive the reaction is not feasible under these conditions but the reverse reation is possible.\n"
     ]
    }
   ],
   "source": [
    "dGAgCl=-26.22;#Standard free energy change of AgCl in Kcal per mol#\n",
    "dGAgI=-15.85;#Standard free energy change of AgI in Kcal per mol#\n",
    "dGKCl=-97.59;#Standard free energy change of KCl in Kcal per mol#\n",
    "dGKI=-77.03;#Standard free energy change of KI in Kcal per mol#\n",
    "dG=dGAgCl+dGKI-dGAgI-dGKCl;#Standard free energy change in Kcal#\n",
    "print'Standard free energy change accompanying the given reaction=Kcal',dG\n",
    "print'\\nSince dG is positive the reaction is not feasible under these conditions but the reverse reation is possible.'\n",
    "  "
   ]
  },
  {
   "cell_type": "markdown",
   "metadata": {},
   "source": [
    "## Example 5_30 pgno:315"
   ]
  },
  {
   "cell_type": "code",
   "execution_count": 98,
   "metadata": {
    "collapsed": false
   },
   "outputs": [
    {
     "name": "stdout",
     "output_type": "stream",
     "text": [
      "Standard entropy change accompanying the reduction of Fe2O3 by CO=cal per deg per mol 2.9\n",
      "\n",
      "Here it will be noticed that dS is very small but definitely positive.\n",
      "\n",
      "The small value due to the fact that there is no change in number of moles of gases\n",
      "which are major contributors to the entropy change.\n"
     ]
    }
   ],
   "source": [
    "SFe2O3=21.5;#Standard Entropy of Fe2O3 in cal per deg per mol#\n",
    "SCO=47.3;#Standard Entropy of CO in cal per deg per mol#\n",
    "SFe=6.5;#Standard Entropy of Fe in cal per deg per mol#\n",
    "SCO2=51.1;#Standard Entropy of CO2 in cal per deg per mol#\n",
    "dS=2*SFe+3*SCO2-SFe2O3-3*SCO;#Standard entropy change in cal per deg per mol#\n",
    "print'Standard entropy change accompanying the reduction of Fe2O3 by CO=cal per deg per mol',dS\n",
    "print'\\nHere it will be noticed that dS is very small but definitely positive.'\n",
    "print'\\nThe small value due to the fact that there is no change in number of moles of gases\\nwhich are major contributors to the entropy change.'\n"
   ]
  },
  {
   "cell_type": "markdown",
   "metadata": {},
   "source": [
    "## Example 5_31 pgno:315"
   ]
  },
  {
   "cell_type": "code",
   "execution_count": 99,
   "metadata": {
    "collapsed": false
   },
   "outputs": [
    {
     "name": "stdout",
     "output_type": "stream",
     "text": [
      "Standard entropy change in the given reaction=cal per deg per mol 38.4\n"
     ]
    }
   ],
   "source": [
    "SCaCO3=22.2;#Standard Entropy of CaCO3 in cal per deg per mol#\n",
    "SCaO=9.5;#Standard Entropy of CaO in cal per deg per mol#\n",
    "SCO2=51.1;#Standard Entropy of CO2 in cal per deg per mol#\n",
    "dS=SCaO+SCO2-SCaCO3;#Standard entropy change in cal per deg per mol#\n",
    "print'Standard entropy change in the given reaction=cal per deg per mol',dS\n"
   ]
  },
  {
   "cell_type": "markdown",
   "metadata": {},
   "source": [
    "## Example 5_32 pgno:315"
   ]
  },
  {
   "cell_type": "code",
   "execution_count": 100,
   "metadata": {
    "collapsed": false
   },
   "outputs": [
    {
     "name": "stdout",
     "output_type": "stream",
     "text": [
      "Standard entropy change in the given reaction=cal per deg per mol -51.88\n"
     ]
    }
   ],
   "source": [
    "SFe2O3=21.5;#Standard Entropy of Fe2O3 in cal per deg per mol#\n",
    "SH2=31.21;#Standard Entropy of H2 in cal per deg per mol#\n",
    "SFe=6.5;#Standard Entropy of Fe in cal per deg per mol#\n",
    "SH2O=16.75;#Standard Entropy of H2O in cal per deg per mol#\n",
    "dS=2*SFe+3*SH2O-SFe2O3-3*SH2;#Standard entropy change in cal per deg per mol#\n",
    "print'Standard entropy change in the given reaction=cal per deg per mol',dS\n"
   ]
  },
  {
   "cell_type": "markdown",
   "metadata": {},
   "source": [
    "## Example 5_33 pgno:323"
   ]
  },
  {
   "cell_type": "code",
   "execution_count": 101,
   "metadata": {
    "collapsed": false
   },
   "outputs": [
    {
     "name": "stdout",
     "output_type": "stream",
     "text": [
      "For an ideal gas density=M*P/R*T.\n",
      "Where M is molecular weight=28.\n",
      "Temperature being constant,if p1 and p2 are the densities at 1atm and 50atm respectively\n",
      "\n",
      "If N2 gas behaved ideally at 273k,the ideal pressure Pideal is given by p2*R*T/M\n",
      "\n",
      "Ideal pressure=Pideal=atm 50.0296875\n",
      "\n",
      "Fugacity of the N2gas=f=atm 49.97\n"
     ]
    }
   ],
   "source": [
    "T=273.;#temperature in kelvin#\n",
    "P1=1.;#pressure in atm#\n",
    "M=28.;#molecular weight of N2 in grams#\n",
    "print'For an ideal gas density=M*P/R*T.\\nWhere M is molecular weight=28.\\nTemperature being constant,if p1 and p2 are the densities at 1atm and 50atm respectively'\n",
    "P2=1.25;#pressure in atm#\n",
    "p1=50;#density at 1atm pressure#\n",
    "p2=p1*P2;\n",
    "print'\\nIf N2 gas behaved ideally at 273k,the ideal pressure Pideal is given by p2*R*T/M'\n",
    "Pideal=p2*0.0821*T/M;\n",
    "print'\\nIdeal pressure=Pideal=atm',Pideal\n",
    "f=p1**2/Pideal;\n",
    "print'\\nFugacity of the N2gas=f=atm',round(f,2)\n"
   ]
  },
  {
   "cell_type": "markdown",
   "metadata": {},
   "source": [
    "## Example 5_34 pgno:327"
   ]
  },
  {
   "cell_type": "code",
   "execution_count": 102,
   "metadata": {
    "collapsed": false
   },
   "outputs": [
    {
     "name": "stdout",
     "output_type": "stream",
     "text": [
      "dP/dT=0.357atm per deg=28.55mm of Hg per deg\n",
      "\n",
      "Change in entropy=dS=cal per deg per mol 26.1\n"
     ]
    }
   ],
   "source": [
    "M=18;#molecular weight of water in grams#\n",
    "Dl=0.958;#density of water in liquid form in gram per cm^3#\n",
    "Dv=5.98*10**-4;#density of water in vapour form in gram per cm^3#\n",
    "MVl=M/Dl;#molar volume of water in liquid form in cm^3#\n",
    "MVv=M/Dv;#molar volume of water in vapour form in cm^3#\n",
    "L=540;#Latent heat of vapourization in cal per gram#\n",
    "T=373;#temperature in kelvin#\n",
    "dV=30.11;\n",
    "dP=(L*M)/(T*dV);\n",
    "print'dP/dT=0.357atm per deg=28.55mm of Hg per deg'\n",
    "dS=dP*dV;#change in entropy in cal per deg per mol#\n",
    "print'\\nChange in entropy=dS=cal per deg per mol',round(dS,1)\n"
   ]
  },
  {
   "cell_type": "markdown",
   "metadata": {},
   "source": [
    "## Example 5_35 pgno:329"
   ]
  },
  {
   "cell_type": "code",
   "execution_count": 103,
   "metadata": {
    "collapsed": false
   },
   "outputs": [
    {
     "name": "stdout",
     "output_type": "stream",
     "text": [
      "Latent heat of vapourization of benzene=Lv=cal per mol 7413.0\n",
      "\n",
      "vapour pressure of benzene=P=atm 4.05788614868e-06\n",
      "\n",
      "Vapour pressure of benzene in mm of Hg=PHg=mm of Hg 0.00308\n"
     ]
    }
   ],
   "source": [
    "dS=21.0;#standard entropy change of benzene in cal per deg per mol#\n",
    "Tb=353;#boiling point of benzene in kelvin#\n",
    "Lv=dS*Tb;#latent heat of vapourization of benzene in cal per mol#\n",
    "print'Latent heat of vapourization of benzene=Lv=cal per mol',Lv\n",
    "T=300.;#temperature in kelvin#\n",
    "R=1.99;#universal gas constant#\n",
    "P=10**(Lv*((1/Tb)-(1/T))/(2.303*R));#vapour pressure of benzene in atm#\n",
    "PHg=P*760;#vapour pressure in mm of Hg#\n",
    "print'\\nvapour pressure of benzene=P=atm',P\n",
    "print'\\nVapour pressure of benzene in mm of Hg=PHg=mm of Hg',round(PHg,5)\n"
   ]
  },
  {
   "cell_type": "markdown",
   "metadata": {},
   "source": [
    "## Example 5_36 pgno:330"
   ]
  },
  {
   "cell_type": "code",
   "execution_count": 104,
   "metadata": {
    "collapsed": false
   },
   "outputs": [
    {
     "name": "stdout",
     "output_type": "stream",
     "text": [
      "\n",
      "operating temperature of the reactor=T1=K 303.545460895\n",
      "\n",
      "Hence the plant can be operated at a temperature of 303.500Kelvin or 30.500degrees \n",
      "since at a temperature higher than this the liquid phase no longer exists.\n"
     ]
    }
   ],
   "source": [
    "from math import log10\n",
    "T2=373.;#final temperature in kelvin#\n",
    "Lv=540*18;#latent heat of vapourization of water in cal per mol#\n",
    "P1=1./20.;#initial pressure in atm#\n",
    "P2=1;#final pressure in atm#\n",
    "R=1.99;#universal gas constant#\n",
    "T1=1/((1/T2)+(2.303*R*log10(P2/P1)/Lv));\n",
    "print'\\noperating temperature of the reactor=T1=K',T1\n",
    "print'\\nHence the plant can be operated at a temperature of 303.500Kelvin or 30.500degrees \\nsince at a temperature higher than this the liquid phase no longer exists.'\n"
   ]
  },
  {
   "cell_type": "markdown",
   "metadata": {},
   "source": [
    "## Example 5_37 pgno:330"
   ]
  },
  {
   "cell_type": "code",
   "execution_count": 105,
   "metadata": {
    "collapsed": false
   },
   "outputs": [
    {
     "name": "stdout",
     "output_type": "stream",
     "text": [
      "\n",
      "pressure of water at which we can produce superheated steam=P=atm 4.7\n"
     ]
    }
   ],
   "source": [
    "T1=373.;#initial temperature in kelvin#\n",
    "Lv=540*18;#latent heat of vapourization of water in cal per mol#\n",
    "T2=423.;#final temperature in kelvin#\n",
    "R=1.99;#universal gas constant#\n",
    "P=10**(-Lv*((1/T2)-(1/T1))/(2.303*R));#vapour pressure of water in atm#\n",
    "print'\\npressure of water at which we can produce superheated steam=P=atm',round(P,2)\n"
   ]
  },
  {
   "cell_type": "markdown",
   "metadata": {},
   "source": [
    "## Example 5_38 pgno:336"
   ]
  },
  {
   "cell_type": "code",
   "execution_count": 106,
   "metadata": {
    "collapsed": false
   },
   "outputs": [
    {
     "name": "stdout",
     "output_type": "stream",
     "text": [
      "Kc for the reaction=Kc=litre per mol 287.35\n",
      "\n",
      "Kinfinite of the reaction=Kinfinite=per atm 7.0\n",
      "\n",
      "Reaction quotient invloving pressures=Qp= 500.0\n",
      "\n",
      "dGO= -2.49344752522\n",
      "\n",
      "standard free energy change in the reaction at 1000k=dG=Kcal 9.87585103556\n",
      "\n",
      "It must be noted that under these conditions dG is positive.\n",
      "so it is the dissociation of SO3 that is spontaneous.\n"
     ]
    }
   ],
   "source": [
    "from math import log10\n",
    "PPSO3=1;#partial pressure of SO3 in atm#\n",
    "PPSO2=0.2;#partial pressure of SO2 in atm#\n",
    "PPO2=0.05;#partial pressure of O2 in atm#\n",
    "Kp=3.5;\n",
    "R=0.0821;#universal gas constant#\n",
    "T=1000.;#temperture in kelvin#\n",
    "n1=3.;\n",
    "n2=2.;\n",
    "dn=n2-n1;#change in no. of moles#\n",
    "Kc=Kp/((R*T)**dn);\n",
    "print'Kc for the reaction=Kc=litre per mol',Kc\n",
    "P=2;#pressure in atm#\n",
    "Kinfinite=Kp/(P**dn);\n",
    "print'\\nKinfinite of the reaction=Kinfinite=per atm',Kinfinite\n",
    "Qp=(PPSO3**2)/(PPSO2**2*PPO2);#reation quotient involving pressures#\n",
    "print'\\nReaction quotient invloving pressures=Qp=',Qp\n",
    "dGO=-2.303*1.99*10**-3*T*log10(Kp);\n",
    "print'\\ndGO=',dGO\n",
    "dG=dGO+(2.303*1.99*10**-3*T*log10(Qp));\n",
    "print'\\nstandard free energy change in the reaction at 1000k=dG=Kcal',dG\n",
    "print'\\nIt must be noted that under these conditions dG is positive.\\nso it is the dissociation of SO3 that is spontaneous.'#here the answer given in the textbook is wrong the right one is that we got here through execution#\n"
   ]
  },
  {
   "cell_type": "markdown",
   "metadata": {},
   "source": [
    "## Example 5_39 pgno:342"
   ]
  },
  {
   "cell_type": "code",
   "execution_count": 107,
   "metadata": {
    "collapsed": false
   },
   "outputs": [
    {
     "name": "stdout",
     "output_type": "stream",
     "text": [
      "Kp=Kc=x**2/(1-x)**2=1.60\n",
      "Upon solving above equation we get x=0.56\n",
      "Total no. of moles=1-x+1-x+x+x=2\n",
      "mole percent of CO=mole percent of H2O=0.56*50=28\n",
      "\n",
      "mole percent of CO2=mole percent of H2=0.44*50=22\n",
      "So 100 volumes of the mixture will contain 28volumes of CO,28volumes of H2O\n",
      "22volumes of CO2 and 22volumes of H2.\n"
     ]
    }
   ],
   "source": [
    "Kp=1.60;#Kp for water at equilibrium#\n",
    "Kc=1.60;#at equilibrium Kp=Kc#\n",
    "x=0.56;\n",
    "print'Kp=Kc=x**2/(1-x)**2=1.60\\nUpon solving above equation we get x=0.56\\nTotal no. of moles=1-x+1-x+x+x=2\\nmole percent of CO=mole percent of H2O=0.56*50=28'\n",
    "print'\\nmole percent of CO2=mole percent of H2=0.44*50=22\\nSo 100 volumes of the mixture will contain 28volumes of CO,28volumes of H2O\\n22volumes of CO2 and 22volumes of H2.'\n"
   ]
  },
  {
   "cell_type": "markdown",
   "metadata": {},
   "source": [
    "## Example 5_40 pgno:342"
   ]
  },
  {
   "cell_type": "code",
   "execution_count": 108,
   "metadata": {
    "collapsed": false
   },
   "outputs": [
    {
     "name": "stdout",
     "output_type": "stream",
     "text": [
      "Since Kp2>Kp1 one would expect dH to be positive i.e Endothermic reaction.\n",
      "\n",
      "dH for the reaction=dH=cal=7.702Kcal 7702.0\n"
     ]
    }
   ],
   "source": [
    "from math import log10\n",
    "T1=1000.;#initial temperature in kelvin#\n",
    "Kp1=0.72;#Kp value at T1 temperature#\n",
    "T2=1260.;#final temperature in kelvin#\n",
    "Kp2=1.60;#Kp value at T2 temperature#\n",
    "R=1.99;#universal gas constant#\n",
    "print'Since Kp2>Kp1 one would expect dH to be positive i.e Endothermic reaction.'\n",
    "dH=(2.303*R*T1*T2*log10(Kp2/Kp1))/(T2-T1);\n",
    "print'\\ndH for the reaction=dH=cal=7.702Kcal',round(dH)\n"
   ]
  },
  {
   "cell_type": "markdown",
   "metadata": {},
   "source": [
    "## Example 5_41 pgno:344"
   ]
  },
  {
   "cell_type": "code",
   "execution_count": 109,
   "metadata": {
    "collapsed": false
   },
   "outputs": [
    {
     "name": "stdout",
     "output_type": "stream",
     "text": [
      "The total pressure P=PH2+PN2+PNH3.At all times PH2=3PN2\n",
      "So PNH3=P-4*PN2 or PN2=0.25*(P-PNH3).\n",
      "\n",
      "Let x represent the mole fraction of NH3 at equilibrium.\n",
      "Then 1-x represents the sum of the mole fraction of N2 and H2.\n",
      "\n",
      "Kp value for the reaction=Kp==1.5*10**-5atm**-2 1.48224425313e-05\n"
     ]
    }
   ],
   "source": [
    "P=10.;#pressure in atm#\n",
    "print'The total pressure P=PH2+PN2+PNH3.At all times PH2=3PN2\\nSo PNH3=P-4*PN2 or PN2=0.25*(P-PNH3).'\n",
    "print'\\nLet x represent the mole fraction of NH3 at equilibrium.\\nThen 1-x represents the sum of the mole fraction of N2 and H2.'\n",
    "x=0.0122;#yield of NH3 in moles#\n",
    "PNH3=x*P;#pressure of NH3 in atm#\n",
    "xNH3=x;\n",
    "PN2=0.25*(1-x)*P;#pressure of N2 in atm#\n",
    "PH2=0.75*(1-x)*P;#pressure of H2 in atm#\n",
    "Kp=(PNH3**2)/(PN2*PH2**3);\n",
    "print'\\nKp value for the reaction=Kp==1.5*10**-5atm**-2',Kp\n"
   ]
  },
  {
   "cell_type": "markdown",
   "metadata": {},
   "source": [
    "## Example 5_42 pgno:345"
   ]
  },
  {
   "cell_type": "code",
   "execution_count": 110,
   "metadata": {
    "collapsed": false
   },
   "outputs": [
    {
     "name": "stdout",
     "output_type": "stream",
     "text": [
      "If the yield of NH3 is 12.2mol percent,x=0.122\n",
      "\n",
      "Pressure of the system=P=atm 126.7\n"
     ]
    }
   ],
   "source": [
    "print'If the yield of NH3 is 12.2mol percent,x=0.122'\n",
    "x=0.122;#yield of NH3 in moles#\n",
    "Kp=1.48*10**-5;#Kp value of the equation in atm**-2#\n",
    "P=((256*x**2)/(27*Kp*(1-x)**4))**0.5;#pressure of the system in atm#\n",
    "print'\\nPressure of the system=P=atm',round(P,1)\n"
   ]
  },
  {
   "cell_type": "markdown",
   "metadata": {},
   "source": [
    "## Example 5_44 pgno:347"
   ]
  },
  {
   "cell_type": "code",
   "execution_count": 111,
   "metadata": {
    "collapsed": false
   },
   "outputs": [
    {
     "name": "stdout",
     "output_type": "stream",
     "text": [
      "PCl5=PCl3+Cl2\n",
      "\n",
      "Molecular weight of PCl5=M= 115.93341\n",
      "\n",
      "a= 0.798446194242\n",
      "\n",
      "Kp for the reaction=Kp= 1.75874492906\n",
      "\n",
      "If total pressure is increased at the same temperature,Kp being constant,a should decrease.\n",
      "Let the degree of dissociation when P=2atm be a1 at the same temperature.\n",
      "\n",
      "a1= 0.684\n"
     ]
    }
   ],
   "source": [
    "print'PCl5=PCl3+Cl2'\n",
    "M0=208.5;\n",
    "P=1;#pressure in atm#\n",
    "w=4.59;#weight of PCl5 in grams#\n",
    "V=1.7;#volume of PCl5 in gm**3#\n",
    "T=523;#temperature in kelvin#\n",
    "R=0.0821;#universal gas constant#\n",
    "M=(w*R*T)/(P*V);\n",
    "print'\\nMolecular weight of PCl5=M=',M\n",
    "a=(M0-M)/(M*(2-1));\n",
    "print'\\na=',a\n",
    "Kp=(a**2*P)/(1-a**2);\n",
    "print'\\nKp for the reaction=Kp=',Kp\n",
    "print'\\nIf total pressure is increased at the same temperature,Kp being constant,a should decrease.\\nLet the degree of dissociation when P=2atm be a1 at the same temperature.'\n",
    "P1=2;\n",
    "a1=(Kp/(P1+Kp))**0.5;\n",
    "print'\\na1=',round(a1,4)#the answers in textbook are slightly different from what we got here but it's nothing wrong#\n"
   ]
  },
  {
   "cell_type": "markdown",
   "metadata": {},
   "source": [
    "## Example 5_45 pgno:347"
   ]
  },
  {
   "cell_type": "code",
   "execution_count": 112,
   "metadata": {
    "collapsed": false
   },
   "outputs": [
    {
     "name": "stdout",
     "output_type": "stream",
     "text": [
      "Total pressure required to bring 50percent dissociation=P=3*Kp\n"
     ]
    }
   ],
   "source": [
    "a=0.5;#dissociation constant#\n",
    "P=1;\n",
    "Kp=(a**2*P)/(1-a**2);\n",
    "print'Total pressure required to bring 50percent dissociation=P=3*Kp'\n"
   ]
  },
  {
   "cell_type": "markdown",
   "metadata": {},
   "source": [
    "## Example 5_46 pgno:349"
   ]
  },
  {
   "cell_type": "code",
   "execution_count": 113,
   "metadata": {
    "collapsed": false
   },
   "outputs": [
    {
     "name": "stdout",
     "output_type": "stream",
     "text": [
      "\n",
      "Kp for the reaction=Kp= 0.0461345329009\n",
      "\n",
      "P=1atm=0.4+PCOCl2+PCO+PCl2\n",
      "sum of pressure reactants=0.6atm\n",
      "COCl2=CO+Cl2\n",
      "Here P is the total pressure due to all the participants of the reaction and is equal to 0.6atm.\n",
      "\n",
      "a1= 0.26721\n",
      "\n",
      "for Pressure of 0.6atm a has increased,thereby indicating that the forward reaction is favoured.\n"
     ]
    }
   ],
   "source": [
    "a=0.21;#dissociation constant#\n",
    "P=1;#pressure in atm#\n",
    "Kp=(a**2*P)/(1-a**2);\n",
    "print'\\nKp for the reaction=Kp=',Kp\n",
    "print'\\nP=1atm=0.4+PCOCl2+PCO+PCl2\\nsum of pressure reactants=0.6atm\\nCOCl2=CO+Cl2\\nHere P is the total pressure due to all the participants of the reaction and is equal to 0.6atm.'\n",
    "P1=0.6;\n",
    "a1=(Kp/(P1+Kp))**0.5;\n",
    "print'\\na1=',round(a1,5)\n",
    "print'\\nfor Pressure of 0.6atm a has increased,thereby indicating that the forward reaction is favoured.'#here the value of a1 is slightly different from textbook#\n"
   ]
  },
  {
   "cell_type": "markdown",
   "metadata": {},
   "source": [
    "## Example 5_47 pgno:"
   ]
  },
  {
   "cell_type": "code",
   "execution_count": 9,
   "metadata": {
    "collapsed": false
   },
   "outputs": [
    {
     "name": "stdout",
     "output_type": "stream",
     "text": [
      "K value of the reaction=K= 4.0\n",
      "\n",
      "In finding no. of moles we end up with quadratic equation 3*x**2-24*x+20=0.\n",
      "upon solving the equation we get x=7.05 and 0.945.\n",
      "\n",
      "The first solution is not admissible since the maximum yield of the ester cannot exceed one mol of acetic acid.\n",
      "Hence x=0.945 i.e yield of the ester is 94.5percent.\n",
      "\n",
      "This problem illustrates the influence of an increased concentration of the reactant\n",
      "Since using one mole of each reactant the yield of ester is only 66.66percent\n",
      "\n",
      "In finding no. of moles we end up with quadratic equation 3*x**2-9*x+4=0.\n",
      "upon solving the equation we get x=2.457 and 0.5425.\n",
      "\n",
      "The first solution is not admissible,x=0.5425.\n",
      "yield of the ester in the presence of the product water has decreased from 66.67percent to 54.25percent.\n",
      "\n",
      "other homogeneous equilibria in the liquid phase such as ionization of weak acids\n",
      "ionization of weak bases,hydrolysis of salts,etc.,can be treated likewise.\n"
     ]
    }
   ],
   "source": [
    "import sympy\n",
    "acid=1./3.;\n",
    "ester=2./3.;\n",
    "alcohol=1./3.;\n",
    "water=2./3.;\n",
    "K=(ester*water)/(acid*alcohol);\n",
    "print'K value of the reaction=K=',K\n",
    "print'\\nIn finding no. of moles we end up with quadratic equation 3*x**2-24*x+20=0.\\nupon solving the equation we get x=7.05 and 0.945.'\n",
    "print'\\nThe first solution is not admissible since the maximum yield of the ester cannot exceed one mol of acetic acid.\\nHence x=0.945 i.e yield of the ester is 94.5percent.'\n",
    "print'\\nThis problem illustrates the influence of an increased concentration of the reactant\\nSince using one mole of each reactant the yield of ester is only 66.66percent'\n",
    "x=symbols('x')\n",
    "acid=1-x;\n",
    "ester=x;\n",
    "alcohol=1-x;\n",
    "water=1+x;\n",
    "print'\\nIn finding no. of moles we end up with quadratic equation 3*x**2-9*x+4=0.\\nupon solving the equation we get x=2.457 and 0.5425.'\n",
    "print'\\nThe first solution is not admissible,x=0.5425.\\nyield of the ester in the presence of the product water has decreased from 66.67percent to 54.25percent.'\n",
    "print'\\nother homogeneous equilibria in the liquid phase such as ionization of weak acids\\nionization of weak bases,hydrolysis of salts,etc.,can be treated likewise.'\n",
    "\n",
    "\n"
   ]
  },
  {
   "cell_type": "markdown",
   "metadata": {},
   "source": [
    "## Example 5_48 pgno:353"
   ]
  },
  {
   "cell_type": "code",
   "execution_count": 115,
   "metadata": {
    "collapsed": false
   },
   "outputs": [
    {
     "name": "stdout",
     "output_type": "stream",
     "text": [
      "CaCO3+C=CaO+2CO for the dissociation of CaCO3=CaO+CO2\n",
      "\n",
      "Kp1=PCO2=29.64/760=0.039atm\n",
      "For the reduction of CO2 by C,CO2+C=2CO.Kp2=PCO^2/PCO2\n",
      "Volume percent=mol percent=mole fraction*100\n",
      "PCO=xCO*total pressure=xCO since total pressure=1atm\n",
      "xCO=PCO=0.724atm and xCO2=PCO2=0.276atm\n",
      "\n",
      "Kp2=PCO^2/PCO2=(0.724)^2/0.276=1.9atm\n",
      "\n",
      "Equilibrium constant for overall reaction=Kp3==7.41*10^-2atm^2 0.0741\n"
     ]
    }
   ],
   "source": [
    "Kp=29.64;#dissociation pressure of CaCO3 in mm of Hg#\n",
    "print'CaCO3+C=CaO+2CO for the dissociation of CaCO3=CaO+CO2'\n",
    "print'\\nKp1=PCO2=29.64/760=0.039atm\\nFor the reduction of CO2 by C,CO2+C=2CO.Kp2=PCO^2/PCO2\\nVolume percent=mol percent=mole fraction*100\\nPCO=xCO*total pressure=xCO since total pressure=1atm\\nxCO=PCO=0.724atm and xCO2=PCO2=0.276atm'\n",
    "print'\\nKp2=PCO^2/PCO2=(0.724)^2/0.276=1.9atm'\n",
    "Kp1=0.039;#dissociation pressure of CaCO3 in atm#\n",
    "Kp2=1.9;\n",
    "Kp3=Kp1*Kp2;#equilibrium constant for overall reaction in atm^2#\n",
    "print'\\nEquilibrium constant for overall reaction=Kp3==7.41*10^-2atm^2',Kp3\n"
   ]
  },
  {
   "cell_type": "markdown",
   "metadata": {},
   "source": [
    "## Example 5_49 pgno:357"
   ]
  },
  {
   "cell_type": "code",
   "execution_count": 116,
   "metadata": {
    "collapsed": false
   },
   "outputs": [
    {
     "name": "stdout",
     "output_type": "stream",
     "text": [
      "Molecular weight of Organic substance=M=grams 180.0\n"
     ]
    }
   ],
   "source": [
    "MH2O=18.;#Molecular weight of H2O in grams#\n",
    "WH2O=100.;#weight of H2O in grams#\n",
    "W=3.6;#weight of oraganic substance in grams#\n",
    "dP=0.0855;#Lowering in vapour pressure in mm of Hg#\n",
    "P=23.76;#Vapour pressure of Organic substance in mm of Hg#\n",
    "M=(W*MH2O*P)/(WH2O*dP);#Molecular weight of Organic substance in grams#\n",
    "print'Molecular weight of Organic substance=M=grams',round(M)\n"
   ]
  },
  {
   "cell_type": "markdown",
   "metadata": {},
   "source": [
    "## Example 5_50 pgno:359"
   ]
  },
  {
   "cell_type": "code",
   "execution_count": 117,
   "metadata": {
    "collapsed": false
   },
   "outputs": [
    {
     "name": "stdout",
     "output_type": "stream",
     "text": [
      "Value of Kb=Kbdeg per mol 0.51271612963\n",
      "\n",
      "Molecular weight of urea=M2=grams 60.0\n"
     ]
    }
   ],
   "source": [
    "T0=373;#temperature in kelvin#\n",
    "R=1.99;#value of R in cal per deg per mol#\n",
    "lv=540;#Latent heat of vaporization in cal per grams#\n",
    "Kb=(R*T0**2)/(1000*lv);#value of Kb in deg per mol#\n",
    "print'Value of Kb=Kbdeg per mol',Kb\n",
    "T1=373.57;#temperature in kelvin#\n",
    "W2=5;#weight of urea in grams#\n",
    "W1=75;#weight of water boils in grams#\n",
    "dT=T1-T0;#change in temperature#\n",
    "M2=(Kb*1000*W2)/(dT*W1);#Molecular weight of urea in grams#\n",
    "print'\\nMolecular weight of urea=M2=grams',round(M2)\n"
   ]
  },
  {
   "cell_type": "markdown",
   "metadata": {},
   "source": [
    "## Example 5_51 pgno:361"
   ]
  },
  {
   "cell_type": "code",
   "execution_count": 118,
   "metadata": {
    "collapsed": false
   },
   "outputs": [
    {
     "name": "stdout",
     "output_type": "stream",
     "text": [
      "The Freezing point of the solution=FP= -0.362\n"
     ]
    }
   ],
   "source": [
    "lf=80.;#Latent heat of fusion of Ice in cal per gram#\n",
    "lv=540.;#Latent heat of evaporation of water in cal per gram#\n",
    "Tf=273.;#fusion temperature in kelvin#\n",
    "Tb=373.;#Boiling temperature in kelvin#\n",
    "dTb=Tb-Tf;#change in temperature#\n",
    "dTf=(dTb*Tf**2*lv)/(Tb**2*lf*1000);\n",
    "FP=0-dTf;#Freezing point of the solution#\n",
    "print'The Freezing point of the solution=FP=',round(FP,3)\n"
   ]
  },
  {
   "cell_type": "markdown",
   "metadata": {},
   "source": [
    "## Example 5_52 pgno:362"
   ]
  },
  {
   "cell_type": "code",
   "execution_count": 119,
   "metadata": {
    "collapsed": false
   },
   "outputs": [
    {
     "name": "stdout",
     "output_type": "stream",
     "text": [
      "weight of Methanol=W2Kg 1720.43010753\n",
      "\n",
      "weight of Ethylene=W3=grams 3333.333\n"
     ]
    }
   ],
   "source": [
    "Kf=1.86;#Kf for water#\n",
    "M2=32;#Molecular weight of Methanol in grams#\n",
    "W1=10000.;#weight of H2O in grams#\n",
    "dTf=10.;#lowering freezing point of water#\n",
    "W2=(dTf*W1*M2)/(1000*Kf);#weight of methanol in grams#\n",
    "print'weight of Methanol=W2Kg',W2\n",
    "M3=62.;#Molecular weight of Ethylene in grams#\n",
    "W3=(dTf*W1*M3)/(1000*Kf);#weight of methanol in grams#\n",
    "print'\\nweight of Ethylene=W3=grams',round(W3,3)\n",
    "\n"
   ]
  },
  {
   "cell_type": "markdown",
   "metadata": {},
   "source": [
    "## Example 5_53 pgno:363"
   ]
  },
  {
   "cell_type": "code",
   "execution_count": 120,
   "metadata": {
    "collapsed": false
   },
   "outputs": [
    {
     "name": "stdout",
     "output_type": "stream",
     "text": [
      "At -18.6degrees temperature only Ice seperates from the Aqueous solution\n",
      "The weight of Glycol remains constant through its concentration Actually increases since ice seperates out on cooling.\n",
      "\n",
      "Initial Concentration=3334grams per 10Kg of Water.\n",
      "\n",
      "If dT=18.6 then m=10\n",
      "\n",
      "At -18.6Degrees 10 mol of glycol are present in 1000grams of water,i.e 620grams in 1000grams of water,or 6200grams in 10Kg of water.\n",
      "\n",
      "3334grams of glycol would be present in 10*3334/6200,i.e 5.376Kg of Water.\n",
      "\n",
      "Wt. of Ice seperating=W=Kg 4.624\n"
     ]
    }
   ],
   "source": [
    "Kf=1.86;#Kf for water#\n",
    "print'At -18.6degrees temperature only Ice seperates from the Aqueous solution\\nThe weight of Glycol remains constant through its concentration Actually increases since ice seperates out on cooling.'\n",
    "print'\\nInitial Concentration=3334grams per 10Kg of Water.'\n",
    "dT=18.6;\n",
    "m=dT/Kf;\n",
    "w=10;#initial content of water in litres#\n",
    "w1=5.376;\n",
    "W=w-w1;#weight of ice seperating in kilograms\n",
    "print'\\nIf dT=18.6 then m=10'\n",
    "print'\\nAt -18.6Degrees 10 mol of glycol are present in 1000grams of water,i.e 620grams in 1000grams of water,or 6200grams in 10Kg of water.'\n",
    "print'\\n3334grams of glycol would be present in 10*3334/6200,i.e 5.376Kg of Water.'\n",
    "print'\\nWt. of Ice seperating=W=Kg',W\n"
   ]
  },
  {
   "cell_type": "markdown",
   "metadata": {},
   "source": [
    "## Example 5_54 pgno:365"
   ]
  },
  {
   "cell_type": "code",
   "execution_count": 121,
   "metadata": {
    "collapsed": false
   },
   "outputs": [
    {
     "name": "stdout",
     "output_type": "stream",
     "text": [
      "Osmatic pressure being a colligative property depends only on the no. of mol of solute present and not on their nature.\n",
      "\n",
      "No. of moles of Sucrose in a litre solution=ns=mol per litre 0.01\n",
      "\n",
      "No. of moles of Glucose in a litre solution=ns=mol per litre 0.02\n",
      "\n",
      "No. of moles of Urea in a litre solution=ns=mol per litre 0.02\n",
      "\n",
      "Total no. of moles in a litre solution=c=mol per litre 0.05\n",
      "\n",
      "Osmatic pressure of the solution at atm 1.23\n"
     ]
    }
   ],
   "source": [
    "T=300;#temperature in kelvin#\n",
    "R=0.0821;#universal gas constant#\n",
    "Ws=0.171;#Weight of Sucrose  in the solution in grams#\n",
    "Ms=342;#Molecular weight of Sucrose in grams#\n",
    "l=0.05;#volume of solution in litres#\n",
    "ns=(Ws)/(Ms*l);#no. of moles of sucrose in the solution#\n",
    "print'Osmatic pressure being a colligative property depends only on the no. of mol of solute present and not on their nature.'\n",
    "print'\\nNo. of moles of Sucrose in a litre solution=ns=mol per litre',ns\n",
    "Wg=0.18;#Weight of glucose  in the solution in grams#\n",
    "Mg=180;#Molecular weight of glucose in grams#\n",
    "ng=(Wg)/(Mg*l);#no. of moles of glucose in the solution#\n",
    "print'\\nNo. of moles of Glucose in a litre solution=ns=mol per litre',ng\n",
    "Wu=0.06;#Weight of Urea in the solution in grams#\n",
    "Mu=60;#Molecular weight of Urea in grams#\n",
    "nu=(Wu)/(Mu*l);#no. of moles of Urea in the solution#\n",
    "print'\\nNo. of moles of Urea in a litre solution=ns=mol per litre',nu\n",
    "c=ns+ng+nu;#total no of moles in a litre solution#\n",
    "print'\\nTotal no. of moles in a litre solution=c=mol per litre',c\n",
    "OP=c*R*T;#Osmatic pressure in atms#\n",
    "print'\\nOsmatic pressure of the solution at atm',round(OP,2)\n"
   ]
  },
  {
   "cell_type": "markdown",
   "metadata": {},
   "source": [
    "## Example 5_55 pgno:365"
   ]
  },
  {
   "cell_type": "code",
   "execution_count": 122,
   "metadata": {
    "collapsed": false
   },
   "outputs": [
    {
     "name": "stdout",
     "output_type": "stream",
     "text": [
      "The Osmatic pressure given in terms of the height of a liquid column must be converted into an equivalent height of a mercury column.\n",
      "\n",
      "Equivalent Height of the mercury column=Hm=mm 0.155294117647\n",
      "\n",
      "The density of solution is equal to density of solvent since the solution is dilute.\n",
      "Let M2 be the molecular weight of polymer.\n",
      "\n",
      "Molecular weight of polymer=M2==3.11*10^5grams 311389.0\n"
     ]
    }
   ],
   "source": [
    "Hb=2.4;#rise of the benzene solution in mm#\n",
    "Db=0.88;#Density of Benzene solution in g per cm^3#\n",
    "Dm=13.6;#Density of mercury solution in g per cm^3#\n",
    "Hm=(Hb*Db)/Dm;#Rise of mercury solution in mm#\n",
    "print'The Osmatic pressure given in terms of the height of a liquid column must be converted into an equivalent height of a mercury column.'\n",
    "print'\\nEquivalent Height of the mercury column=Hm=mm',Hm\n",
    "print'\\nThe density of solution is equal to density of solvent since the solution is dilute.\\nLet M2 be the molecular weight of polymer.'\n",
    "R=0.0821;#Universal gas constant#\n",
    "T=310;#temperature in kelvin#\n",
    "M2=(2.5*R*T*760)/Hm;#Molecular weight of polymer in grams#\n",
    "print'\\nMolecular weight of polymer=M2==3.11*10^5grams',round(M2)\n"
   ]
  },
  {
   "cell_type": "markdown",
   "metadata": {},
   "source": [
    "## Example 5_56 pgno:366"
   ]
  },
  {
   "cell_type": "code",
   "execution_count": 123,
   "metadata": {
    "collapsed": false
   },
   "outputs": [
    {
     "name": "stdout",
     "output_type": "stream",
     "text": [
      "Concentration of glucose=c=M 0.300577580449\n",
      "\n",
      "Weight in one litre=W=grams 54.1\n"
     ]
    }
   ],
   "source": [
    "T=310;#temperature in kelvin#\n",
    "R=0.0821;#universal gas constant#\n",
    "OP=7.65;#Osmatic pressure in atm#\n",
    "c=OP/(R*T);\n",
    "print'Concentration of glucose=c=M',c\n",
    "W=c*180;#weight in one litre in grams#\n",
    "print'\\nWeight in one litre=W=grams',round(W,2)\n"
   ]
  },
  {
   "cell_type": "markdown",
   "metadata": {},
   "source": [
    "## Example 5_57 pgno:370"
   ]
  },
  {
   "cell_type": "code",
   "execution_count": 124,
   "metadata": {
    "collapsed": false
   },
   "outputs": [
    {
     "name": "stdout",
     "output_type": "stream",
     "text": [
      "Molecular weight of BaCl2 observed=Mobs=grams 85.0\n",
      "\n",
      "Apparent degree of dissociation of BaCl2=a= 0.726\n"
     ]
    }
   ],
   "source": [
    "T0=373;#temperature in kelvin#\n",
    "Kb=0.52;#value of Kb in deg per mol#\n",
    "T1=373.208;#temperature in kelvin#\n",
    "W2=3.40;#weight of BaCl2 in grams#\n",
    "W1=100;#weight of water boils in grams#\n",
    "dTb=T1-T0;#change in temperature#\n",
    "Mobs=(Kb*1000*W2)/(dTb*W1);#Molecular weight of BaCl2 observed in grams#\n",
    "print'Molecular weight of BaCl2 observed=Mobs=grams',Mobs\n",
    "Mthr=208.4;#Theoritical Molecular weight of BaCl2 in grams#\n",
    "i=Mthr/Mobs;\n",
    "a=0.5*(i-1);#apparent degree of dissociation of BaCl2#\n",
    "print'\\nApparent degree of dissociation of BaCl2=a=',round(a,3)\n",
    "\n",
    "\n"
   ]
  },
  {
   "cell_type": "markdown",
   "metadata": {},
   "source": [
    "## Example 5_58 pgno:371"
   ]
  },
  {
   "cell_type": "code",
   "execution_count": 125,
   "metadata": {
    "collapsed": false
   },
   "outputs": [
    {
     "name": "stdout",
     "output_type": "stream",
     "text": [
      "Theoritical change in temperature=dTf= 0.186\n",
      "\n",
      "Since dTobs is greater than dTf ionization must have occurred in aqueous solution.\n",
      "An organic monobasic acid RCOOH ionizes as RCOOH = RCOO- + H+.\n",
      "\n",
      "Degree of ionization=a= 0.182795698925\n",
      "\n",
      "If the acid dissolved as such in its molecular form as species dTthr=5.12*0.1=0.512,dTobs=0.265.\n",
      "\n",
      "This value is nearly half the expected value,suggesting that the molecule exists as associated molecules in solution.\n",
      "\n",
      "The acid is demerized to the extent of a1=percent. 96.484375\n"
     ]
    }
   ],
   "source": [
    "Kf=1.86;#Kf for water#\n",
    "m=0.1;#no. of moles of organic mono carboxilic acid#\n",
    "dTf=Kf*m;#Theoritical change in temperature#\n",
    "print'Theoritical change in temperature=dTf=',dTf\n",
    "dTobs=0.220;#Observed change in temperature#\n",
    "i=dTobs/dTf;\n",
    "print'\\nSince dTobs is greater than dTf ionization must have occurred in aqueous solution.\\nAn organic monobasic acid RCOOH ionizes as RCOOH = RCOO- + H+.'\n",
    "a=i-1;#degree of ionization#\n",
    "print'\\nDegree of ionization=a=',a\n",
    "print'\\nIf the acid dissolved as such in its molecular form as species dTthr=5.12*0.1=0.512,dTobs=0.265.'\n",
    "print'\\nThis value is nearly half the expected value,suggesting that the molecule exists as associated molecules in solution.'\n",
    "i1=0.265/0.512;\n",
    "a1=2*(1-i1);\n",
    "print'\\nThe acid is demerized to the extent of a1=percent.',a1*100\n"
   ]
  }
 ],
 "metadata": {
  "kernelspec": {
   "display_name": "Python 2",
   "language": "python",
   "name": "python2"
  },
  "language_info": {
   "codemirror_mode": {
    "name": "ipython",
    "version": 2
   },
   "file_extension": ".py",
   "mimetype": "text/x-python",
   "name": "python",
   "nbconvert_exporter": "python",
   "pygments_lexer": "ipython2",
   "version": "2.7.9"
  }
 },
 "nbformat": 4,
 "nbformat_minor": 0
}
