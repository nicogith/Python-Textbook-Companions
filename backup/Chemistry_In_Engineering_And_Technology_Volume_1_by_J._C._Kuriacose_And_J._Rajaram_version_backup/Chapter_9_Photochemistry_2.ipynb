{
 "cells": [
  {
   "cell_type": "markdown",
   "metadata": {},
   "source": [
    "#Chapter 9 Photochemistry"
   ]
  },
  {
   "cell_type": "markdown",
   "metadata": {},
   "source": [
    "## Example 9_1 pgno:634"
   ]
  },
  {
   "cell_type": "code",
   "execution_count": 3,
   "metadata": {
    "collapsed": false
   },
   "outputs": [
    {
     "name": "stdout",
     "output_type": "stream",
     "text": [
      "Let M be the Molecular weight of the dye.Original concentration is 30.1/M mol litre**-1\n",
      "\n",
      "From Beers law=A= 0.301029995664\n",
      "\n",
      "a/M= 0.0100009965337\n",
      "\n",
      "Percentage of light transmitted=I= 70.7\n",
      "\n",
      "Percentage of light absorbed=AI= 29.3\n",
      "\n",
      "Percentage of light transmitted=I= 25\n",
      "\n",
      "Percentage of light absorbed=AI= 75\n",
      "\n",
      "It must be noted that it is absorbance A that is linearly related to concentration and not percentage light transmitted or absorbed\n",
      "\n",
      "Percentage of light transmitted=I= 25\n",
      "\n",
      "b=cm 4.32\n"
     ]
    }
   ],
   "source": [
    "from math import log10\n",
    "print'Let M be the Molecular weight of the dye.Original concentration is 30.1/M mol litre**-1'\n",
    "I0=100.;\n",
    "I=50.;\n",
    "b=1.;\n",
    "A=log10(I0/I);\n",
    "print'\\nFrom Beers law=A=',A\n",
    "x=A/30.1;\n",
    "print'\\na/M=',x\n",
    "c=15.05;\n",
    "I=70.7;\n",
    "print'\\nPercentage of light transmitted=I=',I\n",
    "AI=100-I;\n",
    "print'\\nPercentage of light absorbed=AI=',AI\n",
    "c=60.2;\n",
    "I=25;\n",
    "print'\\nPercentage of light transmitted=I=',I\n",
    "AI=100-I;\n",
    "print'\\nPercentage of light absorbed=AI=',AI\n",
    "print'\\nIt must be noted that it is absorbance A that is linearly related to concentration and not percentage light transmitted or absorbed'\n",
    "b=2;\n",
    "c=30.1;\n",
    "I=25;\n",
    "print'\\nPercentage of light transmitted=I=',I\n",
    "b=4.32;\n",
    "print'\\nb=cm',b\n",
    "\n"
   ]
  },
  {
   "cell_type": "markdown",
   "metadata": {},
   "source": [
    "## Example 9_2 pgno:638"
   ]
  },
  {
   "cell_type": "code",
   "execution_count": 4,
   "metadata": {
    "collapsed": false
   },
   "outputs": [
    {
     "name": "stdout",
     "output_type": "stream",
     "text": [
      "Value of one einstein=E==3.96*10**12ergs 3.96183774834e+12\n",
      "\n",
      "Number of Einsteins absorbed per second=NE=3.788*10**-9\n",
      "\n",
      "Number of moles of Co formed per sec=N=2.046*10**-9\n",
      "\n",
      "Rate of formation of CO= moles per sec 2.046e-09\n"
     ]
    }
   ],
   "source": [
    "c=3*10**10;#velocity of light in cm#\n",
    "h=6.625*10**-27;#plank's constant#\n",
    "L=6.02*10**23;#Avagadro number#\n",
    "l=3020*10**-8;#wavelength of light radiation in cm#\n",
    "E=(L*h*c)/l;#value of one einstein in ergs#\n",
    "print'Value of one einstein=E==3.96*10**12ergs',E\n",
    "LA=15000.;#light absorbed in ergs per second#\n",
    "NE=LA/E;#number of einsteins absorbed per second#\n",
    "print'\\nNumber of Einsteins absorbed per second=NE=3.788*10**-9'\n",
    "QY=0.54;#Quantum yield for CO formation#\n",
    "N=QY*NE;#number of moles of CO formed per sec#\n",
    "print'\\nNumber of moles of Co formed per sec=N=2.046*10**-9'\n",
    "R=2.046*10**-9;#Rate of formation of CO in moles per sec#\n",
    "print'\\nRate of formation of CO= moles per sec',R\n"
   ]
  }
 ],
 "metadata": {
  "kernelspec": {
   "display_name": "Python 2",
   "language": "python",
   "name": "python2"
  },
  "language_info": {
   "codemirror_mode": {
    "name": "ipython",
    "version": 2
   },
   "file_extension": ".py",
   "mimetype": "text/x-python",
   "name": "python",
   "nbconvert_exporter": "python",
   "pygments_lexer": "ipython2",
   "version": "2.7.9"
  }
 },
 "nbformat": 4,
 "nbformat_minor": 0
}
