{
 "cells": [
  {
   "cell_type": "markdown",
   "metadata": {},
   "source": [
    "# Chapter 7 Electrochemistry"
   ]
  },
  {
   "cell_type": "markdown",
   "metadata": {},
   "source": [
    "## Example 7_1 pgno:434"
   ]
  },
  {
   "cell_type": "code",
   "execution_count": 41,
   "metadata": {
    "collapsed": false
   },
   "outputs": [
    {
     "name": "stdout",
     "output_type": "stream",
     "text": [
      "No. of electrons per second=N= 2.5e+16\n"
     ]
    }
   ],
   "source": [
    "q=4.0*10**-3;#quantity of electricity in coulombs#\n",
    "e=1.6*10**-19;#charge of an electron in coulombs#\n",
    "N=q/e;#no. of electrons per second#\n",
    "print'No. of electrons per second=N=',N\n"
   ]
  },
  {
   "cell_type": "markdown",
   "metadata": {},
   "source": [
    "## Example 7_2 pgno:434"
   ]
  },
  {
   "cell_type": "code",
   "execution_count": 42,
   "metadata": {
    "collapsed": false
   },
   "outputs": [
    {
     "name": "stdout",
     "output_type": "stream",
     "text": [
      "Quantity of electricity passed=q=Farads 0.559701492537\n",
      "\n",
      "If all the current is used in the deposition of Ni,i.e 100percent efficiency 0.56 equivalents of Ni should be deposited at the cathode.\n",
      "\n",
      "No. of equivalents of Ni deposited=N= 0.336\n",
      "\n",
      "Weight of Ni actually deposited=wd=grams 9.86328\n",
      "\n",
      "Volume of the Ni deposited=V=cm^3 1.10823370787\n",
      "\n",
      "Thickness of the deposit=T=cm 0.0346323033708\n",
      "\n",
      "Out of 0.56Farad, 0.336Farad is used for Ni deposition\n",
      "hence 0.224Farad is used for liberation of hydrogen.\n",
      "\n",
      "0.224 equivalent of hydrogen is=11.2*0.224=2.51litres.\n"
     ]
    }
   ],
   "source": [
    "i=3;#current passed through the solution in amps#\n",
    "t=5;#amount of time current passed through in hours#\n",
    "q=(i*t)/26.8;#quantity of electricity passed in farads#\n",
    "print'Quantity of electricity passed=q=Farads',q\n",
    "print'\\nIf all the current is used in the deposition of Ni,i.e 100percent efficiency 0.56 equivalents of Ni should be deposited at the cathode.'\n",
    "N=0.56*0.60;#No. of equivalents of Ni deposited#\n",
    "print'\\nNo. of equivalents of Ni deposited=N=',N\n",
    "w=58.71;#weight of Ni in grams#\n",
    "wd=N*w/2;#weight of Ni actually deposited in grams#\n",
    "print'\\nWeight of Ni actually deposited=wd=grams',wd\n",
    "TA=32;#total area of the cathode in cm^2 for 2faces#\n",
    "d=8.9;#density of Ni in gram per cm^3#\n",
    "V=wd/d;#volume of the Ni deposited in cm^3#\n",
    "print'\\nVolume of the Ni deposited=V=cm^3',V\n",
    "T=V/TA;#thickness of the deposit in cm#\n",
    "print'\\nThickness of the deposit=T=cm',T\n",
    "print'\\nOut of 0.56Farad, 0.336Farad is used for Ni deposition\\nhence 0.224Farad is used for liberation of hydrogen.'\n",
    "print'\\n0.224 equivalent of hydrogen is=11.2*0.224=2.51litres.'"
   ]
  },
  {
   "cell_type": "markdown",
   "metadata": {},
   "source": [
    "## Example 7_3 pgno:435"
   ]
  },
  {
   "cell_type": "code",
   "execution_count": 43,
   "metadata": {
    "collapsed": false
   },
   "outputs": [
    {
     "name": "stdout",
     "output_type": "stream",
     "text": [
      "From the cathode reaction 2mol of MnO2=2Farad.\n",
      "\n",
      "0.02Farad means  the charge=C=Coulombs. 1930.0\n",
      "\n",
      "Amount of time cell supplies the current=t=seconds 386000.0\n"
     ]
    }
   ],
   "source": [
    "i=5*10**-3;#steady current given by the cell in amps#\n",
    "w=1.7399;#amount of MnO2 used in grams#\n",
    "MW=86.95;#molecular weight of MnO2 in grams#\n",
    "F=96500;#farad value in coulombs#\n",
    "C=0.02*F;#charge value in coulombs#\n",
    "print'From the cathode reaction 2mol of MnO2=2Farad.'\n",
    "print'\\n0.02Farad means  the charge=C=Coulombs.',C\n",
    "q=1930.;#charge in coloumbs corresponding to 0.02Farad#\n",
    "t=q/i;#amount of time cell suplies the current in seconds#\n",
    "print'\\nAmount of time cell supplies the current=t=seconds',t\n"
   ]
  },
  {
   "cell_type": "markdown",
   "metadata": {},
   "source": [
    "## Example 7_4 pgno:438"
   ]
  },
  {
   "cell_type": "code",
   "execution_count": 44,
   "metadata": {
    "collapsed": false
   },
   "outputs": [
    {
     "name": "stdout",
     "output_type": "stream",
     "text": [
      "Cell constant=K=cm^-1 0.2280832\n",
      "\n",
      "Equivalent conductance of the KCl solution=c=%=7*10^-4ohm^-1 cm^-1 0.000699641717791\n",
      "\n",
      "0.0025M K2SO4 solution=0.005N of K2SO4.\n",
      "\n",
      "Equivalent conductance of K2SO4 solution=EC=ohm^-1cm^2 140.0\n"
     ]
    }
   ],
   "source": [
    "C=2.768*10**-3#conductivity of the cell in ohm^-1 cm^-1#\n",
    "R=82.4;#resistance with KCl solution filled in ohms#\n",
    "K=C*R;#cell constant in cm^-1#\n",
    "print'Cell constant=K=cm^-1',K\n",
    "R1=326.;#resistance with K2SO4 solution filled in ohms#\n",
    "c=K/R1;#Equivalent conductance of the KCl solution in ohm^-1 cm^-1#\n",
    "print'\\nEquivalent conductance of the KCl solution=c=%=7*10^-4ohm^-1 cm^-1',c\n",
    "print'\\n0.0025M K2SO4 solution=0.005N of K2SO4.'\n",
    "EC=1000*c/0.005;#equivalent conductance of K2SO4 solution in ohm^-1 cm^2#\n",
    "print'\\nEquivalent conductance of K2SO4 solution=EC=ohm^-1cm^2',round(EC)\n"
   ]
  },
  {
   "cell_type": "markdown",
   "metadata": {},
   "source": [
    "## Example 7_5 pgno:444"
   ]
  },
  {
   "cell_type": "code",
   "execution_count": 45,
   "metadata": {
    "collapsed": false
   },
   "outputs": [
    {
     "name": "stdout",
     "output_type": "stream",
     "text": [
      "No. of equivalents of Ag deposited in the silver coulometer=n=. 0.0131851851852\n",
      "\n",
      "This amount of Ag+ and NO3- ions would have discharged at the cathode and at the anode respectively.\n",
      "\n",
      " Anolyte solution\n",
      "Before electrolysis 85.21(90.25-5.039)grams of water contained 0.02965 equivalents of AgNO3 or Ag+.\n",
      "\n",
      "After electrolysis 20.893-0.193 i.e 20.7grams of water contains 0.001136equivalents of AgNO3 or Ag+.\n",
      "\n",
      "20.7grams of water,before electrolysis would have contained 0.007202 equivalents of Ag+.\n",
      "\n",
      "Decrease in the conc. of anolyte=equivalents. -0.004158\n",
      "\n",
      "tAg=ratio of Decrease in anolyte conc. and No. of gram equivalents deposited at either electrode= -3.17\n"
     ]
    }
   ],
   "source": [
    "wAg=1.424;#weight of Ag deposited in the coulometer in grams#\n",
    "MW=108;#molecular weight of AgNO3 in grams#\n",
    "w1=90.25;#weight of silver nitrate in grams#\n",
    "w2=5.039;#weight of AgNO3 in grams#\n",
    "w=w1-w2;\n",
    "n=wAg/MW;\n",
    "print'No. of equivalents of Ag deposited in the silver coulometer=n=.',n\n",
    "print'\\nThis amount of Ag+ and NO3- ions would have discharged at the cathode and at the anode respectively.'\n",
    "print'\\n Anolyte solution\\nBefore electrolysis 85.21(90.25-5.039)grams of water contained 0.02965 equivalents of AgNO3 or Ag+.'\n",
    "BEAg=0.007202;#no. of equivalents of Ag+ before electrolysis#\n",
    "print'\\nAfter electrolysis 20.893-0.193 i.e 20.7grams of water contains 0.001136equivalents of AgNO3 or Ag+.'\n",
    "AEAg=0.01136;#no. of equivalents of Ag+ after electrolysis#\n",
    "print'\\n20.7grams of water,before electrolysis would have contained 0.007202 equivalents of Ag+.'\n",
    "DC=BEAg-AEAg;#decrease in the conc. of anolyte#\n",
    "print'\\nDecrease in the conc. of anolyte=equivalents.',DC\n",
    "tAg=n/DC;#transport number#\n",
    "print'\\ntAg=ratio of Decrease in anolyte conc. and No. of gram equivalents deposited at either electrode=',round(tAg,2)\n",
    "\n"
   ]
  },
  {
   "cell_type": "markdown",
   "metadata": {},
   "source": [
    "## Example 7_6 pgno:445"
   ]
  },
  {
   "cell_type": "code",
   "execution_count": 46,
   "metadata": {
    "collapsed": false
   },
   "outputs": [
    {
     "name": "stdout",
     "output_type": "stream",
     "text": [
      "In the coulometer,wt of Cu deposited=0.0230grams\n",
      "\n",
      "Number of equivalents of Cu deposited=n=equivalents or Farads. 0.000723953415172\n",
      "\n",
      "This would have resulted in deposition of 7.24*10^-4equivalents of Ag+ at the cathode \n",
      "and dissolution of the same amount at the anode.\n",
      "\n",
      " Anolyte solution \n",
      "Before electrolysis 1000grams of water contains equivalents of AgNO3 0.0434705882353\n",
      "\n",
      "After electrolysis 23.14grams of water contains equivalents of AgNO3. 0.00138823529412\n",
      "\n",
      "23.14grams of water before electrolysis would have contained equivalents of AgNO3 0.00100590941176\n",
      "\n",
      "Increase in the concentration of anolyte=IC=equivalents. 0.0\n",
      "\n",
      "0.000382gram equivalents of NO3- ions must have migrated into the anode compartment.\n",
      "As a result of passin 7.24*10^-4Farads into the solution.\n",
      "0.000724equivalents of Ag should have dissolved to give the same amount of Ag+ ion.\n",
      "Out of this 0.000382gram equivalents are present in the anolyte.\n",
      "\n",
      "%fgram equivalents of Ag+ ions must have migrated from the anode. 0.0\n",
      "\n",
      "Transport number of Ag=tAg= 0.472\n",
      "\n",
      "Transport number of SO3=tSO3= 0.528\n"
     ]
    }
   ],
   "source": [
    "wCu=0.0230;#weight of Cu deposited in the coulometer in grams#\n",
    "MW=63.54;#molecular weight of Cu in grams#\n",
    "n=wCu*2/MW;#no. of equivalents of Cu deposited#\n",
    "print'In the coulometer,wt of Cu deposited=0.0230grams'\n",
    "print'\\nNumber of equivalents of Cu deposited=n=equivalents or Farads.',n\n",
    "print'\\nThis would have resulted in deposition of 7.24*10^-4equivalents of Ag+ at the cathode \\nand dissolution of the same amount at the anode.'\n",
    "wAgNO3=7.39;\n",
    "w1AgNO3=0.2360;#after electrolysis weight of AgNO3#\n",
    "MWAgNO3=170;#molecular weight of AgNO3#\n",
    "BEAgNO3=wAgNO3/MWAgNO3;\n",
    "print'\\n Anolyte solution \\nBefore electrolysis 1000grams of water contains equivalents of AgNO3',BEAgNO3\n",
    "AEAgNO3=w1AgNO3/MWAgNO3;\n",
    "print'\\nAfter electrolysis 23.14grams of water contains equivalents of AgNO3.',AEAgNO3\n",
    "w=23.14;\n",
    "BE=w*BEAgNO3/1000;\n",
    "print'\\n23.14grams of water before electrolysis would have contained equivalents of AgNO3',BE\n",
    "IC=AEAgNO3-BE;\n",
    "print'\\nIncrease in the concentration of anolyte=IC=equivalents.',round(IC,3)\n",
    "print'\\n0.000382gram equivalents of NO3- ions must have migrated into the anode compartment.\\nAs a result of passin 7.24*10^-4Farads into the solution.\\n0.000724equivalents of Ag should have dissolved to give the same amount of Ag+ ion.\\nOut of this 0.000382gram equivalents are present in the anolyte.'\n",
    "ME=n-IC;#no of equivalents of migrated anodes#\n",
    "print'\\n%fgram equivalents of Ag+ ions must have migrated from the anode.',round(ME,3)\n",
    "tAg=ME/n;#transport number#\n",
    "print'\\nTransport number of Ag=tAg=',round(tAg,3)\n",
    "tSO3=1-tAg;\n",
    "print'\\nTransport number of SO3=tSO3=',round(tSO3,3)\n"
   ]
  },
  {
   "cell_type": "markdown",
   "metadata": {},
   "source": [
    "## Example 7_7 pgno:449"
   ]
  },
  {
   "cell_type": "code",
   "execution_count": 47,
   "metadata": {
    "collapsed": false
   },
   "outputs": [
    {
     "name": "stdout",
     "output_type": "stream",
     "text": [
      "Ionic conductance of H+=ICH=ohm^-1cm^2 349.32\n",
      "\n",
      "Ionic conductance of Cl-=ICCl=ohm^-1cm^2 76.68\n",
      "\n",
      "Ionic mobility of H+=IMH==cm^2v^-1s^-1 0.00361989637306\n",
      "\n",
      "Ionic mobility of H+=IMCl==m^2v^-1s^-1 0.000794611398964\n"
     ]
    }
   ],
   "source": [
    "EC=426;#equivalent conductance of HCl in ohm^-1cm^2#\n",
    "tH=0.82;#transport number of H+#\n",
    "tCl=0.18;#transport number of Cl-#\n",
    "ICH=EC*tH;#ionic conductance of H+ in ohm^-1cm^2#\n",
    "print'Ionic conductance of H+=ICH=ohm^-1cm^2',ICH\n",
    "ICCl=EC*tCl;#ionic conductance of Cl- in ohm^-1cm^2#\n",
    "print'\\nIonic conductance of Cl-=ICCl=ohm^-1cm^2',ICCl\n",
    "F=96500;\n",
    "IMH=ICH/F;#ionic mobility of H+ in cm^2v^-1s^-1\n",
    "print'\\nIonic mobility of H+=IMH==cm^2v^-1s^-1',IMH\n",
    "IMCl=ICCl/F;#ionic mobility of H+ in cm^2v^-1s^-1\n",
    "print'\\nIonic mobility of H+=IMCl==m^2v^-1s^-1',IMCl\n"
   ]
  },
  {
   "cell_type": "markdown",
   "metadata": {},
   "source": [
    "## Example 7_9 pgno:450"
   ]
  },
  {
   "cell_type": "code",
   "execution_count": 48,
   "metadata": {
    "collapsed": false
   },
   "outputs": [
    {
     "name": "stdout",
     "output_type": "stream",
     "text": [
      "A solution of NH3 is alkaline due to the following hydrolysis\n",
      "NH3+H2O = NH4+ + OH-\n",
      "\n",
      "Kb=(NH4+)*(OH-)/(NH3)=(c*a^2)/(1-a). \n",
      "\n",
      "EC0=ohm^-1cm^2 272.2\n",
      "\n",
      "Dissociation constant of the solution=a= 0.013592946363\n",
      "\n",
      "Ionization constant=Kb= 1.87314344667e-05\n"
     ]
    }
   ],
   "source": [
    "print'A solution of NH3 is alkaline due to the following hydrolysis\\nNH3+H2O = NH4+ + OH-'\n",
    "print'\\nKb=(NH4+)*(OH-)/(NH3)=(c*a^2)/(1-a). '\n",
    "EC=3.7;#equivalent conductance of NH3 in water in ohm^-1cm^2#\n",
    "EC0NH4Cl=149.9;#equivalent conductance of NH4Cl in ohm^-1cm^2#\n",
    "EC0BaCl2=139.9;#equivalent conductance of 1/2BaCl2 in ohm^-1cm^2#\n",
    "EC0BaOH2=262.2;#equivalent conductance of 1/2Ba(OH)2 in ohm^-1cm^2#\n",
    "EC0=EC0NH4Cl-EC0BaCl2+EC0BaOH2;#effective Equivalent conductance in ohm^-1cm^2#\n",
    "print'\\nEC0=ohm^-1cm^2',EC0\n",
    "a=EC/EC0;#dissociation constant of the solution#\n",
    "print'\\nDissociation constant of the solution=a=',a\n",
    "C=0.1;#normality of the solution#\n",
    "Kb=(C*a**2)/(1-a);\n",
    "print'\\nIonization constant=Kb=',Kb#here the values of a and Kb are slightly different from textbook but that is ok#\n"
   ]
  },
  {
   "cell_type": "markdown",
   "metadata": {},
   "source": [
    "## Example 7_10 pgno:451"
   ]
  },
  {
   "cell_type": "code",
   "execution_count": 49,
   "metadata": {
    "collapsed": false
   },
   "outputs": [
    {
     "name": "stdout",
     "output_type": "stream",
     "text": [
      "SC0=ohm**-1cm**-1 143.5\n",
      "\n",
      "Specific conductance of the experiment=SC=ohm**-1cm**-1 3.51e-06\n",
      "\n",
      "Solubility of the solution=S=gram equivalent per litre 2.44599303136e-05\n",
      "\n",
      "1mol of BaSO4=2equivalents\n",
      "\n",
      "Solubility of the BaSO4 solution=SBaSO4==mol litre**-1 1.22299651568e-05\n"
     ]
    }
   ],
   "source": [
    "SCsat=4.63*10**-6;#Specific conductance of saturated solution in ohm**-1cm**-1#\n",
    "SCused=1.12*10**-6;#specific conductance of the water used in the experiment#\n",
    "SC0Na2SO4=130.1;#specific conductance of Na2SO4 in ohm**-1cm**-1#\n",
    "SC0BaCl2=139.9;#specific conductance of 1/2BaCl2 in ohm**-1cm**-1#\n",
    "SC0NaCl=126.5;#specific conductance of NaCl in ohm**-1cm**-1#\n",
    "SC0=SC0Na2SO4-SC0NaCl+SC0BaCl2;#effective specific conductance in ohm**-1cm**2#\n",
    "print'SC0=ohm**-1cm**-1',SC0\n",
    "SC=SCsat-SCused;\n",
    "print'\\nSpecific conductance of the experiment=SC=ohm**-1cm**-1',SC\n",
    "S=(SC*1000)/SC0;#Solubility of the solution#\n",
    "print'\\nSolubility of the solution=S=gram equivalent per litre',S\n",
    "print'\\n1mol of BaSO4=2equivalents'\n",
    "SBaSO4=S/2;#Solubility of the BaSO4 solution#\n",
    "print'\\nSolubility of the BaSO4 solution=SBaSO4==mol litre**-1',SBaSO4\n"
   ]
  },
  {
   "cell_type": "markdown",
   "metadata": {},
   "source": [
    "## Example 7_11 pgno:457"
   ]
  },
  {
   "cell_type": "code",
   "execution_count": 50,
   "metadata": {
    "collapsed": false
   },
   "outputs": [
    {
     "name": "stdout",
     "output_type": "stream",
     "text": [
      "Iconic strength of KCl=IKCl= 0.1\n",
      "\n",
      "Iconic strength of K2SO4=IK2SO4= 0.6\n",
      "\n",
      "Iconic strength of MgCl2=IMgCl2= 0.6\n",
      "\n",
      "Total Iconic strength of the mixture=I= 1.3\n"
     ]
    }
   ],
   "source": [
    "M1=0.1;#Hmolarity of KCl#\n",
    "IKCl=0.5*(M1*1**2+M1*1**2);#Iconic strength of KCl#\n",
    "print'Iconic strength of KCl=IKCl=',IKCl\n",
    "M2=0.2;#molarity of K2SO4#\n",
    "IK2SO4=0.5*(2*M2*1**2+M2*2**2);#Iconic strength of K2SO4#\n",
    "print'\\nIconic strength of K2SO4=IK2SO4=',IK2SO4\n",
    "M3=0.2;#molarity of MgCl2#\n",
    "IMgCl2=0.5*(M3*2**2+2*M3*1**2);#Iconic strength of MgCl2#\n",
    "print'\\nIconic strength of MgCl2=IMgCl2=',IMgCl2\n",
    "I=IKCl+IK2SO4+IMgCl2;#total iconic strength of the mixture#\n",
    "print'\\nTotal Iconic strength of the mixture=I=',I\n"
   ]
  },
  {
   "cell_type": "markdown",
   "metadata": {},
   "source": [
    "## Example 7_12 pgno:458"
   ]
  },
  {
   "cell_type": "code",
   "execution_count": 51,
   "metadata": {
    "collapsed": false
   },
   "outputs": [
    {
     "name": "stdout",
     "output_type": "stream",
     "text": [
      "Iconic strength of the HCl solution=I= 0.00120841667796\n",
      "\n",
      "HCl being a 1,1 electrolyte I=c\n",
      "\n",
      "So the maximum concentration of HCl to be used=I=c=1.20*10**-3\n"
     ]
    }
   ],
   "source": [
    "from math import log10\n",
    "r=0.96;\n",
    "I=(log10(r)/-0.51)**2;#Iconic strength of the HCl solution#\n",
    "print'Iconic strength of the HCl solution=I=',I\n",
    "print'\\nHCl being a 1,1 electrolyte I=c'\n",
    "print'\\nSo the maximum concentration of HCl to be used=I=c=1.20*10**-3'\n"
   ]
  },
  {
   "cell_type": "markdown",
   "metadata": {},
   "source": [
    "## Example 7_13 pgno:463"
   ]
  },
  {
   "cell_type": "code",
   "execution_count": 52,
   "metadata": {
    "collapsed": false
   },
   "outputs": [
    {
     "name": "stdout",
     "output_type": "stream",
     "text": [
      "KAl(SO4)2 = K+ + Al3+ + 2SO42-\n",
      "\n",
      "Concentration of the salt=c=M 0.0549961270333\n",
      "\n",
      "concentration of K+ = Al3+ =M 0.0549961270333\n",
      "\n",
      "Concentration of SO42- =M 0.109992254067\n"
     ]
    }
   ],
   "source": [
    "w=3.55;#weight of the salt in grams#\n",
    "MW=258.2;#Molecular weight of the salt#\n",
    "print'KAl(SO4)2 = K+ + Al3+ + 2SO42-'\n",
    "c=w*4/MW;#Concentration of the salt#\n",
    "print'\\nConcentration of the salt=c=M',c\n",
    "SO4=2*c;#Concentration of SO42- in the solution#\n",
    "print'\\nconcentration of K+ = Al3+ =M',c\n",
    "print'\\nConcentration of SO42- =M',SO4\n"
   ]
  },
  {
   "cell_type": "markdown",
   "metadata": {},
   "source": [
    "## Example 7_14 pgno:464"
   ]
  },
  {
   "cell_type": "code",
   "execution_count": 53,
   "metadata": {
    "collapsed": false
   },
   "outputs": [
    {
     "name": "stdout",
     "output_type": "stream",
     "text": [
      "CH3COOH = CH3COO- + H+\n",
      "\n",
      "Ka value for the reaction=Ka 1.79817570033e-05\n"
     ]
    }
   ],
   "source": [
    "c=0.1;#concentration of the solution#\n",
    "a=1.332*10**-2;#Ionization constant#\n",
    "Ka=(c*a**2)/(1-a);\n",
    "print'CH3COOH = CH3COO- + H+'\n",
    "print'\\nKa value for the reaction=Ka',Ka\n"
   ]
  },
  {
   "cell_type": "markdown",
   "metadata": {},
   "source": [
    "## Example 7_15 pgno:464"
   ]
  },
  {
   "cell_type": "code",
   "execution_count": 54,
   "metadata": {
    "collapsed": false
   },
   "outputs": [
    {
     "name": "stdout",
     "output_type": "stream",
     "text": [
      "The value of a should be calculated first using Kb=(c*a**2)/(1-a)\n",
      "This gives rise to a quadratic equation which can be solved to obtain the value of a.\n",
      "\n",
      "Usually it is permissible to use approximation methods if K<10**-5\n",
      "One can neglect a in comparison to 1 and solve for a.\n",
      "A better way is to use the method of succesive approximations.\n",
      "This will be illustrated using the above equation\n",
      "\n",
      "First find the approximate value of a by neglecting the value of a in comparison with 1.\n",
      "Let the approximate value be a1\n",
      "\n",
      "We repeat this procedure till 2 consecutive values of a do not differ significantly.\n",
      "\n",
      "Since the values of a2 and a3 are the same the correct value of a=1.332*10**-2\n",
      "The approximate value is greater than the correct value by about 1percent.\n",
      "\n",
      "The concentration of OH- ==1.332*10**-3M 0.001332\n"
     ]
    }
   ],
   "source": [
    "\n",
    "c=0.1;#concentration of the solution#\n",
    "Kb=1.8*10**-5;\n",
    "print'The value of a should be calculated first using Kb=(c*a**2)/(1-a)\\nThis gives rise to a quadratic equation which can be solved to obtain the value of a.'\n",
    "print'\\nUsually it is permissible to use approximation methods if K<10**-5\\nOne can neglect a in comparison to 1 and solve for a.\\nA better way is to use the method of succesive approximations.\\nThis will be illustrated using the above equation'\n",
    "print'\\nFirst find the approximate value of a by neglecting the value of a in comparison with 1.\\nLet the approximate value be a1'\n",
    "a1=1.342*10**-2;\n",
    "a2=1.332*10**-2;\n",
    "print'\\nWe repeat this procedure till 2 consecutive values of a do not differ significantly.'\n",
    "a3=1.332*10**-2;\n",
    "OH=a3*c;#concentration of OH- in the solution#\n",
    "print'\\nSince the values of a2 and a3 are the same the correct value of a=1.332*10**-2\\nThe approximate value is greater than the correct value by about 1percent.'\n",
    "print'\\nThe concentration of OH- ==1.332*10**-3M',OH\n"
   ]
  },
  {
   "cell_type": "markdown",
   "metadata": {},
   "source": [
    "## Example 7_18 pgno:470"
   ]
  },
  {
   "cell_type": "code",
   "execution_count": 55,
   "metadata": {
    "collapsed": false
   },
   "outputs": [
    {
     "name": "stdout",
     "output_type": "stream",
     "text": [
      "Kb value for RCOO- ion=10^-9  100000.0\n",
      "\n",
      "Kb value for CN- ion=10^-4 1.0\n",
      "\n",
      "CN- is about 10^5 times stronger than RCOO- as a base.\n"
     ]
    }
   ],
   "source": [
    "Kw=1.0**10**-14;\n",
    "KH1=1.0*10**-5;#KH value of H+ ion in RCOOH#\n",
    "KH2=1.0**10**-10;#KH value of H+ ion in HCN#\n",
    "Kb1=Kw/KH1;#Kb value for RCOO- ion#\n",
    "print'Kb value for RCOO- ion=10^-9 ',Kb1\n",
    "Kb2=Kw/KH2;#Kb value for CN- ion#\n",
    "print'\\nKb value for CN- ion=10^-4',Kb2\n",
    "print'\\nCN- is about 10^5 times stronger than RCOO- as a base.'\n"
   ]
  },
  {
   "cell_type": "markdown",
   "metadata": {},
   "source": [
    "## Example 7_19 pgno:471"
   ]
  },
  {
   "cell_type": "code",
   "execution_count": 56,
   "metadata": {
    "collapsed": false
   },
   "outputs": [
    {
     "name": "stdout",
     "output_type": "stream",
     "text": [
      "PH for the 1M HCl solution=PH1= -0.0\n",
      "\n",
      "PH for the solution=PH2= 3.28399665637\n",
      "\n",
      "PH for the 0.025M HClO4 solution=PH3= 1.60205999133\n",
      "\n",
      "Concentration of the solution=c4==3.548*10**-5 3.54813389234e-05\n",
      "\n",
      "Concentration of the solution= 1.99526231497e-13\n"
     ]
    }
   ],
   "source": [
    "from math import log10\n",
    "c1=1;#concentration of HCl#\n",
    "PH1=-log10(c1);\n",
    "print'PH for the 1M HCl solution=PH1=',PH1\n",
    "c2=5.2*10**-4;#concentration of H+ in the solution#\n",
    "PH2=-log10(c2);\n",
    "print'\\nPH for the solution=PH2=',PH2\n",
    "c3=0.025;#concentration of 0.025M HClO4#\n",
    "PH3=-log10(c3);\n",
    "print'\\nPH for the 0.025M HClO4 solution=PH3=',PH3\n",
    "PH4=4.45;\n",
    "c4=10**(-PH4);#concentration of the solution#\n",
    "print'\\nConcentration of the solution=c4==3.548*10**-5',c4\n",
    "POH5=1.30;\n",
    "PH5=14-POH5;\n",
    "c5=10**(-PH5);#concentration of the solution#\n",
    "print'\\nConcentration of the solution=',c5\n"
   ]
  },
  {
   "cell_type": "markdown",
   "metadata": {},
   "source": [
    "## Example 7_20 pgno:472"
   ]
  },
  {
   "cell_type": "code",
   "execution_count": 57,
   "metadata": {
    "collapsed": false
   },
   "outputs": [
    {
     "name": "stdout",
     "output_type": "stream",
     "text": [
      "OH- =a*c=1.33*10**-3\n",
      "\n",
      "POH of the solution=POH= 2.87614835903\n",
      "\n",
      "PH of the solution=PH= 11.123851641\n"
     ]
    }
   ],
   "source": [
    "from math import log10\n",
    "a=1.33*10**-2;#Ionization constant#\n",
    "c=0.1;#concentration of the solution#\n",
    "OH=a*c;\n",
    "print'OH- =a*c=1.33*10**-3'\n",
    "POH=-log10(OH);#POH of the solution#\n",
    "print'\\nPOH of the solution=POH=',POH\n",
    "PH=14-POH;#PH of the solution#\n",
    "print'\\nPH of the solution=PH=',PH\n"
   ]
  },
  {
   "cell_type": "markdown",
   "metadata": {},
   "source": [
    "## Example 7_21 pgno:472"
   ]
  },
  {
   "cell_type": "code",
   "execution_count": 58,
   "metadata": {
    "collapsed": false
   },
   "outputs": [
    {
     "name": "stdout",
     "output_type": "stream",
     "text": [
      "r= 0.889201117858\n",
      "\n",
      "Ionization constant=a= 0.00889201117858\n",
      "\n",
      "PH of the solution=PH= 2.051\n",
      "\n",
      "By assuming ideal behaviour PH=-log10(10^-2)=2.00\n"
     ]
    }
   ],
   "source": [
    "from math import log10,sqrt\n",
    "c=0.01;#concentration of the solution#\n",
    "r=10**(-0.51*sqrt(c));\n",
    "print'r=',r\n",
    "a=r*c;#ionization constant#\n",
    "print'\\nIonization constant=a=',a\n",
    "PH=-log10(a);#PH of the solution#\n",
    "print'\\nPH of the solution=PH=',PH\n",
    "print'\\nBy assuming ideal behaviour PH=-log10(10^-2)=2.00'\n"
   ]
  },
  {
   "cell_type": "markdown",
   "metadata": {},
   "source": [
    "## Example 7_22 pgno:476"
   ]
  },
  {
   "cell_type": "code",
   "execution_count": 59,
   "metadata": {
    "collapsed": false
   },
   "outputs": [
    {
     "name": "stdout",
     "output_type": "stream",
     "text": [
      "PH of the solution=PH= 9.26\n",
      "\n",
      "On adding 0.01mol of HCl,assuming that no volume change occurs,0.01mol of NH4Cl is produced.\n",
      "Therefore,the concentration of NH3 decreases by 0.01 and that of NH4Cl increases by 0.01 \n",
      "\n",
      "PH of the solution=PH1= 9.17284982428\n",
      "\n",
      "On adding 0.01mol of NaOH,assuming that no volume change occurs,0.01mol of NH3 is produced.\n",
      "Therefore,the concentration of NH3 increases by 0.01 and that of NH4Cl decreases by 0.01 \n",
      "\n",
      "PH of the solution=PH2= 9.35\n"
     ]
    }
   ],
   "source": [
    "from math import log10\n",
    "CNH3=0.1;#concentration of NH3 solution#\n",
    "CNH4Cl=0.1;#concentration of NH4Cl solution#\n",
    "POH=4.74;\n",
    "PH=14-POH+log10(CNH3/CNH4Cl);\n",
    "print'PH of the solution=PH=',PH\n",
    "print'\\nOn adding 0.01mol of HCl,assuming that no volume change occurs,0.01mol of NH4Cl is produced.\\nTherefore,the concentration of NH3 decreases by 0.01 and that of NH4Cl increases by 0.01 '\n",
    "C1NH3=0.09;\n",
    "C1NH4Cl=0.11;\n",
    "PH1=14-POH+log10(C1NH3/C1NH4Cl);\n",
    "print'\\nPH of the solution=PH1=',PH1\n",
    "print'\\nOn adding 0.01mol of NaOH,assuming that no volume change occurs,0.01mol of NH3 is produced.\\nTherefore,the concentration of NH3 increases by 0.01 and that of NH4Cl decreases by 0.01 '\n",
    "C2NH3=0.11;\n",
    "C2NH4Cl=0.09;\n",
    "PH2=14-POH+log10(C2NH3/C2NH4Cl);\n",
    "print'\\nPH of the solution=PH2=',round(PH2,2)\n"
   ]
  },
  {
   "cell_type": "markdown",
   "metadata": {},
   "source": [
    "## Example 7_23 pgno:479"
   ]
  },
  {
   "cell_type": "code",
   "execution_count": 60,
   "metadata": {
    "collapsed": false
   },
   "outputs": [
    {
     "name": "stdout",
     "output_type": "stream",
     "text": [
      "For a salt of this type the hydrolysis reaction is\n",
      "CN- +H2O = HCN + OH-\n",
      "\n",
      "Hydrolysis constant of the solution=Kh==1.381*10**-5 1.38121546961e-05\n",
      "\n",
      "Ionization constant is generally calculated using  Kh=(c*a**2)/(1-a)\n",
      "\n",
      "Ionization constant=a=0.011680=1.168*10**-2\n",
      "\n",
      "The degree of hydrolysis is 1.168percent\n",
      "\n",
      "PH of the 0.1M NaCN solution=PH= 11.07\n"
     ]
    }
   ],
   "source": [
    "from math import log10\n",
    "c=0.1;#concentration of the solution#\n",
    "Kw=1.0*10**-14;\n",
    "Ka=7.24*10**-10;#dissociation constant of HCN#\n",
    "print'For a salt of this type the hydrolysis reaction is\\nCN- +H2O = HCN + OH-'\n",
    "Kh=Kw/Ka;#hydrolysis constant#\n",
    "print'\\nHydrolysis constant of the solution=Kh==1.381*10**-5',Kh\n",
    "print'\\nIonization constant is generally calculated using  Kh=(c*a**2)/(1-a)'\n",
    "print'\\nIonization constant=a=0.011680=1.168*10**-2'\n",
    "print'\\nThe degree of hydrolysis is 1.168percent'\n",
    "PKw=23.14;\n",
    "PH=0.5*(PKw+log10(c));#PH of the 0.1M NaCN solution#\n",
    "print'\\nPH of the 0.1M NaCN solution=PH=',PH\n"
   ]
  },
  {
   "cell_type": "markdown",
   "metadata": {},
   "source": [
    "## Example 7_25 pgno:484"
   ]
  },
  {
   "cell_type": "code",
   "execution_count": 61,
   "metadata": {
    "collapsed": false
   },
   "outputs": [
    {
     "name": "stdout",
     "output_type": "stream",
     "text": [
      "Solubility of Ag2CrO4=S==7.5*10**-5mol per litre 7.53012048193e-05\n",
      "\n",
      "Value of Ksp for the reaction=Ksp==1.7*10**-12 1.125e-08\n",
      "\n",
      "Solubility of AgCl=S1==1.05*10**-5mol per litre 1.04880884817e-05\n",
      "\n",
      "Solubility of AgCl=s1==1.50*10**-3gram per litre 0.0015\n"
     ]
    }
   ],
   "source": [
    "from math import sqrt\n",
    "MW=332;#molecular weight of Ag2CrO4 in grams#\n",
    "s=2.5*10**-2;#solubility of Ag2CrO4 in g per litre#\n",
    "S=s/MW;#Solubility of Ag2CrO4 in mol per litre#\n",
    "print'Solubility of Ag2CrO4=S==7.5*10**-5mol per litre',S\n",
    "Ag=2*7.5*10**-5;#Solubility of Ag component in mol per litre#\n",
    "CrO4=7.5*10**-5;#Solubility of CrO4 component in mol per litre#\n",
    "Ksp=Ag*CrO4;#value of Ksp#\n",
    "print'\\nValue of Ksp for the reaction=Ksp==1.7*10**-12',Ksp\n",
    "MWAgCl=143.5;#Molecular weight of AgCl#\n",
    "Ksp1=1.1*10**-10;#Ksp value of AgCl#\n",
    "S1=sqrt(Ksp1);#Solubility of AgCl in mol per litre#\n",
    "print'\\nSolubility of AgCl=S1==1.05*10**-5mol per litre',S1\n",
    "s1=S1*MWAgCl;#solubility of AgCl in g per litre#\n",
    "print'\\nSolubility of AgCl=s1==1.50*10**-3gram per litre',round(s1,4)\n"
   ]
  },
  {
   "cell_type": "markdown",
   "metadata": {},
   "source": [
    "## Example 7_26 pgno:485"
   ]
  },
  {
   "cell_type": "code",
   "execution_count": 62,
   "metadata": {
    "collapsed": false
   },
   "outputs": [
    {
     "name": "stdout",
     "output_type": "stream",
     "text": [
      "Solubility of Li3Na3(AlF6)2=S=mol per litre 0.00198924731183\n",
      "\n",
      "Value of Ksp for the reaction= 9.89426728339e-14\n"
     ]
    }
   ],
   "source": [
    "MW=372.;#molecular weight of Li3Na3(AlF6)2 in grams#\n",
    "s=0.74;#solubility of Li3Na3(AlF6)2 in g per litre#\n",
    "S=s/MW;#Solubility of Li3Na3(AlF6)2 in mol per litre#\n",
    "print'Solubility of Li3Na3(AlF6)2=S=mol per litre',S\n",
    "Li=3*S;#Solubility of Li component in mol per litre#\n",
    "Na=3*S;#Solubility of Na component in mol per litre#\n",
    "AlF6=2*s;#Solubility of AlF6 component in mol per litre#\n",
    "Ksp=(Li**3)*(Na**3)*(AlF6**2);#value of Solubility product#\n",
    "print'\\nValue of Ksp for the reaction=',Ksp\n"
   ]
  },
  {
   "cell_type": "markdown",
   "metadata": {},
   "source": [
    "## Example 7_27 pgno:486"
   ]
  },
  {
   "cell_type": "code",
   "execution_count": 63,
   "metadata": {
    "collapsed": false
   },
   "outputs": [
    {
     "name": "stdout",
     "output_type": "stream",
     "text": [
      "Let us first calculate the maximum concentration of SO4 that can remain in equilibrium with PbSO4 if the concentration of Pb is 0.01M\n",
      "\n",
      "Concentration of SO4 in PbSO4 solution=Ksp=2.2*10**-6M\n",
      "The concentration of SO4 should be greater than 2.2*10**-4M in order to precipitate Pb from a 0.01M solution as PbSO4\n",
      "\n",
      "Concentration of Pb in PbSO4 solution=Pb2=2.2*10**-5mol per litre\n",
      "\n",
      "Hence out of 0.01moles of Pb in a litre only 2.2*10**-5mol per litre remain in solution.the precipitation is almost 99.78percent complete.\n",
      "\n",
      "Therefore it can be said that Pb is quantitatively precipitated in these conditions.\n"
     ]
    }
   ],
   "source": [
    "Ksp=2.2*10**-8;#Solubility product of PbSO4#\n",
    "Pb=0.01;#concentration of Pb in Pb(NO3)2#\n",
    "SO4=Ksp/Pb;#Concentration of SO4 in PbSO4 solution#\n",
    "print'Let us first calculate the maximum concentration of SO4 that can remain in equilibrium with PbSO4 if the concentration of Pb is 0.01M'\n",
    "print'\\nConcentration of SO4 in PbSO4 solution=Ksp=2.2*10**-6M\\nThe concentration of SO4 should be greater than 2.2*10**-4M in order to precipitate Pb from a 0.01M solution as PbSO4'\n",
    "Pb2=Ksp/0.001;\n",
    "print'\\nConcentration of Pb in PbSO4 solution=Pb2=2.2*10**-5mol per litre'\n",
    "print'\\nHence out of 0.01moles of Pb in a litre only 2.2*10**-5mol per litre remain in solution.the precipitation is almost 99.78percent complete.'\n",
    "print'\\nTherefore it can be said that Pb is quantitatively precipitated in these conditions.'\n"
   ]
  },
  {
   "cell_type": "markdown",
   "metadata": {},
   "source": [
    "## Example 7_28 pgno:488"
   ]
  },
  {
   "cell_type": "code",
   "execution_count": 1,
   "metadata": {
    "collapsed": false
   },
   "outputs": [
    {
     "name": "stdout",
     "output_type": "stream",
     "text": [
      "K value of H2S solution= 1.092e-22\n",
      "Concentration of S2 in the solution=1.22*10**-22\n",
      "The Iconic product of CuS=1.22*10**-22*10**-1 is >> Ksp for CuS and so it precipitates.\n",
      "\n",
      "If MnS were to precipitate the S2 should be greater than the equilibrium concentration of S2\n",
      "i.e Mn*S2 = 1.4*10**-15 so S2eq=1.4*10**-14\n",
      "\n",
      "The S2 should be greater than 1.4*10**-14 so that MnS will precipitate.\n",
      "Let the S2 desired be 1.1*10**-11\n",
      "In order to get this concentration of S2 the required H is 10**-6M\n",
      "\n",
      "The solution should have a PH of greater than 6 i.e PH >> 6\n"
     ]
    }
   ],
   "source": [
    "Cu=0.1;#concentration of Cu2+ ions in the solution#\n",
    "Mn=0.1;#concentration of Mn2+ ions in the solution#\n",
    "H=0.3;#concentration of H+ ions in the solution#\n",
    "KspCuS=1.0*10**-44;#Solubility product of CuS#\n",
    "KspMnS=1.4*10**-15;#Solubility product of MnS#\n",
    "K1=9.1*10**-8;#K1 value of the H2S solution#\n",
    "K2=1.2*10**-15;#K2 value of the H2S solution#\n",
    "K=K1*K2;#K value of H2S#\n",
    "print'K value of H2S solution=',K\n",
    "S2=K/H**2;#Concentration of S2- in the solution#\n",
    "print'Concentration of S2 in the solution=1.22*10**-22\\nThe Iconic product of CuS=1.22*10**-22*10**-1 is >> Ksp for CuS and so it precipitates.'\n",
    "print'\\nIf MnS were to precipitate the S2 should be greater than the equilibrium concentration of S2\\ni.e Mn*S2 = 1.4*10**-15 so S2eq=1.4*10**-14'\n",
    "print'\\nThe S2 should be greater than 1.4*10**-14 so that MnS will precipitate.\\nLet the S2 desired be 1.1*10**-11\\nIn order to get this concentration of S2 the required H is 10**-6M'\n",
    "print'\\nThe solution should have a PH of greater than 6 i.e PH >> 6'\n"
   ]
  },
  {
   "cell_type": "markdown",
   "metadata": {},
   "source": [
    "## Example 7_29 pgno:488"
   ]
  },
  {
   "cell_type": "code",
   "execution_count": 65,
   "metadata": {
    "collapsed": false
   },
   "outputs": [
    {
     "name": "stdout",
     "output_type": "stream",
     "text": [
      "NH3 + H2O = NH4+ + OH-\n",
      "\n",
      "NH4+ in solution = NH4+ from added NH4Cl that derived from the reaction between NH3 and H2O = NH4+ from NH4Cl(since the other quantity is too small)\n",
      "\n",
      "NH3 = Original concentration since amount dissociated is very low\n",
      "we get OH- = 1.8*10**-5\n",
      "The iconic product for Mg(OH)2 is (Mg2+)(OH-)**2 or (10**-2)(1.8*10**-5)**2 i.e 3.24*10**-12\n",
      "It is less than 3.4*10**-11,Ksp,So it is not precipitated.\n",
      "\n",
      "However,in the case of Al(OH)3 the Iconic product=(10**-2)(1.8*10**-5)**3=5.832*10**-17>>The Ksp for Al(OH)3 i.e 5.0*10**-33.\n",
      "\n",
      "so Al(OH)3 gets precipitated.\n"
     ]
    }
   ],
   "source": [
    "Al=0.01;#concentration of Al3+ ions in the solution#\n",
    "Mg=0.01;#concentration of Mg2+ ions in the solution#\n",
    "NH4Cl=2;#concentration of NH4Cl in the solution#\n",
    "print'NH3 + H2O = NH4+ + OH-'\n",
    "KspMgOH2=3.4*10**-11;#Solubility product of Mg(OH)2#\n",
    "KspAlOH3=5.0*10**-33;#Solubility product of Al(OH)3#\n",
    "Kb=1.8*10**-5;#Kb value of the NH3#\n",
    "print'\\nNH4+ in solution = NH4+ from added NH4Cl that derived from the reaction between NH3 and H2O = NH4+ from NH4Cl(since the other quantity is too small)'\n",
    "print'\\nNH3 = Original concentration since amount dissociated is very low\\nwe get OH- = 1.8*10**-5\\nThe iconic product for Mg(OH)2 is (Mg2+)(OH-)**2 or (10**-2)(1.8*10**-5)**2 i.e 3.24*10**-12\\nIt is less than 3.4*10**-11,Ksp,So it is not precipitated.'\n",
    "print'\\nHowever,in the case of Al(OH)3 the Iconic product=(10**-2)(1.8*10**-5)**3=5.832*10**-17>>The Ksp for Al(OH)3 i.e 5.0*10**-33.'\n",
    "print'\\nso Al(OH)3 gets precipitated.'\n"
   ]
  },
  {
   "cell_type": "markdown",
   "metadata": {},
   "source": [
    "## Example 7_30 pgno:489"
   ]
  },
  {
   "cell_type": "code",
   "execution_count": 66,
   "metadata": {
    "collapsed": false
   },
   "outputs": [
    {
     "name": "stdout",
     "output_type": "stream",
     "text": [
      "Concentration of OH- ions in the solution=OH==1.561*10**-12 1.60349620963e-12\n",
      "\n",
      "At this PH,Fe(OH)3 starts precipitating and precipitation is complete (Fe3+)=10**-6M\n",
      "(10**-6)(OH-)**3 = 3.8*10**-38 \n",
      "\n",
      "upon solving this we get (OH-)=3.362*10**-11\n",
      "POH=10.48 or PH=3.52\n",
      "\n",
      "At this PH the precipitation of Fe(OH)3 is almost complete.\n"
     ]
    }
   ],
   "source": [
    "Fe=0.01;#concentration of Fe3+ ions in the solution#\n",
    "Ksp=3.8*10**-38;#Solubility product of Fe(OH)3#\n",
    "OH=(Ksp/Fe)**0.333;#Concentration of OH- ions in the solution#\n",
    "print'Concentration of OH- ions in the solution=OH==1.561*10**-12',OH\n",
    "print'\\nAt this PH,Fe(OH)3 starts precipitating and precipitation is complete (Fe3+)=10**-6M\\n(10**-6)(OH-)**3 = 3.8*10**-38 '\n",
    "print'\\nupon solving this we get (OH-)=3.362*10**-11\\nPOH=10.48 or PH=3.52'\n",
    "print'\\nAt this PH the precipitation of Fe(OH)3 is almost complete.'\n"
   ]
  },
  {
   "cell_type": "markdown",
   "metadata": {},
   "source": [
    "## Example 7_31 pgno:491"
   ]
  },
  {
   "cell_type": "code",
   "execution_count": 67,
   "metadata": {
    "collapsed": false
   },
   "outputs": [
    {
     "name": "stdout",
     "output_type": "stream",
     "text": [
      "CaF2 = Ca2+ + 2F-\n",
      "(Ca2+)(F-)**2 = 4*S**3 = 3.2*10**-11.\n",
      "\n",
      "Let S1 be the solubility in 0.01M Ca(NO3)2\n",
      "Ca(NO3)2 can be assumed to dissociate completely so that (Ca2+) from Ca(NO3)2 is 0.01M\n",
      "\n",
      "Solubility of CaF2 solution=S==2.18*10**-4mol per litre 0.0002177808536\n",
      "\n",
      "The solubility product relationship should be true,irrespective of the source Ca2+\n",
      "Compared to the concentration of Ca2+ ions obtained from Ca(NO3)2,that of Ca2+ ions from CaF2 is negligible\n",
      "\n",
      "But the F- ions are obtained only from CaF2 and so (F-)=2*S1\n",
      "Ksp = 3.2*10**-11=(S1+0.01)*(2*S1)**2=(0.01)*(2*S1)**2 since S1 is negligible compared to 0.01\n",
      "\n",
      "Solubility in 0.01M Ca(NO3)2 solution=S1=%f=2.83*10**-5 2.82842712475e-05\n",
      "\n",
      "Thus the value of S1 can be seen to be less than that of S\n"
     ]
    }
   ],
   "source": [
    "from math import sqrt\n",
    "C=0.01;#concentration of Ca(NO3)2 solution#\n",
    "Ksp=3.2*10**-11;#Solubility product of Fe(OH)3#\n",
    "print'CaF2 = Ca2+ + 2F-\\n(Ca2+)(F-)**2 = 4*S**3 = 3.2*10**-11.'\n",
    "print'\\nLet S1 be the solubility in 0.01M Ca(NO3)2\\nCa(NO3)2 can be assumed to dissociate completely so that (Ca2+) from Ca(NO3)2 is 0.01M'\n",
    "S=(Ksp/4)**0.33;#solubility in mol per litre#\n",
    "print'\\nSolubility of CaF2 solution=S==2.18*10**-4mol per litre',S\n",
    "print'\\nThe solubility product relationship should be true,irrespective of the source Ca2+\\nCompared to the concentration of Ca2+ ions obtained from Ca(NO3)2,that of Ca2+ ions from CaF2 is negligible'\n",
    "S1=sqrt(Ksp/0.04);#solubility in 0.01M ca(NO3)2#\n",
    "print'\\nBut the F- ions are obtained only from CaF2 and so (F-)=2*S1\\nKsp = 3.2*10**-11=(S1+0.01)*(2*S1)**2=(0.01)*(2*S1)**2 since S1 is negligible compared to 0.01'\n",
    "print'\\nSolubility in 0.01M Ca(NO3)2 solution=S1=%f=2.83*10**-5',S1\n",
    "print'\\nThus the value of S1 can be seen to be less than that of S'"
   ]
  },
  {
   "cell_type": "markdown",
   "metadata": {},
   "source": [
    "## Example 7_32 pgno:500"
   ]
  },
  {
   "cell_type": "code",
   "execution_count": 68,
   "metadata": {
    "collapsed": false
   },
   "outputs": [
    {
     "name": "stdout",
     "output_type": "stream",
     "text": [
      "The positive electrode is the cathode and the negative electrode is the anode in a galvanic cell\n",
      "Anode reaction 1/2H2 = H+ + e-\n",
      "Cathode reaction AgCl + e- = Ag+ + Cl-\n",
      "Cell reaction 1/2H2 + AgCl = Ag+ + H+ + Cl-\n",
      "\n",
      "Free energy change in the cell=dG=cal per mol -5074.0917782\n",
      "\n",
      "Enthalpy change in the cell=dH=cal per mol -9541.6\n",
      "\n",
      "Entropy change in the cell=dS=cal per deg -14.99\n"
     ]
    }
   ],
   "source": [
    "T=298;#temperature in kelvin#\n",
    "E=0.22;#emf of the cell in volts#\n",
    "dE=-0.00065;#Temperature coefficient of the emf in volt per degree#\n",
    "c=4.184;#1 cal =4.184 joules#\n",
    "n=1;\n",
    "F=96500.;#1Farad value#\n",
    "print'The positive electrode is the cathode and the negative electrode is the anode in a galvanic cell\\nAnode reaction 1/2H2 = H+ + e-\\nCathode reaction AgCl + e- = Ag+ + Cl-\\nCell reaction 1/2H2 + AgCl = Ag+ + H+ + Cl-'\n",
    "dG=-n*F*E/c;#free energy change in the cell in cal per mol#\n",
    "print'\\nFree energy change in the cell=dG=cal per mol',dG\n",
    "dH=dG+(n*F*T*dE/c);#Enthalpy change in the cell#\n",
    "print'\\nEnthalpy change in the cell=dH=cal per mol',round(dH,2)\n",
    "dS=(dH-dG)/T;#Entropy change in the cell in cal per deg#\n",
    "print'\\nEntropy change in the cell=dS=cal per deg',round(dS,2)\n"
   ]
  }
 ],
 "metadata": {
  "kernelspec": {
   "display_name": "Python 2",
   "language": "python",
   "name": "python2"
  },
  "language_info": {
   "codemirror_mode": {
    "name": "ipython",
    "version": 2
   },
   "file_extension": ".py",
   "mimetype": "text/x-python",
   "name": "python",
   "nbconvert_exporter": "python",
   "pygments_lexer": "ipython2",
   "version": "2.7.9"
  }
 },
 "nbformat": 4,
 "nbformat_minor": 0
}
