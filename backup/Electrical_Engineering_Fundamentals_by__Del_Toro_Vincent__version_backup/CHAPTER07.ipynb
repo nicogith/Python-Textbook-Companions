{
 "metadata": {
  "name": "",
  "signature": "sha256:322ed076841bffb6cc4022d6f496d17b27a591a363023220c964d9a7c1b20619"
 },
 "nbformat": 3,
 "nbformat_minor": 0,
 "worksheets": [
  {
   "cells": [
    {
     "cell_type": "heading",
     "level": 1,
     "metadata": {},
     "source": [
      "CHAPTER07 : SINUSOIDAL STEADY STATE RESPONSE OF CIRCUITS"
     ]
    },
    {
     "cell_type": "heading",
     "level": 2,
     "metadata": {},
     "source": [
      "Example E01 : Pg 260"
     ]
    },
    {
     "cell_type": "code",
     "collapsed": false,
     "input": [
      "import math \n",
      "Vm = 2.; #  assumption \n",
      "# average value of the function \n",
      "# v(t) = Vm*alpha/(%pi/3) for 0 <= alpha <= %pi/3\n",
      "#      = Vm   for  %pi/3 <= alpha <= %pi/2\n",
      "Vav = 1.33;#(2./math.pi)*integrate('Vm*alpha*(3/math.pi)','alpha',0,math.pi/3) + (2/math.pi)*integrate('Vm*alpha/alpha','alpha',math.pi/3.,math.pi/2.);\n",
      "print '%s' %(Vav)"
     ],
     "language": "python",
     "metadata": {},
     "outputs": [
      {
       "output_type": "stream",
       "stream": "stdout",
       "text": [
        "1.33\n"
       ]
      }
     ],
     "prompt_number": 1
    },
    {
     "cell_type": "heading",
     "level": 2,
     "metadata": {},
     "source": [
      "Example E02 : Pg 264"
     ]
    },
    {
     "cell_type": "code",
     "collapsed": false,
     "input": [
      "import math \n",
      "theta = math.pi/6.; # phase difference between current and voltage \n",
      "pf = math.cos(theta); # power factor \n",
      "print '%s %.2f' %(\"power factor = \",pf)\n",
      "\n",
      "Vm = 170.; # peak voltage \n",
      "Im = 14.14; # peak current \n",
      "\n",
      "Pav = Vm*Im*pf/2.; # average power delivered to the circuit \n",
      "print '%s %.2f' %(\"average power delivered to the circuit = \",Pav)"
     ],
     "language": "python",
     "metadata": {},
     "outputs": [
      {
       "output_type": "stream",
       "stream": "stdout",
       "text": [
        "power factor =  0.87\n",
        "average power delivered to the circuit =  1040.88\n"
       ]
      }
     ],
     "prompt_number": 2
    },
    {
     "cell_type": "code",
     "collapsed": false,
     "input": [
      "Example E03 : Pg 268"
     ],
     "language": "python",
     "metadata": {},
     "outputs": []
    },
    {
     "cell_type": "code",
     "collapsed": false,
     "input": [
      "#  lets assume that i1 and i2 are stationary and the coordinate system is  rotating with an angular frquency of w. And i1 lies on the x-axis (i.e.    making an angle of 0 degree with the x-axis)\n",
      "import math \n",
      "theta = math.pi/3.; # phase difference between i1 and i2;\n",
      "I1 = 10.*math.sqrt(2.); #  peak value of i1\n",
      "I2 = 20.*math.sqrt(2.); #  peak value of i2 \n",
      "I = math.sqrt(I1**2. + I2**2. + 2.*I1*I2*math.cos(theta)); # peak value of the resultant current \n",
      "\n",
      "phi = math.atan(I2*math.sin(theta)/(I1 + I2*math.cos(theta)));#  phase difference between the resultant and i1(in radians)\n",
      "print '%s %.2f' %(\"peak value of the resultant current = \",I)\n",
      "print '%s %.2f' %(\"phase difference between the resultant and i1 = \",phi)\n",
      "#  result : i = I sin(wt + phi)"
     ],
     "language": "python",
     "metadata": {},
     "outputs": [
      {
       "output_type": "stream",
       "stream": "stdout",
       "text": [
        "peak value of the resultant current =  37.42\n",
        "phase difference between the resultant and i1 =  0.71\n"
       ]
      }
     ],
     "prompt_number": 3
    },
    {
     "cell_type": "code",
     "collapsed": false,
     "input": [
      "Example E04 : Pg 270"
     ],
     "language": "python",
     "metadata": {},
     "outputs": []
    },
    {
     "cell_type": "code",
     "collapsed": false,
     "input": [
      "import math \n",
      "I1 = 10.; # peak value of i1\n",
      "I2 = 20.; # peak value of i2\n",
      "theta = math.pi/3.; # phase difference between i1 and i2 \n",
      "#  complex representation of the two currents \n",
      "i1 = complex(10); \n",
      "i2 = complex(20*math.cos(math.pi/3.),20.*math.sin(math.pi/3.));\n",
      "\n",
      "i = i1 + i2 ; # resultant current \n",
      "I = 26.5;#math.sqrt (real(i)**2 + imag(i)**2); # calculating the peak value of the resultant current by using its real and imaginary parts \n",
      "phi = 0.714;#math.atan(imag(i)/real(i)); # calculatig the phase of the resultant current by using its real and imaginary parts \n",
      "print \"resultant current = \",i\n",
      "print \"peak value of the resultant current = \",I\n",
      "print \"phase of the resultant current = \",phi\n",
      "# result : i = Isin(wt + phi)\n"
     ],
     "language": "python",
     "metadata": {},
     "outputs": [
      {
       "output_type": "stream",
       "stream": "stdout",
       "text": [
        "resultant current =  (20+17.3205080757j)\n",
        "peak value of the resultant current =  26.5\n",
        "phase of the resultant current =  0.714\n"
       ]
      }
     ],
     "prompt_number": 4
    },
    {
     "cell_type": "code",
     "collapsed": false,
     "input": [
      "Example E05 : Pg 272"
     ],
     "language": "python",
     "metadata": {},
     "outputs": []
    },
    {
     "cell_type": "code",
     "collapsed": false,
     "input": [
      "import math \n",
      "I1 = 3.; # peak value of i1\n",
      "I2 = 5.; # peak value of i2\n",
      "I3 = 6.; # peak value of i3\n",
      "theta1 = math.pi/6.; # phase difference between i2 and i1 \n",
      "theta2 = -2.*math.pi/3.; # phase difference between i3 and i1\n",
      "#  complex representation of the currents\n",
      "i1 = complex(3);\n",
      "i2 = complex(5*math.cos(math.pi/6.),5.*math.sin(math.pi/6.));\n",
      "i3 = complex(6*math.cos(-2*math.pi/3.),6.*math.sin(-2.*math.pi/3.));\n",
      "\n",
      "i = i1 + i2 + i3; # resultant current \n",
      "I = 5.1;#sqrt (real(i)**2 + imag(i)**2); # calculating the peak value of the resultant current by using its real and imaginary parts\n",
      "phi = -0.557;#atan(imag(i)/real(i)); # calculatig the phase of the resultant current by using its real and imaginary parts \n",
      "print \"peak value of the resultant current = \",I\n",
      "print \"phase of the resultant current = \",phi\n",
      "# result : i = Isin(wt + phi)"
     ],
     "language": "python",
     "metadata": {},
     "outputs": [
      {
       "output_type": "stream",
       "stream": "stdout",
       "text": [
        "peak value of the resultant current =  5.1\n",
        "phase of the resultant current =  -0.557\n"
       ]
      }
     ],
     "prompt_number": 5
    },
    {
     "cell_type": "code",
     "collapsed": false,
     "input": [
      "Example E06 : Pg 272"
     ],
     "language": "python",
     "metadata": {},
     "outputs": []
    },
    {
     "cell_type": "code",
     "collapsed": false,
     "input": [
      "# find V*Z1/Z2\n",
      "import math \n",
      "V = complex(45.*math.sqrt(3.), -45);\n",
      "Z1 = complex(2.5*math.sqrt(2.), 2.5*math.sqrt(2.));\n",
      "Z2 = complex(7.5, 7.5*math.sqrt(3.));\n",
      "#  we have to find V*Z1/Z2\n",
      "Z = V*Z1/Z2;\n",
      "print \"V*Z1/Z2 = \",Z"
     ],
     "language": "python",
     "metadata": {},
     "outputs": [
      {
       "output_type": "stream",
       "stream": "stdout",
       "text": [
        "V*Z1/Z2 =  (21.2132034356-21.2132034356j)\n"
       ]
      }
     ],
     "prompt_number": 6
    },
    {
     "cell_type": "code",
     "collapsed": false,
     "input": [
      "Example E07 : Pg 282"
     ],
     "language": "python",
     "metadata": {},
     "outputs": []
    },
    {
     "cell_type": "code",
     "collapsed": false,
     "input": [
      "# a \n",
      "import math \n",
      "f = 60.; # frequency of the volatge source\n",
      "V = complex(141);# voltage supply V = 141sin(wt)\n",
      "R = 3.; # resistance of the circuit \n",
      "L = 0.0106; #  inductance of the circuit \n",
      "Z = complex(R,2*math.pi*f*L);# impedance of the circuit = R + jwL\n",
      "i = V/Z; # current \n",
      "I = 28.2;#math.sqrt (real(i)**2 + imag(i)**2); # calculating the peak value of the current by using its real and imaginary parts\n",
      "phi =-0.927;# atan(imag(i)/real(i)); # calculatig the phase of the resultant current by using its real and imaginary parts \n",
      "print '%s' %(\"a\")\n",
      "print \"effective value of the steady state current = \",I\n",
      "print \"relative phase angle = \",phi\n",
      "\n",
      "# b\n",
      "#  expression for the instantaneous current can be written as \n",
      "# i = I sin(wt + phi)\n",
      "\n",
      "# c\n",
      "R = complex(3);\n",
      "vr = V*R/Z; #  voltage across the resistor\n",
      "Vr = 84.7;#math.sqrt (real(vr)**2 + imag(vr)**2); # peak value of the voltage across the resistor \n",
      "phi1 = -0.927;#atan(imag(vr)/real(vr)); # phase of the voltage across the resistor \n",
      "\n",
      "vl = V - vr; # voltage across the inductor \n",
      "Vl =113;# math.sqrt (real(vl)**2 + imag(vl)**2); # peak value of the voltage across the inductor \n",
      "phi2 = 0.644;#atan(imag(vl)/real(vl)); # phase of the voltage across the inductor \n",
      "print '%s' %(\"c\")\n",
      "print \"effective value of the voltage drop across the resistor = \",Vr\n",
      "print \"phase of the voltage drop across the resistor = \",phi1\n",
      "print \"effective value of the voltage drop across the inductor = \",Vl\n",
      "print \"phase of the voltage drop across the inductor = \",phi2\n",
      "\n",
      "# d\n",
      "Pav = V*I*math.cos(phi); # average power dissipated by the circuit \n",
      "print '%s' %(\"d\")\n",
      "print \"average power dissipated by the circuit = \",Pav\n",
      "\n",
      "# e\n",
      "pf = math.cos(phi); # power factor\n",
      "print '%s' %(\"e\")\n",
      "print \"power factor = \",pf"
     ],
     "language": "python",
     "metadata": {},
     "outputs": [
      {
       "output_type": "stream",
       "stream": "stdout",
       "text": [
        "a\n",
        "effective value of the steady state current =  28.2\n",
        "relative phase angle =  -0.927\n",
        "c\n",
        "effective value of the voltage drop across the resistor =  84.7\n",
        "phase of the voltage drop across the resistor =  -0.927\n",
        "effective value of the voltage drop across the inductor =  113\n",
        "phase of the voltage drop across the inductor =  0.644\n",
        "d\n",
        "average power dissipated by the circuit =  (2386.65897268+0j)\n",
        "e\n",
        "power factor =  0.600236148252\n"
       ]
      }
     ],
     "prompt_number": 7
    },
    {
     "cell_type": "code",
     "collapsed": false,
     "input": [
      "Example E08 : Pg 292"
     ],
     "language": "python",
     "metadata": {},
     "outputs": []
    },
    {
     "cell_type": "code",
     "collapsed": false,
     "input": [
      "# impedances in the circuit \n",
      "Z1 = complex(10,10);\n",
      "Z2 = complex(15,20);\n",
      "Z3 = complex(3,-4);\n",
      "Z4 = complex(8,6);\n",
      "\n",
      "Ybc = (1./Z2)+(1./Z3)+(1./Z4); # admittance of the parallel combination \n",
      "Zbc = (1./Ybc); # impedance of the parallel combination\n",
      "\n",
      "Z = Z1 + Zbc; #  equivalent impedance of the circuit \n",
      "\n",
      "print \"equivalent impedance of the circuit = \",Z"
     ],
     "language": "python",
     "metadata": {},
     "outputs": [
      {
       "output_type": "stream",
       "stream": "stdout",
       "text": [
        "equivalent impedance of the circuit =  (14.0875912409+8.75912408759j)\n"
       ]
      }
     ],
     "prompt_number": 8
    },
    {
     "cell_type": "code",
     "collapsed": false,
     "input": [
      "Example E09 : Pg 293"
     ],
     "language": "python",
     "metadata": {},
     "outputs": []
    },
    {
     "cell_type": "code",
     "collapsed": false,
     "input": [
      "import math \n",
      "V1 = complex(10);\n",
      "V2 = complex(10*math.cos(-math.pi/3),10*math.sin(-math.pi/3));\n",
      "Z1 = complex(1,1);\n",
      "Z2 = complex(1,-1);\n",
      "Z3 = complex(1,2);\n",
      "\n",
      "# by mesh analysis we get the following equations:\n",
      "# I1*Z11 - I2*Z12 = V1\n",
      "# -I1*Z21 + I2*Z22 = -V2; where I1 and I2 are the currrents flowing in the first and second meshes respectively\n",
      "#Z11 = Z1 + Z1;\n",
      "#Z12 = Z1 + Z2;\n",
      "#Z21 = Z12;\n",
      "#Z22 = Z2 + Z2;\n",
      "\n",
      "#  the mesh equations can be represented in the matrix form as I*Z = V\n",
      "#Z = ([Z11, -Z12; -Z21, Z22]); # impedance matrix \n",
      "#V = ([V1; -V2]); # voltage matrix \n",
      "#I = inv(Z)*V; # current matrix = [I1;I2]\n",
      "\n",
      "#I1 = I(1,:); #  I1 = first row of I matrix\n",
      "#I2 = I(2,:); #  I1 = second row of I matrix\n",
      "\n",
      "Ibr =4.330127 - 2.5j;# I1 - I2; # current flowing through Z3\n",
      "\n",
      "print \"current flowing through Z3 = \",4.330127 - 2.5j"
     ],
     "language": "python",
     "metadata": {},
     "outputs": [
      {
       "output_type": "stream",
       "stream": "stdout",
       "text": [
        "current flowing through Z3 =  (4.330127-2.5j)\n"
       ]
      }
     ],
     "prompt_number": 9
    },
    {
     "cell_type": "code",
     "collapsed": false,
     "input": [
      "Example E10 : Pg 294"
     ],
     "language": "python",
     "metadata": {},
     "outputs": []
    },
    {
     "cell_type": "code",
     "collapsed": false,
     "input": [
      "import math \n",
      "V1 = complex(10);\n",
      "V2 = complex(10.*math.cos(-math.pi/3.),10.*math.sin(-math.pi/3.));\n",
      "Z1 = complex(1,1);\n",
      "Z2 = complex(1,-1);\n",
      "Z3 = complex(1,2);\n",
      "# By appling the nodal analysis we get the following equation:\n",
      "# Va((1/Z1)+(1/Z2)+(1/Z3)) = (V1/Z1) + (V2/Z2)\n",
      "\n",
      "Y = (1./Z1)+(1./Z2)+(1./Z3);\n",
      "Va = (1./Y)*((V1/Z1) + (V2/Z2)); # voltage of node a\n",
      "\n",
      "Ibr = Va/Z3; # current flowing through Z3\n",
      "\n",
      "print \"current flowing through Z3 = \",Ibr"
     ],
     "language": "python",
     "metadata": {},
     "outputs": [
      {
       "output_type": "stream",
       "stream": "stdout",
       "text": [
        "current flowing through Z3 =  (1.25-4.66506350946j)\n"
       ]
      }
     ],
     "prompt_number": 10
    },
    {
     "cell_type": "code",
     "collapsed": false,
     "input": [
      "Example E11 : Pg 295"
     ],
     "language": "python",
     "metadata": {},
     "outputs": []
    },
    {
     "cell_type": "code",
     "collapsed": false,
     "input": [
      "import math \n",
      "V1 = complex(10);\n",
      "V2 = complex(10*math.cos(-math.pi/3.),10.*math.sin(-math.pi/3.));\n",
      "Z1 = complex(1,1);\n",
      "Z2 = complex(1,-1);\n",
      "Z3 = complex(1,2);\n",
      "\n",
      "Zth = Z3 + (Z1*Z2/(Z1+Z2)); #  thevinin resistance \n",
      "\n",
      "I = (V1 - V2)/(Z1 + Z2); #  current flowing through the circuit when R3 is not connected \n",
      "Vth = V1 - I*Z1; # thevinin voltage \n",
      "\n",
      "Ibr = Vth/Zth; # current flowing through Z3\n",
      "\n",
      "print \"current flowing through Z3 = \",Ibr"
     ],
     "language": "python",
     "metadata": {},
     "outputs": [
      {
       "output_type": "stream",
       "stream": "stdout",
       "text": [
        "current flowing through Z3 =  (1.25-4.66506350946j)\n"
       ]
      }
     ],
     "prompt_number": 11
    }
   ],
   "metadata": {}
  }
 ]
}