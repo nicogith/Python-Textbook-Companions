{
 "metadata": {
  "name": "",
  "signature": "sha256:c6af9955e4949f713c9d76181fa4831ce0529cfd039a954e558289d7b50b43fc"
 },
 "nbformat": 3,
 "nbformat_minor": 0,
 "worksheets": [
  {
   "cells": [
    {
     "cell_type": "heading",
     "level": 1,
     "metadata": {},
     "source": [
      "CHAPTER11 : BINARY LOGIC THEORY AND IMPLEMENTATION"
     ]
    },
    {
     "cell_type": "heading",
     "level": 2,
     "metadata": {},
     "source": [
      "Example E01 : Pg 483"
     ]
    },
    {
     "cell_type": "code",
     "collapsed": false,
     "input": [
      "# a\n",
      "N2 = '101'; # binary ordered sequence \n",
      "N = int(N2,base=2) # decimal equivalent of N2\n",
      "print '%s' %(\"a\")\n",
      "print'%s %.f'%(\"The decimal equivqlent of 101 is\",N)\n",
      "\n",
      "\n",
      "# b\n",
      "N2 = '11011'; # binary ordered sequence \n",
      "N = int(N2,base=2); # decimal equivalent of N2\n",
      "print '%s' %(\"b\")\n",
      "print '%s %.f' %(\"decimal equivalent of 11011 = \",N)"
     ],
     "language": "python",
     "metadata": {},
     "outputs": [
      {
       "output_type": "stream",
       "stream": "stdout",
       "text": [
        "a\n",
        "The decimal equivqlent of 101 is 5\n",
        "b\n",
        "decimal equivalent of 11011 =  27\n"
       ]
      }
     ],
     "prompt_number": 1
    },
    {
     "cell_type": "heading",
     "level": 2,
     "metadata": {},
     "source": [
      "Example E02 : Pg 483"
     ]
    },
    {
     "cell_type": "code",
     "collapsed": false,
     "input": [
      "# a\n",
      "N8 = '432'; # octal number\n",
      "N = int(N8,base=8); # decimal representation of N8\n",
      "print '%s' %(\"a\")\n",
      "print '%s %.f' %(\"decimal equivalent of 432 = \",N)\n",
      "\n",
      "# b\n",
      "N16 = 'C4F'; # hexadecimal number \n",
      "N = int(N16,base=16);#hex2dec(N16); # decimal representation of N16\n",
      "print '%s' %(\"b\")\n",
      "print '%s %.f' %(\"decimal equivalent of C4F = \",N) "
     ],
     "language": "python",
     "metadata": {},
     "outputs": [
      {
       "output_type": "stream",
       "stream": "stdout",
       "text": [
        "a\n",
        "decimal equivalent of 432 =  282\n",
        "b\n",
        "decimal equivalent of C4F =  3151\n"
       ]
      }
     ],
     "prompt_number": 2
    },
    {
     "cell_type": "code",
     "collapsed": false,
     "input": [
      "Example E03 : Pg 488"
     ],
     "language": "python",
     "metadata": {},
     "outputs": []
    },
    {
     "cell_type": "code",
     "collapsed": false,
     "input": [
      "a=\"247\"\n",
      "b=oct(247)\n",
      "print(\"The octal equivalent of 247 is\")\n",
      "print(b)\n",
      "dec=247\n",
      "bina=bin(dec) #binary output\n",
      "print(\"\\nThe Binary equivalent of 247 is \")\n",
      "print(bina)"
     ],
     "language": "python",
     "metadata": {},
     "outputs": [
      {
       "output_type": "stream",
       "stream": "stdout",
       "text": [
        "The octal equivalent of 247 is\n",
        "0367\n",
        "\n",
        "The Binary equivalent of 247 is \n",
        "0b11110111\n"
       ]
      }
     ],
     "prompt_number": 3
    }
   ],
   "metadata": {}
  }
 ]
}