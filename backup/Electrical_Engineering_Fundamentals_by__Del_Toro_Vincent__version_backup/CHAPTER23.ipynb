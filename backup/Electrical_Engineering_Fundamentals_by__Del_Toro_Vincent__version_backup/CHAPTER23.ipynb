{
 "metadata": {
  "name": "",
  "signature": "sha256:0628c82e0a3c22058af365d46ac02e72480c2ca3ef49b0c17613dda76ae1e83e"
 },
 "nbformat": 3,
 "nbformat_minor": 0,
 "worksheets": [
  {
   "cells": [
    {
     "cell_type": "heading",
     "level": 1,
     "metadata": {},
     "source": [
      "CHAPTER23 : PRINCIPLES OF AUTOMATIC CONTROL"
     ]
    },
    {
     "cell_type": "heading",
     "level": 2,
     "metadata": {},
     "source": [
      "Example E01 : Pg 837"
     ]
    },
    {
     "cell_type": "code",
     "collapsed": false,
     "input": [
      "deltaGi = 420. - 380.; # variation in the without feedback gain\n",
      "Gi = 400.; # without feedback gain\n",
      "T = 400.; # transfer function of the closed loop system\n",
      "#  (variation in T)/T = (change in G)/G * (1/ 1+H*G) = 0.02\n",
      "# 1 + H*G  = R\n",
      "R = (deltaGi/Gi)/0.02; \n",
      "\n",
      "G = T*R; # new direct transmission gain with feedback \n",
      "H = (G/T - 1.)/G; # feedback factor \n",
      "\n",
      "print '%s %.2f' %(\"new direct transmission gain with feedback = \",G)\n",
      "print '%s %.2e' %(\"feedback factors = \",H)"
     ],
     "language": "python",
     "metadata": {},
     "outputs": [
      {
       "output_type": "stream",
       "stream": "stdout",
       "text": [
        "new direct transmission gain with feedback =  2000.00\n",
        "feedback factors =  2.00e-03\n"
       ]
      }
     ],
     "prompt_number": 1
    }
   ],
   "metadata": {}
  }
 ]
}