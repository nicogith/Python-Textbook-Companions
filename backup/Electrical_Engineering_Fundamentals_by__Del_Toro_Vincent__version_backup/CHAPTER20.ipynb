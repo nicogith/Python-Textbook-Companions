{
 "metadata": {
  "name": "",
  "signature": "sha256:ac3a59420eccf69d53afe1c1ef464227b351f7373720d9486cbc62a929140766"
 },
 "nbformat": 3,
 "nbformat_minor": 0,
 "worksheets": [
  {
   "cells": [
    {
     "cell_type": "heading",
     "level": 1,
     "metadata": {},
     "source": [
      "CHAPTER20 : DC MACHINES "
     ]
    },
    {
     "cell_type": "heading",
     "level": 2,
     "metadata": {},
     "source": [
      "Example E02 : Pg 770"
     ]
    },
    {
     "cell_type": "code",
     "collapsed": false,
     "input": [
      "# a\n",
      "import math \n",
      "Vt = 230.; # (in volts)\n",
      "Ia = 73.; # armature current (in amps)\n",
      "If = 1.6; # feild current (in amps)\n",
      "Ra = 0.188; # armature circuit resistance(in ohms)\n",
      "n = 1150.; # rated speed of the rotor(in rpm)\n",
      "Po = 20.*746.; # output power (in watts)\n",
      "\n",
      "Ea = Vt - (Ia*Ra); # armature voltage \n",
      "wm = 2.*math.pi*n/60.; # rated speed of the rotor (in rad/sec)\n",
      "T = Ea*Ia/wm ; # electromagnetic torque \n",
      "\n",
      "print '%s' %(\"a\")\n",
      "print '%s %.2f' %(\"electromagnetic torque = \",T)\n",
      "\n",
      "# b\n",
      "a = 4.; # no. of parallel armature paths \n",
      "p = 4.; # no. of poles\n",
      "z = 882.; # no. of armature conductors\n",
      "flux = Ea*60.*a/(p*z*n); # flux per pole (in Wb)\n",
      "\n",
      "print '%s' %(\"b\")\n",
      "print '%s %.2f' %(\"flux per pole = \",flux)\n",
      "\n",
      "# c\n",
      "Prot = (Ea*Ia) - Po; # rotational loss (in watt)\n",
      "print '%s' %(\"c\")\n",
      "print '%s %.2f' %(\"rotational losses = \",Prot)\n",
      "\n",
      "# d\n",
      "losses = Prot + (Ia**2. * Ra) + (Vt * If) ; \n",
      "Pi = (Ea*Ia) + (Ia**2. * Ra) + (Vt * If); # input power\n",
      "efficiency = 1. - (losses/Pi);\n",
      "\n",
      "print '%s' %(\"d\")\n",
      "print '%s %.2f' %(\"efficiency = \",efficiency)"
     ],
     "language": "python",
     "metadata": {},
     "outputs": [
      {
       "output_type": "stream",
       "stream": "stdout",
       "text": [
        "a\n",
        "electromagnetic torque =  131.10\n",
        "b\n",
        "flux per pole =  0.01\n",
        "c\n",
        "rotational losses =  868.15\n",
        "d\n",
        "efficiency =  0.87\n"
       ]
      }
     ],
     "prompt_number": 1
    },
    {
     "cell_type": "heading",
     "level": 2,
     "metadata": {},
     "source": [
      "Example E03 : Pg 771"
     ]
    },
    {
     "cell_type": "code",
     "collapsed": false,
     "input": [
      "#  final flux = 0.8*initial flux\n",
      "Ia1 = 73.; # initial armature current (in amps)\n",
      "Vt = 230.; # (in volts)\n",
      "Ra = 0.188; # armature circuit resistance \n",
      "n1 = 1150.; # initial rotor speed (in rpm)\n",
      "Ea1 = 216.3; # initial armature voltage \n",
      "\n",
      "Ia2 = (1./0.8)*Ia1 ; # final armature current \n",
      "Ea2 = Vt - (Ia2*Ra); # final armature voltage \n",
      "\n",
      "n2 = (Ea2/Ea1)*(1./0.8)*n1; # final rotor speed \n",
      "\n",
      "print '%s %.2f' %(\"final rotor speed(in rpm) = \",n2)"
     ],
     "language": "python",
     "metadata": {},
     "outputs": [
      {
       "output_type": "stream",
       "stream": "stdout",
       "text": [
        "final rotor speed(in rpm) =  1414.54\n"
       ]
      }
     ],
     "prompt_number": 2
    },
    {
     "cell_type": "heading",
     "level": 2,
     "metadata": {},
     "source": [
      "Example E04 : Pg 780"
     ]
    },
    {
     "cell_type": "code",
     "collapsed": false,
     "input": [
      "# a\n",
      "rop = 0.4; # ratio of ON time T0 to cycle time Tp\n",
      "Vb =550.; # rated terminal voltage of the dc motor\n",
      "Ia = 30.; # current drawn by the motor (in amps)\n",
      "Ra = 1.; # armature circuit resistance (in ohms)\n",
      "ts = 5.94; # torque and speed parameter of the motor (in N-m/A)\n",
      " \n",
      "Vm = rop*Vb; # average value of the armature terminal voltage \n",
      "Ea = Vm - (Ia*Ra); # induced armature voltage \n",
      "\n",
      "wm = Ea/ts; # motor speed (in rad/s)\n",
      "print '%s' %(\"a\")\n",
      "print '%s %.2f' %(\"motor speed (in rad/s) = \",wm)\n",
      "\n",
      "# b\n",
      "deltaI = 5.; # change of armature current during the ON period \n",
      "La = 0.1; # armature winding inductance (in H)\n",
      "To = La*deltaI/(Vb - Ea); # ON time \n",
      "Tp = To/rop; # cycle time \n",
      "\n",
      "f = 1./Tp ; # required pulses per second \n",
      "print '%s' %(\"b\")\n",
      "print '%s %.2f' %(\"required pulses per second = \",f)\n",
      "\n",
      "# c\n",
      "rop = 0.7; # new ratio of ON time T0 to cycle time Tp\n",
      "Vm = rop*Vb; # average value of the armature terminal voltage\n",
      "Ea = Vm - (Ia*Ra); # induced armature voltage \n",
      "\n",
      "wm = Ea/ts; # motor speed (in rad/s)\n",
      "print '%s' %(\"c\")\n",
      "print '%s %.2f' %(\"motor speed with To/Tp equal to 0.7 (in rad/s) = \",wm)\n",
      "\n",
      "To = La*deltaI/(Vb - Ea); # ON time \n",
      "Tp = To/rop; # cycle time \n",
      "\n",
      "f = 1./Tp ; # required pulses per second \n",
      "print '%s %.2f' %(\"required pulses per second with To/Tp equal to 0.7 = \",f)"
     ],
     "language": "python",
     "metadata": {},
     "outputs": [
      {
       "output_type": "stream",
       "stream": "stdout",
       "text": [
        "a\n",
        "motor speed (in rad/s) =  31.99\n",
        "b\n",
        "required pulses per second =  288.00\n",
        "c\n",
        "motor speed with To/Tp equal to 0.7 (in rad/s) =  59.76\n",
        "required pulses per second with To/Tp equal to 0.7 =  273.00\n"
       ]
      }
     ],
     "prompt_number": 3
    }
   ],
   "metadata": {}
  }
 ]
}