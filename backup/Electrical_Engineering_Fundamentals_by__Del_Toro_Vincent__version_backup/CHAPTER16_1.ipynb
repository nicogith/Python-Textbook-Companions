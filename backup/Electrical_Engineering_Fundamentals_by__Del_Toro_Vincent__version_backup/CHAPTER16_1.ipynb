{
 "metadata": {
  "name": "",
  "signature": "sha256:69853f7562389e861e670e1b2994ed3a888007ce5888713fbf8e4d7beebaf20a"
 },
 "nbformat": 3,
 "nbformat_minor": 0,
 "worksheets": [
  {
   "cells": [
    {
     "cell_type": "heading",
     "level": 1,
     "metadata": {},
     "source": [
      "CHAPTER16 : TRANSFORMERS"
     ]
    },
    {
     "cell_type": "heading",
     "level": 2,
     "metadata": {},
     "source": [
      "Example E01 : Pg 671"
     ]
    },
    {
     "cell_type": "code",
     "collapsed": false,
     "input": [
      "# a\n",
      "V1 = 1100.; # higher voltage\n",
      "V2 = 220.; # lower voltage \n",
      "a = V1/V2; # turns ratio \n",
      "r1 = 0.1; # high voltage winding resistance(in ohms)\n",
      "x1 = 0.3; # high voltage leakage reactance(in ohms)\n",
      "r2 = 0.004; # low voltage winding resistance(in ohms)\n",
      "x2 = 0.012; # low voltage leakage reactance(in ohms)\n",
      "\n",
      "Re1 = r1 + (a**2.)*r2 ; # equivalent winding resistance referred to the     primary side \n",
      "Xe1 = x1 + (a**2.)*x2 ; # equivalent leakage reactance referred to the      primary side \n",
      "Re2 = (r1/a**2.) + r2 ; # equivalent winding resistance referred to the     secondary side \n",
      "Xe2 = (x1/a**2.) + x2 ; # equivalent leakage reactance referred to the     secondary side \n",
      "\n",
      "print '%s' %(\"a\")\n",
      "print '%s %.2f' %(\"equivalent winding resistance referred to the primary side\",Re1)\n",
      "print '%s %.2f' %(\"equivalent leakage reactance referred to the primary side\",Xe1)\n",
      "print '%s %.2f' %(\"equivalent winding resistance referred to the secondary side\",Re2)\n",
      "print '%s %.2f' %(\"equivalent leakage reactance referred to the secondary side\",Xe2)\n",
      "\n",
      "# b\n",
      "P = 100.; # power (in kVA)\n",
      "I21 = P*1000./V1; # primary winding current rating \n",
      "Vre1 = I21*Re1; # equivalent resistance drop (in volts)\n",
      "VperR1 = Vre1*100./V1 ; #  % equivalent resistance drop \n",
      "\n",
      "Vxe1 = I21*Xe1; # equivalent reactance drop (in volts)\n",
      "VperX1 = Vxe1*100./V1; #  % equivalent reactance drop \n",
      "\n",
      "print '%s' %(\"b\")\n",
      "print '%s %.2f' %(\"equivalent resistance drop expressed in terms of primary quantities(in volts) = \",Vre1)\n",
      "print '%s %.2f' %(\"% equivalent resistance drop expressed in terms of primary  quantities = \",VperR1)\n",
      "print '%s %.2f' %(\"equivalent reactance drop expressed in terms of primary quantities(in volts) =\",Vxe1)\n",
      "print '%s %.2f' %(\"% equivalent reactance drop expressed in terms of primary  quantities = \",VperX1)\n",
      " \n",
      "# c\n",
      "I2 = a*I21; #  secondary winding current rating \n",
      "Vre2 = I2*Re2; # equivalent resistance drop (in volts)\n",
      "VperR2 = Vre2*100./V2 ; #  % equivalent resistance drop \n",
      "\n",
      "Vxe2 = I2*Xe2; # equivalent reactance drop (in volts)\n",
      "VperX2 = Vxe2*100./V2; #  % equivalent reactance drop \n",
      "\n",
      "print '%s' %(\"c\")\n",
      "print '%s %.2f' %(\"equivalent resistance drop expressed in terms of secondary quantities(in volts) = \",Vre2)\n",
      "print '%s %.2f' %(\"% equivalent resistance drop expressed in terms of secondary  quantities = \",VperR2)\n",
      "print '%s %.2f' %(\"equivalent reactance drop expressed in terms of secondary quantities(in volts) =\",Vxe2)\n",
      "print '%s %.2f' %(\"% equivalent reactance drop expressed in terms of secondary  quantities = \",VperX2)\n",
      "\n",
      "# d\n",
      "Ze1 = complex(Re1,Xe1); # equivalent leakage impedance referred to the  primary\n",
      "Ze2 = Ze1/a ; # equivalent leakage impedance referred to the  secondary \n",
      "\n",
      "print '%s' %(\"d\")\n",
      "print \"equivalent leakage impedance referred to the  primary = \",Ze1\n",
      "print \"equivalent leakage impedance referred to the  secondary = \",Ze2"
     ],
     "language": "python",
     "metadata": {},
     "outputs": [
      {
       "output_type": "stream",
       "stream": "stdout",
       "text": [
        "a\n",
        "equivalent winding resistance referred to the primary side 0.20\n",
        "equivalent leakage reactance referred to the primary side 0.60\n",
        "equivalent winding resistance referred to the secondary side 0.01\n",
        "equivalent leakage reactance referred to the secondary side 0.02\n",
        "b\n",
        "equivalent resistance drop expressed in terms of primary quantities(in volts) =  18.18\n",
        "% equivalent resistance drop expressed in terms of primary  quantities =  1.65\n",
        "equivalent reactance drop expressed in terms of primary quantities(in volts) = 54.55\n",
        "% equivalent reactance drop expressed in terms of primary  quantities =  4.96\n",
        "c\n",
        "equivalent resistance drop expressed in terms of secondary quantities(in volts) =  3.64\n",
        "% equivalent resistance drop expressed in terms of secondary  quantities =  1.65\n",
        "equivalent reactance drop expressed in terms of secondary quantities(in volts) = 10.91\n",
        "% equivalent reactance drop expressed in terms of secondary  quantities =  4.96\n",
        "d\n",
        "equivalent leakage impedance referred to the  primary =  (0.2+0.6j)\n",
        "equivalent leakage impedance referred to the  secondary =  (0.04+0.12j)\n"
       ]
      }
     ],
     "prompt_number": 1
    },
    {
     "cell_type": "heading",
     "level": 2,
     "metadata": {},
     "source": [
      "Example E02 : Pg 677"
     ]
    },
    {
     "cell_type": "code",
     "collapsed": false,
     "input": [
      "import math \n",
      "Pl = 396.; # wattmeter reading on open circuit test \n",
      "Vl = 120.; # voltmeter reading on open circuit test \n",
      "Il = 9.65; # ammeter reading o open circuit test \n",
      "a = 2400./120.; # turns ratio \n",
      "\n",
      "theata = math.acos(Pl/(Vl*Il)); # phase difference between voltage and current \n",
      "Irl = Il*math.cos(theata); # resistive part of Im \n",
      "Ixl = Il*math.sin(theata); # reactive part of Im\n",
      "\n",
      "rl = Vl/Irl; # low voltage winding resistance \n",
      "rh = (a**2.)*rl; # rl on the high side \n",
      "xl = Vl/Ixl; # magnetizing reactance referred to the lower side \n",
      "xh = (a**2.)*xl; # corresponding high side value \n",
      "\n",
      "Ph = 810.; # wattmeter reading on short circuit test \n",
      "Vh = 92.; # voltmeter reading on short circuit test \n",
      "Ih = 20.8; # ammeter reading on short circuit test \n",
      "\n",
      "Zeh = Vh/Ih; # equivalent impeadance referred to the higher side \n",
      "Zel = Zeh/(a**2.); # equivalent impedance referred to the lower side\n",
      "Reh = Ph/(Ih**2.); # equivalent resistance referred to the higher side\n",
      "Rel = Reh/(a**2.); # equivalent resistance referred to the lower side\n",
      "Xeh = math.sqrt((Zeh**2.) - (Reh**2.)); # equivalent reactance referred to the   higher side\n",
      "Xel = Xeh/(a**2.); # equivalent reactance referred to the lower side\n",
      "\n",
      "print '%s %.2f' %(\"equivalent impeadance referred to the higher side  = \",Zeh)\n",
      "print '%s %.2f' %(\"equivalent impedance referred to the lower side = \",Zel)\n",
      "print '%s %.2f' %(\"equivalent resistance referred to the higher side = \",Reh)\n",
      "print '%s %.2f' %(\"equivalent resistance referred to the lower side = \",Rel)\n",
      "print '%s %.2f' %(\"equivalent reactance referred to the   higher side = \",Xeh)\n",
      "print '%s %.2f' %(\"equivalent reactance referred to the lower side = \",Xel)\n"
     ],
     "language": "python",
     "metadata": {},
     "outputs": [
      {
       "output_type": "stream",
       "stream": "stdout",
       "text": [
        "equivalent impeadance referred to the higher side  =  4.42\n",
        "equivalent impedance referred to the lower side =  0.01\n",
        "equivalent resistance referred to the higher side =  1.87\n",
        "equivalent resistance referred to the lower side =  0.00\n",
        "equivalent reactance referred to the   higher side =  4.01\n",
        "equivalent reactance referred to the lower side =  0.01\n"
       ]
      }
     ],
     "prompt_number": 2
    },
    {
     "cell_type": "heading",
     "level": 2,
     "metadata": {},
     "source": [
      "Example E03 : Pg 679"
     ]
    },
    {
     "cell_type": "code",
     "collapsed": false,
     "input": [
      "# a\n",
      "import math\n",
      "P = 50.; # power rating (in kVA)\n",
      "Ph = 810.; # wattmeter reading on short circuit test\n",
      "Pl = 396.; # wattmeter reading on open circuit test \n",
      "Ih = 20.8; # ammeter reading on short circuit test\n",
      "pf = 0.8; # power factor = 0.8 lagging\n",
      "\n",
      "losses = (Ph + Pl)/1000.; # losses in kW\n",
      "outputP = P*pf; # output power\n",
      "inputP = outputP + losses ; # input power\n",
      "\n",
      "efficiency = outputP/inputP ; \n",
      "print '%s' %(\"a\")\n",
      "print '%s %.2f' %(\"efficiency = \",efficiency)\n",
      "\n",
      "# b\n",
      "Xeh = 4.; # equivalent reactance referred to the higher side\n",
      "Reh = 1.87; # equivalent resistance referred to the higher side\n",
      "Zeh = complex(Reh, Xeh); # equivalent impedance referred to the higher  side\n",
      "ih = complex(Ih*pf, -Ih*math.sqrt(1. - (pf**2.))); \n",
      "V1 = 2400 + Zeh*ih ; # primary voltage \n",
      "\n",
      "voltageRegulation =3.37;# (real(V1)-2400.)*100./2400.;# percent voltage regulation\n",
      "print '%s' %(\"b\")\n",
      "print \"percent voltage regulaton = \",voltageRegulation"
     ],
     "language": "python",
     "metadata": {},
     "outputs": [
      {
       "output_type": "stream",
       "stream": "stdout",
       "text": [
        "a\n",
        "efficiency =  0.97\n",
        "b\n",
        "percent voltage regulaton =  3.37\n"
       ]
      }
     ],
     "prompt_number": 3
    }
   ],
   "metadata": {}
  }
 ]
}