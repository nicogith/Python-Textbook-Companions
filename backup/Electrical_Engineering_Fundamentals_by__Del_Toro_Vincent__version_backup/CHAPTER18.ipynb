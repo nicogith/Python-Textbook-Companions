{
 "metadata": {
  "name": "",
  "signature": "sha256:3aea9b2dc666b96ea6b74f3c9b50be2e594d59d3ab563c2b7d700e541f281ef3"
 },
 "nbformat": 3,
 "nbformat_minor": 0,
 "worksheets": [
  {
   "cells": [
    {
     "cell_type": "heading",
     "level": 1,
     "metadata": {},
     "source": [
      "CHAPTER18 : THE THREE PHASE INDUCTION MOTOR"
     ]
    },
    {
     "cell_type": "heading",
     "level": 2,
     "metadata": {},
     "source": [
      "Example E01 : Pg 726"
     ]
    },
    {
     "cell_type": "code",
     "collapsed": false,
     "input": [
      "# a\n",
      "import math \n",
      "V1 = 440./math.sqrt(3.);\n",
      "s = 0.025; # slip\n",
      "r1 = 0.1;\n",
      "r2 = 0.12;\n",
      "x1 = 0.35;\n",
      "x2 = 0.4;\n",
      "\n",
      "z = complex(r1 + r2/s, x1 + x2);\n",
      "i2 = V1/z; # input line current\n",
      "I2 =51.2;# math.sqrt(real(i2)**2. + imag(i2)**2.); # magnitude of input line current \n",
      "print '%s' %(\"a\")\n",
      "print \"input line current = \",i2\n",
      "\n",
      "i1 = complex(18.*math.cos(-1.484), 18.*math.sin(-1.484)); #  magnetizing current\n",
      "I1 = 18;#math.sqrt(real(i1)**2. + imag(i1)**2.); # magnitude of magnetizing current\n",
      "i = i1 + i2; # total current drawn from the voltage source\n",
      "I =58.2;# math.sqrt(real(i)**2. + imag(i)**2.); # magnitude of total current  \n",
      "theta =-0.457;# math.atan(imag(i)/real(i)); # phase difference between current and voltage \n",
      "pf = math.cos(theta); # power factor\n",
      "print '%s %.2f' %(\"power factor = \",pf)\n",
      "if theta >= 0 :\n",
      "    print '%s' %(\"leading\")\n",
      "else :\n",
      " print \"lagging\"\n",
      "\n",
      "# b\n",
      "f = 60.; # hertz \n",
      "ns = 1800.; \n",
      "ws = 2.*math.pi*ns/f; # stator angular velocity\n",
      "Pg = 3.*I2**2.*r2/s; # power \n",
      "T = Pg/ws; # developed electromagnetic torque\n",
      "print '%s' %(\"b\") \n",
      "print '%s %.2f' %(\"developed electromagneic torque (in Newton-meter) = \",T)\n",
      "\n",
      "# c\n",
      "Prot = 950.; # rotational losses (in watts)\n",
      "Po = Pg*(1. - s) - Prot ; # output power\n",
      "HPo = Po/746.; # output horse power\n",
      "print '%s' %(\"c\")\n",
      "print '%s %.2f' %(\"output horse power = \",HPo)\n",
      "\n",
      "# d\n",
      "Pc = 1200.; # core losses (in W)\n",
      "SCL = 3.*I**2.*r1; # stator copper loss\n",
      "RCL = 3.*I2**2.*r2; # rotar copper loss\n",
      "loss = Pc + SCL + RCL + Prot; # total losses\n",
      "Pi = 3.98*10.**4.;#real(3.*V1*i); # input power\n",
      "efficiency = 1. - (loss/Pi); \n",
      "print '%s %.2f' %(\"efficiency = \",efficiency)"
     ],
     "language": "python",
     "metadata": {},
     "outputs": [
      {
       "output_type": "stream",
       "stream": "stdout",
       "text": [
        "a\n",
        "input line current =  (50.6569205564-7.75361028925j)\n",
        "power factor =  0.90\n",
        "lagging\n",
        "b\n",
        "developed electromagneic torque (in Newton-meter) =  200.26\n",
        "c\n",
        "output horse power =  48.06\n",
        "efficiency =  0.90\n"
       ]
      }
     ],
     "prompt_number": 2
    }
   ],
   "metadata": {}
  }
 ]
}