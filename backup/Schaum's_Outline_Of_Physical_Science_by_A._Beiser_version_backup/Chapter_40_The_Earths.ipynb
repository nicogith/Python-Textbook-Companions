{
 "metadata": {
  "name": "",
  "signature": "sha256:53e426d5ee4557f6b6ca68786a70c1f6b890ecbe63ac885e1e384faab877f8b5"
 },
 "nbformat": 3,
 "nbformat_minor": 0,
 "worksheets": [
  {
   "cells": [
    {
     "cell_type": "heading",
     "level": 1,
     "metadata": {},
     "source": [
      "Chapter 40 :The Earths Interior"
     ]
    },
    {
     "cell_type": "heading",
     "level": 2,
     "metadata": {},
     "source": [
      "Example 40.7 , Page no:273"
     ]
    },
    {
     "cell_type": "code",
     "collapsed": false,
     "input": [
      "import math\n",
      "from __future__ import division\n",
      " \n",
      "#initialisation of variables\n",
      "r=6.4*10**6; #radius in metre\n",
      "v=(4/3)*3.14*r*r*r; #calculating volume\n",
      "m=6.0*10**24; #mass in kg\n",
      "\n",
      "#CALCULATIONS\n",
      "d=m/v; #calculating density\n",
      "\n",
      "#RESULT\n",
      "print\"Density in kg/m cube =\",round(d,3);"
     ],
     "language": "python",
     "metadata": {},
     "outputs": [
      {
       "output_type": "stream",
       "stream": "stdout",
       "text": [
        "Density in kg/m cube = 5466.923\n"
       ]
      }
     ],
     "prompt_number": 1
    }
   ],
   "metadata": {}
  }
 ]
}