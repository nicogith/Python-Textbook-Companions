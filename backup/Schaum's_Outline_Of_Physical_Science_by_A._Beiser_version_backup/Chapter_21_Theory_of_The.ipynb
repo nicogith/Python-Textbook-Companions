{
 "metadata": {
  "name": "",
  "signature": "sha256:a35356bb52f3e15209bd5116e1e054ebf763b1bc391f9368da7f7b8815f6e741"
 },
 "nbformat": 3,
 "nbformat_minor": 0,
 "worksheets": [
  {
   "cells": [
    {
     "cell_type": "heading",
     "level": 1,
     "metadata": {},
     "source": [
      "Chapter 21 :Theory of The Atom"
     ]
    },
    {
     "cell_type": "heading",
     "level": 2,
     "metadata": {},
     "source": [
      "Example 21.5 , Page no:126"
     ]
    },
    {
     "cell_type": "code",
     "collapsed": false,
     "input": [
      "import math\n",
      "from __future__ import division\n",
      " \n",
      "#initialisation of variables\n",
      "e1=-13.6; #in eV\n",
      "\n",
      "#CALCULATIONS\n",
      "a=(e1/4);\n",
      "b=(e1/9);\n",
      "c=(e1/16);\n",
      "\n",
      "#RESULTS\n",
      "print\"Energy of first excited state in eV =\",round(a,3);\n",
      "print\"Energy of second excited state in eV =\",round(b,3);\n",
      "print\"Energy of third excited state in eV =\",round(c,3);"
     ],
     "language": "python",
     "metadata": {},
     "outputs": [
      {
       "output_type": "stream",
       "stream": "stdout",
       "text": [
        "Energy of first excited state in eV = -3.4\n",
        "Energy of second excited state in eV = -1.511\n",
        "Energy of third excited state in eV = -0.85\n"
       ]
      }
     ],
     "prompt_number": 1
    },
    {
     "cell_type": "heading",
     "level": 2,
     "metadata": {},
     "source": [
      "Example 21.6 , Page no:127"
     ]
    },
    {
     "cell_type": "code",
     "collapsed": false,
     "input": [
      "import math\n",
      "from __future__ import division\n",
      " \n",
      "#initialisation of variables\n",
      "h=6.63*10**-34; #Plancks constant in J.sec\n",
      "m=9.1*10**-31; #mass in kg\n",
      "r1=5.3*10**-11; #radius in m\n",
      "\n",
      "#CALCULATIONS\n",
      "v=h/(2*3.14*m*r1); #calculating velocity in m/sec\n",
      "\n",
      "#RESULTS\n",
      "print\"Velocity in m/sec =\",round(v,3);"
     ],
     "language": "python",
     "metadata": {},
     "outputs": [
      {
       "output_type": "stream",
       "stream": "stdout",
       "text": [
        "Velocity in m/sec = 2188953.938\n"
       ]
      }
     ],
     "prompt_number": 2
    },
    {
     "cell_type": "heading",
     "level": 2,
     "metadata": {},
     "source": [
      "Example 21.7 , Page no:127"
     ]
    },
    {
     "cell_type": "code",
     "collapsed": false,
     "input": [
      "import math\n",
      "from __future__ import division\n",
      " \n",
      "#initialisation of variables\n",
      "E=2.18*10**-18; #energy in Joule\n",
      "k=1.38*10**-23; #constant in J/K\n",
      "\n",
      "#CALCULATIONS\n",
      "a=((2*E)/(3*k));\n",
      "\n",
      "#RESULTS\n",
      "print\"Temperature in Kelvin =\",round(a,3);"
     ],
     "language": "python",
     "metadata": {},
     "outputs": [
      {
       "output_type": "stream",
       "stream": "stdout",
       "text": [
        "Temperature in Kelvin = 105314.01\n"
       ]
      }
     ],
     "prompt_number": 3
    },
    {
     "cell_type": "heading",
     "level": 2,
     "metadata": {},
     "source": [
      "Example 21.8 , Page no:127"
     ]
    },
    {
     "cell_type": "code",
     "collapsed": false,
     "input": [
      "import math\n",
      "from __future__ import division\n",
      " \n",
      "#initialisation of variables\n",
      "E=2.18*10**-18; #energy in Joule\n",
      "k=1.38*10**-23; #constant in J/K\n",
      "\n",
      "#CALCULATIONS\n",
      "a=E/h;\n",
      "\n",
      "#RESULTS\n",
      "print\"Frequency in Hz =\",'%.3E'%a;"
     ],
     "language": "python",
     "metadata": {},
     "outputs": [
      {
       "output_type": "stream",
       "stream": "stdout",
       "text": [
        "Frequency in Hz = 3.288E+15\n"
       ]
      }
     ],
     "prompt_number": 4
    },
    {
     "cell_type": "heading",
     "level": 2,
     "metadata": {},
     "source": [
      "Example 21.11 , Page no:127"
     ]
    },
    {
     "cell_type": "code",
     "collapsed": false,
     "input": [
      "import math\n",
      "from __future__ import division\n",
      " \n",
      "#initialisation of variables\n",
      "e1=-13.6; #energy in eV\n",
      "\n",
      "#CALCULATIONS\n",
      "e=e1/9;\n",
      "\n",
      "#RESULTS\n",
      "print\"Energy in eV =\",round(e,3);"
     ],
     "language": "python",
     "metadata": {},
     "outputs": [
      {
       "output_type": "stream",
       "stream": "stdout",
       "text": [
        "Energy in eV = -1.511\n"
       ]
      }
     ],
     "prompt_number": 5
    }
   ],
   "metadata": {}
  }
 ]
}