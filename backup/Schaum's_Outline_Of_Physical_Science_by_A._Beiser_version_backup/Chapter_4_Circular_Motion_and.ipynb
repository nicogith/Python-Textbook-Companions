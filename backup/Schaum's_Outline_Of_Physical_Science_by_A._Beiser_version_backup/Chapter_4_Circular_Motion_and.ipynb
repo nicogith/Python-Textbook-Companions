{
 "metadata": {
  "name": "",
  "signature": "sha256:065e1f2e7d4769d0cab7be008f515b1106dbd292d74a3aca218baa2a090e705f"
 },
 "nbformat": 3,
 "nbformat_minor": 0,
 "worksheets": [
  {
   "cells": [
    {
     "cell_type": "heading",
     "level": 1,
     "metadata": {},
     "source": [
      "Chapter 4 :Circular Motion and Gravitation"
     ]
    },
    {
     "cell_type": "heading",
     "level": 2,
     "metadata": {},
     "source": [
      "Example 4.1 , Page no:24"
     ]
    },
    {
     "cell_type": "code",
     "collapsed": false,
     "input": [
      "import math\n",
      "from __future__ import division\n",
      "\n",
      "#initialisation of variables\n",
      "r=1.5; #radius in ft\n",
      "t=2; #time in sec\n",
      "\n",
      "#CALCULATIONS\n",
      "s=2*3.14*r; #calculating s using circumference of circle\n",
      "#=2*3.14*r in ft\n",
      "v=s/t; #calculating velocity using v=s/t in ft/sec\n",
      "ac=(v*v)/r; #calculating centripetal accelaration in #ft/sec square.\n",
      "\n",
      "#RESULTS\n",
      "print\"Centripetal Accelaration =\",round(ac,3);"
     ],
     "language": "python",
     "metadata": {},
     "outputs": [
      {
       "output_type": "stream",
       "stream": "stdout",
       "text": [
        "Centripetal Accelaration = 14.789\n"
       ]
      }
     ],
     "prompt_number": 1
    },
    {
     "cell_type": "heading",
     "level": 2,
     "metadata": {},
     "source": [
      "Example 4.2 , Page no:24"
     ]
    },
    {
     "cell_type": "code",
     "collapsed": false,
     "input": [
      "import math\n",
      "from __future__ import division\n",
      "\n",
      "#initialisation of variables\n",
      "m=0.5; #weight in kg\n",
      "r=1; #readius in metre\n",
      "v=4; #velocity in metre/sec\n",
      "\n",
      "#CALCULATIONS\n",
      "F=(m*v*v)/r; #calculating centripetal force in Newton\n",
      "\n",
      "#RESULTS\n",
      "print\"Centripetal Force =\",round(F);"
     ],
     "language": "python",
     "metadata": {},
     "outputs": [
      {
       "output_type": "stream",
       "stream": "stdout",
       "text": [
        "Centripetal Force = 8.0\n"
       ]
      }
     ],
     "prompt_number": 2
    },
    {
     "cell_type": "heading",
     "level": 2,
     "metadata": {},
     "source": [
      "Example 4.3 , Page no:24"
     ]
    },
    {
     "cell_type": "code",
     "collapsed": false,
     "input": [
      "import math\n",
      "from __future__ import division\n",
      "\n",
      "#initialisation of variables\n",
      "F=1; #force in Newton\n",
      "m=0.1; #m in kg\n",
      "r=0.7; #radius in metre\n",
      "\n",
      "#CALCULATIONS\n",
      "v=math.sqrt((F*r)/m); #calculating v in m/sec\n",
      "\n",
      "#RESULTS\n",
      "print\"Velocity in metre/sec =\",round(v,3);"
     ],
     "language": "python",
     "metadata": {},
     "outputs": [
      {
       "output_type": "stream",
       "stream": "stdout",
       "text": [
        "Velocity in metre/sec = 2.646\n"
       ]
      }
     ],
     "prompt_number": 3
    },
    {
     "cell_type": "heading",
     "level": 2,
     "metadata": {},
     "source": [
      "Example 4.4 , Page no:24"
     ]
    },
    {
     "cell_type": "code",
     "collapsed": false,
     "input": [
      "import math\n",
      "from __future__ import division\n",
      "\n",
      "#initialisation of variables\n",
      "g=32; #gravitational constant in ft/sec square.\n",
      "w=160; #weight in lb\n",
      "r=20; #radius in ft\n",
      "v=10; #velocity in ft/sec\n",
      "\n",
      "#CALCULATIONS\n",
      "m=w/g;  #calculating mass in slugs\n",
      "F=(m*v*v)/r; #calculating centripetal force in lb\n",
      "\n",
      "#RESULTS\n",
      "print\"Centripetal Force in lb =\",round(F);"
     ],
     "language": "python",
     "metadata": {},
     "outputs": [
      {
       "output_type": "stream",
       "stream": "stdout",
       "text": [
        "Centripetal Force in lb = 25.0\n"
       ]
      }
     ],
     "prompt_number": 4
    },
    {
     "cell_type": "heading",
     "level": 2,
     "metadata": {},
     "source": [
      "Example 4.5 , Page no:24"
     ]
    },
    {
     "cell_type": "code",
     "collapsed": false,
     "input": [
      "import math\n",
      "from __future__ import division\n",
      "\n",
      "#initialisation of variables\n",
      "m=1000; #mass in kg\n",
      "r=30; #radius in metre\n",
      "v=9; #velocity in metre/sec\n",
      "\n",
      "#CALCULATIONS\n",
      "F=(m*v*v)/r; #calculating centripetal force in Newton.\n",
      "\n",
      "#RESULTS\n",
      "print\"Centripetal Force in Newton =\",round(F);"
     ],
     "language": "python",
     "metadata": {},
     "outputs": [
      {
       "output_type": "stream",
       "stream": "stdout",
       "text": [
        "Centripetal Force in Newton = 2700.0\n"
       ]
      }
     ],
     "prompt_number": 5
    },
    {
     "cell_type": "heading",
     "level": 2,
     "metadata": {},
     "source": [
      "Example 4.6 , Page no:25"
     ]
    },
    {
     "cell_type": "code",
     "collapsed": false,
     "input": [
      "import math\n",
      "from __future__ import division\n",
      "\n",
      "#initialisation of variables\n",
      "g=32; #gravitational constant in ft/sec square.\n",
      "w=3200; #weight in lb\n",
      "F=2000; #Maximum Force in lb\n",
      "r=320; #adius in ft\n",
      "\n",
      "#CALCULATIONS\n",
      "m=w/g; #calculating mass in slugs\n",
      "v=math.sqrt((F*r)/m); #calculating velocity in ft/sec\n",
      "v1=v*0.682;\n",
      "\n",
      "#RESULTS\n",
      "print\"Velocity in min/hr =\",round(v1);"
     ],
     "language": "python",
     "metadata": {},
     "outputs": [
      {
       "output_type": "stream",
       "stream": "stdout",
       "text": [
        "Velocity in min/hr = 55.0\n"
       ]
      }
     ],
     "prompt_number": 6
    },
    {
     "cell_type": "heading",
     "level": 2,
     "metadata": {},
     "source": [
      "Example 4.7 , Page no:25"
     ]
    },
    {
     "cell_type": "code",
     "collapsed": false,
     "input": [
      "import math\n",
      "from __future__ import division\n",
      "\n",
      "#initialisation of variables\n",
      "g=9.8; #gravitaional constant in metre/sec \n",
      "r=0.5; #radius in metre\n",
      "m=1; #mass in kg\n",
      "v=5; #velocity in metre/sec\n",
      "\n",
      "#CALCULATIONS\n",
      "F=(m*v*v)/r; #calculationg centripetal force in Newton\n",
      "w=m*g; #calculating weight in Newton\n",
      "T=F-w; #calculating Tension in string at top position in Newton\n",
      "T1=F+w; #calculating Tension at bottom of string in Newton.\n",
      "\n",
      "#RESULTS\n",
      "print\"Tension in the string at the top position in Newton =\",round(T,2);\n",
      "print\"Tension in the string at the bottom position in Newton =\",round(T1,2);"
     ],
     "language": "python",
     "metadata": {},
     "outputs": [
      {
       "output_type": "stream",
       "stream": "stdout",
       "text": [
        "Tension in the string at the top position in Newton = 40.2\n",
        "Tension in the string at the bottom position in Newton = 59.8\n"
       ]
      }
     ],
     "prompt_number": 7
    },
    {
     "cell_type": "heading",
     "level": 2,
     "metadata": {},
     "source": [
      "Example 4.8 , Page no:25"
     ]
    },
    {
     "cell_type": "code",
     "collapsed": false,
     "input": [
      "import math\n",
      "from __future__ import division\n",
      "\n",
      "#initialisation of variables\n",
      "G=3.44*10**-8; #universal gravitational constant in lb.ft square/slug square\n",
      "r=10; #radius in ft\n",
      "w=2000; #weight in lb\n",
      "g=32; #gravitational constant in ft/sec square\n",
      "\n",
      "#CALCULATIONS\n",
      "m=w/g; #calculating mass in slugs\n",
      "F=(G*m*m)/(r*r); #calculating gravitational force in lb\n",
      "\n",
      "#RESULTS\n",
      "print\"Gravitational force in lb =\",round(F,7);"
     ],
     "language": "python",
     "metadata": {},
     "outputs": [
      {
       "output_type": "stream",
       "stream": "stdout",
       "text": [
        "Gravitational force in lb = 1.3e-06\n"
       ]
      }
     ],
     "prompt_number": 8
    },
    {
     "cell_type": "heading",
     "level": 2,
     "metadata": {},
     "source": [
      "Example 4.9 , Page no:26"
     ]
    },
    {
     "cell_type": "code",
     "collapsed": false,
     "input": [
      "import math\n",
      "from __future__ import division\n",
      "\n",
      "#initialisation of variables\n",
      "G=6.67*10**-11; #universal gravitational constant in Nm square/kg square.\n",
      "m1=5.98*10**24; #mass of earth in kg\n",
      "m2=7.36*10**22; #mass of moon in kg\n",
      "r=3.84*10**8; #radius of moon's orbit\n",
      "\n",
      "#CALCULATIONS\n",
      "F=(G*m1*m2)/(r*r); #calculating gravitationalforce in Newton\n",
      "v=math.sqrt((G*m1)/r); #calculating velocity of moon in m/sec\n",
      "s=2*3.14*r; #calculating circumference of moon's orbit in metre\n",
      "t=s/v; #calculating time in sec\n",
      "t1=t/86400;\n",
      "\n",
      "#RESULTS\n",
      "print\"Gravitational Force in Newton =\",'%.2E'%F;\n",
      "print\"Velocity in metre/sec =\",round(v,3);\n",
      "print\"Time in sec =\",round(t);\n",
      "print\"Time in days =\",round(t1,3);"
     ],
     "language": "python",
     "metadata": {},
     "outputs": [
      {
       "output_type": "stream",
       "stream": "stdout",
       "text": [
        "Gravitational Force in Newton = 1.99E+20\n",
        "Velocity in metre/sec = 1019.173\n",
        "Time in sec = 2366154.0\n",
        "Time in days = 27.386\n"
       ]
      }
     ],
     "prompt_number": 9
    },
    {
     "cell_type": "heading",
     "level": 2,
     "metadata": {},
     "source": [
      "Example 4.10 , Page no:26"
     ]
    },
    {
     "cell_type": "code",
     "collapsed": false,
     "input": [
      "import math\n",
      "from __future__ import division\n",
      "\n",
      "#initialisation of variables\n",
      "r=6.4*10**6; #radius of earth in m\n",
      "g=9.8; #gravitational constant in m/sec square\n",
      "\n",
      "#CALCULATIONS\n",
      "v=math.sqrt(r*g); #calculating velocity in m/sec\n",
      "\n",
      "#RESULTS\n",
      "print\"Velocity in metre/sec =\",round(v,3);"
     ],
     "language": "python",
     "metadata": {},
     "outputs": [
      {
       "output_type": "stream",
       "stream": "stdout",
       "text": [
        "Velocity in metre/sec = 7919.596\n"
       ]
      }
     ],
     "prompt_number": 10
    },
    {
     "cell_type": "heading",
     "level": 2,
     "metadata": {},
     "source": [
      "Example 4.11 , Page no:26"
     ]
    },
    {
     "cell_type": "code",
     "collapsed": false,
     "input": [
      "import math\n",
      "from __future__ import division\n",
      "\n",
      "#initialisation of variables\n",
      "r=6400+1000; #radius in metre\n",
      "\n",
      "#CALCULATIONS\n",
      "g=(6400/7400)*(6400/7400)*9.8; #calculating g at 1000km using g=(r earth/r)*g\n",
      "\n",
      "#RESULTS\n",
      "print\"Accelaration due to gravity at 1000km =\",round(g,3);"
     ],
     "language": "python",
     "metadata": {},
     "outputs": [
      {
       "output_type": "stream",
       "stream": "stdout",
       "text": [
        "Accelaration due to gravity at 1000km = 7.33\n"
       ]
      }
     ],
     "prompt_number": 11
    },
    {
     "cell_type": "heading",
     "level": 2,
     "metadata": {},
     "source": [
      "Example 4.12 , Page no:27"
     ]
    },
    {
     "cell_type": "code",
     "collapsed": false,
     "input": [
      "import math\n",
      "from __future__ import division\n",
      "\n",
      "#initialisation of variables\n",
      "g=32; #gravitational constant in ft/sec square\n",
      "w=128; #mass in lb\n",
      "\n",
      "#CALCULATIONS\n",
      "F=(1/2)*(1/2)*128; #calculating F in lb\n",
      "m=w/g; #calculating m in slugs\n",
      "\n",
      "#RESULTS\n",
      "print\"Weight at height above the earths surface of one earth radius =\",round(F);\n",
      "print\"Mass of the girl in slugs=\",round(m);"
     ],
     "language": "python",
     "metadata": {},
     "outputs": [
      {
       "output_type": "stream",
       "stream": "stdout",
       "text": [
        "Weight at height above the earths surface of one earth radius = 32.0\n",
        "Mass of the girl in slugs= 4.0\n"
       ]
      }
     ],
     "prompt_number": 12
    },
    {
     "cell_type": "heading",
     "level": 2,
     "metadata": {},
     "source": [
      "Example 4.13 , Page no:27"
     ]
    },
    {
     "cell_type": "code",
     "collapsed": false,
     "input": [
      "import math\n",
      "from __future__ import division\n",
      "\n",
      "#initialisation of variables\n",
      "T=24*60*60; #time in sec\n",
      "re=6.4*10**6; #radius of earth in m\n",
      "g=9.8; #gravitational constant in m/sec square\n",
      "\n",
      "#CALCULATIONS\n",
      "r=(((6.4*10**6*6.4*10**6)*9.8*(8.64*10**4*8.64*10**4))/(4*3.14*3.14))**(1/3); #calculating r in metre\n",
      "h=r-re; #h =altitude above earth's surface\n",
      "h1=h/1000;\n",
      "\n",
      "#RESULTS\n",
      "print\"Radius in metre =\",round(r);\n",
      "print\"Height above the earths Surface in metre =\",round(h);\n",
      "print\"Height above the earths Surface in kilometre =\",round(h1,3);"
     ],
     "language": "python",
     "metadata": {},
     "outputs": [
      {
       "output_type": "stream",
       "stream": "stdout",
       "text": [
        "Radius in metre = 42354355.0\n",
        "Height above the earths Surface in metre = 35954355.0\n",
        "Height above the earths Surface in kilometre = 35954.355\n"
       ]
      }
     ],
     "prompt_number": 13
    },
    {
     "cell_type": "heading",
     "level": 1,
     "metadata": {},
     "source": [
      "Example 4.14 , Page no:27"
     ]
    },
    {
     "cell_type": "code",
     "collapsed": false,
     "input": [
      "import math\n",
      "from __future__ import division\n",
      "\n",
      "#initialisation of variables\n",
      "re=6.4*10**6; #radius of earth in m \n",
      "g=9.8; #gravitational constant in m/sec square\n",
      "\n",
      "#CALCULATIONS\n",
      "G=6.67*10**-11; #Universal gravitational constant in Nm square/kg square\n",
      "m=(g*re*re)/G; #calculating mass of earth in kg\n",
      "\n",
      "#RESULTS\n",
      "print\"Mass of Earth in kg =\",'%.2E'%m;"
     ],
     "language": "python",
     "metadata": {},
     "outputs": [
      {
       "output_type": "stream",
       "stream": "stdout",
       "text": [
        "Mass of Earth in kg = 6.02E+24\n"
       ]
      }
     ],
     "prompt_number": 14
    },
    {
     "cell_type": "heading",
     "level": 2,
     "metadata": {},
     "source": [
      "Example 4.15 , Page no:28"
     ]
    },
    {
     "cell_type": "code",
     "collapsed": false,
     "input": [
      "import math\n",
      "from __future__ import division\n",
      "\n",
      "#initialisation of variables\n",
      "G=6.67*10**-11; #Universal gravitational constant in Nmsquare/kg square\n",
      "mm=7.36*10**22; #mass of moon in kg\n",
      "r=1.74*10**6; #radius of moon in m\n",
      "m=75; #weight of man in kg\n",
      "\n",
      "#CALCULATIONS\n",
      "g=(G*mm)/(r*r); #calculating g in m/sec square\n",
      "w=m*g; #calculating weight in Newton\n",
      "\n",
      "#RESULTS\n",
      "print\"Accelaration due to gravity at its surface in m/sec square=\",round(g,3);\n",
      "print\"Mans weight on moon in Newton =\",round(w,3);"
     ],
     "language": "python",
     "metadata": {},
     "outputs": [
      {
       "output_type": "stream",
       "stream": "stdout",
       "text": [
        "Accelaration due to gravity at its surface in m/sec square= 1.621\n",
        "Mans weight on moon in Newton = 121.609\n"
       ]
      }
     ],
     "prompt_number": 15
    },
    {
     "cell_type": "heading",
     "level": 2,
     "metadata": {},
     "source": [
      "Example 4.16 , Page no:28"
     ]
    },
    {
     "cell_type": "code",
     "collapsed": false,
     "input": [
      "import math\n",
      "from __future__ import division\n",
      "\n",
      "#initialisation of variables\n",
      "r=1.74*10**6; #radius in m\n",
      "gm=1.6; #gravitational constant of moon in m/sec square\n",
      "\n",
      "#CALCULATIONS\n",
      "v=math.sqrt(r*gm); #calculating velocity\n",
      "\n",
      "#RESULTS\n",
      "print\"Velocity in m/sec =\",round(v,3);"
     ],
     "language": "python",
     "metadata": {},
     "outputs": [
      {
       "output_type": "stream",
       "stream": "stdout",
       "text": [
        "Velocity in m/sec = 1668.532\n"
       ]
      }
     ],
     "prompt_number": 16
    }
   ],
   "metadata": {}
  }
 ]
}