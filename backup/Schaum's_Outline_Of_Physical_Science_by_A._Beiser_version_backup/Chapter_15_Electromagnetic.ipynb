{
 "metadata": {
  "name": "",
  "signature": "sha256:a1dab8c378da3e4137ceba373d5eb8b20fdc79b416cd7dcdb3f283eb06f6103e"
 },
 "nbformat": 3,
 "nbformat_minor": 0,
 "worksheets": [
  {
   "cells": [
    {
     "cell_type": "heading",
     "level": 1,
     "metadata": {},
     "source": [
      "Chapter 15 :Electromagnetic Induction"
     ]
    },
    {
     "cell_type": "heading",
     "level": 2,
     "metadata": {},
     "source": [
      "Example 15.3 , Page no:90"
     ]
    },
    {
     "cell_type": "code",
     "collapsed": false,
     "input": [
      "import math\n",
      "from __future__ import division\n",
      " \n",
      "#initialisation of variables\n",
      "l=5*0.305; #converting ft to metre\n",
      "v=40*0.447; #converting mile/hr to m/sec\n",
      "B=3*10**-5; #magnetic field in Tesla\n",
      "\n",
      "#CALCULATIONS\n",
      "ve=B*l*v; #calculating potential difference\n",
      "\n",
      "#RESULTS\n",
      "print\"Potential difference in Volt =\",round(ve,5);"
     ],
     "language": "python",
     "metadata": {},
     "outputs": [
      {
       "output_type": "stream",
       "stream": "stdout",
       "text": [
        "Potential difference in Volt = 0.00082\n"
       ]
      }
     ],
     "prompt_number": 1
    },
    {
     "cell_type": "heading",
     "level": 2,
     "metadata": {},
     "source": [
      "Example 15.4 , Page no:91"
     ]
    },
    {
     "cell_type": "code",
     "collapsed": false,
     "input": [
      "import math\n",
      "from __future__ import division\n",
      " \n",
      "#initialisation of variables\n",
      "i=0.707*10; #current in Ampere\n",
      "r=20; #resistance in Ohm\n",
      "\n",
      "#CALCULATIONS\n",
      "p=i*i*r; #calculating power dissipated\n",
      "\n",
      "#RESULTS\n",
      "print\"Power dissipated in Watt =\",round(p,3);"
     ],
     "language": "python",
     "metadata": {},
     "outputs": [
      {
       "output_type": "stream",
       "stream": "stdout",
       "text": [
        "Power dissipated in Watt = 999.698\n"
       ]
      }
     ],
     "prompt_number": 2
    },
    {
     "cell_type": "heading",
     "level": 2,
     "metadata": {},
     "source": [
      "Example 15.5 , Page no:91"
     ]
    },
    {
     "cell_type": "code",
     "collapsed": false,
     "input": [
      "import math\n",
      "from __future__ import division\n",
      " \n",
      "#initialisation of variables\n",
      "r=5; #resistance in ohm\n",
      "p=1000; #power in Watt\n",
      "va=100; #potential diff in Volt for a\n",
      "vb=100000; #potential diff in volt for b\n",
      "\n",
      "#CALCULATIONS\n",
      "ia=p/va; #calculating current\n",
      "ib=p/vb; #calculating current\n",
      "ha=ia*ia*r; #heat in Watt\n",
      "hb=ib*ib*r; #heat in Watt\n",
      "\n",
      "#RESULTS\n",
      "print\"Heat produced by a in Watt =\",round(ha,3);\n",
      "print\"Heat produced by b in Watt =\",round(hb,4);"
     ],
     "language": "python",
     "metadata": {},
     "outputs": [
      {
       "output_type": "stream",
       "stream": "stdout",
       "text": [
        "Heat produced by a in Watt = 500.0\n",
        "Heat produced by b in Watt = 0.0005\n"
       ]
      }
     ],
     "prompt_number": 3
    },
    {
     "cell_type": "heading",
     "level": 2,
     "metadata": {},
     "source": [
      "Example 15.6 , Page no:91"
     ]
    },
    {
     "cell_type": "code",
     "collapsed": false,
     "input": [
      "import math\n",
      "from __future__ import division\n",
      " \n",
      "#initialisation of variables\n",
      "i1=3; #current in Ampere\n",
      "n2=500; #no. of turns\n",
      "n1=100; #no. of turns\n",
      "v1=120; #potential diff in volt\n",
      "\n",
      "#CALCULATIONS\n",
      "v2=(n2*v1)/n1; #calculating v2\n",
      "i2=(n1*i1)/n2; #calculating i2\n",
      "\n",
      "#RESULTS\n",
      "print\"Voltage in volt =\",round(v2,3);\n",
      "print\"Current in Ampere =\",round(i2,3);"
     ],
     "language": "python",
     "metadata": {},
     "outputs": [
      {
       "output_type": "stream",
       "stream": "stdout",
       "text": [
        "Voltage in volt = 600.0\n",
        "Current in Ampere = 0.6\n"
       ]
      }
     ],
     "prompt_number": 4
    },
    {
     "cell_type": "heading",
     "level": 2,
     "metadata": {},
     "source": [
      "Example 15.7 , Page no:91"
     ]
    },
    {
     "cell_type": "code",
     "collapsed": false,
     "input": [
      "import math\n",
      "from __future__ import division\n",
      " \n",
      "#initialisation of variables\n",
      "p=10000; #power in Watt\n",
      "v1=5000; #potential diff in volt\n",
      "v2=240; #voltage in volt\n",
      "\n",
      "#CALCULATIONS\n",
      "i2=p/v2; #calculating i2\n",
      "v=v1/v2;\n",
      "\n",
      "#RESULTS\n",
      "print\"Ratio of turns =\",round(v,3);\n",
      "print\"Maximum current in Ampere =\",round(i2,3);"
     ],
     "language": "python",
     "metadata": {},
     "outputs": [
      {
       "output_type": "stream",
       "stream": "stdout",
       "text": [
        "Ratio of turns = 20.833\n",
        "Maximum current in Ampere = 41.667\n"
       ]
      }
     ],
     "prompt_number": 5
    },
    {
     "cell_type": "heading",
     "level": 2,
     "metadata": {},
     "source": [
      "Example 15.8 , Page no:92"
     ]
    },
    {
     "cell_type": "code",
     "collapsed": false,
     "input": [
      "import math\n",
      "from __future__ import division\n",
      " \n",
      "#initialisation of variables\n",
      "r=100; #resistance in ohm\n",
      "v1=120; #potential diff in Volt\n",
      "n2=50; #no. of turns\n",
      "n1=200; #no. of turns\n",
      "\n",
      "#CALCULATIONS\n",
      "v2=(n2*v1)/n1; #potential diff in volt\n",
      "i2=v2/r; #calculating current\n",
      "i1=(n2/n1)*i2; #calculating current\n",
      "\n",
      "#RESULTS\n",
      "print\"Current in primary circuit in Ampere =\",round(i1,3);"
     ],
     "language": "python",
     "metadata": {},
     "outputs": [
      {
       "output_type": "stream",
       "stream": "stdout",
       "text": [
        "Current in primary circuit in Ampere = 0.075\n"
       ]
      }
     ],
     "prompt_number": 6
    }
   ],
   "metadata": {}
  }
 ]
}