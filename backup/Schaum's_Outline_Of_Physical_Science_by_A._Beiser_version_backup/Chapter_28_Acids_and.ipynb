{
 "metadata": {
  "name": "",
  "signature": "sha256:c8e654f85abf6300bbf65bd44f7092de09b88287ed479085d1ca0a2dcb40c77b"
 },
 "nbformat": 3,
 "nbformat_minor": 0,
 "worksheets": [
  {
   "cells": [
    {
     "cell_type": "heading",
     "level": 1,
     "metadata": {},
     "source": [
      "Chapter 28 :Acids and Bases"
     ]
    },
    {
     "cell_type": "heading",
     "level": 2,
     "metadata": {},
     "source": [
      "Example 28.1 , Page no:170"
     ]
    },
    {
     "cell_type": "code",
     "collapsed": false,
     "input": [
      "import math\n",
      "from __future__ import division\n",
      " \n",
      "#initialisation of variables\n",
      "m=1000/18;\n",
      "\n",
      "#RESULTS\n",
      "print\"Moles of H2O =\",round(m,3);"
     ],
     "language": "python",
     "metadata": {},
     "outputs": [
      {
       "output_type": "stream",
       "stream": "stdout",
       "text": [
        "Moles of H2O = 55.556\n"
       ]
      }
     ],
     "prompt_number": 1
    },
    {
     "cell_type": "heading",
     "level": 2,
     "metadata": {},
     "source": [
      "Example 28.10 , Page no:172"
     ]
    },
    {
     "cell_type": "code",
     "collapsed": false,
     "input": [
      "import math\n",
      "from __future__ import division\n",
      " \n",
      "#initialisation of variables\n",
      "m=2*0.4;\n",
      "m1=0.8*(1.01+16.00+39.10);\n",
      "\n",
      "#RESULTS\n",
      "print\"Moles of KOH =\",round(m,3);\n",
      "print\"Mass =\",round(m1,3);"
     ],
     "language": "python",
     "metadata": {},
     "outputs": [
      {
       "output_type": "stream",
       "stream": "stdout",
       "text": [
        "Moles of KOH = 0.8\n",
        "Mass = 44.888\n"
       ]
      }
     ],
     "prompt_number": 2
    },
    {
     "cell_type": "heading",
     "level": 2,
     "metadata": {},
     "source": [
      "Example 28.11 , Page no:173"
     ]
    },
    {
     "cell_type": "code",
     "collapsed": false,
     "input": [
      "import math\n",
      "from __future__ import division\n",
      " \n",
      "#initialisation of variables\n",
      "m=3*5;\n",
      "m1=15*(2.02+32.06+64);\n",
      "\n",
      "#RESULTS\n",
      "print\"Moles =\",round(m,3);\n",
      "print\"Mass =\",round(m1,3);"
     ],
     "language": "python",
     "metadata": {},
     "outputs": [
      {
       "output_type": "stream",
       "stream": "stdout",
       "text": [
        "Moles = 15.0\n",
        "Mass = 1471.2\n"
       ]
      }
     ],
     "prompt_number": 3
    },
    {
     "cell_type": "heading",
     "level": 2,
     "metadata": {},
     "source": [
      "Example 28.12 , Page no:173"
     ]
    },
    {
     "cell_type": "code",
     "collapsed": false,
     "input": [
      "import math\n",
      "from __future__ import division\n",
      " \n",
      "#initialisation of variables\n",
      "v=(2*50)/10;\n",
      "\n",
      "#RESULT\n",
      "print\"Volume =\",round(v,3);"
     ],
     "language": "python",
     "metadata": {},
     "outputs": [
      {
       "output_type": "stream",
       "stream": "stdout",
       "text": [
        "Volume = 10.0\n"
       ]
      }
     ],
     "prompt_number": 4
    }
   ],
   "metadata": {}
  }
 ]
}