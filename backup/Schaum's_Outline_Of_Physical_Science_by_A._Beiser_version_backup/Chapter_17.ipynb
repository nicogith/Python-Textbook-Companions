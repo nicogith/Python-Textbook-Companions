{
 "metadata": {
  "name": "",
  "signature": "sha256:9b1f32bd6eb2725f6cbdf31c18dea977119ebb3b05f4eb836c408d4545756800"
 },
 "nbformat": 3,
 "nbformat_minor": 0,
 "worksheets": [
  {
   "cells": [
    {
     "cell_type": "heading",
     "level": 1,
     "metadata": {},
     "source": [
      "Chapter 17 :Lenses"
     ]
    },
    {
     "cell_type": "heading",
     "level": 2,
     "metadata": {},
     "source": [
      "Example 17.3 , Page no:102"
     ]
    },
    {
     "cell_type": "code",
     "collapsed": false,
     "input": [
      "import math\n",
      "from __future__ import division\n",
      " \n",
      "#initialisation of variables\n",
      "p=24; #in inch\n",
      "f=16; #inch\n",
      "h=3; #inch\n",
      "\n",
      "#CALCULATIONS\n",
      "q=(p*f)/(p-f); #calculating image distance\n",
      "hd=(-h*q)/p; #calculating diameter\n",
      "\n",
      "#RESULTS\n",
      "print\"Distance of image in inch =\",round(q,3);\n",
      "print\"Diameter in inch =\",round(hd,3);"
     ],
     "language": "python",
     "metadata": {},
     "outputs": [
      {
       "output_type": "stream",
       "stream": "stdout",
       "text": [
        "Distance of image in inch = 48.0\n",
        "Diameter in inch = -6.0\n"
       ]
      }
     ],
     "prompt_number": 1
    },
    {
     "cell_type": "heading",
     "level": 2,
     "metadata": {},
     "source": [
      "Example 17.4 , Page no:103"
     ]
    },
    {
     "cell_type": "code",
     "collapsed": false,
     "input": [
      "import math\n",
      "from __future__ import division\n",
      " \n",
      "#initialisation of variables\n",
      "p=30; #in cm\n",
      "f=15; #in cm\n",
      "h=8; #in cm\n",
      "\n",
      "#CALCULATIONS\n",
      "q=(p*f)/(p-f); #calculating image distance\n",
      "hd=(-h*q)/p; #calculating diameter\n",
      "\n",
      "#RESULTS\n",
      "print\"Distance of image in cm =\",round(q,3);\n",
      "print\"Diameter in cm =\",round(hd,3);"
     ],
     "language": "python",
     "metadata": {},
     "outputs": [
      {
       "output_type": "stream",
       "stream": "stdout",
       "text": [
        "Distance of image in cm = 30.0\n",
        "Diameter in cm = -8.0\n"
       ]
      }
     ],
     "prompt_number": 2
    },
    {
     "cell_type": "heading",
     "level": 2,
     "metadata": {},
     "source": [
      "Example 17.5 , Page no:103"
     ]
    },
    {
     "cell_type": "code",
     "collapsed": false,
     "input": [
      "import math\n",
      "from __future__ import division\n",
      " \n",
      "#initialisation of variables\n",
      "p=100; #in cm\n",
      "f=40; #in cm\n",
      "h=6; #in cm\n",
      "\n",
      "#CALCULATIONS\n",
      "q=(p*f)/(p-f); #calculating image distance\n",
      "hd=(-h*q)/p; #calculating diameter\n",
      "\n",
      "#RESULTS\n",
      "print\"Distance of image in cm =\",round(q,3);\n",
      "print\"Diameter in cm =\",round(hd,3);"
     ],
     "language": "python",
     "metadata": {},
     "outputs": [
      {
       "output_type": "stream",
       "stream": "stdout",
       "text": [
        "Distance of image in cm = 66.667\n",
        "Diameter in cm = -4.0\n"
       ]
      }
     ],
     "prompt_number": 3
    },
    {
     "cell_type": "heading",
     "level": 2,
     "metadata": {},
     "source": [
      "Example 17.6 , Page no:103"
     ]
    },
    {
     "cell_type": "code",
     "collapsed": false,
     "input": [
      "import math\n",
      "from __future__ import division\n",
      " \n",
      "#initialisation of variables\n",
      "p=12; #in ft\n",
      "f=-2; #in ft\n",
      "\n",
      "#CALCULATIONS\n",
      "q=(p*f)/(p-f); #calculating image distance\n",
      "m=-q/p; #calculating magnification\n",
      "\n",
      "#RESULTS\n",
      "print\"Distance of image in ft =\",round(q,3);\n",
      "print\"Magnification =\",round(m,3);"
     ],
     "language": "python",
     "metadata": {},
     "outputs": [
      {
       "output_type": "stream",
       "stream": "stdout",
       "text": [
        "Distance of image in ft = -1.714\n",
        "Magnification = 0.143\n"
       ]
      }
     ],
     "prompt_number": 4
    },
    {
     "cell_type": "heading",
     "level": 2,
     "metadata": {},
     "source": [
      "Example 17.7 , Page no:103"
     ]
    },
    {
     "cell_type": "code",
     "collapsed": false,
     "input": [
      "import math\n",
      "from __future__ import division\n",
      " \n",
      "#initialisation of variables\n",
      "hd=5; #in mm\n",
      "h=2; #in mm\n",
      "f=6; #in cm\n",
      "\n",
      "#CALCULATIONS\n",
      "m=hd/h; #calculating magnification\n",
      "p=((m-1)/m)*f; #lens formula\n",
      "q=-m*p; #lens formula\n",
      "\n",
      "#RESULTS\n",
      "print\"Distance in cm =\",round(p,3);\n",
      "print\"Image distance in cm =\",round(q,3);"
     ],
     "language": "python",
     "metadata": {},
     "outputs": [
      {
       "output_type": "stream",
       "stream": "stdout",
       "text": [
        "Distance in cm = 3.6\n",
        "Image distance in cm = -9.0\n"
       ]
      }
     ],
     "prompt_number": 5
    },
    {
     "cell_type": "heading",
     "level": 2,
     "metadata": {},
     "source": [
      "Example 17.8 , Page no:104"
     ]
    },
    {
     "cell_type": "code",
     "collapsed": false,
     "input": [
      "import math\n",
      "from __future__ import division\n",
      " \n",
      "#initialisation of variables\n",
      "p=1.5; #in inch\n",
      "m=3; #magnification\n",
      "\n",
      "#CALCULATIONS\n",
      "q=-m*p; #calculating image distance\n",
      "f=(p*q)/(p+q); #calculating focal length\n",
      "\n",
      "#RESULTS\n",
      "print\"Distance of image in inch =\",round(q,3);\n",
      "print\"Focal Length in inch =\",round(f,3);"
     ],
     "language": "python",
     "metadata": {},
     "outputs": [
      {
       "output_type": "stream",
       "stream": "stdout",
       "text": [
        "Distance of image in inch = -4.5\n",
        "Focal Length in inch = 2.25\n"
       ]
      }
     ],
     "prompt_number": 6
    },
    {
     "cell_type": "heading",
     "level": 2,
     "metadata": {},
     "source": [
      "Example 17.9 , Page no:104"
     ]
    },
    {
     "cell_type": "code",
     "collapsed": false,
     "input": [
      "import math\n",
      "from __future__ import division\n",
      " \n",
      "#initialisation of variables\n",
      "p=1.5; #in inch\n",
      "f=0.15; #in metre\n",
      "\n",
      "#CALCULATIONS\n",
      "w=(p*f)/(p-f); #calculating focal length\n",
      "w1=w*10**3;\n",
      "\n",
      "#RESULTS\n",
      "print\"Length in mm =\",round(w1,3);"
     ],
     "language": "python",
     "metadata": {},
     "outputs": [
      {
       "output_type": "stream",
       "stream": "stdout",
       "text": [
        "Length in mm = 166.667\n"
       ]
      }
     ],
     "prompt_number": 7
    },
    {
     "cell_type": "heading",
     "level": 2,
     "metadata": {},
     "source": [
      "Example 17.10 , Page no:104"
     ]
    },
    {
     "cell_type": "code",
     "collapsed": false,
     "input": [
      "import math\n",
      "from __future__ import division\n",
      " \n",
      "#initialisation of variables\n",
      "hd=-36; #in inch\n",
      "h=2; #in inch\n",
      "q=-15; #in ft\n",
      "\n",
      "#CALCULATIONS\n",
      "m=hd/h; #calculating magnification\n",
      "p=-q/m; #in ft\n",
      "f=(p*q)/(p+q); #calculating focal length\n",
      "\n",
      "#RESULTS\n",
      "print\"Focal Length in ft =\",round(f,3);"
     ],
     "language": "python",
     "metadata": {},
     "outputs": [
      {
       "output_type": "stream",
       "stream": "stdout",
       "text": [
        "Focal Length in ft = -0.789\n"
       ]
      }
     ],
     "prompt_number": 8
    },
    {
     "cell_type": "heading",
     "level": 2,
     "metadata": {},
     "source": [
      "Example 17.11 , Page no:104"
     ]
    },
    {
     "cell_type": "code",
     "collapsed": false,
     "input": [
      "import math\n",
      "from __future__ import division\n",
      " \n",
      "#initialisation of variables\n",
      "f1=10; #in cm\n",
      "f2=-20; #in cm\n",
      "\n",
      "#CALCULATIONS\n",
      "f=(f1*f2)/(f1+f2); #calculating focal length\n",
      "\n",
      "#RESULTS\n",
      "print\"Focal length of the combination in cm =\",round(f,3);"
     ],
     "language": "python",
     "metadata": {},
     "outputs": [
      {
       "output_type": "stream",
       "stream": "stdout",
       "text": [
        "Focal length of the combination in cm = 20.0\n"
       ]
      }
     ],
     "prompt_number": 9
    }
   ],
   "metadata": {}
  }
 ]
}