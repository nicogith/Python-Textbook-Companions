{
 "metadata": {
  "name": "",
  "signature": "sha256:6a02cb115a25754ded9919793160626fcb154ae8136cc32eca699142da2a32ff"
 },
 "nbformat": 3,
 "nbformat_minor": 0,
 "worksheets": [
  {
   "cells": [
    {
     "cell_type": "heading",
     "level": 2,
     "metadata": {},
     "source": [
      "Chapter 30 :Electrochemistry"
     ]
    },
    {
     "cell_type": "heading",
     "level": 2,
     "metadata": {},
     "source": [
      "Example 30.3 , Page no:184"
     ]
    },
    {
     "cell_type": "code",
     "collapsed": false,
     "input": [
      "import math\n",
      "from __future__ import division\n",
      " \n",
      "#initialisation of variables\n",
      "F=96500/3600; #calculating 1F\n",
      "\n",
      "#RESULT\n",
      "print\"1 Faraday in ampere.hr =\",round(F,3);"
     ],
     "language": "python",
     "metadata": {},
     "outputs": [
      {
       "output_type": "stream",
       "stream": "stdout",
       "text": [
        "1 Faraday in ampere.hr = 26.806\n"
       ]
      }
     ],
     "prompt_number": 1
    },
    {
     "cell_type": "heading",
     "level": 2,
     "metadata": {},
     "source": [
      "Example 30.4 , Page no:184"
     ]
    },
    {
     "cell_type": "code",
     "collapsed": false,
     "input": [
      "import math\n",
      "from __future__ import division\n",
      " \n",
      "#initialisation of variables\n",
      "i=12; #current in Ampere\n",
      "t=7200; #time in sec\n",
      "A=65.37; #molar mass of zinc\n",
      "F=96500; #in Coloumb\n",
      "v=2; #valency\n",
      "\n",
      "#CALCULATIONS\n",
      "m=(i*t*A)/(F*v); #calculating mass\n",
      "\n",
      "#RESULT\n",
      "print\"Mass in gm =\",round(m,3);"
     ],
     "language": "python",
     "metadata": {},
     "outputs": [
      {
       "output_type": "stream",
       "stream": "stdout",
       "text": [
        "Mass in gm = 29.264\n"
       ]
      }
     ],
     "prompt_number": 2
    },
    {
     "cell_type": "heading",
     "level": 2,
     "metadata": {},
     "source": [
      "Example 30.5 , Page no:185"
     ]
    },
    {
     "cell_type": "code",
     "collapsed": false,
     "input": [
      "import math\n",
      "from __future__ import division\n",
      " \n",
      "#initialisation of variables\n",
      "i=20; #current in Ampere\n",
      "A=112.4; #molar mass of cadmium\n",
      "F=96500; #in Coloumb\n",
      "v=2; #valency\n",
      "m=50; #mass in gm\n",
      "\n",
      "#CALCULATIONS\n",
      "t=(m*F*v)/(i*A); #calculating time\n",
      "\n",
      "#RESULT\n",
      "print\"Time in sec =\",round(t,3);"
     ],
     "language": "python",
     "metadata": {},
     "outputs": [
      {
       "output_type": "stream",
       "stream": "stdout",
       "text": [
        "Time in sec = 4292.705\n"
       ]
      }
     ],
     "prompt_number": 3
    },
    {
     "cell_type": "heading",
     "level": 2,
     "metadata": {},
     "source": [
      "Example 30.6 , Page no:185"
     ]
    },
    {
     "cell_type": "code",
     "collapsed": false,
     "input": [
      "import math\n",
      "from __future__ import division\n",
      " \n",
      "#initialisation of variables\n",
      "t=600; #time in sec\n",
      "i=100; #current in Ampere\n",
      "A=26.98; #molar mass of aluminium\n",
      "F=96500; #in Coloumb\n",
      "m=5.6; #mass in gm\n",
      "\n",
      "#CALCULATIONS\n",
      "v=(i*t*A)/(F*m); #calculating valency\n",
      "\n",
      "#RESULT\n",
      "print\"Valency =\",round(v,3);"
     ],
     "language": "python",
     "metadata": {},
     "outputs": [
      {
       "output_type": "stream",
       "stream": "stdout",
       "text": [
        "Valency = 2.996\n"
       ]
      }
     ],
     "prompt_number": 4
    },
    {
     "cell_type": "heading",
     "level": 2,
     "metadata": {},
     "source": [
      "Example 30.7 , Page no:185"
     ]
    },
    {
     "cell_type": "code",
     "collapsed": false,
     "input": [
      "import math\n",
      "from __future__ import division\n",
      " \n",
      "#initialisation of variables\n",
      "d=8.9; #density of copper in gm/cm cube\n",
      "V=6000*0.002; #volume in cm cube\n",
      "i=100;  #current in Ampere\n",
      "A=63.54; #molar mass of copper\n",
      "F=96500; #in Coloumb\n",
      "v=2; #valency\n",
      "\n",
      "#CALCULATIONS\n",
      "m=d*V; #calculating mass in gm\n",
      "t=(m*F*v)/(i*A); #calculating time\n",
      "\n",
      "#RESULT\n",
      "print\"Time in sec =\",round(t,3);"
     ],
     "language": "python",
     "metadata": {},
     "outputs": [
      {
       "output_type": "stream",
       "stream": "stdout",
       "text": [
        "Time in sec = 3244.004\n"
       ]
      }
     ],
     "prompt_number": 5
    },
    {
     "cell_type": "heading",
     "level": 2,
     "metadata": {},
     "source": [
      "Example 30.8 , Page no:186"
     ]
    },
    {
     "cell_type": "code",
     "collapsed": false,
     "input": [
      "import math\n",
      "from __future__ import division\n",
      " \n",
      "#initialisation of variables\n",
      "i=50; #current in Ampere\n",
      "t=3600; #time in sec\n",
      "A=22.99; #molar mass of zinc\n",
      "F=96500; #in Coloumb\n",
      "v=1; #valency\n",
      "\n",
      "#CALCULATIONS\n",
      "m=(i*t*A)/(F*v); #calculating mass\n",
      "M1=(i*t)/(F*v); #calculating moles\n",
      "\n",
      "#RESULT\n",
      "print\"Mass in gm =\",round(m,3);\n",
      "print\"No. of moles per hour =\",round(M1,3);"
     ],
     "language": "python",
     "metadata": {},
     "outputs": [
      {
       "output_type": "stream",
       "stream": "stdout",
       "text": [
        "Mass in gm = 42.883\n",
        "No. of moles per hour = 1.865\n"
       ]
      }
     ],
     "prompt_number": 6
    },
    {
     "cell_type": "heading",
     "level": 2,
     "metadata": {},
     "source": [
      "Example 30.9 , Page no:186"
     ]
    },
    {
     "cell_type": "code",
     "collapsed": false,
     "input": [
      "import math\n",
      "from __future__ import division\n",
      " \n",
      "#initialisation of variables\n",
      "i=10; #current in Ampere\n",
      "t=3600; #time in sec\n",
      "F=96500; #in Coloumb\n",
      "v=1; #valency\n",
      "\n",
      "#CALCULATIONS\n",
      "M=(i*t)/(F*v); #calculating moles\n",
      "\n",
      "#RESULT\n",
      "print\"No. of moles per hour =\",round(M,3);"
     ],
     "language": "python",
     "metadata": {},
     "outputs": [
      {
       "output_type": "stream",
       "stream": "stdout",
       "text": [
        "No. of moles per hour = 0.373\n"
       ]
      }
     ],
     "prompt_number": 7
    },
    {
     "cell_type": "heading",
     "level": 2,
     "metadata": {},
     "source": [
      "Example 30.10 , Page no:186"
     ]
    },
    {
     "cell_type": "code",
     "collapsed": false,
     "input": [
      "import math\n",
      "from __future__ import division\n",
      " \n",
      "#initialisation of variables\n",
      "A=107.87; #atomic mass in gm\n",
      "F=96500; #in Coloumb\n",
      "v=1; #valency\n",
      "A1=16; #atomic mass in gm\n",
      "v1=2; #valency\n",
      "\n",
      "#CALCULATIONS\n",
      "z=A/(F*v); #calculating ECE using Faraday's Law\n",
      "z1=A1/(F*v1); #Faraday's Law\n",
      "\n",
      "#RESULT\n",
      "print\"(a)Electrochemical Eqvivalent =\",round(z,3);\n",
      "print\"(b)Electrochemical Equivalent =\",round(z1,5);"
     ],
     "language": "python",
     "metadata": {},
     "outputs": [
      {
       "output_type": "stream",
       "stream": "stdout",
       "text": [
        "(a)Electrochemical Eqvivalent = 0.001\n",
        "(b)Electrochemical Equivalent = 8e-05\n"
       ]
      }
     ],
     "prompt_number": 8
    },
    {
     "cell_type": "heading",
     "level": 2,
     "metadata": {},
     "source": [
      "Example 30.11 , Page no:187"
     ]
    },
    {
     "cell_type": "code",
     "collapsed": false,
     "input": [
      "import math\n",
      "from __future__ import division\n",
      " \n",
      "#initialisation of variables\n",
      "z=0.405; #ECE in mg/C\n",
      "i=25; #current in Ampere\n",
      "t=1200; #time in sec\n",
      "m1=10**6; #mass\n",
      "\n",
      "#CALCULATIONS\n",
      "m=z*i*t; #calculating mass\n",
      "t=m1/(z*i); #calculating time\n",
      "\n",
      "#RESULT\n",
      "print\"Mass in gm =\",round(m,3);\n",
      "print\"Time in sec =\",round(t,3);"
     ],
     "language": "python",
     "metadata": {},
     "outputs": [
      {
       "output_type": "stream",
       "stream": "stdout",
       "text": [
        "Mass in gm = 12150.0\n",
        "Time in sec = 98765.432\n"
       ]
      }
     ],
     "prompt_number": 9
    },
    {
     "cell_type": "heading",
     "level": 2,
     "metadata": {},
     "source": [
      "Example 30.13 , Page no:187"
     ]
    },
    {
     "cell_type": "code",
     "collapsed": false,
     "input": [
      "import math\n",
      "from __future__ import division\n",
      " \n",
      "#initialisation of variables\n",
      "Q=200; #charge in Coloumb\n",
      "A=65.37; #molar mass of zinc\n",
      "F=96500; #in Coloumb\n",
      "v=2; #valency\n",
      "\n",
      "#CALCULATIONS\n",
      "m=(Q*A)/(F*v); #calculating mass\n",
      "\n",
      "#RESULT\n",
      "print\"Mass in gm =\",round(m,5);"
     ],
     "language": "python",
     "metadata": {},
     "outputs": [
      {
       "output_type": "stream",
       "stream": "stdout",
       "text": [
        "Mass in gm = 0.06774\n"
       ]
      }
     ],
     "prompt_number": 10
    }
   ],
   "metadata": {}
  }
 ]
}