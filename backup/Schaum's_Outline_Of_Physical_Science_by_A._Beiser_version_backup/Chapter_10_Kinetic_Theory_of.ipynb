{
 "metadata": {
  "name": "",
  "signature": "sha256:f235bbbe0a5031ff999d512b7ed9fca4753bb0ae512ca8e9888fa0cb4550b615"
 },
 "nbformat": 3,
 "nbformat_minor": 0,
 "worksheets": [
  {
   "cells": [
    {
     "cell_type": "heading",
     "level": 1,
     "metadata": {},
     "source": [
      "Chapter 10 :Kinetic Theory of Gases"
     ]
    },
    {
     "cell_type": "heading",
     "level": 2,
     "metadata": {},
     "source": [
      "Example 10.4 , Page no:58"
     ]
    },
    {
     "cell_type": "code",
     "collapsed": false,
     "input": [
      "import math\n",
      "from __future__ import division\n",
      " \n",
      "#initialisation of variables\n",
      "gp=200; #gauge pressure in lb/in square\n",
      "atmp=15; #atmospheric pressure in lb/in square\n",
      "v1=3; #volume in ft cube\n",
      "p2=15; #pressure at sea-level in lb/in square\n",
      "\n",
      "#CALCULATIONS\n",
      "p1=gp+atmp; #pressure in lb/in square\n",
      "v2=(p1*v1)/p2; #calculating pressure in ft cube using Boyle's law  ie. p1*v1=p2*v2 at constant temperature\n",
      "\n",
      "#RESULTS\n",
      "print\"Volume occupied in ft cube =\",round(v2,3);"
     ],
     "language": "python",
     "metadata": {},
     "outputs": [
      {
       "output_type": "stream",
       "stream": "stdout",
       "text": [
        "Volume occupied in ft cube = 43.0\n"
       ]
      }
     ],
     "prompt_number": 1
    },
    {
     "cell_type": "heading",
     "level": 2,
     "metadata": {},
     "source": [
      "Example 10.5 , Page no:58"
     ]
    },
    {
     "cell_type": "code",
     "collapsed": false,
     "input": [
      "import math\n",
      "from __future__ import division\n",
      " \n",
      "#initialisation of variables\n",
      "p1=300+15; #absolute pressure in lb/in square\n",
      "p2=15; #pressure in lb/in square\n",
      "v1=3; #volume in ft cube\n",
      "\n",
      "#CALCULATIONS\n",
      "v2=(p1*v1)/p2; #calculating v2 using Boyle's law at const. temp.\n",
      "v3=v2-43;\n",
      "\n",
      "#RESULTS\n",
      "print\"Volume in ft cube =\",round(v2,3);\n",
      "print\"Additional Volume of air in ft cube =\",round(v3,3);"
     ],
     "language": "python",
     "metadata": {},
     "outputs": [
      {
       "output_type": "stream",
       "stream": "stdout",
       "text": [
        "Volume in ft cube = 63.0\n",
        "Additional Volume of air in ft cube = 20.0\n"
       ]
      }
     ],
     "prompt_number": 2
    },
    {
     "cell_type": "heading",
     "level": 2,
     "metadata": {},
     "source": [
      "Example 10.6 , Page no:59"
     ]
    },
    {
     "cell_type": "code",
     "collapsed": false,
     "input": [
      "import math\n",
      "from __future__ import division\n",
      " \n",
      "#initialisation of variables\n",
      "Tc=-196; #Boiling Point of Nitrogen in celcius\n",
      "\n",
      "#CALCULATIONS\n",
      "Tk=Tc+273; #calculating B.P. in Kelvin using Kelvin=Celcius+273\n",
      "\n",
      "#RESULTS\n",
      "print\"Boiling Point of Nitrogen in Kelvin =\",round(Tk,3);"
     ],
     "language": "python",
     "metadata": {},
     "outputs": [
      {
       "output_type": "stream",
       "stream": "stdout",
       "text": [
        "Boiling Point of Nitrogen in Kelvin = 77.0\n"
       ]
      }
     ],
     "prompt_number": 3
    },
    {
     "cell_type": "heading",
     "level": 2,
     "metadata": {},
     "source": [
      "Example 10.7 , Page no:59"
     ]
    },
    {
     "cell_type": "code",
     "collapsed": false,
     "input": [
      "import math\n",
      "from __future__ import division\n",
      " \n",
      "#initialisation of variables\n",
      "tk=6000; #temperature in Kelvin\n",
      "\n",
      "#CALCULATIONS\n",
      "tk1=tk-273;\n",
      "\n",
      "#RESULTS\n",
      "print\"Temperature in celcius =\",round(tk1,3);"
     ],
     "language": "python",
     "metadata": {},
     "outputs": [
      {
       "output_type": "stream",
       "stream": "stdout",
       "text": [
        "Temperature in celcius = 5727.0\n"
       ]
      }
     ],
     "prompt_number": 4
    },
    {
     "cell_type": "heading",
     "level": 2,
     "metadata": {},
     "source": [
      "Example 10.8 , Page no:59"
     ]
    },
    {
     "cell_type": "code",
     "collapsed": false,
     "input": [
      "import math\n",
      "from __future__ import division\n",
      " \n",
      "#initialisation of variables\n",
      "t1=273; #temperature in Kelvin\n",
      "v2=2; #twice v1\n",
      "\n",
      "#CALCULATIONS\n",
      "t3=(t1*v2)-273;\n",
      "\n",
      "#RESULTS\n",
      "print\"Temperature in celcius =\",round(t3,3);"
     ],
     "language": "python",
     "metadata": {},
     "outputs": [
      {
       "output_type": "stream",
       "stream": "stdout",
       "text": [
        "Temperature in celcius = 273.0\n"
       ]
      }
     ],
     "prompt_number": 5
    },
    {
     "cell_type": "heading",
     "level": 2,
     "metadata": {},
     "source": [
      "Example 10.9 , Page no:59"
     ]
    },
    {
     "cell_type": "code",
     "collapsed": false,
     "input": [
      "import math\n",
      "from __future__ import division\n",
      " \n",
      "#initialisation of variables\n",
      "T1=283; #temperature Kelvin\n",
      "T2=322; #temp. in Kelvin\n",
      "p1=35; #pressure in lb/in square\n",
      "\n",
      "#CALCULATIONS\n",
      "p2=(T2*p1)/T1; #calculating p2 using ideal gas equation since,v1=v2\n",
      "\n",
      "#RESULTS\n",
      "print\"Pressure in lb/in square =\",round(p2,3);"
     ],
     "language": "python",
     "metadata": {},
     "outputs": [
      {
       "output_type": "stream",
       "stream": "stdout",
       "text": [
        "Pressure in lb/in square = 39.823\n"
       ]
      }
     ],
     "prompt_number": 6
    },
    {
     "cell_type": "heading",
     "level": 2,
     "metadata": {},
     "source": [
      "Example 10.10 , Page no:59"
     ]
    },
    {
     "cell_type": "code",
     "collapsed": false,
     "input": [
      "import math\n",
      "from __future__ import division\n",
      " \n",
      "#initialisation of variables\n",
      "t1=293; #temp in Kelvin\n",
      "t2=233; #temp in Kelvin\n",
      "v1=0.1; #volume in m cube\n",
      "p1=10; #pressure in atm\n",
      "p2=1; #pressure in atm\n",
      "p3=1; #pressure in atm\n",
      "\n",
      "#CALCULATIONS\n",
      "v2=(p1*v1*t2)/(t1*p2);  #calculating v2 using ideal gas law\n",
      "v3=(p1*v1)/p3; #calculating volume using ideal gas law\n",
      "v4=v2-0.1;\n",
      "v5=v3-0.1;\n",
      "\n",
      "#RESULTS\n",
      "print\"(a)Volume of ballon in m cube =\",round(v4,3);\n",
      "print\"(b)Volume of ballon after Helium absorbs heat from air  in m cube =\",round(v5,3);"
     ],
     "language": "python",
     "metadata": {},
     "outputs": [
      {
       "output_type": "stream",
       "stream": "stdout",
       "text": [
        "(a)Volume of ballon in m cube = 0.695\n",
        "(b)Volume of ballon after Helium absorbs heat from air  in m cube = 0.9\n"
       ]
      }
     ],
     "prompt_number": 7
    },
    {
     "cell_type": "heading",
     "level": 2,
     "metadata": {},
     "source": [
      "Example 10.11 , Page no:60"
     ]
    },
    {
     "cell_type": "code",
     "collapsed": false,
     "input": [
      "import math\n",
      "from __future__ import division\n",
      " \n",
      "#initialisation of variables\n",
      "d1=1.293; #density in kg/m cube\n",
      "t1=273; #temperature in Kelvin\n",
      "p2=2; #pressure in atm\n",
      "t2=373; #temperature in Kelvin\n",
      "p1=1; #pressure in atm\n",
      "\n",
      "#CALCULATIONS\n",
      "d2=(d1*t1*p2)/(t2*p1); #calculating density using ideal gas law in kg/m cube\n",
      "\n",
      "#RESULTS\n",
      "print\"Density in kg/m cube =\",round(d2,3);"
     ],
     "language": "python",
     "metadata": {},
     "outputs": [
      {
       "output_type": "stream",
       "stream": "stdout",
       "text": [
        "Density in kg/m cube = 1.893\n"
       ]
      }
     ],
     "prompt_number": 8
    },
    {
     "cell_type": "heading",
     "level": 2,
     "metadata": {},
     "source": [
      "Example 10.12 , Page no:60"
     ]
    },
    {
     "cell_type": "code",
     "collapsed": false,
     "input": [
      "import math\n",
      "from __future__ import division\n",
      " \n",
      "#initialisation of variables\n",
      "o=16.00; #atomic mass of O\n",
      "h=1.008; #atomic mass of H\n",
      "c=12.01; #atomic mass of carbon\n",
      "\n",
      "#CALCULATIONS\n",
      "mh2o=(o+2*h)*1.66*10**-27; #mass of H2O molecule\n",
      "m=((2*c)+o+(6*h))*1.66*10**-27;  #mass of C2H6O molecule\n",
      "\n",
      "#RESULTS\n",
      "print\"Mass of H20 molecule in kg =\",'%.3E'%mh2o;\n",
      "print\"Mass of Ethyl Alcohol molecule in kg =\",'%.3E'%m;"
     ],
     "language": "python",
     "metadata": {},
     "outputs": [
      {
       "output_type": "stream",
       "stream": "stdout",
       "text": [
        "Mass of H20 molecule in kg = 2.991E-26\n",
        "Mass of Ethyl Alcohol molecule in kg = 7.647E-26\n"
       ]
      }
     ],
     "prompt_number": 9
    },
    {
     "cell_type": "heading",
     "level": 2,
     "metadata": {},
     "source": [
      "Example 10.13 , Page no:60"
     ]
    },
    {
     "cell_type": "code",
     "collapsed": false,
     "input": [
      "import math\n",
      "from __future__ import division\n",
      " \n",
      "#initialisation of variables\n",
      "m=1; #mass of H2O in kg\n",
      "m1=2.99*10**-26; #mass of H2O molecule in kg\n",
      "\n",
      "#CALCULATIONS\n",
      "mo=m/m1; #calculating no. of molecules of H2O using no=mass of H2O/mass of H2) molecule\n",
      "\n",
      "#RESULTS\n",
      "print\"Molecules of H2O =\",'%.3E'%mo;"
     ],
     "language": "python",
     "metadata": {},
     "outputs": [
      {
       "output_type": "stream",
       "stream": "stdout",
       "text": [
        "Molecules of H2O = 3.344E+25\n"
       ]
      }
     ],
     "prompt_number": 10
    },
    {
     "cell_type": "heading",
     "level": 2,
     "metadata": {},
     "source": [
      "Example 10.14 , Page no:60"
     ]
    },
    {
     "cell_type": "code",
     "collapsed": false,
     "input": [
      "import math\n",
      "from __future__ import division\n",
      " \n",
      "#initialisation of variables\n",
      "k=1.38*10**-23; #Boltzmann's constant in J/K\n",
      "tk=273+100; #absolute temp (in Kelvin)\n",
      "\n",
      "#CALCULATIONS\n",
      "KE=3/2*(k*tk); #calculating average Kinetic Energy in Joule using kinetic theory of gases\n",
      "\n",
      "#RESULTS\n",
      "print\"Average Kinetic Energy in Joule =\",'%.3E'%KE;"
     ],
     "language": "python",
     "metadata": {},
     "outputs": [
      {
       "output_type": "stream",
       "stream": "stdout",
       "text": [
        "Average Kinetic Energy in Joule = 7.721E-21\n"
       ]
      }
     ],
     "prompt_number": 11
    },
    {
     "cell_type": "heading",
     "level": 2,
     "metadata": {},
     "source": [
      "Example 10.15 , Page no:60"
     ]
    },
    {
     "cell_type": "code",
     "collapsed": false,
     "input": [
      "import math\n",
      "from __future__ import division\n",
      " \n",
      "#initialisation of variables\n",
      "k=1.38*10**-23; #Boltzmann's constant in J/K\n",
      "t=100+273; #temperature in Kelvin\n",
      "m=5.3*10**-26; #mass of oxygen molecule in kg\n",
      "\n",
      "#CALCULATIONS\n",
      "v=math.sqrt((3*k*t)/m); #calculating average velocity using kinetic theory of gases.\n",
      "\n",
      "#RESULTS\n",
      "print\"Average velocity of molecules in m/sec =\",round(v,3);"
     ],
     "language": "python",
     "metadata": {},
     "outputs": [
      {
       "output_type": "stream",
       "stream": "stdout",
       "text": [
        "Average velocity of molecules in m/sec = 539.78\n"
       ]
      }
     ],
     "prompt_number": 12
    }
   ],
   "metadata": {}
  }
 ]
}