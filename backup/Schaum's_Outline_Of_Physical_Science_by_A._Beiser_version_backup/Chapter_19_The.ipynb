{
 "metadata": {
  "name": "",
  "signature": "sha256:aafe5294ef0f7636c8ee9491e739dfc75c15a57e6ff80d75914d196e41548bfe"
 },
 "nbformat": 3,
 "nbformat_minor": 0,
 "worksheets": [
  {
   "cells": [
    {
     "cell_type": "heading",
     "level": 1,
     "metadata": {},
     "source": [
      "Chapter 19 :The Nucleus"
     ]
    },
    {
     "cell_type": "heading",
     "level": 2,
     "metadata": {},
     "source": [
      "Example 19.4 , Page no:114"
     ]
    },
    {
     "cell_type": "code",
     "collapsed": false,
     "input": [
      "import math\n",
      "from __future__ import division\n",
      " \n",
      "#initialisation of variables\n",
      "a=((0.7552*34.969)+(0.2447*36.966));\n",
      " \n",
      "#RESULTS    \n",
      "print\"Atomic mass of chlorine =\",round(a,3);"
     ],
     "language": "python",
     "metadata": {},
     "outputs": [
      {
       "output_type": "stream",
       "stream": "stdout",
       "text": [
        "Atomic mass of chlorine = 35.454\n"
       ]
      }
     ],
     "prompt_number": 1
    },
    {
     "cell_type": "heading",
     "level": 2,
     "metadata": {},
     "source": [
      "Example 19.5 , Page no:115"
     ]
    },
    {
     "cell_type": "code",
     "collapsed": false,
     "input": [
      "import math\n",
      "from __future__ import division\n",
      " \n",
      "#initialisation of variables\n",
      "delm=(8.0626+8.0693)-15.9949; #in u\n",
      "\n",
      "#CALCULATIONS\n",
      "E=delm*931; #calculating binding energy in MeV\n",
      "\n",
      "#RESULTS\n",
      "print\"Binding Energy in MeV =\",round(E,3);"
     ],
     "language": "python",
     "metadata": {},
     "outputs": [
      {
       "output_type": "stream",
       "stream": "stdout",
       "text": [
        "Binding Energy in MeV = 127.547\n"
       ]
      }
     ],
     "prompt_number": 2
    },
    {
     "cell_type": "heading",
     "level": 2,
     "metadata": {},
     "source": [
      "Example 19.6 , Page no:115"
     ]
    },
    {
     "cell_type": "code",
     "collapsed": false,
     "input": [
      "import math\n",
      "from __future__ import division\n",
      " \n",
      "#initialisation of variables\n",
      "m0=10.07825+10.08665; #in u\n",
      "\n",
      "#CALCULATIONS\n",
      "delm=160.6/931; #calculating mass eqvi. of 160.6 MeV\n",
      "delm1=(m0-delm);\n",
      "\n",
      "#RESULTS\n",
      "print\"Atomic Mass in u =\",round(delm1,3);"
     ],
     "language": "python",
     "metadata": {},
     "outputs": [
      {
       "output_type": "stream",
       "stream": "stdout",
       "text": [
        "Atomic Mass in u = 19.992\n"
       ]
      }
     ],
     "prompt_number": 3
    },
    {
     "cell_type": "heading",
     "level": 2,
     "metadata": {},
     "source": [
      "Example 19.10 , Page no:115"
     ]
    },
    {
     "cell_type": "code",
     "collapsed": false,
     "input": [
      "import math\n",
      "from __future__ import division\n",
      " \n",
      "#initialisation of variables\n",
      "m=0.001; #mass in kg\n",
      "c=3*10**8; #velocity in m/sec \n",
      "p=10**8; #power in Watt\n",
      "t=24; #time in hr/day\n",
      "\n",
      "#CALCULATIONS\n",
      "E=m*c*c; #Eintstein equation\n",
      "M=(p*3600*t)/E; #calculating mass of U required\n",
      "M1=E/(7822*4185); #calculating mass of coal required\n",
      "\n",
      "#RESULTS\n",
      "print\"Energy in Joule =\",round(E,3);\n",
      "print\"Mass of U required in kg/day =\",round(M,3);\n",
      "print\"Mass of coal required in kg/day =\",round(M1,3);"
     ],
     "language": "python",
     "metadata": {},
     "outputs": [
      {
       "output_type": "stream",
       "stream": "stdout",
       "text": [
        "Energy in Joule = 9e+13\n",
        "Mass of U required in kg/day = 0.096\n",
        "Mass of coal required in kg/day = 2749344.969\n"
       ]
      }
     ],
     "prompt_number": 4
    }
   ],
   "metadata": {}
  }
 ]
}