{
 "metadata": {
  "name": "",
  "signature": "sha256:855e23c091aad41759977fd840e41e72f190b6fb107ade96625fead0b46c77ea"
 },
 "nbformat": 3,
 "nbformat_minor": 0,
 "worksheets": [
  {
   "cells": [
    {
     "cell_type": "heading",
     "level": 1,
     "metadata": {},
     "source": [
      "Chapter 34 :The Atmosphere"
     ]
    },
    {
     "cell_type": "heading",
     "level": 2,
     "metadata": {},
     "source": [
      "Example 34.8 , Page no:213"
     ]
    },
    {
     "cell_type": "code",
     "collapsed": false,
     "input": [
      "import math\n",
      "from __future__ import division\n",
      " \n",
      "#initialisation of variables\n",
      "m=1; #mass in kg\n",
      "delt=80; #change in temperature in celcius\n",
      "c=1; #specific heat in kcal/kg.celcius\n",
      "\n",
      "#CALCULATIONS\n",
      "Q=m*c*delt; #calculating heat\n",
      "t=Q/9.4; #calculating time\n",
      "\n",
      "#RESULT\n",
      "print\"Heat required in kcal =\",round(Q,3);\n",
      "print\"Time required in second =\",round(t,3);"
     ],
     "language": "python",
     "metadata": {},
     "outputs": [
      {
       "output_type": "stream",
       "stream": "stdout",
       "text": [
        "Heat required in kcal = 80.0\n",
        "Time required in second = 8.511\n"
       ]
      }
     ],
     "prompt_number": 1
    }
   ],
   "metadata": {}
  }
 ]
}