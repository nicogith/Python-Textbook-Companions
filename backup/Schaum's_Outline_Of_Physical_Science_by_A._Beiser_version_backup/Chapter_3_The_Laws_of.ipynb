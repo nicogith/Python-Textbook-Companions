{
 "metadata": {
  "name": "",
  "signature": "sha256:581e6eb3c6873f945ff6fca6945ff65578dffd5b7a1cd85a3b11e9ef1ef0122f"
 },
 "nbformat": 3,
 "nbformat_minor": 0,
 "worksheets": [
  {
   "cells": [
    {
     "cell_type": "heading",
     "level": 1,
     "metadata": {},
     "source": [
      "Chapter 3: The Laws of Motion"
     ]
    },
    {
     "cell_type": "heading",
     "level": 2,
     "metadata": {},
     "source": [
      "Example 3.4 , Page no:18"
     ]
    },
    {
     "cell_type": "code",
     "collapsed": false,
     "input": [
      "import math\n",
      "from __future__ import division\n",
      "\n",
      "#initialisation of variables\n",
      "g=9.8; #gravitational constant in m/sec square\n",
      "m=100; #mass in kg\n",
      "\n",
      "#CALCULATIONS\n",
      "a=(m*g);\n",
      "\n",
      "#RESULTS\n",
      "print\"Weight in Newton =\",round(a);"
     ],
     "language": "python",
     "metadata": {},
     "outputs": [
      {
       "output_type": "stream",
       "stream": "stdout",
       "text": [
        "Weight in Newton = 980.0\n"
       ]
      }
     ],
     "prompt_number": 1
    },
    {
     "cell_type": "heading",
     "level": 2,
     "metadata": {},
     "source": [
      "Example 3.5 , Page no:18"
     ]
    },
    {
     "cell_type": "code",
     "collapsed": false,
     "input": [
      "import math\n",
      "from __future__ import division\n",
      "\n",
      "#initialisation of variables\n",
      "g=9.8; #gravitational constant in m/sec square\n",
      "m=5; #mass in kg\n",
      "F=100; #force in Newton\n",
      "\n",
      "#CALCULATIONS\n",
      "w=(m*g);\n",
      "a=F/m; #calculating acc.\n",
      "\n",
      "#RESULTS\n",
      "print\"Weight in Newton =\",round(w);\n",
      "print\"Accelaration in m/sec square =\",round(a);"
     ],
     "language": "python",
     "metadata": {},
     "outputs": [
      {
       "output_type": "stream",
       "stream": "stdout",
       "text": [
        "Weight in Newton = 49.0\n",
        "Accelaration in m/sec square = 20.0\n"
       ]
      }
     ],
     "prompt_number": 2
    },
    {
     "cell_type": "heading",
     "level": 2,
     "metadata": {},
     "source": [
      "Example 3.6 , Page no:18"
     ]
    },
    {
     "cell_type": "code",
     "collapsed": false,
     "input": [
      "import math\n",
      "from __future__ import division\n",
      "\n",
      "#initialisation of variables\n",
      "g=9.8; #gravitational constant in m/sec square\n",
      "m=1; #mass in kg\n",
      "F=1; #force in Newton\n",
      "w=1; #in Newton\n",
      "\n",
      "#CALCULATIONS\n",
      "a=F/m; #calculating acc.\n",
      "a2=(F*g)/w;\n",
      "\n",
      "#RESULTS\n",
      "print\"Accelaration in m/sec square =\",round(a);\n",
      "print\"Accelaration in m/sec square = \",round(a2,2);"
     ],
     "language": "python",
     "metadata": {},
     "outputs": [
      {
       "output_type": "stream",
       "stream": "stdout",
       "text": [
        "Accelaration in m/sec square = 1.0\n",
        "Accelaration in m/sec square =  9.8\n"
       ]
      }
     ],
     "prompt_number": 3
    },
    {
     "cell_type": "heading",
     "level": 2,
     "metadata": {},
     "source": [
      "Example 3.7 , Page no:18"
     ]
    },
    {
     "cell_type": "code",
     "collapsed": false,
     "input": [
      "import math\n",
      "from __future__ import division\n",
      "\n",
      "#initialisation of variables\n",
      "g=9.8; #gravitational constant in m/sec square\n",
      "m=10; #mass in kg\n",
      "a=5; #acc. in m/sec square\n",
      "\n",
      "#CALCULATIONS\n",
      "F=m*a; #calculating force\n",
      "\n",
      "#RESULTS\n",
      "print\"Force in Newton =\",round(F);"
     ],
     "language": "python",
     "metadata": {},
     "outputs": [
      {
       "output_type": "stream",
       "stream": "stdout",
       "text": [
        "Force in Newton = 50.0\n"
       ]
      }
     ],
     "prompt_number": 4
    },
    {
     "cell_type": "heading",
     "level": 2,
     "metadata": {},
     "source": [
      "Example 3.8 , Page no:18"
     ]
    },
    {
     "cell_type": "code",
     "collapsed": false,
     "input": [
      "import math\n",
      "from __future__ import division\n",
      "\n",
      "#initialisation of variables\n",
      "a=20; #acc. in m/sec square\n",
      "F=80; #force in Newton\n",
      "\n",
      "#CALCULATIONS\n",
      "m=F/a; #using F=m*a (Newton's Law)\n",
      "\n",
      "#RESULTS\n",
      "print\"Mass in kg =\",round(m);"
     ],
     "language": "python",
     "metadata": {},
     "outputs": [
      {
       "output_type": "stream",
       "stream": "stdout",
       "text": [
        "Mass in kg = 4.0\n"
       ]
      }
     ],
     "prompt_number": 5
    },
    {
     "cell_type": "heading",
     "level": 2,
     "metadata": {},
     "source": [
      "Example 3.9 , Page no:19"
     ]
    },
    {
     "cell_type": "code",
     "collapsed": false,
     "input": [
      "import math\n",
      "from __future__ import division\n",
      "\n",
      "#initialisation of variables\n",
      "g=9.8; #gravitational constant in m/sec square\n",
      "m=60; #mass in kg\n",
      "a=2; #acc. in m/sec square\n",
      "\n",
      "#CALCULATIONS\n",
      "F=(m*g)+(m*a); #calculating force in Newton\n",
      "\n",
      "#RESULTS\n",
      "print\"Force in Newton =\",round(F);"
     ],
     "language": "python",
     "metadata": {},
     "outputs": [
      {
       "output_type": "stream",
       "stream": "stdout",
       "text": [
        "Force in Newton = 708.0\n"
       ]
      }
     ],
     "prompt_number": 6
    },
    {
     "cell_type": "heading",
     "level": 2,
     "metadata": {},
     "source": [
      "Example 3.10 , Page no:19"
     ]
    },
    {
     "cell_type": "code",
     "collapsed": false,
     "input": [
      "import math\n",
      "from __future__ import division\n",
      "\n",
      "#initialisation of variables\n",
      "m=1500; #mass in kg\n",
      "F=3000; #force in Newton\n",
      "t=5; #time in sec\n",
      "\n",
      "#CALCULATIONS\n",
      "a=F/m; #calculating acc. (Newton's Law)\n",
      "v=a*t; #kinematical equation\n",
      "\n",
      "#RESULTS\n",
      "print\"Accelaration in m/sec square =\",round(a);\n",
      "print\"Velocity in m/sec =\",round(v);"
     ],
     "language": "python",
     "metadata": {},
     "outputs": [
      {
       "output_type": "stream",
       "stream": "stdout",
       "text": [
        "Accelaration in m/sec square = 2.0\n",
        "Velocity in m/sec = 10.0\n"
       ]
      }
     ],
     "prompt_number": 7
    },
    {
     "cell_type": "heading",
     "level": 2,
     "metadata": {},
     "source": [
      "Example 3.11 , Page no:19"
     ]
    },
    {
     "cell_type": "code",
     "collapsed": false,
     "input": [
      "import math\n",
      "from __future__ import division\n",
      "\n",
      "#initialisation of variables\n",
      "m=2000; #mass in kg\n",
      "a=1; #acc. in m/sec square\n",
      "m1=3000; #mass in kg\n",
      "\n",
      "#CALCULATIONS\n",
      "F=m*a; #Newton's Law\n",
      "a=F/m1; #Newton's Law\n",
      "\n",
      "#RESULTS\n",
      "print\"Force in Newton =\",round(F,3);\n",
      "print\"Accelaration in m/sec square = \",round(a,3);"
     ],
     "language": "python",
     "metadata": {},
     "outputs": [
      {
       "output_type": "stream",
       "stream": "stdout",
       "text": [
        "Force in Newton = 2000.0\n",
        "Accelaration in m/sec square =  0.667\n"
       ]
      }
     ],
     "prompt_number": 8
    },
    {
     "cell_type": "heading",
     "level": 2,
     "metadata": {},
     "source": [
      "Example 3.12 , Page no:19"
     ]
    },
    {
     "cell_type": "code",
     "collapsed": false,
     "input": [
      "import math\n",
      "from __future__ import division\n",
      "\n",
      "#initialisation of variables\n",
      "v=20; #velocity in m/sec\n",
      "v0=10; #velocity in m/sec\n",
      "t=5; #time in sec\n",
      "m=1000; #mass in kg\n",
      "a1=2; #acc. in m/sec square\n",
      "\n",
      "#CALCULATIONS\n",
      "a=(v-v0)/t; #kinematical equation\n",
      "F=m*a; #Newton's Law\n",
      "\n",
      "#RESULTS\n",
      "print\"Accelaration in m/sec square =\",round(a);\n",
      "print\"Force in Newton =\",round(F);"
     ],
     "language": "python",
     "metadata": {},
     "outputs": [
      {
       "output_type": "stream",
       "stream": "stdout",
       "text": [
        "Accelaration in m/sec square = 2.0\n",
        "Force in Newton = 2000.0\n"
       ]
      }
     ],
     "prompt_number": 9
    },
    {
     "cell_type": "heading",
     "level": 2,
     "metadata": {},
     "source": [
      "Example 3.13 , Page no:19"
     ]
    },
    {
     "cell_type": "code",
     "collapsed": false,
     "input": [
      "import math\n",
      "from __future__ import division\n",
      "\n",
      "#initialisation of variables\n",
      "v=-20; #velocity in m/sec\n",
      "v0=15; #velocity in m/sec\n",
      "t=0.005; #time in sec\n",
      "m=0.06; #mass in kg\n",
      "\n",
      "#CALCULATIONS\n",
      "a=(v-v0)/t; #kinematical equation\n",
      "F=m*a; #Newton's Law\n",
      "\n",
      "#RESULTS\n",
      "print\"Accelaration in m/sec square =\",round(a);\n",
      "print\"Force in Newton =\",round(F);"
     ],
     "language": "python",
     "metadata": {},
     "outputs": [
      {
       "output_type": "stream",
       "stream": "stdout",
       "text": [
        "Accelaration in m/sec square = -7000.0\n",
        "Force in Newton = -420.0\n"
       ]
      }
     ],
     "prompt_number": 10
    },
    {
     "cell_type": "heading",
     "level": 2,
     "metadata": {},
     "source": [
      "Example 3.14 , Page no:20"
     ]
    },
    {
     "cell_type": "code",
     "collapsed": false,
     "input": [
      "import math\n",
      "from __future__ import division\n",
      "\n",
      "#initialisation of variables\n",
      "m=1000; #mass in kg\n",
      "F=3000; #force in Newton\n",
      "v0=30; #initial velocity in m/sec\n",
      "v=0; #final velocity in m/sec\n",
      "a1=-3; #acc. inm/sec square\n",
      "\n",
      "#CALCULATIONS\n",
      "a=F/m; #calculating acc.\n",
      "t=v0/a; #uisng kinematical equation\n",
      "s=(v0*t)+(1/2)*(a1*t*t); #kinematical equation\n",
      "\n",
      "#RESULTS\n",
      "print\"Accelaration in m/sec square = \",round(a);\n",
      "print\"Time in sec =\",round(t);\n",
      "print\"Distance in m =\",round(s);"
     ],
     "language": "python",
     "metadata": {},
     "outputs": [
      {
       "output_type": "stream",
       "stream": "stdout",
       "text": [
        "Accelaration in m/sec square =  3.0\n",
        "Time in sec = 10.0\n",
        "Distance in m = 150.0\n"
       ]
      }
     ],
     "prompt_number": 11
    },
    {
     "cell_type": "heading",
     "level": 2,
     "metadata": {},
     "source": [
      "Example 3.15 , Page no:20"
     ]
    },
    {
     "cell_type": "code",
     "collapsed": false,
     "input": [
      "import math\n",
      "from __future__ import division\n",
      "\n",
      "#initialisation of variables\n",
      "g=32; #gravitational constant in ft/sec square\n",
      "m=50; #mass in slugs\n",
      "w1=50; #weight in lb\n",
      "\n",
      "#CALCULATIONS\n",
      "w=m*g; #calculating weight in lb\n",
      "m=w1/g; #calculating mass in slugs.\n",
      "\n",
      "#RESULTS\n",
      "print\"Weight in lb =\",round(w);\n",
      "print\"Mass in slugs =\",round(m,3);"
     ],
     "language": "python",
     "metadata": {},
     "outputs": [
      {
       "output_type": "stream",
       "stream": "stdout",
       "text": [
        "Weight in lb = 1600.0\n",
        "Mass in slugs = 1.563\n"
       ]
      }
     ],
     "prompt_number": 12
    },
    {
     "cell_type": "heading",
     "level": 2,
     "metadata": {},
     "source": [
      "Example 3.16 , Page no:20"
     ]
    },
    {
     "cell_type": "code",
     "collapsed": false,
     "input": [
      "import math\n",
      "from __future__ import division\n",
      "\n",
      "#initialisation of variables\n",
      "g=32; #gravitational constant in ft/sec square\n",
      "w=160; #weight in lb\n",
      "\n",
      "#CALCULATIONS\n",
      "m=w/g #calculating mass in slugs.\n",
      "\n",
      "#RESULTS\n",
      "print\"Mass in slugs =\",round(m);"
     ],
     "language": "python",
     "metadata": {},
     "outputs": [
      {
       "output_type": "stream",
       "stream": "stdout",
       "text": [
        "Mass in slugs = 5.0\n"
       ]
      }
     ],
     "prompt_number": 13
    },
    {
     "cell_type": "heading",
     "level": 2,
     "metadata": {},
     "source": [
      "Example 3.17 , Page no:20"
     ]
    },
    {
     "cell_type": "code",
     "collapsed": false,
     "input": [
      "import math\n",
      "from __future__ import division\n",
      "\n",
      "#initialisation of variables\n",
      "m=25; #mass in slugsg\n",
      "F=75; #force in lb\n",
      "t=12; #time in sec\n",
      "\n",
      "#CALCULATIONS\n",
      "a=F/m; #calculating acc.\n",
      "v=a*t; #kinematical equation\n",
      "\n",
      "#RESULTS\n",
      "print\"Accelaration in ft/sec square =\",round(a);\n",
      "print\"Velocity in ft/sec =\",round(v);"
     ],
     "language": "python",
     "metadata": {},
     "outputs": [
      {
       "output_type": "stream",
       "stream": "stdout",
       "text": [
        "Accelaration in ft/sec square = 3.0\n",
        "Velocity in ft/sec = 36.0\n"
       ]
      }
     ],
     "prompt_number": 14
    },
    {
     "cell_type": "heading",
     "level": 2,
     "metadata": {},
     "source": [
      "Example 3.18 , Page no:21"
     ]
    },
    {
     "cell_type": "code",
     "collapsed": false,
     "input": [
      "import math\n",
      "from __future__ import division\n",
      "\n",
      "#initialisation of variables\n",
      "F=150; #force in lb\n",
      "g=32; #gravitational constant in ft/sec square\n",
      "w=96; #weight in lb\n",
      "\n",
      "#CALCULATIONS\n",
      "m=w/g; #calculating mass\n",
      "a=F/m; #calculating acc\n",
      "\n",
      "#RESULTS\n",
      "print\"Mass in slugs =\",round(m);\n",
      "print\"Accelaration in ft/sec square =\",round(a);"
     ],
     "language": "python",
     "metadata": {},
     "outputs": [
      {
       "output_type": "stream",
       "stream": "stdout",
       "text": [
        "Mass in slugs = 3.0\n",
        "Accelaration in ft/sec square = 50.0\n"
       ]
      }
     ],
     "prompt_number": 15
    },
    {
     "cell_type": "heading",
     "level": 2,
     "metadata": {},
     "source": [
      "Example 3.19 , Page no:21"
     ]
    },
    {
     "cell_type": "code",
     "collapsed": false,
     "input": [
      "import math\n",
      "from __future__ import division\n",
      "\n",
      "#initialisation of variables\n",
      "g=32; #gravitational constant in ft/sec square\n",
      "w=3200; #weight in lb\n",
      "v=44; #velocity in ft/sec\n",
      "t=8; #time in sec\n",
      "\n",
      "#CALCULATIONS\n",
      "m=w/g; #calculating mass\n",
      "a=v/t; #calculating acc\n",
      "F=m*a; #calculating force in lb\n",
      "\n",
      "#RESULTS\n",
      "print\"Mass in slugs =\",round(m);\n",
      "print\"Accelaration in ft/sec square =\",round(a,3);\n",
      "print\"Force in lb =\",round(F);"
     ],
     "language": "python",
     "metadata": {},
     "outputs": [
      {
       "output_type": "stream",
       "stream": "stdout",
       "text": [
        "Mass in slugs = 100.0\n",
        "Accelaration in ft/sec square = 5.5\n",
        "Force in lb = 550.0\n"
       ]
      }
     ],
     "prompt_number": 16
    },
    {
     "cell_type": "heading",
     "level": 2,
     "metadata": {},
     "source": [
      "Example 3.20 , Page no:21"
     ]
    },
    {
     "cell_type": "code",
     "collapsed": false,
     "input": [
      "import math\n",
      "from __future__ import division\n",
      "\n",
      "#initialisation of variables\n",
      "g=32; #gravitational constant in ft/sec square\n",
      "w=2400; #weight in lb\n",
      "F=750; #force in lb\n",
      "m=75; #mass in slugs\n",
      "v0=60; #initial velocity in ft/sec\n",
      "v=20; #final velocity in ft/sec\n",
      "a1=-10; #acc. in ft/sec square\n",
      "\n",
      "#CALCULATIONS\n",
      "m=w/g; #calculating mass\n",
      "a=F/m; #calculating acc\n",
      "t=(v-v0)/a1; #kinematical equation\n",
      "s=(v0*t)+((1/2)*a1*t*t); #calculating distance in ft\n",
      "\n",
      "#RESULTS\n",
      "print\"Mass in slugs =\",round(m);\n",
      "print\"Accelaration in ft/sec square =\",round(a);\n",
      "print\"Distance in ft =\",round(s);"
     ],
     "language": "python",
     "metadata": {},
     "outputs": [
      {
       "output_type": "stream",
       "stream": "stdout",
       "text": [
        "Mass in slugs = 75.0\n",
        "Accelaration in ft/sec square = 10.0\n",
        "Distance in ft = 160.0\n"
       ]
      }
     ],
     "prompt_number": 17
    },
    {
     "cell_type": "heading",
     "level": 2,
     "metadata": {},
     "source": [
      "Example 3.21 , Page no:21"
     ]
    },
    {
     "cell_type": "code",
     "collapsed": false,
     "input": [
      "import math\n",
      "from __future__ import division\n",
      "\n",
      "#initialisation of variables\n",
      "g=32; #gravitational constant in ft/sec square\n",
      "w=3200; #weight in lb\n",
      "F=800; #force in lb\n",
      "m1=100; #mass in slugs\n",
      "\n",
      "#CALCULATIONS\n",
      "m=w/g; #calculating mass\n",
      "a=F/m1; #calculating acc\n",
      "\n",
      "#RESULTS\n",
      "print\"Mass in slugs =\",round(m);\n",
      "print\"Accelaration in ft/sec square =\",round(a);"
     ],
     "language": "python",
     "metadata": {},
     "outputs": [
      {
       "output_type": "stream",
       "stream": "stdout",
       "text": [
        "Mass in slugs = 100.0\n",
        "Accelaration in ft/sec square = 8.0\n"
       ]
      }
     ],
     "prompt_number": 18
    },
    {
     "cell_type": "heading",
     "level": 2,
     "metadata": {},
     "source": [
      "Example 3.22 , Page no:21"
     ]
    },
    {
     "cell_type": "code",
     "collapsed": false,
     "input": [
      "import math\n",
      "from __future__ import division\n",
      "\n",
      "#initialisation of variables\n",
      "F=50-30; #force in lb\n",
      "w1=50; #weight in lb\n",
      "w2=30; #weight in lb\n",
      "\n",
      "#CALCULATIONS\n",
      "m=(w1+w2)/g; #calculating mass\n",
      "a=F/m; #Newton's Law\n",
      "\n",
      "#RESULTS\n",
      "print\"Mass in slugs =\",round(m,3);\n",
      "print\"Accelaration in ft/sec square =\",round(a);"
     ],
     "language": "python",
     "metadata": {},
     "outputs": [
      {
       "output_type": "stream",
       "stream": "stdout",
       "text": [
        "Mass in slugs = 2.5\n",
        "Accelaration in ft/sec square = 8.0\n"
       ]
      }
     ],
     "prompt_number": 19
    }
   ],
   "metadata": {}
  }
 ]
}