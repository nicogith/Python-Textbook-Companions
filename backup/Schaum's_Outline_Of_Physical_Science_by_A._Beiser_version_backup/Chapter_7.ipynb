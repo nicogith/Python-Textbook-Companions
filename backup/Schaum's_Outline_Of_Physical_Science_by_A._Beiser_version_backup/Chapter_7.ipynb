{
 "metadata": {
  "name": "",
  "signature": "sha256:50734ba5823c2841efa4b14a694c4548ac931e2f9bf4d5a0b4bb208f44f02358"
 },
 "nbformat": 3,
 "nbformat_minor": 0,
 "worksheets": [
  {
   "cells": [
    {
     "cell_type": "heading",
     "level": 1,
     "metadata": {},
     "source": [
      "Chapter 7:Relativity"
     ]
    },
    {
     "cell_type": "heading",
     "level": 2,
     "metadata": {},
     "source": [
      "Example 7.5 , Page no:42"
     ]
    },
    {
     "cell_type": "code",
     "collapsed": false,
     "input": [
      "import math\n",
      "from __future__ import division\n",
      "\n",
      "#initialisation of variables\n",
      "l=4; #height in ft\n",
      "v=0.444; #v=(v/c)^2 (given)\n",
      "\n",
      "#CALCULATIONS\n",
      "l0=l/math.sqrt(1-v); #calculating using l=l0sqrt(1-(v/c)^2)\n",
      "\n",
      "#RESULTS\n",
      "print\"Astronauts height at rest in ft =\",round(l0,3);"
     ],
     "language": "python",
     "metadata": {},
     "outputs": [
      {
       "output_type": "stream",
       "stream": "stdout",
       "text": [
        "Astronauts height at rest in ft = 5.364\n"
       ]
      }
     ],
     "prompt_number": 1
    },
    {
     "cell_type": "heading",
     "level": 2,
     "metadata": {},
     "source": [
      "Example 7.6 , Page no:42"
     ]
    },
    {
     "cell_type": "code",
     "collapsed": false,
     "input": [
      "import math\n",
      "from __future__ import division\n",
      "\n",
      "#initialisation of variables\n",
      "m=0.934; #v=(v/c)^2 (given)\n",
      "v=2.9*10**8; #velocity in m/sec\n",
      "t0=2.2*10**-6; #initial velocity in m/sec\n",
      "\n",
      "#CALCULATIONS\n",
      "t=t0/math.sqrt(1-m); #calculating t using t=t0/sqrt(1-(v/c)^2)\n",
      "\n",
      "#RESULTS\n",
      "print\"Time in sec =\",round(t,5);"
     ],
     "language": "python",
     "metadata": {},
     "outputs": [
      {
       "output_type": "stream",
       "stream": "stdout",
       "text": [
        "Time in sec = 1e-05\n"
       ]
      }
     ],
     "prompt_number": 2
    },
    {
     "cell_type": "heading",
     "level": 2,
     "metadata": {},
     "source": [
      "Example 7.7 , Page no:43"
     ]
    },
    {
     "cell_type": "code",
     "collapsed": false,
     "input": [
      "import math\n",
      "from __future__ import division\n",
      "\n",
      "#initialisation of variables\n",
      "t0=3600; #time in sec\n",
      "t=3601; #time in sec\n",
      "c=3*10**8; #velocity in m/sec\n",
      "\n",
      "#CALCULATIONS\n",
      "v=c*math.sqrt((1-(t0/t)**2)); #calculating velocity\n",
      "\n",
      "#RESULTS\n",
      "print\"Velocity in m/sec =\",round(v);"
     ],
     "language": "python",
     "metadata": {},
     "outputs": [
      {
       "output_type": "stream",
       "stream": "stdout",
       "text": [
        "Velocity in m/sec = 7069595.0\n"
       ]
      }
     ],
     "prompt_number": 3
    },
    {
     "cell_type": "heading",
     "level": 2,
     "metadata": {},
     "source": [
      "Example 7.8 , Page no:43"
     ]
    },
    {
     "cell_type": "code",
     "collapsed": false,
     "input": [
      "import math\n",
      "from __future__ import division\n",
      "\n",
      "#initialisation of variables\n",
      "m0=9.1*10**-31; #mass in kg\n",
      "t=0.998; #t=(v/c)^2 (given)t\n",
      "\n",
      "#CALCULATIONS\n",
      "m=m0/(math.sqrt(1-(t))); #calculating mass in kg\n",
      "\n",
      "#RESULTS\n",
      "print\"Mass in kg =\",'%.3E'%m;"
     ],
     "language": "python",
     "metadata": {},
     "outputs": [
      {
       "output_type": "stream",
       "stream": "stdout",
       "text": [
        "Mass in kg = 2.035E-29\n"
       ]
      }
     ],
     "prompt_number": 4
    },
    {
     "cell_type": "heading",
     "level": 2,
     "metadata": {},
     "source": [
      "Example 7.9 , Page no:43"
     ]
    },
    {
     "cell_type": "code",
     "collapsed": false,
     "input": [
      "import math\n",
      "from __future__ import division\n",
      "\n",
      "#initialisation of variables\n",
      "m=0.980; #m=(m0/m)^2 (given)\n",
      "c=186000; #velocity in m/sec\n",
      "\n",
      "#CALCULATIONS\n",
      "v=c*(math.sqrt(1-m)); #calculating velocity\n",
      "\n",
      "#RESULTS\n",
      "print\"Velocity in min/sec =\",round(v,3);"
     ],
     "language": "python",
     "metadata": {},
     "outputs": [
      {
       "output_type": "stream",
       "stream": "stdout",
       "text": [
        "Velocity in min/sec = 26304.372\n"
       ]
      }
     ],
     "prompt_number": 5
    }
   ],
   "metadata": {}
  }
 ]
}