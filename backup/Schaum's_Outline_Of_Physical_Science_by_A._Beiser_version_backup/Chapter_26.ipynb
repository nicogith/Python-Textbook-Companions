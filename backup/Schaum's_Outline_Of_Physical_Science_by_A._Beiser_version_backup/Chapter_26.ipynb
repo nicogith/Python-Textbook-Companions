{
 "metadata": {
  "name": "",
  "signature": "sha256:6d27bb885db72bda4deacc110891fe2890dfff5f40ac24851b7013261dae77b4"
 },
 "nbformat": 3,
 "nbformat_minor": 0,
 "worksheets": [
  {
   "cells": [
    {
     "cell_type": "heading",
     "level": 1,
     "metadata": {},
     "source": [
      "Chapter 26 :Solutions"
     ]
    },
    {
     "cell_type": "heading",
     "level": 2,
     "metadata": {},
     "source": [
      "Example 26.1 , Page no:158"
     ]
    },
    {
     "cell_type": "code",
     "collapsed": false,
     "input": [
      "import math\n",
      "from __future__ import division\n",
      " \n",
      "#initialisation of variables\n",
      "a=(3/2)*100;\n",
      "\n",
      "#RESULTS\n",
      "print\"Volume of O2 =\",round(a,3);"
     ],
     "language": "python",
     "metadata": {},
     "outputs": [
      {
       "output_type": "stream",
       "stream": "stdout",
       "text": [
        "Volume of O2 = 150.0\n"
       ]
      }
     ],
     "prompt_number": 1
    },
    {
     "cell_type": "heading",
     "level": 2,
     "metadata": {},
     "source": [
      "Example 26.2 , Page no:159"
     ]
    },
    {
     "cell_type": "code",
     "collapsed": false,
     "input": [
      "import math\n",
      "from __future__ import division\n",
      " \n",
      "#initialisation of variables\n",
      "a=200/122.56;\n",
      "b=2.45*22.4;\n",
      "\n",
      "#RESULTS\n",
      "print\"Moles =\",round(a,3);\n",
      "print\"Volume =\",round(b,3);"
     ],
     "language": "python",
     "metadata": {},
     "outputs": [
      {
       "output_type": "stream",
       "stream": "stdout",
       "text": [
        "Moles = 1.632\n",
        "Volume = 54.88\n"
       ]
      }
     ],
     "prompt_number": 2
    },
    {
     "cell_type": "heading",
     "level": 2,
     "metadata": {},
     "source": [
      "Example 26.3 , Page no:159"
     ]
    },
    {
     "cell_type": "code",
     "collapsed": false,
     "input": [
      "import math\n",
      "from __future__ import division\n",
      " \n",
      "#initialisation of variables\n",
      "a=2/22.4;\n",
      "b=0.179*84;\n",
      "\n",
      "#RESULTS\n",
      "print\"Moles =\",round(a,3);\n",
      "print\"Mass =\",round(b,3);"
     ],
     "language": "python",
     "metadata": {},
     "outputs": [
      {
       "output_type": "stream",
       "stream": "stdout",
       "text": [
        "Moles = 0.089\n",
        "Mass = 15.036\n"
       ]
      }
     ],
     "prompt_number": 3
    },
    {
     "cell_type": "heading",
     "level": 2,
     "metadata": {},
     "source": [
      "Example 26.4 , Page no:159"
     ]
    },
    {
     "cell_type": "code",
     "collapsed": false,
     "input": [
      "import math\n",
      "from __future__ import division\n",
      " \n",
      "#initialisation of variables\n",
      "p=1; #atm\n",
      "v=1000; #volume in litres\n",
      "t=673; #Kelvin\n",
      "R=0.0821; #constant in atm-l/mole-K\n",
      "\n",
      "#CALCULATIONS\n",
      "n=(p*v)/(R*t); #calculating n\n",
      "n1=6.03*159.7;\n",
      "n2=12.1*55.85;\n",
      "\n",
      "#RESULTS\n",
      "print\"n =\",round(n,3);\n",
      "print\"Mass =\",round(n1,3);\n",
      "print\"Mass of Fe =\",round(n2,3);"
     ],
     "language": "python",
     "metadata": {},
     "outputs": [
      {
       "output_type": "stream",
       "stream": "stdout",
       "text": [
        "n = 18.098\n",
        "Mass = 962.991\n",
        "Mass of Fe = 675.785\n"
       ]
      }
     ],
     "prompt_number": 4
    },
    {
     "cell_type": "heading",
     "level": 2,
     "metadata": {},
     "source": [
      "Example 26.5 , Page no:159"
     ]
    },
    {
     "cell_type": "code",
     "collapsed": false,
     "input": [
      "import math\n",
      "from __future__ import division\n",
      " \n",
      "#initialisation of variables\n",
      "N=14.01; #mass of N\n",
      "H=1.008; #mass of H\n",
      "\n",
      "#CALCULATIONS\n",
      "m=N+(3*H); #calculating mass\n",
      "moles=1/m;  #cal moles\n",
      "v=moles*22.4; #cal vol\n",
      "v1=(1*1.32*373)/(1.2*273);\n",
      "\n",
      "#RESULTS\n",
      "print\"Volume =\",round(v,3);\n",
      "print\"V2 =\",round(v1,3);"
     ],
     "language": "python",
     "metadata": {},
     "outputs": [
      {
       "output_type": "stream",
       "stream": "stdout",
       "text": [
        "Volume = 1.315\n",
        "V2 = 1.503\n"
       ]
      }
     ],
     "prompt_number": 5
    },
    {
     "cell_type": "heading",
     "level": 2,
     "metadata": {},
     "source": [
      "Example 26.6 , Page no:159"
     ]
    },
    {
     "cell_type": "code",
     "collapsed": false,
     "input": [
      "import math\n",
      "from __future__ import division\n",
      " \n",
      "#initialisation of variables\n",
      "p=4; #atm\n",
      "v=40; #volume in litres\n",
      "t=773; #Kelvin\n",
      "u=238.03; #mass of U\n",
      "f=19.00; #mass of F\n",
      "R=0.0821; #constant in atm-l/mole-K\n",
      "\n",
      "#CALCULATIONS\n",
      "n=(p*v)/(R*t); #calculating n\n",
      "m=u+(6*f); #cal mass\n",
      "m1=m*2.52;\n",
      "\n",
      "#RESULTS\n",
      "print\"n =\",round(n,3);\n",
      "print\"Mass =\",round(m1,3);"
     ],
     "language": "python",
     "metadata": {},
     "outputs": [
      {
       "output_type": "stream",
       "stream": "stdout",
       "text": [
        "n = 2.521\n",
        "Mass = 887.116\n"
       ]
      }
     ],
     "prompt_number": 6
    },
    {
     "cell_type": "heading",
     "level": 2,
     "metadata": {},
     "source": [
      "Example 26.7 , Page no:159"
     ]
    },
    {
     "cell_type": "code",
     "collapsed": false,
     "input": [
      "import math\n",
      "from __future__ import division\n",
      " \n",
      "#initialisation of variables\n",
      "p=0.263*10**5; #Pascal\n",
      "v=120; #volume in m cube\n",
      "t=223; #Kelvin\n",
      "R=8.31; #constant\n",
      "\n",
      "#CALCULATIONS\n",
      "n=(p*v)/(R*t); #calculating n\n",
      "m=n*4; #cal mass of He\n",
      "\n",
      "#RESULTS\n",
      "print\"n =\",round(n,3);\n",
      "print\"Mass of He =\",round(m,3);"
     ],
     "language": "python",
     "metadata": {},
     "outputs": [
      {
       "output_type": "stream",
       "stream": "stdout",
       "text": [
        "n = 1703.065\n",
        "Mass of He = 6812.258\n"
       ]
      }
     ],
     "prompt_number": 7
    },
    {
     "cell_type": "heading",
     "level": 2,
     "metadata": {},
     "source": [
      "Example 26.8 , Page no:160"
     ]
    },
    {
     "cell_type": "code",
     "collapsed": false,
     "input": [
      "import math\n",
      "from __future__ import division\n",
      " \n",
      "#initialisation of variables\n",
      "c=12.01;\n",
      "h=1.008;\n",
      "v=22.4; #vol\n",
      "\n",
      "#CALCULATIONS\n",
      "m=(2*c)+(4*h); #cal mass\n",
      "d=m/v; #cal density\n",
      "\n",
      "#RESULTS\n",
      "print\"Density in g/litre =\",round(d,3);"
     ],
     "language": "python",
     "metadata": {},
     "outputs": [
      {
       "output_type": "stream",
       "stream": "stdout",
       "text": [
        "Density in g/litre = 1.252\n"
       ]
      }
     ],
     "prompt_number": 8
    },
    {
     "cell_type": "heading",
     "level": 2,
     "metadata": {},
     "source": [
      "Example 26.9 , Page no:160"
     ]
    },
    {
     "cell_type": "code",
     "collapsed": false,
     "input": [
      "import math\n",
      "from __future__ import division\n",
      " \n",
      "#initialisation of variables\n",
      "p=5; #atm\n",
      "v=1; #volume in litres\n",
      "t=293; #Kelvin\n",
      "R=0.0821; #constant in atm-l/mole-K\n",
      "\n",
      "#CALCULATIONS\n",
      "n=(p*v)/(R*t); #calculating n\n",
      "m=n*32; #moles of O2\n",
      "d=m/v; #cal density\n",
      "\n",
      "#RESULTS\n",
      "print\"n =\",round(n,3);\n",
      "print\"Moles of O2 =\",round(m,3);\n",
      "print\"Density in g/litre =\",round(d,3);"
     ],
     "language": "python",
     "metadata": {},
     "outputs": [
      {
       "output_type": "stream",
       "stream": "stdout",
       "text": [
        "n = 0.208\n",
        "Moles of O2 = 6.651\n",
        "Density in g/litre = 6.651\n"
       ]
      }
     ],
     "prompt_number": 9
    },
    {
     "cell_type": "heading",
     "level": 2,
     "metadata": {},
     "source": [
      "Example 26.10 , Page no:160"
     ]
    },
    {
     "cell_type": "code",
     "collapsed": false,
     "input": [
      "import math\n",
      "from __future__ import division\n",
      " \n",
      "#initialisation of variables\n",
      "a=28.1/0.214;\n",
      "\n",
      "#RESULTS\n",
      "print\"Molecular mass =\",round(a,3);"
     ],
     "language": "python",
     "metadata": {},
     "outputs": [
      {
       "output_type": "stream",
       "stream": "stdout",
       "text": [
        "Molecular mass = 131.308\n"
       ]
      }
     ],
     "prompt_number": 10
    }
   ],
   "metadata": {}
  }
 ]
}