{
 "metadata": {
  "name": "",
  "signature": "sha256:b7a3c1b460b975e1bcb7d448a952fcb4001c35c32634de230a0dcaafe6542e70"
 },
 "nbformat": 3,
 "nbformat_minor": 0,
 "worksheets": [
  {
   "cells": [
    {
     "cell_type": "heading",
     "level": 1,
     "metadata": {},
     "source": [
      "Chapter 9 :Heat"
     ]
    },
    {
     "cell_type": "heading",
     "level": 2,
     "metadata": {},
     "source": [
      "Example 9.2 , Page no:52"
     ]
    },
    {
     "cell_type": "code",
     "collapsed": false,
     "input": [
      "import math\n",
      "from __future__ import division\n",
      " \n",
      "#initialisation of variables\n",
      "tf=80; #temp in farenheit\n",
      "\n",
      "#CALCULATIONS\n",
      "tc=(5/9)*(tf-32); #calculating temp in celcius\n",
      "\n",
      "#RESULTS\n",
      "print\"Temperature in celcius =\",round(tc,3);"
     ],
     "language": "python",
     "metadata": {},
     "outputs": [
      {
       "output_type": "stream",
       "stream": "stdout",
       "text": [
        "Temperature in celcius = 26.667\n"
       ]
      }
     ],
     "prompt_number": 1
    },
    {
     "cell_type": "heading",
     "level": 2,
     "metadata": {},
     "source": [
      "Example 9.3 , Page no:52"
     ]
    },
    {
     "cell_type": "code",
     "collapsed": false,
     "input": [
      "import math\n",
      "from __future__ import division\n",
      " \n",
      "#initialisation of variables\n",
      "tc=80; #/temp in celcius\n",
      "\n",
      "#CALCULATIONS\n",
      "tf=((9/5)*tc)+32; #calculating temp in farenheit\n",
      "\n",
      "#RESULTS\n",
      "print\"Temperature in farenheit =\",round(tf,3);"
     ],
     "language": "python",
     "metadata": {},
     "outputs": [
      {
       "output_type": "stream",
       "stream": "stdout",
       "text": [
        "Temperature in farenheit = 176.0\n"
       ]
      }
     ],
     "prompt_number": 2
    },
    {
     "cell_type": "heading",
     "level": 2,
     "metadata": {},
     "source": [
      "Example 9.4 , Page no:52"
     ]
    },
    {
     "cell_type": "code",
     "collapsed": false,
     "input": [
      "import math\n",
      "from __future__ import division\n",
      " \n",
      "#initialisation of variables\n",
      "tf=-362; #temp in farenheit\n",
      "\n",
      "#CALCULATIONS\n",
      "tc=(5/9)*(tf-32); #calculating temp in celcius\n",
      "\n",
      "#RESULTS\n",
      "print\"Temperature in celcius =\",round(tc,3);"
     ],
     "language": "python",
     "metadata": {},
     "outputs": [
      {
       "output_type": "stream",
       "stream": "stdout",
       "text": [
        "Temperature in celcius = -218.889\n"
       ]
      }
     ],
     "prompt_number": 3
    },
    {
     "cell_type": "heading",
     "level": 2,
     "metadata": {},
     "source": [
      "Example 9.5 , Page no:52"
     ]
    },
    {
     "cell_type": "code",
     "collapsed": false,
     "input": [
      "import math\n",
      "from __future__ import division\n",
      " \n",
      "#initialisation of variables\n",
      "tc=-210; #temp in celcius\n",
      "\n",
      "#CALCULATIONS\n",
      "tf=((9/5)*tc)+32; #calculating temp in farenheit\n",
      "\n",
      "#RESULTS\n",
      "print\"Temperature in farenheit =\",round(tf,3);"
     ],
     "language": "python",
     "metadata": {},
     "outputs": [
      {
       "output_type": "stream",
       "stream": "stdout",
       "text": [
        "Temperature in farenheit = -346.0\n"
       ]
      }
     ],
     "prompt_number": 4
    },
    {
     "cell_type": "heading",
     "level": 2,
     "metadata": {},
     "source": [
      "Example 9.6 , Page no:52"
     ]
    },
    {
     "cell_type": "code",
     "collapsed": false,
     "input": [
      "import math\n",
      "from __future__ import division\n",
      " \n",
      "#initialisation of variables\n",
      "delt=80-20; #change in temp in celcius\n",
      "m=3; #mass in lb\n",
      "c=4185; #specific heat in J/kg.celcius\n",
      "\n",
      "#CALCULATIONS\n",
      "Q=m*c*delt; #calculating heat required\n",
      "\n",
      "#RESULTS\n",
      "print\"Heat required in Joule =\",round(Q,3);"
     ],
     "language": "python",
     "metadata": {},
     "outputs": [
      {
       "output_type": "stream",
       "stream": "stdout",
       "text": [
        "Heat required in Joule = 753300.0\n"
       ]
      }
     ],
     "prompt_number": 5
    },
    {
     "cell_type": "heading",
     "level": 2,
     "metadata": {},
     "source": [
      "Example 9.7 , Page no:53"
     ]
    },
    {
     "cell_type": "code",
     "collapsed": false,
     "input": [
      "import math\n",
      "from __future__ import division\n",
      " \n",
      "#initialisation of variables\n",
      "Q=200; #heat in Btu(British Thermal Unit)\n",
      "m=50; #mass in lb\n",
      "c=0.5; #specific heat capacity inBtu/lb.F\n",
      "\n",
      "#CALCULATIONS\n",
      "delT=Q/(m*c); #calculating change in temperatur using Q=mc(del T)\n",
      "delT1=25-delT;\n",
      "\n",
      "#RESULTS\n",
      "print\"Change in Temperature in Farenheit =\",round(delT,3);\n",
      "print\"Final Temperature in Farenheit =\",round(delT1,3);"
     ],
     "language": "python",
     "metadata": {},
     "outputs": [
      {
       "output_type": "stream",
       "stream": "stdout",
       "text": [
        "Change in Temperature in Farenheit = 8.0\n",
        "Final Temperature in Farenheit = 17.0\n"
       ]
      }
     ],
     "prompt_number": 6
    },
    {
     "cell_type": "heading",
     "level": 2,
     "metadata": {},
     "source": [
      "Example 9.8 , Page no:53"
     ]
    },
    {
     "cell_type": "code",
     "collapsed": false,
     "input": [
      "import math\n",
      "from __future__ import division\n",
      " \n",
      "#initialisation of variables\n",
      "Q=10; #Heat in kilo calorie\n",
      "m=1; #mass in kg\n",
      "delT=24; #change in temperature in degree celcius\n",
      "\n",
      "#CALCULATIONS\n",
      "c=Q/(m*delT); #calculating specific heat in kcal/(kg.degree celcius)\n",
      "\n",
      "#RESULTS\n",
      "print\"Spacific Heat in kcal/(kg.degree celcius) =\",round(c,3);"
     ],
     "language": "python",
     "metadata": {},
     "outputs": [
      {
       "output_type": "stream",
       "stream": "stdout",
       "text": [
        "Spacific Heat in kcal/(kg.degree celcius) = 0.417\n"
       ]
      }
     ],
     "prompt_number": 7
    },
    {
     "cell_type": "heading",
     "level": 2,
     "metadata": {},
     "source": [
      "Example 9.9 , Page no:53"
     ]
    },
    {
     "cell_type": "code",
     "collapsed": false,
     "input": [
      "import math\n",
      "from __future__ import division\n",
      " \n",
      "#initialisation of variables\n",
      "t=500/8; #using heat gained = heat lost\n",
      "\n",
      "#RESULTS\n",
      "print\"Final temperature in Farenheit =\",round(t,3);"
     ],
     "language": "python",
     "metadata": {},
     "outputs": [
      {
       "output_type": "stream",
       "stream": "stdout",
       "text": [
        "Final temperature in Farenheit = 62.5\n"
       ]
      }
     ],
     "prompt_number": 8
    },
    {
     "cell_type": "heading",
     "level": 2,
     "metadata": {},
     "source": [
      "Example 9.10 , Page no:53"
     ]
    },
    {
     "cell_type": "code",
     "collapsed": false,
     "input": [
      "import math\n",
      "from __future__ import division\n",
      " \n",
      "#initialisation of variables\n",
      "t=(225990+3360)/2769; #calculating temperature\n",
      "\n",
      "#RESULTS\n",
      "print\"Temperature in celcius =\",round(t,3);"
     ],
     "language": "python",
     "metadata": {},
     "outputs": [
      {
       "output_type": "stream",
       "stream": "stdout",
       "text": [
        "Temperature in celcius = 82.828\n"
       ]
      }
     ],
     "prompt_number": 9
    },
    {
     "cell_type": "heading",
     "level": 2,
     "metadata": {},
     "source": [
      "Example 9.11 , Page no:53"
     ]
    },
    {
     "cell_type": "code",
     "collapsed": false,
     "input": [
      "import math\n",
      "from __future__ import division\n",
      " \n",
      "#initialisation of variables\n",
      "t=56.6/0.22; #calculating temperature\n",
      "\n",
      "#RESULTS\n",
      "print\"Temperature in celcius =\",round(t,3);"
     ],
     "language": "python",
     "metadata": {},
     "outputs": [
      {
       "output_type": "stream",
       "stream": "stdout",
       "text": [
        "Temperature in celcius = 257.273\n"
       ]
      }
     ],
     "prompt_number": 10
    },
    {
     "cell_type": "heading",
     "level": 2,
     "metadata": {},
     "source": [
      "Example 9.12 , Page no:54"
     ]
    },
    {
     "cell_type": "code",
     "collapsed": false,
     "input": [
      "import math\n",
      "from __future__ import division\n",
      " \n",
      "#initialisation of variables\n",
      "delT=626-70; #change in temp. in Farenheit\n",
      "m=200; #mass in lb\n",
      "c=0.03; #specific heat capacity in Btu/(lb.Farenheit)\n",
      "Lf=10.6; #Latent Heat of Fusion in Btu/lb\n",
      "\n",
      "#CALCULATIONS\n",
      "Q=(m*c*delT)+(m*Lf); #calculating heat in Btu\n",
      "\n",
      "#RESULTS\n",
      "print\"Heat Required in Btu =\",round(Q);"
     ],
     "language": "python",
     "metadata": {},
     "outputs": [
      {
       "output_type": "stream",
       "stream": "stdout",
       "text": [
        "Heat Required in Btu = 5456.0\n"
       ]
      }
     ],
     "prompt_number": 11
    },
    {
     "cell_type": "heading",
     "level": 2,
     "metadata": {},
     "source": [
      "Example 9.13 , Page no:54"
     ]
    },
    {
     "cell_type": "code",
     "collapsed": false,
     "input": [
      "import math\n",
      "from __future__ import division\n",
      " \n",
      "#initialisation of variables\n",
      "mw=5; #mass of water in kg\n",
      "c=1; #specific heat of water in kcal/(kg.degree celcius)\n",
      "delT=40; #change in temp in celcius\n",
      "Lf=80; #Latent heat of Fusion in kcal/kg\n",
      "\n",
      "#CALCULATIONS\n",
      "mice=(mw*c*delT)/Lf; #calculating mass of ice in kg\n",
      "\n",
      "#RESULTS\n",
      "print\"Mass of Ice in kg =\",round(mice,3);"
     ],
     "language": "python",
     "metadata": {},
     "outputs": [
      {
       "output_type": "stream",
       "stream": "stdout",
       "text": [
        "Mass of Ice in kg = 2.5\n"
       ]
      }
     ],
     "prompt_number": 12
    },
    {
     "cell_type": "heading",
     "level": 2,
     "metadata": {},
     "source": [
      "Example 9.14 , Page no:54"
     ]
    },
    {
     "cell_type": "code",
     "collapsed": false,
     "input": [
      "import math\n",
      "from __future__ import division\n",
      " \n",
      "#initialisation of variables\n",
      "m1=2; #mass of water in kg\n",
      "c=1; #specific heat in kcal/kg.celcius\n",
      "delT=20; #change in temp. in celcius\n",
      "L=540; #L in kcal/kg\n",
      "\n",
      "#CALCULATIONS\n",
      "Q1=m1*c*delT; #calculating heat in kcal\n",
      "Q2=500-Q1; #calculating heat available to convert water at 100 celcius to steam\n",
      "msteam=Q2/L; #calculating mass of steam in kg\n",
      "\n",
      "#RESULTS\n",
      "print\"Steam produced in kg =\",round(msteam,3);"
     ],
     "language": "python",
     "metadata": {},
     "outputs": [
      {
       "output_type": "stream",
       "stream": "stdout",
       "text": [
        "Steam produced in kg = 0.852\n"
       ]
      }
     ],
     "prompt_number": 13
    },
    {
     "cell_type": "heading",
     "level": 2,
     "metadata": {},
     "source": [
      "Example 9.15 , Page no:54"
     ]
    },
    {
     "cell_type": "code",
     "collapsed": false,
     "input": [
      "import math\n",
      "from __future__ import division\n",
      " \n",
      "#initialisation of variables\n",
      "deltice=10; #change in temp of ice in celcius\n",
      "deltwater=20; #change in temp of water in celcius\n",
      "mwater=0.5; #mass of water in kg\n",
      "cwater=4.185; #specific heat of water in kJ/kg.celcius\n",
      "Lice=335; #latent heat in kJ/kg\n",
      "cice=2.09; #specific heat of ice in kJ/kg.celcius\n",
      "\n",
      "#CALCULATIONS\n",
      "mice=(mwater*cwater*deltwater)/((cice*deltice)+Lice);\n",
      "mice1=mice*1000;\n",
      "\n",
      "#RESULTS\n",
      "print\"Minimum amount of ice in gram =\",round(mice1,3);"
     ],
     "language": "python",
     "metadata": {},
     "outputs": [
      {
       "output_type": "stream",
       "stream": "stdout",
       "text": [
        "Minimum amount of ice in gram = 117.589\n"
       ]
      }
     ],
     "prompt_number": 14
    },
    {
     "cell_type": "heading",
     "level": 2,
     "metadata": {},
     "source": [
      "Example 9.18 , Page no:55"
     ]
    },
    {
     "cell_type": "code",
     "collapsed": false,
     "input": [
      "import math\n",
      "from __future__ import division\n",
      " \n",
      "#initialisation of variables\n",
      "g=9.8; #gravitational constant in m/sec square\n",
      "Lf=3.35*10**5; #Latent heat of fusion in J/kg\n",
      "\n",
      "#CALCULATIONS\n",
      "h=Lf/g; #calculating height in metre using potential energy(m*g*h)=(mass*heat of fusion) \n",
      "\n",
      "#RESULTS\n",
      "print\"Height of falling in metre =\",round(h,3);"
     ],
     "language": "python",
     "metadata": {},
     "outputs": [
      {
       "output_type": "stream",
       "stream": "stdout",
       "text": [
        "Height of falling in metre = 34183.673\n"
       ]
      }
     ],
     "prompt_number": 15
    },
    {
     "cell_type": "heading",
     "level": 2,
     "metadata": {},
     "source": [
      "Example 9.19 , Page no:55"
     ]
    },
    {
     "cell_type": "code",
     "collapsed": false,
     "input": [
      "import math\n",
      "from __future__ import division\n",
      " \n",
      "#initialisation of variables\n",
      "m=0.8; #mass of water in kg\n",
      "c=4185; #specific heat in J/kg.celcius\n",
      "delT=100-20; #change in temperature in celcius\n",
      "P=10**3; #Power in J/sec\n",
      "\n",
      "#CALCULATIONS\n",
      "Q=m*c*delT; #calculating heat required in Joule\n",
      "t=Q/P; #calculating time using P=(Q/t)\n",
      "t1=t/60;\n",
      "\n",
      "#RESULTS\n",
      "print\"Time required to raise temperature to 100 degree celcius in second =\",round(t,3);\n",
      "print\"Time in minutes =\",round(t1,3);"
     ],
     "language": "python",
     "metadata": {},
     "outputs": [
      {
       "output_type": "stream",
       "stream": "stdout",
       "text": [
        "Time required to raise temperature to 100 degree celcius in second = 267.84\n",
        "Time in minutes = 4.464\n"
       ]
      }
     ],
     "prompt_number": 16
    }
   ],
   "metadata": {}
  }
 ]
}