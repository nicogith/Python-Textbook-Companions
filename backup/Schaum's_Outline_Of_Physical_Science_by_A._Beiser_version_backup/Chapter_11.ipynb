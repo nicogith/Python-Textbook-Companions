{
 "metadata": {
  "name": "",
  "signature": "sha256:0c7c90b8665ad2b87a2747a6acaf619457854e989b07cda24061b004ddfeab34"
 },
 "nbformat": 3,
 "nbformat_minor": 0,
 "worksheets": [
  {
   "cells": [
    {
     "cell_type": "heading",
     "level": 1,
     "metadata": {},
     "source": [
      "Chapter 11 :Thermodynamics"
     ]
    },
    {
     "cell_type": "heading",
     "level": 1,
     "metadata": {},
     "source": [
      "Example 11.4 , Page no:63"
     ]
    },
    {
     "cell_type": "code",
     "collapsed": false,
     "input": [
      "import math\n",
      "from __future__ import division\n",
      " \n",
      "#initialisation of variables\n",
      "lf=335; #heat of fusion in kJ/kg\n",
      "g=9.8; #gravitational constant in m/sec square\n",
      "\n",
      "#CALCULATIONS\n",
      "h=lf/g; #height in km\n",
      "\n",
      "#RESULTS\n",
      "print\"Height in km =\",round(h,3);"
     ],
     "language": "python",
     "metadata": {},
     "outputs": [
      {
       "output_type": "stream",
       "stream": "stdout",
       "text": [
        "Height in km = 34.184\n"
       ]
      }
     ],
     "prompt_number": 1
    },
    {
     "cell_type": "heading",
     "level": 2,
     "metadata": {},
     "source": [
      "Example 11.6 , Page no:64"
     ]
    },
    {
     "cell_type": "code",
     "collapsed": false,
     "input": [
      "import math\n",
      "from __future__ import division\n",
      " \n",
      "#initialisation of variables\n",
      "hc=1.1*10**4; #heat of combustion of heat oil in kcal/kg\n",
      "p=10**6; #Power in Watt\n",
      "t=3600*24; #time in sec\n",
      "e=0.4; #efficiency\n",
      "\n",
      "#CALCULATIONS\n",
      "w=p*t; #calculating power produced in a day in Joule\n",
      "hi=w/e; #Heat input in Joule sice efficiency=output/input\n",
      "hi=hi/(4.185*10**3); #for calculating heat input in kcal\n",
      "m=hi/hc; #amount of fuel burnt each day in kg\n",
      "\n",
      "#RESULTS\n",
      "print\"Amount of fuel burnt each day in kg =\",round(m,3);"
     ],
     "language": "python",
     "metadata": {},
     "outputs": [
      {
       "output_type": "stream",
       "stream": "stdout",
       "text": [
        "Amount of fuel burnt each day in kg = 4692.082\n"
       ]
      }
     ],
     "prompt_number": 2
    },
    {
     "cell_type": "heading",
     "level": 2,
     "metadata": {},
     "source": [
      "Example 11.7 , Page no:64"
     ]
    },
    {
     "cell_type": "code",
     "collapsed": false,
     "input": [
      "import math\n",
      "from __future__ import division\n",
      " \n",
      "#initialisation of variables\n",
      "w=40000; #weight in lb\n",
      "t=3600; #time in sec\n",
      "g=32; #gravitational constant in ft/sec square\n",
      "v1=2500; #initial velocity in m/sec\n",
      "v2=400; #final velocity in m/sec\n",
      "\n",
      "#CALCULATIONS\n",
      "W=(w/(2*g))*((v1*v1)-(v2*v2)); #calculating Work done in ft.lb using work done=difference in Kinetic Energy\n",
      "p=W/(t*550); #calculating Power using P=W/t since 1hp=550 ft.lb/sec;\n",
      "\n",
      "#RESULTS\n",
      "print\"Power Ouput in hp =\",round(p,3);"
     ],
     "language": "python",
     "metadata": {},
     "outputs": [
      {
       "output_type": "stream",
       "stream": "stdout",
       "text": [
        "Power Ouput in hp = 1922.348\n"
       ]
      }
     ],
     "prompt_number": 3
    },
    {
     "cell_type": "heading",
     "level": 2,
     "metadata": {},
     "source": [
      "Example 11.8 , Page no:65"
     ]
    },
    {
     "cell_type": "code",
     "collapsed": false,
     "input": [
      "import math\n",
      "from __future__ import division\n",
      " \n",
      "#initialisation of variables\n",
      "t1=327+273; #temp in Kelvin\n",
      "t2=127+273; #temp in Kelvin\n",
      "hi=4185; #1 kcal=4185 Joule\n",
      "\n",
      "#CALCULATIONS\n",
      "eff=1-(t2/t1); #calculating efficiency\n",
      "W=eff*hi; #calculating Work in joule\n",
      "\n",
      "#RESULTS\n",
      "print\"Work in Joule =\",round(W);"
     ],
     "language": "python",
     "metadata": {},
     "outputs": [
      {
       "output_type": "stream",
       "stream": "stdout",
       "text": [
        "Work in Joule = 1395.0\n"
       ]
      }
     ],
     "prompt_number": 4
    },
    {
     "cell_type": "heading",
     "level": 2,
     "metadata": {},
     "source": [
      "Example 11.9 , Page no:65"
     ]
    },
    {
     "cell_type": "code",
     "collapsed": false,
     "input": [
      "import math\n",
      "from __future__ import division\n",
      " \n",
      "#initialisation of variables\n",
      "woa=3000; #work ouput of a in Joule\n",
      "wob=2000; #work output of b in Joule\n",
      "woc=1000; #work output of c in Joule\n",
      "hi=4185; #1 kcal=4185 Joule\n",
      "t1=500; #temp in Kelvin\n",
      "t2=300; #temp in Kelvin\n",
      "\n",
      "#CALCULATIONS\n",
      "eff=1-(t2/t1); #efficiency\n",
      "effa=woa/hi; #calculating efficiency of a\n",
      "effb=wob/hi; #calculating efficiency of b\n",
      "effc=woc/hi;#calculating efficiency of c\n",
      "effa1=effa*100;\n",
      "effb1=effb*100;\n",
      "effc1=effc*100;\n",
      "\n",
      "#RESULTS\n",
      "print\"Efficiency of A =\",round(effa1,3);\n",
      "print\"Efficiency of B =\",round(effb1,3);\n",
      "print\"Efficiency of C =\",round(effc1,3);"
     ],
     "language": "python",
     "metadata": {},
     "outputs": [
      {
       "output_type": "stream",
       "stream": "stdout",
       "text": [
        "Efficiency of A = 71.685\n",
        "Efficiency of B = 47.79\n",
        "Efficiency of C = 23.895\n"
       ]
      }
     ],
     "prompt_number": 5
    },
    {
     "cell_type": "heading",
     "level": 2,
     "metadata": {},
     "source": [
      "Example 11.10 , Page no:65"
     ]
    },
    {
     "cell_type": "code",
     "collapsed": false,
     "input": [
      "import math\n",
      "from __future__ import division\n",
      " \n",
      "#initialisation of variables\n",
      "t1=267+273; #temp in Kelvin\n",
      "eff=0.25; #efficiency\n",
      "\n",
      "#CALCULATIONS\n",
      "t2=t1*(1-eff); #calculating t2 using eff=1-(t2/t1)\n",
      "t3=t2-273;\n",
      "\n",
      "#RESULTS\n",
      "print\"Temperature in celcius =\",round(t3,3);"
     ],
     "language": "python",
     "metadata": {},
     "outputs": [
      {
       "output_type": "stream",
       "stream": "stdout",
       "text": [
        "Temperature in celcius = 132.0\n"
       ]
      }
     ],
     "prompt_number": 6
    },
    {
     "cell_type": "heading",
     "level": 2,
     "metadata": {},
     "source": [
      "Example 11.11 , Page no:65"
     ]
    },
    {
     "cell_type": "code",
     "collapsed": false,
     "input": [
      "import math\n",
      "from __future__ import division\n",
      " \n",
      "#initialisation of variables\n",
      "t1=34+273; #temperature in Kelvin\n",
      "t2=35+273; #temperature in Kelvin\n",
      "\n",
      "#CALCULATIONS\n",
      "r=((t2**4)-(t1**4))/(t1**4); #calculating percentage difference in radiation\n",
      "r1=r*100;\n",
      "\n",
      "#RESULTS\n",
      "print\"Percentage difference in radiation =\",round(r1,3);"
     ],
     "language": "python",
     "metadata": {},
     "outputs": [
      {
       "output_type": "stream",
       "stream": "stdout",
       "text": [
        "Percentage difference in radiation = 1.309\n"
       ]
      }
     ],
     "prompt_number": 7
    }
   ],
   "metadata": {}
  }
 ]
}