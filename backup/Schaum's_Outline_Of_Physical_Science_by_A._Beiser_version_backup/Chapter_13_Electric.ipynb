{
 "metadata": {
  "name": "",
  "signature": "sha256:7b163551ec951fcb9ff96acffb6f0b209ece629d60b89c4e7be933e7b1afa5f6"
 },
 "nbformat": 3,
 "nbformat_minor": 0,
 "worksheets": [
  {
   "cells": [
    {
     "cell_type": "heading",
     "level": 1,
     "metadata": {},
     "source": [
      "Chapter 13 :Electric Current"
     ]
    },
    {
     "cell_type": "heading",
     "level": 2,
     "metadata": {},
     "source": [
      "Example 13.5 , Page no:76"
     ]
    },
    {
     "cell_type": "code",
     "collapsed": false,
     "input": [
      "import math\n",
      "from __future__ import division\n",
      " \n",
      "#initialisation of variables\n",
      "e=1.6*10**-19; #charge on an electron in coulomb\n",
      "i=1; #current in Ampere\n",
      "\n",
      "#CALCULATIONS\n",
      "n=i/e; #calculating no of electrons/sec\n",
      "\n",
      "#RESULTS\n",
      "print\"No. of electrons flowing per second =\",'%.3E'%n;"
     ],
     "language": "python",
     "metadata": {},
     "outputs": [
      {
       "output_type": "stream",
       "stream": "stdout",
       "text": [
        "No. of electrons flowing per second = 6.250E+18\n"
       ]
      }
     ],
     "prompt_number": 1
    },
    {
     "cell_type": "heading",
     "level": 2,
     "metadata": {},
     "source": [
      "Example 13.6 , Page no:76"
     ]
    },
    {
     "cell_type": "code",
     "collapsed": false,
     "input": [
      "import math\n",
      "from __future__ import division\n",
      " \n",
      "#initialisation of variables\n",
      "v=120; #potential diff in Volt\n",
      "r=12; #resistance in ohms\n",
      "\n",
      "#CALCULATIONS\n",
      "i=v/r; #calculating current in Ampere using Ohm's law ie. V=I*R\n",
      "\n",
      "#RESULTS\n",
      "print\"Current in the toaster in Ampere =\",round(i);"
     ],
     "language": "python",
     "metadata": {},
     "outputs": [
      {
       "output_type": "stream",
       "stream": "stdout",
       "text": [
        "Current in the toaster in Ampere = 10.0\n"
       ]
      }
     ],
     "prompt_number": 2
    },
    {
     "cell_type": "heading",
     "level": 2,
     "metadata": {},
     "source": [
      "Example 13.7 , Page no:76"
     ]
    },
    {
     "cell_type": "code",
     "collapsed": false,
     "input": [
      "import math\n",
      "from __future__ import division\n",
      " \n",
      "#initialisation of variables\n",
      "v=120; #potential diff in volt\n",
      "i=25; #current in Ampere\n",
      "\n",
      "#CALCULATIONS\n",
      "r=v/i; #Ohm's law\n",
      "\n",
      "#RESULTS\n",
      "print\"Resistance in ohm =\",round(r,2);"
     ],
     "language": "python",
     "metadata": {},
     "outputs": [
      {
       "output_type": "stream",
       "stream": "stdout",
       "text": [
        "Resistance in ohm = 4.8\n"
       ]
      }
     ],
     "prompt_number": 3
    },
    {
     "cell_type": "heading",
     "level": 2,
     "metadata": {},
     "source": [
      "Example 13.8 , Page no:77"
     ]
    },
    {
     "cell_type": "code",
     "collapsed": false,
     "input": [
      "import math\n",
      "from __future__ import division\n",
      " \n",
      "#initialisation of variables\n",
      "v=240; #potential diff in volt\n",
      "p=2000; #power in Watt\n",
      "\n",
      "#CALCULATIONS\n",
      "p1=p/v;\n",
      "\n",
      "#RESULTS\n",
      "print\"Current in Ampere =\",round(p1,3);"
     ],
     "language": "python",
     "metadata": {},
     "outputs": [
      {
       "output_type": "stream",
       "stream": "stdout",
       "text": [
        "Current in Ampere = 8.333\n"
       ]
      }
     ],
     "prompt_number": 4
    },
    {
     "cell_type": "heading",
     "level": 2,
     "metadata": {},
     "source": [
      "Example 13.9 , Page no:77"
     ]
    },
    {
     "cell_type": "code",
     "collapsed": false,
     "input": [
      "import math\n",
      "from __future__ import division\n",
      " \n",
      "#initialisation of variables\n",
      "pi=12*746; #input power in Watt sice 1hp=746 Watt\n",
      "i=30; #current in Ampere\n",
      "v=240; #potential difference in volt\n",
      "\n",
      "#CALCULATIONS\n",
      "po=v*i; #calculating output power using p=v*i\n",
      "e=po/pi; #calculating efficiency using eff=oupt/input\n",
      "e1=e*100;\n",
      "\n",
      "#RESULTS\n",
      "print\"Efficiency of the generator =\",round(e1,3);"
     ],
     "language": "python",
     "metadata": {},
     "outputs": [
      {
       "output_type": "stream",
       "stream": "stdout",
       "text": [
        "Efficiency of the generator = 80.429\n"
       ]
      }
     ],
     "prompt_number": 5
    },
    {
     "cell_type": "heading",
     "level": 2,
     "metadata": {},
     "source": [
      "Example 13.10 , Page no:77"
     ]
    },
    {
     "cell_type": "code",
     "collapsed": false,
     "input": [
      "import math\n",
      "from __future__ import division\n",
      " \n",
      "#initialisation of variables\n",
      "i=15; #current in Ampere\n",
      "v=240; #potential diff. in Volt\n",
      "t=45/60; #time in hours\n",
      "\n",
      "#CALCULATIONS\n",
      "p=v*i; #clculating power in Watt using p=v*i\n",
      "w=p*t; #calculating work done in Watt.h using w=p*t\n",
      "w1=w/1000;\n",
      "\n",
      "#RESULTS\n",
      "print\"Work done in  kiloWatt.hr =\",round(w1,3);"
     ],
     "language": "python",
     "metadata": {},
     "outputs": [
      {
       "output_type": "stream",
       "stream": "stdout",
       "text": [
        "Work done in  kiloWatt.hr = 2.7\n"
       ]
      }
     ],
     "prompt_number": 6
    },
    {
     "cell_type": "heading",
     "level": 2,
     "metadata": {},
     "source": [
      "Example 13.11 , Page no:77"
     ]
    },
    {
     "cell_type": "code",
     "collapsed": false,
     "input": [
      "import math\n",
      "from __future__ import division\n",
      " \n",
      "#initialisation of variables\n",
      "v=12; #potential diff. in volt\n",
      "i=20; #current in Ampere\n",
      "t=3600; #time in sec\n",
      "\n",
      "#CALCULATIONS\n",
      "p=v*i; #power in Watt using p=v*i\n",
      "w=p*t; #calculating work in Joule using w=p*t\n",
      "\n",
      "#RESULTS\n",
      "print\"Work done in Joule =\",round(w,3);"
     ],
     "language": "python",
     "metadata": {},
     "outputs": [
      {
       "output_type": "stream",
       "stream": "stdout",
       "text": [
        "Work done in Joule = 864000.0\n"
       ]
      }
     ],
     "prompt_number": 7
    },
    {
     "cell_type": "heading",
     "level": 2,
     "metadata": {},
     "source": [
      "Example 13.12 , Page no:77"
     ]
    },
    {
     "cell_type": "code",
     "collapsed": false,
     "input": [
      "import math\n",
      "from __future__ import division\n",
      " \n",
      "#initialisation of variables\n",
      "p=60; #power in Watt\n",
      "c=80; #car capacity in Ampere.hr\n",
      "t=3600; #time in seconds\n",
      "v=12; #potential diff. in volt\n",
      "\n",
      "#CALCULATIONS\n",
      "q=c*t; #charge in Ampere.sec = Coulomb\n",
      "w=q*v; #energy provided in Joule\n",
      "t=w/p; #calculating time in second\n",
      "t1=t/3600;\n",
      "\n",
      "#RESULTS\n",
      "print\"(a) Energy stored in the battery in Joule =\",round(w,3);\n",
      "print\"(b) Time the battery is on in hours =\",round(t1,3);"
     ],
     "language": "python",
     "metadata": {},
     "outputs": [
      {
       "output_type": "stream",
       "stream": "stdout",
       "text": [
        "(a) Energy stored in the battery in Joule = 3456000.0\n",
        "(b) Time the battery is on in hours = 16.0\n"
       ]
      }
     ],
     "prompt_number": 8
    },
    {
     "cell_type": "heading",
     "level": 2,
     "metadata": {},
     "source": [
      "Example 13.13 , Page no:78"
     ]
    },
    {
     "cell_type": "code",
     "collapsed": false,
     "input": [
      "import math\n",
      "from __future__ import division\n",
      " \n",
      "#initialisation of variables\n",
      "v=600; #potential diff. in volt\n",
      "i=10; #current in Ampere\n",
      "\n",
      "#CALCULATIONS\n",
      "r=v/i; #calculating resistence in ohm using ohm's law ie.v=i*r\n",
      "\n",
      "#RESULTS\n",
      "print\"Resistence in Ohm =\",round(r,3);"
     ],
     "language": "python",
     "metadata": {},
     "outputs": [
      {
       "output_type": "stream",
       "stream": "stdout",
       "text": [
        "Resistence in Ohm = 60.0\n"
       ]
      }
     ],
     "prompt_number": 9
    },
    {
     "cell_type": "heading",
     "level": 2,
     "metadata": {},
     "source": [
      "Example 13.14 , Page no:78"
     ]
    },
    {
     "cell_type": "code",
     "collapsed": false,
     "input": [
      "import math\n",
      "from __future__ import division\n",
      " \n",
      "#initialisation of variables\n",
      "v=60; #potential diff in volt\n",
      "r1=5; #resistance in Ohm\n",
      "r2=5; #resistance in Ohm\n",
      "r3=5; #resistance in Ohm\n",
      "\n",
      "#CALCULATIONS\n",
      "r=r1+r2+r3; #resistance in series\n",
      "i=v/r; #calculating current in Ampere using Ohm's law ie. V=I*R\n",
      "\n",
      "#RESULTS\n",
      "print\"Resistance in Series in Ohm =\",round(r,3);\n",
      "print\"Current in the entire circuit in Ampere =\",round(i,3);"
     ],
     "language": "python",
     "metadata": {},
     "outputs": [
      {
       "output_type": "stream",
       "stream": "stdout",
       "text": [
        "Resistance in Series in Ohm = 15.0\n",
        "Current in the entire circuit in Ampere = 4.0\n"
       ]
      }
     ],
     "prompt_number": 10
    },
    {
     "cell_type": "heading",
     "level": 2,
     "metadata": {},
     "source": [
      "Example 13.15 , Page no:78"
     ]
    },
    {
     "cell_type": "code",
     "collapsed": false,
     "input": [
      "import math\n",
      "from __future__ import division\n",
      " \n",
      "#initialisation of variables\n",
      "v=60; #potential diff in volt\n",
      "r=5; #resistance in Ohm\n",
      "r1=5; #resistance in Ohm\n",
      "r2=5; #resistance in Ohm\n",
      "r3=5; #resistance in Ohm\n",
      "\n",
      "#CALCULATIONS\n",
      "rp=(r1)**-1+(r2)**-1+(r3)**-1; #resistance in series\n",
      "i=v/r; #calculating current in Ampere using Ohm's law ie. V=I*R\n",
      "rp1=rp**-1;\n",
      "\n",
      "#RESULTS\n",
      "print\"Resistance in Parallel in Ohm =\",round(rp1,3);\n",
      "print\"Current in the entire circuit in Ampere =\",round(i,3);"
     ],
     "language": "python",
     "metadata": {},
     "outputs": [
      {
       "output_type": "stream",
       "stream": "stdout",
       "text": [
        "Resistance in Parallel in Ohm = 1.667\n",
        "Current in the entire circuit in Ampere = 12.0\n"
       ]
      }
     ],
     "prompt_number": 11
    },
    {
     "cell_type": "heading",
     "level": 2,
     "metadata": {},
     "source": [
      "Example 13.16 , Page no:78"
     ]
    },
    {
     "cell_type": "code",
     "collapsed": false,
     "input": [
      "import math\n",
      "from __future__ import division\n",
      " \n",
      "#initialisation of variables\n",
      "v=120; #potential diff in volt\n",
      "r1=240; #resistance in ohm\n",
      "r2=240; #resistance in ohm\n",
      "\n",
      "#CALCULATIONS\n",
      "r=r1+r2; #resistance in series\n",
      "i=v/r; #calculating current in Ampere using Ohm's law\n",
      "p=i*i*r1; #calculating power dissipated in each bulb in Watt\n",
      "\n",
      "#RESULTS\n",
      "print\"(a)Current in each bulb in Ampere =\",round(i,3);\n",
      "print\"(b)Power dissipated in each bulb in Watt =\",round(p,3);"
     ],
     "language": "python",
     "metadata": {},
     "outputs": [
      {
       "output_type": "stream",
       "stream": "stdout",
       "text": [
        "(a)Current in each bulb in Ampere = 0.25\n",
        "(b)Power dissipated in each bulb in Watt = 15.0\n"
       ]
      }
     ],
     "prompt_number": 12
    },
    {
     "cell_type": "heading",
     "level": 2,
     "metadata": {},
     "source": [
      "Example 13.17 , Page no:79"
     ]
    },
    {
     "cell_type": "code",
     "collapsed": false,
     "input": [
      "import math\n",
      "from __future__ import division\n",
      " \n",
      "#initialisation of variables\n",
      "v=120; #potential diff in volt\n",
      "r=240; #resistance in ohm\n",
      "\n",
      "#CALCULATIONS\n",
      "i=v/r; #current in Ampere using Ohm's law\n",
      "p=i*i*r; #power in Watt\n",
      "\n",
      "#RESULTS\n",
      "print\"(a)Current in each bulb in Ampere =\",round(i,3);\n",
      "print\"Power dissipated in each bulb in Watt =\",round(p,3);"
     ],
     "language": "python",
     "metadata": {},
     "outputs": [
      {
       "output_type": "stream",
       "stream": "stdout",
       "text": [
        "(a)Current in each bulb in Ampere = 0.5\n",
        "Power dissipated in each bulb in Watt = 60.0\n"
       ]
      }
     ],
     "prompt_number": 13
    }
   ],
   "metadata": {}
  }
 ]
}