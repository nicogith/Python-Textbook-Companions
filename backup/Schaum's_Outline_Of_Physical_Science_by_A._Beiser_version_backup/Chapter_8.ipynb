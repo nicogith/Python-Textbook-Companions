{
 "metadata": {
  "name": "",
  "signature": "sha256:b52d58ee7675b8feb9f8e55182ef2e348401a356b4487a9a97590d0db24c1cbe"
 },
 "nbformat": 3,
 "nbformat_minor": 0,
 "worksheets": [
  {
   "cells": [
    {
     "cell_type": "heading",
     "level": 2,
     "metadata": {},
     "source": [
      "Chapter 8 :Fluids"
     ]
    },
    {
     "cell_type": "heading",
     "level": 2,
     "metadata": {},
     "source": [
      "Example 8.3 , Page no:46"
     ]
    },
    {
     "cell_type": "code",
     "collapsed": false,
     "input": [
      "import math\n",
      "from __future__ import division\n",
      "\n",
      "#initialisation of variables\n",
      "dg=1200; #density in lb/ft cube\n",
      "v=1/1728; #in ft cube/in cube\n",
      "\n",
      "#CALCULATIONS\n",
      "w=dg*v; #calculating weight\n",
      "\n",
      "#RESULTS\n",
      "print\"Weight in lb =\",round(w,3);"
     ],
     "language": "python",
     "metadata": {},
     "outputs": [
      {
       "output_type": "stream",
       "stream": "stdout",
       "text": [
        "Weight in lb = 0.694\n"
       ]
      }
     ],
     "prompt_number": 1
    },
    {
     "cell_type": "heading",
     "level": 2,
     "metadata": {},
     "source": [
      "Example 8.4 , Page no:46"
     ]
    },
    {
     "cell_type": "code",
     "collapsed": false,
     "input": [
      "import math\n",
      "from __future__ import division\n",
      "\n",
      "#initialisation of variables\n",
      "m=58; #mass in kg\n",
      "v=0.1*0.2*4; #calculating volume using v=l*b*h in m cube\n",
      "dw=1000; #density of water in kg/m cube\n",
      "\n",
      "#CALCULATIONS\n",
      "d=m/v; #calculating density using d=m/v in kg/m cube\n",
      "spgr=d/dw; #calculating specific gravity of oak\n",
      "\n",
      "#RESULTS\n",
      "print\"Specific Gravity of Oak =\",round(spgr,3);\n",
      "print\"Since specific gravity of oak is less than that of water (ie. 1), it floats in water\";"
     ],
     "language": "python",
     "metadata": {},
     "outputs": [
      {
       "output_type": "stream",
       "stream": "stdout",
       "text": [
        "Specific Gravity of Oak = 0.725\n",
        "Since specific gravity of oak is less than that of water (ie. 1), it floats in water\n"
       ]
      }
     ],
     "prompt_number": 2
    },
    {
     "cell_type": "heading",
     "level": 2,
     "metadata": {},
     "source": [
      "Example 8.5 , Page no:46"
     ]
    },
    {
     "cell_type": "code",
     "collapsed": false,
     "input": [
      "import math\n",
      "from __future__ import division\n",
      " \n",
      "#initialisation of variables\n",
      "dg=0.08; #weight density of air in lb/ft cube\n",
      "v=12*12*10; #calculating volume using v=l*b*h in ft cube\n",
      "\n",
      "#CALCULATIONS\n",
      "w=dg*v; #calculating weight in lb using weight=weight density*volume\n",
      "\n",
      "#RESULTS\n",
      "print\"Weight of the air in lb =\",round(w,3);"
     ],
     "language": "python",
     "metadata": {},
     "outputs": [
      {
       "output_type": "stream",
       "stream": "stdout",
       "text": [
        "Weight of the air in lb = 115.2\n"
       ]
      }
     ],
     "prompt_number": 3
    },
    {
     "cell_type": "heading",
     "level": 2,
     "metadata": {},
     "source": [
      "Example 8.6 , Page no:46"
     ]
    },
    {
     "cell_type": "code",
     "collapsed": false,
     "input": [
      "import math\n",
      "from __future__ import division\n",
      " \n",
      "#initialisation of variables\n",
      "w=500; #weight in lb\n",
      "dg=62; #density in lb/ft cube\n",
      "\n",
      "#CALCULATIONS\n",
      "v=w/dg; #calculating volume using density=mass/volume\n",
      "\n",
      "#RESULTS\n",
      "print\"Volume in ft cube =\",round(v,3);"
     ],
     "language": "python",
     "metadata": {},
     "outputs": [
      {
       "output_type": "stream",
       "stream": "stdout",
       "text": [
        "Volume in ft cube = 8.065\n"
       ]
      }
     ],
     "prompt_number": 4
    },
    {
     "cell_type": "heading",
     "level": 2,
     "metadata": {},
     "source": [
      "Example 8.7 , Page no:47"
     ]
    },
    {
     "cell_type": "code",
     "collapsed": false,
     "input": [
      "import math\n",
      "from __future__ import division\n",
      " \n",
      "#initialisation of variables\n",
      "F=130; #force in lb\n",
      "r=1; #radius in inch\n",
      "\n",
      "#CALCULATIONS\n",
      "A=3.14*r*r; #calculating Area using area=pi*r*r in in square\n",
      "p=F/A; #calculating pressure in lb/in square using p=F/area\n",
      "p1=p/14.7;\n",
      "\n",
      "#RESULTS\n",
      "print\"Pressure exerted on ground in lb/in square =\",round(p,3);\n",
      "print\"Times greater than atmospheric pressure =\",round(p1,3);"
     ],
     "language": "python",
     "metadata": {},
     "outputs": [
      {
       "output_type": "stream",
       "stream": "stdout",
       "text": [
        "Pressure exerted on ground in lb/in square = 41.401\n",
        "Times greater than atmospheric pressure = 2.816\n"
       ]
      }
     ],
     "prompt_number": 5
    },
    {
     "cell_type": "heading",
     "level": 2,
     "metadata": {},
     "source": [
      "Example 8.8 , Page no:47"
     ]
    },
    {
     "cell_type": "code",
     "collapsed": false,
     "input": [
      "import math\n",
      "from __future__ import division\n",
      " \n",
      "#initialisation of variables\n",
      "m=20000; #mass in kg\n",
      "A=60; #area in metre square\n",
      "g=9.8; #gravitational constant in m/sec square\n",
      "\n",
      "#CALCULATIONS\n",
      "F=m*g; #calculating force in Newton\n",
      "p=F/A; #calculating pressure in Pascal\n",
      "p1=p/(1.013*10**5);\n",
      "\n",
      "#RESULTS\n",
      "print\"Pressure in Pascal =\",round(p,3);\n",
      "print\"Pressure in atm =\",round(p1,3);"
     ],
     "language": "python",
     "metadata": {},
     "outputs": [
      {
       "output_type": "stream",
       "stream": "stdout",
       "text": [
        "Pressure in Pascal = 3266.667\n",
        "Pressure in atm = 0.032\n"
       ]
      }
     ],
     "prompt_number": 6
    },
    {
     "cell_type": "heading",
     "level": 2,
     "metadata": {},
     "source": [
      "Example 8.9 , Page no:47"
     ]
    },
    {
     "cell_type": "code",
     "collapsed": false,
     "input": [
      "import math\n",
      "from __future__ import division\n",
      " \n",
      "#initialisation of variables\n",
      "pa=14.7; #atm pressure in lb/in square\n",
      "dg=62; #density in lb/ft cube\n",
      "\n",
      "#CALCULATIONS\n",
      "h=6/144; #in ft cube/in square\n",
      "p=pa+(dg*h); #calculating pressure\n",
      "\n",
      "#RESULTS\n",
      "print\"Pressure in lb/in square =\",round(p,3);"
     ],
     "language": "python",
     "metadata": {},
     "outputs": [
      {
       "output_type": "stream",
       "stream": "stdout",
       "text": [
        "Pressure in lb/in square = 17.283\n"
       ]
      }
     ],
     "prompt_number": 7
    },
    {
     "cell_type": "heading",
     "level": 2,
     "metadata": {},
     "source": [
      "Example 8.10 , Page no:47"
     ]
    },
    {
     "cell_type": "code",
     "collapsed": false,
     "input": [
      "import math\n",
      "from __future__ import division\n",
      " \n",
      "#initialisation of variables\n",
      "g=9.8; #gravitational constant in m/sec square\n",
      "d=1.03*10**3; #density of sea water in kg/m cube\n",
      "depth=50; #depth in m\n",
      "side=20; #length of side in cm\n",
      "\n",
      "#CALCULATIONS\n",
      "p=d*depth*g; #calculating pressure on window\n",
      "A=side*side*10**-4; #calculating area in metre square\n",
      "F=p*A; #calculating FOrce in Newton\n",
      "\n",
      "#RESULTS\n",
      "print\"Force acting on window in Newton =\",round(F);"
     ],
     "language": "python",
     "metadata": {},
     "outputs": [
      {
       "output_type": "stream",
       "stream": "stdout",
       "text": [
        "Force acting on window in Newton = 20188.0\n"
       ]
      }
     ],
     "prompt_number": 8
    },
    {
     "cell_type": "heading",
     "level": 2,
     "metadata": {},
     "source": [
      "Example 8.11 , Page no:47"
     ]
    },
    {
     "cell_type": "code",
     "collapsed": false,
     "input": [
      "import math\n",
      "from __future__ import division\n",
      " \n",
      "#initialisation of variables\n",
      "w=200; #weight in lb\n",
      "ds=64; #weight density of seawater in lb/ft cube\n",
      "dg=480; #weight density of iron in lb/ft cube\n",
      "\n",
      "#CALCULATIONS\n",
      "V=w/dg; #calculating V using dg=w/V in ft cube\n",
      "w1=ds*V; #calculating weight of seawater displaced by anchor in lb\n",
      "bf=w-w1; #calculating net force in lb\n",
      "\n",
      "#RESULTS\n",
      "print\"Net Force to support in lb =\",round(bf,3);"
     ],
     "language": "python",
     "metadata": {},
     "outputs": [
      {
       "output_type": "stream",
       "stream": "stdout",
       "text": [
        "Net Force to support in lb = 173.333\n"
       ]
      }
     ],
     "prompt_number": 9
    },
    {
     "cell_type": "heading",
     "level": 2,
     "metadata": {},
     "source": [
      "Example 8.12 , Page no:48"
     ]
    },
    {
     "cell_type": "code",
     "collapsed": false,
     "input": [
      "import math\n",
      "from __future__ import division\n",
      " \n",
      "#initialisation of variables\n",
      "r=2; #side in m\n",
      "m=70; #mass of man in kg\n",
      "d=10**3; #density in kg/m cube\n",
      "\n",
      "#CALCULATIONS\n",
      "V=m/d; #calculating Volume in m cube\n",
      "A=r*r; #calculating area in m square\n",
      "h=V/A; #calculating height using vol=height*area in metre\n",
      "\n",
      "#RESULTS\n",
      "print\"Height in metre =\",round(h,3);"
     ],
     "language": "python",
     "metadata": {},
     "outputs": [
      {
       "output_type": "stream",
       "stream": "stdout",
       "text": [
        "Height in metre = 0.018\n"
       ]
      }
     ],
     "prompt_number": 10
    },
    {
     "cell_type": "heading",
     "level": 2,
     "metadata": {},
     "source": [
      "Example 8.13 , Page no:48"
     ]
    },
    {
     "cell_type": "code",
     "collapsed": false,
     "input": [
      "import math\n",
      "from __future__ import division\n",
      " \n",
      "#initialisation of variables\n",
      "dice=920; #desity of ice in kg/m cube\n",
      "dwater=1030; #density of water in kg/m cube\n",
      "\n",
      "#CALCULATIONS\n",
      "vsub=dice/dwater; #calculating percentage volume of iceberg that is submerged using relation:dice*g*v=dwater*g*vsub\n",
      "vsub1=vsub*100;\n",
      "\n",
      "#RESULTS\n",
      "print\"Percentage of volume of submerged iceberg =\",round(vsub1,3);"
     ],
     "language": "python",
     "metadata": {},
     "outputs": [
      {
       "output_type": "stream",
       "stream": "stdout",
       "text": [
        "Percentage of volume of submerged iceberg = 89.32\n"
       ]
      }
     ],
     "prompt_number": 11
    },
    {
     "cell_type": "heading",
     "level": 2,
     "metadata": {},
     "source": [
      "Example 8.14 , Page no:48"
     ]
    },
    {
     "cell_type": "code",
     "collapsed": false,
     "input": [
      "import math\n",
      "from __future__ import division\n",
      " \n",
      "#initialisation of variables\n",
      "v=100*0.134; #volume in ft cube\n",
      "w1=50; #weight in lb\n",
      "dg=42; #density in lb/ft cube\n",
      "dgw=64; #density in lb/ft cube\n",
      "\n",
      "#CALCULATIONS\n",
      "w=w1+(dg*v); #calculating weight\n",
      "F=dgw*v; #calculating force\n",
      "\n",
      "#RESULTS\n",
      "print\"Weight in lb =\",round(w,3);\n",
      "print\"Maximumforce in lb =\",round(F,3);"
     ],
     "language": "python",
     "metadata": {},
     "outputs": [
      {
       "output_type": "stream",
       "stream": "stdout",
       "text": [
        "Weight in lb = 612.8\n",
        "Maximumforce in lb = 857.6\n"
       ]
      }
     ],
     "prompt_number": 12
    },
    {
     "cell_type": "heading",
     "level": 2,
     "metadata": {},
     "source": [
      "Example 8.15 , Page no:48"
     ]
    },
    {
     "cell_type": "code",
     "collapsed": false,
     "input": [
      "import math\n",
      "from __future__ import division\n",
      " \n",
      "#initialisation of variables\n",
      "w1=40000; #weight in lb\n",
      "dga=0.08; #density in lb/ft cube\n",
      "dgh=0.011; #density in lb/ft cube\n",
      "\n",
      "#CALCULATIONS\n",
      "v=w1/(dga-dgh); #calculating volume\n",
      "\n",
      "#RESULTS\n",
      "print\"Volume in ft cube =\",round(v,3);"
     ],
     "language": "python",
     "metadata": {},
     "outputs": [
      {
       "output_type": "stream",
       "stream": "stdout",
       "text": [
        "Volume in ft cube = 579710.145\n"
       ]
      }
     ],
     "prompt_number": 13
    }
   ],
   "metadata": {}
  }
 ]
}