{
 "metadata": {
  "name": "",
  "signature": "sha256:acfdfe9660947a20ee1b5a434015027937d0a94cd559519f5df4deaefaed6944"
 },
 "nbformat": 3,
 "nbformat_minor": 0,
 "worksheets": [
  {
   "cells": [
    {
     "cell_type": "heading",
     "level": 1,
     "metadata": {},
     "source": [
      "Chapter 1: Physical Quantities"
     ]
    },
    {
     "cell_type": "heading",
     "level": 2,
     "metadata": {},
     "source": [
      "Example 1.1 , Page no:3"
     ]
    },
    {
     "cell_type": "code",
     "collapsed": false,
     "input": [
      "import math\n",
      "from __future__ import division\n",
      "\n",
      "#initialisation of variables\n",
      "print\"2*10^1\";\n",
      "print\"3.043*10^3\";\n",
      "print\"8.7*10^6\";\n",
      "print\"2.2*10^-1\";\n",
      "print\"3.5*10^-1\";"
     ],
     "language": "python",
     "metadata": {},
     "outputs": [
      {
       "output_type": "stream",
       "stream": "stdout",
       "text": [
        "2*10^1\n",
        "3.043*10^3\n",
        "8.7*10^6\n",
        "2.2*10^-1\n",
        "3.5*10^-1\n"
       ]
      }
     ],
     "prompt_number": 1
    },
    {
     "cell_type": "heading",
     "level": 2,
     "metadata": {},
     "source": [
      "Example 1.2 , Page no:4"
     ]
    },
    {
     "cell_type": "code",
     "collapsed": false,
     "input": [
      "import math\n",
      "from __future__ import division\n",
      "\n",
      "#initialisation of variables\n",
      "a=6*10**2+5*10**4;\n",
      "b=2*10**-2+3*10**-3;\n",
      "c=7+2*10**-2;\n",
      "d=6*10**4-4*10**2;\n",
      "e=3*10**-2-5*10-3;\n",
      "f=7*10**-5-2*10**-4;\n",
      "g=6.23*10**-3-6.28*10**-3;\n",
      "\n",
      "#RESULTS\n",
      "print '%.2E'%a;\n",
      "print '%.2E'%b;\n",
      "print c;\n",
      "print '%.2E'%d;\n",
      "print '%.2E'%e;\n",
      "print '%.2E'%f;\n",
      "print '%.2E'%g;"
     ],
     "language": "python",
     "metadata": {},
     "outputs": [
      {
       "output_type": "stream",
       "stream": "stdout",
       "text": [
        "5.06E+04\n",
        "2.30E-02\n",
        "7.02\n",
        "5.96E+04\n",
        "-5.30E+01\n",
        "-1.30E-04\n",
        "-5.00E-05\n"
       ]
      }
     ],
     "prompt_number": 2
    },
    {
     "cell_type": "heading",
     "level": 2,
     "metadata": {},
     "source": [
      "Example 1.3 , Page no:4"
     ]
    },
    {
     "cell_type": "code",
     "collapsed": false,
     "input": [
      "import math\n",
      "from __future__ import division\n",
      "\n",
      "#initialisation of variables\n",
      "a=10**5*10**-2;\n",
      "b=10**4/10**-3;\n",
      "c=10**3/10**6;\n",
      "d=10**5*10**-7/10**2;\n",
      "\n",
      "#RESULTS\n",
      "print '%.2E'%a;\n",
      "print '%.2E'%b;\n",
      "print '%.2E'%c;\n",
      "print '%.2E'%d;"
     ],
     "language": "python",
     "metadata": {},
     "outputs": [
      {
       "output_type": "stream",
       "stream": "stdout",
       "text": [
        "1.00E+03\n",
        "1.00E+07\n",
        "1.00E-03\n",
        "1.00E-04\n"
       ]
      }
     ],
     "prompt_number": 3
    },
    {
     "cell_type": "heading",
     "level": 2,
     "metadata": {},
     "source": [
      "Example 1.4 , Page no:4"
     ]
    },
    {
     "cell_type": "code",
     "collapsed": false,
     "input": [
      "import math\n",
      "from __future__ import division\n",
      "\n",
      "#initialisation of variables\n",
      "a=(460*0.00003*100000)/(9000*0.0062);\n",
      "\n",
      "#RESULTS\n",
      "print round(a);"
     ],
     "language": "python",
     "metadata": {},
     "outputs": [
      {
       "output_type": "stream",
       "stream": "stdout",
       "text": [
        "25.0\n"
       ]
      }
     ],
     "prompt_number": 4
    },
    {
     "cell_type": "heading",
     "level": 2,
     "metadata": {},
     "source": [
      "Example 1.5 , Page no:4"
     ]
    },
    {
     "cell_type": "code",
     "collapsed": false,
     "input": [
      "import math\n",
      "from __future__ import division\n",
      "\n",
      "#initialisation of variables\n",
      "a=10**2*10**4;\n",
      "b=10**-15;\n",
      "c=10**12;\n",
      "d=(3*10**3)**3;\n",
      "e=((4*10**-5)**3);\n",
      "f=((2*10**-2)**-4);\n",
      "\n",
      "#RESULTS\n",
      "print '%.2E'%a;\n",
      "print '%.2E'%b;\n",
      "print '%.2E'%c;\n",
      "print '%.2E'%d;\n",
      "print '%.2E'%e;\n",
      "print '%.2E'%f;"
     ],
     "language": "python",
     "metadata": {},
     "outputs": [
      {
       "output_type": "stream",
       "stream": "stdout",
       "text": [
        "1.00E+06\n",
        "1.00E-15\n",
        "1.00E+12\n",
        "2.70E+10\n",
        "6.40E-14\n",
        "6.25E+06\n"
       ]
      }
     ],
     "prompt_number": 5
    },
    {
     "cell_type": "heading",
     "level": 2,
     "metadata": {},
     "source": [
      "Example 1.6 , Page no:4"
     ]
    },
    {
     "cell_type": "code",
     "collapsed": false,
     "input": [
      "import math\n",
      "from __future__ import division\n",
      "\n",
      "#initialisation of variables\n",
      "a=(math.sqrt(10**6));\n",
      "b=(math.sqrt(5*10**4));\n",
      "c=(math.sqrt(3*10**5));\n",
      "d=(math.sqrt(0.000025));\n",
      "\n",
      "#RESULTS\n",
      "print '%.2E'%a;\n",
      "print '%.2E'%b;\n",
      "print '%.2E'%c;\n",
      "print '%.2E'%d;"
     ],
     "language": "python",
     "metadata": {},
     "outputs": [
      {
       "output_type": "stream",
       "stream": "stdout",
       "text": [
        "1.00E+03\n",
        "2.24E+02\n",
        "5.48E+02\n",
        "5.00E-03\n"
       ]
      }
     ],
     "prompt_number": 6
    },
    {
     "cell_type": "heading",
     "level": 2,
     "metadata": {},
     "source": [
      "Example 1.7 , Page no:4"
     ]
    },
    {
     "cell_type": "code",
     "collapsed": false,
     "input": [
      "import math\n",
      "from __future__ import division\n",
      "\n",
      "#initialisation of variables\n",
      "a=(10**3);\n",
      "b=(10**(8/3));\n",
      "c=((3.8*10**19)**(1/3));\n",
      "d=((2.7*10**-5)**(1/3));\n",
      "\n",
      "#RESULTS\n",
      "print '%.2E'%a;\n",
      "print '%.2E'%b;\n",
      "print '%.2E'%c;\n",
      "print '%.2E'%d;"
     ],
     "language": "python",
     "metadata": {},
     "outputs": [
      {
       "output_type": "stream",
       "stream": "stdout",
       "text": [
        "1.00E+03\n",
        "4.64E+02\n",
        "3.36E+06\n",
        "3.00E-02\n"
       ]
      }
     ],
     "prompt_number": 7
    },
    {
     "cell_type": "heading",
     "level": 2,
     "metadata": {},
     "source": [
      "Example 1.8 , Page no:5"
     ]
    },
    {
     "cell_type": "code",
     "collapsed": false,
     "input": [
      "import math\n",
      "from __future__ import division\n",
      "\n",
      "#initialisation of variables\n",
      "a=(1440*0.621); \n",
      "\n",
      "#RESULTS\n",
      "print\"Distance in miles =\",round(a,3);"
     ],
     "language": "python",
     "metadata": {},
     "outputs": [
      {
       "output_type": "stream",
       "stream": "stdout",
       "text": [
        "Distance in miles = 894.24\n"
       ]
      }
     ],
     "prompt_number": 8
    },
    {
     "cell_type": "heading",
     "level": 2,
     "metadata": {},
     "source": [
      "Example 1.9 , Page no:5"
     ]
    },
    {
     "cell_type": "code",
     "collapsed": false,
     "input": [
      "import math\n",
      "from __future__ import division\n",
      "\n",
      "#initialisation of variables\n",
      "a=(74*2.54);\n",
      "\n",
      "#RESULTS\n",
      "print\"Height in cm =\",round(a);"
     ],
     "language": "python",
     "metadata": {},
     "outputs": [
      {
       "output_type": "stream",
       "stream": "stdout",
       "text": [
        "Height in cm = 188.0\n"
       ]
      }
     ],
     "prompt_number": 9
    },
    {
     "cell_type": "heading",
     "level": 2,
     "metadata": {},
     "source": [
      "Example 1.10 , Page no:5"
     ]
    },
    {
     "cell_type": "code",
     "collapsed": false,
     "input": [
      "import math\n",
      "from __future__ import division\n",
      "\n",
      "#initialisation of variables\n",
      "a=(1*3.28*3.28);\n",
      "\n",
      "#RESULTS\n",
      "print\"In ft square=\",round(a,3);"
     ],
     "language": "python",
     "metadata": {},
     "outputs": [
      {
       "output_type": "stream",
       "stream": "stdout",
       "text": [
        "In ft square= 10.758\n"
       ]
      }
     ],
     "prompt_number": 10
    },
    {
     "cell_type": "heading",
     "level": 2,
     "metadata": {},
     "source": [
      "Example 1.11 , Page no:5"
     ]
    },
    {
     "cell_type": "code",
     "collapsed": false,
     "input": [
      "import math\n",
      "from __future__ import division\n",
      "\n",
      "#initialisation of variables\n",
      "a=((60*5280)/3600);\n",
      "\n",
      "print\"Velocity in ft/sec =\",round(a);"
     ],
     "language": "python",
     "metadata": {},
     "outputs": [
      {
       "output_type": "stream",
       "stream": "stdout",
       "text": [
        "Velocity in ft/sec = 88.0\n"
       ]
      }
     ],
     "prompt_number": 11
    }
   ],
   "metadata": {}
  }
 ]
}