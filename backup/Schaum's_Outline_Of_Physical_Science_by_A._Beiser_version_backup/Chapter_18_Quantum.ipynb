{
 "metadata": {
  "name": "",
  "signature": "sha256:340f21883c83153f317294129032a542164820eee8afd0b1811b147bdb59e3d0"
 },
 "nbformat": 3,
 "nbformat_minor": 0,
 "worksheets": [
  {
   "cells": [
    {
     "cell_type": "heading",
     "level": 1,
     "metadata": {},
     "source": [
      "Chapter 18 :Quantum Physics"
     ]
    },
    {
     "cell_type": "heading",
     "level": 2,
     "metadata": {},
     "source": [
      "Example 18.1 , Page no:108"
     ]
    },
    {
     "cell_type": "code",
     "collapsed": false,
     "input": [
      "import math\n",
      "from __future__ import division\n",
      " \n",
      "#initialisation of variables\n",
      "f=5*10**14; #frequency in Hz (given)\n",
      "h=6.63*10**-34; #planck's constant in J.sec\n",
      "\n",
      "#CALCULATIONS\n",
      "E=h*f; #calculating energy\n",
      "E1=3*E;\n",
      "\n",
      "#RESULTS\n",
      "print\"Total Energy in Joule =\",'%.3E'%E1;"
     ],
     "language": "python",
     "metadata": {},
     "outputs": [
      {
       "output_type": "stream",
       "stream": "stdout",
       "text": [
        "Total Energy in Joule = 9.945E-19\n"
       ]
      }
     ],
     "prompt_number": 1
    },
    {
     "cell_type": "heading",
     "level": 2,
     "metadata": {},
     "source": [
      "Example 18.2 , Page no:108"
     ]
    },
    {
     "cell_type": "code",
     "collapsed": false,
     "input": [
      "import math\n",
      "from __future__ import division\n",
      " \n",
      "#initialisation of variables\n",
      "c=3*10**8; #velocity in m/sec\n",
      "l=5.5*10**-7; #wavelength in m\n",
      "h=6.63*10**-34; #planck's constant in J.sec\n",
      "\n",
      "#CALCULATIONS\n",
      "f=c/l; #calculating frequency\n",
      "E=h*f; #calculating energy\n",
      "E1=100/E;\n",
      "\n",
      "#RESULTS\n",
      "print\"Frequency in Hz =\",'%.3E'%f;\n",
      "print\"Energy in Joule =\",'%.3E'%E;\n",
      "print\"No. of photons emitted per second =\",'%.3E'%E1;"
     ],
     "language": "python",
     "metadata": {},
     "outputs": [
      {
       "output_type": "stream",
       "stream": "stdout",
       "text": [
        "Frequency in Hz = 5.455E+14\n",
        "Energy in Joule = 3.616E-19\n",
        "No. of photons emitted per second = 2.765E+20\n"
       ]
      }
     ],
     "prompt_number": 2
    },
    {
     "cell_type": "heading",
     "level": 2,
     "metadata": {},
     "source": [
      "Example 18.3 , Page no:109"
     ]
    },
    {
     "cell_type": "code",
     "collapsed": false,
     "input": [
      "import math\n",
      "from __future__ import division\n",
      " \n",
      "#initialisation of variables\n",
      "m=9.1*10**-31; #mass of electron in kg\n",
      "v=10**7; #velocity in m/sec\n",
      "\n",
      "#CALCULATIONS\n",
      "KE=(1/2)*m*v*v; #calculating kinetic energy in Joule\n",
      "KE1=KE/(1.6*10**-19);\n",
      "\n",
      "#RESULTS\n",
      "print\"Kinetic energy in Joule =\",'%.3E'%KE;\n",
      "print\"Kinetic energy in eV =\",round(KE1,3);"
     ],
     "language": "python",
     "metadata": {},
     "outputs": [
      {
       "output_type": "stream",
       "stream": "stdout",
       "text": [
        "Kinetic energy in Joule = 4.550E-17\n",
        "Kinetic energy in eV = 284.375\n"
       ]
      }
     ],
     "prompt_number": 3
    },
    {
     "cell_type": "heading",
     "level": 2,
     "metadata": {},
     "source": [
      "Example 18.4 , Page no:109"
     ]
    },
    {
     "cell_type": "code",
     "collapsed": false,
     "input": [
      "import math\n",
      "from __future__ import division\n",
      " \n",
      "#initialisation of variables\n",
      "e=1.6*10**-19; #charge\n",
      "ke=200; #kinetic energy in eV\n",
      "m=1.67*10**-27; #mass in kg\n",
      "\n",
      "#CALCULATIONS\n",
      "KE=ke*e; #calculating kinetic energy\n",
      "v=math.sqrt((2*KE)/m);  #calculating velocity\n",
      "\n",
      "#RESULTS\n",
      "print\"Kinetic Energy in Joule =\",'%.3E'%KE;\n",
      "print\"Velocity in m/sec =\",round(v,3);"
     ],
     "language": "python",
     "metadata": {},
     "outputs": [
      {
       "output_type": "stream",
       "stream": "stdout",
       "text": [
        "Kinetic Energy in Joule = 3.200E-17\n",
        "Velocity in m/sec = 195763.514\n"
       ]
      }
     ],
     "prompt_number": 4
    },
    {
     "cell_type": "heading",
     "level": 2,
     "metadata": {},
     "source": [
      "Example 18.5 , Page no:109"
     ]
    },
    {
     "cell_type": "code",
     "collapsed": false,
     "input": [
      "import math\n",
      "from __future__ import division\n",
      " \n",
      "#initialisation of variables\n",
      "e=1.6*10**-19; #charge\n",
      "c=3*10**8; #velocity in m/sec\n",
      "ke=106*10**6; #kinetic energy in eV\n",
      "\n",
      "#CALCULATIONS\n",
      "KE=ke*e; #calculating kinetic energy\n",
      "m=KE/(c*c); #Einstein's equation\n",
      "m1=m/(9.1*10**-31);\n",
      "\n",
      "#RESULTS\n",
      "print\"Kinetic Energy in Joule =\",'%.3E'%KE;\n",
      "print\"Mass in kg =\",'%.3E'%m;\n",
      "print\"Times electron mass =\",round(m1,3);"
     ],
     "language": "python",
     "metadata": {},
     "outputs": [
      {
       "output_type": "stream",
       "stream": "stdout",
       "text": [
        "Kinetic Energy in Joule = 1.696E-11\n",
        "Mass in kg = 1.884E-28\n",
        "Times electron mass = 207.082\n"
       ]
      }
     ],
     "prompt_number": 5
    },
    {
     "cell_type": "heading",
     "level": 2,
     "metadata": {},
     "source": [
      "Example 18.6 , Page no:109"
     ]
    },
    {
     "cell_type": "code",
     "collapsed": false,
     "input": [
      "import math\n",
      "from __future__ import division\n",
      " \n",
      "#initialisation of variables\n",
      "e=1.6*10**-19; #charge\n",
      "c=3*10**8; #velocity in m/sec\n",
      "KE=1.6*10**-19; #change in energy\n",
      "\n",
      "#CALCULATIONS\n",
      "m=KE/(c*c); #Einstein's equation\n",
      "m1=m/(3*10**-26);\n",
      "\n",
      "#RESULTS\n",
      "print\"Mass in kg =\",'%.3E'%m;\n",
      "print\"Times mass of H20 molecule =\",'%.3E'%m1;"
     ],
     "language": "python",
     "metadata": {},
     "outputs": [
      {
       "output_type": "stream",
       "stream": "stdout",
       "text": [
        "Mass in kg = 1.778E-36\n",
        "Times mass of H20 molecule = 5.926E-11\n"
       ]
      }
     ],
     "prompt_number": 6
    },
    {
     "cell_type": "heading",
     "level": 2,
     "metadata": {},
     "source": [
      "Example 18.7 , Page no:109"
     ]
    },
    {
     "cell_type": "code",
     "collapsed": false,
     "input": [
      "import math\n",
      "from __future__ import division\n",
      " \n",
      "#initialisation of variables\n",
      "c=3*10**8; #velocity in m/sec\n",
      "l=5*10**-7; #wavelength in m\n",
      "h=6.63*10**-34; #planck's constant in J.sec\n",
      "\n",
      "#CALCULATIONS\n",
      "f=c/l; #calculating frequency\n",
      "E=h*f; #calculating energy\n",
      "E1=E/(1.6*10**-19);\n",
      "\n",
      "#RESULTS\n",
      "print\"Frequency in Hz =\",'%.3E'%f;\n",
      "print\"Energy in Joule =\",'%.3E'%E;\n",
      "print\"(a)Max. energy of photons that emerge =\",round(E1,3);"
     ],
     "language": "python",
     "metadata": {},
     "outputs": [
      {
       "output_type": "stream",
       "stream": "stdout",
       "text": [
        "Frequency in Hz = 6.000E+14\n",
        "Energy in Joule = 3.978E-19\n",
        "(a)Max. energy of photons that emerge = 2.486\n"
       ]
      }
     ],
     "prompt_number": 7
    },
    {
     "cell_type": "heading",
     "level": 2,
     "metadata": {},
     "source": [
      "Example 18.8 , Page no:110"
     ]
    },
    {
     "cell_type": "code",
     "collapsed": false,
     "input": [
      "import math\n",
      "from __future__ import division\n",
      " \n",
      "#initialisation of variables\n",
      "h=6.63*10**-34; #planck's constant in J.sec\n",
      "e=1.6*10**-19; #in Coloumb\n",
      "V=10**4; #potential difference in Volt\n",
      "\n",
      "#CALCULATIONS\n",
      "f=(e*V)/h; #calculating frequency\n",
      "\n",
      "#RESULTS\n",
      "print\"Frequency in Hz =\",'%.3E'%f;"
     ],
     "language": "python",
     "metadata": {},
     "outputs": [
      {
       "output_type": "stream",
       "stream": "stdout",
       "text": [
        "Frequency in Hz = 2.413E+18\n"
       ]
      }
     ],
     "prompt_number": 8
    },
    {
     "cell_type": "heading",
     "level": 2,
     "metadata": {},
     "source": [
      "Example 18.9 , Page no:110"
     ]
    },
    {
     "cell_type": "code",
     "collapsed": false,
     "input": [
      "import math\n",
      "from __future__ import division\n",
      " \n",
      "#initialisation of variables\n",
      "c=3*10**8; #velocity in m/sec\n",
      "l=2*10**-11; #wavelength in m\n",
      "e=1.6*10**-19; #in Coloumb\n",
      "h=6.63*10**-34; #planck's constant in J.sec\n",
      "\n",
      "#CALCULATIONS\n",
      "f=c/l; #calculating frequency\n",
      "V=(h*f)/e; #calculating energy\n",
      "\n",
      "#RESULTS\n",
      "print\"Frequency in Hz =\",'%.3E'%f;\n",
      "print\"operating Voltage in Volt =\",round(V,3);"
     ],
     "language": "python",
     "metadata": {},
     "outputs": [
      {
       "output_type": "stream",
       "stream": "stdout",
       "text": [
        "Frequency in Hz = 1.500E+19\n",
        "operating Voltage in Volt = 62156.25\n"
       ]
      }
     ],
     "prompt_number": 9
    },
    {
     "cell_type": "heading",
     "level": 2,
     "metadata": {},
     "source": [
      "Example 18.10 , Page no:110"
     ]
    },
    {
     "cell_type": "code",
     "collapsed": false,
     "input": [
      "import math\n",
      "from __future__ import division\n",
      " \n",
      "#initialisation of variables\n",
      "m=10**3; #mass in kg\n",
      "v=20; #velocity in m/sec\n",
      "h=6.63*10**-34; #planck's constant in J.sec\n",
      "\n",
      "#CALCULATIONS\n",
      "l=h/(m*v); #calculating energy\n",
      "\n",
      "#RESULTS\n",
      "print\"Wavelength in m =\",'%.3E'%l;"
     ],
     "language": "python",
     "metadata": {},
     "outputs": [
      {
       "output_type": "stream",
       "stream": "stdout",
       "text": [
        "Wavelength in m = 3.315E-38\n"
       ]
      }
     ],
     "prompt_number": 10
    },
    {
     "cell_type": "heading",
     "level": 2,
     "metadata": {},
     "source": [
      "Example 18.11 , Page no:111"
     ]
    },
    {
     "cell_type": "code",
     "collapsed": false,
     "input": [
      "import math\n",
      "from __future__ import division\n",
      " \n",
      "#initialisation of variables\n",
      "e=1.6*10**-19; #charge\n",
      "ke=1.5*10**4; #kinetic energy in eV\n",
      "m=9.1*10**-31; #mass in kg\n",
      "h=6.63*10**-34; #planck's constant in J.sec\n",
      "\n",
      "#CALCULATIONS\n",
      "KE=ke*e; #calculating kinetic energy\n",
      "v=math.sqrt((2*KE)/m); #calculating velocity\n",
      "l=h/(m*v); #calculating wavelength\n",
      "\n",
      "#RESULTS\n",
      "print\"Kinetic Energy in Joule =\",'%.3E'%KE;\n",
      "print\"Velocity in m/sec =\",round(v,3);\n",
      "print\"Wavelength in metre =\",'%.3E'%l;"
     ],
     "language": "python",
     "metadata": {},
     "outputs": [
      {
       "output_type": "stream",
       "stream": "stdout",
       "text": [
        "Kinetic Energy in Joule = 2.400E-15\n",
        "Velocity in m/sec = 72627303.92\n",
        "Wavelength in metre = 1.003E-11\n"
       ]
      }
     ],
     "prompt_number": 11
    },
    {
     "cell_type": "heading",
     "level": 2,
     "metadata": {},
     "source": [
      "Example 18.13 , Page no:111"
     ]
    },
    {
     "cell_type": "code",
     "collapsed": false,
     "input": [
      "import math\n",
      "from __future__ import division\n",
      " \n",
      "#initialisation of variables\n",
      "h=6.63*10**-34; #planck's constant in J.sec\n",
      "delx=10**-9; #in m\n",
      "m=9.1*10**-31; #mass in kg\n",
      "\n",
      "#CALCULATIONS\n",
      "u=h/(2*3.14*delx); #uncertainty principle\n",
      "delv=u/m; #uncertainty principle\n",
      "u1=u*1,;\n",
      "\n",
      "#RESULTS\n",
      "print\"Uncertainty in electrons momentum in kg.m/sec =\",'%.3E'%u;\n",
      "print\"Uncertainty in electrons velocity in m/sec =\",round(delv,2);\n",
      "print\"Uncertainty in electrons position in m =\",'%.3E'%u1;"
     ],
     "language": "python",
     "metadata": {},
     "outputs": [
      {
       "output_type": "stream",
       "stream": "stdout",
       "text": [
        "Uncertainty in electrons momentum in kg.m/sec = 1.056E-25\n",
        "Uncertainty in electrons velocity in m/sec = 116014.56\n",
        "Uncertainty in electrons position in m = 1.056E-25\n"
       ]
      }
     ],
     "prompt_number": 12
    },
    {
     "cell_type": "heading",
     "level": 2,
     "metadata": {},
     "source": [
      "Example 18.14 , Page no:111"
     ]
    },
    {
     "cell_type": "code",
     "collapsed": false,
     "input": [
      "import math\n",
      "from __future__ import division\n",
      " \n",
      "#initialisation of variables\n",
      "h=6.63*10**-34; #planck's constant in J.sec\n",
      "delx=10**-10; #in m\n",
      "m=9.1*10**-31; #mass in kg\n",
      "\n",
      "#CALCULATIONS\n",
      "u=h/(2*3.14*delx); #uncertainty principle\n",
      "KE=(1/(2*m))*(u*u); #uncertainty principle\n",
      "\n",
      "#RESULTS\n",
      "print\"Uncertainty in electrons momentum in kg.m/sec =\",'%.3E'%u;\n",
      "print\"Uncertainty in electrons kinetic energy in Joule =\",'%.3E'%KE;"
     ],
     "language": "python",
     "metadata": {},
     "outputs": [
      {
       "output_type": "stream",
       "stream": "stdout",
       "text": [
        "Uncertainty in electrons momentum in kg.m/sec = 1.056E-24\n",
        "Uncertainty in electrons kinetic energy in Joule = 6.124E-19\n"
       ]
      }
     ],
     "prompt_number": 13
    }
   ],
   "metadata": {}
  }
 ]
}