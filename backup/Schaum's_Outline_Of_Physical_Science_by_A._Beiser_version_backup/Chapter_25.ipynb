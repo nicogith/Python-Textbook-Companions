{
 "metadata": {
  "name": "",
  "signature": "sha256:e4efb9ec5637a364327a1a175cc2fa08662bed20880a6f86028c22f476ceccf7"
 },
 "nbformat": 3,
 "nbformat_minor": 0,
 "worksheets": [
  {
   "cells": [
    {
     "cell_type": "heading",
     "level": 1,
     "metadata": {},
     "source": [
      "Chapter 25 :Stoichiometry"
     ]
    },
    {
     "cell_type": "heading",
     "level": 2,
     "metadata": {},
     "source": [
      "Example 25.2 , Page no:153"
     ]
    },
    {
     "cell_type": "code",
     "collapsed": false,
     "input": [
      "import math\n",
      "from __future__ import division\n",
      " \n",
      "#initialisation of variables\n",
      "a=238.03; #atomic mass\n",
      "m=75; #no. of moles\n",
      "\n",
      "#CALCULATIONS\n",
      "mass=m*a; #calculating mass of U\n",
      "n=6.023*10**23; #avogadro's no.\n",
      "no=m*n; #calculating no. of atoms\n",
      "\n",
      "#RESULTS\n",
      "print\"Mass of U in gram =\",round(mass,3);\n",
      "print\"No. of atoms =\",'%.3E'%no;"
     ],
     "language": "python",
     "metadata": {},
     "outputs": [
      {
       "output_type": "stream",
       "stream": "stdout",
       "text": [
        "Mass of U in gram = 17852.25\n",
        "No. of atoms = 4.517E+25\n"
       ]
      }
     ],
     "prompt_number": 1
    },
    {
     "cell_type": "heading",
     "level": 2,
     "metadata": {},
     "source": [
      "Example 25.3 , Page no:153"
     ]
    },
    {
     "cell_type": "code",
     "collapsed": false,
     "input": [
      "import math\n",
      "from __future__ import division\n",
      " \n",
      "#initialisation of variables\n",
      "a=63.54; #atomic mass of Cu\n",
      "m=100; #mass of Cu\n",
      "\n",
      "#CALCULATIONS\n",
      "moles=m/a; #calculating moles of U\n",
      "n=6.023*10**23; #avogadro's no.\n",
      "no=moles*n; #calculating no. of atoms\n",
      "\n",
      "#RESULTS\n",
      "print\"Maoles of U =\",round(moles,3);\n",
      "print\"No. of atoms =\",'%.3E'%no;"
     ],
     "language": "python",
     "metadata": {},
     "outputs": [
      {
       "output_type": "stream",
       "stream": "stdout",
       "text": [
        "Maoles of U = 1.574\n",
        "No. of atoms = 9.479E+23\n"
       ]
      }
     ],
     "prompt_number": 2
    },
    {
     "cell_type": "heading",
     "level": 2,
     "metadata": {},
     "source": [
      "Example 25.4 , Page no:153"
     ]
    },
    {
     "cell_type": "code",
     "collapsed": false,
     "input": [
      "import math\n",
      "from __future__ import division\n",
      " \n",
      "#initialisation of variables\n",
      "no=10**24; #no of atoms\n",
      "n=6.023*10**23; #avogadro's no.\n",
      "\n",
      "#CALCULATIONS\n",
      "moles=no/n; #calculating no. of moles\n",
      "\n",
      "#RESULTS\n",
      "print\"Moles =\",round(moles,3);"
     ],
     "language": "python",
     "metadata": {},
     "outputs": [
      {
       "output_type": "stream",
       "stream": "stdout",
       "text": [
        "Moles = 1.66\n"
       ]
      }
     ],
     "prompt_number": 3
    },
    {
     "cell_type": "heading",
     "level": 2,
     "metadata": {},
     "source": [
      "Example 25.5 , Page no:154"
     ]
    },
    {
     "cell_type": "code",
     "collapsed": false,
     "input": [
      "import math\n",
      "from __future__ import division\n",
      " \n",
      "#initialisation of variables\n",
      "c=12.01; #mass of carbon\n",
      "h=1.008; #mass of hydrogen\n",
      "\n",
      "#CALCULATIONS\n",
      "mass=((2*c)+(4*h))*9.4; #calculating mass\n",
      "n=6.023*10**23; #avogadro's no\n",
      "ac=(2*9.4)*n; #calculating atoms of c\n",
      "\n",
      "#RESULTS\n",
      "print\"Required mass =\",round(mass,3);\n",
      "print\"Atoms of C =\",'%.3E'%ac;"
     ],
     "language": "python",
     "metadata": {},
     "outputs": [
      {
       "output_type": "stream",
       "stream": "stdout",
       "text": [
        "Required mass = 263.689\n",
        "Atoms of C = 1.132E+25\n"
       ]
      }
     ],
     "prompt_number": 4
    },
    {
     "cell_type": "heading",
     "level": 2,
     "metadata": {},
     "source": [
      "Example 25.6 , Page no:154"
     ]
    },
    {
     "cell_type": "code",
     "collapsed": false,
     "input": [
      "import math\n",
      "from __future__ import division\n",
      " \n",
      "#initialisation of variables\n",
      "c=12.01; #mass of carbon\n",
      "h=1.008; #mass of hydrogen\n",
      "o=16.00; #mass of oxygen\n",
      "\n",
      "#CALCULATIONS\n",
      "mass=((6*c)+(12*h)+(6*o)); #calculating formula mass\n",
      "m=500*454; #mass of glucose in g\n",
      "moles=m/mass; #moles \n",
      "\n",
      "#RESULTS\n",
      "print\"Moles =\",round(moles,3);"
     ],
     "language": "python",
     "metadata": {},
     "outputs": [
      {
       "output_type": "stream",
       "stream": "stdout",
       "text": [
        "Moles = 1260.019\n"
       ]
      }
     ],
     "prompt_number": 5
    },
    {
     "cell_type": "heading",
     "level": 2,
     "metadata": {},
     "source": [
      "Example 25.7 , Page no:155"
     ]
    },
    {
     "cell_type": "code",
     "collapsed": false,
     "input": [
      "import math\n",
      "from __future__ import division\n",
      " \n",
      "#initialisation of variables\n",
      "pb=207.19; #mass of carbon\n",
      "n=14.01; #mass of hydrogen\n",
      "o=16.00; #mass of oxygen\n",
      "\n",
      "#CALCULATIONS\n",
      "mass=((1*pb)+(2*n)+(6*o)); #calculating formula mass\n",
      "m=28.02; #no. of grams per mole\n",
      "moles=m/mass; #moles \n",
      "moles1=moles*100;\n",
      "\n",
      "#RESULTS\n",
      "print\"Proportion in percentage =\",round(moles1,3);"
     ],
     "language": "python",
     "metadata": {},
     "outputs": [
      {
       "output_type": "stream",
       "stream": "stdout",
       "text": [
        "Proportion in percentage = 8.46\n"
       ]
      }
     ],
     "prompt_number": 6
    },
    {
     "cell_type": "heading",
     "level": 2,
     "metadata": {},
     "source": [
      "Example 25.8 , Page no:155"
     ]
    },
    {
     "cell_type": "code",
     "collapsed": false,
     "input": [
      "import math\n",
      "from __future__ import division\n",
      " \n",
      "#initialisation of variables\n",
      "m=50; #mass of N in g\n",
      "a=22.99; #atomic mass in g/mole\n",
      "ac=35.46; #atomic mass of chlorine\n",
      "n=2.17; #no. of moles\n",
      "\n",
      "#CALCULATIONS\n",
      "mole=m/a; #moles of Na\n",
      "mass=n*ac; #mass of Cl\n",
      "ps=m/127; #proportion of sodium\n",
      "pc=mass/127; #proportion of chlorine\n",
      "ps1=ps*100;\n",
      "pc1=pc*100;\n",
      "\n",
      "#RESULTS\n",
      "print\"Moles of Na =\",round(mole,3);\n",
      "print\"Mass oc Cl =\",round(mass,3);\n",
      "print\"Proportion of Sodium =\",round(ps1,3);\n",
      "print\"Proportion of Chlorine =\",round(pc1,3);"
     ],
     "language": "python",
     "metadata": {},
     "outputs": [
      {
       "output_type": "stream",
       "stream": "stdout",
       "text": [
        "Moles of Na = 2.175\n",
        "Mass oc Cl = 76.948\n",
        "Proportion of Sodium = 39.37\n",
        "Proportion of Chlorine = 60.589\n"
       ]
      }
     ],
     "prompt_number": 7
    },
    {
     "cell_type": "heading",
     "level": 2,
     "metadata": {},
     "source": [
      "Example 25.9 , Page no:155"
     ]
    },
    {
     "cell_type": "code",
     "collapsed": false,
     "input": [
      "import math\n",
      "from __future__ import division\n",
      " \n",
      "#initialisation of variables\n",
      "m=70; #mass in g\n",
      "a=14.01; #atomic mass\n",
      "h=1.008; #atomic mass of hydrogen\n",
      "\n",
      "#CALCULATIONS\n",
      "moles=m/a; #moles\n",
      "mass=3*moles*h; #mass of H\n",
      "ma=15+70; #mass of ammonia\n",
      "mass1=(mass/ma)*100;\n",
      "ma1=(m/ma)*100;\n",
      "\n",
      "#RESULTS\n",
      "print\"Moles of N =\",round(moles,3);\n",
      "print\"Mass of H =\",round(mass,3);\n",
      "print\"Proportion of Hydrogen =\",round(mass1,3);\n",
      "print\"Proportion of Nitrogen =\",round(ma1,3);"
     ],
     "language": "python",
     "metadata": {},
     "outputs": [
      {
       "output_type": "stream",
       "stream": "stdout",
       "text": [
        "Moles of N = 4.996\n",
        "Mass of H = 15.109\n",
        "Proportion of Hydrogen = 17.776\n",
        "Proportion of Nitrogen = 82.353\n"
       ]
      }
     ],
     "prompt_number": 8
    },
    {
     "cell_type": "heading",
     "level": 2,
     "metadata": {},
     "source": [
      "Example 25.10 , Page no:155"
     ]
    },
    {
     "cell_type": "code",
     "collapsed": false,
     "input": [
      "import math\n",
      "from __future__ import division\n",
      " \n",
      "#initialisation of variables\n",
      "m=200; #mass in g\n",
      "o=16.00; #atomic mass\n",
      "m1=6.25; #moles of S\n",
      "as1=32.06;  #atomic mass of s\n",
      "\n",
      "#CALCULATIONS\n",
      "moles=m/o; #moles\n",
      "m2=m1*as1;\n",
      "\n",
      "#RESULTS\n",
      "print\"Mass of S =\",round(m2,3);"
     ],
     "language": "python",
     "metadata": {},
     "outputs": [
      {
       "output_type": "stream",
       "stream": "stdout",
       "text": [
        "Mass of S = 200.375\n"
       ]
      }
     ],
     "prompt_number": 9
    },
    {
     "cell_type": "heading",
     "level": 2,
     "metadata": {},
     "source": [
      "Example 25.11 , Page no:156"
     ]
    },
    {
     "cell_type": "code",
     "collapsed": false,
     "input": [
      "import math\n",
      "from __future__ import division\n",
      " \n",
      "#initialisation of variables\n",
      "c=12.01; #mass of carbon\n",
      "h=1.008; #mass of hydrogen\n",
      "o=16.00; #mass of oxygen\n",
      "\n",
      "#CALCULATIONS\n",
      "mass=((2*c)+(2*h)); #calculating mass\n",
      "moles=200/mass; #moles\n",
      "mo=2*o*19.20; #mass of O2\n",
      "mc=((2*o)+c)*15.36; #mass of CO2;\n",
      "\n",
      "#RESULTS\n",
      "print\"Mass of O2 in g=\",round(mo,3);\n",
      "print\"Mass of CO2 in g=\",round(mc,3);"
     ],
     "language": "python",
     "metadata": {},
     "outputs": [
      {
       "output_type": "stream",
       "stream": "stdout",
       "text": [
        "Mass of O2 in g= 614.4\n",
        "Mass of CO2 in g= 675.994\n"
       ]
      }
     ],
     "prompt_number": 10
    },
    {
     "cell_type": "heading",
     "level": 2,
     "metadata": {},
     "source": [
      "Example 25.12 , Page no:156"
     ]
    },
    {
     "cell_type": "code",
     "collapsed": false,
     "input": [
      "import math\n",
      "from __future__ import division\n",
      " \n",
      "#initialisation of variables\n",
      "m=1000; #mass of H2\n",
      "fh=2.02; #formula mass of hydrogen\n",
      "fo=32.00; #formula mass of oxygen\n",
      "\n",
      "#CALCULATIONS\n",
      "mass=62.5*18.02; #mass\n",
      "M1=m/fh;\n",
      "M2=m/fo;\n",
      "M3=432.5*2.02;\n",
      "\n",
      "#RESULTS\n",
      "print\"Moles of H2 =\",round(M1,3);\n",
      "print\"MOles of O2 =\",round(M2,3);\n",
      "print\"Mass of H2O =\",round(mass,3);\n",
      "print\"Mass of H2 =\",round(M3,3);"
     ],
     "language": "python",
     "metadata": {},
     "outputs": [
      {
       "output_type": "stream",
       "stream": "stdout",
       "text": [
        "Moles of H2 = 495.05\n",
        "MOles of O2 = 31.25\n",
        "Mass of H2O = 1126.25\n",
        "Mass of H2 = 873.65\n"
       ]
      }
     ],
     "prompt_number": 11
    },
    {
     "cell_type": "heading",
     "level": 2,
     "metadata": {},
     "source": [
      "Example 25.13 , Page no:156"
     ]
    },
    {
     "cell_type": "code",
     "collapsed": false,
     "input": [
      "import math\n",
      "from __future__ import division\n",
      " \n",
      "#initialisation of variables\n",
      "Na=22.99; #mass of Na\n",
      "S=32.06; #mass of S\n",
      "O=16.00; #mass of O\n",
      "\n",
      "#CALCULATIONS\n",
      "mass=((2*Na)+(1*S)+(4*O)); #calculating mass\n",
      "m=100/mass; #moles\n",
      "m1=m*32.06;\n",
      "m2=22.99*1.408;\n",
      "\n",
      "#RESULTS\n",
      "print\"Moles =\",round(m,3);\n",
      "print\"Mass of S =\",round(m1,3);\n",
      "print\"Mass of Na =\",round(m2,3);"
     ],
     "language": "python",
     "metadata": {},
     "outputs": [
      {
       "output_type": "stream",
       "stream": "stdout",
       "text": [
        "Moles = 0.704\n",
        "Mass of S = 22.571\n",
        "Mass of Na = 32.37\n"
       ]
      }
     ],
     "prompt_number": 12
    },
    {
     "cell_type": "heading",
     "level": 2,
     "metadata": {},
     "source": [
      "Example 25.15 , Page no:157"
     ]
    },
    {
     "cell_type": "code",
     "collapsed": false,
     "input": [
      "import math\n",
      "from __future__ import division\n",
      " \n",
      "#initialisation of variables\n",
      "a=128.8/32.06;\n",
      "b=8.06/1.008;\n",
      "\n",
      "#RESULTS\n",
      "print\"Moles of S =\",round(a,3);\n",
      "print\"Moles of H =\",round(b,3);"
     ],
     "language": "python",
     "metadata": {},
     "outputs": [
      {
       "output_type": "stream",
       "stream": "stdout",
       "text": [
        "Moles of S = 4.017\n",
        "Moles of H = 7.996\n"
       ]
      }
     ],
     "prompt_number": 13
    },
    {
     "cell_type": "heading",
     "level": 2,
     "metadata": {},
     "source": [
      "Example 25.16 , Page no:157"
     ]
    },
    {
     "cell_type": "code",
     "collapsed": false,
     "input": [
      "import math\n",
      "from __future__ import division\n",
      " \n",
      "#initialisation of variables\n",
      "a=57.54/79.91;\n",
      "b=17.29/12.01;\n",
      "c=3.63/1.008;\n",
      "\n",
      "#RESULTS\n",
      "print\"Moles of Br =\",round(a,3);\n",
      "print\"Moles of C =\",round(b,3);\n",
      "print\"Moles of H =\",round(c,3);"
     ],
     "language": "python",
     "metadata": {},
     "outputs": [
      {
       "output_type": "stream",
       "stream": "stdout",
       "text": [
        "Moles of Br = 0.72\n",
        "Moles of C = 1.44\n",
        "Moles of H = 3.601\n"
       ]
      }
     ],
     "prompt_number": 14
    },
    {
     "cell_type": "heading",
     "level": 2,
     "metadata": {},
     "source": [
      "Example 25.17 , Page no:157"
     ]
    },
    {
     "cell_type": "code",
     "collapsed": false,
     "input": [
      "import math\n",
      "from __future__ import division\n",
      " \n",
      "#initialisation of variables\n",
      "a=100.9/12.01;\n",
      "b=22.6/1.008;\n",
      "\n",
      "#RESULTS\n",
      "print\"Moles of C =\",round(a,3);\n",
      "print\"Moles of H =\",round(b,3);"
     ],
     "language": "python",
     "metadata": {},
     "outputs": [
      {
       "output_type": "stream",
       "stream": "stdout",
       "text": [
        "Moles of C = 8.401\n",
        "Moles of H = 22.421\n"
       ]
      }
     ],
     "prompt_number": 15
    }
   ],
   "metadata": {}
  }
 ]
}