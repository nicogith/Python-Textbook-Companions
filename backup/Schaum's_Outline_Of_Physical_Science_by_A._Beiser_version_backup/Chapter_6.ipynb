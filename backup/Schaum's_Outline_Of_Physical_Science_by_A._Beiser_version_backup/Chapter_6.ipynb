{
 "metadata": {
  "name": "",
  "signature": "sha256:ac0eb67d5ef96ffc7d0bd266b0c1a8d98330788107fb17db07d4e8a6ff85d1e5"
 },
 "nbformat": 3,
 "nbformat_minor": 0,
 "worksheets": [
  {
   "cells": [
    {
     "cell_type": "heading",
     "level": 1,
     "metadata": {},
     "source": [
      "Chapter 6 :Momentum"
     ]
    },
    {
     "cell_type": "heading",
     "level": 2,
     "metadata": {},
     "source": [
      "Example 6.3 , Page no:37"
     ]
    },
    {
     "cell_type": "code",
     "collapsed": false,
     "input": [
      "import math\n",
      "from __future__ import division\n",
      "\n",
      "#initialisation of variables\n",
      "m=50; #mass in kg\n",
      "v=6; #velocity in m/sec\n",
      "\n",
      "#CALCULATIONS\n",
      "p=m*v; #calculating momentum\n",
      "\n",
      "#RESULTS\n",
      "print\"Momentum of woman in kg.m/sec =\",round(p,3);"
     ],
     "language": "python",
     "metadata": {},
     "outputs": [
      {
       "output_type": "stream",
       "stream": "stdout",
       "text": [
        "Momentum of woman in kg.m/sec = 300.0\n"
       ]
      }
     ],
     "prompt_number": 1
    },
    {
     "cell_type": "heading",
     "level": 2,
     "metadata": {},
     "source": [
      "Example 6.4 , Page no:37"
     ]
    },
    {
     "cell_type": "code",
     "collapsed": false,
     "input": [
      "import math\n",
      "from __future__ import division\n",
      "\n",
      "#initialisation of variables\n",
      "w=160; #weight in lb\n",
      "g=32; #g in ft/sec square\n",
      "\n",
      "#CALCULATIONS\n",
      "m=w/g; #calculating m in slugs\n",
      "v=(1*5280)/(4*60); #calculating v in ft/sec\n",
      "mom=m*v; #calculating avg. momentum in slug.ft/sec\n",
      "\n",
      "#RESULTS\n",
      "print\"Average Momentum in slug.ft/sec =\",round(mom,3);"
     ],
     "language": "python",
     "metadata": {},
     "outputs": [
      {
       "output_type": "stream",
       "stream": "stdout",
       "text": [
        "Average Momentum in slug.ft/sec = 110.0\n"
       ]
      }
     ],
     "prompt_number": 2
    },
    {
     "cell_type": "heading",
     "level": 2,
     "metadata": {},
     "source": [
      "Example 6.6 , Page no:37"
     ]
    },
    {
     "cell_type": "code",
     "collapsed": false,
     "input": [
      "import math\n",
      "from __future__ import division\n",
      "\n",
      "#initialisation of variables\n",
      "mr=5; #weight of rifle in kg\n",
      "mb=0.015; #weight of bullet in kg\n",
      "vb=600; #velocity of bullet in m/sec\n",
      "\n",
      "#CALCULATIONS\n",
      "vr=(mb*vb)/mr; #calculating vr using law of conservation of momentum\n",
      "\n",
      "#RESULTS\n",
      "print\"Recoil velocity of rifle in m/sec =\",round(vr,3);"
     ],
     "language": "python",
     "metadata": {},
     "outputs": [
      {
       "output_type": "stream",
       "stream": "stdout",
       "text": [
        "Recoil velocity of rifle in m/sec = 1.8\n"
       ]
      }
     ],
     "prompt_number": 3
    },
    {
     "cell_type": "heading",
     "level": 2,
     "metadata": {},
     "source": [
      "Example 6.7 , Page no:37"
     ]
    },
    {
     "cell_type": "code",
     "collapsed": false,
     "input": [
      "import math\n",
      "from __future__ import division\n",
      "\n",
      "#initialisation of variables\n",
      "wa=300; #weight of astronaut in lb\n",
      "ww=1; #weight in of wrench lb\n",
      "vw=15; #velocity of wrench in ft/sec\n",
      "\n",
      "#CALCULATIONS\n",
      "va=(ww*vw)/wa; #calculating va using law of conservation of momentum\n",
      "\n",
      "#RESULTS\n",
      "print\"Velocity of astronaut in ft/sec =\",round(va,3);"
     ],
     "language": "python",
     "metadata": {},
     "outputs": [
      {
       "output_type": "stream",
       "stream": "stdout",
       "text": [
        "Velocity of astronaut in ft/sec = 0.05\n"
       ]
      }
     ],
     "prompt_number": 4
    },
    {
     "cell_type": "heading",
     "level": 2,
     "metadata": {},
     "source": [
      "Example 6.8 , Page no:38"
     ]
    },
    {
     "cell_type": "code",
     "collapsed": false,
     "input": [
      "import math\n",
      "from __future__ import division\n",
      "\n",
      "#initialisation of variables\n",
      "mm=70; #weight in of man kg\n",
      "ms=0.5; #weight of snow-ball in kg\n",
      "v1=20; #man's initial velocity in m/sec\n",
      "\n",
      "#CALCULATIONS\n",
      "v2=(ms/(mm+ms))*v1; #calculating v2 using law of conservation of momentum\n",
      "\n",
      "#RESULTS\n",
      "print\"Mans final velocity in m/sec =\",round(v2,3);"
     ],
     "language": "python",
     "metadata": {},
     "outputs": [
      {
       "output_type": "stream",
       "stream": "stdout",
       "text": [
        "Mans final velocity in m/sec = 0.142\n"
       ]
      }
     ],
     "prompt_number": 5
    },
    {
     "cell_type": "heading",
     "level": 2,
     "metadata": {},
     "source": [
      "Example 6.9 , Page no:38"
     ]
    },
    {
     "cell_type": "code",
     "collapsed": false,
     "input": [
      "import math\n",
      "from __future__ import division\n",
      "\n",
      "#initialisation of variables\n",
      "m1=40; #weight in kg\n",
      "m2=60; #weight in kg\n",
      "v1=4; #speed in m/sec\n",
      "v2=2; #speed in m/sec\n",
      "\n",
      "#CALCULATIONS\n",
      "v3=((m1*v1)+(m2*v2))/(m1+m2); #calculating v3 using law of conservation of momentum\n",
      "inKE=(1/2)*(m1*v1*v1)+(1/2)*(m2*v2*v2); #calculating initial KE in Joules\n",
      "fiKE=(1/2)*(m1+m2)*v3*v3; #calculating final KE in Joules\n",
      "fiKe1=inKE-fiKE;\n",
      "\n",
      "#RESULTS\n",
      "print\"Final velocity in m/sec =\",round(v3,3);\n",
      "print\"Kinetic Energy lost in Joules =\",round(fiKe1,3);"
     ],
     "language": "python",
     "metadata": {},
     "outputs": [
      {
       "output_type": "stream",
       "stream": "stdout",
       "text": [
        "Final velocity in m/sec = 2.8\n",
        "Kinetic Energy lost in Joules = 48.0\n"
       ]
      }
     ],
     "prompt_number": 6
    },
    {
     "cell_type": "heading",
     "level": 2,
     "metadata": {},
     "source": [
      "Example 6.10 , Page no:38"
     ]
    },
    {
     "cell_type": "code",
     "collapsed": false,
     "input": [
      "import math\n",
      "from __future__ import division\n",
      "\n",
      "#initialisation of variables\n",
      "m1=40; #weight in kg\n",
      "m2=60; #weight in kg\n",
      "v1=4; #velocity in m/sec\n",
      "v2=-2; #velocity in m/sec\n",
      "\n",
      "#CALCULATIONS\n",
      "v3=((m1*v1)+(m2*v2))/(m1+m2); #calculating v3 using law of conservation of momentum\n",
      "fiKE=(1/2)*(m1+m2)*v3*v3; #calculating initial KE in Joules\n",
      "inKE=(1/2)*((m1*v1*v1)+(m2*v2*v2)); #calculating final KE in Joules\n",
      "inKE1=inKE-fiKE;\n",
      "\n",
      "#RESULTS\n",
      "print\"Final velocity in m/sec =\",round(v3,3);\n",
      "print\"Kinetic Energy lost in Joules =\",round(inKE1,3);"
     ],
     "language": "python",
     "metadata": {},
     "outputs": [
      {
       "output_type": "stream",
       "stream": "stdout",
       "text": [
        "Final velocity in m/sec = 0.4\n",
        "Kinetic Energy lost in Joules = 432.0\n"
       ]
      }
     ],
     "prompt_number": 7
    }
   ],
   "metadata": {}
  }
 ]
}