{
 "metadata": {
  "name": "",
  "signature": "sha256:7a670171ac07751350c0c1d43b1f4df33faab0057be018aea269dfc40a7a99c4"
 },
 "nbformat": 3,
 "nbformat_minor": 0,
 "worksheets": [
  {
   "cells": [
    {
     "cell_type": "heading",
     "level": 1,
     "metadata": {},
     "source": [
      "Chapter 14 :Magnetism"
     ]
    },
    {
     "cell_type": "heading",
     "level": 2,
     "metadata": {},
     "source": [
      "Example 14.8 , Page no:86"
     ]
    },
    {
     "cell_type": "code",
     "collapsed": false,
     "input": [
      "import math\n",
      "from __future__ import division\n",
      " \n",
      "#initialisation of variables\n",
      "K=2*10**-7; #constant in N/A square\n",
      "I=100; #current in Ampere\n",
      "s=5; #distance in m\n",
      "\n",
      "#CALCULATIONS\n",
      "B=(K*I)/s; #calculating magnitude of field\n",
      "\n",
      "#RESULTS\n",
      "print\"Magnitude of field in Tesla =\",round(B,7);"
     ],
     "language": "python",
     "metadata": {},
     "outputs": [
      {
       "output_type": "stream",
       "stream": "stdout",
       "text": [
        "Magnitude of field in Tesla = 4e-06\n"
       ]
      }
     ],
     "prompt_number": 1
    },
    {
     "cell_type": "heading",
     "level": 2,
     "metadata": {},
     "source": [
      "Example 14.10 , Page no:86"
     ]
    },
    {
     "cell_type": "code",
     "collapsed": false,
     "input": [
      "import math\n",
      "from __future__ import division\n",
      " \n",
      "#initialisation of variables\n",
      "K=2*10**-7; #constant in N/A square\n",
      "I=8; #current in Ampere\n",
      "s=5*10**-2; #distance in m\n",
      "\n",
      "#CALCULATIONS\n",
      "B=(K*I)/s; #calculating magnitude of field\n",
      "B1=2*B;\n",
      "\n",
      "#RESULTS\n",
      "print\"Magnitude of field in Tesla =\",round(B,7);\n",
      "print\"Total field in Tesla =\",round(B1,7);"
     ],
     "language": "python",
     "metadata": {},
     "outputs": [
      {
       "output_type": "stream",
       "stream": "stdout",
       "text": [
        "Magnitude of field in Tesla = 3.2e-05\n",
        "Total field in Tesla = 6.4e-05\n"
       ]
      }
     ],
     "prompt_number": 2
    },
    {
     "cell_type": "heading",
     "level": 2,
     "metadata": {},
     "source": [
      "Example 14.11 , Page no:86"
     ]
    },
    {
     "cell_type": "code",
     "collapsed": false,
     "input": [
      "import math\n",
      "from __future__ import division\n",
      " \n",
      "#initialisation of variables\n",
      "K=2*10**-7; #constant in N/A square\n",
      "N=100; #number of turns\n",
      "I=4; #current in Ampere\n",
      "r=5*10**-2; #radius in m\n",
      "\n",
      "#CALCULATIONS\n",
      "B=(3.14*K*I*N)/s; #calculating magnitude of field\n",
      "\n",
      "#RESULTS\n",
      "print\"Magnitude of field in Tesla =\",round(B,5);"
     ],
     "language": "python",
     "metadata": {},
     "outputs": [
      {
       "output_type": "stream",
       "stream": "stdout",
       "text": [
        "Magnitude of field in Tesla = 0.00502\n"
       ]
      }
     ],
     "prompt_number": 3
    },
    {
     "cell_type": "heading",
     "level": 2,
     "metadata": {},
     "source": [
      "Example 14.12 , Page no:86"
     ]
    },
    {
     "cell_type": "code",
     "collapsed": false,
     "input": [
      "import math\n",
      "from __future__ import division\n",
      " \n",
      "#initialisation of variables\n",
      "K=2*10**-7; #constant in N/A square\n",
      "N=1000; #number of turns\n",
      "B=2.5*10**-5; #field in Tesla\n",
      "l=0.2; #length in m\n",
      "\n",
      "#CALCULATIONS\n",
      "I=(B*l)/(2*3.14*K*N); #calculating magnitude of field\n",
      "\n",
      "#RESULTS\n",
      "print\"Current in Ampere =\",round(I,5);"
     ],
     "language": "python",
     "metadata": {},
     "outputs": [
      {
       "output_type": "stream",
       "stream": "stdout",
       "text": [
        "Current in Ampere = 0.00398\n"
       ]
      }
     ],
     "prompt_number": 4
    },
    {
     "cell_type": "heading",
     "level": 2,
     "metadata": {},
     "source": [
      "Example 14.13 , Page no:86"
     ]
    },
    {
     "cell_type": "code",
     "collapsed": false,
     "input": [
      "import math\n",
      "from __future__ import division\n",
      " \n",
      "#initialisation of variables\n",
      "I=5; #current in Ampere\n",
      "L=0.01; #length in m\n",
      "B=0.8; #magnitude of field in Tesla\n",
      "\n",
      "#CALCULATIONS\n",
      "F=B*I*L; #calculating force\n",
      "\n",
      "#RESULTS\n",
      "print\"Force in Newton =\",round(F,3);"
     ],
     "language": "python",
     "metadata": {},
     "outputs": [
      {
       "output_type": "stream",
       "stream": "stdout",
       "text": [
        "Force in Newton = 0.04\n"
       ]
      }
     ],
     "prompt_number": 5
    },
    {
     "cell_type": "heading",
     "level": 2,
     "metadata": {},
     "source": [
      "Example 14.14 , Page no:87"
     ]
    },
    {
     "cell_type": "code",
     "collapsed": false,
     "input": [
      "import math\n",
      "from __future__ import division\n",
      " \n",
      "#initialisation of variables\n",
      "P=2000; #power in Watt\n",
      "V=120; #potential diff in volt\n",
      "I=P/V; #current in Ampere\n",
      "s=2*10**-3; #distance in m\n",
      "K=2*10**-7; #constant in N/A square\n",
      "\n",
      "#CALCULATIONS\n",
      "F=(I*I*K)/s; #calculating force per metre\n",
      "\n",
      "#RESULTS\n",
      "print\"Force in Newton per metre in opposite direction =\",round(F,5);"
     ],
     "language": "python",
     "metadata": {},
     "outputs": [
      {
       "output_type": "stream",
       "stream": "stdout",
       "text": [
        "Force in Newton per metre in opposite direction = 0.02778\n"
       ]
      }
     ],
     "prompt_number": 6
    }
   ],
   "metadata": {}
  }
 ]
}