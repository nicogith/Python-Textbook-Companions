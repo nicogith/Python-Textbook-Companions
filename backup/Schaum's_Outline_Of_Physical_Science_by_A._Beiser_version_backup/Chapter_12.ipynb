{
 "metadata": {
  "name": "",
  "signature": "sha256:a472feaf0191a33aaaabdcba660de5ec682b3bf8f3d2beb8dbba347613c00e18"
 },
 "nbformat": 3,
 "nbformat_minor": 0,
 "worksheets": [
  {
   "cells": [
    {
     "cell_type": "heading",
     "level": 1,
     "metadata": {},
     "source": [
      "Chapter 12 :Electricity"
     ]
    },
    {
     "cell_type": "heading",
     "level": 2,
     "metadata": {},
     "source": [
      "Example 12.7 , Page no:70"
     ]
    },
    {
     "cell_type": "code",
     "collapsed": false,
     "input": [
      "import math\n",
      "from __future__ import division\n",
      " \n",
      "#initialisation of variables\n",
      "e=1.6*10**-19; #charge on an electron in coulomb\n",
      "q=10**-12; #charge on pith ball in coulomb\n",
      "\n",
      "#CALCULATIONS\n",
      "n=q/e; #calculating no of electrons\n",
      "\n",
      "#RESULTS\n",
      "print\"No. of electrons =\",round(n,3);"
     ],
     "language": "python",
     "metadata": {},
     "outputs": [
      {
       "output_type": "stream",
       "stream": "stdout",
       "text": [
        "No. of electrons = 6250000.0\n"
       ]
      }
     ],
     "prompt_number": 1
    },
    {
     "cell_type": "heading",
     "level": 2,
     "metadata": {},
     "source": [
      "Example 12.8 , Page no:70"
     ]
    },
    {
     "cell_type": "code",
     "collapsed": false,
     "input": [
      "import math\n",
      "from __future__ import division\n",
      " \n",
      "#initialisation of variables\n",
      "k=9*10**9; #constant in free space in N.m square/C square\n",
      "q1=4*10**-9; #charge in coulomb\n",
      "q2=5*10**-8; #charge in coulomb\n",
      "r=5*10**-2; #radius in metre\n",
      "\n",
      "#CALCULATIONS\n",
      "F=(k*q1*q2)/(r*r); #calculating force in Newton\n",
      "\n",
      "#RESULTS\n",
      "print\"Force in Newton =\",round(F,5);"
     ],
     "language": "python",
     "metadata": {},
     "outputs": [
      {
       "output_type": "stream",
       "stream": "stdout",
       "text": [
        "Force in Newton = 0.00072\n"
       ]
      }
     ],
     "prompt_number": 2
    },
    {
     "cell_type": "heading",
     "level": 2,
     "metadata": {},
     "source": [
      "Example 12.9 , Page no:71"
     ]
    },
    {
     "cell_type": "code",
     "collapsed": false,
     "input": [
      "import math\n",
      "from __future__ import division\n",
      " \n",
      "#initialisation of variables\n",
      "k=9*10**9; #constant in free space in N.m square/C square\n",
      "q1=1.6*10**-19; #charge in coulomb\n",
      "q2=1.6*10**-19; #charge in coulomb\n",
      "r=5.3*10**-11; #radius in metre\n",
      "\n",
      "#CALCULATIONS\n",
      "F=(k*q1*q2)/(r*r); #calculating force in Newton\n",
      "\n",
      "#RESULTS\n",
      "print\"Force in Newton =\",'%.3E'%F;"
     ],
     "language": "python",
     "metadata": {},
     "outputs": [
      {
       "output_type": "stream",
       "stream": "stdout",
       "text": [
        "Force in Newton = 8.202E-08\n"
       ]
      }
     ],
     "prompt_number": 3
    },
    {
     "cell_type": "heading",
     "level": 2,
     "metadata": {},
     "source": [
      "Example 12.10 , Page no:71"
     ]
    },
    {
     "cell_type": "code",
     "collapsed": false,
     "input": [
      "import math\n",
      "from __future__ import division\n",
      " \n",
      "#initialisation of variables\n",
      "q1=5*10**-7; #charge in coulomb\n",
      "q2=2*10**-7; #charge in coulomb\n",
      "k=9*10**9; #constant in N.m square/coulomb square\n",
      "F=10**2; #force in Newton\n",
      "\n",
      "#CALCULATIONS\n",
      "r=math.sqrt((k*q1*q2)/F); #calculating r using Coulomb's law\n",
      "r1=r*10**3;\n",
      "\n",
      "#RESULTS\n",
      "print\"Distance between them in mm =\",round(r1,3);"
     ],
     "language": "python",
     "metadata": {},
     "outputs": [
      {
       "output_type": "stream",
       "stream": "stdout",
       "text": [
        "Distance between them in mm = 3.0\n"
       ]
      }
     ],
     "prompt_number": 4
    },
    {
     "cell_type": "heading",
     "level": 2,
     "metadata": {},
     "source": [
      "Example 12.12 , Page no:71"
     ]
    },
    {
     "cell_type": "code",
     "collapsed": false,
     "input": [
      "import math\n",
      "from __future__ import division\n",
      " \n",
      "#initialisation of variables\n",
      "k=9*10**9; #constant in N.m square/kg square\n",
      "G=6.67*10**-11; #universal gravitational constant in N.m square/kg square\n",
      "m1=1.67*10**-27; #mass in kg\n",
      "m2=1.67*10**-27; #mass in kg\n",
      "mp=1.6*10**-19; #mass of proton in kg\n",
      "\n",
      "#CALCULATIONS\n",
      "Fg=G*m1*m2;\n",
      "Fe=k*mp*mp;\n",
      "d=Fe/Fg;\n",
      "\n",
      "#RESULTS\n",
      "print\"Times electric force is greater than gravitational force =\",'%.3E'%d;"
     ],
     "language": "python",
     "metadata": {},
     "outputs": [
      {
       "output_type": "stream",
       "stream": "stdout",
       "text": [
        "Times electric force is greater than gravitational force = 1.239E+36\n"
       ]
      }
     ],
     "prompt_number": 5
    },
    {
     "cell_type": "heading",
     "level": 2,
     "metadata": {},
     "source": [
      "Example 12.13 , Page no:71"
     ]
    },
    {
     "cell_type": "code",
     "collapsed": false,
     "input": [
      "import math\n",
      "from __future__ import division\n",
      " \n",
      "#initialisation of variables\n",
      "F=8.2*10**-8; #force in Newton\n",
      "e=1.6*10**-19; #charge on an electron in Coulomb\n",
      "\n",
      "#CALCULATIONS\n",
      "E=F/e; #calculating electric field in V/m using E=F/Q\n",
      "\n",
      "#RESULTS\n",
      "print\"Electric field in v/m =\",'%.3E'%E;"
     ],
     "language": "python",
     "metadata": {},
     "outputs": [
      {
       "output_type": "stream",
       "stream": "stdout",
       "text": [
        "Electric field in v/m = 5.125E+11\n"
       ]
      }
     ],
     "prompt_number": 6
    },
    {
     "cell_type": "heading",
     "level": 2,
     "metadata": {},
     "source": [
      "Example 12.14 , Page no:71"
     ]
    },
    {
     "cell_type": "code",
     "collapsed": false,
     "input": [
      "import math\n",
      "from __future__ import division\n",
      " \n",
      "#initialisation of variables\n",
      "e=1.6*10**-19; #charge on an electron in coulomb\n",
      "E=5*10**3; #electric field in V/m\n",
      "m=3.3*10**-26; #mass of neon ion in kg\n",
      "\n",
      "#CALCULATIONS\n",
      "F=E*e; #calculating foece in Newton using F=Q*E\n",
      "a=F/m; #calculating accelaration in m/sec square using Newton's Law(F=m*a)\n",
      "\n",
      "#RESULTS\n",
      "print\"Force on neon Ion in Newton =\",'%.3E'%F;\n",
      "print\"Accelaration of the ion in m/sec square =\",'%.3E'%a;"
     ],
     "language": "python",
     "metadata": {},
     "outputs": [
      {
       "output_type": "stream",
       "stream": "stdout",
       "text": [
        "Force on neon Ion in Newton = 8.000E-16\n",
        "Accelaration of the ion in m/sec square = 2.424E+10\n"
       ]
      }
     ],
     "prompt_number": 7
    },
    {
     "cell_type": "heading",
     "level": 2,
     "metadata": {},
     "source": [
      "Example 12.15 , Page no:72"
     ]
    },
    {
     "cell_type": "code",
     "collapsed": false,
     "input": [
      "import math\n",
      "from __future__ import division\n",
      " \n",
      "#initialisation of variables\n",
      "m=1.67*10**-27; #mass of proton in kg\n",
      "g=9.8; #gravitational constant in m/sec square\n",
      "e=1.6*10**-19; #charge on electron in coulomb\n",
      "\n",
      "#CALCULATIONS\n",
      "E=(m*g)/e; #calculating Electric field in V/m using e*E=m*g\n",
      "\n",
      "#RESULTS\n",
      "print\"Electric Field in V/metre =\",round(E,7);"
     ],
     "language": "python",
     "metadata": {},
     "outputs": [
      {
       "output_type": "stream",
       "stream": "stdout",
       "text": [
        "Electric Field in V/metre = 1e-07\n"
       ]
      }
     ],
     "prompt_number": 8
    },
    {
     "cell_type": "heading",
     "level": 2,
     "metadata": {},
     "source": [
      "Example 12.16 , Page no:72"
     ]
    },
    {
     "cell_type": "code",
     "collapsed": false,
     "input": [
      "import math\n",
      "from __future__ import division\n",
      " \n",
      "#initialisation of variables\n",
      "Q=50; #charge in Coulomb\n",
      "V=7*10**6; #Potential difference in Volt\n",
      "\n",
      "#CALCULATIONS\n",
      "W=Q*V; #calculating energy dissipated in Joule\n",
      "\n",
      "#RESULTS\n",
      "print\"Power dissipated in Joule =\",'%.3E'%W;"
     ],
     "language": "python",
     "metadata": {},
     "outputs": [
      {
       "output_type": "stream",
       "stream": "stdout",
       "text": [
        "Power dissipated in Joule = 3.500E+08\n"
       ]
      }
     ],
     "prompt_number": 9
    },
    {
     "cell_type": "heading",
     "level": 2,
     "metadata": {},
     "source": [
      "Example 12.17 , Page no:72"
     ]
    },
    {
     "cell_type": "code",
     "collapsed": false,
     "input": [
      "import math\n",
      "from __future__ import division\n",
      " \n",
      "#initialisation of variables\n",
      "V=20; #potential difference in Volt\n",
      "E=500; #Electric field in V/m\n",
      "\n",
      "#CALCULATIONS\n",
      "s=V/E; #calculating distance between them in metre using s=V/E\n",
      "s1=s*100;\n",
      "\n",
      "#RESULTS\n",
      "print\"Distance between the plates in metre =\",round(s,3);\n",
      "print\"Distance between the plates in cm =\",round(s1,3);"
     ],
     "language": "python",
     "metadata": {},
     "outputs": [
      {
       "output_type": "stream",
       "stream": "stdout",
       "text": [
        "Distance between the plates in metre = 0.04\n",
        "Distance between the plates in cm = 4.0\n"
       ]
      }
     ],
     "prompt_number": 10
    },
    {
     "cell_type": "heading",
     "level": 2,
     "metadata": {},
     "source": [
      "Example 12.18 , Page no:72"
     ]
    },
    {
     "cell_type": "code",
     "collapsed": false,
     "input": [
      "import math\n",
      "from __future__ import division\n",
      " \n",
      "#initialisation of variables\n",
      "E=600; #electric field in volt/metre\n",
      "s=0.15; #distance between plates in metre\n",
      "r=0.05; #distance in m\n",
      "Q=10**-10; #charge in coulomb\n",
      "\n",
      "#CALCULATIONS\n",
      "V=E*s; #calculating potential difference in Volt\n",
      "F=Q*E; #calculating force in Newton\n",
      "KE=F*r; #calculating Kinetic Energy in Joule\n",
      "\n",
      "#RESULTS\n",
      "print\"(a)Potential Difference in Volt =\",round(V,3);\n",
      "print\"Force on the charge of 10^-10 C in Newton =\",F;\n",
      "print\"Kinetic Energy in Joule =\",KE;"
     ],
     "language": "python",
     "metadata": {},
     "outputs": [
      {
       "output_type": "stream",
       "stream": "stdout",
       "text": [
        "(a)Potential Difference in Volt = 90.0\n",
        "Force on the charge of 10^-10 C in Newton = 6e-08\n",
        "Kinetic Energy in Joule = 3e-09\n"
       ]
      }
     ],
     "prompt_number": 11
    },
    {
     "cell_type": "heading",
     "level": 2,
     "metadata": {},
     "source": [
      "Example 12.19 , Page no:73"
     ]
    },
    {
     "cell_type": "code",
     "collapsed": false,
     "input": [
      "import math\n",
      "from __future__ import division\n",
      " \n",
      "#initialisation of variables\n",
      "m=9.1*10**-31; #mass of electron in kg\n",
      "v=10**7; #velocity of electron in m/sec\n",
      "e=1.6*10**-19; #charge on electron in coulomb\n",
      "\n",
      "#CALCULATIONS\n",
      "KE=(1/2)*(m*v*v); #Kinetic Energy of electron in Joule\n",
      "V=KE/e; #calculating potential difference in Volt\n",
      "\n",
      "#RESULTS\n",
      "print\"Kinetic Energy in Joule =\",'%.3E'%KE;\n",
      "print\"Potential difference in Volt =\",round(V,3);"
     ],
     "language": "python",
     "metadata": {},
     "outputs": [
      {
       "output_type": "stream",
       "stream": "stdout",
       "text": [
        "Kinetic Energy in Joule = 4.550E-17\n",
        "Potential difference in Volt = 284.375\n"
       ]
      }
     ],
     "prompt_number": 12
    },
    {
     "cell_type": "heading",
     "level": 2,
     "metadata": {},
     "source": [
      "Example 12.20 , Page no:73"
     ]
    },
    {
     "cell_type": "code",
     "collapsed": false,
     "input": [
      "import math\n",
      "from __future__ import division\n",
      " \n",
      "#initialisation of variables\n",
      "V=12; #potential diff in volt\n",
      "Q=15; #charge per time in Coulomb/sec\n",
      "t=3600; #time (seconds in an hour)\n",
      "\n",
      "#CALCULATIONS\n",
      "P=V*Q; #calculating power in Watt\n",
      "W=P*t; #work done in Joule\n",
      "\n",
      "#RESULTS\n",
      "print\"Power in Watt =\",round(P,3);\n",
      "print\"Work done in 1 hr in Joule =\",round(W,3);"
     ],
     "language": "python",
     "metadata": {},
     "outputs": [
      {
       "output_type": "stream",
       "stream": "stdout",
       "text": [
        "Power in Watt = 180.0\n",
        "Work done in 1 hr in Joule = 648000.0\n"
       ]
      }
     ],
     "prompt_number": 13
    }
   ],
   "metadata": {}
  }
 ]
}