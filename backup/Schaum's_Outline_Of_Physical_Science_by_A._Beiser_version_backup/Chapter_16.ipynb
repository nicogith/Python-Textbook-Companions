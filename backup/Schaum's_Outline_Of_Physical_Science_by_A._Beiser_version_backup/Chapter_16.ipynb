{
 "metadata": {
  "name": "",
  "signature": "sha256:6931678b6ef86529128c22f1b628b5a11bab7a81271b1346853319dc88c8f054"
 },
 "nbformat": 3,
 "nbformat_minor": 0,
 "worksheets": [
  {
   "cells": [
    {
     "cell_type": "heading",
     "level": 1,
     "metadata": {},
     "source": [
      "Chapter 16 :Waves"
     ]
    },
    {
     "cell_type": "heading",
     "level": 2,
     "metadata": {},
     "source": [
      "Example 16.9 , Page no:98"
     ]
    },
    {
     "cell_type": "code",
     "collapsed": false,
     "input": [
      "import math\n",
      "from __future__ import division\n",
      " \n",
      "#initialisation of variables\n",
      "l=10**-4; #lambda in m\n",
      "v=0.25; #velocity in m/sec\n",
      "\n",
      "#CALCULATIONS\n",
      "f=v/l; #calculating frequency\n",
      "\n",
      "#RESULTS\n",
      "print\"Frequency in Hz =\",round(f,3);"
     ],
     "language": "python",
     "metadata": {},
     "outputs": [
      {
       "output_type": "stream",
       "stream": "stdout",
       "text": [
        "Frequency in Hz = 2500.0\n"
       ]
      }
     ],
     "prompt_number": 1
    },
    {
     "cell_type": "heading",
     "level": 2,
     "metadata": {},
     "source": [
      "Example 16.10 , Page no:98"
     ]
    },
    {
     "cell_type": "code",
     "collapsed": false,
     "input": [
      "import math\n",
      "from __future__ import division\n",
      " \n",
      "#initialisation of variables\n",
      "v=5020; #/velocity in ft/sec\n",
      "f=256; #frequency in Hz\n",
      "\n",
      "#CALCULATIONS\n",
      "l=v/f; #calculatin lamda\n",
      "\n",
      "#RESULTS\n",
      "print\"Wavelength in ft =\",round(l,3);"
     ],
     "language": "python",
     "metadata": {},
     "outputs": [
      {
       "output_type": "stream",
       "stream": "stdout",
       "text": [
        "Wavelength in ft = 19.609\n"
       ]
      }
     ],
     "prompt_number": 2
    },
    {
     "cell_type": "heading",
     "level": 2,
     "metadata": {},
     "source": [
      "Example 16.11 , Page no:98"
     ]
    },
    {
     "cell_type": "code",
     "collapsed": false,
     "input": [
      "import math\n",
      "from __future__ import division\n",
      " \n",
      "#initialisation of variables\n",
      "f=1/4; #frequency in Hz\n",
      "l=30; #wavwlength in metre\n",
      "\n",
      "#CALCULATIONS\n",
      "v=f*l; #calculating velocity\n",
      "\n",
      "#RESULTS\n",
      "print\"Velocity in m/sec =\",round(v,3);"
     ],
     "language": "python",
     "metadata": {},
     "outputs": [
      {
       "output_type": "stream",
       "stream": "stdout",
       "text": [
        "Velocity in m/sec = 7.5\n"
       ]
      }
     ],
     "prompt_number": 3
    },
    {
     "cell_type": "heading",
     "level": 2,
     "metadata": {},
     "source": [
      "Example 16.12 , Page no:98"
     ]
    },
    {
     "cell_type": "code",
     "collapsed": false,
     "input": [
      "import math\n",
      "from __future__ import division\n",
      " \n",
      "#initialisation of variables\n",
      "l=3.2*10**-2; #/lambda in m\n",
      "v=3*10**8; #velocity in m/sec\n",
      "\n",
      "#CALCULATIONS\n",
      "f=v/l; #calculating frequency\n",
      "\n",
      "#RESULTS\n",
      "print\"Frequency in Hz =\",'%.3E'%f;"
     ],
     "language": "python",
     "metadata": {},
     "outputs": [
      {
       "output_type": "stream",
       "stream": "stdout",
       "text": [
        "Frequency in Hz = 9.375E+09\n"
       ]
      }
     ],
     "prompt_number": 4
    },
    {
     "cell_type": "heading",
     "level": 2,
     "metadata": {},
     "source": [
      "Example 16.13 , Page no:98"
     ]
    },
    {
     "cell_type": "code",
     "collapsed": false,
     "input": [
      "import math\n",
      "from __future__ import division\n",
      " \n",
      "#initialisation of variables\n",
      "c=3*10**8; #velocity in m/sec\n",
      "n=2.42; #refractive index\n",
      "\n",
      "#CALCULATIONS\n",
      "v=c/n; #calculating velocity\n",
      "\n",
      "#RESULTS\n",
      "print\"Velocity in m/sec =\",'%.3E'%v;"
     ],
     "language": "python",
     "metadata": {},
     "outputs": [
      {
       "output_type": "stream",
       "stream": "stdout",
       "text": [
        "Velocity in m/sec = 1.240E+08\n"
       ]
      }
     ],
     "prompt_number": 5
    },
    {
     "cell_type": "heading",
     "level": 2,
     "metadata": {},
     "source": [
      "Example 16.15 , Page no:99"
     ]
    },
    {
     "cell_type": "code",
     "collapsed": false,
     "input": [
      "import math\n",
      "from __future__ import division\n",
      " \n",
      "#initialisation of variables\n",
      "v=343; #velocity in m/sec\n",
      "vs=20; #velocity in m/sec\n",
      "fs=500; #original frquency\n",
      "\n",
      "#CALCULATIONS\n",
      "f1=(fs*v)/(v-vs); #doppler effect\n",
      "\n",
      "#RESULTS\n",
      "print\"Percieved frequency in Hz =\",round(f1,3);"
     ],
     "language": "python",
     "metadata": {},
     "outputs": [
      {
       "output_type": "stream",
       "stream": "stdout",
       "text": [
        "Percieved frequency in Hz = 530.96\n"
       ]
      }
     ],
     "prompt_number": 6
    },
    {
     "cell_type": "heading",
     "level": 2,
     "metadata": {},
     "source": [
      "Example 16.16 , Page no:99"
     ]
    },
    {
     "cell_type": "code",
     "collapsed": false,
     "input": [
      "import math\n",
      "from __future__ import division\n",
      " \n",
      "#initialisation of variables\n",
      "v1=-20; #velocity in m/sec\n",
      "vs=0; #velocity in m/sec\n",
      "fs=500; #original frquency\n",
      "\n",
      "#CALCULATIONS\n",
      "f1=(fs*(v+v1))/(v-vs); #doppler effect\n",
      "\n",
      "#RESULTS\n",
      "print\"Percieved frequency in Hz =\",round(f1,3);"
     ],
     "language": "python",
     "metadata": {},
     "outputs": [
      {
       "output_type": "stream",
       "stream": "stdout",
       "text": [
        "Percieved frequency in Hz = 470.845\n"
       ]
      }
     ],
     "prompt_number": 7
    },
    {
     "cell_type": "heading",
     "level": 2,
     "metadata": {},
     "source": [
      "Example 16.17 , Page no:99"
     ]
    },
    {
     "cell_type": "code",
     "collapsed": false,
     "input": [
      "import math\n",
      "from __future__ import division\n",
      " \n",
      "#initialisation of variables\n",
      "v=343; #velocity in m/sec\n",
      "fs=800; #original frquency\n",
      "f1=750; #percieved frquency\n",
      "\n",
      "#CALCULATIONS\n",
      "vs=v*(1-(fs/f1)); #calculating velocity\n",
      "\n",
      "#RESULTS\n",
      "print\"Trains velocity in m/sec =\",round(vs,3);"
     ],
     "language": "python",
     "metadata": {},
     "outputs": [
      {
       "output_type": "stream",
       "stream": "stdout",
       "text": [
        "Trains velocity in m/sec = -22.867\n"
       ]
      }
     ],
     "prompt_number": 8
    },
    {
     "cell_type": "heading",
     "level": 2,
     "metadata": {},
     "source": [
      "Example 16.18 , Page no:99"
     ]
    },
    {
     "cell_type": "code",
     "collapsed": false,
     "input": [
      "import math\n",
      "from __future__ import division\n",
      " \n",
      "#initialisation of variables\n",
      "l=0.1; #l=(v/c)\n",
      "\n",
      "#CALCULATIONS\n",
      "f=math.sqrt((1-l)/(1+l)); #ratio of frquencies f=(f/fs)\n",
      "f1=f*100;\n",
      "\n",
      "#RESULTS\n",
      "print\"Percent shift =\",round(f1,3);"
     ],
     "language": "python",
     "metadata": {},
     "outputs": [
      {
       "output_type": "stream",
       "stream": "stdout",
       "text": [
        "Percent shift = 90.453\n"
       ]
      }
     ],
     "prompt_number": 9
    }
   ],
   "metadata": {}
  }
 ]
}