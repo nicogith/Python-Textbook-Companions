{
 "metadata": {
  "name": "",
  "signature": "sha256:a1fbce882809ab2c5937a7db727c1a8bcd213a19ad4d5d373685f2a5351e3541"
 },
 "nbformat": 3,
 "nbformat_minor": 0,
 "worksheets": [
  {
   "cells": [
    {
     "cell_type": "heading",
     "level": 1,
     "metadata": {},
     "source": [
      "Chapter 5:Energy"
     ]
    },
    {
     "cell_type": "heading",
     "level": 2,
     "metadata": {},
     "source": [
      "Example 5.2 , Page no:31"
     ]
    },
    {
     "cell_type": "code",
     "collapsed": false,
     "input": [
      "import math\n",
      "from __future__ import division\n",
      "\n",
      "#initialisation of variables\n",
      "F=60; #force in lb\n",
      "s=10; #distance inft\n",
      "\n",
      "#CALCULATIONS\n",
      "W=F*s; #3calculating weight\n",
      "\n",
      "#RESULTS\n",
      "print\"Weight in ft.lb =\",round(W);"
     ],
     "language": "python",
     "metadata": {},
     "outputs": [
      {
       "output_type": "stream",
       "stream": "stdout",
       "text": [
        "Weight in ft.lb = 600.0\n"
       ]
      }
     ],
     "prompt_number": 1
    },
    {
     "cell_type": "heading",
     "level": 2,
     "metadata": {},
     "source": [
      "Example 5.3 , Page no:31"
     ]
    },
    {
     "cell_type": "code",
     "collapsed": false,
     "input": [
      "import math\n",
      "from __future__ import division\n",
      "\n",
      "#initialisation of variables\n",
      "F=2000; #force in lb\n",
      "s=80; #distance inft\n",
      "\n",
      "#CALCULATIONS\n",
      "W=F*s; #calculating weight\n",
      "\n",
      "#RESULTS\n",
      "print\"Weight in ft.lb =\",round(W);\n",
      "print\"Potential Energy in ft.lb =\",round(W);"
     ],
     "language": "python",
     "metadata": {},
     "outputs": [
      {
       "output_type": "stream",
       "stream": "stdout",
       "text": [
        "Weight in ft.lb = 160000.0\n",
        "Potential Energy in ft.lb = 160000.0\n"
       ]
      }
     ],
     "prompt_number": 2
    },
    {
     "cell_type": "heading",
     "level": 2,
     "metadata": {},
     "source": [
      "Example 5.4 , Page no:31"
     ]
    },
    {
     "cell_type": "code",
     "collapsed": false,
     "input": [
      "import math\n",
      "from __future__ import division\n",
      "\n",
      "#initialisation of variables\n",
      "g=9.8; #gravitational constant in m/sec square\n",
      "h=1.5; #height in m\n",
      "m=2; #mass in kg\n",
      "\n",
      "#CALCULATIONS\n",
      "W=m*g*h; #calculating weight\n",
      "\n",
      "#RESULTS\n",
      "print\"Weight in Joule =\",round(W,3);\n",
      "print\"Potential Energy in Joule =\",round(W,3);"
     ],
     "language": "python",
     "metadata": {},
     "outputs": [
      {
       "output_type": "stream",
       "stream": "stdout",
       "text": [
        "Weight in Joule = 29.4\n",
        "Potential Energy in Joule = 29.4\n"
       ]
      }
     ],
     "prompt_number": 3
    },
    {
     "cell_type": "heading",
     "level": 2,
     "metadata": {},
     "source": [
      "Example 5.5 , Page no:31"
     ]
    },
    {
     "cell_type": "code",
     "collapsed": false,
     "input": [
      "import math\n",
      "from __future__ import division\n",
      "\n",
      "#initialisation of variables\n",
      "g=9.8; #gravitational constant in m/sec square\n",
      "m=2; #mass in kg\n",
      "\n",
      "#CALCULATIONS\n",
      "W=m*g; #calculating weight\n",
      "\n",
      "#RESULTS\n",
      "print\"Weight in Newton =\",round(W,3);"
     ],
     "language": "python",
     "metadata": {},
     "outputs": [
      {
       "output_type": "stream",
       "stream": "stdout",
       "text": [
        "Weight in Newton = 19.6\n"
       ]
      }
     ],
     "prompt_number": 4
    },
    {
     "cell_type": "heading",
     "level": 2,
     "metadata": {},
     "source": [
      "Example 5.7 , Page no:31"
     ]
    },
    {
     "cell_type": "code",
     "collapsed": false,
     "input": [
      "import math\n",
      "from __future__ import division\n",
      "\n",
      "#initialisation of variables\n",
      "F=150; #F in lb\n",
      "s=10; #distance in ft\n",
      "t=5; #time in sec\n",
      "\n",
      "#CALCULATIONS\n",
      "P=(F*s)/t; #Power in ft.lb/sec\n",
      "p1=P/550;\n",
      "\n",
      "#RESULTS\n",
      "print\"Power in hp =\",round(p1,3);"
     ],
     "language": "python",
     "metadata": {},
     "outputs": [
      {
       "output_type": "stream",
       "stream": "stdout",
       "text": [
        "Power in hp = 0.545\n"
       ]
      }
     ],
     "prompt_number": 5
    },
    {
     "cell_type": "heading",
     "level": 2,
     "metadata": {},
     "source": [
      "Example 5.8 , Page no:32"
     ]
    },
    {
     "cell_type": "code",
     "collapsed": false,
     "input": [
      "import math\n",
      "from __future__ import division\n",
      "\n",
      "#initialisation of variables\n",
      "s=80; #height in m\n",
      "p=20; #power of hoist in hp\n",
      "m=500; #weight in kg\n",
      "g=9.8; #gravitational constant in m/sec square\n",
      "e=0.8; #efficiency = 80 percent\n",
      "\n",
      "#CALCULATIONS\n",
      "F=m*g; #Force in Newton\n",
      "P=e*p*746; #calculating power in watt\n",
      "t=(F*s)/P; #calculating time required\n",
      "\n",
      "#RESULTS\n",
      "print\"Time required in sec =\",round(t,3);"
     ],
     "language": "python",
     "metadata": {},
     "outputs": [
      {
       "output_type": "stream",
       "stream": "stdout",
       "text": [
        "Time required in sec = 32.842\n"
       ]
      }
     ],
     "prompt_number": 6
    },
    {
     "cell_type": "heading",
     "level": 2,
     "metadata": {},
     "source": [
      "Example 5.9 , Page no:32"
     ]
    },
    {
     "cell_type": "code",
     "collapsed": false,
     "input": [
      "import math\n",
      "from __future__ import division\n",
      "\n",
      "#initialisation of variables\n",
      "v=10; #velocity in min/hr\n",
      "p=80; #power required in hp\n",
      "\n",
      "#CALCULATIONS\n",
      "v1=v*1.47; #converting v to ft/sec\n",
      "P1=p*550; #converting P to ft.lb/sec\n",
      "F=P1/v1; #calculating resistive force required\n",
      "\n",
      "#RESULTS\n",
      "print\"Resistive force required in lb =\",round(F,3);"
     ],
     "language": "python",
     "metadata": {},
     "outputs": [
      {
       "output_type": "stream",
       "stream": "stdout",
       "text": [
        "Resistive force required in lb = 2993.197\n"
       ]
      }
     ],
     "prompt_number": 7
    },
    {
     "cell_type": "heading",
     "level": 2,
     "metadata": {},
     "source": [
      "Example 5.10 , Page no:32"
     ]
    },
    {
     "cell_type": "code",
     "collapsed": false,
     "input": [
      "import math\n",
      "from __future__ import division\n",
      "\n",
      "#initialisation of variables\n",
      "p=1;#power output in hp\n",
      "p=1*746; #power output in Watt using 1hp = 746Watt \n",
      "F=300; #Force in Newton\n",
      "\n",
      "#CALCULATIONS\n",
      "v=p/F; #calculating v in m/sec using P=F*v\n",
      "\n",
      "#RESULTS\n",
      "print\"Velocity in m/sec =\",round(v,3);"
     ],
     "language": "python",
     "metadata": {},
     "outputs": [
      {
       "output_type": "stream",
       "stream": "stdout",
       "text": [
        "Velocity in m/sec = 2.487\n"
       ]
      }
     ],
     "prompt_number": 8
    },
    {
     "cell_type": "heading",
     "level": 2,
     "metadata": {},
     "source": [
      "Example 5.11 , Page no:32"
     ]
    },
    {
     "cell_type": "code",
     "collapsed": false,
     "input": [
      "import math\n",
      "from __future__ import division\n",
      "\n",
      "#initialisation of variables\n",
      "m=1000; #mass in kg\n",
      "v=20; #velocity in m/sec\n",
      "\n",
      "#CALCULATIONS\n",
      "KE=(m*v*v)/2; #calculating kinetic energy using KE=1/2*(m*v*v)\n",
      "\n",
      "#RESULTS\n",
      "print\"Kinetic Energy in Joule =\",round(KE);"
     ],
     "language": "python",
     "metadata": {},
     "outputs": [
      {
       "output_type": "stream",
       "stream": "stdout",
       "text": [
        "Kinetic Energy in Joule = 200000.0\n"
       ]
      }
     ],
     "prompt_number": 9
    },
    {
     "cell_type": "heading",
     "level": 2,
     "metadata": {},
     "source": [
      "Example 5.12 , Page no:32"
     ]
    },
    {
     "cell_type": "code",
     "collapsed": false,
     "input": [
      "import math\n",
      "from __future__ import division\n",
      "\n",
      "#initialisation of variables\n",
      "m=1; #mass in kg\n",
      "KE=1; #Knetic Energy in Joule\n",
      "\n",
      "#CALCULATIONS\n",
      "v=math.sqrt((2*KE)/m); #calculating velocity in m/sec using KE=1/2(m*v*v)\n",
      "\n",
      "#RESULTS\n",
      "print\"Velocity in m/sec =\",round(v,3);"
     ],
     "language": "python",
     "metadata": {},
     "outputs": [
      {
       "output_type": "stream",
       "stream": "stdout",
       "text": [
        "Velocity in m/sec = 1.414\n"
       ]
      }
     ],
     "prompt_number": 10
    },
    {
     "cell_type": "heading",
     "level": 2,
     "metadata": {},
     "source": [
      "Example 5.13 , Page no:32"
     ]
    },
    {
     "cell_type": "code",
     "collapsed": false,
     "input": [
      "import math\n",
      "from __future__ import division\n",
      "\n",
      "#initialisation of variables\n",
      "v=15; #velocity in ft/sec\n",
      "w=128; #weight in lb\n",
      "g=32; #g in ft/sec square\n",
      "\n",
      "#CALCULATIONS\n",
      "m=w/g; #calculating m in slugs\n",
      "KE=(1/2)*(m*v*v); #calculating KE in ft.lb\n",
      "\n",
      "#RESULTS\n",
      "print\"Kinetic Energy in ft.lb =\",round(KE,3);"
     ],
     "language": "python",
     "metadata": {},
     "outputs": [
      {
       "output_type": "stream",
       "stream": "stdout",
       "text": [
        "Kinetic Energy in ft.lb = 450.0\n"
       ]
      }
     ],
     "prompt_number": 11
    },
    {
     "cell_type": "heading",
     "level": 2,
     "metadata": {},
     "source": [
      "Example 5.14 , Page no:32"
     ]
    },
    {
     "cell_type": "code",
     "collapsed": false,
     "input": [
      "import math\n",
      "from __future__ import division\n",
      "\n",
      "#initialisation of variables\n",
      "w=2500; #weight in lb\n",
      "v=40; #velocity in mi/hr\n",
      "\n",
      "#CALCULATIONS\n",
      "m=w/g; #calculating mass in slugs\n",
      "v=40*1.47; #converting velocity in ft/sec\n",
      "KE=(1/2)*(m*v*v); #calculating Kinetic energy in ft.lb\n",
      "\n",
      "#RESULTS\n",
      "print\"Kinetic Energy in ft.lb =\",round(KE,3);"
     ],
     "language": "python",
     "metadata": {},
     "outputs": [
      {
       "output_type": "stream",
       "stream": "stdout",
       "text": [
        "Kinetic Energy in ft.lb = 135056.25\n"
       ]
      }
     ],
     "prompt_number": 12
    },
    {
     "cell_type": "heading",
     "level": 2,
     "metadata": {},
     "source": [
      "Example 5.15 , Page no:33"
     ]
    },
    {
     "cell_type": "code",
     "collapsed": false,
     "input": [
      "import math\n",
      "from __future__ import division\n",
      "\n",
      "#initialisation of variables\n",
      "h=7-3; #height above ground in ft\n",
      "g=32; #g in ft/sec square\n",
      "\n",
      "#CALCULATIONS\n",
      "v=math.sqrt(2*g*h); #calculating velocity in ft/sec since PE=KE\n",
      "\n",
      "#RESULTS\n",
      "print\"Velocity in ft/sec =\",round(v,3);"
     ],
     "language": "python",
     "metadata": {},
     "outputs": [
      {
       "output_type": "stream",
       "stream": "stdout",
       "text": [
        "Velocity in ft/sec = 16.0\n"
       ]
      }
     ],
     "prompt_number": 13
    },
    {
     "cell_type": "heading",
     "level": 2,
     "metadata": {},
     "source": [
      "Example 5.16 , Page no:33"
     ]
    },
    {
     "cell_type": "code",
     "collapsed": false,
     "input": [
      "import math\n",
      "from __future__ import division\n",
      "\n",
      "#initialisation of variables\n",
      "v=20; #velocity in m/sec\n",
      "g=9.8; #g in m/sec square\n",
      "h=200; #height in m\n",
      "\n",
      "#CALCULATIONS\n",
      "diff=(v*v)/(2*9.8*200); #calculating Final KE/Initial PE\n",
      "diff1=(1-diff)*100;\n",
      "\n",
      "#RESULTS\n",
      "print\"Percent of initial PE lost =\",round(diff1,3);"
     ],
     "language": "python",
     "metadata": {},
     "outputs": [
      {
       "output_type": "stream",
       "stream": "stdout",
       "text": [
        "Percent of initial PE lost = 89.796\n"
       ]
      }
     ],
     "prompt_number": 14
    },
    {
     "cell_type": "heading",
     "level": 2,
     "metadata": {},
     "source": [
      "Example 5.17 , Page no:33"
     ]
    },
    {
     "cell_type": "code",
     "collapsed": false,
     "input": [
      "import math\n",
      "from __future__ import division\n",
      "\n",
      "#initialisation of variables\n",
      "w=3; #weight in lb\n",
      "v=15; #velocity in ft/sec\n",
      "g=32; #g in ft/sec square\n",
      "\n",
      "#CALCULATIONS\n",
      "s=(1/24); #s in ft\n",
      "F=(w*v*v)/(2*g*s); #calculating force exerted in lb\n",
      "\n",
      "#RESULTS\n",
      "print\"Force exerted in lb =\",round(F,3);"
     ],
     "language": "python",
     "metadata": {},
     "outputs": [
      {
       "output_type": "stream",
       "stream": "stdout",
       "text": [
        "Force exerted in lb = 253.125\n"
       ]
      }
     ],
     "prompt_number": 15
    },
    {
     "cell_type": "heading",
     "level": 2,
     "metadata": {},
     "source": [
      "Example 5.18 , Page no:33"
     ]
    },
    {
     "cell_type": "code",
     "collapsed": false,
     "input": [
      "import math\n",
      "from __future__ import division\n",
      "\n",
      "#initialisation of variables\n",
      "g=9.8; #g in m/sec square\n",
      "h=2; #height in m\n",
      "F=100; #force in Newton\n",
      "s=15; #s in m\n",
      "v=2; #velocity in m/sec\n",
      "m=30; #mass in 30 kg\n",
      "\n",
      "#CALCULATIONS\n",
      "W=F*s; #calculating work in Joule\n",
      "delKE=(1/2)*(m*v*v); #calculating change in KE in Joule\n",
      "delPE=m*g*h; #calculating change in PE in Joule\n",
      "Wf=W-delKE-delPE; #calculating work in Joule\n",
      "Ff=Wf/s; #calculating frictional force in Newton\n",
      "\n",
      "#RESULTS\n",
      "print\"Frictional Force in Newton =\",round(Ff,3);"
     ],
     "language": "python",
     "metadata": {},
     "outputs": [
      {
       "output_type": "stream",
       "stream": "stdout",
       "text": [
        "Frictional Force in Newton = 56.8\n"
       ]
      }
     ],
     "prompt_number": 16
    },
    {
     "cell_type": "heading",
     "level": 2,
     "metadata": {},
     "source": [
      "Example 5.19 , Page no:33"
     ]
    },
    {
     "cell_type": "code",
     "collapsed": false,
     "input": [
      "import math\n",
      "from __future__ import division\n",
      "\n",
      "#initialisation of variables\n",
      "t=1; #time in sec\n",
      "m=4*10**9; #m in kg\n",
      "c=3*10**8; #velocity of light in m/sec\n",
      "\n",
      "#CALCULATIONS\n",
      "E=m*c*c; #calculating Energy in Joule using Einstein's equation: E=m*c*c\n",
      "P=E/t; #calculating Power output in Watt\n",
      "\n",
      "#RESULTS\n",
      "print\"Power Output in Watt =\",round(P,3);"
     ],
     "language": "python",
     "metadata": {},
     "outputs": [
      {
       "output_type": "stream",
       "stream": "stdout",
       "text": [
        "Power Output in Watt = 3.6e+26\n"
       ]
      }
     ],
     "prompt_number": 17
    },
    {
     "cell_type": "heading",
     "level": 2,
     "metadata": {},
     "source": [
      "Example 5.20 , Page no:33"
     ]
    },
    {
     "cell_type": "code",
     "collapsed": false,
     "input": [
      "import math\n",
      "from __future__ import division\n",
      "\n",
      "#initialisation of variables\n",
      "P=10**8; #power in Watt\n",
      "t=60*60*24; #t in seconds for 1 day\n",
      "c=3*10**8;\n",
      "\n",
      "#CALCULATIONS\n",
      "E=P*t; #calculating energy in Joule using E=P*t\n",
      "m=E/(c*c); #calculating m in kg using Einstein's equation:E=m*c*c\n",
      "\n",
      "#RESULTS\n",
      "print\"Mass in kg =\",round(m,6);"
     ],
     "language": "python",
     "metadata": {},
     "outputs": [
      {
       "output_type": "stream",
       "stream": "stdout",
       "text": [
        "Mass in kg = 9.6e-05\n"
       ]
      }
     ],
     "prompt_number": 18
    }
   ],
   "metadata": {}
  }
 ]
}