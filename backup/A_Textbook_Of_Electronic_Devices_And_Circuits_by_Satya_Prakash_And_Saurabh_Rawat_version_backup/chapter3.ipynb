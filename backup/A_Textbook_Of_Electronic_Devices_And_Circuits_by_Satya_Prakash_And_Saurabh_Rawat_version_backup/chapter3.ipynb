{
 "metadata": {
  "name": "",
  "signature": ""
 },
 "nbformat": 3,
 "nbformat_minor": 0,
 "worksheets": [
  {
   "cells": [
    {
     "cell_type": "heading",
     "level": 1,
     "metadata": {},
     "source": [
      "chapter3 - Transistor amplifiers"
     ]
    },
    {
     "cell_type": "heading",
     "level": 2,
     "metadata": {},
     "source": [
      "Exa 3.1, page 117"
     ]
    },
    {
     "cell_type": "code",
     "collapsed": false,
     "input": [
      "from __future__ import division\n",
      "#Given data\n",
      "ib=10 #in uA\n",
      "ic=1 #in mA\n",
      "ic=ic*10**3 #in uA\n",
      "vi=0.02 #in Volt\n",
      "RC=5 #in kohm\n",
      "RL=10 #in kohm\n",
      "#Part (i)\n",
      "Ai=-ic/ib #unitless\n",
      "Beta=Ai #unitless\n",
      "print \"Current gain =\",Ai\n",
      "#Part (ii)\n",
      "Rie=vi/(ib*10**-6) #in Ohm\n",
      "print \"Input impedence = %0.1f kohm\" %(Rie*10**-3,)\n",
      "#Part (iii)\n",
      "Rac=RC*RL/(RC+RL) #in kohm\n",
      "print \"AC load = %0.1f kohm\" %Rac\n",
      "#Part (iv)\n",
      "Av=-Rac*10**3*Beta/Rie #unitless\n",
      "print \"Voltage gain = %0.1f \" %(Av) \n",
      "#Part (v)\n",
      "PowerGain=Av*Ai #unitless\n",
      "print \"Power Gain =\",round(PowerGain,2) \n",
      "#Note : Ans of Av and Power gain is wrong in the book."
     ],
     "language": "python",
     "metadata": {},
     "outputs": [
      {
       "output_type": "stream",
       "stream": "stdout",
       "text": [
        "Current gain = -100.0\n",
        "Input impedence = 2.0 kohm\n",
        "AC load = 3.3 kohm\n",
        "Voltage gain = 166.7 \n",
        "Power Gain = -16666.67\n"
       ]
      }
     ],
     "prompt_number": 5
    },
    {
     "cell_type": "heading",
     "level": 2,
     "metadata": {},
     "source": [
      "Exa 3.2, page 125"
     ]
    },
    {
     "cell_type": "code",
     "collapsed": false,
     "input": [
      "#Given data\n",
      "RL=10.0 #in kohm\n",
      "RS=1.0 #in kohm\n",
      "hie=1.1 #in kOhm\n",
      "hre=2.5*10**-4 #unitless\n",
      "hfe=50.0 #unitless\n",
      "hoe=25.0 #in u mho\n",
      "Aie=-hfe/(1+hoe*10**-6*RL*10**3) #unitless\n",
      "Zie=hie+hre*Aie*RL #in kOhm\n",
      "Zie=round(Zie) \n",
      "Ave=Aie*RL/Zie #unitless\n",
      "Avs_e=Ave*Zie/(Zie+RS) #\n",
      "deltah=hoe*10**-6*hie*10**3-hfe*hre \n",
      "Zoe=(hie*10**3+RS*10**3)/(hoe*10**-6*RS*10**3+deltah) \n",
      "Ais_e=Aie*RS/(Zie+RS) \n",
      "Ape=Ave*Aie \n",
      "Aps_e=Avs_e*Ais_e \n",
      "print \"Current gain : \",Aie\n",
      "print \"Current gain with source resistance : \",Ais_e\n",
      "print \"Voltage gain : \",Ave,\n",
      "print \"Voltage gain with source resistance : \",Avs_e\n",
      "print \"Power gain : \",Ape\n",
      "print \"Power gain with source resistance : \",Aps_e\n",
      "print \"Input impedence = %0.2f kohm :\"%Zie\n",
      "print \"Output impedence = %0.2f kohm\" %(Zoe/10**3)"
     ],
     "language": "python",
     "metadata": {},
     "outputs": [
      {
       "output_type": "stream",
       "stream": "stdout",
       "text": [
        "Current gain :  -40.0\n",
        "Current gain with source resistance :  -20.0\n",
        "Voltage gain :  -400.0 Voltage gain with source resistance :  -200.0\n",
        "Power gain :  16000.0\n",
        "Power gain with source resistance :  4000.0\n",
        "Input impedence = 1.00 kohm :\n",
        "Output impedence = 52.50 kohm\n"
       ]
      }
     ],
     "prompt_number": 7
    },
    {
     "cell_type": "heading",
     "level": 2,
     "metadata": {},
     "source": [
      "Exa 3.3, page 126"
     ]
    },
    {
     "cell_type": "code",
     "collapsed": false,
     "input": [
      "from __future__ import division\n",
      "#Given data : \n",
      "InputVoltage=1 #in mV\n",
      "RL=5.6 #in kohm\n",
      "RS=600 #in ohm\n",
      "hre=6.5*10**-4 #unitless\n",
      "hie=1.7 #in kOhm\n",
      "hfe=125 #unitless\n",
      "hoe=80 #in uA/V\n",
      "deltah=hoe*10**-6*hie*10**3-hfe*hre \n",
      "Zie=(hie*10**3+RL*10**3*deltah)/(1+hoe*10**-6*RL*10**3) #in Ohm\n",
      "Zoe=(hie*10**3+RS)/(hoe*10**-6*RS+deltah) #in Ohm\n",
      "Ave=-(hfe*RL*10**3)/(hie*10**3+RL*10**3*deltah) #unitless\n",
      "Avs_e=Ave*Zie/(Zie+RS) #\n",
      "OutputVoltage=Avs_e*InputVoltage #in \n",
      "print \"Input impedence = %0.3f kohm\" %(Zie/1000)\n",
      "print \"Output impedence = %0.2f kohm\" %(Zoe/10**3)\n",
      "print \"Voltage gain =\",round(Ave,1) \n",
      "print \"Voltage gain with source resistance =\", round(Avs_e,2)\n",
      "print \"Output Voltage = %0.2f mV\" %(OutputVoltage)\n",
      "#Note : Ans of output impedence is wrong in the book."
     ],
     "language": "python",
     "metadata": {},
     "outputs": [
      {
       "output_type": "stream",
       "stream": "stdout",
       "text": [
        "Input impedence = 1.386 kohm\n",
        "Output impedence = 22.38 kohm\n",
        "Voltage gain = -348.8\n",
        "Voltage gain with source resistance = -243.44\n",
        "Output Voltage = -243.44 mV\n"
       ]
      }
     ],
     "prompt_number": 10
    },
    {
     "cell_type": "heading",
     "level": 2,
     "metadata": {},
     "source": [
      "Exa 3.4, page 129"
     ]
    },
    {
     "cell_type": "code",
     "collapsed": false,
     "input": [
      "from __future__ import division\n",
      "from numpy import log10\n",
      "#Given data : \n",
      "A1=100 #unitless\n",
      "A2=200 #unitless\n",
      "A3=400 #unitless\n",
      "A1=20*log10(A1) #in dB\n",
      "A2=20*log10(A2) #in dB\n",
      "A3=20*log10(A3) #in dB\n",
      "NetVoltageGain=A1+A2+A3 #in dB\n",
      "print \"Net Voltage Gain = %0.f decibels\" %NetVoltageGain\n",
      "#Note : Answer in the book is wrong."
     ],
     "language": "python",
     "metadata": {},
     "outputs": [
      {
       "output_type": "stream",
       "stream": "stdout",
       "text": [
        "Net Voltage Gain = 138 decibels\n"
       ]
      }
     ],
     "prompt_number": 13
    },
    {
     "cell_type": "heading",
     "level": 2,
     "metadata": {},
     "source": [
      "Exa 3.5, page 129"
     ]
    },
    {
     "cell_type": "code",
     "collapsed": false,
     "input": [
      "from __future__ import division\n",
      "#Given data : \n",
      "MaxGain=1000 #unitless(at 2kHz)\n",
      "f1=50 #in Hz\n",
      "f2=10 #in KHz\n",
      "print \"Bandwidth is from \",f1,\"Hz to \",f2,\"kHz\" \n",
      "print \"Lower cutoff frequency \" ,f1,\"Hz\" \n",
      "print \"Upper cutoff frequency \",f2,\"kHz\" "
     ],
     "language": "python",
     "metadata": {},
     "outputs": [
      {
       "output_type": "stream",
       "stream": "stdout",
       "text": [
        "Bandwidth is from  50 Hz to  10 kHz\n",
        "Lower cutoff frequency  50 Hz\n",
        "Upper cutoff frequency  10 kHz\n"
       ]
      }
     ],
     "prompt_number": 14
    },
    {
     "cell_type": "heading",
     "level": 2,
     "metadata": {},
     "source": [
      "Exa 3.6, page 137"
     ]
    },
    {
     "cell_type": "code",
     "collapsed": false,
     "input": [
      "#Given data : \n",
      "RC=10.0 #in kohm\n",
      "hfe=330.0 #unitless\n",
      "hie=4.5 #in kOhm\n",
      "#RS<<hie\n",
      "AVM=hfe*RC*10**3/(hie*10**3+RC*10**3) #unitless\n",
      "AVM1=AVM #Gain of 1st stage\n",
      "AVM2=AVM #Gain of 2nd stage\n",
      "AVM3=hfe*RC*10**3/(hie*10**3) #unitless(#Gain of 3rd stage)\n",
      "OverallGain=AVM1*AVM2*AVM3 #unitless\n",
      "print \"Gain in mid frequeny range = %0.1f\" %AVM \n",
      "print \"This is the gain of 1st and 2nd stage.\"\n",
      "print \"Overall Voltage gain for mid frequency range  = %0.1e\" %OverallGain "
     ],
     "language": "python",
     "metadata": {},
     "outputs": [
      {
       "output_type": "stream",
       "stream": "stdout",
       "text": [
        "Gain in mid frequeny range = 227.6\n",
        "This is the gain of 1st and 2nd stage.\n",
        "Overall Voltage gain for mid frequency range  = 3.8e+07\n"
       ]
      }
     ],
     "prompt_number": 16
    },
    {
     "cell_type": "heading",
     "level": 2,
     "metadata": {},
     "source": [
      "Exa 3.7, page 138"
     ]
    },
    {
     "cell_type": "code",
     "collapsed": false,
     "input": [
      "from numpy import pi\n",
      "#Given data : \n",
      "RC=5.5 #in kohm\n",
      "hfe=330 #unitless\n",
      "hie=4.5 #in kohm\n",
      "f1=30.0 #in Hz\n",
      "#Formula : f1=1/(2*pi*C*(hie+RC))\n",
      "C=1/(2*pi*f1*(hie*10**3+RC*10**3)) #in F\n",
      "print \"Value of coupling capacitor = %0.2f micro Farad\" %(C*10**6)"
     ],
     "language": "python",
     "metadata": {},
     "outputs": [
      {
       "output_type": "stream",
       "stream": "stdout",
       "text": [
        "Value of coupling capacitor = 0.53 micro Farad\n"
       ]
      }
     ],
     "prompt_number": 17
    },
    {
     "cell_type": "heading",
     "level": 2,
     "metadata": {},
     "source": [
      "Exa 3.8, page 142"
     ]
    },
    {
     "cell_type": "code",
     "collapsed": false,
     "input": [
      "from __future__ import division\n",
      "#Given data : \n",
      "RC=10 #in kohm\n",
      "Rin=1 #in kohm\n",
      "Beta=100 #unitless\n",
      "RL=100 #in ohm\n",
      "RCdash=RC*10**3*RL/(RC*10**3+RL) #in ohm\n",
      "VoltageGain=Beta*RCdash/(Rin*10**3) #in volt\n",
      "print \"Voltage Gain : \",round(VoltageGain,1)"
     ],
     "language": "python",
     "metadata": {},
     "outputs": [
      {
       "output_type": "stream",
       "stream": "stdout",
       "text": [
        "Voltage Gain :  9.9\n"
       ]
      }
     ],
     "prompt_number": 19
    },
    {
     "cell_type": "heading",
     "level": 2,
     "metadata": {},
     "source": [
      "Exa 3.9, page 142"
     ]
    },
    {
     "cell_type": "code",
     "collapsed": false,
     "input": [
      "from numpy import pi\n",
      "#Given data : \n",
      "Rout=10 #in kohm\n",
      "Rin=2.5 #in kohm\n",
      "f=200 #in Hz\n",
      "#Formula : Rout=omega*Lp=2*pi*f*Lp\n",
      "Lp=Rout*10**3/(2*pi*f) #in H\n",
      "print \"Inductance of primary %0.1f Henry\" %round(Lp)\n",
      "#Formula : Rin=omega*Ls=2*pi*f*Ls\n",
      "Ls=Rin*10**3/(2*pi*f) #in H\n",
      "print \"Inductance of seondary = %0.1f Henry\" %round(Ls)"
     ],
     "language": "python",
     "metadata": {},
     "outputs": [
      {
       "output_type": "stream",
       "stream": "stdout",
       "text": [
        "Inductance of primary 8.0 Henry\n",
        "Inductance of seondary = 2.0 Henry\n"
       ]
      }
     ],
     "prompt_number": 20
    },
    {
     "cell_type": "heading",
     "level": 2,
     "metadata": {},
     "source": [
      "Exa 3.10, page 142"
     ]
    },
    {
     "cell_type": "code",
     "collapsed": false,
     "input": [
      "from numpy import sqrt\n",
      "#Given data : \n",
      "ZL=10 #in ohm\n",
      "ZP=1000 #in ohm\n",
      "#For max power : ZP=n**2*ZL\n",
      "n=sqrt(ZP/ZL) #turn ratio\n",
      "print \"Turn ratio : \",n"
     ],
     "language": "python",
     "metadata": {},
     "outputs": [
      {
       "output_type": "stream",
       "stream": "stdout",
       "text": [
        "Turn ratio :  10.0\n"
       ]
      }
     ],
     "prompt_number": 22
    },
    {
     "cell_type": "heading",
     "level": 2,
     "metadata": {},
     "source": [
      "Exa 3.11, page 149"
     ]
    },
    {
     "cell_type": "code",
     "collapsed": false,
     "input": [
      "#Given data : \n",
      "Po_dc=10 #in watt\n",
      "Po_ac=3.5 #in watt\n",
      "#Part (i) :\n",
      "ETAcollector=Po_ac/Po_dc #unitless\n",
      "ETAcollector=ETAcollector*100 #collector efficiency in %\n",
      "print \"Collector Efficiency = %.f  %%\" %ETAcollector \n",
      "#Part (ii)\n",
      "print \"Power Rating of transistor = %0.1f Watt\" %Po_dc"
     ],
     "language": "python",
     "metadata": {},
     "outputs": [
      {
       "output_type": "stream",
       "stream": "stdout",
       "text": [
        "Collector Efficiency = 35  %\n",
        "Power Rating of transistor = 10.0 Watt\n"
       ]
      }
     ],
     "prompt_number": 23
    },
    {
     "cell_type": "heading",
     "level": 2,
     "metadata": {},
     "source": [
      "Exa 3.12, page 149"
     ]
    },
    {
     "cell_type": "code",
     "collapsed": false,
     "input": [
      "from __future__ import division\n",
      "from numpy import sqrt\n",
      "#Given data : \n",
      "VCC=20 #in volt\n",
      "RC=20 #in ohm\n",
      "VCEQ=10 #in volt\n",
      "ICQ=500 #in mA\n",
      "#part (i) :\n",
      "Pin_dc=VCC*ICQ*10**-3 #in watt\n",
      "print \"Total dc power taken by the circuit = %0.f Watt\" %Pin_dc\n",
      "#part (ii) :\n",
      "PRc_dc=ICQ**2*10**-6*RC #in watt\n",
      "print \"dc power dissipated by the collector load  = %0.f Watt\" %PRc_dc\n",
      "#part (iii) :\n",
      "Io=250 #in mA(maximum value of output ac current)\n",
      "Irms=Io/sqrt(2) #in mA\n",
      "Po_ac=Irms**2*10**-6*RC #in watt\n",
      "print \"Power developed across the load = %0.3f Watt\" %Po_ac\n",
      "#part (iv) :\n",
      "Ptr_dc=Pin_dc-PRc_dc #in watt\n",
      "print \"dc power dissipated by the collector load = %0.f Watt\" %Ptr_dc\n",
      "#part (v) :\n",
      "PC_dc=Pin_dc-PRc_dc-Po_ac #in watt\n",
      "print \"dc power dissipated by the collector load = %0.3f Watt\" %PC_dc\n",
      "#part (vi) :\n",
      "ETAoverall=Po_ac*100/Pin_dc #Overall Efficiency (in %)\n",
      "print \"Overall Efficiency = %0.2f %%\" %ETAoverall\n",
      "#part (vii) :\n",
      "ETAcollector=Po_ac*100/PRc_dc #Collector Efficiency (in %)\n",
      "print \"Collector Efficiency = %0.1f %%\" %ETAcollector"
     ],
     "language": "python",
     "metadata": {},
     "outputs": [
      {
       "output_type": "stream",
       "stream": "stdout",
       "text": [
        "Total dc power taken by the circuit = 10 Watt\n",
        "dc power dissipated by the collector load  = 5 Watt\n",
        "Power developed across the load = 0.625 Watt\n",
        "dc power dissipated by the collector load = 5 Watt\n",
        "dc power dissipated by the collector load = 4.375 Watt\n",
        "Overall Efficiency = 6.25 %\n",
        "Collector Efficiency = 12.5 %\n"
       ]
      }
     ],
     "prompt_number": 26
    },
    {
     "cell_type": "heading",
     "level": 2,
     "metadata": {},
     "source": [
      "Exa 3.13, page 151"
     ]
    },
    {
     "cell_type": "code",
     "collapsed": false,
     "input": [
      "from __future__ import division\n",
      "#Given data : \n",
      "n=10 #turn ratio\n",
      "RL=100 #in ohm\n",
      "ICQ=100 #in mA\n",
      "RLdash=n**2*RL #in ohm\n",
      "MaxPowerOut=(ICQ*10**-3)**2*RLdash/2 #in watt\n",
      "print \"Maximum Power output = %0.1f watt\" %MaxPowerOut"
     ],
     "language": "python",
     "metadata": {},
     "outputs": [
      {
       "output_type": "stream",
       "stream": "stdout",
       "text": [
        "Maximum Power output = 50.0 watt\n"
       ]
      }
     ],
     "prompt_number": 27
    },
    {
     "cell_type": "heading",
     "level": 2,
     "metadata": {},
     "source": [
      "Exa 3.14, page 152"
     ]
    },
    {
     "cell_type": "code",
     "collapsed": false,
     "input": [
      "from __future__ import division\n",
      "#Given data : \n",
      "#Part (i) : without heat sink\n",
      "ThetaMax=90 #in degree C\n",
      "Theta_o=30 #in degree C\n",
      "R=300 #in degree C/W\n",
      "Pr=(ThetaMax-Theta_o)/R #in watt\n",
      "print \"Without heat sink, Maximum permissible power dissipatio = %0.1f watt\" %Pr\n",
      "#Part (ii) : with heat sink\n",
      "ThetaMax=90 #in degree C\n",
      "Theta_o=30 #in degree C\n",
      "R=60 #in degree C/W\n",
      "Pr=(ThetaMax-Theta_o)/R #in watt\n",
      "print \"With heat sink, Maximum permissible power dissipatio = %0.f watt\" %Pr"
     ],
     "language": "python",
     "metadata": {},
     "outputs": [
      {
       "output_type": "stream",
       "stream": "stdout",
       "text": [
        "Without heat sink, Maximum permissible power dissipatio = 0.2 watt\n",
        "With heat sink, Maximum permissible power dissipatio = 1 watt\n"
       ]
      }
     ],
     "prompt_number": 31
    }
   ],
   "metadata": {}
  }
 ]
}
