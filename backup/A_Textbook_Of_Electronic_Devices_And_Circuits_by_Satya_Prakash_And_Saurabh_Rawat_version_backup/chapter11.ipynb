{
 "metadata": {
  "name": "",
  "signature": ""
 },
 "nbformat": 3,
 "nbformat_minor": 0,
 "worksheets": [
  {
   "cells": [
    {
     "cell_type": "heading",
     "level": 1,
     "metadata": {},
     "source": [
      "chapter11 - Multivibrators"
     ]
    },
    {
     "cell_type": "heading",
     "level": 2,
     "metadata": {},
     "source": [
      "Exa 11.1, page 323"
     ]
    },
    {
     "cell_type": "code",
     "collapsed": false,
     "input": [
      "#Given data\n",
      "R1=15 #in kohm\n",
      "R2=15 #in kohm\n",
      "C1=0.005 #in uF\n",
      "C2=0.005 #in uF\n",
      "R=R1 #in Kohm\n",
      "C=C1 #in uF\n",
      "T=0.69*(R*10**3*C*10**-6+R*10**3*C*10**-6) #in second\n",
      "f=1/T #in Hz\n",
      "print \"Frequency of oscillators = %0.2f kHz\" %(f*10**-3)"
     ],
     "language": "python",
     "metadata": {},
     "outputs": [
      {
       "output_type": "stream",
       "stream": "stdout",
       "text": [
        "Frequency of oscillators = 9.66 kHz\n"
       ]
      }
     ],
     "prompt_number": 6
    }
   ],
   "metadata": {}
  }
 ]
}
