{
 "metadata": {
  "name": "",
  "signature": ""
 },
 "nbformat": 3,
 "nbformat_minor": 0,
 "worksheets": [
  {
   "cells": [
    {
     "cell_type": "heading",
     "level": 1,
     "metadata": {},
     "source": [
      "chapter1 - Special diodes"
     ]
    },
    {
     "cell_type": "heading",
     "level": 2,
     "metadata": {},
     "source": [
      "Exa 1, page 9"
     ]
    },
    {
     "cell_type": "code",
     "collapsed": false,
     "input": [
      "from __future__ import division \n",
      "from numpy import exp\n",
      "#Given data\n",
      "I=40 #in mA\n",
      "V=0.25 #in Volt\n",
      "T=20 #in degree C\n",
      "T=T+273 #in Kelvin\n",
      "ETA=1 #For Ge\n",
      "e=1.6*10**-19 #in Coulamb(electronic charge)\n",
      "k=1.38*10**-23 #in J/K(Boltzman Constant)\n",
      "#Formula : I=Io*(exp(%e*V/(ETA*k*T))-1)\n",
      "y=(e*V/(ETA*k*T)) #Assumed\n",
      "y=round(y)\n",
      "Io=I*10**-3/(exp(y)-1) #in mA\n",
      "print \"Reverse saturation current =\",round(Io*10**6,2),\" micro Ampere\""
     ],
     "language": "python",
     "metadata": {},
     "outputs": [
      {
       "output_type": "stream",
       "stream": "stdout",
       "text": [
        "Reverse saturation current = 1.82  micro Ampere\n"
       ]
      }
     ],
     "prompt_number": 3
    },
    {
     "cell_type": "heading",
     "level": 2,
     "metadata": {},
     "source": [
      "Exa 1.2, page 9"
     ]
    },
    {
     "cell_type": "code",
     "collapsed": false,
     "input": [
      "from __future__ import division\n",
      "from math import log\n",
      "#Given data\n",
      "Io=10 #in uA\n",
      "I=1 #in Ampere\n",
      "ETA=2 #For Si\n",
      "T=27 #in degree C\n",
      "T=T+273 #in Kelvin\n",
      "e=1.6*10**-19 #in Coulamb(electronic charge)\n",
      "k=1.38*10**-23 #in J/K(Boltzman Constant)\n",
      "#Formula : I=Io*(exp(%e*V/(ETA*k*T))-1)\n",
      "V=(ETA*k*T/e)*log(I/(Io*10**-6)+1) #in Volt\n",
      "print \"Forward Voltage across the diode =\",round(V,3),\" Volt\""
     ],
     "language": "python",
     "metadata": {},
     "outputs": [
      {
       "output_type": "stream",
       "stream": "stdout",
       "text": [
        "Forward Voltage across the diode = 0.596  Volt\n"
       ]
      }
     ],
     "prompt_number": 6
    },
    {
     "cell_type": "heading",
     "level": 2,
     "metadata": {},
     "source": [
      "Exa 1.3, page 22"
     ]
    },
    {
     "cell_type": "code",
     "collapsed": false,
     "input": [
      "from __future__ import division\n",
      "from numpy import sqrt, pi\n",
      "#Given data\n",
      "RL=1 #in kOhm\n",
      "#rf<<RL\n",
      "Vrms=200 #in Volt\n",
      "#Part (i)\n",
      "Vo=Vrms*sqrt(2) #in Volt\n",
      "Idc=Vo/(RL*10**3*pi) #in Ampere\n",
      "print \"DC current in load =\",round(Idc*10**3),\"mA\" \n",
      "#Part (ii)\n",
      "Vdc=RL*10**3*Idc #in Volt\n",
      "print \"DC voltage across load =\",round(Vdc),\"Volt\"\n",
      "#Part (iii)\n",
      "#Gamma=sqrt((Irms/Idc)**2-1)=sqrt((Io/2)/(Io/pi)-1)=sqrt((pi/2)**2-1)\n",
      "Gamma=sqrt((pi/2)**2-1) #unitless\n",
      "print \"Ripple factor =\",round(Gamma,2)\n",
      "#Part (iv)\n",
      "PIV=Vrms*sqrt(2) #in volt\n",
      "print \"Peak Inverse Voltage = %d Volt\" %PIV"
     ],
     "language": "python",
     "metadata": {},
     "outputs": [
      {
       "output_type": "stream",
       "stream": "stdout",
       "text": [
        "DC current in load = 90.0 mA\n",
        "DC voltage across load = 90.0 Volt\n",
        "Ripple factor = 1.21\n",
        "Peak Inverse Voltage = 282 Volt\n"
       ]
      }
     ],
     "prompt_number": 8
    },
    {
     "cell_type": "heading",
     "level": 2,
     "metadata": {},
     "source": [
      "Exa 1.4, page 23"
     ]
    },
    {
     "cell_type": "code",
     "collapsed": false,
     "input": [
      "from __future__ import division\n",
      "from numpy import sqrt, pi\n",
      "#Given data\n",
      "rf=20 #in ohm\n",
      "RL=980 #in Ohm\n",
      "Vrms=50 #in Volt\n",
      "Vo=Vrms*sqrt(2) #in Volt\n",
      "Io=Vo/(RL+rf) #in Ampere\n",
      "#Part (i)\n",
      "Idc=2*Io/pi #in Ampere\n",
      "print \"Average DC current = %0.f mA\" %round(Idc*10**3)\n",
      "#Part (ii)\n",
      "Irms=Io/sqrt(2) #in Ampere\n",
      "print \"rms value of load current = %0.f mA\" %(Irms*1000)\n",
      "#Part (iii)\n",
      "Vdc=RL*Idc #in Volt\n",
      "print \"DC output voltage = %0.1f Volt\" %Vdc\n",
      "#Part (iv)\n",
      "ETA=(Idc**2*RL/(Irms**2*(RL+rf)))*100 #Rectification Efficiency in %\n",
      "print \"Rectification Efficiency is \",round(ETA,1),\" %\"\n",
      "#Part (v)\n",
      "PIV=2*Vo #in volt\n",
      "print \"Peak Inverse Voltage = %0.1f Volt\" %PIV"
     ],
     "language": "python",
     "metadata": {},
     "outputs": [
      {
       "output_type": "stream",
       "stream": "stdout",
       "text": [
        "Average DC current = 45 mA\n",
        "rms value of load current = 50 mA\n",
        "DC output voltage = 44.1 Volt\n",
        "Rectification Efficiency is  79.4  %\n",
        "Peak Inverse Voltage = 141.4 Volt\n"
       ]
      }
     ],
     "prompt_number": 14
    },
    {
     "cell_type": "heading",
     "level": 2,
     "metadata": {},
     "source": [
      "Exa 1.5, page 26"
     ]
    },
    {
     "cell_type": "code",
     "collapsed": false,
     "input": [
      "from __future__ import division\n",
      "#Given data\n",
      "Vin=40 #in volt\n",
      "VZ=10 #in volt\n",
      "Vo=10 #in volt\n",
      "IZmax=50 #in mA\n",
      "IL=0 #in mA\n",
      "#Formula : I=IZ+IL=IZmax+0\n",
      "I=IZmax+0 #in mA\n",
      "#Formula : VZ=Vin-R*I\n",
      "Rmin=(Vin-VZ)/(I*10**-3) #in Ohm\n",
      "print \"Minimum value of resistance =\",Rmin,\"Ohm\""
     ],
     "language": "python",
     "metadata": {},
     "outputs": [
      {
       "output_type": "stream",
       "stream": "stdout",
       "text": [
        "Minimum value of resistance = 600.0 Ohm\n"
       ]
      }
     ],
     "prompt_number": 16
    },
    {
     "cell_type": "heading",
     "level": 2,
     "metadata": {},
     "source": [
      "Exa 1.6, page 26"
     ]
    },
    {
     "cell_type": "code",
     "collapsed": false,
     "input": [
      "from __future__ import division\n",
      "#Given data\n",
      "Vmin=15 #Minimum input voltage in volt\n",
      "VZ=6.8 #Voltage across zener in volt\n",
      "Vo=VZ #output voltage in volt\n",
      "Vsr1=Vmin-Vo #Voltage aross series resistance in volt\n",
      "print \"If R is the series esistance, Total current in series resistance in Ampere : I=Vsr/R=8.2/R \"\n",
      "ILmin=5 #in mA\n",
      "print \"current in zener diode in Ampere :IZ=I-IL=(8.2/R-IL*10-3)          eqn(1)\"\n",
      "Vmax=20 #mximum output voltage\n",
      "Vo=VZ #output voltage in volt\n",
      "Vsr2=Vmax-Vo #Voltage aross series resistance in volt\n",
      "print \"Current in series resistance circuit in Ampere : I=Vsr/R\"\n",
      "ILmax=15 #in mA\n",
      "print \"current in zener diode in Ampere :IZ=I-IL=(Rs/R-IL*10-3)          eqn(2)\"\n",
      "print \"For Zener diode to work as voltage regulator,(1) and (2) must be same.\"\n",
      "print \"(8.2/R-IL*10-3)=(13.2/R-IL*10-3)\"\n",
      "R=(Vsr2-Vsr1)/(ILmax*10**-3-ILmin*10**-3) #in Ohm\n",
      "print \"Required value of Series Resistor =\",R,\"ohm\""
     ],
     "language": "python",
     "metadata": {},
     "outputs": [
      {
       "output_type": "stream",
       "stream": "stdout",
       "text": [
        "If R is the series esistance, Total current in series resistance in Ampere : I=Vsr/R=8.2/R \n",
        "current in zener diode in Ampere :IZ=I-IL=(8.2/R-IL*10-3)          eqn(1)\n",
        "Current in series resistance circuit in Ampere : I=Vsr/R\n",
        "current in zener diode in Ampere :IZ=I-IL=(Rs/R-IL*10-3)          eqn(2)\n",
        "For Zener diode to work as voltage regulator,(1) and (2) must be same.\n",
        "(8.2/R-IL*10-3)=(13.2/R-IL*10-3)\n",
        "Required value of Series Resistor = 500.0 ohm\n"
       ]
      }
     ],
     "prompt_number": 17
    },
    {
     "cell_type": "heading",
     "level": 2,
     "metadata": {},
     "source": [
      "Exa 1.7, page 27"
     ]
    },
    {
     "cell_type": "code",
     "collapsed": false,
     "input": [
      "from __future__ import division\n",
      "#Given data\n",
      "Vin=18 #in volt\n",
      "IZ=20 #in mA\n",
      "ILav=(5+35)/2 #in mA\n",
      "VZ=12 #in volt\n",
      "Vo=12 #in volt\n",
      "I=IZ+ILav #in mA\n",
      "R=(Vin-Vo)/(I*10**-3) #in Ohm\n",
      "print \"Current limiting resistance =\",R,\"Ohm\"\n",
      "P=(I*10**-3)**2*R #in Watts\n",
      "print \"Power disspation in resistance =\",P,\"Watt\""
     ],
     "language": "python",
     "metadata": {},
     "outputs": [
      {
       "output_type": "stream",
       "stream": "stdout",
       "text": [
        "Current limiting resistance = 150.0 Ohm\n",
        "Power disspation in resistance = 0.24 Watt\n"
       ]
      }
     ],
     "prompt_number": 18
    },
    {
     "cell_type": "heading",
     "level": 2,
     "metadata": {},
     "source": [
      "Exa 1.8, page 28"
     ]
    },
    {
     "cell_type": "code",
     "collapsed": false,
     "input": [
      "from __future__ import division\n",
      "#Given data\n",
      "R=1 #in kOhm\n",
      "RL=5 #in kOhm\n",
      "VZ=10 #in volt\n",
      "Vo=10 #in volt\n",
      "P=250 #in mW\n",
      "IL=Vo/RL #in mA\n",
      "IZmin=0 #in mA\n",
      "IZmax=P/VZ #in mA\n",
      "Imin=IZmin+IL #in mA\n",
      "Imax=IZmax+IL #in mA\n",
      "Vin_min=VZ+Imin*10**-3*R*10**3 #in volt\n",
      "Vin_max=VZ+Imax*10**-3*R*10**3 #in volt\n",
      "print \"The input voltage ranges from \",Vin_min,\"V to \",Vin_max,\"V\""
     ],
     "language": "python",
     "metadata": {},
     "outputs": [
      {
       "output_type": "stream",
       "stream": "stdout",
       "text": [
        "The input voltage ranges from  12.0 V to  37.0 V\n"
       ]
      }
     ],
     "prompt_number": 24
    },
    {
     "cell_type": "heading",
     "level": 2,
     "metadata": {},
     "source": [
      "Exa 1.9, page 28"
     ]
    },
    {
     "cell_type": "code",
     "collapsed": false,
     "input": [
      "from __future__ import division\n",
      "#Given data\n",
      "R=5 #in kOhm\n",
      "R=R*1000 #in Ohm\n",
      "RL=10 #in kOhm\n",
      "RL=RL*1000 #in Ohm\n",
      "Vin=120 #in Volt\n",
      "VZ=50 #in Volt\n",
      "#Part (i)\n",
      "Vo=VZ #in Volt\n",
      "print \"Output voltage =\",Vo,\" Volt\"\n",
      "#Part (ii)\n",
      "VR=Vin-VZ #in Volt\n",
      "print \"Voltage drop across series resistance =\",VR,\"Volt\"\n",
      "#Part (iii)\n",
      "IL=Vo/RL #in Ampere\n",
      "print \"Load Current =\",IL*1000,\"mA\"\n",
      "I=VR/R #in Ampere\n",
      "print \"Current through resistance R =\",I*1000,\"mA\"\n",
      "IZ=I-IL #in Ampere\n",
      "print \"Load Current =\",IZ*1000,\"mA\" "
     ],
     "language": "python",
     "metadata": {},
     "outputs": [
      {
       "output_type": "stream",
       "stream": "stdout",
       "text": [
        "Output voltage = 50  Volt\n",
        "Voltage drop across series resistance = 70 Volt\n",
        "Load Current = 5.0 mA\n",
        "Current through resistance R = 14.0 mA\n",
        "Load Current = 9.0 mA\n"
       ]
      }
     ],
     "prompt_number": 28
    },
    {
     "cell_type": "heading",
     "level": 2,
     "metadata": {},
     "source": [
      "Exa 1.10, page 30"
     ]
    },
    {
     "cell_type": "code",
     "collapsed": false,
     "input": [
      "from __future__ import division\n",
      "#Given data\n",
      "VDmin=1.5 #in Volt\n",
      "VDmax=2.3 #in Volt\n",
      "VS=5 #in Volt\n",
      "RS=270 #in Ohm\n",
      "Imin=(VS-VDmax)/RS #in Ampere\n",
      "print \"Minimum value of LED current = %0.f mA\" %(Imin*1000) \n",
      "Imax=(VS-VDmin)/RS #in Ampere\n",
      "print \"Maximum value of LED current = %0.f mA \" %(round(Imax*1000))"
     ],
     "language": "python",
     "metadata": {},
     "outputs": [
      {
       "output_type": "stream",
       "stream": "stdout",
       "text": [
        "Minimum value of LED current = 10 mA\n",
        "Maximum value of LED current = 13 mA \n"
       ]
      }
     ],
     "prompt_number": 3
    },
    {
     "cell_type": "heading",
     "level": 2,
     "metadata": {},
     "source": [
      "Exa 1.11, page 32"
     ]
    },
    {
     "cell_type": "code",
     "collapsed": false,
     "input": [
      "from __future__ import division\n",
      "from numpy import sqrt, pi\n",
      "#Given data\n",
      "C1min=10 #in pF\n",
      "C2max=50 #in pF\n",
      "L=5 #in mH\n",
      "L=L*10**-3 #in H\n",
      "#Formula : CT=C1*C2/(C1+C2)\n",
      "#Minimum\n",
      "C1=10 #in pF\n",
      "C2=10 #in pF\n",
      "CTmin=C1*C2/(C1+C2) #in pF\n",
      "CTmin=CTmin*10**-12 #in F\n",
      "#Maximum\n",
      "C1=50 #in pF\n",
      "C2=50 #in pF\n",
      "CTmax=C1*C2/(C1+C2) #in pF\n",
      "CTmax=CTmax*10**-12 #in F\n",
      "#Formula : f=1/(2*pi*sqrt(L*C))\n",
      "#maximum :\n",
      "fmax=1/(2*pi*sqrt(L*CTmin)) \n",
      "#minimum :\n",
      "fmin=1/(2*pi*sqrt(L*CTmax)) \n",
      "print \"The frequency of tuning circuit ranges from \",round(fmin/10**6,2),\"MHz to \",round(fmax/10**6,1),\"MHz.\"\n",
      "#Note : Answer in the book is wrong."
     ],
     "language": "python",
     "metadata": {},
     "outputs": [
      {
       "output_type": "stream",
       "stream": "stdout",
       "text": [
        "The frequency of tuning circuit ranges from  0.45 MHz to  1.0 MHz.\n"
       ]
      }
     ],
     "prompt_number": 11
    },
    {
     "cell_type": "heading",
     "level": 2,
     "metadata": {},
     "source": [
      "Exa 1.12, page 33"
     ]
    },
    {
     "cell_type": "code",
     "collapsed": false,
     "input": [
      "from __future__ import division\n",
      "from numpy import sqrt\n",
      "#Given data\n",
      "C1=21 #in pF\n",
      "V1=4 #in volt\n",
      "V2=9 #in volt\n",
      "#C2/C1=sqrt(V1/V2)\" \n",
      "C2=sqrt(V1/V2)*C1 #in pF\n",
      "print \"At reverse bias 9V, Diode capacitance =\",C2,\" pF\" "
     ],
     "language": "python",
     "metadata": {},
     "outputs": [
      {
       "output_type": "stream",
       "stream": "stdout",
       "text": [
        "At reverse bias 9V, Diode capacitance = 14.0  pF\n"
       ]
      }
     ],
     "prompt_number": 14
    },
    {
     "cell_type": "heading",
     "level": 2,
     "metadata": {},
     "source": [
      "Exa 1.13, page 39"
     ]
    },
    {
     "cell_type": "code",
     "collapsed": false,
     "input": [
      "#Given data\n",
      "R=0.90 #in A/W\n",
      "Pop=1 #in mW\n",
      "#Part (i)\n",
      "IP=R*Pop #in mA\n",
      "print \"Power of incident light = %0.f mW, Photocurrent is %0.2f mA\" %(Pop,IP)\n",
      "#Part (ii)\n",
      "print \"Here IP is not proportional to Pop(for Pop>1.5mW)\"\n",
      "print \"Hence Photourrent can not be calculated.\" "
     ],
     "language": "python",
     "metadata": {},
     "outputs": [
      {
       "output_type": "stream",
       "stream": "stdout",
       "text": [
        "Power of incident light = 1 mW, Photocurrent is 0.90 mA\n",
        "Here IP is not proportional to Pop(for Pop>1.5mW)\n",
        "Hence Photourrent can not be calculated.\n"
       ]
      }
     ],
     "prompt_number": 16
    },
    {
     "cell_type": "heading",
     "level": 2,
     "metadata": {},
     "source": [
      "Exa 1.14, page 39"
     ]
    },
    {
     "cell_type": "code",
     "collapsed": false,
     "input": [
      "from __future__ import division\n",
      "#Given data\n",
      "ETA=70 #in %\n",
      "Eg=0.75 #in eV\n",
      "Eg=Eg*1.6*10**-19 #in Joule\n",
      "h=6.63*10**-34 #Planks constant in J-s\n",
      "c=3*10**8 #speed of light in m/s\n",
      "e=1.6*10**-19 #in coulamb\n",
      "lamda=h*c/Eg #in meter\n",
      "print \"Wavelength =\",lamda*10**9,\" nm\"\n",
      "R=(ETA/100)*e*lamda/(h*c) #in A/W\n",
      "print \"Responsivity of InGaAs photodiode =\",round(R,3),\" A/W\" "
     ],
     "language": "python",
     "metadata": {},
     "outputs": [
      {
       "output_type": "stream",
       "stream": "stdout",
       "text": [
        "Wavelength = 1657.5  nm\n",
        "Responsivity of InGaAs photodiode = 0.933  A/W\n"
       ]
      }
     ],
     "prompt_number": 20
    },
    {
     "cell_type": "heading",
     "level": 2,
     "metadata": {},
     "source": [
      "Exa 1.15, page 41"
     ]
    },
    {
     "cell_type": "code",
     "collapsed": false,
     "input": [
      "#Given data\n",
      "W1=2.5 #in eV\n",
      "W2=1.9 #in eV\n",
      "ContactPotential=W1-W2 #in Volt\n",
      "print \"Contact potential =\",ContactPotential,\"Volts\""
     ],
     "language": "python",
     "metadata": {},
     "outputs": [
      {
       "output_type": "stream",
       "stream": "stdout",
       "text": [
        "Contact potential = 0.6 Volts\n"
       ]
      }
     ],
     "prompt_number": 22
    }
   ],
   "metadata": {}
  }
 ]
}
