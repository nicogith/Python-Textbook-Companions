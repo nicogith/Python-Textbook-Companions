{
 "metadata": {
  "name": "",
  "signature": ""
 },
 "nbformat": 3,
 "nbformat_minor": 0,
 "worksheets": [
  {
   "cells": [
    {
     "cell_type": "heading",
     "level": 1,
     "metadata": {},
     "source": [
      "chapter2 - Bipolar junction transistors(BJTs)"
     ]
    },
    {
     "cell_type": "heading",
     "level": 2,
     "metadata": {},
     "source": [
      "Exa 2.1, page 63"
     ]
    },
    {
     "cell_type": "code",
     "collapsed": false,
     "input": [
      "from __future__ import division\n",
      "from fractions import Fraction\n",
      "#Given data\n",
      "deltaIB=50 #in uA\n",
      "deltaIC=1 #in mA\n",
      "deltaIC=deltaIC*10**3 #in uA\n",
      "Beta=deltaIC/deltaIB #unitless\n",
      "print \"Current Amplification Factor, Beta =\",Beta \n",
      "Alfa=Beta/(1+Beta) #unittless\n",
      "print \"Current Amplification Factor, Alfa =\",Fraction(Alfa).limit_denominator()"
     ],
     "language": "python",
     "metadata": {},
     "outputs": [
      {
       "output_type": "stream",
       "stream": "stdout",
       "text": [
        "Current Amplification Factor, Beta = 20.0\n",
        "Current Amplification Factor, Alfa = 20/21\n"
       ]
      }
     ],
     "prompt_number": 12
    },
    {
     "cell_type": "heading",
     "level": 2,
     "metadata": {},
     "source": [
      "Exa 2.2, page 63"
     ]
    },
    {
     "cell_type": "code",
     "collapsed": false,
     "input": [
      "from __future__ import division\n",
      "#Given data\n",
      "IB=25 #in uA\n",
      "Beta=40 #unitless\n",
      "IC=Beta*IB #in uA\n",
      "IE=IB+IC #in uA\n",
      "print \"The value of IE =\",IE,\" micro Ampere\""
     ],
     "language": "python",
     "metadata": {},
     "outputs": [
      {
       "output_type": "stream",
       "stream": "stdout",
       "text": [
        "The value of IE = 1025  micro Ampere\n"
       ]
      }
     ],
     "prompt_number": 13
    },
    {
     "cell_type": "heading",
     "level": 2,
     "metadata": {},
     "source": [
      "Exa 2.3, page 63"
     ]
    },
    {
     "cell_type": "code",
     "collapsed": false,
     "input": [
      "#Given data\n",
      "alfa=0.98 #unitless\n",
      "deltaIB=0.2 #in mA\n",
      "Beta=alfa/(1-alfa) #unitless\n",
      "deltaIC=Beta*deltaIB #in mA\n",
      "print \"Change in collector curent =\",deltaIC,\" milli Ampere.\""
     ],
     "language": "python",
     "metadata": {},
     "outputs": [
      {
       "output_type": "stream",
       "stream": "stdout",
       "text": [
        "Change in collector curent = 9.8  milli Ampere.\n"
       ]
      }
     ],
     "prompt_number": 14
    },
    {
     "cell_type": "heading",
     "level": 2,
     "metadata": {},
     "source": [
      "Exa 2.4, page 64"
     ]
    },
    {
     "cell_type": "code",
     "collapsed": false,
     "input": [
      "from __future__ import division\n",
      "#Given data\n",
      "Beta=45 #unitless\n",
      "RL=1 #in kOhm\n",
      "deltaVCE=1 #in volt\n",
      "print \"Part (i) : CE coniguration\"\n",
      "IC=deltaVCE/(RL*1000) #in Ampere\n",
      "#Formula : Beta=deltaIC/deltaIB\n",
      "IB=IC/Beta #in Ampere\n",
      "print \"Input Base Current, IB =\",round(IB*10**3,3),\" mA\" \n",
      "print \"Part (ii) : CB coniguration\"\n",
      "IC=deltaVCE/(RL*1000) #in Ampere\n",
      "#Formula : Beta=deltaIC/deltaIB\n",
      "IE=IB+IC #in Ampere\n",
      "print \"Input Emitter Current, IE =\",round(IE*10**3,3),\" mA\" "
     ],
     "language": "python",
     "metadata": {},
     "outputs": [
      {
       "output_type": "stream",
       "stream": "stdout",
       "text": [
        "Part (i) : CE coniguration\n",
        "Input Base Current, IB = 0.022  mA\n",
        "Part (ii) : CB coniguration\n",
        "Input Emitter Current, IE = 1.022  mA\n"
       ]
      }
     ],
     "prompt_number": 19
    },
    {
     "cell_type": "heading",
     "level": 2,
     "metadata": {},
     "source": [
      "Exa 2.5, page 64"
     ]
    },
    {
     "cell_type": "code",
     "collapsed": false,
     "input": [
      "#Given data\n",
      "Ileakage=12.5 #in uA\n",
      "ICBO=12.5 #in uA\n",
      "IE=2 #in mA\n",
      "IC=1.97 #in mA\n",
      "#Formula : IC=alfa*IE+ICBO\n",
      "alfa=(IC-ICBO/10**3)/IE #unitless\n",
      "print \"Current Gain =\",round(alfa,3)\n",
      "IB=IE-IC #in mA\n",
      "print \"Base current =\",IB,\" mA\""
     ],
     "language": "python",
     "metadata": {},
     "outputs": [
      {
       "output_type": "stream",
       "stream": "stdout",
       "text": [
        "Current Gain = 0.979\n",
        "Base current = 0.03  mA\n"
       ]
      }
     ],
     "prompt_number": 21
    },
    {
     "cell_type": "heading",
     "level": 2,
     "metadata": {},
     "source": [
      "Exa 2.6, page 64"
     ]
    },
    {
     "cell_type": "code",
     "collapsed": false,
     "input": [
      "#Given data\n",
      "deltaVBE=200 #in mVolt\n",
      "deltaIB=100 #in uA\n",
      "ri=deltaVBE*10**-3/(deltaIB*10**-6) #in Ohm\n",
      "print \"Input resistane of transistor =\",ri/1000,\" kohm\" "
     ],
     "language": "python",
     "metadata": {},
     "outputs": [
      {
       "output_type": "stream",
       "stream": "stdout",
       "text": [
        "Input resistane of transistor = 2.0  kohm\n"
       ]
      }
     ],
     "prompt_number": 22
    },
    {
     "cell_type": "heading",
     "level": 2,
     "metadata": {},
     "source": [
      "Exa 2.7, page 64"
     ]
    },
    {
     "cell_type": "code",
     "collapsed": false,
     "input": [
      "#Given data\n",
      "deltaVEB=200 #in mVolt\n",
      "deltaIE=5 #in mA\n",
      "ri=deltaVEB*10**-3/(deltaIE*10**-3) #in Ohm\n",
      "print \"Input resistane of transistor =\",ri,\"Ohm\""
     ],
     "language": "python",
     "metadata": {},
     "outputs": [
      {
       "output_type": "stream",
       "stream": "stdout",
       "text": [
        "Input resistane of transistor = 40.0 Ohm\n"
       ]
      }
     ],
     "prompt_number": 23
    },
    {
     "cell_type": "heading",
     "level": 2,
     "metadata": {},
     "source": [
      "Exa 2.9, page 72"
     ]
    },
    {
     "cell_type": "code",
     "collapsed": false,
     "input": [
      "from __future__ import division\n",
      "#Given data\n",
      "Ri=500 #in Ohm\n",
      "RL=1 #in kOhm\n",
      "hie=1 #in kOhm\n",
      "hre=2*10**-4 #unitless\n",
      "hfe=50 #unitless\n",
      "hoe=25 #micro mho\n",
      "#Part (a) :\n",
      "Ai=-hfe/(1+hoe*10**-6*RL*10**3) #unitless\n",
      "print \"Current Gain = \",round(Ai,1) \n",
      "#Part (b) :\n",
      "Rin=hie*10**3-(hre*hfe/(hoe*10**-6+1/RL*10**3)) #in Ohm\n",
      "print \"Input Resistance =\",round(Rin,2),\" Ohm\"\n",
      "#Part (c) :\n",
      "Av=Ai*RL*10**3/Ri #unitless\n",
      "print \"Voltage Gain =\",round(Av,1) \n",
      "# Calculation error in the book hence answer wrong."
     ],
     "language": "python",
     "metadata": {},
     "outputs": [
      {
       "output_type": "stream",
       "stream": "stdout",
       "text": [
        "Current Gain =  -48.8\n",
        "Input Resistance = 1000.0  Ohm\n",
        "Voltage Gain = -97.6\n"
       ]
      }
     ],
     "prompt_number": 29
    },
    {
     "cell_type": "heading",
     "level": 2,
     "metadata": {},
     "source": [
      "Exa 2.10. page 78"
     ]
    },
    {
     "cell_type": "code",
     "collapsed": false,
     "input": [
      "from numpy import log\n",
      "#Given data\n",
      "alfaF=0.99 #unitless\n",
      "alfaR=0.20 #unitless\n",
      "IC=1 #in mA\n",
      "IB=50 #in micro Ampere\n",
      "T=300 #in kelvin\n",
      "k=1.38*10**-23 #Boltzman constant\n",
      "e=1.6*10**-19 #in cooulamb\n",
      "Vth=k*T/e #in Volt\n",
      "VCEsat=Vth*log(((IC*10**-3*(1-alfaR)+IB*10**-6)*alfaF)/((alfaF*IB*10**-6-(1-alfaF)*IC*10**-3)*alfaR)) #in volt\n",
      "print \"Collector-Emitter saturation voltage =\",round(VCEsat,3),\" Volt\" "
     ],
     "language": "python",
     "metadata": {},
     "outputs": [
      {
       "output_type": "stream",
       "stream": "stdout",
       "text": [
        "Collector-Emitter saturation voltage = 0.121  Volt\n"
       ]
      }
     ],
     "prompt_number": 31
    },
    {
     "cell_type": "heading",
     "level": 2,
     "metadata": {},
     "source": [
      "Exa 2.11, page 78"
     ]
    },
    {
     "cell_type": "code",
     "collapsed": false,
     "input": [
      "#Given data\n",
      "IES=10**-14 #in A\n",
      "alfaF=1.0 #unitless\n",
      "alfaR=0.1 #unitless\n",
      "#Formula : alfaF*IES=alfaR*ICS\n",
      "ICS=(alfaF/alfaR)*IES #in Ampere\n",
      "print \"Collector base junction saturation current =\",ICS,\"Ampere\"\n",
      "RelativeSize=ICS/IES #unitless\n",
      "print \"Collector is \",RelativeSize,\" times larger in size than emitter.\"\n",
      "BetaR=alfaR/(1-alfaR) #unitless\n",
      "print \"Value of BetaR = \",round(BetaR,2) "
     ],
     "language": "python",
     "metadata": {},
     "outputs": [
      {
       "output_type": "stream",
       "stream": "stdout",
       "text": [
        "Collector base junction saturation current = 1e-13 Ampere\n",
        "Collector is  10.0  times larger in size than emitter.\n",
        "Value of BetaR =  0.11\n"
       ]
      }
     ],
     "prompt_number": 33
    },
    {
     "cell_type": "heading",
     "level": 2,
     "metadata": {},
     "source": [
      "Exa 2.12, page 87"
     ]
    },
    {
     "cell_type": "code",
     "collapsed": false,
     "input": [
      "%matplotlib inline\n",
      "import matplotlib.pylab as plt\n",
      "import numpy as np\n",
      "# Given Data \n",
      "from __future__ import division\n",
      "#Given data\n",
      "Beta=100 #unitless\n",
      "VCC=6 #in volt\n",
      "RB=530 #in kOhm\n",
      "RC=2 #in kOhm\n",
      "VBE=0.7 #in volt(For Si)\n",
      "#Part (i)\n",
      "IC1=0 #in A\n",
      "VCE1=VCC-IC1*RC #in volt\n",
      "#If VCE=0 #in volt\n",
      "VCE2=0 #in volt\n",
      "IC2=VCC/RC #in Ampere\n",
      "#Formula : VCC=VBE+IB*RB\n",
      "IB=(VCC-VBE)/(RB*10**3) #in Ampere\n",
      "IC=Beta*IB #in Ampere\n",
      "VCE=VCC-IC*RC*10**3 #in volt\n",
      "print \"Q point coordinates are :\"\n",
      "print \"IC=\",IC*10**3,\" mA and VCE=\",VCE,\" Volt.\"\n",
      "plt.plot([VCE1,IC1],[VCE2,IC2])\n",
      "plt.xlabel('Time')\n",
      "plt.ylabel('Voltage')\n",
      "plt.title('DC load line')\n",
      "plt.show()"
     ],
     "language": "python",
     "metadata": {},
     "outputs": [
      {
       "output_type": "stream",
       "stream": "stdout",
       "text": [
        "Q point coordinates are :\n",
        "IC= 1.0  mA and VCE= 4.0  Volt.\n"
       ]
      },
      {
       "metadata": {},
       "output_type": "display_data",
       "png": "[encoded data removed]",
       "text": [
        "<matplotlib.figure.Figure at 0x7fe5272b9490>"
       ]
      }
     ],
     "prompt_number": 3
    },
    {
     "cell_type": "heading",
     "level": 2,
     "metadata": {},
     "source": [
      "Exa 2.13, page 88"
     ]
    },
    {
     "cell_type": "code",
     "collapsed": false,
     "input": [
      "#Given data\n",
      "Beta=100 #unitless\n",
      "IC=1 #in mA\n",
      "VCC=12 #in volt\n",
      "VBE=0.3 #in volt(For Ge)\n",
      "#Prt (i)\n",
      "IB=IC/Beta #in mA\n",
      "#Formula : VCC=VBE+IB*RB\n",
      "RB=(VCC-VBE)/(IB*10**-3) #in Ampere\n",
      "print \"Resistance RB =\",RB/10**3,\" kOhm\" \n",
      "#part (ii)\n",
      "Beta=50 #unitless\n",
      "IB=(VCC-VBE)/RB #in Ampere\n",
      "IC=Beta*IB #in Ampere\n",
      "print \"Zero signal IC =\",IC*10**3,\"mA\""
     ],
     "language": "python",
     "metadata": {},
     "outputs": [
      {
       "output_type": "stream",
       "stream": "stdout",
       "text": [
        "Resistance RB = 1170.0  kOhm\n",
        "Zero signal IC = 0.5 mA\n"
       ]
      }
     ],
     "prompt_number": 43
    },
    {
     "cell_type": "heading",
     "level": 2,
     "metadata": {},
     "source": [
      "Exa 2.14, page 88"
     ]
    },
    {
     "cell_type": "code",
     "collapsed": false,
     "input": [
      "from __future__ import division\n",
      "from numpy import array\n",
      "#Given data :\n",
      "print \"To set the required operating point, value of RB will be find out. \"\n",
      "IC=1 #in mA\n",
      "VCE=8 #in volt\n",
      "Beta=100 #unitless\n",
      "VCC=12 #in volt\n",
      "VBE=0.3 #in volt(For Ge)\n",
      "#Prt (i)\n",
      "RC=(VCC-VCE)/(IC*10**-3) #in ohm\n",
      "IB=IC/Beta #in mA\n",
      "RB=(VCC-VBE-Beta*(IB*10**-3)*RC)/(IB*10**-3) #in Ohm\n",
      "print \"Value of RB =\",RB/1000,\"kOhm\" \n",
      "#Part (ii)\n",
      "Beta=50 #unitless\n",
      "IB=(VCC-VBE)/(RB+Beta*RC) #in mA\n",
      "IC=Beta*IB #in Ampere\n",
      "VCE=VCC-IC*RC #in volt\n",
      "print \"New operating point is (\",round(VCE,1),\"V,\",round(IC*10**3,1),\"mA)\" "
     ],
     "language": "python",
     "metadata": {},
     "outputs": [
      {
       "output_type": "stream",
       "stream": "stdout",
       "text": [
        "To set the required operating point, value of RB will be find out. \n",
        "Value of RB = 770.0 kOhm\n",
        "New operating point is ( 9.6 V, 0.6 mA)\n"
       ]
      }
     ],
     "prompt_number": 49
    },
    {
     "cell_type": "heading",
     "level": 2,
     "metadata": {},
     "source": [
      "Exa 2.15, page 93"
     ]
    },
    {
     "cell_type": "code",
     "collapsed": false,
     "input": [
      "#Given data :\n",
      "R1=50 #in kohm\n",
      "R2=10 #in kohm\n",
      "RE=1 #in kohm\n",
      "VCC=12 #in volt\n",
      "#Part (i)\n",
      "VBE=0.1 #in volt\n",
      "VBBdash=(R2/(R1+R2))*VCC #in volt\n",
      "IC1=(VBBdash-VBE)/(RE*1000) #in mA\n",
      "print \"At VBE=0.1V, Value of IC = %0.1f mA\" %(IC1*1000)\n",
      "#Part (ii)\n",
      "VBE=0.3 #in volt\n",
      "IC2=(VBBdash-VBE)/(RE*1000) #in mA\n",
      "print \"At VBE=0.3V, Value of IC = %0.1f mA\" %(IC2*1000)"
     ],
     "language": "python",
     "metadata": {},
     "outputs": [
      {
       "output_type": "stream",
       "stream": "stdout",
       "text": [
        "At VBE=0.1V, Value of IC = 1.9 mA\n",
        "At VBE=0.3V, Value of IC = 1.7 mA\n"
       ]
      }
     ],
     "prompt_number": 52
    },
    {
     "cell_type": "heading",
     "level": 2,
     "metadata": {},
     "source": [
      "Exa 2.16, page 94"
     ]
    },
    {
     "cell_type": "code",
     "collapsed": false,
     "input": [
      "from __future__ import division\n",
      "#Given data : \n",
      "R1=10 #in kohm\n",
      "R2=5 #in kohm\n",
      "RE=2 #in kohm\n",
      "RC=1 #in kohm\n",
      "VCC=12 #in volt\n",
      "Beta=100 #unitless\n",
      "VBE=0.7 #in volt\n",
      "#Part (i)\n",
      "#Formula : VBE=VBBdash-IB*RBdash-IE*RE\n",
      "print \"IB is very small : VBE=VBBdash-IE*RE\"\n",
      "VBBdash=(R2/(R1+R2))*VCC #in volt\n",
      "IE=(VBBdash-VBE)/(RE*10**3) #in Ampere\n",
      "print \"As base current is very small IC=IE\"\n",
      "IC=IE #in mA\n",
      "#Formul : VCC=IC*RC+VCE+IE*RE\n",
      "VCE=VCC-IC*RC*10**3-IE*RE*10**3 #in Volt\n",
      "print \"Operating point is (\",VCE,\"V,\",IC*10**3,\"mA)\" \n",
      "#Part (ii)\n",
      "RBdash=(R1*R2/(R1+R2)) #in kOhm\n",
      "S=(Beta+1)/(1+Beta*(RE/(RBdash+RE))) \n",
      "print \"Staility factor S =\",round(S,2)"
     ],
     "language": "python",
     "metadata": {},
     "outputs": [
      {
       "output_type": "stream",
       "stream": "stdout",
       "text": [
        "IB is very small : VBE=VBBdash-IE*RE\n",
        "As base current is very small IC=IE\n",
        "Operating point is ( 7.05 V, 1.65 mA)\n",
        "Staility factor S = 2.62\n"
       ]
      }
     ],
     "prompt_number": 56
    },
    {
     "cell_type": "heading",
     "level": 2,
     "metadata": {},
     "source": [
      "Exa 2.17, page 97"
     ]
    },
    {
     "cell_type": "code",
     "collapsed": false,
     "input": [
      "from __future__ import division\n",
      "#Given data : \n",
      "R1=200 #in kohm\n",
      "R2=100 #in kohm\n",
      "RE=1 #in kohm\n",
      "RC=1 #in kohm\n",
      "VCC=9 #in volt\n",
      "he=2 #in kohm\n",
      "hfe=100 #unitless\n",
      "hoe=0 #unitless\n",
      "hre=0 #unitless\n",
      "VBE=0.7 #in volt(For Si)\n",
      "#Part (i)\n",
      "RB=R1*R2/(R1+R2) #in kohm\n",
      "VBBdash=(R2/(R1+R2))*VCC #in volt\n",
      "#Applying Kirchoff Law \n",
      "IB=(VBBdash-VBE)/(RB*10**3+RE*10**3*(1+hfe)) #in Ampere\n",
      "IC=hfe*IB #in Ampere\n",
      "print \"Value of IC = %0.2f mA\" %(IC*10**3)\n",
      "#Part (ii)\n",
      "#Applying Kirchoff Law \n",
      "VCE=VCC-IC*RC*10**3-RE*1063*IB*(hfe+1) #in volt\n",
      "print \"VCE = %0.1f Volt\" %(VCE,)\n",
      "#Note : Ans of VCE is wrong in the book as VCC=10 V has been taken instead of 9 volt."
     ],
     "language": "python",
     "metadata": {},
     "outputs": [
      {
       "output_type": "stream",
       "stream": "stdout",
       "text": [
        "Value of IC = 1.37 mA\n",
        "VCE = 6.2 Volt\n"
       ]
      }
     ],
     "prompt_number": 58
    },
    {
     "cell_type": "heading",
     "level": 2,
     "metadata": {},
     "source": [
      "Exa 2.18, page 99"
     ]
    },
    {
     "cell_type": "code",
     "collapsed": false,
     "input": [
      "from __future__ import division\n",
      "#Given data : \n",
      "RB=50 #in kohm\n",
      "RC=3 #in kohm\n",
      "VCC=10 #in volt\n",
      "VEE=5 #in volt\n",
      "hfe=100 #unitless\n",
      "VCEsat=0.2 #in volt\n",
      "VBEsat=0.8 #in volt\n",
      "VBEactive=0.7 #in volt\n",
      "VBE=0.7 #in volt(For Si)\n",
      "#Applying \n",
      "IB=(VEE-VBE)/(RB*10**3) #in Ampere: Kirchoff 2nd Law : VEE-RB*IB-VBE=0\n",
      "IC=hfe*IB #in Ampere \n",
      "VCB=VCC-IC*RC*10**3-VBEactive #in volt: #Applying Kirchoff 2nd Law to collector-emitter loop: VCC-IC*RC-VCB-VBEactive=0\n",
      "print \"Collector to base voltage, VCB = %0.1f V\" %VCB\n",
      "print \"This shows that the base collector junction is forward biased. This implies that the transistor is in saturation region.\"\n",
      "IB=(VEE-VBEsat)/(RB*10**3) #in Ampere\n",
      "print \"Value of IB = %0.3f mA\" %(IB*10**3)\n",
      "IC=(VCC-VCEsat)/(RC*10**3) \n",
      "print \"Value of IC = %0.2f mA\" %(IC*10**3)"
     ],
     "language": "python",
     "metadata": {},
     "outputs": [
      {
       "output_type": "stream",
       "stream": "stdout",
       "text": [
        "Collector to base voltage, VCB = -16.5 V\n",
        "This shows that the base collector junction is forward biased. This implies that the transistor is in saturation region.\n",
        "Value of IB = 0.084 mA\n",
        "Value of IC = 3.27 mA\n"
       ]
      }
     ],
     "prompt_number": 61
    },
    {
     "cell_type": "heading",
     "level": 2,
     "metadata": {},
     "source": [
      "Exa 2.19, page 100"
     ]
    },
    {
     "cell_type": "code",
     "collapsed": false,
     "input": [
      "#Given data : \n",
      "VCC=20 #in volt\n",
      "VBE=0.7 #in volt(For Si)\n",
      "Beta=50 #unitless\n",
      "RE=200 #in ohm\n",
      "R1=60 #in kohm\n",
      "R2=30 #in kohm\n",
      "V2=VCC*R2/(R1+R2) #in volt\n",
      "VEO=V2-VBE #in volt\n",
      "print \"Voltage across RE = %0.2f Volt\" %VEO"
     ],
     "language": "python",
     "metadata": {},
     "outputs": [
      {
       "output_type": "stream",
       "stream": "stdout",
       "text": [
        "Voltage across RE = 5.97 Volt\n"
       ]
      }
     ],
     "prompt_number": 62
    }
   ],
   "metadata": {}
  }
 ]
}
