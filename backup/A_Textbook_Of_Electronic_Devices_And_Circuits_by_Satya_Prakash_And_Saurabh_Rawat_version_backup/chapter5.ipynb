{
 "metadata": {
  "name": "",
  "signature": ""
 },
 "nbformat": 3,
 "nbformat_minor": 0,
 "worksheets": [
  {
   "cells": [
    {
     "cell_type": "heading",
     "level": 1,
     "metadata": {},
     "source": [
      "chapter5 - Feed back"
     ]
    },
    {
     "cell_type": "heading",
     "level": 2,
     "metadata": {},
     "source": [
      "Exa 5.1, page 192"
     ]
    },
    {
     "cell_type": "code",
     "collapsed": false,
     "input": [
      "from __future__ import division\n",
      "#Given data :\n",
      "A=50 #gain(unitless)\n",
      "Af=10 #gain(unitless)\n",
      "#Formula : Af=A/(1+A*Beta)\n",
      "Beta=(A/Af-1)/A #feedback ratio (unitless)\n",
      "print \"Percentage of output fed back = %0.f %%\" %(Beta*100)"
     ],
     "language": "python",
     "metadata": {},
     "outputs": [
      {
       "output_type": "stream",
       "stream": "stdout",
       "text": [
        "Percentage of output fed back = 8 %\n"
       ]
      }
     ],
     "prompt_number": 2
    },
    {
     "cell_type": "heading",
     "level": 2,
     "metadata": {},
     "source": [
      "Exa 5.2, page 192"
     ]
    },
    {
     "cell_type": "code",
     "collapsed": false,
     "input": [
      "#Given data :\n",
      "A=1000 #gainWithoutFeedback(unitless)\n",
      "#Part (i) : \n",
      "print \"At normal collector supply :\"\n",
      "print \"with feedback gain reduces by a factor 0.40\" \n",
      "Af=A-A*0.40 #gainWithFeedback(unitless)\n",
      "print \"At normal collector supply, Gain with feedback =\",Af \n",
      "#Formula : Af=A/(1+A*Beta)\n",
      "Beta=(A/Af-1)/A #feedback factor (unitless)\n",
      "print \"At reduced power supply :\"\n",
      "Adash=800 #gainWithoutFeedback(unitless)\n",
      "Af_dash=Adash/(1+Adash*Beta)\n",
      "print \"At Reduced collector supply, Gain with feedback \",round(Af_dash) \n",
      "#Part (ii)\n",
      "Reduction=((A-Adash)/A)*100 #% reduction without feedback\n",
      "print \"percentage reduction in gain without feedback = %0.1f %%\" %Reduction \n",
      "Reduction1=((Af-Af_dash)/Af)*100 #% reduction without feedback\n",
      "print \"percentage reduction in gain with feedback = %0.1f %%\" %round(Reduction1)\n",
      "#Note : answer of Af is wrong in the book."
     ],
     "language": "python",
     "metadata": {},
     "outputs": [
      {
       "output_type": "stream",
       "stream": "stdout",
       "text": [
        "At normal collector supply :\n",
        "with feedback gain reduces by a factor 0.40\n",
        "At normal collector supply, Gain with feedback = 600.0\n",
        "At reduced power supply :\n",
        "At Reduced collector supply, Gain with feedback  522.0\n",
        "percentage reduction in gain without feedback = 20.0 %\n",
        "percentage reduction in gain with feedback = 13.0 %\n"
       ]
      }
     ],
     "prompt_number": 3
    },
    {
     "cell_type": "heading",
     "level": 2,
     "metadata": {},
     "source": [
      "Exa 5.3, page 192"
     ]
    },
    {
     "cell_type": "code",
     "collapsed": false,
     "input": [
      "#Given data :\n",
      "A=100 #gain without feedback(unitless)\n",
      "Beta=1/25 #feedback ratio (unitless)\n",
      "Vi=50 #in mV\n",
      "#Part (i) :\n",
      "Af=A/(1+A*Beta) #gain with feedback(unitless)\n",
      "print \"(i) Gain with feedback =\",Af\n",
      "#Part (ii) :\n",
      "FeedbackFactor=Beta*A #unitless\n",
      "print \"(ii) Feedback Factor =\",FeedbackFactor \n",
      "#Part (iii) :\n",
      "Vo_dash=Af*Vi*10**-3 #in volt\n",
      "print \"(iii) Output Voltage =\",Vo_dash,\" Volts\"\n",
      "#Part (iv) :\n",
      "FeedbackVoltage=Beta*Vo_dash #in volt\n",
      "print \"(iv) Feedback Voltage =\",FeedbackVoltage,\" Volts\"\n",
      "#Part (v) :\n",
      "Vi_dash=Vi*(1+Beta*A) #in mv\n",
      "print \"(v) New Increased Input Voltage =\",Vi_dash,\" milli Volts\" "
     ],
     "language": "python",
     "metadata": {},
     "outputs": [
      {
       "output_type": "stream",
       "stream": "stdout",
       "text": [
        "(i) Gain with feedback = 20.0\n",
        "(ii) Feedback Factor = 4.0\n",
        "(iii) Output Voltage = 1.0  Volts\n",
        "(iv) Feedback Voltage = 0.04  Volts\n",
        "(v) New Increased Input Voltage = 250.0  milli Volts\n"
       ]
      }
     ],
     "prompt_number": 5
    },
    {
     "cell_type": "heading",
     "level": 2,
     "metadata": {},
     "source": [
      "Exa 5.4, page 193"
     ]
    },
    {
     "cell_type": "code",
     "collapsed": false,
     "input": [
      "#Given data :\n",
      "BW=200 #in kHz\n",
      "A=40 #gain without feedback(in dB)\n",
      "Beta=5 #negative feedback in %\n",
      "Beta=Beta/100 #feedback factor\n",
      "#Formula : Af=A/(1+A*Beta)\n",
      "Af=A/(1+A*Beta) #gain with feedback(in dB)\n",
      "print \"Since gain bandwidth product remains constant, A*BW=Af*BW_dash\"\n",
      "BW_dash=A*BW/Af #in kHz\n",
      "print \"New Bandwidth =\",BW_dash,\" kHz\""
     ],
     "language": "python",
     "metadata": {},
     "outputs": [
      {
       "output_type": "stream",
       "stream": "stdout",
       "text": [
        "Since gain bandwidth product remains constant, A*BW=Af*BW_dash\n",
        "New Bandwidth = 600.0  kHz\n"
       ]
      }
     ],
     "prompt_number": 7
    },
    {
     "cell_type": "heading",
     "level": 2,
     "metadata": {},
     "source": [
      "Exa 5.5, page 193"
     ]
    },
    {
     "cell_type": "code",
     "collapsed": false,
     "input": [
      "from fractions import Fraction\n",
      "#Given data :\n",
      "A=140 #gain without feedback(unitless)\n",
      "Af=17.5 #gain with feedback(unitless)\n",
      "#Formula : Af=A/(1+A*Beta)\n",
      "Beta=(A/Af-1)/A #feedback ratio (unitless)\n",
      "print \"Fraction of output fed back to input : \",Fraction(Beta).limit_denominator()"
     ],
     "language": "python",
     "metadata": {},
     "outputs": [
      {
       "output_type": "stream",
       "stream": "stdout",
       "text": [
        "Fraction of output fed back to input :  1/20\n"
       ]
      }
     ],
     "prompt_number": 11
    },
    {
     "cell_type": "heading",
     "level": 2,
     "metadata": {},
     "source": [
      "Exa 5.6, page 205"
     ]
    },
    {
     "cell_type": "code",
     "collapsed": false,
     "input": [
      "#Given data :\n",
      "A=200 #gain without feedback(unitless)\n",
      "Beta=0.25 #fraction ratio(unitless)\n",
      "print \"We have, Af=A/(1+Beta*A)          eqn(1)\"\n",
      "print \"Differentiating it with respect to A, we get\"\n",
      "print \"dAf/dA=((1+Beta*A)-Beta*A)/(1+Beta*A)**2=1/(1+Beta*A)**2\"\n",
      "print \"dAf=dA/(1+Beta*A)**2          eqn(2)\"\n",
      "print \"Dividing eqn(2) by eqn(1),\"\n",
      "print \"dAf/Af=(dA/((1+Beta*A)**2))*((1+Beta*A)/A)=(1/(1+Beta*A))*(dA/A)\"\n",
      "#Given : Normal gain changes by 10 %, it means dA/A=10/100\n",
      "dABYA=10/100 #change in gain\n",
      "dAfBYAf=(1/(1+Beta*A))*(dABYA) #change in gain\n",
      "print \"Change in gain : %0.5f\"%dAfBYAf"
     ],
     "language": "python",
     "metadata": {},
     "outputs": [
      {
       "output_type": "stream",
       "stream": "stdout",
       "text": [
        "We have, Af=A/(1+Beta*A)          eqn(1)\n",
        "Differentiating it with respect to A, we get\n",
        "dAf/dA=((1+Beta*A)-Beta*A)/(1+Beta*A)**2=1/(1+Beta*A)**2\n",
        "dAf=dA/(1+Beta*A)**2          eqn(2)\n",
        "Dividing eqn(2) by eqn(1),\n",
        "dAf/Af=(dA/((1+Beta*A)**2))*((1+Beta*A)/A)=(1/(1+Beta*A))*(dA/A)\n",
        "Change in gain : 0.00196\n"
       ]
      }
     ],
     "prompt_number": 18
    },
    {
     "cell_type": "heading",
     "level": 2,
     "metadata": {},
     "source": [
      "Exa 5.7, page 206"
     ]
    },
    {
     "cell_type": "code",
     "collapsed": false,
     "input": [
      "#Given data :\n",
      "A=200 #gain without feedback(unitless)\n",
      "Dn=10 #Distortion in %\n",
      "Vi=0.5 #Initial input voltage in volt\n",
      "Beta=0.05 #feedback ratio (unitless)\n",
      "#Formula : Af=A/(1+A*Beta)\n",
      "Af=A/(1+A*Beta) #gain with feedback(unitless)\n",
      "print \"New gain :\",round(Af,2) \n",
      "Dn_dash=Dn/(1+A*Beta) #new distortion in %\n",
      "print \"Distortion with negative feedback =\",round(Dn_dash,3),\" %\"\n",
      "InitialOutputVoltage=A*Vi #in Volt\n",
      "print \"Initial Output Voltage =\",InitialOutputVoltage,\" Volt\"\n",
      "NewInputVoltage=InitialOutputVoltage/Af #in volt\n",
      "print \"New Input Voltage =\",NewInputVoltage,\" Volts\"\n",
      "#Note :Ans of Af and  NewInputVoltage is not acurate in the book."
     ],
     "language": "python",
     "metadata": {},
     "outputs": [
      {
       "output_type": "stream",
       "stream": "stdout",
       "text": [
        "New gain : 18.18\n",
        "Distortion with negative feedback = 0.909  %\n",
        "Initial Output Voltage = 100.0  Volt\n",
        "New Input Voltage = 5.5  Volts\n"
       ]
      }
     ],
     "prompt_number": 22
    },
    {
     "cell_type": "heading",
     "level": 2,
     "metadata": {},
     "source": [
      "Exa 5.8, page 206"
     ]
    },
    {
     "cell_type": "code",
     "collapsed": false,
     "input": [
      "#Given data :\n",
      "A=10000 #gain without feedback(unitless)\n",
      "Zi=10 #in kOhm\n",
      "Zo=100 #in Ohm\n",
      "R1=2 #in Ohm\n",
      "R2=18 #in Ohm\n",
      "#Part (i) :\n",
      "Beta=R1/(R1+R2) #feedback fraction(unitless)\n",
      "print \"(i) Feedback Fraction :\",round(Beta,2) \n",
      "#Part (ii) :\n",
      "Af=A/(1+A*Beta) #Gain with negative feedback(unitless)\n",
      "print \"(ii) Gain with negative feedback :\",round(Af)\n",
      "#Part (iii) :\n",
      "inputVoltge=0.5 #in mV\n",
      "outputVoltge=Af*inputVoltge #in mV\n",
      "print \"(iii) Output Voltage =\",round(outputVoltge),\" milli Volts\"\n",
      "#Part (iv) :\n",
      "Zif=Zi*(1+Beta*A) #in kOhm\n",
      "print \"(iv) Input impedance of feedback amplifier =\",Zif*10**-3,\" Mohm\"\n",
      "#Part (v) :\n",
      "Zof=Zo/(1+Beta*A) #in kOhm\n",
      "print \"(v) Output impedance with feedback =\",round(Zof,1),\" ohm\""
     ],
     "language": "python",
     "metadata": {},
     "outputs": [
      {
       "output_type": "stream",
       "stream": "stdout",
       "text": [
        "(i) Feedback Fraction : 0.1\n",
        "(ii) Gain with negative feedback : 10.0\n",
        "(iii) Output Voltage = 5.0  milli Volts\n",
        "(iv) Input impedance of feedback amplifier = 10.01  Mohm\n",
        "(v) Output impedance with feedback = 0.1  ohm\n"
       ]
      }
     ],
     "prompt_number": 26
    },
    {
     "cell_type": "heading",
     "level": 2,
     "metadata": {},
     "source": [
      "Exa 5.9, page 207"
     ]
    },
    {
     "cell_type": "code",
     "collapsed": false,
     "input": [
      "#Given data :\n",
      "A=200 #gain without feedback(unitless)\n",
      "Ri=2 #in kOhm\n",
      "Ro=12 #in kOhm\n",
      "Beta=0.02 #feedbak ratio(unitless)\n",
      "#Part (i) :\n",
      "Af=A/(1+A*Beta) #gain with feedback(unitless)\n",
      "print \"(i) Gain with Negative Feedback :\",Af \n",
      "#Part (ii) :\n",
      "Rif=Ri*(1+A*Beta) #in kOhm\n",
      "print \"(ii) Input resistance with feedback =\",Rif,\" kOhm\"\n",
      "#Part (ii) :\n",
      "Rof=Ro/(1+A*Beta) #in kOhm\n",
      "print \"(ii) Output resistance with feedback =\",Rof,\" kOhm\""
     ],
     "language": "python",
     "metadata": {},
     "outputs": [
      {
       "output_type": "stream",
       "stream": "stdout",
       "text": [
        "(i) Gain with Negative Feedback : 40.0\n",
        "(ii) Input resistance with feedback = 10.0  kOhm\n",
        "(ii) Output resistance with feedback = 2.4  kOhm\n"
       ]
      }
     ],
     "prompt_number": 27
    },
    {
     "cell_type": "heading",
     "level": 2,
     "metadata": {},
     "source": [
      "Exa 5.10, page 207"
     ]
    },
    {
     "cell_type": "code",
     "collapsed": false,
     "input": [
      "from numpy import log10\n",
      "#Given data :\n",
      "A=1000 #gain(unitless)\n",
      "Beta=1/20 #feedback ratio (unitless)\n",
      "#Formula : Af=A/(1+A*Beta)\n",
      "Af=A/(1+A*Beta) #gain with feedback(unitless)\n",
      "Af=20*log10(Af) #in dB\n",
      "print \"Gain with feedback =\",round(Af,1),\" dB\""
     ],
     "language": "python",
     "metadata": {},
     "outputs": [
      {
       "output_type": "stream",
       "stream": "stdout",
       "text": [
        "Gain with feedback = 25.8  dB\n"
       ]
      }
     ],
     "prompt_number": 29
    },
    {
     "cell_type": "heading",
     "level": 2,
     "metadata": {},
     "source": [
      "Exa 5.11, page 208"
     ]
    },
    {
     "cell_type": "code",
     "collapsed": false,
     "input": [
      "#Given data :\n",
      "A=800 #gain(unitless)\n",
      "f1=40 #in Hz\n",
      "f2=16 #in kHz\n",
      "Beta=2/100 #feedback fator (unitless)\n",
      "#Formula : Af=A/(1+A*Beta)\n",
      "Af=A/(1+A*Beta) #gain with feedback(unitless)\n",
      "print \"Voltage gain with feedback : %0.f\" %Af \n",
      "BW=f2*10**3-f1 #Bandwidth of amplifier in Hz\n",
      "print \"Bandwidth of amplifier =\",BW*10**-3,\" kHz\"\n",
      "f1_f=f1/(1+A*Beta) #in Hz\n",
      "f2_f=f2*(1+A*Beta) #in kHz\n",
      "BW_f=f2_f*10**3-f1_f #Bandwith after feedback in Hz\n",
      "print \"Bandwith after feedback =\",round(BW_f*10**-3),\" KHz\""
     ],
     "language": "python",
     "metadata": {},
     "outputs": [
      {
       "output_type": "stream",
       "stream": "stdout",
       "text": [
        "Voltage gain with feedback : 47\n",
        "Bandwidth of amplifier = 15.96  kHz\n",
        "Bandwith after feedback = 272.0  KHz\n"
       ]
      }
     ],
     "prompt_number": 32
    },
    {
     "cell_type": "heading",
     "level": 2,
     "metadata": {},
     "source": [
      "Exa 5.12, page 208"
     ]
    },
    {
     "cell_type": "code",
     "collapsed": false,
     "input": [
      "#Given data :\n",
      "A=100 #gain(unitless)\n",
      "BW=10 #in Hz\n",
      "Beta=5 #in %\n",
      "#Part (i) :\n",
      "#Formula : Af=A/(1+A*Beta)\n",
      "Af=A/(1+A*Beta/100) #gain with feedback(unitless)\n",
      "print \"Voltage gain with feedback : %0.1f\" %Af\n",
      "#Part (ii)\n",
      "BW_f=BW*(1+A*Beta/100) #Bandwith after feedback in Hz\n",
      "print \"Bandwith with negative feedback =\",BW_f,\" KHz\""
     ],
     "language": "python",
     "metadata": {},
     "outputs": [
      {
       "output_type": "stream",
       "stream": "stdout",
       "text": [
        "Voltage gain with feedback : 16.7\n",
        "Bandwith with negative feedback = 60.0  KHz\n"
       ]
      }
     ],
     "prompt_number": 36
    },
    {
     "cell_type": "heading",
     "level": 2,
     "metadata": {},
     "source": [
      "Exa 5.13, page 208"
     ]
    },
    {
     "cell_type": "code",
     "collapsed": false,
     "input": [
      "#Given data :\n",
      "hfe=50 #unitless\n",
      "hie=1.1 #in kOhm\n",
      "hoe=0 #unitless\n",
      "hre=0 #unitless\n",
      "RL=4 #in kOhm\n",
      "Rs=10 #in kOhm\n",
      "RB=40 #in kOhm\n",
      "RLdash=RB*RL/(RB+RL) #in Kohm\n",
      "AV=-hfe*RLdash/hie #unitless\n",
      "#Part (i)  \n",
      "Rif=hie*(RB/(1-AV))/(hie+(RB/(1-AV))) #in kOhm\n",
      "print \"Input resistance with feedback =\",round(Rif*1000),\" Ohm\"\n",
      "#Part (ii) :\n",
      "AVf=AV*(Rif/(Rs+Rif)) #unitless\n",
      "print \"Voltage gain with feedback : %0.2f\" %AVf "
     ],
     "language": "python",
     "metadata": {},
     "outputs": [
      {
       "output_type": "stream",
       "stream": "stdout",
       "text": [
        "Input resistance with feedback = 197.0  Ohm\n",
        "Voltage gain with feedback : -3.20\n"
       ]
      }
     ],
     "prompt_number": 39
    }
   ],
   "metadata": {}
  }
 ]
}
