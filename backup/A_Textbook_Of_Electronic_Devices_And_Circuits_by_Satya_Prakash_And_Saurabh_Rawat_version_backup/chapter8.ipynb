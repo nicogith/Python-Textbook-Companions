{
 "metadata": {
  "name": "",
  "signature": ""
 },
 "nbformat": 3,
 "nbformat_minor": 0,
 "worksheets": [
  {
   "cells": [
    {
     "cell_type": "heading",
     "level": 1,
     "metadata": {},
     "source": [
      "chapter8 - Oscillators"
     ]
    },
    {
     "cell_type": "heading",
     "level": 2,
     "metadata": {},
     "source": [
      "Exa 8.1, page 272"
     ]
    },
    {
     "cell_type": "code",
     "collapsed": false,
     "input": [
      "from __future__ import division\n",
      "#Given data\n",
      "A=50 #unitless\n",
      "print \"Barkhausen criterion for oscillator : Beta*A=1\"\n",
      "Beta=1/A #unitless\n",
      "print \"Feedback Factor to make oscillator : \",Beta"
     ],
     "language": "python",
     "metadata": {},
     "outputs": [
      {
       "output_type": "stream",
       "stream": "stdout",
       "text": [
        "Barkhausen criterion for oscillator : Beta*A=1\n",
        "Feedback Factor to make oscillator :  0.02\n"
       ]
      }
     ],
     "prompt_number": 3
    },
    {
     "cell_type": "heading",
     "level": 2,
     "metadata": {},
     "source": [
      "Exa 8.2, page 277"
     ]
    },
    {
     "cell_type": "code",
     "collapsed": false,
     "input": [
      "from __future__ import division\n",
      "from numpy import sqrt, pi\n",
      "#Given data\n",
      "L=100 #in uH\n",
      "L=L*10**-6 #in H\n",
      "f1=500 #in kHz\n",
      "f1=f1*10**3 #in Hz\n",
      "f2=1500 #in kHz\n",
      "f2=f2*10**3 #in Hz\n",
      "#Formula : f=1/(2*pi*sqrt(L*C))\n",
      "C1=1/(4*pi**2*f1**2*L) #in F\n",
      "C2=1/(4*pi**2*f2**2*L) #in F\n",
      "print \"Range of capacitor : %0.f\" %(C2*10**12),\" pF to %0.f\" %(C1*10**12),\" pF\""
     ],
     "language": "python",
     "metadata": {},
     "outputs": [
      {
       "output_type": "stream",
       "stream": "stdout",
       "text": [
        "Range of capacitor : 113  pF to 1013  pF\n"
       ]
      }
     ],
     "prompt_number": 6
    },
    {
     "cell_type": "heading",
     "level": 2,
     "metadata": {},
     "source": [
      "Exa 8.3, page 283"
     ]
    },
    {
     "cell_type": "code",
     "collapsed": false,
     "input": [
      "from __future__ import division\n",
      "from numpy import sqrt, pi\n",
      "#Given data\n",
      "L=100 #in mH\n",
      "L=L*10**-3 #in H\n",
      "C1=0.1 #in uF\n",
      "C1=C1*10**-6 #in F\n",
      "f=100 #in kHz\n",
      "f=f*10**3 #in Hz\n",
      "#Formula : f=1/(2*pi*sqrt(L*C))\n",
      "C=1/(4*pi**2*f**2*L) #in F\n",
      "#Formula : C=C1*C2/(C1+C2)\n",
      "C2=C*C1/(C1-C)*10**9\n",
      "print \"C2 = %0.3f nano Farad\" %C2\n",
      "#Note : Answer in the book is wrong."
     ],
     "language": "python",
     "metadata": {},
     "outputs": [
      {
       "output_type": "stream",
       "stream": "stdout",
       "text": [
        "C2 = 0.025 nano Farad\n"
       ]
      }
     ],
     "prompt_number": 22
    },
    {
     "cell_type": "heading",
     "level": 2,
     "metadata": {},
     "source": [
      "Exa 8.4, page 288"
     ]
    },
    {
     "cell_type": "code",
     "collapsed": false,
     "input": [
      "from __future__ import division\n",
      "from numpy import sqrt, pi\n",
      "#Given data\n",
      "R=100 #in kOhm\n",
      "R=R*10**3 #in Ohm\n",
      "C=0.01 #in uF\n",
      "C=C*10**-6 #in F\n",
      "fo=sqrt(6)/(2*pi*R*C) #in Hz\n",
      "print \"Frequency of oscillation = %0.1f Hz\" %fo\n",
      "#Note : Answer in the book is not accurate."
     ],
     "language": "python",
     "metadata": {},
     "outputs": [
      {
       "output_type": "stream",
       "stream": "stdout",
       "text": [
        "Frequency of oscillation = 389.8 Hz\n"
       ]
      }
     ],
     "prompt_number": 2
    },
    {
     "cell_type": "heading",
     "level": 2,
     "metadata": {},
     "source": [
      "Exa 8.5, page 288"
     ]
    },
    {
     "cell_type": "code",
     "collapsed": false,
     "input": [
      "from __future__ import division\n",
      "from numpy import sqrt, pi\n",
      "#Given data\n",
      "print \"Put alfa=sqrt(6) to find the gain\"\n",
      "alfa=sqrt(6) #unitless\n",
      "Beta=1/(1-5*alfa**2) \n",
      "#Barkhausen critera : A*|Beta|>=1\n",
      "Beta=-Beta #\n",
      "A=1/Beta #unitless\n",
      "print \"Minimum Gain of Amplifier must be %0.1f \" %A"
     ],
     "language": "python",
     "metadata": {},
     "outputs": [
      {
       "output_type": "stream",
       "stream": "stdout",
       "text": [
        "Put alfa=sqrt(6) to find the gain\n",
        "Minimum Gain of Amplifier must be 29.0 \n"
       ]
      }
     ],
     "prompt_number": 3
    },
    {
     "cell_type": "heading",
     "level": 2,
     "metadata": {},
     "source": [
      "Exa 8.6, page 292"
     ]
    },
    {
     "cell_type": "code",
     "collapsed": false,
     "input": [
      "#Given data :\n",
      "R1=50 #in kohm\n",
      "R1=R1*10**3 #in ohm\n",
      "C1=0.001 #in uF\n",
      "C1=C1*10**-6 #in F\n",
      "R2=1 #in kohm\n",
      "R2=R2*10**3 #in ohm\n",
      "C2=0.01 #in uF\n",
      "C2=C2*10**-6 #in F\n",
      "#Part (i)\n",
      "#Formula : f=1/(2*pi*sqrt(C1*C2*R1*R2))\n",
      "f=1/(2*pi*sqrt(C1*C2*R1*R2)) #in Hz\n",
      "print \"Frequency of oscillations = %0.2f kHz\" %(f/1000)\n",
      "#Part (ii)\n",
      "CurrentGain=1+C2/C1+R1/R2 #unitless\n",
      "print \"Current Gain = %0.2f \" %CurrentGain\n",
      "# Answer in the textbook is wrong."
     ],
     "language": "python",
     "metadata": {},
     "outputs": [
      {
       "output_type": "stream",
       "stream": "stdout",
       "text": [
        "Frequency of oscillations = 7.12 kHz\n",
        "Current Gain = 61.00 \n"
       ]
      }
     ],
     "prompt_number": 6
    },
    {
     "cell_type": "heading",
     "level": 2,
     "metadata": {},
     "source": [
      "Exa 8.7, page 292"
     ]
    },
    {
     "cell_type": "code",
     "collapsed": false,
     "input": [
      "from __future__ import division\n",
      "#Given data :\n",
      "fmin=20 #in Hz\n",
      "fmax=20 #in kHz\n",
      "Cmin=30 #in pF\n",
      "Cmax=300 #in pF\n",
      "#Formula : fo=1/(2*pi*R*C))\n",
      "print \"Minimum Fequeny correspond to maximum capacitance.\"\n",
      "R=1/(2*pi*fmin*Cmax*10**-12)\n",
      "print \"Required resistance = %0.2f Mohm\" %(R/10**6)"
     ],
     "language": "python",
     "metadata": {},
     "outputs": [
      {
       "output_type": "stream",
       "stream": "stdout",
       "text": [
        "Minimum Fequeny correspond to maximum capacitance.\n",
        "Required resistance = 26.53 Mohm\n"
       ]
      }
     ],
     "prompt_number": 8
    },
    {
     "cell_type": "heading",
     "level": 2,
     "metadata": {},
     "source": [
      "Exa 8.8, page 296"
     ]
    },
    {
     "cell_type": "code",
     "collapsed": false,
     "input": [
      "#Given data :\n",
      "f=500 #in kHz\n",
      "T1=50 #in degree C\n",
      "T2=60 #in degree C\n",
      "TC=-20 #in ppm/degree C\n",
      "ChangeInFreq=TC*(f*10**-3)*(T1-T2) #in Hz\n",
      "ResonantFreq=f*1000-ChangeInFreq #in Hz\n",
      "print \"Resonant frequency = %0.2f kHz\" %(ResonantFreq/1000)\n",
      "#Note : answer in the book is wrong."
     ],
     "language": "python",
     "metadata": {},
     "outputs": [
      {
       "output_type": "stream",
       "stream": "stdout",
       "text": [
        "Resonant frequency = 499.90 kHz\n"
       ]
      }
     ],
     "prompt_number": 9
    },
    {
     "cell_type": "heading",
     "level": 2,
     "metadata": {},
     "source": [
      "Exa 8.9, page 296"
     ]
    },
    {
     "cell_type": "code",
     "collapsed": false,
     "input": [
      "#Given data :\n",
      "f=450 #in kHz\n",
      "T1=30 #in degree C\n",
      "T2=50 #in degree C\n",
      "TC=-10 #in ppm/degree C\n",
      "PercentChange=-TC*100/10**6 #in %\n",
      "TotalChangeInFreq=(PercentChange/100)*(f*10**3)*(T2-T1) #in Hz\n",
      "ResonantFreq=f*1000-TotalChangeInFreq #in Hz\n",
      "print \"Resonant frequency = %0.2f kHz\" %(ResonantFreq/1000)"
     ],
     "language": "python",
     "metadata": {},
     "outputs": [
      {
       "output_type": "stream",
       "stream": "stdout",
       "text": [
        "Resonant frequency = 449.91 kHz\n"
       ]
      }
     ],
     "prompt_number": 12
    },
    {
     "cell_type": "heading",
     "level": 2,
     "metadata": {},
     "source": [
      "Exa 8.10, page 297"
     ]
    },
    {
     "cell_type": "code",
     "collapsed": false,
     "input": [
      "from numpy import pi, sqrt\n",
      "#Given data :\n",
      "L=0.5 #in H\n",
      "C=0.05 #in pF\n",
      "R=1 #in kohm\n",
      "Cm=1 #in pF\n",
      "fs=1/(2*pi*sqrt(L*C*10**-12)) #in Hz\n",
      "print \"Series resonant frequency = %0.5f MHz\" %(fs/10**6) \n",
      "fp=1/(2*pi*sqrt((L*C*10**-12*Cm*10**-12)/(C*10**-12+Cm*10**-12))) #in Hz\n",
      "print \"Parallel resonant frequency = %0.2f MHz\" %(fp/10**6) "
     ],
     "language": "python",
     "metadata": {},
     "outputs": [
      {
       "output_type": "stream",
       "stream": "stdout",
       "text": [
        "Series resonant frequency = 1.00658 MHz\n",
        "Parallel resonant frequency = 1.03 MHz\n"
       ]
      }
     ],
     "prompt_number": 14
    },
    {
     "cell_type": "heading",
     "level": 2,
     "metadata": {},
     "source": [
      "Exa Misc 8.1, page 302"
     ]
    },
    {
     "cell_type": "code",
     "collapsed": false,
     "input": [
      "from numpy import pi, sqrt\n",
      "#given data\n",
      "L2=0.4 #in mH\n",
      "C=0.004 #in \u00b5F\n",
      "f=120 #in KHz\n",
      "L1=1/(4*pi**2*(f*10**3)**2*C*10**-6)-L2*10**-3 #in H\n",
      "print \"Value of L1 = %0.2f mH\" %(L1*10**3)"
     ],
     "language": "python",
     "metadata": {},
     "outputs": [
      {
       "output_type": "stream",
       "stream": "stdout",
       "text": [
        "Value of L1 = 0.04 mH\n"
       ]
      }
     ],
     "prompt_number": 18
    },
    {
     "cell_type": "heading",
     "level": 2,
     "metadata": {},
     "source": [
      "Exa Misc 8.2, page 303"
     ]
    },
    {
     "cell_type": "code",
     "collapsed": false,
     "input": [
      "#given data\n",
      "fo=10 #in KHz\n",
      "R1=25 #in kohm\n",
      "R2=60 #in kohm\n",
      "Rc=40 #in kohm\n",
      "R=7.1 #in kohm\n",
      "hie=1.8 #in kohm\n",
      "C=1/(2*pi*fo*10**3*R*10**3*sqrt(6+4*Rc/R)) #in F\n",
      "print \"Value of Capacito = %0.2f nF\" %(C*10**9)\n",
      "hfe=23+29*R/Rc+4*Rc/R #unitless\n",
      "print \"Value of hfe is \u2265 \",round(hfe,2) "
     ],
     "language": "python",
     "metadata": {},
     "outputs": [
      {
       "output_type": "stream",
       "stream": "stdout",
       "text": [
        "Value of Capacito = 0.42 nF\n",
        "Value of hfe is \u2265  50.68\n"
       ]
      }
     ],
     "prompt_number": 21
    },
    {
     "cell_type": "heading",
     "level": 2,
     "metadata": {},
     "source": [
      "Exa Misc 8.3, page 303"
     ]
    },
    {
     "cell_type": "code",
     "collapsed": false,
     "input": [
      "#given data\n",
      "R=100 #in kohm\n",
      "fo=10 #in KHz\n",
      "C=1/(2*pi*fo*10**3*R*10**3) #in F\n",
      "print \"Value of Capacitor = %0.f pF\" %(C*10**12)"
     ],
     "language": "python",
     "metadata": {},
     "outputs": [
      {
       "output_type": "stream",
       "stream": "stdout",
       "text": [
        "Value of Capacitor = 159 pF\n"
       ]
      }
     ],
     "prompt_number": 23
    },
    {
     "cell_type": "heading",
     "level": 2,
     "metadata": {},
     "source": [
      "Exa Misc 8.4, page 304"
     ]
    },
    {
     "cell_type": "code",
     "collapsed": false,
     "input": [
      "from __future__ import division\n",
      "from numpy import sqrt, pi\n",
      "#given data\n",
      "L=40 #in mH\n",
      "C1=100 #in pF\n",
      "C2=500 #in pF\n",
      "Vout=10 #in volt\n",
      "fo=1/(2*pi*sqrt(L*10**-3*C1*10**-12*C2*10**-12/(C1*10**-12+C2*10**-12)))\n",
      "print \"Frequency of oscillation = %0.1f kHz\" %(fo*10**-3)\n",
      "Vf=Vout*C1/C2 #in volt\n",
      "print \"Feedback voltage = %0.f Volt\" %Vf\n",
      "Gain=C2/C1 #unitless\n",
      "print \"Minimum Gain = %0.f\" %Gain \n",
      "#if Gain=10\n",
      "Gain=10 #given\n",
      "C1=C2/Gain #in pF\n",
      "print \"For a gain of 10 C1 = %0.f pF\" %C1 \n",
      "fo=1/(2*pi*sqrt(L*10**-3*C1*10**-12*C2*10**-12/(C1*10**-12+C2*10**-12)))\n",
      "print \"New frequency of oscillation = %0.1f kHz\" %(fo*10**-3)"
     ],
     "language": "python",
     "metadata": {},
     "outputs": [
      {
       "output_type": "stream",
       "stream": "stdout",
       "text": [
        "Frequency of oscillation = 87.2 kHz\n",
        "Feedback voltage = 2 Volt\n",
        "Minimum Gain = 5\n",
        "For a gain of 10 C1 = 50 pF\n",
        "New frequency of oscillation = 118.0 kHz\n"
       ]
      }
     ],
     "prompt_number": 30
    },
    {
     "cell_type": "heading",
     "level": 2,
     "metadata": {},
     "source": [
      "Exa Misc 8.5, page 305"
     ]
    },
    {
     "cell_type": "code",
     "collapsed": false,
     "input": [
      "from numpy import sqrt, pi\n",
      "from __future__ import division \n",
      "#given data\n",
      "L=0.5 #in H\n",
      "Cs=0.06 #in pF\n",
      "Cp=1 #in pF\n",
      "R=5 #in Kohm\n",
      "fs=1/(2*pi*sqrt(L*Cs*10**-12)) #in Hz\n",
      "Q=2*pi*fs*L/(R*10**3) #Q-factor\n",
      "print \"Seies resonance frequency = %0.1f kHz \" %(fs/10**3)\n",
      "print \"Q-factor of the crystal at fs is %0.f\" %round(Q) \n",
      "fp=(1/(2*pi))*sqrt((Cs*10**-12+Cp*10**-12)/(L*Cs*10**-12*Cp*10**-12)) #in Hz\n",
      "Q=2*pi*fp*L/(R*10**3) #Q-factor\n",
      "print \"Seies resonance frequency = %0.f kHz\" %(fp/10**3)\n",
      "print \"Q-factor of the crystal at fs is %0.f\" %round(Q) "
     ],
     "language": "python",
     "metadata": {},
     "outputs": [
      {
       "output_type": "stream",
       "stream": "stdout",
       "text": [
        "Seies resonance frequency = 918.9 kHz \n",
        "Q-factor of the crystal at fs is 577\n",
        "Seies resonance frequency = 946 kHz\n",
        "Q-factor of the crystal at fs is 594\n"
       ]
      }
     ],
     "prompt_number": 35
    }
   ],
   "metadata": {}
  }
 ]
}
