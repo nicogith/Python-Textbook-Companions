{
 "metadata": {
  "name": "",
  "signature": ""
 },
 "nbformat": 3,
 "nbformat_minor": 0,
 "worksheets": [
  {
   "cells": [
    {
     "cell_type": "heading",
     "level": 1,
     "metadata": {},
     "source": [
      "chapter7 - Magnetic materials"
     ]
    },
    {
     "cell_type": "heading",
     "level": 2,
     "metadata": {},
     "source": [
      "Exa 7.1, page 252"
     ]
    },
    {
     "cell_type": "code",
     "collapsed": false,
     "input": [
      "from numpy import pi\n",
      "#Given data\n",
      "Bo=1.7*10**-5 #in weber/m**2\n",
      "meu_o=4*pi*10**-7 #permeability of free space in weber/amp-meter\n",
      "H=Bo/meu_o #in A/m\n",
      "print \"Horizontal component of magnetic filed intensity = %0.1f\"%H,\" A/m\" "
     ],
     "language": "python",
     "metadata": {},
     "outputs": [
      {
       "output_type": "stream",
       "stream": "stdout",
       "text": [
        "Horizontal component of magnetic filed intensity = 13.5  A/m\n"
       ]
      }
     ],
     "prompt_number": 3
    },
    {
     "cell_type": "heading",
     "level": 2,
     "metadata": {},
     "source": [
      "Exa 7.2, page 252"
     ]
    },
    {
     "cell_type": "code",
     "collapsed": false,
     "input": [
      "#Given data\n",
      "H=5*10**3 #in Ampere-turns/m\n",
      "l=10 #in cm\n",
      "l=l*10**-2 #in meter\n",
      "N=50 #no. of turns\n",
      "n=N/l #no. of turns per unit length\n",
      "#Formula : H=n*i\n",
      "i=H/n #in Ampere\n",
      "print \"Current should be sent through solenoid = %0.1f Ampere\" %i"
     ],
     "language": "python",
     "metadata": {},
     "outputs": [
      {
       "output_type": "stream",
       "stream": "stdout",
       "text": [
        "Current should be sent through solenoid = 10.0 Ampere\n"
       ]
      }
     ],
     "prompt_number": 6
    },
    {
     "cell_type": "heading",
     "level": 2,
     "metadata": {},
     "source": [
      "Exa 7.3, page 252"
     ]
    },
    {
     "cell_type": "code",
     "collapsed": false,
     "input": [
      "#Given data\n",
      "meu_r=1000 #relative permeability\n",
      "n=5 #turns/cm\n",
      "n=n*10**2 #turns/meter\n",
      "i=0.5 #in Ampere\n",
      "Volume=10**-4 #in m**3\n",
      "I=(meu_r-1)*n*i #in Ampere\n",
      "MagneticMoment=I*Volume #in Ameter**2\n",
      "print \"Magnetic moment of the rod = %0.1f Ampere-meter2\" %round(MagneticMoment)"
     ],
     "language": "python",
     "metadata": {},
     "outputs": [
      {
       "output_type": "stream",
       "stream": "stdout",
       "text": [
        "Magnetic moment of the rod = 25.0 Ampere-meter2\n"
       ]
      }
     ],
     "prompt_number": 8
    },
    {
     "cell_type": "heading",
     "level": 2,
     "metadata": {},
     "source": [
      "Exa 7.4, page 253"
     ]
    },
    {
     "cell_type": "code",
     "collapsed": false,
     "input": [
      "from __future__ import division\n",
      "#Given data\n",
      "l=30 #in cm\n",
      "l=l*10**-2 #in meter\n",
      "A=1 #in cm**2\n",
      "A=A*10**-4 #in meter**2\n",
      "N=300 #turns of wire\n",
      "i=0.032 #in Ampere\n",
      "FI_B=2*10**-6 #in weber\n",
      "meu_o=4*pi*10**-7 #permeability of free space in weber/amp-meter\n",
      "B=FI_B/A #in weber/meter**2\n",
      "print \"Flux Density = %0.1e\"%B,\" weber/meter2\"\n",
      "H=N*i/l #in amp-turn/meter\n",
      "print \"magnetic Intensity = %0.1f amp-turn/meter\" %H\n",
      "meu=B/H #in weber/Amp-meter\n",
      "print \"Permeability = %0.2e weber/amp-meter\" %meu\n",
      "meu_r=meu/meu_o #Relative Permeability\n",
      "print \"Relative Permeability = %0.1f\" %meu_r \n",
      "#Answer of relative permeability is wrong in the book."
     ],
     "language": "python",
     "metadata": {},
     "outputs": [
      {
       "output_type": "stream",
       "stream": "stdout",
       "text": [
        "Flux Density = 2.0e-02  weber/meter2\n",
        "magnetic Intensity = 32.0 amp-turn/meter\n",
        "Permeability = 6.25e-04 weber/amp-meter\n",
        "Relative Permeability = 497.4\n"
       ]
      }
     ],
     "prompt_number": 15
    },
    {
     "cell_type": "heading",
     "level": 2,
     "metadata": {},
     "source": [
      "Exa 7.5, page 253"
     ]
    },
    {
     "cell_type": "code",
     "collapsed": false,
     "input": [
      "#Given data\n",
      "Xci_m=9.48*10**-9 #usceptibility of medium(unitless)\n",
      "meu_r=1+Xci_m #relative permeability(unitless)\n",
      "print \"Relative Permeability : \",meu_r "
     ],
     "language": "python",
     "metadata": {},
     "outputs": [
      {
       "output_type": "stream",
       "stream": "stdout",
       "text": [
        "Relative Permeability :  1.00000000948\n"
       ]
      }
     ],
     "prompt_number": 18
    },
    {
     "cell_type": "heading",
     "level": 2,
     "metadata": {},
     "source": [
      "Exa 7.6, page 253"
     ]
    },
    {
     "cell_type": "code",
     "collapsed": false,
     "input": [
      "#Given data\n",
      "n=10 #turns/cm\n",
      "n=n*10**2 #turns/meter\n",
      "i=2 #in Ampere\n",
      "B=1 #in weber/meter**2\n",
      "meu_o=4*pi*10**-7 #permeability of free space in weber/amp-meter\n",
      "H=n*i #in amp-turn/meter\n",
      "print \"Magnetising Force = %0.2f amp-turn/meter \" %H\n",
      "#Formula : B=meu_o*(H+I)\n",
      "I=B/meu_o-H #in amp-turn/meter\n",
      "print \"Magnetisation of material = %0.2e amp-turn/meter\" %I \n",
      "meu_r=B/(meu_o*H) #relative permeability(unitless)\n",
      "print \"Relative Permeability : %d\" %meu_r"
     ],
     "language": "python",
     "metadata": {},
     "outputs": [
      {
       "output_type": "stream",
       "stream": "stdout",
       "text": [
        "Magnetising Force = 2000.00 amp-turn/meter \n",
        "Magnetisation of material = 7.94e+05 amp-turn/meter\n",
        "Relative Permeability : 397\n"
       ]
      }
     ],
     "prompt_number": 20
    }
   ],
   "metadata": {}
  }
 ]
}
