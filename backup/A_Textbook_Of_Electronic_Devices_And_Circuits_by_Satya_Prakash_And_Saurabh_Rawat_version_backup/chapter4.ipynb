{
 "metadata": {
  "name": "",
  "signature": ""
 },
 "nbformat": 3,
 "nbformat_minor": 0,
 "worksheets": [
  {
   "cells": [
    {
     "cell_type": "heading",
     "level": 1,
     "metadata": {},
     "source": [
      "chapter4 - Frequency response"
     ]
    },
    {
     "cell_type": "heading",
     "level": 2,
     "metadata": {},
     "source": [
      "Exa 4.1, page 170"
     ]
    },
    {
     "cell_type": "code",
     "collapsed": false,
     "input": [
      "from __future__ import division\n",
      "from numpy import sqrt\n",
      "#Given data\n",
      "Omega_Z1=0 #in Radian/sec\n",
      "Omega_Z2=10 #in Radian/sec\n",
      "Omega_P1=100 #in Radian/sec\n",
      "Omega_P2=25 #in Radian/sec\n",
      "WL=sqrt(Omega_P1**2+Omega_P2**2-2*Omega_Z1**2-2*Omega_Z2**2) #in radian/sec\n",
      "print \"Approximate value of lower 3dB Frequency = %0.1f radian/sec\"%WL"
     ],
     "language": "python",
     "metadata": {},
     "outputs": [
      {
       "output_type": "stream",
       "stream": "stdout",
       "text": [
        "Approximate value of lower 3dB Frequency = 102.1 radian/sec\n"
       ]
      }
     ],
     "prompt_number": 4
    },
    {
     "cell_type": "heading",
     "level": 2,
     "metadata": {},
     "source": [
      "Exa 4.2, page 171"
     ]
    },
    {
     "cell_type": "code",
     "collapsed": false,
     "input": [
      "from __future__ import division\n",
      "from numpy import sqrt\n",
      "#Given data\n",
      "Omega_P1=10**4 #in Radian/sec\n",
      "Omega_P2=2*10**4 #in Radian/sec\n",
      "Omega_Z1=10**5 #in Radian/sec\n",
      "omegaH=1/sqrt(1/Omega_P1**2+1/Omega_P2**2-2/Omega_Z1**2) #in radian/sec\n",
      "print \"Approximate value of lower 3dB Frequency = %0.f radian/sec\" %round(omegaH)"
     ],
     "language": "python",
     "metadata": {},
     "outputs": [
      {
       "output_type": "stream",
       "stream": "stdout",
       "text": [
        "Approximate value of lower 3dB Frequency = 9017 radian/sec\n"
       ]
      }
     ],
     "prompt_number": 3
    }
   ],
   "metadata": {}
  }
 ]
}
