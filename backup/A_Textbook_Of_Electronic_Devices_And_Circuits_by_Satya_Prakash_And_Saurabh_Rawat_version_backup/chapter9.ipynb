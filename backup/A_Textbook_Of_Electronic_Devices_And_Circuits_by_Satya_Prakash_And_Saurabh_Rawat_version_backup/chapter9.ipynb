{
 "metadata": {
  "name": "",
  "signature": ""
 },
 "nbformat": 3,
 "nbformat_minor": 0,
 "worksheets": [
  {
   "cells": [
    {
     "cell_type": "heading",
     "level": 1,
     "metadata": {},
     "source": [
      "chapter9 - Unijunction transistor"
     ]
    },
    {
     "cell_type": "heading",
     "level": 2,
     "metadata": {},
     "source": [
      "Exa 9.1, page 310"
     ]
    },
    {
     "cell_type": "code",
     "collapsed": false,
     "input": [
      "#Given data :\n",
      "VBB=20 #in volt\n",
      "VB=0.7 #in volt(For Si)\n",
      "ETA=0.6 #intrinsic stand off ratio\n",
      "#Part (i)\n",
      "StandOffVoltage=ETA*VBB #in volt\n",
      "print \"Stand Off Voltage = %0.f Volts\" %StandOffVoltage\n",
      "#Part (ii)\n",
      "VP=ETA*VBB+VB #in volts\n",
      "print \"Peak point Voltage = %0.1f Volts\" %VP"
     ],
     "language": "python",
     "metadata": {},
     "outputs": [
      {
       "output_type": "stream",
       "stream": "stdout",
       "text": [
        "Stand Off Voltage = 12 Volts\n",
        "Peak point Voltage = 12.7 Volts\n"
       ]
      }
     ],
     "prompt_number": 2
    },
    {
     "cell_type": "heading",
     "level": 2,
     "metadata": {},
     "source": [
      "Exa 9.2, page 311"
     ]
    },
    {
     "cell_type": "code",
     "collapsed": false,
     "input": [
      "from __future__ import division\n",
      "from numpy import log\n",
      "#Given data :\n",
      "VP=10 #in volt\n",
      "R=100 #in Kohm\n",
      "C=1000 #in pF\n",
      "VBB=20 #in Volts\n",
      "ETA=VP/VBB #intrinsic stand off ratio\n",
      "T=R*10**3*C*10**-12*log(1/(1-ETA)) #in sec\n",
      "print \"Time period of sawtooth wave = %0.2f micro seconds \" %(T*10**6)"
     ],
     "language": "python",
     "metadata": {},
     "outputs": [
      {
       "output_type": "stream",
       "stream": "stdout",
       "text": [
        "Time period of sawtooth wave = 69.31 micro seconds \n"
       ]
      }
     ],
     "prompt_number": 4
    },
    {
     "cell_type": "heading",
     "level": 2,
     "metadata": {},
     "source": [
      "Exa 9.3, page 311"
     ]
    },
    {
     "cell_type": "code",
     "collapsed": false,
     "input": [
      "#Given data :\n",
      "RBB=10 #in Kohm\n",
      "ETA=0.6 #intrinsic stand off ratio\n",
      "RB1=ETA*RBB #in Kohm\n",
      "RB2=RBB-RB1 #in Kohm\n",
      "print \"Resistance RB1 = %0.f kohm\" %RB1\n",
      "print \"Resistance RB2 = %0.f kohm\" %RB2"
     ],
     "language": "python",
     "metadata": {},
     "outputs": [
      {
       "output_type": "stream",
       "stream": "stdout",
       "text": [
        "Resistance RB1 = 6 kohm\n",
        "Resistance RB2 = 4 kohm\n"
       ]
      }
     ],
     "prompt_number": 6
    }
   ],
   "metadata": {}
  }
 ]
}
