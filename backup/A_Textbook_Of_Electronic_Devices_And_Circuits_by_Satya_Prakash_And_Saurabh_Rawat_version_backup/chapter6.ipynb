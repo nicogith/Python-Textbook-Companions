{
 "metadata": {
  "name": "",
  "signature": ""
 },
 "nbformat": 3,
 "nbformat_minor": 0,
 "worksheets": [
  {
   "cells": [
    {
     "cell_type": "heading",
     "level": 1,
     "metadata": {},
     "source": [
      "chapter6 - Field effect transistors and MOSFETS"
     ]
    },
    {
     "cell_type": "heading",
     "level": 2,
     "metadata": {},
     "source": [
      "Exa 6.1, page 219"
     ]
    },
    {
     "cell_type": "code",
     "collapsed": false,
     "input": [
      "#given data\n",
      "VGS1=-3.1 #in Volt\n",
      "VGS2=-3 #in Volt\n",
      "ID1=1 #in mA\n",
      "ID2=1.3 #in mA\n",
      "delVGS=VGS2-VGS1 #in Volts\n",
      "delID=ID2-ID1 #in mA\n",
      "gm=delID*10**-3/delVGS #in mhos\n",
      "print \"Transconductance = %0.e mhos\" %gm"
     ],
     "language": "python",
     "metadata": {},
     "outputs": [
      {
       "output_type": "stream",
       "stream": "stdout",
       "text": [
        "Transconductance = 3e-03 mhos\n"
       ]
      }
     ],
     "prompt_number": 2
    },
    {
     "cell_type": "heading",
     "level": 2,
     "metadata": {},
     "source": [
      "Exa 6.2 page 219"
     ]
    },
    {
     "cell_type": "code",
     "collapsed": false,
     "input": [
      "#given data\n",
      "VGS1=0 #in Volt\n",
      "VGS2=0 #in Volt\n",
      "VGS3=-0.2 #in Volt\n",
      "VDS1=7 #in Volt\n",
      "VDS2=15 #in Volt\n",
      "VDS3=15 #in Volt\n",
      "ID1=10 #in mA\n",
      "ID2=10.25 #in mA\n",
      "ID3=9.65 #in mA\n",
      "delVDS=VDS2-VDS1 #in Volts\n",
      "delID=ID2-ID1 #in mA\n",
      "rd=delVDS/delID #in Kohm\n",
      "print \"AC drain resistance = %0.f kohm\" %rd\n",
      "delVGS=VGS3-VGS2 #in Volts\n",
      "delID=ID3-ID2 #in mA\n",
      "gm=delID*10**-3/delVGS #in mhos\n",
      "print \"Transconductance = %0.e mhos\" %gm\n",
      "mu=rd*10**3*gm #unitless\n",
      "print \"Amplification factor : %0.f\" %mu "
     ],
     "language": "python",
     "metadata": {},
     "outputs": [
      {
       "output_type": "stream",
       "stream": "stdout",
       "text": [
        "AC drain resistance = 32 kohm\n",
        "Transconductance = 3e-03 mhos\n",
        "Amplification factor : 96\n"
       ]
      }
     ],
     "prompt_number": 4
    },
    {
     "cell_type": "heading",
     "level": 2,
     "metadata": {},
     "source": [
      "Exa 6.5, page 224"
     ]
    },
    {
     "cell_type": "code",
     "collapsed": false,
     "input": [
      "#given data\n",
      "gm=2.0 #in milli-mho\n",
      "RL=10.0 #in Kohm\n",
      "print \"assuming rd>>RL\" \n",
      "Av=gm*10**-3*RL*10**3 #unitless\n",
      "print \"Voltage amplification : \",Av"
     ],
     "language": "python",
     "metadata": {},
     "outputs": [
      {
       "output_type": "stream",
       "stream": "stdout",
       "text": [
        "assuming rd>>RL\n",
        "Voltage amplification :  20.0\n"
       ]
      }
     ],
     "prompt_number": 5
    },
    {
     "cell_type": "heading",
     "level": 2,
     "metadata": {},
     "source": [
      "Exa 6.6, page 224"
     ]
    },
    {
     "cell_type": "code",
     "collapsed": false,
     "input": [
      "from __future__ import division\n",
      "from numpy import pi\n",
      "#given data\n",
      "RL=20 #in Kohm\n",
      "RS=1 #in Kohm\n",
      "RG=1 #in Mohm\n",
      "Cs=25 #in uF\n",
      "mu=20 #unitless\n",
      "rd=100 #in Kohm\n",
      "Vs=2 #in Volt\n",
      "f=1 #in KHz\n",
      "Xc=1/(2*pi*f*10**3*Cs*10**-6) #in Ohm\n",
      "print \"Xc = %0.1f\"%Xc,\" Ohm\"\n",
      "print \"As Xc<<Rs, therefore Cs bypasses all ac components. \"\n",
      "Av=mu*RL/(rd+RL) #unitless\n",
      "Vo=Av*Vs #in Volt\n",
      "print \"Output voltage = %0.2f\" %Vo,\" Volt\""
     ],
     "language": "python",
     "metadata": {},
     "outputs": [
      {
       "output_type": "stream",
       "stream": "stdout",
       "text": [
        "Xc = 6.4  Ohm\n",
        "As Xc<<Rs, therefore Cs bypasses all ac components. \n",
        "Output voltage = 6.67  Volt\n"
       ]
      }
     ],
     "prompt_number": 12
    },
    {
     "cell_type": "heading",
     "level": 2,
     "metadata": {},
     "source": [
      "Exa 6.7, page 224"
     ]
    },
    {
     "cell_type": "code",
     "collapsed": false,
     "input": [
      "from __future__ import division\n",
      "#given data\n",
      "R1=2.1 #in Mohm\n",
      "R2=270 #in Kohm\n",
      "RD=4.7 #in Kohm\n",
      "RS=1.5 #in Kohm\n",
      "VDD=20 #in Volt\n",
      "VP=-4 #in Volt\n",
      "IDSS=8 #in mA\n",
      "#step 1 : Find VGS :\n",
      "VG=R2*10**3*VDD/(R1*10**6+R2*10**3) #in Volt\n",
      "print \"VS=ID*RS-VGS Volt\"\n",
      "print \"VGS=VG-VS=2.28-1.5*ID\"\n",
      "#step 2 : Find ID :\n",
      "print \"ID=IDSS*[1-VGS/VP]**2 mA\" \n",
      "print \"ID=8*[1-(2.28-1.5*ID)/4]**2 mA\" \n",
      "print \"2*ID=39.44-18.84*ID+2.25*ID**2\" \n",
      "print \"2.25*ID**2-20.84*ID39.44=0\"\n",
      "print \"ID=6.6mA or 2.65mA\" \n",
      "print \"For ID =6.6mA VDS=-ve\" \n",
      "print \"So discard the value so IDQ = 2.65mA.\"\n",
      "ID=2.65 #in mA\n",
      "#step 3 : Find VGSQ :\n",
      "IDQ=ID #in mA\n",
      "VGS=2.28 #in Volt\n",
      "VGSQ=VGS-1.5*IDQ #/in Volt\n",
      "#step 4 : Find VDSQ :\n",
      "VDSQ=VDD-IDQ*(RD+RS) #in Volt\n",
      "#step 5 : Find VD,VS and VDG :\n",
      "VDS=VDSQ #in Volt\n",
      "VG=VGS #in Volt\n",
      "VS=ID*RS #in Volt\n",
      "VD=VS+VDS#in Volt\n",
      "VDG=VD-VG #in Volt\n",
      "print \"IDQ =\",IDQ,\" mA\"\n",
      "print \"VGSQ =\",VGSQ,\" Volt\" \n",
      "print \"VD =\",VD,\" Volt\"\n",
      "print \"VS =\",VS,\" Volt\" \n",
      "print \"VDS =\",VDS,\" Volt\" \n",
      "print \"VDG =\",VDG,\" Volt\" "
     ],
     "language": "python",
     "metadata": {},
     "outputs": [
      {
       "output_type": "stream",
       "stream": "stdout",
       "text": [
        "VS=ID*RS-VGS Volt\n",
        "VGS=VG-VS=2.28-1.5*ID\n",
        "ID=IDSS*[1-VGS/VP]**2 mA\n",
        "ID=8*[1-(2.28-1.5*ID)/4]**2 mA\n",
        "2*ID=39.44-18.84*ID+2.25*ID**2\n",
        "2.25*ID**2-20.84*ID39.44=0\n",
        "ID=6.6mA or 2.65mA\n",
        "For ID =6.6mA VDS=-ve\n",
        "So discard the value so IDQ = 2.65mA.\n",
        "IDQ = 2.65  mA\n",
        "VGSQ = -1.695  Volt\n",
        "VD = 7.545  Volt\n",
        "VS = 3.975  Volt\n",
        "VDS = 3.57  Volt\n",
        "VDG = 5.265  Volt\n"
       ]
      }
     ],
     "prompt_number": 17
    },
    {
     "cell_type": "heading",
     "level": 2,
     "metadata": {},
     "source": [
      "Exa 6.8, page 226"
     ]
    },
    {
     "cell_type": "code",
     "collapsed": false,
     "input": [
      "#given data\n",
      "a=5.6*10**-6/2 #in meter\n",
      "k=12 #unitless\n",
      "epsilon_o=8.86*10**-12 #in F/m\n",
      "epsilon=k*epsilon_o #in F/m\n",
      "ND=10**15 #in cm**-3\n",
      "ND=10**15*10**6 #in m**-3\n",
      "e=1.6*10**-19 #in Coulamb\n",
      "VP=e*ND*a**2/(2*epsilon) #in Volt\n",
      "print \"Pinch off voltage =\",round(VP,2),\" Volts\""
     ],
     "language": "python",
     "metadata": {},
     "outputs": [
      {
       "output_type": "stream",
       "stream": "stdout",
       "text": [
        "Pinch off voltage = 5.9  Volts\n"
       ]
      }
     ],
     "prompt_number": 20
    },
    {
     "cell_type": "heading",
     "level": 2,
     "metadata": {},
     "source": [
      "Exa 6.10, page 226"
     ]
    },
    {
     "cell_type": "code",
     "collapsed": false,
     "input": [
      "%matplotlib inline\n",
      "from __future__ import division\n",
      "import matplotlib.pylab as plt\n",
      "VP=-6 # in V\n",
      "IDSS=8 # in mA\n",
      "VGS =0 # V(arbitrary value for plottig graph)\n",
      "gm=-2*IDSS/VP*(1-VGS/VP)\n",
      "plt.plot([gm,IDSS])\n",
      "plt.title('gm versus IDSS') \n",
      "plt.xlabel('gm(in mS)') \n",
      "plt.ylabel('IDSS(in mA)') \n",
      "plt.show() \n",
      "# Plot in the textbook is not accurate."
     ],
     "language": "python",
     "metadata": {},
     "outputs": [
      {
       "metadata": {},
       "output_type": "display_data",
       "png": "[encoded data removed]",
       "text": [
        "<matplotlib.figure.Figure at 0x7fc9d0808090>"
       ]
      }
     ],
     "prompt_number": 41
    },
    {
     "cell_type": "heading",
     "level": 2,
     "metadata": {},
     "source": [
      "Exa 6.11, page 234"
     ]
    },
    {
     "cell_type": "code",
     "collapsed": false,
     "input": [
      "#given data\n",
      "L=1.25 #in um\n",
      "mu_n=0.065 #in m**2/V-s\n",
      "Cox=6.9*10**-4 #in F/m**2\n",
      "VT=0.65#in Volt\n",
      "ID_sat=4 #in mA\n",
      "VGS=5 #in Volt\n",
      "#Formula : ID_sat=W*mu_n*Cox*(VGS-VT)**2/(2*L)\n",
      "W=ID_sat*10**-3*2*L*10**-6/(mu_n*Cox*(VGS-VT)**2) #in meter\n",
      "print \"Channel Width = %0.1f\" %(W*10**6),\" micro meter\" "
     ],
     "language": "python",
     "metadata": {},
     "outputs": [
      {
       "output_type": "stream",
       "stream": "stdout",
       "text": [
        "Channel Width = 11.8  micro meter\n"
       ]
      }
     ],
     "prompt_number": 44
    }
   ],
   "metadata": {}
  }
 ]
}
