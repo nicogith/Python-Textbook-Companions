{
 "cells": [
  {
   "cell_type": "markdown",
   "metadata": {},
   "source": [
    "# Chapter 3:Measurement of non electrical quantities"
   ]
  },
  {
   "cell_type": "markdown",
   "metadata": {},
   "source": [
    "## Exa 3.1"
   ]
  },
  {
   "cell_type": "code",
   "execution_count": 20,
   "metadata": {
    "collapsed": false
   },
   "outputs": [
    {
     "name": "stdout",
     "output_type": "stream",
     "text": [
      "deflection of screen corresponding to maximum pressure for sensitivity of 1mV/mm =350.0 mm\n",
      "sinch the length of the screen is 100mm so waveform is out of range and hence sensitivity setting of 1mV/mm should not be used\n",
      "deflection of screen corresponding to maximum pressure for sensitivity of 5mV/mm =70.0 mm\n",
      "delection is within the range\n",
      "deflection of screen corresponding to maximum pressure for sensitivity of 20mV/mm =17.0 mm\n",
      "delection is within the range\n",
      "deflection of screen corresponding to maximum pressure for sensitivity of 10mV/mm =3.0 mm\n",
      "delection is within the range\n",
      "deflection of screen corresponding to maximum pressure for sensitivity of 500mV/mm =0.0 mm\n",
      "delection is within the range\n",
      "since the sensitivity of 5mV/mm gives higher deflection so it is the optimum sensitivity\n"
     ]
    }
   ],
   "source": [
    "# 3.1\n",
    "import math\n",
    "Aou=700*25*1/100;\n",
    "Aol=100*25*1/100;\n",
    "AouPtP= 2*Aou;\n",
    "AolPtP= 2*Aol;\n",
    "Se1=1;\n",
    "D1=AouPtP/Se1;\n",
    "print (\"deflection of screen corresponding to maximum pressure for sensitivity of 1mV/mm =%.1f mm\" %D1)\n",
    "print ('sinch the length of the screen is 100mm so waveform is out of range and hence sensitivity setting of 1mV/mm should not be used')\n",
    "Se2=5;\n",
    "D2=AouPtP/Se2;\n",
    "print (\"deflection of screen corresponding to maximum pressure for sensitivity of 5mV/mm =%.1f mm\" %D2)\n",
    "print ('delection is within the range')\n",
    "Se3=20;\n",
    "D3=AouPtP/Se3;\n",
    "print (\"deflection of screen corresponding to maximum pressure for sensitivity of 20mV/mm =%.1f mm\" %D3)\n",
    "print ('delection is within the range')\n",
    "Se4=100;\n",
    "D4=AouPtP/Se4;\n",
    "print (\"deflection of screen corresponding to maximum pressure for sensitivity of 10mV/mm =%.1f mm\" %D4)\n",
    "print ('delection is within the range')\n",
    "Se5=500;\n",
    "D5=AouPtP/Se5;\n",
    "print (\"deflection of screen corresponding to maximum pressure for sensitivity of 500mV/mm =%.1f mm\" %D5)\n",
    "print ('delection is within the range')\n",
    "print ('since the sensitivity of 5mV/mm gives higher deflection so it is the optimum sensitivity')"
   ]
  },
  {
   "cell_type": "markdown",
   "metadata": {},
   "source": [
    "## Exa 3.2"
   ]
  },
  {
   "cell_type": "code",
   "execution_count": 21,
   "metadata": {
    "collapsed": false
   },
   "outputs": [
    {
     "name": "stdout",
     "output_type": "stream",
     "text": [
      "Radius of curvature =356.04 mm\n"
     ]
    }
   ],
   "source": [
    "#3.2\n",
    "import math\n",
    "tA=1;\n",
    "tB=1;\n",
    "m=tA/tB;\n",
    "EB=147.0;\n",
    "EA=216;\n",
    "T2=200.0;\n",
    "T1=25;\n",
    "n=EB/EA;\n",
    "T=T2-T1;\n",
    "A=12.5*10**-6;\n",
    "B=1.7*10**-6;\n",
    "a=3*(1+m)**2;\n",
    "b=(1+m*n)*((m**2)+1/(m*n));\n",
    "c= (6*(A-B)*T*(1+m)**2);\n",
    "r=(a+b)/c;\n",
    "print (\"Radius of curvature =%.2f mm\" %r)\n"
   ]
  },
  {
   "cell_type": "markdown",
   "metadata": {},
   "source": [
    "## Exa 3.3"
   ]
  },
  {
   "cell_type": "code",
   "execution_count": 22,
   "metadata": {
    "collapsed": false
   },
   "outputs": [
    {
     "name": "stdout",
     "output_type": "stream",
     "text": [
      "Radius of curvature =500 mm\n",
      "vertical displacement =2 mm\n"
     ]
    }
   ],
   "source": [
    "#3.3\n",
    "t=2;\n",
    "T2=180;\n",
    "T1=20;\n",
    "T=T2-T1;\n",
    "A=12.5*10**-6;\n",
    "r=t/(2*T*A);\n",
    "print (\"Radius of curvature =%.0f mm\" %r)\n",
    "Th=40.0/500;\n",
    "y=r*(1.0-math.cos(Th));\n",
    "print (\"vertical displacement =%.0f mm\" %y)\n"
   ]
  },
  {
   "cell_type": "markdown",
   "metadata": {},
   "source": [
    "## Exa 3.4"
   ]
  },
  {
   "cell_type": "code",
   "execution_count": 23,
   "metadata": {
    "collapsed": false
   },
   "outputs": [
    {
     "name": "stdout",
     "output_type": "stream",
     "text": [
      "True temperature =1853.57 degree K\n",
      "True temperature =1580.57 degree C\n"
     ]
    }
   ],
   "source": [
    "#3.4\n",
    "import math\n",
    "Ta=1480+273;\n",
    "Tf=0.8;\n",
    "T=Tf**-0.25*Ta;\n",
    "print (\"True temperature =%.2f degree K\" %T)\n",
    "Tc=T-273;\n",
    "print (\"True temperature =%.2f degree C\" %Tc)\n",
    "\n"
   ]
  },
  {
   "cell_type": "markdown",
   "metadata": {},
   "source": [
    "## Exa 3.5"
   ]
  },
  {
   "cell_type": "code",
   "execution_count": 24,
   "metadata": {
    "collapsed": false
   },
   "outputs": [
    {
     "name": "stdout",
     "output_type": "stream",
     "text": [
      "Error in temperature measurement=-172.91 degree C\n"
     ]
    }
   ],
   "source": [
    "# 3.5\n",
    "import math\n",
    "ATC1=1065;\n",
    "AT=ATC1+273;\n",
    "Em1=0.82;\n",
    "Ta=(Em1**(-0.25))*AT;\n",
    "Em2=0.75;\n",
    "Taa=(Em2**-0.25)*Ta;\n",
    "ATC2=Taa-273;\n",
    "E=ATC1-ATC2;\n",
    "print (\"Error in temperature measurement=%.2f degree C\" %E)\n"
   ]
  },
  {
   "cell_type": "markdown",
   "metadata": {},
   "source": [
    "## Exa 3.6"
   ]
  },
  {
   "cell_type": "code",
   "execution_count": 25,
   "metadata": {
    "collapsed": false
   },
   "outputs": [
    {
     "name": "stdout",
     "output_type": "stream",
     "text": [
      "Average flow rate=0.02 degree m/s\n",
      "Percentage decrease in voltage=1.79 degree m/s\n"
     ]
    }
   ],
   "source": [
    "# 3.6\n",
    "import math\n",
    "EL=0.1;\n",
    "Zo=250*10**3;\n",
    "ZL=2.5*10**6;\n",
    "Eo=EL*(1+(Zo/ZL));\n",
    "B=0.1;\n",
    "l=50*10**-3;\n",
    "G=1000;\n",
    "v=Eo/(B*l*G);\n",
    "print (\"Average flow rate=%.2f degree m/s\" %v)\n",
    "Zon=1.2*250*10**3;\n",
    "ELn=2*Eo/(1+(Zon/ZL));\n",
    "PDV=((0.2-ELn)/0.2)*100;\n",
    "print (\"Percentage decrease in voltage=%.2f degree m/s\" %PDV)\n",
    "\n"
   ]
  }
 ],
 "metadata": {
  "kernelspec": {
   "display_name": "Python [Root]",
   "language": "python",
   "name": "Python [Root]"
  },
  "language_info": {
   "codemirror_mode": {
    "name": "ipython",
    "version": 2
   },
   "file_extension": ".py",
   "mimetype": "text/x-python",
   "name": "python",
   "nbconvert_exporter": "python",
   "pygments_lexer": "ipython2",
   "version": "2.7.12"
  }
 },
 "nbformat": 4,
 "nbformat_minor": 0
}
