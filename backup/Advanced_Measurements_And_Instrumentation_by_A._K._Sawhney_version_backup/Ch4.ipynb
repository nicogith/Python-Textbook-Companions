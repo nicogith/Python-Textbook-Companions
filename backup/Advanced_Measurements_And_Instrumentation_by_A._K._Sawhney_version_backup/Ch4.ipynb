{
 "cells": [
  {
   "cell_type": "markdown",
   "metadata": {
    "deletable": true,
    "editable": true
   },
   "source": [
    "# Chapter 4:Telemetry and data acquisition system"
   ]
  },
  {
   "cell_type": "markdown",
   "metadata": {
    "deletable": true,
    "editable": true
   },
   "source": [
    "## Exa 4.1"
   ]
  },
  {
   "cell_type": "code",
   "execution_count": 2,
   "metadata": {
    "collapsed": false,
    "deletable": true,
    "editable": true
   },
   "outputs": [
    {
     "name": "stdout",
     "output_type": "stream",
     "text": [
      "In addition to carrier frequency of 1000kHz the other upeer and lower frequencies are\n",
      "Upper side band frequency for modulating frequency of 300 Hz =1000.3 kHz\n",
      "Lower side band frequency for modulating frequency of 300 Hz =999.7 kHz\n",
      "Upper side band frequency for modulating frequency of 800 Hz =1000.8 kHz\n",
      "Lower side band frequency for modulating frequency of 800 Hz =999.2 kHz\n",
      "Upper side band frequency for modulating frequency of 2kHz =1002.0 kHz\n",
      "Lower side band frequency for modulating frequency of 2kHz =998.0 kHz\n"
     ]
    }
   ],
   "source": [
    "# 4.1\n",
    "import math\n",
    "fc=1000;\n",
    "print ('In addition to carrier frequency of 1000kHz the other upeer and lower frequencies are')\n",
    "fs1=0.3;\n",
    "fu1=fc+fs1;\n",
    "print (\"Upper side band frequency for modulating frequency of 300 Hz =%.1f kHz\" %fu1)\n",
    "fl1=fc-fs1;\n",
    "print (\"Lower side band frequency for modulating frequency of 300 Hz =%.1f kHz\" %fl1)\n",
    "fs2=0.8;\n",
    "fu2=fc+fs2;\n",
    "print (\"Upper side band frequency for modulating frequency of 800 Hz =%.1f kHz\" %fu2)\n",
    "fl2=fc-fs2;\n",
    "print (\"Lower side band frequency for modulating frequency of 800 Hz =%.1f kHz\" %fl2)\n",
    "fs3=2;\n",
    "fu3=fc+fs3;\n",
    "print (\"Upper side band frequency for modulating frequency of 2kHz =%.1f kHz\" %fu3)\n",
    "fl3=fc-fs3;\n",
    "print (\"Lower side band frequency for modulating frequency of 2kHz =%.1f kHz\" %fl3)\n"
   ]
  },
  {
   "cell_type": "markdown",
   "metadata": {
    "deletable": true,
    "editable": true
   },
   "source": [
    "## Exa 4.2"
   ]
  },
  {
   "cell_type": "code",
   "execution_count": 3,
   "metadata": {
    "collapsed": false,
    "deletable": true,
    "editable": true
   },
   "outputs": [
    {
     "name": "stdout",
     "output_type": "stream",
     "text": [
      "Upper side band frequency =721.76 kHz\n",
      "Lower side band frequency =701.76 kHz\n"
     ]
    }
   ],
   "source": [
    "# 4.2\n",
    "import math\n",
    "L=50*10**-6;\n",
    "C=1*10**-9;\n",
    "fc=1/(2*math.pi*(L*C)**0.5);\n",
    "fs1=10000;\n",
    "fu1=(fc+fs1)*10**-3;\n",
    "print (\"Upper side band frequency =%.2f kHz\" %fu1)\n",
    "fl1=(fc-fs1)*10**-3;\n",
    "print (\"Lower side band frequency =%.2f kHz\" %fl1)\n"
   ]
  },
  {
   "cell_type": "markdown",
   "metadata": {
    "deletable": true,
    "editable": true
   },
   "source": [
    "## Exa 4.3"
   ]
  },
  {
   "cell_type": "code",
   "execution_count": 4,
   "metadata": {
    "collapsed": false,
    "deletable": true,
    "editable": true
   },
   "outputs": [
    {
     "name": "stdout",
     "output_type": "stream",
     "text": [
      "Radiation Power =68.06 kW\n"
     ]
    }
   ],
   "source": [
    "# 4.3\n",
    "import math\n",
    "Pc=50;\n",
    "m=0.85;\n",
    "Pt=Pc*(1+(m**2/2))\n",
    "print (\"Radiation Power =%.2f kW\" %Pt)\n"
   ]
  },
  {
   "cell_type": "markdown",
   "metadata": {
    "deletable": true,
    "editable": true
   },
   "source": [
    "## Exa 4.4"
   ]
  },
  {
   "cell_type": "code",
   "execution_count": 5,
   "metadata": {
    "collapsed": false,
    "deletable": true,
    "editable": true
   },
   "outputs": [
    {
     "name": "stdout",
     "output_type": "stream",
     "text": [
      "modulation index for Es (2.4) =9.6\n",
      "modulation index for Es(7.2)=28.8\n",
      "modulation indexfor Es(10) =40.0\n"
     ]
    }
   ],
   "source": [
    "# 4.4\n",
    "import math\n",
    "delta=4.8;\n",
    "Es=2.4;\n",
    "K=delta/Es;\n",
    "Es1=7.2;\n",
    "delta1=K*Es1;\n",
    "Es2=10;\n",
    "delta2=K*Es2;\n",
    "fs1=500*10**-3;\n",
    "mf1=delta/fs1;\n",
    "print (\"modulation index for Es (2.4) =%.1f\" %mf1)\n",
    "mf2=delta1/fs1;\n",
    "print (\"modulation index for Es(7.2)=%.1f\" %mf2)\n",
    "mf3=delta2/fs1;\n",
    "print (\"modulation indexfor Es(10) =%.1f\" %mf3)\n",
    "\n"
   ]
  },
  {
   "cell_type": "markdown",
   "metadata": {
    "deletable": true,
    "editable": true
   },
   "source": [
    "## Exa 4.5"
   ]
  },
  {
   "cell_type": "code",
   "execution_count": 6,
   "metadata": {
    "collapsed": false,
    "deletable": true,
    "editable": true
   },
   "outputs": [
    {
     "name": "stdout",
     "output_type": "stream",
     "text": [
      "carrier frequency =95493.0 kHz\n",
      "modulating frequency =198.9 Hz\n",
      "maximum deviation =994.7 Hz\n",
      "Power dissipated =7.2 W\n"
     ]
    }
   ],
   "source": [
    "# 4.5\n",
    "import math\n",
    "wc=6*10**8;\n",
    "fc=(wc)/(2*math.pi)*10**-3;\n",
    "print (\"carrier frequency =%.1f kHz\" %fc)\n",
    "ws=1250;\n",
    "fs=(ws)/(2*math.pi);\n",
    "print (\"modulating frequency =%.1f Hz\" %fs)\n",
    "mf=5;\n",
    "delta=mf*fs;\n",
    "print (\"maximum deviation =%.1f Hz\" %delta)\n",
    "Rms=12/(2**0.5);\n",
    "P=Rms**2/10;\n",
    "print (\"Power dissipated =%.1f W\" %P)\n",
    "\n"
   ]
  },
  {
   "cell_type": "markdown",
   "metadata": {
    "deletable": true,
    "editable": true
   },
   "source": [
    "## Exa 4.6"
   ]
  },
  {
   "cell_type": "code",
   "execution_count": 7,
   "metadata": {
    "collapsed": false,
    "deletable": true,
    "editable": true
   },
   "outputs": [
    {
     "name": "stdout",
     "output_type": "stream",
     "text": [
      "Band width =80 kHz\n"
     ]
    }
   ],
   "source": [
    "# 4.6\n",
    "import math\n",
    "delta=10;\n",
    "fs=2;\n",
    "mf=delta/fs;\n",
    "BW=16*mf;\n",
    "print (\"Band width =%.0f kHz\" %BW)\n"
   ]
  },
  {
   "cell_type": "markdown",
   "metadata": {
    "deletable": true,
    "editable": true
   },
   "source": [
    "## Exa 4.7"
   ]
  },
  {
   "cell_type": "code",
   "execution_count": 8,
   "metadata": {
    "collapsed": false,
    "deletable": true,
    "editable": true
   },
   "outputs": [
    {
     "name": "stdout",
     "output_type": "stream",
     "text": [
      "epm=8sin(0.6283*10**9t+10 sin 37.7*10**3t)V\n",
      "for a signal voltage of 4 V\n",
      "epm=8sin(0.6283*10**9t+13.33 sin 37.7*10**3t)V\n",
      "for a fs of 8 kHz\n",
      "epm=8sin(0.6283*10**9t+13.33 sin 50.27*10**3t)V\n"
     ]
    }
   ],
   "source": [
    "# 4.7\n",
    "import math\n",
    "fc=100*10**6;\n",
    "wc=2*math.pi*fc;\n",
    "fs=6*10**3;\n",
    "ws=2*math.pi*fs;\n",
    "delta=60*10**3;\n",
    "mf=delta/fs;\n",
    "mp=mf;\n",
    "print ('epm=8sin(0.6283*10**9t+10 sin 37.7*10**3t)V')\n",
    "print ('for a signal voltage of 4 V')\n",
    "mp=4*10/3;\n",
    "print ('epm=8sin(0.6283*10**9t+13.33 sin 37.7*10**3t)V')\n",
    "print ('for a fs of 8 kHz')\n",
    "print ('epm=8sin(0.6283*10**9t+13.33 sin 50.27*10**3t)V')"
   ]
  },
  {
   "cell_type": "markdown",
   "metadata": {
    "deletable": true,
    "editable": true
   },
   "source": [
    "## Exa 4.8"
   ]
  },
  {
   "cell_type": "code",
   "execution_count": 9,
   "metadata": {
    "collapsed": false,
    "deletable": true,
    "editable": true
   },
   "outputs": [
    {
     "name": "stdout",
     "output_type": "stream",
     "text": [
      "range is 0-31 V with each step representing 1V\n",
      "quattization error =0.4 V\n"
     ]
    }
   ],
   "source": [
    "# 4.8\n",
    "import math\n",
    "n=5;\n",
    "Ql=2**n;\n",
    "Range=(Ql-1)*1;\n",
    "print ('range is 0-31 V with each step representing 1V')\n",
    "Qe=27.39-27;\n",
    "print (\"quattization error =%.1f V\" %Qe)\n"
   ]
  },
  {
   "cell_type": "markdown",
   "metadata": {
    "deletable": true,
    "editable": true
   },
   "source": [
    "## Exa 4.9"
   ]
  },
  {
   "cell_type": "code",
   "execution_count": 10,
   "metadata": {
    "collapsed": false,
    "deletable": true,
    "editable": true
   },
   "outputs": [
    {
     "name": "stdout",
     "output_type": "stream",
     "text": [
      "For amplitude modulation\n",
      "Minimum width of carrier channel =2.0 kHz\n",
      "For frequency modulation\n",
      "Minimum width of carrier channel =5.0 kHz\n",
      "For pulse code modulation\n",
      "Minimum width of carrier channel =8.0 kHz\n"
     ]
    }
   ],
   "source": [
    "# 4.9\n",
    "import math\n",
    "print ('For amplitude modulation')\n",
    "MCCW=2*1;\n",
    "print (\"Minimum width of carrier channel =%.1f kHz\" %MCCW)\n",
    "print ('For frequency modulation')\n",
    "MCCW=2*(1.5+1);\n",
    "print (\"Minimum width of carrier channel =%.1f kHz\" %MCCW)\n",
    "print ('For pulse code modulation')\n",
    "MCCW=8*1;\n",
    "print (\"Minimum width of carrier channel =%.1f kHz\" %MCCW)\n"
   ]
  },
  {
   "cell_type": "markdown",
   "metadata": {
    "deletable": true,
    "editable": true
   },
   "source": [
    "## Exa 4.10"
   ]
  },
  {
   "cell_type": "code",
   "execution_count": 11,
   "metadata": {
    "collapsed": false,
    "deletable": true,
    "editable": true
   },
   "outputs": [
    {
     "name": "stdout",
     "output_type": "stream",
     "text": [
      "At 403 change in frequency\n",
      "Fuel level =1650.0 L\n"
     ]
    }
   ],
   "source": [
    "# 4.10\n",
    "import math\n",
    "Fc=430-370;\n",
    "print ('At 403 change in frequency')\n",
    "Fc1=403-370;\n",
    "Fuel_level=Fc1*3000/Fc;\n",
    "print (\"Fuel level =%.1f L\" %Fuel_level)\n"
   ]
  },
  {
   "cell_type": "markdown",
   "metadata": {
    "deletable": true,
    "editable": true
   },
   "source": [
    "## Exa 4.11"
   ]
  },
  {
   "cell_type": "code",
   "execution_count": 12,
   "metadata": {
    "collapsed": false,
    "deletable": true,
    "editable": true
   },
   "outputs": [
    {
     "name": "stdout",
     "output_type": "stream",
     "text": [
      "for good quality data the sampling rate should be at least 5 times the data frequency for one channel\n",
      "sampling rate =1250.0 samples per second\n"
     ]
    }
   ],
   "source": [
    "# 4.11\n",
    "import math\n",
    "print ('for good quality data the sampling rate should be at least 5 times the data frequency for one channel')\n",
    "channel=5;\n",
    "f=50;\n",
    "sampling_rate=5*channel*f;\n",
    "print (\"sampling rate =%.1f samples per second\" %sampling_rate)\n"
   ]
  },
  {
   "cell_type": "markdown",
   "metadata": {
    "deletable": true,
    "editable": true
   },
   "source": [
    "## Exa 4.12"
   ]
  },
  {
   "cell_type": "code",
   "execution_count": 13,
   "metadata": {
    "collapsed": false,
    "deletable": true,
    "editable": true
   },
   "outputs": [
    {
     "name": "stdout",
     "output_type": "stream",
     "text": [
      "Maximum possible data transmission rate =6000.0 bits per second\n",
      "minimum sampling rate per channel =2000.0 samples per second\n",
      "maximum number of channels =42 \n"
     ]
    }
   ],
   "source": [
    "#4.12\n",
    "import math\n",
    "Vs=7;\n",
    "Vn=1;\n",
    "fh=10**3;\n",
    "H=2*fh*math.log(1+(Vs/Vn),2);\n",
    "print (\"Maximum possible data transmission rate =%.1f bits per second\" %H)\n",
    "Sampling_rate=2*fh;\n",
    "print (\"minimum sampling rate per channel =%.1f samples per second\" %Sampling_rate)\n",
    "C_max=85714/2000;\n",
    "print (\"maximum number of channels =%.0f \" %C_max)"
   ]
  },
  {
   "cell_type": "markdown",
   "metadata": {
    "deletable": true,
    "editable": true
   },
   "source": [
    "## Exa 4.13"
   ]
  },
  {
   "cell_type": "code",
   "execution_count": 14,
   "metadata": {
    "collapsed": false,
    "deletable": true,
    "editable": true
   },
   "outputs": [
    {
     "name": "stdout",
     "output_type": "stream",
     "text": [
      "cutt off frquency =50.0 kHz \n"
     ]
    }
   ],
   "source": [
    "#4.13\n",
    "import math\n",
    "d_rate=100;\n",
    "fc= 0.5*d_rate;\n",
    "print (\"cutt off frquency =%.1f kHz \" %fc)\n"
   ]
  },
  {
   "cell_type": "markdown",
   "metadata": {
    "deletable": true,
    "editable": true
   },
   "source": [
    "## Exa 4.14"
   ]
  },
  {
   "cell_type": "code",
   "execution_count": 15,
   "metadata": {
    "collapsed": false,
    "deletable": true,
    "editable": true
   },
   "outputs": [
    {
     "name": "stdout",
     "output_type": "stream",
     "text": [
      "The modulated carrier will have a bandwidth of 100MHz+/- 1kHz.\n",
      "therefore we can have 5 channels each transmitting a 1KHz data for 5kHz bandwidth\n"
     ]
    }
   ],
   "source": [
    "#4.14\n",
    "import math\n",
    "print ('The modulated carrier will have a bandwidth of 100MHz+/- 1kHz.')\n",
    "print ('therefore we can have 5 channels each transmitting a 1KHz data for 5kHz bandwidth')"
   ]
  },
  {
   "cell_type": "markdown",
   "metadata": {
    "deletable": true,
    "editable": true
   },
   "source": [
    "## Exa 4.15"
   ]
  },
  {
   "cell_type": "code",
   "execution_count": 16,
   "metadata": {
    "collapsed": false,
    "deletable": true,
    "editable": true
   },
   "outputs": [
    {
     "name": "stdout",
     "output_type": "stream",
     "text": [
      "Bandwidth of intelligence =2475.0 Hz \n",
      "Rise time=141.4 us \n"
     ]
    }
   ],
   "source": [
    "# 4.15\n",
    "import math\n",
    "Fd=7.5*165*10**3/100;\n",
    "mf=5;\n",
    "Bandwidth=Fd/mf;\n",
    "print (\"Bandwidth of intelligence =%.1f Hz \" %Bandwidth)\n",
    "Tr=0.35/Bandwidth*10**6;\n",
    "print (\"Rise time=%.1f us \" %Tr)\n"
   ]
  }
 ],
 "metadata": {
  "kernelspec": {
   "display_name": "Python 2",
   "language": "python",
   "name": "python2"
  },
  "language_info": {
   "codemirror_mode": {
    "name": "ipython",
    "version": 2
   },
   "file_extension": ".py",
   "mimetype": "text/x-python",
   "name": "python",
   "nbconvert_exporter": "python",
   "pygments_lexer": "ipython2",
   "version": "2.7.12+"
  }
 },
 "nbformat": 4,
 "nbformat_minor": 0
}
