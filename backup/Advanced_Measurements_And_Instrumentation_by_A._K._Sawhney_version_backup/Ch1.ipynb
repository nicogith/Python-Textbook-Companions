{
 "cells": [
  {
   "cell_type": "markdown",
   "metadata": {
    "collapsed": true,
    "deletable": true,
    "editable": true
   },
   "source": [
    "# Chapter 1:Measurement of phase and frequency"
   ]
  },
  {
   "cell_type": "markdown",
   "metadata": {
    "deletable": true,
    "editable": true
   },
   "source": [
    "## Example 1.1, Page number 28"
   ]
  },
  {
   "cell_type": "code",
   "execution_count": 1,
   "metadata": {
    "collapsed": false,
    "deletable": true,
    "editable": true
   },
   "outputs": [
    {
     "name": "stdout",
     "output_type": "stream",
     "text": [
      "inductance of the circuit 1 = 7.04 H\n",
      "inductance of circuit 2 L2=9.82 H\n",
      "Resonant frequency of the circuit 1 = 41.47 Hz\n"
     ]
    }
   ],
   "source": [
    "import math\n",
    "c1=10**-6;\n",
    "f1=60;\n",
    "L1=1/(4*math.pi*math.pi*(f1**2)*c1);\n",
    "print (\"inductance of the circuit 1 = %.2f H\" % L1)\n",
    "f2=50;\n",
    "w=2*math.pi*f2;\n",
    "R1=100;\n",
    "Z1=complex(R1,((w*L1)-(1/w*c1)));\n",
    "#Z2=complex(100+j*((2*math.pi*50*L2)-(1/(2*math.pi*50*1.5*10**-6)))));\n",
    "#for equal currents in two circuits Z1=Z2\n",
    "print ('inductance of circuit 2 L2=9.82 H')\n",
    "L2=9.82;\n",
    "C2=1.5*10**-6;\n",
    "Rf2=(1/(2*math.pi))*(1/(L2*C2))**0.5;\n",
    "print (\"Resonant frequency of the circuit 1 = %.2f Hz\" % Rf2)\n",
    "\n"
   ]
  }
 ],
 "metadata": {
  "kernelspec": {
   "display_name": "Python 2",
   "language": "python",
   "name": "python2"
  },
  "language_info": {
   "codemirror_mode": {
    "name": "ipython",
    "version": 2
   },
   "file_extension": ".py",
   "mimetype": "text/x-python",
   "name": "python",
   "nbconvert_exporter": "python",
   "pygments_lexer": "ipython2",
   "version": "2.7.12+"
  }
 },
 "nbformat": 4,
 "nbformat_minor": 0
}
