{
 "metadata": {
  "name": "",
  "signature": "sha256:a0a25762305b1c74ca417d46a7390eaac10578c3f22cb04bddc542c61d85667c"
 },
 "nbformat": 3,
 "nbformat_minor": 0,
 "worksheets": [
  {
   "cells": [
    {
     "cell_type": "heading",
     "level": 1,
     "metadata": {},
     "source": [
      "Chapter6-Turning Moment Diagram and Flywheel"
     ]
    },
    {
     "cell_type": "heading",
     "level": 2,
     "metadata": {},
     "source": [
      "Ex1-pg175"
     ]
    },
    {
     "cell_type": "code",
     "collapsed": false,
     "input": [
      "##CHAPTER 6 ILLUSRTATION 1 PAGE NO 175\n",
      "##TITLE:Turning Moment Diagram and Flywheel\n",
      "\n",
      "k=1.##         radius of gyration of flywheel in m\n",
      "m=2000.##       mass of the flywheel in kg\n",
      "T=1000.##      torque of the engine in Nm\n",
      "w1=0.##        speedin the begining\n",
      "t=10.##        time duration\n",
      "##==============================\n",
      "I=m*k**2.##         mass moment of inertia in kg-m**2\n",
      "a=T/I##           angular acceleration of flywheel in rad/s**2\n",
      "w2=w1+a*t##       angular speed after time t in rad/s\n",
      "K=I*w2**2/2.##     kinetic energy of flywheel in Nm\n",
      "##==============================\n",
      "print'%s %.1f %s %.1f %s '%('Angular acceleration of the flywheel=',a,' rad/s**2'' Kinetic energy of flywheel= ',K,' N-m')\n"
     ],
     "language": "python",
     "metadata": {},
     "outputs": [
      {
       "output_type": "stream",
       "stream": "stdout",
       "text": [
        "Angular acceleration of the flywheel= 0.5  rad/s**2 Kinetic energy of flywheel=  25000.0  N-m \n"
       ]
      }
     ],
     "prompt_number": 1
    },
    {
     "cell_type": "heading",
     "level": 2,
     "metadata": {},
     "source": [
      "Ex2-pg176"
     ]
    },
    {
     "cell_type": "code",
     "collapsed": false,
     "input": [
      "##CHAPTER 6 ILLUSRTATION 2 PAGE NO 176\n",
      "##TITLE:Turning Moment Diagram and Flywheel\n",
      "import math\n",
      "pi=3.141\n",
      "N1=225.##              maximum speed of flywheel in rpm\n",
      "k=.5##                radius of gyration of flywheel in m\n",
      "n=720.##               no of holes punched per hour\n",
      "E1=15000.##            energy required by flywheel in Nm\n",
      "N2=200.##              mimimum speedof flywheel in rpm\n",
      "t=2.##                 time taking for punching a hole\n",
      "##==========================\n",
      "P=E1*n/3600.##              power required by motor per sec in watts\n",
      "E2=P*t##                   energy supplied by motor to punch a hole in N-m\n",
      "E=E1-E2##                  maximum fluctuation of energy in N-m\n",
      "N=(N1+N2)/2.##              mean speed of the flywheel in rpm\n",
      "m=E/(pi**2./900.*k**2.*N*(N1-N2))\n",
      "print'%s %.1f %s %.1f %s'%('Power of the motor= ',P,' watts''Mass of the flywheel required= ',m,' kg')\n"
     ],
     "language": "python",
     "metadata": {},
     "outputs": [
      {
       "output_type": "stream",
       "stream": "stdout",
       "text": [
        "Power of the motor=  3000.0  wattsMass of the flywheel required=  618.2  kg\n"
       ]
      }
     ],
     "prompt_number": 3
    },
    {
     "cell_type": "heading",
     "level": 2,
     "metadata": {},
     "source": [
      "Ex3-pg176"
     ]
    },
    {
     "cell_type": "code",
     "collapsed": false,
     "input": [
      "##CHAPTER 6 ILLUSRTATION 3 PAGE NO 176\n",
      "##TITLE:Turning Moment Diagram and Flywheel\n",
      "import math\n",
      "pi=3.141\n",
      "d=38.##              diameter of hole in cm\n",
      "t=32.##              thickness of hole in cm\n",
      "e1=7.##                energy required to punch one square mm\n",
      "V=25.##                mean speed of the flywheel in m/s\n",
      "S=100.##                stroke of the punch in cm\n",
      "T=10.##                time required to punch a hole in s\n",
      "Cs=.03##                coefficient of fluctuation of speed\n",
      "##===================\n",
      "A=pi*d*t##                sheared area in mm**2\n",
      "E1=e1*A##                 energy required to punch entire area in Nm\n",
      "P=E1/T##                 power of motor required in watts\n",
      "T1=T/(2.*S)*t##           time required to punch a hole in 32 mm thick plate\n",
      "E2=P*T1##               energy supplied by motor in T1 seconds\n",
      "E=E1-E2##                maximum fluctuation of energy in Nm\n",
      "m=E/(V**2.*Cs)##           mass of the flywheel required\n",
      "print'%s %.1f %s'%('Mass of the flywheel required= ',m,' kg')\n",
      "\n",
      "\t\t"
     ],
     "language": "python",
     "metadata": {},
     "outputs": [
      {
       "output_type": "stream",
       "stream": "stdout",
       "text": [
        "Mass of the flywheel required=  1197.8  kg\n"
       ]
      }
     ],
     "prompt_number": 4
    },
    {
     "cell_type": "heading",
     "level": 2,
     "metadata": {},
     "source": [
      "Ex4-pg177"
     ]
    },
    {
     "cell_type": "code",
     "collapsed": false,
     "input": [
      "##CHAPTER 6 ILLUSRTATION 4 PAGE NO 177\n",
      "##TITLE:Turning Moment Diagram and Flywheel\n",
      "##figure 6.4\n",
      "import math\n",
      "##===================\n",
      "pi=3.141\n",
      "N=480.##             speed of the engine in rpm\n",
      "k=.6##            radius of gyration in m\n",
      "Cs=.03##           coefficient of fluctuaion of speed \n",
      "Ts=6000.##          turning moment scale in Nm per one cm\n",
      "C=30.##             crank angle scale in degrees per cm\n",
      "a=[0.5,-1.22,.9,-1.38,.83,-.7,1.07]##      areas between the output torque and mean resistance line in sq.cm\n",
      "##======================\n",
      "w=2.*pi*N/60.##            angular speed in rad/s\n",
      "A=Ts*C*pi/180.##            1 cm**2 of turning moment diagram in Nm\n",
      "E1=a[0]##                max energy at B refer figure\n",
      "E2=a[0]+a[1]+a[2]+a[3]\n",
      "E=(E1-E2)*A##            fluctuation of energy in Nm\n",
      "m=E/(k**2.*w**2*Cs)##        mass of the flywheel in kg\n",
      "print'%s %.1f %s'%('Mass of the flywheel= ',m,' kg')\n"
     ],
     "language": "python",
     "metadata": {},
     "outputs": [
      {
       "output_type": "stream",
       "stream": "stdout",
       "text": [
        "Mass of the flywheel=  195.8  kg\n"
       ]
      }
     ],
     "prompt_number": 5
    },
    {
     "cell_type": "heading",
     "level": 2,
     "metadata": {},
     "source": [
      "Ex5-pg178"
     ]
    },
    {
     "cell_type": "code",
     "collapsed": false,
     "input": [
      "##CHAPTER 6 ILLUSRTATION 5 PAGE NO 178\n",
      "##TITLE:Turning Moment Diagram and Flywheel\n",
      "##==============\n",
      "pi=3.141\n",
      "P=500.*10**3.##        power of the motor in N\n",
      "k=.6##            radius of gyration in m\n",
      "Cs=.03##          coefficient of fluctuation of spped \n",
      "OA=750.##           REFER FIGURE\n",
      "OF=6.*pi##          REFER FIGURE\n",
      "AG=pi## REFER FIGURE\n",
      "BG=3000.-750.## REFER FIGURE\n",
      "GH=2.*pi## REFER FIGURE\n",
      "CH=3000.-750.## REFER FIGURE\n",
      "HD=pi## REFER FIGURE\n",
      "LM=2.*pi## REFER FIGURE\n",
      "T=OA*OF+1./2.*AG*BG+BG*GH+1./2.*CH*HD##    Torque required for one complete cycle in Nm\n",
      "Tmean=T/(6.*pi)##                 mean torque in Nm\n",
      "w=P/Tmean##                    angular velocity required in rad/s\n",
      "BL=3000.-1875.## refer figure\n",
      "KL=BL*AG/BG##   From similar trangles\n",
      "CM=3000.-1875.## refer figure\n",
      "MN=CM*HD/CH##from similar triangles\n",
      "E=1./2.*KL*BL+BL*LM+1./2.*CM*MN##         Maximum fluctuaion of energy in Nm\n",
      "m=E*100./(k**2*w**2.*Cs)##   mass of flywheel in kg\n",
      "print'%s %.1f %s'%('Mass of the flywheel= ',m,' kg')\n"
     ],
     "language": "python",
     "metadata": {},
     "outputs": [
      {
       "output_type": "stream",
       "stream": "stdout",
       "text": [
        "Mass of the flywheel=  1150.3  kg\n"
       ]
      }
     ],
     "prompt_number": 6
    },
    {
     "cell_type": "heading",
     "level": 2,
     "metadata": {},
     "source": [
      "Ex6-pg179"
     ]
    },
    {
     "cell_type": "code",
     "collapsed": false,
     "input": [
      "##CHAPTER 6 ILLUSRTATION 6 PAGE NO 179\n",
      "##TITLE:Turning Moment Diagram and Flywheel\n",
      "import math\n",
      "pi=3.141\n",
      "PI=180.##in degrees\n",
      "theta1=0.\n",
      "theta2=PI\n",
      "m=400.##      mass of the flywheel in kg\n",
      "N=250.##      speed in rpm\n",
      "k=.4##       radius of gyration in m\n",
      "n=2.*250./60000.##          no of working strokes per minute\n",
      "W=1000.*pi-150.*math.cos((2*theta2)/57.3)-250.*math.sin((2*theta2)/57.3)-(1000.*theta1-150.*math.cos((2*theta1)/57.3)-250.*math.sin((2*theta1)/57.3))##     workdone per stroke in Nm\n",
      "P=W*n##        power in KW\n",
      "Tmean=W/pi##         mean torque in Nm\n",
      "twotheta=math.atan((500/300)/57.3)##       angle at which T-Tmean becomes zero\n",
      "THETA1=twotheta/2.\n",
      "THETA2=(180.+twotheta)/2.\n",
      "E=-150.*math.cos((2.*THETA2)/57.3)-250.*math.sin((2.*THETA2)/57.3)-(-150*math.cos((2.*THETA1)/57.3)-250.*math.sin((2*THETA1)/57.3))##    FLUCTUATION OF ENERGY IN Nm\n",
      "w=2.*pi*N/60.##      angular speed in rad/s\n",
      "Cs1=E*100./(k**2.*w**2.*m)##   fluctuation range\n",
      "Cs=Cs1/2.##         tatal percentage of fluctuation of speed\n",
      "Theta=60.\n",
      "T1=300.*math.sin((2*Theta)/57.3)-500.*math.cos((2*Theta)/57.3)##        Accelerating torque in Nm(T-Tmean)\n",
      "alpha=T1/(m*k**2.)##                              angular acceleration in rad/s**2\n",
      "print'%s %.1f %s  %.3f %s  %.3f %s '%('Power delivered=',P,' kw''Total percentage of fluctuation speed=',Cs,' ''Angular acceleration=',alpha,'rad/s**2')\n",
      "#in book ans is given wrong \n"
     ],
     "language": "python",
     "metadata": {},
     "outputs": [
      {
       "output_type": "stream",
       "stream": "stdout",
       "text": [
        "Power delivered= 26.2  kwTotal percentage of fluctuation speed=  0.342  Angular acceleration=  7.965 rad/s**2 \n"
       ]
      }
     ],
     "prompt_number": 7
    },
    {
     "cell_type": "heading",
     "level": 2,
     "metadata": {},
     "source": [
      "Ex7-pg181"
     ]
    },
    {
     "cell_type": "code",
     "collapsed": false,
     "input": [
      "##CHAPTER 6 ILLUSRTATION 7 PAGE NO 181\n",
      "##TITLE:Turning Moment Diagram and Flywheel\n",
      "\n",
      "pi=3.141\n",
      "m=200.##      mass of the flywheel in kg\n",
      "k=.5##       radius of gyration in m\n",
      "N1=360.##      upper limit of speed in rpm\n",
      "N2=240.##       lower limit of speed in rpm\n",
      "##==========\n",
      "I=m*k**2.##        mass moment of inertia in kg m**2\n",
      "w1=2.*pi*N1/60.\n",
      "w2=2.*pi*N2/60.\n",
      "E=1./2.*I*(w1**2.-w2**2.)##    fluctuation of energy in Nm\n",
      "Pmin=E/(4.*1000.)##       power in kw\n",
      "Eex=Pmin*12.*1000.##  Energy expended in performing each operation in N-m\n",
      "print'%s %.1f %s %.1f %s '%('Mimimum power required= ',Pmin,' kw' ' Energy expended in performing each operation= ',Eex,' N-m')\n",
      "\n"
     ],
     "language": "python",
     "metadata": {},
     "outputs": [
      {
       "output_type": "stream",
       "stream": "stdout",
       "text": [
        "Mimimum power required=  4.9  kw Energy expended in performing each operation=  59195.3  N-m \n"
       ]
      }
     ],
     "prompt_number": 8
    },
    {
     "cell_type": "heading",
     "level": 2,
     "metadata": {},
     "source": [
      "Ex8-pg182"
     ]
    },
    {
     "cell_type": "code",
     "collapsed": false,
     "input": [
      "##CHAPTER 6 ILLUSRTATION 8 PAGE NO 182\n",
      "##TITLE:Turning Moment Diagram and Flywheel\n",
      "import math\n",
      "pi=3.141\n",
      "b=8.##    width of the strip in cm\n",
      "t=2.##    thickness of the strip in cm\n",
      "w=1.2*10**3.##          work required per square cm cut\n",
      "N1=200.##                maximum speed of the flywheel in rpm\n",
      "k=.80##                 radius of gyration in m\n",
      "N2=(1.-.15)*N1##         minimum speed of the flywheel in rpm\n",
      "T=3.##                   time required to punch a hole\n",
      "##=======================\n",
      "A=b*t##           area cut of each stroke in cm**2\n",
      "W=w*A##            work required to cut a strip in Nm\n",
      "w1=2.*pi*N1/60.##        speed before cut in rpm\n",
      "w2=2.*pi*N2/60.##        speed after cut in rpm\n",
      "m=2.*W/(k**2.*(w1**2.-w2**2.))##       mass of the flywheel required in kg\n",
      "a=(w1-w2)/T##           angular acceleration in rad/s**2\n",
      "Ta=m*k**2.*a##             torque required in Nm\n",
      "print'%s %.1f %s %.1f %s '%('Mass of the flywheel= ',m,' kg'' Amount of Torque required=',Ta,'Nm')\n",
      "\n",
      "\n"
     ],
     "language": "python",
     "metadata": {},
     "outputs": [
      {
       "output_type": "stream",
       "stream": "stdout",
       "text": [
        "Mass of the flywheel=  493.1  kg Amount of Torque required= 330.4 Nm \n"
       ]
      }
     ],
     "prompt_number": 9
    },
    {
     "cell_type": "heading",
     "level": 2,
     "metadata": {},
     "source": [
      "Ex9-pg182"
     ]
    },
    {
     "cell_type": "code",
     "collapsed": false,
     "input": [
      "##CHAPTER 6 ILLUSRTATION 9 PAGE NO 182\n",
      "##TITLE:Turning Moment Diagram and Flywheel\n",
      "\n",
      "pi=3.141\n",
      "P=5.*10**3.##            power delivered by motor in watts\n",
      "N1=360.##               speed of the flywheel in rpm\n",
      "I=60.##                mass moment of inertia in kg m**2\n",
      "E1=7500.##             energy required by pressing machine for 1 second in Nm\n",
      "##========================\n",
      "Ehr=P*60.*60.##      energy sipplied per hour in Nm\n",
      "n=Ehr/E1\n",
      "E=E1-P##           total fluctuation of energy in Nm\n",
      "w1=2.*pi*N1/60.##     angular speed before pressing in rpm \n",
      "w2=((2.*pi*N1/60.)**2.-(2.*E/I))**.5##       angular speed after pressing in rpm \n",
      "N2=w2*60./(2.*pi)\n",
      "R=N1-N2##              reduction in speed in rpm\n",
      "print'%s %.1f %s %.1f %s '%('No of pressings that can be made per hour= ',n,' Reduction in speed after the pressing is over= ',R,' rpm ')\n",
      "\n"
     ],
     "language": "python",
     "metadata": {},
     "outputs": [
      {
       "output_type": "stream",
       "stream": "stdout",
       "text": [
        "No of pressings that can be made per hour=  2400.0  Reduction in speed after the pressing is over=  10.7  rpm  \n"
       ]
      }
     ],
     "prompt_number": 10
    },
    {
     "cell_type": "heading",
     "level": 2,
     "metadata": {},
     "source": [
      "Ex10-pg183"
     ]
    },
    {
     "cell_type": "code",
     "collapsed": false,
     "input": [
      "##CHAPTER 6 ILLUSRTATION 10 PAGE NO 183\n",
      "##TITLE:Turning Moment Diagram and Flywheel\n",
      "import math\n",
      "pi=3.141\n",
      "Cs=.02##     coefficient of fluctuation of speed \n",
      "N=200.##      speed of the engine in rpm\n",
      "\n",
      "theta1=math.acos(0/57.3)\n",
      "theta2=math.asin((-6000/16000)/57.3)\n",
      "theta2=180.-theta2\n",
      "##===============================================\n",
      "##largest area,representing fluctuation of energy lies between theta1 and theta2\n",
      "E=6000.*math.sin(theta2/57.3)-8000./2.*math.cos((2*theta2)/57.3)-(6000.*math.sin((theta1)/57.3)-8000./2.*math.cos((2*theta1)/57.3))##      total fluctuation of energy in Nm\n",
      "Theta=180##    angle with which cycle will be repeated in degrees\n",
      "Theta1=0\n",
      "Tmean=1/pi*((15000*pi+(-8000*math.cos((2*Theta)/57.3))/2.)-((15000*Theta1+(-8000*math.cos((2*Theta1)/57.3))/2.)))##     mean torque of engine in Nm\n",
      "P=2*pi*N*Tmean/60000.##      power of the engine in kw\n",
      "w=2*pi*N/60.##           angular speed of the engine in rad/s\n",
      "I=E/(w**2.*Cs)##          mass moment of inertia of flywheel in kg-m**2\n",
      "print'%s %.1f %s %.1f %s '%('Power of the engine= ',P,' kw'' minimum mass moment of inertia of flywheel=',-I,' kg-m**2'' E value calculated in the textbook is wrong. Its value is -15,124. In textbook it is given as -1370.28')\n",
      "\n"
     ],
     "language": "python",
     "metadata": {},
     "outputs": [
      {
       "output_type": "stream",
       "stream": "stdout",
       "text": [
        "Power of the engine=  314.1  kw minimum mass moment of inertia of flywheel= 19.5  kg-m**2 E value calculated in the textbook is wrong. Its value is -15,124. In textbook it is given as -1370.28 \n"
       ]
      }
     ],
     "prompt_number": 11
    }
   ],
   "metadata": {}
  }
 ]
}