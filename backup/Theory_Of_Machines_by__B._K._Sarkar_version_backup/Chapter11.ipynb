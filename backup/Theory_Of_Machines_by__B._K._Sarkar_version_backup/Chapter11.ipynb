{
 "metadata": {
  "name": "",
  "signature": "sha256:ebcd9b3d07a8d6768db168aed38e578ce5aca1ce1a2df85108f9e88506949f89"
 },
 "nbformat": 3,
 "nbformat_minor": 0,
 "worksheets": [
  {
   "cells": [
    {
     "cell_type": "heading",
     "level": 1,
     "metadata": {},
     "source": [
      "Chapter11-VIBRATIONS"
     ]
    },
    {
     "cell_type": "heading",
     "level": 2,
     "metadata": {},
     "source": [
      "Ex1-pg290"
     ]
    },
    {
     "cell_type": "code",
     "collapsed": false,
     "input": [
      "##CHAPTER 11 ILLUSRTATION 1 PAGE NO 290\n",
      "##TITLE:VIBRATIONS\n",
      "import math\n",
      "#calculate frequency of longitudinal vibration and transversve vibaration\n",
      "##===========================================================================================\n",
      "##INPUT DATA\n",
      "PI=3.147\n",
      "D=.1##                           DIAMETER OF SHAFT IN m\n",
      "L=1.10##                          LENGTH OF SHAFT IN m\n",
      "W=450##                          WEIGHT ON THE OTHER END OF SHAFT IN NEWTONS\n",
      "E=200*10**9##                     YOUNGS MODUKUS OF SHAFT MATERIAL IN Pascals\n",
      "##   =========================================================================================\n",
      "A=PI*D**2./4.##                    AREA OF SHAFT IN mm**2\n",
      "I=PI*D**4./64.##                   MOMENT OF INERTIA \n",
      "delta=W*L/(A*E)##               STATIC DEFLECTION IN LONGITUDINAL VIBRATION OF SHAFT IN m\n",
      "Fn=0.4985/(delta)**.5##         FREQUENCY OF LONGITUDINAL VIBRATION IN Hz\n",
      "delta1=W*L**3./(3.*E*I)##           STATIC DEFLECTION IN TRANSVERSE VIBRATION IN m\n",
      "Fn1=0.4985/(delta1)**.5##        FREQUENCY OF TRANSVERSE VIBRATION  IN Hz\n",
      "##============================================================================================\n",
      "##OUTPUT\n",
      "print'%s %.2f %s %.2f %s '%('FREQUENCY OF LONGITUDINAL VIBRATION =',Fn,' Hz' 'FREQUENCY OF TRANSVERSE VIBRATION =',Fn1,'Hz')\n",
      "\n",
      "\n",
      "\n"
     ],
     "language": "python",
     "metadata": {},
     "outputs": [
      {
       "output_type": "stream",
       "stream": "stdout",
       "text": [
        "FREQUENCY OF LONGITUDINAL VIBRATION = 888.78  HzFREQUENCY OF TRANSVERSE VIBRATION = 34.99 Hz \n"
       ]
      }
     ],
     "prompt_number": 1
    },
    {
     "cell_type": "heading",
     "level": 2,
     "metadata": {},
     "source": [
      "Ex2-pg290"
     ]
    },
    {
     "cell_type": "code",
     "collapsed": false,
     "input": [
      "##CHAPTER 11 ILLUSRTATION 2 PAGE NO 290\n",
      "##TITLE:VIBRATIONS\n",
      "##FIGURE 11.10\n",
      "#calculate natural frequency of transverse vibration\n",
      "#import math\n",
      "##===========================================================================================\n",
      "##INPUT DATA\n",
      "PI=3.147\n",
      "L=.9##                          LENGTH OF THE SHAFT IN m\n",
      "m=100##                         MASS OF THE BODY IN Kg\n",
      "L2=.3##                         LENGTH WHERE THE WEIGHT IS ACTING IN m\n",
      "L1=L-L2##                       DISTANCE FROM THE OTHER END\n",
      "D=.06##                         DIAMETER OF SHAFT IN m\n",
      "W=9.81*m##                      WEGHT IN NEWTON\n",
      "E=200.*10**9.##                     YOUNGS MODUKUS OF SHAFT MATERIAL IN Pascals\n",
      "##==========================================================================================\n",
      "##CALCULATION\n",
      "I=PI*D**4./64.##                   MOMENT OF INERTIA IN m**4\n",
      "delta=W*L1**2*L2**2./(3.*E*I*L)##  STATIC DEFLECTION\n",
      "Fn=.4985/(delta)**.5##           NATURAL FREQUENCY OF TRANSVERSE VIBRATION\n",
      "##=========================================================================================\n",
      "##OUTPUT\n",
      "print'%s %.1f %s'%('NATURAL FREQUENCY OF TRANSVERSE VIBRATION=',Fn,' Hz')\n"
     ],
     "language": "python",
     "metadata": {},
     "outputs": [
      {
       "output_type": "stream",
       "stream": "stdout",
       "text": [
        "NATURAL FREQUENCY OF TRANSVERSE VIBRATION= 51.9  Hz\n"
       ]
      }
     ],
     "prompt_number": 2
    },
    {
     "cell_type": "heading",
     "level": 2,
     "metadata": {},
     "source": [
      "Ex3-pg291"
     ]
    },
    {
     "cell_type": "code",
     "collapsed": false,
     "input": [
      "##CHAPTER 11 ILLUSRTATION 3 PAGE NO 291 ##TITLE:VIBRATIONS\n",
      "##FIGURE 11.11\n",
      "import math\n",
      "#calculate frequency of longitudnial vibration and frequency of transverse vibration and torisional vibration\n",
      "##===========================================================================================\n",
      "##INPUT DATA\n",
      "PI=3.147\n",
      "g=9.81##                                      ACCELERATION DUE TO GRAVITY IN N /m**2\n",
      "D=.050##                                       DIAMETER OF SHAFT IN m\n",
      "m=450##                                      WEIGHT OF FLY WHEEL IN IN Kg\n",
      "K=.5##                                       RADIUS OF GYRATION IN m\n",
      "L2=.6##                                     FROM FIGURE IN m\n",
      "L1=.9##                                     FROM FIGURE IN m\n",
      "L=L1+L2\n",
      "E=200.*10**9##                     YOUNGS MODUKUS OF SHAFT MATERIAL IN Pascals\n",
      "C=84.*10**9##                      MODUKUS OF RIDITY OF SHAFT MATERIAL IN Pascals\n",
      "##=========================================================================================\n",
      "A=PI*D**2./4.##                               AREA OF SHAFT IN mm**2\n",
      "I=PI*D**4./64.##                     \n",
      "m1=m*L2/(L1+L2)##                           MASS OF THE FLYWHEEL CARRIED BY THE LENGTH L1 IN Kg\n",
      "DELTA=m1*g*L1/(A*E)##                       EXTENSION OF LENGTH L1 IN m\n",
      "Fn=0.4985/(DELTA)**.5##                      FREQUENCY OF LONGITUDINAL VIBRATION IN Hz\n",
      "DELTA1=(m*g*L1**3*L2**3)/(3*E*I*L**3)##        STATIC DEFLECTION IN TRANSVERSE VIBRATION IN m\n",
      "Fn1=0.4985/(DELTA1)**.5##                    FREQUENCY OF TRANSVERSE VIBRATION  IN Hz\n",
      "J=PI*D**4./32.##                               POLAR MOMENT OF INERTIA IN m**4\n",
      "Q1=C*J/L1##                                 TORSIONAL STIFFNESS OF SHAFT DUE TO L1 IN N-m\n",
      "Q2=C*J/L2##                                  TORSIONAL STIFFNESS OF SHAFT DUE TO L2 IN N-m\n",
      "Q=Q1+Q2##                                    TORSIONAL STIFFNESS OF SHAFT IN Nm\n",
      "Fn2=(Q/(m*K**2))**.5/(2.*PI)##                  FREQUENCY OF TORSIONAL VIBRATION  IN Hz\n",
      "##=======================================================================================\n",
      "print'%s %.3f %s %.3f %s %.3f %s '%('FREQUENCY OF LONGITUDINAL VIBRATION = ',Fn,' Hz''FREQUENCY OF TRANSVERSE VIBRATION = ',Fn1,' Hz'' FREQUENCY OF TORSIONAL VIBRATION = ',Fn2,' Hz')\n",
      "\n"
     ],
     "language": "python",
     "metadata": {},
     "outputs": [
      {
       "output_type": "stream",
       "stream": "stdout",
       "text": [
        "FREQUENCY OF LONGITUDINAL VIBRATION =  248.014  HzFREQUENCY OF TRANSVERSE VIBRATION =  14.916  Hz FREQUENCY OF TORSIONAL VIBRATION =  5.673  Hz \n"
       ]
      }
     ],
     "prompt_number": 3
    },
    {
     "cell_type": "heading",
     "level": 2,
     "metadata": {},
     "source": [
      "Ex6-pg294"
     ]
    },
    {
     "cell_type": "code",
     "collapsed": false,
     "input": [
      "##CHAPTER 11 ILLUSRTATION 6 PAGE NO 294\n",
      "##TITLE:VIBRATIONS\n",
      "##FIGURE 11.14\n",
      "import math\n",
      "#calculate frequency of transverse vibration\n",
      "##===========================================================================================\n",
      "##INPUT DATA\n",
      "PI=3.147\n",
      "g=9.81##                                      ACCELERATION DUE TO GRAVITY IN N /m**2\n",
      "D=.06##                                       DIAMETER OF SHAFT IN m\n",
      "L=3.##                                         LENGTH OF SHAFT IN m\n",
      "W1=1500.##                                     WEIGHT ACTING AT C IN N\n",
      "W2=2000.##                                     WEIGHT ACTING AT D IN N\n",
      "W3=1000.##                                     WEIGHT ACTING AT E IN N\n",
      "L1=1.##                                        LENGTH FROM A TO C IN m\n",
      "L2=2.##                                        LENGTH FROM A TO D IN m\n",
      "L3=2.5##                                        LENGTH FROM A TO E IN m\n",
      "I=PI*D**4./64.\n",
      "E=200.*10**9.##                     YOUNGS MODUKUS OF SHAFT MATERIAL IN Pascals\n",
      "##===========================================================================================\n",
      "DELTA1=W1*L1**2.*(L-L1)**2./(3.*E*I*L)##           STATIC DEFLECTION DUE TO W1\n",
      "DELTA2=W2*L2**2.*(L-L2)**2./(3.*E*I*L)##           STATIC DEFLECTION DUE TO W2\n",
      "DELTA3=W2*L3**2.*(L-L3)**2./(3.*E*I*L)##           STATIC DEFLECTION DUE TO W2\n",
      "Fn=.4985/(DELTA1+DELTA2+DELTA3)**.5##          FREQUENCY OF TRANSVERSE VIBRATION  IN Hz\n",
      "##==========================================================================================\n",
      "print'%s %.3f %s'%('FREQUENCY OF TRANSVERSE VIBRATION = ',Fn,' Hz')\n"
     ],
     "language": "python",
     "metadata": {},
     "outputs": [
      {
       "output_type": "stream",
       "stream": "stdout",
       "text": [
        "FREQUENCY OF TRANSVERSE VIBRATION =  4.080  Hz\n"
       ]
      }
     ],
     "prompt_number": 4
    },
    {
     "cell_type": "heading",
     "level": 2,
     "metadata": {},
     "source": [
      "Ex10-pg296"
     ]
    },
    {
     "cell_type": "code",
     "collapsed": false,
     "input": [
      "##CHAPTER 11 ILLUSRTATION 10 PAGE NO 296\n",
      "##TITLE:VIBRATIONS\n",
      "##FIGURE 11.18\n",
      "import math\n",
      "#calculate FREQUENCY OF TRANSVERSE VIBRATION\n",
      "##===========================================================================================\n",
      "##INPUT DATA\n",
      "PI=3.147\n",
      "g=9.81##                                      ACCELERATION DUE TO GRAVITY IN N /m**2\n",
      "E=200.*10**9##                                  YOUNGS MODUKUS OF SHAFT MATERIAL IN Pascals\n",
      "D=.03##                                       DIAMETER OF SHAFT IN m\n",
      "L=.8##                                        LENGTH OF SHAFT IN m\n",
      "r=40000.##                                     DENSITY OF SHAFT MATERIAL IN Kg/m**3\n",
      "W=10.##                                        WEIGHT ACTING AT CENTRE IN N\n",
      "##===========================================================================================\n",
      "I=PI*D**4./64.##                                 MOMENT OF INERTIA OF SHAFT IN m**4\n",
      "m=PI*D**2./4.*r##                                MASS PER UNIT LENGTH IN Kg/m\n",
      "w=m*g\n",
      "DELTA=W*L**3./(48.*E*I)##                       STATIC DEFLECTION DUE TO W\n",
      "DELTA1=5.*w*L**4./(384.*E*I)##                   STATIC DEFLECTION DUE TO WEIGHT OF SHAFT \n",
      "Fn=.4985/(DELTA+DELTA1/1.27)**.5\n",
      "##==========================================================================================\n",
      "print'%s %.3f %s'%('FREQUENCY OF TRANSVERSE VIBRATION = ',Fn,' Hz')\n",
      "\n",
      "\n"
     ],
     "language": "python",
     "metadata": {},
     "outputs": [
      {
       "output_type": "stream",
       "stream": "stdout",
       "text": [
        "FREQUENCY OF TRANSVERSE VIBRATION =  39.426  Hz\n"
       ]
      }
     ],
     "prompt_number": 5
    },
    {
     "cell_type": "heading",
     "level": 2,
     "metadata": {},
     "source": [
      "Ex11-pg297"
     ]
    },
    {
     "cell_type": "code",
     "collapsed": false,
     "input": [
      "##CHAPTER 11 ILLUSRTATION 11 PAGE NO 297\n",
      "##TITLE:VIBRATIONS\n",
      "##FIGURE 11.19\n",
      "import math\n",
      "#evaluvate CRITICAL SPEED OF SHAFT\n",
      "##===========================================================================================\n",
      "##INPUT DATA\n",
      "PI=3.147\n",
      "g=9.81##                                      ACCELERATION DUE TO GRAVITY IN N /m**2\n",
      "E=210.*10**9.##                                  YOUNGS MODUKUS OF SHAFT MATERIAL IN Pascals\n",
      "D=.18##                                       DIAMETER OF SHAFT IN m\n",
      "L=2.5##                                       LENGTH OF SHAFT IN m\n",
      "M1=25.##                                       MASS ACTING AT E IN Kg\n",
      "M2=50.##                                       MASS ACTING AT D IN Kg\n",
      "M3=20.##                                       MASS ACTING AT C IN Kg\n",
      "W1=M1*g\n",
      "W2=M2*g\n",
      "W3=M3*g\n",
      "L1=.6##                                       LENGTH FROM A TO E IN m\n",
      "L2=1.5##                                      LENGTH FROM A TO D IN m\n",
      "L3=2.##                                        LENGTH FROM A TO C IN m\n",
      "w=1962.##                                      SELF WEIGHT OF SHAFT IN N\n",
      "##==========================================================================================\n",
      "I=PI*D**4./64.##                                 MOMENT OF INERTIA OF SHAFT IN m**4\n",
      "DELTA1=W1*L1**2.*(L-L1)**2./(3.*E*I*L)##           STATIC DEFLECTION DUE TO W1\n",
      "DELTA2=W2*L2**2.*(L-L2)**2./(3.*E*I*L)##           STATIC DEFLECTION DUE TO W2\n",
      "DELTA3=W3*L3**2.*(L-L3)**2./(3.*E*I*L)##           STATIC DEFLECTION DUE TO W3\n",
      "DELTA4=5.*w*L**4./(384.*E*I)##                    STATIC DEFLECTION DUE TO w\n",
      "Fn=.4985/(DELTA1+DELTA2+DELTA3+DELTA4/1.27)**.5\n",
      "Nc=Fn*60##                                   CRITICAL SPEED OF SHAFT IN rpm\n",
      "##========================================================================================\n",
      "print'%s %.3f %s'%('CRITICAL SPEED OF SHAFT = ',Nc,' rpm')\n"
     ],
     "language": "python",
     "metadata": {},
     "outputs": [
      {
       "output_type": "stream",
       "stream": "stdout",
       "text": [
        "CRITICAL SPEED OF SHAFT =  3111.629  rpm\n"
       ]
      }
     ],
     "prompt_number": 6
    },
    {
     "cell_type": "heading",
     "level": 2,
     "metadata": {},
     "source": [
      "Ex12-pg298"
     ]
    },
    {
     "cell_type": "code",
     "collapsed": false,
     "input": [
      "##CHAPTER 11 ILLUSRTATION 12 PAGE NO 298\n",
      "##TITLE:VIBRATIONS\n",
      "##FIGURE 11.20\n",
      "import math\n",
      "#calculate  FREQUENCY OF FREE TORSIONAL VIBRATION\n",
      "##===========================================================================================\n",
      "##INPUT DATA\n",
      "PI=3.147\n",
      "g=9.81##                                      ACCELERATION DUE TO GRAVITY IN N /m**2\n",
      "Na=1500.##                                     SPEED OF SHAFT A IN rpm\n",
      "Nb=500.##                                      SPEED OF SHAFT B IN rpm\n",
      "G=Na/Nb##                                     GERA RATIO\n",
      "L1=.18##                                       LENGTH OF SHAFT 1 IN m\n",
      "L2=.45##                                       LENGTH OF SHAFT 2 IN m\n",
      "D1=.045##                                      DIAMETER OF SHAFT 1 IN m\n",
      "D2=.09##                                       DIAMETER OF SHAFT 2 IN m\n",
      "C=84.*10**9##                      MODUKUS OF RIDITY OF SHAFT MATERIAL IN Pascals\n",
      "Ib=1400.##                        MOMENT OF INERTIA OF PUMP IN Kg-m**2\n",
      "Ia=400.##                         MOMENT OF INERTIA OF MOTOR IN Kg-m**2\n",
      "\n",
      "##======================================================================================\n",
      "J=PI*D1**4./32.##                               POLAR MOMENT OF INERTIA IN m**4\n",
      "Ib1=Ib/G**2.##                     MASS MOMENT OF INERTIA OF EQUIVALENT ROTOR IN m**2\n",
      "L3=G**2.*L2*(D1/D2)**4.##            ADDITIONAL LENGTH OF THE EQUIVALENT SHAFT\n",
      "L=L1+L3##                         TOTAL LENGTH OF EQUIVALENT SHAFT\n",
      "La=L*Ib1/(Ia+Ib1)\n",
      "Fn=(C*J/(La*Ia))**.5/(2.*PI)##      FREQUENCY OF FREE TORSIONAL VIBRATION IN Hz\n",
      "##===================================================================================\n",
      "print'%s %.2f %s'%('FREQUENCY OF FREE TORSIONAL VIBRATION = ',Fn,' Hz')\n"
     ],
     "language": "python",
     "metadata": {},
     "outputs": [
      {
       "output_type": "stream",
       "stream": "stdout",
       "text": [
        "FREQUENCY OF FREE TORSIONAL VIBRATION =  4.20  Hz\n"
       ]
      }
     ],
     "prompt_number": 7
    },
    {
     "cell_type": "heading",
     "level": 2,
     "metadata": {},
     "source": [
      "Ex13-pg300"
     ]
    },
    {
     "cell_type": "code",
     "collapsed": false,
     "input": [
      "##CHAPTER 11 ILLUSRTATION 13 PAGE NO 300\n",
      "##TITLE:VIBRATIONS\n",
      "##FIGURE 11.21\n",
      "import math\n",
      "#calculate critical speed of shaft and the range of speed \n",
      "##===========================================================================================\n",
      "##INPUT DATA\n",
      "PI=3.147\n",
      "g=9.81##                                      ACCELERATION DUE TO GRAVITY IN N /m**2\n",
      "D=.015##                                        DIAMETER OF SHAFT IN m\n",
      "L=1.00##                                         LENGTH OF SHAFT IN m\n",
      "M=15.##                                           MASS OF SHAFT IN Kg\n",
      "W=M*g\n",
      "e=.0003##                                        ECCENTRICITY IN m\n",
      "E=200.*10**9.##                                  YOUNGS MODUKUS OF SHAFT MATERIAL IN Pascals\n",
      "f=70.*10**6.##                                        PERMISSIBLE STRESS IN N/m**2\n",
      "##============================================================================================\n",
      "I=PI*D**4./64.##                MOMENT OF INERTIA OF SHAFT IN m**4\n",
      "DELTA=W*L**3./(192.*E*I)##      STATIC DEFLECTION IN m\n",
      "Fn=.4985/(DELTA)**.5##           NATURAL FREQUENCY OF TRANSVERSE VIBRATION\n",
      "Nc=Fn*60.##                   CRITICAL SPEED OF SHAFT IN rpm\n",
      "M1=16.*f*I/(D*g*L)\n",
      "W1=M1*g##                    ADDITIONAL LOAD ACTING\n",
      "y=W1/W*DELTA##               ADDITIONAL DEFLECTION DUE TO W1\n",
      "N1=Nc/(1.+e/y)**.5##              MIN SPEED IN rpm\n",
      "N2=Nc/(1.-e/y)**.5##              MAX SPEED IN rpm\n",
      "##===========================================================================================\n",
      "print'%s %.3f %s %.3f %s %.3f %s '%('CRITICAL SPEED OF SHAFT = ',Nc,' rpm''THE RANGE OF SPEED IS FROM',N1,'rpm TO ',N2,' rpm')\n"
     ],
     "language": "python",
     "metadata": {},
     "outputs": [
      {
       "output_type": "stream",
       "stream": "stdout",
       "text": [
        "CRITICAL SPEED OF SHAFT =  762.330  rpmTHE RANGE OF SPEED IS FROM 709.555 rpm TO  828.955  rpm \n"
       ]
      }
     ],
     "prompt_number": 8
    }
   ],
   "metadata": {}
  }
 ]
}