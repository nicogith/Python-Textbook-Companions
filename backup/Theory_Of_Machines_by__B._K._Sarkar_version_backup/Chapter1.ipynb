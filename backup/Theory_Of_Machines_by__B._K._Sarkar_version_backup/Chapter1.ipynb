{
 "metadata": {
  "name": "",
  "signature": "sha256:a8bd87f60081f4f46694f9441020afc8284599a70f0355a12064b02651bb21e5"
 },
 "nbformat": 3,
 "nbformat_minor": 0,
 "worksheets": [
  {
   "cells": [
    {
     "cell_type": "heading",
     "level": 1,
     "metadata": {},
     "source": [
      "Chapter1-Basic Kinematics"
     ]
    },
    {
     "cell_type": "heading",
     "level": 2,
     "metadata": {},
     "source": [
      "Ex1-pg15"
     ]
    },
    {
     "cell_type": "code",
     "collapsed": false,
     "input": [
      "##CHAPTER 1 ILLUSRTATION 1 PAGE NO 15\n",
      "#calculate inclination of slotted bar with vertical \n",
      "##TITLE:Basic kinematics\n",
      "##Figure 1.14\n",
      "import math\n",
      "pi=3.141\n",
      "AO=200.##                 distance between fixed centres in mm\n",
      "OB1=100.##                length of driving crank in mm\n",
      "AP=400.##                 length of slotter bar in mm\n",
      "##====================================\n",
      "OAB1=math.asin(OB1/AO)*57.3##              inclination of slotted bar with vertical in degrees\n",
      "beeta=(90-OAB1)*2.##               angle through which crank turns inreturn stroke in degrees\n",
      "A=(360.-beeta)/beeta##             ratio of time of cutting stroke to the time of return stroke \n",
      "L=2.*AP*math.sin(90.-beeta/2.)/57.3##       length of the stroke in mm\n",
      "print'%s %.2f %s %.3f %s'%('Inclination of slotted bar with vertical= ',OAB1,' degrees' 'Length of the stroke=',L,' mm')\n",
      "\n"
     ],
     "language": "python",
     "metadata": {},
     "outputs": [
      {
       "output_type": "stream",
       "stream": "stdout",
       "text": [
        "Inclination of slotted bar with vertical=  30.00  degreesLength of the stroke= -13.790  mm\n"
       ]
      }
     ],
     "prompt_number": 1
    },
    {
     "cell_type": "heading",
     "level": 2,
     "metadata": {},
     "source": [
      "Ex2-pg16"
     ]
    },
    {
     "cell_type": "code",
     "collapsed": false,
     "input": [
      "##CHAPTER 1 ILLUSRTATION 2 PAGE NO 16\n",
      "#calculate ratio of time taken on the cutting to the return\n",
      "##TITLE:Basic kinematics\n",
      "##Figure 1.15\n",
      "import math\n",
      "OA=300.##               distance between the fixed centres in mm\n",
      "OB=150.##                 length of driving crank in mm\n",
      "##================================\n",
      "OAB=math.asin(OB/OA)##              inclination of slotted bar with vertical in degrees\n",
      "beeta=(90/57.3-OAB)*2.##               angle through which crank turns inreturn stroke in degrees\n",
      "A=(360/57.3-beeta)/beeta##             ratio of time of cutting stroke to the time of return stroke \n",
      "print'%s %.1f %s'%('Ratio of time taken on the cutting to the return stroke= ',A,'')\n"
     ],
     "language": "python",
     "metadata": {},
     "outputs": [
      {
       "output_type": "stream",
       "stream": "stdout",
       "text": [
        "Ratio of time taken on the cutting to the return stroke=  2.0 \n"
       ]
      }
     ],
     "prompt_number": 2
    },
    {
     "cell_type": "heading",
     "level": 2,
     "metadata": {},
     "source": [
      "Ex3-pg16"
     ]
    },
    {
     "cell_type": "code",
     "collapsed": false,
     "input": [
      "##CHAPTER 1 ILLUSRTATION 3 PAGE NO 16\n",
      "#calculate ratio of time taken on the cutting to the return stroke \n",
      "##TITLE:Basic kinematics\n",
      "##Figure 1.16\n",
      "import math\n",
      "OB=54.6/57.3##               distance between the fixed centres in mm\n",
      "OA=85./57.3##                 length of driving crank in mm\n",
      "OA2=OA\n",
      "CA=160.##                length of slotted lever in mm\n",
      "CD=144.##                length of connectin rod in mm\n",
      "##================================\n",
      "beeta=2.*(math.cos(OB/OA2))##        angle through which crank turns inreturn stroke in degrees\n",
      "A=(360/57.3-beeta)/beeta##             ratio of time of cutting stroke to the time of return stroke \n",
      "print'%s %.1f %s'%('Ratio of time taken on the cutting to the return stroke= ',A,'')\n"
     ],
     "language": "python",
     "metadata": {},
     "outputs": [
      {
       "output_type": "stream",
       "stream": "stdout",
       "text": [
        "Ratio of time taken on the cutting to the return stroke=  2.9 \n"
       ]
      }
     ],
     "prompt_number": 3
    },
    {
     "cell_type": "heading",
     "level": 2,
     "metadata": {},
     "source": [
      "Ex4-pg 17"
     ]
    },
    {
     "cell_type": "code",
     "collapsed": false,
     "input": [
      "##CHAPTER 1 ILLUSRTATION 4 PAGE NO 17\n",
      "#calculate velocity position and Angular velocity connection\n",
      "##TITLE:Basic kinematics\n",
      "##Figure 1.18,1.19\n",
      "import math\n",
      "pi=3.141\n",
      "Nao=180.##     speed of the crank in rpm\n",
      "wAO=2.*pi*Nao/60.##  angular speed of the crank in rad/s\n",
      "AO=.5##          crank length in m\n",
      "AE=.5\n",
      "Vao=wAO*AO##      velocity of A in m/s\n",
      "##================================\n",
      "Vb1=8.15##    velocity of piston B in m/s by measurment from figure 1.19\n",
      "Vba=6.8##    velocity of B with respect to A in m/s\n",
      "AB=2##       length of connecting rod in m\n",
      "wBA=Vba/AB##      angular velocity of the connecting rod BA in rad/s\n",
      "ae=AE*Vba/AB##     velocity of point e on the connecting rod\n",
      "oe=8.5##           by measurement velocity of point E\n",
      "Do=.05##           diameter of crank shaft in m\n",
      "Da=.06##           diameter of crank pin in m\n",
      "Db=.03##           diameter of cross head pin B m\n",
      "V1=wAO*Do/2.##            velocity of rubbing at the pin of the crankshaft in m/s\n",
      "V2=wBA*Da/2.##            velocity of rubbing at the pin of the crank in m/s\n",
      "Vb=(wAO+wBA)*Db/2.##      velocity of rubbing at the pin of cross head in m/s\n",
      "ag=5.1##                by measurement\n",
      "AG=AB*ag/Vba##      position and linear velocity of point G on the connecting rod in m\n",
      "##===============================\n",
      "print'%s %.3f %s %.3f %s %.3f %s %.3f %s %.3f %s %.3f %s %.3f %s'%('Velocity of piston B=',Vb1,' m/s''Angular velocity of connecting rod= ',wBA,' rad/s''velocity of point E=',oe,' m/s'' velocity of rubbing at the pin of the crankshaft=',V1,' m/s' 'velocity of rubbing at the pin of the crank =',V2,' m/s''velocity of rubbing at the pin of cross head =',Vb,' m/s''position and linear velocity of point G on the connecting rod=',AG,' m')\n",
      "\n",
      "\n",
      "\n",
      "\n",
      " \n"
     ],
     "language": "python",
     "metadata": {},
     "outputs": [
      {
       "output_type": "stream",
       "stream": "stdout",
       "text": [
        "Velocity of piston B= 8.150  m/sAngular velocity of connecting rod=  3.400  rad/svelocity of point E= 8.500  m/s velocity of rubbing at the pin of the crankshaft= 0.471  m/svelocity of rubbing at the pin of the crank = 0.102  m/svelocity of rubbing at the pin of cross head = 0.334  m/sposition and linear velocity of point G on the connecting rod= 1.500  m\n"
       ]
      }
     ],
     "prompt_number": 4
    },
    {
     "cell_type": "heading",
     "level": 2,
     "metadata": {},
     "source": [
      "Ex5-pg 19"
     ]
    },
    {
     "cell_type": "code",
     "collapsed": false,
     "input": [
      "##CHAPTER 1 ILLUSRTATION 5 PAGE NO 19\n",
      "#calculate linear velocity at various point\n",
      "##TITLE:Basic kinematics\n",
      "##Figure 1.20,1.21\n",
      "import math\n",
      "pi=3.141\n",
      "N=120.##      speed of crank in rpm\n",
      "OA=10.##      length of crank in cm\n",
      "BP=48.##      from figure 1.20 in cm\n",
      "BA=40.##      from figure 1.20 in cm\n",
      "##==============\n",
      "w=2.*pi*N/60.##       angular velocity of the crank OA in rad/s\n",
      "Vao=w*OA##          velocity of ao in cm/s\n",
      "ba=4.5##            by measurement from 1.21 in cm\n",
      "Bp=BP*ba/BA\n",
      "op=6.8##           by measurement in cm from figure 1.21\n",
      "s=20.##              scale of velocity diagram 1cm=20cm/s\n",
      "Vp=op*s##           linear velocity of P in m/s\n",
      "ob=5.1##            by measurement in cm from figure 1.21\n",
      "Vb=ob*s##           linear velocity of slider B\n",
      "print'%s %.2f %s %.2f %s'%('Linear velocity of slider B= ',Vb,' cm/s''Linear velocity of point P= ',Vp,' cm/s')\n"
     ],
     "language": "python",
     "metadata": {},
     "outputs": [
      {
       "output_type": "stream",
       "stream": "stdout",
       "text": [
        "Linear velocity of slider B=  102.00  cm/sLinear velocity of point P=  136.00  cm/s\n"
       ]
      }
     ],
     "prompt_number": 13
    },
    {
     "cell_type": "heading",
     "level": 2,
     "metadata": {},
     "source": [
      "Ex6-pg20"
     ]
    },
    {
     "cell_type": "code",
     "collapsed": false,
     "input": [
      "#calculate angular velocity at various points\n",
      "##CHAPTER 1 ILLUSRTATION 6 PAGE NO 20\n",
      "##TITLE:Basic kinematics\n",
      "##Figure 1.22,1.23\n",
      "import math\n",
      "pi=3.141\n",
      "AB=6.25##     length of link AB in cm\n",
      "BC=17.5##     length of link BC in cm\n",
      "CD=11.25##    length of link CD in cm\n",
      "DA=20.##       length of link DA in cm\n",
      "CE=10.\n",
      "N=100.##       speed of crank in rpm\n",
      "##========================\n",
      "wAB=2.*pi*N/60.##      angular velocity of AB in rad/s\n",
      "Vb=wAB*AB##          linear velocity of B with respect to A\n",
      "s=15.##      scale for velocity diagram 1 cm= 15 cm/s\n",
      "dc=3.##      by measurement in cm\n",
      "Vcd=dc*s\n",
      "wCD=Vcd/CD##       angular velocity of link CD in rad/s\n",
      "bc=2.5##    by measurement in cm\n",
      "Vbc=bc*s\n",
      "wBC=Vbc/BC##     angular velocity of link BC in rad/s\n",
      "ce=bc*CE/BC\n",
      "ae=3.66##       by measurement in cm\n",
      "Ve=ae*s##         velocity of point E 10 from c on the link BC\n",
      "af=2.94##       by measurement in cm\n",
      "Vf=af*s##       velocity of point F\n",
      "print'%s %.3f %s %.3f %s %.3f %s %.3f %s'%('The angular velocity of link CD= ',wCD,' rad/s'' The angular velocity of link BC= ',wBC,'rad/s'' velocity of point E 10 from c on the link BC= ',Ve,' cm/s' ' velocity of point F= ',Vf,' cm/s')\n"
     ],
     "language": "python",
     "metadata": {},
     "outputs": [
      {
       "output_type": "stream",
       "stream": "stdout",
       "text": [
        "The angular velocity of link CD=  4.000  rad/s The angular velocity of link BC=  2.143 rad/s velocity of point E 10 from c on the link BC=  54.900  cm/s velocity of point F=  44.100  cm/s\n"
       ]
      }
     ],
     "prompt_number": 12
    },
    {
     "cell_type": "heading",
     "level": 2,
     "metadata": {},
     "source": [
      "Ex7-pg21"
     ]
    },
    {
     "cell_type": "code",
     "collapsed": false,
     "input": [
      "##CHAPTER 1 ILLUSRTATION 7 PAGE NO 21\n",
      "##TITLE:Basic kinematics\n",
      "#calculate Linear velocity slider and angular velocity of link\n",
      "##Figure 1.24,1.25\n",
      "import math\n",
      "pi=3.141\n",
      "Noa=600##      speed of the crank in rpm\n",
      "OA=2.8##       length of link OA in cm\n",
      "AB=4.4##       length of link AB in cm\n",
      "BC=4.9##       length of link BC in cm\n",
      "BD=4.6##       length of link BD in cm\n",
      "##=================\n",
      "wOA=2.*pi*Noa/60.##        angular velocity of crank in rad/s\n",
      "Vao=wOA*OA##             The linear velocity of point A with respect to oin m/s\n",
      "s=50.##                   scale of velocity diagram in cm\n",
      "od=2.95##              by measurement in cm from figure\n",
      "Vd=od*s/100.##             linear velocity slider in m/s\n",
      "bd=3.2##              by measurement in cm from figure\n",
      "Vbd=bd*s\n",
      "wBD=Vbd/BD##     angular velocity of link BD\n",
      "print'%s %.1f %s %.1f %s '%('linear velocity slider D= ',Vd,' m/s' 'angular velocity of link BD= ',wBD,' rad/s')\n",
      "\n",
      "\n",
      "\n"
     ],
     "language": "python",
     "metadata": {},
     "outputs": [
      {
       "output_type": "stream",
       "stream": "stdout",
       "text": [
        "linear velocity slider D=  1.5  m/sangular velocity of link BD=  34.8  rad/s \n"
       ]
      }
     ],
     "prompt_number": 1
    },
    {
     "cell_type": "heading",
     "level": 2,
     "metadata": {},
     "source": [
      "Ex8-pg22"
     ]
    },
    {
     "cell_type": "code",
     "collapsed": false,
     "input": [
      "##CHAPTER 1 ILLUSRTATION 8 PAGE NO 22\n",
      "#calculate Angular velocity of link CD\n",
      "##TITLE:Basic kinematics\n",
      "import math\n",
      "pi=3.141\n",
      "Noa=60.##        speed of crank in rpm\n",
      "OA=30.##     length of link OA in cm\n",
      "AB=100.##       length of link AB in cm\n",
      "CD=80.##         length of link CD in cm\n",
      "##AC=CB\n",
      "##================\n",
      "wOA=2.*pi*Noa/60.##     angular velocity of crank in rad/s\n",
      "Vao=wOA*OA/100.##      linear velocity of point A with respect to O\n",
      "s=50.##          scale for velocity diagram 1 cm= 50 cm/s\n",
      "ob=3.4##        by measurement in cm from figure 1.27\n",
      "od=.9##         by measurement in cm from figure 1.27\n",
      "Vcd=160.##       by measurement in cm/s from figure 1.27\n",
      "wCD=Vcd/CD##    angular velocity of link in rad/s\n",
      "print'%s %.d %s'%('Angular velocity of link CD= ',wCD,' rad/s')\n"
     ],
     "language": "python",
     "metadata": {},
     "outputs": [
      {
       "output_type": "stream",
       "stream": "stdout",
       "text": [
        "Angular velocity of link CD=  2  rad/s\n"
       ]
      }
     ],
     "prompt_number": 10
    },
    {
     "cell_type": "heading",
     "level": 2,
     "metadata": {},
     "source": [
      "Ex9-pg23"
     ]
    },
    {
     "cell_type": "code",
     "collapsed": false,
     "input": [
      "##CHAPTER 1 ILLUSRTATION 9 PAGE NO 23\n",
      "#calculate velcity of Ram and anugular velocity of link and velocity of slidingof the block\n",
      "##TITLE:Basic kinematics\n",
      "##Figure 1.28,1.29\n",
      "import math\n",
      "pi=3.141\n",
      "Nao=120.##            speed of the crank in rpm\n",
      "OQ=10.##              length of link OQ in cm\n",
      "OA=20.##              length of link OA in cm\n",
      "QC=15.##              length of link QC in cm\n",
      "CD=50.##              length oflink CD in cm\n",
      "##=============\n",
      "wOA=2.*pi*Nao/60.##      angular speed of crank in rad/s\n",
      "Vad=wOA*OA/100.##         velocity of pin A in m/s\n",
      "BQ=41.##               from figure 1.29 \n",
      "BC=26.##               from firure 1.29 \n",
      "bq=4.7##               from figure 1.29\n",
      "bc=bq*BC/BQ##          from figure 1.29 in cm\n",
      "s=50.##                 scale for velocity diagram in cm/s\n",
      "od=1.525##             velocity vector od in cm from figure 1.29\n",
      "Vd=od*s##              velocity of ram D in cm/s\n",
      "dc=1.925##             velocity vector dc in cm from figure 1.29\n",
      "Vdc=dc*s##             velocity of link CD in cm/s\n",
      "wCD=Vdc/CD##           angular velocity of link CD in cm/s\n",
      "ba=1.8##               velocity vector of sliding of the block in cm\n",
      "Vab=ba*s##             velocity of sliding of the block in cm/s\n",
      "print'%s %.3f %s %.2f %s %.1f %s '%('Velocity of RAM D= ',Vd,' cm/s''angular velocity of link CD= ',wCD,' rad/s'' velocity of sliding of the block= ',Vab,' cm/s')\n"
     ],
     "language": "python",
     "metadata": {},
     "outputs": [
      {
       "output_type": "stream",
       "stream": "stdout",
       "text": [
        "Velocity of RAM D=  76.250  cm/sangular velocity of link CD=  1.93  rad/s velocity of sliding of the block=  90.0  cm/s \n"
       ]
      }
     ],
     "prompt_number": 9
    },
    {
     "cell_type": "heading",
     "level": 2,
     "metadata": {},
     "source": [
      "Ex10-pg24"
     ]
    },
    {
     "cell_type": "code",
     "collapsed": false,
     "input": [
      "##CHAPTER 1 ILLUSRTATION 10 PAGE NO 24\n",
      "##TITLE:Basic kinematics\n",
      "#calculate linear velocity abd radial component of accerlation and anugular velocity of connecting rod and anugular accerlation of connecting rod\n",
      "##Figure 1.30(a),1.30(b),1.30(c)\n",
      "import math\n",
      "pi=3.141\n",
      "Nao=300.##         speed of crank in rpm\n",
      "AO=.15##          length of crank in m\n",
      "BA=.6##           length of connecting rod in m\n",
      "##===================\n",
      "wAO=2.*pi*Nao/60.##        angular velocity of link in rad/s\n",
      "Vao=wAO*AO##             linear velocity of A with respect to 'o'\n",
      "ab=3.4##        length of vector ab by measurement in m/s\n",
      "Vba=ab\n",
      "ob=4.##        length of vector ob by measurement in m/s\n",
      "oc=4.1##         length of vector oc by measurement in m/s\n",
      "fRao=Vao**2./AO##    radial component of acceleration of A with respect to O\n",
      "fRba=Vba**2./BA##     radial component of acceleration of B with respect to A\n",
      "wBA=Vba/BA##        angular velocity of connecting rod BA\n",
      "fTba=103.##         by measurement in m/s**2\n",
      "alphaBA=fTba/BA##    angular acceleration of connecting rod BA\n",
      "print'%s %.1f %s %.1f %s %.1f %s %.1f %s %.1f %s  '%('linear velocity of A with respect to O= ',Vao,' m/s''radial component of acceleration of A with respect to O= ',fRao,' m/s**2'' radial component of acceleration of B with respect to A=',fRba,' m/s**2'' angular velocity of connecting rod B= ',wBA,' rad/s'' angular acceleration of connecting rod BA= ',alphaBA,' rad/s**2')\n"
     ],
     "language": "python",
     "metadata": {},
     "outputs": [
      {
       "output_type": "stream",
       "stream": "stdout",
       "text": [
        "linear velocity of A with respect to O=  4.7  m/sradial component of acceleration of A with respect to O=  148.0  m/s**2 radial component of acceleration of B with respect to A= 19.3  m/s**2 angular velocity of connecting rod B=  5.7  rad/s angular acceleration of connecting rod BA=  171.7  rad/s**2  \n"
       ]
      }
     ],
     "prompt_number": 8
    },
    {
     "cell_type": "heading",
     "level": 2,
     "metadata": {},
     "source": [
      "Ex11-pg26"
     ]
    },
    {
     "cell_type": "code",
     "collapsed": false,
     "input": [
      "##CHAPTER 1 ILLUSRTATION 11 PAGE NO 26\n",
      "#calcualte Angular accerlation at various point\n",
      "##TITLE:Basic kinematics\n",
      "##Figure 1.31(a),1.31(b),1.31(c)\n",
      "import math\n",
      "pi=3.141\n",
      "wAP=10.##            angular velocity of crank in rad/s\n",
      "P1A=30.##            length of link P1A in cm\n",
      "P2B=36.##            length of link P2B in cm\n",
      "AB=36.##             length of link AB in cm\n",
      "P1P2=60.##           length of link P1P2 in cm\n",
      "AP1P2=60.##          crank inclination in degrees \n",
      "alphaP1A=30.##       angulare acceleration of crank P1A in rad/s**2\n",
      "##=====================================\n",
      "Vap1=wAP*P1A/100.##    linear velocity of A with respect to P1 in m/s\n",
      "Vbp2=2.2##            velocity of B with respect to P2 in m/s(measured from figure )\n",
      "Vba=2.06##            velocity of B with respect to A in m/s(measured from figure )\n",
      "wBP2=Vbp2/(P2B*100.)##   angular velocity of P2B in rad/s\n",
      "wAB=Vba/(AB*100.)##      angular velocity of AB in rad/s\n",
      "fAB1=alphaP1A*P1A/100.##  tangential component of the acceleration of A with respect to P1 in m/s**2\n",
      "frAB1=Vap1**2./(P1A/100.)##  radial component of the acceleration of A with respect to P1 in m/s**2\n",
      "frBA=Vba**2./(AB/100.)##     radial component of the acceleration of B with respect to B in m/s**2\n",
      "frBP2=Vbp2**2./(P2B/100.)##    radial component of the acceleration of B with respect to P2 in m/s**2\n",
      "ftBA=13.62##             tangential component of B with respect to A in m/s**2(measured from figure)\n",
      "ftBP2=26.62##            tangential component of B with respect to P2 in m/s**2(measured from figure)\n",
      "alphaBP2=ftBP2/(P2B/100.)##   angular acceleration of P2B in m/s**2\n",
      "alphaBA=ftBA/(AB/100.)##      angular acceleration of AB in m/s**2\n",
      "##==========================\n",
      "print'%s %.1f %s %.1f %s'%('Angular acceleration of P2B=',alphaBP2,' rad/s**2''angular acceleration of AB =',alphaBA,' rad/s**2')\n"
     ],
     "language": "python",
     "metadata": {},
     "outputs": [
      {
       "output_type": "stream",
       "stream": "stdout",
       "text": [
        "Angular acceleration of P2B= 73.9  rad/s**2angular acceleration of AB = 37.8  rad/s**2\n"
       ]
      }
     ],
     "prompt_number": 6
    },
    {
     "cell_type": "heading",
     "level": 2,
     "metadata": {},
     "source": [
      "Ex12-pg28"
     ]
    },
    {
     "cell_type": "code",
     "collapsed": false,
     "input": [
      "##CHAPTER 1 ILLUSRTATION 12 PAGE NO 28\n",
      "#calculate velocities at various point\n",
      "##TITLE:Basic kinematics\n",
      "##Figure 1.32(a),1.32(b),1.32(c)\n",
      "import math\n",
      "PI=3.141\n",
      "AB=12.##    length of link AB in cm\n",
      "BC=48.##    length of link BC in cm\n",
      "CD=18.##    length of link CD in cm\n",
      "DE=36.##    length of link DE in cm\n",
      "EF=12.##    length of link EF in cm\n",
      "FP=36.##    length of link FP in cm\n",
      "Nba=200.##   roating speed of link BA IN rpm\n",
      "wBA=2*PI*200./60.##    Angular velocity of BA in rad/s\n",
      "Vba=wBA*AB/100.##    linear velocity of B with respect to A in m/s\n",
      "Vc=2.428##   velocity of c in m/s from diagram 1.32(b)\n",
      "Vd=2.36##     velocity of D in m/s from diagram 1.32(b)\n",
      "Ve=1##    velocity of e in m/s from diagram 1.32(b)\n",
      "Vf=1.42##    velocity of f in m/s from diagram 1.32(b)\n",
      "Vcb=1.3##    velocity of c with respect to b in m/s from figure\n",
      "fBA=Vba**2.*100./AB##   radial component of acceleration of B with respect to A in m/s**2\n",
      "fCB=Vcb**2*100./BC##   radial component of acceleration of C with respect to B in m/s**2\n",
      "fcb=3.52##          radial component of acceleration of C with respect to B in m/s**2 from figure\n",
      "fC=19.##              acceleration of slider in m/s**2 from figure\n",
      "print'%s %.1f %s %.1f %s %.1f %s %.2f %s %.2f %s'%('velocity of c=',Vc,' m/s''velocity of d=',Vd,' m/s''velocity of e=',Ve,' m/s'' velocity of f=',Vf,' m/s''Acceleration of slider=',Vc,' m/s**2')\n",
      "\n",
      "\n",
      "\n",
      "\n",
      "\n"
     ],
     "language": "python",
     "metadata": {},
     "outputs": [
      {
       "output_type": "stream",
       "stream": "stdout",
       "text": [
        "velocity of c= 2.4  m/svelocity of d= 2.4  m/svelocity of e= 1.0  m/s velocity of f= 1.42  m/sAcceleration of slider= 2.43  m/s**2\n"
       ]
      }
     ],
     "prompt_number": 5
    },
    {
     "cell_type": "heading",
     "level": 2,
     "metadata": {},
     "source": [
      "Ex13-pg30"
     ]
    },
    {
     "cell_type": "code",
     "collapsed": false,
     "input": [
      "##CHAPTER 1 ILLUSRTATION 13 PAGE NO 30\n",
      "#caculate angular acceleration at varoius points\n",
      "##TITLE:Basic kinematics\n",
      "##Figure 1.33(a),1.33(b),1.33(c)\n",
      "import math\n",
      "PI=3.141\n",
      "N=120.##        speed of the crank OC in rpm\n",
      "OC=5.##         length of link OC in cm\n",
      "cp=20.##        length of link CP in cm\n",
      "qa=10.##        length of link QA in cm\n",
      "pa=5.##         length of link PA in cm\n",
      "CP=46.9##        velocity of link CP in cm/s\n",
      "QA=58.3##        velocity of link QA in cm/s\n",
      "Pa=18.3##        velocity of link PA in cm/s\n",
      "Vc=2.*PI*N*OC/60.##    velocity of C in m/s\n",
      "Cco=Vc**2./OC##        centripetal acceleration of C relative to O in cm/s**2\n",
      "Cpc=CP**2./cp##         centripetal acceleration of P relative to C in cm/s**2\n",
      "Caq=QA**2./qa##          centripetal acceleration of A relative to Q in cm/s**2\n",
      "Cap=Pa**2./pa##           centripetal acceleration of A relative to P in cm/s**2\n",
      "pp1=530.\n",
      "a1a=323.\n",
      "a2a=207.5\n",
      "ACP=pp1/cp##        angular acceleration of link CP in rad/s**2\n",
      "APA=a1a/qa##        angular acceleration of link PA in rad/s**2\n",
      "AAQ=a2a/pa##        angular acceleration of link AQ in rad/s**2\n",
      "print'%s %.3f %s  %.3f %s  %.3f %s'%('angular acceleration of link CP =',ACP,' rad/s**2'' angular acceleration of link CP=',APA,' rad/s**2''angular acceleration of link CP=',AAQ,' rad/s**2')\n",
      "\n"
     ],
     "language": "python",
     "metadata": {},
     "outputs": [
      {
       "output_type": "stream",
       "stream": "stdout",
       "text": [
        "angular acceleration of link CP = 26.500  rad/s**2 angular acceleration of link CP=  32.300  rad/s**2angular acceleration of link CP=  41.500  rad/s**2\n"
       ]
      }
     ],
     "prompt_number": 4
    }
   ],
   "metadata": {}
  }
 ]
}