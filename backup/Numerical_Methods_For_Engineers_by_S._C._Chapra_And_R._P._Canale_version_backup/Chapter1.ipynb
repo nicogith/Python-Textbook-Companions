{
 "cells": [
  {
   "cell_type": "markdown",
   "metadata": {},
   "source": [
    "# CHAPTER 1 : Mathematical Modeling And Engineering Problem Solving"
   ]
  },
  {
   "cell_type": "markdown",
   "metadata": {},
   "source": [
    "## Ex : 1.1 Pg : 14"
   ]
  },
  {
   "cell_type": "code",
   "execution_count": 16,
   "metadata": {
    "collapsed": false
   },
   "outputs": [
    {
     "name": "stdout",
     "output_type": "stream",
     "text": [
      "Time(s) = 0\tv(m/s) = 0.00\n",
      "Time(s) = 2\tv(m/s) = 16.40\n",
      "Time(s) = 4\tv(m/s) = 27.77\n",
      "Time(s) = 6\tv(m/s) = 35.64\n",
      "Time(s) = 8\tv(m/s) = 41.10\n",
      "Time(s) = 10\tv(m/s) = 44.87\n",
      "Time(s) = inf\tv(m/s) = 53.39\n"
     ]
    }
   ],
   "source": [
    "from numpy import arange, exp, inf\n",
    "g=9.8##m/s**2# acceleration due to gravity\n",
    "m=68.1##kg\n",
    "c=12.5##kg/sec# drag coefficient\n",
    "v=[]\n",
    "j=0\n",
    "for i in arange(0,12,2):\n",
    "    v.append(g*m*(1-exp(-c*i/m))/c)\n",
    "    print \"Time(s) = %d\\t\"%i,\"v(m/s) = %0.2f\"%v[j]\n",
    "    j+=1\n",
    "print \"Time(s) = %0.2f\\t\"%inf,\"v(m/s) = %0.2f\"%(g*m/c)"
   ]
  },
  {
   "cell_type": "markdown",
   "metadata": {},
   "source": [
    "## Ex : 1.2 Pg :17"
   ]
  },
  {
   "cell_type": "code",
   "execution_count": 1,
   "metadata": {
    "collapsed": false
   },
   "outputs": [
    {
     "name": "stdout",
     "output_type": "stream",
     "text": [
      "Time(s) = 0\tv(m/s) = 0.00\n",
      "Time(s) = 2\tv(m/s) = 19.60\n",
      "Time(s) = 4\tv(m/s) = 12.40\n",
      "Time(s) = 6\tv(m/s) = 34.65\n",
      "Time(s) = 8\tv(m/s) = 19.29\n",
      "Time(s) = 10\tv(m/s) = 47.17\n",
      "Time(s) = 12\tv(m/s) = 21.57\n",
      "Time(s) = inf\tv(m/s) = 53.39\t\n"
     ]
    }
   ],
   "source": [
    "from numpy import arange, exp, inf\n",
    "g=9.8##m/s**2# acceleration due to gravity\n",
    "m=68.1##kg\n",
    "c=12.5##kg/sec# drag coefficient\n",
    "count=0#\n",
    "v=[]\n",
    "v.append(0)\n",
    "print \"Time(s) = %d\\t\"%(0),\"v(m/s) = %0.2f\"%v[0]\n",
    "\n",
    "for i in arange(1,13,2):\n",
    "    v.append(v[(count-1)]+(g-c*v[(count)]/m)*(2))\n",
    "    print \"Time(s) = %d\\t\"%(i+1),\"v(m/s) = %0.2f\"%v[(count+1)]\n",
    "    count=count+1#\n",
    "\n",
    "print \"Time(s) = %0.2f\\t\"%inf,\"v(m/s) = %0.2f\\t\"%(g*m/c)\n"
   ]
  }
 ],
 "metadata": {
  "kernelspec": {
   "display_name": "Python 2",
   "language": "python",
   "name": "python2"
  },
  "language_info": {
   "codemirror_mode": {
    "name": "ipython",
    "version": 2
   },
   "file_extension": ".py",
   "mimetype": "text/x-python",
   "name": "python",
   "nbconvert_exporter": "python",
   "pygments_lexer": "ipython2",
   "version": "2.7.9"
  }
 },
 "nbformat": 4,
 "nbformat_minor": 0
}
