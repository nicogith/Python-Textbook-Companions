{
 "cells": [
  {
   "cell_type": "markdown",
   "metadata": {
    "collapsed": true
   },
   "source": [
    "# Chapter-19 : Fourier Approximation"
   ]
  },
  {
   "cell_type": "markdown",
   "metadata": {},
   "source": [
    "## Ex:19.1 Pg: 529"
   ]
  },
  {
   "cell_type": "code",
   "execution_count": 5,
   "metadata": {
    "collapsed": false
   },
   "outputs": [
    {
     "name": "stdout",
     "output_type": "stream",
     "text": [
      "The least square fit is y=A0+A1*cos(w0*t)+A2*sin(w0*t), where\n",
      "A0= 1.70003783298\n",
      "A1= 0.500211429839\n",
      "B1= -0.866058310862\n",
      "Alternatively, the least square fit can be expressed as\n",
      "y=A0+C1*cos(w0*t + theta), where\n",
      "A0= 1.70003783298\n",
      "Theta= 1.04703092349\n",
      "C1= 1.00013422717\n",
      "Or\n",
      "y=A0+C1*sin(w0*t + theta + pi/2), where\n",
      "A0= 1.70003783298\n",
      "Theta= 1.04703092349\n",
      "C1= 1.00013422717\n"
     ]
    }
   ],
   "source": [
    "from math import sin,cos,atan\n",
    "def f(t):\n",
    "    y=1.7+cos(4.189*t+1.0472)\n",
    "    return y\n",
    "deltat=0.15#\n",
    "t1=0#\n",
    "t2=1.35#\n",
    "omega=4.189#\n",
    "Del=(t2-t1)/9#\n",
    "t=[]\n",
    "for i in range(1,11):\n",
    "    t.append(t1+Del*(i-1))\n",
    "\n",
    "sumy=0#\n",
    "suma=0#\n",
    "sumb=0#\n",
    "y=[];a=[];b=[]\n",
    "for i in range(1,11):\n",
    "    y.append(f(t[i-1]))\n",
    "    a.append(y[(i-1)]*cos(omega*t[(i-1)]))\n",
    "    b.append(y[i-1]*sin(omega*t[i-1]))\n",
    "    sumy=sumy+y[i-1]\n",
    "    suma=suma+a[i-1]\n",
    "    sumb=sumb+b[i-1]\n",
    "\n",
    "A0=sumy/10#\n",
    "A1=2*suma/10#\n",
    "B1=2*sumb/10#\n",
    "print \"The least square fit is y=A0+A1*cos(w0*t)+A2*sin(w0*t), where\"\n",
    "print \"A0=\",A0\n",
    "print \"A1=\",A1\n",
    "print \"B1=\",B1\n",
    "theta=atan(-B1/A1)#\n",
    "C1=(A1**2 + B1**2)**0.5#\n",
    "print \"Alternatively, the least square fit can be expressed as\"\n",
    "print \"y=A0+C1*cos(w0*t + theta), where\"\n",
    "print \"A0=\",A0\n",
    "print \"Theta=\",theta\n",
    "print \"C1=\",C1\n",
    "print \"Or\"\n",
    "print \"y=A0+C1*sin(w0*t + theta + pi/2), where\"\n",
    "print \"A0=\",A0\n",
    "print \"Theta=\",theta\n",
    "print \"C1=\",C1\n"
   ]
  },
  {
   "cell_type": "markdown",
   "metadata": {},
   "source": [
    "## Ex:19.2 Pg: 532"
   ]
  },
  {
   "cell_type": "code",
   "execution_count": 6,
   "metadata": {
    "collapsed": false
   },
   "outputs": [
    {
     "name": "stdout",
     "output_type": "stream",
     "text": [
      "The fourier approximtion is:\n",
      "4/(pi)*cos(w)*t) - 4/(3*pi)*cos(3*(w)*t) + 4/(5*pi)*cos(5*(w)*t) - 4/(7*pi)*cos(7*(w)*t) + .....\n"
     ]
    }
   ],
   "source": [
    "a0=0#\n",
    "#f(t)=-1 for -T/2 to -T/4\n",
    "#f(t)=1 for -T/4 to T/4\n",
    "#f(t)=-1 for T/4 to T/2\n",
    "#ak=2/T* (integration of f(t)*cos(w0*t) from -T/2 to T/2)\n",
    "#ak=2/T*((integration of f(t)*cos(w0*t) from -T/2 to -T/4) + (integration of f(t)*cos(w0*t) from -T/4 to T/4) + (integration of f(t)*cos(w0*t) from T/4 to T/2))\n",
    "#Therefore, \n",
    "#ak=4/(k*pi) for k=1,5,9,.....\n",
    "#ak=-4/(k*pi) for k=3,7,11,.....\n",
    "#ak=0 for k=even integers\n",
    "#similarly we find the b's.\n",
    "#all the b's=0\n",
    "print \"The fourier approximtion is:\"\n",
    "print \"4/(pi)*cos(w)*t) - 4/(3*pi)*cos(3*(w)*t) + 4/(5*pi)*cos(5*(w)*t) - 4/(7*pi)*cos(7*(w)*t) + .....\""
   ]
  },
  {
   "cell_type": "markdown",
   "metadata": {},
   "source": [
    "## Ex:19.3 Pg: 550"
   ]
  },
  {
   "cell_type": "code",
   "execution_count": 16,
   "metadata": {
    "collapsed": false
   },
   "outputs": [
    {
     "data": {
      "image/png": "[encoded data removed]",
      "text/plain": [
       "<matplotlib.figure.Figure at 0x7f1a75daff90>"
      ]
     },
     "metadata": {},
     "output_type": "display_data"
    }
   ],
   "source": [
    "from numpy import arange,log\n",
    "%matplotlib inline\n",
    "from matplotlib.pyplot import plot, title,xlabel,ylabel,show\n",
    "x=arange(0.5,5.6,0.5)\n",
    "y=[]\n",
    "for i in range(1,12):\n",
    "    y.append(0.9846*log(x[i-1])+1.0004)\n",
    "\n",
    "plot(x,y)\n",
    "title(\"y vs x\")\n",
    "xlabel(\"x\")\n",
    "ylabel(\"y\")\n",
    "show()"
   ]
  },
  {
   "cell_type": "markdown",
   "metadata": {},
   "source": [
    "## Ex:19.6 Pg: 555"
   ]
  },
  {
   "cell_type": "code",
   "execution_count": 32,
   "metadata": {
    "collapsed": false
   },
   "outputs": [
    {
     "name": "stdout",
     "output_type": "stream",
     "text": [
      "The cubic polynomial is y=a0 + a1*x + a2*x**2 + a3*x**3, where a0, a1, a2 and a3 are\n",
      "[[ 1.67644593  0.76697402  0.5511316   0.46451844]\n",
      " [ 2.56065822  1.84003582  1.55086475  1.40157818]\n",
      " [ 3.36495108  2.83613174  2.5631251   2.40990305]\n",
      " [ 3.94388659  3.56424723  3.35117872  3.23471752]]\n"
     ]
    }
   ],
   "source": [
    "from numpy import nditer,mat,divide\n",
    "x=[0.05, 0.12, 0.15, 0.3, 0.45 ,0.7 ,0.84 ,1.05]\n",
    "y=[0.957, 0.851, 0.832, 0.72 ,0.583, 0.378, 0.295, 0.156]\n",
    "sx=sum(x)#\n",
    "sxx=0\n",
    "for xx in x:\n",
    "    sxx+=xx*xx\n",
    "sx3=0\n",
    "for xx in x:\n",
    "    sx3+=xx*xx*xx\n",
    "sx4=0\n",
    "for xx in x:\n",
    "    sx4+=xx*xx*xx*xx\n",
    "\n",
    "sx5=0\n",
    "for xx in x:\n",
    "    sx5+=xx*xx*xx*xx*xx\n",
    "    \n",
    "sx6=0\n",
    "for xx in x:\n",
    "    sx6+=xx*xx*xx*xx*xx*xx\n",
    "\n",
    "n=8#\n",
    "sy=sum(y)#\n",
    "sxy=0\n",
    "for xx,yy in nditer([x,y]):\n",
    "    sxy+=xx*yy\n",
    "    \n",
    "    \n",
    "sx2y=0\n",
    "for xx,yy in nditer([x,y]):\n",
    "    sx2y+=xx*xx*yy\n",
    "\n",
    "sx3y=0\n",
    "for xx,yy in nditer([x,y]):\n",
    "    sx3y+=xx*xx*xx*yy\n",
    "\n",
    "m=mat([[n, sx, sxx ,sx3],[sx, sxx, sx3, sx4],[sxx, sx3, sx4, sx5],[sx3, sx4, sx5, sx6]])\n",
    "p=mat([[sy],[sxy],[sx2y],[sx3y]])\n",
    "a=divide(m,p)\n",
    "print \"The cubic polynomial is y=a0 + a1*x + a2*x**2 + a3*x**3, where a0, a1, a2 and a3 are\"\n",
    "print a"
   ]
  }
 ],
 "metadata": {
  "kernelspec": {
   "display_name": "Python 2",
   "language": "python",
   "name": "python2"
  },
  "language_info": {
   "codemirror_mode": {
    "name": "ipython",
    "version": 2
   },
   "file_extension": ".py",
   "mimetype": "text/x-python",
   "name": "python",
   "nbconvert_exporter": "python",
   "pygments_lexer": "ipython2",
   "version": "2.7.9"
  }
 },
 "nbformat": 4,
 "nbformat_minor": 0
}
