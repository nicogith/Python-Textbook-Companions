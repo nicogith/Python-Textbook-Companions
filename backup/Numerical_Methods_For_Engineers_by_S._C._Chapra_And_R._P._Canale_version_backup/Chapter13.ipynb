{
 "cells": [
  {
   "cell_type": "markdown",
   "metadata": {},
   "source": [
    "# Chapter - 13 : One-Dimensional Unconstrained Optimization"
   ]
  },
  {
   "cell_type": "markdown",
   "metadata": {},
   "source": [
    "## Ex:13.1 Pg: 356"
   ]
  },
  {
   "cell_type": "code",
   "execution_count": 6,
   "metadata": {
    "collapsed": false
   },
   "outputs": [
    {
     "name": "stdout",
     "output_type": "stream",
     "text": [
      "xl = [0, 0, 0, 0, 0, 0.9442719099991588, 0.9442719099991588, 0.9442719099991588, 0.9442719099991588, 0.9442719099991588, 0.9442719099991588]\n",
      "\n",
      "x2 = [1.5278640450004204, 1.5278640450004204, 0.0, 0.9442719099991588, 0.9442719099991588, 0.9442719099991588, 0.9442719099991588, 1.5278640450004206, 1.5278640450004206, 1.5278640450004206]\n",
      "\n",
      "x1 = [2.4721359549995796, 2.4721359549995796, 2.4721359549995796, 1.5278640450004208, 1.5278640450004208, 1.5278640450004208, 2.4721359549995796, 1.8885438199983178, 1.8885438199983178, 1.8885438199983178]\n",
      "\n",
      "xu = [4, 2.4721359549995796, 2.4721359549995796, 2.4721359549995796, 2.4721359549995796, 2.4721359549995796, 2.4721359549995796, 2.4721359549995796, 2.4721359549995796, 1.8885438199983178, 1.8885438199983178]\n"
     ]
    }
   ],
   "source": [
    "from math import sin\n",
    "#f(x) = 2sinx - x**2/10\n",
    "xl=[]\n",
    "xu=[]\n",
    "xl.append(0)\n",
    "xu.append(4)\n",
    "d=[]\n",
    "x1=[]\n",
    "x2=[]\n",
    "m=[]\n",
    "n=[]\n",
    "for i in range(0,10):\n",
    "    d.append(((5)**(0.5) - 1)*(xu[i-1] - xl[i-1])/2)\n",
    "    x1.append(xl[i-1] + d[i-1])\n",
    "    x2.append(xu[i-1] - d[i-1])\n",
    "    m.append(2*sin(x1[i-1]) - (x1[i-1]**2)/10)\n",
    "    n.append(2*sin(x2[i-1]) - (x2[i-1]**2)/10)\n",
    "    if n[i-1] > m[i-1]:\n",
    "        xu.append(x1[(i-1)])\n",
    "        xl.append(xl[(i-1)])\n",
    "    else:\n",
    "        xl.append(x2[i-1])\n",
    "        xu.append(xu[i-1])\n",
    "    \n",
    "\n",
    "print \"xl =\",xl\n",
    "print \"\\nx2 =\",x2\n",
    "print \"\\nx1 =\",x1\n",
    "print \"\\nxu =\",xu"
   ]
  },
  {
   "cell_type": "markdown",
   "metadata": {},
   "source": [
    "## Ex:13.2 Pg: 360"
   ]
  },
  {
   "cell_type": "code",
   "execution_count": 21,
   "metadata": {
    "collapsed": false
   },
   "outputs": [
    {
     "name": "stdout",
     "output_type": "stream",
     "text": [
      "x0 =  [0, 1, 1, 1.3813008689454946, 1.382057051632978, 1.4273175717149764, 1.4274221422858844]\n",
      "\n",
      "x1 =  [1, 1.5921843781407843, 1.3813008689454946, 1.382057051632978, 1.4273175717149764, 1.4274221422858844, 1.4275508501677177]\n",
      "\n",
      "x2 =  [4, 4, 1.5921843781407843, 1.5921843781407843, 1.5921843781407843, 1.5921843781407843, 1.5921843781407843]\n"
     ]
    }
   ],
   "source": [
    "from math import sin\n",
    "#f(x) = 2sinx - x**2/10\n",
    "x0= [0]#\n",
    "x1= [1]\n",
    "x2= [4]#\n",
    "m=[];n=[];r=[];x3=[];s=[]\n",
    "for i in range(0,6):\n",
    "    m.append(2*sin(x0[(i)]) - (x0[(i)]**2)/10)\n",
    "    n.append(2*sin(x1[(i)]) - (x1[(i)]**2)/10)\n",
    "    r.append(2*sin(x2[(i)]) - (x2[(i)]**2)/10)\n",
    "    x3.append(((m[(i)]*(x1[(i)]** 2 -x2[(i)] ** 2)) + (n[(i)]*(x2[(i)] ** 2 -x0[(i)] ** 2)) + (r[(i)]*(x0[(i)] ** 2 -x1[(i)] ** 2)))/((2*m[(i)]*(x1[(i)] -x2[(i)]))+(2*n[(i)]*(x2[(i)] -x0[(i)]))+(2*r[(i)]*(x0[(i)] -x1[(i)]))))\n",
    "    s.append(2*sin(x3[(i)]) - (x3[(i)]**2)/10)\n",
    "    if x1[(i) ]> x3[(i) ]:\n",
    "        if n[(i)]<s[(i)]:\n",
    "            x0.append(x0[(i)])\n",
    "            x1.append(x3[(i)])\n",
    "            x2.append(x1[(i)])\n",
    "        else:\n",
    "            x0.append(x1[(i)])\n",
    "            x1.append(x3[(i)])\n",
    "            x2.append(x2[(i)])\n",
    "        \n",
    "    else:\n",
    "        if n[(i)]>s[(i)]:\n",
    "            x0.append(x0[(i)])\n",
    "            x1.append(x3[(i)])\n",
    "            x2.appedn(x1[(i)])\n",
    "        else:\n",
    "            x0.append(x1[(i)])\n",
    "            x1.append(x3[(i)])\n",
    "            x2.append(x2[(i)])\n",
    "        \n",
    "     \n",
    "\n",
    "\n",
    "print \"x0 = \",x0\n",
    "print \"\\nx1 = \",x1\n",
    "print \"\\nx2 = \",x2"
   ]
  },
  {
   "cell_type": "markdown",
   "metadata": {},
   "source": [
    "## Ex:13.3 Pg: 361"
   ]
  },
  {
   "cell_type": "code",
   "execution_count": 13,
   "metadata": {
    "collapsed": false
   },
   "outputs": [
    {
     "name": "stdout",
     "output_type": "stream",
     "text": [
      "x =  [0.5, 2.2261962395657777, 1.1766358162650659, 1.465127166023216, 1.4238568730046828, 1.4279262963228776, 1.427513951598196, 1.427555600748671, 1.4275513926124817, 1.4275518177794067]\n"
     ]
    }
   ],
   "source": [
    "from math import sin, cos\n",
    "#f(x) = 2sinx - x**2/10\n",
    "x= [.5]\n",
    "#f'(x) = 2cosx - x/5\n",
    "#f\"(x) = -2sinx - 1/5\n",
    "for i in range(1,10):\n",
    "  x.append(x[(i-1)] - (2*cos(x[(i-1)]) - x[(i-1)]/5)/(-2*sin(x[(i-1)]) - 1/5))\n",
    "\n",
    "print \"x = \",x"
   ]
  }
 ],
 "metadata": {
  "kernelspec": {
   "display_name": "Python 2",
   "language": "python",
   "name": "python2"
  },
  "language_info": {
   "codemirror_mode": {
    "name": "ipython",
    "version": 2
   },
   "file_extension": ".py",
   "mimetype": "text/x-python",
   "name": "python",
   "nbconvert_exporter": "python",
   "pygments_lexer": "ipython2",
   "version": "2.7.9"
  }
 },
 "nbformat": 4,
 "nbformat_minor": 0
}
