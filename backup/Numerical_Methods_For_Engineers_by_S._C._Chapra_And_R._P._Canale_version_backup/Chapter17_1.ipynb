{
 "cells": [
  {
   "cell_type": "markdown",
   "metadata": {},
   "source": [
    "# Chapter-17 : Least-squares Regression"
   ]
  },
  {
   "cell_type": "markdown",
   "metadata": {},
   "source": [
    "## Ex:17.1 Pg: 458"
   ]
  },
  {
   "cell_type": "code",
   "execution_count": 10,
   "metadata": {
    "collapsed": false
   },
   "outputs": [
    {
     "name": "stdout",
     "output_type": "stream",
     "text": [
      "sum of product of x and y = 119.5\n",
      "sum of square of x =  140\n",
      "sum of all the x =  28\n",
      "sum of all the y =  24.0\n",
      "a1 =  0.839285714286\n",
      "a0 =  0.0714285714286\n",
      "The equation of the line obtained is y = a0 + a1*x\n"
     ]
    }
   ],
   "source": [
    "x = [1,2,3,4,5,6,7]#\n",
    "y = [0.5,2.5,2,4,3.5,6,5.5]#\n",
    "n = 7#\n",
    "s = 0#\n",
    "xsq = 0#\n",
    "xsum = 0#\n",
    "ysum = 0#\n",
    "\n",
    "for i in range(0,7):\n",
    "    s = s + (x[i])*y[i]\n",
    "    xsq = xsq + x[i]**2\n",
    "    xsum = xsum + x[i]\n",
    "    ysum = ysum + y[i]\n",
    "\n",
    "print \"sum of product of x and y =\",s\n",
    "print \"sum of square of x = \",xsq\n",
    "print \"sum of all the x = \",xsum\n",
    "print \"sum of all the y = \",ysum\n",
    "a = xsum/n#\n",
    "b = ysum/n#\n",
    "a1 = (n*s - xsum*ysum)/(n*xsq -xsum**2)#\n",
    "a0 = b - a*a1#\n",
    "print \"a1 = \",a1\n",
    "print \"a0 = \",a0\n",
    "print \"The equation of the line obtained is y = a0 + a1*x\""
   ]
  },
  {
   "cell_type": "markdown",
   "metadata": {},
   "source": [
    "## Ex:17.2 Pg: 462"
   ]
  },
  {
   "cell_type": "code",
   "execution_count": 24,
   "metadata": {
    "collapsed": false
   },
   "outputs": [
    {
     "name": "stdout",
     "output_type": "stream",
     "text": [
      "sum of all y = 24.0\n",
      "\n",
      "(yi - yavg)**2 =  [0.010204081632653073, 2.010204081632653, 1.510204081632653, 3.510204081632653, 3.010204081632653, 5.510204081632653, 5.010204081632653]\n",
      "\n",
      "total (yi - yavg)**2 =  20.5714285714\n",
      "\n",
      "(yi - a0 - a1*x)**2 =  [-0.4107142857142855, -0.9285714285714284, -5.625, -9.5, -17.55357142857143, -24.285714285714285, -35.69642857142857]\n",
      "\n",
      "total (yi - a0 - a1*x)**2 =  -94.0\n",
      "\n",
      "sy =  1.85164019955\n",
      "r =  2.35996704308\n",
      "The result indicate that 86.8 percent of the original uncertainty has been explained by linear model\n"
     ]
    }
   ],
   "source": [
    "x = [1,2,3,4,5,6,7]#\n",
    "y = [0.5,2.5,2,4,3.5,6,5.5]#\n",
    "n = 7#\n",
    "s = 0#\n",
    "ssum = 0#\n",
    "xsq = 0#\n",
    "xsum = 0#\n",
    "ysum = 0#\n",
    "msum = 0#\n",
    "for i in range(0,7):\n",
    "    s = s + x[i]*y[i]\n",
    "    xsq = xsq + x[i]**2\n",
    "    xsum = xsum + x[i]\n",
    "    ysum = ysum + y[i]\n",
    "\n",
    "a = xsum/n#\n",
    "b = ysum/n#\n",
    "a1 = (n*s - xsum*ysum)/(n*xsq -xsum**2)#\n",
    "a0 = b - a*a1#\n",
    "m=[];si=[]\n",
    "for i in range(0,7):\n",
    "    m.append(y[i] - ysum/7**2)\n",
    "    msum = msum +m[i]#\n",
    "    si.append(y[i] - a0 - a1*x[i]**2)\n",
    "    ssum = ssum + si[i]\n",
    "\n",
    "print \"sum of all y =\",ysum\n",
    "print \"\\n(yi - yavg)**2 = \",m\n",
    "print \"\\ntotal (yi - yavg)**2 = \",msum\n",
    "print \"\\n(yi - a0 - a1*x)**2 = \",si\n",
    "print \"\\ntotal (yi - a0 - a1*x)**2 = \",ssum\n",
    "sy = (msum / (n-1))**(0.5)#\n",
    "#sxy = (ssum/(n-2))**(0.5)#\n",
    "print \"\\nsy = \",sy\n",
    "#print \"sxy = \",sxy\n",
    "r2 = (msum - ssum)/(msum)#\n",
    "r = r2**0.5#\n",
    "print \"r = \",r\n",
    "print \"The result indicate that 86.8 percent of the original uncertainty has been explained by linear model\""
   ]
  },
  {
   "cell_type": "markdown",
   "metadata": {},
   "source": [
    "## Ex:17.3 Pg: 463"
   ]
  },
  {
   "cell_type": "code",
   "execution_count": 28,
   "metadata": {
    "collapsed": false
   },
   "outputs": [
    {
     "name": "stdout",
     "output_type": "stream",
     "text": [
      "time =  [1, 2, 3, 4, 5, 6, 7, 8, 9, 10, 11, 12, 13, 14, 15]\n",
      "\n",
      "measured v = [10, 16.3, 23, 27.5, 31, 35.6, 39, 41.5, 42.9, 45, 46, 45.5, 46, 49, 50]\n",
      "\n",
      "using equation(1.10) v1 =  [8.953182207901257, 16.404980802870615, 22.607166909502304, 27.769291463870154, 32.06576523242002, 35.641751563129084, 38.61807096510561, 41.09528322582064, 43.15708498693595, 44.87313757134839, 46.30142060418256, 47.490190948641704, 48.479613142547706, 49.30311642251821, 49.988524185047744]\n",
      "\n",
      "using equation((17.3)) v2 =  [11.240084210526316, 18.57057391304348, 23.729066666666665, 27.556335483870967, 30.5088, 32.855630769230764, 34.765841860465116, 36.35091063829787, 37.68734117647059, 38.82938181818182, 39.81656949152543, 40.678399999999996, 41.43732537313433, 42.11073802816901, 42.712320000000005]\n"
     ]
    },
    {
     "data": {
      "image/png": "[encoded data removed]",
      "text/plain": [
       "<matplotlib.figure.Figure at 0x7f2a3c39d2d0>"
      ]
     },
     "metadata": {},
     "output_type": "display_data"
    }
   ],
   "source": [
    "%matplotlib inline\n",
    "from matplotlib.pyplot import plot, title,xlabel,ylabel,show\n",
    "from math import exp\n",
    "s = [1,2,3,4,5,6,7,8,9,10,11,12,13,14,15]#\n",
    "v = [10,16.3,23,27.5,31,35.6,39,41.5,42.9,45,46,45.5,46,49,50]#\n",
    "g = 9.8#m/s**2\n",
    "m = 68.1##kg\n",
    "c = 12.5#kg/s\n",
    "v1=[]\n",
    "v2=[]\n",
    "for i in range(0,15):\n",
    "    v1.append(g*m*(1 - exp(-c*s[(i)]/m))/c)\n",
    "    v2.append(g*m*s[(i)]/(c*(3.75+s[(i)])))\n",
    "\n",
    "print \"time = \",s\n",
    "print \"\\nmeasured v =\",v\n",
    "print \"\\nusing equation(1.10) v1 = \",v1\n",
    "print \"\\nusing equation((17.3)) v2 = \",v2\n",
    "plot(v,v1)#\n",
    "title('v vs v1')\n",
    "xlabel('v')\n",
    "ylabel('v1')#\n",
    "show()"
   ]
  },
  {
   "cell_type": "markdown",
   "metadata": {},
   "source": [
    "## Ex:17.4 Pg: 468"
   ]
  },
  {
   "cell_type": "code",
   "execution_count": 2,
   "metadata": {
    "collapsed": false
   },
   "outputs": [
    {
     "name": "stdout",
     "output_type": "stream",
     "text": [
      "a= 0.501187233627\n",
      "x= [1, 2, 3, 4, 5]\n",
      "y= [0.5011872336272722, 1.6857861925123965, 3.4273795077270295, 5.670286264671531, 8.379102586654781]\n",
      "m= [0.0, 0.3010299956639812, 0.47712125471966244, 0.6020599913279624, 0.6989700043360189]\n",
      "n= [-0.30000000000000004, 0.226802492411967, 0.5349621957594092, 0.7536049848239341, 0.9231975075880328]\n"
     ]
    },
    {
     "data": {
      "image/png": "[encoded data removed]",
      "text/plain": [
       "<matplotlib.figure.Figure at 0x7f7763106d50>"
      ]
     },
     "metadata": {},
     "output_type": "display_data"
    },
    {
     "data": {
      "image/png": "[encoded data removed]",
      "text/plain": [
       "<matplotlib.figure.Figure at 0x7f7762cd79d0>"
      ]
     },
     "metadata": {},
     "output_type": "display_data"
    }
   ],
   "source": [
    "from math import log10\n",
    "%matplotlib inline\n",
    "from matplotlib.pyplot import plot, title,xlabel,ylabel,show\n",
    "\n",
    "#y = a*x**b\n",
    "a1 = -0.3000#\n",
    "a = 10**(a1)#\n",
    "b = 1.75#\n",
    "print \"a=\",a\n",
    "x=[];y=[];m=[];n=[];\n",
    "for i in range(0,5):\n",
    "    x.append(i+1)\n",
    "    y.append(a*x[(i)]**b)\n",
    "    m.append(log10(x[(i)]))\n",
    "    n.append(log10(y[(i)]))\n",
    "\n",
    "print \"x=\",x\n",
    "print \"y=\",y\n",
    "print \"m=\",m\n",
    "print \"n=\",n\n",
    "plot(x,y)\n",
    "title('y vs x')\n",
    "xlabel('x')\n",
    "ylabel('y')\n",
    "show()\n",
    "plot(m,n)\n",
    "title('log y vs log x')\n",
    "xlabel('log x')\n",
    "ylabel('log y')\n",
    "show()"
   ]
  },
  {
   "cell_type": "markdown",
   "metadata": {},
   "source": [
    "## Ex:17.5 Pg: 471"
   ]
  },
  {
   "cell_type": "code",
   "execution_count": 8,
   "metadata": {
    "collapsed": false
   },
   "outputs": [
    {
     "name": "stdout",
     "output_type": "stream",
     "text": [
      "sum y = 152.6\n",
      "sum x = 15\n",
      "xavg =  2\n",
      "yavg =  25.4333333333\n",
      "sum x**2 = 55\n",
      "sum x**3 = 225\n",
      "sum x**4 = 979\n",
      "sum x*y = 585.6\n",
      "sum x**2 * y = 2488.8\n",
      "(yi - yavg)**2 =  [4.41, 41.173611111111114, 60.58027777777777, 60.580277777777745, 33.446944444444505, 1332.2500000000005]\n",
      "(yi - a0 - a1*x - a2*x**2)**2 =  [0.14331632653056853, 1.0028591836732743, 1.0816000000005044, 0.80486530612177265, 0.61959387755180939, 0.094336734693502053]\n",
      "The standard error of the estimate based on regression polynomial = 1.11752277062\n",
      "Percentage of original uncertainty that has been explained by the model =  99.7555161238 %\n"
     ]
    },
    {
     "data": {
      "image/png": "[encoded data removed]",
      "text/plain": [
       "<matplotlib.figure.Figure at 0x7f777c4e0a90>"
      ]
     },
     "metadata": {},
     "output_type": "display_data"
    }
   ],
   "source": [
    "%matplotlib inline\n",
    "from matplotlib.pyplot import plot, title,xlabel,ylabel,show\n",
    "from numpy import mat\n",
    "x = [0,1,2,3,4,5]#\n",
    "y = [2.1,7.7,13.6,27.2,40.9,61.1]#\n",
    "sumy = 0#\n",
    "sumx = 0#\n",
    "m = 2#\n",
    "n = 6#\n",
    "xsqsum = 0#\n",
    "xcsum = 0#\n",
    "x4sum = 0#\n",
    "xysum = 0#\n",
    "x2ysum = 0#\n",
    "rsum = 0#\n",
    "usum = 0#\n",
    "r=[];s=0\n",
    "for i in range(0,6):\n",
    "    s = s + x[i]*y[i]\n",
    "    sumy = sumy+y[(i)]\n",
    "    sumx = sumx+x[(i)]\n",
    "    r.append((y[(i)] - s/n)**2)\n",
    "    xsqsum = xsqsum + x[(i)]**2\n",
    "    xcsum = xcsum +x[(i)]**3\n",
    "    x4sum = x4sum + x[(i)]**4\n",
    "    xysum = xysum + x[(i)]*y[(i)]\n",
    "    x2ysum = x2ysum + y[(i)]*x[(i)]**2\n",
    "    rsum = r[(i)] + rsum\n",
    "\n",
    "print \"sum y =\",sumy\n",
    "print \"sum x =\",sumx\n",
    "xavg = sumx/n#\n",
    "yavg = sumy/n#\n",
    "print \"xavg = \",xavg\n",
    "print \"yavg = \",yavg\n",
    "print \"sum x**2 =\",xsqsum\n",
    "print \"sum x**3 =\",xcsum\n",
    "print \"sum x**4 =\",x4sum\n",
    "print \"sum x*y =\",xysum\n",
    "print \"sum x**2 * y =\",x2ysum\n",
    "J = mat([[n,sumx,xsqsum],[sumx,xsqsum,xcsum],[xsqsum,xcsum,x4sum]])\n",
    "I = mat([[sumy],[xysum],[x2ysum]])\n",
    "X = (J**-1)* I\n",
    "a0 = X[0,0]\n",
    "a1 = X[1,0]\n",
    "a2 = X[2,0]\n",
    "u=[]\n",
    "for i in range(0,6):\n",
    "    u.append((y[(i) ]- a0 - a1*x[(i)] - a2*x[(i)]**2)**2)\n",
    "    usum = usum + u[i]\n",
    "\n",
    "print \"(yi - yavg)**2 = \",r\n",
    "print \"(yi - a0 - a1*x - a2*x**2)**2 = \",u\n",
    "plot(x,y)#\n",
    "title('x vs y')\n",
    "xlabel('x')\n",
    "ylabel('y')  \n",
    "syx = (usum/(n-3))**0.5#\n",
    "print \"The standard error of the estimate based on regression polynomial =\",syx\n",
    "R2 = (rsum - usum)/(rsum)#\n",
    "print \"Percentage of original uncertainty that has been explained by the model = \",R2*100,'%'"
   ]
  },
  {
   "cell_type": "markdown",
   "metadata": {},
   "source": [
    "## Ex:17.6 Pg: 475"
   ]
  },
  {
   "cell_type": "code",
   "execution_count": 10,
   "metadata": {
    "collapsed": false
   },
   "outputs": [
    {
     "name": "stdout",
     "output_type": "stream",
     "text": [
      "a0= -0.850183257587\n",
      "a1= 7.17727605923\n",
      "a2= 2.80543175487\n",
      "Thus, y = a0 + a1*x1 + a2*x2\n"
     ]
    }
   ],
   "source": [
    "from numpy import mat\n",
    "x1 = [0,2,2.5,1,4,7]\n",
    "x2 = [0,1,2,3,6,2]\n",
    "x1sum = 0#\n",
    "x2sum = 0#\n",
    "ysum = 0#\n",
    "x12sum = 0#\n",
    "x22sum = 0#\n",
    "x1ysum = 0#\n",
    "x2ysum = 0#\n",
    "x1x2sum = 0#\n",
    "n = 6#\n",
    "x12=[];x22=[];x1x2=[];x1y=[];x2y=[]\n",
    "for i in range(0,6):\n",
    "    y.append(5 + 4*x1[(i)] - 3*x2[(i)])\n",
    "    x12.append(x1[(i)]**2)\n",
    "    x22.append(x2[(i)]**2)\n",
    "    x1x2.append(x1[(i)] * x2[(i)])\n",
    "    x1y.append(x1[(i)] * y[(i)])\n",
    "    x2y.append(x2[(i)] * y[(i)])\n",
    "    x1sum = x1sum + x1[(i)]\n",
    "    x2sum = x2sum + x2[(i)]\n",
    "    ysum = ysum + y[(i)]\n",
    "    x1ysum = x1ysum + x1y[(i)]#\n",
    "    x2ysum = x2ysum + x2y[(i)]#\n",
    "    x1x2sum = x1x2sum + x1x2[(i)]#\n",
    "    x12sum = x12sum + x12[(i)]#\n",
    "    x22sum = x22sum + x22[(i)]#\n",
    "\n",
    "X = mat([[n,x1sum,x2sum],[x1sum,x12sum,x1x2sum],[x2sum,x1x2sum,x22sum]])\n",
    "Y = mat([[ysum],[x1ysum],[x2ysum]])\n",
    "Z = (X**-1)*Y\n",
    "a0 = Z[0,0]\n",
    "a1 = Z[1,0]\n",
    "a2 = Z[2,0]\n",
    "print \"a0=\",a0\n",
    "print \"a1=\",a1\n",
    "print \"a2=\",a2\n",
    "print \"Thus, y = a0 + a1*x1 + a2*x2\""
   ]
  },
  {
   "cell_type": "markdown",
   "metadata": {},
   "source": [
    "## Ex:17.7 Pg: 479"
   ]
  },
  {
   "cell_type": "code",
   "execution_count": 19,
   "metadata": {
    "collapsed": false
   },
   "outputs": [
    {
     "name": "stdout",
     "output_type": "stream",
     "text": [
      "a0= -0.858655686175\n",
      "a1= 1.03160389481\n",
      "standard error of co efficient a0 =  0.716371758333\n",
      "standard error of co efficient a1 =  0.0186248847544\n",
      "interval of a0 =  [-2.4062823089821084, 0.68897093663270859]\n",
      "interval of a1 =  [0.99136728978321009, 1.0718404998372961]\n"
     ]
    }
   ],
   "source": [
    "from numpy import mat,exp,transpose,shape,array\n",
    "#y = -0.859 + 1.032*x\n",
    "Z = mat([[1,10],[1,16.3],[1,23],[1,27.5],[1,31],[1,35.6],[1,39],[1,41.5],[1,42.9],[1,45],[1,46],[1,45.5],[1,46],[1,49],[1,50]])\n",
    "Y=[]\n",
    "for i in range(0,15):\n",
    "    Y.append(9.8*68.1*(1-exp(-12.5*(i+1)/68.1))/12.5)\n",
    "Y=array(Y)\n",
    "Y=Y.reshape(15,1)\n",
    "M = transpose(Z)\n",
    "R = M*Z#\n",
    "S = M*Y#\n",
    "P = (R**-1)#\n",
    "X = (R**-1)*S#\n",
    "a0 = X[0,0]\n",
    "a1 = X[1,0]\n",
    "print \"a0=\",a0\n",
    "print \"a1=\",a1\n",
    "sxy = 0.863403#\n",
    "sa0 = ((P[0,0]) * sxy**2)**0.5\n",
    "sa1 = (P[1,1] * sxy**2)**0.5\n",
    "print \"standard error of co efficient a0 = \",sa0\n",
    "print \"standard error of co efficient a1 = \",sa1\n",
    "TINV = 2.160368#\n",
    "a0 = [a0 - TINV*(sa0),a0 + TINV*(sa0)]#\n",
    "a1 = [a1 - TINV*(sa1),a1 + TINV*(sa1)]#\n",
    "print \"interval of a0 = \",a0\n",
    "print \"interval of a1 = \",a1"
   ]
  },
  {
   "cell_type": "markdown",
   "metadata": {},
   "source": [
    "## Ex:17.8 Pg: 481"
   ]
  },
  {
   "cell_type": "code",
   "execution_count": 32,
   "metadata": {
    "collapsed": false
   },
   "outputs": [
    {
     "name": "stdout",
     "output_type": "stream",
     "text": [
      "Z0 =  [[ 0.22119922  0.1947002 ]\n",
      " [ 0.52763345  0.35427491]\n",
      " [ 0.7134952   0.358131  ]\n",
      " [ 0.82622606  0.3041044 ]\n",
      " [ 0.89460078  0.23714826]]\n",
      "D =  [[ 0.05880078]\n",
      " [ 0.04236655]\n",
      " [-0.0334952 ]\n",
      " [-0.08622606]\n",
      " [-0.10460078]]\n",
      "X =  [[-0.27147736]\n",
      " [ 0.50193087]]\n",
      "The value of a0 after 1st iteration =  0.728522640015\n",
      "The value of a1 after 1st iteration =  1.5019308677\n"
     ]
    }
   ],
   "source": [
    "from math import exp\n",
    "from numpy import array,transpose,mat\n",
    "x = [0.25,0.75,1.25,1.75,2.25]#\n",
    "y = [0.28,0.57,0.68,0.74,0.79]#\n",
    "a0 = 1#\n",
    "a1 = 1#\n",
    "sr = 0.0248#\n",
    "pda0=[];pda1=[]\n",
    "for i in range(0,5):\n",
    "    pda0.append(1 - exp(-a1 * x[(i)]))\n",
    "    pda1.append(a0 * x[(i)]*exp(-a1*x[(i)]))\n",
    "\n",
    "Z0 = mat([[pda0[0],pda1[0]],[pda0[1],pda1[1]],[pda0[2],pda1[2]],[pda0[3],pda1[3]],[pda0[4],pda1[4]]])\n",
    "print \"Z0 = \",Z0\n",
    "R = transpose(Z0)*Z0\n",
    "S = (R**-1)\n",
    "y1=[];D=[]\n",
    "for i in range(0,5):\n",
    "    y1.append(a0 * (1-exp(-a1*x[(i)])))\n",
    "    D.append(y[(i)] - y1[(i)])\n",
    "D=array(D)    \n",
    "D=D.reshape(5,1)\n",
    "print \"D = \",D\n",
    "M = transpose(Z0)*D\n",
    "X = S *M#\n",
    "print \"X = \",X\n",
    "a0 = a0 + X[0,0]\n",
    "a1 = a1 + X[1,0]\n",
    "print \"The value of a0 after 1st iteration = \",a0\n",
    "print \"The value of a1 after 1st iteration = \",a1"
   ]
  }
 ],
 "metadata": {
  "kernelspec": {
   "display_name": "Python 2",
   "language": "python",
   "name": "python2"
  },
  "language_info": {
   "codemirror_mode": {
    "name": "ipython",
    "version": 2
   },
   "file_extension": ".py",
   "mimetype": "text/x-python",
   "name": "python",
   "nbconvert_exporter": "python",
   "pygments_lexer": "ipython2",
   "version": "2.7.9"
  }
 },
 "nbformat": 4,
 "nbformat_minor": 0
}
