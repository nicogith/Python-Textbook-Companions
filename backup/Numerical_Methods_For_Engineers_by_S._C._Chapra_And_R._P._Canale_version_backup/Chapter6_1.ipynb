{
 "cells": [
  {
   "cell_type": "markdown",
   "metadata": {},
   "source": [
    "# Chapter 6 : Open Methods"
   ]
  },
  {
   "cell_type": "markdown",
   "metadata": {},
   "source": [
    "## Ex6.1: Pg: 143"
   ]
  },
  {
   "cell_type": "code",
   "execution_count": 2,
   "metadata": {
    "collapsed": false
   },
   "outputs": [
    {
     "name": "stdout",
     "output_type": "stream",
     "text": [
      "x = :\n",
      "0\n",
      "1.0\n",
      "0.367879441171\n",
      "0.692200627555\n",
      "0.500473500564\n",
      "0.606243535086\n",
      "0.545395785975\n",
      "0.579612335503\n",
      "0.560115461361\n",
      "0.57114311508\n",
      "0.564879347391\n",
      "\n",
      "e = :\n",
      "100.0\n",
      "-171.828182846\n",
      "46.8536394613\n",
      "-38.3091465933\n",
      "17.4467896812\n",
      "-11.1566225254\n",
      "5.90335081441\n",
      "-3.48086697962\n",
      "1.93080393126\n",
      "-1.10886824205\n"
     ]
    }
   ],
   "source": [
    "from math import exp\n",
    "#f(x) = exp(-x) - x#\n",
    "#using simple fixed point iteration, Xi+1 = exp(-Xi)\n",
    "x = 0##initial guess\n",
    "y=[]\n",
    "e=[]\n",
    "y.append(0)\n",
    "e.append(0)\n",
    "for i in range(1,12):\n",
    "    if i == 1 :\n",
    "        y.append(x)\n",
    "    else:\n",
    "         y.append(exp(-y[(i-1)]))\n",
    "         e.append((y[(i)] - y[(i-1)]) * 100 / y[(i)])\n",
    "    \n",
    "print \"x = :\"\n",
    "for x in y[1:]:\n",
    "    print x\n",
    "print \"\\ne = :\"\n",
    "for e in e[1:]:\n",
    "    print e\n"
   ]
  },
  {
   "cell_type": "markdown",
   "metadata": {},
   "source": [
    "## Ex6.2: Pg: 144"
   ]
  },
  {
   "cell_type": "code",
   "execution_count": 3,
   "metadata": {
    "collapsed": false
   },
   "outputs": [
    {
     "name": "stdout",
     "output_type": "stream",
     "text": [
      "x =  [0, 0.2, 0.4, 0.6000000000000001, 0.8, 1.0]\n",
      "y1 =  [0, 0.2, 0.4, 0.6000000000000001, 0.8, 1.0]\n",
      "y2 =  [1.0, 0.8187307530779818, 0.6703200460356393, 0.5488116360940264, 0.44932896411722156, 0.36787944117144233]\n",
      "answer using two curve graphical method =   5.7\n"
     ]
    },
    {
     "data": {
      "image/png": "[encoded data removed]",
      "text/plain": [
       "<matplotlib.figure.Figure at 0x7f6dbdac5f50>"
      ]
     },
     "metadata": {},
     "output_type": "display_data"
    }
   ],
   "source": [
    "from math import exp\n",
    "%matplotlib inline\n",
    "from matplotlib.pyplot import plot,title,xlabel,ylabel,show\n",
    "#y1 = x\n",
    "#y2 = exp(-x)\n",
    "x=[]\n",
    "y1=[]\n",
    "y2=[]\n",
    "for i in range(0,6):\n",
    "    if i == 0:\n",
    "        x.append(0)\n",
    "    else:\n",
    "        x.append(x[(i-1)] + 0.2)\n",
    "    \n",
    "    y1.append(x[(i)])\n",
    "    y2.append(exp(-x[(i)]))\n",
    "\n",
    "print \"x = \",x\n",
    "print \"y1 = \",y1\n",
    "print \"y2 = \",y2\n",
    "plot(x,y1)\n",
    "plot(x,y2)#\n",
    "title(\"f(x) vs x\")\n",
    "xlabel(\"x\")\n",
    "y=(\"f(x)\")\n",
    "# from the graph, we get\n",
    "x7 = 5.7#\n",
    "print  \"answer using two curve graphical method =  \",x7"
   ]
  },
  {
   "cell_type": "markdown",
   "metadata": {},
   "source": [
    "## Ex6.3: Pg: 149"
   ]
  },
  {
   "cell_type": "code",
   "execution_count": 4,
   "metadata": {
    "collapsed": false
   },
   "outputs": [
    {
     "name": "stdout",
     "output_type": "stream",
     "text": [
      "x = [0.5, 0.5663110031972182, 0.5671431650348622, 0.5671432904097811, 0.5671432904097811]\n",
      "et = [100.0, 11.709290976662398, 0.14672870783743905, 2.2106391984397626e-05]\n"
     ]
    }
   ],
   "source": [
    "from math import exp\n",
    "#f(x) = exp(-x)-x\n",
    "#f'(x) = -exp(-x)-1\n",
    "x=[]\n",
    "et=[]\n",
    "for i in range(0,5):\n",
    "    if i == 0:\n",
    "        x.append(0)\n",
    "    else:\n",
    "         x.append(x[(i-1)] - (exp(-x[(i-1)])-x[(i-1)])/(-exp(-x[(i-1)])-1))\n",
    "         et.append((x[(i)] - x[(i-1)]) * 100 / x[(i)])\n",
    "         x[(i-1)] = x[(i)]\n",
    "    \n",
    "\n",
    "print \"x =\",x\n",
    "print \"et =\",et"
   ]
  },
  {
   "cell_type": "markdown",
   "metadata": {},
   "source": [
    "## Ex6.4: Pg: 150"
   ]
  },
  {
   "cell_type": "code",
   "execution_count": 5,
   "metadata": {
    "collapsed": false
   },
   "outputs": [
    {
     "name": "stdout",
     "output_type": "stream",
     "text": [
      "Et1 =  0.0582022389721 which is close to the true error of 0.06714329\n",
      "Et2 =  0.000815754223141 which is close to the true error of 0.0008323\n",
      "Et3 =  1.253469828e-07 which is close to the true error of 0.0008323\n",
      "Et4 =  2.84303276339e-15 which is close to the true error of 0.0008323\n",
      "Thus it illustratres that the error of newton raphson method for this case is proportional(by a factor of 0.18095) to the square of the error of the previous iteration\n"
     ]
    }
   ],
   "source": [
    "from math import exp\n",
    "#f(x) = exp(-x) - x\n",
    "#f'(x) = -exp(-x) - 1\n",
    "#f\"(x) = exp(-x)\n",
    "xr = 0.56714329#\n",
    "#E(ti+1) = -f\"(x)* E(ti) / 2 * f'(x)\n",
    "Et0 = 0.56714329#\n",
    "Et1 = -exp(-xr)* ((Et0)**2) / (2 * (-exp(-xr) - 1))#\n",
    "print \"Et1 = \",Et1,\"which is close to the true error of 0.06714329\"\n",
    "Et1true = 0.06714329#\n",
    "Et2 =  -exp(-xr)* ((Et1true)**2) / (2 * (-exp(-xr) - 1))#\n",
    "print \"Et2 = \",Et2,\"which is close to the true error of 0.0008323\"\n",
    "Et2true = 0.0008323#\n",
    "Et3 =  -exp(-xr)* ((Et2true)**2) / (2 * (-exp(-xr) - 1))#\n",
    "print \"Et3 = \",Et3,\"which is close to the true error of 0.0008323\"\n",
    "Et4 =  -exp(-xr)* ((Et3)**2) / (2 * (-exp(-xr) - 1))#\n",
    "print \"Et4 = \",Et4,\"which is close to the true error of 0.0008323\"\n",
    "print \"Thus it illustratres that the error of newton raphson method for this case is proportional(by a factor of 0.18095) to the square of the error of the previous iteration\"\n",
    " "
   ]
  },
  {
   "cell_type": "markdown",
   "metadata": {},
   "source": [
    "## Ex6.5: Pg: 151"
   ]
  },
  {
   "cell_type": "code",
   "execution_count": 6,
   "metadata": {
    "collapsed": false
   },
   "outputs": [
    {
     "name": "stdout",
     "output_type": "stream",
     "text": [
      "y =\n",
      "0.5\n",
      "51.65\n",
      "46.485\n",
      "41.8365\n",
      "37.65285\n",
      "33.887565\n",
      "30.4988085\n",
      "27.44892765\n",
      "24.704034885\n",
      "22.2336313965\n",
      "20.0102682569\n",
      "18.0092414312\n",
      "16.208317288\n",
      "14.5874855592\n",
      "13.1287370033\n",
      "11.815863303\n",
      "10.6342769727\n",
      "9.57084927551\n",
      "8.61376434811\n",
      "7.75238791368\n",
      "6.9771491233\n",
      "6.27943421352\n",
      "5.65149079876\n",
      "5.08634173588\n",
      "4.57770760618\n",
      "4.11993695885\n",
      "3.70794355537\n",
      "3.33714995458\n",
      "3.00343690726\n",
      "2.70309824497\n",
      "2.43280139954\n",
      "2.18955475922\n",
      "1.97068573981\n",
      "1.7738402371\n",
      "1.59703134797\n",
      "1.43880793143\n",
      "1.29871134273\n",
      "1.17835471562\n",
      "1.08334975351\n",
      "1.02366466118\n",
      "Thus, after the first poor prediction, the technique is converging on to the true root of 1 but at a very slow rate\n"
     ]
    }
   ],
   "source": [
    "z = 0.5#\n",
    "#f(x) = x**10 - 1\n",
    "#f'(x) = 10*x**9\n",
    "y=[]\n",
    "for i in range(0,40):\n",
    "    if i==0:\n",
    "        y.append(z)\n",
    "    else:\n",
    "        y.append(y[(i-1)] - (y[(i-1)]**10 - 1)/(10*y[(i-1)]**9))\n",
    "    \n",
    "print \"y =\"\n",
    "for yy in y:\n",
    "    print yy\n",
    "print \"Thus, after the first poor prediction, the technique is converging on to the true root of 1 but at a very slow rate\""
   ]
  },
  {
   "cell_type": "markdown",
   "metadata": {},
   "source": [
    "## Ex6.6: Pg: 155"
   ]
  },
  {
   "cell_type": "code",
   "execution_count": 7,
   "metadata": {
    "collapsed": false
   },
   "outputs": [
    {
     "name": "stdout",
     "output_type": "stream",
     "text": [
      "x =\n",
      "0\n",
      "1\n",
      "0.61269983678\n",
      "0.563838389161\n",
      "0.56717035842\n",
      "\n",
      "et =\n",
      "-8.03263435953\n",
      "0.582727662867\n",
      "-0.00477276558181\n"
     ]
    }
   ],
   "source": [
    "from math import exp\n",
    "#f(x) = exp(-x)-x\n",
    "x=[]\n",
    "er=[]\n",
    "for i in range(0,5):\n",
    "    if i==0:\n",
    "        x.append(0)\n",
    "    else:\n",
    "        if i==1:\n",
    "            x.append(1)\n",
    "        else:\n",
    "            x.append(x[(i-1)] - (exp(-x[(i-1)])-x[(i-1)])*(x[(i-2)] - x[(i-1)])/((exp(-x[(i-2)])-x[(i-2)])-(exp(-x[(i-1)])-x[(i-1)])))\n",
    "            er.append((0.56714329 - x[(i)]) * 100 / 0.56714329)\n",
    "        \n",
    "print \"x =\"\n",
    "for xx in x:\n",
    "    print xx\n",
    "\n",
    "print \"\\net =\"\n",
    "for xx in er:\n",
    "    print xx\n"
   ]
  },
  {
   "cell_type": "markdown",
   "metadata": {},
   "source": [
    "## Ex6.7: Pg: 156"
   ]
  },
  {
   "cell_type": "code",
   "execution_count": 8,
   "metadata": {
    "collapsed": false
   },
   "outputs": [
    {
     "name": "stdout",
     "output_type": "stream",
     "text": [
      "secant method\n",
      "x =\n",
      "[0.5, 5, 1.8546349804879152, -0.1043807923822424]\n",
      "[0.5, 5, 1.8546349804879152, -0.1043807923822424]\n",
      "[0.5, 5, 1.8546349804879152, -0.1043807923822424]\n",
      "[0.5, 5, 1.8546349804879152, -0.1043807923822424]\n",
      "thus, secant method is divergent\n",
      "Now, False position method\n",
      "xr =  1.85463498049\n",
      "xr =  1.21630781847\n",
      "xr =  1.05852096245\n",
      "thus, false position method is convergent\n"
     ]
    }
   ],
   "source": [
    "from math import log\n",
    "#f(x) = log(x)\n",
    "print \"secant method\"\n",
    "x=[]\n",
    "for i in range(0,4):\n",
    "    if i==0:\n",
    "        x.append(0.5)\n",
    "    else:\n",
    "        if i==1:\n",
    "            x.append(5)\n",
    "        else:\n",
    "            x.append(x[(i-1)] - log(x[(i-1)]) * (x[(i-2)] - x[(i-1)])/(log(x[(i-2)]) - log(x[(i-1)])))\n",
    "        \n",
    "    \n",
    "print \"x =\"\n",
    "for xx in x:\n",
    "    print x\n",
    "print \"thus, secant method is divergent\"\n",
    "print \"Now, False position method\"\n",
    "xl = 0.5#\n",
    "xu = 5#\n",
    "for i in range(0,3):\n",
    "    m = log(xl)#\n",
    "    n = log(xu)#\n",
    "    xr = xu - n*(xl - xu)/(m - n)#\n",
    "    print \"xr = \",xr\n",
    "    w = log(xr)#\n",
    "    if m*w < 0:\n",
    "        xu = xr#\n",
    "    else:\n",
    "        xl = xr#\n",
    "    \n",
    "\n",
    " \n",
    "print \"thus, false position method is convergent\""
   ]
  },
  {
   "cell_type": "markdown",
   "metadata": {},
   "source": [
    "## Ex6.8: Pg: 158"
   ]
  },
  {
   "cell_type": "code",
   "execution_count": 9,
   "metadata": {
    "collapsed": false
   },
   "outputs": [
    {
     "name": "stdout",
     "output_type": "stream",
     "text": [
      "x1 =  1\n",
      "x =  0.537262665537\n",
      "error =  5.26861993966 %\n",
      "x =  0.567009685365\n",
      "error =  0.0235574743537 %\n",
      "x =  0.567143424147\n",
      "error =  -2.3653190891e-05 %\n"
     ]
    }
   ],
   "source": [
    "from math import exp\n",
    "Del = 0.01#\n",
    "z = 0.56714329\n",
    "x1 = 1#\n",
    "#f(x) = exp(-x) - x\n",
    "x=[]\n",
    "print \"x1 = \",x1\n",
    "for i in range(0,4):\n",
    "    if i == 0:\n",
    "        x.append(1)\n",
    "    else :\n",
    "        w = x[(i-1)]\n",
    "        m = exp(-x[(i-1)]) - x[(i-1)]\n",
    "        x[(i-1)] = x[(i-1)]*(1+Del)#\n",
    "        n = exp(-x[(i-1)]) - x[(i-1)]#\n",
    "        x.append(w - (x[(i-1)]- w) * m/(n-m))\n",
    "        em = (z - x[(i)])*100/z#\n",
    "        print \"x = \",x[(i)]\n",
    "        print \"error = \",em,\"%\"\n",
    "    "
   ]
  },
  {
   "cell_type": "markdown",
   "metadata": {},
   "source": [
    "## Ex6.9: Pg: 161"
   ]
  },
  {
   "cell_type": "code",
   "execution_count": 10,
   "metadata": {
    "collapsed": false
   },
   "outputs": [
    {
     "name": "stdout",
     "output_type": "stream",
     "text": [
      "standard Newton Raphson method\n",
      "x =  0.428571428571\n",
      "error =  57.1428571429 %\n",
      "x =  0.685714285714\n",
      "error =  31.4285714286 %\n",
      "x =  0.832865400495\n",
      "error =  16.7134599505 %\n",
      "x =  0.913329893257\n",
      "error =  8.66701067434 %\n",
      "x =  0.955783292966\n",
      "error =  4.42167070343 %\n",
      "x =  0.977655101273\n",
      "error =  2.23448987271 %\n",
      "Modified Newton Raphson method\n",
      "x =  1.10526315789\n",
      "error =  -10.5263157895 %\n",
      "x =  1.0030816641\n",
      "error =  -0.30816640986 %\n",
      "x =  1.00000238149\n",
      "error =  -0.000238149381548 %\n"
     ]
    }
   ],
   "source": [
    "from __future__ import division\n",
    "#f(x) = x**3 - 5*x**2 + 7*x -3\n",
    "#f'(x) = 3*x**2 - 10*x + 7\n",
    "print \"standard Newton Raphson method\"\n",
    "x=[]\n",
    "et=[]\n",
    "for i in range(0,7):\n",
    "    if i == 0:\n",
    "        x.append(0)\n",
    "    else:\n",
    "         x.append(x[(i-1)] - ((x[(i-1)])**3 - 5*(x[(i-1)])**2 + 7*x[(i-1)] -3)/(3*(x[(i-1)])**2 - 10*(x[(i-1)]) + 7))      \n",
    "         et.append((1 - x[(i)]) * 100 / 1)\n",
    "         print \"x = \",x[i]\n",
    "         print \"error = \",et[(i-1)],\"%\"\n",
    "         x[(i-1)] = x[(i)]\n",
    "    \n",
    "\n",
    "print \"Modified Newton Raphson method\"\n",
    "#f\"(x) = 6*x - 10\n",
    "x=[]\n",
    "et=[]\n",
    "for i in range(0,4):\n",
    "    if i == 0:\n",
    "        x.append(0)\n",
    "    else:\n",
    "         x.append(x[(i-1) ]- ((x[(i-1)])**3 - 5*(x[(i-1)])**2 + 7*x[(i-1)] -3)*((3*(x[(i-1)])**2 - 10*(x[(i-1)]) + 7))/((3*(x[(i-1)])**2 - 10*(x[(i-1)]) + 7)**2 - ((x[(i-1)])**3 - 5*(x[(i-1)])**2 + 7*x[(i-1)] -3) * (6*x[(i-1)] - 10)))\n",
    "         et.append((1 - x[(i)]) * 100 / 1)\n",
    "         print \"x = \",x[i]\n",
    "         print \"error = \",et[i-1],'%'\n",
    "         x[(i-1) ]= x[(i)]\n",
    "    \n"
   ]
  },
  {
   "cell_type": "markdown",
   "metadata": {},
   "source": [
    "## Ex6.10: Pg: 165"
   ]
  },
  {
   "cell_type": "code",
   "execution_count": 11,
   "metadata": {
    "collapsed": false
   },
   "outputs": [
    {
     "name": "stdout",
     "output_type": "stream",
     "text": [
      "x = 2.17944947177\n",
      "y = 2.86050598812\n",
      "x = 1.94053387891\n",
      "y = 3.04955067322\n",
      "x = 2.02045628588\n",
      "y = 2.98340474674\n",
      "Thus the approaching to the true value 0f x = 2 and y = 3\n"
     ]
    }
   ],
   "source": [
    "from __future__ import division\n",
    "from math import sqrt\n",
    "#u(x,y) = x**2 + x*y - 10\n",
    "#v(x,y) = y + 3*x*y**2 -57\n",
    "x=[]\n",
    "y=[]\n",
    "for i in range(0,4):\n",
    "    if i == 0:\n",
    "        x.append(1.5)\n",
    "        y.append(3.5)\n",
    "    else:\n",
    "        x.append(sqrt(10 - (x[(i-1)])*(y[(i-1)])))\n",
    "        y.append(sqrt((57 - y[(i-1)])/(3*x[(i)])))\n",
    "        print \"x =\",x[(i)]\n",
    "        print \"y =\",y[i]\n",
    "    \n",
    "\n",
    "print \"Thus the approaching to the true value 0f x = 2 and y = 3\""
   ]
  },
  {
   "cell_type": "markdown",
   "metadata": {},
   "source": [
    "## Ex6.11:Pg 168"
   ]
  },
  {
   "cell_type": "code",
   "execution_count": 12,
   "metadata": {
    "collapsed": false
   },
   "outputs": [
    {
     "name": "stdout",
     "output_type": "stream",
     "text": [
      "bracket: [1.9999999838762603, 2.9999994133889132]\n"
     ]
    }
   ],
   "source": [
    "from __future__ import division\n",
    "from numpy import mat\n",
    "from numpy.linalg import det\n",
    "def u(x,y):\n",
    "    z=x**2+x*y-10\n",
    "    return z\n",
    "def v(x,y):\n",
    "    z=y+3*x*y**2-57\n",
    "    return z\n",
    "x=1.5#\n",
    "y=3.5#\n",
    "e=[100,100]#\n",
    "while  e[0]>0.0001 and e[1]>0.0001:\n",
    "    J=mat([[2*x+y, x],[3*y**2, 1+6*x*y]])\n",
    "    deter=det(J)#\n",
    "    u1=u(x,y)#\n",
    "    v1=v(x,y)#\n",
    "    x=x-((u1*J[1,1]-v1*J[0,1])/deter)#\n",
    "    y=y-((v1*J[0,0]-u1*J[1,0])/deter)#\n",
    "    e[(0)]=abs(2-x)#\n",
    "    e[(1)]=abs(3-y)#\n",
    "\n",
    "bracket=[x ,y]#\n",
    "print \"bracket:\",bracket"
   ]
  }
 ],
 "metadata": {
  "kernelspec": {
   "display_name": "Python 2",
   "language": "python",
   "name": "python2"
  },
  "language_info": {
   "codemirror_mode": {
    "name": "ipython",
    "version": 2
   },
   "file_extension": ".py",
   "mimetype": "text/x-python",
   "name": "python",
   "nbconvert_exporter": "python",
   "pygments_lexer": "ipython2",
   "version": "2.7.9"
  }
 },
 "nbformat": 4,
 "nbformat_minor": 0
}
