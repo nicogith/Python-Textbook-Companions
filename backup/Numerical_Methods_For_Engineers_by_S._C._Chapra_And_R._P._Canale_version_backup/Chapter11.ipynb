{
 "cells": [
  {
   "cell_type": "markdown",
   "metadata": {},
   "source": [
    "# Chapter - 11 : Special Matrices and Gauss-Seidel"
   ]
  },
  {
   "cell_type": "markdown",
   "metadata": {},
   "source": [
    "## Ex:11.1 Pg: 297"
   ]
  },
  {
   "cell_type": "code",
   "execution_count": 1,
   "metadata": {
    "collapsed": false
   },
   "outputs": [
    {
     "name": "stdout",
     "output_type": "stream",
     "text": [
      "T1 =  151.165722019\n",
      "T2 =  267.578072919\n",
      "T3 =  236.681195836\n",
      "T4 =  214.451566586\n"
     ]
    }
   ],
   "source": [
    "from numpy import mat\n",
    "A = mat([[2.04,-1,0,0],[-1,2.04,-1,0],[0,-1,2.04,-1],[0,0,-1,2.04]])\n",
    "B = mat([[40.8],[0.8],[0.8],[200.8]])\n",
    "g = A[0,1]\n",
    "f1 =A[0,0]\n",
    "e2 = A[1,0]\n",
    "f2 = A[0,0] - e2 * A[1,0]\n",
    "e3 = A[1,0]/f2\n",
    "f3 = A[0,0] - e3 * A[1,0]\n",
    "e4 = A[1,0]/f3#\n",
    "f4 = A[0,0] - e4 * A[1,0]\n",
    "M = mat([[f1,g,0,0],[e2,f2,g,0],[0,e3,f3,g],[0,0,e4,f4]])\n",
    "L = mat([[1,0,0,0],[M[1,0],1,0,0],[0,M[2,1],1,0],[0,0,M[3,2],1]])\n",
    "U = mat([[M[0,0],g,0,0],[0,M[1,1],g,0],[0,0,M[2,2],g],[0,0,0,M[3,3]]])\n",
    "r1 = B[0,0]\n",
    "r2 = B[1,0] - e2*B[0,0]\n",
    "r3 = B[2,0] - e3*r2#\n",
    "r4= B[3,0] - e4*r3# \n",
    "N = mat([[r1],[r2],[r3],[r4]])\n",
    "T4 = r4/U[3,3]\n",
    "T3 = (r3 - g*T4)/U[2,2]\n",
    "T2 = (r2 - g*T3)/U[1,1]\n",
    "T1 = (r1 - g*T2)/U[0,0]\n",
    "print \"T1 = \",T1\n",
    "print \"T2 = \",T2\n",
    "print \"T3 = \",T3\n",
    "print \"T4 = \",T4"
   ]
  },
  {
   "cell_type": "markdown",
   "metadata": {},
   "source": [
    "## Ex:11.2 Pg: 299"
   ]
  },
  {
   "cell_type": "code",
   "execution_count": 2,
   "metadata": {
    "collapsed": false
   },
   "outputs": [
    {
     "name": "stdout",
     "output_type": "stream",
     "text": [
      "\n",
      "L = \n",
      "[[  2.44948974   0.           0.        ]\n",
      " [  6.12372436   4.18330013   0.        ]\n",
      " [ 22.45365598  20.91650066   6.11010093]]\n"
     ]
    }
   ],
   "source": [
    "from numpy import mat,sqrt\n",
    "A = mat([[6,15,55],[15,55,225],[55,225,979]])\n",
    "sl = 0\n",
    "l11 = sqrt(A[0,0])\n",
    "#for second row\n",
    "l21 = (A[1,0])/l11\n",
    "l22 = (A[1,1] - l21**2)**(0.5)\n",
    "#for third row\n",
    "l31 = (A[2,0])/l11#\n",
    "l32 = (A[2,1] - l21*l31)/l22#\n",
    "l33 = (A[2,2] - l31**2 - l32**2)**(0.5)#\n",
    "L = mat([[l11,0,0],[l21,l22,0],[l31,l32,l33]])\n",
    "print \"\\nL = \\n\",L"
   ]
  },
  {
   "cell_type": "markdown",
   "metadata": {},
   "source": [
    "## Ex:11.3 Pg: 301"
   ]
  },
  {
   "cell_type": "code",
   "execution_count": 11,
   "metadata": {
    "collapsed": false
   },
   "outputs": [
    {
     "name": "stdout",
     "output_type": "stream",
     "text": [
      "x through two iterations = [2.6166666666666667]\n",
      "y through two iterations = [-2.7945238095238096]\n",
      "z through two iterations = [7.005609523809525]\n",
      "error of x =  12.50234999 %\n",
      "error of y =  -11.7977361365 %\n",
      "error of z =  -0.075978454143 %\n"
     ]
    }
   ],
   "source": [
    "#3x - 0.1y - 0.2z = 7.85\n",
    "#0.1x + 7y - 0.3z = -19.3\n",
    "#0.3x - 0.2y + 10z = 71.4\n",
    "Y = 0# \n",
    "Z = 0#\n",
    "x=range(1,3)\n",
    "y=range(1,3)\n",
    "z=range(1,3)\n",
    "for i in range(1,3):\n",
    "    x[i-1]= (7.85 +0.1*Y+0.2*Z)/3#\n",
    "    X = x[i-1]\n",
    "    y[i-1]= (-19.3 - 0.1*X +0.3*Z)/7#\n",
    "    Y = y[i-1]#\n",
    "    z[i-1]= (71.4 - 0.3*X+0.2*Y)/10#\n",
    "    Z = z[i-1]\n",
    "    if i==2:\n",
    "        ex = (x[i-1] - x[(i-2)])*100/x[i-1]\n",
    "        ey = (y[i-1] - y[i-2])*100/y[i-1]\n",
    "        ez = (z[i-1] - z[i-2])*100/z[i-1]\n",
    "    \n",
    "\n",
    "print \"x through two iterations =\",x[0:1]\n",
    "print \"y through two iterations =\",y[0:1]\n",
    "print \"z through two iterations =\",z[0:1]\n",
    "print \"error of x = \",ex,\"%\"\n",
    "print \"error of y = \",ey,\"%\"\n",
    "print \"error of z = \",ez,\"%\""
   ]
  },
  {
   "cell_type": "markdown",
   "metadata": {},
   "source": [
    "## Ex:11.4 Pg: 307"
   ]
  },
  {
   "cell_type": "code",
   "execution_count": 15,
   "metadata": {
    "collapsed": false
   },
   "outputs": [
    {
     "name": "stdout",
     "output_type": "stream",
     "text": [
      "x =  0.999991\n",
      "y =  1.000044\n",
      "z =  0.99996\n"
     ]
    }
   ],
   "source": [
    "from __future__ import division\n",
    "\n",
    "from numpy import mat\n",
    "A = mat([[1,0.5,1/3],[1,2/3,1/2],[1,3/4,3/5]])\n",
    "B = mat([[1.833333],[2.166667],[2.35]])\n",
    "U = A**-1\n",
    "X = U*B#\n",
    "x = X[0,0]\n",
    "y = X[1,0]\n",
    "z = X[2,0]\n",
    "print \"x = \",x\n",
    "print \"y = \",y\n",
    "print \"z = \",z"
   ]
  },
  {
   "cell_type": "markdown",
   "metadata": {},
   "source": [
    "## Ex:11.5 Pg: 309"
   ]
  },
  {
   "cell_type": "code",
   "execution_count": 16,
   "metadata": {
    "collapsed": false
   },
   "outputs": [
    {
     "name": "stdout",
     "output_type": "stream",
     "text": [
      "x =  0.999991\n",
      "y =  1.000044\n",
      "z =  0.99996\n"
     ]
    }
   ],
   "source": [
    "from __future__ import division\n",
    "from numpy import mat\n",
    "A = mat([[1,0.5,1/3],[1,2/3,1/2],[1,3/4,3/5]])\n",
    "B = mat([[1.833333],[2.166667],[2.35]])\n",
    "U = A**-1\n",
    "X = U*B#\n",
    "x = X[0,0]\n",
    "y = X[1,0]\n",
    "z = X[2,0]\n",
    "print \"x = \",x\n",
    "print \"y = \",y\n",
    "print \"z = \",z"
   ]
  },
  {
   "cell_type": "markdown",
   "metadata": {},
   "source": [
    "## Ex:11.6 Pg: 310"
   ]
  },
  {
   "cell_type": "code",
   "execution_count": 18,
   "metadata": {
    "collapsed": false
   },
   "outputs": [
    {
     "name": "stdout",
     "output_type": "stream",
     "text": [
      "x =  0.999999\n",
      "y =  1.000008\n",
      "z =  0.99999\n"
     ]
    }
   ],
   "source": [
    "from numpy import mat\n",
    "A = mat([[1,0.5,1/3],[1/2,1/3,1/4],[1/3,1/4,1/5]])\n",
    "B = mat([[1.833333],[1.083333],[0.783333]])\n",
    "U = A**-1\n",
    "X = U*B#\n",
    "x = X[0,0]\n",
    "y = X[1,0]\n",
    "z = X[2,0]\n",
    "print \"x = \",x\n",
    "print \"y = \",y\n",
    "print \"z = \",z"
   ]
  }
 ],
 "metadata": {
  "kernelspec": {
   "display_name": "Python 2",
   "language": "python",
   "name": "python2"
  },
  "language_info": {
   "codemirror_mode": {
    "name": "ipython",
    "version": 2
   },
   "file_extension": ".py",
   "mimetype": "text/x-python",
   "name": "python",
   "nbconvert_exporter": "python",
   "pygments_lexer": "ipython2",
   "version": "2.7.9"
  }
 },
 "nbformat": 4,
 "nbformat_minor": 0
}
