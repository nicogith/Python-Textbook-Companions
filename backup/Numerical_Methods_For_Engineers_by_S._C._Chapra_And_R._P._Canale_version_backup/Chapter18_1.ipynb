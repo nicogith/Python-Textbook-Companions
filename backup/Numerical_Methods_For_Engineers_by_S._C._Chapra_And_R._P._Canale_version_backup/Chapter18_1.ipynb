{
 "cells": [
  {
   "cell_type": "markdown",
   "metadata": {},
   "source": [
    "# Chapter-18 : Interpolation"
   ]
  },
  {
   "cell_type": "markdown",
   "metadata": {},
   "source": [
    "## Ex:18.1 Pg: 490"
   ]
  },
  {
   "cell_type": "code",
   "execution_count": 1,
   "metadata": {
    "collapsed": false
   },
   "outputs": [
    {
     "name": "stdout",
     "output_type": "stream",
     "text": [
      "value of ln2 for interpolation region 1 to 6 = 0.3583518\n",
      "error by interpolation for interval[1,6] = 48.3007635246 %\n",
      "value of ln2 for interpolation region 1 to 6 = 0.462098\n",
      "error by interpolation for interval[1,6] = 33.3333506995 %\n"
     ]
    }
   ],
   "source": [
    "from math import log\n",
    "#f1(x) = f0(x) +(f(x1) - f(x0) *(x - x0)/ (x1 - x0)\n",
    "x = 2#\n",
    "x0 = 1#\n",
    "x1 = 6#\n",
    "m = 1.791759#\n",
    "n = 0#\n",
    "r = log(2)#\n",
    "f = 0 + (m - n) * (x - x0) / (x1 - x0)#\n",
    "print \"value of ln2 for interpolation region 1 to 6 =\",f\n",
    "e = (r - f) * 100/r#\n",
    "print \"error by interpolation for interval[1,6] =\",e,\"%\"\n",
    "x2 = 4#\n",
    "p = 1.386294#\n",
    "f = 0 + (p - n) * (x - x0) / (x2 - x0)#\n",
    "print \"value of ln2 for interpolation region 1 to 6 =\",f\n",
    "e = (r - f) * 100/r#\n",
    "print \"error by interpolation for interval[1,6] =\",e,\"%\""
   ]
  },
  {
   "cell_type": "markdown",
   "metadata": {},
   "source": [
    "## Ex:18.2 Pg: 492"
   ]
  },
  {
   "cell_type": "code",
   "execution_count": 2,
   "metadata": {
    "collapsed": false
   },
   "outputs": [
    {
     "name": "stdout",
     "output_type": "stream",
     "text": [
      "b0 =  0\n",
      "b1 =  0.462098\n",
      "b2 =  -0.0518731\n",
      "f(2) =  0.5658442\n",
      "error =  18.3659378744 %\n"
     ]
    }
   ],
   "source": [
    "from math import log\n",
    "x = 2#\n",
    "x0 = 1#\n",
    "m = 0#\n",
    "x1 = 4#\n",
    "n = 1.386294#\n",
    "x2 = 6#\n",
    "p = 1.791759#\n",
    "b0 = m#\n",
    "b1 = (n - m)/(x1 - x0)#\n",
    "b2 = ((p - n)/(x2 - x1) - (n - m)/(x1 - x0))/(x2 - x0)#\n",
    "print \"b0 = \",b0\n",
    "print \"b1 = \",b1\n",
    "print \"b2 = \",b2\n",
    "f = b0 + b1*(x - x0) + b2*(x - x0)*(x - x1)#\n",
    "print \"f(2) = \",f\n",
    "r = log(2)#\n",
    "e = (r -f)*100/r#\n",
    "print \"error = \",e,\"%\""
   ]
  },
  {
   "cell_type": "markdown",
   "metadata": {},
   "source": [
    "## Ex:18.3 Pg: 494"
   ]
  },
  {
   "cell_type": "code",
   "execution_count": 3,
   "metadata": {
    "collapsed": false
   },
   "outputs": [
    {
     "name": "stdout",
     "output_type": "stream",
     "text": [
      "b0 =  0\n",
      "b1 =  0.462098\n",
      "b2 =  -0.0518731\n",
      "b3 =  0.0078654\n",
      "f(2) =  0.6287674\n",
      "error =  9.28803901474 %\n"
     ]
    }
   ],
   "source": [
    "from math import log\n",
    "x = 2#\n",
    "x0 = 1#\n",
    "m = 0#\n",
    "x1 = 4#\n",
    "n = 1.386294#\n",
    "x3 = 5#\n",
    "p = 1.609438#\n",
    "x2 = 6#\n",
    "o = 1.791759#\n",
    "f01 = (m - n)/(x0 - x1)#\n",
    "f12 = (n - o)/(x1 - x2)#\n",
    "f23 = (p - o)/(x3 - x2)#\n",
    "f210 =  (f12 - f01)/(x2 - x0)#\n",
    "f321 = (f23 - f12)/(x3 - x1)#\n",
    "f0123 = (f321 - f210) / (x3 - x0)#\n",
    "b0 = m#\n",
    "b1 = f01#\n",
    "b2 = f210#\n",
    "b3 = f0123#\n",
    "print \"b0 = \",b0\n",
    "print \"b1 = \",b1\n",
    "print \"b2 = \",b2\n",
    "print \"b3 = \",b3\n",
    "f = b0 + b1*(x - x0) + b2*(x - x0)*(x - x1) + b3*(x - x0)*(x - x1)*(x - x2)#\n",
    "print \"f(2) = \",f\n",
    "r = log(2)#\n",
    "e = (r -f)*100/r#\n",
    "print \"error = \",e,\"%\""
   ]
  },
  {
   "cell_type": "markdown",
   "metadata": {},
   "source": [
    "## Ex:18.4 Pg: 496"
   ]
  },
  {
   "cell_type": "code",
   "execution_count": 5,
   "metadata": {
    "collapsed": false
   },
   "outputs": [
    {
     "name": "stdout",
     "output_type": "stream",
     "text": [
      "error R2 =  0.0629232\n"
     ]
    }
   ],
   "source": [
    "x = 2#\n",
    "x0 = 1#\n",
    "m = 0#\n",
    "x1 = 4#\n",
    "n = 1.386294#\n",
    "x3 = 5#\n",
    "p = 1.609438#\n",
    "x2 = 6#\n",
    "o = 1.791759#\n",
    "f01 = (m - n)/(x0 - x1)#\n",
    "f12 = (n - o)/(x1 - x2)#\n",
    "f23 = (p - o)/(x3 - x2)#\n",
    "f210 =  (f12 - f01)/(x2 - x0)#\n",
    "f321 = (f23 - f12)/(x3 - x1)#\n",
    "f0123 = (f321 - f210) / (x3 - x0)#\n",
    "b0 = m#\n",
    "b1 = f01#\n",
    "b2 = f210#\n",
    "b3 = f0123#\n",
    "R2 = b3 * (x - x0) * (x - x1)*(x-x2)#\n",
    "print \"error R2 = \",R2"
   ]
  },
  {
   "cell_type": "markdown",
   "metadata": {},
   "source": [
    "## Ex:18.6 Pg: 501"
   ]
  },
  {
   "cell_type": "code",
   "execution_count": 6,
   "metadata": {
    "collapsed": false
   },
   "outputs": [
    {
     "name": "stdout",
     "output_type": "stream",
     "text": [
      "first order polynomial f1(2) =  0.462098\n",
      "second order polynomial f2(2) =  0.5658442\n"
     ]
    }
   ],
   "source": [
    "x = 2#\n",
    "x0 = 1#\n",
    "m = 0#\n",
    "x1 = 4#\n",
    "n = 1.386294#\n",
    "x2 = 6#\n",
    "p = 1.791759#\n",
    "f1 = (x - x1)*m/((x0 - x)) + (x- x0) * n/(x1 - x0)#\n",
    "print \"first order polynomial f1(2) = \",f1\n",
    "f2 = (x - x1)*(x - x2)*m/((x0 - x1)*(x0 - x2)) + (x - x0)*(x - x2)*n/((x1-x0)*(x1-x2)) + (x - x0)*(x - x1)*p/((x2 - x0)*(x2 - x1))#\n",
    "print \"second order polynomial f2(2) = \",f2"
   ]
  }
 ],
 "metadata": {
  "kernelspec": {
   "display_name": "Python 2",
   "language": "python",
   "name": "python2"
  },
  "language_info": {
   "codemirror_mode": {
    "name": "ipython",
    "version": 2
   },
   "file_extension": ".py",
   "mimetype": "text/x-python",
   "name": "python",
   "nbconvert_exporter": "python",
   "pygments_lexer": "ipython2",
   "version": "2.7.9"
  }
 },
 "nbformat": 4,
 "nbformat_minor": 0
}
