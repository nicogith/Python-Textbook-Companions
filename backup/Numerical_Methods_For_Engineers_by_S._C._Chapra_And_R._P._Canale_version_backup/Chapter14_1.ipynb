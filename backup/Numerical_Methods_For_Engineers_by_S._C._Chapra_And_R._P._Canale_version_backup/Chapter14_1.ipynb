{
 "cells": [
  {
   "cell_type": "markdown",
   "metadata": {},
   "source": [
    "# Chapter-14 : Multidimensional Unconstrained Optimization"
   ]
  },
  {
   "cell_type": "markdown",
   "metadata": {},
   "source": [
    "## Ex:14.1 Pg: 368"
   ]
  },
  {
   "cell_type": "code",
   "execution_count": 7,
   "metadata": {
    "collapsed": false
   },
   "outputs": [
    {
     "name": "stdout",
     "output_type": "stream",
     "text": [
      "Iteration: 1\n",
      "x: 1.53606983054\n",
      "y: 1.86168445446\n",
      "function value: -13.5786300816\n",
      "------------------------------------------\n",
      "Iteration: 1001\n",
      "x: 1.76453990766\n",
      "y: 1.86004762993\n",
      "function value: -16.155728181\n",
      "------------------------------------------\n",
      "Iteration: 2001\n",
      "x: -0.735800459375\n",
      "y: 1.48176151402\n",
      "function value: 1.11970176233\n",
      "------------------------------------------\n",
      "Iteration: 3001\n",
      "x: -0.493690866305\n",
      "y: 2.74840585243\n",
      "function value: -2.08537362139\n",
      "------------------------------------------\n",
      "Iteration: 4001\n",
      "x: 0.191618544017\n",
      "y: 2.12536130424\n",
      "function value: -3.47137052343\n",
      "------------------------------------------\n",
      "Iteration: 5001\n",
      "x: 0.556097851317\n",
      "y: 2.75235702552\n",
      "function value: -9.05885931809\n",
      "------------------------------------------\n",
      "Iteration: 6001\n",
      "x: -1.3315420382\n",
      "y: 1.98026194153\n",
      "function value: 1.11796226726\n",
      "------------------------------------------\n",
      "Iteration: 7001\n",
      "x: -1.30334156994\n",
      "y: 2.2803362443\n",
      "function value: 0.930459972575\n",
      "------------------------------------------\n",
      "Iteration: 8001\n",
      "x: -1.42505981694\n",
      "y: 1.24322307994\n",
      "function value: 0.604422816099\n",
      "------------------------------------------\n",
      "Iteration: 9001\n",
      "x: -1.04901290775\n",
      "y: 1.83044616216\n",
      "function value: 1.16839305819\n",
      "------------------------------------------\n"
     ]
    }
   ],
   "source": [
    "from numpy.random import rand\n",
    "def f(x,y):\n",
    "    z=y-x-(2*(x**2))-(2*x*y)-(y**2)\n",
    "    return z\n",
    "x1=-2#\n",
    "x2=2#\n",
    "y1=1#\n",
    "y2=3#\n",
    "fmax=-1*10**(-15)#\n",
    "n=10000#\n",
    "for j in range(0,n):\n",
    "    r=rand(1,2)\n",
    "    x=x1+(x2-x1)*r[0,0]\n",
    "    y=y1+(y2-y1)*r[0,1]\n",
    "    fn=f(x,y)#\n",
    "    if fn>fmax:\n",
    "        fmax=fn#\n",
    "        xmax=x#\n",
    "        ymax=y#\n",
    "    \n",
    "    if j%1000==0:\n",
    "    \n",
    "        print \"Iteration:\",(j+1)\n",
    "        print \"x:\",x\n",
    "        print \"y:\",y\n",
    "        print \"function value:\",fn\n",
    "        print \"------------------------------------------\"\n",
    "    \n"
   ]
  },
  {
   "cell_type": "markdown",
   "metadata": {},
   "source": [
    "## Ex:14.2 Pg: 374"
   ]
  },
  {
   "cell_type": "code",
   "execution_count": 9,
   "metadata": {
    "collapsed": false
   },
   "outputs": [
    {
     "name": "stdout",
     "output_type": "stream",
     "text": [
      "Elevation: 8\n",
      "Theta: 1.107\n",
      "slope: 8.94\n"
     ]
    }
   ],
   "source": [
    "from math import atan\n",
    "def f(x,y):\n",
    "    z=x*y*y\n",
    "    return z\n",
    "p1=[2, 2]\n",
    "elevation=f(p1[0],p1[1])\n",
    "dfx=p1[0]*p1[0]\n",
    "dfy=2*p1[0]*p1[1]\n",
    "theta=atan(dfy/dfx)\n",
    "slope=(dfx**2 + dfy**2)**0.5#\n",
    "print \"Elevation:\",elevation\n",
    "print \"Theta: %0.3f\"%theta\n",
    "print \"slope: %0.2f\"%slope"
   ]
  },
  {
   "cell_type": "markdown",
   "metadata": {},
   "source": [
    "## Ex:14.3 Pg: 380"
   ]
  },
  {
   "cell_type": "code",
   "execution_count": 11,
   "metadata": {
    "collapsed": false
   },
   "outputs": [
    {
     "name": "stdout",
     "output_type": "stream",
     "text": [
      "The final equation is= 180*h**2 + 72*h - 7\n"
     ]
    }
   ],
   "source": [
    "def f(x,y):\n",
    "    z=2*x*y + 2*x - x**2 - 2*y**2\n",
    "    return z\n",
    "x=-1#\n",
    "y=1#\n",
    "dfx=2*y+2-2*x#\n",
    "dfy=2*x-4*y#\n",
    "#the function can thus be expressed along h axis as\n",
    "#f((x+dfx*h),(y+dfy*h))\n",
    "print \"The final equation is=\",\"180*h**2 + 72*h - 7\""
   ]
  },
  {
   "cell_type": "markdown",
   "metadata": {},
   "source": [
    "## Ex:14.4 Pg: 381"
   ]
  },
  {
   "cell_type": "code",
   "execution_count": 14,
   "metadata": {
    "collapsed": false
   },
   "outputs": [
    {
     "name": "stdout",
     "output_type": "stream",
     "text": [
      "The final values are: [-1, 1]\n"
     ]
    }
   ],
   "source": [
    "def f(x,y):\n",
    "    z=2*x*y + 2*x - x**2 - 2*y**2\n",
    "    return z\n",
    "x=-1#\n",
    "y=1#\n",
    "d2fx=-2#\n",
    "d2fy=-4#\n",
    "d2fxy=2#\n",
    "\n",
    "modH=d2fx*d2fy-(d2fxy)**2#\n",
    "\n",
    "for i in range(0,25):\n",
    "    dfx=2*y+2-2*x#\n",
    "    dfy=2*x - 4*y#\n",
    "    #the function can thus be expressed along h axis as\n",
    "    #f((x+dfx*h),(y+dfy*h))\n",
    "    def g(h):\n",
    "        d=2*(x+dfx*h)*(y+dfy*h) + 2*(x+dfx*h) - (x+dfx*h)**2 - 2*(y+dfy*h)**2\n",
    "        return d\n",
    "    #2*dfx*(y+dfy*h)+2*dfy*(x+dfx*h)+2*dfx-2*(x+dfx*h)*dfx-4*(y+dfy*h)*dfy=g'(h)=0\n",
    "    #2*dfx*y + 2*dfx*dfy*h + 2*dfy*x + 2*dfy*dfx*h + 2*dfx - 2*x*dfx - 2*dfx*dfx*h - 4*y*dfy - 4*dfy*dfy*h=0\n",
    "    #h(2*dfx*dfy+2*dfy*dfx-2*dfx*dfx-4*dfy*dfy)=-(2*dfx*y+2*dfy*x-2*x*dfx-4*y*dfy)\n",
    "    h=(2*dfx*y+2*dfy*x-2*x*dfx-4*y*dfy+2*dfx)/(-1*(2*dfx*dfy+2*dfy*dfx-2*dfx*dfx-4*dfy*dfy))#\n",
    "    x=x+dfx*h#\n",
    "    y=y+dfy*h#\n",
    "print \"The final values are:\",[x, y]"
   ]
  }
 ],
 "metadata": {
  "kernelspec": {
   "display_name": "Python 2",
   "language": "python",
   "name": "python2"
  },
  "language_info": {
   "codemirror_mode": {
    "name": "ipython",
    "version": 2
   },
   "file_extension": ".py",
   "mimetype": "text/x-python",
   "name": "python",
   "nbconvert_exporter": "python",
   "pygments_lexer": "ipython2",
   "version": "2.7.9"
  }
 },
 "nbformat": 4,
 "nbformat_minor": 0
}
