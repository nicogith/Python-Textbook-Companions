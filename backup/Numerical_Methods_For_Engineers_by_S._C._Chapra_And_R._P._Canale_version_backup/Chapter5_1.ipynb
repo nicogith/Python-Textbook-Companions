{
 "cells": [
  {
   "cell_type": "markdown",
   "metadata": {},
   "source": [
    "# Chapter 5 : Bracketing Methods"
   ]
  },
  {
   "cell_type": "markdown",
   "metadata": {},
   "source": [
    "## Ex5.1: Pg:120"
   ]
  },
  {
   "cell_type": "code",
   "execution_count": 6,
   "metadata": {
    "collapsed": false
   },
   "outputs": [
    {
     "name": "stdout",
     "output_type": "stream",
     "text": [
      "For various values of c and f(c) is found as:\n",
      "[4, 34.114844174677984]\n",
      "[8, 17.653427509399428]\n",
      "[12, 6.066935998372109]\n",
      "[16, -2.2687619693477643]\n",
      "[20, -8.400628721768179]\n"
     ]
    },
    {
     "data": {
      "image/png": "[encoded data removed]",
      "text/plain": [
       "<matplotlib.figure.Figure at 0x7fa7dfe0c990>"
      ]
     },
     "metadata": {},
     "output_type": "display_data"
    }
   ],
   "source": [
    "from numpy import arange\n",
    "from math import exp\n",
    "%matplotlib inline\n",
    "from matplotlib.pyplot import plot, title, xlabel, ylabel, show\n",
    "m=68.1##kg\n",
    "v=40##m/s\n",
    "t=10##s\n",
    "g=9.8##m/s**2\n",
    "def f(c):\n",
    "    y=g*m*(1-exp(-c*t/m))/c - v#\n",
    "    return y\n",
    "print \"For various values of c and f(c) is found as:\"\n",
    "i=0#\n",
    "Fc=[]\n",
    "for c in arange(4,21,4):\n",
    "    i=i+1#\n",
    "    bracket=[c, f(c)]\n",
    "    print bracket\n",
    "    Fc.append(f(c))\n",
    "\n",
    "c=arange(4,21,4)\n",
    "plot(c,Fc)\n",
    "title('f(c) vs c')\n",
    "xlabel('c')\n",
    "ylabel('f(c) (m/s)')\n",
    "show()"
   ]
  },
  {
   "cell_type": "markdown",
   "metadata": {},
   "source": [
    "## Ex5.2: Pg:123"
   ]
  },
  {
   "cell_type": "code",
   "execution_count": 3,
   "metadata": {
    "collapsed": false
   },
   "outputs": [
    {
     "data": {
      "image/png": "[encoded data removed]",
      "text/plain": [
       "<matplotlib.figure.Figure at 0x7f01da57e590>"
      ]
     },
     "metadata": {},
     "output_type": "display_data"
    },
    {
     "name": "stdout",
     "output_type": "stream",
     "text": [
      "0.55 \t0.60 \t0.65 \t0.70 \t0.75 \t0.80 \t0.85 \t0.90 \t0.95 \t"
     ]
    }
   ],
   "source": [
    "from numpy import arange\n",
    "from math import sin,cos\n",
    "%matplotlib inline\n",
    "from matplotlib.pyplot import plot, title, xlabel, ylabel, show\n",
    "\n",
    "def f(x):\n",
    "    y=sin(10*x)+cos(3*x)#\n",
    "    return y\n",
    "count=1#\n",
    "func=[]\n",
    "val=[]\n",
    "for i in arange(0.55,1,0.05):\n",
    "    val.append(i)\n",
    "    func.append(f(i))\n",
    "    count=count+1#\n",
    "\n",
    "plot(val,func)\n",
    "title(\"x vs f(x)\")\n",
    "xlabel('x')\n",
    "ylabel('f(x)')\n",
    "show()\n",
    "for v in val:\n",
    "    print '%0.2f'%v,'\\t',"
   ]
  },
  {
   "cell_type": "markdown",
   "metadata": {},
   "source": [
    "## Ex5.3: Pg:125"
   ]
  },
  {
   "cell_type": "code",
   "execution_count": null,
   "metadata": {
    "collapsed": false
   },
   "outputs": [
    {
     "name": "stdout",
     "output_type": "stream",
     "text": [
      "enter the tolerable true percent error=1.24\n"
     ]
    }
   ],
   "source": [
    "from math import exp\n",
    "m=68.1##kg\n",
    "v=40##m/s\n",
    "t=10##s\n",
    "g=9.8##m/s**2\n",
    "def f(c):\n",
    "    y=g*m*(1-exp(-c*t/m))/c - v#\n",
    "    return y\n",
    "x1=12#\n",
    "x2=16#\n",
    "xt=14.7802##true value\n",
    "e=input(\"enter the tolerable true percent error=\")\n",
    "xr=(x1+x2)/2#\n",
    "etemp=abs(xr-xt)/xt*100##error\n",
    "while etemp>e:\n",
    "    if f(x1)*f(xr)>0:\n",
    "        x1=xr#\n",
    "        xr=(x1+x2)/2#\n",
    "        etemp=abs(xr-xt)/xt*100#\n",
    "    \n",
    "    if f(x1)*f(xr)<0:\n",
    "        x2=xr#\n",
    "        xr=(x1+x2)/2#\n",
    "        etemp=abs(xr-xt)/xt*100#\n",
    "    \n",
    "    if f(x1)*f(xr)==0:\n",
    "        break\n",
    "    \n",
    "print \"The result is =\",xr"
   ]
  },
  {
   "cell_type": "markdown",
   "metadata": {},
   "source": [
    "## Ex5.4: Pg:126"
   ]
  },
  {
   "cell_type": "code",
   "execution_count": 2,
   "metadata": {
    "collapsed": false
   },
   "outputs": [
    {
     "name": "stdout",
     "output_type": "stream",
     "text": [
      "enter the tolerable approximate error=21.03\n",
      "Iteration: 1\n",
      "xl: 12\n",
      "xu: 16\n",
      "xr: 14\n",
      "et: 5.27868364433 %\n",
      "----------------------------------------\n",
      "Iteration: 2\n",
      "xl: 14\n",
      "xu: 15\n",
      "xr: 14\n",
      "et(%): 5.27868364433 %\n",
      "ea 0 %\n",
      "----------------------------------------\n",
      "The result is= 14\n"
     ]
    }
   ],
   "source": [
    "from math import exp\n",
    "m=68.1##kg\n",
    "v=40##m/s\n",
    "t=10##s\n",
    "g=9.8##m/s**2\n",
    "def f(c):\n",
    "    y=g*m*(1-exp(-c*t/m))/c - v#\n",
    "    return y\n",
    "x1=12#\n",
    "x2=16#\n",
    "xt=14.7802##true value\n",
    "e=input(\"enter the tolerable approximate error=\")\n",
    "xr=(x1+x2)/2#\n",
    "i=1#\n",
    "et=abs(xr-xt)/xt*100##error\n",
    "print \"Iteration:\",i\n",
    "print \"xl:\",x1\n",
    "print \"xu:\",x2\n",
    "print \"xr:\",xr\n",
    "print \"et:\",et,\"%\"\n",
    "print \"----------------------------------------\"\n",
    "etemp=100#\n",
    "while etemp>e:\n",
    "    if f(x1)*f(xr)>0:\n",
    "        x1=xr\n",
    "        xr=(x1+x2)/2\n",
    "        etemp=abs(xr-x1)/xr*100\n",
    "        et=abs(xr-xt)/xt*100\n",
    "    \n",
    "    if f(x1)*f(xr)<0:\n",
    "            x2=xr\n",
    "            xr=(x1+x2)/2\n",
    "            etemp=abs(xr-x2)/xr*100\n",
    "            et=abs(xr-xt)/xt*100\n",
    "    \n",
    "    if f(x1)*f(xr)==0:\n",
    "        break#\n",
    "    \n",
    "    i=i+1#\n",
    "    print \"Iteration:\",i\n",
    "    print \"xl:\",x1\n",
    "    print \"xu:\",x2\n",
    "    print \"xr:\",xr\n",
    "    print \"et(%):\",et,\"%\"\n",
    "    print \"ea\",etemp,\"%\"\n",
    "    print \"----------------------------------------\"\n",
    "\n",
    "\n",
    "print \"The result is=\",xr"
   ]
  },
  {
   "cell_type": "markdown",
   "metadata": {},
   "source": [
    "## Ex5.5: Pg:133"
   ]
  },
  {
   "cell_type": "code",
   "execution_count": 3,
   "metadata": {
    "collapsed": false
   },
   "outputs": [
    {
     "name": "stdout",
     "output_type": "stream",
     "text": [
      "enter the tolerable true percent error=24.36\n",
      "The result is= 14.9113031791\n"
     ]
    }
   ],
   "source": [
    "from math import exp\n",
    "m=68.1##kg\n",
    "v=40##m/s\n",
    "t=10##s\n",
    "g=9.8##m/s**2\n",
    "def f(c):\n",
    "    y=g*m*(1-exp(-c*t/m))/c - v#\n",
    "    return y\n",
    "x1=12#\n",
    "x2=16#\n",
    "xt=14.7802##true value\n",
    "e=input(\"enter the tolerable true percent error=\")\n",
    "xr=x1-(f(x1)*(x2-x1))/(f(x2)-f(x1))#\n",
    "etemp=abs(xr-xt)/xt*100##error\n",
    "while etemp>e:\n",
    "    if f(x1)*f(xr)>0:\n",
    "        x1=xr\n",
    "        xr=x1-(f(x1)*(x2-x1))/(f(x2)-f(x1))\n",
    "        etemp=abs(xr-xt)/xt*100\n",
    "    \n",
    "    if f(x1)*f(xr)<0:\n",
    "            x2=xr\n",
    "            xr=x1-(f(x1)*(x2-x1))/(f(x2)-f(x1))\n",
    "            etemp=abs(xr-xt)/xt*100\n",
    "    \n",
    "    if f(x1)*f(xr)==0:\n",
    "        break\n",
    "    \n",
    "\n",
    "print \"The result is=\",xr"
   ]
  },
  {
   "cell_type": "markdown",
   "metadata": {},
   "source": [
    "## Ex5.6: Pg:135"
   ]
  },
  {
   "cell_type": "code",
   "execution_count": 1,
   "metadata": {
    "collapsed": false
   },
   "outputs": [
    {
     "name": "stdout",
     "output_type": "stream",
     "text": [
      "BISECTION METHOD:\n",
      "Iteration: 1\n",
      "xl: 0\n",
      "xu: 1.3\n",
      "xr: 0.65\n",
      "et(%): 35.0 %\n",
      "----------------------------------------\n",
      "Iteration: 2\n",
      "xl: 0.65\n",
      "xu: 1.3\n",
      "xr: 0.975\n",
      "et(%): 2.5 %\n",
      "ea(%) 33.3333333333 %\n",
      "----------------------------------------\n",
      "Iteration: 3\n",
      "xl: 0.975\n",
      "xu: 1.3\n",
      "xr: 1.1375\n",
      "et(%): 13.75 %\n",
      "ea(%) 14.2857142857 %\n",
      "----------------------------------------\n",
      "Iteration: 4\n",
      "xl: 0.975\n",
      "xu: 1.1375\n",
      "xr: 1.05625\n",
      "et(%): 5.625 %\n",
      "ea(%) 7.69230769231 %\n",
      "----------------------------------------\n",
      "Iteration: 5\n",
      "xl: 0.975\n",
      "xu: 1.05625\n",
      "xr: 1.015625\n",
      "et(%): 1.5625 %\n",
      "ea(%) 4.0 %\n",
      "----------------------------------------\n",
      "FALSE POSITION METHOD:\n",
      "Iteration: 1\n",
      "xl: 0\n",
      "xu: 1.3\n",
      "xr: 0.0942995953723\n",
      "et(%): 90.5700404628 %\n",
      "----------------------------------------\n",
      "Iteration: 2\n",
      "xl: 0.0942995953723\n",
      "xu: 1.3\n",
      "xr: 0.181758872519\n",
      "et(%): 81.8241127481 %\n",
      "ea(%) 48.1182986748 %\n",
      "----------------------------------------\n",
      "Iteration: 3\n",
      "xl: 0.181758872519\n",
      "xu: 1.3\n",
      "xr: 0.26287401252\n",
      "et(%): 73.712598748 %\n",
      "ea(%) 30.8570403075 %\n",
      "----------------------------------------\n",
      "Iteration: 4\n",
      "xl: 0.26287401252\n",
      "xu: 1.3\n",
      "xr: 0.338105103322\n",
      "et(%): 66.1894896678 %\n",
      "ea(%) 22.2508001396 %\n",
      "----------------------------------------\n",
      "Iteration: 5\n",
      "xl: 0.338105103322\n",
      "xu: 1.3\n",
      "xr: 0.407877916593\n",
      "et(%): 59.2122083407 %\n",
      "ea(%) 17.1062983388 %\n",
      "----------------------------------------\n"
     ]
    }
   ],
   "source": [
    "def f(x):\n",
    "    y=x**10 - 1#\n",
    "    return y\n",
    "x1=0#\n",
    "x2=1.3#\n",
    "xt=1#\n",
    "\n",
    "#using bisection method\n",
    "print \"BISECTION METHOD:\"\n",
    "xr=(x1+x2)/2#\n",
    "et=abs(xr-xt)/xt*100##error\n",
    "print \"Iteration:\",1\n",
    "print \"xl:\",x1\n",
    "print \"xu:\",x2\n",
    "print \"xr:\",xr\n",
    "print \"et(%):\",et,\"%\"\n",
    "print \"----------------------------------------\"\n",
    "for i in range(2,6):\n",
    "    if f(x1)*f(xr)>0:\n",
    "        x1=xr\n",
    "        xr=(x1+x2)/2\n",
    "        ea=abs(xr-x1)/xr*100#\n",
    "        et=abs(xr-xt)/xt*100#\n",
    "    else:\n",
    "        if f(x1)*f(xr)<0:\n",
    "            x2=xr#\n",
    "            xr=(x1+x2)/2#\n",
    "            ea=abs(xr-x2)/xr*100#\n",
    "            et=abs(xr-xt)/xt*100#\n",
    "        \n",
    "    \n",
    "    if f(x1)*f(xr)==0:\n",
    "        break\n",
    "    \n",
    "    print \"Iteration:\",i\n",
    "    print \"xl:\",x1\n",
    "    print \"xu:\",x2\n",
    "    print \"xr:\",xr\n",
    "    print \"et(%):\",et,\"%\"\n",
    "    print \"ea(%)\",ea,\"%\"\n",
    "    print \"----------------------------------------\"\n",
    "\n",
    "\n",
    "#using false position method\n",
    "print \"FALSE POSITION METHOD:\"\n",
    "x1=0#\n",
    "x2=1.3#\n",
    "xt=1#\n",
    "xr=x1-(f(x1)*(x2-x1))/(f(x2)-f(x1))##\n",
    "et=abs(xr-xt)/xt*100##error\n",
    "print \"Iteration:\",1\n",
    "print \"xl:\",x1\n",
    "print \"xu:\",x2\n",
    "print \"xr:\",xr\n",
    "print \"et(%):\",et,\"%\"\n",
    "print \"----------------------------------------\"\n",
    "for i in range(2,6):\n",
    "    if f(x1)*f(xr)>0:\n",
    "        x1=xr#\n",
    "        xr=x1-(f(x1)*(x2-x1))/(f(x2)-f(x1))#\n",
    "        ea=abs(xr-x1)/xr*100#\n",
    "        et=abs(xr-xt)/xt*100#\n",
    "    \n",
    "    elif f(x1)*f(xr)<0:\n",
    "            x2=xr#\n",
    "            xr=x1-(f(x1)*(x2-x1))/(f(x2)-f(x1))#\n",
    "            ea=abs(xr-x2)/xr*100#\n",
    "            et=abs(xr-xt)/xt*100#\n",
    "        \n",
    "    \n",
    "    elif f(x1)*f(xr)==0:\n",
    "        break#\n",
    "    \n",
    "    print \"Iteration:\",i\n",
    "    print \"xl:\",x1\n",
    "    print \"xu:\",x2\n",
    "    print \"xr:\",xr\n",
    "    print \"et(%):\",et,'%'\n",
    "    print \"ea(%)\",ea,\"%\"\n",
    "    print \"----------------------------------------\""
   ]
  }
 ],
 "metadata": {
  "kernelspec": {
   "display_name": "Python 2",
   "language": "python",
   "name": "python2"
  },
  "language_info": {
   "codemirror_mode": {
    "name": "ipython",
    "version": 2
   },
   "file_extension": ".py",
   "mimetype": "text/x-python",
   "name": "python",
   "nbconvert_exporter": "python",
   "pygments_lexer": "ipython2",
   "version": "2.7.9"
  }
 },
 "nbformat": 4,
 "nbformat_minor": 0
}
