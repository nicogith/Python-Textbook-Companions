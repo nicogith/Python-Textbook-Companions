{
 "cells": [
  {
   "cell_type": "markdown",
   "metadata": {},
   "source": [
    "# Chapter-15 : Constrained Optimization"
   ]
  },
  {
   "cell_type": "markdown",
   "metadata": {},
   "source": [
    "## Ex:15.1 Pg: 388"
   ]
  },
  {
   "cell_type": "code",
   "execution_count": 3,
   "metadata": {
    "collapsed": false
   },
   "outputs": [
    {
     "name": "stdout",
     "output_type": "stream",
     "text": [
      "Maximize z=150*x1+175*x2\n",
      "subject to\n",
      "7*x1+11*x2<=77 (Material constraint)\n",
      "10*x1+8*x2<=80 (Time constraint)\n",
      "x1<=9 (Regular storage constraint)\n",
      "x2<=6 (Premium storage constraint)\n",
      "x1,x2>=0 (Positivity constraint)\n"
     ]
    }
   ],
   "source": [
    "regular=[7, 10, 9 ,150]#\n",
    "premium=[11, 8, 6, 175]#\n",
    "res_avail=[77, 80]#\n",
    "#total profit(to be maximized)=z=150*x1+175*x2\n",
    "#total gas used=7*x1+11*x2 (has to be less than 77 m**3/week)\n",
    "#similarly other constraints are developed\n",
    "print \"Maximize z=150*x1+175*x2\"\n",
    "print \"subject to\"\n",
    "print \"7*x1+11*x2<=77 (Material constraint)\"\n",
    "print \"10*x1+8*x2<=80 (Time constraint)\"\n",
    "print \"x1<=9 (Regular storage constraint)\"\n",
    "print \"x2<=6 (Premium storage constraint)\"\n",
    "print \"x1,x2>=0 (Positivity constraint)\""
   ]
  },
  {
   "cell_type": "markdown",
   "metadata": {},
   "source": [
    "## Ex:15.2 Pg: 389"
   ]
  },
  {
   "cell_type": "code",
   "execution_count": 6,
   "metadata": {
    "collapsed": false
   },
   "outputs": [
    {
     "data": {
      "image/png": "[encoded data removed]",
      "text/plain": [
       "<matplotlib.figure.Figure at 0x7fa838951c50>"
      ]
     },
     "metadata": {},
     "output_type": "display_data"
    }
   ],
   "source": [
    "%matplotlib inline\n",
    "from matplotlib.pyplot import plot,xlabel,ylabel,title ,show\n",
    "x21=[];x22=[];x23=[];x24=[];x25=[];x26=[]\n",
    "\n",
    "for x1 in range(0,9):\n",
    "    x21.append(-(7/11)*x1+7)\n",
    "    x22.append((80-10*x1)/8)\n",
    "    x23.append(6)\n",
    "    x24.append(-150*x1/175)\n",
    "    x25.append((600-150*x1)/175)\n",
    "    x26.append((1400-150*x1)/175)\n",
    "\n",
    "x1=range(0,9)\n",
    "\n",
    "plot(x1,x24)\n",
    "plot(x1,x25)\n",
    "plot(x1,x26)\n",
    "#h1=legend(['Z=0'#'Z=600'#'Z=1400'])\n",
    "plot(x1,x21)#\n",
    "plot(x1,x22)#\n",
    "plot(x1,x23)#\n",
    "title('x2 vs x1')\n",
    "xlabel('x1 (tonnes)')\n",
    "ylabel('x2 (tonnes)')\n",
    "show()"
   ]
  },
  {
   "cell_type": "markdown",
   "metadata": {},
   "source": [
    "## Ex:15.3 Pg: 399"
   ]
  },
  {
   "cell_type": "code",
   "execution_count": 10,
   "metadata": {
    "collapsed": false
   },
   "outputs": [
    {
     "name": "stdout",
     "output_type": "stream",
     "text": [
      "The maximized profit is= 1413.888925\n"
     ]
    }
   ],
   "source": [
    "x1=[0,4.888889, 3.888889]\n",
    "x2=[0,7, 11]#\n",
    "x3=[0,10, 8]#\n",
    "x4=[0,150, 175]#\n",
    "x5=[0,77, 80, 9, 6]\n",
    "profit=[0,x1[(1)]*x4[(1)], x1[(2)]*x4[(2)]]#\n",
    "total=[0,x1[(1)]*x3[(1)]+x1[(2)]*x3[(2)], x1[(1)]*x3[(1)]+x1[(2)]*x3[(2)], x1[(1)], x1[(2)], profit[(1)]+profit[(2)]]\n",
    "e=1000#\n",
    "\n",
    "while e>total[(5)]:\n",
    "    if total[(1)]<=x5[(1)]:\n",
    "        if total[(2)]<=x5[(2)]:\n",
    "            if total[(3)]<=x5[(3)]:\n",
    "                if total[(4)]<=x5[(4)]:\n",
    "                    l=1#\n",
    "                \n",
    "            \n",
    "        \n",
    "    \n",
    "    if l==1:\n",
    "        x1[(1)]=x1[(1)]+4.888889\n",
    "        x1[(2)]=x1[(2)]+3.888889#    \n",
    "        profit=[0,x1[(1)]*x4[(1)], x1[(2)]*x4[(2)]]\n",
    "        total[(5)]=profit[(1)]+profit[(2)]\n",
    "    \n",
    "\n",
    "print \"The maximized profit is=\",total[(5)]"
   ]
  },
  {
   "cell_type": "markdown",
   "metadata": {},
   "source": [
    "## Ex:15.4 Pg: 401"
   ]
  },
  {
   "cell_type": "code",
   "execution_count": 12,
   "metadata": {
    "collapsed": false
   },
   "outputs": [
    {
     "name": "stdout",
     "output_type": "stream",
     "text": [
      "The final value of velocity=19.980\n",
      "6 The final no. of load parcels= 6\n",
      "The chute radius=2.944 m\n",
      "The minimum cost = 4377.264 $\n"
     ]
    }
   ],
   "source": [
    "from math import pi,exp\n",
    "\n",
    "Mt=2000##kg\n",
    "g=9.8##m/s**2\n",
    "c0=200##$\n",
    "c1=56##$/m\n",
    "c2=0.1##$/m**2\n",
    "vc=20##m/s\n",
    "kc=3##kg/(s*m**2)\n",
    "z0=500##m\n",
    "t=27#\n",
    "r=2.943652#\n",
    "n=6#\n",
    "A=2*pi*r*r#\n",
    "l=(2**0.5)*r#\n",
    "c=3*A#\n",
    "m=Mt/n#\n",
    "def f(t):\n",
    "    y=(z0+g*m*m/(c*c)*(1-exp(-c*t/m)))*c/(g*m)#\n",
    "    return y\n",
    "\n",
    "while abs(f(t)-t)>0.00001:\n",
    "        t=t+0.00001\n",
    "    \n",
    "v=g*m*(1-exp(-c*t/m))/c#\n",
    "print \"The final value of velocity=%0.3f\"%v\n",
    "print n,\"The final no. of load parcels=\",n\n",
    "print \"The chute radius=%0.3f m\"%r\n",
    "print \"The minimum cost = %0.3f $\"%((c0+c1*l+c2*A*A)*n)"
   ]
  },
  {
   "cell_type": "markdown",
   "metadata": {},
   "source": [
    "## Ex:15.5 Pg: 406"
   ]
  },
  {
   "cell_type": "code",
   "execution_count": 17,
   "metadata": {
    "collapsed": false
   },
   "outputs": [
    {
     "name": "stdout",
     "output_type": "stream",
     "text": [
      "Optimization terminated successfully.\n",
      "         Current function value: -1.775726\n",
      "         Iterations: 26\n",
      "         Function evaluations: 52\n",
      "After maximization:\n",
      "x= [ 1.4275625]\n",
      "f(x)= [-1.77572565]\n"
     ]
    }
   ],
   "source": [
    "from scipy.optimize import fmin\n",
    "from math import sin\n",
    "def fx(x):\n",
    "    y=-(2*sin(x))+x**2/10\n",
    "    return y\n",
    "x=fmin(fx,0)\n",
    "print \"After maximization:\"\n",
    "print \"x=\",x\n",
    "print \"f(x)=\",fx(x)"
   ]
  },
  {
   "cell_type": "markdown",
   "metadata": {},
   "source": [
    "## Ex:15.6 Pg: 407"
   ]
  },
  {
   "cell_type": "code",
   "execution_count": 22,
   "metadata": {
    "collapsed": false
   },
   "outputs": [
    {
     "name": "stdout",
     "output_type": "stream",
     "text": [
      "Optimization terminated successfully.\n",
      "         Current function value: -2.000000\n",
      "         Iterations: 45\n",
      "         Function evaluations: 86\n",
      "After maximization:\n",
      "x= [ 1.99993372  0.99996476]\n",
      "f(x)= -1.99999999779\n"
     ]
    }
   ],
   "source": [
    "from scipy.optimize import fmin\n",
    "def fx(x):\n",
    "    f=-(2*x[0]*x[1]+2*x[0]-x[0]**2-2*x[1]**2)\n",
    "    return f\n",
    "x=fmin(fx,[-1, 1])\n",
    "print \"After maximization:\"\n",
    "print \"x=\",x\n",
    "print \"f(x)=\",fx(x)"
   ]
  },
  {
   "cell_type": "markdown",
   "metadata": {},
   "source": [
    "## Ex:15.7 Pg: 408"
   ]
  },
  {
   "cell_type": "code",
   "execution_count": 23,
   "metadata": {
    "collapsed": false
   },
   "outputs": [
    {
     "name": "stdout",
     "output_type": "stream",
     "text": [
      "Optimization terminated successfully.\n",
      "         Current function value: -1.775726\n",
      "         Iterations: 26\n",
      "         Function evaluations: 52\n",
      "After maximization:\n",
      "x= [ 1.4275625]\n",
      "f(x)= [-1.77572565]\n"
     ]
    }
   ],
   "source": [
    "from scipy.optimize import fmin\n",
    "from math import sin\n",
    "\n",
    "def fx(x):\n",
    "    y=-(2*sin(x)-x**2/10)\n",
    "    return y\n",
    "x=fmin(fx,0)\n",
    "print \"After maximization:\"\n",
    "print \"x=\",x\n",
    "print \"f(x)=\",fx(x)"
   ]
  }
 ],
 "metadata": {
  "kernelspec": {
   "display_name": "Python 2",
   "language": "python",
   "name": "python2"
  },
  "language_info": {
   "codemirror_mode": {
    "name": "ipython",
    "version": 2
   },
   "file_extension": ".py",
   "mimetype": "text/x-python",
   "name": "python",
   "nbconvert_exporter": "python",
   "pygments_lexer": "ipython2",
   "version": "2.7.9"
  }
 },
 "nbformat": 4,
 "nbformat_minor": 0
}
