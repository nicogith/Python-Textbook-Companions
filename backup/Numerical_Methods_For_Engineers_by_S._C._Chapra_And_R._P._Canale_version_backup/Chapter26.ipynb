{
 "cells": [
  {
   "cell_type": "markdown",
   "metadata": {},
   "source": [
    "# Chapter-26 : Stiffness & Multi step Methods"
   ]
  },
  {
   "cell_type": "markdown",
   "metadata": {},
   "source": [
    "## Ex:26.1 Pg: 754"
   ]
  },
  {
   "cell_type": "code",
   "execution_count": 4,
   "metadata": {
    "collapsed": false
   },
   "outputs": [
    {
     "data": {
      "image/png": "[encoded data removed]",
      "text/plain": [
       "<matplotlib.figure.Figure at 0x7fbf23e04950>"
      ]
     },
     "metadata": {},
     "output_type": "display_data"
    },
    {
     "data": {
      "image/png": "[encoded data removed]",
      "text/plain": [
       "<matplotlib.figure.Figure at 0x7fbf23882f10>"
      ]
     },
     "metadata": {},
     "output_type": "display_data"
    }
   ],
   "source": [
    "%matplotlib inline\n",
    "from matplotlib.pyplot import plot,xlabel,ylabel,show,title,legend\n",
    "from numpy import arange,exp\n",
    "def f(t,y):\n",
    "    yp=-1000*y+3000-2000*exp(-t)\n",
    "    return yp\n",
    "y0=0#\n",
    "#explicit euler\n",
    "h1=0.0005#\n",
    "y1 =[y0]\n",
    "count=1#\n",
    "t=arange(0,0.0061,0.0001)\n",
    "for i in arange(0,0.00591,0.0001):\n",
    "    y1.append(y1[(count-1)]+f(i,y1[(count-1)])*h1)\n",
    "    count=count+1#\n",
    "\n",
    "plot(t,y1)\n",
    "h2=0.0015#\n",
    "y2=[y0]#\n",
    "count=1#\n",
    "t=arange(0,0.0061,0.0001)\n",
    "for i in arange(0,0.00591,0.0001):\n",
    "    y2.append(y2[(count-1)]+f(i,y2[(count-1)])*h2)\n",
    "    count=count+1#\n",
    "\n",
    "plot(t,y2)\n",
    "title(\"y vs t\")\n",
    "xlabel(\"t\")\n",
    "ylabel(\"y\")\n",
    "h=legend([\"h-0.0005\",\"h=0.0015\"])\n",
    "show()\n",
    "#implicit order\n",
    "h3=0.05#\n",
    "y3=[y0]#\n",
    "count=1#\n",
    "t=arange(0,0.401,0.01)\n",
    "for j in arange(0,0.40,0.01):\n",
    "    y3.append((y3[(count-1)]+3000*h3-2000*h3*exp(-(j+0.01)))/(1+1000*h3))\n",
    "    count=count+1#\n",
    "\n",
    "plot(t,y3)\n",
    "title(\"y vs t\")\n",
    "xlabel(\"t\")\n",
    "ylabel(\"y\")\n",
    "show()\n"
   ]
  },
  {
   "cell_type": "markdown",
   "metadata": {},
   "source": [
    "## Ex:26.2 Pg: 758"
   ]
  },
  {
   "cell_type": "code",
   "execution_count": 5,
   "metadata": {
    "collapsed": false
   },
   "outputs": [
    {
     "name": "stdout",
     "output_type": "stream",
     "text": [
      "f(x,y) = 4*exp(0.8*x) - 0.5*y\n",
      "the first corrector yields y =  15.7669298488\n",
      "error =  -6.21810039929 %\n"
     ]
    }
   ],
   "source": [
    "from math import exp\n",
    "print \"f(x,y) = 4*exp(0.8*x) - 0.5*y\"\n",
    "#f'(x,y) = 4*exp(0.8*x) - 0.5*y\n",
    "h = 1#\n",
    "x=range(0,5)\n",
    "y = [2]\n",
    "x1 = -1#\n",
    "y1 = -0.3929953#\n",
    "y10 = y1 + (4*exp(0.8*x[0]) - 0.5*y[0])*2\n",
    "y11 = y[0] + (4*exp(0.8*x[0]) - 0.5*y[0] + 4*exp(0.8*x[0]) - 0.5*y10)*h/2\n",
    "y12 = y[0] + (3 + 4*exp(0.8*x[1]) - 0.5*y11)*h/2#\n",
    "t = 6.360865#\n",
    "y20 = y[0] + (4*exp(0.8*x[1]) - 0.5*t) *2\n",
    "y21 = t + (4*exp(0.8*x[1]) - 0.5*t + 4*exp(0.8*x[2]) - 0.5*y20)*h/2\n",
    "print \"the first corrector yields y = \",y21\n",
    "t = 14.84392\n",
    "e = (t - y21)*100/t#\n",
    "print \"error = \",e,\"%\""
   ]
  },
  {
   "cell_type": "markdown",
   "metadata": {},
   "source": [
    "## Ex:26.3 Pg: 762"
   ]
  },
  {
   "cell_type": "code",
   "execution_count": 6,
   "metadata": {
    "collapsed": false
   },
   "outputs": [
    {
     "name": "stdout",
     "output_type": "stream",
     "text": [
      "Ec (x = 1) =  -0.150772\n",
      "true error (x = 1) =  -0.166234\n",
      "Ec (x = 2) =  -0.371756\n",
      "true error (x = 2) =  -0.45832\n"
     ]
    }
   ],
   "source": [
    "x1 = 1#\n",
    "x2 = 2#\n",
    "y1 = 6.194631#\n",
    "y2 = 14.84392#\n",
    "y10 = 5.607005#\n",
    "y11 = 6.360865#\n",
    "y20 = 13.44346#\n",
    "y21 = 15.30224#\n",
    "Ec1 = -(y11 - y10)/5#\n",
    "print \"Ec (x = 1) = \",Ec1\n",
    "e1 = y1 - y11#\n",
    "print \"true error (x = 1) = \",e1\n",
    "Ec2 = -(y21 - y20)/5#\n",
    "print \"Ec (x = 2) = \",Ec2\n",
    "e2 = y2 - y21#\n",
    "print \"true error (x = 2) = \",e2"
   ]
  },
  {
   "cell_type": "markdown",
   "metadata": {},
   "source": [
    "## Ex:26.4 Pg: 763"
   ]
  },
  {
   "cell_type": "code",
   "execution_count": 7,
   "metadata": {
    "collapsed": false
   },
   "outputs": [
    {
     "name": "stdout",
     "output_type": "stream",
     "text": [
      "ym = 6.210093\n",
      "error =  -0.249603245133 %\n",
      "y20 =  13.5942344279\n",
      "error =  8.41883796235 %\n",
      "y20 =  14.1973224279\n",
      "error =  4.35597586123 %\n",
      "y2 =  14.8882708856\n",
      "error =  -0.2987814916 %\n"
     ]
    }
   ],
   "source": [
    "x0 = 0#\n",
    "x1 = 1#\n",
    "x2 = 2#\n",
    "y1 = 6.194631#\n",
    "y2 = 14.84392#\n",
    "y10 = 5.607005#\n",
    "y11 = 6.360865#\n",
    "y1m = y11 - (y11 - y10)/5#\n",
    "e = (y1 - y1m)*100/y1#\n",
    "print \"ym =\",y1m\n",
    "print \"error = \",e,\"%\"\n",
    "y20 =2+(4*exp(0.8*x1) - 0.5*y1m)*2#\n",
    "e2 = (y2 - y20)*100/y2#\n",
    "print \"y20 = \",y20\n",
    "print \"error = \",e2,\"%\"\n",
    "y2o = y20 + 4* (y11 - y10)/5#\n",
    "e2 = (y2 - y2o)*100/y2#\n",
    "print \"y20 = \",y2o\n",
    "print \"error = \",e2,\"%\"\n",
    "y21 = 15.21178#\n",
    "y23 = y21 - (y21 - y20)/5#\n",
    "print \"y2 = \",y23\n",
    "e3 = (y2 - y23)*100/y2#\n",
    "print \"error = \",e3,\"%\""
   ]
  },
  {
   "cell_type": "markdown",
   "metadata": {},
   "source": [
    "## Ex:26.5 Pg: 773"
   ]
  },
  {
   "cell_type": "code",
   "execution_count": 9,
   "metadata": {
    "collapsed": false
   },
   "outputs": [
    {
     "name": "stdout",
     "output_type": "stream",
     "text": [
      "f(x,y) = 4*exp(0.8*x) - 0.5*y\n",
      "x =  [ 1.  2.  3.  4.]\n",
      "y0 =  [2, 6.0227228499844756, 20.083112587836688, 41.872835141608761]\n",
      "corrected y1 =  [6.9056637734795867, 19.136474376155903, 38.385462010990274, 82.755745651588995]\n"
     ]
    }
   ],
   "source": [
    "from numpy import arange,exp\n",
    "print \"f(x,y) = 4*exp(0.8*x) - 0.5*y\"\n",
    "#f'(x,y) = 4*exp(0.8*x) - 0.5*y\n",
    "h = 1#\n",
    "x = arange(-3,4.1,h)\n",
    "y=[-4.547302,-2.306160,-0.3929953,2,2]\n",
    "y1=[0,0,0,0]\n",
    "for  i in range(3,7):\n",
    "    y.append(y[(i-3)] + 4*h*(2*(4*exp(0.8*x[(i)]) - 0.5*y[(i)]) - 4*exp(0.8*x[(i-1)]) + 0.5*y[(i-1)] + 2*(4*exp(0.8*x[(i-2)]) - 0.5*y[(i-2)]))/3)\n",
    "    y1.append(y[(i-1)] + h*(4*exp(0.8*x[(i-1)]) - 0.5*y[(i-1)] +4 * (4*exp(0.8*x[(i)]) - 0.5*y[(i)]) + 4*exp(0.8*x[(i+1)]) - 0.5*y[(i+1)])/3)\n",
    "\n",
    "print \"x = \",x[4:8]\n",
    "print \"y0 = \",y[4:8]\n",
    "print \"corrected y1 = \",y1[4:8]"
   ]
  },
  {
   "cell_type": "markdown",
   "metadata": {},
   "source": [
    "## Ex:26.6 Pg: 774"
   ]
  },
  {
   "cell_type": "code",
   "execution_count": 13,
   "metadata": {
    "collapsed": false
   },
   "outputs": [
    {
     "name": "stdout",
     "output_type": "stream",
     "text": [
      "f(x,y) = 4*exp(0.8*x) - 0.5*y\n",
      "x =  [ 1.  2.  3.  4.]\n",
      "y0 =  [2, 6.0075392692969114, 6.2532143855636217, 14.488238413222703]\n",
      "y1 =  [6.0075392692969114, 6.2532143855636217, 14.488238413222703, 16.39224775082873]\n"
     ]
    }
   ],
   "source": [
    "print \"f(x,y) = 4*exp(0.8*x) - 0.5*y\"\n",
    "#f'(x,y) = 4*exp(0.8*x) - 0.5*y\n",
    "h = 1#\n",
    "x = arange(-3,4.1,h)\n",
    "y = [-4.547302,-2.306160,-0.3929953,2]\n",
    "m= [0,0,0,0,y[3]]\n",
    "for i in range(3,7):\n",
    "    y.append(y[(i)] + h *(55* (4*exp(0.8*x[(i)]) - 0.5*y[(i)]) / 24 - 59 * (4*exp(0.8*x[(i-1)]) - 0.5*y[(i-1)]) / 24 + 37*(4*exp(0.8*x[(i-2)]) - 0.5*y[(i-2)])/24 - 9*(4*exp(0.8*x[(i-3)]) - 0.5*y[(i-3)])/24))\n",
    "    m.append(y[(i+1)])\n",
    "    y.append(y[(i)] + h*(9*(4*exp(0.8*x[(i+1)]) - 0.5*y[(i+1)])/24 +19*(4*exp(0.8*x[(i)]) - 0.5*y[(i)])/24 - 5*(4*exp(0.8*x[(i-1)]) - 0.5*y[(i-1)])/24 + (4*exp(0.8*x[(i-2)]) - 0.5*y[(i-2)])/24))\n",
    "\n",
    "print \"x = \",x[4:8]\n",
    "print \"y0 = \",m[4:8]\n",
    "print \"y1 = \",y[4:8]"
   ]
  },
  {
   "cell_type": "markdown",
   "metadata": {},
   "source": [
    "## Ex:26.7 Pg: 775"
   ]
  },
  {
   "cell_type": "code",
   "execution_count": 17,
   "metadata": {
    "collapsed": false
   },
   "outputs": [
    {
     "name": "stdout",
     "output_type": "stream",
     "text": [
      "\n",
      "x =  [ 0.   0.5  1.   1.5  2.   2.5  3.   3.5  4.   4.5  5.   5.5  6.   6.5  7.\n",
      "  7.5  8.   8.5  9.   9.5]\n",
      "\n",
      "y0(milnes method) =  [1, 0.62312747952608971, 0.60341314566242521, 0.35581682815742122, 0.3173461560388694, -0.073744603832379019, 0.05769466447055438, 0.097016353530268939, 0.21274204327392865, -0.36734037063735558, 0.09724068674400127, 0.43888095058828192, 0.3040024218422181, -0.1934006684100632, -0.1160863384290636, 0.32478026608871907, -0.052055689173705413, -0.36964931180484378, 0.00024232753216428538, 0.55995471612928904]\n",
      "\n",
      "corrected y1(milnes method) =  [1, 0.62312747952608971, 0.60341314566242521, 0.35581682815742122, 0.3173461560388694, -0.073744603832379019, 0.05769466447055438, 0.097016353530268939, 0.21274204327392865, -0.36734037063735558, 0.09724068674400127, 0.43888095058828192, 0.3040024218422181, -0.1934006684100632, -0.1160863384290636, 0.32478026608871907, -0.052055689173705413, -0.36964931180484378, 0.00024232753216428538, 0.55995471612928904]\n",
      "\n",
      "y0(fourth order adams method) =  [1, 0.27152768648678072, 0.65650943823969443, -0.097035945241965349, 0.90661897200241937, -0.41645854530303128, -0.006339328628468005, 0.0808211944939453, -0.031548281043396395, -0.01627399436000334, 0.0039276970657568626, -0.002208005756050492, -0.0027943948998587478, -0.00042783320198906672, -0.00032845203812321728, -0.00042142028381515442, -0.00017932875240256902, -8.560953717861569e-05, -7.1995388648036731e-05, -4.2020211202092437e-05]\n",
      "\n",
      "y1(fourth order adams method) =  [1, 0.56419948638876194, 0.68342664355034821, -0.010131383289966767, -0.11667598191807985, -0.0076991693311919962, -0.015405634984349756, -0.02283279228603189, -0.0093238635936440419, -0.0046392587796136846, -0.0040348813308916029, -0.0023127486894963844, -0.0011969855369064737, -0.00079981133060367615, -0.00049813831748820084, -0.00028031874518611127, -0.00017096177282523818, -0.00010605960387014003, -6.2547086111287706e-05, -3.7396246727791117e-05]\n"
     ]
    }
   ],
   "source": [
    "from numpy import arange,exp\n",
    "#dy/dx = -y\n",
    "#y = exp(-x)\n",
    "h = 0.5#\n",
    "x = arange(-1.5,10.1,h)\n",
    "y=[exp(-x[0]),exp(-x[1]),exp(-x[2]),1]\n",
    "m=[0,0,0,y[3]]\n",
    "for  i in range(3,23):\n",
    "    y.append(y[(i-3)] + 4*h*(2*(-y[(i)]) + y[(i-1)] + 2*(-y[(i-2)]))/3)\n",
    "    m.append(y[(i+1)])\n",
    "    y.append(y[(i-1)] + h*(-y[(i-1)] +4 * (-y[(i)]) + (-y[(i+1)]))/3)\n",
    "\n",
    "print \"\\nx = \",x[3:23]\n",
    "print \"\\ny0(milnes method) = \",m[3:23]\n",
    "print \"\\ncorrected y1(milnes method) = \",y[3:23]\n",
    "for i in range(3,23):\n",
    "    y[(i+1)] = y[(i)] + h *(55* (-y[(i)]) / 24 - 59 * (-y[(i-1)]) / 24 + 37*(-y[(i-2)])/24 - 9*(-y[(i-3)])/24)#\n",
    "    m[(i+1)] = y[(i+1)]\n",
    "    y[(i+1)] = y[(i)] + h*(9*(-y[(i+1)])/24 +19*(-y[(i)])/24 - 5*(-y[(i-1)])/24 + (-y[(i-2)])/24)#\n",
    "\n",
    "print \"\\ny0(fourth order adams method) = \",m[3:23]\n",
    "print \"\\ny1(fourth order adams method) = \",y[3:23]"
   ]
  }
 ],
 "metadata": {
  "kernelspec": {
   "display_name": "Python 2",
   "language": "python",
   "name": "python2"
  },
  "language_info": {
   "codemirror_mode": {
    "name": "ipython",
    "version": 2
   },
   "file_extension": ".py",
   "mimetype": "text/x-python",
   "name": "python",
   "nbconvert_exporter": "python",
   "pygments_lexer": "ipython2",
   "version": "2.7.9"
  }
 },
 "nbformat": 4,
 "nbformat_minor": 0
}
