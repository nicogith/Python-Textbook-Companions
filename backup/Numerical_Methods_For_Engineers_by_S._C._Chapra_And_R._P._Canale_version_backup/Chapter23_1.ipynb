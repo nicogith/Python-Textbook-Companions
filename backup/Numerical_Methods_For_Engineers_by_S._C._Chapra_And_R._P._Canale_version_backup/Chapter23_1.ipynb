{
 "cells": [
  {
   "cell_type": "markdown",
   "metadata": {},
   "source": [
    "# Chapter-23  : Numerical Differentiation"
   ]
  },
  {
   "cell_type": "markdown",
   "metadata": {},
   "source": [
    "## Ex:23.1 Pg: 656"
   ]
  },
  {
   "cell_type": "code",
   "execution_count": 1,
   "metadata": {
    "collapsed": false
   },
   "outputs": [
    {
     "name": "stdout",
     "output_type": "stream",
     "text": [
      "x =  [ 0.    0.25  0.5   0.75  1.  ]\n",
      "f(x) =  [0, 1.2, 1.103515625, 0.92499999999999993, 0.63632812499999991, 0.19999999999999996]\n",
      "by forward difference :  -0.859375\n",
      "error in forward difference method =  5.82191780822 %\n",
      "by backward difference -0.878125\n",
      "error in backward difference method =  3.76712328767 %\n",
      "by central difference :  -0.9125\n",
      "error in central difference method =  -2.43336553343e-14 %\n"
     ]
    }
   ],
   "source": [
    "from numpy import arange\n",
    "#f(x) = -0.1*x**4 - 0.15*x**3 - 0.5 * x**2 - 0.25 *x + 1.2\n",
    "h = 0.25#\n",
    "t = -0.9125#\n",
    "x = arange(0,1.1,h)\n",
    "print \"x = \",x\n",
    "fx=[0]\n",
    "for xx in x:\n",
    "    fx.append(-0.1*xx**4 - 0.15*xx**3 - 0.5 * xx**2 - 0.25 *xx + 1.2)\n",
    "print \"f(x) = \",fx\n",
    "fd = (- fx[(5)] + 4*fx[(4)] - 3 * fx[(3)])/(2 * h)\n",
    "efd = (t - fd) * 100 / t#\n",
    "print \"by forward difference : \",fd\n",
    "print \"error in forward difference method = \",efd,\"%\"\n",
    "bd = (3 * fx[(3)] - 4 * fx[(2)] + fx[(1)])/ (2*h)\n",
    "ebd = (t - bd) * 100 / t#\n",
    "print \"by backward difference\",bd\n",
    "print \"error in backward difference method = \",ebd,\"%\"\n",
    "cdm = (-fx[(5)] + 8*(fx[(4)]) -8*fx[(2)] + fx[(1)] ) / (12*h)\n",
    "ecdm = (t - cdm) * 100 / t\n",
    "print \"by central difference : \",cdm\n",
    "print \"error in central difference method = \",ecdm,\"%\""
   ]
  },
  {
   "cell_type": "markdown",
   "metadata": {},
   "source": [
    "## Ex:23.2 Pg: 657"
   ]
  },
  {
   "cell_type": "code",
   "execution_count": 3,
   "metadata": {
    "collapsed": false
   },
   "outputs": [
    {
     "name": "stdout",
     "output_type": "stream",
     "text": [
      "x with h = 0.5 is [ 0.   0.5  1. ]\n",
      "f(x) with h = 0.5 is [0, 1.2, 0.92499999999999993, 0.19999999999999996]\n",
      "by central difference ( h = 0.5 )  -1.0\n",
      "error in central difference method ( h = 0.5 ) =  -9.58904109589 %\n",
      "x with h = 0.25 is [ 0.    0.25  0.5   0.75  1.  ]\n",
      "fx with h = 0.25 is [0, 1.2, 1.103515625, 0.92499999999999993, 0.63632812499999991, 0.19999999999999996]\n",
      "by central difference ( h = 0.25 )  =  -0.934375 error in central difference method ( h = 0.25 ) =  -2.39726027397 %\n",
      "improved estimate = -0.9125\n"
     ]
    }
   ],
   "source": [
    "from numpy import arange\n",
    "#f(x) = -0.1*x**4 - 0.15*x**3 - 0.5 * x**2 - 0.25 *x + 1.2\n",
    "h = 0.5#\n",
    "t = -0.9125#\n",
    "x = arange(0,1.1,h)\n",
    "print \"x with h = 0.5 is\",x\n",
    "fx=[0]\n",
    "for xx in x:\n",
    "    fx.append(-0.1*xx**4 - 0.15*xx**3 - 0.5 * xx**2 - 0.25 *xx + 1.2)\n",
    "print \"f(x) with h = 0.5 is\",fx\n",
    "cdm = (fx[(3)] - fx[(1)])/ 1#\n",
    "ecdm = (t - cdm) * 100 / t#\n",
    "print \"by central difference ( h = 0.5 ) \",cdm\n",
    "print \"error in central difference method ( h = 0.5 ) = \",ecdm,\"%\"\n",
    "h1 = 0.25#\n",
    "x1 = arange(0,1.1,h1)\n",
    "print \"x with h = 0.25 is\",x1\n",
    "fx1=[0]\n",
    "for xx in x1:\n",
    "    fx1.append(-0.1*xx**4 - 0.15*xx**3 - 0.5 * xx**2 - 0.25 *xx + 1.2)\n",
    "print \"fx with h = 0.25 is\",fx1\n",
    "cdm1 = (fx1[(4)] - fx1[(2)])/ (2*h1)\n",
    "ecdm1 = (t - cdm1) * 100 / t#\n",
    "print \"by central difference ( h = 0.25 )  = \",cdm1,\n",
    "print \"error in central difference method ( h = 0.25 ) = \",ecdm1,\"%\"\n",
    "D = 4 * cdm1 /3 - cdm / 3#\n",
    "print \"improved estimate =\",D"
   ]
  },
  {
   "cell_type": "markdown",
   "metadata": {},
   "source": [
    "## Ex:23.3 Pg: 658"
   ]
  },
  {
   "cell_type": "code",
   "execution_count": 4,
   "metadata": {
    "collapsed": false
   },
   "outputs": [
    {
     "name": "stdout",
     "output_type": "stream",
     "text": [
      "(dT/dz) =  -1.33333333333 C/cm\n",
      "q(z = 0) = 70.56 W/m**2\n"
     ]
    }
   ],
   "source": [
    "#q(z = 0) = -k*p*C*(dT/dz)/(z = 0)\n",
    "k = 3.5 * 10** - 7##m**2/s\n",
    "p = 1800##kg/m**3\n",
    "C = 840# #(J/(kg.C))\n",
    "x = 0#\n",
    "fx0 = 13.5#\n",
    "fx1 = 12#\n",
    "fx2 = 10#\n",
    "x0 = 0#\n",
    "x1 = 1.25#\n",
    "x2 = 3.75#\n",
    "dfx = fx0 *(2*x - x1 - x2)/((x0 - x1)*(x0 - x2)) + fx1 *(2*x - x0 - x2)/((x1 - x0)*(x1 - x2)) + fx2 *(2*x - x1 - x0)/((x2 - x1)*(x2 - x0))#\n",
    "print \"(dT/dz) = \",dfx,\"C/cm\"\n",
    "q = - k * p *C * dfx*100#\n",
    "print \"q(z = 0) =\",q,\"W/m**2\""
   ]
  },
  {
   "cell_type": "markdown",
   "metadata": {},
   "source": [
    "## Ex:23.4 Pg: 662"
   ]
  },
  {
   "cell_type": "code",
   "execution_count": 12,
   "metadata": {
    "collapsed": false
   },
   "outputs": [
    {
     "name": "stdout",
     "output_type": "stream",
     "text": [
      "Q= 1.64053333333333\n",
      "intergral= -1.40920096\n",
      "diff(x)= [ 0.12  0.1   0.1   0.04  0.04  0.04  0.1   0.1   0.06  0.1 ]\n",
      "d= [  9.247744  -0.04488    4.38152    8.287744   9.527424   9.674624\n",
      "   6.64312   -3.25368  -13.648816 -21.31    ]\n"
     ]
    }
   ],
   "source": [
    "from sympy.mpmath import quad\n",
    "from numpy import trapz,diff\n",
    "def f(x):\n",
    "    y=0.2+25*x-200*x**2+675*x**3-900*x**4+400*x**5\n",
    "    return y\n",
    "a=0#\n",
    "b=0.8#\n",
    "Q=quad(f,[0,0.8])\n",
    "print \"Q=\",Q\n",
    "x=[0, 0.12 ,0.22 ,0.32 ,0.36 ,0.4 ,0.44 ,0.54 ,0.64, 0.7 ,0.8]\n",
    "y=[]\n",
    "for xx in x:\n",
    "    y.append(f(xx))\n",
    "integral=trapz(x,y)\n",
    "print \"intergral=\",integral\n",
    "print \"diff(x)=\",diff(x)\n",
    "d=diff(y)/diff(x)#\n",
    "print \"d=\",d"
   ]
  },
  {
   "cell_type": "markdown",
   "metadata": {},
   "source": [
    "## Ex:23.5 Pg: 664"
   ]
  },
  {
   "cell_type": "code",
   "execution_count": 13,
   "metadata": {
    "collapsed": false
   },
   "outputs": [
    {
     "name": "stdout",
     "output_type": "stream",
     "text": [
      "Computed= 1.64053333333333\n",
      "Error estimate= 2.03185997099678e-5\n"
     ]
    }
   ],
   "source": [
    "from __future__ import division\n",
    "from sympy.mpmath import quad\n",
    "def f(x):\n",
    "    y=0.2+25*x-200*x**2+675*x**3-900*x**4+400*x**5\n",
    "    return y\n",
    "a=0#\n",
    "b=0.8#\n",
    "Qt=1.640533#\n",
    "Q=quad(f,[0,0.8])\n",
    "print \"Computed=\",Q\n",
    "Er=abs(Q-Qt)*100/Qt\n",
    "print \"Error estimate=\",Er"
   ]
  }
 ],
 "metadata": {
  "kernelspec": {
   "display_name": "Python 2",
   "language": "python",
   "name": "python2"
  },
  "language_info": {
   "codemirror_mode": {
    "name": "ipython",
    "version": 2
   },
   "file_extension": ".py",
   "mimetype": "text/x-python",
   "name": "python",
   "nbconvert_exporter": "python",
   "pygments_lexer": "ipython2",
   "version": "2.7.9"
  }
 },
 "nbformat": 4,
 "nbformat_minor": 0
}
