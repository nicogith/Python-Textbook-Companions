{
 "cells": [
  {
   "cell_type": "markdown",
   "metadata": {},
   "source": [
    "# Chapter - 9 : Gauss Eliminations"
   ]
  },
  {
   "cell_type": "markdown",
   "metadata": {},
   "source": [
    "## Ex:9.1 Pg: 242"
   ]
  },
  {
   "cell_type": "code",
   "execution_count": 1,
   "metadata": {
    "collapsed": false
   },
   "outputs": [
    {
     "name": "stdout",
     "output_type": "stream",
     "text": [
      "The lines meet at=x2= 3 and x1= 4\n"
     ]
    },
    {
     "data": {
      "image/png": "[encoded data removed]",
      "text/plain": [
       "<matplotlib.figure.Figure at 0x7fc740383550>"
      ]
     },
     "metadata": {},
     "output_type": "display_data"
    }
   ],
   "source": [
    "from __future__ import division\n",
    "%matplotlib inline\n",
    "from matplotlib.pyplot import plot,title,xlabel,ylabel,show\n",
    "#the equations are:\n",
    "#3*x1 + 2*x2=18 and -x1 + 2*x2=2\n",
    "\n",
    "#equation 1 becomes,\n",
    "#x2=-(3/2)*x1 + 9\n",
    "#equation 2 becomes,\n",
    "#x2=-(1/2)*x1 + 1\n",
    "\n",
    "#plotting equation 1\n",
    "x2=[0]\n",
    "for x1 in range(1,7):\n",
    "    x2.append(-(3/2)*x1 + 9)\n",
    "\n",
    "x1=[1, 2, 3, 4, 5, 6]\n",
    "#plotting equation 2\n",
    "x4=[0]\n",
    "for x3 in range(1,7):\n",
    "    x4.append((1/2)*x3 + 1)\n",
    "\n",
    "x3=[1, 2, 3, 4, 5, 6]\n",
    "plot(x1,x2[1:])\n",
    "plot(x3,x4[1:])\n",
    "title(\"x2 vs x1\")\n",
    "xlabel(\"x1\")\n",
    "ylabel(\"x2\")\n",
    "#the lines meet at x1=4 amd x2=3\n",
    "print \"The lines meet at=x2=\",3,\"and x1=\",4"
   ]
  },
  {
   "cell_type": "markdown",
   "metadata": {},
   "source": [
    "## Ex:9.2 Pg: 244"
   ]
  },
  {
   "cell_type": "code",
   "execution_count": 2,
   "metadata": {
    "collapsed": false
   },
   "outputs": [
    {
     "name": "stdout",
     "output_type": "stream",
     "text": [
      "The value of determinant for system repesented in fig 9.1 = 8.0\n",
      "The value of determinant for system repesented in fig 9.2 (a) = 0.0\n",
      "The value of determinant for system repesented in fig 9.2 (b) = 0.0\n",
      "The value of determinant for system repesented in fig 9.2 (c) = -0.04\n"
     ]
    }
   ],
   "source": [
    "from numpy.linalg import det\n",
    "from numpy import mat\n",
    "#For fig9.1\n",
    "a=mat([[3, 2],[-1, 2]])\n",
    "print \"The value of determinant for system repesented in fig 9.1 =\",det(a)\n",
    "#For fig9.2 (a)\n",
    "a=mat([[-0.5, 1],[-0.5, 1]])\n",
    "print \"The value of determinant for system repesented in fig 9.2 (a) =\",det(a)\n",
    "#For fig9.2 (b)\n",
    "a=mat([[-0.5, 1],[-1, 2]])\n",
    "print \"The value of determinant for system repesented in fig 9.2 (b) =\",det(a)\n",
    "#For fig9.2 (c)\n",
    "a=mat([[-0.5, 1],[-2.3/5, 1]])\n",
    "print \"The value of determinant for system repesented in fig 9.2 (c) =\",det(a)"
   ]
  },
  {
   "cell_type": "markdown",
   "metadata": {},
   "source": [
    "## Ex:9.3 Pg: 245"
   ]
  },
  {
   "cell_type": "code",
   "execution_count": 3,
   "metadata": {
    "collapsed": false
   },
   "outputs": [
    {
     "name": "stdout",
     "output_type": "stream",
     "text": [
      "The values are:\n",
      "x1= -14.9\n",
      "x2= -29.5\n",
      "x3= 19.8\n"
     ]
    }
   ],
   "source": [
    "from numpy import mat\n",
    "from numpy.linalg import det\n",
    "#the matrix or the system\n",
    "b1=-0.01#\n",
    "b2=0.67#\n",
    "b3=-0.44#\n",
    "a=mat([[0.3, 0.52, 1],[0.5, 1, 1.9],[0.1, 0.3, 0.5]])\n",
    "a1=mat([[a[1,1], a[1,2]],[a[2,1], a[2,2]]])\n",
    "A1=det(a1)\n",
    "a2=mat([[a[1,0], a[1,2]],[a[2,0], a[2,2]]])\n",
    "A2=det(a2)\n",
    "a3=mat([[a[1,0], a[1,1]],[a[2,0], a[2,1]]])\n",
    "A3=det(a3)\n",
    "D=a[0,0]*A1-a[0,1]*A2+a[0,2]*A3\n",
    "p=mat([[b1, 0.52, 1],[b2, 1, 1.9],[b3, 0.3, 0.5]])\n",
    "q=mat([[0.3, b1, 1],[0.5, b2, 1.9],[0.1, b3, 0.5]])\n",
    "r=mat([[0.3, 0.52, b1],[0.5, 1, b2],[0.1 ,0.3, b3]])\n",
    "x1=det(p)/D#\n",
    "x2=det(q)/D#\n",
    "x3=det(r)/D#\n",
    "print \"The values are:\"\n",
    "print \"x1=\",x1\n",
    "print \"x2=\",x2\n",
    "print \"x3=\",x3"
   ]
  },
  {
   "cell_type": "markdown",
   "metadata": {},
   "source": [
    "## Ex:9.4 Pg: 246"
   ]
  },
  {
   "cell_type": "code",
   "execution_count": 4,
   "metadata": {
    "collapsed": false
   },
   "outputs": [
    {
     "name": "stdout",
     "output_type": "stream",
     "text": [
      "x1= 4.0\n",
      "x2= 3.0\n"
     ]
    }
   ],
   "source": [
    "#the equations are:\n",
    "#3*x1+2*x2=18\n",
    "#-x1+2*x2=2\n",
    "a11=3#\n",
    "a12=2#\n",
    "b1=18#\n",
    "a21=-1#\n",
    "a22=2#\n",
    "b2=2#\n",
    "x1=(b1*a22-a12*b2)/(a11*a22-a12*a21)#\n",
    "x2=(b2*a11-a21*b1)/(a11*a22-a12*a21)#\n",
    "print \"x1=\",x1\n",
    "print \"x2=\",x2"
   ]
  },
  {
   "cell_type": "markdown",
   "metadata": {},
   "source": [
    "## Ex:9.5 Pg: 251"
   ]
  },
  {
   "cell_type": "code",
   "execution_count": 5,
   "metadata": {
    "collapsed": false
   },
   "outputs": [
    {
     "name": "stdout",
     "output_type": "stream",
     "text": [
      "x1= 2.61666666667\n",
      "x2= -2.79319371728\n",
      "x3= 7.0\n"
     ]
    }
   ],
   "source": [
    "from numpy import arange,mat\n",
    "\n",
    "n=3#\n",
    "b=[7.85,-19.3,71.4] # ################################\n",
    "a=mat([[3, -0.1, -0.2],[0.1, 7, -0.3],[0.3, -0.2, 10]])\n",
    "for k in range(1,n):\n",
    "    for i in range(k+1,n+1):\n",
    "        fact=a[i-1,k-1]/a[k-1,k-1]\n",
    "        for j in range(k+1,n+1):\n",
    "            a[i-1,j-1]=a[i-1,j-1]-fact*(a[k-1,j-1])\n",
    "        \n",
    "        b[(i-1)]=b[(i-1)]-fact*b[(k-1)]\n",
    "    \n",
    "x=[0,0,b[(n-1)]/a[n-1,n-1]]\n",
    "for i in arange(n-1,0,-1):\n",
    "    s=b[i-1]#\n",
    "    for j in range(i+1,n+1):\n",
    "        s=s-a[i-1,j-1]*x[j-1]\n",
    "    \n",
    "    x[i-1]=b[i-1]/a[i-1,i-1]\n",
    "\n",
    "print \"x1=\",x[0]\n",
    "print \"x2=\",x[1]\n",
    "print \"x3=\",x[2]"
   ]
  },
  {
   "cell_type": "markdown",
   "metadata": {},
   "source": [
    "## Ex:9.6 Pg:255"
   ]
  },
  {
   "cell_type": "code",
   "execution_count": 6,
   "metadata": {
    "collapsed": false
   },
   "outputs": [
    {
     "name": "stdout",
     "output_type": "stream",
     "text": [
      "For the original system:\n",
      "x1= 4.0\n",
      "x2= 3.0\n",
      "For the new system:\n",
      "x1= 8.0\n",
      "x2= 1.0\n"
     ]
    }
   ],
   "source": [
    "a11=1#\n",
    "a12=2#\n",
    "b1=10#\n",
    "a21=1.1#\n",
    "a22=2#\n",
    "b2=10.4#\n",
    "x1=(b1*a22-a12*b2)/(a11*a22-a12*a21)#\n",
    "x2=(b2*a11-a21*b1)/(a11*a22-a12*a21)#\n",
    "print \"For the original system:\"\n",
    "print \"x1=\",x1\n",
    "print \"x2=\",x2\n",
    "a21=1.05#\n",
    "x1=(b1*a22-a12*b2)/(a11*a22-a12*a21)#\n",
    "x2=(b2*a11-a21*b1)/(a11*a22-a12*a21)#\n",
    "print \"For the new system:\"\n",
    "print \"x1=\",x1\n",
    "print \"x2=\",x2"
   ]
  },
  {
   "cell_type": "markdown",
   "metadata": {},
   "source": [
    "## Ex:9.7 Pg: 257"
   ]
  },
  {
   "cell_type": "code",
   "execution_count": 7,
   "metadata": {
    "collapsed": false
   },
   "outputs": [
    {
     "name": "stdout",
     "output_type": "stream",
     "text": [
      "The determinant for part(a)= 8.0\n",
      "The determinant for part(b)= -0.2\n",
      "The determinant for part(c)= -20.0\n"
     ]
    }
   ],
   "source": [
    "from numpy.linalg import det\n",
    "from numpy import mat\n",
    "#part a\n",
    "a=mat([[3, 2],[-1, 2]])\n",
    "b1=18#\n",
    "b2=2#\n",
    "print \"The determinant for part(a)=\",det(a)\n",
    "#part b\n",
    "a=mat([[1, 2],[1.1, 2]])\n",
    "b1=10\n",
    "b2=10.4#\n",
    "print \"The determinant for part(b)=\",det(a)\n",
    "#part c\n",
    "a1=a*10#\n",
    "b1=100#\n",
    "b2=104#\n",
    "print \"The determinant for part(c)=\",det(a1)"
   ]
  },
  {
   "cell_type": "markdown",
   "metadata": {},
   "source": [
    "## Ex:9.8 Pg: 258"
   ]
  },
  {
   "cell_type": "code",
   "execution_count": 8,
   "metadata": {
    "collapsed": false
   },
   "outputs": [
    {
     "name": "stdout",
     "output_type": "stream",
     "text": [
      "The determinant for part(a)= 1.3335\n",
      "The determinant for part(b)= -0.05\n",
      "The determinant for part(c)= -0.05\n"
     ]
    }
   ],
   "source": [
    "from numpy.linalg import det\n",
    "from numpy import mat\n",
    "#part a\n",
    "a=mat([[1, 0.667],[-0.5, 1]])\n",
    "b1=6#\n",
    "b2=1#\n",
    "print \"The determinant for part(a)=\",det(a)\n",
    "#part b\n",
    "a=mat([[0.5, 1],[0.55, 1]])\n",
    "b1=5\n",
    "b2=5.2\n",
    "print \"The determinant for part(b)=\",det(a)\n",
    "#part c\n",
    "b1=5#\n",
    "b2=5.2#\n",
    "print \"The determinant for part(c)=\",det(a)"
   ]
  },
  {
   "cell_type": "markdown",
   "metadata": {},
   "source": [
    "## Ex:9.9 Pg: 260"
   ]
  },
  {
   "cell_type": "code",
   "execution_count": 9,
   "metadata": {
    "collapsed": false
   },
   "outputs": [
    {
     "name": "stdout",
     "output_type": "stream",
     "text": [
      "x2 =  0.666666666667\n",
      "x1 =  0.333333333334\n",
      "The error varies depending on the no. of significant figures used\n"
     ]
    }
   ],
   "source": [
    "#0.0003*x1 + 3*x2 = 2.0001\n",
    "#1*x1 + 1*x2 = 1\n",
    "a11 = 0.000#\n",
    "#multiplying first equation by 1/0.0003, we get, x1 + 10000*x2 = 6667\n",
    "x2 = (6667-1)/(10000-1)#\n",
    "x1 = 6667 - 10000*x2#\n",
    "print \"x2 = \",x2\n",
    "print \"x1 = \",x1\n",
    "print \"The error varies depending on the no. of significant figures used\""
   ]
  },
  {
   "cell_type": "markdown",
   "metadata": {},
   "source": [
    "## Ex:9.10 Pg: 262"
   ]
  },
  {
   "cell_type": "code",
   "execution_count": 10,
   "metadata": {
    "collapsed": false
   },
   "outputs": [
    {
     "name": "stdout",
     "output_type": "stream",
     "text": [
      "without scaling, applying forward elimination\n",
      "x2 =  1.0\n",
      "x1 =  0\n",
      "error for x1 =  100.0\n",
      "with scaling\n",
      "x1 =  1\n",
      "x2 =  1\n",
      "pivot and retaining original coefficients\n",
      "x1 =  1\n",
      "x2 =  1.0\n"
     ]
    }
   ],
   "source": [
    "from __future__ import division\n",
    "#2*x1 + 10000*x2 = 10000\n",
    "#x1 + x2 = 2\n",
    "x1 = 1#\n",
    "x2 = 1#\n",
    "print \"without scaling, applying forward elimination\"\n",
    "#x1 is too small and can be neglected\n",
    "x21 = 10000/10000#\n",
    "x11 = 0#\n",
    "e1 = (x1 - x11)*100/x1#\n",
    "print \"x2 = \",x21\n",
    "print \"x1 = \",x11\n",
    "print \"error for x1 = \",e1\n",
    "print \"with scaling\"\n",
    "#0.00002*x1 + x2 = 1\n",
    "#now x1 is neglected because of the co efficient\n",
    "x22 = 1#\n",
    "x12 = 2 - x1#\n",
    "print \"x1 = \",x12\n",
    "print \"x2 = \",x22\n",
    "#using original co efficient\n",
    "#x1 can be neglected\n",
    "print \"pivot and retaining original coefficients\"\n",
    "x22 = 10000/10000#\n",
    "x12 = 2 - x1#\n",
    "print \"x1 = \",x12\n",
    "print \"x2 = \",x22"
   ]
  },
  {
   "cell_type": "markdown",
   "metadata": {},
   "source": [
    "## Ex:9.11 Pg: 265"
   ]
  },
  {
   "cell_type": "code",
   "execution_count": 11,
   "metadata": {
    "collapsed": false
   },
   "outputs": [
    {
     "name": "stdout",
     "output_type": "stream",
     "text": [
      "a= 8.59411764706 m/s**2\n",
      "T= 34.4117647059 N\n",
      "R= 36.7647058824 N\n"
     ]
    }
   ],
   "source": [
    "from __future__ import division\n",
    "from numpy import mat\n",
    "from numpy.linalg import solve\n",
    "a=mat([[70, 1, 0],[60, -1, 1],[40, 0, -1]])\n",
    "b=mat([[636],[518],[307]])\n",
    "x=abs(solve(a,b))\n",
    "print \"a=\",x[0,0],\"m/s**2\"\n",
    "print \"T=\",x[1,0],\"N\"\n",
    "print \"R=\",x[2,0],\"N\"\n"
   ]
  },
  {
   "cell_type": "markdown",
   "metadata": {},
   "source": [
    "## Ex:9.12 Pg: 269"
   ]
  },
  {
   "cell_type": "code",
   "execution_count": 12,
   "metadata": {
    "collapsed": false
   },
   "outputs": [
    {
     "name": "stdout",
     "output_type": "stream",
     "text": [
      "Equation in matrix form can be written as : \n",
      "[[  3.    -0.1   -0.2    7.85]\n",
      " [  0.1    7.    -0.3  -19.3 ]\n",
      " [  0.3   -0.2   10.    71.4 ]]\n",
      "final matrix = \n",
      "[[ 1.   0.   0.   3. ]\n",
      " [ 0.   1.   0.  -2.5]\n",
      " [ 0.   0.   1.   7. ]]\n",
      "\n",
      "x1 =  3.0\n",
      "x2 =  -2.5\n",
      "x3 =  7.0\n"
     ]
    }
   ],
   "source": [
    "from __future__ import division\n",
    "from numpy import mat,vstack\n",
    "from numpy.linalg import det\n",
    "#3*x1 - 0.1*x2 - 0.2*x3 = 7.85\n",
    "#0.1*x1 + 7*x2 - 0.3*x3 = -19.3\n",
    "#0.3*x1 - 0.2*x2 + 10*x3 = 71.4\n",
    "# this can be written in matrix form as\n",
    "A = mat([[3,-0.1,-0.2,7.85],[0.1,7,-0.3,-19.3],[0.3,-0.2,10,71.4]])\n",
    "print \"Equation in matrix form can be written as : \\n\",A\n",
    "X = A[0:1] / (A[0,0])#\n",
    "Y = A[1:2] - 0.1*X#\n",
    "Z = A[2:3] - 0.3*X#\n",
    "\n",
    "Y = Y/(Y[0,1])\n",
    "X = X - Y * (X[0,1])\n",
    "Z = Z - Y * (Z[0,1])#\n",
    "Z = Z/(Z[0,2])#\n",
    "X = X - Z*(X[0,2])#\n",
    "Y = Y - Z*(Y[0,2])#\n",
    "A = vstack((X,Y,Z))\n",
    "print \"final matrix = \\n\",A\n",
    "print \"\\nx1 = \",A[0,3]\n",
    "print \"x2 = \",A[1,3]\n",
    "print \"x3 = \",A[2,3]"
   ]
  }
 ],
 "metadata": {
  "kernelspec": {
   "display_name": "Python 2",
   "language": "python",
   "name": "python2"
  },
  "language_info": {
   "codemirror_mode": {
    "name": "ipython",
    "version": 2
   },
   "file_extension": ".py",
   "mimetype": "text/x-python",
   "name": "python",
   "nbconvert_exporter": "python",
   "pygments_lexer": "ipython2",
   "version": "2.7.9"
  }
 },
 "nbformat": 4,
 "nbformat_minor": 0
}
