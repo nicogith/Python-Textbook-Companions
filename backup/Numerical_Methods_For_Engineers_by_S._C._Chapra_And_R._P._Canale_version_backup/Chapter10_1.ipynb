{
 "cells": [
  {
   "cell_type": "markdown",
   "metadata": {},
   "source": [
    "# Chapter 10 : LU Decomposition and matrix inverse"
   ]
  },
  {
   "cell_type": "markdown",
   "metadata": {},
   "source": [
    "## Ex10.1 Page 277"
   ]
  },
  {
   "cell_type": "code",
   "execution_count": 9,
   "metadata": {
    "collapsed": false
   },
   "outputs": [
    {
     "name": "stdout",
     "output_type": "stream",
     "text": [
      "A = [[  3.   -0.1  -0.2]\n",
      " [  0.1   7.   -0.3]\n",
      " [  0.3  -0.2  10. ]]\n",
      "\n",
      "U = \n",
      "[[  3.          -0.1         -0.2       ]\n",
      " [  0.           7.00333333  -0.29333333]\n",
      " [  0.           0.          10.01204188]]\n",
      "\n",
      "L calculated based on gauss elimination method = \n",
      "[[ 1.          0.          0.        ]\n",
      " [ 0.03333333  1.          0.        ]\n",
      " [ 0.1        -0.02712994  1.        ]]\n"
     ]
    }
   ],
   "source": [
    "from numpy import mat\n",
    "from numpy.linalg import det\n",
    "A = mat([[3,-0.1,-0.2],[0.1,7,-0.3],[0.3,-0.2,10]])\n",
    "U = A#\n",
    "print \"A =\",A\n",
    "m = U[0,0]\n",
    "n = U[1,0]\n",
    "a = n/m#\n",
    "U[1:2] = U[1:2] - U[0:1] / (m/n)#\n",
    "n = U[2,0]\n",
    "b = n/m\n",
    "\n",
    "U[2:3] = U[2:3] - U[0:1] / (m/n)#\n",
    "m = U[1,1]\n",
    "n = U[2,1]\n",
    "c = n/m#\n",
    "U[2:3] = U[2:3] - U[1:2] / (m/n)#\n",
    "print \"\\nU = \\n\",U\n",
    "L = mat([[1,0,0],[a,1,0],[b,c,1]])\n",
    "print \"\\nL calculated based on gauss elimination method = \\n\",L"
   ]
  },
  {
   "cell_type": "markdown",
   "metadata": {},
   "source": [
    "## Ex10.2 Page 279"
   ]
  },
  {
   "cell_type": "code",
   "execution_count": 11,
   "metadata": {
    "collapsed": false
   },
   "outputs": [
    {
     "name": "stdout",
     "output_type": "stream",
     "text": [
      "X = \n",
      "[[ 3. ]\n",
      " [-2.5]\n",
      " [ 7. ]]\n"
     ]
    }
   ],
   "source": [
    "from numpy import mat\n",
    "A = mat([[3,-0.1,-0.2],[0.1,7,-0.3],[0.3,-0.2,10]])\n",
    "B = mat([[7.85],[-19.3],[71.4]])\n",
    "X = (A**-1) * B\n",
    "print \"X = \\n\",X"
   ]
  },
  {
   "cell_type": "markdown",
   "metadata": {},
   "source": [
    "## Ex10.3 Page 284"
   ]
  },
  {
   "cell_type": "code",
   "execution_count": 24,
   "metadata": {
    "collapsed": false
   },
   "outputs": [
    {
     "name": "stdout",
     "output_type": "stream",
     "text": [
      "B=\n",
      "[[ 0.33248872  0.00494409  0.00679813]\n",
      " [-0.00518174  0.14290333  0.00418348]\n",
      " [-0.01007834  0.00270975  0.09988014]]\n"
     ]
    }
   ],
   "source": [
    "from numpy import mat,array\n",
    "A = mat([[3,-0.1,-0.2],[0.1,7,-0.3],[0.3,-0.2,10]])\n",
    "B = (A**-1)\n",
    "L = mat([[1,0,0],[0.033333,1,0],[0.1,-0.02713,1]])\n",
    "U = mat([[3,-0.1,-0.2],[0,7.0033,-0.293333],[0,0,10.012]])\n",
    "for i  in range(1,4):\n",
    "    if i==1:\n",
    "        m = mat([[1],[0],[0]])\n",
    "    else:\n",
    "        if i==2:\n",
    "            m = mat([[0],[1],[0]])\n",
    "        else:\n",
    "            m = mat([[0],[0],[1]])\n",
    "        \n",
    "    \n",
    "    d = (L**-1) * m#\n",
    "    x = (U**-1) * d#\n",
    "    B[:,i-1] = x\n",
    "\n",
    "print \"B=\\n\",B"
   ]
  },
  {
   "cell_type": "markdown",
   "metadata": {},
   "source": [
    "## Ex10.4 Page 291"
   ]
  },
  {
   "cell_type": "code",
   "execution_count": 32,
   "metadata": {
    "collapsed": false
   },
   "outputs": [
    {
     "name": "stdout",
     "output_type": "stream",
     "text": [
      "A = \n",
      "[[ 1.          0.5         0.33333333]\n",
      " [ 1.          0.66666667  0.5       ]\n",
      " [ 1.          0.75        0.6       ]]\n",
      "\n",
      "Condition number for the matrix =\n",
      "451.2\n"
     ]
    }
   ],
   "source": [
    "from numpy import mat\n",
    "from __future__ import division\n",
    "A = mat([[1,1/2,1/3],[1/2,1/3,1/4],[1/3,1/4,1/5]])\n",
    "n = A[1,0]\n",
    "A[1,:] = A[1,:]/n\n",
    "n = A[2,0]\n",
    "A[2,:] = A[2,:]/n\n",
    "B = (A**-1)#\n",
    "print \"A = \\n\",A\n",
    "\n",
    "m=range(1,4)\n",
    "su=range(1,4)\n",
    "for j in range(1,4):\n",
    "    a = 0#\n",
    "    for i in range(1,4):\n",
    "        m[i-1]= A[j-1,i-1]\n",
    "        su[j-1] = a + m[i-1]#\n",
    "        a = su[j-1]#\n",
    "\n",
    "\n",
    "if su[0]< su[1]:\n",
    "    if su[1]< su[2]:\n",
    "        z = su[2]\n",
    "    else:\n",
    "        z = su[1]\n",
    "    \n",
    "else:\n",
    "     if su[0] < su[2]:\n",
    "        z = su[2]#\n",
    "     else:\n",
    "        z = su[0]#\n",
    "    \n",
    "m=range(1,4)\n",
    "sm=range(1,4)\n",
    "for j in  range(1,4):\n",
    "    a = 0#\n",
    "    for i in range(1,4):\n",
    "        m[i-1]= B[j-1,i-1]\n",
    "        sm[j-1]= a + abs(m[i-1])\n",
    "        a = sm[j-1]#\n",
    "\n",
    "\n",
    "if sm[0]< sm[1]:\n",
    "    if sm[1]< sm[2] :\n",
    "        y = sm[2]\n",
    "    else:\n",
    "        y = sm[1]\n",
    "    \n",
    "else:\n",
    "     if sm[0]< sm[2]:\n",
    "        y = sm[2]\n",
    "     else:\n",
    "        y = sm[0]#\n",
    "    \n",
    "\n",
    "C = z*y#\n",
    "print \"\\nCondition number for the matrix =\\n\",C\n",
    "\n"
   ]
  }
 ],
 "metadata": {
  "kernelspec": {
   "display_name": "Python 2",
   "language": "python",
   "name": "python2"
  },
  "language_info": {
   "codemirror_mode": {
    "name": "ipython",
    "version": 2
   },
   "file_extension": ".py",
   "mimetype": "text/x-python",
   "name": "python",
   "nbconvert_exporter": "python",
   "pygments_lexer": "ipython2",
   "version": "2.7.9"
  }
 },
 "nbformat": 4,
 "nbformat_minor": 0
}
