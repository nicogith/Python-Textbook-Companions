{
 "cells": [
  {
   "cell_type": "markdown",
   "metadata": {},
   "source": [
    "# Chapter-25 : Runge-Kutta Methods"
   ]
  },
  {
   "cell_type": "markdown",
   "metadata": {},
   "source": [
    "## Ex:25.1 Pg: 708"
   ]
  },
  {
   "cell_type": "code",
   "execution_count": 5,
   "metadata": {
    "collapsed": false
   },
   "outputs": [
    {
     "name": "stdout",
     "output_type": "stream",
     "text": [
      "x =  [ 0.   0.5  1.   1.5  2.   2.5  3.   3.5  4. ]\n",
      "\n",
      "true values of y =  [1.0, 3.21875, 3.0, 2.21875, 2.0, 2.71875, 4.0, 4.71875, 3.0]\n",
      "\n",
      "y by euler method = [1.0, 5.25, 5.875, 5.125, 4.5, 4.75, 5.875, 7.125, 7.0]\n",
      "\n",
      "error = [0.0, -63.106796116504853, -95.833333333333329, -130.98591549295776, -125.0, -74.712643678160916, -46.875, -50.993377483443709, -133.33333333333334]\n"
     ]
    }
   ],
   "source": [
    "from numpy import arange\n",
    "#dy/dx = -2*x**3 + 12*x**2 - 20*x + 8.5\n",
    "#therefore, y = -0.5*x**4 + 4*x**3 - 10*x**2 + 8.5 + c\n",
    "x1 = 0#\n",
    "y1 = 1#\n",
    "h = 0.5#\n",
    "c =-(-0.5*x1**4 + 4*x1**3 - 10*x1**2 + 8.5*x1 - y1)#\n",
    "x = arange(0,4.1,0.5)\n",
    "print \"x = \",x\n",
    "y=[]\n",
    "for xx in x:\n",
    "    y.append(-0.5*xx**4 + 4*xx**3 - 10*xx**2 + 8.5*xx + c)\n",
    "print \"\\ntrue values of y = \",y\n",
    "fxy=[]\n",
    "for xx in x:\n",
    "    fxy.append(-2*xx**3 + 12*xx**2 - 20*xx + 8.5)\n",
    "y2=[y[0]]\n",
    "e = [(y[0] - y2[0]) * 100 / y[0]]\n",
    "for i in range(1,9):\n",
    "    y2.append(y2[(i-1)] + fxy[(i-1)]*h)\n",
    "    e.append((y[(i)] - y2[(i)])*100/y[(i)])\n",
    "\n",
    "print \"\\ny by euler method =\",y2\n",
    "print \"\\nerror =\",e"
   ]
  },
  {
   "cell_type": "markdown",
   "metadata": {},
   "source": [
    "## Ex:25.2 Pg: 712"
   ]
  },
  {
   "cell_type": "code",
   "execution_count": 6,
   "metadata": {
    "collapsed": false
   },
   "outputs": [
    {
     "name": "stdout",
     "output_type": "stream",
     "text": [
      "Total truncation error = -2.03125\n"
     ]
    }
   ],
   "source": [
    "#f(x,y) = dy/dx = -2*x**3 + 12*x**2 - 20*x + 8.5\n",
    "#f'(x,y) = -6*x**2 + 24*x - 20\n",
    "#f\"(x,y) = -12*x + 24\n",
    "#f\"'(x,y) = -12\n",
    "x = 0#\n",
    "Et2 = (-6*x**2 + 24*x - 20) * 0.5**2 / 2\n",
    "Et3 = (-12*x + 24) * (0.5)**3 / 6#\n",
    "Et4 = (-12) *(0.5 ** 4) / 24#\n",
    "Et = Et2 + Et3 + Et4#\n",
    "print \"Total truncation error =\",Et"
   ]
  },
  {
   "cell_type": "markdown",
   "metadata": {},
   "source": [
    "## Ex:25.3 Pg: 713"
   ]
  },
  {
   "cell_type": "code",
   "execution_count": 8,
   "metadata": {
    "collapsed": false
   },
   "outputs": [
    {
     "name": "stdout",
     "output_type": "stream",
     "text": [
      "x =  [ 0.    0.25  0.5   0.75  1.    1.25  1.5   1.75  2.    2.25  2.5   2.75\n",
      "  3.    3.25  3.5   3.75  4.  ]\n",
      "\n",
      "true values of y =  [1.0, 2.560546875, 3.21875, 3.279296875, 3.0, 2.591796875, 2.21875, 1.998046875, 2.0, 2.248046875, 2.71875, 3.341796875, 4.0, 4.529296875, 4.71875, 4.310546875, 3.0]\n",
      "\n",
      "y by euler method = [1.0, 3.125, 4.1796875, 4.4921875, 4.34375, 3.96875, 3.5546875, 3.2421875, 3.125, 3.25, 3.6171875, 4.1796875, 4.84375, 5.46875, 5.8671875, 5.8046875, 5.0]\n",
      "\n",
      "error = [0.0, -22.04424103737605, -29.854368932038835, -36.986301369863014, -44.791666666666664, -53.127354935945739, -60.2112676056338, -62.267839687194524, -56.25, -44.569939183318851, -33.045977011494251, -25.073056691992985, -21.09375, -20.741699008193187, -24.337748344370862, -34.662437698232893, -66.666666666666671]\n"
     ]
    }
   ],
   "source": [
    "from numpy import arange\n",
    "#dy/dx = -2*x**3 + 12*x**2 - 20*x + 8.5\n",
    "#therefore, y = -0.5*x**4 + 4*x**3 - 10*x**2 + 8.5 + c\n",
    "x1 = 0#\n",
    "y1 = 1#\n",
    "h = 0.25#\n",
    "c =-(-0.5*x1**4 + 4*x1**3 - 10*x1**2 + 8.5*x1 - y1)#\n",
    "xx = arange(0,4.1,h)\n",
    "print \"x = \",xx\n",
    "y=[]\n",
    "for x in xx:\n",
    "    y.append(-0.5*x**4 + 4*x**3 - 10*x**2 + 8.5*x + c)\n",
    "print \"\\ntrue values of y = \",y\n",
    "fxy=[]\n",
    "for x in xx:\n",
    "    fxy.append(-2*x**3 + 12*x**2 - 20*x + 8.5)\n",
    "y2= [y[0]]\n",
    "e = [(y[0] - y2[0]) * 100 / y[0]]\n",
    "for i in range(1,17):\n",
    "    y2.append(y2[(i-1)] + fxy[(i-1)]*h)\n",
    "    e.append((y[(i)] - y2[(i)])*100/y[(i)])\n",
    "\n",
    "print \"\\ny by euler method =\",y2\n",
    "print \"\\nerror =\",e"
   ]
  }
 ],
 "metadata": {
  "kernelspec": {
   "display_name": "Python 2",
   "language": "python",
   "name": "python2"
  },
  "language_info": {
   "codemirror_mode": {
    "name": "ipython",
    "version": 2
   },
   "file_extension": ".py",
   "mimetype": "text/x-python",
   "name": "python",
   "nbconvert_exporter": "python",
   "pygments_lexer": "ipython2",
   "version": "2.7.9"
  }
 },
 "nbformat": 4,
 "nbformat_minor": 0
}
