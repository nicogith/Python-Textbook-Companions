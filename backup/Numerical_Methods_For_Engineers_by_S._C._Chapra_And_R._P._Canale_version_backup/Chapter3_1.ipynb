{
 "cells": [
  {
   "cell_type": "markdown",
   "metadata": {},
   "source": [
    "# CHAPTER 3 : Approximations and Round off Errors"
   ]
  },
  {
   "cell_type": "markdown",
   "metadata": {},
   "source": [
    "## Ex : 3.1 Pg : 56"
   ]
  },
  {
   "cell_type": "code",
   "execution_count": 2,
   "metadata": {
    "collapsed": false
   },
   "outputs": [
    {
     "name": "stdout",
     "output_type": "stream",
     "text": [
      "a. The true error is\n",
      "for the bridge :  1 cm\n",
      "for the rivet :  1 cm\n",
      "b. The percent relative error is\n",
      "for the bridge :  0.01 cm\n",
      "for the rivet :  10.0 cm\n"
     ]
    }
   ],
   "source": [
    "from __future__ import division\n",
    "lbm=9999# #cm, measured length of bridge\n",
    "lrm=9##cm, measured length of rivet\n",
    "lbt=10000##cm, true length of bridge\n",
    "lrt=10##cm,true length of rivet\n",
    "#calculating true error below#\n",
    "Etb=lbt-lbm##cm, true error in bridge\n",
    "Etr=lrt-lrm##cm, true error in rivet\n",
    "#calculating percent relative error below\n",
    "etb=Etb*100/lbt##percent relative error for bridge\n",
    "etr=Etb*100/lrt##percent relative error for rivet\n",
    "print \"a. The true error is\"\n",
    "print \"for the bridge : \",Etb,\"cm\"\n",
    "print \"for the rivet : \",Etr,\"cm\"\n",
    "print \"b. The percent relative error is\"\n",
    "print \"for the bridge : \",etb,\"cm\"\n",
    "print \"for the rivet : \",etr,\"cm\""
   ]
  },
  {
   "cell_type": "markdown",
   "metadata": {},
   "source": [
    "## Ex 3.2 : Pg : 58"
   ]
  },
  {
   "cell_type": "code",
   "execution_count": 18,
   "metadata": {
    "collapsed": false
   },
   "outputs": [
    {
     "name": "stdout",
     "output_type": "stream",
     "text": [
      "Terms\t\t\tResult\t\t\t\tet(%)\t\t\t\tea(%)\n",
      "----------------------------------------------------------------------------------------------------\n",
      "1 \t\t\t1.00000 \t\t\t39.3469240702 \t\t\t100\n",
      "----------------------------------------------------------------------------------------------------\n",
      "2 \t\t\t2.00000 \t\t\t-21.3061518595 \t\t\t50.0\n",
      "----------------------------------------------------------------------------------------------------\n",
      "3 \t\t\t2.50000 \t\t\t-51.6326898244 \t\t\t20.0\n",
      "----------------------------------------------------------------------------------------------------\n",
      "4 \t\t\t2.62500 \t\t\t-59.2143243156 \t\t\t4.7619047619\n",
      "----------------------------------------------------------------------------------------------------\n",
      "5 \t\t\t2.64583 \t\t\t-60.4779300642 \t\t\t0.787401574803\n",
      "----------------------------------------------------------------------------------------------------\n",
      "6 \t\t\t2.64844 \t\t\t-60.6358807827 \t\t\t0.0983284169125\n",
      "----------------------------------------------------------------------------------------------------\n"
     ]
    }
   ],
   "source": [
    "from __future__ import division\n",
    "from math import factorial\n",
    "n=3##number of significant figures\n",
    "es=0.5*(10**(2-n))##percent, specified error criterion\n",
    "x=0.5#\n",
    "f=[]\n",
    "f.append(1)##first estimate f=e**x = 1\n",
    "ft=1.648721##true value of e**0.5=f\n",
    "et=[]\n",
    "et.append((ft-f[0])*100/ft)\n",
    "ea=[]\n",
    "ea.append(100)\n",
    "i=1\n",
    "while ea[i-1]>=es:\n",
    "    f.append(f[(i-1)]+(x**(i-1))/(factorial(i-1)))\n",
    "    et.append((ft-f[(i)])*100/ft)\n",
    "    ea.append((f[(i)]-f[(i-1)])*100/f[(i)])\n",
    "    i=i+1#\n",
    "\n",
    "print \"Terms\\t\\t\\tResult\\t\\t\\t\\tet(%)\\t\\t\\t\\tea(%)\"\n",
    "print '-'*100\n",
    "for j in range(0,i-1):\n",
    "    print j+1,'\\t\\t\\t%0.5f'%f[j],'\\t\\t\\t',et[j],'\\t\\t\\t',ea[j]\n",
    "    print '-'*100"
   ]
  },
  {
   "cell_type": "markdown",
   "metadata": {},
   "source": [
    "## Ex 3.3 Pg: 60"
   ]
  },
  {
   "cell_type": "code",
   "execution_count": 1,
   "metadata": {
    "collapsed": false
   },
   "outputs": [
    {
     "name": "stdout",
     "output_type": "stream",
     "text": [
      "Thus a 16-bit computer word can store decimal integers ranging from -32767 to 32767\n"
     ]
    }
   ],
   "source": [
    "n=16##no of bits\n",
    "num=0#\n",
    "for i in range(0,(n-1)):\n",
    "    num=num+(1*(2**i))#\n",
    "\n",
    "print \"Thus a 16-bit computer word can store decimal integers ranging from\",(-1*num),\"to\",num"
   ]
  },
  {
   "cell_type": "markdown",
   "metadata": {},
   "source": [
    "## Ex 3.4: Pg :63"
   ]
  },
  {
   "cell_type": "code",
   "execution_count": 2,
   "metadata": {
    "collapsed": false
   },
   "outputs": [
    {
     "name": "stdout",
     "output_type": "stream",
     "text": [
      "The smallest possible positive number for this system is :  0.0625\n"
     ]
    }
   ],
   "source": [
    "n=7##no. of bits\n",
    "#the maximum value of exponents is given by\n",
    "max=1*(2**1)+1*(2**0)#\n",
    "#mantissa is found by\n",
    "mantissa=1*(2**-1)+0*(2**-3)+0*(2**-3)#\n",
    "num=mantissa*(2**(max*-1))##smallest possible positive number for this system\n",
    "print \"The smallest possible positive number for this system is : \",num"
   ]
  },
  {
   "cell_type": "markdown",
   "metadata": {},
   "source": [
    "## Ex 3.5: Pg :65"
   ]
  },
  {
   "cell_type": "code",
   "execution_count": 3,
   "metadata": {
    "collapsed": false
   },
   "outputs": [
    {
     "name": "stdout",
     "output_type": "stream",
     "text": [
      "value of epsilon= 0.25\n"
     ]
    }
   ],
   "source": [
    "b=2##base\n",
    "t=3##number of mantissa bits\n",
    "E=2**(1-t)##epsilon\n",
    "print \"value of epsilon=\",E"
   ]
  },
  {
   "cell_type": "markdown",
   "metadata": {},
   "source": [
    "## Ex 3.6: Pg :68"
   ]
  },
  {
   "cell_type": "code",
   "execution_count": 4,
   "metadata": {
    "collapsed": false
   },
   "outputs": [
    {
     "name": "stdout",
     "output_type": "stream",
     "text": [
      "Input a number: 15\n",
      "The number summed up 100,000 times is= 1500000\n"
     ]
    }
   ],
   "source": [
    "num=input(\"Input a number: \")\n",
    "Sum=0#\n",
    "for i in range(0,100000):\n",
    "    Sum=Sum+num#\n",
    "\n",
    "print \"The number summed up 100,000 times is=\",Sum"
   ]
  },
  {
   "cell_type": "markdown",
   "metadata": {},
   "source": [
    "## Ex 3.7: Pg :71"
   ]
  },
  {
   "cell_type": "code",
   "execution_count": 5,
   "metadata": {
    "collapsed": false
   },
   "outputs": [
    {
     "name": "stdout",
     "output_type": "stream",
     "text": [
      "The roots of the quadratic equation (x**2)+(3000.001*x)+3=0 are =  -0.000999999999976 & -3000.0\n"
     ]
    }
   ],
   "source": [
    "a=1#\n",
    "b=3000.001#\n",
    "c=3#\n",
    "#the roots of the quadratic equation x**2+3000.001*x+3=0 are found as\n",
    "D=(b**2)-4*a*c#\n",
    "x1=(-b+(D**0.5))/(2*a)#\n",
    "x2=(-b-(D**0.5))/(2*a)#\n",
    "print \"The roots of the quadratic equation (x**2)+(3000.001*x)+3=0 are = \",x1,'&',x2"
   ]
  },
  {
   "cell_type": "markdown",
   "metadata": {},
   "source": [
    "## Ex 3.8: Pg :73"
   ]
  },
  {
   "cell_type": "code",
   "execution_count": 6,
   "metadata": {
    "collapsed": false
   },
   "outputs": [
    {
     "name": "stdout",
     "output_type": "stream",
     "text": [
      "Input value of x:1.25\n",
      "sum: 1 term: 1 i: 0\n",
      "-------------------------------------\n",
      "sum: 2.25 term: 1.25 i: 1\n",
      "-------------------------------------\n",
      "sum: 3.03125 term: 0.78125 i: 2\n",
      "-------------------------------------\n",
      "sum: 3.35677083333 term: 0.325520833333 i: 3\n",
      "-------------------------------------\n",
      "sum: 3.45849609375 term: 0.101725260417 i: 4\n",
      "-------------------------------------\n",
      "sum: 3.48392740885 term: 0.0254313151042 i: 5\n",
      "-------------------------------------\n",
      "sum: 3.4892255995 term: 0.0052981906467 i: 6\n",
      "-------------------------------------\n",
      "sum: 3.49017170497 term: 0.000946105472625 i: 7\n",
      "-------------------------------------\n",
      "sum: 3.49031953395 term: 0.000147828980098 i: 8\n",
      "-------------------------------------\n",
      "sum: 3.49034006576 term: 2.05318027913e-05 i: 9\n",
      "-------------------------------------\n",
      "sum: 3.49034263223 term: 2.56647534892e-06 i: 10\n",
      "-------------------------------------\n",
      "sum: 3.49034292388 term: 2.91644926013e-07 i: 11\n",
      "-------------------------------------\n",
      "sum: 3.49034295426 term: 3.03796797931e-08 i: 12\n",
      "-------------------------------------\n",
      "sum: 3.49034295718 term: 2.92112305703e-09 i: 13\n",
      "-------------------------------------\n",
      "sum: 3.49034295744 term: 2.60814558663e-10 i: 14\n",
      "-------------------------------------\n",
      "sum: 3.49034295746 term: 2.17345465553e-11 i: 15\n",
      "-------------------------------------\n",
      "sum: 3.49034295746 term: 1.69801144963e-12 i: 16\n",
      "-------------------------------------\n",
      "sum: 3.49034295746 term: 1.24853783061e-13 i: 17\n",
      "-------------------------------------\n",
      "sum: 3.49034295746 term: 8.67040160146e-15 i: 18\n",
      "-------------------------------------\n",
      "sum: 3.49034295746 term: 5.7042115799e-16 i: 19\n",
      "-------------------------------------\n",
      "Exact Value: 3.49034295746\n"
     ]
    }
   ],
   "source": [
    "from math import exp\n",
    "def f(x):\n",
    "    y=exp(x)\n",
    "    return y\n",
    "Sum=1#\n",
    "test=0#\n",
    "i=0#\n",
    "term=1#\n",
    "x=input(\"Input value of x:\")\n",
    "while Sum!=test:\n",
    "    print \"sum:\",Sum,\"term:\",term,\"i:\",i\n",
    "    print \"-------------------------------------\"\n",
    "    i=i+1#\n",
    "    term=term*x/i#\n",
    "    test=Sum#\n",
    "    Sum=Sum+term#\n",
    "\n",
    "print \"Exact Value:\",f(x)"
   ]
  }
 ],
 "metadata": {
  "kernelspec": {
   "display_name": "Python 2",
   "language": "python",
   "name": "python2"
  },
  "language_info": {
   "codemirror_mode": {
    "name": "ipython",
    "version": 2
   },
   "file_extension": ".py",
   "mimetype": "text/x-python",
   "name": "python",
   "nbconvert_exporter": "python",
   "pygments_lexer": "ipython2",
   "version": "2.7.9"
  }
 },
 "nbformat": 4,
 "nbformat_minor": 0
}
