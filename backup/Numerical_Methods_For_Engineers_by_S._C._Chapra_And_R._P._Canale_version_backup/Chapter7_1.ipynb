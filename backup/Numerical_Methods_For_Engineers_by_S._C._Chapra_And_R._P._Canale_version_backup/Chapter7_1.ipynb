{
 "cells": [
  {
   "cell_type": "markdown",
   "metadata": {},
   "source": [
    "# Chapter 7 : Roots of polynomials"
   ]
  },
  {
   "cell_type": "markdown",
   "metadata": {},
   "source": [
    "## Ex7.1: Pg: 179"
   ]
  },
  {
   "cell_type": "code",
   "execution_count": 1,
   "metadata": {
    "collapsed": false
   },
   "outputs": [
    {
     "name": "stdout",
     "output_type": "stream",
     "text": [
      "The quptient is a(1)+a(2)*x where :\n",
      "a(1)= 6\n",
      "a(2)= 1\n",
      "remainder= 0\n"
     ]
    }
   ],
   "source": [
    "from numpy import arange\n",
    "def f(x):\n",
    "    y=(x-4)*(x+6)\n",
    "    return y\n",
    "n=2\n",
    "a=[0,-24,2,1]\n",
    "t=4\n",
    "r=a[(3)]\n",
    "a[(3)]=0\n",
    "for i in arange(n,0,-1):\n",
    "    s=a[(i)]\n",
    "    a[(i)]=r\n",
    "    r=s+r*t\n",
    "\n",
    "print \"The quptient is a(1)+a(2)*x where :\"\n",
    "print \"a(1)=\",a[1]\n",
    "print \"a(2)=\",a[2]\n",
    "print \"remainder=\",r"
   ]
  },
  {
   "cell_type": "markdown",
   "metadata": {},
   "source": [
    "## Ex7.2: Pg: 183"
   ]
  },
  {
   "cell_type": "code",
   "execution_count": 2,
   "metadata": {
    "collapsed": false
   },
   "outputs": [
    {
     "name": "stdout",
     "output_type": "stream",
     "text": [
      "iteration: 0\n",
      "xr: 5\n",
      "---------------------------------------------\n",
      "iteration: 0\n",
      "xr: 3.97648704224\n",
      "ea(%): 25.7391246818 %\n",
      "---------------------------------------------\n",
      "iteration: 1\n",
      "xr: 4.00105049882\n",
      "ea(%): 0.613925182444 %\n",
      "---------------------------------------------\n",
      "iteration: 2\n",
      "xr: 4.00000070527\n",
      "ea(%): 0.026244833989 %\n",
      "---------------------------------------------\n",
      "iteration: 3\n",
      "xr: 4.0\n",
      "ea(%): 1.76317506373e-05 %\n",
      "---------------------------------------------\n"
     ]
    }
   ],
   "source": [
    "def f(x):\n",
    "    y=x**3 - 13*x - 12\n",
    "    return y\n",
    "\n",
    "x1t=-3\n",
    "x2t=-1\n",
    "x3t=4\n",
    "x0=4.5\n",
    "x1=5.5\n",
    "x2=5\n",
    "print \"iteration:\",0\n",
    "print \"xr:\",x2\n",
    "print \"---------------------------------------------\"\n",
    "for i in range(0,4):\n",
    "\n",
    "    h0=x1-x0\n",
    "    h1=x2-x1\n",
    "    d0=(f(x1)-f(x0))/(x1-x0)\n",
    "    d1=(f(x2)-f(x1))/(x2-x1)\n",
    "    a=(d1-d0)/(h1+h0)\n",
    "    b=a*h1+d1\n",
    "    c=f(x2)\n",
    "    d=(b**2 - 4*a*c)**0.5\n",
    "    if abs(b+d)>abs(b-d):\n",
    "        x3=x2+((-2*c)/(b+d))\n",
    "    else:\n",
    "        x3=x2+((-2*c)/(b-d))\n",
    "    ea=abs(x3-x2)*100/x3\n",
    "    x0=x1\n",
    "    x1=x2\n",
    "    x2=x3\n",
    "    print \"iteration:\",i\n",
    "    print \"xr:\",x2\n",
    "    print \"ea(%):\",ea,\"%\"\n",
    "    print \"---------------------------------------------\""
   ]
  },
  {
   "cell_type": "markdown",
   "metadata": {},
   "source": [
    "## Ex7.3: Pg: 187"
   ]
  },
  {
   "cell_type": "code",
   "execution_count": 3,
   "metadata": {
    "collapsed": false
   },
   "outputs": [
    {
     "name": "stdout",
     "output_type": "stream",
     "text": [
      "Iteration: 1\n",
      "delata r: 0.212481426449\n",
      "delata s: 1.61961367013\n",
      "r: -0.787518573551\n",
      "s: 0.619613670134\n",
      "Error in r: 26.9811320755\n",
      "Error in s: 261.39088729\n",
      "-----------------------------------------------------\n",
      "Iteration: 2\n",
      "delata r: 4.04595826496\n",
      "delata s: 5.2325468461\n",
      "r: 3.25843969141\n",
      "s: 5.85216051623\n",
      "Error in r: 124.168579079\n",
      "Error in s: 89.4122235982\n",
      "-----------------------------------------------------\n",
      "Iteration: 3\n",
      "delata r: 2.4536017174\n",
      "delata s: -24.7953826358\n",
      "r: 5.71204140882\n",
      "s: -18.9432221196\n",
      "Error in r: 42.9549007403\n",
      "Error in s: 130.893163155\n",
      "-----------------------------------------------------\n",
      "Iteration: 4\n",
      "delata r: -7.89009085\n",
      "delata s: 22.0401977474\n",
      "r: -2.17804944119\n",
      "s: 3.09697562788\n",
      "Error in r: 362.254901143\n",
      "Error in s: 711.668427386\n",
      "-----------------------------------------------------\n",
      "Iteration: 5\n",
      "delata r: -58.1023530819\n",
      "delata s: 185.887882155\n",
      "r: -60.2804025231\n",
      "s: 188.984857783\n",
      "Error in r: 96.386803422\n",
      "Error in s: 98.3612572646\n",
      "-----------------------------------------------------\n",
      "Iteration: 6\n",
      "delata r: 1160.70485616\n",
      "delata s: 90001.7445985\n",
      "r: 1100.42445363\n",
      "s: 90190.7294562\n",
      "Error in r: 105.477922844\n",
      "Error in s: 99.7904608834\n",
      "-----------------------------------------------------\n",
      "Iteration: 7\n",
      "delata r: -21882.7802726\n",
      "delata s: 31520060.138\n",
      "r: -20782.355819\n",
      "s: 31610250.8675\n",
      "Error in r: 105.294993807\n",
      "Error in s: 99.7146788558\n",
      "-----------------------------------------------------\n",
      "Iteration: 8\n",
      "delata r: 411986.000256\n",
      "delata s: 11197461422.1\n",
      "r: 391203.644438\n",
      "s: 11229071673.0\n",
      "Error in r: 105.312413653\n",
      "Error in s: 99.7184963122\n",
      "-----------------------------------------------------\n",
      "Iteration: 9\n",
      "delata r: -7758767.67604\n",
      "delata s: 3.9700158833e+12\n",
      "r: -7367564.0316\n",
      "s: 3.98124495498e+12\n",
      "Error in r: 105.309809901\n",
      "Error in s: 99.7179507466\n",
      "-----------------------------------------------------\n",
      "Iteration: 10\n",
      "delata r: 146111056.094\n",
      "delata s: 1.4079763212e+15\n",
      "r: 138743492.063\n",
      "s: 1.41195756615e+15\n",
      "Error in r: 105.310205129\n",
      "Error in s: 99.7180336683\n",
      "-----------------------------------------------------\n",
      "Iteration: 11\n",
      "delata r: -2751543853.16\n",
      "delata s: 4.99319657786e+17\n",
      "r: -2612800361.1\n",
      "s: 5.00731615352e+17\n",
      "Error in r: 105.310145166\n",
      "Error in s: 99.718021087\n",
      "-----------------------------------------------------\n",
      "Iteration: 12\n",
      "delata r: 51816650788.5\n",
      "delata s: 1.77078151694e+20\n",
      "r: 49203850427.4\n",
      "s: 1.7757888331e+20\n",
      "Error in r: 105.310154263\n",
      "Error in s: 99.7180229957\n",
      "-----------------------------------------------------\n",
      "Iteration: 13\n",
      "delata r: -9.75803357309e+11\n",
      "delata s: 6.27987270746e+22\n",
      "r: -9.26599506881e+11\n",
      "s: 6.29763059579e+22\n",
      "Error in r: 105.310152883\n",
      "Error in s: 99.7180227061\n",
      "-----------------------------------------------------\n",
      "Iteration: 14\n",
      "delata r: 1.83761812944e+13\n",
      "delata s: 2.22708488435e+25\n",
      "r: 1.74495817875e+13\n",
      "s: 2.23338251495e+25\n",
      "Error in r: 105.310153092\n",
      "Error in s: 99.7180227501\n",
      "-----------------------------------------------------\n",
      "Iteration: 15\n",
      "delata r: -3.46057469143e+14\n",
      "delata s: 7.89810111349e+27\n",
      "r: -3.28607887356e+14\n",
      "s: 7.92043493864e+27\n",
      "Error in r: 105.310153061\n",
      "Error in s: 99.7180227434\n",
      "-----------------------------------------------------\n",
      "Iteration: 16\n",
      "delata r: 6.51690195935e+15\n",
      "delata s: 2.80097098525e+30\n",
      "r: 6.18829407199e+15\n",
      "s: 2.80889142018e+30\n",
      "Error in r: 105.310153065\n",
      "Error in s: 99.7180227444\n",
      "-----------------------------------------------------\n",
      "Iteration: 17\n",
      "delata r: -1.22725312811e+17\n",
      "delata s: 9.93332238103e+32\n",
      "r: -1.16537018739e+17\n",
      "s: 9.96141129523e+32\n",
      "Error in r: 105.310153065\n",
      "Error in s: 99.7180227443\n",
      "-----------------------------------------------------\n",
      "Iteration: 18\n",
      "delata r: 2.31114454359e+18\n",
      "delata s: 3.5227388664e+35\n",
      "r: 2.19460752485e+18\n",
      "s: 3.53270027769e+35\n",
      "Error in r: 105.310153065\n",
      "Error in s: 99.7180227443\n",
      "-----------------------------------------------------\n",
      "Iteration: 19\n",
      "delata r: -4.35231247656e+19\n",
      "delata s: 1.24929893994e+38\n",
      "r: -4.13285172407e+19\n",
      "s: 1.25283164021e+38\n",
      "Error in r: 105.310153065\n",
      "Error in s: 99.7180227443\n",
      "-----------------------------------------------------\n",
      "Iteration: 20\n",
      "delata r: 8.19620908009e+20\n",
      "delata s: 4.43049541996e+40\n",
      "r: 7.78292390768e+20\n",
      "s: 4.44302373636e+40\n",
      "Error in r: 105.310153065\n",
      "Error in s: 99.7180227443\n",
      "-----------------------------------------------------\n",
      "Iteration: 21\n",
      "delata r: -1.54349770717e+22\n",
      "delata s: 1.57122439144e+43\n",
      "r: -1.46566846809e+22\n",
      "s: 1.57566741518e+43\n",
      "Error in r: 105.310153065\n",
      "Error in s: 99.7180227443\n",
      "-----------------------------------------------------\n",
      "Iteration: 22\n",
      "delata r: 2.90669155552e+23\n",
      "delata s: 5.57216711507e+45\n",
      "r: 2.76012470871e+23\n",
      "s: 5.58792378922e+45\n",
      "Error in r: 105.310153065\n",
      "Error in s: 99.7180227443\n",
      "-----------------------------------------------------\n",
      "Iteration: 23\n",
      "delata r: -5.47383760902e+24\n",
      "delata s: 1.97610516534e+48\n",
      "r: -5.19782513815e+24\n",
      "s: 1.98169308913e+48\n",
      "Error in r: 105.310153065\n",
      "Error in s: 99.7180227443\n",
      "-----------------------------------------------------\n",
      "Iteration: 24\n",
      "delata r: 1.03082482601e+26\n",
      "delata s: 7.00803034767e+50\n",
      "r: 9.78846574632e+25\n",
      "s: 7.02784727856e+50\n",
      "Error in r: 105.310153065\n",
      "Error in s: 99.7180227443\n",
      "-----------------------------------------------------\n",
      "Iteration: 25\n",
      "delata r: -1.94123373367e+27\n",
      "delata s: 2.48531759419e+53\n",
      "r: -1.8433490762e+27\n",
      "s: 2.49234544147e+53\n",
      "Error in r: 105.310153065\n",
      "Error in s: 99.7180227443\n",
      "-----------------------------------------------------\n",
      "Iteration: 26\n",
      "delata r: 3.6557020297e+28\n",
      "delata s: 8.81389382974e+55\n",
      "r: 3.47136712208e+28\n",
      "s: 8.83881728416e+55\n",
      "Error in r: 105.310153065\n",
      "Error in s: 99.7180227443\n",
      "-----------------------------------------------------\n",
      "Iteration: 27\n",
      "delata r: -6.88436281433e+29\n",
      "delata s: 3.12574636833e+58\n",
      "r: -6.53722610212e+29\n",
      "s: 3.13458518562e+58\n",
      "Error in r: 105.310153065\n",
      "Error in s: 99.7180227443\n",
      "-----------------------------------------------------\n",
      "Iteration: 28\n",
      "delata r: 1.29645280097e+31\n",
      "delata s: 1.10851010324e+61\n",
      "r: 1.23108053995e+31\n",
      "s: 1.11164468843e+61\n",
      "Error in r: 105.310153065\n",
      "Error in s: 99.7180227443\n",
      "-----------------------------------------------------\n",
      "Iteration: 29\n",
      "delata r: -2.44146032172e+32\n",
      "delata s: 3.93120395638e+63\n",
      "r: -2.31835226773e+32\n",
      "s: 3.94232040327e+63\n",
      "Error in r: 105.310153065\n",
      "Error in s: 99.7180227443\n",
      "-----------------------------------------------------\n",
      "Iteration: 30\n",
      "delata r: 4.59772118049e+33\n",
      "delata s: 1.39415639979e+66\n",
      "r: 4.36588595372e+33\n",
      "s: 1.3980987202e+66\n",
      "Error in r: 105.310153065\n",
      "Error in s: 99.7180227443\n",
      "-----------------------------------------------------\n",
      "Iteration: 31\n",
      "delata r: -8.65835904252e+34\n",
      "delata s: 4.94421578898e+68\n",
      "r: -8.22177044714e+34\n",
      "s: 4.95819677619e+68\n",
      "Error in r: 105.310153065\n",
      "Error in s: 99.7180227443\n",
      "-----------------------------------------------------\n",
      "Iteration: 32\n",
      "delata r: 1.63052908966e+36\n",
      "delata s: 1.75340942893e+71\n",
      "r: 1.54831138518e+36\n",
      "s: 1.75836762571e+71\n",
      "Error in r: 105.310153065\n",
      "Error in s: 99.7180227443\n",
      "-----------------------------------------------------\n",
      "Iteration: 33\n",
      "delata r: -3.07058773973e+37\n",
      "delata s: 6.21826545742e+73\n",
      "r: -2.91575660121e+37\n",
      "s: 6.23584913368e+73\n",
      "Error in r: 105.310153065\n",
      "Error in s: 99.7180227443\n",
      "-----------------------------------------------------\n",
      "Iteration: 34\n",
      "delata r: 5.78248442618e+38\n",
      "delata s: 2.20523653295e+76\n",
      "r: 5.49090876606e+38\n",
      "s: 2.21147238208e+76\n",
      "Error in r: 105.310153065\n",
      "Error in s: 99.7180227443\n",
      "-----------------------------------------------------\n",
      "Iteration: 35\n",
      "delata r: -inf\n",
      "delata s: inf\n",
      "r: -inf\n",
      "s: inf\n",
      "Error in r: nan\n",
      "Error in s: nan\n",
      "-----------------------------------------------------\n",
      "[nan, -inf] The roots are:\n",
      "x**3 - 4*x**2 + 5.25*x - 2.5 The quotient is:\n",
      "-----------------------------------------------------\n"
     ]
    }
   ],
   "source": [
    "from numpy import arange\n",
    "def f(x):\n",
    "    y=x**5-3.5*x**4+2.75*x**3+2.125*x**2-3.875*x+1.25\n",
    "    return y\n",
    "r=-1\n",
    "s=-1\n",
    "es=1##%\n",
    "n=6\n",
    "count=1\n",
    "ear=100\n",
    "eas=100\n",
    "a=[0,1.25, -3.875, 2.125, 2.75, -3.5, 1]\n",
    "b=a\n",
    "c=a\n",
    "while (ear>es) and (eas>es):\n",
    "  \n",
    "    b[(n)]=a[(n)]\n",
    "    b[(n-1)]=a[(n-1)]+r*b[(n)]\n",
    "    for i in arange(n-2,0,-1):\n",
    "        b[(i)]=a[(i)]+r*b[(i+1)]+s*b[(i+2)]\n",
    "\n",
    "    c[(n)]=b[(n)]\n",
    "    c[(n-1)]=b[(n-1)]+r*c[(n)]\n",
    "    for i in arange((n-2),1,-1):\n",
    "        c[(i)]=b[(i)]+r*c[(i+1)]+s*c[(i+2)]\n",
    "    \n",
    "    #c(3)*dr+c(4)*ds=-b(2)\n",
    "    #c(2)*dr+c(3)*ds=-b(1)\n",
    "    ds=((-b[(1)])+(b[(2)]*c[(2)]/c[(3)]))/(c[(3)]-(c[(4)]*c[(2)]/c[(3)]))\n",
    "    dr=(-b[(2)]-c[(4)]*ds)/c[(3)]\n",
    "    r=r+dr\n",
    "    s=s+ds\n",
    "    ear=abs(dr/r)*100\n",
    "    eas=abs(ds/s)*100\n",
    "    print \"Iteration:\",count\n",
    "    print \"delata r:\",dr\n",
    "    print \"delata s:\",ds\n",
    "    print \"r:\",r\n",
    "    print \"s:\",s\n",
    "    print \"Error in r:\",ear\n",
    "    print \"Error in s:\",eas\n",
    "    print \"-----------------------------------------------------\"\n",
    "    count=count+1\n",
    "\n",
    "x1=(r+(r**2 + 4*s)**0.5)/2\n",
    "x2=(r-(r**2 + 4*s)**0.5)/2\n",
    "bracket=[x1, x2]\n",
    "print bracket,\"The roots are:\"\n",
    "print \"x**3 - 4*x**2 + 5.25*x - 2.5\",\"The quotient is:\"\n",
    "print \"-----------------------------------------------------\"\n"
   ]
  },
  {
   "cell_type": "markdown",
   "metadata": {},
   "source": [
    "## Ex7.4: Pg: 191"
   ]
  },
  {
   "cell_type": "code",
   "execution_count": 4,
   "metadata": {
    "collapsed": false
   },
   "outputs": [
    {
     "name": "stdout",
     "output_type": "stream",
     "text": [
      "The root is= 0.738868466337\n"
     ]
    }
   ],
   "source": [
    "from math import cos\n",
    "def f(x):\n",
    "    y=x-cos(x)\n",
    "    return y\n",
    "x1=0\n",
    "if f(x1)<0:\n",
    "    x2=x1+0.001\n",
    "    while f(x2)<0:\n",
    "        x2=x2+0.001\n",
    "    \n",
    "elif x20==x1+0.001:\n",
    "    while f(x2)>0:\n",
    "        x2=x2+0.001\n",
    "    \n",
    "else:\n",
    "    print \"The root is=\",x1\n",
    "\n",
    "x=x2-(x2-x1)*f(x2)/(f(x2)-f(x1))\n",
    "print \"The root is=\",x"
   ]
  },
  {
   "cell_type": "markdown",
   "metadata": {},
   "source": [
    "## Ex7.5: Pg: 191"
   ]
  },
  {
   "cell_type": "code",
   "execution_count": 5,
   "metadata": {
    "collapsed": false
   },
   "outputs": [
    {
     "name": "stdout",
     "output_type": "stream",
     "text": [
      "x= 2\n",
      "y= 3.0\n"
     ]
    }
   ],
   "source": [
    "def u(x,y):\n",
    "    z=x**2+x*y-10\n",
    "    return z\n",
    "def v(x,y):\n",
    "    z=y+3*x*y**2-57\n",
    "    return z\n",
    "x=1\n",
    "y=3.5\n",
    "while u(x,y)!=v(x,y):\n",
    "    x=x+1\n",
    "    y=y-0.5\n",
    "\n",
    "print \"x=\",x\n",
    "print \"y=\",y"
   ]
  },
  {
   "cell_type": "markdown",
   "metadata": {},
   "source": [
    "## Ex7.6: Pg: 194"
   ]
  },
  {
   "cell_type": "code",
   "execution_count": 6,
   "metadata": {
    "collapsed": false
   },
   "outputs": [
    {
     "name": "stdout",
     "output_type": "stream",
     "text": [
      "The roots of the polynomial are:\n",
      "-1\n",
      "1\n",
      "-1/4 + sqrt(5)/4 - I*sqrt(sqrt(5)/8 + 5/8)\n",
      "-1/4 + sqrt(5)/4 + I*sqrt(sqrt(5)/8 + 5/8)\n",
      "1/4 + sqrt(5)/4 - I*sqrt(-sqrt(5)/8 + 5/8)\n",
      "1/4 + sqrt(5)/4 + I*sqrt(-sqrt(5)/8 + 5/8)\n",
      "-sqrt(5)/4 - 1/4 - I*sqrt(-sqrt(5)/8 + 5/8)\n",
      "-sqrt(5)/4 - 1/4 + I*sqrt(-sqrt(5)/8 + 5/8)\n",
      "-sqrt(5)/4 + 1/4 - I*sqrt(sqrt(5)/8 + 5/8)\n",
      "-sqrt(5)/4 + 1/4 + I*sqrt(sqrt(5)/8 + 5/8)\n"
     ]
    }
   ],
   "source": [
    "from sympy import symbols,solve\n",
    "x=symbols('s')\n",
    "p=x**10 -1\n",
    "print \"The roots of the polynomial are:\"\n",
    "for r in solve(p):\n",
    "    print r"
   ]
  },
  {
   "cell_type": "markdown",
   "metadata": {},
   "source": [
    "## Ex7.7: Pg: 195"
   ]
  },
  {
   "cell_type": "code",
   "execution_count": 7,
   "metadata": {
    "collapsed": false
   },
   "outputs": [
    {
     "name": "stdout",
     "output_type": "stream",
     "text": [
      "The roots of the polynomial are:\n",
      "-1.00000000000000\n",
      "0.500000000000000\n",
      "2.00000000000000\n",
      "1.0 - 0.5*I\n",
      "1.0 + 0.5*I\n"
     ]
    }
   ],
   "source": [
    "from sympy import symbols,solve\n",
    "x=symbols('s')\n",
    "p=x**5 - 3.5*x**4 +2.75*x**3 +2.125*x**2 - 3.875*x + 1.25\n",
    "print \"The roots of the polynomial are:\"\n",
    "for r in solve(p):\n",
    "    print r"
   ]
  },
  {
   "cell_type": "markdown",
   "metadata": {},
   "source": [
    "## Ex7.8: Pg: 196"
   ]
  },
  {
   "cell_type": "code",
   "execution_count": 8,
   "metadata": {
    "collapsed": false
   },
   "outputs": [
    {
     "name": "stdout",
     "output_type": "stream",
     "text": [
      "The root is= 0.739083980074\n"
     ]
    }
   ],
   "source": [
    "from math import cos\n",
    "def f(x):\n",
    "    y=x-cos(x)\n",
    "    return y\n",
    "x1=0\n",
    "if f(x1)<0:\n",
    "    x2=x1+0.00001\n",
    "    while f(x2)<0:\n",
    "        x2=x2+0.00001\n",
    "    \n",
    "elif x2==x1+0.00001:\n",
    "    while f(x2)>0:\n",
    "        x2=x2+0.00001\n",
    "    \n",
    "else:\n",
    "    print x1,\"The root is=\"\n",
    "\n",
    "x=x2-(x2-x1)*f(x2)/(f(x2)-f(x1))\n",
    "print \"The root is=\",x"
   ]
  }
 ],
 "metadata": {
  "kernelspec": {
   "display_name": "Python 2",
   "language": "python",
   "name": "python2"
  },
  "language_info": {
   "codemirror_mode": {
    "name": "ipython",
    "version": 2
   },
   "file_extension": ".py",
   "mimetype": "text/x-python",
   "name": "python",
   "nbconvert_exporter": "python",
   "pygments_lexer": "ipython2",
   "version": "2.7.9"
  }
 },
 "nbformat": 4,
 "nbformat_minor": 0
}
