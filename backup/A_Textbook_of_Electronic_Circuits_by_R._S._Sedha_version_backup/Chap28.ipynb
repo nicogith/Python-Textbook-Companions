{
 "cells": [
  {
   "cell_type": "markdown",
   "metadata": {},
   "source": [
    "# Chapter - 28 : SINUSOIDAL OSCILLATORS"
   ]
  },
  {
   "cell_type": "markdown",
   "metadata": {},
   "source": [
    "## Ex 28.1 Pg 838"
   ]
  },
  {
   "cell_type": "code",
   "execution_count": 2,
   "metadata": {
    "collapsed": false
   },
   "outputs": [
    {
     "name": "stdout",
     "output_type": "stream",
     "text": [
      "L=0.03 H\n"
     ]
    }
   ],
   "source": [
    "from __future__ import division\n",
    "\n",
    "fo=22*10**3##\n",
    "C=2*10**-9#\n",
    "L=((0.159/fo)**2)/C#\n",
    "print \"L=%0.2f H\"%L"
   ]
  },
  {
   "cell_type": "markdown",
   "metadata": {},
   "source": [
    "## Ex 28.2 Pg 838"
   ]
  },
  {
   "cell_type": "code",
   "execution_count": 3,
   "metadata": {
    "collapsed": false
   },
   "outputs": [
    {
     "name": "stdout",
     "output_type": "stream",
     "text": [
      "fo1=3.11 MHZ\n"
     ]
    }
   ],
   "source": [
    "from __future__ import division\n",
    "from math import sqrt\n",
    "fo=2.2*10**6#\n",
    "#fo1=(sqrt(2))/sqrt(C)#\n",
    "fo1=sqrt(2)*fo#\n",
    "print 'fo1=%0.2f MHZ'%(fo1*10**-6)"
   ]
  },
  {
   "cell_type": "markdown",
   "metadata": {},
   "source": [
    "## Ex 28.3 Pg 839"
   ]
  },
  {
   "cell_type": "code",
   "execution_count": 4,
   "metadata": {
    "collapsed": false
   },
   "outputs": [
    {
     "name": "stdout",
     "output_type": "stream",
     "text": [
      "fo=2.91 MHZ\n"
     ]
    }
   ],
   "source": [
    "from __future__ import division\n",
    "from math import sqrt,pi\n",
    "C=100*10**-12#\n",
    "L1=30*10**-6#\n",
    "L2=1*10**-8#\n",
    "fo=1/(2*pi*sqrt((L1+L2)*C))#\n",
    "print 'fo=%0.2f MHZ'%(fo*10**-6)"
   ]
  },
  {
   "cell_type": "markdown",
   "metadata": {},
   "source": [
    "## Ex 28.4 Pg 839"
   ]
  },
  {
   "cell_type": "code",
   "execution_count": 5,
   "metadata": {
    "collapsed": false
   },
   "outputs": [
    {
     "name": "stdout",
     "output_type": "stream",
     "text": [
      "fo=1.05 MHZ\n"
     ]
    }
   ],
   "source": [
    "from __future__ import division\n",
    "from math import sqrt,pi\n",
    "L1=1000*10**-6#\n",
    "L2=100*10**-6#\n",
    "M=20*10**-6#\n",
    "C=20*10**-12#\n",
    "fo=1/(2*pi*sqrt((L1+L2+2*M)*C))#\n",
    "print 'fo=%0.2f MHZ'%(fo*10**-6)"
   ]
  },
  {
   "cell_type": "markdown",
   "metadata": {},
   "source": [
    "## Ex 28.5 Pg 840"
   ]
  },
  {
   "cell_type": "code",
   "execution_count": 6,
   "metadata": {
    "collapsed": false
   },
   "outputs": [
    {
     "name": "stdout",
     "output_type": "stream",
     "text": [
      "fo=73.05 kHZ\n"
     ]
    }
   ],
   "source": [
    "from __future__ import division\n",
    "from math import sqrt,pi\n",
    "C=1*10**-9#\n",
    "L1=4.7*10**-3#\n",
    "L2=47*10**-6#\n",
    "fo=1/(2*pi*sqrt((L1+L2)*C))#\n",
    "print 'fo=%0.2f kHZ'%(fo*10**-3)"
   ]
  },
  {
   "cell_type": "markdown",
   "metadata": {},
   "source": [
    "## Ex 28.6 Pg 840"
   ]
  },
  {
   "cell_type": "code",
   "execution_count": 7,
   "metadata": {
    "collapsed": false
   },
   "outputs": [
    {
     "name": "stdout",
     "output_type": "stream",
     "text": [
      "C=13.89 pF\n",
      "C=2.98 pF\n"
     ]
    }
   ],
   "source": [
    "from __future__ import division\n",
    "from math import sqrt,pi\n",
    "L1=2*10**-3#\n",
    "L2=20*10**-6#\n",
    "fo=950*10**3#\n",
    "C=1/(4*pi**2*(L1+L2)*fo**2)#\n",
    "print 'C=%0.2f pF'%(C*10**12)\n",
    "fo=2050*10**3#\n",
    "C=1/(4*pi**2*(L1+L2)*fo**2)#\n",
    "print 'C=%0.2f pF'%(C*10**12)"
   ]
  },
  {
   "cell_type": "markdown",
   "metadata": {},
   "source": [
    "## Ex 28.7 Pg 840"
   ]
  },
  {
   "cell_type": "code",
   "execution_count": 9,
   "metadata": {
    "collapsed": false
   },
   "outputs": [
    {
     "name": "stdout",
     "output_type": "stream",
     "text": [
      "C=11.53 pF\n",
      "AV=10.00 \n"
     ]
    }
   ],
   "source": [
    "from __future__ import division\n",
    "from math import sqrt,pi\n",
    "L1=0.1*10**-3#\n",
    "L2=10*10**-6#\n",
    "fo=4110*10**3#\n",
    "M=20*10**-6#\n",
    "C=1/(4*pi**2*(L1+L2+M)*fo**2)#\n",
    "print 'C=%0.2f pF'%(C*10**12)\n",
    "AV=(L1/L2)#\n",
    "print \"AV=%0.2f \"%AV"
   ]
  },
  {
   "cell_type": "markdown",
   "metadata": {},
   "source": [
    "## Ex 28.8 Pg 841"
   ]
  },
  {
   "cell_type": "code",
   "execution_count": 10,
   "metadata": {
    "collapsed": false
   },
   "outputs": [
    {
     "name": "stdout",
     "output_type": "stream",
     "text": [
      "C=0.01 microF\n"
     ]
    }
   ],
   "source": [
    "from __future__ import division\n",
    "from math import sqrt,pi\n",
    "#e.g 28.8\n",
    "fo=100*10**3#\n",
    "L=0.5*10**-3#\n",
    "C=2/(4*pi**2*L*fo**2)#\n",
    "print 'C=%0.2f microF'%(C*10**6)"
   ]
  },
  {
   "cell_type": "markdown",
   "metadata": {},
   "source": [
    "## Ex 28.9 Pg 841"
   ]
  },
  {
   "cell_type": "code",
   "execution_count": 11,
   "metadata": {
    "collapsed": false
   },
   "outputs": [
    {
     "name": "stdout",
     "output_type": "stream",
     "text": [
      "AV=10.00 \n",
      "fo=2.36 MHZ\n"
     ]
    }
   ],
   "source": [
    "from __future__ import division\n",
    "from math import sqrt,pi\n",
    "C1=0.001*10**-6#\n",
    "C2=0.01*10**-6#\n",
    "L=5*10**-6#\n",
    "AV=C2/C1#\n",
    "print \"AV=%0.2f \"%(AV)\n",
    "C=(C1*C2)/(C1+C2)\n",
    "fo=1/(2*pi*sqrt(L*C))#\n",
    "print 'fo=%0.2f MHZ'%(fo*10**-6)"
   ]
  },
  {
   "cell_type": "markdown",
   "metadata": {},
   "source": [
    "## Ex 28.10 Pg 841"
   ]
  },
  {
   "cell_type": "code",
   "execution_count": 12,
   "metadata": {
    "collapsed": false
   },
   "outputs": [
    {
     "name": "stdout",
     "output_type": "stream",
     "text": [
      "fo=24.35 kHZ\n"
     ]
    }
   ],
   "source": [
    "from __future__ import division\n",
    "from math import sqrt,pi\n",
    "C1=0.1*10**-6#\n",
    "C2=1*10**-6#\n",
    "L=470*10**-6#\n",
    "C=(C1*C2)/(C1+C2)\n",
    "fo=1/(2*pi*sqrt(L*C))#\n",
    "print 'fo=%0.2f kHZ'%(fo*10**-3)"
   ]
  },
  {
   "cell_type": "markdown",
   "metadata": {},
   "source": [
    "## Ex 28.11 Pg 842"
   ]
  },
  {
   "cell_type": "code",
   "execution_count": 13,
   "metadata": {
    "collapsed": false
   },
   "outputs": [
    {
     "name": "stdout",
     "output_type": "stream",
     "text": [
      "L1=284.41 microH\n",
      "L2=61.08 microH\n"
     ]
    }
   ],
   "source": [
    "from __future__ import division\n",
    "from math import sqrt,pi\n",
    "C1=100*10**-12#\n",
    "C2=7500*10**-12#\n",
    "f01=950*10**3#\n",
    "f02=2050*10**3#\n",
    "C=(C1*C2)/(C1+C2)#\n",
    "#f01=1/(2*pi*sqrt(L*C))\n",
    "L1=1/(4*(pi)**2*C*f01**2)#\n",
    "print 'L1=%0.2f microH'%(L1*10**6)\n",
    "L2=1/(4*(pi)**2*C*f02**2)#\n",
    "print 'L2=%0.2f microH'%(L2*10**6)"
   ]
  },
  {
   "cell_type": "markdown",
   "metadata": {},
   "source": [
    "## Ex 28.13 Pg 842"
   ]
  },
  {
   "cell_type": "code",
   "execution_count": 15,
   "metadata": {
    "collapsed": false
   },
   "outputs": [
    {
     "name": "stdout",
     "output_type": "stream",
     "text": [
      "fo=734.53 kHZ\n"
     ]
    }
   ],
   "source": [
    "from __future__ import division\n",
    "from math import sqrt,pi\n",
    "C1=0.1*10**-6#\n",
    "C2=1*10**-6#\n",
    "C3=100*10**-12#\n",
    "L=470*10**-6#\n",
    "C=1/((1/C1)+(1/C2)+(1/C3))#\n",
    "fo=1/(2*pi*sqrt(L*C))#\n",
    "print 'fo=%0.2f kHZ'%(fo*10**-3)"
   ]
  },
  {
   "cell_type": "markdown",
   "metadata": {},
   "source": [
    "## Ex 28.14 Pg 843"
   ]
  },
  {
   "cell_type": "code",
   "execution_count": 16,
   "metadata": {
    "collapsed": false
   },
   "outputs": [
    {
     "name": "stdout",
     "output_type": "stream",
     "text": [
      "fs=1.09 MHZ\n",
      "Q=409.67\n"
     ]
    }
   ],
   "source": [
    "from __future__ import division\n",
    "from math import sqrt,pi\n",
    "L=0.33#\n",
    "C1=0.065*10**-12#\n",
    "C2=1*10**-12#\n",
    "R=5.5*10**3#\n",
    "fs=1/(2*pi*sqrt(L*C1))#\n",
    "print 'fs=%0.2f MHZ'%(fs*10**-6)\n",
    "Q=(2*pi*fs*L)/R#\n",
    "print \"Q=%0.2f\"%(Q)"
   ]
  },
  {
   "cell_type": "markdown",
   "metadata": {},
   "source": [
    "## Ex 28.15 Pg 843"
   ]
  },
  {
   "cell_type": "code",
   "execution_count": 17,
   "metadata": {
    "collapsed": false
   },
   "outputs": [
    {
     "name": "stdout",
     "output_type": "stream",
     "text": [
      "fs=0.63 MHZ\n",
      "fp=0.65 MHZ\n"
     ]
    }
   ],
   "source": [
    "from __future__ import division\n",
    "from math import sqrt\n",
    "L=0.8#\n",
    "C1=0.08*10**-12#\n",
    "C2=1*10**-12#\n",
    "R=5*10**3#\n",
    "fs=1/(2*pi*sqrt(L*C1))#\n",
    "print 'fs=%0.2f MHZ'%(fs*10**-6)\n",
    "C=(C1*C2)/(C1+C2)#\n",
    "fp=1/(2*pi*sqrt(L*C))#\n",
    "print 'fp=%0.2f MHZ'%(fp*10**-6)"
   ]
  }
 ],
 "metadata": {
  "kernelspec": {
   "display_name": "Python 2",
   "language": "python",
   "name": "python2"
  },
  "language_info": {
   "codemirror_mode": {
    "name": "ipython",
    "version": 2
   },
   "file_extension": ".py",
   "mimetype": "text/x-python",
   "name": "python",
   "nbconvert_exporter": "python",
   "pygments_lexer": "ipython2",
   "version": "2.7.9"
  }
 },
 "nbformat": 4,
 "nbformat_minor": 0
}
