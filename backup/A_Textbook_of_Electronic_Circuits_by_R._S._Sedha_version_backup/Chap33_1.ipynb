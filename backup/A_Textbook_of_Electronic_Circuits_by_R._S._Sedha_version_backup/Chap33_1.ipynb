{
 "cells": [
  {
   "cell_type": "markdown",
   "metadata": {},
   "source": [
    "# Chapter - 33 : OP AMP APPLICATION"
   ]
  },
  {
   "cell_type": "markdown",
   "metadata": {},
   "source": [
    "## Ex 33.1 Pg 935"
   ]
  },
  {
   "cell_type": "code",
   "execution_count": 3,
   "metadata": {
    "collapsed": false
   },
   "outputs": [
    {
     "name": "stdout",
     "output_type": "stream",
     "text": [
      "C=1.00e-08 microF\n"
     ]
    }
   ],
   "source": [
    "from __future__ import division\n",
    "from math import pi\n",
    "R1=1*10**3#\n",
    "R2=100*10**3#\n",
    "Rf=R2#\n",
    "f1=159#\n",
    "C=1/(2*pi*R2*f1)#\n",
    "print 'C=%0.2e microF'%C"
   ]
  },
  {
   "cell_type": "markdown",
   "metadata": {},
   "source": [
    "## Ex 33.2 Pg 935"
   ]
  },
  {
   "cell_type": "code",
   "execution_count": 4,
   "metadata": {
    "collapsed": false
   },
   "outputs": [
    {
     "name": "stdout",
     "output_type": "stream",
     "text": [
      "f=31.21 HZ\n",
      "fmin=312.07 HZ\n"
     ]
    }
   ],
   "source": [
    "from __future__ import division\n",
    "from math import pi\n",
    "R1=1*10**3#\n",
    "Rf=51*10**3#\n",
    "Cf=0.1*10**-6#\n",
    "f=1/(2*pi*Rf*Cf)#\n",
    "print 'f=%0.2f HZ'%f #ans given in book is wrong\n",
    "fmin=10*f#\n",
    "print 'fmin=%0.2f HZ'%fmin"
   ]
  },
  {
   "cell_type": "markdown",
   "metadata": {},
   "source": [
    "## Ex 33.3 Pg 935"
   ]
  },
  {
   "cell_type": "code",
   "execution_count": 5,
   "metadata": {
    "collapsed": false
   },
   "outputs": [
    {
     "name": "stdout",
     "output_type": "stream",
     "text": [
      "f=1591.55 HZ\n",
      "fmin=159.15 HZ\n"
     ]
    }
   ],
   "source": [
    "from __future__ import division\n",
    "from math import pi\n",
    "R1=10*10**3#\n",
    "Cf=0.01*10**-6#\n",
    "f=1/(2*pi*R1*Cf)#\n",
    "print 'f=%0.2f HZ'%f #ans given in book is wrong\n",
    "fmin=f/10#\n",
    "print 'fmin=%0.2f HZ'%fmin"
   ]
  },
  {
   "cell_type": "markdown",
   "metadata": {},
   "source": [
    "## Ex 33.4 Pg 936"
   ]
  },
  {
   "cell_type": "code",
   "execution_count": 7,
   "metadata": {
    "collapsed": false
   },
   "outputs": [
    {
     "name": "stdout",
     "output_type": "stream",
     "text": [
      "f0=3120.69 HZ\n"
     ]
    }
   ],
   "source": [
    "from __future__ import division\n",
    "from math import pi\n",
    "R=51*10**3#\n",
    "C=0.001*10**-6#\n",
    "f0=1/(2*pi*R*C)#\n",
    "print 'f0=%0.2f HZ'%f0"
   ]
  }
 ],
 "metadata": {
  "kernelspec": {
   "display_name": "Python 2",
   "language": "python",
   "name": "python2"
  },
  "language_info": {
   "codemirror_mode": {
    "name": "ipython",
    "version": 2
   },
   "file_extension": ".py",
   "mimetype": "text/x-python",
   "name": "python",
   "nbconvert_exporter": "python",
   "pygments_lexer": "ipython2",
   "version": "2.7.9"
  }
 },
 "nbformat": 4,
 "nbformat_minor": 0
}
