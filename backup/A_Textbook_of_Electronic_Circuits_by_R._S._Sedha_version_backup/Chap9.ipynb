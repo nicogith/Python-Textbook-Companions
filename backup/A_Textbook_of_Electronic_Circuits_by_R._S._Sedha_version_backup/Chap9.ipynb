{
 "cells": [
  {
   "cell_type": "markdown",
   "metadata": {},
   "source": [
    "# Chapter - 9 : BJT CHARACTERISTICS"
   ]
  },
  {
   "cell_type": "markdown",
   "metadata": {},
   "source": [
    "## Ex 9.1 Pg 175"
   ]
  },
  {
   "cell_type": "code",
   "execution_count": 1,
   "metadata": {
    "collapsed": false
   },
   "outputs": [
    {
     "name": "stdout",
     "output_type": "stream",
     "text": [
      "Pdmax70= 0.3974\n"
     ]
    }
   ],
   "source": [
    "Pdmax=500*10**-3#\n",
    "DF=2.28*10**-3#\n",
    "T=70#\n",
    "Pdmax70=Pdmax-DF*(T-25)#\n",
    "print \"Pdmax70=\",Pdmax70"
   ]
  }
 ],
 "metadata": {
  "kernelspec": {
   "display_name": "Python 2",
   "language": "python",
   "name": "python2"
  },
  "language_info": {
   "codemirror_mode": {
    "name": "ipython",
    "version": 2
   },
   "file_extension": ".py",
   "mimetype": "text/x-python",
   "name": "python",
   "nbconvert_exporter": "python",
   "pygments_lexer": "ipython2",
   "version": "2.7.9"
  }
 },
 "nbformat": 4,
 "nbformat_minor": 0
}
