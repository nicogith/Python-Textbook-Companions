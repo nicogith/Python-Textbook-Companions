{
 "cells": [
  {
   "cell_type": "markdown",
   "metadata": {},
   "source": [
    "# Chapter - 7 : SPECIAL PURPOSE DIODES AND OPTO ELECTRONIC DEVICES"
   ]
  },
  {
   "cell_type": "markdown",
   "metadata": {},
   "source": [
    "## Ex 7.1 Pg 136"
   ]
  },
  {
   "cell_type": "code",
   "execution_count": 3,
   "metadata": {
    "collapsed": false
   },
   "outputs": [
    {
     "name": "stdout",
     "output_type": "stream",
     "text": [
      "Izm=73.53 mA\n"
     ]
    }
   ],
   "source": [
    "from __future__ import division\n",
    "pzm=500*10**-3#\n",
    "vz=6.8#\n",
    "Izm=pzm/vz#\n",
    "print \"Izm=%0.2f\"%(Izm*10**3),'mA'"
   ]
  },
  {
   "cell_type": "markdown",
   "metadata": {},
   "source": [
    "## Ex 7.2 Pg 137 "
   ]
  },
  {
   "cell_type": "code",
   "execution_count": 4,
   "metadata": {
    "collapsed": false
   },
   "outputs": [
    {
     "name": "stdout",
     "output_type": "stream",
     "text": [
      "Td=83.25 mW\n",
      "pz=416.75 mW\n"
     ]
    }
   ],
   "source": [
    "from __future__ import division\n",
    "pzm=500*10**-3#\n",
    "d=3.33*10**-3#\n",
    "a=75#\n",
    "b=50#\n",
    "Td=d*(a-b)#\n",
    "print \"Td=%0.2f\"%(Td*10**3),\"mW\"\n",
    "pz=pzm-Td #\n",
    "print \"pz=%0.2f\"%(pz*10**3),'mW'"
   ]
  },
  {
   "cell_type": "markdown",
   "metadata": {},
   "source": [
    "## Ex 7.3 Pg 138"
   ]
  },
  {
   "cell_type": "code",
   "execution_count": 5,
   "metadata": {
    "collapsed": false
   },
   "outputs": [
    {
     "name": "stdout",
     "output_type": "stream",
     "text": [
      "rz=5.00 ohm\n"
     ]
    }
   ],
   "source": [
    "from __future__ import division\n",
    "\n",
    "IZ=10*10**-3#\n",
    "vz=0.05#\n",
    "rz=vz/IZ#\n",
    "print \"rz=%0.2f\"%rz,\"ohm\""
   ]
  },
  {
   "cell_type": "markdown",
   "metadata": {},
   "source": [
    "## Ex 7.4 Pg 139"
   ]
  },
  {
   "cell_type": "code",
   "execution_count": 6,
   "metadata": {
    "collapsed": false
   },
   "outputs": [
    {
     "name": "stdout",
     "output_type": "stream",
     "text": [
      "VZ1=5.00 V\n"
     ]
    }
   ],
   "source": [
    "from __future__ import division\n",
    "Vz=4.7#\n",
    "rz=15#\n",
    "Iz=20*10**-3#\n",
    "VZ1= Vz+(rz*Iz)#\n",
    "print \"VZ1=%0.2f\"%VZ1,\"V\""
   ]
  },
  {
   "cell_type": "markdown",
   "metadata": {},
   "source": [
    "## Ex 7.5 Pg 139"
   ]
  },
  {
   "cell_type": "code",
   "execution_count": 8,
   "metadata": {
    "collapsed": false
   },
   "outputs": [
    {
     "name": "stdout",
     "output_type": "stream",
     "text": [
      "CT=2.50e-12 F\n",
      "fo=1.01 MHz\n",
      "CT=2.50e-11 F\n",
      "fo=318.31 kHz\n"
     ]
    }
   ],
   "source": [
    "from __future__ import division\n",
    "from math import sqrt,pi\n",
    "C1=5*10**-12##min\n",
    "C2=5*10**-12##min\n",
    "L=10*10**-3#\n",
    "CT=(C1*C2)/(C1+C2)##CTmax\n",
    "print \"CT=%0.2e\"%CT,\"F\"\n",
    "fo=1/(2*pi*sqrt(L*CT))#\n",
    "print \"fo=%0.2f\"%(fo*10**-6),\"MHz\"\n",
    "C1=50*10**-12##max\n",
    "C2=50*10**-12##max\n",
    "CT=(C1*C2)/(C1+C2)##CTmin\n",
    "print \"CT=%0.2e\"%CT,\"F\"\n",
    "fo=1/(2*pi*sqrt(L*CT))#\n",
    "print \"fo=%0.2f\"%(fo*10**-3),\"kHz\""
   ]
  },
  {
   "cell_type": "markdown",
   "metadata": {},
   "source": [
    "## Ex 7.6 Pg 139"
   ]
  },
  {
   "cell_type": "code",
   "execution_count": 9,
   "metadata": {
    "collapsed": false
   },
   "outputs": [
    {
     "name": "stdout",
     "output_type": "stream",
     "text": [
      "f=25.00 MHz\n",
      "f=125.00 MHz\n"
     ]
    }
   ],
   "source": [
    "from __future__ import division\n",
    "T=0.04*10**-6#\n",
    "f=1/T#\n",
    "print \"f=%0.2f\"%(f*10**-6),\"MHz\"\n",
    "print \"f=%0.2f\"%(f*5*10**-6),\"MHz\"##frequency of 5th harmonic"
   ]
  },
  {
   "cell_type": "markdown",
   "metadata": {},
   "source": [
    "## Ex 7.7 Pg 140"
   ]
  },
  {
   "cell_type": "code",
   "execution_count": 10,
   "metadata": {
    "collapsed": false
   },
   "outputs": [
    {
     "name": "stdout",
     "output_type": "stream",
     "text": [
      "Rs=387.50 ohm\n",
      "Rsmax=375.00 ohm\n"
     ]
    }
   ],
   "source": [
    "from __future__ import division\n",
    "\n",
    "Vs=8#\n",
    "VDmin=1.8#\n",
    "VDmax=2#\n",
    "Ifmax=16*10**-3#\n",
    "Rs=(Vs-VDmin)/Ifmax#\n",
    "print \"Rs=%0.2f\"%Rs,\"ohm\"\n",
    "Rsmax=(Vs-VDmax)/Ifmax#\n",
    "print \"Rsmax=%0.2f\"%Rsmax,\"ohm\""
   ]
  },
  {
   "cell_type": "markdown",
   "metadata": {},
   "source": [
    "## Ex 7.8 Pg 140"
   ]
  },
  {
   "cell_type": "code",
   "execution_count": 11,
   "metadata": {
    "collapsed": false
   },
   "outputs": [
    {
     "name": "stdout",
     "output_type": "stream",
     "text": [
      "Imax=18.09 mA\n",
      "Imin=16.38 mA\n"
     ]
    }
   ],
   "source": [
    "from __future__ import division\n",
    "\n",
    "VDmin=1.5#\n",
    "VDmax=2.3#\n",
    "Vs=10#\n",
    "R1=470#\n",
    "Imax=(Vs-VDmin)/R1#\n",
    "print \"Imax=%0.2f\"%(Imax*10**3),\"mA\"\n",
    "Imin=(Vs-VDmax)/R1#\n",
    "print \"Imin=%0.2f\"%(Imin*10**3),\"mA\""
   ]
  },
  {
   "cell_type": "markdown",
   "metadata": {},
   "source": [
    "## Ex 7.9 Pg 140"
   ]
  },
  {
   "cell_type": "code",
   "execution_count": 12,
   "metadata": {
    "collapsed": false
   },
   "outputs": [
    {
     "name": "stdout",
     "output_type": "stream",
     "text": [
      "Imin=16.67 mA\n",
      "Imax=27.07 mA\n",
      "Imin=16.67 mA\n",
      "Imax=26.67 mA\n"
     ]
    }
   ],
   "source": [
    "from __future__ import division\n",
    "\n",
    "VDmin=1.8#\n",
    "VDmax=3#\n",
    "Vs1=24#\n",
    "Rs1=820#\n",
    "Vs2=5#\n",
    "Rs2=120#\n",
    "Imin=(Vs2-VDmax)/Rs2#\n",
    "print \"Imin=%0.2f\"%(Imin*10**3),\"mA\"\n",
    "Imax=(Vs1-VDmin)/Rs1#\n",
    "print \"Imax=%0.2f\"%(Imax*10**3),\"mA\"\n",
    "Imin=(Vs2-VDmax)/Rs2#\n",
    "print \"Imin=%0.2f\"%(Imin*10**3),\"mA\"\n",
    "Imax=(Vs2-VDmin)/Rs2#\n",
    "print \"Imax=%0.2f\"%(Imax*10**3),\"mA\""
   ]
  },
  {
   "cell_type": "markdown",
   "metadata": {},
   "source": [
    "## Ex 7.10 Pg 141"
   ]
  },
  {
   "cell_type": "code",
   "execution_count": 13,
   "metadata": {
    "collapsed": false
   },
   "outputs": [
    {
     "name": "stdout",
     "output_type": "stream",
     "text": [
      "R=2.00 kohm\n",
      "Id=0.30 mA\n"
     ]
    }
   ],
   "source": [
    "from __future__ import division\n",
    "r=1*10**3#\n",
    "I=10*10**-3#\n",
    "V=30#\n",
    "#I=30/(R+r)\n",
    "R=(V/I)-r##when dark\n",
    "print \"R=%0.2f\"%(R*10**-3),\"kohm\"\n",
    "R=100*10**3##when illuminated\n",
    "Id=(V/(r+R))#\n",
    "print \"Id=%0.2f\"%(Id*10**3),\"mA\""
   ]
  }
 ],
 "metadata": {
  "kernelspec": {
   "display_name": "Python 2",
   "language": "python",
   "name": "python2"
  },
  "language_info": {
   "codemirror_mode": {
    "name": "ipython",
    "version": 2
   },
   "file_extension": ".py",
   "mimetype": "text/x-python",
   "name": "python",
   "nbconvert_exporter": "python",
   "pygments_lexer": "ipython2",
   "version": "2.7.9"
  }
 },
 "nbformat": 4,
 "nbformat_minor": 0
}
