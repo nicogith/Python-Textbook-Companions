{
 "cells": [
  {
   "cell_type": "markdown",
   "metadata": {},
   "source": [
    "# Chapter - 18 : BJT BIASING AND STABILISATION"
   ]
  },
  {
   "cell_type": "markdown",
   "metadata": {},
   "source": [
    "## Ex 18.1 Pg 402"
   ]
  },
  {
   "cell_type": "code",
   "execution_count": 3,
   "metadata": {
    "collapsed": false
   },
   "outputs": [
    {
     "name": "stdout",
     "output_type": "stream",
     "text": [
      "Ic=2.00 mA\n",
      "Vce=20.00 V\n"
     ]
    },
    {
     "data": {
      "image/png": "[encoded data removed]",
      "text/plain": [
       "<matplotlib.figure.Figure at 0x7f3408d27b10>"
      ]
     },
     "metadata": {},
     "output_type": "display_data"
    }
   ],
   "source": [
    "from __future__ import division\n",
    "from numpy import arange\n",
    "%matplotlib inline\n",
    "from matplotlib.pyplot import plot,xlabel,ylabel,show\n",
    "Vbb=10#\n",
    "Rb=47*10**3#\n",
    "Vcc=20#\n",
    "Rc=10*10**3#\n",
    "B=100#\n",
    "Ic=Vcc/Rc##saturation current\n",
    "print \"Ic=%0.2f\"%(Ic*10**3),'mA'\n",
    "Vce=Vcc##cut-off voltage\n",
    "print 'Vce=%0.2f'%Vce,\"V\"\n",
    "i=arange(2,0,-0.1)\n",
    "plot(i)#\n",
    "xlabel(\"VCE\")#\n",
    "ylabel( \"IC\")#\n",
    "show()"
   ]
  },
  {
   "cell_type": "markdown",
   "metadata": {},
   "source": [
    "## Ex 18.2 Pg 403"
   ]
  },
  {
   "cell_type": "code",
   "execution_count": 4,
   "metadata": {
    "collapsed": false
   },
   "outputs": [
    {
     "name": "stdout",
     "output_type": "stream",
     "text": [
      "IC=66.67 mA\n",
      "Vce=20.00 V\n",
      "Ib=1.86e-04 A\n",
      "Ic=3.72e-02 A\n",
      "Vce=8.84 V\n"
     ]
    },
    {
     "data": {
      "image/png": "[encoded data removed]",
      "text/plain": [
       "<matplotlib.figure.Figure at 0x7f2cf6497910>"
      ]
     },
     "metadata": {},
     "output_type": "display_data"
    }
   ],
   "source": [
    "from __future__ import division\n",
    "from numpy import arange\n",
    "%matplotlib inline\n",
    "from matplotlib.pyplot import plot,xlabel,ylabel,show\n",
    "\n",
    "Vbb=10#\n",
    "Rb=50*10**3#\n",
    "Vcc=20#\n",
    "Rc=300#\n",
    "beta=200#\n",
    "Ic=Vcc/Rc##saturation current\n",
    "print \"IC=%0.2f\"%(Ic*1e3),'mA'\n",
    "Vce=Vcc##cut-off voltage\n",
    "print 'Vce=%0.2f'%Vce,\"V\"\n",
    "Ib=(Vbb-0.7)/Rb#\n",
    "print \"Ib=%0.2e\"%Ib,\"A\"\n",
    "Ic=beta*Ib#\n",
    "print \"Ic=%0.2e\"%Ic,\"A\"\n",
    "Vce=Vcc-Ic*Rc#\n",
    "print 'Vce=%0.2f'%Vce,\"V\"\n",
    "i=arange(21,0,-0.1)\n",
    "plot(i)#\n",
    "xlabel(\"VCE\")#\n",
    "ylabel( \"IC\")#\n",
    "show()"
   ]
  },
  {
   "cell_type": "markdown",
   "metadata": {},
   "source": [
    "## Ex 18.3 Pg 404"
   ]
  },
  {
   "cell_type": "code",
   "execution_count": 5,
   "metadata": {
    "collapsed": false
   },
   "outputs": [
    {
     "name": "stdout",
     "output_type": "stream",
     "text": [
      "Ib=0.14 mA\n",
      "Ic=11.11 mA\n",
      "Vce=15.89 V\n"
     ]
    }
   ],
   "source": [
    "from __future__ import division\n",
    "\n",
    "Rb=180*10**3#\n",
    "Vcc=25#\n",
    "Rc=820#\n",
    "beta=80#\n",
    "Ib=Vcc/Rb##saturation current\n",
    "print \"Ib=%0.2f\"%(Ib*1e3),'mA'\n",
    "Ic=beta*Ib#\n",
    "print \"Ic=%0.2f\"%(Ic*1e3),'mA'\n",
    "Vce=Vcc-(Ic*Rc)##cut-off voltage\n",
    "print 'Vce=%0.2f'%Vce,\"V\""
   ]
  },
  {
   "cell_type": "markdown",
   "metadata": {},
   "source": [
    "## Ex 18.4 Pg 404"
   ]
  },
  {
   "cell_type": "code",
   "execution_count": 8,
   "metadata": {
    "collapsed": false
   },
   "outputs": [
    {
     "name": "stdout",
     "output_type": "stream",
     "text": [
      "Rb=40.00 Kohm\n",
      "S= 101\n",
      "Ic=3.00e-02 A\n",
      "Vce=2.10 V\n"
     ]
    }
   ],
   "source": [
    "from __future__ import division\n",
    "\n",
    "Vcc=12#\n",
    "Rc=330#\n",
    "Ib=0.3*10**-3#\n",
    "beta=100#\n",
    "#Ib=Vcc/Rb##saturation current\n",
    "Rb=Vcc/Ib#\n",
    "print \"Rb=%0.2f\"%(Rb*1e-3),'Kohm'\n",
    "S=1+beta#\n",
    "print \"S=\",S\n",
    "Ic=beta*Ib#\n",
    "print \"Ic=%0.2e\"%Ic,\"A\"\n",
    "Vce=Vcc-(Ic*Rc)##cut-off voltage\n",
    "print 'Vce=%0.2f'%Vce,\"V\""
   ]
  },
  {
   "cell_type": "markdown",
   "metadata": {},
   "source": [
    "## Ex 18.5 Pg 405"
   ]
  },
  {
   "cell_type": "code",
   "execution_count": 10,
   "metadata": {
    "collapsed": false
   },
   "outputs": [
    {
     "name": "stdout",
     "output_type": "stream",
     "text": [
      "Ib=0.04 mA\n",
      "Ic=4.00 mA\n",
      "Vce=8.00 V\n"
     ]
    }
   ],
   "source": [
    "from __future__ import division\n",
    "\n",
    "Rb=400*10**3#\n",
    "Vcc=20#\n",
    "Rc=2*10**3#\n",
    "Re=1*10**3#\n",
    "beta=100#\n",
    "Ib=Vcc/(Rb+(beta*Re))##saturation current\n",
    "print \"Ib=%0.2f\"%(Ib*10**3),'mA'\n",
    "Ic=beta*Ib#\n",
    "print \"Ic=%0.2f\"%(Ic*10**3),'mA'\n",
    "Vce=Vcc-(Ic*(Rc+Re))##cut-off voltage\n",
    "print 'Vce=%0.2f'%Vce,\"V\""
   ]
  },
  {
   "cell_type": "markdown",
   "metadata": {},
   "source": [
    "## Ex 18.6 Pg 406"
   ]
  },
  {
   "cell_type": "code",
   "execution_count": 12,
   "metadata": {
    "collapsed": false
   },
   "outputs": [
    {
     "name": "stdout",
     "output_type": "stream",
     "text": [
      "Ic=2.35 mA\n",
      "VCe=6.82 V\n",
      "Icsat=5.45 mA\n"
     ]
    },
    {
     "data": {
      "image/png": "[encoded data removed]",
      "text/plain": [
       "<matplotlib.figure.Figure at 0x7f2d0cb4b310>"
      ]
     },
     "metadata": {},
     "output_type": "display_data"
    }
   ],
   "source": [
    "from __future__ import division\n",
    "from numpy import arange\n",
    "%matplotlib inline\n",
    "from matplotlib.pyplot import plot,xlabel,ylabel,show\n",
    "\n",
    "Vcc=12#\n",
    "Rc=2.2*10**3#\n",
    "Rb=240#\n",
    "B=50#\n",
    "Vbe=0.7#\n",
    "RE=0#\n",
    "Ic=(Vcc-Vbe)/(RE+(Rb/B))##collector current\n",
    "print \"Ic=%0.2f mA\"%Ic\n",
    "Vce=Vcc-(Ic*10**-3)*Rc##CE voltage\n",
    "print 'VCe=%0.2f V'%Vce\n",
    "Icsat=Vcc/Rc#\n",
    "print 'Icsat=%0.2f mA'%(Icsat*10**3)\n",
    "Vcec=Vcc##cutoff voltage\n",
    "i=arange(5.45,0,-0.5)\n",
    "plot(i)#\n",
    "xlabel(\"VCE\")#\n",
    "ylabel( \"IC\")#\n",
    "show()"
   ]
  },
  {
   "cell_type": "markdown",
   "metadata": {},
   "source": [
    "## Ex 18.7 Pg 407"
   ]
  },
  {
   "cell_type": "code",
   "execution_count": 14,
   "metadata": {
    "collapsed": false
   },
   "outputs": [
    {
     "name": "stdout",
     "output_type": "stream",
     "text": [
      "Ic=6.00 mA\n",
      "Vce=30.00 V\n",
      "Ib=20.00 microA\n",
      "Ic=2.00 mA\n",
      "Vce= 20.00 V\n"
     ]
    },
    {
     "data": {
      "image/png": "[encoded data removed]",
      "text/plain": [
       "<matplotlib.figure.Figure at 0x7f2cf32fe390>"
      ]
     },
     "metadata": {},
     "output_type": "display_data"
    }
   ],
   "source": [
    "from __future__ import division\n",
    "from numpy import arange\n",
    "%matplotlib inline\n",
    "from matplotlib.pyplot import plot,xlabel,ylabel,show\n",
    "\n",
    "Vcc=30#\n",
    "Rb=1.5*10**6#\n",
    "Rc=5*10**3#\n",
    "beta=100#\n",
    "Ic=Vcc/Rc##saturation current\n",
    "print 'Ic=%0.2f mA'%(Ic*10**3)\n",
    "Vce=Vcc##cut-off voltage\n",
    "print 'Vce=%0.2f V'%Vce\n",
    "Ib=Vcc/Rb##base current\n",
    "print 'Ib=%0.2f microA'%(Ib*10**6)\n",
    "Ic=beta*Ib#\n",
    "print 'Ic=%0.2f mA'%(Ic*10**3)\n",
    "Vce=Vcc-Ic*Rc#\n",
    "print 'Vce= %0.2f V'%Vce\n",
    "i=arange(6,0,-0.2)\n",
    "plot(i)#\n",
    "xlabel(\"VCE\")#\n",
    "ylabel( \"IC\")#\n",
    "show()"
   ]
  },
  {
   "cell_type": "markdown",
   "metadata": {},
   "source": [
    "## Ex 18.9 Pg 408"
   ]
  },
  {
   "cell_type": "code",
   "execution_count": 16,
   "metadata": {
    "collapsed": false
   },
   "outputs": [
    {
     "name": "stdout",
     "output_type": "stream",
     "text": [
      "Ic=9.92 mA\n",
      "Vce= 16.87 V\n",
      "S=74.394\n"
     ]
    }
   ],
   "source": [
    "from __future__ import division\n",
    "\n",
    "Rb=180*10**3#\n",
    "Vcc=25#\n",
    "Rc=820#\n",
    "Re=200#\n",
    "beta=80#\n",
    "Vbe=0.7#\n",
    "Ic=(Vcc-Vbe)/(Re+(Rb/beta))##collector current\n",
    "print 'Ic=%0.2f mA'%(Ic*10**3)\n",
    "Vce=Vcc-(Ic*Rc)##collector to emitter voltage\n",
    "print 'Vce= %0.2f V'%Vce\n",
    "S=(1+beta)/(1+beta*(Re/(Re+Rb)))#\n",
    "print \"S=%0.3f\"%S##stability factor"
   ]
  },
  {
   "cell_type": "markdown",
   "metadata": {},
   "source": [
    "## Ex 18.10 Pg 409"
   ]
  },
  {
   "cell_type": "code",
   "execution_count": 17,
   "metadata": {
    "collapsed": false
   },
   "outputs": [
    {
     "name": "stdout",
     "output_type": "stream",
     "text": [
      "Ic=0.85 mA\n",
      "Vce= 1.55 V\n",
      "Ic=1.00 mA\n",
      "Vce= 10.00 V\n"
     ]
    }
   ],
   "source": [
    "from __future__ import division\n",
    "\n",
    "Vbe=0.7#\n",
    "Rb=100*10**3#\n",
    "Vcc=10#\n",
    "Rc=10*10**3#\n",
    "beta=100#\n",
    "Ic=(Vcc-Vbe)/(Rc+(Rb/beta))##collector current\n",
    "print 'Ic=%0.2f mA'%(Ic*10**3)\n",
    "Vce=Vcc-(Ic*Rc)##collector to emitter voltage\n",
    "print 'Vce= %0.2f V'%Vce\n",
    "Ic=Vcc/Rc#\n",
    "print 'Ic=%0.2f mA'%(Ic*10**3)\n",
    "Vce=Vcc#\n",
    "print 'Vce= %0.2f V'%Vce"
   ]
  },
  {
   "cell_type": "markdown",
   "metadata": {},
   "source": [
    "## Ex 18.11 Pg 410"
   ]
  },
  {
   "cell_type": "code",
   "execution_count": 19,
   "metadata": {
    "collapsed": false
   },
   "outputs": [
    {
     "name": "stdout",
     "output_type": "stream",
     "text": [
      "Ib=0.05 mA\n",
      "Ic=2.33 mA\n",
      "Ie=2.33 mA\n"
     ]
    }
   ],
   "source": [
    "from __future__ import division\n",
    "\n",
    "Rb=100*10**3#\n",
    "Vcc=10#\n",
    "Rc=2*10**3#\n",
    "beta1=50#\n",
    "Vbe=0.7#\n",
    "Ib=(Vcc-Vbe)/(Rb+(beta1*Rc))#\n",
    "print 'Ib=%0.2f mA'%(Ib*10**3)\n",
    "Ic=beta1*Ib#\n",
    "print 'Ic=%0.2f mA'%(Ic*10**3)\n",
    "Ie=Ic#\n",
    "print 'Ie=%0.2f mA'%(Ie*10**3)"
   ]
  },
  {
   "cell_type": "markdown",
   "metadata": {},
   "source": [
    "## Ex 18.12 Pg 411"
   ]
  },
  {
   "cell_type": "code",
   "execution_count": 20,
   "metadata": {
    "collapsed": false
   },
   "outputs": [
    {
     "name": "stdout",
     "output_type": "stream",
     "text": [
      "IB=15.82 microA\n",
      "IC=1581.82 microA\n",
      "IC=1.58 mA\n"
     ]
    }
   ],
   "source": [
    "from __future__ import division\n",
    "\n",
    "VCC=9#\n",
    "RB=220*10**3#\n",
    "RC=3.3*10**3#\n",
    "VBE=0.3#\n",
    "B=100#\n",
    "#if vc=0\n",
    "IB=(VCC-VBE)/(RB+(B*RC))#\n",
    "print 'IB=%0.2f microA'%(IB*10**6)\n",
    "IC=B*IB#\n",
    "print 'IC=%0.2f microA'%(IC*10**6) #CORRECTION IN BOOK\n",
    "#if VC=9\n",
    "VC=9#\n",
    "IC=B*IB#\n",
    "print 'IC=%0.2f mA'%(IC*10**3)\n",
    "#IC*RC=0,which means collector resistance is short circuited"
   ]
  },
  {
   "cell_type": "markdown",
   "metadata": {},
   "source": [
    "## Ex 18.13 Pg 412"
   ]
  },
  {
   "cell_type": "code",
   "execution_count": 21,
   "metadata": {
    "collapsed": false
   },
   "outputs": [
    {
     "name": "stdout",
     "output_type": "stream",
     "text": [
      "Ic=1.96 mA\n",
      "Vb=0.90 V\n",
      "Vc=5.53 V\n",
      "IR2=0.28 mA\n",
      "Ib=0.04 mA\n",
      "IR1=0.32 mA\n",
      "R1=14.63 kohm\n"
     ]
    }
   ],
   "source": [
    "from __future__ import division\n",
    "\n",
    "Vcc=12#\n",
    "Rc=3.3*10**3#\n",
    "Re=100#\n",
    "Ie=2*10**-3#\n",
    "Vbe=0.7#\n",
    "alpha=0.98#\n",
    "Ic=alpha*Ie#\n",
    "print 'Ic=%0.2f mA'%(Ic*10**3)\n",
    "Vb=Vbe+(Ie*Re)#\n",
    "print 'Vb=%0.2f V'%Vb\n",
    "Vc=Vcc-(Ic*Rc)##collector to emitter voltage\n",
    "print 'Vc=%0.2f V'%Vc\n",
    "R2=20*10**3#\n",
    "IR2=Vc/R2#\n",
    "print 'IR2=%0.2f mA'%(IR2*10**3)\n",
    "Ib=Ie-Ic#\n",
    "print 'Ib=%0.2f mA'%(Ib*10**3)\n",
    "IR1=IR2+Ib#\n",
    "print 'IR1=%0.2f mA'%(IR1*10**3)\n",
    "R1=(Vc-Vb)/IR1#\n",
    "print 'R1=%0.2f kohm'%(R1*10**-3)"
   ]
  },
  {
   "cell_type": "markdown",
   "metadata": {},
   "source": [
    "## Ex 18.14 Pg 414"
   ]
  },
  {
   "cell_type": "code",
   "execution_count": 22,
   "metadata": {
    "collapsed": false
   },
   "outputs": [
    {
     "name": "stdout",
     "output_type": "stream",
     "text": [
      "IC=1.90 mA\n",
      "RB=117.00 kohm\n"
     ]
    }
   ],
   "source": [
    "from __future__ import division\n",
    "\n",
    "VCC=24#\n",
    "RC=10*10**3#\n",
    "RE=270#\n",
    "VBE=0.7#\n",
    "B=45#\n",
    "VCE=5#\n",
    "IC=(VCC-VCE)/RC#\n",
    "print 'IC=%0.2f mA'%(IC*10**3)\n",
    "RB=(2.6*10**3)*B#\n",
    "print 'RB=%0.2f kohm'%(RB*10**-3)"
   ]
  },
  {
   "cell_type": "markdown",
   "metadata": {},
   "source": [
    "## Ex 18.15 Pg 416"
   ]
  },
  {
   "cell_type": "code",
   "execution_count": 25,
   "metadata": {
    "collapsed": false
   },
   "outputs": [
    {
     "name": "stdout",
     "output_type": "stream",
     "text": [
      "Ib=0.01 mA\n",
      "Ic=1.06 mA\n",
      "Vce=1.09 V\n",
      "S=16.091\n"
     ]
    }
   ],
   "source": [
    "from __future__ import division\n",
    "\n",
    "Rb=33*10**3#\n",
    "Vcc=3#\n",
    "Rc=1.8*10**3#\n",
    "beta=90#\n",
    "Vbe=0.7#\n",
    "Ib=(Vcc-Vbe)/(Rb+(Rc*beta))##collector current\n",
    "print 'Ib=%0.2f mA'%(Ib*10**3)\n",
    "Ic=beta*Ib#\n",
    "print 'Ic=%.2f mA'%(Ic*10**3)\n",
    "Vce=Vcc-(Ic*Rc)##collector to emitter voltage\n",
    "print 'Vce=%0.2f V'%Vce\n",
    "S=(1+beta)/(1+beta*(Rc/(Rc+Rb)))#stability factor\n",
    "print \"S=%0.3f\"%S"
   ]
  },
  {
   "cell_type": "markdown",
   "metadata": {},
   "source": [
    "## Ex 18.16 Pg 416"
   ]
  },
  {
   "cell_type": "code",
   "execution_count": 26,
   "metadata": {
    "collapsed": false
   },
   "outputs": [
    {
     "name": "stdout",
     "output_type": "stream",
     "text": [
      "Vb=3.33 V\n",
      "Ve=2.63 V\n",
      "Ie=05 mA\n",
      "Ic=05 mA\n",
      "Ve=2.63 V\n"
     ]
    }
   ],
   "source": [
    "from __future__ import division\n",
    "\n",
    "Vbe=0.7#\n",
    "Vcc=10#\n",
    "Rc=1*10**3#\n",
    "beta=100#\n",
    "R1=10*10**3#\n",
    "R2=5*10**3#\n",
    "Re=500#\n",
    "Vb=Vcc*(R2/(R1+R2))#\n",
    "print 'Vb=%0.2f V'%Vb\n",
    "Ve=Vb-Vbe#\n",
    "print 'Ve=%0.2f V'%Ve\n",
    "Ie=Ve/Re#\n",
    "print 'Ie=%02.f mA'%(Ie*10**3)\n",
    "Ic=Ie#\n",
    "print 'Ic=%02.f mA'%(Ic*10**3)\n",
    "Vce=Vcc-(Rc+Re)#\n",
    "print 'Ve=%0.2f V'%Ve"
   ]
  },
  {
   "cell_type": "markdown",
   "metadata": {},
   "source": [
    "## Ex 18.17 Pg 418"
   ]
  },
  {
   "cell_type": "code",
   "execution_count": 28,
   "metadata": {
    "collapsed": false
   },
   "outputs": [
    {
     "name": "stdout",
     "output_type": "stream",
     "text": [
      "Vb=2.81 V\n",
      "Ve=2.11 V\n",
      "Ie=3.11 mA\n",
      "Ic=3.11 mA\n",
      "VRc=3.11 V\n",
      "Vc=5.89 V\n",
      "Vce=3.78 V\n"
     ]
    }
   ],
   "source": [
    "from __future__ import division\n",
    "\n",
    "Vcc=9#\n",
    "Rc=1*10**3#\n",
    "Re=680#\n",
    "beta=100#\n",
    "R1=33*10**3#\n",
    "R2=15*10**3#\n",
    "Vb=Vcc*(R2/(R1+R2))#\n",
    "print 'Vb=%0.2f V'%Vb\n",
    "Vbe=0.7#\n",
    "Ve=Vb-Vbe#\n",
    "print 'Ve=%0.2f V'%Ve\n",
    "Ie=Ve/Re#\n",
    "print 'Ie=%0.2f mA'%(Ie*10**3)\n",
    "Ic=Ie#\n",
    "print 'Ic=%0.2f mA'%(Ic*10**3)\n",
    "VRc=Ic*Rc#\n",
    "print 'VRc=%0.2f V'%VRc\n",
    "Vc=Vcc-VRc#\n",
    "print 'Vc=%0.2f V'%Vc\n",
    "Vce=Vc-Ve#\n",
    "print 'Vce=%0.2f V'%Vce"
   ]
  },
  {
   "cell_type": "markdown",
   "metadata": {},
   "source": [
    "## Ex 18.18 Pg 419"
   ]
  },
  {
   "cell_type": "code",
   "execution_count": 29,
   "metadata": {
    "collapsed": false
   },
   "outputs": [
    {
     "name": "stdout",
     "output_type": "stream",
     "text": [
      "Rc=2200.00 ohm\n",
      "R1=40.00 kohm\n"
     ]
    }
   ],
   "source": [
    "from __future__ import division\n",
    "\n",
    "VCC=5#\n",
    "RE=0.3*10**3#\n",
    "IC=1*10**-3#\n",
    "VCE=2.5#\n",
    "B=100#\n",
    "VBE=0.7#\n",
    "ICO=0#\n",
    "R2=10*10**3#\n",
    "IE=IC#\n",
    "RC=((VCC-VCE)/IC)-RE#\n",
    "print 'Rc=%0.2f ohm'%RC\n",
    "VE=IE*RE#\n",
    "VB=VE+VBE#\n",
    "R1=VCC*R2-R2#\n",
    "print 'R1=%0.2f kohm'%(R1*10**-3)"
   ]
  },
  {
   "cell_type": "markdown",
   "metadata": {},
   "source": [
    "## Ex 18.19 Pg 420"
   ]
  },
  {
   "cell_type": "code",
   "execution_count": 30,
   "metadata": {
    "collapsed": false
   },
   "outputs": [
    {
     "name": "stdout",
     "output_type": "stream",
     "text": [
      "VB=10.00 V\n",
      "IE=1.86 mA\n",
      "VCE=18.14 V\n"
     ]
    }
   ],
   "source": [
    "from __future__ import division\n",
    "\n",
    "Vcc=20#\n",
    "RC=1*10**3#\n",
    "RE=5*10**3#\n",
    "R1=10*10**3#\n",
    "R2=10*10**3#\n",
    "B=462#\n",
    "VBE=0.7#\n",
    "VB=Vcc*R2/(R1+R2)#\n",
    "print 'VB=%0.2f V'%VB\n",
    "VE=VB-VBE#\n",
    "IE=VE/RE#\n",
    "print 'IE=%0.2f mA'%(IE*10**3)\n",
    "IC=IE#\n",
    "VCE=Vcc-IC*RC#\n",
    "print 'VCE=%0.2f V'%VCE"
   ]
  },
  {
   "cell_type": "markdown",
   "metadata": {},
   "source": [
    "## Ex 18.20 Pg 422"
   ]
  },
  {
   "cell_type": "code",
   "execution_count": 31,
   "metadata": {
    "collapsed": false
   },
   "outputs": [
    {
     "name": "stdout",
     "output_type": "stream",
     "text": [
      "IC=0.62 mA\n",
      "IE=0.65 mA\n",
      "IB=26.04 microA\n"
     ]
    }
   ],
   "source": [
    "from __future__ import division\n",
    "\n",
    "VCC=8#\n",
    "VRC=0.5#\n",
    "RC=800#\n",
    "a=0.96#\n",
    "VCE=VCC-VRC##VRC=IC*RC\n",
    "IC=VRC/RC#\n",
    "print 'IC=%0.2f mA'%(IC*10**3)\n",
    "IE=IC/a#\n",
    "print 'IE=%0.2f mA'%(IE*10**3)\n",
    "IB=IE-IC#\n",
    "print 'IB=%0.2f microA'%(IB*10**6)"
   ]
  },
  {
   "cell_type": "markdown",
   "metadata": {},
   "source": [
    "## Ex 18.21 Pg 423"
   ]
  },
  {
   "cell_type": "code",
   "execution_count": 32,
   "metadata": {
    "collapsed": false
   },
   "outputs": [
    {
     "name": "stdout",
     "output_type": "stream",
     "text": [
      "ICdiff=43.478 %\n"
     ]
    }
   ],
   "source": [
    "from __future__ import division\n",
    "\n",
    "VCC=12#\n",
    "RC=1*10**3#\n",
    "RE=100#\n",
    "R1=25*10**3#\n",
    "R2=5*10**3#\n",
    "B=50#\n",
    "VBE=0.6#\n",
    "VTH=VCC*R2/(R1+R2)#\n",
    "RTH=R1*R2/(R1+R2)#\n",
    "IE50=(VTH-VBE)/(RE+RTH/B)#\n",
    "B=150#\n",
    "IE150=(VTH-VBE)/(RE+RTH/B)#\n",
    "ICdiff=(IE150-IE50)/IE50#\n",
    "print \"ICdiff=%0.3f %%\"%(ICdiff*100)"
   ]
  },
  {
   "cell_type": "markdown",
   "metadata": {},
   "source": [
    "## Ex 18.24 Pg 424"
   ]
  },
  {
   "cell_type": "code",
   "execution_count": 33,
   "metadata": {
    "collapsed": false
   },
   "outputs": [
    {
     "name": "stdout",
     "output_type": "stream",
     "text": [
      "RE=1.40 kohm\n",
      "RTH=2.98 kohm\n",
      "R2=7.00 kohm\n",
      "R1=5.17 kohm\n"
     ]
    }
   ],
   "source": [
    "from __future__ import division\n",
    "\n",
    "B=50#\n",
    "VBE=0.7#\n",
    "VCC=22.5#\n",
    "RC=5.6*10**3#\n",
    "VCE=12#\n",
    "IC=1.5*10**-3#\n",
    "S=3#\n",
    "RE=(VCC-IC*RC-VCE)/IC#\n",
    "print 'RE=%0.2f kohm'%(RE*10**-3)\n",
    "RTH=(4375)-RE#\n",
    "print 'RTH=%0.2f kohm'%(RTH*10**-3)\n",
    "R2=0.1*B*RE#\n",
    "print 'R2=%0.2f kohm'%(R2*10**-3)\n",
    "R1=(-RTH*R2)/(RTH-R2)#\n",
    "print 'R1=%0.2f kohm'%(R1*10**-3)"
   ]
  },
  {
   "cell_type": "markdown",
   "metadata": {},
   "source": [
    "## Ex 18.25 Pg 425"
   ]
  },
  {
   "cell_type": "code",
   "execution_count": 1,
   "metadata": {
    "collapsed": false
   },
   "outputs": [
    {
     "name": "stdout",
     "output_type": "stream",
     "text": [
      "Ie=1.86 mA\n",
      "IC=1.86 mA\n",
      "VCE=8.84 V\n"
     ]
    }
   ],
   "source": [
    "from __future__ import division\n",
    "\n",
    "VCC=10#\n",
    "VEE=10#\n",
    "RC=1*10**3#\n",
    "RE=5*10**3#\n",
    "RB=50*10**3#\n",
    "VBE=0.7#\n",
    "VE=-VBE#\n",
    "IE=(VEE-VBE)/RE#\n",
    "print 'Ie=%0.2f mA'%(IE*10**3)\n",
    "IC=IE#\n",
    "print 'IC=%0.2f mA'%(IC*10**3)\n",
    "VC=VCC-IC*RC#\n",
    "VCE=VC-VE#\n",
    "print 'VCE=%0.2f V'%VCE"
   ]
  },
  {
   "cell_type": "markdown",
   "metadata": {},
   "source": [
    "## Ex 18.26 Pg 426"
   ]
  },
  {
   "cell_type": "code",
   "execution_count": 2,
   "metadata": {
    "collapsed": false
   },
   "outputs": [
    {
     "name": "stdout",
     "output_type": "stream",
     "text": [
      "IE1=1.89 mA\n",
      "VC1=10.54 V\n",
      "VCE1=11.24 V\n",
      "IE2=1.92 mA\n",
      "VC2=10.40 V\n",
      "VCE2=8.74 V\n",
      "delIc=1.51 %\n",
      "delVCE=28.60 %\n"
     ]
    }
   ],
   "source": [
    "from __future__ import division\n",
    "\n",
    "VCC=20#\n",
    "VEE=20#\n",
    "RC=5*10**3#\n",
    "RE=10*10**3#\n",
    "RB=10*10**3#\n",
    "B1=50#\n",
    "B2=100#\n",
    "VBE1=0.7#\n",
    "VBE2=0.6#\n",
    "IE1=(VEE-VBE1)/(RE+RB/B1)#\n",
    "print 'IE1=%0.2f mA'%(IE1*10**3)\n",
    "IC1=IE1#\n",
    "VC1=VCC-IC1*RC#\n",
    "print 'VC1=%0.2f V'%VC1\n",
    "VE=-VBE1#\n",
    "VCE1=VC1-VE#\n",
    "print 'VCE1=%0.2f V'%VCE1\n",
    "IE2=(VEE-VBE2)/(RE+RB/B2)#\n",
    "print 'IE2=%0.2f mA'%(IE2*10**3)\n",
    "IC2=IE2#\n",
    "VC2=VCC-IC2*RC#\n",
    "print 'VC2=%0.2f V'%VC2\n",
    "VE=-VBE2#\n",
    "VCE2=VC-VE#\n",
    "print 'VCE2=%0.2f V'%VCE2\n",
    "delIc=(IC2-IC1)/IC1#\n",
    "print \"delIc=%0.2f %%\"%(delIc*100)\n",
    "delVCE=(VCE1-VCE2)/VCE2#\n",
    "print \"delVCE=%0.2f %%\"%(delVCE*100)"
   ]
  },
  {
   "cell_type": "markdown",
   "metadata": {},
   "source": [
    "## Ex 18.27 Pg 427"
   ]
  },
  {
   "cell_type": "code",
   "execution_count": 3,
   "metadata": {
    "collapsed": false
   },
   "outputs": [
    {
     "name": "stdout",
     "output_type": "stream",
     "text": [
      "VB=-2.00 V\n",
      "VE=-1.80 V\n",
      "IC=1.80 mA\n",
      "VC=-8.40 V\n",
      "VCE=-6.60 V\n"
     ]
    }
   ],
   "source": [
    "from __future__ import division\n",
    "\n",
    "VCC=12#\n",
    "RC=2*10**3#\n",
    "RE=1*10**3#\n",
    "R1=100*10**3#\n",
    "R2=20*10**3#\n",
    "B=100#\n",
    "VBE=-0.2#\n",
    "VB=-VCC*R2/(R1+R2)#\n",
    "print 'VB=%0.2f V'%VB\n",
    "VE=VB-VBE#\n",
    "print 'VE=%0.2f V'%VE\n",
    "IE=-VE/RE#\n",
    "IC=IE#\n",
    "print \"IC=%0.2f mA\"%(IC*10**3)\n",
    "VC=-(VCC-IC*RC)#\n",
    "print 'VC=%0.2f V'%VC\n",
    "VCE=VC-(VE)#\n",
    "print 'VCE=%0.2f V'%VCE"
   ]
  },
  {
   "cell_type": "markdown",
   "metadata": {},
   "source": [
    "## Ex 18.28 Pg 428"
   ]
  },
  {
   "cell_type": "code",
   "execution_count": 4,
   "metadata": {
    "collapsed": false
   },
   "outputs": [
    {
     "name": "stdout",
     "output_type": "stream",
     "text": [
      "VB=-0.41 V\n",
      "VE=-0.11 V\n",
      "IC=0.40 mA\n",
      "VRC=0.61 V\n",
      "VC=-3.89 V\n",
      "VCE=-3.78 V\n"
     ]
    }
   ],
   "source": [
    "from __future__ import division\n",
    "\n",
    "VCC=4.5#\n",
    "RC=1.5*10**3#\n",
    "RE=0.27*10**3#\n",
    "R2=2.7*10**3#\n",
    "R1=27*10**3#\n",
    "B=44#\n",
    "VBE=-0.3#\n",
    "VB=-VCC*R2/(R1+R2)#\n",
    "print 'VB=%0.2f V'%VB\n",
    "VE=VB-VBE#\n",
    "print 'VE=%0.2f V'%VE\n",
    "IE=-VE/RE#\n",
    "IC=IE#\n",
    "print 'IC=%0.2f mA'%(IC*10**3)\n",
    "VRC=IC*RC#\n",
    "print 'VRC=%0.2f V'%VRC\n",
    "VC=-(VCC-VRC)\n",
    "print 'VC=%0.2f V'%VC\n",
    "VCE=VC-(VE)#\n",
    "print 'VCE=%0.2f V'%VCE"
   ]
  }
 ],
 "metadata": {
  "kernelspec": {
   "display_name": "Python 2",
   "language": "python",
   "name": "python2"
  },
  "language_info": {
   "codemirror_mode": {
    "name": "ipython",
    "version": 2
   },
   "file_extension": ".py",
   "mimetype": "text/x-python",
   "name": "python",
   "nbconvert_exporter": "python",
   "pygments_lexer": "ipython2",
   "version": "2.7.9"
  }
 },
 "nbformat": 4,
 "nbformat_minor": 0
}
