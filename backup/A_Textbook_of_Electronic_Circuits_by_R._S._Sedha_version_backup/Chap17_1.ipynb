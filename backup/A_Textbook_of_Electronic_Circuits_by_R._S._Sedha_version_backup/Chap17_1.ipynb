{
 "cells": [
  {
   "cell_type": "markdown",
   "metadata": {},
   "source": [
    "# Chapter - 17 : CONTROLLED RECTIFIERS"
   ]
  },
  {
   "cell_type": "markdown",
   "metadata": {},
   "source": [
    "## Ex 17.1 Pg 370"
   ]
  },
  {
   "cell_type": "code",
   "execution_count": 7,
   "metadata": {
    "collapsed": false
   },
   "outputs": [
    {
     "name": "stdout",
     "output_type": "stream",
     "text": [
      "a=22.797\n",
      "cosalpha=0.873\n",
      "alpha=29.157 degree\n"
     ]
    }
   ],
   "source": [
    "from __future__ import division\n",
    "from math import pi,sqrt,cos,acos\n",
    "RL=100#\n",
    "Vm=300#\n",
    "#load power P= Vdc*Idc\n",
    "a=(Vm/(2*pi))**2*(1/RL)#\n",
    "print \"a=%0.3f\"%a\n",
    "p=25#\n",
    "#1+cosb=sgrt(25/a)\n",
    "b=a*1+cos(sqrt(p/a))#\n",
    "cosalpha=(sqrt(p/a))-1#\n",
    "p=80#\n",
    "cosalpha=(sqrt(p/a))-1#\n",
    "print \"cosalpha=%0.3f\"%cosalpha\n",
    "#or#\n",
    "alpha=acos(cosalpha)*180/pi\n",
    "print 'alpha=%0.3f'%alpha,'degree'"
   ]
  },
  {
   "cell_type": "markdown",
   "metadata": {},
   "source": [
    "## Ex 17.2 Pg 371"
   ]
  },
  {
   "cell_type": "code",
   "execution_count": 9,
   "metadata": {
    "collapsed": false
   },
   "outputs": [
    {
     "name": "stdout",
     "output_type": "stream",
     "text": [
      "P=4044.96 mW OR\n",
      "P=4.04 W\n",
      "P=2916.00 mW OR\n",
      "P=2.92 W\n",
      "P=1011.240000 mW OR\n",
      "P=1.01 W\n",
      "P=86.86 mW OR\n",
      "P=0.09 W\n"
     ]
    }
   ],
   "source": [
    "from __future__ import division\n",
    "\n",
    "vm=200#\n",
    "Rl=1*10**3#\n",
    "#ALPHA=0degree\n",
    "Vdc=vm*0.318#\n",
    "Idc=Vdc/Rl#\n",
    "P=Vdc*Idc#\n",
    "print \"P=%0.2f\"%(P*1e3),'mW',\"OR\"\n",
    "print \"P=%0.2f\"%P,'W'\n",
    "#alpha=45 degree\n",
    "Vdc=vm*0.27#\n",
    "Idc=Vdc/Rl#\n",
    "P=Vdc*Idc#\n",
    "print \"P=%0.2f\"%(P*1e3),'mW',\"OR\"\n",
    "print \"P=%0.2f\"%P,'W'\n",
    "#alpha=90 degree\n",
    "Vdc=vm*0.159#\n",
    "Idc=Vdc/Rl#\n",
    "P=Vdc*Idc#\n",
    "print \"P=%02f\"%(P*1e3),'mW',\"OR\"\n",
    "print \"P=%0.2f\"%P,'W'\n",
    "\n",
    "#alpha=135 degree\n",
    "Vdc=vm*0.04660#\n",
    "Idc=Vdc/Rl#\n",
    "P=Vdc*Idc#\n",
    "print \"P=%0.2f\"%(P*1e3),'mW',\"OR\"\n",
    "print \"P=%0.2f\"%P,'W'"
   ]
  },
  {
   "cell_type": "markdown",
   "metadata": {},
   "source": [
    "## Ex 17.3 Pg 372"
   ]
  },
  {
   "cell_type": "code",
   "execution_count": 10,
   "metadata": {
    "collapsed": false
   },
   "outputs": [
    {
     "name": "stdout",
     "output_type": "stream",
     "text": [
      "Vm=311 V\n",
      "Vdc=74.28 V\n"
     ]
    }
   ],
   "source": [
    "from __future__ import division\n",
    "from math import sqrt,pi,cos\n",
    "Vrms=220#\n",
    "a=60#\n",
    "Vm=sqrt (2)*Vrms#\n",
    "print 'Vm=%02.f'%Vm,\"V\"\n",
    "Vdc=(Vm/(2*pi))*(1+cos(pi/180*60))#\n",
    "print 'Vdc=%0.2f'%Vdc,\"V\""
   ]
  },
  {
   "cell_type": "markdown",
   "metadata": {},
   "source": [
    "## Ex 17.4 Pg 373"
   ]
  },
  {
   "cell_type": "code",
   "execution_count": 12,
   "metadata": {
    "collapsed": false
   },
   "outputs": [
    {
     "name": "stdout",
     "output_type": "stream",
     "text": [
      "Vm=141.42 V\n",
      "RL=76.85 ohm\n"
     ]
    }
   ],
   "source": [
    "from __future__ import division\n",
    "from math import sqrt,pi,cos\n",
    "Vrms=100#\n",
    "a=45#\n",
    "Idc=0.5#\n",
    "Vm=sqrt (2)*Vrms#\n",
    "print 'Vm=%0.2f'%Vm,\"V\"\n",
    "#Idc=(Vm/(2*pi*RL))*(1+cosd(a))#\n",
    "RL=(Vm/(2*pi*Idc))*(1+cos(pi/180*a))#\n",
    "print \"RL=%0.2f\"%RL,'ohm'"
   ]
  },
  {
   "cell_type": "markdown",
   "metadata": {},
   "source": [
    "## Ex 17.5 Pg 374"
   ]
  },
  {
   "cell_type": "code",
   "execution_count": 14,
   "metadata": {
    "collapsed": false
   },
   "outputs": [
    {
     "name": "stdout",
     "output_type": "stream",
     "text": [
      "a=0.75\n",
      "f=25.00 kHZ\n"
     ]
    }
   ],
   "source": [
    "from __future__ import division\n",
    "\n",
    "Ton=30*10**-6#\n",
    "Toff=10*10**-6#\n",
    "#consider duty cycle=a\n",
    "a=Ton/(Ton+Toff)#\n",
    "print \"a=%0.2f\"%a\n",
    "f=(1/(Ton+Toff))\n",
    "print \"f=%0.2f\"%(f*10**-3),'kHZ'"
   ]
  },
  {
   "cell_type": "markdown",
   "metadata": {},
   "source": [
    "## Ex 17.6 Pg 375"
   ]
  },
  {
   "cell_type": "code",
   "execution_count": 15,
   "metadata": {
    "collapsed": false
   },
   "outputs": [
    {
     "name": "stdout",
     "output_type": "stream",
     "text": [
      "a=0.75\n",
      "Vl=150.00 V\n"
     ]
    }
   ],
   "source": [
    "from __future__ import division\n",
    "\n",
    "Ton=30*10**-3#\n",
    "Toff=10*10**-3#\n",
    "Vdc=200#\n",
    "a=Ton/(Ton+Toff)#\n",
    "print \"a=%0.2f\"%a\n",
    "Vl=Vdc*a#\n",
    "print 'Vl=%0.2f'%(Vl),\"V\""
   ]
  }
 ],
 "metadata": {
  "kernelspec": {
   "display_name": "Python 2",
   "language": "python",
   "name": "python2"
  },
  "language_info": {
   "codemirror_mode": {
    "name": "ipython",
    "version": 2
   },
   "file_extension": ".py",
   "mimetype": "text/x-python",
   "name": "python",
   "nbconvert_exporter": "python",
   "pygments_lexer": "ipython2",
   "version": "2.7.9"
  }
 },
 "nbformat": 4,
 "nbformat_minor": 0
}
