{
 "cells": [
  {
   "cell_type": "markdown",
   "metadata": {},
   "source": [
    "# Chapter - 20 : HYBRID PARAMETERS"
   ]
  },
  {
   "cell_type": "markdown",
   "metadata": {},
   "source": [
    "## Ex 20.2 Pg 511"
   ]
  },
  {
   "cell_type": "code",
   "execution_count": 1,
   "metadata": {
    "collapsed": false
   },
   "outputs": [
    {
     "name": "stdout",
     "output_type": "stream",
     "text": [
      "Ris=995.45 Ohm\n",
      "Ro=10.26 kohm\n",
      "Ros=911.16 ohm\n",
      "Ais=-22.78\n",
      "Avs=-22.78\n"
     ]
    }
   ],
   "source": [
    "from __future__ import division\n",
    "\n",
    "hie=1.0*10**3\n",
    "hre=1*10**-4\n",
    "hoe=100*10**-6\n",
    "RC=1000\n",
    "RS=1000\n",
    "rL=RC\n",
    "hfe=50\n",
    "Ai=-hfe/(1+hoe*rL)\n",
    "Ri=hie+hre*Ai*rL\n",
    "Ris=Ri\n",
    "print 'Ris=%0.2f Ohm'%Ris\n",
    "delh=hie*hoe-hre*hfe\n",
    "his=1000\n",
    "Ro=(RS+his)/(RS*hoe+delh)\n",
    "print 'Ro=%0.2f kohm'%(Ro*10**-3)\n",
    "Ros=(Ro*rL)/(Ro+rL)\n",
    "print 'Ros=%0.2f ohm'%Ros\n",
    "Ais=(Ai*RS)/(RS+Ris)\n",
    "print \"Ais=%0.2f\"%Ais\n",
    "Av=(Ai*rL)/Ri\n",
    "Avs=(Av*Ris)/(RS+Ris)\n",
    "print \"Avs=%0.2f\"%Avs"
   ]
  },
  {
   "cell_type": "markdown",
   "metadata": {},
   "source": [
    "## Ex 20.3 Pg 512"
   ]
  },
  {
   "cell_type": "code",
   "execution_count": 2,
   "metadata": {
    "collapsed": false
   },
   "outputs": [
    {
     "name": "stdout",
     "output_type": "stream",
     "text": [
      "Ai=48.78 \n",
      "Ri=1112.20 Ohm\n",
      "Av=43.86 \n"
     ]
    }
   ],
   "source": [
    "from __future__ import division\n",
    "\n",
    "hie=1.1*10**3\n",
    "hre=2.5*10**-4\n",
    "hfe=50\n",
    "hoe=25*10**-6\n",
    "rs=1*10**3\n",
    "rL=1*10**3\n",
    "Ai=hfe/(1+hoe*rL)\n",
    "print \"Ai=%0.2f \"%Ai\n",
    "Ri=hie+hre*Ai*rL\n",
    "print 'Ri=%0.2f Ohm'%Ri\n",
    "Av=(Ai*rL)/Ri\n",
    "print \"Av=%0.2f \"%Av"
   ]
  },
  {
   "cell_type": "markdown",
   "metadata": {},
   "source": [
    "## Ex 20.4 Pg 513"
   ]
  },
  {
   "cell_type": "code",
   "execution_count": 3,
   "metadata": {
    "collapsed": false
   },
   "outputs": [
    {
     "name": "stdout",
     "output_type": "stream",
     "text": [
      "Ris=197.38 ohm\n",
      "Ros=3636.36 ohm\n",
      "Avs=-3.20 \n"
     ]
    }
   ],
   "source": [
    "from __future__ import division\n",
    "\n",
    "RC=4*10**3\n",
    "RB=40*10**3\n",
    "RS=10*10**3\n",
    "hie=1100\n",
    "hfe=50\n",
    "hre=0\n",
    "hoe=0\n",
    "RB2=40*10**3\n",
    "rL=(RC*RB2)/(RC+RB2)\n",
    "Ai=-hfe/(1+hoe*rL)\n",
    "Ri=hie+hre*Ai*rL\n",
    "Av=(Ai*rL)/Ri\n",
    "RB1=40*10**3/(1-Av)\n",
    "Ris=(Ri*RB1)/(Ri+RB1)\n",
    "print 'Ris=%0.2f ohm'%Ris\n",
    "Ros=rL##Ro=infinity\n",
    "print 'Ros=%0.2f ohm'%Ros\n",
    "Avs=(Av*Ris)/(RS+Ris)\n",
    "print \"Avs=%0.2f \"%Avs"
   ]
  },
  {
   "cell_type": "markdown",
   "metadata": {},
   "source": [
    "## Ex 20.5 Pg 514"
   ]
  },
  {
   "cell_type": "code",
   "execution_count": 4,
   "metadata": {
    "collapsed": false
   },
   "outputs": [
    {
     "name": "stdout",
     "output_type": "stream",
     "text": [
      "Ai=0.98\n",
      "Ri=28.59 ohm\n",
      "Ro=56.05 kohm\n",
      "Av=41.12\n"
     ]
    }
   ],
   "source": [
    "from __future__ import division\n",
    "\n",
    "hib=28\n",
    "hfb=-0.98\n",
    "hrb=5*10**-4\n",
    "hob=0.34*10**-6\n",
    "rL=1.2*10**3\n",
    "Rs=0\n",
    "Ai=-hfb/(1+hob*rL)\n",
    "print \"Ai=%0.2f\"%Ai\n",
    "Ri=hib+hrb*Ai*rL\n",
    "print 'Ri=%0.2f ohm'%Ri\n",
    "delh=hib*hob-hrb*hfb\n",
    "Ro=(Rs+hib)/(Rs*hib+delh)\n",
    "print 'Ro=%0.2f kohm'%(Ro*10**-3)\n",
    "Av=(Ai*rL)/Ri\n",
    "print \"Av=%0.2f\"%Av"
   ]
  },
  {
   "cell_type": "markdown",
   "metadata": {},
   "source": [
    "## Ex 20.6 Pg 515"
   ]
  },
  {
   "cell_type": "code",
   "execution_count": 5,
   "metadata": {
    "collapsed": false
   },
   "outputs": [
    {
     "name": "stdout",
     "output_type": "stream",
     "text": [
      "Ai=45.33\n",
      "Ri=228.67 kohm\n",
      "Ris=4893.01 ohm\n",
      "Ros=58.14 ohm\n",
      "Aid=7.69\n",
      "Av=0.99\n",
      "Avs=0.82\n"
     ]
    }
   ],
   "source": [
    "from __future__ import division\n",
    "\n",
    "hic=2*10**3\n",
    "hfc=-51\n",
    "hrc=1\n",
    "hoc=25*10**-6\n",
    "rL=5*10**3\n",
    "RE=5*10**3\n",
    "Rs=1000\n",
    "R1=10*10**3\n",
    "R2=10*10**3\n",
    "Ai=-hfc/(1+hoc*rL)\n",
    "print \"Ai=%0.2f\"%Ai\n",
    "Ri=hic+hrc*Ai*rL\n",
    "print 'Ri=%0.2f kohm'%(Ri*10**-3)\n",
    "a=(R1*R2)/(R1+R2)\n",
    "Ris=(Ri*a)/(Ri+a)\n",
    "print 'Ris=%0.2f ohm'%Ris\n",
    "Ro=-(Rs+hic)/hfc\n",
    "Ros=(Ro*RE)/(Ro+RE)\n",
    "print 'Ros=%0.2f ohm'%Ros\n",
    "Ais=(Ai*Rs)/(Rs+Ris)\n",
    "print \"Aid=%0.2f\"%Ais\n",
    "Av=(Ai*rL)/Ri\n",
    "print \"Av=%0.2f\"%Av\n",
    "Avs=(Av*Ris)/(Rs+Ris)\n",
    "print \"Avs=%0.2f\"%Avs"
   ]
  },
  {
   "cell_type": "markdown",
   "metadata": {},
   "source": [
    "## Ex 20.7 Pg 516"
   ]
  },
  {
   "cell_type": "code",
   "execution_count": 6,
   "metadata": {
    "collapsed": false
   },
   "outputs": [
    {
     "name": "stdout",
     "output_type": "stream",
     "text": [
      "Ris=1.22 kohm\n",
      "Ros=3.12 kohm\n",
      "Avs=-111.11\n",
      "Ais=-50.00\n"
     ]
    }
   ],
   "source": [
    "from __future__ import division\n",
    "\n",
    "hie=1500\n",
    "hfe=50\n",
    "hre=50*10**-4\n",
    "hoe=20*10**-6\n",
    "RC=5*10**3\n",
    "RL=10*10**3\n",
    "R1=20*10**3\n",
    "R2=10*10**3\n",
    "rL=(RC*RL)/(RC+RL)\n",
    "Ai=-hfe\n",
    "Ri=hie\n",
    "a=(R1*R2)/(R1+R2)\n",
    "Ris=(Ri*a)/(Ri+a)\n",
    "print 'Ris=%0.2f kohm'%(Ris*10**-3)\n",
    "Ro=1/hoe\n",
    "Ros=(Ro*rL)/(Ro+rL)##correction \n",
    "print 'Ros=%0.2f kohm'%(Ros*10**-3)\n",
    "Avs=(Ai*rL)/Ri\n",
    "print \"Avs=%0.2f\"%Avs\n",
    "Ais=Ai##correction\n",
    "print \"Ais=%0.2f\"%Ais"
   ]
  },
  {
   "cell_type": "markdown",
   "metadata": {},
   "source": [
    "## Ex 20.8 Pg 517"
   ]
  },
  {
   "cell_type": "code",
   "execution_count": 7,
   "metadata": {
    "collapsed": false
   },
   "outputs": [
    {
     "name": "stdout",
     "output_type": "stream",
     "text": [
      "hie=2.24 kohm\n",
      "hfe=156.52 ohm\n",
      "Ris=1.45 kohm\n",
      "Avs=236.41\n"
     ]
    }
   ],
   "source": [
    "from __future__ import division\n",
    "from math import sqrt\n",
    "RC=12*10**3#\n",
    "RL=4.7*10**3#\n",
    "R1=33*10**3#\n",
    "R2=4.7*10**3#\n",
    "IC=1*10**-3#\n",
    "hiemin=1*10**3#\n",
    "hiemax=5*10**3#\n",
    "hfemin=70#\n",
    "hfemax=350#\n",
    "hie=sqrt(hiemin*hiemax)#\n",
    "print 'hie=%0.2f kohm'%(hie*10**-3)\n",
    "hfe=sqrt(hfemin*hfemax)#\n",
    "print 'hfe=%0.2f ohm'%hfe ##answer printed in the book is wrong\n",
    "Ri=hie#\n",
    "a=(R1*R2)/(R1+R2)#\n",
    "Ris=(Ri*a)/(Ri+a)#\n",
    "print 'Ris=%0.2f kohm'%(Ris*10**-3)\n",
    "Ai=hfe#\n",
    "rc=(RC*RL)/(RC+RL)#\n",
    "Avs=(Ai*rc)/Ri#\n",
    "print \"Avs=%0.2f\"%Avs"
   ]
  },
  {
   "cell_type": "markdown",
   "metadata": {},
   "source": [
    "## Ex 20.9 Pg 518"
   ]
  },
  {
   "cell_type": "code",
   "execution_count": 8,
   "metadata": {
    "collapsed": false
   },
   "outputs": [
    {
     "name": "stdout",
     "output_type": "stream",
     "text": [
      "Ris=1.17 kohm\n",
      "Ros=2.56 kohm\n",
      "Ai=120.00\n",
      "Av=275.74\n"
     ]
    }
   ],
   "source": [
    "from __future__ import division\n",
    "\n",
    "RB=330*10**3\n",
    "RC=2.7*10**3\n",
    "hfe=120\n",
    "hie=1.175*10**3\n",
    "hoe=20*10**-6\n",
    "Ri=hie\n",
    "Ris=(hie*RB)/(hie+RB)\n",
    "print 'Ris=%0.2f kohm'%(Ris*10**-3)\n",
    "Ro=1/hoe\n",
    "Ros=(Ro*RC)/(Ro+RC)\n",
    "print 'Ros=%0.2f kohm'%(Ros*10**-3)\n",
    "Ai=hfe\n",
    "print \"Ai=%0.2f\"%Ai\n",
    "Av=(hfe*RC)/Ri\n",
    "print \"Av=%0.2f\"%Av"
   ]
  },
  {
   "cell_type": "markdown",
   "metadata": {},
   "source": [
    "## Ex 20.10 Pg 519"
   ]
  },
  {
   "cell_type": "code",
   "execution_count": 9,
   "metadata": {
    "collapsed": false
   },
   "outputs": [
    {
     "name": "stdout",
     "output_type": "stream",
     "text": [
      "hfb=-0.98\n",
      "hfc=-51.00\n"
     ]
    }
   ],
   "source": [
    "from __future__ import division\n",
    "\n",
    "hfe=50\n",
    "hfb=-hfe/(1+hfe)\n",
    "print \"hfb=%0.2f\"%hfb\n",
    "hfc=-(1+hfe)\n",
    "print \"hfc=%0.2f\"%hfc"
   ]
  },
  {
   "cell_type": "markdown",
   "metadata": {},
   "source": [
    "## Ex 20.11 Pg 520"
   ]
  },
  {
   "cell_type": "code",
   "execution_count": 10,
   "metadata": {
    "collapsed": false
   },
   "outputs": [
    {
     "name": "stdout",
     "output_type": "stream",
     "text": [
      "Ai=-41.13\n",
      "Ri=412.29 kohm\n",
      "Av=1.00\n"
     ]
    }
   ],
   "source": [
    "from __future__ import division\n",
    "\n",
    "hie=1100\n",
    "hre=2.5*10**-4\n",
    "hfe=50\n",
    "hoe=24*10**-6\n",
    "rL=10*10**3\n",
    "RS=1*10**3\n",
    "hic=hie\n",
    "hrc=1-hre\n",
    "hfc=-(1+hfe)\n",
    "Ai=hfc/(1+hoe*rL)\n",
    "print \"Ai=%0.2f\"%Ai\n",
    "Ri=hie+hrc*-Ai*rL\n",
    "print 'Ri=%0.2f kohm'%(Ri*10**-3)\n",
    "Av=(-Ai*rL)/Ri\n",
    "print \"Av=%0.2f\"%Av"
   ]
  }
 ],
 "metadata": {
  "kernelspec": {
   "display_name": "Python 2",
   "language": "python",
   "name": "python2"
  },
  "language_info": {
   "codemirror_mode": {
    "name": "ipython",
    "version": 2
   },
   "file_extension": ".py",
   "mimetype": "text/x-python",
   "name": "python",
   "nbconvert_exporter": "python",
   "pygments_lexer": "ipython2",
   "version": "2.7.9"
  }
 },
 "nbformat": 4,
 "nbformat_minor": 0
}
