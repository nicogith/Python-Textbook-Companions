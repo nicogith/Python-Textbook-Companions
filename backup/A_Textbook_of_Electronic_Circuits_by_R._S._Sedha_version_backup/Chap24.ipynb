{
 "cells": [
  {
   "cell_type": "markdown",
   "metadata": {},
   "source": [
    "# Chapter -24 : FREQUENCY RESPONSE OF BJT AND JFET AMPLIFIERS"
   ]
  },
  {
   "cell_type": "markdown",
   "metadata": {},
   "source": [
    "## Ex 24.1 Pg 685"
   ]
  },
  {
   "cell_type": "code",
   "execution_count": 1,
   "metadata": {
    "collapsed": false
   },
   "outputs": [
    {
     "name": "stdout",
     "output_type": "stream",
     "text": [
      "G=13.01 dB\n"
     ]
    }
   ],
   "source": [
    "from __future__ import division\n",
    "from math import log10\n",
    "Pi=5#\n",
    "Po=100#\n",
    "G=10*log10(Po/Pi)#\n",
    "print 'G=%0.2f dB'%G"
   ]
  },
  {
   "cell_type": "markdown",
   "metadata": {},
   "source": [
    "## Ex 24.2 Pg 685"
   ]
  },
  {
   "cell_type": "code",
   "execution_count": 2,
   "metadata": {
    "collapsed": false
   },
   "outputs": [
    {
     "name": "stdout",
     "output_type": "stream",
     "text": [
      "G=23.01 dB\n"
     ]
    }
   ],
   "source": [
    "from __future__ import division\n",
    "from math import log10\n",
    "Pi=5*10**-3#\n",
    "Po=1#\n",
    "G=10*log10(Po/Pi)#\n",
    "print 'G=%0.2f dB'%G #ans given in the book is wrong"
   ]
  },
  {
   "cell_type": "markdown",
   "metadata": {},
   "source": [
    "## Ex 24.3 Pg 686"
   ]
  },
  {
   "cell_type": "code",
   "execution_count": 3,
   "metadata": {
    "collapsed": false
   },
   "outputs": [
    {
     "name": "stdout",
     "output_type": "stream",
     "text": [
      "G=6.99 dB\n"
     ]
    }
   ],
   "source": [
    "from __future__ import division\n",
    "from math import log10\n",
    "Pi=20*10**-6#\n",
    "Po=100*10**-6#\n",
    "G=10*log10(Po/Pi)#\n",
    "print 'G=%0.2f dB'%G"
   ]
  },
  {
   "cell_type": "markdown",
   "metadata": {},
   "source": [
    "## Ex 24.4 Pg 687"
   ]
  },
  {
   "cell_type": "code",
   "execution_count": 5,
   "metadata": {
    "collapsed": false
   },
   "outputs": [
    {
     "name": "stdout",
     "output_type": "stream",
     "text": [
      "G=43.98 dB\n"
     ]
    }
   ],
   "source": [
    "from __future__ import division\n",
    "from math import log10\n",
    "Po=25#\n",
    "G=10*log10(Po/(1*10**-3))#\n",
    "print 'G=%0.2f dB'%G"
   ]
  },
  {
   "cell_type": "markdown",
   "metadata": {},
   "source": [
    "## Ex 24.5 Pg 688"
   ]
  },
  {
   "cell_type": "code",
   "execution_count": 6,
   "metadata": {
    "collapsed": false
   },
   "outputs": [
    {
     "name": "stdout",
     "output_type": "stream",
     "text": [
      "G=6.02 dB\n"
     ]
    }
   ],
   "source": [
    "from __future__ import division\n",
    "from math import log10\n",
    "V2=100#\n",
    "V1=25#\n",
    "G=10*log10(V2/V1)#\n",
    "print 'G=%0.2f dB'%G"
   ]
  },
  {
   "cell_type": "markdown",
   "metadata": {},
   "source": [
    " ## Ex 24.8 Pg 689"
   ]
  },
  {
   "cell_type": "code",
   "execution_count": 8,
   "metadata": {
    "collapsed": false
   },
   "outputs": [
    {
     "name": "stdout",
     "output_type": "stream",
     "text": [
      "f1=318.31 HZ\n"
     ]
    },
    {
     "data": {
      "image/png": "[encoded data removed]",
      "text/plain": [
       "<matplotlib.figure.Figure at 0x7f96c83d7e50>"
      ]
     },
     "metadata": {},
     "output_type": "display_data"
    }
   ],
   "source": [
    "from __future__ import division\n",
    "from numpy import arange,pi\n",
    "%matplotlib inline\n",
    "from matplotlib.pyplot import plot,xlabel,ylabel,show\n",
    "R=5*10**3#\n",
    "C=0.1*10**-6#\n",
    "f1=1/(2*pi*R*C)#\n",
    "print 'f1=%0.2f HZ'%f1\n",
    "i=arange(-21,0,3)\n",
    "plot(i)#\n",
    "xlabel(\"f (log scale)\")#\n",
    "ylabel( \"Av(dB)\")#\n",
    "show()"
   ]
  },
  {
   "cell_type": "markdown",
   "metadata": {},
   "source": [
    "## Ex 24.9 Pg 690"
   ]
  },
  {
   "cell_type": "code",
   "execution_count": 9,
   "metadata": {
    "collapsed": false
   },
   "outputs": [
    {
     "name": "stdout",
     "output_type": "stream",
     "text": [
      "fLS=6.87 HZ\n",
      "fLC=25.67 HZ\n",
      "fLE=326.85 HZ\n"
     ]
    },
    {
     "data": {
      "image/png": "[encoded data removed]",
      "text/plain": [
       "<matplotlib.figure.Figure at 0x7f96c1c65bd0>"
      ]
     },
     "metadata": {},
     "output_type": "display_data"
    }
   ],
   "source": [
    "from __future__ import division\n",
    "from numpy import arange,pi\n",
    "%matplotlib inline\n",
    "from matplotlib.pyplot import plot,xlabel,ylabel,show\n",
    "\n",
    "\n",
    "RC=4*10**3#\n",
    "R1=40*10**3#\n",
    "R2=10*10**3#\n",
    "RE=2*10**3#\n",
    "RS=1*10**3#\n",
    "RL=2.2*10**3#\n",
    "CS=10*10**-6#\n",
    "CE=20*10**-6#\n",
    "CC=1*10**-6#\n",
    "B=100#\n",
    "VCC=20#\n",
    "VB=(R2*VCC)/(R2+R1)#\n",
    "IE=(VB-0.7)/RE#\n",
    "re=(26*10**-3)/IE#\n",
    "B*re#\n",
    "vo=-(RC*RL)/(RC+RL)#\n",
    "Av=vo/re#\n",
    "a=(R1*R2)/(R1+R2)#\n",
    "Ri=(a*(B*re))/(a+(B*re))#\n",
    "Rs=1*10**3#\n",
    "vibyvs=Ri/(Ri+Rs)#\n",
    "Avs=Av*vibyvs#\n",
    "a=(R1*R2)/(R1+R2)#\n",
    "Ri=(a*(B*re))/(a+(B*re))#\n",
    "fLS=1/(2*pi*(Rs+Ri)*CS)#\n",
    "print 'fLS=%0.2f HZ'%fLS\n",
    "fLC=1/(2*pi*(RC+RL)*CC)#\n",
    "print 'fLC=%0.2f HZ'%fLC\n",
    "a=(R1*R2)/(R1+R2)#\n",
    "RS=(a*RS)/(a+RS)#\n",
    "b=(RS/B+re)#\n",
    "Re=(RE*b)/(RE+b)#\n",
    "fLE=1/(2*pi*Re*CE)#\n",
    "print 'fLE=%0.2f HZ'%fLE\n",
    "i=arange(-21,0,3)\n",
    "plot(i)#\n",
    "xlabel(\"f (log scale)\")#\n",
    "ylabel( \"Av(dB)\")#\n",
    "show()"
   ]
  }
 ],
 "metadata": {
  "kernelspec": {
   "display_name": "Python 2",
   "language": "python",
   "name": "python2"
  },
  "language_info": {
   "codemirror_mode": {
    "name": "ipython",
    "version": 2
   },
   "file_extension": ".py",
   "mimetype": "text/x-python",
   "name": "python",
   "nbconvert_exporter": "python",
   "pygments_lexer": "ipython2",
   "version": "2.7.9"
  }
 },
 "nbformat": 4,
 "nbformat_minor": 0
}
