{
 "cells": [
  {
   "cell_type": "markdown",
   "metadata": {},
   "source": [
    "# Chapter - 3 : Semiconductors"
   ]
  },
  {
   "cell_type": "markdown",
   "metadata": {},
   "source": [
    "## Ex 3.1 Pg 59"
   ]
  },
  {
   "cell_type": "code",
   "execution_count": 1,
   "metadata": {
    "collapsed": false
   },
   "outputs": [
    {
     "name": "stdout",
     "output_type": "stream",
     "text": [
      "l = 45.6 km\n",
      "J = 5.80e+05 A/m**2\n"
     ]
    }
   ],
   "source": [
    "from __future__ import division\n",
    "from math import sqrt, pi\n",
    "R=1000#\n",
    "sigma=5.8*10**7#\n",
    "d=0.001#\n",
    "\n",
    "#l is length of the cu wire\n",
    "l=R*sigma*pi*(d*d/4)##R=l/(sigma*pi*(d*d/4))\n",
    "print \"l = %0.1f km\"%(l*10**-3)\n",
    "E=10*10**-3#\n",
    "J=sigma*E##current density\n",
    "print 'J = %0.2e A/m**2'%J"
   ]
  },
  {
   "cell_type": "markdown",
   "metadata": {},
   "source": [
    "## Ex 3.2 Pg 60"
   ]
  },
  {
   "cell_type": "code",
   "execution_count": 2,
   "metadata": {
    "collapsed": false
   },
   "outputs": [
    {
     "name": "stdout",
     "output_type": "stream",
     "text": [
      "n = 1.133e+29 /m**3\n",
      "J = 1.16e+06 A/m**2\n",
      "A = 3.14e-06 m**2\n",
      "I = 3.64 A\n",
      "V = 6.40e-05 m/s\n"
     ]
    }
   ],
   "source": [
    "d=2*10**-3#\n",
    "sigma=5.8*10**7#\n",
    "mu=0.0032#\n",
    "E=20*10**-3#\n",
    "q=1.6*10**-19#\n",
    "n=sigma/(q*mu)##sigma=q*n*mu\n",
    "print 'n = %0.3e /m**3'%(n)\n",
    "J=sigma*E##current density\n",
    "print 'J = %0.2e A/m**2'%J\n",
    "A=pi*d*d/4##area of cross-section of wire\n",
    "print 'A = %0.2e m**2'%A\n",
    "I=J*A##current flowing in the wire\n",
    "print 'I = %0.2f A'%I\n",
    "V=mu*E##electron drift velocity\n",
    "print 'V = %0.2e m/s'%V\n",
    "#answer printed in the book is wrong"
   ]
  },
  {
   "cell_type": "markdown",
   "metadata": {},
   "source": [
    "## Ex 3.3 Pg 61"
   ]
  },
  {
   "cell_type": "code",
   "execution_count": 3,
   "metadata": {
    "collapsed": false
   },
   "outputs": [
    {
     "name": "stdout",
     "output_type": "stream",
     "text": [
      "sigma = 6.49e+07 S/m\n",
      "mu = 0.700 m**2/vs\n",
      "t = 3.980 ps\n"
     ]
    }
   ],
   "source": [
    "p=1.54*10**-8#\n",
    "n=5.8*10**28#\n",
    "q=1.6*10**-19#\n",
    "sigma=1/p##p=1/sigma..conductivity\n",
    "print 'sigma = %0.2e S/m'%sigma\n",
    "mu=sigma/(q*n*10**-2)##mobility\n",
    "print 'mu = %0.3f m**2/vs'%mu\n",
    "m=9.1*10**-31#\n",
    "t=(m*mu)/q##relaxation time\n",
    "print 't = %0.3f ps'%(t*1e12)"
   ]
  },
  {
   "cell_type": "markdown",
   "metadata": {},
   "source": [
    "## Ex  3.4 Pg 62"
   ]
  },
  {
   "cell_type": "code",
   "execution_count": 4,
   "metadata": {
    "collapsed": false
   },
   "outputs": [
    {
     "name": "stdout",
     "output_type": "stream",
     "text": [
      "sigma = 2.24 ohm-mu**-1\n",
      "sigma1 = 4.32e-04 ohm-m**-1\n"
     ]
    }
   ],
   "source": [
    "mun=0.38#\n",
    "mup=0.18#\n",
    "n=2.5*10**19#\n",
    "a=0.13#\n",
    "b=0.05#\n",
    "n2=1.5*10**16#\n",
    "q=1.6*10**-19#\n",
    "sigma=q*n*(mun+mup)## intrinsic coductivity for germanium\n",
    "print 'sigma = %0.2f ohm-mu**-1'%sigma\n",
    "sigma1=q*n2*(a+b)##intrinsic coductivity for silicon\n",
    "print 'sigma1 = %0.2e ohm-m**-1'%sigma1"
   ]
  },
  {
   "cell_type": "markdown",
   "metadata": {},
   "source": [
    "## Ex 3.5 Pg 62"
   ]
  },
  {
   "cell_type": "code",
   "execution_count": 5,
   "metadata": {
    "collapsed": false
   },
   "outputs": [
    {
     "name": "stdout",
     "output_type": "stream",
     "text": [
      "e = 3.27e-04 ohm-m**-1\n",
      "h = 1.13e-04 ohm-m**-1\n"
     ]
    }
   ],
   "source": [
    "n=1.41*10**16#\n",
    "mun=0.145#\n",
    "mup=0.05#\n",
    "q=1.6*10**-19#\n",
    "#sigma=q*n*(mun+mup)#\n",
    "e=q*n*mun##contribution by electrons\n",
    "h=q*n*mup##contribution by holes\n",
    "print 'e = %0.2e ohm-m**-1'%e\n",
    "print 'h = %0.2e ohm-m**-1'%h"
   ]
  },
  {
   "cell_type": "markdown",
   "metadata": {},
   "source": [
    "## Ex 3.6 Pg 63"
   ]
  },
  {
   "cell_type": "code",
   "execution_count": 6,
   "metadata": {
    "collapsed": false
   },
   "outputs": [
    {
     "name": "stdout",
     "output_type": "stream",
     "text": [
      "R = 125.00 ohm\n",
      "rho = 0.025 ohm-m\n",
      "n = 1.92e+21 /m**3\n",
      "J = 2.00e+05 amp/m**2\n",
      "v = 650.00 m/sec\n"
     ]
    }
   ],
   "source": [
    "q=1.60*10**-19#\n",
    "l=0.2*10**-3#\n",
    "a=0.04*10**-6#\n",
    "v=1#\n",
    "i=8*10**-3#\n",
    "mun=0.13#\n",
    "#concentration of free electrons\n",
    "R=v/i##resistance\n",
    "print 'R = %0.2f ohm'%R\n",
    "rho=(R*a)/l#\n",
    "print 'rho = %0.3f ohm-m'%rho\n",
    "sigma=1/rho##conductivity\n",
    "n=sigma/(q*mun)##concentration of free electrons\n",
    "print 'n = %0.2e /m**3'%n\n",
    "#Drift velocity\n",
    "j=i/a#\n",
    "print 'J = %0.2e amp/m**2'%j\n",
    "v=j/(n*q)#\n",
    "print 'v = %0.2f m/sec'%v"
   ]
  },
  {
   "cell_type": "markdown",
   "metadata": {},
   "source": [
    "## Ex 3.7 Pg 64"
   ]
  },
  {
   "cell_type": "code",
   "execution_count": 7,
   "metadata": {
    "collapsed": false
   },
   "outputs": [
    {
     "name": "stdout",
     "output_type": "stream",
     "text": [
      "sigma = 2.13 ohm-m**-1\n",
      "n = 2.3e+19 /m**3\n"
     ]
    }
   ],
   "source": [
    "rho=0.47#\n",
    "q=1.6*10**-19#\n",
    "mun=0.39#\n",
    "mup=0.19#\n",
    "sigma=1/rho##conductivity of intrinsic semiconductor\n",
    "print 'sigma = %0.2f ohm-m**-1'%sigma\n",
    "n=sigma/(q*(mun+mup))##intrinsic carrier concentration of germanium\n",
    "print 'n = %0.1e /m**3'%n"
   ]
  },
  {
   "cell_type": "markdown",
   "metadata": {},
   "source": [
    "## Ex  3.8 Pg 66"
   ]
  },
  {
   "cell_type": "code",
   "execution_count": 8,
   "metadata": {
    "collapsed": false
   },
   "outputs": [
    {
     "name": "stdout",
     "output_type": "stream",
     "text": [
      "n = 5.00e+20 /m**3\n",
      "SIGMA = 14.40 ohm-m**-1\n"
     ]
    }
   ],
   "source": [
    "ND=10**21#\n",
    "NA=5*10**20#\n",
    "q=1.6*10**-19#\n",
    "mun=0.18#\n",
    "ND1=ND-NA##number of free electrons\n",
    "print 'n = %0.2e /m**3'%ND1\n",
    "SIGMA=ND1*q*mun##conductivity of silicon\n",
    "print 'SIGMA = %0.2f ohm-m**-1'%SIGMA"
   ]
  },
  {
   "cell_type": "markdown",
   "metadata": {},
   "source": [
    "## Ex 3.9 Pg 66"
   ]
  },
  {
   "cell_type": "code",
   "execution_count": 9,
   "metadata": {
    "collapsed": false
   },
   "outputs": [
    {
     "name": "stdout",
     "output_type": "stream",
     "text": [
      "sigma = 0.01 (ohm-m)**-1\n",
      "ND = 1.74e+17 atoms/m**3\n"
     ]
    }
   ],
   "source": [
    "rho=100.0#\n",
    "q=1.6*10**-19#\n",
    "mun=0.36#\n",
    "sigma=1.0/rho#\n",
    "print 'sigma = %0.2f (ohm-m)**-1'%sigma\n",
    "ND= sigma/(q*mun)##donar concentration\n",
    "print 'ND = %0.2e atoms/m**3'%ND"
   ]
  },
  {
   "cell_type": "markdown",
   "metadata": {},
   "source": [
    "## Ex  3.10 Pg  66"
   ]
  },
  {
   "cell_type": "code",
   "execution_count": 10,
   "metadata": {
    "collapsed": false
   },
   "outputs": [
    {
     "name": "stdout",
     "output_type": "stream",
     "text": [
      "n = 1.76e+24 electrons/cm**3\n",
      "p = 2.64e+24 holes/cm**3\n"
     ]
    }
   ],
   "source": [
    "ND=2*10**14#\n",
    "NA=3*10**14#\n",
    "ni=2.3*10**19#\n",
    "n=(ni**2)/NA#\n",
    "print 'n = %0.2e electrons/cm**3'%n\n",
    "p=(ni**2)/ND#\n",
    "print 'p = %0.2e holes/cm**3'%p"
   ]
  },
  {
   "cell_type": "markdown",
   "metadata": {},
   "source": [
    "## Ex  3.11 Pg 67"
   ]
  },
  {
   "cell_type": "code",
   "execution_count": 11,
   "metadata": {
    "collapsed": false
   },
   "outputs": [
    {
     "name": "stdout",
     "output_type": "stream",
     "text": [
      "n = 3750\n",
      "p = 4.50e+11\n"
     ]
    }
   ],
   "source": [
    "ND=5*10**8#\n",
    "NA=6*10**16#\n",
    "ni=1.5*10**10#\n",
    "n=(ni**2)/NA##number of electons\n",
    "p=(ni**2)/ND##number of holes\n",
    "print \"n = %0.f\"%n\n",
    "print \"p = %0.2e\"%p"
   ]
  },
  {
   "cell_type": "markdown",
   "metadata": {},
   "source": [
    "## Ex 3.12 Pg 67"
   ]
  },
  {
   "cell_type": "code",
   "execution_count": 12,
   "metadata": {
    "collapsed": false
   },
   "outputs": [
    {
     "name": "stdout",
     "output_type": "stream",
     "text": [
      "sigma = 1.60 S/m\n",
      "l = 1.26 mm\n"
     ]
    }
   ],
   "source": [
    "d=0.001#\n",
    "q=1.6*10**-19#\n",
    "ND=10**20#\n",
    "R=1000#\n",
    "mun=0.1#\n",
    "n=ND##number of free electrons\n",
    "sigma=q*n*mun##conductivity\n",
    "print 'sigma = %0.2f S/m'%sigma\n",
    "a=(1/sigma)*(1/(pi*(0.001**2)/4))\n",
    "l=R/a#\n",
    "print 'l = %0.2f mm'%(l*10**3)"
   ]
  },
  {
   "cell_type": "markdown",
   "metadata": {},
   "source": [
    "## Ex 3.13 Pg 67"
   ]
  },
  {
   "cell_type": "code",
   "execution_count": 13,
   "metadata": {
    "collapsed": false
   },
   "outputs": [
    {
     "name": "stdout",
     "output_type": "stream",
     "text": [
      "p = 3.47e+17 /cm**3\n",
      "n = 1.80e+09 /cm**3\n",
      "n = 4.80e+14 /cm**3\n",
      "p = 4.69e+05 /cm**3\n"
     ]
    }
   ],
   "source": [
    "sigma=100#\n",
    "rho=0.1#\n",
    "ni=1.5*10**10#\n",
    "mun=1300#\n",
    "mup=500#\n",
    "ni1=2.5*10**13#\n",
    "mun1=3800#\n",
    "mup1=1800#\n",
    "q=1.602*10**-19#\n",
    "#concentration of p type germanium\n",
    "p=sigma/(q*mup1)#\n",
    "print 'p = %0.2e /cm**3'%p\n",
    "n=(ni1**2)/p#\n",
    "print 'n = %0.2e /cm**3'%n\n",
    "#concentration of n type silicon\n",
    "n=rho/(mun*q)#\n",
    "print 'n = %0.2e /cm**3'%n\n",
    "p=(ni**2)/n#\n",
    "print 'p = %0.2e /cm**3'%p\n",
    "# ans in the textbook are wrong"
   ]
  },
  {
   "cell_type": "markdown",
   "metadata": {},
   "source": [
    "## Ex3.14 Pg 68"
   ]
  },
  {
   "cell_type": "code",
   "execution_count": 14,
   "metadata": {
    "collapsed": false
   },
   "outputs": [
    {
     "name": "stdout",
     "output_type": "stream",
     "text": [
      "ND = 4.41e+14 /cm**3\n",
      "p = 1.42e+12 /cm**3\n",
      "sigma = 0.27 (ohm-cm**)-1\n",
      "rho = 3.72 ohm-cm\n"
     ]
    }
   ],
   "source": [
    "mun=3800#\n",
    "mup=1800#\n",
    "ni=2.5*10**13#\n",
    "Nge=4.41*10**22#\n",
    "q=1.602*10**-19#\n",
    "ND=Nge/10**8#\n",
    "print 'ND = %0.2e /cm**3'%ND\n",
    "p=(ni**2)/ND#\n",
    "print 'p = %0.2e /cm**3'%p\n",
    "n=ND#\n",
    "sigma=q*n*mun#\n",
    "print 'sigma = %0.2f (ohm-cm**)-1'%sigma\n",
    "rho=1/sigma#\n",
    "print 'rho = %0.2f ohm-cm'%rho"
   ]
  },
  {
   "cell_type": "markdown",
   "metadata": {},
   "source": [
    "## Ex 3.15 Pg 68"
   ]
  },
  {
   "cell_type": "code",
   "execution_count": 15,
   "metadata": {
    "collapsed": false
   },
   "outputs": [
    {
     "name": "stdout",
     "output_type": "stream",
     "text": [
      "sigma = 4.45e-06 (ohm-cm)**-1\n",
      "rho = 224690.83 ohm-cm\n",
      "ND = 9.92e+14 /cm**3\n",
      "p = 2.33e+05 /cm**3\n",
      "sigma = 0.21 (ohm-cm)**-1\n",
      "rho = 4.67 ohm-cm\n"
     ]
    }
   ],
   "source": [
    "Nsi=4.96*10**22#\n",
    "ni=1.52*10**10#\n",
    "q=1.6*10**-19#\n",
    "mun=1350#\n",
    "mup=480#\n",
    "#resistivity of intrinsic silicon\n",
    "sigma=q*ni*(mun+mup)\n",
    "print 'sigma = %0.2e (ohm-cm)**-1'%sigma\n",
    "rho=1/sigma#\n",
    "print 'rho = %0.2f ohm-cm'%rho\n",
    "#resistivity of doped silicon\n",
    "ND=Nsi/(50*10**6)#\n",
    "print 'ND = %0.2e /cm**3'%ND\n",
    "n=ND#\n",
    "p=(ni**2)/n#\n",
    "print 'p = %0.2e /cm**3'%p\n",
    "sigma=q*n*mun#\n",
    "print 'sigma = %0.2f (ohm-cm)**-1'%sigma\n",
    "rho=1/sigma#\n",
    "print 'rho = %0.2f ohm-cm'%rho"
   ]
  },
  {
   "cell_type": "markdown",
   "metadata": {},
   "source": [
    "## Ex3.16 Pg 69"
   ]
  },
  {
   "cell_type": "code",
   "execution_count": 16,
   "metadata": {
    "collapsed": false
   },
   "outputs": [
    {
     "name": "stdout",
     "output_type": "stream",
     "text": [
      "sigma = 4.40e-04 ohm-m**-1\n",
      "sigma = 38.45 ohm-m**-1\n",
      "sigma34 = 7.48e-04 ohm-m**-1\n"
     ]
    }
   ],
   "source": [
    "mup=0.048#\n",
    "mun=0.135#\n",
    "q=1.602*10**-19#\n",
    "Nsi=5*10**28#\n",
    "ni=1.5*10**16#\n",
    "sigma=q*ni*(mun+mup)#\n",
    "print 'sigma = %0.2e ohm-m**-1'%sigma\n",
    "NA=Nsi/10**7#\n",
    "P=NA#\n",
    "n=ni**2/P#\n",
    "sigma=q*P*mup#\n",
    "print 'sigma = %0.2f ohm-m**-1'%sigma\n",
    "alpha=0.05#\n",
    "T=34-20#\n",
    "sigma20=0.44*10**-3#\n",
    "sigma34=sigma20*(1+alpha*T)#\n",
    "print 'sigma34 = %0.2e ohm-m**-1'%sigma34"
   ]
  },
  {
   "cell_type": "markdown",
   "metadata": {},
   "source": [
    "## Ex  3.17 Pg 71"
   ]
  },
  {
   "cell_type": "code",
   "execution_count": 17,
   "metadata": {
    "collapsed": false
   },
   "outputs": [
    {
     "name": "stdout",
     "output_type": "stream",
     "text": [
      "DP = 4.40e+01 m**2/s\n",
      "Dn = 9.31e+01 m**2/s\n"
     ]
    }
   ],
   "source": [
    "mun=3600#\n",
    "mup=1700#\n",
    "k=1.38*10**23#\n",
    "T=300#\n",
    "DP=mup*(T/11600)##answer given in the book is wrong\n",
    "print 'DP = %0.2e m**2/s'%DP\n",
    "Dn=mun*(T/11600)##answer given in the book is wrong\n",
    "print 'Dn = %0.2e m**2/s'%Dn"
   ]
  },
  {
   "cell_type": "markdown",
   "metadata": {},
   "source": [
    "## Ex  3.18 Pg 74"
   ]
  },
  {
   "cell_type": "code",
   "execution_count": 18,
   "metadata": {
    "collapsed": false
   },
   "outputs": [
    {
     "name": "stdout",
     "output_type": "stream",
     "text": [
      "mu = 1000.00 cm**2/volt-sec\n"
     ]
    }
   ],
   "source": [
    "RH=160#\n",
    "rho=0.16#\n",
    "mun=(1/rho)*RH#\n",
    "print 'mu = %0.2f cm**2/volt-sec'%mun"
   ]
  },
  {
   "cell_type": "markdown",
   "metadata": {},
   "source": [
    "## Ex 3.19 Pg 77"
   ]
  },
  {
   "cell_type": "code",
   "execution_count": 19,
   "metadata": {
    "collapsed": false
   },
   "outputs": [
    {
     "name": "stdout",
     "output_type": "stream",
     "text": [
      "n = 7.50e+21 /m**3\n"
     ]
    }
   ],
   "source": [
    "I=50#\n",
    "B=1.2#\n",
    "t=0.5*10**-3#\n",
    "Vh=100#\n",
    "q=1.6*10**-19#\n",
    "n=(B*I)/(Vh*q*t)#\n",
    "print 'n = %0.2e /m**3'%n"
   ]
  },
  {
   "cell_type": "markdown",
   "metadata": {},
   "source": [
    "## Ex3.20 Pg 77"
   ]
  },
  {
   "cell_type": "code",
   "execution_count": 20,
   "metadata": {
    "collapsed": false
   },
   "outputs": [
    {
     "name": "stdout",
     "output_type": "stream",
     "text": [
      "n = 3.12e+21 /m**3\n"
     ]
    }
   ],
   "source": [
    "rho=20*10**-2#\n",
    "mu=100*10**-4#\n",
    "q=1.6*10**-19#\n",
    "n=1/(rho*q*mu)#\n",
    "print 'n = %0.2e /m**3'%n"
   ]
  },
  {
   "cell_type": "markdown",
   "metadata": {},
   "source": [
    "## Ex3.21 Pg 77"
   ]
  },
  {
   "cell_type": "code",
   "execution_count": 21,
   "metadata": {
    "collapsed": false
   },
   "outputs": [
    {
     "name": "stdout",
     "output_type": "stream",
     "text": [
      "mu = 0.04 m**2/V-s\n",
      "n = 1.71e+22 /m**3\n"
     ]
    }
   ],
   "source": [
    "Rh=3.66*10**-4#\n",
    "rho=8.93*10**-3#\n",
    "mu=Rh/rho#\n",
    "print 'mu = %0.2f m**2/V-s'%mu\n",
    "q=1.6*10**-19#\n",
    "\n",
    "n=1/(q*Rh)#\n",
    "print 'n = %0.2e /m**3'%n"
   ]
  },
  {
   "cell_type": "markdown",
   "metadata": {},
   "source": [
    "## Ex3.22 Pg 77"
   ]
  },
  {
   "cell_type": "code",
   "execution_count": 22,
   "metadata": {
    "collapsed": false
   },
   "outputs": [
    {
     "name": "stdout",
     "output_type": "stream",
     "text": [
      "sigma = 111.11 S/m\n",
      "RH = 2.70e-05 m**3*C\n"
     ]
    }
   ],
   "source": [
    "rho=9*10**-3#\n",
    "mup=0.003#\n",
    "sigma=1/rho#\n",
    "print 'sigma = %0.2f S/m'%sigma\n",
    "RH= mup/sigma#\n",
    "print 'RH = %0.2e m**3*C'%RH"
   ]
  }
 ],
 "metadata": {
  "kernelspec": {
   "display_name": "Python 2",
   "language": "python",
   "name": "python2"
  },
  "language_info": {
   "codemirror_mode": {
    "name": "ipython",
    "version": 2
   },
   "file_extension": ".py",
   "mimetype": "text/x-python",
   "name": "python",
   "nbconvert_exporter": "python",
   "pygments_lexer": "ipython2",
   "version": "2.7.9"
  }
 },
 "nbformat": 4,
 "nbformat_minor": 0
}
