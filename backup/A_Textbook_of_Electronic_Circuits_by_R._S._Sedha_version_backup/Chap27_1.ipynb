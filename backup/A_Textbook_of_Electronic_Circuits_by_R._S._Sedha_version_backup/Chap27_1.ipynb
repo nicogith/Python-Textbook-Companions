{
 "cells": [
  {
   "cell_type": "markdown",
   "metadata": {},
   "source": [
    "# Chapter - 27 : FEEDBACK AMPLIFIERS"
   ]
  },
  {
   "cell_type": "markdown",
   "metadata": {},
   "source": [
    "## Ex 27.1 Pg 819"
   ]
  },
  {
   "cell_type": "code",
   "execution_count": 1,
   "metadata": {
    "collapsed": false
   },
   "outputs": [
    {
     "name": "stdout",
     "output_type": "stream",
     "text": [
      "Av1=9.76 \n"
     ]
    }
   ],
   "source": [
    "from __future__ import division\n",
    "\n",
    "AV=400#\n",
    "beta=0.1#\n",
    "AV1=AV/(1+beta*AV)#\n",
    "print \"Av1=%0.2f \"%(AV1)#"
   ]
  },
  {
   "cell_type": "markdown",
   "metadata": {},
   "source": [
    "## Ex 27.2 Pg 820"
   ]
  },
  {
   "cell_type": "code",
   "execution_count": 2,
   "metadata": {
    "collapsed": false
   },
   "outputs": [
    {
     "name": "stdout",
     "output_type": "stream",
     "text": [
      "beta=0.10\n"
     ]
    }
   ],
   "source": [
    "from __future__ import division\n",
    "\n",
    "AV=1000#\n",
    "AV1=10#\n",
    "beta=((AV/AV1)-1)/AV#\n",
    "print \"beta=%0.2f\"%beta"
   ]
  },
  {
   "cell_type": "markdown",
   "metadata": {},
   "source": [
    "## Ex 27.3 Pg 820"
   ]
  },
  {
   "cell_type": "code",
   "execution_count": 3,
   "metadata": {
    "collapsed": false
   },
   "outputs": [
    {
     "name": "stdout",
     "output_type": "stream",
     "text": [
      "beta=0.04\n"
     ]
    }
   ],
   "source": [
    "from __future__ import division\n",
    "\n",
    "AV=100#\n",
    "AV1=20#\n",
    "beta=((AV/AV1)-1)/AV#\n",
    "print \"beta=%0.2f\"%beta"
   ]
  },
  {
   "cell_type": "markdown",
   "metadata": {},
   "source": [
    "## Ex 27.4 Pg 820"
   ]
  },
  {
   "cell_type": "code",
   "execution_count": 4,
   "metadata": {
    "collapsed": false
   },
   "outputs": [
    {
     "name": "stdout",
     "output_type": "stream",
     "text": [
      "Av=50.00\n",
      "beta=0.10\n"
     ]
    }
   ],
   "source": [
    "from __future__ import division\n",
    "\n",
    "Vo=12.5#\n",
    "Vin1=1.5#\n",
    "Vin=0.25#\n",
    "AV=Vo/Vin#\n",
    "print \"Av=%0.2f\"%(AV)#\n",
    "AV1=Vo/Vin1#\n",
    "beta=((AV/AV1)-1)/AV#\n",
    "print \"beta=%0.2f\"%beta"
   ]
  },
  {
   "cell_type": "markdown",
   "metadata": {},
   "source": [
    "## Ex 27.5 Pg 821"
   ]
  },
  {
   "cell_type": "code",
   "execution_count": 9,
   "metadata": {
    "collapsed": false
   },
   "outputs": [
    {
     "name": "stdout",
     "output_type": "stream",
     "text": [
      "beta=4.17e-03\n",
      "beta=0.02\n"
     ]
    }
   ],
   "source": [
    "from __future__ import division\n",
    "\n",
    "AV=60#\n",
    "AV1=80#\n",
    "#80=AV/(1-BETA*AV)\n",
    "beta=((AV1/AV)-1)/AV1#\n",
    "print \"beta=%0.2e\"%beta\n",
    "beta=1/AV#\n",
    "print \"beta=%0.2f\"%beta"
   ]
  },
  {
   "cell_type": "markdown",
   "metadata": {},
   "source": [
    "## Ex 27.6 Pg 821"
   ]
  },
  {
   "cell_type": "code",
   "execution_count": 8,
   "metadata": {
    "collapsed": false
   },
   "outputs": [
    {
     "name": "stdout",
     "output_type": "stream",
     "text": [
      "Av=1200.00\n",
      "beta=9.17e-03\n"
     ]
    }
   ],
   "source": [
    "from __future__ import division\n",
    "\n",
    "AV1=100#\n",
    "Vin=50*10**-3#\n",
    "Vin1=0.6#\n",
    "Vo=AV1*Vin1#\n",
    "Av=Vo/Vin#\n",
    "print \"Av=%0.2f\"%(Av)\n",
    "beta=((Av/AV1)-1)/Av#\n",
    "print 'beta=%0.2e'%(beta)"
   ]
  },
  {
   "cell_type": "markdown",
   "metadata": {},
   "source": [
    "## Ex 27.7 Pg 821"
   ]
  },
  {
   "cell_type": "code",
   "execution_count": 10,
   "metadata": {
    "collapsed": false
   },
   "outputs": [
    {
     "name": "stdout",
     "output_type": "stream",
     "text": [
      "a=0.49 %\n"
     ]
    }
   ],
   "source": [
    "from __future__ import division\n",
    "\n",
    "Av=800#\n",
    "B=0.05#\n",
    "dAvbyAv=20#\n",
    "a=dAvbyAv*(1/(1+B*Av))#\n",
    "print 'a=%0.2f %%'%a"
   ]
  },
  {
   "cell_type": "markdown",
   "metadata": {},
   "source": [
    "## Ex 27.8 Pg 821"
   ]
  },
  {
   "cell_type": "code",
   "execution_count": 13,
   "metadata": {
    "collapsed": false
   },
   "outputs": [
    {
     "name": "stdout",
     "output_type": "stream",
     "text": [
      "beta=0.010\n"
     ]
    }
   ],
   "source": [
    "from __future__ import division\n",
    "\n",
    "AV1=100#\n",
    "A=0.01#\n",
    "B=0.2#\n",
    "C=B/A#\n",
    "AV=AV1*C#\n",
    "beta=C/AV#\n",
    "print \"beta=%0.3f\"%beta"
   ]
  },
  {
   "cell_type": "markdown",
   "metadata": {},
   "source": [
    "## Ex 27.9 Pg 822"
   ]
  },
  {
   "cell_type": "code",
   "execution_count": 14,
   "metadata": {
    "collapsed": false
   },
   "outputs": [
    {
     "name": "stdout",
     "output_type": "stream",
     "text": [
      "BW1=1200.00 kHZ\n",
      "AV1=16.67 \n",
      "beta1=0.04\n"
     ]
    }
   ],
   "source": [
    "from __future__ import division\n",
    "\n",
    "AV=100#\n",
    "BW=200*10**3#\n",
    "beta=0.05#\n",
    "BW1=(1+beta*AV)*BW#\n",
    "print 'BW1=%0.2f kHZ'%(BW1*10**-3)\n",
    "AV1=AV/(1+beta*AV)#\n",
    "print \"AV1=%0.2f \"%(AV1)#\n",
    "#1*10**6=(1+beta1*AV)*BW#\n",
    "beta1=(((1*10**6)/(200*10**3))-1)/100#\n",
    "print \"beta1=%0.2f\"%beta1"
   ]
  },
  {
   "cell_type": "markdown",
   "metadata": {},
   "source": [
    "## Ex 27.10 Pg 822"
   ]
  },
  {
   "cell_type": "code",
   "execution_count": 15,
   "metadata": {
    "collapsed": false
   },
   "outputs": [
    {
     "name": "stdout",
     "output_type": "stream",
     "text": [
      "beta=0.01\n",
      "BW1=40.00 MHZ\n"
     ]
    }
   ],
   "source": [
    "from __future__ import division\n",
    "\n",
    "AV=1500#\n",
    "BW=4*10**6#\n",
    "AV1=150#\n",
    "beta=((1500/150)-1)/1500#\n",
    "print \"beta=%0.2f\"%beta\n",
    "BW1=(1+beta*AV)*BW#\n",
    "print 'BW1=%0.2f MHZ'%(BW1*10**-6)"
   ]
  },
  {
   "cell_type": "markdown",
   "metadata": {},
   "source": [
    "## Ex 27.11 Pg 822"
   ]
  },
  {
   "cell_type": "code",
   "execution_count": 16,
   "metadata": {
    "collapsed": false
   },
   "outputs": [
    {
     "name": "stdout",
     "output_type": "stream",
     "text": [
      "Ri=13.44 kohm\n",
      "FC1=468.75 HZ \n",
      "FC2=1604800.00 HZ \n"
     ]
    }
   ],
   "source": [
    "from __future__ import division\n",
    "\n",
    "Rin=4.2*10**3#\n",
    "AV=220#\n",
    "beta=0.01#\n",
    "Ri=(1+beta*AV)*Rin#\n",
    "print 'Ri=%0.2f kohm'%(Ri*10**-3)\n",
    "F1=1.5*10**3#\n",
    "FC1=F1/(1+beta*AV)#\n",
    "print 'FC1=%0.2f HZ '%FC1\n",
    "F2=501.5*10**3#\n",
    "FC2=(1+beta*AV)*F2#\n",
    "print 'FC2=%0.2f HZ '%FC2"
   ]
  },
  {
   "cell_type": "markdown",
   "metadata": {},
   "source": [
    "## Ex 27.12 Pg 822"
   ]
  },
  {
   "cell_type": "code",
   "execution_count": 17,
   "metadata": {
    "collapsed": false
   },
   "outputs": [
    {
     "name": "stdout",
     "output_type": "stream",
     "text": [
      "Av1=90.91\n",
      "fl1=4.55 HZ\n",
      "fu2=2.20 MHZ\n",
      "D1=0.45 %\n"
     ]
    }
   ],
   "source": [
    "from __future__ import division\n",
    "\n",
    "AV=1000#\n",
    "f1=50#\n",
    "f2=200*10**3#\n",
    "D=0.05#\n",
    "beta=0.01#\n",
    "AV1=AV/(1+beta*AV)#\n",
    "print \"Av1=%0.2f\"%AV1\n",
    "fl1=f1/(1+beta*AV)#\n",
    "print 'fl1=%0.2f HZ'%(fl1)\n",
    "fu2=(1+beta*AV)*f2#\n",
    "print 'fu2=%0.2f MHZ'%(fu2*10**-6)\n",
    "D1=D/(1+beta*AV)#\n",
    "print 'D1=%0.2f %%'%(D1*100)"
   ]
  },
  {
   "cell_type": "markdown",
   "metadata": {},
   "source": [
    "## Ex 27.13 Pg 823"
   ]
  },
  {
   "cell_type": "code",
   "execution_count": 18,
   "metadata": {
    "collapsed": false
   },
   "outputs": [
    {
     "name": "stdout",
     "output_type": "stream",
     "text": [
      "beta=0.04 \n",
      "AV1=20.00 \n"
     ]
    }
   ],
   "source": [
    "from __future__ import division\n",
    "\n",
    "AV=100#\n",
    "RDN=0.8#\n",
    "#0.8=1-(1/(1+beta*AV))#\n",
    "beta=((1/0.2)-1)/100#\n",
    "print \"beta=%0.2f \"%beta\n",
    "AV1=AV/(1+beta*AV)#\n",
    "print \"AV1=%0.2f \"%AV1"
   ]
  },
  {
   "cell_type": "markdown",
   "metadata": {},
   "source": [
    "## Ex 27.14 Pg 823"
   ]
  },
  {
   "cell_type": "code",
   "execution_count": 20,
   "metadata": {
    "collapsed": false
   },
   "outputs": [
    {
     "name": "stdout",
     "output_type": "stream",
     "text": [
      "AV1=14.29 \n",
      "Ri1=31.50 kohm\n",
      "Ri1=2.38 kohm\n"
     ]
    }
   ],
   "source": [
    "from __future__ import division\n",
    "\n",
    "AV=300#\n",
    "Ri=1.5*10**3#\n",
    "R0=50*10**3#\n",
    "b=1/15#\n",
    "AV1=AV/(1+b*AV)#\n",
    "print \"AV1=%0.2f \"%AV1\n",
    "Ri1=(1+b*AV)*Ri##input resistance\n",
    "print 'Ri1=%0.2f kohm'%(Ri1*10**-3)\n",
    "Ri1=R0/(1+b*AV)##output resistance\n",
    "print 'Ri1=%0.2f kohm'%(Ri1*10**-3)"
   ]
  },
  {
   "cell_type": "markdown",
   "metadata": {},
   "source": [
    "## Ex 27.15 Pg 823"
   ]
  },
  {
   "cell_type": "code",
   "execution_count": 21,
   "metadata": {
    "collapsed": false
   },
   "outputs": [
    {
     "name": "stdout",
     "output_type": "stream",
     "text": [
      "AV=23.50\n",
      "Ri=1341.85 ohm\n",
      "AV1=3.92\n",
      "Ri1=8051.12 ohm\n"
     ]
    }
   ],
   "source": [
    "from __future__ import division\n",
    "\n",
    "hfe=100#\n",
    "hie=2*10**3#\n",
    "Rc=470#\n",
    "Re1=100#\n",
    "Re2=100#\n",
    "R1=15000#\n",
    "R2=5600#\n",
    "AV=(hfe*Rc)/hie#\n",
    "print \"AV=%0.2f\"%(AV)\n",
    "a=((R1*R2)/(R1+R2))#\n",
    "Ri=(a*hie)/(a+hie)#\n",
    "print 'Ri=%0.2f ohm'%Ri\n",
    "b=Re1/Rc#\n",
    "AV1=AV/(1+b*AV)#\n",
    "print \"AV1=%0.2f\"%(AV1)\n",
    "Ri1=Ri*(1+b*AV)#\n",
    "print 'Ri1=%0.2f ohm'%Ri1"
   ]
  },
  {
   "cell_type": "markdown",
   "metadata": {},
   "source": [
    "## Ex 27.16 Pg 823"
   ]
  },
  {
   "cell_type": "code",
   "execution_count": 22,
   "metadata": {
    "collapsed": false
   },
   "outputs": [
    {
     "name": "stdout",
     "output_type": "stream",
     "text": [
      "R01=1.68 kohm\n",
      "R02=2.95 kohm\n",
      "Ri1=308.99 kohm\n",
      "RO2=19.07 ohm\n",
      "AV1=78.49\n"
     ]
    }
   ],
   "source": [
    "from __future__ import division\n",
    "\n",
    "hfe=99#\n",
    "hie=2*10**3#\n",
    "hie1=2000#\n",
    "hie2=2000#\n",
    "Rc=22*10**3#\n",
    "R4=100#\n",
    "R1=220*10**3#\n",
    "R2=22*10**3#\n",
    "RC1=4.7*10**3#\n",
    "R3=7.8*10**3#\n",
    "Ri=hie#\n",
    "a=(R1*R2)/(R1+R2)#\n",
    "b=(a*Rc)/(a+Rc)#\n",
    "R01=(b*hie1)/(b+hie1)\n",
    "print 'R01=%0.2f kohm'%(R01*10**-3)\n",
    "Ri2=hie#\n",
    "C=(R3+R4)#\n",
    "R02=(RC1*C)/(RC1+C)\n",
    "print 'R02=%0.2f kohm'%(R02*10**-3)\n",
    "AV1=hfe*R01/hie#\n",
    "AV2=hfe*R02/hie#\n",
    "AV=AV1*AV2#\n",
    "bta=R4/(R3+R4)#\n",
    "Ri1=Ri*(1+bta*AV)#\n",
    "print 'Ri1=%0.2f kohm'%(Ri1*10**-3)\n",
    "RO2=R02/(1+bta*AV)#\n",
    "print 'RO2=%0.2f ohm'%RO2\n",
    "AV1=AV/(1+bta*AV)#\n",
    "print \"AV1=%0.2f\"%AV1"
   ]
  }
 ],
 "metadata": {
  "kernelspec": {
   "display_name": "Python 2",
   "language": "python",
   "name": "python2"
  },
  "language_info": {
   "codemirror_mode": {
    "name": "ipython",
    "version": 2
   },
   "file_extension": ".py",
   "mimetype": "text/x-python",
   "name": "python",
   "nbconvert_exporter": "python",
   "pygments_lexer": "ipython2",
   "version": "2.7.9"
  }
 },
 "nbformat": 4,
 "nbformat_minor": 0
}
