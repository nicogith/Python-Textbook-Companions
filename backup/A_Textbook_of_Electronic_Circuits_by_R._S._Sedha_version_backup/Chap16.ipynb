{
 "cells": [
  {
   "cell_type": "markdown",
   "metadata": {},
   "source": [
    "# Chapter - 16 : PN JUNCTION DIODE APPLICATIONS RECTIFIERS AND FILTERS"
   ]
  },
  {
   "cell_type": "markdown",
   "metadata": {},
   "source": [
    "## Ex 16.1 Pg 329"
   ]
  },
  {
   "cell_type": "code",
   "execution_count": 3,
   "metadata": {
    "collapsed": false
   },
   "outputs": [
    {
     "name": "stdout",
     "output_type": "stream",
     "text": [
      "V2 = 23.0 V\n",
      "Vm=32.53 V\n",
      "Vdc=10.34 V\n",
      "PIV=32.53 V\n"
     ]
    }
   ],
   "source": [
    "from __future__ import division\n",
    "from math import sqrt\n",
    "V1=230#\n",
    "#a=(N2/N1)\n",
    "b=(1/10)#\n",
    "V2=V1*b#\n",
    "print \"V2 =\",V2,\"V\"\n",
    "Vm=sqrt(2)*V2#\n",
    "print \"Vm=%0.2f\"%Vm,\"V\"\n",
    "Vdc=0.318*Vm#\n",
    "print 'Vdc=%0.2f'%Vdc,\"V\"\n",
    "PIV=Vm#\n",
    "print 'PIV=%0.2f'%PIV,\"V\""
   ]
  },
  {
   "cell_type": "markdown",
   "metadata": {},
   "source": [
    "## Ex 16.2 Pg 329"
   ]
  },
  {
   "cell_type": "code",
   "execution_count": 5,
   "metadata": {
    "collapsed": false
   },
   "outputs": [
    {
     "name": "stdout",
     "output_type": "stream",
     "text": [
      "Vm=33.94 V\n",
      "Im=1.70 mA\n",
      "Idc=0.54 mA\n"
     ]
    }
   ],
   "source": [
    "from __future__ import division\n",
    "from math import sqrt\n",
    "RL=20*10**3#\n",
    "V2=24#\n",
    "Vm=sqrt(2)*V2#\n",
    "print 'Vm=%0.2f'%Vm,\"V\"\n",
    "Im=Vm/RL#\n",
    "print 'Im=%0.2f'%(Im*10**3),\"mA\"\n",
    "Idc= 0.318*Im#\n",
    "print 'Idc=%0.2f'%(Idc*10**3),\"mA\""
   ]
  },
  {
   "cell_type": "markdown",
   "metadata": {},
   "source": [
    "## Ex 16.3 Pg 330"
   ]
  },
  {
   "cell_type": "code",
   "execution_count": 6,
   "metadata": {
    "collapsed": false
   },
   "outputs": [
    {
     "name": "stdout",
     "output_type": "stream",
     "text": [
      "V2=115.00 V\n",
      "Vm=162.63 V\n",
      "Im=0.81 A\n",
      "Pm=132.25 W\n",
      "Vdc=51.72 V\n",
      "Idc=0.26 A\n",
      "Pdc=13.37 W\n"
     ]
    }
   ],
   "source": [
    "from __future__ import division\n",
    "from math import sqrt\n",
    "V1=230#\n",
    "#a=(N2/N1)\n",
    "b=(1/2)#\n",
    "RL=200#\n",
    "V2=V1*b#\n",
    "print 'V2=%0.2f'%V2,\"V\"\n",
    "Vm=sqrt(2)*V2#\n",
    "print 'Vm=%0.2f'%Vm,\"V\"\n",
    "Im=Vm/RL#\n",
    "print 'Im=%0.2f'%Im,\"A\"\n",
    "Pm=(Im**2)*RL#\n",
    "print 'Pm=%0.2f'%Pm,\"W\"\n",
    "Vdc=0.318*Vm#\n",
    "print 'Vdc=%0.2f'%Vdc,\"V\"\n",
    "Idc=(Vdc/RL)#\n",
    "print 'Idc=%0.2f'%Idc,\"A\"\n",
    "Pdc=(Idc**2)*RL#\n",
    "print 'Pdc=%0.2f'%Pdc,\"W\""
   ]
  },
  {
   "cell_type": "markdown",
   "metadata": {},
   "source": [
    "## Ex 16.4 Pg 331"
   ]
  },
  {
   "cell_type": "code",
   "execution_count": 7,
   "metadata": {
    "collapsed": false
   },
   "outputs": [
    {
     "name": "stdout",
     "output_type": "stream",
     "text": [
      "Idc=0.05 A\n",
      "Im=0.16 A\n",
      "Vin=98.17 V\n"
     ]
    }
   ],
   "source": [
    "from __future__ import division\n",
    "from math import pi\n",
    "Vdc=30#\n",
    "RL=600#\n",
    "Rf=25#\n",
    "Idc=(Vdc/RL)#\n",
    "print 'Idc=%0.2f'%Idc,\"A\"\n",
    "Im=pi*Idc#\n",
    "print 'Im=%0.2f'%Im,\"A\"\n",
    "Vin=Im*(Rf+RL)#\n",
    "print 'Vin=%0.2f'%Vin,\"V\""
   ]
  },
  {
   "cell_type": "markdown",
   "metadata": {},
   "source": [
    "## Ex 16.5 Pg 332"
   ]
  },
  {
   "cell_type": "code",
   "execution_count": 11,
   "metadata": {
    "collapsed": false
   },
   "outputs": [
    {
     "name": "stdout",
     "output_type": "stream",
     "text": [
      "Vdc=13.49 V\n",
      "vdc=2.65 mV\n"
     ]
    }
   ],
   "source": [
    "from __future__ import division\n",
    "from math import sqrt\n",
    "V2=30#\n",
    "RL=5.1*10**3#\n",
    "VS=V2/2#\n",
    "Vm=sqrt(2)*VS#\n",
    "Vdc=0.636*Vm#\n",
    "print 'Vdc=%0.2f'%Vdc,\"V\"\n",
    "vdc=Vdc/RL#\n",
    "print 'vdc=%0.2f'%(vdc*1e3),\"mV\""
   ]
  },
  {
   "cell_type": "markdown",
   "metadata": {},
   "source": [
    "## Ex 16.6 Pg 333"
   ]
  },
  {
   "cell_type": "code",
   "execution_count": 12,
   "metadata": {
    "collapsed": false
   },
   "outputs": [
    {
     "name": "stdout",
     "output_type": "stream",
     "text": [
      "Vdc=51.72 V\n",
      "PIV=81.32 V\n",
      "fout=100.00 Hz\n"
     ]
    }
   ],
   "source": [
    "from __future__ import division\n",
    "from math import sqrt\n",
    "V1=230#\n",
    "fin=50#\n",
    "#let a=N1/N2\n",
    "a=1/4#\n",
    "V2=V1*a#\n",
    "Vm=sqrt(2)*V2#\n",
    "Vdc=0.636*Vm#\n",
    "print 'Vdc=%0.2f'%Vdc,\"V\"\n",
    "PIV=Vm#\n",
    "print 'PIV=%0.2f'%PIV,\"V\"\n",
    "fout=2*fin#\n",
    "print 'fout=%0.2f'%fout,\"Hz\""
   ]
  },
  {
   "cell_type": "markdown",
   "metadata": {},
   "source": [
    "## Ex 16.7 Pg 334"
   ]
  },
  {
   "cell_type": "code",
   "execution_count": 14,
   "metadata": {
    "collapsed": false
   },
   "outputs": [
    {
     "name": "stdout",
     "output_type": "stream",
     "text": [
      "Vdc=20.71 V\n",
      "PIV=65.05 V\n"
     ]
    }
   ],
   "source": [
    "from __future__ import division\n",
    "from math import pi,sqrt\n",
    "V1=230#\n",
    "#LET a=N2/N1\n",
    "a=1/5#\n",
    "RL=100#\n",
    "V2=V1*a#\n",
    "Vs=V2/2#\n",
    "Vm=sqrt(2)*Vs#\n",
    "Vdc=2*Vm/pi#\n",
    "print 'Vdc=%0.2f'%Vdc,\"V\"\n",
    "PIV=2*Vm#\n",
    "print 'PIV=%0.2f'%PIV,\"V\""
   ]
  },
  {
   "cell_type": "markdown",
   "metadata": {},
   "source": [
    "## Ex 16.8 Pg 335"
   ]
  },
  {
   "cell_type": "code",
   "execution_count": 15,
   "metadata": {
    "collapsed": false
   },
   "outputs": [
    {
     "name": "stdout",
     "output_type": "stream",
     "text": [
      "Imax=560.00 mA\n",
      "RL=505.08 ohm\n",
      "Vdc=180.06 V\n",
      "Idc=0.36 A\n",
      "PIV=565.69 V\n"
     ]
    }
   ],
   "source": [
    "from __future__ import division\n",
    "\n",
    "Vs=200#\n",
    "Imax=700*10**-3#\n",
    "Iavg=250*10**-3#\n",
    "Imax=0.8*Imax#\n",
    "print 'Imax=%0.2f'%(Imax*10**3),\"mA\"\n",
    "Vm=sqrt(2)*Vs#\n",
    "RL=Vm/Imax#\n",
    "print 'RL=%0.2f'%RL,\"ohm\"\n",
    "Vdc=2*Vm/pi#\n",
    "print 'Vdc=%0.2f'%Vdc,\"V\"\n",
    "Idc=Vdc/RL#\n",
    "print 'Idc=%0.2f'%Idc,\"A\"\n",
    "PIV=2*Vm#\n",
    "print 'PIV=%0.2f'%PIV,\"V\""
   ]
  },
  {
   "cell_type": "markdown",
   "metadata": {},
   "source": [
    "## Ex 16.9 Pg 336"
   ]
  },
  {
   "cell_type": "code",
   "execution_count": 17,
   "metadata": {
    "collapsed": false
   },
   "outputs": [
    {
     "name": "stdout",
     "output_type": "stream",
     "text": [
      "L=1.50 H\n",
      "L=0.19 H\n"
     ]
    }
   ],
   "source": [
    "from __future__ import division\n",
    "from math import sqrt,pi\n",
    "f=50#\n",
    "y=0.05#\n",
    "RL=100#\n",
    "L=RL/(y*3*sqrt(2)*2*pi*f)#\n",
    "print \"L=%0.2f\"%L,\"H\"\n",
    "f=400#\n",
    "y=0.05#\n",
    "L=RL/(y*3*sqrt(2)*2*pi*f)#\n",
    "print \"L=%0.2f\"%L,\"H\""
   ]
  },
  {
   "cell_type": "markdown",
   "metadata": {},
   "source": [
    "## Ex 16.10 Pg 337"
   ]
  },
  {
   "cell_type": "code",
   "execution_count": 18,
   "metadata": {
    "collapsed": false
   },
   "outputs": [
    {
     "name": "stdout",
     "output_type": "stream",
     "text": [
      "C=289.00 microF\n"
     ]
    }
   ],
   "source": [
    "from __future__ import division\n",
    "\n",
    "Vdc=30#\n",
    "RL=1*10**3#\n",
    "y=0.01#\n",
    "C=2890/(y*RL)#\n",
    "print \"C=%0.2f\"%C,'microF'"
   ]
  },
  {
   "cell_type": "markdown",
   "metadata": {},
   "source": [
    "## Ex 16.11 Pg 338"
   ]
  },
  {
   "cell_type": "code",
   "execution_count": 19,
   "metadata": {
    "collapsed": false
   },
   "outputs": [
    {
     "name": "stdout",
     "output_type": "stream",
     "text": [
      "C=119.50 microF\n"
     ]
    }
   ],
   "source": [
    "from __future__ import division\n",
    "\n",
    "Vdc=12#\n",
    "Idc=100*10**-3#\n",
    "y=0.01#\n",
    "L=1#\n",
    "C=1.195/(L*y)#\n",
    "print \"C=%0.2f\"%C,'microF'"
   ]
  },
  {
   "cell_type": "markdown",
   "metadata": {},
   "source": [
    "## Ex 16.12 Pg 339"
   ]
  },
  {
   "cell_type": "code",
   "execution_count": 20,
   "metadata": {
    "collapsed": false
   },
   "outputs": [
    {
     "name": "stdout",
     "output_type": "stream",
     "text": [
      "y= 0.076 %\n"
     ]
    }
   ],
   "source": [
    "from __future__ import division\n",
    "\n",
    "Idc=0.2#\n",
    "Vdc=30#\n",
    "C1=100#\n",
    "C2=100#\n",
    "L=5#\n",
    "f=50#\n",
    "RL=Vdc/Idc#\n",
    "y=5700/(L*C1*C2*RL)#\n",
    "print 'y=',y*100,\"%\""
   ]
  },
  {
   "cell_type": "markdown",
   "metadata": {},
   "source": [
    "## Ex 16.13 Pg 340"
   ]
  },
  {
   "cell_type": "code",
   "execution_count": 21,
   "metadata": {
    "collapsed": false
   },
   "outputs": [
    {
     "name": "stdout",
     "output_type": "stream",
     "text": [
      "Vdc=351.00 V\n",
      "I=2.09 A\n",
      "Iavg=0.67 A\n",
      "Pdc=702.00 W\n"
     ]
    }
   ],
   "source": [
    "from __future__ import division\n",
    "\n",
    "Vs=150#\n",
    "Idc=2#\n",
    "Vdc=2.34*Vs#\n",
    "print 'Vdc=%0.2f'%Vdc,\"V\"\n",
    "I=Idc/0.955#\n",
    "print 'I=%0.2f'%I,\"A\"\n",
    "Iavg=2/3#\n",
    "print 'Iavg=%0.2f'%Iavg,\"A\"\n",
    "Pdc=Vdc*Idc#\n",
    "print 'Pdc=%0.2f'%Pdc,\"W\""
   ]
  }
 ],
 "metadata": {
  "kernelspec": {
   "display_name": "Python 2",
   "language": "python",
   "name": "python2"
  },
  "language_info": {
   "codemirror_mode": {
    "name": "ipython",
    "version": 2
   },
   "file_extension": ".py",
   "mimetype": "text/x-python",
   "name": "python",
   "nbconvert_exporter": "python",
   "pygments_lexer": "ipython2",
   "version": "2.7.9"
  }
 },
 "nbformat": 4,
 "nbformat_minor": 0
}
