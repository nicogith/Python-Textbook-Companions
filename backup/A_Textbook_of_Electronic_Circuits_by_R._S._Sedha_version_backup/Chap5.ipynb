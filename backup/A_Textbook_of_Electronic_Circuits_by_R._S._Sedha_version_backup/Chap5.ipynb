{
 "cells": [
  {
   "cell_type": "markdown",
   "metadata": {},
   "source": [
    "# Chapter - 5 : PN JUNCTION DIODE"
   ]
  },
  {
   "cell_type": "markdown",
   "metadata": {},
   "source": [
    "## Ex 5.1 Pg 102"
   ]
  },
  {
   "cell_type": "code",
   "execution_count": 2,
   "metadata": {
    "collapsed": false
   },
   "outputs": [
    {
     "name": "stdout",
     "output_type": "stream",
     "text": [
      "I = 10.72 uA\n"
     ]
    }
   ],
   "source": [
    "from math import exp    \n",
    "I0=2*10**-7\n",
    "Vf=0.1\n",
    "I=I0*(exp (40*Vf)-1)\n",
    "print \"I = %0.2f\"%(I*10**6),'uA'"
   ]
  },
  {
   "cell_type": "markdown",
   "metadata": {},
   "source": [
    "## Ex 5.2 Pg 102"
   ]
  },
  {
   "cell_type": "code",
   "execution_count": 7,
   "metadata": {
    "collapsed": false
   },
   "outputs": [
    {
     "name": "stdout",
     "output_type": "stream",
     "text": [
      "VT=25.69 mV\n",
      "I=5.24 A\n"
     ]
    }
   ],
   "source": [
    "from __future__ import division\n",
    "from math import exp\n",
    "I0=1*10**-3\n",
    "Vf=0.22\n",
    "T=298\n",
    "n=1\n",
    "VT=T/11600\n",
    "print \"VT=%0.2f\"%(VT*10**3),'mV'\n",
    "I=I0*(exp (Vf/(n*VT))-1)\n",
    "print \"I=%0.2f\"%I,\"A\""
   ]
  },
  {
   "cell_type": "markdown",
   "metadata": {},
   "source": [
    "## Ex 5.3 Pg 103"
   ]
  },
  {
   "cell_type": "code",
   "execution_count": 4,
   "metadata": {
    "collapsed": false
   },
   "outputs": [
    {
     "name": "stdout",
     "output_type": "stream",
     "text": [
      "value of n = 1.17605641518\n"
     ]
    }
   ],
   "source": [
    "from math import log\n",
    "from __future__ import division\n",
    "I1=0.5*10**-3\n",
    "V1=340*10**-3\n",
    "I2=15*10**-3\n",
    "V2=440*10**-3\n",
    "kTbyq=25*10**-3\n",
    "a=V1/kTbyq\n",
    "b=V2/kTbyq\n",
    "#log(I1/I2)==log(exp((b-a)/n))\n",
    "n=(a-b)/(log(I1/I2))\n",
    "print \"value of n =\",n"
   ]
  },
  {
   "cell_type": "markdown",
   "metadata": {},
   "source": [
    "## Ex 5.4 Pg 103"
   ]
  },
  {
   "cell_type": "code",
   "execution_count": 5,
   "metadata": {
    "collapsed": false
   },
   "outputs": [
    {
     "name": "stdout",
     "output_type": "stream",
     "text": [
      "I400=10.24 mA\n"
     ]
    }
   ],
   "source": [
    "from __future__ import division\n",
    "I300=10*10**-6\n",
    "T1=300\n",
    "T2=400\n",
    "I400=I300*(2**((T2-T1)/10))\n",
    "print \"I400=%0.2f\"%(I400*10**3),'mA'"
   ]
  },
  {
   "cell_type": "markdown",
   "metadata": {},
   "source": [
    "## Ex 5.5 Pg 103"
   ]
  },
  {
   "cell_type": "code",
   "execution_count": 6,
   "metadata": {
    "collapsed": false
   },
   "outputs": [
    {
     "name": "stdout",
     "output_type": "stream",
     "text": [
      "VF=0.72 V\n"
     ]
    }
   ],
   "source": [
    "rB=2.0\n",
    "IF=12*10**-3\n",
    "VF=0.7+IF*rB\n",
    "print \"VF=%0.2f\"%VF,'V'"
   ]
  },
  {
   "cell_type": "markdown",
   "metadata": {},
   "source": [
    "## Ex 5.8 Pg 104"
   ]
  },
  {
   "cell_type": "code",
   "execution_count": 7,
   "metadata": {
    "collapsed": false
   },
   "outputs": [
    {
     "name": "stdout",
     "output_type": "stream",
     "text": [
      "IF=0.50 A\n",
      "IR=3.33 mA\n"
     ]
    }
   ],
   "source": [
    "PD=0.5\n",
    "VF=1\n",
    "VBR=150\n",
    "IF=(PD/VF)\n",
    "print \"IF=%0.2f\"%IF,\"A\"\n",
    "IR=(PD/VBR)\n",
    "print \"IR=%0.2f\"%(IR*10**3),'mA'"
   ]
  },
  {
   "cell_type": "markdown",
   "metadata": {},
   "source": [
    "## Ex 5.9 Pg 104"
   ]
  },
  {
   "cell_type": "code",
   "execution_count": 8,
   "metadata": {
    "collapsed": false
   },
   "outputs": [
    {
     "name": "stdout",
     "output_type": "stream",
     "text": [
      "VD=VS=5.00 V\n",
      "VR= 0\n",
      "I= 0\n"
     ]
    }
   ],
   "source": [
    "from __future__ import division\n",
    "R=330\n",
    "VS=5\n",
    "VD=VS\n",
    "print \"VD=VS=%0.2f\"% VD,'V'\n",
    "VR=0\n",
    "print \"VR=\",VR\n",
    "I=0\n",
    "print \"I=\",I"
   ]
  },
  {
   "cell_type": "markdown",
   "metadata": {},
   "source": [
    "## Ex 5.10 Pg 105"
   ]
  },
  {
   "cell_type": "code",
   "execution_count": 10,
   "metadata": {
    "collapsed": false
   },
   "outputs": [
    {
     "name": "stdout",
     "output_type": "stream",
     "text": [
      "VD= 0\n",
      "VR= 12 V\n",
      "I=25.53 mA\n"
     ]
    }
   ],
   "source": [
    "VS=12\n",
    "R=470\n",
    "VD=0\n",
    "print \"VD=\",VD\n",
    "VR=VS\n",
    "print \"VR=\",VR,\"V\"\n",
    "I=(VS/R)\n",
    "print \"I=%0.2f\"%(I*10**3),\"mA\""
   ]
  },
  {
   "cell_type": "markdown",
   "metadata": {},
   "source": [
    "## Ex 5.11 Pg 105"
   ]
  },
  {
   "cell_type": "code",
   "execution_count": 11,
   "metadata": {
    "collapsed": false
   },
   "outputs": [
    {
     "name": "stdout",
     "output_type": "stream",
     "text": [
      "I=6.62 mA\n"
     ]
    }
   ],
   "source": [
    "VS=6\n",
    "R1=330\n",
    "R2=470\n",
    "VD=0.7\n",
    "RT=R1+R2\n",
    "I=(VS-0.7)/RT\n",
    "print \"I=%0.2f\"%(I*10**3),'mA'"
   ]
  },
  {
   "cell_type": "markdown",
   "metadata": {},
   "source": [
    "## Ex 5.12 Pg 105"
   ]
  },
  {
   "cell_type": "code",
   "execution_count": 12,
   "metadata": {
    "collapsed": false
   },
   "outputs": [
    {
     "name": "stdout",
     "output_type": "stream",
     "text": [
      "VR=4.30 V\n",
      "I=8.43 mA\n"
     ]
    }
   ],
   "source": [
    "VS=5\n",
    "R=510\n",
    "VF=0.7\n",
    "VR=VS-0.7\n",
    "print \"VR=%0.2f\"%VR,\"V\"\n",
    "I=VR/R\n",
    "print \"I=%0.2f\"%(I*10**3),\"mA\""
   ]
  },
  {
   "cell_type": "markdown",
   "metadata": {},
   "source": [
    "## Ex 5.13 Pg 105"
   ]
  },
  {
   "cell_type": "code",
   "execution_count": 14,
   "metadata": {
    "collapsed": false
   },
   "outputs": [
    {
     "name": "stdout",
     "output_type": "stream",
     "text": [
      "I=3.07 mA\n"
     ]
    }
   ],
   "source": [
    "VS=6\n",
    "VD1=0.7\n",
    "VD2=0.7\n",
    "VR=1.5*10**3\n",
    "I=(VS-VD1-VD2)/VR\n",
    "print \"I=%0.2f\"%(I*10**3),'mA'"
   ]
  },
  {
   "cell_type": "markdown",
   "metadata": {},
   "source": [
    "## Ex 5.14 Pg 106"
   ]
  },
  {
   "cell_type": "code",
   "execution_count": 15,
   "metadata": {
    "collapsed": false
   },
   "outputs": [
    {
     "name": "stdout",
     "output_type": "stream",
     "text": [
      "I=3.21 mA\n"
     ]
    }
   ],
   "source": [
    "VS=12\n",
    "R1=1.5*10**3\n",
    "R2=1.8*10**3\n",
    "VD1=0.7\n",
    "VD2=0.7\n",
    "I=(VS-VD1-VD2)/(R1+R2)\n",
    "print \"I=%0.2f\"%(I*10**3),'mA'"
   ]
  },
  {
   "cell_type": "markdown",
   "metadata": {},
   "source": [
    "## Ex 5.15 Pg 106"
   ]
  },
  {
   "cell_type": "code",
   "execution_count": 16,
   "metadata": {
    "collapsed": false
   },
   "outputs": [
    {
     "name": "stdout",
     "output_type": "stream",
     "text": [
      "VO= 0 V\n",
      "VO= 4.3 V\n",
      "VO= 4.3 V\n",
      "VO= 4.3 V\n"
     ]
    }
   ],
   "source": [
    "V1=0\n",
    "V2=0\n",
    "VO=0\n",
    "print \"VO=\",VO,\"V\"\n",
    "V1=0\n",
    "V2=5\n",
    "VO=V2-0.7\n",
    "print \"VO=\",VO,\"V\"\n",
    "V1=5\n",
    "V2=0\n",
    "VO=V1-0.7\n",
    "print \"VO=\",VO,\"V\"\n",
    "V1=5\n",
    "V2=5\n",
    "VO=V2-0.7\n",
    "print \"VO=\",VO,\"V\""
   ]
  },
  {
   "cell_type": "markdown",
   "metadata": {},
   "source": [
    "## Ex 5.16 Pg 106"
   ]
  },
  {
   "cell_type": "code",
   "execution_count": 1,
   "metadata": {
    "collapsed": false
   },
   "outputs": [
    {
     "name": "stdout",
     "output_type": "stream",
     "text": [
      "I= 0.999965 mA\n",
      "R1= 50\n",
      "V= 0 mV\n"
     ]
    },
    {
     "data": {
      "image/png": "[encoded data removed]",
      "text/plain": [
       "<matplotlib.figure.Figure at 0x7fe2b44c3710>"
      ]
     },
     "metadata": {},
     "output_type": "display_data"
    }
   ],
   "source": [
    "from numpy import arange,pi,sin\n",
    "%matplotlib inline\n",
    "from matplotlib.pyplot import plot,show,xlabel,ylabel,title\n",
    "R=20*10**3\n",
    "I=(R-0.7)/R\n",
    "print \"I=\",I,\"mA\"\n",
    "rj=50\n",
    "rB=1\n",
    "re=rB+rj\n",
    "R1=(R*re)/(re+R)\n",
    "print \"R1=\",R1\n",
    "V=10*(re/(re+1000))\n",
    "print \"V=\",V,'mV'\n",
    "i=arange(0,6*pi,0.01)\n",
    "y=[]\n",
    "for x in i:\n",
    "    y.append(sin(x))\n",
    "plot(i,y)\n",
    "xlabel(\"X\")\n",
    "ylabel(\"Y\")\n",
    "title(\"sin wave\")\n",
    "show()"
   ]
  }
 ],
 "metadata": {
  "kernelspec": {
   "display_name": "Python 2",
   "language": "python",
   "name": "python2"
  },
  "language_info": {
   "codemirror_mode": {
    "name": "ipython",
    "version": 2
   },
   "file_extension": ".py",
   "mimetype": "text/x-python",
   "name": "python",
   "nbconvert_exporter": "python",
   "pygments_lexer": "ipython2",
   "version": "2.7.9"
  }
 },
 "nbformat": 4,
 "nbformat_minor": 0
}
