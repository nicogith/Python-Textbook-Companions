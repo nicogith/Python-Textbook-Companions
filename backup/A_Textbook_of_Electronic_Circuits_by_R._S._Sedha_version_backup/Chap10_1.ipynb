{
 "cells": [
  {
   "cell_type": "markdown",
   "metadata": {},
   "source": [
    "# Chapter - 10 : BJT LOW FREQUENCY MODELS"
   ]
  },
  {
   "cell_type": "markdown",
   "metadata": {},
   "source": [
    "## Ex 10.1 Pg 187"
   ]
  },
  {
   "cell_type": "code",
   "execution_count": 3,
   "metadata": {
    "collapsed": false
   },
   "outputs": [
    {
     "name": "stdout",
     "output_type": "stream",
     "text": [
      "gm=0.40 ohm\n",
      "rbe=250.00 ohm\n",
      "rbb = 250.0\n",
      "gbc= 4.0 *10**-7\n",
      "rce=32.89 kohm\n"
     ]
    }
   ],
   "source": [
    "from __future__ import division\n",
    "Ic=10#\n",
    "Vce=10#\n",
    "hie=500#\n",
    "hoe=10**-5#\n",
    "hfe=100#\n",
    "hre=10**-4#\n",
    "gm=Ic/25#\n",
    "print \"gm=%0.2f\"%gm,'ohm'\n",
    "rbe=hfe/gm#\n",
    "print \"rbe=%0.2f\"%rbe,'ohm'\n",
    "rbb=hie-rbe#\n",
    "print \"rbb =\",rbb\n",
    "gbc=hre/rbe#\n",
    "print \"gbc=\",gbc*10**7,'*10**-7'\n",
    "rce=-1/((hoe-(1+hfe)*gbc))\n",
    "print \"rce=%0.2f\"%(rce*10**-3),'kohm'"
   ]
  }
 ],
 "metadata": {
  "kernelspec": {
   "display_name": "Python 2",
   "language": "python",
   "name": "python2"
  },
  "language_info": {
   "codemirror_mode": {
    "name": "ipython",
    "version": 2
   },
   "file_extension": ".py",
   "mimetype": "text/x-python",
   "name": "python",
   "nbconvert_exporter": "python",
   "pygments_lexer": "ipython2",
   "version": "2.7.9"
  }
 },
 "nbformat": 4,
 "nbformat_minor": 0
}
