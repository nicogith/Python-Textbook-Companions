{
 "cells": [
  {
   "cell_type": "markdown",
   "metadata": {},
   "source": [
    "# Chapter -11 : BJT HIGH FREQUENCY MODELS"
   ]
  },
  {
   "cell_type": "markdown",
   "metadata": {},
   "source": [
    "## Ex 11.1 Pg 204"
   ]
  },
  {
   "cell_type": "code",
   "execution_count": 2,
   "metadata": {
    "collapsed": false
   },
   "outputs": [
    {
     "name": "stdout",
     "output_type": "stream",
     "text": [
      "Id=15.00 mA\n",
      "Id=9.60 mA\n",
      "Id=0.60 mA\n"
     ]
    }
   ],
   "source": [
    "from __future__ import division\n",
    "Idss=15*10**-3\n",
    "Vgso=-5\n",
    "#Id=Idss*(1-(Vgs/Vgso))**2\n",
    "Vgs=0\n",
    "Id=Idss*(1-(Vgs/Vgso))**2\n",
    "print \"Id=%0.2f\"%(Id*10**3),\"mA\"\n",
    "Vgs1=-1\n",
    "Id=Idss*(1-(Vgs1/Vgso))**2\n",
    "print \"Id=%0.2f\"%(Id*10**3),\"mA\"\n",
    "Vgs2=-4\n",
    "Id=Idss*(1-(Vgs2/Vgso))**2\n",
    "print \"Id=%0.2f\"%(Id*10**3),\"mA\""
   ]
  },
  {
   "cell_type": "markdown",
   "metadata": {},
   "source": [
    "# Ex 11.2 Pg 204"
   ]
  },
  {
   "cell_type": "code",
   "execution_count": 7,
   "metadata": {
    "collapsed": false
   },
   "outputs": [
    {
     "name": "stdout",
     "output_type": "stream",
     "text": [
      "Id=6.75 mA\n",
      "Id=3.00 mA\n",
      "Id=0.75 mA\n",
      "Id=0.00 mA\n"
     ]
    },
    {
     "data": {
      "image/png": "[encoded data removed]",
      "text/plain": [
       "<matplotlib.figure.Figure at 0x7ff224186490>"
      ]
     },
     "metadata": {},
     "output_type": "display_data"
    }
   ],
   "source": [
    "%matplotlib inline\n",
    "from matplotlib.pyplot import plot,xlabel,ylabel,show\n",
    "from numpy import arange\n",
    "from __future__ import division\n",
    "Vgs=arange(-5,-21,-5) ##Id=Idss*(1-(Vgs/Vgso))**2\n",
    "Vgso=-20\n",
    "Idss=12*10**-3\n",
    "Id=[]\n",
    "for x in Vgs:\n",
    "    Id.append(Idss*(1-(x/Vgso))**2)\n",
    "for x in Id:\n",
    "    print \"Id=%0.2f\"%(x*10**3),\"mA\"\n",
    "y=arange(0,13,1)\n",
    "x=arange(0,-21,-5)\n",
    "plot(Vgs,Id)\n",
    "xlabel(\"Gate-to-source voltage  (VGS)\")\n",
    "ylabel(\"Drain current  ID(mA)\")\n",
    "show()"
   ]
  },
  {
   "cell_type": "markdown",
   "metadata": {},
   "source": [
    "## Ex 11.4 Pg 205"
   ]
  },
  {
   "cell_type": "code",
   "execution_count": 8,
   "metadata": {
    "collapsed": false
   },
   "outputs": [
    {
     "name": "stdout",
     "output_type": "stream",
     "text": [
      "Id=5.00 mA\n",
      "gm=2500.00 microsec\n"
     ]
    }
   ],
   "source": [
    "from __future__ import division\n",
    "Idss=20*10**-3\n",
    "vp=-8\n",
    "gmo=5000*10**-6\n",
    "vgs=-4\n",
    "#Id=Idss*(1-(Vgs/Vgso))**2\n",
    "Id=Idss*(1-(vgs/vp))**2\n",
    "print \"Id=%0.2f\"%(Id*10**3),'mA'\n",
    "gm=gmo*(1-(vgs/vp))\n",
    "print \"gm=%0.2f\"%(gm*10**6),'microsec'"
   ]
  },
  {
   "cell_type": "markdown",
   "metadata": {},
   "source": [
    "## Ex 11.5 Pg 206"
   ]
  },
  {
   "cell_type": "code",
   "execution_count": 9,
   "metadata": {
    "collapsed": false
   },
   "outputs": [
    {
     "name": "stdout",
     "output_type": "stream",
     "text": [
      "k=0.12 mA\n",
      "Idon=1.11 mA\n"
     ]
    }
   ],
   "source": [
    "from __future__ import division\n",
    "Idon=10*10**-3\n",
    "vgs=-12\n",
    "vgsth=-3\n",
    "#Id=K*(vgs-vgsth)**2\n",
    "#Idon=K*(vgs-vgsth)**2\n",
    "k=Idon/((vgs-vgsth)**2)\n",
    "print \"k=%0.2f\"%(k*10**3),'mA'\n",
    "vgs1=-6\n",
    "Idon=k*(vgs1-vgsth)**2\n",
    "print \"Idon=%0.2f\"%(Idon*10**3),'mA'\n"
   ]
  }
 ],
 "metadata": {
  "kernelspec": {
   "display_name": "Python 2",
   "language": "python",
   "name": "python2"
  },
  "language_info": {
   "codemirror_mode": {
    "name": "ipython",
    "version": 2
   },
   "file_extension": ".py",
   "mimetype": "text/x-python",
   "name": "python",
   "nbconvert_exporter": "python",
   "pygments_lexer": "ipython2",
   "version": "2.7.9"
  }
 },
 "nbformat": 4,
 "nbformat_minor": 0
}
