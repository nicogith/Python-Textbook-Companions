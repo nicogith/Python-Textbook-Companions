{
 "cells": [
  {
   "cell_type": "markdown",
   "metadata": {},
   "source": [
    "# Chapter - 30 : LINEAR WAVE SHAPING CIRCUIT"
   ]
  },
  {
   "cell_type": "markdown",
   "metadata": {},
   "source": [
    "## Ex 30.2 Pg 886"
   ]
  },
  {
   "cell_type": "code",
   "execution_count": 2,
   "metadata": {
    "collapsed": false
   },
   "outputs": [
    {
     "name": "stdout",
     "output_type": "stream",
     "text": [
      "tao=10.00 msec\n",
      "vf=3.30 V\n",
      "Output=0.30 V\n"
     ]
    }
   ],
   "source": [
    "from __future__ import division\n",
    "from math import exp\n",
    "C=1*10**-6#\n",
    "Vi=6#\n",
    "R=10*10**3#\n",
    "Vo=-3#\n",
    "t=8*10**-3#\n",
    "tao=R*C#\n",
    "print 'tao=%0.2f msec'%(tao*10**3)\n",
    "vf=6*(1-exp(-8/10))#\n",
    "print 'vf=%0.2f V'%vf\n",
    "output=vf-3.0#\n",
    "print 'Output=%0.2f V'%output"
   ]
  },
  {
   "cell_type": "markdown",
   "metadata": {},
   "source": [
    "## Ex 30.3 Pg 886"
   ]
  },
  {
   "cell_type": "code",
   "execution_count": 4,
   "metadata": {
    "collapsed": false
   },
   "outputs": [
    {
     "name": "stdout",
     "output_type": "stream",
     "text": [
      "vc=0.30 V\n"
     ]
    }
   ],
   "source": [
    "from __future__ import division\n",
    "from math import exp\n",
    "t=0.1#\n",
    "tao=0.2#\n",
    "vc=0.5*exp(-t/tao)#\n",
    "print 'vc=%0.2f V'%vc"
   ]
  },
  {
   "cell_type": "markdown",
   "metadata": {},
   "source": [
    "## Ex 30.4 Pg 887"
   ]
  },
  {
   "cell_type": "code",
   "execution_count": 5,
   "metadata": {
    "collapsed": false
   },
   "outputs": [
    {
     "name": "stdout",
     "output_type": "stream",
     "text": [
      "vp=10.00 kV\n"
     ]
    }
   ],
   "source": [
    "from __future__ import division\n",
    "tao=250*10**-12#\n",
    "v=50#\n",
    "a=v/tao#\n",
    "t=0.05*10**-6#\n",
    "vp=a*t#\n",
    "print 'vp=%0.2f kV'%(vp*10**-3)"
   ]
  }
 ],
 "metadata": {
  "kernelspec": {
   "display_name": "Python 2",
   "language": "python",
   "name": "python2"
  },
  "language_info": {
   "codemirror_mode": {
    "name": "ipython",
    "version": 2
   },
   "file_extension": ".py",
   "mimetype": "text/x-python",
   "name": "python",
   "nbconvert_exporter": "python",
   "pygments_lexer": "ipython2",
   "version": "2.7.9"
  }
 },
 "nbformat": 4,
 "nbformat_minor": 0
}
