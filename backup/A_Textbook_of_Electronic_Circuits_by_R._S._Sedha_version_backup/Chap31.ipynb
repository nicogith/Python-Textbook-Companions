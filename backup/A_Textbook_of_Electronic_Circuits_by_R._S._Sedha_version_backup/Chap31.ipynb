{
 "cells": [
  {
   "cell_type": "markdown",
   "metadata": {},
   "source": [
    "# Chapter - 31 : TIME BASE CIRCUIT"
   ]
  },
  {
   "cell_type": "markdown",
   "metadata": {},
   "source": [
    "## Ex 31.1 Pg 901"
   ]
  },
  {
   "cell_type": "code",
   "execution_count": 2,
   "metadata": {
    "collapsed": false
   },
   "outputs": [
    {
     "name": "stdout",
     "output_type": "stream",
     "text": [
      "f=29.66 HZ\n"
     ]
    }
   ],
   "source": [
    "from __future__ import division\n",
    "from math import log10\n",
    "R=100*10**3#\n",
    "C=0.4*10**-6#\n",
    "n=0.57#\n",
    "f=1/(2.3*R*C*log10(1/(1-n)))#\n",
    "print 'f=%0.2f HZ'%f"
   ]
  },
  {
   "cell_type": "markdown",
   "metadata": {},
   "source": [
    "## Ex 31.2 Pg 901"
   ]
  },
  {
   "cell_type": "code",
   "execution_count": 3,
   "metadata": {
    "collapsed": false
   },
   "outputs": [
    {
     "name": "stdout",
     "output_type": "stream",
     "text": [
      "T=0.24 msec\n",
      "f=4138.65 HZ\n",
      "R=413.87 kohm\n",
      "R=41.39 kohm\n"
     ]
    }
   ],
   "source": [
    "from __future__ import division\n",
    "from math import log10\n",
    "n=0.62#\n",
    "R=5*10**3#\n",
    "C=0.05*10**-6#\n",
    "T=2.3*R*C*log10(1/(1-n))\n",
    "print 'T=%0.2f msec'%(T*10**3)\n",
    "f=1/T#\n",
    "print 'f=%0.2f HZ'%f\n",
    "f1=50#\n",
    "T1=1/f1#\n",
    "R=T1/(2.3*C*log10(1/(1-n)))#\n",
    "print 'R=%0.2f kohm'%(R*10**-3)\n",
    "C=0.5*10**-6#\n",
    "R=T1/(2.3*C*log10(1/(1-n)))#\n",
    "print 'R=%0.2f kohm'%(R*10**-3)"
   ]
  }
 ],
 "metadata": {
  "kernelspec": {
   "display_name": "Python 2",
   "language": "python",
   "name": "python2"
  },
  "language_info": {
   "codemirror_mode": {
    "name": "ipython",
    "version": 2
   },
   "file_extension": ".py",
   "mimetype": "text/x-python",
   "name": "python",
   "nbconvert_exporter": "python",
   "pygments_lexer": "ipython2",
   "version": "2.7.9"
  }
 },
 "nbformat": 4,
 "nbformat_minor": 0
}
