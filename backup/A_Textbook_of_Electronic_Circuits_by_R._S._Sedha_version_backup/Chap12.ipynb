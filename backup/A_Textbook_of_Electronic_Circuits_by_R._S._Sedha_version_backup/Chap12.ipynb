{
 "cells": [
  {
   "cell_type": "markdown",
   "metadata": {},
   "source": [
    "# Chapter -12 : THYRISTORS"
   ]
  },
  {
   "cell_type": "markdown",
   "metadata": {},
   "source": [
    "## Ex 12.1 Pg 224"
   ]
  },
  {
   "cell_type": "code",
   "execution_count": 1,
   "metadata": {
    "collapsed": false
   },
   "outputs": [
    {
     "name": "stdout",
     "output_type": "stream",
     "text": [
      "SCR= 24.0 A**2s\n"
     ]
    }
   ],
   "source": [
    "I=40#\n",
    "t=15*10**-3#\n",
    "SCR=(I**2)*t#\n",
    "print \"SCR=\",SCR,'A**2s'"
   ]
  },
  {
   "cell_type": "markdown",
   "metadata": {},
   "source": [
    "## Ex 12.2 Pg 224"
   ]
  },
  {
   "cell_type": "code",
   "execution_count": 3,
   "metadata": {
    "collapsed": false
   },
   "outputs": [
    {
     "name": "stdout",
     "output_type": "stream",
     "text": [
      "tmax= 7.5 ms\n"
     ]
    }
   ],
   "source": [
    "a=75.0\n",
    "Is=100.0\n",
    "tmax=a/Is**2#\n",
    "print \"tmax=\",tmax*10**3,'ms'"
   ]
  },
  {
   "cell_type": "markdown",
   "metadata": {},
   "source": [
    "## Ex 12.3 Pg 224"
   ]
  },
  {
   "cell_type": "code",
   "execution_count": 4,
   "metadata": {
    "collapsed": false
   },
   "outputs": [
    {
     "name": "stdout",
     "output_type": "stream",
     "text": [
      "Vp= 9.7 V\n"
     ]
    }
   ],
   "source": [
    "VD=0.7#\n",
    "n=0.75#\n",
    "Vbb=12#\n",
    "Vp=n*Vbb+VD#\n",
    "print  \"Vp=\",Vp,\"V\""
   ]
  },
  {
   "cell_type": "markdown",
   "metadata": {},
   "source": [
    "## Ex 12.4 Pg 225"
   ]
  },
  {
   "cell_type": "code",
   "execution_count": 5,
   "metadata": {
    "collapsed": false
   },
   "outputs": [
    {
     "name": "stdout",
     "output_type": "stream",
     "text": [
      "n= 0.615384615385\n",
      "Vp= 9.93076923077 V\n"
     ]
    }
   ],
   "source": [
    "rb1=4*10**3#\n",
    "rb2=2.5*10**3#\n",
    "Vbb=15#\n",
    "Vd=0.7#\n",
    "n=rb1/(rb1+rb2)#\n",
    "print \"n=\",n##intrinsic standoff ratio\n",
    "Vp=n*Vbb+Vd#\n",
    "print \"Vp=\",Vp,\"V\" #peak point voltage"
   ]
  },
  {
   "cell_type": "markdown",
   "metadata": {},
   "source": [
    "## Ex 12.5 Pg 225"
   ]
  },
  {
   "cell_type": "code",
   "execution_count": 6,
   "metadata": {
    "collapsed": false
   },
   "outputs": [
    {
     "name": "stdout",
     "output_type": "stream",
     "text": [
      "rb1=4.20 kohm\n",
      "rb2=2.80 kohm\n"
     ]
    }
   ],
   "source": [
    "n=0.60#\n",
    "rbb=7*10**3#\n",
    "rb1=rbb*n#\n",
    "print \"rb1=%0.2f\"%(rb1*10**-3),\"kohm\"\n",
    "rb2=rbb-rb1#\n",
    "print \"rb2=%0.2f\"%(rb2*10**-3),\"kohm\""
   ]
  }
 ],
 "metadata": {
  "kernelspec": {
   "display_name": "Python 2",
   "language": "python",
   "name": "python2"
  },
  "language_info": {
   "codemirror_mode": {
    "name": "ipython",
    "version": 2
   },
   "file_extension": ".py",
   "mimetype": "text/x-python",
   "name": "python",
   "nbconvert_exporter": "python",
   "pygments_lexer": "ipython2",
   "version": "2.7.9"
  }
 },
 "nbformat": 4,
 "nbformat_minor": 0
}
