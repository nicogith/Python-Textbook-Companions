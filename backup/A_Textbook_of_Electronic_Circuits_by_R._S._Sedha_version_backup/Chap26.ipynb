{
 "cells": [
  {
   "cell_type": "markdown",
   "metadata": {},
   "source": [
    "# Chapter - 26 : TUNED AMPLIFIERS"
   ]
  },
  {
   "cell_type": "markdown",
   "metadata": {},
   "source": [
    "## Ex 26.1 Pg 802"
   ]
  },
  {
   "cell_type": "code",
   "execution_count": 1,
   "metadata": {
    "collapsed": false
   },
   "outputs": [
    {
     "name": "stdout",
     "output_type": "stream",
     "text": [
      "fo=1.30 MHZ\n"
     ]
    }
   ],
   "source": [
    "from __future__ import division\n",
    "from math import sqrt\n",
    "L=150*10**-6#\n",
    "C=100*10**-12#\n",
    "fo=0.159/sqrt (L*C)#\n",
    "print 'fo=%0.2f MHZ'%(fo*10**-6)"
   ]
  },
  {
   "cell_type": "markdown",
   "metadata": {},
   "source": [
    "## Ex 26.2 Pg 803"
   ]
  },
  {
   "cell_type": "code",
   "execution_count": 2,
   "metadata": {
    "collapsed": false
   },
   "outputs": [
    {
     "name": "stdout",
     "output_type": "stream",
     "text": [
      "fo=1.59 MHZ\n",
      "Zp=200.00 Kohm\n"
     ]
    }
   ],
   "source": [
    "from __future__ import division\n",
    "\n",
    "L=100*10**-6#\n",
    "C=100*10**-12#\n",
    "R=5#\n",
    "fo=0.159/sqrt (L*C)#\n",
    "print 'fo=%0.2f MHZ'%(fo*10**-6)\n",
    "Zp=L/(C*R)#\n",
    "print 'Zp=%0.2f Kohm'%(Zp*10**-3)"
   ]
  },
  {
   "cell_type": "markdown",
   "metadata": {},
   "source": [
    "## Ex 26.3 Pg 804"
   ]
  },
  {
   "cell_type": "code",
   "execution_count": 3,
   "metadata": {
    "collapsed": false
   },
   "outputs": [
    {
     "name": "stdout",
     "output_type": "stream",
     "text": [
      "BW=10.00 kHZ\n"
     ]
    }
   ],
   "source": [
    "from __future__ import division\n",
    "\n",
    "fo=1*10**6#\n",
    "Qo=100#\n",
    "BW=fo/Qo#\n",
    "print 'BW=%0.2f kHZ'%(BW*10**-3)"
   ]
  },
  {
   "cell_type": "markdown",
   "metadata": {},
   "source": [
    "## Ex 26.4 Pg 805"
   ]
  },
  {
   "cell_type": "code",
   "execution_count": 4,
   "metadata": {
    "collapsed": false
   },
   "outputs": [
    {
     "name": "stdout",
     "output_type": "stream",
     "text": [
      "Qo=160.00\n"
     ]
    }
   ],
   "source": [
    "from __future__ import division\n",
    "\n",
    "fo=1600*10**3#\n",
    "BW=10*10**3#\n",
    "Qo=fo/BW#\n",
    "print \"Qo=%0.2f\"%(Qo)#"
   ]
  },
  {
   "cell_type": "markdown",
   "metadata": {},
   "source": [
    "## Ex 26.5 Pg 806"
   ]
  },
  {
   "cell_type": "code",
   "execution_count": 5,
   "metadata": {
    "collapsed": false
   },
   "outputs": [
    {
     "name": "stdout",
     "output_type": "stream",
     "text": [
      "Qo=40.00\n"
     ]
    }
   ],
   "source": [
    "from __future__ import division\n",
    "\n",
    "fo=2*10**6#\n",
    "BW=50*10**3#\n",
    "Qo=fo/BW#\n",
    "print \"Qo=%0.2f\"%(Qo)#"
   ]
  },
  {
   "cell_type": "markdown",
   "metadata": {},
   "source": [
    "## Ex 26.6 Pg 807"
   ]
  },
  {
   "cell_type": "code",
   "execution_count": 6,
   "metadata": {
    "collapsed": false
   },
   "outputs": [
    {
     "name": "stdout",
     "output_type": "stream",
     "text": [
      "Zp=57.10 kohm\n"
     ]
    }
   ],
   "source": [
    "from __future__ import division\n",
    "from math import pi\n",
    "fo=455*10**3#\n",
    "BW=10*10**3#\n",
    "XL=1255#\n",
    "Qo=fo/BW#\n",
    "R=XL/Qo#\n",
    "L=XL/(2*pi*fo)#\n",
    "C=1/(XL*2*pi*fo)#\n",
    "Zp=L/(C*R)#\n",
    "print 'Zp=%0.2f kohm'%(Zp*10**-3)"
   ]
  }
 ],
 "metadata": {
  "kernelspec": {
   "display_name": "Python 2",
   "language": "python",
   "name": "python2"
  },
  "language_info": {
   "codemirror_mode": {
    "name": "ipython",
    "version": 2
   },
   "file_extension": ".py",
   "mimetype": "text/x-python",
   "name": "python",
   "nbconvert_exporter": "python",
   "pygments_lexer": "ipython2",
   "version": "2.7.9"
  }
 },
 "nbformat": 4,
 "nbformat_minor": 0
}
