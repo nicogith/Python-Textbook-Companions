{
 "metadata": {
  "name": "",
  "signature": "sha256:a1c5dc80edceb1c26296c5ed290e825905396ed6d9e62f8196824c971236a909"
 },
 "nbformat": 3,
 "nbformat_minor": 0,
 "worksheets": [
  {
   "cells": [
    {
     "cell_type": "heading",
     "level": 1,
     "metadata": {},
     "source": [
      "Chapter09, Horn Antenna"
     ]
    },
    {
     "cell_type": "heading",
     "level": 2,
     "metadata": {},
     "source": [
      "Example No. 9.6.1, page : 9-8"
     ]
    },
    {
     "cell_type": "code",
     "collapsed": false,
     "input": [
      "from __future__ import division\n",
      "f=2 #GHz(Frequency)\n",
      "G=12 #dBi(Gain)\n",
      "D=12 #dBi(Gain)\n",
      "D=10**(D/10) #unitless(Directivity)\n",
      "c=3*10**8 #m/s(speed of light)\n",
      "lamda=c/(f*10**9) #m(wavelength)\n",
      "Ap=D*lamda**2/7.5 #m\u00b2(capture area)\n",
      "print \"Required capture area = %0.4f m\u00b2 \"%Ap "
     ],
     "language": "python",
     "metadata": {},
     "outputs": [
      {
       "output_type": "stream",
       "stream": "stdout",
       "text": [
        "Required capture area = 0.0475 m\u00b2 \n"
       ]
      }
     ],
     "prompt_number": 3
    },
    {
     "cell_type": "heading",
     "level": 2,
     "metadata": {},
     "source": [
      "Example No. 9.6.2, page : 9-9"
     ]
    },
    {
     "cell_type": "code",
     "collapsed": false,
     "input": [
      "from math import sqrt, atan, pi, log10\n",
      "aEBYlamda=10 #(Aperture/wavelength)\n",
      "del_EBYlamda=0.2 #in E-plane\n",
      "del_HBYlamda=0.375 #in H-plane\n",
      "LBYlamda=aEBYlamda**2/8/del_EBYlamda #(Length/wavelength)\n",
      "print \"Length of the horn is \",(LBYlamda),\"*lamda\" \n",
      "aHBYlamda=sqrt(LBYlamda*8*del_HBYlamda) #(Aperture/wavelength)\n",
      "print \"H-plane aperture, aH is \",round(aHBYlamda,2),\"*lamda\" \n",
      "theta_E=2*atan(aEBYlamda/2/LBYlamda)*180/pi #degree(Angle)\n",
      "theta_H=2*atan(aHBYlamda/2/LBYlamda)*180/pi #degree(Angle)\n",
      "print \"Flare angles theta_E & theta_H = %0.2f & %0.2f degree \"%(theta_E,theta_H) \n",
      "HPBW_E=56/aEBYlamda #degree(HPBW for E-plane)\n",
      "print \"HPBW(E-plane) = %0.1f degree\"%(HPBW_E) \n",
      "HPBW_H=67/aHBYlamda #degree(HPBW for H-plane)\n",
      "print \"HPBW(H-plane) = %0.1f degree \" %HPBW_H \n",
      "FNBW_E=102/aEBYlamda #degree(FNBW for E-plane)\n",
      "print \"FNBW(E-plane) = %0.2f degree \" %FNBW_E \n",
      "FNBW_H=172/aHBYlamda #degree(FNBW for F-plane)\n",
      "print \"FNBW(H-plane) = %0.2f degree \"%FNBW_H \n",
      "D=10*log10(7.5*aEBYlamda*aHBYlamda) #(Directivity)\n",
      "print \"Directivity in dB  : \", round(D,2)"
     ],
     "language": "python",
     "metadata": {},
     "outputs": [
      {
       "output_type": "stream",
       "stream": "stdout",
       "text": [
        "Length of the horn is  62.5 *lamda\n",
        "H-plane aperture, aH is  13.69 *lamda\n",
        "Flare angles theta_E & theta_H = 9.15 & 12.50 degree \n",
        "HPBW(E-plane) = 5.6 degree\n",
        "HPBW(H-plane) = 4.9 degree \n",
        "FNBW(E-plane) = 10.20 degree \n",
        "FNBW(H-plane) = 12.56 degree \n",
        "Directivity in dB  :  30.12\n"
       ]
      }
     ],
     "prompt_number": 14
    }
   ],
   "metadata": {}
  }
 ]
}