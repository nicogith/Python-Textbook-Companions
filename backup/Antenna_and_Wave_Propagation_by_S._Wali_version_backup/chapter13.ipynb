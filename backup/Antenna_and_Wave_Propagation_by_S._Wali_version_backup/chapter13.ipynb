{
 "metadata": {
  "name": "",
  "signature": "sha256:f6d3766ede10d7f012eb8ad865bad8af32df466b5fa260a3ac4557604c5c1440"
 },
 "nbformat": 3,
 "nbformat_minor": 0,
 "worksheets": [
  {
   "cells": [
    {
     "cell_type": "heading",
     "level": 1,
     "metadata": {},
     "source": [
      "Chapter13, Antenna Measurement"
     ]
    },
    {
     "cell_type": "heading",
     "level": 2,
     "metadata": {},
     "source": [
      "Example No. 13.4.1, page : 13-10"
     ]
    },
    {
     "cell_type": "code",
     "collapsed": false,
     "input": [
      "from math import log10, pi\n",
      "from __future__ import division\n",
      "Pr1=0.0297/1000 #W(Recieved power)\n",
      "Pr2=0.0471/1000 #W(Recieved power)\n",
      "Pr3=0.0374/1000 #W(Recieved power)\n",
      "Pt=1 #W(Transmitted power)\n",
      "R=10 #m(Radius)\n",
      "f=980 #MHz(Frequency)\n",
      "f=f*10**6 #Hz(Frequency)\n",
      "c=3*10**8 #m/s(Speed of light)\n",
      "lamda=c/f #m(Wavelength)\n",
      "A=20*log10(4*pi*R/lamda)+10*log10(Pr1/Pt) #(A=G1dB+G2dB)\n",
      "B=20*log10(4*pi*R/lamda)+10*log10(Pr2/Pt) #(B=G1dB+G3dB)\n",
      "C=20*log10(4*pi*R/lamda)+10*log10(Pr3/Pt) #(C=G2dB+G3dB)\n",
      "G1dB=(A+B-C)/2 \n",
      "G2dB=(A-B+C)/2 \n",
      "G3dB=(-A+B+C)/2 \n",
      "print \"Gain of antennas, G1db, G2dB & G3dB(in dB) are : %0.f, %0.f & %0.f\"%(round(G1dB),round(G2dB),round(G3dB))"
     ],
     "language": "python",
     "metadata": {},
     "outputs": [
      {
       "output_type": "stream",
       "stream": "stdout",
       "text": [
        "Gain of antennas, G1db, G2dB & G3dB(in dB) are : 4, 3 & 5\n"
       ]
      }
     ],
     "prompt_number": 3
    }
   ],
   "metadata": {}
  }
 ]
}