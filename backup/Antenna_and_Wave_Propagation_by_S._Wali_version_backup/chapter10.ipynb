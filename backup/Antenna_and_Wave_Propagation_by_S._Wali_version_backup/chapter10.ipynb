{
 "metadata": {
  "name": "",
  "signature": "sha256:3caeb5ca80f9060d923ecab5e68747215440e54b9d8723f23ecf08701ce3af01"
 },
 "nbformat": 3,
 "nbformat_minor": 0,
 "worksheets": [
  {
   "cells": [
    {
     "cell_type": "heading",
     "level": 1,
     "metadata": {},
     "source": [
      "Chapter10, Broadband & Frequency Independent Antenna"
     ]
    },
    {
     "cell_type": "heading",
     "level": 2,
     "metadata": {},
     "source": [
      "Example No. 10.5.1, page : 10-16"
     ]
    },
    {
     "cell_type": "code",
     "collapsed": false,
     "input": [
      "from __future__ import division\n",
      "from math import sqrt, atan, pi\n",
      "N=5 #no. of turns\n",
      "f=400 #MHz(Frequency)\n",
      "c=3*10**8 #m/s(Speed of light)\n",
      "lamda=c/(f*10**6) #m(Wavelength)\n",
      "print \"Part (i):\" \n",
      "S=lamda/50 #m(Spacing between turns)\n",
      "S_BY_lamda=1/50 #(Spacing/wavelength)\n",
      "C_BY_lamda=sqrt(2*S_BY_lamda) #(Circumference/wavelength)\n",
      "print \"\\tCircumference is\",C_BY_lamda,\"*lamda\" \n",
      "C=sqrt(2*lamda*S) #m(Circumference)\n",
      "print \"\\tCircumference = %0.2f meter \"%C \n",
      "print \"Part (ii):\" \n",
      "Lo_BY_lamda=sqrt(S_BY_lamda**2+C_BY_lamda**2) #(Length/wavelength)\n",
      "print \"\\tLength of single turn is\",round(Lo_BY_lamda,6),\"*lamda\" \n",
      "Lo=sqrt(S**2+C**2) #m(Length of single turn)\n",
      "print \"\\tLength of single turn = %0.5f meter \"%Lo \n",
      "print \"Part (iii):\" \n",
      "Ln_BY_lamda=N*Lo_BY_lamda #(Overall length/wavelength)\n",
      "print \"\\tOverall Length is\",round(Ln_BY_lamda,7),\"*lamda\" \n",
      "Ln=N*Lo #m(Overall length)\n",
      "print \"\\tOverall Length = %0.5f meter  \"%Ln \n",
      "print \"Part (iv):\" \n",
      "alfa=atan(S/C)*180/pi #degree(Pitch angle)\n",
      "print \"\\tPitch angle, \u03b1 = %0.2f degree\"%alfa"
     ],
     "language": "python",
     "metadata": {},
     "outputs": [
      {
       "output_type": "stream",
       "stream": "stdout",
       "text": [
        "Part (i):\n",
        "\tCircumference is 0.2 *lamda\n",
        "\tCircumference = 0.15 meter \n",
        "Part (ii):\n",
        "\tLength of single turn is 0.200998 *lamda\n",
        "\tLength of single turn = 0.15075 meter \n",
        "Part (iii):\n",
        "\tOverall Length is 1.0049876 *lamda\n",
        "\tOverall Length = 0.75374 meter  \n",
        "Part (iv):\n",
        "\tPitch angle, \u03b1 = 5.71 degree\n"
       ]
      }
     ],
     "prompt_number": 10
    },
    {
     "cell_type": "heading",
     "level": 2,
     "metadata": {},
     "source": [
      "Example No. 10.5.2, page : 10-16"
     ]
    },
    {
     "cell_type": "code",
     "collapsed": false,
     "input": [
      "from math import tan, pi, sqrt, log10\n",
      "from __future__ import division\n",
      "N=5 #no. of turns\n",
      "f=300 #MHz(Frequency)\n",
      "c=3*10**8 #m/s(speed of light)\n",
      "print \"Part (i):\" \n",
      "lamda=c/(f*10**6) #m(Wavelength)\n",
      "C_BY_lamda=1 #(Circumference/wavelength)\n",
      "print \"\\tNear optimum circumference is\",C_BY_lamda,\"*lamda\" \n",
      "C=lamda #m(Circumference)\n",
      "print \"\\tNear optimum circumference = %0.f meter\" %C\n",
      "print \"Part (ii):\" \n",
      "alfa=14 #degree#(Pitch angle)#for near optimum\n",
      "S_BY_lamda=C_BY_lamda*tan(alfa*pi/180) \n",
      "print \"\\tSpacing is\",round(S_BY_lamda,4),\"*lamda\" \n",
      "S=C*tan(alfa*pi/180) #m(Spacing)\n",
      "print \"\\tSpacing = %0.4f meter \"%S \n",
      "print \"Part (iii):\" \n",
      "Rin=140*C/lamda #\u03a9(Input impedence)\n",
      "print \"\\tInput impedence = %0.2f \u03a9 \"%Rin \n",
      "print \"Part (iv):\" \n",
      "HPBW=52/(C/lamda*sqrt(N*S/lamda)) #degree(HPBW)\n",
      "print \"\\tHPBW = %0.2f degree \"%HPBW \n",
      "print \"Part (v):\" \n",
      "FNBW=115/(C/lamda*sqrt(N*S/lamda)) #degree(FNBW)\n",
      "print \"\\tFNBW = %0.2f degree \" %FNBW \n",
      "print \"Part (vi):\" \n",
      "Do=15*(C/lamda)**2*N*(S/lamda) #unitless##Directivity\n",
      "print \"\\tDirectivity(unitless) : %0.4f\"%Do \n",
      "Do_dB=10*log10(Do) #dB(Directivity)\n",
      "print \"\\tDirectivity = %0.3f dB \"%Do_dB \n",
      "print \"Part (vii):\" \n",
      "AR=(2*N+1)/2/N #axial ratio\n",
      "print \"\\tAxial ratio : \",AR \n",
      "print \"Part (viii):\" \n",
      "Rin=140*(C/lamda) #\u03a9(Input impedence)\n",
      "#50 \u03a9 line\n",
      "Zo=50 #\u03a9(Output impedence)\n",
      "Tau=(Rin-Zo)/(Rin+Zo) #Scaling factor\n",
      "VSWR=(1+Tau)/(1-Tau) #(VSWR)\n",
      "print \"\\tVSWR for 50\u03a9 line : \",VSWR \n",
      "#75 \u03a9 line\n",
      "Zo=75 #\u03a9(Output impedence)\n",
      "Tau=(Rin-Zo)/(Rin+Zo) #Scaling factor\n",
      "VSWR=(1+Tau)/(1-Tau) #(VSWR)\n",
      "print \"\\tVSWR for 75\u03a9 line : %0.3f\"%VSWR "
     ],
     "language": "python",
     "metadata": {},
     "outputs": [
      {
       "output_type": "stream",
       "stream": "stdout",
       "text": [
        "Part (i):\n",
        "\tNear optimum circumference is 1 *lamda\n",
        "\tNear optimum circumference = 1 meter\n",
        "Part (ii):\n",
        "\tSpacing is 0.2493 *lamda\n",
        "\tSpacing = 0.2493 meter \n",
        "Part (iii):\n",
        "\tInput impedence = 140.00 \u03a9 \n",
        "Part (iv):\n",
        "\tHPBW = 46.57 degree \n",
        "Part (v):\n",
        "\tFNBW = 103.00 degree \n",
        "Part (vi):\n",
        "\tDirectivity(unitless) : 18.6996\n",
        "\tDirectivity = 12.718 dB \n",
        "Part (vii):\n",
        "\tAxial ratio :  1.1\n",
        "Part (viii):\n",
        "\tVSWR for 50\u03a9 line :  2.8\n",
        "\tVSWR for 75\u03a9 line : 1.867\n"
       ]
      }
     ],
     "prompt_number": 15
    },
    {
     "cell_type": "heading",
     "level": 2,
     "metadata": {},
     "source": [
      "Example No. 10.5.3, page : 10-18"
     ]
    },
    {
     "cell_type": "code",
     "collapsed": false,
     "input": [
      "from math import tan, pi, sqrt, log10\n",
      "HPBW=39 #degree(HPBW)\n",
      "alfa=12.5 #degree(Pitch angle)\n",
      "f=475 #MHz(Frequency)\n",
      "c=3*10**8 #m/s(Speed of light)\n",
      "lamda=c/(f*10**6) #m(Wavelength)\n",
      "C=lamda #m(Circumference)\n",
      "print \"Part (i):\" \n",
      "#it is in axial mode as 3/4*lamda<C<4/3*lamda\n",
      "S=C*tan(alfa*pi/180) #meter(Spacing)\n",
      "N=52**2/HPBW**2/(S/lamda)/(C/lamda)**2 #turns\n",
      "print \"\\tNumber of turns : \",round(N) \n",
      "print \"Part (ii):\" \n",
      "N=round(N) #turns\n",
      "Do=15*(C/lamda)**2*N*(S/lamda) #unitless(Directivity)\n",
      "Do_dB=10*log10(Do) #dB(Directivity)\n",
      "print \"\\tDirectivity = %0.2f decibels\"%Do_dB \n",
      "print \"Part (iii):\" \n",
      "AR=(2*N+1)/2/N #axial ratio\n",
      "print \"\\tAxial ratio : \",AR \n",
      "print \"Part (iv):\" \n",
      "#3/4*lamda<C<4/3*lamda\n",
      "lamda1=C/(3/4) #meter(Wavelength)\n",
      "lamda2=C/(4/3) #meter(Wavelength)\n",
      "f1=c/lamda1 #Hz(Frequency)\n",
      "f2=c/lamda2 #Hz(Frequency)\n",
      "print \"\\tFrequency range is\",(f1/10**6),\"MHz to\",round(f2/10**6,2),\"MHz.\"\n",
      "print \"Part (v):\" \n",
      "#At  design frequency\n",
      "Rin=140*C/lamda #\u03a9(Input impedence)\n",
      "print \"\\tAt design frequency, Input impedence = %0.2f \u03a9  \"%Rin \n",
      "#3/4*lamda<C<4/3*lamda\n",
      "#At high frequency end\n",
      "Rin=140*C/lamda2 #\u03a9(Input impedence)\n",
      "print \"\\tAt high frequency end, Input impedence = %0.2f \u03a9 \"%Rin \n",
      "#At low frequency end\n",
      "Rin=140*C/lamda1 #\u03a9(Input impedence)\n",
      "print \"\\tAt low frequency end, Input impedence = %0.2f \u03a9  \"%Rin "
     ],
     "language": "python",
     "metadata": {},
     "outputs": [
      {
       "output_type": "stream",
       "stream": "stdout",
       "text": [
        "Part (i):\n",
        "\tNumber of turns :  8.0\n",
        "Part (ii):\n",
        "\tDirectivity = 14.25 decibels\n",
        "Part (iii):\n",
        "\tAxial ratio :  1.0625\n",
        "Part (iv):\n",
        "\tFrequency range is 356.25 MHz to 633.33 MHz.\n",
        "Part (v):\n",
        "\tAt design frequency, Input impedence = 140.00 \u03a9  \n",
        "\tAt high frequency end, Input impedence = 186.67 \u03a9 \n",
        "\tAt low frequency end, Input impedence = 105.00 \u03a9  \n"
       ]
      }
     ],
     "prompt_number": 18
    },
    {
     "cell_type": "heading",
     "level": 2,
     "metadata": {},
     "source": [
      "Example No. 10.5.4, page : 10-20"
     ]
    },
    {
     "cell_type": "code",
     "collapsed": false,
     "input": [
      "from math import tan, pi, sqrt, log10\n",
      "Do_dB=14 #dB(Directivity\n",
      "f=2.4 #GHz(Frequency)\n",
      "c=3*10**8 #m/s(Speed of light)\n",
      "lamda=c/(f*10**6) #m(Wavelength)\n",
      "Do=10**(Do_dB/10) #unitless(Directivity)\n",
      "C=lamda #m##for optimum result(Circumference)\n",
      "alfa=14 #degree ##for optimum result(Pitch angle)\n",
      "S=C*tan(alfa*pi/180) #m(Spacing)\n",
      "N=Do/15/(C/lamda)**2/(S/lamda) #turns\n",
      "N=round(N) #turns\n",
      "Rin=140*C/lamda #\u03a9(Input impedence)\n",
      "print \"Input impedence = %0.2f \u03a9  \"%Rin \n",
      "HPBW=52/(C/lamda*sqrt(N*S/lamda)) #degree\n",
      "print \"HPBW = %0.2f degree \"%HPBW \n",
      "FNBW=115/(C/lamda*sqrt(N*S/lamda)) #degree\n",
      "print \"FNBW = %0.f degree \"%FNBW \n",
      "AR=(2*N+1)/2/N #(Axial ratio)\n",
      "print \"Axial ratio : \" ,round(AR,1)"
     ],
     "language": "python",
     "metadata": {},
     "outputs": [
      {
       "output_type": "stream",
       "stream": "stdout",
       "text": [
        "Input impedence = 140.00 \u03a9  \n",
        "HPBW = 39.36 degree \n",
        "FNBW = 87 degree \n",
        "Axial ratio :  1.1\n"
       ]
      }
     ],
     "prompt_number": 21
    },
    {
     "cell_type": "heading",
     "level": 2,
     "metadata": {},
     "source": [
      "Example No. 10.8.1, page : 10-36"
     ]
    },
    {
     "cell_type": "code",
     "collapsed": false,
     "input": [
      "from math import tan, pi, sqrt, log10, exp\n",
      "f=10 #MHz(Frequency)\n",
      "c=3*10**8 #m/s(Speed of light)\n",
      "lamda=c/(f*10**6) #m(Wavelength)\n",
      "d0=10**-3*lamda #m(spacing)\n",
      "Lo=1*lamda #m(Length)\n",
      "fi=pi; fi0=0 #radian\n",
      "r0=d0/2 #m\n",
      "print \"Part (i):\" \n",
      "#R=r0*exp(a*fi-a*fi0) #m\n",
      "#a=sqrt(1/Lo**2/(R-r0)**2-1) #per adian\n",
      "a=1.166 #rad**-1(by above equation)\n",
      "print \"\\tRate of spiral = %0.3f rad^-1 \"%a \n",
      "R_BY_lamda=r0/lamda*exp(a*2*pi) #m(Radius/wavelength)\n",
      "print \"\\tRadius of terminal point is\",round(R_BY_lamda,5),\"*lamda\" \n",
      "print \"Part (ii):\" \n",
      "R=r0*exp(a*2*pi) #m(Radius)\n",
      "print \"\\tRadius at terminal point = %0.2f meter \" %R "
     ],
     "language": "python",
     "metadata": {},
     "outputs": [
      {
       "output_type": "stream",
       "stream": "stdout",
       "text": [
        "Part (i):\n",
        "\tRate of spiral = 1.166 rad^-1 \n",
        "\tRadius of terminal point is 0.75979 *lamda\n",
        "Part (ii):\n",
        "\tRadius at terminal point = 22.79 meter \n"
       ]
      }
     ],
     "prompt_number": 27
    },
    {
     "cell_type": "heading",
     "level": 2,
     "metadata": {},
     "source": [
      "Example No. 10.8.2, page : 10-37"
     ]
    },
    {
     "cell_type": "code",
     "collapsed": false,
     "input": [
      "from fractions import Fraction\n",
      "from math import tan, pi, sqrt, log, atan\n",
      "fU=900 #MHz(Upper frequency)\n",
      "fL=450 #MHz(Lower frequency)\n",
      "c=3*10**8 #m/s(Speed of light)\n",
      "lamdaU=c/(fU*10**6) #m(Upper wavelength)\n",
      "lamdaL=c/(fL*10**6) #m(Lower wavelength)\n",
      "Exp_ratio=4 #expansion ratio\n",
      "a=log(Exp_ratio)/(2*pi) #rad**-1##rate of spiral\n",
      "Beta=atan(1/a*pi/180) #degree\n",
      "r0=lamdaU/4 #meter##minimum radius\n",
      "print \"Minimum radius = %0.1f cm\"%(r0*100)   \n",
      "R=lamdaL/4 #meter##minimum radius\n",
      "print \"Maximum radius = %0.1f cm \"%(R*100) \n",
      "fi_m=log(R/r0)/a #radian\n",
      "fi_m=fi_m*180/pi #degree\n",
      "print \"\u03a6m = %0.2f degree \"%(fi_m) \n",
      "N=1/2 #for \u03a6m=180 #degree\n",
      "print \"Number of turns, N is\",Fraction(N)"
     ],
     "language": "python",
     "metadata": {},
     "outputs": [
      {
       "output_type": "stream",
       "stream": "stdout",
       "text": [
        "Minimum radius = 8.3 cm\n",
        "Maximum radius = 16.7 cm \n",
        "\u03a6m = 180.00 degree \n",
        "Number of turns, N is 1/2\n"
       ]
      }
     ],
     "prompt_number": 34
    },
    {
     "cell_type": "heading",
     "level": 2,
     "metadata": {},
     "source": [
      "Example No. 10.10.1, page :10-49"
     ]
    },
    {
     "cell_type": "code",
     "collapsed": false,
     "input": [
      "from math import tan, pi, sqrt, log, atan\n",
      "Gain=8.5 #dB(Gain)\n",
      "tau=0.822;sigma=0.149 #for given gain\n",
      "alfa=2*atan((1-tau*180/pi)/4/sigma) #degree\n",
      "fL=54 #MHz(Lower frequency)\n",
      "fU=216 #MHz(Upper frequency)\n",
      "c=3*10**8 #m/s(Speed of light)\n",
      "lamdaU=c/(fU*10**6) #m(Upper wavelength)\n",
      "lamdaL=c/(fL*10**6) #m(Lower wavelength)\n",
      "l1=lamdaU/2 #m(Length of element1)\n",
      "lN=lamdaL/2 #m(Length of longest element)\n",
      "l2=l1/tau; l3=l2/tau; l4=l3/tau; l5=l4/tau; l6=l5/tau; l7=l6/tau; l8=l7/tau; l9=l8/tau #m(Length of elements)\n",
      "#Spacing between elements in meter\n",
      "d1=2*sigma*l1 \n",
      "d2=2*sigma*l2 \n",
      "d3=2*sigma*l3 \n",
      "d4=2*sigma*l4 \n",
      "d5=2*sigma*l5 \n",
      "d6=2*sigma*l6 \n",
      "d7=2*sigma*l7 \n",
      "d8=2*sigma*l8 \n",
      "d9=2*sigma*l9 \n",
      "d=d1+d2+d3+d4+d5+d6+d7+d8+d9 #meter(total spacing)\n",
      "print \"Length of longest element = %0.2f m\"%lN \n",
      "print \"Length of element1 = %0.3f m\"%l1\n",
      "print \"Length of element1 = %0.3f m\"%l2\n",
      "print \"Length of element1 = %0.3f m\"%l3\n",
      "print \"Length of element1 = %0.3f m\"%l4\n",
      "print \"Length of element1 = %0.3f m\"%l5\n",
      "print \"Length of element1 = %0.3f m\"%l6\n",
      "print \"Length of element1 = %0.3f m\"%l7\n",
      "print \"Length of element1 = %0.3f m\"%l8\n",
      "print \"Length of element1 = %0.3f m\\n\"%l9\n",
      "print \"Spacing of element1 = %0.3f m\" %d1\n",
      "print \"Spacing of element1 = %0.3f m\" %d2\n",
      "print \"Spacing of element1 = %0.3f m\" %d3\n",
      "print \"Spacing of element1 = %0.3f m\" %d4\n",
      "print \"Spacing of element1 = %0.3f m\" %d5\n",
      "print \"Spacing of element1 = %0.3f m\" %d6\n",
      "print \"Spacing of element1 = %0.3f m\" %d7\n",
      "print \"Spacing of element1 = %0.3f m\" %d8\n",
      "print \"Spacing of element1 = %0.3f m\" %d9\n",
      "print \"Total Spacing length = %0.3f m \"%d \n",
      "#Answer is not accurate in the book."
     ],
     "language": "python",
     "metadata": {},
     "outputs": [
      {
       "output_type": "stream",
       "stream": "stdout",
       "text": [
        "Length of longest element = 2.78 m\n",
        "Length of element1 = 0.694 m\n",
        "Length of element1 = 0.845 m\n",
        "Length of element1 = 1.028 m\n",
        "Length of element1 = 1.250 m\n",
        "Length of element1 = 1.521 m\n",
        "Length of element1 = 1.850 m\n",
        "Length of element1 = 2.251 m\n",
        "Length of element1 = 2.739 m\n",
        "Length of element1 = 3.332 m\n",
        "\n",
        "Spacing of element1 = 0.207 m\n",
        "Spacing of element1 = 0.252 m\n",
        "Spacing of element1 = 0.306 m\n",
        "Spacing of element1 = 0.373 m\n",
        "Spacing of element1 = 0.453 m\n",
        "Spacing of element1 = 0.551 m\n",
        "Spacing of element1 = 0.671 m\n",
        "Spacing of element1 = 0.816 m\n",
        "Spacing of element1 = 0.993 m\n",
        "Total Spacing length = 4.622 m \n"
       ]
      }
     ],
     "prompt_number": 40
    },
    {
     "cell_type": "heading",
     "level": 2,
     "metadata": {},
     "source": [
      "Example No. 10.10.2, page : 10-52"
     ]
    },
    {
     "cell_type": "code",
     "collapsed": false,
     "input": [
      "from math import tan, pi\n",
      "from numpy import array\n",
      "tau=0.895 #scale factor\n",
      "sigma=0.166 #(spacing factor)\n",
      "fU=30 #MHz(Upper frequency)\n",
      "fL=10 #MHz(Lower frequency)\n",
      "c=3*10**8 #m/s(Speed of light)\n",
      "lamdaU=c/(fU*10**6) #m(Upper wavelength)\n",
      "lamdaL=c/(fL*10**6) #m(Lower wavelength)\n",
      "l1=lamdaU/2 #m(Length of shortest element)\n",
      "print \"Length of shortest element, l1 = %0.2f meter \"%l1 \n",
      "#Length of element in meter\n",
      "l2=l1/tau; l3=l2/tau; l4=l3/tau; l4=l3/tau; l5=l4/tau; l6=l5/tau; l7=l6/tau; l8=l7/tau; l9=l8/tau;\n",
      "l10=l9/tau; l11=l10/tau #\n",
      "print \"\"\"Other elements length l2, l3, l4, l5, l6, l7, l8, l9, l10, l11 are :\n",
      "%0.2f, %0.2f, %0.2f, %0.2f, %0.2f, %0.2f, %0.2f, %0.2f, %0.2f, %0.2f meter respectively.\"\"\"%(l2,l3,l4,l5,l6,l7,l8,l9,l10,l11)\n",
      "alfa=17.97 #degree(angle)\n",
      "R1=(l1/2)/tan(alfa/2*pi/180) #m(Spacing between elements)\n",
      "R2=R1/tau; R3=R2/tau; R4=R3/tau; R4=R3/tau; R5=R4/tau; R6=R5/tau; R7=R6/tau; R8=R7/tau; R9=R8/tau; R10=R9/tau; R11=R10/tau #m\n",
      "print \"Spacing between elements R1, R2, R3, R4, R5, R6, R7, R8,R9, R10, R11 are : \"\n",
      "print \"%0.2f, %0.2f, %0.2f, %0.2f, %0.2f, %0.2f, %0.2f, %0.2f, %0.2f, %0.2f, %0.2f meter respectively.\"%(R1,R2,R3,R4,R5,R6,R7,R8,R9,R10,R11)\n",
      "#Answer is not accurate in the book."
     ],
     "language": "python",
     "metadata": {},
     "outputs": [
      {
       "output_type": "stream",
       "stream": "stdout",
       "text": [
        "Length of shortest element, l1 = 5.00 meter \n",
        "Other elements length l2, l3, l4, l5, l6, l7, l8, l9, l10, l11 are :\n",
        "5.59, 6.24, 6.97, 7.79, 8.71, 9.73, 10.87, 12.14, 13.57, 15.16 meter respectively.\n",
        "Spacing between elements R1, R2, R3, R4, R5, R6, R7, R8,R9, R10, R11 are : \n",
        "15.81, 17.67, 19.74, 22.05, 24.64, 27.53, 30.76, 34.37, 38.40, 42.91, 47.94 meter respectively.\n"
       ]
      }
     ],
     "prompt_number": 53
    }
   ],
   "metadata": {}
  }
 ]
}