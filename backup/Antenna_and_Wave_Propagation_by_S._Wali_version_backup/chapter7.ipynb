{
 "metadata": {
  "name": "",
  "signature": "sha256:8165b8e5dad1d709dff36c0fb8461bb25ed06730a63d035a743672c074cb35cf"
 },
 "nbformat": 3,
 "nbformat_minor": 0,
 "worksheets": [
  {
   "cells": [
    {
     "cell_type": "heading",
     "level": 1,
     "metadata": {},
     "source": [
      "Chapter07, Loop Antenna"
     ]
    },
    {
     "cell_type": "heading",
     "level": 2,
     "metadata": {},
     "source": [
      "Example No. 7.10.1, page : 7-16"
     ]
    },
    {
     "cell_type": "code",
     "collapsed": false,
     "input": [
      "import numpy as np\n",
      "A=1 #m\u00b2(Area of loop)\n",
      "N=400 #no. of turns\n",
      "Q=100 #Quality factor\n",
      "theta=60 #degree(angle)\n",
      "Erms=10 #\u00b5V/m(field strength)\n",
      "f=1 #MHz(tuned frequency)\n",
      "c=3*10**8 #m/s##Speed of light\n",
      "lamda=c/(f*10**6) #m(Wavelength)\n",
      "Vr=Q*2*np.pi*A*N*np.cos(theta*np.pi/180)*Erms*10**-6/lamda #V(reciever input voltage)\n",
      "print \"Input voltage to the receiver = %0.3f mV  \" %(Vr*1000)"
     ],
     "language": "python",
     "metadata": {},
     "outputs": [
      {
       "output_type": "stream",
       "stream": "stdout",
       "text": [
        "Input voltage to the receiver = 4.189 mV  \n"
       ]
      }
     ],
     "prompt_number": 3
    },
    {
     "cell_type": "heading",
     "level": 2,
     "metadata": {},
     "source": [
      "Example No. 7.10.2, page : 7-17"
     ]
    },
    {
     "cell_type": "code",
     "collapsed": false,
     "input": [
      "import numpy as np\n",
      "N=12 #no. of turns\n",
      "A=1 #m\u00b2(Area of loop)\n",
      "Erms=100 #\u00b5V/m(field strength)\n",
      "f=10 #MHz(tuned frequency)\n",
      "theta=0 #degree(angle)\n",
      "c=3*10**8 #m/s##Speed of light\n",
      "lamda=c/(f*10**6) #m(Wavelength)\n",
      "Vr=2*np.pi*A*N*np.cos(theta*np.pi/180)*Erms*10**-6/lamda #V(reciever input voltage)\n",
      "print \"Voltage induced in loop = %0.2f \u00b5V/m \" %(Vr*10**6) "
     ],
     "language": "python",
     "metadata": {},
     "outputs": [
      {
       "output_type": "stream",
       "stream": "stdout",
       "text": [
        "Voltage induced in loop = 251.33 \u00b5V/m \n"
       ]
      }
     ],
     "prompt_number": 4
    },
    {
     "cell_type": "heading",
     "level": 2,
     "metadata": {},
     "source": [
      "Example No. 7.10.3, page : 7-17"
     ]
    },
    {
     "cell_type": "code",
     "collapsed": false,
     "input": [
      "N=25 #no. of turns\n",
      "Vrms=150 #\u00b5V(emf induced)\n",
      "f=500 #kHz(tuned frequency)\n",
      "A=0.5**2 #m\u00b2(Area of loop)\n",
      "theta=0 #degree(angle)\n",
      "c=3*10**8 #m/s##Speed of light\n",
      "lamda=c/(f*10**3) #m(Wavelength)\n",
      "Erms=lamda/(2*np.pi*A*N*np.cos(theta*np.pi/180))*Vrms*10**-6 #V/m(maximum emf induced)\n",
      "print \"Field strength = %0.3f mV/m  \"%(Erms*10**3) "
     ],
     "language": "python",
     "metadata": {},
     "outputs": [
      {
       "output_type": "stream",
       "stream": "stdout",
       "text": [
        "Field strength = 2.292 mV/m  \n"
       ]
      }
     ],
     "prompt_number": 7
    },
    {
     "cell_type": "heading",
     "level": 2,
     "metadata": {},
     "source": [
      "Example No. 7.10.4, page : 7-17"
     ]
    },
    {
     "cell_type": "code",
     "collapsed": false,
     "input": [
      "N1=1.0 #no. of turns in primary\n",
      "N2=8.0 #no. of turns in secondary\n",
      "#a=lamda/25 \n",
      "aBYlamda=1.0/25 #(temporary calculation)\n",
      "#A=np.pi*a**2\n",
      "A_BY_lamda_sqr=np.pi*aBYlamda**2 #(temporary calculation)\n",
      "Rr1=31200*(N1*A_BY_lamda_sqr)**2 #\u03a9(Radiation resistance for single turn)\n",
      "print \"Radiation resistance for single turn loop = %0.4f \u03a9 \" %(Rr1) \n",
      "Rr2=31200*(N2*A_BY_lamda_sqr)**2 #\u03a9(Radiation resistance for 8 turn)\n",
      "print \"Radiation resistance for 8 turn loop = %0.2f \u03a9 \" %Rr2 "
     ],
     "language": "python",
     "metadata": {},
     "outputs": [
      {
       "output_type": "stream",
       "stream": "stdout",
       "text": [
        "Radiation resistance for single turn loop = 0.7883 \u03a9 \n",
        "Radiation resistance for 8 turn loop = 50.45 \u03a9 \n"
       ]
      }
     ],
     "prompt_number": 11
    },
    {
     "cell_type": "heading",
     "level": 2,
     "metadata": {},
     "source": [
      "Example No. 7.10.5, page : 7-18"
     ]
    },
    {
     "cell_type": "code",
     "collapsed": false,
     "input": [
      "from __future__ import division\n",
      "f=100 #MHz(Operating frequency)\n",
      "c=3*10**8 #m/s##Speed of light\n",
      "lamda=c/(f*10**6) #m(Wavelength)\n",
      "a=lamda/25 #m(radius)\n",
      "C=2*np.pi*a #m(Circumference)\n",
      "d=2*10**-4*lamda #m(Spacing)\n",
      "print \"For single turn : \" \n",
      "N=1 #n. of turns\n",
      "RL_BY_Rr=3430.0/(C**3*f**(3.5)*N*d) #(temporary calculation)\n",
      "K=1/(1+RL_BY_Rr)*100 #%(Radiation efficiency)\n",
      "print \"Radiation efficiency of single turn = %0.2f %%\" %K\n",
      "print \"For Eight turn : \" \n",
      "N=8 #no. of turns\n",
      "RL_BY_Rr=3430/(C**3*f**(3.5)*N*d) #(temporary calculation)\n",
      "K=1/(1+RL_BY_Rr)*100 #%(Radiation efficiency)\n",
      "print \"Radiation efficiency of eight turn = %0.2f %%\" % K"
     ],
     "language": "python",
     "metadata": {},
     "outputs": [
      {
       "output_type": "stream",
       "stream": "stdout",
       "text": [
        "For single turn : \n",
        "Radiation efficiency of single turn = 42.85 %\n",
        "For Eight turn : \n",
        "Radiation efficiency of eight turn = 85.71 %\n"
       ]
      }
     ],
     "prompt_number": 14
    },
    {
     "cell_type": "heading",
     "level": 2,
     "metadata": {},
     "source": [
      "Example No. 7.10.6, page : 7-19"
     ]
    },
    {
     "cell_type": "code",
     "collapsed": false,
     "input": [
      "from fractions import Fraction\n",
      "a=0.5 #m(radius)\n",
      "f=0.9 #MHz(OPerating frequency)\n",
      "c=3*10**8 #m/s##Speed of light\n",
      "lamda=c/(f*10**6) #m(wavelength)\n",
      "C=2*np.pi*a #m(Circumference)\n",
      "if C/lamda<1/3:\n",
      "    D=3/2 #Directivity\n",
      "elif C/lamda>1/3:\n",
      "    D=0.682*C/lamda #Directivity\n",
      "\n",
      "print \"Directivity :\" ,Fraction(D)"
     ],
     "language": "python",
     "metadata": {},
     "outputs": [
      {
       "output_type": "stream",
       "stream": "stdout",
       "text": [
        "Directivity : 3/2\n"
       ]
      }
     ],
     "prompt_number": 18
    }
   ],
   "metadata": {}
  }
 ]
}