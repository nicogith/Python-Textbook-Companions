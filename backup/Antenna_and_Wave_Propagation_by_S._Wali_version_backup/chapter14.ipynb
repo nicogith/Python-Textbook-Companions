{
 "metadata": {
  "name": "",
  "signature": "sha256:0174690c77909c04b196794e86400339cc9b848d5d1c10d76a582a253b10cfc2"
 },
 "nbformat": 3,
 "nbformat_minor": 0,
 "worksheets": [
  {
   "cells": [
    {
     "cell_type": "heading",
     "level": 1,
     "metadata": {},
     "source": [
      "Chapter14, ground Wave Propagation"
     ]
    },
    {
     "cell_type": "heading",
     "level": 2,
     "metadata": {},
     "source": [
      "Example No. 14.6.1, page : 14-11"
     ]
    },
    {
     "cell_type": "code",
     "collapsed": false,
     "input": [
      "from math import log10\n",
      "d=36000 #km(height of satellite)\n",
      "f=4000 #MHz(frequency)\n",
      "GT=20 #dB(Transmitter gain)\n",
      "GR=40 #dB(Reciever gain)\n",
      "PT=200 #W(Transmitted power)\n",
      "PT=10*log10(PT) #dB(Transmitted power)\n",
      "print \"Part (i):\" \n",
      "Ls=32.44+20*log10(f)+20*log10(d) #dB(Free space transmission loss)\n",
      "print \"\\tFree space transmission loss = %0.2f dB \"%Ls \n",
      "print \"Part (ii):\" \n",
      "PT=200 #W(Transmitted power)\n",
      "PT_dB=10*log10(PT) #dB(Transmitted power)\n",
      "PR_dB=PT_dB+GT+GR-Ls #dB(Recieved power)\n",
      "PR=10**(PR_dB/10) #W(Recieved power)\n",
      "print \"\\tReceived power = %0.2f pW  \"%(PR*10**12)"
     ],
     "language": "python",
     "metadata": {},
     "outputs": [
      {
       "output_type": "stream",
       "stream": "stdout",
       "text": [
        "Part (i):\n",
        "\tFree space transmission loss = 195.61 dB \n",
        "Part (ii):\n",
        "\tReceived power = 5.50 pW  \n"
       ]
      }
     ],
     "prompt_number": 1
    },
    {
     "cell_type": "heading",
     "level": 2,
     "metadata": {},
     "source": [
      "Example No. 14.6.2, page : 14-12"
     ]
    },
    {
     "cell_type": "code",
     "collapsed": false,
     "input": [
      "from math import log10, sqrt, pi\n",
      "\n",
      "f=150 #MHz(frequency)\n",
      "c=3*10**8 #m/s(speed of light)\n",
      "GT=1.64 #dB(Transmitter gain)\n",
      "PT=20 #W(Transmitted power)\n",
      "d=50 #km(distance)\n",
      "lamda=c/(f*10**6) #m(Wavelength)\n",
      "E=sqrt(30*GT*PT)/(d*1000) #V/m(emf induced)\n",
      "le=lamda/pi #m(Effective length)\n",
      "Voc=E*le #V/m(Open circuit voltage)\n",
      "print \"Open circuit voltage = %0.2f micro Volt \"%(Voc*10**6) "
     ],
     "language": "python",
     "metadata": {},
     "outputs": [
      {
       "output_type": "stream",
       "stream": "stdout",
       "text": [
        "Open circuit voltage = 399.40 micro Volt \n"
       ]
      }
     ],
     "prompt_number": 4
    },
    {
     "cell_type": "heading",
     "level": 2,
     "metadata": {},
     "source": [
      "Example No. 14.10.1, page : 14-24"
     ]
    },
    {
     "cell_type": "code",
     "collapsed": false,
     "input": [
      "from math import log10, sqrt, pi\n",
      "\n",
      "ht=100 #m(transmitter height)\n",
      "hr=100 #m(receiver height)\n",
      "d=3.57*(sqrt(ht)+sqrt(hr)) #km(Range)\n",
      "print \"Range of space wave propagation = %0.2f km \"%d "
     ],
     "language": "python",
     "metadata": {},
     "outputs": [
      {
       "output_type": "stream",
       "stream": "stdout",
       "text": [
        "Range of space wave propagation = 71.40 km \n"
       ]
      }
     ],
     "prompt_number": 5
    },
    {
     "cell_type": "heading",
     "level": 2,
     "metadata": {},
     "source": [
      "Example No. 14.10.2, page : 14-27"
     ]
    },
    {
     "cell_type": "code",
     "collapsed": false,
     "input": [
      "from math import sqrt, pi\n",
      "\n",
      "ht=100 #feet(transmitter height)\n",
      "hr=50 #feet(receiver height)\n",
      "d=1.4142*(sqrt(ht)+sqrt(hr)) #miles(Range)\n",
      "print \"Radio horizon = %0.2f miles \"%d "
     ],
     "language": "python",
     "metadata": {},
     "outputs": [
      {
       "output_type": "stream",
       "stream": "stdout",
       "text": [
        "Radio horizon = 24.14 miles \n"
       ]
      }
     ],
     "prompt_number": 6
    },
    {
     "cell_type": "heading",
     "level": 2,
     "metadata": {},
     "source": [
      "Example No. 14.10.3, page : 14-28"
     ]
    },
    {
     "cell_type": "code",
     "collapsed": false,
     "input": [
      "from math import sqrt\n",
      "ht=80 #m(transmitter height)\n",
      "hr=50 #m(receiver height)\n",
      "d=4.12*(sqrt(ht)+sqrt(hr)) #km(Range)\n",
      "print \"Maximum distance = %0.2f km  \"%d "
     ],
     "language": "python",
     "metadata": {},
     "outputs": [
      {
       "output_type": "stream",
       "stream": "stdout",
       "text": [
        "Maximum distance = 65.98 km  \n"
       ]
      }
     ],
     "prompt_number": 7
    },
    {
     "cell_type": "heading",
     "level": 2,
     "metadata": {},
     "source": [
      "Example No. 14.10.4, page : 14-28"
     ]
    },
    {
     "cell_type": "code",
     "collapsed": false,
     "input": [
      "from math import sqrt\n",
      "ht=100 #m(transmitter height)\n",
      "d=80 #km(receiver height)\n",
      "hr=(d/4.12-sqrt(ht))**2 #m(range)\n",
      "print \"Required height of receiving antenna = %0.2f meter \"%hr "
     ],
     "language": "python",
     "metadata": {},
     "outputs": [
      {
       "output_type": "stream",
       "stream": "stdout",
       "text": [
        "Required height of receiving antenna = 88.69 meter \n"
       ]
      }
     ],
     "prompt_number": 8
    },
    {
     "cell_type": "heading",
     "level": 2,
     "metadata": {},
     "source": [
      "Example No. 14.10.5, page : 14-28"
     ]
    },
    {
     "cell_type": "code",
     "collapsed": false,
     "input": [
      "ht=100 #m(transmitter height)\n",
      "d=4.12*sqrt(ht) #km(Horizon distance)\n",
      "print \"Horizon distance = %0.2f km \"%d "
     ],
     "language": "python",
     "metadata": {},
     "outputs": [
      {
       "output_type": "stream",
       "stream": "stdout",
       "text": [
        "Horizon distance = 41.20 km \n"
       ]
      }
     ],
     "prompt_number": 9
    },
    {
     "cell_type": "heading",
     "level": 2,
     "metadata": {},
     "source": [
      "Example No. 14.10.6, page : 14-36"
     ]
    },
    {
     "cell_type": "code",
     "collapsed": false,
     "input": [
      "from math import sqrt\n",
      "P=35 #W(Transmitter power\n",
      "ht=45 #m(transmitter height)\n",
      "hr=25 #m(receiver height)\n",
      "f=90 #MHz(frequency)\n",
      "c=3*10**8 #m/s(Speed of light)\n",
      "d=4.12*(sqrt(ht)+sqrt(hr)) #km(line of sight distance)\n",
      "print \"Distance of line of sight communication = %0.2f km  \"%d \n",
      "lamda=c/(f*10**6) #m(Wavelength)\n",
      "ER=88*sqrt(P)*ht*hr/(lamda*(d*1000)**2) #V/m(Field strength)\n",
      "print \"Field strength = %0.2f micro Volt/meter \"%(ER*10**6) \n",
      "#Answer is wrong in the textbook."
     ],
     "language": "python",
     "metadata": {},
     "outputs": [
      {
       "output_type": "stream",
       "stream": "stdout",
       "text": [
        "Distance of line of sight communication = 48.24 km  \n",
        "Field strength = 83.90 micro Volt/meter \n"
       ]
      }
     ],
     "prompt_number": 11
    }
   ],
   "metadata": {}
  }
 ]
}