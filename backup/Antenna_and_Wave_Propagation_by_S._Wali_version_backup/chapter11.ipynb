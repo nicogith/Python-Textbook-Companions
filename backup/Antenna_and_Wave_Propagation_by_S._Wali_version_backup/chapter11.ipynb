{
 "metadata": {
  "name": "",
  "signature": "sha256:3b7be046ef74bb4eda8d19b127e9471df469da2a70e7c694126d716d811cee71"
 },
 "nbformat": 3,
 "nbformat_minor": 0,
 "worksheets": [
  {
   "cells": [
    {
     "cell_type": "heading",
     "level": 1,
     "metadata": {},
     "source": [
      "Chapter11, Microstrip Antennas"
     ]
    },
    {
     "cell_type": "heading",
     "level": 2,
     "metadata": {},
     "source": [
      "Example No. 11.9.1, page : 11-18"
     ]
    },
    {
     "cell_type": "code",
     "collapsed": false,
     "input": [
      "from math import sqrt\n",
      "from __future__ import division\n",
      "fr=10 #GHz(center frequency)\n",
      "fr=fr*10**9 #Hz(center frequency)\n",
      "epsilon_r=10.2 #(constant)\n",
      "h=0.127 #cm(height of sustrate)\n",
      "c=3*10**10 #cm/s(Speed of light)\n",
      "W=c/2/fr*sqrt(2/(epsilon_r+1)) #cm(Physical dimension)\n",
      "epsilon_reff=(epsilon_r+1)/2+(epsilon_r-1)/2*(1+12*h/W)**(-1/2) #(effective constant)\n",
      "delta_L=h*0.412*(epsilon_reff+0.3)*(W/h+0.264)/((epsilon_reff-0.258)*(W/h+0.8)) #cm(distance)\n",
      "L=c/2/fr/sqrt(epsilon_reff)-2*delta_L #cm(distance)\n",
      "print \"Design values of W & L are : %0.3f & %0.4f cm \"%(W,L) "
     ],
     "language": "python",
     "metadata": {},
     "outputs": [
      {
       "output_type": "stream",
       "stream": "stdout",
       "text": [
        "Design values of W & L are : 0.634 & 0.4255 cm \n"
       ]
      }
     ],
     "prompt_number": 5
    }
   ],
   "metadata": {}
  }
 ]
}