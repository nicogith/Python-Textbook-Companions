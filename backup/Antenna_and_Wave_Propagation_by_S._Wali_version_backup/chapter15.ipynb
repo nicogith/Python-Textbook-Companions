{
 "metadata": {
  "name": "",
  "signature": "sha256:f6acbba448e01b02069f788ecb787623745617a1524961607409e2c2ace0469f"
 },
 "nbformat": 3,
 "nbformat_minor": 0,
 "worksheets": [
  {
   "cells": [
    {
     "cell_type": "heading",
     "level": 1,
     "metadata": {},
     "source": [
      "Chapter15, Ionospheric Propagation"
     ]
    },
    {
     "cell_type": "heading",
     "level": 2,
     "metadata": {},
     "source": [
      "Example No. 15.8.1, page : 15-19"
     ]
    },
    {
     "cell_type": "code",
     "collapsed": false,
     "input": [
      "fc_E=2.5 #MHz(critical frequency of E-layer)\n",
      "fc_F=8.4 #MHz(critical frequency of F-layer)\n",
      "print \"For E-layer : \" \n",
      "Nm=(fc_E*10**6)**2/81 #per m**3(Maximum electron density)\n",
      "print \"Maximum electron density = %0.4e per m**3 \"%Nm \n",
      "print \"For F-layer : \" \n",
      "Nm=(fc_F*10**6)**2/81 #per m**3(Maximum electron density)\n",
      "print \"Maximum electron density = %0.4e per m**3 \"%Nm \n"
     ],
     "language": "python",
     "metadata": {},
     "outputs": [
      {
       "output_type": "stream",
       "stream": "stdout",
       "text": [
        "For E-layer : \n",
        "Maximum electron density = 7.7160e+10 per m**3 \n",
        "For F-layer : \n",
        "Maximum electron density = 8.7111e+11 per m**3 \n"
       ]
      }
     ],
     "prompt_number": 2
    },
    {
     "cell_type": "heading",
     "level": 2,
     "metadata": {},
     "source": [
      "Example No. 15.8.2, page : 15-19"
     ]
    },
    {
     "cell_type": "code",
     "collapsed": false,
     "input": [
      "from math import sqrt\n",
      "Nm_D=400 #electron/cm**3(Maximum electron density)\n",
      "Nm_E=5*10**5 #electron/cm**3(Maximum electron density)\n",
      "Nm_F=2*10**6 #electron/cm**3(Maximum electron density)\n",
      "fc_D=9*sqrt(Nm_D) #kHz(critical frequency of D-layer)\n",
      "print \"Critical frequency for D-layer = %.2f kHz \"%fc_D \n",
      "fc_E=9*sqrt(Nm_E) #kHz(critical frequency of E-layer)\n",
      "print \"Critical frequency for E-layer = %0.3f MHz  \"%(fc_E/1000)\n",
      "fc_F=9*sqrt(Nm_F) #kHz(critical frequency of F-layer)\n",
      "print \"Critical frequency for F-layer = %0.1f MHz \"%(fc_F/1000) "
     ],
     "language": "python",
     "metadata": {},
     "outputs": [
      {
       "output_type": "stream",
       "stream": "stdout",
       "text": [
        "Critical frequency for D-layer = 180.00 kHz \n",
        "Critical frequency for E-layer = 6.364 MHz  \n",
        "Critical frequency for F-layer = 12.7 MHz \n"
       ]
      }
     ],
     "prompt_number": 6
    },
    {
     "cell_type": "heading",
     "level": 2,
     "metadata": {},
     "source": [
      "Example No. 15.8.3, page : 15-19"
     ]
    },
    {
     "cell_type": "code",
     "collapsed": false,
     "input": [
      "from math import sqrt\n",
      "Eta=0.5 #(refractive index)\n",
      "N=400 #electron/cm**3(Electron density)\n",
      "f=sqrt(81*N/(1-Eta**2)) #kHz(frequency)\n",
      "print \"Frequency = %0.2f kHz \" %f "
     ],
     "language": "python",
     "metadata": {},
     "outputs": [
      {
       "output_type": "stream",
       "stream": "stdout",
       "text": [
        "Frequency = 207.85 kHz \n"
       ]
      }
     ],
     "prompt_number": 7
    },
    {
     "cell_type": "heading",
     "level": 2,
     "metadata": {},
     "source": [
      "Example No. 15.9.1, page : 15-22"
     ]
    },
    {
     "cell_type": "code",
     "collapsed": false,
     "input": [
      "T=5 #milli-seconds(time period)\n",
      "c=3*10**8 #m/s#/speed of light\n",
      "H=1.0/2*c*T*10**-3 #m(Virtual height)\n",
      "print \"Virtual height = %0.2e km  \" %(H/1000) "
     ],
     "language": "python",
     "metadata": {},
     "outputs": [
      {
       "output_type": "stream",
       "stream": "stdout",
       "text": [
        "Virtual height = 7.50E+02 km  \n"
       ]
      }
     ],
     "prompt_number": 14
    },
    {
     "cell_type": "heading",
     "level": 2,
     "metadata": {},
     "source": [
      "Example No. 15.12.1, page : 15-26"
     ]
    },
    {
     "cell_type": "code",
     "collapsed": false,
     "input": [
      "from math import sqrt\n",
      "d=2000 #km\n",
      "H=200 #km\n",
      "fc=6 #MHz\n",
      "f_MUF=fc*sqrt(1+(d/2/H)**2) #MHz\n",
      "print \"MUF = %0.3f MHz \" %f_MUF "
     ],
     "language": "python",
     "metadata": {},
     "outputs": [
      {
       "output_type": "stream",
       "stream": "stdout",
       "text": [
        "MUF = 30.594 MHz \n"
       ]
      }
     ],
     "prompt_number": 16
    },
    {
     "cell_type": "heading",
     "level": 2,
     "metadata": {},
     "source": [
      "Example No. 15.13.1, page : 15-29"
     ]
    },
    {
     "cell_type": "code",
     "collapsed": false,
     "input": [
      "from math import sqrt\n",
      "Eta=0.9 #refractive index\n",
      "f_MUF=10 #MHz\n",
      "H=400 #km\n",
      "Nm=(1-Eta**2)*(f_MUF*10**6)**2/81 #per m**3\n",
      "fc=9*sqrt(Nm) #Hz\n",
      "Dskip=2*H*sqrt((f_MUF*10**6/fc)**2-1) #km\n",
      "print \"Skip distance or range = %0.2f km \" %Dskip "
     ],
     "language": "python",
     "metadata": {},
     "outputs": [
      {
       "output_type": "stream",
       "stream": "stdout",
       "text": [
        "Skip distance or range = 1651.79 km \n"
       ]
      }
     ],
     "prompt_number": 17
    }
   ],
   "metadata": {}
  }
 ]
}