{
 "metadata": {
  "name": "",
  "signature": "sha256:4d6e811d421f337f1031f361be319cf058aca6316009f472b471c43a8dde51c6"
 },
 "nbformat": 3,
 "nbformat_minor": 0,
 "worksheets": [
  {
   "cells": [
    {
     "cell_type": "heading",
     "level": 1,
     "metadata": {},
     "source": [
      "Chapter12, Reflector Antennas"
     ]
    },
    {
     "cell_type": "heading",
     "level": 2,
     "metadata": {},
     "source": [
      "Example No. 12.9.1, page : 12-21"
     ]
    },
    {
     "cell_type": "code",
     "collapsed": false,
     "input": [
      "from __future__ import division\n",
      "from math import log10\n",
      "D=2 #m(Diameter)\n",
      "f=6000 #MHz(Frequency)\n",
      "c=3*10**8 #m/s##speed of light\n",
      "lamda=c/(f*10**6) #m(Wavelength)\n",
      "FNBW=140*lamda/D #degree\n",
      "print \"First null beam width, FNBW = %0.1f degree \"%FNBW \n",
      "GP=6*(D/lamda)**2 #unitless(Power gain)\n",
      "GP_dB=10*log10(GP) #dB(Power gain)\n",
      "print \"Power Gain = %0.2f dB\"%GP_dB\n",
      "#Ans in the book is not accurate."
     ],
     "language": "python",
     "metadata": {},
     "outputs": [
      {
       "output_type": "stream",
       "stream": "stdout",
       "text": [
        "First null beam width, FNBW = 3.5 degree \n",
        "Power Gain = 39.82 dB\n"
       ]
      }
     ],
     "prompt_number": 3
    },
    {
     "cell_type": "heading",
     "level": 2,
     "metadata": {},
     "source": [
      "Example No. 12.9.2, page : 12-22"
     ]
    },
    {
     "cell_type": "code",
     "collapsed": false,
     "input": [
      "from math import log10, sqrt\n",
      "\n",
      "GP=1000 #unitless(Power gain)\n",
      "lamda=10 #cm(Wavelength)\n",
      "D=sqrt(GP/6)*(lamda/100) #m(Diameter)\n",
      "print \"Diameter of mouth = %0.2f meter\" %D\n",
      "HPBW=58*(lamda/100)/D #degree(HPBW)\n",
      "print \"Half power beam width, HPBW = %0.2f degree\"%HPBW"
     ],
     "language": "python",
     "metadata": {},
     "outputs": [
      {
       "output_type": "stream",
       "stream": "stdout",
       "text": [
        "Diameter of mouth = 1.29 meter\n",
        "Half power beam width, HPBW = 4.49 degree\n"
       ]
      }
     ],
     "prompt_number": 6
    },
    {
     "cell_type": "heading",
     "level": 2,
     "metadata": {},
     "source": [
      "Example No. 12.9.3, page : 12-22"
     ]
    },
    {
     "cell_type": "code",
     "collapsed": false,
     "input": [
      "from math import log10, sqrt, pi\n",
      "D=6 #meter(Diameter)\n",
      "f=10 #GHz(Frequency)\n",
      "c=3*10**8 #m/s##speed of light\n",
      "lamda=c/(f*10**9) #m(Wavelength)\n",
      "GP=6*(D/lamda)**2 #unitless(Power gain)\n",
      "GP_dB=10*log10(GP) #dB(Power gain)\n",
      "print \"Gain = %0.2f dB \"%GP_dB\n",
      "FNBW=140*lamda/D #degree(FNBW)\n",
      "print \"FNBW = %0.2f degree \"%FNBW \n",
      "HPBW=58*lamda/D #degree(HPBW)\n",
      "print \"HPBW = %0.2f degree \"%HPBW \n",
      "K=0.65 #constant\n",
      "Ao=K*pi/4*D**2 #m\u00b2(Capture area)\n",
      "print \"Capture area = %0.2f m\u00b2 \"%Ao "
     ],
     "language": "python",
     "metadata": {},
     "outputs": [
      {
       "output_type": "stream",
       "stream": "stdout",
       "text": [
        "Gain = 53.80 dB \n",
        "FNBW = 0.70 degree \n",
        "HPBW = 0.29 degree \n",
        "Capture area = 18.38 m\u00b2 \n"
       ]
      }
     ],
     "prompt_number": 9
    }
   ],
   "metadata": {}
  }
 ]
}