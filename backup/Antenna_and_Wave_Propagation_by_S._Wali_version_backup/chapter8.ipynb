{
 "metadata": {
  "name": "",
  "signature": "sha256:6e71dd92d1b17d959b3f4a36646e163cb828dba9f629a380a86a078783aa8586"
 },
 "nbformat": 3,
 "nbformat_minor": 0,
 "worksheets": [
  {
   "cells": [
    {
     "cell_type": "heading",
     "level": 1,
     "metadata": {},
     "source": [
      "Chapter8, Slot Antenna"
     ]
    },
    {
     "cell_type": "heading",
     "level": 2,
     "metadata": {},
     "source": [
      "Example No. 8.3.1, page : 8-3"
     ]
    },
    {
     "cell_type": "code",
     "collapsed": false,
     "input": [
      "from math import pi\n",
      "import numpy as np\n",
      "Zcs=73+1J*42.5 #\u00ce\u00a9(Impedence of complementry structure)\n",
      "Eta=120*pi #(Constant for free space)\n",
      "ZS=Eta**2/4/Zcs #\u00ce\u00a9(Input Impedence)\n",
      "print \"Input impedence =\",np.around(ZS),\"ohm\"\n",
      "#At resonance\n",
      "Zcs=73 #\u00ce\u00a9(Impedence of complementry structure)\n",
      "Eta=120*pi #(Constant for free space)\n",
      "ZS=Eta**2/4/Zcs #\u00ce\u00a9(Input Impedence)\n",
      "print \"At resonance, Input impedence = %0.2f ohm\"%ZS\n",
      "print \"ZS can be rounded to 500 \u00ce\u00a9\""
     ],
     "language": "python",
     "metadata": {},
     "outputs": [
      {
       "output_type": "stream",
       "stream": "stdout",
       "text": [
        "Input impedence = (364-212j) ohm\n",
        "At resonance, Input impedence = 486.72 ohm\n",
        "ZS can be rounded to 500 \u00ce\u00a9\n"
       ]
      }
     ],
     "prompt_number": 21
    }
   ],
   "metadata": {}
  }
 ]
}