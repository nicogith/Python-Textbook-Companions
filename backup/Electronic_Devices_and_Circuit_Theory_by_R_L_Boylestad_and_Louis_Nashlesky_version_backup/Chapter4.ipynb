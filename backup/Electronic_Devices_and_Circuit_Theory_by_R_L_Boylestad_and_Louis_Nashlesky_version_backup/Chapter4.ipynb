{
 "cells": [
  {
   "cell_type": "markdown",
   "metadata": {},
   "source": [
    "# Chapter 4- DC Biasing - BJTs"
   ]
  },
  {
   "cell_type": "markdown",
   "metadata": {},
   "source": [
    "## Example-4.1   Page No-165"
   ]
  },
  {
   "cell_type": "code",
   "execution_count": 4,
   "metadata": {
    "collapsed": false
   },
   "outputs": [
    {
     "name": "stdout",
     "output_type": "stream",
     "text": [
      "a.Base current Ibq= 47.08 microA and Collector current Icq= 2.35 mA\n",
      "b.Collector-Emitter voltage Vceq= 6.82 V\n",
      "c.Base voltage Vb= 0.7 V and Collector Voltage Vc= 6.82 V\n",
      "d.Base-Collector voltage Vbcq= -6.12 V\n"
     ]
    }
   ],
   "source": [
    "#from the given data:\n",
    "Vcc=12.0                   #supply voltage in volts\n",
    "Vbe=0.7                    #base emitter voltage in volts\n",
    "Rb=240.0                   #base Resistance in kohm\n",
    "B=50\n",
    "Rc=2.2                     #collector resistance in kohm\n",
    "\n",
    "#Calculation:\n",
    "Ib=(Vcc-Vbe)/Rb            #base current in microA\n",
    "Ic=B*Ib                    #collector current in mA\n",
    "Vce=Vcc-Ic*Rc              #collector-emitter voltage in volts\n",
    "Vb=Vbe                     #base volate in volts\n",
    "Vc=Vce                     #collector voltage in volts\n",
    "Vbc=Vb-Vc                  #bse-collector voltage in volts\n",
    "\n",
    "print \"a.Base current Ibq=\",round(Ib*1000,2),\"microA and Collector current Icq=\",round(Ic,2),\"mA\"\n",
    "print \"b.Collector-Emitter voltage Vceq=\",round(Vce,2),\"V\"\n",
    "print \"c.Base voltage Vb=\",Vb,\"V and Collector Voltage Vc=\",round(Vc,2),\"V\"\n",
    "print \"d.Base-Collector voltage Vbcq=\",round(Vbc,2),\"V\"\n"
   ]
  },
  {
   "cell_type": "markdown",
   "metadata": {
    "collapsed": true
   },
   "source": [
    "## Example-4.2   Page No-167"
   ]
  },
  {
   "cell_type": "code",
   "execution_count": 2,
   "metadata": {
    "collapsed": false
   },
   "outputs": [
    {
     "name": "stdout",
     "output_type": "stream",
     "text": [
      "The current saturation level= 5.45 mA\n"
     ]
    }
   ],
   "source": [
    "#from the given data:\n",
    "Vcc=12.0                   #supply voltage in volts\n",
    "Rc=2.2                     #collector resistance in kohm\n",
    "\n",
    "Icsat= Vcc/Rc              #saturation level\n",
    "print \"The current saturation level=\",round(Icsat,2),\"mA\""
   ]
  },
  {
   "cell_type": "markdown",
   "metadata": {},
   "source": [
    "## Example-4.3   Page No-170"
   ]
  },
  {
   "cell_type": "code",
   "execution_count": 10,
   "metadata": {
    "collapsed": false
   },
   "outputs": [
    {
     "name": "stdout",
     "output_type": "stream",
     "text": [
      "Collector Resistance= 2.0 Kohm\n",
      "Base Resistance= 772.0 Kohm\n"
     ]
    }
   ],
   "source": [
    "#from the given figure:\n",
    "Vcc=Vce=20.0               #supply anmd collector emitter voltage in volts\n",
    "Ic=10                      #collector current in mA at Vce=0V\n",
    "Vbe=0.7                    #base emitter voltage in Volts\n",
    "Ib=0.025                   #base current in mA\n",
    "#calculations:\n",
    "Rc=Vcc/Ic\n",
    "Rb=(Vcc-Vbe)/(Ib)\n",
    "print \"Collector Resistance=\",Rc,\"Kohm\"\n",
    "print \"Base Resistance=\",Rb,\"Kohm\""
   ]
  },
  {
   "cell_type": "markdown",
   "metadata": {},
   "source": [
    "## Example-4.4   Page No-172"
   ]
  },
  {
   "cell_type": "code",
   "execution_count": 20,
   "metadata": {
    "collapsed": false
   },
   "outputs": [
    {
     "name": "stdout",
     "output_type": "stream",
     "text": [
      "Base Current= 40.12 microA\n",
      "collector Current= 2.01 mA\n",
      "Collector Emitter voltage= 13.98 V\n",
      "Collector voltage= 15.99 V\n",
      "emitter voltage= 2.01 V\n",
      "Base voltage= 2.71 V\n",
      "Base Collector voltage= -13.28 V\n"
     ]
    }
   ],
   "source": [
    "#from the given figure:\n",
    "Vcc=20.0                   #supply voltage in volts\n",
    "Rb=430.0                   #base Resistance in kohm\n",
    "B=50\n",
    "Rc=2.0                     #collector resistance in kohm\n",
    "Re=1.0                     #emitter resistance in kohm\n",
    "\n",
    "#calculation:\n",
    "\n",
    "Ib=(Vcc-Vbe)/(Rb+(B+1)*Re)\n",
    "Ic=B*Ib\n",
    "Vce=Vcc-(Rc+Re)*Ic\n",
    "Vc=Vcc-Ic*Rc\n",
    "Ve=Vc-Vce\n",
    "Vb=Vbe+Ve\n",
    "Vbc=Vb-Vc\n",
    "\n",
    "print \"Base Current=\",round(Ib*1000,2),\"microA\"\n",
    "print \"collector Current=\",round(Ic,2),\"mA\"\n",
    "print \"Collector Emitter voltage=\",round(Vce,2),\"V\"\n",
    "print \"Collector voltage=\",round(Vc,2),\"V\"\n",
    "print \"emitter voltage=\",round(Ve,2),\"V\"\n",
    "print \"Base voltage=\",round(Vb,2),\"V\"\n",
    "print \"Base Collector voltage=\",round(Vbc,2),\"V\""
   ]
  },
  {
   "cell_type": "markdown",
   "metadata": {},
   "source": [
    "## Example-4.6   Page No-174"
   ]
  },
  {
   "cell_type": "code",
   "execution_count": 19,
   "metadata": {
    "collapsed": false
   },
   "outputs": [
    {
     "name": "stdout",
     "output_type": "stream",
     "text": [
      "The current saturation level= 6.67 mA\n"
     ]
    }
   ],
   "source": [
    "#from the given figure:\n",
    "Vcc=20.0                   #supply voltage in volts\n",
    "Rc=2.0                     #collector resistance in kohm\n",
    "Re=1.0                     #emitter resistance in kohm\n",
    "\n",
    "Icsat= Vcc/(Rc+Re)        #saturation level\n",
    "print \"The current saturation level=\",round(Icsat,2),\"mA\""
   ]
  },
  {
   "cell_type": "markdown",
   "metadata": {},
   "source": [
    "## Example-4.8   Page No-178"
   ]
  },
  {
   "cell_type": "code",
   "execution_count": 23,
   "metadata": {
    "collapsed": false
   },
   "outputs": [
    {
     "name": "stdout",
     "output_type": "stream",
     "text": [
      "collector Current= 0.84 mA\n",
      "Collector Emitter voltage= 12.36 V\n"
     ]
    }
   ],
   "source": [
    "#from the given figure:\n",
    "Vcc=22.0                   #supply voltage in volts\n",
    "R1=39.0                    #base Resistance in kohm\n",
    "R2=3.9                     #base Resistance in kohm\n",
    "B=100\n",
    "Rc=10.0                     #collector resistance in kohm\n",
    "Re=1.5                      #emitter resistance in kohm\n",
    "Vbe=0.7                    #base emitter voltage in Volts\n",
    "\n",
    "#calculation:\n",
    "Rth=(R1*R2)/(R1+R2)         #Thevenin resistance in kohm\n",
    "Eth=(R2*Vcc)/(R1+R2)        #Thevenin voltage in Volts\n",
    "Ib=(Eth-Vbe)/(Rth+(B+1)*Re)  #base current in microA\n",
    "Ic=B*Ib                      #collector current in mA\n",
    "Vce=Vcc-Ic*(Rc+Re)           #collector emitter voltage in Volts\n",
    "\n",
    "\n",
    "print \"collector Current=\",round(Ic,2),\"mA\"\n",
    "print \"Collector Emitter voltage=\",round(Vce,2),\"V\""
   ]
  },
  {
   "cell_type": "markdown",
   "metadata": {},
   "source": [
    "## Example-4.10   Page No-180"
   ]
  },
  {
   "cell_type": "code",
   "execution_count": 24,
   "metadata": {
    "collapsed": false
   },
   "outputs": [
    {
     "name": "stdout",
     "output_type": "stream",
     "text": [
      "collector Current= 0.81 mA\n",
      "Collector Emitter voltage= 12.66 V\n"
     ]
    }
   ],
   "source": [
    "#from the given figure:\n",
    "Vcc=22.0                   #supply voltage in volts\n",
    "R1=39.0                    #base Resistance in kohm\n",
    "R2=3.9                     #base Resistance in kohm\n",
    "B=50\n",
    "Rc=10.0                     #collector resistance in kohm\n",
    "Re=1.5                      #emitter resistance in kohm\n",
    "Vbe=0.7                    #base emitter voltage in Volts\n",
    "\n",
    "#calculation:\n",
    "Rth=(R1*R2)/(R1+R2)         #Thevenin resistance in kohm\n",
    "Eth=(R2*Vcc)/(R1+R2)        #Thevenin voltage in Volts\n",
    "Ib=(Eth-Vbe)/(Rth+(B+1)*Re)  #base current in microA\n",
    "Ic=B*Ib                      #collector current in mA\n",
    "Vce=Vcc-Ic*(Rc+Re)           #collector emitter voltage in Volts\n",
    "\n",
    "\n",
    "print \"collector Current=\",round(Ic,2),\"mA\"\n",
    "print \"Collector Emitter voltage=\",round(Vce,2),\"V\""
   ]
  },
  {
   "cell_type": "markdown",
   "metadata": {},
   "source": [
    "## Example-4.11   Page No-181"
   ]
  },
  {
   "cell_type": "code",
   "execution_count": 47,
   "metadata": {
    "collapsed": false
   },
   "outputs": [
    {
     "name": "stdout",
     "output_type": "stream",
     "text": [
      "Exact Analysis:\n",
      "collector Current= 1.98 mA\n",
      "Collector Emitter voltage= 4.55 V\n",
      "\n",
      "Approximate Analysis:\n",
      "collector Current= 2.59 mA\n",
      "Collector Emitter voltage= 3.77 V\n"
     ]
    }
   ],
   "source": [
    "#from the given figure:\n",
    "#EXACT ANALYSIS\n",
    "Vcc=18.0                   #supply voltage in volts\n",
    "R1=82.0                    #base Resistance in kohm\n",
    "R2=22                      #base Resistance in kohm\n",
    "B=50\n",
    "Rc=5.6                      #collector resistance in kohm\n",
    "Re=1.2                      #emitter resistance in kohm\n",
    "Vbe=0.7                     #base emitter voltage in Volts\n",
    "\n",
    "#calculation:\n",
    "Rth=(R1*R2)/(R1+R2)         #Thevenin resistance in kohm\n",
    "Eth=(R2*Vcc)/(R1+R2)        #Thevenin voltage in Volts\n",
    "Ib=(Eth-Vbe)/(Rth+(B+1)*Re)  #base current in microA\n",
    "Ic=B*Ib                      #collector current in mA\n",
    "Vce=Vcc-Ic*(Rc+Re)           #collector emitter voltage in Volts\n",
    "\n",
    "print \"Exact Analysis:\"\n",
    "print \"collector Current=\",round(Ic,2),\"mA\"\n",
    "print \"Collector Emitter voltage=\",round(Vce,2),\"V\\n\"\n",
    "\n",
    "print \"Approximate Analysis:\"\n",
    "Vb=Eth=3.81                 #base voltage in volts\n",
    "Vbe=0.7                     #base emitter voltage in Volts\n",
    "Rc=5.6                      #collector resistance in kohm\n",
    "Re=1.2                      #emitter resistance in kohm\n",
    "Vcc=18.0                    #supply voltage in volts\n",
    "\n",
    "#calculation:\n",
    "Ve=Vb-Vbe                   #emitter voltage in volts\n",
    "Ic=Ve/Re                    #collector current in mA\n",
    "Vce=Vcc-((Ic*(Rc+Re)))      #collector emitter voltage in Volts\n",
    "\n",
    "print \"collector Current=\",round(Ic,2),\"mA\"\n",
    "print \"Collector Emitter voltage=\",round(Vce*10,2),\"V\""
   ]
  },
  {
   "cell_type": "markdown",
   "metadata": {},
   "source": [
    "## Example-4.12   Page No-184"
   ]
  },
  {
   "cell_type": "code",
   "execution_count": 31,
   "metadata": {
    "collapsed": false
   },
   "outputs": [
    {
     "name": "stdout",
     "output_type": "stream",
     "text": [
      "Collector Current= 1.07 mA\n",
      "Collector Emitter voltage= 3.68 V\n"
     ]
    }
   ],
   "source": [
    "#from the given figure:\n",
    "Vcc=10.0                   #supply voltage in volts\n",
    "Rb=250                     #base Resistance in kohm\n",
    "B=90\n",
    "Rc=4.7                      #collector resistance in kohm\n",
    "Re=1.2                      #emitter resistance in kohm\n",
    "Vbe=0.7                     #base emitter voltage in Volts\n",
    "\n",
    "#calculation:\n",
    "Ib=(Vcc-Vbe)/(Rb+(Rc+Re)*B)  #base current in microA\n",
    "Ic=B*Ib                      #collector current in mA\n",
    "Vce=Vcc-Ic*(Rc+Re)           #collector emitter voltage in Volts\n",
    "\n",
    "print \"Collector Current=\",round(Ic,2),\"mA\"\n",
    "print \"Collector Emitter voltage=\",round(Vce,2),\"V\""
   ]
  },
  {
   "cell_type": "markdown",
   "metadata": {},
   "source": [
    "## Example-4.13   Page No-185"
   ]
  },
  {
   "cell_type": "code",
   "execution_count": 48,
   "metadata": {
    "collapsed": false
   },
   "outputs": [
    {
     "name": "stdout",
     "output_type": "stream",
     "text": [
      "Collector Current= 1.2 mA\n",
      "Collector Emitter voltage= 2.92 V\n"
     ]
    }
   ],
   "source": [
    "#from the given figure:\n",
    "Vcc=10.0                   #supply voltage in volts\n",
    "Rb=250                     #base Resistance in kohm\n",
    "B=135\n",
    "Rc=4.7                      #collector resistance in kohm\n",
    "Re=1.2                      #emitter resistance in kohm\n",
    "Vbe=0.7                     #base emitter voltage in Volts\n",
    "\n",
    "#calculation:\n",
    "Ib=(Vcc-Vbe)/(Rb+(Rc+Re)*B)  #base current in microA\n",
    "Ic=B*Ib                      #collector current in mA\n",
    "Vce=Vcc-Ic*(Rc+Re)           #collector emitter voltage in Volts\n",
    "\n",
    "print \"Collector Current=\",round(Ic,2),\"mA\"\n",
    "print \"Collector Emitter voltage=\",round(Vce,2),\"V\""
   ]
  },
  {
   "cell_type": "markdown",
   "metadata": {},
   "source": [
    "## Example-4.14   Page No-186"
   ]
  },
  {
   "cell_type": "code",
   "execution_count": 57,
   "metadata": {
    "collapsed": false
   },
   "outputs": [
    {
     "name": "stdout",
     "output_type": "stream",
     "text": [
      "Base Current= 35.54 microA\n",
      "Collector voltage= 9.2 V\n"
     ]
    }
   ],
   "source": [
    "#from the given figure:\n",
    "Vcc=18.0                   #supply voltage in volts\n",
    "R1=91.0                   #base Resistance in kohm\n",
    "R2=110.0                   #base Resistance in kohm\n",
    "Rc=3.3                      #collector resistance in kohm\n",
    "Re=0.51                    #emitter resistance in kohm\n",
    "Vbe=0.7                     #base emitter voltage in Volts\n",
    "B=75.0\n",
    "\n",
    "#calculation:\n",
    "Rb=R1+R2\n",
    "Ib=(Vcc-Vbe)/(Rb+(Rc+Re)*B)  #base current in microA\n",
    "Ic=B*Ib                      #collector current in mA\n",
    "Vc=Vcc-Ic*(Rc)               #collector voltage in Volts\n",
    "\n",
    "print \"Base Current=\",round(Ib*1000,2),\"microA\"\n",
    "print \"Collector voltage=\",round(Vc,2),\"V\""
   ]
  },
  {
   "cell_type": "markdown",
   "metadata": {},
   "source": [
    "## Example-4.16   Page No-188"
   ]
  },
  {
   "cell_type": "code",
   "execution_count": 65,
   "metadata": {
    "collapsed": false
   },
   "outputs": [
    {
     "name": "stdout",
     "output_type": "stream",
     "text": [
      "Base Current= 45.73 microA\n",
      "Collector voltage= 11.68 V\n"
     ]
    }
   ],
   "source": [
    "#from the given figure:\n",
    "Vee=20.0                   #emitter voltage in volts\n",
    "Rb=240.0                   #base Resistance in kohm\n",
    "Re=2.0                     #emitter resistance in kohm\n",
    "Vbe=0.7                     #base emitter voltage in Volts\n",
    "B=90.0\n",
    "\n",
    "#calculation:\n",
    "Ib=(Vee-Vbe)/(Rb+(B+1)*Re)  #base current in microA\n",
    "Ie=(B+1)*Ib                 #emitter current in mA\n",
    "Vce=Vee-Ie*Re               #collector emitter voltage in Volts\n",
    "\n",
    "print \"Base Current=\",round(Ib*1000,2),\"microA\"\n",
    "print \"Collector voltage=\",round(Vce,2),\"V\""
   ]
  },
  {
   "cell_type": "markdown",
   "metadata": {},
   "source": [
    "## Example-4.17   Page No-190"
   ]
  },
  {
   "cell_type": "code",
   "execution_count": 86,
   "metadata": {
    "collapsed": false
   },
   "outputs": [
    {
     "name": "stdout",
     "output_type": "stream",
     "text": [
      "Emitter Current= 2.75 mA\n",
      "Base Current= 45.08 microA\n",
      "Collector Emitter voltage= 4.1 V\n",
      "Collector Base voltage= 3.51 V\n"
     ]
    }
   ],
   "source": [
    "#from the given figure:\n",
    "Vcc=10.0                   #collector voltage in volts\n",
    "Vee=4                      #emitter voltage in volts\n",
    "B=60\n",
    "Rc=2.4                     #collector resistance in kohm\n",
    "Re=1.2                     #emitter resistance in kohm\n",
    "\n",
    "#calculation:\n",
    "Ie=(Vee-Vbe)/Re             #emitter current in mA\n",
    "Ib=Ie/(B+1)                 #base current in microA\n",
    "Vce=Vee+Vcc-Ie*(Rc+Re)      #collector emitter voltage in Volts\n",
    "Vcb=Vcc-B*Ib*Rc              #collector base voltage in Volts\n",
    "\n",
    "print \"Emitter Current=\",round(Ie,2),\"mA\"\n",
    "print \"Base Current=\",round(Ib*1000,2),\"microA\"\n",
    "print \"Collector Emitter voltage=\",round(Vce,2),\"V\"\n",
    "print \"Collector Base voltage=\",round(Vcb,2),\"V\""
   ]
  },
  {
   "cell_type": "markdown",
   "metadata": {},
   "source": [
    "## Example-4.18   Page No-190"
   ]
  },
  {
   "cell_type": "code",
   "execution_count": 73,
   "metadata": {
    "collapsed": false
   },
   "outputs": [
    {
     "name": "stdout",
     "output_type": "stream",
     "text": [
      "Base Current= 15.51 microA\n",
      "Collector Current= 1.86 mA\n",
      "Collector emitter voltage= 11.25 V\n",
      "Base Voltage= 0.7 V\n",
      "Collector Voltage= 11.25 V\n",
      "Emitter Voltage= 0 V\n",
      "Base-collector Voltage= -10.55 V\n"
     ]
    }
   ],
   "source": [
    "#from the given figure:\n",
    "Vcc=20.0                   #supply voltage in volts\n",
    "Rb=680.0                   #base Resistance in kohm\n",
    "Rc=4.7                     #collector resistance in kohm\n",
    "Vbe=0.7                     #base emitter voltage in Volts\n",
    "B=120.0\n",
    "\n",
    "#calculation:\n",
    "Ib=(Vcc-Vbe)/(Rb+(Rc)*B)     #base current in microA\n",
    "Ic=B*Ib                      #collector current in mA\n",
    "Vce=Vcc-Ic*(Rc)               #collector emitter voltage in Volts\n",
    "Vb=Vbe                        #Base voltage in Volts\n",
    "Vc=Vce                        #collector voltage in Volts\n",
    "Ve=0                          #emitter voltage in Volts \n",
    "Vbc=Vb-Vc                     #base collector voltage in Volts\n",
    "\n",
    "print \"Base Current=\",round(Ib*1000,2),\"microA\"\n",
    "print \"Collector Current=\",round(Ic,2),\"mA\"\n",
    "print \"Collector emitter voltage=\",round(Vce,2),\"V\"\n",
    "print \"Base Voltage=\",Vb,\"V\"\n",
    "print \"Collector Voltage=\",round(Vc,2),\"V\"\n",
    "print \"Emitter Voltage=\",Ve,\"V\"\n",
    "print \"Base-collector Voltage=\",round(Vbc,2),\"V\""
   ]
  },
  {
   "cell_type": "markdown",
   "metadata": {},
   "source": [
    "## Example-4.19   Page No-191"
   ]
  },
  {
   "cell_type": "code",
   "execution_count": 87,
   "metadata": {
    "collapsed": false
   },
   "outputs": [
    {
     "name": "stdout",
     "output_type": "stream",
     "text": [
      "Collector voltage= -4.48 V\n",
      "Base voltage= -8.3 V\n"
     ]
    }
   ],
   "source": [
    "#from the given figure:\n",
    "Vee=9                      #emitter voltage in volts\n",
    "B=45\n",
    "Rc=1.2                     #collector resistance in kohm\n",
    "Rb=100.0                   #Base resistance in kohm\n",
    "\n",
    "#calculation:\n",
    "Ib=(Vee-Vbe)/Rb            #base current in microA\n",
    "Ic=B*Ib                    #collecotr current in mA\n",
    "Vc=-Ic*Rc                  #collector voltage in Volts\n",
    "Vb=-Ib*Rb                  #base voltage in Volts\n",
    " \n",
    "print \"Collector voltage=\",round(Vc,2),\"V\"\n",
    "print \"Base voltage=\",round(Vb,2),\"V\""
   ]
  },
  {
   "cell_type": "markdown",
   "metadata": {},
   "source": [
    "## Example-4.21   Page No-194"
   ]
  },
  {
   "cell_type": "code",
   "execution_count": 88,
   "metadata": {
    "collapsed": false
   },
   "outputs": [
    {
     "name": "stdout",
     "output_type": "stream",
     "text": [
      "Base resistance= 482.5 kohm\n",
      "Collector resistance= 2.5 kohm\n"
     ]
    }
   ],
   "source": [
    "#from the given figure:\n",
    "Vcc=20.0                   #supply voltage in volts\n",
    "Ic=8.0                     #collector current in mA\n",
    "Ib=40.0                    #base current in microA\n",
    "Vbe=0.7                     #base emitter voltage in Volts\n",
    "\n",
    "#calculation:\n",
    "Rc=Vcc/Ic                   #Collector resistance in kohm\n",
    "Rb=(Vcc-Vbe)/(Ib/1000)      #base resistance in kohm\n",
    "\n",
    "print \"Base resistance=\",round(Rb,2),\"kohm\"\n",
    "print \"Collector resistance=\",round(Rc,2),\"kohm\""
   ]
  },
  {
   "cell_type": "markdown",
   "metadata": {},
   "source": [
    "## Example-4.22   Page No-196"
   ]
  },
  {
   "cell_type": "code",
   "execution_count": 85,
   "metadata": {
    "collapsed": false
   },
   "outputs": [
    {
     "name": "stdout",
     "output_type": "stream",
     "text": [
      "2.4\n",
      "R1= 86.52 Kohm\n",
      "Rc= 2.18 kohm\n"
     ]
    }
   ],
   "source": [
    "#from the given figure:\n",
    "Vcc=18.0                   #supply voltage in volts\n",
    "R2=18.0                    #base Resistance in kohm\n",
    "Re=1.2                     #emitter resistance in kohm\n",
    "Vbe=0.7                     #base emitter voltage in Volts\n",
    "Ic=2                        #collector current in mA\n",
    "\n",
    "#calculation:\n",
    "Ve=Ic*Re                   #emitter voltage in Volts\n",
    "Vb=Vbe+Ve                  #base voltage in Volts\n",
    "R1=((R2*Vcc)/(Vb))-R2      #base resistance in kohm\n",
    "Vc=Vce+Ve                   #collector voltage in Volts\n",
    "Rc=(Vcc-Vc)/Ic              #collector resistance in kohm\n",
    "\n",
    "print \"R1=\",round(R1,2),\"Kohm\"\n",
    "print \"Rc=\",round(Rc,2),\"kohm\"\n"
   ]
  },
  {
   "cell_type": "markdown",
   "metadata": {},
   "source": [
    "## Example-4.26   Page No-201"
   ]
  },
  {
   "cell_type": "code",
   "execution_count": 90,
   "metadata": {
    "collapsed": false
   },
   "outputs": [
    {
     "name": "stdout",
     "output_type": "stream",
     "text": [
      "Mirrored current I= 10.27 mA\n"
     ]
    }
   ],
   "source": [
    "#from the given figure:\n",
    "Vcc=12                  #supply voltage in volts\n",
    "Vbe=0.7                 #base emitter voltage in Volts\n",
    "Rx=1.1                  #resistance in kohm\n",
    "\n",
    "Ix=(Vcc-Vbe)/Rx\n",
    "print \"Mirrored current I=\",round(Ix,2),\"mA\""
   ]
  },
  {
   "cell_type": "markdown",
   "metadata": {},
   "source": [
    "## Example-4.27   Page No-201"
   ]
  },
  {
   "cell_type": "code",
   "execution_count": 92,
   "metadata": {
    "collapsed": false
   },
   "outputs": [
    {
     "name": "stdout",
     "output_type": "stream",
     "text": [
      "Current I= 4.08 mA\n"
     ]
    }
   ],
   "source": [
    "#from the given figure:\n",
    "Vcc=6                   #supply voltage in volts\n",
    "Vbe=0.7                 #base emitter voltage in Volts\n",
    "Rx=1.3                  #resistance in kohm\n",
    "\n",
    "Ix=(Vcc-Vbe)/Rx\n",
    "print \"Current I=\",round(Ix,2),\"mA\""
   ]
  },
  {
   "cell_type": "markdown",
   "metadata": {},
   "source": [
    "## Example-4.29   Page No-204"
   ]
  },
  {
   "cell_type": "code",
   "execution_count": 94,
   "metadata": {
    "collapsed": false
   },
   "outputs": [
    {
     "name": "stdout",
     "output_type": "stream",
     "text": [
      "Current I= 3.06 mA\n"
     ]
    }
   ],
   "source": [
    "#from the given figure:\n",
    "Vz=6.2                  #diode voltage in volts\n",
    "Vbe=0.7                 #base emitter voltage in Volts\n",
    "Re=1.8                  #emitter resistance in kohm\n",
    "\n",
    "I=(Vz-Vbe)/Re\n",
    "print \"Current I=\",round(I,2),\"mA\""
   ]
  }
 ],
 "metadata": {
  "kernelspec": {
   "display_name": "Python [Root]",
   "language": "python",
   "name": "Python [Root]"
  },
  "language_info": {
   "codemirror_mode": {
    "name": "ipython",
    "version": 2
   },
   "file_extension": ".py",
   "mimetype": "text/x-python",
   "name": "python",
   "nbconvert_exporter": "python",
   "pygments_lexer": "ipython2",
   "version": "2.7.12"
  }
 },
 "nbformat": 4,
 "nbformat_minor": 0
}
