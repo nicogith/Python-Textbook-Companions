{
 "cells": [
  {
   "cell_type": "markdown",
   "metadata": {},
   "source": [
    "# Chapter-17 PNPN and Other Devices"
   ]
  },
  {
   "cell_type": "markdown",
   "metadata": {},
   "source": [
    "## Example-17.1(a)            Page Number-854"
   ]
  },
  {
   "cell_type": "code",
   "execution_count": 76,
   "metadata": {
    "collapsed": false
   },
   "outputs": [
    {
     "name": "stdout",
     "output_type": "stream",
     "text": [
      "Value of Rb1 at Ie=0A is= 3.0 Kohm\n",
      "Value of Rb2 at Ie=0A is= 2.0 Kohm\n"
     ]
    }
   ],
   "source": [
    "#for the given circuit:\n",
    "R1=50             #in Kohm\n",
    "R2=0.1            #in Kohm\n",
    "C=0.1             #in pF(capacitance)\n",
    "V=12              #in volts\n",
    "Ie=0              #in ampere\n",
    "n=0.6              #intrinsic stand-off ratio\n",
    "Rbb=5              #in Kohm\n",
    "\n",
    "#we know, intrinsic stand-off ratio(n)=(Rb1/(Rbb))\n",
    "Rb1=0.6*Rbb\n",
    "Rb2=Rbb-Rb1\n",
    "\n",
    "print\"Value of Rb1 at Ie=0A is=\",Rb1,\"Kohm\"\n",
    "print\"Value of Rb2 at Ie=0A is=\",Rb2,\"Kohm\""
   ]
  },
  {
   "cell_type": "markdown",
   "metadata": {},
   "source": [
    "## Example-17.1(b)            Page Number-854"
   ]
  },
  {
   "cell_type": "code",
   "execution_count": 75,
   "metadata": {
    "collapsed": false
   },
   "outputs": [
    {
     "name": "stdout",
     "output_type": "stream",
     "text": [
      "The emitter firing potential= 1.2 V\n"
     ]
    }
   ],
   "source": [
    "#for the given circuit:\n",
    "R1=50             #in Kohm\n",
    "R2=0.1            #in Kohm\n",
    "C=0.1             #in pF(capacitance)\n",
    "V=12              #in volts\n",
    "Ie=0              #in ampere\n",
    "n=0.6              #intrinsic stand-off ratio\n",
    "Rbb=5.0           #in Kohm\n",
    "\n",
    "#The emitter firing potential Vp:\n",
    "Vp=0.7+(((Rb1+R2)*12)/(Rbb+R2))\n",
    "\n",
    "print \"The emitter firing potential=\",round(Vp,1),\"V\""
   ]
  },
  {
   "cell_type": "markdown",
   "metadata": {},
   "source": [
    "## Example-17.1(c)            Page Number-854"
   ]
  },
  {
   "cell_type": "code",
   "execution_count": 74,
   "metadata": {
    "collapsed": false
   },
   "outputs": [
    {
     "name": "stdout",
     "output_type": "stream",
     "text": [
      "R1 is within the permissible range of values\n"
     ]
    }
   ],
   "source": [
    "V=12                    #in volts\n",
    "Vv=1                    #in volts\n",
    "Iv=10*(10**-3)          #in ampere\n",
    "Ip=10*(10**-6)          #in ampere\n",
    "Vp=8.0                    #in volts\n",
    "\n",
    "limit1=(V-Vv)/Iv\n",
    "limit2=(V-Vp)/Ip\n",
    "\n",
    "if(R1>limit1,R1<limit2):\n",
    "     print \"R1 is within the permissible range of values\"\n",
    "else: \n",
    "    print \"R1 is not within the permissible range of values\""
   ]
  },
  {
   "cell_type": "markdown",
   "metadata": {},
   "source": [
    "## Example-17.1(d)            Page Number-854"
   ]
  },
  {
   "cell_type": "code",
   "execution_count": 73,
   "metadata": {
    "collapsed": false
   },
   "outputs": [
    {
     "name": "stdout",
     "output_type": "stream",
     "text": [
      "frequency of Oscillation= 196.1 Hz\n"
     ]
    }
   ],
   "source": [
    "import math\n",
    "#for the given circuit:\n",
    "R1=50             #in Kohm\n",
    "R2=0.1            #in Kohm\n",
    "C=0.1             #in pF(capacitance)\n",
    "V=12.0            #in volts\n",
    "Rbb=5              #in Kohm\n",
    "Rb1=100*(10**-3)    #in Kohm\n",
    "Vp=8.0             #in volts\n",
    "\n",
    "X=(V-Vv)/(V-Vp)             #temporary variable\n",
    "T1=R1*C*(math.log(X))\n",
    "\n",
    "T2=(Rb1+R2)*C*(math.log(Vp/Vv))\n",
    "#Time period T:\n",
    "T=T1+T2\n",
    "\n",
    "#frequency of Oscillation F:\n",
    "F=(1/T)*1000        #to convert the result in Hz\n",
    "print \"frequency of Oscillation=\",round(F,1),\"Hz\""
   ]
  },
  {
   "cell_type": "markdown",
   "metadata": {},
   "source": [
    "## Example-17.1(f)            Page Number-854"
   ]
  },
  {
   "cell_type": "code",
   "execution_count": 72,
   "metadata": {
    "collapsed": false
   },
   "outputs": [
    {
     "name": "stdout",
     "output_type": "stream",
     "text": [
      "the value of Vr1 (during charging phase) is = 0.24 V\n",
      "the value of Vr2 (at Vc=Vp) is = 3.65 V\n"
     ]
    }
   ],
   "source": [
    "#for the given circuit:\n",
    "R2=0.1            #in Kohm\n",
    "C=0.1             #in pF(capacitance)\n",
    "V=12.0            #in volts\n",
    "Rbb=5              #in Kohm\n",
    "Rb1=100*(10**-3)    #in Kohm\n",
    "Vp=8.0             #in volts\n",
    "\n",
    "#During charging phase:\n",
    "Vr2=(R2*V)/(R2+Rbb)\n",
    "print \"the value of Vr1 (during charging phase) is =\",round(Vr2,2),\"V\"\n",
    "\n",
    "#When Vc=Vp:\n",
    "Vr2=(R2*(Vp-0.7))/(R2+Rb1)\n",
    "print \"the value of Vr2 (at Vc=Vp) is =\",Vr2,\"V\""
   ]
  },
  {
   "cell_type": "markdown",
   "metadata": {},
   "source": [
    "## Example-17.2            Page Number-862"
   ]
  },
  {
   "cell_type": "code",
   "execution_count": 71,
   "metadata": {
    "collapsed": false
   },
   "outputs": [
    {
     "name": "stdout",
     "output_type": "stream",
     "text": [
      "The required value of Rb1= 20.0 Kohm\n",
      "The required value of Vbb= 12.0 V\n"
     ]
    }
   ],
   "source": [
    "#for the silicon PUT:\n",
    "n=0.8\n",
    "Vp=10.3              #in volts\n",
    "Rb2=5                #in Kohm\n",
    "Vd=0.7               #in volts\n",
    "#we know, n=Rb2/(Rb1+Rb2)\n",
    "\n",
    "Rb1=0.8*Rb2/0.2\n",
    "print \"The required value of Rb1=\",round(Rb1,1),\"Kohm\"\n",
    "\n",
    "#we know, Vp=n*Vbb+Vd\n",
    "Vbb=(Vp-Vd)/n\n",
    "print \"The required value of Vbb=\",Vbb,\"V\""
   ]
  },
  {
   "cell_type": "markdown",
   "metadata": {},
   "source": [
    "## Example-17.3(a)            Page Number-864"
   ]
  },
  {
   "cell_type": "code",
   "execution_count": 70,
   "metadata": {
    "collapsed": false
   },
   "outputs": [
    {
     "name": "stdout",
     "output_type": "stream",
     "text": [
      "The required value of Vp= 8.7 V\n"
     ]
    }
   ],
   "source": [
    "Vbb=12             #in volts\n",
    "Rk=100             #in ohm\n",
    "Rb1=10.0           #in Kohm\n",
    "Rb2=5.0            #in Kohm\n",
    "Vd=0.7             #in volts\n",
    "#we know,\n",
    "n=Rb1/(Rb1+Rb2)\n",
    "Vp=n*Vbb+Vd\n",
    "\n",
    "print \"The required value of Vp=\",Vp,\"V\""
   ]
  },
  {
   "cell_type": "markdown",
   "metadata": {},
   "source": [
    "## Example-17.3(b)            Page Number-864"
   ]
  },
  {
   "cell_type": "code",
   "execution_count": 69,
   "metadata": {
    "collapsed": false
   },
   "outputs": [
    {
     "name": "stdout",
     "output_type": "stream",
     "text": [
      "The required value of Rmax= 33.0 Kohm\n",
      "The required value of Rmin= 2.0 Kohm\n"
     ]
    }
   ],
   "source": [
    "#from the parameters given in the quesion:\n",
    "Vbb=12             #in volts\n",
    "Ip=100*(10**-6)    #in ampere\n",
    "Vv=1               #in volts\n",
    "Iv=5.5             #in mA\n",
    "#calculating maximum value of Resistance R\n",
    "Rmax=(Vbb-Vp)/Ip\n",
    "print \"The required value of Rmax=\",Rmax/1000,\"Kohm\"\n",
    "\n",
    "#calculating minimum value of Resistance R\n",
    "Rmin=(Vbb-Vv)/Iv\n",
    "print \"The required value of Rmin=\",Rmin,\"Kohm\""
   ]
  },
  {
   "cell_type": "markdown",
   "metadata": {},
   "source": [
    "## Example-17.3(c)            Page Number-864"
   ]
  },
  {
   "cell_type": "code",
   "execution_count": 68,
   "metadata": {
    "collapsed": false
   },
   "outputs": [
    {
     "name": "stdout",
     "output_type": "stream",
     "text": [
      "Time period of Oscillation= 25.8 ms\n",
      "Frequency of Oscillation= 38.8 Hz\n"
     ]
    }
   ],
   "source": [
    "import math\n",
    "#from the parameters given in the quesion:\n",
    "R=20             #in Kohm\n",
    "C=1              #in microF\n",
    "Vbb=12           #in volts\n",
    "\n",
    "x=Vbb/(Vbb-Vp)\n",
    "#The reqired Timeperiod T:\n",
    "T=R*C*round(math.log(x),2)\n",
    "\n",
    "print \"Time period of Oscillation=\",T,\"ms\"\n",
    "#The required Frequency F:\n",
    "F=1/T\n",
    "F=F*1000            #converting result into Hz\n",
    "print \"Frequency of Oscillation=\",round(F,1),\"Hz\""
   ]
  }
 ],
 "metadata": {
  "anaconda-cloud": {},
  "kernelspec": {
   "display_name": "Python [Root]",
   "language": "python",
   "name": "Python [Root]"
  },
  "language_info": {
   "codemirror_mode": {
    "name": "ipython",
    "version": 2
   },
   "file_extension": ".py",
   "mimetype": "text/x-python",
   "name": "python",
   "nbconvert_exporter": "python",
   "pygments_lexer": "ipython2",
   "version": "2.7.12"
  }
 },
 "nbformat": 4,
 "nbformat_minor": 0
}
