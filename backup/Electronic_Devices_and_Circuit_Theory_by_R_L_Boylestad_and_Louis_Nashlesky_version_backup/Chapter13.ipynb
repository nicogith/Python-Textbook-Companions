{
 "cells": [
  {
   "cell_type": "markdown",
   "metadata": {},
   "source": [
    "# Chapter-13 Linear-Digital ICs"
   ]
  },
  {
   "cell_type": "markdown",
   "metadata": {},
   "source": [
    "## Example-13.1         Page Number-723"
   ]
  },
  {
   "cell_type": "code",
   "execution_count": 1,
   "metadata": {
    "collapsed": false
   },
   "outputs": [
    {
     "name": "stdout",
     "output_type": "stream",
     "text": [
      "frequency of output waveform= 634.9 Hz\n",
      "The output waveform is :\n"
     ]
    },
    {
     "data": {
      "image/png": "[encoded data removed]",
      "text/plain": [
       "<matplotlib.figure.Figure at 0x3d5b940>"
      ]
     },
     "metadata": {},
     "output_type": "display_data"
    }
   ],
   "source": [
    "import matplotlib.pyplot as plt\n",
    "%matplotlib inline\n",
    "#for the given Astable multivibrator:\n",
    "Ra=7.5*(10**3)                #Resistance in ohm\n",
    "Rb=Ra\n",
    "C=0.1*(10**-6)                #capacitance in F\n",
    "\n",
    "Th=0.7*C*(Ra+Rb)              #in ms\n",
    "Tl=0.7*C*Rb                    #in ms\n",
    "#calculating total period T:\n",
    "T=Th+Tl\n",
    "#calcualting frequency of output waveform\n",
    "f=1/T\n",
    "print \"frequency of output waveform=\",round(f,1),\"Hz\"\n",
    "print \"The output waveform is :\"\n",
    "\n",
    "y=[0,5,5,1,1,5,5,1,1,5,5]\n",
    "x=[0,0,1.05,1.05,1.575,1.575,2.625,2.625,3.15,3.15,3.5]\n",
    "plt.plot(x,y,'m')\n",
    "plt.xlabel('Time(ms)---->')\n",
    "plt.ylabel('Vo---->')\n",
    "plt.xlim(0.0,3.5)\n",
    "plt.ylim(0.0,5.5)\n",
    "plt.show()"
   ]
  },
  {
   "cell_type": "markdown",
   "metadata": {},
   "source": [
    "## Example-13.2         Page Number-724"
   ]
  },
  {
   "cell_type": "code",
   "execution_count": 16,
   "metadata": {
    "collapsed": false
   },
   "outputs": [
    {
     "name": "stdout",
     "output_type": "stream",
     "text": [
      "Period of output waveform= 0.825 ms\n"
     ]
    }
   ],
   "source": [
    "#for the given Monostable multivibrator:\n",
    "Ra=7.5*(10**3)                #Resistance in ohm\n",
    "C=0.1*(10**-6)                #capacitance in F\n",
    "#period of the output wavform T:\n",
    "T=1.1*C*Ra*1000\n",
    "print \"Period of output waveform=\",round(T,3),\"ms\""
   ]
  }
 ],
 "metadata": {
  "anaconda-cloud": {},
  "kernelspec": {
   "display_name": "Python [Root]",
   "language": "python",
   "name": "Python [Root]"
  },
  "language_info": {
   "codemirror_mode": {
    "name": "ipython",
    "version": 2
   },
   "file_extension": ".py",
   "mimetype": "text/x-python",
   "name": "python",
   "nbconvert_exporter": "python",
   "pygments_lexer": "ipython2",
   "version": "2.7.12"
  }
 },
 "nbformat": 4,
 "nbformat_minor": 0
}
