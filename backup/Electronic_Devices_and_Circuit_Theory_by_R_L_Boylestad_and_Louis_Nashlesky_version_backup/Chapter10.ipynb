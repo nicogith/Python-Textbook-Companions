{
 "cells": [
  {
   "cell_type": "markdown",
   "metadata": {},
   "source": [
    "# Chapter-10 Operational Amplifiers"
   ]
  },
  {
   "cell_type": "markdown",
   "metadata": {},
   "source": [
    "## Example-10.1   Page number-598"
   ]
  },
  {
   "cell_type": "code",
   "execution_count": 3,
   "metadata": {
    "collapsed": false
   },
   "outputs": [
    {
     "name": "stdout",
     "output_type": "stream",
     "text": [
      "The DC voltage = 4.1 V\n",
      "Collector current= 1.26 mA\n",
      "Emitter current= 2.5 mA\n"
     ]
    }
   ],
   "source": [
    "#from the given circuit:\n",
    "Vee=9                    #supply in volts\n",
    "Re=3.3                   #emitter resistance in Kohm\n",
    "Rc=3.9                   #collector resistance in Kohm\n",
    "Vcc=9                    #supply voltage in volts\n",
    "\n",
    "#Calculation:\n",
    "\n",
    "Ie=(Vee-0.7)/Re           #emitter current in mA\n",
    "Ic=Ie/2                   #collector current in mA\n",
    "Vc=Vcc-(Ic*Rc)            #Dc voltage in volts\n",
    "\n",
    "print \"The DC voltage =\",round(Vc,1),\"V\"\n",
    "print \"Collector current=\",round(Ic,2),\"mA\"\n",
    "print \"Emitter current=\",round(Ie,1),\"mA\""
   ]
  },
  {
   "cell_type": "markdown",
   "metadata": {},
   "source": [
    "## Example-10.2   Page number-601"
   ]
  },
  {
   "cell_type": "code",
   "execution_count": 12,
   "metadata": {
    "collapsed": false
   },
   "outputs": [
    {
     "name": "stdout",
     "output_type": "stream",
     "text": [
      "The Output AC voltage = 174.5 mV\n"
     ]
    }
   ],
   "source": [
    "#from the given circuit:\n",
    "Vee=9                    #supply in volts\n",
    "Re=43.0                  #emitter resistance in Kohm\n",
    "Rc=47.0                  #collector resistance in Kohm\n",
    "Vcc=9                    #supply voltage in volts\n",
    "Vi=2                     #input voltage in mV\n",
    "\n",
    "#Calculation:\n",
    "\n",
    "Ie=((Vee-0.7)/Re)*1000          #emitter current in microA\n",
    "Ic=Ie/2                         #collector current in microA\n",
    "Vc=Vcc-((Ic*Rc)/1000)           #Dc voltage in volts\n",
    "re=(26/Ic)/1000                  #in ohms\n",
    "A=Rc/(2*re)                     #Ac voltage gain \n",
    "Vo=(A/1000)*Vi                  #Output ac voltage in volts\n",
    "\n",
    "print \"The Output AC voltage =\",round(Vo,1),\"mV\""
   ]
  },
  {
   "cell_type": "markdown",
   "metadata": {},
   "source": [
    "## Example-10.3   Page number-603"
   ]
  },
  {
   "cell_type": "code",
   "execution_count": 2,
   "metadata": {
    "collapsed": false
   },
   "outputs": [
    {
     "name": "stdout",
     "output_type": "stream",
     "text": [
      "Common mode gain of the given amplifier (A): 0.54\n"
     ]
    }
   ],
   "source": [
    "#for the given circuit:\n",
    "B=75\n",
    "Rc=47.0                  #collector resistance in Kohm\n",
    "ri=20                    #in Kohm\n",
    "Re=43.0                  #emitter resistance in Kohm\n",
    "\n",
    "#Common mode gain of the given amplifier (A):\n",
    "A=(B*Rc)/(ri+2*(B+1)*Re)\n",
    "\n",
    "print \"Common mode gain of the given amplifier (A):\",round(A,2)"
   ]
  },
  {
   "cell_type": "markdown",
   "metadata": {},
   "source": [
    "## Example-10.4   Page number-604"
   ]
  },
  {
   "cell_type": "code",
   "execution_count": 4,
   "metadata": {
    "collapsed": false
   },
   "outputs": [
    {
     "name": "stdout",
     "output_type": "stream",
     "text": [
      "Common mode gain of the given amplifier (A): 0.0247\n"
     ]
    }
   ],
   "source": [
    "#for the given circuit:\n",
    "B=75\n",
    "Rc=10.0                  #collector resistance in Kohm\n",
    "ri=11                    #in Kohm\n",
    "Re=200.0                 #emitter resistance in Kohm\n",
    "\n",
    "#Common mode gain of the given amplifier (A):\n",
    "A=(B*Rc)/(ri+2*(B+1)*Re)\n",
    "\n",
    "print \"Common mode gain of the given amplifier (A):\",round(A,4)"
   ]
  },
  {
   "cell_type": "markdown",
   "metadata": {},
   "source": [
    "## Example-10.5   Page number-610"
   ]
  },
  {
   "cell_type": "code",
   "execution_count": 7,
   "metadata": {
    "collapsed": false
   },
   "outputs": [
    {
     "name": "stdout",
     "output_type": "stream",
     "text": [
      "Output voltage of the inverting amplifier: -10.0 V\n"
     ]
    }
   ],
   "source": [
    "#for the given Inverting circuit:\n",
    "Vi=2                      #input voltage in volts\n",
    "Rf=500.0                  #feedback resistance in Kohm\n",
    "R1=100.0                  #input resistance in Kohm\n",
    "\n",
    "#Output voltage Vo:\n",
    "Vo=-(Rf*Vi)/(R1)\n",
    "\n",
    "print \"Output voltage of the inverting amplifier:\",round(Vo,2),\"V\""
   ]
  },
  {
   "cell_type": "markdown",
   "metadata": {},
   "source": [
    "## Example-10.6   Page number-611"
   ]
  },
  {
   "cell_type": "code",
   "execution_count": 8,
   "metadata": {
    "collapsed": false
   },
   "outputs": [
    {
     "name": "stdout",
     "output_type": "stream",
     "text": [
      "Output voltage of the non-inverting amplifier: 12.0 V\n"
     ]
    }
   ],
   "source": [
    "#for the given non-Inverting circuit:\n",
    "Vi=2                      #input voltage in volts\n",
    "Rf=500.0                  #feedback resistance in Kohm\n",
    "R1=100.0                  #input resistance in Kohm\n",
    "\n",
    "#Output voltage Vo:\n",
    "Vo=(1+(Rf/R1))*Vi\n",
    "\n",
    "print \"Output voltage of the non-inverting amplifier:\",round(Vo,2),\"V\""
   ]
  },
  {
   "cell_type": "markdown",
   "metadata": {},
   "source": [
    "## Example-10.7(a)   Page number-612"
   ]
  },
  {
   "cell_type": "code",
   "execution_count": 10,
   "metadata": {
    "collapsed": false
   },
   "outputs": [
    {
     "name": "stdout",
     "output_type": "stream",
     "text": [
      "Output voltage of the Summing amplifier: -7.0 V\n"
     ]
    }
   ],
   "source": [
    "#for the given summing amplifier circuit:\n",
    "V1=1                      #input voltage in volts\n",
    "V2=2                      #input voltage in volts\n",
    "V3=3                      #input voltage in volts\n",
    "R1=500.0                  #input resistance in Kohm\n",
    "R2=1000.0                 #input resistance in Kohm\n",
    "R3=1000.0                 #input resistance in Kohm\n",
    "Rf=1000.0                 #feedback resistance in Kohm\n",
    "\n",
    "#calculation:\n",
    "\n",
    "X1=(Rf/R1)*V1             #temporary value\n",
    "X2=(Rf/R2)*V2             #temporary value\n",
    "X3=(Rf/R3)*V3             #temporary value\n",
    "\n",
    "#Output voltage Vo:\n",
    "Vo=-(X1+X2+X3)\n",
    "\n",
    "print \"Output voltage of the Summing amplifier:\",round(Vo,2),\"V\""
   ]
  },
  {
   "cell_type": "markdown",
   "metadata": {},
   "source": [
    "## Example-10.7(b)   Page number-612"
   ]
  },
  {
   "cell_type": "code",
   "execution_count": 11,
   "metadata": {
    "collapsed": false
   },
   "outputs": [
    {
     "name": "stdout",
     "output_type": "stream",
     "text": [
      "Output voltage of the Summing amplifier: 3.0 V\n"
     ]
    }
   ],
   "source": [
    "#for the given summing amplifier:\n",
    "V1=-2                     #input voltage in volts\n",
    "V2=3                      #input voltage in volts\n",
    "V3=1                      #input voltage in volts\n",
    "R1=200.0                  #input resistance in Kohm\n",
    "R2=500.0                  #input resistance in Kohm\n",
    "R3=1000.0                 #input resistance in Kohm\n",
    "Rf=1000.0                 #feedback resistance in Kohm\n",
    "\n",
    "#calculation:\n",
    "\n",
    "X1=(Rf/R1)*V1             #temporary value\n",
    "X2=(Rf/R2)*V2             #temporary value\n",
    "X3=(Rf/R3)*V3             #temporary value\n",
    "\n",
    "#Output voltage Vo:\n",
    "Vo=-(X1+X2+X3)\n",
    "\n",
    "print \"Output voltage of the Summing amplifier:\",round(Vo,2),\"V\""
   ]
  },
  {
   "cell_type": "markdown",
   "metadata": {},
   "source": [
    "## Example-10.8   Page number-616"
   ]
  },
  {
   "cell_type": "code",
   "execution_count": 14,
   "metadata": {
    "collapsed": false
   },
   "outputs": [
    {
     "name": "stdout",
     "output_type": "stream",
     "text": [
      "Output offset voltage of the amplifier: 91.2 mV\n"
     ]
    }
   ],
   "source": [
    "#for the given amplifier circuit:\n",
    "Vi=1.2*(10**-3)           #input voltage in volts\n",
    "Rf=150.0                  #feedback resistance in Kohm\n",
    "R1=2.0                    #input resistance in Kohm\n",
    "\n",
    "#Output offset voltage Vo:\n",
    "Vo=((R1+Rf)/R1)*Vi         #in volts\n",
    "Vo=Vo*1000                 #output voltage in mVolts\n",
    "\n",
    "print \"Output offset voltage of the amplifier:\",round(Vo,2),\"mV\""
   ]
  },
  {
   "cell_type": "markdown",
   "metadata": {},
   "source": [
    "## Example-10.9   Page number-617"
   ]
  },
  {
   "cell_type": "code",
   "execution_count": 18,
   "metadata": {
    "collapsed": false
   },
   "outputs": [
    {
     "name": "stdout",
     "output_type": "stream",
     "text": [
      "Output offset voltage of the amplifier: 15.0 mV\n"
     ]
    }
   ],
   "source": [
    "#for the given amplifier circuit:\n",
    "Ii=100                   #input current in nA\n",
    "Rf=150.0                  #feedback resistance in Kohm\n",
    "\n",
    "#Output offset voltage Vo:\n",
    "Vo=Ii*(10**-3)*Rf                   #in mVolts\n",
    "\n",
    "print \"Output offset voltage of the amplifier:\",round(Vo,2),\"mV\""
   ]
  },
  {
   "cell_type": "markdown",
   "metadata": {},
   "source": [
    "## Example-10.10   Page number-617"
   ]
  },
  {
   "cell_type": "code",
   "execution_count": 22,
   "metadata": {
    "collapsed": false
   },
   "outputs": [
    {
     "name": "stdout",
     "output_type": "stream",
     "text": [
      "Output offset voltage due to Vi: 404.0 mV\n",
      "Output offset voltage due to Ii: 75.0 mV\n",
      "Total offset voltage of the amplifier: 479.0 mV\n"
     ]
    }
   ],
   "source": [
    "#for the given amplifier circuit:\n",
    "Vi=4.0*(10**-3)           #input voltage in volts\n",
    "Rf=500.0                  #feedback resistance in Kohm\n",
    "R1=5.0                    #input resistance in Kohm\n",
    "Ii=150                    #input current in nA\n",
    "\n",
    "#Output offset voltage Vo1(due to Vi):\n",
    "Vo1=((R1+Rf)/R1)*Vi         #in volts\n",
    "Vo1=Vo1*1000                 #output voltage in mVolts\n",
    "\n",
    "#Output offset voltage Vo2(due to Ii):\n",
    "Vo2=Ii*(10**-3)*Rf          #in mVolts\n",
    "\n",
    "Total=Vo1+Vo2               #in mvolts\n",
    "\n",
    "print \"Output offset voltage due to Vi:\",round(Vo1,2),\"mV\"\n",
    "print \"Output offset voltage due to Ii:\",round(Vo2,2),\"mV\"\n",
    "print \"Total offset voltage of the amplifier:\",round(Total,2),\"mV\""
   ]
  },
  {
   "cell_type": "markdown",
   "metadata": {},
   "source": [
    "## Example-10.11   Page number-618"
   ]
  },
  {
   "cell_type": "code",
   "execution_count": 23,
   "metadata": {
    "collapsed": false
   },
   "outputs": [
    {
     "name": "stdout",
     "output_type": "stream",
     "text": [
      "input bias current at first input: 32.5 nA\n",
      "input bias current at second input: 27.5 nA\n"
     ]
    }
   ],
   "source": [
    "#for the given amplifier:\n",
    "Ii=5.0                    #input current in nA\n",
    "Ib=30                     #average input bias current in nA\n",
    "\n",
    "#calculation:\n",
    "Ib1=Ib+(Ii/2)             #input bias current at first input in nA\n",
    "Ib2=Ib-(Ii/2)             #input bias current at second input in nA\n",
    "\n",
    "print \"input bias current at first input:\",Ib1,\"nA\"\n",
    "print \"input bias current at second input:\",Ib2,\"nA\""
   ]
  },
  {
   "cell_type": "markdown",
   "metadata": {},
   "source": [
    "## Example-10.12   Page number-619"
   ]
  },
  {
   "cell_type": "code",
   "execution_count": 29,
   "metadata": {
    "collapsed": false
   },
   "outputs": [
    {
     "name": "stdout",
     "output_type": "stream",
     "text": [
      "The cut-off frequency Fc: 5 Hz\n"
     ]
    }
   ],
   "source": [
    "#for the given amplifier:\n",
    "f1=1*(10**6)             #frequency in Hz\n",
    "Avd=200                  #Gain of the amplifier in V/mV\n",
    "\n",
    "#cut-off frequency(fc):\n",
    "fc=f1/(Avd*(10**3))               #cut-off frequency in Hz\n",
    "\n",
    "print \"The cut-off frequency Fc:\",fc,\"Hz\""
   ]
  },
  {
   "cell_type": "markdown",
   "metadata": {},
   "source": [
    "## Example-10.13   Page number-620"
   ]
  },
  {
   "cell_type": "code",
   "execution_count": 30,
   "metadata": {
    "collapsed": false
   },
   "outputs": [
    {
     "name": "stdout",
     "output_type": "stream",
     "text": [
      "Maximum closed loop gain: 40.0\n"
     ]
    }
   ],
   "source": [
    "#from the given question:\n",
    "Sr=2                       #slew rate in V/microS\n",
    "Vic=0.5                    #change in input signal(during time t)in volts\n",
    "t=10                       #time of change of input signal in microS\n",
    "\n",
    "#calculation:\n",
    "X=Vic/t                      #rate of change in input signal in V/microS\n",
    "Acl=Sr/X                     #maximum closed-loop gain\n",
    "\n",
    "print \"Maximum closed loop gain:\",Acl"
   ]
  },
  {
   "cell_type": "markdown",
   "metadata": {},
   "source": [
    "## Example-10.14   Page number-620"
   ]
  },
  {
   "cell_type": "code",
   "execution_count": 38,
   "metadata": {
    "collapsed": false
   },
   "outputs": [
    {
     "name": "stdout",
     "output_type": "stream",
     "text": [
      "No output distortion\n"
     ]
    }
   ],
   "source": [
    "#for the given amplifier circuit:\n",
    "Sr=0.5                    #slew rate in V/microS\n",
    "Vi=0.02                   #input voltage in volts\n",
    "Rf=240.0                  #feedback resistance in Kohm\n",
    "R1=10.0                   #input resistance in Kohm\n",
    "w=300*(10**3)             #frequency in rad/s\n",
    "K=0.48\n",
    "\n",
    "#calculation:\n",
    "Acl=Rf/R1                 #closed loop gain\n",
    "K=Acl*Vi                  #output voltage in volts\n",
    "x=(Sr/K)*(10**6)          #maximum frequency value in rad/s\n",
    "\n",
    "if(w<=x):\n",
    "    print \"No output distortion\"\n",
    "else:\n",
    "    print \"Distortion in output\""
   ]
  },
  {
   "cell_type": "markdown",
   "metadata": {},
   "source": [
    "## Example-10.15   Page number-621"
   ]
  },
  {
   "cell_type": "code",
   "execution_count": 43,
   "metadata": {
    "collapsed": false
   },
   "outputs": [
    {
     "name": "stdout",
     "output_type": "stream",
     "text": [
      "Current drawn from the power supply: 20.83 mA\n"
     ]
    }
   ],
   "source": [
    "#from the data given in the question:\n",
    "V=12.0                           #dual power supply in volts\n",
    "P=500                            #power dissipated in mW\n",
    "\n",
    "#Curent drawn I:\n",
    "I=(P/2)/V\n",
    "\n",
    "print \"Current drawn from the power supply:\",round(I,2),\"mA\""
   ]
  },
  {
   "cell_type": "markdown",
   "metadata": {},
   "source": [
    "##  Example-10.16   Page number-624"
   ]
  },
  {
   "cell_type": "code",
   "execution_count": 45,
   "metadata": {
    "collapsed": false
   },
   "outputs": [
    {
     "name": "stdout",
     "output_type": "stream",
     "text": [
      "Output offset voltage due to Vi: 31.0 mV\n",
      "Output offset voltage due to Ii: 7.2 mV\n",
      "Total offset voltage of the amplifier: 38.2 mV\n"
     ]
    }
   ],
   "source": [
    "#from the given circuit:\n",
    "Vio=1                     #input voltage in mV\n",
    "Rf=360.0                  #feedback resistance in Kohm\n",
    "R1=12.0                   #input resistance in Kohm\n",
    "Ii=20                     #input current in nA\n",
    "\n",
    "#Output offset voltage Vo1(due to Vio):\n",
    "Vo1=((R1+Rf)/R1)*Vio         #in mV\n",
    "\n",
    "#Output offset voltage Vo2(due to Ii):\n",
    "Vo2=Ii*(10**-3)*Rf          #in mVolts\n",
    "\n",
    "Total=Vo1+Vo2               #in mvolts\n",
    "\n",
    "print \"Output offset voltage due to Vi:\",round(Vo1,2),\"mV\"\n",
    "print \"Output offset voltage due to Ii:\",round(Vo2,2),\"mV\"\n",
    "print \"Total offset voltage of the amplifier:\",round(Total,2),\"mV\""
   ]
  },
  {
   "cell_type": "markdown",
   "metadata": {},
   "source": [
    "##  Example-10.17   Page number-624"
   ]
  },
  {
   "cell_type": "code",
   "execution_count": 52,
   "metadata": {
    "collapsed": false
   },
   "outputs": [
    {
     "name": "stdout",
     "output_type": "stream",
     "text": [
      "Closed loop gain Acl: -30\n",
      "Input Impedance Zi: 12 Kohm\n",
      "Output Impedance Zo= 0.011 ohm\n"
     ]
    }
   ],
   "source": [
    "#for the 741 Op-amp:\n",
    "r0=75.0                   #resistance in ohm\n",
    "A=200*(10**3)             #gain\n",
    "Rf=360                    #feedback resistor in Kohm\n",
    "R1=12                     #input resistor in Kohm\n",
    "B=1.0/30\n",
    "#calculation:\n",
    "Acl=-Rf/R1               #(a)Closed loop gain \n",
    "Zi=R1                    #(b)input impedance in Kohm\n",
    "Zo=r0/(1+B*A)            #(c)output impedance in ohm\n",
    "\n",
    "print \"Closed loop gain Acl:\",Acl\n",
    "print \"Input Impedance Zi:\",Zi,\"Kohm\"\n",
    "print \"Output Impedance Zo=\",round(Zo,3),\"ohm\""
   ]
  },
  {
   "cell_type": "markdown",
   "metadata": {},
   "source": [
    "##  Example-10.18   Page number-625"
   ]
  },
  {
   "cell_type": "code",
   "execution_count": 56,
   "metadata": {
    "collapsed": false
   },
   "outputs": [
    {
     "name": "stdout",
     "output_type": "stream",
     "text": [
      "Cut-off frequency fc: 50 Hz\n"
     ]
    }
   ],
   "source": [
    "#from th given characterstics:\n",
    "f1=1*(10**6)                 #frequency in Hz\n",
    "Avd=20000                    #large signal amplification\n",
    "\n",
    "fc=f1/Avd                     #cut-off frequency\n",
    "print \"Cut-off frequency fc:\",fc,\"Hz\""
   ]
  },
  {
   "cell_type": "markdown",
   "metadata": {},
   "source": [
    "##  Example-10.19   Page number-625"
   ]
  },
  {
   "cell_type": "code",
   "execution_count": 62,
   "metadata": {
    "collapsed": false
   },
   "outputs": [
    {
     "name": "stdout",
     "output_type": "stream",
     "text": [
      "maximum frequencyof the input signal: 106.2 kHz\n"
     ]
    }
   ],
   "source": [
    "#from th given data:\n",
    "Vi=25*(10**-3)               #input voltage in V\n",
    "Acl=30                       #closed-loop gain\n",
    "Sr=0.5                        #slew rate in V/microS\n",
    "\n",
    "#Calculation:\n",
    "K=Acl*Vi                      #output gain factor\n",
    "fm=Sr/(2*3.14*K)               #maximum frequency in kHz\n",
    "\n",
    "print \"maximum frequencyof the input signal:\",round(fm*1000,1),\"kHz\""
   ]
  },
  {
   "cell_type": "markdown",
   "metadata": {},
   "source": [
    "##  Example-10.20   Page number-626"
   ]
  },
  {
   "cell_type": "code",
   "execution_count": 76,
   "metadata": {
    "collapsed": false
   },
   "outputs": [
    {
     "name": "stdout",
     "output_type": "stream",
     "text": [
      "Open loop voltage gain: 158489.3\n"
     ]
    }
   ],
   "source": [
    "import math\n",
    "#from the given figure:\n",
    "Vcc=12.0                    #supply voltage in volts\n",
    "Avd=104.0                    #open loop Gain in dB\n",
    "\n",
    "Avdc=10**(Avd/20)             #open loop voltage gain\n",
    "print \"Open loop voltage gain:\",round(Avdc,1)"
   ]
  },
  {
   "cell_type": "markdown",
   "metadata": {},
   "source": [
    "##  Example-10.21   Page number-628"
   ]
  },
  {
   "cell_type": "code",
   "execution_count": 82,
   "metadata": {
    "collapsed": false
   },
   "outputs": [
    {
     "name": "stdout",
     "output_type": "stream",
     "text": [
      "Value of CMRR in dB: 56.48 dB\n"
     ]
    }
   ],
   "source": [
    "import math\n",
    "#from the given circuit:\n",
    "#Differntial mode:\n",
    "Vo=8.0                       #output voltage in volts\n",
    "Vd=1*(10**-3)                #input voltage in volts\n",
    "Ad=Vo/Vd                     #Gain\n",
    "\n",
    "#Common Mode operation:\n",
    "Voc=12.0                      #output voltage in mV\n",
    "Vc=1                          #input voltage in mV\n",
    "Adc=Voc/Vc                    #Gain\n",
    "\n",
    "CMRR=round(Ad/Adc,1)\n",
    "CMRR=20*math.log10(CMRR)      #CMRR in dB\n",
    "\n",
    "print \"Value of CMRR in dB:\",round(CMRR,2),\"dB\""
   ]
  },
  {
   "cell_type": "markdown",
   "metadata": {},
   "source": [
    "##  Example-10.22(a)   Page number-629"
   ]
  },
  {
   "cell_type": "code",
   "execution_count": 90,
   "metadata": {
    "collapsed": false
   },
   "outputs": [
    {
     "name": "stdout",
     "output_type": "stream",
     "text": [
      "Output voltage of the Op-amp: 45.8 mV\n"
     ]
    }
   ],
   "source": [
    "#from the given question:\n",
    "Vi1=150.0                      #first input voltage in microV\n",
    "Vi2=140.0                      #second input voltage in microV\n",
    "Ad=4000.0                      #differential gain\n",
    "CMRR=100.0\n",
    "\n",
    "#Calculation:\n",
    "Vd=Vi1-Vi2                  #differential voltage in microV\n",
    "Vc=0.5*(Vi1+Vi2)            #common mode voltage\n",
    "\n",
    "Vo=Ad*Vd*(1+((1/CMRR)*(Vc/Vd)))\n",
    "\n",
    "print \"Output voltage of the Op-amp:\",round(Vo/1000,2),\"mV\""
   ]
  },
  {
   "cell_type": "markdown",
   "metadata": {},
   "source": [
    "##  Example-10.22(b)   Page number-629"
   ]
  },
  {
   "cell_type": "code",
   "execution_count": 92,
   "metadata": {
    "collapsed": false
   },
   "outputs": [
    {
     "name": "stdout",
     "output_type": "stream",
     "text": [
      "Output voltage of the Op-amp: 40.006 mV\n"
     ]
    }
   ],
   "source": [
    "#from the given question:\n",
    "Vi1=150.0                      #first input voltage in microV\n",
    "Vi2=140.0                      #second input voltage in microV\n",
    "Ad=4000.0                      #differential gain\n",
    "CMRR=100000.0\n",
    "\n",
    "#Calculation:\n",
    "Vd=Vi1-Vi2                  #differential voltage in microV\n",
    "Vc=0.5*(Vi1+Vi2)            #common mode voltage\n",
    "\n",
    "Vo=Ad*Vd*(1+((1/CMRR)*(Vc/Vd)))\n",
    "\n",
    "print \"Output voltage of the Op-amp:\",round(Vo/1000,3),\"mV\""
   ]
  }
 ],
 "metadata": {
  "kernelspec": {
   "display_name": "Python [Root]",
   "language": "python",
   "name": "Python [Root]"
  },
  "language_info": {
   "codemirror_mode": {
    "name": "ipython",
    "version": 2
   },
   "file_extension": ".py",
   "mimetype": "text/x-python",
   "name": "python",
   "nbconvert_exporter": "python",
   "pygments_lexer": "ipython2",
   "version": "2.7.12"
  }
 },
 "nbformat": 4,
 "nbformat_minor": 0
}
