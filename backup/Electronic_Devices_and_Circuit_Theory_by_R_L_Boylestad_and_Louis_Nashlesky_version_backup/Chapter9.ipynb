{
 "cells": [
  {
   "cell_type": "markdown",
   "metadata": {},
   "source": [
    "# Chapter-9 BJT and JFET Frequency Response"
   ]
  },
  {
   "cell_type": "markdown",
   "metadata": {},
   "source": [
    "## Example- 9.1   Page number-539"
   ]
  },
  {
   "cell_type": "code",
   "execution_count": 15,
   "metadata": {
    "collapsed": false
   },
   "outputs": [
    {
     "name": "stdout",
     "output_type": "stream",
     "text": [
      "a: 6.0\n",
      "b: 3.0\n",
      "c: -2.0\n",
      "d: -1.0\n"
     ]
    }
   ],
   "source": [
    "import math\n",
    "e=2.718\n",
    "print \"a:\",math.log10(10**6)\n",
    "print \"b:\",round(math.log(e**3),1)\n",
    "print \"c:\",math.log10(10**-2)\n",
    "print \"d:\",round(math.log(e**-1),1)"
   ]
  },
  {
   "cell_type": "markdown",
   "metadata": {},
   "source": [
    "## Example- 9.2   Page number-539"
   ]
  },
  {
   "cell_type": "code",
   "execution_count": 7,
   "metadata": {
    "collapsed": false
   },
   "outputs": [
    {
     "name": "stdout",
     "output_type": "stream",
     "text": [
      "a: 1.806\n",
      "b: 4.159\n",
      "c: 3.204\n",
      "d: 3.903\n"
     ]
    }
   ],
   "source": [
    "import math\n",
    "print \"a:\",round(math.log10(64),3)\n",
    "print \"b:\",round(math.log(64),3)\n",
    "print \"c:\",round(math.log10(1600),3)\n",
    "print \"d:\",round(math.log10(8000),3)"
   ]
  },
  {
   "cell_type": "markdown",
   "metadata": {},
   "source": [
    "## Example- 9.3   Page number-540"
   ]
  },
  {
   "cell_type": "code",
   "execution_count": 14,
   "metadata": {
    "collapsed": false
   },
   "outputs": [
    {
     "name": "stdout",
     "output_type": "stream",
     "text": [
      "a: 39.81\n",
      "b: 1.0408\n"
     ]
    }
   ],
   "source": [
    "import math\n",
    "e=2.718\n",
    "print \"a:\",round(10**(1.6),2)\n",
    "print \"b:\",round(e**0.04,4)"
   ]
  },
  {
   "cell_type": "markdown",
   "metadata": {},
   "source": [
    "## Example- 9.4   Page number-541"
   ]
  },
  {
   "cell_type": "code",
   "execution_count": 23,
   "metadata": {
    "collapsed": false
   },
   "outputs": [
    {
     "name": "stdout",
     "output_type": "stream",
     "text": [
      "a: -0.3\n",
      "b: 1.204\n",
      "c: 1.255\n"
     ]
    }
   ],
   "source": [
    "import math\n",
    "x=4000.0/250.0\n",
    "\n",
    "print \"a:\",round(math.log10(0.5),1)\n",
    "print \"b:\",round(math.log10(x),3)\n",
    "print \"c:\",round(math.log10(0.6*30),3)"
   ]
  },
  {
   "cell_type": "markdown",
   "metadata": {},
   "source": [
    "## Example- 9.6   Page number-544"
   ]
  },
  {
   "cell_type": "code",
   "execution_count": 25,
   "metadata": {
    "collapsed": false
   },
   "outputs": [
    {
     "name": "stdout",
     "output_type": "stream",
     "text": [
      "Magnitude of gain: 100000.0\n"
     ]
    }
   ],
   "source": [
    "A=100.0                   #Gain in dB\n",
    "\n",
    "#we know: A=20*log(x),therefore:\n",
    "x=10**(A/20)\n",
    "\n",
    "print \"Magnitude of gain:\",x"
   ]
  },
  {
   "cell_type": "markdown",
   "metadata": {},
   "source": [
    "## Example- 9.7   Page number-544"
   ]
  },
  {
   "cell_type": "code",
   "execution_count": 33,
   "metadata": {
    "collapsed": false
   },
   "outputs": [
    {
     "name": "stdout",
     "output_type": "stream",
     "text": [
      "a:Power gain: -13.01 dB\n",
      "b:Voltage gain: -20.0 dB\n"
     ]
    }
   ],
   "source": [
    "import math\n",
    "#from the data given in the question:\n",
    "Pi=10000                         #input power in watt\n",
    "Po=500.0                          #output power in watt\n",
    "Vi=1000                          #input voltage in volts\n",
    "Zo=20                            #output impedance in ohm\n",
    "\n",
    "#Calculation:\n",
    "Gp=10*math.log10(Po/Pi)            #power gain in dB\n",
    "Vo=math.sqrt(Po*Zo)                 #output voltage in volts\n",
    "Gv=20*math.log10(Vo/Vi)            #voltage gain in dB\n",
    "\n",
    "\n",
    "print \"a:Power gain:\",round(Gp,2),\"dB\"\n",
    "print \"b:Voltage gain:\",Gv,\"dB\""
   ]
  },
  {
   "cell_type": "markdown",
   "metadata": {},
   "source": [
    "## Example- 9.8   Page number-544"
   ]
  },
  {
   "cell_type": "code",
   "execution_count": 34,
   "metadata": {
    "collapsed": false
   },
   "outputs": [
    {
     "name": "stdout",
     "output_type": "stream",
     "text": [
      "a:Input power : 126.5 dB\n",
      "b:Input Voltage: 0.2 V\n"
     ]
    }
   ],
   "source": [
    "import math\n",
    "#from the data given in the question:\n",
    "Po=40.0                          #output power in watt\n",
    "Zo=10                            #output impedance in ohm\n",
    "Pi=25                            #input power in dB\n",
    "\n",
    "#Calculation: \n",
    "Piw=Po/(10**2.5)                 #input power in watt\n",
    "Vo=math.sqrt(Po*Zo)              #output voltage in volts\n",
    "Vi=Vo/100                        #input voltage in V\n",
    "\n",
    "\n",
    "print \"a:Input power :\",round(Piw*1000,1),\"dB\"\n",
    "print \"b:Input Voltage:\",Vi,\"V\""
   ]
  },
  {
   "cell_type": "markdown",
   "metadata": {},
   "source": [
    "## Example- 9.10   Page number-553"
   ]
  },
  {
   "cell_type": "code",
   "execution_count": 40,
   "metadata": {
    "collapsed": false
   },
   "outputs": [
    {
     "name": "stdout",
     "output_type": "stream",
     "text": [
      "Break frequency: 318.5 Hz\n",
      "Gain: 0.501\n"
     ]
    }
   ],
   "source": [
    "#from the given figure:\n",
    "C=0.1*(10**-6)               #capacitance in farad\n",
    "R=5*(10**3)                  #Resistance in ohm\n",
    "Avd=-6.0                      #gain in dB\n",
    "\n",
    "#calculation:\n",
    "\n",
    "f1=1/(2*3.14*R*C)               #break frequency in Hz\n",
    "Av=10**(Avd/20)                 #Gain\n",
    "\n",
    "print \"Break frequency:\",round(f1,1),\"Hz\"\n",
    "print \"Gain:\",round(Av,3)"
   ]
  },
  {
   "cell_type": "markdown",
   "metadata": {},
   "source": [
    "## Example- 9.11   Page number-558"
   ]
  },
  {
   "cell_type": "code",
   "execution_count": 99,
   "metadata": {
    "collapsed": false
   },
   "outputs": [
    {
     "name": "stdout",
     "output_type": "stream",
     "text": [
      "Value of re: 15.76 ohm\n",
      "cut-off frequency due to source capacitance Cs: 6.87 Hz\n",
      "cut-off frequency due to collector capacitance Cc: 25.68 Hz\n",
      "cut-off frequency due to emitter capacitance Ce: 327.0 Hz\n",
      "The cut-off frequency of the network: 327.0 Hz\n"
     ]
    }
   ],
   "source": [
    "#from the data given in the question:\n",
    "Cs=10.0                     #source capacitor in microF\n",
    "Ce=20.0                     #emitter capacitor in microF\n",
    "Cc=1.0                      #collector capacitor in microF\n",
    "Rs=1.0                      #source Resistance in kohm\n",
    "Re=2.0                      #emitter Resistance in kohm\n",
    "Rc=4.0                      #collector Resistance in kohm\n",
    "R1=40.0                     #in kohm\n",
    "R2=10.0                     #in kohm\n",
    "Rl=2.2                     #load resistance in kohm\n",
    "B=100.0\n",
    "Vcc=20.0                    #supply voltage in volts\n",
    "\n",
    "#Calculation:\n",
    "\n",
    "#since,B*Re>>10*R2, we can apply voltage divider configuration:\n",
    "Vb=(R2*Vcc)/(R2+R1)          #Base voltage in Volts\n",
    "Ve=Vb-0.7                    #emitter voltage in volts\n",
    "Ie=Ve/Re                     #emitter current in mA\n",
    "re=26/Ie                     #in ohm\n",
    "x=(B*re)/1000                #temporary value\n",
    "t=(Rc*Rl)/(Rc+Rl)            #effective resistance for Rc||Rl in kohm\n",
    "Av=-round((t/re)*1000)       #midband gain\n",
    "\n",
    "Y=(R1*R2)/(R1+R2)            #temporary value\n",
    "Zi=(Y*x)/(Y+x)               #input impedance in kohm\n",
    "\n",
    "d=round(Zi/(Zi+Rs),4)        #temporary value\n",
    "Avs=round(d*Av,2)            #new gain\n",
    "\n",
    "#calculating effect of capacitors:\n",
    "Ri=Zi\n",
    "Fls=1/(2*3.14*(Rs+Ri)*Cs)           #cut-off frequency due to source capacitance in Hz\n",
    "\n",
    "Flc=1/(2*3.14*(Rc+Rl)*Cc)           #cut-off frequency due to collector capacitance in Hz\n",
    "\n",
    "Rsnew=(Y*Rs)/(Y+Rs)                  #effective resistance of R1||R2||Rs\n",
    "g=(Rsnew/B)*1000+re\n",
    "Re=Re*1000                           #emitter resistance in ohm\n",
    "Recf=round((g*Re)/(g+Re),2)                   \n",
    "Fle=1/(2*3.14*Recf*Ce)              #cut-off frequency due to emitter capacitance in Hz\n",
    "\n",
    "print \"Value of re:\",round(re,2),\"ohm\"\n",
    "print \"cut-off frequency due to source capacitance Cs:\",round(Fls*1000,2),\"Hz\"\n",
    "print \"cut-off frequency due to collector capacitance Cc:\",round(Flc*1000,2),\"Hz\"\n",
    "print \"cut-off frequency due to emitter capacitance Ce:\",round(Fle*(10**6),1),\"Hz\"\n",
    "\n",
    "print \"The cut-off frequency of the network:\",round(max(Fls*1000,Flc*1000,Fle*(10**6)),1),\"Hz\""
   ]
  },
  {
   "cell_type": "markdown",
   "metadata": {},
   "source": [
    "### Note: The difference in result obtained is due to different precision of values taken at each step of the solution"
   ]
  },
  {
   "cell_type": "markdown",
   "metadata": {},
   "source": [
    "## Example- 9.12   Page number-566"
   ]
  },
  {
   "cell_type": "code",
   "execution_count": 30,
   "metadata": {
    "collapsed": false
   },
   "outputs": [
    {
     "name": "stdout",
     "output_type": "stream",
     "text": [
      "cut-off frequency due to source capacitance Cs: 46.16 Hz\n",
      "cut-off frequency due to 1st coupling capacitance Cg: 15.77 Hz\n",
      "cut-off frequency due to 2nd coupling capacitance Cs: 238.9 Hz\n",
      "The cut-off frequency of the network: 238.9 Hz\n"
     ]
    }
   ],
   "source": [
    "#from the drawn characterstics graph:\n",
    "Vgs=-2.0                           #Gate source voltage in volts\n",
    "Id=2                               #Drain current in mA\n",
    "Cg=0.01                            #second coupling capacitor in microF\n",
    "Cs=2.0                             #source capacitor in microF\n",
    "Cc=0.5                             # second coupling capacitor in microF\n",
    "Rsig=10.0                          #input Resistance in kohm\n",
    "Rg=1000.0                          #gate Resistance in Mohm\n",
    "Rd=4.7                             #drain Resistance in kohm\n",
    "Rs=1.0                             #source resistancein kohm\n",
    "Idss=8                             #drain saturation current in mA\n",
    "Vp=-4.0                            #threshold voltage in volts\n",
    "Vdd=20                             #supply voltage in volts\n",
    "Rl=2.2                             #load resistance in kohm\n",
    "\n",
    "#Calculation:\n",
    "gmo=(2*Idss)/Vp\n",
    "gm=gmo*(1-((Vgs/Vp)))\n",
    "Ro=Rd\n",
    "#calculating effect of capacitors:\n",
    "Flg=1/(2*3.14*Cg*(10**-3)*(Rsig+Rg))                              #effect of Coupling capacitor\n",
    "Flc=1/(2*3.14*Cc*(10**-3)*(Ro+Rl))                                #effect of coupling capacitor\n",
    "\n",
    "p=-1/gm                                                   #temporary value\n",
    "Req=((Rs*p)/(Rs+p))*1000                                  \n",
    "Fls=1/(2*3.14*Req*Cs)                                    #effect of source capacitor\n",
    "\n",
    "print \"cut-off frequency due to source capacitance Cs:\",round(Flc,2),\"Hz\"\n",
    "print \"cut-off frequency due to 1st coupling capacitance Cg:\",round(Flg,2),\"Hz\"\n",
    "print \"cut-off frequency due to 2nd coupling capacitance Cs:\",round(Fls*(10**6),1),\"Hz\"\n",
    "\n",
    "print \"The cut-off frequency of the network:\",round(max(Flc,Flg,Fls*(10**6)),1),\"Hz\""
   ]
  },
  {
   "cell_type": "markdown",
   "metadata": {},
   "source": [
    "## Example- 9.13   Page number-576"
   ]
  },
  {
   "cell_type": "code",
   "execution_count": 46,
   "metadata": {
    "collapsed": false
   },
   "outputs": [
    {
     "name": "stdout",
     "output_type": "stream",
     "text": [
      "cut-off frequency for input network Fhi: 738.36 kHz\n",
      "cut-off frequency for output network Fho: 8.6 MHz\n",
      "Beta cut-off frequency Fb: 2.53 Hz\n",
      "Gain Bandwidth Product Ft: 252.6 Hz\n"
     ]
    }
   ],
   "source": [
    "#from the data given in the question:\n",
    "Cs=10.0                      #source capacitor in microF\n",
    "Ce=20.0                      #emitter capacitor in microF\n",
    "Cc=1.0                       #collector capacitor in microF\n",
    "Rs=1.0                       #source Resistance in kohm\n",
    "Re=2.0                       #emitter Resistance in kohm\n",
    "Rc=4.0                       #collector Resistance in kohm\n",
    "R1=40.0                      #in kohm\n",
    "R2=10.0                      #in kohm\n",
    "Rl=2.2                       #load resistance in kohm\n",
    "B=100.0\n",
    "Vcc=20.0                     #supply voltage in volts\n",
    "\n",
    "Cbe=36.0                      #base-emitter capacitor in pF\n",
    "Cbc=4.0                       #base-collector capacitor in pF\n",
    "Cce=1.0                       #collector-emitter capacitor in pF\n",
    "Cwi=6                         #in pF\n",
    "Cwo=8                         #in pF\n",
    "Ri=1.32                       #in kohm\n",
    "Avmid=-90.0                   #normal Gain\n",
    "re=15.76                      #in ohm\n",
    "#calculation:\n",
    "\n",
    "\n",
    "y=(R1*R2)/(R1+R2)                #temporary value\n",
    "z=(Rs*y)/(Rs+y)                  #temporary value\n",
    "Rthi=(Ri*z)/(Ri+z)               #effective input resistance in kohm\n",
    "Rtho=(Rc*Rl)/(Rc+Rl)             #effective output resistance in kohm\n",
    "Ci=Cwi+Cbe+(Cbc*(1-Avmid))       #input capacitance in pF\n",
    "Co=Cwo+Cce+(1-(1/Avmid))*Cbc     #output capacitance in pF\n",
    "\n",
    "Fhi=1/(2*Rthi*3.14*Ci*(10**-6))           #cut-off frequency for input network\n",
    "Fho=1/(2*Rtho*3.14*Co)                    #cut-off frequency for output network\n",
    "\n",
    "Fb=1/(2*3.14*B*re*(Cbe+Cbc)*(10**-6))\n",
    "Ft=B*Fb\n",
    "\n",
    "print \"cut-off frequency for input network Fhi:\",round(Fhi,2),\"kHz\"\n",
    "print \"cut-off frequency for output network Fho:\",round(Fho*1000,2),\"MHz\"\n",
    "print \"Beta cut-off frequency Fb:\",round(Fb,2),\"Hz\"\n",
    "print \"Gain Bandwidth Product Ft:\",round(Ft,1),\"Hz\""
   ]
  },
  {
   "cell_type": "markdown",
   "metadata": {},
   "source": [
    "### Note: The difference in result obtained is due to different precision of values taken at each step of the solution"
   ]
  }
 ],
 "metadata": {
  "kernelspec": {
   "display_name": "Python [Root]",
   "language": "python",
   "name": "Python [Root]"
  },
  "language_info": {
   "codemirror_mode": {
    "name": "ipython",
    "version": 2
   },
   "file_extension": ".py",
   "mimetype": "text/x-python",
   "name": "python",
   "nbconvert_exporter": "python",
   "pygments_lexer": "ipython2",
   "version": "2.7.12"
  }
 },
 "nbformat": 4,
 "nbformat_minor": 0
}
