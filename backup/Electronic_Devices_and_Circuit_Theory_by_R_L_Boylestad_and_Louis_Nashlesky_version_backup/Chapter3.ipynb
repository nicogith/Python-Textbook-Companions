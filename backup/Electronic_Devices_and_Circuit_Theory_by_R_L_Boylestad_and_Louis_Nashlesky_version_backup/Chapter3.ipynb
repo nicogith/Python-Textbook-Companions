{
 "cells": [
  {
   "cell_type": "markdown",
   "metadata": {},
   "source": [
    "# Chapter-3 Bipolar Junction Transistors"
   ]
  },
  {
   "cell_type": "markdown",
   "metadata": {},
   "source": [
    "## Example-3.1(a)      Page Number-136"
   ]
  },
  {
   "cell_type": "code",
   "execution_count": 3,
   "metadata": {
    "collapsed": false
   },
   "outputs": [
    {
     "name": "stdout",
     "output_type": "stream",
     "text": [
      "Collector current(Ic)= 3 mA\n"
     ]
    }
   ],
   "source": [
    "Ie=3          #in mA(emitter current)\n",
    "Vcb=10        #in volts(collector-base voltage)\n",
    "#from the characterstics given in the question\n",
    "#looking at the intersection of line Vcb=10V and Ie=3mA,\n",
    "Ic=3          #in mA(collector current)\n",
    "print \"Collector current(Ic)=\",Ic,\"mA\""
   ]
  },
  {
   "cell_type": "markdown",
   "metadata": {},
   "source": [
    "## Example-3.1(b)      Page Number-136"
   ]
  },
  {
   "cell_type": "code",
   "execution_count": 6,
   "metadata": {
    "collapsed": false
   },
   "outputs": [
    {
     "name": "stdout",
     "output_type": "stream",
     "text": [
      "Collector current(Ic)= 3 mA\n",
      "Change in Ic is negligible\n"
     ]
    }
   ],
   "source": [
    "Ie=3          #in mA(emitter current)\n",
    "Vcb=2        #in volts(collector-base voltage)\n",
    "#from the characterstics given in the question\n",
    "#looking at the intersection of line Vcb=2V and Ie=3mA,\n",
    "Ic=3          #in mA(collector current)\n",
    "print \"Collector current(Ic)=\",Ic,\"mA\"\n",
    "print \"Change in Ic is negligible\""
   ]
  },
  {
   "cell_type": "markdown",
   "metadata": {},
   "source": [
    "## Example-3.1(c)      Page Number-136"
   ]
  },
  {
   "cell_type": "code",
   "execution_count": 7,
   "metadata": {
    "collapsed": false
   },
   "outputs": [
    {
     "name": "stdout",
     "output_type": "stream",
     "text": [
      "Vbe= 0.74 V\n"
     ]
    }
   ],
   "source": [
    "Ic=4         #in mA(collector current)\n",
    "Vcb=20       #in volts(collector-base voltage)\n",
    "#from the characterstics given in the question\n",
    "#from the 2nd charcterstics,\n",
    "Ie=Ic\n",
    "#looking at the intersection of line Vcb=20V and Ie=Ic=4mA,\n",
    "Vbe=0.74     #in volts(base-emitter voltage)\n",
    "print \"Vbe=\",Vbe,\"V\""
   ]
  },
  {
   "cell_type": "markdown",
   "metadata": {},
   "source": [
    "## Example-3.1(d)      Page Number-136"
   ]
  },
  {
   "cell_type": "code",
   "execution_count": 9,
   "metadata": {
    "collapsed": false
   },
   "outputs": [
    {
     "name": "stdout",
     "output_type": "stream",
     "text": [
      "Vbe= 0.7 V\n"
     ]
    }
   ],
   "source": [
    "Ic=4         #in mA(collector current)\n",
    "Vcb=20       #in volts(collector-base voltage)\n",
    "#from the characterstics given in the question\n",
    "#from the 1st charcterstics,\n",
    "Ie=Ic\n",
    "#from the 2nd charcterstics,Vbe is always 0.7V for any Ie\n",
    "Vbe=0.7      #in volts(base-emitter voltage)\n",
    "print \"Vbe=\",Vbe,\"V\""
   ]
  },
  {
   "cell_type": "markdown",
   "metadata": {},
   "source": [
    "## Example-3.2(a)      Page Number-141"
   ]
  },
  {
   "cell_type": "code",
   "execution_count": 11,
   "metadata": {
    "collapsed": false
   },
   "outputs": [
    {
     "name": "stdout",
     "output_type": "stream",
     "text": [
      "collector current(Ic)= 3.4 mA\n"
     ]
    }
   ],
   "source": [
    "Ib=30            #in microA (base current)\n",
    "Vce=10           #in volts(collector-emitter voltage)\n",
    "#from the characterstics given in the question,\n",
    "#looking at the intersection of line Vce=10V and Ib=30microA,\n",
    "Ic=3.4           #in mA(collector current)\n",
    "print \"collector current(Ic)=\",Ic,\"mA\""
   ]
  },
  {
   "cell_type": "markdown",
   "metadata": {},
   "source": [
    "## Example-3.2(b)      Page Number-141"
   ]
  },
  {
   "cell_type": "code",
   "execution_count": 12,
   "metadata": {
    "collapsed": false
   },
   "outputs": [
    {
     "name": "stdout",
     "output_type": "stream",
     "text": [
      "collector current(Ic)= 2.5 mA\n"
     ]
    }
   ],
   "source": [
    "Vce=15           #in volts(collector-emitter voltage)\n",
    "Vbe=0.7           #in volts(collector-emitter voltage)\n",
    "#from the characterstics of Vbe vs Ib given in the question,\n",
    "#looking at the intersection of line Vce=15V and Vbe=0.7V,\n",
    "\n",
    "Ib=20           #in microA(base current)\n",
    "\n",
    "#from the characterstics of Vce vs Ic given in the question,\n",
    "#looking at the intersection of line Vce=15V and Ib=0.7 microA,\n",
    "\n",
    "Ic=2.5          #in mA(collector current)\n",
    "print \"collector current(Ic)=\",Ic,\"mA\""
   ]
  }
 ],
 "metadata": {
  "anaconda-cloud": {},
  "kernelspec": {
   "display_name": "Python [Root]",
   "language": "python",
   "name": "Python [Root]"
  },
  "language_info": {
   "codemirror_mode": {
    "name": "ipython",
    "version": 2
   },
   "file_extension": ".py",
   "mimetype": "text/x-python",
   "name": "python",
   "nbconvert_exporter": "python",
   "pygments_lexer": "ipython2",
   "version": "2.7.12"
  }
 },
 "nbformat": 4,
 "nbformat_minor": 0
}
