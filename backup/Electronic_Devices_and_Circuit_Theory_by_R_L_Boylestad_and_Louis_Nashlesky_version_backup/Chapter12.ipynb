{
 "cells": [
  {
   "cell_type": "markdown",
   "metadata": {},
   "source": [
    "# Chapter-12 Power Amplifiers"
   ]
  },
  {
   "cell_type": "markdown",
   "metadata": {},
   "source": [
    "## Example-12.1         Page Number-676"
   ]
  },
  {
   "cell_type": "code",
   "execution_count": 76,
   "metadata": {
    "collapsed": false
   },
   "outputs": [
    {
     "name": "stdout",
     "output_type": "stream",
     "text": [
      "Input dc power Pi= 9.65 W\n",
      "output ac power Po= 0.625 W\n",
      "Efficiency n= 6.5 %\n"
     ]
    }
   ],
   "source": [
    "#from the given question:\n",
    "Vcc=20                 #in volts\n",
    "Rb=1                   #base resistance in Kohm\n",
    "B=25                   #gain\n",
    "Rc=20                  #collector resistance in ohm\n",
    "\n",
    "#calculation of Q-point Parameters:\n",
    "Ibq=(Vcc-0.7)/Rb           #base current\n",
    "Icq=B*Ibq                  #collector current\n",
    "Vce=Vcc-Icq*Rc              #collector -emitter voltage\n",
    "\n",
    "#when applying ac signal:\n",
    "Ib=10                      #peak base current value in mA\n",
    "Ic=B*Ib                    #peak collector current in mA\n",
    "Ic=Ic*(10**-3)             #converting Ic to ampere\n",
    "\n",
    "Po=(Ic*Ic*Rc)/2            #output ac power in watt\n",
    "Pi=Vcc*(Icq*(10**-3))       #input dc power in watt\n",
    "\n",
    "n=(Po/Pi)*100              #efficiency in %\n",
    "\n",
    "print \"Input dc power Pi=\",Pi,\"W\"\n",
    "print \"output ac power Po=\",Po,\"W\"\n",
    "print \"Efficiency n=\",round(n,1),\"%\""
   ]
  },
  {
   "cell_type": "markdown",
   "metadata": {},
   "source": [
    "## Example-12.2         Page Number-678"
   ]
  },
  {
   "cell_type": "code",
   "execution_count": 77,
   "metadata": {
    "collapsed": false
   },
   "outputs": [
    {
     "name": "stdout",
     "output_type": "stream",
     "text": [
      "effective resistance Rl= 1.8 Kohm\n"
     ]
    }
   ],
   "source": [
    "#for the given transformer:\n",
    "N1=15.0                     #no. of turns in primary coil\n",
    "N2=1.0                      #no. of turns in secondary coil\n",
    "Rl=8.0                      #load resistance\n",
    "\n",
    "#as seen looking into the primary coil of the transformer:\n",
    "a=N1/N2\n",
    "Rle=a*a*Rl\n",
    "\n",
    "print \"effective resistance Rl=\",(Rle/1000),\"Kohm\""
   ]
  },
  {
   "cell_type": "markdown",
   "metadata": {},
   "source": [
    "## Example-12.3         Page Number-679"
   ]
  },
  {
   "cell_type": "code",
   "execution_count": 78,
   "metadata": {
    "collapsed": false
   },
   "outputs": [
    {
     "name": "stdout",
     "output_type": "stream",
     "text": [
      "Turn ratio = 25 : 1 \n"
     ]
    }
   ],
   "source": [
    "import math\n",
    "#for the given transformer:\n",
    "Rl=16.0                      #load resistance in ohm\n",
    "Rle=10*(10**3)               #effective load resistance in ohm\n",
    "\n",
    "#as seen looking into the primary coil of the transformer:\n",
    "x=Rle/Rl\n",
    "Tr=math.sqrt(x)\n",
    "\n",
    "print \"Turn ratio =\",int(Tr),\": 1 \""
   ]
  },
  {
   "cell_type": "markdown",
   "metadata": {},
   "source": [
    "## Example-12.5         Page Number-682"
   ]
  },
  {
   "cell_type": "code",
   "execution_count": 79,
   "metadata": {
    "collapsed": false
   },
   "outputs": [
    {
     "name": "stdout",
     "output_type": "stream",
     "text": [
      "DC input power Pi= 1.4 W\n",
      "power dissipiated by the transistor Pq= 0.923 W\n",
      "Efficiency n= 34.1 %\n"
     ]
    }
   ],
   "source": [
    "#from the given Question:\n",
    "Vcc=10                      #supply voltage in volts\n",
    "Icq=140*(10**-3)            #collector current in ampere\n",
    "Po=0.477                    #output ac power in watt\n",
    "\n",
    "#input dc power Pi:\n",
    "Pi=Vcc*Icq                  #in watt \n",
    "#power dissipiated Pq:\n",
    "Pq=Pi-Po                    #in watt\n",
    "\n",
    "#efficiency n:\n",
    "n=(Po/Pi)*100               #in %\n",
    "\n",
    "print \"DC input power Pi=\",Pi,\"W\"\n",
    "print \"power dissipiated by the transistor Pq=\",Pq,\"W\"\n",
    "print \"Efficiency n=\",round(n,1),\"%\""
   ]
  },
  {
   "cell_type": "markdown",
   "metadata": {},
   "source": [
    "## Example-12.6(a)         Page Number-683"
   ]
  },
  {
   "cell_type": "code",
   "execution_count": 80,
   "metadata": {
    "collapsed": false
   },
   "outputs": [
    {
     "name": "stdout",
     "output_type": "stream",
     "text": [
      "Efficiency of the amplifier n= 50 %\n"
     ]
    }
   ],
   "source": [
    "#for the transformer-coupled class A amplifier:\n",
    "\n",
    "Vcc=12                     #supply voltage in volts\n",
    "Vce=Vcc                    #collector-emitter voltage\n",
    "Vp=12                      #output voltage in volts\n",
    "\n",
    "Vcemax=Vce+Vp              #maximum value of Vce\n",
    "Vcemin=Vce-Vp              #minimum value of Vce\n",
    "x=(Vcemax-Vcemin)/(Vcemax+Vcemin)\n",
    "n=50*(x*x)\n",
    "\n",
    "print \"Efficiency of the amplifier n=\",n,\"%\""
   ]
  },
  {
   "cell_type": "markdown",
   "metadata": {},
   "source": [
    "## Example-12.6(b)         Page Number-683"
   ]
  },
  {
   "cell_type": "code",
   "execution_count": 81,
   "metadata": {
    "collapsed": false
   },
   "outputs": [
    {
     "name": "stdout",
     "output_type": "stream",
     "text": [
      "Efficiency of the amplifier n= 12.5 %\n"
     ]
    }
   ],
   "source": [
    "#for the transformer-coupled class A amplifier:\n",
    "\n",
    "Vcc=12                     #supply voltage in volts\n",
    "Vce=Vcc                    #collector-emitter voltage\n",
    "Vp=6.0                     #output voltage in volts\n",
    "\n",
    "Vcemax=Vce+Vp              #maximum value of Vce\n",
    "Vcemin=Vce-Vp              #minimum value of Vce\n",
    "\n",
    "x=((Vcemax-Vcemin)/(Vcemax+Vcemin))\n",
    "n=50*x*x\n",
    "\n",
    "print \"Efficiency of the amplifier n=\",n,\"%\""
   ]
  },
  {
   "cell_type": "markdown",
   "metadata": {},
   "source": [
    "## Example-12.6(c)         Page Number-683"
   ]
  },
  {
   "cell_type": "code",
   "execution_count": 82,
   "metadata": {
    "collapsed": false
   },
   "outputs": [
    {
     "name": "stdout",
     "output_type": "stream",
     "text": [
      "Efficiency of the amplifier n= 1.39 %\n"
     ]
    }
   ],
   "source": [
    "#for the transformer-coupled class A amplifier:\n",
    "\n",
    "Vcc=12                     #supply voltage in volts\n",
    "Vce=Vcc                    #collector-emitter voltage\n",
    "Vp=2.0                     #output voltage in volts\n",
    "\n",
    "Vcemax=Vce+Vp              #maximum value of Vce\n",
    "Vcemin=Vce-Vp              #minimum value of Vce\n",
    "\n",
    "x=((Vcemax-Vcemin)/(Vcemax+Vcemin))\n",
    "n=50*x*x\n",
    "\n",
    "print \"Efficiency of the amplifier n=\",round(n,2),\"%\""
   ]
  },
  {
   "cell_type": "markdown",
   "metadata": {},
   "source": [
    "## Example-12.7         Page Number-686"
   ]
  },
  {
   "cell_type": "code",
   "execution_count": 83,
   "metadata": {
    "collapsed": false
   },
   "outputs": [
    {
     "name": "stdout",
     "output_type": "stream",
     "text": [
      "Input dc power Pi= 23.9 W\n",
      "output ac power Po= 12.5 W\n",
      "Efficiency n= 52.3 %\n"
     ]
    }
   ],
   "source": [
    "#for the transformer-coupled class B amplifier:\n",
    "\n",
    "Vcc=30                     #supply voltage in volts\n",
    "Vp=20                      #output voltage in volts\n",
    "Rl=16.0                    #load resistance in ohm\n",
    "\n",
    "#calculation:\n",
    "Ilp=Vp/Rl                #peak load current in ampere\n",
    "Idc=(2*Ilp)/3.14         #dc value of current drawn from power supply im ampere\n",
    "Pi=Vcc*Idc               #input dc power in watt\n",
    "Po=(Vp*Vp)/(2*Rl)        #output ac power in watt\n",
    "\n",
    "n=(Po/Pi)*100            #efficiency in %\n",
    "\n",
    "print \"Input dc power Pi=\",round(Pi,1),\"W\"\n",
    "print \"output ac power Po=\",Po,\"W\"\n",
    "print \"Efficiency n=\",round(n,1),\"%\""
   ]
  },
  {
   "cell_type": "markdown",
   "metadata": {},
   "source": [
    "## Example-12.8         Page Number-687"
   ]
  },
  {
   "cell_type": "code",
   "execution_count": 84,
   "metadata": {
    "collapsed": false
   },
   "outputs": [
    {
     "name": "stdout",
     "output_type": "stream",
     "text": [
      "DC input power Pi= 35.83 W\n",
      "AC output power Po= 28.125 W\n",
      "maximum power dissipiated by each transistor Pmax= 5.7 W\n"
     ]
    }
   ],
   "source": [
    "#for the transformer-coupled class B amplifier:\n",
    "\n",
    "Vcc=30                     #supply voltage in volts\n",
    "Rl=16.0                    #load resistance in ohm\n",
    "\n",
    "#calculation:\n",
    "Po=(Vcc*Vcc)/(2*Rl)                      #output ac power in watt\n",
    "Pi=(2*Vcc*Vcc)/(Rl*3.14)                 #input dc power in watt\n",
    "n=(Po/Pi)*100                            #efficiency in %\n",
    "Pmax=(0.5*2*Vcc*Vcc)/(Rl*3.14*3.14)      #maximum power dissipiated\n",
    "\n",
    "\n",
    "print \"DC input power Pi=\",round(Pi,2),\"W\"\n",
    "print \"AC output power Po=\",round(Po,3),\"W\"\n",
    "print \"maximum power dissipiated by each transistor Pmax=\",round(Pmax,1),\"W\""
   ]
  },
  {
   "cell_type": "markdown",
   "metadata": {},
   "source": [
    "## Example-12.9(a)         Page Number-687"
   ]
  },
  {
   "cell_type": "code",
   "execution_count": 85,
   "metadata": {
    "collapsed": false
   },
   "outputs": [
    {
     "name": "stdout",
     "output_type": "stream",
     "text": [
      "Efficiency n= 72.0 %\n"
     ]
    }
   ],
   "source": [
    "#for the transformer-coupled class B amplifier:\n",
    "\n",
    "Vcc=24.0                     #supply voltage in volts\n",
    "Vp=22.0                      #output voltage in volts\n",
    "\n",
    "#calculation:\n",
    "n=78.54*(Vp/Vcc)            #efficiency in %\n",
    "\n",
    "print \"Efficiency n=\",round(n,1),\"%\""
   ]
  },
  {
   "cell_type": "markdown",
   "metadata": {},
   "source": [
    "## Example-12.9(b)         Page Number-687"
   ]
  },
  {
   "cell_type": "code",
   "execution_count": 86,
   "metadata": {
    "collapsed": false
   },
   "outputs": [
    {
     "name": "stdout",
     "output_type": "stream",
     "text": [
      "Efficiency n= 19.6 %\n"
     ]
    }
   ],
   "source": [
    "#for the transformer-coupled class B amplifier:\n",
    "\n",
    "Vcc=24.0                     #supply voltage in volts\n",
    "Vp=06.0                      #output voltage in volts\n",
    "\n",
    "#calculation:\n",
    "n=78.54*(Vp/Vcc)            #efficiency in %\n",
    "\n",
    "print \"Efficiency n=\",round(n,1),\"%\""
   ]
  },
  {
   "cell_type": "markdown",
   "metadata": {},
   "source": [
    "## Example-12.10         Page Number-692"
   ]
  },
  {
   "cell_type": "code",
   "execution_count": 87,
   "metadata": {
    "collapsed": false
   },
   "outputs": [
    {
     "name": "stdout",
     "output_type": "stream",
     "text": [
      "DC input power Pi= 67.56 W\n",
      "AC output power Po= 36.0 W\n",
      "maximum power dissipiated by each transistor Pmax= 15.8 W\n",
      "Efficiency n= 53.3 %\n"
     ]
    }
   ],
   "source": [
    "import math\n",
    "#for the given circuit:\n",
    "Vrms=12                     #supply volts in rms voltage\n",
    "Vcc=25                      #in volts\n",
    "Rl=4.0                      #load resistance in ohm\n",
    "\n",
    "#Calculation:\n",
    "Vi=math.sqrt(2)*Vrms               #peak input voltage in volts\n",
    "Vl=Vi                       #voltage across load as gain=1\n",
    "Po=(Vl*Vl)/(2*Rl)           #Output power across load in watt\n",
    "\n",
    "Il=Vl/Rl                    #peak load current in ampere\n",
    "Idc=(2*Il)/3.14             #dc current from supplies\n",
    "\n",
    "Pi=Vcc*Idc                  #power supplied to circuit in watt\n",
    "\n",
    "Pq=(Pi-Po)/2                #power dissipiated\n",
    "\n",
    "n=(Po/Pi)*100               #efficiency in %\n",
    "\n",
    "\n",
    "print \"DC input power Pi=\",round(Pi,2),\"W\"\n",
    "print \"AC output power Po=\",round(Po,2),\"W\"\n",
    "print \"maximum power dissipiated by each transistor Pmax=\",round(Pq,1),\"W\"\n",
    "print \"Efficiency n=\",round(n,1),\"%\""
   ]
  },
  {
   "cell_type": "markdown",
   "metadata": {},
   "source": [
    "### Note:variation in result may occur because of different values of root 2 taken according to the precision"
   ]
  },
  {
   "cell_type": "markdown",
   "metadata": {},
   "source": [
    "## Example-12.11         Page Number-693"
   ]
  },
  {
   "cell_type": "code",
   "execution_count": 88,
   "metadata": {
    "collapsed": false
   },
   "outputs": [
    {
     "name": "stdout",
     "output_type": "stream",
     "text": [
      "DC input power Pi= 99.46 W\n",
      "AC output power Po= 78.125 W\n",
      "maximum power dissipiated by each transistor Pmax= 21.3 W\n",
      "Efficiency n= 78.5 %\n"
     ]
    }
   ],
   "source": [
    "#for the given circuit:\n",
    "Vrms=12                     #supply volts in rms voltage\n",
    "Vcc=25                      #in volts\n",
    "Rl=4.0                      #load resistance in ohm\n",
    "\n",
    "#Calculation:\n",
    "Pi=(2*Vcc*Vcc)/(Rl*3.142)    #Input power\n",
    "Po=(Vcc*Vcc)/(2*Rl)         #Output power in watt\n",
    "n=(Po/Pi)*100               #efficiency in %\n",
    "\n",
    "Pq=(Pi-Po)                  #power dissipiated\n",
    "Vl=Vp                       #condition to achieve maximum power operation\n",
    "\n",
    "print \"DC input power Pi=\",round(Pi,2),\"W\"\n",
    "print \"AC output power Po=\",round(Po,3),\"W\"\n",
    "print \"maximum power dissipiated by each transistor Pmax=\",round(Pq,1),\"W\"\n",
    "print \"Efficiency n=\",round(n,1),\"%\""
   ]
  },
  {
   "cell_type": "markdown",
   "metadata": {},
   "source": [
    "## Example-12.12         Page Number-693"
   ]
  },
  {
   "cell_type": "code",
   "execution_count": 89,
   "metadata": {
    "collapsed": false
   },
   "outputs": [
    {
     "name": "stdout",
     "output_type": "stream",
     "text": [
      "maximum power dissipiated= 31.65 W\n",
      "Input voltage for maximum power dissipiated= 15.9 V\n"
     ]
    }
   ],
   "source": [
    "#for the given circuit:\n",
    "Vrms=12                     #supply volts in rms voltage\n",
    "Vcc=25                      #in volts\n",
    "Rl=4.0                      #load resistance in ohm\n",
    "\n",
    "#Calculation:\n",
    "Pmax=(2*Vcc*Vcc)/(3.142*3.142*Rl)        #maximum power dissipiated in watt\n",
    "Vl=0.636*Vcc                             #input voltage for maximum power dissipiation in volts\n",
    "\n",
    "print \"maximum power dissipiated=\",round(Pmax,2),\"W\"\n",
    "print \"Input voltage for maximum power dissipiated=\",Vl,\"V\""
   ]
  },
  {
   "cell_type": "markdown",
   "metadata": {},
   "source": [
    "## Example-12.13         Page Number-694"
   ]
  },
  {
   "cell_type": "code",
   "execution_count": 90,
   "metadata": {
    "collapsed": false
   },
   "outputs": [
    {
     "name": "stdout",
     "output_type": "stream",
     "text": [
      " Second harmonic distortion D2= 10.0 %\n",
      " Third harmonic distortion D3= 4.0 %\n",
      " Fourth harmonic distortion D4= 2.0 %\n"
     ]
    }
   ],
   "source": [
    "#for the given output signal:\n",
    "A1=2.5                         #fundamental amplitude in volts\n",
    "A2=0.25                        #second harmonic amplitude in volts\n",
    "A3=0.1                         #Third harmonic amplitude in volts\n",
    "A4=0.05                        #Fourth harmonic amplitude in volts\n",
    "\n",
    "#calculating Harmonic Distortions:\n",
    "D2=(A2/A1)*100\n",
    "D3=(A3/A1)*100\n",
    "D4=(A4/A1)*100\n",
    "\n",
    "print \" Second harmonic distortion D2=\",D2,\"%\"\n",
    "print \" Third harmonic distortion D3=\",D3,\"%\"\n",
    "print \" Fourth harmonic distortion D4=\",D4,\"%\""
   ]
  },
  {
   "cell_type": "markdown",
   "metadata": {},
   "source": [
    "## Example-12.14         Page Number-694"
   ]
  },
  {
   "cell_type": "code",
   "execution_count": 91,
   "metadata": {
    "collapsed": false
   },
   "outputs": [
    {
     "name": "stdout",
     "output_type": "stream",
     "text": [
      "Total harmonic Distortion THD= 10.95 %\n"
     ]
    }
   ],
   "source": [
    "import math\n",
    "#for the given output signal:\n",
    "A1=2.5                         #fundamental amplitude in volts\n",
    "A2=0.25                        #second harmonic amplitude in volts\n",
    "A3=0.1                         #Third harmonic amplitude in volts\n",
    "A4=0.05                        #Fourth harmonic amplitude in volts\n",
    "\n",
    "#calculating Harmonic Distortions:\n",
    "D2=(A2/A1)\n",
    "D3=(A3/A1)\n",
    "D4=(A4/A1)\n",
    "\n",
    "THD=math.sqrt((D2*D2)+(D3*D3)+(D4*D4))*100\n",
    "\n",
    "print \"Total harmonic Distortion THD=\",round(THD,2),\"%\""
   ]
  },
  {
   "cell_type": "markdown",
   "metadata": {},
   "source": [
    "## Example-12.15(a)         Page Number-696"
   ]
  },
  {
   "cell_type": "code",
   "execution_count": 92,
   "metadata": {
    "collapsed": false
   },
   "outputs": [
    {
     "name": "stdout",
     "output_type": "stream",
     "text": [
      "second harmonic distortion D2= 2.38 %\n"
     ]
    }
   ],
   "source": [
    "Vcemin=1.0                             #maximum value of collector emitter voltage in volts\n",
    "Vcemax=22.0                            #minimum value of collector emitter voltage in volts\n",
    "Vceq=12.0                              #collector emitter voltage in volts at Q-point\n",
    " \n",
    "x=(Vcemax+Vcemin)/2.0                          #temporary variable\n",
    "\n",
    "D2=(abs(x-Vceq)/abs(Vcemax-Vcemin))*100        #in %\n",
    "\n",
    "print \"second harmonic distortion D2=\",round(D2,2),\"%\""
   ]
  },
  {
   "cell_type": "markdown",
   "metadata": {},
   "source": [
    "## Example-12.15(b)         Page Number-696"
   ]
  },
  {
   "cell_type": "code",
   "execution_count": 93,
   "metadata": {
    "collapsed": false
   },
   "outputs": [
    {
     "name": "stdout",
     "output_type": "stream",
     "text": [
      "second harmonic distortion D2= 0.0 %\n"
     ]
    }
   ],
   "source": [
    "Vcemin=4.0                             #maximum value of collector emitter voltage in volts\n",
    "Vcemax=20.0                            #minimum value of collector emitter voltage in volts\n",
    "Vceq=12.0                              #collector emitter voltage in volts at Q-point\n",
    "\n",
    "x=(Vcemax+Vcemin)/2.0                       #temporary variable\n",
    "\n",
    "D2=(abs(x-Vceq)/abs(Vcemax-Vcemin))*100     #in %\n",
    "\n",
    "print \"second harmonic distortion D2=\",round(D2,2),\"%\""
   ]
  },
  {
   "cell_type": "markdown",
   "metadata": {},
   "source": [
    "## Example-12.16         Page Number-696"
   ]
  },
  {
   "cell_type": "code",
   "execution_count": 74,
   "metadata": {
    "collapsed": false
   },
   "outputs": [
    {
     "name": "stdout",
     "output_type": "stream",
     "text": [
      "Total harmonic distortion= 0.1 %\n",
      "Fundamental power P= 64 W\n",
      "Total power P= 64.67 W\n"
     ]
    }
   ],
   "source": [
    "#given the distortion reading:\n",
    "D2=0.1               #second harmonic distortion\n",
    "D3=0.02              #third harmonic distortion\n",
    "D4=0.01              #fourth harmonic distortion\n",
    "\n",
    "I1=4                 #in ampere\n",
    "Rc=8                 # load resistance in ohm\n",
    "\n",
    "#Calculation:\n",
    "THD=math.sqrt((D2*D2)+(D3*D3)+(D4*D4))        #Total harmonic distortion\n",
    "P1=(I1*I1*Rc)/2                               #Fundamental power in watt\n",
    "P=(1+THD*THD)*P1                              #Total power in watt\n",
    "\n",
    "print \"Total harmonic distortion=\",round(THD,2),\"%\"\n",
    "print \"Fundamental power P=\",P1,\"W\"\n",
    "print \"Total power P=\",round(P,2),\"W\""
   ]
  },
  {
   "cell_type": "markdown",
   "metadata": {},
   "source": [
    "## Example-12.17         Page Number-698"
   ]
  },
  {
   "cell_type": "code",
   "execution_count": 96,
   "metadata": {
    "collapsed": false
   },
   "outputs": [
    {
     "name": "stdout",
     "output_type": "stream",
     "text": [
      " maximum dissipiation at 125 degreeC= 30.0 W\n"
     ]
    }
   ],
   "source": [
    "#for the given silicon transistor:\n",
    "T1=125                        #temperature in degree celsius\n",
    "T2=25                         #temperature in degree celsius\n",
    "Df=0.5                        #derating factor in W/degree C\n",
    "Pd=80                         #powerdissipiation at 25 degree celsius\n",
    "\n",
    "PdT1=Pd-(T1-T2)*Df             #power dissipiation at T1=125 degree celsius\n",
    "\n",
    "print \"maximum dissipiation at 125 degreeC=\",PdT1,\"W\""
   ]
  },
  {
   "cell_type": "markdown",
   "metadata": {},
   "source": [
    "## Example-12.18         Page Number-700"
   ]
  },
  {
   "cell_type": "code",
   "execution_count": 98,
   "metadata": {
    "collapsed": false
   },
   "outputs": [
    {
     "name": "stdout",
     "output_type": "stream",
     "text": [
      " maximum power dissipiation Pd= 61.54 W\n"
     ]
    }
   ],
   "source": [
    "#for the given silicon power transistor:\n",
    "Tsa=1.5             #in degreeC/W (heat sink thermal resistance)\n",
    "Tjc=0.5             #in degreeC/W (transistor thermal resistance)\n",
    "Tcs=0.6             #in degreeC/W (insulator thermal resistance)\n",
    "\n",
    "Tj=200              #maximum junction temperature in celsius\n",
    "Ta=40               #ambient temperature in celsius\n",
    "\n",
    "Pd=(Tj-Ta)/(Tjc+Tcs+Tsa)\n",
    "print \" maximum power dissipiation Pd=\",round(Pd,2),\"W\""
   ]
  }
 ],
 "metadata": {
  "anaconda-cloud": {},
  "kernelspec": {
   "display_name": "Python [Root]",
   "language": "python",
   "name": "Python [Root]"
  },
  "language_info": {
   "codemirror_mode": {
    "name": "ipython",
    "version": 2
   },
   "file_extension": ".py",
   "mimetype": "text/x-python",
   "name": "python",
   "nbconvert_exporter": "python",
   "pygments_lexer": "ipython2",
   "version": "2.7.12"
  }
 },
 "nbformat": 4,
 "nbformat_minor": 0
}
