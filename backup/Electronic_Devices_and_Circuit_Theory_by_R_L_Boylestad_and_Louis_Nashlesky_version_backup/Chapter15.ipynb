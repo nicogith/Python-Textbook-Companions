{
 "cells": [
  {
   "cell_type": "markdown",
   "metadata": {},
   "source": [
    "# Chapter-15 Power Supplies(Voltage Regulators)"
   ]
  },
  {
   "cell_type": "markdown",
   "metadata": {},
   "source": [
    "## Example-15.1            Page Number-774"
   ]
  },
  {
   "cell_type": "code",
   "execution_count": 10,
   "metadata": {
    "collapsed": false
   },
   "outputs": [
    {
     "name": "stdout",
     "output_type": "stream",
     "text": [
      "Ripple of y=the filter r: 6.0 %\n"
     ]
    }
   ],
   "source": [
    "Vrms=1.5            #in volts\n",
    "Vdc=25              #in volts\n",
    "\n",
    "#Ripple of y=the filter r:\n",
    "r=(Vrms/Vdc)*100        #in %\n",
    "\n",
    "print \"Ripple of y=the filter r:\",r,\"%\""
   ]
  },
  {
   "cell_type": "markdown",
   "metadata": {},
   "source": [
    "## Example-15.2            Page Number-775"
   ]
  },
  {
   "cell_type": "code",
   "execution_count": 4,
   "metadata": {
    "collapsed": false
   },
   "outputs": [
    {
     "name": "stdout",
     "output_type": "stream",
     "text": [
      "Voltage Regulation(V.R): 7.1 %\n"
     ]
    }
   ],
   "source": [
    "Vnl=60.0            #no load voltage in volts\n",
    "Vfl=56.0            #full voltage in volts\n",
    "#Voltage Regulation(V.R):\n",
    "VR=((Vnl-Vfl)/Vfl)*100\n",
    "\n",
    "print \"Voltage Regulation(V.R):\",round(VR,1),\"%\""
   ]
  },
  {
   "cell_type": "markdown",
   "metadata": {},
   "source": [
    "## Example-15.3            Page Number-777"
   ]
  },
  {
   "cell_type": "code",
   "execution_count": 6,
   "metadata": {
    "collapsed": false
   },
   "outputs": [
    {
     "name": "stdout",
     "output_type": "stream",
     "text": [
      "Ripple Factor V= 1.2 V\n"
     ]
    }
   ],
   "source": [
    "I=50               #in mA(Current Drawn)\n",
    "C=100              #in microF(Field Capacitor)\n",
    "#for the Full Wave Rectifier:\n",
    "#Ripple Voltage V:\n",
    "V=(2.4*I)/C         #in volts\n",
    "\n",
    "print \"Ripple Factor V=\",V,\"V\""
   ]
  },
  {
   "cell_type": "markdown",
   "metadata": {},
   "source": [
    "## Example-15.4            Page Number-778"
   ]
  },
  {
   "cell_type": "code",
   "execution_count": 9,
   "metadata": {
    "collapsed": false
   },
   "outputs": [
    {
     "name": "stdout",
     "output_type": "stream",
     "text": [
      "Filter Dc voltage V: 27.9 V\n"
     ]
    }
   ],
   "source": [
    "Vm=30                #in volts(Peak Rectified Voltage)\n",
    "I=50               #in mA(Current Drawn)\n",
    "C=100              #in microF(Field Capacitor)\n",
    "\n",
    "#for the Full Wave Rectifier:\n",
    "#Filter Dc voltage V:\n",
    "\n",
    "V=Vm-(4.17*I)/C        #in volts\n",
    "print \"Filter Dc voltage V:\",round(V,1),\"V\""
   ]
  },
  {
   "cell_type": "markdown",
   "metadata": {},
   "source": [
    "## Example-15.5            Page Number-778"
   ]
  },
  {
   "cell_type": "code",
   "execution_count": 15,
   "metadata": {
    "collapsed": false
   },
   "outputs": [
    {
     "name": "stdout",
     "output_type": "stream",
     "text": [
      "Ripple of the Filter r: 4.3 %\n"
     ]
    }
   ],
   "source": [
    "Vm=30                #in volts(Peak Rectified Voltage)\n",
    "I=50                #in mA(Current Drawn)\n",
    "C=100                 #in microF(Field Capacitor)\n",
    "Vdc=27.9             #in volts\n",
    "#for the Capacity Filter :\n",
    "#Ripple of the Filter R:\n",
    "r=(2.4*I)/(C*Vdc)\n",
    "r=r*100              #in %\n",
    "print \"Ripple of the Filter r:\",round(r,1),\"%\""
   ]
  },
  {
   "cell_type": "markdown",
   "metadata": {
    "collapsed": true
   },
   "source": [
    "## Example-15.6            Page Number-780"
   ]
  },
  {
   "cell_type": "code",
   "execution_count": 4,
   "metadata": {
    "collapsed": false
   },
   "outputs": [
    {
     "name": "stdout",
     "output_type": "stream",
     "text": [
      "DC voltage across load(Rl) is Vdc= 53.6 V\n"
     ]
    }
   ],
   "source": [
    "R=120.0                 #in ohm\n",
    "C=10.0                  #Capacitance in microFarad\n",
    "Rl=1000.0               #load Resistance in ohm\n",
    "V=60.0                  #In volts(Dc voltage across filter initially)\n",
    "\n",
    "#for an RC filter section:\n",
    "#DC voltage across load(Rl) is Vdc=\n",
    "\n",
    "Vdc=(Rl*V)/(R+Rl)\n",
    "print \"DC voltage across load(Rl) is Vdc=\",round(Vdc,1),\"V\""
   ]
  },
  {
   "cell_type": "markdown",
   "metadata": {},
   "source": [
    "## Example-15.7            Page Number-781"
   ]
  },
  {
   "cell_type": "code",
   "execution_count": 12,
   "metadata": {
    "collapsed": false
   },
   "outputs": [
    {
     "name": "stdout",
     "output_type": "stream",
     "text": [
      "DC component of voltage across load(Rl) is Vdc= 136.4 V\n",
      "AC component of output voltage is Vr= 3.9 V\n",
      "Ripple of the output waveform r: 2.86 %\n"
     ]
    }
   ],
   "source": [
    "#forthe given RC filter circuit:\n",
    "\n",
    "#DC calculation:\n",
    "R=500.0                 #in ohm\n",
    "C=10*(10**-3)           #Capacitance in milliFarad\n",
    "Rl=5000.0               #load Resistance in ohm\n",
    "Vd=150.0                #In volts(Dc voltage across filter initially)\n",
    "Vrms=15.0               #in volts(Ac voltage)\n",
    "Vdc=(Rl*Vd)/(R+Rl)\n",
    "print \"DC component of voltage across load(Rl) is Vdc=\",round(Vdc,1),\"V\"\n",
    "\n",
    "#AC calculation:\n",
    "#Capacitive Impedance Xc:\n",
    "Xc=1.3/C                         #in ohm\n",
    "#AC component of output voltage Vr:\n",
    "Vr=(Xc*Vrms)/R\n",
    "print \"AC component of output voltage is Vr=\",round(Vr,1),\"V\"\n",
    "\n",
    "#Ripple of the output waveform r:\n",
    "r=(Vr*100)/Vdc\n",
    "print \"Ripple of the output waveform r:\",r,\"%\""
   ]
  },
  {
   "cell_type": "markdown",
   "metadata": {},
   "source": [
    "## Example-15.8            Page Number-782"
   ]
  },
  {
   "cell_type": "code",
   "execution_count": 18,
   "metadata": {
    "collapsed": false
   },
   "outputs": [
    {
     "name": "stdout",
     "output_type": "stream",
     "text": [
      " The output voltage Vo= 11.3 V\n",
      "The zener current IZ= 36.1 mA\n"
     ]
    }
   ],
   "source": [
    "#from the given circuit diagram:\n",
    "Vz=12                         #zener voltage in volts\n",
    "Vbe=0.7                       #in volts(base-emitter voltage)\n",
    "Vi=20.0                       #in volts(input supply)\n",
    "Rl=1.0                        #in ohm(load resistance)\n",
    "B=50.0                        #gain\n",
    "R=220.0                       #resistace in ohm\n",
    "#for the given regulator circuit:\n",
    "Vo=Vz-Vbe                     #calculating Output voltage\n",
    "Vce=Vi-Vo                     #calculating collector-emitter voltage\n",
    "Ir=(Vi-Vz)/R                  #calculating current through resistance R\n",
    "Ir=Ir*1000                    #calculating Ir in mA\n",
    "\n",
    "#for the given resistance R:\n",
    "Il=Vo/Rl                     #current through Rl\n",
    "Ic=Il\n",
    "Ib=Ic/B                      #base current\n",
    "Iz=Ir-Ib                     #zener current\n",
    "\n",
    "\n",
    "print \" The output voltage Vo=\",Vo,\"V\"\n",
    "print \"The zener current IZ=\",round(Iz,1),\"mA\""
   ]
  },
  {
   "cell_type": "markdown",
   "metadata": {},
   "source": [
    "## Example-15.9            Page Number-783"
   ]
  },
  {
   "cell_type": "code",
   "execution_count": 20,
   "metadata": {
    "collapsed": false
   },
   "outputs": [
    {
     "name": "stdout",
     "output_type": "stream",
     "text": [
      "The regulated voltage Vo: 15.0 V\n"
     ]
    }
   ],
   "source": [
    "#for the given circuit:\n",
    "R1=20.0                       #resistace in Kohm\n",
    "R2=30.0                       #resistace in Kohm\n",
    "Vz=8.3                        #in volts(zener voltage)\n",
    "V=0.7                         #in volts(base-emitter voltage)\n",
    "\n",
    "#The regulated voltage Vo:\n",
    "Vo=((R1+R2)*(Vz+V))/R2\n",
    "print \"The regulated voltage Vo:\",Vo,\"V\""
   ]
  },
  {
   "cell_type": "markdown",
   "metadata": {},
   "source": [
    "## Example-15.10            Page Number-784"
   ]
  },
  {
   "cell_type": "code",
   "execution_count": 21,
   "metadata": {
    "collapsed": false
   },
   "outputs": [
    {
     "name": "stdout",
     "output_type": "stream",
     "text": [
      "The regulated voltage Vo: 24.8 V\n"
     ]
    }
   ],
   "source": [
    "#for the given circuit:\n",
    "R1=30.0                      #resistace in Kohm\n",
    "R=10.0                       #resistace in Kohm\n",
    "Vz=6.2                       #in volts(zener voltage)\n",
    "Vi=36                        #in volts(Input voltage)\n",
    "\n",
    "#The regulated voltage Vo:\n",
    "Vo=((1+(R1/R))*Vz)\n",
    "print \"The regulated voltage Vo:\",Vo,\"V\""
   ]
  },
  {
   "cell_type": "markdown",
   "metadata": {},
   "source": [
    "## Example-15.11            Page Number-786"
   ]
  },
  {
   "cell_type": "code",
   "execution_count": 26,
   "metadata": {
    "collapsed": false
   },
   "outputs": [
    {
     "name": "stdout",
     "output_type": "stream",
     "text": [
      "The regulated voltage Vl= 8.9 V\n",
      "The load current Il= 89.0 mA\n",
      "The source current Is= 109.2 mA\n",
      "The collector current Ic= 20.2 mA\n"
     ]
    }
   ],
   "source": [
    "#from  the given circuit:\n",
    "Vz=8.2                       #in volts(zener voltage)\n",
    "Vi=22                        #in volts(Input voltage)\n",
    "Vbe=0.7                       #in volts(base-emitter voltage)\n",
    "Rl=100.0                      #in ohm(load resistance)\n",
    "Rs=120.0                      #in ohm(source resistance)\n",
    "\n",
    "#THE load voltage Vl:\n",
    "Vl=Vz+Vbe\n",
    "print  \"The regulated voltage Vl=\",Vl,\"V\"\n",
    "\n",
    "#the load current Il:\n",
    "Il=(Vl/Rl)*1000\n",
    "print  \"The load current Il=\",Il,\"mA\"\n",
    "\n",
    "#the source current Is:\n",
    "Is=((Vi-Vl)/Rs)*1000\n",
    "print  \"The source current Is=\",round(Is,1),\"mA\"\n",
    "\n",
    "#the collector current Ic:\n",
    "Ic=(Is-Il)\n",
    "print  \"The collector current Ic=\",round(Ic,1),\"mA\"\n",
    "\n"
   ]
  },
  {
   "cell_type": "markdown",
   "metadata": {},
   "source": [
    "## Example-15.13            Page Number-791"
   ]
  },
  {
   "cell_type": "code",
   "execution_count": 29,
   "metadata": {
    "collapsed": false
   },
   "outputs": [
    {
     "name": "stdout",
     "output_type": "stream",
     "text": [
      "8.34912 6.65088\n",
      "The minimum input voltage Vi= 1.69824 V\n"
     ]
    }
   ],
   "source": [
    "Vm=15            #in volts(output voltage)\n",
    "C=250            #in microFarad\n",
    "Idc=400          #in mA(current drawn by load)\n",
    "\n",
    "#for the given transfomer:\n",
    "Vr=(1.732*2.4*Idc)/C\n",
    "Vdc=Vm-Vr      \n",
    "Vi=Vdc-Vr             #minimum input voltage\n",
    "\n",
    "print \"The minimum input voltage Vi=\",round(Vi,1),\"V\""
   ]
  },
  {
   "cell_type": "markdown",
   "metadata": {},
   "source": [
    "### NOTE: The Solution given in the book is wrong because the value of Vdc substituted in the book is 15V"
   ]
  },
  {
   "cell_type": "markdown",
   "metadata": {},
   "source": [
    "## Example-15.14            Page Number-791"
   ]
  },
  {
   "cell_type": "code",
   "execution_count": 35,
   "metadata": {
    "collapsed": false
   },
   "outputs": [
    {
     "name": "stdout",
     "output_type": "stream",
     "text": [
      "The load current Idc= 458.3 mA\n"
     ]
    }
   ],
   "source": [
    "#to maintain regulation for the circuit:\n",
    "#Vi>=7.3V\n",
    "Vimin=7.3                #in volts (minimum vltage of input voltage Vi)\n",
    "Vm=15                    #in volts(output voltage)\n",
    "C=250                    #in microFarad\n",
    "#maximum value of Vr:\n",
    "Vr=Vm-Vimin\n",
    "\n",
    "Vrms=Vr/(1.732)              #rms value of peak voltage\n",
    "\n",
    "#Load current Idc:\n",
    "Idc=(round(Vrms,1)*C)/2.4\n",
    "print \"The load current Idc=\",round(Idc,1),\"mA\""
   ]
  },
  {
   "cell_type": "markdown",
   "metadata": {},
   "source": [
    "## Example-15.15            Page Number-792"
   ]
  },
  {
   "cell_type": "code",
   "execution_count": 45,
   "metadata": {
    "collapsed": false
   },
   "outputs": [
    {
     "name": "stdout",
     "output_type": "stream",
     "text": [
      "The regulated voltage Vo: 13.99 V\n"
     ]
    }
   ],
   "source": [
    "#from the given circuit:\n",
    "R1=240.0                     #resistace in ohm\n",
    "R2=2400                      #resistace in ohm\n",
    "Vref=1.25                    #in volts(Reference voltage)\n",
    "Iadj=100*(10**-6)            #in ampere\n",
    "\n",
    "#The regulated voltage Vo:\n",
    "Vo=(Vref*(1+(R2/R1)))+(Iadj*R2)\n",
    "\n",
    "print \"The regulated voltage Vo:\",Vo,\"V\""
   ]
  },
  {
   "cell_type": "markdown",
   "metadata": {},
   "source": [
    "## Example-15.16            Page Number-792"
   ]
  },
  {
   "cell_type": "code",
   "execution_count": 47,
   "metadata": {
    "collapsed": false
   },
   "outputs": [
    {
     "name": "stdout",
     "output_type": "stream",
     "text": [
      "The regulated voltage Vo: 10.8 V\n"
     ]
    }
   ],
   "source": [
    "#from the given circuit:\n",
    "R2=1.8*(10**3)               #resistace in ohm\n",
    "R1=240                       #resistace in ohm\n",
    "Vref=1.25                    #in volts(Reference voltage)\n",
    "Iadj=100*(10**-6)            #in ampere\n",
    "\n",
    "#The regulated voltage Vo:\n",
    "Vo=(Vref*(1+(R2/R1)))+(Iadj*R2)\n",
    "\n",
    "print \"The regulated voltage Vo:\",round(Vo,2),\"V\""
   ]
  }
 ],
 "metadata": {
  "anaconda-cloud": {},
  "kernelspec": {
   "display_name": "Python [Root]",
   "language": "python",
   "name": "Python [Root]"
  },
  "language_info": {
   "codemirror_mode": {
    "name": "ipython",
    "version": 2
   },
   "file_extension": ".py",
   "mimetype": "text/x-python",
   "name": "python",
   "nbconvert_exporter": "python",
   "pygments_lexer": "ipython2",
   "version": "2.7.12"
  }
 },
 "nbformat": 4,
 "nbformat_minor": 0
}
