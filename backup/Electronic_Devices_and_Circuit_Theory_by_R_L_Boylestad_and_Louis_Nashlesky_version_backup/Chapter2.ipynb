{
 "cells": [
  {
   "cell_type": "markdown",
   "metadata": {},
   "source": [
    "# Chapter-2 Diode Applications"
   ]
  },
  {
   "cell_type": "markdown",
   "metadata": {},
   "source": [
    "## Example-2.1(a)      Page Number-62"
   ]
  },
  {
   "cell_type": "code",
   "execution_count": 12,
   "metadata": {
    "collapsed": false
   },
   "outputs": [
    {
     "name": "stdout",
     "output_type": "stream",
     "text": [
      "Vdq= 0.78 V\n",
      "Idq= 18.5 mA\n"
     ]
    }
   ],
   "source": [
    "#from the figure given in the question\n",
    "E=10         #in volts (applied voltage)\n",
    "r=0.5       #in kohm\n",
    "\n",
    "Id=E/r\n",
    "V=E         #V=E at Id=0\n",
    "#sketching the load line and with the intersection of load line and the characterstics curve,we gqt Q-point\n",
    "Vdq=0.78     #in volts\n",
    "Idq=18.5     #in mA\n",
    "print \"Vdq=\",Vdq,'V'\n",
    "print \"Idq=\",Idq,'mA'"
   ]
  },
  {
   "cell_type": "markdown",
   "metadata": {},
   "source": [
    "## Example-2.1(b)      Page Number-62"
   ]
  },
  {
   "cell_type": "code",
   "execution_count": 13,
   "metadata": {
    "collapsed": false
   },
   "outputs": [
    {
     "name": "stdout",
     "output_type": "stream",
     "text": [
      "Vr= 18.5 V\n"
     ]
    }
   ],
   "source": [
    "#from the results of example 2.1(a), we get\n",
    "Ir=Idq=18.5      #in mA\n",
    "r=1             #in kohm\n",
    "Vr=Ir*r          #in volts\n",
    "print \"Vr=\",Vr,'V'"
   ]
  },
  {
   "cell_type": "markdown",
   "metadata": {},
   "source": [
    "## Example-2.2      Page Number-63"
   ]
  },
  {
   "cell_type": "code",
   "execution_count": 14,
   "metadata": {
    "collapsed": false
   },
   "outputs": [
    {
     "name": "stdout",
     "output_type": "stream",
     "text": [
      "Vdq= 0.7 V\n",
      "Idq= 18.5 mA\n"
     ]
    }
   ],
   "source": [
    "#repeating the Example-2.1 with approximate equialent model for silicon diode, we get\n",
    "Vdq=0.7           #in volts\n",
    "Idq=18.5          #in mA\n",
    "print \"Vdq=\",Vdq,'V'\n",
    "print \"Idq=\",Idq,'mA'"
   ]
  },
  {
   "cell_type": "markdown",
   "metadata": {},
   "source": [
    "## Example-2.3      Page Number-64"
   ]
  },
  {
   "cell_type": "code",
   "execution_count": 15,
   "metadata": {
    "collapsed": false
   },
   "outputs": [
    {
     "name": "stdout",
     "output_type": "stream",
     "text": [
      "Vdq= 0 V\n",
      "Idq= 20 mA\n"
     ]
    }
   ],
   "source": [
    "#repeating the Example-2.1 with ideal model for silicon diode, we get\n",
    "Vdq=0           #in volts\n",
    "Idq=20          #in mA\n",
    "print \"Vdq=\",Vdq,'V'\n",
    "print \"Idq=\",Idq,'mA'"
   ]
  },
  {
   "cell_type": "markdown",
   "metadata": {},
   "source": [
    "## Example-2.4      Page Number-67"
   ]
  },
  {
   "cell_type": "code",
   "execution_count": 16,
   "metadata": {
    "collapsed": false
   },
   "outputs": [
    {
     "name": "stdout",
     "output_type": "stream",
     "text": [
      "Vd= 0.7 V\n",
      "Vr= 7.3 V\n",
      "Id= 3.32 mA\n"
     ]
    }
   ],
   "source": [
    "#the applied voltage makes the diode forward biased, hence\n",
    "Vd=0.7       #in volts (silicon diode)\n",
    "E=8          #in volts (applied voltage)\n",
    "r=2.2        #in kohm\n",
    "Vr=E-Vd      #volatge across resistance r\n",
    "Ir=Vr/r      #current through resistance r\n",
    "Id=Ir        #current through diode\n",
    "print \"Vd=\",Vd,'V'\n",
    "print \"Vr=\",Vr,'V'\n",
    "print \"Id=\",round(Id,2),'mA'"
   ]
  },
  {
   "cell_type": "markdown",
   "metadata": {},
   "source": [
    "## Example-2.5      Page Number-68"
   ]
  },
  {
   "cell_type": "code",
   "execution_count": 17,
   "metadata": {
    "collapsed": false
   },
   "outputs": [
    {
     "name": "stdout",
     "output_type": "stream",
     "text": [
      "Vd= 8 V\n",
      "Vr= 0 V\n",
      "Id= 0.0 mA\n"
     ]
    }
   ],
   "source": [
    "#the applied voltage makes the diode reverse biased,hence, the circuit is open\n",
    "E=8          #in volts (applied voltage)\n",
    "r=2.2        #in kohm\n",
    "Ir=0         #in mA(since no current flow across resistor in open circuit)\n",
    "Vr=0         #in volts(since no voltage drop occur across resistor as Ir=0)\n",
    "\n",
    "Vd=E-Vr       #volatge across diode\n",
    "Id=Ir         #current through diode\n",
    "print \"Vd=\",Vd,'V'\n",
    "print \"Vr=\",Vr,'V'\n",
    "print \"Id=\",round(Id,2),'mA'"
   ]
  },
  {
   "cell_type": "markdown",
   "metadata": {},
   "source": [
    "## Example-2.6      Page Number-68"
   ]
  },
  {
   "cell_type": "code",
   "execution_count": 18,
   "metadata": {
    "collapsed": false
   },
   "outputs": [
    {
     "name": "stdout",
     "output_type": "stream",
     "text": [
      "Vd= 0.5 V\n",
      "Vr= 0.0 V\n",
      "Id= 0.0 mA\n"
     ]
    }
   ],
   "source": [
    "#since the applied voltage is less than than the threshold voltage of diode,hence the diode is in off state.\n",
    "#considering the diode as open circuit\n",
    "E=0.5        #in volts (applied voltage)\n",
    "r=1.2        #in kohm\n",
    "Ir=0         #in mA(since no current flow across resistor in open circuit)\n",
    "Id=Ir         #in mA(series configuration)\n",
    "Vr=Ir*r       #volatge across resistance r\n",
    "Vd=E-Vr       #volatge across diode\n",
    "print \"Vd=\",Vd,'V'\n",
    "print \"Vr=\",Vr,'V'\n",
    "print \"Id=\",round(Id,2),'mA'"
   ]
  },
  {
   "cell_type": "markdown",
   "metadata": {},
   "source": [
    "## Example-2.7      Page Number-69"
   ]
  },
  {
   "cell_type": "code",
   "execution_count": 19,
   "metadata": {
    "collapsed": false
   },
   "outputs": [
    {
     "name": "stdout",
     "output_type": "stream",
     "text": [
      "Vo= 9.5 V\n",
      "Id= 13.97 mA\n"
     ]
    }
   ],
   "source": [
    "#the applied voltage makes both the diode forward biased, hence\n",
    "Vd=0.7         #in volts (silicon diode)\n",
    "Vdred=1.8      #in volts (red diode)\n",
    "E=12          #in volts (applied voltage)\n",
    "r=680         #in ohm\n",
    "\n",
    "Vo=E-Vd-Vdred\n",
    "Ir=Vo/r       #in A\n",
    "Ir=Ir*1000    #in mA\n",
    "Id=Ir         #in mA(series configuration)\n",
    "print \"Vo=\",Vo,'V'\n",
    "print \"Id=\",round(Id,2),'mA'"
   ]
  },
  {
   "cell_type": "markdown",
   "metadata": {},
   "source": [
    "## Example-2.8      Page Number-69"
   ]
  },
  {
   "cell_type": "code",
   "execution_count": 20,
   "metadata": {
    "collapsed": false
   },
   "outputs": [
    {
     "name": "stdout",
     "output_type": "stream",
     "text": [
      "Id= 0 mA\n",
      "Vd2= 20.0 V\n",
      "Vo= 0.0 V\n"
     ]
    }
   ],
   "source": [
    "#he applied volatge puts the silicon diode forward biased and germanium diode in reverse bias,hnce an open circuit occur.\n",
    "E=20           #in volts (applied voltage)\n",
    "r=5.6          #in kohm\n",
    "Id=0           #in mA(current flowing in an open circuit is 0)\n",
    "Vsi=0          #in volts(since current throgh it is 0)\n",
    "Ir=Id          #in mA(series configuration)\n",
    "Vo=Ir*r\n",
    "#applying Kirchoff's Voltage Law:- E-Vsi-Vge-Vo=0,Therefore\n",
    "Vge=E-Vsi-Vo    #voltage across germanium diode\n",
    "print \"Id=\",Id,'mA'\n",
    "print \"Vd2=\",Vge,'V'\n",
    "print \"Vo=\",Vo,'V'"
   ]
  },
  {
   "cell_type": "markdown",
   "metadata": {},
   "source": [
    "## Example-2.9      Page Number-70"
   ]
  },
  {
   "cell_type": "code",
   "execution_count": 21,
   "metadata": {
    "collapsed": false
   },
   "outputs": [
    {
     "name": "stdout",
     "output_type": "stream",
     "text": [
      "I= 2.07 mA\n",
      "V1= 9.74 V\n",
      "V2= 4.56 V\n",
      "Vo= -0.44 V\n"
     ]
    }
   ],
   "source": [
    "#the applied voltage sets the diode in forward bias,therefore\n",
    "Vd=0.7         #in volts (silicon diode)\n",
    "E1=10          #in volts (applied voltage)\n",
    "E2=-5          #in volts (applied voltage)\n",
    "r1=4.7          #in kohm\n",
    "r2=2.2          #in kohm\n",
    "\n",
    "#applying Kirchoff's Voltage Law to the input section of the circuit:-\n",
    "Ic=(E1-E2-Vd)/(r1+r2)\n",
    "Vr1=Ic*r1       #voltage across r1\n",
    "Vr2=Ic*r2       #voltage across r2\n",
    "#applying Kirchoff's Voltage Law to the output section of the circuit:-\n",
    "Vo=Vr2+E2\n",
    "print \"I=\",round(Ic,2),'mA'\n",
    "print \"V1=\",round(Vr1,2),'V'\n",
    "print \"V2=\",round(Vr2,2),'V'\n",
    "print \"Vo=\",round(Vo,2),'V'"
   ]
  },
  {
   "cell_type": "markdown",
   "metadata": {
    "collapsed": true
   },
   "source": [
    "## Example-2.10      Page Number-71"
   ]
  },
  {
   "cell_type": "code",
   "execution_count": 22,
   "metadata": {
    "collapsed": false
   },
   "outputs": [
    {
     "name": "stdout",
     "output_type": "stream",
     "text": [
      "Vo= 0.7 V\n",
      "I1= 28.18 mA\n",
      "Id1= 14.09 mA\n",
      "Id2= 14.09 mA\n"
     ]
    }
   ],
   "source": [
    "#the applied volatge sets both the parallel diode in forward bias,hence\n",
    "E=10           #in volts\n",
    "r=0.33         #in kohm\n",
    "V1=0.7         #in volts (silicon diode)\n",
    "V2=0.7         #in volts (silicon diode)\n",
    "#applying Kirchoff's Voltage Law to the first loop of the circuit:-\n",
    "I=(E-V1)/r      #current in the circuit\n",
    "#assuming diodes of similar characterstics, we have\n",
    "Id1=I/2\n",
    "Id2=I/2\n",
    "Vo=V2           #Vo is the voltage across the diodes in parallel\n",
    "print \"Vo=\",round(Vo,2),'V'\n",
    "print \"I1=\",round(I,2),'mA'\n",
    "print \"Id1=\",round(Id1,2),'mA'\n",
    "print \"Id2=\",round(Id2,2),'mA'"
   ]
  },
  {
   "cell_type": "markdown",
   "metadata": {},
   "source": [
    "## Example-2.11      Page Number-72"
   ]
  },
  {
   "cell_type": "code",
   "execution_count": 5,
   "metadata": {
    "collapsed": false
   },
   "outputs": [
    {
     "name": "stdout",
     "output_type": "stream",
     "text": [
      "Required Resistance= 300 ohm\n"
     ]
    }
   ],
   "source": [
    "#the applied volatge sets the green diode in forward bias and red diode in negative bias,hence\n",
    "E=8          #in volts\n",
    "Vled=2       #in volts(turn-on voltage)\n",
    "I=20         #in mA\n",
    "#applying Ohm's law:\n",
    "R=((E-Vled)*1000)/I\n",
    "print \"Required Resistance=\",R,'ohm'"
   ]
  },
  {
   "cell_type": "markdown",
   "metadata": {},
   "source": [
    "## Example-2.12      Page Number-73"
   ]
  },
  {
   "cell_type": "code",
   "execution_count": 6,
   "metadata": {
    "collapsed": false
   },
   "outputs": [
    {
     "name": "stdout",
     "output_type": "stream",
     "text": [
      "Voltage Vo= 11.3 V\n"
     ]
    }
   ],
   "source": [
    "#the applied volatge sets the green and red diode forward bias ,hence\n",
    "Vg=0.7           #in volts\n",
    "Vr=0.7           #in volts\n",
    "E=12             #in volts\n",
    "R=2.2            #in kohm\n",
    "#applying Kirchoff's voltage law,\n",
    "Vo=E-Vr\n",
    "print \"Voltage Vo=\",Vo,'V'\n"
   ]
  },
  {
   "cell_type": "markdown",
   "metadata": {},
   "source": [
    "## Example-2.13      Page Number-74"
   ]
  },
  {
   "cell_type": "code",
   "execution_count": 8,
   "metadata": {
    "collapsed": false
   },
   "outputs": [
    {
     "name": "stdout",
     "output_type": "stream",
     "text": [
      "I1= 0.212 mA\n",
      "I2= 3.32 mA\n",
      "Id2= 3.11 mA\n"
     ]
    }
   ],
   "source": [
    "#the applied volatge sets both the diodes  forward bias ,hence\n",
    "Vk1=0.7           #in volts (silicon diode)\n",
    "Vk2=0.7           #in volts (silicon diode)\n",
    "E=20              #in volts\n",
    "R1=3.3            #in kohm\n",
    "R2=5.6            #in kohm\n",
    "#applying Kirchoff's Voltage Law to the 2nd loop section of the circuit:-\n",
    "I1=Vk1/R1          \n",
    "#applying Kirchoff's Voltage Law to the 1st loop section of the circuit:-\n",
    "V2=E-Vk1-Vk2\n",
    "I2=V2/R2\n",
    "#applying Kirchoff's current Law at the junction node of two diodes:-\n",
    "Id2=I2-I1\n",
    "print \"I1=\",round(I1,3),'mA'\n",
    "print \"I2=\",round(I2,2),'mA'\n",
    "print \"Id2=\",round(Id2,2),'mA'"
   ]
  },
  {
   "cell_type": "markdown",
   "metadata": {},
   "source": [
    "## Example-2.14      Page Number-74"
   ]
  },
  {
   "cell_type": "code",
   "execution_count": 10,
   "metadata": {
    "collapsed": false
   },
   "outputs": [
    {
     "name": "stdout",
     "output_type": "stream",
     "text": [
      "Vo= 9.3 V\n",
      "I= 9.3 mA\n"
     ]
    }
   ],
   "source": [
    "#from the circuit given in the question\n",
    "E1=10             #in volts (applied voltage)\n",
    "E2=0              #in volts (applied voltage)\n",
    "r=1               #in kohm\n",
    "Vd1=0.7           #in volts (silicon diode)\n",
    "Vd2=0.7           #in volts (silicon diode)\n",
    "Vo=E1-Vd1\n",
    "I=(E1-Vd1)/r       #current in the circuit\n",
    "print \"Vo=\",round(Vo,2),'V'\n",
    "print \"I=\",round(I,2),'mA'"
   ]
  },
  {
   "cell_type": "markdown",
   "metadata": {},
   "source": [
    "## Example-2.15      Page Number-75"
   ]
  },
  {
   "cell_type": "code",
   "execution_count": 9,
   "metadata": {
    "collapsed": false
   },
   "outputs": [
    {
     "name": "stdout",
     "output_type": "stream",
     "text": [
      "Vo= 0.7 V\n",
      "I= 9.3 mA\n"
     ]
    }
   ],
   "source": [
    "#from the circuit given in the question,\n",
    "E1=10             #in volts (applied voltage)\n",
    "E2=0              #in volts (applied voltage)\n",
    "E3=10             #in volts (applied voltage)\n",
    "r=1               #in kohm\n",
    "Vd1=0.7           #in volts (silicon diode)\n",
    "Vd2=0.7           #in volts (silicon diode)\n",
    "Vo=E2+Vd2\n",
    "I=(E3-Vo)/r        #current in the circuit\n",
    "#Diode1 is in off state,because Vanode=Vo=0.7V and Vcathode=10V,hence Reverse biased\n",
    "print \"Vo=\",round(Vo,2),'V'\n",
    "print \"I=\",round(I,2),'mA'"
   ]
  },
  {
   "cell_type": "markdown",
   "metadata": {},
   "source": [
    "## Example-2.24      Page Number-93"
   ]
  },
  {
   "cell_type": "code",
   "execution_count": 7,
   "metadata": {
    "collapsed": false
   },
   "outputs": [
    {
     "name": "stdout",
     "output_type": "stream",
     "text": [
      "Reference voltage Vo1= 4.0 V\n",
      "Reference voltage Vo2= 10.0 V\n",
      "power delivered by supply= 800.0 mW\n",
      "power absorbed by LED= 80.0 mW\n",
      "power absorbed by zener diode= 120.0 mW\n"
     ]
    }
   ],
   "source": [
    "#from the circuit given in the question,\n",
    "E=40              #in volts (applied voltage)\n",
    "Vk=0.7            #in volts (white led )\n",
    "Vled=4            #in volts (silicon diode)\n",
    "R=1.3             #in kohm\n",
    "Vz1=6             #in volts (zener diode)\n",
    "Vz2=3.3           #in volts (zener diode)\n",
    "Vo1=Vz2+Vk       \n",
    "Vo2=Vo1+Vz1\n",
    "print \"Reference voltage Vo1=\",round(Vo1,2),'V'\n",
    "print \"Reference voltage Vo2=\",round(Vo2,2),'V'\n",
    "Ir=(E-Vo2-Vled)/R    #current across led\n",
    "Ps=E*Ir              #power delivered by supply\n",
    "Pled=Vled*Ir         # power absorbed by led\n",
    "Pz=Vz1*Ir           #power absorbed by diode\n",
    "print \"power delivered by supply=\",round(Ps,0),'mW'\n",
    "print \"power absorbed by LED=\",round(Pled,1),'mW'\n",
    "print \"power absorbed by zener diode=\",round(Pz,1),'mW'\n"
   ]
  },
  {
   "cell_type": "markdown",
   "metadata": {},
   "source": [
    "## Example-2.25      Page Number-94"
   ]
  },
  {
   "cell_type": "code",
   "execution_count": 23,
   "metadata": {
    "collapsed": true
   },
   "outputs": [],
   "source": [
    "#Case-1:positive voltage supplied>20V. therefore zener diode is  forward biased\n",
    "Vo=20      #in volts(volatge across parallel zener diode is 20volts)\n",
    "\n",
    "#Case-2:negative voltage supplied. therefore zener diode is  reverse biased\n",
    "Vo=0      #in volts(volatge across parallel zener diode is 0volts because of open circuit)\n"
   ]
  },
  {
   "cell_type": "markdown",
   "metadata": {},
   "source": [
    "## Example-2.26(a)      Page Number-96"
   ]
  },
  {
   "cell_type": "code",
   "execution_count": 25,
   "metadata": {
    "collapsed": false
   },
   "outputs": [
    {
     "name": "stdout",
     "output_type": "stream",
     "text": [
      "Vl 8.73 V\n",
      "Vr 7.27 V\n",
      "Iz 0 A\n",
      "Pz 0 W\n"
     ]
    }
   ],
   "source": [
    "Vi=16           #in volts(applied voltage)\n",
    "R=1             #in kohms\n",
    "Rl=1.2          #in kohms\n",
    "Vz=10           #in volts(zener diode)\n",
    "#removing the diode and calclating voltage across the open circuit\n",
    "V=(Rl*Vi)/(R+Rl)\n",
    "#since V=8.73V<Vz,therefore diode is in off state\n",
    "Vl=V             #voltage across resistor Rl\n",
    "Vr=Vi-Vl         #voltage across resistor R\n",
    "Iz=0             #in A(current through diode=0A due to open circuit)\n",
    "Pz=Iz*Vz         #in W(power dissipiated by zener diode)\n",
    "\n",
    "print \"Vl\",round(Vl,2),'V'\n",
    "print \"Vr\",round(Vr,2),'V'\n",
    "print \"Iz\",Iz,'A'\n",
    "print \"Pz\",Pz,'W'"
   ]
  },
  {
   "cell_type": "markdown",
   "metadata": {},
   "source": [
    "## Example-2.26(b)      Page Number-96"
   ]
  },
  {
   "cell_type": "code",
   "execution_count": 28,
   "metadata": {
    "collapsed": false
   },
   "outputs": [
    {
     "name": "stdout",
     "output_type": "stream",
     "text": [
      "Vl 10.0 V\n",
      "Vr 6.0 V\n",
      "Iz 2.67 mA\n",
      "Pz 26.67 mW\n"
     ]
    }
   ],
   "source": [
    "Vi=16           #in volts(applied voltage)\n",
    "R=1             #in kohms\n",
    "Rl=3.0          #in kohms\n",
    "Vz=10           #in volts(zener diode)\n",
    "#removing the diode and calclating voltage across the open circuit\n",
    "V=(Rl*Vi)/(R+Rl)\n",
    "#since V=12V>Vz,therefore diode is in on state\n",
    "Vl=Vz             #voltage across resistor Rl\n",
    "Vr=Vi-Vl         #voltage across resistor R\n",
    "Il=Vl/Rl         #current through resistor Rl\n",
    "Ir=Vr/R          #current through resistor R\n",
    "Iz=Ir-Il         #in mA(current through diode=0A due to open circuit)\n",
    "Pz=Iz*Vz         #in mW(power dissipiated by zener diode)\n",
    "\n",
    "print \"Vl\",round(Vl,2),'V'\n",
    "print \"Vr\",round(Vr,2),'V'\n",
    "print \"Iz\",round(Iz,2),'mA'\n",
    "print \"Pz\",round(Pz,2),'mW'"
   ]
  },
  {
   "cell_type": "markdown",
   "metadata": {},
   "source": [
    "## Example-2.27(a)      Page Number-98"
   ]
  },
  {
   "cell_type": "code",
   "execution_count": 37,
   "metadata": {
    "collapsed": false
   },
   "outputs": [
    {
     "name": "stdout",
     "output_type": "stream",
     "text": [
      "Range of Rl is 250 ohm to  1250 ohm\n",
      "Il= 8 mA\n"
     ]
    }
   ],
   "source": [
    "Vi=50           #in volts(applied voltage)\n",
    "R=1             #in kohms\n",
    "Vz=10           #in volts(zener diode)\n",
    "Izm=32          #in mA(maximum current through zener diode)\n",
    "Rlmin=(R*1000*Vz)/(Vi-Vz)   #in ohm (minimum value of Rl)\n",
    "Vr=Vi-Vz               #voltage across resistor R\n",
    "Ir=Vr/R                #current through resistor R\n",
    "Ilmin=Ir-Izm\n",
    "Rlmax=Vz*1000/Ilmin         #in ohm (maximum value of Rl)\n",
    "print \"Range of Rl is\",Rlmin,\"ohm to \",(Rlmax),\"ohm\"\n",
    "print \"Il=\",Ilmin,\"mA\"\n"
   ]
  },
  {
   "cell_type": "markdown",
   "metadata": {},
   "source": [
    "## Example-2.27(b)      Page Number-98"
   ]
  },
  {
   "cell_type": "code",
   "execution_count": 32,
   "metadata": {
    "collapsed": false
   },
   "outputs": [
    {
     "name": "stdout",
     "output_type": "stream",
     "text": [
      "maximum wattage rating of the diode= 320 mW\n"
     ]
    }
   ],
   "source": [
    "Vz=10           #in volts(zener diode)\n",
    "Izm=32          #in mA(maximum current through zener diode)\n",
    "Pmax=Vz*Izm\n",
    "print \"maximum wattage rating of the diode=\",Pmax,\"mW\""
   ]
  },
  {
   "cell_type": "markdown",
   "metadata": {},
   "source": [
    "## Example-2.28      Page Number-99"
   ]
  },
  {
   "cell_type": "code",
   "execution_count": 48,
   "metadata": {
    "collapsed": false
   },
   "outputs": [
    {
     "name": "stdout",
     "output_type": "stream",
     "text": [
      "Range of voltage Vi is 23.67 V to  36.87 V\n"
     ]
    }
   ],
   "source": [
    "R=220           #in ohms\n",
    "Rl=1.2          #in kohm\n",
    "Vz=20           #in volts(zener diode)\n",
    "Vl=Vz           #in volts(parallel connection)\n",
    "Izm=60          #in mA(maximum current through zener diode)\n",
    "Vimin=(((Rl*1000)+R)*Vz)/(Rl*1000)   #in volts(minimum value of  Volatge Vi)\n",
    "Il=Vl/Rl            #in mA(current through resistor Rl)\n",
    "Irmax=Izm+Il        #maximum value of current through resistor R\n",
    "Vimax=((Irmax/1000)*R)+Vz    #maximum value of volatge Vi\n",
    "print \"Range of voltage Vi is\",round(Vimin,2),\"V to \",round(Vimax,2),\"V\""
   ]
  }
 ],
 "metadata": {
  "anaconda-cloud": {},
  "kernelspec": {
   "display_name": "Python [Root]",
   "language": "python",
   "name": "Python [Root]"
  },
  "language_info": {
   "codemirror_mode": {
    "name": "ipython",
    "version": 2
   },
   "file_extension": ".py",
   "mimetype": "text/x-python",
   "name": "python",
   "nbconvert_exporter": "python",
   "pygments_lexer": "ipython2",
   "version": "2.7.12"
  }
 },
 "nbformat": 4,
 "nbformat_minor": 0
}
