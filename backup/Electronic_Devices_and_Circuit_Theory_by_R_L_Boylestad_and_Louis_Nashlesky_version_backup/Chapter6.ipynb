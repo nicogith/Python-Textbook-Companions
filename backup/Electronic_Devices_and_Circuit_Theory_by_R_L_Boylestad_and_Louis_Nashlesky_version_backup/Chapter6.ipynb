{
 "cells": [
  {
   "cell_type": "markdown",
   "metadata": {},
   "source": [
    "# Chapter- 6 Field Effect Transistors"
   ]
  },
  {
   "cell_type": "markdown",
   "metadata": {},
   "source": [
    "## Example-6.4   Page No-398"
   ]
  },
  {
   "cell_type": "code",
   "execution_count": 2,
   "metadata": {
    "collapsed": false
   },
   "outputs": [
    {
     "name": "stdout",
     "output_type": "stream",
     "text": [
      "The required Value of k= 0.061 mA/v2\n"
     ]
    }
   ],
   "source": [
    "#from the given data in the question:\n",
    "Id=3.0                #Drain current in mA\n",
    "Vgs=10.0              #Gate-source voltage in volts\n",
    "Vth=3.0               #threshold voltage in volts\n",
    "\n",
    "k=Id/((Vgs-Vth)**2)     #constant in A/V2\n",
    "\n",
    "print \"The required Value of k=\",round(k,3),\"mA/v2\""
   ]
  }
 ],
 "metadata": {
  "anaconda-cloud": {},
  "kernelspec": {
   "display_name": "Python [Root]",
   "language": "python",
   "name": "Python [Root]"
  },
  "language_info": {
   "codemirror_mode": {
    "name": "ipython",
    "version": 2
   },
   "file_extension": ".py",
   "mimetype": "text/x-python",
   "name": "python",
   "nbconvert_exporter": "python",
   "pygments_lexer": "ipython2",
   "version": "2.7.12"
  }
 },
 "nbformat": 4,
 "nbformat_minor": 0
}
