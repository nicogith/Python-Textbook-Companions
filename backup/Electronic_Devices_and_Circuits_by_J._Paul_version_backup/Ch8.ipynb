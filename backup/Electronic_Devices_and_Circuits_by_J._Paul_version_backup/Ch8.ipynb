{
 "cells": [
  {
   "cell_type": "markdown",
   "metadata": {},
   "source": [
    "# Chapter 8 - FET Amplifier"
   ]
  },
  {
   "cell_type": "markdown",
   "metadata": {},
   "source": [
    "## PageNumber 399 example 1"
   ]
  },
  {
   "cell_type": "code",
   "execution_count": 4,
   "metadata": {
    "collapsed": false
   },
   "outputs": [
    {
     "name": "stdout",
     "output_type": "stream",
     "text": [
      "voltage gain   =   -12.00\n",
      "voltage gain   =   -11.99\n"
     ]
    }
   ],
   "source": [
    "from math import sqrt\n",
    "freque=5*10**3##hertz\n",
    "#(1)\n",
    "g=2*10**-3##ampere per volt\n",
    "rd=10*10**3##ohm\n",
    "r1=30*10**3##ohm\n",
    "r12=r1*r1/(r1+r1)\n",
    "volgai=-(g*r12*rd)/(r12+rd)\n",
    "print \"voltage gain   =   %0.2f\"%((volgai))\n",
    "#correction : r12 should be taken as 15*10**3ohm in book\n",
    "#(2) capacitance included\n",
    "c=0.025*10**-6##farad\n",
    "frequ1=1/((2*3.14*(((rd*r1)/(rd+r1))+r1))*c)\n",
    "volgai=(volgai/(sqrt((1+(frequ1/freque)**2))))\n",
    "\n",
    "print \"voltage gain   =   %0.2f\"%((volgai))"
   ]
  },
  {
   "cell_type": "markdown",
   "metadata": {},
   "source": [
    "## PageNumber 400 example 2"
   ]
  },
  {
   "cell_type": "code",
   "execution_count": 6,
   "metadata": {
    "collapsed": false
   },
   "outputs": [
    {
     "name": "stdout",
     "output_type": "stream",
     "text": [
      "voltage gain   -18.00\n"
     ]
    }
   ],
   "source": [
    "rd=80*10**3##ohm\n",
    "r1=8*10**3##ohm\n",
    "rd12=5*10**3##ohm\n",
    "rd1=rd*r1/(rd+r1)\n",
    "u=30\n",
    "volgai=-(u*rd1)/(rd1+rd12)\n",
    "\n",
    "print \"voltage gain   %0.2f\"%((volgai))"
   ]
  },
  {
   "cell_type": "markdown",
   "metadata": {},
   "source": [
    "## PageNumber 401 example 3"
   ]
  },
  {
   "cell_type": "code",
   "execution_count": 8,
   "metadata": {
    "collapsed": false
   },
   "outputs": [
    {
     "name": "stdout",
     "output_type": "stream",
     "text": [
      "voltage gain   =   -1.18\n"
     ]
    }
   ],
   "source": [
    "r1=60*10**3##ohm\n",
    "volgai=-17.7\n",
    "rg=80*10**3##ohm\n",
    "volgai=((volgai*rg)/(1-volgai))/((rg/(1-volgai))+r1)\n",
    "print \"voltage gain   =   %0.2f\"%((volgai))"
   ]
  },
  {
   "cell_type": "markdown",
   "metadata": {},
   "source": [
    "## PageNumber 405 example 6"
   ]
  },
  {
   "cell_type": "code",
   "execution_count": 9,
   "metadata": {
    "collapsed": false
   },
   "outputs": [
    {
     "name": "stdout",
     "output_type": "stream",
     "text": [
      "r1   =   500.00 ohm\n",
      "effective input resistance   =   1.25 r3ohm\n",
      "r2   =   1500.00 ohm\n",
      "voltage gain   =   0.98 av`\n"
     ]
    }
   ],
   "source": [
    "vds=14##volt\n",
    "idq=3*10**-3##ampere\n",
    "vdd=20##volt\n",
    "g=2*10**-2\n",
    "rd=50*10**3##ohm\n",
    "vgs=-1.5##volt\n",
    "w=(vdd-vds)/idq\n",
    "r1=-vgs/idq\n",
    "r2=w-r1\n",
    "inpres=1/(1-(0.8*((r1)/(r1+r2))))\n",
    "volgai=(r1+r2)/(r1+r2+(1/(g)))\n",
    "print \"r1   =   %0.2f\"%((r1)),\"ohm\"\n",
    "print \"effective input resistance   =   %0.2f\"%((inpres)),\"r3ohm\"\n",
    "print \"r2   =   %0.2f\"%((r2)),\"ohm\"\n",
    "\n",
    "\n",
    "print \"voltage gain   =   %0.2f\"%((volgai)),\"av`\""
   ]
  },
  {
   "cell_type": "markdown",
   "metadata": {},
   "source": [
    "## PageNumber 405 example 7"
   ]
  },
  {
   "cell_type": "code",
   "execution_count": 10,
   "metadata": {
    "collapsed": false
   },
   "outputs": [
    {
     "name": "stdout",
     "output_type": "stream",
     "text": [
      "output voltage   =   -186.17 volt\n"
     ]
    }
   ],
   "source": [
    "rg=40*10**3##ohm\n",
    "voltag=(1-6*50)*3.3*10**3/(5.3*10**3)\n",
    "\n",
    "print \"output voltage   =   %0.2f\"%((voltag)),\"volt\"#\n",
    "#correction required in the book"
   ]
  },
  {
   "cell_type": "markdown",
   "metadata": {},
   "source": [
    "## PageNumber 406 example 9"
   ]
  },
  {
   "cell_type": "code",
   "execution_count": 14,
   "metadata": {
    "collapsed": false
   },
   "outputs": [
    {
     "name": "stdout",
     "output_type": "stream",
     "text": [
      "voltage gain   =   -25.00\n",
      "frequency   =   1.59e+07 hertz\n",
      "output capacitance   =   2.00e-12 farad\n",
      "req   =   5000.00 ohm\n"
     ]
    }
   ],
   "source": [
    "u=50\n",
    "rd=10*10**3##ohm\n",
    "cgs=5*10**-12##farad\n",
    "cgd=2*10**-12##farad\n",
    "cds=2*10**-12##farad\n",
    "freque=3##decibel\n",
    "g=u/rd\n",
    "volgai=-u*rd/(rd+rd)\n",
    "req=rd*rd/(rd+rd)\n",
    "frequ1=1/(2*3.14*cgd*req)\n",
    "print \"voltage gain   =   %0.2f\"%((volgai))\n",
    "#correction required in book\n",
    "print \"frequency   =   %0.2e\"%((frequ1)),\"hertz\"\n",
    "capac1=cgd*(1+g)\n",
    "print \"output capacitance   =   %0.2e\"%((capac1)),\"farad\"\n",
    "print \"req   =   %0.2f\"%((req)),\"ohm\"\n"
   ]
  }
 ],
 "metadata": {
  "kernelspec": {
   "display_name": "Python 2",
   "language": "python",
   "name": "python2"
  },
  "language_info": {
   "codemirror_mode": {
    "name": "ipython",
    "version": 2
   },
   "file_extension": ".py",
   "mimetype": "text/x-python",
   "name": "python",
   "nbconvert_exporter": "python",
   "pygments_lexer": "ipython2",
   "version": "2.7.9"
  }
 },
 "nbformat": 4,
 "nbformat_minor": 0
}
