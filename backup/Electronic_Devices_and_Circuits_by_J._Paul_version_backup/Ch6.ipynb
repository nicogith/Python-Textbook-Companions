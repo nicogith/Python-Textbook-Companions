{
 "cells": [
  {
   "cell_type": "markdown",
   "metadata": {},
   "source": [
    "# Chapter 6 - BJT at High Frequency"
   ]
  },
  {
   "cell_type": "markdown",
   "metadata": {},
   "source": [
    "## PageNumber 337 example 1"
   ]
  },
  {
   "cell_type": "code",
   "execution_count": 6,
   "metadata": {
    "collapsed": false
   },
   "outputs": [
    {
     "name": "stdout",
     "output_type": "stream",
     "text": [
      "transconductance g   =   0.38 ampere/volt\n",
      "input conductance gbe   =   3.85e-03 ampere/volt\n",
      "feedback conductance gbc   =   3.85e-07 ampere/volt\n",
      "base spread resistance rbb   =   240.00 ohm\n",
      "output conductance   =   1.15e-06 ampere/volt\n",
      "transition capacitance cbe   =   1.22e-09 farad\n",
      "rbc    =   2.60e+06 ohm\n",
      "rce   =   8.67e+05 ohm\n"
     ]
    }
   ],
   "source": [
    "colcur=10*10**-3##ampere\n",
    "vce=10##volt\n",
    "hie=500##ohm\n",
    "hoe=4*10**-5\n",
    "hfe=100\n",
    "hre=1*10**-4\n",
    "fqu=50*10**6##hertz\n",
    "q=3*10**12##farad\n",
    "voltag=26*10**-3##volt\n",
    "g=colcur/voltag\n",
    "gbe=g/hfe\n",
    "gbc=gbe*hre\n",
    "rbb=hie-260\n",
    "oucond=hoe-(1+hfe)*gbc\n",
    "cbe=g/(2*3.14*fqu)\n",
    "rbc=1/gbc\n",
    "rce=1/oucond\n",
    "print \"transconductance g   =   %0.2f\"%((g)),\"ampere/volt\"\n",
    "print \"input conductance gbe   =   %0.2e\"%((gbe)),\"ampere/volt\"\n",
    "print \"feedback conductance gbc   =   %0.2e\"%((gbc)),\"ampere/volt\"\n",
    "print \"base spread resistance rbb   =   %0.2f\"%((rbb)),\"ohm\"\n",
    "print \"output conductance   =   %0.2e\"%((oucond)),\"ampere/volt\"\n",
    "print \"transition capacitance cbe   =   %0.2e\"%((cbe)),\"farad\"\n",
    "print \"rbc    =   %0.2e\"%((rbc)),\"ohm\"##correction as 2.6mega ohm\n",
    "print \"rce   =   %0.2e\"%((rce)),\"ohm\""
   ]
  },
  {
   "cell_type": "markdown",
   "metadata": {},
   "source": [
    "## PageNumber 337 example 2"
   ]
  },
  {
   "cell_type": "code",
   "execution_count": 8,
   "metadata": {
    "collapsed": false
   },
   "outputs": [
    {
     "name": "stdout",
     "output_type": "stream",
     "text": [
      "fbeta   =   1.00 hertz\n",
      "f   =   100.00 hertz\n",
      "cbe   =   3.06e-04 farad\n",
      "rbe   =   520.00 ohm\n",
      "rbb   =   80.00 ohm\n"
     ]
    }
   ],
   "source": [
    "colcur=5*10**-3##ampere\n",
    "vce=10##volt\n",
    "hfe=100\n",
    "hie=600##ohm\n",
    "cugain=10\n",
    "fqu=10*10**6##hertz\n",
    "\n",
    "tracat=3*10**-12##farad\n",
    "voltag=26*10**-3##volt\n",
    "fbeta1=((((hfe**2)/(cugain**2))-1)/fqu**2)**(1/2)\n",
    "fbeta1=1/fbeta1\n",
    "fq1=hfe*fbeta1\n",
    "cbe=colcur/(2*3.14*fq1*voltag)\n",
    "rbe=hfe/(colcur/voltag)\n",
    "rbb=hie-rbe\n",
    "print \"fbeta   =   %0.2f\"%((fbeta1)),\"hertz\"\n",
    "print \"f   =   %0.2f\"%((fq1)),\"hertz\"\n",
    "print \"cbe   =   %0.2e\"%((cbe)),\"farad\"\n",
    "print \"rbe   =   %0.2f\"%((rbe)),\"ohm\"\n",
    "print \"rbb   =   %0.2f\"%((rbb)),\"ohm\""
   ]
  },
  {
   "cell_type": "markdown",
   "metadata": {},
   "source": [
    "## PageNumber 338 example 3"
   ]
  },
  {
   "cell_type": "code",
   "execution_count": 11,
   "metadata": {
    "collapsed": false
   },
   "outputs": [
    {
     "name": "stdout",
     "output_type": "stream",
     "text": [
      "cde   =   8.18e-12 farad\n",
      "frequency   =   1.50e+09 hertz\n"
     ]
    }
   ],
   "source": [
    "w=1*10**-4##centimetre\n",
    "em1cur=2*10**-3##ampere\n",
    "q=47\n",
    "voltag=26*10**-3##volt\n",
    "cde=(em1cur*w**2)/(voltag*2*q)\n",
    "fq1=(em1cur)/(2*3.14*cde*voltag)\n",
    "print \"cde   =   %0.2e\"%((cde)),\"farad\"\n",
    "print \"frequency   =   %0.2e\"%((fq1)),\"hertz\""
   ]
  },
  {
   "cell_type": "markdown",
   "metadata": {},
   "source": [
    "## PageNumber 339 example 6"
   ]
  },
  {
   "cell_type": "code",
   "execution_count": 14,
   "metadata": {
    "collapsed": false
   },
   "outputs": [
    {
     "name": "stdout",
     "output_type": "stream",
     "text": [
      "re   =   13.00 ohm\n",
      "falpha   =   5.99e+07 hertz\n",
      "cde   =   2.05e-10 farad\n",
      "w   =   2.66e-09 second\n"
     ]
    }
   ],
   "source": [
    "w=5*10**-4##centimetre\n",
    "em1cur=2*10**-3##ampere\n",
    "q=47\n",
    "voltag=26*10**-3##volt\n",
    "re=voltag/em1cur\n",
    "fq1=2*q/(w**2*2*3.14)\n",
    "cde=(em1cur*w**2)/(voltag*2*q)\n",
    "w=(w**2)/(2*q)\n",
    "print \"re   =   %0.2f\"%((re)),\"ohm\"\n",
    "print \"falpha   =   %0.2e\"%((fq1)),\"hertz\"\n",
    "print \"cde   =   %0.2e\"%((cde)),\"farad\"\n",
    "print \"w   =   %0.2e\"%((w)),\"second\""
   ]
  },
  {
   "cell_type": "markdown",
   "metadata": {},
   "source": [
    "## PageNumber example 8"
   ]
  },
  {
   "cell_type": "code",
   "execution_count": 17,
   "metadata": {
    "collapsed": false
   },
   "outputs": [
    {
     "name": "stdout",
     "output_type": "stream",
     "text": [
      "f   =   1.50e+13 hertz\n",
      "cde   =   1.64e-15 farad\n"
     ]
    }
   ],
   "source": [
    "w=10**-6##centimetre\n",
    "em1cur=4*10**-3##ampere\n",
    "voltag=26*10**-3##volt\n",
    "q=47\n",
    "cde=(em1cur*w**2)/(voltag*2*q)\n",
    "fq1=(em1cur)/(2*3.14*cde*voltag)\n",
    "print \"f   =   %0.2e\"%((fq1)),\"hertz\"\n",
    "print \"cde   =   %0.2e\"%((cde)),\"farad\"##correction required in the book."
   ]
  }
 ],
 "metadata": {
  "kernelspec": {
   "display_name": "Python 2",
   "language": "python",
   "name": "python2"
  },
  "language_info": {
   "codemirror_mode": {
    "name": "ipython",
    "version": 2
   },
   "file_extension": ".py",
   "mimetype": "text/x-python",
   "name": "python",
   "nbconvert_exporter": "python",
   "pygments_lexer": "ipython2",
   "version": "2.7.9"
  }
 },
 "nbformat": 4,
 "nbformat_minor": 0
}
