{
 "cells": [
  {
   "cell_type": "markdown",
   "metadata": {},
   "source": [
    "## Chapter 7 - Field Effect Transistor"
   ]
  },
  {
   "cell_type": "markdown",
   "metadata": {},
   "source": [
    "## PageNumber 370 example 1"
   ]
  },
  {
   "cell_type": "code",
   "execution_count": 5,
   "metadata": {
    "collapsed": false
   },
   "outputs": [
    {
     "name": "stdout",
     "output_type": "stream",
     "text": [
      "vgs   =   0.70 volt\n",
      "id   =   1.51e-03 ampere\n",
      "vds   =   11.23 volt\n",
      "voltage gain   =   -21.25\n"
     ]
    }
   ],
   "source": [
    "from sympy import symbols, solve\n",
    "rd=12*10**3##ohm\n",
    "r=1*10**6##ohm\n",
    "resour=470##ohm\n",
    "vdd=30##volt\n",
    "idss=3*10**-3##ampere\n",
    "vd=2.4##volt\n",
    "v = symbols('v')\n",
    "vgs=[0.24, 2.175, 1.41]\n",
    "expr = vgs[0]*v**2+vgs[1]*v+vgs[2]\n",
    "vgs=-solve(expr,v)[1]\n",
    "vgs=0.7\n",
    "id=idss*((1-(vgs/vd)))**2\n",
    "vds=vdd-id*(rd+resour)\n",
    "g=(2*idss/vd)*(1-((vgs/vd)))\n",
    "volgai=-g*rd\n",
    "print \"vgs   =   %0.2f\"%((vgs)),\"volt\"\n",
    "print \"id   =   %0.2e\"%((id)),\"ampere\"\n",
    "print \"vds   =   %0.2f\"%((vds)),\"volt\"\n",
    "print \"voltage gain   =   %0.2f\"%((volgai))"
   ]
  },
  {
   "cell_type": "markdown",
   "metadata": {},
   "source": [
    "## PageNumber 371 example 2"
   ]
  },
  {
   "cell_type": "code",
   "execution_count": 8,
   "metadata": {
    "collapsed": false
   },
   "outputs": [
    {
     "name": "stdout",
     "output_type": "stream",
     "text": [
      "r1   =   2000.00 ohm\n"
     ]
    }
   ],
   "source": [
    "from __future__ import division\n",
    "idss=1*10**-3##ampere\n",
    "pinvol=1##volt\n",
    "q=10##volt\n",
    "rd=56*10**3##ohm\n",
    "vdd=24##volt\n",
    "dracur=(vdd-q)/rd\n",
    "vgs=0.5\n",
    "r1=vgs/dracur\n",
    "print \"r1   =   %0.2f\"%((r1)),\"ohm\""
   ]
  },
  {
   "cell_type": "markdown",
   "metadata": {},
   "source": [
    "## PageNumber 372 example 4"
   ]
  },
  {
   "cell_type": "code",
   "execution_count": 10,
   "metadata": {
    "collapsed": false
   },
   "outputs": [
    {
     "name": "stdout",
     "output_type": "stream",
     "text": [
      "id   =   2.25e-03 ampere\n",
      "vds   =   10.50 volt\n"
     ]
    }
   ],
   "source": [
    "ids=4*10**-3##ampere\n",
    "vp=4##volt\n",
    "r=1.3*10**3#ohm\n",
    "r1=200*10**3##ohm\n",
    "vdd=60##volt\n",
    "drares=18*10**3##ohm\n",
    "soresi=4*10**3##ohm\n",
    "rth=(r*r1)/(r+r1)\n",
    "vth=r1*(1-vdd)/(1500*10**3)\n",
    "id=-2.25*10**-3\n",
    "vds=-vdd-(drares+soresi)*id\n",
    "print \"id   =   %0.2e\"%(abs(id)),\"ampere\"\n",
    "print \"vds   =   %0.2f\"%(abs(vds)),\"volt\""
   ]
  },
  {
   "cell_type": "markdown",
   "metadata": {},
   "source": [
    "## PageNumber 373 example 5"
   ]
  },
  {
   "cell_type": "code",
   "execution_count": 12,
   "metadata": {
    "collapsed": false
   },
   "outputs": [
    {
     "name": "stdout",
     "output_type": "stream",
     "text": [
      "source resistance   =   156.25 ohm\n"
     ]
    }
   ],
   "source": [
    "from math import sqrt\n",
    "idss=10*10**-3##ampere\n",
    "pinvol=-1##volt\n",
    "ids=6.4*10**-3##ampere\n",
    "vgs=-(sqrt(ids/idss)-(1))*pinvol\n",
    "r=pinvol/ids\n",
    "print \"source resistance   =   %0.2f\"%(abs(r)),\"ohm\""
   ]
  },
  {
   "cell_type": "markdown",
   "metadata": {},
   "source": [
    "## PageNumber 374 example 6"
   ]
  },
  {
   "cell_type": "code",
   "execution_count": 14,
   "metadata": {
    "collapsed": false
   },
   "outputs": [
    {
     "name": "stdout",
     "output_type": "stream",
     "text": [
      "duration   =   1.39e-07 second\n"
     ]
    }
   ],
   "source": [
    "from math import log\n",
    "v1=2##volt\n",
    "vgs=4##volt\n",
    "voltag=5##volt\n",
    "q=5*10**-3##ampere per volt square\n",
    "id=q*(vgs-v1)\n",
    "durati=10**-7*log(4)\n",
    "\n",
    "print \"duration   =   %0.2e\"%((durati)),\"second\""
   ]
  },
  {
   "cell_type": "markdown",
   "metadata": {},
   "source": [
    "## PageNumber 7 example 7"
   ]
  },
  {
   "cell_type": "code",
   "execution_count": 16,
   "metadata": {
    "collapsed": false
   },
   "outputs": [
    {
     "name": "stdout",
     "output_type": "stream",
     "text": [
      "max transconductance   =   4.00e-04 mho\n"
     ]
    }
   ],
   "source": [
    "idss=1*10**-3##ampere\n",
    "pinvol=-5##volt\n",
    "tracon=(2*idss)/abs(pinvol)\n",
    "print \"max transconductance   =   %0.2e\"%((tracon)),\"mho\""
   ]
  },
  {
   "cell_type": "markdown",
   "metadata": {},
   "source": [
    "## PageNumber 376 example 8"
   ]
  },
  {
   "cell_type": "code",
   "execution_count": 17,
   "metadata": {
    "collapsed": false
   },
   "outputs": [
    {
     "name": "stdout",
     "output_type": "stream",
     "text": [
      "vgs   =   3.24 volt\n",
      "rd   =   13527.86 ohm\n"
     ]
    }
   ],
   "source": [
    "from math import sqrt\n",
    "vdd=10##volt\n",
    "beta1=10**-4##ampere per square volt\n",
    "ids=0.5*10**-3##ampere\n",
    "voltag=1##volt\n",
    "vgs=(sqrt(ids/beta1)+(1))\n",
    "rd=(vdd-vgs)/ids\n",
    "\n",
    "print \"vgs   =   %0.2f\"%((vgs)),\"volt\"\n",
    "print \"rd   =   %0.2f\"%((rd)),\"ohm\""
   ]
  },
  {
   "cell_type": "markdown",
   "metadata": {},
   "source": [
    "## PageNumber 376 example 9"
   ]
  },
  {
   "cell_type": "code",
   "execution_count": 18,
   "metadata": {
    "collapsed": false
   },
   "outputs": [
    {
     "name": "stdout",
     "output_type": "stream",
     "text": [
      "point 10.75 >2.00 volt\n",
      "vds greater than 2volt the point in pinch\n"
     ]
    }
   ],
   "source": [
    "v1=2##volt\n",
    "ids=4*10**-3##ampere\n",
    "\n",
    "rd=910##ohm\n",
    "r1=3*10**3##ohm\n",
    "r=12*1**6##ohm\n",
    "r11=8.57*10**6##ohm\n",
    "vdd=24##volt\n",
    "vg=vdd*(r11/(r+(r11)))\n",
    "id=3.39*10**-3\n",
    "vgsq=vg-id*r1\n",
    "vdsq=vdd-id*(rd+r1)\n",
    "vdgq=vdsq-vgsq\n",
    "print \"point %0.2f\"%(vdsq),\">%0.2f\"%(v1),\"volt\"\n",
    "print \"vds greater than 2volt the point in pinch\""
   ]
  }
 ],
 "metadata": {
  "kernelspec": {
   "display_name": "Python 2",
   "language": "python",
   "name": "python2"
  },
  "language_info": {
   "codemirror_mode": {
    "name": "ipython",
    "version": 2
   },
   "file_extension": ".py",
   "mimetype": "text/x-python",
   "name": "python",
   "nbconvert_exporter": "python",
   "pygments_lexer": "ipython2",
   "version": "2.7.9"
  }
 },
 "nbformat": 4,
 "nbformat_minor": 0
}
