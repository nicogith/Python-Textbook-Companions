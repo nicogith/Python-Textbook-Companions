{
 "cells": [
  {
   "cell_type": "markdown",
   "metadata": {},
   "source": [
    "# Chapter 10 - Negative Feedback Amplifiers"
   ]
  },
  {
   "cell_type": "markdown",
   "metadata": {},
   "source": [
    "## PageNumber 467 example 1"
   ]
  },
  {
   "cell_type": "code",
   "execution_count": 3,
   "metadata": {
    "collapsed": false
   },
   "outputs": [
    {
     "name": "stdout",
     "output_type": "stream",
     "text": [
      "reverse transmission   =   0.10\n",
      "gain with feedback   =   10.00\n"
     ]
    }
   ],
   "source": [
    "from __future__ import division\n",
    "av=1000#\n",
    "chvoga=0.001##change in voltage gain\n",
    "beta1=1/((chvoga)/(100/av))-1#\n",
    "beta1=beta1/av#\n",
    "fegain=(av)/(1+(av*(beta1)))#\n",
    "print \"reverse transmission   =   %0.2f\"%((beta1))\n",
    "print \"gain with feedback   =   %0.2f\"%((fegain))"
   ]
  },
  {
   "cell_type": "markdown",
   "metadata": {},
   "source": [
    "## PageNumber 467 example 2"
   ]
  },
  {
   "cell_type": "code",
   "execution_count": 5,
   "metadata": {
    "collapsed": false
   },
   "outputs": [
    {
     "name": "stdout",
     "output_type": "stream",
     "text": [
      "output voltage   =   2.19\n",
      "input voltage   =   0.25 volt\n"
     ]
    }
   ],
   "source": [
    "voltag=36##volt\n",
    "w=0.07##harmonic distortion\n",
    "inpvol=0.028##volt\n",
    "beta1=0.012#\n",
    "a=voltag/inpvol#\n",
    "fegain=a/(1+beta1*a)##correction in book\n",
    "volta1=fegain*inpvol#\n",
    "print \"output voltage   =   %0.2f\"%((volta1))\n",
    "#decrease of gain 9\n",
    "inpvol=9*inpvol#\n",
    "print \"input voltage   =   %0.2f\"%((inpvol)),\"volt\"#"
   ]
  },
  {
   "cell_type": "markdown",
   "metadata": {},
   "source": [
    "## PageNumber 468 example 3"
   ]
  },
  {
   "cell_type": "code",
   "execution_count": 7,
   "metadata": {
    "collapsed": false
   },
   "outputs": [
    {
     "name": "stdout",
     "output_type": "stream",
     "text": [
      "required input   =   1.00 volt\n",
      "harmonic distortion   =   0.10\n"
     ]
    }
   ],
   "source": [
    "volgain=2000##voltage gain\n",
    "outpower=20##watts\n",
    "inpsig=10*10**-3##volts\n",
    "fedbac=40##decibel\n",
    "fedgai=volgain/100#\n",
    "outvol=volgain*inpsig##output voltage\n",
    "inpvol=outvol/fedgai##required input\n",
    "#10 second harmonic distortion\n",
    "distor=(10/100)#\n",
    "print \"required input   =   %0.2f\"%((inpvol)),\"volt\"#\n",
    "print \"harmonic distortion   =   %0.2f\"%((distor))"
   ]
  },
  {
   "cell_type": "markdown",
   "metadata": {},
   "source": [
    "## PageNumber 469 example 5"
   ]
  },
  {
   "cell_type": "code",
   "execution_count": 9,
   "metadata": {
    "collapsed": false
   },
   "outputs": [
    {
     "name": "stdout",
     "output_type": "stream",
     "text": [
      "feedback factor   =   0.019\n",
      "over gain   =   0.005\n"
     ]
    }
   ],
   "source": [
    "fedgai=60##decibel\n",
    "outimp=10*10**3##ohm\n",
    "outim1=500##ohm modified impedance\n",
    "fedgai=1000#\n",
    "fedbac=((outimp/outim1)-(1))/fedgai#\n",
    "#10 change in gain\n",
    "overga=1/((1+(fedgai*fedbac))/0.1)##over gain\n",
    "print \"feedback factor   =   %0.3f\"%((fedbac))\n",
    "print \"over gain   =   %0.3f\"%((overga))"
   ]
  },
  {
   "cell_type": "markdown",
   "metadata": {},
   "source": [
    "## PageNumber 470 example 6"
   ]
  },
  {
   "cell_type": "code",
   "execution_count": 11,
   "metadata": {
    "collapsed": false
   },
   "outputs": [
    {
     "name": "stdout",
     "output_type": "stream",
     "text": [
      "current gain   =   -11.60\n",
      "voltage gain   =   -46.40\n",
      "transconductance   =   -0.01 ampere per volt\n",
      "transresistance   =   -46403.71 ohm\n",
      "input resistance   =   1042.65 ohm\n",
      "output resistance   =   3636.36 ohm\n"
     ]
    }
   ],
   "source": [
    "colres=4*10**3##ohm\n",
    "r=4*10**3##ohm\n",
    "basres=20*10**3##ohm\n",
    "r1=1*10**3##ohm\n",
    "hie=1.1*10**3#\n",
    "hfe=50#\n",
    "hoe=(40*10**3)#\n",
    "ri=basres*hie/(basres+hie)#\n",
    "curgai=((r1/(r1+ri)))*((basres/(basres+hie)))*((-hfe*colres)/(colres+r))#\n",
    "volgai=curgai*r/r1#\n",
    "tranco=volgai/r#\n",
    "tranre=r1*volgai#\n",
    "outres=hoe*colres/(hoe+colres)#\n",
    "print \"current gain   =   %0.2f\"%((curgai))\n",
    "print \"voltage gain   =   %0.2f\"%((volgai))\n",
    "print \"transconductance   =   %0.2f\"%((tranco)),\"ampere per volt\"#\n",
    "print \"transresistance   =   %0.2f\"%((tranre)),\"ohm\"#\n",
    "print \"input resistance   =   %0.2f\"%((ri)),\"ohm\"#\n",
    "print \"output resistance   =   %0.2f\"%((outres)),\"ohm\"#"
   ]
  }
 ],
 "metadata": {
  "kernelspec": {
   "display_name": "Python 2",
   "language": "python",
   "name": "python2"
  },
  "language_info": {
   "codemirror_mode": {
    "name": "ipython",
    "version": 2
   },
   "file_extension": ".py",
   "mimetype": "text/x-python",
   "name": "python",
   "nbconvert_exporter": "python",
   "pygments_lexer": "ipython2",
   "version": "2.7.9"
  }
 },
 "nbformat": 4,
 "nbformat_minor": 0
}
