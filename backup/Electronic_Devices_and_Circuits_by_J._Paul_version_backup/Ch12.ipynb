{
 "cells": [
  {
   "cell_type": "markdown",
   "metadata": {},
   "source": [
    "# Chapter 12 - Power Electronic devices "
   ]
  },
  {
   "cell_type": "markdown",
   "metadata": {},
   "source": [
    "## PageNumber 553 example 1"
   ]
  },
  {
   "cell_type": "code",
   "execution_count": 2,
   "metadata": {
    "collapsed": false
   },
   "outputs": [
    {
     "name": "stdout",
     "output_type": "stream",
     "text": [
      "source resistance   =   111.87 ohm\n"
     ]
    }
   ],
   "source": [
    "from math import sqrt\n",
    "slope1=130\n",
    "trivol=15##volt\n",
    "d=0.5##watts\n",
    "ig=sqrt(d/slope1)\n",
    "vg=slope1*ig\n",
    "r=(trivol-vg)/ig\n",
    "print \"source resistance   =   %0.2f\"%((r)),\"ohm\""
   ]
  },
  {
   "cell_type": "markdown",
   "metadata": {},
   "source": [
    "## PageNumber 553 example 2"
   ]
  },
  {
   "cell_type": "code",
   "execution_count": 5,
   "metadata": {
    "collapsed": false
   },
   "outputs": [
    {
     "name": "stdout",
     "output_type": "stream",
     "text": [
      "current   =   0.010 ampere\n",
      "input current less than required current\n"
     ]
    }
   ],
   "source": [
    "from math import exp\n",
    "latcur=50*10**-3##ampere\n",
    "durpul=50*10**-6##second\n",
    "induct=0.5##henry\n",
    "r=20##ohm\n",
    "voltag=100##volt\n",
    "w=induct/r\n",
    "inpcur=-(voltag/r)*((1)-exp(-durpul/w))\n",
    "print \"current   =   %0.3f\"%(abs(inpcur)),\"ampere\"\n",
    "print \"input current less than required current\""
   ]
  },
  {
   "cell_type": "markdown",
   "metadata": {},
   "source": [
    "## PageNumber 554 example 3"
   ]
  },
  {
   "cell_type": "code",
   "execution_count": 7,
   "metadata": {
    "collapsed": false
   },
   "outputs": [
    {
     "name": "stdout",
     "output_type": "stream",
     "text": [
      "min duration   =   4.00e-06 second\n"
     ]
    }
   ],
   "source": [
    "latcur=4*10**-3##ampere\n",
    "induct=0.1##henry\n",
    "voltag=100##volt\n",
    "durmin=induct*latcur/voltag\n",
    "print \"min duration   =   %0.2e\"%((durmin)),\"second\""
   ]
  },
  {
   "cell_type": "markdown",
   "metadata": {},
   "source": [
    "## PageNumber 554 example 4"
   ]
  },
  {
   "cell_type": "code",
   "execution_count": 8,
   "metadata": {
    "collapsed": false
   },
   "outputs": [
    {
     "name": "stdout",
     "output_type": "stream",
     "text": [
      "source resistance   =   2000.00 ohm\n"
     ]
    }
   ],
   "source": [
    "slope1=3*10**3\n",
    "egs=10##volt\n",
    "d=0.012##watts\n",
    "ig=sqrt(d/slope1)\n",
    "vg=slope1*ig\n",
    "r=(egs-vg)/ig\n",
    "\n",
    "print \"source resistance   =   %0.2f\"%((r)),\"ohm\"##it is not given in the book"
   ]
  },
  {
   "cell_type": "markdown",
   "metadata": {},
   "source": [
    "## PageNumber 554 example 5"
   ]
  },
  {
   "cell_type": "code",
   "execution_count": 9,
   "metadata": {
    "collapsed": false
   },
   "outputs": [
    {
     "name": "stdout",
     "output_type": "stream",
     "text": [
      "resistance   =   14.00 ohm\n",
      "frequency   =   18750.00 hertz\n"
     ]
    }
   ],
   "source": [
    "slope1=16\n",
    "durmax=4*10**-6##second\n",
    "curmin=500*10**-3##ampere\n",
    "voltag=15##volt\n",
    "#(1) resistance\n",
    "vg=slope1*curmin\n",
    "r=(voltag-vg)/curmin\n",
    "#(2)\n",
    "d=vg*curmin\n",
    "freque=0.3/(d*durmax)\n",
    "print \"resistance   =   %0.2f\"%((r)),\"ohm\"\n",
    "print \"frequency   =   %0.2f\"%((freque)),\"hertz\""
   ]
  },
  {
   "cell_type": "markdown",
   "metadata": {},
   "source": [
    "## PageNumber 555 example 6"
   ]
  },
  {
   "cell_type": "code",
   "execution_count": 10,
   "metadata": {
    "collapsed": false
   },
   "outputs": [
    {
     "name": "stdout",
     "output_type": "stream",
     "text": [
      "change of voltage   =   800.00 volt per microsecond\n"
     ]
    }
   ],
   "source": [
    "c1=20*10**-12##farad\n",
    "limcur=16*10**-3##ampere\n",
    "w=(limcur/c1)*10**-6##convert second to microsecond\n",
    "print \"change of voltage   =   %0.2f\"%((w)),\"volt per microsecond\""
   ]
  },
  {
   "cell_type": "markdown",
   "metadata": {},
   "source": [
    "## PageNumber 555 example 7"
   ]
  },
  {
   "cell_type": "code",
   "execution_count": 11,
   "metadata": {
    "collapsed": false
   },
   "outputs": [
    {
     "name": "stdout",
     "output_type": "stream",
     "text": [
      "current   =   2121.32 ampere\n",
      "current   =   45000.00 ampere square second\n"
     ]
    }
   ],
   "source": [
    "ratcur=3000##ampere\n",
    "freque=50##hertz\n",
    "i=sqrt(ratcur**2/2)\n",
    "print \"current   =   %0.2f\"%((i)),\"ampere\"\n",
    "i=((ratcur)/sqrt(2))**2/(2*freque)\n",
    "print \"current   =   %0.2f\"%((i)),\"ampere square second\""
   ]
  },
  {
   "cell_type": "markdown",
   "metadata": {},
   "source": [
    "## PageNumber 556 example 9"
   ]
  },
  {
   "cell_type": "code",
   "execution_count": 15,
   "metadata": {
    "collapsed": false
   },
   "outputs": [
    {
     "name": "stdout",
     "output_type": "stream",
     "text": [
      "max limit resistance   =   1410000.00 ohm\n",
      "min limit resistance   =   2650.00 ohm\n",
      "resistance   =   4.67e+04 ohm\n",
      "rb1   =   100.00 ohm\n",
      "rb2   =   653.59 ohm\n",
      "peak voltage   =   15.90 volt\n"
     ]
    }
   ],
   "source": [
    "from __future__ import division\n",
    "from math import log\n",
    "voltag=30##volt\n",
    "w=0.51\n",
    "i1=10*10**-6##ampere\n",
    "v1=3.5##volt\n",
    "curen1=10*10**-3##ampere\n",
    "freque=60##hertz\n",
    "tridun=50*10**-6##second\n",
    "pinvol=w*voltag+0.6\n",
    "r=(voltag-pinvol)/i1\n",
    "print \"max limit resistance   =   %0.2f\"%((r)),\"ohm\"\n",
    "r=(voltag-v1)/(curen1)\n",
    "print \"min limit resistance   =   %0.2f\"%((r)),\"ohm\"\n",
    "capac1=0.5*10**-6##farad\n",
    "r=(1/freque)*(1/(capac1*log(1/(1-w))))\n",
    "print \"resistance   =   %0.2e\"%((r)),\"ohm\"\n",
    "rb2=10**4/(w*voltag)\n",
    "rb1=tridun/capac1\n",
    "print \"rb1   =   %0.2f\"%((rb1)),\"ohm\"\n",
    "print \"rb2   =   %0.2f\"%((rb2)),\"ohm\"\n",
    "print \"peak voltage   =   %0.2f\"%((pinvol)),\"volt\""
   ]
  },
  {
   "cell_type": "markdown",
   "metadata": {},
   "source": [
    "## PageNumber 557 example 10"
   ]
  },
  {
   "cell_type": "code",
   "execution_count": 16,
   "metadata": {
    "collapsed": false
   },
   "outputs": [
    {
     "name": "stdout",
     "output_type": "stream",
     "text": [
      "voltage   =   7.00 volt\n",
      "this voltage makes to off\n"
     ]
    }
   ],
   "source": [
    "re=1*10**3##ohm\n",
    "i1=5*10**-3##ampere\n",
    "\n",
    "voltag=re*i1+2\n",
    "print \"voltage   =   %0.2f\"%((voltag)),\"volt\"\n",
    "\n",
    "\n",
    "print \"this voltage makes to off\""
   ]
  }
 ],
 "metadata": {
  "kernelspec": {
   "display_name": "Python 2",
   "language": "python",
   "name": "python2"
  },
  "language_info": {
   "codemirror_mode": {
    "name": "ipython",
    "version": 2
   },
   "file_extension": ".py",
   "mimetype": "text/x-python",
   "name": "python",
   "nbconvert_exporter": "python",
   "pygments_lexer": "ipython2",
   "version": "2.7.9"
  }
 },
 "nbformat": 4,
 "nbformat_minor": 0
}
