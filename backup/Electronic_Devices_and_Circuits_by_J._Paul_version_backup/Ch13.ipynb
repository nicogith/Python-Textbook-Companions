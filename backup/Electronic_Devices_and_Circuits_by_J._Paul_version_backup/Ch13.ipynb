{
 "cells": [
  {
   "cell_type": "markdown",
   "metadata": {},
   "source": [
    "# Chapter13 - Cathode Ray Oscilloscope"
   ]
  },
  {
   "cell_type": "markdown",
   "metadata": {},
   "source": [
    "## PageNumber : 578 example 1"
   ]
  },
  {
   "cell_type": "code",
   "execution_count": 14,
   "metadata": {
    "collapsed": false
   },
   "outputs": [
    {
     "name": "stdout",
     "output_type": "stream",
     "text": [
      "power to electrons   =    8.0 watts\n"
     ]
    }
   ],
   "source": [
    "from __future__ import division\n",
    "quanti=3*10**17#\n",
    "voltag=10*10**3##volt\n",
    "distan=40*10**-3##metre per minute\n",
    "w=quanti*1.6*10**-19*voltag\n",
    "w=w/60##per second\n",
    "\n",
    "print \"power to electrons   =   \",round((w),2),\"watts\""
   ]
  },
  {
   "cell_type": "markdown",
   "metadata": {},
   "source": [
    "## PageNumber : 578 example 2"
   ]
  },
  {
   "cell_type": "code",
   "execution_count": 15,
   "metadata": {
    "collapsed": false
   },
   "outputs": [
    {
     "name": "stdout",
     "output_type": "stream",
     "text": [
      "input voltage   =    9.55 volt\n",
      "frequency   =    4761.9 hertz\n",
      "vm1coswt vm2sinwt squaring and adding gives ellipse\n"
     ]
    }
   ],
   "source": [
    "from math import sqrt\n",
    "sensit=5## per centimetre\n",
    "q=50*10**-6##second per centimetre\n",
    "petope=5.4##centimetre\n",
    "horiax=8.4##centimetre\n",
    "voltag=petope*sensit#\n",
    "voltag=voltag/((2)*sqrt(2))#\n",
    "#one cycle\n",
    "horiax=(horiax/2)*q#\n",
    "freque=1/horiax#\n",
    "print \"input voltage   =   \",round((voltag),2),\"volt\"\n",
    "print \"frequency   =   \",round((freque),2),\"hertz\"\n",
    "\n",
    "\n",
    "print \"vm1coswt vm2sinwt squaring and adding gives ellipse\""
   ]
  },
  {
   "cell_type": "markdown",
   "metadata": {},
   "source": [
    "## PageNumber : 579 example 3"
   ]
  },
  {
   "cell_type": "code",
   "execution_count": 18,
   "metadata": {
    "collapsed": false
   },
   "outputs": [
    {
     "name": "stdout",
     "output_type": "stream",
     "text": [
      "velocity x   =   1.874e+07 metre per second\n",
      "velocity x   =   3.10e+05 metre per second\n"
     ]
    }
   ],
   "source": [
    "voltag=1000##volt\n",
    "#(1) velocity\n",
    "vx=sqrt(2*1.6*10**-19*(voltag)/(9.11*10**-31))#\n",
    "print \"velocity x   =   %0.3e\"%vx,\"metre per second\"\n",
    "vox=1*10**5##metre per second intial velocity\n",
    "vx=sqrt((vox)+((2*1.6*10**-19*voltag)/(2.01*1.66*10**-27)))#\n",
    "\n",
    "print \"velocity x   =   %0.2e\"%vx,\"metre per second\""
   ]
  },
  {
   "cell_type": "markdown",
   "metadata": {},
   "source": [
    "## PageNumber : 580 example 4"
   ]
  },
  {
   "cell_type": "code",
   "execution_count": 20,
   "metadata": {
    "collapsed": false
   },
   "outputs": [
    {
     "name": "stdout",
     "output_type": "stream",
     "text": [
      "transverse magnetic field   =   3.87e-04 weber per metre square\n"
     ]
    }
   ],
   "source": [
    "voltag=2000##volt\n",
    "d=15##centimetre\n",
    "d1=3##centimetre\n",
    "r1=((d**2+d1**2)/(6))*10**-2##centimetre to metre\n",
    "vox=sqrt(2*1.6*10**-19*(voltag)/(9.11*10**-31))#\n",
    "b=vox/((1.6*10**-19*r1)/(9.11*10**-31))#\n",
    "\n",
    "print \"transverse magnetic field   =   %0.2e\"%b,\"weber per metre square\""
   ]
  },
  {
   "cell_type": "markdown",
   "metadata": {},
   "source": [
    "## PageNumber : 581 example 5"
   ]
  },
  {
   "cell_type": "code",
   "execution_count": 22,
   "metadata": {
    "collapsed": false
   },
   "outputs": [
    {
     "name": "stdout",
     "output_type": "stream",
     "text": [
      "max frequency  = 6.63e+08 hertz\n",
      "duration electron between the plates   =   4.53e-08 second\n"
     ]
    }
   ],
   "source": [
    "voltag=2000##volt\n",
    "d=2*10**-2##metre\n",
    "#(1) frequency\n",
    "vx=sqrt(2*1.6*10**-19*(voltag)/(9.11*10**-31))#\n",
    "durati=d/vx#\n",
    "freque=1/(2*durati)#\n",
    "print \"max frequency  = %0.2e\"%freque,\"hertz\"\n",
    "#(2)\n",
    "durati=60*durati#\n",
    "print \"duration electron between the plates   =   %0.2e\"%durati,\"second\"#correction in book"
   ]
  },
  {
   "cell_type": "markdown",
   "metadata": {},
   "source": [
    "## PageNumber : 582 example 7"
   ]
  },
  {
   "cell_type": "code",
   "execution_count": 23,
   "metadata": {
    "collapsed": false
   },
   "outputs": [
    {
     "name": "stdout",
     "output_type": "stream",
     "text": [
      "max velocity =  1.68e+07 metre per second\n"
     ]
    }
   ],
   "source": [
    "voltag=800##volt\n",
    "\n",
    "\n",
    "q=1.6*10**-19##coulomb\n",
    "m=9.11*10**-31##kilogram\n",
    "vox=sqrt(2*q*voltag/m)#\n",
    "\n",
    "print \"max velocity =  %0.2e\"%vox,\"metre per second\""
   ]
  },
  {
   "cell_type": "markdown",
   "metadata": {},
   "source": [
    "## PageNumber : 582 example 8"
   ]
  },
  {
   "cell_type": "code",
   "execution_count": 26,
   "metadata": {
    "collapsed": false
   },
   "outputs": [
    {
     "name": "stdout",
     "output_type": "stream",
     "text": [
      "velocity   =   2.65e+07 metre per second\n",
      "sensitivity   =   3.75e-04 metre per volt\n",
      "deflection factor   =    2666.67 volt per metre\n"
     ]
    }
   ],
   "source": [
    "voltag=2000##volt\n",
    "d=1.5*10**-2##centimetre\n",
    "d1=5*10**-3##metre\n",
    "distan=50*10**-2##metre\n",
    "#(1) velocity\n",
    "vox=sqrt(2*1.6*10**-19*(voltag)/(9.11*10**-31))#\n",
    "#(2) sensitivity\n",
    "defsen=distan*d/(2*d1*voltag)#\n",
    "#deflection factor\n",
    "g=1/defsen#\n",
    "print \"velocity   =   %0.2e\"%vox,\"metre per second\"\n",
    "print \"sensitivity   =   %0.2e\"%defsen,\"metre per volt\"\n",
    "\n",
    "print \"deflection factor   =   \",round((g),2),\"volt per metre\"#correction in the book"
   ]
  },
  {
   "cell_type": "markdown",
   "metadata": {},
   "source": [
    "## PageNumber : 582 example 9"
   ]
  },
  {
   "cell_type": "code",
   "execution_count": 28,
   "metadata": {
    "collapsed": false
   },
   "outputs": [
    {
     "name": "stdout",
     "output_type": "stream",
     "text": [
      "velocity   =   2.65e+07 metre per second\n",
      "fc   =   1.33e+08 hertz\n"
     ]
    }
   ],
   "source": [
    "voltag=2000##volt\n",
    "d=50*10**-3##metre\n",
    "#(1) velocity\n",
    "vox=sqrt(2*1.6*10**-19*(voltag)/(9.11*10**-31))#\n",
    "print \"velocity   =   %0.2e\"%vox,\"metre per second\"\n",
    "#(2) fc\n",
    "fc=vox/(4*d)#\n",
    "\n",
    "print \"fc   =   %0.2e\"%fc,\"hertz\""
   ]
  },
  {
   "cell_type": "markdown",
   "metadata": {},
   "source": [
    "## PageNumber : 582 example 10"
   ]
  },
  {
   "cell_type": "code",
   "execution_count": 29,
   "metadata": {
    "collapsed": false
   },
   "outputs": [
    {
     "name": "stdout",
     "output_type": "stream",
     "text": [
      "phase angle   =    30.0 degre\n"
     ]
    }
   ],
   "source": [
    "y=2.5##divisions\n",
    "y1=1.25##divisions\n",
    "y=y1/y#\n",
    "from math import asin, degrees\n",
    "w=degrees(asin(y))\n",
    "\n",
    "print \"phase angle   =   \",round((w),2),\"degre\""
   ]
  }
 ],
 "metadata": {
  "kernelspec": {
   "display_name": "Python 2",
   "language": "python",
   "name": "python2"
  },
  "language_info": {
   "codemirror_mode": {
    "name": "ipython",
    "version": 2
   },
   "file_extension": ".py",
   "mimetype": "text/x-python",
   "name": "python",
   "nbconvert_exporter": "python",
   "pygments_lexer": "ipython2",
   "version": "2.7.9"
  }
 },
 "nbformat": 4,
 "nbformat_minor": 0
}
