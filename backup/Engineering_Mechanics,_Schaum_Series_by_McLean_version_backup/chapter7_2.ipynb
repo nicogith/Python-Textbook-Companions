{
 "metadata": {
  "name": "chapter7.ipynb"
 },
 "nbformat": 3,
 "nbformat_minor": 0,
 "worksheets": [
  {
   "cells": [
    {
     "cell_type": "heading",
     "level": 1,
     "metadata": {},
     "source": [
      "Chapter 7: Trusses And Cables"
     ]
    },
    {
     "cell_type": "heading",
     "level": 2,
     "metadata": {},
     "source": [
      "Example 7.7-1, Page no 99"
     ]
    },
    {
     "cell_type": "code",
     "collapsed": false,
     "input": [
      "import math\n",
      "import numpy as np\n",
      "\n",
      "#Initilization of variables\n",
      "F1=2000 #lb\n",
      "F2=4000 #lb\n",
      "l1=10 #ft\n",
      "l2=30 #ft\n",
      "l3=20 #ft\n",
      "l4=40 #ft\n",
      "# as t=60 degrees\n",
      "sint=sqrt(3)*2**-1\n",
      "cost=2**-1\n",
      "\n",
      "#Calculations\n",
      "#Taking moment about point B and A\n",
      "Ra=(F1*l2+F2*l1)/l4 \n",
      "Rb=(F2*l2+F1*l1)/l4\n",
      "#Consider fig 7-4(c)\n",
      "A=np.array([[1,-cost],[0,-sint]])\n",
      "B=np.array([[0],[-2500]])\n",
      "C=np.linalg.solve(A,B)\n",
      "#Consider figure 7-4(d)\n",
      "A1=np.array([[1,cost],[0,-sint]])\n",
      "B1=np.array([-C[1]*cost,-C[1]*sint+F1])\n",
      "C1=np.linalg.solve(A1,B1)\n",
      "#Consider figure 7-4(e)\n",
      "CD=577\n",
      "CE=C[0]+C1[1]*cost+CD*cost\n",
      "#Consider figure 7-4(f)\n",
      "DE=Rb/sint\n",
      "\n",
      "#Result\n",
      "\n",
      "print'The reactions are:Ra=',round(Ra),\"lb\",'and Rb=',round(Rb),\"lb\"\n",
      "print'Force in member AB=',round(C[1]),\"lb (C)\",'and AC=',round(C[0]),\"lb (T)\"\n",
      "print'Force in member BC=',round(C1[1]),\"lb (T)\",'and BD=',round(C1[0]),\"lb (-ve sign indicates compression)\"\n",
      "print'Force in member CD=',round(CD),\"lb (C)\",'and CE=',round(CE),\"lb (T)\"\n",
      "print'Force in member DE=',round(DE),\"lb (C)\"\n",
      "\n",
      "#Decimal Accuracy causes discrepancy in answers.Thus answers wary as compared to the textbook.\n"
     ],
     "language": "python",
     "metadata": {},
     "outputs": [
      {
       "output_type": "stream",
       "stream": "stdout",
       "text": [
        "The reactions are:Ra= 2500.0 lb and Rb= 3500.0 lb\n",
        "Force in member AB= 2887.0 lb (C) and AC= 1443.0 lb (T)\n",
        "Force in member BC= 577.0 lb (T) and BD= -1732.0 lb (-ve sign indicates compression)\n",
        "Force in member CD= 577.0 lb (C) and CE= 2021.0 lb (T)\n",
        "Force in member DE= 4041.0 lb (C)\n"
       ]
      }
     ],
     "prompt_number": 6
    },
    {
     "cell_type": "heading",
     "level": 2,
     "metadata": {},
     "source": [
      "Example 7.7-2, Page no 101"
     ]
    },
    {
     "cell_type": "code",
     "collapsed": false,
     "input": [
      "import math\n",
      "\n",
      "#Initilization of variables\n",
      "s=4 #m length of sides\n",
      "l=2 #kN load acting on each node\n",
      "r=7 #kN by inspection reaction at A\n",
      "sin60=sqrt(3)*2**-1\n",
      "tan30=sqrt(3)**-1\n",
      "tan60=sqrt(3)\n",
      "\n",
      "#Calculation\n",
      "#Taking Moment about point G\n",
      "FH=(-r*12+2*10+2*6+2*2)/(2*tan60) #kN Compressive\n",
      "#Taking moment about point H\n",
      "GI=(r*14-2*12-2*8-2*4)/(2*tan30) #kN Tension\n",
      "#Summing forces in the vertical direction\n",
      "HG=-(r-(l*3))/sin60 #kN Compression\n",
      "#Taking moment about point J yields\n",
      "IK=(-2*4-2*8+r*10)/(2*tan60) #kN\n",
      "\n",
      "#Result\n",
      "print'The value of the forces in the components are as follows'\n",
      "print'FH=',round(FH,1),\"kN (C)\",',GI=',round(GI,1),\"kN (T)\",',HG=',round(HG,2),\"kN (C)\",'and IK=',round(IK,1),\"kN (T)\"\n",
      "print'The answer in the text book for GI is wrong'\n"
     ],
     "language": "python",
     "metadata": {},
     "outputs": [
      {
       "output_type": "stream",
       "stream": "stdout",
       "text": [
        "The value of the forces in the components are as follows\n",
        "FH= -13.9 kN (C) ,GI= 43.3 kN (T) ,HG= -1.15 kN (C) and IK= 13.3 kN (T)\n",
        "The answer in the text book for GI is wrong\n"
       ]
      }
     ],
     "prompt_number": 3
    },
    {
     "cell_type": "heading",
     "level": 2,
     "metadata": {},
     "source": [
      "Example 7.7-3, Page no 101"
     ]
    },
    {
     "cell_type": "code",
     "collapsed": false,
     "input": [
      "import math\n",
      "\n",
      "#Initilization of variables\n",
      "# as theta=30 degrees,\n",
      "sin30=2**-1\n",
      "EF=40000 #lb\n",
      "l=36 #feet\n",
      "\n",
      "#Calculation\n",
      "#Taking moment about point D and setting EF=40000lbs\n",
      "P=-(EF*sin30*l)/l #lb\n",
      "\n",
      "#Result\n",
      "print'The maximum value of P is',round(P),\"lb\"\n",
      "print'The negative sign indicates the downward direction'\n"
     ],
     "language": "python",
     "metadata": {},
     "outputs": [
      {
       "output_type": "stream",
       "stream": "stdout",
       "text": [
        "The maximum value of P is -20000.0 lb\n",
        "The negative sign indicates the downward direction\n"
       ]
      }
     ],
     "prompt_number": 4
    },
    {
     "cell_type": "heading",
     "level": 2,
     "metadata": {},
     "source": [
      "Example 7.7-4, Page no 102"
     ]
    },
    {
     "cell_type": "code",
     "collapsed": false,
     "input": [
      "import math\n",
      "\n",
      "#Initilization of variables\n",
      "l=12 #m\n",
      "# as theta1=30 degrees\n",
      "cos30=sqrt(3)*2**-1\n",
      "cos60=2**-1\n",
      "sin30=2**-1\n",
      "\n",
      "F1=1000 #N\n",
      "F2=2000 #N\n",
      "\n",
      "#Calculation\n",
      "FG=l*cos30 #m\n",
      "DG=(l+(l/2))/cos30 #m\n",
      "#Taking moment about point G\n",
      "A=(F1*l+F2*FG+F1*DG)/(l*3) #N\n",
      "#Summing forces in horizontal direction\n",
      "G_x=(2*F1+F2)*sin30 #N\n",
      "#Summing forces in the vertical direction\n",
      "G_y=(2*F1+F2)*cos30+F1-A #N\n",
      "#Taking moment about point C\n",
      "BD=-(A*l)/(l/2) #N\n",
      "#Taking moment about point D\n",
      "CE=(A*(l+(l/2)))/FG #N\n",
      "theta=arctan((l/2)/FG) #degrees \n",
      "#Summing forces in the vertical direction\n",
      "CD=(A+(BD*cos60))/cos(theta) #N\n",
      "\n",
      "#Result\n",
      "print'The values of  the forces are as follows'\n",
      "print'A=',round(A),\"N\",',G_x=',round(G_x),\"N\",',G_y=',round(G_y),\"N\",',BD=',round(BD),\"N (C)\",',CE=',round(CE),\"N (T)\",'and CD=',round(CD),\"N(T)\"\n",
      "#Decimal Accuracy causes discrepancy in answers\n"
     ],
     "language": "python",
     "metadata": {},
     "outputs": [
      {
       "output_type": "stream",
       "stream": "stdout",
       "text": [
        "The values of  the forces are as follows\n",
        "A= 1488.0 N ,G_x= 2000.0 N ,G_y= 2976.0 N ,BD= -2976.0 N (C) ,CE= 2577.0 N (T) and CD= 0.0 N(T)\n"
       ]
      }
     ],
     "prompt_number": 7
    },
    {
     "cell_type": "heading",
     "level": 2,
     "metadata": {},
     "source": [
      "Example 7.7-5, Page no 103"
     ]
    },
    {
     "cell_type": "code",
     "collapsed": false,
     "input": [
      "import math\n",
      "\n",
      "#Initilization of variables\n",
      "A=2000 #lb\n",
      "E=2000 #lb\n",
      "# as theta=60 degrees and theta1=30 degrees, which means:\n",
      "sin60=sqrt(3)*2**-1\n",
      "cos60=2**-1\n",
      "sin30=2**-1\n",
      "cos30=sqrt(3)*2**-1\n",
      "\n",
      "#Sign convention positive means Tension and negative means Compression\n",
      "#Taking sum of forces along x and y direction in fig7-13\n",
      "AB=-A/sin60 #lb\n",
      "AG=-AB*cos60 #lb\n",
      "#Taking sum of forces along x and y direction in fig7-14\n",
      "BG=((-AB*cos30)-1000)/(cos30) #lb\n",
      "BC=((AB*sin30)-(BG*sin30)) #lb\n",
      "#Taking sum of forces along x and y direction in fig7-15\n",
      "GC=-(BG*sin60)/sin60 #lb\n",
      "GF=AG+BG*cos60-GC*(cos60) #lb\n",
      "#By symmetry of structure\n",
      "DE=AB #lb\n",
      "FE=AG #lb\n",
      "DF=BG #lb\n",
      "CD=BC #lb\n",
      "\n",
      "#Result\n",
      "print'The forces in the truess are'\n",
      "print'AB=DE=',round(AB),\"lb (C)\",',AG=FE=',round(AG),\"lb (T)\",',BG=DF=',round(BG),\"lb (T)\",',BC=CD=',round(BC),\"lb (C)\",'and CG=CF=',round(GC),\"lb (C)\"\n"
     ],
     "language": "python",
     "metadata": {},
     "outputs": [
      {
       "output_type": "stream",
       "stream": "stdout",
       "text": [
        "The forces in the truess are\n",
        "AB=DE= -2309.0 lb (C) ,AG=FE= 1155.0 lb (T) ,BG=DF= 1155.0 lb (T) ,BC=CD= -1732.0 lb (C) and CG=CF= -1155.0 lb (C)\n"
       ]
      }
     ],
     "prompt_number": 8
    },
    {
     "cell_type": "heading",
     "level": 2,
     "metadata": {},
     "source": [
      "Example 7.7-6, Page no 104"
     ]
    },
    {
     "cell_type": "code",
     "collapsed": false,
     "input": [
      "import math\n",
      "\n",
      "#Initilization of variables\n",
      "F=500 #N\n",
      "A=1000 #N\n",
      "# as theta=60 degrees,\n",
      "sin60=sqrt(3)*2**-1\n",
      "l=20 #m\n",
      "\n",
      "#Calculations\n",
      "#Taking moment about point G\n",
      "R_c=(20*3*A+50*F+30*F+10*F)/40 #N\n",
      "#Returning to fig7-17\n",
      "#Taking moment about point C\n",
      "BD=(l*A+(l/2)*F)/(l*sin60) #N\n",
      "#Taking sum of forces in vertical direction\n",
      "CD=(A+F-R_c)/sin60 #N\n",
      "\n",
      "#Result\n",
      "print'The forces in the members are as follows'\n",
      "print'BD=',round(BD),\"N (T)\",'and CD=',round(CD),\"N (C).\",'Also the reaction at C is',round(R_c),\"N\"\n",
      "#Decimal accuracy causes discrepancey in answers\n"
     ],
     "language": "python",
     "metadata": {},
     "outputs": [
      {
       "output_type": "stream",
       "stream": "stdout",
       "text": [
        "The forces in the members are as follows\n",
        "BD= 1443.0 N (T) and CD= -1299.0 N (C). Also the reaction at C is 2625.0 N\n"
       ]
      }
     ],
     "prompt_number": 9
    },
    {
     "cell_type": "heading",
     "level": 2,
     "metadata": {},
     "source": [
      "Example 7.7-7, Page no 104"
     ]
    },
    {
     "cell_type": "code",
     "collapsed": false,
     "input": [
      "import math\n",
      "\n",
      "#Initilization of variables\n",
      "w=800 #lb/ft\n",
      "a=600 #ft\n",
      "d=40 #ft\n",
      "\n",
      "#Calculations\n",
      "T=0.5*w*a*(sqrt(1+(a**2/(16*d**2)))) #lb\n",
      "H=(w*a**2)/(8*d) #lb\n",
      "#Taking the first two terms of the series\n",
      "l=a*(1+(8/3)*(d*a**-1)**2-(32/5)*0.00002) #ft\n",
      "\n",
      "#Result\n",
      "print'The value of T=',round(T),\"lb\",'and that of H=',round(H),\"lb.\",'Also l=',round(l),\"ft\"\n",
      "#Deciaml accuracy causes discrepancy in answers\n"
     ],
     "language": "python",
     "metadata": {},
     "outputs": [
      {
       "output_type": "stream",
       "stream": "stdout",
       "text": [
        "The value of T= 929516.0 lb and that of H= 900000.0 lb. Also l= 605.0 ft\n"
       ]
      }
     ],
     "prompt_number": 12
    },
    {
     "cell_type": "heading",
     "level": 2,
     "metadata": {},
     "source": [
      "Example 7.7-8,Page no 105"
     ]
    },
    {
     "cell_type": "code",
     "collapsed": false,
     "input": [
      "import math\n",
      "\n",
      "#Initilization of variables\n",
      "l=800*300 #lb\n",
      "\n",
      "#Calculations\n",
      "#Summing forces in horizontal and vertical direction\n",
      "theta=arctan(40*150**-1) #degrees\n",
      "H=l/tan(theta) #lb\n",
      "T_max=sqrt(l**2+H**2) #lb\n",
      "\n",
      "#Result\n",
      "print'The maximun tension is',round(T_max),\"lb\",'and H=',round(H),\"lb\"\n",
      "#Decimal accuracy causes discrepancy in answers"
     ],
     "language": "python",
     "metadata": {},
     "outputs": [
      {
       "output_type": "stream",
       "stream": "stdout",
       "text": [
        "The maximun tension is 931450.0 lb and H= 900000.0 lb\n"
       ]
      }
     ],
     "prompt_number": 13
    },
    {
     "cell_type": "heading",
     "level": 2,
     "metadata": {},
     "source": [
      "Example 7.7-9,Page no 105"
     ]
    },
    {
     "cell_type": "code",
     "collapsed": false,
     "input": [
      "import math\n",
      "\n",
      "#Initilization of variables\n",
      "#For simplicity a1 and a2 values are being considered as constant free of H\n",
      "a_1=sqrt(10*14.7**-1)\n",
      "a_2=sqrt(30/14.7)\n",
      "y=10 #m\n",
      "\n",
      "#Calculations\n",
      "H=(300/(a_1+a_2))**2 #N\n",
      "#Now reconsidering a1 and a2 actual values\n",
      "a1=a_1*sqrt(H) #m\n",
      "a2=a_2*sqrt(H) #m\n",
      "#Theta calculations\n",
      "x=a1\n",
      "theta=arctan(2*y/x)\n",
      "#T calculations\n",
      "T=sqrt((864*a2**2)+H**2) #N\n",
      "\n",
      "#Result\n",
      "print'The tension in the cable is',round(T,2),\"*10**-3 kN\"\n",
      "# The answer may wary due to decimal point descrepancy"
     ],
     "language": "python",
     "metadata": {},
     "outputs": [
      {
       "output_type": "stream",
       "stream": "stdout",
       "text": [
        "The tension in the cable is 18585.57 *10**-3 kN\n"
       ]
      }
     ],
     "prompt_number": 17
    },
    {
     "cell_type": "heading",
     "level": 2,
     "metadata": {},
     "source": [
      "Example 7.7-10, Page no 106"
     ]
    },
    {
     "cell_type": "code",
     "collapsed": false,
     "input": [
      "import math\n",
      "\n",
      "#Initilization of variables\n",
      "T=140000 #N\n",
      "w=2000 #N/m\n",
      "a=20 #m\n",
      "\n",
      "#Calculations\n",
      "#Calculation step by step\n",
      "lhs=(140000*2)*(2000*20)**-1 \n",
      "d=sqrt(1/((((lhs**2)-1)*16)/(20**2))) #m\n",
      "l=a*(1+(8/3)*(d/a)**2) #m\n",
      "\n",
      "#Result\n",
      "print'The sag in the cable is',round(d,2),\"m\"\n",
      "print'The required length is',round(l,2),\"m\"\n",
      "\n",
      "# Value of l is off by 0.2 m"
     ],
     "language": "python",
     "metadata": {},
     "outputs": [
      {
       "output_type": "stream",
       "stream": "stdout",
       "text": [
        "The sag in the cable is 0.72 m\n",
        "The required length is 20.05 m\n"
       ]
      }
     ],
     "prompt_number": 21
    },
    {
     "cell_type": "heading",
     "level": 2,
     "metadata": {},
     "source": [
      "Example 7.7-11, Page no 106"
     ]
    },
    {
     "cell_type": "code",
     "collapsed": false,
     "input": [
      "import math\n",
      "\n",
      "#Initilization of variables\n",
      "w=10*16**-1 #lb/ft\n",
      "a=80 #ft\n",
      "P=500 #lb\n",
      "\n",
      "#Calculations\n",
      "lhs=(P*2)/(w*a)\n",
      "d=sqrt(1*((((lhs**2)-1)*16)/(80**2))**-1) #ft\n",
      "\n",
      "#Result\n",
      "print'The sag in the cable is',round(d),\"ft\"\n"
     ],
     "language": "python",
     "metadata": {},
     "outputs": [
      {
       "output_type": "stream",
       "stream": "stdout",
       "text": [
        "The sag in the cable is 1.0 ft\n"
       ]
      }
     ],
     "prompt_number": 22
    },
    {
     "cell_type": "heading",
     "level": 2,
     "metadata": {},
     "source": [
      "Example 7.7-12, Page no 107"
     ]
    },
    {
     "cell_type": "code",
     "collapsed": false,
     "input": [
      "import math\n",
      "\n",
      "#Initilization of variables\n",
      "w=0.518 #lb/ft\n",
      "d=50 #ft\n",
      "l=500 #ft\n",
      "#Plot coding\n",
      "A=linspace(0,800,9) #defined x axis\n",
      "B=A+50\n",
      "C=[50000,500*(2*100)**-1,500*(2*200)**-1,500*(2*300)**-1,500*(2*400)**-1,500*(2*500)**-1,500*(2*600)**-1,500*(2*700)**-1,500*(2*800)**-1]\n",
      "D=cosh(C)\n",
      "E=([D[0]*A[0],D[1]*A[1],D[2]*A[2],D[3]*A[3],D[4]*A[4],D[5]*A[5],D[6]*A[6],D[7]*A[7],D[8]*A[8]])\n",
      "plot(A,B,A,E) #plotting two lines on the same plot\n",
      "\n",
      "#Calculations\n",
      "#By close observation of plot taking c around 650\n",
      "#consider c=635\n",
      "c=635\n",
      "T_max=w*(c+d) #lb\n",
      "a=c+d\n",
      "l=(4*(a*a-c*c))**0.5\n",
      "\n",
      "#Result\n",
      "\n",
      "print'The maximum tension is',round(T_max),\"lb\",'and length required is',round(l),\"ft respectively.\"\n"
     ],
     "language": "python",
     "metadata": {},
     "outputs": [
      {
       "output_type": "stream",
       "stream": "stdout",
       "text": [
        "The maximum tension is 355.0 lb and length required is 514.0 ft respectively.\n"
       ]
      },
      {
       "metadata": {},
       "output_type": "display_data",
       "png": "[encoded data removed]",
       "text": [
        "<matplotlib.figure.Figure at 0x5cb46f0>"
       ]
      }
     ],
     "prompt_number": 70
    },
    {
     "cell_type": "heading",
     "level": 2,
     "metadata": {},
     "source": [
      "Example 7.7-13, Page no 108"
     ]
    },
    {
     "cell_type": "code",
     "collapsed": false,
     "input": [
      "import math\n",
      "\n",
      "#Initilization of variables\n",
      "m=0.6 #kg/m\n",
      "l=240 #m\n",
      "d=24 #m\n",
      "\n",
      "#Calculations\n",
      "c=((((1*4**-1)*(l**2))-(24*24)))/(2*d)\n",
      "T_max=9.8*m*(c+d) #N\n",
      "a=arcsinh((l)/(2*c))*576\n",
      "\n",
      "#Result\n",
      "print'The maximun tension is',round(T_max),\"N\"\n",
      "print'The value of a is',round(a)"
     ],
     "language": "python",
     "metadata": {},
     "outputs": [
      {
       "output_type": "stream",
       "stream": "stdout",
       "text": [
        "The maximun tension is 1835.0 N\n",
        "The value of a is 234.0\n"
       ]
      }
     ],
     "prompt_number": 25
    }
   ],
   "metadata": {}
  }
 ]
}