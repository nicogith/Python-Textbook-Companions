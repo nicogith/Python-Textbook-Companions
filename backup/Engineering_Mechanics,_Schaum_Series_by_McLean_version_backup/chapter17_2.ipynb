{
 "metadata": {
  "name": "chapter17.ipynb"
 },
 "nbformat": 3,
 "nbformat_minor": 0,
 "worksheets": [
  {
   "cells": [
    {
     "cell_type": "heading",
     "level": 1,
     "metadata": {},
     "source": [
      "Chapter 17: Work and Energy"
     ]
    },
    {
     "cell_type": "heading",
     "level": 2,
     "metadata": {},
     "source": [
      "Example 17.17-4, Page No 400"
     ]
    },
    {
     "cell_type": "code",
     "collapsed": false,
     "input": [
      "# Initilization of variables\n",
      "s1=2 # compression of the spring- initial\n",
      "s2=5 # compression of the spring- final\n",
      "\n",
      "import math\n",
      "from scipy.integrate import quad\n",
      "def integrand(s, a, b):\n",
      "    return 20*s\n",
      "a=1\n",
      "b=1\n",
      "U=quad(integrand, s1, s2, args=(a,b))\n",
      "\n",
      "# Results\n",
      "print'The word done in compressing the spring is',round(U[0]),\"in-lb\""
     ],
     "language": "python",
     "metadata": {},
     "outputs": [
      {
       "output_type": "stream",
       "stream": "stdout",
       "text": [
        "The word done in compressing the spring is 210.0 in-lb\n"
       ]
      }
     ],
     "prompt_number": 2
    },
    {
     "cell_type": "heading",
     "level": 2,
     "metadata": {},
     "source": [
      "Example 17.17-6, Page No 400"
     ]
    },
    {
     "cell_type": "code",
     "collapsed": false,
     "input": [
      "import math\n",
      "\n",
      "#Initilization of variables\n",
      "m=5 #kg\n",
      "d=6 #m\n",
      "# as theta1=30 degrees & theta2=10 degrees,\n",
      "sintheta1=2**-1\n",
      "sintheta2=0.1736\n",
      "costheta1=(3**0.5)*2**-1\n",
      "costheta2=0.9848\n",
      "u=0.2 #coefficient of friction\n",
      "g=9.8 #m/s**2\n",
      "F=70 #N\n",
      "\n",
      "#Calculations\n",
      "#Using free body diagram\n",
      "Na=(m*g*costheta1)-(F*sintheta2) #N\n",
      "#work done by each force\n",
      "W=[F*costheta2,-m*g*sintheta1,0,-u*Na*d] #N.m\n",
      "#Total Work Done\n",
      "W_tot=W[0]+W[1]+W[2]+W[3] #N.m\n",
      "#Using resultant\n",
      "R=F*costheta2-(u*Na)-(m*g*sintheta1) #N\n",
      "W_d=R*d #N.m (Work Done)\n",
      "\n",
      "#Result\n",
      "print'The work done is',round(W_d),\"N.m\"\n"
     ],
     "language": "python",
     "metadata": {},
     "outputs": [
      {
       "output_type": "stream",
       "stream": "stdout",
       "text": [
        "The work done is 230.0 N.m\n"
       ]
      }
     ],
     "prompt_number": 1
    },
    {
     "cell_type": "heading",
     "level": 2,
     "metadata": {},
     "source": [
      "Example 17.17-7, Page No 401"
     ]
    },
    {
     "cell_type": "code",
     "collapsed": false,
     "input": [
      "import math\n",
      "\n",
      "#Initilization of variables\n",
      "m=20 #kg\n",
      "d=1.5 #m\n",
      "# as theta=30 degrees,\n",
      "sintheta=2**-1\n",
      "u=0.25 #coefficient of friction\n",
      "g=9.8 #m/s**2\n",
      "F=130 #N\n",
      "\n",
      "#Calculations\n",
      "W=F*d-(m*g*sintheta*d) #N.m\n",
      "\n",
      "#Result\n",
      "print'The work done is',round(W),\"N.m\"\n"
     ],
     "language": "python",
     "metadata": {},
     "outputs": [
      {
       "output_type": "stream",
       "stream": "stdout",
       "text": [
        "The work done is 48.0 N.m\n"
       ]
      }
     ],
     "prompt_number": 2
    },
    {
     "cell_type": "heading",
     "level": 2,
     "metadata": {},
     "source": [
      "Example 17.17-9, Page No 402"
     ]
    },
    {
     "cell_type": "code",
     "collapsed": false,
     "input": [
      "import math\n",
      "\n",
      "#Initilization of variables\n",
      "d=6*12**-1 #ft\n",
      "l=8*12**-1 #ft\n",
      "l_c=3.2 #in\n",
      "y=1.82 #in**2\n",
      "\n",
      "#Calculations\n",
      "V=1*4**-1*pi*d**2*l #ft**3\n",
      "#One horizontal inch \n",
      "h_i=V/l_c #ft**3\n",
      "#One vertical inch\n",
      "v_i=100*144 #lb/ft**2\n",
      "#Then 1.82 in**2 represents\n",
      "x=y*v_i*h_i #ft-lb\n",
      "\n",
      "#Result\n",
      "print'The work capacity is',round(x),\"ft-lb\"\n",
      "\n",
      "# The ans in the textbook is incorrect."
     ],
     "language": "python",
     "metadata": {},
     "outputs": [
      {
       "output_type": "stream",
       "stream": "stdout",
       "text": [
        "The work capacity is 1072.0 ft-lb\n"
       ]
      }
     ],
     "prompt_number": 4
    },
    {
     "cell_type": "heading",
     "level": 2,
     "metadata": {},
     "source": [
      "Example 17.17-10, Page No 402"
     ]
    },
    {
     "cell_type": "code",
     "collapsed": false,
     "input": [
      "import math\n",
      "\n",
      "#Initilization of variables\n",
      "speed=90000 #m/h\n",
      "P=100*1000 #N\n",
      "\n",
      "#Calculations\n",
      "Power=P*((speed)/3600) #J/s\n",
      "\n",
      "#Result\n",
      "print'The power developed is',round(Power*10**-6,1),\"MJ/s\"\n",
      "# Note the unit used."
     ],
     "language": "python",
     "metadata": {},
     "outputs": [
      {
       "output_type": "stream",
       "stream": "stdout",
       "text": [
        "The power developed is 2.5 MJ/s\n"
       ]
      }
     ],
     "prompt_number": 9
    },
    {
     "cell_type": "heading",
     "level": 2,
     "metadata": {},
     "source": [
      "Example 17.17-11, Page No 403"
     ]
    },
    {
     "cell_type": "code",
     "collapsed": false,
     "input": [
      "import math\n",
      "\n",
      "#Initilization of variables\n",
      "d=0.6 #m\n",
      "T_t=800 #N\n",
      "T_s=180 #N\n",
      "w=200 #rpm\n",
      "\n",
      "#Calculations\n",
      "r=d/2 #m radius\n",
      "#Torque\n",
      "M=(T_t-T_s)*r #N.m\n",
      "#Power\n",
      "w_new=(2*pi*w)/60 #rad/s\n",
      "Power=M*(w_new) #W\n",
      "\n",
      "#Result\n",
      "print'The power transmitted is',round(Power*10**-3,1),\"kW\"\n",
      "\n",
      "# The answer in the book is incorrect"
     ],
     "language": "python",
     "metadata": {},
     "outputs": [
      {
       "output_type": "stream",
       "stream": "stdout",
       "text": [
        "The power transmitted is 3.9 kW\n"
       ]
      }
     ],
     "prompt_number": 8
    },
    {
     "cell_type": "heading",
     "level": 2,
     "metadata": {},
     "source": [
      "Example 17.17-12, Page No 403"
     ]
    },
    {
     "cell_type": "code",
     "collapsed": false,
     "input": [
      "import math\n",
      "\n",
      "#Initilization of variables\n",
      "P=25.6 #lb\n",
      "w=600 #rpm\n",
      "a=36 #in\n",
      "b=12 #in\n",
      "\n",
      "#Calculations\n",
      "M=P*(((b*2**-1)+a)/12)  #lb-ft\n",
      "w_new=(2*pi*w)/60 #rad/s\n",
      "Hp=(M*w_new)/550 #hp\n",
      "\n",
      "#Result\n",
      "print'The power being transmitted is',round(Hp,1),\"hp\"\n"
     ],
     "language": "python",
     "metadata": {},
     "outputs": [
      {
       "output_type": "stream",
       "stream": "stdout",
       "text": [
        "The power being transmitted is 10.2 hp\n"
       ]
      }
     ],
     "prompt_number": 35
    },
    {
     "cell_type": "heading",
     "level": 2,
     "metadata": {},
     "source": [
      "Example 17.17-13, Page No 403"
     ]
    },
    {
     "cell_type": "code",
     "collapsed": false,
     "input": [
      "import math\n",
      "\n",
      "#Initilization of variables\n",
      "Pout=3.8 #bhp\n",
      "Pin=4.1 #ihp\n",
      "\n",
      "#Calculations\n",
      "Efficiency=round((Pout/Pin)*100) #Percent\n",
      "\n",
      "#Result\n",
      "print'The efficiency of the engine is',round(Efficiency),\"%\"\n"
     ],
     "language": "python",
     "metadata": {},
     "outputs": [
      {
       "output_type": "stream",
       "stream": "stdout",
       "text": [
        "The efficiency of the engine is 93.0 %\n"
       ]
      }
     ],
     "prompt_number": 10
    },
    {
     "cell_type": "heading",
     "level": 2,
     "metadata": {},
     "source": [
      "Example 17.17-15, Page No 404"
     ]
    },
    {
     "cell_type": "code",
     "collapsed": false,
     "input": [
      "import math\n",
      "from scipy.integrate import quad\n",
      "def integrand(x, a, b):\n",
      "    return -(3/x)\n",
      "a=1\n",
      "b=1\n",
      "U=quad(integrand, 6, 3, args=(a,b))\n",
      "g=32.2 # ft/s**2\n",
      "deltaT=((U[0]*32.2*2)/(4*16**-1))**0.5\n",
      "# Results\n",
      "print'The speed of the disc will be',round(deltaT,1),\"ft/s\""
     ],
     "language": "python",
     "metadata": {},
     "outputs": [
      {
       "output_type": "stream",
       "stream": "stdout",
       "text": [
        "The speed of the disc will be 23.1 ft/s\n"
       ]
      }
     ],
     "prompt_number": 4
    },
    {
     "cell_type": "heading",
     "level": 2,
     "metadata": {},
     "source": [
      "Example 17.17-16, Page No 404"
     ]
    },
    {
     "cell_type": "code",
     "collapsed": false,
     "input": [
      "import math\n",
      "\n",
      "#Initilization of variables\n",
      "l=2 #m\n",
      "m=4 #kg\n",
      "w_1=20 #rpm\n",
      "w_2=50 #rpm\n",
      "rev=10 #no of revolution\n",
      "\n",
      "#Calculations\n",
      "Io=(3**-1)*(m)*l**2 #kg.m**2\n",
      "w1=(2*pi*w_1)/60 #rad/s\n",
      "w2=(2*pi*w_2)/60 #rad/s\n",
      "theta=2*pi*rev #rad\n",
      "M=(0.5*Io*(w2**2-w1**2))/theta #N.m\n",
      "\n",
      "#Result\n",
      "print'The constant moment required is',round(M,3),\"N.m\"\n",
      "# The ans waries in decimal places."
     ],
     "language": "python",
     "metadata": {},
     "outputs": [
      {
       "output_type": "stream",
       "stream": "stdout",
       "text": [
        "The constant moment required is 0.977 N.m\n"
       ]
      }
     ],
     "prompt_number": 11
    },
    {
     "cell_type": "heading",
     "level": 2,
     "metadata": {},
     "source": [
      "Example 17.17-18, Page No 405"
     ]
    },
    {
     "cell_type": "code",
     "collapsed": false,
     "input": [
      "import math\n",
      "\n",
      "#Initilization of variables\n",
      "W=1000 #lb\n",
      "w_w=200 #lb weight of the individual wheel\n",
      "d_w=2.5 #ft diameter of the wheel\n",
      "v=22 #ft/s\n",
      "t=2 #minutes\n",
      "\n",
      "#Calculations\n",
      "#T1=Initial Kinetic Energy and T2=Final Kinetic Energy\n",
      "F=(-0.5*W*32.2**-1*v**2-4*0.5*w_w*32.2**-1*(v**2+0.5*v**2))/(10560) #lb\n",
      "#Negative sign in the answer tells it oposses the motion\n",
      "\n",
      "#Result\n",
      "print'The rolling resistance is',round(F,2),\"lb\"\n"
     ],
     "language": "python",
     "metadata": {},
     "outputs": [
      {
       "output_type": "stream",
       "stream": "stdout",
       "text": [
        "The rolling resistance is -1.57 lb\n"
       ]
      }
     ],
     "prompt_number": 40
    },
    {
     "cell_type": "heading",
     "level": 2,
     "metadata": {},
     "source": [
      "Example 17.17-19, Page No 405"
     ]
    },
    {
     "cell_type": "code",
     "collapsed": false,
     "input": [
      "import math\n",
      "\n",
      "#Initilization of variables\n",
      "W=100 #lb\n",
      "lo=4 #ft\n",
      "# as theta=45 degrees\n",
      "costheta=(2**0.5)**-1\n",
      "g=32.2 #ft/s**2\n",
      "l=8/3 #ft\n",
      "\n",
      "#Calculations\n",
      "#Taking moment about point O and equating it to zero\n",
      "alpha=(W*(lo*0.5)*costheta)/((W/g)*(l)*2) #rad/s**2\n",
      "#Summing forces in the t direction\n",
      "Ot=(W*costheta)-((W/g)*lo*0.5*alpha) #lb\n",
      "#Work Done\n",
      "Work=W*(lo*0.5*costheta) #ft/lb\n",
      "#Moment of inertia\n",
      "Io=(3**-1)*(W/g)*(lo**2) #kg-ft**2\n",
      "#Using the concept for work done=chane in K.E\n",
      "w=(Work/(0.5*Io))**0.5 #rad/s\n",
      "#Summing forces along the bar\n",
      "On=-(-((W/g)*lo*0.5*w**2)-(W*costheta)) #lb\n",
      "\n",
      "#Result\n",
      "print'The bearing reaction at O on the rod is',round(On),\"lb\"\n"
     ],
     "language": "python",
     "metadata": {},
     "outputs": [
      {
       "output_type": "stream",
       "stream": "stdout",
       "text": [
        "The bearing reaction at O on the rod is 177.0 lb\n"
       ]
      }
     ],
     "prompt_number": 14
    },
    {
     "cell_type": "heading",
     "level": 2,
     "metadata": {},
     "source": [
      "Example 17.17-21, Page No 406"
     ]
    },
    {
     "cell_type": "code",
     "collapsed": false,
     "input": [
      "import math\n",
      "\n",
      "#Initilization of variables\n",
      "vo=9 #m/s\n",
      "# as theta=30 degrees,\n",
      "sintheta=2**-1\n",
      "g=9.8 #m/s**2\n",
      "\n",
      "#Calculations\n",
      "x=((7*10**-1)*vo**2)*(g*sintheta)**-1 #m\n",
      "\n",
      "#Result\n",
      "print'The ball will roll',round(x,1),\"m up the plane\"\n",
      "\n",
      "#The textbook wrongly mentions the unit of displacement as in\n"
     ],
     "language": "python",
     "metadata": {},
     "outputs": [
      {
       "output_type": "stream",
       "stream": "stdout",
       "text": [
        "The ball will roll 11.6 m up the plane\n"
       ]
      }
     ],
     "prompt_number": 15
    },
    {
     "cell_type": "heading",
     "level": 2,
     "metadata": {},
     "source": [
      "Example 17.17-22, Page No 406"
     ]
    },
    {
     "cell_type": "code",
     "collapsed": false,
     "input": [
      "import math\n",
      "\n",
      "#Initilization of variables\n",
      "W=322 #lb\n",
      "F=12 #lb\n",
      "a=0 #lower limit (where the cyliner starts rolling)\n",
      "b=pi/2 #Upper Limit (where the cyliner stops rolling)\n",
      "d=3.2 #ft\n",
      "g=32.2 #ft/s**2\n",
      "\n",
      "#Calculations\n",
      "dR=1.6 #Differential Radius\n",
      "d_U=2*dR*F #differential work done\n",
      "#Integration Calculations\n",
      "#As it is a simple integration we can resort to this\n",
      "U=d_U*(b-a) #ft-lb\n",
      "#Determination of K.E\n",
      "w=sqrt(U/((0.5*(W/g)*(1/(d/2)**2))+((0.5*0.5)*(W/g)*(d/2)**2))) #rad/s\n",
      "\n",
      "#Result  \n",
      "print'The angular velocity of the cylinder is',round(w,2),\"rad/s\"\n"
     ],
     "language": "python",
     "metadata": {},
     "outputs": [
      {
       "output_type": "stream",
       "stream": "stdout",
       "text": [
        "The angular velocity of the cylinder is 2.69 rad/s\n"
       ]
      }
     ],
     "prompt_number": 5
    },
    {
     "cell_type": "heading",
     "level": 2,
     "metadata": {},
     "source": [
      "Example 17.17-24, Page No 407"
     ]
    },
    {
     "cell_type": "code",
     "collapsed": false,
     "input": [
      "import math\n",
      "\n",
      "#Initilization of variables\n",
      "Wa=161 #lb\n",
      "Wb=193.2 #lb\n",
      "Wc=322 #lb\n",
      "v1=5 #ft/s\n",
      "lc=6 #in\n",
      "k=6 #lb/ft\n",
      "l=4 #ft\n",
      "u=0.2 #coefficient of friction\n",
      "g=32.2 #ft/s**2\n",
      "\n",
      "#Calculations\n",
      "Ib=(2**-1)*(Wb/g)*(2**-1)**2 #Moment of inertia\n",
      "w1=v1*0.5**-1 #rad/s\n",
      "T1=(0.5*(Wc/g)*v1**2)+(0.5*Ib*w1**2)+(0.5*(Wa/g)*v1**2) #ft-lb\n",
      "#Work Done on the system\n",
      "#The textbook is ambigious on the calculations hence the result is dispalyed directly\n",
      "U=26.4 #ft-lb\n",
      "#Velocity Calculations\n",
      "v=((T1+U)*9**-1)**0.5 #ft/s\n",
      "\n",
      "#Result\n",
      "print'The velocity of the block is',round(v,2),\"ft/s\"\n"
     ],
     "language": "python",
     "metadata": {},
     "outputs": [
      {
       "output_type": "stream",
       "stream": "stdout",
       "text": [
        "The velocity of the block is 5.29 ft/s\n"
       ]
      }
     ],
     "prompt_number": 16
    },
    {
     "cell_type": "heading",
     "level": 2,
     "metadata": {},
     "source": [
      "Example 17.17-25, Page No 408"
     ]
    },
    {
     "cell_type": "code",
     "collapsed": false,
     "input": [
      "import math\n",
      "\n",
      "#Initilization of variables\n",
      "Mm=70 #kg\n",
      "Mc=45 #kg\n",
      "R=0.6 #m\n",
      "g=9.8 #m/s**2\n",
      "l=5 #m\n",
      "# as theta=50 degrees,\n",
      "sintheta=0.77\n",
      "\n",
      "#Calculations\n",
      "#T2 calculations except for v term in it as it cannot be declared as a number\n",
      "T2=68.7 #without the v term in it\n",
      "v=((g*Mm*l-g*Mc*l*sintheta)/T2)**0.5 #m/s\n",
      "\n",
      "#Result\n",
      "print'The speed is',round(v,2),\"m/s\"\n"
     ],
     "language": "python",
     "metadata": {},
     "outputs": [
      {
       "output_type": "stream",
       "stream": "stdout",
       "text": [
        "The speed is 5.02 m/s\n"
       ]
      }
     ],
     "prompt_number": 17
    },
    {
     "cell_type": "heading",
     "level": 2,
     "metadata": {},
     "source": [
      "Example 17.17-26, Page No 408"
     ]
    },
    {
     "cell_type": "code",
     "collapsed": false,
     "input": [
      "import math\n",
      "\n",
      "#The textbook has a typo in printing the question number\n",
      "#Initilization of variables\n",
      "W1=96.6 #lb\n",
      "W2=128.8 #lb\n",
      "v=8 #ft/s\n",
      "g=32.2 #ft/s**2\n",
      "# as theta=30 degrees,\n",
      "sintheta=2**-1\n",
      "\n",
      "#Calculations\n",
      "#Initial KE of the system is T1=0\n",
      "T2=(0.5*(W1/g)*v**2)+(0.5*(W2/g)*(v/2)**2) #ft-lb\n",
      "#Work Done without s term\n",
      "U=-(W1*sintheta)+W2*0.5\n",
      "#S calculations\n",
      "s=T2*U**-1 #ft\n",
      "\n",
      "#Result\n",
      "print'The block attains a speed of 8 ft/s in',round(s,2),\"ft (up the plane)\"\n"
     ],
     "language": "python",
     "metadata": {},
     "outputs": [
      {
       "output_type": "stream",
       "stream": "stdout",
       "text": [
        "The block attains a speed of 8 ft/s in 7.95 ft (up the plane)\n"
       ]
      }
     ],
     "prompt_number": 19
    },
    {
     "cell_type": "heading",
     "level": 2,
     "metadata": {},
     "source": [
      "Example 17.17-28, Page No 409"
     ]
    },
    {
     "cell_type": "code",
     "collapsed": false,
     "input": [
      "# Initilization of variables\n",
      "l=6 #m length of the cable\n",
      "m=50 #kg mass of the cable\n",
      "g=9.8 #m/s**2\n",
      "\n",
      "import math\n",
      "from scipy.integrate import quad\n",
      "def integrand(x, a, b):\n",
      "    return 81.7*(6-x)\n",
      "a=1\n",
      "b=1\n",
      "Work=quad(integrand, 0, 6, args=(a,b))\n",
      "\n",
      "# Results\n",
      "print'The word done is',round(Work[0]),\"N.m\"\n",
      "# The answer in textbook is off by 1 N.m"
     ],
     "language": "python",
     "metadata": {},
     "outputs": [
      {
       "output_type": "stream",
       "stream": "stdout",
       "text": [
        "The word done is 1471.0 N.m\n"
       ]
      }
     ],
     "prompt_number": 8
    },
    {
     "cell_type": "heading",
     "level": 2,
     "metadata": {},
     "source": [
      "Example 17.17-31, Page No 410"
     ]
    },
    {
     "cell_type": "code",
     "collapsed": false,
     "input": [
      "# Initilization of variables\n",
      "k=0.044 # spring constant\n",
      "#x=0.300 #m length of compression from 450 to 150\n",
      "\n",
      "import math\n",
      "from scipy.integrate import quad\n",
      "def integrand(x, a, b):\n",
      "    return 0.5*0.044*x**2\n",
      "a=1\n",
      "b=1\n",
      "W=quad(integrand, 0, 300, args=(a,b))\n",
      "\n",
      "# Results\n",
      "print'The word done on the balls is',round(W[0]*10**-5,2),\"N.m\"\n"
     ],
     "language": "python",
     "metadata": {},
     "outputs": [
      {
       "output_type": "stream",
       "stream": "stdout",
       "text": [
        "The word done on the balls is 1.98 N.m\n"
       ]
      }
     ],
     "prompt_number": 24
    },
    {
     "cell_type": "heading",
     "level": 2,
     "metadata": {},
     "source": [
      "Example 17.17-32, Page No 410"
     ]
    },
    {
     "cell_type": "code",
     "collapsed": false,
     "input": [
      "import math\n",
      "\n",
      "#Initilization of variables\n",
      "m=10 #kg\n",
      "d=1.2 #m\n",
      "g=9.8 #m/s**2\n",
      "\n",
      "#Calculations\n",
      "#Initilial KE is zero\n",
      "#Final KE is(without v^2 term in it)\n",
      "KE2=(3*4**-1)*10\n",
      "#Work Done\n",
      "U=m*g*d #N.m\n",
      "#Velocity calculations\n",
      "v=sqrt(U*KE2**-1) #m/s\n",
      "\n",
      "#Result\n",
      "print'The velocity is',round(v,2),\"m/s\"\n"
     ],
     "language": "python",
     "metadata": {},
     "outputs": [
      {
       "output_type": "stream",
       "stream": "stdout",
       "text": [
        "The velocity is 3.96 m/s\n"
       ]
      }
     ],
     "prompt_number": 20
    },
    {
     "cell_type": "heading",
     "level": 2,
     "metadata": {},
     "source": [
      "Example 17.17-33, Page No 411"
     ]
    },
    {
     "cell_type": "code",
     "collapsed": false,
     "input": [
      "import math\n",
      "\n",
      "#Initilization of variables\n",
      "W=161 #lb\n",
      "wa=150 #lb\n",
      "wb=100 #lb\n",
      "la=2 #ft\n",
      "lb=4 #ft\n",
      "\n",
      "#Calculations\n",
      "#Work Done\n",
      "T1=wb*lb-wa*la #ft-lb\n",
      "#Final KE=zero\n",
      "T2=0 #ft-lb\n",
      "#Work Done on the system=T2-T1\n",
      "#Hence the equation becomes\n",
      "#50x-50x^2+100=0\n",
      "#where\n",
      "a=-50\n",
      "b=50\n",
      "c=100\n",
      "#Solution\n",
      "d=sqrt(b**2-4*a*c) \n",
      "x1=(-b+d)/(2*a) #ft\n",
      "x2=(-b-d)/(2*a) #ft\n",
      "\n",
      "#Result\n",
      "print'The stretch of the spring is',round(x2),\"ft\"\n",
      "#Here even x1 could have been the solution,but the stretch in the string is elongation not compression hence x2 is the valid answer\n"
     ],
     "language": "python",
     "metadata": {},
     "outputs": [
      {
       "output_type": "stream",
       "stream": "stdout",
       "text": [
        "The stretch of the spring is 2.0 ft\n"
       ]
      }
     ],
     "prompt_number": 19
    },
    {
     "cell_type": "heading",
     "level": 2,
     "metadata": {},
     "source": [
      "Example 17.17-34, Page No 411"
     ]
    },
    {
     "cell_type": "code",
     "collapsed": false,
     "input": [
      "import math\n",
      "\n",
      "#Initilization of variables\n",
      "I=100 #slug-ft**2\n",
      "w=4 #rad/s\n",
      "theta=6 #rad\n",
      "Mc=64.4 #lb\n",
      "g=32.2 #ft/s**2\n",
      "\n",
      "#Calculations\n",
      "vb=2*w #ft/s\n",
      "vc=0.5*w #ft/s\n",
      "Mb=(0.5*I*w**2+0.5*(Mc/g)*vc**2+0.5*Mc*theta)/(2*theta-(0.5*vb**2*(1/g))) #lb\n",
      "\n",
      "#Result\n",
      "print'The weight of the block B is',round(Mb,1),\"lb\"\n"
     ],
     "language": "python",
     "metadata": {},
     "outputs": [
      {
       "output_type": "stream",
       "stream": "stdout",
       "text": [
        "The weight of the block B is 90.6 lb\n"
       ]
      }
     ],
     "prompt_number": 20
    },
    {
     "cell_type": "heading",
     "level": 2,
     "metadata": {},
     "source": [
      "Example 17.17-35, Page No 411"
     ]
    },
    {
     "cell_type": "code",
     "collapsed": false,
     "input": [
      "import math\n",
      "\n",
      "#Initilization of variables\n",
      "Wa=96.6 #lb\n",
      "Wb=128.8 #lb\n",
      "g=32.2 #ft/s**2\n",
      "I=12 #slug-ft**2\n",
      "v=16 #ft/s\n",
      "ratio=3**-1 #ratio of Sb/Sa\n",
      "r=3#ft\n",
      "va=6 #ft/s\n",
      "vb=2 #ft/s\n",
      "\n",
      "#Calculations\n",
      "#Work Done without S in it\n",
      "W=Wa-(ratio*Wb)\n",
      "#System has zero KE initially and final KE is given by\n",
      "w=va/r #rad/s\n",
      "T2=(0.5*(Wa/g)*va**2+0.5*I*w**2+0.5*(Wb/g)*vb**2) #ft-lb\n",
      "#Distance Calculations\n",
      "S=T2*W**-1 #ft\n",
      "\n",
      "#Result\n",
      "print'The distance through which A falls is',round(S,2),\"ft\"\n"
     ],
     "language": "python",
     "metadata": {},
     "outputs": [
      {
       "output_type": "stream",
       "stream": "stdout",
       "text": [
        "The distance through which A falls is 1.6 ft\n"
       ]
      }
     ],
     "prompt_number": 22
    },
    {
     "cell_type": "heading",
     "level": 2,
     "metadata": {},
     "source": [
      "Example 17.17-36, Page No 412"
     ]
    },
    {
     "cell_type": "code",
     "collapsed": false,
     "input": [
      "import math\n",
      "\n",
      "#initilization of variables\n",
      "u=0.25 #coefficient of friction\n",
      "k=2800 #N/m\n",
      "x=0.075 #m\n",
      "g=9.8 #m/s**2\n",
      "m=7 #kg\n",
      "# as theta=30 degrees,\n",
      "sintheta=2**-1\n",
      "costheta=(3**0.5)*2**-1\n",
      "\n",
      "#Calculations\n",
      "#Normal Reaction\n",
      "N=g*m*costheta #N\n",
      "#Frictional Force\n",
      "Fr=u*N #N\n",
      "#Component of force along the plane\n",
      "F=g*m*sintheta #N\n",
      "#Spring work is\n",
      "W=0.5*k*x*x #N.m\n",
      "s=(W+Fr*x-F*x)/(F-Fr) #m\n",
      "S=(s*1000) #mm\n",
      "\n",
      "#Result\n",
      "print'The value of S is',round(S),\"mm\"\n"
     ],
     "language": "python",
     "metadata": {},
     "outputs": [
      {
       "output_type": "stream",
       "stream": "stdout",
       "text": [
        "The value of S is 330.0 mm\n"
       ]
      }
     ],
     "prompt_number": 23
    },
    {
     "cell_type": "heading",
     "level": 2,
     "metadata": {},
     "source": [
      "Example 17.17-37, Page No 412"
     ]
    },
    {
     "cell_type": "code",
     "collapsed": false,
     "input": [
      "import math\n",
      "\n",
      "#Initilization of variables\n",
      "m=5 #kg\n",
      "l=2 #m\n",
      "k=10000 #N/m\n",
      "x=0.1 #m\n",
      "g=9.8 #m/s**2\n",
      "\n",
      "#Calculations\n",
      "drop=l+x #m mass drop length\n",
      "#Work Done by Gravity\n",
      "Wg=g*m*drop #N.m\n",
      "#Work Done by Spring\n",
      "Ws=0.5*k*x**2 #N.m\n",
      "#Increase in KE is without v**2\n",
      "KE=0.5*m #kg\n",
      "#Velocity Calculations\n",
      "v=sqrt((Wg-Ws)/KE) #m/s\n",
      "\n",
      "#Result\n",
      "print'The speed is',round(v,1),\"m/s\"\n"
     ],
     "language": "python",
     "metadata": {},
     "outputs": [
      {
       "output_type": "stream",
       "stream": "stdout",
       "text": [
        "The speed is 4.6 m/s\n"
       ]
      }
     ],
     "prompt_number": 29
    },
    {
     "cell_type": "heading",
     "level": 2,
     "metadata": {},
     "source": [
      "Example 17.17-38, Page No 412"
     ]
    },
    {
     "cell_type": "code",
     "collapsed": false,
     "input": [
      "import math\n",
      "\n",
      "#Initilization of variables\n",
      "l=6 #ft\n",
      "k=20 #lb/in\n",
      "x=8 #in\n",
      "\n",
      "#Calculations\n",
      "#Work Done by Gravity\n",
      "Wg=(l*12+x) #in without W\n",
      "#Work Done by Spring\n",
      "Ws=0.5*k*x**2 #in-lb\n",
      "#Change in the kinetic energy is zero\n",
      "W=Ws/Wg #lb\n",
      "\n",
      "#Result\n",
      "print'The weight is',round(W),\"lb\"\n"
     ],
     "language": "python",
     "metadata": {},
     "outputs": [
      {
       "output_type": "stream",
       "stream": "stdout",
       "text": [
        "The weight is 8.0 lb\n"
       ]
      }
     ],
     "prompt_number": 30
    },
    {
     "cell_type": "heading",
     "level": 2,
     "metadata": {},
     "source": [
      "Example 17.17-40, Page No 413"
     ]
    },
    {
     "cell_type": "code",
     "collapsed": false,
     "input": [
      "import math\n",
      "\n",
      "#Initilization of variables\n",
      "W=8 #lb\n",
      "\n",
      "#Calculations\n",
      "#work done by the spring woithout k\n",
      "Ws=0.5*((9*12**-1)**2-(12**-1)**2) \n",
      "#Work done by gravity\n",
      "Wg=W*(10.5*12**-1) #ft-lb\n",
      "#Change in KE is zero\n",
      "k=Wg/Ws #lb/ft\n",
      "\n",
      "#Result\n",
      "print'The value of k is',round(k,1),\"lb/ft\"\n"
     ],
     "language": "python",
     "metadata": {},
     "outputs": [
      {
       "output_type": "stream",
       "stream": "stdout",
       "text": [
        "The value of k is 25.2 lb/ft\n"
       ]
      }
     ],
     "prompt_number": 25
    },
    {
     "cell_type": "heading",
     "level": 2,
     "metadata": {},
     "source": [
      "Example 17.17-41, Page No 414"
     ]
    },
    {
     "cell_type": "code",
     "collapsed": false,
     "input": [
      "import math\n",
      "\n",
      "#Initilization of variables\n",
      "Wc=100 #lb\n",
      "r= 1 #ft\n",
      "F=80 #lb\n",
      "k=50 #lb/ft\n",
      "s=6 #in\n",
      "g=32.2 #ft/s**2\n",
      "\n",
      "#Calculations\n",
      "#Work done on the system\n",
      "U=-0.5*k*(1)+F*(s*12**-1) #ft-lb\n",
      "#Initial KE is zero\n",
      "Vo=(U/(0.5*(Wc/g+0.5*(Wc/g)*r)))**0.5 #ft/s\n",
      "\n",
      "#Result\n",
      "print'The initial speed is',round(Vo,2),\"ft/s\"\n"
     ],
     "language": "python",
     "metadata": {},
     "outputs": [
      {
       "output_type": "stream",
       "stream": "stdout",
       "text": [
        "The initial speed is 2.54 ft/s\n"
       ]
      }
     ],
     "prompt_number": 27
    }
   ],
   "metadata": {}
  }
 ]
}