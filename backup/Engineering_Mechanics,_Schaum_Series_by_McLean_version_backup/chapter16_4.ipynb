{
 "metadata": {
  "name": "chapter16.ipynb"
 },
 "nbformat": 3,
 "nbformat_minor": 0,
 "worksheets": [
  {
   "cells": [
    {
     "cell_type": "heading",
     "level": 1,
     "metadata": {},
     "source": [
      "Chapter 16: Dynamics of a Rigid Body in Plane Motion"
     ]
    },
    {
     "cell_type": "heading",
     "level": 2,
     "metadata": {},
     "source": [
      "Example 16.16-2, Page No 335"
     ]
    },
    {
     "cell_type": "code",
     "collapsed": false,
     "input": [
      "import math\n",
      "import numpy as np\n",
      "\n",
      "#Intilization of variables\n",
      "W=600 #lb\n",
      "d=30 #in\n",
      "# as theta=25 degrees,\n",
      "sintheta=0.422\n",
      "costheta=0.906\n",
      "g=32.2 #ft/s**2\n",
      "\n",
      "#Calculations\n",
      "m=W/g #lb-s**2/ft\n",
      "#Moment of inertia\n",
      "I=0.5*m*((d/2)/12)**2 #lb-s**2-ft\n",
      "#Applying Newtons law and coservation of angular momentum and rolling\n",
      "#Solving by matrix method\n",
      "A=np.array([[1,m,0,0],[0,0,0,1],[((d/2)/12),0,-I,0],[0,1,-((d/2)/12),0]])\n",
      "B=np.array([[W*sintheta],[W*costheta],[0],[0]])\n",
      "C=np.linalg.solve(A,B)\n",
      "\n",
      "#Result\n",
      "print'The Frictional Force is',round(C[0],1),\"lb\",'and the acceleration is',round(C[1],2),\"ft/s**2\"\n",
      "\n",
      "# The answers wary due to decimal point descrepancy."
     ],
     "language": "python",
     "metadata": {},
     "outputs": [
      {
       "output_type": "stream",
       "stream": "stdout",
       "text": [
        "The Frictional Force is 84.4 lb and the acceleration is 9.06 ft/s**2\n"
       ]
      }
     ],
     "prompt_number": 3
    },
    {
     "cell_type": "heading",
     "level": 2,
     "metadata": {},
     "source": [
      "Example 16.16-3, Page No 336"
     ]
    },
    {
     "cell_type": "code",
     "collapsed": false,
     "input": [
      "import math\n",
      "import numpy as np\n",
      "\n",
      "#Initilization of variables\n",
      "m=18 #kg\n",
      "d=0.6 #m\n",
      "vo=3 #m/s\n",
      "# as theta=20 degrees,\n",
      "sintheta=0.342\n",
      "costheta=0.939\n",
      "g=9.8 #m/s**2\n",
      "\n",
      "#Calculations\n",
      "#Moment of Inertia\n",
      "I=0.5*m*(d/2)**2 \n",
      "#Applying Newtons second Law a\n",
      "A=np.array([[1,m,0,0],[0,0,1,0],[d/2,0,0,-I],[0,1,0,(-d/2)]])\n",
      "B=np.array([[g*m*sintheta],[g*m*costheta],[0],[0]])\n",
      "C=np.linalg.solve(A,B)\n",
      "#Storing the answers in variables\n",
      "F=C[0] #N\n",
      "ax=C[1] #m/s**2\n",
      "Na=C[2] #N\n",
      "alpha=C[3] #rad/s**2\n",
      "#Time Calculations\n",
      "v=0 #m/s**2\n",
      "t=(vo)/ax #s\n",
      "\n",
      "#Result\n",
      "print'It takes',round(t,2),\"s to reach the highest point of travel\"\n",
      "\n",
      "# The ans is off by 0.01 sec."
     ],
     "language": "python",
     "metadata": {},
     "outputs": [
      {
       "output_type": "stream",
       "stream": "stdout",
       "text": [
        "It takes 1.34 s to reach the highest point of travel\n"
       ]
      }
     ],
     "prompt_number": 5
    },
    {
     "cell_type": "heading",
     "level": 2,
     "metadata": {},
     "source": [
      "Example 16.16-5, Page No 337"
     ]
    },
    {
     "cell_type": "code",
     "collapsed": false,
     "input": [
      "import math\n",
      "import numpy as np\n",
      "\n",
      "#Initilization of variables\n",
      "m=20 #kg\n",
      "F1=40 #N\n",
      "ro=0.6 #m\n",
      "ri=0.45 #m\n",
      "g=9.8 #m/s**2\n",
      "\n",
      "#Calculations\n",
      "#Moment of inertia\n",
      "I=(2*5**-1)*m*ro**2 #kg-m**2\n",
      "#Applying Newtons Law and conservation of angular Momentum\n",
      "#Solving by matrix method\n",
      "A=np.array([[1,m],[ro,-I/ro]])\n",
      "B=np.array([[F1],[F1*ri]])\n",
      "C=np.linalg.solve(A,B)\n",
      "#Storing answers in variables\n",
      "F=C[0] #N\n",
      "a=C[1] #m/s**2\n",
      "\n",
      "#Result\n",
      "print'The acceleration is',round(a,2),\"m/s**2\"\n",
      "print'The force is',round(F,2),\"N\"\n",
      "#The solution in the textbook is incorrect\n"
     ],
     "language": "python",
     "metadata": {},
     "outputs": [
      {
       "output_type": "stream",
       "stream": "stdout",
       "text": [
        "The acceleration is 0.36 m/s**2\n",
        "The force is 32.86 N\n"
       ]
      }
     ],
     "prompt_number": 6
    },
    {
     "cell_type": "heading",
     "level": 2,
     "metadata": {},
     "source": [
      "Example 16.16-6, Page No 338"
     ]
    },
    {
     "cell_type": "code",
     "collapsed": false,
     "input": [
      "import math\n",
      "\n",
      "#Initilization of variables\n",
      "W=16.1 #lb\n",
      "u=0.10 #co-efficient of friction\n",
      "g=32.2 #ft/s**2\n",
      "# as theta=30 degrees,\n",
      "sintheta=2**-1\n",
      "F=1.39 #lb\n",
      "\n",
      "#Calculations\n",
      "#Applying Newtons Second Law\n",
      "#Using F=1.39 lb\n",
      "a=((W*sintheta)-F)/(W*g**-1) #ft/s**2\n",
      "alpha=(F*0.5*5/2)/((W*g**-1)*(0.5**2)) #rad/s**2\n",
      "\n",
      "#Result\n",
      "print'The value of a is',round(a,1),\"ft/s**2\",'and alpha is ',round(alpha,1),\"rad/s**2.\"\n",
      "print'Hence the sphere will both,roll and slip'\n"
     ],
     "language": "python",
     "metadata": {},
     "outputs": [
      {
       "output_type": "stream",
       "stream": "stdout",
       "text": [
        "The value of a is 13.3 ft/s**2 and alpha is  13.9 rad/s**2.\n",
        "Hence the sphere will both,roll and slip\n"
       ]
      }
     ],
     "prompt_number": 9
    },
    {
     "cell_type": "heading",
     "level": 2,
     "metadata": {},
     "source": [
      "Example 16.16-8, Page No 339"
     ]
    },
    {
     "cell_type": "code",
     "collapsed": false,
     "input": [
      "import math\n",
      "import numpy as np\n",
      "\n",
      "#Initilization of variables\n",
      "# as theta=30 degrees\n",
      "sintheta=2**-1\n",
      "W=80 #lb\n",
      "Ww=100 #lb\n",
      "I=4 #slug-ft**2\n",
      "r=0.5 #ft\n",
      "v= 20 #ft/s\n",
      "vo=0 #ft/s\n",
      "g=32.2 #ft/s**2\n",
      "\n",
      "#Calculations\n",
      "#Using Equations of motion\n",
      "#Solving the system of linear equatinons by matrix method\n",
      "A=np.array([[-1,0,-W/g],[1,-1,-Ww/g],[0,r,-2*I]])\n",
      "B=np.array([[-W],[Ww*sintheta],[0]])\n",
      "C=np.linalg.solve(A,B)\n",
      "#Storing values in variables\n",
      "T=C[0] #lb\n",
      "F=C[1] #lb\n",
      "a=C[2] #ft/s**2\n",
      "#Time calculations\n",
      "t=(v-vo)/a #s\n",
      "\n",
      "#Result\n",
      "print'The time required is',round(t,1),\"s\"\n"
     ],
     "language": "python",
     "metadata": {},
     "outputs": [
      {
       "output_type": "stream",
       "stream": "stdout",
       "text": [
        "The time required is 14.4 s\n"
       ]
      }
     ],
     "prompt_number": 10
    },
    {
     "cell_type": "heading",
     "level": 2,
     "metadata": {},
     "source": [
      "Example 16.16-9, Page No 340"
     ]
    },
    {
     "cell_type": "code",
     "collapsed": false,
     "input": [
      "import math\n",
      "import numpy as np\n",
      "\n",
      "#Initilization of variables\n",
      "M=70 #kg\n",
      "ko=0.4 #m\n",
      "ri=0.45 #m\n",
      "ro=0.6 #m\n",
      "# as theta=30 degrees,\n",
      "sintheta=2**-1\n",
      "costheta=(3**0.5)*2**-1\n",
      "m=35 #kg\n",
      "g= 9.8 #m/s**2\n",
      "\n",
      "#Calculations\n",
      "I=M*ko**2 #kg-m**2\n",
      "#Using Equations of motion\n",
      "#Solving the equations by matrix method\n",
      "A=np.array([[-1,-m*0.15,0],[1,-M*ro,-1],[-ri,-I,ro]])\n",
      "B=np.array([[-m*g],[M*g*sintheta],[0]])\n",
      "C=np.linalg.solve(A,B)\n",
      "F=C[2] #N\n",
      "Na=M*g*costheta #N\n",
      "#Required coefficient of friction\n",
      "u=F/Na #coefficient of friction\n",
      "\n",
      "#Result\n",
      "print'The value of alpha is',round(C[1],2),\"rad/s**2\",'and tension is',round(C[0]),\"N\"\n",
      "print'F=',round(F),\"N,\",'Na=',round(Na),\"N\",'and u=',round(u,2),\"(coefficient of friction)\"\n"
     ],
     "language": "python",
     "metadata": {},
     "outputs": [
      {
       "output_type": "stream",
       "stream": "stdout",
       "text": [
        "The value of alpha is -4.15 rad/s**2 and tension is 365.0 N\n",
        "F= 196.0 N, Na= 594.0 N and u= 0.33 (coefficient of friction)\n"
       ]
      }
     ],
     "prompt_number": 11
    },
    {
     "cell_type": "heading",
     "level": 2,
     "metadata": {},
     "source": [
      "Exampe 16.16-10, Page No 341"
     ]
    },
    {
     "cell_type": "code",
     "collapsed": false,
     "input": [
      "import math\n",
      "import numpy as np\n",
      "\n",
      "#Initilization of variables\n",
      "m=200 #kg\n",
      "g=9.8 #m/s**2\n",
      "r=1.2 #m\n",
      "F1=1000 #N\n",
      "F2=1400 #N\n",
      "\n",
      "#Calculations\n",
      "N=m*g #N\n",
      "I=(2*5**-1)*(m)*r**2 #kg-m**2\n",
      "#Using equations of motion\n",
      "#Solving for F and alpha using matrix method\n",
      "#Applying equations of motion\n",
      "A=np.array([[1,-m],[-r,-I/r]])\n",
      "B=np.array([[F1-F2],[F1*r]])\n",
      "C=np.linalg.solve(A,B)\n",
      "#Storing values\n",
      "F=C[0] #N\n",
      "alpha=C[1] #rad/s**2\n",
      "a=r*alpha #m/s**2\n",
      "\n",
      "#Result\n",
      "print'The value of a is',round(a,2),\"m/s**2\",'and F is',round(F),\"N\"\n",
      "#The negative signs indicate that the direction is opposite to what was origninally assumed\n",
      "# The answers wary due to decimal point descrepancy."
     ],
     "language": "python",
     "metadata": {},
     "outputs": [
      {
       "output_type": "stream",
       "stream": "stdout",
       "text": [
        "The value of a is -2.57 m/s**2 and F is -829.0 N\n"
       ]
      }
     ],
     "prompt_number": 13
    },
    {
     "cell_type": "heading",
     "level": 2,
     "metadata": {},
     "source": [
      "Example 16.16-11, Page No 341"
     ]
    },
    {
     "cell_type": "code",
     "collapsed": false,
     "input": [
      "import math\n",
      "import numpy as np\n",
      "\n",
      "#Initilization of variables\n",
      "Wa=161 #lb\n",
      "Wb=193.2 #lb\n",
      "Wc=300 #lb\n",
      "ka=3 #ft\n",
      "kb=2.5 #ft\n",
      "# as theta1=30 degrees & theta2=45 degrees,\n",
      "sintheta1=2**-1\n",
      "sintheta2=(2**0.5)**-1\n",
      "costheta2=(2**0.5)**-1\n",
      "g=32.2 #ft/s**2\n",
      "\n",
      "#Calculations\n",
      "#Moment of inertia Calculations\n",
      "Ia=(Wa/g)*ka**2 #lb-s**2-ft\n",
      "Ib=(Wb/g)*kb**2 #lb-s**2-ft\n",
      "#Using equations of motion for A and B and C\n",
      "#Solving by matrix method\n",
      "A=np.array([[1,1,-Wa/g,0,0],[1,-4,-Ia*(4**-1),0,0],[-2,0,-Ib*(5*8**-1),4,0],[0,0,-(Wc/g)*(5*2**-1),-1,-0.25],[0,0,0,0,1]])\n",
      "B=np.array([[Wa*sintheta1],[0],[0],[-Wc*costheta2],[Wc*sintheta2]])\n",
      "C=np.linalg.solve(A,B)\n",
      "#Storing values in the variables\n",
      "T1=C[0] #lb\n",
      "T2=C[3] #lb\n",
      "a=C[2] #ft/s**2\n",
      "\n",
      "#Result\n",
      "print'The values are:'\n",
      "print'a=',round(a,2),\"ft/s**2 ,\",'T1=',round(T1),\"lb\",'and T2=',round(T2,1),\"lb\"\n"
     ],
     "language": "python",
     "metadata": {},
     "outputs": [
      {
       "output_type": "stream",
       "stream": "stdout",
       "text": [
        "The values are:\n",
        "a= 3.93 ft/s**2 , T1= 89.0 lb and T2= 67.5 lb\n"
       ]
      }
     ],
     "prompt_number": 16
    },
    {
     "cell_type": "heading",
     "level": 2,
     "metadata": {},
     "source": [
      "Example 16.16-12, Page No 342"
     ]
    },
    {
     "cell_type": "code",
     "collapsed": false,
     "input": [
      "import math\n",
      "import numpy as np\n",
      "\n",
      "#Initilization of variables\n",
      "W=644 #lb\n",
      "F=30 #lb\n",
      "# as theta=30 degrees,\n",
      "sintheta=(2)**-1\n",
      "costheta=(3**0.5)*2**-1\n",
      "r=1.5 #ft\n",
      "g=32.2 #ft/s**2\n",
      "\n",
      "#Calculations\n",
      "#Using equations of motion\n",
      "#Solving by matrix method\n",
      "A=np.array([[1,-W/g],[-r,-(2**-1)*(W/g)*(2*2)*(r**-1)]])\n",
      "B=np.array([[(W*sintheta)-(F*costheta)],[-F*2]])\n",
      "C=np.linalg.solve(A,B)\n",
      "a=C[1] #ft/s**2\n",
      "\n",
      "#Result\n",
      "print'The value of a is',round(a,2),\"ft/s**2\"\n",
      "# The negative sign indicates that the cylinder will roll down the plane."
     ],
     "language": "python",
     "metadata": {},
     "outputs": [
      {
       "output_type": "stream",
       "stream": "stdout",
       "text": [
        "The value of a is -6.78 ft/s**2\n"
       ]
      }
     ],
     "prompt_number": 18
    },
    {
     "cell_type": "heading",
     "level": 2,
     "metadata": {},
     "source": [
      "Example 16.16-14, Page No 344"
     ]
    },
    {
     "cell_type": "code",
     "collapsed": false,
     "input": [
      "import math\n",
      "import numpy as np\n",
      "\n",
      "#Initilization of variables\n",
      "W=20 #lb\n",
      "g=32.2 #ft/s**2\n",
      "vb=0.5 #rad/s\n",
      "\n",
      "#Calculations\n",
      "#Using equations of motion\n",
      "#Solving the three equations simultaneously by matrix method\n",
      "X=np.array([[0,1,-(W*g**-1)*5.2],[-1,0,-(W*g**-1)*3],[3,-3,-(12**-1)*(W*g**-1)*12**2]])\n",
      "Y=np.array([[-0.75*(W*g**-1)],[(W*g**-1)*1.3-W],[0]])\n",
      "C=np.linalg.solve(X,Y)\n",
      "A=C[0] #lb\n",
      "B=C[1] #lb\n",
      "alpha=C[2] #rad/s**2\n",
      "\n",
      "#Result\n",
      "print'The value of alpha is',round(alpha,1),\"rad/s**2 countercockwise\",'and of A and B are',round(A,1),\"lb up and\",round(B,2),\"lb to the right\"\n"
     ],
     "language": "python",
     "metadata": {},
     "outputs": [
      {
       "output_type": "stream",
       "stream": "stdout",
       "text": [
        "The value of alpha is 2.6 rad/s**2 countercockwise and of A and B are 14.4 lb up and 7.91 lb to the right\n"
       ]
      }
     ],
     "prompt_number": 20
    },
    {
     "cell_type": "heading",
     "level": 2,
     "metadata": {},
     "source": [
      "Example 16.16-16, Page No 345"
     ]
    },
    {
     "cell_type": "code",
     "collapsed": false,
     "input": [
      "import math\n",
      "import numpy as np\n",
      "\n",
      "#Initilization of variables\n",
      "mc=7.25 #kg\n",
      "d=0.9 #m\n",
      "la=0.2 #m\n",
      "ma=9 #kg\n",
      "F=45 #N\n",
      "ay=0 #m/s**2\n",
      "g=9.8 #m/s**2\n",
      "\n",
      "#Calculations\n",
      "I=2*(0.5*mc*(d*2**-1)**2)+0.5*ma*(la*2**-1)**2 #kg-m**2\n",
      "#Using the equations of motion\n",
      "Na=(2*mc+ma)*g #N\n",
      "#Simplfying using radial velocity formula\n",
      "#Solving the two equations using matrix method\n",
      "A=np.array([[-1,-(2*mc+ma)],[(d*2**-1),-I/(d*2**-1)]])\n",
      "B=np.array([[-F],[F*(la*2**-1)]])\n",
      "C=np.linalg.solve(A,B)\n",
      "F=C[0] #N\n",
      "ax=C[1] #m/s**2\n",
      "\n",
      "#Result\n",
      "print'The computation yields ax=',round(ax,2),\"m/s**2 to the right.\"\n"
     ],
     "language": "python",
     "metadata": {},
     "outputs": [
      {
       "output_type": "stream",
       "stream": "stdout",
       "text": [
        "The computation yields ax= 1.13 m/s**2 to the right.\n"
       ]
      }
     ],
     "prompt_number": 22
    },
    {
     "cell_type": "heading",
     "level": 2,
     "metadata": {},
     "source": [
      "Example 16.16-18, Page No 347"
     ]
    },
    {
     "cell_type": "code",
     "collapsed": false,
     "input": [
      "import math\n",
      "\n",
      "#Initilization of variables\n",
      "r=0.05 #m cylinder radius\n",
      "g=9.8 #m/s**2\n",
      "\n",
      "#Calculations\n",
      "#Here the equation has been solved in terms of the veriables\n",
      "#Hence we directly consider the final result\n",
      "av=(2*g)/3 #m/s**2\n",
      "\n",
      "#Result\n",
      "print'The value of av is',round(av,2),\"m/s**2\"\n"
     ],
     "language": "python",
     "metadata": {},
     "outputs": [
      {
       "output_type": "stream",
       "stream": "stdout",
       "text": [
        "The value of av is 6.53 m/s**2\n"
       ]
      }
     ],
     "prompt_number": 23
    },
    {
     "cell_type": "heading",
     "level": 2,
     "metadata": {},
     "source": [
      "Example 16.16-21, Page No 349"
     ]
    },
    {
     "cell_type": "code",
     "collapsed": false,
     "input": [
      "import math\n",
      "import numpy as np\n",
      "\n",
      "#initilization of variables\n",
      "W=16.1 #lb\n",
      "v=9 #ft/s\n",
      "# as phi=30 degrees,\n",
      "sinphi=(2)**-1\n",
      "cosphi=(3**0.5)*2**-1\n",
      "r=0.5 #ft\n",
      "g=32.2 #ft/s**2\n",
      "OG=4.5 #ft\n",
      "\n",
      "#Calculations\n",
      "#Using equations of motion\n",
      "an=v**2/OG #ft/s**2\n",
      "#Solving for alpha we get\n",
      "N=(W*g**-1)*an+W*cosphi #lb\n",
      "#Using equations of motion\n",
      "A=np.array([[1,-r],[-1,-r*r]])\n",
      "B=np.array([[W*sinphi],[0]])\n",
      "C=np.linalg.solve(A,B)\n",
      "F=C[0] #lb\n",
      "at=C[1] #ft/s**2\n",
      "\n",
      "#Result\n",
      "print'The value of N and F are',round(N,1),\"lb and\",round(F,2),\"lb respectively.\"\n"
     ],
     "language": "python",
     "metadata": {},
     "outputs": [
      {
       "output_type": "stream",
       "stream": "stdout",
       "text": [
        "The value of N and F are 22.9 lb and 2.68 lb respectively.\n"
       ]
      }
     ],
     "prompt_number": 23
    },
    {
     "cell_type": "heading",
     "level": 2,
     "metadata": {},
     "source": [
      "Example 16.16-25, Page No 353"
     ]
    },
    {
     "cell_type": "code",
     "collapsed": false,
     "input": [
      "import math\n",
      "import numpy as np\n",
      "\n",
      "#Initilization of variables\n",
      "W=50 #lb\n",
      "P=10 #lb\n",
      "t=5 #s\n",
      "vo=0 #ft/s\n",
      "g=32.2 #ft/s**2\n",
      "\n",
      "#Calculations\n",
      "#Using equations of motion\n",
      "ax=(P*g)/W #ft/s**2\n",
      "#Solving by matrix method for A and B\n",
      "F=np.array([[1,1],[-4,4]])\n",
      "Q=np.array([[W],[P]])\n",
      "R=np.linalg.solve(F,Q)\n",
      "#Velocity calculations\n",
      "v=vo+ax*t #ft/s\n",
      "A=R[0] #lb\n",
      "B=R[1] #lb\n",
      "\n",
      "#Result\n",
      "print'The velocity of the door after 5s is',round(v,1),\"ft/s\",'and A=',round(A,1),\"lb\",'and B=',round(B,1),\"lb\"\n"
     ],
     "language": "python",
     "metadata": {},
     "outputs": [
      {
       "output_type": "stream",
       "stream": "stdout",
       "text": [
        "The velocity of the door after 5s is 32.2 ft/s and A= 23.8 lb and B= 26.3 lb\n"
       ]
      }
     ],
     "prompt_number": 26
    },
    {
     "cell_type": "heading",
     "level": 2,
     "metadata": {},
     "source": [
      "Example 16.16-26, Page No 354"
     ]
    },
    {
     "cell_type": "code",
     "collapsed": false,
     "input": [
      "import math\n",
      "import numpy as np\n",
      "#Initilization of variables\n",
      "AB=2 #m\n",
      "m=2 #kg\n",
      "F=20 #N\n",
      "g=9.8 #m/s**2\n",
      "\n",
      "#Calculations\n",
      "#Using equation of motion\n",
      "a=F/m #m/s**2\n",
      "#Solving by matrix method for Na and Nb\n",
      "A=np.array([[1,-1],[4*5**-1,4*5**-1]])\n",
      "B=np.array([[m*g],[F*(3*5**-1)]])\n",
      "C=np.linalg.solve(A,B)\n",
      "\n",
      "#Result\n",
      "print'The value of a is',round(a),\"m/s**2\",'and the reactions are: Na=',round(C[0],1),\"N up\",'and Nb=',round(C[1],1),\"N up\"\n"
     ],
     "language": "python",
     "metadata": {},
     "outputs": [
      {
       "output_type": "stream",
       "stream": "stdout",
       "text": [
        "The value of a is 10.0 m/s**2 and the reactions are: Na= 17.3 N up and Nb= -2.3 N up\n"
       ]
      }
     ],
     "prompt_number": 28
    },
    {
     "cell_type": "heading",
     "level": 2,
     "metadata": {},
     "source": [
      "Example 16.16-27, Page No 354"
     ]
    },
    {
     "cell_type": "code",
     "collapsed": false,
     "input": [
      "import math\n",
      "\n",
      "#Initilization of variables\n",
      "vo=0 #ft/s\n",
      "\n",
      "#Calculations\n",
      "s=(0.011*5280*2)/(2*0.004)\n",
      "\n",
      "#Result\n",
      "print'It travels',round(s),\"ft along the level before coming to rest\"\n",
      "#Answer in the textbook is incorrect by 20ft\n"
     ],
     "language": "python",
     "metadata": {},
     "outputs": [
      {
       "output_type": "stream",
       "stream": "stdout",
       "text": [
        "It travels 14520.0 ft along the level before coming to rest\n"
       ]
      }
     ],
     "prompt_number": 29
    },
    {
     "cell_type": "heading",
     "level": 2,
     "metadata": {},
     "source": [
      "Example 16.16-28, Page No 355"
     ]
    },
    {
     "cell_type": "code",
     "collapsed": false,
     "input": [
      "import math\n",
      "\n",
      "#Initilization of variables\n",
      "u=0.3 #coefficient of friction\n",
      "m=70 #kg\n",
      "g=9.8 #m/s**2\n",
      "\n",
      "#Calculations\n",
      "#CASE 1\n",
      "#Using equations of motion\n",
      "Na=m*g #N\n",
      "ah=(u*Na)/m #m/s**2\n",
      "#CASE 2\n",
      "#Applying sum of moments equal to zero\n",
      "F=(Na*0.3)/1.2 #N\n",
      "a_h=F/m #m/s**2\n",
      "\n",
      "#Result\n",
      "#Intutive insights can be attained after we get these results\n",
      "print'The value of Na is',round(Na),\"N\"\n",
      "print'and that of acceleration are:'\n",
      "print'1st value=',round(ah,2),\"m/s**2\",'and 2nd value is',round(a_h,2),\"m/s**2\"\n",
      "print'and the value of F is',round(F),\"N\"\n"
     ],
     "language": "python",
     "metadata": {},
     "outputs": [
      {
       "output_type": "stream",
       "stream": "stdout",
       "text": [
        "The value of Na is 686.0 N\n",
        "and that of acceleration are:\n",
        "1st value= 2.94 m/s**2 and 2nd value is 2.45 m/s**2\n",
        "and the value of F is 172.0 N\n"
       ]
      }
     ],
     "prompt_number": 30
    },
    {
     "cell_type": "heading",
     "level": 2,
     "metadata": {},
     "source": [
      "Example 16.16-29, Page No 356"
     ]
    },
    {
     "cell_type": "code",
     "collapsed": false,
     "input": [
      "import math\n",
      "\n",
      "#Initilization of variables\n",
      "m=60 #kg\n",
      "me=660 #kg\n",
      "a=6 #m/s**2\n",
      "g=9.8 #m/s**2\n",
      "\n",
      "#Calculations\n",
      "#Using equations of motion\n",
      "P=m*a+m*g #N\n",
      "#Scale reading\n",
      "R=P/g #kg\n",
      "#Increase in mass\n",
      "I=R-m #kg\n",
      "#Tension\n",
      "T=me*a+me*g #N\n",
      "\n",
      "#Result\n",
      "print'The value of P is',round(P),\"n\"\n",
      "print'The apparent icrease in weight is',round(I,1),\"kg\",'and the tension in the cable is',round(T),\"N\"\n",
      "#Answer in the textbook is off by 28 #N in Tension\n"
     ],
     "language": "python",
     "metadata": {},
     "outputs": [
      {
       "output_type": "stream",
       "stream": "stdout",
       "text": [
        "The value of P is 948.0 n\n",
        "The apparent icrease in weight is 36.7 kg and the tension in the cable is 10428.0 N\n"
       ]
      }
     ],
     "prompt_number": 32
    },
    {
     "cell_type": "heading",
     "level": 2,
     "metadata": {},
     "source": [
      "Example 16.16-30, Page No 356"
     ]
    },
    {
     "cell_type": "code",
     "collapsed": false,
     "input": [
      "import math\n",
      "import numpy as np\n",
      "\n",
      "#Initilization of variables\n",
      "u=0.2 #coefficient of friction\n",
      "ma=1.2 #kg\n",
      "mb=2 #kg\n",
      "g=9.8 #m/s**2\n",
      "\n",
      "#Calculations\n",
      "Nb=mb*g #N\n",
      "F=u*Nb #N\n",
      "#Using equations of motion\n",
      "#Solving for T and a\n",
      "A=np.array([[-1,-ma],[1,-mb]])\n",
      "B=np.array([[-ma*g],[F]])\n",
      "C=np.linalg.solve(A,B)\n",
      "T=C[0] #N\n",
      "a=C[1] #m/s**2\n",
      "#Taking the sum of the moments\n",
      "x_m=-(F*0.15+T*0.15)/Nb #m\n",
      "x=x_m*1000 #mm\n",
      "\n",
      "#Result\n",
      "print'The acceleration of block A is',round(a,2),\"m/s**2\" \n",
      "print'and Nb acts at a distance of',round(x,1),\"mm.(Negative sign indictaes that the side assumed is incorrect)\"\n"
     ],
     "language": "python",
     "metadata": {},
     "outputs": [
      {
       "output_type": "stream",
       "stream": "stdout",
       "text": [
        "The acceleration of block A is 2.45 m/s**2\n",
        "and Nb acts at a distance of -97.5 mm.(Negative sign indictaes that the side assumed is incorrect)\n"
       ]
      }
     ],
     "prompt_number": 30
    },
    {
     "cell_type": "heading",
     "level": 2,
     "metadata": {},
     "source": [
      "Example 16.16-31, Page No 357"
     ]
    },
    {
     "cell_type": "code",
     "collapsed": false,
     "input": [
      "import math\n",
      "import numpy as np\n",
      "\n",
      "#Initilization of variables\n",
      "a=2.5 #m/s**2\n",
      "mA=3 #kg\n",
      "mB=7 #kg\n",
      "g=9.8 #m/s**2\n",
      "\n",
      "#Calculations\n",
      "F=(mA+mB)*a #N\n",
      "#Using equations of motion\n",
      "Py=mB*g #N\n",
      "#Solving for Px and H\n",
      "A=np.array([[1,1],[-0.0375,0.0375]])\n",
      "B=np.array([[mB*a],[Py*0.05]])\n",
      "C=np.linalg.solve(A,B)\n",
      "Px=C[0] #N\n",
      "H=C[1] #N\n",
      "\n",
      "#Result\n",
      "print'The value of H is',round(H,1),\"N\"\n"
     ],
     "language": "python",
     "metadata": {},
     "outputs": [
      {
       "output_type": "stream",
       "stream": "stdout",
       "text": [
        "The value of H is 54.5 N\n"
       ]
      }
     ],
     "prompt_number": 31
    },
    {
     "cell_type": "heading",
     "level": 2,
     "metadata": {},
     "source": [
      "Example 16.16-32, Page No 358"
     ]
    },
    {
     "cell_type": "code",
     "collapsed": false,
     "input": [
      "import math\n",
      "\n",
      "#Initilization of variables\n",
      "m=20 #kg\n",
      "g=9.8 #m/s**2\n",
      "vo=3 #m/s\n",
      "v=0 #m/s\n",
      "s=4 #m\n",
      "\n",
      "#Calculations\n",
      "#Using equations of motion\n",
      "Na=m*g #N\n",
      "F=(Na*0.075)/0.125 #N\n",
      "a=F/m #m/s**2\n",
      "#Displacement \n",
      "d=-(v**2-vo**2)/(2*a) #m\n",
      "displ=s-d #m\n",
      "v_f=sqrt(2*a*displ) #m/s\n",
      "\n",
      "#Result\n",
      "print'The final velocity is',round(v_f,2),\"m/s to the left.\"\n"
     ],
     "language": "python",
     "metadata": {},
     "outputs": [
      {
       "output_type": "stream",
       "stream": "stdout",
       "text": [
        "The final velocity is 6.17 m/s to the left.\n"
       ]
      }
     ],
     "prompt_number": 32
    },
    {
     "cell_type": "heading",
     "level": 2,
     "metadata": {},
     "source": [
      "Example 16.16-33, Page No 358"
     ]
    },
    {
     "cell_type": "code",
     "collapsed": false,
     "input": [
      "import math\n",
      "import numpy as np\n",
      "\n",
      "#Initilization of variables\n",
      "mA=30 #kg\n",
      "mB=45 #kg\n",
      "u_ab=3**-1 #coefficient of friction between two blocks\n",
      "u_bp=10**-1 #coefficient of friction between block and horizontal plane\n",
      "g=9.8 #m/s**2\n",
      "\n",
      "#Calculations\n",
      "#By inspection\n",
      "Na=mA*g #N\n",
      "Nb=Na+mB*g #N\n",
      "a=(u_ab*Na-u_bp*Nb)/mB #m/s**2\n",
      "P=(mA*a+u_ab*Na) #N\n",
      "#For block A\n",
      "#Solving for P,F and a\n",
      "A=np.array([[1,-1,-mA],[-0.05,-0.075,0],[0,1,-mB]])\n",
      "B=np.array([[0],[-Na*0.050],[Nb*u_bp]])\n",
      "C=np.linalg.solve(A,B)\n",
      "P_new=C[0] #N\n",
      "\n",
      "#Result\n",
      "#As p < p_new\n",
      "print'The maximum value of P is',round(P),\"N\"\n"
     ],
     "language": "python",
     "metadata": {},
     "outputs": [
      {
       "output_type": "stream",
       "stream": "stdout",
       "text": [
        "The maximum value of P is 114.0 N\n"
       ]
      }
     ],
     "prompt_number": 33
    },
    {
     "cell_type": "heading",
     "level": 2,
     "metadata": {},
     "source": [
      "Example 16.16-34, Page No 359"
     ]
    },
    {
     "cell_type": "code",
     "collapsed": false,
     "input": [
      "import math\n",
      "\n",
      "#Initilization of variables\n",
      "Vo=1.5 #m/s\n",
      "V=0 #m/s\n",
      "g=9.8 #m/s**2\n",
      "\n",
      "#Calculations\n",
      "a=(g*0.2)/0.75 #m/s**2\n",
      "t=-(V-Vo)/a #s\n",
      "\n",
      "#Result\n",
      "print'The maximum acceleration is',round(a,2),\"m/s**2\",'and minimum time is',round(t,2),\"s\"\n"
     ],
     "language": "python",
     "metadata": {},
     "outputs": [
      {
       "output_type": "stream",
       "stream": "stdout",
       "text": [
        "The maximum acceleration is 2.61 m/s**2 and minimum time is 0.57 s\n"
       ]
      }
     ],
     "prompt_number": 40
    },
    {
     "cell_type": "heading",
     "level": 2,
     "metadata": {},
     "source": [
      "Example 16.16-36, Page No 361"
     ]
    },
    {
     "cell_type": "code",
     "collapsed": false,
     "input": [
      "import math\n",
      "import numpy as np\n",
      "\n",
      "#Initilization of variables\n",
      "vo=0 #mi/h\n",
      "v=60 #mi/h\n",
      "t=13.8 #s\n",
      "W=3385 #lb\n",
      "xb=46 #in\n",
      "xf=66 #in\n",
      "xv=31 #in\n",
      "g=32.2 #ft/s**2\n",
      "\n",
      "#Calculations\n",
      "a=(((v*88*60)/3600)-vo)/t #ft/s**2\n",
      "#Summing horizontal forces\n",
      "F=(W/g)*a #lb\n",
      "#Solving for Rf and Rr\n",
      "A=np.array([[1,1],[-xf,xb]])\n",
      "B=np.array([[W],[-F*xv]])\n",
      "C=np.linalg.solve(A,B)\n",
      "Rr=C[0] #lb\n",
      "Rf=C[1] #lb\n",
      "\n",
      "#Result\n",
      "print'The value of reactions are Rf=',round(Rf),\"lb\",'and Rr=',round(Rr),\"lb\"\n"
     ],
     "language": "python",
     "metadata": {},
     "outputs": [
      {
       "output_type": "stream",
       "stream": "stdout",
       "text": [
        "The value of reactions are Rf= 1809.0 lb and Rr= 1576.0 lb\n"
       ]
      }
     ],
     "prompt_number": 41
    },
    {
     "cell_type": "heading",
     "level": 2,
     "metadata": {},
     "source": [
      "Example 16.16-43, Page No 366"
     ]
    },
    {
     "cell_type": "code",
     "collapsed": false,
     "input": [
      "import math\n",
      "import numpy as np\n",
      "\n",
      "#Initilization of variables\n",
      "W=161 #lb\n",
      "F=16.1 #lb\n",
      "r=18 #ft radius\n",
      "t=2 #s\n",
      "g=32.2 #ft/s**2\n",
      "wo=0 #rad/s\n",
      "\n",
      "#Calculations\n",
      "#Using equations of motion\n",
      "#Solving for T and alpha\n",
      "A=np.array([[r*12**-1,-0.5*(W*g**-1)*(r*12**-1)**2],[-1,-F*g**-1]])\n",
      "B=np.array([[0],[-F]])\n",
      "C=np.linalg.solve(A,B)\n",
      "alpha=C[1] #rad/s**2\n",
      "w=wo+(alpha*t) #rad/s\n",
      "\n",
      "#Result\n",
      "print'The angular speed is',round(w,2),\"rad/s\"\n",
      "\n",
      "#The ans is incorrect in textbook."
     ],
     "language": "python",
     "metadata": {},
     "outputs": [
      {
       "output_type": "stream",
       "stream": "stdout",
       "text": [
        "The angular speed is 7.58 rad/s\n"
       ]
      }
     ],
     "prompt_number": 43
    },
    {
     "cell_type": "heading",
     "level": 2,
     "metadata": {},
     "source": [
      "Example 16.16-47, Page No 369"
     ]
    },
    {
     "cell_type": "code",
     "collapsed": false,
     "input": [
      "import math\n",
      "\n",
      "#Initilization fo variables\n",
      "r=2000 #ft\n",
      "g=32.2 #ft/s**2\n",
      "d=4.71 #ft\n",
      "v=176 #ft/s\n",
      "\n",
      "#Calculations\n",
      "e=(d*v**2)/(g*r) #ft\n",
      "\n",
      "#Result\n",
      "print'The superelevation is',round(e,2),\"ft\"\n",
      "#Watch the unit in the final answer\n"
     ],
     "language": "python",
     "metadata": {},
     "outputs": [
      {
       "output_type": "stream",
       "stream": "stdout",
       "text": [
        "The superelevation is 2.27 ft\n"
       ]
      }
     ],
     "prompt_number": 45
    },
    {
     "cell_type": "heading",
     "level": 2,
     "metadata": {},
     "source": [
      "Example 16.16-48, Page No 369"
     ]
    },
    {
     "cell_type": "code",
     "collapsed": false,
     "input": [
      "import math\n",
      "\n",
      "#Initilization of variables\n",
      "a=5 #ft/s**2\n",
      "C=50 #lb-ft\n",
      "W=161 #lb\n",
      "g=32.2 #ft/s**2\n",
      "\n",
      "#Calculations\n",
      "T=0.5*(W/g)*1**2*a+C #lb\n",
      "Ox=-T*(2/sqrt(a)) #lb\n",
      "Oy=T*(1/sqrt(a))+W #lb\n",
      "Wa=T/(1-(a/g)) #lb\n",
      "\n",
      "#Result\n",
      "print'The values are: T=',round(T,1),\"lb\",', Wa=',round(Wa),\"b\",',Ox=',round(Ox,1),\"lb\",'and Oy=+',round(Oy),\"lb\"\n"
     ],
     "language": "python",
     "metadata": {},
     "outputs": [
      {
       "output_type": "stream",
       "stream": "stdout",
       "text": [
        "The values are: T= 62.5 lb , Wa= 74.0 b ,Ox= -55.9 lb and Oy=+ 189.0 lb\n"
       ]
      }
     ],
     "prompt_number": 49
    },
    {
     "cell_type": "heading",
     "level": 2,
     "metadata": {},
     "source": [
      "Example 16.16-49, Page No 370"
     ]
    },
    {
     "cell_type": "code",
     "collapsed": false,
     "input": [
      "import math\n",
      "\n",
      "#Initilization of variables\n",
      "m=100 #kg\n",
      "mr=20 #kg\n",
      "w=8 #rad/s\n",
      "l1=300 #mm\n",
      "l2=600 #mm\n",
      "g=9.8 #m/s**2\n",
      "\n",
      "#Calculations\n",
      "r_bar=(mr*l1+m*750)/120 #mm\n",
      "I=(3**-1)*mr*(l2*1000**-1)**2+(2*5**-1)*m*(l1*2000**-1)**2+m*(0.75)**2 #kg.m**2\n",
      "alpha=(m+mr)*g*(r_bar*1000**-1)/I #rad/s**2\n",
      "On=(m+mr)*(r_bar*1000**-1)*w**2 #N\n",
      "Ot=((m+mr)*(r_bar*1000**-1)*alpha)-(m+mr)*g #N\n",
      "\n",
      "#Result\n",
      "print'The angular acceleration is',round(alpha,1),\"rad/s**2\",'and On=',round(On),\"N\",'and Ot=',round(Ot,1),\"N\"\n",
      "\n",
      "#Due to decimal accuracy there is discrepancy in answers with the textbook"
     ],
     "language": "python",
     "metadata": {},
     "outputs": [
      {
       "output_type": "stream",
       "stream": "stdout",
       "text": [
        "The angular acceleration is 13.3 rad/s**2 and On= 5184.0 N and Ot= -96.3 N\n"
       ]
      }
     ],
     "prompt_number": 48
    },
    {
     "cell_type": "heading",
     "level": 2,
     "metadata": {},
     "source": [
      "Example 16.16-50, Page No 370"
     ]
    },
    {
     "cell_type": "code",
     "collapsed": false,
     "input": [
      "import math\n",
      "\n",
      "#Initilization of variables\n",
      "W=40 #lb\n",
      "w=10 #rad/s\n",
      "alpha=2 #rad/s**2\n",
      "r=2 #in\n",
      "g=32.2 #ft/s**2\n",
      "\n",
      "#Calculations\n",
      "#Using equations of motion\n",
      "On=(W*g**-1)*(1*6**-1)*w**2 #lb\n",
      "Ot=(W*g**-1)*(1*6**-1)*alpha\n",
      "Io=(0.5*(W*g**-1)*0.5**2)*2+((W*g**-1)*(1*6**-1)**2)*2\n",
      "\n",
      "#Result\n",
      "print'The reaction components are On=',round(On,1),\"lb to the right\",'and Ot=',round(Ot,2),\"lb up\"\n",
      "print'The value of Io is',round(Io,2),\"lb-ft\""
     ],
     "language": "python",
     "metadata": {},
     "outputs": [
      {
       "output_type": "stream",
       "stream": "stdout",
       "text": [
        "The reaction components are On= 20.7 lb to the right and Ot= 0.41 lb up\n",
        "The value of Io is 0.38 lb-ft\n"
       ]
      }
     ],
     "prompt_number": 59
    },
    {
     "cell_type": "heading",
     "level": 2,
     "metadata": {},
     "source": [
      "Example 16.16-51, Page No 371"
     ]
    },
    {
     "cell_type": "code",
     "collapsed": false,
     "input": [
      "import math\n",
      "import numpy as np\n",
      "\n",
      "#Initilizatin of variables\n",
      "W=6 #lb\n",
      "l=8 #ft\n",
      "v=10 #ft/s\n",
      "g=32.2 #ft/s**2\n",
      "# as theta1=60 degrees & theta2=30 degrees\n",
      "costheta1=2**-1\n",
      "costheta2=(3**0.5)*2**-1\n",
      "\n",
      "#Calculations\n",
      "Fe=(W*v**2)*(g*l*0.5)**-1 #lb\n",
      "#Using equations of motion\n",
      "#Solving for C and T\n",
      "A=np.array([[costheta1,-costheta2],[costheta2,costheta1]])\n",
      "B=np.array([[-Fe],[W]])\n",
      "P=np.linalg.solve(A,B) #lb\n",
      "C=P[0] #lb\n",
      "T=P[1] #lb\n",
      "\n",
      "#Result\n",
      "print'The value of C is',round(C,2),\"lb\",'and T is',round(T,2),\"lb\""
     ],
     "language": "python",
     "metadata": {},
     "outputs": [
      {
       "output_type": "stream",
       "stream": "stdout",
       "text": [
        "The value of C is 2.87 lb and T is 7.03 lb\n"
       ]
      }
     ],
     "prompt_number": 49
    },
    {
     "cell_type": "heading",
     "level": 2,
     "metadata": {},
     "source": [
      "Example 16.16-52, Page No 372"
     ]
    },
    {
     "cell_type": "code",
     "collapsed": false,
     "input": [
      "import math\n",
      "\n",
      "#Initilization of variables\n",
      "W=32.2 #lb\n",
      "T=120 #lb\n",
      "m=1 #slug\n",
      "r=6*12**-1 #ft\n",
      "\n",
      "#Calculations\n",
      "w=sqrt((T*(3*5**-1)*4)*(m*r*3)**-1) #rad/s\n",
      "\n",
      "#Result\n",
      "print'The angular speed permissible is',round(w,1),\"rad/s\"\n"
     ],
     "language": "python",
     "metadata": {},
     "outputs": [
      {
       "output_type": "stream",
       "stream": "stdout",
       "text": [
        "The angular speed permissible is 13.9 rad/s\n"
       ]
      }
     ],
     "prompt_number": 50
    },
    {
     "cell_type": "heading",
     "level": 2,
     "metadata": {},
     "source": [
      "Example 16.16-53, Page No 372"
     ]
    },
    {
     "cell_type": "code",
     "collapsed": false,
     "input": [
      "import math\n",
      "import numpy as np\n",
      "\n",
      "#Initilization of variables\n",
      "m=30 #kg\n",
      "k=0.45 #m\n",
      "g=9.8 #m/s**2\n",
      "\n",
      "#Using equations of motion\n",
      "#Solving for T1,T2 and alpha\n",
      "A=np.array([[1,0,-m],[0,-1,-45],[-0.6,0.3,-m*k**2]])\n",
      "B=np.array([[50*g],[-150*g],[0]])\n",
      "C=np.linalg.solve(A,B)\n",
      "\n",
      "#Result\n",
      "print'The values are: T1=',round(C[0]),\"N\",',T2=',round(C[1]),\"N\",'and alpha=',round(C[2],1),\"rad/s**2\"\n",
      "\n",
      "# The answer for T2 and alpha is off by 4 & 0.1 units"
     ],
     "language": "python",
     "metadata": {},
     "outputs": [
      {
       "output_type": "stream",
       "stream": "stdout",
       "text": [
        "The values are: T1= 607.0 N ,T2= 1294.0 N and alpha= 3.9 rad/s**2\n"
       ]
      }
     ],
     "prompt_number": 51
    },
    {
     "cell_type": "heading",
     "level": 2,
     "metadata": {},
     "source": [
      "Example 16.16-54, Page No 373"
     ]
    },
    {
     "cell_type": "code",
     "collapsed": false,
     "input": [
      "import math\n",
      "\n",
      "#Initilization of variables\n",
      "Wc=28 #lb\n",
      "v=16 #ft/s\n",
      "Ib=12 #ft-lb-s**2\n",
      "u=0.4 #coefficient of friction\n",
      "t=2 #s\n",
      "g=32.2 #ft/s**2\n",
      "\n",
      "#Calculations\n",
      "T=Wc+(Wc*g**-1)*8 #lb\n",
      "alpha=(8*12)*15**-1 #rad/s**2\n",
      "F=((Ib*alpha)+(T*1.25))/t #lb\n",
      "N=F/u #lb\n",
      "#Summing moments about D\n",
      "P=(N*8+F*3)/40 #lb\n",
      "#Summing forces horizontally and vertically\n",
      "Dx=151-P #lb\n",
      "Dy=-F #lb\n",
      "\n",
      "#Result\n",
      "print'The reactions at D are: Dx=',round(Dx),\"lb to right\",'and Dy=',round(Dy,1),\"lb down\""
     ],
     "language": "python",
     "metadata": {},
     "outputs": [
      {
       "output_type": "stream",
       "stream": "stdout",
       "text": [
        "The reactions at D are: Dx= 116.0 lb to right and Dy= -60.2 lb down\n"
       ]
      }
     ],
     "prompt_number": 65
    },
    {
     "cell_type": "heading",
     "level": 2,
     "metadata": {},
     "source": [
      "Example 16.16-55, Page No 374"
     ]
    },
    {
     "cell_type": "code",
     "collapsed": false,
     "input": [
      "import math\n",
      "import numpy as np\n",
      "\n",
      "#Initilization of variables\n",
      "m=8 #kg\n",
      "n=90 #rpm\n",
      "g=9.8 #m/s**2\n",
      "\n",
      "#Calculations\n",
      "Fg=m*g #N\n",
      "w=2*pi*n/60 #rad/s\n",
      "#using equations of motion\n",
      "By=m*g #N\n",
      "#Solving for Bx and C\n",
      "A=np.array([[1,1],[-0.3,0.9]])\n",
      "B=np.array([[m*0.3*w**2],[By*0.3]])\n",
      "C=np.linalg.solve(A,B) #N\n",
      "\n",
      "#Result\n",
      "print'The solution is: Bx=',round(C[0]),\"N\",',By=',round(By,1),\"N\",'and C=',round(C[1],1),\"N\"\n"
     ],
     "language": "python",
     "metadata": {},
     "outputs": [
      {
       "output_type": "stream",
       "stream": "stdout",
       "text": [
        "The solution is: Bx= 140.0 N ,By= 78.4 N and C= 72.9 N\n"
       ]
      }
     ],
     "prompt_number": 79
    },
    {
     "cell_type": "heading",
     "level": 2,
     "metadata": {},
     "source": [
      "Example 16.16-56, Page No 375"
     ]
    },
    {
     "cell_type": "code",
     "collapsed": false,
     "input": [
      "import math\n",
      "\n",
      "#Initilization of variables\n",
      "m=8 #kg\n",
      "n=90 #rpm\n",
      "g=9.8 #m/s**2\n",
      "r=0.3 #m\n",
      "\n",
      "#calculations\n",
      "w=2*pi*n/60 #rad/s\n",
      "#Using equations of motion\n",
      "C=(m*g*0.3+m*r*w**2*r)/1.2 #N\n",
      "Bx=-C+m*r*w**2 #N\n",
      "By=m*g #N\n",
      "\n",
      "#Result\n",
      "print'The solution is: Bx=',round(Bx),\"N\",',By=',round(By,1),\"N\",'and C=',round(C,1),\"N\"\n"
     ],
     "language": "python",
     "metadata": {},
     "outputs": [
      {
       "output_type": "stream",
       "stream": "stdout",
       "text": [
        "The solution is: Bx= 140.0 N ,By= 78.4 N and C= 72.9 N\n"
       ]
      }
     ],
     "prompt_number": 66
    },
    {
     "cell_type": "heading",
     "level": 2,
     "metadata": {},
     "source": [
      "Example 16.16-57, Page No 375"
     ]
    },
    {
     "cell_type": "code",
     "collapsed": false,
     "input": [
      "import math\n",
      "\n",
      "#Initilization of variables\n",
      "Na=294 #N\n",
      "Nb=735 #N\n",
      "\n",
      "#Calculations\n",
      "a=(10**-1*Nb-3**-1*Na)/45 #m/s**2\n",
      "P=(3**-1*Na)-30*a #N\n",
      "\n",
      "#Result\n",
      "print'The solution is P=',round(P),\"N\",'and a=',round(a,3),\"m/s**2\"\n",
      "# The negative sign indicates the assumed direction is incorrect."
     ],
     "language": "python",
     "metadata": {},
     "outputs": [
      {
       "output_type": "stream",
       "stream": "stdout",
       "text": [
        "The solution is P= 114.0 N and a= -0.544 m/s**2\n"
       ]
      }
     ],
     "prompt_number": 68
    },
    {
     "cell_type": "heading",
     "level": 2,
     "metadata": {},
     "source": [
      "Example 16.16-58, Page No 376"
     ]
    },
    {
     "cell_type": "code",
     "collapsed": false,
     "input": [
      "import math\n",
      "\n",
      "#Initilization of variables\n",
      "W=50 #lb\n",
      "g=32.2\n",
      "\n",
      "#Calculations\n",
      "#Using equations of motion\n",
      "a=(10/(W/g)) #ft/s**2\n",
      "B=((2.5*(W/g)*a)+4*W-1.5*10)/8 #lb\n",
      "A=50-B #lb\n",
      "\n",
      "#Result\n",
      "print'The solution is A=',round(A,1),\"lb\",',B=',round(B,1),\"lb\",'and a=',round(a,2),\"ft/s**2\"\n"
     ],
     "language": "python",
     "metadata": {},
     "outputs": [
      {
       "output_type": "stream",
       "stream": "stdout",
       "text": [
        "The solution is A= 23.8 lb ,B= 26.3 lb and a= 6.44 ft/s**2\n"
       ]
      }
     ],
     "prompt_number": 69
    },
    {
     "cell_type": "heading",
     "level": 2,
     "metadata": {},
     "source": [
      "Example 16.16-60, Page No 377"
     ]
    },
    {
     "cell_type": "code",
     "collapsed": false,
     "input": [
      "import math\n",
      "\n",
      "#Initilization of variables\n",
      "g=9.8 #m/s**2\n",
      "r1=0.3 #m\n",
      "m1=20 #kg\n",
      "m2=100 #kg\n",
      "r2=0.75 #m\n",
      "\n",
      "#Calculations\n",
      "alpha=(m1*g*r1+m2*g*r2)*(m1*r1**2+(m1/12)*0.6**2+m2*r2**2+(2*5**-1)*m2*0.15**2)**-1 #rad/s**2\n",
      "\n",
      "#Result\n",
      "print'The angular acceleration is',round(alpha,1),\"rad/s**2\"\n"
     ],
     "language": "python",
     "metadata": {},
     "outputs": [
      {
       "output_type": "stream",
       "stream": "stdout",
       "text": [
        "The angular acceleration is 13.4 rad/s**2\n"
       ]
      }
     ],
     "prompt_number": 71
    },
    {
     "cell_type": "heading",
     "level": 2,
     "metadata": {},
     "source": [
      "Example 16.16-61, Page No 378"
     ]
    },
    {
     "cell_type": "code",
     "collapsed": false,
     "input": [
      "import math\n",
      "\n",
      "#Initilization of variables\n",
      "r=15*12**-1 #ft\n",
      "W=600 #lb\n",
      "# as theta=25 degrees,\n",
      "sintheta=0.422\n",
      "\n",
      "#calculations\n",
      "ax=(r*W*sintheta)*((r**-1)*14.5+r*18.6)**-1 #ft/s**2\n",
      "F=(W*sintheta)-(18.6*ax) #lb\n",
      "\n",
      "#Result\n",
      "print'The solution is F=',round(F,1),\"lb\",'and ax=',round(ax,2),\"ft/s**2\"\n"
     ],
     "language": "python",
     "metadata": {},
     "outputs": [
      {
       "output_type": "stream",
       "stream": "stdout",
       "text": [
        "The solution is F= 84.3 lb and ax= 9.08 ft/s**2\n"
       ]
      }
     ],
     "prompt_number": 78
    },
    {
     "cell_type": "heading",
     "level": 2,
     "metadata": {},
     "source": [
      "Example 16.16-62, Page No 378"
     ]
    },
    {
     "cell_type": "code",
     "collapsed": false,
     "input": [
      "import math\n",
      "\n",
      "#Initilization of variables\n",
      "m=7 #kg\n",
      "g=9.8 #m/s**2\n",
      "r=0.5 #m\n",
      "I=0.875 #kg.m**2\n",
      "\n",
      "#Calculations\n",
      "#Solving for alpha and T\n",
      "alpha=(m*g*r)/(I+m*r*0.5) #rad/s**2\n",
      "T=(I*alpha)/r #N\n",
      "\n",
      "#Result\n",
      "print'The soultion is alpha=',round(alpha,1),\"rad/s**2\",'and T=',round(T,1),\"N\"\n"
     ],
     "language": "python",
     "metadata": {},
     "outputs": [
      {
       "output_type": "stream",
       "stream": "stdout",
       "text": [
        "The soultion is alpha= 13.1 rad/s**2 and T= 22.9 N\n"
       ]
      }
     ],
     "prompt_number": 79
    }
   ],
   "metadata": {}
  }
 ]
}