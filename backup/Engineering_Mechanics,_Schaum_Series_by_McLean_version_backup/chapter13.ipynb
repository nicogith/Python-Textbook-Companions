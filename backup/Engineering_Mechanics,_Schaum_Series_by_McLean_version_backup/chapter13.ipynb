{
 "metadata": {
  "name": "chapter13.ipynb"
 },
 "nbformat": 3,
 "nbformat_minor": 0,
 "worksheets": [
  {
   "cells": [
    {
     "cell_type": "heading",
     "level": 1,
     "metadata": {},
     "source": [
      "Chapter 13: Dynamics of a Particle"
     ]
    },
    {
     "cell_type": "heading",
     "level": 2,
     "metadata": {},
     "source": [
      "Example 13.13-1, Page No 230"
     ]
    },
    {
     "cell_type": "code",
     "collapsed": false,
     "input": [
      "import math\n",
      "\n",
      "#Initilization of variables\n",
      "W=2 #lb\n",
      "F=1.5 #lb\n",
      "g=32.2 #ft/s**2\n",
      "\n",
      "#Angles are with respect to the plane are,\n",
      "# theta1=10 degrees & theta2=30 degrees\n",
      "sintheta1=0.17\n",
      "costheta1=0.99\n",
      "sintheta2=0.5\n",
      "costheta2=sqrt(3)*2**-1\n",
      "\n",
      "#Calculations\n",
      "#Now here the forces are considered as parallel and perpendicular to the plane \n",
      "#Applying Newtond Principle\n",
      "ax=(g/2)*(F*costheta1-(W*sintheta2)) #ft/s**2\n",
      "N1=(2*costheta2-(F*sintheta1)) #lb\n",
      "\n",
      "#result\n",
      "print'The force on the particle is',round(N1,2),\"lb\"\n",
      "print'The acceleration is',round(ax,2),\"ft/s**2\"\n",
      "\n",
      "# The answer may wary due to decimal point descrepancy."
     ],
     "language": "python",
     "metadata": {},
     "outputs": [
      {
       "output_type": "stream",
       "stream": "stdout",
       "text": [
        "The force on the particle is 1.48 lb\n",
        "The acceleration is 7.81 ft/s**2\n"
       ]
      }
     ],
     "prompt_number": 2
    },
    {
     "cell_type": "heading",
     "level": 2,
     "metadata": {},
     "source": [
      "Example 13.13-2, Page No 231"
     ]
    },
    {
     "cell_type": "code",
     "collapsed": false,
     "input": [
      "import math\n",
      "\n",
      "#Initilization of variables\n",
      "m=5 #kg\n",
      "s=12 #m\n",
      "v=4 #m/s\n",
      "vo=0 #m/s\n",
      "g=9.8 #m/s**2\n",
      "mu=0.25\n",
      "\n",
      "#Calculations\n",
      "#Using the kinematic equations of motion\n",
      "a=(v**2-vo**2)*(2*s)**-1 #m/s**2\n",
      "#Using Newtons Principle\n",
      "N1=g*m #N\n",
      "P=m*a+mu*N1 #N\n",
      "\n",
      "#Result\n",
      "print'The value of P is',round(P,1),\"N\"\n"
     ],
     "language": "python",
     "metadata": {},
     "outputs": [
      {
       "output_type": "stream",
       "stream": "stdout",
       "text": [
        "The value of P is 15.6 N\n"
       ]
      }
     ],
     "prompt_number": 9
    },
    {
     "cell_type": "heading",
     "level": 2,
     "metadata": {},
     "source": [
      "Example 13.13-3, Page No 232"
     ]
    },
    {
     "cell_type": "code",
     "collapsed": false,
     "input": [
      "import math\n",
      "\n",
      "#Initilization of variables\n",
      "m=2 #kg\n",
      "vo=0 #m/s\n",
      "v=3 #m/s\n",
      "s=0.8 #m\n",
      "# as theta=20 degrees,\n",
      "sintheta=0.34\n",
      "costheta=0.94\n",
      "g=9.8 #m/s**2\n",
      "\n",
      "#Calculations\n",
      "N=m*g*costheta #N\n",
      "a=(vo**2-v**2)*(2*s)**-1 #m/s**2\n",
      "u=-((2*a)+(m*g*sintheta))/N  \n",
      "#Solving for return speed\n",
      "#Symbol convention is different from textbook\n",
      "a_ret=((m*g*sintheta)-(u*N))/2 #m/s**2\n",
      "vf=sqrt((2*a_ret*s)) #m/s\n",
      "\n",
      "#Result\n",
      "print'The speed is',round(vf,1),\"m/s\"\n"
     ],
     "language": "python",
     "metadata": {},
     "outputs": [
      {
       "output_type": "stream",
       "stream": "stdout",
       "text": [
        "The speed is 1.3 m/s\n"
       ]
      }
     ],
     "prompt_number": 11
    },
    {
     "cell_type": "heading",
     "level": 2,
     "metadata": {},
     "source": [
      "Example 13.13-4, Page No 232"
     ]
    },
    {
     "cell_type": "code",
     "collapsed": false,
     "input": [
      "import math\n",
      "\n",
      "#Initilization of variables\n",
      "W=1800 #lb\n",
      "r=2000 #ft\n",
      "v=58.7 #ft/s\n",
      "g=32.2 #ft/s**2\n",
      "\n",
      "#Calculations\n",
      "F=(W*v*v)/(g*r) #lb\n",
      "\n",
      "#Result\n",
      "print'The frictional force to be exerted is',round(F,1),\"lb\"\n"
     ],
     "language": "python",
     "metadata": {},
     "outputs": [
      {
       "output_type": "stream",
       "stream": "stdout",
       "text": [
        "The frictional force to be exerted is 96.3 lb\n"
       ]
      }
     ],
     "prompt_number": 13
    },
    {
     "cell_type": "heading",
     "level": 2,
     "metadata": {},
     "source": [
      "Example 13.13-7, Page No 234"
     ]
    },
    {
     "cell_type": "code",
     "collapsed": false,
     "input": [
      "import math\n",
      "import numpy as np\n",
      "\n",
      "# Initilization of variables\n",
      "W=10 #lb\n",
      "# as theta=30 degrees,\n",
      "sintheta=2**-1\n",
      "costheta=sqrt(3)*2**-1\n",
      "l=2 #ft\n",
      "w=10 #rev/min\n",
      "g=32.2 # ft/s**2\n",
      "\n",
      "# Calculations\n",
      "r=l*costheta # ft\n",
      "a_n=r*(((w*2*pi)/60)**2) #ft/s**2\n",
      "#Applying Newtons Principle\n",
      "#Solving by matrix method\n",
      "A=np.array([[costheta,-sintheta],[sintheta,costheta]]) \n",
      "B=np.array([[(W*a_n)/g],[W]]) \n",
      "C=np.linalg.solve(A,B) #lb\n",
      "\n",
      "#Result\n",
      "print'The value of T is',round(C[0],2),\"lb\"\n",
      "\n"
     ],
     "language": "python",
     "metadata": {},
     "outputs": [
      {
       "output_type": "stream",
       "stream": "stdout",
       "text": [
        "The value of T is 5.51 lb\n"
       ]
      }
     ],
     "prompt_number": 15
    },
    {
     "cell_type": "heading",
     "level": 2,
     "metadata": {},
     "source": [
      "Example 13.13-8, Page No 235"
     ]
    },
    {
     "cell_type": "code",
     "collapsed": false,
     "input": [
      "import math\n",
      "\n",
      "#Initilization of variables\n",
      "m=4 #lb\n",
      "v=6 #ft/s\n",
      "r=2 #ft\n",
      "# as theta1=40 degrees & theta2=20 degrees\n",
      "sintheta1=0.64\n",
      "costheta1=0.77\n",
      "sintheta2=0.34\n",
      "costheta2=0.94\n",
      "g=32.2 #ft/s**2\n",
      "\n",
      "#Calculations\n",
      "a_n=v**2/r #ft/s**2\n",
      "#Applying Newtons Principle\n",
      "Fi=(m*a_n)/g #lb\n",
      "#Solving by matrix method\n",
      "A=np.array([[costheta1,costheta2],[sintheta1,-sintheta2]])\n",
      "B=np.array([[m],[Fi]]) \n",
      "C=np.linalg.solve(A,B) #lb\n",
      "\n",
      "#Result\n",
      "print'The values are: T=',round(C[0],2),\"lb\",'and C=',round(C[1],2),\"lb\"\n",
      "\n",
      "# The ans for C waries due to decimal point descrepancy."
     ],
     "language": "python",
     "metadata": {},
     "outputs": [
      {
       "output_type": "stream",
       "stream": "stdout",
       "text": [
        "The values are: T= 4.01 lb and C= 0.97 lb\n"
       ]
      }
     ],
     "prompt_number": 16
    },
    {
     "cell_type": "heading",
     "level": 2,
     "metadata": {},
     "source": [
      "Example 13.13-10, Page No 237"
     ]
    },
    {
     "cell_type": "code",
     "collapsed": false,
     "input": [
      "import math\n",
      "\n",
      "#Initilization of variables\n",
      "m1=2 #kg\n",
      "# as theta=20 degrees,\n",
      "sintheta=0.34\n",
      "m2=4 #kg\n",
      "t=4 #s\n",
      "g=9.8 #m/s**2\n",
      "vo=0 #m/s\n",
      "\n",
      "#Calculations\n",
      "#Applying Newtons Principle\n",
      "#Solving by matrix method\n",
      "A=np.array([[1,-2],[1,4]])\n",
      "B=np.array([[m1*g*sintheta],[m2*g]])\n",
      "C=np.linalg.solve(A,B)\n",
      "a=C[1] #m/s**2\n",
      "v=vo+a*t #m/s\n",
      "\n",
      "#Result\n",
      "print'The velocity of 4kg mass is',round(v,1),\"m/s\"\n"
     ],
     "language": "python",
     "metadata": {},
     "outputs": [
      {
       "output_type": "stream",
       "stream": "stdout",
       "text": [
        "The velocity of 4kg mass is 21.7 m/s\n"
       ]
      }
     ],
     "prompt_number": 18
    },
    {
     "cell_type": "heading",
     "level": 2,
     "metadata": {},
     "source": [
      "Example 13.13-11, Page No 237"
     ]
    },
    {
     "cell_type": "code",
     "collapsed": false,
     "input": [
      "import math\n",
      "\n",
      "#Initilization of variables\n",
      "m_A=20 #lb\n",
      "m_B=60 #lb\n",
      "u=0.3 #coefficient of friction\n",
      "t=4 #s\n",
      "# as theta1=30 degrees & theta2=60 degrees,\n",
      "sintheta1=2**-1\n",
      "costheta1=sqrt(3)*2**-1\n",
      "sintheta2=sqrt(3)*2**-1\n",
      "costheta2=2**-1\n",
      "g=32.2 #ft/s^2\n",
      "vo=0 #ft/s\n",
      "\n",
      "#Calculations\n",
      "N1=m_A*costheta1 #lb\n",
      "N2=m_B*costheta2 #lb\n",
      "#Solving for T and a using matrix method\n",
      "A=np.array([[1,-m_A/g],[-1,-m_B/g]])\n",
      "B=np.array([[(m_A*sintheta1+u*N1)],[(-m_B*sintheta2+u*N2)]]) \n",
      "C=np.linalg.solve(A,B)\n",
      "a=C[1] #ft/s**2\n",
      "v=vo+a*t #ft/s\n",
      "\n",
      "#Result\n",
      "print'The velocity is',round(v,1),\"ft/s\"\n",
      "\n",
      "# The ans in the textbook is incorrect."
     ],
     "language": "python",
     "metadata": {},
     "outputs": [
      {
       "output_type": "stream",
       "stream": "stdout",
       "text": [
        "The velocity is 44.7 ft/s\n"
       ]
      }
     ],
     "prompt_number": 20
    },
    {
     "cell_type": "heading",
     "level": 2,
     "metadata": {},
     "source": [
      "Example 13.13-12, Page No 238"
     ]
    },
    {
     "cell_type": "code",
     "collapsed": false,
     "input": [
      "import math\n",
      "\n",
      "#Initilization of variables\n",
      "m_A=40 #kg\n",
      "m_B=15 #kg\n",
      "F=500 #N\n",
      "g=9.8 #m/s**2\n",
      "# as theta=30 degrees,\n",
      "sintheta=2**-1\n",
      "costheta=sqrt(3)*2**-1\n",
      "\n",
      "#Calculations\n",
      "m=m_A+m_B #kg\n",
      "a=(F-m*g*sintheta)/(m) #m/s**2\n",
      "#Summing forces parallel and perpendicular to the plane\n",
      "#Simplfying equation (1) and (2)\n",
      "Nb=m_B*g+(m_B*a*sintheta) #N\n",
      "#Substituting this in eq(1)\n",
      "u=-(m_B*g*costheta-(Nb*costheta))/(Nb*sintheta)\n",
      "\n",
      "#Result\n",
      "print'The value of u is',round(u,2)\n"
     ],
     "language": "python",
     "metadata": {},
     "outputs": [
      {
       "output_type": "stream",
       "stream": "stdout",
       "text": [
        "The value of u is 0.31\n"
       ]
      }
     ],
     "prompt_number": 26
    },
    {
     "cell_type": "heading",
     "level": 2,
     "metadata": {},
     "source": [
      "Example 13.13-13, Page No 239"
     ]
    },
    {
     "cell_type": "code",
     "collapsed": false,
     "input": [
      "import math\n",
      "\n",
      "#Initilization of variables\n",
      "P=70 #N\n",
      "m_A=16 #kg\n",
      "u_AH=0.25 #coefficient of friction between Block A and Horizontal Plane\n",
      "m_B=4 #kg\n",
      "u_BH=0.5 #coefficient of friction between Block B and Horizontal Plane\n",
      "# as theta=10 degrees,\n",
      "sintheta=0.17\n",
      "costheta=0.98\n",
      "g=9.8 #m/s**2\n",
      "\n",
      "#Calculations\n",
      "#Applying sum of forces to both the FBD's\n",
      "#Solving by matrix method \n",
      "A=np.array([[-costheta,-u_AH,-m_A,0],[-sintheta,1,0,0],[costheta,0,-m_B,-u_BH],[sintheta,0,0,1]]) \n",
      "B=np.array([[-P],[m_A*g],[0],[m_B*g]])\n",
      "C=np.linalg.solve(A,B) \n",
      "\n",
      "#Result\n",
      "print'The Value of T is',round(C[0],1),\"N\"\n",
      "\n",
      "# The ans waries due to decimal point descrepancy."
     ],
     "language": "python",
     "metadata": {},
     "outputs": [
      {
       "output_type": "stream",
       "stream": "stdout",
       "text": [
        "The Value of T is 20.7 N\n"
       ]
      }
     ],
     "prompt_number": 28
    },
    {
     "cell_type": "heading",
     "level": 2,
     "metadata": {},
     "source": [
      "Example 13.13-14, Page No 239"
     ]
    },
    {
     "cell_type": "code",
     "collapsed": false,
     "input": [
      "import math\n",
      "\n",
      "#Initilization of variables\n",
      "# as theta=10 degrees\n",
      "sintheta=0.1736\n",
      "costheta=0.9848\n",
      "v=10 #ft/s\n",
      "v0=0 #ft/s\n",
      "u=3**-1 #coefficient of friction\n",
      "g=32.2 #ft/s**2\n",
      "\n",
      "#Calculations\n",
      "#Equations of motion for box are\n",
      "#Simplfying the equations by sybstitution\n",
      "a=((u*costheta)-(sintheta))*g #ft/s**2\n",
      "#Time calculations\n",
      "t=(v-v0)/a #s\n",
      "\n",
      "#Result\n",
      "print'The value of a is',round(a,2),\"ft/s**2\",'and the time required is',round(t),\"seconds\"\n"
     ],
     "language": "python",
     "metadata": {},
     "outputs": [
      {
       "output_type": "stream",
       "stream": "stdout",
       "text": [
        "The value of a is 4.98 ft/s**2 and the time required is 2.0 seconds\n"
       ]
      }
     ],
     "prompt_number": 35
    },
    {
     "cell_type": "heading",
     "level": 2,
     "metadata": {},
     "source": [
      "Example 13.13-15, Page No 240"
     ]
    },
    {
     "cell_type": "code",
     "collapsed": false,
     "input": [
      "import math\n",
      "\n",
      "#Initilization of variables\n",
      "g=9.8 #m/s**2\n",
      "\n",
      "#Calculations\n",
      "#Simplfying the equations we can solve for T2 and aA first to obtain the solution\n",
      "#Solving by matrix method\n",
      "A=np.array([[-1.5,-4],[-3.5,24]])\n",
      "B=np.array([[-4*g],[-24*g]])\n",
      "C=np.linalg.solve(A,B) \n",
      "T2=C[0] #N\n",
      "T1=T2/2 #N\n",
      "T3=T2/2 #N\n",
      "#Acceleration calculations\n",
      "a1=1*g-T1 #m/s**2\n",
      "a2=(2*g-T1)/2 #m/s**2\n",
      "a3=(3*g-T3)/3 #m/s**2\n",
      "a4=(4*g-T3)/4 #m/s**2\n",
      "#Tension in fixed cord\n",
      "T_f=2*T2 #N\n",
      "\n",
      "#Result\n",
      "print'The acceleration values are: a1=',round(a1),\"m/s**2 (up)\",',',round(a2,1),\"m/s**2 (down)\",',',round(a3,2),\"m/s**2 (down)\",',',round(a4,1),\"m/s**2 (down) respectively.\"\n",
      "print'The tension in the fixed cord is',round(T_f,1),\"N\"\n"
     ],
     "language": "python",
     "metadata": {},
     "outputs": [
      {
       "output_type": "stream",
       "stream": "stdout",
       "text": [
        "The acceleration values are: a1= -9.0 m/s**2 (up) , 0.4 m/s**2 (down) , 3.53 m/s**2 (down) , 5.1 m/s**2 (down) respectively.\n",
        "The tension in the fixed cord is 75.3 N\n"
       ]
      }
     ],
     "prompt_number": 39
    },
    {
     "cell_type": "heading",
     "level": 2,
     "metadata": {},
     "source": [
      "Example 13.13-16, Page No 241"
     ]
    },
    {
     "cell_type": "code",
     "collapsed": false,
     "input": [
      "import math\n",
      "\n",
      "#Initilization of variables\n",
      "m1=14 #kg\n",
      "m2=7 #kg\n",
      "# as theta=45 degrees,\n",
      "sintheta=sqrt(2)**-1\n",
      "costheta=sqrt(2)**-1\n",
      "u_1=4**-1 #coefficient of friction between mass 1 and plane\n",
      "u_2=3*8**-1 #coefficient of friction between mass 2 and plane\n",
      "g=9.8 #m/s**2\n",
      "\n",
      "#Calculations\n",
      "#The equations of motion for m1 are\n",
      "N1=m1*g*costheta #N\n",
      "F1=u_1*N1 #N\n",
      "#The equations of motion for m2 are\n",
      "N2=m2*g*costheta #N\n",
      "F2=u_2*N2 #N\n",
      "#Now to get T and a we solve using matrix method\n",
      "A=np.array([[-1,-m1],[1,-m2]])\n",
      "B=np.array([[-(m1*g*sintheta-F1)],[-(m2*g*sintheta-F2)]])\n",
      "C=np.linalg.solve(A,B)\n",
      "\n",
      "#Result\n",
      "print'The Value of T is',round(C[0]),\"N\"\n"
     ],
     "language": "python",
     "metadata": {},
     "outputs": [
      {
       "output_type": "stream",
       "stream": "stdout",
       "text": [
        "The Value of T is 4.0 N\n"
       ]
      }
     ],
     "prompt_number": 40
    },
    {
     "cell_type": "heading",
     "level": 2,
     "metadata": {},
     "source": [
      "Example 13.13-19, Page No 244"
     ]
    },
    {
     "cell_type": "code",
     "collapsed": false,
     "input": [
      "import math\n",
      "\n",
      "#Initilization of variables\n",
      "W=12 #oz\n",
      "k=2 #oz/in\n",
      "M=0.34 #kg\n",
      "K=22 #N/m\n",
      "g=32.2 #ft/s**2\n",
      "\n",
      "#Calculations\n",
      "#Part(a)\n",
      "a=(k*W*g)/16\n",
      "b=W*16**-1\n",
      "f=((2*pi)**-1)*((a/b)**0.5) #Hz for simplicity the numerator and denominator have been computed seperately as a and b\n",
      "#Part(b)\n",
      "F=((2*pi)**-1)*((K/M)**0.5) #Hz\n",
      "\n",
      "#Result\n",
      "print'The frequency in part (a) is',round(f,2),\"Hz\",'and in part(b) is',round(F,2),\"Hz\"\n"
     ],
     "language": "python",
     "metadata": {},
     "outputs": [
      {
       "output_type": "stream",
       "stream": "stdout",
       "text": [
        "The frequency in part (a) is 1.28 Hz and in part(b) is 1.28 Hz\n"
       ]
      }
     ],
     "prompt_number": 41
    },
    {
     "cell_type": "heading",
     "level": 2,
     "metadata": {},
     "source": [
      "Example 13.13-20, Page No 244"
     ]
    },
    {
     "cell_type": "code",
     "collapsed": false,
     "input": [
      "import math\n",
      "\n",
      "#As the entire question is theoritical\n",
      "#theta is directly computed \n",
      "theta=arccos(2*3**-1)*(180/pi) #degrees\n",
      "\n",
      "#result\n",
      "print'The value of theta is',round(theta,1),\"degrees\"\n"
     ],
     "language": "python",
     "metadata": {},
     "outputs": [
      {
       "output_type": "stream",
       "stream": "stdout",
       "text": [
        "The value of theta is 48.2 degrees\n"
       ]
      }
     ],
     "prompt_number": 43
    },
    {
     "cell_type": "heading",
     "level": 2,
     "metadata": {},
     "source": [
      "Example 13.13-28, Page No 254"
     ]
    },
    {
     "cell_type": "code",
     "collapsed": false,
     "input": [
      "import math\n",
      "\n",
      "#Initilization of variables\n",
      "G=6.658*(10**-8)**-1 #cm**3/g.s**2\n",
      "#Calculations\n",
      "G1=G*((3.281*10**2)/((2.205*32.2**-1)*10**4)) #ft**3/slug-s**2\n",
      "G2=G1 #ft**4/lb-s**4\n",
      "\n",
      "#Result\n",
      "print'The ans is',round(G2,2),\"ft**4/lb-s**4\"\n",
      "\n",
      "# The ans waries slightly due to decimal point descrepancy."
     ],
     "language": "python",
     "metadata": {},
     "outputs": [
      {
       "output_type": "stream",
       "stream": "stdout",
       "text": [
        "The ans is 319004859.68 ft**4/lb-s**4\n"
       ]
      }
     ],
     "prompt_number": 51
    },
    {
     "cell_type": "heading",
     "level": 2,
     "metadata": {},
     "source": [
      "Example 13.13-29, Page No 254"
     ]
    },
    {
     "cell_type": "code",
     "collapsed": false,
     "input": [
      "import math\n",
      "\n",
      "#Initilization of variables\n",
      "#Modifying the value of C without vo**2 in it\n",
      "C=5000*5280\n",
      "G=3.43*10**-8 #Gravatational Constant\n",
      "M=4.09*10**23 #Mass of the Earth\n",
      "a=5.31*10**8\n",
      "#When the orbit is circular e=0\n",
      "vo1=(a)**0.5 #ft/s\n",
      "#When the orbit is parabolic e=1\n",
      "vo2=((C*a+G*M)/C)**0.5 #ft/s\n",
      "\n",
      "#Result\n",
      "print'The value of vo1=',round(vo1),\"ft/s\",'is smaller than vo2=',round(vo2),\"ft/s, hence the Satellite will enter a hyperbolic path and never return to earth.\"\n",
      "#Decimal accuracy causes discrepancy in answers\n"
     ],
     "language": "python",
     "metadata": {},
     "outputs": [
      {
       "output_type": "stream",
       "stream": "stdout",
       "text": [
        "The value of vo1= 23043.0 ft/s is smaller than vo2= 32594.0 ft/s, hence the Satellite will enter a hyperbolic path and never return to earth.\n"
       ]
      }
     ],
     "prompt_number": 53
    },
    {
     "cell_type": "heading",
     "level": 2,
     "metadata": {},
     "source": [
      "Example 13.13-30, Page No 255"
     ]
    },
    {
     "cell_type": "code",
     "collapsed": false,
     "input": [
      "import math\n",
      "\n",
      "#Initilization of variables\n",
      "r=3940+500 #mi\n",
      "phi=0 #degrees\n",
      "vo=36000 #ft/s\n",
      "C=4440*5280*vo\n",
      "G=3.43*10**-8\n",
      "M=4.09*10**23 #kg\n",
      "\n",
      "#Calculations\n",
      "e=((C*vo)/(G*M))-1\n",
      "\n",
      "#Result\n",
      "print'The value of e=',round(e,2),\",hence the path is Hyperbolic\"\n"
     ],
     "language": "python",
     "metadata": {},
     "outputs": [
      {
       "output_type": "stream",
       "stream": "stdout",
       "text": [
        "The value of e= 1.17 ,hence the path is Hyperbolic\n"
       ]
      }
     ],
     "prompt_number": 54
    },
    {
     "cell_type": "heading",
     "level": 2,
     "metadata": {},
     "source": [
      "Example 13.13-31, Page No 255"
     ]
    },
    {
     "cell_type": "code",
     "collapsed": false,
     "input": [
      "import math\n",
      "\n",
      "#Initilization of variables\n",
      "a=92.9*10**6 #mi\n",
      "G=3.43*10**-8\n",
      "T=365*24*3600 #s\n",
      "c=5280\n",
      "\n",
      "#Calculations\n",
      "M=(4*pi**2*a**3*c**3)/(G*T**2) #slugs\n",
      "\n",
      "#Result\n",
      "print'The mass of the sun is',round(M,1),\"slugs\"\n"
     ],
     "language": "python",
     "metadata": {},
     "outputs": [
      {
       "output_type": "stream",
       "stream": "stdout",
       "text": [
        "The mass of the sun is 1.36584467048e+29 slugs\n"
       ]
      }
     ],
     "prompt_number": 56
    }
   ],
   "metadata": {}
  }
 ]
}