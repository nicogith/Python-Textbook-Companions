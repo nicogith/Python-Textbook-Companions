{
 "metadata": {
  "name": "chapter15.ipynb"
 },
 "nbformat": 3,
 "nbformat_minor": 0,
 "worksheets": [
  {
   "cells": [
    {
     "cell_type": "heading",
     "level": 1,
     "metadata": {},
     "source": [
      "Chapter 15: Moments of Inertia"
     ]
    },
    {
     "cell_type": "heading",
     "level": 2,
     "metadata": {},
     "source": [
      "Example 15.15-11, Page no 305"
     ]
    },
    {
     "cell_type": "code",
     "collapsed": false,
     "input": [
      "import math\n",
      "\n",
      "#Initilization of variables\n",
      "y1=1 #in\n",
      "y2=4 #in\n",
      "d1=2.2-1 #in\n",
      "d2=4-2.2 #in\n",
      "A1=12 #in**2\n",
      "A2=8 #in**2\n",
      "b1=6 #in\n",
      "b2=2 #in\n",
      "h1=2 #in\n",
      "h2=4 #in\n",
      "\n",
      "#Calculations\n",
      "y_bar=(A1*y1+A2*y2)/(A1+A2) #in\n",
      "I1=(12**-1)*(b1)*(h1**3) #in**4\n",
      "I2=(12**-1)*(b2)*(h2**3) #in**4\n",
      "#Using Parallel Axes Theorem\n",
      "I=(I1+(A1*d1**2))+(I2+(A2*d2**2)) #in**4\n",
      "\n",
      "#Result\n",
      "print'The moment of inertia is',round(I,1),\"in**4\"\n"
     ],
     "language": "python",
     "metadata": {},
     "outputs": [
      {
       "output_type": "stream",
       "stream": "stdout",
       "text": [
        "The moment of inertia is 57.9 in**4\n"
       ]
      }
     ],
     "prompt_number": 2
    },
    {
     "cell_type": "heading",
     "level": 2,
     "metadata": {},
     "source": [
      "Example 15.15-12, Page no 306"
     ]
    },
    {
     "cell_type": "code",
     "collapsed": false,
     "input": [
      "import math\n",
      "\n",
      "#Initilization of variables\n",
      "d=60 #mm diameter of the hole\n",
      "#Areas\n",
      "At=100*100 #mm**2\n",
      "Ab=200*100 #mm**2\n",
      "Ac=((pi/4)*d**2) #mm**2\n",
      "bt=100 #mm\n",
      "ht=100 #mm\n",
      "bb=200 #mm\n",
      "hb=100 #mm\n",
      "#Distance of centroids of each area\n",
      "yt=150 #mm\n",
      "yb=50 #mm\n",
      "yc=150 #mm\n",
      "\n",
      "#Calculations\n",
      "y_bar=((At*yt)+(Ab*yb)-(Ac*yc))/(At+Ab-Ac) #mm\n",
      "#Distances\n",
      "dt=yt-y_bar #mm\n",
      "db=y_bar-yb #mm\n",
      "dc=yc-y_bar #mm\n",
      "#Values of Inertia\n",
      "It=(12**-1)*(bt)*(ht**3) #mm**4\n",
      "Ib=(12**-1)*(bb)*(hb**3) #mm**4\n",
      "Ic=(4**-1)*(pi)*((d/2)**4) #mm**4\n",
      "#Moment of inertia\n",
      "I=((It+At*dt**2)+(Ib+Ab*db**2)-(Ic+Ac*dc**2)) #mm**4\n",
      "\n",
      "#Result\n",
      "print'The moment of inertia is',round(I,1),\"mm**4\"\n"
     ],
     "language": "python",
     "metadata": {},
     "outputs": [
      {
       "output_type": "stream",
       "stream": "stdout",
       "text": [
        "The moment of inertia is 77156533.6 mm**4\n"
       ]
      }
     ],
     "prompt_number": 7
    },
    {
     "cell_type": "heading",
     "level": 2,
     "metadata": {},
     "source": [
      "Example 15.15-14, Page no 308"
     ]
    },
    {
     "cell_type": "code",
     "collapsed": false,
     "input": [
      "import math\n",
      "\n",
      "#Initilization of variables\n",
      "b1=2 #in\n",
      "b2=4 #in\n",
      "h1=8 #in\n",
      "h2=2 #in\n",
      "bo=8 #in\n",
      "ho=8 #in\n",
      "bi=4 #in\n",
      "hi=4 #in\n",
      "\n",
      "#Calculations\n",
      "I1=(12**-1)*(b1)*(h1**3) #in**4\n",
      "I2=(12**-1)*(b2)*(h2**3) #in**4\n",
      "I=2*(I1+I2) #in**4\n",
      "Io=(12**-1)*(bo)*(ho**3) #in**4\n",
      "Ii=(12**-1)*(bi)*(hi**3) #in**4\n",
      "I_bar=Io-Ii #in**4\n",
      "\n",
      "#Result\n",
      "print'The moment of inertia is',round(I_bar),\"in**4\"\n"
     ],
     "language": "python",
     "metadata": {},
     "outputs": [
      {
       "output_type": "stream",
       "stream": "stdout",
       "text": [
        "The moment of inertia is 320.0 in**4\n"
       ]
      }
     ],
     "prompt_number": 8
    },
    {
     "cell_type": "heading",
     "level": 2,
     "metadata": {},
     "source": [
      "Example 15.15-15, Page no 308"
     ]
    },
    {
     "cell_type": "code",
     "collapsed": false,
     "input": [
      "import math\n",
      "\n",
      "#Initilization of variables\n",
      "b1=75 #mm\n",
      "b2=12 #mm\n",
      "h1=12 #mm\n",
      "h2=162 #mm\n",
      "d1=75 #mm\n",
      "\n",
      "#Calculations\n",
      "A=(h2*b2)+(2*b1*h1) #mm**2\n",
      "I1=(12**-1)*(b1)*(h1**3)+(b1*h1*d1**2) #mm**4\n",
      "I2=(12**-1)*(b2)*(h2**3) #mm**4\n",
      "I_bar=2*I1+I2 #mm**4\n",
      "k=sqrt(I_bar/A) #mm\n",
      "\n",
      "#Result\n",
      "print'The axial moment of inertia is',round(I_bar,1),\"mm**4\"\n",
      "print'The radius of gyration is',round(k,1),\"mm\"\n",
      "\n",
      "# Here value of k is off by 0.1 mm"
     ],
     "language": "python",
     "metadata": {},
     "outputs": [
      {
       "output_type": "stream",
       "stream": "stdout",
       "text": [
        "The axial moment of inertia is 14398128.0 mm**4\n",
        "The radius of gyration is 62.0 mm\n"
       ]
      }
     ],
     "prompt_number": 4
    },
    {
     "cell_type": "heading",
     "level": 2,
     "metadata": {},
     "source": [
      "Example 15.15-20, Page no 311"
     ]
    },
    {
     "cell_type": "code",
     "collapsed": false,
     "input": [
      "import math\n",
      "\n",
      "#Initilization of variables\n",
      "r=50 #mm\n",
      "\n",
      "#Calculations\n",
      "Ixy=(8**-1)*(50**4) #mm**4\n",
      "\n",
      "#Result\n",
      "print'The moment of inertia is',round(Ixy,2),\"mm**4\"\n"
     ],
     "language": "python",
     "metadata": {},
     "outputs": [
      {
       "output_type": "stream",
       "stream": "stdout",
       "text": [
        "The moment of inertia is 781250.0 mm**4\n"
       ]
      }
     ],
     "prompt_number": 11
    },
    {
     "cell_type": "heading",
     "level": 2,
     "metadata": {},
     "source": [
      "Example 15.15-24, Page no 314"
     ]
    },
    {
     "cell_type": "code",
     "collapsed": false,
     "input": [
      "import math\n",
      "\n",
      "#The notation has been changed for ease\n",
      "\n",
      "#Calculations\n",
      "x=(5*1*3.5+8*1*0.5)/(5*1+8*1) #in\n",
      "y=(5*1*0.5+8*1*4)/13 #in\n",
      "#Moment of inertia \n",
      "Ix=(12**-1)*(5)*(1**3)+(5*2.15*2.15)+(12**-1)*(1*8**3)+(8*1.35**2) #in**4\n",
      "Iy=(12**-1)*(1)*(5**3)+(5*1.85*1.85)+(12**-1)*(8)*(1**3)+(8*1.15**2) #in**4\n",
      "Ixy=(8*1*(-1.15)*1.35)+(5*1*1.85*(-2.15)) #in**4\n",
      "#Mohr circle calculations\n",
      "d=0.5*(Ix+Iy) #distance to center of the cirlce \n",
      "r=sqrt((21**2)+(32.3**2)) \n",
      "maxI=d+r #in**4\n",
      "theta=arctan(32.3/21)*(180/pi) #degrees maxI occurs at this angle\n",
      "minI=d-r #in**4\n",
      "\n",
      "#Result\n",
      "print'The moment of inertias are as follows:'\n",
      "print'Ix=',round(Ix,1),\"in**4\"\n",
      "print'Iy=',round(Iy,1),\"in**4\"\n",
      "print'Ixy=',round(Ixy,1),\"in**4\"\n",
      "print'maxI=',round(maxI,1),\"in**4\"\n",
      "print'minI=',round(minI,1),\"in**4\"\n"
     ],
     "language": "python",
     "metadata": {},
     "outputs": [
      {
       "output_type": "stream",
       "stream": "stdout",
       "text": [
        "The moment of inertias are as follows:\n",
        "Ix= 80.8 in**4\n",
        "Iy= 38.8 in**4\n",
        "Ixy= -32.3 in**4\n",
        "maxI= 98.3 in**4\n",
        "minI= 21.2 in**4\n"
       ]
      }
     ],
     "prompt_number": 16
    },
    {
     "cell_type": "heading",
     "level": 2,
     "metadata": {},
     "source": [
      "Example 15.15-25, Page no 315"
     ]
    },
    {
     "cell_type": "code",
     "collapsed": false,
     "input": [
      "import math\n",
      "\n",
      "#Notations have been changed\n",
      "\n",
      "#Calculations\n",
      "x=-(25*125*0.5*125+25*100*0.5*25)/(25*125+25*100) #mm\n",
      "y=(25*125*0.5*25+25*100*75)/5625 #mm \n",
      "Iy=(12**-1)*25*125**3+25*125*(62.5-40.3)**2+(12**-1)*100*25**3+100*25*(40.3-12.5)**2 #mm**4\n",
      "Ix=Iy #mm**4 for L-section\n",
      "#The second computation checks the first\n",
      "Ixy=(125*25*22.2*27.8)+(100*25*(-27.8)*(-34.7)) #mm**4\n",
      "#Mohr Circle analysis\n",
      "Imax=Ix+Ixy #mm**4\n",
      "Imin=Ix-Ixy #mm**4\n",
      "\n",
      "#Result\n",
      "print'The moment of inertias are as follows:'\n",
      "print'Ix=',round(Ix,2),\"mm**4\"\n",
      "print'Iy=',round(Iy,2),\"mm**4\"\n",
      "print'Ixy=',round(Ixy,2),\"mm**4\"\n",
      "print'Imax=',round(Imax),\"mm**4\"\n",
      "print'Imin=',round(Imin,2),\"mm**4\"\n"
     ],
     "language": "python",
     "metadata": {},
     "outputs": [
      {
       "output_type": "stream",
       "stream": "stdout",
       "text": [
        "The moment of inertias are as follows:\n",
        "Ix= 7671443.75 mm**4\n",
        "Iy= 7671443.75 mm**4\n",
        "Ixy= 4340275.0 mm**4\n",
        "Imax= 12011719.0 mm**4\n",
        "Imin= 3331168.75 mm**4\n"
       ]
      }
     ],
     "prompt_number": 18
    },
    {
     "cell_type": "heading",
     "level": 2,
     "metadata": {},
     "source": [
      "Example 15.15-30, Page no 320"
     ]
    },
    {
     "cell_type": "code",
     "collapsed": false,
     "input": [
      "import math\n",
      "\n",
      "#Initilization of variables\n",
      "rho=490 #lb/ft**3\n",
      "t=0.02 #in\n",
      "d=4 #in\n",
      "r=d/2 #in\n",
      "g=32.2 #ft/s**2\n",
      "\n",
      "#Calculations\n",
      "W=(pi*r**2*t*rho)*1728**-1 #lb\n",
      "#Mass\n",
      "m=W*g**-1 #slugs\n",
      "#Momemt of inertia\n",
      "I=(4**-1)*m*(r*12**-1)**2 #slug-ft**2\n",
      "\n",
      "#Result\n",
      "print'The moment of inertia is',round(I,6),\"slug-ft**2\""
     ],
     "language": "python",
     "metadata": {},
     "outputs": [
      {
       "output_type": "stream",
       "stream": "stdout",
       "text": [
        "The moment of inertia is 1.5e-05 slug-ft**2\n"
       ]
      }
     ],
     "prompt_number": 18
    },
    {
     "cell_type": "heading",
     "level": 2,
     "metadata": {},
     "source": [
      "Example 15.15-36, Page no 322"
     ]
    },
    {
     "cell_type": "code",
     "collapsed": false,
     "input": [
      "import math\n",
      "\n",
      "#Initilization of variables\n",
      "#The integration involves variables hence the direct formula is being used in this coding\n",
      "m=500 #kg\n",
      "R=0.25 #m\n",
      "h=0.5 #m\n",
      "\n",
      "#Calculations\n",
      "Ix=(3*10**-1)*m*R**2 #kg.m**2\n",
      "Iy=(3*5**-1)*m*((4**-1)*R**2+h**2) #kg.m**2\n",
      "\n",
      "#Result\n",
      "print'Hence proved that Ix=',round(Ix,2),\"kg.m**2\" \n",
      "print'and Iy=',round(Iy,1),\"kg.m**2\"\n"
     ],
     "language": "python",
     "metadata": {},
     "outputs": [
      {
       "output_type": "stream",
       "stream": "stdout",
       "text": [
        "Hence proved that Ix= 9.38 kg.m**2\n",
        "and Iy= 79.7 kg.m**2\n"
       ]
      }
     ],
     "prompt_number": 27
    },
    {
     "cell_type": "heading",
     "level": 2,
     "metadata": {},
     "source": [
      "Example 15.15-37, Page no 323"
     ]
    },
    {
     "cell_type": "code",
     "collapsed": false,
     "input": [
      "import math\n",
      "\n",
      "#Initilization of variables\n",
      "delta=450 #lb/ft**3\n",
      "h1=9*12**-1 #ft\n",
      "h2=10*12**-1 #ft\n",
      "ro1=4*12**-1 #ft\n",
      "ri1=2*12**-1 #ft\n",
      "ro2=18*12**-1 #ft\n",
      "ri2=16*12**-1 #ft\n",
      "a=2.5*24**-1 #ft\n",
      "b=3.5*24**-1 #ft\n",
      "l=1 #ft\n",
      "g=32.2 #ft/s**2\n",
      "\n",
      "#Calculations\n",
      "Whub=(pi*ro1**2-pi*ri1**2)*h1*delta #lb\n",
      "Wrim=(pi*ro2**2-pi*ri2**2)*h2*delta #lb\n",
      "#For one spoke\n",
      "Wspoke=(pi*a*b*l*delta) #lb\n",
      "#Moment of inertia calculations\n",
      "Ihub=0.5*(Whub*g**-1)*(ro1**2+ri1**2) #lb-s**2-ft\n",
      "Irim=0.5*(Wrim*g**-1)*(ro2**2+ri2**2) #lb-s**2-ft\n",
      "Ispoke=6*((12**-1)*(Wspoke*g**-1)*l**2+(Wspoke*g**-1)*h2**2) #lb-s**2-ft\n",
      "Iwheel=Ihub+Irim+Ispoke #lb-s**2-ft\n",
      "\n",
      "#Result\n",
      "print'The moment of inertia of the wheel is',round(Iwheel,1),\"lb-s**s-ft\""
     ],
     "language": "python",
     "metadata": {},
     "outputs": [
      {
       "output_type": "stream",
       "stream": "stdout",
       "text": [
        "The moment of inertia of the wheel is 38.1 lb-s**s-ft\n"
       ]
      }
     ],
     "prompt_number": 20
    }
   ],
   "metadata": {}
  }
 ]
}