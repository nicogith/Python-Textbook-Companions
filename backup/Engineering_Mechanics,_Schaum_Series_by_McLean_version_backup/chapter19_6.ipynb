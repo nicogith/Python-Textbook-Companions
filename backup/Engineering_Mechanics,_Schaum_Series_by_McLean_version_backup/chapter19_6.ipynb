{
 "metadata": {
  "name": "chapter19.ipynb"
 },
 "nbformat": 3,
 "nbformat_minor": 0,
 "worksheets": [
  {
   "cells": [
    {
     "cell_type": "heading",
     "level": 1,
     "metadata": {},
     "source": [
      "Chapter 19: Mechanical Vibrations"
     ]
    },
    {
     "cell_type": "heading",
     "level": 2,
     "metadata": {},
     "source": [
      "Example 19.19-2, Page No:465"
     ]
    },
    {
     "cell_type": "code",
     "collapsed": false,
     "input": [
      "import math\n",
      "#Initilization of variables\n",
      "k=18 #lb/in\n",
      "g=386 #in/s**2\n",
      "W=35 #lb\n",
      "\n",
      "#Calculations\n",
      "f=(1/(2*pi))*sqrt((k*g/W)) #cps\n",
      "period=1/f #s\n",
      "\n",
      "#Result\n",
      "print'The period of vibration is',round(period,2),\"s\"\n"
     ],
     "language": "python",
     "metadata": {},
     "outputs": [
      {
       "output_type": "stream",
       "stream": "stdout",
       "text": [
        "The period of vibration is 0.45 s\n"
       ]
      }
     ],
     "prompt_number": 4
    },
    {
     "cell_type": "heading",
     "level": 2,
     "metadata": {},
     "source": [
      "Example 19.19-11, Page No:471"
     ]
    },
    {
     "cell_type": "code",
     "collapsed": false,
     "input": [
      "import math\n",
      "\n",
      "#Initilization of variables\n",
      "ds=0.2 #m\n",
      "ts=0.05 #m\n",
      "rhos=7850 #kg/m**3 density of  steel\n",
      "dw=0.002 #m\n",
      "lw=0.9 #m\n",
      "G=80*10**9 #Pa\n",
      "\n",
      "#Calculations\n",
      "#Torsional Constant\n",
      "K=(pi*dw**4*G)/(32*lw) #m/rad\n",
      "#Mass Calculations\n",
      "m=(4**-1)*pi*(ds**2)*ts*rhos #kg\n",
      "#Moment of Inertia\n",
      "Io=(0.5)*m*(ds*2**-1)**2 #kg.m**2\n",
      "#Frequency\n",
      "f=(1*(2*pi)**-1)*(sqrt(K*Io**-1)) #Hz\n",
      "\n",
      "#Result\n",
      "print'The natural frequency of the system is',round(f,2),\"Hz\"\n"
     ],
     "language": "python",
     "metadata": {},
     "outputs": [
      {
       "output_type": "stream",
       "stream": "stdout",
       "text": [
        "The natural frequency of the system is 0.24 Hz\n"
       ]
      }
     ],
     "prompt_number": 6
    },
    {
     "cell_type": "heading",
     "level": 2,
     "metadata": {},
     "source": [
      "Example 19.19-13, Page No 472"
     ]
    },
    {
     "cell_type": "code",
     "collapsed": false,
     "input": [
      "import math\n",
      "\n",
      "#Initilization of variables\n",
      "m=120 #kg\n",
      "k=0.3 #m\n",
      "ls=0.6 #m\n",
      "ds=0.05 #m\n",
      "G=80*10**9 #Pa\n",
      "\n",
      "#Calculations\n",
      "#Polar Moment of Inertia\n",
      "J1=m*k**2 #kg.m**2\n",
      "J2=J1 #kg.m**2\n",
      "J=(32**-1)*pi*(ds**4) #m**4\n",
      "#Frequency\n",
      "f=(1/(2*pi))*(sqrt((J*G*(J1+J2))/(ls*J1*J2))) #Hz\n",
      "\n",
      "#Result\n",
      "print'The natural frequency of the torsional oscillation is',round(f,1),\"Hz\"\n"
     ],
     "language": "python",
     "metadata": {},
     "outputs": [
      {
       "output_type": "stream",
       "stream": "stdout",
       "text": [
        "The natural frequency of the torsional oscillation is 19.6 Hz\n"
       ]
      }
     ],
     "prompt_number": 2
    },
    {
     "cell_type": "heading",
     "level": 2,
     "metadata": {},
     "source": [
      "Example 19.19-14, Page No: 473"
     ]
    },
    {
     "cell_type": "code",
     "collapsed": false,
     "input": [
      "import math\n",
      "\n",
      "#Initilization of variables\n",
      "ds=2 #in\n",
      "L=15 #in\n",
      "Wf1=300 #lb\n",
      "k1=6 #in\n",
      "Wf2=100 #lb\n",
      "k2=4 #in\n",
      "G=12*10**6 #Pa\n",
      "g=386 #in/s**2\n",
      "\n",
      "#Calculations\n",
      "#Moment of inertia of flywheel\n",
      "Jf=(Wf1*g**-1)*k1**2 #lb-s**2-in\n",
      "#Moment of inertia of the rotor\n",
      "Jr=(Wf2*g**-1)*k2**2 #lb-s**2-in\n",
      "#Moment of inertia of the shaft cross section\n",
      "J=(32**-1)*pi*ds**4 #in**4\n",
      "#Frequency\n",
      "f=((pi*2)**-1)*(sqrt((J*G*(Jf+Jr))*(L*Jf*Jr)**-1)) #cps\n",
      "\n",
      "#Result\n",
      "print'The natural frequency of the system is',round(f,1),\"cps\"\n",
      "\n",
      "#The answer may wary due to decimal point descrepancy"
     ],
     "language": "python",
     "metadata": {},
     "outputs": [
      {
       "output_type": "stream",
       "stream": "stdout",
       "text": [
        "The natural frequency of the system is 93.9 cps\n"
       ]
      }
     ],
     "prompt_number": 14
    },
    {
     "cell_type": "heading",
     "level": 2,
     "metadata": {},
     "source": [
      "Example 19.19-15, Page No: 473"
     ]
    },
    {
     "cell_type": "code",
     "collapsed": false,
     "input": [
      "import math\n",
      "\n",
      "#Initilization of variables\n",
      "W=10 #lb\n",
      "A=2 #in**2\n",
      "#Calculations\n",
      "\n",
      "wn=sqrt(((A*144**-1)*5*62.4*5)/2.59) #rad/s\n",
      "\n",
      "#Result\n",
      "print'The frequency of oscillation is',round(wn,2),\"rad/s\"\n"
     ],
     "language": "python",
     "metadata": {},
     "outputs": [
      {
       "output_type": "stream",
       "stream": "stdout",
       "text": [
        "The frequency of oscillation is 2.89 rad/s\n"
       ]
      }
     ],
     "prompt_number": 15
    },
    {
     "cell_type": "heading",
     "level": 2,
     "metadata": {},
     "source": [
      "Example 19.19-16, Page No:474"
     ]
    },
    {
     "cell_type": "code",
     "collapsed": false,
     "input": [
      "import math\n",
      "\n",
      "#Initilization of variables\n",
      "f=50 #cps\n",
      "g=386 #in/s**2\n",
      "E=30*10**6 #lb/in**2\n",
      "l=4 #in\n",
      "I=2.08*10**-6 #in**4\n",
      "\n",
      "#Calculations\n",
      "W=(3*E*I*g)/(((f*2*pi)**2)*l**3) #lb\n",
      "\n",
      "#Result\n",
      "print'The value of W is',round(W,3),\"lb\"\n"
     ],
     "language": "python",
     "metadata": {},
     "outputs": [
      {
       "output_type": "stream",
       "stream": "stdout",
       "text": [
        "The value of W is 0.011 lb\n"
       ]
      }
     ],
     "prompt_number": 16
    },
    {
     "cell_type": "heading",
     "level": 2,
     "metadata": {},
     "source": [
      "Example 19.19-19, Page No:478"
     ]
    },
    {
     "cell_type": "code",
     "collapsed": false,
     "input": [
      "import math\n",
      "\n",
      "#Initilization of variables\n",
      "F=10 #lb\n",
      "v=20 #in/s\n",
      "g=386 #in/s\n",
      "W=12 #lb\n",
      "k=20 #lb/in\n",
      "\n",
      "#Calculations\n",
      "#Coefficient of damping\n",
      "c=F*(v**-1) #lb-s/in\n",
      "#Natural Frequency\n",
      "wn=sqrt((k*g)/W) #rad/s\n",
      "#Critical Damping coefficient\n",
      "cr=(2*W*(g**-1))*wn #lb-s/in\n",
      "#Damping Coefficient\n",
      "d=c*(cr**-1)\n",
      "#Frequency of damped vibrations\n",
      "wd=sqrt(1-d**2)*wn #rad/s\n",
      "\n",
      "#Result\n",
      "print'The frequency of damped vibrations is',round(wd,1),\"rad/s\"\n",
      "\n",
      "# The answer is off by 0.1 units"
     ],
     "language": "python",
     "metadata": {},
     "outputs": [
      {
       "output_type": "stream",
       "stream": "stdout",
       "text": [
        "The frequency of damped vibrations is 24.0 rad/s\n"
       ]
      }
     ],
     "prompt_number": 18
    },
    {
     "cell_type": "heading",
     "level": 2,
     "metadata": {},
     "source": [
      "Example 19.19-20, Page No 478"
     ]
    },
    {
     "cell_type": "code",
     "collapsed": false,
     "input": [
      "import math\n",
      "\n",
      "#Initilization of variables\n",
      "wn=25.4 #rad/s\n",
      "t=0.261 #s\n",
      "d=0.316\n",
      "\n",
      "#Calculations\n",
      "delta=d*t*wn #logarithmic decay\n",
      "\n",
      "#Result\n",
      "print'The rate of decay is',round(delta,3)\n"
     ],
     "language": "python",
     "metadata": {},
     "outputs": [
      {
       "output_type": "stream",
       "stream": "stdout",
       "text": [
        "The rate of decay is 2.095\n"
       ]
      }
     ],
     "prompt_number": 19
    },
    {
     "cell_type": "heading",
     "level": 2,
     "metadata": {},
     "source": [
      "Example 19.19-24, Page No 483"
     ]
    },
    {
     "cell_type": "code",
     "collapsed": false,
     "input": [
      "import math\n",
      "\n",
      "#Initilization of variables\n",
      "F=9 #N\n",
      "m=5 #kg\n",
      "k=6000 #N/m\n",
      "f1=1 #Hz\n",
      "f2=5.4 #Hz\n",
      "f3=50 #Hz\n",
      "\n",
      "#Calculations\n",
      "#Natural Frequency\n",
      "fn=((pi*2)**-1)*(sqrt(k/m)) #Hz\n",
      "deltaf=F*(k/1000)**-1 #mm\n",
      "#Part(a)\n",
      "r1=f1*fn**-1\n",
      "amp1=deltaf*(1-r1**2)**-1 #mm amplitude\n",
      "#Part (b)\n",
      "r2=f2*fn**-1\n",
      "amp2=deltaf/(1-r2**2) #mm amplitude\n",
      "#Part (c)\n",
      "r3=f3*fn**-1\n",
      "amp3=deltaf/(1-r3**2) #mm amplitude\n",
      "\n",
      "#Result\n",
      "print'The amplitudes in part (a),(b) and (c) respectively are',round(amp1,3),\"mm ,\",round(amp2,1),\"mm and\",round(amp3,3),\"mm\"\n",
      "\n",
      "# The answer for amp2 is incorrect in textbook"
     ],
     "language": "python",
     "metadata": {},
     "outputs": [
      {
       "output_type": "stream",
       "stream": "stdout",
       "text": [
        "The amplitudes in part (a),(b) and (c) respectively are 1.551 mm , 36.9 mm and -0.018 mm\n"
       ]
      }
     ],
     "prompt_number": 27
    },
    {
     "cell_type": "heading",
     "level": 2,
     "metadata": {},
     "source": [
      "Example 19.19-25, Page No 483"
     ]
    },
    {
     "cell_type": "code",
     "collapsed": false,
     "input": [
      "import math\n",
      "\n",
      "#Initilization of vraiables\n",
      "g=386 #in/s**2\n",
      "W=20 #lb\n",
      "w=600 #rpm\n",
      "ratio=12**-1\n",
      "\n",
      "#Calculations\n",
      "r=sqrt((1*ratio**-1)+1) \n",
      "fn=((w/60)/r) #cps\n",
      "k=((fn*2*pi)**2*W)/(g) #lb/in\n",
      "\n",
      "#Result\n",
      "print'The value of k is',round(k,1),\"lb/in\"\n"
     ],
     "language": "python",
     "metadata": {},
     "outputs": [
      {
       "output_type": "stream",
       "stream": "stdout",
       "text": [
        "The value of k is 15.7 lb/in\n"
       ]
      }
     ],
     "prompt_number": 28
    },
    {
     "cell_type": "heading",
     "level": 2,
     "metadata": {},
     "source": [
      "Example 19.19-28, Page No 487"
     ]
    },
    {
     "cell_type": "code",
     "collapsed": false,
     "input": [
      "import math\n",
      "\n",
      "#Initilization of variables\n",
      "X=12 #mm\n",
      "me_M=1.3 #mm\n",
      "\n",
      "#Calculations\n",
      "d=(me_M)/(2*X)\n",
      "\n",
      "#Result\n",
      "print'The damping ratio is',round(d,3)\n"
     ],
     "language": "python",
     "metadata": {},
     "outputs": [
      {
       "output_type": "stream",
       "stream": "stdout",
       "text": [
        "The damping ratio is 0.054\n"
       ]
      }
     ],
     "prompt_number": 29
    }
   ],
   "metadata": {}
  }
 ]
}