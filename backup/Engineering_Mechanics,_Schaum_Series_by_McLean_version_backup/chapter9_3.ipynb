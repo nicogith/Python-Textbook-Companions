{
 "metadata": {
  "name": "chapter9.ipynb"
 },
 "nbformat": 3,
 "nbformat_minor": 0,
 "worksheets": [
  {
   "cells": [
    {
     "cell_type": "heading",
     "level": 1,
     "metadata": {},
     "source": [
      "Chapter 9: Friction"
     ]
    },
    {
     "cell_type": "heading",
     "level": 2,
     "metadata": {},
     "source": [
      "Example 9.9-1, Page no 130"
     ]
    },
    {
     "cell_type": "code",
     "collapsed": false,
     "input": [
      "import math\n",
      "\n",
      "#Calculations\n",
      "#Simplifying  equation (3) after substituting value of Nb in it we get\n",
      "#m_u**2+m_u*2*tan(50)-1=0\n",
      "#Solution of the equation\n",
      "a=1\n",
      "b=2*1.19175 # here 1.19175 is value of tan(50)\n",
      "c=-1\n",
      "g=(b**2-(4*a*c))**0.5\n",
      "\n",
      "#solution\n",
      "x1=(-b+g)/(2*a)\n",
      "x2=(-b-g)/(2*a)\n",
      "#As x2 does not make any physical sense x1 is the answer\n",
      "\n",
      "#Result\n",
      "print'The value of mu is',round(x1,2)\n"
     ],
     "language": "python",
     "metadata": {},
     "outputs": [
      {
       "output_type": "stream",
       "stream": "stdout",
       "text": [
        "The value of mu is 0.36\n"
       ]
      }
     ],
     "prompt_number": 3
    },
    {
     "cell_type": "heading",
     "level": 2,
     "metadata": {},
     "source": [
      "Example 9.9-3, Page no 131"
     ]
    },
    {
     "cell_type": "code",
     "collapsed": false,
     "input": [
      "import math\n",
      "import numpy as np\n",
      "\n",
      "#Initilization of variables\n",
      "m=70 #kg\n",
      "g=9.81 #m/s**2\n",
      "# as theta=20 degrees, we have\n",
      "sintheta=0.3420\n",
      "costheta=0.9396\n",
      "\n",
      "#Calculations\n",
      "#Solving by martix method\n",
      "#Taking sum along vertical and horizontal direction and equating them to zero\n",
      "A=np.array([[sintheta,1,0],[-costheta,0,1],[0,-4**-1,1]])\n",
      "#RHS matrix\n",
      "R=np.array([[m*g],[0],[0]])\n",
      "ans1=np.linalg.solve(A,R) #force vector N\n",
      "#Calculation part 2\n",
      "#Similar solution by matrix method\n",
      "#Taking moment about point O and summing forces in horizontal and vertical direction and equating all to zero\n",
      "B=np.array([[4*costheta,0,0],[-costheta,1,0],[sintheta,0,1]])\n",
      "#RHS matrix\n",
      "J=np.array([[m*g*1.5],[0],[m*g]])\n",
      "ans2=np.linalg.solve(B,J) #force Vector N\n",
      "\n",
      "#Result\n",
      "print'The value of P in first case is',round(ans1[0]),\"N\",'and that in second case is',round(ans2[0]),\"N\"\n"
     ],
     "language": "python",
     "metadata": {},
     "outputs": [
      {
       "output_type": "stream",
       "stream": "stdout",
       "text": [
        "The value of P in first case is 167.0 N and that in second case is 274.0 N\n"
       ]
      }
     ],
     "prompt_number": 5
    },
    {
     "cell_type": "heading",
     "level": 2,
     "metadata": {},
     "source": [
      "Example 9.9-4, Page no 132"
     ]
    },
    {
     "cell_type": "code",
     "collapsed": false,
     "input": [
      "import math\n",
      "\n",
      "#Initilization of variables\n",
      "W=200 #lb\n",
      "Fapp=300 #lb\n",
      "mu=0.3 #coefficient of friction\n",
      "# as theta=30 degrees, we have\n",
      "sintheta=2**-1\n",
      "costheta=sqrt(3)*2**-1\n",
      "\n",
      "#Calculations\n",
      "#Summing forces in the plane parallel to the slope\n",
      "F=-(W*sintheta-Fapp*costheta) #lb\n",
      "N1=(W*costheta+Fapp*sintheta) #lb\n",
      "#Max value obtained\n",
      "Fprime= mu*N1\n",
      "\n",
      "#Result\n",
      "print'The value of F is',round(F),\"lb\"\n",
      "print'The value of N1 is',round(N1),\"lb\"\n",
      "print'The value of Fprime is',round(Fprime),\"lb\"\n"
     ],
     "language": "python",
     "metadata": {},
     "outputs": [
      {
       "output_type": "stream",
       "stream": "stdout",
       "text": [
        "The value of F is 160.0 lb\n",
        "The value of N1 is 323.0 lb\n",
        "The value of Fprime is 97.0 lb\n"
       ]
      }
     ],
     "prompt_number": 7
    },
    {
     "cell_type": "heading",
     "level": 2,
     "metadata": {},
     "source": [
      "Example 9.9-5, Page no 132"
     ]
    },
    {
     "cell_type": "code",
     "collapsed": false,
     "input": [
      "import math\n",
      "import numpy as np\n",
      "\n",
      "#Initilization of variables\n",
      "mu1=0.2 #coefficient of friction between wedges and A\n",
      "mu2=4**-1 #coefficient of friction between wedges \n",
      "F=20 #tonnes\n",
      "\n",
      "#Calculations\n",
      "#Using the matrix method to solve\n",
      "#Summing forces in vertical and horizontal direction\n",
      "A=np.array([[1,-(mu1*10+1)/(101)**0.5],[0,(10-mu1*1)/101**0.5]]) #force matrix\n",
      "B=np.array([[mu2*F*1000],[F*1000]]) #lb\n",
      "#Solving both matrices\n",
      "R=np.linalg.solve(A,B) #lb\n",
      "\n",
      "#Result\n",
      "print'The forces N2 and P are:',round(R[1]),\"lb\",'and',round(R[0]),\"lb\"\n",
      "#Decimal accuracy causes discrepancy in answers\n"
     ],
     "language": "python",
     "metadata": {},
     "outputs": [
      {
       "output_type": "stream",
       "stream": "stdout",
       "text": [
        "The forces N2 and P are: 20510.0 lb and 11122.0 lb\n"
       ]
      }
     ],
     "prompt_number": 9
    },
    {
     "cell_type": "heading",
     "level": 2,
     "metadata": {},
     "source": [
      "Example 9.9-6, Page no 133"
     ]
    },
    {
     "cell_type": "code",
     "collapsed": false,
     "input": [
      "import math\n",
      "import numpy as np\n",
      "\n",
      "#Initilization of variables\n",
      "# as theta=45 degrees,we have\n",
      "sintheta=sqrt(2)**-1\n",
      "costheta=sqrt(2)**-1\n",
      "mu1=4**-1 #coefficient of friction between A and B\n",
      "mu2=3**-1 #coefficient of friction between A and Floor\n",
      "ma=14 #kg\n",
      "mb=9 #kg\n",
      "g=9.81 #m/s**2\n",
      "\n",
      "#Calculations\n",
      "#Summing forces in vertical direction\n",
      "Nb=mb*g #N\n",
      "#Also\n",
      "Fprimeb=mu1*Nb #N\n",
      "#Summing forces in direction\n",
      "T=Fprimeb #N\n",
      "#Considering the fig(c)\n",
      "#Summing forces in the horizontal direction and vertical direction and solving by matrix method \n",
      "A=np.array([[-costheta,mu2],[sintheta,1]]) #N\n",
      "B=np.array([[-Fprimeb],[(mb*g+ma*g)]]) #N\n",
      "R=np.linalg.solve(A,B) #N\n",
      "\n",
      "#Result\n",
      "print'The value of P and Na are:',round(R[0]),\"N\",'and',round(R[1]),\"N respectively.\"\n",
      "\n",
      "# The ans may wary due o decimal point descrepancy."
     ],
     "language": "python",
     "metadata": {},
     "outputs": [
      {
       "output_type": "stream",
       "stream": "stdout",
       "text": [
        "The value of P and Na are: 103.0 N and 153.0 N respectively.\n"
       ]
      }
     ],
     "prompt_number": 11
    },
    {
     "cell_type": "heading",
     "level": 2,
     "metadata": {},
     "source": [
      "Example 9.9-7, Page no 134"
     ]
    },
    {
     "cell_type": "code",
     "collapsed": false,
     "input": [
      "import math\n",
      "\n",
      "#Initilization of variables\n",
      "m1=40 #kg\n",
      "m2=13.5 #kg\n",
      "mu=3**-1 #coefficient of friction\n",
      "g=9.81 #m/s**2\n",
      "\n",
      "#Calculations\n",
      "#Solving by substitution\n",
      "#After simplification we get\n",
      "x=mu*m2*g\n",
      "y=mu*(m1*g+m2*g)\n",
      "theta=arctan((x+y)/(m1*g))*(180/pi) #degrees\n",
      "\n",
      "#Result\n",
      "print'The value of the angle is',round(theta,1),\"degrees\"\n"
     ],
     "language": "python",
     "metadata": {},
     "outputs": [
      {
       "output_type": "stream",
       "stream": "stdout",
       "text": [
        "The value of the angle is 29.2 degrees\n"
       ]
      }
     ],
     "prompt_number": 2
    },
    {
     "cell_type": "heading",
     "level": 2,
     "metadata": {},
     "source": [
      "Example 9.9-8, Page no 134"
     ]
    },
    {
     "cell_type": "code",
     "collapsed": false,
     "input": [
      "import math\n",
      "import numpy as np\n",
      "\n",
      "#Initilization of variables\n",
      "W=350 #lb\n",
      "# as theta=30 degrees, we have\n",
      "sintheta=2**-1\n",
      "costheta=sqrt(3)*2**-1\n",
      "# and phi=15 degrees,thus\n",
      "sinphi=0.2588\n",
      "cosphi=0.9659\n",
      "\n",
      "#Calculations\n",
      "#Solving by the matrix method\n",
      "A=np.array([[costheta,sinphi],[-sintheta,cosphi]])\n",
      "B=np.array([[W*sintheta],[W*costheta]])\n",
      "an=np.linalg.solve(A,B) #lb\n",
      "\n",
      "#Result\n",
      "print'The value of P and R are:',round(an[0],1),\"lb\",'and',round(an[1],1),\"lb respectively.\"\n",
      "\n",
      "# The ans may wary due to decimal point descrepancy."
     ],
     "language": "python",
     "metadata": {},
     "outputs": [
      {
       "output_type": "stream",
       "stream": "stdout",
       "text": [
        "The value of P and R are: 93.8 lb and 362.4 lb respectively.\n"
       ]
      }
     ],
     "prompt_number": 6
    },
    {
     "cell_type": "heading",
     "level": 2,
     "metadata": {},
     "source": [
      "Example 9.9-9, Page no 135"
     ]
    },
    {
     "cell_type": "code",
     "collapsed": false,
     "input": [
      "import math\n",
      "\n",
      "#Initilization of variables\n",
      "# as theta=45 degrees, we have\n",
      "sintheta=sqrt(2)**-1\n",
      "costheta=sqrt(2)**-1\n",
      "m1=45 #kg\n",
      "m2=135 #kg\n",
      "g=9.81 #m/s**2\n",
      "mu=0.25 #coefficient of riction\n",
      "\n",
      "#Calculations\n",
      "N2=m2*g #N\n",
      "T=mu*N2 #N\n",
      "N1=m1*g*costheta #N\n",
      "Fprime1=N1*mu #N\n",
      "P=T+Fprime1-(m1*g*sintheta) #N\n",
      "\n",
      "#Result\n",
      "print'The values are'\n",
      "print'N2=',round(N2),\"N\"\n",
      "print'T=',round(T),\"N\"\n",
      "print'N1=',round(N1),\"N\"\n",
      "print'Fprime1=',round(Fprime1),\"N\"\n",
      "print'P=',round(P,1),\"N\"\n",
      "\n",
      "# The ans may wary due to decimal point descrepancy"
     ],
     "language": "python",
     "metadata": {},
     "outputs": [
      {
       "output_type": "stream",
       "stream": "stdout",
       "text": [
        "The values are\n",
        "N2= 1324.0 N\n",
        "T= 331.0 N\n",
        "N1= 312.0 N\n",
        "Fprime1= 78.0 N\n",
        "P= 97.0 N\n"
       ]
      }
     ],
     "prompt_number": 11
    },
    {
     "cell_type": "heading",
     "level": 2,
     "metadata": {},
     "source": [
      "Example 9.9-10, Page no 135"
     ]
    },
    {
     "cell_type": "code",
     "collapsed": false,
     "input": [
      "import math\n",
      "\n",
      "#Initilization of variables\n",
      "mu=0.2 #coefficient of friction\n",
      "F1=150 #lb\n",
      "F2=100 #lb\n",
      "# as theta=60 degrees\n",
      "costheta=2**-1\n",
      "# also theta1=30 degrees\n",
      "costheta1=sqrt(3)*2**-1\n",
      "\n",
      "#Calculations\n",
      "N1=F1*costheta #lb\n",
      "T=(mu*N1)+(F1*(costheta1)) #lb considering positive\n",
      "#Equilibrium for 100lb\n",
      "#Eliminating N2 from both equations\n",
      "#Taking derivative we get\n",
      "theta2=arctan(mu)*(180/pi) #degrees\n",
      "#Hence P becomes\n",
      "# in calculation of P we use the values of sin(theta2) & cos(theta2) as,\n",
      "sintheta2=0.196\n",
      "costheta2=0.98\n",
      "P=(F2*mu+T)*(costheta2+(mu*sintheta2))**-1 #lb\n",
      "\n",
      "#Result\n",
      "print'The minimum value of P is',round(P),\"lb\""
     ],
     "language": "python",
     "metadata": {},
     "outputs": [
      {
       "output_type": "stream",
       "stream": "stdout",
       "text": [
        "The minimum value of P is 162.0 lb\n"
       ]
      }
     ],
     "prompt_number": 9
    },
    {
     "cell_type": "heading",
     "level": 2,
     "metadata": {},
     "source": [
      "Example 9.9-11, Page no 136"
     ]
    },
    {
     "cell_type": "code",
     "collapsed": false,
     "input": [
      "import math\n",
      "\n",
      "#Initilization of variables\n",
      "F=180 #N\n",
      "m=100 #kg\n",
      "g=9.81 #m/s**2\n",
      "mu=0.25 #coeffiecient of friction\n",
      "\n",
      "#Calculations\n",
      "#Assuming F2 is maximum\n",
      "N2=F*2/(1+mu) #N\n",
      "F2=mu*N2 #N\n",
      "N1=m*g-F2 #N\n",
      "F1=F-F2 #N\n",
      "\n",
      "#Result\n",
      "print'The vaules are'\n",
      "print'N2=',round(N2,3),\"N\"\n",
      "print'F2=',round(F2,3),\"N\"\n",
      "print'N1=',round(N1,3),\"N\"\n",
      "print'F1=',round(F1,3),\"N\"\n"
     ],
     "language": "python",
     "metadata": {},
     "outputs": [
      {
       "output_type": "stream",
       "stream": "stdout",
       "text": [
        "The vaules are\n",
        "N2= 288.0 N\n",
        "F2= 72.0 N\n",
        "N1= 909.0 N\n",
        "F1= 108.0 N\n"
       ]
      }
     ],
     "prompt_number": 10
    },
    {
     "cell_type": "heading",
     "level": 2,
     "metadata": {},
     "source": [
      "Example 9.9-13, Page no 138"
     ]
    },
    {
     "cell_type": "code",
     "collapsed": false,
     "input": [
      "import math\n",
      "\n",
      "#Initilization of variables\n",
      "mu_ca=0.3 #ceofficient of friction between copper block A and aluminium block B\n",
      "mu_af=0.2 #coefficient of friction between aluminium block B and Floor\n",
      "ma=3 #kg\n",
      "mb=2 #kg\n",
      "g=9.81 #m/s**2\n",
      "\n",
      "#Calculations\n",
      "#For A\n",
      "#Taking sum of forces along X and Y direction\n",
      "Na=ma*g #N\n",
      "P=mu_ca*Na #N\n",
      "#For B\n",
      "#Taking sum of forces along X and Y direction\n",
      "Nb=Na+mb*g #N\n",
      "Fb=mu_ca*Na #N\n",
      "#Now largest value of friction before slip is \n",
      "Fprimeb=mu_af*Nb #N\n",
      "#Now as Fb<F'b hence initial assumption is incorrect and P=Fb\n",
      "P=Fb #N\n",
      "\n",
      "#Result\n",
      "print'The value of force that will cause motion is',round(P,2),\"N\"\n"
     ],
     "language": "python",
     "metadata": {},
     "outputs": [
      {
       "output_type": "stream",
       "stream": "stdout",
       "text": [
        "The value of force that will cause motion is 8.83 N\n"
       ]
      }
     ],
     "prompt_number": 12
    },
    {
     "cell_type": "heading",
     "level": 2,
     "metadata": {},
     "source": [
      "Example 9.9-15, Page no 141"
     ]
    },
    {
     "cell_type": "code",
     "collapsed": false,
     "input": [
      "import math\n",
      "\n",
      "#Initilization of variables\n",
      "d_m=2 #in   mean diameter of the screw\n",
      "p=4**-1 #in\n",
      "mu=0.15 #coefficient of friction\n",
      "l=2 #ft\n",
      "L=4000 #lb\n",
      "\n",
      "#Calculations\n",
      "phi=arctan(mu)*(180/pi) #degrees\n",
      "beta=arctan(p*(pi*l)**-1)*(180/pi) #degrees\n",
      "x=phi+beta # degrees\n",
      "#Force to raise the load\n",
      "# Here the value of x=10.77 degrees, thus\n",
      "tanx=0.19\n",
      "P=(L*tanx)/(d_m*12) #lb\n",
      "#Force to lower the load\n",
      "# Also,\n",
      "y=phi-beta\n",
      "# Thus y yeilds 6.23 degrees, thus\n",
      "tany=0.109\n",
      "P2=(L*tany)/(d_m*12) #lb\n",
      "\n",
      "#Result\n",
      "print'The force to raise the load is',round(P,1 ),\"lb\"\n",
      "print'The force to lower the load is',round(P2,1),\"lb\"\n",
      "\n",
      "# The answer waries due to decimal point descrepancy"
     ],
     "language": "python",
     "metadata": {},
     "outputs": [
      {
       "output_type": "stream",
       "stream": "stdout",
       "text": [
        "The force to raise the load is 31.7 lb\n",
        "The force to lower the load is 18.2 lb\n"
       ]
      }
     ],
     "prompt_number": 24
    },
    {
     "cell_type": "heading",
     "level": 2,
     "metadata": {},
     "source": [
      "Example 9.9-16, Page no 141"
     ]
    },
    {
     "cell_type": "code",
     "collapsed": false,
     "input": [
      "import math\n",
      "\n",
      "#Initilization of variables\n",
      "r_m=2.338 #in\n",
      "d_m=3.25 #in\n",
      "mu=0.06 #coefficient of friction\n",
      "P=1500 #lb\n",
      "p=4**-1 #pitch\n",
      "\n",
      "#Calculation\n",
      "phi=arctan(mu)*(180/pi) #degrees\n",
      "beta=round(arctan(p/(2*pi*r_m))*(180/pi)) #degrees\n",
      "x=phi+beta\n",
      "# Thus tanx yeilds\n",
      "tanx=0.077\n",
      "M=P*r_m*tanx+mu*P*(d_m/2) #lb.in\n",
      "\n",
      "#Result\n",
      "print'The moment required is',round(M),\"lb.in\"\n",
      "\n",
      "#Decimal accuracy causes discrepancy in answers\n"
     ],
     "language": "python",
     "metadata": {},
     "outputs": [
      {
       "output_type": "stream",
       "stream": "stdout",
       "text": [
        "The moment required is 416.0 lb.in\n"
       ]
      }
     ],
     "prompt_number": 32
    },
    {
     "cell_type": "heading",
     "level": 2,
     "metadata": {},
     "source": [
      "Example 9.9-17, Page no 141"
     ]
    },
    {
     "cell_type": "code",
     "collapsed": false,
     "input": [
      "import math\n",
      "\n",
      "#Initilization of variables\n",
      "d=750 #mm diameter\n",
      "alpha=pi #wrap angle    radians\n",
      "mu=0.25 #coefficient of friction\n",
      "T_t=200 #N tension on the tight side\n",
      "\n",
      "#Calculation\n",
      "T2=T_t/(exp(mu*alpha)) #N\n",
      "\n",
      "#Result\n",
      "print'The tension of the slack side is',round(T2,1),\"N\"\n"
     ],
     "language": "python",
     "metadata": {},
     "outputs": [
      {
       "output_type": "stream",
       "stream": "stdout",
       "text": [
        "The tension of the slack side is 91.2 N\n"
       ]
      }
     ],
     "prompt_number": 33
    },
    {
     "cell_type": "heading",
     "level": 2,
     "metadata": {},
     "source": [
      "Example 9.9-18, Page no 141"
     ]
    },
    {
     "cell_type": "code",
     "collapsed": false,
     "input": [
      "import math\n",
      "\n",
      "#Initilization of variables\n",
      "d=635 #mm diameter of the drum\n",
      "P=178 #N\n",
      "mu=3**-1 #coefficient of friction\n",
      "l1=100 #mm \n",
      "l2=660 #mm\n",
      "# as theta1=60 degrees\n",
      "sintheta1=sqrt(3)*2**-1\n",
      "costheta1=2**-1\n",
      "# as theta2=30 degrees,\n",
      "sintheta2=2**-1\n",
      "costheta2=sqrt(3)*2**-1\n",
      "GD=d/2 #mm\n",
      "\n",
      "#Calculations\n",
      "#Taking moment about point C\n",
      "Tb=(P*(l1+l2))/(l1*sintheta1) #N\n",
      "CD=((d/2)-(l1*costheta2))/sintheta2 #mm\n",
      "#from fig 9-22(b) \n",
      "theta=arcsin(GD/CD)*(180/pi) #degrees\n",
      "#from fig9-22(c)\n",
      "w_d=(180+30+theta) #degrees\n",
      "w=(w_d)*(pi/180) #radians\n",
      "#As Tc is greater than Tb\n",
      "Tc=Tb*(exp(mu*w)) #N\n",
      "M=(Tc-Tb)*GD #N.mm\n",
      "an=M/1000 #N.m\n",
      "\n",
      "#Result\n",
      "print'The braking moment required is',round(an),\"N.m\"\n",
      "\n",
      "#Note the unit of the final enswer carefully\n",
      "# The answer is off by 2 N.m"
     ],
     "language": "python",
     "metadata": {},
     "outputs": [
      {
       "output_type": "stream",
       "stream": "stdout",
       "text": [
        "The braking moment required is 1668.0 N.m\n"
       ]
      }
     ],
     "prompt_number": 29
    },
    {
     "cell_type": "heading",
     "level": 2,
     "metadata": {},
     "source": [
      "Example 9.9-19, Page no 142"
     ]
    },
    {
     "cell_type": "code",
     "collapsed": false,
     "input": [
      "import math\n",
      "\n",
      "#Initilization of variables\n",
      "L=1000 #lb\n",
      "P=10 #lb\n",
      "\n",
      "#Calculations\n",
      "mu=log(L/P)/(4*2*pi) \n",
      "\n",
      "#Result\n",
      "print'The coefficient of friction is',round(mu,2)\n"
     ],
     "language": "python",
     "metadata": {},
     "outputs": [
      {
       "output_type": "stream",
       "stream": "stdout",
       "text": [
        "The coefficient of friction is 0.18\n"
       ]
      }
     ],
     "prompt_number": 30
    },
    {
     "cell_type": "heading",
     "level": 2,
     "metadata": {},
     "source": [
      "Example 9.9-20, Page no 142"
     ]
    },
    {
     "cell_type": "code",
     "collapsed": false,
     "input": [
      "import math\n",
      "\n",
      "#Initilization of variables\n",
      "m=900 #kg\n",
      "mu=0.2 #coefficient of friction\n",
      "g=9.8 #m/s**2\n",
      "\n",
      "#Calculations\n",
      "T2=m*g/(exp(2*2*pi*mu)) #N\n",
      "\n",
      "#Result\n",
      "print'The force needed to hold the mass is',round(T2),\"N\"\n"
     ],
     "language": "python",
     "metadata": {},
     "outputs": [
      {
       "output_type": "stream",
       "stream": "stdout",
       "text": [
        "The force needed to hold the mass is 714.0 N\n"
       ]
      }
     ],
     "prompt_number": 32
    },
    {
     "cell_type": "heading",
     "level": 2,
     "metadata": {},
     "source": [
      "Example 9.9-21, Page no 143"
     ]
    },
    {
     "cell_type": "code",
     "collapsed": false,
     "input": [
      "import math\n",
      "\n",
      "#Initilization of variables\n",
      "d=760 #mm\n",
      "W=500 #N\n",
      "a=0.305 #mm coefficient of rolling resisatnce\n",
      "r=d/2 #mm\n",
      "\n",
      "#Calculations\n",
      "P=(W*a)/r #N\n",
      "\n",
      "#Result\n",
      "print'The force necessary is',round(P,1),\"N\"\n"
     ],
     "language": "python",
     "metadata": {},
     "outputs": [
      {
       "output_type": "stream",
       "stream": "stdout",
       "text": [
        "The force necessary is 0.4 N\n"
       ]
      }
     ],
     "prompt_number": 33
    }
   ],
   "metadata": {}
  }
 ]
}