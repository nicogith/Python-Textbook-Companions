{
 "metadata": {
  "name": "chapter12.ipynb"
 },
 "nbformat": 3,
 "nbformat_minor": 0,
 "worksheets": [
  {
   "cells": [
    {
     "cell_type": "heading",
     "level": 1,
     "metadata": {},
     "source": [
      "Chapter 12: Kinematics of a Particle"
     ]
    },
    {
     "cell_type": "heading",
     "level": 2,
     "metadata": {},
     "source": [
      "Ex 12.12-1, Page No 200"
     ]
    },
    {
     "cell_type": "code",
     "collapsed": false,
     "input": [
      "import math\n",
      "\n",
      "# Initilization of variables\n",
      "t=4 #seconds\n",
      "\n",
      "# Calculations\n",
      "#Displacement \n",
      "x=3*t**3+t+2 #ft\n",
      "# Velocity\n",
      "v=9*t**2+1 # ft/s\n",
      "# Acceleration\n",
      "a=18*t # ft/s**2\n",
      "\n",
      "# Result\n",
      "print'The dipalacemnt is',round(x),\"ft\"\n",
      "print'The velocity is ',round(v),\"ft/s\"\n",
      "print'The acceleration is ',round(a),\"ft/s**2\"\n"
     ],
     "language": "python",
     "metadata": {},
     "outputs": [
      {
       "output_type": "stream",
       "stream": "stdout",
       "text": [
        "The dipalacemnt is 198.0 ft\n",
        "The velocity is  145.0 ft/s\n",
        "The acceleration is  72.0 ft/s**2\n"
       ]
      }
     ],
     "prompt_number": 1
    },
    {
     "cell_type": "heading",
     "level": 2,
     "metadata": {},
     "source": [
      "Example 12.12-2, Page No 201"
     ]
    },
    {
     "cell_type": "code",
     "collapsed": false,
     "input": [
      "import math\n",
      "\n",
      "# Initilization of variables\n",
      "t1=4 #s\n",
      "t2=5 #s\n",
      "\n",
      "# Calculation\n",
      "v1=9*t1**2+1 # ft/s\n",
      "v2=9*t2**2+1 # ft/s\n",
      "a=(v2-v1)/(t2-t1) # m/s**2\n",
      "\n",
      "# Result\n",
      "print'The acceleration during fifth second is',round(a),\"ft/s**2\"\n"
     ],
     "language": "python",
     "metadata": {},
     "outputs": [
      {
       "output_type": "stream",
       "stream": "stdout",
       "text": [
        "The acceleration during fifth second is 81.0 ft/s**2\n"
       ]
      }
     ],
     "prompt_number": 3
    },
    {
     "cell_type": "heading",
     "level": 2,
     "metadata": {},
     "source": [
      "Example 12.12-3, Page No 201"
     ]
    },
    {
     "cell_type": "code",
     "collapsed": false,
     "input": [
      "import math\n",
      "%matplotlib inline\n",
      "\n",
      "#Defining Matrices\n",
      "t=[0,1,2,3,4,5,10] #s\n",
      "# equation for s is s=8*t**2+2*t, Thus the different values of s corresponding to t is:\n",
      "#Displacement matrix\n",
      "s=[0,10,36,78,136,210,820]\n",
      "# Eqn for v is v=16*t+2,Thus the different values of v corresponding to t is:\n",
      "#Velocity Matrix\n",
      "v=[0,18,34,50,66,82,162]\n",
      "# Eqn for a is a=16, Thus the different values of a corresponding to t is:\n",
      "#Acceleration Matrix\n",
      "a=[16,16,16,16,16,16,16]\n",
      "#Plotting the curves\n",
      "#S-T curve\n",
      "plot(t,s)\n",
      "plot(t,v)\n",
      "plot(t,a)\n",
      "xlabel('t(s)')\n",
      "ylabel('s(m), v(m/s) & a(m/s**2)')\n",
      "\n",
      "#Result\n",
      "print'The graphs are the solutions'\n",
      "print'blue line is for \"s\" vs \"t\" '\n",
      "print'green line is for \"v\" vs \"t\" '\n",
      "print'red line is for \"a\" vs \"t\" '\n",
      "# All the 3 graphs have been combined into a single graph"
     ],
     "language": "python",
     "metadata": {},
     "outputs": [
      {
       "output_type": "stream",
       "stream": "stdout",
       "text": [
        "The graphs are the solutions\n",
        "blue line is for \"s\" vs \"t\" \n",
        "green line is for \"v\" vs \"t\" \n",
        "red line is for \"a\" vs \"t\" \n"
       ]
      },
      {
       "metadata": {},
       "output_type": "display_data",
       "png": "[encoded data removed]",
       "text": [
        "<matplotlib.figure.Figure at 0x53be4f0>"
       ]
      }
     ],
     "prompt_number": 1
    },
    {
     "cell_type": "heading",
     "level": 2,
     "metadata": {},
     "source": [
      "Example No 12.12-4, Page No 202"
     ]
    },
    {
     "cell_type": "code",
     "collapsed": false,
     "input": [
      "import math\n",
      "\n",
      "#Initilization of variables\n",
      "v_o=0 #ft/s\n",
      "v_f=88#ft/s\n",
      "t=28 #s\n",
      "\n",
      "#Calculations\n",
      "k=(v_f-v_o)*t**-1 #ft/s**2\n",
      "s=((v_f-v_o)/2)*t #ft\n",
      "\n",
      "#Result\n",
      "print'The value of constant k is',round(k,2),\"ft/s**2\"\n",
      "print'The displacement is ',round(s),\"ft\"\n",
      "#Decimal accuracy causes discrepancy in answers\n"
     ],
     "language": "python",
     "metadata": {},
     "outputs": [
      {
       "output_type": "stream",
       "stream": "stdout",
       "text": [
        "The value of constant k is 3.14 ft/s**2\n",
        "The displacement is  1232.0 ft\n"
       ]
      }
     ],
     "prompt_number": 6
    },
    {
     "cell_type": "heading",
     "level": 2,
     "metadata": {},
     "source": [
      "Example 12.12-5, Page No 202"
     ]
    },
    {
     "cell_type": "code",
     "collapsed": false,
     "input": [
      "import math\n",
      "%matplotlib inline\n",
      "\n",
      "#Initilization of variables\n",
      "v_o=0 #ft/s\n",
      "v_f1=30 #ft/s\n",
      "v_f2=0 #ft/s\n",
      "t1=3 #s\n",
      "t2=2 #s\n",
      "\n",
      "#Calculations\n",
      "#Plotting the v-t curve\n",
      "#Velocity matrix \n",
      "v=[v_o,v_f1,v_f2]\n",
      "#Time matrix\n",
      "t=[0,3,5]\n",
      "plot(t,v)\n",
      "xlabel('t')\n",
      "ylabel('v')\n",
      "#Part \"b\"\n",
      "#Acceleration at 3s\n",
      "a1=(v_f1-v_o)/t1 #ft/s**2\n",
      "#Acceleration at 5s\n",
      "a2=(v_f2-v_f1)/t2 #ft/s**2\n",
      "#Part \"c\"\n",
      "s=(v_f1*t1*0.5)+(v_f1*t2*0.5) #ft\n",
      "#Part \"d\"\n",
      "#Simplfying the equation we get\n",
      "#7.5t**2-30t+5=0\n",
      "a=7.5\n",
      "b=-30\n",
      "c=5\n",
      "q=sqrt(b**2-4*a*c)\n",
      "x1=(-b+q)/(2*a)\n",
      "x2=(-b-q)/(2*a)\n",
      "#As x1 is greater than 2 it does not hold as a solution\n",
      "t=x2 #s\n",
      "#Hence total time is\n",
      "T=t1+t #s\n",
      "\n",
      "#Result\n",
      "print'The graph is the solution for part a'\n",
      "print'The acceleration at 3rd second is',round(a1),\"ft/s**2\"\n",
      "print'The acceleration at 5th second is',round(a2),\"ft/s**2\"\n",
      "print'The displacement is',round(s),\"ft\"\n",
      "print'The total time is',round(T,3),\"s\"\n"
     ],
     "language": "python",
     "metadata": {},
     "outputs": [
      {
       "output_type": "stream",
       "stream": "stdout",
       "text": [
        "The graph is the solution for part a\n",
        "The acceleration at 3rd second is 10.0 ft/s**2\n",
        "The acceleration at 5th second is -15.0 ft/s**2\n",
        "The displacement is 75.0 ft\n",
        "The total time is 3.174 s\n"
       ]
      },
      {
       "metadata": {},
       "output_type": "display_data",
       "png": "[encoded data removed]",
       "text": [
        "<matplotlib.figure.Figure at 0x5bb16b0>"
       ]
      }
     ],
     "prompt_number": 2
    },
    {
     "cell_type": "heading",
     "level": 2,
     "metadata": {},
     "source": [
      "Example No 12.12-6, Page No 203"
     ]
    },
    {
     "cell_type": "code",
     "collapsed": false,
     "input": [
      "import math\n",
      "\n",
      "#Initilization of variables\n",
      "v_o=2 #m/s\n",
      "y_o=120 #m\n",
      "g=9.8 #m/s**2\n",
      "\n",
      "#Calculations\n",
      "#Solve  using ground as datum\n",
      "y=0\n",
      "#Simplfying the equation\n",
      "a=4.9\n",
      "b=-2\n",
      "c=-120\n",
      "q=sqrt(b**2-4*a*c)\n",
      "x1=(-b+q)/(2*a) #s\n",
      "x2=(-b-q)/(2*a) #s\n",
      "\n",
      "#Result\n",
      "print'The time required is',round(x1,2),\"s\"\n",
      "#As x2 is negative and negative time does not make any physical sense\n"
     ],
     "language": "python",
     "metadata": {},
     "outputs": [
      {
       "output_type": "stream",
       "stream": "stdout",
       "text": [
        "The time required is 5.16 s\n"
       ]
      }
     ],
     "prompt_number": 14
    },
    {
     "cell_type": "heading",
     "level": 2,
     "metadata": {},
     "source": [
      "Example 12.12-7, Page No 204"
     ]
    },
    {
     "cell_type": "code",
     "collapsed": false,
     "input": [
      "import math\n",
      "\n",
      "#Initilization of variables\n",
      "Vo1=80 #ft/s\n",
      "Vo2=60 #ft/s\n",
      "g=32.2 #ft/s**2\n",
      "\n",
      "#Calculations\n",
      "#Simplfying by equating the two times\n",
      "t=(-(Vo2*2)-(g*0.5*4))/(Vo1-Vo2-(g*0.5*4)) #s\n",
      "#Substituting this t in s we get\n",
      "s=(Vo1*t)-(0.5*g*t*t) #ft\n",
      "\n",
      "#Result\n",
      "print'The time obtained is',round(t,2),\"s\"\n",
      "print'and the ball meets at',round(s,1),\"ft\"\n"
     ],
     "language": "python",
     "metadata": {},
     "outputs": [
      {
       "output_type": "stream",
       "stream": "stdout",
       "text": [
        "The time obtained is 4.15 s\n",
        "and the ball meets at 54.5 ft\n"
       ]
      }
     ],
     "prompt_number": 15
    },
    {
     "cell_type": "heading",
     "level": 2,
     "metadata": {},
     "source": [
      "Example 12.12-8, Page No 204"
     ]
    },
    {
     "cell_type": "code",
     "collapsed": false,
     "input": [
      "import math\n",
      "\n",
      "#Initilization of variables\n",
      "# as theta=40 degrees\n",
      "costheta=0.77\n",
      "tantheta=0.83\n",
      "x=100 #ft\n",
      "ay=32.2 #ft/s**2\n",
      "\n",
      "#Calculations\n",
      "#Simplfying the equation\n",
      "t=((tantheta*x)*(ay/2)**-1)**0.5 #s\n",
      "#Velocity calculations\n",
      "Vo=100*(costheta*t)**-1 #ft/s\n",
      "\n",
      "#Result\n",
      "\n",
      "print'The initial speed should be',round(Vo,1),\"ft/s\"\n"
     ],
     "language": "python",
     "metadata": {},
     "outputs": [
      {
       "output_type": "stream",
       "stream": "stdout",
       "text": [
        "The initial speed should be 57.2 ft/s\n"
       ]
      }
     ],
     "prompt_number": 24
    },
    {
     "cell_type": "heading",
     "level": 2,
     "metadata": {},
     "source": [
      "Example 12.12-9, Page No 204"
     ]
    },
    {
     "cell_type": "code",
     "collapsed": false,
     "input": [
      "import math\n",
      "%matplotlib inline\n",
      "\n",
      "#Initilization of variables\n",
      "t=[0,1,2,3,4,5,6] #s\n",
      "#Solving the Differential Equations we obtain\n",
      "# Eqn for s is s=(t+1)**3,Thus the different values of s corresponding to t is:\n",
      "#Displacement matrix\n",
      "s=[1,8,27,64,125,216,343]\n",
      "# Eqn for v is v=3*(t+1)**2, Thus the different values of v corresponding to t is:\n",
      "# Velocity matrix\n",
      "v=[3,12,27,48,75,108,147]\n",
      "# Eqn for a is a=6*(t+1),Thus the different values of a corresponding to t is:\n",
      "# Acceleration matrix\n",
      "a=[6,12,18,24,30,36,42]\n",
      "#Plotting\n",
      "plot(t,s)\n",
      "plot(t,v)\n",
      "plot(t,a)\n",
      "xlabel('t(s)')\n",
      "ylabel('s(ft) , v(ft/s) & a(ft/s**2)')\n",
      "\n",
      "#Result\n",
      "print'The result are the plots that have been generated'\n",
      "print'blue line is for \"s\" vs \"t\"'\n",
      "print'green line is for \"v\" vs \"t\"'\n",
      "print'red line is for \"a\" vs \"t\"'\n",
      "# All the graphs have been plotted on a single graph"
     ],
     "language": "python",
     "metadata": {},
     "outputs": [
      {
       "output_type": "stream",
       "stream": "stdout",
       "text": [
        "The result are the plots that have been generated\n",
        "blue line is for \"s\" vs \"t\"\n",
        "green line is for \"v\" vs \"t\"\n",
        "red line is for \"a\" vs \"t\"\n"
       ]
      },
      {
       "metadata": {},
       "output_type": "display_data",
       "png": "[encoded data removed]",
       "text": [
        "<matplotlib.figure.Figure at 0x5ad4a10>"
       ]
      }
     ],
     "prompt_number": 3
    },
    {
     "cell_type": "heading",
     "level": 2,
     "metadata": {},
     "source": [
      "Example 12.12-10, Page No 205"
     ]
    },
    {
     "cell_type": "code",
     "collapsed": false,
     "input": [
      "import math\n",
      "\n",
      "#Initilization of variables\n",
      "t=3 #s\n",
      "\n",
      "#Calculations\n",
      "#After solving the differential equation\n",
      "s=(3**-1)*(t+2)**3 #ft\n",
      "v=(t+2)**2 #ft/s\n",
      "a=2*(t+2) #ft/s**2\n",
      "\n",
      "#Result\n",
      "print'The displacement at t=3s is',round(s,1),\"ft\"\n",
      "print'The velocity at t=3s is',round(v),\"ft/s\"\n",
      "print'The acceleration at t=3s is',round(a),\"ft/s**2\"\n"
     ],
     "language": "python",
     "metadata": {},
     "outputs": [
      {
       "output_type": "stream",
       "stream": "stdout",
       "text": [
        "The displacement at t=3s is 41.7 ft\n",
        "The velocity at t=3s is 25.0 ft/s\n",
        "The acceleration at t=3s is 10.0 ft/s**2\n"
       ]
      }
     ],
     "prompt_number": 33
    },
    {
     "cell_type": "heading",
     "level": 2,
     "metadata": {},
     "source": [
      "Example 12.12-12, Page No 206"
     ]
    },
    {
     "cell_type": "code",
     "collapsed": false,
     "input": [
      "import math\n",
      "\n",
      "#Initilization of variables\n",
      "#Calling upward direction positive\n",
      "xdot1=6 #ft/s\n",
      "xdot3=3 #ft/s\n",
      "xdoubledot=2 #ft/s**2\n",
      "xdoubledot3=-4 #ft/s**2\n",
      "\n",
      "#Calculations\n",
      "xdot=-xdot1 #ft/s\n",
      "xdot2=2*xdot-xdot3 #ft/s\n",
      "xdoubledot2=2*xdoubledot-xdoubledot3 #ft/s**2\n",
      "\n",
      "#Result\n",
      "print'The value of velocity is',round(xdot2,3),\"ft/s (down)\"\n",
      "print'The value of acceleration is',round(xdoubledot2,3),\"ft/s**2\"\n"
     ],
     "language": "python",
     "metadata": {},
     "outputs": [
      {
       "output_type": "stream",
       "stream": "stdout",
       "text": [
        "The value of velocity is -15.0 ft/s (down)\n",
        "The value of acceleration is 8.0 ft/s**2\n"
       ]
      }
     ],
     "prompt_number": 35
    },
    {
     "cell_type": "heading",
     "level": 2,
     "metadata": {},
     "source": [
      "Example 12.12-16, Page No 207"
     ]
    },
    {
     "cell_type": "code",
     "collapsed": false,
     "input": [
      "import math\n",
      "\n",
      "#Initilization of variables\n",
      "t=4 #s\n",
      "\n",
      "#Calculations\n",
      "#Part (a)\n",
      "x=t**3 #in\n",
      "y=-2*t**2 #in\n",
      "z=2*t #in\n",
      "#Part (b)\n",
      "#Theory question\n",
      "#Part(c)\n",
      "#Unit vector calculation\n",
      "m=(4**2+1**1+(-3)**2)**0.5\n",
      "e_l=[4*m**-1,m**-1,-3*m**-1]\n",
      "v=[3*t**2,-4*t,2] #in/s\n",
      "#Projection of v on n at t=4s\n",
      "dot=[v[0]*e_l[0],v[1]*e_l[1],v[2]*e_l[2]]\n",
      "#dot=v.*e_l #in/s\n",
      "a=dot[0]+dot[1]+dot[2] #in/s\n",
      "\n",
      "#Result\n",
      "print'The co-ordinates of position are x=',round(x),\"in ,\",round(y),\"in and \",round(z),\"in respectively\"\n",
      "print'The projection of v on n at t=4s is',round(a,1),\"in/s\"\n"
     ],
     "language": "python",
     "metadata": {},
     "outputs": [
      {
       "output_type": "stream",
       "stream": "stdout",
       "text": [
        "The co-ordinates of position are x= 64.0 in , -32.0 in and  8.0 in respectively\n",
        "The projection of v on n at t=4s is 33.3 in/s\n"
       ]
      }
     ],
     "prompt_number": 39
    },
    {
     "cell_type": "heading",
     "level": 2,
     "metadata": {},
     "source": [
      "Example 12.12-17, Page No 208"
     ]
    },
    {
     "cell_type": "code",
     "collapsed": false,
     "input": [
      "import math\n",
      "\n",
      "#Initilization of variables\n",
      "theta=pi/3 #rad\n",
      "\n",
      "#Calculations\n",
      "#Method (a)\n",
      "t=(theta)**0.5 #s\n",
      "r=2*theta\n",
      "rdot=4*t\n",
      "thetadot=2*t\n",
      "#Velocity calculations\n",
      "x=r*thetadot\n",
      "v=((rdot)**2+x**2)**0.5 #ft/s\n",
      "#Theta calculations\n",
      "thetax=30+arctan(rdot/x)*(180/pi) #degrees\n",
      "#Method (b)\n",
      "x=2*theta*cos(theta) #ft\n",
      "y=2*theta*sin(theta) #ft\n",
      "xdot=4*t*((cos(t**2)))+2*t**2*(-sin(t**2))*(2*t) #ft/s\n",
      "ydot=4*t**2*sin(t**2)+2*t**2*cos(t**2)*2*t #ft/s\n",
      "V=(xdot**2+ydot**2)**0.5 #ft/s\n",
      "Thetax=arctan(ydot/-xdot)*(180/pi) #degrees\n",
      "\n",
      "#Result\n",
      "print'By both the methods we obtain v and thetax as:'\n",
      "print'Method 1'\n",
      "print'v=',round(v,2),\"ft/s\",'and thetax=',round(thetax,1),\"degrees\"\n",
      "print'Method 2'\n",
      "print'V=',round(v,2),\"ft/s\",'and Thetax=',round(Thetax,1),\"degrees\"\n",
      "# The answer may wary due to decimal point accuracy"
     ],
     "language": "python",
     "metadata": {},
     "outputs": [
      {
       "output_type": "stream",
       "stream": "stdout",
       "text": [
        "By both the methods we obtain v and thetax as:\n",
        "Method 1\n",
        "v= 5.93 ft/s and thetax= 73.7 degrees\n",
        "Method 2\n",
        "V= 5.93 ft/s and Thetax= 73.9 degrees\n"
       ]
      }
     ],
     "prompt_number": 76
    },
    {
     "cell_type": "heading",
     "level": 2,
     "metadata": {},
     "source": [
      "Example 12.12-18, Page No 209"
     ]
    },
    {
     "cell_type": "code",
     "collapsed": false,
     "input": [
      "import math\n",
      "\n",
      "#Initilization of variables\n",
      "theta=pi/3 #rad\n",
      "\n",
      "#Calculations\n",
      "t=sqrt(theta) #s\n",
      "thetadot=2*t \n",
      "thetadoubledot=2\n",
      "r=2*t**2\n",
      "rdot=4*t\n",
      "rdoubledot=4\n",
      "ax=rdoubledot-(r*thetadoubledot*thetadoubledot) #ft/s**2\n",
      "ay=2*rdot*thetadot+r*thetadoubledot #ft/s**2\n",
      "a=sqrt(ax**2+ay**2) # fr/s**2\n",
      "thetax=30+arctan(ax/ay)*(180/pi) #degrees\n",
      "#Solving by cartesian co-ordinate system yields same solution\n",
      "\n",
      "#Result\n",
      "print'The value of acceleration is',round(a,1),\"ft/s**2\"\n",
      "print'The value of thetax is',round(thetax,1),\"degrees\"\n",
      "#Decimal accuracy causes discrepancy in answers\n",
      "# The ans for thetax is incorrcet in textbook"
     ],
     "language": "python",
     "metadata": {},
     "outputs": [
      {
       "output_type": "stream",
       "stream": "stdout",
       "text": [
        "The value of acceleration is 21.4 ft/s**2\n",
        "The value of thetax is 18.2 degrees\n"
       ]
      }
     ],
     "prompt_number": 78
    },
    {
     "cell_type": "heading",
     "level": 2,
     "metadata": {},
     "source": [
      "Example 12.12-21, Page No 211"
     ]
    },
    {
     "cell_type": "code",
     "collapsed": false,
     "input": [
      "import math\n",
      "\n",
      "#Initilization of variables\n",
      "Va=5 #ft/s\n",
      "# as theta=70 degrees\n",
      "sintheta=0.94\n",
      "costheta=0.34\n",
      "l=6.24 #ft\n",
      "\n",
      "#Calculations\n",
      "Vb=(-costheta/sintheta)*Va #ft/s\n",
      "\n",
      "#Result\n",
      "print'The value of Vb is',round(Vb,2),\"ft/s\"\n"
     ],
     "language": "python",
     "metadata": {},
     "outputs": [
      {
       "output_type": "stream",
       "stream": "stdout",
       "text": [
        "The value of Vb is -1.81 ft/s\n"
       ]
      }
     ],
     "prompt_number": 81
    },
    {
     "cell_type": "heading",
     "level": 2,
     "metadata": {},
     "source": [
      "Example 12.25-25, Page No 214"
     ]
    },
    {
     "cell_type": "code",
     "collapsed": false,
     "input": [
      "import math\n",
      "import numpy as np\n",
      "%matplotlib inline\n",
      "\n",
      "#Initilization of variables\n",
      "theta=linspace(0,360,13)\n",
      "\n",
      "#Calculations\n",
      "#Defining everything in terms of matrices \n",
      "t=(theta*pi)/(180) #s converting degrees to radians\n",
      "costheta=cos(t) \n",
      "sintheta=sin(t)\n",
      "x=2*costheta #ft\n",
      "v=-12*sintheta #ft/s\n",
      "a=-72*costheta #ft/s**2\n",
      "\n",
      "#Plotting\n",
      "# 1\n",
      "plot(t,x)\n",
      "# 2\n",
      "plot(t,v)\n",
      "# 3\n",
      "plot(t,a)\n",
      "xlabel('t(s)')\n",
      "ylabel('x(ft) , v(ft/s) ,a(ft/s**2)')\n",
      "\n",
      "#Result\n",
      "print'The results are the plots'\n",
      "print'The curve in blue colour represents t vs x'\n",
      "print'The curve in green represents t vs v'\n",
      "print'The curve in red represents t vs a'\n",
      "# All the 3 curves have been plotted in the same graph. "
     ],
     "language": "python",
     "metadata": {},
     "outputs": [
      {
       "output_type": "stream",
       "stream": "stdout",
       "text": [
        "The results are the plots\n",
        "The curve in blue colour represents t vs x\n",
        "The curve in green represents t vs v\n",
        "The curve in red represents t vs a\n"
       ]
      },
      {
       "metadata": {},
       "output_type": "display_data",
       "png": "[encoded data removed]",
       "text": [
        "<matplotlib.figure.Figure at 0x5bd53f0>"
       ]
      }
     ],
     "prompt_number": 9
    },
    {
     "cell_type": "heading",
     "level": 2,
     "metadata": {},
     "source": [
      "Example 12.12-26, Page No 215"
     ]
    },
    {
     "cell_type": "code",
     "collapsed": false,
     "input": [
      "import math\n",
      "\n",
      "#Initilization of variables\n",
      "d=1.2 #m\n",
      "w0=0 #rpm\n",
      "w=2000 #rpm\n",
      "t=20 #s\n",
      "\n",
      "#Calculations\n",
      "alpha=(w-w0)/t \n",
      "alpha_rad=(alpha*2*pi)/60 #converting to radians/s**2\n",
      "\n",
      "#Result\n",
      "print'The angular acceleration is',round(alpha_rad,1),\"radians/s**2\"\n"
     ],
     "language": "python",
     "metadata": {},
     "outputs": [
      {
       "output_type": "stream",
       "stream": "stdout",
       "text": [
        "The angular acceleration is 10.5 radians/s**2\n"
       ]
      }
     ],
     "prompt_number": 17
    },
    {
     "cell_type": "heading",
     "level": 2,
     "metadata": {},
     "source": [
      "Example 12.12-27, Page No 216"
     ]
    },
    {
     "cell_type": "code",
     "collapsed": false,
     "input": [
      "import math\n",
      "\n",
      "#Initilization of variables\n",
      "w0=0 #rad/s\n",
      "w=209 #rad/s\n",
      "t=20 #s\n",
      "\n",
      "#Calculations\n",
      "theta=0.5*(w+w0)*t #rad\n",
      "theta_rev=round(theta/(2*pi)) #revolutions rounding off\n",
      "\n",
      "#Result\n",
      "print'The flywheel makes',round(theta_rev),\"revolutions\"\n"
     ],
     "language": "python",
     "metadata": {},
     "outputs": [
      {
       "output_type": "stream",
       "stream": "stdout",
       "text": [
        "The flywheel makes 333.0 revolutions\n"
       ]
      }
     ],
     "prompt_number": 18
    },
    {
     "cell_type": "heading",
     "level": 2,
     "metadata": {},
     "source": [
      "Example 12.12-28, Page No 216"
     ]
    },
    {
     "cell_type": "code",
     "collapsed": false,
     "input": [
      "import math\n",
      "\n",
      "#Initilization of variables\n",
      "w0=0 #rad/s\n",
      "alpha=10.5 #rad/s**2\n",
      "t=0.6 #s\n",
      "r=0.6 #m\n",
      "\n",
      "#Calculations\n",
      "w=w0+alpha*t #rad/s\n",
      "v=r*w #m/s\n",
      "a_t=r*alpha #m/s**2\n",
      "a_n=r*w*w #m/s**2\n",
      "a=sqrt(a_t**2+a_n**2) #m/s**2\n",
      "phi=arctan(a_t/a_n)*(180/pi) #degrees\n",
      "\n",
      "#result\n",
      "print'The tangential velocity is',round(v,2),\"m/s\"\n",
      "print'The acceleration is',round(a,1),\"m/s**2\"\n",
      "print'and the angle is',round(phi,1),\"degrees\"\n"
     ],
     "language": "python",
     "metadata": {},
     "outputs": [
      {
       "output_type": "stream",
       "stream": "stdout",
       "text": [
        "The tangential velocity is 3.78 m/s\n",
        "The acceleration is 24.6 m/s**2\n",
        "and the angle is 14.8 degrees\n"
       ]
      }
     ],
     "prompt_number": 19
    },
    {
     "cell_type": "heading",
     "level": 2,
     "metadata": {},
     "source": [
      "Example 12.12-29, Page No 216"
     ]
    },
    {
     "cell_type": "code",
     "collapsed": false,
     "input": [
      "import math\n",
      "\n",
      "#Initilization of variables\n",
      "l=4 #ft\n",
      "wb=40 #rpm\n",
      "we=60 #rpm\n",
      "\n",
      "#Calculations\n",
      "r=l/2 #ft\n",
      "vb=r*((wb*2*pi)/60) #ft/s\n",
      "ve=r*((we*2*pi)/60) # ft/s\n",
      "\n",
      "#Result\n",
      "print'The linear speeds are:'\n",
      "print'vb=',round(vb,2),\"ft/s\"\n",
      "print'and ve=',round(ve,1),\"ft/s\"\n"
     ],
     "language": "python",
     "metadata": {},
     "outputs": [
      {
       "output_type": "stream",
       "stream": "stdout",
       "text": [
        "The linear speeds are:\n",
        "vb= 8.38 ft/s\n",
        "and ve= 12.6 ft/s\n"
       ]
      }
     ],
     "prompt_number": 21
    },
    {
     "cell_type": "heading",
     "level": 2,
     "metadata": {},
     "source": [
      "Example 12.12-30, Page No 217"
     ]
    },
    {
     "cell_type": "code",
     "collapsed": false,
     "input": [
      "import math\n",
      "\n",
      "#Initilization of variables\n",
      "wb=40 #rpm\n",
      "we=60 #rpm\n",
      "t1=5 #s using different symbol to avoid conflict in decleration\n",
      "t=2 #s\n",
      "#Calculations\n",
      "\n",
      "alpha=(((we*2*pi)/60)-((wb*2*pi)/60))/t1 #rad/s**2\n",
      "w=((wb*2*pi)/60)+alpha*t #rad/s\n",
      "#Components of acceleration are\n",
      "a_t=r*alpha #ft/s**2\n",
      "a_n=r*w**2 #ft/s**2\n",
      "\n",
      "#result\n",
      "print'The tangential acceleration is',round(a_t,3),\"ft/s**2\"\n",
      "print'The normal acceleration is',round(a_n,1),\"ft/s**2\"\n"
     ],
     "language": "python",
     "metadata": {},
     "outputs": [
      {
       "output_type": "stream",
       "stream": "stdout",
       "text": [
        "The tangential acceleration is 0.838 ft/s**2\n",
        "The normal acceleration is 50.5 ft/s**2\n"
       ]
      }
     ],
     "prompt_number": 23
    },
    {
     "cell_type": "heading",
     "level": 2,
     "metadata": {},
     "source": [
      "Example 12.12-31, Page No 217"
     ]
    },
    {
     "cell_type": "code",
     "collapsed": false,
     "input": [
      "import math\n",
      "\n",
      "#Initilization of variables\n",
      "d=200 #mm\n",
      "w0=(800*2*pi)/60 #rpm\n",
      "w=0 #rpm\n",
      "t=600 #s\n",
      "\n",
      "#Calculations\n",
      "alpha=(w-w0)/t #rad/s**2 (deceleration)\n",
      "\n",
      "#result\n",
      "print'The angular acceleration is',round(alpha,2),\"radian/s**2\"\n",
      "# The negative sign indicates that the wheel decelerates\n"
     ],
     "language": "python",
     "metadata": {},
     "outputs": [
      {
       "output_type": "stream",
       "stream": "stdout",
       "text": [
        "The angular acceleration is -0.14 radian/s**2\n"
       ]
      }
     ],
     "prompt_number": 25
    },
    {
     "cell_type": "heading",
     "level": 2,
     "metadata": {},
     "source": [
      "Example 12.12-32, Page No 217"
     ]
    },
    {
     "cell_type": "code",
     "collapsed": false,
     "input": [
      "import math\n",
      "\n",
      "#Initilization of variables\n",
      "#The symbols used here differ from the textbook solution to avoid conflict \n",
      "t1=0 #s\n",
      "t2=0.5 #s\n",
      "t3=2.5 #s\n",
      "t4=3**-1 #s\n",
      "w=200 #rpm\n",
      "w0=0 #rpm\n",
      "\n",
      "#Calculations\n",
      "theta1=0.5*(w0+(w*60**-1))*t2 #rev\n",
      "theta2=(w*60**-1)*(t3-t2) #rev\n",
      "theta3=(2**-1)*((w*60**-1)+w0)*t4 #rev here the values of w and w0 are interchanged but essentially the value comes out to be the same hence the decleration has not been changed\n",
      "theta=theta1+theta2+theta3 #rev\n",
      "\n",
      "#Result\n",
      "print'The wheel undergoes',round(theta,2),\"revolutions\"\n"
     ],
     "language": "python",
     "metadata": {},
     "outputs": [
      {
       "output_type": "stream",
       "stream": "stdout",
       "text": [
        "The wheel undergoes 8.06 revolutions\n"
       ]
      }
     ],
     "prompt_number": 33
    },
    {
     "cell_type": "heading",
     "level": 2,
     "metadata": {},
     "source": [
      "Example 12.12-34, Page No 218"
     ]
    },
    {
     "cell_type": "code",
     "collapsed": false,
     "input": [
      "import math\n",
      "\n",
      "#Initilization of variables\n",
      "t=1 #s\n",
      "r=4 #m\n",
      "\n",
      "#Calculations\n",
      "s=t**3+3 #m\n",
      "theta=s/r #rad\n",
      "dtheta_dt=0.75*t**2 #rad/s\n",
      "Vx=-4*sin(theta)*dtheta_dt #m/s\n",
      "Vy=4*cos(theta)*dtheta_dt #m/s\n",
      "V=(Vx**2+Vy**2)**0.5 #m/s\n",
      "\n",
      "#Result\n",
      "print'The components of  velocity are:'\n",
      "print'Vx=',round(Vx,2),\"m/s\"\n",
      "print'Vy=',round(Vy,2),\"m/s\"\n",
      "print'V=',round(V),\"m/s\"\n"
     ],
     "language": "python",
     "metadata": {},
     "outputs": [
      {
       "output_type": "stream",
       "stream": "stdout",
       "text": [
        "The components of  velocity are:\n",
        "Vx= -2.52 m/s\n",
        "Vy= 1.62 m/s\n",
        "V= 3.0 m/s\n"
       ]
      }
     ],
     "prompt_number": 35
    },
    {
     "cell_type": "heading",
     "level": 2,
     "metadata": {},
     "source": [
      "Example 12.12-35, Page No 218"
     ]
    },
    {
     "cell_type": "code",
     "collapsed": false,
     "input": [
      "import math\n",
      "\n",
      "#Initilization of variables\n",
      "t=1 #s\n",
      "theta=1 #rad\n",
      "\n",
      "#Calculations\n",
      "dtheta_dt=0.75*t**2 #rad/s\n",
      "acc=1.5*t #rad/s**2\n",
      "ax=-4*cos(theta)*dtheta_dt**2-(4*sin(theta)*acc) #m/s**2 (to left)\n",
      "ay=-4*sin(theta)*dtheta_dt**2+(4*cos(theta)*acc) #m/s**2 (up)\n",
      "a=sqrt(ax**2+ay**2) #m/s**2\n",
      "\n",
      "#result\n",
      "print'The acceleration is',round(a,2),\"m/s**2\"\n"
     ],
     "language": "python",
     "metadata": {},
     "outputs": [
      {
       "output_type": "stream",
       "stream": "stdout",
       "text": [
        "The acceleration is 6.41 m/s**2\n"
       ]
      }
     ],
     "prompt_number": 38
    },
    {
     "cell_type": "heading",
     "level": 2,
     "metadata": {},
     "source": [
      "Example 12.12-36, Page No 218"
     ]
    },
    {
     "cell_type": "code",
     "collapsed": false,
     "input": [
      "import math\n",
      "\n",
      "#Initilization of variables\n",
      "t=2 #s\n",
      "\n",
      "#Calculations\n",
      "#Velocity\n",
      "vx=8*t-3 #ft/s\n",
      "vy=3*t**2 #ft/s\n",
      "v=sqrt(vx**2+vy**2) #ft/s\n",
      "theta_x=arctan(vy*vx**-1)*(180/pi) #degrees\n",
      "#Acceleration\n",
      "ax=8 #ft/s**2\n",
      "ay=6*t #ft/s**2\n",
      "a=sqrt(ax**2+ay**2) #ft/s**2\n",
      "phi_x=arctan(ay*ax**-1)*(180/pi) #degrees\n",
      "\n",
      "#Result\n",
      "print'The velocity is',round(v,1),\"ft/s\"\n",
      "print'and the angle is',round(theta_x,1),\"degrees\"\n",
      "print'The acceleration is',round(a,1),\"ft/s**2\"\n",
      "print'and the angle it makes is',round(phi_x,1),\"degrees\"\n"
     ],
     "language": "python",
     "metadata": {},
     "outputs": [
      {
       "output_type": "stream",
       "stream": "stdout",
       "text": [
        "The velocity is 17.7 ft/s\n",
        "and the angle is 42.7 degrees\n",
        "The acceleration is 14.4 ft/s**2\n",
        "and the angle it makes is 56.3 degrees\n"
       ]
      }
     ],
     "prompt_number": 46
    },
    {
     "cell_type": "heading",
     "level": 2,
     "metadata": {},
     "source": [
      "Example 12.12-37, Page No 219"
     ]
    },
    {
     "cell_type": "code",
     "collapsed": false,
     "input": [
      "import math\n",
      "\n",
      "#Initilization of variables\n",
      "V_ao=29.3 #ft/s\n",
      "OA=50 #ft\n",
      "theta=45 #degrees\n",
      "OB=50*sqrt(2) #ft\n",
      "\n",
      "#Calculations\n",
      "w_ao=V_ao/OA #rad/s\n",
      "V_bo=V_ao*cos(theta) #ft/s\n",
      "w_bo=V_bo/OB #rad/s\n",
      "\n",
      "#Result\n",
      "print'The angular velocity with respect to the observer is',round(w_ao,3),\"rad/s\"\n",
      "print' The angular velocity after moving 50ft is',round(w_bo,3),\"rad/s\"\n",
      "# The answer for w_bo is incorrect in textbook"
     ],
     "language": "python",
     "metadata": {},
     "outputs": [
      {
       "output_type": "stream",
       "stream": "stdout",
       "text": [
        "The angular velocity with respect to the observer is 0.586 rad/s\n",
        " The angular velocity after moving 50ft is 0.218 rad/s\n"
       ]
      }
     ],
     "prompt_number": 47
    },
    {
     "cell_type": "heading",
     "level": 2,
     "metadata": {},
     "source": [
      "Example 12.12-38, Page No 219"
     ]
    },
    {
     "cell_type": "code",
     "collapsed": false,
     "input": [
      "import math\n",
      "\n",
      "#Initiliztaion of variables\n",
      "# as theta=30 degrees\n",
      "costheta=sqrt(3)*2**-1\n",
      "tantheta=sqrt(3)**-1\n",
      "r=[100*tantheta*(180/pi),100] #ft\n",
      "v=17.6 #ft/s\n",
      "\n",
      "#Calculations\n",
      "v_1=100*costheta**-1*costheta**-1\n",
      "w=v/v_1 #rad/s (clockwise)\n",
      "\n",
      "#result\n",
      "print'The angular velocity is',round(w,3),\"rad/s clockwise\"\n"
     ],
     "language": "python",
     "metadata": {},
     "outputs": [
      {
       "output_type": "stream",
       "stream": "stdout",
       "text": [
        "The angular velocity is 0.132 rad/s clockwise\n"
       ]
      }
     ],
     "prompt_number": 53
    },
    {
     "cell_type": "heading",
     "level": 2,
     "metadata": {},
     "source": [
      "Example 12.12-39, Page No 220"
     ]
    },
    {
     "cell_type": "code",
     "collapsed": false,
     "input": [
      "import math\n",
      "\n",
      "#Initilization of variables\n",
      "t=2 #s\n",
      "\n",
      "#Calculations\n",
      "Vx=20*t+5 #m/s\n",
      "Vy=t**2-20 #m/s\n",
      "#As indefinite integral is not possible \n",
      "x=10*t**2+5*t+5 #m\n",
      "y=0.5*t**2-20*t-15 #m\n",
      "ax=20 #m/s**2\n",
      "ay=2*t #m/s**2\n",
      "\n",
      "#Result\n",
      "print'The displacement components are x=',round(x),\"m\",'and y=',round(y),\"m.\"\n",
      "print'The velocity components are: Vx=',round(Vx),\"m/s\",'and Vy=',round(Vy),\"m/s\"\n",
      "print'The acceleration components are: ax=',round(ax),\"m/s**2\",'and ay=',round(ay),\"m/s**2\"\n"
     ],
     "language": "python",
     "metadata": {},
     "outputs": [
      {
       "output_type": "stream",
       "stream": "stdout",
       "text": [
        "The displacement components are x= 55.0 m and y= -53.0 m.\n",
        "The velocity components are: Vx= 45.0 m/s and Vy= -16.0 m/s\n",
        "The acceleration components are: ax= 20.0 m/s**2 and ay= 4.0 m/s**2\n"
       ]
      }
     ],
     "prompt_number": 55
    },
    {
     "cell_type": "heading",
     "level": 2,
     "metadata": {},
     "source": [
      "Example 12.12-40, Page No 221"
     ]
    },
    {
     "cell_type": "code",
     "collapsed": false,
     "input": [
      "import math\n",
      "\n",
      "#Initilization of variables\n",
      "d=0.1 #m\n",
      "v=20 #m/s\n",
      "a_g=6 #m/s**2\n",
      "d2=0.150 #m\n",
      "\n",
      "#Calculations\n",
      "r=d/2 #m\n",
      "w=v/r #rad/s\n",
      "vb=d2*0.5*w #m/s\n",
      "alpha=a_g/r #rad/s**2\n",
      "a_t=d2*0.5*alpha #rad/s**2 tangential acceleration\n",
      "a_n=d2*0.5*w*w #m/s**2 normal acceleration\n",
      "a=sqrt(a_t**2+a_n**2) #m/s**2 linear acceleration\n",
      "\n",
      "#Result\n",
      "print'The linear velocity is',round(vb),\"m/s\"\n",
      "print'The acceleration is',round(a),\"m/s**2\"\n"
     ],
     "language": "python",
     "metadata": {},
     "outputs": [
      {
       "output_type": "stream",
       "stream": "stdout",
       "text": [
        "The linear velocity is 30.0 m/s\n",
        "The acceleration is 12000.0 m/s**2\n"
       ]
      }
     ],
     "prompt_number": 57
    },
    {
     "cell_type": "heading",
     "level": 2,
     "metadata": {},
     "source": [
      "Example 12.12-41, Page No 221"
     ]
    },
    {
     "cell_type": "code",
     "collapsed": false,
     "input": [
      "import math\n",
      "\n",
      "#Initilization of variables\n",
      "# as theta=40 degrees\n",
      "sintheta=0.64\n",
      "costheta=0.77\n",
      "tantheta=0.83\n",
      "x=100 #ft\n",
      "ax=0 #ft/s**2\n",
      "ay=-32.2 #ft/s**2\n",
      "\n",
      "#Calculations\n",
      "#vox=vocos40....(1)\n",
      "#voy=vox*t-1/2(32.2)t^2...(2)\n",
      "#Simplyfying eq (1) and eq(2)\n",
      "t_f=((x*tantheta)/(0.5*(-ay)))**0.5 #s time of flight\n",
      "Vo=x/(costheta*t_f) #ft/s\n",
      "#As the max height occurs at half wat through the flight\n",
      "t=t_f/2 #s\n",
      "ymax=Vo*sintheta*t+(0.5*ay*t*t) #ft the formula has positive sign as ay is defined negative\n",
      "\n",
      "#result\n",
      "print'The max height the ball will reach is',round(ymax,1),\"ft\"\n",
      "\n",
      "# The ans in textbook is incorrect"
     ],
     "language": "python",
     "metadata": {},
     "outputs": [
      {
       "output_type": "stream",
       "stream": "stdout",
       "text": [
        "The max height the ball will reach is 20.8 ft\n"
       ]
      }
     ],
     "prompt_number": 14
    }
   ],
   "metadata": {}
  }
 ]
}