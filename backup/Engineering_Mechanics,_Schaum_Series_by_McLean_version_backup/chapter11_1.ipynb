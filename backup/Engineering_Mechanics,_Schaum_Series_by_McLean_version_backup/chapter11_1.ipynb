{
 "metadata": {
  "name": "chapter11.ipynb"
 },
 "nbformat": 3,
 "nbformat_minor": 0,
 "worksheets": [
  {
   "cells": [
    {
     "cell_type": "heading",
     "level": 1,
     "metadata": {},
     "source": [
      "Chapter 11: Virtual Work"
     ]
    },
    {
     "cell_type": "heading",
     "level": 2,
     "metadata": {},
     "source": [
      "Example 11.11-6, Page no 188"
     ]
    },
    {
     "cell_type": "code",
     "collapsed": false,
     "input": [
      "import math\n",
      "\n",
      "#Initilization of variables\n",
      "N=100 #lb\n",
      "mu=0.3 #coefficient of friction\n",
      "l=5 #in compressed to length\n",
      "\n",
      "#Calculations\n",
      "#Simplfying the calculations we obtain\n",
      "M=8*(N+N*mu) #lb-in\n",
      "\n",
      "#Result\n",
      "print'The Moment is',round(M,3),\"lb-in\"\n"
     ],
     "language": "python",
     "metadata": {},
     "outputs": [
      {
       "output_type": "stream",
       "stream": "stdout",
       "text": [
        "The Moment is 1040.0 lb-in\n"
       ]
      }
     ],
     "prompt_number": 1
    },
    {
     "cell_type": "heading",
     "level": 2,
     "metadata": {},
     "source": [
      "Example 11.11-7, Page no 189"
     ]
    },
    {
     "cell_type": "code",
     "collapsed": false,
     "input": [
      "import math\n",
      "\n",
      "#Initilization of variables\n",
      "m=10 #kg\n",
      "g=9.81 # m/s**2\n",
      "F=200 #N\n",
      "l=3 #m\n",
      "\n",
      "#Calculations\n",
      "#Applying Virtual work principle\n",
      "By=m*g*0.5 #N\n",
      "Bx=F*(2*3**-1) #N\n",
      "#By equations of equilibrium\n",
      "Ax=-Bx-F #N negative sign indictaes the LEFT orientation\n",
      "Ay=m*g-By #N\n",
      "\n",
      "#Result\n",
      "print'The values are'\n",
      "print'Ax=',round(Ax),\"N to left\"\n",
      "print'Ay=',round(Ay),\"N up\"\n",
      "print'Bx=',round(Bx),\"N to right\"\n",
      "print'By=',round(By),\"N up\""
     ],
     "language": "python",
     "metadata": {},
     "outputs": [
      {
       "output_type": "stream",
       "stream": "stdout",
       "text": [
        "The values are\n",
        "Ax= -333.0 N to left\n",
        "Ay= 49.0 N up\n",
        "Bx= 133.0 N to right\n",
        "By= 49.0 N up\n"
       ]
      }
     ],
     "prompt_number": 2
    }
   ],
   "metadata": {}
  }
 ]
}