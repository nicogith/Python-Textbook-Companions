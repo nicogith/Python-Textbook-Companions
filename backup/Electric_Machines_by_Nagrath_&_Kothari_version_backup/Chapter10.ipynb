{
 "metadata": {
  "name": ""
 },
 "nbformat": 3,
 "nbformat_minor": 0,
 "worksheets": [
  {
   "cells": [
    {
     "cell_type": "heading",
     "level": 1,
     "metadata": {},
     "source": [
      "Chapter 10 : Fractional Kilowatt Motors"
     ]
    },
    {
     "cell_type": "heading",
     "level": 2,
     "metadata": {},
     "source": [
      "Example 10.1, Page No 148"
     ]
    },
    {
     "cell_type": "code",
     "collapsed": false,
     "input": [
      "import math\n",
      "#initialisation of variables\n",
      "# to compute the ratio of E_mf/E_mb,V_f/V_b,T_f/T_b,gross total torque,T_f/total torque, T_b/total torque\n",
      "\n",
      "  \n",
      "R_lm=3.0 \n",
      "X_lm=5.0 \n",
      "R_2=1.5 \n",
      "X_2=2.0 \n",
      "s=1-.97         #slip\n",
      "\n",
      "#Calculations\n",
      "a=complex(R_2/s,X_2) \n",
      "b=complex(R_2/(2-s),X_2) \n",
      "c=abs(a)/abs(b) \n",
      "print(c,'E_mf/E_mb') \n",
      "a=(1.0/2)*complex((R_lm+R_2/s),(X_lm+X_2)) \n",
      "b=(1.0/2)*complex((R_lm+R_2/(2-s)),(X_lm+X_2)) \n",
      "c=abs(a)/abs(b) \n",
      "print(c,'V_f/V_b') \n",
      "d=(2.0-s)/s \n",
      "print(d,'T_f/T_b') \n",
      "Z_tot=a+b \n",
      "V=220.0 \n",
      "I_m=V/abs(Z_tot) \n",
      "P=6.0 \n",
      "f=50.0 \n",
      "n_s=120.0*f/P \n",
      "w_s=2*math.pi*n_s/60 \n",
      "T_f=(I_m**2*R_2/(2*w_s))*(1/s) \n",
      "T_b=(I_m**2*R_2/(2*w_s))*(1/(2-s)) \n",
      "T_tot=T_f-T_b \n",
      "print(T_tot,'gross total torque(Nm)') \n",
      "a=T_f/T_tot \n",
      "b=T_b/T_tot \n",
      "\n",
      "#Results\n",
      "print(a,'T_f/T_total') \n",
      "print(b,'T_b/T_total') \n"
     ],
     "language": "python",
     "metadata": {},
     "outputs": [
      {
       "output_type": "stream",
       "stream": "stdout",
       "text": [
        "(23.38275544101299, 'E_mf/E_mb')\n",
        "(6.727447444111447, 'V_f/V_b')\n",
        "(65.66666666666661, 'T_f/T_b')\n",
        "(13.316745850891841, 'gross total torque(Nm)')\n",
        "(1.0154639175257731, 'T_f/T_total')\n",
        "(0.015463917525773207, 'T_b/T_total')\n"
       ]
      }
     ],
     "prompt_number": 1
    },
    {
     "cell_type": "heading",
     "level": 2,
     "metadata": {},
     "source": [
      "Example 10.2, Page No 149"
     ]
    },
    {
     "cell_type": "code",
     "collapsed": false,
     "input": [
      "import math\n",
      "#initialisation of variables\n",
      "# to calculate parameters of the ckt model, line current, power factor, shaft torque and efficiency\n",
      "\n",
      "  \n",
      "V_0=215.0 \n",
      "I_0=3.9 \n",
      "P_0=185.0 \n",
      "R_1=1.6 \n",
      "V_sc=85 \n",
      "I_sc=9.8 \n",
      "P_sc=390.0 \n",
      "X=(V_0/I_0)*2.0         #magnetisation reactance\n",
      "phi_sc=math.degrees(math.acos(P_sc/(V_sc*I_sc)))\n",
      "I_e=V_sc/complex(0,X) \n",
      "I_SC=I_sc*complex(math.cos(math.radians(phi_sc*(-1))),math.sin(math.radians(phi_sc*(-1)))) \n",
      "I_m=I_SC-I_e \n",
      "Z=V_sc/I_m \n",
      "R_2=(Z.real)-R_1     #real(Z)=R=R1+R2\n",
      "print(R_2,'R_2(ohm)') \n",
      "print((Z.imag),'X_1+X_2(ohm)') \n",
      "\n",
      "#Calculations\n",
      "n=1500.0     \n",
      "nn=1440 \n",
      "s=(n-nn)/n \n",
      "a=1.55/s \n",
      "b=1.55/(2-s) \n",
      "Z_ftot=(complex(0,X/2))*(complex(a+.8,(Z.imag)/2))/((complex(0,X/2))+(complex(a+.8,(Z.imag)/2))) \n",
      "Z_btot=(complex(0,X/2))*(complex(b+.8,(Z.imag)/2))/((complex(0,X/2))+(complex(b+.8,(Z.imag)/2))) \n",
      "Z_tot=Z_ftot+Z_btot \n",
      "I_m=V_0/Z_tot \n",
      "I_L=abs(I_m) \n",
      "print(I_L,'line current(A)') \n",
      "pf=math.cos(math.radians(math.degrees(math.atan((I_m.real)/(I_m.imag)))))\n",
      "print(pf,'pf') \n",
      "P_in=V_0*I_L*pf \n",
      "I_mf=I_m*complex(0,X/2)/complex(39.55,59.12) \n",
      "I_mb=I_m*complex(0,X/2)/complex(1.59,59.12) \n",
      "T=(1/157.1)*(abs(I_mf)**2*38.75-abs(I_mb)**2*.79) \n",
      "P_m=157.1*(1-s)*T \n",
      "P_L=185 \n",
      "P_out=P_m-P_L \n",
      "eff=P_out/P_in \n",
      "\n",
      "#Results\n",
      "print(eff*100,'efficiency(%)') \n",
      "T_shaft=P_out/157.1     \n",
      "print(T_shaft,'shaft torque(Nm)') \n"
     ],
     "language": "python",
     "metadata": {},
     "outputs": [
      {
       "output_type": "stream",
       "stream": "stdout",
       "text": [
        "(3.0828571185946845, 'R_2(ohm)')\n",
        "(8.051321578491317, 'X_1+X_2(ohm)')\n",
        "(6.261296470855541, 'line current(A)')\n",
        "(0.6818110490832134, 'pf')\n",
        "(72.4748020932455, 'efficiency(%)')\n",
        "(4.234260916702234, 'shaft torque(Nm)')\n"
       ]
      }
     ],
     "prompt_number": 2
    },
    {
     "cell_type": "heading",
     "level": 2,
     "metadata": {},
     "source": [
      "Example 10.3, Page No 149"
     ]
    },
    {
     "cell_type": "code",
     "collapsed": false,
     "input": [
      "import math\n",
      "#initialisation of variables\n",
      "#to compute ampitudes of forward and backward stator mmf waves,magnitude of auxillary currrent and its ph angle diff\n",
      "\n",
      "  \n",
      "N_m=80.0\n",
      "N_a=100.0 \n",
      "I_m=15*complex(math.cos(math.radians(0)),math.sin(math.radians(0))) \n",
      "I_aa=7.5*complex(math.cos(math.radians(45)),math.sin(math.radians(45)))  \n",
      "I_a=7.5*complex(math.cos(math.radians(60)),math.sin(math.radians(60))) \n",
      "F_m=N_m*I_m \n",
      "F_a=N_a*I_a \n",
      "F_aa=N_a*I_aa     #mmf at 45 angle\n",
      "\n",
      "#Calculations\n",
      "F_f=(1.0/2)*(F_m+1j*F_aa) \n",
      "a=abs(F_f) \n",
      "print(a,'forward field(AT)') \n",
      "F_b=(1.0/2)*(F_m-1j*(F_aa)) \n",
      "b=abs(F_b) \n",
      "print(b,'backward field(AT)') \n",
      "#1200+100*I_a*complex(sind(a),cosd(a))=0\n",
      "#equating real and imaginery parts\n",
      "#100*I_a*cosd(a)=0 \n",
      "a=90 \n",
      "print(a,'phase angle diff') \n",
      "I_a=-1200.0/(100*math.sin(math.radians(a))) \n",
      "\n",
      "#Results\n",
      "print(I_a,'auxillery current(A)') \n"
     ],
     "language": "python",
     "metadata": {},
     "outputs": [
      {
       "output_type": "stream",
       "stream": "stdout",
       "text": [
        "(427.1146783547173, 'forward field(AT)')\n",
        "(904.8884193832665, 'backward field(AT)')\n",
        "(90, 'phase angle diff')\n",
        "(-12.0, 'auxillery current(A)')\n"
       ]
      }
     ],
     "prompt_number": 3
    },
    {
     "cell_type": "heading",
     "level": 2,
     "metadata": {},
     "source": [
      "Example 10.4 Page No 150"
     ]
    },
    {
     "cell_type": "code",
     "collapsed": false,
     "input": [
      "import math\n",
      "#initialisation of variables\n",
      "#to determine value of capacitor\n",
      "\n",
      "  \n",
      "f=50.0 \n",
      "w=2*math.pi*f \n",
      "Z_lm=complex(3,2.7) \n",
      "Z_la=complex(7,3) \n",
      "\n",
      "#Calculations\n",
      "I_m=(-1)*math.degrees(math.atan((Z_lm.imag)/(Z_la.imag))) \n",
      "a=90.0 \n",
      "I_a=a+I_m \n",
      "c=1/(w*((Z_lm.real)-(Z_la.real)*math.cos(math.radians((-1)*I_a)))) \n",
      "\n",
      "#Results\n",
      "print(c,'value of capacitor(F)') "
     ],
     "language": "python",
     "metadata": {},
     "outputs": [
      {
       "output_type": "stream",
       "stream": "stdout",
       "text": [
        "(-0.0018916018169502632, 'value of capacitor(F)')\n"
       ]
      }
     ],
     "prompt_number": 4
    },
    {
     "cell_type": "heading",
     "level": 2,
     "metadata": {},
     "source": [
      "Example 10.6, Page No 151"
     ]
    },
    {
     "cell_type": "code",
     "collapsed": false,
     "input": [
      "import math\n",
      "#initialisation of variables\n",
      "#to calculate starting torque and atarting current,motor performance\n",
      "\n",
      "  \n",
      "V_a=110*complex(math.cos(math.radians(90)),math.sin(math.radians(90))) \n",
      "V_m=220*complex(math.cos(math.radians(0)),math.sin(math.radians(0))) \n",
      "R_1=3 \n",
      "R_2=2.6 \n",
      "X_1=2.7 \n",
      "X_2=2.7 \n",
      "X=110 \n",
      "V_f=(1.0/2)*(V_m-1j*V_a)\n",
      "V_b=(1.0/2)*(V_m+1j*V_a) \n",
      "\n",
      "#Calculations\n",
      "Z_f=(complex(0,X)*complex(R_2,X_2))/(complex(0,X)+complex(R_2,X_2)) \n",
      "Z_b=Z_f \n",
      "Z_ftot=complex(R_1,X_1)+Z_f \n",
      "Z_btot=complex(R_1,X_1)+Z_b \n",
      "I_f=V_f/Z_ftot \n",
      "I_b=V_b/Z_btot \n",
      "T_s=(2/157)*(Z_f.real)*(abs(I_f)**2-abs(I_b)**2) \n",
      "print(T_s,'starting torque(Nm)') \n",
      "I_m=I_f+I_b \n",
      "I_a=1j*(I_f-I_b) \n",
      "print(abs(I_a),'starting current(A)') \n",
      "s=0.04 \n",
      "\n",
      "Z_f=(complex(0,X)*complex(R_2/s,X_2))/(complex(0,X)+complex(R_2/s,X_2)) \n",
      "Z_b=(complex(0,X)*complex(R_2/(2-s),X_2))/(complex(0,X)+complex(R_2/(2-s),X_2)) \n",
      "Z_ftot=complex(R_1,X_1)+Z_f \n",
      "Z_btot=complex(R_1,X_1)+Z_b \n",
      "I_f=V_f/Z_ftot \n",
      "I_b=V_b/Z_btot \n",
      "w_s=157.1 \n",
      "T_s=(2/157.1)*(abs(I_f)**2*(Z_f.real)-abs(I_b)**2*(Z_b.real)) \n",
      "print(T_s,'starting torque(Nm)') \n",
      "I_m=I_f+I_b \n",
      "m=math.degrees(math.atan((I_m.imag)/(I_m.real)))\n",
      "I_a=1j*(I_f-I_b) \n",
      "a=math.degrees(math.atan((I_a.imag)/(I_a.real)))\n",
      "P_m=w_s*(1.0-s)*T_s \n",
      "P_L=200.0 \n",
      "P_out=P_m-P_L \n",
      "P_min=V*abs(I_m)*math.cos(math.radians(m)) \n",
      "P_ain=V*abs(I_a)*math.cos(math.radians(a))\n",
      "P_in=P_min+P_ain \n",
      "n=P_out/P_in \n",
      "print(n,'efficiency') \n",
      "\n",
      "r=Z_ftot/Z_btot     #r=V_mf/V_bf\n",
      "#V_mf+V_bf=220\n",
      "V_mf=220/(1+r) \n",
      "V_mb=220-V_mf \n",
      "V_a=1j*(V_mf-V_mb) \n",
      "\n",
      "#Results\n",
      "print(abs(V_a),'V_a(V)')"
     ],
     "language": "python",
     "metadata": {},
     "outputs": [
      {
       "output_type": "stream",
       "stream": "stdout",
       "text": [
        "(0.0, 'starting torque(Nm)')\n",
        "(14.313452498677325, 'starting current(A)')\n",
        "(3.5887587638431966, 'starting torque(Nm)')\n",
        "(0.12798421082025385, 'efficiency')\n",
        "(176.4417668704772, 'V_a(V)')\n"
       ]
      }
     ],
     "prompt_number": 5
    }
   ],
   "metadata": {}
  }
 ]
}