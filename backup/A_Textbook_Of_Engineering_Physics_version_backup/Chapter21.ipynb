{
 "metadata": {
  "name": "",
  "signature": "sha256:0a1f9cbfac6e4a80fe362c0012a4a307feac15a79ecc69bd2a9d9a5220fc3bbc"
 },
 "nbformat": 3,
 "nbformat_minor": 0,
 "worksheets": [
  {
   "cells": [
    {
     "cell_type": "heading",
     "level": 1,
     "metadata": {},
     "source": [
      "Chapter21-Magnetic Materials"
     ]
    },
    {
     "cell_type": "heading",
     "level": 2,
     "metadata": {},
     "source": [
      "Ex1-pg612"
     ]
    },
    {
     "cell_type": "code",
     "collapsed": false,
     "input": [
      "import math\n",
      "##Example 21.1\n",
      "##calculation of magnetizing force and relative permeability\n",
      "\n",
      "##given values\n",
      "M=2300.;##magnetization in A/m\n",
      "B=.00314;##flux density in Wb/m**2\n",
      "u=12.57*10**-7.;##permeability in H/m\n",
      "\n",
      "##calculation\n",
      "H=(B/u)-M;\n",
      "print'%s %.2f %s'%('magnetizing force(in A/m)is ',H,'');\n",
      "Ur=B/(u*H);\n",
      "print'%s %.2f %s'%('relative permeability is',Ur,'')\n"
     ],
     "language": "python",
     "metadata": {},
     "outputs": [
      {
       "output_type": "stream",
       "stream": "stdout",
       "text": [
        "magnetizing force(in A/m)is  198.01 \n",
        "relative permeability is 12.62 \n"
       ]
      }
     ],
     "prompt_number": 1
    },
    {
     "cell_type": "heading",
     "level": 2,
     "metadata": {},
     "source": [
      "Ex2-pg613"
     ]
    },
    {
     "cell_type": "code",
     "collapsed": false,
     "input": [
      "import math\n",
      "##Example 21.2\n",
      "##calculation of magnetization and magnetic flux density\n",
      "\n",
      "##given values\n",
      "H=10**5;##external field  in A/m\n",
      "X=5*10**-5;##susceptibility \n",
      "u=12.57*10**-7;##permeability in H/m\n",
      "\n",
      "##calculation\n",
      "M=X*H;\n",
      "print'%s %.2f %s'%('magnetization (in A/m)is ',M,'');\n",
      "B=u*(M+H);\n",
      "print'%s %.2f %s'%('magnetic flux density (in wb/m^2) is',B,'')\n"
     ],
     "language": "python",
     "metadata": {},
     "outputs": [
      {
       "output_type": "stream",
       "stream": "stdout",
       "text": [
        "magnetization (in A/m)is  5.00 \n",
        "magnetic flux density (in wb/m^2) is 0.13 \n"
       ]
      }
     ],
     "prompt_number": 4
    },
    {
     "cell_type": "heading",
     "level": 2,
     "metadata": {},
     "source": [
      "Ex3-pg615"
     ]
    },
    {
     "cell_type": "code",
     "collapsed": false,
     "input": [
      "import math\n",
      "##Example 21.3\n",
      "##calculation of relative permeability\n",
      "\n",
      "##given values\n",
      "\n",
      "X=3.7*10**-3;##susceptibility at 300k\n",
      "T=300;##temp in K\n",
      "T1=200;##temp in K\n",
      "T2=500;##temp in K\n",
      "\n",
      "##calculation\n",
      "C=X*T;##curie constant\n",
      "XT1=C/T1;\n",
      "print'%s %.4f %s'%('relative permeability at T1 is ',XT1,'');\n",
      "XT2=C/T2;\n",
      "print'%s %.3f %s'%('relative permeability at T2 is',XT2,'')\n"
     ],
     "language": "python",
     "metadata": {},
     "outputs": [
      {
       "output_type": "stream",
       "stream": "stdout",
       "text": [
        "relative permeability at T1 is  0.0056 \n",
        "relative permeability at T2 is 0.002 \n"
       ]
      }
     ],
     "prompt_number": 3
    }
   ],
   "metadata": {}
  }
 ]
}