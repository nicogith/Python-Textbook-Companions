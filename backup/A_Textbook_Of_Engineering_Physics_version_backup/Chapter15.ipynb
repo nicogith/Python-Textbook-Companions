{
 "metadata": {
  "name": "",
  "signature": "sha256:00168ce8e6485ed62b7ab93f835949895122e8d417f4d6143363c166514fa2f2"
 },
 "nbformat": 3,
 "nbformat_minor": 0,
 "worksheets": [
  {
   "cells": [
    {
     "cell_type": "heading",
     "level": 2,
     "metadata": {},
     "source": [
      "Chapter15-Atomic Nucleus And Nuclear Energy"
     ]
    },
    {
     "cell_type": "heading",
     "level": 2,
     "metadata": {},
     "source": [
      "Ex1-pg-pg427"
     ]
    },
    {
     "cell_type": "code",
     "collapsed": false,
     "input": [
      "import math\n",
      "##Example 15.1\n",
      "##calculation of binding energy per nucleon\n",
      "\n",
      "##given values\n",
      "Mp=1.00814;##mass of proton in amu\n",
      "Mn=1.008665;##mass of nucleon in amu\n",
      "M=7.01822;##mass of Lithium nucleus in amu\n",
      "amu=931.;##amu in MeV\n",
      "n=7-3;##no of neutrons in lithium nucleus\n",
      "\n",
      "##calculation\n",
      "ET=(3*Mp+4*Mn-M)*amu;##total binding energy in MeV\n",
      "E=ET/7.;##7 1s the mass number\n",
      "print'%s %.2f %s'%('Binding energy per nucleon in MeV is',E,'');\n"
     ],
     "language": "python",
     "metadata": {},
     "outputs": [
      {
       "output_type": "stream",
       "stream": "stdout",
       "text": [
        "Binding energy per nucleon in MeV is 5.43 \n"
       ]
      }
     ],
     "prompt_number": 15
    },
    {
     "cell_type": "heading",
     "level": 2,
     "metadata": {},
     "source": [
      "Ex2-pg427"
     ]
    },
    {
     "cell_type": "code",
     "collapsed": false,
     "input": [
      "import math\n",
      "##Example 15.2\n",
      "##calculation of energy \n",
      "\n",
      "##given values\n",
      "M1=15.00001;##atomic mass of N15 in amu\n",
      "M2=15.0030;##atomic mass of O15 in amu\n",
      "M3=15.9949;##atomic mass of O16 in amu\n",
      "amu=931.4;##amu in MeV\n",
      "mp=1.0072766;##restmass of proton\n",
      "mn=1.0086654;##restmass of neutron\n",
      "\n",
      "##calculation\n",
      "Q1=(M3-mp-M1)*amu;\n",
      "print'%s %.2f %s'%('energy required to remove one proton from O16 is',Q1,'');\n",
      "Q2=(M3-mn-M2)*amu;\n",
      "print'%s %.2f %s'%('energy required to remove one neutron from O16 is',Q2,'');\n"
     ],
     "language": "python",
     "metadata": {},
     "outputs": [
      {
       "output_type": "stream",
       "stream": "stdout",
       "text": [
        "energy required to remove one proton from O16 is -11.54 \n",
        "energy required to remove one neutron from O16 is -15.62 \n"
       ]
      }
     ],
     "prompt_number": 14
    },
    {
     "cell_type": "heading",
     "level": 2,
     "metadata": {},
     "source": [
      "Ex3-pg428"
     ]
    },
    {
     "cell_type": "code",
     "collapsed": false,
     "input": [
      "import math\n",
      "##Example 15.3\n",
      "##calculation of binding energy \n",
      "\n",
      "##given values\n",
      "Mp=1.00758;##mass of proton in amu\n",
      "Mn=1.00897;##mass of nucleon in amu\n",
      "M=4.0028;##mass of Helium nucleus in amu\n",
      "amu=931.4;##amu in MeV\n",
      "\n",
      "##calculation\n",
      "E1=(2*Mp+2*Mn-M)*amu;##total binding energy\n",
      "print'%s %.2f %s'%('Binding energy in MeV is',E1,'');\n",
      "E2=E1*10**6*1.6*10**-19;\n",
      "print'%s %.3e %s'%('binding energy in Joule is',E2,'');\n"
     ],
     "language": "python",
     "metadata": {},
     "outputs": [
      {
       "output_type": "stream",
       "stream": "stdout",
       "text": [
        "Binding energy in MeV is 28.22 \n",
        "binding energy in Joule is 4.515e-12 \n"
       ]
      }
     ],
     "prompt_number": 13
    },
    {
     "cell_type": "heading",
     "level": 2,
     "metadata": {},
     "source": [
      "Ex4-pg435"
     ]
    },
    {
     "cell_type": "code",
     "collapsed": false,
     "input": [
      "import math\n",
      "##Example 15.4\n",
      "##calculation of amount of unchanged material\n",
      "\n",
      "##given values\n",
      "T=2;##half life in years\n",
      "k=.6931/T;##decay constant\n",
      "M=4.0028;##mass of Helium nucleus in amu\n",
      "amu=931.4;##amu in MeV\n",
      "No=1.;##initial amount in g\n",
      "\n",
      "##calculation\n",
      "N=No*(math.e**(-k*2*T));\n",
      "print'%s %.2f %s'%('amount of material remaining unchanged after four years(in gram) is',N,'');\n",
      "\n"
     ],
     "language": "python",
     "metadata": {},
     "outputs": [
      {
       "output_type": "stream",
       "stream": "stdout",
       "text": [
        "amount of material remaining unchanged after four years(in gram) is 0.25 \n"
       ]
      }
     ],
     "prompt_number": 12
    },
    {
     "cell_type": "heading",
     "level": 2,
     "metadata": {},
     "source": [
      "Ex5-pg435"
     ]
    },
    {
     "cell_type": "code",
     "collapsed": false,
     "input": [
      "import math\n",
      "##Example 15.5\n",
      "##calculation of amount of halflife\n",
      "\n",
      "##given values\n",
      "t=5.;##time period in years\n",
      "amu=931.4;##amu in MeV\n",
      "No=5.;##initial amount in g\n",
      "N=5.-(10.5*10**-3);##amount present after 5 years\n",
      "\n",
      "\n",
      "##calculation\n",
      "k=math.log(N/No)/t;##decay constant\n",
      "T=-.693/k;\n",
      "print'%s %.2f %s'%('halflife in years is',T,'');"
     ],
     "language": "python",
     "metadata": {},
     "outputs": [
      {
       "output_type": "stream",
       "stream": "stdout",
       "text": [
        "halflife in years is 1648.27 \n"
       ]
      }
     ],
     "prompt_number": 11
    },
    {
     "cell_type": "heading",
     "level": 2,
     "metadata": {},
     "source": [
      "Ex6-pg435"
     ]
    },
    {
     "cell_type": "code",
     "collapsed": false,
     "input": [
      "import math\n",
      "##Example 15.6\n",
      "##calculation of activity\n",
      "\n",
      "##given values\n",
      "t=28.;##half life in years\n",
      "m=10**-3;##mass of sample\n",
      "M=90.;##atomic mass of strontium\n",
      "NA=6.02*10**26;##avogadro's number\n",
      "\n",
      "\n",
      "##calculation\n",
      "n=m*NA/M;##no of nuclei in 1 mg sample\n",
      "k=.693/(t*365*24.*60.*60.);##decay constant\n",
      "A=k*n;\n",
      "print'%s %.3e %s'%('activity of sample(in disintegrations per second) is',A,'');\n"
     ],
     "language": "python",
     "metadata": {},
     "outputs": [
      {
       "output_type": "stream",
       "stream": "stdout",
       "text": [
        "activity of sample(in disintegrations per second) is 5.250e+12 \n"
       ]
      }
     ],
     "prompt_number": 10
    },
    {
     "cell_type": "heading",
     "level": 2,
     "metadata": {},
     "source": [
      "Ex7-pg439"
     ]
    },
    {
     "cell_type": "code",
     "collapsed": false,
     "input": [
      "import math\n",
      "##Example 15.7\n",
      "##calculation of age of mineral\n",
      "\n",
      "##given values\n",
      "t=4.5*10**9.;##half life in years\n",
      "M1=238.;##atomic mass of Uranium in g\n",
      "m=.093;##mass of lead in 1 g of uranium in g\n",
      "NA=6.02*10**26;##avogadro's number\n",
      "M2=206.;##atomic mass of lead in g\n",
      "\n",
      "##calculation\n",
      "n=NA/M1;##no of nuclei in 1 g of uranium sample\n",
      "n1=m*NA/M2;##no of nuclei in m mass of lead\n",
      "c=n1/n;\n",
      "k=.693/t;##decay constant\n",
      "T=(1/k)*math.log(1+c);\n",
      "print'%s %.3e %s'%('age of mineral in years is',T,'');"
     ],
     "language": "python",
     "metadata": {},
     "outputs": [
      {
       "output_type": "stream",
       "stream": "stdout",
       "text": [
        "age of mineral in years is 6.627e+08 \n"
       ]
      }
     ],
     "prompt_number": 9
    },
    {
     "cell_type": "heading",
     "level": 2,
     "metadata": {},
     "source": [
      "Ex8-pg440"
     ]
    },
    {
     "cell_type": "code",
     "collapsed": false,
     "input": [
      "import math\n",
      "##Example 15.8\n",
      "##calculation of age of wooden piece\n",
      "\n",
      "##given values\n",
      "t=5730.;##half life of C14 in years\n",
      "M1=50.;##mass of wooden piece in g\n",
      "A1=320.;##activity of wooden piece (disintegration per minute per g)\n",
      "A2=12.;##activity of living tree\n",
      "\n",
      "##calculation\n",
      "k=.693/t;##decay constant\n",
      "A=A1/M1;##activity after death\n",
      "\n",
      "T=(1/k)*math.log(A2/A);\n",
      "print'%s %.2f %s'%('age of mineral in years is',T,'');"
     ],
     "language": "python",
     "metadata": {},
     "outputs": [
      {
       "output_type": "stream",
       "stream": "stdout",
       "text": [
        "age of mineral in years is 5197.59 \n"
       ]
      }
     ],
     "prompt_number": 8
    },
    {
     "cell_type": "heading",
     "level": 2,
     "metadata": {},
     "source": [
      "Ex9-pg443"
     ]
    },
    {
     "cell_type": "code",
     "collapsed": false,
     "input": [
      "import math\n",
      "##Example 15.9\n",
      "##calculation of energy released\n",
      "\n",
      "##given values\n",
      "M1=10.016125;##atomic mass of Boron in amu\n",
      "M2=13.007440;##atomic mass of C13 in amu\n",
      "M3=4.003874;##atomic mass of Helium in amu\n",
      "mp=1.008146;##mass of proton in amu\n",
      "amu=931.;##amu in MeV\n",
      "\n",
      "##calculation\n",
      "Q=(M1+M3-(M2+mp))*amu;##total binding energy in M\n",
      "print'%s %.2f %s'%('Binding energy per nucleon in MeV is',Q,'');\n"
     ],
     "language": "python",
     "metadata": {},
     "outputs": [
      {
       "output_type": "stream",
       "stream": "stdout",
       "text": [
        "Binding energy per nucleon in MeV is 4.11 \n"
       ]
      }
     ],
     "prompt_number": 7
    },
    {
     "cell_type": "heading",
     "level": 2,
     "metadata": {},
     "source": [
      "Ex10-pg444"
     ]
    },
    {
     "cell_type": "code",
     "collapsed": false,
     "input": [
      "import math\n",
      "##Example 15.10\n",
      "##calculation of crosssection\n",
      "\n",
      "##given values\n",
      "t=.01*10**-3;##thickness in m\n",
      "n=10**13.;##no of protons bombarding target per s\n",
      "NA=6.02*10**26.;##avogadro's number\n",
      "M=7.;##atomic mass of lithium in kg\n",
      "d=500.;##density of lithium in kg/m**3\n",
      "n0=10**8.;##no of neutrons produced per s\n",
      "##calculation\n",
      "n1=d*NA/M;##no of target nuclei per unit volume\n",
      "n2=n1*t;##no of target nuclei per area\n",
      "A=n0/(n*n2);\n",
      "print'%s %.3e %s'%('crosssection(in m^2) for this reaction is',A,'');"
     ],
     "language": "python",
     "metadata": {},
     "outputs": [
      {
       "output_type": "stream",
       "stream": "stdout",
       "text": [
        "crosssection(in m^2) for this reaction is 2.326e-29 \n"
       ]
      }
     ],
     "prompt_number": 4
    },
    {
     "cell_type": "heading",
     "level": 2,
     "metadata": {},
     "source": [
      "Ex11-pg450"
     ]
    },
    {
     "cell_type": "code",
     "collapsed": false,
     "input": [
      "import math\n",
      "##Example 15.11\n",
      "##calculation of final energy \n",
      "\n",
      "##given values\n",
      "B=.4;##max magnetic field in Wb/m**2\n",
      "c=3*10**8.;\n",
      "e=1.6*10**-19.;\n",
      "d=1.52;##diametre in m\n",
      "r=d/2.;\n",
      "\n",
      "##calculation\n",
      "E=B*e*r*c;##E=pc,p=mv=Ber\n",
      "print'%s %.3e %s'%('final energy of e(in J) is',E,'');\n",
      "E1=(E/e)/10**6;\n",
      "print'%s %.2f %s'%('final energy of e (in MeV) is',E1,'');"
     ],
     "language": "python",
     "metadata": {},
     "outputs": [
      {
       "output_type": "stream",
       "stream": "stdout",
       "text": [
        "final energy of e(in J) is 1.459e-11 \n",
        "final energy of e (in MeV) is 91.20 \n"
       ]
      }
     ],
     "prompt_number": 5
    },
    {
     "cell_type": "heading",
     "level": 2,
     "metadata": {},
     "source": [
      "Ex12-pg459"
     ]
    },
    {
     "cell_type": "code",
     "collapsed": false,
     "input": [
      "import math\n",
      "##Example 15.12\n",
      "##calculation of amount of fuel\n",
      "\n",
      "##given values\n",
      "P=100*10**6.;##power required by city\n",
      "M=235.;##atomic mass of Uranium in g\n",
      "e=20/100.;##conversion efficiency\n",
      "NA=6.02*10**26.;##avogadros number\n",
      "E=200*10**6*1.6*10**-19;##energy released per fission\n",
      "t=8.64*10**4.;##day in seconds\n",
      "\n",
      "\n",
      "##calculation\n",
      "E1=P*t;##energy requirement\n",
      "m=E1*M/(NA*e*E);##no of nuclei N=NA*m/M,energy released by m kg is N*E,energy requirement=e*N*E\n",
      "print'%s %.2f %s'%('amount of fuel(in kg) required is',m,'');"
     ],
     "language": "python",
     "metadata": {},
     "outputs": [
      {
       "output_type": "stream",
       "stream": "stdout",
       "text": [
        "amount of fuel(in kg) required is 0.53 \n"
       ]
      }
     ],
     "prompt_number": 4
    },
    {
     "cell_type": "heading",
     "level": 2,
     "metadata": {},
     "source": [
      "Ex13-pg459"
     ]
    },
    {
     "cell_type": "code",
     "collapsed": false,
     "input": [
      "import math\n",
      "##Example 15.13\n",
      "##calculation of power output\n",
      "\n",
      "##given values\n",
      "M=235.;##atomic mass of Uranium in kg\n",
      "e=5/100.;##reactor efficiency\n",
      "m=25/1000.;##amount of uranium consumed per day in kg\n",
      "E=200*10**6*1.6*10**-19;##energy released per fission\n",
      "t=8.64*10**4.;##day in seconds\n",
      "NA=6.02*10**26.;##avogadros number\n",
      "\n",
      "##calculation\n",
      "n=NA*m/M;##no of nuclei in 25g\n",
      "E1=n*E;##energy produced by n nuclei\n",
      "E2=E1*e;##energy converted to power\n",
      "P=E2/t;##power output in Watt\n",
      "print'%s %.2f %s'%('power output in MW is',P/10**6,'');"
     ],
     "language": "python",
     "metadata": {},
     "outputs": [
      {
       "output_type": "stream",
       "stream": "stdout",
       "text": [
        "power output in MW is 1.19 \n"
       ]
      }
     ],
     "prompt_number": 3
    },
    {
     "cell_type": "heading",
     "level": 2,
     "metadata": {},
     "source": [
      "Ex14-pg460"
     ]
    },
    {
     "cell_type": "code",
     "collapsed": false,
     "input": [
      "import math\n",
      "##Example 15.14\n",
      "##calculation of power developed\n",
      "\n",
      "##given values\n",
      "M=235.;##atomic mass of Uranium in kg\n",
      "m=20.4;##amount of uranium consumed per day in kg\n",
      "E=200*10**6*1.6*10**-19;##energy released per fission\n",
      "t=3600*1000.;##time of operation\n",
      "NA=6.02*10**26;##avogadros number\n",
      "\n",
      "##calculation\n",
      "n=NA*m/M;##no of nuclei in 20.4kg\n",
      "E1=n*E;##energy produced by n nuclei\n",
      "P=E1/t;##in Watt\n",
      "print'%s %.2f %s'%('power developed in MW is',P/10**6,'');"
     ],
     "language": "python",
     "metadata": {},
     "outputs": [
      {
       "output_type": "stream",
       "stream": "stdout",
       "text": [
        "power developed in MW is 464.52 \n"
       ]
      }
     ],
     "prompt_number": 2
    },
    {
     "cell_type": "heading",
     "level": 2,
     "metadata": {},
     "source": [
      "Ex15-pg464"
     ]
    },
    {
     "cell_type": "code",
     "collapsed": false,
     "input": [
      "import math\n",
      "##Example 15.15\n",
      "##calculation of amount of dueterium consumed\n",
      "\n",
      "##given values\n",
      "M1=2.01478;##atomic mass of Hydrogen in amu\n",
      "M2=4.00388;##atomic mass of Helium in amu\n",
      "amu=931.;##amu in MeV\n",
      "e=30/100.;##efficiency\n",
      "P=50*10**6.;##output power\n",
      "NA=6.026*10**26.;##avogadro number\n",
      "t=8.64*10**4.;##seconds in a day\n",
      "\n",
      "##calculation\n",
      "Q=(2*M1-M2)*amu;##energy released in a D-D reaction in MeV\n",
      "O=Q*e*10**6/2.;##actual output per dueterium atom in eV\n",
      "n=P/(O*1.6*10**-19);##no of D atoms required\n",
      "m=n*M1/NA;##equivalent mass of D required per s\n",
      "X=m*t;\n",
      "\n",
      "print'%s %.2f %s'%('Deuterium requirement per day in kg is',X,'');\n"
     ],
     "language": "python",
     "metadata": {},
     "outputs": [
      {
       "output_type": "stream",
       "stream": "stdout",
       "text": [
        "Deuterium requirement per day in kg is 0.03 \n"
       ]
      }
     ],
     "prompt_number": 1
    }
   ],
   "metadata": {}
  }
 ]
}