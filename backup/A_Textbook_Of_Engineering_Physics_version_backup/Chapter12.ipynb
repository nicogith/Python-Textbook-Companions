{
 "metadata": {
  "name": "",
  "signature": "sha256:4671074782cd36f56500529820b222f929e1453d2be6b38ad8ab85fd8d868d5a"
 },
 "nbformat": 3,
 "nbformat_minor": 0,
 "worksheets": [
  {
   "cells": [
    {
     "cell_type": "heading",
     "level": 1,
     "metadata": {},
     "source": [
      "Chapter12-Ultrasonics"
     ]
    },
    {
     "cell_type": "heading",
     "level": 2,
     "metadata": {},
     "source": [
      "Ex1-pg295"
     ]
    },
    {
     "cell_type": "code",
     "collapsed": false,
     "input": [
      "import math\n",
      "##Example 12.1\n",
      "##calculation of natural frequency,magnetostriction\n",
      "\n",
      "##given values\n",
      "\n",
      "l=40*10**-3.;##length of pure iron rod\n",
      "d=7.25*10**3.;##density of iron in kg/m**3\n",
      "Y=115*10**9.;##Young's modulus in N/m**2 \n",
      "\n",
      "##calculation\n",
      "f=(1*math.sqrt(Y/d))/(2.*l);\n",
      "print'%s %.2f %s'%('the natural frequency(in kHz) is',f*10**-3,'');\n"
     ],
     "language": "python",
     "metadata": {},
     "outputs": [
      {
       "output_type": "stream",
       "stream": "stdout",
       "text": [
        "the natural frequency(in kHz) is 49.78 \n"
       ]
      }
     ],
     "prompt_number": 2
    },
    {
     "cell_type": "heading",
     "level": 2,
     "metadata": {},
     "source": [
      "Ex2-pg297"
     ]
    },
    {
     "cell_type": "code",
     "collapsed": false,
     "input": [
      "import math\n",
      "##Example 12.2\n",
      "##calculation of natural frequency\n",
      "\n",
      "##given values\n",
      "\n",
      "t=5.5*10**-3.;##thickness in m\n",
      "d=2.65*10**3.;##density in kg/m**3\n",
      "Y=8*10**10.;##Young's modulus in N/m**2 \n",
      "\n",
      "\n",
      "##calculation\n",
      "f=(math.sqrt(Y/d))/(2.*t);##frequency in hertz\n",
      "print'%s %.2f %s'%('the natural frequency(in kHz) is',f*10**-3,'');\n"
     ],
     "language": "python",
     "metadata": {},
     "outputs": [
      {
       "output_type": "stream",
       "stream": "stdout",
       "text": [
        "the natural frequency(in kHz) is 499.49 \n"
       ]
      }
     ],
     "prompt_number": 2
    },
    {
     "cell_type": "heading",
     "level": 2,
     "metadata": {},
     "source": [
      "Ex3-pg301"
     ]
    },
    {
     "cell_type": "code",
     "collapsed": false,
     "input": [
      "import math\n",
      "##Example 12.3\n",
      "##calculation of depth and wavelength\n",
      "\n",
      "##given values\n",
      "\n",
      "f=.07*10**6;##frequency in Hz\n",
      "t=.65;##time taken for pulse to return\n",
      "v=1700.;##velocity of sound in sea water in m/s\n",
      "\n",
      "##calculation\n",
      "d=v*t/2.;##\n",
      "print'%s %.2f %s'%('the depth of sea(in m) is',d,'');\n",
      "l=v/f;##wavelenght of pulse in m\n",
      "print'%s %.2f %s'%('wavelength of pulse (in cm)is',l*10**2,'');"
     ],
     "language": "python",
     "metadata": {},
     "outputs": [
      {
       "output_type": "stream",
       "stream": "stdout",
       "text": [
        "the depth of sea(in m) is 552.50 \n",
        "wavelength of pulse (in cm)is 2.43 \n"
       ]
      }
     ],
     "prompt_number": 1
    }
   ],
   "metadata": {}
  }
 ]
}