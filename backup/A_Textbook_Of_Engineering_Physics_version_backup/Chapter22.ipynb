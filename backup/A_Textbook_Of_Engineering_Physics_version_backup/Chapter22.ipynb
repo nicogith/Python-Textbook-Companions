{
 "metadata": {
  "name": "",
  "signature": "sha256:29de63e7ef1a8622d7d2e459bd1b9274805adbb7b74a608deb83d9b4c0dd3ef4"
 },
 "nbformat": 3,
 "nbformat_minor": 0,
 "worksheets": [
  {
   "cells": [
    {
     "cell_type": "heading",
     "level": 2,
     "metadata": {},
     "source": [
      "Chapter22-Superconductivity"
     ]
    },
    {
     "cell_type": "heading",
     "level": 2,
     "metadata": {},
     "source": [
      "Ex1-pg646"
     ]
    },
    {
     "cell_type": "code",
     "collapsed": false,
     "input": [
      "import math\n",
      "##Example 22.1\n",
      "##calculation of magnetic field\n",
      "\n",
      "##given values\n",
      "\n",
      "Tc=7.2;##transition temp in K\n",
      "T=5.;##temp in K\n",
      "Hc=3.3*10**4;##magnetic field at T in A/m\n",
      "\n",
      "\n",
      "##calculation\n",
      "Hc0=Hc/(1-(T**2/Tc**2));\n",
      "print'%s %.2f %s'%('max value of H at 0K (in A/m) is ',Hc0,'');\n"
     ],
     "language": "python",
     "metadata": {},
     "outputs": [
      {
       "output_type": "stream",
       "stream": "stdout",
       "text": [
        "max value of H at 0K (in A/m) is  63737.70 \n"
       ]
      }
     ],
     "prompt_number": 1
    },
    {
     "cell_type": "heading",
     "level": 2,
     "metadata": {},
     "source": [
      "Ex2-pg646"
     ]
    },
    {
     "cell_type": "code",
     "collapsed": false,
     "input": [
      "import math\n",
      "##Example 22.2\n",
      "##calculation of transition temperature\n",
      "\n",
      "##given values\n",
      "\n",
      "T=8.;##temp in K\n",
      "Hc=1*10**5.;##critical magnetic field at T in A/m\n",
      "Hc0=2*10**5.;##magnetic field at 0 K in A/m\n",
      "\n",
      "##calculation\n",
      "Tc=T/(math.sqrt(1.-Hc/Hc0));\n",
      "print'%s %.2f %s'%('transition temp in K is',Tc,'');\n"
     ],
     "language": "python",
     "metadata": {},
     "outputs": [
      {
       "output_type": "stream",
       "stream": "stdout",
       "text": [
        "transition temp in K is 11.31 \n"
       ]
      }
     ],
     "prompt_number": 3
    },
    {
     "cell_type": "heading",
     "level": 2,
     "metadata": {},
     "source": [
      "Ex3-pg647"
     ]
    },
    {
     "cell_type": "code",
     "collapsed": false,
     "input": [
      "import math\n",
      "##Example 22.3\n",
      "##calculation of temp at which there is  max critical field\n",
      "\n",
      "##given values\n",
      "\n",
      "Tc=7.26;##critical temp in K\n",
      "Hc=8*10**5.;##max critical magnetic field at T in A/m\n",
      "H=4*10**4.;## subjected magnetic field at in A/m\n",
      "\n",
      "##calculation\n",
      "T=Tc*(math.sqrt(1.-H/Hc));\n",
      "print'%s %.2f %s'%('max temp for superconductivity in K is',T,'');\n"
     ],
     "language": "python",
     "metadata": {},
     "outputs": [
      {
       "output_type": "stream",
       "stream": "stdout",
       "text": [
        "max temp for superconductivity in K is 7.08 \n"
       ]
      }
     ],
     "prompt_number": 4
    }
   ],
   "metadata": {}
  }
 ]
}