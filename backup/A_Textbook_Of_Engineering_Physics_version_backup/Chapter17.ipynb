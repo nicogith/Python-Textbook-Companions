{
 "metadata": {
  "name": "",
  "signature": "sha256:247cbf7511831aaf13adbf586a5a4c7c4e491e38e060a5558f6021f692906cbf"
 },
 "nbformat": 3,
 "nbformat_minor": 0,
 "worksheets": [
  {
   "cells": [
    {
     "cell_type": "heading",
     "level": 1,
     "metadata": {},
     "source": [
      "Chapter17-The Band Theory of Solids"
     ]
    },
    {
     "cell_type": "heading",
     "level": 2,
     "metadata": {},
     "source": [
      "Ex1-pg522"
     ]
    },
    {
     "cell_type": "code",
     "collapsed": false,
     "input": [
      "import math\n",
      "##Example 17.1\n",
      "##calculation of probability\n",
      "\n",
      "##given values\n",
      "E=.01;##energy difference in eV\n",
      "kT=.026;##temperture equivalent at room temp in e\n",
      "\n",
      "##calculation\n",
      "P=1/(1+(math.e**(E/kT)));\n",
      "\n",
      "print'%s %.2f %s'%('interatomic spacing  is',P,'');\n"
     ],
     "language": "python",
     "metadata": {},
     "outputs": [
      {
       "output_type": "stream",
       "stream": "stdout",
       "text": [
        "interatomic spacing  is 0.41 \n"
       ]
      }
     ],
     "prompt_number": 1
    },
    {
     "cell_type": "heading",
     "level": 2,
     "metadata": {},
     "source": [
      "Ex2-pg523"
     ]
    },
    {
     "cell_type": "code",
     "collapsed": false,
     "input": [
      "import math\n",
      "##Example 17.2\n",
      "##calculation of velocity of e\n",
      "\n",
      "##given values\n",
      "e=1.6*10**-19.;##charge of e in C\n",
      "E=2.1*e;##fermi level in J\n",
      "m=9.1*10**-31.;##mass of e in kg\n",
      "\n",
      "##calculation\n",
      "v=math.sqrt(2.*E/m);\n",
      "\n",
      "print'%s %.2f %s'%('velocity of e(in m/s)',v,'');\n"
     ],
     "language": "python",
     "metadata": {},
     "outputs": [
      {
       "output_type": "stream",
       "stream": "stdout",
       "text": [
        "velocity of e(in m/s) 859337.85 \n"
       ]
      }
     ],
     "prompt_number": 2
    },
    {
     "cell_type": "heading",
     "level": 2,
     "metadata": {},
     "source": [
      "Ex3-pg523"
     ]
    },
    {
     "cell_type": "code",
     "collapsed": false,
     "input": [
      "import math\n",
      "##Example 17.3\n",
      "##calculation of velocity of fraction of free electrons\n",
      "\n",
      "##given values\n",
      "E=5.5;##fermi level in eV\n",
      "kT=.026;##temperture equivalent at room temp in e\n",
      "\n",
      "##calculation\n",
      "f=2.*kT/E;\n",
      "\n",
      "print'%s %.4f %s'%('fraction of free electrone\\s upto width kT on either side of Ef is',f,'');\n"
     ],
     "language": "python",
     "metadata": {},
     "outputs": [
      {
       "output_type": "stream",
       "stream": "stdout",
       "text": [
        "fraction of free electrone\\s upto width kT on either side of Ef is 0.0095 \n"
       ]
      }
     ],
     "prompt_number": 3
    }
   ],
   "metadata": {}
  }
 ]
}