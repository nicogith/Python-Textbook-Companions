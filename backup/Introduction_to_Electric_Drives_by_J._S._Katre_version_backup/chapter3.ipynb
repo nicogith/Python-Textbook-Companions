{
 "metadata": {
  "name": "",
  "signature": "sha256:86191a5ead11f6d89d35b179bef2e551a162454413febb874f54db9641e75871"
 },
 "nbformat": 3,
 "nbformat_minor": 0,
 "worksheets": [
  {
   "cells": [
    {
     "cell_type": "heading",
     "level": 1,
     "metadata": {},
     "source": [
      "Chapter3, Single Phase Controlled Rectifiers"
     ]
    },
    {
     "cell_type": "heading",
     "level": 2,
     "metadata": {},
     "source": [
      "Example 3.3.1: page 3-11"
     ]
    },
    {
     "cell_type": "code",
     "collapsed": false,
     "input": [
      "from __future__ import division\n",
      "from sympy import symbols, simplify\n",
      "from math import pi, sin, cos, sqrt\n",
      "#form factor,ripple factor ,transformation utilization factor and peak inverse voltage\n",
      "Vm=1 #assume\n",
      "R=1 #assume\n",
      "alfa = pi/3 # radian\n",
      "Vm = symbols('Vm', real = True)\n",
      "Vldc = Vm/2/pi*(1+cos(alfa))\n",
      "Vlrms = Vm*sqrt(1/4/pi*(pi-pi/3)+1/4/pi*sin(2*pi/3))\n",
      "ff=Vlrms/Vldc\n",
      "print \"part (a):\"\n",
      "print \"form factor is\",round(ff,3),\"or\",round(ff*100,1),\"%\"\n",
      "#form factor is calculated wrong in the textbook\n",
      "print \"part (b)\"\n",
      "rf=sqrt(ff**2-1) #\n",
      "print \"ripple factor is\",round(rf,2),\"or\",round(rf*100),\"%\"\n",
      "#ripple factor is calculated wrong in the textbook\n",
      "Vs=Vm/(sqrt(2)) #rms secondary voltage\n",
      "Is=Vlrms/R #\n",
      "TUF=((Vldc**2)/R)/(Vs*Is) #\n",
      "print \"part (c)\"\n",
      "print \"transformation utilization factor is\",round(TUF,3),\"or\",round(TUF*100,1),\"%\"\n",
      "#transformation utilization factor is calculated wrong in the textbook\n",
      "R=1 #assume\n",
      "Vm=1 #assume\n",
      "print \"part (d)\"\n",
      "print \"PIV=Vm\""
     ],
     "language": "python",
     "metadata": {},
     "outputs": [
      {
       "output_type": "stream",
       "stream": "stdout",
       "text": [
        "part (a):\n",
        "form factor is 2.033 or 203.3 %\n",
        "part (b)\n",
        "ripple factor is 1.77 or 177.0 %\n",
        "part (c)\n",
        "transformation utilization factor is 0.166 or 16.6 %\n",
        "part (d)\n",
        "PIV=Vm\n"
       ]
      }
     ],
     "prompt_number": 1
    },
    {
     "cell_type": "heading",
     "level": 2,
     "metadata": {},
     "source": [
      "Example 3.4.1: page 3-25"
     ]
    },
    {
     "cell_type": "code",
     "collapsed": false,
     "input": [
      "from __future__ import division\n",
      "% matplotlib inline\n",
      "from numpy import array, sqrt, pi, nditer, cos, sin\n",
      "#plot the variation\n",
      "vsrms=230 #volts\n",
      "vm=sqrt(2)*vsrms #volts\n",
      "alpha=array([0,30, 60, 90, 120, 150, 180]) #degree\n",
      "x=array([0,(30*(pi/180)),(60*(pi/180)),(90*(pi/180)),(120*(pi/180)),(150*(pi/180)),(180*(pi/180))])\n",
      "\n",
      "def cur(alpha,x):\n",
      "    it = nditer([alpha,x,None, None])\n",
      "    for a,b,c,d in it:\n",
      "        c[...]=(vm/pi)*(1+cos(a*pi/180)) #\n",
      "        d[...]=vsrms*((1/pi)*(pi-b+(sin(2*b))/2))**(1/2) \n",
      "    return it.operands\n",
      "vldc = cur(alpha,x)[2]\n",
      "vlms = cur(alpha,x)[3]\n",
      "from matplotlib.pyplot import subplot, xlabel, ylabel, title, plot, ylim, show\n",
      "%matplotlib inline\n",
      "subplot(1,3,1)\n",
      "xlabel(\"alpha\") #\n",
      "ylabel(\"Vldc\") #\n",
      "title('(a) Variation of average load voltage')\n",
      "plot(alpha,vldc) #\n",
      "subplot(1,3,3)\n",
      "xlabel(\"alpha\") #\n",
      "xlabel(\"Vlrms\") #\n",
      "title('(b) Variation of RMS load voltage')\n",
      "plot(alpha,vlms) #\n",
      "ylim(40,250)\n",
      "show()"
     ],
     "language": "python",
     "metadata": {},
     "outputs": [
      {
       "output_type": "stream",
       "stream": "stderr",
       "text": [
        "-c:14: RuntimeWarning: invalid value encountered in double_scalars\n"
       ]
      },
      {
       "metadata": {},
       "output_type": "display_data",
       "png": "[encoded data removed]",
       "text": [
        "<matplotlib.figure.Figure at 0x7f1219c765d0>"
       ]
      }
     ],
     "prompt_number": 2
    },
    {
     "cell_type": "heading",
     "level": 2,
     "metadata": {},
     "source": [
      "Example 3.4.5: page 3-38"
     ]
    },
    {
     "cell_type": "code",
     "collapsed": false,
     "input": [
      "from __future__ import division\n",
      "from math import pi, sqrt, degrees, acos\n",
      "from numpy import arange\n",
      "#delay angle,rms , averae output current ,average and rms thyristor current\n",
      "Vrms=120 #RMS VOLTAGE \n",
      "R=10 #in ohms\n",
      "Vldc= (0.25*(2*sqrt(2)*Vrms))/pi #in volts\n",
      "csd= (Vldc*pi)/(sqrt(2)*Vrms) #\n",
      "alpha= degrees(acos(csd-1)) #\n",
      "print \"part (a)\"\n",
      "print \"delay angle = %0.2f degree\" %alpha\n",
      "Vrms=120 #RMS VOLTAGE \n",
      "Vm=sqrt(2)*Vrms #assume\n",
      "t=arange(2*pi/3,pi,0.1) \n",
      "Vlms=((Vm/(sqrt(2)))*(((1/pi)*((pi-(2*pi)/3)+sin(4*pi/6*pi/180))))**(1/2)) \n",
      "Vldc= (0.25*(2*sqrt(2)*Vrms))/pi #in volts\n",
      "Ildc=Vldc/R #average load current in ampere\n",
      "Ilms=Vlms/R # rms load current in ampere\n",
      "print \"part (b)\"\n",
      "print \"rms load current = %0.2f A\" %Ilms\n",
      "print \"average load current = %0.2f A\" %Ildc\n",
      "#rms load current is calculated  wrong in the textbook\n",
      "Im=Vm/R #\n",
      "from sympy.mpmath import quad, sin\n",
      "f1 = lambda omega_t : Im*sin(omega_t)\n",
      "Ith = (1/(2*pi)*(quad(f1,[alpha*pi/180,pi]))) # A (calculating integration)\n",
      "f2 = lambda omega_t : (Im*sin(omega_t))**2\n",
      "Ithrms = sqrt(1/(2*pi)*(quad(f2,[alpha*pi/180,pi]))) # A (calculating integration)\n",
      "print \"part (c)\"\n",
      "print \"average thyristor current = %0.2f A\" %Ith\n",
      "print \"rms thyristor current = %0.2f A\" %Ithrms"
     ],
     "language": "python",
     "metadata": {},
     "outputs": [
      {
       "output_type": "stream",
       "stream": "stdout",
       "text": [
        "part (a)\n",
        "delay angle = 120.00 degree\n",
        "part (b)\n",
        "rms load current = 7.05 A\n",
        "average load current = 2.70 A\n",
        "part (c)"
       ]
      },
      {
       "output_type": "stream",
       "stream": "stdout",
       "text": [
        "\n",
        "average thyristor current = 1.35 A\n",
        "rms thyristor current = 3.75 A\n"
       ]
      }
     ],
     "prompt_number": 3
    },
    {
     "cell_type": "heading",
     "level": 2,
     "metadata": {},
     "source": [
      "Example 3.6.1: page 3-69 "
     ]
    },
    {
     "cell_type": "code",
     "collapsed": false,
     "input": [
      "#average load voltage,rms load voltage,average and rms load currents ,form factor and ripple factor\n",
      "R=10 #IN OHMS\n",
      "r=10 #IN OHMS\n",
      "Vi=230 #in volts\n",
      "alpha=60 #fiirng angle in degree \n",
      "Vm=Vi*sqrt(2) #in voltas\n",
      "Vldc=((Vm)/pi)*(1+cos(alpha*pi/180)) #average load voltgae\n",
      "print \"part (a)\"\n",
      "print \"average load voltage = %0.2f Volts\" %Vldc\n",
      "print \"part (b)\"\n",
      "r=10 #IN OHMS\n",
      "Vi=230 #in volts\n",
      "alpha=60 #fiirng angle in degree \n",
      "Vm=Vi*sqrt(2) #in voltas\n",
      "Vlms=((Vm/(sqrt(2)))*(((pi-pi/3)+(sin(2*pi/3*pi/180))/2)/pi)**(1/2)) #\n",
      "print \"rms load voltage = %0.2f V\" %Vlms\n",
      "#rms voltage is calculated wrong in the textbook\n",
      "print \"part (c)\"\n",
      "Ildc=Vldc/R # in amperes\n",
      "Irms=Vlms/R # in amperes\n",
      "print \"rms load current = %0.2f A\" %Irms\n",
      "print \"average load current = %0.2f A\" %Ildc\n",
      "#rms load current is wrong in the textbook\n",
      "print \"part (d)\"\n",
      "ff=Vlms/Vldc \n",
      "print \"form factor is =\",round(ff,2),\"or\",round(ff*100,2),\"%\"\n",
      "rf=sqrt(ff**2-1) #\n",
      "print \"ripple factor =\",round(rf,2),\"or\",round(rf*100,2),\"%\"\n",
      "#form factor and ripple factor is calculated wrong in the textbook"
     ],
     "language": "python",
     "metadata": {},
     "outputs": [
      {
       "output_type": "stream",
       "stream": "stdout",
       "text": [
        "part (a)\n",
        "average load voltage = 155.30 Volts\n",
        "part (b)\n",
        "rms load voltage = 188.61 V\n",
        "part (c)\n",
        "rms load current = 18.86 A\n",
        "average load current = 15.53 A\n",
        "part (d)\n",
        "form factor is = 1.21 or 121.45 %\n",
        "ripple factor = 0.69 or 68.91 %\n"
       ]
      }
     ],
     "prompt_number": 4
    },
    {
     "cell_type": "heading",
     "level": 2,
     "metadata": {},
     "source": [
      "Example 3.7.1: page 3-72"
     ]
    },
    {
     "cell_type": "code",
     "collapsed": false,
     "input": [
      "from numpy import array, nditer, sqrt, pi, cos\n",
      "from __future__ import division\n",
      "#device ratings\n",
      "Io=25 #in amperes\n",
      "Vsrms=120 # in colts\n",
      "Vm=sqrt(2)*Vsrms # in volts\n",
      "alpha=array([0,60,90,135,180])\n",
      "\n",
      "def volt(alpha):\n",
      "    it = nditer([alpha, None])\n",
      "    for a,b in it:\n",
      "        \n",
      "        b[...]=Vm/pi*(1+cos(a*pi/180))\n",
      "    return it.operands[1]\n",
      "vldc = volt(alpha)\n",
      "print \"alpha :   \",\n",
      "for a in nditer([alpha]):\n",
      "    print a,'\\t',\n",
      "print \"\"\n",
      "\n",
      "print \"VLdc(V) : \",\n",
      "for a in nditer([vldc]):\n",
      "    print a,'\\t',\n",
      "print \"\"\n",
      "\n",
      "PIV=Vm #peak inverse voltage\n",
      "Iascr=Io/2 #scr average currentin ampere\n",
      "Iadod=Io #average diode current in amperes\n",
      "Ipscr=Iascr #peak current rating for SCR in amperes\n",
      "Ipdod=Iadod #peak current rating for diode in amperes\n",
      "print \"scr average current = %0.2f A\" %Iascr\n",
      "print \"Average diode current = %0.2f A\" %Iadod\n",
      "print \"Peak current rating for SCR = %0.2f A\" %Ipscr\n",
      "print \"Peak current rating for diode = %0.2f A\" %Ipdod"
     ],
     "language": "python",
     "metadata": {},
     "outputs": [
      {
       "output_type": "stream",
       "stream": "stdout",
       "text": [
        "alpha :    0 \t60 \t90 \t135 \t180 \t\n",
        "VLdc(V) :  108 \t81 \t54 \t15 \t0 \t\n",
        "scr average current = 12.50 A\n",
        "Average diode current = 25.00 A\n",
        "Peak current rating for SCR = 12.50 A\n",
        "Peak current rating for diode = 25.00 A\n"
       ]
      }
     ],
     "prompt_number": 5
    },
    {
     "cell_type": "heading",
     "level": 2,
     "metadata": {},
     "source": [
      "Example 3.7.2: page 3-73"
     ]
    },
    {
     "cell_type": "code",
     "collapsed": false,
     "input": [
      "from math import sin\n",
      "#Vldc,Vn,Vlrms,HF,DF and PF\n",
      "Vsrms=120 #in volts\n",
      "alpha=pi/2 #\n",
      "vm=sqrt(2)*Vsrms #\n",
      "vldc=((sqrt(2)*Vsrms)/(pi))*(1+cos(alpha)) #in volts\n",
      "vldcm=(2*vm)/(pi) #in volts\n",
      "vn=vldc/vldcm #normalised average output voltage in volts\n",
      "x=((1/pi)*((pi-alpha)+(sin((2*alpha)))/2))**(1/2) #\n",
      "vlrms=((vm/sqrt(2))*x) #RMS load voltage in volts\n",
      "Io=1 #assume\n",
      "Isrms=Io*(1-(alpha/pi))**(1/2) #in amperes\n",
      "Is1rms=((2*sqrt(2))*Io*cos(alpha/2))/(pi) #in amperes\n",
      "HF=((Isrms/Is1rms)**2-1)**(1/2) #Harmonic Fator is\n",
      "DF=cos(alpha/2) #Displacement factor\n",
      "PF=(Is1rms/Isrms)*(DF) #power factor\n",
      "print \"average output voltage, Vldc = %0.2f V\" %round(vldc)\n",
      "print \"Normalised average output voltage, Vn = %0.2f V\" %vn\n",
      "print \"RMS load voltage, Vlrms = %0.2f V\" %vlrms\n",
      "print \"Harmonic factor, HF = %0.2f %%\" %(HF*100)\n",
      "print \"Displacement factor, DF = %0.2f %%\" %(DF*100)\n",
      "print \"Power factor, PF = %0.4f lagging\" %PF"
     ],
     "language": "python",
     "metadata": {},
     "outputs": [
      {
       "output_type": "stream",
       "stream": "stdout",
       "text": [
        "average output voltage, Vldc = 54.00 V\n",
        "Normalised average output voltage, Vn = 0.50 V\n",
        "RMS load voltage, Vlrms = 84.85 V\n",
        "Harmonic factor, HF = 48.34 %\n",
        "Displacement factor, DF = 70.71 %\n",
        "Power factor, PF = 0.6366 lagging\n"
       ]
      }
     ],
     "prompt_number": 6
    },
    {
     "cell_type": "heading",
     "level": 2,
     "metadata": {},
     "source": [
      "Example 3.7.5: page 3-77"
     ]
    },
    {
     "cell_type": "code",
     "collapsed": false,
     "input": [
      "from math import degrees, acos\n",
      "#alpha\n",
      "print \"part (a)\"\n",
      "vc=135 #in volts\n",
      "vs=220 #in vlts\n",
      "rl=0.5 #in ohms\n",
      "io=10 #in ampeeres\n",
      "vm=sqrt(2)*vs #\n",
      "vldc=io*rl+vc #\n",
      "alpha=degrees(acos((vldc*pi)/(2*vm))) #\n",
      "print \"alpha = %0.f degree \"%alpha\n",
      "print \"part (b)\"\n",
      "vc=145 #in volts\n",
      "vs=220 #in vlts\n",
      "rl=0.5 #in ohms\n",
      "io=10 #in ampeeres\n",
      "vm=sqrt(2)*vs #\n",
      "vldc=io*rl-vc #\n",
      "alpha=degrees(acos((vldc*pi)/(2*vm))) #\n",
      "print \"alpha = %0.f degree \"%(alpha)"
     ],
     "language": "python",
     "metadata": {},
     "outputs": [
      {
       "output_type": "stream",
       "stream": "stdout",
       "text": [
        "part (a)\n",
        "alpha = 45 degree \n",
        "part (b)\n",
        "alpha = 135 degree \n"
       ]
      }
     ],
     "prompt_number": 7
    },
    {
     "cell_type": "heading",
     "level": 2,
     "metadata": {},
     "source": [
      "Example 3.7.6: page 3-79"
     ]
    },
    {
     "cell_type": "code",
     "collapsed": false,
     "input": [
      "#average output voltage,supply rms current ,\n",
      "#supply fundamental current current,displacement factor,supply factor and supply harmonic factor\n",
      "Vsrms=220 #in volts\n",
      "alpha=pi/3 #\n",
      "vm=sqrt(2)*Vsrms #\n",
      "vldc=((2*vm)/(pi))*(cos(alpha)) #in volts\n",
      "vldcm=(2*vm)/(pi) #in volts\n",
      "vn=vldc/vldcm #normalised average output voltage in volts\n",
      "x=((1/pi)*((pi-alpha)+(sin((2*alpha)))/2))**(1/2) #\n",
      "vlrms=((vm/sqrt(2))*x) #RMS load voltage in volts\n",
      "Io=1 #assume\n",
      "Isrms=Io*(1-(alpha/pi))**(1/2) #in amperes\n",
      "Is1rms=((2*sqrt(2))*Io*cos(alpha/2))/(pi) #in amperes\n",
      "HF=((Isrms/Is1rms)**2-1)**(1/2) #Harmonic Fator is\n",
      "DF=cos(alpha/2) #Displacement factor\n",
      "PF=(Is1rms/Isrms)*(DF) #power factor\n",
      "print \"part (a)\"\n",
      "print \"average output voltage, Vldc = %0.2f V\" %round(vldc)\n",
      "print \"part (b)\"\n",
      "print \"due to exact 50% duty cycle the rms value of supply current Isrms=Io\"\n",
      "Io=1 #assume\n",
      "Isrms=Io #in amperes\n",
      "Is1rms=((2*sqrt(2))*Io)/(pi) #in amperes\n",
      "print \"part (c)\"\n",
      "print \"supply fundamental current =\",Is1rms,\"Io \"\n",
      "print \"part (d)\"\n",
      "DF=cos(alpha) #\n",
      "print \"displacement factor =\",DF\n",
      "print \"part (e)\"\n",
      "SPF=Is1rms*DF #\n",
      "print \"supply power factor = %0.2f lagging \" %SPF\n",
      "print \"part (f)\"\n",
      "HF=(((Isrms/Is1rms)**2)-1)**(1/2) #\n",
      "print \"supply harmonic factor = %0.2f %%\" %(HF*100)"
     ],
     "language": "python",
     "metadata": {},
     "outputs": [
      {
       "output_type": "stream",
       "stream": "stdout",
       "text": [
        "part (a)\n",
        "average output voltage, Vldc = 99.00 V\n",
        "part (b)\n",
        "due to exact 50% duty cycle the rms value of supply current Isrms=Io\n",
        "part (c)\n",
        "supply fundamental current = 0.900316316157 Io \n",
        "part (d)\n",
        "displacement factor = 0.5\n",
        "part (e)\n",
        "supply power factor = 0.45 lagging \n",
        "part (f)\n",
        "supply harmonic factor = 48.34 %\n"
       ]
      }
     ],
     "prompt_number": 8
    }
   ],
   "metadata": {}
  }
 ]
}