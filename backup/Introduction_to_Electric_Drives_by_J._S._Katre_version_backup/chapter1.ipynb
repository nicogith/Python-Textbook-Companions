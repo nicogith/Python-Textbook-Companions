{
 "metadata": {
  "name": "",
  "signature": "sha256:1ede18939970cf3dcd5883a4a0c1fb987d10a2324079f20686384266546536c0"
 },
 "nbformat": 3,
 "nbformat_minor": 0,
 "worksheets": [
  {
   "cells": [
    {
     "cell_type": "heading",
     "level": 1,
     "metadata": {},
     "source": [
      "Chapter1, Thyristors"
     ]
    },
    {
     "cell_type": "heading",
     "level": 2,
     "metadata": {},
     "source": [
      "Example 1.11.1 : page 1-29 "
     ]
    },
    {
     "cell_type": "code",
     "collapsed": false,
     "input": [
      "from __future__ import division\n",
      "#peak reverse recovery current\n",
      "#given data :\n",
      "itt=10 # time in micro seconds\n",
      "qtt=150 #charge in micro colums\n",
      "prrc=((2*qtt)/itt) #peak reverse recovery current in amperes\n",
      "print \"Peak reverse recovery current = %0.f A\" %prrc"
     ],
     "language": "python",
     "metadata": {},
     "outputs": [
      {
       "output_type": "stream",
       "stream": "stdout",
       "text": [
        "Peak reverse recovery current = 30 A\n"
       ]
      }
     ],
     "prompt_number": 1
    },
    {
     "cell_type": "heading",
     "level": 2,
     "metadata": {},
     "source": [
      "Examples 1.18.1: page 1-44"
     ]
    },
    {
     "cell_type": "code",
     "collapsed": false,
     "input": [
      "from __future__ import division\n",
      "from math import pi, sqrt, cos\n",
      "#voltage of the capacitor\n",
      "r=10 #in ohms\n",
      "l=10 #/inductance in mH\n",
      "c=10 #capacitance in micro farads\n",
      "v=100 #in volts\n",
      "t=((pi)/(sqrt((1/(l*10**-3*c*10**-6))-(r**2/(4*(l*10**-3)**2))))) # time in seconds\n",
      "vc= v*(1-cos(t/(sqrt(l*10**-3*c*10**-6))*pi/180)) #in volts\n",
      "print \"The capacitor voltage = %0.2f V\" %vc\n",
      "#answer is wrong in the textbook"
     ],
     "language": "python",
     "metadata": {},
     "outputs": [
      {
       "output_type": "stream",
       "stream": "stdout",
       "text": [
        "The capacitor voltage = 0.15 V\n"
       ]
      }
     ],
     "prompt_number": 2
    },
    {
     "cell_type": "heading",
     "level": 2,
     "metadata": {},
     "source": [
      "Example 1.18.2: page 1-45"
     ]
    },
    {
     "cell_type": "code",
     "collapsed": false,
     "input": [
      "from __future__ import division\n",
      "from math import pi, sqrt, cos\n",
      "#voltage of the capacitor\n",
      "r=15 #in ohms\n",
      "l=12 #/inductance in mH\n",
      "c=8 #capacitance in micro farads\n",
      "v=100 #in volts\n",
      "t=((pi)/(sqrt((1/(l*10**-3*c*10**-6))-(r**2/(4*(l*10**-3)**2))))) # time in seconds\n",
      "vc= v*(1-cos(t/(sqrt(l*10**-3*c*10**-6))*pi/180)) #in volts\n",
      "print \"The capacitor voltage = %0.2f V\" %vc\n",
      "#this question is not solved in the textbook"
     ],
     "language": "python",
     "metadata": {},
     "outputs": [
      {
       "output_type": "stream",
       "stream": "stdout",
       "text": [
        "The capacitor voltage = 0.16 V\n"
       ]
      }
     ],
     "prompt_number": 3
    },
    {
     "cell_type": "heading",
     "level": 2,
     "metadata": {},
     "source": [
      "Example 1.20.1: page 1-52"
     ]
    },
    {
     "cell_type": "code",
     "collapsed": false,
     "input": [
      "from __future__ import division\n",
      "#Turn Off Time\n",
      "#given data :\n",
      "Vs=200 #in volts\n",
      "R1=10 # in ohm\n",
      "R2=R1 \n",
      "C=5 # in micro-farad\n",
      "Tc=(R1*C)/1.44 \n",
      "print \"The Circuit Turn Off Time, Tc = %0.2f micro-sec\" %Tc"
     ],
     "language": "python",
     "metadata": {},
     "outputs": [
      {
       "output_type": "stream",
       "stream": "stdout",
       "text": [
        "The Circuit Turn Off Time, Tc = 34.72 micro-sec\n"
       ]
      }
     ],
     "prompt_number": 4
    },
    {
     "cell_type": "heading",
     "level": 2,
     "metadata": {},
     "source": [
      "Example 1.20.2: page 1-52"
     ]
    },
    {
     "cell_type": "code",
     "collapsed": false,
     "input": [
      "from __future__ import division\n",
      "#Peak Current and turn off time\n",
      "#given data :\n",
      "Vs=200 #in volts\n",
      "R1=10 # in ohm\n",
      "R2=R1 \n",
      "Vc=200 #in volts\n",
      "C=10 # in micro-farad\n",
      "I1=Vs/R1 \n",
      "I2=(Vs+Vc)/R2 \n",
      "It1=I1+I2 \n",
      "print \"Peak Current, It1 = %0.2f A \" %It1\n",
      "Tc=(R1*C)/1.44 \n",
      "print \"The Circuit Turn Off Time, Tc = %0.2f micro-sec \" %Tc"
     ],
     "language": "python",
     "metadata": {},
     "outputs": [
      {
       "output_type": "stream",
       "stream": "stdout",
       "text": [
        "Peak Current, It1 = 60.00 A \n",
        "The Circuit Turn Off Time, Tc = 69.44 micro-sec \n"
       ]
      }
     ],
     "prompt_number": 5
    },
    {
     "cell_type": "heading",
     "level": 2,
     "metadata": {},
     "source": [
      "Example 1.21.1: page 1-59"
     ]
    },
    {
     "cell_type": "code",
     "collapsed": false,
     "input": [
      "from __future__ import division\n",
      "from math import pi\n",
      "#L and C\n",
      "#given data :\n",
      "V=100 # in volts\n",
      "Irm=40 # in A\n",
      "tq=40 # in micro-sec\n",
      "Del_t=(50/100)*tq # in micro-sec\n",
      "C=(Irm*(tq+Del_t))/V \n",
      "print \"Capacitance, C = %0.f micro-farad \" %C\n",
      "L_min=(V/Irm)**2*C \n",
      "print \"Minimum inductance, L_min = %0.f micro-Henry\" %L_min\n",
      "T=2.5 # assume one cycle period in ms\n",
      "L_max=((0.01*(T*10**-3)**2)/(pi**2*C*10**-6))*10**6 \n",
      "print \"Maximum inductance, L_max = %0.2f micro-Henry \" %L_max"
     ],
     "language": "python",
     "metadata": {},
     "outputs": [
      {
       "output_type": "stream",
       "stream": "stdout",
       "text": [
        "Capacitance, C = 24 micro-farad \n",
        "Minimum inductance, L_min = 150 micro-Henry\n",
        "Maximum inductance, L_max = 263.86 micro-Henry \n"
       ]
      }
     ],
     "prompt_number": 6
    }
   ],
   "metadata": {}
  }
 ]
}