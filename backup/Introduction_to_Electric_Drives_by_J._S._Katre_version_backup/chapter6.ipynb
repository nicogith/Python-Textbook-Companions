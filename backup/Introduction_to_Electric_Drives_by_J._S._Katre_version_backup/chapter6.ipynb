{
 "metadata": {
  "name": "",
  "signature": "sha256:d435622fb1baa95a06f9d3e71f4cf43942d9156a2117df3b2f8d5d3555535a6d"
 },
 "nbformat": 3,
 "nbformat_minor": 0,
 "worksheets": [
  {
   "cells": [
    {
     "cell_type": "heading",
     "level": 1,
     "metadata": {},
     "source": [
      "Chapter6, Choppers"
     ]
    },
    {
     "cell_type": "heading",
     "level": 2,
     "metadata": {},
     "source": [
      "Example 6.5.1: page 6-7"
     ]
    },
    {
     "cell_type": "code",
     "collapsed": false,
     "input": [
      "from math import sqrt\n",
      "#average load voltage,RMS load voltage ,Form factor and Ripple factor\n",
      "#given data \n",
      "f=1.0 #in kHz\n",
      "t=1/f #in ms\n",
      "d=0.3 #\n",
      "v=200 #\n",
      "vch=2 #in volts\n",
      "vldc=(v-vch)*d #average load voltage in volts\n",
      "print \"part (a)\"\n",
      "print \"average load voltage = %0.2f V\" %vldc\n",
      "print \"part (b)\"\n",
      "vlrms=(v-vch)*sqrt(d) #RMS load voltage in volts\n",
      "print \"RMS load voltage = %0.1f V\" %vlrms\n",
      "print \"part (c)\"\n",
      "FF=vlrms/vldc #\n",
      "print \"form factor = %0.4f or %0.2f %%\"%(FF,FF*100)\n",
      "print \"part (d)\"\n",
      "rf=sqrt(FF**2-1) #\n",
      "print \"ripple factor = %0.3f or %0.2f %%\"%(rf,rf*100)"
     ],
     "language": "python",
     "metadata": {},
     "outputs": [
      {
       "output_type": "stream",
       "stream": "stdout",
       "text": [
        "part (a)\n",
        "average load voltage = 59.40 V\n",
        "part (b)\n",
        "RMS load voltage = 108.4 V\n",
        "part (c)\n",
        "form factor = 1.8257 or 182.57 %\n",
        "part (d)\n",
        "ripple factor = 1.528 or 152.75 %\n"
       ]
      }
     ],
     "prompt_number": 1
    },
    {
     "cell_type": "heading",
     "level": 2,
     "metadata": {},
     "source": [
      "Example 6.5.2: page 6-7"
     ]
    },
    {
     "cell_type": "code",
     "collapsed": false,
     "input": [
      "#chooper efficiency,input resistance and average load current\n",
      "#given data \n",
      "r=10 #in ohms\n",
      "f=1 #in kHz\n",
      "t=1/f #in ms\n",
      "d=0.3 #\n",
      "v=200 #\n",
      "vch=2 #in volts\n",
      "Po=((v-vch)**2)*(d/r) #in watts\n",
      "Pi=((d*v*(v-vch))/r) #in watts\n",
      "cn=Po/Pi #chopper efficiency\n",
      "print \"part (a)\"\n",
      "print \"chopper efficiency = %0.3f or %0.2f %%\"%(cn,cn*100)\n",
      "print \"part (b)\"\n",
      "R1=r/d #\n",
      "print \"input resistance = %0.2f ohm \" %R1\n",
      "print \"part (c)\"\n",
      "vldc=59.4 #V\n",
      "r=10 #ohm\n",
      "Ildc=vldc/r #amp\n",
      "print \"average load current = %0.2f A\" %Ildc"
     ],
     "language": "python",
     "metadata": {},
     "outputs": [
      {
       "output_type": "stream",
       "stream": "stdout",
       "text": [
        "part (a)\n",
        "chopper efficiency = 0.990 or 99.00 %\n",
        "part (b)\n",
        "input resistance = 33.33 ohm \n",
        "part (c)\n",
        "average load current = 5.94 A\n"
       ]
      }
     ],
     "prompt_number": 2
    },
    {
     "cell_type": "heading",
     "level": 2,
     "metadata": {},
     "source": [
      "Example 6.5.3: 6-8"
     ]
    },
    {
     "cell_type": "code",
     "collapsed": false,
     "input": [
      "#Duty Cycle,Average Load voltage and RMS Load Voltage\n",
      "#given data \n",
      "V=200 # in volts\n",
      "T_on=500*10**-6 \n",
      "f=1*10**3 # in Hz\n",
      "D=T_on*f \n",
      "print \"part (a)\"\n",
      "print \"duty cycle =\",D,\"or\",D*100,\"%\"\n",
      "print \"part (b)\"\n",
      "VL_dc=D*V \n",
      "print \"Average Load Voltage = %0.2f V\" %(VL_dc)\n",
      "print \"part (c)\"\n",
      "VL_rms=sqrt(D)*V \n",
      "print \"RMS Load Voltage, VL_rms = %0.f V\" %VL_rms\n",
      "#part c answer is calculated wrong in book"
     ],
     "language": "python",
     "metadata": {},
     "outputs": [
      {
       "output_type": "stream",
       "stream": "stdout",
       "text": [
        "part (a)\n",
        "duty cycle = 0.5 or 50.0 %\n",
        "part (b)\n",
        "Average Load Voltage = 100.00 V\n",
        "part (c)\n",
        "RMS Load Voltage, VL_rms = 141 V\n"
       ]
      }
     ],
     "prompt_number": 3
    },
    {
     "cell_type": "heading",
     "level": 2,
     "metadata": {},
     "source": [
      "Example 6.5.4: page 6-8"
     ]
    },
    {
     "cell_type": "code",
     "collapsed": false,
     "input": [
      "#average load voltage and rms load voltage\n",
      "#given data \n",
      "from numpy import arange, nditer, array\n",
      "Sr = arange(1,11)\n",
      "d = arange(0,1.1,0.1)\n",
      "vldc = d\n",
      "def rms(d):\n",
      "    it = nditer([d, None])\n",
      "    for x, y in it:\n",
      "        y[...] = sqrt(x)\n",
      "    return it.operands[1]\n",
      "vlrms = rms(d)\n",
      "Z  = vldc\n",
      "U = vlrms\n",
      "%matplotlib inline\n",
      "import matplotlib.pyplot as plt\n",
      "plt.plot(d,vlrms) \n",
      "plt.plot(d,vldc) \n",
      "plt.xlabel(\"DUTY CYCLE D\")\n",
      "plt.ylabel(\"Vldc & Vlrms Volts\")\n",
      "plt.title(\"Variation of Vldc and Vlrms with duty cycle D\")\n",
      "plt.text(0.5,0.4,'VLdc')\n",
      "plt.text(0.3,0.7,'VLrms')\n",
      "plt.show()\n",
      "print \"Sr.No\\t\\t\\tDuty Cycle D\\t\\t\\tAvg. Load Voltage\\t\\t\\tRMS load voltage\"\n",
      "for i,d,z,u in nditer([range(1,12),d,Z,U]):\n",
      "    print '  ',i,'\\t\\t\\t  ',d,'\\t\\t\\t\\t\\t',z,'\\t\\t\\t\\t  %0.3f'%u\n"
     ],
     "language": "python",
     "metadata": {},
     "outputs": [
      {
       "metadata": {},
       "output_type": "display_data",
       "png": "[encoded data removed]",
       "text": [
        "<matplotlib.figure.Figure at 0x7fa03d2b6cd0>"
       ]
      },
      {
       "output_type": "stream",
       "stream": "stdout",
       "text": [
        "Sr.No\t\t\tDuty Cycle D\t\t\tAvg. Load Voltage\t\t\tRMS load voltage\n",
        "   1 \t\t\t   0.0 \t\t\t\t\t0.0 \t\t\t\t  0.000\n",
        "   2 \t\t\t   0.1 \t\t\t\t\t0.1 \t\t\t\t  0.316\n",
        "   3 \t\t\t   0.2 \t\t\t\t\t0.2 \t\t\t\t  0.447\n",
        "   4 \t\t\t   0.3 \t\t\t\t\t0.3 \t\t\t\t  0.548\n",
        "   5 \t\t\t   0.4 \t\t\t\t\t0.4 \t\t\t\t  0.632\n",
        "   6 \t\t\t   0.5 \t\t\t\t\t0.5 \t\t\t\t  0.707\n",
        "   7 \t\t\t   0.6 \t\t\t\t\t0.6 \t\t\t\t  0.775\n",
        "   8 \t\t\t   0.7 \t\t\t\t\t0.7 \t\t\t\t  0.837\n",
        "   9 \t\t\t   0.8 \t\t\t\t\t0.8 \t\t\t\t  0.894\n",
        "   10 \t\t\t   0.9 \t\t\t\t\t0.9 \t\t\t\t  0.949\n",
        "   11 \t\t\t   1.0 \t\t\t\t\t1.0 \t\t\t\t  1.000\n"
       ]
      }
     ],
     "prompt_number": 4
    },
    {
     "cell_type": "heading",
     "level": 2,
     "metadata": {},
     "source": [
      "Example 6.5.5: page 6-9"
     ]
    },
    {
     "cell_type": "code",
     "collapsed": false,
     "input": [
      "from numpy import arange, nditer, sqrt\n",
      "#average load voltage and rms load voltage\n",
      "#given data \n",
      "D=arange(0.1,1.1,0.1)\n",
      "def fun1(D):\n",
      "    it=nditer([D, None])\n",
      "    for x, y in it:\n",
      "        y[...] = 1/sqrt(x)*100\n",
      "    return it.operands[1]    \n",
      "\n",
      "FF = fun1(D)\n",
      "def fun2(FF):\n",
      "    it = nditer([FF, None])\n",
      "    for x,y in it:\n",
      "        y[...] = sqrt((x/100)**2-1)*100\n",
      "    return it.operands[1]\n",
      "\n",
      "RF = fun2(FF)\n",
      "\n",
      "if D.any():\n",
      "    print \"Duty Cycle D : \",\n",
      "    for d in D:\n",
      "        print d,'\\t',\n",
      "print ''\n",
      "if FF.all():\n",
      "    print \"    FF %     : \",\n",
      "    for ff in FF:\n",
      "        print round(ff,2),'\\t',\n",
      "\n",
      "print ''\n",
      "if RF.any():\n",
      "    print \"    RF %     : \",\n",
      "    for rf in RF:\n",
      "        print round(rf,2),'\\t',\n",
      "\n",
      "% matplotlib inline\n",
      "import matplotlib.pyplot as plt\n",
      "plt.plot(D,FF)\n",
      "plt.plot(D,RF) \n",
      "plt.xlabel(\"DUTY CYCLE D\")\n",
      "plt.ylabel(\"FF & RF (%)\")\n",
      "plt.title(\"Variation of FF and RF with duty cycle D\")\n",
      "plt.text(0.7,130,'FF %')\n",
      "plt.text(0.7,70,'RF %')\n",
      "plt.show()"
     ],
     "language": "python",
     "metadata": {},
     "outputs": [
      {
       "output_type": "stream",
       "stream": "stdout",
       "text": [
        "Duty Cycle D :  0.1 \t0.2 \t0.3 \t0.4 \t0.5 \t0.6 \t0.7 \t0.8 \t0.9 \t1.0 \t\n",
        "    FF %     :  316.23 \t223.61 \t182.57 \t158.11 \t141.42 \t129.1 \t119.52 \t111.8 \t105.41 \t100.0 \t\n",
        "    RF %     :  300.0 \t200.0 \t152.75 \t122.47 \t100.0 \t81.65 \t65.47 \t50.0 \t33.33 \t0.0 \t"
       ]
      },
      {
       "metadata": {},
       "output_type": "display_data",
       "png": "[encoded data removed]",
       "text": [
        "<matplotlib.figure.Figure at 0x7fa03d1e3fd0>"
       ]
      }
     ],
     "prompt_number": 5
    },
    {
     "cell_type": "heading",
     "level": 2,
     "metadata": {},
     "source": [
      "Example 6.5.6: 6-10"
     ]
    },
    {
     "cell_type": "code",
     "collapsed": false,
     "input": [
      "from __future__ import division\n",
      "#Average output voltage,RMS output voltage,chopper efficiency and Effective input resistance\n",
      "#given data :\n",
      "r=10 #in ohms\n",
      "d=0.3 #\n",
      "v=230 #\n",
      "vch=1.5 #in volts\n",
      "D=80/100 # duty cycle\n",
      "V=220 # in volts\n",
      "Vch=1.5 #in volts\n",
      "VL_dc=D*(V-Vch) \n",
      "print \"part (a)\"\n",
      "print \"Average output voltage, VL_dc = %0.2f V \" %VL_dc\n",
      "print \"part (b)\"\n",
      "VL_rms=sqrt(D)*(V-Vch) \n",
      "print \"RMS output voltage, VL_rms = %0.2f V \" %VL_rms\n",
      "print \"part (c)\"\n",
      "Po=((v-vch)**2)*(d/r) #in watts\n",
      "Pi=((d*v*(v-vch))/r) #in watts\n",
      "cn=Po/Pi #chopper efficiency\n",
      "print \"chopper efficiency = %0.4f or %0.1f %%\"%(cn,cn*100)\n",
      "print \"part (d)\"\n",
      "D=80/100 # duty cycle\n",
      "R=20 #in ohm\n",
      "Ri=R/D \n",
      "print \"Effective input resistance, Ri = %0.2f ohm\" %Ri"
     ],
     "language": "python",
     "metadata": {},
     "outputs": [
      {
       "output_type": "stream",
       "stream": "stdout",
       "text": [
        "part (a)\n",
        "Average output voltage, VL_dc = 174.80 V \n",
        "part (b)\n",
        "RMS output voltage, VL_rms = 195.43 V \n",
        "part (c)\n",
        "chopper efficiency = 0.9935 or 99.3 %\n",
        "part (d)\n",
        "Effective input resistance, Ri = 25.00 ohm\n"
       ]
      }
     ],
     "prompt_number": 6
    },
    {
     "cell_type": "heading",
     "level": 2,
     "metadata": {},
     "source": [
      "Example 6.5.7 : page 6-11"
     ]
    },
    {
     "cell_type": "code",
     "collapsed": false,
     "input": [
      "#average output voltage and current\n",
      "#given data :\n",
      "vs=120 #in volts\n",
      "vb=1 #in volts\n",
      "d=0.33 #\n",
      "rl=10 #in ohms\n",
      "f=200 #in Hz\n",
      "Vldc=d*vs #\n",
      "Ildc=round(Vldc)/rl #in amperes\n",
      "print \"average/DC output voltage = %0.f V\" %round(Vldc)\n",
      "print \"average load current = %0.f A\" %Ildc"
     ],
     "language": "python",
     "metadata": {},
     "outputs": [
      {
       "output_type": "stream",
       "stream": "stdout",
       "text": [
        "average/DC output voltage = 40 V\n",
        "average load current = 4 A\n"
       ]
      }
     ],
     "prompt_number": 7
    },
    {
     "cell_type": "heading",
     "level": 2,
     "metadata": {},
     "source": [
      "Example 6.6.5 : page 6-20"
     ]
    },
    {
     "cell_type": "code",
     "collapsed": false,
     "input": [
      "#Average armature current\n",
      "#given data :\n",
      "V=200 # in volts\n",
      "D=50/100 # duty cycle\n",
      "VL_dc=V*D \n",
      "Eb=75 # in volts\n",
      "Ra=1 # in ohm\n",
      "Ia=(VL_dc-Eb)/Ra \n",
      "print \"Average armature current, Ia = %0.2f A \" %Ia"
     ],
     "language": "python",
     "metadata": {},
     "outputs": [
      {
       "output_type": "stream",
       "stream": "stdout",
       "text": [
        "Average armature current, Ia = 25.00 A \n"
       ]
      }
     ],
     "prompt_number": 8
    },
    {
     "cell_type": "heading",
     "level": 2,
     "metadata": {},
     "source": [
      "Example 6.6.6 : page 6-21"
     ]
    },
    {
     "cell_type": "code",
     "collapsed": false,
     "input": [
      "from numpy import exp, array, linalg\n",
      "#minimum instantaneous load current,peak instantaneous current and maximum peak to peak ripple\n",
      "v=220 #volts\n",
      "r=10 #in ohms\n",
      "l=15.5 #in mH\n",
      "f=5 #in kHz\n",
      "Eb=20 #in volts\n",
      "d=0.5 #\n",
      "x=exp((-(1-d)*r)/(f*10**3*l*10**-3)) #\n",
      "y=(1-x)*(Eb/r) #\n",
      "y1=(1-x)*((v-Eb)/r) #\n",
      "A=array([[0.94, -0.94*0.94],[0.94, -1] ])\n",
      "B=array([-0.94*0.125, -1.25] )\n",
      "X=linalg.solve(A,B) #\n",
      "print \"part (a)\"\n",
      "print \"minimum instantaneous current = %0.2f A\" %X[0]\n",
      "print \"part (b)\"\n",
      "print \"peak instantaneous current = %0.2f A\" % X[1]\n",
      "print \"part (c)\"\n",
      "PP=X[1]-X[0]\n",
      "print \"maximum peak to peak ripple in the load current = %0.3f A\" %PP"
     ],
     "language": "python",
     "metadata": {},
     "outputs": [
      {
       "output_type": "stream",
       "stream": "stdout",
       "text": [
        "part (a)\n",
        "minimum instantaneous current = 9.02 A\n",
        "part (b)\n",
        "peak instantaneous current = 9.73 A\n",
        "part (c)\n",
        "maximum peak to peak ripple in the load current = 0.709 A\n"
       ]
      }
     ],
     "prompt_number": 9
    },
    {
     "cell_type": "heading",
     "level": 2,
     "metadata": {},
     "source": [
      "Example 6.6.7 page 6-21"
     ]
    },
    {
     "cell_type": "code",
     "collapsed": false,
     "input": [
      "from __future__ import division\n",
      "#inductance\n",
      "v=220 #in volts\n",
      "r=0.2 #in ohms\n",
      "ia=200 #in amperes\n",
      "f=200 #in hz\n",
      "di=0.05*ia #in amperes\n",
      "e=0 #in volts\n",
      "d=0.5 #\n",
      "l=((1-d)*v*d*(1/f))/di #\n",
      "print \"inductance = %0.2f mH\" %(l*10**3)"
     ],
     "language": "python",
     "metadata": {},
     "outputs": [
      {
       "output_type": "stream",
       "stream": "stdout",
       "text": [
        "inductance = 27.50 mH\n"
       ]
      }
     ],
     "prompt_number": 10
    },
    {
     "cell_type": "heading",
     "level": 2,
     "metadata": {},
     "source": [
      "Example 6.6.9: 6-24"
     ]
    },
    {
     "cell_type": "code",
     "collapsed": false,
     "input": [
      "from math import log, pi, sin\n",
      "#load current is continuous or not,Average output current , \n",
      "#maximum and minimum steady state output current and  RMS values of first and second harmonics of the load current\n",
      "#given data :\n",
      "V=220 #in volts\n",
      "La=5 # in mH\n",
      "Eb=24 #in volts\n",
      "Ra=1 # in ohm\n",
      "T=2 #in m-sec\n",
      "D=0.6/2 \n",
      "D_dash=(La/(T*Ra))*log(1-((Eb/V)*(1-exp((T*Ra)/La)))) \n",
      "print \"part (c)\"\n",
      "print \"As D =\",D,\"% is greater then D_dash =\",round(D_dash,3),\"% so load current is continous.\"\n",
      "print \"part (d)\"\n",
      "Io=((D*V)-Eb)/Ra \n",
      "print \"Average output current,Io(A) = \",Io\n",
      "I_max=(V/Ra)*((1-exp(-(D*T*Ra)/La))/(1-exp(-(T*Ra)/La)))-(Eb/Ra) \n",
      "print \"Maximum steady state putput current, I_max = %0.2f A \" %I_max\n",
      "I_min=(V/Ra)*((1-exp((D*T*Ra)/La))/(1-exp((T*Ra)/La)))-(Eb/Ra) \n",
      "print \"Minimum steady state output current, I_min = %0.2f A\" %round(I_min)\n",
      "print \"part (e)\"\n",
      "C1_rms=((2*V)/(pi*sqrt(2)))*sin(pi*D) # in volts\n",
      "C2_rms=((2*V)/(2*pi*sqrt(2)))*sin(2*pi*D) # in volts\n",
      "Z1=((Ra**2+(2*pi*La*10**-3*(1/(T*10**-3)))**2)**(1/2)) #\n",
      "Z2=((Ra**2+(2*2*pi*La*10**-3*(1/(T*10**-3)))**2)**(1/2)) #\n",
      "Ifl=C1_rms/Z1 #in amperes\n",
      "Ifl1=C2_rms/Z2 #in amperes\n",
      "print \"fundamental component of load current = %0.2f A\" %Ifl\n",
      "print \"second harmonic component of load current = %0.2f A\" %Ifl1"
     ],
     "language": "python",
     "metadata": {},
     "outputs": [
      {
       "output_type": "stream",
       "stream": "stdout",
       "text": [
        "part (c)\n",
        "As D = 0.3 % is greater then D_dash = 0.131 % so load current is continous.\n",
        "part (d)\n",
        "Average output current,Io(A) =  42.0\n",
        "Maximum steady state putput current, I_max = 51.46 A \n",
        "Minimum steady state output current, I_min = 33.00 A\n",
        "part (e)\n",
        "fundamental component of load current = 5.09 A\n",
        "second harmonic component of load current = 1.50 A\n"
       ]
      }
     ],
     "prompt_number": 11
    },
    {
     "cell_type": "heading",
     "level": 2,
     "metadata": {},
     "source": [
      "Example 6.6.11: page 6-27"
     ]
    },
    {
     "cell_type": "code",
     "collapsed": false,
     "input": [
      "#value of current limiting resistor ,maximum and minimum duty cycle\n",
      "#given data :\n",
      "v=325 #in volts\n",
      "eb=120 #in volts\n",
      "r=0.2 #in ohms\n",
      "ra=0.3 #in ohms\n",
      "e=120 #in volts\n",
      "rb=0.2 #in ohms\n",
      "rl=0.3 #in ohms\n",
      "d=60 #in percentage\n",
      "i=20 #in amperes\n",
      "vo=(d/100)*v #\n",
      "R=((i*rl)-(v-eb)+(i*rb))/(-i) #\n",
      "print \"part (a)\"\n",
      "print \"value of current limiting resistor = %0.2f ohm\" %R\n",
      "#value of current limiting resistor is calculated wrong in the textbook\n",
      "print \"part (b)\"\n",
      "p=15 #\n",
      "R=9.45 #\n",
      "vmax=v+(v*(p/100)) #\n",
      "vmin=v-(v*(p/100)) #\n",
      "Dmax=((i*R)/vmin)*100 #\n",
      "Dmin=((i*R)/vmax)*100 #\n",
      "print \"maximum duty cycle = %0.2f %%\" %Dmax\n",
      "print \"minimum duty cycle = %0.2f %%\" %Dmin"
     ],
     "language": "python",
     "metadata": {},
     "outputs": [
      {
       "output_type": "stream",
       "stream": "stdout",
       "text": [
        "part (a)\n",
        "value of current limiting resistor = 9.75 ohm\n",
        "part (b)\n",
        "maximum duty cycle = 68.42 %\n",
        "minimum duty cycle = 50.57 %\n"
       ]
      }
     ],
     "prompt_number": 12
    },
    {
     "cell_type": "heading",
     "level": 2,
     "metadata": {},
     "source": [
      "Example 6.9.1 : page 6-39"
     ]
    },
    {
     "cell_type": "code",
     "collapsed": false,
     "input": [
      "# pulse width and output voltage\n",
      "#given data :\n",
      "v=220 #in volts\n",
      "vo=660 #in volts\n",
      "toff=100 #in micro seconds\n",
      "ton=((vo*toff)/v)-toff #in micro secondsT=ton+toff #in micro seconds\n",
      "T=ton+toff \n",
      "f=(1/T) #in Hz\n",
      "Vo=((v)/(1-(f*(ton/2)))) #in volts\n",
      "print \"pulse width (ton) = %0.f micro seconds\"%ton\n",
      "print \"new output voltage = %0.f V\" %Vo"
     ],
     "language": "python",
     "metadata": {},
     "outputs": [
      {
       "output_type": "stream",
       "stream": "stdout",
       "text": [
        "pulse width (ton) = 200 micro seconds\n",
        "new output voltage = 330 V\n"
       ]
      }
     ],
     "prompt_number": 13
    },
    {
     "cell_type": "heading",
     "level": 2,
     "metadata": {},
     "source": [
      "Example 6.9.2 : page 6-40"
     ]
    },
    {
     "cell_type": "code",
     "collapsed": false,
     "input": [
      "#chopping frequency and new output voltage\n",
      "#given data :\n",
      "v=200 #in volts\n",
      "vo=600 #in volts\n",
      "ton=200 #in micro seconds\n",
      "x=-((v/vo)-1) #\n",
      "f=x/(ton*10**-6) #\n",
      "ton1=ton/2 #\n",
      "Vo=((v)/(1-(f*ton1*10**-6))) #in volts\n",
      "print \"chopping frequency = %0.2f Hz\"%f\n",
      "print \"new output voltage = %0.2f V\"%Vo"
     ],
     "language": "python",
     "metadata": {},
     "outputs": [
      {
       "output_type": "stream",
       "stream": "stdout",
       "text": [
        "chopping frequency = 3333.33 Hz\n",
        "new output voltage = 300.00 V\n"
       ]
      }
     ],
     "prompt_number": 14
    }
   ],
   "metadata": {}
  }
 ]
}