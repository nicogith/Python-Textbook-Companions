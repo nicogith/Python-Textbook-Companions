{
 "metadata": {
  "name": "",
  "signature": "sha256:a22e1723285478b613c9e93f05f8b7152fa3f22e73d3c58b27e1a2cccb6de797"
 },
 "nbformat": 3,
 "nbformat_minor": 0,
 "worksheets": [
  {
   "cells": [
    {
     "cell_type": "heading",
     "level": 1,
     "metadata": {},
     "source": [
      "Chapter9, Power factor improvement"
     ]
    },
    {
     "cell_type": "heading",
     "level": 2,
     "metadata": {},
     "source": [
      "Example 9.4.3: page 9-15"
     ]
    },
    {
     "cell_type": "code",
     "collapsed": false,
     "input": [
      "from numpy import array, nditer\n",
      "from math import pi, cos\n",
      "from __future__ import division\n",
      "#plot the varaition of average load voltage with firing angle\n",
      "alpha=array([0, 30, 60, 90]) #firing angle in degree\n",
      "ea=array([(2/pi)*cos(pi/180*alpha[0]), (2/pi)*cos(pi/180*alpha[1]), (2/pi)*cos(pi/180*alpha[2]), (2/pi)*cos(pi/180*alpha[3])])\n",
      "#############PLOT###########\n",
      "%matplotlib inline\n",
      "import matplotlib.pyplot as plt\n",
      "plt.plot(alpha,ea) #\n",
      "plt.ylabel(\"Average load voltage(in terms of Vm)\")\n",
      "plt.xlabel(\"Firing angle (alpha)\")\n",
      "plt.title(\"Variation of Ea Vs alpha for SAC\")\n",
      "plt.show()"
     ],
     "language": "python",
     "metadata": {},
     "outputs": [
      {
       "metadata": {},
       "output_type": "display_data",
       "png": "[encoded data removed]",
       "text": [
        "<matplotlib.figure.Figure at 0x7f7912985e50>"
       ]
      }
     ],
     "prompt_number": 17
    },
    {
     "cell_type": "heading",
     "level": 2,
     "metadata": {},
     "source": [
      "Example 9.5.1 : page 9-22"
     ]
    },
    {
     "cell_type": "code",
     "collapsed": false,
     "input": [
      "from math import degrees, acos, sqrt, pi, cos\n",
      "#IS_rms, I1_rms, FPF, PF and HF\n",
      "#given data :\n",
      "Vm=230 # in volts\n",
      "Ia=12 # in A\n",
      "Av=200 # average load voltage in volts\n",
      "alfa = acos(Av*pi/Vm/sqrt(2)-1)*180/pi\n",
      "Is_rms=Ia*sqrt((180-alfa)/180) \n",
      "print  \"(1)for PAC : \"\n",
      "print \"(a) Is_rms = %0.2f A\" %Is_rms\n",
      "I1_rms=((2*sqrt(2))/pi)*Ia*cos(alfa/2*pi/180) \n",
      "print \"(b) I1_rms = %0.2f A\" %I1_rms\n",
      "fi=alfa/2 \n",
      "FPF=cos(pi/180*fi) \n",
      "print \"(c) FPF = %0.4f lag\" %FPF\n",
      "CDF=I1_rms/Is_rms \n",
      "print \"(d) CDF = %0.4f \"%CDF\n",
      "PF=CDF*FPF \n",
      "print \"(e) PF = %0.4f lag\" %PF\n",
      "HF=sqrt((1/CDF**2)-1) \n",
      "print \"(f) HF = %0.4f \"%HF\n",
      "print  \"(2)for SAC : \"\n",
      "Vm=230 # in volts\n",
      "Ia=12 # in A\n",
      "Av=200 # average load voltage in volts\n",
      "alfa = degrees(acos(Av*pi/2/sqrt(2)/Vm))\n",
      "Is_rms=Ia*sqrt((180-(2*alfa))/180) \n",
      "print \"(a) Is_rms = %0.2f A\" %Is_rms\n",
      "I1_rms=((2*sqrt(2))/pi)*Ia*cos(alfa*pi/180) \n",
      "print \"(b) I1_rms = %0.2f A\" %I1_rms\n",
      "CDF=I1_rms/Is_rms \n",
      "print \"(c) CDF = %0.3f \"%CD\n",
      "fi=0 # degree\n",
      "FPF=cos(pi/180*fi) \n",
      "print \"(d) FPF = %0.2f \"%FPF\n",
      "#in book CDF is mentioned as DF which is wrongly mentioned\n",
      "PF=CDF*FPF \n",
      "print \"(e) PF = %0.3f lagging\" %PF\n",
      "HF=(sqrt((1/CDF**2)-1))*100 \n",
      "print \"(f) HF = %0.2f %%\" %HF"
     ],
     "language": "python",
     "metadata": {},
     "outputs": [
      {
       "output_type": "stream",
       "stream": "stdout",
       "text": [
        "(1)for PAC : \n",
        "(a) Is_rms = 11.27 A\n",
        "(b) I1_rms = 10.62 A\n",
        "(c) FPF = 0.9828 lag\n",
        "(d) CDF = 0.9423 \n",
        "(e) PF = 0.9261 lag\n",
        "(f) HF = 0.3552 \n",
        "(2)for SAC : \n",
        "(a) Is_rms = 10.95 A\n",
        "(b) I1_rms = 10.43 A\n",
        "(c) CDF = 0.953 \n",
        "(d) FPF = 1.00 \n",
        "(e) PF = 0.953 lagging\n",
        "(f) HF = 31.91 %\n"
       ]
      }
     ],
     "prompt_number": 36
    },
    {
     "cell_type": "heading",
     "level": 2,
     "metadata": {},
     "source": [
      "Example 9.5.2 : page 9-23"
     ]
    },
    {
     "cell_type": "code",
     "collapsed": false,
     "input": [
      "from __future__ import division\n",
      "from math import sqrt, pi, cos\n",
      "#average voltage \n",
      "a1=30 #in degree\n",
      "a2=75 #in degree\n",
      "b1=60 #in degree\n",
      "ia=10 #in amperes\n",
      "vsrms=230 #in volts\n",
      "b3=180-a1 #\n",
      "a3=180-b1 #\n",
      "b2=180-a2 #\n",
      "alfa=0 #\n",
      "vldc=((vsrms*sqrt(2))/pi)*(cos(pi/180*a1)-cos(pi/180*b1)+cos(pi/180*a2)-cos(pi/180*b2)+cos(pi/180*a3)-cos(pi/180*b3)) \n",
      "print \"average voltage = %0.1f V\" %vldc\n",
      "Is_rms=ia*((1/180)*(b1-a1+b2-a2+b3-a3))**(1/2) #\n",
      "print \"Is_rms = %0.2f A\" %Is_rms\n",
      "I1_rms=((sqrt(2)*ia)/(pi))*(cos(pi/180*a1)-cos(pi/180*b1)+cos(pi/180*a2)-cos(pi/180*b2)+cos(pi/180*a3)-cos(pi/180*b3)) \n",
      "print \"I1_rms = %0.2f A\" %I1_rms\n",
      "fi=alfa \n",
      "FPF=cos(I1_rms*fi) \n",
      "print \"FPF = %0.2f\"%FPF\n",
      "DF=I1_rms/Is_rms \n",
      "print \"DF = %0.4f\"%DF\n",
      "PF=DF*FPF \n",
      "print \"PF = %0.4f lag\" %PF\n",
      "HF=sqrt((1/DF**2)-1) \n",
      "print \"HF = %0.2f %%\" %(HF*100)"
     ],
     "language": "python",
     "metadata": {},
     "outputs": [
      {
       "output_type": "stream",
       "stream": "stdout",
       "text": [
        "average voltage = 129.4 V\n",
        "Is_rms = 7.07 A\n",
        "I1_rms = 5.63 A\n",
        "FPF = 1.00\n",
        "DF = 0.7956\n",
        "PF = 0.7956 lag\n",
        "HF = 76.15 %\n"
       ]
      }
     ],
     "prompt_number": 40
    },
    {
     "cell_type": "heading",
     "level": 2,
     "metadata": {},
     "source": [
      "Example 9.5.3: page 9-24"
     ]
    },
    {
     "cell_type": "code",
     "collapsed": false,
     "input": [
      "#IS_rms, I1_rms, PF and HF\n",
      "#given data :\n",
      "Vm=230 # in volts\n",
      "Ia=10 # in A\n",
      "alpha=pi/6 #degree\n",
      "ea=((2*Vm*sqrt(2))/pi)*cos(alpha) #\n",
      "print \"average output voltage = %0.2f V\" %ea\n",
      "isrms=Ia*(1-(2*alpha)/pi)**(1/2) #\n",
      "print \"rms value of supply current = %0.2f A\" %isrms\n",
      "I1rms=((2*sqrt(2)*Ia*cos(alpha))/pi) #\n",
      "print \"rms value of fundamental component of supply current = %0.2f A\" %I1rms\n",
      "hf=((isrms/I1rms)**2-1)**(1/2) #\n",
      "print \"HF of supply current = %0.2f %%\"%(hf*100)\n",
      "PF=((sqrt(2))*(1+cos(alpha)))/((pi*(pi-alpha))**(1/2)) #\n",
      "print \"PF (lagging)of supply current = %0.2f %%\"%PF\n",
      "# Answer for HF is calculated wrong in the textbook."
     ],
     "language": "python",
     "metadata": {},
     "outputs": [
      {
       "output_type": "stream",
       "stream": "stdout",
       "text": [
        "average output voltage = 179.33 V\n",
        "rms value of supply current = 8.16 A\n",
        "rms value of fundamental component of supply current = 7.80 A\n",
        "HF of supply current = 31.08 %\n",
        "PF (lagging)of supply current = 0.92 %\n"
       ]
      }
     ],
     "prompt_number": 42
    }
   ],
   "metadata": {}
  }
 ]
}