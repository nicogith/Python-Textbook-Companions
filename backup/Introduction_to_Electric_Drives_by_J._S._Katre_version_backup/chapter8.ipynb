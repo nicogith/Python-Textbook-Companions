{
 "metadata": {
  "name": "",
  "signature": "sha256:9acc72237a22bafac745af0975ba25d35e2bd8c4f39083e9c7def597741576b5"
 },
 "nbformat": 3,
 "nbformat_minor": 0,
 "worksheets": [
  {
   "cells": [
    {
     "cell_type": "heading",
     "level": 1,
     "metadata": {},
     "source": [
      "Chapter8, Control of DC drives"
     ]
    },
    {
     "cell_type": "heading",
     "level": 2,
     "metadata": {},
     "source": [
      "Example 8.12.1: page 8-26"
     ]
    },
    {
     "cell_type": "code",
     "collapsed": false,
     "input": [
      "from math import pi\n",
      "#back emf ,Required armature voltage and Rated armatuer current\n",
      "#given data :\n",
      "TL=45 # in N-M\n",
      "N=1200 #in rpm\n",
      "Rf=147 #in ohm\n",
      "Ra=25 # in ohm\n",
      "Kv=0.7032 \n",
      "w=(2*pi*N)/60 \n",
      "Vf=220 #in volts\n",
      "Kt=Kv \n",
      "If=Vf/Rf \n",
      "T=TL \n",
      "Ia=T/(Kt*If) \n",
      "Eg=Kv*w*If \n",
      "print \"part (a)\"\n",
      "print \"Back emf,Eg = %0.2f Volts\" %Eg\n",
      "print \"part (b)\"\n",
      "Ea=(Ia*(Ra/100))+Eg \n",
      "print \"Required armature voltage, Ea = %0.2f V\"%Ea\n",
      "print \"part (c)\"\n",
      "rac=11191.4/Vf #\n",
      "print \"rated armature current = %0.2f A\" %rac"
     ],
     "language": "python",
     "metadata": {},
     "outputs": [
      {
       "output_type": "stream",
       "stream": "stdout",
       "text": [
        "part (a)\n",
        "Back emf,Eg = 132.25 Volts\n",
        "part (b)\n",
        "Required armature voltage, Ea = 142.94 V\n",
        "part (c)\n",
        "rated armature current = 50.87 A\n"
       ]
      }
     ],
     "prompt_number": 22
    },
    {
     "cell_type": "heading",
     "level": 2,
     "metadata": {},
     "source": [
      "Example 8.12.2: page 8-27"
     ]
    },
    {
     "cell_type": "code",
     "collapsed": false,
     "input": [
      "from math import sqrt, cos, pi, acos\n",
      "#the field current,Evaluation of alfa,Evaluation of power factor\n",
      "#given data :\n",
      "TL=50 # in N-M\n",
      "N=1000 #in rpm\n",
      "Rf=150 #in ohm\n",
      "Ra=.25 # in ohm\n",
      "Kv=0.7032 \n",
      "alfa=0 \n",
      "Vm=230 # in volts\n",
      "Ef=((Vm*sqrt(2))/pi)*(1+cos(pi/180*alfa)) \n",
      "If=Ef/Rf \n",
      "print \"part (a)\"\n",
      "print \"Field current, If = %0.2f A\" %If\n",
      "print \"part (b)\"\n",
      "w=(2*pi*N)/60 \n",
      "Ia=TL/(Kv*If) \n",
      "Eg=Kv*w*If \n",
      "Ea=Eg+(Ra*Ia) \n",
      "alfa_a=acos(((Ea*pi)/(Vm*sqrt(2)))-1)*180/pi \n",
      "print \"angle = %0.2f degree\" %alfa_a\n",
      "print \"part (c)\"\n",
      "Ismax=Ia*((180-alfa_a)/180)**(1/2) #in amperes\n",
      "PF=((Ea*Ia)/(Vm*Ismax)) #lagging\n",
      "print \"power factor = %0.3f lagging\" %PF"
     ],
     "language": "python",
     "metadata": {},
     "outputs": [
      {
       "output_type": "stream",
       "stream": "stdout",
       "text": [
        "part (a)\n",
        "Field current, If = 1.38 A\n",
        "part (b)\n",
        "angle = 83.90 degree\n",
        "part (c)\n",
        "power factor = 0.682 lagging\n"
       ]
      }
     ],
     "prompt_number": 24
    },
    {
     "cell_type": "heading",
     "level": 2,
     "metadata": {},
     "source": [
      "Example 8.12.3: page 8-29"
     ]
    },
    {
     "cell_type": "code",
     "collapsed": false,
     "input": [
      "#torque  \n",
      "#given data :\n",
      "Ia=50 # in A\n",
      "Rf=150 #in ohm\n",
      "Ra=.25 # in ohm\n",
      "Kv=1.4 # in V/A-rad/sec\n",
      "alfa_f=0 \n",
      "alfa_a=45 # in degree\n",
      "Vm=230*sqrt(2) # in volts\n",
      "Vs=230 # in volts\n",
      "Ef=((2*Vm)/pi)*(cos(pi/180*alfa_f)) \n",
      "If=Ef/Rf \n",
      "T=Kv*Ia*If \n",
      "print \"part (a)\"\n",
      "print \"Torque developed by the motor, T = %0.2f N/m\" %T\n",
      "Ea=((2*Vm)/pi)*(cos(pi/180*alfa_a)) \n",
      "Eg=Ea-(Ia*Ra) \n",
      "w=Eg/(Kv*If) \n",
      "N=(w/(2*pi))*60 \n",
      "print \"part (b)\"\n",
      "print \"Speed, N = %0.2f rpm \"%N\n",
      "print \"part (c)\"\n",
      "Ea=Eg+(Ra*Ia) \n",
      "alfa_a=180/pi*acos(((Ea*pi)/(Vm*sqrt(2)))-1) \n",
      "Ismax=Ia*((180-alfa_a)/180)**(1/2) #in amperes\n",
      "PF=((Ea*Ia)/(Vm*Ismax)) #lagging\n",
      "print \"power factor = %0.4f lagging\" %PF\n",
      "#supply power factor is calculated wrong in the textbook"
     ],
     "language": "python",
     "metadata": {},
     "outputs": [
      {
       "output_type": "stream",
       "stream": "stdout",
       "text": [
        "part (a)\n",
        "Torque developed by the motor, T = 96.63 N/m\n",
        "part (b)\n",
        "Speed, N = 661.71 rpm \n",
        "part (c)\n",
        "power factor = 0.6366 lagging\n"
       ]
      }
     ],
     "prompt_number": 26
    },
    {
     "cell_type": "heading",
     "level": 2,
     "metadata": {},
     "source": [
      "Example 8.12.4: page 8-32"
     ]
    },
    {
     "cell_type": "code",
     "collapsed": false,
     "input": [
      "#Motor torque\n",
      "#given data :\n",
      "Vs_rms=230 # in volts\n",
      "N=1200 # in rpm\n",
      "Ia=40 # in A\n",
      "Ra=0.25 #in ohm\n",
      "Ka_fi1=0.182 # in V/rpm\n",
      "Ka_fi=(0.182*60)/(2*pi) \n",
      "alfa_a=30 \n",
      "T=Ka_fi*Ia \n",
      "print \"part (a)\"\n",
      "print \"Motor torque, T = %0.1f N-m\" %T\n",
      "print \"part (b)\"\n",
      "Ea=((2*sqrt(2)*Vs_rms)/pi)*(cos(alfa_a*pi/180)) \n",
      "N=(Ea-(Ra*Ia))/Ka_fi1 \n",
      "print \"Speed of the motor, N = %0.1f rpm \"%N\n",
      "print \"part (c)\"\n",
      "Is_rms=Ia \n",
      "PF=(Ea*Ia)/(Vs_rms*Is_rms) \n",
      "print \"Power factor, PF = %0.4f lagging\" %PF"
     ],
     "language": "python",
     "metadata": {},
     "outputs": [
      {
       "output_type": "stream",
       "stream": "stdout",
       "text": [
        "part (a)\n",
        "Motor torque, T = 69.5 N-m\n",
        "part (b)\n",
        "Speed of the motor, N = 930.4 rpm \n",
        "part (c)\n",
        "Power factor, PF = 0.7797 lagging\n"
       ]
      }
     ],
     "prompt_number": 30
    },
    {
     "cell_type": "heading",
     "level": 2,
     "metadata": {},
     "source": [
      "Example 8.12.6 : page "
     ]
    },
    {
     "cell_type": "code",
     "collapsed": false,
     "input": [
      "from numpy import arange, nditer\n",
      "#Torque speed charaterstics\n",
      "#given data :\n",
      "v=230 #in volts\n",
      "vm=sqrt(2)*v #in clts\n",
      "Ka=1 \n",
      "QR=1 #\n",
      "ra=0.05 #\n",
      "alpha=30 #in degree\n",
      "y=(60/(2*pi)) #\n",
      "z=((vm/pi)*(1+cos(pi/180*alpha))) #\n",
      "x=(ra/(0.5)**2)\n",
      "i = arange(0,9)\n",
      "def func(i):\n",
      "    it = nditer([i, None])\n",
      "    for a, b in it:\n",
      "        b[...] = (z-a*x)*y\n",
      "    return it.operands[1]\n",
      "\n",
      "\n",
      "wm = func(i)\n",
      "print \"varoius values of speed in RPM is\"\n",
      "for x in nditer([wm]):\n",
      "    print x,'\\t',\n",
      "T=arange(0,9)\n",
      "\n",
      "###############PLOT#############\n",
      "\n",
      "\n",
      "%matplotlib inline\n",
      "import matplotlib.pyplot as plt\n",
      "plt.plot(T, wm)\n",
      "plt.xlabel(\"Torque ,N-m\")\n",
      "plt.ylabel(\"Speed (rpm)  for alpha=30 degree\")\n",
      "plt.show()\n",
      "\n",
      "\n"
     ],
     "language": "python",
     "metadata": {},
     "outputs": [
      {
       "output_type": "stream",
       "stream": "stdout",
       "text": [
        "varoius values of speed in RPM is\n",
        "1844 \t1843 \t1841 \t1839 \t1837 \t1835 \t1833 \t1831 \t1829 \t"
       ]
      },
      {
       "metadata": {},
       "output_type": "display_data",
       "png": "[encoded data removed]",
       "text": [
        "<matplotlib.figure.Figure at 0x7f3de8ed3d90>"
       ]
      }
     ],
     "prompt_number": 39
    },
    {
     "cell_type": "heading",
     "level": 2,
     "metadata": {},
     "source": [
      "Example 8.18.1: page 8-52"
     ]
    },
    {
     "cell_type": "code",
     "collapsed": false,
     "input": [
      "from math import sqrt, degrees, pi, acos, cos\n",
      "from __future__ import division\n",
      "#No load speed ,firing angle ,Power Factor and speed regulation\n",
      "#given data :\n",
      "Ra=0.075 #in ohm\n",
      "alfa1=0 # in degree\n",
      "alfa2=30 # in degree\n",
      "VL_rms=480 # in volts\n",
      "Ka_fi=0.3 # in V/rms\n",
      "Vs_rms=round(VL_rms/sqrt(3)) \n",
      "Vm=sqrt(2)*Vs_rms \n",
      "Ea=round((3*sqrt(3)*Vm*cos(pi/180*alfa1))/pi) \n",
      "Ea1=((3*sqrt(3)*Vm*cos(alfa2*pi/180))/pi) \n",
      "Ia=(10/100)*160 # in A\n",
      "N_0=(Ea-Ia*Ra)/Ka_fi \n",
      "N_30=(Ea1-Ia*Ra)/Ka_fi \n",
      "print \"part (a)\"\n",
      "print \"No load speed at alfa=0 degree = %0.2f rpm \"%N_0\n",
      "print \"No load speed at alfa=30 degree = %0.2f rpm \"%N_30\n",
      "print \"part (b)\"\n",
      "Ia=160 # in A\n",
      "N=1800 # in rpm\n",
      "Eg=540 # in volts\n",
      "Ea=(Eg+(Ia*Ra)) \n",
      "alfa=degrees(acos((Ea*pi)/(3*sqrt(3)*Vm))) \n",
      "print \"the firng angel, alfa = %0.1f degree \"%alfa\n",
      "print \"part (c)\"\n",
      "Is_rms=sqrt(2/3)*Ia \n",
      "Sva=3*Vs_rms*Is_rms \n",
      "PF=(Ea*Ia)/(Sva) \n",
      "print \"Power Factor, PF = %0.4f lagging\"%PF\n",
      "print \"part (d)\"\n",
      "Ra=0.075 #in ohm\n",
      "Ia=160 # in A\n",
      "Ia1=16 # in A\n",
      "Eg=540 # in volts\n",
      "Ka_fi=0.3 # in V/rms\n",
      "N=1800 # in rpm\n",
      "Ea=(Eg+(Ia*Ra)) \n",
      "Eg1=Ea-(Ia1*Ra) \n",
      "N_0=Eg1/Ka_fi \n",
      "SR=((N_0-N)/N)*100 \n",
      "print \"Speed Regulation, SR = %0.2f %%\" %SR"
     ],
     "language": "python",
     "metadata": {},
     "outputs": [
      {
       "output_type": "stream",
       "stream": "stdout",
       "text": [
        "part (a)\n",
        "No load speed at alfa=0 degree = 2156.00 rpm \n",
        "No load speed at alfa=30 degree = 1866.41 rpm \n",
        "part (b)\n",
        "the firng angel, alfa = 31.6 degree \n",
        "part (c)\n",
        "Power Factor, PF = 0.8135 lagging\n",
        "part (d)\n",
        "Speed Regulation, SR = 2.00 %\n"
       ]
      }
     ],
     "prompt_number": 41
    },
    {
     "cell_type": "heading",
     "level": 2,
     "metadata": {},
     "source": [
      "Example 8.18.2: page 8-54"
     ]
    },
    {
     "cell_type": "code",
     "collapsed": false,
     "input": [
      "#Delay Angel of Armature,No load speed and speed regulation\n",
      "#given data :\n",
      "VL_rms=208 # in volts\n",
      "Kv=1.2 # in V/A-rad/sec\n",
      "Vs_rms=round(VL_rms/sqrt(3)) \n",
      "Vm=sqrt(2)*Vs_rms \n",
      "Rf=240  # in ohm\n",
      "Ra=0.25 # in ohm\n",
      "alfa_f=0 # in degree\n",
      "V=280 # in volts\n",
      "Twenty_HP=20*746 #in watt\n",
      "Ia=Twenty_HP/V\n",
      "Ef=round((3*sqrt(3)*Vm*cos(pi/180*alfa_f))/pi) \n",
      "N=1800 \n",
      "w=(N*2*pi)/60 \n",
      "If=Ef/Rf \n",
      "Eg=Kv*w*If \n",
      "Ea=round(Eg+(Ia*Ra)) \n",
      "alfa_a=degrees(acos((Ea*pi)/(3*sqrt(3)*Vm))) \n",
      "print \"part (a)\"\n",
      "print \"Delay Angel Of Armature, alfa_a = %0.2f degree\"%alfa_a\n",
      "print \"part (b)\"\n",
      "Ia1=(Ia*10)/100\n",
      "Eg_noL=Ea-(Ia1*Ra) \n",
      "w_0=(Eg_noL/(1.2*1.17)) # rad/sec\n",
      "N_0=(w_0*60)/(2*pi) \n",
      "print \"NO load speed at alfa|_a, = %0.2f \"%N_0\n",
      "# no load speed is calculated wrong in textbook\n",
      "print \"part (c)\"\n",
      "SR=((N_0-N)/N)*100 \n",
      "print \"Speed Regulation, SR = %0.2f %% \"%SR\n",
      "# speed regulation is calculated wrong in the textbook"
     ],
     "language": "python",
     "metadata": {},
     "outputs": [
      {
       "output_type": "stream",
       "stream": "stdout",
       "text": [
        "part (a)\n",
        "Delay Angel Of Armature, alfa_a = 7.94 degree\n",
        "part (b)\n",
        "NO load speed at alfa|_a, = 1881.75 \n",
        "part (c)\n",
        "Speed Regulation, SR = 4.54 % \n"
       ]
      }
     ],
     "prompt_number": 42
    },
    {
     "cell_type": "heading",
     "level": 2,
     "metadata": {},
     "source": [
      "Example 8.18.3: page 8-56"
     ]
    },
    {
     "cell_type": "code",
     "collapsed": false,
     "input": [
      "#alphas,speed and delay angle\n",
      "#given data :\n",
      "v1=208 #\n",
      "vsrms=v1/sqrt(3) #\n",
      "n=1000 #rpm\n",
      "w=n*(pi/30) #in rad/s\n",
      "ang=0 #\n",
      "ef=((3*sqrt(3)*sqrt(2)*vsrms*cos(pi/180*ang))/pi) #in volts\n",
      "rf=140 #in ohms\n",
      "If=ef/rf #in amperes\n",
      "t=120 #N-m\n",
      "kv=1.2 #\n",
      "ia=(t)/(kv*If) #in amperes\n",
      "eg=kv*If*w #in volts\n",
      "ra=0.25 #in ohms\n",
      "ea=eg+(ia*ra) #\n",
      "alpha=degrees(acos((ea*pi)/(3*sqrt(3)*sqrt(2)*vsrms)))\n",
      "print \"part (a)\"\n",
      "print \"alpha = %0.2f degree\"%round(alpha)\n",
      "print \"part (b)\"\n",
      "rf=140 #in ohms\n",
      "If=ea/rf #in amperes\n",
      "t=120 #N-m\n",
      "kv=1.2 #\n",
      "ia=(t)/(kv*If) #in amperes\n",
      "ra=0.25 #in ohms\n",
      "eg=ea-(ia*ra) #\n",
      "w=(eg/(kv*If)) #in rad/s\n",
      "N=w*(30/pi) #rpm\n",
      "print \"speed = %0.2f rpm\" %N\n",
      "#speed is calculated wrong in the textbook\n",
      "print \"part (c)\"\n",
      "n1=1000 #rpm\n",
      "w=n1*(pi/30) #in rad/s\n",
      "v1=208 #\n",
      "vsrms=v1/sqrt(3) #\n",
      "w1=(1800*(pi/30)) #\n",
      "n=1800 #rpm\n",
      "ang=0 #\n",
      "T=120 #n-m\n",
      "alphas=0 #\n",
      "ang=0 #\n",
      "ea=((3*sqrt(3)*sqrt(2)*vsrms*cos(pi/180*ang))/pi) #in volts\n",
      "rf=140 #in ohms\n",
      "If=ea/rf #in amperes\n",
      "t=120 #N-m\n",
      "kv=1.2 #\n",
      "ia=(t)/(kv*If) #in amperes\n",
      "ra=0.25 #in ohms\n",
      "eg=ea-(ia*ra) #\n",
      "if1=eg/(kv*w1) #in amperese\n",
      "ef1=if1*rf #in volts\n",
      "alphaf=degrees(acos((ef1*pi)/(3*sqrt(3)*120*sqrt(2)))) \n",
      "print \"delay angle = %0.2f degree\"%alpha\n",
      "# Ans in the textbook are not accurate."
     ],
     "language": "python",
     "metadata": {},
     "outputs": [
      {
       "output_type": "stream",
       "stream": "stdout",
       "text": [
        "part (a)\n",
        "alpha = 20.00 degree\n",
        "part (b)\n",
        "speed = 1058.39 rpm\n",
        "part (c)\n",
        "delay angle = 19.62 degree\n"
       ]
      }
     ],
     "prompt_number": 44
    },
    {
     "cell_type": "heading",
     "level": 2,
     "metadata": {},
     "source": [
      "Example 8.19.1: page 8-58"
     ]
    },
    {
     "cell_type": "code",
     "collapsed": false,
     "input": [
      "#Firing angle to keep the motor current and Power fed back \n",
      "#given data :\n",
      "Vs_rms=260 # in volts\n",
      "Ia=40 # in A\n",
      "Eg=192 #in volts\n",
      "kv=0.182 # in V/rpm\n",
      "Ra=0.3 # in ohm\n",
      "Ea=Eg+(Ia*Ra) \n",
      "alfa_a=degrees(acos((Ea*pi)/(2*Vs_rms*sqrt(2))) )\n",
      "print \"part (a)\"\n",
      "print \"Firing angle to keep motor current, alfa_a = %0.2f degree\" %alfa_a\n",
      "Ea1=-Eg+(Ia*Ra) \n",
      "alfa_b=degrees(acos((Ea1*pi)/(2*Vs_rms*sqrt(2))) )\n",
      "print \"Firing angle, alfa_a = %0.2f degree\"%alfa_b\n",
      "print \"part (b)\"\n",
      "Ia=40 # in A\n",
      "Eg=192 #in volts\n",
      "Ra=0.3 # in ohm\n",
      "Ea=-Eg+(Ia*Ra) \n",
      "P=abs(Ea)*Ia \n",
      "print \"Power fed back, P = %0.2f Watt\" %P"
     ],
     "language": "python",
     "metadata": {},
     "outputs": [
      {
       "output_type": "stream",
       "stream": "stdout",
       "text": [
        "part (a)\n",
        "Firing angle to keep motor current, alfa_a = 29.37 degree\n",
        "Firing angle, alfa_a = 140.26 degree\n",
        "part (b)\n",
        "Power fed back, P = 7200.00 Watt\n"
       ]
      }
     ],
     "prompt_number": 45
    },
    {
     "cell_type": "heading",
     "level": 2,
     "metadata": {},
     "source": [
      "Example 8.19.2 : page 8-58"
     ]
    },
    {
     "cell_type": "code",
     "collapsed": false,
     "input": [
      "#Average armature voltage ,back emf ,speed of the motor , motor torque and supply power factor\n",
      "#given data :\n",
      "Vm=230 # in volts\n",
      "Ia=40 # in A\n",
      "Ra=0.5 # in ohm\n",
      "Ka_fi=0.2 # in V/rpm\n",
      "alfa=30 \n",
      "Ea=(Vm*sqrt(2)*(1+cos(pi/180*alfa)))/pi \n",
      "print \"part (a)\"\n",
      "print \"Average armature current, Ea = %0.2f V\"%Ea\n",
      "print \"part (b)\"\n",
      "Eb=Ea-(Ia*Ra) \n",
      "print \"Back emf, Eb = %0.2f V\"%Eb\n",
      "print \"part (c)\"\n",
      "N=Eb/Ka_fi \n",
      "print \"Speed of the motor, N = %0.2f rpm\" %round(N)\n",
      "print \"part (d)\"\n",
      "Ka_fi1=(Ka_fi*60)/(2*pi) \n",
      "T=Ka_fi1*Ia \n",
      "print \"Torque, T = %0.1f N/m\" %T\n",
      "print \"part (e)\"\n",
      "alfa=pi/6 \n",
      "PF=(2*sqrt(2)*cos(alfa/2)**2)/(sqrt(pi*(pi-alfa))) \n",
      "print \"power factor = %0.2f lagging\" %PF"
     ],
     "language": "python",
     "metadata": {},
     "outputs": [
      {
       "output_type": "stream",
       "stream": "stdout",
       "text": [
        "part (a)\n",
        "Average armature current, Ea = 193.20 V\n",
        "part (b)\n",
        "Back emf, Eb = 173.20 V\n",
        "part (c)\n",
        "Speed of the motor, N = 866.00 rpm\n",
        "part (d)\n",
        "Torque, T = 76.4 N/m\n",
        "part (e)\n",
        "power factor = 0.92 lagging\n"
       ]
      }
     ],
     "prompt_number": 47
    },
    {
     "cell_type": "heading",
     "level": 2,
     "metadata": {},
     "source": [
      "Example 8.19.3: page 8-59"
     ]
    },
    {
     "cell_type": "code",
     "collapsed": false,
     "input": [
      "#torque developed,speed and input power factor\n",
      "#given data :\n",
      "v=208 #in volts\n",
      "f=50 #in Hz\n",
      "ra=0.5 #in ohms\n",
      "rf=345 #in ohms\n",
      "kv=0.71 #in V/A-rad/sec\n",
      "alpha=45 #in degree\n",
      "ia=55 #in amperes\n",
      "If=((2*sqrt(2)*v*cos(0))/(pi*rf)) #in amperes\n",
      "t=kv*If*ia #in  N/m\n",
      "print \"part (a)\"\n",
      "print \"torque = %0.2f N/m\"%t\n",
      "print \"part (b)\"\n",
      "eb=((2*sqrt(2)*v*cos(pi/180*alpha))/pi)-(ia*ra) #in volts\n",
      "w=eb/(kv*If) #in rad/sec\n",
      "N=w/(2*pi) #rps\n",
      "N*=60 # rpm\n",
      "print \"speed = %0.2f rpm\" %N\n",
      "#speed is calculated wrong in the textbook\n",
      "print \"part (c)\"\n",
      "ea=132.4 #in volts\n",
      "ef=187.3 #in volts\n",
      "pi=(ea*ia)+(ef*If) #in watts\n",
      "Isrms=sqrt((ia)**2+(If)**2) #in amperes\n",
      "va1=Isrms*v #in VA\n",
      "Pf=pi/va1 #\n",
      "print \"Power factor = %0.4f lagging\" %Pf"
     ],
     "language": "python",
     "metadata": {},
     "outputs": [
      {
       "output_type": "stream",
       "stream": "stdout",
       "text": [
        "part (a)\n",
        "torque = 0.01 N/m\n",
        "part (b)\n",
        "speed = -681.49 rpm\n",
        "part (c)\n",
        "Power factor = 0.6365 lagging\n"
       ]
      }
     ],
     "prompt_number": 52
    },
    {
     "cell_type": "heading",
     "level": 2,
     "metadata": {},
     "source": [
      "Example 8.19.4: page 8-60"
     ]
    },
    {
     "cell_type": "code",
     "collapsed": false,
     "input": [
      "from math import sqrt, pi\n",
      "#develepoed back emf,required armature voltage and firing angle and rated armature current\n",
      "#given data :\n",
      "hp=20 #\n",
      "v=230 #volts\n",
      "n=1000 #rpm\n",
      "lt=50 #load torque in N-m\n",
      "s=1000 #speed in rpm\n",
      "ra=0.2 #in ohms\n",
      "rf=150 #in ohms\n",
      "la=10 #in mH\n",
      "kv=0.7 #\n",
      "vf=(2*sqrt(2)*v)/(pi) #\n",
      "If=vf/rf #in amperes\n",
      "ia=(lt/(kv*If)) #in amperes\n",
      "eg=((kv*2*pi*n*If))/(60) #in volts\n",
      "print \"part (a)\"\n",
      "print \"back emf = %0.1f V\"%eg\n",
      "print \"part (b)\"\n",
      "ea=eg+(ia*ra) #in volts\n",
      "\n",
      "alpha=degrees(acos((ea*pi)/(2*sqrt(2)*v))) #\n",
      "print \"armature voltage = %0.2f V\" %ea\n",
      "print \"firing angle = %0.1f degree\" %alpha\n",
      "print \"part (c)\"\n",
      "ea1=220 #in volts\n",
      "ha20=746*20 #\n",
      "iar=(ha20/ea1) #in amperes\n",
      "print \"rated armature current = %0.1f A\" %iar"
     ],
     "language": "python",
     "metadata": {},
     "outputs": [
      {
       "output_type": "stream",
       "stream": "stdout",
       "text": [
        "part (a)\n",
        "back emf = 101.2 V\n",
        "part (b)\n",
        "armature voltage = 111.54 V\n",
        "firing angle = 57.4 degree\n",
        "part (c)\n",
        "rated armature current = 67.8 A\n"
       ]
      }
     ],
     "prompt_number": 68
    },
    {
     "cell_type": "heading",
     "level": 2,
     "metadata": {},
     "source": [
      "Example 8.21.1 : page 8-65"
     ]
    },
    {
     "cell_type": "code",
     "collapsed": false,
     "input": [
      "#Average armature current\n",
      "#given data :\n",
      "V=200 # in volts\n",
      "D=50/100 # duty cycle\n",
      "VL_dc=V*D \n",
      "Eb=75 # in volts\n",
      "Ra=1 # in ohm\n",
      "Ia=(VL_dc-Eb)/Ra \n",
      "print \"Average armature current, Ia = %0.2f A\" %Ia"
     ],
     "language": "python",
     "metadata": {},
     "outputs": [
      {
       "output_type": "stream",
       "stream": "stdout",
       "text": [
        "Average armature current, Ia = 25.00 A\n"
       ]
      }
     ],
     "prompt_number": 69
    }
   ],
   "metadata": {}
  }
 ]
}