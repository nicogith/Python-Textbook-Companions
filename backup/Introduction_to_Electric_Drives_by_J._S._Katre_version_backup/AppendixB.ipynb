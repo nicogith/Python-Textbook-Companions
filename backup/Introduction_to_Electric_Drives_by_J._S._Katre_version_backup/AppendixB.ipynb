{
 "metadata": {
  "name": "",
  "signature": "sha256:b134fb226353a29c9f6ab66213741737af66d3b98e698f820ccfff9982201b32"
 },
 "nbformat": 3,
 "nbformat_minor": 0,
 "worksheets": [
  {
   "cells": [
    {
     "cell_type": "heading",
     "level": 1,
     "metadata": {},
     "source": [
      "Appendix B"
     ]
    },
    {
     "cell_type": "heading",
     "level": 2,
     "metadata": {},
     "source": [
      "Example 2(b) : Page B1"
     ]
    },
    {
     "cell_type": "code",
     "collapsed": false,
     "input": [
      "from __future__ import division\n",
      "#power absorbed\n",
      "from numpy import sqrt, pi, cos, sin\n",
      "vsrms=230 #volts\n",
      "vm=(sqrt(2)*vsrms)/2 #volts\n",
      "alpha1=45 #degree\n",
      "alpha2=90 #degree\n",
      "x1=45*(pi/180)\n",
      "x2=90*(pi/180)\n",
      "vldc1=(vm/pi)*(1+cos(alpha1*pi/180)) \n",
      "vldc2=(vm/pi)*(1+cos(alpha2*pi/180)) \n",
      "vlms1=vm*((1/pi)*(pi-x1+(sin(2*x1))/2))**(1/2) \n",
      "vlms2=vm*((1/pi)*(pi-x2+(sin(2*x2))/2))**(1/2) \n",
      "r1=100 #OHM\n",
      "pl1=((vlms1)**2)/r1 #W\n",
      "pl2=((vlms2)**2)/r1 #W\n",
      "print \"power absorbed = %0.2f W\" %pl1\n",
      "print \"power absorbed = %0.2f W\" %pl2"
     ],
     "language": "python",
     "metadata": {},
     "outputs": [
      {
       "output_type": "stream",
       "stream": "stdout",
       "text": [
        "power absorbed = 240.47 W\n",
        "power absorbed = 132.25 W\n"
       ]
      }
     ],
     "prompt_number": 14
    },
    {
     "cell_type": "heading",
     "level": 2,
     "metadata": {},
     "source": [
      "Example 5(b) Page B3"
     ]
    },
    {
     "cell_type": "code",
     "collapsed": false,
     "input": [
      "#power absorbed\n",
      "v=400 #V\n",
      "po=15 #kW\n",
      "nfx=1440 #rpm\n",
      "f=50 #Hz\n",
      "z2=0.4+1J*1.6 #ohm\n",
      "p=4\n",
      "x=120 #Hz\n",
      "ns=((x*f)/p) #rpm\n",
      "s=((ns-nfx)/ns) #slip\n",
      "ns1=(x*x)/p #rpm\n",
      "nfl1=(1-s)*ns1 #rpm\n",
      "print \"full load speed = %0.2f rpm\"%nfl1\n",
      "sm=(z2.real)/(z2.imag) #slip\n",
      "print \"slip is = \",sm\n",
      "tfy=((po*10**3)/(2*pi*(nfl1/60))) #N-m\n",
      "a=sm\n",
      "tm=((a**2+s**2)/(2*a*s))*tfy #N-m\n",
      "print \"maximum torque = %0.2f N-m\"%tm"
     ],
     "language": "python",
     "metadata": {},
     "outputs": [
      {
       "output_type": "stream",
       "stream": "stdout",
       "text": [
        "full load speed = 3456.00 rpm\n",
        "slip is =  0.25\n",
        "maximum torque = 132.84 N-m\n"
       ]
      }
     ],
     "prompt_number": 16
    }
   ],
   "metadata": {}
  }
 ]
}