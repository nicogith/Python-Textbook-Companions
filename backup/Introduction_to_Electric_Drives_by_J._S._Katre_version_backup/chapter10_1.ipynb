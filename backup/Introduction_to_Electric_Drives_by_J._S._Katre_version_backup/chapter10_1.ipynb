{
 "metadata": {
  "name": "",
  "signature": "sha256:6c3e9861fb7b86a80c4d5ca0c3d83de8fac426220f4a72ee4169a76eb0964c4c"
 },
 "nbformat": 3,
 "nbformat_minor": 0,
 "worksheets": [
  {
   "cells": [
    {
     "cell_type": "heading",
     "level": 1,
     "metadata": {},
     "source": [
      "Chapter10, Control of AC drives"
     ]
    },
    {
     "cell_type": "heading",
     "level": 2,
     "metadata": {},
     "source": [
      "Example 10.15.1: page 10-42"
     ]
    },
    {
     "cell_type": "code",
     "collapsed": false,
     "input": [
      "from math import pi\n",
      "#slip,the air gap power and  efficiency\n",
      "#given data :\n",
      "w=100 # in rad/sec\n",
      "F1=50 #in Hz\n",
      "P=4 \n",
      "Ns=(120*F1)/P \n",
      "ws=2*pi*(Ns/60) \n",
      "s=((ws-w)/ws) \n",
      "print \"part (1)\"\n",
      "print \"slip is\", round(s,4),\" or \", round(s*100,2), \" % \"\n",
      "print \"part (2)\"\n",
      "T=100 # in N-M\n",
      "w=100 # in rad/sec\n",
      "Pag=ws*T \n",
      "P_slip=s*Pag \n",
      "P_mech=(1-s)*Pag \n",
      "print \"(a)the air gap power, pag = %0.f W\" %Pag\n",
      "print \"(b)slip power = %0.f W\" %P_slip\n",
      "print \"(c)Mech o/p power, P_mech = %0.f W\" %P_mech\n",
      "#air gap power is calculated wrong in the textbook\n",
      "print \"part (3)\"\n",
      "eta=(P_mech/Pag) \n",
      "print \"efficiency of the rotor circuit is\", round(eta,4),\" or\", round(eta*100,2),\" % \""
     ],
     "language": "python",
     "metadata": {},
     "outputs": [
      {
       "output_type": "stream",
       "stream": "stdout",
       "text": [
        "part (1)\n",
        "slip is 0.3634  or  36.34  % \n",
        "part (2)\n",
        "(a)the air gap power, pag = 15708 W\n",
        "(b)slip power = 5708 W\n",
        "(c)Mech o/p power, P_mech = 10000 W\n",
        "part (3)\n",
        "efficiency of the rotor circuit is 0.6366  or 63.66  % \n"
       ]
      }
     ],
     "prompt_number": 1
    },
    {
     "cell_type": "heading",
     "level": 2,
     "metadata": {},
     "source": [
      "Example 10.15.2 :page 10-43"
     ]
    },
    {
     "cell_type": "code",
     "collapsed": false,
     "input": [
      "from __future__ import division\n",
      "#voltage per phase,slip,slip frequency ,slip and rotor loss\n",
      "#given data :\n",
      "V_rms=240 # in volts\n",
      "F1=50 #in Hz\n",
      "Vs_rms=240/2 \n",
      "print \"part (1)\"\n",
      "print \"supply voltage = %0.2f V\"%Vs_rms\n",
      "print \"part (2)\"\n",
      "N=1440 # in rpm\n",
      "P=4 # pole\n",
      "Ns=(120*F1)/4 \n",
      "S=((Ns-N)/Ns) \n",
      "print \"slip is \", S, \" or\", S*100, \" % \"\n",
      "print \"part (3)\"\n",
      "S_frequency=S*F1 \n",
      "print \"slip frequency = %0.2f Hz\" %S_frequency\n",
      "print \"part (4)\"\n",
      "f=2 #Hz\n",
      "f1=25 #Hz\n",
      "s=(f/f1) #\n",
      "print \"slip is\", s, \" or\", s*100, \" % \"\n",
      "print \"part (5)\"\n",
      "F2=25 #in Hz\n",
      "S1=(S_frequency/F2) \n",
      "rotor_loss=S1/(1-S1) \n",
      "print \"Rotor loss = %0.4f %%\" %rotor_loss "
     ],
     "language": "python",
     "metadata": {},
     "outputs": [
      {
       "output_type": "stream",
       "stream": "stdout",
       "text": [
        "part (1)\n",
        "supply voltage = 120.00 V\n",
        "part (2)\n",
        "slip is  0.04  or 4.0  % \n",
        "part (3)\n",
        "slip frequency = 2.00 Hz\n",
        "part (4)\n",
        "slip is 0.08  or 8.0  % \n",
        "part (5)\n",
        "Rotor loss = 0.0870 %\n"
       ]
      }
     ],
     "prompt_number": 2
    },
    {
     "cell_type": "heading",
     "level": 2,
     "metadata": {},
     "source": [
      "Example 10.15.6: page 10-45"
     ]
    },
    {
     "cell_type": "code",
     "collapsed": false,
     "input": [
      "#voltage per phase , slip ,slip frequency and percentage rotor loss\n",
      "Ns1=750 #\n",
      "V_rms=240 # in volts\n",
      "f2=25 #Hz\n",
      "F1=50 #in Hz\n",
      "Vs_rms=240/2 \n",
      "N=1440 # in rpm\n",
      "P=4 # pole\n",
      "Ns=(120*F1)/4 \n",
      "S=((Ns-N)/Ns) \n",
      "S_frequency=S*F1 \n",
      "fs12=S_frequency/4 #\n",
      "S1=fs12/f2 \n",
      "rotor_loss=S1/(1-S1) \n",
      "n=Ns1-((S1*Ns1)) #\n",
      "print \"supply voltage = %0.2f V\" %Vs_rms\n",
      "print \"slip,S = %0.2f %%\"%(1*100)\n",
      "print \"slip frequency at 50Hz = %0.2f Hz\"%S_frequency\n",
      "print \"slip frequency at 25Hz = %0.2f Hz\"%fs12\n",
      "print \"Rotor loss = %0.2f %%\" %rotor_loss \n",
      "print \"speed = %0.2f rpm\" %n"
     ],
     "language": "python",
     "metadata": {},
     "outputs": [
      {
       "output_type": "stream",
       "stream": "stdout",
       "text": [
        "supply voltage = 120.00 V\n",
        "slip,S = 100.00 %\n",
        "slip frequency at 50Hz = 2.00 Hz\n",
        "slip frequency at 25Hz = 0.50 Hz\n",
        "Rotor loss = 0.02 %\n",
        "speed = 735.00 rpm\n"
       ]
      }
     ],
     "prompt_number": 3
    }
   ],
   "metadata": {}
  }
 ]
}