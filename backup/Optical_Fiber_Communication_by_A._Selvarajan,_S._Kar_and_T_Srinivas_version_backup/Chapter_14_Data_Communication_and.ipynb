{
 "metadata": {
  "name": "",
  "signature": "sha256:2838bbe02648527892e8b6745bd94b44f8499ccf59681bed9d9da7884f56ab55"
 },
 "nbformat": 3,
 "nbformat_minor": 0,
 "worksheets": [
  {
   "cells": [
    {
     "cell_type": "heading",
     "level": 1,
     "metadata": {},
     "source": [
      "Chapter 14 :Data Communication and LAN"
     ]
    },
    {
     "cell_type": "heading",
     "level": 2,
     "metadata": {},
     "source": [
      "Example 14.1 , Page no:256"
     ]
    },
    {
     "cell_type": "code",
     "collapsed": false,
     "input": [
      "import math\n",
      "from __future__ import division\n",
      "\n",
      "#initialisation of variables\n",
      "N=256;  #no. of nodes\n",
      "Lc=0.25;  #loss per coup;er in dB\n",
      "Power_margin=30;  #power margin in dB\n",
      "system_margin=6;  #system margin in dB\n",
      "Average_loss=0.6;  #average loss in dB/Km\n",
      "TxRX_powergain=32;  #transmitter to receiver power gain in dB\n",
      "Avg_Tr_loss=0.5;  #average transmitter loss in dB/Km\n",
      "\n",
      "#CALCULATIONS\n",
      "Nc=math.log(N,2);  #since 2x2 couplers are used\n",
      "Ns=N/2;  #each stage coupler\n",
      "T_Nc=Nc*Ns;  #total no. of couplers\n",
      "Total_Lc=Nc*Lc;  #total coupler loss in dB\n",
      "Permissible_loss=TxRX_powergain-Total_Lc;  #permissible cable loss in dB\n",
      "L=Permissible_loss/Avg_Tr_loss;  #Transmission distance in Km\n",
      "\n",
      "#RESULTS\n",
      "print\"Transmission distance  =\",round(L,5),\"Km\";"
     ],
     "language": "python",
     "metadata": {},
     "outputs": [
      {
       "output_type": "stream",
       "stream": "stdout",
       "text": [
        "Transmission distance  = 60.0 Km\n"
       ]
      }
     ],
     "prompt_number": 1
    }
   ],
   "metadata": {}
  }
 ]
}