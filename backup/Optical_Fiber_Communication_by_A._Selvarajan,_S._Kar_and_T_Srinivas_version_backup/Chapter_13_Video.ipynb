{
 "metadata": {
  "name": "",
  "signature": "sha256:00c6a05eb1b7f76c8458bd70cc847159e546b118d5f531a8484e83f219596b33"
 },
 "nbformat": 3,
 "nbformat_minor": 0,
 "worksheets": [
  {
   "cells": [
    {
     "cell_type": "heading",
     "level": 1,
     "metadata": {},
     "source": [
      "Chapter 13 :Video Transmission"
     ]
    },
    {
     "cell_type": "heading",
     "level": 1,
     "metadata": {},
     "source": [
      "Example 13.1 , Page no:221"
     ]
    },
    {
     "cell_type": "code",
     "collapsed": false,
     "input": [
      "import math\n",
      "from __future__ import division\n",
      "\n",
      "#initialisation of variables\n",
      "Sigma_s=0.1;  #source dispersion inns\n",
      "Sigma_D=0.1;  #detector dispersion in ns\n",
      "Sigma_F=0.05;  #fiber dispersion in ns\n",
      "bitrate=622;  #bitrate in Mbps\n",
      "STM_rate=250;  #4 channel VSB PCM\n",
      "Power_margin=30;  #power margin in dB\n",
      "system_margin=6;  #system margin in dB\n",
      "Average_loss=0.6;  #average loss in dB/Km\n",
      "\n",
      "#CALCULATIONS\n",
      "Sigma_max=STM_rate/bitrate;  #max dispersion allowed\n",
      "L2=math.sqrt((Sigma_max-Sigma_s**2-Sigma_D**2)/(Sigma_F**2));  #dispersion limited maximum length in Km\n",
      "L1=(Power_margin-system_margin)/Average_loss;  #Attenuation limited length in km\n",
      "\n",
      "#RESULTS\n",
      "print\"Since dispersion limited maximum length is less than Attenuation limited length \\nso present system length limit is =\",round(L2,5),\"Km\";"
     ],
     "language": "python",
     "metadata": {},
     "outputs": [
      {
       "output_type": "stream",
       "stream": "stdout",
       "text": [
        "Since dispersion limited maximum length is less than Attenuation limited length \n",
        "so present system length limit is = 12.36009 Km\n"
       ]
      }
     ],
     "prompt_number": 1
    }
   ],
   "metadata": {}
  }
 ]
}