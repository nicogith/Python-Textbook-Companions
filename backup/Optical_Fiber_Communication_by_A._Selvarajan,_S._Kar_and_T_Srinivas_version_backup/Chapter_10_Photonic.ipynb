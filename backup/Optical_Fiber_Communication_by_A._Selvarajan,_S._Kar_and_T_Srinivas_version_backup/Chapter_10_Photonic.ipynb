{
 "metadata": {
  "name": "",
  "signature": "sha256:a03a3b7968d9327e0b73ac4683b6d150414c90b5fda64b6ce3343147627ad978"
 },
 "nbformat": 3,
 "nbformat_minor": 0,
 "worksheets": [
  {
   "cells": [
    {
     "cell_type": "heading",
     "level": 1,
     "metadata": {},
     "source": [
      "Chapter 10 :Photonic Switching"
     ]
    },
    {
     "cell_type": "heading",
     "level": 2,
     "metadata": {},
     "source": [
      "Example 10.1 , Page no:183"
     ]
    },
    {
     "cell_type": "code",
     "collapsed": false,
     "input": [
      "import math\n",
      "from __future__ import division\n",
      "\n",
      "#initialisation of variables\n",
      "Xx=-30;  #crosstalk in dB\n",
      "L=0.3;  #typical value\n",
      "N=5;  #no. of switches Nb+Nc\n",
      "\n",
      "#CALCULATIONS\n",
      "SXR=Xx-L*(N)-10*math.log10(5*(10**(-L*N/10))/N);  #Signal power to noise power in dB\n",
      "\n",
      "#RESULTS\n",
      "print\"Minimum and maximum SXR values=\",round(SXR,5),\"dB\";"
     ],
     "language": "python",
     "metadata": {},
     "outputs": [
      {
       "output_type": "stream",
       "stream": "stdout",
       "text": [
        "Minimum and maximum SXR values= -30.0 dB\n"
       ]
      }
     ],
     "prompt_number": 1
    },
    {
     "cell_type": "heading",
     "level": 2,
     "metadata": {},
     "source": [
      "Example 10.2 , Page no:183"
     ]
    },
    {
     "cell_type": "code",
     "collapsed": false,
     "input": [
      "import math\n",
      "from __future__ import division\n",
      "\n",
      "#initialisation of variables\n",
      "PB=40;  #power budget in dB\n",
      "x=-30;  #crosstalk in dB assumed\n",
      "N=4;  #no. of switches \n",
      "Lin=1;  #insertion loss of in dB\n",
      "Linw=Lin*N;  #worst case insertion loss of in dB\n",
      "Lc=2;  #worst case connector loss in dB\n",
      "\n",
      "#CALCULATIONS\n",
      "L=Linw+2*Lc;  #total power lost in the worst case signal path in dB\n",
      "Power_margin=PB-L;  #power margin in dB\n",
      "K=0;\n",
      "for i in range (0,4):\n",
      "    K=K+(((-1)**(i+1))*(10**(-x/10))**(i+1));\n",
      "\n",
      "SbyN=10*math.log10(K);  #Signal power to noise power in dB\n",
      "\n",
      "#RESULTS\n",
      "print\"Signal power to noise power =\",round(SbyN,5),\"dB\";\n",
      "print\"Power Margin =\",round(Power_margin,5),\"dB\";\n",
      "print\"The Textbook answer is wrong\";"
     ],
     "language": "python",
     "metadata": {},
     "outputs": [
      {
       "output_type": "stream",
       "stream": "stdout",
       "text": [
        "Signal power to noise power = 119.99566 dB\n",
        "Power Margin = 32.0 dB\n",
        "The Textbook answer is wrong\n"
       ]
      }
     ],
     "prompt_number": 2
    }
   ],
   "metadata": {}
  }
 ]
}