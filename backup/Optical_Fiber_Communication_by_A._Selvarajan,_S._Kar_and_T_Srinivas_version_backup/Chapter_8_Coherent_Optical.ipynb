{
 "metadata": {
  "name": "",
  "signature": "sha256:4881bef53fd067703d64b9b5a3034e5d88b5acf7b3dec8a07e705aec8498dcff"
 },
 "nbformat": 3,
 "nbformat_minor": 0,
 "worksheets": [
  {
   "cells": [
    {
     "cell_type": "heading",
     "level": 1,
     "metadata": {},
     "source": [
      "Chapter 8 :Coherent Optical Communication"
     ]
    },
    {
     "cell_type": "heading",
     "level": 2,
     "metadata": {},
     "source": [
      "Example 8.1 , Page no:148"
     ]
    },
    {
     "cell_type": "code",
     "collapsed": false,
     "input": [
      "import math\n",
      "from __future__ import division\n",
      "\n",
      "#initialisation of variables\n",
      "eta=0.8;  #quantum efficiency of detection\n",
      "Ps=2e-9;  #received optical power in W\n",
      "h=6.62*1e-34;  #plancks constant\n",
      "lambda1=1500*1e-9;  #wavelength in m\n",
      "c=3*1e8;  #velocity of light in m/s\n",
      "new=c/lambda1;  #frequency in Hz\n",
      "B=1e6;  #Signal Bandwidth in Hz\n",
      "\n",
      "#CALCULATIONS\n",
      "SNR=(eta*Ps)/(2*h*new*B);  #signal to noise ratio\n",
      "SNRdB=10*math.log10(SNR);  #signal to noise ratio in dB)\n",
      "\n",
      "#RESULTS\n",
      "print\"signal to noise ratio=\",round(SNR,5);  #the answer in textbook is wrong\n",
      "print\"signal to noise ratio=\",round(SNRdB,5),\"dB\";  #the answer in textbook is wrong"
     ],
     "language": "python",
     "metadata": {},
     "outputs": [
      {
       "output_type": "stream",
       "stream": "stdout",
       "text": [
        "signal to noise ratio= 6042.29607\n",
        "signal to noise ratio= 37.81202 dB\n"
       ]
      }
     ],
     "prompt_number": 1
    }
   ],
   "metadata": {}
  }
 ]
}