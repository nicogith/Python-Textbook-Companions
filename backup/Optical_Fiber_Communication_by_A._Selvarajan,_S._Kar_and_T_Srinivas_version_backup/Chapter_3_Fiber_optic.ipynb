{
 "metadata": {
  "name": "",
  "signature": "sha256:3df04a99ec890062e8934d583f5c6270e7132c2979982b64b64cd732ab54df6c"
 },
 "nbformat": 3,
 "nbformat_minor": 0,
 "worksheets": [
  {
   "cells": [
    {
     "cell_type": "heading",
     "level": 1,
     "metadata": {},
     "source": [
      "Chapter 3: Fiber optic technology"
     ]
    },
    {
     "cell_type": "heading",
     "level": 2,
     "metadata": {},
     "source": [
      "Example 3.1 , Page no:38"
     ]
    },
    {
     "cell_type": "code",
     "collapsed": false,
     "input": [
      "import math\n",
      "from __future__ import division\n",
      "\n",
      "#initialisation of variables\n",
      "PL=1; #length of preform in m\n",
      "PD=25e-3; #daimeter of preform in m\n",
      "OD=125e-6;  #outer daimeter of optical fiber in m\n",
      "\n",
      "#CALCULATIONS\n",
      "V=3.14*((PD/2)**2)*PL;  #volume of Preform cylinder in m^3\n",
      "L=V/(3.14*((OD)**2));  #Length of optical fiber in m\n",
      "\n",
      "#RESULTS\n",
      "print\"Length of optical fiber=\",L/1e3,\"KM\";  #division by 1e3 to convert unit from m to Km"
     ],
     "language": "python",
     "metadata": {},
     "outputs": [
      {
       "output_type": "stream",
       "stream": "stdout",
       "text": [
        "Length of optical fiber= 10.0 KM\n"
       ]
      }
     ],
     "prompt_number": 1
    },
    {
     "cell_type": "heading",
     "level": 2,
     "metadata": {},
     "source": [
      "Example 3.2 , Page no:41"
     ]
    },
    {
     "cell_type": "code",
     "collapsed": false,
     "input": [
      "import math\n",
      "from __future__ import division\n",
      "\n",
      "#initialisation of variables\n",
      "NA1=0.2;  #numerical apperture of fiber 1\n",
      "NA2=0.1;  #numerical apperture of fiber 2\n",
      "D1=12;  #core daimeter of fiber 1 in um\n",
      "D2=6;  #core daimeter of fiber 2 in um\n",
      "\n",
      "#CALCULATIONS\n",
      "Losses=20*math.log10(NA1/NA2)+20*math.log10(D1/D2);  #total fiber to fiber coupling losses due to NA mismatch and size mismatch\n",
      "\n",
      "#RESULTS\n",
      "print\"total losses=\",round(Losses,5),\"db\";"
     ],
     "language": "python",
     "metadata": {},
     "outputs": [
      {
       "output_type": "stream",
       "stream": "stdout",
       "text": [
        "total losses= 12.0412 db\n"
       ]
      }
     ],
     "prompt_number": 2
    }
   ],
   "metadata": {}
  }
 ]
}