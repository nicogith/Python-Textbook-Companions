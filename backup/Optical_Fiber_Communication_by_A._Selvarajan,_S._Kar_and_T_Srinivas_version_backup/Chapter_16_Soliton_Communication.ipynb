{
 "metadata": {
  "name": "",
  "signature": "sha256:37145a7d5c9413e47141fcac3731b50a1e8a0e120a030d9641fe16885549adff"
 },
 "nbformat": 3,
 "nbformat_minor": 0,
 "worksheets": [
  {
   "cells": [
    {
     "cell_type": "heading",
     "level": 1,
     "metadata": {},
     "source": [
      "Chapter 16 :Soliton Communication Systems"
     ]
    },
    {
     "cell_type": "heading",
     "level": 2,
     "metadata": {},
     "source": [
      "Example 16.1 , Page no:325"
     ]
    },
    {
     "cell_type": "code",
     "collapsed": false,
     "input": [
      "import math\n",
      "from __future__ import division\n",
      "\n",
      "#initialisation of variables\n",
      "lambda1=850;  #operating wavelength in nm\n",
      "Beta2=-1;  #dispersion regime ps^2/Km\n",
      "Gama=2;  #nonlinearity in /W-Km\n",
      "TFWHM=10;  #fundamental soliton width in ps\n",
      "\n",
      "#CALCULATIONS\n",
      "To=TFWHM/1.763;  #pulse width in ps\n",
      "Ppeak=1/(Gama*(To**2));  #peak power in W\n",
      "\n",
      "#RESULTS\n",
      "print\"Peak power required to maintain fundamental soliton=\",round(Ppeak*10**3,5),\"mW\";  #multiplication by 10^3 is to convert the unit from w to mW"
     ],
     "language": "python",
     "metadata": {},
     "outputs": [
      {
       "output_type": "stream",
       "stream": "stdout",
       "text": [
        "Peak power required to maintain fundamental soliton= 15.54084 mW\n"
       ]
      }
     ],
     "prompt_number": 1
    },
    {
     "cell_type": "heading",
     "level": 2,
     "metadata": {},
     "source": [
      "Example 16.2 , Page no:325"
     ]
    },
    {
     "cell_type": "code",
     "collapsed": false,
     "input": [
      "import math\n",
      "from __future__ import division\n",
      "\n",
      "#initialisation of variables\n",
      "lambda1=1.55;  #operating wavelength in um\n",
      "Beta2=-1;  #dispersion regime ps^2/Km\n",
      "B=10;  #bitrate in Gb/s\n",
      "two_qo=12;  #separation between two neighbouring solitons in normalized units\n",
      "\n",
      "#CALCULATIONS\n",
      "LT=3.14*math.exp(two_qo/2)/(8*(two_qo/2)**2*abs(Beta2)*10**-24)/(B**2*(10**18));  #distance transmission limit in Km\n",
      "\n",
      "#RESULTS\n",
      "print\"For 10Gb/s bit rate , transmission distance is limited to =\",round(LT,5),\"Km\"; \n",
      "print\"the answer is different because of rounding off \";"
     ],
     "language": "python",
     "metadata": {},
     "outputs": [
      {
       "output_type": "stream",
       "stream": "stdout",
       "text": [
        "For 10Gb/s bit rate , transmission distance is limited to = 43984.94485 Km\n",
        "the answer is different because of rounding off \n"
       ]
      }
     ],
     "prompt_number": 2
    },
    {
     "cell_type": "heading",
     "level": 2,
     "metadata": {},
     "source": [
      "Example 16.3 , Page no:325"
     ]
    },
    {
     "cell_type": "code",
     "collapsed": false,
     "input": [
      "import math\n",
      "from __future__ import division\n",
      "\n",
      "#initialisation of variables\n",
      "alpha=0.2;  #fiber loss in dB/Km\n",
      "LA=50;  #Amplifier spacing in Km\n",
      "\n",
      "#CALCULATIONS\n",
      "G=(alpha*LA);  #gain in fiber\n",
      "PbyPo=G*math.log(G)/(G-1);  #Multiple of power required by single soliton\n",
      "\n",
      "#RESULTS\n",
      "print\"Multiple of power required by single soliton =\",round(PbyPo,5);  \n",
      "print\"the answer is slightly varing due to rounding error\";"
     ],
     "language": "python",
     "metadata": {},
     "outputs": [
      {
       "output_type": "stream",
       "stream": "stdout",
       "text": [
        "Multiple of power required by single soliton = 2.55843\n",
        "the answer is slightly varing due to rounding error\n"
       ]
      }
     ],
     "prompt_number": 3
    },
    {
     "cell_type": "heading",
     "level": 2,
     "metadata": {},
     "source": [
      "Example 16.4 , Page no:326"
     ]
    },
    {
     "cell_type": "code",
     "collapsed": false,
     "input": [
      "import math\n",
      "from __future__ import division\n",
      "\n",
      "#initialisation of variables\n",
      "lambda1=1.55;  #operating wavelength in um\n",
      "LA=50;  #Amplifier spacing in Km\n",
      "qo=6;  #Half of separation between two neighbouring solitons in normalized units\n",
      "Beta2=-1;  #dispersion regime ps^2/Km\n",
      "\n",
      "#CALCULATIONS\n",
      "B=1/(4*(qo)**2*abs(Beta2));  #bandwidth in THz\n",
      "\n",
      "#RESULTS\n",
      "print\"Communication Link bitrate is limited to =\",round(B*10**3,5),\"GHz\";  #Multiplication by 10^3 to convert unit fron THz to GHz\n",
      "print\"he answer is wrong\";"
     ],
     "language": "python",
     "metadata": {},
     "outputs": [
      {
       "output_type": "stream",
       "stream": "stdout",
       "text": [
        "Communication Link bitrate is limited to = 6.94444 GHz\n",
        "he answer is wrong\n"
       ]
      }
     ],
     "prompt_number": 4
    },
    {
     "cell_type": "heading",
     "level": 2,
     "metadata": {},
     "source": [
      "Example 16.5 , Page no:326"
     ]
    },
    {
     "cell_type": "code",
     "collapsed": false,
     "input": [
      "import math\n",
      "from __future__ import division\n",
      "\n",
      "#initialisation of variables\n",
      "LT=10000;  #Transmission distance in Km\n",
      "alpha=0.2;  #fiber loss in dB/Km\n",
      "lambda1=1.55*10**-6;  #operating wavelength in m\n",
      "Gama=2;  #nonlinearity in /W-Km\n",
      "LA=50;  #Amplifier spacing in Km\n",
      "D=1;  #dispersion parameter ps/(Km-nm)\n",
      "FG=3.518;  #Fiber gain factor\n",
      "fj=0.1;  #timing jitter factor\n",
      "h=6.62607004 * 10-34;  #planck's constant in m2 kg / s\n",
      "nsp=2;  #spontaneous emission factor\n",
      "qo=6;  #Half of separation between two neighbouring solitons in normalized units\n",
      "\n",
      "#CALCULATIONS\n",
      "B1=((9*3.14*fj**2*LA)/(nsp*FG*qo*lambda1*h*Gama*D*10**-3));  #variable converting la\n",
      "B2=B1**(1/3);  #variable\n",
      "B=B2/LT;  #bandwidth in THz\n",
      "\n",
      "#RESULTS\n",
      "print\"Communication Link bitrate is limited to =\",round(B*10**3,5),\"Gb/s\";  #Multiplication by 10^3 to convert unit fron THz to GHz\n",
      "print\"the answer is wrong\";"
     ],
     "language": "python",
     "metadata": {},
     "outputs": [
      {
       "output_type": "stream",
       "stream": "stdout",
       "text": [
        "Communication Link bitrate is limited to = 14.9581 Gb/s\n",
        "the answer is wrong\n"
       ]
      }
     ],
     "prompt_number": 5
    }
   ],
   "metadata": {}
  }
 ]
}