{
 "metadata": {
  "name": "",
  "signature": "sha256:62bc163fc204b240cfa5487557377289a5aa4455db07d8272b9a3297f9aa8608"
 },
 "nbformat": 3,
 "nbformat_minor": 0,
 "worksheets": [
  {
   "cells": [
    {
     "cell_type": "heading",
     "level": 1,
     "metadata": {},
     "source": [
      "Chapter 7 :Wavelength Division Multiplexing"
     ]
    },
    {
     "cell_type": "heading",
     "level": 2,
     "metadata": {},
     "source": [
      "Example 7.1 , Page no:128"
     ]
    },
    {
     "cell_type": "code",
     "collapsed": false,
     "input": [
      "import math\n",
      "from __future__ import division\n",
      "\n",
      "#initialisation of variables\n",
      "delta_lambda=60e-9;  #delta lambda in m\n",
      "lambda1=1550e-9;  #wavelength in m\n",
      "c=3e8;  #velocity of light in m/s\n",
      "CS=75*1e9;  #Channel spacing in Hz\n",
      "Power_margin=30;  #power margin in dB\n",
      "Fiber_loss=0.25;  #fiber loss in dB/Km\n",
      "channel_capacity=2.5*1e9;  #channel capacity STM-16 in bps\n",
      "\n",
      "#CALCULATIONS\n",
      "delta_f=(c*delta_lambda)/lambda1**2;  #frequency bandwidth in Hz\n",
      "transmission_distance=Power_margin/Fiber_loss;  #Transmission distance in Km\n",
      "No_channels=(delta_f/CS);  #No. of channels \n",
      "distance_bitrate_product=No_channels*channel_capacity*transmission_distance;  #distance bitrate product in bpsKm\n",
      "\n",
      "#RESULTS\n",
      "print\"Frequency bandwidth =\",round(delta_f/1e12,5),\"x10^12Hz\";  #division by  1e12 to convert unit from Hz to 10^12 Hz\n",
      "print\"Transmission distance =\",round(transmission_distance,5),\"Km\";\n",
      "print\"No. of channels=\",round(No_channels);\n",
      "print\"Distance bitrate product =\",round(distance_bitrate_product/1e12),\"Tbits/sKm\";  #division by  1e12 to convert unit from bits/sKm to Tbits/sKm"
     ],
     "language": "python",
     "metadata": {},
     "outputs": [
      {
       "output_type": "stream",
       "stream": "stdout",
       "text": [
        "Frequency bandwidth = 7.4922 x10^12Hz\n",
        "Transmission distance = 120.0 Km\n",
        "No. of channels= 100.0\n",
        "Distance bitrate product = 30.0 Tbits/sKm\n"
       ]
      }
     ],
     "prompt_number": 1
    }
   ],
   "metadata": {}
  }
 ]
}