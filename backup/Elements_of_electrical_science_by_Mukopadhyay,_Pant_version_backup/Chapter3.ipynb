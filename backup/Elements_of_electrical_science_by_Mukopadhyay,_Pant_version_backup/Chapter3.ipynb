{
 "cells": [
  {
   "cell_type": "markdown",
   "metadata": {},
   "source": [
    "# Chapter 3 : Magnetic Circuits"
   ]
  },
  {
   "cell_type": "markdown",
   "metadata": {},
   "source": [
    "## Example 1 : pg 42"
   ]
  },
  {
   "cell_type": "code",
   "execution_count": 1,
   "metadata": {
    "collapsed": false
   },
   "outputs": [
    {
     "name": "stdout",
     "output_type": "stream",
     "text": [
      "total ampere-turns required is, (AT)= 2001.15\n"
     ]
    }
   ],
   "source": [
    "# Example 3.1;ampere-turns\n",
    "#calculate the ampere turns required\n",
    "# given :\n",
    "from math import pi\n",
    "bt=([[2],[2.5],[3.0]])#making equations from Table\n",
    "H=([[400],[600],[800]]);#making equations from Tble\n",
    "fsl=10**-3;#Flux in Wb\n",
    "cal=4*10**-4;#area in m**2\n",
    "#calculations \n",
    "fdl=fsl/cal;#magnetic field in Tesla\n",
    "hl=H[1][0];#AT/m \n",
    "pll=0.57;#lenth in meter (path length 2345)\n",
    "at2345=pll*hl;#ampere turns\n",
    "fcl=2*10**-3;#magnetic field in Wb\n",
    "fdcl=fcl/cal;#in Tesla\n",
    "hcl=H[0][0];#in AT/m\n",
    "lcl=169;#length in mm\n",
    "atcl=(lcl*10**-3)*hcl;#ampere turns\n",
    "l=1;#length mm\n",
    "Hl=((4*pi))*10**-7;#AT/m\n",
    "atrg=fcl/Hl;#AT\n",
    "tat=at2345+atcl+atrg;#total ampere turns\n",
    "#results\n",
    "print \"total ampere-turns required is, (AT)=\",round(tat,2)\n",
    "\n"
   ]
  },
  {
   "cell_type": "markdown",
   "metadata": {},
   "source": [
    "## Example 2 : pg 44"
   ]
  },
  {
   "cell_type": "code",
   "execution_count": 2,
   "metadata": {
    "collapsed": false
   },
   "outputs": [
    {
     "name": "stdout",
     "output_type": "stream",
     "text": [
      "part (a) Kb and Ke\n",
      "Kh is  0.39\n",
      "Ke is  0.00424\n",
      "part (b) hystresis and eddy current loss \n",
      "hysteresis loss at 25 Hz is , (W)= 9.75\n",
      "eddy current loss at 25 Hz is ,(W)= 2.65\n",
      "hysteresis loss at 50 Hz is ,(W)= 19.5\n",
      "eddy current loss at 50 Hz is ,(W)= 10.6\n",
      "part (c) hystresis and eddy current loss \n",
      "hysteresis loss per kg at 50 Hz is ,(W)= 0.4875\n",
      "eddy current loss per kg at 50 Hz is ,(W)= 0.265\n"
     ]
    }
   ],
   "source": [
    "# Example 3.2;\n",
    "#calculate the Kb,Ke,hystresis and eddy current loss\n",
    "import numpy\n",
    "# given :\n",
    "f1=50.;#frequency in Hz\n",
    "f2=25.;#frequency in Hz\n",
    "p1=30.1;#power in W\n",
    "p2=12.4;#power in W\n",
    "#calculations and results\n",
    "A=([[f1, f1**2],[f2, f2**2]]);#making equations\n",
    "B=([[p1],[p2]]);##making equations\n",
    "X=numpy.dot(numpy.linalg.inv(A),B);#calculating parameters\n",
    "print \"part (a) Kb and Ke\"\n",
    "print \"Kh is \", X[0,0]\n",
    "print \"Ke is \",X[1,0]\n",
    "h25=X[0,0]*f2;#calculating parameters\n",
    "e25=X[1,0]*f2**2;#calculating parameters\n",
    "h50=X[0,0]*f1;#calculating parameters\n",
    "e50=X[1,0]*f1**2;#calculating parameters\n",
    "print \"part (b) hystresis and eddy current loss \"\n",
    "print \"hysteresis loss at 25 Hz is , (W)=\",h25\n",
    "print \"eddy current loss at 25 Hz is ,(W)=\",e25\n",
    "print \"hysteresis loss at 50 Hz is ,(W)=\",h50\n",
    "print \"eddy current loss at 50 Hz is ,(W)=\",e50\n",
    "W=40;#kg\n",
    "h50=X[0,0]*f1;#calculating parameters\n",
    "e50=X[1,0]*f1**2;#calculating parameters\n",
    "print \"part (c) hystresis and eddy current loss \"\n",
    "print \"hysteresis loss per kg at 50 Hz is ,(W)=\",h50/W\n",
    "print \"eddy current loss per kg at 50 Hz is ,(W)=\",e50/W\n"
   ]
  },
  {
   "cell_type": "markdown",
   "metadata": {},
   "source": [
    "## Example 3 : pg 46"
   ]
  },
  {
   "cell_type": "code",
   "execution_count": 3,
   "metadata": {
    "collapsed": false
   },
   "outputs": [
    {
     "name": "stdout",
     "output_type": "stream",
     "text": [
      "hystersis loss is ,(W/kg)= 6.15\n"
     ]
    }
   ],
   "source": [
    "# Example 3.3;\n",
    "#Calculate the hystresis  loss per Kg\n",
    "# given :\n",
    "l=10.;#lengh in mm\n",
    "atm=200.;#AT/m\n",
    "a=4800.;#area in m**2\n",
    "#calculations\n",
    "loss=atm*(l*10**-2)*(a/100);#loss in J/m**3/cycle\n",
    "d=7.8*10**3;#kg/m**3\n",
    "vikg=1/d;#m**3\n",
    "loss1=loss*vikg;#J/cycle\n",
    "f=50;#Hz\n",
    "tl=loss1*f;#J/s\n",
    "#results\n",
    "print \"hystersis loss is ,(W/kg)=\",round(tl,2)\n"
   ]
  },
  {
   "cell_type": "markdown",
   "metadata": {},
   "source": [
    "## Example 4 : pg 52"
   ]
  },
  {
   "cell_type": "code",
   "execution_count": 4,
   "metadata": {
    "collapsed": false
   },
   "outputs": [
    {
     "name": "stdout",
     "output_type": "stream",
     "text": [
      "ampere turn required is, (AT)= 478.731\n"
     ]
    }
   ],
   "source": [
    "# Example 3.4;amper-turns\n",
    "#calculate the ampere turn required\n",
    "# given :\n",
    "from math import sqrt, pi\n",
    "r=150.;#length in mm\n",
    "t=12.;#torque in N-m\n",
    "#calculations\n",
    "f=t/(r*10**-3);#force in N\n",
    "np=2;#no. of poles\n",
    "fp=f/np;#force per pole in N\n",
    "A=400.;#area mm**2\n",
    "mu=4*pi*10**-7;#\n",
    "b=sqrt((fp*2*mu)/(A*10**-6));#magnetic field in Tesla\n",
    "H=b/mu;#in AT/m\n",
    "tar=2*0.6*10**-3;#length in meter\n",
    "atr=H*tar;#AT\n",
    "#results\n",
    "print \"ampere turn required is, (AT)=\",round(atr,3)\n",
    "#answer is wrong in the textbook\n"
   ]
  }
 ],
 "metadata": {
  "kernelspec": {
   "display_name": "Python 2",
   "language": "python",
   "name": "python2"
  },
  "language_info": {
   "codemirror_mode": {
    "name": "ipython",
    "version": 2
   },
   "file_extension": ".py",
   "mimetype": "text/x-python",
   "name": "python",
   "nbconvert_exporter": "python",
   "pygments_lexer": "ipython2",
   "version": "2.7.11"
  }
 },
 "nbformat": 4,
 "nbformat_minor": 0
}
