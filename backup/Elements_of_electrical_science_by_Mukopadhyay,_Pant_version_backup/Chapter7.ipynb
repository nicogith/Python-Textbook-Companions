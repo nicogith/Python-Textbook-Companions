{
 "cells": [
  {
   "cell_type": "markdown",
   "metadata": {},
   "source": [
    "# Chapter 7 : Electrothermal energy conversion"
   ]
  },
  {
   "cell_type": "markdown",
   "metadata": {},
   "source": [
    "## Example 1 : pg 135"
   ]
  },
  {
   "cell_type": "code",
   "execution_count": 1,
   "metadata": {
    "collapsed": false
   },
   "outputs": [
    {
     "name": "stdout",
     "output_type": "stream",
     "text": [
      "length is,(m)= 16.201\n",
      "width is,(mm)= 12.345\n"
     ]
    }
   ],
   "source": [
    "#Example  7.1# width and length\n",
    "#calculate the length and width\n",
    "from math import sqrt\n",
    "#given:\n",
    "vph=400.;#phase voltage in volts\n",
    "n=3.;#number of phase\n",
    "kw=36.;#power in kW\n",
    "#calculations\n",
    "r=((vph**2)/(n*((kw*10**3)/n)));#resistance in ohms\n",
    "p=1.016*10**-6;#resitivity\n",
    "t=0.3;#thickness in mm\n",
    "x=(((r*t*10**-3)/(p)));#variable\n",
    "t1=1000;#initial temperature in degree celsius\n",
    "t1k=273+t1;#initial temperature in kelvin\n",
    "t2=650;#final temperature in degree celsius\n",
    "t2k=273+t2;#final temperature in kelvin\n",
    "h=((3*10**4)*((t1k/1000)**4-(t2k/1000)**4));#W/m**2\n",
    "y=((kw*10**3)/(3*2*h));#variable\n",
    "l=sqrt(x*y);#length in meter\n",
    "w=y/l;#width in meter\n",
    "#results\n",
    "print \"length is,(m)=\",round(l,3)\n",
    "print \"width is,(mm)=\",round(w*10**3,3)\n"
   ]
  },
  {
   "cell_type": "markdown",
   "metadata": {},
   "source": [
    "## Example 2 : pg 138"
   ]
  },
  {
   "cell_type": "code",
   "execution_count": 2,
   "metadata": {
    "collapsed": false
   },
   "outputs": [
    {
     "name": "stdout",
     "output_type": "stream",
     "text": [
      "power required is,(W)= 100.0\n"
     ]
    }
   ],
   "source": [
    "#Example  7.2# \n",
    "#calculate the power required\n",
    "#given:\n",
    "l=0.2;#length in meter\n",
    "w=0.1;#width in meter\n",
    "th=25.;#thickness in mm\n",
    "#calculations\n",
    "vw=l*w*th*10**-3;#volume in m**3\n",
    "ww=600.;#weight of wood in kg/m**3\n",
    "ww1=vw*ww;#weight of wood kg\n",
    "shw=1500.;#specific heat of wood in J/kg/degree celsius\n",
    "t=200.;#temperature in degree celsius\n",
    "rg=t*shw*ww1;#energy in joules\n",
    "h=(rg/(3.6*10**3));#Wh\n",
    "t=15.;#time in minutes\n",
    "pr=h*(60./t);#power required in Watt\n",
    "#results\n",
    "print \"power required is,(W)=\",pr\n"
   ]
  },
  {
   "cell_type": "markdown",
   "metadata": {},
   "source": [
    "## Example 3 : pg 140"
   ]
  },
  {
   "cell_type": "code",
   "execution_count": 3,
   "metadata": {
    "collapsed": false
   },
   "outputs": [
    {
     "name": "stdout",
     "output_type": "stream",
     "text": [
      "voltage is ,(V)= 424.0\n",
      "current is,(A)= 4.717\n"
     ]
    }
   ],
   "source": [
    "#Example  7.3# voltage and current\n",
    "#calculate the current and voltage\n",
    "from math import sqrt, acos, pi\n",
    "l=0.2;#length meter\n",
    "w=0.1;#width in meter\n",
    "th=25;#thickness in mm\n",
    "#calculations\n",
    "vw=l*w*th*10**-3;#volume of wood in m**3\n",
    "ww=600;#weight of wood in kg/m**3\n",
    "ww1=vw*ww;#weight of wood kg\n",
    "shw=1500.;#specific heat of wood  in J/kg/degree celsius\n",
    "t=200.;#temperature in degree celsius\n",
    "rg=t*shw*ww1;#energy in joules\n",
    "h=(rg/(3.6*10**3));#Wh\n",
    "t=15.;#time in minutes\n",
    "pr=h*(60./t);#power required in Watt\n",
    "eo=8.854*10**-12;#permittivity constant\n",
    "er=5.;#permittivity of wood\n",
    "c=((eo*er*l*w)/(th*10**-3));#capacitance in Farads\n",
    "f=50;#frequency in MHz\n",
    "pf=0.5;#power factor \n",
    "ph=acos(pf);#phase angle radians\n",
    "v=sqrt((pr)/(c*2*pi*f*10**6*0.05));#voltage in volts\n",
    "ic=v*2*pi*f*10**6*c;#current in amperes\n",
    "#results\n",
    "print \"voltage is ,(V)=\",round(v)\n",
    "print \"current is,(A)=\",round(ic,3)\n"
   ]
  }
 ],
 "metadata": {
  "kernelspec": {
   "display_name": "Python 2",
   "language": "python",
   "name": "python2"
  },
  "language_info": {
   "codemirror_mode": {
    "name": "ipython",
    "version": 2
   },
   "file_extension": ".py",
   "mimetype": "text/x-python",
   "name": "python",
   "nbconvert_exporter": "python",
   "pygments_lexer": "ipython2",
   "version": "2.7.11"
  }
 },
 "nbformat": 4,
 "nbformat_minor": 0
}
