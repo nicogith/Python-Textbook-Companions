{
 "metadata": {
  "name": "",
  "signature": "sha256:89d211f2bab9ed7eb89e6e1658fcc2ecaf90b3f2ef927e14d02a2cb79920c159"
 },
 "nbformat": 3,
 "nbformat_minor": 0,
 "worksheets": [
  {
   "cells": [
    {
     "cell_type": "heading",
     "level": 1,
     "metadata": {},
     "source": [
      "Ch-8, Hydro-Electric Plants"
     ]
    },
    {
     "cell_type": "heading",
     "level": 2,
     "metadata": {},
     "source": [
      "example 8.1 Page 134"
     ]
    },
    {
     "cell_type": "code",
     "collapsed": false,
     "input": [
      "h=100 #given height\n",
      "q=200 #discharge\n",
      "e=0.9 #efficiency\n",
      "p=(735.5/75)*q*h*e\n",
      "print \"\\npower developed by hydro plant is %0.2f MW\"%(p/1e3)"
     ],
     "language": "python",
     "metadata": {},
     "outputs": [
      {
       "output_type": "stream",
       "stream": "stdout",
       "text": [
        "\n",
        "power developed by hydro plant is 176.52 MW\n"
       ]
      }
     ],
     "prompt_number": 33
    },
    {
     "cell_type": "heading",
     "level": 2,
     "metadata": {},
     "source": [
      "example 8.2 page 134"
     ]
    },
    {
     "cell_type": "code",
     "collapsed": false,
     "input": [
      "from __future__ import division\n",
      "flow=[0, 1000, 800, 600 ,400 ,400 ,1200, 2400 ,2400, 1000 ,400 ,400 ,1000] #flow in matrix from in the order of months\n",
      "y=range(0,13)\n",
      "yy = [(0,1),(1,2),(2,3),(3,4),(4,5)]\n",
      "xx = [(0,1),(1,2),(2,3),(3,4),(4,5)]\n",
      "h=150\n",
      "e=0.85\n",
      "avg=sum(flow)/12\n",
      "print \"\\naverage rate of inflow is %dcu-m/sec\"%(avg)\n",
      "p=(735.5/75)*avg*h*e\n",
      "print \"\\npower developed is %0.2f MW\"%(p/1e3)\n",
      "%matplotlib inline\n",
      "from matplotlib.pyplot import plot, title, xlabel, ylabel, show\n",
      "plot(y,flow)\n",
      "title('hydrograph')\n",
      "xlabel('months')\n",
      "ylabel('run in cu-m/sec')\n",
      "show()\n",
      "print \"hydrograph is ploted in figure\"\n",
      "flow1 = range(0,12)\n",
      "for x in range(0,12):\n",
      "    t=flow[x]\n",
      "    a=avg\n",
      "    if t<a or t==avg:\n",
      "        t=0\n",
      "    else:\n",
      "        t=t-1000\n",
      "       #end\n",
      "    flow1[x]=t \n",
      "    #end\n",
      "sto=sum(flow1)\n",
      "print \"\\nstorage capacity of given plant is %dsec-m-month\"%(sto)"
     ],
     "language": "python",
     "metadata": {},
     "outputs": [
      {
       "output_type": "stream",
       "stream": "stdout",
       "text": [
        "\n",
        "average rate of inflow is 1000cu-m/sec\n",
        "\n",
        "power developed is 1250.35 MW\n"
       ]
      },
      {
       "metadata": {},
       "output_type": "display_data",
       "png": "[encoded data removed]",
       "text": [
        "<matplotlib.figure.Figure at 0x7fb702908bd0>"
       ]
      },
      {
       "output_type": "stream",
       "stream": "stdout",
       "text": [
        "hydrograph is ploted in figure\n",
        "\n",
        "storage capacity of given plant is 3000sec-m-month\n"
       ]
      }
     ],
     "prompt_number": 34
    },
    {
     "cell_type": "heading",
     "level": 2,
     "metadata": {},
     "source": [
      "example 8.3 Page 135"
     ]
    },
    {
     "cell_type": "code",
     "collapsed": false,
     "input": [
      "flow=[1500, 1000, 500, 500, 500, 1200, 2900, 2900, 1000, 400 ,600 ,1600]\n",
      "cod=1000#constant demand\n",
      "#plot2d2(flow)\n",
      "%matplotlib inline\n",
      "from matplotlib.pyplot import plot, title, xlabel, ylabel, show\n",
      "plot(flow)\n",
      "title('hydrograph for exp 8.3')\n",
      "xlabel('months')\n",
      "ylabel('run off in m**3/sec')\n",
      "avg=sum(flow)/12\n",
      "if cod<avg:\n",
      "    flow1 = range(0,6)\n",
      "    for x in range(0,6):\n",
      "        t=flow[x]\n",
      "        if t>cod|t==avg:\n",
      "            t=0\n",
      "        else:\n",
      "            t=cod-t\n",
      "     #end  \n",
      "        flow1[x]=t \n",
      " #end\n",
      " \n",
      "    else:\n",
      "         flow = range(0,12)\n",
      "         flow1 = range(0,12)\n",
      "         for x in range(0,12):\n",
      "            t=flow[x]\n",
      "            a=cod\n",
      "            if t>a|t==avg:\n",
      "                t=0\n",
      "            else:\n",
      "                t=t-cod\n",
      "            #end\n",
      "            flow1[x]=t \n",
      "    #end\n",
      "#end\n",
      "\n",
      "sto=sum(flow1)\n",
      "print \"storage capacity of plant is %dsec-m-month\"%(sto)"
     ],
     "language": "python",
     "metadata": {},
     "outputs": [
      {
       "output_type": "stream",
       "stream": "stdout",
       "text": [
        "storage capacity of plant is -11934sec-m-month\n"
       ]
      },
      {
       "metadata": {},
       "output_type": "display_data",
       "png": "[encoded data removed]",
       "text": [
        "<matplotlib.figure.Figure at 0x7fb702908050>"
       ]
      }
     ],
     "prompt_number": 35
    },
    {
     "cell_type": "heading",
     "level": 2,
     "metadata": {},
     "source": [
      "example 8.4 Page 135"
     ]
    },
    {
     "cell_type": "code",
     "collapsed": false,
     "input": [
      "flow=[1500, 1000, 500, 500, 500, 1200, 2900, 2900, 1000, 400 ,600 ,1600]\n",
      "cod=1000#constant demand\n",
      "#[m n]=size(flow)len\n",
      "n=len(flow)\n",
      "mf = range(0,n)\n",
      "mf[0]=1500\n",
      "for i in range(2,n):\n",
      "    mf[i]=mf[i-1]+flow[i]\n",
      "%matplotlib inline\n",
      "from matplotlib.pyplot import plot, title, xlabel, ylabel, show\n",
      "\n",
      "plot(mf)\n",
      "from numpy import arange\n",
      "dd= arange(1,mf[n-1],cod)\n",
      "\n",
      "avg=sum(flow)/12\n",
      "if cod<avg:\n",
      "    for x in range(0,6):\n",
      "        t=flow[x]\n",
      "        if t>cod|t==avg:\n",
      "            t=0\n",
      "        else:\n",
      "            t=cod-t\n",
      "       #end\n",
      "        flow1[x]=t \n",
      " #end\n",
      " \n",
      "else:   \n",
      "    for x in range(0,12):\n",
      "        t=flow[x]\n",
      "        a=cod\n",
      "        if t>a|t==avg:\n",
      "            t=0\n",
      "        else:\n",
      "            t=t-cod\n",
      "       #end\n",
      "        flow1[x]=t \n",
      "    #end\n",
      "#end\n",
      "\n",
      "sto=sum(flow1)\n",
      "print \"storage capacity of plant is %dsec-m-month\"%(sto)\n"
     ],
     "language": "python",
     "metadata": {},
     "outputs": [
      {
       "output_type": "stream",
       "stream": "stdout",
       "text": [
        "storage capacity of plant is -5149sec-m-month\n"
       ]
      },
      {
       "metadata": {},
       "output_type": "display_data",
       "png": "[encoded data removed]",
       "text": [
        "<matplotlib.figure.Figure at 0x7fb702585410>"
       ]
      }
     ],
     "prompt_number": 36
    },
    {
     "cell_type": "heading",
     "level": 2,
     "metadata": {},
     "source": [
      "example 8.5 Page 154"
     ]
    },
    {
     "cell_type": "code",
     "collapsed": false,
     "input": [
      "flow=[80, 50 ,40 ,20 ,0 ,100, 150 ,200 ,250 ,120 ,100, 80]\n",
      "h=100; e=80\n",
      "%matplotlib inline\n",
      "from matplotlib.pyplot import plot, title, xlabel, ylabel, show, subplot\n",
      "\n",
      "subplot(211)\n",
      "plot(flow)\n",
      "title('hydrograph')\n",
      "xlabel('months')\n",
      "ylabel('run off,millon m**3/month' )\n",
      "fd=sorted(flow)\n",
      "\n",
      "subplot(212)\n",
      "plot(fd)\n",
      "title('flow duration')\n",
      "xlabel('months')\n",
      "ylabel('run off')\n",
      "\n",
      "t= range(0,12)\n",
      "for x in range(1,10):\n",
      "    d=fd[x]\n",
      "    ad=fd[(x-1)]\n",
      "    if d==ad:\n",
      "        t[x]=[]\n",
      "        t[x-1]=t[x-1]+1\n",
      "        fd[x]=[]\n",
      "    #end\n",
      "#end\n",
      "ffw=fd+t\n",
      "print \"load duration data is as under\"\n",
      "print ffw\n",
      "mf=sum(flow)*10**6/(30*24*3600)\n",
      "print \"(a)\"\n",
      "print \"meanflow is %fm**3-sec\"%(mf)\n",
      "print \"(b)\"\n",
      "p=(735.5/75)*mf*h*e\n",
      "print \"power delevered in %dkW=%.3fMW\"%(p,p/1000)"
     ],
     "language": "python",
     "metadata": {},
     "outputs": [
      {
       "output_type": "stream",
       "stream": "stdout",
       "text": [
        "load duration data is as under\n",
        "[0, 20, 40, 50, 80, [], 100, [], 120, 150, 200, 250, 0, 1, 2, 3, 5, [], 7, [], 8, 9, 10, 11]\n",
        "(a)\n",
        "meanflow is 459.104938m**3-sec\n",
        "(b)\n",
        "power delevered in 36018312kW=36018.313MW\n"
       ]
      },
      {
       "metadata": {},
       "output_type": "display_data",
       "png": "[encoded data removed]",
       "text": [
        "<matplotlib.figure.Figure at 0x7fb70255f810>"
       ]
      }
     ],
     "prompt_number": 37
    },
    {
     "cell_type": "heading",
     "level": 2,
     "metadata": {},
     "source": [
      "example 8.6 Page 156"
     ]
    },
    {
     "cell_type": "code",
     "collapsed": false,
     "input": [
      "mh=205#mean height\n",
      "a=1000*10**6#in miters\n",
      "r=1.25#annual rain fall\n",
      "er=0.8#efficiency\n",
      "lf=0.75#load factor\n",
      "hl=5#head loss\n",
      "et=0.9#efficiency of turbine\n",
      "eg=0.95#efficiency of generator\n",
      "wu=a*r*er/(365*24*3600)\n",
      "print \"\\nwater used is \\t\\t%fm**3/sec\"%(wu)\n",
      "eh=mh-hl\n",
      "print \"\\neffective head is \\t%dm\"%(eh)\n",
      "p=(735.5/75)*(wu*eh*et*eg)\n",
      "print \"\\npower generated is \\t%fkW =\\t%fMW\"%(p,p/1000)\n",
      "pl=p/lf\n",
      "print \"\\npeak load is \\t\\t%fMw \\ntherefore the MW rating of station is \\t%fMW\"%(pl/1000,pl/1000)\n",
      "if eh<=200:\n",
      "    print \"\\nfor a head above 200m pelton turbine is suitable,\\nfrancis turbine is suitable in the range of 30m-200m.,\\nhowever pelton is most suitable\"\n",
      "else:\n",
      "    print \"only pelton turbine is most suitable\""
     ],
     "language": "python",
     "metadata": {},
     "outputs": [
      {
       "output_type": "stream",
       "stream": "stdout",
       "text": [
        "\n",
        "water used is \t\t31.709792m**3/sec\n",
        "\n",
        "effective head is \t200m\n",
        "\n",
        "power generated is \t53175.418569kW =\t53.175419MW\n",
        "\n",
        "peak load is \t\t70.900558Mw \n",
        "therefore the MW rating of station is \t70.900558MW\n",
        "\n",
        "for a head above 200m pelton turbine is suitable,\n",
        "francis turbine is suitable in the range of 30m-200m.,\n",
        "however pelton is most suitable\n"
       ]
      }
     ],
     "prompt_number": 38
    }
   ],
   "metadata": {}
  }
 ]
}
