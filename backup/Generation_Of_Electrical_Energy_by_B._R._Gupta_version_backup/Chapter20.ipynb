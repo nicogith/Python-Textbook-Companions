{
 "metadata": {
  "name": "",
  "signature": "sha256:cd162bdb1fe196cb47bf3eb77e7ebc05430fce626f0c2cb37a8e99707eb3d120"
 },
 "nbformat": 3,
 "nbformat_minor": 0,
 "worksheets": [
  {
   "cells": [
    {
     "cell_type": "heading",
     "level": 1,
     "metadata": {},
     "source": [
      "Ch-20, Energy Audit"
     ]
    },
    {
     "cell_type": "heading",
     "level": 2,
     "metadata": {},
     "source": [
      "example:20.1 Page:461"
     ]
    },
    {
     "cell_type": "code",
     "collapsed": false,
     "input": [
      "from math import asin, cos, acos, tan\n",
      "lod=1 #industrial installation load\n",
      "pf=0.78  #power factor\n",
      "tf=200   #tariff \n",
      "md=3.5   #extra maximum demand\n",
      "ic=500   #installation of capacitor\n",
      "id=0.15  #interest and depreciation\n",
      "lf=0.8  #load factor\n",
      "sinp=ic*id/tf\n",
      "ph2=asin(sinp)\n",
      "epf2=cos(ph2)\n",
      "ph1=acos(pf)\n",
      "ph1=round(ph1*10**2)/10**2\n",
      "ph2=round(ph2*10**2)/10**2\n",
      "q=lod*(tan(ph1)-tan(ph2))\n",
      "q=round(q*10**4)/10**4\n",
      "ikva=lod/pf\n",
      "ikv=round(ikva*(10**5))/10**2\n",
      "aeu=lod*lf*8760*10**6\n",
      "eb=ikv*tf+aeu*md\n",
      "print \"(a)\\neconomic power factor %.3flagging \\n(b) \\ncapacitor kVAr to improve the power factor %.4f \\n(c) \\ninitial kVA %.2fKVA \\nannual energy used %0.3ekWh \\nelectrical bill Rs%e per year\"%(epf2,q,ikv,aeu,eb)\n",
      "kvc=round((lod*10**3/(round(epf2*1000)/10**3))*10**2)/10**2\n",
      "ebc=kvc*tf+aeu*md\n",
      "aidc=q*10**3*ic*id\n",
      "te=ebc+aidc\n",
      "asc=eb-te\n",
      "print \"(d)\\nKVA after installation of capacitors %.2fKVA \\n\"%kvc\n",
      "print \"energy bill after installation of capacitor Rs%e per year\"%ebc\n",
      "print \"annual interest and depreciation of capacitor bank Rs%.1fper year \\ntotal expendition after installation of capacitors Rs%e per year \\nannual savings due to installation of capacitors Rs%d per year\"%(aidc,te,asc)"
     ],
     "language": "python",
     "metadata": {},
     "outputs": [
      {
       "output_type": "stream",
       "stream": "stdout",
       "text": [
        "(a)\n",
        "economic power factor 0.927lagging \n",
        "(b) \n",
        "capacitor kVAr to improve the power factor 0.4092 \n",
        "(c) \n",
        "initial kVA 1282.05KVA \n",
        "annual energy used 7.008e+09kWh \n",
        "electrical bill Rs2.452826e+10 per year\n",
        "(d)\n",
        "KVA after installation of capacitors 1078.75KVA \n",
        "\n",
        "energy bill after installation of capacitor Rs2.452822e+10 per year\n",
        "annual interest and depreciation of capacitor bank Rs30690.0per year \n",
        "total expendition after installation of capacitors Rs2.452825e+10 per year \n",
        "annual savings due to installation of capacitors Rs9970 per year\n"
       ]
      }
     ],
     "prompt_number": 1
    },
    {
     "cell_type": "heading",
     "level": 2,
     "metadata": {},
     "source": [
      "example:20.2 Page:468"
     ]
    },
    {
     "cell_type": "code",
     "collapsed": false,
     "input": [
      "ee=5*10**16  #electrical energy requirement\n",
      "eer=0.1   #energy requirement\n",
      "i=5*10**6  #investement\n",
      "n=20     #life time\n",
      "ec=4.1    #energy cost\n",
      "r=0.13   #interest rate\n",
      "dr=r/((1+r)**(n)-1) #depreciation rate\n",
      "dr=round(dr*10**5)/10**5\n",
      "tfc=r+dr   #total fixed cost\n",
      "ace=i*tfc  #annual cost\n",
      "ace=round(ace/10**2)*10**2\n",
      "eb=i*ec   #electrical bill with present motor\n",
      "teb=eb*(1-eer) #electrical bill with efficiency motor\n",
      "tac=teb+ace   #total annual cost with efficiency cost\n",
      "As=eb-tac  #annual saving\n",
      "print 'part (a)'\n",
      "print \" depreciation rate %.5f \\n total fixed charge rate %f\\n annual cost of efficiency motor Rs%eper year \\n total electrical bill with present motors Rs%eper year \\n total electrical bill with efficiency motor Rs.%e \\n total annual cost if motors are replaced by high efficiency motors Rs%e per year \\n annual saving Rs%d per year\"%(dr,tfc,ace,eb,teb,tac,As)\n",
      "print 'part (b)'\n",
      "pwf=r/(1-((1+r)**-n)) #present worth factor\n",
      "pwf=round(pwf*10**5)/10**5\n",
      "pwm=teb/pwf   #present worth annual cost with existing motors\n",
      "pwm=round(pwm/10**4)*10**4 #present worth with existing motors\n",
      "pwem=eb/pwf #present worth with efficiency motor\n",
      "pwem=round(pwem/10**4)*10**4\n",
      "pwam=teb/pwf\n",
      "pwam=round(pwam/10**4)*10**4\n",
      "tpw=pwam+i  #total persent worth\n",
      "print \" present worth factor %.5f \\n present worth of annual cost with existing motors Rs%e \\n present worth of annual cost with new motor Rs%e \\n total present worth %e per year\"%(pwf,pwem,pwam,tpw)"
     ],
     "language": "python",
     "metadata": {},
     "outputs": [
      {
       "output_type": "stream",
       "stream": "stdout",
       "text": [
        "part (a)\n",
        " depreciation rate 0.01235 \n",
        " total fixed charge rate 0.142350\n",
        " annual cost of efficiency motor Rs7.118000e+05per year \n",
        " total electrical bill with present motors Rs2.050000e+07per year \n",
        " total electrical bill with efficiency motor Rs.1.845000e+07 \n",
        " total annual cost if motors are replaced by high efficiency motors Rs1.916180e+07 per year \n",
        " annual saving Rs1338200 per year\n",
        "part (b)\n",
        " present worth factor 0.14235 \n",
        " present worth of annual cost with existing motors Rs1.440100e+08 \n",
        " present worth of annual cost with new motor Rs1.296100e+08 \n",
        " total present worth 1.346100e+08 per year\n"
       ]
      }
     ],
     "prompt_number": 2
    }
   ],
   "metadata": {}
  }
 ]
}
