{
 "metadata": {
  "name": "",
  "signature": "sha256:44ae6f2363996556e5b7037bd7c1155f8bdd64b6afae6e0bd73f2af88b36b33a"
 },
 "nbformat": 3,
 "nbformat_minor": 0,
 "worksheets": [
  {
   "cells": [
    {
     "cell_type": "heading",
     "level": 1,
     "metadata": {},
     "source": [
      "Ch-2, Loads & Load Curves"
     ]
    },
    {
     "cell_type": "heading",
     "level": 2,
     "metadata": {},
     "source": [
      "example - 2.1, page - 17"
     ]
    },
    {
     "cell_type": "code",
     "collapsed": false,
     "input": [
      "from __future__ import division\n",
      "print \"solution for (a)\"\n",
      "nb=8; nf=2; nl=2 #given number of equipments is 8 bulbs 2 fans 2plugs\n",
      "lb=100 ;lf=60 ;ll=100 #corresponding wattages\n",
      "cl=nb*lb+nf*lf+nl*ll  #total connected load\n",
      "print \"connected load = %dW\\n\"%(cl) \n",
      "print \"solution for (b)\"\n",
      "t1=5 ;t2=2 ;t3=2; t4=9; t5=6; # time periods in hours\n",
      "# let = [bulb, fan, light]\n",
      "w1=1*lf #12 to 5am period of duration 5h\n",
      "w2=2*lf+1*ll #5am to 7am period of duration 2h\n",
      "w3=0 #7am to 9am period of duration 2h\n",
      "w4=2*lf #9am to 6pm period of duration 9h\n",
      "w5=4*lb+2*lf #6pm to 12pm period of duration 6h\n",
      "w=[w1 ,w2 ,w3, w4, w5]\n",
      "print \"\\nthe maximum demand is %d W\\n\"%(max(w))\n",
      "m=max(w)\n",
      "print \"solution for (c)\"\n",
      "df=m/cl\n",
      "print \"\\ndemand factor =%0.3f\\n\"%(df)\n",
      "print \"solution for (d)\"\n",
      "#energy consumed is power multiply by corresponding time\n",
      "energy=[w1*t1 ,w2*t2 ,w3*t3 ,w4*t4, w5*t5]\n",
      "e=sum(energy)\n",
      "print \"\\ntotal energy consumed during 24 hours = %d Wh = %0.2f kWh\\n\"%(e,e/1e3)\n",
      "print \"solution for (e)\" \n",
      "ec=cl*24 \n",
      "print \"\\nif all devices are used throughout the day the energy consumed = %d Wh = %.2fkWh\"%(ec,ec/1000)     \n",
      "#for 24 hours of max. load\n"
     ],
     "language": "python",
     "metadata": {},
     "outputs": [
      {
       "output_type": "stream",
       "stream": "stdout",
       "text": [
        "solution for (a)\n",
        "connected load = 1120W\n",
        "\n",
        "solution for (b)\n",
        "\n",
        "the maximum demand is 520 W\n",
        "\n",
        "solution for (c)\n",
        "\n",
        "demand factor =0.464\n",
        "\n",
        "solution for (d)\n",
        "\n",
        "total energy consumed during 24 hours = 4940 Wh = 4.94 kWh\n",
        "\n",
        "solution for (e)\n",
        "\n",
        "if all devices are used throughout the day the energy consumed = 26880 Wh = 26.88kWh\n"
       ]
      }
     ],
     "prompt_number": 1
    },
    {
     "cell_type": "heading",
     "level": 2,
     "metadata": {},
     "source": [
      "example -  2.2, page - 19"
     ]
    },
    {
     "cell_type": "code",
     "collapsed": false,
     "input": [
      "print \"(a)\" \n",
      "mca=1.1 ;cla=2.5; mcb=1; clb=3;       #mca=maximum demand of consumera cla=connected load of a mcb=maximum load of consumer b clb=connected load of consumer b\n",
      "print \"maximum demand of consumer A = %0.1fkW \\n \\ndemand factor of consumer A = %0.2f \\n \\nmaximum demand of consumer B = %dkW\\n \\ndemand factor of consumer B = %0.3f\"%(mca,mca/cla,mcb,mcb/clb)\n",
      "print \"(b)\"\n",
      "print \"The variation in demand versus time curves are plotted and shown in Fig This is known as chronological load curve.\"\n",
      "a=([100]*5,[1100]*1,[200]*2,[0]*9,[500]*7)\n",
      "i=0\n",
      "A=range(1,25)\n",
      "for x in a:\n",
      "\n",
      "    for y in x:\n",
      "        \n",
      "        A[i]=y\n",
      "        i+=1\n",
      "\n",
      "        \n",
      "b=([0]*(7),[300]*(1),[1000]*(2),[200]*(8),[600]*(5),[0]*(1))  #time line of different periods by a and b consumers\n",
      "i=0\n",
      "B=range(1,25)\n",
      "for x in b:\n",
      "\n",
      "    for y in x:\n",
      "        \n",
      "        B[i]=y\n",
      "        i+=1\n",
      "from numpy import arange, nditer\n",
      "t=arange(1,25,1)         #for 24 hours ploting\n",
      "ma=max(A) ;mb=max(B) \n",
      "%matplotlib inline\n",
      "from matplotlib.pyplot import plot, subplot, title, title, show, hist\n",
      "\n",
      "subplot(211)        #matrix plotting\n",
      "plot(t,A) \n",
      "plot(t,B) \n",
      "title(\"load curves of A and B: fig(1) \\n\")\n",
      "show()\n",
      "C=range(1,25)\n",
      "i=0\n",
      "for x,y in nditer([A,B]):\n",
      "   C[i]=x+y \n",
      "   i+=1 \n",
      "subplot(222) \n",
      "plot(t,C)  \n",
      "title(\"chronological load of group : fig(2) \\n\")\n",
      "show()\n",
      "mg=max(C)  #maximum demand of group\n",
      "print \"(c)\"\n",
      "print \"maximum demand of the group is %dW\"%(mg) \n",
      "gd=(ma+mb)/mg \n",
      "print \"group diversity factor = %.3f\"%(gd)   #group diversity factor is sum of individual maximum consumaer load to the group max load \n",
      "print \"(d)\"\n",
      "sa=sum(A)\n",
      "print \"energy consumed by A during 24 hours is = %d Wh = %0.2f kWh\"%(sa,sa/1e3)\n",
      "sb=sum(B) \n",
      "print \"(e)\" \n",
      "print \"maximum energy which A could consume in 24hours = %.2fkWh \\nmaximum energy which B consume in 24 hours is =%.2fkWh\"%(mca*24,mcb*24 ) \n",
      "print \"(f)\" \n",
      "print \"actual energy/maximum energy\" \n",
      "mca=mca*10**3; mcb=mcb*10**3\n",
      "aemea=sa/(mca*24)\n",
      "aemeb=sb/(mcb*24)\n",
      "print \"\\nfor A = %0.4f \\nfor b = %.4f\"%(sa/(mca*24),aemeb) \n"
     ],
     "language": "python",
     "metadata": {},
     "outputs": [
      {
       "output_type": "stream",
       "stream": "stdout",
       "text": [
        "(a)\n",
        "maximum demand of consumer A = 1.1kW \n",
        " \n",
        "demand factor of consumer A = 0.44 \n",
        " \n",
        "maximum demand of consumer B = 1kW\n",
        " \n",
        "demand factor of consumer B = 0.333\n",
        "(b)\n",
        "The variation in demand versus time curves are plotted and shown in Fig This is known as chronological load curve.\n"
       ]
      },
      {
       "metadata": {},
       "output_type": "display_data",
       "png": "[encoded data removed]",
       "text": [
        "<matplotlib.figure.Figure at 0x7f31dcdedc90>"
       ]
      },
      {
       "metadata": {},
       "output_type": "display_data",
       "png": "[encoded data removed]",
       "text": [
        "<matplotlib.figure.Figure at 0x7f31dcadf050>"
       ]
      },
      {
       "output_type": "stream",
       "stream": "stdout",
       "text": [
        "(c)\n",
        "maximum demand of the group is 1100W\n",
        "group diversity factor = 1.909\n",
        "(d)\n",
        "energy consumed by A during 24 hours is = 5500 Wh = 5.50 kWh\n",
        "(e)\n",
        "maximum energy which A could consume in 24hours = 26.40kWh \n",
        "maximum energy which B consume in 24 hours is =24.00kWh\n",
        "(f)\n",
        "actual energy/maximum energy\n",
        "\n",
        "for A = 0.2083 \n",
        "for b = 0.2875\n"
       ]
      }
     ],
     "prompt_number": 2
    },
    {
     "cell_type": "heading",
     "level": 2,
     "metadata": {},
     "source": [
      "example -  2.3 : page - 22"
     ]
    },
    {
     "cell_type": "code",
     "collapsed": false,
     "input": [
      "cola=5 ;na=600; ns=20 \n",
      "cls=2 ;clfm=10 ;clsm=5; cll=20; i=80 \n",
      "dffl=0.7; dfsm=0.8; dfl=0.65; dfci=0.5 \n",
      "nsl=200 ;clsl=0.04 ;dfa=0.5; gdfa=3.0 \n",
      "pdfa=1.25; gdfc=2 ;pdfc=1.6; dfs=0.8  #given col||cl=connected load,n=number,df=demand factor,gdf=group diversity factor,pdf=peak diversity factor,a=appartement,c=commertials,s=shop,sl=streetlight,fm=flourmill,sm=saw mill,l=laundry,ci=cinema complex.\n",
      "mdea=cola*dfa\n",
      "print \"maximum demand of each appartment =%.2fkWh \\n\"%(mdea)\n",
      "mda=(na*mdea)/gdfa\n",
      "print \"maximum demand of 600 apatments =%.2fkW \\n\"%(mda) \n",
      "datsp=mda/pdfa\n",
      "print \"demand of 600 apartments at time of the system peak =%dkW \\n\"%(datsp)  \n",
      "mdtcc=((cls*ns*dfs)+(clfm*dffl)+(clsm*dfsm)+(cll*dfl)+(i*dfci))/gdfc\n",
      "print \"maximum demand of total commertial complex=%dkW \\n\"%(mdtcc)\n",
      "dcsp=mdtcc/pdfc\n",
      "print \"demand of the commertial load at the time of the peak = %dkW\\n\"%(dcsp) \n",
      "dsltsp=nsl*clsl\n",
      "print \"demand of the street lighting at the time of the system peak =%dkW\"%(dsltsp) \n",
      "ispd=datsp+dcsp+dsltsp\n",
      "print \"\\nincrease in system peak deamand =%dkW \"%(ispd)"
     ],
     "language": "python",
     "metadata": {},
     "outputs": [
      {
       "output_type": "stream",
       "stream": "stdout",
       "text": [
        "maximum demand of each appartment =2.50kWh \n",
        "\n",
        "maximum demand of 600 apatments =500.00kW \n",
        "\n",
        "demand of 600 apartments at time of the system peak =400kW \n",
        "\n",
        "maximum demand of total commertial complex=48kW \n",
        "\n",
        "demand of the commertial load at the time of the peak = 30kW\n",
        "\n",
        "demand of the street lighting at the time of the system peak =8kW\n",
        "\n",
        "increase in system peak deamand =438kW \n"
       ]
      }
     ],
     "prompt_number": 3
    },
    {
     "cell_type": "heading",
     "level": 2,
     "metadata": {},
     "source": [
      "example -  2.4 : page -28"
     ]
    },
    {
     "cell_type": "code",
     "collapsed": false,
     "input": [
      "from __future__ import division\n",
      "print \"the chronological load curve is plotted in fig 1 the durition of loads is as under :\"\n",
      "LC=([20]*(5),[40]*4,[80]*9,[100]*4,[20]*2)\n",
      "\n",
      "i=0\n",
      "lc=range(1,25)\n",
      "for x in LC:\n",
      "    for y in x:\n",
      "        lc[i] = y\n",
      "        i+=1\n",
      "lc.sort()\n",
      "\n",
      "nn=len(lc)\n",
      "\n",
      "e=sum(lc)\n",
      "print lc\n",
      "print \"\\nthe load duration curve is ploted in 2 the energy produced by plant in 24 hours = %d MWh \\n\"%(e) \n",
      "lff=e/(24*max(lc)) \n",
      "print \"load factor = %0.4f= %.2f %%\"%(lff,lff*100)\n",
      "t=range(1,25)\n",
      "subplot(211) \n",
      "plot(t,lc) \n",
      "show()\n",
      "title(\"chronological curve\")\n",
      "subplot(212) \n",
      "plot(t,lc) \n",
      "title(\"load duration curve\")\n",
      "show()"
     ],
     "language": "python",
     "metadata": {},
     "outputs": [
      {
       "output_type": "stream",
       "stream": "stdout",
       "text": [
        "the chronological load curve is plotted in fig 1 the durition of loads is as under :\n",
        "[20, 20, 20, 20, 20, 20, 20, 40, 40, 40, 40, 80, 80, 80, 80, 80, 80, 80, 80, 80, 100, 100, 100, 100]\n",
        "\n",
        "the load duration curve is ploted in 2 the energy produced by plant in 24 hours = 1420 MWh \n",
        "\n",
        "load factor = 0.5917= 59.17 %\n"
       ]
      },
      {
       "metadata": {},
       "output_type": "display_data",
       "png": "[encoded data removed]",
       "text": [
        "<matplotlib.figure.Figure at 0x7f31f86db090>"
       ]
      },
      {
       "metadata": {},
       "output_type": "display_data",
       "png": "[encoded data removed]",
       "text": [
        "<matplotlib.figure.Figure at 0x7f31dc8e5090>"
       ]
      }
     ],
     "prompt_number": 4
    },
    {
     "cell_type": "heading",
     "level": 2,
     "metadata": {},
     "source": [
      "example -  2.5 : page - 29"
     ]
    },
    {
     "cell_type": "code",
     "collapsed": false,
     "input": [
      "from __future__ import division\n",
      "lf=0.5917; ml=100; ic=125  #lf=load factor,ic=installed capacity,ml=maximum load,cf=capacity factor,uf=utillization factor\n",
      "cf=(ml*lf)/ic; uf=ml/ic\n",
      "print \"capacity factor =%0.3f\"%(cf)\n",
      "print \"\\nutilisation factor =%.2f\"%(uf)"
     ],
     "language": "python",
     "metadata": {},
     "outputs": [
      {
       "output_type": "stream",
       "stream": "stdout",
       "text": [
        "capacity factor =0.473\n",
        "\n",
        "utilisation factor =0.80\n"
       ]
      }
     ],
     "prompt_number": 5
    },
    {
     "cell_type": "heading",
     "level": 2,
     "metadata": {},
     "source": [
      "example -  2.6 : page - 29"
     ]
    },
    {
     "cell_type": "code",
     "collapsed": false,
     "input": [
      "\n",
      "t=[24, 24-7, 24-11, 4] # Periods for running load 20,40,80,100\n",
      "l = [20,40,80,100] # different loads\n",
      "E= range(0,len(l))\n",
      "E[0] = t[0]*l[0] # MWh\n",
      "i=1\n",
      "for x in E[1:]:\n",
      "    E[i] = E[i-1]+(l[i]-l[i-1])*t[i]\n",
      "    i+=1\n",
      "\n",
      "print \"Energy at different load levels:\\nLoad(MW)\\t\\tEnergy(MWh)\\n\"\n",
      "from numpy import nditer\n",
      "for x, y in nditer([l, E]):\n",
      "    print '  ',x,'\\t\\t\\t ',y\n",
      "\n",
      "%matplotlib inline\n",
      "from matplotlib.pyplot import plot, subplot, title, xlabel, ylabel, show\n",
      "subplot(211)\n",
      "plot(E,l,'bo')\n",
      "plot(E,l)\n",
      "title('Energy Load Curve')\n",
      "xlabel('Energy MW Hrs')\n",
      "ylabel('Load MW')\n",
      "show()\n",
      "######### Mass Curve #######\n",
      "\n",
      "\n",
      "t = [5,4,9,4,2]\n",
      "l = [20,40,80,100,20] # loads on different time of day\n",
      "Es= range(0,len(l))\n",
      "Es[0] = t[0]*l[0] # MWh\n",
      "i=1\n",
      "for x in Es[1:]:\n",
      "    Es[i] = Es[i-1]+(l[i])*t[i]\n",
      "    i+=1\n",
      "\n",
      "\n",
      "print \"Energy supplied uto different times of day:\\nTime\\t\\tEnergy(MWh)\\n\"\n",
      "times = ['5am', '9am', '6pm','10pm','12pm']\n",
      "for x, y in nditer([times, Es]):\n",
      "    print x,'\\t\\t\\t ',y\n",
      "\n",
      "    \n",
      "td= range(0,len(t))\n",
      "td[0] = t[0] # MWh\n",
      "i=1\n",
      "for x in td[1:]:\n",
      "    td[i] = td[i-1]+t[i]\n",
      "    i+=1\n",
      "    \n",
      "subplot(212)\n",
      "plot(td,Es,'bo')\n",
      "plot(td,Es)\n",
      "title('Mass Curve')\n",
      "xlabel('Time')\n",
      "ylabel('Load MW')\n",
      "show()"
     ],
     "language": "python",
     "metadata": {},
     "outputs": [
      {
       "output_type": "stream",
       "stream": "stdout",
       "text": [
        "Energy at different load levels:\n",
        "Load(MW)\t\tEnergy(MWh)\n",
        "\n",
        "   20 \t\t\t  480\n",
        "   40 \t\t\t  820\n",
        "   80 \t\t\t  1340\n",
        "   100 \t\t\t  1420\n"
       ]
      },
      {
       "metadata": {},
       "output_type": "display_data",
       "png": "[encoded data removed]",
       "text": [
        "<matplotlib.figure.Figure at 0x7f31f86a5790>"
       ]
      },
      {
       "output_type": "stream",
       "stream": "stdout",
       "text": [
        "Energy supplied uto different times of day:\n",
        "Time\t\tEnergy(MWh)\n",
        "\n",
        "5am \t\t\t  100\n",
        "9am \t\t\t  260\n",
        "6pm \t\t\t  980\n",
        "10pm \t\t\t  1380\n",
        "12pm \t\t\t  1420\n"
       ]
      },
      {
       "metadata": {},
       "output_type": "display_data",
       "png": "[encoded data removed]",
       "text": [
        "<matplotlib.figure.Figure at 0x7f31dc9118d0>"
       ]
      }
     ],
     "prompt_number": 6
    },
    {
     "cell_type": "heading",
     "level": 2,
     "metadata": {},
     "source": [
      "example -  2.7 : page 30"
     ]
    },
    {
     "cell_type": "code",
     "collapsed": false,
     "input": [
      "md=40 ;cf=0.5; uf=0.8 #maximum demand in MW capacity factor utility factor\n",
      "print \"(a)\"\n",
      "lf=cf/uf   #load factor is ratio of capacity factor to the utility  factor\n",
      "print \"load factor = capacity factor/utilisation factor =%0.3f\"%(lf)\n",
      "print \"(b)\"\n",
      "pc=md/uf   #plant capacity is ratio of maximum demand to utility factor\n",
      "print \"plant capacity = maximum demand/utilisation factor =%dMW\"%(pc)\n",
      "print \"(c)\"\n",
      "rc=pc-md   #reserve capacity is plant capacity minus maximum demand \n",
      "print \"reserve capacity =%dMW\"%(rc)\n",
      "print \"(d)\"\n",
      "print \"annual energy production =%dMWh\"%(md*lf*8760)"
     ],
     "language": "python",
     "metadata": {},
     "outputs": [
      {
       "output_type": "stream",
       "stream": "stdout",
       "text": [
        "(a)\n",
        "load factor = capacity factor/utilisation factor =0.625\n",
        "(b)\n",
        "plant capacity = maximum demand/utilisation factor =50MW\n",
        "(c)\n",
        "reserve capacity =10MW\n",
        "(d)\n",
        "annual energy production =219000MWh\n"
       ]
      }
     ],
     "prompt_number": 7
    },
    {
     "cell_type": "heading",
     "level": 2,
     "metadata": {},
     "source": [
      "example -  2.8 : pge 30"
     ]
    },
    {
     "cell_type": "code",
     "collapsed": false,
     "input": [
      "a=[0, 5, 9 ,18, 20, 22, 24] #time in matrix format\n",
      "b=[50 ,50 ,100 ,100 ,150 ,80 ,50]#load in matrix format\n",
      "z= range (1,7)\n",
      "for x in range (1,6):\n",
      "    \n",
      "   z[x]=((b[x]+b[x+1])/2)*(a[(x+1)])-a[x]\n",
      "\n",
      "e = b[0]*a[1]+(b[2]+b[1])*(a[2]-a[1])/2+(b[3]*a[2])+(b[3]+b[4])+(b[4]+b[5])+(b[5]+b[6]) # MWh\n",
      "\n",
      "print \"energy required required by the system in 24 hrs = %d MWh\"%(e)\n",
      "#50x5MWh+((100+50)/2)x4MWh +(100x9)MWh+(100+150)MWh+(150+80)MWh+(80+50)MWh \\n =\n",
      "dlf=e/(max(b)*24)\n",
      "print \"\\ndaily load factor = %f or %0.2f %%\"%(dlf,dlf*100)\n",
      "\n",
      "#########PLOT##############\n",
      "%matplotlib inline\n",
      "from matplotlib.pyplot import plot, subplot, title, xlabel, ylabel, show\n",
      "plot(a,b)\n",
      "title('Load Curve')\n",
      "xlabel(\"TIME -->\")\n",
      "ylabel(\"MW -->\")\n",
      "show()\n",
      "#xtitle(\"load curve\"%(\"time\"%(\"MW\""
     ],
     "language": "python",
     "metadata": {},
     "outputs": [
      {
       "output_type": "stream",
       "stream": "stdout",
       "text": [
        "energy required required by the system in 24 hrs = 2060 MWh\n",
        "\n",
        "daily load factor = 0.572222 or 57.22 %\n"
       ]
      },
      {
       "metadata": {},
       "output_type": "display_data",
       "png": "[encoded data removed]",
       "text": [
        "<matplotlib.figure.Figure at 0x7f31fa1d4f50>"
       ]
      }
     ],
     "prompt_number": 8
    },
    {
     "cell_type": "heading",
     "level": 2,
     "metadata": {},
     "source": [
      "example -  2.9: page 31"
     ]
    },
    {
     "cell_type": "code",
     "collapsed": false,
     "input": [
      "print \"load duration curve in fig1\"\n",
      "print \"the energy consumed upto different times is as \"\n",
      "a=[0, 5 ,9 ,18, 20, 22, 24]  #time in matrix format\n",
      "b=[50, 50 ,100 ,100 ,150 ,80 ,50] #load in matrix format\n",
      "\n",
      "z = range(0,6)\n",
      "for x in range (0,6):\n",
      "   z[x]=((b[x]+b[x+1])/2)*(a[x+1]-a[x])\n",
      "\n",
      "et=0\n",
      "q = range(0,7)\n",
      "m = range(0,7)\n",
      "ett = range(0,6)\n",
      "for x in range(0,6):\n",
      "    et=et+z[x] \n",
      "    A=a[(x)]\n",
      "    ett[x]=et \n",
      "    q[x]=a[x+1]\n",
      "    print \"\\nfrom mid night upto %d,energy=%dMWh\"%(A,et)\n",
      "n = sorted(range(len(b)), key=lambda k: b[k], reverse=True)\n",
      "m = sorted(b, reverse=True)\n",
      "print \"energy curve in fig 2\"\n",
      "t=[0, 3.88, 15.88 ,19.88, 23]\n",
      "k = range(0,6)\n",
      "for j in range(0,6):\n",
      "    k[j]=a[(j+1)]\n",
      "M =range(0,5)\n",
      "#rearranging for mass  curve\n",
      "for i in range(0,5):\n",
      "    M[i] = m[i]\n",
      "Q = range(0,6)\n",
      "for i in range(0,6):\n",
      "    Q[i] = q[i]\n",
      "    \n",
      "    \n",
      "subplot(121) \n",
      "plot(t,M) \n",
      "title(\"load duration\")\n",
      "xlabel(\"hours\")\n",
      "ylabel(\"MW\")\n",
      "subplot(122) \n",
      "plot(Q,ett) \n",
      "title(\"energy curve\")\n",
      "xlabel(\"time\")\n",
      "ylabel(\"MWh\")\n",
      "show()"
     ],
     "language": "python",
     "metadata": {},
     "outputs": [
      {
       "output_type": "stream",
       "stream": "stdout",
       "text": [
        "load duration curve in fig1\n",
        "the energy consumed upto different times is as \n",
        "\n",
        "from mid night upto 0,energy=250MWh\n",
        "\n",
        "from mid night upto 5,energy=550MWh\n",
        "\n",
        "from mid night upto 9,energy=1450MWh\n",
        "\n",
        "from mid night upto 18,energy=1700MWh\n",
        "\n",
        "from mid night upto 20,energy=1930MWh\n",
        "\n",
        "from mid night upto 22,energy=2060MWh\n",
        "energy curve in fig 2\n"
       ]
      },
      {
       "metadata": {},
       "output_type": "display_data",
       "png": "[encoded data removed]",
       "text": [
        "<matplotlib.figure.Figure at 0x7f31dc93f790>"
       ]
      }
     ],
     "prompt_number": 9
    },
    {
     "cell_type": "heading",
     "level": 2,
     "metadata": {},
     "source": [
      "example -  2.10 : page 31"
     ]
    },
    {
     "cell_type": "code",
     "collapsed": false,
     "input": [
      "egd1=438*10**4 ;plp=0.2; pcf=0.15 #annual load duration  annual  load factor plant capacity factor\n",
      "pml=egd1/(plp*8760)\n",
      "pc=(pml*plp)/pcf\n",
      "print \"annual load factor =energy generated during 1 year/(max. load)x8760=%.1f \\n maximum load =%dkW\"%(plp,pml)\n",
      "print \"\\ncapacity factor =(max.load/plant capacity)x(load factor)\\n plant capacity =max.load/0.75 =%fMW \\n reserve capacity =3.333-2.5=%fMW\"%(pc,pc-pml)"
     ],
     "language": "python",
     "metadata": {},
     "outputs": [
      {
       "output_type": "stream",
       "stream": "stdout",
       "text": [
        "annual load factor =energy generated during 1 year/(max. load)x8760=0.2 \n",
        " maximum load =2500kW\n",
        "\n",
        "capacity factor =(max.load/plant capacity)x(load factor)\n",
        " plant capacity =max.load/0.75 =3333.333333MW \n",
        " reserve capacity =3.333-2.5=833.333333MW\n"
       ]
      }
     ],
     "prompt_number": 10
    },
    {
     "cell_type": "heading",
     "level": 2,
     "metadata": {},
     "source": [
      "example -  2.11: page 32"
     ]
    },
    {
     "cell_type": "code",
     "collapsed": false,
     "input": [
      "p1=10; p2=6; p3=8; p4=7 #peak demands of 4 areas\n",
      "df=1.5 ;lf=0.65 ;imdp=0.6 #diversity factor  annual load factor  ratio of maximum demand\n",
      "p=p1+p2+p3+p4\n",
      "md=p/df\n",
      "ae=md*lf*8760\n",
      "imd=imdp*md\n",
      "ic=md+imd\n",
      "print \" sum of maximum=%dMW\"%(p)\n",
      "print \"\\n maximum demand = sum of max.demands/diversity factor =%d/%f = %fMW\"%(p,df,md)\n",
      "print \"\\n annual energy =%fMWh \\n increase in maximum demand =%fMW \\n installed capacity =%fMW\"%(ae,imd,ic)"
     ],
     "language": "python",
     "metadata": {},
     "outputs": [
      {
       "output_type": "stream",
       "stream": "stdout",
       "text": [
        " sum of maximum=31MW\n",
        "\n",
        " maximum demand = sum of max.demands/diversity factor =31/1.500000 = 20.666667MW\n",
        "\n",
        " annual energy =117676.000000MWh \n",
        " increase in maximum demand =12.400000MW \n",
        " installed capacity =33.066667MW\n"
       ]
      }
     ],
     "prompt_number": 11
    },
    {
     "cell_type": "heading",
     "level": 2,
     "metadata": {},
     "source": [
      "example -  2.12 : page 32"
     ]
    },
    {
     "cell_type": "code",
     "collapsed": false,
     "input": [
      "from __future__ import division\n",
      "#Arranging data for Load Duration Curve\n",
      "#week days 5-9pm load\n",
      "L1=350 #MW\n",
      "t1=4*5 #hours\n",
      "#week days 8-12am & 1-5pm load\n",
      "L2=250 #MW\n",
      "t2=t1+8*5 #hours\n",
      "#saturday & sunday 5-9pm load\n",
      "L3=200 #MW\n",
      "t3=t2+4*2 #hours\n",
      "#All days 150MW load\n",
      "L4=150 #MW\n",
      "t4=t3+6*5+15*2 #hours\n",
      "#All days 100MW load\n",
      "L5=100 #MW\n",
      "t5=t4+6*5+5*2 #hours\n",
      "A=31600 #Total Load Curve Area\n",
      "LF=A/L1/24/7*100 #%#Weekly load factor\n",
      "print \"Weekly Load factor = %0.2f %%\"%LF\n",
      "print \"Load Duration Curve is shown in figure.\" \n",
      "#Load Duration Curve\n",
      "L=[L1 ,L2, L3, L4, L5] #MW\n",
      "T=[t1 ,t2 ,t3 ,t4 ,t5] #hours\n",
      "%matplotlib inline\n",
      "from matplotlib.pyplot import plot, title, xlabel, ylabel, show\n",
      "plot(T,L) \n",
      "title('Load Duration Curve')\n",
      "xlabel('Time(Hours)')\n",
      "ylabel('Load(MW)') \n",
      "show()"
     ],
     "language": "python",
     "metadata": {},
     "outputs": [
      {
       "output_type": "stream",
       "stream": "stdout",
       "text": [
        "Weekly Load factor = 53.74 %\n",
        "Load Duration Curve is shown in figure.\n"
       ]
      },
      {
       "metadata": {},
       "output_type": "display_data",
       "png": "[encoded data removed]",
       "text": [
        "<matplotlib.figure.Figure at 0x7f31f86a5950>"
       ]
      }
     ],
     "prompt_number": 12
    },
    {
     "cell_type": "heading",
     "level": 2,
     "metadata": {},
     "source": [
      "example -  2.13 : page 33"
     ]
    },
    {
     "cell_type": "code",
     "collapsed": false,
     "input": [
      "dlf=0.825    #daily load factor\n",
      "lptmlp=0.87   #average daily peak load to monthly load peak\n",
      "mlptalp=0.78   #average monthly peak load to annual load peak\n",
      "print \"annual load factor = %fx%fx%f = %0.2f\"%(dlf,lptmlp,mlptalp,dlf*lptmlp*mlptalp)"
     ],
     "language": "python",
     "metadata": {},
     "outputs": [
      {
       "output_type": "stream",
       "stream": "stdout",
       "text": [
        "annual load factor = 0.825000x0.870000x0.780000 = 0.56\n"
       ]
      }
     ],
     "prompt_number": 13
    },
    {
     "cell_type": "heading",
     "level": 2,
     "metadata": {},
     "source": [
      "example -  2.14 : page 35"
     ]
    },
    {
     "cell_type": "code",
     "collapsed": false,
     "input": [
      "print \"(a)\"\n",
      "#given\n",
      "transformer1_motorload=300 \n",
      "transformer1_demandfactorm=0.6 \n",
      "tarnsformer1_commercialload=100 \n",
      "transformer1_demandfactorc=0.5 \n",
      "transformer1_diversityfactor=2.3\n",
      "transformer2_residentalload=500 \n",
      "transformer2_demandfactor=0.4 \n",
      "transformer2_diversitryfactor=2.5 \n",
      "transformer3_residentalload=400 \n",
      "transformer3_demandfactor=0.5 \n",
      "transformer3_diversityfactor=2.0 \n",
      "diversitybtwxmer=1.4\n",
      "peakloadoftransformer1=((transformer1_motorload*transformer1_demandfactorm)+(tarnsformer1_commercialload*transformer1_demandfactorc))/transformer1_diversityfactor\n",
      "peakloadonxmer=(transformer2_residentalload*transformer2_demandfactor)/transformer2_diversitryfactor\n",
      "peakloadonxmer3=(transformer3_residentalload*transformer3_demandfactor)/(transformer3_diversityfactor)\n",
      "print \"peak load on transformer 1 =(300x0.6+100x0.5)/2.3 =%dkW \\npeak load on transformer 2 =%dkW \\n peak load on transformer 3 =%dkW\"%(peakloadoftransformer1,peakloadonxmer,peakloadonxmer3)\n",
      "print \"(b)\"\n",
      "peakloadonfeeder=(peakloadoftransformer1+peakloadonxmer+peakloadonxmer3)/diversitybtwxmer\n",
      "print \"peak load on feeder =(100+80+100)/1.4 =%dkW\"%(peakloadonfeeder)"
     ],
     "language": "python",
     "metadata": {},
     "outputs": [
      {
       "output_type": "stream",
       "stream": "stdout",
       "text": [
        "(a)\n",
        "peak load on transformer 1 =(300x0.6+100x0.5)/2.3 =100kW \n",
        "peak load on transformer 2 =80kW \n",
        " peak load on transformer 3 =100kW\n",
        "(b)\n",
        "peak load on feeder =(100+80+100)/1.4 =200kW\n"
       ]
      }
     ],
     "prompt_number": 16
    }
   ],
   "metadata": {}
  }
 ]
}
