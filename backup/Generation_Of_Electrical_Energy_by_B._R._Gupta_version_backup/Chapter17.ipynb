{
 "metadata": {
  "name": "",
  "signature": "sha256:95ea4a7b39974854edf27cd54ce8388d8f0d40efb44e4e2ed2e5394147a23212"
 },
 "nbformat": 3,
 "nbformat_minor": 0,
 "worksheets": [
  {
   "cells": [
    {
     "cell_type": "heading",
     "level": 1,
     "metadata": {},
     "source": [
      "Ch-17, Generating Capacity Reliability Evaluation"
     ]
    },
    {
     "cell_type": "heading",
     "level": 2,
     "metadata": {},
     "source": [
      "example 17.1 Page 421"
     ]
    },
    {
     "cell_type": "code",
     "collapsed": false,
     "input": [
      "from math import factorial\n",
      "#given\n",
      "n=2 #number of generating station\n",
      "f=0.03 #F.O.R\n",
      "a=1-f\n",
      "p=40 #generation station power \n",
      "g = range(0,3)\n",
      "Pg = range(0,3) \n",
      "def comb(m,r):\n",
      "    y = factorial(m)/(factorial(m-r)*factorial(r))\n",
      "    return y\n",
      "print \"No. of Units out\\t\\tCapacity Out MW\\t\\tCapacity Available MW\\t\\tProbability\"\n",
      "for i in g:\n",
      "    Pg[i] = comb(n,i)*f**i*a**(n-i)\n",
      "    \n",
      "    print i,'\\t\\t\\t\\t',p*i,'\\t\\t\\t\\t',p*(n-i),'\\t\\t\\t',Pg[i]\n",
      "    \n"
     ],
     "language": "python",
     "metadata": {},
     "outputs": [
      {
       "output_type": "stream",
       "stream": "stdout",
       "text": [
        "No. of Units out\t\tCapacity Out MW\t\tCapacity Available MW\t\tProbability\n",
        "0 \t\t\t\t0 \t\t\t\t80 \t\t\t0.9409\n",
        "1 \t\t\t\t40 \t\t\t\t40 \t\t\t0.0582\n",
        "2 \t\t\t\t80 \t\t\t\t0 \t\t\t0.0009\n"
       ]
      }
     ],
     "prompt_number": 3
    },
    {
     "cell_type": "heading",
     "level": 2,
     "metadata": {},
     "source": [
      "example 17.2 Page: 422"
     ]
    },
    {
     "cell_type": "code",
     "collapsed": false,
     "input": [
      "#given\n",
      "n1=2 #number of generating station\n",
      "f1=0.03 #F.O.R\n",
      "a1=1-f1\n",
      "p1=40 #genetaion station power\n",
      "n2=1  #number of genreting station \n",
      "f2=0.03 #F.O.R for second set\n",
      "a2=1-f2\n",
      "p2=30 #generating station power in second set \n",
      "def comb(m,r):\n",
      "    y=factorial(m)/(factorial(m-r)*factorial(r))\n",
      "    return y\n",
      "pg2=range(0,n2+1)\n",
      "co2=range(0,n2+1)\n",
      "ca2=range(0,n2+1)\n",
      "print \"Part(a):\"\n",
      "for i in range(0,n2+1):\n",
      "    pg2[i]=comb(n2,i)*((f2)**i)*((a2)**(n2-i))\n",
      "    co2[i]=p2*i ;ca2[i]=p2*(n2-i)\n",
      "    print \"\\nnumber of units out %d ,capacity out  %dMW ,capacity available  %dMW ,probability %0.2f \"%(i,co2[i],ca2[i],pg2[i])\n",
      "\n",
      "pg1=range(0,n1)\n",
      "co1=range(0,n1)\n",
      "ca1=range(0,n1)\n",
      "print \"Part(b):\"\n",
      "print \"\\nfor exp 17 1 \"\n",
      "for i in range(0,n1):\n",
      "    pg1[i]=comb(n1,i)*((f1)**i)*((a1)**(n1-i))\n",
      "    co1[i]=p1*i ;ca1[i]=p1*(n1-i)\n",
      "    print \"\\nnumber of units out %d ,capacity out  %dMW ,capacity available %dMW ,probability %4f \"%(i,co1[i],ca1[i],pg1[i])\n",
      "\n",
      "print \"combination of 2 set of stations\"\n",
      "tp=1\n",
      "pocg=0\n",
      "for i in range(0,n1):\n",
      "    \n",
      "    for j in range(0,n2):\n",
      "        og=co1[i]+co2[j] #now total system capacity out\n",
      "        cg=ca1[i]+ca2[j]  #now total system capacity available\n",
      "        tp=tp-pocg\n",
      "        pocg=pg1[i]*pg2[j] #individual stste probability\n",
      "        print \"\\ncapacity out %dMW ,capacity available %dMW ,individual state probability %.6f ,cumulative probability %.6f\"%(og,cg,pocg,tp)\n",
      "    \n"
     ],
     "language": "python",
     "metadata": {},
     "outputs": [
      {
       "output_type": "stream",
       "stream": "stdout",
       "text": [
        "Part(a):\n",
        "\n",
        "number of units out 0 ,capacity out  0MW ,capacity available  30MW ,probability 0.97 \n",
        "\n",
        "number of units out 1 ,capacity out  30MW ,capacity available  0MW ,probability 0.03 \n",
        "Part(b):\n",
        "\n",
        "for exp 17 1 \n",
        "\n",
        "number of units out 0 ,capacity out  0MW ,capacity available 80MW ,probability 0.940900 \n",
        "\n",
        "number of units out 1 ,capacity out  40MW ,capacity available 40MW ,probability 0.058200 \n",
        "combination of 2 set of stations\n",
        "\n",
        "capacity out 0MW ,capacity available 110MW ,individual state probability 0.912673 ,cumulative probability 1.000000\n",
        "\n",
        "capacity out 40MW ,capacity available 70MW ,individual state probability 0.056454 ,cumulative probability 0.087327\n"
       ]
      }
     ],
     "prompt_number": 4
    },
    {
     "cell_type": "heading",
     "level": 2,
     "metadata": {},
     "source": [
      "example 17.3: Page 423"
     ]
    },
    {
     "cell_type": "code",
     "collapsed": false,
     "input": [
      "#given\n",
      "n=4 #number of generating station\n",
      "f=0.05 #F.O.R\n",
      "a=1-f\n",
      "p=50 #generation station power \n",
      "mp=150 #maximum alowable  power\n",
      "lf=50 #load factor in persentage\n",
      "def comb(m,r):\n",
      "    y=factorial(m)/(factorial(m-r)*factorial(r))\n",
      "    return y\n",
      "pg = range(0,n)\n",
      "co = range(0,n)\n",
      "ca = range(0,n)\n",
      "for i in range(0,n):\n",
      "    pg[i]=comb(n,i)*((f)**i)*((a)**(n-i))\n",
      "    co[i]=p*i ;ca[i]=p*(n-i)\n",
      "    print \"\\nnumber of units out %d ,capacity out %dMW ,capacity available %dMW ,probability %4f \"%(i,co[i],ca[i],pg[i])\n",
      "from numpy import arange\n",
      "ld=arange(mp,0,-lf)\n",
      "#[m n]=size(ld)\n",
      "n =len(ld)\n",
      "\n",
      "%matplotlib inline\n",
      "from matplotlib import pyplot as plt\n",
      "plt.plot(ld)\n",
      "plt.title('Load Duration Curve')\n",
      "plt.xlabel('Time -->')\n",
      "plt.ylabel('MW -->')\n",
      "plt.show()\n",
      "tg = range(0,n+1)\n",
      "tg[n-2]=round(10000/(n-2))/100\n",
      "tg[n-1]=tg[n-2]*2\n",
      "tg[n]=100\n",
      "tg[1]=0 ;tg[0]=0 #maximum load limit\n",
      "el = range(0,n)\n",
      "for i in range(0,n):\n",
      "    el[i]=pg[i]*tg[i]\n",
      "    print \"\\nnumber of units out %d ,capacity out %dMW ,capacity available %dMW ,probability %4f ,tg in persentage %.2f ,expected load %.6fMW\"%(i,co[i],ca[i],pg[i],tg[i],el[i])\n",
      "\n",
      "lt=sum(el)\n",
      "print \"\\n\\nexpected loss of load is %.6fMW percent of time. assuming 365 days in a year, then expected loss of load is %.3fMW days per year\"%(lt,lt*365/100)"
     ],
     "language": "python",
     "metadata": {},
     "outputs": [
      {
       "output_type": "stream",
       "stream": "stdout",
       "text": [
        "\n",
        "number of units out 0 ,capacity out 0MW ,capacity available 200MW ,probability 0.814506 \n",
        "\n",
        "number of units out 1 ,capacity out 50MW ,capacity available 150MW ,probability 0.171475 \n",
        "\n",
        "number of units out 2 ,capacity out 100MW ,capacity available 100MW ,probability 0.013538 \n",
        "\n",
        "number of units out 3 ,capacity out 150MW ,capacity available 50MW ,probability 0.000475 \n"
       ]
      },
      {
       "metadata": {},
       "output_type": "display_data",
       "png": "[encoded data removed]",
       "text": [
        "<matplotlib.figure.Figure at 0x7f056d41bb90>"
       ]
      },
      {
       "output_type": "stream",
       "stream": "stdout",
       "text": [
        "\n",
        "number of units out 0 ,capacity out 0MW ,capacity available 200MW ,probability 0.814506 ,tg in persentage 0.00 ,expected load 0.000000MW\n",
        "\n",
        "number of units out 1 ,capacity out 50MW ,capacity available 150MW ,probability 0.171475 ,tg in persentage 0.00 ,expected load 0.000000MW\n",
        "\n",
        "number of units out 2 ,capacity out 100MW ,capacity available 100MW ,probability 0.013538 ,tg in persentage 200.00 ,expected load 2.707500MW\n",
        "\n",
        "\n",
        "expected loss of load is 2.707500MW percent of time. assuming 365 days in a year, then expected loss of load is 9.882MW days per year\n"
       ]
      }
     ],
     "prompt_number": 5
    },
    {
     "cell_type": "heading",
     "level": 2,
     "metadata": {},
     "source": [
      "example 17.4 Page 425"
     ]
    },
    {
     "cell_type": "code",
     "collapsed": false,
     "input": [
      "#given\n",
      "n=4 #number of generating station\n",
      "f=0.02 #F.O.R\n",
      "a=1-f\n",
      "p=50 #generation station power \n",
      "mp=150 #maximum alowable  power\n",
      "minp=30 #minimum power \n",
      "lf=60 #load factor in persentage\n",
      "def comb(m,r):\n",
      "    y=factorial(m)/(factorial(m-r)*factorial(r))\n",
      "    return y\n",
      "\n",
      "pg = range(0,n)\n",
      "co = range(0,n)\n",
      "ca = range(0,n)\n",
      "for i in range(0,n):\n",
      "    pg[i]=comb(n,i)*((f)**i)*((a)**(n-i))\n",
      "    co[i]=p*i ;ca[i]=p*(n-i)\n",
      "    print \"\\nnumber of units out %d ,capacity out %dMW ,capacity available %dMW ,probability %.7f \"%(i,co[i],ca[i],pg[i])\n",
      "\n",
      "from numpy import arange\n",
      "ld=arange(mp,minp,-lf)\n",
      "#[m n1]=size(ld)\n",
      "n1=len(ld)\n",
      "#[mm m]=max(co)\n",
      "m=max(co)\n",
      "\n",
      "%matplotlib inline\n",
      "from matplotlib import pyplot as plt\n",
      "plt.plot(ld)\n",
      "plt.title('Load Duration Curve')\n",
      "plt.xlabel('Time -->')\n",
      "plt.ylabel('MW -->')\n",
      "plt.show()\n",
      "\n",
      "tg = range(0,n)\n",
      "tg[0]=0\n",
      "for i in range(1,n):\n",
      "    \n",
      "    tg[i]=(mp-ca[i])*100/(2*lf) #percentage time \n",
      "\n",
      "print \"\"\n",
      "el = range(0,n)\n",
      "for i in range(0,n):\n",
      "    el[i]=pg[i]*tg[i]\n",
      "    print \"\\nnumber of units out %d ,capacity out %dMW ,capacity available %dMW ,probability %4f ,tg in persentage %.2f ,expected load %.6fMW\"%(i-1,co[i],ca[i],pg[i],tg[i],el[i])\n",
      "\n",
      "lt=sum(el)\n",
      "print \"\\n\\nexpected loss of load is %.6fMW percent of time. assuming 365 days in a year, then expected loss of load is %.3fMW days per year ,some times the loss of load is also expressed as reciprocal of this figure and then the units are years per day this result is %.4fMW years per day.\"%(lt,lt*365/100,100/(lt*365))"
     ],
     "language": "python",
     "metadata": {},
     "outputs": [
      {
       "output_type": "stream",
       "stream": "stdout",
       "text": [
        "\n",
        "number of units out 0 ,capacity out 0MW ,capacity available 200MW ,probability 0.9223682 \n",
        "\n",
        "number of units out 1 ,capacity out 50MW ,capacity available 150MW ,probability 0.0752954 \n",
        "\n",
        "number of units out 2 ,capacity out 100MW ,capacity available 100MW ,probability 0.0023050 \n",
        "\n",
        "number of units out 3 ,capacity out 150MW ,capacity available 50MW ,probability 0.0000314 \n"
       ]
      },
      {
       "metadata": {},
       "output_type": "display_data",
       "png": "[encoded data removed]",
       "text": [
        "<matplotlib.figure.Figure at 0x7f0576ba1810>"
       ]
      },
      {
       "output_type": "stream",
       "stream": "stdout",
       "text": [
        "\n",
        "\n",
        "number of units out -1 ,capacity out 0MW ,capacity available 200MW ,probability 0.922368 ,tg in persentage 0.00 ,expected load 0.000000MW\n",
        "\n",
        "number of units out 0 ,capacity out 50MW ,capacity available 150MW ,probability 0.075295 ,tg in persentage 0.00 ,expected load 0.000000MW\n",
        "\n",
        "number of units out 1 ,capacity out 100MW ,capacity available 100MW ,probability 0.002305 ,tg in persentage 41.00 ,expected load 0.094503MW\n",
        "\n",
        "number of units out 2 ,capacity out 150MW ,capacity available 50MW ,probability 0.000031 ,tg in persentage 83.00 ,expected load 0.002603MW\n",
        "\n",
        "\n",
        "expected loss of load is 0.097106MW percent of time. assuming 365 days in a year, then expected loss of load is 0.354MW days per year ,some times the loss of load is also expressed as reciprocal of this figure and then the units are years per day this result is 2.8214MW years per day.\n"
       ]
      }
     ],
     "prompt_number": 6
    }
   ],
   "metadata": {}
  }
 ]
}
