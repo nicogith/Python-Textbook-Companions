{
 "metadata": {
  "name": "",
  "signature": "sha256:d6e7f2f9dbbec04ab6ce85a655cc4a2febb0f8dbb382c2ed7a309b8620f6b4b2"
 },
 "nbformat": 3,
 "nbformat_minor": 0,
 "worksheets": [
  {
   "cells": [
    {
     "cell_type": "heading",
     "level": 1,
     "metadata": {},
     "source": [
      "Ch-3, Power Plant Economics"
     ]
    },
    {
     "cell_type": "heading",
     "level": 2,
     "metadata": {},
     "source": [
      "example 3.1 - pg 43"
     ]
    },
    {
     "cell_type": "code",
     "collapsed": false,
     "input": [
      "from __future__ import division\n",
      "totpow=110*10**3 #(kW)\n",
      "uc1=18000; fcr1=0.1; cf1=0.55; fuelcons1=0.7; fuelcost1=1500/1000; om1=0.2; utilizationf1=1 \n",
      "uc2=30000 ;fcr2=0.1; cf2=0.60 ;fuelcons2=0.65 ;fuelcost2=1500/1000 ;om2=0.15 ;utilizationf2=1 \n",
      "#given uck=unit capital cost k fcrk= fixed charge rate of kth unit cfk=capacity factor at k th unit  omk=annual cost of operating labour  totpow=total power rating of units\n",
      "afc1=fcr1*uc1*totpow; afc2=fcr2*uc2*totpow \n",
      "e1=8760*cf1*totpow; e2=8760*cf2*totpow \n",
      "annualfuel1=e1*fuelcons1 ;annualfuel2=e2*fuelcons2 \n",
      "fc1=annualfuel1*fuelcost1 ;fc2=annualfuel2*fuelcost2 \n",
      "om11=om1*fc1; om22=om2*fc2 \n",
      "aoc1=fc1+om1 ;aoc2=fc2+om22 \n",
      "apc1=aoc1+afc1; apc2=aoc2+afc2 \n",
      "gc1=apc1/fc1 ;gc2=apc2/fc2\n",
      "print \" solution for (a)\"\n",
      "print \" afc1=Rs.%0.2e\\n e1=%0.4e kWh\\n annualfual1=%0.5e kg \\n fc1=Rs.%0.5e \\n om1=Rs.%0.6e \\n aoc1=Rs.%0.6e \\n apc1=Rs.%0.5e \\n gc1=%0.4f kWh\\n\"%(afc1,e1,annualfuel1,fc1,om11,aoc1,apc1,gc1)\n",
      "print \" solution for (b)\"\n",
      "print \" afc2=Rs.%0.2e \\n e2=%0.4e kWh\\n annualfual2=%0.5e kg \\n fc2=Rs.%d \\n om22=Rs.%d \\n aoc2=Rs.%.f \\n apc2=Rs.%.f \\n gc2=%.fkWh\\n\"%(afc2,e2,annualfuel2,fc2,om22,aoc2,apc2,gc1)\n",
      "ogc=(apc1+apc2)/(e1+e2)\n",
      "\n",
      "print \" solution of (c)\\n ogc=Rs.%0.3f/kWh\"%(ogc)\n",
      "# Ans in the textbook are not accurate."
     ],
     "language": "python",
     "metadata": {},
     "outputs": [
      {
       "output_type": "stream",
       "stream": "stdout",
       "text": [
        " solution for (a)\n",
        " afc1=Rs.1.98e+08\n",
        " e1=5.2998e+08 kWh\n",
        " annualfual1=3.70986e+08 kg \n",
        " fc1=Rs.5.56479e+08 \n",
        " om1=Rs.1.112958e+08 \n",
        " aoc1=Rs.5.564790e+08 \n",
        " apc1=Rs.7.54479e+08 \n",
        " gc1=1.3558 kWh\n",
        "\n",
        " solution for (b)\n",
        " afc2=Rs.3.30e+08 \n",
        " e2=5.7816e+08 kWh\n",
        " annualfual2=3.75804e+08 kg \n",
        " fc2=Rs.563706000 \n",
        " om22=Rs.84555900 \n",
        " aoc2=Rs.648261900 \n",
        " apc2=Rs.978261900 \n",
        " gc2=1kWh\n",
        "\n",
        " solution of (c)\n",
        " ogc=Rs.1.564/kWh\n"
       ]
      }
     ],
     "prompt_number": 1
    },
    {
     "cell_type": "heading",
     "level": 2,
     "metadata": {},
     "source": [
      "example 3.2 - pg 45"
     ]
    },
    {
     "cell_type": "code",
     "collapsed": false,
     "input": [
      "c=2*10**8 #cost\n",
      "s=0.15 #salvage value\n",
      "ul=25  #/useful value\n",
      "i=0.08 #life of plant\n",
      "print \"solution for (a)\"\n",
      "print \"annual straight line depreciation reserve =Rs. %.1e per year\\n\"%(c*(1-s)/ul)\n",
      "print \"solution for (b)\"\n",
      "it=(i+1)**25-1\n",
      "iit=i/it\n",
      "asdr=c*(1-s)*iit*100\n",
      "print \"annual sinking fund depreciation reserve is =Rs. %.3e per year\"%(asdr)\n"
     ],
     "language": "python",
     "metadata": {},
     "outputs": [
      {
       "output_type": "stream",
       "stream": "stdout",
       "text": [
        "solution for (a)\n",
        "annual straight line depreciation reserve =Rs. 6.8e+06 per year\n",
        "\n",
        "solution for (b)\n",
        "annual sinking fund depreciation reserve is =Rs. 2.325e+08 per year\n"
       ]
      }
     ],
     "prompt_number": 2
    },
    {
     "cell_type": "heading",
     "level": 2,
     "metadata": {},
     "source": [
      "example 3.3 - pg 45"
     ]
    },
    {
     "cell_type": "code",
     "collapsed": false,
     "input": [
      "cost=2*10**8\n",
      "sal=0.15\n",
      "use=25\n",
      "t=(1-(sal**(1/use)))\n",
      "print \"rate of depretion by fixed percentage method = %0.1f %%\"%(t*100)\n",
      "rd=cost*(1-t)**10\n",
      "print \"remaining depreciation at the end of 10th year = Rs.%0.3e\"%(rd)\n",
      "print \"accumulated depreciation at the end of 10 year is Rs.%0.3e\"%(cost-rd)\n"
     ],
     "language": "python",
     "metadata": {},
     "outputs": [
      {
       "output_type": "stream",
       "stream": "stdout",
       "text": [
        "rate of depretion by fixed percentage method = 7.3 %\n",
        "remaining depreciation at the end of 10th year = Rs.9.364e+07\n",
        "accumulated depreciation at the end of 10 year is Rs.1.064e+08\n"
       ]
      }
     ],
     "prompt_number": 3
    },
    {
     "cell_type": "heading",
     "level": 2,
     "metadata": {},
     "source": [
      "example 3.4 - pg 46"
     ]
    },
    {
     "cell_type": "code",
     "collapsed": false,
     "input": [
      "p=100  #ratring of steam station\n",
      "fc=3000 #fixed cost of plant per year\n",
      "rg=0.9 #90 paise per kv generation\n",
      "uf=1  #utilization factor 1\n",
      "import numpy as np\n",
      "lf=np.arange(20,101,20) #let load factor be 5 discreate units\n",
      "lm=uf*lf  #lwt load MW is as same as lf as utilisation factor is 1\n",
      "n=len(lm)\n",
      "fc=[fc*1e5]*n\n",
      "op=[rg*100]*n\n",
      "negp = range(0,n)\n",
      "fcgp = range(0,n)\n",
      "tgc = range(0,n)\n",
      "for i in range(0,n):\n",
      "    negp[i]=lm[i]*8760 * 1e3 # kW-hrs/year\n",
      "    fcgp[i]=fc[i]*10000/negp[i]* 1e2 # Paisa/unit\n",
      "    tgc[i]=fcgp[i]+op[i]\n",
      "\n",
      "print \"negp  : \",tgc\n",
      "    \n",
      "    \n",
      "%matplotlib inline\n",
      "from matplotlib.pyplot import plot\n",
      "plot(lf,tgc)\n",
      "print \"load factor\"\n",
      "print lf\n",
      "print \"load MW\\n\"\n",
      "#fcgp=fcgp/100 ;op=op/100; tgc=tgc/100\n",
      "print \"%dMW\\t%dMW\\t%dMW\\t%dMW\\t%dMW\"%(lm[0],lm[1],lm[2],lm[3],lm[4])\n",
      "print \"fixed cost\"\n",
      "print \"Rs%d\\tRS%d\\tRs%d\\tRs%d\\tRs%d\"%(fc[0],fc[1],fc[2],fc[3],fc[4])\n",
      "print \"number of KW hrs of energy generated in paise per unit of energy\"\n",
      "print \"%dkWh\\t%dkWh\\t%dkWh\\t%dkWh\\t%dkWh\"%(negp[0],negp[1],negp[2],negp[3],negp[4])\n",
      "print \"fixed cost in paise per unit of energy\"\n",
      "print \"Rs%.3f\\tRS%.3f\\tRs%.3f\\tRs%.3f\\tRs%.3f\"%(fcgp[0],fcgp[1],fcgp[2],fcgp[3],fcgp[4])\n",
      "print \"operating cost in paise per unit of energy\"\n",
      "print \"Rs%.3f\\tRS%.3f\\tRs%.3f\\tRs%.3f\\tRs%.3f\"%(op[0],op[1],op[2],op[3],op[4])\n",
      "print \"total generation cost in paise per unit of energy\"\n",
      "print \"Rs%.3f\\tRS%.3f\\tRs%.3f\\tRs%.3f\\tRs%.3f\"%(tgc[0],tgc[1],tgc[2],tgc[3],tgc[4])"
     ],
     "language": "python",
     "metadata": {},
     "outputs": [
      {
       "output_type": "stream",
       "stream": "stdout",
       "text": [
        "negp  :  [1712418.7671232875, 856254.38356164377, 570866.25570776255, 428172.19178082189, 342555.75342465751]\n",
        "load factor"
       ]
      },
      {
       "output_type": "stream",
       "stream": "stdout",
       "text": [
        "\n",
        "[ 20  40  60  80 100]\n",
        "load MW\n",
        "\n",
        "20MW\t40MW\t60MW\t80MW\t100MW\n",
        "fixed cost\n",
        "Rs300000000\tRS300000000\tRs300000000\tRs300000000\tRs300000000\n",
        "number of KW hrs of energy generated in paise per unit of energy\n",
        "175200000kWh\t350400000kWh\t525600000kWh\t700800000kWh\t876000000kWh\n",
        "fixed cost in paise per unit of energy\n",
        "Rs1712328.767\tRS856164.384\tRs570776.256\tRs428082.192\tRs342465.753\n",
        "operating cost in paise per unit of energy\n",
        "Rs90.000\tRS90.000\tRs90.000\tRs90.000\tRs90.000\n",
        "total generation cost in paise per unit of energy\n",
        "Rs1712418.767\tRS856254.384\tRs570866.256\tRs428172.192\tRs342555.753\n"
       ]
      },
      {
       "metadata": {},
       "output_type": "display_data",
       "png": "[encoded data removed]",
       "text": [
        "<matplotlib.figure.Figure at 0x7f2bafc6d9d0>"
       ]
      }
     ],
     "prompt_number": 8
    },
    {
     "cell_type": "heading",
     "level": 2,
     "metadata": {},
     "source": [
      "example 3.5 page 47"
     ]
    },
    {
     "cell_type": "code",
     "collapsed": false,
     "input": [
      "ic=120 #installed capacity\n",
      "ccppkw=40000 #/capital cost of plant\n",
      "iand=0.15 #interest and depreciation\n",
      "fco=0.64 #fuel consumption\n",
      "fc=1.5#fuel cost\n",
      "oc=50*10**6 #operating cost\n",
      "pl=100#peak load\n",
      "lf=0.6 #load factor\n",
      "al=lf*pl#avarrage load\n",
      "print \"average load %dMW\"%(al)\n",
      "eg=al*8760*10**3#energy generated\n",
      "print \"energy generated =%ekWhr\"%(eg)\n",
      "ti=ic*ccppkw #total investiment\n",
      "print \"total investement Rs.%e\"%(ti)\n",
      "ind=ti*iand*10**3#interest and depreciation\n",
      "print \"investement amd depression is Rs.%e\"%(ind)\n",
      "fcons=eg*fco #fual consumption\n",
      "print \"fuel consumtion is %ekgper year\"%(fcons)\n",
      "fcost=fcons*fc#fuel cost\n",
      "aco=ti+fcost+ind+oc#annual cost\n",
      "print \"fuel cost Rs.%eper year \\nannual plant cost Rs%eper  year \\ngeneration cost Rs%fper year\"%(fcost,aco,aco/eg)"
     ],
     "language": "python",
     "metadata": {},
     "outputs": [
      {
       "output_type": "stream",
       "stream": "stdout",
       "text": [
        "average load 60MW\n",
        "energy generated =5.256000e+08kWhr\n",
        "total investement Rs.4.800000e+06\n",
        "investement amd depression is Rs.7.200000e+08\n",
        "fuel consumtion is 3.363840e+08kgper year\n",
        "fuel cost Rs.5.045760e+08per year \n",
        "annual plant cost Rs1.279376e+09per  year \n",
        "generation cost Rs2.434125per year\n"
       ]
      }
     ],
     "prompt_number": 9
    },
    {
     "cell_type": "heading",
     "level": 2,
     "metadata": {},
     "source": [
      "example 3.6 page 47"
     ]
    },
    {
     "cell_type": "code",
     "collapsed": false,
     "input": [
      "md=50*10**3 #maximum demand in kW\n",
      "ecy=0\n",
      "pst=600*md+2.5*ecy#public supply tariff equation\n",
      "lfr=0.5  #load factor\n",
      "rc=20*10**3 #reserve capacity\n",
      "cik=30000  #capital investiment\n",
      "inad=0.15 #/interest and depreciation\n",
      "fuc=0.6 ;fuco=1.4; oct=0.8#fuel consumption#fuel cost#other cost\n",
      "avl=md*lfr #average load\n",
      "ecy=avl*8760  #energy cosumption per year\n",
      "print \"solution of (a)\"\n",
      "print \" average load = %dkW \\n energy consumton =%dkWh\\n annual expenditure is Rs%dperyear\\n\"%(avl,ecy,pst)\n",
      "print \"(b) private steam plant\"\n",
      "ict=md+rc  #installed capacity\n",
      "caint=cik*ict  #capital investiment\n",
      "iande=inad*caint  #interest and depreciation\n",
      "fuelcon=ecy*fuc  #fuel consumption\n",
      "fucost=fuelcon*fuco  #fuel cost\n",
      "opwe=oct*ecy #other expenditure\n",
      "totex=iande+fucost+opwe#total expenditure\n",
      "print \" installed capacity is Rs%d \\n capital investiment is Rs%d \\n interest and depreciation is Rs.%d \\n fuel consumption is Rs.%f \\n fuel cost is Rs.%f per year \\n wage,repair and other expenses are Rs%f per year \\n total expenditure is Rs%e per year\"%(ict,caint,iande,fuelcon,fucost,opwe,totex)"
     ],
     "language": "python",
     "metadata": {},
     "outputs": [
      {
       "output_type": "stream",
       "stream": "stdout",
       "text": [
        "solution of (a)\n",
        " average load = 25000kW \n",
        " energy consumton =219000000kWh\n",
        " annual expenditure is Rs30000000peryear\n",
        "\n",
        "(b) private steam plant\n",
        " installed capacity is Rs70000 \n",
        " capital investiment is Rs2100000000 \n",
        " interest and depreciation is Rs.315000000 \n",
        " fuel consumption is Rs.131400000.000000 \n",
        " fuel cost is Rs.183960000.000000 per year \n",
        " wage,repair and other expenses are Rs175200000.000000 per year \n",
        " total expenditure is Rs6.741600e+08 per year\n"
       ]
      }
     ],
     "prompt_number": 10
    },
    {
     "cell_type": "heading",
     "level": 2,
     "metadata": {},
     "source": [
      "example 3.7 page 48"
     ]
    },
    {
     "cell_type": "code",
     "collapsed": false,
     "input": [
      "md=500 #given maximum demand\n",
      "lf=0.5 #load factor\n",
      "hp=7200 ;he=0.36#operating cost of hydro plant\n",
      "tp=3600; te=1.56 #operating cost of thermal plant\n",
      "teg=md*1000*lf*8760 #total energy generated\n",
      "print \"total energy generated per year %2.2eW\"%(teg)\n",
      "t=(hp-tp)/(te-he) #time of operating useing (de/dp)\n",
      "ph=md*(1-t/8760) #from triangle adf\n",
      "pt=md-ph\n",
      "et=pt*t*1000/2\n",
      "eh=teg-et\n",
      "co=hp*ph*1000+he*eh+tp*pt*1000+te*et\n",
      "ogc=co/teg\n",
      "print \"capacity of hydro plant is %dMW \\n capacity of thermal plant %dMW\\n energy generatede by hydro plant %dkWh\\n energy generated by thermal plant %dkWh\\n over all generation cost is %.3f/kWh\"%(ph,pt,eh,et,ogc)\n",
      "\n",
      "\n",
      " "
     ],
     "language": "python",
     "metadata": {},
     "outputs": [
      {
       "output_type": "stream",
       "stream": "stdout",
       "text": [
        "total energy generated per year 2.19e+09W\n",
        "capacity of hydro plant is 328MW \n",
        " capacity of thermal plant 171MW\n",
        " energy generatede by hydro plant 1933150684kWh\n",
        " energy generated by thermal plant 256849315kWh\n",
        " over all generation cost is 1.863/kWh\n"
       ]
      }
     ],
     "prompt_number": 11
    },
    {
     "cell_type": "heading",
     "level": 2,
     "metadata": {},
     "source": [
      "Data 3.16 page 52"
     ]
    },
    {
     "cell_type": "code",
     "collapsed": false,
     "input": [
      "pu=500*10**3 ;  pc=2*pu #plant unit,plant capacity\n",
      "land=11.865*10**9\n",
      "cicost=30.135*10**9\n",
      "ccost=land+cicost    #capital cost =land cost+civil cost\n",
      "plife=25     #plant life\n",
      "ir=0.16     #interest rate\n",
      "ond=1.5*10**-2 # o and mof capital cost\n",
      "gr=0.5*10**-2  #grneral reserve of capital cost\n",
      "calv=4158  #calorific value kj per kg\n",
      "coalcost=990  #caol cost per ton\n",
      "heat=2500#heat rate kcal/kWh\n",
      "retur=0.08 #return\n",
      "salvage=0\n",
      "plf=0.69  ;auxcons=0.075 #auxiliary consumption\n",
      "print \"cost calculation \"\n",
      "print \"using sinking fund depreciation\"\n",
      "ande=(ir/((ir+1)**(plife)-1))*100\n",
      "afixcost=ccost*(ir+ond+retur+gr+(ande/100))\n",
      "afcppc=afixcost/pc\n",
      "print \"annual depretion reserve is %fpersent \\n annual fixed cost Rs%f \\n annual fixed cost per Rs%dkWh\"%(ande,afixcost,afcppc)\n",
      "fo=(heat*coalcost)/(calv*1000)\n",
      "engepc=24*365*plf\n",
      "enavil=engepc*(1-auxcons)\n",
      "gencost=(afcppc/enavil)+fo\n",
      "print \"fuel cost Rs.%f/kWh \\nenergy generated per kW of plant capacity Rs.%fkWh \\nenergy available bus bar %fkWh \\n generation cost Rs%f perkWh\"%(fo,engepc,enavil,gencost)"
     ],
     "language": "python",
     "metadata": {},
     "outputs": [
      {
       "output_type": "stream",
       "stream": "stdout",
       "text": [
        "cost calculation \n",
        "using sinking fund depreciation\n",
        "annual depretion reserve is 0.401262persent \n",
        " annual fixed cost Rs11088529841.947702 \n",
        " annual fixed cost per Rs11088kWh\n",
        "fuel cost Rs.0.595238/kWh \n",
        "energy generated per kW of plant capacity Rs.6044.400000kWh \n",
        "energy available bus bar 5591.070000kWh \n",
        " generation cost Rs2.578495 perkWh\n"
       ]
      }
     ],
     "prompt_number": 12
    },
    {
     "cell_type": "heading",
     "level": 2,
     "metadata": {},
     "source": [
      "data 3.17 page 53"
     ]
    },
    {
     "cell_type": "code",
     "collapsed": false,
     "input": [
      "pco=120*10**3 #3 units of 40MW\n",
      "caco=68*10**8 #6 year of consumption\n",
      "inr=0.16 #intrest rate\n",
      "de=2.5*10**-2 #depreciation\n",
      "oanm=1.5*10**-2#OandM\n",
      "ger=0.5*10**-2#general reserve\n",
      "pllf=0.6 #plant load facot\n",
      "aucon=0.5*10**-2 #auxiliary consumption\n",
      "tac=caco*(inr+de+oanm+aucon) #/total cost\n",
      "engpy=pco*pllf*24*365 #energy generatedper year\n",
      "eabb=engpy*(1-ger) #energy available at bus bar\n",
      "geco=tac/eabb #generation cost\n",
      "print \" total annual costs is Rs%e per year \\n energy generated per year =%ekWh/year \\n energy available at bus bar %ekWh/year \\n generation cost is Rs.%fper kWh\"%(tac,engpy,eabb,geco)"
     ],
     "language": "python",
     "metadata": {},
     "outputs": [
      {
       "output_type": "stream",
       "stream": "stdout",
       "text": [
        " total annual costs is Rs1.394000e+09 per year \n",
        " energy generated per year =6.307200e+08kWh/year \n",
        " energy available at bus bar 6.275664e+08kWh/year \n",
        " generation cost is Rs.2.221279per kWh\n"
       ]
      }
     ],
     "prompt_number": 13
    }
   ],
   "metadata": {}
  }
 ]
}
