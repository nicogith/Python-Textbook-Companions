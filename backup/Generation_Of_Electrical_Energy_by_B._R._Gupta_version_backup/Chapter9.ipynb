{
 "metadata": {
  "name": "",
  "signature": "sha256:5804a8cf03ec2dc9fe48e7282fc5bb2ad9c57bb262c9f4fea9720f853cbc6882"
 },
 "nbformat": 3,
 "nbformat_minor": 0,
 "worksheets": [
  {
   "cells": [
    {
     "cell_type": "heading",
     "level": 1,
     "metadata": {},
     "source": [
      "Ch-9, Nuclear Power Stations"
     ]
    },
    {
     "cell_type": "heading",
     "level": 2,
     "metadata": {},
     "source": [
      "example 9.1 Page 169"
     ]
    },
    {
     "cell_type": "code",
     "collapsed": false,
     "input": [
      "m=1*10**-3#mass of 1 grm in kgs\n",
      "c=3*10**8\n",
      "e=m*c**2 \n",
      "E=e/(1000*3600)\n",
      "print \"energy equivalent of 1 gram is %dkWh\"%E"
     ],
     "language": "python",
     "metadata": {},
     "outputs": [
      {
       "output_type": "stream",
       "stream": "stdout",
       "text": [
        "energy equivalent of 1 gram is 25000000kWh\n"
       ]
      }
     ],
     "prompt_number": 1
    },
    {
     "cell_type": "heading",
     "level": 2,
     "metadata": {},
     "source": [
      "example 9.2 Page 169"
     ]
    },
    {
     "cell_type": "code",
     "collapsed": false,
     "input": [
      "amu=1.66*10**-27#mass equvalent in kgs\n",
      "c=3*10**8\n",
      "j=6.242*10**12\n",
      "e=amu*c**2\n",
      "E=e*j \n",
      "print \" energy evalent in joules is %ejoules \\n energy equvalent in Mev is %dMeV \\n hense shown\"%(e,E)"
     ],
     "language": "python",
     "metadata": {},
     "outputs": [
      {
       "output_type": "stream",
       "stream": "stdout",
       "text": [
        " energy evalent in joules is 1.494000e-10joules \n",
        " energy equvalent in Mev is 932MeV \n",
        " hense shown\n"
       ]
      }
     ],
     "prompt_number": 3
    },
    {
     "cell_type": "heading",
     "level": 2,
     "metadata": {},
     "source": [
      "example 9.3 Page 169"
     ]
    },
    {
     "cell_type": "code",
     "collapsed": false,
     "input": [
      "hm=2.0141\n",
      "hp=1.007825\n",
      "hn=1.008665\n",
      "nm=58.9342\n",
      "np=28\n",
      "nn=59\n",
      "um=235.0439\n",
      "up=92\n",
      "un=235\n",
      "hmd=hp+hn-hm ;nmd=np*hp+(nn-np)*hn-nm ;umd=up*hp+(un-up)*hn-um \n",
      "hbe=931*hmd ;nbe=931*nmd; ube=931*umd \n",
      "ahbe=hbe/2 ;anbe=nbe/nn ;aube=ube/un \n",
      "print \"\\t(a)\\n mass defect is for hydrogen %famu \\n total binding energy for hydrogens %fMev \\n average binding energy for hydrogen is %fMeV\"%(hmd,hbe,ahbe)\n",
      "print \"\\n\\t(b)\\n mass defect is for nickel %famu \\n total binding energy for nickel is %fMev \\n average binding energy for nickelis %fMeV\"%(nmd,nbe,anbe)\n",
      "print \"\\n\\t(c)\\n mass defect of uranium is %famu \\n total binding energy uranium is %fMev \\n average binding energy uranium is %fMeV\"%(umd,ube,aube)"
     ],
     "language": "python",
     "metadata": {},
     "outputs": [
      {
       "output_type": "stream",
       "stream": "stdout",
       "text": [
        "\t(a)\n",
        " mass defect is for hydrogen 0.002390amu \n",
        " total binding energy for hydrogens 2.225090Mev \n",
        " average binding energy for hydrogen is 1.112545MeV\n",
        "\n",
        "\t(b)\n",
        " mass defect is for nickel 0.553515amu \n",
        " total binding energy for nickel is 515.322465Mev \n",
        " average binding energy for nickelis 8.734279MeV\n",
        "\n",
        "\t(c)\n",
        " mass defect of uranium is 1.915095amu \n",
        " total binding energy uranium is 1782.953445Mev \n",
        " average binding energy uranium is 7.587036MeV\n"
       ]
      }
     ],
     "prompt_number": 5
    },
    {
     "cell_type": "heading",
     "level": 2,
     "metadata": {},
     "source": [
      "example 9.4 Page 170"
     ]
    },
    {
     "cell_type": "code",
     "collapsed": false,
     "input": [
      "from math import exp\n",
      "no=1.7*10**24\n",
      "hl=7.1*10**8\n",
      "t=10*10**8\n",
      "lm=0.693/(hl)\n",
      "lmda=lm/(8760*3600)\n",
      "ia=lmda*no\n",
      "n=no*(exp(-lm*t))\n",
      "print \"(lamda) disintegrations per sec is %ebq \\n initial activity is lamda*na is %ebq \\n final number of atoms is %eatoms\"%(lmda,ia,n)"
     ],
     "language": "python",
     "metadata": {},
     "outputs": [
      {
       "output_type": "stream",
       "stream": "stdout",
       "text": [
        "(lamda) disintegrations per sec is 3.095054e-17bq \n",
        " initial activity is lamda*na is 5.261592e+07bq \n",
        " final number of atoms is 6.405500e+23atoms\n"
       ]
      }
     ],
     "prompt_number": 7
    },
    {
     "cell_type": "heading",
     "level": 2,
     "metadata": {},
     "source": [
      "example 9.5 Page 170"
     ]
    },
    {
     "cell_type": "code",
     "collapsed": false,
     "input": [
      "um=5\n",
      "owp=2.6784*10**15\n",
      "an=6.023*10**23\n",
      "na1g=an/235\n",
      "na5g=an*5/235\n",
      "p=na5g/owp\n",
      "print \" 1 watt power requvires %efussions per day \\n number of atoms in 5 gram is %eatoms \\n power is %eMW \"%(owp,na5g,p)"
     ],
     "language": "python",
     "metadata": {},
     "outputs": [
      {
       "output_type": "stream",
       "stream": "stdout",
       "text": [
        " 1 watt power requvires 2.678400e+15fussions per day \n",
        " number of atoms in 5 gram is 1.281489e+22atoms \n",
        " power is 4.784533e+06MW \n"
       ]
      }
     ],
     "prompt_number": 9
    },
    {
     "cell_type": "heading",
     "level": 2,
     "metadata": {},
     "source": [
      "example 9.6 Page 171"
     ]
    },
    {
     "cell_type": "code",
     "collapsed": false,
     "input": [
      "pp=235\n",
      "pe=0.33\n",
      "lf=1\n",
      "teo=pp*8760*3600*10**6\n",
      "ei=teo/pe\n",
      "nfr=3.1*10**10#fessions required\n",
      "tnfr=nfr*ei\n",
      "t1gu=2.563*10**21 #total uranium atoms in 1 grm\n",
      "fure=tnfr/t1gu\n",
      "print \"total energy input %eWatt sec \\n energy input is %eWatt-sec\\n total number of fissions required is %efissions \\n fuel required is %e grams %dkg\"%(teo,ei,tnfr,fure,fure/1000)"
     ],
     "language": "python",
     "metadata": {},
     "outputs": [
      {
       "output_type": "stream",
       "stream": "stdout",
       "text": [
        "total energy input 7.410960e+15Watt sec \n",
        " energy input is 2.245745e+16Watt-sec\n",
        " total number of fissions required is 6.961811e+26fissions \n",
        " fuel required is 2.716274e+05 grams 271kg\n"
       ]
      }
     ],
     "prompt_number": 11
    },
    {
     "cell_type": "heading",
     "level": 2,
     "metadata": {},
     "source": [
      "example 9.7 Page 171"
     ]
    },
    {
     "cell_type": "code",
     "collapsed": false,
     "input": [
      "from __future__ import division\n",
      "from math import log\n",
      "en=3*10**6\n",
      "a=12\n",
      "fen=0.1\n",
      "Es=2/(12+2/3)\n",
      "re=exp(Es)\n",
      "print \"(a)\\nratio of energies per collision is %f\"%(re)\n",
      "rietf=en/fen\n",
      "ldie=log(rietf)\n",
      "nc=ldie/Es\n",
      "print \"(b)\\npatio of iniial to final energies is %e \\nlogarithemic decrement in energy is %f \\nnumber of collisions is %d\"%(rietf,ldie,nc)"
     ],
     "language": "python",
     "metadata": {},
     "outputs": [
      {
       "output_type": "stream",
       "stream": "stdout",
       "text": [
        "(a)\n",
        "ratio of energies per collision is 1.171043\n",
        "(b)\n",
        "patio of iniial to final energies is 3.000000e+07 \n",
        "logarithemic decrement in energy is 17.216708 \n",
        "number of collisions is 109\n"
       ]
      }
     ],
     "prompt_number": 16
    }
   ],
   "metadata": {}
  }
 ]
}
