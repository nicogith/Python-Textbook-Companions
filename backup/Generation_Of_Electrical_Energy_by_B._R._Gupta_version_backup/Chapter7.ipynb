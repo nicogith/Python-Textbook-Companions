{
 "metadata": {
  "name": "",
  "signature": "sha256:4bf0487ef61060d74c76e88260cd9371bbf64a818ec5d960914c1be96c7eb7a6"
 },
 "nbformat": 3,
 "nbformat_minor": 0,
 "worksheets": [
  {
   "cells": [
    {
     "cell_type": "heading",
     "level": 1,
     "metadata": {},
     "source": [
      "Ch-7, Thermal Power Plants"
     ]
    },
    {
     "cell_type": "heading",
     "level": 2,
     "metadata": {},
     "source": [
      "example7.1 Page 127"
     ]
    },
    {
     "cell_type": "code",
     "collapsed": false,
     "input": [
      "pow=100*10**6\n",
      "calv=6400\n",
      "threff=0.3\n",
      "elceff=0.92\n",
      "kcal=0.239*10**-3\n",
      "eo=pow*3600\n",
      "ei=eo/(threff*elceff)\n",
      "eikc=ei*kcal\n",
      "colreq=eikc/6400\n",
      "print \" energy output in 1 hour is %eWatt.sec \"%eo\n",
      "print \"\\n energy input in one hour is %ejoules Watt.sec\\n\"%ei\n",
      "print \" energy input in 1 hour is %ekcal.\"%eikc\n",
      "print \"\\n coal required is %.3fkg per hour\"%colreq"
     ],
     "language": "python",
     "metadata": {},
     "outputs": [
      {
       "output_type": "stream",
       "stream": "stdout",
       "text": [
        " energy output in 1 hour is 3.600000e+11Watt.sec \n",
        "\n",
        " energy input in one hour is 1.304348e+12joules Watt.sec\n",
        "\n",
        " energy input in 1 hour is 3.117391e+08kcal.\n",
        "\n",
        " coal required is 48709.239kg per hour\n"
       ]
      }
     ],
     "prompt_number": 9
    }
   ],
   "metadata": {}
  }
 ]
}
