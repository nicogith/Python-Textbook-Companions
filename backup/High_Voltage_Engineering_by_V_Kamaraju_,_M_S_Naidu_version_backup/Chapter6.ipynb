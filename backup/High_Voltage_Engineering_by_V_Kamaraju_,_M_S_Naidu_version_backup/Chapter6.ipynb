{
 "cells": [
  {
   "cell_type": "markdown",
   "metadata": {},
   "source": [
    "# Chapter 6: Generation of High voltages and Currents"
   ]
  },
  {
   "cell_type": "markdown",
   "metadata": {},
   "source": [
    "## Example 1: pg 196"
   ]
  },
  {
   "cell_type": "code",
   "execution_count": 1,
   "metadata": {
    "collapsed": false
   },
   "outputs": [
    {
     "name": "stdout",
     "output_type": "stream",
     "text": [
      "the value of percentage ripple is (percentage) =  4.53\n",
      "\n",
      "the value of the regulation is (percentage) =  12.4\n",
      "\n",
      "the optimum number of stages for minimum regulation is  14.0\n"
     ]
    }
   ],
   "source": [
    "#example 6.1\n",
    "#calculation of percentage ripple,the regulation and the optimum number of stages for minimum regulation in Cockcroft-Walton type voltage multiplier\n",
    "from math import sqrt\n",
    "#given data\n",
    "C=0.05*10**-6#value of capacitance(in F)\n",
    "Vmax=125.*10**3#value of supply transformer secondary voltage(in V)\n",
    "f=150.#frequency(in Hz)\n",
    "I=5.*10**-3#load current(in A)\n",
    "nst=8.#number of stages\n",
    "\n",
    "#calculation\n",
    "n=nst*2#number of capacitors\n",
    "#from equation of ripple voltage\n",
    "deltaV=(I/(f*C))*(n*(n+1)/2)\n",
    "perripple=(deltaV*100)/(16*Vmax)\n",
    "deltaVn=(I/(f*C))*(((2*nst**3)/3)+(nst*nst/2)-(nst/6))#voltage drop...here n = nst = number of stages\n",
    "reg=deltaVn/(2*nst*Vmax)#regulation\n",
    "nopt=round(sqrt(Vmax*f*C/I))#optimum number of stages\n",
    "#results\n",
    "print 'the value of percentage ripple is (percentage) = ',round(perripple,2)\n",
    "print '\\nthe value of the regulation is (percentage) = ',round(reg*100,1)\n",
    "print '\\nthe optimum number of stages for minimum regulation is ',round(nopt)\n",
    "\n"
   ]
  },
  {
   "cell_type": "markdown",
   "metadata": {},
   "source": [
    "## Example 2: pg 197"
   ]
  },
  {
   "cell_type": "code",
   "execution_count": 3,
   "metadata": {
    "collapsed": false
   },
   "outputs": [
    {
     "name": "stdout",
     "output_type": "stream",
     "text": [
      "The value of series inductance is (H) =  3820.0\n",
      "\n",
      "The value of input voltage to the transformer is (V) =  4.0\n"
     ]
    }
   ],
   "source": [
    "#example 6.2\n",
    "#calculation of series inductance and input voltage to transformer\n",
    "from math import pi\n",
    "#given data\n",
    "kva=100.*10**3#value of volt-ampere of transformer(in VA)\n",
    "V=250.*10**3#value of transformer secondary voltage(in V)\n",
    "Vi=400.#value of transformer primary voltage(in V)\n",
    "Vc=500.*10**3#voltage(in V)\n",
    "Ic=0.4#charging current(in A)\n",
    "perX=8.#percentage leakage reactance\n",
    "f=50.#value of frequency(in Hz)\n",
    "perR1=2.#percentage resistance\n",
    "perR2=2.#percentage resistance of inductor\n",
    "\n",
    "\n",
    "#calculation\n",
    "I=kva/V#maximum value of current that can be supplied\n",
    "Xc=Vc/Ic#reactance of cable\n",
    "Xl=(perX*V)/(100*I)#leakage reactance\n",
    "adrec=Xc-Xl#additional reactance\n",
    "Xadrec=adrec/(2*pi*f)\n",
    "perR=perR1+perR2#total resistance\n",
    "R=(perR*V)/(100*I)\n",
    "VE2=I*R#excitation at secondary\n",
    "VE1=VE2*Vi/V#primary voltage\n",
    "IkW=(VE1/Vi)*100#input kW\n",
    "#results\n",
    "print 'The value of series inductance is (H) = ',round(Xadrec)\n",
    "print '\\nThe value of input voltage to the transformer is (V) = ',round(IkW)\n"
   ]
  },
  {
   "cell_type": "markdown",
   "metadata": {},
   "source": [
    "## Example 3: pg 198"
   ]
  },
  {
   "cell_type": "code",
   "execution_count": 7,
   "metadata": {
    "collapsed": false
   },
   "outputs": [
    {
     "name": "stdout",
     "output_type": "stream",
     "text": [
      "The value of series resistance is (ohm) =  420.0\n",
      "\n",
      "The value of damping resistance is (ohm) =  2981.0\n",
      "\n",
      "The value of maximum output voltage of the generator is (kV) =  892.02\n",
      "The answer is a bit different due to rounding off error in textbook\n"
     ]
    }
   ],
   "source": [
    "#example 6.3\n",
    "#calculation of series resistance ,damping resistance and maximum output voltage of the generator\n",
    "from math import exp\n",
    "#given data\n",
    "n=8.#number of stages\n",
    "C=0.16*10**-6#value of condenser(in farad)\n",
    "Cl=1000.*10**-12#value of load capacitor (in farad)\n",
    "t1=1.2*10**-6#time to front(in second)\n",
    "t2=50.*10**-6#time to tail(in second)\n",
    "Vc=120.*10**3#charging voltage(in V)\n",
    "\n",
    "#calculation\n",
    "C1=C/n#generator capacitance\n",
    "C2=Cl#load capacitance\n",
    "R1=(t1*(C1+C2))/(3*C1*C2)\n",
    "R2=(t2/(0.7*(C1+C2)))-R1\n",
    "V=n*Vc#dc charging voltage for n stages\n",
    "alpha=1/(R1*C2)\n",
    "betaa=1/(R2*C1)\n",
    "Vmax=(V*(exp(-alpha*t1)-exp(-betaa*t1)))/(R1*C2*(alpha-betaa))\n",
    "#results\n",
    "print 'The value of series resistance is (ohm) = ',round(R1)\n",
    "print '\\nThe value of damping resistance is (ohm) = ',round(R2)\n",
    "print '\\nThe value of maximum output voltage of the generator is (kV) = ',round(-Vmax*10**-3,2)\n",
    "print 'The answer is a bit different due to rounding off error in textbook'"
   ]
  },
  {
   "cell_type": "markdown",
   "metadata": {},
   "source": [
    "## Example 4: pg 198"
   ]
  },
  {
   "cell_type": "code",
   "execution_count": 11,
   "metadata": {
    "collapsed": false
   },
   "outputs": [
    {
     "name": "stdout",
     "output_type": "stream",
     "text": [
      "The value of circuit inductance is (microhenry) =  8.125\n",
      "\n",
      "The value of dynamic resistance is (ohm) =  0.8694\n",
      "\n",
      "The value of charging voltage is (kV) =  17.5\n",
      "The answer for Charging Voltage is wrong in textbook\n"
     ]
    }
   ],
   "source": [
    "#example 6.4\n",
    "#calculation of circuit inductance and dynamic resistance\n",
    "\n",
    "#given data\n",
    "alpha=0.0535*10**6#from table\n",
    "LC=65.#value of product\n",
    "C=8.#value of capacitor (in microfarad)\n",
    "Ip=10.#output peak current(in kA)\n",
    "t1=8.#time to front(in microsecond)\n",
    "\n",
    "#calculation\n",
    "L=LC/C#inductance(in microhenry)\n",
    "Rd=2*(LC*10**-6)*alpha/t1#dynamic resistance\n",
    "V=Ip*14./C#charging voltage\n",
    "\n",
    "#results\n",
    "print 'The value of circuit inductance is (microhenry) = ',round(L,3)\n",
    "print '\\nThe value of dynamic resistance is (ohm) = ',round(Rd,4)\n",
    "print '\\nThe value of charging voltage is (kV) = ',round(V,1)\n",
    "print 'The answer for Charging Voltage is wrong in textbook'"
   ]
  },
  {
   "cell_type": "markdown",
   "metadata": {},
   "source": [
    "## Example 5: pg 199"
   ]
  },
  {
   "cell_type": "code",
   "execution_count": 20,
   "metadata": {
    "collapsed": false
   },
   "outputs": [
    {
     "name": "stdout",
     "output_type": "stream",
     "text": [
      "The value of circuit inductance is (microhenry) =  4.09\n",
      "\n",
      "The value of dynamic resistance is (ohm) =  1.4302\n",
      "\n",
      "The value of charging voltage is (kV) =  1.59\n",
      "The answers are a bit different due to rounding off error in textbook\n"
     ]
    }
   ],
   "source": [
    "#example 6.5\n",
    "#calculation circuit inductance and dynamic resistance\n",
    "from math import pi,exp,atan\n",
    "#given data\n",
    "C=8.*10**-6#value of capacitor (in farad)\n",
    "Ip=10.#output peak current(in kA)\n",
    "t1=8.*10**-6#time to front(in second)\n",
    "t2=20.*10**-6#time to first half cycle(in second)\n",
    "V=25.*10**3#charging voltage\n",
    "im=10.*10**3#output currennt(in A)\n",
    "\n",
    "#calculation\n",
    "omega=pi/t2\n",
    "omegat1=omega*t1\n",
    "alpha=omega*(1/atan(omegat1))\n",
    "LC=1/((t1**2)+(alpha**2))\n",
    "L=LC/C\n",
    "R=2*L*alpha \n",
    "V=omega*L*10*exp(-alpha*t1)\n",
    "#results\n",
    "print 'The value of circuit inductance is (microhenry) = ',round(L*10**6,2)\n",
    "print '\\nThe value of dynamic resistance is (ohm) = ',round(R,4)\n",
    "print '\\nThe value of charging voltage is (kV) = ',round(V,2)\n",
    "print 'The answers are a bit different due to rounding off error in textbook'"
   ]
  },
  {
   "cell_type": "markdown",
   "metadata": {},
   "source": [
    "## Example 6: pg 199"
   ]
  },
  {
   "cell_type": "code",
   "execution_count": 21,
   "metadata": {
    "collapsed": false
   },
   "outputs": [
    {
     "name": "stdout",
     "output_type": "stream",
     "text": [
      "The time to front is (microsecond) =  2.19\n",
      "\n",
      "The time to tail is (microsecond) =  46.7\n"
     ]
    }
   ],
   "source": [
    "#example 6.6\n",
    "#calculation of front and tail time\n",
    "\n",
    "#given data\n",
    "n=12#number of stages\n",
    "C=0.126*10**-6#capacitance(in Farad)\n",
    "R1=800#wavefront resistance(in ohm)\n",
    "R2=5000#xavetail resistance(in ohm)\n",
    "C2=1000*10**-12#load capacitance(in Farad)\n",
    "\n",
    "\n",
    "#calculation\n",
    "C1=C/n\n",
    "t1=3*R1*(C1*C2)/(C1+C2)\n",
    "t2=0.7*(R1+R2)*(C1+C2)\n",
    "#results\n",
    "print 'The time to front is (microsecond) = ',round(t1*10**6,2)\n",
    "print '\\nThe time to tail is (microsecond) = ',round(t2*10**6,1)\n"
   ]
  },
  {
   "cell_type": "markdown",
   "metadata": {},
   "source": [
    "## Example 7: pg 200"
   ]
  },
  {
   "cell_type": "code",
   "execution_count": 29,
   "metadata": {
    "collapsed": false
   },
   "outputs": [
    {
     "name": "stdout",
     "output_type": "stream",
     "text": [
      "The value of highest resonant frequency produced is (kHz) =  8.04714659485\n",
      "\n",
      "The peak value of output voltage is (kV) -  209.631374545\n",
      "The answers are a bit different due to rounding off error in textbook\n"
     ]
    }
   ],
   "source": [
    "#example 6.7\n",
    "#calculation of peak value of output voltage and highest resonant frequency produced\n",
    "from cmath import sqrt,pi\n",
    "#given data\n",
    "V=10.*10**3#voltage(in V) at primary winding\n",
    "L1=10.*10**-3#inductance(in H)\n",
    "L2=200.*10**-3#inductance(in H)\n",
    "K=0.6#coefficient of coupling\n",
    "C1=2.*10**-6#capacitance(in Farad) on primary side\n",
    "C2=1.*10**-9#capacitance(in Farad) on secondary side\n",
    "\n",
    "#calculation\n",
    "M=K*sqrt(L1*L2)\n",
    "omega1=1/sqrt(L1*C1)\n",
    "sigma=sqrt(1-(K**2))\n",
    "omega2=1/sqrt(L2*C2)\n",
    "gama2=sqrt(((omega1**2+omega2**2)/2)+sqrt(((omega1**2+omega2**2)/2)-(sigma**2*omega1**2*omega2**2)))\n",
    "gama1=sqrt(((omega1**2+omega2**2)/2)-sqrt(((omega1**2+omega2**2)/2)-(sigma**2*omega1**2*omega2**2)))\n",
    "fh=gama2/(2*pi)#highest frequency\n",
    "V2p=(V*M)/(sigma*L1*L2*C2*(gama2**2-gama1**2))\n",
    "#results\n",
    "print 'The value of highest resonant frequency produced is (kHz) = ',abs(fh)*10**-3\n",
    "print '\\nThe peak value of output voltage is (kV) - ',abs(V2p)*10**-3\n",
    "\n",
    "#gama1 and gama2 are imaginary numbers....Moreover their magnitudes will also be same....so peak value of output voltage from equation is zero\n",
    "print 'The answers are a bit different due to rounding off error in textbook'"
   ]
  },
  {
   "cell_type": "markdown",
   "metadata": {},
   "source": [
    "## Example 8: pg 201"
   ]
  },
  {
   "cell_type": "code",
   "execution_count": 31,
   "metadata": {
    "collapsed": false
   },
   "outputs": [
    {
     "name": "stdout",
     "output_type": "stream",
     "text": [
      "The value of output voltage is (kV) =  100.0\n",
      "correct answer is 100 kV\n"
     ]
    }
   ],
   "source": [
    "#example 6.8\n",
    "#calculation of output voltage\n",
    "from math import sqrt\n",
    "#given data\n",
    "V1=10.#voltage(in kV) at primary winding \n",
    "C1=2.*10**-6#capacitance(in Farad) on primary side\n",
    "C2=1.*10**-9#capacitance(in Farad) on secondary side\n",
    "pern=5.#energy efficiency(in percentage)\n",
    "\n",
    "#calculation\n",
    "n=pern/100.\n",
    "V2=V1*sqrt(n*C1/C2)\n",
    "#results\n",
    "print 'The value of output voltage is (kV) = ',round(V2,1)\n",
    "print 'correct answer is 100 kV'\n"
   ]
  },
  {
   "cell_type": "markdown",
   "metadata": {},
   "source": [
    "## Example 9: pg 201"
   ]
  },
  {
   "cell_type": "code",
   "execution_count": 32,
   "metadata": {
    "collapsed": false
   },
   "outputs": [
    {
     "name": "stdout",
     "output_type": "stream",
     "text": [
      "The value of self capacitance is (nF) =  1.126\n",
      "\n",
      "The value of leakage reactance is (kohm) =  28.0\n"
     ]
    }
   ],
   "source": [
    "#example 6.9\n",
    "#calculation of self capacitance and leakage reactance\n",
    "from math import pi\n",
    "#given data\n",
    "Vi=350.*10**3#rating(in VA)\n",
    "V=350.*10**3#secondary voltage(in V)\n",
    "V1=6.6*10**3#primary voltage(in V)\n",
    "perV=8.#percentage ratedd voltage\n",
    "perR=1.#percentage rise\n",
    "f=50.#frequency(in Hz)\n",
    "\n",
    "#calculation\n",
    "I=Vi/V\n",
    "Xl=(perV*V)/(100*I)\n",
    "I0=perR*V/(100*Xl)\n",
    "Xc=((1+(perR/100))*V)/I0\n",
    "C=1/(Xc*2*pi*f)\n",
    "#results\n",
    "print 'The value of self capacitance is (nF) = ',round(C*10**9,3)\n",
    "print '\\nThe value of leakage reactance is (kohm) = ',round(Xl*10**-3)\n"
   ]
  },
  {
   "cell_type": "markdown",
   "metadata": {},
   "source": [
    "## Example 10: pg 202"
   ]
  },
  {
   "cell_type": "code",
   "execution_count": 33,
   "metadata": {
    "collapsed": false
   },
   "outputs": [
    {
     "name": "stdout",
     "output_type": "stream",
     "text": [
      "The value of resistance for 1/50 microsecond voltage is (ohm) =  70.6\n",
      "\n",
      "The value of inductance for 1/50 microsecond voltage is (microhenry) =  11.6\n",
      "\n",
      "The value of output voltage is (kV) =  9.88\n",
      "\n",
      "The value of inductance for 8/20 microsecond voltage is (microhenry) =  65.0\n",
      "\n",
      "The value of resistance for 8/20 microsecond voltage is (ohm) =  6.955\n",
      "\n",
      "The peak value of current is (A) =  714.0\n"
     ]
    }
   ],
   "source": [
    "#example 6.10\n",
    "#calculation of resistance and inductance\n",
    "\n",
    "#given data\n",
    "CR=70.6#value from table\n",
    "LC=11.6#value from table\n",
    "C=1#capacitance(in microfarad)\n",
    "pern=98.8#percentage voltage efficiency\n",
    "V=10.#rating(in kV)\n",
    "LC2=65.#value from table\n",
    "alpha=0.0535#value from table\n",
    "\n",
    "#calculation\n",
    "R=CR/C\n",
    "L=LC/C\n",
    "Vo=pern*V/100\n",
    "L2=LC2/C\n",
    "R2=2*L2*alpha\n",
    "Ip=V*C/14.\n",
    "\n",
    "print 'The value of resistance for 1/50 microsecond voltage is (ohm) = ',round(R,1)\n",
    "print '\\nThe value of inductance for 1/50 microsecond voltage is (microhenry) = ',round(L,1)\n",
    "print '\\nThe value of output voltage is (kV) = ',round(Vo,2)\n",
    "print '\\nThe value of inductance for 8/20 microsecond voltage is (microhenry) = ',round(L2)\n",
    "print '\\nThe value of resistance for 8/20 microsecond voltage is (ohm) = ',round(R2,3)\n",
    "print '\\nThe peak value of current is (A) = ',round(Ip*10**3)\n"
   ]
  }
 ],
 "metadata": {
  "kernelspec": {
   "display_name": "Python 2",
   "language": "python",
   "name": "python2"
  },
  "language_info": {
   "codemirror_mode": {
    "name": "ipython",
    "version": 2
   },
   "file_extension": ".py",
   "mimetype": "text/x-python",
   "name": "python",
   "nbconvert_exporter": "python",
   "pygments_lexer": "ipython2",
   "version": "2.7.11"
  }
 },
 "nbformat": 4,
 "nbformat_minor": 0
}
