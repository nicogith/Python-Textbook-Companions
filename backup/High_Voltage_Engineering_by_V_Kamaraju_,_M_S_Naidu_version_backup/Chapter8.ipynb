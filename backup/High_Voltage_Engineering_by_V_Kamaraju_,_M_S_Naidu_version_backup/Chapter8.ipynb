{
 "cells": [
  {
   "cell_type": "markdown",
   "metadata": {},
   "source": [
    "# Chapter 8: Overvoltage phenomenon and Insulation coordination in electric power systems"
   ]
  },
  {
   "cell_type": "markdown",
   "metadata": {},
   "source": [
    "## Example 1: pg 350 "
   ]
  },
  {
   "cell_type": "code",
   "execution_count": 1,
   "metadata": {
    "collapsed": false
   },
   "outputs": [
    {
     "name": "stdout",
     "output_type": "stream",
     "text": [
      "The value of surge impedance is (ohm) =  374.2\n",
      "\n",
      "The value of velocity is  3.0e+05  km/s\n",
      "\n",
      "The time taken by the surge to travel to the other end is (ms) =  1.35\n"
     ]
    }
   ],
   "source": [
    "#example 8.1\n",
    "#calculation of surge impedance,velocity and time taken by the surge to travel to the other end\n",
    "from math import sqrt\n",
    "#given data\n",
    "L=1.26*10**-3#inductance(in H/km)\n",
    "C=0.009*10**-6#capacitance(in F/km)\n",
    "l=400.#length(in km) of the transmission line\n",
    "\n",
    "#calculation\n",
    "v=1/sqrt(L*C)\n",
    "Xs=sqrt(L/C)\n",
    "t=l/v\n",
    "#results\n",
    "print 'The value of surge impedance is (ohm) = ',round(Xs,1)\n",
    "print '%s %.1e %s' %('\\nThe value of velocity is ',v,' km/s')\n",
    "print '\\nThe time taken by the surge to travel to the other end is (ms) = ',round(t*10**3,2)\n"
   ]
  },
  {
   "cell_type": "markdown",
   "metadata": {},
   "source": [
    "## Example 2: pg 350"
   ]
  },
  {
   "cell_type": "code",
   "execution_count": 2,
   "metadata": {
    "collapsed": false
   },
   "outputs": [
    {
     "name": "stdout",
     "output_type": "stream",
     "text": [
      "The value of the voltage build up at the junction is (kV) =  893.0\n"
     ]
    }
   ],
   "source": [
    "#example 8.2\n",
    "#calculation of the voltage build up at the junction\n",
    "\n",
    "#given data\n",
    "Z1=500.#surge impedance(in ohm) of transmission line\n",
    "Z2=60.#surge impedance(in ohm) of cable\n",
    "e=500.#value of surge(in kV)\n",
    "\n",
    "#calculation\n",
    "tau=(Z1-Z2)/(Z2+Z1)#coefficient of reflection\n",
    "Vj=(1+tau)*e\n",
    "#results\n",
    "print 'The value of the voltage build up at the junction is (kV) = ',round(Vj)\n"
   ]
  },
  {
   "cell_type": "markdown",
   "metadata": {},
   "source": [
    "## Example 5: pg 352"
   ]
  },
  {
   "cell_type": "code",
   "execution_count": 3,
   "metadata": {
    "collapsed": false
   },
   "outputs": [
    {
     "name": "stdout",
     "output_type": "stream",
     "text": [
      "When wave travels along the cable,the transmitted voltage is (kV) =  374.85\n",
      "\n",
      "When wave travels along the cable,the reflected voltage is (kV) =  174.85\n",
      "\n",
      "When wave travels along the cable,the transmitted current is (kA) =  1.002\n",
      "\n",
      "When wave travels along the cable,the reflected current is (kA) =  6.97\n",
      "\n",
      "When wave travels along the line,the transmitted voltage is (kV) =  25.15\n",
      "\n",
      "When wave travels along the line,the reflected voltage is (kV) =  -174.85\n",
      "\n",
      "When wave travels along the line,the transmitted current is (kA) =  1.002\n",
      "\n",
      "When wave travels along the line,the reflected current is  0.467  kA or  467.0 A\n"
     ]
    }
   ],
   "source": [
    "#example 8.5\n",
    "#calculation of the transmitted,reflected voltage and current waves\n",
    "from math import sqrt\n",
    "#given data\n",
    "L1=0.189*10**-3#inductance(in H/km) of the cable\n",
    "C1=0.3*10**-6#capacitance(in Farad/km) of the cable\n",
    "L2=1.26*10**-3#inductance(in H/km) of the overhead line\n",
    "C2=0.009*10**-6#capacitance(in Farad/km) of the overhead line\n",
    "e=200.*10**3#surge volatge(in kV)\n",
    "\n",
    "#calculation\n",
    "Z1=sqrt(L1/C1)#surge impedance of the cable\n",
    "Z2=sqrt(L2/C2)#surge impedance of the line\n",
    "tau=(Z2-Z1)/(Z2+Z1)#when wave travels along the cable\n",
    "edash=tau*e#reflected wave\n",
    "edashdash=(1+tau)*e#transmitted wave\n",
    "Idash=edash/Z1#reflected current wave\n",
    "Idashdash=edashdash/Z2#transmitted current wave\n",
    "Z2n=Z1\n",
    "Z1n=Z2\n",
    "taun=(Z2n-Z1n)/(Z2n+Z1n)#when wave travels along the line\n",
    "edashn=taun*e#reflected wave\n",
    "edashdashn=(1+taun)*e#transmitted wave\n",
    "Idashdashn=edashdashn/Z2n#transmitted current wave\n",
    "Idashn=edashn/Z1n#reflected current wave\n",
    "#results\n",
    "print 'When wave travels along the cable,the transmitted voltage is (kV) = ',round(edashdash*10**-3,2)\n",
    "print '\\nWhen wave travels along the cable,the reflected voltage is (kV) = ',round(edash*10**-3,2)\n",
    "print '\\nWhen wave travels along the cable,the transmitted current is (kA) = ',round(Idashdash*10**-3,3)\n",
    "print '\\nWhen wave travels along the cable,the reflected current is (kA) = ',round(Idash*10**-3,2) \n",
    "print '\\nWhen wave travels along the line,the transmitted voltage is (kV) = ',round(edashdashn*10**-3,2)\n",
    "print '\\nWhen wave travels along the line,the reflected voltage is (kV) = ',round(edashn*10**-3,2)\n",
    "print '\\nWhen wave travels along the line,the transmitted current is (kA) = ',round(Idashdashn*10**-3,3)\n",
    "print '\\nWhen wave travels along the line,the reflected current is ',round(abs(Idashn*10**-3),3),' kA or ',round(abs(Idashn)),'A' \n"
   ]
  },
  {
   "cell_type": "markdown",
   "metadata": {},
   "source": [
    "## Example 6: pg 353"
   ]
  },
  {
   "cell_type": "code",
   "execution_count": 4,
   "metadata": {
    "collapsed": false
   },
   "outputs": [
    {
     "name": "stdout",
     "output_type": "stream",
     "text": [
      "The value of voltage at the receiving end in Bewley lattice diagram is  0.9756 u(t) V\n"
     ]
    }
   ],
   "source": [
    "#example 8.6\n",
    "#calculation of value of voltage at the receiving end in Bewley lattice diagram\n",
    "\n",
    "#given data\n",
    "alpha=0.8\n",
    "\n",
    "#calculation\n",
    "Vut=2*alpha/(1+alpha**2)\n",
    "#results\n",
    "print 'The value of voltage at the receiving end in Bewley lattice diagram is ',round(Vut,4),'u(t) V'\n"
   ]
  },
  {
   "cell_type": "markdown",
   "metadata": {},
   "source": [
    "## Example 7: pg 355"
   ]
  },
  {
   "cell_type": "code",
   "execution_count": 5,
   "metadata": {
    "collapsed": false
   },
   "outputs": [
    {
     "name": "stdout",
     "output_type": "stream",
     "text": [
      "The sparkover voltage for terminated line is (kV) =  347.0\n",
      "\n",
      "The arrester current for terminated line is (kA) =  5.0\n",
      "\n",
      "The sparkover voltage for continuous line is (kV) =  294.0\n",
      "\n",
      "The arrester current for continuous line is (kA) =  2.5\n"
     ]
    }
   ],
   "source": [
    "#example 8.7\n",
    "#calculation of sparkover voltage and the arrester current\n",
    "\n",
    "#given data\n",
    "Xs=400.#surge impedance(in ohm)\n",
    "Xv=1000.#surge voltage(in kV)\n",
    "\n",
    "#calculation\n",
    "#for line terminated\n",
    "Iam=2*Xv/Xs#maximum arrester current\n",
    "#as Iam = 5 kA   from graph Vd = 330 kV\n",
    "Vd=330.#sparkover voltage(in kV)\n",
    "Vso=Vd+(Vd*5./100)\n",
    "#for continuous line\n",
    "Iamn=Xv/Xs#maximum arrester current\n",
    "#as Iamn = 2.5 kA   from graph   Vdn = 280 kV\n",
    "Vdn=280#sparkover voltage(in kV)\n",
    "Vson=Vdn+(Vdn*5./100)\n",
    "#results\n",
    "print 'The sparkover voltage for terminated line is (kV) = ',round(Vso)\n",
    "print '\\nThe arrester current for terminated line is (kA) = ',round(Iam)\n",
    "print '\\nThe sparkover voltage for continuous line is (kV) = ',round(Vson)\n",
    "print '\\nThe arrester current for continuous line is (kA) = ',round(Iamn,1)\n",
    "#values of sparover voltages are\n",
    "#for terminated line = 346 kV\n",
    "#for continuous line = 294 kV\n"
   ]
  },
  {
   "cell_type": "markdown",
   "metadata": {},
   "source": [
    "## Example 8: pg 356"
   ]
  },
  {
   "cell_type": "code",
   "execution_count": 6,
   "metadata": {
    "collapsed": false
   },
   "outputs": [
    {
     "name": "stdout",
     "output_type": "stream",
     "text": [
      "Neglecting resistance of line,the rise in voltage at the other end is (kV) =  11.89\n",
      "\n",
      "Considering all the parameters,the rise in voltage at the other end is (kV) =  94.5\n"
     ]
    }
   ],
   "source": [
    "#example 8.8\n",
    "#calculation of rise in voltage at the other end\n",
    "from cmath import pi,sqrt,cos\n",
    "#given data\n",
    "R=0.1#resistance(in ohm/km)\n",
    "L=1.26*10**-3#inductance(in H/km)\n",
    "C=0.009*10**-6#capacitance(in F/km)\n",
    "l=400#length(in km) of the line\n",
    "V1=230#line voltage(in kV)\n",
    "f=50#frequency(in Hz)\n",
    "G=0\n",
    "\n",
    "#calculation\n",
    "#Neglecting resistance of line\n",
    "V1p=V1/sqrt(3)\n",
    "omega=2*pi*f\n",
    "Xl=complex(0,omega*L*l)\n",
    "Xc=complex(0,-1/(omega*C*l))\n",
    "V2=V1p*((1-(Xl/(2*Xc)))-1)\n",
    "\n",
    "#Considering all the parameters\n",
    "omegaL=complex(0,omega*L)\n",
    "omegaC=complex(0,omega*C)\n",
    "i=l*sqrt((R+omegaL)*(G+omegaC))\n",
    "betal=i.imag*l\n",
    "V2n=V1p/cos(betal)\n",
    "\n",
    "print 'Neglecting resistance of line,the rise in voltage at the other end is (kV) = ',round(V2.real,2)\n",
    "print '\\nConsidering all the parameters,the rise in voltage at the other end is (kV) = ',round(V2n.real-V1p.real,2)\n",
    "\n",
    "#By considering all the parameters the rise in voltage at the other end is 94.50 kV\n"
   ]
  },
  {
   "cell_type": "markdown",
   "metadata": {},
   "source": [
    "## Example 9: pg 357"
   ]
  },
  {
   "cell_type": "code",
   "execution_count": 7,
   "metadata": {
    "collapsed": false
   },
   "outputs": [
    {
     "name": "stdout",
     "output_type": "stream",
     "text": [
      "The protective margin for lightning impulses is (percentage) =  34.3\n",
      "\n",
      "The protective margin for switching gears is (percentage) =  27.6\n",
      "\n",
      "The margin when lightning arrester just sparks is (percentage) =  27.6\n"
     ]
    }
   ],
   "source": [
    "#example 8.9\n",
    "#working out of insulation coordination\n",
    "from math import sqrt\n",
    "#given data\n",
    "V=220.#voltage(in kV) of substation\n",
    "BIL=1050.#value of BIL(in kV)\n",
    "BtoS=1.24#ratio of BIL to SIL\n",
    "\n",
    "#calculation\n",
    "Vh=245.#highest voltage(in kV)\n",
    "Vg=Vh*sqrt(2.)/sqrt(3)#highest system voltage\n",
    "Vs=3*Vg#expected switching voltage(in kV)\n",
    "Vfw=760.#impulse sparkover voltage(in kV)\n",
    "Vd1=690.#discharge voltage(in kV) for 5 kA\n",
    "Vd2=615.#discharge voltage(in kV) for 2 kA\n",
    "#SIL = BIL/BtoS = 846 ~ 850 kV\n",
    "SIL=850.#value of SIL(in kV)\n",
    "Pmlig=(BIL-Vd1)/BIL#protective margin for lightning impulses\n",
    "Pmswi=(SIL-Vd2)/SIL#protective margin for switching gears\n",
    "Pmspr=(BIL-Vfw)/BIL#margin when lightning arrester just sparks\n",
    "#results\n",
    "print 'The protective margin for lightning impulses is (percentage) = ',round(Pmlig*100,1)\n",
    "print '\\nThe protective margin for switching gears is (percentage) = ',round(Pmswi*100,1)\n",
    "print '\\nThe margin when lightning arrester just sparks is (percentage) = ',round(Pmspr*100,1)\n"
   ]
  }
 ],
 "metadata": {
  "kernelspec": {
   "display_name": "Python 2",
   "language": "python",
   "name": "python2"
  },
  "language_info": {
   "codemirror_mode": {
    "name": "ipython",
    "version": 2
   },
   "file_extension": ".py",
   "mimetype": "text/x-python",
   "name": "python",
   "nbconvert_exporter": "python",
   "pygments_lexer": "ipython2",
   "version": "2.7.11"
  }
 },
 "nbformat": 4,
 "nbformat_minor": 0
}
