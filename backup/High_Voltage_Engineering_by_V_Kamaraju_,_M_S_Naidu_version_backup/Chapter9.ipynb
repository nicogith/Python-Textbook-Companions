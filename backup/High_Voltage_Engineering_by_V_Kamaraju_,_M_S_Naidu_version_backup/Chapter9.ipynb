{
 "cells": [
  {
   "cell_type": "markdown",
   "metadata": {},
   "source": [
    "# Chapter 9: Non Destructive testing of materials and electrical apparatus"
   ]
  },
  {
   "cell_type": "markdown",
   "metadata": {},
   "source": [
    "## Example 1: pg 395"
   ]
  },
  {
   "cell_type": "code",
   "execution_count": 1,
   "metadata": {
    "collapsed": false
   },
   "outputs": [
    {
     "name": "stdout",
     "output_type": "stream",
     "text": [
      "The volume resistivity is (ohmcm) =  1.226e+14\n"
     ]
    }
   ],
   "source": [
    "#example 9.1\n",
    "#calculation of the volume resistivity\n",
    "from math import pi\n",
    "#given data\n",
    "V=1000.#applied voltage(in V)\n",
    "Rs=10**7#standard resistance(in ohm)\n",
    "n=3000.#universal shunt ratio\n",
    "Ds=33.3#deflection(in cm) for Rs\n",
    "D=3.2#deflection(in cm)\n",
    "d=10.#diameter(in cm) of the electrodes\n",
    "t=2*10**-1#thickness(in cm) of the specimen\n",
    "\n",
    "#calculation\n",
    "G=V/(Rs*n*Ds)#galvanometer sensitivity\n",
    "R=V/(D*G)#resistance of the specimen\n",
    "r=d/2#radius of the electrodes\n",
    "rho=(pi*r**2*R)/t#volume resistivity\n",
    "#results\n",
    "print '%s %.3e' %('The volume resistivity is (ohmcm) = ',rho)\n"
   ]
  },
  {
   "cell_type": "markdown",
   "metadata": {},
   "source": [
    "## Example 2: pg 395"
   ]
  },
  {
   "cell_type": "code",
   "execution_count": 2,
   "metadata": {
    "collapsed": false
   },
   "outputs": [
    {
     "name": "stdout",
     "output_type": "stream",
     "text": [
      "The resistivity of the specimen is (ohmcm) =  1.031e+13\n"
     ]
    }
   ],
   "source": [
    "#example 9.2\n",
    "#calculation of resistivity of the specimen\n",
    "import math\n",
    "from math import log\n",
    "#given data\n",
    "tm=30.#time (in minute)\n",
    "ts=20.#time(in second)\n",
    "Vn=1000.#voltage(in V) to which the condenser was charged\n",
    "V=500.#voltage(in V) fall to\n",
    "C=0.1*10**-6#capacitance(in Farad)\n",
    "d=10.#diameter(in cm) of the electrodes\n",
    "th=2*10**-1#thickness(in cm) of the specimen\n",
    "\n",
    "#calculation\n",
    "t=(tm*60)+ts\n",
    "R=t/(C*log(Vn/V))#resistance\n",
    "r=d/2#radius of the electrodes\n",
    "rho=(math.pi*r**2*R)/th#volume resistivity\n",
    "#results\n",
    "print '%s %.3e' %('The resistivity of the specimen is (ohmcm) = ',rho)\n"
   ]
  },
  {
   "cell_type": "markdown",
   "metadata": {},
   "source": [
    "## Example 3: pg  396"
   ]
  },
  {
   "cell_type": "code",
   "execution_count": 4,
   "metadata": {
    "collapsed": false
   },
   "outputs": [
    {
     "name": "stdout",
     "output_type": "stream",
     "text": [
      "The dielectric constant is  4.2\n",
      "The complex permittivity(in F/m)is  3.714e-11 -4.456e-14 j\n"
     ]
    }
   ],
   "source": [
    "#example 9.3\n",
    "#calculation of dielectric constant and complex permittivity of bakelite\n",
    "from cmath import pi\n",
    "#given data\n",
    "C=147*10**-12#capacitance(in Farad)\n",
    "Ca=35*10**-12#air capacitance(in Farad)\n",
    "tandelta=0.0012\n",
    "epsilon0=(36*pi*10**9)**-1#electrical permittivity(in F/m) of free space\n",
    "\n",
    "\n",
    "#calculation\n",
    "epsilonr=C/Ca#dielectric constant\n",
    "Kdash=epsilonr\n",
    "Kdashdash=tandelta*Kdash\n",
    "Kim=complex(Kdash,-Kdashdash)\n",
    "epsilonast=epsilon0*Kim\n",
    "\n",
    "print 'The dielectric constant is ',epsilonr\n",
    "print '%s %.3e %.3e %s' %('The complex permittivity(in F/m)is ',epsilonast.real,epsilonast.imag,'j')\n"
   ]
  },
  {
   "cell_type": "markdown",
   "metadata": {},
   "source": [
    "## Example 4: pg 396"
   ]
  },
  {
   "cell_type": "code",
   "execution_count": 5,
   "metadata": {
    "collapsed": false
   },
   "outputs": [
    {
     "name": "stdout",
     "output_type": "stream",
     "text": [
      "The capacitance is (pF) =  500.0\n",
      "\n",
      "The value of tandelta of bushing is  0.00125\n"
     ]
    }
   ],
   "source": [
    "#example 9.4\n",
    "#calculation of capacitance and tandelta of bushing\n",
    "from math import pi\n",
    "#given data\n",
    "R3=3180.#resistance(in ohm)\n",
    "R4=636.#resistance(in ohm)\n",
    "Cs=100.#standard condenser(in pF)\n",
    "f=50.#frequency(in Hz)\n",
    "C3=0.00125*10**-6#capacitance(in farad)\n",
    "\n",
    "#calculation\n",
    "omega=2*pi*f\n",
    "Cx=R3*Cs/R4#unknown capacitance\n",
    "tandelta=omega*C3*R3\n",
    "#results\n",
    "print 'The capacitance is (pF) = ',Cx\n",
    "print '\\nThe value of tandelta of bushing is ',round(tandelta,5)\n"
   ]
  },
  {
   "cell_type": "markdown",
   "metadata": {},
   "source": [
    "## Example 5: pg 396"
   ]
  },
  {
   "cell_type": "code",
   "execution_count": 6,
   "metadata": {
    "collapsed": false
   },
   "outputs": [
    {
     "name": "stdout",
     "output_type": "stream",
     "text": [
      "The dielectric constant is  2.19\n",
      "\n",
      "The value of tandelta of the transformer oil is  0.00044\n"
     ]
    }
   ],
   "source": [
    "#example 9.5\n",
    "#calculation of dielectric constant and tandelta of the transformer oil\n",
    "\n",
    "#given data\n",
    "f=1*10**3#frequency(in Hz)\n",
    "C1=504.#capacitance(in pF) for standard condenser and leads\n",
    "D1=0.0003#dissipation factor for standard condenser and leads\n",
    "C2=525.#capacitance(in pF) for standard condenser in parallel with the empty test cell\n",
    "D2=0.00031#dissipation factor for standard condenser in parallel with the empty test cell\n",
    "C3=550.#capacitance(in pF) for standard condenser in parallel with the test cell and oil\n",
    "D3=0.00075#dissipation factor for standard condenser in parallel with the test cell and oil\n",
    "\n",
    "#calculation\n",
    "Ctc=C2-C1#capacitance of the test cell\n",
    "Ctcoil=C3-C1#capacitance of the test cell + oil\n",
    "epsilonr=Ctcoil/Ctc#dielectric constant of oil\n",
    "deltaDoil=D3-D2#deltaD of oil\n",
    "#results\n",
    "print 'The dielectric constant is ',round(epsilonr,2)\n",
    "print '\\nThe value of tandelta of the transformer oil is ',round(deltaDoil,5)\n"
   ]
  },
  {
   "cell_type": "markdown",
   "metadata": {},
   "source": [
    "## Example 6: pg 397"
   ]
  },
  {
   "cell_type": "code",
   "execution_count": 7,
   "metadata": {
    "collapsed": false
   },
   "outputs": [
    {
     "name": "stdout",
     "output_type": "stream",
     "text": [
      "The charge transferred from the cavity is (pC) =  0.92\n"
     ]
    }
   ],
   "source": [
    "#example 9.6\n",
    "#calculation of magnitude of the charge transferred from the cavity\n",
    "from math import pi\n",
    "#given data\n",
    "Vd=0.2#discharge voltage(in V)\n",
    "s=1#sensitivity(in pC/V)\n",
    "epsilonr=2.5#relative permittivity\n",
    "epsilon0=(36*pi*10**9)**-1#electrical permittivity(in F/m) of free space\n",
    "d1=1*10**-2#diameter(in m) of the cylindrical disc\n",
    "t1=1*10**-2#thickness(in m) of the cylindrical disc\n",
    "d2=1*10**-3#diameter(in m) of the cylindrical cavity\n",
    "t2=1*10**-3#thickness(in m) of the cylindrical cavity\n",
    "\n",
    "\n",
    "#calculation\n",
    "Dm=Vd*s#discharge magnitude\n",
    "Ca=epsilon0*(pi*(d2/2)**2)/t2#capacitance of the cavity\n",
    "Cb=epsilon0*epsilonr*(pi*(d2/2)**2)/(t1-t2)#capacitance\n",
    "qc=((Ca+Cb)/Cb)*Dm\n",
    "#results\n",
    "print 'The charge transferred from the cavity is (pC) = ',round(qc,2)\n"
   ]
  },
  {
   "cell_type": "markdown",
   "metadata": {},
   "source": [
    "## Example 7: pg 397"
   ]
  },
  {
   "cell_type": "code",
   "execution_count": 8,
   "metadata": {
    "collapsed": false
   },
   "outputs": [
    {
     "name": "stdout",
     "output_type": "stream",
     "text": [
      "The dielectric constant is  5.8\n",
      "\n",
      "The loss factor tandelta is  5e-06\n"
     ]
    }
   ],
   "source": [
    "#example 9.7\n",
    "#calculation of dielectric constant and loss factor tandelta\n",
    "from math import pi\n",
    "#given data\n",
    "R3=1000./pi#resistance(in ohm) in CD branch\n",
    "R4=62.#variable resistance(in ohm)\n",
    "Cs=100.*10**-12#standard capacitance(in F)\n",
    "epsilon0=8.854*10**-12#electrical permittivity(in F/m) of free space\n",
    "f=50.#frequency(in Hz)\n",
    "C3=50.*10**-9#variable capacitor(in F)\n",
    "d=1.*10**-3#thickness(in m) of sheet\n",
    "a=100.*10**-4#electrode effective area(in m**2)\n",
    "\n",
    "#calculation\n",
    "Cx=R3*Cs/R4\n",
    "epsilonr=Cx*d/(epsilon0*a)\n",
    "omega=2*pi*f\n",
    "tandelta=omega*C3*R3*d\n",
    "#results\n",
    "print 'The dielectric constant is ',round(epsilonr,2)\n",
    "print '\\nThe loss factor tandelta is ',round(tandelta,7)\n",
    "#In equation of tandelta d is multiplied\n"
   ]
  },
  {
   "cell_type": "markdown",
   "metadata": {},
   "source": [
    "## Example 8: pg 398"
   ]
  },
  {
   "cell_type": "code",
   "execution_count": 9,
   "metadata": {
    "collapsed": false
   },
   "outputs": [
    {
     "name": "stdout",
     "output_type": "stream",
     "text": [
      "The voltage across AD branch at balance is (V) =  0.1\n"
     ]
    }
   ],
   "source": [
    "#example 9.8\n",
    "#calculation of voltage at balance\n",
    "from math import pi,sqrt\n",
    "#given data\n",
    "V=10000#applied voltage(in V)\n",
    "R3=1000/pi#resistance(in ohm) in CD branch\n",
    "R4=62#variable resistance(in ohm)\n",
    "Cs=100*10**-12#standard capacitance(in F)\n",
    "f=50#frequency(in Hz)\n",
    "C3=50*10**-9#variable capacitor(in F)\n",
    "\n",
    "#calculation\n",
    "Rx=C3*R4/Cs\n",
    "Cx=R3*Cs/R4\n",
    "omega=2*pi*f\n",
    "zx=complex(Rx,-1/(omega*Cx))\n",
    "VR4=R4*V/(R4+zx)\n",
    "MVR4=sqrt((VR4.real)**2+VR4.imag**2)#magnitude\n",
    "#results\n",
    "print 'The voltage across AD branch at balance is (V) = ',round(MVR4,1)\n"
   ]
  },
  {
   "cell_type": "markdown",
   "metadata": {},
   "source": [
    "## Example 9: pg 399"
   ]
  },
  {
   "cell_type": "code",
   "execution_count": 11,
   "metadata": {
    "collapsed": false
   },
   "outputs": [
    {
     "name": "stdout",
     "output_type": "stream",
     "text": [
      "The maximum value of capacitance is (nF) =  11.1\n",
      "\n",
      "The minimum value of capacitance is (pF) =  10.0\n",
      "\n",
      "The maximum value of tandelta is  3.87\n",
      "\n",
      "The minimum value of tandelta is  3.14e-05\n"
     ]
    }
   ],
   "source": [
    "#example 9.9\n",
    "#calculation of maximum and minimum value of capacitance and tandelta\n",
    "from math import pi\n",
    "#given data\n",
    "R3min=100.#minimum value of R3 resistance(in ohm)\n",
    "R3max=11100.#maximum value of R3 resistance(in ohm)\n",
    "R4min=100.#minimum value of R4 resistance(in ohm)\n",
    "R4max=1000.#maximum value of R4 resistance(in ohm)\n",
    "Cs=100.*10**-12#standard capacitance(in farad)\n",
    "C3min=1.*10**-9#minimum value of C3 capacitance(in farad)\n",
    "C3max=1.11*10**-6#maximum value of C3 capacitance(in farad)\n",
    "f=50.#frequency(in Hz)\n",
    "\n",
    "#calculation\n",
    "Cxmax=R3max*Cs/R4min\n",
    "Cxmin=R3min*Cs/R4max\n",
    "omega=2*pi*f\n",
    "tandeltamax=omega*R3max*C3max\n",
    "tandeltamin=omega*R3min*C3min\n",
    "#results\n",
    "print 'The maximum value of capacitance is (nF) = ',round(Cxmax*10**9,1)\n",
    "print '\\nThe minimum value of capacitance is (pF) = ',round(Cxmin*10**12)\n",
    "print '\\nThe maximum value of tandelta is ',round(tandeltamax,2)\n",
    "print '%s %.2e' %('\\nThe minimum value of tandelta is ',tandeltamin)\n"
   ]
  }
 ],
 "metadata": {
  "kernelspec": {
   "display_name": "Python 2",
   "language": "python",
   "name": "python2"
  },
  "language_info": {
   "codemirror_mode": {
    "name": "ipython",
    "version": 2
   },
   "file_extension": ".py",
   "mimetype": "text/x-python",
   "name": "python",
   "nbconvert_exporter": "python",
   "pygments_lexer": "ipython2",
   "version": "2.7.11"
  }
 },
 "nbformat": 4,
 "nbformat_minor": 0
}
