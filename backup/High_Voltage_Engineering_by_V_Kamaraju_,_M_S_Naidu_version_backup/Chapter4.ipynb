{
 "cells": [
  {
   "cell_type": "markdown",
   "metadata": {},
   "source": [
    "# Chapter 4: Breakdown in Soild Dielectrics"
   ]
  },
  {
   "cell_type": "markdown",
   "metadata": {},
   "source": [
    "## Example 1: pg 123"
   ]
  },
  {
   "cell_type": "code",
   "execution_count": 1,
   "metadata": {
    "collapsed": false
   },
   "outputs": [
    {
     "name": "stdout",
     "output_type": "stream",
     "text": [
      "The heat generated in specimen due to dielectric loss is (mW/cm^3) =  0.292\n"
     ]
    }
   ],
   "source": [
    "#example 4.1\n",
    "#calculation of heat generated in specimen due to dielectric loss\n",
    "\n",
    "#given data\n",
    "epsilonr=4.2#value of the dielectric constant\n",
    "tandelta=0.001#value of tandelta\n",
    "f=50#value of frequency(in Hz)\n",
    "E=50*10**3#value of electric field(in V/cm)\n",
    "\n",
    "#calculation\n",
    "#from equation of dielectric heat loss......H=(E*E*f*epsilonr*tandelta)/(1.8*10^12)\n",
    "H=(E*E*f*epsilonr*tandelta)/(1.8*10**12)\n",
    "#results\n",
    "print 'The heat generated in specimen due to dielectric loss is (mW/cm^3) = ',round(H*10**3,3)\n"
   ]
  },
  {
   "cell_type": "markdown",
   "metadata": {},
   "source": [
    "## Example 2: pg 123"
   ]
  },
  {
   "cell_type": "code",
   "execution_count": 4,
   "metadata": {
    "collapsed": false
   },
   "outputs": [
    {
     "name": "stdout",
     "output_type": "stream",
     "text": [
      "the voltage at which an internal discharge can occur is (kV.) =  9.75\n"
     ]
    }
   ],
   "source": [
    "#example 4.2\n",
    "#calculation of voltage at which an internal discharge can occur\n",
    "\n",
    "#given data\n",
    "d1=1#thickness(in mm) of the internal void\n",
    "dt=10#thickness(in mm) of the specimen\n",
    "epsilon0=8.89*10**-12#electrical permittivity(in F/m) of free space\n",
    "epsilonr=4#relative permittivity of the dielectric\n",
    "Vb=3#breakdown strength(in kV/mm) of air\n",
    "\n",
    "#calculation\n",
    "d2=dt-d1\n",
    "epsilon1=epsilon0*epsilonr#electrical permittivity(in F/m) of the dielectric\n",
    "V1=Vb*d1#voltage at which air void of d1 thickness breaks\n",
    "V=(V1*(d1+(epsilon0*d2/epsilon1))/d1)\n",
    "#results\n",
    "print 'the voltage at which an internal discharge can occur is (kV.) = ',round(V,2)\n"
   ]
  },
  {
   "cell_type": "markdown",
   "metadata": {},
   "source": [
    "## Example 3: pg 124"
   ]
  },
  {
   "cell_type": "code",
   "execution_count": 9,
   "metadata": {
    "collapsed": false
   },
   "outputs": [
    {
     "name": "stdout",
     "output_type": "stream",
     "text": [
      "the value of inner diameter of electrodes in coaxial cylindrical capacitor is (cm) =  11.74\n",
      "\n",
      "the value of outer diameter of electrodes in coaxial cylindrical capacitor is (cm) =  12.04\n",
      "\n",
      "the thickness of the insulation is (mm) =  3.0\n"
     ]
    }
   ],
   "source": [
    "#example 4.3\n",
    "#calculation of the dimensions of electrodes in coaxial cylindrical capacitor\n",
    "from math import pi,exp\n",
    "#given data\n",
    "epsilon0=(36*pi*10**9)**-1#electrical permittivity(in F/m) of free space\n",
    "#consider high density polyethylene as the dielectric material\n",
    "epsilonr=2.3#relative permittivity of high density polyethylene\n",
    "l=0.2#effective length(in m)\n",
    "C=1000*10**-12#capacitance(in F) of the capacitor\n",
    "V=15#operating voltage(in kV)\n",
    "Emax=50#maximum stress(in kV/cm) for breakdown stress 200 kV/cm and factor of safety of 4\n",
    "\n",
    "#calculation\n",
    "#from equation of capacitance of coaxial cylindrical capacitor\n",
    "#C=(2*%pi*epsilon0*epsilonr*l)/(lod(d2/d1)).............(1)\n",
    "#from equation of Emax occuring near electrodes\n",
    "#Emax=V/(r1*(log(r2/r1)))...............................(2)\n",
    "#from equation (1) and equation (2),we get\n",
    "logr2byr1=(2*pi*epsilon0*epsilonr*l)/C#logd2/d1 = logr2/r1\n",
    "r1=V/(Emax*logr2byr1)#from equation (1)\n",
    "r2=r1*exp(logr2byr1)\n",
    "#results\n",
    "print 'the value of inner diameter of electrodes in coaxial cylindrical capacitor is (cm) = ',round(r1,2)\n",
    "print '\\nthe value of outer diameter of electrodes in coaxial cylindrical capacitor is (cm) = ',round(r2,2)\n",
    "print '\\nthe thickness of the insulation is (mm) = ',round((r2-r1)*10,1)\n",
    "\n"
   ]
  }
 ],
 "metadata": {
  "kernelspec": {
   "display_name": "Python 2",
   "language": "python",
   "name": "python2"
  },
  "language_info": {
   "codemirror_mode": {
    "name": "ipython",
    "version": 2
   },
   "file_extension": ".py",
   "mimetype": "text/x-python",
   "name": "python",
   "nbconvert_exporter": "python",
   "pygments_lexer": "ipython2",
   "version": "2.7.11"
  }
 },
 "nbformat": 4,
 "nbformat_minor": 0
}
