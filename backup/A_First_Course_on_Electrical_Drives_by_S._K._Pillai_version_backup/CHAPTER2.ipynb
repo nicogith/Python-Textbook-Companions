{
 "metadata": {
  "name": "",
  "signature": "sha256:c86cf1f26eadab2a84870e3bf099f77c1edd6e808c6d98e5248f9bca159fb338"
 },
 "nbformat": 3,
 "nbformat_minor": 0,
 "worksheets": [
  {
   "cells": [
    {
     "cell_type": "heading",
     "level": 1,
     "metadata": {},
     "source": [
      "CHAPTER 2 - DYNAMICS OF ELECTRICAL DRIVES"
     ]
    },
    {
     "cell_type": "heading",
     "level": 2,
     "metadata": {},
     "source": [
      "EXAMPLE 2.3 - PG NO. 29"
     ]
    },
    {
     "cell_type": "code",
     "collapsed": false,
     "input": [
      "#example 2.3\n",
      "#page no. 29\n",
      "#calculate the max additional load\n",
      "import math\n",
      "Pm=0.74\n",
      "teta1=30\n",
      "teta2=45\n",
      "print('a1=0.026*Pm')\n",
      "print('a2=0.304*Pm')\n",
      "print(\"since a2 > a1 ,the drive is stable\")\n",
      "load=Pm*math.sin(math.degrees(60.5))\n",
      "print('maximum safe load =1.74*Pl1')\n",
      "print'%s %.2f %s' %('So, additional load that can be thrown on the shaft =',Pm,'rated load')\n"
     ],
     "language": "python",
     "metadata": {},
     "outputs": [
      {
       "output_type": "stream",
       "stream": "stdout",
       "text": [
        "a1=0.026*Pm\n",
        "a2=0.304*Pm\n",
        "since a2 > a1 ,the drive is stable\n",
        "maximum safe load =1.74*Pl1\n",
        "So, additional load that can be thrown on the shaft = 0.74 rated load\n"
       ]
      }
     ],
     "prompt_number": 1
    },
    {
     "cell_type": "code",
     "collapsed": false,
     "input": [],
     "language": "python",
     "metadata": {},
     "outputs": []
    }
   ],
   "metadata": {}
  }
 ]
}