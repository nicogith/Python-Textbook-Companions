{
 "metadata": {
  "name": "",
  "signature": "sha256:db271cf054287ba3955a22495e3d3573daeca2805ad6038b72c3632a873e8cb9"
 },
 "nbformat": 3,
 "nbformat_minor": 0,
 "worksheets": [
  {
   "cells": [
    {
     "cell_type": "heading",
     "level": 1,
     "metadata": {},
     "source": [
      "CHAPTER 6 - Electric Braking "
     ]
    },
    {
     "cell_type": "heading",
     "level": 2,
     "metadata": {},
     "source": [
      "EXAMPLE 6.1 - PG NO.114"
     ]
    },
    {
     "cell_type": "code",
     "collapsed": false,
     "input": [
      "#Example 6.1, page 114\n",
      "import math\n",
      "T=172.#in N-m\n",
      "w=(2.*math.pi*960.)/60.\n",
      "E=215.#in V\n",
      "Ia=(T*w)/E\n",
      "Ra=.062#in ohm\n",
      "v=220.#in v\n",
      "Eg=v+(Ia*Ra)\n",
      "N=960.#in Rpm\n",
      "S=(N*round(Eg))/E\n",
      "print'%s %.2f %s' %(\"The speed of shunt machine is\",S,\"rpm \")"
     ],
     "language": "python",
     "metadata": {},
     "outputs": [
      {
       "output_type": "stream",
       "stream": "stdout",
       "text": [
        "The speed of shunt machine is 1004.65 rpm \n"
       ]
      }
     ],
     "prompt_number": 1
    },
    {
     "cell_type": "heading",
     "level": 2,
     "metadata": {},
     "source": [
      "EXAMPLE 6.2 - PG NO.114"
     ]
    },
    {
     "cell_type": "code",
     "collapsed": false,
     "input": [
      "#Example 6.2, page 114\n",
      "import math\n",
      "N=480.#in rpm\n",
      "T=318.3#in N-m\n",
      "P=(2.*math.pi*N*T)/60.\n",
      "#From graph\n",
      "E=333.3#in V\n",
      "Ia=48.#Amp\n",
      "R=E/Ia\n",
      "#disp(R)\n",
      "print'%s %.2f %s' %(\"The total resistance of circuit is =\",R,\"ohm\")"
     ],
     "language": "python",
     "metadata": {},
     "outputs": [
      {
       "output_type": "stream",
       "stream": "stdout",
       "text": [
        "The total resistance of circuit is = 6.94 ohm\n"
       ]
      }
     ],
     "prompt_number": 2
    },
    {
     "cell_type": "heading",
     "level": 2,
     "metadata": {},
     "source": [
      "EXAMPLE 6.3 - PG NO.116"
     ]
    },
    {
     "cell_type": "code",
     "collapsed": false,
     "input": [
      "#Example 6.3, Page 116\n",
      "import math\n",
      "per=.88\n",
      "v=220.#in v\n",
      "p=20.#in kw\n",
      "I=(p*1000.)/(per*v)\n",
      "T=(p*1000.*60.)/(2*math.pi*1200.)\n",
      "#Part a\n",
      "E_motor=v-(I*.1)\n",
      "v_arm=v+E_motor\n",
      "Ir=2.*I#Rated current\n",
      "R=v_arm/Ir\n",
      "print'%s %.2f %s' %('resistance at armature current=',R,'ohm')\n",
      "R_Extra=R-.1\n",
      "print'%s %.2f %s' %(\"\\n Extra resistance added to motor armature is =\",R_Extra,\" ohm \")\n",
      "#Part b\n",
      "T_Full_load=T*2\n",
      "print'%s %.2f %s' %(\"\\n Full load torque is\",T_Full_load,\" N-m \\n\")\n",
      "#Part c\n",
      "E=(E_motor*400.)/1200.\n",
      "print'%s %.2f %s' %('E=',E,'v')\n",
      "I_braking=(v+E)/R\n",
      "T_braking=(T/103.3)*I_braking\n",
      "print'%s %.3f %s' %(\"\\n Braking  current is =\",I_braking,\" A\")\n",
      "print'%s %.3f %s' %(\"\\n Braking Torque is =\",T_braking,\" N-m \")\n"
     ],
     "language": "python",
     "metadata": {},
     "outputs": [
      {
       "output_type": "stream",
       "stream": "stdout",
       "text": [
        "resistance at armature current= 2.08 ohm\n",
        "\n",
        " Extra resistance added to motor armature is = 1.98  ohm \n",
        "\n",
        " Full load torque is 318.31  N-m \n",
        "\n",
        "E= 69.89 v\n",
        "\n",
        " Braking  current is = 139.397  A\n",
        "\n",
        " Braking Torque is = 214.770  N-m \n"
       ]
      }
     ],
     "prompt_number": 3
    },
    {
     "cell_type": "heading",
     "level": 2,
     "metadata": {},
     "source": [
      "EXAMPLE 6.4 - PG NO.124"
     ]
    },
    {
     "cell_type": "code",
     "collapsed": false,
     "input": [
      "#Example 6.4, page 124\n",
      "import math\n",
      "R1=.15#in ohm\n",
      "Rs=.45#in ohm\n",
      "x1=.6#in ohm\n",
      "xz=1.8#in ohm\n",
      "sf=0.05\n",
      "Turn=1./math.sqrt(3.)\n",
      "R_rotor=Rs*Turn#in ohm\n",
      "X_rotor=xz*Turn**2.#in ohm\n",
      "\n",
      "#Part 1\n",
      "#BY FIGURE\n",
      "E1=math.sqrt((3.**2.+.6**2)/(3.15**2+1.2**2))*440./math.sqrt(3.)\n",
      "s=1.-sf\n",
      "I2=E1/math.sqrt(x1**2+2**2)\n",
      "R2=2.*60.#ohm\n",
      "w=2.*math.pi*600.\n",
      "T=(R2*3.*(I2**2.))/(s*w)\n",
      "print'%s %.3f %s' %(\"Initial braking torque of rheostatic is\",T,\"N-m\")\n",
      "\n",
      "#Part 2\n",
      "s1=2.-sf\n",
      "a=.15+(1.9/1.95)**2.\n",
      "b=1.2**2.\n",
      "I2=(440./math.sqrt(3.))*(1./math.sqrt(a+b))\n",
      "T=(60.*1.9*3.*(I2**2.))/(1.95*w)\n",
      "print('\\n')\n",
      "print'%s %.3f %s' %(\"Initial braking torque during reverse is\",T,\" N-m\")\n",
      "#the answers in textbook are less accurate due to approximations."
     ],
     "language": "python",
     "metadata": {},
     "outputs": []
    },
    {
     "cell_type": "heading",
     "level": 2,
     "metadata": {},
     "source": [
      "EXAMPLE 6.5 - PG NO.128"
     ]
    },
    {
     "cell_type": "code",
     "collapsed": false,
     "input": [
      "#Example 6.5, page no 128\n",
      "import math\n",
      "import cmath\n",
      "Kva=3000./3.#kva per phase\n",
      "v=2300./math.sqrt(3.)#voltage per phase\n",
      "#disp(v)\n",
      "i=(1000.*1000.)/1330.#current per phase\n",
      "#disp(i)\n",
      "s=i*.2\n",
      "x=math.sqrt((v+s)**2.+(s**2.))\n",
      "temp=((x/i)**2.)-2.**2.#temp=(.2+R)**2\n",
      "#print(temp)\n",
      "t=cmath.sqrt(temp)\n",
      "temp1=t-(.2)\n",
      "#disp(temp1)\n",
      "#Answer difference is because of round off value of x\n",
      "r=1.97#in ohms\n",
      "T_br=(3.*i*i*r*60.)/(2*math.pi*200.)\n",
      "print'%s %.2f %s' %(\"Initial braking torque is =\",T_br, \"N-m\")\n",
      "#the answers in textbook are less accurate due to approximations."
     ],
     "language": "python",
     "metadata": {},
     "outputs": [
      {
       "output_type": "stream",
       "stream": "stdout",
       "text": [
        "Initial braking torque is = 159523.84 N-m\n"
       ]
      }
     ],
     "prompt_number": 4
    },
    {
     "cell_type": "heading",
     "level": 2,
     "metadata": {},
     "source": [
      "EXAMPLE 6.6 - PG NO.131"
     ]
    },
    {
     "cell_type": "code",
     "collapsed": false,
     "input": [
      "#Example 6.6, Page 131\n",
      "import math\n",
      "pf=.85\n",
      "N1=1500.#in rpm\n",
      "N=1440.#in rpm\n",
      "P=pf*230.*10.*math.sqrt(3.)\n",
      "p_stator_loss=86.16#in w\n",
      "p_rotor=P-p_stator_loss\n",
      "rotor_copper_loss=((N1-N)/N1)*p_rotor\n",
      "print'%s %.f %s' %(\"The rotor copper loss is =\",round(rotor_copper_loss),\"watt\")\n",
      "inertia=.0486#in kg-m2\n",
      "E=2*.96*inertia*((2*math.pi*50)/2)**2\n",
      "print'%s %.f %s' %('total energy dissipiated in rotar during starting and braking',E,'J')\n",
      "stops_starts=7920/E\n",
      "print'%s %.2f %s' %(\"Total number of starts and stops is =\",stops_starts,\"say 3\")\n"
     ],
     "language": "python",
     "metadata": {},
     "outputs": [
      {
       "output_type": "stream",
       "stream": "stdout",
       "text": [
        "The rotor copper loss is = 132 watt\n",
        "total energy dissipiated in rotar during starting and braking 2302 J\n",
        "Total number of starts and stops is = 3.44 say 3\n"
       ]
      }
     ],
     "prompt_number": 5
    },
    {
     "cell_type": "heading",
     "level": 2,
     "metadata": {},
     "source": [
      "EXAMPLE 6.7 - PG NO.131"
     ]
    },
    {
     "cell_type": "code",
     "collapsed": false,
     "input": [
      "#Example 6.7, page 131\n",
      "import math\n",
      "v1=400/math.sqrt(3)#in v\n",
      "ws=(2*math.pi*1000)/60#angular f\n",
      "x=1#resistance in ohm\n",
      "T_max=(3*v1**2)/(ws*2*x)\n",
      "#print(T_max)\n",
      "j=10#in kg-m2\n",
      "s1=.05\n",
      "s_maxT=0.2\n",
      "a=(1.95**2-1)/(2*s_maxT)\n",
      "temp=a+(.2*math.log(1.95))\n",
      "r=((10*ws)/(2*T_max))*(temp)\n",
      "#print(r)\n",
      "Extra_R=r-(.2)\n",
      "a=(1.95**2-1)/(2*1.45)\n",
      "temp=a+(1.45*math.log(1.95))\n",
      "t=((10*ws)/(2*T_max))*(temp)\n",
      "#print(t)\n",
      "print'%s %.3f %s' %(\"Minimum time to bring rotor to rest is \",t,\"sec\")"
     ],
     "language": "python",
     "metadata": {},
     "outputs": [
      {
       "output_type": "stream",
       "stream": "stdout",
       "text": [
        "Minimum time to bring rotor to rest is  1.326 sec\n"
       ]
      }
     ],
     "prompt_number": 6
    },
    {
     "cell_type": "heading",
     "level": 2,
     "metadata": {},
     "source": [
      "EXAMPLE 6.8 - PG NO.134"
     ]
    },
    {
     "cell_type": "code",
     "collapsed": false,
     "input": [
      "#Example 6.8, page 134\n",
      "import math\n",
      "#part a\n",
      "w=(2.*math.pi*50.)/3.#angular f, rad/sec\n",
      "k=6000./w\n",
      "kw=6000.#n-m, initial brakin torque\n",
      "Tf=300.#n-m, fictional torque\n",
      "j=540.#kg-m2\n",
      "tr=(j/k)*math.log((kw+Tf)/Tf)\n",
      "#disp(tr)\n",
      "s=math.e**((-k*tr)/j)\n",
      "#disp(s)\n",
      "temp=((j/k)*(kw+Tf)*(1.-s))-((Tf*tr))\n",
      "Nr=(1./(2.*math.pi*k))*temp\n",
      "#disp(Nr)\n",
      "print'%s %.2f %s' %(\"Time taken for rheostatic braking is =\",Nr,\"s\")\n",
      "#part b\n",
      "beta=3600./j\n",
      "motor_rest_time=w/6.67\n",
      "#disp(motor_rest_time)\n",
      "rev=(1000./60.)*.5*(motor_rest_time)\n",
      "print'%s %.1f' %(\"Number of revolutions made is =\",rev)\n",
      "#the answers in textbook are less accurate due to approximations."
     ],
     "language": "python",
     "metadata": {},
     "outputs": [
      {
       "output_type": "stream",
       "stream": "stdout",
       "text": [
        "Time taken for rheostatic braking is = 133.17 s\n",
        "Number of revolutions made is = 130.8\n"
       ]
      }
     ],
     "prompt_number": 7
    }
   ],
   "metadata": {}
  }
 ]
}