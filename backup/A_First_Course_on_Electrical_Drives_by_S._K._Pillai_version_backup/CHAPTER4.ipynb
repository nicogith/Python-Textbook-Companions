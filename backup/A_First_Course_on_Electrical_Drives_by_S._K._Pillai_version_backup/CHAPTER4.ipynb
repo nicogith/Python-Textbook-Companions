{
 "metadata": {
  "name": "",
  "signature": "sha256:1ba99fc29004084d876cd850f1fd3c2c655722555fcfd0cfeb46ce97813eed98"
 },
 "nbformat": 3,
 "nbformat_minor": 0,
 "worksheets": [
  {
   "cells": [
    {
     "cell_type": "heading",
     "level": 1,
     "metadata": {},
     "source": [
      "CHAPTER 4 - Characteristics of AC motor"
     ]
    },
    {
     "cell_type": "heading",
     "level": 2,
     "metadata": {},
     "source": [
      "EXAMPLE 4.1 - PG NO.65"
     ]
    },
    {
     "cell_type": "code",
     "collapsed": false,
     "input": [
      "#Example 4.1, Page 65\n",
      "import numpy\n",
      "import math\n",
      "l=([1, -3, 1])\n",
      "a=numpy.asarray(l[0])\n",
      "b=numpy.asarray(l[1])\n",
      "c=numpy.asarray(l[2])\n",
      "d = (b**2) - (4*a*c)\n",
      "sol1 = (-b-math.sqrt(d))/(2*a)\n",
      "sol2 = (-b+math.sqrt(d))/(2*a)\n",
      "print('Part a')\n",
      "print('roots of the equation when slip at max torque')\n",
      "print'%.3f %s %.3f' %(sol1,'or',sol2)\n",
      "\n",
      "l1=([1, -1.719,0.146])\n",
      "a1=numpy.asarray(l1[0])\n",
      "b1=numpy.asarray(l1[1])\n",
      "c1=numpy.asarray(l1[2])\n",
      "d1 = (b1**2) - (4*a1*c1)\n",
      "solution1 = (-b1-math.sqrt(d1))/(2*a1)\n",
      "solution2 = (-b1+math.sqrt(d1))/(2*a1)\n",
      "print('\\n')\n",
      "print('Part b')\n",
      "print('roots of the equation when slip at max load')\n",
      "print'%.2f %s %.2f' %(solution1,'or',solution2)\n"
     ],
     "language": "python",
     "metadata": {},
     "outputs": [
      {
       "output_type": "stream",
       "stream": "stdout",
       "text": [
        "Part a\n",
        "roots of the equation when slip at max torque\n",
        "0.382 or 2.618\n",
        "\n",
        "\n",
        "Part b\n",
        "roots of the equation when slip at max load\n",
        "0.09 or 1.63\n"
       ]
      }
     ],
     "prompt_number": 1
    },
    {
     "cell_type": "heading",
     "level": 2,
     "metadata": {},
     "source": [
      "EXAMPLE 4.3 - PG NO.70"
     ]
    },
    {
     "cell_type": "code",
     "collapsed": false,
     "input": [
      "#Example 4.3, Page 70\n",
      "import numpy\n",
      "import math\n",
      "l=([0.04, -0.0266,.0016])\n",
      "a=numpy.asarray(l[0])\n",
      "b=numpy.asarray(l[1])\n",
      "c=numpy.asarray(l[2])\n",
      "d = (b**2.) - (4.*a*c)\n",
      "sol1 = (-b-math.sqrt(d))/(2.*a)\n",
      "sol2 = (-b+math.sqrt(d))/(2.*a)\n",
      "print('Part a')\n",
      "print('roots of the equation that slip will run is')\n",
      "print'%.3f %s %.3f' %(sol1,'or',sol2)\n"
     ],
     "language": "python",
     "metadata": {},
     "outputs": [
      {
       "output_type": "stream",
       "stream": "stdout",
       "text": [
        "Part a\n",
        "roots of the equation that slip will run is\n",
        "0.067 or 0.598\n"
       ]
      }
     ],
     "prompt_number": 2
    },
    {
     "cell_type": "heading",
     "level": 2,
     "metadata": {},
     "source": [
      "EXAMPLE 4.5 - PG NO.74"
     ]
    },
    {
     "cell_type": "code",
     "collapsed": false,
     "input": [
      "#Example 4.5, page 74\n",
      "import math\n",
      "pole=24.\n",
      "Ns=245.#in rpm\n",
      "N=(120.*50.)/pole#synchronous speed in rpm\n",
      "f=(N-Ns)/N\n",
      "p=110.#in kw\n",
      "T=(p*1000.*60.)/(2.*math.pi*Ns)\n",
      "v1=440./math.sqrt(3)#in v\n",
      "ws=(2*math.pi*250)/60\n",
      "s=0.02\n",
      "R=0.03125#in ohm\n",
      "x=math.sqrt(((3*R*v1**2)/(T*ws*s))-(R/s)**2)#by rearranging formula\n",
      "print'%s %.5f %s' %('Stator resistance per phase is=',x,'ohm')\n",
      "#calculating original resistance\n",
      "\n",
      "#Example 4.1, Page 65\n",
      "import numpy\n",
      "import math\n",
      "l=([3190,-3235,72.78])\n",
      "a=numpy.asarray(l[0])\n",
      "b=numpy.asarray(l[1])\n",
      "c=numpy.asarray(l[2])\n",
      "d = (b**2.) - (4.*a*c)\n",
      "sol1 = (-b-math.sqrt(d))/(2.*a)\n",
      "sol2 = (-b+math.sqrt(d))/(2.*a)\n",
      "print('Part a')\n",
      "print('The value of original resistance is')\n",
      "print'%.4f %s %.5f' %(sol1,'or',sol2)\n",
      "\n",
      "#Taking r=0.99108\n",
      "r=(0.99108-R)/1.25**2\n",
      "\n",
      "print'%s %.4f %s' %('The value of resistance to be added is =',r,' ohm')"
     ],
     "language": "python",
     "metadata": {},
     "outputs": [
      {
       "output_type": "stream",
       "stream": "stdout",
       "text": [
        "Stator resistance per phase is= 0.50358 ohm\n",
        "Part a\n",
        "The value of original resistance is\n",
        "0.0230 or 0.99109\n",
        "The value of resistance to be added is = 0.6143  ohm\n"
       ]
      }
     ],
     "prompt_number": 3
    },
    {
     "cell_type": "heading",
     "level": 2,
     "metadata": {},
     "source": [
      "EXAMPLE 4.6 - PG NO.85"
     ]
    },
    {
     "cell_type": "code",
     "collapsed": false,
     "input": [
      "#Example 4.6, Page no 85\n",
      "import math\n",
      "print(\"Part ii\")\n",
      "new_sin_delta=math.sin(math.pi/4)/.95\n",
      "delta=math.asin(new_sin_delta)\n",
      "x=math.degrees(delta)\n",
      "print'%s %.2f %s' %('The value of delta is =',x,'degree')"
     ],
     "language": "python",
     "metadata": {},
     "outputs": [
      {
       "output_type": "stream",
       "stream": "stdout",
       "text": [
        "Part ii\n",
        "The value of delta is = 48.10 degree\n"
       ]
      }
     ],
     "prompt_number": 4
    }
   ],
   "metadata": {}
  }
 ]
}