{
 "metadata": {
  "name": "",
  "signature": "sha256:0e503a55a3bb1450180b106d69a17d2579c30445dc0b2ede3ba768bf2723fb1c"
 },
 "nbformat": 3,
 "nbformat_minor": 0,
 "worksheets": [
  {
   "cells": [
    {
     "cell_type": "heading",
     "level": 1,
     "metadata": {},
     "source": [
      "CHAPTER 5 - Starting "
     ]
    },
    {
     "cell_type": "heading",
     "level": 2,
     "metadata": {},
     "source": [
      "EXAMPLE 5.1 - PG NO.90"
     ]
    },
    {
     "cell_type": "code",
     "collapsed": false,
     "input": [
      "#example 5.1, Page 90\n",
      "import math\n",
      "IL=(100*1000)/(math.sqrt(400*0.9*0.8*3))#Full load current\n",
      "FS=(1000-950)/1000#Full load slip\n",
      "x=[1,0.57736,0.7,0.333333333]\n",
      "for i in range(0,4):\n",
      "\tT=1.8*(x[i])**2\n",
      "\tprint'%s %.6f %s %.3f' %('The value of Tst/Tf when x=',x[i],'is=',T)\n",
      "#end\n",
      "#the answers are more accurate due to approximations in program than textbook answers\n"
     ],
     "language": "python",
     "metadata": {},
     "outputs": [
      {
       "output_type": "stream",
       "stream": "stdout",
       "text": [
        "The value of Tst/Tf when x= 1.000000 is= 1.800\n",
        "The value of Tst/Tf when x= 0.577360 is= 0.600\n",
        "The value of Tst/Tf when x= 0.700000 is= 0.882\n",
        "The value of Tst/Tf when x= 0.333333 is= 0.200\n"
       ]
      }
     ],
     "prompt_number": 1
    },
    {
     "cell_type": "heading",
     "level": 2,
     "metadata": {},
     "source": [
      "EXAMPLE 5.2 - PG NO.93"
     ]
    },
    {
     "cell_type": "code",
     "collapsed": false,
     "input": [
      "#example 5.2\n",
      "#page no. 93\n",
      "#calculate the time taken by a fan\n",
      "tor=42.\n",
      "speed=1425.\n",
      "minertia=1.\n",
      "area=155.#found from figure given in book\n",
      "acctime=155*2*3.14*100*0.003*1/60.\n",
      "print'%s %.2f %s' %('the acceleration time =',acctime,'secs')\n"
     ],
     "language": "python",
     "metadata": {},
     "outputs": [
      {
       "output_type": "stream",
       "stream": "stdout",
       "text": [
        "the acceleration time = 4.87 secs\n"
       ]
      }
     ],
     "prompt_number": 1
    },
    {
     "cell_type": "heading",
     "level": 2,
     "metadata": {},
     "source": [
      "EXAMPLE 5.3 - PG NO.97"
     ]
    },
    {
     "cell_type": "code",
     "collapsed": false,
     "input": [
      "#Example 5.3, page 97\n",
      "import math\n",
      "s=.05#slip\n",
      "x=1#ie x1+x2\n",
      "s_max=((1-s**2)/(2*math.log(1/s)))**(1./2.)#max slip\n",
      "#disp(s_max)\n",
      "R2_opt=x*s_max\n",
      "ws=(2*math.pi*1000)/60#angular frequency\n",
      "v1=400/math.sqrt(3.)#voltage\n",
      "j=10#angular V\n",
      "Tmax=(3*v1**2)/(ws*2.*x)\n",
      "Tmin=((j*ws)/(2.*Tmax))*(((1-s**2)/(2*R2_opt))+((R2_opt*math.log(1/s))))\n",
      "print'%s %.3f %s' %('The value of T_min is =',Tmin,'sec ')"
     ],
     "language": "python",
     "metadata": {},
     "outputs": [
      {
       "output_type": "stream",
       "stream": "stdout",
       "text": [
        "The value of T_min is = 1.676 sec \n"
       ]
      }
     ],
     "prompt_number": 2
    },
    {
     "cell_type": "heading",
     "level": 2,
     "metadata": {},
     "source": [
      "EXAMPLE 5.4 - PG NO.102"
     ]
    },
    {
     "cell_type": "code",
     "collapsed": false,
     "input": [
      "#Example 5.4, Page no 102\n",
      "import math\n",
      "p=400*20*.88*math.sqrt(3)#input power in watt\n",
      "l=12193.6-10000#in watt, full load loss\n",
      "e=l*60#energy lost per minute\n",
      "ws=(2*math.pi*1000)/60.#angular frequency\n",
      "j=.5\n",
      "R=1#resistance in ohm ir R1/R2\n",
      "El=(0.5*j*ws**2)*(1+R)\n",
      "#disp(El)\n",
      "N=e/El\n",
      "#disp(N)\n",
      "print'%s %d' %(\"The number of starts that can be made is =\",N)\n",
      "ws=(2*math.pi*1500)/60.#angular frequency\n",
      "j=.5\n",
      "R=1#resistance in ohm ir R1/R2\n",
      "El=(0.5*j*ws**2.)*(1.+R)\n",
      "#disp(El)\n",
      "N=e/El\n",
      "#disp(N)\n",
      "print'%s %.2f %s' %(\"The number of permissible starts is =\",N,'say 10')"
     ],
     "language": "python",
     "metadata": {},
     "outputs": [
      {
       "output_type": "stream",
       "stream": "stdout",
       "text": [
        "The number of starts that can be made is = 24\n",
        "The number of permissible starts is = 10.67 say 10\n"
       ]
      }
     ],
     "prompt_number": 3
    }
   ],
   "metadata": {}
  }
 ]
}