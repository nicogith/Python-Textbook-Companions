{
 "metadata": {
  "name": "",
  "signature": "sha256:03a1eb6c9152c9eb8c2b7bead64a5c2f3e3e16085e84105d00d34845b4d83538"
 },
 "nbformat": 3,
 "nbformat_minor": 0,
 "worksheets": [
  {
   "cells": [
    {
     "cell_type": "heading",
     "level": 1,
     "metadata": {},
     "source": [
      "CHAPTER 7- Rating and Heating Motors "
     ]
    },
    {
     "cell_type": "heading",
     "level": 2,
     "metadata": {},
     "source": [
      "EXAMPLE 7.1 - PG NO.140"
     ]
    },
    {
     "cell_type": "code",
     "collapsed": false,
     "input": [
      "#Example 7.1, page 140\n",
      "import math\n",
      "G=500.#in kg\n",
      "h=700.# in j/kg/c\n",
      "s_lambda=math.pi*.7*1*12.5\n",
      "h=(G*h)/s_lambda\n",
      "#disp(h)\n",
      "L=((10*1000.)/.9)-10000.\n",
      "w=1111.\n",
      "T=w/s_lambda\n",
      "print'%s %.1f %s' %(\"Final tempearture rise is =\",T,\"degree C\")\n"
     ],
     "language": "python",
     "metadata": {},
     "outputs": [
      {
       "output_type": "stream",
       "stream": "stdout",
       "text": [
        "Final tempearture rise is = 40.4 degree C\n"
       ]
      }
     ],
     "prompt_number": 1
    },
    {
     "cell_type": "heading",
     "level": 2,
     "metadata": {},
     "source": [
      "EXAMPLE 7.2 - PG NO. 153"
     ]
    },
    {
     "cell_type": "code",
     "collapsed": false,
     "input": [
      "#example 7.2\n",
      "#page no. 153\n",
      "#calculate peak rating of motor,equivalent continous rating based on rms torque,and on rms power.\n",
      "import math\n",
      "print('i) peak rating is found from the given figure as 61.64 kW')\n",
      "Teq=4205.3\n",
      "Peq=(4205.3*2.*3.14*60.)/60000.\n",
      "print'%s %.2f %s' %('ii) Peq =',Peq,'kW')\n",
      "Peq2=434.31#\n",
      "print'%s %.1f %s' %('iii) The mean square power =',math.sqrt(Peq2),'kW')"
     ],
     "language": "python",
     "metadata": {},
     "outputs": [
      {
       "output_type": "stream",
       "stream": "stdout",
       "text": [
        "i) peak rating is found from the given figure as 61.64 kW\n",
        "ii) Peq = 26.41 kW\n",
        "iii) The mean square power = 20.8 kW\n"
       ]
      }
     ],
     "prompt_number": 1
    },
    {
     "cell_type": "heading",
     "level": 2,
     "metadata": {},
     "source": [
      "EXAMPLE 7.3 - PG NO.155"
     ]
    },
    {
     "cell_type": "code",
     "collapsed": false,
     "input": [
      "#Example 7.3, page 155\n",
      "import math\n",
      "alpha=0.9\n",
      "N=.5#in hr\n",
      "tou=1.5#in hr\n",
      "pr=25.#in kw\n",
      "px=pr*math.sqrt(((1.+alpha)/(1.-math.exp(-N/tou)))-.9)\n",
      "print'%s %.2f %s %s %d %s' %(\"Power is=\",px,\"kw\",'say',round(px),'kw')"
     ],
     "language": "python",
     "metadata": {},
     "outputs": [
      {
       "output_type": "stream",
       "stream": "stdout",
       "text": [
        "Power is= 60.22 kw say 60 kw\n"
       ]
      }
     ],
     "prompt_number": 2
    },
    {
     "cell_type": "heading",
     "level": 2,
     "metadata": {},
     "source": [
      "EXAMPLE 7.4 - PG NO.157"
     ]
    },
    {
     "cell_type": "code",
     "collapsed": false,
     "input": [
      "#example 7.4, page 157\n",
      "import math\n",
      "pr=100.#in kw\n",
      "N=18.#in min\n",
      "tou=90.#in min\n",
      "R=30.#in min\n",
      "tou_1=120.#in min\n",
      "a=N/tou\n",
      "b=R/tou_1\n",
      "px=pr*math.sqrt((1-math.exp(-(a+b)))/(1-math.exp(-(a))))\n",
      "print'%s %.1f %s %s %d %s' %(\"The power is =\",px,\"kw\",'say',round(px),'kw')\n",
      "#answers in textbook are less accurate due to approximations"
     ],
     "language": "python",
     "metadata": {},
     "outputs": [
      {
       "output_type": "stream",
       "stream": "stdout",
       "text": [
        "The power is = 141.4 kw say 141 kw\n"
       ]
      }
     ],
     "prompt_number": 3
    },
    {
     "cell_type": "heading",
     "level": 2,
     "metadata": {},
     "source": [
      "EXAMPLE 7.5 - PG NO.161"
     ]
    },
    {
     "cell_type": "code",
     "collapsed": false,
     "input": [
      "#Example 7.5 , page 161\n",
      "import math\n",
      "Tr=(50.*1000.*60.)/(2.*math.pi*960.)\n",
      "#print(Tr)\n",
      "Tmax=2.*Tr\n",
      "Tmin=300.#in nm\n",
      "Tlh=1500.+Tmin\n",
      "t=10.#in sec\n",
      "ws=(2.*math.pi*1000.)/60.#angular f\n",
      "wr=(2.*math.pi*960.)/60.#angular f\n",
      "temp=math.log((Tlh-Tmin)/(Tlh-Tmax))\n",
      "j=(Tr/(ws-wr))*(t/temp)\n",
      "#disp(j)\n",
      "r=.9#in m\n",
      "wt=j/r**2\n",
      "#disp(wt)\n",
      "print'%s %.2f %s' %(\"Weight of fly wheel is=\",wt,\"kg\")\n",
      "#Part b\n",
      "Tmax=994.72\n",
      "Tmin=700\n",
      "TL1=300\n",
      "temp=math.log((Tmax-TL1)/(Tmin-TL1))\n",
      "t=(j*temp*(ws-wr))/Tr\n",
      "print'%s %.2f %s' %(\"The estimated time is =\",t,\"s\")\n",
      "#question number in textbook is printed wrong i.e 7.5 is printed as 5.7\n",
      "#answer in textbook is wrong due to approximations\n"
     ],
     "language": "python",
     "metadata": {},
     "outputs": [
      {
       "output_type": "stream",
       "stream": "stdout",
       "text": [
        "Weight of fly wheel is= 2356.60 kg\n",
        "The estimated time is = 8.87 s\n"
       ]
      }
     ],
     "prompt_number": 4
    }
   ],
   "metadata": {}
  }
 ]
}