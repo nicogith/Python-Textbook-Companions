{
 "metadata": {
  "name": "",
  "signature": "sha256:9ead3b67f2ac02e5f967508e349d9305e0ea0a57fbe04777e904cadb8ee40e9d"
 },
 "nbformat": 3,
 "nbformat_minor": 0,
 "worksheets": [
  {
   "cells": [
    {
     "cell_type": "heading",
     "level": 1,
     "metadata": {},
     "source": [
      "CHAPTER 4 - Characteristics of AC motor"
     ]
    },
    {
     "cell_type": "heading",
     "level": 2,
     "metadata": {},
     "source": [
      "EXAMPLE 4.1 - PG NO.65"
     ]
    },
    {
     "cell_type": "code",
     "collapsed": false,
     "input": [
      "#Example 4.1, Page 65\n",
      "import numpy\n",
      "import math\n",
      "l=([1, -3, 1])\n",
      "a=numpy.asarray(l[0])\n",
      "b=numpy.asarray(l[1])\n",
      "c=numpy.asarray(l[2])\n",
      "d = (b**2) - (4*a*c)\n",
      "sol1 = (-b-math.sqrt(d))/(2*a)\n",
      "sol2 = (-b+math.sqrt(d))/(2*a)\n",
      "print('Part a')\n",
      "print('roots of the equation when slip at max torque')\n",
      "print'%.3f %s %.3f' %(sol1,'or',sol2)\n",
      "\n",
      "l1=([1, -1.719,0.146])\n",
      "a1=numpy.asarray(l1[0])\n",
      "b1=numpy.asarray(l1[1])\n",
      "c1=numpy.asarray(l1[2])\n",
      "d1 = (b1**2) - (4*a1*c1)\n",
      "solution1 = (-b1-math.sqrt(d1))/(2*a1)\n",
      "solution2 = (-b1+math.sqrt(d1))/(2*a1)\n",
      "print('\\n')\n",
      "print('Part b')\n",
      "print('roots of the equation when slip at max load')\n",
      "print'%.2f %s %.2f' %(solution1,'or',solution2)\n"
     ],
     "language": "python",
     "metadata": {},
     "outputs": [
      {
       "output_type": "stream",
       "stream": "stdout",
       "text": [
        "Part a\n",
        "roots of the equation when slip at max torque\n",
        "0.382 or 2.618\n",
        "\n",
        "\n",
        "Part b\n",
        "roots of the equation when slip at max load\n",
        "0.09 or 1.63\n"
       ]
      }
     ],
     "prompt_number": 1
    },
    {
     "cell_type": "heading",
     "level": 2,
     "metadata": {},
     "source": [
      "EXAMPLE 4.3 - PG NO.70"
     ]
    },
    {
     "cell_type": "code",
     "collapsed": false,
     "input": [
      "#Example 4.3, Page 70\n",
      "import numpy\n",
      "import math\n",
      "l=([0.04, -0.0266,.0016])\n",
      "a=numpy.asarray(l[0])\n",
      "b=numpy.asarray(l[1])\n",
      "c=numpy.asarray(l[2])\n",
      "d = (b**2.) - (4.*a*c)\n",
      "sol1 = (-b-math.sqrt(d))/(2.*a)\n",
      "sol2 = (-b+math.sqrt(d))/(2.*a)\n",
      "print('Part a')\n",
      "print('roots of the equation that slip will run is')\n",
      "print'%.3f %s %.3f' %(sol1,'or',sol2)\n"
     ],
     "language": "python",
     "metadata": {},
     "outputs": [
      {
       "output_type": "stream",
       "stream": "stdout",
       "text": [
        "Part a\n",
        "roots of the equation that slip will run is\n",
        "0.067 or 0.598\n"
       ]
      }
     ],
     "prompt_number": 2
    },
    {
     "cell_type": "heading",
     "level": 2,
     "metadata": {},
     "source": [
      "EXAMPLE 4.4.a - PG NO. 71"
     ]
    },
    {
     "cell_type": "code",
     "collapsed": false,
     "input": [
      "#example 4.4.a\n",
      "#page no. 71\n",
      "import math\n",
      "r1=0.02#\n",
      "x=0.04#\n",
      "TmaxatVby2=0.02+math.sqrt(0.0004+0.04)\n",
      "TmaxatV=2*(0.02+math.sqrt(0.0004+0.01))\n",
      "Tmax=TmaxatVby2/TmaxatV\n",
      "print'%s %.5f' %('Tmax at rated voltage and frequency= ',Tmax)"
     ],
     "language": "python",
     "metadata": {},
     "outputs": [
      {
       "output_type": "stream",
       "stream": "stdout",
       "text": [
        "Tmax at rated voltage and frequency=  0.90587\n"
       ]
      }
     ],
     "prompt_number": 3
    },
    {
     "cell_type": "heading",
     "level": 2,
     "metadata": {},
     "source": [
      "EXAMPLE 4.4.b - PG NO. 71"
     ]
    },
    {
     "cell_type": "code",
     "collapsed": false,
     "input": [
      "#example 4.4.b\n",
      "#page no. 71\n",
      "import math\n",
      "r1=0.02#\n",
      "x=0.04#\n",
      "TstatVby2=(0.04*0.04)+(0.2*0.2)\n",
      "TstatV=2*((0.04*0.04)+(0.01))\n",
      "Tst=TstatVby2/TstatV\n",
      "print'%s %.3f' %('Tst at rated voltage and frequency =',Tst)"
     ],
     "language": "python",
     "metadata": {},
     "outputs": [
      {
       "output_type": "stream",
       "stream": "stdout",
       "text": [
        "Tst at rated voltage and frequency = 1.793\n"
       ]
      }
     ],
     "prompt_number": 4
    },
    {
     "cell_type": "heading",
     "level": 2,
     "metadata": {},
     "source": [
      "EXAMPLE 4.5 - PG NO.74"
     ]
    },
    {
     "cell_type": "code",
     "collapsed": false,
     "input": [
      "#Example 4.5, page 74\n",
      "import math\n",
      "pole=24.\n",
      "Ns=245.#in rpm\n",
      "N=(120.*50.)/pole#synchronous speed in rpm\n",
      "f=(N-Ns)/N\n",
      "p=110.#in kw\n",
      "T=(p*1000.*60.)/(2.*math.pi*Ns)\n",
      "v1=440./math.sqrt(3)#in v\n",
      "ws=(2*math.pi*250)/60\n",
      "s=0.02\n",
      "R=0.03125#in ohm\n",
      "x=math.sqrt(((3*R*v1**2)/(T*ws*s))-(R/s)**2)#by rearranging formula\n",
      "print'%s %.5f %s' %('Stator resistance per phase is=',x,'ohm')\n",
      "#calculating original resistance\n",
      "\n",
      "#Example 4.1, Page 65\n",
      "import numpy\n",
      "import math\n",
      "l=([3190,-3235,72.78])\n",
      "a=numpy.asarray(l[0])\n",
      "b=numpy.asarray(l[1])\n",
      "c=numpy.asarray(l[2])\n",
      "d = (b**2.) - (4.*a*c)\n",
      "sol1 = (-b-math.sqrt(d))/(2.*a)\n",
      "sol2 = (-b+math.sqrt(d))/(2.*a)\n",
      "print('Part a')\n",
      "print('The value of original resistance is')\n",
      "print'%.4f %s %.5f' %(sol1,'or',sol2)\n",
      "\n",
      "#Taking r=0.99108\n",
      "r=(0.99108-R)/1.25**2\n",
      "\n",
      "print'%s %.4f %s' %('The value of resistance to be added is =',r,' ohm')"
     ],
     "language": "python",
     "metadata": {},
     "outputs": [
      {
       "output_type": "stream",
       "stream": "stdout",
       "text": [
        "Stator resistance per phase is= 0.50358 ohm\n",
        "Part a\n",
        "The value of original resistance is\n",
        "0.0230 or 0.99109\n",
        "The value of resistance to be added is = 0.6143  ohm\n"
       ]
      }
     ],
     "prompt_number": 3
    },
    {
     "cell_type": "heading",
     "level": 2,
     "metadata": {},
     "source": [
      "EXAMPLE 4.6 - PG NO.85"
     ]
    },
    {
     "cell_type": "code",
     "collapsed": false,
     "input": [
      "#Example 4.6, Page no 85\n",
      "import math\n",
      "print(\"Part ii\")\n",
      "new_sin_delta=math.sin(math.pi/4)/.95\n",
      "delta=math.asin(new_sin_delta)\n",
      "x=math.degrees(delta)\n",
      "print'%s %.2f %s' %('The value of delta is =',x,'degree')"
     ],
     "language": "python",
     "metadata": {},
     "outputs": [
      {
       "output_type": "stream",
       "stream": "stdout",
       "text": [
        "Part ii\n",
        "The value of delta is = 48.10 degree\n"
       ]
      }
     ],
     "prompt_number": 4
    }
   ],
   "metadata": {}
  }
 ]
}