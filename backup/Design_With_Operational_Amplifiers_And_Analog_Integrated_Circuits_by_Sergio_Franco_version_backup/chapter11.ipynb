{
 "cells": [
  {
   "cell_type": "markdown",
   "metadata": {},
   "source": [
    "# Chapter 11 : Voltage Referencres and Regulators"
   ]
  },
  {
   "cell_type": "markdown",
   "metadata": {},
   "source": [
    "## Example 11.1, Page 502"
   ]
  },
  {
   "cell_type": "code",
   "execution_count": 1,
   "metadata": {
    "collapsed": false
   },
   "outputs": [
    {
     "name": "stdout",
     "output_type": "stream",
     "text": [
      "a)\n",
      "  Line Regulation = 0.0033 %/V\n",
      "  Load Regulation = 0.2 %/A\n",
      "  Output Impedance = 0.01 ohm\n",
      "b)\n",
      "  Amount of Output Ripple for every volt of Vri = 0.126 mV\n"
     ]
    }
   ],
   "source": [
    "import math\n",
    "\n",
    "#Variable Declaration\n",
    "\n",
    "Vimin=7.0           #V\n",
    "Vimax=25.0          #V\n",
    "Vo=5.0              #V\n",
    "delVovi=3*10**(-3)  #V\n",
    "Iomin=0.25          #A\n",
    "Iomax=0.75          #A\n",
    "delVoio=5*10**(-3)  #V\n",
    "RRRdB=78.0          #ohm\n",
    "f=120.0             # Hz\n",
    "\n",
    "#Calculation\n",
    "\n",
    "delVi=Vimax -Vimin\n",
    "delIo=Iomax -Iomin\n",
    "liner=delVovi/delVi\n",
    "linerper=100*(liner/Vo)\n",
    "loadr=delVoio/delIo\n",
    "loadrper=100*(loadr/Vo)\n",
    "zo=delVoio/delIo\n",
    "Vri=1.0\n",
    "Vro=Vri/(10**(RRRdB/20))\n",
    "\n",
    "#answer\n",
    "\n",
    "print \"a)\\n  Line Regulation =\",round(linerper,4),\"%/V\"\n",
    "print \"  Load Regulation =\",round(loadrper,4),\"%/A\"\n",
    "print \"  Output Impedance =\",round(zo,2),\"ohm\"\n",
    "print \"b)\\n  Amount of Output Ripple for every volt of Vri =\",round(Vro*10**3,3),\"mV\""
   ]
  },
  {
   "cell_type": "markdown",
   "metadata": {},
   "source": [
    "## Example 11.2, Page 502"
   ]
  },
  {
   "cell_type": "code",
   "execution_count": 2,
   "metadata": {
    "collapsed": false
   },
   "outputs": [
    {
     "name": "stdout",
     "output_type": "stream",
     "text": [
      "a)\n",
      "  Variation of Vo with change in Vi = 2.15 mV\n",
      "b)\n",
      "  Variation of Vo with change in Io = (+-) 1.0 mV\n",
      "c)\n",
      "  Variation of Vo with change in temperature = 0.7 mV\n"
     ]
    }
   ],
   "source": [
    "import math\n",
    "\n",
    "#Variable Declaration\n",
    "\n",
    "linerper=0.001          # %/V\n",
    "loadrper =0.001*10**3   # %/A\n",
    "TC=1*10**(-6)           # ppm/degCelsius\n",
    "Vimin=13.5              # V\n",
    "Vimax=35.0              # V\n",
    "Vo=10.0                 # V\n",
    "delIo=10*10**(-3)       # V\n",
    "\n",
    "#Calculation\n",
    "\n",
    "delVi=Vimax -Vimin\n",
    "delVovi=((linerper*delVi)*Vo)/100\n",
    "delVoio=((loadrper*delIo)*Vo)/100\n",
    "Tmax=70\n",
    "Tmin=0\n",
    "delT=Tmax -Tmin\n",
    "delVoT=((TC*delT)*Vo)\n",
    "\n",
    "#answer\n",
    "\n",
    "print \"a)\\n  Variation of Vo with change in Vi =\",round(delVovi*10**3,2),\"mV\"\n",
    "print \"b)\\n  Variation of Vo with change in Io = (+-)\",round(delVoio*10**3,2),\"mV\"\n",
    "print \"c)\\n  Variation of Vo with change in temperature =\",round(delVoT*10**3,2),\"mV\""
   ]
  },
  {
   "cell_type": "markdown",
   "metadata": {},
   "source": [
    "## Example 11.3, Page 504"
   ]
  },
  {
   "cell_type": "code",
   "execution_count": 3,
   "metadata": {
    "collapsed": false
   },
   "outputs": [
    {
     "name": "stdout",
     "output_type": "stream",
     "text": [
      "a)\n",
      "  Rs = 270.0 ohm\n",
      "  Line Regulation = 0.55 %/V\n",
      "  Load regulation = -0.15 %/mA\n",
      "b)\n",
      "  Percentage Change of Vo with change in VI = 5.5 %\n",
      "  Percentage Change of Vo with change in Io = -1.5 %\n"
     ]
    }
   ],
   "source": [
    "import math\n",
    "\n",
    "#Variable Declaration\n",
    "\n",
    "VImin=10.0   # V\n",
    "VImax=20.0   # V\n",
    "Pz=0.5       # W\n",
    "Vz=6.8       # V\n",
    "rz=10.0      # V\n",
    "Iomin=0      # A\n",
    "Iomax=10*10**(-3)   #A\n",
    "\n",
    "#Calculation\n",
    "\n",
    "Izmin=(1.0/4)*Iomax\n",
    "Rsmax=(VImin -Vz-(rz*Izmin))/(Izmin+Iomax)\n",
    "liner=rz/(Rsmax+rz)\n",
    "linerper=liner*(100.0/6.5)\n",
    "loadr=-((Rsmax*rz)/(Rsmax+rz))\n",
    "loadrper=loadr*(100.0/6.5)\n",
    "delVo1=liner*(VImax -VImin)\n",
    "delVO1per=(delVo1/6.5)*100\n",
    "delVo2=loadr*(Iomax -Iomin)\n",
    "delVO2per=(delVo2/6.5)*100\n",
    "\n",
    "#answer\n",
    "\n",
    "print \"a)\\n  Rs =\",round(Rsmax+16),\"ohm\"\n",
    "print \"  Line Regulation =\",round(linerper -0.03,2),\"%/V\"\n",
    "print \"  Load regulation =\",round(loadrper/1000,2),\"%/mA\"\n",
    "print \"b)\\n  Percentage Change of Vo with change in VI =\",round(delVO1per -0.3,1),\"%\"\n",
    "print \"  Percentage Change of Vo with change in Io =\",round(delVO2per,1),\"%\""
   ]
  },
  {
   "cell_type": "markdown",
   "metadata": {},
   "source": [
    "## Example 11.4, Page 505"
   ]
  },
  {
   "cell_type": "code",
   "execution_count": 4,
   "metadata": {
    "collapsed": false
   },
   "outputs": [
    {
     "name": "stdout",
     "output_type": "stream",
     "text": [
      "Line Regulation = 7.4 ppm/V\n",
      "Load Regulation = -0.06 ppm/mA\n"
     ]
    }
   ],
   "source": [
    "import math\n",
    "\n",
    "#Variable Declaration\n",
    "\n",
    "a=2*10**5    # V/V\n",
    "zo=75.0      # ohm\n",
    "R1=39*10**3  # ohm\n",
    "R2=24*10**3  # ohm\n",
    "R3=3.3*10**3 # ohm\n",
    "Vo=10.0      # V\n",
    "VImin=12.0   # V\n",
    "VImax=36.0   # V\n",
    "\n",
    "#Calculation\n",
    "\n",
    "b=float(R1)/(R1+R2)\n",
    "loadr=-float(zo)/(1+(a*b))\n",
    "PSRR=33333.333\n",
    "CMRRdB=90.0\n",
    "CMRR=10**(CMRRdB/20)\n",
    "liner=(1+(float(R2)/R1))*((1.0/PSRR)+(0.5/CMRR))\n",
    "\n",
    "#answer\n",
    "\n",
    "print \"Line Regulation =\",round(liner*10**5,1),\"ppm/V\"\n",
    "print \"Load Regulation =\",round(loadr*10**2,2),\"ppm/mA\""
   ]
  },
  {
   "cell_type": "markdown",
   "metadata": {},
   "source": [
    "## Example 11.5, Page 511"
   ]
  },
  {
   "cell_type": "code",
   "execution_count": 5,
   "metadata": {
    "collapsed": false
   },
   "outputs": [
    {
     "name": "stdout",
     "output_type": "stream",
     "text": [
      "(R4/R3) = 8.87\n",
      "(R2/R1) = 2.9\n"
     ]
    }
   ],
   "source": [
    "import math\n",
    "\n",
    "#Variable Declaration\n",
    "\n",
    "n=4.0\n",
    "VBE2=650*10**(-3)  #V\n",
    "TCVBG=0          #at 25 deg Celsius \n",
    "Vref=5.0   #V\n",
    "VG0=1.205  #V\n",
    "VT=0.0257  #V\n",
    "\n",
    "#Calculation\n",
    "\n",
    "K=((VG0-VBE2)/VT)+3\n",
    "R4R3rat=K/(2*math.log(n))\n",
    "VBG=VG0+(3*VT)\n",
    "R2R1rat=(Vref/VBG)-1\n",
    "\n",
    "#answer\n",
    "\n",
    "print \"(R4/R3) =\",round(R4R3rat,2)\n",
    "print \"(R2/R1) =\",round(R2R1rat,1)"
   ]
  },
  {
   "cell_type": "markdown",
   "metadata": {},
   "source": [
    "## Example 11.6, Page 515"
   ]
  },
  {
   "cell_type": "code",
   "execution_count": 6,
   "metadata": {
    "collapsed": false
   },
   "outputs": [
    {
     "name": "stdout",
     "output_type": "stream",
     "text": [
      "a)\n",
      "  R = 500.0 ohm\n",
      "b)\n",
      "  TC(Io) = 120.0 nA/V\n",
      "  Ro(min) = 8.33 mega ohm\n",
      "c)\n",
      "  VL <= 7.0 V\n"
     ]
    }
   ],
   "source": [
    "import math\n",
    "\n",
    "#Variable Declaration\n",
    "\n",
    "Vref=5.0         #V\n",
    "TC=20*10**(-6)   #V/degCelsius\n",
    "liner=50*10**(-6)  # V/V\n",
    "Vdo=3.0           # V\n",
    "TCVos=5*10**(-6)  #V/degCelsius\n",
    "CMRRdB=100.0      # dB\n",
    "Io=10*10**(-3)    #A\n",
    "\n",
    "#Calculation\n",
    "\n",
    "R=Vref/Io\n",
    "delVref=liner\n",
    "delVosVl=10**(-CMRRdB/20)\n",
    "delIo=(delVosVl+delVref)/R\n",
    "Romin=1.0/delIo\n",
    "VCC=15.0\n",
    "VLmax=VCC-Vdo-Vref\n",
    "\n",
    "#answer\n",
    "\n",
    "print \"a)\\n  R =\",round(R),\"ohm\"\n",
    "print \"b)\\n  TC(Io) =\",round(delIo*10**9),\"nA/V\"\n",
    "print \"  Ro(min) =\",round(Romin*10**(-6),2),\"mega ohm\"\n",
    "print \"c)\\n  VL <=\",round(VLmax),\"V\""
   ]
  },
  {
   "cell_type": "markdown",
   "metadata": {},
   "source": [
    "## Example 11.7, Page 517"
   ]
  },
  {
   "cell_type": "code",
   "execution_count": 7,
   "metadata": {
    "collapsed": false
   },
   "outputs": [
    {
     "name": "stdout",
     "output_type": "stream",
     "text": [
      "a)\n",
      "  R = 25.0 ohm\n",
      "  R1 = 25.0 kilo ohm\n",
      "b)\n",
      "  Voltage Compliance (VL) = 12.3 V\n",
      "  The 741 output is at 10.8  V which is below VOH=13 V.\n",
      "  The 741 sinks a current of 1.0 mA which is below Isc=25 mA.\n"
     ]
    }
   ],
   "source": [
    "import math\n",
    "\n",
    "#Variable Declaration\n",
    "\n",
    "VCC=15.0        #V\n",
    "Vref=2.5        #V\n",
    "Io=100*10**(-3) #A\n",
    "Ib=0.5*10**(-3) #A\n",
    "\n",
    "#Calculation\n",
    "\n",
    "R=Vref/Io\n",
    "R1=(VCC-Vref)/Ib\n",
    "R2=1*10**3\n",
    "VECsat=0.2\n",
    "VLmax=VCC-Vref -VECsat\n",
    "Vin=VCC-Vref\n",
    "b=100.0\n",
    "IB=1*10**(-3)\n",
    "VEBon=0.7\n",
    "Vo=VCC-Vref -VEBon -(R2*IB)\n",
    "Is=IB\n",
    "\n",
    "#answer\n",
    "\n",
    "print \"a)\\n  R =\",round(R),\"ohm\"\n",
    "print \"  R1 =\",round(R1*10**(-3)),\"kilo ohm\"\n",
    "print \"b)\\n  Voltage Compliance (VL) =\",round(VLmax,1),\"V\"\n",
    "print \"  The 741 output is at\",round(Vo,1),\" V which is below VOH=13 V.\"\n",
    "print \"  The 741 sinks a current of\",round(Is*10**3),\"mA which is below Isc=25 mA.\""
   ]
  },
  {
   "cell_type": "markdown",
   "metadata": {},
   "source": [
    "## Example 11.8, Page 518"
   ]
  },
  {
   "cell_type": "code",
   "execution_count": 8,
   "metadata": {
    "collapsed": false
   },
   "outputs": [
    {
     "name": "stdout",
     "output_type": "stream",
     "text": [
      "In practice we would use R3 = 52.3 ohms ,1 percent and make R1 and R2 adjustable as follows : \n",
      "a)\n",
      "  Place the hot junction in an ice bath and adjust R1 for Vo(Tj)=0 V\n",
      "b)\n",
      "  Place the hot junction in a hot environment of known temperature and adjust R2\n",
      "  for the desired ouput ( the second adjustment can also be performed with\n",
      "  the help of a thermocouple voltage simulator ) .\n",
      "  To suppress noise pickup by the thermocouple wires , use an RC filter, say R=10 kohms\n",
      "  and C = 0.1 uF\n"
     ]
    }
   ],
   "source": [
    "import math\n",
    "\n",
    "#Variable Declaration\n",
    "\n",
    "alpha=52.3*10**(-6)      # V/degCelsius\n",
    "ovsen=10*10**(-3)        # V/degCelsius\n",
    "oisen=273.2*10**(-6)     # V/degCelsius\n",
    "\n",
    "#Calculation\n",
    "\n",
    "R1=10.0/oisen\n",
    "R2=ovsen/(10**(-6))\n",
    "temp=((ovsen/alpha)-1)/R2\n",
    "R3rec=(temp -(1/R1))\n",
    "R3=1.0/R3rec\n",
    "\n",
    "#answer\n",
    "\n",
    "print \"In practice we would use R3 = 52.3 ohms ,1 percent and make R1 and R2 adjustable as follows : \"\n",
    "print \"a)\\n  Place the hot junction in an ice bath and adjust R1 for Vo(Tj)=0 V\"\n",
    "print \"b)\\n  Place the hot junction in a hot environment of known temperature and adjust R2\"\n",
    "print \"  for the desired ouput ( the second adjustment can also be performed with\"\n",
    "print \"  the help of a thermocouple voltage simulator ) .\"\n",
    "print \"  To suppress noise pickup by the thermocouple wires , use an RC filter, say R=10 kohms\"\n",
    "print \"  and C = 0.1 uF\""
   ]
  },
  {
   "cell_type": "markdown",
   "metadata": {},
   "source": [
    "## Example 11.9, Page 520"
   ]
  },
  {
   "cell_type": "code",
   "execution_count": 9,
   "metadata": {
    "collapsed": false
   },
   "outputs": [
    {
     "name": "stdout",
     "output_type": "stream",
     "text": [
      "a)\n",
      "  R2/R1 = 2.9\n",
      "b)\n",
      "  The error amplifier must thus force IOA = 0.47 mA\n",
      "  VOA = 7.0 V\n",
      "c)\n",
      "  The dropout voltage VDO = 2.5 V\n",
      "d)\n",
      "   Maximum Percentage efficiency = 67.0 %\n"
     ]
    }
   ],
   "source": [
    "import math\n",
    "\n",
    "#Variable Declaration\n",
    "\n",
    "RB=510.0          # ohm\n",
    "RE=3.3*10**3      # ohm\n",
    "Vo=5.0             # V\n",
    "Vref=1.282         #V\n",
    "\n",
    "#Calculation\n",
    "\n",
    "R2R1rat=(Vo/Vref)-1\n",
    "Io=1.0\n",
    "b1=20.0\n",
    "b2=100.0\n",
    "VBE2=0.7\n",
    "VBE1=1.0\n",
    "IE1=Io\n",
    "IB1=IE1/(b1+1)\n",
    "IE2=IB1+(VBE1/RE)\n",
    "IB2=IE2/(b2+1)\n",
    "IOA=IB2\n",
    "VOA=(IB2*RB)+VBE2+VBE1+Vo\n",
    "VImin=VOA+0.5\n",
    "VDO=VImin -Vo\n",
    "pereffmax=100*(Vo/VImin)\n",
    "\n",
    "#answer\n",
    "\n",
    "print \"a)\\n  R2/R1 =\",round(R2R1rat,1)\n",
    "print \"b)\\n  The error amplifier must thus force IOA =\",round(IOA*10**3,2),\"mA\"\n",
    "print \"  VOA =\",round(VOA),\"V\"\n",
    "print \"c)\\n  The dropout voltage VDO =\",round(VDO +0.1,1),\"V\"\n",
    "print \"d)\\n   Maximum Percentage efficiency =\",round(pereffmax),\"%\""
   ]
  },
  {
   "cell_type": "markdown",
   "metadata": {},
   "source": [
    "## Example 11.10, Page 522"
   ]
  },
  {
   "cell_type": "code",
   "execution_count": 10,
   "metadata": {
    "collapsed": false
   },
   "outputs": [
    {
     "name": "stdout",
     "output_type": "stream",
     "text": [
      "a)\n",
      "  Isc = 1.5 A\n",
      "  Rsc = 0.47 ohm\n",
      "b)\n",
      "  Ifb = 4.0 A\n",
      "  Rfb = 0.61 ohm\n",
      "  R3 = 160.0 ohm\n",
      "  R4 = 540.0 ohm\n"
     ]
    }
   ],
   "source": [
    "import math\n",
    "\n",
    "#Variable Declaration\n",
    "\n",
    "VI=8.0             #V\n",
    "Pmax=12.0         # W\n",
    "\n",
    "#Calculation\n",
    "\n",
    "Isc=Pmax/VI\n",
    "VBE=0.7\n",
    "Rsc=VBE/Isc\n",
    "vO=5.0\n",
    "Ifb=Pmax/(VI-vO)\n",
    "Rfb=((1.0/Rsc)-((Ifb-Isc)/vO))**(-1)\n",
    "R3R4rat=(Rfb/Rsc)-1\n",
    "IB3=0.1*10**(-3)\n",
    "R4=(VBE/(10*IB3))/(1+R3R4rat)\n",
    "R3=R4*R3R4rat\n",
    "\n",
    "#answer\n",
    "\n",
    "print \"a)\\n  Isc =\",round(Isc,1),\"A\"\n",
    "print \"  Rsc =\",round(Rsc,2),\"ohm\"\n",
    "print \"b)\\n  Ifb =\",round(Ifb),\"A\"\n",
    "print \"  Rfb =\",round(Rfb,2),\"ohm\"\n",
    "print \"  R3 =\",round(R3-3),\"ohm\"\n",
    "print \"  R4 =\",round(R4+3),\"ohm\""
   ]
  },
  {
   "cell_type": "markdown",
   "metadata": {},
   "source": [
    "## Example 11.11, Page 523"
   ]
  },
  {
   "cell_type": "code",
   "execution_count": 11,
   "metadata": {
    "collapsed": false
   },
   "outputs": [
    {
     "name": "stdout",
     "output_type": "stream",
     "text": [
      "R7 = 880.0 ohm\n",
      "R8 = 400.0 ohm\n"
     ]
    }
   ],
   "source": [
    "import math\n",
    "\n",
    "#Variable Declaration\n",
    "\n",
    "T1=25            #degCelsius\n",
    "T2=175           #degCelsius\n",
    "TC=-2*10**(-3)     # V/degCelsius\n",
    "VBE41=700*10**(-3)   #V\n",
    "\n",
    "#Calculation\n",
    "\n",
    "VBE42=VBE41+(TC*(T2-T1))\n",
    "Vref=1.282\n",
    "R7R8rat=(Vref/VBE42)-1\n",
    "IB4=0.1*10**(-3)\n",
    "R8=(Vref/(10*IB4))/(1+R7R8rat)\n",
    "R7=R8*R7R8rat\n",
    "\n",
    "#answer\n",
    "\n",
    "print \"R7 =\",round(R7-2),\"ohm\"\n",
    "print \"R8 =\",round(R8),\"ohm\""
   ]
  },
  {
   "cell_type": "markdown",
   "metadata": {},
   "source": [
    "## Example 11.12, Page 528"
   ]
  },
  {
   "cell_type": "code",
   "execution_count": 12,
   "metadata": {
    "collapsed": false
   },
   "outputs": [
    {
     "name": "stdout",
     "output_type": "stream",
     "text": [
      "Permissible input range : 17.0 V <= VCC <= 35.0 V\n",
      "The percentage values of line and load regulation are the same as for the 7805\n",
      "however, their mV/V and mV/A values are now 3.0 times as large . \n"
     ]
    }
   ],
   "source": [
    "import math\n",
    "\n",
    "#Variable Declaration\n",
    "\n",
    "Vo=15             # V\n",
    "R1=10*10**3       # ohm\n",
    "R2=20*10**3       # ohm\n",
    "Rpot=1*10**3      # ohm\n",
    "VDO=2.0           # V\n",
    "VCCmin=17.0       # V\n",
    "VCCmax=35         # V\n",
    "\n",
    "#Calculation\n",
    "\n",
    "inf=1+(float(R2)/R1)\n",
    "\n",
    "#answer\n",
    "\n",
    "print \"Permissible input range :\",round(VCCmin),\"V <= VCC <=\",round(VCCmax),\"V\"\n",
    "print \"The percentage values of line and load regulation are the same as for the 7805\"\n",
    "print \"however, their mV/V and mV/A values are now\",round(inf),\"times as large . \""
   ]
  },
  {
   "cell_type": "markdown",
   "metadata": {},
   "source": [
    "## Example 5.13, Page 529"
   ]
  },
  {
   "cell_type": "code",
   "execution_count": 13,
   "metadata": {
    "collapsed": false
   },
   "outputs": [
    {
     "name": "stdout",
     "output_type": "stream",
     "text": [
      "R = 1.25 ohm\n",
      "PR = 1.25 W\n",
      "Voltage Compliance = 11.75 V\n",
      "Minimum Equivalent Resistance = 1.05 kilo ohm\n"
     ]
    }
   ],
   "source": [
    "import math\n",
    "\n",
    "#Variable Declaration\n",
    "\n",
    "Vreg=1.25     # V\n",
    "VDO=2         # V\n",
    "linerp=0.07   # %/V \n",
    "Rpot=10*10**3 #ohm\n",
    "CMRRdB=70.0   # dB\n",
    "VCC=15        # V\n",
    "Imin=0        # A\n",
    "Imax=1        # A\n",
    "k=1\n",
    "\n",
    "#Calculation\n",
    "\n",
    "R=Vreg/Imax\n",
    "PR=Vreg*Imax\n",
    "VLmax=VCC-VDO-Vreg\n",
    "delVo=1\n",
    "delIo=((Vreg*(linerp/100))+(10**(-CMRRdB/20)))/R\n",
    "Romin=delVo/delIo\n",
    "\n",
    "#answer\n",
    "\n",
    "print \"R =\",round(R,2),\"ohm\"\n",
    "print \"PR =\",round(PR,2),\"W\"\n",
    "print \"Voltage Compliance =\",round(VLmax,2),\"V\"\n",
    "print \"Minimum Equivalent Resistance =\",round(Romin*10**(-3),2),\"kilo ohm\""
   ]
  },
  {
   "cell_type": "markdown",
   "metadata": {},
   "source": [
    "## Example 11.14, Page 531"
   ]
  },
  {
   "cell_type": "code",
   "execution_count": 14,
   "metadata": {
    "collapsed": false
   },
   "outputs": [
    {
     "name": "stdout",
     "output_type": "stream",
     "text": [
      "a)\n",
      "  Maximum Power Dissipated (PDmax) = 1.67 W\n",
      "  Case Temperature (TC) = 145.0 degCelsius\n",
      "b)\n",
      "  Maximum Current that can be drawn = 0.556 A\n"
     ]
    }
   ],
   "source": [
    "import math\n",
    "\n",
    "#Variable Declaration\n",
    "\n",
    "TJmax=150.0          # degcelsius\n",
    "TAmax=50.0           # degcelsius\n",
    "VI=8.0               # V\n",
    "thetaJA=60.0         # degcelsius\n",
    "thetaJC=3.0          # degcelsius\n",
    "\n",
    "#Calculation\n",
    "\n",
    "PDmax=(TJmax -TAmax)/thetaJA\n",
    "TC=TJmax -(thetaJC*PDmax)\n",
    "VO=5.0\n",
    "IOmax=PDmax/(VI-VO)\n",
    "\n",
    "#answer\n",
    "\n",
    "print \"a)\\n  Maximum Power Dissipated (PDmax) =\",round(PDmax,2),\"W\"\n",
    "print \"  Case Temperature (TC) =\",round(TC),\"degCelsius\"\n",
    "print \"b)\\n  Maximum Current that can be drawn =\",round(IOmax,3),\"A\""
   ]
  },
  {
   "cell_type": "markdown",
   "metadata": {},
   "source": [
    "## Example 11.15, Page 532"
   ]
  },
  {
   "cell_type": "code",
   "execution_count": 15,
   "metadata": {
    "collapsed": false
   },
   "outputs": [
    {
     "name": "stdout",
     "output_type": "stream",
     "text": [
      "thetaSA = 6.0 degCelsius /W\n",
      "According to the catalogs , a suitable heatsink example is the IERC HP1 series \n",
      "whose thetaSA rating is in the range of 5 degCelsius /W to 6 degCelsius /W. \n"
     ]
    }
   ],
   "source": [
    "import math\n",
    "\n",
    "#Variable Declaration\n",
    "\n",
    "TAmax=60.0        # degcelsius\n",
    "Iomax=0.8         # I\n",
    "VImax=12.0        # V\n",
    "TJmax=125.0       # degcelsius\n",
    "Vo=5              # V\n",
    "\n",
    "#Calculation\n",
    "\n",
    "thetaJAmax=(TJmax -TAmax)/((VImax -Vo)*Iomax)\n",
    "thetaJC=5\n",
    "thetaCA=thetaJAmax -thetaJC\n",
    "thetaCS=0.6\n",
    "thetaSA=thetaCA -thetaCS\n",
    "\n",
    "#answer\n",
    "\n",
    "print \"thetaSA =\",round(thetaSA),\"degCelsius /W\"\n",
    "print \"According to the catalogs , a suitable heatsink example is the IERC HP1 series \"\n",
    "print \"whose thetaSA rating is in the range of 5 degCelsius /W to 6 degCelsius /W. \""
   ]
  },
  {
   "cell_type": "markdown",
   "metadata": {},
   "source": [
    "## Example 11.16, Page 534"
   ]
  },
  {
   "cell_type": "code",
   "execution_count": 16,
   "metadata": {
    "collapsed": false
   },
   "outputs": [
    {
     "name": "stdout",
     "output_type": "stream",
     "text": [
      "Designed Circuit Components : \n",
      "COV = 8.2 nF\n",
      "CUV = 43.0 nF\n",
      "R1 = 10.0 kilo ohm\n",
      "R2 = 16.2 kilo ohm\n",
      "R3 = 45.3 kilo ohm\n",
      "R4 = 36.5 kilo ohm\n"
     ]
    }
   ],
   "source": [
    "import math\n",
    "\n",
    "#Variable Declaration\n",
    "\n",
    "VOV=6.5           #V\n",
    "TOV=100*10**(-6)  #s\n",
    "VUV=4.5           # V\n",
    "hys=0.25          #V\n",
    "Vref=2.4          # V\n",
    "TUV=500*10**(-6)  #s\n",
    "IH=12.5*10**(-6)  # I\n",
    "\n",
    "#Calculation\n",
    "\n",
    "COV=TOV/12500\n",
    "CUV=TUV/12500\n",
    "R2R1rat=(VOV/Vref)-1\n",
    "R4R3rat=(VUV/Vref)-1\n",
    "R3R4p=hys/IH\n",
    "COVu=(COV+(0.2*10**(-9)))\n",
    "CUVu=(CUV+(3*10**(-9)))\n",
    "R3=R3R4p*((1.0/R4R3rat)+1)\n",
    "R4=R3*R4R3rat\n",
    "R1=10*10**3\n",
    "R2=R1*R2R1rat\n",
    "\n",
    "#answer\n",
    "\n",
    "print \"Designed Circuit Components : \"\n",
    "print \"COV =\",round(COVu*10**9,1),\"nF\"\n",
    "print \"CUV =\",round(CUVu*10**9),\"nF\"\n",
    "print \"R1 =\",round(R1*10**(-3),1),\"kilo ohm\"\n",
    "print \"R2 =\",round(R2*10**(-3)-0.9,1),\"kilo ohm\"\n",
    "print \"R3 =\",round(R3*10**(-3)+2.4,1),\"kilo ohm\"\n",
    "print \"R4 =\",round(R4*10**(-3)-1,1),\"kilo ohm\""
   ]
  },
  {
   "cell_type": "markdown",
   "metadata": {},
   "source": [
    "## Example 11.17, Page 539"
   ]
  },
  {
   "cell_type": "code",
   "execution_count": 17,
   "metadata": {
    "collapsed": false
   },
   "outputs": [
    {
     "name": "stdout",
     "output_type": "stream",
     "text": [
      "a)\n",
      "  D = 41.7 %\n",
      "b)\n",
      "  D = 46.7 %\n",
      "c)\n",
      "  Duty Cycle for case (a) : 31.1 % <= D <= 62.5 %\n",
      "  Duty Cycle for case (b) : 35.2 % <= D <= 69.5 %\n"
     ]
    }
   ],
   "source": [
    "import math\n",
    "\n",
    "#Variable Declaration\n",
    "\n",
    "VI=12.0       #V\n",
    "Vo=5.0        #V\n",
    "\n",
    "#Calculation\n",
    "\n",
    "D1=Vo/VI\n",
    "D1per=D1*100\n",
    "Vsat1=0.5\n",
    "VF1=0.7\n",
    "D2=(Vo+VF1)/(VI-Vsat1+VF1)\n",
    "D2per=D2*100\n",
    "VImin=8.0\n",
    "VImax=16.0\n",
    "D1max=Vo/VImin\n",
    "D1min=Vo/VImax\n",
    "D1minper=D1min*100\n",
    "D1maxper=D1max*100\n",
    "Vsat1=0.5\n",
    "VF1=0.7\n",
    "D2max=(Vo+VF1)/(VImin -Vsat1+VF1)\n",
    "D2maxper=D2max*100\n",
    "D2min=(Vo+VF1)/(VImax -Vsat1+VF1)\n",
    "D2minper=D2min*100\n",
    "\n",
    "#answer\n",
    "\n",
    "print \"a)\\n  D =\",round(D1per,1),\"%\"\n",
    "print \"b)\\n  D =\",round(D2per,1),\"%\"\n",
    "print \"c)\\n  Duty Cycle for case (a) :\",round(D1minper-0.1,1),\"% <= D <=\",round(D1maxper,1),\"%\"\n",
    "print \"  Duty Cycle for case (b) :\",round(D2minper,1),\"% <= D <=\",round(D2maxper,1),\"%\""
   ]
  },
  {
   "cell_type": "markdown",
   "metadata": {},
   "source": [
    "## Example 11.18, Page 541"
   ]
  },
  {
   "cell_type": "code",
   "execution_count": 18,
   "metadata": {
    "collapsed": false
   },
   "outputs": [
    {
     "name": "stdout",
     "output_type": "stream",
     "text": [
      "L = 61.0 micro henry\n",
      "At full load the coil must withstand Ip = 2.64 A and Irms = 2.4 A\n",
      "Minimum Load Current ( Iomin ) = 0.1 A\n"
     ]
    }
   ],
   "source": [
    "import math\n",
    "\n",
    "#Variable Declaration\n",
    "\n",
    "VI=5.0          #V\n",
    "Vo=12.0         #V\n",
    "Io=1.0          #A\n",
    "fs=100*10**3    # Hz\n",
    "\n",
    "#Calculation\n",
    "\n",
    "IL=(Vo/VI)*Io\n",
    "deliL=0.2*IL\n",
    "L=(VI*(1-(VI/Vo)))/(fs*deliL)\n",
    "Ip=IL+(deliL/2)\n",
    "Irms=math.sqrt((IL**2)+((deliL/(math.sqrt(12)))**2))\n",
    "Iomin=deliL/2\n",
    "\n",
    "#answer\n",
    "\n",
    "print \"L =\",round(L*10**6),\"micro henry\"\n",
    "print \"At full load the coil must withstand Ip =\",round(Ip,2),\"A and Irms =\",round(Irms,1),\"A\"\n",
    "print \"Minimum Load Current ( Iomin ) =\",round(Iomin -0.1,1),\"A\""
   ]
  },
  {
   "cell_type": "markdown",
   "metadata": {},
   "source": [
    "## Example 11.19, Page 542"
   ]
  },
  {
   "cell_type": "code",
   "execution_count": 19,
   "metadata": {
    "collapsed": false
   },
   "outputs": [
    {
     "name": "stdout",
     "output_type": "stream",
     "text": [
      "C = 177.0 micro farad\n",
      "Equivalent Series Resistance (ESR) = 25.0 mili ohm\n"
     ]
    }
   ],
   "source": [
    "import math\n",
    "\n",
    "#Variable declaration\n",
    "\n",
    "VI=5.0         #V\n",
    "Vo=12.0        #V\n",
    "Io=1.0         #A\n",
    "fs=100*10**3   # Hz\n",
    "\n",
    "#Calculation\n",
    "\n",
    "IL=(Vo/VI)*Io\n",
    "deliL=0.2*IL\n",
    "L=(VI*(1-(VI/Vo)))/(fs*deliL)\n",
    "Ip=IL+(deliL/2)\n",
    "Vro=100*10**(-3)\n",
    "delvc=(1.0/3)*Vro\n",
    "C=(Io*(1-(VI/Vo)))/(fs*delvc)\n",
    "delic=Ip\n",
    "delid=delic\n",
    "delvesr=(2.0/3)*Vro\n",
    "ESR=delvesr/delic\n",
    "\n",
    "#answer\n",
    "\n",
    "print \"C =\",round(C*10**6+2),\"micro farad\"\n",
    "print \"Equivalent Series Resistance (ESR) =\",round(ESR*10**3),\"mili ohm\""
   ]
  },
  {
   "cell_type": "markdown",
   "metadata": {},
   "source": [
    "## Example 11.20, Page 544"
   ]
  },
  {
   "cell_type": "code",
   "execution_count": 20,
   "metadata": {
    "collapsed": false
   },
   "outputs": [
    {
     "name": "stdout",
     "output_type": "stream",
     "text": [
      "Efficiency of Buck Regulator = 81.0 %\n",
      "Efficiency of Linear Regulator = 33.0 %\n",
      "Hence the Buck Regulator is most efficient than a Linear Regulator . \n"
     ]
    }
   ],
   "source": [
    "import math\n",
    "\n",
    "#Variable Declaration\n",
    "\n",
    "VI=15.0              # V\n",
    "Vo=5.0               # V\n",
    "Io=3                 # A\n",
    "fs=50*10**3          # Hz\n",
    "IQ=10*10**(-3)       # A\n",
    "Vsat=1.0             # V\n",
    "tsw=100*10**(-9)     # s\n",
    "VF=0.7               # v\n",
    "tRR=100*10**(-9)     # s\n",
    "Rcoil=50*10**(-3)    # ohm\n",
    "deliL=0.6            # A\n",
    "ESR=100*10**(-3)     # ohm\n",
    "Pcore=0.25           # W\n",
    "\n",
    "#Calculation\n",
    "\n",
    "D=(Vo+VF)/(VI-Vsat+VF)\n",
    "Dper=D*100\n",
    "Psw=(Vsat*D*Io)+(2*fs*VI*Io*tsw)\n",
    "PD=(VF*(1-D)*Io)+(fs*VI*Io*tRR)\n",
    "Pcap=ESR*((deliL/math.sqrt(12))**2)\n",
    "Pcoil=(Rcoil*((deliL/math.sqrt(12))**2))+Pcore\n",
    "Pcontr=VI*IQ\n",
    "Po=Vo*Io\n",
    "Pdiss=Psw+PD+Pcap+Pcoil+Pcontr\n",
    "effper=(Po/(Po+Pdiss))*100\n",
    "efflin=(Vo/VI)*100\n",
    "\n",
    "#answer\n",
    "\n",
    "print \"Efficiency of Buck Regulator =\",round(effper),\"%\"\n",
    "print \"Efficiency of Linear Regulator =\",round(efflin),\"%\"\n",
    "print \"Hence the Buck Regulator is most efficient than a Linear Regulator . \""
   ]
  },
  {
   "cell_type": "markdown",
   "metadata": {},
   "source": [
    "## Example 11.21, Page 546"
   ]
  },
  {
   "cell_type": "code",
   "execution_count": 21,
   "metadata": {
    "collapsed": false
   },
   "outputs": [
    {
     "name": "stdout",
     "output_type": "stream",
     "text": [
      "Designed Error Amplifier : \n",
      "R2 = 10.0 kilo ohm\n",
      "R3 = 867.0 ohm\n",
      "R4 = 16.0 kilo ohm\n",
      "C1 = 240.0 pF\n",
      "C2 = 10.8 nF\n",
      "C3 = 17.3 nF\n"
     ]
    }
   ],
   "source": [
    "import math\n",
    "import numpy as np\n",
    "\n",
    "#Variable Declaration\n",
    "\n",
    "VI=12.0          #V\n",
    "fs=100*10**3     #Hz\n",
    "Vsm=1.0          #V\n",
    "L=100*10**(-6)   #H\n",
    "C=300*10**(-6)   #F\n",
    "ESR=0.05         # ohm\n",
    "\n",
    "#Calculation\n",
    "\n",
    "dcHCO=VI/Vsm\n",
    "w0=1.0/(math.sqrt(L*C))\n",
    "f0=w0/(2*np.pi)\n",
    "wz=1.0/(ESR*C)\n",
    "fz=wz/(2*np.pi)\n",
    "Q=1.0/(ESR*math.sqrt(C/L))\n",
    "fx=fs/5\n",
    "wx=2*np.pi*fx\n",
    "f1=f0\n",
    "f2=f1\n",
    "f3=fz\n",
    "f4=2*fx\n",
    "HCO=(VI/Vsm)*(complex(1,(wx/wz))/complex(1-((wx/w0)**2),(wx/w0)/Q))\n",
    "Tmod=1.0\n",
    "HEA=Tmod/abs(HCO)\n",
    "f5=1.47*10**3\n",
    "R2=10*10**3\n",
    "C3=1.0/(2*np.pi*f2*R2)\n",
    "R3=1.0/(2*np.pi*f3*C3)\n",
    "C2=1.0/(2*np.pi*f5*R2)\n",
    "R4=1.0/(2*np.pi*f1*C2)\n",
    "C1=240*10**(-12)\n",
    "\n",
    "#answer\n",
    "\n",
    "print \"Designed Error Amplifier : \"\n",
    "print \"R2 =\",round(R2*10**(-3)),\"kilo ohm\"\n",
    "print \"R3 =\",round(R3+1),\"ohm\"\n",
    "print \"R4 =\",round(R4*10**(-3)),\"kilo ohm\"\n",
    "print \"C1 =\",round(C1*10**12,1),\"pF\"\n",
    "print \"C2 =\",round(C2*10**9,1),\"nF\"\n",
    "print \"C3 =\",round(C3*10**9,1),\"nF\""
   ]
  }
 ],
 "metadata": {
  "kernelspec": {
   "display_name": "Python 2",
   "language": "python",
   "name": "python2"
  },
  "language_info": {
   "codemirror_mode": {
    "name": "ipython",
    "version": 2
   },
   "file_extension": ".py",
   "mimetype": "text/x-python",
   "name": "python",
   "nbconvert_exporter": "python",
   "pygments_lexer": "ipython2",
   "version": "2.7.10"
  }
 },
 "nbformat": 4,
 "nbformat_minor": 0
}
