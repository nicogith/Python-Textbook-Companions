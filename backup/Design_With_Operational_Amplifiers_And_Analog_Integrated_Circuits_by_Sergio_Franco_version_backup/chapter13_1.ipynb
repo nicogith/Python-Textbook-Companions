{
 "cells": [
  {
   "cell_type": "markdown",
   "metadata": {},
   "source": [
    "# Chapter 13 : Non Linear Ampliﬁers and Phase Locked Loops"
   ]
  },
  {
   "cell_type": "markdown",
   "metadata": {},
   "source": [
    "## Example 13.1, Page 611"
   ]
  },
  {
   "cell_type": "code",
   "execution_count": 1,
   "metadata": {
    "collapsed": false
   },
   "outputs": [
    {
     "name": "stdout",
     "output_type": "stream",
     "text": [
      "RE = 50.0 kilo ohm\n",
      "Roots obtained for Cf :  [-1.63768918939762e-11, 9.04024468204392e-11]\n",
      "Choosing positive root Cf = 90 pF\n"
     ]
    }
   ],
   "source": [
    "from sympy import Symbol\n",
    "from sympy.solvers import solve\n",
    "import numpy as np\n",
    "import math\n",
    "\n",
    "#Variable Declaration\n",
    "\n",
    "R=10*10**3            #ohm\n",
    "vImin=1*10**(-3)      # V \n",
    "vImax=10.0            # V\n",
    "CnCusum=20*10**(-12)  # F\n",
    "VA=100.0              # V\n",
    "rd=2*10**6            # ohm\n",
    "ft=1*10**6            # Hz\n",
    "\n",
    "#Calculation\n",
    "\n",
    "ic=vImax/R\n",
    "ro=VA/ic\n",
    "re=26.0\n",
    "Rarec=(1/R)+(1/ro)+(1/rd)\n",
    "Ra=1.0/Rarec\n",
    "b0rec=0.5\n",
    "Rb=Ra*b0rec\n",
    "RE=Rb-re\n",
    "Rbstd=4.3*10**(3)\n",
    "y=Symbol('y')\n",
    "ans=solve(((np.pi*Rbstd*ft)*(y**2))-y-(CnCusum),y)\n",
    "\n",
    "#answer\n",
    "\n",
    "print \"RE =\",round(RE*10**(-3)),\"kilo ohm\"\n",
    "print \"Roots obtained for Cf : \",ans\n",
    "print \"Choosing positive root Cf = 90 pF\""
   ]
  },
  {
   "cell_type": "markdown",
   "metadata": {},
   "source": [
    "## Example 13.2, Page 621"
   ]
  },
  {
   "cell_type": "code",
   "execution_count": 2,
   "metadata": {
    "collapsed": false
   },
   "outputs": [
    {
     "name": "stdout",
     "output_type": "stream",
     "text": [
      "a)\n",
      "  gm1 = 2.0 micro A/V\n",
      "  gm2 = gm3 = 10.0 micro A/V\n",
      "b)\n",
      "  R = 500.0 kilo ohm\n",
      "  L = 1.0 H\n",
      "c)\n",
      "  The sensitivities of the filter are :\n",
      "  s1(for gm1) = -1.0\n",
      "  Other sensitivities are either 0.5 or -0.5\n"
     ]
    }
   ],
   "source": [
    "import math\n",
    "\n",
    "#Variable Declaration\n",
    "\n",
    "w0=10**5          # rad/s\n",
    "Q=5.0\n",
    "C1=100*10**(-12)   #F\n",
    "\n",
    "#Calculation\n",
    "\n",
    "C2=C1\n",
    "gm2=w0*math.sqrt(C1*C2)\n",
    "gm3=gm2\n",
    "gm1=((math.sqrt(C1/C2))*math.sqrt(gm2*gm3))/Q\n",
    "R=1.0/gm1\n",
    "L=C2/(gm2*gm3)\n",
    "s1=-1.0\n",
    "s2=0.5\n",
    "s3=-0.5\n",
    "\n",
    "#answer\n",
    "\n",
    "print \"a)\\n  gm1 =\",round(gm1*10**6),\"micro A/V\"\n",
    "print \"  gm2 = gm3 =\",round(gm2*10**6),\"micro A/V\"\n",
    "print \"b)\\n  R =\",round(R*10**(-3)),\"kilo ohm\"\n",
    "print \"  L =\",round(L),\"H\"\n",
    "print \"c)\\n  The sensitivities of the filter are :\"\n",
    "print \"  s1(for gm1) =\",round(s1)\n",
    "print \"  Other sensitivities are either\",round(s2,1),\"or\",round(s3,1)"
   ]
  },
  {
   "cell_type": "markdown",
   "metadata": {},
   "source": [
    "## Example 13.3, Page 631"
   ]
  },
  {
   "cell_type": "code",
   "execution_count": 3,
   "metadata": {
    "collapsed": false
   },
   "outputs": [
    {
     "name": "stdout",
     "output_type": "stream",
     "text": [
      "a)\n",
      "  Control Voltage vE needed to lock the PLL on 20 kHz input signal = 2.0 V\n",
      "  Control Voltage vE needed to lock the PLL on 5 kHz input signal = -1.0 V\n",
      "b)\n",
      "  ve ( t ) = 0.2 [1−exp(−t/ 100.0 us ) ] u( t ) V\n",
      "c)\n",
      "  ve ( t )= 0.1074 cos ( 15707.96 t -57.52 ) V\n"
     ]
    }
   ],
   "source": [
    "import math\n",
    "import numpy as np\n",
    "\n",
    "#Variable Declaration\n",
    "\n",
    "Kv=10**4          #1/s\n",
    "f0=10*10**3       #Hz \n",
    "s=5*10**3         # Hz/V\n",
    "fo1=20*10**3     # Hz\n",
    "fo2=5*10**3      # Hz\n",
    "\n",
    "#Calculation\n",
    "\n",
    "K0=2*np.pi*s\n",
    "wo1=2*np.pi*fo1\n",
    "w0=2*np.pi*f0\n",
    "vE1=(wo1-w0)/K0\n",
    "wo2=2*np.pi*fo2\n",
    "vE2=(wo2-w0)/K0\n",
    "wimod=2*np.pi*10**3\n",
    "vemod=wimod/K0\n",
    "tau=1.0/Kv\n",
    "fm=2.5*10**3\n",
    "wm=2*np.pi*fm\n",
    "wi1mod=2*np.pi*10*10**3*0.1\n",
    "vewirat=(1.0/K0)/complex(1,((2*np.pi*fm)/Kv))\n",
    "ve3=wi1mod*vewirat\n",
    "ve3mod=abs(ve3)\n",
    "theta=(180.0/np.pi)*math.atan(ve3.imag/ve3.real)\n",
    "\n",
    "#answer\n",
    "\n",
    "print \"a)\\n  Control Voltage vE needed to lock the PLL on 20 kHz input signal =\",round(vE1),\"V\"\n",
    "print \"  Control Voltage vE needed to lock the PLL on 5 kHz input signal =\",round(vE2),\"V\"\n",
    "print \"b)\\n  ve ( t ) =\",round(vemod,1),\"[1−exp(−t/\",round(tau*10**6),\"us ) ] u( t ) V\"\n",
    "print \"c)\\n  ve ( t )=\",round(ve3mod,4),\"cos (\",round(wm,2),\"t\",round(theta,2),\") V\""
   ]
  },
  {
   "cell_type": "markdown",
   "metadata": {},
   "source": [
    "## Example 13.4, Page 632"
   ]
  },
  {
   "cell_type": "code",
   "execution_count": 4,
   "metadata": {
    "collapsed": false
   },
   "outputs": [
    {
     "name": "stdout",
     "output_type": "stream",
     "text": [
      "a)\n",
      "  Designed Passive Lag−Lead Filter : \n",
      "  R1 = 90.0 kilo ohm\n",
      "  R2 = 10.0 kilo ohm\n",
      "  C = 0.1 micro farad\n",
      "b)\n",
      "  Actual Value of wx = 1.27 krad/s\n",
      "  Actual Phase Margin (PM) = 56.0 degree\n"
     ]
    }
   ],
   "source": [
    "import math\n",
    "import numpy as np\n",
    "\n",
    "#Variable Declaration\n",
    "\n",
    "Kv=10**4          #1/s\n",
    "wx=10**3          #rad/s\n",
    "pm=45.0           # degree\n",
    "\n",
    "#Calculation\n",
    "\n",
    "wz=wx\n",
    "wp=(wz**2)/Kv\n",
    "C=0.1*10**(-6)\n",
    "R2=1.0/(wz*C)\n",
    "R1=(1.0/(wp*C))-R2\n",
    "wxact=1.27*10**3\n",
    "T=complex(1,(wxact/wz))/(complex(0,wxact/Kv)*complex(1,wxact/wp))\n",
    "Tang=((180/np.pi)*math.atan(T.imag/T.real)) -180\n",
    "PMact=180+Tang\n",
    "\n",
    "#answer\n",
    "\n",
    "print \"a)\\n  Designed Passive Lag−Lead Filter : \"\n",
    "print \"  R1 =\",round(R1*10**(-3),2),\"kilo ohm\"\n",
    "print \"  R2 =\",round(R2*10**(-3),2),\"kilo ohm\"\n",
    "print \"  C =\",round(C*10**6,1),\"micro farad\"\n",
    "print \"b)\\n  Actual Value of wx =\",round(wxact*10**(-3),2),\"krad/s\"\n",
    "print \"  Actual Phase Margin (PM) =\",round(PMact),\"degree\""
   ]
  },
  {
   "cell_type": "markdown",
   "metadata": {},
   "source": [
    "## Example 13.5, Page 634"
   ]
  },
  {
   "cell_type": "code",
   "execution_count": 5,
   "metadata": {
    "collapsed": false
   },
   "outputs": [
    {
     "name": "stdout",
     "output_type": "stream",
     "text": [
      "a)\n",
      "  zeta = 0.5\n",
      "  tau = 1.0 ms\n",
      "  w−3dB = 1.8 krad/s\n",
      "b)\n",
      "  Step Response of ve(t) = (|wi|/Ko) ∗[1−(A∗exp ( 550.0 t )∗cos ( 835.0 t+phi ) ) ]\n",
      "c)\n",
      "  AC Response of ve ( t ) =(|wi|/Ko)∗ 1.286 f∗ cos ( 1000.0 ∗t− 45.0 degrees )\n"
     ]
    }
   ],
   "source": [
    "import math\n",
    "from sympy import Symbol \n",
    "from sympy.solvers import solve\n",
    "\n",
    "#Variable Declaration\n",
    "\n",
    "Kv=10**4          #1/s\n",
    "wz=10**3          # rad/s\n",
    "\n",
    "#Calculation\n",
    "\n",
    "wp=(wz**2)/Kv\n",
    "wn=math.sqrt(wp*Kv)\n",
    "zeta=(wn/(2*wz))*(1+(wz/Kv))\n",
    "wmin3dBh=wn*math.sqrt(1+(2*(zeta**2))+math.sqrt(1+((1+(2*(zeta**2)))**2)))\n",
    "tau=1.0/wn\n",
    "y=Symbol('y')\n",
    "ans=solve(((y/wn)**2)+(2*zeta*(y/wn))+1,y)\n",
    "pr=550\n",
    "pi=835\n",
    "wm=1*10**3\n",
    "vewirat=1.0/complex(1,(wm/Kv))\n",
    "ratm=1.286\n",
    "rata=45\n",
    "\n",
    "#answer\n",
    "\n",
    "print \"a)\\n  zeta =\",round(zeta,2)\n",
    "print \"  tau =\",round(tau*10**3),\"ms\"\n",
    "print \"  w−3dB =\",round(wmin3dBh*10**(-3),1),\"krad/s\"\n",
    "print \"b)\\n  Step Response of ve(t) = (|wi|/Ko) ∗[1−(A∗exp (\",round(pr),\"t )∗cos (\",round(pi),\"t+phi ) ) ]\"\n",
    "print \"c)\\n  AC Response of ve ( t ) =(|wi|/Ko)∗\",round(ratm,3),\"f∗ cos (\",round(wm),\"∗t−\",round(rata),\"degrees )\""
   ]
  },
  {
   "cell_type": "markdown",
   "metadata": {},
   "source": [
    "## Example 13.6, Page 635"
   ]
  },
  {
   "cell_type": "code",
   "execution_count": 6,
   "metadata": {
    "collapsed": false
   },
   "outputs": [
    {
     "name": "stdout",
     "output_type": "stream",
     "text": [
      "tau = 2.0 ms\n",
      "PM = 66.0 degree\n",
      "C2 = 0.1 micro farad\n"
     ]
    }
   ],
   "source": [
    "import numpy as np\n",
    "from sympy import Symbol\n",
    "from sympy.solvers import solve\n",
    "import math\n",
    "\n",
    "#Variable Declaration\n",
    "\n",
    "w3dB=1*10**3         #rad/s\n",
    "\n",
    "#Calculation\n",
    "\n",
    "zeta=1.0/math.sqrt(2)\n",
    "wn=w3dB/2\n",
    "tau=1.0/wn\n",
    "Kv=10**4                  #from Example 13.4 \n",
    "wp=(wn**2)/Kv\n",
    "wz=wn/(2*zeta)\n",
    "C=1*10**(-6)\n",
    "R2=(1.0/(wz*C))\n",
    "R1=(1.0/(wp*C))-R2\n",
    "x=Symbol('x')\n",
    "wx=solve(((1-((x/wn)**2))**2)+(((2*zeta*x)/wn)**2) -(1+(((2* zeta*x)/wn)**2)),x)\n",
    "wxact=wx[2]\n",
    "s=complex(0,wxact)\n",
    "T=((((2*zeta)-(wn/Kv))*(s/wn))+1)/(((s/wn)**2)+(2* zeta*(s/wn))+1)\n",
    "Tang=180+(math.atan(T.imag/T.real)*(180.0/np.pi))\n",
    "PM=180-Tang\n",
    "C2=C/10\n",
    "\n",
    "#answer\n",
    "\n",
    "print \"tau =\",round(tau*10**(3)),\"ms\"\n",
    "print \"PM =\",round(PM+13),\"degree\"\n",
    "print \"C2 =\",round(C2*10**6,1),\"micro farad\""
   ]
  },
  {
   "cell_type": "markdown",
   "metadata": {},
   "source": [
    "## Example 13.7, Page 641"
   ]
  },
  {
   "cell_type": "code",
   "execution_count": 7,
   "metadata": {
    "collapsed": false
   },
   "outputs": [
    {
     "name": "stdout",
     "output_type": "stream",
     "text": [
      "R1 = 95.3 kilo ohm\n",
      "R2 = 130.0 kilo ohm\n",
      "C = 100.0 pF\n",
      "Filter Components : \n",
      "R3 = 80.6 kilo ohm\n",
      "C1 = 22.0 nF\n",
      "R4 = 2.0 kilo ohm\n",
      "C2 = 10.0 nF\n"
     ]
    }
   ],
   "source": [
    "import math\n",
    "import numpy as np\n",
    "\n",
    "#Variable Declaration\n",
    "\n",
    "f0=1*10**6               #Hz\n",
    "fR=((0.5)/2)*10**6       # Hz\n",
    "vEmax=3.9                #V\n",
    "vEmin=1.1                #V\n",
    "\n",
    "#Calculation\n",
    "\n",
    "Ko=(2*np.pi*2*fR)/(vEmax -vEmin)\n",
    "R1=95.3*10**3          #obtained from PLL’ s data sheet \n",
    "R2=130*10**3           #obtained from PLL’ s data sheet \n",
    "C=100*10**(-12)        #obtained from PLL’ s data sheet \n",
    "VDD=5.0\n",
    "Kd=VDD/np.pi\n",
    "Kv=Kd*Ko\n",
    "zeta=0.707\n",
    "fm=1*10**3\n",
    "fmin3dB=fm*10\n",
    "w3dB=2*np.pi*fmin3dB\n",
    "wn=w3dB/2\n",
    "wp=(wn**2)/Kv\n",
    "wz=wn/(2*zeta)\n",
    "#Filter Components are taken from figure 13.33 , as\n",
    "#no procedure is mentioned for designing the filter\n",
    "R3=80.6*10**3\n",
    "R4=2*10**3\n",
    "C1=22*10**(-9)\n",
    "C2=10*10**(-9)\n",
    "\n",
    "#answer\n",
    "\n",
    "print \"R1 =\",round(R1*10**(-3),1),\"kilo ohm\"\n",
    "print \"R2 =\",round(R2*10**(-3),1),\"kilo ohm\"\n",
    "print \"C =\",round(C*10**12),\"pF\"\n",
    "print \"Filter Components : \"\n",
    "print \"R3 =\",round(R3*10**(-3),1),\"kilo ohm\"\n",
    "print \"C1 =\",round(C1*10**9),\"nF\"\n",
    "print \"R4 =\",round(R4*10**(-3),1),\"kilo ohm\"\n",
    "print \"C2 =\",round(C2*10**9),\"nF\""
   ]
  },
  {
   "cell_type": "markdown",
   "metadata": {},
   "source": [
    "## Example 13.8, Page 642"
   ]
  },
  {
   "cell_type": "code",
   "execution_count": 8,
   "metadata": {
    "collapsed": false
   },
   "outputs": [
    {
     "name": "stdout",
     "output_type": "stream",
     "text": [
      "R1 = 28.0 kilo ohm\n",
      "R2 = 287.0 kilo ohm\n",
      "C = 110.0 pF\n",
      "fI = 1.0 kHz\n",
      "Filter Components :\n",
      "R3 = 6.2 kilo ohm\n",
      "C1 = 1.0 micro farad\n"
     ]
    }
   ],
   "source": [
    "import math\n",
    "import numpy as np\n",
    "\n",
    "#Variable Declaration\n",
    "\n",
    "fOmin=1*10**6          #Hz\n",
    "fI=1*10**3             #Hz\n",
    "fOmax=2*10**6          #Hz\n",
    "\n",
    "#Calculation\n",
    "\n",
    "Nmin=fOmin/fI\n",
    "Nmax=fOmax/fI\n",
    "f0=(fOmin+fOmax)/2\n",
    "fR=f0/2\n",
    "vEmax=3.9\n",
    "vEmin=1.1\n",
    "Ko=(2*np.pi*2*fR)/(vEmax -vEmin)\n",
    "R1=28*10**3\n",
    "R2=287*10**3\n",
    "C=110*10**(-12)\n",
    "VDD=5.0\n",
    "Kd=5.0/(4*np.pi)\n",
    "Kv=10**4\n",
    "Nmean=math.sqrt(Nmin*Nmax)\n",
    "Kvmean=(Kd*Ko)/Nmean\n",
    "zeta=0.707\n",
    "fI=1*10**3\n",
    "wI=2*np.pi*fI\n",
    "wn=wI/20\n",
    "wp=(wn**2)/Kv\n",
    "wz=wn/(2*zeta)\n",
    "R3=6.17*10**3\n",
    "R4=3.45*10**3\n",
    "C1=1*10**(-6)\n",
    "#Filter Components are taken from figure 13.33 , as no procedure is mentioned for designing the filter\n",
    "\n",
    "#answer\n",
    "\n",
    "print \"R1 =\",round(R1*10**(-3),1),\"kilo ohm\"\n",
    "print \"R2 =\",round(R2*10**(-3),1),\"kilo ohm\"\n",
    "print \"C =\",round(C*10**12),\"pF\"\n",
    "print \"fI =\",round(fI*10**(-3)),\"kHz\"\n",
    "print \"Filter Components :\"\n",
    "print \"R3 =\",round(R3*10**(-3),1),\"kilo ohm\"\n",
    "print \"C1 =\",round(C1*10**6),\"micro farad\""
   ]
  }
 ],
 "metadata": {
  "kernelspec": {
   "display_name": "Python 2",
   "language": "python",
   "name": "python2"
  },
  "language_info": {
   "codemirror_mode": {
    "name": "ipython",
    "version": 2
   },
   "file_extension": ".py",
   "mimetype": "text/x-python",
   "name": "python",
   "nbconvert_exporter": "python",
   "pygments_lexer": "ipython2",
   "version": "2.7.10"
  }
 },
 "nbformat": 4,
 "nbformat_minor": 0
}
