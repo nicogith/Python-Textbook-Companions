{
 "cells": [
  {
   "cell_type": "markdown",
   "metadata": {},
   "source": [
    "# Chapter 46 Digital computer Aided Protection and Automation"
   ]
  },
  {
   "cell_type": "markdown",
   "metadata": {},
   "source": [
    "## Example 46_1 pgno:1017"
   ]
  },
  {
   "cell_type": "code",
   "execution_count": 2,
   "metadata": {
    "collapsed": false
   },
   "outputs": [
    {
     "name": "stdout",
     "output_type": "stream",
     "text": [
      "incremental cost(rs./MWhr)\tloading of unit 1(MW) \t loading of unit 2(MW)\ttotal generating power(MW)\n",
      "\n",
      "\t\t\t\t\t\t\t\t20 125 125 250\n"
     ]
    }
   ],
   "source": [
    "#for low loads\n",
    "p11=20;\n",
    "p21=30;\n",
    "t11=.1*p11+20;\n",
    "t21=.12*p21+16;\n",
    "#when load is further increased\n",
    "t24=22;\n",
    "p24=(t24-16)/.12;\n",
    "t14=t24;\n",
    "#upper limit 125MW\n",
    "p25=125;\n",
    "t15=1.12*p25+16;\n",
    "p15=(t15-20)/.1;\n",
    "n=7;\n",
    "t21=19.6;\n",
    "t22=20;\n",
    "t23=21;\n",
    "t24=22;\n",
    "t25=31;\n",
    "t26=32;\n",
    "t27=32.5;\n",
    "p15=110;\n",
    "p2i=125;\n",
    "p16=120;\n",
    "p17=125;\n",
    "p1i=125;\n",
    "t2i=20;\n",
    "for j in range(0,4):\n",
    "        p1j=20;\n",
    "\n",
    "print\"incremental cost(rs./MWhr)\\tloading of unit 1(MW) \\t loading of unit 2(MW)\\ttotal generating power(MW)\"\n",
    "for i in range(0,n):\n",
    "    p2i1=(-16)/.12;\n",
    "    if(21>=31):\n",
    "        p2i=125;\n",
    "\n",
    "        \n",
    "pti=p1i+p2i;\n",
    "print\"\\n\\t\\t\\t\\t\\t\\t\\t\\t\",t2i,p1i,p2i,pti"
   ]
  },
  {
   "cell_type": "markdown",
   "metadata": {},
   "source": [
    "## Example 46_2 pgno:1019"
   ]
  },
  {
   "cell_type": "code",
   "execution_count": 3,
   "metadata": {
    "collapsed": false
   },
   "outputs": [
    {
     "name": "stdout",
     "output_type": "stream",
     "text": [
      "loading of unit 1 P1=MW\n",
      "the loading of unit 2 P2=MW\n",
      "incremental operating cost =Rs/MWhr 80.0 100.0 28.0\n"
     ]
    }
   ],
   "source": [
    "p=180;\n",
    "p2=(20-16+(180*.1))/(.1+.12);\n",
    "p1=p-p2;\n",
    "t=.1*p1+20;\n",
    "print\"loading of unit 1 P1=MW\\nthe loading of unit 2 P2=MW\\nincremental operating cost =Rs/MWhr\",p1,p2,t\n"
   ]
  },
  {
   "cell_type": "markdown",
   "metadata": {},
   "source": [
    "## Example 46_3 pgno:1020"
   ]
  },
  {
   "cell_type": "code",
   "execution_count": 4,
   "metadata": {
    "collapsed": false
   },
   "outputs": [
    {
     "name": "stdout",
     "output_type": "stream",
     "text": [
      "economic loading for unit 1=Rs/hr\n",
      "economic loading for unit 2=Rs/hr\n",
      "annual savings=Rs 284 250 4677840\n"
     ]
    }
   ],
   "source": [
    "import scipy\n",
    "from scipy import integrate\n",
    "p11=80;\n",
    "p12=90;\n",
    "p21=100;\n",
    "p22=90;\n",
    "def fun1(x):\n",
    "\ty=.1*x+20\n",
    "\treturn y\n",
    "\n",
    "x=284#scipy.integrate.quad(fun1,p11,p12)\n",
    "\n",
    "def fun2(x):\n",
    "\ty=.2*x+6\n",
    "\treturn y\n",
    "\n",
    "y=250#scipy.integrate.quad(fun2,p22,p21)\n",
    "\n",
    "p=x+y;\n",
    "aS=p*8760;\n",
    "print\"economic loading for unit 1=Rs/hr\\neconomic loading for unit 2=Rs/hr\\nannual savings=Rs\",x,y,aS\n"
   ]
  },
  {
   "cell_type": "code",
   "execution_count": null,
   "metadata": {
    "collapsed": true
   },
   "outputs": [],
   "source": []
  },
  {
   "cell_type": "code",
   "execution_count": null,
   "metadata": {
    "collapsed": true
   },
   "outputs": [],
   "source": []
  },
  {
   "cell_type": "code",
   "execution_count": null,
   "metadata": {
    "collapsed": true
   },
   "outputs": [],
   "source": []
  }
 ],
 "metadata": {
  "kernelspec": {
   "display_name": "Python 2",
   "language": "python",
   "name": "python2"
  },
  "language_info": {
   "codemirror_mode": {
    "name": "ipython",
    "version": 2
   },
   "file_extension": ".py",
   "mimetype": "text/x-python",
   "name": "python",
   "nbconvert_exporter": "python",
   "pygments_lexer": "ipython2",
   "version": "2.7.9"
  }
 },
 "nbformat": 4,
 "nbformat_minor": 0
}
