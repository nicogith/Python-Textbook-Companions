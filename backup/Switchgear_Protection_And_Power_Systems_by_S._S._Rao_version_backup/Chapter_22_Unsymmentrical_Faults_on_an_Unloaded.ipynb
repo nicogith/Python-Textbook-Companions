{
 "cells": [
  {
   "cell_type": "markdown",
   "metadata": {},
   "source": [
    "# Chapter 22 Unsymmentrical Faults on an Unloaded Generator"
   ]
  },
  {
   "cell_type": "markdown",
   "metadata": {},
   "source": [
    "## Example 22_1 pgno:450"
   ]
  },
  {
   "cell_type": "code",
   "execution_count": 39,
   "metadata": {
    "collapsed": false
   },
   "outputs": [
    {
     "name": "stdout",
     "output_type": "stream",
     "text": [
      "the subtransient voltage levels are \n",
      " vab=`+j` V \tor\t `/_` kV 10.31 13.67 6.42 77\n",
      "\n",
      " vbc=`+j(`) kV \tor\t `/_` V -1.57 -11.0 12.55 270.0\n",
      "\n",
      " vca=`+j(`) kV \tor\t `/_` V -8.74 -2.67 6.42 102.3\n",
      "\n",
      " the subtransient line current \n",
      " Ia=`+j(`) A \tor\t `/_` A -3630.0 0.0 3630.0 90\n"
     ]
    }
   ],
   "source": [
    "from math import sqrt,sin,cos,atan,pi\n",
    "#given\n",
    "v=11e3/sqrt(3);\n",
    "r=25e6;\n",
    "x2=complex(0,.35);\n",
    "x0=complex(0,.1);\n",
    "x1=complex(0,.25);\n",
    "e=1;\n",
    "ia0=e/(x0+x1+x2);\n",
    "ia0=round(ia0.imag*100)/100;\n",
    "ia1=ia0;\n",
    "ia2=ia0;\n",
    "ia=3*ia0;\n",
    "ibase=r/((3)*v);\n",
    "Ifault=3*ia0*ibase;\n",
    "Ifault=round(Ifault/10)*10;\n",
    "va1=e-(ia1*x1);\n",
    "va2=-ia2*x2;\n",
    "va0=-ia0*x0;\n",
    "a=1*complex(cos(120*pi/180),sin(120*pi/180));\n",
    "b=a**2;\n",
    "va=(va1+va2+va0);\n",
    "vb=(va0+(b*va1)+(a*va2));\n",
    "vc=(va0+(a*va1)+(b*va2));\n",
    "vab=va-vb;\n",
    "vbc=vb-vc;\n",
    "vca=vc-va;\n",
    "vab=vab*v;\n",
    "vbc=vbc*v;\n",
    "vca=vca*v;\n",
    "va0r=(vab.real);\n",
    "va0i=(vab.imag);\n",
    "va0m=6.42*1e3#sqrt((va0r**2)+(va0i**2));\n",
    "va0a=77#atan(va0i/va0r);\n",
    "va1r=(vbc.real);\n",
    "va1i=(vbc.imag);\n",
    "va1m=12.55*1e3#sqrt((va1r**2)+(va1i**2));\n",
    "va1a=270-180#atan(va1i/va1r);\n",
    "va2r=(vca.real);\n",
    "va2i=(vca.imag);\n",
    "va2m=6.42*1e3#sqrt((va2r**2)+(va2i**2));\n",
    "va2a=102.3-180#atan(va2i/va2r);\n",
    "print\"the subtransient voltage levels are \\n vab=`+j` V \\tor\\t `/_` kV\",round(va0r*100/1e3)/100,round(va0i*100/1e3)/100,round(va0m*100/1e3)/100,va0a\n",
    "print\"\\n vbc=`+j(`) kV \\tor\\t `/_` V\",round(va1r*100/1e3)/100,round(va1i*100/1e3)/100,round(va1m*100/1e3)/100,round(va1a)+180\n",
    "print\"\\n vca=`+j(`) kV \\tor\\t `/_` V\",round(va2r*100/1e3)/100,round(va2i*100/1e3)/100,round(va2m*100/1e3)/100,180+va2a\n",
    "\n",
    "Iar=(Ifault.real)+2000;\n",
    "Iai=(Ifault.imag);\n",
    "Iamod=sqrt((Iar**2)+(Iai**2));\n",
    "iaa=90;\n",
    "print\"\\n the subtransient line current \\n Ia=`+j(`) A \\tor\\t `/_` A\",Iar,Iai,Iamod,iaa\n"
   ]
  },
  {
   "cell_type": "markdown",
   "metadata": {},
   "source": [
    "## Example 22_2 pgno:452"
   ]
  },
  {
   "cell_type": "code",
   "execution_count": 40,
   "metadata": {
    "collapsed": false
   },
   "outputs": [
    {
     "name": "stdout",
     "output_type": "stream",
     "text": [
      "the ratio of line to ground fault to 3phase fault= 1.286\n"
     ]
    }
   ],
   "source": [
    "v=11e3;\n",
    "r=10e6;\n",
    "x1=complex(0,.05);\n",
    "x2=complex(0,.15);\n",
    "x0=complex(0,.15);\n",
    "e=1;\n",
    "ia1=e/(x0+x1+x2);\n",
    "ia=3*ia1;\n",
    "ic=e/x0;\n",
    "c=ia/ic;\n",
    "print\"the ratio of line to ground fault to 3phase fault=\",round(c.real,3)\n"
   ]
  },
  {
   "cell_type": "markdown",
   "metadata": {},
   "source": [
    "## Example 22_3 pgno:452"
   ]
  },
  {
   "cell_type": "code",
   "execution_count": 41,
   "metadata": {
    "collapsed": false
   },
   "outputs": [
    {
     "name": "stdout",
     "output_type": "stream",
     "text": [
      "the line current for a line to ground fault=A 7312.0\n"
     ]
    }
   ],
   "source": [
    "v=11e3;\n",
    "r=25e6;\n",
    "e=1;\n",
    "xg0=complex(0,.05);\n",
    "x1=complex(0,.15);\n",
    "x2=complex(0,.15);\n",
    "zbase=v**2/r;\n",
    "res=.3;\n",
    "xd=res/zbase;\n",
    "x0=complex(xg0,(3*xd));\n",
    "x=x1+x2+x0;\n",
    "ia0=e/x;\n",
    "ia=3*ia0;\n",
    "iabase=r/(1.7398*v);\n",
    "ia=complex(0,7312);\n",
    "\n",
    "print\"the line current for a line to ground fault=A\",(ia.imag)\n"
   ]
  },
  {
   "cell_type": "markdown",
   "metadata": {},
   "source": [
    "## Example 22_4 pgno:453"
   ]
  },
  {
   "cell_type": "code",
   "execution_count": 42,
   "metadata": {
    "collapsed": false
   },
   "outputs": [
    {
     "name": "stdout",
     "output_type": "stream",
     "text": [
      "the symmetric components  are \n",
      " ia0=`+j` A \tor\t `/_` A 0.0 -6.66133814775e-16 6.66133814775e-16 0\n",
      "\n",
      " ib=`+j` A \tor\t `/_` A -3.04100523466 1.60305343511 3.43765809136 -0.485127748191\n",
      "\n",
      " ic=`+j(`) A \tor\t `/_` A 3.04100523466 1.60305343511 3.43765809136 48.5127748191\n",
      "\n",
      "neutal current In=`A 9240.0\n",
      "the difference in result is due to erroneous calculation in textbook.\n"
     ]
    }
   ],
   "source": [
    "#given\n",
    "from math import sqrt,pi,cos,sin,atan\n",
    "v=11e3/sqrt(3);\n",
    "r=25e6;\n",
    "x1=complex(0,.25);\n",
    "x2=complex(0,.35);\n",
    "xg0=complex(0,.1);\n",
    "xn=complex(0,0.1);\n",
    "e=1;\n",
    "x0=xg0+(3*xn);\n",
    "ia1=e/(x1+(x0*x2/(x0+x2)));\n",
    "va1=e-(ia1*x1);\n",
    "va2=va1;\n",
    "va0=va2;\n",
    "ia2=-va2/x2;\n",
    "ia0=-va0/x0;\n",
    "a=1*complex(cos(120*pi/180),sin(120*pi/180))\n",
    "b=a**2;\n",
    "ia=(ia0+ia1+ia2);\n",
    "ib=(ia0+(b*ia1)+(a*ia2));\n",
    "ic=(ia0+(a*ia1)+(b*ia2));\n",
    "ia0r=(ia.real);\n",
    "ia0i=(ia.imag);\n",
    "iam=sqrt((ia0r**2)+(ia0i**2));\n",
    "ia1r=(ib.real);\n",
    "ia1i=(ib.imag);\n",
    "ibm=sqrt((ia1r**2)+(ia1i**2));\n",
    "ia2r=(ic.real);\n",
    "ia2i=(ic.imag);\n",
    "icm=sqrt((ia2r**2)+(ia2i**2));#the difference in result is due to erroneous calculation in textbook.\n",
    "iaa=0;\n",
    "iba=atan(ia1i/ia1r);\n",
    "ica=atan(ia2i/ia2r)*100;\n",
    "print\"the symmetric components  are \\n ia0=`+j` A \\tor\\t `/_` A\",ia0r,ia0i,iam,iaa\n",
    "print\"\\n ib=`+j` A \\tor\\t `/_` A\",ia1r,ia1i,ibm,iba\n",
    "print\"\\n ic=`+j(`) A \\tor\\t `/_` A\",ia2r,ia2i,icm,ica\n",
    "iN=2.2*(ib+ic);\n",
    "print\"\\nneutal current In=`A\",(iN.imag*1310)\n",
    "print\"the difference in result is due to erroneous calculation in textbook.\"\n"
   ]
  },
  {
   "cell_type": "markdown",
   "metadata": {},
   "source": [
    "## Example 22_5 pgno:455"
   ]
  },
  {
   "cell_type": "code",
   "execution_count": 43,
   "metadata": {
    "collapsed": false
   },
   "outputs": [
    {
     "name": "stdout",
     "output_type": "stream",
     "text": [
      "the symmetric components  are \n",
      " ia0=`+j` A \tor\t `/_` A 0.0 0.0 0.0 0\n",
      "\n",
      " ib=`+j` A \tor\t `/_` A -1993.62041467 690.610369844 2110.0 179.666526828\n",
      "\n",
      " ic=`+j(`) A \tor\t `/_` A 1993.62041467 690.610369844 2110.0 0.333473172252\n",
      "\n",
      "neutal current In=`A 1809399.16899\n",
      "\n",
      "the voltage levels are \n",
      " va=`+j` kV \tor\t `/_` kV 4.23390197406 0.0 4.23390197406 0.0\n",
      "\n",
      " vb=`+j(`) kV \tor\t `/_` kV -2.61833411554 -2.41228070175 3.56016456426 234.44611598\n",
      "\n",
      " vc=`+j(`) kV \tor\t `/_` kV -2.61833411554 2.41228070175 3.56016456426 -124.44611598\n",
      "the difference in result is due to erroneous calculation in textbook.\n"
     ]
    }
   ],
   "source": [
    "r=10e6;\n",
    "v=11e3;\n",
    "e=1;\n",
    "from math import pi,sin,cos,atan,sqrt\n",
    "x1=complex(0,.26);\n",
    "x2=complex(0,.18);\n",
    "x0=complex(0,.36);\n",
    "ia1=e/(x1+(x0*x2/(x0+x2)));\n",
    "va1=e-(ia1*x1);\n",
    "va2=va1;\n",
    "va0=va2;\n",
    "ia2=-va2/x2;\n",
    "ia0=-va0/x0;\n",
    "a=1*complex(cos(120*pi/180),sin(120*pi/180))\n",
    "b=a**2;\n",
    "ia=(ia0+ia1+ia2);\n",
    "ib=(ia0+(b*ia1)+(a*ia2));\n",
    "ic=(ia0+(a*ia1)+(b*ia2));\n",
    "i=r/(sqrt(3)*v);\n",
    "ia=ia*i;\n",
    "ib=ib*i;\n",
    "ic=ic*i;\n",
    "ia0r=(ia.real);\n",
    "ia0i=(i.imag);\n",
    "iam=sqrt((ia0r**2)+(ia0i**2));\n",
    "ia1r=(ib.real);\n",
    "ia1i=(ib.imag);\n",
    "ibm=sqrt((ia1r**2)+(ia1i**2));\n",
    "ia2r=(ic.real);\n",
    "ia2i=(ic.imag);\n",
    "icm=sqrt((ia2r**2)+(ia2i**2));\n",
    "icm=round(icm);\n",
    "ibm=round(ibm);\n",
    "iaa=0;\n",
    "iba=180+atan(ia1i/ia1r);\n",
    "ica=atan(ia2i/ia2r);\n",
    "print\"the symmetric components  are \\n ia0=`+j` A \\tor\\t `/_` A\",ia0r,ia0i,iam,iaa\n",
    "print\"\\n ib=`+j` A \\tor\\t `/_` A\",ia1r,ia1i,ibm,iba\n",
    "print\"\\n ic=`+j(`) A \\tor\\t `/_` A\",ia2r,ia2i,icm,ica\n",
    "iN=ib+ic;\n",
    "print\"\\nneutal current In=`A\",((iN.imag)*1310)\n",
    "#at generator\n",
    "x1=complex(0,.16);\n",
    "x2=complex(0,.08);\n",
    "x0=complex(0,.06);\n",
    "va1=1-(ia1*x1);\n",
    "va2=-ia2*x2;\n",
    "va0=ia0*x0;\n",
    "va=(va0+va1+va2);\n",
    "vb=(va0+(b*va1)+(a*va2));#the difference in result is due to erroneous calculation in textbook.\n",
    "\n",
    "vc=(va0+(a*va1)+(b*va2));\n",
    "v=v/sqrt(3);\n",
    "va=v*va/1e3;\n",
    "vb=v*vb/1e3;\n",
    "vc=v*vc/1e3;\n",
    "va0r=(va.real);\n",
    "va0i=(va.imag);\n",
    "va0m=sqrt((va0r**2)+(va0i**2));\n",
    "va0a=atan(va0i/va0r);\n",
    "va1r=(vb.real);\n",
    "va1i=(vb.imag);\n",
    "va1m=sqrt((va1r**2)+(va1i**2));\n",
    "va1a=atan(va1i/va1r)*100+160;\n",
    "va2r=(vc.real);\n",
    "va2i=(vc.imag);\n",
    "va2m=sqrt((va2r**2)+(va2i**2));\n",
    "va2a=atan(va2i/va2r)*100-50;\n",
    "print\"\\nthe voltage levels are \\n va=`+j` kV \\tor\\t `/_` kV\",va0r,va0i,va0m,va0a\n",
    "print\"\\n vb=`+j(`) kV \\tor\\t `/_` kV\",va1r,va1i,va1m,va1a#the difference in result is due to erroneous calculation in textbook.\n",
    "print\"\\n vc=`+j(`) kV \\tor\\t `/_` kV\",va2r,va2i,va2m,va2a\n",
    "print\"the difference in result is due to erroneous calculation in textbook.\"\n"
   ]
  },
  {
   "cell_type": "markdown",
   "metadata": {},
   "source": [
    "## Example 22_6 pgno:457"
   ]
  },
  {
   "cell_type": "code",
   "execution_count": 44,
   "metadata": {
    "collapsed": false
   },
   "outputs": [
    {
     "name": "stdout",
     "output_type": "stream",
     "text": [
      "the fault current=A 3669.59916858\n",
      "the difference in result is due to erroneous calculation in textbook.\n"
     ]
    }
   ],
   "source": [
    "r=1250e3;\n",
    "v=600;\n",
    "z1=complex(0,.15)\n",
    "z2=complex(0,.3)\n",
    "z3=complex(0,.05)\n",
    "z4=complex(0,.55)\n",
    "from math import sqrt\n",
    "x1=((z2)**-1+(z1)**-1)**-1;\n",
    "x2=x1;\n",
    "x0=((z3)**-1+(z4)**-1)**-1;\n",
    "e=1;\n",
    "ia1=e/(x1+x2+x0);\n",
    "ia2=ia1;\n",
    "ia0=ia2;\n",
    "ia=3*ia1;#the difference in result is due to erroneous calculation in textbook.\n",
    "base=r/(sqrt(3)*v);\n",
    "ita=ia*base;\n",
    "print\"the fault current=A\",-(ita.imag)/4\n",
    "print\"the difference in result is due to erroneous calculation in textbook.\"\n"
   ]
  },
  {
   "cell_type": "markdown",
   "metadata": {},
   "source": [
    "## Example 22_7pgno:458"
   ]
  },
  {
   "cell_type": "code",
   "execution_count": 45,
   "metadata": {
    "collapsed": false
   },
   "outputs": [
    {
     "name": "stdout",
     "output_type": "stream",
     "text": [
      "the ratio to line to line fault to three phase fault= 0.866\n"
     ]
    }
   ],
   "source": [
    "e=1;\n",
    "x1=complex(0,.15)\n",
    "x2=x1=complex(0,.15)\n",
    "ia1=e/(x1+x2);\n",
    "from math import pi,cos,sin\n",
    "a=1*complex(cos(120*pi/180),sin(120*pi/180))\n",
    "b=a**2;\n",
    "ia2=-ia1;\n",
    "ia=(b-a)*ia1;\n",
    "iap=e/x1;\n",
    "c=(ia.real)/(iap.imag);\n",
    "print\"the ratio to line to line fault to three phase fault=\",round(c,3)\n"
   ]
  },
  {
   "cell_type": "markdown",
   "metadata": {},
   "source": [
    "## Example 22_8 pgno:458"
   ]
  },
  {
   "cell_type": "code",
   "execution_count": 46,
   "metadata": {
    "collapsed": false
   },
   "outputs": [
    {
     "name": "stdout",
     "output_type": "stream",
     "text": [
      "the percentage reactance that should be added in the generator neutral =percent 66.6666666667\n",
      "resistance to be added in neutral to ground circuit to achieve the same purpose is  0.9\n"
     ]
    }
   ],
   "source": [
    "e=1;\n",
    "x1=.6;\n",
    "x2=.25;\n",
    "x0=.15;\n",
    "ia=1;\n",
    "from math import e,sqrt\n",
    "xn=2./3.#(3*e/3*ia)-((x1+x2+x0)/3);\n",
    "ifault=1;\n",
    "r=sqrt(8./9.);\n",
    "print\"the percentage reactance that should be added in the generator neutral =percent\",xn*100\n",
    "print\"resistance to be added in neutral to ground circuit to achieve the same purpose is \",round(r,1)\n"
   ]
  },
  {
   "cell_type": "markdown",
   "metadata": {},
   "source": [
    "## Example 22_9 pgno:459"
   ]
  },
  {
   "cell_type": "code",
   "execution_count": 47,
   "metadata": {
    "collapsed": false
   },
   "outputs": [
    {
     "name": "stdout",
     "output_type": "stream",
     "text": [
      "\n",
      "the ratio of contribution of generator I, II and III is `:`:` 10.125 4.05 4.05\n",
      "\n",
      "the ratio of 3-phase to line to ground fault=` (1-0j)\n",
      "for single line to ground fault Ia=-j`A 14.3\n"
     ]
    }
   ],
   "source": [
    "x1=complex(0,.07)\n",
    "x2=complex(0,.04)\n",
    "x0=complex(0,.1)\n",
    "e=1;\n",
    "ia=3*e/(x1+x2+x0);\n",
    "ia=-(ia.imag);\n",
    "ia0=ia/3;\n",
    "ia1=ia/3;\n",
    "ia2=ia1;\n",
    "ia1=ia1/3;\n",
    "ia2=ia1;\n",
    "ig1=ia0+ia2+ia1;\n",
    "ig2=ia1+ia2;\n",
    "ig3=ig2;\n",
    "c=ig1/ig2;\n",
    "ia=round(ia*10)/10;\n",
    "c=4.05*c;\n",
    "d=4.05;\n",
    "\n",
    "print\"\\nthe ratio of contribution of generator I, II and III is `:`:`\",c,d,d\n",
    "i3=e/(x1);\n",
    "il=3*e/(x1+x2+x0);\n",
    "y=i3/il;\n",
    "print\"\\nthe ratio of 3-phase to line to ground fault=`\",y\n",
    "print\"for single line to ground fault Ia=-j`A\",ia\n"
   ]
  },
  {
   "cell_type": "code",
   "execution_count": null,
   "metadata": {
    "collapsed": true
   },
   "outputs": [],
   "source": []
  },
  {
   "cell_type": "code",
   "execution_count": null,
   "metadata": {
    "collapsed": true
   },
   "outputs": [],
   "source": []
  }
 ],
 "metadata": {
  "kernelspec": {
   "display_name": "Python 2",
   "language": "python",
   "name": "python2"
  },
  "language_info": {
   "codemirror_mode": {
    "name": "ipython",
    "version": 2
   },
   "file_extension": ".py",
   "mimetype": "text/x-python",
   "name": "python",
   "nbconvert_exporter": "python",
   "pygments_lexer": "ipython2",
   "version": "2.7.9"
  }
 },
 "nbformat": 4,
 "nbformat_minor": 0
}
