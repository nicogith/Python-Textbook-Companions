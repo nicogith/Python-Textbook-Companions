{
 "cells": [
  {
   "cell_type": "markdown",
   "metadata": {},
   "source": [
    "# Chapter 32 Protection of Transformers"
   ]
  },
  {
   "cell_type": "markdown",
   "metadata": {},
   "source": [
    "## Example 32_1 pgno:600"
   ]
  },
  {
   "cell_type": "code",
   "execution_count": 1,
   "metadata": {
    "collapsed": false
   },
   "outputs": [
    {
     "name": "stdout",
     "output_type": "stream",
     "text": [
      "Ct ratio on HT side = i2:(i1sec) 60.0 2.89\n"
     ]
    }
   ],
   "source": [
    "v1=33e3;\n",
    "v2=6.6e3;\n",
    "i1=300;\n",
    "from math import sqrt\n",
    "trn=sqrt(3);\n",
    "i2=i1*v2/v1;\n",
    "ratio=300/5;\n",
    "i1sec=i1/ratio;\n",
    "i1sec=round(i1sec*100/trn)/100;\n",
    "print\"Ct ratio on HT side = i2:(i1sec)\",i2,i1sec\n",
    "\n"
   ]
  },
  {
   "cell_type": "markdown",
   "metadata": {},
   "source": [
    "## Example 32_2 pgno:601"
   ]
  },
  {
   "cell_type": "code",
   "execution_count": 2,
   "metadata": {
    "collapsed": false
   },
   "outputs": [
    {
     "name": "stdout",
     "output_type": "stream",
     "text": [
      "at LV side secondry current iS=A\t Ip=\t4.35 1506.0\n",
      "\n",
      "Secondary current=A\tat HV side CT ratio=:\t primarry current IpA\t5 300.0 5 300.0\n"
     ]
    }
   ],
   "source": [
    "from math import sqrt\n",
    "r=30e6;\n",
    "v=11.5e3;\n",
    "v2=69e3;\n",
    "ip=r/(sqrt(3)*v);\n",
    "ip=round(ip);\n",
    "ratio=3000/5;\n",
    "iS=ip/ratio;\n",
    "iS=sqrt(3)*iS;\n",
    "iS=round(iS*100)/100;\n",
    "print\"at LV side secondry current iS=A\\t Ip=\\t\",iS,ip\n",
    "ipn=r/(sqrt(3)*v2);\n",
    "Ct=ipn/iS;\n",
    "ct=round(Ct/10)*10;\n",
    "iS=5;\n",
    "ip=iS*ct;\n",
    "print\"\\nSecondary current=A\\tat HV side CT ratio=:\\t primarry current IpA\\t\",iS,ct*iS,iS,ip"
   ]
  },
  {
   "cell_type": "code",
   "execution_count": null,
   "metadata": {
    "collapsed": true
   },
   "outputs": [],
   "source": []
  }
 ],
 "metadata": {
  "kernelspec": {
   "display_name": "Python 2",
   "language": "python",
   "name": "python2"
  },
  "language_info": {
   "codemirror_mode": {
    "name": "ipython",
    "version": 2
   },
   "file_extension": ".py",
   "mimetype": "text/x-python",
   "name": "python",
   "nbconvert_exporter": "python",
   "pygments_lexer": "ipython2",
   "version": "2.7.9"
  }
 },
 "nbformat": 4,
 "nbformat_minor": 0
}
