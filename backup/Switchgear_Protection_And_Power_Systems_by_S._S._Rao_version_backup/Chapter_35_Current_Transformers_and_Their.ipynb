{
 "cells": [
  {
   "cell_type": "markdown",
   "metadata": {},
   "source": [
    "# Chapter 35 Current Transformers and Their Applications"
   ]
  },
  {
   "cell_type": "markdown",
   "metadata": {},
   "source": [
    "## Example 35_1 pgno:659"
   ]
  },
  {
   "cell_type": "code",
   "execution_count": 5,
   "metadata": {
    "collapsed": false
   },
   "outputs": [
    {
     "name": "stdout",
     "output_type": "stream",
     "text": [
      "the Ct of  VA and A may be used 15.0 5\n"
     ]
    }
   ],
   "source": [
    "i=5;\n",
    "r=.1;\n",
    "va=i**2*r;\n",
    "j=10+2*va;\n",
    "print\"the Ct of  VA and A may be used\",j,i\n"
   ]
  },
  {
   "cell_type": "markdown",
   "metadata": {},
   "source": [
    "## Example 35_2 pgno:660"
   ]
  },
  {
   "cell_type": "code",
   "execution_count": 6,
   "metadata": {
    "collapsed": false
   },
   "outputs": [
    {
     "name": "stdout",
     "output_type": "stream",
     "text": [
      "the burden on transformer Pe=VA 8.0\n"
     ]
    }
   ],
   "source": [
    "iS=5.;\n",
    "pr=2.;\n",
    "ir=2.5;\n",
    "pe=pr*(iS/ir)**2\n",
    "print\"the burden on transformer Pe=VA\",pe\n"
   ]
  },
  {
   "cell_type": "markdown",
   "metadata": {},
   "source": [
    "## Example 35_3 pgno:664"
   ]
  },
  {
   "cell_type": "code",
   "execution_count": 7,
   "metadata": {
    "collapsed": false
   },
   "outputs": [
    {
     "name": "stdout",
     "output_type": "stream",
     "text": [
      "saturation magnetic field max=Wb\t rms value=Wb 0.922671353251 0.7\n"
     ]
    }
   ],
   "source": [
    "from math import sqrt\n",
    "ct=2000./5.;\n",
    "i=40e3;\n",
    "r1=.31;\n",
    "a=28.45e-4;\n",
    "r2=2.;\n",
    "iS=i/ct;\n",
    "e=iS*(r1+r2);\n",
    "f=50.;\n",
    "B=e/(4.4*f*ct*a);\n",
    "C=B/sqrt(2);\n",
    "C=round(C*10)/10;\n",
    "print\"saturation magnetic field max=Wb\\t rms value=Wb\",B,C\n"
   ]
  },
  {
   "cell_type": "markdown",
   "metadata": {},
   "source": [
    "## Example 35_4 pgno:667"
   ]
  },
  {
   "cell_type": "code",
   "execution_count": 8,
   "metadata": {
    "collapsed": false
   },
   "outputs": [
    {
     "name": "stdout",
     "output_type": "stream",
     "text": [
      "the percentage R.E at 1000A =percent 10.0\n"
     ]
    }
   ],
   "source": [
    "r1=.1;\n",
    "r2=.4;\n",
    "r=r1+r2;\n",
    "i=1e3/10;\n",
    "ip=100*5/50;\n",
    "ie=10.;\n",
    "e=45.;\n",
    "y=i-ie;\n",
    "per=-(ie*y-(10*i))/(i*10);\n",
    "print\"the percentage R.E at 1000A =percent\",per*100\n",
    "\n"
   ]
  },
  {
   "cell_type": "code",
   "execution_count": null,
   "metadata": {
    "collapsed": true
   },
   "outputs": [],
   "source": []
  }
 ],
 "metadata": {
  "kernelspec": {
   "display_name": "Python 2",
   "language": "python",
   "name": "python2"
  },
  "language_info": {
   "codemirror_mode": {
    "name": "ipython",
    "version": 2
   },
   "file_extension": ".py",
   "mimetype": "text/x-python",
   "name": "python",
   "nbconvert_exporter": "python",
   "pygments_lexer": "ipython2",
   "version": "2.7.9"
  }
 },
 "nbformat": 4,
 "nbformat_minor": 0
}
