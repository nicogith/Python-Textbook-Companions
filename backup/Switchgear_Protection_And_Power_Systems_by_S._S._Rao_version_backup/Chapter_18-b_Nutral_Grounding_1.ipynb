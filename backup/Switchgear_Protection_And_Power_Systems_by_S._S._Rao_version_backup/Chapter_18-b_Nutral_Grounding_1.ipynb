{
 "cells": [
  {
   "cell_type": "markdown",
   "metadata": {},
   "source": [
    "# Chapter 18-b Neutral Grounding"
   ]
  },
  {
   "cell_type": "markdown",
   "metadata": {},
   "source": [
    "## Example 18_1 pgno:369"
   ]
  },
  {
   "cell_type": "code",
   "execution_count": 6,
   "metadata": {
    "collapsed": false
   },
   "outputs": [
    {
     "name": "stdout",
     "output_type": "stream",
     "text": [
      "the value of z= ohm 0.2\n"
     ]
    }
   ],
   "source": [
    "#given\n",
    "P=2000e3;\n",
    "V=400;\n",
    "r=.4;\n",
    "#solution\n",
    "z=V**2/(r*P);\n",
    "print\"the value of z= ohm\",z\n"
   ]
  },
  {
   "cell_type": "markdown",
   "metadata": {},
   "source": [
    "## Example 18_2 pgno:369"
   ]
  },
  {
   "cell_type": "code",
   "execution_count": 7,
   "metadata": {
    "collapsed": false
   },
   "outputs": [
    {
     "name": "stdout",
     "output_type": "stream",
     "text": [
      "inductance = Henries 22.54\n",
      "the difference in result is due to erroneous calculation in textbook.\n"
     ]
    }
   ],
   "source": [
    "#given\n",
    "w=314;\n",
    "c=.015e-6;\n",
    "#solution\n",
    "l=1/(3*w**2*c);#the difference in result is due to erroneous calculation in textbook.\n",
    "l=round(l*10)/100;\n",
    "print\"inductance = Henries\",l\n",
    "print\"the difference in result is due to erroneous calculation in textbook.\"\n"
   ]
  },
  {
   "cell_type": "markdown",
   "metadata": {},
   "source": [
    "## Example 18_3 pgno:369"
   ]
  },
  {
   "cell_type": "code",
   "execution_count": 8,
   "metadata": {
    "collapsed": false
   },
   "outputs": [
    {
     "name": "stdout",
     "output_type": "stream",
     "text": [
      "the inductance for 100 percent line capacitance= henries  2.25\n",
      "for 90percent line capacitance,the inductance= henries 2.5\n",
      "for 95percent line capacitane inductance= henries 2.37\n"
     ]
    }
   ],
   "source": [
    "from math import pi\n",
    "#given \n",
    "c1=1.5e-6;\n",
    "w=2*pi*50;\n",
    "L1=1/(3*c1*(w**2));\n",
    "c2=.9*c1;\n",
    "L2=1/(3*c2*(w**2));\n",
    "c3=.95*c1;\n",
    "L3=1/(3*c3*(w**2));\n",
    "L1=round(L1*100)/100;\n",
    "L2=round(L2*10)/10;\n",
    "L3=round(L3*100)/100;\n",
    "print\"the inductance for 100 percent line capacitance= henries \",L1\n",
    "print\"for 90percent line capacitance,the inductance= henries\",L2\n",
    "print\"for 95percent line capacitane inductance= henries\",L3\n"
   ]
  },
  {
   "cell_type": "markdown",
   "metadata": {},
   "source": [
    "## Example 18_4 pgno:369"
   ]
  },
  {
   "cell_type": "code",
   "execution_count": 9,
   "metadata": {
    "collapsed": false
   },
   "outputs": [
    {
     "name": "stdout",
     "output_type": "stream",
     "text": [
      "the value of L=H and rating =kVA 6.75 171.28250436\n",
      "the difference in result is due to erroneous calculation in textbook.\n"
     ]
    }
   ],
   "source": [
    "#given\n",
    "from math import pi,sqrt\n",
    "c=.01e-6*50;\n",
    "w=2*pi*50;\n",
    "L=1/(3*c*(w**2));\n",
    "#solution\n",
    "L=round(L*100)/100;\n",
    "V=33e3/sqrt(3);\n",
    "I=V/(w*L);\n",
    "I=round(I*1000)/1000;\n",
    "I=round(I*100)/100;\n",
    "R=V*I/1e3; #the difference in result is due to erroneous calculation in textbook.\n",
    "print\"the value of L=H and rating =kVA\",L,R\n",
    "print\"the difference in result is due to erroneous calculation in textbook.\"\n"
   ]
  }
 ],
 "metadata": {
  "kernelspec": {
   "display_name": "Python 2",
   "language": "python",
   "name": "python2"
  },
  "language_info": {
   "codemirror_mode": {
    "name": "ipython",
    "version": 2
   },
   "file_extension": ".py",
   "mimetype": "text/x-python",
   "name": "python",
   "nbconvert_exporter": "python",
   "pygments_lexer": "ipython2",
   "version": "2.7.9"
  }
 },
 "nbformat": 4,
 "nbformat_minor": 0
}
