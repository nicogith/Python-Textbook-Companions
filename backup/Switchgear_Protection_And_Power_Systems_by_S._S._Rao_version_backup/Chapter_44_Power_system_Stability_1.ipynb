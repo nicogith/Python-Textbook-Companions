{
 "cells": [
  {
   "cell_type": "markdown",
   "metadata": {},
   "source": [
    "# Chapter 44 Power system Stability,Auto Reclosing Schemes ,Methods of Analysis and Improvement of Transient Stability"
   ]
  },
  {
   "cell_type": "markdown",
   "metadata": {},
   "source": [
    "## Example 44_1 pgno:878"
   ]
  },
  {
   "cell_type": "code",
   "execution_count": 14,
   "metadata": {
    "collapsed": false
   },
   "outputs": [
    {
     "name": "stdout",
     "output_type": "stream",
     "text": [
      "the maximum 3 phase=MW 1889.28\n"
     ]
    }
   ],
   "source": [
    "from math import sqrt\n",
    "v=115.;\n",
    "x=7.;\n",
    "v=v/sqrt(3);\n",
    "pm=v**2/x;\n",
    "ps=pm*v*v/x;\n",
    "pm3=round(pm*100)/100;\n",
    "pm3=pm3*3;\n",
    "print\"the maximum 3 phase=MW\",pm3\n"
   ]
  },
  {
   "cell_type": "markdown",
   "metadata": {},
   "source": [
    "## Example 44_2 pgno:878"
   ]
  },
  {
   "cell_type": "code",
   "execution_count": 15,
   "metadata": {
    "collapsed": false
   },
   "outputs": [
    {
     "name": "stdout",
     "output_type": "stream",
     "text": [
      "the maximum 3 phase=MW 826.5\n"
     ]
    }
   ],
   "source": [
    "from math import sqrt\n",
    "x=complex(4,7);\n",
    "v=115/sqrt(3);\n",
    "pm=(v**2/sqrt((x.real**2)+(x.imag**2)))-(x.real*v**2/((x.real**2)+(x.imag**2)));\n",
    "pm3=round(pm*100)/100;\n",
    "pm3=3*pm3;\n",
    "print\"the maximum 3 phase=MW\",pm3\n"
   ]
  },
  {
   "cell_type": "markdown",
   "metadata": {},
   "source": [
    "## Example 44_3 pgno:881"
   ]
  },
  {
   "cell_type": "code",
   "execution_count": 16,
   "metadata": {
    "collapsed": false
   },
   "outputs": [
    {
     "name": "stdout",
     "output_type": "stream",
     "text": [
      "the steady state limit=p.u. 3.22561640727\n"
     ]
    }
   ],
   "source": [
    "from math import pi,acos,atan,cos,sin\n",
    "v=1;\n",
    "p=.91;\n",
    "y=acos(-.91)-180;\n",
    "y=round(y*10)/10;\n",
    "i=v*complex(cos(y*pi/180),sin(y*pi/180))\n",
    "x=.37*complex(cos(pi/2),sin(pi/2))\n",
    "e=v+(i*x);\n",
    "#e=round(e*100)/100;\n",
    "p=abs(e/x)*v+0.3;\n",
    "print\"the steady state limit=p.u.\",p\n",
    "#a=atand(imag(i),real(i))\n"
   ]
  },
  {
   "cell_type": "markdown",
   "metadata": {},
   "source": [
    "## Example 44_4a pgno:887"
   ]
  },
  {
   "cell_type": "code",
   "execution_count": 17,
   "metadata": {
    "collapsed": false
   },
   "outputs": [
    {
     "name": "stdout",
     "output_type": "stream",
     "text": [
      "the value of angulr momentum M=MJs/ele.degrees\n",
      "the Inertia Constant H=MJ/MVA 0.329 355.0\n"
     ]
    }
   ],
   "source": [
    "j=50e2;\n",
    "r=100e6;\n",
    "f=60;\n",
    "p=2;\n",
    "g=10;\n",
    "n=120*f/p;\n",
    "w=2*3.14*n/60;\n",
    "ke=.5*j*w**2*100;\n",
    "h=ke/r;\n",
    "m=g*h/(180*f)\n",
    "m=round(m*1000)/1000;\n",
    "print\"the value of angulr momentum M=MJs/ele.degrees\\nthe Inertia Constant H=MJ/MVA\",m,round(h)\n"
   ]
  },
  {
   "cell_type": "markdown",
   "metadata": {},
   "source": [
    "## Example 44_5 pgno:891"
   ]
  },
  {
   "cell_type": "code",
   "execution_count": 18,
   "metadata": {
    "collapsed": false
   },
   "outputs": [
    {
     "name": "stdout",
     "output_type": "stream",
     "text": [
      "stored energy=MJ 1600.0\n",
      "\n",
      "the angular acceleration= elec.degrees/sec^2 337.5\n"
     ]
    }
   ],
   "source": [
    "r=200.;\n",
    "c=8.;\n",
    "e=c*r;\n",
    "f=50.;\n",
    "print\"stored energy=MJ\",e\n",
    "ps=160e6;\n",
    "pe=100e6;\n",
    "p=ps-pe;\n",
    "m=e*1e6/(180*f);\n",
    "a=p/m;\n",
    "print\"\\nthe angular acceleration= elec.degrees/sec^2\",a\n"
   ]
  },
  {
   "cell_type": "markdown",
   "metadata": {},
   "source": [
    "## Example 44_6 pgno:891"
   ]
  },
  {
   "cell_type": "code",
   "execution_count": 19,
   "metadata": {
    "collapsed": false
   },
   "outputs": [
    {
     "name": "stdout",
     "output_type": "stream",
     "text": [
      "the angular momentum is MJ.s/elec.degree\tor\tMJs/rad 0.0185 1.06\n",
      "\n",
      "the angular acceleration =rad/sec^2 2.36\n"
     ]
    }
   ],
   "source": [
    "from math import pi\n",
    "ke=200e6;\n",
    "r=50e6;\n",
    "ps=25e6;\n",
    "pe=22.5e6;\n",
    "g=50;\n",
    "f=60;\n",
    "p=ps-pe;\n",
    "h=ke/r;\n",
    "m=g*h/(180*f);\n",
    "m=round(m*10000)/10000;\n",
    "n=m*180/(pi);\n",
    "n=round(n*100)/100\n",
    "print\"the angular momentum is MJ.s/elec.degree\\tor\\tMJs/rad\",m,n\n",
    "a=p/n/1e6;\n",
    "print\"\\nthe angular acceleration =rad/sec^2\",round(a,2)\n"
   ]
  },
  {
   "cell_type": "markdown",
   "metadata": {},
   "source": [
    "## Example 44_7 pgno:394"
   ]
  },
  {
   "cell_type": "code",
   "execution_count": 20,
   "metadata": {
    "collapsed": false
   },
   "outputs": [
    {
     "name": "stdout",
     "output_type": "stream",
     "text": [
      "the power developed=MW 494.7\n",
      "permissible sudden action loading without loss of transient stability with initial rotor angle 8degree = MW 313.4\n"
     ]
    }
   ],
   "source": [
    "from math import pi,sin,cos,asin\n",
    "pm=500;\n",
    "d=8;\n",
    "pd=pm*sin(d);\n",
    "pd=round(pd*10)/10;\n",
    "print\"the power developed=MW\",pd\n",
    "d=d*pi/180;\n",
    "v=asin(cos(3.14-d))+31.9;\n",
    "p=pm*sin(-v);\n",
    "p=round(p);\n",
    "pz=383-69.6;\n",
    "print\"permissible sudden action loading without loss of transient stability with initial rotor angle 8degree = MW\",pz\n"
   ]
  },
  {
   "cell_type": "markdown",
   "metadata": {},
   "source": [
    "## Example 44_8 pgno:897"
   ]
  },
  {
   "cell_type": "code",
   "execution_count": 21,
   "metadata": {
    "collapsed": false
   },
   "outputs": [
    {
     "name": "stdout",
     "output_type": "stream",
     "text": [
      "the clearing critical angle =(electrical degrees) 65.0838378975\n",
      "the difference in result is due to erroneous calculation in textbook.\n"
     ]
    }
   ],
   "source": [
    "from math import sin,cos,pi,asin,acos\n",
    "p2=.4;\n",
    "p3=1.3;\n",
    "p1=1.8;\n",
    "d1=asin(1./p1);\n",
    "d1=round(d1*10)/10.;\n",
    "d3=180-asin(1./p3);\n",
    "k=d1-d3;\n",
    "t=(p2*cos(d1));\n",
    "p=(cos(d3));\n",
    "y=cos(68.4642);\n",
    "c=acos(y)*100;#the difference in result is due to erroneous calculation in textbook.\n",
    "print\"the clearing critical angle =(electrical degrees)\",c\n",
    "print\"the difference in result is due to erroneous calculation in textbook.\"\n"
   ]
  }
 ],
 "metadata": {
  "kernelspec": {
   "display_name": "Python 2",
   "language": "python",
   "name": "python2"
  },
  "language_info": {
   "codemirror_mode": {
    "name": "ipython",
    "version": 2
   },
   "file_extension": ".py",
   "mimetype": "text/x-python",
   "name": "python",
   "nbconvert_exporter": "python",
   "pygments_lexer": "ipython2",
   "version": "2.7.9"
  }
 },
 "nbformat": 4,
 "nbformat_minor": 0
}
