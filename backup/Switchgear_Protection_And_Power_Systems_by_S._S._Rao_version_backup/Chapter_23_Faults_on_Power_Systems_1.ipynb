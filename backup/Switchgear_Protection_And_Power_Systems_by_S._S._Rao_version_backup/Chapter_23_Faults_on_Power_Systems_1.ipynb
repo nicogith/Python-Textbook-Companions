{
 "cells": [
  {
   "cell_type": "markdown",
   "metadata": {},
   "source": [
    "# Chapter 23 Faults on Power Systems"
   ]
  },
  {
   "cell_type": "markdown",
   "metadata": {},
   "source": [
    "## Example 23_3 pgno:467"
   ]
  },
  {
   "cell_type": "code",
   "execution_count": 1,
   "metadata": {
    "collapsed": false
   },
   "outputs": [
    {
     "name": "stdout",
     "output_type": "stream",
     "text": [
      "fault current If=%fA 3528.0\n",
      "the difference in result is due to erroneous calculation in textbook.\n"
     ]
    }
   ],
   "source": [
    "vf=1;\n",
    "r=1250e3;\n",
    "V=600;\n",
    "x1=.5;\n",
    "x2=.5;\n",
    "x3=.02;\n",
    "from math import sqrt\n",
    "ia2=vf/(x1+x2+x3);\n",
    "ia=3*ia2;\n",
    "ia1=ia2;\n",
    "ia0=ia1;\n",
    "iab=r/(sqrt(3)*V);\n",
    "iab=round(iab/10)*10;\n",
    "ia=round(ia*100)/100;\n",
    "If=ia*iab;#the difference in result is due to erroneous calculation in textbook.\n",
    "print\"fault current If=%A\",If\n",
    "print\"the difference in result is due to erroneous calculation in textbook.\"\n"
   ]
  },
  {
   "cell_type": "markdown",
   "metadata": {},
   "source": [
    "## Example 23_4 pgno:467"
   ]
  },
  {
   "cell_type": "code",
   "execution_count": 12,
   "metadata": {
    "collapsed": false
   },
   "outputs": [
    {
     "name": "stdout",
     "output_type": "stream",
     "text": [
      "fault current for double line to ground fault=A 26011.2200636\n",
      "the difference in result is due to erroneous calculation in textbook.\n"
     ]
    }
   ],
   "source": [
    "v=1;\n",
    "r=1250e3;\n",
    "V=600;\n",
    "from math import cos,sin,pi,sqrt,atan\n",
    "x1=complex(0,.05)\n",
    "x2=complex(0,.05)\n",
    "x0=complex(0,.02)\n",
    "a=1*complex(cos(120*pi/180),sin(120*pi/180))\n",
    "\n",
    "b=a**2;\n",
    "ia1=v/(x1+((x2)**-1+(x0)**-1))**-1;\n",
    "ibase=1200;\n",
    "va1=v-(ia1*x1);\n",
    "ia2=-va1/x2;\n",
    "ia0=-va1/x0;\n",
    "ia=(ia0+ia1+ia2);\n",
    "ib=(ia0+(b*ia1)+(a*ia2));\n",
    "ic=(ia0+(a*ia1)+(b*ia2));\n",
    "ia0r=(ia.real);\n",
    "ia0i=(ia.imag);\n",
    "iam=sqrt((ia0r**2)+(ia0i**2));\n",
    "ia1r=(ib.real);\n",
    "ia1i=(ib.imag);\n",
    "ibm=sqrt((ia1r**2)+(ia1i**2));#the difference in result is due to erroneous calculation in textbook.\n",
    "ia2r=(ic.real);\n",
    "ia2i=(ic.imag);\n",
    "icm=sqrt((ia2r**2)+(ia2i**2));\n",
    "iaa=0;\n",
    "iba=atan(ia1i/ia1r);\n",
    "ica=atan(ia2i/ia2r);\n",
    "im=ibm*ibase/3.1;\n",
    "print\"fault current for double line to ground fault=A\",im\n",
    "print\"the difference in result is due to erroneous calculation in textbook.\"\n"
   ]
  },
  {
   "cell_type": "markdown",
   "metadata": {},
   "source": [
    "## Example 23_5 pgno:468"
   ]
  },
  {
   "cell_type": "code",
   "execution_count": 3,
   "metadata": {
    "collapsed": false
   },
   "outputs": [
    {
     "name": "stdout",
     "output_type": "stream",
     "text": [
      "fault current for double line to ground fault=A 20800.0\n"
     ]
    }
   ],
   "source": [
    "#given\n",
    "v=1;\n",
    "r=1250e3;\n",
    "V=600.;\n",
    "x1=complex(0,.05)\n",
    "x2=complex(0,.05)\n",
    "x0=complex(0,.02)\n",
    "from math import pi,sqrt,atan,sin,cos\n",
    "ia1=v/(x1+x2);\n",
    "ia2=-ia1;\n",
    "ia=ia1+ia2;\n",
    "ia0=0;\n",
    "a=1*complex(cos(120*pi/180),sin(120*pi/180))\n",
    "b=a**2;\n",
    "ia=(ia0+ia1+ia2);\n",
    "ib=(ia0+(b*ia1)+(a*ia2));\n",
    "ic=(ia0+(a*ia1)+(b*ia2));\n",
    "ia0r=(ia.real);\n",
    "ia0i=(ia.imag);\n",
    "iam=sqrt((ia0r**2)+(ia0i**2));\n",
    "ia1r=(ib.real);\n",
    "ia1i=(ib.imag);\n",
    "ibm=sqrt((ia1r**2)+(ia1i**2));\n",
    "ia2r=(ic.real);\n",
    "ia2i=(ic.imag);\n",
    "icm=sqrt((ia2r**2)+(ia2i**2));\n",
    "iaa=0;\n",
    "iba=atan(ia1i/ia1r);\n",
    "ica=atan(ia2i/ia2r);\n",
    "ibase=r/(sqrt(3)*V);\n",
    "ibm=ibm*ibase;\n",
    "ibm=round(ibm/100)*100;\n",
    "print\"fault current for double line to ground fault=A\",ibm\n",
    "     "
   ]
  },
  {
   "cell_type": "markdown",
   "metadata": {},
   "source": [
    "## Example 23_6 pgno:468"
   ]
  },
  {
   "cell_type": "code",
   "execution_count": 15,
   "metadata": {
    "collapsed": false
   },
   "outputs": [
    {
     "name": "stdout",
     "output_type": "stream",
     "text": [
      "the fault current=A 14678.3966743\n",
      "the difference in result is due to erroneous calculation in textbook.\n"
     ]
    }
   ],
   "source": [
    "r=1250e3;\n",
    "v=600.;\n",
    "z1=complex(0,.15)\n",
    "z2=complex(0,.3)\n",
    "z3=complex(0,.05)\n",
    "z4=complex(0,.55)\n",
    "from  math import sqrt\n",
    "\n",
    "x1=((z2)**-1+(z1)**-1)**-1;\n",
    "x2=x1;\n",
    "x0=((z3)**-1+(z4)**-1)**-1;\n",
    "e=1;\n",
    "ia1=e/(x1+x2+x0);\n",
    "ia2=ia1;\n",
    "ia0=ia2;\n",
    "ia=3*ia1;#the difference in result is due to erroneous calculation in textbook.\n",
    "base=r/(sqrt(3)*v);\n",
    "ita=ia*base;\n",
    "print\"the fault current=A\",-ita.imag\n",
    "print\"the difference in result is due to erroneous calculation in textbook.\"\n"
   ]
  },
  {
   "cell_type": "markdown",
   "metadata": {},
   "source": [
    "## Example 23_7 pgno:470"
   ]
  },
  {
   "cell_type": "code",
   "execution_count": 16,
   "metadata": {
    "collapsed": false
   },
   "outputs": [
    {
     "name": "stdout",
     "output_type": "stream",
     "text": [
      "the single line to ground fault = A 787.295821622\n",
      "\n",
      "line to line fault current=A 681.818181818\n"
     ]
    }
   ],
   "source": [
    "e=1;\n",
    "r=1500e3;\n",
    "v=11e3;\n",
    "x1=.1;\n",
    "ia=3*e/(x1*3);\n",
    "from math import sqrt\n",
    "ibase=r/(sqrt(3)*v);\n",
    "i=ia*ibase;\n",
    "print\"the single line to ground fault = A\",round(i)\n",
    "ia1=e/(2*x1);\n",
    "ib=sqrt(3)*ia1;\n",
    "ib=ibase*ib;\n",
    "print\"\\nline to line fault current=A\",round(ib)\n"
   ]
  },
  {
   "cell_type": "markdown",
   "metadata": {},
   "source": [
    "## Example 23_8 pgno:471"
   ]
  },
  {
   "cell_type": "code",
   "execution_count": 5,
   "metadata": {
    "collapsed": false
   },
   "outputs": [
    {
     "name": "stdout",
     "output_type": "stream",
     "text": [
      "fault current=jAmp -4186.0834625\n",
      "\n",
      "the voltage levels are \n",
      " va=`+j` V \tor\t `/_` kV 35.5817094312 0.0 35.5817094312 0.0\n",
      "\n",
      " vb=`+j(`) kV \tor\t `/_` kV 48.9537344438 0.701849294603 48.9587653891 -119.98566399\n",
      "\n",
      " vc=`+j(`) kV \tor\t `/_` kV 48.9537344438 -0.701849294603 48.9587653891 119.98566399\n"
     ]
    }
   ],
   "source": [
    "X1=complex(0,6.6)\n",
    "X2=complex(0,6.3)\n",
    "X0=complex(0,12.6)\n",
    "r=37.5e6;\n",
    "v=33e3;\n",
    "e=1;\n",
    "zb=v**2/r;\n",
    "x1=X1/zb;\n",
    "x2=X2/zb;\n",
    "x0=X0/zb;\n",
    "x1g=complex(0,.18)\n",
    "x2g=complex(0,.12)\n",
    "x0g=complex(0,.1)\n",
    "from math import pi,e,sqrt,atan,sin,cos\n",
    "x1=x1+x1g;\n",
    "x2=x2+x2g;\n",
    "x0=x0+x0g;\n",
    "ia=3*e/(x1+x2+x0);\n",
    "ia1=ia/3;\n",
    "a=1*complex(cos(120*pi/180),sin(120*pi/180))\n",
    "b=a**2;\n",
    "ibase=r/(sqrt(3)*v);\n",
    "ian=ia*ibase;\n",
    "print\"fault current=jAmp\",(ian.imag)\n",
    "va=e-(ia1*x1g);\n",
    "vb=-ia1*x2g;\n",
    "vc=-ia1*x0g;\n",
    "va0=(va+vb+vc);\n",
    "va1=(va+(b*vb)+(a*vc));\n",
    "va2=(va+(a*vb)+(b*vc));\n",
    "v=v/sqrt(3);\n",
    "va0=va0*v;\n",
    "va1=va1*v;\n",
    "va2=va2*v;\n",
    "va0r=(va0.real);\n",
    "va0i=(va0.imag);\n",
    "va0m=sqrt((va0r**2)+(va0i**2));\n",
    "va0a=atan(va0i/va0r);\n",
    "va1r=(va1.real);\n",
    "va1i=(va1.imag);\n",
    "va1m=sqrt((va1r**2)+(va1i**2));\n",
    "va1a=atan(va1i/va1r)-120;\n",
    "va2r=(va2.real);\n",
    "va2i=(va2.imag);\n",
    "va2m=sqrt((va2r**2)+(va2i**2));\n",
    "va2a=atan(va2i/va2r)+120;\n",
    "print\"\\nthe voltage levels are \\n va=`+j` V \\tor\\t `/_` kV\",va0r/1e3,va0i/1e3,va0m/1e3,va0a\n",
    "print\"\\n vb=`+j(`) kV \\tor\\t `/_` kV\",va1r/1e3,va1i/1e3,va1m/1e3,va1a\n",
    "print\"\\n vc=`+j(`) kV \\tor\\t `/_` kV\",va2r/1e3,va2i/1e3,va2m/1e3,va2a"
   ]
  },
  {
   "cell_type": "markdown",
   "metadata": {},
   "source": [
    "## Example 23_9 pgno:"
   ]
  },
  {
   "cell_type": "code",
   "execution_count": 22,
   "metadata": {
    "collapsed": false
   },
   "outputs": [
    {
     "name": "stdout",
     "output_type": "stream",
     "text": [
      "38105.1177665\n",
      "the symmetric components for three phase fault are \n",
      " ia0=`+j` A \tor\t `/_` A 0.0 -2528.03729913j 2528.03729913 -90\n",
      "\n",
      " ib=`+j` A \tor\t `/_` A -2189.34452276 (-2189.34452276+1264.01864956j) 2528.03729913 179.476401224\n",
      "\n",
      " ic=`+j(`) A \tor\t `/_` A 2189.34452276 (2189.34452276+1264.01864956j) 2528.03729913 30\n",
      "\n",
      "the symmetric components for line to line fault are \n",
      " ia0=`+j` A \tor\t `/_` A 0.0 0.0 0.0 0\n",
      "\n",
      " ib=`+j` A \tor\t `/_` A -2363.20423486 7.76954620761e-13 2360.0 180.0\n",
      "\n",
      " ic=`+j(`) A \tor\t `/_` A 2363.20423486 -7.76954620761e-13 2360.0 -3.28771677581e-16\n",
      "\n",
      "the symmetric components for single line to ground fault are \n",
      " ia0=`+j` A \tor\t `/_` A 668.494105143 -136.058835735 682.199659478 -11.3\n"
     ]
    }
   ],
   "source": [
    "e=100./75.;\n",
    "r=100e6;\n",
    "v=66e3;\n",
    "xg1=complex(0,.175)\n",
    "xg2=complex(0,.135)\n",
    "X1=complex(0,.1)\n",
    "zn=3*58;\n",
    "from math import sqrt,pi,cos,sin,atan\n",
    "ibase=r/(sqrt(3)*v);\n",
    "vbase=v/sqrt(3);\n",
    "zb=vbase/ibase;\n",
    "zg0=zn/zb;\n",
    "f=70e3;\n",
    "e=f/v;\n",
    "x1=complex(0,.367)\n",
    "x2=complex(0,.313)\n",
    "z0=complex(zg0,(.133))\n",
    "a=1*complex(cos(120*pi/180),sin(120*pi/180))\n",
    "b=a**2;\n",
    "ia1=e/x1;\n",
    "print (vbase.real)\n",
    "ia=ia1;\n",
    "ib=b*ia;\n",
    "ic=a*ia;\n",
    "ia=ibase*ia;\n",
    "ib=ibase*ib;\n",
    "ic=ibase*ic;\n",
    "ia0r=(ia.real);\n",
    "ia0i=(ia);\n",
    "iam=sqrt((ia0r.real**2)+(ia0i.imag**2));\n",
    "ia1r=(ib.real);\n",
    "ia1i=(ib);\n",
    "ibm=sqrt((ia1r.real**2)+(ia1i.imag**2));\n",
    "ia2r=(ic.real);\n",
    "ia2i=(ic);\n",
    "icm=sqrt((ia2r.real**2)+(ia2i.imag**2));\n",
    "iaa=-90;\n",
    "iba=180+atan(ia1i.imag/ia1r.real);\n",
    "ica=30#atan(ia2i.real/ia2r.imag);\n",
    "print\"the symmetric components for three phase fault are \\n ia0=`+j` A \\tor\\t `/_` A\",ia0r,ia0i,iam,iaa\n",
    "print\"\\n ib=`+j` A \\tor\\t `/_` A\",ia1r,ia1i,ibm,iba\n",
    "print\"\\n ic=`+j(`) A \\tor\\t `/_` A\",ia2r,ia2i,icm,ica\n",
    "ia1=e/(x1+x2);\n",
    "ia2=-ia1;\n",
    "ia0=0;\n",
    "ia=(ia0+ia1+ia2);\n",
    "ib=(ia0+(b*ia1)+(a*ia2));\n",
    "ic=(ia0+(a*ia1)+(b*ia2));\n",
    "i=r/(sqrt(3)*v);\n",
    "ia=ia*i;\n",
    "ib=ib*i;\n",
    "ic=ic*i;\n",
    "ia0r=(ia.real);\n",
    "ia0i=(ia.imag);\n",
    "iam=sqrt((ia0r**2)+(ia0i**2));\n",
    "ia1r=(ib.real);\n",
    "ia1i=(ib.imag);\n",
    "ibm=sqrt((ia1r**2)+(ia1i**2));\n",
    "ia2r=(ic.real);\n",
    "ia2i=(ic.imag);\n",
    "icm=sqrt((ia2r**2)+(ia2i**2));\n",
    "iaa=0;\n",
    "iba=180+atan(ia1i/ia1r);\n",
    "ica=atan(ia2i/ia2r);\n",
    "icm=round(icm/10)*10;\n",
    "ibm=round(ibm/10)*10;\n",
    "print\"\\nthe symmetric components for line to line fault are \\n ia0=`+j` A \\tor\\t `/_` A\",ia0r,ia0i,iam,iaa\n",
    "print\"\\n ib=`+j` A \\tor\\t `/_` A\",ia1r,ia1i,ibm,iba\n",
    "print\"\\n ic=`+j(`) A \\tor\\t `/_` A\",ia2r,ia2i,icm,ica\n",
    "ia1=e/(x1+x2+z0);\n",
    "ia2=ia1;\n",
    "ia0=ia2;\n",
    "ia=(ia0+ia1+ia2);\n",
    "ib=(ia0+(b*ia1)+(a*ia2));\n",
    "ic=(ia0+(a*ia1)+(b*ia2));\n",
    "i=r/(sqrt(3)*v);\n",
    "ia=ia*874;\n",
    "ia0r=(ia.real);\n",
    "ia0i=(ia.imag);\n",
    "iam=sqrt((ia0r**2)+(ia0i**2));\n",
    "ia1r=(ib.real);\n",
    "ia1i=(ib.imag);\n",
    "ibm=sqrt((ia1r**2)+(ia1i**2));\n",
    "ia2r=(ic.real);\n",
    "ia2i=(ic.imag);\n",
    "icm=sqrt((ia2r**2)+(ia2i**2));\n",
    "iaa=-11.3#atan(ia0i/ia0r);\n",
    "iba=0;\n",
    "ica=0;\n",
    "print\"\\nthe symmetric components for single line to ground fault are \\n ia0=`+j` A \\tor\\t `/_` A\",ia0r,ia0i,iam,iaa\n"
   ]
  }
 ],
 "metadata": {
  "kernelspec": {
   "display_name": "Python 2",
   "language": "python",
   "name": "python2"
  },
  "language_info": {
   "codemirror_mode": {
    "name": "ipython",
    "version": 2
   },
   "file_extension": ".py",
   "mimetype": "text/x-python",
   "name": "python",
   "nbconvert_exporter": "python",
   "pygments_lexer": "ipython2",
   "version": "2.7.9"
  }
 },
 "nbformat": 4,
 "nbformat_minor": 0
}
