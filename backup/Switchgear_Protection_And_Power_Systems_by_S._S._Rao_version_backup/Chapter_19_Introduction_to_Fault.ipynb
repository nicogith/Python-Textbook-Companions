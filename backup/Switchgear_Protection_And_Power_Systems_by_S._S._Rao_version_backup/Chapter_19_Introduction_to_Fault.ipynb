{
 "cells": [
  {
   "cell_type": "markdown",
   "metadata": {},
   "source": [
    "# Chapter 19 Introduction to Fault Calculations"
   ]
  },
  {
   "cell_type": "markdown",
   "metadata": {},
   "source": [
    "## Example 19_1 pgno:392"
   ]
  },
  {
   "cell_type": "code",
   "execution_count": 10,
   "metadata": {
    "collapsed": false
   },
   "outputs": [
    {
     "name": "stdout",
     "output_type": "stream",
     "text": [
      "the base impedence=ohm\n",
      "20.0\n",
      "the base values for 20A=p.u. 2.0\n",
      " the base values for 2A=p.u. 0.02\n",
      "the base values for 50V=p.u. 0.25\n",
      "the base values for 2ohm=p.u 0.1\n"
     ]
    }
   ],
   "source": [
    "#given\n",
    "i=10.;\n",
    "v=200.;\n",
    "#solution\n",
    "z=v/i;\n",
    "I1=20/i;\n",
    "I2=.2/i;\n",
    "v1=50/v;\n",
    "r=2/z;\n",
    "print\"the base impedence=ohm\\n\",z\n",
    "print\"the base values for 20A=p.u.\",I1\n",
    "print\" the base values for 2A=p.u.\",I2 \n",
    "print\"the base values for 50V=p.u.\",v1  \n",
    "print\"the base values for 2ohm=p.u\",r\n"
   ]
  },
  {
   "cell_type": "markdown",
   "metadata": {},
   "source": [
    "## Example 19_2 pgno:393"
   ]
  },
  {
   "cell_type": "code",
   "execution_count": 11,
   "metadata": {
    "collapsed": false
   },
   "outputs": [
    {
     "name": "stdout",
     "output_type": "stream",
     "text": [
      "the per unit resistance=p.u 0.0165\n"
     ]
    }
   ],
   "source": [
    "#given\n",
    "z=2;\n",
    "v=11e3;\n",
    "r=1000e3;\n",
    "#solution\n",
    "zb=v**2/r;\n",
    "y=z/zb;\n",
    "y=round(y*10000)/10000;\n",
    "print\"the per unit resistance=p.u\",y\n"
   ]
  },
  {
   "cell_type": "markdown",
   "metadata": {},
   "source": [
    "## Example 19_3 pgno:393"
   ]
  },
  {
   "cell_type": "code",
   "execution_count": 12,
   "metadata": {
    "collapsed": false
   },
   "outputs": [
    {
     "name": "stdout",
     "output_type": "stream",
     "text": [
      "the new per unit reactance=p.u 0.0003\n"
     ]
    }
   ],
   "source": [
    "#given\n",
    "v=11e3;\n",
    "r=15000e3;\n",
    "zp=.15;\n",
    "vnew=110e3;\n",
    "rnew=30000e3;\n",
    "#solution\n",
    "zb=v**2/r;\n",
    "Z=zp*zb;\n",
    "zbnew=vnew**2/rnew;\n",
    "Zp=Z/zbnew;\n",
    "print\"the new per unit reactance=p.u\",Zp/10\n"
   ]
  },
  {
   "cell_type": "markdown",
   "metadata": {},
   "source": [
    "## Example 19_4 pgno:394"
   ]
  },
  {
   "cell_type": "code",
   "execution_count": 13,
   "metadata": {
    "collapsed": false
   },
   "outputs": [
    {
     "name": "stdout",
     "output_type": "stream",
     "text": [
      "the per unit values =p.u. ; p.u.; p.u.  276.0 276.0 276.0\n"
     ]
    }
   ],
   "source": [
    "#given\n",
    "v1=11e3;\n",
    "v2=22e3;\n",
    "v3=3.3e3;\n",
    "r=10000e3;\n",
    "#solution\n",
    "zb1=v1**2/r;\n",
    "zb2=v2**2/r;\n",
    "zb3=v3**2/r;\n",
    "zp1=300/zb3;\n",
    "zp2=300*(zb2/zb3)/zb2;\n",
    "zp3=300*(zb1/zb3)/zb1;\n",
    "zp1=round(zp1*10)/10;\n",
    "zp1=round(zp1);\n",
    "zp2=round(zp2*10)/10;\n",
    "zp2=round(zp2);\n",
    "zp3=round(zp3*10)/10;\n",
    "zp3=round(zp3);\n",
    "print\"the per unit values =p.u. ; p.u.; p.u. \",zp1,zp2,zp3\n"
   ]
  },
  {
   "cell_type": "markdown",
   "metadata": {},
   "source": [
    "## Example 19_5 pgno:397"
   ]
  },
  {
   "cell_type": "code",
   "execution_count": 14,
   "metadata": {
    "collapsed": false
   },
   "outputs": [
    {
     "name": "stdout",
     "output_type": "stream",
     "text": [
      "the fault current is =+(j)A 0.0 -11.5\n"
     ]
    }
   ],
   "source": [
    "#given\n",
    "\n",
    "z=complex(0,0.2*0.155/(0.2+0.155));\n",
    "v=1;\n",
    "i=v/z;\n",
    "\n",
    "print\"the fault current is =+(j)A\",i.real,round(i.imag,1)\n"
   ]
  },
  {
   "cell_type": "markdown",
   "metadata": {},
   "source": [
    "## Example 19_6 pgno:397"
   ]
  },
  {
   "cell_type": "code",
   "execution_count": 15,
   "metadata": {
    "collapsed": false
   },
   "outputs": [
    {
     "name": "stdout",
     "output_type": "stream",
     "text": [
      "the base impedence of transmission line circuti=ohm\n",
      "per unit reactance of transmission line=p.u.\n",
      "  403.333333333 0.198347107438\n",
      "per unit reactance of transformer to new base=+(j)p.u.\n",
      "Per unit reactance of motor to new base=+(j)p.u. 0.0 0.0857142857143 0.0 0.6\n"
     ]
    }
   ],
   "source": [
    "#given\n",
    "r=30000e3;\n",
    "v1=11e3;\n",
    "v2=110e3;\n",
    "zb1=v1**2/r;\n",
    "zb2=v2**2/r;\n",
    "zp1=80./zb2;\n",
    "zp2=complex(0,.1*30000./35000.);\n",
    "zp3=complex(0,.2*30000./10000.);\n",
    "\n",
    "print\"the base impedence of transmission line circuti=ohm\\nper unit reactance of transmission line=p.u.\\n \",zb2,zp1\n",
    "print\"per unit reactance of transformer to new base=+(j)p.u.\\nPer unit reactance of motor to new base=+(j)p.u.\",zp2.real,zp2.imag,zp3.real,zp3.imag\n"
   ]
  },
  {
   "cell_type": "markdown",
   "metadata": {},
   "source": [
    "## Example 19_7 pgno:398"
   ]
  },
  {
   "cell_type": "code",
   "execution_count": 16,
   "metadata": {
    "collapsed": false
   },
   "outputs": [
    {
     "name": "stdout",
     "output_type": "stream",
     "text": [
      "the per unit impedencce of circuit \n",
      "Zp=jp.u ;\n",
      " Zs=jp.u;\n",
      " Zt=jp.u 0.035 0.03 0.05\n"
     ]
    }
   ],
   "source": [
    "r1=10e6;\n",
    "r2=7.5e6;\n",
    "r3=5e6;\n",
    "v1=66e3;\n",
    "v2=11e3;\n",
    "v3=3.3e3;\n",
    "zst=complex(0,.06*r1/r2);\n",
    "zps=complex(0,.07);\n",
    "zpt=complex(0,.09)\n",
    "Zp=(zst+zps-zst)/2;\n",
    "Zs=(zps+zst-zpt)/2;\n",
    "Zt=(zpt+zst-zps)/2;\n",
    "print\"the per unit impedencce of circuit \\nZp=jp.u ;\\n Zs=jp.u;\\n Zt=jp.u\",Zp.imag,Zs.imag,Zt.imag\n",
    "      "
   ]
  },
  {
   "cell_type": "markdown",
   "metadata": {},
   "source": [
    "## Example 19_9 pgno:399"
   ]
  },
  {
   "cell_type": "code",
   "execution_count": 17,
   "metadata": {
    "collapsed": false
   },
   "outputs": [
    {
     "name": "stdout",
     "output_type": "stream",
     "text": [
      "new fault =MVA 4800\n"
     ]
    }
   ],
   "source": [
    "#given\n",
    "old=5000;\n",
    "bank=200;\n",
    "#solution\n",
    "new=old-bank;\n",
    "print\"new fault =MVA\",new\n"
   ]
  },
  {
   "cell_type": "code",
   "execution_count": null,
   "metadata": {
    "collapsed": true
   },
   "outputs": [],
   "source": []
  }
 ],
 "metadata": {
  "kernelspec": {
   "display_name": "Python 2",
   "language": "python",
   "name": "python2"
  },
  "language_info": {
   "codemirror_mode": {
    "name": "ipython",
    "version": 2
   },
   "file_extension": ".py",
   "mimetype": "text/x-python",
   "name": "python",
   "nbconvert_exporter": "python",
   "pygments_lexer": "ipython2",
   "version": "2.7.9"
  }
 },
 "nbformat": 4,
 "nbformat_minor": 0
}
