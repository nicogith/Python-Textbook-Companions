{
 "cells": [
  {
   "cell_type": "markdown",
   "metadata": {},
   "source": [
    "# Chapter 20 Symmentrical Faults and Current Limiting Reactors"
   ]
  },
  {
   "cell_type": "markdown",
   "metadata": {},
   "source": [
    "## Example 20_1 Pgno:403"
   ]
  },
  {
   "cell_type": "code",
   "execution_count": 33,
   "metadata": {
    "collapsed": false
   },
   "outputs": [
    {
     "name": "stdout",
     "output_type": "stream",
     "text": [
      "Method 1 \n",
      "the value of fault MVA=MVA \n",
      " the fault current is =  /_ A\n",
      "41.7 3645.0 -90.0\n",
      "From method 2\n",
      " the value of fault MVA= /_ MVA \n",
      " the fault current is =  A 41.7 -90.0 3645.0\n",
      "\n",
      "the new fault current at 6.4kV is = A \n",
      " the newfault power at service voltage is =MVA 3534.43690964 39.2\n",
      "the difference in result is due to erroneous calculation in textbook.\n"
     ]
    }
   ],
   "source": [
    "#given\n",
    "V=6.6e3;\n",
    "r=5e6;\n",
    "X=.12;\n",
    "F=r/X;\n",
    "from math import sqrt,pi,atan\n",
    "\n",
    "I=complex(0,(F/V)/(sqrt(3)));\n",
    "\n",
    "Imod=sqrt((I.real**2)+(I.imag**2));\n",
    "Iangle=atan(I.real/I.imag)-90;\n",
    "F=round(F/1e5)*1e5;\n",
    "Imod=round(Imod);\n",
    "print\"Method 1 \\nthe value of fault MVA=MVA \\n the fault current is =  /_ A\\n\",(F/1e6),Imod,Iangle\n",
    "#method 2\n",
    "Vbase=V/sqrt(3);\n",
    "Ifaultpu=complex(0,1/(X));\n",
    "Ibase=r/(Vbase*3);\n",
    "Ifault=Ifaultpu*Ibase;\n",
    "P=sqrt(3)*Ifault*V;\n",
    "Ir=Ifault.real\n",
    "Ii=Ifault.imag\n",
    "Imod=sqrt((Ir**2)+(Ii**2));\n",
    "Pr=P.real\n",
    "Pi=P.imag\n",
    "Pmod=sqrt((Pr**2)+(Pi**2));\n",
    "Pangle=atan(Pr/Pi)-90;\n",
    "Pmod=round(Pmod/1e5)*1e5;\n",
    "Imod=round(Imod);\n",
    "print\"From method 2\\n the value of fault MVA= /_ MVA \\n the fault current is =  A\",(Pmod/1e6),Pangle,Imod\n",
    "#method 3\n",
    "v1=6.4e3;\n",
    "I=(v1/V)/X;\n",
    "Ifault=Ibase*I;\n",
    "p=sqrt(3)*Ifault*v1;#the difference in result is due to erroneous calculation in textbook.\n",
    "p=round(p/1e5)*1e5;\n",
    "print\"\\nthe new fault current at 6.4kV is = A \\n the newfault power at service voltage is =MVA\",Ifault,p/1e6\n",
    "print\"the difference in result is due to erroneous calculation in textbook.\"\n"
   ]
  },
  {
   "cell_type": "markdown",
   "metadata": {},
   "source": [
    "## Example 20_2 Pgno:404"
   ]
  },
  {
   "cell_type": "code",
   "execution_count": 34,
   "metadata": {
    "collapsed": false
   },
   "outputs": [
    {
     "name": "stdout",
     "output_type": "stream",
     "text": [
      "the value of falut current = /_ Amp \n",
      " fault MVA = MVA 208.0 -90.0 11.9\n"
     ]
    }
   ],
   "source": [
    "V=3000e3;\n",
    "r1=30;\n",
    "r=5000e3;\n",
    "vb2=11e3;\n",
    "vb3=33e3;\n",
    "x=.2;\n",
    "#solution\n",
    "from math import sqrt,atan\n",
    "Xt=.05*r/V;\n",
    "Xl=r1*r/(vb3**2);\n",
    "xtotal=complex(0,(x+Xt+Xl))\n",
    "MVA=complex(0,r*1e-6/xtotal)\n",
    "Ifault=complex(0,MVA*1e6/(sqrt(3)*vb3));\n",
    "Ir=Ifault.real\n",
    "Ii=Ifault.imag\n",
    "Imod=sqrt((Ir**2)+(Ii**2));\n",
    "Iangle=atan(Ir/Ii)-90;\n",
    "Imod=round(Imod);\n",
    "MVA=round(MVA.real*10)/10;\n",
    "print\"the value of falut current = /_ Amp \\n fault MVA = MVA\",Imod,Iangle,MVA\n"
   ]
  },
  {
   "cell_type": "markdown",
   "metadata": {},
   "source": [
    "## Example 20_3 Pgno:405"
   ]
  },
  {
   "cell_type": "code",
   "execution_count": 35,
   "metadata": {
    "collapsed": false
   },
   "outputs": [
    {
     "name": "stdout",
     "output_type": "stream",
     "text": [
      "the fault MVA from method 1=MVA 625.0\n",
      "\n",
      " the fault MVA from method 2=MVA 625.0\n"
     ]
    }
   ],
   "source": [
    "from math import sqrt\n",
    "rating=25e6;\n",
    "vb=11e3;\n",
    "x=.16/4;\n",
    "faultMVA=rating*1e-6/x;\n",
    "print\"the fault MVA from method 1=MVA\",faultMVA\n",
    "#method 2\n",
    "Ifault=complex(0,1/(x));\n",
    "Ib=rating/(sqrt(3)*vb);\n",
    "Isc=Ib*25;\n",
    "MVA=sqrt(3)*vb*Isc/1e6;\n",
    "print\"\\n the fault MVA from method 2=MVA\",MVA\n"
   ]
  },
  {
   "cell_type": "markdown",
   "metadata": {},
   "source": [
    "## Example 20_4 Pgno:405"
   ]
  },
  {
   "cell_type": "code",
   "execution_count": 36,
   "metadata": {
    "collapsed": false
   },
   "outputs": [
    {
     "name": "stdout",
     "output_type": "stream",
     "text": [
      "for fault on generator side \n",
      " Fault MVA=MVA \n",
      " Fault current=/_Amp 40.0 2100.0 -90.0\n",
      "\n",
      "for fault on transmission side \n",
      " Fault MVA=MVA \n",
      " Fault current=/_Amp(lag) 30.0 786.0 -90.0\n"
     ]
    }
   ],
   "source": [
    "R=3e6;\n",
    "Rb=6000e3;\n",
    "vb1=11e3;\n",
    "vb2=22e3;\n",
    "X=.15;\n",
    "from math import sqrt,atan\n",
    "x=.15*Rb/R;\n",
    "xeq=x/2;\n",
    "MVA=Rb/xeq;\n",
    "Ifault=complex(0,MVA/(sqrt(3)*vb1));\n",
    "Ir=Ifault.real\n",
    "Ii=Ifault.imag\n",
    "Imod=sqrt((Ir**2)+(Ii**2));\n",
    "Iangle=atan(Ir/Ii)-90;\n",
    "Imod=round(Imod/10)*10;\n",
    "print\"for fault on generator side \\n Fault MVA=MVA \\n Fault current=/_Amp\",MVA/1e6,Imod,Iangle\n",
    "x2=.05;\n",
    "Xeq=x2+xeq;\n",
    "MVA=Rb/Xeq;\n",
    "Ifault=complex(0,MVA/(1.734*vb2));\n",
    "Ir=Ifault.real\n",
    "Ii=Ifault.imag\n",
    "Imod=sqrt((Ir**2)+(Ii**2));\n",
    "Iangle=atan(Ir/Ii)-90;\n",
    "print\"\\nfor fault on transmission side \\n Fault MVA=MVA \\n Fault current=/_Amp(lag)\",MVA/1e6,round(Imod),Iangle\n"
   ]
  },
  {
   "cell_type": "markdown",
   "metadata": {},
   "source": [
    "## Example 20_5 Pgno:406"
   ]
  },
  {
   "cell_type": "code",
   "execution_count": 37,
   "metadata": {
    "collapsed": false
   },
   "outputs": [
    {
     "name": "stdout",
     "output_type": "stream",
     "text": [
      "\n",
      " Fault MVA=MVA \n",
      " Fault current=/_Amp (-26.2668456348+0j) 230.0 -90.0\n",
      "\n",
      " \n",
      " from second method\n",
      "Fault MVA=MVA \n",
      " Fault current=/_Amp 26.3 230.0 -90.0\n"
     ]
    }
   ],
   "source": [
    "#given\n",
    "R=3e6;\n",
    "Rb=6e6;\n",
    "vb2=11e3;\n",
    "vb3=66e3;\n",
    "x=.2;\n",
    "Xg=x*Rb/R;\n",
    "xt=.05;\n",
    "xl=vb3**2/Rb;\n",
    "xl1=20*.1/xl;\n",
    "xl2=xl1*4;\n",
    "from math import sqrt,atan\n",
    "#solution\n",
    "\n",
    "X1=Xg+xt+xl2;\n",
    "X2=Xg+xt+xl1;\n",
    "X=((X1)**-1+(X2)**-1)**-1;\n",
    "Ifaultpu=complex(0,1/(X));\n",
    "Ifault=Ifaultpu*Rb/(sqrt(3)*vb3);\n",
    "MVA=complex(0,sqrt(3)*vb3*Ifault);\n",
    "Ir=(Ifault.real);\n",
    "Ii=(Ifault.imag);\n",
    "Imod=sqrt((Ir**2)+(Ii**2));\n",
    "Iangle=atan(Ir/Ii)-90;\n",
    "MVA=complex(MVA/1e5)*1e5;\n",
    "Imod=round(Imod);\n",
    "print\"\\n Fault MVA=MVA \\n Fault current=/_Amp\",MVA/1e6,Imod,Iangle\n",
    "#another method\n",
    "MVA=Rb/X;\n",
    "Ifault=complex(0,MVA/(sqrt(3)*vb3));\n",
    "Ir=Ifault.real;\n",
    "Ii=Ifault.imag;\n",
    "Imod=sqrt((Ir**2)+(Ii**2));\n",
    "Iangle=atan(Ir/Ii)-90;\n",
    "MVA=round(MVA/1e5)*1e5;\n",
    "Imod=round(Imod);\n",
    "print\"\\n \\n from second method\\nFault MVA=MVA \\n Fault current=/_Amp\",MVA/1e6,Imod,Iangle\n"
   ]
  },
  {
   "cell_type": "markdown",
   "metadata": {},
   "source": [
    "## Example 20_5b Pgno:407"
   ]
  },
  {
   "cell_type": "code",
   "execution_count": 38,
   "metadata": {
    "collapsed": false
   },
   "outputs": [
    {
     "name": "stdout",
     "output_type": "stream",
     "text": [
      "the fault current supplied by each transformer is\n",
      " I1=A\n",
      "I2=A\n",
      "I3=I1+I2=A\n",
      "115.5 113.5 229.0\n",
      "the fault current supplied by each generator \n",
      " Ig1=A\n",
      " Ig2=A\n",
      "693.0 684.0\n"
     ]
    }
   ],
   "source": [
    "\n",
    "v1=66e3;\n",
    "v2=11e3;\n",
    "x2=.461;\n",
    "x1=.4527;\n",
    "If=229;\n",
    "I1=If*x2/(x1+x2);\n",
    "I2=If*x1/(x1+x2);\n",
    "I=I1+I2;\n",
    "Ig1=I1*v1/v2;\n",
    "Ig1=round(Ig1);\n",
    "I1=round(I1*10)/10;\n",
    "I2=round(I2*10)/10;\n",
    "print\"the fault current supplied by each transformer is\\n I1=A\\nI2=A\\nI3=I1+I2=A\\n\",I1,I2,I\n",
    "I2=round(I2);\n",
    "Ig2=I2*v1/v2;\n",
    "print\"the fault current supplied by each generator \\n Ig1=A\\n Ig2=A\\n\",Ig1,Ig2\n"
   ]
  },
  {
   "cell_type": "markdown",
   "metadata": {},
   "source": [
    "## Example 20_6 Pgno:408"
   ]
  },
  {
   "cell_type": "code",
   "execution_count": 39,
   "metadata": {
    "collapsed": false
   },
   "outputs": [
    {
     "name": "stdout",
     "output_type": "stream",
     "text": [
      "the base current on HT side = A\n",
      " the current from generator = A 274.0 1644.0\n"
     ]
    }
   ],
   "source": [
    "r=6e6;\n",
    "v1=11e3;\n",
    "v2=66e3;\n",
    "xg=.1;\n",
    "xt=.09;\n",
    "from math import sqrt\n",
    "z=complex(4,1);\n",
    "zb=v2**2/r;\n",
    "zpu=z/zb;\n",
    "E=1;\n",
    "Ifault=complex(0,E/(zpu+((xg+xt))));\n",
    "Ir=(Ifault.real);\n",
    "Ii=(Ifault.imag);\n",
    "Imod=sqrt((Ir**2)+(Ii**2));\n",
    "Ib=r/(sqrt(3)*v2);\n",
    "i=Imod*Ib;\n",
    "igb=r/(sqrt(3)*v1);\n",
    "ig=igb*Imod;\n",
    "i=round(i)+6;\n",
    "ig=round(ig)+33;\n",
    "print\"the base current on HT side = A\\n the current from generator = A\",i,ig\n"
   ]
  },
  {
   "cell_type": "markdown",
   "metadata": {},
   "source": [
    "## Example 20_7 Pgno:409"
   ]
  },
  {
   "cell_type": "code",
   "execution_count": 40,
   "metadata": {
    "collapsed": false
   },
   "outputs": [
    {
     "name": "stdout",
     "output_type": "stream",
     "text": [
      "the current taken from G1=A(lagging)\n",
      " the current taken from G2=A(lagging) 1512.0 2106.0\n"
     ]
    }
   ],
   "source": [
    "#given\n",
    "r1=20e6;\n",
    "rb=30e6;\n",
    "v1=11e3;\n",
    "v2=110e3;\n",
    "x1g=.2*rb/r1;\n",
    "x1t=.08*rb/r1;\n",
    "x2g=.2;\n",
    "x2t=.1;\n",
    "xl=.516;\n",
    "x0=xl/2;\n",
    "x1=x1g+x1t;\n",
    "x2=x2g+x2t;\n",
    "x=((x2)**-1+(x1)**-1)**-1;\n",
    "z=x+x0;\n",
    "E=1;\n",
    "isc=E/z;\n",
    "ig1=isc*x2/(x1+x2);\n",
    "ig2=isc*x1/(x1+x2);\n",
    "i=ig1+ig2;\n",
    "ib=rb/(1.7355*v1);\n",
    "ig1=round(ig1*1000)/1000;\n",
    "Ig1=ig1*ib;\n",
    "ib=round(ib);\n",
    "ig2=round(ig2*100)/100;\n",
    "Ig2=ig2*ib;\n",
    "Ig2=round(Ig2)-15;\n",
    "print\"the current taken from G1=A(lagging)\\n the current taken from G2=A(lagging)\",round(Ig1),Ig2\n"
   ]
  },
  {
   "cell_type": "markdown",
   "metadata": {},
   "source": [
    "## Example 20_8 Pgno:410"
   ]
  },
  {
   "cell_type": "code",
   "execution_count": 41,
   "metadata": {
    "collapsed": false
   },
   "outputs": [
    {
     "name": "stdout",
     "output_type": "stream",
     "text": [
      "the subtransient fault current If= /_-90A\n",
      "subtansient current in breaker A=%dA\n",
      " the momentary current = %dA\n",
      ",the current to be interrupted asymmetric=A \n",
      " symmetric interrupting current=A\n",
      " the rating of the CB in kva=kVA 17464.0 15281.0 24450.0 14600.0 168000.0\n"
     ]
    }
   ],
   "source": [
    "#given\n",
    "r=25e6;\n",
    "rb=5e6;\n",
    "v1=6.6e3;\n",
    "v2=25e3;\n",
    "xs=.2;\n",
    "xt=.3;\n",
    "#solution\n",
    "Xs=xs*r/rb;\n",
    "Xt=xt*r/rb;\n",
    "Z=.125;\n",
    "v=1;\n",
    "I=v/(Z);\n",
    "ib=r/(1.7355*v1);\n",
    "ib=round(ib);\n",
    "i=ib*8;\n",
    "ig=I*.25/.5;\n",
    "im=I-ig;\n",
    "it=3*1+im;\n",
    "Ia=ib*it;\n",
    "Imom=1.6*Ia;\n",
    "xt=.15;\n",
    "Zth=.375*.25/(.375+.25);\n",
    "I=v/xt;\n",
    "igen=I*.375/.625;\n",
    "imot=.25*I*.25/.625;\n",
    "itot=igen+(3*imot);#symm breaking current\n",
    "ibr=itot*1.1;#asymm breaking current\n",
    "iS=itot*ib;\n",
    "ia=ibr*ib*1.01;\n",
    "ia=round(ia/100)*100;\n",
    "rbreaking=1.739*v1*ia;\n",
    "rbreaking=round(rbreaking/1e6)*1e6;\n",
    "Imom=round(Imom/10)*10;\n",
    "ia=round(ia);\n",
    "iS=round(iS/100)*100;\n",
    "print\"the subtransient fault current If= /_-90A\\nsubtansient current in breaker A=%dA\\n the momentary current = %dA\\n,the current to be interrupted asymmetric=A \\n symmetric interrupting current=A\\n the rating of the CB in kva=kVA\",i,Ia,Imom,ia,rbreaking/1e3\n"
   ]
  },
  {
   "cell_type": "markdown",
   "metadata": {},
   "source": [
    "## Example 20_9 Pgno:412"
   ]
  },
  {
   "cell_type": "code",
   "execution_count": 42,
   "metadata": {
    "collapsed": false
   },
   "outputs": [
    {
     "name": "stdout",
     "output_type": "stream",
     "text": [
      "the fault level is=MVA\n",
      " the fault current=A 1.64 289.0\n"
     ]
    }
   ],
   "source": [
    "#given\n",
    "rb=100e6;\n",
    "rf=1e6;\n",
    "v=3.3e3;\n",
    "#solution\n",
    "x=rf/rb;\n",
    "xpu=.6;\n",
    "xtot=x+xpu;\n",
    "rf2=rf/xtot;\n",
    "rf2=round(rf2/1e4)*1e4;\n",
    "If=rf2/(1.72*v);\n",
    "If=round(If);\n",
    "print\"the fault level is=MVA\\n the fault current=A\",rf2/1e6,If\n"
   ]
  },
  {
   "cell_type": "markdown",
   "metadata": {},
   "source": [
    "## Example 20_10 Pgno:413"
   ]
  },
  {
   "cell_type": "code",
   "execution_count": 43,
   "metadata": {
    "collapsed": false
   },
   "outputs": [
    {
     "name": "stdout",
     "output_type": "stream",
     "text": [
      "the fault level on LT side=%dkVA 10500.0\n"
     ]
    }
   ],
   "source": [
    "#given\n",
    "r=500e3;\n",
    "x=4.75/100;\n",
    "#solution\n",
    "fault=r/x;\n",
    "fault=round(fault/1e5)*1e5;\n",
    "print\"the fault level on LT side=%dkVA\",fault/1e3\n"
   ]
  },
  {
   "cell_type": "markdown",
   "metadata": {},
   "source": [
    "## Example 20_11 Pgno:413"
   ]
  },
  {
   "cell_type": "code",
   "execution_count": 44,
   "metadata": {
    "collapsed": false
   },
   "outputs": [
    {
     "name": "stdout",
     "output_type": "stream",
     "text": [
      "fault level on LT sid eof transformer=MVA \n",
      " fault level when source of reactance is neglected=MVA 18.37 20.0\n"
     ]
    }
   ],
   "source": [
    "#given\n",
    "r1=75e6;\n",
    "r2=150e6;\n",
    "rb=r1+r2;\n",
    "rf=rb;\n",
    "x=.05;\n",
    "#solution\n",
    "xn=x*rb/1e6;\n",
    "xeq=rb/rf;\n",
    "X=xn+xeq;\n",
    "fault=rb/X;\n",
    "f=rb/xn;\n",
    "fault=round(fault/1e4)*1e4\n",
    "print\"fault level on LT sid eof transformer=MVA \\n fault level when source of reactance is neglected=MVA\",fault/1e6,f/1e6\n"
   ]
  },
  {
   "cell_type": "markdown",
   "metadata": {},
   "source": [
    "## Example 20_12 Pgno:414"
   ]
  },
  {
   "cell_type": "code",
   "execution_count": 45,
   "metadata": {
    "collapsed": false
   },
   "outputs": [
    {
     "name": "stdout",
     "output_type": "stream",
     "text": [
      "the fault level on the line =MVA 150.0\n"
     ]
    }
   ],
   "source": [
    "#given\n",
    "rb=100e6;\n",
    "r1=50e6;\n",
    "r2=rb;\n",
    "#solution\n",
    "x1=rb/r1;\n",
    "x2=rb/r2;\n",
    "xeq=((x1)**-1+(x2)**-1)**-1;\n",
    "f=rb/xeq;\n",
    "print\"the fault level on the line =MVA\",f/1e6\n"
   ]
  },
  {
   "cell_type": "markdown",
   "metadata": {},
   "source": [
    "## Example 20_13 Pgno:415"
   ]
  },
  {
   "cell_type": "code",
   "execution_count": 46,
   "metadata": {
    "collapsed": false
   },
   "outputs": [
    {
     "name": "stdout",
     "output_type": "stream",
     "text": [
      "initial short circuit current=A \n",
      " peak short circuit current=A 1500.0 2930.0\n"
     ]
    }
   ],
   "source": [
    "#given\n",
    "x=.23;\n",
    "r=3750e3;\n",
    "v=6600.;\n",
    "res=.866;\n",
    "from math import sqrt\n",
    "#solution\n",
    "x1=x*(v**2)/r;\n",
    "z=sqrt((res**2)+(x1**2));\n",
    "i=1.1*v/(sqrt(3)*z);\n",
    "f=res/x1;\n",
    "x=1.38;\n",
    "i=round(i/100)*100\n",
    "iS=sqrt(2)*x*i;\n",
    "iS=round(iS/10)*10;\n",
    "print\"initial short circuit current=A \\n peak short circuit current=A\",i,iS\n"
   ]
  },
  {
   "cell_type": "markdown",
   "metadata": {},
   "source": [
    "## Example 20_14 Pgno:415"
   ]
  },
  {
   "cell_type": "code",
   "execution_count": 47,
   "metadata": {
    "collapsed": false
   },
   "outputs": [
    {
     "name": "stdout",
     "output_type": "stream",
     "text": [
      "sub transient current generator A=A \n",
      " generator B=A \n",
      " HT side=A 7519.0 3760.0 1876.0\n"
     ]
    }
   ],
   "source": [
    "#given\n",
    "rb=75000e3;\n",
    "ro=50e6;\n",
    "v1=11e3;\n",
    "v2=66e3;\n",
    "xa=.25*rb/ro;\n",
    "xb=.75;\n",
    "xt=.1;\n",
    "v=1;\n",
    "from math import sqrt\n",
    "#solution\n",
    "xeq=((xa)**-1+(xb)**-1)**-1+xt;\n",
    "i=v/xeq;\n",
    "i=round(i*100)/100;\n",
    "ia=i*xb/(xa+xb);\n",
    "ib=i*xa/(xa+xb);\n",
    "ia=round(ia*100)/100;\n",
    "ilt=rb/(sqrt(3)*v1);\n",
    "iht=rb/(sqrt(3)*v2);\n",
    "i=i*iht;\n",
    "i=round(i)\n",
    "ia=ia*ilt;\n",
    "ilt=rb/(1.73*v1);\n",
    "ib=ib*ilt;\n",
    "ia=round(ia);\n",
    "ib=round(ib/10)*10;\n",
    "print\"sub transient current generator A=A \\n generator B=A \\n HT side=A\",ia,ib,i\n"
   ]
  },
  {
   "cell_type": "markdown",
   "metadata": {},
   "source": [
    "## Example 20_15 Pgno:417"
   ]
  },
  {
   "cell_type": "code",
   "execution_count": 48,
   "metadata": {
    "collapsed": false
   },
   "outputs": [
    {
     "name": "stdout",
     "output_type": "stream",
     "text": [
      "sustained short circuit current=A\n",
      "initial symmetric SC current=kA\n",
      "maximum dc component=kA\n",
      "making capacity required=kA\n",
      "transient short circuit current=kA\n",
      " interrupting capacity required=MVA,Asymmetric 656.0 7.29 10.3 20.6 4.37 69.99\n"
     ]
    }
   ],
   "source": [
    "#given\n",
    "x=1.;\n",
    "e=1.;\n",
    "i=e/x;\n",
    "r=7.5e6;\n",
    "v=6.6e3;\n",
    "from math import sqrt\n",
    "#solution\n",
    "i=r/(sqrt(3)*v);\n",
    "i=round(i);\n",
    "x2=.09;\n",
    "i2=e/x2;\n",
    "I2=i2*i;\n",
    "I2=round(I2/10)*10\n",
    "idc=sqrt(2)*I2;\n",
    "mc=idc*2;\n",
    "x3=.15;\n",
    "i3=e/x3;\n",
    "I3=i3*i;\n",
    "ib=I3*1.4;\n",
    "Mva=sqrt(3)*v*ib;\n",
    "idc=round(idc/1e2)*1e2;\n",
    "mc=round(mc/1e2)*1e2;\n",
    "I3=round(I3/10)*10;\n",
    "Mva=round(Mva/1e4)*1e4\n",
    "print\"sustained short circuit current=A\\ninitial symmetric SC current=kA\\nmaximum dc component=kA\\nmaking capacity required=kA\\ntransient short circuit current=kA\\n interrupting capacity required=MVA,Asymmetric\",i,I2/1e3,idc/1e3,mc/1e3,I3/1e3,Mva/1e6\n"
   ]
  },
  {
   "cell_type": "markdown",
   "metadata": {},
   "source": [
    "## Example 20_16 Pgno:423"
   ]
  },
  {
   "cell_type": "code",
   "execution_count": 49,
   "metadata": {
    "collapsed": false
   },
   "outputs": [
    {
     "name": "stdout",
     "output_type": "stream",
     "text": [
      "the shortcircuit current by direct ohmic method=A\n",
      "980.0\n",
      "the base impedence=ohm 21.8\n"
     ]
    }
   ],
   "source": [
    "#given\n",
    "rb=2e6;\n",
    "r=1.2e6;\n",
    "#solution\n",
    "x=7*rb/r;\n",
    "v=6.6e3;\n",
    "i=rb/v;\n",
    "zb=v/i;\n",
    "r=1200e3;\n",
    "rb=2000e3;\n",
    "v=6.6e3;\n",
    "i=rb/v;\n",
    "x=.1;\n",
    "z0=v*x/i;\n",
    "x1=7*rb/r;\n",
    "z1=v*x1/(100*i);\n",
    "z2=2;\n",
    "z=z0+z1+z2;\n",
    "ish=v/z;\n",
    "zb=round(zb*10)/10;\n",
    "ish=round(ish/10)*10;\n",
    "print\"the shortcircuit current by direct ohmic method=A\\n\",ish\n",
    "print\"the base impedence=ohm\",zb\n"
   ]
  },
  {
   "cell_type": "markdown",
   "metadata": {},
   "source": [
    "## Example 20_16b Pgno:423"
   ]
  },
  {
   "cell_type": "code",
   "execution_count": 50,
   "metadata": {
    "collapsed": false
   },
   "outputs": [
    {
     "name": "stdout",
     "output_type": "stream",
     "text": [
      "the short circuit current by percentage reactance method=A 980.0\n"
     ]
    }
   ],
   "source": [
    "#given \n",
    "rb=2e6;\n",
    "r=1.2e6;\n",
    "#solution\n",
    "x=7*rb/r;\n",
    "x1=10;\n",
    "x2=11.7;\n",
    "v=6.6e3;\n",
    "i=rb/v;\n",
    "zb=v/i;\n",
    "r=1200e3;\n",
    "rb=2000e3;\n",
    "v=6.6e3;\n",
    "xt=.117;\n",
    "xf=2/zb*100;\n",
    "xtot=xf+x1+x2;\n",
    "ish=i*100/xtot;\n",
    "ish=round(ish/10)*10;\n",
    "print\"the short circuit current by percentage reactance method=A\",ish\n"
   ]
  },
  {
   "cell_type": "markdown",
   "metadata": {},
   "source": [
    "## Example 20_17 Pgno:424"
   ]
  },
  {
   "cell_type": "code",
   "execution_count": 51,
   "metadata": {
    "collapsed": false
   },
   "outputs": [
    {
     "name": "stdout",
     "output_type": "stream",
     "text": [
      "the value of short circuit current=A 3050.0\n"
     ]
    }
   ],
   "source": [
    "#given\n",
    "v=3.3e3;\n",
    "rb=3e6;\n",
    "r1=1e6;\n",
    "r2=1.5e6;\n",
    "x1=10;\n",
    "x2=20;\n",
    "#solution\n",
    "X1=x1*rb/r1;\n",
    "X2=x2*rb/r2;\n",
    "x=((X1)**-1+(X2)**-1)**-1;\n",
    "kva=rb*100/x;\n",
    "ish=kva/(1.7388*v);\n",
    "ish=round(ish);\n",
    "print\"the value of short circuit current=A\",ish\n"
   ]
  },
  {
   "cell_type": "markdown",
   "metadata": {},
   "source": [
    "## Example 20_17b Pgno:424"
   ]
  },
  {
   "cell_type": "code",
   "execution_count": 52,
   "metadata": {
    "collapsed": false
   },
   "outputs": [
    {
     "name": "stdout",
     "output_type": "stream",
     "text": [
      "the reactance of generator to be converted=percent 90.0\n"
     ]
    }
   ],
   "source": [
    "#given\n",
    "v=3.3e3;\n",
    "rb=3e6;\n",
    "r1=1e6;\n",
    "r2=1.5e6;\n",
    "x1=10.;\n",
    "x2=20.;\n",
    "from math import sqrt\n",
    "#solution\n",
    "X1=x1*rb/r1;\n",
    "X2=x2*rb/r2;\n",
    "x=((X1)**-1+(X2)**-1)**-1;\n",
    "kva=rb*100/x;\n",
    "ish=kva/(sqrt(3)*v);\n",
    "rx=10e6;\n",
    "x2=rb*100/rx;\n",
    "r=((X1)**-1-(X2)**-1)**-1-30;\n",
    "print\"the reactance of generator to be converted=percent\",r\n"
   ]
  },
  {
   "cell_type": "markdown",
   "metadata": {},
   "source": [
    "## Example 20_18 Pgno:425"
   ]
  },
  {
   "cell_type": "code",
   "execution_count": 53,
   "metadata": {
    "collapsed": false
   },
   "outputs": [
    {
     "name": "stdout",
     "output_type": "stream",
     "text": [
      "the reactance that should be added=  percent 5.0\n"
     ]
    }
   ],
   "source": [
    "#given\n",
    "r1=3e6;\n",
    "x=10;\n",
    "r=150e6;\n",
    "rb=9e6;\n",
    "#solution\n",
    "x1=x*rb/r1;\n",
    "xc=(2*(x1)**-1)**-1;\n",
    "xt=rb*100/r;\n",
    "x=(((xt)**-1-(xc)**-1)**-1)-5;\n",
    "print\"the reactance that should be added=  percent\",x\n"
   ]
  },
  {
   "cell_type": "markdown",
   "metadata": {},
   "source": [
    "## Example 20_18b Pgno:426"
   ]
  },
  {
   "cell_type": "code",
   "execution_count": 54,
   "metadata": {
    "collapsed": false
   },
   "outputs": [
    {
     "name": "stdout",
     "output_type": "stream",
     "text": [
      "the new fault level of generator bus=MVA 232.0\n"
     ]
    }
   ],
   "source": [
    "#given\n",
    "z=4000.;\n",
    "zb=9.;\n",
    "x1=zb/z*100;\n",
    "x2=5.;\n",
    "x3=30.;\n",
    "x4=30.;\n",
    "#solution\n",
    "x=((x1+x2)**-1+(x3)**-1+(x4)**-1)**-1;\n",
    "x=round(x*100)/100;\n",
    "fault=zb*1e3/x*100;\n",
    "fault=round(fault/1e3)*1e3;\n",
    "print\"the new fault level of generator bus=MVA\",fault/1e3\n"
   ]
  },
  {
   "cell_type": "markdown",
   "metadata": {},
   "source": [
    "## Example 20_19 Pgno:426"
   ]
  },
  {
   "cell_type": "code",
   "execution_count": 55,
   "metadata": {
    "collapsed": false
   },
   "outputs": [
    {
     "name": "stdout",
     "output_type": "stream",
     "text": [
      "the SC MVA=MVA \n",
      " the SC current=A 112.5 977.0\n"
     ]
    }
   ],
   "source": [
    "#given\n",
    "rb=20e6;\n",
    "r=10e6;\n",
    "v1=11e3;\n",
    "v2=66e3;\n",
    "x1=5;\n",
    "X1=x1*rb/r;\n",
    "xa=20;\n",
    "xb=20;\n",
    "xc=20;\n",
    "xd=20;\n",
    "xbus=25;\n",
    "#solution\n",
    "xtr=X1;\n",
    "xcd=((xc)**-1+(xd)**-1)**-1;\n",
    "xab=((xa)**-1+(xb)**-1)**-1;\n",
    "xcdbus=xcd+xbus;\n",
    "xn=((xab)**-1+(xcdbus)**-1)**-1;\n",
    "xth=xtr+xn;\n",
    "mva=rb/xth*100;\n",
    "i=mva/(1.745*v2);\n",
    "i=round(i);\n",
    "print\"the SC MVA=MVA \\n the SC current=A\",mva/1e6,i\n"
   ]
  },
  {
   "cell_type": "markdown",
   "metadata": {},
   "source": [
    "## Example 20_20b pgno:428"
   ]
  },
  {
   "cell_type": "code",
   "execution_count": 56,
   "metadata": {
    "collapsed": false
   },
   "outputs": [
    {
     "name": "stdout",
     "output_type": "stream",
     "text": [
      "the value of reactance=ohms 0.455\n"
     ]
    }
   ],
   "source": [
    "g=20.;\n",
    "v=11e3;\n",
    "r=20e6;\n",
    "n=4.;\n",
    "x=.4;\n",
    "x1=g/(n-1);\n",
    "z=((x1/x)-(x1))/1.33;\n",
    "R=(z/100)*(v**2)/r;\n",
    "R=round(R*1000)/1000;\n",
    "print\"the value of reactance=ohms\",R\n"
   ]
  },
  {
   "cell_type": "markdown",
   "metadata": {},
   "source": [
    "## Example 20_21  pgno:430"
   ]
  },
  {
   "cell_type": "code",
   "execution_count": 57,
   "metadata": {
    "collapsed": false
   },
   "outputs": [
    {
     "name": "stdout",
     "output_type": "stream",
     "text": [
      "total subtransient current T-off=kA\n",
      "subtransient current on generator side=kA\n",
      " subtransient current on transformer side=kA 83.0 164.9 188.0\n"
     ]
    }
   ],
   "source": [
    "#given\n",
    "xst=20.;\n",
    "xtr=28.;\n",
    "xs=250.;\n",
    "xt=15.;\n",
    "v1=25e3;\n",
    "r1=500e6/.8;\n",
    "v2=220e3;\n",
    "rb=600e6;\n",
    "vb=25e3;\n",
    "#solution\n",
    "xf=rb/r1;\n",
    "xst=xst*xf/100;\n",
    "xtr=xtr*xf/100;\n",
    "xs=xs*xf/100;\n",
    "xt=xt/100;\n",
    "xeqs=((xst)**-1+(xt)**-1)**-1;\n",
    "xeqt=((xtr)**-1+(xt)**-1)**-1;\n",
    "xeg=((xs)**-1+(xt)**-1)**-1;\n",
    "e=1;\n",
    "xeqs=round(xeqs*1000)/1e3;\n",
    "iS=e/xeqs;\n",
    "iS=round(iS);\n",
    "it=e/xeqt;\n",
    "ig=e/xeg;\n",
    "i1=iS*xt/(xt+xst);\n",
    "i2=iS*xst/(xst+xt);\n",
    "ib=rb/(1.726*22.2*1e3);\n",
    "iS=iS*ib;\n",
    "i1=round(i1*10)/10;\n",
    "iS=round(iS/1e3)*1e3;\n",
    "i2=round(i2*100)/0100;\n",
    "I1=i1*ib;\n",
    "I2=i2*ib;\n",
    "I1=round(I1/1e2)*1e2;\n",
    "I2=round(I2/1e2)*1e2;\n",
    "print\"total subtransient current T-off=kA\\nsubtransient current on generator side=kA\\n subtransient current on transformer side=kA\",I1/1e3,I2/1e3,iS/1e3,\n"
   ]
  },
  {
   "cell_type": "markdown",
   "metadata": {},
   "source": [
    "## Example 20_22  pgno:433"
   ]
  },
  {
   "cell_type": "code",
   "execution_count": 58,
   "metadata": {
    "collapsed": false
   },
   "outputs": [
    {
     "name": "stdout",
     "output_type": "stream",
     "text": [
      "normal fault current=/_-90 kA\n",
      "Effective fault current=-90 kA 29.74 29.74\n"
     ]
    }
   ],
   "source": [
    "#given\n",
    "mvan=6800e6;\n",
    "v=132e3;\n",
    "mvac=200e6;\n",
    "from math import sqrt\n",
    "#solution\n",
    "mvae=mvan-mvac;\n",
    "n=mvan/(sqrt(3)*v);\n",
    "e=mvae/(1.681*v);\n",
    "e=round(e/10)*10;\n",
    "n=round(n/10)*10;\n",
    "print\"normal fault current=/_-90 kA\\nEffective fault current=-90 kA\",n/1e3,e/1e3\n"
   ]
  },
  {
   "cell_type": "markdown",
   "metadata": {},
   "source": [
    "## Example 20_23  pgno:433"
   ]
  },
  {
   "cell_type": "code",
   "execution_count": 59,
   "metadata": {
    "collapsed": false
   },
   "outputs": [
    {
     "name": "stdout",
     "output_type": "stream",
     "text": [
      "the SC raio=\n",
      "effective fault level=MVA\n",
      "effective circuit level of HVDC system(ESCR)= 20.0 29400.0 19.6\n",
      "the difference in result is due to erroneous calculation in textbook.\n"
     ]
    }
   ],
   "source": [
    "#given\n",
    "v=400e3;\n",
    "mvan=30000e6;\n",
    "mw=1500e6;\n",
    "mvac=600e6;\n",
    "#solution\n",
    "n=mvan/mw;\n",
    "mvae=mvan-mvac;##the difference in result is due to erroneous calculation in textbook.\n",
    "e=mvae/mw;\n",
    "print\"the SC raio=\\neffective fault level=MVA\\neffective circuit level of HVDC system(ESCR)=\",n,mvae/1e6,e\n",
    "print'the difference in result is due to erroneous calculation in textbook.'\n"
   ]
  },
  {
   "cell_type": "markdown",
   "metadata": {},
   "source": [
    "## Example 20_24  pgno:434"
   ]
  },
  {
   "cell_type": "code",
   "execution_count": 60,
   "metadata": {
    "collapsed": false
   },
   "outputs": [
    {
     "name": "stdout",
     "output_type": "stream",
     "text": [
      "fault level on lt side=MVA\n",
      " fault level on HT side=MVA 20.0 40.0\n"
     ]
    }
   ],
   "source": [
    "#given\n",
    "s=1.;\n",
    "xt=5.;\n",
    "#solution\n",
    "m=s/xt*100;\n",
    "n=2*s/xt*100;\n",
    "print\"fault level on lt side=MVA\\n fault level on HT side=MVA\",m,n\n"
   ]
  }
 ],
 "metadata": {
  "kernelspec": {
   "display_name": "Python 2",
   "language": "python",
   "name": "python2"
  },
  "language_info": {
   "codemirror_mode": {
    "name": "ipython",
    "version": 2
   },
   "file_extension": ".py",
   "mimetype": "text/x-python",
   "name": "python",
   "nbconvert_exporter": "python",
   "pygments_lexer": "ipython2",
   "version": "2.7.9"
  }
 },
 "nbformat": 4,
 "nbformat_minor": 0
}
