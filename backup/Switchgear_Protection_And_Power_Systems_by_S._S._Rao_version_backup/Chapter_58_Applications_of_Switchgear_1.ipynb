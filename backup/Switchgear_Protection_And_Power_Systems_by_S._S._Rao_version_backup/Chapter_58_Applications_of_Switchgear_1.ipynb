{
 "cells": [
  {
   "cell_type": "markdown",
   "metadata": {},
   "source": [
    "# Chapter 58 Applications of Switchgear"
   ]
  },
  {
   "cell_type": "markdown",
   "metadata": {},
   "source": [
    "## Example 58_1 pgno:159"
   ]
  },
  {
   "cell_type": "code",
   "execution_count": 1,
   "metadata": {
    "collapsed": false
   },
   "outputs": [
    {
     "name": "stdout",
     "output_type": "stream",
     "text": [
      "the overcurrent factor= 12.5\n"
     ]
    }
   ],
   "source": [
    "g=15.;\n",
    "p=10.;\n",
    "o=8.;\n",
    "d=1.;\n",
    "c=3.;\n",
    "y=o+d+c;\n",
    "oc=g*p/y;\n",
    "print\"the overcurrent factor=\",oc\n"
   ]
  }
 ],
 "metadata": {
  "kernelspec": {
   "display_name": "Python 2",
   "language": "python",
   "name": "python2"
  },
  "language_info": {
   "codemirror_mode": {
    "name": "ipython",
    "version": 2
   },
   "file_extension": ".py",
   "mimetype": "text/x-python",
   "name": "python",
   "nbconvert_exporter": "python",
   "pygments_lexer": "ipython2",
   "version": "2.7.9"
  }
 },
 "nbformat": 4,
 "nbformat_minor": 0
}
