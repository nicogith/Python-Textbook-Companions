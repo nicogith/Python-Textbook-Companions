{
 "cells": [
  {
   "cell_type": "markdown",
   "metadata": {},
   "source": [
    "# Chapter 45 Load Frquency Control,Load sheeding and Static relay"
   ]
  },
  {
   "cell_type": "markdown",
   "metadata": {},
   "source": [
    "## Example 45_1 pgno:944"
   ]
  },
  {
   "cell_type": "code",
   "execution_count": 11,
   "metadata": {
    "collapsed": false
   },
   "outputs": [
    {
     "name": "stdout",
     "output_type": "stream",
     "text": [
      "the power factor=\n",
      "the rating=kVA\n",
      " the kVAr of system=kVA 0.753768844221 159.2 104.616633477\n",
      "the difference in result is due to erroneous calculation in textbook.\n"
     ]
    }
   ],
   "source": [
    "from math import sqrt\n",
    "v=460;\n",
    "i=200;\n",
    "r=1.73*v*i/1e3;\n",
    "r=round(r*10)/10;\n",
    "p=120;\n",
    "c=p/r;#the difference in result is due to erroneous calculation in textbook.\n",
    "s=sqrt(1-(c**2))\n",
    "rr=r*s;\n",
    "print\"the power factor=\\nthe rating=kVA\\n the kVAr of system=kVA\",c,r,rr\n",
    "print\"the difference in result is due to erroneous calculation in textbook.\"\n"
   ]
  },
  {
   "cell_type": "markdown",
   "metadata": {},
   "source": [
    "## Example 45_2 pgno:944"
   ]
  },
  {
   "cell_type": "code",
   "execution_count": 12,
   "metadata": {
    "collapsed": false
   },
   "outputs": [
    {
     "name": "stdout",
     "output_type": "stream",
     "text": [
      "the power factor of the substation= 0.98\n"
     ]
    }
   ],
   "source": [
    "from math import sin,cos,acos,sqrt\n",
    "r1=75;\n",
    "c1=.8;\n",
    "p1=r1*c1;\n",
    "rr1=r1*(sin(acos(c1)));\n",
    "r2=150;\n",
    "c2=.8;\n",
    "p2=r2*c2;\n",
    "rr2=r2*(sin(acos(c2)));\n",
    "r3=50;\n",
    "c3=1;\n",
    "p3=r3*c3;\n",
    "rr3=r3*(sin(acos(c3)));\n",
    "rr=-rr1+rr2+rr3;\n",
    "p=p1+p2+p3;\n",
    "r=sqrt(p**2+rr**2);\n",
    "r=round(r)\n",
    "j=p/r;\n",
    "print\"the power factor of the substation=\",round(j,2)\n"
   ]
  },
  {
   "cell_type": "markdown",
   "metadata": {},
   "source": [
    "## Example 45_3 pgno:945"
   ]
  },
  {
   "cell_type": "code",
   "execution_count": 13,
   "metadata": {
    "collapsed": false
   },
   "outputs": [
    {
     "name": "stdout",
     "output_type": "stream",
     "text": [
      "the kVAr of capacitors = kVA 32.0\n"
     ]
    }
   ],
   "source": [
    "from math import sin,cos,acos,sqrt\n",
    "c1=.8;\n",
    "p1=120;\n",
    "r1=p1/c1;\n",
    "rr1=r1*(sin(acos(c1)));\n",
    "c2=.9;\n",
    "r2=p1/c2;\n",
    "rr2=r2*(sin(acos(c2)));\n",
    "rr2=round(rr2);\n",
    "rr=rr1-rr2;\n",
    "print\"the kVAr of capacitors = kVA\",rr\n"
   ]
  },
  {
   "cell_type": "markdown",
   "metadata": {},
   "source": [
    "## Example 45_4 pgno:946"
   ]
  },
  {
   "cell_type": "code",
   "execution_count": 14,
   "metadata": {
    "collapsed": false
   },
   "outputs": [
    {
     "name": "stdout",
     "output_type": "stream",
     "text": [
      "the power factor is  0.9375\n",
      "the difference in result is due to erroneous calculation in textbook.\n"
     ]
    }
   ],
   "source": [
    "k=100.;\n",
    "s=400.;\n",
    "pf=1-((k/s)**2);\n",
    "print\"the power factor is \",pf\n",
    "print\"the difference in result is due to erroneous calculation in textbook.\"\n",
    "\n"
   ]
  },
  {
   "cell_type": "markdown",
   "metadata": {},
   "source": [
    "## Example 45_5 pgno:946"
   ]
  },
  {
   "cell_type": "code",
   "execution_count": 15,
   "metadata": {
    "collapsed": false
   },
   "outputs": [
    {
     "name": "stdout",
     "output_type": "stream",
     "text": [
      "the power factor is (lag) 0.97\n"
     ]
    }
   ],
   "source": [
    "k=12.\n",
    "m=72.;\n",
    "pf=1-((k/m)**2);\n",
    "print\"the power factor is (lag)\",round(pf,2)\n"
   ]
  },
  {
   "cell_type": "markdown",
   "metadata": {},
   "source": [
    "## Example 45_6 pgno:946"
   ]
  },
  {
   "cell_type": "code",
   "execution_count": 16,
   "metadata": {
    "collapsed": false
   },
   "outputs": [
    {
     "name": "stdout",
     "output_type": "stream",
     "text": [
      "the Power Factor of the combined sub-station= leading 0.965\n"
     ]
    }
   ],
   "source": [
    "from math import sin,cos,acos,sqrt,tan,atan\n",
    "\n",
    "n1=.89;\n",
    "h1=150;\n",
    "c1=.9;\n",
    "h2=200;\n",
    "n2=.9;\n",
    "c2=.8;\n",
    "h3=500;\n",
    "n3=.93;\n",
    "c3=.707;\n",
    "p4=100;\n",
    "p1=h1*.746/n1;\n",
    "p2=h2*.746/n2;\n",
    "p3=h3*.746/n3;\n",
    "rr1=p1*(tan(acos(c1)));\n",
    "rr2=p2*(tan(acos(c2)));\n",
    "rr3=p3*(tan(acos(c3)));\n",
    "rr4=0;\n",
    "rr=rr1+rr2-rr3+rr4;\n",
    "p=p1+p2+p3+p4;\n",
    "c=rr/p;\n",
    "j=cos(atan(c));\n",
    "j=round(j*1000)/1000;\n",
    "print\"the Power Factor of the combined sub-station= leading\",j\n",
    "\n",
    "\n"
   ]
  },
  {
   "cell_type": "code",
   "execution_count": null,
   "metadata": {
    "collapsed": true
   },
   "outputs": [],
   "source": []
  },
  {
   "cell_type": "code",
   "execution_count": null,
   "metadata": {
    "collapsed": true
   },
   "outputs": [],
   "source": []
  }
 ],
 "metadata": {
  "kernelspec": {
   "display_name": "Python 2",
   "language": "python",
   "name": "python2"
  },
  "language_info": {
   "codemirror_mode": {
    "name": "ipython",
    "version": 2
   },
   "file_extension": ".py",
   "mimetype": "text/x-python",
   "name": "python",
   "nbconvert_exporter": "python",
   "pygments_lexer": "ipython2",
   "version": "2.7.9"
  }
 },
 "nbformat": 4,
 "nbformat_minor": 0
}
