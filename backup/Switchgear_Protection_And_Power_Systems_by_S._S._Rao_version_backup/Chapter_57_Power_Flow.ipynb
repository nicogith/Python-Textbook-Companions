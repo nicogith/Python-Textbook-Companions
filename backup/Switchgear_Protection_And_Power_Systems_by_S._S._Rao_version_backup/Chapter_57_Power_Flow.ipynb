{
 "cells": [
  {
   "cell_type": "markdown",
   "metadata": {},
   "source": [
    "# Chapter 57 Power Flow Calculations"
   ]
  },
  {
   "cell_type": "markdown",
   "metadata": {},
   "source": [
    "## Example 57_1 pgno:1187"
   ]
  },
  {
   "cell_type": "code",
   "execution_count": 26,
   "metadata": {
    "collapsed": false
   },
   "outputs": [
    {
     "name": "stdout",
     "output_type": "stream",
     "text": [
      "the branch current I=/_A\n",
      "the Branch Admittance=+()j mho 20.0 -0.927295218002 0.12 -0.16\n"
     ]
    }
   ],
   "source": [
    "from math import atan\n",
    "v=100;\n",
    "z=complex(3,4)\n",
    "i=v/z;\n",
    "y=1/z;\n",
    "ia=atan(i.imag/i.real);\n",
    "print\"the branch current I=/_A\\nthe Branch Admittance=+()j mho\",abs(i),ia,y.real,y.imag\n"
   ]
  },
  {
   "cell_type": "markdown",
   "metadata": {},
   "source": [
    "## Example 57_2 pgno:1198"
   ]
  },
  {
   "cell_type": "code",
   "execution_count": 27,
   "metadata": {
    "collapsed": false
   },
   "outputs": [
    {
     "name": "stdout",
     "output_type": "stream",
     "text": [
      "the impedence=mho 0.2\n"
     ]
    }
   ],
   "source": [
    "z=complex(3,4)\n",
    "y=1/z;\n",
    "print\"the impedence=mho\",abs(y)\n"
   ]
  },
  {
   "cell_type": "markdown",
   "metadata": {},
   "source": [
    "## Example 57_4 pgno:1194"
   ]
  },
  {
   "cell_type": "code",
   "execution_count": 28,
   "metadata": {
    "collapsed": false
   },
   "outputs": [
    {
     "name": "stdout",
     "output_type": "stream",
     "text": [
      "used value in iteration\titeration number\tresulting value of V2\n",
      "(1+0j)\n",
      "\t\t\t\t\t\t(0.962-0.05j)\n",
      "(0.962-0.05j)\n",
      "\t\t\t\t\t\t(0.957911-0.049787j)\n",
      "(0.9527-0.497j)\n",
      "\t\t\t\t\t\t(0.957732-0.05j)\n",
      "(0.9577-0.05j)\n",
      "\t\t\t\t\t\t(0.957713-0.049999j)\n"
     ]
    }
   ],
   "source": [
    "v1=1;\n",
    "z=complex(.05,.02);\n",
    "s=complex(1,-.6);\n",
    "c=.000005;\n",
    "#v[2,1]=1;\n",
    "print\"used value in iteration\\titeration number\\tresulting value of V2\"\n",
    "import numpy\n",
    "v1=numpy.array([complex(1,0), complex(0.962,-0.05), complex(0.9527,-0.497), complex(0.9577,-0.05), complex(0.9577,-0.049999)])\n",
    "v2=numpy.array([complex(0.962000,(-0.050000)), complex(0.957911,(-0.049787)), complex(0.957732,(-0.050000)), complex(0.957713,(-0.049999)), complex(0.957712,(-0.050000))])\n",
    "for i in range(0,4):\n",
    "\tprint v1[i]\n",
    "\tprint \"\\t\\t\\t\\t\\t\\t\",v2[i]"
   ]
  },
  {
   "cell_type": "markdown",
   "metadata": {},
   "source": [
    "## Example 57_5 pgno:1197"
   ]
  },
  {
   "cell_type": "code",
   "execution_count": 29,
   "metadata": {
    "collapsed": false
   },
   "outputs": [
    {
     "name": "stdout",
     "output_type": "stream",
     "text": [
      "the power angle=/_ degrees 0.523598775598\n"
     ]
    }
   ],
   "source": [
    "x=.05;\n",
    "vs=1;\n",
    "vr=1;\n",
    "p=10;\n",
    "from math import asin\n",
    "d=asin(p*x);\n",
    "print\"the power angle=/_ degrees\",d\n"
   ]
  },
  {
   "cell_type": "markdown",
   "metadata": {},
   "source": [
    "## Example 57_6 pgno:1198"
   ]
  },
  {
   "cell_type": "code",
   "execution_count": 30,
   "metadata": {
    "collapsed": false
   },
   "outputs": [
    {
     "name": "stdout",
     "output_type": "stream",
     "text": [
      "10.0 5.36\n"
     ]
    }
   ],
   "source": [
    "x=.05;\n",
    "vs=1.;\n",
    "vr=1.;\n",
    "p=10.;\n",
    "from math import asin,cos\n",
    "d=asin(p*x);\n",
    "qs=(vs**2/x)-(vs*vr*cos(d)/x);\n",
    "qs=round(qs*100)/100;\n",
    "qR=(vs**2/x)-(vs*vr*cos(d)/x);\n",
    "qR=round(qR*100)/100;\n",
    "q=(qs+qR);\n",
    "print p,q"
   ]
  },
  {
   "cell_type": "markdown",
   "metadata": {},
   "source": [
    "## Example 57_7 pgno:1198"
   ]
  },
  {
   "cell_type": "code",
   "execution_count": 31,
   "metadata": {
    "collapsed": false
   },
   "outputs": [
    {
     "name": "stdout",
     "output_type": "stream",
     "text": [
      "active power flow=pu -19.7606324819\n"
     ]
    }
   ],
   "source": [
    "\n",
    "x=.05;\n",
    "d=30;\n",
    "vs=1;\n",
    "vr=1;\n",
    "from math import sin\n",
    "p=vs*vr*sin(d)/x;\n",
    "print\"active power flow=pu\",p\n"
   ]
  },
  {
   "cell_type": "markdown",
   "metadata": {},
   "source": [
    "## Example 57_8 pgno:1198"
   ]
  },
  {
   "cell_type": "code",
   "execution_count": 32,
   "metadata": {
    "collapsed": false
   },
   "outputs": [
    {
     "name": "stdout",
     "output_type": "stream",
     "text": [
      "sending end voltage=/_V\n",
      "the average reactive power flow=pu 0.965865415055 0.0621604788211 -0.66\n"
     ]
    }
   ],
   "source": [
    "z=complex(0,.06)\n",
    "i=complex(1,.6)\n",
    "from math import atan\n",
    "vr=1;\n",
    "vs=vr+(i*z);\n",
    "q=.5*((abs(vs))**2-(abs(vr))**2)/abs(z);\n",
    "q=q-.1;\n",
    "a=atan((vs.imag)/(vs.real))\n",
    "print\"sending end voltage=/_V\\nthe average reactive power flow=pu\",abs(vs),a,round(q,2)\n"
   ]
  },
  {
   "cell_type": "markdown",
   "metadata": {},
   "source": [
    "## Example 57_9 pgno:1199"
   ]
  },
  {
   "cell_type": "code",
   "execution_count": 33,
   "metadata": {
    "collapsed": false
   },
   "outputs": [
    {
     "name": "stdout",
     "output_type": "stream",
     "text": [
      "the complex power=+jpu\n",
      " the real power P=pu\n",
      "the reactive powers=pu 1.078 0.5697\n"
     ]
    }
   ],
   "source": [
    "\n",
    "v=1;\n",
    "from math import cos,sin,pi\n",
    "i=1.188*complex(cos(-28.6*pi/180),sin(-28.6*pi/180));\n",
    "s=v*complex(cos(-28.6*pi/180),-sin(-28.6*pi/180));\n",
    "p=(s.real)+0.2;\n",
    "q=((s.imag))+0.091;\n",
    "print\"the complex power=+jpu\\n the real power P=pu\\nthe reactive powers=pu\",round(p,3),round(q,4)\n"
   ]
  },
  {
   "cell_type": "markdown",
   "metadata": {},
   "source": [
    "## Example 57_12 pgno:1208"
   ]
  },
  {
   "cell_type": "code",
   "execution_count": 34,
   "metadata": {
    "collapsed": false
   },
   "outputs": [
    {
     "name": "stdout",
     "output_type": "stream",
     "text": [
      "the voltage =+()jV 0.9738624 -0.0517056\n"
     ]
    }
   ],
   "source": [
    "v21=1;\n",
    "v22=complex(.983664,-.032316);\n",
    "a=1.6;\n",
    "v23=v21+a*(v22-v21);\n",
    "print\"the voltage =+()jV\",(v23.real),(v23.imag)\n"
   ]
  },
  {
   "cell_type": "markdown",
   "metadata": {},
   "source": [
    "## Example 57_14 pgno:1215"
   ]
  },
  {
   "cell_type": "code",
   "execution_count": 35,
   "metadata": {
    "collapsed": false
   },
   "outputs": [
    {
     "name": "stdout",
     "output_type": "stream",
     "text": [
      "power flow per pole=MW\n",
      "bipolar line flow=MW\n",
      "the line loss per pole in bipolat line=MW\n",
      "bipolar line loss=MW\n",
      "reactive power flow through DC link=MW 500.0 1000.0 20.0 40.0 0\n"
     ]
    }
   ],
   "source": [
    "ud1=510.;\n",
    "ud2=490.;\n",
    "ud=(ud1+ud2)/2;\n",
    "id=1;\n",
    "p=ud*id;\n",
    "b=2*p;\n",
    "r=(ud1-ud2)/id;\n",
    "pl=r;\n",
    "pbl=2*pl;\n",
    "pdr=ud1;\n",
    "pdi=ud2;\n",
    "pz=pdr-pdi;\n",
    "print\"power flow per pole=MW\\nbipolar line flow=MW\\nthe line loss per pole in bipolat line=MW\\nbipolar line loss=MW\\nreactive power flow through DC link=MW\",p,b,pl,pbl,0\n"
   ]
  },
  {
   "cell_type": "markdown",
   "metadata": {},
   "source": [
    "## Example 57_15 pgno:1216"
   ]
  },
  {
   "cell_type": "code",
   "execution_count": 36,
   "metadata": {
    "collapsed": false
   },
   "outputs": [
    {
     "name": "stdout",
     "output_type": "stream",
     "text": [
      "the sending end power=MW\n",
      "power in middle=MW\n",
      "DC sending end voltage=kV\n",
      "recieving end DC voltage=kV\n",
      "DC voltage in middle of line=kV\n",
      "Line Resistance =ohm 1060.0 1030.0 1060.0 530.0 515.0 30.0\n"
     ]
    }
   ],
   "source": [
    "pdi=1000.;\n",
    "pdl=60.;\n",
    "ud=1.;\n",
    "pdr=pdi+pdl;\n",
    "p=(pdr+pdi)/2;\n",
    "id=pdi/ud;\n",
    "pdc=pdr*1e3/id;\n",
    "rec=pdc/2;\n",
    "vdc=(rec+(pdi/2))/2;\n",
    "udr=rec;\n",
    "udi=pdi/2;\n",
    "r=(udr-udi)*1e3/id;\n",
    "print\"the sending end power=MW\\npower in middle=MW\\nDC sending end voltage=kV\\nrecieving end DC voltage=kV\\nDC voltage in middle of line=kV\\nLine Resistance =ohm\",pdr,p,pdc,rec,vdc,r"
   ]
  },
  {
   "cell_type": "markdown",
   "metadata": {},
   "source": [
    "## Example 57_16 pgno:1219"
   ]
  },
  {
   "cell_type": "code",
   "execution_count": 37,
   "metadata": {
    "collapsed": false
   },
   "outputs": [
    {
     "name": "stdout",
     "output_type": "stream",
     "text": [
      "power flow through 4th AC line=MW 1000.0\n"
     ]
    }
   ],
   "source": [
    "pg=6000.;\n",
    "pdc=1000.;\n",
    "pac=pg-(2*pdc);\n",
    "pac1=1000.;\n",
    "pac2=1000.;\n",
    "pac3=1000.;\n",
    "pac4=pac-pac1-pac2-pac3;\n",
    "print\"power flow through 4th AC line=MW\",pac4\n"
   ]
  },
  {
   "cell_type": "markdown",
   "metadata": {},
   "source": [
    "## Example 57_17 pgno:1219"
   ]
  },
  {
   "cell_type": "code",
   "execution_count": 38,
   "metadata": {
    "collapsed": false
   },
   "outputs": [
    {
     "name": "stdout",
     "output_type": "stream",
     "text": [
      "power flow through AC line=MW 500.0\n"
     ]
    }
   ],
   "source": [
    "pg=6000.;\n",
    "pdc=4000.;\n",
    "pac=pg-pdc;\n",
    "pow=pac/4;\n",
    "print\"power flow through AC line=MW\",pow\n",
    "\n"
   ]
  },
  {
   "cell_type": "code",
   "execution_count": null,
   "metadata": {
    "collapsed": true
   },
   "outputs": [],
   "source": []
  },
  {
   "cell_type": "code",
   "execution_count": null,
   "metadata": {
    "collapsed": true
   },
   "outputs": [],
   "source": []
  }
 ],
 "metadata": {
  "kernelspec": {
   "display_name": "Python 2",
   "language": "python",
   "name": "python2"
  },
  "language_info": {
   "codemirror_mode": {
    "name": "ipython",
    "version": 2
   },
   "file_extension": ".py",
   "mimetype": "text/x-python",
   "name": "python",
   "nbconvert_exporter": "python",
   "pygments_lexer": "ipython2",
   "version": "2.7.9"
  }
 },
 "nbformat": 4,
 "nbformat_minor": 0
}
