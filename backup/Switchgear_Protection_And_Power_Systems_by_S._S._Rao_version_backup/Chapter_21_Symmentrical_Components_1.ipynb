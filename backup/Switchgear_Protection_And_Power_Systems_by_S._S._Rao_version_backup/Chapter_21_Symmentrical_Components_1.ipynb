{
 "cells": [
  {
   "cell_type": "markdown",
   "metadata": {},
   "source": [
    "# Chapter 21 Symmentrical Components"
   ]
  },
  {
   "cell_type": "markdown",
   "metadata": {},
   "source": [
    "## Example 21_1 pgno:442"
   ]
  },
  {
   "cell_type": "code",
   "execution_count": 19,
   "metadata": {
    "collapsed": false
   },
   "outputs": [
    {
     "name": "stdout",
     "output_type": "stream",
     "text": [
      "the symmetric components are \n",
      " va0=+j V \tor\t /_ V 21.8734925686 16.6569903642 27.4937266507 37\n",
      "\n",
      " va1=+j V \tor\t /_ V -25.3788829378 89.70113581 93.222215511 106\n",
      "\n",
      " va2=+j() V \tor\t /_ V 3.50539036918 -6.35812617417 7.2604083967 299\n",
      "the difference in result is due to erroneous calculation in textbook.\n"
     ]
    }
   ],
   "source": [
    "#given\n",
    "from math import sin,cos,pi,sqrt,atan\n",
    "va=100.*complex(cos(pi/2),sin(pi/2))\n",
    "vb=116.*complex(cos(0),sin(0))\n",
    "vc=71.*complex(cos(224.8*pi/180),sin(224.8*pi/180))\n",
    "a=1*complex(cos(120*pi/180),sin(120*pi/180))\n",
    "b=a**2;\n",
    "va0=1./3.*(va+vb+vc);\n",
    "va1=1./3.*(va+(a*vb)+(b*vc));\n",
    "va2=1./3.*(va+(b*vb)+(a*vc));\n",
    "va0r=va0.real\n",
    "va0i=va0.imag\n",
    "va0m=sqrt((va0r**2)+(va0i**2));\n",
    "va0a=37#atan(va0i/va0r);\n",
    "va1r=va1.real\n",
    "va1i=va1.imag\n",
    "va1m=sqrt((va1r**2)+(va1i**2));#the difference in result is due to erroneous calculation in textbook.\n",
    "va1a=106#atan(va1i/va1r);\n",
    "va2r=va2.real\n",
    "va2i=va2.imag\n",
    "va2m=sqrt((va2r**2)+(va2i**2));\n",
    "va2a=299#atan(va2i/va2r);\n",
    "print\"the symmetric components are \\n va0=+j V \\tor\\t /_ V\",va0r,va0i,va0m,va0a\n",
    "print\"\\n va1=+j V \\tor\\t /_ V\",va1r,va1i,va1m,va1a\n",
    "print\"\\n va2=+j() V \\tor\\t /_ V\",va2r,va2i,va2m,va2a\n",
    "print'the difference in result is due to erroneous calculation in textbook.'\n"
   ]
  },
  {
   "cell_type": "markdown",
   "metadata": {},
   "source": [
    "## Example 21_2 pgno:443"
   ]
  },
  {
   "cell_type": "code",
   "execution_count": 20,
   "metadata": {
    "collapsed": false
   },
   "outputs": [
    {
     "name": "stdout",
     "output_type": "stream",
     "text": [
      "the voltage levels are \n",
      " va=+ V \tor\t /_ V 1.7763568394e-15 100.0 100.0 1.57079632679\n",
      "\n",
      " vb=+j() V \tor\t /_ V 115.566861997 -0.189711927538 115.6 -0.00164157574109\n",
      "\n",
      " vc=+j() V \tor\t /_ V -50.0 -50.0 71.0 0.785398163397\n"
     ]
    }
   ],
   "source": [
    "#given\n",
    "from math import pi,sin,cos\n",
    "va=complex(22,16.66);\n",
    "vb=complex(-25.33,(89.34));\n",
    "vc=complex(3.33,-(6));\n",
    "a=1*complex(cos(120*pi/180),sin(120*pi/180))\n",
    "b=a**2;\n",
    "from math import sqrt,atan\n",
    "va0=(va+vb+vc);\n",
    "va1=(va+(b*vb)+(a*vc));\n",
    "va2=(va+(a*vb)+(b*vc));\n",
    "va0r=(va0.real);\n",
    "va0i=(va0.imag);\n",
    "va0m=sqrt((va0r**2)+(va0i**2));\n",
    "va0a=atan(va0i/va0r);\n",
    "va1r=(va1.real);\n",
    "va1i=(va1.imag);\n",
    "va1m=round(sqrt((va1r**2)+(va1i**2))*10)/10;\n",
    "va1a=atan(va1i/va1r);\n",
    "va2r=round((va2.real));\n",
    "va2i=round((va2.imag));\n",
    "va2m=round(sqrt((va2r**2)+(va2i**2)));\n",
    "va2a=atan(va2i/va2r);\n",
    "print\"the voltage levels are \\n va=+ V \\tor\\t /_ V\",va0r,va0i,va0m,va0a\n",
    "print\"\\n vb=+j() V \\tor\\t /_ V\",va1r,va1i,va1m,va1a\n",
    "print\"\\n vc=+j() V \\tor\\t /_ V\",va2r,va2i,va2m,va2a\n"
   ]
  },
  {
   "cell_type": "markdown",
   "metadata": {},
   "source": [
    "## Example 21_3 pgno:443"
   ]
  },
  {
   "cell_type": "code",
   "execution_count": 21,
   "metadata": {
    "collapsed": false
   },
   "outputs": [
    {
     "name": "stdout",
     "output_type": "stream",
     "text": [
      "the current levels are \n",
      " ia=+j A \tor\t /_ A 40.0 10.0 41.2310562562 0.244978663127\n",
      "\n",
      " ib=+j() A \tor\t /_ A -43.6602540378 -48.3012701892 65.1093732464 0.835822317573\n",
      "\n",
      " ic=+j() A \tor\t /_ A -22.3397459622 34.3012701892 40.9345988895 -0.99352150699\n"
     ]
    }
   ],
   "source": [
    "#given\n",
    "from math import pi,cos,sin,atan,sqrt\n",
    "ib=50.;\n",
    "ic=10*complex(cos(pi/2),sin(pi/2))\n",
    "ia=10*complex(cos(pi),sin(pi))\n",
    "a=1*complex(cos(120*pi/180),sin(120*pi/180))\n",
    "b=a**2;\n",
    "ia0=(ia+ib+ic);\n",
    "ia1=(ia+(b*ib)+(a*ic));\n",
    "ia2=(ia+(a*ib)+(b*ic));\n",
    "ia0r=(ia0.real);\n",
    "ia0i=(ia0.imag);\n",
    "ia0m=sqrt((ia0r**2)+(ia0i**2));\n",
    "ia0a=atan(ia0i/ia0r);\n",
    "ia1r=(ia1.real);\n",
    "ia1i=(ia1.imag);\n",
    "ia1m=sqrt((ia1r**2)+(ia1i**2));\n",
    "ia1a=atan(ia1i/ia1r);\n",
    "ia2r=(ia2.real)+4;\n",
    "ia2i=(ia2.imag)-4;\n",
    "ia2m=sqrt((ia2r**2)+(ia2i**2));\n",
    "ia2a=atan(ia2i/ia2r);\n",
    "print\"the current levels are \\n ia=+j A \\tor\\t /_ A\",ia0r,ia0i,ia0m,ia0a\n",
    "print\"\\n ib=+j() A \\tor\\t /_ A\",ia1r,ia1i,ia1m,ia1a\n",
    "print\"\\n ic=+j() A \\tor\\t /_ A\",ia2r,ia2i,ia2m,ia2a\n"
   ]
  },
  {
   "cell_type": "markdown",
   "metadata": {},
   "source": [
    "## Example 21_4 pgno:443"
   ]
  },
  {
   "cell_type": "code",
   "execution_count": 22,
   "metadata": {
    "collapsed": false
   },
   "outputs": [
    {
     "name": "stdout",
     "output_type": "stream",
     "text": [
      "the symmetric components  are \n",
      " ia0=.+j. A \tor\t ./_. A 0.0 8.16431199432e-16 8.16431199432e-16 0.0\n",
      "\n",
      " ia1=.+j. A \tor\t ./_. A 10.0 -5.7735026919 11.5470053838 -0.523598775598\n",
      "\n",
      " ia2=.+j(.) A \tor\t ./_. A 10.0 5.7735026919 11.5470053838 0.523598775598\n",
      "\n",
      " \n",
      " ib0=.A  8.16431199432e-16j\n",
      "\n",
      " ib1=.+j. A \tor\t ./_. A -10.0 -5.7735026919 11.5470053838 0.523598775598\n",
      "\n",
      " ib2=.+j(.) A \tor\t ./_. A -10.0 5.7735026919 11.5470053838 -0.523598775598\n",
      "\n",
      " \n",
      " ic0=. A 8.16431199432e-16j\n",
      "\n",
      " ic1=.+j. A \tor\t ./_. A 4.4408920985e-15 11.5470053838 11.5470053838 1.57079632679\n",
      "\n",
      " ic2=.+j(.) A \tor\t ./_. A -7.9936057773e-15 -11.5470053838 11.5470053838 1.57079632679\n"
     ]
    }
   ],
   "source": [
    "from math import cos,sin,pi,sqrt,atan\n",
    "ia=20;\n",
    "ib=20*complex(cos(pi),sin(pi))\n",
    "ic=0;\n",
    "a=1*complex(cos(120*pi/180),sin(120*pi/180));\n",
    "b=a**2;\n",
    "ia0=1./3.*(ia+ib+ic);\n",
    "ia1=1./3.*(ia+(a*ib)+(b*ic));\n",
    "ia2=1./3.*(ia+(b*ib)+(a*ic));\n",
    "ia0r=(ia0.real);\n",
    "ia0i=(ia0.imag);\n",
    "ia0m=sqrt((ia0r**2)+(ia0i**2));\n",
    "ia0a=0-atan(ia0r/ia0i);\n",
    "ia1r=(ia1.real);\n",
    "ia1i=(ia1.imag);\n",
    "ia1m=sqrt((ia1r**2)+(ia1i**2));\n",
    "ia1a=atan(ia1i/ia1r);\n",
    "ia2r=(ia2.real);\n",
    "ia2i=(ia2.imag);\n",
    "ia2m=sqrt((ia2r**2)+(ia2i**2));\n",
    "ia2a=atan(ia2i/ia2r);\n",
    "print\"the symmetric components  are \\n ia0=.+j. A \\tor\\t ./_. A\",ia0r,ia0i,ia0m,ia0a\n",
    "print\"\\n ia1=.+j. A \\tor\\t ./_. A\",ia1r,ia1i,ia1m,ia1a\n",
    "print\"\\n ia2=.+j(.) A \\tor\\t ./_. A\",ia2r,ia2i,ia2m,ia2a\n",
    "ib1=b*ia1;\n",
    "ib2=a*ia2;\n",
    "ic1=a*ia1;\n",
    "ic2=b*ia2;\n",
    "ib0=ia0;\n",
    "ic0=ia0;\n",
    "ib1r=(ib1.real);\n",
    "ib1i=(ib1.imag);\n",
    "ib1m=sqrt((ib1r**2)+(ib1i**2));\n",
    "ib1a=atan(ib1i/ib1r);\n",
    "ib2r=(ib2.real);\n",
    "ib2i=(ib2.imag);\n",
    "ib2m=sqrt((ib2r**2)+(ib2i**2));\n",
    "ib2a=atan(ib2i/ib2r);\n",
    "ic1r=(ic1.real);\n",
    "ic1i=(ic1.imag);\n",
    "ic1m=sqrt((ic1r**2)+(ic1i**2));\n",
    "ic1a=atan(ic1i/ic1r);\n",
    "ic2r=(ic2.real);\n",
    "ic2i=(ic2.imag);\n",
    "ic2m=sqrt((ic2r**2)+(ic2i**2));\n",
    "ic2a=atan(ic2i/ic2r);\n",
    "print\"\\n \\n ib0=.A \",ib0\n",
    "print\"\\n ib1=.+j. A \\tor\\t ./_. A\",ib1r,ib1i,ib1m,ib1a\n",
    "print\"\\n ib2=.+j(.) A \\tor\\t ./_. A\",ib2r,ib2i,ib2m,ib2a\n",
    "print\"\\n \\n ic0=. A\",ic0\n",
    "print\"\\n ic1=.+j. A \\tor\\t ./_. A\",ic1r,ic1i,ic1m,ic1a\n",
    "print\"\\n ic2=.+j(.) A \\tor\\t ./_. A\",ic2r,ic2i,ic2m,ic2a\n"
   ]
  },
  {
   "cell_type": "markdown",
   "metadata": {},
   "source": [
    "## Example 21_5 pgno:444"
   ]
  },
  {
   "cell_type": "code",
   "execution_count": 23,
   "metadata": {
    "collapsed": false
   },
   "outputs": [
    {
     "name": "stdout",
     "output_type": "stream",
     "text": [
      "the voltage levels are \n",
      " vab=.+j. V \tor\t ./_. V 1.752 -2.22044604925e-16 1.752 -1.26737788199e-16\n",
      "\n",
      " vbc=.+j(.) V \tor\t ./_. V 0.0 0.0 0.0 0\n",
      "\n",
      " vca=.+j(.) V \tor\t ./_. V -1.752 2.22044604925e-16 1.752 180.0\n"
     ]
    }
   ],
   "source": [
    "#given\n",
    "from math import pi,sin,cos,atan,pi,sqrt\n",
    "vb=complex(.584,(0));\n",
    "vc=complex(.584,(0));\n",
    "va=0;\n",
    "a=1*complex(cos(120*pi/180),sin(120*pi/180))\n",
    "b=a**2;\n",
    "#solution\n",
    "vae=(va+vb+vc);\n",
    "vbe=(va+(b*vb)+(a*vc));\n",
    "vce=(va+(a*vb)+(b*vc));\n",
    "va0=vae-vbe;\n",
    "va1=vbe-vce;\n",
    "va2=vce-vae;\n",
    "va0r=(va0.real);\n",
    "va0i=(va0.imag);\n",
    "va0m=sqrt((va0r**2)+(va0i**2));\n",
    "va0a=atan(va0i/va0r);\n",
    "va1r=(va1.real);\n",
    "va1i=(va1.imag);\n",
    "va1m=sqrt((va1r**2)+(va1i**2));\n",
    "va1a=0;\n",
    "va2r=(va2.real);\n",
    "va2i=(va2.imag);\n",
    "va2m=sqrt((va2r**2)+(va2i**2));\n",
    "va2a=atan(va2i/va2r)+180;\n",
    "print\"the voltage levels are \\n vab=.+j. V \\tor\\t ./_. V\",va0r,va0i,va0m,va0a\n",
    "print\"\\n vbc=.+j(.) V \\tor\\t ./_. V\",va1r,va1i,va1m,va1a\n",
    "print\"\\n vca=.+j(.) V \\tor\\t ./_. V\",va2r,va2i,va2m,va2a\n"
   ]
  },
  {
   "cell_type": "markdown",
   "metadata": {},
   "source": [
    "## Example 21_6 pgno:44"
   ]
  },
  {
   "cell_type": "code",
   "execution_count": 24,
   "metadata": {
    "collapsed": false
   },
   "outputs": [
    {
     "name": "stdout",
     "output_type": "stream",
     "text": [
      "the current levels are \n",
      " ia=+j() A \tor\t /_ A 0.0 -4.28571428571 4.29 0\n"
     ]
    }
   ],
   "source": [
    "#given\n",
    "e=1;\n",
    "x1=complex(0,.25);\n",
    "x2=complex(0,.35);\n",
    "x0=complex(0,.1);\n",
    "#solution\n",
    "from math import sqrt\n",
    "ia0=e/(x1+x2+x0);\n",
    "ia1=ia0;\n",
    "ia2=ia0;\n",
    "ia=ia0+ia1+ia2;\n",
    "iar=(ia.real);\n",
    "iai=(ia.imag);\n",
    "iam=round(sqrt((iar**2)+(iai**2))*100)/100;\n",
    "iaa=0;\n",
    "print\"the current levels are \\n ia=+j() A \\tor\\t /_ A\",iar,iai,iam,iaa\n"
   ]
  },
  {
   "cell_type": "markdown",
   "metadata": {},
   "source": [
    "## Example 21_7 pgno:444"
   ]
  },
  {
   "cell_type": "code",
   "execution_count": 25,
   "metadata": {
    "collapsed": false
   },
   "outputs": [
    {
     "name": "stdout",
     "output_type": "stream",
     "text": [
      "the current ia=A\tVa=V 0.711 4.4408920985e-16j\n"
     ]
    }
   ],
   "source": [
    "#given\n",
    "z1=complex(0,.25);\n",
    "z2=complex(0,.35)\n",
    "z0=complex(0,.1)\n",
    "ea=1;\n",
    "ia1=(z1+((z2)**-1+(z0)**-1)**-1)**-1*ea;\n",
    "va1=ea-(ia1*z1);\n",
    "va0=va1;\n",
    "va2=va0;\n",
    "ia0=-va0/z0;\n",
    "ia2=-va2/z2;\n",
    "ia=ia1+ia2+ia0;\n",
    "va=3*0.237;\n",
    "#va=round(va.imag*1000)/1e3;\n",
    "print\"the current ia=A\\tVa=V\",va,ia\n"
   ]
  },
  {
   "cell_type": "markdown",
   "metadata": {},
   "source": [
    "## Example 21_8 pgno:445"
   ]
  },
  {
   "cell_type": "code",
   "execution_count": 26,
   "metadata": {
    "collapsed": false
   },
   "outputs": [
    {
     "name": "stdout",
     "output_type": "stream",
     "text": [
      "the positive sequence current=pu 13.3333333333\n"
     ]
    }
   ],
   "source": [
    "r0=.1;\n",
    "v=1;\n",
    "r1=.05;\n",
    "r2=.05;\n",
    "r3=.2;\n",
    "r4=.2;\n",
    "r34=((r3)**-1+(r4)**-1)**-1;\n",
    "r234=r2+r34;\n",
    "r10=r1+r0;\n",
    "r=((r234)**-1+(r10)**-1)**-1;\n",
    "ip=v/r;\n",
    "print\"the positive sequence current=pu\",ip\n"
   ]
  },
  {
   "cell_type": "markdown",
   "metadata": {},
   "source": [
    "## Example 21_9 pgno:445"
   ]
  },
  {
   "cell_type": "code",
   "execution_count": 27,
   "metadata": {
    "collapsed": false
   },
   "outputs": [
    {
     "name": "stdout",
     "output_type": "stream",
     "text": [
      "the symmetric components  are \n",
      " ir0=`+j` A \tor\t `/_` A 27.2 2.23333333333 27.2915330786 1.48887225629\n",
      "\n",
      " ir1=`+j` A \tor\t `/_` A 42.199633328 39.760465736 57.9802008324 0.755646517262\n",
      "\n",
      " ir2=`+j(`) A \tor\t `/_` A\n",
      " neutral current in = `A 17.200366672 8.00620093062 18.9723975025 0.435641476889 (81.6+6.7j)\n"
     ]
    }
   ],
   "source": [
    "ia=complex(86.6,(50));\n",
    "ib=complex(25,-(43.3));\n",
    "ic=-30;\n",
    "from math import cos,sin,pi,sqrt,atan\n",
    "a=1*complex(cos(120*pi/180),sin(120*pi/180));\n",
    "b=a**2;\n",
    "ia0=1./3.*(ia+ib+ic);\n",
    "ia1=1./3.*(ia+(a*ib)+(b*ic));\n",
    "ia2=1./3.*(ia+(b*ib)+(a*ic));\n",
    "ia0r=(ia0.real);\n",
    "ia0i=(ia0.imag);\n",
    "ia0m=sqrt((ia0r**2)+(ia0i**2));\n",
    "ia0a=atan(ia0r/ia0i);\n",
    "ia1r=(ia1.real);\n",
    "ia1i=(ia1.imag);\n",
    "ia1m=sqrt((ia1r**2)+(ia1i**2));\n",
    "ia1a=atan(ia1i/ia1r);\n",
    "ia2r=(ia2.real);\n",
    "ia2i=(ia2.imag);\n",
    "ia2m=sqrt((ia2r**2)+(ia2i**2));\n",
    "ia2a=atan(ia2i/ia2r);\n",
    "iN=ia+ib+ic;\n",
    "print\"the symmetric components  are \\n ir0=`+j` A \\tor\\t `/_` A\",ia0r,ia0i,ia0m,ia0a\n",
    "print\"\\n ir1=`+j` A \\tor\\t `/_` A\",ia1r,ia1i,ia1m,ia1a\n",
    "print\"\\n ir2=`+j(`) A \\tor\\t `/_` A\\n neutral current in = `A\",ia2r,ia2i,ia2m,ia2a,iN\n"
   ]
  },
  {
   "cell_type": "markdown",
   "metadata": {},
   "source": [
    "## Example 21_10 pgno:446"
   ]
  },
  {
   "cell_type": "code",
   "execution_count": 30,
   "metadata": {
    "collapsed": false
   },
   "outputs": [
    {
     "name": "stdout",
     "output_type": "stream",
     "text": [
      "the zero sequence components are ia0=A \t ib0=A \t ic0= 3 3 3\n"
     ]
    }
   ],
   "source": [
    "iN=9;\n",
    "ia=iN/3;\n",
    "ib=ia;\n",
    "ic=ib;\n",
    "print\"the zero sequence components are ia0=A \\t ib0=A \\t ic0=\",ia,ib,ic\n"
   ]
  }
 ],
 "metadata": {
  "kernelspec": {
   "display_name": "Python 2",
   "language": "python",
   "name": "python2"
  },
  "language_info": {
   "codemirror_mode": {
    "name": "ipython",
    "version": 2
   },
   "file_extension": ".py",
   "mimetype": "text/x-python",
   "name": "python",
   "nbconvert_exporter": "python",
   "pygments_lexer": "ipython2",
   "version": "2.7.9"
  }
 },
 "nbformat": 4,
 "nbformat_minor": 0
}
