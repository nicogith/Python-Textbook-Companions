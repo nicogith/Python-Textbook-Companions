{
 "cells": [
  {
   "cell_type": "markdown",
   "metadata": {},
   "source": [
    "# 4: Defects in Crystals"
   ]
  },
  {
   "cell_type": "markdown",
   "metadata": {},
   "source": [
    "## Example number 1, Page number 4.14"
   ]
  },
  {
   "cell_type": "code",
   "execution_count": 36,
   "metadata": {
    "collapsed": false
   },
   "outputs": [
    {
     "name": "stdout",
     "output_type": "stream",
     "text": [
      "equilibrium concentration of vacancy at 300K is 7.577 *10**5\n",
      "equilibrium concentration of vacancy at 900K is 6.502 *10**19\n"
     ]
    }
   ],
   "source": [
    "#importing modules\n",
    "import math\n",
    "from __future__ import division\n",
    "\n",
    "#Variable declaration\n",
    "N=6.023*10**26;  #avagadro number\n",
    "T1=1/float('inf');     #temperature 0K(K)\n",
    "T2=300;\n",
    "T3=900;         #temperature(K)\n",
    "k=1.38*10**-23; #boltzmann constant \n",
    "deltaHv=120*10**3*10**3/N;    #enthalpy(J/vacancy)\n",
    "\n",
    "#Calculation\n",
    "#n1=N*math.exp(-deltaHv/(k*T1));    #equilibrium concentration of vacancy at 0K\n",
    "#value of n1 cant be calculated in python, as the denominator is 0 and it shows float division error\n",
    "n2=N*math.exp(-deltaHv/(k*T2));    #equilibrium concentration of vacancy at 300K \n",
    "n3=N*math.exp(-deltaHv/(k*T3));    #equilibrium concentration of vacancy at 900K \n",
    "\n",
    "#Result\n",
    "#print \"equilibrium concentration of vacancy at 0K is\",n1\n",
    "print \"equilibrium concentration of vacancy at 300K is\",round(n2/10**5,3),\"*10**5\"\n",
    "print \"equilibrium concentration of vacancy at 900K is\",round(n3/10**19,3),\"*10**19\""
   ]
  },
  {
   "cell_type": "markdown",
   "metadata": {},
   "source": [
    "## Example number 2, Page number 4.15"
   ]
  },
  {
   "cell_type": "code",
   "execution_count": 2,
   "metadata": {
    "collapsed": false
   },
   "outputs": [
    {
     "name": "stdout",
     "output_type": "stream",
     "text": [
      "fraction of vacancies at 1000 is 8.5 *10**-7\n"
     ]
    }
   ],
   "source": [
    "#importing modules\n",
    "import math\n",
    "from __future__ import division\n",
    "\n",
    "#Variable declaration\n",
    "nbyN1=1*10**-10;      #fraction of vacancies\n",
    "T1=500+273;\n",
    "T2=1000+273;\n",
    "\n",
    "#Calculation\n",
    "lnx=T1*math.log(nbyN1)/T2;\n",
    "x=math.exp(lnx);      #fraction of vacancies at 1000\n",
    "\n",
    "#Result\n",
    "print \"fraction of vacancies at 1000 is\",round(x*10**7,1),\"*10**-7\""
   ]
  },
  {
   "cell_type": "markdown",
   "metadata": {},
   "source": [
    "## Example number 3, Page number 4.16"
   ]
  },
  {
   "cell_type": "code",
   "execution_count": 5,
   "metadata": {
    "collapsed": false
   },
   "outputs": [
    {
     "name": "stdout",
     "output_type": "stream",
     "text": [
      "concentration of schottky defects is 6.42 *10**11 per m**3\n"
     ]
    }
   ],
   "source": [
    "#importing modules\n",
    "import math\n",
    "from __future__ import division\n",
    "\n",
    "#Variable declaration\n",
    "d=2.82*10**-10;    #interionic distance(m)\n",
    "T=300;             #temperature(K)\n",
    "k=1.38*10**-23;    #boltzmann constant \n",
    "e=1.6*10**-19;     #charge(coulomb)\n",
    "n=4;               #number of molecules\n",
    "deltaHs=1.971*e;   #enthalpy(J)\n",
    "\n",
    "#Calculation\n",
    "V=(2*d)**3;        #volume of unit cell(m**3)\n",
    "N=n/V;             #number of ion pairs\n",
    "x=deltaHs/(2*k*T);\n",
    "n=N*math.exp(-x);    #concentration of schottky defects(per m**3)\n",
    "\n",
    "#Result\n",
    "print \"concentration of schottky defects is\",round(n*10**-11,2),\"*10**11 per m**3\""
   ]
  },
  {
   "cell_type": "markdown",
   "metadata": {},
   "source": [
    "## Example number 4, Page number 4.17"
   ]
  },
  {
   "cell_type": "code",
   "execution_count": 16,
   "metadata": {
    "collapsed": false
   },
   "outputs": [
    {
     "name": "stdout",
     "output_type": "stream",
     "text": [
      "concentration of schottky defects is 9.23 *10**12 per cm**3\n",
      "amount of climb down by the dislocations is 0.1846 step or 0.3692 *10**-8 cm\n"
     ]
    }
   ],
   "source": [
    "#importing modules\n",
    "import math\n",
    "from __future__ import division\n",
    "\n",
    "#Variable declaration\n",
    "N=6.026*10**23;    #avagadro number \n",
    "T=500;             #temperature(K)\n",
    "k=1.38*10**-23;    #boltzmann constant \n",
    "deltaHv=1.6*10**-19;     #charge(coulomb)\n",
    "V=5.55;            #molar volume(cm**3)\n",
    "nv=5*10**7*10**6;  #number of vacancies\n",
    "\n",
    "#Calculation\n",
    "n=N*math.exp(-deltaHv/(k*T))/V;    #concentration of schottky defects(per m**3)\n",
    "x=round(n/nv,4);            #amount of climb down by the dislocations(step)\n",
    "xcm=2*x*10**-8;             #amount of climb down by the dislocations(cm)\n",
    "\n",
    "#Result\n",
    "print \"concentration of schottky defects is\",round(n/10**12,2),\"*10**12 per cm**3\"\n",
    "print \"amount of climb down by the dislocations is\",x,\"step or\",xcm*10**8,\"*10**-8 cm\" "
   ]
  }
 ],
 "metadata": {
  "kernelspec": {
   "display_name": "Python 2",
   "language": "python",
   "name": "python2"
  },
  "language_info": {
   "codemirror_mode": {
    "name": "ipython",
    "version": 2
   },
   "file_extension": ".py",
   "mimetype": "text/x-python",
   "name": "python",
   "nbconvert_exporter": "python",
   "pygments_lexer": "ipython2",
   "version": "2.7.11"
  }
 },
 "nbformat": 4,
 "nbformat_minor": 0
}
