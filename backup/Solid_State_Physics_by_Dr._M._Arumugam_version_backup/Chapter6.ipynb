{
 "cells": [
  {
   "cell_type": "markdown",
   "metadata": {},
   "source": [
    "# 6: Principles of Quantum Mechanics"
   ]
  },
  {
   "cell_type": "markdown",
   "metadata": {},
   "source": [
    "## Example number 1, Page number 6.22"
   ]
  },
  {
   "cell_type": "code",
   "execution_count": 2,
   "metadata": {
    "collapsed": false
   },
   "outputs": [
    {
     "name": "stdout",
     "output_type": "stream",
     "text": [
      "deBroglie wavelength is 0.66 angstrom\n",
      "spacing between planes is 0.35 angstrom\n"
     ]
    }
   ],
   "source": [
    "#importing modules\n",
    "import math\n",
    "from __future__ import division\n",
    "\n",
    "#Variable declaration\n",
    "V=344;         #voltage(V)\n",
    "theta=40;      #angle(degrees)\n",
    "n=1; \n",
    "\n",
    "#Calculation\n",
    "lamda=12.26/math.sqrt(V);    #deBroglie wavelength(angstrom)\n",
    "theta=((180-theta)/2)*math.pi/180;    #angle(radian)\n",
    "d=n*lamda/(2*math.sin(theta));        #spacing between planes(angstrom)\n",
    "\n",
    "#Result\n",
    "print \"deBroglie wavelength is\",round(lamda,2),\"angstrom\"\n",
    "print \"spacing between planes is\",round(d,2),\"angstrom\""
   ]
  },
  {
   "cell_type": "markdown",
   "metadata": {},
   "source": [
    "## Example number 2, Page number 6.22"
   ]
  },
  {
   "cell_type": "code",
   "execution_count": 6,
   "metadata": {
    "collapsed": false
   },
   "outputs": [
    {
     "name": "stdout",
     "output_type": "stream",
     "text": [
      "deBroglie wavelength is 0.00286 angstrom\n"
     ]
    }
   ],
   "source": [
    "#importing modules\n",
    "import math\n",
    "from __future__ import division\n",
    "\n",
    "#Variable declaration\n",
    "e=1.6*10**-19;       #charge(coulomb)\n",
    "m=1.675*10**-27;     #mass(kg)\n",
    "E=10*10**3*e;        #kinetic energy(J)\n",
    "h=6.625*10**-34;     #planks constant(Js)\n",
    "\n",
    "#Calculation\n",
    "v=math.sqrt(2*E/m);    #velocity(m/sec)\n",
    "lamda=h*10**10/(m*v);  #deBroglie wavelength(angstrom)\n",
    "\n",
    "#Result\n",
    "print \"deBroglie wavelength is\",round(lamda,5),\"angstrom\""
   ]
  },
  {
   "cell_type": "markdown",
   "metadata": {},
   "source": [
    "## Example number 3, Page number 6.22"
   ]
  },
  {
   "cell_type": "code",
   "execution_count": 8,
   "metadata": {
    "collapsed": false
   },
   "outputs": [
    {
     "name": "stdout",
     "output_type": "stream",
     "text": [
      "energy difference is 1.81 *10**-37 J\n"
     ]
    }
   ],
   "source": [
    "#importing modules\n",
    "import math\n",
    "from __future__ import division\n",
    "\n",
    "#Variable declaration\n",
    "m=9.1*10**-31;     #mass(kg)\n",
    "h=6.63*10**-34;    #planks constant(Js)\n",
    "a=1;               #length(m)\n",
    "nx1=1;\n",
    "ny1=1;\n",
    "nz1=1;\n",
    "nx2=1;\n",
    "ny2=1;\n",
    "nz2=2;\n",
    "\n",
    "#Calculation\n",
    "E1=h**2*(nx1**2+ny1**2+nz1**2)/(8*m*a**2);     #energy of 1st quantum state(J)\n",
    "E2=h**2*(nx2**2+ny2**2+nz2**2)/(8*m*a**2);     #energy of 2nd quantum state(J)\n",
    "E=E2-E1;          #energy difference(J)\n",
    "\n",
    "#Result\n",
    "print \"energy difference is\",round(E*10**37,2),\"*10**-37 J\""
   ]
  },
  {
   "cell_type": "markdown",
   "metadata": {},
   "source": [
    "## Example number 4, Page number 6.23"
   ]
  },
  {
   "cell_type": "code",
   "execution_count": 12,
   "metadata": {
    "collapsed": false
   },
   "outputs": [
    {
     "name": "stdout",
     "output_type": "stream",
     "text": [
      "uncertainity in position of electron is 0.002 m\n",
      "uncertainity in position of bullet is 0.4 *10**-31 m\n"
     ]
    }
   ],
   "source": [
    "#importing modules\n",
    "import math\n",
    "from __future__ import division\n",
    "\n",
    "#Variable declaration\n",
    "m1=9.1*10**-31;     #mass(kg)\n",
    "m2=0.05;            #mass(kg)\n",
    "v=300;              #velocity(m/sec)\n",
    "p=0.01/100;         #probability\n",
    "h=6.6*10**-34;      #planks constant(Js)\n",
    "\n",
    "#Calculation\n",
    "p1=m1*v;            #momentum of electron(kg m/s)\n",
    "deltap1=p*p1;      \n",
    "deltax1=h/(deltap1*4*math.pi);   #uncertainity in position of electron(m)\n",
    "p2=m2*v;            #momentum of bullet(kg m/s)\n",
    "deltap2=p*p2;      \n",
    "deltax2=h/(deltap2*4*math.pi);   #uncertainity in position of bullet(m)\n",
    "\n",
    "#Result\n",
    "print \"uncertainity in position of electron is\",round(deltax1,3),\"m\"\n",
    "print \"uncertainity in position of bullet is\",round(deltax2*10**31,1),\"*10**-31 m\""
   ]
  },
  {
   "cell_type": "markdown",
   "metadata": {},
   "source": [
    "## Example number 5, Page number 6.24"
   ]
  },
  {
   "cell_type": "code",
   "execution_count": 13,
   "metadata": {
    "collapsed": false
   },
   "outputs": [
    {
     "name": "stdout",
     "output_type": "stream",
     "text": [
      "probability of finding the particle is 0.2\n"
     ]
    }
   ],
   "source": [
    "#importing modules\n",
    "import math\n",
    "from __future__ import division\n",
    "\n",
    "#Variable declaration\n",
    "deltax=10**-10;     #uncertainity in position(m)\n",
    "L=10*10**-10;       #width(m)\n",
    "\n",
    "#Calculation\n",
    "p=2*deltax/L;       #probability of finding the particle\n",
    "\n",
    "#Result\n",
    "print \"probability of finding the particle is\",p"
   ]
  },
  {
   "cell_type": "markdown",
   "metadata": {},
   "source": [
    "## Example number 6, Page number 6.24"
   ]
  },
  {
   "cell_type": "code",
   "execution_count": 15,
   "metadata": {
    "collapsed": false
   },
   "outputs": [
    {
     "name": "stdout",
     "output_type": "stream",
     "text": [
      "deBroglie wavelength is 2.73 *10**-11 m\n"
     ]
    }
   ],
   "source": [
    "#importing modules\n",
    "import math\n",
    "from __future__ import division\n",
    "\n",
    "#Variable declaration\n",
    "e=1.6*10**-19;       #charge(coulomb)\n",
    "m=9.1*10**-31;       #mass(kg)\n",
    "E=2*10**3*e;         #kinetic energy(J)\n",
    "h=6.6*10**-34;       #planks constant(Js)\n",
    "\n",
    "#Calculation\n",
    "p=math.sqrt(2*E*m);    #momentum(kg m/s)\n",
    "lamda=h/p;             #deBroglie wavelength(m)\n",
    "\n",
    "#Result\n",
    "print \"deBroglie wavelength is\",round(lamda*10**11,2),\"*10**-11 m\""
   ]
  },
  {
   "cell_type": "markdown",
   "metadata": {},
   "source": [
    "## Example number 7, Page number 6.24"
   ]
  },
  {
   "cell_type": "code",
   "execution_count": 21,
   "metadata": {
    "collapsed": false
   },
   "outputs": [
    {
     "name": "stdout",
     "output_type": "stream",
     "text": [
      "deBroglie wavelength is 1.807 angstrom\n"
     ]
    }
   ],
   "source": [
    "#importing modules\n",
    "import math\n",
    "from __future__ import division\n",
    "\n",
    "#Variable declaration\n",
    "e=1.602*10**-19;       #charge(coulomb)\n",
    "m=1.676*10**-27;       #mass(kg)\n",
    "h=6.62*10**-34;        #planks constant(Js)\n",
    "E=0.025*e;             #kinetic energy(J)\n",
    "\n",
    "#Calculation\n",
    "mv=math.sqrt(2*E*m);    #velocity(m/s)\n",
    "lamda=h*10**10/mv;      #deBroglie wavelength(angstrom)\n",
    "\n",
    "#Result\n",
    "print \"deBroglie wavelength is\",round(lamda,3),\"angstrom\""
   ]
  }
 ],
 "metadata": {
  "kernelspec": {
   "display_name": "Python 2",
   "language": "python",
   "name": "python2"
  },
  "language_info": {
   "codemirror_mode": {
    "name": "ipython",
    "version": 2
   },
   "file_extension": ".py",
   "mimetype": "text/x-python",
   "name": "python",
   "nbconvert_exporter": "python",
   "pygments_lexer": "ipython2",
   "version": "2.7.11"
  }
 },
 "nbformat": 4,
 "nbformat_minor": 0
}
