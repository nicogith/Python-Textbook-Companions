{
 "cells": [
  {
   "cell_type": "markdown",
   "metadata": {},
   "source": [
    "# 14: Acoustics of Buildings and Acoustic Quieting"
   ]
  },
  {
   "cell_type": "markdown",
   "metadata": {},
   "source": [
    "## Example number 1, Page number 14.18"
   ]
  },
  {
   "cell_type": "code",
   "execution_count": 4,
   "metadata": {
    "collapsed": false
   },
   "outputs": [
    {
     "name": "stdout",
     "output_type": "stream",
     "text": [
      "reverbration time is 3.9 s\n",
      "reverbration time when audience fill the hall is 1.95 s\n",
      "reverbration time is reduced to one-half\n"
     ]
    }
   ],
   "source": [
    "#importing modules\n",
    "import math\n",
    "from __future__ import division\n",
    "\n",
    "#Variable declaration\n",
    "V=2265;      #volume(m**3)\n",
    "a=92.9;      #absorption(m**2)\n",
    "\n",
    "#Calculation\n",
    "T=0.16*V/a;    #reverbration time(s)\n",
    "T2=T/2;        #reverbration time when audience fill the hall(s)\n",
    "\n",
    "#Result\n",
    "print \"reverbration time is\",round(T,1),\"s\"\n",
    "print \"reverbration time when audience fill the hall is\",round(T2,2),\"s\"\n",
    "print \"reverbration time is reduced to one-half\""
   ]
  },
  {
   "cell_type": "markdown",
   "metadata": {},
   "source": [
    "## Example number 2, Page number 14.18"
   ]
  },
  {
   "cell_type": "code",
   "execution_count": 7,
   "metadata": {
    "collapsed": false
   },
   "outputs": [
    {
     "name": "stdout",
     "output_type": "stream",
     "text": [
      "reverbration time is 0.8 second\n",
      "reverbration time when hall is empty is 1.6 second\n"
     ]
    }
   ],
   "source": [
    "#importing modules\n",
    "import math\n",
    "from __future__ import division\n",
    "\n",
    "#Variable declaration\n",
    "V=12*30*6;    #volume(m**3)\n",
    "A1=450;       #area of plastered wall(m**2)\n",
    "a1=0.03;      #coefficient of absorption(m**2)\n",
    "A2=360;       #area of wooden floor(m**2)\n",
    "a2=0.06;      #coefficient of absorption(m**2)\n",
    "A3=24;        #area of glass(m**2)\n",
    "a3=0.25;      #coefficient of absorption(m**2)\n",
    "A4=600;       #area of seats(m**2)\n",
    "a4=0.3;       #coefficient of absorption(m**2)\n",
    "A5=500;       #area of hall with audience(m**2)\n",
    "a5=0.43;      #coefficient of absorption(m**2)\n",
    "\n",
    "#Calculation\n",
    "A=(A1*a1)+(A2*a2)+(A3*a3)+(A4*a4)+(A5*a5);    #total absorption(m**2)\n",
    "Ae=A-(A5*a5);                                 #absorption when hall is empty(m**2) \n",
    "T=0.16*V/A;   #reverbration time(second)\n",
    "Te=0.16*V/Ae; #reverbration time when hall is empty(second)\n",
    "\n",
    "#Result\n",
    "print \"reverbration time is\",round(T,1),\"second\"\n",
    "print \"reverbration time when hall is empty is\",round(Te,1),\"second\""
   ]
  },
  {
   "cell_type": "markdown",
   "metadata": {},
   "source": [
    "## Example number 3, Page number 14.19"
   ]
  },
  {
   "cell_type": "code",
   "execution_count": 11,
   "metadata": {
    "collapsed": false
   },
   "outputs": [
    {
     "name": "stdout",
     "output_type": "stream",
     "text": [
      "total absorption is 1000 m**2 or OWU\n"
     ]
    }
   ],
   "source": [
    "#importing modules\n",
    "import math\n",
    "from __future__ import division\n",
    "\n",
    "#Variable declaration\n",
    "V=7500;    #volume(m**3)\n",
    "T=1.2;     #reverbration time(second)\n",
    "\n",
    "#Calculation\n",
    "A=0.16*V/T;     #total absorption(OWU)\n",
    "\n",
    "#Result\n",
    "print \"total absorption is\",int(A),\"m**2 or OWU\""
   ]
  },
  {
   "cell_type": "markdown",
   "metadata": {},
   "source": [
    "## Example number 4, Page number 14.19"
   ]
  },
  {
   "cell_type": "code",
   "execution_count": 29,
   "metadata": {
    "collapsed": false
   },
   "outputs": [
    {
     "name": "stdout",
     "output_type": "stream",
     "text": [
      "change in reverbration time is 0.727 second\n"
     ]
    }
   ],
   "source": [
    "#importing modules\n",
    "import math\n",
    "from __future__ import division\n",
    "\n",
    "#Variable declaration\n",
    "V=12*10**4;      #volume(m**3)\n",
    "a=13200;         #absorption(m**2)\n",
    "\n",
    "#Calculation\n",
    "T1=0.16*V/a;    #reverbration time(s)\n",
    "T2=T1/2;         #reverbration time when audience fill the hall(s)\n",
    "T=T1-T2;        #change in reverbration time(second)\n",
    "\n",
    "#Result\n",
    "print \"change in reverbration time is\",round(T,3),\"second\""
   ]
  }
 ],
 "metadata": {
  "kernelspec": {
   "display_name": "Python 2",
   "language": "python",
   "name": "python2"
  },
  "language_info": {
   "codemirror_mode": {
    "name": "ipython",
    "version": 2
   },
   "file_extension": ".py",
   "mimetype": "text/x-python",
   "name": "python",
   "nbconvert_exporter": "python",
   "pygments_lexer": "ipython2",
   "version": "2.7.11"
  }
 },
 "nbformat": 4,
 "nbformat_minor": 0
}
