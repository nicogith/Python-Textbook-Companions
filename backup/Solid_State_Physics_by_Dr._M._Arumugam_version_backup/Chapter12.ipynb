{
 "cells": [
  {
   "cell_type": "markdown",
   "metadata": {},
   "source": [
    "# 12: Lasers"
   ]
  },
  {
   "cell_type": "markdown",
   "metadata": {},
   "source": [
    "## Example number 1, Page number 12.30"
   ]
  },
  {
   "cell_type": "code",
   "execution_count": 5,
   "metadata": {
    "collapsed": false
   },
   "outputs": [
    {
     "name": "stdout",
     "output_type": "stream",
     "text": [
      "relative population in laser transition levels is 1.081 *10**30\n",
      "answer given in the book is wrong\n"
     ]
    }
   ],
   "source": [
    "#importing modules\n",
    "import math\n",
    "from __future__ import division\n",
    "\n",
    "#Variable declaration\n",
    "h=6.626*10**-34;       #plancks constant(J s)\n",
    "c=3*10**8;             #velocity of light(m/s)\n",
    "lamda=6943*10**-10;    #wavelength of emission(m)\n",
    "k=1.38*10**-23;        #boltzmann constant\n",
    "T=300;                 #temperature(K)\n",
    "\n",
    "#Calculation\n",
    "new=c/lamda;           #frequency(Hz)\n",
    "x=h*new/(k*T);\n",
    "N1byN2=math.exp(x);    #relative population in laser transition levels\n",
    "\n",
    "#Result\n",
    "print \"relative population in laser transition levels is\",round(N1byN2/10**30,3),\"*10**30\"\n",
    "print \"answer given in the book is wrong\""
   ]
  },
  {
   "cell_type": "markdown",
   "metadata": {},
   "source": [
    "## Example number 2, Page number 12.31"
   ]
  },
  {
   "cell_type": "code",
   "execution_count": 10,
   "metadata": {
    "collapsed": false
   },
   "outputs": [
    {
     "name": "stdout",
     "output_type": "stream",
     "text": [
      "number of photons emitted is 7.323 *10**15 photons/second\n",
      "power density is 2.3 kW/m**2\n"
     ]
    }
   ],
   "source": [
    "#importing modules\n",
    "import math\n",
    "from __future__ import division\n",
    "\n",
    "#Variable declaration\n",
    "h=6.626*10**-34;       #plancks constant(J s)\n",
    "P=2.3*10**-3;          #output power(W)\n",
    "t=1;                   #time(sec)\n",
    "new=4.74*10**14;       #frequency(Hz)\n",
    "s=1*10**-6;            #spot area(m**2)\n",
    "\n",
    "#Calculation\n",
    "n=P*t/(h*new);         #number of photons emitted in each second \n",
    "Pd=P/s;                #power density(W/m**2)\n",
    "\n",
    "#Result\n",
    "print \"number of photons emitted is\",round(n/10**15,3),\"*10**15 photons/second\"\n",
    "print \"power density is\",Pd/10**3,\"kW/m**2\""
   ]
  },
  {
   "cell_type": "markdown",
   "metadata": {},
   "source": [
    "## Example number 3, Page number 12.31"
   ]
  },
  {
   "cell_type": "code",
   "execution_count": 2,
   "metadata": {
    "collapsed": false
   },
   "outputs": [
    {
     "name": "stdout",
     "output_type": "stream",
     "text": [
      "wavelength of emission is 8628 angstrom\n"
     ]
    }
   ],
   "source": [
    "#importing modules\n",
    "import math\n",
    "from __future__ import division\n",
    "\n",
    "#Variable declaration\n",
    "h=6.626*10**-34;       #plancks constant(J s)\n",
    "c=3*10**8;     #velocity of light(m/s)\n",
    "Eg=1.44*1.6*10**-19;    #band gap(J)\n",
    "\n",
    "#Calculation\n",
    "lamda=h*c/Eg;      #wavelength of emission(m)\n",
    "\n",
    "#Result\n",
    "print \"wavelength of emission is\",int(round(lamda*10**10)),\"angstrom\""
   ]
  }
 ],
 "metadata": {
  "kernelspec": {
   "display_name": "Python 2",
   "language": "python",
   "name": "python2"
  },
  "language_info": {
   "codemirror_mode": {
    "name": "ipython",
    "version": 2
   },
   "file_extension": ".py",
   "mimetype": "text/x-python",
   "name": "python",
   "nbconvert_exporter": "python",
   "pygments_lexer": "ipython2",
   "version": "2.7.11"
  }
 },
 "nbformat": 4,
 "nbformat_minor": 0
}
