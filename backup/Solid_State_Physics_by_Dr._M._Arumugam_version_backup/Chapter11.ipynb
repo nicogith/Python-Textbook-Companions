{
 "cells": [
  {
   "cell_type": "markdown",
   "metadata": {},
   "source": [
    "# 11: Magnetic Properties"
   ]
  },
  {
   "cell_type": "markdown",
   "metadata": {},
   "source": [
    "## Example number 1, Page number 11.31"
   ]
  },
  {
   "cell_type": "code",
   "execution_count": 1,
   "metadata": {
    "collapsed": false
   },
   "outputs": [
    {
     "name": "stdout",
     "output_type": "stream",
     "text": [
      "temperature rise is 8.43 K\n"
     ]
    }
   ],
   "source": [
    "#importing modules\n",
    "import math\n",
    "from __future__ import division\n",
    "\n",
    "#Variable declaration\n",
    "El=10**-2*50;       #energy loss(J)\n",
    "H=El*60;      #heat produced(J)\n",
    "d=7.7*10**3;    #iron rod(kg/m**3)\n",
    "s=0.462*10**-3;    #specific heat(J/kg K)\n",
    "\n",
    "#Calculation\n",
    "theta=H/(d*s);     #temperature rise(K)\n",
    "\n",
    "#Result\n",
    "print \"temperature rise is\",round(theta,2),\"K\""
   ]
  },
  {
   "cell_type": "markdown",
   "metadata": {},
   "source": [
    "## Example number 2, Page number 11.31"
   ]
  },
  {
   "cell_type": "code",
   "execution_count": 4,
   "metadata": {
    "collapsed": false
   },
   "outputs": [
    {
     "name": "stdout",
     "output_type": "stream",
     "text": [
      "magnetic field at the centre is 14 weber/m**2\n",
      "dipole moment is 9 *10**-24 ampere/m**2\n"
     ]
    }
   ],
   "source": [
    "#importing modules\n",
    "import math\n",
    "from __future__ import division\n",
    "\n",
    "#Variable declaration\n",
    "e=1.6*10**-19;    #charge(coulomb)\n",
    "new=6.8*10**15;   #frequency(revolutions per second)\n",
    "mew0=4*math.pi*10**-7;\n",
    "R=5.1*10**-11;     #radius(m)\n",
    "\n",
    "#Calculation\n",
    "i=round(e*new,4);          #current(ampere)\n",
    "B=mew0*i/(2*R);    #magnetic field at the centre(weber/m**2)\n",
    "A=math.pi*R**2;\n",
    "d=i*A;       #dipole moment(ampere/m**2)\n",
    "\n",
    "#Result\n",
    "print \"magnetic field at the centre is\",int(round(B)),\"weber/m**2\"\n",
    "print \"dipole moment is\",int(round(d*10**24)),\"*10**-24 ampere/m**2\""
   ]
  },
  {
   "cell_type": "markdown",
   "metadata": {},
   "source": [
    "## Example number 3, Page number 11.31"
   ]
  },
  {
   "cell_type": "code",
   "execution_count": 6,
   "metadata": {
    "collapsed": false
   },
   "outputs": [
    {
     "name": "stdout",
     "output_type": "stream",
     "text": [
      "intensity of magnetisation is 5 ampere/m\n",
      "flux density in material is 1.257 weber/m**2\n"
     ]
    }
   ],
   "source": [
    "#importing modules\n",
    "import math\n",
    "from __future__ import division\n",
    "\n",
    "#Variable declaration\n",
    "chi=0.5*10**-5;    #magnetic susceptibility\n",
    "H=10**6;     #field strength(ampere/m)\n",
    "mew0=4*math.pi*10**-7;\n",
    "\n",
    "#Calculation\n",
    "I=chi*H;     #intensity of magnetisation(ampere/m)\n",
    "B=mew0*(I+H);    #flux density in material(weber/m**2)\n",
    "\n",
    "#Result\n",
    "print \"intensity of magnetisation is\",int(I),\"ampere/m\"\n",
    "print \"flux density in material is\",round(B,3),\"weber/m**2\""
   ]
  },
  {
   "cell_type": "markdown",
   "metadata": {},
   "source": [
    "## Example number 4, Page number 11.31"
   ]
  },
  {
   "cell_type": "code",
   "execution_count": 7,
   "metadata": {
    "collapsed": false
   },
   "outputs": [
    {
     "name": "stdout",
     "output_type": "stream",
     "text": [
      "number of Bohr magnetons is 2.22 bohr magneon/atom\n"
     ]
    }
   ],
   "source": [
    "#importing modules\n",
    "import math\n",
    "from __future__ import division\n",
    "\n",
    "#Variable declaration\n",
    "B=9.27*10**-24;      #bohr magneton(ampere m**2)\n",
    "a=2.86*10**-10;      #edge(m)\n",
    "Is=1.76*10**6;       #saturation value of magnetisation(ampere/m)\n",
    "\n",
    "#Calculation\n",
    "N=2/a**3;\n",
    "mew_bar=Is/N;      #number of Bohr magnetons(ampere m**2)\n",
    "mew_bar=mew_bar/B;      #number of Bohr magnetons(bohr magneon/atom)\n",
    "\n",
    "#Result\n",
    "print \"number of Bohr magnetons is\",round(mew_bar,2),\"bohr magneon/atom\""
   ]
  },
  {
   "cell_type": "markdown",
   "metadata": {},
   "source": [
    "## Example number 5, Page number 11.32"
   ]
  },
  {
   "cell_type": "code",
   "execution_count": 8,
   "metadata": {
    "collapsed": false
   },
   "outputs": [
    {
     "name": "stdout",
     "output_type": "stream",
     "text": [
      "average magnetic moment is 2.79 *10**-3 bohr magneton/spin\n"
     ]
    }
   ],
   "source": [
    "#importing modules\n",
    "import math\n",
    "from __future__ import division\n",
    "\n",
    "#Variable declaration\n",
    "mew0=4*math.pi*10**-7;\n",
    "H=9.27*10**-24;      #bohr magneton(ampere m**2)\n",
    "beta=10**6;      #field(ampere/m)\n",
    "k=1.38*10**-23;    #boltzmann constant\n",
    "T=303;    #temperature(K)\n",
    "\n",
    "#Calculation\n",
    "mm=mew0*H*beta/(k*T);    #average magnetic moment(bohr magneton/spin)\n",
    "\n",
    "#Result\n",
    "print \"average magnetic moment is\",round(mm*10**3,2),\"*10**-3 bohr magneton/spin\""
   ]
  },
  {
   "cell_type": "markdown",
   "metadata": {},
   "source": [
    "## Example number 6, Page number 11.32"
   ]
  },
  {
   "cell_type": "code",
   "execution_count": 11,
   "metadata": {
    "collapsed": false
   },
   "outputs": [
    {
     "name": "stdout",
     "output_type": "stream",
     "text": [
      "hysteresis loss per cycle is 188 J/m**3\n",
      "hysteresis loss per second is 9400 watt/m**3\n",
      "power loss is 1.23 watt/kg\n"
     ]
    }
   ],
   "source": [
    "#importing modules\n",
    "import math\n",
    "from __future__ import division\n",
    "\n",
    "#Variable declaration\n",
    "A=94;      #area(m**2)\n",
    "vy=0.1;    #value of length(weber/m**2)\n",
    "vx=20;     #value of unit length\n",
    "n=50;      #number of magnetization cycles\n",
    "d=7650;    #density(kg/m**3)\n",
    "\n",
    "#Calculation\n",
    "h=A*vy*vx;     #hysteresis loss per cycle(J/m**3)\n",
    "hs=h*n;       #hysteresis loss per second(watt/m**3)\n",
    "pl=hs/d;      #power loss(watt/kg)\n",
    "\n",
    "#Result\n",
    "print \"hysteresis loss per cycle is\",int(h),\"J/m**3\"\n",
    "print \"hysteresis loss per second is\",int(hs),\"watt/m**3\"\n",
    "print \"power loss is\",round(pl,2),\"watt/kg\""
   ]
  },
  {
   "cell_type": "markdown",
   "metadata": {},
   "source": [
    "## Example number 8, Page number 11.33"
   ]
  },
  {
   "cell_type": "code",
   "execution_count": 13,
   "metadata": {
    "collapsed": false
   },
   "outputs": [
    {
     "name": "stdout",
     "output_type": "stream",
     "text": [
      "critical field is 33.64 *10**3 ampere/m\n"
     ]
    }
   ],
   "source": [
    "#importing modules\n",
    "import math\n",
    "from __future__ import division\n",
    "\n",
    "#Variable declaration\n",
    "H0=64*10**3;         #initial field(ampere/m)\n",
    "T=5;                 #temperature(K)\n",
    "Tc=7.26;             #critical temperature(K)\n",
    "\n",
    "#Calculation\n",
    "H=H0*(1-(T/Tc)**2);      #critical field(ampere/m)\n",
    "\n",
    "#Result\n",
    "print \"critical field is\",round(H/10**3,2),\"*10**3 ampere/m\""
   ]
  }
 ],
 "metadata": {
  "kernelspec": {
   "display_name": "Python 2",
   "language": "python",
   "name": "python2"
  },
  "language_info": {
   "codemirror_mode": {
    "name": "ipython",
    "version": 2
   },
   "file_extension": ".py",
   "mimetype": "text/x-python",
   "name": "python",
   "nbconvert_exporter": "python",
   "pygments_lexer": "ipython2",
   "version": "2.7.11"
  }
 },
 "nbformat": 4,
 "nbformat_minor": 0
}
