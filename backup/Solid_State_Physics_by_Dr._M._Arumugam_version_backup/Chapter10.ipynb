{
 "cells": [
  {
   "cell_type": "markdown",
   "metadata": {},
   "source": [
    "# 10: Dielectric Properties"
   ]
  },
  {
   "cell_type": "markdown",
   "metadata": {},
   "source": [
    "## Example number 1, Page number 10.26"
   ]
  },
  {
   "cell_type": "code",
   "execution_count": 2,
   "metadata": {
    "collapsed": false
   },
   "outputs": [
    {
     "name": "stdout",
     "output_type": "stream",
     "text": [
      "insulation resistance is 0.85 *10**18 ohm\n",
      "answer varies due to rounding off errors\n"
     ]
    }
   ],
   "source": [
    "#importing modules\n",
    "import math\n",
    "from __future__ import division\n",
    "\n",
    "#Variable declaration\n",
    "rho=5*10**16;   #resistivity(ohm m)\n",
    "l=5*10**-2;    #thickness(m)\n",
    "b=8*10**-2;    #length(m)\n",
    "w=3*10**-2;    #width(m)\n",
    "\n",
    "#Calculation\n",
    "A=b*w;    #area(m**2)\n",
    "Rv=rho*l/A;    \n",
    "X=l+b;      #length(m)\n",
    "Y=w;      #perpendicular(m)\n",
    "Rs=Rv*X/Y;    \n",
    "Ri=Rs*Rv/(Rs+Rv);       #insulation resistance(ohm)\n",
    "\n",
    "#Result\n",
    "print \"insulation resistance is\",round(Ri/10**18,2),\"*10**18 ohm\"\n",
    "print \"answer varies due to rounding off errors\""
   ]
  },
  {
   "cell_type": "markdown",
   "metadata": {},
   "source": [
    "## Example number 2, Page number 10.26"
   ]
  },
  {
   "cell_type": "code",
   "execution_count": 4,
   "metadata": {
    "collapsed": false
   },
   "outputs": [
    {
     "name": "stdout",
     "output_type": "stream",
     "text": [
      "polarisability of He is 0.185 *10**-40 farad m**2\n",
      "relative permittivity is 1.0000564\n",
      "answer varies due to rounding off errors\n"
     ]
    }
   ],
   "source": [
    "#importing modules\n",
    "import math\n",
    "from __future__ import division\n",
    "\n",
    "#Variable declaration\n",
    "epsilon0=8.84*10**-12;\n",
    "R=0.55*10**-10;    #radius(m)\n",
    "N=2.7*10**25;      #number of atoms\n",
    "\n",
    "#Calculation\n",
    "alpha_e=4*math.pi*epsilon0*R**3;    #polarisability of He(farad m**2)\n",
    "epsilonr=1+(N*alpha_e/epsilon0);      #relative permittivity\n",
    "\n",
    "#Result\n",
    "print \"polarisability of He is\",round(alpha_e*10**40,3),\"*10**-40 farad m**2\"\n",
    "print \"relative permittivity is\",round(epsilonr,7)\n",
    "print \"answer varies due to rounding off errors\""
   ]
  },
  {
   "cell_type": "markdown",
   "metadata": {},
   "source": [
    "## Example number 3, Page number 10.27"
   ]
  },
  {
   "cell_type": "code",
   "execution_count": 5,
   "metadata": {
    "collapsed": false
   },
   "outputs": [
    {
     "name": "stdout",
     "output_type": "stream",
     "text": [
      "field strength is 3.535 *10**7 V/m\n",
      "total dipole moment is 33.4 *10**-12 Cm\n"
     ]
    }
   ],
   "source": [
    "#importing modules\n",
    "import math\n",
    "from __future__ import division\n",
    "\n",
    "#Variable declaration\n",
    "A=360*10**-4;    #area(m**2)\n",
    "V=15;    #voltage(V)\n",
    "C=6*10**-6;     #capacitance(farad)\n",
    "epsilonr=8;\n",
    "epsilon0=8.84*10**-12;\n",
    "\n",
    "#Calculation\n",
    "E=V*C/(epsilon0*epsilonr*A);     #field strength(V/m)\n",
    "dm=epsilon0*(epsilonr-1)*V*A;    #total dipole moment(Cm)\n",
    "\n",
    "#Result\n",
    "print \"field strength is\",round(E/10**7,3),\"*10**7 V/m\"\n",
    "print \"total dipole moment is\",round(dm*10**12,1),\"*10**-12 Cm\""
   ]
  },
  {
   "cell_type": "markdown",
   "metadata": {},
   "source": [
    "## Example number 4, Page number 10.27"
   ]
  },
  {
   "cell_type": "code",
   "execution_count": 7,
   "metadata": {
    "collapsed": false
   },
   "outputs": [
    {
     "name": "stdout",
     "output_type": "stream",
     "text": [
      "the complex polarizability is (3.50379335033-0.0600074383321j) *10**-40 F-m**2\n",
      "answer cant be rouned off to 2 decimals as given in the textbook. Since it is a complex number and complex numbers cant be converted to float\n"
     ]
    }
   ],
   "source": [
    "#importing modules\n",
    "import math\n",
    "from __future__ import division\n",
    "\n",
    "#Variable declaration\n",
    "epsilonr=4.36;      #dielectric constant\n",
    "t=2.8*10**-2;       #loss tangent(t)\n",
    "N=4*10**28;         #number of electrons\n",
    "epsilon0=8.84*10**-12;      \n",
    "\n",
    "#Calculation\n",
    "epsilon_r = epsilonr*t;\n",
    "epsilonstar = (complex(epsilonr,-epsilon_r));\n",
    "alphastar = (epsilonstar-1)/(epsilonstar+2);\n",
    "alpha_star = 3*epsilon0*alphastar/N;             #complex polarizability(Fm**2)\n",
    "\n",
    "#Result\n",
    "print \"the complex polarizability is\",alpha_star*10**40,\"*10**-40 F-m**2\"\n",
    "print \"answer cant be rouned off to 2 decimals as given in the textbook. Since it is a complex number and complex numbers cant be converted to float\""
   ]
  }
 ],
 "metadata": {
  "kernelspec": {
   "display_name": "Python 2",
   "language": "python",
   "name": "python2"
  },
  "language_info": {
   "codemirror_mode": {
    "name": "ipython",
    "version": 2
   },
   "file_extension": ".py",
   "mimetype": "text/x-python",
   "name": "python",
   "nbconvert_exporter": "python",
   "pygments_lexer": "ipython2",
   "version": "2.7.11"
  }
 },
 "nbformat": 4,
 "nbformat_minor": 0
}
