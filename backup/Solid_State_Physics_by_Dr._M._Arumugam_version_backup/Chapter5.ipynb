{
 "cells": [
  {
   "cell_type": "markdown",
   "metadata": {},
   "source": [
    "# 5: Elements of Statistical Mechanics"
   ]
  },
  {
   "cell_type": "markdown",
   "metadata": {},
   "source": [
    "## Example number 3, Page number 5.32"
   ]
  },
  {
   "cell_type": "code",
   "execution_count": 2,
   "metadata": {
    "collapsed": false
   },
   "outputs": [
    {
     "name": "stdout",
     "output_type": "stream",
     "text": [
      "temperature is 1261.6 K\n",
      "answer given in the book is wrong\n"
     ]
    }
   ],
   "source": [
    "#importing modules\n",
    "import math\n",
    "from __future__ import division\n",
    "\n",
    "#Variable declaration\n",
    "E=5.5;          #energy(eV)\n",
    "Ef=5;           #fermi energy(eV)\n",
    "p=1/100;        #probability\n",
    "e=1.6*10**-19;  #charge(coulomb)\n",
    "k=1.38*10**-23; #boltzmann constant \n",
    "\n",
    "#Calculation\n",
    "x=E-Ef;         #difference in energy(eV)\n",
    "y=math.log((1/p)-1);\n",
    "T=x*e/(k*y);    #temperature(K)\n",
    "\n",
    "#Result\n",
    "print \"temperature is\",round(T,1),\"K\"\n",
    "print \"answer given in the book is wrong\""
   ]
  },
  {
   "cell_type": "markdown",
   "metadata": {},
   "source": [
    "## Example number 4, Page number 5.32"
   ]
  },
  {
   "cell_type": "code",
   "execution_count": 4,
   "metadata": {
    "collapsed": false
   },
   "outputs": [
    {
     "name": "stdout",
     "output_type": "stream",
     "text": [
      "fermi energy is 3.15 eV\n"
     ]
    }
   ],
   "source": [
    "#importing modules\n",
    "import math\n",
    "from __future__ import division\n",
    "\n",
    "#Variable declaration\n",
    "rho=970;        #density(kg/m**3)\n",
    "N=6.02*10**26;  #avagadro number\n",
    "A=23;           #atomic weight(kg)\n",
    "h=6.62*10**-34; #planks constant(Js)\n",
    "m=9.1*10**-31;  #mass(kg)\n",
    "e=1.6*10**-19;  #charge(coulomb)\n",
    "\n",
    "#Calculation\n",
    "n=rho*N/A;      #number of atoms per m**3\n",
    "EF=(h**2/(8*m))*((3*n/math.pi)**(2/3));     #fermi energy(J)\n",
    "EF=EF/e;        #fermi energy(eV)\n",
    "\n",
    "#Result\n",
    "print \"fermi energy is\",round(EF,2),\"eV\""
   ]
  }
 ],
 "metadata": {
  "kernelspec": {
   "display_name": "Python 2",
   "language": "python",
   "name": "python2"
  },
  "language_info": {
   "codemirror_mode": {
    "name": "ipython",
    "version": 2
   },
   "file_extension": ".py",
   "mimetype": "text/x-python",
   "name": "python",
   "nbconvert_exporter": "python",
   "pygments_lexer": "ipython2",
   "version": "2.7.11"
  }
 },
 "nbformat": 4,
 "nbformat_minor": 0
}
