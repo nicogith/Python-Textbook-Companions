{
 "metadata": {
  "name": "",
  "signature": ""
 },
 "nbformat": 3,
 "nbformat_minor": 0,
 "worksheets": [
  {
   "cells": [
    {
     "cell_type": "heading",
     "level": 1,
     "metadata": {},
     "source": [
      "Ch-7, Manufacturing in the twenty-first century:micromachining, generatice manufacturing, and self assembly"
     ]
    },
    {
     "cell_type": "heading",
     "level": 2,
     "metadata": {},
     "source": [
      "Problem 1 on page no. 432"
     ]
    },
    {
     "cell_type": "code",
     "collapsed": false,
     "input": [
      "# Given that\n",
      "F = 4e-6 # Maximum feature dimension in meter\n",
      "t = 5e-6 # Photorist thickness in meter\n",
      "g = 25e-6 # Allowable gap between the mask and the resist meter\n",
      "lamda = (F**2)/(t+g)\n",
      "print \"Maximum allowable wavelength of the exposing light = %d nm\"%(lamda*(10**9))"
     ],
     "language": "python",
     "metadata": {},
     "outputs": [
      {
       "output_type": "stream",
       "stream": "stdout",
       "text": [
        "Maximum allowable wavelength of the exposing light = 533 nm\n"
       ]
      }
     ],
     "prompt_number": 1
    },
    {
     "cell_type": "heading",
     "level": 2,
     "metadata": {},
     "source": [
      "Problem 2 on page no. 440"
     ]
    },
    {
     "cell_type": "code",
     "collapsed": false,
     "input": [
      "from __future__ import division\n",
      "from math import exp\n",
      "# Given that\n",
      "d = 5 # Diameter of hole in micro meter\n",
      "h = 100 # Depth of hole in micro meter\n",
      "t = 31.58*(d*(exp(h/(60*d))-1))\n",
      "print \"Time required to machine the hole = %0.1f min\"%(t)"
     ],
     "language": "python",
     "metadata": {},
     "outputs": [
      {
       "output_type": "stream",
       "stream": "stdout",
       "text": [
        "Time required to machine the hole = 62.5 min\n"
       ]
      }
     ],
     "prompt_number": 2
    },
    {
     "cell_type": "heading",
     "level": 2,
     "metadata": {},
     "source": [
      "Problem 3 on page no. 448"
     ]
    },
    {
     "cell_type": "code",
     "collapsed": false,
     "input": [
      "from math import sqrt\n",
      "# Given that\n",
      "J = 2 # The threshold value of dose in kJ/cm**3\n",
      "h = 300 # Height in micro meter\n",
      "J_o = J*(exp(0.1*sqrt(h)))\n",
      "print \"The minimum level of exposure of the PMMA surface = %0.1f kJ/cm**3\"%(J_o)"
     ],
     "language": "python",
     "metadata": {},
     "outputs": [
      {
       "output_type": "stream",
       "stream": "stdout",
       "text": [
        "The minimum level of exposure of the PMMA surface = 11.3 kJ/cm**3\n"
       ]
      }
     ],
     "prompt_number": 3
    }
   ],
   "metadata": {}
  }
 ]
}
