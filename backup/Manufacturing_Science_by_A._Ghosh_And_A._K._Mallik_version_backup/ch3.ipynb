{
 "metadata": {
  "name": "",
  "signature": ""
 },
 "nbformat": 3,
 "nbformat_minor": 0,
 "worksheets": [
  {
   "cells": [
    {
     "cell_type": "heading",
     "level": 1,
     "metadata": {},
     "source": [
      "Chapter - 03, Forming Processes"
     ]
    },
    {
     "cell_type": "heading",
     "level": 2,
     "metadata": {},
     "source": [
      "Problem 1 on page no. 112"
     ]
    },
    {
     "cell_type": "code",
     "collapsed": false,
     "input": [
      "from __future__ import division\n",
      "from math import tan, sqrt, atan, log\n",
      "# Given that\n",
      "A = 150*6 # Cross-section of strips in mm**2\n",
      "ti = 6 # Thickness in mm\n",
      "pA = 0.20 # Reduction in area\n",
      "d = 400 # Diameter of steel rolls in mm\n",
      "Ys = 0.35# Shear Yield stress of the material before rolling in KN/mm**2\n",
      "Ys_ = 0.4# Shear Yield stress of the material after rolling in KN/mm**2\n",
      "mu = 0.1 # Cofficient of friction\n",
      "\n",
      "tf =0.8*ti\n",
      "Ys_a = (Ys + Ys_)/2\n",
      "r=d/2\n",
      "thetaI = sqrt((ti-tf)/r)\n",
      "lambdaI=2*sqrt(r/tf)*atan(thetaI *sqrt(r/tf))\n",
      "lambdaN = (1/2)*((1/mu)*(log(tf/ti)) + lambdaI)\n",
      "thetaN  =(sqrt(tf/r))*(tan((lambdaN/2)*(sqrt(tf/r))))\n",
      "print \"\"\"The final srip thickness is %0.2f mm,\\nThe avg shear yield stress during the process is %0.3f KN/mm**2,\n",
      "The angle subtended by the deformation zone at the roll centre is %0.4f rad, \n",
      "The location of neutral point is %0.3f rad.\"\"\"%(tf,Ys_a,thetaI,thetaN)"
     ],
     "language": "python",
     "metadata": {},
     "outputs": [
      {
       "output_type": "stream",
       "stream": "stdout",
       "text": [
        "The final srip thickness is 4.80 mm,\n",
        "The avg shear yield stress during the process is 0.375 KN/mm**2,\n",
        "The angle subtended by the deformation zone at the roll centre is 0.0775 rad, \n",
        "The location of neutral point is 0.023 rad.\n"
       ]
      }
     ],
     "prompt_number": 1
    },
    {
     "cell_type": "heading",
     "level": 2,
     "metadata": {},
     "source": [
      "Problem 2 on page no. 113"
     ]
    },
    {
     "cell_type": "code",
     "collapsed": false,
     "input": [
      "from math import exp, ceil\n",
      "# Given that\n",
      "A = 150*6 # Cross-section of strips in mm**2\n",
      "w = 150 # Width of the strip in mm\n",
      "ti = 6 # Thickness in mm\n",
      "pA = 0.20 # Reduction in area\n",
      "d = 400 # Diameter of steel rolls in mm\n",
      "Ys = 0.35# Shear Yield stress of the material before rolling in KN/mm**2\n",
      "Ys_ = 0.4# Shear Yield stress of the material after rolling in KN/mm**2\n",
      "mu = 0.1 # Cofficient of friction\n",
      "v = 30 # Speed of rolling in m/min\n",
      "tf =0.8*ti\n",
      "Ys_a = (Ys + Ys_)/2\n",
      "r=d/2\n",
      "thetaI = sqrt((ti-tf)/r)\n",
      "lambdaI=2*sqrt(r/tf)*atan(thetaI *sqrt(r/tf))\n",
      "lambdaN = (1/2)*((1/mu)*(log(tf/ti)) + lambdaI)\n",
      "thetaN  =(sqrt(tf/r))*(tan((lambdaN/2)*(sqrt(tf/r))))\n",
      "Dtheta_a = thetaN/4\n",
      "Dtheta_b = (thetaI- thetaN)/8\n",
      "print \"The values of P_after are:\\n\"\n",
      "for i in range(0,5,1):\n",
      "    theta = i*Dtheta_a\n",
      "    y = (1/2)* (tf+r*theta**2)\n",
      "    lamda = 2*sqrt(r/tf)*atan(theta*sqrt(r/tf))\n",
      "    p_a = 2*Ys_a*(2*y/tf)*(exp(mu*lamda))\n",
      "    print \"%0.3f \\t\\t\"%p_a,\n",
      "\n",
      "I1 = (Dtheta_a/3) *(0.75+.925+4*(.788+.876)+2*.830)# By Simpson's rule\n",
      "print \"\\n\\nThe values of P_before are:\\n\"\n",
      "for i in range(0,8,1):\n",
      "    theta1 = i*Dtheta_b + thetaN\n",
      "    y = (1/2)* (tf+r*theta1**2)\n",
      "    lamda = 2*sqrt(r/tf)*atan(theta1*sqrt(r/tf))\n",
      "    p_b = 2*Ys_a*(2*y/ti)*(exp(mu*(lambdaI-lamda)))\n",
      "    print \" %0.3f \\t\\t\"%p_b,\n",
      "\n",
      "I2 = (Dtheta_b/3)*(0.925+.75+4*(.887+.828+.786+.759) + 2*(.855+.804+.772))#By Simpson's rule\n",
      "F = r*(I1 + I2)\n",
      "F_ = F*w\n",
      "T = (r**2)*mu*(I2-I1)\n",
      "T_ =T*w\n",
      "W = v*(1000/60)/r\n",
      "P = 2*T_*W\n",
      "print \"\\n\\nThe roll separating force = %d kN, The power required in the rolling process = %0.2f kW\"%(ceil(F_),P/1000)\n",
      "# Answer in the book for the power required in the rolling process is given as 75.6 kW\n",
      " "
     ],
     "language": "python",
     "metadata": {},
     "outputs": [
      {
       "output_type": "stream",
       "stream": "stdout",
       "text": [
        "The values of P_after are:\n",
        "\n",
        "0.750 \t\t0.787 \t\t0.829 \t\t0.874 \t\t0.924 \t\t\n",
        "\n",
        "The values of P_before are:\n",
        "\n",
        " 0.924 \t\t 0.887 \t\t 0.855 \t\t 0.828 \t\t 0.805 \t\t 0.786 \t\t 0.771 \t\t 0.759 \t\t\n",
        "\n",
        "The roll separating force = 1908 kN, The power required in the rolling process = 77.38 kW\n"
       ]
      }
     ],
     "prompt_number": 2
    },
    {
     "cell_type": "heading",
     "level": 2,
     "metadata": {},
     "source": [
      "Problem 3 on page no. 115"
     ]
    },
    {
     "cell_type": "code",
     "collapsed": false,
     "input": [
      "from math import pi\n",
      "# Given that\n",
      "A = 150*6 # Cross-section of strips in mm**2\n",
      "w = 150 # Width of the strip in mm\n",
      "ti = 6 # Thickness in mm\n",
      "pA = 0.20 # Reduction in area\n",
      "d = 400 # Diameter of steel rolls in mm\n",
      "Ys = 0.35# Shear Yield stress of the material before rolling in KN/mm**2\n",
      "Ys_ = 0.4# Shear Yield stress of the material after rolling in KN/mm**2\n",
      "mu = 0.1 # Cofficient of friction\n",
      "mu_ = 0.005 # Cofficient of friction in bearing \n",
      "D = 150 # The diameter of bearing in mm\n",
      "v = 30 # Speed of rolling in m/min\n",
      "tf =0.8*ti\n",
      "Ys_a = (Ys + Ys_)/2\n",
      "r=d/2\n",
      "thetaI = sqrt((ti-tf)/r)\n",
      "lambdaI=2*sqrt(r/tf)*atan(thetaI *sqrt(r/tf))\n",
      "lambdaN = (1/2)*((1/mu)*(log(tf/ti)) + lambdaI)\n",
      "thetaN  =(sqrt(tf/r))*(tan((lambdaN/2)*(sqrt(tf/r))))\n",
      "Dtheta_a = thetaN/4\n",
      "Dtheta_b = (thetaI- thetaN)/8\n",
      "for i in range(0,5,1):\n",
      "    theta = i*Dtheta_a\n",
      "    y = (1/2)* (tf+r*theta**2)\n",
      "    lamda = 2*sqrt(r/tf)*atan(theta*(pi/180) *sqrt(r/tf))*180/pi\n",
      "    p_a = 2*Ys_a*(2*y/tf)*(exp(mu*lamda))\n",
      "\n",
      "I1 = (Dtheta_a/3) *(0.75+.925+4*(.788+.876)+2*.830)\n",
      "for i in range(0,8,1):\n",
      "    theta1 = i*Dtheta_b + thetaN\n",
      "    y = (1/2)* (tf+r*theta1**2)\n",
      "    lamda = 2*sqrt(r/tf)*atan(theta1*(pi/180) *sqrt(r/tf))*180/pi\n",
      "    p_b = 2*Ys_a*(2*y/ti)*(exp(mu*(lambdaI-lamda)))\n",
      "I2 = (Dtheta_b/3)*(0.925+.75+4*(.887+.828+.786+.759) + 2*(.855+.804+.772))\n",
      "F = r*(I1 + I2)\n",
      "F_ = F*w\n",
      "T = (r**2)*mu*(I2-I1)\n",
      "T_ =T*w\n",
      "W = v*(1000/60)/r\n",
      "P_ = 2*T_*W\n",
      "Pl = mu_*F_*D*W\n",
      "P = Pl+P_\n",
      "print \"The mill power = %0.2f kW\"%(P/1000)\n",
      "# Answer in the book is given as 79.18 kW  whcih is wrong.\n",
      " "
     ],
     "language": "python",
     "metadata": {},
     "outputs": [
      {
       "output_type": "stream",
       "stream": "stdout",
       "text": [
        "The mill power = 80.95 kW\n"
       ]
      }
     ],
     "prompt_number": 3
    },
    {
     "cell_type": "heading",
     "level": 2,
     "metadata": {},
     "source": [
      "Problem 4 on page no. 118"
     ]
    },
    {
     "cell_type": "code",
     "collapsed": false,
     "input": [
      "# Given that\n",
      "mu = 0.25 # Cofficient of friction between the job and the dies \n",
      "Y = 7 # Avg yield stress of the lead in N/mm**2\n",
      "h = 6 # Height of die in mm\n",
      "L = 150 # Length of the strip in mm\n",
      "V1 = 24*24*150 # Volume of the strip in mm**3\n",
      "V2 = 6*96*150 # Volume of the die in mm**3\n",
      "w= 96 # Weidth of the die in mm\n",
      "from sympy.mpmath import *\n",
      "K = Y/sqrt(3)\n",
      "x_ = (h/(2*mu))*(log(1/(2*mu)))\n",
      "l = w/2\n",
      "p1= lambda x:(2*K)*exp((2*mu/h)*x)\n",
      "I1 = quad(p1,[0,x_])\n",
      "p2 = lambda y:(2*K)*((1/2*mu)*(log(1/(2*mu))) + (y/h))\n",
      "I2 = quad(p2,[x_,l])\n",
      "F = 2*(I1+I2)\n",
      "F_ = F*L\n",
      "print \"The maximum forging force = %0.2e N\" %F_ \n",
      "# Answer in the book is given as 0.54*10**6 N which is wrong.\n",
      " "
     ],
     "language": "python",
     "metadata": {},
     "outputs": [
      {
       "output_type": "stream",
       "stream": "stdout",
       "text": [
        "The maximum forging force = 4.89e+05 N\n"
       ]
      }
     ],
     "prompt_number": 4
    },
    {
     "cell_type": "heading",
     "level": 2,
     "metadata": {},
     "source": [
      "Problem 5 on page no. 119"
     ]
    },
    {
     "cell_type": "code",
     "collapsed": false,
     "input": [
      "# Given that\n",
      "mu = 0.08# Cofficient of friction between the job and the dies \n",
      "Y = 7 # Avg yield stress of the lead in N/mm**2\n",
      "h = 6 # Height of die in mm\n",
      "L = 150 # Length of the strip in mm\n",
      "V1 = 24*24*150 # Volume of the strip in mm**3\n",
      "V2 = 6*96*150 # Volume of the die in mm**3\n",
      "w= 96 # Weidth of the die in mm\n",
      "K = Y/sqrt(3)\n",
      "x_ = (h/(2*mu))*(log(1/(2*mu)))\n",
      "l = w/2\n",
      "p1 =lambda x:(2*K)*exp((2*mu/h)*x)\n",
      "I = quad(p1,[0,l])\n",
      "F = 2*(I)\n",
      "F_ = F*L\n",
      "print \"The maximum forging force = %0.2e N\"%F_ \n",
      "\n",
      " "
     ],
     "language": "python",
     "metadata": {},
     "outputs": [
      {
       "output_type": "stream",
       "stream": "stdout",
       "text": [
        "The maximum forging force = 2.36e+05 N\n"
       ]
      }
     ],
     "prompt_number": 5
    },
    {
     "cell_type": "heading",
     "level": 2,
     "metadata": {},
     "source": [
      "Problem 6 on page no. 122"
     ]
    },
    {
     "cell_type": "code",
     "collapsed": false,
     "input": [
      "# Given that\n",
      "r = 150 # Radius of the circular disc of lead in mm\n",
      "Ti = 50 # Initial thickness of the disc in mm\n",
      "Tf = 25 # Reduced thickness of the disc in mm\n",
      "mu = 0.25# Cofficient of friction between the job and the dies \n",
      "K = 4 # Avg shear yield stress of the lead in N/mm**2\n",
      "\n",
      "R = r*sqrt(2)\n",
      "rs = (R - ((Tf/(2*mu)) * log(1/(mu*sqrt(3)))))\n",
      "p1 = lambda x:(((sqrt(3))*K)*exp((2*mu/Tf)*(R-x)))*x\n",
      "I = quad(p1,[rs,R])\n",
      "p2 = lambda y:((2*K/Tf)*(R-y) + ((K/mu)*(1+log(mu*sqrt(3)))))*y\n",
      "I_ = quad(p2,[0,rs])\n",
      "F = 2*pi*(I+I_)\n",
      "print \"The maximum forging force = %0.3e N\"%F \n",
      "\n",
      " "
     ],
     "language": "python",
     "metadata": {},
     "outputs": [
      {
       "output_type": "stream",
       "stream": "stdout",
       "text": [
        "The maximum forging force = 3.649e+06 N\n"
       ]
      }
     ],
     "prompt_number": 6
    },
    {
     "cell_type": "heading",
     "level": 2,
     "metadata": {},
     "source": [
      "Problem 7 on page no. 126"
     ]
    },
    {
     "cell_type": "code",
     "collapsed": false,
     "input": [
      "# Given that\n",
      "Di = 12.7 # Intial diameter in mm\n",
      "Df = 10.2 # Final diameter in mm\n",
      "v = 90 # Drawn speed in m/min\n",
      "alpha=6 # Half angle of dia in degree\n",
      "mu = 0.1# Cofficient of friction between the job and the dies \n",
      "Y = 207 # Tensile  yield stress of the steel specimen in N/mm**2\n",
      "Y_ = 414 # Tensile yield stress of the similar specimen at strain 0.5 in N/mm**2\n",
      "e = 0.5 # Strain\n",
      "\n",
      "e_ =2* log(Di/Df)\n",
      "Y_e = Y + (Y_ - Y)*e_/e\n",
      "Y__ = (Y+Y_e)/2\n",
      "phi = 1 + (mu/tan(alpha*pi/180))\n",
      "Y_f = Y__ * ((phi/(phi-1)) *(1-((Df/Di)**(2*(phi-1)))))\n",
      "p = Y_f * (pi/4)*(Df**2)*v/60\n",
      "Dmax = 1- (1/(phi**(1/(phi-1))))\n",
      "print \"Drawing power = %0.3f kW, \\nThe maximum passible reduction with same die = %0.2f mm\"%(p/1000,Dmax)"
     ],
     "language": "python",
     "metadata": {},
     "outputs": [
      {
       "output_type": "stream",
       "stream": "stdout",
       "text": [
        "Drawing power = 25.530 kW, \n",
        "The maximum passible reduction with same die = 0.50 mm\n"
       ]
      }
     ],
     "prompt_number": 7
    },
    {
     "cell_type": "heading",
     "level": 2,
     "metadata": {},
     "source": [
      "Problem 8 on page no. 130"
     ]
    },
    {
     "cell_type": "code",
     "collapsed": false,
     "input": [
      "# Given that\n",
      "Ri = 30 # Inside radius of cup in mm\n",
      "t = 3 # Thickness in mm\n",
      "Rb = 40 # Radius of the blank in mm\n",
      "K = 210 # Shear yield stress of the material in N/mm**2\n",
      "Y = 600 # Maximum allowable stress in N/mm**2\n",
      "Beta = 0.05\n",
      "mu = 0.1# Cofficient of friction between the job and the dies \n",
      "\n",
      "Fh = Beta*pi*(Rb**2)*K\n",
      "Y_r = (mu*Fh/(pi*Rb*t))+(2*K*log(Rb/Ri))\n",
      "Y_z = Y_r*exp(mu*pi/2)\n",
      "F = 2*pi*Ri*t*Y_z\n",
      "Y_r_ = Y/exp(mu*pi/2)\n",
      "Rp = (Rb/exp((Y_r_/(2*K)) - ((mu*Fh)/(2*pi*K*Rb*t))))-t\n",
      "print \"Drawing force = %d N,\\nMinimum passible radius of the cup which can drawn from the given blank without causing a fracture = %0.2f mm\"%(F,Rp)\n",
      "# Answer in the book given as 62680 N"
     ],
     "language": "python",
     "metadata": {},
     "outputs": [
      {
       "output_type": "stream",
       "stream": "stdout",
       "text": [
        "Drawing force = 89210 N,\n",
        "Minimum passible radius of the cup which can drawn from the given blank without causing a fracture = 9.20 mm\n"
       ]
      }
     ],
     "prompt_number": 8
    },
    {
     "cell_type": "heading",
     "level": 2,
     "metadata": {},
     "source": [
      "Problem 9 on page no. 135"
     ]
    },
    {
     "cell_type": "code",
     "collapsed": false,
     "input": [
      "# Given that\n",
      "L_ = 20 # Length of the mild steel product in mm\n",
      "h = 50 # Height of the mild steel product in mm\n",
      "L = 50 # Horizontal length of the mild steel product in mm\n",
      "t = 5 # Thickness in mm\n",
      "l=25 # Length of the bend in mm\n",
      "E = 207 # Modulus of elasticity in kN/mm**2\n",
      "n = 517 # Strain hardening rate in N/mm**2\n",
      "Y = 345 # Yield stress in N/mm**2\n",
      "mu = 0.1# Cofficient of friction\n",
      "e = 0.2 # Fracture strain\n",
      "theta = 20 # Bend angle in degree\n",
      "\n",
      "Rp = ((1 /((exp(e) - 1)))-0.82)*t/1.82\n",
      "Y_1 = Y+n*e\n",
      "Y_2 = Y + n*(log(1+(1/(2.22*(Rp/t)+1))))\n",
      "M = ((0.55*t)**2)*((Y/6)+(Y_1/3)) + ((0.45*t)**2)*((Y/6)+(Y_2/3))\n",
      "Fmax = (M/l)*(1+(cos((atan(mu))+mu*sin(atan(mu)))))\n",
      "Fmax_ = L_*Fmax\n",
      "alpha = 90 /((12*(Rp+0.45*t)*M/(E*(10**3)*(t**3)))+1)\n",
      "Ls = 2*(((Rp+0.45*t)*pi/4) + 50-(Rp+t))\n",
      "print \"Maximum bending force = %d N,\\nThe required puch angle = %0.2f\u00b0,\\nThe stock length = %0.2f mm\"%(Fmax_,alpha,Ls)\n",
      "# Answer in the book for maximum bending force is given as 4144 N"
     ],
     "language": "python",
     "metadata": {},
     "outputs": [
      {
       "output_type": "stream",
       "stream": "stdout",
       "text": [
        "Maximum bending force = 4121 N,\n",
        "The required puch angle = 88.68\u00b0,\n",
        "The stock length = 89.18 mm\n"
       ]
      }
     ],
     "prompt_number": 9
    },
    {
     "cell_type": "heading",
     "level": 2,
     "metadata": {},
     "source": [
      "Problem 10 on page no. 136"
     ]
    },
    {
     "cell_type": "code",
     "collapsed": false,
     "input": [
      "# Given that\n",
      "L_ = 20 # Length of the mild steel product in mm\n",
      "h = 50 # Height of the mild steel product in mm\n",
      "L = 50 # Horizontal length of the mild steel product in mm\n",
      "t = 5 # Thickness in mm\n",
      "l=25 # Length of the bend in mm\n",
      "E = 207 # Modulus of elasticity in kN/mm**2\n",
      "n = 517 # Strain hardening rate in N/mm**2\n",
      "Y = 345 # Yield stress in N/mm**2\n",
      "mu = 0.1# Cofficient of friction\n",
      "e = 0.2 # Fracture strain\n",
      "theta = 20 # Bend angle in degree\n",
      "F = 3000 # Maximum available force in N\n",
      "\n",
      "Rp = ((1 /((exp(e) - 1)))-0.82)*t/1.82\n",
      "Y_1 = Y+n*e\n",
      "Y_2 = Y + n*(log(1+(1/(2.22*(Rp/t)+1))))\n",
      "M = ((0.55*t)**2)*((Y/6)+(Y_1/3)) + ((0.45*t)**2)*((Y/6)+(Y_2/3))\n",
      "Fmax = (M/l)*(1+(cos((atan(mu))+mu*sin(atan(mu)))))\n",
      "Fmax_ = L_*Fmax\n",
      "lmin  = Fmax_*l/F\n",
      "Ls = 2*(((Rp+0.45*t)*pi/4) + 50-(Rp+t))\n",
      "lmax = Ls / 2\n",
      "Fmax_min  = Fmax_*l/lmax\n",
      "print \"Minimum value of die length = %0.2f mm,\\nMinimum required capacity of the machine = %d N\"%(lmin,ceil(Fmax_min))\n",
      "# Answer in the book is give as 2323 N for Minimum required capacity of the machine\n",
      "\n",
      " "
     ],
     "language": "python",
     "metadata": {},
     "outputs": [
      {
       "output_type": "stream",
       "stream": "stdout",
       "text": [
        "Minimum value of die length = 34.35 mm,\n",
        "Minimum required capacity of the machine = 2312 N\n"
       ]
      }
     ],
     "prompt_number": 10
    },
    {
     "cell_type": "heading",
     "level": 2,
     "metadata": {},
     "source": [
      "Problem 11 on page no. 141"
     ]
    },
    {
     "cell_type": "code",
     "collapsed": false,
     "input": [
      "# Given that\n",
      "d = 50 # Diameter of the billet in mm\n",
      "L =75 # Length of the billet in mm\n",
      "D = 10 # Final diameter of billet in mm\n",
      "Y = 170 # Avg tensile yield stress for aluminium in N/mm**2\n",
      "mu = 0.15 # Cofficient of the friction\n",
      "\n",
      "l = L - ((d-D)/2)*tan(45*pi/180)\n",
      "phi = 1+mu\n",
      "Y_x = Y*(phi/(phi-1))*(((d/D)**(2*(phi-1)))-1)\n",
      "F = (pi/4)*(d**2)*Y_x + (pi/sqrt(3))*(d*l*Y)\n",
      "Pf = pi*Y*(d**2)*((phi/(2*mu))*(((d/D)**(2*mu))-1)-log(d/D)) + (pi/sqrt(3))*Y*d*l\n",
      "Loss_f = (Pf/F)*100\n",
      "Y_X = Y*4.31*log(d/D)\n",
      "F_ = (pi/4)*(d**2)*Y_X + (pi/sqrt(3))*(d*l*Y)\n",
      "Pf_1 = (pi/sqrt(3))*Y*(d**2)*(log(d/D))\n",
      "Pf_2 = (pi/sqrt(3))*(d*l*Y)\n",
      "Pf_ = Pf_1+Pf_2\n",
      "Loss_f_ = (Pf_/F_)*100\n",
      "print \"Maximum force required for extruding the cylindrical aluminium billet = %d N\"%F\n",
      "print \"Percent of the total power input will be lost in friction at the start of the operation = %0.2f %%.\"%(Loss_f_)\n",
      "# Answer in the book given as 2436444 N for max force required for extruding the cylindrical aluminium billet\n",
      "\n",
      " "
     ],
     "language": "python",
     "metadata": {},
     "outputs": [
      {
       "output_type": "stream",
       "stream": "stdout",
       "text": [
        "Maximum force required for extruding the cylindrical aluminium billet = 2436266 N\n",
        "Percent of the total power input will be lost in friction at the start of the operation = 66.02 %.\n"
       ]
      }
     ],
     "prompt_number": 11
    },
    {
     "cell_type": "heading",
     "level": 2,
     "metadata": {},
     "source": [
      "Problem 12 on page no. 149"
     ]
    },
    {
     "cell_type": "code",
     "collapsed": false,
     "input": [
      "# Given that\n",
      "d = 50 # Diameter of the steel sheet in mm\n",
      "t = 3 # Thickness of the steel sheet in mm\n",
      "e = 1.75 # True fracture strain\n",
      "Y = 2.1e3 # True fracture stress for the material in N/mm**2\n",
      "\n",
      "C_0 = (t/(1.36*exp(e)))*((2*exp(e))-1)/((2.3*exp(e))-1)\n",
      "p = t*(1/2.45)*((1.9*exp(e))-1)/((2.56*exp(e))-1)\n",
      "F = Y*C_0*pi*d\n",
      "W = (1/2)*(F)*(p)*(10**-3)\n",
      "print \"The proper clearance between die and punch = %0.2f mm\"%C_0\n",
      "print \"Maximum punching force = %0.2f N, \\nEnergy required to punch the hole = %0.2f J\"%(F/1000,W)\n",
      "# Answer in the book given as 45.74 J for energy required to punch the hole\n",
      " "
     ],
     "language": "python",
     "metadata": {},
     "outputs": [
      {
       "output_type": "stream",
       "stream": "stdout",
       "text": [
        "The proper clearance between die and punch = 0.33 mm\n",
        "Maximum punching force = 108.61 N, \n",
        "Energy required to punch the hole = 48.10 J\n"
       ]
      }
     ],
     "prompt_number": 12
    }
   ],
   "metadata": {}
  }
 ]
}
