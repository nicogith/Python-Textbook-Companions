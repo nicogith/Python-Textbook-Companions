{
 "metadata": {
  "name": "",
  "signature": ""
 },
 "nbformat": 3,
 "nbformat_minor": 0,
 "worksheets": [
  {
   "cells": [
    {
     "cell_type": "heading",
     "level": 1,
     "metadata": {},
     "source": [
      "Ch-5, Joining Processes"
     ]
    },
    {
     "cell_type": "heading",
     "level": 2,
     "metadata": {},
     "source": [
      "Problem 1 on page no. 285"
     ]
    },
    {
     "cell_type": "code",
     "collapsed": false,
     "input": [
      "from sympy import symbols, diff, solve\n",
      "from __future__ import division\n",
      "# Given that\n",
      "A = 20 # Value of A in voltage length characteristic equation\n",
      "B = 40 # Value of B in voltage length characteristic equation\n",
      "v= 80 # Open circuit voltage in V\n",
      "I = 1000 # Short circuit current in amp\n",
      "\n",
      "l, I=symbols(\"l I\")\n",
      "i = ((v-A)-(B* l))*(I/v)\n",
      "V_given = (A+B*l)# Given in the question\n",
      "V_cal = v-v/1e3*I # Volts # power source characteristic\n",
      "# equating both V gives I\n",
      "I = (v-(A+B*l))/(v/1e3) # A\n",
      "P = V_given*I\n",
      "#k = derivat(P)\n",
      "k = diff(P,l)\n",
      "#L=roots(k)\n",
      "L=solve(k,l)[0]\n",
      "I = (v-(A+B*L))/(v/1e3) # A\n",
      "#Pmax=((v-A)-(B* L))*(I/v)*(A+B*L)\n",
      "V_given = (A+B*L)\n",
      "Pmax = V_given*I\n",
      "print \"Maximum power of the arc = %0.f kVA\"%(Pmax/1000)"
     ],
     "language": "python",
     "metadata": {},
     "outputs": [
      {
       "output_type": "stream",
       "stream": "stdout",
       "text": [
        "Maximum power of the arc = 20 kVA\n"
       ]
      }
     ],
     "prompt_number": 1
    },
    {
     "cell_type": "heading",
     "level": 2,
     "metadata": {},
     "source": [
      "Problem 2 on page no. 288"
     ]
    },
    {
     "cell_type": "code",
     "collapsed": false,
     "input": [
      "from math import pi\n",
      "# Given that\n",
      "N  =25 # No. of bridges per cm**2\n",
      "r = 0.1 # Radius of bridge in mm\n",
      "rho = 2e-5 # Resistivity of the material in ohm-cm\n",
      "v= 5 # Applied voltage in V\n",
      "Rc = 0.85*rho/(N*pi*r*0.1)\n",
      "Q = (v**2)/Rc\n",
      "print \"Rate of heat generated per unit area = %0.2e W/cm**2\"%(Q)\n",
      "# Answer in the book is given as 1.136e5 W/cm**2"
     ],
     "language": "python",
     "metadata": {},
     "outputs": [
      {
       "output_type": "stream",
       "stream": "stdout",
       "text": [
        "Rate of heat generated per unit area = 1.15e+06 W/cm**2\n"
       ]
      }
     ],
     "prompt_number": 2
    },
    {
     "cell_type": "heading",
     "level": 2,
     "metadata": {},
     "source": [
      "Problem  on page no. 292"
     ]
    },
    {
     "cell_type": "code",
     "collapsed": false,
     "input": [
      "from math import sin\n",
      "# Given that\n",
      "P = 2.5 # Power in kVA\n",
      "t = 3 # Thickness of steel plate in mm\n",
      "T = 85 # Percentage of total time when arc is on\n",
      "alpha = 1.2e-5 # Thermal diffusivity of steel in m**2/sec\n",
      "k = 43.6 # Thermal conductivity of steel in W/m-\u00b0C\n",
      "theta_ = 1530 # Melting point of steel in \u00b0C\n",
      "theta = 30 # Ambient temperature in \u00b0C\n",
      "gama = 60 # Angle in degree\n",
      "\n",
      "C = T/100\n",
      "Q = C*P*10**3\n",
      "w = t/sin(gama*pi/180)\n",
      "theta_m = theta_ - theta\n",
      "v_max = (4*alpha/(w*(10**-3)))*((Q/(8*k*theta_m*t*(10**-3)))-0.2)\n",
      "print \"Maximum passible welding speed = %0.4f m/sec\"%(v_max)\n",
      "# Answer in the book is given as 0.0146 m/sec"
     ],
     "language": "python",
     "metadata": {},
     "outputs": [
      {
       "output_type": "stream",
       "stream": "stdout",
       "text": [
        "Maximum passible welding speed = 0.0160 m/sec\n"
       ]
      }
     ],
     "prompt_number": 3
    },
    {
     "cell_type": "heading",
     "level": 2,
     "metadata": {},
     "source": [
      "Problem 4 on page no. 303"
     ]
    },
    {
     "cell_type": "code",
     "collapsed": false,
     "input": [
      "# Given that\n",
      "t = 1.2 # Thickness of aluminium sheet in mm\n",
      "t_ = 0.25 # Adhesive thickness in mm\n",
      "l = 12 # Overlapped length in mm\n",
      "E = 703 # Modulus of elastisity in N/mm**2\n",
      "G = 11.9 # Shear modulus of adhesive in N/mm**2\n",
      "T_S = 0.6 # Ultimate shear stress in N/mm**2\n",
      "\n",
      "K = (((l**2)*G)/(2*E*t*t_))**(1/2)\n",
      "T = T_S/K\n",
      "print \"The maximum shear stress the lap joint can withstand = %0.4f N/mm**2\"%(T)\n",
      "# Answer in the book is given as 0.274 N/mm**2"
     ],
     "language": "python",
     "metadata": {},
     "outputs": [
      {
       "output_type": "stream",
       "stream": "stdout",
       "text": [
        "The maximum shear stress the lap joint can withstand = 0.2977 N/mm**2\n"
       ]
      }
     ],
     "prompt_number": 4
    }
   ],
   "metadata": {}
  }
 ]
}
