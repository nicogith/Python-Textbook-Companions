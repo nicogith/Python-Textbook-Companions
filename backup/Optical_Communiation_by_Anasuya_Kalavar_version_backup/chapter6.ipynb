{
 "metadata": {
  "name": "",
  "signature": "sha256:1a1f7133700fa452f49cfaeb319a776f69d7e64235d3f11f1abd2825b262e6e8"
 },
 "nbformat": 3,
 "nbformat_minor": 0,
 "worksheets": [
  {
   "cells": [
    {
     "cell_type": "heading",
     "level": 1,
     "metadata": {},
     "source": [
      "chapter6 - Optical sources"
     ]
    },
    {
     "cell_type": "heading",
     "level": 2,
     "metadata": {},
     "source": [
      "Example 6.3.1, page 6-7  "
     ]
    },
    {
     "cell_type": "code",
     "collapsed": false,
     "input": [
      "from __future__ import division\n",
      "x=0.07 \n",
      "Eg=1.424+1.266*x+0.266*x**2 \n",
      "lamda=1.24/Eg       #computing wavelength\n",
      "print \"Wavlength is %.3f micrometer.\" %lamda "
     ],
     "language": "python",
     "metadata": {},
     "outputs": [
      {
       "output_type": "stream",
       "stream": "stdout",
       "text": [
        "Wavlength is 0.819 micrometer.\n"
       ]
      }
     ],
     "prompt_number": 7
    },
    {
     "cell_type": "heading",
     "level": 2,
     "metadata": {},
     "source": [
      "Example 6.3.2, page 6.12"
     ]
    },
    {
     "cell_type": "code",
     "collapsed": false,
     "input": [
      "n=1.7       #refractive index\n",
      "L=5*10**-2      #distance between mirror\n",
      "c=3*10**8       #speed of light\n",
      "lamda=0.45*10**-6   #wavelength\n",
      "k=2*n*L/lamda       #computing number of modes\n",
      "delf=c/(2*n*L)      #computing mode separation\n",
      "delf=delf*10**-9 \n",
      "print \"Number of modes are %.2e.\\nFrequency separation is %.2f GHz.\"%(k,delf) "
     ],
     "language": "python",
     "metadata": {},
     "outputs": [
      {
       "output_type": "stream",
       "stream": "stdout",
       "text": [
        "Number of modes are 3.78e+05.\n",
        "Frequency separation is 1.76 GHz.\n"
       ]
      }
     ],
     "prompt_number": 2
    },
    {
     "cell_type": "heading",
     "level": 2,
     "metadata": {},
     "source": [
      "Example 6.7.1, page 6-26"
     ]
    },
    {
     "cell_type": "code",
     "collapsed": false,
     "input": [
      "from __future__ import division\n",
      "tr=50       #radiative recombination lifetime\n",
      "tnr=85      #non-radiative recombination lifetime\n",
      "h=6.624*10**-34   #plank's constant\n",
      "c=3*10**8       #speed of light\n",
      "q=1.6*10**-19   #charge of electron\n",
      "i=35*10**-3     #current\n",
      "lamda=0.85*10**-6       #wavelength\n",
      "t=tr*tnr/(tr+tnr)           #computing total recombination time\n",
      "eta=t/tr                    #computing internal quantum efficiency\n",
      "Pint=eta*h*c*i/(q*lamda)    #computing internally generated power\n",
      "Pint=Pint*10**3\n",
      "print \"Total recombinaiton time is %.2f ns.\\nInternal quantum efficiency is %.3f.\\nInternally generated power is %.2f mW.\" %(t,eta,Pint) \n",
      "#answer in the book for Internal quantum efficiency & Internally generated power is wrong."
     ],
     "language": "python",
     "metadata": {},
     "outputs": [
      {
       "output_type": "stream",
       "stream": "stdout",
       "text": [
        "Total recombinaiton time is 31.48 ns.\n",
        "Internal quantum efficiency is 0.630.\n",
        "Internally generated power is 32.20 mW.\n"
       ]
      }
     ],
     "prompt_number": 6
    },
    {
     "cell_type": "heading",
     "level": 2,
     "metadata": {},
     "source": [
      "Example 6.8.1, page 6-34"
     ]
    },
    {
     "cell_type": "code",
     "collapsed": false,
     "input": [
      "from numpy import sqrt, pi\n",
      "f1=10*10**6     #frequency\n",
      "f2=100*10**6\n",
      "t=4*10**-9 \n",
      "Pdc=280*10**-6      #optincal output power\n",
      "w1=2*pi*f1     #computing omega\n",
      "Pout1=Pdc*10**6/(sqrt(1+(w1*t)**2))       #computing output power\n",
      "w2=2*pi*f2     #computing omega\n",
      "Pout2=Pdc*10**6/(sqrt(1+(w2*t)**2))       #computing output power\n",
      "print \"\"\"Ouput power at 10 MHz is %.2f microwatt.\n",
      "Ouput power at 100 MHz is %.2f microwatt.\n",
      "Conclusion when device is drive at higher frequency the optical power reduces.\"\"\" %(Pout1,Pout2) \n",
      "BWopt = sqrt(3)/(2*pi*t) \n",
      "BWelec = BWopt/sqrt(2) \n",
      "BWopt=BWopt*10**-6 \n",
      "BWelec=BWelec*10**-6 \n",
      "print \"3 dB optical power is %.2f MHz.\\n3 dB electrical power is %.2f MHz.\" %(BWopt,BWelec) \n",
      "#calculation error. In the book square term in the denominater is not taken.\n",
      "#answers in the book are wrong."
     ],
     "language": "python",
     "metadata": {},
     "outputs": [
      {
       "output_type": "stream",
       "stream": "stdout",
       "text": [
        "Ouput power at 10 MHz is 271.55 microwatt.\n",
        "Ouput power at 100 MHz is 103.52 microwatt.\n",
        "Conclusion when device is drive at higher frequency the optical power reduces.\n",
        "3 dB optical power is 68.92 MHz.\n",
        "3 dB electrical power is 48.73 MHz.\n"
       ]
      }
     ],
     "prompt_number": 8
    },
    {
     "cell_type": "heading",
     "level": 2,
     "metadata": {},
     "source": [
      "Example 6.8.2, page 6-35"
     ]
    },
    {
     "cell_type": "code",
     "collapsed": false,
     "input": [
      "n1=3.5   #refractive index\n",
      "n=1     #refractive index of air\n",
      "F=0.69  #transmission factor\n",
      "eta = 100*(n1*(n1+1)**2)**-1      #computing eta\n",
      "print \"eta external is %.1f percent i.e. small fraction of intrnally generated opticalpower is emitted from the device.\" %eta \n",
      "r= 100*F*n**2/(4*n1**2)       #computing ratio of Popt/Pint\n",
      "print \"Popt/Pint is %.1f percent\" %r\n",
      "#printing mistake at final answer."
     ],
     "language": "python",
     "metadata": {},
     "outputs": [
      {
       "output_type": "stream",
       "stream": "stdout",
       "text": [
        "eta external is 1.4 percent i.e. small fraction of intrnally generated opticalpower is emitted from the device.\n",
        "Popt/Pint is 1.4 percent\n"
       ]
      }
     ],
     "prompt_number": 9
    },
    {
     "cell_type": "heading",
     "level": 2,
     "metadata": {},
     "source": [
      "Example 6.8.3, page 6-39"
     ]
    },
    {
     "cell_type": "code",
     "collapsed": false,
     "input": [
      "from numpy import log, exp\n",
      "beta0=1.85*10**7 \n",
      "T=293       #temperature\n",
      "k=1.38*10**-23  #Boltzman constant\n",
      "Ea=0.9*1.6*10**-19 \n",
      "theta=0.65  #thershold\n",
      "betar=beta0*exp(-Ea/(k*T)) \n",
      "t=-log(theta)/betar \n",
      "print \"Degradation rate is %.1e per hour.\\nOperating lifetime is %.1e hour.\" %(betar,t) \n",
      "#answer in the book for Degradation rate & Operating lifetime is wrong."
     ],
     "language": "python",
     "metadata": {},
     "outputs": [
      {
       "output_type": "stream",
       "stream": "stdout",
       "text": [
        "Degradation rate is 6.3e-09 per hour.\n",
        "Operating lifetime is 6.8e+07 hour.\n"
       ]
      }
     ],
     "prompt_number": 12
    }
   ],
   "metadata": {}
  }
 ]
}