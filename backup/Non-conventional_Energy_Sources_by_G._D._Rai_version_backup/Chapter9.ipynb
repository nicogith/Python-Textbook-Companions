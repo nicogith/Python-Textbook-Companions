{
 "metadata": {
  "name": "",
  "signature": "sha256:7f40e58996047c1cb062bf18947910b9a976381238ed50505c43ba92251b46eb"
 },
 "nbformat": 3,
 "nbformat_minor": 0,
 "worksheets": [
  {
   "cells": [
    {
     "cell_type": "heading",
     "level": 1,
     "metadata": {},
     "source": [
      "Chapter9-Energy from the Oceans"
     ]
    },
    {
     "cell_type": "heading",
     "level": 2,
     "metadata": {},
     "source": [
      "Example 9.3.5.1-pg 527"
     ]
    },
    {
     "cell_type": "code",
     "collapsed": false,
     "input": [
      "##Ex9.3.5.1.;Calculate Energy generated\n",
      "import math\n",
      "R=12.;##unit=m; R is the range\n",
      "r=3.;##unit=m; the head below turbine stops operating\n",
      "time=(44700./2.);\n",
      "A=30*10**6;\n",
      "g=9.80;\n",
      "p=1025.;\n",
      "##The total theoretical work W=integrate('1','w',R,r);\n",
      "W=(g*p*A*((R**2)-(r**2)))/2.;\n",
      "print'%s %.2f %s'%(\" W=\",W,\" \");\n",
      "##The average power generated\n",
      "Pav=W/time;##unit=watts\n",
      "print'%s %.2f %s'%(\"\\n The average power generated=\",Pav,\" watts\");\n",
      "pav=(Pav/1000.)*3600.;##unit=kWh\n",
      "print'%s %.2f %s'%(\"\\n The average power generated=\",pav,\" kWh\")\n",
      "##the energy generated\n",
      "Energy_generated=pav*0.73\n",
      "print'%s %.2f %s'%(\"\\n Energy generated=\",Energy_generated,\" kWh\");\n"
     ],
     "language": "python",
     "metadata": {},
     "outputs": [
      {
       "output_type": "stream",
       "stream": "stdout",
       "text": [
        " W= 20341125000000.00  \n",
        "\n",
        " The average power generated= 910117449.66  watts\n",
        "\n",
        " The average power generated= 3276422818.79  kWh\n",
        "\n",
        " Energy generated= 2391788657.72  kWh\n"
       ]
      }
     ],
     "prompt_number": 1
    },
    {
     "cell_type": "heading",
     "level": 2,
     "metadata": {},
     "source": [
      "Example 9.3.6.1-pg529"
     ]
    },
    {
     "cell_type": "code",
     "collapsed": false,
     "input": [
      "##Ex9.3.6.1;calculate power in h.p. at any instant and the yearly power output\n",
      "import math\n",
      "A=0.5*10**6;##unit=m\n",
      "h0=8.5;##unit=m\n",
      "t=3*3600.##unit=s; since t=3 hr\n",
      "p=1025.;##unit=kg/m^3\n",
      "h=8.;##unit=m\n",
      "n0=0.70;##efficiency of the generator;70%\n",
      "##volume of the basin=Ah0\n",
      "volume_of_the_basin=A*h0;\n",
      "##Average discharge Q=volume/time period\n",
      "Q=(A*h0)/t;\n",
      "print'%s %.2f %s %.2f %s '%(\" volume of the basin=\",volume_of_the_basin,\" m^3\"and \" \\n Average discharge Q=\",Q,\" m^3 /s\")\n",
      "##power at any instant\n",
      "P=((Q*p*h)/75)*n0;\n",
      "print'%s %.2f %s'%(\"\\n power at any instant P=\",P,\" h.p.\");\n",
      "##The total energy in kWh/tidal cycle\n",
      "E=P*0.736*3;\n",
      "print'%s %.2f %s'%(\"\\n The total energy in kWh/tidal cycle E=\",E,\"\");\n",
      "##Total number of tidal cycle in a year=705\n",
      "print(\"\\n Total number of tidal cycle in a year=705\");\n",
      "##Therefore Total output per annum\n",
      "Total_output_per_annum=E*705;\n",
      "print'%s %.2f %s'%(\"\\n Total output per annum= \",Total_output_per_annum,\"kWh/year\");\n",
      "\n",
      "##The value of \"power of instant\" in a text book is misprinted.\n"
     ],
     "language": "python",
     "metadata": {},
     "outputs": [
      {
       "output_type": "stream",
       "stream": "stdout",
       "text": [
        " volume of the basin= 4250000.00  \n",
        " Average discharge Q= 393.52  m^3 /s \n",
        "\n",
        " power at any instant P= 30117.28  h.p.\n",
        "\n",
        " The total energy in kWh/tidal cycle E= 66498.96 \n",
        "\n",
        " Total number of tidal cycle in a year=705\n",
        "\n",
        " Total output per annum=  46881768.89 kWh/year\n"
       ]
      }
     ],
     "prompt_number": 3
    }
   ],
   "metadata": {}
  }
 ]
}