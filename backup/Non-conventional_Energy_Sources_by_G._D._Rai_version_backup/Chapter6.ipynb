{
 "metadata": {
  "name": "",
  "signature": "sha256:fa4aed71f1066121dfd73577f913169c9d8ae9a618e0c3fdc846fc1c3ef047bd"
 },
 "nbformat": 3,
 "nbformat_minor": 0,
 "worksheets": [
  {
   "cells": [
    {
     "cell_type": "heading",
     "level": 1,
     "metadata": {},
     "source": [
      "Chapter6-Wind Energy"
     ]
    },
    {
     "cell_type": "heading",
     "level": 2,
     "metadata": {},
     "source": [
      "Example 6.2.1-pg244"
     ]
    },
    {
     "cell_type": "code",
     "collapsed": false,
     "input": [
      "##Ex.6.2.1. \n",
      "import math\n",
      "##For air,the value of gas constant\n",
      "R=0.287 ##unit=kj/kg K\n",
      "##T=15. in degreecalcius\n",
      "T=15.+273.;##in kalvin\n",
      "RT=0.287*10**3*288.;\n",
      "P=1.01325*10**5;##unit=Pa;at 1 atm\n",
      "Vi=15.;##unit=m/s\n",
      "gc=1.;\n",
      "D=120.;##turbine diameter;unit=m\n",
      "N=40./60.;\n",
      "##Air density\n",
      "p=(P/RT);\n",
      "print'%s %.2f %s'%(\"Air density p=\",p,\" kg/M^3\");\n",
      "##1] Total_power= Ptotal=p*A*Vi^3/2*gc\n",
      "##power density =Ptotal/A=p*Vi^3/2*gc\n",
      "power_density=(1./(2.*gc))*(p*Vi**3.);\n",
      "##2] Maximum_power_density=Pmax/A=8*p*Vi^3/27*gc\n",
      "Maximum_power_density=(8./(27.*gc))*(p*Vi**3);\n",
      "print'%s %.2f %s %.2f %s '%(\"\\n power density =Ptotal/A= \",power_density,\" W/m^2\"and \" \\n Maximum power density=Pmax/A= \",Maximum_power_density,\" W/m^2\");\n",
      "##3]Assuming n=35%\n",
      "n=0.35;\n",
      "##let P/A=x\n",
      "x=n*(power_density);\n",
      "print'%s %.2f %s'%(\"\\n P/A=\",x,\" W/m^2\");\n",
      "##4]Total power P= power density * Area\n",
      "Total_power_P=724.*(math.pi/4.)*(D**2) ##Total power P= power density*(%pi/4)*D^2\n",
      "print'%s %.2f %s %.2f %s'%(\"\\n Total_power_P=\",Total_power_P,\" watt\"and \"=\",Total_power_P*10**-3,\" kW\")\n",
      "##5]Torgue at maximum efficiency\n",
      "Tmax=(2./(27.*gc))*((1.226*D*Vi*Vi*Vi)/N);##Tmax=(2/(27*gc))*((p*D*Vi*Vi*Vi)/N);\n",
      "print'%s %.2f %s'%(\"\\n Torgue at maximum efficiency=\",Tmax,\" Newton\")\n",
      "##and maximum axial thurst\n",
      "Fxmax=(3.14/(9.*gc))*1.226*D**2.*Vi**2.;##Fxmax=(%pi/(9*gc))*p*D^2*Vi^2;\n",
      "print'%s %.2f %s'%(\"\\n maximum axial thurst=\",Fxmax,\" Newton\");\n"
     ],
     "language": "python",
     "metadata": {},
     "outputs": [
      {
       "output_type": "stream",
       "stream": "stdout",
       "text": [
        "Air density p= 1.23  kg/M^3\n",
        "\n",
        " power density =Ptotal/A=  2068.65  \n",
        " Maximum power density=Pmax/A=  1225.86  W/m^2 \n",
        "\n",
        " P/A= 724.03  W/m^2\n",
        "\n",
        " Total_power_P= 8188247.09 = 8188.25  kW\n",
        "\n",
        " Torgue at maximum efficiency= 55170.00  Newton\n",
        "\n",
        " maximum axial thurst= 1385870.40  Newton\n"
       ]
      }
     ],
     "prompt_number": 5
    }
   ],
   "metadata": {}
  }
 ]
}