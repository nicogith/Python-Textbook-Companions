{
 "metadata": {
  "name": "",
  "signature": "sha256:49516c3f23d8642eab7059abb4c60afe8871c4f8eaa6c5db6c64f1493784e28a"
 },
 "nbformat": 3,
 "nbformat_minor": 0,
 "worksheets": [
  {
   "cells": [
    {
     "cell_type": "heading",
     "level": 1,
     "metadata": {},
     "source": [
      "Chapter12-Magneto Hydro Dynamic(MHD) Power Generation"
     ]
    },
    {
     "cell_type": "heading",
     "level": 2,
     "metadata": {},
     "source": [
      "Example 12.6.1-pg682"
     ]
    },
    {
     "cell_type": "code",
     "collapsed": false,
     "input": [
      "##Ex12.6.1.;calculate open circuit voltage and maximum power output\n",
      "B=2;##flux density;unit=Wb/m^2\n",
      "u=10**3;##average gas velocity;unit=m/second\n",
      "d=0.50;##distance between plates;unit=m\n",
      "E0=B*u*d;##Open ccircuit voltage\n",
      "print'%s %.2f %s'%(\" Open ccircuit voltage E0=\",E0,\" Volts\");\n",
      "##Generator resistance; Rg=d/sigma*A\n",
      "sigma=10;##Gaseous conductivity;unit=Mho/m\n",
      "A=0.25;##Plate Area;unit=m^2 \n",
      "Rg=d/(sigma*A);\n",
      "print'%s %.2f %s'%(\"\\n Generator resistance Rg=\",Rg,\" Ohm\");\n",
      "##Maximum power\n",
      "Maximum_power=(E0**2)/(4.*Rg);\n",
      "print'%s %.2f %s'%(\"\\n Maximum_power=\",Maximum_power,\" watts\");\n"
     ],
     "language": "python",
     "metadata": {},
     "outputs": [
      {
       "output_type": "stream",
       "stream": "stdout",
       "text": [
        " Open ccircuit voltage E0= 1000.00  Volts\n",
        "\n",
        " Generator resistance Rg= 0.20  Ohm\n",
        "\n",
        " Maximum_power= 1250000.00  watts\n"
       ]
      }
     ],
     "prompt_number": 1
    }
   ],
   "metadata": {}
  }
 ]
}