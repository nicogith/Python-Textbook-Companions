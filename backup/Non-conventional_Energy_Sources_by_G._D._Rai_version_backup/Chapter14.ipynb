{
 "metadata": {
  "name": "",
  "signature": "sha256:f0bae5619ed9c3242b82c3fadf724693800c27dd8d5dc8811bfb1cb1c626c969"
 },
 "nbformat": 3,
 "nbformat_minor": 0,
 "worksheets": [
  {
   "cells": [
    {
     "cell_type": "heading",
     "level": 1,
     "metadata": {},
     "source": [
      "Chapter14-Thermionic Generation"
     ]
    },
    {
     "cell_type": "heading",
     "level": 2,
     "metadata": {},
     "source": [
      "Example 14.4.1-pg738"
     ]
    },
    {
     "cell_type": "code",
     "collapsed": false,
     "input": [
      "##Ex.14.4.1.;Calculate the efficiency of the generator and also compare with the carnot efficiency\n",
      "import  math\n",
      "##cathode work funtion \n",
      "flux_c=2.5;##unit=volts\n",
      "##anode work funtion \n",
      "flux_a=2.;##unit=volts\n",
      "##Temp. of cathode\n",
      "Tc=2000.;##unit=degree k\n",
      "##Temp. of surrounding\n",
      "Ts=1000.;##unit=degree k\n",
      "##plasma potentail drop\n",
      "flux_p=0.1;##unit=volts\n",
      "##Net output voltage\n",
      "V=flux_c-flux_a-flux_p\n",
      "print'%s %.2f %s'%(\" V=\",V,\" volt\");\n",
      "##charge of an electron\n",
      "e=1.6*10**-19;##unit=coulomb\n",
      "##boltzmann constant\n",
      "k=1.38*10**-23;##unit=joule/degree kelvin\n",
      "A=1.20*10**6;\n",
      "##one electron volt=1.6*10**-19 joule\n",
      "##The net current in the generator J=J_cathode-J_anode\n",
      "##let EC=e**(-flux_c/k*Tc)\n",
      "EC=math.e**(-(1.6*10**-19*flux_c)/(k*Tc));\n",
      "J_cathode=A*(Tc*Tc)*EC##J_cathode=A*Tc**2*e**(-flux_c/k*Tc)\n",
      "print'%s %.2f %s'%(\"\\n J_cathode=\",J_cathode,\" amp/m^2\");\n",
      "##let EA=e**(-flux_c/k*Ts)\n",
      "EA=math.e**(-(1.6*10**-19*flux_a)/(k*Ts));\n",
      "J_anode=A*(Ts**2)*EA;##J_cathode=A*Ts**2*e**(-flux_c/k*Ts)\n",
      "print'%s %.2f %s'%(\"\\n J_anode=\",J_anode,\" amp/m^2\");\n",
      "##The net current can be taken =Jc,as Ja can be neglected in comparison with Jc\n",
      "J=J_cathode;\n",
      "print'%s %.2f %s'%(\"\\n J=\",J,\" amp/m^2\");\n",
      "##The heat supplied to the cathode Qc/Ac=J(flux_c+((2*k*Tc)/e))+samestion of sigma*(Tc**4-Ts**4)\n",
      "##let QA=Qc/Ac; and\n",
      "a=2.5+((2*1.38*10**-23*2000.)/(1.6*10**-19));\n",
      "b=J*a;\n",
      "c=(0.2*5.67*(10**-12)*(10**-4)*((2000**4)-(1000**4)));\n",
      "##therefore\n",
      "QA=b+c; ##since: QA=(J*(2.5+((2*(1.38*10**-23)*2000*)/(1.6*10**-19))))+(0.2*5.67*(10**-12)*(10**-4)*((2000**4)-(1000**4)))\n",
      "print'%s %.2f %s'%(\"\\n The heat supplied to the cathode Qc/Ac=\",QA,\" watt/m^2\");\n",
      "##efficiency of the generator\n",
      "ng=((J*V)/(7.026*10**6))*100.;\n",
      "print'%s %.2f %s'%(\"\\n ng=\",ng,\" persent\");\n",
      "##carnot efficiency this device\n",
      "T1=2000;\n",
      "T2=1000;\n",
      "T=2000;\n",
      "nc=((T1-T2)/T)*100;\n",
      "print'%s %.2f %s'%(\"\\n nc=\",nc,\" persent\");\n",
      "\n",
      "\n",
      "##Value of \"The heat supplied to the cathode Qc/Ac\" is given wrong\n",
      "##value of charge e is taken wrong;corrected by giving value 1.6*10**-19\n",
      "##value of J anode is differ from calculated value. \n"
     ],
     "language": "python",
     "metadata": {},
     "outputs": [
      {
       "output_type": "stream",
       "stream": "stdout",
       "text": [
        " V= 0.40  volt\n",
        "\n",
        " J_cathode= 2438475.02  amp/m^2\n",
        "\n",
        " J_anode= 102.00  amp/m^2\n",
        "\n",
        " J= 2438475.02  amp/m^2\n",
        "\n",
        " The heat supplied to the cathode Qc/Ac= 6937461.44  watt/m^2\n",
        "\n",
        " ng= 13.88  persent\n",
        "\n",
        " nc= 0.00  persent\n"
       ]
      }
     ],
     "prompt_number": 2
    }
   ],
   "metadata": {}
  }
 ]
}