{
 "metadata": {
  "name": "",
  "signature": "sha256:f4925d0b2e463188ddde753ce40d3c66c53a733743431193f8411c4532c3afc1"
 },
 "nbformat": 3,
 "nbformat_minor": 0,
 "worksheets": [
  {
   "cells": [
    {
     "cell_type": "heading",
     "level": 1,
     "metadata": {},
     "source": [
      "Chapter8-Geothermal Energy"
     ]
    },
    {
     "cell_type": "heading",
     "level": 2,
     "metadata": {},
     "source": [
      "Example 8.5.1-pg 450"
     ]
    },
    {
     "cell_type": "code",
     "collapsed": false,
     "input": [
      "##Ex8.5.1.;calculate: steam flow rate,cooling water flow,plant efficiency,Heat rate\n",
      "\n",
      "##Enthalpy at point 1 at (31 kg/cm^2)=669.6 kcal/kg\n",
      "##H1=H2=H3,enthalpy remain constant during throttling\n",
      "H1=669.7;##unit= kcal/kg\n",
      "H2=669.7;##unit= kcal/kg\n",
      "H3=669.7;##unit= kcal/kg\n",
      "##At point 3,\n",
      "P3=9.55;##unit= kg/cm^2\n",
      "##specific volume\n",
      "vs3=0.22;##unit=m^3/kg\n",
      "##Entropy\n",
      "S3=1.580\n",
      "T3=190.;##unit=degree C,(degree of superheat=13 degree C)\n",
      "##S4_s at 0.34 kg/cm^2=S3\n",
      "##x4_s=0.838\n",
      "##and H4_s=hs+xL\n",
      "H4_s=72.+(0.838*556)\n",
      "print'%s %.2f %s'%(\" H4_s=\",H4_s,\" kcal/kg\")\n",
      "##Isentropic turbine work=H3-H4_s\n",
      "ITW=H3-H4_s;\n",
      "print'%s %.2f %s'%(\"\\n Isentropic turbine work=\",ITW,\" kcal/kg\");\n",
      "##Actual turbine work\n",
      "ATW=0.80*ITW;\n",
      "print'%s %.2f %s'%(\"\\n Actual turbine work=\",ATW,\" kcal/kg\");\n",
      "H4=669.7-ATW;\n",
      "print'%s %.2f %s'%(\"\\n H4=\",H4,\" kcal/kg\")\n",
      "h5_6=72;##unit= kcal/kg; (Ignoring pump work)\n",
      "##sensible heat   h7=h5=25 kcal/kg\n",
      "h5=25;##unit=kcal/kg\n",
      "h7=25;##unit=kcal/kg\n",
      "##Turbine steam flow\n",
      "TSF=(250*0.860*10**6)/(ATW*0.9);\n",
      "print'%s %.2f %s'%(\"\\n Turbine steam flow=\",TSF,\" kg/hr\");\n",
      "##let\n",
      "m4=TSF;\n",
      "##Turbine volume flow\n",
      "TVF=(TSF/60)*vs3;\n",
      "print'%s %.2f %s'%(\"\\n Turbine volume flow=\",TVF,\" m^3/min\");\n",
      "##cooling water flow m7:m7(h5_6-h7)=m4(H4-h5_6)\n",
      "m7=((H4-h5_6)/(h5_6-h7))*m4;\n",
      "print'%s %.2f %s'%(\"\\n cooling water flow m7=\",m7,\" kg/hr\");\n",
      "Heat_added=H1-h5_6;\n",
      "print'%s %.2f %s'%(\"\\n Heat_added=\",Heat_added,\" kcal/kg\");\n",
      "##plant efficiency=(Actual Turbine work*nmg)/Heat added\n",
      "##nmg=combined mechanical and electrical efficiency of turbine-generator\n",
      "nmg=0.90;\n",
      "Plant_efficiency=(ATW*nmg)/Heat_added;\n",
      "plant_efficiency=Plant_efficiency*100.;\n",
      "print'%s %.2f %s'%(\"\\n Plant Efficiency nplant=\",plant_efficiency,\" persent\");\n",
      "##Plant heat rate=(860*Heat_added)/net_work\n",
      "##net_work=105.36*0.90\n",
      "Plant_heat_rate=(860./Plant_efficiency);\n",
      "print'%s %.2f %s'%(\"\\n Plant heat rate=\",Plant_heat_rate,\" kcal/kWH\");\n",
      "\n",
      "\n",
      "##The value of \"turbine steam flow\" is wrong due to calculating mistak in textbook,due to which the further value related with it is given wrong\n",
      "##The values are corrected in this program\n"
     ],
     "language": "python",
     "metadata": {},
     "outputs": [
      {
       "output_type": "stream",
       "stream": "stdout",
       "text": [
        " H4_s= 537.93  kcal/kg\n",
        "\n",
        " Isentropic turbine work= 131.77  kcal/kg\n",
        "\n",
        " Actual turbine work= 105.42  kcal/kg\n",
        "\n",
        " H4= 564.28  kcal/kg\n",
        "\n",
        " Turbine steam flow= 2266119.59  kg/hr\n",
        "\n",
        " Turbine volume flow= 8309.11  m^3/min\n",
        "\n",
        " cooling water flow m7= 23735548.77  kg/hr\n",
        "\n",
        " Heat_added= 597.70  kcal/kg\n",
        "\n",
        " Plant Efficiency nplant= 15.87  persent\n",
        "\n",
        " Plant heat rate= 5417.84  kcal/kWH\n"
       ]
      }
     ],
     "prompt_number": 1
    },
    {
     "cell_type": "heading",
     "level": 2,
     "metadata": {},
     "source": [
      "Example 8.5.2-pg460"
     ]
    },
    {
     "cell_type": "code",
     "collapsed": false,
     "input": [
      "##Ex8.5.2.;calculate: hot water flow,condenser cooling water flow,cycle efficiency,plant heat rate.\n",
      "import math\n",
      "H1=669.6;##unit=kcal/kg\n",
      "H2=669.6;##unit=kcal/kg\n",
      "##pressure at point 2,is 10.5 kg/cm^2;thus,\n",
      "T2=195.;##unit=degree celcius; (14 degree celcius of superheat)\n",
      "s2=1.567;\n",
      "vsup=0.27;\n",
      "x3s=0.832;\n",
      "H3s=535.;##unit=kcal/kg\n",
      "##Isentropic turbine work\n",
      "ITW=H2-H3s;\n",
      "print'%s %.2f %s'%(\" Isentropic turbine work=\",ITW,\" kcal/kg\");\n",
      "##Actual turbine work\n",
      "ATW=0.65*ITW;\n",
      "print'%s %.2f %s'%(\"\\n Actual turbine work=\",ATW,\" kcal/kg\");\n",
      "H3=669.6-ATW;\n",
      "print'%s %.2f %s'%(\"\\n H3=\",H3,\" kcal/kg\")\n",
      "##h_4-5(ignore bpump work)\n",
      "h4=72.4;##unit=kcal/kg\n",
      "##h6 at 27 degree c\n",
      "h6=27;##unit=kcal/kg\n",
      "##Turbine steam flow or hot water flow=power output/actual turbine work\n",
      "TSF=(10*10**6*0.86)/ATW;\n",
      "print'%s %.2f %s'%(\"\\n Turbine steam flow or hot water flow=\",TSF,\" kg/hr\");\n",
      "##consider cooling water flow  m4:m3*(H3-h4)=m4(h4-h6)\n",
      "##or\n",
      "m4=((582.11-72.4)*0.983*10**5)/(72.4-27);\n",
      "print'%s %.2f %s'%(\"\\n cooling water flow=\",m4,\" kg/hr\");\n",
      "Heat_added=H1-h4\n",
      "print'%s %.2f %s'%(\"\\n Heat_added=\",Heat_added,\" kcal/kg\");\n",
      "##plant efficiency=Turbine work/Heat added\n",
      "Plant_efficiency=(ATW/Heat_added);\n",
      "plant_efficiency=Plant_efficiency*100;\n",
      "print'%s %.2f %s'%(\"\\n Plant Efficiency=\",plant_efficiency,\" persent\");\n",
      "##Plant heat rate=860/Plant Efficiency\n",
      "Plant_heat_rate=860./Plant_efficiency;\n",
      "print'%s %.2f %s'%(\"\\n Plant heat rate=\",Plant_heat_rate,\" kcal/kWh\");\n",
      "\n",
      "\n",
      "##The value of m3=14.03*10^5 is given wrong in the text book;the actual value is m3=11.03*10^5\n"
     ],
     "language": "python",
     "metadata": {},
     "outputs": [
      {
       "output_type": "stream",
       "stream": "stdout",
       "text": [
        " Isentropic turbine work= 134.60  kcal/kg\n",
        "\n",
        " Actual turbine work= 87.49  kcal/kg\n",
        "\n",
        " H3= 582.11  kcal/kg\n",
        "\n",
        " Turbine steam flow or hot water flow= 98296.95  kg/hr\n",
        "\n",
        " cooling water flow= 1103623.19  kg/hr\n",
        "\n",
        " Heat_added= 597.20  kcal/kg\n",
        "\n",
        " Plant Efficiency= 14.65  persent\n",
        "\n",
        " Plant heat rate= 5870.29  kcal/kWh\n"
       ]
      }
     ],
     "prompt_number": 2
    }
   ],
   "metadata": {}
  }
 ]
}