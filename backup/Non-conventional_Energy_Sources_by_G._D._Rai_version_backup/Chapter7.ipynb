{
 "metadata": {
  "name": "",
  "signature": "sha256:db3a4b73a8fab45b9350e86b4ccafb28525678ec132291816297ec3899141497"
 },
 "nbformat": 3,
 "nbformat_minor": 0,
 "worksheets": [
  {
   "cells": [
    {
     "cell_type": "heading",
     "level": 1,
     "metadata": {},
     "source": [
      "Chapter7-Energy from Biomass"
     ]
    },
    {
     "cell_type": "heading",
     "level": 2,
     "metadata": {},
     "source": [
      "Example 7.15.1-pg370"
     ]
    },
    {
     "cell_type": "code",
     "collapsed": false,
     "input": [
      "##Ex7.15.1; calculate volume of biogas digester and power available from the digester\n",
      "##Mass of the dry input\n",
      "M0=2*5;##M0=2.5 kg/day * 5\n",
      "pm=50.;##unit=kg/m^3\n",
      "tr=20.;##retention time in days\n",
      "C=0.24;##unit=m^3 per kg;Biogas yeild.\n",
      "n=0.6;##efficiency of burner\n",
      "Hm=28.;##unit=MJ/m^3##combustion of methane\n",
      "Fm=0.8;##methane proportional\n",
      "##Fluid volume Vf is =M0/pm\n",
      "Vf=M0/pm;\n",
      "print'%s %.2f %s %.2f %s '%(\" Mass of the dry input M0=\",M0,\" kg/day\"and \" \\n Fluid volume Vf=\",Vf,\" m^3 /day\");\n",
      "##for expression Vd=Vftr,the digester volume is\n",
      "Vd=Vf*tr;\n",
      "print'%s %.2f %s'%(\"\\n Vd=\",Vd,\" m^3\");\n",
      "##volume of biogas is Vb=C*M0= biogas yield input * mass of dry input\n",
      "Vb=C*M0;\n",
      "print'%s %.2f %s'%(\"\\n volume of biogas is Vb=\",Vb,\" m^3 /day\");\n",
      "##The Power available from the digester is\n",
      "E=n*Hm*Fm*Vb;\n",
      "print'%s %.2f %s'%(\"\\n The Power available from the digester=\",E,\" Mj/day\");\n",
      "E=E*0.2728;##unit=kWh/day\n",
      "print'%s %.2f %s'%(\"=\",E,\" kWh/day\");\n",
      "E=E*41.8##unit=W(continuous thermal)\n",
      "print'%s %.2f %s'%(\"=\",E,\" W(continuous thermal)\");\n"
     ],
     "language": "python",
     "metadata": {},
     "outputs": [
      {
       "output_type": "stream",
       "stream": "stdout",
       "text": [
        " Mass of the dry input M0= 10.00  \n",
        " Fluid volume Vf= 0.20  m^3 /day \n",
        "\n",
        " Vd= 4.00  m^3\n",
        "\n",
        " volume of biogas is Vb= 2.40  m^3 /day\n",
        "\n",
        " The Power available from the digester= 32.26  Mj/day\n",
        "= 8.80  kWh/day\n",
        "= 367.82  W(continuous thermal)\n"
       ]
      }
     ],
     "prompt_number": 2
    }
   ],
   "metadata": {}
  }
 ]
}