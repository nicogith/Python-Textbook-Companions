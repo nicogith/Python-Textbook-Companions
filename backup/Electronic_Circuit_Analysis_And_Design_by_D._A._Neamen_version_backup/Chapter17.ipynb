{
 "metadata": {
  "name": "",
  "signature": "sha256:abf15ae78837b656bd4ca10fb9d29bc4f18126add8de13c4bce16bc14f199d7a"
 },
 "nbformat": 3,
 "nbformat_minor": 0,
 "worksheets": [
  {
   "cells": [
    {
     "cell_type": "heading",
     "level": 1,
     "metadata": {},
     "source": [
      "Chapter17-Bipolar Digital Circuits"
     ]
    },
    {
     "cell_type": "heading",
     "level": 2,
     "metadata": {},
     "source": [
      "Ex1-pg1115"
     ]
    },
    {
     "cell_type": "code",
     "collapsed": false,
     "input": [
      "import math\n",
      "\n",
      "##Example 17.1\n",
      "V1=5.;\n",
      "V2=-5.;\n",
      "Rc1=1.;\n",
      "Rc2=Rc1;\n",
      "Rc=Rc1;\n",
      "Re=2.150;\n",
      "v2=0.;\n",
      "##for v1=0\n",
      "vE=-0.7;\n",
      "iE=(vE-V2)/Re;\n",
      "print\"%s %.2f %s\"%('\\nemitter current= ',iE,' mA\\n')\n",
      "iC=1.;\n",
      "Vcc=5.;\n",
      "vo1=Vcc-iC*Rc;\n",
      "print\"%s %.2f %s\"%('\\nvo1=vo2= ',vo1,' V\\n')\n",
      "##for v2=-1\n",
      "vE=-0.7;\n",
      "iE=2.;\n",
      "iC2=2.;\n",
      "vo1=5.;\n",
      "vo2=Vcc-iC2*Rc;\n",
      "print\"%s %.2f %s\"%('\\nvo2= ',vo2,' V\\n')\n",
      "v1=1.;\n",
      "Vbe=0.7;\n",
      "vE=v1-Vbe;\n",
      "iE=(vE-V2)/Re;\n",
      "print\"%s %.2f %s\"%('\\nemitter current =',iE,' mA\\n')\n",
      "iC1=iE;\n",
      "vo1=Vcc-iC1*Rc;\n",
      "print\"%s %.2f %s\"%('\\nvo1= ',vo1,' V\\n')\n",
      "vo2=Vcc\n"
     ],
     "language": "python",
     "metadata": {},
     "outputs": [
      {
       "output_type": "stream",
       "stream": "stdout",
       "text": [
        "\n",
        "emitter current=  2.00  mA\n",
        "\n",
        "\n",
        "vo1=vo2=  4.00  V\n",
        "\n",
        "\n",
        "vo2=  3.00  V\n",
        "\n",
        "\n",
        "emitter current = 2.47  mA\n",
        "\n",
        "\n",
        "vo1=  2.53  V\n",
        "\n"
       ]
      }
     ],
     "prompt_number": 1
    },
    {
     "cell_type": "heading",
     "level": 2,
     "metadata": {},
     "source": [
      "Ex2-pg1118"
     ]
    },
    {
     "cell_type": "code",
     "collapsed": false,
     "input": [
      "import math\n",
      "\n",
      "##Example 17.2\n",
      "Vx=-0.7;\n",
      "Vy=Vx;\n",
      "Vbe=0.7;\n",
      "V2=-5.2;\n",
      "Re=1.180;\n",
      "vE=Vx-Vbe;\n",
      "print\"%s %.2f %s\"%('\\nemitter voltage = ',vE,'  V\\n')\n",
      "iE=(vE-V2)/Re;\n",
      "print\"%s %.2f %s\"%('\\nemitter current= ',iE,' mA\\n')\n",
      "Icxy=iE;\n",
      "vo1=-0.7;\n",
      "Rc1=-vo1/Icxy;\n",
      "print\"%s %.2f %s\"%('\\nRc1= ',Rc1,' KOhm\\n')\n",
      "Vnor=vo1-Vbe;\n",
      "print\"%s %.2f %s\"%('\\nNOR output logic 0 value= ',Vnor,' V\\n')\n",
      "Vr=(vo1+Vnor)/2.;\n",
      "vE=Vr-Vbe;\n",
      "print\"%s %.2f %s\"%('\\nvE= ',vE,' V\\n')\n",
      "iE=(vE-V2)/Re;\n",
      "print\"%s %.2f %s\"%('\\niE= ',iE,' mA\\n')\n",
      "vo2=-0.7;\n",
      "iC2=iE;\n",
      "Rc2=-vo2/iC2;\n",
      "print\"%s %.2f %s\"%('\\nRc2= ',Rc2,' KOhm\\n')\n",
      "Vor=vo2-Vbe;\n",
      "print\"%s %.2f %s\"%('\\nOR logic 0 value is= ',Vor,' V\\n')\n"
     ],
     "language": "python",
     "metadata": {},
     "outputs": [
      {
       "output_type": "stream",
       "stream": "stdout",
       "text": [
        "\n",
        "emitter voltage =  -1.40   V\n",
        "\n",
        "\n",
        "emitter current=  3.22  mA\n",
        "\n",
        "\n",
        "Rc1=  0.22  KOhm\n",
        "\n",
        "\n",
        "NOR output logic 0 value=  -1.40  V\n",
        "\n",
        "\n",
        "vE=  -1.75  V\n",
        "\n",
        "\n",
        "iE=  2.92  mA\n",
        "\n",
        "\n",
        "Rc2=  0.24  KOhm\n",
        "\n",
        "\n",
        "OR logic 0 value is=  -1.40  V\n",
        "\n"
       ]
      }
     ],
     "prompt_number": 2
    },
    {
     "cell_type": "heading",
     "level": 2,
     "metadata": {},
     "source": [
      "Ex3-pg1120"
     ]
    },
    {
     "cell_type": "code",
     "collapsed": false,
     "input": [
      "import math\n",
      "\n",
      "##Example 17.3\n",
      "Vr=-1.05;\n",
      "Vbe=0.7;\n",
      "Vb5=Vr+Vbe;\n",
      "print\"%s %.2f %s\"%('\\nVb5 = ',Vb5,' V\\n')\n",
      "R1=0.250;\n",
      "i1=-Vb5/R1;\n",
      "print\"%s %.2f %s\"%('\\ni1= ',i1,' mA\\n')\n",
      "Vy=0.7;\n",
      "V2=-5.2;\n",
      "##let R1+R2=x\n",
      "x=(-2.*Vy-V2)/i1;\n",
      "R2=x-R1;\n",
      "print\"%s %.2f %s\"%('\\nR2= ',R2,' KOhm\\n')\n",
      "iS=i1;\n",
      "Rs=(Vr-V2)/iS;\n",
      "print\"%s %.2f %s\"%('\\nRs= ',Rs,' KOhm\\n')\n"
     ],
     "language": "python",
     "metadata": {},
     "outputs": [
      {
       "output_type": "stream",
       "stream": "stdout",
       "text": [
        "\n",
        "Vb5 =  -0.35  V\n",
        "\n",
        "\n",
        "i1=  1.40  mA\n",
        "\n",
        "\n",
        "R2=  2.46  KOhm\n",
        "\n",
        "\n",
        "Rs=  2.96  KOhm\n",
        "\n"
       ]
      }
     ],
     "prompt_number": 3
    },
    {
     "cell_type": "heading",
     "level": 2,
     "metadata": {},
     "source": [
      "Ex4-pg1121"
     ]
    },
    {
     "cell_type": "code",
     "collapsed": false,
     "input": [
      "import math\n",
      "\n",
      "##Example 17.4\n",
      "Vx=-0.7;\n",
      "Vy=-0.7;\n",
      "iCxy=3.22;##(mA)\n",
      "iCR=0.;\n",
      "i5=1.40;\n",
      "i1=1.40;\n",
      "Vor=-0.7;\n",
      "R4=1.500;\n",
      "Vnor=-1.4;\n",
      "V2=-5.2;\n",
      "R3=1.500;\n",
      "i3=(Vor-V2)/R3;\n",
      "print\"%s %.2f %s\"%('\\ncurrent i3= ',i3,' mA\\n')\n",
      "i4=(Vnor-V2)/R4;\n",
      "print\"%s %.2f %s\"%('\\ncurrent i4 = ',i4, 'mA')\n",
      "P=(iCxy+iCR+i5+i1+i3+i4)*(0.-V2);\n",
      "print\"%s %.2f %s\"%('\\npower dissipation= ',P,' mW\\n')\n"
     ],
     "language": "python",
     "metadata": {},
     "outputs": [
      {
       "output_type": "stream",
       "stream": "stdout",
       "text": [
        "\n",
        "current i3=  3.00  mA\n",
        "\n",
        "\n",
        "current i4 =  2.53 mA\n",
        "\n",
        "power dissipation=  60.08  mW\n",
        "\n"
       ]
      }
     ],
     "prompt_number": 4
    },
    {
     "cell_type": "heading",
     "level": 2,
     "metadata": {},
     "source": [
      "Ex5-pg1122"
     ]
    },
    {
     "cell_type": "code",
     "collapsed": false,
     "input": [
      "import math\n",
      "\n",
      "##Example 17.5\n",
      "b=50.;\n",
      "V2=-5.2;\n",
      "Vbe=0.7;\n",
      "Rc2=0.240;\n",
      "Vor=-0.75;\n",
      "Re=1.180;\n",
      "iE=(Vor-Vbe-V2)/Re;\n",
      "print\"%s %.2f %s\"%('\\nemitter current= ',iE,' mA\\n')\n",
      "iB=iE/(1.+b);\n",
      "iB=iB*1000.;##micro A\n",
      "print\"%s %.2f %s\"%('\\ninput base current= ',iB,' microA\\n')\n",
      "R3=1.500;\n",
      "i3=(Vor-V2)/R3;\n",
      "print\"%s %.2f %s\"%('\\ni3= ',i3,' mA\\n')\n",
      "iB=iB*0.001;##mA\n",
      "N=(-(Vor+Vbe)*(1.+b)/(Rc2)-i3)/iB;\n",
      "print\"%s %.2f %s\"%('\\nN\\n',N,'')\n"
     ],
     "language": "python",
     "metadata": {},
     "outputs": [
      {
       "output_type": "stream",
       "stream": "stdout",
       "text": [
        "\n",
        "emitter current=  3.18  mA\n",
        "\n",
        "\n",
        "input base current=  62.31  microA\n",
        "\n",
        "\n",
        "i3=  2.97  mA\n",
        "\n",
        "\n",
        "N\n",
        " 122.90 \n"
       ]
      }
     ],
     "prompt_number": 5
    },
    {
     "cell_type": "heading",
     "level": 2,
     "metadata": {},
     "source": [
      "Ex7-pg1127"
     ]
    },
    {
     "cell_type": "code",
     "collapsed": false,
     "input": [
      "import math\n",
      " \n",
      "##Example 17.7\n",
      "Vcc=1.7;\n",
      "Re=0.008;##mohm\n",
      "Rc=0.008;##mohm\n",
      "Vy=0.4;\n",
      "Vbe=0.7;\n",
      "Vor=Vcc##logic 1\n",
      "Vor=Vcc-Vy##logic 0\n",
      "Vr=1.5;\n",
      "iE=(Vr-Vbe)/Re;\n",
      "print\"%s %.2f %s\"%('\\nemitter current= ',iE,' microA\\n')\n",
      "iR=Vy/Rc;\n",
      "print\"%s %.2f %s\"%('\\nmaximum current in Rc = ',iR,' microA\\n')\n",
      "iD=iE-iR;\n",
      "print\"%s %.2f %s\"%('\\ncurrent through the diode= ',iD,' microA\\n')\n",
      "P=iE*Vcc;\n",
      "print\"%s %.2f %s\"%('\\npower dissipation= ',P,' microW\\n')\n",
      "Vv=1.7;\n",
      "iE=(Vv-Vbe)/Re;\n",
      "print\"%s %.2f %s\"%('\\niE = ',iE,' microA\\n')\n",
      "P=iE*Vcc;\n",
      "print\"%s %.2f %s\"%('\\npower dissipation = ',P,' microW\\n')\n"
     ],
     "language": "python",
     "metadata": {},
     "outputs": [
      {
       "output_type": "stream",
       "stream": "stdout",
       "text": [
        "\n",
        "emitter current=  100.00  microA\n",
        "\n",
        "\n",
        "maximum current in Rc =  50.00  microA\n",
        "\n",
        "\n",
        "current through the diode=  50.00  microA\n",
        "\n",
        "\n",
        "power dissipation=  170.00  microW\n",
        "\n",
        "\n",
        "iE =  125.00  microA\n",
        "\n",
        "\n",
        "power dissipation =  212.50  microW\n",
        "\n"
       ]
      }
     ],
     "prompt_number": 6
    },
    {
     "cell_type": "heading",
     "level": 2,
     "metadata": {},
     "source": [
      "Ex9-pg1142"
     ]
    },
    {
     "cell_type": "code",
     "collapsed": false,
     "input": [
      "import math\n",
      "\n",
      "##Example 17.9\n",
      "bf=25.;\n",
      "b=bf;\n",
      "br=0.1;\n",
      "Vcc=5.;\n",
      "R1=4.;\n",
      "Vbc=0.7;\n",
      "Vy=0.1;\n",
      "Vx=0.1;\n",
      "R2=1.6;\n",
      "Vbe=0.8;\n",
      "Rc=4.;\n",
      "Vce=0.1;\n",
      "vB2=Vx+Vce;\n",
      "print\"%s %.2f %s\"%('\\nvB2= ',vB2,' V\\n')\n",
      "vB1=Vx+Vbe;\n",
      "print\"%s %.2f %s\"%('\\nbase voltage= ',vB1,' V\\n')\n",
      "i1=(Vcc-vB1)/R1;\n",
      "print\"%s %.2f %s\"%('\\ncurrent i1= ',i1,' mA\\n')\n",
      "vB1=Vbe+Vbe+Vbc;\n",
      "print\"%s %.2f %s\"%('\\nvB1= ',vB1,' V\\n')\n",
      "vC2=Vbe+Vce;\n",
      "print\"%s %.2f %s\"%('\\ncollector voltage= ',vC2,' V\\n')\n",
      "i1=(Vcc-vB1)/R1;\n",
      "print\"%s %.2f %s\"%('\\ncurrent i1 = ',i1,' mA\\n')\n",
      "iB2=(1.+2.*br)*i1;\n",
      "print\"%s %.2f %s\"%('\\niB2= ',iB2,' mA\\n')\n",
      "i2=(Vcc-vC2)/R2;\n",
      "print\"%s %.2f %s\"%('\\ni2 = ',i2,' mA\\n')\n",
      "iE2=i2+iB2;\n",
      "print\"%s %.2f %s\"%('\\niE2= ',iE2,' mA\\n')\n",
      "Rb=1.;\n",
      "i4=Vbe/Rb;\n",
      "print\"%s %.2f %s\"%('\\ncurrent in the pull down resistor= ',i4,' mA\\n')\n",
      "iBo=iE2-i4;\n",
      "print\"%s %.2f %s\"%('\\nbase drive to the output transistor= ',iBo,' mA\\n')\n",
      "i1=(Vcc-Vce)/Rc;\n",
      "print\"%s %.2f %s\"%('\\ni1= ',i1,' mA\\n')\n"
     ],
     "language": "python",
     "metadata": {},
     "outputs": [
      {
       "output_type": "stream",
       "stream": "stdout",
       "text": [
        "\n",
        "vB2=  0.20  V\n",
        "\n",
        "\n",
        "base voltage=  0.90  V\n",
        "\n",
        "\n",
        "current i1=  1.02  mA\n",
        "\n",
        "\n",
        "vB1=  2.30  V\n",
        "\n",
        "\n",
        "collector voltage=  0.90  V\n",
        "\n",
        "\n",
        "current i1 =  0.68  mA\n",
        "\n",
        "\n",
        "iB2=  0.81  mA\n",
        "\n",
        "\n",
        "i2 =  2.56  mA\n",
        "\n",
        "\n",
        "iE2=  3.37  mA\n",
        "\n",
        "\n",
        "current in the pull down resistor=  0.80  mA\n",
        "\n",
        "\n",
        "base drive to the output transistor=  2.57  mA\n",
        "\n",
        "\n",
        "i1=  1.23  mA\n",
        "\n"
       ]
      }
     ],
     "prompt_number": 7
    },
    {
     "cell_type": "heading",
     "level": 2,
     "metadata": {},
     "source": [
      "Ex11-pg1150"
     ]
    },
    {
     "cell_type": "code",
     "collapsed": false,
     "input": [
      "import math\n",
      "\n",
      "##Example 17.11\n",
      "b=25.;\n",
      "iB=1.;\n",
      "iC=2.;\n",
      "ic=(iB+iC)/(1.+1./b);\n",
      "print\"%s %.2f %s\"%('\\ninternal collector current= ',ic,' mA\\n',)\n",
      "ib=ic/b;\n",
      "print\"%s %.2f %s\"%('\\ninternal base current = ',ib,' mA\\n')\n",
      "iD=iB-ib;\n",
      "print\"%s %.2f %s\"%('\\nSchottky diode current= ',iD,' mA\\n')\n",
      "iC=20.;\n",
      "ic=(iB+iC)/(1.+1./b);\n",
      "print\"%s %.2f %s\"%('\\ninternal collector current= ',ic,' mA\\n')\n",
      "ib=ic/b;\n",
      "print\"%s %.2f %s\"%('\\ninternal base current = ',ib,' mA\\n')\n",
      "iD=iB-ib;\n",
      "print\"%s %.2f %s\"%('\\nSchottky diode current= ',iD,' mA\\n')\n"
     ],
     "language": "python",
     "metadata": {},
     "outputs": [
      {
       "output_type": "stream",
       "stream": "stdout",
       "text": [
        "\n",
        "internal collector current=  2.88  mA\n",
        "\n",
        "\n",
        "internal base current =  0.12  mA\n",
        "\n",
        "\n",
        "Schottky diode current=  0.88  mA\n",
        "\n",
        "\n",
        "internal collector current=  20.19  mA\n",
        "\n",
        "\n",
        "internal base current =  0.81  mA\n",
        "\n",
        "\n",
        "Schottky diode current=  0.19  mA\n",
        "\n"
       ]
      }
     ],
     "prompt_number": 8
    },
    {
     "cell_type": "heading",
     "level": 2,
     "metadata": {},
     "source": [
      "Ex12-pg1154"
     ]
    },
    {
     "cell_type": "code",
     "collapsed": false,
     "input": [
      "import math\n",
      "\n",
      "##Example 17.12\n",
      "Vy=0.3;\n",
      "Vbe=0.7;\n",
      "vx=0.4;\n",
      "R2=8.;\n",
      "Vce=0.4;\n",
      "Vcc=5.;\n",
      "b=25.;\n",
      "Vce=0.4;\n",
      "Vbe1=0.7;\n",
      "Vbe2=0.7;\n",
      "Vcc=5.;\n",
      "R1=20.;\n",
      "v1=Vce+Vy;\n",
      "i1=(Vcc-v1)/R1;\n",
      "print\"%s %.2f %s\"%('\\ni1= ',i1,' mA\\n')\n",
      "Pl=i1*(Vcc-vx);\n",
      "print\"%s %.2f %s\"%('\\npower dissipation= ',Pl,' mW\\n')\n",
      "v1=Vbe1+Vbe2;\n",
      "print\"%s %.2f %s\"%('\\nv1= ',v1,' V\\n')\n",
      "vC2=Vbe1+Vce;\n",
      "print\"%s %.2f %s\"%('\\nvoltage vC2  =',vC2,' V\\n')\n",
      "i1=(Vcc-v1)/R1;\n",
      "print\"%s %.2f %s\"%('\\ncurrent i1 = ',i1,' mA\\n')\n",
      "i2=(Vcc-vC2)/R2;\n",
      "print\"%s %.2f %s\"%('\\ncurrent i2 = ',i2,' mA\\n')\n",
      "P=(i1+i2)*Vcc;\n",
      "print\"%s %.2f %s\"%('\\npower dissipation for high input condition= ',P,' mW\\n')\n"
     ],
     "language": "python",
     "metadata": {},
     "outputs": [
      {
       "output_type": "stream",
       "stream": "stdout",
       "text": [
        "\n",
        "i1=  0.21  mA\n",
        "\n",
        "\n",
        "power dissipation=  0.99  mW\n",
        "\n",
        "\n",
        "v1=  1.40  V\n",
        "\n",
        "\n",
        "voltage vC2  = 1.10  V\n",
        "\n",
        "\n",
        "current i1 =  0.18  mA\n",
        "\n",
        "\n",
        "current i2 =  0.49  mA\n",
        "\n",
        "\n",
        "power dissipation for high input condition=  3.34  mW\n",
        "\n"
       ]
      }
     ],
     "prompt_number": 9
    }
   ],
   "metadata": {}
  }
 ]
}