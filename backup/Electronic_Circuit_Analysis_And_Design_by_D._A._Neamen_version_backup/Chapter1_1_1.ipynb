{
 "metadata": {
  "name": "",
  "signature": "sha256:12fda3be337124becb50b8ef7de2608c3b358deb143d70552beef4ab1e72fe80"
 },
 "nbformat": 3,
 "nbformat_minor": 0,
 "worksheets": [
  {
   "cells": [
    {
     "cell_type": "heading",
     "level": 1,
     "metadata": {},
     "source": [
      "Chapter1-Semiconductor materials and diodes"
     ]
    },
    {
     "cell_type": "heading",
     "level": 2,
     "metadata": {},
     "source": [
      "Ex1-pg6"
     ]
    },
    {
     "cell_type": "code",
     "collapsed": false,
     "input": [
      "import math\n",
      "#calculate the \n",
      "##Example 1.1\n",
      "T=300.;##((K)temperature)\n",
      "##for silicon\n",
      "B=5.23*10**(15);##Constant (per centimeter cube degree kelvin)\n",
      "Eg=1.1;##bandgap energy in electrovolt(eV)\n",
      "k=86.*10**(-6);##Boltzmann's constant(eV per degree kelvin)\n",
      "n_i=B*T**(3/2.)*math.exp(-Eg/(2.*k*T));##intrinsic carrier concentration\n",
      "print\"%s %.2f %s\"%('intrinsic carrier concentration= ',n_i,' cm^-3');\n",
      "\n"
     ],
     "language": "python",
     "metadata": {},
     "outputs": [
      {
       "output_type": "stream",
       "stream": "stdout",
       "text": [
        "intrinsic carrier concentration=  14995738948.72  cm^-3\n"
       ]
      }
     ],
     "prompt_number": 1
    },
    {
     "cell_type": "heading",
     "level": 2,
     "metadata": {},
     "source": [
      "Ex2-pg8"
     ]
    },
    {
     "cell_type": "code",
     "collapsed": false,
     "input": [
      "\n",
      "import math\n",
      "\n",
      "#calculate the\n",
      "\n",
      "##Example 1.2 \n",
      "T=300.;##(K)Given Temperature\n",
      "Nd=10**16;##(cm^-3)Donor concentration\n",
      "n_i=1.5*10**10;##(cm^-3)intrinsic carrier concentration\n",
      "##since Nd>>n_i\n",
      "n_o=10**16;##(cm^-3)electron concentration\n",
      "##by using formula ::n_i^2=n_o*p_o\n",
      "p_o=(n_i)**2/Nd;##hole concentration\n",
      "print\"%s %.2e %s\"%('\\nelectron concentration= ',n_o,' cm^-3');\n",
      "print\"%s %.2e %s\"%('\\nhole concentration = ',p_o,' cm^-3');\n"
     ],
     "language": "python",
     "metadata": {},
     "outputs": [
      {
       "output_type": "stream",
       "stream": "stdout",
       "text": [
        "\n",
        "electron concentration=  1.00e+16  cm^-3\n",
        "\n",
        "hole concentration =  2.25e+04  cm^-3\n"
       ]
      }
     ],
     "prompt_number": 2
    },
    {
     "cell_type": "heading",
     "level": 2,
     "metadata": {},
     "source": [
      "Ex3-pg13"
     ]
    },
    {
     "cell_type": "code",
     "collapsed": false,
     "input": [
      "import math\n",
      "#calculate the \n",
      "##Example1.3\n",
      "T=300;##(K)Given Temperature\n",
      "Na=10**16;##(cm^-3)Acceptor concentration in p region\n",
      "Nd=10**17;##(cm^-3)Donor concentration in n region\n",
      "n_i=1.5*10**10;##(cm^-3)intrinsic carrier concentration\n",
      "V_T=0.026;##(Volt)terminal voltage\n",
      "##built-in potential\n",
      "V_bi=V_T*math.log(Na*Nd/(n_i)**2);\n",
      "print\"%s %.2f %s\"%('\\nthe built-in potential= ',V_bi,'V')\n",
      "\n",
      "\n"
     ],
     "language": "python",
     "metadata": {},
     "outputs": [
      {
       "output_type": "stream",
       "stream": "stdout",
       "text": [
        "\n",
        "the built-in potential=  0.76 V\n"
       ]
      }
     ],
     "prompt_number": 3
    },
    {
     "cell_type": "heading",
     "level": 2,
     "metadata": {},
     "source": [
      "Ex4-pg15"
     ]
    },
    {
     "cell_type": "code",
     "collapsed": false,
     "input": [
      "import math\n",
      "#calculate the \n",
      "##Example 1.4\n",
      "T=300.;##(K)Given Temperature\n",
      "Na=10**16;##(cm**-3)Acceptor concentration in p region\n",
      "Nd=10**15;##(cm**-3)Donor concentration in n region\n",
      "n_i=1.5*10**10;##(cm**-3)intrinsic carrier concentration\n",
      "C_jo=0.5;##(pF)junction capacitance at zero applied voltage\n",
      "V_T=0.026;##(Volt)terminal voltage\n",
      "##built-in potential\n",
      "V_bi=V_T*math.log(Na*Nd/(n_i)**2);\n",
      "print\"%s %.2f %s\"%(\"the built-in potential(V)\",V_bi,\"\")\n",
      "##the junction capacitance for\n",
      "V_R=1.;##(V)reverse bias voltage\n",
      "Cj=C_jo*(1.+V_R/V_bi)**(-1/2.);\n",
      "print\"%s %.2f %s\"%('\\nthe junction capacitance for V_R=1V= ',Cj,' pF\\n')\n",
      "V_R=5.;##(V)reverse bias voltage\n",
      "Cj=C_jo*(1.+V_R/V_bi)**(-1/2.);\n",
      "print\"%s %.2f %s\"%('\\nthe junction capacitance for V_R=5V = ',Cj,' pF')\n"
     ],
     "language": "python",
     "metadata": {},
     "outputs": [
      {
       "output_type": "stream",
       "stream": "stdout",
       "text": [
        "the built-in potential(V) 0.64 \n",
        "\n",
        "the junction capacitance for V_R=1V=  0.31  pF\n",
        "\n",
        "\n",
        "the junction capacitance for V_R=5V =  0.17  pF\n"
       ]
      }
     ],
     "prompt_number": 4
    },
    {
     "cell_type": "heading",
     "level": 2,
     "metadata": {},
     "source": [
      "Ex5-pg17"
     ]
    },
    {
     "cell_type": "code",
     "collapsed": false,
     "input": [
      "import math\n",
      "#calculate the \n",
      "##Example 1.5\n",
      "T=300.;##(K)Given Temperature\n",
      "V_T=0.026;##(Volt)terminal voltage\n",
      "Is=10**-11;##(mA)reverse bias saturation current\n",
      "n=1.;##emission coefficient\n",
      "v_D=+0.7;##(V)applied voltage\n",
      "##pn junction is forward biased\n",
      "i_D=Is*(math.exp(v_D/V_T)-1.);##diode current\n",
      "print\"%s %.2f %s\"%('\\ndiode current= ',i_D,' mA\\n')\n",
      "v_D=-0.7;##(V)pn junction is reverse biased\n",
      "Is=10**-14##A;\n",
      "i_D=Is*(math.exp(v_D/V_T)-1);##diode current\n",
      "print\"%s %.2e %s\"%('\\ndiode current= ',i_D,' A')\n"
     ],
     "language": "python",
     "metadata": {},
     "outputs": [
      {
       "output_type": "stream",
       "stream": "stdout",
       "text": [
        "\n",
        "diode current=  4.93  mA\n",
        "\n",
        "\n",
        "diode current=  -1.00e-14  A\n"
       ]
      }
     ],
     "prompt_number": 5
    },
    {
     "cell_type": "heading",
     "level": 2,
     "metadata": {},
     "source": [
      "Ex6-pg25"
     ]
    },
    {
     "cell_type": "code",
     "collapsed": false,
     "input": [
      "import math\n",
      "#calculate the \n",
      "##Example 1.6\n",
      "Is=10**-13;##(A)reverse saturation current\n",
      "V_PS=5.;##(V)applied voltage\n",
      "R=2;##(KOhm)Resistance in circuit\n",
      "V_T=0.026;##(Volt)terminal voltage\n",
      "##V_PS=Is*R*(exp(V_D/V_T)-1)+V_D\n",
      "##5=(10^-13)*(2000)*(exp(V_D/V_T)-1)+V_D\n",
      "##let right side of equation be x=(10^-13)*(2000)*(exp(V_D/V_T)-1)+V_D\n",
      "V_D=0.6;##(V)\n",
      "x=(10**-13)*(2000.)*(math.exp(V_D/V_T)-1.)+V_D\n",
      "##so the equation is not balanced\n",
      "V_D=0.65;##(V)\n",
      "x=(10**-13)*(2000.)*(math.exp(V_D/V_T)-1.)+V_D\n",
      "##again equation is not balanced .solution for V_D is between 0.6V and 0.65V\n",
      "V_D=0.619;##(V)\n",
      "x=(10**-13)*(2000.)*(math.exp(V_D/V_T)-1.)+V_D\n",
      "##essentially equal to the value of the left side of the equation i.e 5V\n",
      "print\"%s %.2f %s\"%('\\ndiode voltage= ',V_D,' V')\n",
      "I_D=(V_PS-V_D)/R;##(A)diode current\n",
      "print\"%s %.2f %s\"%('\\nthe diode current= ',I_D,' mA')\n"
     ],
     "language": "python",
     "metadata": {},
     "outputs": [
      {
       "output_type": "stream",
       "stream": "stdout",
       "text": [
        "\n",
        "diode voltage=  0.62  V\n",
        "\n",
        "the diode current=  2.19  mA\n"
       ]
      }
     ],
     "prompt_number": 6
    },
    {
     "cell_type": "heading",
     "level": 2,
     "metadata": {},
     "source": [
      "Ex7-pg28"
     ]
    },
    {
     "cell_type": "code",
     "collapsed": false,
     "input": [
      "import math\n",
      "#calculate the \n",
      "##Example 1.7\n",
      "##piecewise linear diode parameters\n",
      "V_Y=0.6;##(V)\n",
      "r_f=0.010;##(KOhm)\n",
      "V_PS=5.;##(V)applied voltage\n",
      "R=2.;##(KOhm)Resistance in circuit\n",
      "I_D=(V_PS-V_Y)/(R+r_f);##(A)diode current\n",
      "print\"%s %.2f %s\"%('\\nthe diode current= ',I_D,' mA\\n')\n",
      "V_D=V_Y+I_D*r_f;##(V)diode voltage\n",
      "print\"%s %.2f %s\"%('\\ndiode voltage= ',V_D,' V')\n"
     ],
     "language": "python",
     "metadata": {},
     "outputs": [
      {
       "output_type": "stream",
       "stream": "stdout",
       "text": [
        "\n",
        "the diode current=  2.19  mA\n",
        "\n",
        "\n",
        "diode voltage=  0.62  V\n"
       ]
      }
     ],
     "prompt_number": 7
    },
    {
     "cell_type": "heading",
     "level": 2,
     "metadata": {},
     "source": [
      "Ex9-pg33"
     ]
    },
    {
     "cell_type": "code",
     "collapsed": false,
     "input": [
      "import math\n",
      "#calculate the \n",
      "##Example 1.9 \n",
      "##circuit and diode parameters \n",
      "V_PS=5.;##(V)\n",
      "R=5;##(KOhm)\n",
      "V_Y=0.6;##(V)\n",
      "V_T=0.026;##(Volt)terminal voltage\n",
      "v_i=0.1##*sin(wt)Volt\n",
      "##dc analysis\n",
      "I_DQ=(V_PS-V_Y)/R;\n",
      "print\"%s %.2f %s\"%('\\ndc quiescent current= ',I_DQ,' mA\\n')\n",
      "V_O=I_DQ*R;\n",
      "print\"%s %.2f %s\"%('\\ndc output voltage= ',V_O,' V\\n')\n",
      "##ac analysis\n",
      "V_PS=0.;\n",
      "##Kirchhoff voltage law equation becomes\n",
      "##v_i=i_d*r_d+i_d*R\n",
      "r_d=V_T/I_DQ##(Ohm)small signal diode diffusion resistance\n",
      "i_d=v_i/(r_d+R);##ac diode current\n",
      "print\"%s %.2f %s\"%('\\nac diode current= ',i_d,'sin(wt) A\\n')\n",
      "\n",
      "v_o=i_d*R;##ac output voltage\n",
      "print\"%s %.2f %s\"%('\\nac output voltage= ',v_o,'sin(wt) V')\n"
     ],
     "language": "python",
     "metadata": {},
     "outputs": [
      {
       "output_type": "stream",
       "stream": "stdout",
       "text": [
        "\n",
        "dc quiescent current=  0.88  mA\n",
        "\n",
        "\n",
        "dc output voltage=  4.40  V\n",
        "\n",
        "\n",
        "ac diode current=  0.02 sin(wt) A\n",
        "\n",
        "\n",
        "ac output voltage=  0.10 sin(wt) V\n"
       ]
      }
     ],
     "prompt_number": 8
    },
    {
     "cell_type": "heading",
     "level": 2,
     "metadata": {},
     "source": [
      "Ex10-pg38"
     ]
    },
    {
     "cell_type": "code",
     "collapsed": false,
     "input": [
      "import math\n",
      "#calculate the \n",
      "##Example 1.10\n",
      "V_Y=0.7;##(V)cut in voltage for pn junction\n",
      "r_f=0.;\n",
      "V_PS=4;##(V)\n",
      "R1=4.\n",
      "R2=4.##(KOhm) from given circuit\n",
      "I1=(V_PS-V_Y)/R1;\n",
      "print\"%s %.2f %s\"%('\\ncurrent through pn junction diode= ',I1,' mA\\n')\n",
      "V_Y=0.3;##(V)cut in voltage for Schottky diode\n",
      "I2=(V_PS-V_Y)/R2;\n",
      "print\"%s %.2f %s\"%('\\ncurrent through Schottky diode= ',I2,' mA\\n')\n"
     ],
     "language": "python",
     "metadata": {},
     "outputs": [
      {
       "output_type": "stream",
       "stream": "stdout",
       "text": [
        "\n",
        "current through pn junction diode=  0.82  mA\n",
        "\n",
        "\n",
        "current through Schottky diode=  0.93  mA\n",
        "\n"
       ]
      }
     ],
     "prompt_number": 9
    },
    {
     "cell_type": "heading",
     "level": 2,
     "metadata": {},
     "source": [
      "Ex11-pg40"
     ]
    },
    {
     "cell_type": "code",
     "collapsed": false,
     "input": [
      "import math\n",
      "#calculate the \n",
      "##Example 1.11 \n",
      "V_Z=5.6;##(V)Zener diode breakdown voltage\n",
      "r_z=0.;##(Ohm)Zener resistance\n",
      "I=3.;##(mA)current in the diode\n",
      "V_PS=10.;##(V)\n",
      "##I=(V_PS-V_Z)/R\n",
      "R=(V_PS-V_Z)/I;\n",
      "print\"%s %.2f %s\"%('\\nresistance= ',R,' KOhm\\n')\n"
     ],
     "language": "python",
     "metadata": {},
     "outputs": [
      {
       "output_type": "stream",
       "stream": "stdout",
       "text": [
        "\n",
        "resistance=  1.47  KOhm\n",
        "\n"
       ]
      }
     ],
     "prompt_number": 10
    }
   ],
   "metadata": {}
  }
 ]
}