{
 "metadata": {
  "name": "",
  "signature": "sha256:d79e0ffa0dc246919c405ced6f920658f107cc2f3da7e821333d37e6758e0306"
 },
 "nbformat": 3,
 "nbformat_minor": 0,
 "worksheets": [
  {
   "cells": [
    {
     "cell_type": "heading",
     "level": 1,
     "metadata": {},
     "source": [
      "Chapter13-Operational Amplifier Circuits "
     ]
    },
    {
     "cell_type": "heading",
     "level": 2,
     "metadata": {},
     "source": [
      "Ex1-pg824"
     ]
    },
    {
     "cell_type": "code",
     "collapsed": false,
     "input": [
      "import math\n",
      "\n",
      "\n",
      "V1=15.;##positive supply voltage\n",
      "V2=-15.;##negative supply voltage\n",
      "Veb12=-0.6;\n",
      "Vbe11=0.6;\n",
      "Rs=40.;\n",
      "Iref=(V1-V2-Veb12-Vbe11)/Rs;\n",
      "print\"%s %.2f %s\"%('\\nreference current= ',Iref,' mA\\n')\n",
      "Ic10=19.;\n",
      "Ic1=Ic10/2.;\n",
      "print\"%s %.2f %s\"%('\\nIc1=Ic2=Ic3=Ic4= ',Ic1,'microA\\n')\n",
      "Ic1=Ic1*0.001;##mA\n",
      "Vbe7=0.6;\n",
      "Vbe6=0.6;\n",
      "Ic6=Ic1;\n",
      "R2=1.;\n",
      "Vc6=Vbe7+Vbe6+Ic6*R2+V2;\n",
      "print\"%s %.2f %s\"%('\\nvoltage at collector of Q6= ',Vc6,' V\\n')\n"
     ],
     "language": "python",
     "metadata": {},
     "outputs": [
      {
       "output_type": "stream",
       "stream": "stdout",
       "text": [
        "\n",
        "reference current=  0.75  mA\n",
        "\n",
        "\n",
        "Ic1=Ic2=Ic3=Ic4=  9.50 microA\n",
        "\n",
        "\n",
        "voltage at collector of Q6=  -13.79  V\n",
        "\n"
       ]
      }
     ],
     "prompt_number": 1
    },
    {
     "cell_type": "heading",
     "level": 2,
     "metadata": {},
     "source": [
      "Ex2-pg827"
     ]
    },
    {
     "cell_type": "code",
     "collapsed": false,
     "input": [
      "import math\n",
      "\n",
      "##Example 13.2\n",
      "Iref=0.72;\n",
      "Ic17=0.75*Iref;\n",
      "print\"%s %.2f %s\"%('\\ncollector currents in Q17= ',Ic17,' mA\\n')\n",
      "b=200.;\n",
      "Ib17=Ic17/b;\n",
      "Ie17=Ic17;\n",
      "R8=0.100;\n",
      "Vbe17=0.6;\n",
      "R9=50.;\n",
      "Ic16=Ib17+(Ie17*R8+Vbe17)/R9;\n",
      "Ic16=Ic16*1000.;\n",
      "print\"%s %.2f %s\"%('\\ncollector current in Q16= ',Ic16,' microA\\n')\n"
     ],
     "language": "python",
     "metadata": {},
     "outputs": [
      {
       "output_type": "stream",
       "stream": "stdout",
       "text": [
        "\n",
        "collector currents in Q17=  0.54  mA\n",
        "\n",
        "\n",
        "collector current in Q16=  15.78  microA\n",
        "\n"
       ]
      }
     ],
     "prompt_number": 2
    },
    {
     "cell_type": "heading",
     "level": 2,
     "metadata": {},
     "source": [
      "Ex3-pg829"
     ]
    },
    {
     "cell_type": "code",
     "collapsed": false,
     "input": [
      "import math\n",
      "\n",
      "##Example 13.3\n",
      "Is1=10**-14;##reverse saturation currents for Q18 Q19\n",
      "Is2=3*10**-14;##reverse saturation currents for Q14 Q20\n",
      "Iref=0.72;\n",
      "Vt=0.026;\n",
      "Ic13a=0.25*Iref;\n",
      "print\"%s %.2f %s\"%('\\nIc13a= ',Ic13a,' mA\\n')\n",
      "Vbe19=0.6;\n",
      "R10=50.;\n",
      "Ir1o=Vbe19/R10;\n",
      "print\"%s %.2f %s\"%('\\ncurrent in Ro= ',Ir1o,' mA\\n')\n",
      "Ic19=Ic13a-Ir1o;\n",
      "print\"%s %.2f %s\"%('\\ncurrent in Q19 = ',Ic19,'mA\\n')\n",
      "Ic19=Ic19*0.001;##A\n",
      "Vbe19=Vt*math.log(Ic19/Is1);\n",
      "print\"%s %.2f %s\"%('\\nB-E voltage of Q19= ',Vbe19,' V\\n')\n",
      "b=200.;\n",
      "Ic19=Ic19*10**6;##micro A\n",
      "Iv19=Ic19*1000.;\n",
      "Ib18=Ic19/b;\n",
      "Ir1o=Ir1o*1000.;\n",
      "print\"%s %.2f %s\"%('\\nbase current in Q18= ',Ib18,' microA\\n')\n",
      "Ic18=Ir1o+Ib18;\n",
      "print\"%s %.2f %s\"%('\\ncurrents in Q18= ',Ic18,' microA\\n')\n",
      "Ic18=Ic18*10**-6;\n",
      "Vbe18=Vt*math.log(Ic18/Is1);\n",
      "print\"%s %.2f %s\"%('\\nB-E voltage of Q18= ',Vbe18,' V\\n')\n",
      "Vbb=Vbe18+Vbe19;\n",
      "print\"%s %.2f %s\"%('\\nvoltage difference Vbb= ',Vbb,' V\\n')\n",
      "Ic14=Is2*math.exp(Vbb/(2.*Vt));\n",
      "Ic14=Ic14*10**6;##micro A\n",
      "print\"%s %.2f %s\"%('\\nquiescent currents in Q14 and Q20  ',Ic14,'microA\\n')\n"
     ],
     "language": "python",
     "metadata": {},
     "outputs": [
      {
       "output_type": "stream",
       "stream": "stdout",
       "text": [
        "\n",
        "Ic13a=  0.18  mA\n",
        "\n",
        "\n",
        "current in Ro=  0.01  mA\n",
        "\n",
        "\n",
        "current in Q19 =  0.17 mA\n",
        "\n",
        "\n",
        "B-E voltage of Q19=  0.61  V\n",
        "\n",
        "\n",
        "base current in Q18=  0.84  microA\n",
        "\n",
        "\n",
        "currents in Q18=  12.84  microA\n",
        "\n",
        "\n",
        "B-E voltage of Q18=  0.55  V\n",
        "\n",
        "\n",
        "voltage difference Vbb=  1.16  V\n",
        "\n",
        "\n",
        "quiescent currents in Q14 and Q20   139.33 microA\n",
        "\n"
       ]
      }
     ],
     "prompt_number": 3
    },
    {
     "cell_type": "heading",
     "level": 2,
     "metadata": {},
     "source": [
      "Ex4-pg832"
     ]
    },
    {
     "cell_type": "code",
     "collapsed": false,
     "input": [
      "import math\n",
      "\n",
      "##Example 13.4\n",
      "b=200.;\n",
      "Va=50.\n",
      "Vt=0.026;\n",
      "R2=1.;\n",
      "Ic6=0.0095;\n",
      "Ic4=Ic6;\n",
      "Ic16=0.0158;\n",
      "Ic17=0.54;\n",
      "r17=b*Vt/Ic17;\n",
      "print\"%s %.2f %s\"%('\\ninput resistance to gain stage= ',r17,' KOhm\\n')\n",
      "R9=50.;\n",
      "R8=0.100;\n",
      "x=r17+(1.+b)*R8;\n",
      "Re=x*R9/(x+R9);\n",
      "print\"%s %.2f %s\"%('\\nRe= ',Re,' KOhm\\n')\n",
      "r16=b*Vt/Ic16;\n",
      "print\"%s %.2f %s\"%('\\nr16= ',r16,' KOhm\\n')\n",
      "Ri2=r16+(1.+b)*Re;\n",
      "Ri2=Ri2*0.001;##MOhm\n",
      "print\"%s %.2f %s\"%('\\nRi2= ',Ri2,' KOhm\\n')\n",
      "r6=b*Vt/Ic6;\n",
      "print\"%s %.2f %s\"%('\\nresistance of the active load= ',r6,' KOhm\\n')\n",
      "gm=Ic6/Vt;\n",
      "print\"%s %.2f %s\"%('\\ntransconductance = ',gm,'mA/V\\n')\n",
      "ro6=Va/Ic6;\n",
      "ro6=ro6*0.001;##MOhm\n",
      "print\"%s %.2f %s\"%('\\nro6= ',ro6,' MOhm\\n')\n",
      "R=ro6*(1.+gm*R2*r6/(R2+r6));\n",
      "print\"%s %.2f %s\"%('\\neffective resistance of active load= ',R,' MOhm\\n')\n",
      "ro4=Va/Ic4;\n",
      "ro4=ro4*0.001;##Mohm\n",
      "print\"%s %.2f %s\"%('\\nResistance ro4= ',ro4,' KOhm\\n')\n",
      "Icq=9.5;\n",
      "x=Ri2*R/(R+Ri2);\n",
      "y=ro4*x/(ro4+x);\n",
      "Ad=-y*Icq/Vt;\n",
      "print\"%s %.2f %s\"%('\\nsmall signal differential voltage gain=\\n',Ad,'')\n"
     ],
     "language": "python",
     "metadata": {},
     "outputs": [
      {
       "output_type": "stream",
       "stream": "stdout",
       "text": [
        "\n",
        "input resistance to gain stage=  9.63  KOhm\n",
        "\n",
        "\n",
        "Re=  18.64  KOhm\n",
        "\n",
        "\n",
        "r16=  329.11  KOhm\n",
        "\n",
        "\n",
        "Ri2=  4.08  KOhm\n",
        "\n",
        "\n",
        "resistance of the active load=  547.37  KOhm\n",
        "\n",
        "\n",
        "transconductance =  0.37 mA/V\n",
        "\n",
        "\n",
        "ro6=  5.26  MOhm\n",
        "\n",
        "\n",
        "effective resistance of active load=  7.18  MOhm\n",
        "\n",
        "\n",
        "Resistance ro4=  5.26  KOhm\n",
        "\n",
        "\n",
        "small signal differential voltage gain=\n",
        " -635.97 \n"
       ]
      }
     ],
     "prompt_number": 4
    },
    {
     "cell_type": "heading",
     "level": 2,
     "metadata": {},
     "source": [
      "Ex5-pg835"
     ]
    },
    {
     "cell_type": "code",
     "collapsed": false,
     "input": [
      "import math\n",
      "\n",
      "##Example 13.5\n",
      "bp=50.;\n",
      "bn=200.;\n",
      "Va=50.;\n",
      "R9=50.;\n",
      "R8=0.100;\n",
      "Rl=2.;\n",
      "Vt=0.026;\n",
      "Ri2=4070.;\n",
      "Ic20=0.138;\n",
      "r20=bp*Vt/Ic20;\n",
      "print\"%s %.2f %s\"%('\\nr20= ',r20,' KOhm\\n')\n",
      "R20=r20+(1.+bp)*Rl;\n",
      "print\"%s %.2f %s\"%('\\nR20= ',R20,' KOhm\\n')\n",
      "Ic13A=0.18;\n",
      "R19=Va/Ic13A;\n",
      "print\"%s %.2f %s\"%('\\nR19= ',R19,' KOhm\\n')\n",
      "r22=bp*Vt/Ic13A;\n",
      "print\"%s %.2f %s\"%('\\nr22= ',r22,' KOhm\\n')\n",
      "Ri3=r22+(1.+bp)*R19*R20/(R19+R20);\n",
      "Ri3=Ri3*0.001;##MOhm\n",
      "print\"%s %.2f %s\"%('\\ninput resistance to the output stage= ',Ri3,' MOhm\\n')\n",
      "Ic13B=0.54;\n",
      "R=Va/Ic13B;\n",
      "print\"%s %.2f %s\"%('\\neffective resistance of the active load= ',R,' KOhm\\n')\n",
      "Ic17=Ic13B;\n",
      "R17=Va/Ic17;\n",
      "print\"%s %.2f %s\"%('\\noutput resistance Ro17 = ',R17,'KOhm\\n')\n",
      "Ri3=Ri3*1000.;##KOhm\n",
      "r17=9.63;\n",
      "x=R17*Ri3/(Ri3+R17);\n",
      "y=x*R/(R+x);\n",
      "A=-bn*R9*(1.+bn)*y/(Ri2*(R9+r17+(1.+bn)*R8));\n",
      "print\"%s %.2f %s\"%('\\nsmall signal voltage gain=\\n',A,'')\n"
     ],
     "language": "python",
     "metadata": {},
     "outputs": [
      {
       "output_type": "stream",
       "stream": "stdout",
       "text": [
        "\n",
        "r20=  9.42  KOhm\n",
        "\n",
        "\n",
        "R20=  111.42  KOhm\n",
        "\n",
        "\n",
        "R19=  277.78  KOhm\n",
        "\n",
        "\n",
        "r22=  7.22  KOhm\n",
        "\n",
        "\n",
        "input resistance to the output stage=  4.06  MOhm\n",
        "\n",
        "\n",
        "effective resistance of the active load=  92.59  KOhm\n",
        "\n",
        "\n",
        "output resistance Ro17 =  92.59 KOhm\n",
        "\n",
        "\n",
        "small signal voltage gain=\n",
        " -283.53 \n"
       ]
      }
     ],
     "prompt_number": 5
    },
    {
     "cell_type": "heading",
     "level": 2,
     "metadata": {},
     "source": [
      "Ex6-pg837"
     ]
    },
    {
     "cell_type": "code",
     "collapsed": false,
     "input": [
      "import math\n",
      "\n",
      "##Example 13.6\n",
      "Ic20=2.;\n",
      "bn=200.;\n",
      "bp=50.;\n",
      "Va=50.;\n",
      "r17=9.63;\n",
      "r22=7.22;\n",
      "R20=0.260;\n",
      "gm17=20.8;\n",
      "ro17=92.6;\n",
      "Ro13B=92.6;\n",
      "R8=0.100;\n",
      "Rc17=ro17*(1.+gm17*R8*r17/(R8+r17));\n",
      "print\"%s %.2f %s\"%('\\nRc17= ',Rc17,' KOhm\\n')\n",
      "Rc22=(r22+Rc17*Ro13B/(Rc17+Ro13B))/(1.+bp);\n",
      "print\"%s %.2f %s\"%('\\nRc22= ',Rc22,' KOhm\\n')\n",
      "Ic13A=0.18;\n",
      "Rc19=Va/Ic13A;\n",
      "print\"%s %.2f %s\"%('\\nRc19= ',Rc19,' KOhm\\n')\n",
      "Rc20=(R20+Rc22*Rc19/(Rc22+Rc19))/(1.+bp);\n",
      "print\"%s %.2f %s\"%('\\nRc20= ',Rc20,' KOhm\\n')\n",
      "Rc20=Rc20*1000.;##Ohm\n",
      "R3=22.;\n",
      "Ro=R3+Rc20;\n",
      "print\"%s %.2f %s\"%('\\noutput resistance= ',Ro,' Ohm\\n')\n"
     ],
     "language": "python",
     "metadata": {},
     "outputs": [
      {
       "output_type": "stream",
       "stream": "stdout",
       "text": [
        "\n",
        "Rc17=  283.23  KOhm\n",
        "\n",
        "\n",
        "Rc22=  1.51  KOhm\n",
        "\n",
        "\n",
        "Rc19=  277.78  KOhm\n",
        "\n",
        "\n",
        "Rc20=  0.03  KOhm\n",
        "\n",
        "\n",
        "output resistance=  56.54  Ohm\n",
        "\n"
       ]
      }
     ],
     "prompt_number": 6
    },
    {
     "cell_type": "heading",
     "level": 2,
     "metadata": {},
     "source": [
      "Ex7-pg838"
     ]
    },
    {
     "cell_type": "code",
     "collapsed": false,
     "input": [
      "import math\n",
      "\n",
      "##Example 13.7\n",
      "Av2=285.;\n",
      "C1=30.;\n",
      "Ci=C1*(1.+Av2);\n",
      "print\"%s %.2f %s\"%('\\ninput capacitance= ',Ci,' pF\\n')\n",
      "Ri2=4.07;\n",
      "Ract=7.18;\n",
      "ro4=5.26;\n",
      "Ro1=Ract*ro4/(Ract+ro4);\n",
      "print\"%s %.2f %s\"%('\\ngate stage input resistance= ',Ro1,' MOhm \\n')\n",
      "Req=Ro1*Ri2/(Ri2+Ro1);\n",
      "print\"%s %.2f %s\"%('\\nequivalent resistance= ',Req,' MOhm\\n')\n",
      "Req=Req*10**6;##Ohm\n",
      "Ci=Ci*10**-12;##F\n",
      "fPD=1/(2.*math.pi*Req*Ci);\n",
      "print\"%s %.2f %s\"%('\\ndominant pole frequency = ',fPD,' Hz\\n')\n"
     ],
     "language": "python",
     "metadata": {},
     "outputs": [
      {
       "output_type": "stream",
       "stream": "stdout",
       "text": [
        "\n",
        "input capacitance=  8580.00  pF\n",
        "\n",
        "\n",
        "gate stage input resistance=  3.04  MOhm \n",
        "\n",
        "\n",
        "equivalent resistance=  1.74  MOhm\n",
        "\n",
        "\n",
        "dominant pole frequency =  10.67  Hz\n",
        "\n"
       ]
      }
     ],
     "prompt_number": 7
    },
    {
     "cell_type": "heading",
     "level": 2,
     "metadata": {},
     "source": [
      "Ex9-pg842"
     ]
    },
    {
     "cell_type": "code",
     "collapsed": false,
     "input": [
      "import math\n",
      " \n",
      "##Example 13.9\n",
      "##lambda=y\n",
      "y=0.02;\n",
      "##W/L=x and u*Cox/2=t\n",
      "x=12.5;\n",
      "t=10.;\n",
      "Kp1=x*t;\n",
      "print\"%s %.2f %s\"%('\\nconduction parameters of M1 and M2= ',Kp1,' microA/V^2\\n')\n",
      "Kp1=Kp1*0.001;##mA/V^2\n",
      "Id=0.0199;\n",
      "ro2=1./(y*Id);\n",
      "ro2=ro2*0.001;##Mohm\n",
      "print\"%s %.2f %s\"%('\\noutput resistance= MOhm\\n',ro2,'')\n",
      "Iq=0.0397;\n",
      "ro2=ro2*1000.;##Kohm\n",
      "ro4=ro2;\n",
      "Ad=math.sqrt(2.*Kp1*Iq)*ro2*ro4/(ro2+ro4);\n",
      "print\"%s %.2f %s\"%('\\nthe gain of input stage= \\n',Ad,'')\n",
      "Kn7=0.250;\n",
      "Id7=Iq;\n",
      "gm7=2.*math.sqrt(Kn7*Id7)\n",
      "print\"%s %.2f %s\"%('\\ntransconductance of M7= ',gm7,' mA/V\\n')\n",
      "ro7=1./(y*Id7);\n",
      "ro7=ro7*0.001;\n",
      "print\"%s %.2f %s\"%('\\noutput resistance of M7 and M8 = ',ro7,'MOhm\\n')\n",
      "ro7=ro7*1000.;##Kohm\n",
      "ro8=ro7;\n",
      "Av2=gm7*ro7*ro8/(ro7+ro8);\n",
      "print\"%s %.2f %s\"%('\\ngain of the second stage=\\n',Av2,'')\n",
      "Av=Ad*Av2;\n",
      "print\"%s %.2f %s\"%('\\noverall voltage gain=\\n',Av,'')\n"
     ],
     "language": "python",
     "metadata": {},
     "outputs": [
      {
       "output_type": "stream",
       "stream": "stdout",
       "text": [
        "\n",
        "conduction parameters of M1 and M2=  125.00  microA/V^2\n",
        "\n",
        "\n",
        "output resistance= MOhm\n",
        " 2.51 \n",
        "\n",
        "the gain of input stage= \n",
        " 125.16 \n",
        "\n",
        "transconductance of M7=  0.20  mA/V\n",
        "\n",
        "\n",
        "output resistance of M7 and M8 =  1.26 MOhm\n",
        "\n",
        "\n",
        "gain of the second stage=\n",
        " 125.47 \n",
        "\n",
        "overall voltage gain=\n",
        " 15703.52 \n"
       ]
      }
     ],
     "prompt_number": 8
    },
    {
     "cell_type": "heading",
     "level": 2,
     "metadata": {},
     "source": [
      "Ex10-pg845"
     ]
    },
    {
     "cell_type": "code",
     "collapsed": false,
     "input": [
      "import math\n",
      "\n",
      "##Example 13.10\n",
      "Iref=100;\n",
      "Kn=80;\n",
      "Kp=40;\n",
      "##W/L=x\n",
      "x=25;\n",
      "##lambda=y\n",
      "y=0.02;\n",
      "Id=Iref/2.;\n",
      "gm1=2.*math.sqrt(Kp*x*Id/2.);\n",
      "print\"%s %.2f %s\"%('\\ntransconductance gm1=gm8= ',gm1,' microA/V\\n')\n",
      "gm6=2.*math.sqrt(Kn*x*Id/2.);\n",
      "print\"%s %.2f %s\"%('\\ntransconductance= ',gm6,' microA/V\\n')\n",
      "ro1=1./(y*Id);\n",
      "ro8=ro1;\n",
      "ro6=ro1;\n",
      "ro10=ro1;\n",
      "print\"%s %.2f %s\"%('\\noutput resistance ro1=ro8=ro6=ro10= ',ro1,' MOhm\\n')\n",
      "Id4=Iref;\n",
      "ro4=1./(y*Id4);\n",
      "print\"%s %.2f %s\"%('\\nro4= ',ro4,' MOhm\\n')\n",
      "Ro8=gm1*ro8*ro10;\n",
      "print\"%s %.2f %s\"%('\\ncomposite output resistances = ',Ro8,'MOhm\\n')\n",
      "Ro6=gm6*ro6*ro4*ro1/(ro4+ro1);\n",
      "print\"%s %.2f %s\"%('\\ncomposite output resistances= ',Ro6,' MOhm\\n')\n",
      "Ad=gm1*Ro6*Ro8/(Ro6+Ro8);\n",
      "print\"%s %.2f %s\"%('\\ndifferential voltage gain=\\n',Ad,'')\n"
     ],
     "language": "python",
     "metadata": {},
     "outputs": [
      {
       "output_type": "stream",
       "stream": "stdout",
       "text": [
        "\n",
        "transconductance gm1=gm8=  316.23  microA/V\n",
        "\n",
        "\n",
        "transconductance=  447.21  microA/V\n",
        "\n",
        "\n",
        "output resistance ro1=ro8=ro6=ro10=  1.00  MOhm\n",
        "\n",
        "\n",
        "ro4=  0.50  MOhm\n",
        "\n",
        "\n",
        "composite output resistances =  316.23 MOhm\n",
        "\n",
        "\n",
        "composite output resistances=  149.07  MOhm\n",
        "\n",
        "\n",
        "differential voltage gain=\n",
        " 32037.72 \n"
       ]
      }
     ],
     "prompt_number": 9
    },
    {
     "cell_type": "heading",
     "level": 2,
     "metadata": {},
     "source": [
      "Ex12-pg854"
     ]
    },
    {
     "cell_type": "code",
     "collapsed": false,
     "input": [
      "import math\n",
      "\n",
      "##Example 13.12\n",
      "Kp=0.6;\n",
      "bn=200.;\n",
      "Va=50.;\n",
      "Vt=0.026;\n",
      "Ic13=0.20;\n",
      "Ri2=bn*Vt/Ic13;\n",
      "print\"%s %.2f %s\"%('\\ninput resistance to the gain stage= ',Ri2,' KOhm\\n')\n",
      "Iq5=Ic13;\n",
      "Ad=math.sqrt(2.*Kp*Iq5)*Ri2;\n",
      "print\"%s %.2f %s\"%('\\nsmall signal voltage gain=\\n',Ad,'')\n"
     ],
     "language": "python",
     "metadata": {},
     "outputs": [
      {
       "output_type": "stream",
       "stream": "stdout",
       "text": [
        "\n",
        "input resistance to the gain stage=  26.00  KOhm\n",
        "\n",
        "\n",
        "small signal voltage gain=\n",
        " 12.74 \n"
       ]
      }
     ],
     "prompt_number": 10
    },
    {
     "cell_type": "heading",
     "level": 2,
     "metadata": {},
     "source": [
      "Ex13-pg855"
     ]
    },
    {
     "cell_type": "code",
     "collapsed": false,
     "input": [
      "import math\n",
      "\n",
      "##Example 13.13\n",
      "Va=150.;\n",
      "Vt=0.026;\n",
      "Ic13=0.2;\n",
      "gm13=Ic13/Vt;\n",
      "print\"%s %.2f %s\"%('\\ntransconductance= ',gm13,' mA/V\\n')\n",
      "ro13=Va/Ic13;\n",
      "print\"%s %.2f %s\"%('\\noutput resistance= ',ro13,' KOhm\\n')\n",
      "Av2=gm13*ro13;\n",
      "print\"%s %.2f %s\"%('\\nvoltage gain= \\n',Av2,'')\n"
     ],
     "language": "python",
     "metadata": {},
     "outputs": [
      {
       "output_type": "stream",
       "stream": "stdout",
       "text": [
        "\n",
        "transconductance=  7.69  mA/V\n",
        "\n",
        "\n",
        "output resistance=  750.00  KOhm\n",
        "\n",
        "\n",
        "voltage gain= \n",
        " 5769.23 \n"
       ]
      }
     ],
     "prompt_number": 11
    },
    {
     "cell_type": "heading",
     "level": 2,
     "metadata": {},
     "source": [
      "Ex14-pg856"
     ]
    },
    {
     "cell_type": "code",
     "collapsed": false,
     "input": [
      "import math\n",
      "\n",
      "##Example 13.14\n",
      "Av2=5768.;\n",
      "C1=12.;\n",
      "Ci=C1*(1.+Av2);\n",
      "print\"%s %.2f %s\"%('\\neffective input capacitance= ',Ci,' pF\\n')\n",
      "Ri2=26000.;##gain stage input resistance (Ohm)\n",
      "Ci=Ci*10**-12;##F\n",
      "fPD=1/(2.*math.pi*Ri2*Ci);\n",
      "print\"%s %.2f %s\"%('\\ndominant pole frequency= ',fPD,' Hz\\n')\n",
      "Av=73254.;\n",
      "fT=fPD*Av;\n",
      "fT=fT*10**-6;##MHz\n",
      "print\"%s %.2f %s\"%('\\nunity gain bandwidth= ',fT,' MHz\\n')\n"
     ],
     "language": "python",
     "metadata": {},
     "outputs": [
      {
       "output_type": "stream",
       "stream": "stdout",
       "text": [
        "\n",
        "effective input capacitance=  69228.00  pF\n",
        "\n",
        "\n",
        "dominant pole frequency=  88.42  Hz\n",
        "\n",
        "\n",
        "unity gain bandwidth=  6.48  MHz\n",
        "\n"
       ]
      }
     ],
     "prompt_number": 12
    }
   ],
   "metadata": {}
  }
 ]
}