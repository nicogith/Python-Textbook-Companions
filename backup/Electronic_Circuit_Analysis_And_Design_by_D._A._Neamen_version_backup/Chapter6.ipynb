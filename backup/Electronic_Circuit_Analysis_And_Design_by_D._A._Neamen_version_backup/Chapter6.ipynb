{
 "metadata": {
  "name": "",
  "signature": "sha256:ddb81cb66c6e60e18386ce9465623c3e9136c0ad815bf2b64587c945fdfe08bd"
 },
 "nbformat": 3,
 "nbformat_minor": 0,
 "worksheets": [
  {
   "cells": [
    {
     "cell_type": "heading",
     "level": 1,
     "metadata": {},
     "source": [
      "Chapter6-Basic FET Amplifier"
     ]
    },
    {
     "cell_type": "heading",
     "level": 2,
     "metadata": {},
     "source": [
      "Ex1-pg316"
     ]
    },
    {
     "cell_type": "code",
     "collapsed": false,
     "input": [
      "import math\n",
      "\n",
      "##Example 6.1\n",
      "Vtn=1.;\n",
      "##let x= u_n*Cox*1/2\n",
      "x=20.*10**-3;\n",
      "##let y=W/L\n",
      "y=40.;\n",
      "I_D=1.;\n",
      "Kn=x*y;\n",
      "print\"%s %.2f %s\"%('\\nconduction parameter= ',Kn,' mA/V^2\\n')\n",
      "g_m=2.*math.sqrt(Kn*I_D);\n",
      "print\"%s %.2f %s\"%('\\ntransconductance= ',g_m,' mA/V\\n')\n"
     ],
     "language": "python",
     "metadata": {},
     "outputs": [
      {
       "output_type": "stream",
       "stream": "stdout",
       "text": [
        "\n",
        "conduction parameter=  0.80  mA/V^2\n",
        "\n",
        "\n",
        "transconductance=  1.79  mA/V\n",
        "\n"
       ]
      }
     ],
     "prompt_number": 1
    },
    {
     "cell_type": "heading",
     "level": 2,
     "metadata": {},
     "source": [
      "Ex2-pg319"
     ]
    },
    {
     "cell_type": "code",
     "collapsed": false,
     "input": [
      "import math\n",
      "\n",
      "##Example 6.2\n",
      "Vgsq=2.12;\n",
      "Vdd=5.;\n",
      "Rd=2.5;\n",
      "Vtn=1.;\n",
      "Kn=0.8;\n",
      "##let lambda=y\n",
      "y=0.02;##V^-1\n",
      "Idq=Kn*(Vgsq-Vtn)**2;\n",
      "print\"%s %.2f %s\"%('\\ndrain current= ',Idq,'mA\\n')\n",
      "Vdsq=Vdd-Idq*Rd;\n",
      "print\"%s %.2f %s\"%('\\ndrain to source voltage= ',Vdsq,' V\\n')\n",
      "Vgs=1.82;\n",
      "Vgs-Vtn\n",
      "##since Vdsq>Vgs-Vtn transistor is biased in saturation\n",
      "g_m=2.*Kn*(Vgsq-Vtn);\n",
      "print\"%s %.2f %s\"%('\\ntransconductance= ',g_m,' mA/V\\n')\n",
      "ro=(y*Idq)**-1;\n",
      "print\"%s %.2f %s\"%('\\noutput resistance= ',ro,' KOhm\\n')\n",
      "Av=-g_m*ro*Rd/(ro+Rd);\n",
      "print\"%s %.2f %s\"%('\\nsmall signal voltage gain= ',Av,'\\n')\n"
     ],
     "language": "python",
     "metadata": {},
     "outputs": [
      {
       "output_type": "stream",
       "stream": "stdout",
       "text": [
        "\n",
        "drain current=  1.00 mA\n",
        "\n",
        "\n",
        "drain to source voltage=  2.49  V\n",
        "\n",
        "\n",
        "transconductance=  1.79  mA/V\n",
        "\n",
        "\n",
        "output resistance=  49.82  KOhm\n",
        "\n",
        "\n",
        "small signal voltage gain=  -4.27 \n",
        "\n"
       ]
      }
     ],
     "prompt_number": 2
    },
    {
     "cell_type": "heading",
     "level": 2,
     "metadata": {},
     "source": [
      "Ex3-pg326"
     ]
    },
    {
     "cell_type": "code",
     "collapsed": false,
     "input": [
      "import math\n",
      "\n",
      "##Example 6.3\n",
      "Vdd=10.;\n",
      "R1=70.9;##(Kohm)\n",
      "R2=29.1;##(Kohm)\n",
      "Rd=5.;##(Kohm)\n",
      "Vtn=1.5;\n",
      "Kn=0.5;##(mA/V^2)\n",
      "##lambda=y\n",
      "y=0.01;##V^-1\n",
      "Rsi=4.;##(Kohm)\n",
      "Vgsq=Vdd*R2/(R1+R2);\n",
      "print\"%s %.2f %s\"%('\\ngate to source voltage= ',Vgsq,' V\\n')\n",
      "Idq=Kn*(Vgsq-Vtn)**2;\n",
      "print\"%s %.2f %s\"%('\\ndrain current= ',Idq,' mA\\n')\n",
      "Vdsq=Vdd-Idq*Rd;\n",
      "print\"%s %.2f %s\"%('\\ndrain to source voltage= ',Vdsq,' V\\n')\n",
      "g_m=2*Kn*(Vgsq-Vtn);\n",
      "print\"%s %.2f %s\"%('\\ntransconductance= ',g_m,' mA/V\\n')\n",
      "ro=(y*Idq)**-1;\n",
      "print\"%s %.2f %s\"%('\\noutput resistance= ',ro,' KOhm\\n')\n",
      "Ri=R1*R2/(R1+R2);\n",
      "print\"%s %.2f %s\"%('\\namplifier input resistance= ',Ri,' Kohm\\n')\n",
      "Av=-g_m*(ro*Rd/(ro+Rd))*Ri/(Ri+Rsi);\n",
      "print\"%s %.2f %s\"%('\\nsmall signal voltage gain=\\n',Av,'')\n",
      "print\"%s %.2f %s\"%('\\namplifier input resistance= ',Ri,' Kohm\\n')\n",
      "Ro=Rd*ro/(Rd+ro);\n",
      "print\"%s %.2f %s\"%('\\namplifier output resistance= ',Ro,' Kohm\\n')\n"
     ],
     "language": "python",
     "metadata": {},
     "outputs": [
      {
       "output_type": "stream",
       "stream": "stdout",
       "text": [
        "\n",
        "gate to source voltage=  2.91  V\n",
        "\n",
        "\n",
        "drain current=  0.99  mA\n",
        "\n",
        "\n",
        "drain to source voltage=  5.03  V\n",
        "\n",
        "\n",
        "transconductance=  1.41  mA/V\n",
        "\n",
        "\n",
        "output resistance=  100.60  KOhm\n",
        "\n",
        "\n",
        "amplifier input resistance=  20.63  Kohm\n",
        "\n",
        "\n",
        "small signal voltage gain=\n",
        " -5.63 \n",
        "\n",
        "amplifier input resistance=  20.63  Kohm\n",
        "\n",
        "\n",
        "amplifier output resistance=  4.76  Kohm\n",
        "\n"
       ]
      }
     ],
     "prompt_number": 3
    },
    {
     "cell_type": "heading",
     "level": 2,
     "metadata": {},
     "source": [
      "Ex4-pg327"
     ]
    },
    {
     "cell_type": "code",
     "collapsed": false,
     "input": [
      "import math\n",
      "\n",
      "##Example 6.4\n",
      "Vtn=1.;\n",
      "Kn=1.;##(mA/V^2)\n",
      "##lambda=y\n",
      "y=0.015;##V^-1\n",
      "Ri=100.;##(Kohm)\n",
      "Idq=2.;##(mA)\n",
      "Idt=4.;##(mA)\n",
      "##Idt=4=Kn*(Vgst-Vtn)^2\n",
      "Vgst=math.sqrt(Idt/Kn)+Vtn;\n",
      "print\"%s %.2f %s\"%('\\nVgst= ',Vgst,' V\\n')\n",
      "Vdst=Vgst-Vtn;\n",
      "print\"%s %.2f %s\"%('\\nVdst= ',Vdst,' V\\n')\n",
      "Vdd=12.;\n",
      "Vdsq=7.;\n",
      "Rd=(Vdd-Vdsq)/Idq;\n",
      "print\"%s %.2f %s\"%('\\nRd = ',Rd,'KOhm\\n')\n",
      "Vgsq=math.sqrt(Idq/Kn)+Vtn;\n",
      "print\"%s %.2f %s\"%('\\nVgsq= ',Vgsq,' V\\n')\n",
      "R1=Ri*Vdd/Vgsq;\n",
      "print\"%s %.2f %s\"%('\\nR1= ',R1,' Kohm\\n')\n",
      "R2=Ri*R1/(R1-Ri);\n",
      "print\"%s %.2f %s\"%('\\nR2= ',R2,' Kohm\\n')\n",
      "g_m=2*Kn*(Vgsq-Vtn);\n",
      "print\"%s %.2f %s\"%('\\ntransconductance= ',g_m,' mA/V\\n')\n",
      "ro=(y*Idq)**-1;\n",
      "print\"%s %.2f %s\"%('\\noutput resistance= ',ro,' KOhm\\n')\n",
      "Av=-g_m*(ro*Rd/(ro+Rd));\n",
      "print\"%s %.2f %s\"%('\\nsmall signal voltage gain= ',Av,'\\n')\n"
     ],
     "language": "python",
     "metadata": {},
     "outputs": [
      {
       "output_type": "stream",
       "stream": "stdout",
       "text": [
        "\n",
        "Vgst=  3.00  V\n",
        "\n",
        "\n",
        "Vdst=  2.00  V\n",
        "\n",
        "\n",
        "Rd =  2.50 KOhm\n",
        "\n",
        "\n",
        "Vgsq=  2.41  V\n",
        "\n",
        "\n",
        "R1=  497.06  Kohm\n",
        "\n",
        "\n",
        "R2=  125.19  Kohm\n",
        "\n",
        "\n",
        "transconductance=  2.83  mA/V\n",
        "\n",
        "\n",
        "output resistance=  33.33  KOhm\n",
        "\n",
        "\n",
        "small signal voltage gain=  -6.58 \n",
        "\n"
       ]
      }
     ],
     "prompt_number": 4
    },
    {
     "cell_type": "heading",
     "level": 2,
     "metadata": {},
     "source": [
      "Ex6-pg332"
     ]
    },
    {
     "cell_type": "code",
     "collapsed": false,
     "input": [
      "import math\n",
      "\n",
      "##Example 6.6\n",
      "Vtn=0.8;\n",
      "Kn=1.;##(mA/V^2)\n",
      "Idq=0.5;\n",
      "Vdd=5.;\n",
      "Rd=7.;##(Kohm)\n",
      "Vgsq=math.sqrt(Idq/Kn)+Vtn;\n",
      "print\"%s %.2f %s\"%('\\nVgsq= ',Vgsq,' V\\n')\n",
      "Vs=-Vgsq\n",
      "Vdsq=Vdd-Idq*Rd-Vs;\n",
      "print\"%s %.2f %s\"%('\\nVdsq=',Vdsq,' V\\n')\n",
      "g_m=2.*Kn*(Vgsq-Vtn);\n",
      "print\"%s %.2f %s\"%('\\ntransconductance= ',g_m,' mA/V\\n')\n",
      "Av=-g_m*Rd;\n",
      "print\"%s %.2f %s\"%('\\nsmall signal voltage gain=\\n',Av,'')\n"
     ],
     "language": "python",
     "metadata": {},
     "outputs": [
      {
       "output_type": "stream",
       "stream": "stdout",
       "text": [
        "\n",
        "Vgsq=  1.51  V\n",
        "\n",
        "\n",
        "Vdsq= 3.01  V\n",
        "\n",
        "\n",
        "transconductance=  1.41  mA/V\n",
        "\n",
        "\n",
        "small signal voltage gain=\n",
        " -9.90 \n"
       ]
      }
     ],
     "prompt_number": 5
    },
    {
     "cell_type": "heading",
     "level": 2,
     "metadata": {},
     "source": [
      "Ex7-pg336"
     ]
    },
    {
     "cell_type": "code",
     "collapsed": false,
     "input": [
      "import math\n",
      "\n",
      "##Example 6.7\n",
      "Vdd=12.;\n",
      "R1=162.;\n",
      "R2=463.;\n",
      "Rs=0.75;\n",
      "Kn=4.;\n",
      "Vtn=1.5;\n",
      "##lambda=y\n",
      "y=0.01;\n",
      "Rsi=4.;\n",
      "Idq=7.97;\n",
      "Vgsq=2.91;\n",
      "g_m=2.*Kn*(Vgsq-Vtn);\n",
      "print\"%s %.2f %s\"%('\\ntransconductance= ',g_m,' mA/V\\n')\n",
      "ro=(y*Idq)**-1.;\n",
      "print\"%s %.2f %s\"%('\\noutput resistance= ',ro,' KOhm\\n')\n",
      "Ri=R1*R2/(R1+R2);\n",
      "print\"%s %.2f %s\"%('\\namplifier input resistance= ',Ri,' Kohm\\n')\n",
      "x=Rs*ro/(Rs+ro);\n",
      "Av=g_m*x*(Ri/(Ri+Rsi))/(1.+g_m*x);\n",
      "print\"%s %.2f %s\"%('\\nsmall signal voltage gain=\\n',Av,'')\n"
     ],
     "language": "python",
     "metadata": {},
     "outputs": [
      {
       "output_type": "stream",
       "stream": "stdout",
       "text": [
        "\n",
        "transconductance=  11.28  mA/V\n",
        "\n",
        "\n",
        "output resistance=  12.55  KOhm\n",
        "\n",
        "\n",
        "amplifier input resistance=  120.01  Kohm\n",
        "\n",
        "\n",
        "small signal voltage gain=\n",
        " 0.86 \n"
       ]
      }
     ],
     "prompt_number": 6
    },
    {
     "cell_type": "heading",
     "level": 2,
     "metadata": {},
     "source": [
      "Ex9-pg340"
     ]
    },
    {
     "cell_type": "code",
     "collapsed": false,
     "input": [
      "import math\n",
      "\n",
      "##Example 6.9\n",
      "Rs=750.;##Ohm\n",
      "ro=12500.;\n",
      "g_m=11.3*10**-3;\n",
      "x=1./g_m;\n",
      "y=x*Rs/(x+Rs);\n",
      "Ro=y*ro/(y+ro);\n",
      "print\"%s %.2f %s\"%('\\noutput resistance= ',Ro,' ohm\\n')\n"
     ],
     "language": "python",
     "metadata": {},
     "outputs": [
      {
       "output_type": "stream",
       "stream": "stdout",
       "text": [
        "\n",
        "output resistance=  78.66  ohm\n",
        "\n"
       ]
      }
     ],
     "prompt_number": 7
    },
    {
     "cell_type": "heading",
     "level": 2,
     "metadata": {},
     "source": [
      "Ex11-pg348"
     ]
    },
    {
     "cell_type": "code",
     "collapsed": false,
     "input": [
      "import math\n",
      "\n",
      "##Example 6.11\n",
      "Vtnd=1.;\n",
      "Vtnl=1.;\n",
      "Kn=30.;\n",
      "##let W/L=x\n",
      "xl=1.;\n",
      "Vdd=5.;\n",
      "Av=10.;\n",
      "##Av=sqrt(xd/xl)\n",
      "xd=(Av)**2*xl;\n",
      "print\"%s %.2f %s\"%('\\nwidth to length ratio of driver transistor=\\n',xd,'')\n",
      "Knd=xd*Kn*0.001/2.;\n",
      "Knl=xl*Kn*0.001/2.;\n",
      "print\"%s %.2f %s\"%('\\nconduction parameter Knd= ',Knd,' mA/V^2\\n')\n",
      "print\"%s %.2f %s\"%('\\nconduction parameter Knl= ',Knl,' mA/V^2\\n')\n",
      "##Vgsd-Vtnd=(Vdd-Vtnl)-sqrt(Knd/Knl)*(Vgsd-Vtnd)\n",
      "y=math.sqrt(Knd/Knl);\n",
      "Vgsd=(y+5.)/(1.+y);\n",
      "print\"%s %.2f %s\"%('\\nVgsd= ',Vgsd,' V\\n')\n",
      "Vdsd=Vgsd-1.;\n",
      "print\"%s %.2f %s\"%('\\nVdsd= ',Vdsd,' V\\n')\n"
     ],
     "language": "python",
     "metadata": {},
     "outputs": [
      {
       "output_type": "stream",
       "stream": "stdout",
       "text": [
        "\n",
        "width to length ratio of driver transistor=\n",
        " 100.00 \n",
        "\n",
        "conduction parameter Knd=  1.50  mA/V^2\n",
        "\n",
        "\n",
        "conduction parameter Knl=  0.01  mA/V^2\n",
        "\n",
        "\n",
        "Vgsd=  1.36  V\n",
        "\n",
        "\n",
        "Vdsd=  0.36  V\n",
        "\n"
       ]
      }
     ],
     "prompt_number": 8
    },
    {
     "cell_type": "heading",
     "level": 2,
     "metadata": {},
     "source": [
      "Ex12-pg352"
     ]
    },
    {
     "cell_type": "code",
     "collapsed": false,
     "input": [
      "import math\n",
      "\n",
      "##Example 6.12\n",
      "Vtnd=0.8;\n",
      "Vtnl=-1.5;\n",
      "Knd=1.;\n",
      "Knl=0.2;\n",
      "##lambda=y\n",
      "yd=0.01;\n",
      "yl=0.01;\n",
      "Idq=0.2;\n",
      "gmd=2.*math.sqrt(Knd*Idq);\n",
      "print\"%s %.2f %s\"%('\\ntransconductance of the driver= ',gmd,' mA/V\\n')\n",
      "roD=1./(yd*Idq);\n",
      "print\"%s %.2f %s\"%('\\noutput resistances= ',roD,' Kohm\\n')\n",
      "Av=-gmd*roD/2.;\n",
      "print\"%s %.2f %s\"%('\\nsmall signal voltage gain= \\n',Av,'')\n"
     ],
     "language": "python",
     "metadata": {},
     "outputs": [
      {
       "output_type": "stream",
       "stream": "stdout",
       "text": [
        "\n",
        "transconductance of the driver=  0.89  mA/V\n",
        "\n",
        "\n",
        "output resistances=  500.00  Kohm\n",
        "\n",
        "\n",
        "small signal voltage gain= \n",
        " -223.61 \n"
       ]
      }
     ],
     "prompt_number": 9
    },
    {
     "cell_type": "heading",
     "level": 2,
     "metadata": {},
     "source": [
      "Ex13-pg354"
     ]
    },
    {
     "cell_type": "code",
     "collapsed": false,
     "input": [
      "import math\n",
      "\n",
      "##Example 6.13\n",
      "Vtn=0.8;\n",
      "Vtp=-0.8;\n",
      "Kn=80.*10**-3;\n",
      "Kp=40.*10**-3;\n",
      "##x=W/L\n",
      "xn=15.;\n",
      "xp=10.;\n",
      "##lambda=y\n",
      "yn=0.01;\n",
      "yp=0.01;\n",
      "Ibias=0.2;\n",
      "gm=2.*math.sqrt(Kn*xn*Ibias/2.);\n",
      "print\"%s %.2f %s\"%('\\ntransconductance of the NMOS driver= ',gm,' mA/V^2\\n')\n",
      "ron=1./(yn*Ibias);\n",
      "print\"%s %.2f %s\"%('\\noutput resistances= ',ron,' Kohm\\n')\n",
      "Av=-gm*ron/2.;\n",
      "print\"%s %.2f %s\"%('\\nsmall signal voltage gain= \\n',Av,'')\n"
     ],
     "language": "python",
     "metadata": {},
     "outputs": [
      {
       "output_type": "stream",
       "stream": "stdout",
       "text": [
        "\n",
        "transconductance of the NMOS driver=  0.69  mA/V^2\n",
        "\n",
        "\n",
        "output resistances=  500.00  Kohm\n",
        "\n",
        "\n",
        "small signal voltage gain= \n",
        " -173.21 \n"
       ]
      }
     ],
     "prompt_number": 10
    },
    {
     "cell_type": "heading",
     "level": 2,
     "metadata": {},
     "source": [
      "Ex14-pg357"
     ]
    },
    {
     "cell_type": "code",
     "collapsed": false,
     "input": [
      "import math\n",
      "\n",
      "##Example 6.14\n",
      "Kn1=500.*10**-3;\n",
      "Kn2=200.*10**-3;\n",
      "Vtn1=1.2;\n",
      "Vtn2=Vtn1;\n",
      "Idq1=0.2;\n",
      "Idq2=0.5;\n",
      "Vdsq1=6.;\n",
      "Vdsq2=6.;\n",
      "Ri=100.;\n",
      "Rsi=4.;\n",
      "Rs2=(10.-Vdsq2)/Idq2;\n",
      "print\"%s %.2f %s\"%('\\nRs2= ',Rs2,' KOhm\\n')\n",
      "Vgs2=math.sqrt(Idq2/Kn2)+Vtn2;\n",
      "print\"%s %.2f %s\"%('\\ngate to source voltage for M2= ',Vgs2,' V\\n')\n",
      "Vs2=-1.;\n",
      "Vg2=Vs2+Vgs2;\n",
      "print\"%s %.2f %s\"%('\\ngate voltage of M2= ',Vg2,' V\\n')\n",
      "Vg1=Vg2;\n",
      "Rd1=(5.-Vg1)/Idq1;\n",
      "print\"%s %.2f %s\"%('\\nresistor Rd1= ',Rd1,' KOhm\\n')\n",
      "Vs1=Vg1-Vdsq1;\n",
      "print\"%s %.2f %s\"%('\\nsource voltage of M1= ',Vs1,' KOhm\\n')\n",
      "Rs1=(Vs1+5.)/Idq1;\n",
      "print\"%s %.2f %s\"%('\\nresistor Rs1= ',Rs1,' KOhm\\n')\n",
      "Vgs1=math.sqrt(Idq1/Kn1)+Vtn1;\n",
      "print\"%s %.2f %s\"%('\\ngate to source voltage for M1',Vgs1,' V\\n')\n",
      "R1=Ri*10./(Vgs1+Idq1*Rs1);\n",
      "print\"%s %.2f %s\"%('\\nR1= ',R1,' KOhm\\n')\n",
      "##Ri=R1*R2/(R1+R2)\n",
      "R2=Ri*R1/(R1-Ri);\n",
      "print\"%s %.2f %s\"%('\\nR2= ',R2,' KOhm\\n')\n"
     ],
     "language": "python",
     "metadata": {},
     "outputs": [
      {
       "output_type": "stream",
       "stream": "stdout",
       "text": [
        "\n",
        "Rs2=  8.00  KOhm\n",
        "\n",
        "\n",
        "gate to source voltage for M2=  2.78  V\n",
        "\n",
        "\n",
        "gate voltage of M2=  1.78  V\n",
        "\n",
        "\n",
        "resistor Rd1=  16.09  KOhm\n",
        "\n",
        "\n",
        "source voltage of M1=  -4.22  KOhm\n",
        "\n",
        "\n",
        "resistor Rs1=  3.91  KOhm\n",
        "\n",
        "\n",
        "gate to source voltage for M1 1.83  V\n",
        "\n",
        "\n",
        "R1=  382.61  KOhm\n",
        "\n",
        "\n",
        "R2=  135.38  KOhm\n",
        "\n"
       ]
      }
     ],
     "prompt_number": 11
    },
    {
     "cell_type": "heading",
     "level": 2,
     "metadata": {},
     "source": [
      "Ex15-pg358"
     ]
    },
    {
     "cell_type": "code",
     "collapsed": false,
     "input": [
      "import math\n",
      "\n",
      "##Example 6.15\n",
      "Vtn1=1.2;\n",
      "Vtn2=1.2;\n",
      "Kn1=0.8;\n",
      "Kn2=0.8;\n",
      "##x=R1+R2+R3=300\n",
      "x=300.;\n",
      "Rs=10.;\n",
      "Idq=0.4;\n",
      "Vdsq1=2.5;\n",
      "Vdsq2=2.5;\n",
      "Vs1=Idq*Rs-5.;\n",
      "print\"%s %.2f %s\"%('\\ndc voltage at source of M1= ',Vs1,' V\\n')\n",
      "Vgs=math.sqrt(Idq/Kn1)+Vtn1;\n",
      "print\"%s %.2f %s\"%('\\ngate to source voltage= ',Vgs,' V\\n')\n",
      "R3=(Vgs+Vs1)*x/5.;\n",
      "print\"%s %.2f %s\"%('\\nR3= ',R3,' KOhm\\n')\n",
      "Vs2=Vdsq2+Vs1;\n",
      "print\"%s %.2f %s\"%('\\nvoltage at source of M2= ',Vs2,' V\\n')\n",
      "##y=R2+R3\n",
      "y=(Vgs+Vs2)*x/5.;\n",
      "print\"%s %.2f %s\"%('\\nR2+R3= ',y,' KOhm\\n')\n",
      "R2=150.;\n",
      "R1=x-y;\n",
      "print\"%s %.2f %s\"%('\\nR1=',R1,' KOhm\\n')\n",
      "R3=y-R2;\n",
      "print\"%s %.2f %s\"%('\\nR3= ',R3,' KOhm\\n')\n",
      "Vd2=Vdsq2+Vs2;\n",
      "print\"%s %.2f %s\"%('\\nvoltage at drain of M2 = ',Vd2,'V\\n')\n",
      "Rd=(5.-Vd2)/Idq;\n",
      "print\"%s %.2f %s\"%('\\ndrain resistance= ',Rd,' KOhm\\n')\n"
     ],
     "language": "python",
     "metadata": {},
     "outputs": [
      {
       "output_type": "stream",
       "stream": "stdout",
       "text": [
        "\n",
        "dc voltage at source of M1=  -1.00  V\n",
        "\n",
        "\n",
        "gate to source voltage=  1.91  V\n",
        "\n",
        "\n",
        "R3=  54.43  KOhm\n",
        "\n",
        "\n",
        "voltage at source of M2=  1.50  V\n",
        "\n",
        "\n",
        "R2+R3=  204.43  KOhm\n",
        "\n",
        "\n",
        "R1= 95.57  KOhm\n",
        "\n",
        "\n",
        "R3=  54.43  KOhm\n",
        "\n",
        "\n",
        "voltage at drain of M2 =  4.00 V\n",
        "\n",
        "\n",
        "drain resistance=  2.50  KOhm\n",
        "\n"
       ]
      }
     ],
     "prompt_number": 12
    },
    {
     "cell_type": "heading",
     "level": 2,
     "metadata": {},
     "source": [
      "Ex17-pg361"
     ]
    },
    {
     "cell_type": "code",
     "collapsed": false,
     "input": [
      "import math\n",
      " \n",
      "##Example 6.17\n",
      "Kn=0.8;\n",
      "Vtn=1.2;\n",
      "Vgs=1.91;\n",
      "Rd=2.5;\n",
      "gm=2.*Kn*(Vgs-Vtn);\n",
      "print\"%s %.2f %s\"%('\\ntransconductance= ',gm,' mA/V\\n')\n",
      "Av=-gm*Rd;\n",
      "print\"%s %.2f %s\"%('\\nsmall signal voltage gain= ',Av,' \\n')\n"
     ],
     "language": "python",
     "metadata": {},
     "outputs": [
      {
       "output_type": "stream",
       "stream": "stdout",
       "text": [
        "\n",
        "transconductance=  1.14  mA/V\n",
        "\n",
        "\n",
        "small signal voltage gain=  -2.84  \n",
        "\n"
       ]
      }
     ],
     "prompt_number": 13
    },
    {
     "cell_type": "heading",
     "level": 2,
     "metadata": {},
     "source": [
      "Ex18-pg364"
     ]
    },
    {
     "cell_type": "code",
     "collapsed": false,
     "input": [
      "import math\n",
      "\n",
      "##Example 6.18\n",
      "##Determine the small signal voltage gain of a circuit in fig.6.55\n",
      "Idss=12.;\n",
      "Vp=-4.;\n",
      "##lambda=y\n",
      "y=0.008;\n",
      "import numpy\n",
      "from numpy.polynomial import Polynomial as P\n",
      "p = P([26.4, 17.2, 2.025])\n",
      "p.roots()\n",
      "\n",
      "\n",
      "print('',p.roots(),' V\\n')\n",
      "Vgsq=-2.01\n",
      "Idq=Idss*(1.-Vgsq/Vp)**2;\n",
      "print\"%s %.2f %s\"%('\\nquiescent drain current= ',Idq,' mA\\n')\n",
      "gm=(-2*Idss/Vp)*(1.-Vgsq/Vp);\n",
      "print\"%s %.2f %s\"%('\\ntransconductance= ',gm,' mA/V\\n')\n",
      "ro=(1/(y*Idq));\n",
      "print\"%s %.2f %s\"%('\\noutput resistance= ',ro,' KOhm\\n')\n",
      "Rd=2.7;\n",
      "Rl=4.;\n",
      "x=Rd*Rl/(Rd+Rl);\n",
      "Av=-gm*ro*x/(ro+x);\n",
      "print\"%s %.2f %s\"%('\\nsmall signal voltage gain= ',Av,' \\n')\n"
     ],
     "language": "python",
     "metadata": {},
     "outputs": [
      {
       "output_type": "stream",
       "stream": "stdout",
       "text": [
        "('', array([-6.48281115, -2.01101602]), ' V\\n')\n",
        "\n",
        "quiescent drain current=  2.97  mA\n",
        "\n",
        "\n",
        "transconductance=  2.99  mA/V\n",
        "\n",
        "\n",
        "output resistance=  42.09  KOhm\n",
        "\n",
        "\n",
        "small signal voltage gain=  -4.63  \n",
        "\n"
       ]
      }
     ],
     "prompt_number": 1
    },
    {
     "cell_type": "heading",
     "level": 2,
     "metadata": {},
     "source": [
      "Ex19-pg366"
     ]
    },
    {
     "cell_type": "code",
     "collapsed": false,
     "input": [
      "import math\n",
      " \n",
      "##Example 6.19\n",
      "Idss=12.;\n",
      "Vp=-4.;\n",
      "Rl=10.;\n",
      "##lambda=y\n",
      "y=0.01;\n",
      "Av=0.9;\n",
      "##gm=(-2*Idss/Vp)*(1-Vgs/Vp)\n",
      "gm=2.;\n",
      "Vgs=(1.+gm*Vp/(2.*Idss))*Vp;\n",
      "print\"%s %.2f %s\"%('\\ngate to source voltage= ',Vgs,' V\\n')\n",
      "Idq=Idss*(1.-Vgs/Vp)**2;\n",
      "print\"%s %.2f %s\"%('\\nquiescent drain current= ',Idq,' mA\\n')\n",
      "Rs=(-Vgs+10.)/Idq;\n",
      "print\"%s %.2f %s\"%('\\nRs= ',Rs,' KOhm\\n')\n",
      "ro=(1./(y*Idq));\n",
      "print\"%s %.2f %s\"%('\\noutput resistance= ',ro,' KOhm\\n')\n",
      "x=Rl*ro/(Rl+ro);\n",
      "t=x*Rs/(x+Rs);\n",
      "Av=gm*t/(1.+gm*t);\n",
      "print\"%s %.2f %s\"%('\\nsmall signal voltage gain= ',Av,' \\n')\n"
     ],
     "language": "python",
     "metadata": {},
     "outputs": [
      {
       "output_type": "stream",
       "stream": "stdout",
       "text": [
        "\n",
        "gate to source voltage=  -2.67  V\n",
        "\n",
        "\n",
        "quiescent drain current=  1.33  mA\n",
        "\n",
        "\n",
        "Rs=  9.50  KOhm\n",
        "\n",
        "\n",
        "output resistance=  75.00  KOhm\n",
        "\n",
        "\n",
        "small signal voltage gain=  0.90  \n",
        "\n"
       ]
      }
     ],
     "prompt_number": 15
    }
   ],
   "metadata": {}
  }
 ]
}