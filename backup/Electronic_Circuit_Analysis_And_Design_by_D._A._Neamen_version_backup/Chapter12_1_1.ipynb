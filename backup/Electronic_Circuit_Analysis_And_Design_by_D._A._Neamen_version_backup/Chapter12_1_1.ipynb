{
 "metadata": {
  "name": "",
  "signature": "sha256:1ace7ec8ddbfe04d19fdbb2c12f100c57a3d84e0fdba823b9d7bc82551c86874"
 },
 "nbformat": 3,
 "nbformat_minor": 0,
 "worksheets": [
  {
   "cells": [
    {
     "cell_type": "heading",
     "level": 1,
     "metadata": {},
     "source": [
      "Chapter12-Feedback and Stability"
     ]
    },
    {
     "cell_type": "heading",
     "level": 2,
     "metadata": {},
     "source": [
      "Ex1-pg732"
     ]
    },
    {
     "cell_type": "code",
     "collapsed": false,
     "input": [
      "import math\n",
      "\n",
      "##Example 12.1\n",
      "A=10**5;##open loop gain\n",
      "Af=50.;##closed loop gain\n",
      "b=(A/Af-1.)/A;\n",
      "print\"%s %.2f %s\"%('\\nfeedback transfer function=\\n',b,'')\n",
      "A=-10**5;\n",
      "Af=-50.;\n",
      "b=(A/Af-1.)/A;\n",
      "print\"%s %.2f %s\"%('\\nfeedback transfer function=\\n',b,'')\n"
     ],
     "language": "python",
     "metadata": {},
     "outputs": [
      {
       "output_type": "stream",
       "stream": "stdout",
       "text": [
        "\n",
        "feedback transfer function=\n",
        " 0.02 \n",
        "\n",
        "feedback transfer function=\n",
        " -0.02 \n"
       ]
      }
     ],
     "prompt_number": 1
    },
    {
     "cell_type": "heading",
     "level": 2,
     "metadata": {},
     "source": [
      "Ex2-pg733"
     ]
    },
    {
     "cell_type": "code",
     "collapsed": false,
     "input": [
      "import math\n",
      "\n",
      "##Example 12.2\n",
      "A=10**5;\n",
      "Af=50.;\n",
      "b=0.019999;\n",
      "dA=10**4;\n",
      "dAf=Af*dA/(A*(1.+b*A));\n",
      "print\"%s %.2e %s\"%('\\ndAf ',dAf,'\\n')\n",
      "##x=dAf/Af\n",
      "x=dAf/Af;\n",
      "x=x*100.;\n",
      "print\"%s %.2e %s\"%('\\npercent change dAf/Af= ',x,'\\n')\n"
     ],
     "language": "python",
     "metadata": {},
     "outputs": [
      {
       "output_type": "stream",
       "stream": "stdout",
       "text": [
        "\n",
        "dAf  2.50e-03 \n",
        "\n",
        "\n",
        "percent change dAf/Af=  5.00e-03 \n",
        "\n"
       ]
      }
     ],
     "prompt_number": 2
    },
    {
     "cell_type": "heading",
     "level": 2,
     "metadata": {},
     "source": [
      "Ex3-pg735"
     ]
    },
    {
     "cell_type": "code",
     "collapsed": false,
     "input": [
      "import math\n",
      "\n",
      "##Example 12.3\n",
      "Ao=10**4;\n",
      "wh=2.*math.pi*100.;##rad/s\n",
      "Af=50.;\n",
      "##x=(1+bAo)\n",
      "x=Ao/Af;\n",
      "print\"%s %.2f %s\"%('\\n(1+bAo)=\\n',x,'')\n",
      "wfh=wh*x;\n",
      "print\"%s %.2f %s\"%('\\nclosed loop bandwidth=\\n',wfh,'')\n"
     ],
     "language": "python",
     "metadata": {},
     "outputs": [
      {
       "output_type": "stream",
       "stream": "stdout",
       "text": [
        "\n",
        "(1+bAo)=\n",
        " 200.00 \n",
        "\n",
        "closed loop bandwidth=\n",
        " 125663.71 \n"
       ]
      }
     ],
     "prompt_number": 3
    },
    {
     "cell_type": "heading",
     "level": 2,
     "metadata": {},
     "source": [
      "Ex5-pg742"
     ]
    },
    {
     "cell_type": "code",
     "collapsed": false,
     "input": [
      "import math\n",
      " \n",
      "##Example 12.5\n",
      "Av=10**5;\n",
      "Avf=50.;\n",
      "Rf=10.;##Kohm\n",
      "Ro=20000.;##Ohm\n",
      "##x=(1+bvAv)\n",
      "x=Av/Avf;\n",
      "print\"%s %.2e %s\"%('\\n(1+bvAv)=\\n',x,'')\n",
      "Rif=Rf*x;\n",
      "Rif=Rif*0.001;##MOhm\n",
      "print\"%s %.2f %s\"%('\\ninput resistance= ',Rif,' MOhm\\n')\n",
      "Rof=Ro/x;\n",
      "print\"%s %.2f %s\"%('\\noutput resistance= ',Rof,' Ohm\\n')\n"
     ],
     "language": "python",
     "metadata": {},
     "outputs": [
      {
       "output_type": "stream",
       "stream": "stdout",
       "text": [
        "\n",
        "(1+bvAv)=\n",
        " 2.00e+03 \n",
        "\n",
        "input resistance=  20.00  MOhm\n",
        "\n",
        "\n",
        "output resistance=  10.00  Ohm\n",
        "\n"
       ]
      }
     ],
     "prompt_number": 4
    },
    {
     "cell_type": "heading",
     "level": 2,
     "metadata": {},
     "source": [
      "Ex6-pg745"
     ]
    },
    {
     "cell_type": "code",
     "collapsed": false,
     "input": [
      "import math\n",
      "\n",
      "##Example 12.6\n",
      "Af=10**5;\n",
      "Aif=50.;\n",
      "Rf=10000.;\n",
      "Ro=20.;\n",
      "##x=(1+biAi)\n",
      "x=Af/Aif;\n",
      "print\"%s %.2e %s\"%('\\n(1+biAi)=\\n',x,'')\n",
      "Rif=Rf/x;\n",
      "print\"%s %.2f %s\"%('\\ninput resistance =  ',Rif,'Ohm\\n')\n",
      "Rof=Ro*x;\n",
      "Rof=Rof*0.001;##Mohm\n",
      "print\"%s %.2f %s\"%('\\noutput resistance= ',Rof,' MOhm\\n')\n"
     ],
     "language": "python",
     "metadata": {},
     "outputs": [
      {
       "output_type": "stream",
       "stream": "stdout",
       "text": [
        "\n",
        "(1+biAi)=\n",
        " 2.00e+03 \n",
        "\n",
        "input resistance =   5.00 Ohm\n",
        "\n",
        "\n",
        "output resistance=  40.00  MOhm\n",
        "\n"
       ]
      }
     ],
     "prompt_number": 1
    },
    {
     "cell_type": "heading",
     "level": 2,
     "metadata": {},
     "source": [
      "Ex7-pg751"
     ]
    },
    {
     "cell_type": "code",
     "collapsed": false,
     "input": [
      "import math\n",
      "\n",
      "##Example 12.7\n",
      "Ri=50.;\n",
      "R1=10.;\n",
      "R2=90.;\n",
      "Av=10**4;\n",
      "bv=1./(1.+R2/R1);\n",
      "print\"%s %.2f %s\"%('\\nfeedback transfer function=\\n',bv,'')\n",
      "Rif=Ri*(1.+bv*Av);\n",
      "Rif=Rif*0.001;##Mohm\n",
      "print\"%s %.2f %s\"%('\\ninput resistance= ',Rif,' MOhm\\n')\n"
     ],
     "language": "python",
     "metadata": {},
     "outputs": [
      {
       "output_type": "stream",
       "stream": "stdout",
       "text": [
        "\n",
        "feedback transfer function=\n",
        " 0.10 \n",
        "\n",
        "input resistance=  50.05  MOhm\n",
        "\n"
       ]
      }
     ],
     "prompt_number": 2
    },
    {
     "cell_type": "heading",
     "level": 2,
     "metadata": {},
     "source": [
      "Ex11-pg765"
     ]
    },
    {
     "cell_type": "code",
     "collapsed": false,
     "input": [
      "import math\n",
      " \n",
      "##Example 12.11\n",
      "hFE=100.;##transistor parameter\n",
      "Vbe=0.7;\n",
      "Vcc=10.;\n",
      "R1=55.;\n",
      "R2=12.;\n",
      "Re=1.;\n",
      "Rc=4.;\n",
      "Rl=4.;\n",
      "Icq=0.983;\n",
      "Vceq=5.08;\n",
      "Vt=0.026;\n",
      "r=hFE*Vt/Icq;\n",
      "print\"%s %.2f %s\"%('\\nsmall signal parameter resistance= ',r,' KOhm\\n')\n",
      "gm=Icq/Vt;\n",
      "print\"%s %.2f %s\"%('\\ntransconductance= ',gm,' mA/V\\n')\n",
      "Agf=-gm*(Rc/(Rc+Rl))/(1.+Re*(gm+1./r));\n",
      "print\"%s %.2f %s\"%('\\ntransconductance transfer function= ',Agf,' mA/V\\n')\n",
      "##as first approximation\n",
      "Agf2=-1./Re;\n",
      "print\"%s %.2f %s\"%('\\nAgf= ',Agf2,' mA/V\\n')\n",
      "Avf=Agf*Rl;\n",
      "print\"%s %.2f %s\"%('\\nvoltage gain=\\n',Avf,'')\n"
     ],
     "language": "python",
     "metadata": {},
     "outputs": [
      {
       "output_type": "stream",
       "stream": "stdout",
       "text": [
        "\n",
        "small signal parameter resistance=  2.64  KOhm\n",
        "\n",
        "\n",
        "transconductance=  37.81  mA/V\n",
        "\n",
        "\n",
        "transconductance transfer function=  -0.48  mA/V\n",
        "\n",
        "\n",
        "Agf=  -1.00  mA/V\n",
        "\n",
        "\n",
        "voltage gain=\n",
        " -1.93 \n"
       ]
      }
     ],
     "prompt_number": 3
    },
    {
     "cell_type": "heading",
     "level": 2,
     "metadata": {},
     "source": [
      "Ex15-pg777"
     ]
    },
    {
     "cell_type": "code",
     "collapsed": false,
     "input": [
      "import math\n",
      "\n",
      "##Example 12.15\n",
      "##Determine the loop gain fig12.45(a)\n",
      "hFE=100.;\n",
      "Vbe=0.7;\n",
      "Icq=0.492;\n",
      "r=5.28;\n",
      "gm=18.9;\n",
      "Rs=10.;\n",
      "R1=51.;\n",
      "R2=5.5;\n",
      "Re=0.500;\n",
      "Rc=10.;\n",
      "Rf=82.;\n",
      "x=r*R2/(r+R2);\n",
      "y=R1*x/(x+R1);\n",
      "t=Rs*y/(y+Rs);\n",
      "Req=t;\n",
      "print\"%s %.2f %s\"%('\\nequivalent resistance ',t,' KOhm\\n')\n",
      "T=gm*Rc*Req/(Rc+Rf+Req);\n",
      "print\"%s %.2f %s\"%('\\nthe loop gain=\\n',T,'')\n"
     ],
     "language": "python",
     "metadata": {},
     "outputs": [
      {
       "output_type": "stream",
       "stream": "stdout",
       "text": [
        "\n",
        "equivalent resistance  2.04  KOhm\n",
        "\n",
        "\n",
        "the loop gain=\n",
        " 4.09 \n"
       ]
      }
     ],
     "prompt_number": 8
    },
    {
     "cell_type": "heading",
     "level": 2,
     "metadata": {},
     "source": [
      "Ex19-pg791"
     ]
    },
    {
     "cell_type": "code",
     "collapsed": false,
     "input": [
      "import math\n",
      "\n",
      "##Example 12.19\n",
      "##T=b*100/(sqrt(1+(f/10^5)^2) angle=-3tan^-1(f/10^5)\n",
      "##stable at f180 at which phase becomes -180 degrees\n",
      "##-3*atan(f180/10^5)=-180\n",
      "f180=math.tan(60/57.3)*10**5;\n",
      "print\"%s %.2f %s\"%('\\nfrequency at -180 degree= ',f180,'f Hz\\n')\n",
      "b=0.2;\n",
      "T=b*100./(math.sqrt(1.+(f180/10**5)**2))**3;\n",
      "print\"%s %.2f %s\"%('\\nmagnitude of the loop gain=\\n',T,'')\n",
      "b=0.02;\n",
      "T=b*100./(math.sqrt(1.+(f180/10**5)**2))**3;\n",
      "print\"%s %.2f %s\"%('\\nmagnitude of the loop gain=\\n',T,'')\n"
     ],
     "language": "python",
     "metadata": {},
     "outputs": [
      {
       "output_type": "stream",
       "stream": "stdout",
       "text": [
        "\n",
        "frequency at -180 degree=  173174.23 f Hz\n",
        "\n",
        "\n",
        "magnitude of the loop gain=\n",
        " 2.50 \n",
        "\n",
        "magnitude of the loop gain=\n",
        " 0.25 \n"
       ]
      }
     ],
     "prompt_number": 9
    },
    {
     "cell_type": "heading",
     "level": 2,
     "metadata": {},
     "source": [
      "Ex22-pg798"
     ]
    },
    {
     "cell_type": "code",
     "collapsed": false,
     "input": [
      "import math\n",
      "\n",
      "##Example 12.22\n",
      "Ao=10**6;\n",
      "fPD=0.010;##KHz\n",
      "b=0.01;\n",
      "Af=Ao/(1.+b*Ao);\n",
      "print\"%s %.2f %s\"%('\\nlow frequency closed loop gain=\\n',Af,'')\n",
      "fc=fPD*(1.+b*Ao);\n",
      "print\"%s %.2f %s\"%('\\nclosed loop 3dB frequency= ',fc,' KHz\\n')\n"
     ],
     "language": "python",
     "metadata": {},
     "outputs": [
      {
       "output_type": "stream",
       "stream": "stdout",
       "text": [
        "\n",
        "low frequency closed loop gain=\n",
        " 99.99 \n",
        "\n",
        "closed loop 3dB frequency=  100.01  KHz\n",
        "\n"
       ]
      }
     ],
     "prompt_number": 10
    },
    {
     "cell_type": "heading",
     "level": 2,
     "metadata": {},
     "source": [
      "Ex23-pg799"
     ]
    },
    {
     "cell_type": "code",
     "collapsed": false,
     "input": [
      "import math\n",
      "\n",
      "##Example 12.23\n",
      "A=10**3;\n",
      "Cf=30.*10**-12;##feedback capacitor (F)\n",
      "R2=5.*10**5;\n",
      "Cm=Cf*(1.+A);\n",
      "print\"%s %.2e %s\"%('\\nMiller capacitance= ',Cm,' F\\n')\n",
      "fp=1/(2.*math.pi*R2*Cm);\n",
      "print\"%s %.2f %s\"%('\\ndominant pole frequency = ',fp,'Hz\\n')\n"
     ],
     "language": "python",
     "metadata": {},
     "outputs": [
      {
       "output_type": "stream",
       "stream": "stdout",
       "text": [
        "\n",
        "Miller capacitance=  3.00e-08  F\n",
        "\n",
        "\n",
        "dominant pole frequency =  10.60 Hz\n",
        "\n"
       ]
      }
     ],
     "prompt_number": 11
    }
   ],
   "metadata": {}
  }
 ]
}