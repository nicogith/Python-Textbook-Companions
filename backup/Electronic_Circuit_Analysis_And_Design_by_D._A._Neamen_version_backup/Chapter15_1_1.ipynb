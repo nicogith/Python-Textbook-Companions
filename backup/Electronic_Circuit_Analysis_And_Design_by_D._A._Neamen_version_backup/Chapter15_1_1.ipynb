{
 "metadata": {
  "name": "",
  "signature": "sha256:8d0dd3bab90dc7613b5ca5489532f94ae244e073567e3fb2fd8cc9148ba4ba3a"
 },
 "nbformat": 3,
 "nbformat_minor": 0,
 "worksheets": [
  {
   "cells": [
    {
     "cell_type": "heading",
     "level": 1,
     "metadata": {},
     "source": [
      "Chapter15-Applications and Design of Integrated Circuits"
     ]
    },
    {
     "cell_type": "heading",
     "level": 2,
     "metadata": {},
     "source": [
      "Ex2-pg935"
     ]
    },
    {
     "cell_type": "code",
     "collapsed": false,
     "input": [
      "\n",
      "import math\n",
      "\n",
      "##Example 15.2\n",
      "C=20.*10**-6;\n",
      "Req=1000.;\n",
      "fC=1./(C*Req);\n",
      "print\"%s %.2f %s\"%('\\nclock frequency = ',fC,' KHz\\n')\n"
     ],
     "language": "python",
     "metadata": {},
     "outputs": [
      {
       "output_type": "stream",
       "stream": "stdout",
       "text": [
        "\n",
        "clock frequency =  50.00  KHz\n",
        "\n"
       ]
      }
     ],
     "prompt_number": 1
    },
    {
     "cell_type": "heading",
     "level": 2,
     "metadata": {},
     "source": [
      "Ex3-pg936"
     ]
    },
    {
     "cell_type": "code",
     "collapsed": false,
     "input": [
      "import math\n",
      "\n",
      "##Example 15.3\n",
      "fC=10000.;\n",
      "f3dB=1000.;\n",
      "##x=C2/C1\n",
      "x=2.*math.pi*f3dB/fC;\n",
      "print\"%s %.2f %s\"%('\\ncapacitances C2/C1= \\n',x,'')\n"
     ],
     "language": "python",
     "metadata": {},
     "outputs": [
      {
       "output_type": "stream",
       "stream": "stdout",
       "text": [
        "\n",
        "capacitances C2/C1= \n",
        " 0.63 \n"
       ]
      }
     ],
     "prompt_number": 2
    },
    {
     "cell_type": "heading",
     "level": 2,
     "metadata": {},
     "source": [
      "Ex4-pg940"
     ]
    },
    {
     "cell_type": "code",
     "collapsed": false,
     "input": [
      "import math\n",
      "\n",
      "##Example 15.4\n",
      "C=0.1*10**-6;\n",
      "R=1000.;\n",
      "fo=1/(2.*math.pi*R*C*math.sqrt(3.));\n",
      "print\"%s %.2f %s\"%('\\nthe oscillation frequency =  ',fo,'Hz\\n')\n",
      "##minimum amplifier gain=8\n",
      "R=1.;##KOhm\n",
      "R2=8.*R;\n",
      "print\"%s %.2f %s\"%('\\nR2= ',R2,' KOhm\\n')\n"
     ],
     "language": "python",
     "metadata": {},
     "outputs": [
      {
       "output_type": "stream",
       "stream": "stdout",
       "text": [
        "\n",
        "the oscillation frequency =   918.88 Hz\n",
        "\n",
        "\n",
        "R2=  8.00  KOhm\n",
        "\n"
       ]
      }
     ],
     "prompt_number": 3
    },
    {
     "cell_type": "heading",
     "level": 2,
     "metadata": {},
     "source": [
      "Ex6-pg953"
     ]
    },
    {
     "cell_type": "code",
     "collapsed": false,
     "input": [
      "import math\n",
      "\n",
      "##Example 15.6\n",
      "R1=10000.;\n",
      "R2=90000.;\n",
      "Vh=10.;\n",
      "Vl=-10.;\n",
      "Vth=R1*Vh/(R1+R2);\n",
      "print\"%s %.2f %s\"%('\\nupper crossover voltage= ',Vth,' V\\n')\n",
      "Vtl=R1*Vl/(R1+R2);\n",
      "print\"%s %.2f %s\"%('\\nlower crossover voltage= ',Vtl,' V\\n')\n",
      "x=Vth-Vtl;\n",
      "print\"%s %.2f %s\"%('\\nhysteresis width =  ',x,'V\\n')\n"
     ],
     "language": "python",
     "metadata": {},
     "outputs": [
      {
       "output_type": "stream",
       "stream": "stdout",
       "text": [
        "\n",
        "upper crossover voltage=  1.00  V\n",
        "\n",
        "\n",
        "lower crossover voltage=  -1.00  V\n",
        "\n",
        "\n",
        "hysteresis width =   2.00 V\n",
        "\n"
       ]
      }
     ],
     "prompt_number": 4
    },
    {
     "cell_type": "heading",
     "level": 2,
     "metadata": {},
     "source": [
      "Ex7-pg958"
     ]
    },
    {
     "cell_type": "code",
     "collapsed": false,
     "input": [
      "import math\n",
      "\n",
      "##Example 15.7\n",
      "Vs=2.;\n",
      "Vh=15.;\n",
      "Vl=-15.;\n",
      "##hysteresis width=x\n",
      "x=60.*0.001;##(V)\n",
      "##Vth-Vtl=(R1/(R1+R2))*(Vh-Vl)\n",
      "##R2/R=y\n",
      "y=(Vh-Vl)/x-1.;\n",
      "print\"%s %.2f %s\"%('\\nR2/R1= \\n',y,'')\n",
      "Vref=(1.+1./y)*Vs;\n",
      "print\"%s %.2f %s\"%('\\nreference voltage= ',Vref,' V\\n')\n"
     ],
     "language": "python",
     "metadata": {},
     "outputs": [
      {
       "output_type": "stream",
       "stream": "stdout",
       "text": [
        "\n",
        "R2/R1= \n",
        " 499.00 \n",
        "\n",
        "reference voltage=  2.00  V\n",
        "\n"
       ]
      }
     ],
     "prompt_number": 5
    },
    {
     "cell_type": "heading",
     "level": 2,
     "metadata": {},
     "source": [
      "Ex10-pg969"
     ]
    },
    {
     "cell_type": "code",
     "collapsed": false,
     "input": [
      "import math\n",
      "\n",
      "##Example 15.10\n",
      "C=15.*10**-9;\n",
      "T=100.*10**-6;##(s) time\n",
      "R=T/(1.1*C);\n",
      "R=R*0.001;##Kohm\n",
      "print\"%s %.2f %s\"%('\\nResistance R= ',R,' KOhm\\n')\n"
     ],
     "language": "python",
     "metadata": {},
     "outputs": [
      {
       "output_type": "stream",
       "stream": "stdout",
       "text": [
        "\n",
        "Resistance R=  6.06  KOhm\n",
        "\n"
       ]
      }
     ],
     "prompt_number": 6
    },
    {
     "cell_type": "heading",
     "level": 2,
     "metadata": {},
     "source": [
      "Ex13-pg974"
     ]
    },
    {
     "cell_type": "code",
     "collapsed": false,
     "input": [
      "import math\n",
      "\n",
      "##Example 15.13\n",
      "Rl=10.;##load resistance \n",
      "Pl=20.;##power delivered to the load\n",
      "Ps=20.;##(W)\n",
      "Vp=math.sqrt(2.*Rl*Pl);\n",
      "print\"%s %.2f %s\"%('\\npeak output voltage= ',Vp,' V\\n')\n",
      "Ip=Vp/Rl;\n",
      "print\"%s %.2f %s\"%('\\npeak load current = ',Ip,'A\\n')\n",
      "Vs=math.pi*Rl*Ps/Vp;\n",
      "print\"%s %.2f %s\"%('\\nrequired supply voltage= ',Vs,' V\\n')\n"
     ],
     "language": "python",
     "metadata": {},
     "outputs": [
      {
       "output_type": "stream",
       "stream": "stdout",
       "text": [
        "\n",
        "peak output voltage=  20.00  V\n",
        "\n",
        "\n",
        "peak load current =  2.00 A\n",
        "\n",
        "\n",
        "required supply voltage=  31.42  V\n",
        "\n"
       ]
      }
     ],
     "prompt_number": 7
    },
    {
     "cell_type": "heading",
     "level": 2,
     "metadata": {},
     "source": [
      "Ex14-pg979"
     ]
    },
    {
     "cell_type": "code",
     "collapsed": false,
     "input": [
      "import math\n",
      "\n",
      "##Example 15.14\n",
      "Vonl=5;\n",
      "Vofl=4.96;\n",
      "I1=0.005;\n",
      "I2=1.5;\n",
      "dVo=Vonl-Vofl;\n",
      "dIo=I1-I2;\n",
      "Rvf=-dVo/dIo;\n",
      "print\"%s %.2f %s\"%('\\noutput resistance= ',Rvf,' Ohm\\n')\n",
      "LR=100.*(Vonl-Vofl)/Vonl;\n",
      "print\"%s %.2f %s\"%('\\nload regulation =\\n',LR,'')\n"
     ],
     "language": "python",
     "metadata": {},
     "outputs": [
      {
       "output_type": "stream",
       "stream": "stdout",
       "text": [
        "\n",
        "output resistance=  0.03  Ohm\n",
        "\n",
        "\n",
        "load regulation =\n",
        " 0.80 \n"
       ]
      }
     ],
     "prompt_number": 8
    },
    {
     "cell_type": "heading",
     "level": 2,
     "metadata": {},
     "source": [
      "Ex15-pg982"
     ]
    },
    {
     "cell_type": "code",
     "collapsed": false,
     "input": [
      "import math\n",
      "\n",
      "##Example 15.15\n",
      "Aol=1000.;\n",
      "Vref=5.;\n",
      "Vo=10.;\n",
      "Io=0.1*0.001;\n",
      "Vt=0.026;\n",
      "Rof=2.*Vt*Vo/(Io*Vref*Aol);\n",
      "print\"%s %.2f %s\"%('\\noutput resistance= ',Rof,' mOhm\\n')\n",
      "##dVo/Vo=V  and dIo/Io=I\n",
      "##V=-I*2*Vt/(Vref*Aol)\n",
      "##V/I=x\n",
      "x=-2.*Vt/(Vref*Aol);\n",
      "print\"%s %.2e %s\"%('\\npercent change=\\n',x,'')\n"
     ],
     "language": "python",
     "metadata": {},
     "outputs": [
      {
       "output_type": "stream",
       "stream": "stdout",
       "text": [
        "\n",
        "output resistance=  1.04  mOhm\n",
        "\n",
        "\n",
        "percent change=\n",
        " -1.04e-05 \n"
       ]
      }
     ],
     "prompt_number": 9
    },
    {
     "cell_type": "heading",
     "level": 2,
     "metadata": {},
     "source": [
      "Ex16-pg984"
     ]
    },
    {
     "cell_type": "code",
     "collapsed": false,
     "input": [
      "import math\n",
      "\n",
      "##Example 15.16\n",
      "Vz=6.3;\n",
      "Vbe=0.6;\n",
      "Veb=0.6;\n",
      "Vo=8.;\n",
      "R1=3.9;\n",
      "R2=3.4;\n",
      "R3=0.576;\n",
      "Ic3=(Vz-3.*Vbe)/(R1+R2+R3);\n",
      "print\"%s %.2f %s\"%('\\nbias current = ',Ic3,' mA\\n')\n",
      "Vb7=Ic3*R1+2.*Vbe;\n",
      "print\"%s %.2f %s\"%('\\ntemperature compensated reference voltage= ',Vb7,' V\\n')\n",
      "R13=2.23;\n",
      "R12=R13*Vo/Vb7-R13;\n",
      "print\"%s %.2f %s\"%('\\nR12= ',R12,' KOhm\\n')\n"
     ],
     "language": "python",
     "metadata": {},
     "outputs": [
      {
       "output_type": "stream",
       "stream": "stdout",
       "text": [
        "\n",
        "bias current =  0.57  mA\n",
        "\n",
        "\n",
        "temperature compensated reference voltage=  3.43  V\n",
        "\n",
        "\n",
        "R12=  2.97  KOhm\n",
        "\n"
       ]
      }
     ],
     "prompt_number": 10
    }
   ],
   "metadata": {}
  }
 ]
}