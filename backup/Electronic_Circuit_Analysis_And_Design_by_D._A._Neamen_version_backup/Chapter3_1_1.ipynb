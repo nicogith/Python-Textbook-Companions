{
 "metadata": {
  "name": "",
  "signature": "sha256:454a57b394e23d05ed048843520d141cbdae1d1bc179f5ca99f9342e5d6f5307"
 },
 "nbformat": 3,
 "nbformat_minor": 0,
 "worksheets": [
  {
   "cells": [
    {
     "cell_type": "heading",
     "level": 1,
     "metadata": {},
     "source": [
      "Chapter3-The Bipolar Junction Transistor"
     ]
    },
    {
     "cell_type": "heading",
     "level": 2,
     "metadata": {},
     "source": [
      "Ex1-pgpg104"
     ]
    },
    {
     "cell_type": "code",
     "collapsed": false,
     "input": [
      "import math\n",
      "\n",
      "\n",
      "##Example 3.1\n",
      "##let beta be \"b\"\n",
      "b=150.;##common emitter current gain\n",
      "iB=15*10**-3;##(mA) base current\n",
      "##assume transistor biased in forward active mode\n",
      "iC=b*iB;\n",
      "print\"%s %.2f %s\"%('\\ncollector current= ',iC,' mA\\n')\n",
      "iE=(1.+b)*iB;\n",
      "print\"%s %.2f %s\"%('\\nemitter current= ',iE,' mA\\n')\n",
      "a=b/(1.+b);\n",
      "print\"%s %.2f %s\"%('\\ncommon base current gain=',a,'')\n"
     ],
     "language": "python",
     "metadata": {},
     "outputs": [
      {
       "output_type": "stream",
       "stream": "stdout",
       "text": [
        "\n",
        "collector current=  2.25  mA\n",
        "\n",
        "\n",
        "emitter current=  2.27  mA\n",
        "\n",
        "\n",
        "common base current gain= 0.99 \n"
       ]
      }
     ],
     "prompt_number": 1
    },
    {
     "cell_type": "heading",
     "level": 2,
     "metadata": {},
     "source": [
      "Ex2-pg113"
     ]
    },
    {
     "cell_type": "code",
     "collapsed": false,
     "input": [
      "import math\n",
      "#calculate the \n",
      "##Example 3.2\n",
      "b=100.;##common emitter current gain\n",
      "BVcbo=120.;##(V) break down voltage of the B-C junction\n",
      "n=3.;##empirical constant\n",
      "BVceo=BVcbo/(b)**(1./n);\n",
      "print\"%s %.2f %s\"%('\\nbreakdown voltage= ',BVceo,' V\\n')\n"
     ],
     "language": "python",
     "metadata": {},
     "outputs": [
      {
       "output_type": "stream",
       "stream": "stdout",
       "text": [
        "\n",
        "breakdown voltage=  25.85  V\n",
        "\n"
       ]
      }
     ],
     "prompt_number": 2
    },
    {
     "cell_type": "heading",
     "level": 2,
     "metadata": {},
     "source": [
      "Ex3-pg115"
     ]
    },
    {
     "cell_type": "code",
     "collapsed": false,
     "input": [
      "import math\n",
      "\n",
      "##Example 3.3\n",
      "Vbb=4.;##(V)\n",
      "Rb=220.##(KOhm);\n",
      "Rc=2.;##(KOhm)\n",
      "Vcc=10.;##(V)\n",
      "Vbe=0.7;##(V)\n",
      "b=200.;\n",
      "##from fig.3.19(b)\n",
      "Ib=(Vbb-Vbe)/Rb;\n",
      "print\"%s %.2f %s\"%('\\nbase current= ',Ib,' mA\\n')\n",
      "Ic=b*Ib;\n",
      "print\"%s %.2f %s\"%('\\ncollector current= ',Ic,' mA\\n')\n",
      "Ie=(1.+b)*Ib;\n",
      "print\"%s %.2f %s\"%('\\nemitter current= ',Ie,' mA\\n')\n",
      "Vce=Vcc-Ic*Rc;\n",
      "print\"%s %.2f %s\"%('\\ncollector emitter voltage= ',Vce,' V\\n')\n"
     ],
     "language": "python",
     "metadata": {},
     "outputs": [
      {
       "output_type": "stream",
       "stream": "stdout",
       "text": [
        "\n",
        "base current=  0.01  mA\n",
        "\n",
        "\n",
        "collector current=  3.00  mA\n",
        "\n",
        "\n",
        "emitter current=  3.01  mA\n",
        "\n",
        "\n",
        "collector emitter voltage=  4.00  V\n",
        "\n"
       ]
      }
     ],
     "prompt_number": 3
    },
    {
     "cell_type": "heading",
     "level": 2,
     "metadata": {},
     "source": [
      "Ex4-pg116"
     ]
    },
    {
     "cell_type": "code",
     "collapsed": false,
     "input": [
      "import math\n",
      "\n",
      "##Example 3.4\n",
      "Vbb=1.5;##(V)\n",
      "Rb=580.;##(KOhm)\n",
      "Veb=0.6;##(V)\n",
      "Vcc=5.;##(V)\n",
      "b=100.;\n",
      "##writing Kirchhoff voltage law equation around E-B loop\n",
      "Ib=(Vcc-Veb-Vbb)/Rb;\n",
      "print\"%s %.2f %s\"%('\\nbase current= ',Ib,' mA\\n')\n",
      "Ic=b*Ib;\n",
      "print\"%s %.2f %s\"%('\\ncollector current= ',Ic,' mA\\n')\n",
      "Ie=(1.+b)*Ib;\n",
      "print\"%s %.2f %s\"%('\\nemitter current=',Ie,' mA\\n')\n",
      "Vec=(1./2.)*Vcc;\n",
      "print\"%s %.2f %s\"%('\\nce voltage= ',Vec,' V\\n')\n",
      "Rc=(Vcc-Vec)/Ic;\n",
      "print\"%s %.2f %s\"%('\\ncollector resistance= ',Rc,' KOhm\\n')\n"
     ],
     "language": "python",
     "metadata": {},
     "outputs": [
      {
       "output_type": "stream",
       "stream": "stdout",
       "text": [
        "\n",
        "base current=  0.01  mA\n",
        "\n",
        "\n",
        "collector current=  0.50  mA\n",
        "\n",
        "\n",
        "emitter current= 0.51  mA\n",
        "\n",
        "\n",
        "ce voltage=  2.50  V\n",
        "\n",
        "\n",
        "collector resistance=  5.00  KOhm\n",
        "\n"
       ]
      }
     ],
     "prompt_number": 4
    },
    {
     "cell_type": "heading",
     "level": 2,
     "metadata": {},
     "source": [
      "Ex5-pg119"
     ]
    },
    {
     "cell_type": "code",
     "collapsed": false,
     "input": [
      "import math\n",
      "\n",
      "##Example 3.5\n",
      "b=100.;\n",
      "Vbe=0.7;##(V)\n",
      "Vce=0.2;##(V)\n",
      "Vbb=8.;##(v)\n",
      "Rb=220.;##(KOhm)\n",
      "Ib=(Vbb-Vbe)/Rb\n",
      "print\"%s %.2f %s\"%('\\nbase current= ',Ib,' mA\\n')\n",
      "##transistor in active region\n",
      "Ic=b*Ib;\n",
      "print\"%s %.2f %s\"%('\\ncollector current= ',Ic,' mA\\n')\n",
      "Vcc=10.;##(V)\n",
      "Rc=4.;##(KOhm)\n",
      "Vce=Vcc-Ic*Rc;\n",
      "print\"%s %.2f %s\"%('\\ncollector emitter voltage= ',Vce,' V\\n')\n",
      "##saturation\n",
      "Vce=0.2;##(V)\n",
      "Ic=(Vcc-Vce)/Rc;\n",
      "print\"%s %.2f %s\"%('\\nsaturation collector current= ',Ic,' mA\\n')\n",
      "x=Ic/Ib\n",
      "##which is <b\n",
      "Ie=Ic+Ib;\n",
      "print\"%s %.2f %s\"%('\\nemitter current= ',Ie,' mA\\n')\n"
     ],
     "language": "python",
     "metadata": {},
     "outputs": [
      {
       "output_type": "stream",
       "stream": "stdout",
       "text": [
        "\n",
        "base current=  0.03  mA\n",
        "\n",
        "\n",
        "collector current=  3.32  mA\n",
        "\n",
        "\n",
        "collector emitter voltage=  -3.27  V\n",
        "\n",
        "\n",
        "saturation collector current=  2.45  mA\n",
        "\n",
        "\n",
        "emitter current=  2.48  mA\n",
        "\n"
       ]
      }
     ],
     "prompt_number": 5
    },
    {
     "cell_type": "heading",
     "level": 2,
     "metadata": {},
     "source": [
      "Ex6-pg122"
     ]
    },
    {
     "cell_type": "code",
     "collapsed": false,
     "input": [
      "\n",
      "import numpy\n",
      "import matplotlib\n",
      "from matplotlib import pyplot\n",
      "import math\n",
      "%matplotlib inline\n",
      "import warnings\n",
      "warnings.filterwarnings('ignore')\n",
      "#calculate the \n",
      "##Example 3.6\n",
      "Vbe=0.7;\n",
      "b=75.;\n",
      "##Q point values::\n",
      "##using KVL eq around the B-E loop\n",
      "##Vbb=Ib*Re+Vbe+Ie*Re\n",
      "##assuming transistor is in forward biased mode we can write Ie=(1+b)*Ib\n",
      "Vbb=6.;\n",
      "Rb=25.;##KOhm\n",
      "Re=0.6;##KOhm\n",
      "Ib=(Vbb-Vbe)/(Rb+(1.+b)*Re);\n",
      "print\"%s %.2f %s\"%('\\nbase current= ',Ib,' mA\\n')\n",
      "Ic=b*Ib;\n",
      "print\"%s %.2f %s\"%('\\ncollector current= ',Ic,' mA\\n')\n",
      "Ie=(1+b)*Ib;\n",
      "print\"%s %.2f %s\"%('\\nemitter current= ',Ie,' mA\\n')\n",
      "Vcc=12.;\n",
      "Rc=0.4;\n",
      "Vce=Vcc-Ic*Rc-Ie*Re;\n",
      "print\"%s %.2f %s\"%('\\ncollector emitter voltage= ',Vce,' V\\n')\n",
      "##load line::\n",
      "##using KVL law around C-E loop\n",
      "##Vce=Vcc-(Ic*(Rc+((1+B)/B)*Re));\n",
      "Ic=numpy.array([0.12,5.63])\n",
      "Vce=12.-(Ic)*1\n",
      "pyplot.plot(Vce,Ic)\n",
      "pyplot.xlabel(\"Vce\")\n",
      "pyplot.ylabel(\"Ic\")\n",
      "pyplot.show()\n",
      "\n"
     ],
     "language": "python",
     "metadata": {},
     "outputs": [
      {
       "output_type": "stream",
       "stream": "stdout",
       "text": [
        "\n",
        "base current=  0.08  mA\n",
        "\n",
        "\n",
        "collector current=  5.63  mA\n",
        "\n",
        "\n",
        "emitter current=  5.71  mA\n",
        "\n",
        "\n",
        "collector emitter voltage=  6.32  V\n",
        "\n"
       ]
      },
      {
       "metadata": {},
       "output_type": "display_data",
       "png": "[encoded data removed]",
       "text": [
        "<matplotlib.figure.Figure at 0x33d9e30>"
       ]
      }
     ],
     "prompt_number": 3
    },
    {
     "cell_type": "heading",
     "level": 2,
     "metadata": {},
     "source": [
      "Ex7-pg123"
     ]
    },
    {
     "cell_type": "code",
     "collapsed": false,
     "input": [
      "import math\n",
      "import numpy\n",
      "import matplotlib\n",
      "from matplotlib import pyplot\n",
      "%matplotlib inline\n",
      "#calculate the \n",
      "##Example 3.7\n",
      "Vbe=0.65;\n",
      "Vcc=5.;\n",
      "Rc=0.5;##KOhm\n",
      "b=100.;\n",
      "V1=-5.;\n",
      "Re=1.;##KOhm\n",
      "## Q-point values :: writing KVL eq around B-E loop\n",
      "Ie=(-V1-Vbe)/Re;\n",
      "print\"%s %.2f %s\"%('\\nemitter current= ',Ie,' mA\\n')\n",
      "Ib=(Ie/(1.+b));\n",
      "print\"%s %.2f %s\"%('\\nbase current= ',Ib,' mA\\n')\n",
      "Ic=(b/(1.+b))*Ie;\n",
      "print\"%s %.2f %s\"%('\\ncollector current= ',Ic,' mA\\n')\n",
      "Vce=Vcc-Ic*Rc-Ie*Re-V1;\n",
      "print\"%s %.2f %s\"%('\\ncollector emitter voltage= ',Vce,' V\\n')\n",
      "##load line::\n",
      "##Vce=Vcc-V1-(Ic*(Rc+((1+B)/B)*Re));\n",
      "\n",
      "Vce=numpy.array([0,2,3.5,4,6,8,10])\n",
      "Ic=(10.-Vce)/1.51;\n",
      "\n",
      "\n",
      "pyplot.plot(Vce,Ic)\n",
      "pyplot.xlabel(\"Vce\")\n",
      "pyplot.ylabel(\"Ic\")\n",
      "\n",
      "pyplot.title(\"load line\")\n",
      "\n"
     ],
     "language": "python",
     "metadata": {},
     "outputs": [
      {
       "output_type": "stream",
       "stream": "stdout",
       "text": [
        "\n",
        "emitter current=  4.35  mA\n",
        "\n",
        "\n",
        "base current=  0.04  mA\n",
        "\n",
        "\n",
        "collector current=  4.31  mA\n",
        "\n",
        "\n",
        "collector emitter voltage=  3.50  V\n",
        "\n"
       ]
      },
      {
       "metadata": {},
       "output_type": "pyout",
       "prompt_number": 4,
       "text": [
        "<matplotlib.text.Text at 0x75078d0>"
       ]
      },
      {
       "metadata": {},
       "output_type": "display_data",
       "png": "[encoded data removed]",
       "text": [
        "<matplotlib.figure.Figure at 0x75076f0>"
       ]
      }
     ],
     "prompt_number": 4
    },
    {
     "cell_type": "heading",
     "level": 2,
     "metadata": {},
     "source": [
      "Ex9-pg128"
     ]
    },
    {
     "cell_type": "code",
     "collapsed": false,
     "input": [
      "import math\n",
      "import numpy\n",
      "import matplotlib\n",
      "from matplotlib import pyplot\n",
      "%matplotlib inline\n",
      "#calculate the \n",
      "##Example 3.9\n",
      "b=100.;\n",
      "Vbe=0.7;\n",
      "V1=-5.;\n",
      "V2=12.;\n",
      "Rb=10.;\n",
      "Re=5.;\n",
      "Rc=5.;\n",
      "Rl=5.;\n",
      "##Q point values:: using KVL eq around B-E loop\n",
      "Ib=-(V1+Vbe)/(Rb+(1.+b)*Re);\n",
      "print\"%s %.2f %s\"%('\\nbase current= ',Ib,' mA\\n')\n",
      "Ic=b*Ib;\n",
      "print\"%s %.2f %s\"%('\\ncollector current= ',Ic,' mA\\n')\n",
      "Ie=(1.+b)*Ib;\n",
      "print\"%s %.2f %s\"%('\\nemitter current= ',Ie,' mA\\n')\n",
      "##at collector node we can write Ic=(V2-Vo)/Rc-Vo/Rl\n",
      "Vo=(V2/Rc-Ic)*Rc*Rl/(Rc+Rl);\n",
      "print\"%s %.2f %s\"%('\\noutput voltage= ',Vo,' V\\n')\n",
      "Vce=Vo-Ie*Re-V1;\n",
      "print\"%s %.2f %s\"%('\\ncollector emitter voltage= ',Vce,' V\\n')\n",
      "##load line::\n",
      "Rth=Rl*Rc/(Rl+Rc);\n",
      "print\"%s %.2f %s\"%('\\nThevenin rquivalent resistance= ',Rth,' KOhm\\n')\n",
      "Vth=(Rl/(Rl+Rc))*V2;\n",
      "print\"%s %.2f %s\"%('\\nThevenin equivalent voltage= ',Vth,' V\\n')\n",
      "##fig.3.36(c) KVL law\n",
      "##Vce=6-V1-Ic*Rth-Ie*Re;\n",
      "\n",
      "\n",
      "\n",
      "Vce=numpy.array([0,2,4.7,3.5,4,6,8,10])\n",
      "Ic=(11.-Vce)/7.5;\n",
      "\n",
      "\n",
      "pyplot.plot(Vce,Ic)\n",
      "pyplot.xlabel(\"Vce\")\n",
      "pyplot.ylabel(\"Ic\")\n",
      "pyplot.title(\"load line\")\n"
     ],
     "language": "python",
     "metadata": {},
     "outputs": [
      {
       "output_type": "stream",
       "stream": "stdout",
       "text": [
        "\n",
        "base current=  0.01  mA\n",
        "\n",
        "\n",
        "collector current=  0.83  mA\n",
        "\n",
        "\n",
        "emitter current=  0.84  mA\n",
        "\n",
        "\n",
        "output voltage=  3.91  V\n",
        "\n",
        "\n",
        "collector emitter voltage=  4.70  V\n",
        "\n",
        "\n",
        "Thevenin rquivalent resistance=  2.50  KOhm\n",
        "\n",
        "\n",
        "Thevenin equivalent voltage=  6.00  V\n",
        "\n"
       ]
      },
      {
       "metadata": {},
       "output_type": "pyout",
       "prompt_number": 5,
       "text": [
        "<matplotlib.text.Text at 0x34068b0>"
       ]
      },
      {
       "metadata": {},
       "output_type": "display_data",
       "png": "[encoded data removed]",
       "text": [
        "<matplotlib.figure.Figure at 0x758f0b0>"
       ]
      }
     ],
     "prompt_number": 5
    },
    {
     "cell_type": "heading",
     "level": 2,
     "metadata": {},
     "source": [
      "Ex10-pg132"
     ]
    },
    {
     "cell_type": "code",
     "collapsed": false,
     "input": [
      "import math\n",
      "#calculate the \n",
      "##Example 3.10\n",
      "Rb=0.24;\n",
      "Vcc=12.;\n",
      "Vbe=0.7;\n",
      "Vce=0.1;\n",
      "b=75.;\n",
      "Rc=5.;##Ohm\n",
      "##for Vt=0 ,transistor is cut off,Ib=Ic=0,Vo=Vcc=12 V,power dissipation is zero\n",
      "Vt=12.;##(V)\n",
      "Ib=(Vt-Vbe)/Rb;\n",
      "print\"%s %.2f %s\"%('\\nbase current= ',Ib,' mA\\n')\n",
      "Ic=(Vcc-Vce)/Rc;\n",
      "print\"%s %.2f %s\"%('\\ncollector current= ',Ic,'A\\n')\n",
      "Ib=0.0471;##A\n",
      "x=Ic/Ib\n",
      "##since Ic/Ib<b transistor is in saturation\n",
      "##Vo==Vcc;\n",
      "Vo=0.1;\n",
      "print\"%s %.2f %s\"%('\\noutput voltage= ',Vo,' V\\n')\n",
      "P=Ic*Vce+Ib*Vbe;\n",
      "print\"%s %.2f %s\"%('\\npower dissipation= ',P,' W\\n')\n"
     ],
     "language": "python",
     "metadata": {},
     "outputs": [
      {
       "output_type": "stream",
       "stream": "stdout",
       "text": [
        "\n",
        "base current=  47.08  mA\n",
        "\n",
        "\n",
        "collector current=  2.38 A\n",
        "\n",
        "\n",
        "output voltage=  0.10  V\n",
        "\n",
        "\n",
        "power dissipation=  0.27  W\n",
        "\n"
       ]
      }
     ],
     "prompt_number": 22
    },
    {
     "cell_type": "heading",
     "level": 2,
     "metadata": {},
     "source": [
      "Ex13-pg138"
     ]
    },
    {
     "cell_type": "code",
     "collapsed": false,
     "input": [
      "import math\n",
      "\n",
      "##Example 3.13\n",
      "b=100.;\n",
      "Vcc=12.;\n",
      "Vbe=0.7;\n",
      "Icq=1.;##mA\n",
      "Vceq=6.;\n",
      "Rc=(Vcc-Vceq)/Icq;\n",
      "print\"%s %.2f %s\"%('\\ncollector resistance= ',Rc,' KOhms\\n')\n",
      "Ibq=Icq/b;\n",
      "print\"%s %.2f %s\"%('\\nbase current= ',Ibq,' mA\\n')\n",
      "Rb=(Vcc-Vbe)/Ibq;\n",
      "print\"%s %.2f %s\"%('\\nbase resistance= ',Rb,' KOhms\\n')\n"
     ],
     "language": "python",
     "metadata": {},
     "outputs": [
      {
       "output_type": "stream",
       "stream": "stdout",
       "text": [
        "\n",
        "collector resistance=  6.00  KOhms\n",
        "\n",
        "\n",
        "base current=  0.01  mA\n",
        "\n",
        "\n",
        "base resistance=  1130.00  KOhms\n",
        "\n"
       ]
      }
     ],
     "prompt_number": 23
    },
    {
     "cell_type": "heading",
     "level": 2,
     "metadata": {},
     "source": [
      "Ex14-pg141"
     ]
    },
    {
     "cell_type": "code",
     "collapsed": false,
     "input": [
      "import math\n",
      "\n",
      "##Example 3.14\n",
      "R1=56.;\n",
      "R2=12.2;\n",
      "Rc=2.;\n",
      "Re=.4;\n",
      "Vcc=10.;\n",
      "Vbe=0.7;\n",
      "b=100.;\n",
      "##fig.3.53(b)\n",
      "Rth=R2*R1/(R1+R2);\n",
      "print\"%s %.2f %s\"%('\\nThevenin rquivalent resistance= ',Rth,' KOhm\\n')\n",
      "Vth=(R2/(R1+R2))*Vcc;\n",
      "print\"%s %.2f %s\"%('\\nThevenin equivalent voltage= ',Vth,' V\\n')\n",
      "Ibq=(Vth-Vbe)/(Rth+(1.+b)*Re);\n",
      "print\"%s %.2f %s\"%('\\nbase current= ',Ibq,' mA\\n')\n",
      "Icq=b*Ibq;\n",
      "print\"%s %.2f %s\"%('\\ncollector current= ',Icq,' mA\\n')\n",
      "Ieq=(1.+b)*Ibq;\n",
      "print\"%s %.2f %s\"%('\\nemitter current= ',Ieq,' mA\\n')\n",
      "Vceq=Vcc-Icq*Rc-Ieq*Re;\n",
      "print\"%s %.2f %s\"%('\\ncollector emitter voltage= ',Vceq,' V\\n')\n",
      "b=numpy.array([50,100,150])\n",
      "for x in range(0,150):\n",
      "    Ibq=(Vth-Vbe)/(Rth+(1.+x)*Re);\n",
      "print(\"Ibeq,Iceq,Ieq,Vceq\")\n",
      "print(Ibq)\n",
      "Icq=x*Ibq;\n",
      "print(Icq)\n",
      "Ieq=(1+x)*Ibq;\n",
      "print(Ieq)\n",
      "Vceq=Vcc-Icq*Rc-Ieq*Re;\n",
      "print(Vceq)\n",
      "print(\"\")\n",
      "\n"
     ],
     "language": "python",
     "metadata": {},
     "outputs": [
      {
       "output_type": "stream",
       "stream": "stdout",
       "text": [
        "\n",
        "Thevenin rquivalent resistance=  10.02  KOhm\n",
        "\n",
        "\n",
        "Thevenin equivalent voltage=  1.79  V\n",
        "\n",
        "\n",
        "base current=  0.02  mA\n",
        "\n",
        "\n",
        "collector current=  2.16  mA\n",
        "\n",
        "\n",
        "emitter current=  2.18  mA\n",
        "\n",
        "\n",
        "collector emitter voltage=  4.81  V\n",
        "\n",
        "Ibeq,Iceq,Ieq,Vceq\n",
        "0.0155511811024\n",
        "2.31712598425\n",
        "2.33267716535\n",
        "4.43267716535\n",
        "\n"
       ]
      }
     ],
     "prompt_number": 28
    },
    {
     "cell_type": "heading",
     "level": 2,
     "metadata": {},
     "source": [
      "Ex15-pg142"
     ]
    },
    {
     "cell_type": "code",
     "collapsed": false,
     "input": [
      "import math\n",
      "\n",
      "##Example 3.15\n",
      "Vcc=5.;\n",
      "Rc=1.;##KOhm\n",
      "Vbe=0.7;\n",
      "b=120.;\n",
      "Vceq=3.;\n",
      "Re=.510;\n",
      "Icq=(Vcc-Vceq)/(Rc+Re);\n",
      "print\"%s %.2f %s\"%('\\ncollector current= ',Icq,' mA\\n')\n",
      "Ibq=Icq/b;\n",
      "print\"%s %.2f %s\"%('\\nbase current= ',Ibq,' mA\\n')\n",
      "##for bias stable circuit\n",
      "Rth=0.1*(1.+b)*Re;\n",
      "print\"%s %.2f %s\"%('\\nThevenin rquivalent resistance= ',Rth,' KOhm\\n')\n",
      "##Ibq=(Vth-Vbe)/(Rth+(1+b)*Re)\n",
      "Vth=Ibq*(Rth+(1.+b)*Re)+Vbe;\n",
      "print\"%s %.2f %s\"%('\\nThevenin equivalent voltage= ',Vth,' V\\n')\n",
      "##Vth=(R2/(R1+R2))*Vcc\n",
      "##let x=(R2/(R1+R2))\n",
      "x=Vth/Vcc\n",
      "##Rth=6050=R1*x\n",
      "R1=6.05/x;\n",
      "print\"%s %.2f %s\"%('\\nR1= ',R1,'KOhms\\n')\n",
      "R2=x*R1/(1-x);\n",
      "print\"%s %.2f %s\"%('\\nR2= ',R2,'KOhms\\'')\n"
     ],
     "language": "python",
     "metadata": {},
     "outputs": [
      {
       "output_type": "stream",
       "stream": "stdout",
       "text": [
        "\n",
        "collector current=  1.32  mA\n",
        "\n",
        "\n",
        "base current=  0.01  mA\n",
        "\n",
        "\n",
        "Thevenin rquivalent resistance=  6.17  KOhm\n",
        "\n",
        "\n",
        "Thevenin equivalent voltage=  1.45  V\n",
        "\n",
        "\n",
        "R1=  20.87 KOhms\n",
        "\n",
        "\n",
        "R2=  8.52 KOhms'\n"
       ]
      }
     ],
     "prompt_number": 29
    },
    {
     "cell_type": "heading",
     "level": 2,
     "metadata": {},
     "source": [
      "Ex16-pg146"
     ]
    },
    {
     "cell_type": "code",
     "collapsed": false,
     "input": [
      "import math\n",
      "\n",
      "##Example 3.16\n",
      "R1=10.;\n",
      "b=50.;\n",
      "Vbe=0.7;\n",
      "V1=-5.;\n",
      "I1=-(V1+Vbe)/R1;\n",
      "print\"%s %.2f %s\"%('\\nreference current= ',I1,' mA\\n')\n",
      "Iq=I1/(1.+2./b);\n",
      "print\"%s %.2f %s\"%('\\nbias current= ',Iq,' mA\\n')\n",
      "##Ib=Ib1=Ib2\n",
      "Ib=Iq/b;\n",
      "print\"%s %.2f %s\"%('\\nbase current= ',Ib,' mA\\n')\n"
     ],
     "language": "python",
     "metadata": {},
     "outputs": [
      {
       "output_type": "stream",
       "stream": "stdout",
       "text": [
        "\n",
        "reference current=  0.43  mA\n",
        "\n",
        "\n",
        "bias current=  0.41  mA\n",
        "\n",
        "\n",
        "base current=  0.01  mA\n",
        "\n"
       ]
      }
     ],
     "prompt_number": 30
    },
    {
     "cell_type": "heading",
     "level": 2,
     "metadata": {},
     "source": [
      "Ex17-pg148"
     ]
    },
    {
     "cell_type": "code",
     "collapsed": false,
     "input": [
      "import math\n",
      "#calculate the \n",
      "##Example 3.17\n",
      "Vbe=0.7;\n",
      "Vcc=10.;\n",
      "V2=5.;\n",
      "b=100.;\n",
      "R1=100.;\n",
      "R2=50.;\n",
      "Re1=2.;\n",
      "Rth=R2*R1/(R1+R2);\n",
      "print\"%s %.2f %s\"%('\\nThevenin rquivalent resistance= ',Rth,' KOhm\\n')\n",
      "Vth=(R2/(R1+R2))*Vcc-V2;\n",
      "print\"%s %.2f %s\"%('\\nThevenin equivalent voltage= ',Vth,' V\\n')\n",
      "##Vth=Ib1*Rth+Vbe+Ie1*Re1-5 and Ie1=(1+b)*Ib1\n",
      "Ib1=(Vth+5-Vbe)/(Rth+(1+b)*Re1);\n",
      "print\"%s %.2f %s\"%('\\nIb1= ',Ib1,' mA\\n')\n",
      "Ic1=b*Ib1;\n",
      "print\"%s %.2f %s\"%('\\nIc1= ',Ic1,' mA\\n')\n",
      "Ie1=(1.+b)*Ib1;\n",
      "print\"%s %.2f %s\"%('\\nIe1= ',Ie1,' mA\\n')\n",
      "##summing the currents at the collector of Q1,Ir1+Ib2=Ic1\n",
      "##(5-Vc1)/Rc1+Ib2=Ic1\n",
      "##also Ib2=Ie2/(1+b)=(5-(Vc1+0.7))/(1+b)*Re2\n",
      "Rc1=5.;\n",
      "Re1=2.;\n",
      "Re2=2.;\n",
      "Rc2=1.5;\n",
      "Vc1=Rc1*(1.+b)*Re2*((5./Rc1)+(4.3/((1.+b)*Re2))-Ic1)/(((1.+b)*Re2)+Rc1);\n",
      "print\"%s %.2f %s\"%('\\nVc1= ',Vc1,' V\\n')\n",
      "Ir1=(5.-Vc1)/Rc1;\n",
      "print\"%s %.2f %s\"%('\\nIr1= ',Ir1,' mA\\n')\n",
      "Ve2=Vc1+Vbe;\n",
      "print\"%s %.2f %s\"%('\\nVe2= ',Ve2,' V\\n')\n",
      "Ie2=(5-Ve2)/Re1;\n",
      "print\"%s %.2f %s\"%('\\nIe2= ',Ie2,' mA\\n')\n",
      "Ic2=Ie2*b/(1.+b);\n",
      "print\"%s %.2f %s\"%('\\nIc2= ',Ic2,' mA\\n')\n",
      "Ib2=Ie2/(1.+b);\n",
      "print\"%s %.2f %s\"%('\\nIb2 ',Ib2,' mA\\n')\n",
      "Ve1=Ie1*Re1-5;\n",
      "print\"%s %.2f %s\"%('\\nVe1= ',Ve1,' V\\n')\n",
      "Vc2=Ic2*Rc2-5.;\n",
      "print\"%s %.2f %s\"%('\\nVc2= ',Vc2,' V\\n')\n",
      "Vce1=Vc1-Ve1;\n",
      "print\"%s %.2f %s\"%('\\nVce1= ',Vce1,'V\\n')\n",
      "Vec2=Ve2-Vc2;\n",
      "print\"%s %.2f %s\"%('\\nVec2= ',Vec2,' V\\n')\n"
     ],
     "language": "python",
     "metadata": {},
     "outputs": [
      {
       "output_type": "stream",
       "stream": "stdout",
       "text": [
        "\n",
        "Thevenin rquivalent resistance=  33.33  KOhm\n",
        "\n",
        "\n",
        "Thevenin equivalent voltage=  -1.67  V\n",
        "\n",
        "\n",
        "Ib1=  0.01  mA\n",
        "\n",
        "\n",
        "Ic1=  1.12  mA\n",
        "\n",
        "\n",
        "Ie1=  1.13  mA\n",
        "\n",
        "\n",
        "Vc1=  -0.48  V\n",
        "\n",
        "\n",
        "Ir1=  1.10  mA\n",
        "\n",
        "\n",
        "Ve2=  0.22  V\n",
        "\n",
        "\n",
        "Ie2=  2.39  mA\n",
        "\n",
        "\n",
        "Ic2=  2.36  mA\n",
        "\n",
        "\n",
        "Ib2  0.02  mA\n",
        "\n",
        "\n",
        "Ve1=  -2.74  V\n",
        "\n",
        "\n",
        "Vc2=  -1.45  V\n",
        "\n",
        "\n",
        "Vce1=  2.26 V\n",
        "\n",
        "\n",
        "Vec2=  1.68  V\n",
        "\n"
       ]
      }
     ],
     "prompt_number": 31
    }
   ],
   "metadata": {}
  }
 ]
}