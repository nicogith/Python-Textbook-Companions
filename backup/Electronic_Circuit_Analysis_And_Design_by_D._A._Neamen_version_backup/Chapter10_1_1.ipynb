{
 "metadata": {
  "name": "",
  "signature": "sha256:6b7c754b6ed46e47374605eefbbcd7d3c6bec34fcb694974971d2be63bb15a17"
 },
 "nbformat": 3,
 "nbformat_minor": 0,
 "worksheets": [
  {
   "cells": [
    {
     "cell_type": "heading",
     "level": 1,
     "metadata": {},
     "source": [
      "Chapter10-Integrated Circuit Biasing and Active Loads "
     ]
    },
    {
     "cell_type": "heading",
     "level": 2,
     "metadata": {},
     "source": [
      "Ex1-pg580"
     ]
    },
    {
     "cell_type": "code",
     "collapsed": false,
     "input": [
      "import math\n",
      "\n",
      "##Example 10.1\n",
      "Vbe=0.6;##(V)\n",
      "b=100.;\n",
      "V1=5.;\n",
      "Io=200.;##micro A\n",
      "Iref=Io*(1.+2./b);\n",
      "print\"%s %.2f %s\"%('\\nreference current= ',Iref,' microA\\n')\n",
      "Iref=Iref*0.001;##mA\n",
      "R1=(V1-Vbe)/Iref;\n",
      "print\"%s %.2f %s\"%('\\nR1= ',R1,' KOhm\\n')\n"
     ],
     "language": "python",
     "metadata": {},
     "outputs": [
      {
       "output_type": "stream",
       "stream": "stdout",
       "text": [
        "\n",
        "reference current=  204.00  microA\n",
        "\n",
        "\n",
        "R1=  21.57  KOhm\n",
        "\n"
       ]
      }
     ],
     "prompt_number": 1
    },
    {
     "cell_type": "heading",
     "level": 2,
     "metadata": {},
     "source": [
      "Ex2-pg582"
     ]
    },
    {
     "cell_type": "code",
     "collapsed": false,
     "input": [
      "import math\n",
      "\n",
      "##Example 10.2\n",
      "V1=5.;\n",
      "V2=-5.;\n",
      "R1=9.3;\n",
      "b=50.;\n",
      "Vbe=0.7;\n",
      "Va=80.;\n",
      "Iref=(V1-Vbe-V2)/R1;\n",
      "print\"%s %.2f %s\"%('\\nreference current = ',Iref,'mA\\n')\n",
      "Io=Iref/(1.+2./b);\n",
      "print\"%s %.2f %s\"%('\\noutput current= ',Io,'mA\\n')\n",
      "ro=Va/Io;\n",
      "print\"%s %.2f %s\"%('\\nsmall signal output resistance= ',ro,' KOhm\\n')\n",
      "##dIo=dVce2/ro\n",
      "Vce2=0.7;\n",
      "dIo=(V1-Vce2)/ro;\n",
      "print\"%s %.2f %s\"%('\\nchange in load current= ',dIo,' mA\\n')\n",
      "x=dIo/Io;\n",
      "x=x*100.;\n",
      "print\"%s %.2f %s\"%('\\npercent change in output current= ',x,' \\n')\n"
     ],
     "language": "python",
     "metadata": {},
     "outputs": [
      {
       "output_type": "stream",
       "stream": "stdout",
       "text": [
        "\n",
        "reference current =  1.00 mA\n",
        "\n",
        "\n",
        "output current=  0.96 mA\n",
        "\n",
        "\n",
        "small signal output resistance=  83.20  KOhm\n",
        "\n",
        "\n",
        "change in load current=  0.05  mA\n",
        "\n",
        "\n",
        "percent change in output current=  5.38  \n",
        "\n"
       ]
      }
     ],
     "prompt_number": 2
    },
    {
     "cell_type": "heading",
     "level": 2,
     "metadata": {},
     "source": [
      "Ex4-pg591"
     ]
    },
    {
     "cell_type": "code",
     "collapsed": false,
     "input": [
      "import math\n",
      "\n",
      "##Example 10.4\n",
      "Iref=1.;\n",
      "Io=12.*10**-3;\n",
      "V1=5.;\n",
      "V2=-5.;\n",
      "Vt=0.026;\n",
      "Vbe=0.7;\n",
      "R1=(V1-Vbe-V2)/Iref;\n",
      "print\"%s %.2f %s\"%('\\nResistance R1 = ',R1,'KOhm\\n')\n",
      "Re=(Vt/Io)*math.log(Iref/Io);\n",
      "print\"%s %.2f %s\"%('\\nResistance Re = ',Re,'KOhm\\n')\n",
      "Vbe=Io*Re;\n",
      "print\"%s %.2f %s\"%('\\ndifference between two B-E voltages= ',Vbe,' V\\n')\n"
     ],
     "language": "python",
     "metadata": {},
     "outputs": [
      {
       "output_type": "stream",
       "stream": "stdout",
       "text": [
        "\n",
        "Resistance R1 =  9.30 KOhm\n",
        "\n",
        "\n",
        "Resistance Re =  9.58 KOhm\n",
        "\n",
        "\n",
        "difference between two B-E voltages=  0.11  V\n",
        "\n"
       ]
      }
     ],
     "prompt_number": 3
    },
    {
     "cell_type": "heading",
     "level": 2,
     "metadata": {},
     "source": [
      "Ex5-pg593"
     ]
    },
    {
     "cell_type": "code",
     "collapsed": false,
     "input": [
      "import math\n",
      "\n",
      "##Example 10.5\n",
      "V1=5.;\n",
      "V2=-5.;\n",
      "R1=9.3;\n",
      "Re=9.580;\n",
      "Vt=0.026;\n",
      "b=100.;\n",
      "Vbe=0.7;\n",
      "Va=80.;\n",
      "Io=12.;\n",
      "ro2=Va/Io;\n",
      "print\"%s %.2f %s\"%('\\nsmall signal collector resistance= ',ro2,' MOhm\\n')\n",
      "Io=12.*0.001;##mA\n",
      "gm2=Io/Vt;\n",
      "print\"%s %.2f %s\"%('\\ntransconductance= ',gm2,' mA/V\\n')\n",
      "r=b*Vt/Io;\n",
      "print\"%s %.2f %s\"%('\\nResistance= ',r,' KOhm\\n')\n",
      "Ro=ro2*(1.+gm2*Re*r/(Re+r));\n",
      "print\"%s %.2f %s\"%('\\noutput resistance= ',Ro,' MOhm\\n')\n",
      "dVc2=4.;\n",
      "dIo=dVc2/Ro;\n",
      "print\"%s %.2f %s\"%('\\nchange in load current= ',dIo,' microA\\n')\n",
      "Io=12.;##micro A\n",
      "x=dIo/Io;\n",
      "x=x*100.;\n",
      "print\"%s %.2f %s\"%('\\npercent change in output current =\\n',x,'')\n"
     ],
     "language": "python",
     "metadata": {},
     "outputs": [
      {
       "output_type": "stream",
       "stream": "stdout",
       "text": [
        "\n",
        "small signal collector resistance=  6.67  MOhm\n",
        "\n",
        "\n",
        "transconductance=  0.46  mA/V\n",
        "\n",
        "\n",
        "Resistance=  216.67  KOhm\n",
        "\n",
        "\n",
        "output resistance=  34.90  MOhm\n",
        "\n",
        "\n",
        "change in load current=  0.11  microA\n",
        "\n",
        "\n",
        "percent change in output current =\n",
        " 0.96 \n"
       ]
      }
     ],
     "prompt_number": 4
    },
    {
     "cell_type": "heading",
     "level": 2,
     "metadata": {},
     "source": [
      "Ex6-pg597"
     ]
    },
    {
     "cell_type": "code",
     "collapsed": false,
     "input": [
      "import math\n",
      "\n",
      "##Example 10.6\n",
      "V1=5.;\n",
      "V2=-5.;\n",
      "Vbe=0.6;\n",
      "Veb=0.6;\n",
      "Iq2=400.*10**-3;##mA\n",
      "Iref=200.*10**-3;##mA\n",
      "Iq1=Iref;\n",
      "Iq3=Iq1;\n",
      "Iq4=600.*10**-6;\n",
      "R1=(V1-Veb-Vbe-V2)/Iref;\n",
      "print\"%s %.2f %s\"%('\\nResistance R1= ',R1,' KOhm\\n')\n"
     ],
     "language": "python",
     "metadata": {},
     "outputs": [
      {
       "output_type": "stream",
       "stream": "stdout",
       "text": [
        "\n",
        "Resistance R1=  44.00  KOhm\n",
        "\n"
       ]
      }
     ],
     "prompt_number": 5
    },
    {
     "cell_type": "heading",
     "level": 2,
     "metadata": {},
     "source": [
      "Ex7-pg601"
     ]
    },
    {
     "cell_type": "code",
     "collapsed": false,
     "input": [
      "import math\n",
      " \n",
      "##Example 10.7\n",
      "##uox*Cox/2=x\n",
      "x=20.*10**-6;##A/V^2\n",
      "Vtn=1.;\n",
      "V1=5.;\n",
      "V2=0.;\n",
      "Iref=0.25*10**-3;\n",
      "Io=0.1*10**-3;\n",
      "Vgs2=1.85;\n",
      "##let y=W/L\n",
      "y2=Io/(x*(Vgs2-Vtn)**2);\n",
      "print\"%s %.2f %s\"%('\\nwidth per length 2= ',y2,'\\n')\n",
      "y1=Iref/(x*(Vgs2-Vtn)**2);\n",
      "print\"%s %.2f %s\"%('\\nwidth per length 1= ',y1,'\\n')\n",
      "Vgs1=Vgs2;\n",
      "Vgs3=V1-V2-Vgs1;\n",
      "print\"%s %.2f %s\"%('\\nVgs3= ',Vgs3,' V\\n')\n",
      "y3=Iref/(x*(Vgs3-Vtn)**2);\n",
      "print\"%s %.2f %s\"%('\\nwidth per length 3= ',y3,'\\n')\n"
     ],
     "language": "python",
     "metadata": {},
     "outputs": [
      {
       "output_type": "stream",
       "stream": "stdout",
       "text": [
        "\n",
        "width per length 2=  6.92 \n",
        "\n",
        "\n",
        "width per length 1=  17.30 \n",
        "\n",
        "\n",
        "Vgs3=  3.15  V\n",
        "\n",
        "\n",
        "width per length 3=  2.70 \n",
        "\n"
       ]
      }
     ],
     "prompt_number": 6
    },
    {
     "cell_type": "heading",
     "level": 2,
     "metadata": {},
     "source": [
      "Ex8-pg604"
     ]
    },
    {
     "cell_type": "code",
     "collapsed": false,
     "input": [
      "import math\n",
      "\n",
      "##Example 10.8\n",
      "Iref=100.;\n",
      "Io=Iref;\n",
      "##lambda=y\n",
      "y=0.01;\n",
      "gm=0.5*10**3;\n",
      "ro=1./(y*Iref);\n",
      "print\"%s %.2f %s\"%('\\noutput resistance= ',ro,' MOhm\\n')\n",
      "ro2=1.;\n",
      "ro4=1.;\n",
      "Ro=ro4+ro2*(1.+gm*ro4);\n",
      "print\"%s %.2f %s\"%('\\noutput resistance of cascode circuit= ',Ro,' MOhm\\n')\n"
     ],
     "language": "python",
     "metadata": {},
     "outputs": [
      {
       "output_type": "stream",
       "stream": "stdout",
       "text": [
        "\n",
        "output resistance=  1.00  MOhm\n",
        "\n",
        "\n",
        "output resistance of cascode circuit=  502.00  MOhm\n",
        "\n"
       ]
      }
     ],
     "prompt_number": 7
    },
    {
     "cell_type": "heading",
     "level": 2,
     "metadata": {},
     "source": [
      "Ex9-pg609"
     ]
    },
    {
     "cell_type": "code",
     "collapsed": false,
     "input": [
      "import math\n",
      "\n",
      "##Example 10.9\n",
      "Idss1=2.;\n",
      "Idss2=1.;\n",
      "Vp1=-1.5;\n",
      "Vp2=Vp1;\n",
      "##lambda=y\n",
      "y1=0.05;\n",
      "y2=y1;\n",
      "V2=-5.;\n",
      "Vds=1.5;\n",
      "Vsmin=Vds+V2;\n",
      "print\"%s %.2f %s\"%('\\nminimum value of Vs= ',Vsmin,' V\\n')\n",
      "Io=Idss2*(1.+y1*Vds);\n",
      "print\"%s %.2f %s\"%('\\noutput current= ',Io,' mA\\n')\n",
      "Vgs1=(1.-math.sqrt(Io/Idss1))*Vp1;\n",
      "print\"%s %.2f %s\"%('\\ngate to source voltage of Q1= ',Vgs1,' V\\n')\n",
      "V1=Vgs1+Vsmin;\n",
      "print\"%s %.2f %s\"%('\\nV1= ',V1,' V\\n')\n"
     ],
     "language": "python",
     "metadata": {},
     "outputs": [
      {
       "output_type": "stream",
       "stream": "stdout",
       "text": [
        "\n",
        "minimum value of Vs=  -3.50  V\n",
        "\n",
        "\n",
        "output current=  1.07  mA\n",
        "\n",
        "\n",
        "gate to source voltage of Q1=  -0.40  V\n",
        "\n",
        "\n",
        "V1=  -3.90  V\n",
        "\n"
       ]
      }
     ],
     "prompt_number": 8
    },
    {
     "cell_type": "heading",
     "level": 2,
     "metadata": {},
     "source": [
      "Ex10-pg615"
     ]
    },
    {
     "cell_type": "code",
     "collapsed": false,
     "input": [
      "import math\n",
      "\n",
      "##Example 10.10\n",
      "Vt=0.026;\n",
      "Van=120.;\n",
      "Vap=80.;\n",
      "Av=-(1./Vt)/(1./Van+1./Vap);\n",
      "print\"%s %.2f %s\"%('\\nsmall signal open circuit voltage gain=\\n',Av,'')\n"
     ],
     "language": "python",
     "metadata": {},
     "outputs": [
      {
       "output_type": "stream",
       "stream": "stdout",
       "text": [
        "\n",
        "small signal open circuit voltage gain=\n",
        " -1846.15 \n"
       ]
      }
     ],
     "prompt_number": 9
    },
    {
     "cell_type": "heading",
     "level": 2,
     "metadata": {},
     "source": [
      "Ex11-pg620"
     ]
    },
    {
     "cell_type": "code",
     "collapsed": false,
     "input": [
      "import math\n",
      "\n",
      "##Example 10.11\n",
      "Van=120.;\n",
      "Vap=80.;\n",
      "Vt=0.026;\n",
      "Ico=0.001;\n",
      "##Rl=infinity\n",
      "Av=-(1./Vt)/(1./Van+1./Vap);\n",
      "print\"%s %.2f %s\"%('\\nsmall signal open circuit voltage gain=\\n',Av,'')\n",
      "Rl=100.;\n",
      "Av1=-(1./Vt)/(1./Van+1./Vap+1./Rl);\n",
      "print\"%s %.2f %s\"%('\\nsmall signal open circuit voltage gain=',Av1,'')\n",
      "Rl=10.;\n",
      "Av2=-(1./Vt)/(1./Van+1./Vap+1./Rl);\n",
      "print\"%s %.2f %s\"%('\\nsmall signal open circuit voltage gain=\\n',Av2,'')\n"
     ],
     "language": "python",
     "metadata": {},
     "outputs": [
      {
       "output_type": "stream",
       "stream": "stdout",
       "text": [
        "\n",
        "small signal open circuit voltage gain=\n",
        " -1846.15 \n",
        "\n",
        "small signal open circuit voltage gain= -1247.40 \n",
        "\n",
        "small signal open circuit voltage gain=\n",
        " -318.30 \n"
       ]
      }
     ],
     "prompt_number": 10
    },
    {
     "cell_type": "heading",
     "level": 2,
     "metadata": {},
     "source": [
      "Ex12-pg623"
     ]
    },
    {
     "cell_type": "code",
     "collapsed": false,
     "input": [
      "import math\n",
      " \n",
      "##Example 10.12\n",
      "##lambda=y\n",
      "yn=0.01;\n",
      "yp=0.01;\n",
      "Vtn=1.;\n",
      "Kn=1.;\n",
      "Iref=0.5;\n",
      "gm=2.*math.sqrt(Kn*Iref);\n",
      "print\"%s %.2f %s\"%('\\ntransconductance = ',gm,'mA/V\\n')\n",
      "go=yn*Iref;\n",
      "print\"%s %.2f %s\"%('\\nsmall signal transistor conductance= ',go,' mA/V\\n')\n",
      "go2=go;\n",
      "##for Rl=infinity\n",
      "Av=-gm/(go+go2);\n",
      "print\"%s %.2f %s\"%('\\nvoltage gain= ',Av,' \\n')\n",
      "Rl=100.;##Kohm\n",
      "gl=0.01;\n",
      "Av=-gm/(go+gl+go2);\n",
      "print\"%s %.2f %s\"%('\\nvoltage gain= \\n',Av,'')\n"
     ],
     "language": "python",
     "metadata": {},
     "outputs": [
      {
       "output_type": "stream",
       "stream": "stdout",
       "text": [
        "\n",
        "transconductance =  1.41 mA/V\n",
        "\n",
        "\n",
        "small signal transistor conductance=  0.01  mA/V\n",
        "\n",
        "\n",
        "voltage gain=  -141.42  \n",
        "\n",
        "\n",
        "voltage gain= \n",
        " -70.71 \n"
       ]
      }
     ],
     "prompt_number": 11
    }
   ],
   "metadata": {}
  }
 ]
}