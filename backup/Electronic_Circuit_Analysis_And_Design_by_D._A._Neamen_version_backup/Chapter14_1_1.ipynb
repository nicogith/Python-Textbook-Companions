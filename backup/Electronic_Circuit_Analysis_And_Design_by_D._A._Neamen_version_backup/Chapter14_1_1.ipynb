{
 "metadata": {
  "name": "",
  "signature": "sha256:346bac54aa836b30505ba957f43799ddc8ade182f697449e8221de9753ec8a1b"
 },
 "nbformat": 3,
 "nbformat_minor": 0,
 "worksheets": [
  {
   "cells": [
    {
     "cell_type": "heading",
     "level": 1,
     "metadata": {},
     "source": [
      "Chapter14-Nonideal Effects in Operational Amplifier Circuits"
     ]
    },
    {
     "cell_type": "heading",
     "level": 2,
     "metadata": {},
     "source": [
      "Ex2-pg880"
     ]
    },
    {
     "cell_type": "code",
     "collapsed": false,
     "input": [
      "import math\n",
      "\n",
      "\n",
      "##Example 14.2\n",
      "R2=10000.;\n",
      "Ri=10000.\n",
      "Aol=10**5;\n",
      "Rif=1./(1./Ri+(1.+Aol)/R2);\n",
      "print\"%s %.2f %s\"%('\\nclosed loop input resistance = ',Rif,'Ohm\\n')\n"
     ],
     "language": "python",
     "metadata": {},
     "outputs": [
      {
       "output_type": "stream",
       "stream": "stdout",
       "text": [
        "\n",
        "closed loop input resistance =  0.10 Ohm\n",
        "\n"
       ]
      }
     ],
     "prompt_number": 1
    },
    {
     "cell_type": "heading",
     "level": 2,
     "metadata": {},
     "source": [
      "Ex3-pg883"
     ]
    },
    {
     "cell_type": "code",
     "collapsed": false,
     "input": [
      "import math\n",
      " \n",
      "##Example 14.3\n",
      "Aol=10**5;\n",
      "Ri=10.;\n",
      "R1=10.;\n",
      "R2=R1;\n",
      "Rif=(Ri*(1.+Aol)+R2*(1.+Ri/R1))/(1.+R2/R1);\n",
      "Rif=Rif*0.001;##Mohm\n",
      "print\"%s %.2f %s\"%('\\ninput resistance  ',Rif,'MOhm\\n')\n"
     ],
     "language": "python",
     "metadata": {},
     "outputs": [
      {
       "output_type": "stream",
       "stream": "stdout",
       "text": [
        "\n",
        "input resistance   500.01 MOhm\n",
        "\n"
       ]
      }
     ],
     "prompt_number": 2
    },
    {
     "cell_type": "heading",
     "level": 2,
     "metadata": {},
     "source": [
      "Ex5-pg888"
     ]
    },
    {
     "cell_type": "code",
     "collapsed": false,
     "input": [
      "import math\n",
      " \n",
      "##Example 14.5\n",
      "Ao=2*10**5;\n",
      "fPD=5.;\n",
      "fT=fPD*Ao;\n",
      "print\"%s %.2f %s\"%('\\nunity gain bandwidth= ',fT,' Hz\\n')\n",
      "f3dB=20.*10**3;\n",
      "Acl=fT/f3dB;\n",
      "print\"%s %.2f %s\"%('\\nclosed loop gain=\\n',Acl,'')\n"
     ],
     "language": "python",
     "metadata": {},
     "outputs": [
      {
       "output_type": "stream",
       "stream": "stdout",
       "text": [
        "\n",
        "unity gain bandwidth=  1000000.00  Hz\n",
        "\n",
        "\n",
        "closed loop gain=\n",
        " 50.00 \n"
       ]
      }
     ],
     "prompt_number": 3
    },
    {
     "cell_type": "heading",
     "level": 2,
     "metadata": {},
     "source": [
      "Ex6-pg890"
     ]
    },
    {
     "cell_type": "code",
     "collapsed": false,
     "input": [
      "import math\n",
      "\n",
      "##Example 14.6\n",
      "Iq=19*10**-6;\n",
      "C1=30*10**-12;\n",
      "SR=Iq/C1;\n",
      "SR=SR*10**-6;\n",
      "print\"%s %.2f %s\"%('\\nslew rate= ',SR,' V/micros\\n')\n"
     ],
     "language": "python",
     "metadata": {},
     "outputs": [
      {
       "output_type": "stream",
       "stream": "stdout",
       "text": [
        "\n",
        "slew rate=  0.63  V/micros\n",
        "\n"
       ]
      }
     ],
     "prompt_number": 4
    },
    {
     "cell_type": "heading",
     "level": 2,
     "metadata": {},
     "source": [
      "Ex7-pg892"
     ]
    },
    {
     "cell_type": "code",
     "collapsed": false,
     "input": [
      "import math\n",
      "\n",
      "##Example 14.7\n",
      "fT=1000.;##KHz\n",
      "Aclo=10.;\n",
      "SR=1.*10**3;\n",
      "Vpo=10.;\n",
      "f3dB=fT/Aclo;\n",
      "print\"%s %.2f %s\"%('\\nsmall signal closed loop bandwidth= ',f3dB,' KHz\\n')\n",
      "fmax=SR/(2.*math.pi*Vpo);\n",
      "print\"%s %.2f %s\"%('\\nfull power bandwidth= ',fmax,' KHz\\n')\n"
     ],
     "language": "python",
     "metadata": {},
     "outputs": [
      {
       "output_type": "stream",
       "stream": "stdout",
       "text": [
        "\n",
        "small signal closed loop bandwidth=  100.00  KHz\n",
        "\n",
        "\n",
        "full power bandwidth=  15.92  KHz\n",
        "\n"
       ]
      }
     ],
     "prompt_number": 5
    },
    {
     "cell_type": "heading",
     "level": 2,
     "metadata": {},
     "source": [
      "Ex8-pg895"
     ]
    },
    {
     "cell_type": "code",
     "collapsed": false,
     "input": [
      "import math\n",
      " \n",
      "##Example 14.8\n",
      "Is1=10**-14;\n",
      "Is2=1.05*10**-14;\n",
      "Vt=0.026;\n",
      "Vos=Vt*math.log(Is2/Is1);\n",
      "print\"%s %.2e %s\"%('\\nthe offset voltage =  ',Vos,'V\\n')\n"
     ],
     "language": "python",
     "metadata": {},
     "outputs": [
      {
       "output_type": "stream",
       "stream": "stdout",
       "text": [
        "\n",
        "the offset voltage =   1.27e-03 V\n",
        "\n"
       ]
      }
     ],
     "prompt_number": 6
    },
    {
     "cell_type": "heading",
     "level": 2,
     "metadata": {},
     "source": [
      "Ex10-pg900"
     ]
    },
    {
     "cell_type": "code",
     "collapsed": false,
     "input": [
      "import math\n",
      "\n",
      "##Example 14.10\n",
      "Kn1=105.;\n",
      "Kn2=100.;\n",
      "Iq=200.;\n",
      "dKn=Kn1-Kn2;\n",
      "print\"%s %.2f %s\"%('\\ndifference in conduction parameter= ',dKn,' microA/V^2\\n')\n",
      "Kn=(Kn1+Kn2)/2.;\n",
      "print\"%s %.2f %s\"%('\\naverage of the conduction parameter= ',Kn,' microA/V^2\\n')\n",
      "Vos=math.sqrt(Iq/(2.*Kn))*dKn/(2.*Kn);\n",
      "print\"%s %.2f %s\"%('\\noffset voltage= ',Vos,' V\\n')\n"
     ],
     "language": "python",
     "metadata": {},
     "outputs": [
      {
       "output_type": "stream",
       "stream": "stdout",
       "text": [
        "\n",
        "difference in conduction parameter=  5.00  microA/V^2\n",
        "\n",
        "\n",
        "average of the conduction parameter=  102.50  microA/V^2\n",
        "\n",
        "\n",
        "offset voltage=  0.02  V\n",
        "\n"
       ]
      }
     ],
     "prompt_number": 7
    },
    {
     "cell_type": "heading",
     "level": 2,
     "metadata": {},
     "source": [
      "Ex11-pg901"
     ]
    },
    {
     "cell_type": "code",
     "collapsed": false,
     "input": [
      "import math\n",
      "\n",
      "##Example 14.11\n",
      "Rs=100.;\n",
      "R4=100000.;\n",
      "R3=100000.;\n",
      "V1=15.;\n",
      "V2=-15.;\n",
      "Vy=Rs*V1/(Rs+R4);\n",
      "Vy=Vy*1000.;##mV\n",
      "print\"%s %.2f %s\"%('\\nVoltage Vy = ',Vy,'mV\\n')\n"
     ],
     "language": "python",
     "metadata": {},
     "outputs": [
      {
       "output_type": "stream",
       "stream": "stdout",
       "text": [
        "\n",
        "Voltage Vy =  14.99 mV\n",
        "\n"
       ]
      }
     ],
     "prompt_number": 8
    },
    {
     "cell_type": "heading",
     "level": 2,
     "metadata": {},
     "source": [
      "Ex13-pg908"
     ]
    },
    {
     "cell_type": "code",
     "collapsed": false,
     "input": [
      "import math\n",
      "\n",
      "##Example 14.13\n",
      "R1=10.;\n",
      "R2=100.;\n",
      "Ib1=1.1*10**-3;\n",
      "Ib2=1.*10**-3;\n",
      "vo=Ib1*R2;\n",
      "print\"%s %.2f %s\"%('\\noutput voltage = ',vo,'V\\n')\n",
      "R3=R1*R2/(R1+R2);\n",
      "print\"%s %.2f %s\"%('\\nR3= ',R3,' KOhm\\n')\n",
      "vo=R2*(Ib1-Ib2);\n",
      "print\"%s %.2f %s\"%('\\noutput voltage= ',vo,' V\\n')\n"
     ],
     "language": "python",
     "metadata": {},
     "outputs": [
      {
       "output_type": "stream",
       "stream": "stdout",
       "text": [
        "\n",
        "output voltage =  0.11 V\n",
        "\n",
        "\n",
        "R3=  9.09  KOhm\n",
        "\n",
        "\n",
        "output voltage=  0.01  V\n",
        "\n"
       ]
      }
     ],
     "prompt_number": 9
    }
   ],
   "metadata": {}
  }
 ]
}