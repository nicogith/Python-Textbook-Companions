{
 "metadata": {
  "name": "",
  "signature": "sha256:230e38613ff389c9b83b1ccaac7bd389b698eb1c9fba0f06950798a22a773eaf"
 },
 "nbformat": 3,
 "nbformat_minor": 0,
 "worksheets": [
  {
   "cells": [
    {
     "cell_type": "heading",
     "level": 1,
     "metadata": {},
     "source": [
      "Chapter2-Diode Circuits"
     ]
    },
    {
     "cell_type": "heading",
     "level": 2,
     "metadata": {},
     "source": [
      "Ex1-pg55"
     ]
    },
    {
     "cell_type": "code",
     "collapsed": false,
     "input": [
      "import math\n",
      " \n",
      "##Example 2.1\n",
      "v_I=120.;##(V)rms primary input  \n",
      "v_o=9.;##(V)peak output voltage\n",
      "V_Y=0.7;##(V)diode cut in voltage\n",
      "##for center-tapped transformer circuit in fig.2.6(a)\n",
      "v_S=v_o+V_Y##(V)peak value of secondary voltage\n",
      "print\"%s %.2f %s\"%('\\npeak value of secondary voltage= ',v_S,' V\\n')\n",
      "v_S_rms=v_S/math.sqrt(2)##for a sinusoidal signal rms value of v_S\n",
      "print\"%s %.2f %s\"%('\\nrms value of v_S= ',v_S_rms,' V\\n')\n",
      "##let turns ratio of the primary to secondary winding be x=N1/N2\n",
      "x=v_I/v_S_rms;\n",
      "print\"%s %.2f %s\"%('\\nturns ratio= \\n',x,'')\n",
      "##for the bridge circuit in fig.2.7(a)\n",
      "v_Sb=v_o+2*V_Y;##(V)peak value of secondary voltage\n",
      "print\"%s %.2f %s\"%('\\npeak value of secondary voltage= ',v_Sb,' V\\n')\n",
      "v_S_rms=v_Sb/math.sqrt(2.);##for a sinusoidal signal rms value of v_S\n",
      "print\"%s %.2f %s\"%('\\nrms value of v_S= ',v_S_rms,' V\\n')\n",
      "##let turns ratio of the primary to secondary winding be x=N1/N2\n",
      "x=v_I/v_S_rms;\n",
      "print\"%s %.2f %s\"%('\\nturns ratio=\\n',x,'')\n",
      "##for center tapped rectifier\n",
      "PIV=2*v_S-V_Y;\n",
      "print\"%s %.2f %s\"%('\\npeak inverse voltage of a diode= ',PIV,' V\\n')\n",
      "##for the bridge rectifier peak inverse voltage of a diode\n",
      "PIV=v_Sb-V_Y;\n",
      "print\"%s %.2f %s\"%('\\npeak inverse voltage of a diode=\\n',PIV,'V')\n",
      "##advantage of bridge rectifier over center tapped rectifier is it requies only half of the turns\n"
     ],
     "language": "python",
     "metadata": {},
     "outputs": [
      {
       "output_type": "stream",
       "stream": "stdout",
       "text": [
        "\n",
        "peak value of secondary voltage=  9.70  V\n",
        "\n",
        "\n",
        "rms value of v_S=  6.86  V\n",
        "\n",
        "\n",
        "turns ratio= \n",
        " 17.50 \n",
        "\n",
        "peak value of secondary voltage=  10.40  V\n",
        "\n",
        "\n",
        "rms value of v_S=  7.35  V\n",
        "\n",
        "\n",
        "turns ratio=\n",
        " 16.32 \n",
        "\n",
        "peak inverse voltage of a diode=  18.70  V\n",
        "\n",
        "\n",
        "peak inverse voltage of a diode=\n",
        " 9.70 V\n"
       ]
      }
     ],
     "prompt_number": 2
    },
    {
     "cell_type": "heading",
     "level": 2,
     "metadata": {},
     "source": [
      "Ex2-pg59"
     ]
    },
    {
     "cell_type": "code",
     "collapsed": false,
     "input": [
      "import math\n",
      "\n",
      "##Example 2.2\n",
      "##full wave rectifier circuit with 60Hz input signal\n",
      "V_M=10.;##(V)peak output voltage\n",
      "R=0.01;##(MOhm)output load resistance\n",
      "f=60.;##Hz\n",
      "V_r=0.2;##(V)ripple voltage\n",
      "C=V_M/(2.*f*R*V_r);##capacitance\n",
      "print\"%s %.2f %s\"%('\\ncapacitance= ',C,' microF\\n')\n"
     ],
     "language": "python",
     "metadata": {},
     "outputs": [
      {
       "output_type": "stream",
       "stream": "stdout",
       "text": [
        "\n",
        "capacitance=  41.67  microF\n",
        "\n"
       ]
      }
     ],
     "prompt_number": 3
    },
    {
     "cell_type": "heading",
     "level": 2,
     "metadata": {},
     "source": [
      "Ex3-pg61"
     ]
    },
    {
     "cell_type": "code",
     "collapsed": false,
     "input": [
      "import math\n",
      " \n",
      "##Example 2.3\n",
      "V_O=12.;##(V)peak output voltage\n",
      "I_L=0.12;##(A)current delivered to the load\n",
      "R=V_O/I_L;\n",
      "print\"%s %.2f %s\"%('\\neffective load resistance= ',R,' Ohm\\n')\n",
      "V_Y=0.7;##(V)diode cut in voltage\n",
      "v_S=V_O+2.*V_Y;\n",
      "print\"%s %.2f %s\"%('\\npeak value of v_S= ',v_S,' V\\n')\n",
      "v_Srms=v_S/math.sqrt(2.);\n",
      "print\"%s %.2f %s\"%('\\nrms voltage= ',v_Srms,' V\\n')\n",
      "##let x=N1/N2\n",
      "Vin=120.;##(V)input line voltage\n",
      "x=Vin/v_Srms;\n",
      "print\"%s %.2f %s\"%('\\nturns ratio= \\n',x,'')\n",
      "VM=12.;##(V)\n",
      "Vr=5/100.*VM;\n",
      "print\"%s %.2f %s\"%('\\nripple voltage= ',Vr,' V\\n')\n",
      "f=60.;##(Hz) input frequency\n",
      "C=VM/(2.*R*Vr*f);\n",
      "print\"%s %.2f %s\"%('\\nfilter capacitance= ',C,' F\\n')\n",
      "i_Dmax=(VM/R)*(1+2*math.pi*math.sqrt(VM/(2.*Vr)));\n",
      "print\"%s %.2f %s\"%('\\npeak diode current= ',i_Dmax,' A\\n')\n",
      "R=0.1;##Kohm\n",
      "i_Davg=(1/(2.*math.pi))*math.sqrt(2.*Vr/VM)*((VM/R)*(1.+math.pi*math.sqrt(VM/(2.*Vr))));\n",
      "print\"%s %.2f %s\"%('\\naverage diode current= ',i_Davg,' mA\\n')\n",
      "PIV=v_S-V_Y;\n",
      "print\"%s %.2f %s\"%('\\npeak inverse voltage= ',PIV,' V\\n')\n"
     ],
     "language": "python",
     "metadata": {},
     "outputs": [
      {
       "output_type": "stream",
       "stream": "stdout",
       "text": [
        "\n",
        "effective load resistance=  100.00  Ohm\n",
        "\n",
        "\n",
        "peak value of v_S=  13.40  V\n",
        "\n",
        "\n",
        "rms voltage=  9.48  V\n",
        "\n",
        "\n",
        "turns ratio= \n",
        " 12.66 \n",
        "\n",
        "ripple voltage=  0.60  V\n",
        "\n",
        "\n",
        "filter capacitance=  0.00  F\n",
        "\n",
        "\n",
        "peak diode current=  2.50  A\n",
        "\n",
        "\n",
        "average diode current=  66.04  mA\n",
        "\n",
        "\n",
        "peak inverse voltage=  12.70  V\n",
        "\n"
       ]
      }
     ],
     "prompt_number": 5
    },
    {
     "cell_type": "heading",
     "level": 2,
     "metadata": {},
     "source": [
      "Ex5-pg68"
     ]
    },
    {
     "cell_type": "code",
     "collapsed": false,
     "input": [
      "import math\n",
      "\n",
      "##Example 2.5\n",
      "rZ=4.;##(Ohm) Zener resistance\n",
      "V_Lnom=9.;##(V) nominal output voltage\n",
      "Izmax=0.3;##(A) maximum zener diode current\n",
      "Izmin=0.03;##(A) minimum zener diode current\n",
      "V_Lmax=V_Lnom+Izmax*rZ\n",
      "V_Lmin=V_Lnom+Izmin*rZ\n",
      "##percent regulation R\n",
      "R=((V_Lmax-V_Lmin)/V_Lnom)*100.;\n",
      "print\"%s %.2f %s\"%('\\npercent regulation= ',R,' \\n')\n"
     ],
     "language": "python",
     "metadata": {},
     "outputs": [
      {
       "output_type": "stream",
       "stream": "stdout",
       "text": [
        "\n",
        "percent regulation=  12.00  \n",
        "\n"
       ]
      }
     ],
     "prompt_number": 6
    },
    {
     "cell_type": "heading",
     "level": 2,
     "metadata": {},
     "source": [
      "Ex8-pg77"
     ]
    },
    {
     "cell_type": "code",
     "collapsed": false,
     "input": [
      "import math\n",
      "\n",
      "##Example 2.8\n",
      "R1=5.;R2=10.;##(KOhm) \n",
      "V_Y=0.7;##(V)diode cut in voltage\n",
      "V1=5.;V2=-5;##(V)\n",
      "vt=0.;##(V)\n",
      "##asssuming initially diode D1 is off\n",
      "##iR1=iD2=iR2=V1-V2-V_Y/(R1+R2)\n",
      "iD2=(V1-V2-V_Y)/(R1+R2);\n",
      "print\"%s %.2f %s\"%('\\ndiode current= ',iD2,'mA\\n')\n",
      "iR1=iD2;\n",
      "vo=V1-iR1*R1;\n",
      "print\"%s %.2f %s\"%('\\noutput voltage= ',vo,' V\\n')\n",
      "v=vo-V_Y;##v=v'\n",
      "print\"%s %.2f %s\"%('\\nVoltage= ',v,' V\\n')\n",
      "vt=4.;##(V)fig.2.33\n",
      "##both D1 and D2 are on\n",
      "vo==vt;\n",
      "vo=4.;\n",
      "iD2=(V1-vo)/R1;\n",
      "print\"%s %.2f %s\"%('\\ndiode current= ',iD2,' mA\\n')\n",
      "iR1==iD2;\n",
      "v=vo-V_Y;\n",
      "print\"%s %.2f %s\"%('\\nV= ',v,' V\\n')\n",
      "iR2=(v-V2)/R2;\n",
      "print\"%s %.2f %s\"%('\\niR2= ',iR2,' mA\\n')\n",
      "iD1=iR2-iD2;\n",
      "print\"%s %.2f %s\"%('\\ncurrent through D1= ',iD1,' mA\\n')\n"
     ],
     "language": "python",
     "metadata": {},
     "outputs": [
      {
       "output_type": "stream",
       "stream": "stdout",
       "text": [
        "\n",
        "diode current=  0.62 mA\n",
        "\n",
        "\n",
        "output voltage=  1.90  V\n",
        "\n",
        "\n",
        "Voltage=  1.20  V\n",
        "\n",
        "\n",
        "diode current=  0.20  mA\n",
        "\n",
        "\n",
        "V=  3.30  V\n",
        "\n",
        "\n",
        "iR2=  0.83  mA\n",
        "\n",
        "\n",
        "current through D1=  0.63  mA\n",
        "\n"
       ]
      }
     ],
     "prompt_number": 7
    },
    {
     "cell_type": "heading",
     "level": 2,
     "metadata": {},
     "source": [
      "Ex10-pg83"
     ]
    },
    {
     "cell_type": "code",
     "collapsed": false,
     "input": [
      "import math\n",
      "\n",
      "##Example 2.10\n",
      "n=1.;##quantum efficiency\n",
      "A=10**-2;##cm^2 junction area\n",
      "p=5*10**17;##(cm^-2-s^-1) incident photon flux\n",
      "e=1.6*10**-16;##charge of an electron\n",
      "Iph=n*e*p*A;\n",
      "print\"%s %.2f %s\"%('\\nphotocurrent= ',Iph,' mA\\n')\n"
     ],
     "language": "python",
     "metadata": {},
     "outputs": [
      {
       "output_type": "stream",
       "stream": "stdout",
       "text": [
        "\n",
        "photocurrent=  0.80  mA\n",
        "\n"
       ]
      }
     ],
     "prompt_number": 8
    },
    {
     "cell_type": "heading",
     "level": 2,
     "metadata": {},
     "source": [
      "Ex11-pg84"
     ]
    },
    {
     "cell_type": "code",
     "collapsed": false,
     "input": [
      "import math\n",
      "\n",
      "##Example 2.11\n",
      "I=0.01;##(A) diode current\n",
      "V_Y=1.7;##(V) forward bias voltage drop\n",
      "Vt=0.2;##(V)\n",
      "R=(5.-V_Y-Vt)/I;\n",
      "print\"%s %.2f %s\"%('\\nresistance= ',R,' Ohm')\n"
     ],
     "language": "python",
     "metadata": {},
     "outputs": [
      {
       "output_type": "stream",
       "stream": "stdout",
       "text": [
        "\n",
        "resistance=  310.00  Ohm\n"
       ]
      }
     ],
     "prompt_number": 9
    }
   ],
   "metadata": {}
  }
 ]
}