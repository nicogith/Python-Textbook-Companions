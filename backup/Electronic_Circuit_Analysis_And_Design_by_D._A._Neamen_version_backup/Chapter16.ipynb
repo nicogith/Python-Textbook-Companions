{
 "metadata": {
  "name": "",
  "signature": "sha256:2c1f0572305869070ba4c4550f2c2ddcdc134200c33890cfededcae546a1a172"
 },
 "nbformat": 3,
 "nbformat_minor": 0,
 "worksheets": [
  {
   "cells": [
    {
     "cell_type": "heading",
     "level": 1,
     "metadata": {},
     "source": [
      "Chapter16-MOSFET Digital Circuits "
     ]
    },
    {
     "cell_type": "heading",
     "level": 2,
     "metadata": {},
     "source": [
      "Ex3-pg1013"
     ]
    },
    {
     "cell_type": "code",
     "collapsed": false,
     "input": [
      "import math\n",
      "\n",
      "##Example 16.3\n",
      "Vdd=5.;\n",
      "Vtnd=0.8;\n",
      "Vtnl=0.8;\n",
      "Kn=35.;\n",
      "Vo=0.1;\n",
      "Vi=4.2;\n",
      "##W/L=Y\n",
      "yl=0.5;\n",
      "##Kd/Kl=x\n",
      "x=(Vdd-Vo-Vtnl)**2/(2.*Vo*(Vi-Vtnd)-Vo**2);\n",
      "print\"%s %.2f %s\"%('\\nKd/Kl=\\n',x,'')\n",
      "##Kd/Kl=yd/yl\n",
      "yd=12.6\n",
      "yl=0.5\n",
      "iD=Kn*yl*(Vdd-Vo-Vtnl)**2/2.;\n",
      "print\"%s %.2f %s\"%('\\ndrain current = ',iD,' microA\\n')\n",
      "P=iD*Vdd;\n",
      "print\"%s %.2f %s\"%('\\npower dissipation= ',P,' microW\\n')\n"
     ],
     "language": "python",
     "metadata": {},
     "outputs": [
      {
       "output_type": "stream",
       "stream": "stdout",
       "text": [
        "\n",
        "Kd/Kl=\n",
        " 25.09 \n",
        "\n",
        "drain current =  147.09  microA\n",
        "\n",
        "\n",
        "power dissipation=  735.44  microW\n",
        "\n"
       ]
      }
     ],
     "prompt_number": 2
    },
    {
     "cell_type": "heading",
     "level": 2,
     "metadata": {},
     "source": [
      "Ex4-pg1017"
     ]
    },
    {
     "cell_type": "code",
     "collapsed": false,
     "input": [
      "import math\n",
      " \n",
      "##Example 16.4\n",
      "Vdd=5.;\n",
      "Vtnd=0.8;\n",
      "Vtnl=-2.;\n",
      "Kn=35.;\n",
      "Vo=0.1;\n",
      "Vi=5.;\n",
      "##W/L=Y\n",
      "yl=0.5;\n",
      "##Kd/Kl=x\n",
      "x=(-Vtnl)**2/(2.*Vo*(Vi-Vtnd)-Vo**2);\n",
      "print\"%s %.2f %s\"%('\\nKd/Kl=\\n',x,'')\n",
      "##Kd/Kl=yd/yl\n",
      "yd=2.41\n",
      "yl=0.5\n",
      "iD=Kn*yl*(-Vtnl)**2/2.;\n",
      "print\"%s %.2f %s\"%('\\ndrain current= ',iD,' microA\\n')\n",
      "P=iD*Vdd;\n",
      "print\"%s %.2f %s\"%('\\npower dissipation = ',P,' microW\\n')\n"
     ],
     "language": "python",
     "metadata": {},
     "outputs": [
      {
       "output_type": "stream",
       "stream": "stdout",
       "text": [
        "\n",
        "Kd/Kl=\n",
        " 4.82 \n",
        "\n",
        "drain current=  35.00  microA\n",
        "\n",
        "\n",
        "power dissipation =  175.00  microW\n",
        "\n"
       ]
      }
     ],
     "prompt_number": 3
    },
    {
     "cell_type": "heading",
     "level": 2,
     "metadata": {},
     "source": [
      "Ex5-pg1021"
     ]
    },
    {
     "cell_type": "code",
     "collapsed": false,
     "input": [
      "import math\n",
      "\n",
      "##Example 16.5\n",
      "Voh=4.2;\n",
      "Vol=0.1;\n",
      "##x=Kd/Kl\n",
      "x=25.1;\n",
      "Vdd=5.;\n",
      "Vtnl=0.8;\n",
      "Vohu=4.2;\n",
      "Vil=0.8;\n",
      "Vtnd=0.8;\n",
      "Vih=Vtnd+(Vdd-Vtnl)/x*((1+2*x)/math.sqrt(1.+3.*x)-1.);\n",
      "print\"%s %.2f %s\"%('\\nVih= ',Vih,' V\\n')\n",
      "Volu=(Vdd-Vtnl+x*(Vih-Vtnd))/(1.+2.*x);\n",
      "print\"%s %.2f %s\"%('\\noutput voltage corresponding to Vih= ',Volu,' V\\n')\n",
      "NMl=Vil-Volu;\n",
      "print\"%s %.2f %s\"%('\\nnoise margin= ',NMl,' V\\n')\n",
      "NMh=Vohu-Vih;\n",
      "print\"%s %.2f %s\"%('\\nnoise margin= ',NMh,' V\\n')\n"
     ],
     "language": "python",
     "metadata": {},
     "outputs": [
      {
       "output_type": "stream",
       "stream": "stdout",
       "text": [
        "\n",
        "Vih=  1.61  V\n",
        "\n",
        "\n",
        "output voltage corresponding to Vih=  0.48  V\n",
        "\n",
        "\n",
        "noise margin=  0.32  V\n",
        "\n",
        "\n",
        "noise margin=  2.59  V\n",
        "\n"
       ]
      }
     ],
     "prompt_number": 4
    },
    {
     "cell_type": "heading",
     "level": 2,
     "metadata": {},
     "source": [
      "Ex9-pg1041"
     ]
    },
    {
     "cell_type": "code",
     "collapsed": false,
     "input": [
      "import math\n",
      " \n",
      "##Example 16.9\n",
      "Vdd=5.;\n",
      "Vtn=1.;\n",
      "Vtp=-1.;\n",
      "##Kn=Kp hence Kn/Kp=x=1;\n",
      "x=1.;\n",
      "Vit=(Vdd+Vtp+math.sqrt(x)*Vtn)/(1.+math.sqrt(x));\n",
      "print\"%s %.2f %s\"%('\\ninput voltage= ',Vit,' V\\n')\n",
      "Vipt=Vit;\n",
      "Vopt=Vipt-Vtp;\n",
      "print\"%s %.2f %s\"%('\\noutput voltage at the transition point for PMOS = ',Vopt,' V\\n')\n",
      "Vint=Vit;\n",
      "Vont=Vint-Vtn;\n",
      "print\"%s %.2f %s\"%('\\noutput voltage at the transition point for NMOS= ',Vont,' V\\n')\n",
      "Vdd=10.;\n",
      "Vit=(Vdd+Vtp+math.sqrt(x)*Vtn)/(1.+math.sqrt(x));\n",
      "print\"%s %.2f %s\"%('\\ninput voltage = ',Vit,'V\\n')\n",
      "Vipt=Vit;\n",
      "Vint=Vit;\n",
      "Vopt=Vipt-Vtp;\n",
      "print\"%s %.2f %s\"%('\\noutput voltage at the transition point for PMOS = ',Vopt,'   V\\n')\n",
      "Vont=Vint-Vtn;\n",
      "print\"%s %.2f %s\"%('\\noutput voltage at the transition point for NMOS = ',Vont,'   V\\n')\n"
     ],
     "language": "python",
     "metadata": {},
     "outputs": [
      {
       "output_type": "stream",
       "stream": "stdout",
       "text": [
        "\n",
        "input voltage=  2.50  V\n",
        "\n",
        "\n",
        "output voltage at the transition point for PMOS =  3.50  V\n",
        "\n",
        "\n",
        "output voltage at the transition point for NMOS=  1.50  V\n",
        "\n",
        "\n",
        "input voltage =  5.00 V\n",
        "\n",
        "\n",
        "output voltage at the transition point for PMOS =  6.00    V\n",
        "\n",
        "\n",
        "output voltage at the transition point for NMOS =  4.00    V\n",
        "\n"
       ]
      }
     ],
     "prompt_number": 5
    },
    {
     "cell_type": "heading",
     "level": 2,
     "metadata": {},
     "source": [
      "Ex10-pg1045"
     ]
    },
    {
     "cell_type": "code",
     "collapsed": false,
     "input": [
      "import math\n",
      "\n",
      "##Example 16.10\n",
      "Cl=2.*10**-6;\n",
      "Vdd=5.;\n",
      "f=100000.;\n",
      "P=f*Cl*Vdd**2;\n",
      "print\"%s %.2f %s\"%('\\npower dissipation in the CMOS inverter= ',P,' microW\\n')\n"
     ],
     "language": "python",
     "metadata": {},
     "outputs": [
      {
       "output_type": "stream",
       "stream": "stdout",
       "text": [
        "\n",
        "power dissipation in the CMOS inverter=  5.00  microW\n",
        "\n"
       ]
      }
     ],
     "prompt_number": 6
    },
    {
     "cell_type": "heading",
     "level": 2,
     "metadata": {},
     "source": [
      "Ex11-pg1047"
     ]
    },
    {
     "cell_type": "code",
     "collapsed": false,
     "input": [
      "import math\n",
      "\n",
      "##Example 16.11\n",
      "Vtn=1.;\n",
      "Vtp=-1.;\n",
      "Vdd=5.;\n",
      "Vth=1.;\n",
      "Vil=Vtn+3.*(Vdd+Vtp-Vth)/8.;\n",
      "print\"%s %.2f %s\"%('\\ninput voltage at the transition points Vil= ',Vil,' V\\n')\n",
      "Vih=Vtn+5.*(Vdd+Vtp-Vtn)/8.;\n",
      "print\"%s %.2f %s\"%('\\ninput voltage at the transition points Vih= ',Vih,'  V\\n')\n",
      "Vohu=1.*(2.*Vil+Vdd-Vtn-Vtp)/2.;\n",
      "print\"%s %.2f %s\"%('\\noutput voltage = ',Vohu,' V\\n')\n",
      "Volu=1.*(2.*Vih-Vdd-Vtn-Vtp)/2.;\n",
      "print\"%s %.2f %s\"%('\\noutput voltage = ',Volu,' V\\n')\n",
      "NML=Vil-Volu;\n",
      "print\"%s %.2f %s\"%('\\nnoise margin = ',NML,' V\\n')\n",
      "NMH=Vohu-Vih;\n",
      "print\"%s %.2f %s\"%('\\nnoise margin= ',NML,' V\\n')\n"
     ],
     "language": "python",
     "metadata": {},
     "outputs": [
      {
       "output_type": "stream",
       "stream": "stdout",
       "text": [
        "\n",
        "input voltage at the transition points Vil=  2.12  V\n",
        "\n",
        "\n",
        "input voltage at the transition points Vih=  2.88   V\n",
        "\n",
        "\n",
        "output voltage =  4.62  V\n",
        "\n",
        "\n",
        "output voltage =  0.38  V\n",
        "\n",
        "\n",
        "noise margin =  1.75  V\n",
        "\n",
        "\n",
        "noise margin=  1.75  V\n",
        "\n"
       ]
      }
     ],
     "prompt_number": 7
    },
    {
     "cell_type": "heading",
     "level": 2,
     "metadata": {},
     "source": [
      "Ex15-pg1080"
     ]
    },
    {
     "cell_type": "code",
     "collapsed": false,
     "input": [
      "import math\n",
      " \n",
      "##Example 16.15\n",
      "Vdd=3.;\n",
      "Kn=60.;\n",
      "Vtnd=0.5;\n",
      "##W/L=x\n",
      "xd=2.;\n",
      "Vtnl=-1.;\n",
      "xl=0.5;\n",
      "R=2.;##(MOhm)\n",
      "Vgsl=0.;\n",
      "##solution with Depletion load\n",
      "iD=Kn*xl*(Vgsl-Vtnl)**2/2.;\n",
      "print\"%s %.2f %s\"%('\\nfrain currents in M1 and M3 = ',iD,' microA\\n')\n",
      "P=iD*Vdd;\n",
      "print\"%s %.2f %s\"%('\\npower dissipation in the circuit= ',P,'microW\\n')\n",
      "##iD=Kn/2*x*(2*Vgsd-Vtnd)Vdsd-Vdsd^2\n",
      "Q=50.5\n",
      "p=0.25 - 5*(50.5) + 50.5\n",
      "print(p)\n",
      "\n",
      "##solution with Resistor load\n",
      "##(Vdd-Q)/R=Kn/2*xd*(2*Vgsd-Vtnd)Q-Q^2\n",
      "\n",
      "\n",
      "Q=0.005;\n",
      "p1=0.25 - 5*(0.005) + 0.005\n",
      "print(p1)\n",
      "iD=(Vdd-Q)/R;\n",
      "print\"%s %.2f %s\"%('\\ndrain current = ',iD,' microA\\n')\n",
      "P=iD*Vdd;\n",
      "print\"%s %.2f %s\"%('\\npower dissipation in the circuit = ',P,' microW\\n')\n"
     ],
     "language": "python",
     "metadata": {},
     "outputs": [
      {
       "output_type": "stream",
       "stream": "stdout",
       "text": [
        "\n",
        "frain currents in M1 and M3 =  15.00  microA\n",
        "\n",
        "\n",
        "power dissipation in the circuit=  45.00 microW\n",
        "\n",
        "-201.75\n",
        "0.23\n",
        "\n",
        "drain current =  1.50  microA\n",
        "\n",
        "\n",
        "power dissipation in the circuit =  4.49  microW\n",
        "\n"
       ]
      }
     ],
     "prompt_number": 7
    }
   ],
   "metadata": {}
  }
 ]
}