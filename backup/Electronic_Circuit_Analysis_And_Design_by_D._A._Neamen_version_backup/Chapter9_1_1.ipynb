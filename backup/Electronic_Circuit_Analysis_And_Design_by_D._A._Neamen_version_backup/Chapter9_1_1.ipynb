{
 "metadata": {
  "name": "",
  "signature": "sha256:32f4ddc547fad5eac3ccd22992e1c23752ad6ef6cf432bf032a216c1338d002f"
 },
 "nbformat": 3,
 "nbformat_minor": 0,
 "worksheets": [
  {
   "cells": [
    {
     "cell_type": "heading",
     "level": 1,
     "metadata": {},
     "source": [
      "Chapter9-The Ideal Operational Amplifier"
     ]
    },
    {
     "cell_type": "heading",
     "level": 2,
     "metadata": {},
     "source": [
      "Ex5-pg541"
     ]
    },
    {
     "cell_type": "code",
     "collapsed": false,
     "input": [
      "import math\n",
      "\n",
      "##Example 9.5\n",
      "Zl=0.1;\n",
      "R1=10.;\n",
      "R2=1.;\n",
      "R3=1.;\n",
      "Rf=10.;\n",
      "Vt=-5.;\n",
      "iL=-Vt/R2;\n",
      "print\"%s %.2f %s\"%('\\nload current= ',iL,' mA\\n')\n",
      "vL=iL*Zl;\n",
      "print\"%s %.2f %s\"%('\\nvoltage across the load= ',vL,' V\\n')\n",
      "i4=vL/R2;\n",
      "print\"%s %.2f %s\"%('\\ni4= ',i4,' mA\\n')\n",
      "i3=i4+iL;\n",
      "print\"%s %.2f %s\"%('\\ni3= ',i3,' mA\\n')\n",
      "Vo=i3*R3+vL;\n",
      "print\"%s %.2f %s\"%('\\noutput voltage= ',Vo,' V\\n')\n",
      "i1=Vt/R1;\n",
      "i2=i1;\n",
      "print\"%s %.2f %s\"%('\\ni1= ',i1,' mA\\n')\n",
      "print\"%s %.2f %s\"%('\\ni2= ',i2,' mA\\n')\n"
     ],
     "language": "python",
     "metadata": {},
     "outputs": [
      {
       "output_type": "stream",
       "stream": "stdout",
       "text": [
        "\n",
        "load current=  5.00  mA\n",
        "\n",
        "\n",
        "voltage across the load=  0.50  V\n",
        "\n",
        "\n",
        "i4=  0.50  mA\n",
        "\n",
        "\n",
        "i3=  5.50  mA\n",
        "\n",
        "\n",
        "output voltage=  6.00  V\n",
        "\n",
        "\n",
        "i1=  -0.50  mA\n",
        "\n",
        "\n",
        "i2=  -0.50  mA\n",
        "\n"
       ]
      }
     ],
     "prompt_number": 1
    },
    {
     "cell_type": "heading",
     "level": 2,
     "metadata": {},
     "source": [
      "Ex9-pg552"
     ]
    },
    {
     "cell_type": "code",
     "collapsed": false,
     "input": [
      "import math\n",
      "import numpy\n",
      "import scipy\n",
      "from scipy import integrate\n",
      " \n",
      "##Example 9.9\n",
      "##Vo=(-1/R1*C2)*integrate((-1)dt) \n",
      "def fun(x):\n",
      "    y=-1\n",
      "    return y\n",
      "Vo=10.;\n",
      "I=scipy.integrate.quad(fun, 0, 1);\n",
      "I1=I[0]\n",
      "##let y=R1*C2\n",
      "y1=I1/Vo;\n",
      "print\"%s %.2f %s\"%('\\nR1C2= ',y1,' ms\\n')\n"
     ],
     "language": "python",
     "metadata": {},
     "outputs": [
      {
       "output_type": "stream",
       "stream": "stdout",
       "text": [
        "\n",
        "R1C2=  -0.10  ms\n",
        "\n"
       ]
      }
     ],
     "prompt_number": 1
    }
   ],
   "metadata": {}
  }
 ]
}