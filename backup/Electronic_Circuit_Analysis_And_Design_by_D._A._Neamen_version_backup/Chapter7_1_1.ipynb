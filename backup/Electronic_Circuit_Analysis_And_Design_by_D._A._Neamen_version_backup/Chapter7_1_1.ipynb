{
 "metadata": {
  "name": "",
  "signature": "sha256:dffc3a2403edde165f33b6308fbd20345cecf1da13bbb808db0bb00e10439bb7"
 },
 "nbformat": 3,
 "nbformat_minor": 0,
 "worksheets": [
  {
   "cells": [
    {
     "cell_type": "heading",
     "level": 1,
     "metadata": {},
     "source": [
      "Chapter7-Frequency Response"
     ]
    },
    {
     "cell_type": "heading",
     "level": 2,
     "metadata": {},
     "source": [
      "Ex1-pg393"
     ]
    },
    {
     "cell_type": "code",
     "collapsed": false,
     "input": [
      "import math\n",
      " \n",
      "##Example 7.1\n",
      "Rs=1000.;\n",
      "Rp=10000.;\n",
      "Cs=1.*10**-6;\n",
      "Cp=3.*10**-12;\n",
      "Ts=(Rs+Rp)*Cs;\n",
      "print\"%s %.2f %s\"%('\\ntime constant= ',Ts,' s\\n')\n",
      "f=1/(2.*math.pi*Ts);\n",
      "print\"%s %.2f %s\"%('\\ncorner frequency= ',f,' Hz\\n')\n",
      "x=20.*math.log10(Rp/(Rp+Rs));\n",
      "print\"%s %.2f %s\"%('\\nmaximum magnitude = ',x,'dB\\n')\n",
      "Rp=10.;##KOhm\n",
      "Rs=1.;##Kohm\n",
      "Cp=3.;##pF\n",
      "Tp=Cp*Rs*Rp/(Rs+Rp);\n",
      "print\"%s %.2f %s\"%('\\ntime constant= ',Tp,' ns\\n')\n",
      "Tp=2.73*10**-3;##micro sec\n",
      "f=1/(2.*math.pi*Tp);\n",
      "print\"%s %.2f %s\"%('\\ncorner frequency = ',f,'MHz\\n')\n"
     ],
     "language": "python",
     "metadata": {},
     "outputs": [
      {
       "output_type": "stream",
       "stream": "stdout",
       "text": [
        "\n",
        "time constant=  0.01  s\n",
        "\n",
        "\n",
        "corner frequency=  14.47  Hz\n",
        "\n",
        "\n",
        "maximum magnitude =  -0.83 dB\n",
        "\n",
        "\n",
        "time constant=  2.73  ns\n",
        "\n",
        "\n",
        "corner frequency =  58.30 MHz\n",
        "\n"
       ]
      }
     ],
     "prompt_number": 1
    },
    {
     "cell_type": "heading",
     "level": 2,
     "metadata": {},
     "source": [
      "Ex2-pg396"
     ]
    },
    {
     "cell_type": "code",
     "collapsed": false,
     "input": [
      "import math\n",
      "\n",
      "##Example 7.2\n",
      "Rs=1000.;\n",
      "Rp=10000.;\n",
      "Cs=1*10**-6;\n",
      "Cp=3*10**-12;\n",
      "Ts=(Rs+Rp)*Cs;\n",
      "print\"%s %.2f %s\"%('\\nopen circuit time constant= ',Ts,' s\\n')\n",
      "Rs=1.;##KOhm\n",
      "Rp=10.;##KOhm\n",
      "Cp=3.;##pF\n",
      "Tp=Cp*Rs*Rp/(Rs+Rp);\n",
      "print\"%s %.2f %s\"%('\\nshort circuit time constant= ',Tp,' ns\\n')\n",
      "fL=1./(2.*math.pi*Ts);\n",
      "print\"%s %.2f %s\"%('\\ncorner frequency fL= ',fL,' Hz\\n')\n",
      "Tp=2.73*10**-3;##microsec\n",
      "fH=1/(2.*math.pi*Tp);\n",
      "print\"%s %.2f %s\"%('\\ncorner frequency fH= ',fH,' MHz\\n')\n",
      "fL=14.5*10**-6;##MHz\n",
      "fbw=fH-fL;\n",
      "print\"%s %.2f %s\"%('\\nbandwidth = ',fbw,' MHz\\n')\n"
     ],
     "language": "python",
     "metadata": {},
     "outputs": [
      {
       "output_type": "stream",
       "stream": "stdout",
       "text": [
        "\n",
        "open circuit time constant=  0.01  s\n",
        "\n",
        "\n",
        "short circuit time constant=  2.73  ns\n",
        "\n",
        "\n",
        "corner frequency fL=  14.47  Hz\n",
        "\n",
        "\n",
        "corner frequency fH=  58.30  MHz\n",
        "\n",
        "\n",
        "bandwidth =  58.30  MHz\n",
        "\n"
       ]
      }
     ],
     "prompt_number": 2
    },
    {
     "cell_type": "heading",
     "level": 2,
     "metadata": {},
     "source": [
      "Ex3-pg400"
     ]
    },
    {
     "cell_type": "code",
     "collapsed": false,
     "input": [
      "import math\n",
      "\n",
      "##Example 7.3\n",
      "R1=51.2;\n",
      "R2=9.6;\n",
      "Rc=2.;\n",
      "Re=.4;\n",
      "Rsi=.1;\n",
      "Vt=0.026;\n",
      "Cc=1.;\n",
      "Vcc=10.;\n",
      "Vbe=0.7;\n",
      "b=100.;\n",
      "Rb=8.08;\n",
      "Icq=1.81;\n",
      "gm=Icq/Vt;\n",
      "print\"%s %.2f %s\"%('\\ntransconductance= ',gm,' mA/V\\n')\n",
      "r=b*Vt/Icq;\n",
      "print\"%s %.2f %s\"%('\\ndiffusion resistance= ',r,' KOhm\\n')\n",
      "x=r+(1.+b)*Re;\n",
      "y=x*R2/(x+R2);\n",
      "Ri=y*R1/(R1+y);\n",
      "print\"%s %.2f %s\"%('\\ninput resistance= ',Ri,' KOhm\\n')\n",
      "Ts=(Rsi+Ri)*Cc;\n",
      "print\"%s %.2f %s\"%('\\ntime constant= ',Ts, 'ms')\n",
      "Ts=6.87*10**-3;##Sec\n",
      "fL=1/(2.*math.pi*Ts);\n",
      "print\"%s %.2f %s\"%('\\ncorner frequency fL= ',fL,' Hz\\n')\n",
      "Rib=r+(1.+b)*Re;\n",
      "print\"%s %.2f %s\"%('\\nRib= ',Rib,' KOhm\\n')\n",
      "Av=(gm*r*Rc/(Rsi+Ri))*Rb/(Rb+Rib);\n",
      "print\"%s %.2f %s\"%('\\nsmall signal voltage gain= ',Av,'\\n')\n"
     ],
     "language": "python",
     "metadata": {},
     "outputs": [
      {
       "output_type": "stream",
       "stream": "stdout",
       "text": [
        "\n",
        "transconductance=  69.62  mA/V\n",
        "\n",
        "\n",
        "diffusion resistance=  1.44  KOhm\n",
        "\n",
        "\n",
        "input resistance=  6.78  KOhm\n",
        "\n",
        "\n",
        "time constant=  6.88 ms\n",
        "\n",
        "corner frequency fL=  23.17  Hz\n",
        "\n",
        "\n",
        "Rib=  41.84  KOhm\n",
        "\n",
        "\n",
        "small signal voltage gain=  4.71 \n",
        "\n"
       ]
      }
     ],
     "prompt_number": 3
    },
    {
     "cell_type": "heading",
     "level": 2,
     "metadata": {},
     "source": [
      "Ex4-pg402"
     ]
    },
    {
     "cell_type": "code",
     "collapsed": false,
     "input": [
      "import math\n",
      "\n",
      "##Example 7.4\n",
      "fL=20.*10**-3;##KHz\n",
      "Rd=6.7;\n",
      "Rl=10;\n",
      "Ts=1./(2.*math.pi*fL);\n",
      "print\"%s %.2f %s\"%('\\ntime constant= ',Ts,' ms\\n')\n",
      "Cc=Ts/(Rd+Rl);\n",
      "print\"%s %.2f %s\"%('\\ncoupling capacitance= ',Cc,' microF\\n')\n"
     ],
     "language": "python",
     "metadata": {},
     "outputs": [
      {
       "output_type": "stream",
       "stream": "stdout",
       "text": [
        "\n",
        "time constant=  7.96  ms\n",
        "\n",
        "\n",
        "coupling capacitance=  0.48  microF\n",
        "\n"
       ]
      }
     ],
     "prompt_number": 4
    },
    {
     "cell_type": "heading",
     "level": 2,
     "metadata": {},
     "source": [
      "Ex5-pg403"
     ]
    },
    {
     "cell_type": "code",
     "collapsed": false,
     "input": [
      "import math\n",
      "\n",
      "##Example 7.5\n",
      "b=100.;\n",
      "Vbe=0.7;\n",
      "Rs=500.;\n",
      "Rb=100000.;\n",
      "Re=10000.;\n",
      "Rl=10000.;\n",
      "Va=120.;\n",
      "Ccc2=1*10**-6;\n",
      "Icq=0.838*0.001;\n",
      "r=3100.;##small signal parameter\n",
      "gm=32.2*0.001;\n",
      "ro=143000.;\n",
      "x=(r+Rs*Rb/(Rs+Rb))/(1+b);\n",
      "y=ro*x/(ro+x);\n",
      "Ro=Re*y/(Re+y);\n",
      "print\"%s %.2f %s\"%('\\noutput resistance of emitter= ',Ro,' Ohm\\n')\n",
      "Ts=(Ro+Rl)*Ccc2;\n",
      "print\"%s %.2f %s\"%('\\ntime constant= ',Ts,' s\\n')\n",
      "fL=1/(2.*math.pi*Ts);\n",
      "print\"%s %.2f %s\"%('\\n3dB frequency= ',fL,' Hz\\n')\n"
     ],
     "language": "python",
     "metadata": {},
     "outputs": [
      {
       "output_type": "stream",
       "stream": "stdout",
       "text": [
        "\n",
        "output resistance of emitter=  35.48  Ohm\n",
        "\n",
        "\n",
        "time constant=  0.01  s\n",
        "\n",
        "\n",
        "3dB frequency=  15.86  Hz\n",
        "\n"
       ]
      }
     ],
     "prompt_number": 5
    },
    {
     "cell_type": "heading",
     "level": 2,
     "metadata": {},
     "source": [
      "Ex6-pg406"
     ]
    },
    {
     "cell_type": "code",
     "collapsed": false,
     "input": [
      "import math\n",
      "\n",
      "##Example 7.6\n",
      "Rs=3.2;\n",
      "Rd=10.;\n",
      "Rl=20.;\n",
      "Cl=10.;\n",
      "Vtp=-2.;\n",
      "Kp=0.25;\n",
      "Idq=0.5;\n",
      "Vsgq=3.41;\n",
      "Vsdq=3.41;\n",
      "gm=2.*Kp*(Vsgq+Vtp);\n",
      "print\"%s %.2f %s\"%('\\ntransconductance = ',gm,'mA/V\\n')\n",
      "Tp=Cl*Rd*Rl/(Rd+Rl);\n",
      "print\"%s %.2f %s\"%('\\ntime constant= ',Tp,' ns\\n')\n",
      "Tp=66.7*10**-3;##micro sec\n",
      "fH=1./(2.*math.pi*Tp);\n",
      "print\"%s %.2f %s\"%('\\ncorner frequency= ',fH,' MHz\\n')\n",
      "Av=(gm*Rd*Rl/(Rd+Rl))/(1+gm*Rs);\n",
      "print\"%s %.2f %s\"%('\\nmaximum small signal voltage gain=\\n',Av,'')\n"
     ],
     "language": "python",
     "metadata": {},
     "outputs": [
      {
       "output_type": "stream",
       "stream": "stdout",
       "text": [
        "\n",
        "transconductance =  0.71 mA/V\n",
        "\n",
        "\n",
        "time constant=  66.67  ns\n",
        "\n",
        "\n",
        "corner frequency=  2.39  MHz\n",
        "\n",
        "\n",
        "maximum small signal voltage gain=\n",
        " 1.44 \n"
       ]
      }
     ],
     "prompt_number": 6
    },
    {
     "cell_type": "heading",
     "level": 2,
     "metadata": {},
     "source": [
      "Ex7-pg409"
     ]
    },
    {
     "cell_type": "code",
     "collapsed": false,
     "input": [
      "import math\n",
      "\n",
      "##Example 7.7\n",
      "Vbe=0.7;\n",
      "b=100.;\n",
      "Re=.5;\n",
      "Rc=5.;\n",
      "Rl=10.;\n",
      "R1=40.;\n",
      "Cc=10.;\n",
      "R2=5.7;\n",
      "Rs=.1;\n",
      "Vt=0.026;\n",
      "Icq=0.99;\n",
      "gm=Icq/Vt;\n",
      "print\"%s %.2f %s\"%('\\ntransconductance= ',gm,' mA/V\\n')\n",
      "r=b*Vt/Icq;\n",
      "print\"%s %.2f %s\"%('\\ndiffusion resistance= ',r,' KOhm\\n')\n",
      "Ri=r+(1.+b)*Re;\n",
      "print\"%s %.2f %s\"%('\\ninput resistance= ',Ri,' KOhm\\n')\n",
      "x=Rc*Rl/(Rc+Rl);\n",
      "y=R1*R2/(R1+R2);\n",
      "t=y*Ri/(y+Ri);\n",
      "Av=gm*r*x*(y/(y+Ri))*(1./(Rs+t));\n",
      "print\"%s %.2f %s\"%('\\nmaximum small signal voltage gain=\\n',Av,'')\n",
      "Ts=(Rs+t)*Cc;\n",
      "print\"%s %.2f %s\"%('\\ntime constant=\\n',Ts,'ms')\n",
      "Ts=46.6*0.001;##sec\n",
      "Cl=15.;\n",
      "Tp=x*Cl;\n",
      "print\"%s %.2f %s\"%('\\ntime constant ',Tp,' ns\\n')\n",
      "fL=1/(2.*math.pi*Ts);\n",
      "print\"%s %.2f %s\"%('\\nlower corner frequency= ',fL,' Hz\\n')\n",
      "Tp=50.*10**-3;##micro sec\n",
      "fH=1/(2.*math.pi*Tp);\n",
      "print\"%s %.2f %s\"%('\\nupper corner frequency= ',fH,' MHz\\n')\n",
      "fL=3.4*10**-6;##MHz\n",
      "fbw=fH-fL;\n",
      "print\"%s %.2f %s\"%('\\nbandwidth = ',fbw,'MHz\\n')\n"
     ],
     "language": "python",
     "metadata": {},
     "outputs": [
      {
       "output_type": "stream",
       "stream": "stdout",
       "text": [
        "\n",
        "transconductance=  38.08  mA/V\n",
        "\n",
        "\n",
        "diffusion resistance=  2.63  KOhm\n",
        "\n",
        "\n",
        "input resistance=  53.13  KOhm\n",
        "\n",
        "\n",
        "maximum small signal voltage gain=\n",
        " 6.14 \n",
        "\n",
        "time constant=\n",
        " 46.61 ms\n",
        "\n",
        "time constant  50.00  ns\n",
        "\n",
        "\n",
        "lower corner frequency=  3.42  Hz\n",
        "\n",
        "\n",
        "upper corner frequency=  3.18  MHz\n",
        "\n",
        "\n",
        "bandwidth =  3.18 MHz\n",
        "\n"
       ]
      }
     ],
     "prompt_number": 7
    },
    {
     "cell_type": "heading",
     "level": 2,
     "metadata": {},
     "source": [
      "Ex8-pg412"
     ]
    },
    {
     "cell_type": "code",
     "collapsed": false,
     "input": [
      "import math\n",
      " \n",
      "##Example 7.8\n",
      "Re=4.;\n",
      "Rc=2.;\n",
      "Rs=0.5;\n",
      "Vt=0.026;\n",
      "Ce=1*10**-3;\n",
      "V1=5.;\n",
      "Icq=1.06;\n",
      "V2=-5.;\n",
      "b=100.;\n",
      "Vbe=0.7;\n",
      "gm=Icq/Vt;\n",
      "print\"%s %.2f %s\"%('\\ntransconductance = ',gm,'mA/V\\n')\n",
      "r=b*Vt/Icq;\n",
      "print\"%s %.2f %s\"%('\\ndiffusion resistance= ',r,' KOhm\\n')\n",
      "Ta=Re*Ce;\n",
      "print\"%s %.2f %s\"%('\\ntime constant Ta= ',Ta,'f s\\n')\n",
      "Tb=(Re*Ce*(Rs+r))/(Rs+r+(1+b)*Re);\n",
      "print\"%s %.2f %s\"%('\\ntime constant Tb= ',Tb,' s\\n')\n",
      "fA=1/(2.*math.pi*Ta);\n",
      "print\"%s %.2f %s\"%('\\ncorner frequency = ',fA,'Hz\\n')\n",
      "Tb=2.9*0.01;##msec\n",
      "fB=1/(2.*math.pi*Tb);\n",
      "print\"%s %.2f %s\"%('\\ncorner frequency =',fB,'khz')\n",
      "Av=(gm*r*Rc)/(Rs+r+(1.+b)*Re);\n",
      "print\"%s %.2f %s\"%('\\nlimiting low frequency horizontal asymptote= \\n',Av,'')\n",
      "Av=gm*r*Rc/(Rs+r);\n",
      "print\"%s %.2f %s\"%('\\nnlimiting high frequency horizontal asymptote=\\n',Av,'')\n"
     ],
     "language": "python",
     "metadata": {},
     "outputs": [
      {
       "output_type": "stream",
       "stream": "stdout",
       "text": [
        "\n",
        "transconductance =  40.77 mA/V\n",
        "\n",
        "\n",
        "diffusion resistance=  2.45  KOhm\n",
        "\n",
        "\n",
        "time constant Ta=  0.00 f s\n",
        "\n",
        "\n",
        "time constant Tb=  0.00  s\n",
        "\n",
        "\n",
        "corner frequency =  39.79 Hz\n",
        "\n",
        "\n",
        "corner frequency = 5.49 khz\n",
        "\n",
        "limiting low frequency horizontal asymptote= \n",
        " 0.49 \n",
        "\n",
        "nlimiting high frequency horizontal asymptote=\n",
        " 67.73 \n"
       ]
      }
     ],
     "prompt_number": 8
    },
    {
     "cell_type": "heading",
     "level": 2,
     "metadata": {},
     "source": [
      "Ex9-pg420"
     ]
    },
    {
     "cell_type": "code",
     "collapsed": false,
     "input": [
      "import math\n",
      "\n",
      "##Example 7.9\n",
      "r=2600.;\n",
      "C1=2.*10**-6;\n",
      "C2=0.1*10**-6;\n",
      "fB=1/(2.*math.pi*r*(C1+C2));\n",
      "print\"%s %.2f %s\"%('\\n3dB frequency= ',fB,' MHz\\n')\n"
     ],
     "language": "python",
     "metadata": {},
     "outputs": [
      {
       "output_type": "stream",
       "stream": "stdout",
       "text": [
        "\n",
        "3dB frequency=  29.15  MHz\n",
        "\n"
       ]
      }
     ],
     "prompt_number": 9
    },
    {
     "cell_type": "heading",
     "level": 2,
     "metadata": {},
     "source": [
      "Ex10-pg421"
     ]
    },
    {
     "cell_type": "code",
     "collapsed": false,
     "input": [
      "import math\n",
      "\n",
      "##Example 7.10\n",
      "fT=500.;\n",
      "Ic=1.;\n",
      "b=100.;\n",
      "Vt=0.026;\n",
      "C2=0.3*10**-12;\n",
      "fB=fT/b;\n",
      "print\"%s %.2f %s\"%('\\nbandwidth= ',fB,' MHz\\n')\n",
      "gm=Ic/Vt;\n",
      "print\"%s %.2f %s\"%('\\ntransconductance= ',gm,'mA/V\\n')\n",
      "fT=500000000.;\n",
      "gm=38.5*0.001;\n",
      "C1=gm/(fT*2.*math.pi)-C2;\n",
      "print\"%s %.2e %s\"%('\\ncapacitance = ',C1,'F\\n')\n"
     ],
     "language": "python",
     "metadata": {},
     "outputs": [
      {
       "output_type": "stream",
       "stream": "stdout",
       "text": [
        "\n",
        "bandwidth=  5.00  MHz\n",
        "\n",
        "\n",
        "transconductance=  38.46 mA/V\n",
        "\n",
        "\n",
        "capacitance =  1.20e-11 F\n",
        "\n"
       ]
      }
     ],
     "prompt_number": 10
    },
    {
     "cell_type": "heading",
     "level": 2,
     "metadata": {},
     "source": [
      "Ex12-pg430"
     ]
    },
    {
     "cell_type": "code",
     "collapsed": false,
     "input": [
      "import math\n",
      "\n",
      "##Example 7.12\n",
      "Kn=0.25;\n",
      "Vtn=1.;\n",
      "Cgd=0.04*10**-3;\n",
      "Cgs=0.2*10**-3;\n",
      "Vgs=3.;\n",
      "gm=2.*Kn*(Vgs-Vtn);\n",
      "print\"%s %.2f %s\"%('\\ntransconductance = ',gm,'mA/V\\n')\n",
      "fT=gm/(2.*math.pi*(Cgd+Cgs));\n",
      "print\"%s %.2f %s\"%('\\nunity gain bandwidth= ',fT,' MHz\\n')\n"
     ],
     "language": "python",
     "metadata": {},
     "outputs": [
      {
       "output_type": "stream",
       "stream": "stdout",
       "text": [
        "\n",
        "transconductance =  1.00 mA/V\n",
        "\n",
        "\n",
        "unity gain bandwidth=  663.15  MHz\n",
        "\n"
       ]
      }
     ],
     "prompt_number": 11
    },
    {
     "cell_type": "heading",
     "level": 2,
     "metadata": {},
     "source": [
      "Ex13-pg432"
     ]
    },
    {
     "cell_type": "code",
     "collapsed": false,
     "input": [
      "import math\n",
      " \n",
      "##Example 7.13\n",
      "gm=1.;\n",
      "Cgd=0.04;\n",
      "Rl=10.;\n",
      "Cgs=0.2;\n",
      "Cm=Cgd*(1.+gm*Rl);\n",
      "print\"%s %.2f %s\"%('\\nMiller capacitance= ',Cm,' pF\\n')\n",
      "Cm=0.44*0.001;##nF\n",
      "Cgs=0.2*0.001;##nF\n",
      "fT=gm/(2.*math.pi*(Cgs+Cm));\n",
      "print\"%s %.2f %s\"%('\\ncutoff frequency= ',fT,' MHz\\n')\n"
     ],
     "language": "python",
     "metadata": {},
     "outputs": [
      {
       "output_type": "stream",
       "stream": "stdout",
       "text": [
        "\n",
        "Miller capacitance=  0.44  pF\n",
        "\n",
        "\n",
        "cutoff frequency=  248.68  MHz\n",
        "\n"
       ]
      }
     ],
     "prompt_number": 12
    },
    {
     "cell_type": "heading",
     "level": 2,
     "metadata": {},
     "source": [
      "Ex14-pg435"
     ]
    },
    {
     "cell_type": "code",
     "collapsed": false,
     "input": [
      "import math\n",
      "\n",
      "##Example 7.14\n",
      "V1=5.;\n",
      "V=-5.;\n",
      "Rs=0.1;\n",
      "Rb=40.;\n",
      "R2=5.72;\n",
      "Re=0.5;\n",
      "Rc=5.;\n",
      "Rl=10.;\n",
      "b=150.;\n",
      "Vbe=0.7;\n",
      "C1=35*10**-3;\n",
      "C2=4.;\n",
      "Vt=0.026;\n",
      "Icq=1.02;\n",
      "r=b*Vt/Icq;\n",
      "print\"%s %.2f %s\"%('\\nsmall signal parameter= ',r,' KOhm\\n')\n",
      "gm=Icq/Vt;\n",
      "print\"%s %.2f %s\"%('\\ntransconductance= ',gm,' mA/V\\n')\n",
      "Cm=C2*(1+gm*Rc*Rl/(Rc+Rl));\n",
      "print\"%s %.2f %s\"%('\\nMiller capacitance= ',Cm,' pF\\n')\n",
      "Cm=527.*10**-3;\n",
      "x=Rb*Rs/(Rb+Rs);\n",
      "y=r*x/(r+x);\n",
      "fH=1/(2.*math.pi*y*(C1+Cm));\n",
      "print\"%s %.2f %s\"%('\\nupper corner frequency = ',fH,'MHz\\n')\n",
      "t=Rb*r/(Rb+r);\n",
      "p=Rc*Rl/(Rc+Rl);\n",
      "Av=gm*p*t/(t+Rs);\n",
      "print\"%s %.2f %s\"%('\\nmidband gain= ',Av,'\\n')\n"
     ],
     "language": "python",
     "metadata": {},
     "outputs": [
      {
       "output_type": "stream",
       "stream": "stdout",
       "text": [
        "\n",
        "small signal parameter=  3.82  KOhm\n",
        "\n",
        "\n",
        "transconductance=  39.23  mA/V\n",
        "\n",
        "\n",
        "Miller capacitance=  527.08  pF\n",
        "\n",
        "\n",
        "upper corner frequency =  2.91 MHz\n",
        "\n",
        "\n",
        "midband gain=  127.13 \n",
        "\n"
       ]
      }
     ],
     "prompt_number": 13
    },
    {
     "cell_type": "heading",
     "level": 2,
     "metadata": {},
     "source": [
      "Ex15-pg439"
     ]
    },
    {
     "cell_type": "code",
     "collapsed": false,
     "input": [
      "import math\n",
      "\n",
      "##Example 7.15\n",
      "V1=5.;\n",
      "V=-5.;\n",
      "Rs=0.1;\n",
      "R1=40.;\n",
      "R2=5.72;\n",
      "Re=0.5;\n",
      "Rc=5.;\n",
      "Rl=10.;\n",
      "b=150.;\n",
      "Vbe=0.7;\n",
      "C1=35.;\n",
      "C2=4.;\n",
      "Vt=0.026;\n",
      "Icq=1.02;\n",
      "gm=39.2;\n",
      "r=3.82;\n",
      "x=Re*Rs/(Re+Rs);\n",
      "t=r/(1.+b);\n",
      "y=t*x/(t+x);\n",
      "Tp=y*C1;\n",
      "print\"%s %.2f %s\"%('\\ntime constant= ',Tp,' ns\\n')\n",
      "Tp=0.679*10**-3;##micro sec\n",
      "f=1/(2.*math.pi*Tp);\n",
      "print\"%s %.2f %s\"%('\\nupper frequency = ',f,'MHz\\n')\n",
      "T=C2*Rc*Rl/(Rc+Rl);\n",
      "print\"%s %.2f %s\"%('\\ntime constant= ',T,' ns\\n')\n",
      "T=13.3*10**-3;##micro sec\n",
      "f=1/(2.*math.pi*T);\n",
      "print\"%s %.2f %s\"%('\\nupper frequency= ',f,' MHz\\n')\n",
      "x=Rc*Rl/(Rc+Rl);\n",
      "y=Re*t/(Re+t);\n",
      "Av=gm*x*(y/(y+Rs));\n",
      "print\"%s %.2f %s\"%('\\nmidband voltage gain \\n',Av,'')\n"
     ],
     "language": "python",
     "metadata": {},
     "outputs": [
      {
       "output_type": "stream",
       "stream": "stdout",
       "text": [
        "\n",
        "time constant=  0.68  ns\n",
        "\n",
        "\n",
        "upper frequency =  234.40 MHz\n",
        "\n",
        "\n",
        "time constant=  13.33  ns\n",
        "\n",
        "\n",
        "upper frequency=  11.97  MHz\n",
        "\n",
        "\n",
        "midband voltage gain \n",
        " 25.36 \n"
       ]
      }
     ],
     "prompt_number": 14
    },
    {
     "cell_type": "heading",
     "level": 2,
     "metadata": {},
     "source": [
      "Ex16-pg443"
     ]
    },
    {
     "cell_type": "code",
     "collapsed": false,
     "input": [
      "import math\n",
      "\n",
      "##Example 7.16\n",
      "V1=5.;\n",
      "V=-5.;\n",
      "Rs=0.1;\n",
      "R1=42.5;\n",
      "R2=20.5;\n",
      "R3=28.3;\n",
      "Re=5.4;\n",
      "Rc=5.;\n",
      "Rl=10.;\n",
      "b=150.;\n",
      "Vbe=0.7;\n",
      "C1=35.;\n",
      "C2=4.;\n",
      "Vt=0.026;\n",
      "Icq=1.02;\n",
      "gm=39.2;\n",
      "r=3.820;\n",
      "Rb=R2*R3/(R2+R3);\n",
      "x=Rb*r/(Rb+r);\n",
      "y=Rs*x/(x+Rs);\n",
      "Tp=y*(C1+2*C2);\n",
      "print\"%s %.2f %s\"%('\\ntime constant= ',Tp,' ns\\n')\n",
      "Tp=Tp*10**-3;##micro sec\n",
      "f=1/(2.*math.pi*Tp);\n",
      "print\"%s %.2f %s\"%('\\n3dB frequency = ',f,'MHz\\n')\n",
      "T=C2*Rc*Rl/(Rc+Rl);\n",
      "print\"%s %.2f %s\"%('\\ntime constant= ',T,'ns\\n')\n",
      "T=T*0.001;##micro sec\n",
      "f=1/(2.*math.pi*T);\n",
      "print\"%s %.2f %s\"%('\\nupper frequency= ',f,' MHz\\n')\n",
      "x=Rc*Rl/(Rc+Rl);\n",
      "y=Rb*r/(Rb+r);\n",
      "Av=gm*x*(y/(y+Rs));\n",
      "print\"%s %.2f %s\"%('\\nmidband voltage gain= ',Av,' \\n')\n"
     ],
     "language": "python",
     "metadata": {},
     "outputs": [
      {
       "output_type": "stream",
       "stream": "stdout",
       "text": [
        "\n",
        "time constant=  4.16  ns\n",
        "\n",
        "\n",
        "3dB frequency =  38.29 MHz\n",
        "\n",
        "\n",
        "time constant=  13.33 ns\n",
        "\n",
        "\n",
        "upper frequency=  11.94  MHz\n",
        "\n",
        "\n",
        "midband voltage gain=  126.30  \n",
        "\n"
       ]
      }
     ],
     "prompt_number": 15
    },
    {
     "cell_type": "heading",
     "level": 2,
     "metadata": {},
     "source": [
      "Ex17-pg447"
     ]
    },
    {
     "cell_type": "code",
     "collapsed": false,
     "input": [
      "import math\n",
      "##Example 7.17\n",
      "V1=5.;\n",
      "V=-5.;\n",
      "Rs=0.1;\n",
      "R1=40;\n",
      "R2=5.720;\n",
      "Re=0.5;\n",
      "Rc=5.;\n",
      "Rl=10.;\n",
      "b=150.;\n",
      "Vbe=0.7;\n",
      "C1=35.;\n",
      "C2=4.;\n",
      "Vt=0.026;\n",
      "Icq=1.02;\n",
      "gm=39.2;\n",
      "r=3.820;\n",
      "t=r/(1.+b);\n",
      "t=t*0.001;\n",
      "f=1/(2.*math.pi*C1*t);\n",
      "print'%s %.2f %s'%('\\nthe zero occurs at this frequency= ',f,' MHz\\n')\n",
      "x=1+gm*Re*Rl/(Re+Rl);\n",
      "Rb=R1*R2/(R1+R2)\n",
      "d=x*r;\n",
      "y=d*Rb/(d+Rb);\n",
      "t=y*Rs/(y+Rs);\n",
      "Tp=t*(C2+C1/x);\n",
      "print'%s %.2f %s'%('\\ntime constant= ',Tp,' ns\\n')\n",
      "Tp=Tp*10**-3;##micro sec\n",
      "f=1/(2.*math.pi*Tp);\n",
      "print'%s %.2f %s'%('\\n3dB frequency= ',f,' MHz\\n')"
     ],
     "language": "python",
     "metadata": {},
     "outputs": [
      {
       "output_type": "stream",
       "stream": "stdout",
       "text": [
        "\n",
        "the zero occurs at this frequency=  179.75  MHz\n",
        "\n",
        "\n",
        "time constant=  0.57  ns\n",
        "\n",
        "\n",
        "3dB frequency=  281.24  MHz\n",
        "\n"
       ]
      }
     ],
     "prompt_number": 17
    }
   ],
   "metadata": {}
  }
 ]
}