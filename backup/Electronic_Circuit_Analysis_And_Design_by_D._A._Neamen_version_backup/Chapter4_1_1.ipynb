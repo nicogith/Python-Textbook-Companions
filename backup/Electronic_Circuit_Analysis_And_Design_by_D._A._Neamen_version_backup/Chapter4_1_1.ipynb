{
 "metadata": {
  "name": "",
  "signature": "sha256:6cd0454c158d13a9f3c4fd9afab45debe741070024bd59dcb697aaffd2aec82d"
 },
 "nbformat": 3,
 "nbformat_minor": 0,
 "worksheets": [
  {
   "cells": [
    {
     "cell_type": "heading",
     "level": 1,
     "metadata": {},
     "source": [
      "Chapter4-Basic BJT Amplifiers"
     ]
    },
    {
     "cell_type": "heading",
     "level": 2,
     "metadata": {},
     "source": [
      "Ex1-pg174"
     ]
    },
    {
     "cell_type": "code",
     "collapsed": false,
     "input": [
      "import math\n",
      "\n",
      "##Example 4.1\n",
      "b=100.;\n",
      "Vcc=12.;\n",
      "Vbe=0.7;\n",
      "Rc=6.;\n",
      "Rb=50.;\n",
      "Vbb=1.2;\n",
      "##dc solution\n",
      "Ibq=(Vbb-Vbe)/Rb;\n",
      "print\"%s %.2f %s\"%('\\nbase current=  ',Ibq,' mA\\n')\n",
      "Icq=b*Ibq;\n",
      "print\"%s %.2f %s\"%('\\ncollector current= ',Icq,' mA\\n')\n",
      "Vceq=Vcc-Icq*Rc;\n",
      "print\"%s %.2f %s\"%('\\ncollector emitter voltage= ',Vceq,' V\\n')\n",
      "##transistor is forward biased\n",
      "##ac solution \n",
      "V_T=0.026;##(V)\n",
      "##small signal hybrid pi parameters\n",
      "r_pi=b*V_T/Icq;\n",
      "print\"%s %.2f %s\"%('\\nsmall signal resistance= ',r_pi,' KOhm\\n')\n",
      "g_m=Icq/V_T;\n",
      "print\"%s %.2f %s\"%('\\ntransconductance= ',g_m,' mA/V\\n')\n",
      "##Av=Vo/Vs=-(g_m*Rc)*r_pi/(r_pi+Rb)\n",
      "Av=-(g_m*Rc)*r_pi/(r_pi+Rb);\n",
      "print\"%s %.2f %s\"%('\\nsmall signal voltage gain=\\n',Av,'')\n"
     ],
     "language": "python",
     "metadata": {},
     "outputs": [
      {
       "output_type": "stream",
       "stream": "stdout",
       "text": [
        "\n",
        "base current=   0.01  mA\n",
        "\n",
        "\n",
        "collector current=  1.00  mA\n",
        "\n",
        "\n",
        "collector emitter voltage=  6.00  V\n",
        "\n",
        "\n",
        "small signal resistance=  2.60  KOhm\n",
        "\n",
        "\n",
        "transconductance=  38.46  mA/V\n",
        "\n",
        "\n",
        "small signal voltage gain=\n",
        " -11.41 \n"
       ]
      }
     ],
     "prompt_number": 2
    },
    {
     "cell_type": "heading",
     "level": 2,
     "metadata": {},
     "source": [
      "Ex2-pg177"
     ]
    },
    {
     "cell_type": "code",
     "collapsed": false,
     "input": [
      "import math\n",
      "\n",
      "##Example 4.2\n",
      "V_pi=50.;##(V)\n",
      "Icq=1.;##(mA)\n",
      "ro=V_pi/Icq;\n",
      "print\"%s %.2f %s\"%('\\nsmall signal output resistance= ',ro,' KOhm\\n')\n",
      "Rc=6.;\n",
      "g_m=38.5;\n",
      "r_pi=2.6;\n",
      "Rb=50.;\n",
      "Av=-(g_m)*(Rc*ro/(Rc+ro))*r_pi/(r_pi+Rb);\n",
      "print\"%s %.2f %s\"%('\\nsmall signal voltage gain= \\n',Av,'')\n"
     ],
     "language": "python",
     "metadata": {},
     "outputs": [
      {
       "output_type": "stream",
       "stream": "stdout",
       "text": [
        "\n",
        "small signal output resistance=  50.00  KOhm\n",
        "\n",
        "\n",
        "small signal voltage gain= \n",
        " -10.19 \n"
       ]
      }
     ],
     "prompt_number": 3
    },
    {
     "cell_type": "heading",
     "level": 2,
     "metadata": {},
     "source": [
      "Ex4-pg190"
     ]
    },
    {
     "cell_type": "code",
     "collapsed": false,
     "input": [
      "import math\n",
      "\n",
      "##Example 4.4\n",
      "b=100.;\n",
      "Vbe=0.7;\n",
      "Va=100.;\n",
      "V_T=0.026;##(V)\n",
      "##from dc analysis\n",
      "Icq=0.95;\n",
      "Vceq=6.31;\n",
      "##ac analysis\n",
      "r_pi=b*V_T/Icq;\n",
      "print\"%s %.2f %s\"%('\\nsmall signal resistance= ',r_pi,' KOhm\\n')\n",
      "g_m=Icq/V_T;\n",
      "print\"%s %.2f %s\"%('\\ntransconductance= ',g_m,' mA/V\\n')\n",
      "Rs=0.5;\n",
      "Rc=6.;\n",
      "ro=Va/Icq;\n",
      "print\"%s %.2f %s\"%('\\nro= ',ro,' KOhm\\n')\n",
      "Av=-g_m*(5.9*r_pi/(5.9+r_pi))/((5.9*r_pi/(r_pi+5.9))+Rs)*ro*Rc/(ro+Rc);\n",
      "print\"%s %.2f %s\"%('\\nsmall signal voltage gain= ',Av,' \\n')\n",
      "Ri=5.9*r_pi/(r_pi+5.9);\n",
      "print\"%s %.2f %s\"%('\\ninput resistance= ',Ri,' KOhm\\n')\n",
      "Ro=ro*Rc/(ro+Rc);\n",
      "print\"%s %.2f %s\"%('\\noutput resistance= ',Ro,' KOhm\\n')\n"
     ],
     "language": "python",
     "metadata": {},
     "outputs": [
      {
       "output_type": "stream",
       "stream": "stdout",
       "text": [
        "\n",
        "small signal resistance=  2.74  KOhm\n",
        "\n",
        "\n",
        "transconductance=  36.54  mA/V\n",
        "\n",
        "\n",
        "ro=  105.26  KOhm\n",
        "\n",
        "\n",
        "small signal voltage gain=  -163.64  \n",
        "\n",
        "\n",
        "input resistance=  1.87  KOhm\n",
        "\n",
        "\n",
        "output resistance=  5.68  KOhm\n",
        "\n"
       ]
      }
     ],
     "prompt_number": 5
    },
    {
     "cell_type": "heading",
     "level": 2,
     "metadata": {},
     "source": [
      "Ex5-pg194"
     ]
    },
    {
     "cell_type": "code",
     "collapsed": false,
     "input": [
      "import math\n",
      "\n",
      "##Example 4.5\n",
      "b=100.;\n",
      "Vbe=0.7;\n",
      "Rc=2.;\n",
      "Rs=0.5;\n",
      "Icq=2.16;\n",
      "V_T=0.026;##(V)\n",
      "Vceq=4.8\n",
      "##ac solution\n",
      "r_pi=b*V_T/Icq;\n",
      "print\"%s %.2f %s\"%('\\nsmall signal resistance= ',r_pi,' KOhm\\n')\n",
      "g_m=Icq/V_T;\n",
      "print\"%s %.2f %s\"%('\\ntransconductance= ',g_m,' mA/V\\n')\n",
      "##since Va=infinity,ro=Va/Icq is also infinity\n",
      "Re=0.4;\n",
      "Rib=r_pi+(1.+b)*Re;\n",
      "print\"%s %.2f %s\"%('\\ninput resistance to the base= ',Rib,' KOhm\\n')\n",
      "##Ri=R1||R2||Rib\n",
      "Ri=10.*Rib/(10.+Rib);\n",
      "print\"%s %.2f %s\"%('\\ninput resistance to the amplifier= ',Ri,' KOhm\\n')\n",
      "Av=-(1./(r_pi+(1.+b)*Re))*b*Rc*Ri/(Ri+Rs);\n",
      "print\"%s %.2f %s\"%('\\nsmall signal voltage gain= \\n',Av,'')\n",
      "##by approximate expression\n",
      "Av=-Rc/Re;\n",
      "print\"%s %.2f %s\"%('\\nsmall signal voltage gain= \\n',Av,'')\n"
     ],
     "language": "python",
     "metadata": {},
     "outputs": [
      {
       "output_type": "stream",
       "stream": "stdout",
       "text": [
        "\n",
        "small signal resistance=  1.20  KOhm\n",
        "\n",
        "\n",
        "transconductance=  83.08  mA/V\n",
        "\n",
        "\n",
        "input resistance to the base=  41.60  KOhm\n",
        "\n",
        "\n",
        "input resistance to the amplifier=  8.06  KOhm\n",
        "\n",
        "\n",
        "small signal voltage gain= \n",
        " -4.53 \n",
        "\n",
        "small signal voltage gain= \n",
        " -5.00 \n"
       ]
      }
     ],
     "prompt_number": 6
    },
    {
     "cell_type": "heading",
     "level": 2,
     "metadata": {},
     "source": [
      "Ex7-pg199"
     ]
    },
    {
     "cell_type": "code",
     "collapsed": false,
     "input": [
      "import math\n",
      "\n",
      "##Example 4.7\n",
      "Iq=0.5;\n",
      "b=120.;\n",
      "Va=80.;\n",
      "V_T=0.026;##(V)\n",
      "rc=120.;##small signal collector resistance (KOhm)\n",
      "##Icq=Iq\n",
      "Icq=0.5;\n",
      "g_m=Icq/V_T;\n",
      "print\"%s %.2f %s\"%('\\ntransconductance= ',g_m,' mA/V\\n')\n",
      "ro=Va/Icq;\n",
      "print\"%s %.2f %s\"%('\\nsmall signal output resistance= ',ro,' KOhm\\n')\n",
      "Av=-g_m*ro*rc/(ro+rc);\n",
      "print\"%s %.2f %s\"%('\\nsmall signal voltage gain= ',Av,' \\n')\n"
     ],
     "language": "python",
     "metadata": {},
     "outputs": [
      {
       "output_type": "stream",
       "stream": "stdout",
       "text": [
        "\n",
        "transconductance=  19.23  mA/V\n",
        "\n",
        "\n",
        "small signal output resistance=  160.00  KOhm\n",
        "\n",
        "\n",
        "small signal voltage gain=  -1318.68  \n",
        "\n"
       ]
      }
     ],
     "prompt_number": 7
    },
    {
     "cell_type": "heading",
     "level": 2,
     "metadata": {},
     "source": [
      "Ex8-pg201"
     ]
    },
    {
     "cell_type": "code",
     "collapsed": false,
     "input": [
      "import math\n",
      "\n",
      "##Example 4.8\n",
      "b=150.;Veb=0.7;\n",
      "##dc solution\n",
      "V2=10.;\n",
      "V1=-10.;\n",
      "V_T=0.026;##(V)\n",
      "Rc=5.;\n",
      "Rb=50.;\n",
      "Re=10.;\n",
      "Ibq=(V2-Veb)/(Rb+(1.+b)*Re);\n",
      "print\"%s %.2f %s\"%('\\nbase current ',Ibq,' mA\\n')\n",
      "Icq=b*Ibq;\n",
      "print\"%s %.2f %s\"%('\\ncollector current= ',Icq,' mA\\n')\n",
      "Ieq=(1.+b)*Ibq;\n",
      "print\"%s %.2f %s\"%('\\nemitter current= ',Ieq,' mA\\n')\n",
      "Vecq=V2-V1-Icq*Rc-Ieq*Re;\n",
      "print\"%s %.2f %s\"%('\\nemitter collector voltage= ',Vecq,' V\\n')\n",
      "##ac solution\n",
      "r_pi=b*V_T/Icq;\n",
      "print\"%s %.2f %s\"%('\\nsmall signal resistance= ',r_pi,' KOhm\\n')\n",
      "g_m=Icq/V_T;\n",
      "print\"%s %.2f %s\"%('\\ntransconductance = ',g_m,'mA/V\\n')\n",
      "##since Va=infinity,ro=Va/Icq is also infinity\n"
     ],
     "language": "python",
     "metadata": {},
     "outputs": [
      {
       "output_type": "stream",
       "stream": "stdout",
       "text": [
        "\n",
        "base current  0.01  mA\n",
        "\n",
        "\n",
        "collector current=  0.89  mA\n",
        "\n",
        "\n",
        "emitter current=  0.90  mA\n",
        "\n",
        "\n",
        "emitter collector voltage=  6.53  V\n",
        "\n",
        "\n",
        "small signal resistance=  4.36  KOhm\n",
        "\n",
        "\n",
        "transconductance =  34.39 mA/V\n",
        "\n"
       ]
      }
     ],
     "prompt_number": 9
    },
    {
     "cell_type": "heading",
     "level": 2,
     "metadata": {},
     "source": [
      "Ex9-203"
     ]
    },
    {
     "cell_type": "code",
     "collapsed": false,
     "input": [
      "import math\n",
      "\n",
      "##Example 4.9\n",
      "Ic=0.894;\n",
      "i_C=2.*Ic;\n",
      "print\"%s %.2f %s\"%('\\nmaximum possible symmetrical peak to peak ac collector current= ',i_C,' mA\\n')\n",
      "Rc=5.;\n",
      "Rl=2.;\n",
      "vo=i_C*Rc*Rl/(Rc+Rl);\n",
      "print\"%s %.2f %s\"%('\\nmaximum possible symmetrical peak to peak output voltage= ',vo,' V\\n')\n",
      "iC=Ic+i_C*1/2.;\n",
      "print\"%s %.2f %s\"%('\\nmaximum instantaneous collector current= ',iC,' mA\\n')\n"
     ],
     "language": "python",
     "metadata": {},
     "outputs": [
      {
       "output_type": "stream",
       "stream": "stdout",
       "text": [
        "\n",
        "maximum possible symmetrical peak to peak ac collector current=  1.79  mA\n",
        "\n",
        "\n",
        "maximum possible symmetrical peak to peak output voltage=  2.55  V\n",
        "\n",
        "\n",
        "maximum instantaneous collector current=  1.79  mA\n",
        "\n"
       ]
      }
     ],
     "prompt_number": 10
    },
    {
     "cell_type": "heading",
     "level": 2,
     "metadata": {},
     "source": [
      "Ex10-pg206"
     ]
    },
    {
     "cell_type": "code",
     "collapsed": false,
     "input": [
      "import math\n",
      " \n",
      "##Example 4.10\n",
      "b=100.;\n",
      "Vbe=0.7;\n",
      "V_T=0.026;##(V)\n",
      "Re=2.;\n",
      "R1=50.;\n",
      "R2=50.;\n",
      "Rs=0.5;\n",
      "Va=80.;\n",
      "##by dc analysis\n",
      "Icq=0.793;\n",
      "Vceq=3.4;\n",
      "r_pi=b*V_T/Icq;\n",
      "print\"%s %.2f %s\"%('\\nsmall signal resistance= ',r_pi,' KOhm\\n')\n",
      "g_m=Icq/V_T;\n",
      "print\"%s %.2f %s\"%('\\ntransconductance= ',g_m,' mA/V\\n')\n",
      "ro=Va/Icq;\n",
      "print\"%s %.2f %s\"%('\\nsmall signal output resistance= ',ro,' KOhm\\n')\n",
      "Rib=r_pi+(1.+b)*Re*ro/(ro+Re);\n",
      "print\"%s %.2f %s\"%('\\ninput resistance to the base= ',Rib,' KOhm\\n')\n",
      "##Ri=R1||R2||Rib\n",
      "x=R1*R2/(R1+R2);\n",
      "Ri=x*Rib/(x+Rib);\n",
      "print\"%s %.2f %s\"%('\\nRi= ',Ri,' KOhm\\n')\n",
      "y=ro*Re/(ro+Re);\n",
      "Av=(1./(r_pi+(1.+b)*y))*(1.+b)*y*Ri/(Ri+Rs);\n",
      "print\"%s %.2f %s\"%('\\nsmall signal voltage gain= ',Av,' \\n')\n"
     ],
     "language": "python",
     "metadata": {},
     "outputs": [
      {
       "output_type": "stream",
       "stream": "stdout",
       "text": [
        "\n",
        "small signal resistance=  3.28  KOhm\n",
        "\n",
        "\n",
        "transconductance=  30.50  mA/V\n",
        "\n",
        "\n",
        "small signal output resistance=  100.88  KOhm\n",
        "\n",
        "\n",
        "input resistance to the base=  201.35  KOhm\n",
        "\n",
        "\n",
        "Ri=  22.24  KOhm\n",
        "\n",
        "\n",
        "small signal voltage gain=  0.96  \n",
        "\n"
       ]
      }
     ],
     "prompt_number": 12
    }
   ],
   "metadata": {}
  }
 ]
}