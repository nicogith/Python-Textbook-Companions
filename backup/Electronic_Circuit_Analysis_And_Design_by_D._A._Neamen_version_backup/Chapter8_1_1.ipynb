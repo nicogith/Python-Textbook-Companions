{
 "metadata": {
  "name": "",
  "signature": "sha256:cdd1f791d4e53fd374d40ced42151b47691b22d0170edabcbe64af78e36e0de3"
 },
 "nbformat": 3,
 "nbformat_minor": 0,
 "worksheets": [
  {
   "cells": [
    {
     "cell_type": "heading",
     "level": 1,
     "metadata": {},
     "source": [
      "Chapter8-Ouput Stages and Power Amplifier "
     ]
    },
    {
     "cell_type": "heading",
     "level": 2,
     "metadata": {},
     "source": [
      "Ex2-pg478"
     ]
    },
    {
     "cell_type": "code",
     "collapsed": false,
     "input": [
      "import math\n",
      "\n",
      "##Example 8.1\n",
      "##let thermal resistance parameters be R\n",
      "Rdcase=1.75;##degree celsius per watt\n",
      "Rcsnk=1.;##degree celsius per watt\n",
      "Rsamb=5.;##degree celsius per watt\n",
      "Rcamb=50.;##degree celsius per watt\n",
      "Tamb=30.;##ambient temperature \n",
      "Tjmax=150.;##maximum junction temperature\n",
      "Tdev=150.;##device temperature\n",
      "##when no heat sink is used\n",
      "P=(Tjmax-Tamb)/(Rdcase+Rcamb);\n",
      "print\"%s %.2f %s\"%('\\nmaximum power dissipation= ',P,' W\\n')\n",
      "##when heat sink is used\n",
      "P=(Tjmax-Tamb)/(Rdcase+Rcsnk+Rsamb);\n",
      "print\"%s %.2f %s\"%('\\nmaximum power dissipation= ',P,' W\\n')\n",
      "\n",
      "\n",
      "\n"
     ],
     "language": "python",
     "metadata": {},
     "outputs": [
      {
       "output_type": "stream",
       "stream": "stdout",
       "text": [
        "\n",
        "maximum power dissipation=  2.32  W\n",
        "\n",
        "\n",
        "maximum power dissipation=  15.48  W\n",
        "\n"
       ]
      }
     ],
     "prompt_number": 2
    },
    {
     "cell_type": "heading",
     "level": 2,
     "metadata": {},
     "source": [
      "Ex3-pg479"
     ]
    },
    {
     "cell_type": "code",
     "collapsed": false,
     "input": [
      "import math\n",
      "\n",
      "##Example 8.3\n",
      "Rcsnk=1.;##degree celsius per watt\n",
      "Rsamb=5.;##degree celsius per watt\n",
      "Tjmax=175.;##maximum junction temperature\n",
      "Toc=25.;\n",
      "Tamb=25.;\n",
      "Pr=20.;##rated power W\n",
      "Rdcase=(Tjmax-Toc)/Pr;\n",
      "print\"%s %.2f %s\"%('\\ndevice to case thermal resistance= ',Rdcase,' C/W\\n')\n",
      "P=(Tjmax-Tamb)/(Rdcase+Rcsnk+Rsamb);\n",
      "print\"%s %.2f %s\"%('\\nmaximum power dissipation= ',P,' W\\n')\n"
     ],
     "language": "python",
     "metadata": {},
     "outputs": [
      {
       "output_type": "stream",
       "stream": "stdout",
       "text": [
        "\n",
        "device to case thermal resistance=  7.50  C/W\n",
        "\n",
        "\n",
        "maximum power dissipation=  11.11  W\n",
        "\n"
       ]
      }
     ],
     "prompt_number": 3
    },
    {
     "cell_type": "heading",
     "level": 2,
     "metadata": {},
     "source": [
      "Ex7-pg492"
     ]
    },
    {
     "cell_type": "code",
     "collapsed": false,
     "input": [
      "import math\n",
      "\n",
      "##Example 8.7\n",
      "Vdd=10.;\n",
      "Rl=20.;\n",
      "K=0.2;\n",
      "Vt=1.;\n",
      "vo=5.;\n",
      "iL=vo/20.;\n",
      "print\"%s %.2f %s\"%('\\niL= ',iL,' A\\n')\n",
      "Idq=0.05;\n",
      "##Idq=K*(Vbb/2-Vt)\n",
      "Vbb=(math.sqrt(Idq/K)+1.)*2.;\n",
      "print\"%s %.2f %s\"%('\\nVbb= ',Vbb,' V\\n')\n",
      "iD=iL;\n",
      "Vgsn=math.sqrt(iD/K)+Vt;\n",
      "print\"%s %.2f %s\"%('\\nVgsn= ',Vgsn,' V\\n')\n",
      "Vsgp=Vbb-Vgsn;\n",
      "print\"%s %.2f %s\"%('\\nVsgp= ',Vsgp,' V\\n')\n",
      "vi=vo+Vgsn-Vbb/2.;\n",
      "print\"%s %.2f %s\"%('\\ninput voltage= ',vi,' V\\n')\n"
     ],
     "language": "python",
     "metadata": {},
     "outputs": [
      {
       "output_type": "stream",
       "stream": "stdout",
       "text": [
        "\n",
        "iL=  0.25  A\n",
        "\n",
        "\n",
        "Vbb=  3.00  V\n",
        "\n",
        "\n",
        "Vgsn=  2.12  V\n",
        "\n",
        "\n",
        "Vsgp=  0.88  V\n",
        "\n",
        "\n",
        "input voltage=  5.62  V\n",
        "\n"
       ]
      }
     ],
     "prompt_number": 4
    },
    {
     "cell_type": "heading",
     "level": 2,
     "metadata": {},
     "source": [
      "Ex8-pg498"
     ]
    },
    {
     "cell_type": "code",
     "collapsed": false,
     "input": [
      "import math\n",
      " \n",
      "##Example 8.8\n",
      "Vcc=24.;\n",
      "Rl=8.;\n",
      "P=5.;\n",
      "Vbe=0.7;\n",
      "b=100.;\n",
      "Vp=math.sqrt(2.*Rl*P);\n",
      "print\"%s %.2f %s\"%('\\npeak output voltage= ',Vp,' V\\n')\n",
      "Ip=Vp/Rl;\n",
      "print\"%s %.2f %s\"%('\\npeak output current = ',Ip,'A\\n')\n",
      "a=0.9*Vcc/Vp;\n",
      "print\"%s %.2f %s\"%('\\na= ',a,'\\n')\n",
      "Icq=Ip/(0.9*a);\n",
      "print\"%s %.2f %s\"%('\\nIcq= ',Icq,' A\\n')\n",
      "Pq=Vcc*Icq;\n",
      "print\"%s %.2f %s\"%('\\nmaximum power dissipated in the transistor= ',Pq,' W\\n')\n",
      "Ibq=Icq/b;\n",
      "Ibq=Ibq*1000.;##mA\n",
      "print\"%s %.2f %s\"%('\\nbase current Ibq= ',Ibq,' mA\\n')\n",
      "Rth=2.500;\n",
      "##Vth=Vcc*Rth/R1 and Vth=Ibq*Rth+Vbe\n",
      "R1=Vcc*Rth/(Ibq*Rth+Vbe);\n",
      "print\"%s %.2f %s\"%('\\nR1= ',R1,' KOhm\\n')\n",
      "R2=Rth*R1/(R1-Rth);\n",
      "print\"%s %.2f %s\"%('\\nR2= ',R2,' KOhm\\n')\n"
     ],
     "language": "python",
     "metadata": {},
     "outputs": [
      {
       "output_type": "stream",
       "stream": "stdout",
       "text": [
        "\n",
        "peak output voltage=  8.94  V\n",
        "\n",
        "\n",
        "peak output current =  1.12 A\n",
        "\n",
        "\n",
        "a=  2.41 \n",
        "\n",
        "\n",
        "Icq=  0.51  A\n",
        "\n",
        "\n",
        "maximum power dissipated in the transistor=  12.35  W\n",
        "\n",
        "\n",
        "base current Ibq=  5.14  mA\n",
        "\n",
        "\n",
        "R1=  4.42  KOhm\n",
        "\n",
        "\n",
        "R2=  5.75  KOhm\n",
        "\n"
       ]
      }
     ],
     "prompt_number": 5
    },
    {
     "cell_type": "heading",
     "level": 2,
     "metadata": {},
     "source": [
      "Ex9-pg500"
     ]
    },
    {
     "cell_type": "code",
     "collapsed": false,
     "input": [
      "import math\n",
      "\n",
      "##Example 8.9\n",
      "Iso=3*10**-14;\n",
      "Isq=10**-13;\n",
      "b=75.;\n",
      "Vt=0.026;\n",
      "Rl=8.;\n",
      "P=5.;\n",
      "Vp=math.sqrt(2.*Rl*P);\n",
      "print\"%s %.2f %s\"%('\\npeak voltage Vp= ',Vp,' V\\n')\n",
      "Vcc=Vp/0.8;\n",
      "print\"%s %.2f %s\"%('\\nsupply voltage= ',Vcc,' V\\n')\n",
      "Ien=Vp/Rl;\n",
      "print\"%s %.2f %s\"%('\\nemitter current= ',Ien,' A\\n')\n",
      "Ibn=Ien/(1.+b);\n",
      "Ibn=Ibn*1000.;##mA\n",
      "print\"%s %.2f %s\"%('\\nbase current= ',Ibn,' mA\\n')\n",
      "iD=0.020;\n",
      "Vbb=2.*Vt*math.log(iD/Iso);\n",
      "print\"%s %.2f %s\"%('\\nVbb= ',Vbb,' V\\n')\n",
      "Icq=Isq*math.exp((Vbb/2.)/Vt);\n",
      "Icq=Icq*1000.;##mA\n",
      "print\"%s %.2f %s\"%('\\nquiescent collector current= ',Icq,' mA\\n')\n",
      "Ibias=20.;##mA\n",
      "iD=Ibias-Ibn;\n",
      "print\"%s %.2f %s\"%('\\ndrain current= ',iD,' mA\\n')\n",
      "iD=iD*0.001;##A\n",
      "Vbb=2.*Vt*math.log(iD/Iso);\n",
      "print\"%s %.2f %s\"%('\\nVbb= ',Vbb,' V\\n')\n",
      "Icn=1.12;\n",
      "Vben=Vt*math.log(Icn/Isq);\n",
      "print\"%s %.2f %s\"%('\\nB-E voltage of Qn= ',Vben,' V\\n')\n",
      "Vebp=Vbb-Vben;\n",
      "print\"%s %.2f %s\"%('\\nemitter base voltage of Qp= ',Vebp,' V\\n')\n",
      "Icp=Isq*math.exp(Vebp/Vt);\n",
      "Icp=Icp*1000.;##mA\n",
      "print\"%s %.2f %s\"%('\\nIcp ',Icp,' mA\\n')\n"
     ],
     "language": "python",
     "metadata": {},
     "outputs": [
      {
       "output_type": "stream",
       "stream": "stdout",
       "text": [
        "\n",
        "peak voltage Vp=  8.94  V\n",
        "\n",
        "\n",
        "supply voltage=  11.18  V\n",
        "\n",
        "\n",
        "emitter current=  1.12  A\n",
        "\n",
        "\n",
        "base current=  14.71  mA\n",
        "\n",
        "\n",
        "Vbb=  1.42  V\n",
        "\n",
        "\n",
        "quiescent collector current=  66.67  mA\n",
        "\n",
        "\n",
        "drain current=  5.29  mA\n",
        "\n",
        "\n",
        "Vbb=  1.35  V\n",
        "\n",
        "\n",
        "B-E voltage of Qn=  0.78  V\n",
        "\n",
        "\n",
        "emitter base voltage of Qp=  0.57  V\n",
        "\n",
        "\n",
        "Icp  0.28  mA\n",
        "\n"
       ]
      }
     ],
     "prompt_number": 6
    },
    {
     "cell_type": "heading",
     "level": 2,
     "metadata": {},
     "source": [
      "Ex11-pg505"
     ]
    },
    {
     "cell_type": "code",
     "collapsed": false,
     "input": [
      "import math\n",
      "\n",
      "##Example 8.11\n",
      "R1=2.;##KOhm\n",
      "R2=R1;\n",
      "Rl=.1;##KOhm\n",
      "b=60.;\n",
      "Vbe=0.6;\n",
      "Veb=0.6;\n",
      "V1=15.;\n",
      "V2=V1;\n",
      "iR1=(V1-Vbe)/R1;\n",
      "##iR1=iR2=iE1=iE2\n",
      "print\"%s %.2f %s\"%('\\niR1= ',iR1,' mA\\n')\n",
      "vo=10.;\n",
      "io=vo/Rl;\n",
      "print\"%s %.2f %s\"%('\\noutput current= ',io,' mA\\n')\n",
      "iB3=100./61.;\n",
      "print\"%s %.2f %s\"%('\\niB3= ',iB3,'mA\\n')\n",
      "iR1=(V1-(10.+Vbe))/R1;\n",
      "print\"%s %.2f %s\"%('\\ncurrent in R1= ',iR1,' mA\\n')\n",
      "iE1=iR1-iB3;\n",
      "print\"%s %.2f %s\"%('\\niE1= ',iE1,' mA\\n')\n",
      "iB1=iE1/(1.+b);\n",
      "iB1=iB1*1000.;##micro A\n",
      "print\"%s %.2f %s\"%('\\niB1= ',iB1,' microA\\n')\n",
      "iE2=(10-0.6+15.)/R1;\n",
      "print\"%s %.2f %s\"%('\\niE2= ',iE2,' mA\\n')\n",
      "iB2=iE2/(1.+b);\n",
      "iB2=iB2*1000.;\n",
      "print\"%s %.2f %s\"%('\\niB2= ',iB2,' microA\\n')\n",
      "Ii=iB2-iB1;\n",
      "print\"%s %.2f %s\"%('\\ninput current= ',Ii,' microA\\n')\n",
      "Ii=Ii*0.001;##mA\n",
      "Ai=io/Ii;\n",
      "print\"%s %.2f %s\"%('\\ncurrent gain=\\n',Ai,'')\n",
      "Ai=(1.+b)*R1/(2.*Rl);\n",
      "print\"%s %.2f %s\"%('\\npredicted current gain=\\n',Ai,'')\n"
     ],
     "language": "python",
     "metadata": {},
     "outputs": [
      {
       "output_type": "stream",
       "stream": "stdout",
       "text": [
        "\n",
        "iR1=  7.20  mA\n",
        "\n",
        "\n",
        "output current=  100.00  mA\n",
        "\n",
        "\n",
        "iB3=  1.64 mA\n",
        "\n",
        "\n",
        "current in R1=  2.20  mA\n",
        "\n",
        "\n",
        "iE1=  0.56  mA\n",
        "\n",
        "\n",
        "iB1=  9.19  microA\n",
        "\n",
        "\n",
        "iE2=  12.20  mA\n",
        "\n",
        "\n",
        "iB2=  200.00  microA\n",
        "\n",
        "\n",
        "input current=  190.81  microA\n",
        "\n",
        "\n",
        "current gain=\n",
        " 524.08 \n",
        "\n",
        "predicted current gain=\n",
        " 610.00 \n"
       ]
      }
     ],
     "prompt_number": 7
    }
   ],
   "metadata": {}
  }
 ]
}