{
 "metadata": {
  "name": "",
  "signature": "sha256:94a278ecbe0a391fb4d9353ffc9aa9e2a6d1780bede99089ee306c07fa367982"
 },
 "nbformat": 3,
 "nbformat_minor": 0,
 "worksheets": [
  {
   "cells": [
    {
     "cell_type": "heading",
     "level": 1,
     "metadata": {},
     "source": [
      "Chapter5-The Field Effect Transistor "
     ]
    },
    {
     "cell_type": "heading",
     "level": 2,
     "metadata": {},
     "source": [
      "Ex1-pg252"
     ]
    },
    {
     "cell_type": "code",
     "collapsed": false,
     "input": [
      "import math\n",
      "\n",
      "##Example 5.1\n",
      "Vtn=0.75;##(V)\n",
      "W=40.*10**-6;##(cm)\n",
      "L=4.*10**-6;##(cm)\n",
      "u=650.;##(cm)\n",
      "Iox=450.*10**-11;\n",
      "e=3.9*8.86*10**-14;\n",
      "Kn=W*u*e/(2.*L*Iox);\n",
      "print\"%s %.2f %s\"%('\\nconduction parameter= ',Kn,' mA/V^2\\n')\n",
      "Vgs=2.*Vtn;\n",
      "i_D=Kn*(Vgs-Vtn)**2;\n",
      "print\"%s %.2f %s\"%('\\ndrain current= ',i_D,' mA\\n')\n"
     ],
     "language": "python",
     "metadata": {},
     "outputs": [
      {
       "output_type": "stream",
       "stream": "stdout",
       "text": [
        "\n",
        "conduction parameter=  0.25  mA/V^2\n",
        "\n",
        "\n",
        "drain current=  0.14  mA\n",
        "\n"
       ]
      }
     ],
     "prompt_number": 1
    },
    {
     "cell_type": "heading",
     "level": 2,
     "metadata": {},
     "source": [
      "Ex2-pg256"
     ]
    },
    {
     "cell_type": "code",
     "collapsed": false,
     "input": [
      "import math\n",
      " \n",
      "##Example 5.2\n",
      "Kp=0.2;##(mA/V^2)\n",
      "Vtp=0.5;\n",
      "iD=0.5;\n",
      "Vsg=math.sqrt(iD/Kp)-Vtp;\n",
      "print\"%s %.2f %s\"%('\\nVgs= ',Vsg,' V\\n')\n",
      "##to bias in p channel MOSFET \n",
      "Vsd=Vsg+Vtp;\n",
      "print\"%s %.2f %s\"%('\\nVsd= ',Vsd,' V\\n')\n"
     ],
     "language": "python",
     "metadata": {},
     "outputs": [
      {
       "output_type": "stream",
       "stream": "stdout",
       "text": [
        "\n",
        "Vgs=  1.08  V\n",
        "\n",
        "\n",
        "Vsd=  1.58  V\n",
        "\n"
       ]
      }
     ],
     "prompt_number": 2
    },
    {
     "cell_type": "heading",
     "level": 2,
     "metadata": {},
     "source": [
      "Ex3-pg264"
     ]
    },
    {
     "cell_type": "code",
     "collapsed": false,
     "input": [
      "import math\n",
      " \n",
      "##Example 5.3\n",
      "R1=30.;\n",
      "R2=20.;\n",
      "RD=20.;\n",
      "Vdd=5.;\n",
      "Vtn=1.;\n",
      "Kn=0.1;\n",
      "Vgs=R2*Vdd/(R1+R2);\n",
      "print\"%s %.2f %s\"%('\\nVgs= ',Vgs,' V\\n')\n",
      "I_D=Kn*(Vgs-Vtn)**2;\n",
      "print\"%s %.2f %s\"%('\\nthe drain current= ',I_D,' mA\\n')\n",
      "Vds=Vdd-I_D*RD;\n",
      "print\"%s %.2f %s\"%('\\ndrain to source voltage= ',Vds,' V\\n')\n"
     ],
     "language": "python",
     "metadata": {},
     "outputs": [
      {
       "output_type": "stream",
       "stream": "stdout",
       "text": [
        "\n",
        "Vgs=  2.00  V\n",
        "\n",
        "\n",
        "the drain current=  0.10  mA\n",
        "\n",
        "\n",
        "drain to source voltage=  3.00  V\n",
        "\n"
       ]
      }
     ],
     "prompt_number": 3
    },
    {
     "cell_type": "heading",
     "level": 2,
     "metadata": {},
     "source": [
      "Ex4-pg265"
     ]
    },
    {
     "cell_type": "code",
     "collapsed": false,
     "input": [
      "import math\n",
      "\n",
      "##Example 5.4\n",
      "R1=50.;\n",
      "R2=50.;\n",
      "RD=7.5;\n",
      "Vdd=5.;\n",
      "Vtp=-0.8;\n",
      "Vg=2.5;\n",
      "Kp=0.2;\n",
      "Vo=R2*Vdd/(R1+R2);\n",
      "print\"%s %.2f %s\"%('\\nVo= ',Vo,' V\\n')\n",
      "Vsg=Vdd-Vg;\n",
      "print\"%s %.2f %s\"%('\\nsource to gate voltage= ',Vsg,' V\\n')\n",
      "I_D=Kp*(Vsg+Vtp)**2;\n",
      "print\"%s %.2f %s\"%('\\nthe drain current= ',I_D,' mA\\n')\n",
      "Vsd=Vdd-I_D*RD;\n",
      "print\"%s %.2f %s\"%('\\nsource to drain voltage= ',Vsd,' V\\n')\n"
     ],
     "language": "python",
     "metadata": {},
     "outputs": [
      {
       "output_type": "stream",
       "stream": "stdout",
       "text": [
        "\n",
        "Vo=  2.50  V\n",
        "\n",
        "\n",
        "source to gate voltage=  2.50  V\n",
        "\n",
        "\n",
        "the drain current=  0.58  mA\n",
        "\n",
        "\n",
        "source to drain voltage=  0.67  V\n",
        "\n"
       ]
      }
     ],
     "prompt_number": 4
    },
    {
     "cell_type": "heading",
     "level": 2,
     "metadata": {},
     "source": [
      "Ex6-pg269"
     ]
    },
    {
     "cell_type": "code",
     "collapsed": false,
     "input": [
      "import math\n",
      "\n",
      "##Example 5.6\n",
      "Vtn=2.;\n",
      "Kn=80.*10**-3;\n",
      "##x=W/L\n",
      "x=4.;\n",
      "I_D=0.5;\n",
      "##I_D=Kn*x*((Vgs-Vtn)^2)/2;\n",
      "Vgs=math.sqrt(I_D*2./(Kn*x))+2.;\n",
      "print\"%s %.2f %s\"%('\\nVgs= ',Vgs,' V\\n')\n",
      "##y=R1+R2\n",
      "Rs=2.;\n",
      "y=10./0.05;\n",
      "print\"%s %.2f %s\"%('\\nR1+R2= ',y,' Kohm\\n')\n",
      "##Vgs=Vg-Vs=(R2/(R1+R2)*10-5)-I_D*Rs+5\n",
      "R2=(y/10.)*(Vgs+I_D*Rs);\n",
      "print\"%s %.2f %s\"%('\\nR2= ',R2,' KOhm\\n')\n",
      "R1=y-R2;\n",
      "print\"%s %.2f %s\"%('\\nR1= ',R1,' KOhm\\n')\n"
     ],
     "language": "python",
     "metadata": {},
     "outputs": [
      {
       "output_type": "stream",
       "stream": "stdout",
       "text": [
        "\n",
        "Vgs=  3.77  V\n",
        "\n",
        "\n",
        "R1+R2=  200.00  Kohm\n",
        "\n",
        "\n",
        "R2=  95.36  KOhm\n",
        "\n",
        "\n",
        "R1=  104.64  KOhm\n",
        "\n"
       ]
      }
     ],
     "prompt_number": 5
    },
    {
     "cell_type": "heading",
     "level": 2,
     "metadata": {},
     "source": [
      "Ex7-pg270"
     ]
    },
    {
     "cell_type": "code",
     "collapsed": false,
     "input": [
      "import math\n",
      "\n",
      "##Example 5.7\n",
      "Vtn=0.8;\n",
      "Kn=80.;\n",
      "##x=W/L\n",
      "x=3.;\n",
      "I_D=250.;\n",
      "Vd=2.5;\n",
      "##I_D=Kn/2*x*(Vgs-Vtn)^2\n",
      "Vgs=math.sqrt(I_D*2./(Kn*x))+Vtn;\n",
      "print\"%s %.2f %s\"%('\\nVgs= ',Vgs,' V\\n')\n",
      "Vs=-Vgs\n",
      "##I_D=(5-Vd)/Rd\n",
      "Rd=(5.-Vd)/I_D;\n",
      "print\"%s %.2f %s\"%('\\nRd= ',Rd,' KOhm\\n')\n",
      "Vds=Vd-Vs;\n",
      "print\"%s %.2f %s\"%('\\nVds= ',Vds,' V\\n')\n",
      "Vdssat=Vgs-Vtn\n",
      "##since Vds>Vdssat transistor is biased in saturation region\n"
     ],
     "language": "python",
     "metadata": {},
     "outputs": [
      {
       "output_type": "stream",
       "stream": "stdout",
       "text": [
        "\n",
        "Vgs=  2.24  V\n",
        "\n",
        "\n",
        "Rd=  0.01  KOhm\n",
        "\n",
        "\n",
        "Vds=  4.74  V\n",
        "\n"
       ]
      }
     ],
     "prompt_number": 6
    },
    {
     "cell_type": "heading",
     "level": 2,
     "metadata": {},
     "source": [
      "Ex8-pg272"
     ]
    },
    {
     "cell_type": "code",
     "collapsed": false,
     "input": [
      "import math\n",
      "from sympy import *\n",
      "##Example 5.8\n",
      "Vtn=0.8;\n",
      "Kn=0.05;\n",
      "##I_D=Kn*(Vgs-Vtn)^2\n",
      "##Vds=Vgs=5-I_D*Rs\n",
      "##combining these two equations we obtain 0.5(Vgs)^2+0.2Vgs-4.68\n",
      "import numpy\n",
      "from numpy.polynomial import Polynomial as P\n",
      "p = P([1, 5, 6])\n",
      "p.roots()\n",
      "\n",
      "\n",
      "print('',p.roots(),' V\\n')\n",
      "##assuming transistor is conducting ,Vgs must be greater than threshold voltage\n",
      "Vgs=2.87;\n",
      "I_D=Kn*(Vgs-Vtn)**2;\n",
      "print\"%s %.2f %s\"%('\\ndrain current= ',I_D,' mA\\n')\n",
      "#ans is varying due to round of error in book calculations are done wrong\n"
     ],
     "language": "python",
     "metadata": {},
     "outputs": [
      {
       "output_type": "stream",
       "stream": "stdout",
       "text": [
        "('', array([-0.5       , -0.33333333]), ' V\\n')\n",
        "\n",
        "drain current=  0.21  mA\n",
        "\n"
       ]
      }
     ],
     "prompt_number": 7
    },
    {
     "cell_type": "heading",
     "level": 2,
     "metadata": {},
     "source": [
      "Ex10-pg277"
     ]
    },
    {
     "cell_type": "code",
     "collapsed": false,
     "input": [
      "import math\n",
      " \n",
      "##Example 5.10\n",
      "Vtn=-2.;\n",
      "Kn=0.1;\n",
      "Vdd=5.;\n",
      "Rs=5.;\n",
      "Vgs=0.;\n",
      "I_D=Kn*(Vgs-Vtn)**2;\n",
      "print\"%s %.2f %s\"%('\\ndrain current= ',I_D,' mA\\n')\n",
      "Vds=Vdd-I_D*Rs;\n",
      "print\"%s %.2f %s\"%('\\ndc drain to source voltage= ',Vds,' V\\n')\n",
      "Vdssat=Vgs-Vtn\n",
      "##since Vds>Vdssat transisyor is biased in saturation region\n"
     ],
     "language": "python",
     "metadata": {},
     "outputs": [
      {
       "output_type": "stream",
       "stream": "stdout",
       "text": [
        "\n",
        "drain current=  0.40  mA\n",
        "\n",
        "\n",
        "dc drain to source voltage=  3.00  V\n",
        "\n"
       ]
      }
     ],
     "prompt_number": 9
    },
    {
     "cell_type": "heading",
     "level": 2,
     "metadata": {},
     "source": [
      "Ex11-pg277"
     ]
    },
    {
     "cell_type": "code",
     "collapsed": false,
     "input": [
      "import math\n",
      "import numpy\n",
      "\n",
      "##Example 5.11\n",
      "Vtnd=1;\n",
      "Vtnl=-2;\n",
      "Knd=50;\n",
      "Knl=10;\n",
      "Vt=5;\n",
      "import numpy\n",
      "from numpy.polynomial import Polynomial as P\n",
      "p = P([4, -40, 5])\n",
      "p.roots()\n",
      "\n",
      "\n",
      "print('\\npossible solutions ::',p.roots(),'')\n",
      "##since output voltage cannot be greater than supply voltage 5V\n",
      "Vo=0.1;##(V)\n",
      "I_D=Knl*(-Vtnl)**2;\n",
      "print\"%s %.2f %s\"%('\\ndrain current= ',I_D,' microA\\n')\n"
     ],
     "language": "python",
     "metadata": {},
     "outputs": [
      {
       "output_type": "stream",
       "stream": "stdout",
       "text": [
        "('\\npossible solutions ::', array([ 0.10128226,  7.89871774]), '')\n",
        "\n",
        "drain current=  40.00  microA\n",
        "\n"
       ]
      }
     ],
     "prompt_number": 10
    },
    {
     "cell_type": "heading",
     "level": 2,
     "metadata": {},
     "source": [
      "Ex13-pg282"
     ]
    },
    {
     "cell_type": "code",
     "collapsed": false,
     "input": [
      "import math\n",
      "#calculate the \n",
      "##Example 5.13\n",
      "Kn1=0.2;\n",
      "Kn2=0.1;\n",
      "Kn3=0.1;\n",
      "Kn4=0.1;\n",
      "Vtn1=1.;\n",
      "Vtn2=1.;\n",
      "Vtn3=1.;\n",
      "Vtn4=1.;\n",
      "V2=-5.;\n",
      "Vgs3=(math.sqrt(Kn4/Kn3)*(-V2-Vtn4)+Vtn3)/(1.+math.sqrt(Kn4/Kn3));\n",
      "print\"%s %.2f %s\"%('\\nVgs3= ',Vgs3,' V\\n')\n",
      "Iq=Kn3*(Vgs3-Vtn3)**2;\n",
      "print\"%s %.2f %s\"%('\\nbias current= ',Iq,' mA\\n')\n",
      "Vgs1=math.sqrt(Iq/Kn1)+Vtn1;\n",
      "print\"%s %.2f %s\"%('\\ngate to source voltage on M1= ',Vgs1,' V\\n')\n",
      "Vds2=-V2-Vgs1;\n",
      "print\"%s %.2f %s\"%('\\ndrain to source voltage on M2= ',Vds2,' V\\n')\n",
      "Vgs2=Vgs3;\n",
      "Vdssat=Vgs2-Vtn2\n",
      "##since Vds2>Vdssat M2 is biased in saturation region\n"
     ],
     "language": "python",
     "metadata": {},
     "outputs": [
      {
       "output_type": "stream",
       "stream": "stdout",
       "text": [
        "\n",
        "Vgs3=  2.50  V\n",
        "\n",
        "\n",
        "bias current=  0.23  mA\n",
        "\n",
        "\n",
        "gate to source voltage on M1=  2.06  V\n",
        "\n",
        "\n",
        "drain to source voltage on M2=  2.94  V\n",
        "\n"
       ]
      }
     ],
     "prompt_number": 16
    },
    {
     "cell_type": "heading",
     "level": 2,
     "metadata": {},
     "source": [
      "Ex14-pg284"
     ]
    },
    {
     "cell_type": "code",
     "collapsed": false,
     "input": [
      "import math\n",
      "\n",
      "##Example 5.14\n",
      "I_D=0.5;\n",
      "Vds=6.;\n",
      "Kn=80.*10**-6;\n",
      "Vgs=5.;\n",
      "Vtn=1.;\n",
      "##x=W/L\n",
      "x=I_D*2./(Kn*(Vgs-Vtn)**2);\n",
      "print(x,\"W/L \")\n",
      "##maximum power dissipation in transistor \n",
      "Pmax=Vds*I_D;\n",
      "print\"%s %.2f %s\"%('\\nmaximum power dissipation in transistor= ',Pmax,' W\\n')\n"
     ],
     "language": "python",
     "metadata": {},
     "outputs": [
      {
       "output_type": "stream",
       "stream": "stdout",
       "text": [
        "(781.2500000000001, 'W/L ')\n",
        "\n",
        "maximum power dissipation in transistor=  3.00  W\n",
        "\n"
       ]
      }
     ],
     "prompt_number": 17
    },
    {
     "cell_type": "heading",
     "level": 2,
     "metadata": {},
     "source": [
      "Ex16-pg293"
     ]
    },
    {
     "cell_type": "code",
     "collapsed": false,
     "input": [
      "import math\n",
      "import numpy  \n",
      "##Example 5.16\n",
      "Idss=2.;##(mA) saturation current\n",
      "Vp=-3.5;##(V) pinch off voltage\n",
      "Vgs=numpy.array([[0, Vp/4. ,Vp/2.]])\n",
      "I_D=Idss*(1.-Vgs/Vp)**2;\n",
      "print (I_D)\n",
      "Vds=Vgs-Vp;\n",
      "print (Vds)\n"
     ],
     "language": "python",
     "metadata": {},
     "outputs": [
      {
       "output_type": "stream",
       "stream": "stdout",
       "text": [
        "[[ 2.     1.125  0.5  ]]\n",
        "[[ 3.5    2.625  1.75 ]]\n"
       ]
      }
     ],
     "prompt_number": 18
    },
    {
     "cell_type": "heading",
     "level": 2,
     "metadata": {},
     "source": [
      "Ex17-pg295"
     ]
    },
    {
     "cell_type": "code",
     "collapsed": false,
     "input": [
      "import math\n",
      "\n",
      "##Example 5.17\n",
      "Idss=5.;##mA\n",
      "Vp=-4.;\n",
      "Vdd=10.;\n",
      "I_D=2.;\n",
      "Vds=6.;\n",
      "##I_D=Idss*(1-Vgs/Vp)^2\n",
      "Vgs=(1.-math.sqrt(I_D/Idss))*Vp;\n",
      "print\"%s %.2f %s\"%('\\nVgs= ',Vgs,' V\\n')\n",
      "Rs=-Vgs/I_D;\n",
      "print\"%s %.2f %s\"%('\\nRs= ',Rs,' KOhm\\n')\n",
      "Rd=(Vdd-Vds-I_D*Rs)/I_D;\n",
      "print\"%s %.2f %s\"%('\\nRd= ',Rd,' KOhm\\n')\n",
      "Vgs-Vp\n",
      "##since Vds>Vgs-Vp JFET is biased in saturation\n"
     ],
     "language": "python",
     "metadata": {},
     "outputs": [
      {
       "output_type": "stream",
       "stream": "stdout",
       "text": [
        "\n",
        "Vgs=  -1.47  V\n",
        "\n",
        "\n",
        "Rs=  0.74  KOhm\n",
        "\n",
        "\n",
        "Rd=  1.26  KOhm\n",
        "\n"
       ]
      },
      {
       "metadata": {},
       "output_type": "pyout",
       "prompt_number": 19,
       "text": [
        "2.5298221281347035"
       ]
      }
     ],
     "prompt_number": 19
    },
    {
     "cell_type": "heading",
     "level": 2,
     "metadata": {},
     "source": [
      "Ex19-pg298"
     ]
    },
    {
     "cell_type": "code",
     "collapsed": false,
     "input": [
      "import math\n",
      "\n",
      "##Example 5.19\n",
      "Idss=2.5;\n",
      "Vp=2.5;\n",
      "I_D=0.8;\n",
      "##I_D=Iq=0.8*10^-3=(Vd-(-9))/Rd\n",
      "Vd=0.8*4.-9;\n",
      "print\"%s %.2f %s\"%('\\nVd = ',Vd,'V\\n')\n",
      "##I_D=Idss*(1-Vgs/Vp)^2;\n",
      "Vgs=(1.-math.sqrt(I_D/Idss))*Vp;\n",
      "print\"%s %.2f %s\"%('\\nVgs = ',Vgs,'V\\n')\n",
      "Vs=1-Vgs;\n",
      "print\"%s %.2f %s\"%('\\nVs= ',Vs,' V\\n')\n",
      "Vsd=Vs-Vd;\n",
      "print\"%s %.2f %s\"%('\\nVsd= ',Vsd,' V\\n')\n",
      "Vp-Vgs\n",
      "##since Vsd>Vp-Vgs JFET is biased in saturation\n"
     ],
     "language": "python",
     "metadata": {},
     "outputs": [
      {
       "output_type": "stream",
       "stream": "stdout",
       "text": [
        "\n",
        "Vd =  -5.80 V\n",
        "\n",
        "\n",
        "Vgs =  1.09 V\n",
        "\n",
        "\n",
        "Vs=  -0.09  V\n",
        "\n",
        "\n",
        "Vsd=  5.71  V\n",
        "\n"
       ]
      },
      {
       "metadata": {},
       "output_type": "pyout",
       "prompt_number": 20,
       "text": [
        "1.414213562373095"
       ]
      }
     ],
     "prompt_number": 20
    },
    {
     "cell_type": "heading",
     "level": 2,
     "metadata": {},
     "source": [
      "Ex20-pg299"
     ]
    },
    {
     "cell_type": "code",
     "collapsed": false,
     "input": [
      "import math\n",
      "\n",
      "##Example 5.20\n",
      "Vtn=0.24;\n",
      "Kn=1.1;\n",
      "##x=R1+R2=50000\n",
      "x=50.;\n",
      "Vgs=0.5;\n",
      "Vds=2.5;\n",
      "Vdd=4.;\n",
      "Rd=6.7;\n",
      "I_D=Kn*(Vgs-Vtn)**2;\n",
      "print\"%s %.2f %s\"%('\\ndrain current= ',I_D,' mA\\n')\n",
      "Vd=Vdd-I_D*Rd;\n",
      "print\"%s %.2f %s\"%('\\nvoltage at drain= ',Vd,' V\\n')\n",
      "Vs=Vd-Vds;\n",
      "print\"%s %.2f %s\"%('\\nvoltage at source = ',Vs,'V\\n')\n",
      "Rs=Vs/I_D;\n",
      "print\"%s %.2f %s\"%('\\nsource resistance = ',Rs,'KOhm\\n')\n",
      "Vg=Vgs+Vs;\n",
      "print\"%s %.2f %s\"%('\\nvoltage at the gate= ',Vg,' V\\n')\n",
      "##Vg=R2*Vdd/(R2+R1)\n",
      "R2=Vg*x/Vdd;\n",
      "print\"%s %.2f %s\"%('\\nR2= ',R2,' KOhm\\n')\n",
      "R1=x-R2;\n",
      "print\"%s %.2f %s\"%('\\nR1= ',R1,' KOhm\\n')\n",
      "Vgs-Vtn\n",
      "##since Vds>Vgs-Vtn transistor is biased in saturation\n"
     ],
     "language": "python",
     "metadata": {},
     "outputs": [
      {
       "output_type": "stream",
       "stream": "stdout",
       "text": [
        "\n",
        "drain current=  0.07  mA\n",
        "\n",
        "\n",
        "voltage at drain=  3.50  V\n",
        "\n",
        "\n",
        "voltage at source =  1.00 V\n",
        "\n",
        "\n",
        "source resistance =  13.47 KOhm\n",
        "\n",
        "\n",
        "voltage at the gate=  1.50  V\n",
        "\n",
        "\n",
        "R2=  18.77  KOhm\n",
        "\n",
        "\n",
        "R1=  31.23  KOhm\n",
        "\n"
       ]
      },
      {
       "metadata": {},
       "output_type": "pyout",
       "prompt_number": 21,
       "text": [
        "0.26"
       ]
      }
     ],
     "prompt_number": 21
    }
   ],
   "metadata": {}
  }
 ]
}