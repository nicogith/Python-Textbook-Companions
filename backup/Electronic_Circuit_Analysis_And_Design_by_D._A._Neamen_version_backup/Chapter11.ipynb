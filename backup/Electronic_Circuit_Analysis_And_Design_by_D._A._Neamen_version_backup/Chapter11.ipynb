{
 "metadata": {
  "name": "",
  "signature": "sha256:53c7431959a86fc1b01c39e3e1caf278b8c9abc2f1a0ad61d8cabdf9799d6026"
 },
 "nbformat": 3,
 "nbformat_minor": 0,
 "worksheets": [
  {
   "cells": [
    {
     "cell_type": "heading",
     "level": 1,
     "metadata": {},
     "source": [
      "Chapter11-Differential and Multistage Amplifier"
     ]
    },
    {
     "cell_type": "heading",
     "level": 2,
     "metadata": {},
     "source": [
      "Ex1-pg642"
     ]
    },
    {
     "cell_type": "code",
     "collapsed": false,
     "input": [
      "import math\n",
      "\n",
      "##Example 11.1\n",
      "V1=10.;\n",
      "V2=-10.;\n",
      "Iq=1.;\n",
      "Rc=10.;\n",
      "Vbe=0.7;\n",
      "iC1=Iq/2.;\n",
      "iC2=iC1;\n",
      "print\"%s %.2f %s\"%('\\ncollector currents = ',iC1,'mA\\n')\n",
      "Vc1=V1-iC1*Rc;\n",
      "Vc2=Vc1;\n",
      "print\"%s %.2f %s\"%('\\ncollector voltages = ',Vc1,'V\\n')\n",
      "Vcm=0.;\n",
      "Ve=Vcm-Vbe;\n",
      "Vce1=Vc1-Ve;\n",
      "print\"%s %.2f %s\"%('\\ncollector emitter voltage= ',Vce1,' V\\n')\n",
      "Vcm=-5.;\n",
      "Ve=Vcm-Vbe;\n",
      "Vce1=Vc1-Ve;\n",
      "print\"%s %.2f %s\"%('\\ncollector emitter voltage = ',Vce1,'V\\n')\n",
      "Vcm=5.;\n",
      "Ve=Vcm-Vbe;\n",
      "Vce1=Vc1-Ve;\n",
      "print\"%s %.2f %s\"%('\\ncollector emitter voltage= ',Vce1,' V\\n')\n"
     ],
     "language": "python",
     "metadata": {},
     "outputs": [
      {
       "output_type": "stream",
       "stream": "stdout",
       "text": [
        "\n",
        "collector currents =  0.50 mA\n",
        "\n",
        "\n",
        "collector voltages =  5.00 V\n",
        "\n",
        "\n",
        "collector emitter voltage=  5.70  V\n",
        "\n",
        "\n",
        "collector emitter voltage =  10.70 V\n",
        "\n",
        "\n",
        "collector emitter voltage=  0.70  V\n",
        "\n"
       ]
      }
     ],
     "prompt_number": 1
    },
    {
     "cell_type": "heading",
     "level": 2,
     "metadata": {},
     "source": [
      "Ex3-pg650"
     ]
    },
    {
     "cell_type": "code",
     "collapsed": false,
     "input": [
      "import math\n",
      "\n",
      "##Example 11.3\n",
      "V1=10.;\n",
      "V2=-10.;\n",
      "Iq=0.8*10**-3;\n",
      "Rc=12000.;\n",
      "Ro=25000.;\n",
      "b=100.;\n",
      "Vt=0.026;\n",
      "Ad=Iq*Rc/(4.*Vt);\n",
      "print\"%s %.2f %s\"%('\\ndifferential gain=\\n',Ad,'')\n",
      "Acm=-(Iq*Rc/(2.*Vt))/(1.+(1.+b)*Iq*Ro/(Vt*b));\n",
      "print\"%s %.2f %s\"%('\\ncommon mode gain=\\n',Acm,'')\n"
     ],
     "language": "python",
     "metadata": {},
     "outputs": [
      {
       "output_type": "stream",
       "stream": "stdout",
       "text": [
        "\n",
        "differential gain=\n",
        " 92.31 \n",
        "\n",
        "common mode gain=\n",
        " -0.24 \n"
       ]
      }
     ],
     "prompt_number": 2
    },
    {
     "cell_type": "heading",
     "level": 2,
     "metadata": {},
     "source": [
      "Ex7-pg657"
     ]
    },
    {
     "cell_type": "code",
     "collapsed": false,
     "input": [
      "import math\n",
      "\n",
      "##Example 11.7\n",
      "Ad=92.3;\n",
      "Acm=0.237;##mod of Acm\n",
      "CMRR=Ad/Acm;\n",
      "print\"%s %.2f %s\"%('\\ncommon mode rejection ratio=\\n',CMRR,'')\n",
      "CMRRdB=20.*math.log10(CMRR);\n",
      "print\"%s %.2f %s\"%('\\nCMRR in decibels= ',CMRRdB,' dB\\n')\n"
     ],
     "language": "python",
     "metadata": {},
     "outputs": [
      {
       "output_type": "stream",
       "stream": "stdout",
       "text": [
        "\n",
        "common mode rejection ratio=\n",
        " 389.45 \n",
        "\n",
        "CMRR in decibels=  51.81  dB\n",
        "\n"
       ]
      }
     ],
     "prompt_number": 3
    },
    {
     "cell_type": "heading",
     "level": 2,
     "metadata": {},
     "source": [
      "Ex8-pg658"
     ]
    },
    {
     "cell_type": "code",
     "collapsed": false,
     "input": [
      "import math\n",
      "\n",
      "##Example 11.8\n",
      "CMRRdB=90.;##dB\n",
      "CMRR=3.16*10**4;\n",
      "b=100.;\n",
      "Vt=0.026;\n",
      "Iq=0.8;\n",
      "Ro=(2.*CMRR-1.)*Vt*b/((1.+b)*Iq);\n",
      "Ro=Ro*10**-3;##Mohm\n",
      "print round(Ro,2)\n"
     ],
     "language": "python",
     "metadata": {},
     "outputs": [
      {
       "output_type": "stream",
       "stream": "stdout",
       "text": [
        "2.03\n"
       ]
      }
     ],
     "prompt_number": 4
    },
    {
     "cell_type": "heading",
     "level": 2,
     "metadata": {},
     "source": [
      "Ex9-pg661"
     ]
    },
    {
     "cell_type": "code",
     "collapsed": false,
     "input": [
      "import math\n",
      "\n",
      "##Example 11.9\n",
      "b=100.;\n",
      "Vbe=0.7;\n",
      "Va=100.;\n",
      "Vt=0.026;\n",
      "Iref=0.5;\n",
      "Iq=Iref;\n",
      "I1=Iq/2.\n",
      "Icq=I1;\n",
      "r=b*Vt/Icq;\n",
      "print\"%s %.2f %s\"%('\\nsmall signal parameter= ',r,' KOhm\\n')\n",
      "ro=Va/Icq;\n",
      "print\"%s %.2f %s\"%('\\nro= ',ro,' KOhm\\n')\n",
      "Ro=Va/Iq;\n",
      "print\"%s %.2f %s\"%('\\noutput resistance of Q4= ',Ro,' KOhm\\n')\n",
      "Rid=2.*r;\n",
      "print\"%s %.2f %s\"%('\\ndifferential mode input resistance = ',Rid,'KOhm\\n')\n",
      "Ricm=(1.+b)*(Ro*ro/2.)/(Ro+ro/2.);\n",
      "Ricm=Ricm*0.001;##Mohm\n",
      "print\"%s %.2f %s\"%('\\ncommon mode input resistance= ',Ricm,' MOhm\\n')\n"
     ],
     "language": "python",
     "metadata": {},
     "outputs": [
      {
       "output_type": "stream",
       "stream": "stdout",
       "text": [
        "\n",
        "small signal parameter=  10.40  KOhm\n",
        "\n",
        "\n",
        "ro=  400.00  KOhm\n",
        "\n",
        "\n",
        "output resistance of Q4=  200.00  KOhm\n",
        "\n",
        "\n",
        "differential mode input resistance =  20.80 KOhm\n",
        "\n",
        "\n",
        "common mode input resistance=  10.10  MOhm\n",
        "\n"
       ]
      }
     ],
     "prompt_number": 5
    },
    {
     "cell_type": "heading",
     "level": 2,
     "metadata": {},
     "source": [
      "Ex10-pg664"
     ]
    },
    {
     "cell_type": "code",
     "collapsed": false,
     "input": [
      "import math\n",
      "\n",
      "##Example 11.10\n",
      "Kn1=0.1;\n",
      "Kn2=Kn1;\n",
      "Kn3=0.1;\n",
      "Kn4=Kn3;\n",
      "R1=30.;\n",
      "Vtn=1.;\n",
      "Rd=16.;\n",
      "##I1=(20-Vgs4)/R1 and I1=Kn3*(Vgs4-Vtn)^2\n",
      "Vgs4=poly(0,'Vgs4')\n",
      "p=poly([-1 -17 9],'Vgs4','c')\n",
      "print\"%s %.2f %s\"%('\\nroots= ',roots(p),'V\\n')\n",
      "Vgs4=2.40;\n",
      "I1=(20.-Vgs4)/R1;\n",
      "print\"%s %.2f %s\"%('\\nI1= ',I1,' mA\\n')\n",
      "Iq=I1;\n",
      "Id1=Iq/2.;\n",
      "print\"%s %.2f %s\"%('\\nId1 and Id2 = ',Id1, 'mA\\n')\n",
      "Vgs1=math.sqrt(Id1/Kn1)+Vtn;\n",
      "print\"%s %.2f %s\"%('\\nVgs1 and Vgs2 = ',Vgs1,'V\\n')\n",
      "vo1=10.-Id1*Rd;\n",
      "print\"%s %.2f %s\"%('\\nvo1 and vo2= ',vo1,' V\\n')\n",
      "Vds1=Vgs1-Vtn;\n",
      "print\"%s %.2f %s\"%('\\nVds1=Vds2=Vds1(sat)= ',Vds1,' V\\n')\n",
      "Vcm=vo1-Vds1+Vgs1;\n",
      "print\"%s %.2f %s\"%('\\nVcm max= ',Vcm,' V\\n')\n",
      "Vds4=Vgs4-Vtn;\n",
      "print\"%s %.2f %s\"%('\\nVds4= ',Vds4,' V\\n')\n",
      "Vcm2=Vgs1+Vds4-10.;\n",
      "print\"%s %.2f %s\"%('\\nVcm min= ',Vcm2,'V\\n')\n"
     ],
     "language": "python",
     "metadata": {},
     "outputs": [
      {
       "ename": "SyntaxError",
       "evalue": "invalid syntax (<ipython-input-6-8a87abc6284c>, line 13)",
       "output_type": "pyerr",
       "traceback": [
        "\u001b[1;36m  File \u001b[1;32m\"<ipython-input-6-8a87abc6284c>\"\u001b[1;36m, line \u001b[1;32m13\u001b[0m\n\u001b[1;33m    p=poly([-1 -17 9],'Vgs4','c')\u001b[0m\n\u001b[1;37m                   ^\u001b[0m\n\u001b[1;31mSyntaxError\u001b[0m\u001b[1;31m:\u001b[0m invalid syntax\n"
       ]
      }
     ],
     "prompt_number": 6
    },
    {
     "cell_type": "heading",
     "level": 2,
     "metadata": {},
     "source": [
      "Ex11-pg668"
     ]
    },
    {
     "cell_type": "code",
     "collapsed": false,
     "input": [
      "import math\n",
      "\n",
      "##Example 11.11\n",
      "Kn=0.5;\n",
      "Iq=1.;\n",
      "Vt=0.026;\n",
      "##transconductance of the MOSFET\n",
      "gm=2.*math.sqrt(Kn*Iq/2);\n",
      "print\"%s %.2f %s\"%('\\ntransconductance= ',gm,' mA/V\\n')\n",
      "##transconductance of the bipolar transistor \n",
      "gm=Iq/(2.*Vt);\n",
      "print\"%s %.2f %s\"%('\\ntransconductance= ',gm,' mA/V\\n')\n"
     ],
     "language": "python",
     "metadata": {},
     "outputs": [
      {
       "output_type": "stream",
       "stream": "stdout",
       "text": [
        "\n",
        "transconductance=  1.00  mA/V\n",
        "\n",
        "\n",
        "transconductance=  19.23  mA/V\n",
        "\n"
       ]
      }
     ],
     "prompt_number": 7
    },
    {
     "cell_type": "heading",
     "level": 2,
     "metadata": {},
     "source": [
      "Ex12-pg670"
     ]
    },
    {
     "cell_type": "code",
     "collapsed": false,
     "input": [
      "import math\n",
      "\n",
      "##Example 11.12\n",
      "Iq=0.587;\n",
      "Kn=1.;\n",
      "Rd=16.;\n",
      "##lambda=y\n",
      "y=0.01;\n",
      "Ro=1./(y*Iq);\n",
      "print\"%s %.2f %s\"%('\\noutput resistance = ',Ro,'KOhm\\n')\n",
      "Ad=math.sqrt(Kn*Iq/2.)*Rd;\n",
      "print\"%s %.2f %s\"%('\\ndifferential mode voltage gain= \\n',Ad,'')\n",
      "Acm=-math.sqrt(2.*Kn*Iq)*Rd/(1.+2.*math.sqrt(2.*Kn*Iq)*Ro);\n",
      "print\"%s %.2f %s\"%('\\ncommon mode voltage gain=\\n',Acm,'')\n",
      "CMRR=20.*math.log10(-Ad/Acm);\n",
      "print\"%s %.2f %s\"%('\\ncommon mode rejection ratio= ',CMRR,' dB\\n')\n"
     ],
     "language": "python",
     "metadata": {},
     "outputs": [
      {
       "output_type": "stream",
       "stream": "stdout",
       "text": [
        "\n",
        "output resistance =  170.36 KOhm\n",
        "\n",
        "\n",
        "differential mode voltage gain= \n",
        " 8.67 \n",
        "\n",
        "common mode voltage gain=\n",
        " -0.05 \n",
        "\n",
        "common mode rejection ratio=  45.35  dB\n",
        "\n"
       ]
      }
     ],
     "prompt_number": 8
    },
    {
     "cell_type": "heading",
     "level": 2,
     "metadata": {},
     "source": [
      "Ex13-pg678"
     ]
    },
    {
     "cell_type": "code",
     "collapsed": false,
     "input": [
      "import math\n",
      "\n",
      "##Example 11.13\n",
      "Iq=0.2;\n",
      "Va=100.;\n",
      "Va2=Va;\n",
      "Va4=Va;\n",
      "Rl=100.;\n",
      "Vt=0.026;\n",
      "Ad=(1./Vt)/(1./Va2+1./Va4);\n",
      "print\"%s %.2f %s\"%('\\nopen circuit voltage gain=\\n',Ad,'')\n",
      "Ad=(Iq/(2.*Vt))/(Iq/(2.*Va2)+Iq/(2.*Va4)+1./Rl);\n",
      "print\"%s %.2f %s\"%('\\nvoltage gain=\\n',Ad,'')\n"
     ],
     "language": "python",
     "metadata": {},
     "outputs": [
      {
       "output_type": "stream",
       "stream": "stdout",
       "text": [
        "\n",
        "open circuit voltage gain=\n",
        " 1923.08 \n",
        "\n",
        "voltage gain=\n",
        " 320.51 \n"
       ]
      }
     ],
     "prompt_number": 9
    },
    {
     "cell_type": "heading",
     "level": 2,
     "metadata": {},
     "source": [
      "Ex15-pg684"
     ]
    },
    {
     "cell_type": "code",
     "collapsed": false,
     "input": [
      "import math\n",
      "\n",
      "##Example 11.15\n",
      "Kn=0.2;\n",
      "Idq=0.1;\n",
      "ro4=1000.;##Kohm\n",
      "ro6=1000.;##KOhm\n",
      "ro2=ro4;\n",
      "##lambda=y\n",
      "y=0.01;\n",
      "gm=2.*math.sqrt(Kn*Idq);\n",
      "print\"%s %.2f %s\"%('\\ntransconductance= ',gm,' mA/V\\n')\n",
      "ro=1./(y*Idq);\n",
      "print\"%s %.2f %s\"%('\\noutput resistance= ',ro,' KOhm\\n')\n",
      "Ro=ro4+ro6*(1.+gm*ro);\n",
      "Ro=Ro*0.001;##Mohm\n",
      "print\"%s %.2f %s\"%('\\noutput resistance of the cascode active load= ',Ro,'Mohm\\n')\n",
      "Ro=Ro*1000.;##KOhm\n",
      "Ad=gm*ro2*Ro/(ro4+Ro);\n",
      "print\"%s %.2f %s\"%('\\ndifferential mode voltage gain=\\n',Ad,'')\n"
     ],
     "language": "python",
     "metadata": {},
     "outputs": [
      {
       "output_type": "stream",
       "stream": "stdout",
       "text": [
        "\n",
        "transconductance=  0.28  mA/V\n",
        "\n",
        "\n",
        "output resistance=  1000.00  KOhm\n",
        "\n",
        "\n",
        "output resistance of the cascode active load=  284.84 Mohm\n",
        "\n",
        "\n",
        "differential mode voltage gain=\n",
        " 281.85 \n"
       ]
      }
     ],
     "prompt_number": 10
    },
    {
     "cell_type": "heading",
     "level": 2,
     "metadata": {},
     "source": [
      "Ex16-pg693"
     ]
    },
    {
     "cell_type": "code",
     "collapsed": false,
     "input": [
      "import math\n",
      "\n",
      "##Example 11.16\n",
      "Iq=0.2;\n",
      "Ic1=Iq;\n",
      "Icb=1.;\n",
      "R4=10.;\n",
      "R3=0.2;\n",
      "b=100.;\n",
      "Va=100.;\n",
      "Vt=0.026;\n",
      "Ri=2.*(1.+b)*b*Vt/Iq;\n",
      "Ri=Ri*0.001;##MOhm\n",
      "print\"%s %.2f %s\"%('\\ninput resistance= ',Ri,' MOhm\\n')\n",
      "R11=b*Vt/Iq;\n",
      "print\"%s %.2f %s\"%('\\nresistance R11= ',R11,' KOhm\\n')\n",
      "Re=R11*R3/(R11+R3);\n",
      "print\"%s %.2f %s\"%('\\nRe= ',Re,' KOhm\\n')\n",
      "gm11=Iq/Vt;\n",
      "print\"%s %.2f %s\"%('\\ngm11= ',gm11,' mA/V\\n')\n",
      "ro11=Va/Iq;\n",
      "print\"%s %.2f %s\"%('\\nro11 = ',ro11,'KOhm\\n')\n",
      "Rc11=ro11*(1+gm11*Re);\n",
      "Rc11=Rc11*0.001;##MOhm\n",
      "print\"%s %.2f %s\"%('\\nRc11= ',Rc11,' MOhm\\n')\n",
      "r8=b*Vt/Icb;\n",
      "print\"%s %.2f %s\"%('\\nresistance= ',r8,'KOhm\\n')\n",
      "##answer of following given in the book is wrong\n",
      "Rb8=r8+(1.+b)*R4;\n",
      "Rb8=Rb8*0.001;##MOhm\n",
      "print\"%s %.2f %s\"%('\\nRb8 = ',Rb8,'MOhm\\n')\n",
      "Rl7=Rc11*Rb8/(Rc11+Rb8);\n",
      "print\"%s %.2f %s\"%('\\nRl7= ',Rl7,' MOhm\\n')\n",
      "Av=Iq*Rl7/(2.*Vt);\n",
      "print\"%s %.2f %s\"%('\\nsmall signal voltage gain=\\n',Av,'')\n"
     ],
     "language": "python",
     "metadata": {},
     "outputs": [
      {
       "output_type": "stream",
       "stream": "stdout",
       "text": [
        "\n",
        "input resistance=  2.63  MOhm\n",
        "\n",
        "\n",
        "resistance R11=  13.00  KOhm\n",
        "\n",
        "\n",
        "Re=  0.20  KOhm\n",
        "\n",
        "\n",
        "gm11=  7.69  mA/V\n",
        "\n",
        "\n",
        "ro11 =  500.00 KOhm\n",
        "\n",
        "\n",
        "Rc11=  1.26  MOhm\n",
        "\n",
        "\n",
        "resistance=  2.60 KOhm\n",
        "\n",
        "\n",
        "Rb8 =  1.01 MOhm\n",
        "\n",
        "\n",
        "Rl7=  0.56  MOhm\n",
        "\n",
        "\n",
        "small signal voltage gain=\n",
        " 2.16 \n"
       ]
      }
     ],
     "prompt_number": 11
    },
    {
     "cell_type": "heading",
     "level": 2,
     "metadata": {},
     "source": [
      "Ex17-pg694"
     ]
    },
    {
     "cell_type": "code",
     "collapsed": false,
     "input": [
      "import math\n",
      "\n",
      "##Example 11.17\n",
      "Va=100.;\n",
      "R4=10.;\n",
      "b=100.;\n",
      "Rc11=1.26*10**3;\n",
      "r8=2.6;\n",
      "Iq=0.2;\n",
      "Rc7=Va/Iq;\n",
      "print\"%s %.2f %s\"%('\\nRc7= ',Rc7,' KOhm\\n')\n",
      "Z=Rc11*Rc7/(Rc11+Rc7);\n",
      "print\"%s %.2f %s\"%('\\nZ= ',Z,' KOhm\\n')\n",
      "x=(r8+Z)/(1.+b);\n",
      "Ro=R4*x/(R4+x);\n",
      "print\"%s %.2f %s\"%('\\noutput resistance= ',Ro,' KOhm\\n')\n"
     ],
     "language": "python",
     "metadata": {},
     "outputs": [
      {
       "output_type": "stream",
       "stream": "stdout",
       "text": [
        "\n",
        "Rc7=  500.00  KOhm\n",
        "\n",
        "\n",
        "Z=  357.95  KOhm\n",
        "\n",
        "\n",
        "output resistance=  2.63  KOhm\n",
        "\n"
       ]
      }
     ],
     "prompt_number": 12
    },
    {
     "cell_type": "heading",
     "level": 2,
     "metadata": {},
     "source": [
      "Ex19-pg697"
     ]
    },
    {
     "cell_type": "code",
     "collapsed": false,
     "input": [
      "import math\n",
      "\n",
      "##Example 11.19\n",
      "b=100.;\n",
      "Vt=0.026;\n",
      "Rc=20.;\n",
      "Ir4=0.4;\n",
      "Iq=Ir4;\n",
      "Ir6=Ir4;\n",
      "r4=b*Vt/Ir4;\n",
      "print\"%s %.2f %s\"%('\\nr4= ',r4,' KOhm\\n')\n",
      "r3=b**2*Vt/Ir4;\n",
      "print\"%s %.2f %s\"%('\\nr3= ',r3,' KOhm\\n')\n",
      "Ri2=r3+(1.+b)*r4;\n",
      "print\"%s %.2f %s\"%('\\ninput resistance= ',Ri2,' KOhm\\n')\n",
      "gm=Iq/(2.*Vt);\n",
      "print\"%s %.2f %s\"%('\\ntransconductance= ',gm,' mA/V\\n')\n",
      "Ad1=gm*Rc*Ri2/(2.*(Rc+Ri2));\n",
      "print\"%s %.2f %s\"%('\\ngain of differential amplifier stage=\\n',Ad1,'')\n",
      "r5=b*Vt/Ir6;\n",
      "print\"%s %.2f %s\"%('\\nr5 = ',r5,'KOhm\\n')\n",
      "Ir7=2.;\n",
      "r6=b*Vt/Ir7;\n",
      "print\"%s %.2f %s\"%('\\nr6= ',r6,' KOhm\\n')\n",
      "R6=16.5;\n",
      "R7=5.;\n",
      "Ri3=r5+(1.+b)*(R6+r6+(1.+b)*R7);\n",
      "Ri3=Ri3*0.001;##MOhm\n",
      "print\"%s %.2f %s\"%('\\nRi3= ',Ri3,' MOhm\\n')\n",
      "Rs=5.;\n",
      "A2=Ir4*Rs/(2.*Vt);\n",
      "print\"%s %.2f %s\"%('\\nvoltage gain A2=\\n',A2,'')\n",
      "A3=1.;##vo/vo3\n",
      "Ad=Ad1*A2*A3;\n",
      "print\"%s %.2f %s\"%('\\nsmall signal voltage gain=\\n',Ad,'')\n"
     ],
     "language": "python",
     "metadata": {},
     "outputs": [
      {
       "output_type": "stream",
       "stream": "stdout",
       "text": [
        "\n",
        "r4=  6.50  KOhm\n",
        "\n",
        "\n",
        "r3=  650.00  KOhm\n",
        "\n",
        "\n",
        "input resistance=  1306.50  KOhm\n",
        "\n",
        "\n",
        "transconductance=  7.69  mA/V\n",
        "\n",
        "\n",
        "gain of differential amplifier stage=\n",
        " 75.76 \n",
        "\n",
        "r5 =  6.50 KOhm\n",
        "\n",
        "\n",
        "r6=  1.30  KOhm\n",
        "\n",
        "\n",
        "Ri3=  52.81  MOhm\n",
        "\n",
        "\n",
        "voltage gain A2=\n",
        " 38.46 \n",
        "\n",
        "small signal voltage gain=\n",
        " 2913.97 \n"
       ]
      }
     ],
     "prompt_number": 13
    },
    {
     "cell_type": "heading",
     "level": 2,
     "metadata": {},
     "source": [
      "Ex20-pg702"
     ]
    },
    {
     "cell_type": "code",
     "collapsed": false,
     "input": [
      "import math\n",
      "\n",
      "##Example 11.20\n",
      "Ro=10000000.;\n",
      "Co=1.*10**-12;\n",
      "Rb=500.;\n",
      "r=10000.;\n",
      "b=100.;\n",
      "f=1./(2.*math.pi*Ro*Co);\n",
      "f=f*0.001;##KHz\n",
      "print\"%s %.2f %s\"%('\\nfrequency of the zero= ',f,' KHz\\n')\n",
      "Req=Ro*(1.+Rb/r)/(1.+Rb/r+2.*(1.+b)*Ro/r);\n",
      "print\"%s %.2f %s\"%('\\nReq= ',Req,' Ohm\\n')\n",
      "f=1/(2.*math.pi*Req*Co);\n",
      "f=f*10**-9;##GHz\n",
      "print\"%s %.2f %s\"%('\\nfrequency of the pole= ',f,' GHz\\n')\n"
     ],
     "language": "python",
     "metadata": {},
     "outputs": [
      {
       "output_type": "stream",
       "stream": "stdout",
       "text": [
        "\n",
        "frequency of the zero=  15.92  KHz\n",
        "\n",
        "\n",
        "Req=  51.98  Ohm\n",
        "\n",
        "\n",
        "frequency of the pole=  3.06  GHz\n",
        "\n"
       ]
      }
     ],
     "prompt_number": 14
    }
   ],
   "metadata": {}
  }
 ]
}