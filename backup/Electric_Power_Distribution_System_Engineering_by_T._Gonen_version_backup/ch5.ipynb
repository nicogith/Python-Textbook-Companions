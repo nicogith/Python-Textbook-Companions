{
 "metadata": {
  "name": "",
  "signature": "sha256:a0679924550ddc56033a5dff0575bafbb69eae69c0974aecc0a708cdad425441"
 },
 "nbformat": 3,
 "nbformat_minor": 0,
 "worksheets": [
  {
   "cells": [
    {
     "cell_type": "heading",
     "level": 1,
     "metadata": {},
     "source": [
      "Chapter 5 : Design Considerations of Primary Systems"
     ]
    },
    {
     "cell_type": "heading",
     "level": 2,
     "metadata": {},
     "source": [
      "Example 5.1  Page No : 254"
     ]
    },
    {
     "cell_type": "code",
     "collapsed": false,
     "input": [
      "import math \n",
      "from numpy import exp,sqrt\n",
      "\n",
      "# Variables\n",
      "Z = 0.1+(0.1*1j);         #Feeder Impedance per unit\n",
      "R = Z.real;         #Resismath.tance\n",
      "X = Z.imag;         #Reacmath.tance\n",
      "Vs = 1.;         #Sending End Voltage\n",
      "Pr = 1.;         #Consmath.tant Power Load\n",
      "pfr = 0.8;         #Power Factor at recieving end\n",
      "tr = math.acos(pfr);         #Power FActor angle\n",
      "\n",
      "# Calculations\n",
      "def angle(y): \n",
      "    return math.degrees(math.atan(y.imag/y.real))\n",
      "\n",
      "K = (Vs**2)-(2*Pr*(R+(X*(math.atan(tr)))));\n",
      "\n",
      "Vr = math.sqrt((K/2)*(1+math.sqrt(1-((2*abs(Z)*Pr/(K*pfr))**2))));         #Recieving End Voltage\n",
      "C = Pr*(X-(R*math.degrees(math.atan(tr))))/((Vr**2)+(Pr*(R+(X*math.degrees(math.atan(tr))))));\n",
      "\n",
      "del1 = math.degrees(math.atan(C));\n",
      "\n",
      "Ir = (Pr/(abs(Vr)*pfr))*exp(-1*math.pi*1j*tr/180)         #Recieving End Current\n",
      "Is = Ir;         #Sending End Current\n",
      "Tir = angle(Ir);\n",
      "\n",
      "Vr1 = Vs-(Z*Ir);\n",
      "\n",
      "# Results\n",
      "print 'a) Vr is %g/_%g pu, del is %g degrees, Ir  =  Is  =  %g/_%g pu'%(abs(Vr),angle(Vr),del1,abs(Ir),Tir)\n",
      "print 'b) Vr is %g/_%g pu, which is almost equal to the previous case.'%(Vr1,angle(Vr1))\n"
     ],
     "language": "python",
     "metadata": {},
     "outputs": [
      {
       "output_type": "stream",
       "stream": "stdout",
       "text": [
        "a) Vr is 0.79784/_0 pu, del is -38.3625 degrees, Ir  =  Is  =  1.56673/_-0.643501 pu\n",
        "b) Vr is 0.841577/_-10.4293 pu, which is almost equal to the previous case.\n"
       ]
      },
      {
       "output_type": "stream",
       "stream": "stderr",
       "text": [
        "-c:32: ComplexWarning: Casting complex values to real discards the imaginary part\n"
       ]
      }
     ],
     "prompt_number": 5
    },
    {
     "cell_type": "heading",
     "level": 2,
     "metadata": {},
     "source": [
      "Example 5.2  Page No : 259"
     ]
    },
    {
     "cell_type": "code",
     "collapsed": false,
     "input": [
      "import math \n",
      "\n",
      "# Variables\n",
      "Sl = 518.;         #Total Load on Lateral\n",
      "Sm = 1036.;         #Total Load on Main\n",
      "Vll = 4.16;         #Line to Line voltage\n",
      "\n",
      "# Calculations\n",
      "#Currents in the respective current\n",
      "Ilateral = Sl/(math.sqrt(3)*Vll);\n",
      "Imain = Sm/(math.sqrt(3)*Vll);\n",
      "\n",
      "C = 5280.;         #Length Consmath.tant\n",
      "Ll = 5760./C;         #Lateral Length\n",
      "Lm = 3300./C;         #Main Length\n",
      "\n",
      "#Consmath.tant for the cables\n",
      "Kl = 0.015;\n",
      "Km = 0.01;\n",
      "\n",
      "#Voltage Drop Percents for 3 phase\n",
      "VDlateral3 = Ll*Kl*Sl/2;\n",
      "VDmain3 = Lm*Km*Sm;\n",
      "TVD3 = VDmain3+VDlateral3;\n",
      "#Voltage Drop Percents for 1 phase according to Morrisoncfor laterals\n",
      "VDlateral1 = VDlateral3*4;\n",
      "VDmain1 = VDmain3;\n",
      "TVD1 = VDlateral1+VDmain1;\n",
      "\n",
      "\n",
      "#CASE B\n",
      "#To meet the maximum primary voltage drop criterion of 4.00 percent\n",
      "#Conductors with ampacities of 480A and 270A for Main and laterals\n",
      "\n",
      "#Consmath.tants from the table\n",
      "Klb = 0.006;\n",
      "Kmb = 0.003;\n",
      "\n",
      "#Voltage Drop Percents\n",
      "VDlateralb = Ll*Klb*Sl/2;\n",
      "VDmainb = Lm*Kmb*Sm;\n",
      "TVDb = VDmainb+VDlateralb;\n",
      "\n",
      "# Results\n",
      "print 'a The percent voltage drops at :'\n",
      "print 'i 3Phase'\n",
      "print 'Lateral End is %g percent'%(VDlateral3)\n",
      "print 'Main End is %g percent'%(VDmain3)\n",
      "print 'ii 1Phase'\n",
      "print 'Lateral End is %g percent'%(VDlateral1)\n",
      "print 'Main End is %g percent'%(VDmain1)\n",
      "print 'b) Conductors with Ampacities of 480A and 270A are used to find the Percent voltage drop of the \\\n",
      "Main and Lateral as %g percent and %g percent respectively'%(VDmainb,VDlateralb)\n",
      "print 'The Above Drops meet the required criterion of 4 percent voltage drop'\n"
     ],
     "language": "python",
     "metadata": {},
     "outputs": [
      {
       "output_type": "stream",
       "stream": "stdout",
       "text": [
        "a The percent voltage drops at :\n",
        "i 3Phase\n",
        "Lateral End is 4.23818 percent\n",
        "Main End is 6.475 percent\n",
        "ii 1Phase\n",
        "Lateral End is 16.9527 percent\n",
        "Main End is 6.475 percent\n",
        "b) Conductors with Ampacities of 480A and 270A are used to find the Percent voltage drop of the Main and Lateral as 1.9425 percent and 1.69527 percent respectively\n",
        "The Above Drops meet the required criterion of 4 percent voltage drop\n"
       ]
      }
     ],
     "prompt_number": 6
    },
    {
     "cell_type": "heading",
     "level": 2,
     "metadata": {},
     "source": [
      "Example 5.3  Page No : 263"
     ]
    },
    {
     "cell_type": "code",
     "collapsed": false,
     "input": [
      "import math \n",
      "\n",
      "# Variables\n",
      "#Terms taken from Example two\n",
      "Il = 72.; \n",
      "Im = 144.; \n",
      "C = 5280.;         #Length Consmath.tant\n",
      "Ll = 5760./C;         #Lateral Length\n",
      "Lm = 3300./C;         #Main Length\n",
      "\n",
      "#From Tables\n",
      "#Lateral\n",
      "rl = 4.13;         #Resismath.tance per mile\n",
      "xLl = 0.258;         #Reacmath.tance per mile\n",
      "#Main\n",
      "rm = 1.29;         #Resismath.tance per mile\n",
      "xLm = 0.211;        #Reacmath.tance per mile\n",
      "pf = 0.9;         #Power Factor\n",
      "\n",
      "Vb = 2400.;         #Base Voltage\n",
      "\n",
      "# Calculations\n",
      "#Voltage Drops\n",
      "VDlateral = Il*((rl*pf)+(xLl*math.sin(math.radians(math.acos(pf)))))*Ll/2; \n",
      "VDmain = Im*((rm*pf)+(xLm*math.sin(math.radians(math.acos(pf)))))*Lm;\n",
      "\n",
      "#Percent Voltage Drop\n",
      "perVDlateral = VDlateral*100/Vb;\n",
      "perVDmain = VDmain*100/Vb;\n",
      "\n",
      "TVD = perVDlateral+perVDmain;         #Total Percent Voltage drop\n",
      "\n",
      "#Case B\n",
      "#Conductors With Ampacities of 268A and 174A for Main and Laterals\n",
      "#From Tables\n",
      "#Lateral\n",
      "rlb = 1.03;         #Resismath.tance per mile\n",
      "xLlb = 0.207;         #Reacmath.tance per mile\n",
      "#Main\n",
      "rmb = 0.518;         #Resismath.tance per mile\n",
      "xLmb = 0.191;        #Reacmath.tance per mile\n",
      "\n",
      "Vb = 2400;         #Base Voltage\n",
      "#Voltage Drops\n",
      "VDlateralb = Il*((rlb*pf)+(xLlb*math.sin(math.radians(math.acos(pf)))))*Ll/2; \n",
      "VDmainb = Im*((rmb*pf)+(xLmb*math.sin(math.radians(math.acos(pf)))))*Lm;\n",
      "\n",
      "#Percent Voltage Drop\n",
      "perVDlateralb = VDlateralb*100/Vb;\n",
      "perVDmainb = VDmainb*100/Vb;\n",
      "\n",
      "TVDb = perVDlateralb+perVDmainb;         #Total Percent Voltage drop\n",
      "\n",
      "# Results\n",
      "print 'a The percent voltage drops at :'\n",
      "print 'Lateral End is %g percent'%(perVDlateral)\n",
      "print 'Main End is %g percent'%(perVDmain)\n",
      "\n",
      "print 'b) Conductors with Ampacities of 278A and 174A are used to find the Percent voltage drop of \\\n",
      "the Main and Lateral as %g percent and %g percent respectively'%(perVDmainb,perVDlateralb)\n",
      "print 'The Above Drops meet the required criterion of 4 percent voltage drop'\n"
     ],
     "language": "python",
     "metadata": {},
     "outputs": [
      {
       "output_type": "stream",
       "stream": "stdout",
       "text": [
        "a The percent voltage drops at :\n",
        "Lateral End is 6.08569 percent\n",
        "Main End is 4.35998 percent\n",
        "b) Conductors with Ampacities of 278A and 174A are used to find the Percent voltage drop of the Main and Lateral as 1.75389 percent and 1.51958 percent respectively\n",
        "The Above Drops meet the required criterion of 4 percent voltage drop\n"
       ]
      }
     ],
     "prompt_number": 7
    },
    {
     "cell_type": "heading",
     "level": 2,
     "metadata": {},
     "source": [
      "Example 5.4  Page No : 265"
     ]
    },
    {
     "cell_type": "code",
     "collapsed": false,
     "input": [
      "import math \n",
      "\n",
      "# Variables\n",
      "Sl = 518.;         #Total Load on Lateral\n",
      "Sm = 5180.;         #Total Load on Main\n",
      "Vll = 12.47;         #Line to Line voltage\n",
      "\n",
      "#Currents in the respective current\n",
      "Ilateral = Sl/(math.sqrt(3)*Vll);\n",
      "Imain = Sm/(math.sqrt(3)*Vll);\n",
      "\n",
      "C = 5280.;         #Length Consmath.tant\n",
      "Ll = 5760./C;         #Lateral Length\n",
      "Lm = 3300./C;         #Main Length\n",
      "\n",
      "#Consmath.tant for the cables\n",
      "Km = 0.0008;\n",
      "Kl = 0.00175;\n",
      "\n",
      "# Calculations\n",
      "#Voltage Drop Percents for 3 phase\n",
      "VDlateral = Ll*Kl*Sl/2;\n",
      "\n",
      "#Due to peculiarity of this new problem, one half of the main has to considered as express feeder and the other connected to a uniformly distributed load of 5180kVA\n",
      "VDmain = Lm*Km*Sm*3/4;\n",
      "TVD = VDmain+VDlateral;\n",
      "\n",
      "#Since the inductive reacmath.tance of the line is\n",
      "Cd = 12.;         #Consmath.tant to find the dismath.tance in terms of feet\n",
      "\n",
      "#Diameters of the Conductors\n",
      "Dmi = 37.;\n",
      "Dmn = 53.;\n",
      "\n",
      "#Drops per mile\n",
      "xdi = 0.1213*math.log(Dmi/Cd);\n",
      "xdn = 0.1213*math.log(Dmn/Cd);\n",
      "\n",
      "Dxd = xdn-xdi;         #Difference in Drops\n",
      "\n",
      "# Results\n",
      "print 'a The percent voltage drops at :'\n",
      "print 'Lateral End is %g percent'%(VDlateral)\n",
      "print 'Main End is %g percent'%(VDmain)\n",
      "\n",
      "print 'b The Above Drops meet the required criterion of 4 percent voltage drop'\n",
      "print 'c) The Difference in Voltage drop is %g ohm/mile, which is a smaller VD valuue that it really is.'%(Dxd)\n"
     ],
     "language": "python",
     "metadata": {},
     "outputs": [
      {
       "output_type": "stream",
       "stream": "stdout",
       "text": [
        "a The percent voltage drops at :\n",
        "Lateral End is 0.494455 percent\n",
        "Main End is 1.9425 percent\n",
        "b The Above Drops meet the required criterion of 4 percent voltage drop\n",
        "c) The Difference in Voltage drop is 0.0435921 ohm/mile, which is a smaller VD valuue that it really is.\n"
       ]
      }
     ],
     "prompt_number": 9
    },
    {
     "cell_type": "heading",
     "level": 2,
     "metadata": {},
     "source": [
      "Example 5.5  Page No : 268"
     ]
    },
    {
     "cell_type": "code",
     "collapsed": false,
     "input": [
      "import math \n",
      "\n",
      "# Variables\n",
      "Vb = 7200.;         #Base Voltage in V\n",
      "pf = 0.9;         #Power Factor\n",
      "Sm = 10360.;         #Load on Main Feeder in kVA\n",
      "Vll = 12.47;         #Line to Line voltage in kV\n",
      "Imain = Sm/(math.sqrt(3)*Vll);         #Current in Main Feeder\n",
      "\n",
      "#Note Suffix l means lateral and m means main\n",
      "\n",
      "Vph = 7.2;         #Phase Voltage in kV\n",
      "Sl = 2*518.;         #Load on Lateral Feeder in kVA\n",
      "Ilateral = Sl/Vph;         #Current in Laterals\n",
      "\n",
      "#Length of the Feeder\n",
      "#Length Consmath.tant\n",
      "Cm = 5280.;         #Main\n",
      "Cl = 1000.;         #Lateral\n",
      "Ll = 5760./Cl;         #Lateral Length\n",
      "Lm = 3300./Cm;         #Main Length\n",
      "\n",
      "#Consmath.tants for the particular cables from the tables\n",
      "rl = 0.331;\n",
      "xLl = 0.0300;\n",
      "rm = 0.342;\n",
      "xam = 0.458;\n",
      "xdm = 0.1802;\n",
      "xLm = xam+xdm;\n",
      "\n",
      "# Calculations\n",
      "#Voltage Drops for Normal Condition\n",
      "VDmainn = (Imain/2)*((rm*pf)+(xLm*math.sin(math.radians(math.acos(pf)))))*Lm/2;\n",
      "VDlateraln = (Ilateral/2)*((rl*pf)+(xLl*math.sin(math.radians(math.acos(pf)))))*Ll/2;\n",
      "\n",
      "perVDmainn = VDmainn*100/Vb;\n",
      "perVDlateraln = VDlateraln*100/Vb;\n",
      "\n",
      "TVDn = perVDmainn+perVDlateraln;\n",
      "\n",
      "#Voltage Drops for Worst Conditions\n",
      "VDmainw = (Imain)*((rm*pf)+(xLm*math.sin(math.radians(math.acos(pf)))))*Lm/2;\n",
      "VDlateralw = (Ilateral)*((rl*pf)+(xLl*math.sin(math.radians(math.acos(pf)))))*Ll;\n",
      "\n",
      "perVDmainw = VDmainw*100/Vb;\n",
      "perVDlateralw = VDlateralw*100/Vb;\n",
      "\n",
      "TVDw = perVDmainw+perVDlateralw;\n",
      "\n",
      "# Results\n",
      "print 'a)From Table A5, 300-kcmilACSR conductors, with 500A Ampacity is used for mainand AWG         #2 XLPE Al\\\n",
      " URD cable with 168A Ampacity'\n",
      "print 'b) The Total Voltage Drop in Percent for Normal Operation is %g percent'%(TVDn)\n",
      "print 'c) The Total Voltage Drop in Percent for Worst Condition is %g percent'%(TVDw)\n",
      "print 'd The Voltage drop is met for Normal operation and NOT for emergency operation'\n"
     ],
     "language": "python",
     "metadata": {},
     "outputs": [
      {
       "output_type": "stream",
       "stream": "stdout",
       "text": [
        "a)From Table A5, 300-kcmilACSR conductors, with 500A Ampacity is used for mainand AWG         #2 XLPE Al URD cable with 168A Ampacity\n",
        "b) The Total Voltage Drop in Percent for Normal Operation is 1.1836 percent\n",
        "c) The Total Voltage Drop in Percent for Worst Condition is 4.08313 percent\n",
        "d The Voltage drop is met for Normal operation and NOT for emergency operation\n"
       ]
      }
     ],
     "prompt_number": 10
    }
   ],
   "metadata": {}
  }
 ]
}