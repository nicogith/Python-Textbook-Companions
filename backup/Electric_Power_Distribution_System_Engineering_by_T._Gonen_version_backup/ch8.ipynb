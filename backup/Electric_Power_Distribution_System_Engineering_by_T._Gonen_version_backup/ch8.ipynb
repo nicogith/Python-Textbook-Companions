{
 "metadata": {
  "name": "",
  "signature": "sha256:82754afbe0b57de92c1b3631997744ed83c0b5bcb3ad977be765225d89fd57a7"
 },
 "nbformat": 3,
 "nbformat_minor": 0,
 "worksheets": [
  {
   "cells": [
    {
     "cell_type": "heading",
     "level": 1,
     "metadata": {},
     "source": [
      "Chapter 8 : Application of Capacitors to Distribution Systems"
     ]
    },
    {
     "cell_type": "heading",
     "level": 2,
     "metadata": {},
     "source": [
      "Example 8.1  Page No : 390"
     ]
    },
    {
     "cell_type": "code",
     "collapsed": false,
     "input": [
      "import math \n",
      "\n",
      "# Variables\n",
      "SL = 700.;         #Load in kVA\n",
      "pf1 = 65./100;         #Power Factor\n",
      "PL = SL*pf1;         #Real Power\n",
      "#From the Table of Power Factor Correction\n",
      "CR = 0.74;         #Co-relation factor\n",
      "CS = PL*CR;         #Capacitor Size\n",
      "\n",
      "CSr = 360.;         #Next Higher standard Capacitor Size\n",
      "\n",
      "# Calculations\n",
      "CRn = CSr/PL;         #New Co-Relation Factor\n",
      "\n",
      "#From the table by linear interpolation\n",
      "pfr = 93.;         #In Percentage\n",
      "pfn = pfr+(172./320);\n",
      "\n",
      "# Results\n",
      "print 'a) The Correction Factor is %g'%(CR)\n",
      "print 'b) The Capacitor Size Required is %g kVAr'%(CS)\n",
      "print 'c) Resulting power factor if the next higher standard capacitor size is used is %g percent'%(pfn)\n",
      "\n"
     ],
     "language": "python",
     "metadata": {},
     "outputs": [
      {
       "output_type": "stream",
       "stream": "stdout",
       "text": [
        "a) The Correction Factor is 0.74\n",
        "b) The Capacitor Size Required is 336.7 kVAr\n",
        "c) Resulting power factor if the next higher standard capacitor size is used is 93.5375 percent\n"
       ]
      }
     ],
     "prompt_number": 1
    },
    {
     "cell_type": "heading",
     "level": 2,
     "metadata": {},
     "source": [
      "Example 8.2  Page No : 393"
     ]
    },
    {
     "cell_type": "code",
     "collapsed": false,
     "input": [
      "import math \n",
      "\n",
      "# Variables\n",
      "Vll = 4.16;         #Line to Line Voltage in kV\n",
      "Pr = (500*0.7457);         #Rating of motor in kW\n",
      "pf1 = 0.75;         #Initial Power Factor\n",
      "pfn = 0.9;         #Improved Power Factor\n",
      "eff = 0.88;         #Efficiency\n",
      "P = Pr/eff;         #Input Power of Induction Motor\n",
      "\n",
      "# Calculations\n",
      "Q1 = P*math.degrees(math.atan(math.acos(pf1)));         #Reactive Power\n",
      "Q2 = P*math.degrees(math.atan(math.acos(pfn)));         #REactive power of motor after power factor improvement\n",
      "f = 60.;         #Frequency of supply\n",
      "w = 2.*math.pi*f;         #Angular Frequency\n",
      "Qc = Q1-Q2;         #Reactive Power of Capacitor\n",
      "Il = Qc/(math.sqrt(3)*Vll);\n",
      "\n",
      "#Capacitor Connectd in Delta\n",
      "Ic1 = Il/(math.sqrt(3));\n",
      "Xc1 = Vll*1000/Ic1;         #Reacmath.tance of each capacitor\n",
      "C1 = (10**6)/(w*Xc1);         #Capacimath.tance in Micro Farad\n",
      "\n",
      "#Capacitor Connected in Wye\n",
      "Ic2 = Il;\n",
      "Xc2 = Vll*1000/(math.sqrt(3)*Ic2);         #Reacmath.tance of each capacitor\n",
      "C2 = (10**6)/(w*Xc2);         #Capacimath.tance in Micro Farad\n",
      "\n",
      "# Results\n",
      "print 'a) Rating of Capacitor Bank is %g kVAr'%(Qc)\n",
      "print 'b) The Value of Capacimath.tance if there are connected in delta is %g micro F'%(C1)\n",
      "print 'c) The Value of Capacimath.tance if there are connected in wye is %g micro F'%(C2)\n"
     ],
     "language": "python",
     "metadata": {},
     "outputs": [
      {
       "output_type": "stream",
       "stream": "stdout",
       "text": [
        "a) Rating of Capacitor Bank is 4906.48 kVAr\n",
        "b) The Value of Capacimath.tance if there are connected in delta is 250.687 micro F\n",
        "c) The Value of Capacimath.tance if there are connected in wye is 752.06 micro F\n"
       ]
      }
     ],
     "prompt_number": 2
    },
    {
     "cell_type": "heading",
     "level": 2,
     "metadata": {},
     "source": [
      "Example 8.3  Page No : 396"
     ]
    },
    {
     "cell_type": "code",
     "collapsed": false,
     "input": [
      "import math \n",
      "\n",
      "# Variables\n",
      "V = 2.4;         #Voltage in kV\n",
      "I = 200;         #Load Current\n",
      "P = 360;         #Real Load in kW\n",
      "S1 = V*I;         #Total Load in kVA\n",
      "pf1 = P/S1;         #Power Factor\n",
      "Q1 = S1*math.sin(math.radians(math.acos(pf1)));         #Reactive Load\n",
      "\n",
      "# Calculations\n",
      "Qc = 300;         #Capacitor Size\n",
      "\n",
      "Q2 = Q1-Qc;         #The New Reactive Load\n",
      "pf2 = P/math.sqrt((P**2)+((Q1-Qc)**2));         #Improved Power Factor\n",
      "\n",
      "# Results\n",
      "print 'a) The Uncorrected power factor and reactive load is %g and %g kVAr'%(pf1,Q1)\n",
      "print 'b) The New Corrected factor after the introduction of capacitor unit is %g'%(pf2)\n"
     ],
     "language": "python",
     "metadata": {},
     "outputs": [
      {
       "output_type": "stream",
       "stream": "stdout",
       "text": [
        "a) The Uncorrected power factor and reactive load is 0.75 and 6.0546 kVAr\n",
        "b) The New Corrected factor after the introduction of capacitor unit is 0.77459\n"
       ]
      }
     ],
     "prompt_number": 3
    },
    {
     "cell_type": "heading",
     "level": 2,
     "metadata": {},
     "source": [
      "Example 8.4  Page No : 398"
     ]
    },
    {
     "cell_type": "code",
     "collapsed": false,
     "input": [
      "import math \n",
      "\n",
      "# Variables\n",
      "S1 = 7800.;         #Peak Load in kVA\n",
      "T = 3*2000.;         #Total Rating of the Transformer\n",
      "pf1 = 0.89;         #Load Power Factor\n",
      "TC = 120./100;         #Thermal Capability\n",
      "Qc = 1000.;         #Size of capacitor\n",
      "\n",
      "# Calculations\n",
      "P = S1*pf1;         #Real Load\n",
      "Q1 = S1*math.sin(math.radians(math.acos(pf1)));         #Reactive Load\n",
      "\n",
      "Q2 = Q1-Qc;         #The New Reactive Load\n",
      "pf2 = P/math.sqrt((P**2)+((Q1-Qc)**2));         #Improved Power Factor\n",
      "\n",
      "S2 = P/pf2;         #Corrected Apprarent power\n",
      "\n",
      "ST = T*TC;         #Transformer Capabilty\n",
      "\n",
      "pf3 = P/ST;         #New Corrected Power factor required\n",
      "\n",
      "Q2new = P*math.degrees(math.atan(math.acos(pf3)));         #Required Reactive Power\n",
      "Qcadd = Q2-Q2new;         #Additional Rating of the Capacitor\n",
      "\n",
      "# Results\n",
      "print 'a) Since the Apparent Power%g kVAr is more than Transformer Capability %g kVAr),\\\n",
      " Hence Additional Capacitors are required'%(S2,ST)\n",
      "print 'b) The Rating of the Addtional capacitor is %g kVAr'%(Qcadd)\n"
     ],
     "language": "python",
     "metadata": {},
     "outputs": [
      {
       "output_type": "stream",
       "stream": "stdout",
       "text": [
        "a) Since the Apparent Power7004.76 kVAr is more than Transformer Capability 7200 kVAr), Hence Additional Capacitors are required\n",
        "b) The Rating of the Addtional capacitor is -105274 kVAr\n"
       ]
      }
     ],
     "prompt_number": 4
    },
    {
     "cell_type": "heading",
     "level": 2,
     "metadata": {},
     "source": [
      "Example 8.5  Page No : 411"
     ]
    },
    {
     "cell_type": "code",
     "collapsed": false,
     "input": [
      "import math \n",
      "from numpy import array\n",
      "\n",
      "# Variables\n",
      "# 1 is Total Loss Reduction due to Capacitors\n",
      "# 2 is Additional Loss Reduction due to Capacitor\n",
      "# 3 is Total Demand Reduction due to capacitor\n",
      "# 4 is Total required capacitor additions\n",
      "\n",
      "C90 = array([495165,85771,22506007,9810141]);         #Characteristics at 90% Power Factor\n",
      "C98 = array([491738,75343,21172616,4213297]);         #Characteristics at 98% Power Factor\n",
      "\n",
      "#Responsibility Factors\n",
      "RF90 = 1;\n",
      "RF98 = 0.9;\n",
      "\n",
      "SLF = 0.17;         #System Loss Factor\n",
      "FCR = 0.2;         #Fixed Charge Rate\n",
      "DC = 250;         #Demand Cost\n",
      "ACC = 4.75;         #Average Capacitor Cost\n",
      "EC = 0.045;         #Energy Cost\n",
      "Cd = C90-C98;         #Difference in Characteristics\n",
      "\n",
      "# Calculations\n",
      "TAS = Cd[0]+Cd[1];         #Total Additional Kilowatt Savings\n",
      "\n",
      "ASDR1 = Cd[0]*RF90*DC*FCR;\n",
      "ASDR2 = Cd[1]*RF98*DC*FCR;\n",
      "TASDR = ASDR1+ASDR2;         #Total Annual Savings due to demand\n",
      "x = 27;         # Cost for Per kVA of the capacity\n",
      "TASTC = Cd[2]*FCR*x;         #Annual Savings due to Transmission Capacity\n",
      "TASEL = TAS*SLF*EC*8760;         #Savings due to energy loss reduction\n",
      "TACAC = Cd[3]*FCR*ACC;         #Annual Cost of Additional Capacitors\n",
      "Savings = TASEL+TASDR+TASTC;         #Total Savings\n",
      "\n",
      "# Results\n",
      "print 'a) The Resulting additional savings in kilowatt losses due to power factor improvement at the\\\n",
      " substation buses is %g kW'%(Cd[0])\n",
      "print 'b) The Resulting assitional savings in kilowatt  losses due to the power factor improvement for feeders is %g kW'%(Cd[1])\n",
      "print 'c) The Additional Kilowatt Savings is %g kW'%(TAS)\n",
      "print 'd) The Additional savings in the system kilovoltampere capacity is %g kVA'%(Cd[2])\n",
      "print 'e) The Additional Capacitors required are %g kVAr'%(Cd[3])\n",
      "print 'f) The Annual Savings in demand reduction due to capacitors applied to distribution substation buses\\\n",
      " is approximately is %g dollars/year'%(TASDR)\n",
      "print 'g) The Annual Savings due to the additional released transmission capacity is %g dollars/year'%(TASTC)\n",
      "print 'h) The Total Anuual Savings due to the energy loss reduction is %g dollars/year'%(TASEL)\n",
      "print 'i) The Total Annual Cost of the additional capacitors is %g dollars/year'%(TACAC)\n",
      "print 'j) The Total Annual Savings is %g dollars/year'%(Savings)\n",
      "print 'k) No Since the total net annual savings is not zero'\n",
      "\n"
     ],
     "language": "python",
     "metadata": {},
     "outputs": [
      {
       "output_type": "stream",
       "stream": "stdout",
       "text": [
        "a) The Resulting additional savings in kilowatt losses due to power factor improvement at the substation buses is 3427 kW\n",
        "b) The Resulting assitional savings in kilowatt  losses due to the power factor improvement for feeders is 10428 kW\n",
        "c) The Additional Kilowatt Savings is 13855 kW\n",
        "d) The Additional savings in the system kilovoltampere capacity is 1.33339e+06 kVA\n",
        "e) The Additional Capacitors required are 5.59684e+06 kVAr\n",
        "f) The Annual Savings in demand reduction due to capacitors applied to distribution substation buses is approximately is 640610 dollars/year\n",
        "g) The Annual Savings due to the additional released transmission capacity is 7.20031e+06 dollars/year\n",
        "h) The Total Anuual Savings due to the energy loss reduction is 928479 dollars/year\n",
        "i) The Total Annual Cost of the additional capacitors is 5.317e+06 dollars/year\n",
        "j) The Total Annual Savings is 8.7694e+06 dollars/year\n",
        "k) No Since the total net annual savings is not zero\n"
       ]
      }
     ],
     "prompt_number": 6
    }
   ],
   "metadata": {}
  }
 ]
}