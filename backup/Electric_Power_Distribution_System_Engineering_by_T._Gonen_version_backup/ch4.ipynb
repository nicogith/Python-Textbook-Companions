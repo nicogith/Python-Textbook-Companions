{
 "metadata": {
  "name": "",
  "signature": "sha256:245ef1b89a5bda9ee093c72396146e897e6533850c3acc1090aa40bb52c35f20"
 },
 "nbformat": 3,
 "nbformat_minor": 0,
 "worksheets": [
  {
   "cells": [
    {
     "cell_type": "heading",
     "level": 1,
     "metadata": {},
     "source": [
      "Chapter 4 : Design of Subtransmission Lines and Distribution Substations"
     ]
    },
    {
     "cell_type": "heading",
     "level": 2,
     "metadata": {},
     "source": [
      "Example 4.1  Page No : 201"
     ]
    },
    {
     "cell_type": "code",
     "collapsed": false,
     "input": [
      "import math \n",
      "\n",
      "# Variables\n",
      "#Conductor Pararmeters\n",
      "r = 1.503;\n",
      "xa = 0.609;\n",
      "xd = 0.1366;\n",
      "pf = 0.9;\n",
      "Vb = 2400;\n",
      "Vr = Vb;\n",
      "x = xa+xd;\n",
      "Kc = 0.01;         #From the Curve\n",
      "\n",
      "# Calculations\n",
      "K = ((r*pf)+(x+math.sin(math.radians(math.acos(pf)))))*(1000./3)*100/(Vr*Vb);         # In Percent\n",
      "\n",
      "# Results\n",
      "print 'a) The Value of Consmath.tant K is %g percent VDpu per kVA mile'%(K)\n",
      "print 'b) From the precalculated per cent voltage drop Curve, It is found that the K is %g percent VDpu\\\n",
      " per kVA mile which is same as the answer obtained in part a'%(Kc)\n"
     ],
     "language": "python",
     "metadata": {},
     "outputs": [
      {
       "output_type": "stream",
       "stream": "stdout",
       "text": [
        "a) The Value of Consmath.tant K is 0.0121885 percent VDpu per kVA mile\n",
        "b) From the precalculated per cent voltage drop Curve, It is found that the K is 0.01 percent VDpu per kVA mile which is same as the answer obtained in part a\n"
       ]
      }
     ],
     "prompt_number": 1
    },
    {
     "cell_type": "heading",
     "level": 2,
     "metadata": {},
     "source": [
      "Example 4.2  Page No : 202"
     ]
    },
    {
     "cell_type": "code",
     "collapsed": false,
     "input": [
      "\n",
      "# Variables\n",
      "K = 0.01;         #Percentage Value\n",
      "Sn = 500;         #Load in kVA\n",
      "pf = 0.9;         #Lagging\n",
      "s = 1;         #Length of the feeder\n",
      "\n",
      "# Calculations\n",
      "VD = s*K*Sn;         #Voltage drop in percent\n",
      "\n",
      "# Results\n",
      "print 'The Percent Voltage drop in the Main is %g percent'%(VD)\n"
     ],
     "language": "python",
     "metadata": {},
     "outputs": [
      {
       "output_type": "stream",
       "stream": "stdout",
       "text": [
        "The Percent Voltage drop in the Main is 5 percent\n"
       ]
      }
     ],
     "prompt_number": 2
    },
    {
     "cell_type": "heading",
     "level": 2,
     "metadata": {},
     "source": [
      "Example 4.3  Page No : 203"
     ]
    },
    {
     "cell_type": "code",
     "collapsed": false,
     "input": [
      "# Variables\n",
      "K = 0.01;         #Percentage Value\n",
      "Sn = 500;         #Load in kVA\n",
      "pf = 0.9;         #Lagging\n",
      "l = 1.;         #Total Length of the feeder\n",
      "\n",
      "# Calculations\n",
      "s = l/2;         #effective Length of the feeder\n",
      "VD = s*K*Sn;         #Voltage drop in percent\n",
      "\n",
      "# Results\n",
      "print 'The Percent Voltage drop in the Main is %g percent'%(VD)\n"
     ],
     "language": "python",
     "metadata": {},
     "outputs": [
      {
       "output_type": "stream",
       "stream": "stdout",
       "text": [
        "The Percent Voltage drop in the Main is 2.5 percent\n"
       ]
      }
     ],
     "prompt_number": 3
    },
    {
     "cell_type": "heading",
     "level": 2,
     "metadata": {},
     "source": [
      "Example 4.4  Page No : 203"
     ]
    },
    {
     "cell_type": "code",
     "collapsed": false,
     "input": [
      "# Variables\n",
      "K = 0.01;         #Percentage Value\n",
      "Sn = 500;         #Load in kVA\n",
      "pf = 0.9;         #Lagging\n",
      "l = 1.;         #Total Length of the feeder\n",
      "\n",
      "# Calculations\n",
      "s = l*2/3;         #effective Length of the feeder\n",
      "VD = s*K*Sn;         #Voltage drop in percent\n",
      "\n",
      "# Results\n",
      "print 'The Percent Voltage drop in the Main is %g percent'%(VD)\n"
     ],
     "language": "python",
     "metadata": {},
     "outputs": [
      {
       "output_type": "stream",
       "stream": "stdout",
       "text": [
        "The Percent Voltage drop in the Main is 3.33333 percent\n"
       ]
      }
     ],
     "prompt_number": 4
    },
    {
     "cell_type": "heading",
     "level": 2,
     "metadata": {},
     "source": [
      "Example 4.5  Page No : 204"
     ]
    },
    {
     "cell_type": "code",
     "collapsed": false,
     "input": [
      "\n",
      "# Variables\n",
      "#Voltage Drops in Percentage\n",
      "VDlumped = 5.; \n",
      "VDuniform = 2.5;\n",
      "VDincreasing = 3.333;\n",
      "\n",
      "# Calculations\n",
      "#Ratio of the percent voltage drops\n",
      "Rlu = VDlumped/VDuniform;\n",
      "Rli = VDlumped/VDincreasing;\n",
      "Riu = VDincreasing/VDuniform;\n",
      "\n",
      "# Results\n",
      "print 'a) Percent VDlumped  =  %g Percent VDuniform'%(Rlu)\n",
      "print 'b) Percent VDlumped  =  %g Percent VDincreasing'%(Rli)\n",
      "print 'c) Percent VDincreasing  =  %g Percent VDuniform'%(Riu)\n"
     ],
     "language": "python",
     "metadata": {},
     "outputs": [
      {
       "output_type": "stream",
       "stream": "stdout",
       "text": [
        "a) Percent VDlumped  =  2 Percent VDuniform\n",
        "b) Percent VDlumped  =  1.50015 Percent VDincreasing\n",
        "c) Percent VDincreasing  =  1.3332 Percent VDuniform\n"
       ]
      }
     ],
     "prompt_number": 5
    },
    {
     "cell_type": "heading",
     "level": 2,
     "metadata": {},
     "source": [
      "Example 4.6  Page No : 208"
     ]
    },
    {
     "cell_type": "code",
     "collapsed": false,
     "input": [
      "import math \n",
      "from numpy import array,multiply,divide\n",
      "\n",
      "# Variables\n",
      "D = [500,500,2000,2000,10000,10000,2000,2000];         #Load Densities in kVA/sq.miles\n",
      "TAn = [6,6,3,3,1,1,15,15];         #Substation Area in sq.miles\n",
      "VD = [3,6,3,6,3,6,3,6];         #Maximum Total Primary Feeder Voltage drops in percentage\n",
      "Vll = [4.16,4.16,4.16,4.16,4.16,4.16,13.2,13.2];         #Base Feeder Voltage in kV\n",
      "\n",
      "TSn = multiply(D,TAn);         #Susbstation Load\n",
      "#From the Graphs of feeders vs load desity in the textbook; The Number of feeders are found to be\n",
      "\n",
      "n = [4,2,5,3,5,4,6,5];         #No of feeders\n",
      "\n",
      "# Calculations\n",
      "#Also from the graph, The characteristic or the feeder is determined\n",
      "#1-5, 7 are VDL feeders\n",
      "#6 and 8 are TL feeders\n",
      "\n",
      "Sn = divide(TSn,n);         #Load Per Feeder\n",
      "#To Determine the Load Current\n",
      "Il = Sn/(math.sqrt(3)*array(Vll)); \n",
      "\n",
      "# Results\n",
      "print 'a'\n",
      "print 'The Substation Size is'\n",
      "print (TSn)\n",
      "print 'The Number of Feeders from the Curve is'\n",
      "print (n)\n",
      "print 'Also From the Curve%( 1,2,3,4,5,7 cases are VDL but 6 and 8 case are TL'\n",
      "print 'a'\n",
      "print 'The Load Current for 6th Case is %g A, which is less than the ampacities of the main but\\\n",
      " more than that of the lateral, Hence it is thermally limited but not the main feeder'%(Il[5])\n",
      "print 'The Load Current for 8th Case is %g A, which is less than the ampacities of the main but more than that\\\n",
      " of the lateral, Hence it is thermally limited but not the main feeder'%(Il[7])\n"
     ],
     "language": "python",
     "metadata": {},
     "outputs": [
      {
       "output_type": "stream",
       "stream": "stdout",
       "text": [
        "a\n",
        "The Substation Size is\n",
        "[ 3000  3000  6000  6000 10000 10000 30000 30000]"
       ]
      },
      {
       "output_type": "stream",
       "stream": "stdout",
       "text": [
        "\n",
        "The Number of Feeders from the Curve is\n",
        "[4, 2, 5, 3, 5, 4, 6, 5]\n",
        "Also From the Curve%( 1,2,3,4,5,7 cases are VDL but 6 and 8 case are TL\n",
        "a\n",
        "The Load Current for 6th Case is 346.965 A, which is less than the ampacities of the main but more than that of the lateral, Hence it is thermally limited but not the main feeder\n",
        "The Load Current for 8th Case is 262.432 A, which is less than the ampacities of the main but more than that of the lateral, Hence it is thermally limited but not the main feeder\n"
       ]
      }
     ],
     "prompt_number": 10
    },
    {
     "cell_type": "heading",
     "level": 2,
     "metadata": {},
     "source": [
      "Example 4.7  Page No : 211"
     ]
    },
    {
     "cell_type": "code",
     "collapsed": false,
     "input": [
      "import math \n",
      "\n",
      "# Variables\n",
      "D = 1000.;         #Load Density in kVA per sq miles\n",
      "Vll = 4.16;         #Line to Lien voltage in kV\n",
      "#From The Tables and Curves from the Theory\n",
      "K = 0.007;\n",
      "#For TL\n",
      "TLImax = 230.;         #Maximum Feeder Current\n",
      "TLSn = math.sqrt(3)*Vll*TLImax;         #Maximum Load Per Feeder\n",
      "TLn = 4;         #No of Feeders\n",
      "TLTSn = TLn*TLSn;         #Substation Load\n",
      "TLl4 = math.sqrt(TLSn/D);         #Feeder Length\n",
      "TLS = 2*TLl4;         #Total Spacing\n",
      "\n",
      "TLVDn = 2*K*D*(TLl4**3)/3;         #TotalVoltageDrop in the main\n",
      "\n",
      "# Calculations\n",
      "#For VDL\n",
      "VDLVDn = 3;         #Percent Voltage Drop\n",
      "VDLl4 = pow((3*VDLVDn/(2*K*D)),1./3);         #Feeder Length\n",
      "VDLS = 2*VDLl4;         #Station size\n",
      "VDLSn = D*(VDLl4**2);         #Maximum Load Per Feeder\n",
      "VDLn = TLn;         #Number Of Feeders\n",
      "VDLTSn = VDLn*VDLSn;         #Susbtation Load\n",
      "VDLImax = VDLSn/(math.sqrt(3)*Vll);         #Ampere Rating of the Main\n",
      "R = VDLImax/TLImax;         #Ampere Loading\n",
      "\n",
      "# Results\n",
      "print 'a For Thermally Limited '\n",
      "print 'i) The Substation Size  =  %g kVA'%(TLTSn)\n",
      "print 'ii) Substation Spacing  =  %g miles'%(TLS)\n",
      "print 'iii) Maximum Load Per Feeder  =  %g kVA'%(TLSn)\n",
      "print 'iv) The Voltage Drop is %g percent'%(TLVDn)\n",
      "\n",
      "print 'b For Voltage Drop Limited '\n",
      "print 'i) The Substation Size  =  %g kVA'%(VDLTSn)\n",
      "print 'ii) Substation Spacing  =  %g miles'%(VDLS)\n",
      "print 'iii) Maximum Load Per Feeder  =  %g kVA'%(VDLSn)\n",
      "print 'iv) Ampere Loading of the Main is %g pu'%(R)\n",
      "\n",
      "#Note The Approximation to 750 kVA\n"
     ],
     "language": "python",
     "metadata": {},
     "outputs": [
      {
       "output_type": "stream",
       "stream": "stdout",
       "text": [
        "a For Thermally Limited \n",
        "i) The Substation Size  =  6628.9 kVA\n",
        "ii) Substation Spacing  =  2.57467 miles\n",
        "iii) Maximum Load Per Feeder  =  1657.23 kVA\n",
        "iv) The Voltage Drop is 9.95588 percent\n",
        "b For Voltage Drop Limited \n",
        "i) The Substation Size  =  2979.45 kVA\n",
        "ii) Substation Spacing  =  1.72611 miles\n",
        "iii) Maximum Load Per Feeder  =  744.863 kVA\n",
        "iv) Ampere Loading of the Main is 0.449464 pu\n"
       ]
      }
     ],
     "prompt_number": 11
    },
    {
     "cell_type": "heading",
     "level": 2,
     "metadata": {},
     "source": [
      "Example 4.8  Page No : 213"
     ]
    },
    {
     "cell_type": "code",
     "collapsed": false,
     "input": [
      "import math \n",
      "\n",
      "# Variables\n",
      "DivF = 1.2;         #Diversity Factor\n",
      "DemF = 0.6;         #Demand Factor\n",
      "CL = 2000.;         #Connected Load Density in kVA per sq.miles\n",
      "\n",
      "DD = DemF*CL/DivF;         #Diversified Demand\n",
      "A = 4.;         #Area of the Substation\n",
      "\n",
      "TSn = DD*A;         #Peak Loads of A and B\n",
      "Sm = TSn;         #Peak Loads\n",
      "\n",
      "#Consmath.tants for different conductors\n",
      "Km = 0.0004;\n",
      "Kl = 0.00095;\n",
      "#Number of Laterals\n",
      "Na = 16.;         #Site A \n",
      "Nb = 32.;         #Site B\n",
      "\n",
      "#Length of the Main\n",
      "La = 2.;\n",
      "Lb = 3.;\n",
      "#length of laterals\n",
      "Lla = 2.;\n",
      "Llb = 1.;\n",
      "\n",
      "# Calculations\n",
      "#Length of expres Load\n",
      "Le = 1;\n",
      "Leffb = Le+((Lb-Le)/2);         #Effective Length of the feeder in site B\n",
      "#Voltage drops\n",
      "VDa = (La*Km*Sm/2)+(Lla*Kl*Sm/(Na*2));\n",
      "VDb = (Leffb*Km*Sm)+(Llb*Kl*Sm/(Nb*2));\n",
      "\n",
      "# Results\n",
      "print 'The Voltage drop in Site A is %g percent'%(VDa)\n",
      "print 'The Voltage drop in Site B is %g percent'%(VDb)\n",
      "VDb = (La*Km*Sm/2)+(Lla*Kl*Sm/Na);\n",
      "print 'Comparing the results we find Site A suitable due to its less percent voltage drop',VDb\n"
     ],
     "language": "python",
     "metadata": {},
     "outputs": [
      {
       "output_type": "stream",
       "stream": "stdout",
       "text": [
        "The Voltage drop in Site A is 1.8375 percent\n",
        "The Voltage drop in Site B is 3.25938 percent\n",
        "Comparing the results we find Site A suitable due to its less percent voltage drop 2.075\n"
       ]
      }
     ],
     "prompt_number": 12
    },
    {
     "cell_type": "heading",
     "level": 2,
     "metadata": {},
     "source": [
      "Example 4.10  Page No : 217"
     ]
    },
    {
     "cell_type": "code",
     "collapsed": false,
     "input": [
      "import math \n",
      "\n",
      "# Variables\n",
      "D = 500.;         #Load Density in kVA per sq.miles\n",
      "Vl = 12.47;         #Line Voltage in kV\n",
      "N = 2.;         #Feeders per substation\n",
      "#From Table A-5 Appendix A it Current Ampacity can be found\n",
      "\n",
      "Imax = 340.;\n",
      "\n",
      "# Calculations\n",
      "S2 = math.sqrt(3)*Vl*Imax;         #Load Per Feeder\n",
      "\n",
      "l2 = math.sqrt(S2/D);         #Length of the feeder\n",
      "S = 2*l2;         #Substation Spacing\n",
      "TS2 = S2*N;         #Total Load on substation\n",
      "\n",
      "# Results\n",
      "print 'The Parts a%(b and c of thhis question cannot be coded'\n",
      "print 'd) The substation size and spacing is %g kVA and %g miles'%(TS2,S)\n"
     ],
     "language": "python",
     "metadata": {},
     "outputs": [
      {
       "output_type": "stream",
       "stream": "stdout",
       "text": [
        "The Parts a%(b and c of thhis question cannot be coded\n",
        "d) The substation size and spacing is 14687.1 kVA and 7.66475 miles\n"
       ]
      }
     ],
     "prompt_number": 13
    },
    {
     "cell_type": "heading",
     "level": 2,
     "metadata": {},
     "source": [
      "Example 4.11  Page No : 221"
     ]
    },
    {
     "cell_type": "code",
     "collapsed": false,
     "input": [
      "import math \n",
      "from sympy import Symbol,solve\n",
      "\n",
      "# Variables\n",
      "Ts = 1.;         #Assumed Load on station\n",
      "K = 1.;         #Assumption Consmath.tant\n",
      "K2 = K;\n",
      "K4 = K;\n",
      "D = 1.;        #Assumption Load Density\n",
      "#Number of feeders\n",
      "N2 = 2.;\n",
      "N4 = 4.;\n",
      "S2 = Ts/N2;         #Load per feeder         #Two feeders\n",
      "S4 = Ts/N4;         #Load per feeder         #4 feeders\n",
      "l = Symbol('l');         #Variable Value of length\n",
      "L2eff = 1*l/3;\n",
      "L4eff = 2*l/3;\n",
      "\n",
      "# Calculations\n",
      "def VD(y): \n",
      "    return D*(l**2)*K*y\n",
      "\n",
      "VD2 = VD(L2eff);\n",
      "VD4 = VD(L4eff);\n",
      "RVD = VD2/VD4;\n",
      "X = l-RVD;\n",
      "RVD = 2.      #1./(solve(X,2)[0]);         #To find the ratio of (l2**3)/(l4**3)\n",
      "\n",
      "Rl = pow(RVD,1./3);         #Ratio of length of feeder for 2 feeders two by length of feeder for 4 feeders\n",
      "\n",
      "#A is directly proportional to l**2\n",
      "RA = (Rl**2);\n",
      "\n",
      "#TSn is directly proportional to n and l**2\n",
      "RTS = (N2/N4)*(Rl**2);\n",
      "\n",
      "# Results\n",
      "print 'a) Ratio of substation spacings  =  2l2/2l4  =  %g'%(Rl)\n",
      "print 'b) Ratio of areas covered per feeder main  =  A2/A4  =  %g'%(RA)\n",
      "print 'c) Ratio of substation loads  =  TS2/TS4  =  %g'%(RTS)\n"
     ],
     "language": "python",
     "metadata": {},
     "outputs": [
      {
       "output_type": "stream",
       "stream": "stdout",
       "text": [
        "a) Ratio of substation spacings  =  2l2/2l4  =  1.25992\n",
        "b) Ratio of areas covered per feeder main  =  A2/A4  =  1.5874\n",
        "c) Ratio of substation loads  =  TS2/TS4  =  0.793701\n"
       ]
      }
     ],
     "prompt_number": 2
    }
   ],
   "metadata": {}
  }
 ]
}