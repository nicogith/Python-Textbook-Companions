{
 "metadata": {
  "name": "",
  "signature": "sha256:45c2bf36a13c4358e12d368504a2e6b1e7cd12f738f3e5c55995bd4950ad15ca"
 },
 "nbformat": 3,
 "nbformat_minor": 0,
 "worksheets": [
  {
   "cells": [
    {
     "cell_type": "heading",
     "level": 1,
     "metadata": {},
     "source": [
      "Chapter 2 :\n",
      "Load Characteristics"
     ]
    },
    {
     "cell_type": "heading",
     "level": 2,
     "metadata": {},
     "source": [
      "Example 2.1  Page No : 39"
     ]
    },
    {
     "cell_type": "code",
     "collapsed": false,
     "input": [
      "%matplotlib inline\n",
      "from numpy import linspace,array\n",
      "from matplotlib.pyplot import bar,suptitle,xlabel,ylabel\n",
      "\n",
      "# Variables\n",
      "t =  linspace(0,24,25)\n",
      "SL = array([100,100,100,100,100,100,100,100,0,0,0,0,0,0,0,0,0,0,100,100,100,100,100,100,100]);\n",
      "R = array([200,200,200,200,200,200,200,300,400,500,500,500,500,500,500,500,500,600,700,800,1000,1000,800,600,300]);\n",
      "C = array([200,200,200,200,200,200,200,200,300,500,1000,1000,1000,1000,1200,1200,1200,1200,800,400,400,400,200,200,200]);\n",
      "\n",
      "# Calculations\n",
      "Tl = SL+R+C;\n",
      "\n",
      "# Results\n",
      "#To print lay the Load bar curve diagram\n",
      "bar(t,Tl,color='red')#,0.5,'red')\n",
      "suptitle('Example 2.1')\n",
      "xlabel(\"Time in hrs\")\n",
      "ylabel(\"Load in kW\")\n"
     ],
     "language": "python",
     "metadata": {},
     "outputs": [
      {
       "metadata": {},
       "output_type": "pyout",
       "prompt_number": 7,
       "text": [
        "<matplotlib.text.Text at 0x1098963d0>"
       ]
      },
      {
       "metadata": {},
       "output_type": "display_data",
       "png": "[encoded data removed]",
       "text": [
        "<matplotlib.figure.Figure at 0x107575d10>"
       ]
      }
     ],
     "prompt_number": 7
    },
    {
     "cell_type": "heading",
     "level": 2,
     "metadata": {},
     "source": [
      "Example 2.2  Page No : 46"
     ]
    },
    {
     "cell_type": "code",
     "collapsed": false,
     "input": [
      "\n",
      "# Variables\n",
      "Fls = 0.15;\n",
      "Ppl = 80*(10**3);         #Power Loss at peak load.\n",
      "\n",
      "# Calculations\n",
      "Avgpl = Fls*Ppl;         #Average Power Loss\n",
      "TAELCu = Avgpl*8760;         #Total annual energy loss\n",
      "\n",
      "# Results\n",
      "print 'a) The average annual power loss  =  %g kW'%(Avgpl/1000)\n",
      "print ' b) The total annual energy loss due to the copper losses of the feeder circuits  =  %g kWh'%(TAELCu/1000)\n"
     ],
     "language": "python",
     "metadata": {},
     "outputs": [
      {
       "output_type": "stream",
       "stream": "stdout",
       "text": [
        "a) The average annual power loss  =  12 kW\n",
        " b) The total annual energy loss due to the copper losses of the feeder circuits  =  105120 kWh\n"
       ]
      }
     ],
     "prompt_number": 9
    },
    {
     "cell_type": "heading",
     "level": 2,
     "metadata": {},
     "source": [
      "Example 2.3  Page No : 47"
     ]
    },
    {
     "cell_type": "code",
     "collapsed": false,
     "input": [
      "# Variables\n",
      "TCDi = [9,9,9,9,9,9];         #Load for each house all in kilowatt\n",
      "DFi = 0.65;         #Demand factor\n",
      "Fd = 1.1;         #Diversity factor\n",
      "\n",
      "# Calculations\n",
      "Dg = sum(TCDi)*DFi/Fd;\n",
      "\n",
      "# Results\n",
      "print 'The diversified demand of the group on the distribution transformer is %g kW'%(Dg)\n"
     ],
     "language": "python",
     "metadata": {},
     "outputs": [
      {
       "output_type": "stream",
       "stream": "stdout",
       "text": [
        "The diversified demand of the group on the distribution transformer is 31.9091 kW\n"
       ]
      }
     ],
     "prompt_number": 10
    },
    {
     "cell_type": "heading",
     "level": 2,
     "metadata": {},
     "source": [
      "Example 2.4  Page No : 48"
     ]
    },
    {
     "cell_type": "code",
     "collapsed": false,
     "input": [
      "# Variables\n",
      "SP = 3000*(10**3);         #System peak in kVA per phase\n",
      "Cl = 0.5/100;         #Percentage of copper loss\n",
      "\n",
      "# Calculations\n",
      "I2R =  Cl*SP;         #Copper loss of the feeder per phase\n",
      "I2R3 = 3*I2R;         #Copper losses of the feeder per 3 phase\n",
      "\n",
      "# Results\n",
      "print 'a) The copper loss of the feeder per phase  =  %g kW'%(I2R/1000)\n",
      "print ' b) The total coper losses of the feeder per three phase  =  %g kW'%(I2R3/1000)\n"
     ],
     "language": "python",
     "metadata": {},
     "outputs": [
      {
       "output_type": "stream",
       "stream": "stdout",
       "text": [
        "a) The copper loss of the feeder per phase  =  15 kW\n",
        " b) The total coper losses of the feeder per three phase  =  45 kW\n"
       ]
      }
     ],
     "prompt_number": 11
    },
    {
     "cell_type": "heading",
     "level": 2,
     "metadata": {},
     "source": [
      "Example 2.5  Page No : 48"
     ]
    },
    {
     "cell_type": "code",
     "collapsed": false,
     "input": [
      "\n",
      "# Variables\n",
      "Pi = 2000.*(10**3);         #Peak for industrial load\n",
      "Pr = 2000.*(10**3);         #Peak for residential load\n",
      "Dg = 3000.*(10**3);         #System peak load as specified in the diagram\n",
      "P = [Pi,Pr];         #System peaks for various loads \n",
      "\n",
      "# Calculations\n",
      "Fd =  sum(P)/Dg;         #Diversity factor\n",
      "LD =  sum(P)-Dg;         #Load diversity factor\n",
      "Fc = 1/Fd;         # Coincidence factor\n",
      "\n",
      "# Results\n",
      "print 'a) The diversity factor of the load is %g'%(Fd)\n",
      "print ' b) The load diversity of the load is %g kW'%(LD/1000)\n",
      "print ' c) The coincidence factor of the load is %g'%(Fc)\n",
      "\n"
     ],
     "language": "python",
     "metadata": {},
     "outputs": [
      {
       "output_type": "stream",
       "stream": "stdout",
       "text": [
        "a) The diversity factor of the load is 1.33333\n",
        " b) The load diversity of the load is 1000 kW\n",
        " c) The coincidence factor of the load is 0.75\n"
       ]
      }
     ],
     "prompt_number": 12
    },
    {
     "cell_type": "heading",
     "level": 2,
     "metadata": {},
     "source": [
      "Example 2.6  Page No : 50"
     ]
    },
    {
     "cell_type": "code",
     "collapsed": false,
     "input": [
      "from numpy import array,transpose\n",
      "\n",
      "# Variables\n",
      "#Refer diagram of the first example of this chapter\n",
      "Ps = 100.;         #Peak load for street lighting in kW\n",
      "Pr = 1000.;         #Peak load for Residential in kW\n",
      "Pc = 1200.;         #Peak Commercial load in kW\n",
      "P = array([Ps,Pr,Pc])         #Peaks of various loads\n",
      "\n",
      "Ls5 = 0.;         #Street lighting load at 5.00 PM in kW\n",
      "Lr5 = 600.;         #Residential load at 5.00 PM in kW\n",
      "Lc5 = 1200.;         #Commercial Load at 5.00 PM in kW\n",
      "\n",
      "# Calculations\n",
      "Cstreet = Ls5/Ps;\n",
      "Cresidential = Lr5/Pr;\n",
      "Ccommercial = Lc5/Pc;\n",
      "C = array([Cstreet,Cresidential,Ccommercial]);         #Class distribution for various factors\n",
      "\n",
      "Fd = (sum(P))/(sum(P* transpose(C)));\n",
      "Dg = (sum(P* transpose(C)));\n",
      "Fc = 1/Fd;\n",
      "\n",
      "print 'a The class distribution factors factor of:'\n",
      "print ' i) Street lighting  =  %g \\\n",
      "\\nii) Residential  =  %g \\\n",
      "\\niii) Commercial  = %g'%(C[0],C[1],C[2])\n",
      "print ' b) The diversity factor for the primary feeder  =  %g'%(Fd)\n",
      "print ' c) The diversified maximum demand of the load group  =  %g kW'%(Dg) \n",
      "print ' d) The coincidence factor of the load group  =  %g'%(Fc)\n"
     ],
     "language": "python",
     "metadata": {},
     "outputs": [
      {
       "output_type": "stream",
       "stream": "stdout",
       "text": [
        "a The class distribution factors factor of:\n",
        " i) Street lighting  =  0 \n",
        "ii) Residential  =  0.6 \n",
        "iii) Commercial  = 1\n",
        " b) The diversity factor for the primary feeder  =  1.27778\n",
        " c) The diversified maximum demand of the load group  =  1800 kW\n",
        " d) The coincidence factor of the load group  =  0.782609\n"
       ]
      }
     ],
     "prompt_number": 14
    },
    {
     "cell_type": "heading",
     "level": 2,
     "metadata": {},
     "source": [
      "Example 2.7  Page No : 55"
     ]
    },
    {
     "cell_type": "code",
     "collapsed": false,
     "input": [
      "\n",
      "print 'Assuming a monthly load curve as shown in the figure attached\\\n",
      " to this code'\n",
      "\n",
      "# Variables\n",
      "TAE = 10.**7;         # Total annual energy in kW\n",
      "APL = 3500.;         #Annual peak load in kW\n",
      "\n",
      "# Calculations\n",
      "Pav =  TAE/8760;         #Annual average power demand\n",
      "Fld =  Pav/APL;         #Annual load factor\n",
      "\n",
      "# Results\n",
      "print 'a) The annual power demand is %g kW'%(Pav)\n",
      "print 'b) The annual load factor is %g'%(Fld)\n",
      "print 'The unsold energy, as shown in the figure is a measure of capacity and investment math.cost. Ideally it should be kept at a minimum'\n"
     ],
     "language": "python",
     "metadata": {},
     "outputs": [
      {
       "output_type": "stream",
       "stream": "stdout",
       "text": [
        "Assuming a monthly load curve as shown in the figure attached to this code\n",
        "a) The annual power demand is 1141.55 kW\n",
        "b) The annual load factor is 0.326158\n",
        "The unsold energy, as shown in the figure is a measure of capacity and investment math.cost. Ideally it should be kept at a minimum\n"
       ]
      }
     ],
     "prompt_number": 15
    },
    {
     "cell_type": "heading",
     "level": 2,
     "metadata": {},
     "source": [
      "Example 2.8  Page No : 57"
     ]
    },
    {
     "cell_type": "code",
     "collapsed": false,
     "input": [
      "\n",
      "\n",
      "print 'Assuming a monthly load curve as shown in the figure attached to this code'\n",
      "\n",
      "# Variables\n",
      "Nl = 100.;         #100% percent load to be supplied\n",
      "TAE = 10.**7;         # Total annual energy in kW\n",
      "APL = 3500.;         #Annual peak load in kW\n",
      "\n",
      "# Calculations\n",
      "Pav =  TAE/8760;         #Annual average power demand\n",
      "Fld =  (Pav+Nl)/(APL+Nl);         #Annual load factor\n",
      "Cr = 3;        #Capacity math.cost\n",
      "Er = 0.03;        #Energy math.cost\n",
      "ACC = Nl*12*Cr;         #Additional capacity math.cost per kWh\n",
      "AEC = Nl*8760*Er;         #Additional energy math.cost per kWh\n",
      "TAC = ACC+AEC;         #Total annual math.cost\n",
      "\n",
      "# Results\n",
      "print 'a) The new annual load factor on the substation is %g'%(Fld)\n",
      "print 'b) The total annual additional costs to NL&NP to serve this load is $%g'%(TAC)\n"
     ],
     "language": "python",
     "metadata": {},
     "outputs": [
      {
       "output_type": "stream",
       "stream": "stdout",
       "text": [
        "Assuming a monthly load curve as shown in the figure attached to this code\n",
        "a) The new annual load factor on the substation is 0.344876\n",
        "b) The total annual additional costs to NL&NP to serve this load is $29880\n"
       ]
      }
     ],
     "prompt_number": 16
    },
    {
     "cell_type": "heading",
     "level": 2,
     "metadata": {},
     "source": [
      "Example 2.9  Page No : 58"
     ]
    },
    {
     "cell_type": "code",
     "collapsed": false,
     "input": [
      "\n",
      "# Variables\n",
      "TAE = 5.61*(10**6);         #Total annual energy in kW\n",
      "APL = 2000.;         #Annual peak load in kW\n",
      "Lc = 0.03;         #Cost of energy per kWh in dollars\n",
      "Plp = 100.;         #Power at peak load in kW\n",
      "\n",
      "# Calculations\n",
      "Fld = TAE/(APL*8760); \n",
      "Fls =  (0.3*Fld)+(0.7*(Fld**2));\n",
      "AvgEL = Fls*Plp;         #Average energy loss\n",
      "AEL = AvgEL*8760;         #Annual energy loss\n",
      "Tlc = AEL*Lc;         #Cost of total annual copper loss\n",
      "\n",
      "# Results\n",
      "print 'a) The annual loss factor is %g'%(Fls)\n",
      "print ' b) The annual copper loss energy is %g kWh and the cost of total annual copper loss is $%g'%(AEL,Tlc)\n",
      "\n"
     ],
     "language": "python",
     "metadata": {},
     "outputs": [
      {
       "output_type": "stream",
       "stream": "stdout",
       "text": [
        "a) The annual loss factor is 0.167834\n",
        " b) The annual copper loss energy is 147022 kWh and the cost of total annual copper loss is $4410.67\n"
       ]
      }
     ],
     "prompt_number": 18
    },
    {
     "cell_type": "heading",
     "level": 2,
     "metadata": {},
     "source": [
      "Example 2.10  Page No : 59"
     ]
    },
    {
     "cell_type": "code",
     "collapsed": false,
     "input": [
      "import math \n",
      "from numpy import array,arctan,transpose,arccos,radians\n",
      "from sympy import Symbol,solve\n",
      "\n",
      "Fd = 1.15;\n",
      "Pi = [1800,2000,2200];         #Demands of various feeders in kW (Real Power)\n",
      "PF = [0.95,0.85,0.90];         #Power factor of the respective feeders\n",
      "Dg = sum(Pi)/Fd;\n",
      "P = Dg;\n",
      "theta = arccos(PF);\n",
      "\n",
      "Q = sum(Pi*(radians(arctan(theta))))/Fd;\n",
      "S = math.sqrt((P**2)+(Q**2));\n",
      "LD = sum(Pi)-Dg;\n",
      "\n",
      "        #Transformer sizes\n",
      "Tp = array([2500,3750,5000,7500]);\n",
      "Ts = array([3125,4687,6250,9375]); \n",
      "\n",
      "Ol = 1.25;         #Maximum overload condition\n",
      "Eol = Ts*Ol;         #Overload voltages of the transformer\n",
      "Ed = abs(Eol-S);         # Difference between the overload values of the transformers and the P value of the system\n",
      "\n",
      "A = sorted(Ed);         # To sort the differences and choose the best match\n",
      "\n",
      "T = [Tp[1],Ts[1]];         #Suitable transformer\n",
      "\n",
      "g = Symbol('g');\n",
      "X = (1+g)-pow(2,1./10);         #To find out the fans on rating\n",
      "R = solve(X)[0];\n",
      "g = R*100;\n",
      "\n",
      "n = Symbol('n');\n",
      "Sn = 9375.;         # Rating of the to be installed transformer\n",
      "        # Equation (1+g)**n * S  =  Sn\n",
      "        # a = (1+g)\n",
      "        # b = Sn/S\n",
      "\n",
      "a = 1+R;\n",
      "b = Sn/S;\n",
      "n = math.log(b)/math.log(a);\n",
      "\n",
      "print 'a) The 30 mins annual maximum deman on the substation transformer are %g kW and %g kVA respectively'%(P,S)\n",
      "print ' b) The load diversity is %g kW'%(LD)\n",
      "print ' c) Suitable transformer size for 25 percent short time over loads is %g/%g kVA'%(T[0],T[1])\n",
      "print ' d) Fans on rating is %g percent and it will loaded for %g more year if a 7599/9375 kVA transformer is installed'%(g,math.ceil(n))\n"
     ],
     "language": "python",
     "metadata": {},
     "outputs": [
      {
       "output_type": "stream",
       "stream": "stdout",
       "text": [
        "a) The 30 mins annual maximum deman on the substation transformer are 5217.39 kW and 5217.53 kVA respectively\n",
        " b) The load diversity is 782.609 kW\n",
        " c) Suitable transformer size for 25 percent short time over loads is 3750/4687 kVA\n",
        " d) Fans on rating is 7.17735 percent and it will loaded for 9 more year if a 7599/9375 kVA transformer is installed\n"
       ]
      }
     ],
     "prompt_number": 27
    },
    {
     "cell_type": "heading",
     "level": 2,
     "metadata": {},
     "source": [
      "Example 2.11  Page No : 62"
     ]
    },
    {
     "cell_type": "code",
     "collapsed": false,
     "input": [
      "from numpy import array\n",
      "\n",
      "print 'NOTE'\n",
      "print 'The figure 1 attached along with this code is the Maximum diversified 30- min demand characteristics\\\n",
      "of various residential loads;  A  =  Clothes dryer; D  =  range; E  =  lighting and miscellaneous appliances; \\\n",
      "J  =  refrigerator Only the loads required for this problem have been mentioned '\n",
      "\n",
      "Ndt = 50.;         #Number of distribution transformers\n",
      "Nr = 900.;         #Number of residences\n",
      "\n",
      "        #When the loads are six.\n",
      "PavMax6 = array([1.6,0.8,0.066,0.61]);         #Average Maximum diversified demands (in kW) per house for dryer, range, refrigerator, for lighting and misc aapliances respectively according to the figure 1 attached with code. \n",
      "\n",
      "Mddt =  sum(6*PavMax6);         #30 min maximum diversified demand on the distribution transformer\n",
      "\n",
      "        #When the loads are 900.\n",
      "PavMax900 = array([1.2,0.53,0.044,0.52]);         #        #Average Maximum diversified demands (in kW) per house for dryer, range, refreigerato, for lighting and misc aapliances respectively according to the figure 1 attached with code.\n",
      "\n",
      "Mdf = sum(Nr*PavMax900);         #30 min maximum diversified demand on the feeder\n",
      "\n",
      "        #From the figure 2 attached to this code\n",
      "Hdd4 = array([0.38,0.24,0.9,0.32]);         #Hourly variation factor at time 4 PM for dryer, range, refrigerator, lighting and misc appliances\n",
      "Hdd5 = array([0.30,0.80,0.9,0.70]);         #Hourly variation factor at time 5 PM for dryer, range, refrigerator, lighting and misc appliances\n",
      "Hdd6 = array([0.22,1.0,0.9,0.92]);         #Hourly variation factor at time 6 PM for dryer, range, refrigerator, lighting and misc appliances\n",
      "\n",
      "Thdd4 = (6*PavMax6)*(Hdd4.T);         #Gives the total hourly diversified demand in kW at time 4 PM\n",
      "Thdd5 = (6*PavMax6)*Hdd5;         #Gives the total hourly diversified demand in kW at time 5 PM\n",
      "Thdd6 = (6*PavMax6)*Hdd6;         #Gives the total hourly diversified demand in kW at time 6 PM\n",
      "\n",
      "print ' a) The 30 min maximum diversified demand on the distribution transformer  =  %g kW'%(Mddt)\n",
      "print ' b) The 30 min maximum diversified demand on the distribution transformer  =  %g kW'%(Mdf)\n",
      "print ' c The total hourly diversified demands at:'\n",
      "print ' i) 4.00 PM  =  %g kW'%(sum(Thdd4))\n",
      "print ' ii) 5.00 PM  =  %g kW'%(sum(Thdd5))\n",
      "print ' iii) 6.00 PM  =  %g kW'%(sum(Thdd6))\n"
     ],
     "language": "python",
     "metadata": {},
     "outputs": [
      {
       "output_type": "stream",
       "stream": "stdout",
       "text": [
        "NOTE\n",
        "The figure 1 attached along with this code is the Maximum diversified 30- min demand characteristicsof various residential loads;  A  =  Clothes dryer; D  =  range; E  =  lighting and miscellaneous appliances; J  =  refrigerator Only the loads required for this problem have been mentioned \n",
        " a) The 30 min maximum diversified demand on the distribution transformer  =  18.456 kW\n",
        " b) The 30 min maximum diversified demand on the distribution transformer  =  2064.6 kW\n",
        " c The total hourly diversified demands at:\n",
        " i) 4.00 PM  =  6.3276 kW\n",
        " ii) 5.00 PM  =  9.6384 kW\n",
        " iii) 6.00 PM  =  10.6356 kW\n"
       ]
      }
     ],
     "prompt_number": 34
    },
    {
     "cell_type": "heading",
     "level": 2,
     "metadata": {},
     "source": [
      "Example 2.12  Page No : 72"
     ]
    },
    {
     "cell_type": "code",
     "collapsed": false,
     "input": [
      "import math\n",
      "from numpy import array,arctan,radians,degrees,ceil\n",
      "\n",
      "T = 730;         #Average monthly time in hrs\n",
      "Pla = 22;         #Peak Load for consumer A in kW\n",
      "Plb = 39;         #Peak load for consumer B in kW\n",
      "MEC = array([0.025,0.02,0.015]);         #Monthly Energy charges in cents/kWh according to the units consumed\n",
      "Uc = array([1000,3000,3000]);         #Units consumption according to the Energy charges\n",
      "MDC = 2;         #Monthly demand charge in dollars/kW\n",
      "\n",
      "Pa = 7000.;         #Units served to Consumer A in kWh\n",
      "Pb = 7000.;         #Units served to Consumer B in kWh\n",
      "\n",
      "#Power factors\n",
      "Pfa = 0.9;         # Lag\n",
      "Pfb = 0.76;         #Lag\n",
      "\n",
      "#Monthly Load factors\n",
      "Flda = Pa/(Pla*T);\n",
      "Fldb = Pb/(Plb*T);\n",
      "\n",
      "#Continous kilovoltamperes for each distribution transformer\n",
      "Sa = Pla/Pfa;\n",
      "Sb = Plb/Pfb;\n",
      "\n",
      "#Ratings of the distribution transformers needed\n",
      "Ta = round(Sa/5)*5;\n",
      "Tb = round(Sb/5)*5;\n",
      "\n",
      "#Billing Charges\n",
      "#For Consumer A\n",
      "Mbda = Pla*(0.85/Pfa);         # Monthly billing demand\n",
      "Mdca = Mbda*MDC;         #Monthly demand charge\n",
      "#Since the units served are 7000 it can be split according to the rates  as 1000, 3000, 3000 excess units.\n",
      "Uca = Uc;         #Units consumption by A\n",
      "Meca = MEC*Uca.T;         #Monthly energy charge\n",
      "Tmba = Meca+Mdca;         #Total monthly bill\n",
      "\n",
      "#For Consumer B\n",
      "Mbdb = Plb*(0.85/Pfb);         # Monthly billing demand\n",
      "Mdcb = Mbdb*MDC;         #Monthly demand charge\n",
      "#Since the units served are 7000 it can be split according to the rates  as 1000, 3000, 3000 excess units.\n",
      "Ucb = Uc;         #Units consumption by B\n",
      "Mecb = MEC*Ucb.T;         #Monthly energy charge\n",
      "Tmbb = Mecb+Mdcb;         #Total monthly bill\n",
      "\n",
      "#To find the capacitor size\n",
      "Q1 = Pb*math.radians(arctan(math.acos(Pfb)));         #For original power factor\n",
      "Q2 = Pb*math.radians(arctan(math.acos(0.85)));         #For new power factor\n",
      "\n",
      "dQ = (Q1-Q2)/T;         #Capacitor size\n",
      "\n",
      "#For new power factor\n",
      "#For Consumer B\n",
      "Mbdbn = Plb*(1);         # Monthly billing demand\n",
      "Mdcbn = Mbdbn*MDC;         #Monthly demand charge\n",
      "#Since the units served are 7000 it can be split according to the rates  as 1000, 3000, 3000 excess units.\n",
      "Ucbn = Uc;         #Units consumption by B\n",
      "Mecbn = MEC*Ucbn.T;         #Monthly energy charge\n",
      "Tmbbn = Mecbn+Mdcbn;         #Total monthly bill\n",
      "\n",
      "Saving = abs(Tmbbn-Tmbb);         #Saving due to capacitor installation\n",
      "Ci = 30;         # Cost of capacitor in dollar per kVAr\n",
      "Cc = Ci*dQ;         #The math.cost of the installed capacitor\n",
      "PP = Cc/Saving;         #Payback Period\n",
      "PPr = 90/Saving;         #Realistic Payback period\n",
      "\n",
      "print 'a Monthly load factor for :'\n",
      "print ' i) Consumer A  =  %g'%(Flda)\n",
      "print ' ii) Consumer B  = %g'%(Fldb)\n",
      "print ' b Rating of the each of the distribution transformer:'\n",
      "print ' i) A  =  %g kVA'%(Ta)\n",
      "print ' ii) B  =  %g kVA'%(Tb)\n",
      "print ' c Monthly bil for:'\n",
      "print ' i) Consumer A  =  $%g'%(sum(Tmba)) \n",
      "print ' ii) Consumer B  =  $%g'%(sum(Tmbb))\n",
      "print ' d) The capacitor size required is %g kVAr'%(dQ)\n",
      "print ' e Payback period:'\n",
      "print ' i) Calculated : %g months'%(sum(ceil(PP)))\n",
      "print ' ii) Realistic as capacitor size available is 3 kVAr : %g months'%(sum(ceil(PPr)))\n"
     ],
     "language": "python",
     "metadata": {},
     "outputs": [
      {
       "output_type": "stream",
       "stream": "stdout",
       "text": [
        "a Monthly load factor for :\n",
        " i) Consumer A  =  0.435866\n",
        " ii) Consumer B  = 0.245873\n",
        " b Rating of the each of the distribution transformer:\n",
        " i) A  =  25 kVA\n",
        " ii) B  =  50 kVA\n",
        " c Monthly bil for:\n",
        " i) Consumer A  =  $254.667\n",
        " ii) Consumer B  =  $391.711\n",
        " d) The capacitor size required is 0.018276 kVAr\n",
        " e Payback period:\n",
        " i) Calculated : 3 months\n",
        " ii) Realistic as capacitor size available is 3 kVAr : 30 months\n"
       ]
      }
     ],
     "prompt_number": 40
    },
    {
     "cell_type": "heading",
     "level": 2,
     "metadata": {},
     "source": [
      "Example 2.13  Page No : 84"
     ]
    },
    {
     "cell_type": "code",
     "collapsed": false,
     "input": [
      "\n",
      "# Variables \n",
      "Kh = 7.2;         #Meter consmath.tant\n",
      "Kr1 = 32;         #Revolutions of the disk in the first reading\n",
      "Kr2 = 27;         #Revolutions of the disk in the second reading\n",
      "T1 = 59;         #Time interval for revolutions of disks for the first reading\n",
      "T2 = 40;         #Time interval for revolutions of disks for the second reading\n",
      "\n",
      "# Calculations\n",
      "# Self contained watthour meter; D  =  (3.6*Kr*Kh)/T\n",
      "\n",
      "def  Id1(a,b):\n",
      "    return ((3.6*Kh*a)/b)         #Function to calculate the instaneous demand\n",
      "\n",
      "D1 = Id1(Kr1,T1);\n",
      "D2 = Id1(Kr2,T2);\n",
      "Dav = (D1+D2)/2;\n",
      "\n",
      "# Results\n",
      "print 'The instantenous demands are %g kW and %g kW for reading 1 and 2 and the average demand is %g kW'%(D1,D2,Dav)\n"
     ],
     "language": "python",
     "metadata": {},
     "outputs": [
      {
       "output_type": "stream",
       "stream": "stdout",
       "text": [
        "The instantenous demands are 14.0583 kW and 17.496 kW for reading 1 and 2 and the average demand is 15.7772 kW\n"
       ]
      }
     ],
     "prompt_number": 41
    },
    {
     "cell_type": "heading",
     "level": 2,
     "metadata": {},
     "source": [
      "Example 2.14  Page No : 84"
     ]
    },
    {
     "cell_type": "code",
     "collapsed": false,
     "input": [
      "\n",
      "# Variables\n",
      "#For a transformer type watthour meter; D  =  (3.6*Kr*Kh*CTR*PTR)/T\n",
      "CTR = 200.;\n",
      "PTR = 1.;\n",
      "Kh = 1.8;\n",
      "Kr1 = 32.;         #Revolutions of the disk in the first reading\n",
      "Kr2 = 27.;         #Revolutions of the disk in the second reading\n",
      "T1 = 59.;         #Time interval for revolutions of disks for the first reading\n",
      "T2 = 40.;         #Time interval for revolutions of disks for the second reading\n",
      "\n",
      "# Calculations\n",
      "def Id1(a,b):\n",
      "    return ((3.6*Kh*a*CTR*PTR)/b)         #Function to calculate the instaneous demand\n",
      "\n",
      "D1 = Id1(Kr1,T1);\n",
      "D2 = Id1(Kr2,T2);\n",
      "Dav = (D1+D2)/2;\n",
      "\n",
      "# Results\n",
      "print 'The instantenous demands are %g kW and %g kW for reading 1 and 2 and the average demand is %g kW'%(D1,D2,Dav)\n"
     ],
     "language": "python",
     "metadata": {},
     "outputs": [
      {
       "output_type": "stream",
       "stream": "stdout",
       "text": [
        "The instantenous demands are 702.915 kW and 874.8 kW for reading 1 and 2 and the average demand is 788.858 kW\n"
       ]
      }
     ],
     "prompt_number": 42
    },
    {
     "cell_type": "heading",
     "level": 2,
     "metadata": {},
     "source": [
      "Example 2.15  Page No : 85"
     ]
    },
    {
     "cell_type": "code",
     "collapsed": false,
     "input": [
      "\n",
      "# Variables\n",
      "Kh = 1.2;\n",
      "CTR = 80.;\n",
      "PTR = 20.;\n",
      "#Revolutions of the disk in a watthour meter for 1 and 2 readings respectively\n",
      "Kr1 = 20.;\n",
      "Kr2 = 30.;\n",
      "#Revolutions of the disk in a VArhour meter for 1 and 2 readings respectively\n",
      "Kr3 = 10.;\n",
      "Kr4 = 20.\n",
      "#Time interval for revoltion of disks in watthour meter for 1 and 2 readings respectively\n",
      "T1 = 50.;\n",
      "T2 = 60.;\n",
      "#Time interval for revoltion of disks in VArhour meter for 1 and 2 readings respectively\n",
      "T3 = 50.;\n",
      "T4 = 60.;\n",
      "\n",
      "def Id1(a,b):\n",
      "    return ((3.6*Kh*a*CTR*PTR)/b)         #Function to calculate the instaneous demand\n",
      "\n",
      "#instanmath.taneous kilowatt demands for readings 1 and 2\n",
      "D1 = Id1(Kr1,T1);\n",
      "D2 = Id1(Kr2,T2);\n",
      "\n",
      "#instanmath.taneous kilovar deamnds for readings 1 and 2\n",
      "D3 = Id1(Kr3,T3);\n",
      "D4 = Id1(Kr4,T4);\n",
      "\n",
      "Davp = (D1+D2)/2;         #Average kilowatt demand\n",
      "Davq = (D3+D4)/2;         #Average kilovar demand\n",
      "\n",
      "Dav = math.sqrt((Davp**2)+(Davq**2));         #Average kilovoltampere demand\n",
      "\n",
      "# Results\n",
      "print 'a) The instanmath.taneous kilowatt hour demands for readings 1 and 2 are %g kW and %g kW respectively'%(D1,D2)\n",
      "print ' b) The average kilowatt demand is %g kW'%(Davp)\n",
      "print ' c) The instanmath.taneous kilovar hour demands for readings 1 and 2 are %g kVAr and %g kVAr respectively'%(D3,D4)\n",
      "print ' d) The average kilovar demand is %g kVAr'%(Davq)\n",
      "print ' e) The average kilovoltampere demand is %g kVA'%(Dav)\n"
     ],
     "language": "python",
     "metadata": {},
     "outputs": [
      {
       "output_type": "stream",
       "stream": "stdout",
       "text": [
        "a) The instanmath.taneous kilowatt hour demands for readings 1 and 2 are 2764.8 kW and 3456 kW respectively\n",
        " b) The average kilowatt demand is 3110.4 kW\n",
        " c) The instanmath.taneous kilovar hour demands for readings 1 and 2 are 1382.4 kVAr and 2304 kVAr respectively\n",
        " d) The average kilovar demand is 1843.2 kVAr\n",
        " e) The average kilovoltampere demand is 3615.52 kVA\n"
       ]
      }
     ],
     "prompt_number": 43
    }
   ],
   "metadata": {}
  }
 ]
}