{
 "cells": [
  {
   "cell_type": "markdown",
   "metadata": {},
   "source": [
    "#2: Crystal Structure"
   ]
  },
  {
   "cell_type": "markdown",
   "metadata": {},
   "source": [
    "##Example number 2.1, Page number 31"
   ]
  },
  {
   "cell_type": "code",
   "execution_count": 2,
   "metadata": {
    "collapsed": false
   },
   "outputs": [
    {
     "name": "stdout",
     "output_type": "stream",
     "text": [
      "density is 5492.957 kg/m**3\n"
     ]
    }
   ],
   "source": [
    "#importing modules\n",
    "import math\n",
    "from __future__ import division\n",
    "\n",
    "#Variable declaration\n",
    "N=6.02*10**26;           #Avagadro Number\n",
    "n=8;    #number of atoms\n",
    "a=5.6*10**-10;    #lattice constant(m)\n",
    "M=72.59;     #atomic weight(amu)\n",
    "\n",
    "#Calculation\n",
    "rho=n*M/(a**3*N);     #density(kg/m**3)\n",
    "\n",
    "#Result\n",
    "print \"density is\",round(rho,3),\"kg/m**3\""
   ]
  },
  {
   "cell_type": "markdown",
   "metadata": {},
   "source": [
    "##Example number 2.2, Page number 32"
   ]
  },
  {
   "cell_type": "code",
   "execution_count": 3,
   "metadata": {
    "collapsed": false
   },
   "outputs": [
    {
     "name": "stdout",
     "output_type": "stream",
     "text": [
      "lattice constant is 0.2869 angstrom\n"
     ]
    }
   ],
   "source": [
    "#importing modules\n",
    "import math\n",
    "from __future__ import division\n",
    "\n",
    "#Variable declaration\n",
    "N=6.02*10**23;           #Avagadro Number\n",
    "n=2;\n",
    "rho=7860;    #density(kg/m**3)\n",
    "M=55.85;    #atomic weight(amu)\n",
    "\n",
    "#Calculation\n",
    "a=(n*M/(rho*N))**(1/3)*10**8;    #lattice constant(angstrom)\n",
    "\n",
    "#Result\n",
    "print \"lattice constant is\",round(a,4),\"angstrom\""
   ]
  },
  {
   "cell_type": "markdown",
   "metadata": {},
   "source": [
    "##Example number 2.3, Page number 32"
   ]
  },
  {
   "cell_type": "code",
   "execution_count": 4,
   "metadata": {
    "collapsed": false
   },
   "outputs": [
    {
     "name": "stdout",
     "output_type": "stream",
     "text": [
      "lattice constant is 3.517 angstrom\n"
     ]
    }
   ],
   "source": [
    "#importing modules\n",
    "import math\n",
    "from __future__ import division\n",
    "\n",
    "#Variable declaration\n",
    "N=6.02*10**26;           #Avagadro Number\n",
    "n=2;\n",
    "rho=530;    #density(kg/m**3)\n",
    "M=6.94;    #atomic weight(amu)\n",
    "\n",
    "#Calculation\n",
    "a=(n*M/(rho*N))**(1/3)*10**10;    #lattice constant(angstrom)\n",
    "\n",
    "#Result\n",
    "print \"lattice constant is\",round(a,3),\"angstrom\""
   ]
  },
  {
   "cell_type": "markdown",
   "metadata": {},
   "source": [
    "##Example number 2.4, Page number 32"
   ]
  },
  {
   "cell_type": "code",
   "execution_count": 5,
   "metadata": {
    "collapsed": false
   },
   "outputs": [
    {
     "name": "stdout",
     "output_type": "stream",
     "text": [
      "number of atoms is 2\n"
     ]
    }
   ],
   "source": [
    "#importing modules\n",
    "import math\n",
    "from __future__ import division\n",
    "\n",
    "#Variable declaration\n",
    "N=6.02*10**26;           #Avagadro Number\n",
    "rho=7870;    #density(kg/m**3)\n",
    "M=55.85;    #atomic weight(amu)\n",
    "a=2.9*10**-10;    #lattice constant(m)\n",
    "\n",
    "#Calculation\n",
    "n=a**3*rho*N/M;      #number of atoms\n",
    "\n",
    "#Result\n",
    "print \"number of atoms is\",int(n)"
   ]
  },
  {
   "cell_type": "markdown",
   "metadata": {},
   "source": [
    "##Example number 2.5, Page number 33"
   ]
  },
  {
   "cell_type": "code",
   "execution_count": 6,
   "metadata": {
    "collapsed": false
   },
   "outputs": [
    {
     "name": "stdout",
     "output_type": "stream",
     "text": [
      "density is 8933.25 kg/m**3\n",
      "answer in the book is wrong\n"
     ]
    }
   ],
   "source": [
    "#importing modules\n",
    "import math\n",
    "from __future__ import division\n",
    "\n",
    "#Variable declaration\n",
    "N=6.02*10**26;           #Avagadro Number\n",
    "M=63.5;    #atomic weight(amu)\n",
    "r=0.1278*10**-9;    #atomic radius(m)\n",
    "n=4;\n",
    "\n",
    "#Calculation\n",
    "a=r*math.sqrt(8);    #lattice constant(m)\n",
    "rho=n*M/(N*a**3);      #density(kg/m**3)\n",
    "\n",
    "#Result\n",
    "print \"density is\",round(rho,2),\"kg/m**3\"\n",
    "print \"answer in the book is wrong\""
   ]
  },
  {
   "cell_type": "markdown",
   "metadata": {},
   "source": [
    "##Example number 2.6, Page number 33"
   ]
  },
  {
   "cell_type": "code",
   "execution_count": 7,
   "metadata": {
    "collapsed": false
   },
   "outputs": [
    {
     "name": "stdout",
     "output_type": "stream",
     "text": [
      "percent volume change is 0.5 %\n"
     ]
    }
   ],
   "source": [
    "#importing modules\n",
    "import math\n",
    "from __future__ import division\n",
    "\n",
    "#Variable declaration\n",
    "r1=1.258*10**-10;     #radius(m)\n",
    "r2=1.292*10**-10;     #radius(m)\n",
    "\n",
    "#Calculation\n",
    "a_bcc=4*r1/math.sqrt(3);\n",
    "v=a_bcc**3;\n",
    "V1=v/2;\n",
    "a_fcc=2*math.sqrt(2)*r2;\n",
    "V2=a_fcc**3/4;\n",
    "V=(V1-V2)*100/V1;           #percent volume change is\",V,\"%\"\n",
    "\n",
    "#Result\n",
    "print \"percent volume change is\",round(V,1),\"%\""
   ]
  },
  {
   "cell_type": "markdown",
   "metadata": {},
   "source": [
    "##Example number 2.7, Page number 34"
   ]
  },
  {
   "cell_type": "code",
   "execution_count": 8,
   "metadata": {
    "collapsed": false
   },
   "outputs": [
    {
     "name": "stdout",
     "output_type": "stream",
     "text": [
      "maximum radius of sphere is 0.414 r\n"
     ]
    }
   ],
   "source": [
    "#importing modules\n",
    "import math\n",
    "from __future__ import division\n",
    "from sympy import *\n",
    "\n",
    "#Variable declaration\n",
    "r=Symbol('r')\n",
    "\n",
    "#Calculation\n",
    "a=4*r/math.sqrt(2);\n",
    "R=(4*r/(2*math.sqrt(2)))-r;\n",
    "\n",
    "#Result\n",
    "print \"maximum radius of sphere is\",round(R/r,3),\"r\""
   ]
  },
  {
   "cell_type": "markdown",
   "metadata": {},
   "source": [
    "##Example number 2.8, Page number 34"
   ]
  },
  {
   "cell_type": "code",
   "execution_count": 9,
   "metadata": {
    "collapsed": false
   },
   "outputs": [
    {
     "name": "stdout",
     "output_type": "stream",
     "text": [
      "distance between atoms is 2.81 angstrom\n"
     ]
    }
   ],
   "source": [
    "#importing modules\n",
    "import math\n",
    "from __future__ import division\n",
    "\n",
    "#Variable declaration\n",
    "N=6.023*10**23;           #Avagadro Number\n",
    "Mw=23+35.5;        #molecular weight of NaCl\n",
    "rho=2.18;    #density(gm/cm**3)\n",
    "\n",
    "#Calculation\n",
    "M=Mw/N;        #mass of 1 molecule(gm)\n",
    "Nv=rho/M;      #number of molecules per unit volume(mole/cm**3)\n",
    "Na=2*Nv;     #number of atoms\n",
    "a=(1/Na)**(1/3)*10**8;   #distance between atoms(angstrom)\n",
    "\n",
    "#Result\n",
    "print \"distance between atoms is\",round(a,2),\"angstrom\""
   ]
  }
 ],
 "metadata": {
  "kernelspec": {
   "display_name": "Python 2",
   "language": "python",
   "name": "python2"
  },
  "language_info": {
   "codemirror_mode": {
    "name": "ipython",
    "version": 2
   },
   "file_extension": ".py",
   "mimetype": "text/x-python",
   "name": "python",
   "nbconvert_exporter": "python",
   "pygments_lexer": "ipython2",
   "version": "2.7.9"
  }
 },
 "nbformat": 4,
 "nbformat_minor": 0
}
