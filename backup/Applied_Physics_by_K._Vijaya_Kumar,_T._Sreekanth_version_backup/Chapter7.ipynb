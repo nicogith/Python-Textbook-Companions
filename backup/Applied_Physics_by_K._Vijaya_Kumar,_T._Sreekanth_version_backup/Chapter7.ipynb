{
 "cells": [
  {
   "cell_type": "markdown",
   "metadata": {},
   "source": [
    "#7: Dielectrics"
   ]
  },
  {
   "cell_type": "markdown",
   "metadata": {},
   "source": [
    "##Example number 7.1, Page number 146"
   ]
  },
  {
   "cell_type": "code",
   "execution_count": 1,
   "metadata": {
    "collapsed": false
   },
   "outputs": [
    {
     "name": "stdout",
     "output_type": "stream",
     "text": [
      "electronic polarisability is 3.291 *10**-37 Fm**2\n",
      "answer varies due to rounding off errors\n"
     ]
    }
   ],
   "source": [
    "#importing modules\n",
    "import math\n",
    "from __future__ import division\n",
    "\n",
    "#Variable declaration\n",
    "epsilonr=3.75;       #relative dielectric constant\n",
    "T=27;    #temperature(C)\n",
    "gama=1/3;     #internal field constant\n",
    "rho=2050;     #density(kg/m**3)\n",
    "Ma=32;        #atomic weight(amu)\n",
    "Na=6.022*10**23;     #avagadro number\n",
    "epsilon0=8.85*10**-12;    \n",
    "\n",
    "#Calculation\n",
    "x=(epsilonr-1)/(epsilonr+2);\n",
    "alpha_e=x*Ma*3*epsilon0/(rho*Na);     #electronic polarisability(Fm**2)\n",
    "\n",
    "#Result\n",
    "print \"electronic polarisability is\",round(alpha_e*10**37,3),\"*10**-37 Fm**2\"\n",
    "print \"answer varies due to rounding off errors\""
   ]
  },
  {
   "cell_type": "markdown",
   "metadata": {},
   "source": [
    "##Example number 7.2, Page number 146"
   ]
  },
  {
   "cell_type": "code",
   "execution_count": 2,
   "metadata": {
    "collapsed": false
   },
   "outputs": [
    {
     "name": "stdout",
     "output_type": "stream",
     "text": [
      "capacitance is 8.85 PF\n",
      "charge on plates is 8.85e-10 C\n"
     ]
    }
   ],
   "source": [
    "#importing modules\n",
    "import math\n",
    "from __future__ import division\n",
    "\n",
    "#Variable declaration\n",
    "A=100*10**-4;      #area(m**2)\n",
    "epsilon0=8.85*10**-12;    \n",
    "d=1*10**-2;     #seperation(m)\n",
    "V=100;     #potential(V)\n",
    "\n",
    "#Calculation\n",
    "C=A*epsilon0/d;     #capacitance(PF)\n",
    "Q=C*V;         #charge on plates(C)\n",
    "\n",
    "#Result\n",
    "print \"capacitance is\",C*10**12,\"PF\"\n",
    "print \"charge on plates is\",Q,\"C\""
   ]
  },
  {
   "cell_type": "markdown",
   "metadata": {},
   "source": [
    "##Example number 7.3, Page number 147"
   ]
  },
  {
   "cell_type": "code",
   "execution_count": 3,
   "metadata": {
    "collapsed": false
   },
   "outputs": [
    {
     "name": "stdout",
     "output_type": "stream",
     "text": [
      "polarisability is 2.242e-41 Fm**2\n",
      "answer varies due to rounding off errors\n"
     ]
    }
   ],
   "source": [
    "#importing modules\n",
    "import math\n",
    "from __future__ import division\n",
    "\n",
    "#Variable declaration\n",
    "epsilonr=1.0000684;     #dielectric constant\n",
    "N=2.7*10**25;   #number of atoms\n",
    "epsilon0=8.85*10**-12;    \n",
    "\n",
    "#Calculation\n",
    "alpha_e=epsilon0*(epsilonr-1)/N;    #polarisability(Fm**2)\n",
    "\n",
    "#Result\n",
    "print \"polarisability is\",alpha_e,\"Fm**2\"\n",
    "print \"answer varies due to rounding off errors\""
   ]
  },
  {
   "cell_type": "markdown",
   "metadata": {},
   "source": [
    "##Example number 7.4, Page number 147"
   ]
  },
  {
   "cell_type": "code",
   "execution_count": 4,
   "metadata": {
    "collapsed": false
   },
   "outputs": [
    {
     "name": "stdout",
     "output_type": "stream",
     "text": [
      "dielectric constant is 2.538 F/m\n",
      "answer in the book is wrong\n"
     ]
    }
   ],
   "source": [
    "#importing modules\n",
    "import math\n",
    "from __future__ import division\n",
    "\n",
    "#Variable declaration\n",
    "alpha_e=10**-40;      #polarisability(Fm**2)\n",
    "N=3*10**28;    #density of atoms\n",
    "epsilon0=8.85*10**-12;    \n",
    "\n",
    "#Calculation\n",
    "x=N*alpha_e/epsilon0;\n",
    "epsilonr=(1+(2*x))/(1-x);     #dielectric constant(F/m)\n",
    "\n",
    "#Result\n",
    "print \"dielectric constant is\",round(epsilonr,3),\"F/m\"\n",
    "print \"answer in the book is wrong\""
   ]
  },
  {
   "cell_type": "markdown",
   "metadata": {},
   "source": [
    "##Example number 7.5, Page number 147"
   ]
  },
  {
   "cell_type": "code",
   "execution_count": 5,
   "metadata": {
    "collapsed": false
   },
   "outputs": [
    {
     "name": "stdout",
     "output_type": "stream",
     "text": [
      "voltage is 13.9 V\n"
     ]
    }
   ],
   "source": [
    "#importing modules\n",
    "import math\n",
    "from __future__ import division\n",
    "\n",
    "#Variable declaration\n",
    "A=650*10**-4;      #area(m**2)\n",
    "epsilon0=8.85*10**-12;    \n",
    "d=4*10**-2;     #seperation(m)\n",
    "Q=2*10**-10;    #charge(C)\n",
    "epsilonr=3.5;   #dielectric constant\n",
    "\n",
    "#Calculation\n",
    "C=A*epsilon0/d;    \n",
    "V=Q/C;    #voltage(V)\n",
    "\n",
    "#Result\n",
    "print \"voltage is\",round(V,1),\"V\""
   ]
  },
  {
   "cell_type": "markdown",
   "metadata": {},
   "source": [
    "##Example number 7.6, Page number 148"
   ]
  },
  {
   "cell_type": "code",
   "execution_count": 6,
   "metadata": {
    "collapsed": false
   },
   "outputs": [
    {
     "name": "stdout",
     "output_type": "stream",
     "text": [
      "polarisability is 5.877 *10**-35 Fm**2\n",
      "answer in the book is wrong\n"
     ]
    }
   ],
   "source": [
    "#importing modules\n",
    "import math\n",
    "from __future__ import division\n",
    "\n",
    "#Variable declaration\n",
    "A=6.45*10**-4;      #area(m**2)\n",
    "epsilon0=8.85*10**-12;    \n",
    "d=2*10**-3;     #seperation(m)\n",
    "epsilonr=5;   #dielectric constant\n",
    "N=6.023*10**23;   #avagadro number\n",
    "\n",
    "#Calculation\n",
    "alpha_e=epsilon0*(epsilonr-1)/N;    #polarisability(Fm**2)\n",
    "\n",
    "#Result\n",
    "print \"polarisability is\",round(alpha_e*10**35,3),\"*10**-35 Fm**2\"\n",
    "print \"answer in the book is wrong\""
   ]
  },
  {
   "cell_type": "markdown",
   "metadata": {},
   "source": [
    "##Example number 7.7, Page number 148"
   ]
  },
  {
   "cell_type": "code",
   "execution_count": 7,
   "metadata": {
    "collapsed": false
   },
   "outputs": [
    {
     "name": "stdout",
     "output_type": "stream",
     "text": [
      "radius of electron cloud is 5.86 *10**-11 m\n",
      "displacement is 6.9999 *10**-17 m\n"
     ]
    }
   ],
   "source": [
    "#importing modules\n",
    "import math\n",
    "from __future__ import division\n",
    "\n",
    "#Variable declaration\n",
    "epsilonr=1.0000684;     #dielectric constant\n",
    "Na=2.7*10**25;   #number of atoms\n",
    "x=1/(9*10**9);   \n",
    "E=10**6;   #electric field(V/m)\n",
    "e=1.6*10**-19;      #charge(c)\n",
    "Z=2;    #atomic number\n",
    "\n",
    "#Calculation\n",
    "r0=((epsilonr-1)/(4*math.pi*Na))**(1/3);     #radius of electron cloud(m)\n",
    "X=x*E*r0**3/(Z*e);        #displacement(m)\n",
    "\n",
    "#Result\n",
    "print \"radius of electron cloud is\",round(r0*10**11,2),\"*10**-11 m\"\n",
    "print \"displacement is\",round(X*10**17,4),\"*10**-17 m\""
   ]
  },
  {
   "cell_type": "markdown",
   "metadata": {},
   "source": [
    "##Example number 7.8, Page number 149"
   ]
  },
  {
   "cell_type": "code",
   "execution_count": 8,
   "metadata": {
    "collapsed": false
   },
   "outputs": [
    {
     "name": "stdout",
     "output_type": "stream",
     "text": [
      "electronic polarisability is 6.382 *10**-35 Fm**2\n",
      "answer in the book is wrong\n"
     ]
    }
   ],
   "source": [
    "#importing modules\n",
    "import math\n",
    "from __future__ import division\n",
    "\n",
    "#Variable declaration\n",
    "epsilonr=4;       #relative dielectric constant\n",
    "Na=2.08*10**23;     #avagadro number\n",
    "epsilon0=8.85*10**-12;    \n",
    "\n",
    "#Calculation\n",
    "x=(epsilonr-1)/(epsilonr+2);\n",
    "alpha_e=x*3*epsilon0/Na;     #electronic polarisability(Fm**2)\n",
    "\n",
    "#Result\n",
    "print \"electronic polarisability is\",round(alpha_e*10**35,3),\"*10**-35 Fm**2\"\n",
    "print \"answer in the book is wrong\""
   ]
  },
  {
   "cell_type": "markdown",
   "metadata": {},
   "source": [
    "##Example number 7.9, Page number 149"
   ]
  },
  {
   "cell_type": "code",
   "execution_count": 9,
   "metadata": {
    "collapsed": false
   },
   "outputs": [
    {
     "name": "stdout",
     "output_type": "stream",
     "text": [
      "energy in condenser is 2e-08 F\n",
      "energy in dielectric is 0.2 *10**-4 J\n",
      "answer in the book is wrong\n"
     ]
    }
   ],
   "source": [
    "#importing modules\n",
    "import math\n",
    "from __future__ import division\n",
    "\n",
    "#Variable declaration\n",
    "C=4*10**-6;    #capacitance(F)\n",
    "epsilonr=200;       #relative dielectric constant\n",
    "V=2000;       #voltage(V)\n",
    "\n",
    "#Calculation\n",
    "C0=C/epsilonr;    #energy in condenser(F)\n",
    "E=C0*V/2;      #energy in dielectric(J)\n",
    "\n",
    "#Result\n",
    "print \"energy in condenser is\",C0,\"F\"\n",
    "print \"energy in dielectric is\",E*10**4,\"*10**-4 J\"\n",
    "print \"answer in the book is wrong\""
   ]
  },
  {
   "cell_type": "markdown",
   "metadata": {},
   "source": [
    "##Example number 7.10, Page number 149"
   ]
  },
  {
   "cell_type": "code",
   "execution_count": 10,
   "metadata": {
    "collapsed": false
   },
   "outputs": [
    {
     "name": "stdout",
     "output_type": "stream",
     "text": [
      "polarisability is 0.185 *10**-40 Fm**2\n",
      "relative permittivity is 1.0000564 Fm**2\n"
     ]
    }
   ],
   "source": [
    "#importing modules\n",
    "import math\n",
    "from __future__ import division\n",
    "\n",
    "#Variable declaration\n",
    "epsilon0=8.85*10**-12;    \n",
    "N=2.7*10**25;   #density of atoms\n",
    "R=0.55*10**-10;    #radius(m)\n",
    "\n",
    "#Calculation\n",
    "alpha_e=4*math.pi*epsilon0*R**3;     #polarisability(Fm**2)\n",
    "epsilonr=(N*alpha_e/epsilon0)+1;     #relative permittivity\n",
    "\n",
    "#Result\n",
    "print \"polarisability is\",round(alpha_e*10**40,3),\"*10**-40 Fm**2\"\n",
    "print \"relative permittivity is\",round(epsilonr,7),\"Fm**2\""
   ]
  },
  {
   "cell_type": "markdown",
   "metadata": {},
   "source": [
    "##Example number 7.11, Page number 150"
   ]
  },
  {
   "cell_type": "code",
   "execution_count": 11,
   "metadata": {
    "collapsed": false
   },
   "outputs": [
    {
     "name": "stdout",
     "output_type": "stream",
     "text": [
      "field strength is 0.4237 *10**6 V/m\n",
      "total dipole moment is 0.4725 *10**-6 Coul. m\n",
      "answer in the book is wrong\n"
     ]
    }
   ],
   "source": [
    "#importing modules\n",
    "import math\n",
    "from __future__ import division\n",
    "\n",
    "#Variable declaration\n",
    "A=180*10**-4;     #area(m**2)\n",
    "epsilonr=8;     #relative permittivity\n",
    "C=3*10**-6;     #capacitance(F)\n",
    "V=10;          #potential(V)\n",
    "epsilon0=8.85*10**-12;    \n",
    "\n",
    "#Calculation\n",
    "E=V*C/(epsilon0*epsilonr);    #field strength(V/m)\n",
    "dm=epsilon0*(epsilonr-1)*A*E;     #total dipole moment(coul m)\n",
    "\n",
    "#Result\n",
    "print \"field strength is\",round(E/10**6,4),\"*10**6 V/m\"\n",
    "print \"total dipole moment is\",dm*10**6,\"*10**-6 Coul. m\"\n",
    "print \"answer in the book is wrong\""
   ]
  }
 ],
 "metadata": {
  "kernelspec": {
   "display_name": "Python 2",
   "language": "python",
   "name": "python2"
  },
  "language_info": {
   "codemirror_mode": {
    "name": "ipython",
    "version": 2
   },
   "file_extension": ".py",
   "mimetype": "text/x-python",
   "name": "python",
   "nbconvert_exporter": "python",
   "pygments_lexer": "ipython2",
   "version": "2.7.9"
  }
 },
 "nbformat": 4,
 "nbformat_minor": 0
}
