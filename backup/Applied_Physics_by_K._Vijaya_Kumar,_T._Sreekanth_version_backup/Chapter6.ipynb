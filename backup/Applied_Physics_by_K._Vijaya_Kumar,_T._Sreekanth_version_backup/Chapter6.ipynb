{
 "cells": [
  {
   "cell_type": "markdown",
   "metadata": {},
   "source": [
    "#6: Electron Theory of Metals"
   ]
  },
  {
   "cell_type": "markdown",
   "metadata": {},
   "source": [
    "##Example number 6.1, Page number 116"
   ]
  },
  {
   "cell_type": "code",
   "execution_count": 1,
   "metadata": {
    "collapsed": false
   },
   "outputs": [
    {
     "name": "stdout",
     "output_type": "stream",
     "text": [
      "relaxation time is 3.9797 *10**-14 sec\n"
     ]
    }
   ],
   "source": [
    "#importing modules\n",
    "import math\n",
    "from __future__ import division\n",
    "\n",
    "#Variable declaration\n",
    "rho=1.54*10**-8;    #resistivity(ohm m)\n",
    "n=5.8*10**28;       #conduction electrons(per m**3)\n",
    "e=1.6*10**-19;      #charge(c)\n",
    "m=9.1*10**-31;      #mass(kg)\n",
    "\n",
    "#Calculation\n",
    "towr=m/(n*e**2*rho);     #relaxation time(sec)\n",
    "\n",
    "#Result\n",
    "print \"relaxation time is\",round(towr*10**14,4),\"*10**-14 sec\""
   ]
  },
  {
   "cell_type": "markdown",
   "metadata": {},
   "source": [
    "##Example number 6.2, Page number 116"
   ]
  },
  {
   "cell_type": "code",
   "execution_count": 2,
   "metadata": {
    "collapsed": false
   },
   "outputs": [
    {
     "name": "stdout",
     "output_type": "stream",
     "text": [
      "mean free path is 2.89 *10**-9 m\n",
      "answer given in the book is wrong\n"
     ]
    }
   ],
   "source": [
    "#importing modules\n",
    "import math\n",
    "from __future__ import division\n",
    "\n",
    "#Variable declaration\n",
    "T=300;    #temperature(K)\n",
    "n=8.5*10**28;    #density(per m**3)\n",
    "rho=1.69*10**-8;   #resistivity(ohm/m**3)\n",
    "e=1.6*10**-19;      #charge(c)\n",
    "m=9.11*10**-31;      #mass(kg)\n",
    "Kb=1.38*10**-23;     #boltzmann constant(J/k)\n",
    "\n",
    "#Calculation\n",
    "rho=math.sqrt(3*Kb*m*T)/(n*e**2*rho);     #mean free path(m)\n",
    "\n",
    "#Result\n",
    "print \"mean free path is\",round(rho*10**9,2),\"*10**-9 m\"\n",
    "print \"answer given in the book is wrong\""
   ]
  },
  {
   "cell_type": "markdown",
   "metadata": {},
   "source": [
    "##Example number 6.3, Page number 117"
   ]
  },
  {
   "cell_type": "code",
   "execution_count": 4,
   "metadata": {
    "collapsed": false
   },
   "outputs": [
    {
     "name": "stdout",
     "output_type": "stream",
     "text": [
      "relaxation time is 3.824 *10**-17 sec\n",
      "answer in the book varies due to rounding off errors\n"
     ]
    }
   ],
   "source": [
    "#importing modules\n",
    "import math\n",
    "from __future__ import division\n",
    "\n",
    "#Variable declaration\n",
    "rho=1.43*10**-8;    #resistivity(ohm m)\n",
    "n=6.5*10**28;       #conduction electrons(per m**3)\n",
    "e=1.6*10**-19;      #charge(c)\n",
    "m=9.1*10**-34;      #mass(kg)\n",
    "\n",
    "#Calculation\n",
    "towr=m/(n*e**2*rho);     #relaxation time(sec)\n",
    "\n",
    "#Result\n",
    "print \"relaxation time is\",round(towr*10**17,3),\"*10**-17 sec\"\n",
    "print \"answer in the book varies due to rounding off errors\""
   ]
  },
  {
   "cell_type": "markdown",
   "metadata": {},
   "source": [
    "##Example number 6.4, Page number 117"
   ]
  },
  {
   "cell_type": "code",
   "execution_count": 5,
   "metadata": {
    "collapsed": false
   },
   "outputs": [
    {
     "name": "stdout",
     "output_type": "stream",
     "text": [
      "temperature is 0.1088 K\n",
      "answer given in the book is wrong\n"
     ]
    }
   ],
   "source": [
    "#importing modules\n",
    "import math\n",
    "from __future__ import division\n",
    "\n",
    "#Variable declaration\n",
    "PE=1/100;     #probability\n",
    "E_EF=0.5;     #energy difference\n",
    "\n",
    "#Calculation\n",
    "x=math.log((1/PE)-1);\n",
    "T=E_EF/x;     #temperature(K)\n",
    "\n",
    "#Result\n",
    "print \"temperature is\",round(T,4),\"K\"\n",
    "print \"answer given in the book is wrong\""
   ]
  },
  {
   "cell_type": "markdown",
   "metadata": {},
   "source": [
    "##Example number 6.5, Page number 117"
   ]
  },
  {
   "cell_type": "code",
   "execution_count": 6,
   "metadata": {
    "collapsed": false
   },
   "outputs": [
    {
     "name": "stdout",
     "output_type": "stream",
     "text": [
      "mobility is 0.427 *10**-2 m/Vs\n",
      "average time is 2.43 *10**-14 sec\n"
     ]
    }
   ],
   "source": [
    "#importing modules\n",
    "import math\n",
    "from __future__ import division\n",
    "\n",
    "#Variable declaration\n",
    "d=8.92*10**3;     #density(kg/m**3)\n",
    "rho=1.73*10**-8;    #resistivity(ohm m)\n",
    "M=63.5;    #atomic weight\n",
    "N=6.02*10**26;    #avagadro number\n",
    "e=1.6*10**-19;      #charge(c)\n",
    "m=9.1*10**-31;      #mass(kg)\n",
    "\n",
    "#Calculation\n",
    "n=d*N/M;\n",
    "mew=1/(rho*n*e);      #mobility(m/Vs)\n",
    "tow=m/(n*e**2*rho);   #average time(sec)\n",
    "\n",
    "#Result\n",
    "print \"mobility is\",round(mew*10**2,3),\"*10**-2 m/Vs\"\n",
    "print \"average time is\",round(tow*10**14,2),\"*10**-14 sec\""
   ]
  },
  {
   "cell_type": "markdown",
   "metadata": {},
   "source": [
    "##Example number 6.6, Page number 118"
   ]
  },
  {
   "cell_type": "code",
   "execution_count": 7,
   "metadata": {
    "collapsed": false
   },
   "outputs": [
    {
     "name": "stdout",
     "output_type": "stream",
     "text": [
      "temperature is 290.2 K\n"
     ]
    }
   ],
   "source": [
    "#importing modules\n",
    "import math\n",
    "from __future__ import division\n",
    "\n",
    "#Variable declaration\n",
    "EF=5.5;     #energy(eV)\n",
    "FE=10/100;   #probability\n",
    "e=1.6*10**-19;      #charge(c)\n",
    "Kb=1.38*10**-23;     #boltzmann constant(J/k)\n",
    "\n",
    "#Calculation\n",
    "E=EF+(EF/100);    \n",
    "x=(E-EF)*e;\n",
    "y=x/Kb;\n",
    "z=(1/FE)-1;\n",
    "T=y/math.log(z);      #temperature(K)\n",
    "\n",
    "#Result\n",
    "print \"temperature is\",round(T,1),\"K\""
   ]
  },
  {
   "cell_type": "markdown",
   "metadata": {},
   "source": [
    "##Example number 6.7, Page number 119"
   ]
  },
  {
   "cell_type": "code",
   "execution_count": 8,
   "metadata": {
    "collapsed": false
   },
   "outputs": [
    {
     "name": "stdout",
     "output_type": "stream",
     "text": [
      "kinetic energy is 39.2 *10**-3 eV\n",
      "velocity is 1930.27 m/s\n",
      "answer given in the book is wrong\n"
     ]
    }
   ],
   "source": [
    "#importing modules\n",
    "import math\n",
    "from __future__ import division\n",
    "\n",
    "#Variable declaration\n",
    "Kb=1.38*10**-23;     #boltzmann constant(J/k)\n",
    "T=303;     #temperature(K)\n",
    "e=1.6*10**-19;      #charge(c)\n",
    "MH=2*1.008*1.67*10**-27;   #mass(kg)   \n",
    "\n",
    "#Calculation\n",
    "KE=3*Kb*T/(2*e);     #kinetic energy(eV)\n",
    "cbar=math.sqrt(3*Kb*T/MH);     #velocity(m/s)\n",
    "\n",
    "#Result\n",
    "print \"kinetic energy is\",round(KE*10**3,1),\"*10**-3 eV\"\n",
    "print \"velocity is\",round(cbar,2),\"m/s\"\n",
    "print \"answer given in the book is wrong\""
   ]
  },
  {
   "cell_type": "markdown",
   "metadata": {},
   "source": [
    "##Example number 6.8, Page number 119"
   ]
  },
  {
   "cell_type": "code",
   "execution_count": 9,
   "metadata": {
    "collapsed": false
   },
   "outputs": [
    {
     "name": "stdout",
     "output_type": "stream",
     "text": [
      "density of electrons is 557.9 *10**26 per m**3\n",
      "mobility of electrons is 7.8416 *10**-5 m**2/Vs\n",
      "collision time is 44.6 n sec\n"
     ]
    }
   ],
   "source": [
    "#importing modules\n",
    "import math\n",
    "from __future__ import division\n",
    "\n",
    "#Variable declaration\n",
    "rho=10**4;      #density of silver(kg/m**3)\n",
    "N=6.02*10**26;    #avagadro number\n",
    "e=1.6*10**-19;      #charge(c)\n",
    "m=9.1*10**-31;      #mass(kg)\n",
    "MA=107.9;     #atomic weight(kg)\n",
    "sigma=7*10**7;    #conductivity(per ohm m)\n",
    "\n",
    "#Calculation\n",
    "n=rho*N/MA;       #density of electrons(per m**3)\n",
    "mew=sigma/(n*e*10**2);    #mobility of electrons(m**2/Vs)\n",
    "tow=sigma*m*10**15/(n*e**2);    #collision time(n sec)\n",
    "\n",
    "#Result\n",
    "print \"density of electrons is\",round(n/10**26,1),\"*10**26 per m**3\"\n",
    "print \"mobility of electrons is\",round(mew*10**5,4),\"*10**-5 m**2/Vs\"\n",
    "print \"collision time is\",round(tow,1),\"n sec\""
   ]
  },
  {
   "cell_type": "markdown",
   "metadata": {},
   "source": [
    "##Example number 6.9, Page number 120"
   ]
  },
  {
   "cell_type": "code",
   "execution_count": 10,
   "metadata": {
    "collapsed": false
   },
   "outputs": [
    {
     "name": "stdout",
     "output_type": "stream",
     "text": [
      "electron velocity is 1.875 *10**6 m/s\n",
      "proton velocity is 43.774 *10**3 m/s\n",
      "answers given in the book are wrong\n"
     ]
    }
   ],
   "source": [
    "#importing modules\n",
    "import math\n",
    "from __future__ import division\n",
    "\n",
    "#Variable declaration\n",
    "Ee=10;     #electron kinetic energy(eV)\n",
    "Ep=10;     #proton kinetic energy(eV)\n",
    "e=1.6*10**-19;      #charge(c)\n",
    "me=9.1*10**-31;      #mass(kg)\n",
    "mp=1.67*10**-27;     #mass(kg)\n",
    "\n",
    "#Calculation\n",
    "cebar=math.sqrt(2*Ee*e/me);    #electron velocity(m/s)\n",
    "cpbar=math.sqrt(2*Ep*e/mp);    #proton velocity(m/s)\n",
    "\n",
    "#Result\n",
    "print \"electron velocity is\",round(cebar/10**6,3),\"*10**6 m/s\"\n",
    "print \"proton velocity is\",round(cpbar/10**3,3),\"*10**3 m/s\"\n",
    "print \"answers given in the book are wrong\""
   ]
  },
  {
   "cell_type": "markdown",
   "metadata": {},
   "source": [
    "##Example number 6.10, Page number 120"
   ]
  },
  {
   "cell_type": "code",
   "execution_count": 11,
   "metadata": {
    "collapsed": false
   },
   "outputs": [
    {
     "name": "stdout",
     "output_type": "stream",
     "text": [
      "drift velocity is 7.35294 *10**-4 m/s\n"
     ]
    }
   ],
   "source": [
    "#importing modules\n",
    "import math\n",
    "from __future__ import division\n",
    "\n",
    "#Variable declaration\n",
    "A=10*10**-6;     #area(m**2)\n",
    "i=100;    #current(amp)\n",
    "n=8.5*10**28;    #number of electrons\n",
    "e=1.6*10**-19;      #charge(c)\n",
    "\n",
    "#Calculation\n",
    "vd=i/(n*A*e);     #drift velocity(m/s)\n",
    "\n",
    "#Result\n",
    "print \"drift velocity is\",round(vd*10**4,5),\"*10**-4 m/s\""
   ]
  },
  {
   "cell_type": "markdown",
   "metadata": {},
   "source": [
    "##Example number 6.11, Page number 121"
   ]
  },
  {
   "cell_type": "code",
   "execution_count": 12,
   "metadata": {
    "collapsed": false
   },
   "outputs": [
    {
     "name": "stdout",
     "output_type": "stream",
     "text": [
      "thermal conductivity is 205.675 W/mK\n"
     ]
    }
   ],
   "source": [
    "#importing modules\n",
    "import math\n",
    "from __future__ import division\n",
    "\n",
    "#Variable declaration\n",
    "Kb=1.38*10**-23;     #boltzmann constant(J/k)\n",
    "m=9.1*10**-31;      #mass(kg)\n",
    "tow=3*10**-14;    #relaxation time(sec)\n",
    "n=8*10**28;      #density of electrons(per m**3)\n",
    "T=273;     #temperature(K)\n",
    "\n",
    "#Calculation\n",
    "sigma_T=3*n*tow*T*Kb**2/(2*m);      #thermal conductivity(W/mK)\n",
    "\n",
    "#Result\n",
    "print \"thermal conductivity is\",round(sigma_T,3),\"W/mK\""
   ]
  }
 ],
 "metadata": {
  "kernelspec": {
   "display_name": "Python 2",
   "language": "python",
   "name": "python2"
  },
  "language_info": {
   "codemirror_mode": {
    "name": "ipython",
    "version": 2
   },
   "file_extension": ".py",
   "mimetype": "text/x-python",
   "name": "python",
   "nbconvert_exporter": "python",
   "pygments_lexer": "ipython2",
   "version": "2.7.9"
  }
 },
 "nbformat": 4,
 "nbformat_minor": 0
}
