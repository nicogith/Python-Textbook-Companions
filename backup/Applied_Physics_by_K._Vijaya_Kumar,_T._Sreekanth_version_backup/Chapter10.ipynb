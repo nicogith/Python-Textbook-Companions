{
 "cells": [
  {
   "cell_type": "markdown",
   "metadata": {},
   "source": [
    "#10: Superconductivity"
   ]
  },
  {
   "cell_type": "markdown",
   "metadata": {},
   "source": [
    "##Example number 10.1, Page number 224"
   ]
  },
  {
   "cell_type": "code",
   "execution_count": 1,
   "metadata": {
    "collapsed": false
   },
   "outputs": [
    {
     "name": "stdout",
     "output_type": "stream",
     "text": [
      "critical field is 3.365 *10**3 A/m\n"
     ]
    }
   ],
   "source": [
    "#importing modules\n",
    "import math\n",
    "from __future__ import division\n",
    "\n",
    "#Variable declaration\n",
    "T=5;     #temperature(K)\n",
    "Tc=7.2;   #critical temperature(K)\n",
    "H0=6.5*10**3;   #critical magnetic field(A/m)\n",
    "\n",
    "#Calculation\n",
    "Hc=H0*(1-(T/Tc)**2);    #critical field(A/m)\n",
    "\n",
    "#Result\n",
    "print \"critical field is\",round(Hc/10**3,3),\"*10**3 A/m\""
   ]
  },
  {
   "cell_type": "markdown",
   "metadata": {},
   "source": [
    "##Example number 10.2, Page number 225"
   ]
  },
  {
   "cell_type": "code",
   "execution_count": 2,
   "metadata": {
    "collapsed": false
   },
   "outputs": [
    {
     "name": "stdout",
     "output_type": "stream",
     "text": [
      "critical field is 1.567 *10**3 A/m\n"
     ]
    }
   ],
   "source": [
    "#importing modules\n",
    "import math\n",
    "from __future__ import division\n",
    "\n",
    "#Variable declaration\n",
    "T=2.5;     #temperature(K)\n",
    "Tc=3.5;   #critical temperature(K)\n",
    "H0=3.2*10**3;   #critical magnetic field(A/m)\n",
    "\n",
    "#Calculation\n",
    "Hc=H0*(1-(T/Tc)**2);    #critical field(A/m)\n",
    "\n",
    "#Result\n",
    "print \"critical field is\",round(Hc/10**3,3),\"*10**3 A/m\""
   ]
  },
  {
   "cell_type": "markdown",
   "metadata": {},
   "source": [
    "##Example number 10.3, Page number 225"
   ]
  },
  {
   "cell_type": "code",
   "execution_count": 6,
   "metadata": {
    "collapsed": false
   },
   "outputs": [
    {
     "name": "stdout",
     "output_type": "stream",
     "text": [
      "critical temperature is 6.928 K\n",
      "answer given in the book is wrong\n"
     ]
    }
   ],
   "source": [
    "#importing modules\n",
    "import math\n",
    "from __future__ import division\n",
    "\n",
    "#Variable declaration\n",
    "Hc=5*10**3;    #critical magnetic field(A/m)\n",
    "T=6;     #temperature(K)\n",
    "H0=2*10**4;   #critical magnetic field(A/m)\n",
    "\n",
    "#Calculation\n",
    "Tc=T/math.sqrt(1-(Hc/H0));     #critical temperature(K)\n",
    "\n",
    "#Result\n",
    "print \"critical temperature is\",round(Tc,3),\"K\"\n",
    "print \"answer given in the book is wrong\""
   ]
  },
  {
   "cell_type": "markdown",
   "metadata": {},
   "source": [
    "##Example number 10.4, Page number 225"
   ]
  },
  {
   "cell_type": "code",
   "execution_count": 8,
   "metadata": {
    "collapsed": false
   },
   "outputs": [
    {
     "name": "stdout",
     "output_type": "stream",
     "text": [
      "critical current is 251.3 amp\n",
      "answer in the book varies due to rounding off errors\n"
     ]
    }
   ],
   "source": [
    "#importing modules\n",
    "import math\n",
    "from __future__ import division\n",
    "\n",
    "#Variable declaration\n",
    "Hc=2*10**3;    #critical magnetic field(A/m)\n",
    "r=0.02;    #radius(m)\n",
    "\n",
    "#Calculation\n",
    "Ic=2*math.pi*r*Hc;     #critical current(amp)\n",
    "\n",
    "#Result\n",
    "print \"critical current is\",round(Ic,1),\"amp\"\n",
    "print \"answer in the book varies due to rounding off errors\""
   ]
  },
  {
   "cell_type": "markdown",
   "metadata": {},
   "source": [
    "##Example number 10.5, Page number 225"
   ]
  },
  {
   "cell_type": "code",
   "execution_count": 9,
   "metadata": {
    "collapsed": false
   },
   "outputs": [
    {
     "name": "stdout",
     "output_type": "stream",
     "text": [
      "isotopic mass is 191.75 amu\n"
     ]
    }
   ],
   "source": [
    "#importing modules\n",
    "import math\n",
    "from __future__ import division\n",
    "\n",
    "#Variable declaration\n",
    "T1=5;     #temperature(K)\n",
    "T2=5.1;     #temperature(K)\n",
    "M1=199.5;   #isotopic mass(amu)\n",
    "\n",
    "#Calculation\n",
    "M2=M1*(T1/T2)**2;    #isotopic mass(amu)\n",
    "\n",
    "#Result\n",
    "print \"isotopic mass is\",round(M2,2),\"amu\""
   ]
  },
  {
   "cell_type": "markdown",
   "metadata": {},
   "source": [
    "##Example number 10.6, Page number 226"
   ]
  },
  {
   "cell_type": "code",
   "execution_count": 12,
   "metadata": {
    "collapsed": false
   },
   "outputs": [
    {
     "name": "stdout",
     "output_type": "stream",
     "text": [
      "critical field is 3.0469 *10**4 A/m\n",
      "critical current is 287.161 amp\n",
      "answer in the book varies due to rounding off errors\n"
     ]
    }
   ],
   "source": [
    "#importing modules\n",
    "import math\n",
    "from __future__ import division\n",
    "\n",
    "#Variable declaration\n",
    "T=5;     #temperature(K)\n",
    "Tc=8;   #critical temperature(K)\n",
    "H0=5*10**4;   #critical magnetic field(A/m)\n",
    "r=1.5*10**-3;    #radius(m)\n",
    "\n",
    "#Calculation\n",
    "Hc=H0*(1-(T/Tc)**2);    #critical field(A/m)\n",
    "Ic=2*math.pi*r*Hc;     #critical current(amp)\n",
    "\n",
    "#Result\n",
    "print \"critical field is\",round(Hc/10**4,4),\"*10**4 A/m\"\n",
    "print \"critical current is\",round(Ic,3),\"amp\"\n",
    "print \"answer in the book varies due to rounding off errors\""
   ]
  },
  {
   "cell_type": "markdown",
   "metadata": {},
   "source": [
    "##Example number 10.7, Page number 226"
   ]
  },
  {
   "cell_type": "code",
   "execution_count": 13,
   "metadata": {
    "collapsed": false
   },
   "outputs": [
    {
     "name": "stdout",
     "output_type": "stream",
     "text": [
      "critical temperature is 4.1447 K\n"
     ]
    }
   ],
   "source": [
    "#importing modules\n",
    "import math\n",
    "from __future__ import division\n",
    "\n",
    "#Variable declaration\n",
    "Tc1=4.185;     #critical temperature(K)\n",
    "M1=199.5;   #isotopic mass(amu)\n",
    "M2=203.4;   #isotopic mass(amu)\n",
    "\n",
    "#Calculation\n",
    "Tc2=Tc1*math.sqrt(M1/M2);      #critical temperature(K)\n",
    "\n",
    "#Result\n",
    "print \"critical temperature is\",round(Tc2,4),\"K\""
   ]
  },
  {
   "cell_type": "markdown",
   "metadata": {},
   "source": [
    "##Example number 10.8, Page number 226"
   ]
  },
  {
   "cell_type": "code",
   "execution_count": 14,
   "metadata": {
    "collapsed": false
   },
   "outputs": [
    {
     "name": "stdout",
     "output_type": "stream",
     "text": [
      "frequency is 4.105 *10**11 Hz\n"
     ]
    }
   ],
   "source": [
    "#importing modules\n",
    "import math\n",
    "from __future__ import division\n",
    "\n",
    "#Variable declaration\n",
    "e=1.6*10**-19;    #charge(c)\n",
    "h=6.626*10**-36;   #plank constant\n",
    "V=8.5*10**-6;    #voltage(V)\n",
    "\n",
    "#Calculation\n",
    "new=2*e*V/h;    #frequency(Hz)\n",
    "\n",
    "#Result\n",
    "print \"frequency is\",round(new/10**11,3),\"*10**11 Hz\""
   ]
  },
  {
   "cell_type": "markdown",
   "metadata": {},
   "source": [
    "##Example number 10.9, Page number 227"
   ]
  },
  {
   "cell_type": "code",
   "execution_count": 15,
   "metadata": {
    "collapsed": false
   },
   "outputs": [
    {
     "name": "stdout",
     "output_type": "stream",
     "text": [
      "critical temperature is 30.0 K\n"
     ]
    }
   ],
   "source": [
    "#importing modules\n",
    "import math\n",
    "from __future__ import division\n",
    "\n",
    "#Variable declaration\n",
    "Tc1=5;     #critical temperature(K)\n",
    "P1=1;   #pressure(mm)\n",
    "P2=6;   #pressure(mm)\n",
    "\n",
    "#Calculation\n",
    "Tc2=Tc1*P2/P1;      #critical temperature(K)\n",
    "\n",
    "#Result\n",
    "print \"critical temperature is\",Tc2,\"K\""
   ]
  },
  {
   "cell_type": "markdown",
   "metadata": {},
   "source": [
    "##Example number 10.10, Page number 227"
   ]
  },
  {
   "cell_type": "code",
   "execution_count": 16,
   "metadata": {
    "collapsed": false
   },
   "outputs": [
    {
     "name": "stdout",
     "output_type": "stream",
     "text": [
      "maximum critical temperature is 7.782 K\n",
      "answer given in the book is wrong\n"
     ]
    }
   ],
   "source": [
    "#importing modules\n",
    "import math\n",
    "from __future__ import division\n",
    "\n",
    "#Variable declaration\n",
    "Hc=6*10**5;    #critical magnetic field(A/m)\n",
    "Tc=8.7;     #critical temperature(K)\n",
    "H0=3*10**6;   #critical magnetic field(A/m)\n",
    "\n",
    "#Calculation\n",
    "T=Tc*math.sqrt(1-(Hc/H0));     #maximum critical temperature(K)\n",
    "\n",
    "#Result\n",
    "print \"maximum critical temperature is\",round(T,3),\"K\"\n",
    "print \"answer given in the book is wrong\""
   ]
  }
 ],
 "metadata": {
  "kernelspec": {
   "display_name": "Python 2",
   "language": "python",
   "name": "python2"
  },
  "language_info": {
   "codemirror_mode": {
    "name": "ipython",
    "version": 2
   },
   "file_extension": ".py",
   "mimetype": "text/x-python",
   "name": "python",
   "nbconvert_exporter": "python",
   "pygments_lexer": "ipython2",
   "version": "2.7.9"
  }
 },
 "nbformat": 4,
 "nbformat_minor": 0
}
