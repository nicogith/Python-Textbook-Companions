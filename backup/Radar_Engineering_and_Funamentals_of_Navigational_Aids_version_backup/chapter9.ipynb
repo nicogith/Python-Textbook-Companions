{
 "metadata": {
  "name": "raju chapter 9"
 },
 "nbformat": 3,
 "nbformat_minor": 0,
 "worksheets": [
  {
   "cells": [
    {
     "cell_type": "heading",
     "level": 1,
     "metadata": {},
     "source": "Chapter 9:Radar Antennas"
    },
    {
     "cell_type": "heading",
     "level": 2,
     "metadata": {},
     "source": "Example 9.1,Page No:352"
    },
    {
     "cell_type": "code",
     "collapsed": false,
     "input": "import math\n\n#variable declaration\nDa    = 2.5;                #diameter of parabolic antenna in m\nF     = 5*10**9;           #radar operating frequency in hz\nVo    = 3*10**8;            #velocity of EM wave in m/s\n\n#Calculations\nlamda = Vo/float(F);            #wavelength\nNNBW  = 140*(lamda/float(Da));\nHPBW  = 70*(lamda/float(Da));          #half power beamwidth in deg\n\n#result\n\nprint'NNBW of parabolic reflector is %g'%(NNBW),' degrees';\nprint'HPBW of parabolic reflector is %g'%(HPBW),' degrees';\n",
     "language": "python",
     "metadata": {},
     "outputs": [
      {
       "output_type": "stream",
       "stream": "stdout",
       "text": "NNBW of parabolic reflector is 3.36  degrees\nHPBW of parabolic reflector is 1.68  degrees\n"
      }
     ],
     "prompt_number": 1
    },
    {
     "cell_type": "heading",
     "level": 2,
     "metadata": {},
     "source": "Example 9.2,Page No:352"
    },
    {
     "cell_type": "code",
     "collapsed": false,
     "input": "import math\n\n#variable declaration\nDa    = 2.5;           #diameter of parabolic antenna in m\nF     = 5*10**9;        #radar operating frequency in hz\nVo    = 3*10**8;        #velocity of EM wave in m/s\n\n#Calculations\nlamda = Vo/float(F);       #wavelength\nGp    = 6.4*(Da/float(lamda))**(2);     #gain of parabolic reflector\nG     = 10*math.log10(Gp);           #gain in dB\n\n#result\n\nprint'Gain of parabolic reflector is %3.2f'%G,' dB';",
     "language": "python",
     "metadata": {},
     "outputs": [
      {
       "output_type": "stream",
       "stream": "stdout",
       "text": "Gain of parabolic reflector is 40.46  dB\n"
      }
     ],
     "prompt_number": 5
    },
    {
     "cell_type": "heading",
     "level": 2,
     "metadata": {},
     "source": "Example 9.3,Page No:352"
    },
    {
     "cell_type": "code",
     "collapsed": false,
     "input": "import math\n\n#variable declaration\n\nDa    = 0.15;              #diameter of parabolic antenna in m\nF     = 9*10**9;            #radar operating frequency in hz\nVo    = 3*10**8;            #velocity of EM wave in m/s\n\n#Calculations\n\nlamda   = Vo/float(F);                         #wavelength\nGp      = 6.4*(Da/float(lamda))**(2);          #gain of parabolic reflector\nG       = 10*math.log10(Gp);                   #gain in dB\nNNBW    = 140*(lamda/float(Da));\nHPBW    = 70*(lamda/float(Da));                 #half power bandwidth in deg\n\n#result\nprint'NNBW of parabolic reflector is %3.2f'%(NNBW),' degrees';\nprint'HPBW of parabolic reflector is %3.2f'%(HPBW),' degrees';\nprint'Gain of parabolic reflector is %3.2f'%G,;'dB';",
     "language": "python",
     "metadata": {},
     "outputs": [
      {
       "output_type": "stream",
       "stream": "stdout",
       "text": "NNBW of parabolic reflector is 31.11  degrees\nHPBW of parabolic reflector is 15.56  degrees\nGain of parabolic reflector is 21.13\n"
      }
     ],
     "prompt_number": 5
    },
    {
     "cell_type": "heading",
     "level": 2,
     "metadata": {},
     "source": "Example 9.4,Page No:353"
    },
    {
     "cell_type": "code",
     "collapsed": false,
     "input": "import math\n\n#variable declaration\nDa    = 2;                       #diameter of parabolic antenna in m\nF     = 2*10**9;                   #radar operating frequency in hz\nVo    = 3*10**8;                    #velocity of EM wave in m/s\n\n#Calculations\nlamda  = Vo/float(F);                  #wavelength\nGp     = 6.4*(Da/float(lamda))**(2);       #gain of parabolic reflector\nG      = 10*math.log10(Gp);                   #gain in dB\n\n#result\nprint'Gain of parabolic reflector is %3.2f'%G,' dB';",
     "language": "python",
     "metadata": {},
     "outputs": [
      {
       "output_type": "stream",
       "stream": "stdout",
       "text": "Gain of parabolic reflector is 30.56  dB\n"
      }
     ],
     "prompt_number": 4
    },
    {
     "cell_type": "heading",
     "level": 2,
     "metadata": {},
     "source": "Example 7.5,Page No:353"
    },
    {
     "cell_type": "code",
     "collapsed": false,
     "input": "import math\n\n#variable declaration\n\nF     = 6*10**9;                 #radar operating frequency in hz\nVo    = 3*10**8;                  #velocity of EM wave in m/s\nNNBW  = 5;                        #Null to Null beamwidth\n\n#Calculations\nlamda = Vo/float(F);              #wavelength\n\nDa  = 140*(lamda/float(NNBW));\nHPBW  = 70*(lamda/float(Da));              #half power beamwidth in deg\nGp    = 6.4*(Da/float(lamda))**2;           #gain of parabolic reflector\nG     = 10*math.log10(Gp);                    #gain in dB\n\n#result\nprint'Mouth Diameter of paraboloid is %g'%Da,' m';\nprint'HPBW of parabolic reflector is %g'%(HPBW),' degrees';\n\nprint'Gain of parabolic reflector is %g'%G,' dB';\nprint'Gain of parabolic reflector is %g'%Gp;\n",
     "language": "python",
     "metadata": {},
     "outputs": [
      {
       "output_type": "stream",
       "stream": "stdout",
       "text": "Mouth Diameter of paraboloid is 1.4  m\nHPBW of parabolic reflector is 2.5  degrees\nGain of parabolic reflector is 37.005  dB\nGain of parabolic reflector is 5017.6\n"
      }
     ],
     "prompt_number": 6
    },
    {
     "cell_type": "heading",
     "level": 2,
     "metadata": {},
     "source": "Example 9.6,Page No:354"
    },
    {
     "cell_type": "code",
     "collapsed": false,
     "input": "import math\n\n#variable declaration\n\nF     = 9*10**9;            #radar operating frequency in hz\nVo    = 3*10**8;              #velocity of EM wave in m/s\nNNBW  = 5;                    #Null to Null beamwidth\nDa    = 5;                      #diameter of antenna in m\n\n#Calculations\n\nlamda = Vo/float(F);                    #wavelength\nA     = (math.pi*Da*Da)/float(4);          #actural area of antenna\nAc    = 0.65*A;                         #Capture Area\n\nD     = 6.4*(Da/float(lamda))**2;               #directivity of antenna\nD1     = 10*math.log10(D);                      #gain in dB\nHPBW  = 70*(lamda/float(Da));                    #half power beamwidth in deg\nNNBW  = 2*HPBW;                                #null to null beamwidth \n\n#result\nprint'HPBW of parabolic reflector is %2.2g'%(HPBW),' degrees';\nprint'NNBW of parabolic reflector is %2.2g'%(NNBW),' degrees';\nprint'Directivity is %g'%D1,' dB';\nprint'Capture area is %g'%Ac,' m^2';\n\n",
     "language": "python",
     "metadata": {},
     "outputs": [
      {
       "output_type": "stream",
       "stream": "stdout",
       "text": "HPBW of parabolic reflector is 0.47  degrees\nNNBW of parabolic reflector is 0.93  degrees\nDirectivity is 51.5836  dB\nCapture area is 12.7627  m^2\n"
      }
     ],
     "prompt_number": 7
    },
    {
     "cell_type": "heading",
     "level": 2,
     "metadata": {},
     "source": "Example 9.7,Page No:354"
    },
    {
     "cell_type": "code",
     "collapsed": false,
     "input": "import math\n\n#variable declaration\n\nDa    = 5;             #diameter of parabolic antenna in m\nF     = 5*10**9;       #radar operating frequency in hz\nVo    = 3*10**8;       #velocity of EM wave in m/s\n\n#Calculations\n\nlamda = Vo/float(F);                 #wavelength\nR     = (2*Da*Da)/float(lamda);       #min distance b/w antennas\n\n#result\nprint'Minimum distance Required is %g'%R,' m';",
     "language": "python",
     "metadata": {},
     "outputs": [
      {
       "output_type": "stream",
       "stream": "stdout",
       "text": "Minimum distance Required is 833.333  m\n"
      }
     ],
     "prompt_number": 16
    },
    {
     "cell_type": "heading",
     "level": 2,
     "metadata": {},
     "source": "Example 9.8,Page No:354"
    },
    {
     "cell_type": "code",
     "collapsed": false,
     "input": "import math\n\n#variable declaration\n\nF     = 4*10**9;         #radar operating frequency in hz\nVo    = 3*10**8;         #velocity of EM wave in m/s\nGp    = 500;             #power gain of antenna\n\n#Calculations\n\nlamda = Vo/float(F);                       #wavelength\nDa    = lamda*(Gp/float(6.4))**(0.5);      #diameter of parabolic antenna in m\n\nNNBW  = 140*(lamda/float(Da));              #beamwidth b/w null to null\nHPBW  = 70*(lamda/float(Da));                      #half power beamwidth in deg\n\n#result\nprint'NNBW of parabolic reflector is %3.2f'%NNBW,' degrees';\nprint'HPBW of parabolic reflector is %3.2f'%HPBW,'degrees';\nprint'Mouth diameter of parabolic reflector is %3.2f '%Da,'m';\n",
     "language": "python",
     "metadata": {},
     "outputs": [
      {
       "output_type": "stream",
       "stream": "stdout",
       "text": "NNBW of parabolic reflector is 15.84  degrees\nHPBW of parabolic reflector is 7.92 degrees\nMouth diameter of parabolic reflector is 0.66  m\n"
      }
     ],
     "prompt_number": 8
    },
    {
     "cell_type": "heading",
     "level": 2,
     "metadata": {},
     "source": "Example 9.9,Page No:355"
    },
    {
     "cell_type": "code",
     "collapsed": false,
     "input": "import math\n\n#variable declaration\n\nF     = 9*10**9;           #radar operating frequency in hz\nVo    = 3*10**8;           #velocity of EM wave in m/s\nGp    = 100;               #power gain of antenna in dB\n\n#Calculations\n\nlamda = Vo/float(F);          #wavelength\n#antilog calculation\n#100 = 10log10(Gp);\n#10  = log(Gp)\n\nG     = 10**10;                                  #gain of antenna\nDa    = lamda*math.sqrt(G/float(6.4));           #diameter of parabolic antenna in m\nA     = (math.pi*Da*Da)/float(4);               #Area of antenna\nAc    = 0.65*A;                                 #capture area\nNNBW  = 140*(lamda/float(Da));                         #beamwidth b/w null to null\nHPBW  = 70*(lamda/float(Da));                          #half power beamwidth in deg\n\n#result\nprint'NNBW of parabolic reflector is %g'%NNBW,' degrees';\nprint'HPBW of parabolic reflector is %g'%HPBW,' degrees';\n\nprint'Mouth diameter of parabolic reflector is %3.3f'%Da,' m';\nprint'Capture area is %3.2f'%Ac,'m**2';",
     "language": "python",
     "metadata": {},
     "outputs": [
      {
       "output_type": "stream",
       "stream": "stdout",
       "text": "NNBW of parabolic reflector is 0.00354175  degrees\nHPBW of parabolic reflector is 0.00177088  degrees\nMouth diameter of parabolic reflector is 1317.616  m\nCapture area is 886300.01 m**2\n"
      }
     ],
     "prompt_number": 9
    },
    {
     "cell_type": "heading",
     "level": 2,
     "metadata": {},
     "source": "Example 9.10,Page No:356"
    },
    {
     "cell_type": "code",
     "collapsed": false,
     "input": "import math\n\n#variable declaration\n\nF     = 10*10**9;              #radar operating frequency in hz\nVo    = 3*10**8;                #velocity of EM wave in m/s\nDa    = 5;                     #antenna diameter in m\n\n#Calculations\nlamda = Vo/float(F);                         #wavelength\nGp    = 6.4*(Da/float(lamda))**(2);          #gain of parabolic reflector\nG     = 10*math.log10(Gp);                   #gain in dB\n\nBWFN  = 140*(lamda/float(Da));             #beam width b/n nulls\nHPBW  = 70*(lamda/float(Da));              #half power beamwidth in deg\n\n\n#result\nprint'BWFN of parabolic reflector is %g'%BWFN,' degrees';\nprint'HPBW of parabolic reflector is %g'%HPBW,' degrees';\n\nprint'Gain of parabolic reflector is %g'%G,'dB';\n",
     "language": "python",
     "metadata": {},
     "outputs": [
      {
       "output_type": "stream",
       "stream": "stdout",
       "text": "BWFN of parabolic reflector is 0.84  degrees\nHPBW of parabolic reflector is 0.42  degrees\nGain of parabolic reflector is 52.4988 dB\n"
      }
     ],
     "prompt_number": 10
    },
    {
     "cell_type": "heading",
     "level": 2,
     "metadata": {},
     "source": "Example 9.11,Page No:356"
    },
    {
     "cell_type": "code",
     "collapsed": false,
     "input": "import math\n\n#variable declaration\n\nF     = 10*10**9;               #radar operating frequency in hz\nVo    = 3*10**8;                #velocity of EM wave in m/s\nIE    =0.6;                     #illumination efficiency\nDa    =12;                      #diameter of antenna\n\n#Calculations\n\nlamda = Vo/float(F);                     #wavelength\nGp    = IE*(Da/float(lamda))**(2);       #gain of parabolic reflector\nG     = 10*math.log10(Gp);              #gain in dB\n\n#result\nprint' Gain of parabolic reflector is %3.2f'%G,'dB';\n",
     "language": "python",
     "metadata": {},
     "outputs": [
      {
       "output_type": "stream",
       "stream": "stdout",
       "text": " Gain of parabolic reflector is 49.82 dB\n"
      }
     ],
     "prompt_number": 24
    },
    {
     "cell_type": "heading",
     "level": 2,
     "metadata": {},
     "source": "Example 9.12,Page No:357"
    },
    {
     "cell_type": "code",
     "collapsed": false,
     "input": "import math\n\n#variable declaration\n\nF     = 4*10**9;         #radar operating frequency in hz\nVo    = 3*10**8;          #velocity of EM wave in m/s\nNNBW  = 8;                #Null to Null beamwidth in degrees \n\n#Calculations\n\nlamda = Vo/float(F);                      #wavelength\nDa    = (140*lamda)/float(NNBW);\nA     = (math.pi*Da*Da)/float(4);         #Area of antenna\nAc    = 0.65*A;                           #capture area\n\n#result\nprint'Mouth diameter of parabolic reflector is %3.3f'%Da,' m'; \nprint'Capture area is %3.2f'%Ac,' m**2';\n",
     "language": "python",
     "metadata": {},
     "outputs": [
      {
       "output_type": "stream",
       "stream": "stdout",
       "text": "Mouth diameter of parabolic reflector is 1.312  m\nCapture area is 0.88  m**2\n"
      }
     ],
     "prompt_number": 11
    },
    {
     "cell_type": "heading",
     "level": 2,
     "metadata": {},
     "source": "Example 9.13,Page No:357"
    },
    {
     "cell_type": "code",
     "collapsed": false,
     "input": "import math\n\n#variable declaration\n\nF     = 4*10**9;              #radar operating frequency in hz\nVo    = 3*10**8;              #velocity of EM wave in m/s\nNNBW  = 2;                     #Null to Null Beamwidth in degrees\n\n#Calculations\n\nlamda = Vo/float(F);                  #wavelength\nDa    = (140*lamda)/float(2);         #diameter of antenna in m\nGp    = 6.4*(Da/float(lamda))**(2);   #gain of parabolic reflector\nG     = 10*math.log10(Gp);                 #gain in dB\n\n\n#result\nprint'Gain of parabolic reflector is %g'%G,'dB';\nprint'mouth diameter of the antenna is %g'%Da,'m';\n",
     "language": "python",
     "metadata": {},
     "outputs": [
      {
       "output_type": "stream",
       "stream": "stdout",
       "text": "Gain of parabolic reflector is 44.9638 dB\nmouth diameter of the antenna is 5.25 m\n"
      }
     ],
     "prompt_number": 12
    },
    {
     "cell_type": "heading",
     "level": 2,
     "metadata": {},
     "source": "Example 9.14,Page No:358"
    },
    {
     "cell_type": "code",
     "collapsed": false,
     "input": "import math\n\n#variable declaration\n\nHPBW  = 6;                #Half power Beamwidth in degrees\n\n#Calculations\n\nNNBW  = 2*HPBW;           #Null to Null beamwidth in degrees\n\n#HPBW = 70*(lamda/Da);\n#(70/HPBW)= (Da/lamda);\n\nGp    = 6.4*(70/float(HPBW))**(2);            #gain of parabolic reflector\nG     = 10*math.log10(Gp);                    #gain in dB\n\n\n#result\nprint'Gain of parabolic reflector is %3.2f'%G,'dB';\nprint'NNBW of the antenna is %g'%NNBW,'degrees';\n",
     "language": "python",
     "metadata": {},
     "outputs": [
      {
       "output_type": "stream",
       "stream": "stdout",
       "text": "Gain of parabolic reflector is 29.40 dB\nNNBW of the antenna is 12 degrees\n"
      }
     ],
     "prompt_number": 13
    },
    {
     "cell_type": "heading",
     "level": 2,
     "metadata": {},
     "source": "Example 9.15,Page No:358"
    },
    {
     "cell_type": "code",
     "collapsed": false,
     "input": "import math\n\n#variable declaration\n\nGp    =6.4*(6)**2;\nG     = 10*math.log10(Gp);           #gain in dB\n\n\n#result\n\nprint'Gain of parabolic reflector is %3.2f'%G,'dB';",
     "language": "python",
     "metadata": {},
     "outputs": [
      {
       "output_type": "stream",
       "stream": "stdout",
       "text": "Gain of parabolic reflector is 23.62 dB\n"
      }
     ],
     "prompt_number": 30
    },
    {
     "cell_type": "heading",
     "level": 2,
     "metadata": {},
     "source": "Example 9.16,Page No:358"
    },
    {
     "cell_type": "code",
     "collapsed": false,
     "input": "import math\n\n#variable declaration\nHPBW   = 70/float(7);                #half power beamwidth\nNNBW   = 2*HPBW;                     # null to null beamwidth\n#Gp  = 6.4*(Da/float(lamda))**2;            #power gain \n\n#Gp  = 6.4*((7*lamda)/lamda)^2 ;  power gain of parabolic reflector\n\nGp    =6.4*(7)**2;\nG     = 10*math.log10(Gp);          #gain in dB\n\n\n#reault\nprint'Gain of parabolic reflector is %3.1f'%Gp; \nprint'HPBW of Antenna is %3.1f'%HPBW,' degrees';\nprint'NNBW of Antenna is %3.1f'%NNBW,' degrees';\n",
     "language": "python",
     "metadata": {},
     "outputs": [
      {
       "output_type": "stream",
       "stream": "stdout",
       "text": "Gain of parabolic reflector is 313.6\nHPBW of Antenna is 10.0  degrees\nNNBW of Antenna is 20.0  degrees\n"
      }
     ],
     "prompt_number": 14
    },
    {
     "cell_type": "heading",
     "level": 2,
     "metadata": {},
     "source": "Example 9.17,Page No:359"
    },
    {
     "cell_type": "code",
     "collapsed": false,
     "input": "import math\n\n#variable declaration\n\nF     = 8*10**9;             #radar operating frequency in hz\nVo    = 3*10**10;            #velocity of EM wave in cm/s\nD     = 9;                  #pyramida horn  diameter in cm\nW     = 4;                  #pyramida horn  width in cm\n\n#Calculations\n\nlamda   = Vo/float(F);                       #wavelength in cm\nHPBW_E  = 56*(lamda/float(D));               #halfpower beamwidth in E-plane;\nHPBW_H  = 67*(lamda/float(W));               #halfpower beamwidth in H-plane;\nGp      = (4.5*W*D)/float((lamda*lamda));       #power gain\nG       = 10*math.log10(Gp);                        #power gain in dB\nDi      =(7.5*W*D)/float(lamda*lamda);              #directivity\n\n\n#result\nprint'Halfpower beamwidth ib E-plane is %3.2f'%HPBW_E,' degrees';\nprint'Halfpower beamwidth iN H-plane is %3.2f'%HPBW_H,' de0grees';\nprint'Powergain is %3.2f'%G,' dB';\nprint'Directivity is %3.2f'%Di;\n",
     "language": "python",
     "metadata": {},
     "outputs": [
      {
       "output_type": "stream",
       "stream": "stdout",
       "text": "Halfpower beamwidth ib E-plane is 23.33  degrees\nHalfpower beamwidth iN H-plane is 62.81  de0grees\nPowergain is 10.61  dB\nDirectivity is 19.20\n"
      }
     ],
     "prompt_number": 15
    },
    {
     "cell_type": "heading",
     "level": 2,
     "metadata": {},
     "source": "Example 9.18,Page No:359"
    },
    {
     "cell_type": "code",
     "collapsed": false,
     "input": "import math\n\n#variable declartaion\nGp   = (4.5*10*10);             #power gain of square horn antenna\nG    = 10*math.log10(Gp);            #power gain in dB\n\n#result\nprint'Power Gain of Square Horn Antenna is %3.2f'%G,'dB';",
     "language": "python",
     "metadata": {},
     "outputs": [
      {
       "output_type": "stream",
       "stream": "stdout",
       "text": "Power Gain of Square Horn Antenna is 26.53 dB\n"
      }
     ],
     "prompt_number": 37
    },
    {
     "cell_type": "heading",
     "level": 2,
     "metadata": {},
     "source": "Example 9.19,Page No:359"
    },
    {
     "cell_type": "code",
     "collapsed": false,
     "input": "import math\n\n#variable declaration\n\nF     = 8*10**9;          #radar operating frequency in hz\nVo    = 3*10**10;         #velocity of EM wave in cm/s\nD     = 10;               #pyramida horn  diameter in cm\nW     = 5;                 #pyramida horn  width in cm\n\n#Calculations\n\nlamda = Vo/float(F);                      #wavelength in cm\nGp     = (4.5*W*D)/float((lamda*lamda));      #power gain\nG      = 10*math.log10(Gp);                   # power gain in dB\nDi     =(7.5*W*D)/float((lamda*lamda));       #directivity\nDI     =10*math.log10(Di);                         #Directivity in dB\n\n\n#result\nprint'Powergain is %3.2f '%G,'dB';\nprint'Directivity is %3.2f'%DI,'dB';",
     "language": "python",
     "metadata": {},
     "outputs": [
      {
       "output_type": "stream",
       "stream": "stdout",
       "text": "Powergain is 12.04  dB\nDirectivity is 14.26 dB\n"
      }
     ],
     "prompt_number": 16
    },
    {
     "cell_type": "heading",
     "level": 2,
     "metadata": {},
     "source": "Example 9.20,Page No:359"
    },
    {
     "cell_type": "code",
     "collapsed": false,
     "input": "import math\n\n#variable declaration\nno    = 377;                   #Free space intrinsic impedance in ohms\nZd1   = complex(73,50);              #dipole impedance;\nZd2   = 70;                    #dipole impedance;\nZd3   = 800;                   #dipole impedance;\nZd4   = 400;                   #dipole impedance;\nZd5   = complex(50,10);              #dipole impedance;\nZd6   = complex(50,-30);              #dipole impedance;\nZd7   = 350;                   #dipole impedance;\n\n#Calculations\nK      = (no**2)/float(4);\n#Zs   = (no*no)/(4*Zd); slot impedance\nZs1    = K/Zd1;           #slot impedance\nZs2    = K/(Zd2);           #slot impedance\nZs3    = K/(Zd3);           #slot impedance\nZs4    = K/(Zd4);           #slot impedance\nZs5    = K/(Zd5);           #slot impedance\nZs6    = K/(Zd6);           #slot impedance\nZs7    = K/(Zd7);           #slot impedance\n\n#result\n\nprint'slot impedance if Zd = 73+i50 ohm is %3.3f'%(Zs1.real),'%3.3f i' %(Zs1.imag) ,'ohm';\nprint'slot impedance if Zd = 70 ohm is %3.3f'%(Zs2.real),'ohm';\nprint'slot impedance if Zd = 800 ohm is %3.3f'%(Zs3.real),'ohm';\nprint'slot impedance if Zd = 400 ohm is %3.3f'%(Zs4.real),'ohm';\nprint'slot impedance if Zd = 50+i10 ohm is %3.3f'%(Zs5.real),'%3.3f i' %(Zs5.imag) ,'ohm';\nprint'slot impedance if Zd = 50-i30 ohm is %3.3f'%(Zs6.real),'%3.3f i' %(Zs6.imag) ,'ohm';\nprint'slot impedance if Zd = 350 ohm is %3.3f'%(Zs7.real),'ohm';\n",
     "language": "python",
     "metadata": {},
     "outputs": [
      {
       "output_type": "stream",
       "stream": "stdout",
       "text": "slot impedance if Zd = 73+i50 ohm is 331.314 -226.927 i ohm\nslot impedance if Zd = 70 ohm is 507.604 ohm\nslot impedance if Zd = 800 ohm is 44.415 ohm\nslot impedance if Zd = 400 ohm is 88.831 ohm\nslot impedance if Zd = 50+i10 ohm is 683.312 -136.663 i ohm\nslot impedance if Zd = 50-i30 ohm is 522.533 313.520 i ohm\nslot impedance if Zd = 350 ohm is 101.521 ohm\n"
      }
     ],
     "prompt_number": 41
    },
    {
     "cell_type": "heading",
     "level": 2,
     "metadata": {},
     "source": "Example 9.21,Page No:360"
    },
    {
     "cell_type": "code",
     "collapsed": false,
     "input": "import math\n\n#variable declaration\nRr1   =80*(math.pi*math.pi)*(1/float(20))**(2) ;\n#Rr2 = 80*(pi*pi)*(dl2/lamda)^2 Radiation Resistance in ohms\n#Rr2 = 80*(pi*pi)*((lamda/30)/lamda)^2 Radiation Resistance in ohms\nRr2   =80*(math.pi*math.pi)*(1/float(30))**2 ;\n#Rr3 = 80*(pi*pi)*(dl3/lamda)^2 Radiation Resistance in ohms\n#Rr3 = 80*(pi*pi)*((lamda/40)/lamda)^2 Radiation Resistance in ohms\nRr3   =80*(math.pi*math.pi)*(1/float(40))**(2 );\n\n\n#result\nprint'If Hertzian dipole length is lamda/20 then Radiation Resistance = %3.3f' %Rr1,'ohm';\nprint'If Hertzian dipole length is lamda/30 then Radiation Resistance = %3.3f' %Rr2,' ohm';\nprint'If Hertzian dipole length is lamda/40 then Radiation Resistance = %3.3f' %Rr3,' ohm' ;\n",
     "language": "python",
     "metadata": {},
     "outputs": [
      {
       "output_type": "stream",
       "stream": "stdout",
       "text": "If Hertzian dipole length is lamda/20 then Radiation Resistance = 1.974 ohm\nIf Hertzian dipole length is lamda/30 then Radiation Resistance = 0.877  ohm\nIf Hertzian dipole length is lamda/40 then Radiation Resistance = 0.493  ohm\n"
      }
     ],
     "prompt_number": 47
    },
    {
     "cell_type": "heading",
     "level": 2,
     "metadata": {},
     "source": "Example 9.22,Page No:361"
    },
    {
     "cell_type": "code",
     "collapsed": false,
     "input": "import math\n\n#variable declaration\nprint'For half wave dipole Emax  =  60*I/float(r)';\nprint'But Pr  = 73 I**2 Watts';\nprint'For Pr  = 1 W';\nprint'I = 1/sqrt(73)';\nprint'Emax = (60/r)*I';\nprint'Gdmax = (4*pi*phi)/Pr';\nprint'as Pr =1 and phi = ((r**(2))*(E**(2)))/no';\nprint'Gdmax = 4*pi*(r**2)*(E**2)/no';\nprint'      = (4*pi*(r**2)*60*60)/(no*r*r*73)' ;\nprint'      = (4*pi*60*60)/(120*math.pi*73)';\nGdmax       = float(120)/73;\n\nprint'Directivity of half wave dipole is %3.3g' %Gdmax ;",
     "language": "python",
     "metadata": {},
     "outputs": [
      {
       "output_type": "stream",
       "stream": "stdout",
       "text": "For half wave dipole Emax  =  60*I/float(r)\nBut Pr  = 73 I**2 Watts\nFor Pr  = 1 W\nI = 1/sqrt(73)\nEmax = (60/r)*I\nGdmax = (4*pi*phi)/Pr\nas Pr =1 and phi = ((r**(2))*(E**(2)))/no\nGdmax = 4*pi*(r**2)*(E**2)/no\n      = (4*pi*(r**2)*60*60)/(no*r*r*73)\n      = (4*pi*60*60)/(120*math.pi*73)\nDirectivity of half wave dipole is 1.64\n"
      }
     ],
     "prompt_number": 44
    },
    {
     "cell_type": "heading",
     "level": 2,
     "metadata": {},
     "source": "Example 9.23,Page No:361"
    },
    {
     "cell_type": "code",
     "collapsed": false,
     "input": "import math\n\n#variable declaration\n\nF   = 12*10**9;           #operating frequency in Ghz\nI   = 2;                  #current in amperes\nRr  = 300;                #  radiation resistance in ohms\n\n#Calculations\nPr  = I*I*Rr;\n\n#result\nprint'Radiated Power is %3.1f'%Pr,' Watts';",
     "language": "python",
     "metadata": {},
     "outputs": [
      {
       "output_type": "stream",
       "stream": "stdout",
       "text": "Radiated Power is 1200.0  Watts\n"
      }
     ],
     "prompt_number": 54
    },
    {
     "cell_type": "heading",
     "level": 2,
     "metadata": {},
     "source": "Example 9.24,Page No:362"
    },
    {
     "cell_type": "code",
     "collapsed": false,
     "input": "import math\n\n#variable declaration\n\nF     = 600*10**6;                #radar operating frequency in hz\nVo    = 3*10**8;                  #velocity of EM wave in m/s\nD     = 1.644;                    #Directivity of the half wave dipole\n\n#Calculations\n\nlamda = Vo/float(F);                         #wavelength\nAe    = ((lamda**2)*D)/(float(4*math.pi));        #effective area of antenna\n\n#result\n\nprint'Effective Area of the antenna is %3.4f'%Ae,' m^2';\n",
     "language": "python",
     "metadata": {},
     "outputs": [
      {
       "output_type": "stream",
       "stream": "stdout",
       "text": "Effective Area of the antenna is 0.0327  m^2\n"
      }
     ],
     "prompt_number": 57
    },
    {
     "cell_type": "heading",
     "level": 2,
     "metadata": {},
     "source": "Example 9.25,Page No:362"
    },
    {
     "cell_type": "code",
     "collapsed": false,
     "input": "import  math\n\n#variable declaration\n\nF     = 200*10**6;                #radar operating frequency in hz\nVo    = 3*10**8;                   #velocity of EM wave in m/s\nD     = 1.5;                       #Directivity of the Hertzian dipole\n\n#Calculations\n\nlamda = Vo/float(F);                 #wavelength\nAe    = (lamda**2*D)/(4*math.pi);    #effective area of antenna\n\n#result\nprint'Effective Area of the antenna is %3.4f'%Ae,'m^2';\n",
     "language": "python",
     "metadata": {},
     "outputs": [
      {
       "output_type": "stream",
       "stream": "stdout",
       "text": "Effective Area of the antenna is 0.2686 m^2\n"
      }
     ],
     "prompt_number": 58
    },
    {
     "cell_type": "code",
     "collapsed": false,
     "input": "",
     "language": "python",
     "metadata": {},
     "outputs": []
    }
   ],
   "metadata": {}
  }
 ]
}