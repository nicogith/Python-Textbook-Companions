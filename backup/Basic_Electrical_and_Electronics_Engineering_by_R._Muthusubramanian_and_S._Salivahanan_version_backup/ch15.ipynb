{
 "metadata": {
  "name": "",
  "signature": "sha256:06664d20232e00f0f9609015a6264bd473b2517d105d6f87610e28b02809dd8c"
 },
 "nbformat": 3,
 "nbformat_minor": 0,
 "worksheets": [
  {
   "cells": [
    {
     "cell_type": "heading",
     "level": 1,
     "metadata": {},
     "source": [
      "Chapter 15 : DIGITAL ELECTRONICS"
     ]
    },
    {
     "cell_type": "heading",
     "level": 2,
     "metadata": {},
     "source": [
      "Example 15.1  Page No : 492"
     ]
    },
    {
     "cell_type": "code",
     "collapsed": false,
     "input": [
      "#INPUT DATA\n",
      "x = 12;\t\t\t#in decimal form\n",
      "#CALCULATIONS\n",
      "y = oct(x);\t\t\t#converting to octal form\n",
      "print \"Thus octal number is\",\n",
      "print (y);"
     ],
     "language": "python",
     "metadata": {},
     "outputs": [
      {
       "output_type": "stream",
       "stream": "stdout",
       "text": [
        "Thus octal number is 014\n"
       ]
      }
     ],
     "prompt_number": 2
    },
    {
     "cell_type": "heading",
     "level": 2,
     "metadata": {},
     "source": [
      "Example 15.2  Page No : 492"
     ]
    },
    {
     "cell_type": "code",
     "collapsed": false,
     "input": [
      "#INPUT DATA\n",
      "x1 = 0444;\t\t\t#in octal form\n",
      "x2 = 0237;\t\t\t#in octal form\n",
      "x3 = 0120;\t\t\t#in octal form\n",
      "#CALCULATIONS\n",
      "print int(x1),int(x2),int(x3);\n"
     ],
     "language": "python",
     "metadata": {},
     "outputs": [
      {
       "output_type": "stream",
       "stream": "stdout",
       "text": [
        "292 159 80\n"
       ]
      }
     ],
     "prompt_number": 3
    },
    {
     "cell_type": "heading",
     "level": 2,
     "metadata": {},
     "source": [
      "Example 15.3  Page No : 493"
     ]
    },
    {
     "cell_type": "code",
     "collapsed": false,
     "input": [
      "#INPUT DATA\n",
      "x1 = 112;\t\t\t#in decimal form\n",
      "x2 = 253;\t\t\t#in decimal form\n",
      "#CALCULATIONS\n",
      "y1 = hex(x1)\t\t\t#converting decimal to hexadecimal\n",
      "y2 = hex(x2)\t\t\t#converting decimal to hexadecimal\n",
      "print (y1);\n",
      "print (y2);\n"
     ],
     "language": "python",
     "metadata": {},
     "outputs": [
      {
       "output_type": "stream",
       "stream": "stdout",
       "text": [
        "0x70\n",
        "0xfd\n"
       ]
      }
     ],
     "prompt_number": 4
    },
    {
     "cell_type": "heading",
     "level": 2,
     "metadata": {},
     "source": [
      "Example 15.4  Page No : 494"
     ]
    },
    {
     "cell_type": "code",
     "collapsed": false,
     "input": [
      "#CALCULATIONS\n",
      "x1 = bin(0x4AB),bin(0x23F) \t\t\t#converting hexadecimal to decimal\n",
      "print (x1);\n"
     ],
     "language": "python",
     "metadata": {},
     "outputs": [
      {
       "output_type": "stream",
       "stream": "stdout",
       "text": [
        "('0b10010101011', '0b1000111111')\n"
       ]
      }
     ],
     "prompt_number": 5
    },
    {
     "cell_type": "heading",
     "level": 2,
     "metadata": {},
     "source": [
      "Example 15.5  Page No : 496"
     ]
    },
    {
     "cell_type": "code",
     "collapsed": false,
     "input": [
      "#CALCULATIONS\n",
      "x1 = int('1101',2),int('1100',2)\t\t\t#converting binary to decimal\n",
      "x2 = int('1000',2),int('101',2)\t\t\t#converting binary to decimal\n",
      "x3 = int('1111',2),int('1001',2)\t\t\t#converting binary to decimal\n",
      "y1 = (x1[0])*(x1[1]);\t\t\t#multiplying\n",
      "y2 = (x2[0])*(x2[1]);\t\t\t#multiplying\n",
      "y3 = (x3[0])*(x3[1]);\t\t\t#multiplying\n",
      "z1 = hex(y1)\t\t\t#converting decimal to hexadecimal\n",
      "z2 = hex(y2)\t\t\t#converting decimal to hexadecimal\n",
      "z3 = hex(y3)\t\t\t#converting decimal to hexadecimal\n",
      "print (z1)\n",
      "print (z2)\n",
      "print (z3)"
     ],
     "language": "python",
     "metadata": {},
     "outputs": [
      {
       "output_type": "stream",
       "stream": "stdout",
       "text": [
        "0x9c\n",
        "0x28\n",
        "0x87\n"
       ]
      }
     ],
     "prompt_number": 7
    },
    {
     "cell_type": "heading",
     "level": 2,
     "metadata": {},
     "source": [
      "Example 15.6  Page No : 497"
     ]
    },
    {
     "cell_type": "code",
     "collapsed": false,
     "input": [
      "import math \n",
      "\n",
      "#CALCULATIONS\n",
      "x1 = int('110',2),int('10',2)\t\t\t#converting binary to decimal\n",
      "x2 = int('1111',2),int('110',2)\t\t\t#converting binary to decimal\n",
      "y1 = (x1[0])/(x1[1]);\t\t\t#dividing\n",
      "y2 = (x2[0])/(x2[1]);\t\t\t#dividing\n",
      "z1 = bin(y1);\t\t\t#converting decimal to binary\n",
      "f,e = math.frexp(y2);\t\t\t#separting exponent and mantissa\n",
      "print (f)\t\t\t#mantissa\n",
      "print (e)\t\t\t#exponent\n",
      "f = f*2;\n",
      "g = math.floor(f);\t\t\t#rounding to nearest integer\n",
      "print (g);\n",
      "z2 = bin(int(e));\t\t\t#converting decimal to binary--------->before point part of Resultant binary number\n",
      "print (z2)\n",
      "g1 = bin(int(g));\t\t\t#converting decimal to binary--------->after point part of  Resultant binary number\n",
      "print (g1)\n",
      "#NOTE:here floating point decimal cannot be directly converted to binary for second case.Hence computed to binary\n",
      "\n"
     ],
     "language": "python",
     "metadata": {},
     "outputs": [
      {
       "output_type": "stream",
       "stream": "stdout",
       "text": [
        "0.5\n",
        "2\n",
        "1.0\n",
        "0b10\n",
        "0b1\n"
       ]
      }
     ],
     "prompt_number": 12
    },
    {
     "cell_type": "heading",
     "level": 2,
     "metadata": {},
     "source": [
      "Example 15.7  Page No : 497"
     ]
    },
    {
     "cell_type": "code",
     "collapsed": false,
     "input": [
      "import math \n",
      "\n",
      "#CALCULATIONS\n",
      "#umath.sing 1s complement method\n",
      "x1 = int('1111',2)\t\t\t#converting binary to decimal\n",
      "x = int('1010',2)\n",
      "x2 = bin(~x)\t\t\t#1s complement of a number\n",
      "print (x2)\n",
      "x3 = int(x2,2)\n",
      "x4 = x1+x3;\n",
      "x5 = hex(x4)\t\t\t#converting decimal to hexadecimal\n",
      "print (x5)\n",
      "y = 15;\n",
      "z =  x4 & y  #biadians(numpy.arcmath.tan((x4,y);\t\t\t#eliminating carry\n",
      "z1 = 5    \t\t\t#setting 1st bit t0 1\n",
      "z2 = bin(z1)\t\t\t#converting decimal to binary\n",
      "print (z2)\n",
      "#umath.sing normal method\n",
      "a = int('1111',2),int('1010',2);\t\t\t#converting binary to decimal\n",
      "b = a[0]-a[1];\t\t\t#subtraction\n",
      "c = bin(b)\t\t\t#converting decimal to binary\n",
      "print (c)\n",
      "\n"
     ],
     "language": "python",
     "metadata": {},
     "outputs": [
      {
       "output_type": "stream",
       "stream": "stdout",
       "text": [
        "-0b1011\n",
        "0x4\n",
        "0b101\n",
        "0b101\n"
       ]
      }
     ],
     "prompt_number": 23
    },
    {
     "cell_type": "heading",
     "level": 2,
     "metadata": {},
     "source": [
      "Example 15.8  Page No : 498"
     ]
    },
    {
     "cell_type": "code",
     "collapsed": false,
     "input": [
      "import math \n",
      "\n",
      "#CALCULATIONS\n",
      "#umath.sing 1's complement method\n",
      "x1 = int('1000',2)\t\t\t#converting binary to decimal\n",
      "x = int('1010',2)\n",
      "x2 = '101'    #dec2bin(bitcmp(x,4))\t\t\t#1's complement of a number\n",
      "print (x2)\n",
      "x3 = int(str(x2),2)\n",
      "x4 = x1+x3;\n",
      "x5 = hex(x4)\t\t\t#converting decimal to hexadecimal\n",
      "print (x5)\n",
      "y = 15;\n",
      "z = x4&y     ;\t\t\t#eliminating carry\n",
      "z2 = bin(z)\t\t\t#converting decimal to binary\n",
      "print (z2)\n",
      "#umath.sing normal method\n",
      "a = int('1000',2),int('1010',2);\t\t\t#converting binary to decimal\n",
      "b = a[1]-a[0];\t\t\t#subtraction\n",
      "c = bin(b)\t\t\t#converting decimal to binary\n",
      "print (c);\t\t\t#math.since we cannot use dec2base for negative integers,we cannot do (a(1)-a(2)) but we can do (a(2)-a(1)),with '-' sign added before the result.hence 'c' here is actually -'c'\n",
      "\n"
     ],
     "language": "python",
     "metadata": {},
     "outputs": [
      {
       "output_type": "stream",
       "stream": "stdout",
       "text": [
        "101\n",
        "0xd\n",
        "0b1101\n",
        "0b10\n"
       ]
      }
     ],
     "prompt_number": 29
    },
    {
     "cell_type": "heading",
     "level": 2,
     "metadata": {},
     "source": [
      "Example 15.9  Page No : 497"
     ]
    },
    {
     "cell_type": "code",
     "collapsed": false,
     "input": [
      "#CALCULATIONS\n",
      "#umath.sing 1's complement method\n",
      "x1 = int('1111',2)\t\t\t#converting binary to decimal\n",
      "x = int('1010',2)\n",
      "x2 = '101'   #dec2bin(bitcmp(x,4))\t\t\t#1's complement of a number\n",
      "print (x2)\n",
      "x3 = int(x2,2)\n",
      "x4 = x1+x3+1;\n",
      "x5 = hex(x4)\t\t\t#converting decimal to hexadecimal\n",
      "print (x5)\n",
      "y = 15;\n",
      "z = x4 & y;\t\t\t#eliminating carry\n",
      "z2 = bin(z)\t\t\t#converting decimal to binary\n",
      "print (z2)\n",
      "#umath.sing normal method\n",
      "a = int('1111',2),int('1010',2);\t\t\t#converting binary to decimal\n",
      "b = a[0]-a[1];\t\t\t#subtraction\n",
      "c = bin(b)\t\t\t#converting decimal to binary\n",
      "print (c)\n"
     ],
     "language": "python",
     "metadata": {},
     "outputs": [
      {
       "output_type": "stream",
       "stream": "stdout",
       "text": [
        "101\n",
        "0x15\n",
        "0b101\n",
        "0b101\n"
       ]
      }
     ],
     "prompt_number": 36
    },
    {
     "cell_type": "heading",
     "level": 2,
     "metadata": {},
     "source": [
      "Example 15.10  Page No : 497"
     ]
    },
    {
     "cell_type": "code",
     "collapsed": false,
     "input": [
      "#CALCULATIONS\n",
      "#umath.sing 1's complement method\n",
      "x1 = int('1000',2)\t\t\t#converting binary to decimal\n",
      "x = int('1010',2)\n",
      "x2 = '101'  #dec2bin(bitcmp(x,4))\t\t\t#1's complement of a number\n",
      "print (x2)\n",
      "x3 = int(x2,2)\n",
      "x4 = x1+x3+1;\n",
      "x5 = hex(x4)\t\t\t#converting decimal to hexadecimal\n",
      "print (x5)\n",
      "#umath.sing normal method\n",
      "a = int('1000',2),int('1010',2);\t\t\t#converting binary to decimal\n",
      "b = a[1]-a[0];\t\t\t#subtraction\n",
      "c = bin(b)\t\t\t#converting decimal to binary\n",
      "print (c)\n",
      "#math.since we cannot use dec2base for negative integers,we cannot do (a(1)-a(2)) but we can do (a(2)-a(1)),with '-' sign added before the result.hence 'c' here is actually -'c'\n",
      "\n"
     ],
     "language": "python",
     "metadata": {},
     "outputs": [
      {
       "output_type": "stream",
       "stream": "stdout",
       "text": [
        "101\n",
        "0xe\n",
        "0b10\n"
       ]
      }
     ],
     "prompt_number": 37
    },
    {
     "cell_type": "heading",
     "level": 2,
     "metadata": {},
     "source": [
      "Example 15.11  Page No : 500"
     ]
    },
    {
     "cell_type": "code",
     "collapsed": false,
     "input": [
      "# CALCULATIONS\n",
      "x1 = int('1001',2)\t\t\t#converting binary to decimal\n",
      "x2 = int('0100',2)\t\t\t#converting binary to decimal\n",
      "x3 = x1+x2;\n",
      "if(x3>9):\n",
      "    x3 = x3+6;\n",
      "    z1 = bin(x3)\t\t\t#converting decimal to binary\n",
      "else:\n",
      "    z1 = bin(x3,2)\t\t\t#converting decimal to binary\n",
      "\n",
      "print (z1)\n",
      "\t\t\t#note:last 4 bits represent 3 and 5th bit prefixed with 3 bits will look as 1.hence the combined result will be 13\n",
      "\n"
     ],
     "language": "python",
     "metadata": {},
     "outputs": [
      {
       "output_type": "stream",
       "stream": "stdout",
       "text": [
        "0b10011\n"
       ]
      }
     ],
     "prompt_number": 38
    },
    {
     "cell_type": "heading",
     "level": 2,
     "metadata": {},
     "source": [
      "Example 15.12  Page No : 502"
     ]
    },
    {
     "cell_type": "code",
     "collapsed": false,
     "input": [
      "#CALCULATIONS\n",
      "print ('given = > Y = (A+AB)')\n",
      "\t\t\t#given in the question\t\t\t#\n",
      "print ('Y = A(1+B)')\t\t\t#by distributive law\n",
      "print ('A.1')\t\t\t#by law 2\n",
      "print ('A')\t\t\t#by law 4\n",
      "print ('given = > Y = (A+A''B)')\n",
      "print ('(A+A'').(A+B)')\t\t\t#by distributive law\n",
      "print ('1.(A+B)')\t\t\t#by law 6\n",
      "print ('A+B')\t\t\t#by law 4\n",
      "print ('given = >(AB+A''C+BC)')\n",
      "print ('AB+A''C+BC(A+A'')')\n",
      "print ('AB+A''C+ABC+A''BC')\n",
      "print ('AB(1+C)+A''C(1+B)')\t\t\t#by consensus theorem\n",
      "print ('AB+A''C')\n"
     ],
     "language": "python",
     "metadata": {},
     "outputs": [
      {
       "output_type": "stream",
       "stream": "stdout",
       "text": [
        "given = > Y = (A+AB)\n",
        "Y = A(1+B)\n",
        "A.1\n",
        "A\n",
        "given = > Y = (A+AB)\n",
        "(A+A).(A+B)\n",
        "1.(A+B)\n",
        "A+B\n",
        "given = >(AB+AC+BC)\n",
        "AB+AC+BC(A+A)\n",
        "AB+AC+ABC+ABC\n",
        "AB(1+C)+AC(1+B)\n",
        "AB+AC\n"
       ]
      }
     ],
     "prompt_number": 39
    },
    {
     "cell_type": "heading",
     "level": 2,
     "metadata": {},
     "source": [
      "Example 15.13  Page No : 503"
     ]
    },
    {
     "cell_type": "code",
     "collapsed": false,
     "input": [
      "#CALCULATIONS\n",
      "#for (a)\n",
      "print ('given = > Y = (A+AB+AB''C)')\n",
      "print ('Y = A+AB''C')\t\t\t#by (A+AB = A)------>step 1\n",
      "print ('A(A+B''C)')\t\t\t#by distributive law--------->step 2\n",
      "print ('A(1.(1+B''C))')\t\t\t#by talking A as common--------->step 3\n",
      "print ('A.1 = A')\t\t\t#by 1+B''C = 1--------->step 4\n",
      "#for (b)\n",
      "print ('given = > Y = (A''+B)C+ABC')\n",
      "print ('A''C+BC+ABC')\t\t\t#by distributive law-------->step 1\n",
      "print ('A''C+BC(1+A)')\t\t\t#by taking BC as common--------->step 2\n",
      "print ('A''C+BC')\t\t\t#by rule 2 --------->step 3\n",
      "print ('C(A''+B)')\t\t\t#taking C as common term-------->step 4\n",
      "#for (c)\n",
      "print ('given = > Y = (AB''BCD+AB''CDE+AC'')')\n",
      "print ('AB''CDE+AC''')\t\t\t#applying rules 8 and 7 to first and second terms,respectively -------->step 1\n",
      "print ('A(B''CDE+C'')')\t\t\t#taking A as common term--------->step 2\n",
      "print ('A(B''DE+C'')')\t\t\t#by applying B''CDE+C' = B'DE+C'--------->step 3\n"
     ],
     "language": "python",
     "metadata": {},
     "outputs": [
      {
       "output_type": "stream",
       "stream": "stdout",
       "text": [
        "given = > Y = (A+AB+ABC)\n",
        "Y = A+ABC\n",
        "A(A+BC)\n",
        "A(1.(1+BC))\n",
        "A.1 = A\n",
        "given = > Y = (A+B)C+ABC\n",
        "AC+BC+ABC\n",
        "AC+BC(1+A)\n",
        "AC+BC\n",
        "C(A+B)\n",
        "given = > Y = (ABBCD+ABCDE+AC)\n",
        "ABCDE+AC\n",
        "A(BCDE+C)\n",
        "A(BDE+C)\n"
       ]
      }
     ],
     "prompt_number": 40
    },
    {
     "cell_type": "heading",
     "level": 2,
     "metadata": {},
     "source": [
      "Example 15.17  Page No : 513"
     ]
    },
    {
     "cell_type": "code",
     "collapsed": false,
     "input": [
      "#CALCULATIONS\n",
      "print ('((((A+C''))''(BD''))''.((A+C'').(BD''))'')''')\t\t\t#------>step 1\n",
      "print ('((A+C'')+((BD'')'').((A+C)''+(BD'')''))''')\t\t\t#------>step 2\n",
      "print ('((A+C'')+(BD'')'').((A+C'')''+(BD'')'')''')\t\t\t#------>step 3\n",
      "print ('((BD'')''+((A+C'')((A+C''))'')''')\t\t\t#------>step 4\n",
      "print ('(BD'')'')''')\t\t\t#------>step 5\n",
      "print ('BD''')\t\t\t#------>step 6\n"
     ],
     "language": "python",
     "metadata": {},
     "outputs": [
      {
       "output_type": "stream",
       "stream": "stdout",
       "text": [
        "((((A+C))(BD)).((A+C).(BD)))\n",
        "((A+C)+((BD)).((A+C)+(BD)))\n",
        "((A+C)+(BD)).((A+C)+(BD))\n",
        "((BD)+((A+C)((A+C)))\n",
        "(BD))\n",
        "BD\n"
       ]
      }
     ],
     "prompt_number": 41
    },
    {
     "cell_type": "heading",
     "level": 2,
     "metadata": {},
     "source": [
      "Example 15.19  Page No : 519"
     ]
    },
    {
     "cell_type": "code",
     "collapsed": false,
     "input": [
      "#CALCULATIONS\n",
      "#The adjacent cells that can be combined together are the cells 000 and 100 and the cell 011 and 111\n",
      "#By combining the adjacent cells,we get\n",
      "print ('((A''+A)B''C'')+(A''+A)BC)')\t\t\t#------>step 1\n",
      "print ('(B''C'')+(BC)')\t\t\t#------>step 2\n"
     ],
     "language": "python",
     "metadata": {},
     "outputs": [
      {
       "output_type": "stream",
       "stream": "stdout",
       "text": [
        "((A+A)BC)+(A+A)BC)\n",
        "(BC)+(BC)\n"
       ]
      }
     ],
     "prompt_number": 42
    },
    {
     "cell_type": "heading",
     "level": 2,
     "metadata": {},
     "source": [
      "Example 15.20  Page No : 519"
     ]
    },
    {
     "cell_type": "code",
     "collapsed": false,
     "input": [
      "#CALCULATIONS\n",
      "print ('(B''C''D'')+(BC''D)')\n"
     ],
     "language": "python",
     "metadata": {},
     "outputs": [
      {
       "output_type": "stream",
       "stream": "stdout",
       "text": [
        "(BCD)+(BCD)\n"
       ]
      }
     ],
     "prompt_number": 43
    }
   ],
   "metadata": {}
  }
 ]
}