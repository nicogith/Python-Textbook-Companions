{
 "metadata": {
  "name": "",
  "signature": "sha256:70c7c8f9343d0416d1c6b459bcfd06fb5128d6aa7d8c3e95a8bef48c571d5f90"
 },
 "nbformat": 3,
 "nbformat_minor": 0,
 "worksheets": [
  {
   "cells": [
    {
     "cell_type": "heading",
     "level": 1,
     "metadata": {},
     "source": [
      "Chapter 13 : TRANSISTOR AND OTHER DEVICES"
     ]
    },
    {
     "cell_type": "heading",
     "level": 2,
     "metadata": {},
     "source": [
      "Example 13.1  Page No : 388"
     ]
    },
    {
     "cell_type": "code",
     "collapsed": false,
     "input": [
      "\n",
      "#INPUT DATA\n",
      "Ie = 10;\t\t\t#emitter current in mA\n",
      "Ic = 9.8;\t\t\t#collector current in mA\n",
      "#CALCULATIONS\n",
      "Ib = Ie-Ic;\t\t\t#base current in mA\n",
      "print \"base current is %1.1f mA \"%(Ib)\n",
      "\n"
     ],
     "language": "python",
     "metadata": {},
     "outputs": [
      {
       "output_type": "stream",
       "stream": "stdout",
       "text": [
        "base current is 0.2 mA \n"
       ]
      }
     ],
     "prompt_number": 1
    },
    {
     "cell_type": "heading",
     "level": 2,
     "metadata": {},
     "source": [
      "Example 13.2  Page No : 389"
     ]
    },
    {
     "cell_type": "code",
     "collapsed": false,
     "input": [
      "\n",
      "#INPUT DATA\n",
      "Ie = 6.28;\t\t\t#emitter current in mA\n",
      "Ic = 6.20;\t\t\t#collector current in mA\n",
      "#CALCULATIONS\n",
      "a = (Ic/Ie);\t\t\t#current gain\n",
      "print \"current gain  is %1.3f\"%(a)\n",
      "\n"
     ],
     "language": "python",
     "metadata": {},
     "outputs": [
      {
       "output_type": "stream",
       "stream": "stdout",
       "text": [
        "current gain  is 0.987\n"
       ]
      }
     ],
     "prompt_number": 2
    },
    {
     "cell_type": "heading",
     "level": 2,
     "metadata": {},
     "source": [
      "Example 13.3  Page No : 389"
     ]
    },
    {
     "cell_type": "code",
     "collapsed": false,
     "input": [
      "\n",
      "#INPUT DATA\n",
      "a = 0.967\t\t\t#common-base DC current gain\n",
      "Ie = 10;\t\t\t#emitter current in mA\n",
      "#CALCULATIONS\n",
      "Ic = Ie*a;\t\t\t#collector current in mA\n",
      "Ib = Ie-Ic;\t\t\t#base current in mA\n",
      "print \"base current is %1.2f mA\"%(Ib)\n",
      "\n"
     ],
     "language": "python",
     "metadata": {},
     "outputs": [
      {
       "output_type": "stream",
       "stream": "stdout",
       "text": [
        "base current is 0.33 mA\n"
       ]
      }
     ],
     "prompt_number": 3
    },
    {
     "cell_type": "heading",
     "level": 2,
     "metadata": {},
     "source": [
      "Example 13.4  Page No : 389"
     ]
    },
    {
     "cell_type": "code",
     "collapsed": false,
     "input": [
      "\n",
      "#INPUT DATA\n",
      "a = 0.98\t\t\t#common-base DC current gain\n",
      "Ie = 10;\t\t\t#emitter current in mA\n",
      "#CALCULATIONS\n",
      "Ic = Ie*a;\t\t\t#collector current in mA\n",
      "Ib = Ie-Ic;\t\t\t#base current in mA\n",
      "print \"base current is %1.1f mA\"%(Ib)\n"
     ],
     "language": "python",
     "metadata": {},
     "outputs": [
      {
       "output_type": "stream",
       "stream": "stdout",
       "text": [
        "base current is 0.2 mA\n"
       ]
      }
     ],
     "prompt_number": 4
    },
    {
     "cell_type": "heading",
     "level": 2,
     "metadata": {},
     "source": [
      "Example 13.5  Page No : 389"
     ]
    },
    {
     "cell_type": "code",
     "collapsed": false,
     "input": [
      "\n",
      "#INPUT DATA\n",
      "a = 0.97\t\t\t#common-base DC current gain\n",
      "b = 200.;\t\t\t#common-emitter DC current gain\n",
      "#CALCULATIONS\n",
      "b1 = a/(1-a);\t\t\t#common-emitter DC current gain when a = 0.97\n",
      "a1 = b/(b+1);\t\t\t#common-base DC current gain when b = 200\n",
      "print \"Thus common-emitter DC current gain when a = 0.97 and common-base DC current gain when \\\n",
      "\\nb = 200 are %2.2f and %1.3f respectively \"%(b1,a1)"
     ],
     "language": "python",
     "metadata": {},
     "outputs": [
      {
       "output_type": "stream",
       "stream": "stdout",
       "text": [
        "Thus common-emitter DC current gain when a = 0.97 and common-base DC current gain when \n",
        "b = 200 are 32.33 and 0.995 respectively \n"
       ]
      }
     ],
     "prompt_number": 6
    },
    {
     "cell_type": "heading",
     "level": 2,
     "metadata": {},
     "source": [
      "Example 13.6  Page No : 389"
     ]
    },
    {
     "cell_type": "code",
     "collapsed": false,
     "input": [
      "#INPUT DATA\n",
      "Ic = 40;\t\t\t#collector current in mA\n",
      "b = 100.;\t\t\t#common-emitter DC current gain\n",
      "#CALCULATIONS\n",
      "Ib = Ic/b;\t\t\t#base current in mA\n",
      "Ie = Ib+Ic;\t\t\t#emitter current in mA\n",
      "print \"Thus emitter current is %2.1f mA\"%(Ie);"
     ],
     "language": "python",
     "metadata": {},
     "outputs": [
      {
       "output_type": "stream",
       "stream": "stdout",
       "text": [
        "Thus emitter current is 40.4 mA\n"
       ]
      }
     ],
     "prompt_number": 7
    },
    {
     "cell_type": "heading",
     "level": 2,
     "metadata": {},
     "source": [
      "Example 13.7  Page No : 390"
     ]
    },
    {
     "cell_type": "code",
     "collapsed": false,
     "input": [
      "#INPUT DATA\n",
      "Ie = 10;\t\t\t#emitter current in mA\n",
      "b = 150.;\t\t\t#common-emitter DC current gain\n",
      "#CALCULATIONS\n",
      "a = b/(b+1);\t\t\t#common-base DC current gain\n",
      "Ic = a*Ie;\t\t\t#collector current in mA\n",
      "Ib = Ie-Ic;\t\t\t#base current in mA\n",
      "print \"Thus collector and base currents are %1.2f mA and %1.2f mA respectively\"%(Ic,Ib);\n"
     ],
     "language": "python",
     "metadata": {},
     "outputs": [
      {
       "output_type": "stream",
       "stream": "stdout",
       "text": [
        "Thus collector and base currents are 9.93 mA and 0.07 mA respectively\n"
       ]
      }
     ],
     "prompt_number": 8
    },
    {
     "cell_type": "heading",
     "level": 2,
     "metadata": {},
     "source": [
      "Example 13.8  Page No : 390"
     ]
    },
    {
     "cell_type": "code",
     "collapsed": false,
     "input": [
      "#INPUT DATA\n",
      "Ic = 80;\t\t\t#collector current in mA\n",
      "b = 170.;\t\t\t#common-emitter DC current gain\n",
      "#CALCULATIONS\n",
      "Ib = Ic/b;\t\t\t#base current in mA\n",
      "Ie = Ib+Ic;\t\t\t#emitter current in mA\n",
      "print \"Thus emitter and base currents are %2.2f mA and %1.2f mA respectively\"%(Ie,Ib);\n"
     ],
     "language": "python",
     "metadata": {},
     "outputs": [
      {
       "output_type": "stream",
       "stream": "stdout",
       "text": [
        "Thus emitter and base currents are 80.47 mA and 0.47 mA respectively\n"
       ]
      }
     ],
     "prompt_number": 9
    },
    {
     "cell_type": "heading",
     "level": 2,
     "metadata": {},
     "source": [
      "Example 13.9  Page No : 390"
     ]
    },
    {
     "cell_type": "code",
     "collapsed": false,
     "input": [
      "#INPUT DATA\n",
      "Ib = 0.125;\t\t\t#base current in mA\n",
      "b = 200;\t\t\t#common-emitter DC current gain\n",
      "#CALCULATIONS\n",
      "Ic = b*Ib;\t\t\t#collector current in mA\n",
      "Ie = Ib+Ic;\t\t\t#emitter current in mA\n",
      "print \"Thus emitter and collector currents are %2.3f mA and %d mA respectively\"%(Ie,Ic);\n"
     ],
     "language": "python",
     "metadata": {},
     "outputs": [
      {
       "output_type": "stream",
       "stream": "stdout",
       "text": [
        "Thus emitter and collector currents are 25.125 mA and 25 mA respectively\n"
       ]
      }
     ],
     "prompt_number": 10
    },
    {
     "cell_type": "heading",
     "level": 2,
     "metadata": {},
     "source": [
      "Example 13.10  Page No : 391"
     ]
    },
    {
     "cell_type": "code",
     "collapsed": false,
     "input": [
      "#INPUT DATA\n",
      "Ie = 12.;\t\t\t#emitter current in mA\n",
      "b = 100.;\t\t\t#common-emitter DC current gain\n",
      "#CALCULATIONS\n",
      "Ib = Ie/(1+b);\t\t\t#base current in mA\n",
      "Ic = Ie-Ib;\t\t\t#collector current in mA\n",
      "print \"Thus base and collector currents are %1.4f mA and %2.4f mA respectively\"%(Ib,Ic);\n"
     ],
     "language": "python",
     "metadata": {},
     "outputs": [
      {
       "output_type": "stream",
       "stream": "stdout",
       "text": [
        "Thus base and collector currents are 0.1188 mA and 11.8812 mA respectively\n"
       ]
      }
     ],
     "prompt_number": 11
    },
    {
     "cell_type": "heading",
     "level": 2,
     "metadata": {},
     "source": [
      "Example 13.11  Page No : 391"
     ]
    },
    {
     "cell_type": "code",
     "collapsed": false,
     "input": [
      "#INPUT DATA\n",
      "Ib = 100*10**-6;\t\t\t#base current in A\n",
      "Ic = 2*10**-3;\t\t\t#collector current in A\n",
      "Ib1 = 125*10**-6;\t\t\t#base current in A when change in Ib is 25 A\n",
      "Ic1 = 2.6*10**-3;\t\t\t#collector current in A when change in Ic is 0.6 A\n",
      "#CALCULATIONS\n",
      "b = Ic/Ib;\t\t\t#common-emitter DC current gain\n",
      "a = (b)/(b+1);\t\t\t#common-base DC current gain\n",
      "Ie = Ib+Ic;\t\t\t#emitter current in A\n",
      "b1 = Ic1/Ib1;\t\t\t#new common-emitter DC current gain\n",
      "print \"Thus b  a and Ie of transistor are %d ,%1.3f and %g A respectively\"%(b,a,Ie);\n",
      "print \"new value of b is %2.1f\"%(b1)\n"
     ],
     "language": "python",
     "metadata": {},
     "outputs": [
      {
       "output_type": "stream",
       "stream": "stdout",
       "text": [
        "Thus b  a and Ie of transistor are 20 ,0.952 and 0.0021 A respectively\n",
        "new value of b is 20.8\n"
       ]
      }
     ],
     "prompt_number": 12
    },
    {
     "cell_type": "heading",
     "level": 2,
     "metadata": {},
     "source": [
      "Example 13.12  Page No : 391"
     ]
    },
    {
     "cell_type": "code",
     "collapsed": false,
     "input": [
      "#INPUT DATA\n",
      "a = 0.98\t\t\t#common-base DC current gain\n",
      "Icbo = 5*10**-6;\t\t\t#current in A\n",
      "Ib = 100*10**-6;\t\t\t#base current in A\n",
      "#CALCULATIONS\n",
      "Ic = ((a*Ib)/(1-a))+(Icbo/(1-a));\t\t\t#collector current in mA\n",
      "Ie = Ib+Ic;\t\t\t#emitter current in mA\n",
      "print \"Thus collector and emitter currents are %g A and %g A respectively\"%(Ic,Ie);\n"
     ],
     "language": "python",
     "metadata": {},
     "outputs": [
      {
       "output_type": "stream",
       "stream": "stdout",
       "text": [
        "Thus collector and emitter currents are 0.00515 A and 0.00525 A respectively\n"
       ]
      }
     ],
     "prompt_number": 13
    },
    {
     "cell_type": "heading",
     "level": 2,
     "metadata": {},
     "source": [
      "Example 13.13  Page No : 391"
     ]
    },
    {
     "cell_type": "code",
     "collapsed": false,
     "input": [
      "#INPUT DATA\n",
      "Icbo = 10*10**-6;\t\t\t#current in A\n",
      "hfe = 50;\t\t\t#common-emitter DC current gain\n",
      "Ib = 0.25*10**-3;\t\t\t#base current in A\n",
      "T2 = 50;\t\t\t#temperature in degree centigrade\n",
      "T1 = 27;\t\t\t#temperature in degree centigrade\n",
      "#CALCULATIONS\n",
      "Ic1 = (hfe*Ib)+((1+hfe)*(Icbo));\t\t\t#collector current in A when base current is Ib = 0.25*10**-3\n",
      "I1cbo = Icbo*(2*(T2-T1)/10);\t\t\t#new value of Icbo when temperature changes from 27 degree centigrade to 50 degree centigrade\n",
      "Ic2 = (hfe*Ib)+((1+hfe)*(I1cbo));\t\t\t#collector current in A\n",
      "print \"Thus collector currents in case 1 and 2 are %g A , %g A respectively\"%(Ic1,Ic2);\n"
     ],
     "language": "python",
     "metadata": {},
     "outputs": [
      {
       "output_type": "stream",
       "stream": "stdout",
       "text": [
        "Thus collector currents in case 1 and 2 are 0.01301 A , 0.01454 A respectively\n"
       ]
      }
     ],
     "prompt_number": 15
    },
    {
     "cell_type": "heading",
     "level": 2,
     "metadata": {},
     "source": [
      "Example 13.14  Page No : 391"
     ]
    },
    {
     "cell_type": "code",
     "collapsed": false,
     "input": [
      "#INPUT DATA\n",
      "deltaIe = 1*10**-3;\t\t\t#change in emitter current in A\n",
      "deltaIc = 0.99*10**-3;\t\t\t#change in collector current in A\n",
      "#CALCULATIONS\n",
      "a = (deltaIc/deltaIe);\t\t\t#current gain of the transistor\n",
      "print \"Thus current gain of the transistor is %1.2f\"%(a);\n"
     ],
     "language": "python",
     "metadata": {},
     "outputs": [
      {
       "output_type": "stream",
       "stream": "stdout",
       "text": [
        "Thus current gain of the transistor is 0.99\n"
       ]
      }
     ],
     "prompt_number": 16
    },
    {
     "cell_type": "heading",
     "level": 2,
     "metadata": {},
     "source": [
      "Example 13.15  Page No : 391"
     ]
    },
    {
     "cell_type": "code",
     "collapsed": false,
     "input": [
      "#INPUT DATA\n",
      "b = 100.;\t\t\t#common-emitter DC current gain\n",
      "#CALCULATIONS\n",
      "a = (b/(1+b));\t\t\t#common-base DC current gain\n",
      "print \"Thus common-base DC current gain is %1.2f\"%(a);\n"
     ],
     "language": "python",
     "metadata": {},
     "outputs": [
      {
       "output_type": "stream",
       "stream": "stdout",
       "text": [
        "Thus common-base DC current gain is 0.99\n"
       ]
      }
     ],
     "prompt_number": 17
    },
    {
     "cell_type": "heading",
     "level": 2,
     "metadata": {},
     "source": [
      "Example 13.16  Page No : 391"
     ]
    },
    {
     "cell_type": "code",
     "collapsed": false,
     "input": [
      "#INPUT DATA\n",
      "deltaIe = 1*10**-3;\t\t\t#change in emitter current in A\n",
      "deltaIc = 0.995*10**-3;\t\t\t#change in collector current in A\n",
      "#CALCULATIONS\n",
      "a = deltaIc/deltaIe;\t\t\t#common-base DC current gain\n",
      "b = a/(1-a);\t\t\t#common-emitter DC current gain\n",
      "print \"Thus common-base DC current gain and common-emitter DC current gain are %1.3f and %1.0f respectively\"%(a,b);\n"
     ],
     "language": "python",
     "metadata": {},
     "outputs": [
      {
       "output_type": "stream",
       "stream": "stdout",
       "text": [
        "Thus common-base DC current gain and common-emitter DC current gain are 0.995 and 199 respectively\n"
       ]
      }
     ],
     "prompt_number": 18
    },
    {
     "cell_type": "heading",
     "level": 2,
     "metadata": {},
     "source": [
      "Example 13.17  Page No : 391"
     ]
    },
    {
     "cell_type": "code",
     "collapsed": false,
     "input": [
      "#INPUT DATA\n",
      "b = 49.;\t\t\t#common-emitter DC current gain\n",
      "Ie = 3*10**-3;\t\t\t#emitter current in A\n",
      "#CALCULATIONS\n",
      "a = b/(1+b);\t\t\t#common-base DC current gain\n",
      "Ic = a*Ie;\t\t\t#collector current in A\n",
      "print \"Thus common-base DC current gain and ccollector current are %1.2f and %g A respectively\"%(a,Ic);\n"
     ],
     "language": "python",
     "metadata": {},
     "outputs": [
      {
       "output_type": "stream",
       "stream": "stdout",
       "text": [
        "Thus common-base DC current gain and ccollector current are 0.98 and 0.00294 A respectively\n"
       ]
      }
     ],
     "prompt_number": 19
    },
    {
     "cell_type": "heading",
     "level": 2,
     "metadata": {},
     "source": [
      "Example 13.18  Page No : 393"
     ]
    },
    {
     "cell_type": "code",
     "collapsed": false,
     "input": [
      "#INPUT DATA\n",
      "Ib = 15.*10**-3;\t\t\t#base current in A\n",
      "b = 150.;\t\t\t#common-emitter DC current gain\n",
      "#CALCULATIONS\n",
      "Ic = b*Ib;\t\t\t#collector current in A\n",
      "Ie = Ic+Ib;\t\t\t#emitter current in A\n",
      "a = b/(1+b);\t\t\t#common-base DC current gain\n",
      "print \"Thus collector current, emitter current and common-base DC current gain are %g A,  %g A  and %1.4f  respectively\"%(Ic,Ie,a);\n"
     ],
     "language": "python",
     "metadata": {},
     "outputs": [
      {
       "output_type": "stream",
       "stream": "stdout",
       "text": [
        "Thus collector current, emitter current and common-base DC current gain are 2.25 A,  2.265 A  and 0.9934  respectively\n"
       ]
      }
     ],
     "prompt_number": 20
    },
    {
     "cell_type": "heading",
     "level": 2,
     "metadata": {},
     "source": [
      "Example 13.19  Page No : 393"
     ]
    },
    {
     "cell_type": "code",
     "collapsed": false,
     "input": [
      "#INPUT DATA\n",
      "Vcc = 10;\t\t\t#collector to collector voltage in volts\n",
      "Vbb = 4;\t\t\t#base to base voltage in volts\n",
      "Rb = 200*10**3;\t\t\t#base resistance in ohms\n",
      "Rc = 2*10**3;\t\t\t#collector resistance in ohms\n",
      "Vbe = 0.7;\t\t\t#base to emitter voltage in volts\n",
      "b = 200;\t\t\t#common-emitter DC current gain\n",
      "#CALCULATIONS\n",
      "Ib = (Vbb-Vbe)/(Rb);\t\t\t#base current in A\n",
      "Ic = b*Ib;\t\t\t#collector current in A\n",
      "Ie = Ic+Ib;\t\t\t#emitter current in A\n",
      "Vce = Vcc-(Ic*Rc);\t\t\t#collector to emitter voltage in volts\n",
      "print \"Thus collector current, emitter current and base currents are %g A, %g A and %g A respectively\"%(Ib,Ic,Ie);\n",
      "print \"collector to emitter voltage is %1.1f V\"%(Vce)\n"
     ],
     "language": "python",
     "metadata": {},
     "outputs": [
      {
       "output_type": "stream",
       "stream": "stdout",
       "text": [
        "Thus collector current, emitter current and base currents are 1.65e-05 A, 0.0033 A and 0.0033165 A respectively\n",
        "collector to emitter voltage is 3.4 V\n"
       ]
      }
     ],
     "prompt_number": 21
    },
    {
     "cell_type": "heading",
     "level": 2,
     "metadata": {},
     "source": [
      "Example 13.20  Page No : 394"
     ]
    },
    {
     "cell_type": "code",
     "collapsed": false,
     "input": [
      "#INPUT DATA\n",
      "a = 0.99;\t\t\t#common-base DC current gain\n",
      "Icbo = 5*10**-6;\t\t\t#current in A\n",
      "Ib = 20*10**-6;\t\t\t#current in A\n",
      "#CALCULATIONS\n",
      "Ic = ((a*Ib)/(1-a))+(Icbo/(1-a));\t\t\t#collector current in A\n",
      "Ie = Ib+Ic;\t\t\t#emitter current in A\n",
      "print \"collector and  emitter currents are %g A and %g A respectively\"%(Ic,Ie)\n"
     ],
     "language": "python",
     "metadata": {},
     "outputs": [
      {
       "output_type": "stream",
       "stream": "stdout",
       "text": [
        "collector and  emitter currents are 0.00248 A and 0.0025 A respectively\n"
       ]
      }
     ],
     "prompt_number": 22
    },
    {
     "cell_type": "heading",
     "level": 2,
     "metadata": {},
     "source": [
      "Example 13.21  Page No : 394"
     ]
    },
    {
     "cell_type": "code",
     "collapsed": false,
     "input": [
      "#INPUT DATA\n",
      "Icbo = 0.2*10**-6;\t\t\t#current in A\n",
      "Iceo = 18*10**-6;\t\t\t#current in A\n",
      "Ib = 30*10**-6;\t\t\t#current in A\n",
      "#CALCULATIONS\n",
      "a = 1-(Icbo/Iceo);\t\t\t#common-base DC current gain\n",
      "b = (Iceo/Icbo)-1;\t\t\t#common-emitter DC current gain\n",
      "Ic = (b*Ib)+((1+b)*(Icbo));\t\t\t#collector current in A\n",
      "print \"Thus common-base DC current gain and common-emitter DC current gain are %1.3f and %d respectively\"%(a,b)\n"
     ],
     "language": "python",
     "metadata": {},
     "outputs": [
      {
       "output_type": "stream",
       "stream": "stdout",
       "text": [
        "Thus common-base DC current gain and common-emitter DC current gain are 0.989 and 89 respectively\n"
       ]
      }
     ],
     "prompt_number": 23
    },
    {
     "cell_type": "heading",
     "level": 2,
     "metadata": {},
     "source": [
      "Example 13.22  Page No : 394"
     ]
    },
    {
     "cell_type": "code",
     "collapsed": false,
     "input": [
      "#INPUT DATA\n",
      "a = 0.99;\t\t\t#common-base DC current gain\n",
      "Icbo = 50*10**-6;\t\t\t#current in A\n",
      "Ib = 1*10**-3;\t\t\t#current in A\n",
      "#CALCULATIONS\n",
      "Ic = ((a*Ib)/(1-a))+(Icbo/(1-a));\t\t\t#collector current in A\n",
      "Ie = Ic+Ib;\t\t\t#emitter current in A\n",
      "print \"Thus emitter current is %g A\"%(Ie)"
     ],
     "language": "python",
     "metadata": {},
     "outputs": [
      {
       "output_type": "stream",
       "stream": "stdout",
       "text": [
        "Thus emitter current is 0.105 A\n"
       ]
      }
     ],
     "prompt_number": 24
    }
   ],
   "metadata": {}
  }
 ]
}