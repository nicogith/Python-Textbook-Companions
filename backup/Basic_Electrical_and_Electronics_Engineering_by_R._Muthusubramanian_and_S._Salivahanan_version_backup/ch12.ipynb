{
 "metadata": {
  "name": "",
  "signature": "sha256:72e044766d98cfacd7841e3ca7791d1448ad061b3805bfc24b7dbb1f047353f7"
 },
 "nbformat": 3,
 "nbformat_minor": 0,
 "worksheets": [
  {
   "cells": [
    {
     "cell_type": "heading",
     "level": 1,
     "metadata": {},
     "source": [
      "Chapter 12 : JUNCTION DIODE AND ITS APPLICATIONS"
     ]
    },
    {
     "cell_type": "heading",
     "level": 2,
     "metadata": {},
     "source": [
      "Example 12.1  Page No : 341"
     ]
    },
    {
     "cell_type": "code",
     "collapsed": false,
     "input": [
      "import math \n",
      "\n",
      "#INPUT DATA\n",
      "Vm = 325.;\t\t\t#voltage in volts\n",
      "Rl = 1000.;\t\t\t#resistive load in ohms\n",
      "rf = 100.;\t\t\t#forward resistance in ohms\n",
      "#CALCULATIONS\n",
      "#for subdivision (a)\n",
      "Im = Vm/(rf+Rl);\t\t\t#peak value of current in A\n",
      "Idc = Im/(math.pi);\t\t\t#average current in A\n",
      "Irms = Im/2;\t\t\t#rms value of current in A\n",
      "print \"Thus peak value of current, average current and rms value of current are %g A , %g A and %g A\\\n",
      " respectively\"%(Im,Idc,Irms);\n",
      "#for subdivision (b)\n",
      "Pdc = (Idc)**2*(Rl);\t\t\t#DC power output\n",
      "print \"Thus DC power is %1.3f W\"%(Pdc);\n",
      "#for subdivision (c)\n",
      "Pac = (Irms)**2*(rf+Rl);\t\t\t#AC input power\n",
      "print \"Thus AC power is %d W\"%(Pac);\n",
      "#for subdivision (d)\n",
      "n = (Pdc/Pac);\t\t\t#efficiency of rectification\n",
      "n = n*100;\t\t\t#efficiency in percentage\n",
      "print \"Thus efficiency in percentage is %2.2f percentage\"%(n);\n",
      "\n"
     ],
     "language": "python",
     "metadata": {},
     "outputs": [
      {
       "output_type": "stream",
       "stream": "stdout",
       "text": [
        "Thus peak value of current, average current and rms value of current are 0.295455 A , 0.0940461 A and 0.147727 A respectively\n",
        "Thus DC power is 8.845 W\n",
        "Thus AC power is 24 W\n",
        "Thus efficiency in percentage is 36.84 percentage\n"
       ]
      }
     ],
     "prompt_number": 2
    },
    {
     "cell_type": "heading",
     "level": 2,
     "metadata": {},
     "source": [
      "Example 12.2  Page No : 341"
     ]
    },
    {
     "cell_type": "code",
     "collapsed": false,
     "input": [
      "import math\n",
      "\n",
      "#INPUT DATA\n",
      "Vdc = 24.;\t\t\t#supply voltage in volts\n",
      "Rl = 500.;\t\t\t#resistance in ohms\n",
      "rf = 50.;\t\t\t#forward resistance in ohms\n",
      "#CALCULATIONS\n",
      "Idc = (Vdc)/(Rl);\t\t\t#average value of load current in A\n",
      "Im = (math.pi)*(Idc);\t\t\t#maximum value of load current in A\n",
      "Vm = (Im)*(rf+Rl);\t\t\t#Maximum voltage required at input in volts\n",
      "print \"Thus average current, maximum current and maximum voltage required are %g A, %g A and %2.2f V respectively\"%(Idc,Im,Vm);\n",
      "\n"
     ],
     "language": "python",
     "metadata": {},
     "outputs": [
      {
       "output_type": "stream",
       "stream": "stdout",
       "text": [
        "Thus average current, maximum current and maximum voltage required are 0.048 A, 0.150796 A and 82.94 V respectively\n"
       ]
      }
     ],
     "prompt_number": 3
    },
    {
     "cell_type": "heading",
     "level": 2,
     "metadata": {},
     "source": [
      "Example 12.3  Page No : 342"
     ]
    },
    {
     "cell_type": "code",
     "collapsed": false,
     "input": [
      "import math \n",
      "\n",
      "#INPUT DATA\n",
      "Vac = 230.;\t\t\t#AC supply voltage\n",
      "turnsratio = 5.;\t\t\t#turns ratio\n",
      "Rl = 300.;\t\t\t#resistance in ohms\n",
      "\n",
      "#CALCULATIONS\n",
      "Vs = (Vac)/(turnsratio);\t\t\t#transformer sceondary voltage in V\n",
      "Vm = math.sqrt(2)*(Vs);\t\t\t#maximum value of secondary voltage in V\n",
      "Vdc = Vm/(math.pi);\t\t\t#DC output voltage in V \n",
      "PIV = Vm;\t\t\t#PIV of a diode in V\n",
      "Im = (Vm/Rl);\t\t\t#maximum value of load current in A\n",
      "Pm = (Im)**2*(Rl);\t\t\t#Maximum value of power delivered\n",
      "Idc = Vdc/(Rl);\t\t\t#average value of load current in A\n",
      "Pdc = (Idc)**2*(Rl);\t\t\t#average value of power delivered to load\n",
      "print \"Thus DC output voltage, PIV, Maximum value of power delivered, average value of power delivered\\\n",
      " to load are %2.1f V, %d V, %2.1f W, %1.2f W respectively\"%(Vdc,PIV,Pm,Pdc);\n",
      "\n"
     ],
     "language": "python",
     "metadata": {},
     "outputs": [
      {
       "output_type": "stream",
       "stream": "stdout",
       "text": [
        "Thus DC output voltage, PIV, Maximum value of power delivered, average value of power delivered to load are 20.7 V, 65 V, 14.1 W, 1.43 W respectively\n"
       ]
      }
     ],
     "prompt_number": 4
    },
    {
     "cell_type": "heading",
     "level": 2,
     "metadata": {},
     "source": [
      "Example 12.4  Page No : 344"
     ]
    },
    {
     "cell_type": "code",
     "collapsed": false,
     "input": [
      "import math \n",
      "#Chapter-12, Example 12.4, Page 344\n",
      "\n",
      "#INPUT DATA\n",
      "Vac = 230.;\t\t\t#AC supply voltage\n",
      "f = 60.;\t\t\t#frequency in Hz\n",
      "Rl = 900.;\t\t\t#load resistance in ohms\n",
      "noofturns = 5.;\t\t\t#no of turns\n",
      "Rl = 900.;\t\t\t#resistance of load in ohms\n",
      "rs = 100.;\t\t\t#secondary coil resistance in ohms\n",
      "\n",
      "#CALCULATIONS\n",
      "Vs = (Vac)/(noofturns);\t\t\t#voltage across two ends of secondary in V\n",
      "Vrms = (Vs)/2;\t\t\t#voltage from center tapping to one end\n",
      "Vm = Vrms*math.sqrt(2);\t\t\t#mean voltage in V\n",
      "Vdc = (2*Vm)/(math.pi);\t\t\t#voltage across load in V\n",
      "Idc = (Vdc)/(rs+Rl);\t\t\t#DC current flowing through to load in A\n",
      "Pdc = (Idc)**2*(Rl);\t\t\t#DC power delivered to the load in W\n",
      "PIV = 2*Vm;\t\t\t#PIV across each diode in V\n",
      "Vr = math.sqrt((Vrms)**2-(Vdc)**2);\t\t\t#Ripple voltage in V\n",
      "fr = 2*f;\t\t\t#frequency of ripple voltage in Hz\n",
      "print \"Thus voltage across load, DC current flowing through to load ,DC power delivered to the load, \\\n",
      "\\nPIV across each diode, Ripple voltage are %2.1f V, %g A, %1.3f W, %d V, %2.2f V and %d Hz respectively\"%(Vdc,Idc,Pdc,PIV,Vr,fr);"
     ],
     "language": "python",
     "metadata": {},
     "outputs": [
      {
       "output_type": "stream",
       "stream": "stdout",
       "text": [
        "Thus voltage across load, DC current flowing through to load ,DC power delivered to the load, \n",
        "PIV across each diode, Ripple voltage are 20.7 V, 0.0207073 A, 0.386 W, 65 V, 10.01 V and 120 Hz respectively\n"
       ]
      }
     ],
     "prompt_number": 5
    },
    {
     "cell_type": "heading",
     "level": 2,
     "metadata": {},
     "source": [
      "Example 12.5  Page No : 344"
     ]
    },
    {
     "cell_type": "code",
     "collapsed": false,
     "input": [
      "import math \n",
      "#Chapter-12, Example 12.5, Page 344\n",
      "\n",
      "#INPUT DATA\n",
      "Imax = 400*10**-3;\t\t\t#maximum value of current in mA\n",
      "Iav = 150*10**-3;\t\t\t#average value of current in mA\n",
      "Vs = 100;\t\t\t#maximum value of secondary voltage in V\n",
      "#CALCULATIONS\n",
      "#we know that maximum value of current does not exceed 80 percentage\n",
      "Imax1 = 0.8*Imax;\t\t\t#maximum value of current in mA\n",
      "Vm = math.sqrt(2)*(Vs);\t\t\t#maximum value of secondary voltage in V\n",
      "Rl = (Vm)/(Imax1);\t\t\t#value of load resistor in ohms\n",
      "Vdc = (2*Vm)/(math.pi);\t\t\t#DC(load) voltage\n",
      "Idc = Vdc/(Rl);\t\t\t#DC load current in A\n",
      "PIV = 2*Vm;\t\t\t#PIV of each diode\n",
      "print \"Thus value of load resistor,voltage,current and PIV of each \\\n",
      "\\ndiode are %1.0f ohms,%d V,%1.3f A and %3.1f V respectively\"%(Rl,Vdc,Idc,PIV);\n",
      "\n"
     ],
     "language": "python",
     "metadata": {},
     "outputs": [
      {
       "output_type": "stream",
       "stream": "stdout",
       "text": [
        "Thus value of load resistor,voltage,current and PIV of each \n",
        "diode are 442 ohms,90 V,0.204 A and 282.8 V respectively\n"
       ]
      }
     ],
     "prompt_number": 7
    },
    {
     "cell_type": "heading",
     "level": 2,
     "metadata": {},
     "source": [
      "Example 12.6  Page No : 345"
     ]
    },
    {
     "cell_type": "code",
     "collapsed": false,
     "input": [
      "import math \n",
      "\n",
      "#INPUT DATA\n",
      "Pdc = 50;\t\t\t#power in W\n",
      "Rl = 200;\t\t\t#resistance in ohms\n",
      "ripplefactor = 0.01\n",
      "#CALCULATIONS\n",
      "Vdc = math.sqrt(Pdc*Rl);\t\t\t#DC voltage\n",
      "Vac = ripplefactor*Vdc;\t\t\t#AC voltage\n",
      "print \"Thus AC ripple voltage across the load is %d V\"%(Vac);\n",
      "\n"
     ],
     "language": "python",
     "metadata": {},
     "outputs": [
      {
       "output_type": "stream",
       "stream": "stdout",
       "text": [
        "Thus AC ripple voltage across the load is 1 V\n"
       ]
      }
     ],
     "prompt_number": 8
    },
    {
     "cell_type": "heading",
     "level": 2,
     "metadata": {},
     "source": [
      "Example 12.7  Page No : 346"
     ]
    },
    {
     "cell_type": "code",
     "collapsed": false,
     "input": [
      "import math \n",
      "\n",
      "#INPUT DATA\n",
      "V = 230.;\t\t\t#AC supply voltage\n",
      "f = 50.;\t\t\t#frequency in Hz\n",
      "noofturns = 4.;\t\t\t#noofturns ratio\n",
      "Rl = 600.;\t\t\t#load resistance in ohms\n",
      "#CALCULATIONS\n",
      "Vrms = (V/4);\t\t\t#rms value of secondary voltage in V\n",
      "Vm = math.sqrt(2)*(Vrms);\t\t\t#max value of secondary voltage\n",
      "Vdc = (2*Vm)/(math.pi);\t\t\t#DC output voltage\n",
      "Pdc = (Vdc)**2/(Rl);\t\t\t#DC power in W\n",
      "PIV = Vm;\t\t\t#PIV across each diode in V\n",
      "f0 = 2*f;\t\t\t#output frequency in Hz\n",
      "print \"Thus DC output voltage,DC power,PIV and output frequency are %1.0f V,%1.3f W,%2.1f V and %d hz respectively\"%(Vdc,Pdc,PIV,f0);\n",
      "#note:in given problem,Rl is 600 ohms,but in textbook calculations Rl taken is 1000 ohms,I took Rl as 600 ohms\n",
      "\n"
     ],
     "language": "python",
     "metadata": {},
     "outputs": [
      {
       "output_type": "stream",
       "stream": "stdout",
       "text": [
        "Thus DC output voltage,DC power,PIV and output frequency are 52 V,4.467 W,81.3 V and 100 hz respectively\n"
       ]
      }
     ],
     "prompt_number": 9
    },
    {
     "cell_type": "heading",
     "level": 2,
     "metadata": {},
     "source": [
      "Example 12.8  Page No : 349"
     ]
    },
    {
     "cell_type": "code",
     "collapsed": false,
     "input": [
      "import math \n",
      "\n",
      "#INPUT DATA\n",
      "Rl = 100.;\t\t\t#resistance of load in ohms\n",
      "f = 60;\t\t\t#frequency in hz\n",
      "ripplefactor = 0.04;\n",
      "#CALCULATIONS\n",
      "L = Rl/(3*math.sqrt(2)*(2*math.pi*f*ripplefactor));\t\t\t#inductance\n",
      "print \"inductance is %1.4f H\"%(L);"
     ],
     "language": "python",
     "metadata": {},
     "outputs": [
      {
       "output_type": "stream",
       "stream": "stdout",
       "text": [
        "inductance is 1.5630 H\n"
       ]
      }
     ],
     "prompt_number": 10
    },
    {
     "cell_type": "heading",
     "level": 2,
     "metadata": {},
     "source": [
      "Example 12.9  Page No : 351"
     ]
    },
    {
     "cell_type": "code",
     "collapsed": false,
     "input": [
      "import math \n",
      "from numpy.linalg import inv\n",
      "\n",
      "#INPUT DATA\n",
      "Rl = 500;\t\t\t#resistance of load in ohms\n",
      "f = 400;\t\t\t#frequency in hz\n",
      "ripplefactor = 0.1;\n",
      "#CALCULATIONS\n",
      "C = inv([[4*math.sqrt(3)*f*Rl*ripplefactor]]);\t\t\t#capacitance in uF\n",
      "print \"thus capacitance is %g F\"%(C);\n",
      "#note:ripple factor is 0.1 not 0.01 as mentioned by problem in text book\n",
      "\n"
     ],
     "language": "python",
     "metadata": {},
     "outputs": [
      {
       "output_type": "stream",
       "stream": "stdout",
       "text": [
        "thus capacitance is 7.21688e-06 F\n"
       ]
      }
     ],
     "prompt_number": 12
    },
    {
     "cell_type": "heading",
     "level": 2,
     "metadata": {},
     "source": [
      "Example 12.10  Page No : 352"
     ]
    },
    {
     "cell_type": "code",
     "collapsed": false,
     "input": [
      "#INPUT DATA\n",
      "V = 10;\t\t\t#output voltage in V\n",
      "Il = 200*10**-3;\t\t\t#load current in A\n",
      "#CALCULATIONS\n",
      "Rl = V/(Il);\t\t\t#effective load resistance in ohms\n",
      "ripplefactor = 0.02;\n",
      "#critical value occurs at f = 50 hz\n",
      "f = 50;\t\t\t#freq in hz\n",
      "L = Rl/(3*2*math.pi*f);\t\t\t#inductance in H\n",
      "#but taking L = 60mh(about 20 percentage higher)we have \n",
      "L1 = 60*10**-3;\t\t\t#inductance in henry\n",
      "C = 1.194/(ripplefactor*L1);\n",
      "print \"the values of L and C for LC filter are %g H and %g F respectively\"%(L1,C)\n",
      "#note:C value calculated is wrong in textbook\n"
     ],
     "language": "python",
     "metadata": {},
     "outputs": [
      {
       "output_type": "stream",
       "stream": "stdout",
       "text": [
        "the values of L and C for LC filter are 0.06 H and 995 F respectively\n"
       ]
      }
     ],
     "prompt_number": 13
    },
    {
     "cell_type": "heading",
     "level": 2,
     "metadata": {},
     "source": [
      "Example 12.11  Page No : 353"
     ]
    },
    {
     "cell_type": "code",
     "collapsed": false,
     "input": [
      "import math \n",
      "\n",
      "#INPUT DATA\n",
      "V = 10;\t\t\t#output voltage in V\n",
      "Il = 200*10**-3;\t\t\t#load current in A\n",
      "ripplefactor = 0.02;\n",
      "#CALCULATIONS\n",
      "Rl = V/(Il);\t\t\t#resistance in ohms\n",
      "#if we assume L = 10H and C1 = C2 = C\n",
      "L = 10;\t\t\t#indcumath.tance in henry \n",
      "C = math.sqrt(5700/(L*50*ripplefactor));\n",
      "print \"the values of L and C for CLC section are %d H and %1.0f uF respectively\"%(L,C)\n",
      "\n"
     ],
     "language": "python",
     "metadata": {},
     "outputs": [
      {
       "output_type": "stream",
       "stream": "stdout",
       "text": [
        "the values of L and C for CLC section are 10 H and 24 uF respectively\n"
       ]
      }
     ],
     "prompt_number": 14
    },
    {
     "cell_type": "heading",
     "level": 2,
     "metadata": {},
     "source": [
      "Example 12.16  Page No : 363"
     ]
    },
    {
     "cell_type": "code",
     "collapsed": false,
     "input": [
      "#The frequency of given input signal is 2000 hz.Hence,the period of the signal is 0.5ms.During the negative half of the signal,the diode is forward biased and it acts like a short circuit and the capacitor charges to 20 V.THis can be found out by applying Kirchoff's law in the input side.\n",
      "#15+Vc-5 = 0;\n",
      "#and\n",
      "#Vc = 20 V\n",
      "#The voltage across the resistor will be equal to Dc voltage 5V\n",
      "#During the positive half of input signal,the diode is reverse biased and it acts like an open circuit.Hence,the 5V battery has no effect on V0.Applying Kirchhoff's voltage law around the outside loop,we get \n",
      "#15+20-Vo = 0\n",
      "#Vo = 35V\n",
      "print \"Vc = 20V\"\n",
      "print \"the voltage across resistor will be equal to 5V\"\n"
     ],
     "language": "python",
     "metadata": {},
     "outputs": [
      {
       "output_type": "stream",
       "stream": "stdout",
       "text": [
        "Vc = 20V\n",
        "the voltage across resistor will be equal to 5V\n"
       ]
      }
     ],
     "prompt_number": 15
    },
    {
     "cell_type": "heading",
     "level": 2,
     "metadata": {},
     "source": [
      "Example 12.17  Page No : 364"
     ]
    },
    {
     "cell_type": "code",
     "collapsed": false,
     "input": [
      "\n",
      "#During the negative half of the input signal,the diode conducts,and acts like a short circuit.Now,the output voltage,V0 = 0V.The capacitor is charged to 10V with polarities and it behaves like a battery.\n",
      "#During the positive half of the input signal,the diode does not conduct,and acts like an open circuit.Hence,the output voltage,V0 = 20V.This gives positively clamped voltage.\n",
      "print \"V0 = 10+10 = 20 V\"\n",
      "\n"
     ],
     "language": "python",
     "metadata": {},
     "outputs": [
      {
       "output_type": "stream",
       "stream": "stdout",
       "text": [
        "V0 = 10+10 = 20 V\n"
       ]
      }
     ],
     "prompt_number": 16
    },
    {
     "cell_type": "heading",
     "level": 2,
     "metadata": {},
     "source": [
      "Example 12.18  Page No : 365"
     ]
    },
    {
     "cell_type": "code",
     "collapsed": false,
     "input": [
      "\n",
      "#During the positive half of the input signal,the diode conducts and acts like a short circuit.Now,the output voltage,V0 = 0V.The capacitor is charged to 12V with polarities and it behaves like a battery.\n",
      "#during the negative half of the input signal,the diode does not conduct and acts like an open circuit.Hence the output voltage ,V0 = -24V.This gives negatively clamped voltage.\n",
      "print \"V0 = 0V\"\n",
      "print \"output voltage V0 = -24V\"\n",
      "\n"
     ],
     "language": "python",
     "metadata": {},
     "outputs": [
      {
       "output_type": "stream",
       "stream": "stdout",
       "text": [
        "V0 = 0V\n",
        "output voltage V0 = -24V\n"
       ]
      }
     ],
     "prompt_number": 17
    },
    {
     "cell_type": "heading",
     "level": 2,
     "metadata": {},
     "source": [
      "Example 12.19  Page No : 367"
     ]
    },
    {
     "cell_type": "code",
     "collapsed": false,
     "input": [
      "\n",
      "#INPUT DATA\n",
      "Rh = 200;\t\t\t#Hall-coefficient in cubiccentimeter/C\n",
      "a = 10;\t\t\t#conductivity in s/m\n",
      "#CALCULATIONS\n",
      "un = a*Rh;\t\t\t#electron mobility in cm**2/V-s\n",
      "print \"electron mobility is %d cm**2/V-s\"%(un)\n",
      "#note:answer given is wrong in textbook\n",
      "\n"
     ],
     "language": "python",
     "metadata": {},
     "outputs": [
      {
       "output_type": "stream",
       "stream": "stdout",
       "text": [
        "electron mobility is 2000 cm**2/V-s\n"
       ]
      }
     ],
     "prompt_number": 18
    },
    {
     "cell_type": "heading",
     "level": 2,
     "metadata": {},
     "source": [
      "Example 12.20  Page No : 367"
     ]
    },
    {
     "cell_type": "code",
     "collapsed": false,
     "input": [
      "\n",
      "#INPUT DATA\n",
      "a = 10;\t\t\t#conductivity in s/m\n",
      "un = 50*10**-4;\t\t\t#electron mobility in m**2/V-s\n",
      "q = 1.6*10**-19;\t\t\t#charge in coulombs\n",
      "#CALCULATIONS\n",
      "n = (a/(un*q));\t\t\t#electron concentration in m**-3\n",
      "print \"electron concentration is %g m**-3 \"%(n)\n",
      "\n"
     ],
     "language": "python",
     "metadata": {},
     "outputs": [
      {
       "output_type": "stream",
       "stream": "stdout",
       "text": [
        "electron concentration is 1.25e+22 m**-3 \n"
       ]
      }
     ],
     "prompt_number": 19
    },
    {
     "cell_type": "heading",
     "level": 2,
     "metadata": {},
     "source": [
      "Example 12.21  Page No : 368"
     ]
    },
    {
     "cell_type": "code",
     "collapsed": false,
     "input": [
      "\n",
      "#INPUT DATA\n",
      "I = 20;\t\t\t#current in A\n",
      "B = 1.2\t\t\t#magnetic flux density in Wb/m**2\n",
      "Vh = 60;\t\t\t#hall voltage in V\n",
      "w = 0.5;\t\t\t#thickness of strip in mm\n",
      "q = 1.6*10**-19;\t\t\t#charge in coulombs\n",
      "#CALCULATIONS\n",
      "n = (B*I)/(Vh*q*w*10**-3);\t\t\t#electron concentration in m**-3\n",
      "print \"electron density is %g m**3 \"%(n)\n",
      "\n"
     ],
     "language": "python",
     "metadata": {},
     "outputs": [
      {
       "output_type": "stream",
       "stream": "stdout",
       "text": [
        "electron density is 5e+21 m**3 \n"
       ]
      }
     ],
     "prompt_number": 20
    }
   ],
   "metadata": {}
  }
 ]
}