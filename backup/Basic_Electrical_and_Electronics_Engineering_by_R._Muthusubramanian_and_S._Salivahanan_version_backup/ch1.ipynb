{
 "metadata": {
  "name": "",
  "signature": "sha256:c9941b6743666f452b49e914af76cbbcd62003c68f667c009fbaf557ae03d6e9"
 },
 "nbformat": 3,
 "nbformat_minor": 0,
 "worksheets": [
  {
   "cells": [
    {
     "cell_type": "heading",
     "level": 1,
     "metadata": {},
     "source": [
      "Chapter 1 : FUNDAMENTALS OF ELECTRICITY AND DC CIRCUITS"
     ]
    },
    {
     "cell_type": "heading",
     "level": 2,
     "metadata": {},
     "source": [
      "Example 1.1  Page No : 18"
     ]
    },
    {
     "cell_type": "code",
     "collapsed": false,
     "input": [
      "import math \n",
      "\n",
      "#INPUT DATA\n",
      "# details for the first wire\n",
      "l1 = 1;\t\t\t\t\t\t#length in m\n",
      "R1 = 2;\t\t\t\t\t\t#resistance in ohms\n",
      "x = R1;\t\t\t\t\t\t#say\n",
      "d = 1;\t\t\t\t\t\t#say \n",
      "p = 1;\t\t\t\t\t\t#say\n",
      "d1 = d;\t\t\t\t\t\t#say diameter in m \n",
      "p1 = p;\t\t\t\t\t\t#say specific resistance of  wire\n",
      "#details for the second wire\n",
      "l2 = 3;\t\t\t\t\t\t#length in m\n",
      "d = 1;\t\t\t\t\t\t#say \n",
      "p = 1;\t\t\t\t\t\t#say\n",
      "d2 = 2*d;\t\t\t\t\t\t#say diameter in m \n",
      "p2 = 2*p;\t\t\t\t\t\t#say specific resistance of  wire\n",
      "\n",
      "#CALCULATIONS\n",
      "R1 = p1*l1/(math.pi*d*d/4);\t\t\t\t\t\t#(R1 = p1*l1/a1), where a1 is cross sectional area of first wire with diameter d as (math.pi*d*d/4)---------------equation 1\n",
      "R2 = p2*l2/(math.pi*(4*d*d)/4);\t\t\t\t\t\t#(R2 = p2*l2/a2), where a2 is cross sectional area of  second wire with diameter 2d as (math.pi*((2*d)*(2*d))/4)-------------equation 2\n",
      "#dividing equation 1 by equation 2\n",
      "z = R1/R2;\n",
      "R2 = x/z;\n",
      "#OUTPUT\n",
      "print \"Thus the resistance of second wire is %1.0f ohm \"%(R2);"
     ],
     "language": "python",
     "metadata": {},
     "outputs": [
      {
       "output_type": "stream",
       "stream": "stdout",
       "text": [
        "Thus the resistance of second wire is 3 ohm \n"
       ]
      }
     ],
     "prompt_number": 1
    },
    {
     "cell_type": "heading",
     "level": 2,
     "metadata": {},
     "source": [
      "Example 1.2  Page No : 18"
     ]
    },
    {
     "cell_type": "code",
     "collapsed": false,
     "input": [
      "import math \n",
      "\n",
      "#INPUT DATA\n",
      "l1 = 20;\t\t\t#length in cm for first case\n",
      "l2 = 0.4;\t\t\t#length in cm for second case\n",
      "w = 0.1;\t\t\t#width in cm\n",
      "t = 0.4;\t\t\t#thickness in cm\n",
      "p = 1.7*10**-6\t\t\t#resistivity of copper in ohm cm\n",
      "a1 = 0.1*0.4\t\t\t#area(w*t) in cm**2 for first case\n",
      "a2 = 0.1*20\t\t\t#area(l*t) in cm**2 for second case\n",
      "\n",
      "#CALCULATIONS\n",
      "R1 = p*l1/a1;\t\t\t#resistance in ohms for first case\n",
      "R2 = p*l2/a2;\t\t\t#resistance in ohms for second case\n",
      "\n",
      "#OUTPUT\n",
      "print \"Thus the resistance in first and second cases are %g ohms and %g ohms\"%(R1,R2);"
     ],
     "language": "python",
     "metadata": {},
     "outputs": [
      {
       "output_type": "stream",
       "stream": "stdout",
       "text": [
        "Thus the resistance in first and second cases are 0.00085 ohms and 3.4e-07 ohms\n"
       ]
      }
     ],
     "prompt_number": 2
    },
    {
     "cell_type": "heading",
     "level": 2,
     "metadata": {},
     "source": [
      "Example 1.3  Page No : 19"
     ]
    },
    {
     "cell_type": "code",
     "collapsed": false,
     "input": [
      "import math \n",
      "\n",
      "#INPUT DATA\n",
      "la = 1000;\t\t\t#length  of aluminium wire in cm\n",
      "da = 0.2;\t\t\t#diameter in cm\n",
      "pa = 2.6*10**-6;\t\t\t#specific resistance of aluminium in ohm cm\n",
      "pc = 1.6*10**-6;\t\t\t#specific resistance of copper in ohm cm\n",
      "lc = 600;\t\t\t#length  of copper wire in cm\n",
      "i = 2;\t\t\t#current in A pasmath.sing through combination\n",
      "ia = 1.25;\t\t\t#current in A pasmath.sing through aluminium wire \n",
      "\n",
      "#CALCULATIONS\n",
      "ic = i-ia;\t\t\t#current in A pasmath.sing through copper wire\n",
      "#resistance of aluminium wire in ohms\n",
      "Ra = pa*la/(math.pi*(da*da)/4);\t\t\t#(Ra = pa*la/a), where a is cross sectional area of aluminum wire with diameter da  \n",
      "Rc = ia/ic*Ra;\t\t\t#resistance of copper wire\n",
      "dc = math.sqrt(4*pc*lc/Rc);\t\t\t#diameter of copper wire\n",
      "\n",
      "#OUTPUT\n",
      "print \"Thus the diameter of copper wire  is %1.3f cm \"%(dc);\n",
      "#note:The answer given for diameter in text book is wrong.please check the calculations\n"
     ],
     "language": "python",
     "metadata": {},
     "outputs": [
      {
       "output_type": "stream",
       "stream": "stdout",
       "text": [
        "Thus the diameter of copper wire  is 0.167 cm \n"
       ]
      }
     ],
     "prompt_number": 3
    },
    {
     "cell_type": "heading",
     "level": 2,
     "metadata": {},
     "source": [
      "Example 1.4  Page No : 20"
     ]
    },
    {
     "cell_type": "code",
     "collapsed": false,
     "input": [
      "\n",
      "#INPUT DATA\n",
      "l = 10000.;\t\t\t#length drawn from 10cc of copper in cm\n",
      "p = 1.7*10**-6;\t\t\t#Resistivity of copper in ohm cm\n",
      "v = 10.;\t\t\t#volume of copper in cc\n",
      "s1 = 10.;\t\t\t#square sheet side in second case in cm\n",
      "\n",
      "#CALCULATIONS\n",
      "a = v/l;\t\t\t#area of cross-section in cm**2 in first case\n",
      "R1 = p*l/a;\t\t\t#resistance of wire in first case in ohm\n",
      "a1 = s1*s1;\t\t\t#area of cross-section in cm**2 in second case\n",
      "l1 = v/a1;\t\t\t#thickness in case 2 in cm\n",
      "R2 = p*l1/a1;\t\t\t#resistance of wire in second case in ohm\n",
      "\n",
      "#OUTPUT\n",
      "print \"Thus the resistance in first and second cases are %g ohms and %g ohms\"%(R1,R2);\n",
      "\n",
      "\n"
     ],
     "language": "python",
     "metadata": {},
     "outputs": [
      {
       "output_type": "stream",
       "stream": "stdout",
       "text": [
        "Thus the resistance in first and second cases are 17 ohms and 1.7e-09 ohms\n"
       ]
      }
     ],
     "prompt_number": 5
    },
    {
     "cell_type": "heading",
     "level": 2,
     "metadata": {},
     "source": [
      "Example 1.5  Page No : 21"
     ]
    },
    {
     "cell_type": "code",
     "collapsed": false,
     "input": [
      "\n",
      "#INPUT DATA\n",
      "t1 = 40.;\t\t\t#temperature in degree centigrade \n",
      "t2 = 100.;\t\t\t#temperature in degree centigrade\n",
      "R1 = 3.146;\t\t\t#resistance of platinum coli at t1\n",
      "R2 = 3.767;\t\t\t#resistance of platinum coli at t2\n",
      "\n",
      "#CALCULATIONS\n",
      "x = R1/R2;\n",
      "a0 = ((R1-R2)/(R2*t1-R1*t2));\t\t\t#temperature coefficient at 0 degree centigrade\n",
      "R0 = R1/(1+(a0*t1));\t\t\t#resistance at zero degree centigrade\n",
      "a40 = a0/(1+(a0*t1));\t\t\t#temperature coefficient at 40 degree centigrade\n",
      "\n",
      "#OUTPUT\n",
      "print \"Thus the temperature coefficient at 0 degree centigrade, resistance at zero degree centigrade, \\\n",
      "\\ntemperature coefficient at 40 degree centigrade are %f /degree centigrade , %f ohms, %f /degree centigrade\\\n",
      "\\n respectively \"%(a0,R0,a40);\n"
     ],
     "language": "python",
     "metadata": {},
     "outputs": [
      {
       "output_type": "stream",
       "stream": "stdout",
       "text": [
        "Thus the temperature coefficient at 0 degree centigrade, resistance at zero degree centigrade, \n",
        "temperature coefficient at 40 degree centigrade are 0.003788 /degree centigrade , 2.732000 ohms, 0.003290 /degree centigrade\n",
        " respectively \n"
       ]
      }
     ],
     "prompt_number": 6
    },
    {
     "cell_type": "heading",
     "level": 2,
     "metadata": {},
     "source": [
      "Example 1.6  Page No : 21"
     ]
    },
    {
     "cell_type": "code",
     "collapsed": false,
     "input": [
      "#INPUT DATA\n",
      "t1 = 12;\t\t\t#temperature in degree centigrade\n",
      "t2 = 50;\t\t\t#temperature in degree centigrade\n",
      "R1 = 0.4;\t\t\t#copper coil resistance in ohms\n",
      "a0 = 0.004;\t\t\t#temperature coefficient of copper at zero degree centigrade\n",
      "\n",
      "#CALCULATIONS\n",
      "a12 = 1/((1/a0)+t1);\t\t\t#temperature coefficient at 12 degree centigrade\n",
      "R2 = R1*(1+(a12*(t2-t1)));\t\t\t#resistance of copper wire  in ohm at 52 degree centigrade\n",
      "\n",
      "#OUTPUT\n",
      "print \"Thus the resistance copper wire at 52 degree centigrade is %1.2f  ohm \"%(R2);\n",
      "\n",
      "\n"
     ],
     "language": "python",
     "metadata": {},
     "outputs": [
      {
       "output_type": "stream",
       "stream": "stdout",
       "text": [
        "Thus the resistance copper wire at 52 degree centigrade is 0.46  ohm \n"
       ]
      }
     ],
     "prompt_number": 8
    },
    {
     "cell_type": "heading",
     "level": 2,
     "metadata": {},
     "source": [
      "Example 1.7  Page No : 22"
     ]
    },
    {
     "cell_type": "code",
     "collapsed": false,
     "input": [
      "#INPUT DATA\n",
      "t1 = 20;\t\t\t#temperature in degree centigrade\n",
      "R1 = 45;\t\t\t#shunt motor resistance at t1\n",
      "R2 = 48.5;\t\t\t#new shunt resistance at t2\n",
      "a0 = 0.004;\t\t\t#temperature coefficient of resistance at 0 degree centigrade\n",
      "\n",
      "#CALCULATIONS\n",
      "x = R1/R2;\n",
      "t2 = ((1+(a0*t1)-x)/(a0*x));\n",
      "\n",
      "#OUTPUT\n",
      "print \"Thus the temperature for new resistance is %d degree centigrade \"%(t2);\n"
     ],
     "language": "python",
     "metadata": {},
     "outputs": [
      {
       "output_type": "stream",
       "stream": "stdout",
       "text": [
        "Thus the temperature for new resistance is 41 degree centigrade \n"
       ]
      }
     ],
     "prompt_number": 9
    },
    {
     "cell_type": "heading",
     "level": 2,
     "metadata": {},
     "source": [
      "Example 1.8  Page No : 22"
     ]
    },
    {
     "cell_type": "code",
     "collapsed": false,
     "input": [
      "\n",
      "#INPUT DATA\n",
      "V = 180.;\t\t\t#supply voltage in volts\n",
      "I1 = 4.;\t\t\t#initial current of coil in A\n",
      "t1 = 20.;\t\t\t#initial temperature\n",
      "I2 = 3.4;\t\t\t#new decreased current of coil in A at temperature t2\n",
      "a0 = 0.0043;\t\t\t#temperature coefficient in per degree centigrade\n",
      "\n",
      "#CALCULATIONS\n",
      "R1 = V/I1;\t\t\t#initial resistance of coil in ohms\n",
      "R2 = V/I2;\t\t\t#resistance of coil after some time in ohms\n",
      "x = R1/R2;\n",
      "t2 = (1+(a0*t1)-x)/(a0*x);\n",
      "t = t2-t1;\t\t\t#temperature rise\n",
      "\n",
      "#OUTPUT\n",
      "print \"Thus the temperature rise is %2.2f degree centigrade \"%(t);\n",
      "\n",
      "\n"
     ],
     "language": "python",
     "metadata": {},
     "outputs": [
      {
       "output_type": "stream",
       "stream": "stdout",
       "text": [
        "Thus the temperature rise is 44.57 degree centigrade \n"
       ]
      }
     ],
     "prompt_number": 10
    },
    {
     "cell_type": "heading",
     "level": 2,
     "metadata": {},
     "source": [
      "Example 1.9  Page No : 23"
     ]
    },
    {
     "cell_type": "code",
     "collapsed": false,
     "input": [
      "#INPUT DATA\n",
      "t2 = 2750.;\t\t\t#temperature in degree centigrade for tungsten lamp\n",
      "P = 150.;\t\t\t#power in watts\n",
      "V = 230.;\t\t\t#voltage in volts\n",
      "t1 = 16.;\t\t\t#temperature in degree centigrade\n",
      "a0 = 0.0047;\t\t\t#temperature coefficient of tungsten in per degree centigrade\n",
      "\n",
      "#CALCULATIONS\n",
      "R2 = (V*V)/P;\n",
      "a1 = 1/((1/a0)+t1);\t\t\t#temperature coefficient of resismath.tant at 16 degree centigrade\n",
      "R2 = (V*V)/P;\t\t\t#resistance of the filament of the lamp under normal working condition\n",
      "R1 = R2/(1+(a1*(t2-t1)));\t\t\t#resistance of copper wire  in ohm at 52 degree centigrade\n",
      "I2 = V/R2;\t\t\t#normal current taken by lamb\n",
      "I1 = V/R1;\t\t\t#current taken at the moment of switching on\n",
      "\n",
      "#OUTPUT\n",
      "print \"Thus the normal current taken by lamb and current taken at the moment of switching\\\n",
      "\\n on are %1.4f A and %1.4f A respectively \"%(I2,I1);\n",
      "\n",
      "\n"
     ],
     "language": "python",
     "metadata": {},
     "outputs": [
      {
       "output_type": "stream",
       "stream": "stdout",
       "text": [
        "Thus the normal current taken by lamb and current taken at the moment of switching\n",
        " on are 0.6522 A and 8.4464 A respectively \n"
       ]
      }
     ],
     "prompt_number": 12
    },
    {
     "cell_type": "heading",
     "level": 2,
     "metadata": {},
     "source": [
      "Example 1.10  Page No : 23"
     ]
    },
    {
     "cell_type": "code",
     "collapsed": false,
     "input": [
      "\n",
      "#INPUT DATA\n",
      "m1 = 2.;\t\t\t#mass of water in kg\n",
      "theta1 = 20.;\t\t\t#temperature 20 degree centigrade\n",
      "theta2 = 100.;\t\t\t#temperature 100 degree centigrade(boiling point of water)\n",
      "t = 1./10;\t\t\t#time taken to boil water in hr\n",
      "x = 40.;\t\t\t#math.cost of energy of 1kwh in paise for one unit\n",
      "y = 12.;\t\t\t#math.cost of energy consumed\n",
      "S = 1.;\t\t\t#specific heat of water\n",
      "\n",
      "#CALCULATIONS \n",
      "H = m1*S*(theta2-theta1);\t\t\t#heat energy required to raise temperature from theta1 to theta2 in kcals\n",
      "H = H/860;\t\t\t#heat energy in Kwh\n",
      "E = (12./40);\t\t\t#electrical energy or input energy to kettle in Kwh\n",
      "n = H/E*100;\t\t\t#efficiency of kettle in percentage;\n",
      "P = E/t;\t\t\t#power rating of kettle\n",
      "\n",
      "#OUTPUT\n",
      "print \"Thus the efficiency of kettle in percentage  and power rating of kettle is %d and %1.0f Kw\"%(n,P);\n",
      "\n",
      "\n",
      "\n"
     ],
     "language": "python",
     "metadata": {},
     "outputs": [
      {
       "output_type": "stream",
       "stream": "stdout",
       "text": [
        "Thus the efficiency of kettle in percentage  and power rating of kettle is 62 and 3 Kw\n"
       ]
      }
     ],
     "prompt_number": 13
    },
    {
     "cell_type": "heading",
     "level": 2,
     "metadata": {},
     "source": [
      "Example 1.11  Page No : 24"
     ]
    },
    {
     "cell_type": "code",
     "collapsed": false,
     "input": [
      "#INPUT DATA\n",
      "m = 2.;\t\t\t#mass of water in kg\n",
      "theta1 = 20.;\t\t\t#temperature 20 degree centigrade\n",
      "theta2 = 100.;\t\t\t#temperature 100 degree centigrade(boiling point of water)\n",
      "t = 0.25;\t\t\t#time taken to boil water in hr\n",
      "V = 240.;\t\t\t#power supply in volts\n",
      "n = 80.;\t\t\t#efficiency of kettle in percentage\n",
      "S = 1.;\t\t\t#specific heat of water\n",
      "\n",
      "#CALCULATIONS \n",
      "H = m*S*(theta2-theta1);\t\t\t#output energy from the kettle in kcal\n",
      "H = H/860;\t\t\t#output energy from the kettle in kwh\n",
      "n = n/100;\n",
      "E = H/n;\t\t\t#electrical energy or input energy to kettle in Kwh\n",
      "P = E/t;\t\t\t#power rating of kettle in Kw\n",
      "P = P*1000;\t\t\t#power rating of kettle in w\n",
      "R = (V*V)/P;\t\t\t#resistance of heating element in ohms\n",
      "\n",
      "#OUTPUT\n",
      "print \"Thus the resistance of heating element is %2.2f ohms\"%(R);\n",
      "\n"
     ],
     "language": "python",
     "metadata": {},
     "outputs": [
      {
       "output_type": "stream",
       "stream": "stdout",
       "text": [
        "Thus the resistance of heating element is 61.92 ohms\n"
       ]
      }
     ],
     "prompt_number": 14
    },
    {
     "cell_type": "heading",
     "level": 2,
     "metadata": {},
     "source": [
      "Example 1.12  Page No : 24"
     ]
    },
    {
     "cell_type": "code",
     "collapsed": false,
     "input": [
      "#INPUT DATA\n",
      "m = 20.;\t\t\t#mass of aluminium in kg\n",
      "S = 0.896;\t\t\t#specific heat of aluminium in KJ/Kg degree centigrade\n",
      "L = 402.;\t\t\t#latent heat of fusion of aluminium in KJ/Kg \n",
      "theta2 = 657.;\t\t\t#final temperature\n",
      "theta1 = 20.;\t\t\t#initial temperature(assumed)\n",
      "P = 25.;\t\t\t#power of furnace in Kw\n",
      "n = 80.;\t\t\t#efficiency of kettle in percentage\n",
      "\n",
      "#CALCULATIONS \n",
      "H = m*S*(theta2-theta1)+(m*L);\t\t\t#heat energy required to melt aluminium or energy output from the furnace in Kj\n",
      "H = H/4.186;\t\t\t#heat energy required to melt aluminium or energy output from the furnace in Kcal\n",
      "H = H/860;\t\t\t#heat energy required to melt aluminium or energy output from the furnace in KWh\n",
      "n = n/100;\n",
      "E = H/n;\t\t\t#electrical energy or input energy to kettle in Kwh\n",
      "t = E/P;\t\t\t#time taken to melt the aluminium in hr\n",
      "t = t*60;\t\t\t# time taken to melt the aluminium in min\n",
      "\n",
      "#OUTPUT\n",
      "print \"Thus the time taken to melt the aluminium is %2.2f min\"%(t);\n"
     ],
     "language": "python",
     "metadata": {},
     "outputs": [
      {
       "output_type": "stream",
       "stream": "stdout",
       "text": [
        "Thus the time taken to melt the aluminium is 16.21 min\n"
       ]
      }
     ],
     "prompt_number": 15
    },
    {
     "cell_type": "heading",
     "level": 2,
     "metadata": {},
     "source": [
      "Example 1.13  Page No : 25"
     ]
    },
    {
     "cell_type": "code",
     "collapsed": false,
     "input": [
      "#INPUT DATA\n",
      "m = 80000.;\t\t\t#mass of water lifted by pump in Kg/min\n",
      "g = 9.81;\t\t\t#gravity consmath.tant in m/sec**2\n",
      "h = 2.;\t\t\t#pump is in operation for two hours a day\n",
      "d = 30.;\t\t\t#pump is in operation for 30 days\n",
      "T = h*d;\t\t\t#total time for which pump is in operation in hrs\n",
      "n = 70.;\t\t\t#efficeincy in percentage\n",
      "h = 12.;\t\t\t#the height in m to which pump lifts water\n",
      "C = 50.;\t\t\t#math.cost of energy in paise/Kwh\n",
      "\n",
      "#CALCULATIONS \n",
      "P = m*g*h;\t\t\t#potential energy possessed by water per minute or workdone by motor pump/minute measured in joules\n",
      "P = P/60;\t\t\t#potential energy possessed by water per minute or workdone by motor pump/minute  measured in joules/sec or watts.\n",
      "O = P/1000;\t\t\t#output power of motor in Kw\n",
      "n = n/100;\n",
      "E = O/n;\t\t\t#input power of motor in Kw\n",
      "Et = E*T;\t\t\t#total energy supplied or energy consumption in Kwh\n",
      "C = C/100;\t\t\t#math.cost of energy in Rs/Kwh\n",
      "Ct = C*Et;\t\t\t#Total math.cost of energy\n",
      "\n",
      "#OUTPUT\n",
      "print \"Thus the total math.cost of energy is  Rs %4.0f\"%(Ct);\n"
     ],
     "language": "python",
     "metadata": {},
     "outputs": [
      {
       "output_type": "stream",
       "stream": "stdout",
       "text": [
        "Thus the total math.cost of energy is  Rs 6727\n"
       ]
      }
     ],
     "prompt_number": 16
    },
    {
     "cell_type": "heading",
     "level": 2,
     "metadata": {},
     "source": [
      "Example 1.14  Page No : 26"
     ]
    },
    {
     "cell_type": "code",
     "collapsed": false,
     "input": [
      "#INPUT DATA\n",
      "P = 100.;\t\t\t#power of power station in MW\n",
      "g = 9.81;\t\t\t#gravity consmath.tant in m/sec**2\n",
      "h = 200.;\t\t\t#effective head of power station in m\n",
      "n = 80.;\t\t\t#efficiency of station in percentage\n",
      "t = 10.;\t\t\t#operation time of power station \n",
      "\n",
      "#CALCULATIONS \n",
      "E1 = P*t;\t\t\t# energy output from the station in 10 hours measured in MWh\n",
      "n = n/100;\n",
      "E2 = P*t/n;\t\t\t#energy input to the station in 10 hours measured in MWh\n",
      "E2 = E2*10**6*60*60;\t\t\t#energy input to the station in 10 hours measured in Wsec or joules\n",
      "#energy input to the station is equal to potential energy supplied by water to station\n",
      "m = E2/(g*h);\t\t\t#mass in kg of water used\n",
      "d = 1000;\t\t\t#density of water in kg/m**3\n",
      "V = m/d;\t\t\t#volume of water used in 10 hours\n",
      "\n",
      "#OUTPUT\n",
      "print \"Thus the volume of water used in 10 hours is %e cubic metre\"%(V);\n",
      "\n"
     ],
     "language": "python",
     "metadata": {},
     "outputs": [
      {
       "output_type": "stream",
       "stream": "stdout",
       "text": [
        "Thus the volume of water used in 10 hours is 2.293578e+06 cubic metre\n"
       ]
      }
     ],
     "prompt_number": 19
    },
    {
     "cell_type": "heading",
     "level": 2,
     "metadata": {},
     "source": [
      "Example 1.15  Page No : 26"
     ]
    },
    {
     "cell_type": "code",
     "collapsed": false,
     "input": [
      "#INPUT DATA\n",
      "I = 20.;\t\t\t#current in A\n",
      "V = 8.;\t\t\t#supply voltage in V\n",
      "t = 3600.;\t\t\t#1hr = 3600sec\n",
      "m = 1000;\t\t\t#mass in kg(1 tonne =  1000 kg)\n",
      "#kinetic energy  =  energy dissipated in the resistance----eqn(1)\n",
      "\n",
      "#CALCULATIONS \n",
      "E = V*I*t;\t\t\t# energy dissipated in resistance in joules\n",
      "v = math.sqrt(E/(0.5*m));\t\t\t#kinetic energy possesed by body(K = 0.5*m*v*v) and umath.sing eqn(1),we found out velocity in m/sec\n",
      "\n",
      "#OUTPUT\n",
      "print \"Thus the velocity is %2.2f m/sec\"%(v);\n"
     ],
     "language": "python",
     "metadata": {},
     "outputs": [
      {
       "output_type": "stream",
       "stream": "stdout",
       "text": [
        "Thus the velocity is 33.94 m/sec\n"
       ]
      }
     ],
     "prompt_number": 20
    },
    {
     "cell_type": "heading",
     "level": 2,
     "metadata": {},
     "source": [
      "Example 1.16  Page No : 27"
     ]
    },
    {
     "cell_type": "code",
     "collapsed": false,
     "input": [
      "#INPUT DATA\n",
      "I = 7.9;\t\t\t#current in A\n",
      "V = 240.;\t\t\t#supply voltage in V\n",
      "t = 55.;\t\t\t#temperature in degree centigrade\n",
      "a0 = 0.00029;\t\t\t#temperature coefficient in ohm/ohm/degree centigrade\n",
      "l = 15.6;\t\t\t#length of wire in m\n",
      "a = 12.;\t\t\t#cross-sectional area in mm**2\n",
      "\n",
      "#CALCULATIONS \n",
      "R = V/I;\t\t\t#resistance of wire in ohm\n",
      "p = R*a/l;\t\t\t#resistivity of wire in ohm metre\n",
      "Rt = R*(1+(a0*t));\t\t\t#resistance at 55 degree centigrade in ohm\n",
      "I1 = V/Rt;\t\t\t#current through wire at temperature 55 degree centigrade in A\n",
      "\n",
      "#OUTPUT\n",
      "print \"Thus the resistivity and current through wire at temperature 55 degree centigrade are %2.2f micro\\\n",
      "\\n ohm meter and %2.2f A respectively\"%(p,I1);\n"
     ],
     "language": "python",
     "metadata": {},
     "outputs": [
      {
       "output_type": "stream",
       "stream": "stdout",
       "text": [
        "Thus the resistivity and current through wire at temperature 55 degree centigrade are 23.37 micro\n",
        " ohm meter and 7.78 A respectively\n"
       ]
      }
     ],
     "prompt_number": 21
    },
    {
     "cell_type": "heading",
     "level": 2,
     "metadata": {},
     "source": [
      "Example 1.17  Page No : 27"
     ]
    },
    {
     "cell_type": "code",
     "collapsed": false,
     "input": [
      "#INPUT DATA\n",
      "R1 = 0.031;\t\t\t#resistance of wire in ohm\n",
      "d1 = 11.7;\t\t\t#diameter of wire in mm in case 1\n",
      "r1 = d1/2;\t\t\t#radius of wire in mm in case 1\n",
      "d2 = 5;\t\t\t#diameter of wire in mm in case 2\n",
      "r2 = d2/2;\t\t\t#radius of wire in mm in case 2\n",
      "# we know that resistance is inversely proportional to square of area of cross-section\n",
      "\n",
      "#CALCULATIONS \n",
      "R2 = R1*(((math.pi*r1*r1)/(math.pi*r2*r2)))**2;\t\t\t#resistance of wire in case 2\n",
      "\n",
      "#OUTPUT\n",
      "print \"Thus the new resistance of wire is %1.4f ohms\"%(R2);\n"
     ],
     "language": "python",
     "metadata": {},
     "outputs": [
      {
       "output_type": "stream",
       "stream": "stdout",
       "text": [
        "Thus the new resistance of wire is 2.2692 ohms\n"
       ]
      }
     ],
     "prompt_number": 22
    },
    {
     "cell_type": "heading",
     "level": 2,
     "metadata": {},
     "source": [
      "Example 1.18  Page No : 27"
     ]
    },
    {
     "cell_type": "code",
     "collapsed": false,
     "input": [
      "#INPUT DATA\n",
      "p20 = 1.724*10**-8;\t\t\t#specific resistance of copper in ohm m\n",
      "a = 0.0043;\t\t\t#temperature coefficient of copper at 0 degree centigrade measured in per degree centigrade\n",
      "r1 = 8;\t\t\t#inner radius of copper circular ring in cm\n",
      "r2 = 6;\t\t\t#axial thickness in cm\n",
      "r3 = 4;\t\t\t#radial thickness in cm\n",
      "a1 = r2*r3*10**-4;\t\t\t#area of cross-section of ring in m**2\n",
      "r2 = r2*2;\n",
      "l = math.pi*((r1+r2)/2)/100;\t\t\t#length of semicircular ring between faces in m\n",
      "t1 = 20;\t\t\t#temperature 20 degree centigrade\n",
      "t2 = 50;\t\t\t#temperature 50 degree centigrade\n",
      "\n",
      "#CALCULATIONS \n",
      "R20 = p20*(l/a1);\t\t\t#resistance of ring at 20 degree centigrade in ohm\n",
      "R50 = R20*((1+(a*t2))/(1+(a*t1)));\t\t\t#resistance of ring at 50 degree centigrade in ohm\n",
      "\n",
      "#OUTPUT\n",
      "print \"Thus the resistance of wire at 50 degree centigrade is %g ohms\"%(R50);\n",
      "\n"
     ],
     "language": "python",
     "metadata": {},
     "outputs": [
      {
       "output_type": "stream",
       "stream": "stdout",
       "text": [
        "Thus the resistance of wire at 50 degree centigrade is 2.52477e-06 ohms\n"
       ]
      }
     ],
     "prompt_number": 24
    },
    {
     "cell_type": "heading",
     "level": 2,
     "metadata": {},
     "source": [
      "Example 1.19  Page No : 28"
     ]
    },
    {
     "cell_type": "code",
     "collapsed": false,
     "input": [
      "#INPUT DATA\n",
      "l1 = 0.5;\t\t\t#length of copper rod in m\n",
      "a = 0.00426;\t\t\t#temperature coefficient of copper measured in per degree centigrade\n",
      "R1 = 4.25*10**-4;\t\t\t#resistance of wire at 15 degree centigrade in ohm\n",
      "d1 = 5*10**-3;\t\t\t#diameter of copper rod in m in case 1\n",
      "r1 = 0.5*d1;\t\t\t#radius of copper rod in m in case 1\n",
      "a1 = math.pi*((r1)**2);\t\t\t#area of cross-section in m**2 in case 1\n",
      "t1 = 15;\t\t\t#temperature in degree centigrade\n",
      "t2 = 50;\t\t\t#temperature in degree centigrade\n",
      "\n",
      "#CALCULATIONS \n",
      "p = R1*a1/l1;\t\t\t#resistivity in ohm-m\n",
      "d2 = 1*10**-3;\t\t\t#diameter of copper rod in m in case 2\n",
      "r2 = d2/2;\t\t\t#radius of copper rod in m in case 2\n",
      "a2 = math.pi*(r2)**2;\t\t\t#area of cross-section in m**2 in case 2\n",
      "R15 = (a1/a2)**2*R1;\t\t\t#resistance at 15 degree centigrade\n",
      "R50 = R15*((1+(a*t2))/(1+(a*t1)));\n",
      "\n",
      "#OUTPUT\n",
      "print \"Thus the resistance of wire at 50 degree centigrade is %1.4f ohm\"%(R50);\n"
     ],
     "language": "python",
     "metadata": {},
     "outputs": [
      {
       "output_type": "stream",
       "stream": "stdout",
       "text": [
        "Thus the resistance of wire at 50 degree centigrade is 0.3029 ohm\n"
       ]
      }
     ],
     "prompt_number": 25
    },
    {
     "cell_type": "heading",
     "level": 2,
     "metadata": {},
     "source": [
      "Example 1.20  Page No : 28"
     ]
    },
    {
     "cell_type": "code",
     "collapsed": false,
     "input": [
      "#INPUT DATA\n",
      "l1 = 7.5;\t\t\t#length of aluminium wire in m\n",
      "d1 = 1*10**-3;\t\t\t#diameter of aluminium wire in m \n",
      "r1 = 0.5*d1;\t\t\t#radius of aluminium wire in m\n",
      "a1 = math.pi*((r1)**2);\t\t\t#area of cross-section in m**2 for aluminium wire \n",
      "p1 = 0.028;\t\t\t#resistivity of aluminium in micro ohm-m\n",
      "l2 = 6;\t\t\t#length of copper wire in m\n",
      "p2 = 0.017;\t\t\t#resistivity of copper in micro ohm-m\n",
      "I = 5;\t\t\t#current through parallel combination in A\n",
      "I1 = 3;\t\t\t#current through aluminium wire in A\n",
      "I2 = I-I1;\t\t\t#current through copper wire in A\n",
      "\n",
      "#CALCULATIONS \n",
      "R1 = p1*l1/a1;\t\t\t#resistance of aluminium wire in ohm\n",
      "V1 = I1*R1;\t\t\t#voltage drop across the end of Al wire in V\n",
      "#math.since the wires are connected in parallel,so V1 = V2\n",
      "a2 = I2*p2*l2/V1;\t\t\t#area of cross-section in m**2 for copper wire  \n",
      "d2 = math.sqrt(4*a2/math.pi);\t\t\t#diameter of copper wire in m \n",
      "\n",
      "#OUTPUT\n",
      "print \"Thus the diameter of copper wire is %g m\"%(d2);\n",
      "\n"
     ],
     "language": "python",
     "metadata": {},
     "outputs": [
      {
       "output_type": "stream",
       "stream": "stdout",
       "text": [
        "Thus the diameter of copper wire is 0.000569043 m\n"
       ]
      }
     ],
     "prompt_number": 26
    },
    {
     "cell_type": "heading",
     "level": 2,
     "metadata": {},
     "source": [
      "Example 1.22  Page No : 29"
     ]
    },
    {
     "cell_type": "code",
     "collapsed": false,
     "input": [
      "#INPUT DATA\n",
      "R20 = 100.;\t\t\t#resistance of coil at 20 degree centigrade in ohms\n",
      "R45 = 110.;\t\t\t#resistance of coil at 45 degree centigrade in ohms\n",
      "Rt = 124.;\t\t\t#resistance of coil at t degree centigrade in ohms\n",
      "t1 = 20.;\t\t\t#temperature in degree centigrade\n",
      "t2 = 15.;\t\t\t#temperature in degree centigrade\n",
      "a = R45/R20;\n",
      "\n",
      "#CALCULATIONS \n",
      "a0 = (a-1)/(45-(20*a));\t\t\t#temperature coefficient of coil at 0 degree centigrade\n",
      "x = (Rt/R20);\n",
      "t = (x)*(1+(a0*t1));\n",
      "t = t-1;\n",
      "t = (t)*(1/a0);\t\t\t#\t\t\t#temperature of coil when Rt = 124 ohms measured in degree centigrade\n",
      "deltat = t-t2;\t\t\t#mean temperature rise\n",
      "\n",
      "#OUTPUT\n",
      "print \"Thus the mean temperature rise is %2.0f degree centigrade\"%(deltat);\n",
      "\n"
     ],
     "language": "python",
     "metadata": {},
     "outputs": [
      {
       "output_type": "stream",
       "stream": "stdout",
       "text": [
        "Thus the mean temperature rise is 65 degree centigrade\n"
       ]
      }
     ],
     "prompt_number": 27
    },
    {
     "cell_type": "heading",
     "level": 2,
     "metadata": {},
     "source": [
      "Example 1.23  Page No : 30"
     ]
    },
    {
     "cell_type": "code",
     "collapsed": false,
     "input": [
      "#INPUT DATA\n",
      "R20 = 18.;\t\t\t#resistance of coil at 20 degree centigrade in ohms\n",
      "R50 = 20.;\t\t\t#resistance of coil at 50 degree centigrade in ohms\n",
      "Rt = 21.;\t\t\t#resistance of coil at t degree centigrade in ohms\n",
      "t1 = 20.;\t\t\t#temperature in degree centigrade\n",
      "t2 = 50.;\t\t\t#temperature in degree centigrade\n",
      "t3 = 15.;\t\t\t#temperature in degree centigrade\n",
      "a = R50/R20;\n",
      "\n",
      "#CALCULATIONS \n",
      "a0 = (a-1)/(50-(20*a));\t\t\t#temperature coefficient of coil at 0 degree centigrade\n",
      "x = (Rt/R50);\n",
      "t = (x)*(1+(a0*t2));\n",
      "t = t-1;\n",
      "t = (t)*(1/a0);\t\t\t#\t\t\t#temperature of coil when Rt = 21 ohms measured in degree centigrade\n",
      "deltat = t-t3;\t\t\t#mean temperature rise\n",
      "\n",
      "#OUTPUT\n",
      "print \"Thus the mean temperature rise is %2.0f degree centigrade\"%(deltat);\n",
      "\n"
     ],
     "language": "python",
     "metadata": {},
     "outputs": [
      {
       "output_type": "stream",
       "stream": "stdout",
       "text": [
        "Thus the mean temperature rise is 50 degree centigrade\n"
       ]
      }
     ],
     "prompt_number": 28
    },
    {
     "cell_type": "heading",
     "level": 2,
     "metadata": {},
     "source": [
      "Example 1.24  Page No : 40"
     ]
    },
    {
     "cell_type": "code",
     "collapsed": false,
     "input": [
      "#INPUT DATA\n",
      "R1 = 4.;\t\t\t#resistance in ohms\n",
      "R2 = 6.;\t\t\t#\t\t\t#resistance in ohms\n",
      "I = 30.;\t\t\t#current through parallel combination in A\n",
      "\n",
      "#CALCULATIONS \n",
      "I1 = I*(R2/(R1+R2));\t\t\t#current through resistor1 in A\n",
      "I2 = I-I1;\t\t\t#current through resistor2 in A\n",
      "\n",
      "#OUTPUT\n",
      "print \"Thus the current through resistor1 and resistor2 are %d A and %d A  respectively\"%(I1,I2);\n"
     ],
     "language": "python",
     "metadata": {},
     "outputs": [
      {
       "output_type": "stream",
       "stream": "stdout",
       "text": [
        "Thus the current through resistor1 and resistor2 are 18 A and 12 A  respectively\n"
       ]
      }
     ],
     "prompt_number": 29
    },
    {
     "cell_type": "heading",
     "level": 2,
     "metadata": {},
     "source": [
      "Example 1.25  Page No : 41"
     ]
    },
    {
     "cell_type": "code",
     "collapsed": false,
     "input": [
      "#INPUT DATA\n",
      "R1 = 2.;\t\t\t#resistance1 in ohms\n",
      "R2 = 3.;\t\t\t#resistance2 in ohms\n",
      "R3 = 4.;\t\t\t#resistance3 in ohms\n",
      "R4 = 5.;\t\t\t#resistance4 in ohms\n",
      "P = 100.;\t\t\t#total power absorbed in watts\n",
      "\n",
      "#CALCULATIONS \n",
      "RT = ((R2*R3*R4)+(R1*R3*R4)+(R1*R2*R4)+(R1*R2*R3))/(R1*R2*R3*R4);\n",
      "RT = 1/RT;\t\t\t#equivalent resistance of parallel combination of R1,R2,R3,R4 Resistors\n",
      "V = math.sqrt(P*RT);\t\t\t#voltage in volts that has to be applied to absorb 100w of power\n",
      "\n",
      "#OUTPUT\n",
      "print \"Thus the voltage in volts that has to be applied to absorb 100w of power is %1.3f V \"%(V);\n"
     ],
     "language": "python",
     "metadata": {},
     "outputs": [
      {
       "output_type": "stream",
       "stream": "stdout",
       "text": [
        "Thus the voltage in volts that has to be applied to absorb 100w of power is 8.827 V \n"
       ]
      }
     ],
     "prompt_number": 30
    },
    {
     "cell_type": "heading",
     "level": 2,
     "metadata": {},
     "source": [
      "Example 1.26  Page No : 41"
     ]
    },
    {
     "cell_type": "code",
     "collapsed": false,
     "input": [
      "#INPUT DATA\n",
      "V = 230;\t\t\t#supply voltage in volts\n",
      "I1 = 12.;\t\t\t#initial current in A\n",
      "I2 = 16;\t\t\t#final current in A\n",
      "\n",
      "#CALCULATIONS \n",
      "I = I2-I1;\t\t\t#current through the resistance placed in parallel in A\n",
      "R = V/I;\t\t\t#resistance in ohms by ohm's law\n",
      "\n",
      "#OUTPUT\n",
      "print \"Thus the resistance placed in parallel is %2.1f ohm \"%(R);\n"
     ],
     "language": "python",
     "metadata": {},
     "outputs": [
      {
       "output_type": "stream",
       "stream": "stdout",
       "text": [
        "Thus the resistance placed in parallel is 57.5 ohm \n"
       ]
      }
     ],
     "prompt_number": 31
    },
    {
     "cell_type": "heading",
     "level": 2,
     "metadata": {},
     "source": [
      "Example 1.27  Page No : 41"
     ]
    },
    {
     "cell_type": "code",
     "collapsed": false,
     "input": [
      "#INPUT DATA\n",
      "I = 12.1;\t\t\t#current in A entering the parallel combination of resistors\n",
      "I1 = 7.2;\t\t\t#current in A in resistor 1\n",
      "R1 = 50.;\t\t\t#resistance1 in ohm\n",
      "R2 = 100.;\t\t\t#resistance2 in ohm\n",
      "\n",
      "#CALCULATIONS \n",
      "V = I1*R1;\t\t\t#supply voltage in volts by ohms law(V = I*R)\n",
      "I2 = V/R2;\t\t\t#current through R2 in A  by ohms law\n",
      "I3 = I-I1-I2;\t\t\t#current through resistance3 R3 in A by ohms law\n",
      "R3 = V/I3;\t\t\t#resistance in ohm\n",
      "\n",
      "#OUTPUT\n",
      "print \"Thus the value of third resistance placed is %3.2f ohm \"%(R3);\n"
     ],
     "language": "python",
     "metadata": {},
     "outputs": [
      {
       "output_type": "stream",
       "stream": "stdout",
       "text": [
        "Thus the value of third resistance placed is 276.92 ohm \n"
       ]
      }
     ],
     "prompt_number": 32
    },
    {
     "cell_type": "heading",
     "level": 2,
     "metadata": {},
     "source": [
      "Example 1.28  Page No : 42"
     ]
    },
    {
     "cell_type": "code",
     "collapsed": false,
     "input": [
      "#INPUT DATA\n",
      "R1 = 3.6;\t\t\t#resistance in ohm\n",
      "R2 = 4.56;\t\t\t#resistance in ohm\n",
      "RT = 6.;\t\t\t#resistance in ohm\n",
      "\n",
      "#CALCULATIONS \n",
      "X = RT-(R2);\n",
      "R3 = (X*R1)/(R1-X);\n",
      "\n",
      "#OUTPUT\n",
      "print \"Thus the value of third resistance placed is %1.1f ohm \"%(R3);\n"
     ],
     "language": "python",
     "metadata": {},
     "outputs": [
      {
       "output_type": "stream",
       "stream": "stdout",
       "text": [
        "Thus the value of third resistance placed is 2.4 ohm \n"
       ]
      }
     ],
     "prompt_number": 33
    },
    {
     "cell_type": "heading",
     "level": 2,
     "metadata": {},
     "source": [
      "Example 1.29  Page No : 42"
     ]
    },
    {
     "cell_type": "code",
     "collapsed": false,
     "input": [
      "#INPUT DATA\n",
      "P = 70.;\t\t\t#total power dissipated in circuit in watts\n",
      "V = 22.;\t\t\t#applied voltage in volts\n",
      "I = P/V;\t\t\t#total current through the circuit in Amps\n",
      "R1 = 12.;\t\t\t#resistance 1 of parallel combination in ohms\n",
      "R2 = 8.;\t\t\t#resistance 2 of parallel combination in ohms\n",
      "\n",
      "#CALCULATIONS \n",
      "RP = (R1*R2)/(R1+R2);\t\t\t#equivalent resistance of parallel combination in ohms\n",
      "VP = I*RP;\t\t\t#voltage across parallel combination in volts\n",
      "VR = V-VP;\t\t\t#voltage across the resistance R\t\t\t# in volts\n",
      "R3 = VR/I;\t\t\t#by ohm's law\n",
      "\n",
      "#OUTPUT\n",
      "print \"Thus the value of third resistance placed is %1.2f ohms \"%(R3);\n"
     ],
     "language": "python",
     "metadata": {},
     "outputs": [
      {
       "output_type": "stream",
       "stream": "stdout",
       "text": [
        "Thus the value of third resistance placed is 2.11 ohms \n"
       ]
      }
     ],
     "prompt_number": 34
    },
    {
     "cell_type": "heading",
     "level": 2,
     "metadata": {},
     "source": [
      "Example 1.30  Page No : 43"
     ]
    },
    {
     "cell_type": "code",
     "collapsed": false,
     "input": [
      "#INPUT DATA\n",
      "P = 70.;\t\t\t#total power dissipated in circuit in watts\n",
      "V1 = 6.;\t\t\t#math.since applied voltage  E is 6V,as per the characteristics of parallel circuit P.D across R1 is\n",
      "V2 = 6.;\t\t\t#V1 = V2,in volts\n",
      "R1 = 12.;\t\t\t#resistance1 in parallel combination in ohms\n",
      "R2 = 6.;\t\t\t#resistance2 in parallel combination in ohms\n",
      "R3 = 6.25\t\t\t#resistance3 in series with parallel combination in ohms\n",
      "I1 = V1/R1;\t\t\t# current through the resistance R1 in Amps\n",
      "I2 = V2/R2;\t\t\t#current through the resistance R2 in Amps\n",
      "r = 0.25;\t\t\t#internal resistance in ohm\n",
      "\n",
      "#CALCULATIONS \n",
      "I = I1+I2;\t\t\t#total current through parallel combination\n",
      "E = (I*r)+(I*R3)+V2;\t\t\t#emf of battery in Volts\n",
      "\n",
      "#OUTPUT\n",
      "print \"Thus the value of emf of battery in Volts is %2.2f volts \"%(E);\n"
     ],
     "language": "python",
     "metadata": {},
     "outputs": [
      {
       "output_type": "stream",
       "stream": "stdout",
       "text": [
        "Thus the value of emf of battery in Volts is 15.75 volts \n"
       ]
      }
     ],
     "prompt_number": 35
    },
    {
     "cell_type": "heading",
     "level": 2,
     "metadata": {},
     "source": [
      "Example 1.31  Page No : 44"
     ]
    },
    {
     "cell_type": "code",
     "collapsed": false,
     "input": [
      "#INPUT DATA\n",
      "E = 12.;\t\t\t#emf of battery in volts\n",
      "R1 = 3.;\t\t\t#resistance1 in parallel combination in ohms\n",
      "R2 = 4.;\t\t\t#resistance2 in parallel combination in ohms\n",
      "R3 = 6.;\t\t\t#resistance3 in parallel combination in ohms\n",
      "R4 = 4.;\t\t\t#resistance4 in series with parallel combination in ohms\n",
      "r = 6.;\t\t\t#internal resistance in ohm\n",
      "\n",
      "#CALCULATIONS \n",
      "RP = ((R2*R3)+(R3*R1)+(R1*R2))/(R1*R2*R3);\n",
      "RP = 1/RP;\t\t\t#equivalent resistance of parallel combination in ohms\n",
      "RT = RP+R4+r;\t\t\t#total circuit resistance in ohms\n",
      "I = E/RT;\t\t\t#total circuit current in A\n",
      "V = E-(I*r);\t\t\t#terminal voltage of battery in volts\n",
      "\n",
      "#OUTPUT\n",
      "print \"Thus the terminal voltage of battery is %1.3f volts \"%(V);\n"
     ],
     "language": "python",
     "metadata": {},
     "outputs": [
      {
       "output_type": "stream",
       "stream": "stdout",
       "text": [
        "Thus the terminal voltage of battery is 5.647 volts \n"
       ]
      }
     ],
     "prompt_number": 36
    },
    {
     "cell_type": "heading",
     "level": 2,
     "metadata": {},
     "source": [
      "Example 1.32  Page No : 45"
     ]
    },
    {
     "cell_type": "code",
     "collapsed": false,
     "input": [
      "#INPUT DATA\n",
      "V = 24;\t\t\t#supply voltage of battery in volts\n",
      "Rab = 13.;\t\t\t#resistance between A and B points in ohms\n",
      "Rbc = 11.;\t\t\t#resistance between B and C points in ohms\n",
      "Rbe = 18.;\t\t\t#resistance between B and E points in ohms\n",
      "Rce = 14.;\t\t\t#resistance between C and E points in ohms\n",
      "Red = 9.;\t\t\t#resistance between E and D points in ohms\n",
      "Rcd = 5.;\t\t\t#resistance between C and D points in ohms\n",
      "Rae = 22;\t\t\t#resistance between A and E points in ohm\n",
      "Rx = Rae;\n",
      "Ry = Rbe;\n",
      "Raf = 1;\t\t\t#resistance between A and F points in ohms\n",
      "\n",
      "#CALCULATIONS \n",
      "Rce = ((Rcd+Red)*(Rce))/(Rcd+Red+Rce);\t\t\t#equivalent resistance of Rce in ohms\n",
      "Rbe = ((Rbc+Rce)*(Rbe))/(Rbc+Rce+Rbe);\t\t\t#equivalent resistance of Rbe in ohms\n",
      "Rae = ((Rab+Rbe)*(Rae))/(Rab+Rbe+Rae);\t\t\t#equivalent resistance of Rae in ohms\n",
      "RT = Rae+Raf;\t\t\t#total equivalent circuit resistance in ohms\n",
      "Iaf = V/RT;\t\t\t#current through resistance Raf in A\n",
      "Vae = V-(Iaf*Raf);\t\t\t#P.D across AE in volts\n",
      "Iae = Vae/Rx;\t\t\t#current in AE in A\n",
      "Iab = Iaf-Iae;\t\t\t#current in AB in A\n",
      "Vab = Rab*Iab;\t\t\t#P.D across AB in volts\n",
      "Vbe = Vae-Vab;\t\t\t#Voltage across branch BE in volts\n",
      "Pbe = ((Vbe)**2)/(Ry);\t\t\t#power absorbed in branch Be in watts\n",
      "Ibe = Vbe/Ry;\t\t\t#current in BE in A\n",
      "Ibc = Iab-Ibe;\t\t\t#current in BC in A\n",
      "Icde = (Ibc)/(2);\t\t\t#current in CDE in A\n",
      "Vcd = Icde*(Rcd);\t\t\t#P.D across CD\n",
      "\n",
      "#OUTPUT\n",
      "print \"Current in branch AF is %d A  \\\n",
      "\\nPower absorbed in BE is %1.1f watts  \\\n",
      "\\nP.D across CD is %1.2f volts \"%(Iaf,Pbe,Vcd);\n"
     ],
     "language": "python",
     "metadata": {},
     "outputs": [
      {
       "output_type": "stream",
       "stream": "stdout",
       "text": [
        "Current in branch AF is 2 A  \n",
        "Power absorbed in BE is 4.5 watts  \n",
        "P.D across CD is 1.25 volts \n"
       ]
      }
     ],
     "prompt_number": 37
    },
    {
     "cell_type": "heading",
     "level": 2,
     "metadata": {},
     "source": [
      "Example 1.33  Page No : 46"
     ]
    },
    {
     "cell_type": "code",
     "collapsed": false,
     "input": [
      "from numpy.linalg import solve\n",
      "\n",
      "#INPUT DATA\n",
      "V1 = 25.;\t\t\t#supply voltage1 of battery in volts\n",
      "V2 = 45.;\t\t\t#supply voltage2 of battery in volts\n",
      "R1 = 6.;\t\t\t#resistance1 in ohms\n",
      "R3 = 4.;\t\t\t#resistance2 in ohms\n",
      "R2 = 3.;\t\t\t#resistance3 in ohms\n",
      "#let I1 be the current in loop1 and I2 current be in loop2\n",
      "\n",
      "#CALCULATIONS \n",
      "#V1 = ((R1+R3)*(I1)-(R3*I2));\t\t\t#applying KVL in loop1 -------------eqn(1)\n",
      "#V2 = ((R3)*(I1)-(R2+R3)*(I2));\t\t\t#applying KVL in loop2 -------------eqn(2)\n",
      "#solving both eqn(1) and eqn(2)\n",
      "a = [[(R1+R3),-R3],[(R3),-(R2+R3)]]\n",
      "b = [[V1],[-V2]]\n",
      "c = solve(a,b)#solve(a,b)\t\t\t#ax = b\n",
      "c1 = c[0];\t\t\t#c1 is current in branch FABC measured in A\n",
      "c2 = c[1];\t\t\t#c2 is current in branch CDEF measured in A \n",
      "c3 = c1-c2;\t\t\t#current in branch CF in A\n",
      "\n",
      "#OUTPUT\n",
      "print \"Current in R1 is %1.4f A  \\\n",
      "\\ncurrent in R2 is %2.3f A   \\\n",
      "\\ncurrent in R3 is %1.3f A \"%(c1,c2,c3);\n"
     ],
     "language": "python",
     "metadata": {},
     "outputs": [
      {
       "output_type": "stream",
       "stream": "stdout",
       "text": [
        "Current in R1 is 6.5741 A  \n",
        "current in R2 is 10.185 A   \n",
        "current in R3 is -3.611 A \n"
       ]
      }
     ],
     "prompt_number": 38
    },
    {
     "cell_type": "heading",
     "level": 2,
     "metadata": {},
     "source": [
      "Example 1.34  Page No : 46"
     ]
    },
    {
     "cell_type": "code",
     "collapsed": false,
     "input": [
      "import math \n",
      "from numpy.linalg import solve\n",
      "\n",
      "#INPUT DATA\n",
      "V = 4.5;\t\t\t#supply voltage of battery in volts\n",
      "RAB = 1000.;\t\t\t#resistance between A and B points in ohms\n",
      "RBC = 100.;\t\t\t#resistance between B and C points in ohms\n",
      "RAD = 5000.;\t\t\t#resistance between A and D points in ohms\n",
      "RCD = 450.;\t\t\t#resistance between C and D points in ohms\n",
      "Rg = 500.;\t\t\t#resistance of galvanometer in ohms\n",
      "\n",
      "#let I1 be the current across RAB and I1-Ig across RBC and I2 across RAD and I2+Ig across RCD and I be the total current\n",
      "#where I = I1+I2\n",
      "#CALCULATIONS \n",
      "#(-(RAB*I1)-(Rg*Ig)+(RAD*I2)) = 0;\t\t\t#applying KVL to loop ABDA -------------eqn(1)\n",
      "#(-(RBC*I1)+((Rg+RCD+RBC)*(Ig))+(RCD*I2)) = 0;\t\t\t#applying KVL to loop BCDB -------------eqn(2)\n",
      "#((RAD+RCD)*I2)+(RCD*Ig)) = V;\t\t\t#applying KVL to loop EADCFE-------------eqn(3)\n",
      "#solving  eqn(1),eqn(2) and eqn(3)\n",
      "a = [[-RAB,-Rg,RAD],[-RBC,(Rg+RCD+RBC),RCD],[0,RCD,(RAD+RCD)]];\n",
      "b = [[0],[0],[V]];\n",
      "c = solve(a,b)   #solve(a,b)\t\t\t#ax = b\n",
      "I1 = c[0];\t\t\t#c1 is current in branch FABC measured in A\n",
      "Ig = c[1];\t\t\t#c2 is current in branch CDEF measured in A \n",
      "I2 = c[2];\t\t\t#current in branch CF in A\n",
      "\n",
      "#OUTPUT\n",
      "print \"Current through galvanometer is %g A  since the answer is positive our assumed direction is correct \"%(Ig);\n"
     ],
     "language": "python",
     "metadata": {},
     "outputs": [
      {
       "output_type": "stream",
       "stream": "stdout",
       "text": [
        "Current through galvanometer is 3.73909e-05 A  since the answer is positive our assumed direction is correct \n"
       ]
      }
     ],
     "prompt_number": 39
    },
    {
     "cell_type": "heading",
     "level": 2,
     "metadata": {},
     "source": [
      "Example 1.35  Page No : 47"
     ]
    },
    {
     "cell_type": "code",
     "collapsed": false,
     "input": [
      "import math \n",
      "from numpy.linalg import solve\n",
      "\n",
      "#INPUT DATA\n",
      "V1 = 8.;\t\t\t#supply voltage of battery in loop1 in volts\n",
      "V2 = 4.;\t\t\t#supply voltage of battery in loop2 in volts\n",
      "RED = 200.;\t\t\t#resistance between E and D points in ohms\n",
      "RAD = 20.;\t\t\t#resistance between A and D points in ohms\n",
      "RCD = 50.;\t\t\t#resistance between C and D points in ohms\n",
      "\n",
      "#let I1 be the current across path AFED and I2 across AD and I1-I2 across  path DCBA \n",
      "#CALCULATIONS \n",
      "#((RCD*I1)-((RAD+RCD)*I2)) = 4;\t\t\t#applying KVL to loop ADCBA -------------eqn(1)\n",
      "#((RED*I1)+(RAD*I2)) = 8;\t\t\t#applying KVL to loop AFEDA -------------eqn(2)\n",
      "#solving  eqn(1)and eqn(2)\n",
      "a = [[RCD,-(RAD+RCD)],[RED,RAD]]\n",
      "b = [[4],[8]];\n",
      "c = solve(a,b)\t\t\t#ax = b\n",
      "I1 = c[0];\t\t\t#c1 is current across path AFED in A\n",
      "I2 = c[1];\t\t\t#c2 is current across AD in A\n",
      "\n",
      "#OUTPUT\n",
      "print \"Current in 20 ohm resistor  is %f A  math.since the answer is negative,the current actually flows from A to D \"%(I2);\n",
      "\n"
     ],
     "language": "python",
     "metadata": {},
     "outputs": [
      {
       "output_type": "stream",
       "stream": "stdout",
       "text": [
        "Current in 20 ohm resistor  is -0.026667 A  math.since the answer is negative,the current actually flows from A to D \n"
       ]
      }
     ],
     "prompt_number": 40
    },
    {
     "cell_type": "heading",
     "level": 2,
     "metadata": {},
     "source": [
      "Example 1.36  Page No : 48"
     ]
    },
    {
     "cell_type": "code",
     "collapsed": false,
     "input": [
      "import math \n",
      "\n",
      "#INPUT DATA\n",
      "Rs = 25.;\t\t\t#total resistance when two resistances are connected in series in ohms\n",
      "Rp = 6.;\t\t\t#total resistance when two resistances are connected in parallel in ohms\n",
      "#let individual resistances be R1 and R2 ohms\n",
      "\n",
      "#CALCULATIONS \n",
      "#Rs = (R1+R2)---eqn(1)\n",
      "#Rp = ((R1*R2)/(R1+R2))---eqn(2)\n",
      "#let (R1*R2) = x\n",
      "#let(R1-R2) = y\n",
      "#solving  eqn(1)and eqn(2)\n",
      "x = Rs*Rp;\t\t\t#in ohms\n",
      "y = math.sqrt((Rs)**2-(4*x));\t\t\t#eqn---(3)\n",
      "#solving eqn(1) and eqn(3)\n",
      "z = Rs+y;\n",
      "R1 = z/2;\t\t\t#resistance1 in ohms\n",
      "R2 = Rs-R1;\t\t\t#resistance2 in ohms\n",
      "\n",
      "#OUTPUT\n",
      "print \"Thus the individual resistances are R1 = %d ohms and R2 = %d ohms \"%(R1,R2); \n",
      "\n"
     ],
     "language": "python",
     "metadata": {},
     "outputs": [
      {
       "output_type": "stream",
       "stream": "stdout",
       "text": [
        "Thus the individual resistances are R1 = 15 ohms and R2 = 10 ohms \n"
       ]
      }
     ],
     "prompt_number": 41
    },
    {
     "cell_type": "heading",
     "level": 2,
     "metadata": {},
     "source": [
      "Example 1.37  Page No : 48"
     ]
    },
    {
     "cell_type": "code",
     "collapsed": false,
     "input": [
      "import math \n",
      "\n",
      "#INPUT DATA\n",
      "P = 16.;\t\t\t#total power dissipated in circuit in Watts\n",
      "R1 = 4.;\t\t\t#resistance R1 in Ohms\n",
      "R2 = 2.;\t\t\t#resistance R2 in Ohms\n",
      "R3 = 8.;\t\t\t#resistance R3 in Ohms\n",
      "V = 8.;\t\t\t#supply voltage in volts\n",
      "#let resistance parallel to R1 is R ohms\n",
      "\n",
      "#CALCULATIONS \n",
      "Reff = (((V)**2)/P);\t\t\t#total effective resistance of circuit in ohms\n",
      "x = ((R2*R3)/(R2+R3));\t\t\t#effective resistance of 2nd parallel circuit in ohms\n",
      "z = (Reff-x);\t\t\t#effective resistance of 1st parallel circuit where z = ((R1*R)/(R1+R)) in ohms------eqn(1)\n",
      "#solving for R in eqn(1)\n",
      "R = (R1*z)/(R1-z);\n",
      "Reff = ((R1*R)/(R1+R))+(x);\t\t\t#in ohms\n",
      "I = V/Reff;\t\t\t#total current in A\n",
      "\n",
      "print \"Thus the total current is I = %d A \"%(I); \n",
      "\n"
     ],
     "language": "python",
     "metadata": {},
     "outputs": [
      {
       "output_type": "stream",
       "stream": "stdout",
       "text": [
        "Thus the total current is I = 2 A \n"
       ]
      }
     ],
     "prompt_number": 42
    },
    {
     "cell_type": "heading",
     "level": 2,
     "metadata": {},
     "source": [
      "Example 1.38  Page No : 49"
     ]
    },
    {
     "cell_type": "code",
     "collapsed": false,
     "input": [
      "import math \n",
      "\n",
      "#INPUT DATA\n",
      "R1 = 2.;\t\t\t#resistance R1 in Ohms\n",
      "R2 = 12.;\t\t\t#resistance R2 in parallel circuit measured in ohms\n",
      "R3 = 20.;\t\t\t#resistance R3 in parallel circuit measured in ohms\n",
      "R4 = 30.;\t\t\t#resistance R4 in parallel circuit measured  in ohms\n",
      "R5 = 2.;\t\t\t#resistance R5 in ohms\n",
      "V = 100.;\t\t\t#supply voltage in volts\n",
      "\n",
      "#CALCULATIONS \n",
      "Reff = (R1)+((1)/((1/R2)+(1/R3)+(1/R4)))+(R5);\t\t\t#total effective resistance of circuit in ohms\n",
      "I = V/Reff;\t\t\t#total current in A\n",
      "# let individual currents in 3 parallel resistance network be I1,I2,I3 respectively\n",
      "#Then I1+I2+I3 = I---eqn(1)\n",
      "#where I2 = (I1*R1/R2) and I3 = (I1*R1/R3)\n",
      "#solving for I1 in eqn(1)\n",
      "I1 = I/2;\t\t\t#in A\n",
      "I2 = (I1*R2/R3);\t\t\t#in A\n",
      "I3 = (I1*R2/R4);\t\t\t#in A\n",
      "\n",
      "# Results\n",
      "print \"I1 = %d A  I2 = %1.0f A  I3 = %1.0f A\"%(I1,I2,I3); \n",
      "\n"
     ],
     "language": "python",
     "metadata": {},
     "outputs": [
      {
       "output_type": "stream",
       "stream": "stdout",
       "text": [
        "I1 = 5 A  I2 = 3 A  I3 = 2 A\n"
       ]
      }
     ],
     "prompt_number": 43
    },
    {
     "cell_type": "heading",
     "level": 2,
     "metadata": {},
     "source": [
      "Example 1.39  Page No : 49"
     ]
    },
    {
     "cell_type": "code",
     "collapsed": false,
     "input": [
      "#INPUT DATA\n",
      "V = 100.;\t\t\t#supply voltage in volts\n",
      "I = 10.;\t\t\t#total current in A\n",
      "P1 = 600.;\t\t\t#power dissipated in coil in Watts\n",
      "\n",
      "#CALCULATIONS \n",
      "#Reff = ((R1*R2)/(R1+R2)) is total effective resistance of circuit in ohms----eqn(1)\n",
      "Reff = V/I;\t\t\t#total effective resistance of circuit in ohms\n",
      "R1 = ((V)**2)/(P1);\t\t\t#in ohms----eqn(2)\n",
      "#solving for R2 in eqn(1)\n",
      "R2 = ((Reff*R1)/(R1-Reff));\t\t\t#in ohms\n",
      "\n",
      "# Results\n",
      "print \"R1 = %2.2f Ohms  R2 = %1.0f Ohms \"%(R1,R2); \n",
      "\n"
     ],
     "language": "python",
     "metadata": {},
     "outputs": [
      {
       "output_type": "stream",
       "stream": "stdout",
       "text": [
        "R1 = 16.67 Ohms  R2 = 25 Ohms \n"
       ]
      }
     ],
     "prompt_number": 45
    },
    {
     "cell_type": "heading",
     "level": 2,
     "metadata": {},
     "source": [
      "Example 1.40  Page No : 50"
     ]
    },
    {
     "cell_type": "code",
     "collapsed": false,
     "input": [
      "import math \n",
      "#INPUT DATA\n",
      "R1 = 5.;\t\t\t#resistance in ohms\n",
      "P = 20.;\t\t\t#power dissipated in R1 in Watts\n",
      "R2 = 10.;\t\t\t#resistance parallel to R1\n",
      "\n",
      "#CALCULATIONS \n",
      "I1 = math.sqrt(P/R1);\t\t\t#current through R1 in A\n",
      "I = ((R1+R2)/(R2))*(I1);\t\t\t#total supply current in A\n",
      "\n",
      "# Results\n",
      "print \"I = %d A\"%(I); \n",
      "\n"
     ],
     "language": "python",
     "metadata": {},
     "outputs": [
      {
       "output_type": "stream",
       "stream": "stdout",
       "text": [
        "I = 3 A\n"
       ]
      }
     ],
     "prompt_number": 46
    },
    {
     "cell_type": "heading",
     "level": 2,
     "metadata": {},
     "source": [
      "Example 1.41  Page No : 50"
     ]
    },
    {
     "cell_type": "code",
     "collapsed": false,
     "input": [
      "import math \n",
      "\n",
      "#INPUT DATA\n",
      "I1 = 2.;\t\t\t#current through R1 in A\n",
      "I3 = 1.5;\t\t\t#current through R3 in A\n",
      "I5 = 0.5;\t\t\t#current through R5 in A\n",
      "P2 = 75.;\t\t\t#power dissipated in R2 in W\n",
      "P4 = 30.;\t\t\t#power dissipated in R4 in W\n",
      "V = 200;\t\t\t#supply voltage in volts\n",
      "#let the current through R2 and R4 be I2 and I4 respectively\n",
      "\n",
      "#CALCULATIONS \n",
      "I2 = I1-I3;\t\t\t#current through R2 in A\n",
      "I4 = I3-I5;\t\t\t#current through R4 in A\n",
      "R2 = P2/(I2)**2;\t\t\t#resistance R2 in Ohms\n",
      "R4 = P4/(I4)**2;\t\t\t#resistance R4 in Ohms\n",
      "R5 = (R4*I4)/(I5);\t\t\t#resistance R5 in Ohms\n",
      "#(R1*I1)+(R2*I2) = 200\n",
      "#(R3*I3)+(R4*I4) = (R2*I2)\n",
      "R1 = ((V-(R2*I2))/I1);\t\t\t#resistance R1 in Ohms\n",
      "R3 = ((R2*I2)-(R4*I4))/(I3);\t\t\t#resistance R3 in Ohms\n",
      "\n",
      "#OUTPUT\n",
      "print \"R1 = %d ohms  R2 = %d ohms  R3 = %d ohms  R4 = %d ohms  R5 = %d ohms \"%(R1,R2,R3,R4,R5);"
     ],
     "language": "python",
     "metadata": {},
     "outputs": [
      {
       "output_type": "stream",
       "stream": "stdout",
       "text": [
        "R1 = 25 ohms  R2 = 300 ohms  R3 = 80 ohms  R4 = 30 ohms  R5 = 60 ohms \n"
       ]
      }
     ],
     "prompt_number": 47
    },
    {
     "cell_type": "heading",
     "level": 2,
     "metadata": {},
     "source": [
      "Example 1.42  Page No : 50"
     ]
    },
    {
     "cell_type": "code",
     "collapsed": false,
     "input": [
      "import math \n",
      "\n",
      "#INPUT DATA\n",
      "VA = 0.2;\t\t\t#voltage across ammeter A in Volts\n",
      "VB = 0.3;\t\t\t#voltage across ammeter B in volts\n",
      "I = 20.;\t\t\t#total current in A\n",
      "\n",
      "#CALCULATIONS \n",
      "RA = VA/I;\t\t\t#resistance through ammeter A in ohms\n",
      "RB = VB/I;\t\t\t#resistance through ammeter B in ohms\n",
      "IA = ((RB*I)/(RA+RB));\t\t\t#current through ammeter A in amps\n",
      "IB = I-IA;\t\t\t#current through ammeter B in amps\n",
      "\n",
      "#OUTPUT\n",
      "print \"IA = %1.0f Amps  IB = %d Amps  \"%(IA,IB);\n",
      "\n"
     ],
     "language": "python",
     "metadata": {},
     "outputs": [
      {
       "output_type": "stream",
       "stream": "stdout",
       "text": [
        "IA = 12 Amps  IB = 8 Amps  \n"
       ]
      }
     ],
     "prompt_number": 48
    },
    {
     "cell_type": "heading",
     "level": 2,
     "metadata": {},
     "source": [
      "Example 1.43  Page No : 51"
     ]
    },
    {
     "cell_type": "code",
     "collapsed": false,
     "input": [
      "import math \n",
      "#Chapter-1, Example 1.43, Page 51\n",
      "\n",
      "#INPUT DATA\n",
      "R1 = 10.;\t\t\t#resistance R1 in ohms\n",
      "R2 = 20.;\t\t\t#resistance R2 in ohms\n",
      "R3 = 40.;\t\t\t#resistance R3 in ohms\n",
      "#after certain manipulations the Resultant network can be evaluated as parallel combinaton of R1,R2,R3\n",
      "\n",
      "#CALCULATIONS \n",
      "RAD = 1/((1/R1)+(1/R2)+(1/R3));\t\t\t#Resultant resistance in Ohms\n",
      "\n",
      "#OUTPUT\n",
      "print \"Resultant resistance RAD is %1.3f ohms\"%(RAD);"
     ],
     "language": "python",
     "metadata": {},
     "outputs": [
      {
       "output_type": "stream",
       "stream": "stdout",
       "text": [
        "Resultant resistance RAD is 5.714 ohms\n"
       ]
      }
     ],
     "prompt_number": 49
    },
    {
     "cell_type": "heading",
     "level": 2,
     "metadata": {},
     "source": [
      "Example 1.44  Page No : 51"
     ]
    },
    {
     "cell_type": "code",
     "collapsed": false,
     "input": [
      "import math \n",
      "#Chapter-1, Example 1.44, Page 51\n",
      "\n",
      "#INPUT DATA\n",
      "V = 200.;\t\t\t#supply voltage in volts\n",
      "I = 25.;\t\t\t#total current in A\n",
      "P1 = 1500.;\t\t\t#power dissipated in watts\n",
      "\n",
      "#CALCULATIONS \n",
      "R1 = (V)**2/(P1);\t\t\t#resistance R1 in Ohms\n",
      "Reff = (V)/(I);\t\t\t#total effective resistance of R1 and R2 in parallel in Ohms\n",
      "R2 = (Reff*R1)/(R1-Reff);\t\t\t#resistance R2 in Ohms\n",
      "\n",
      "#OUTPUT\n",
      "print \"R1 = %2.3f ohms  R2 =  %2.3f ohms\"%(R1,R2);\n",
      "\n"
     ],
     "language": "python",
     "metadata": {},
     "outputs": [
      {
       "output_type": "stream",
       "stream": "stdout",
       "text": [
        "R1 = 26.667 ohms  R2 =  11.429 ohms\n"
       ]
      }
     ],
     "prompt_number": 50
    },
    {
     "cell_type": "heading",
     "level": 2,
     "metadata": {},
     "source": [
      "Example 1.45  Page No : 52"
     ]
    },
    {
     "cell_type": "code",
     "collapsed": false,
     "input": [
      "import math \n",
      "#Chapter-1, Example 1.45, Page 52\n",
      "\n",
      "#INPUT DATA\n",
      "V = 15.;\t\t\t#supply voltage in volts\n",
      "VAB = 5.;\t\t\t#voltage across AB in volts\n",
      "R1 = 5.;\t\t\t#resistance in ohms\n",
      "R2 = 10.;\t\t\t#resistance in ohms\n",
      "R3 = 10.;\t\t\t#resistance in ohms\n",
      "\n",
      "#CALCULATIONS \n",
      "VAC = ((R1)/(R1+R3))*V;\t\t\t#Volatge across AC terminals in Volts\n",
      "#VBC = (((R)/(R+2))*V)--------------eqn(1) by ohm's law\n",
      "#VAB = (VAC-((VBC)*(R2-(((R1+R2)*R)/(R+2)))---------------eqn(2) by ohm's law\n",
      "#solving equation 2 with Vab = 5V\n",
      "R = 10./10;\t\t\t#resistance R in ohms\n",
      "\n",
      "#OUTPUT\n",
      "print \"R = %d ohms\"%(R);"
     ],
     "language": "python",
     "metadata": {},
     "outputs": [
      {
       "output_type": "stream",
       "stream": "stdout",
       "text": [
        "R = 1 ohms\n"
       ]
      }
     ],
     "prompt_number": 51
    },
    {
     "cell_type": "heading",
     "level": 2,
     "metadata": {},
     "source": [
      "Example 1.46  Page No : 52"
     ]
    },
    {
     "cell_type": "code",
     "collapsed": false,
     "input": [
      "import math \n",
      "#Chapter-1, Example 1.46, Page 52\n",
      "\n",
      "#INPUT DATA\n",
      "Ra = 4.;\t\t\t#resistance in ohms\n",
      "Rb = 9.;\t\t\t#resistance in ohms\n",
      "Rc = 18.;\t\t\t#resistance in ohms\n",
      "Rd = 2.;\t\t\t#resistance in ohms\n",
      "Re = 7.;\t\t\t#resistance in ohms\n",
      "Rf = 15.;\t\t\t#resistance in ohms\n",
      "V = 125.;\t\t\t#voltage in volts\n",
      "\n",
      "#CALCULATIONS \n",
      "R1 = ((Ra)+((Rb*Rc)/(Rc+Rb)));\t\t\t#resistance in branch1 in ohms\n",
      "R2 = ((Rd)+(Re));\t\t\t#resistance in branch2 in ohms\n",
      "Reff = ((R1*R2)/(R1+R2))+Rf;\t\t\t#effective resistance in ohms\n",
      "I = V/Reff;\t\t\t#current in Rf resistor in Amps\n",
      "I1 = (I)*(Rb)/(Rb+R1);\t\t\t#current in resistor Ra in Amps\n",
      "Ix = (I1)*(Rb/(Rb+Rc)) ;\t\t\t#current in resistor Rc in Amps\n",
      "V2 = (Ix)*(Rc);\t\t\t#voltage across Rc in volts\n",
      "I2 = I-I1;\t\t\t#current across Re in Amps\n",
      "P4 = (I2)**2*Re;\t\t\t#power dissipated across Re in W\n",
      "\n",
      "#OUTPUT\n",
      "print \"current across 15 ohm resistor is %1.2f amps  \\\n",
      "\\nvoltage across 18 ohm resistor is %dV  \\\n",
      "\\npower dissipated in 7 ohm resistor is %2.1f Watts \"%(I,V2,P4);\n",
      "\n"
     ],
     "language": "python",
     "metadata": {},
     "outputs": [
      {
       "output_type": "stream",
       "stream": "stdout",
       "text": [
        "current across 15 ohm resistor is 6.33 amps  \n",
        "voltage across 18 ohm resistor is 18V  \n",
        "power dissipated in 7 ohm resistor is 77.8 Watts \n"
       ]
      }
     ],
     "prompt_number": 52
    },
    {
     "cell_type": "heading",
     "level": 2,
     "metadata": {},
     "source": [
      "Example 1.47  Page No : 53"
     ]
    },
    {
     "cell_type": "code",
     "collapsed": false,
     "input": [
      "import math \n",
      "from numpy.linalg import solve\n",
      "\n",
      "#INPUT DATA\n",
      "R1 = 20.;\t\t\t#resistance in ohms\n",
      "R2 = 50.;\t\t\t#resistance in ohms\n",
      "R3 = 30.;\t\t\t#resistance in ohms\n",
      "R4 = 15.;\t\t\t#resistance in ohms\n",
      "V = 100.;\t\t\t# supply voltage in volts\n",
      "#applying KVL to meshes I and II\n",
      "#R1*(I1)+(R3)*(I1-I2) = V;-------eqn(1)\n",
      "#(R2+R4)*(I2)+(R3)*(I2-I1) = 0;---------eqn(2)\n",
      "#solving eqn(1) and eqn(2)\n",
      "\n",
      "#CALCULATIONS \n",
      "a = [[R2,-R3],[-R3,(R3+R4+R2)]];\n",
      "b = [[V],[0]];\n",
      "c = solve(a,b);\n",
      "I1 = c[0];\t\t\t#current in mesh1 in A\n",
      "I2 = c[1];\t\t\t#current in mesh2 in A\n",
      "\n",
      "#OUTPUT\n",
      "print \"current across 15 ohm resistor is %1.4f amps\"%(I2);\n",
      "\n"
     ],
     "language": "python",
     "metadata": {},
     "outputs": [
      {
       "output_type": "stream",
       "stream": "stdout",
       "text": [
        "current across 15 ohm resistor is 0.7792 amps\n"
       ]
      }
     ],
     "prompt_number": 53
    },
    {
     "cell_type": "heading",
     "level": 2,
     "metadata": {},
     "source": [
      "Example 1.48  Page No : 53"
     ]
    },
    {
     "cell_type": "code",
     "collapsed": false,
     "input": [
      "import math \n",
      "from numpy.linalg import solve\n",
      "\n",
      "#INPUT DATA\n",
      "RAB = 1.;\t\t\t#resistance across AB in ohms\n",
      "ROB = 4.;\t\t\t#resistance across OB in ohms\n",
      "RBC = 2.;\t\t\t#resistance across BC in ohms\n",
      "RAC = 1.5;\t\t\t#resistance across AC in ohms\n",
      "V = 10.;\t\t\t# supply voltage in volts\n",
      "#let ROC is R ohms\n",
      "#applying KVL to meshes I,II and III\n",
      "#RAB*(I1)+0+ROB*(I1-I3) = 0-------eqn(1)\n",
      "#RAC*(I2)+ROC*(I2-I3) = 0---------eqn(2)\n",
      "#ROB*(I3-I1)+R*(I3-I2)+RBC*I3 = 10------eqn(3)\n",
      "#solving eqn(1) we get it as (I2 = I1) and applying it in eqn(2) we get R as 6 ohms\n",
      "R = 6;\t\t\t#resistance ROC\n",
      "#solving eqn(1),(2)and (3)\n",
      "\n",
      "#CALCULATIONS \n",
      "a = [[RAB+ROB,0,-ROB],[0,(RAC+R),-R],[-ROB,-R,(RBC+R+ROB)]];\n",
      "b = [[0],[0],[10]];\n",
      "c = solve(a,b);\n",
      "I1 = c[0];\t\t\t#current in mesh1 in A\n",
      "I2 = c[1];\t\t\t#current in mesh2 in A\n",
      "I3 = c[2];\t\t\t#current in mesh3 in A\n",
      "I = (I3-I2);\t\t\t#current flowing through R\n",
      "\n",
      "#OUTPUT\n",
      "print \"current across resistor R is %1.1f amps\"%(I);\n",
      "\n"
     ],
     "language": "python",
     "metadata": {},
     "outputs": [
      {
       "output_type": "stream",
       "stream": "stdout",
       "text": [
        "current across resistor R is 0.5 amps\n"
       ]
      }
     ],
     "prompt_number": 54
    },
    {
     "cell_type": "heading",
     "level": 2,
     "metadata": {},
     "source": [
      "Example 1.49  Page No : 54"
     ]
    },
    {
     "cell_type": "code",
     "collapsed": false,
     "input": [
      "import math \n",
      "from numpy.linalg import solve\n",
      "\n",
      "#INPUT DATA\n",
      "R1 = 5.;\t\t\t#resistance in ohms\n",
      "R2 = 15.;\t\t\t#resistance in ohms\n",
      "R3 = 10.;\t\t\t#resistance in ohms\n",
      "R4 = 8.;\t\t\t#resistance in ohms\n",
      "R5 = 12.;\t\t\t#resistance in ohms\n",
      "V1 = 4.;\t\t\t# supply voltage in volts\n",
      "V2 = 6.;\t\t\t#supply voltage in volts\n",
      "#let currents in mesh I,II and III is I1,I2,I3 respectively\n",
      "#applying KVL to meshes I,II and III\n",
      "#(R1+R2)*(I1)-R2*(I2) = V1-------eqn(1)\n",
      "#R2*(I1)-(R2+R3+R4)*(I2)+(R4)*(I3) = 0---------eqn(2)\n",
      "#R4*(I2)-(R4+R5) = V2------eqn(3)\n",
      "#solving eqn(1) we get it as (I2 = I1) and applying it in eqn(2) we get R as 6 ohms\n",
      "R = 6;\t\t\t#resistance ROC\n",
      "#solving eqn(1),(2)and (3)\n",
      "\n",
      "#CALCULATIONS \n",
      "a = [[R1+R2,-R2,0],[R2,-(R2+R3+R4),R4],[0,R4,-(R4+R5)]];\n",
      "b = [[V1],[0],[V2]];\n",
      "c = solve(a,b);\n",
      "I1 = c[0];\t\t\t#current in mesh1 in A\n",
      "I2 = c[1];\t\t\t#current in mesh2 in A\n",
      "I3 = c[2];\t\t\t#current in mesh3 in A\n",
      "I = (I2-I3);\t\t\t#current flowing through R4 in Amps\n",
      "\n",
      "#OUTPUT\n",
      "print \"current across 8 ohm resistor is %1.3f amps\"%(I);\n",
      "\n"
     ],
     "language": "python",
     "metadata": {},
     "outputs": [
      {
       "output_type": "stream",
       "stream": "stdout",
       "text": [
        "current across 8 ohm resistor is 0.319 amps\n"
       ]
      }
     ],
     "prompt_number": 55
    },
    {
     "cell_type": "heading",
     "level": 2,
     "metadata": {},
     "source": [
      "Example 1.50  Page No : 55"
     ]
    },
    {
     "cell_type": "code",
     "collapsed": false,
     "input": [
      "import math \n",
      "from numpy.linalg import solve\n",
      "\n",
      "#INPUT DATA\n",
      "RAB = 25.;\t\t\t#resistance in ohms\n",
      "RBC = 10.;\t\t\t#resistance in ohms\n",
      "RAD = 20.;\t\t\t#resistance in ohms\n",
      "RCD = 15.;\t\t\t#resistance in ohms\n",
      "RG = 50.;\t\t\t#resistance of galvanometer in ohms\n",
      "REF = 2.;\t\t\t#internal resistance in ohms\n",
      "V = 25.;\t\t\t# supply voltage in volts\n",
      "#let currents in mesh I,II and III is I1,I2,I3 respectively\n",
      "#applying KVL to meshes I,II and III\n",
      "#(RAB+RG+RAD)*(I1)-(RG)*(I2)-(RAD)*(I3) = 0-------eqn(1)\n",
      "#-(RG)*(I1)-(RG+RCD+RBC)*(I2)-(RCD)*(I3) = 0---------eqn(2)\n",
      "#-(RAD)*(I1)-(RCD)*(I2)+(RAD+RCD+REF) = -V---eqn(3)\n",
      "#solving eqn(1),(2)and (3)\n",
      "\n",
      "#CALCULATIONS \n",
      "a = [[RAB+RG+RAD,-RG,-RAD],[-RG,(RG+RCD+RBC),-RCD],[-RAD,-RCD,(RAD+RCD+REF)]];\n",
      "b = [[0],[0],[-V]];\n",
      "c = solve(a,b);\n",
      "I1 = c[0];\t\t\t#current in mesh1 in A\n",
      "I2 = c[1];\t\t\t#current in mesh2 in A\n",
      "I3 = c[2];\t\t\t#current in mesh3 in A\n",
      "I = (I1-I2);\t\t\t#currentthrough galvanometer in Amps\n",
      "\n",
      "#OUTPUT\n",
      "print \"current across galavanometer is %1.5f amps\"%(I);\n",
      "\n"
     ],
     "language": "python",
     "metadata": {},
     "outputs": [
      {
       "output_type": "stream",
       "stream": "stdout",
       "text": [
        "current across galavanometer is 0.04875 amps\n"
       ]
      }
     ],
     "prompt_number": 56
    },
    {
     "cell_type": "heading",
     "level": 2,
     "metadata": {},
     "source": [
      "Example 1.51  Page No : 56"
     ]
    },
    {
     "cell_type": "code",
     "collapsed": false,
     "input": [
      "import math \n",
      "from numpy.linalg import solve\n",
      "\n",
      "#INPUT DATA\n",
      "V1 = 100;\t\t\t#source1 voltage in volts\n",
      "V2 = 50.;\t\t\t#source2 voltage in volts\n",
      "R1 = 10.;\t\t\t#resistance in ohms\n",
      "R2 = 20.;\t\t\t#resistance in ohms\n",
      "R3 = 30.;\t\t\t#resistance in ohms\n",
      "R4 = 40.;\t\t\t#resistance in ohms\n",
      "#let currents in mesh I,II is I1,I2 respectively\n",
      "#applying KVL to meshes I,II \n",
      "#(R1+R3+R4)*(I1)-(R3)*(I2) = V1-------eqn(1)\n",
      "#(R3)*(I1)-(R2+R3)*(I2) = -V2---------eqn(2)\n",
      "#solving eqn(1),(2)\n",
      "\n",
      "#CALCULATIONS \n",
      "a = [[(R1+R3+R4),-R3],[R3,-(R2+R3)]];\n",
      "b = [[V1],[-V2]];\n",
      "c = solve(a,b);\n",
      "I1 = c[0];\t\t\t#current in mesh1 in A\n",
      "I2 = c[1];\t\t\t#current in mesh2 in A\n",
      "I = (I2-I1);\t\t\t#current through R3 in Amps\n",
      "\n",
      "#OUTPUT\n",
      "print \"current across 30 ohm resistor is %1.3f amps\"%(I);\n",
      "\n"
     ],
     "language": "python",
     "metadata": {},
     "outputs": [
      {
       "output_type": "stream",
       "stream": "stdout",
       "text": [
        "current across 30 ohm resistor is 0.161 amps\n"
       ]
      }
     ],
     "prompt_number": 57
    },
    {
     "cell_type": "heading",
     "level": 2,
     "metadata": {},
     "source": [
      "Example 1.52  Page No : 57"
     ]
    },
    {
     "cell_type": "code",
     "collapsed": false,
     "input": [
      "import math \n",
      "from numpy.linalg import solve\n",
      "\n",
      "#INPUT DATA\n",
      "V1 = 10;\t\t\t#source1 voltage in volts\n",
      "V2 = 5;\t\t\t#source2 voltage in volts\n",
      "V3 = 5;\t\t\t#source3 voltage in volts\n",
      "RAH = 2;\t\t\t#resistance in ohms\n",
      "RAB = 3;\t\t\t#resistance in ohms\n",
      "RBE = 5;\t\t\t#resistance in ohms\n",
      "REG = 5;\t\t\t#resistance in ohms\n",
      "RED = 5;\t\t\t#resistance in ohms\n",
      "RBC = 7;\t\t\t#resistance in ohms\n",
      "RCD = 3;\t\t\t#resistance in ohms\n",
      "RDF = 5;\t\t\t#resistance in ohms\n",
      "RHG = 5;\t\t\t#resistance in ohms\n",
      "#let currents in mesh I,II,III is I1,I2,I3 respectively\n",
      "#applying KVL to meshes I,II \n",
      "#(RAH+RHG+RAB+RBE+REG)*(I1)-(RBE)*(I2)-(REG)*(I3) = V1-------eqn(1)\n",
      "#-(RBE)*(I1)+(RBC+RCD+RBE+RED)*(I2)-(RDF)*(I3) = -V2---------eqn(2)\n",
      "#-(REG)*(I1)-(RED)*(I2)+(REG+RED+RDF)*(I3) = -V3--------eqn(3)\n",
      "#solving eqn(1),(2) and (3)\n",
      "\n",
      "#CALCULATIONS \n",
      "a = [[(RAH+RHG+RAB+RBE+REG),-RBE,-REG],[-REG,(RBC+RCD+RBE+RED),-(RDF)],[-REG,-RED,(REG+RED+RDF)]];\n",
      "b = [[V1],[-V2],[-V3]];\n",
      "c = solve(a,b);\n",
      "I1 = c[0];\t\t\t#current in mesh1 in A\n",
      "I2 = c[1];\t\t\t#current in mesh2 in A\n",
      "I3 = c[2];\t\t\t#current in mesh3 in A\n",
      "P1 = V1*I1;\t\t\t#power output from V1 in W\n",
      "P2 = V2*I2;\t\t\t#power output from V2 in W\n",
      "P3 = V3*I3;\t\t\t#power output from V3 in W\n",
      "\n",
      "#OUTPUT\n",
      "print \"power output from 10V is %1.1f W from 5V is %1.2fW from 5V is %1.2fW \"%(P1,-P2,-P3);\n",
      "\n"
     ],
     "language": "python",
     "metadata": {},
     "outputs": [
      {
       "output_type": "stream",
       "stream": "stdout",
       "text": [
        "power output from 10V is 3.7 W from 5V is 1.14W from 5V is 1.43W \n"
       ]
      }
     ],
     "prompt_number": 58
    },
    {
     "cell_type": "heading",
     "level": 2,
     "metadata": {},
     "source": [
      "Example 1.54  Page No : 61"
     ]
    },
    {
     "cell_type": "code",
     "collapsed": false,
     "input": [
      "import math \n",
      "\n",
      "#INPUT DATA\n",
      "RAC = 10.;\t\t\t#resistance in ohms\n",
      "RCD = 10.;\t\t\t#resistance in ohms\n",
      "RCF = 50.;\t\t\t#resistance in ohms\n",
      "RDH = 50.;\t\t\t#resistance in ohms\n",
      "RDF = 30.;\t\t\t#resistance in ohms\n",
      "RHF = 10.;\t\t\t#resistance in ohms\n",
      "#umath.sing star to delta conversion,the star point D is eliminated\n",
      "\n",
      "#CALCULATIONS \n",
      "RCF1 = ((RCD*RDF)+(RDF*RDH)+(RDH*RCD))/(RDH);\t\t\t#by umath.sing star to delta conversion technique\n",
      "RFH = ((RCD*RDF)+(RDF*RDH)+(RDH*RCD))/(RCD);\t\t\t#by umath.sing star to delta conversion technique\n",
      "RHC = ((RCD*RDF)+(RDF*RDH)+(RDH*RCD))/(RDF);\t\t\t#by umath.sing star to delta conversion technique\n",
      "RCF2 = (RCF*RCF1)/(RCF+RCF1);\n",
      "RCF = RCF2;\t\t\t#equivalent resistance of RCF in ohms\n",
      "RHF1 = (RHF*RFH)/(RHF+RFH);\n",
      "RHF = RHF1;\t\t\t#equivalent resistance of RHF in ohms\n",
      "RAB = (RAC)+(RHC*(RCF+RHF))/(RHC+RCF+RHF);\t\t\t#equivalent resistance of AB in ohms\n",
      "\n",
      "#OUTPUT\n",
      "print \"Thus equivalent resistance of AB is %f ohms\"%(RAB);\n",
      "#note:given final answer is wrong in textbook.Please check the calculations\n",
      "\n"
     ],
     "language": "python",
     "metadata": {},
     "outputs": [
      {
       "output_type": "stream",
       "stream": "stdout",
       "text": [
        "Thus equivalent resistance of AB is 33.333333 ohms\n"
       ]
      }
     ],
     "prompt_number": 59
    },
    {
     "cell_type": "heading",
     "level": 2,
     "metadata": {},
     "source": [
      "Example 1.55  Page No : 62"
     ]
    },
    {
     "cell_type": "code",
     "collapsed": false,
     "input": [
      "import math \n",
      "\n",
      "#INPUT DATA\n",
      "RAB = 1.;\t\t\t#resistance in ohms\n",
      "RBE = 2.;\t\t\t#resistance in ohms\n",
      "RED = 3.;\t\t\t#resistance in ohms\n",
      "REF = 3.;\t\t\t#resistance in ohms\n",
      "RDF = 3.;\t\t\t#resistance in ohms\n",
      "RAD = 2.;\t\t\t#resistance in ohms\n",
      "RAC = 1.;\t\t\t#resistance in ohms\n",
      "RBC = 1.;\t\t\t#resistance in ohms\n",
      "RFC = 2.;\t\t\t#resistance in ohms\n",
      "\n",
      "#CALCULATIONS \n",
      "#Delta DEF is converted into equivalent star where RDN = REN = RFN = 1 ohm\n",
      "#series branches of inner star network are added\n",
      "#Star ABCN is converted to equivalent delta\n",
      "RDN = 1;\n",
      "REN = RDN;\n",
      "RFN = REN;\n",
      "RAN = RAD+RDN;RBN = RBE+REN;RCN = RFC+RFN\n",
      "RAB1 = ((RAN*RBN)+(RBN*RCN)+(RCN*RAN))/(RCN);\t\t\t#by umath.sing star to delta conversion technique\n",
      "RBC1 = ((RAN*RBN)+(RBN*RCN)+(RCN*RAN))/(RAN);\t\t\t#by umath.sing star to delta conversion technique\n",
      "RCA1 = ((RAN*RBN)+(RBN*RCN)+(RCN*RAN))/(RBN);\t\t\t#by umath.sing star to delta conversion technique\n",
      "#parallel resistances in each branch are converted to math.single resistance\n",
      "RAB2 = (RAB*RAB1)/(RAB+RAB1);\n",
      "RAB = RAB2;\t\t\t#equivalent resistance of RAB in ohms\n",
      "RBC2 = (RBC*RBC1)/(RBC+RBC1);\n",
      "RBC = RBC2;\t\t\t#equivalent resistance of RBC in ohms\n",
      "RCA2 = (RAC*RCA1)/(RAC+RCA1);\n",
      "RCA3 = ((RCA2)*(RAB+RBC))/(RBC+RAB+RCA2);\n",
      "RCA = RCA3;\n",
      "\n",
      "#OUTPUT\n",
      "print \"Thus equivalent resistance of CA is %1.1f ohms\"%(RCA);\n",
      "#TO FIND EQUIVALENT RESISTANCE BETWEEN DF\n",
      "\n",
      "#node A is eliminated umath.sing star to delta conversion\n",
      "RBC = (RAB*RAD)+(RAD*RAC)+(RAC*RAB)/(RAD);\t\t\t#by umath.sing star to delta conversion technique\n",
      "RCD = (RAB*RAD)+(RAD*RAC)+(RAC*RAB)/(RAB);\t\t\t#by umath.sing star to delta conversion technique\n",
      "#node C is eliminated umath.sing star to delta conversion\n",
      "RDB = (0.72*5)+(5*2)+(2*0.72)/2;\n",
      "RBF1 = (0.72*5)+(5*2)+(2*0.72)/5;\n",
      "RFD = (0.72*5)+(5*2)+(2*0.72)/0.72;\n",
      "#parallel branches between nodes B and D and nodes D and F are reduced as\n",
      "RBD = (RDB*5)/(RDB+5);\n",
      "RDF = (RFD*3)/(RFD+3);\n",
      "#node E is eliminated umath.sing star to delta conversion technique\n",
      "RBF = ((2*3)+(3*3)+(3*2))/3.;\n",
      "RFD = ((2*3)+(3*3)+(3*2))/2.;\n",
      "RDB = ((2*3)+(3*3)+(3*2))/3.;\n",
      "RDF1 = 4.2;\t\t\t#(R' = RDB+RDF)\n",
      "RDF = ((RDF1)*(RDF1/2))/(RDF1+(RDF1/2));\n",
      "\n",
      "#OUTPUT\n",
      "print \" Thus equivalent resistance of DF is %1.1f ohms\"%(RDF);\n",
      "\n"
     ],
     "language": "python",
     "metadata": {},
     "outputs": [
      {
       "output_type": "stream",
       "stream": "stdout",
       "text": [
        "Thus equivalent resistance of CA is 0.6 ohms\n",
        " Thus equivalent resistance of DF is 1.4 ohms\n"
       ]
      }
     ],
     "prompt_number": 60
    },
    {
     "cell_type": "heading",
     "level": 2,
     "metadata": {},
     "source": [
      "Example 1.56  Page No : 66"
     ]
    },
    {
     "cell_type": "code",
     "collapsed": false,
     "input": [
      "import math \n",
      "\n",
      "#INPUT DATA\n",
      "RAB = 6.;\t\t\t#resistance in ohms\n",
      "RBC = 3.;\t\t\t#resistance in ohms\n",
      "RBD = 4.;\t\t\t#resistance in ohms\n",
      "V1 = 25.;\t\t\t#source voltage in volts\n",
      "V2 = 45.;\t\t\t#source voltage in volts\n",
      "\n",
      "#CALCULATIONS \n",
      "#applying kirchoff's current law at node B\n",
      "#-I1-I2+I3 = 0\n",
      "#I1 = (V1-VB)/RAB\n",
      "#I2 = (V3-VB)/RBC\n",
      "#I3 = VB/RBD\n",
      "VB = ((V1/RAB)+(V2/RBC))/((1/RAB)+(1/RBC)+(1/RBD));\n",
      "I1 = (V1-VB)/(RAB);\t\t\t#current across AB\n",
      "I2 = (V2-VB)/(RBC);\t\t\t#current across BC\n",
      "I3 = (VB)/(RBD);\t\t\t#current across BD\n",
      "\n",
      "#OUTPUT\n",
      "print \"Thus currents I1, I2 ,I3 are %1.1f A %1.2f A %1.1f A\"%(I1,I2,I3);\n"
     ],
     "language": "python",
     "metadata": {},
     "outputs": [
      {
       "output_type": "stream",
       "stream": "stdout",
       "text": [
        "Thus currents I1, I2 ,I3 are -0.1 A 6.48 A 6.4 A\n"
       ]
      }
     ],
     "prompt_number": 62
    },
    {
     "cell_type": "heading",
     "level": 2,
     "metadata": {},
     "source": [
      "Example 1.57  Page No : 67"
     ]
    },
    {
     "cell_type": "code",
     "collapsed": false,
     "input": [
      "import math \n",
      "from numpy.linalg import solve\n",
      "\n",
      "#INPUT DATA\n",
      "I1 = 25.;\t\t\t#current source in A\n",
      "I2 = 6.;\t\t\t#current source in A\n",
      "I3 = 5.;\t\t\t#current source in A\n",
      "RAB = 5.;\t\t\t#resistance in ohms\n",
      "RAC = 10.;\t\t\t#resistance in ohms\n",
      "RBC = 2.;\t\t\t#resistance in ohms\n",
      "#let currents across AC and BC and AB are Ix,Iy and Iz respectively\n",
      "#applying kirchoff's current law at node A\n",
      "#-I1+Ix+I3+Iz = 0------eqn(1)\n",
      "#applying kirchoff's current law at node B\n",
      "#-Iz-I3+Iy+I2 = 0------eqn(2)\n",
      "\n",
      "#CALCULATIONS \n",
      "a = [[((1/RAC)+(1/RAB)),(-1/RAB)],[(-1/RAB),((1/RAB)+(1/RBC))]];\n",
      "b = [[20],[-1]];\n",
      "c = solve(a,b)\n",
      "VA = c[0];\t\t\t#voltage at node A\n",
      "VB = c[1];\t\t\t#voltage at node B\n",
      "\n",
      "#OUTPUT\n",
      "print \"Thus voltages at node A and B are %2.1f V and %2.1f V\"%(-VA,VB);\n",
      "\n",
      "\n",
      "\n"
     ],
     "language": "python",
     "metadata": {},
     "outputs": [
      {
       "output_type": "stream",
       "stream": "stdout",
       "text": [
        "Thus voltages at node A and B are -81.2 V and 21.8 V\n"
       ]
      }
     ],
     "prompt_number": 63
    },
    {
     "cell_type": "heading",
     "level": 2,
     "metadata": {},
     "source": [
      "Example 1.58  Page No : 68"
     ]
    },
    {
     "cell_type": "code",
     "collapsed": false,
     "input": [
      "#INPUT DATA\n",
      "RAB = 1.;\t\t\t#resistance in ohms\n",
      "RAD = 1;\t\t\t#resistance in ohms\n",
      "RDC = 2;\t\t\t#resistance in ohms\n",
      "RCB = 1;\t\t\t#resistance in ohms\n",
      "RAC = 1;\t\t\t#resistance in ohms\n",
      "#delta DAC has been converted to star DAC where RDN = 0.5 ohms,RNA = 0.25 ohms,RNC = 0.5 ohms\n",
      "\n",
      "#CALCULATIONS \n",
      "RDN = 0.5;\n",
      "RNA = 0.25;\n",
      "RNC = 0.5\n",
      "RBD = ((RDN)+(((RNA+RAB)*(RNC+RCB))/(RNA+RAB+RNC+RCB)));\t\t\t#equivalent resistance across BD\n",
      "\n",
      "#OUTPUT\n",
      "print \"Thus equivalent resistance across BD is %1.2f ohms\"%(RBD);\n"
     ],
     "language": "python",
     "metadata": {},
     "outputs": [
      {
       "output_type": "stream",
       "stream": "stdout",
       "text": [
        "Thus equivalent resistance across BD is 1.18 ohms\n"
       ]
      }
     ],
     "prompt_number": 64
    },
    {
     "cell_type": "heading",
     "level": 2,
     "metadata": {},
     "source": [
      "Example 1.59  Page No : 69"
     ]
    },
    {
     "cell_type": "code",
     "collapsed": false,
     "input": [
      "#INPUT DATA\n",
      "RAB = 9.;\t\t\t#resistance in ohms\n",
      "RBC = 1.;\t\t\t#resistance in ohms\n",
      "RCA = 1.5;\t\t\t#resistance in ohms\n",
      "RAD = 6.;\t\t\t#resistance in ohms\n",
      "RBD = 4.;\t\t\t#resistance in ohms\n",
      "RCD = 3.;\t\t\t#resistance in ohms\n",
      "#star ABC has been converted to delta AnBnCn where RABn = 18 ohms,RBCn = 9 ohms,RCAn = 13.5 ohms\n",
      "\n",
      "#CALCULATIONS \n",
      "RABn = 18.;\n",
      "RBCn = 9.;\n",
      "RCAn = 13.5;\n",
      "RAB1 = ((RAB*RABn)/(RAB+RABn));\t\t\t#equivalent resistance across AB\n",
      "RBC1 = ((RBC*RBCn)/(RBC+RBCn));\t\t\t#equivalent resistance across BC\n",
      "RAC1 = ((RCA*RCAn)/(RCA+RCAn));\t\t\t#equivalent resistance across AC\n",
      "#there are two parallel paths across points A and B.\n",
      "#(a)one directly from A to B having a resistance of 6 ohms and\n",
      "#(b)The other via C having a total resistance \n",
      "RBA = ((RBC1+RAC1)*(RAB1))/(RBC1+RAC1+RAB1);\t\t\t#final equivalent resistance across AB\n",
      "RCB = ((RAC1+RAB1)*(RBC1))/(RAC1+RAB1+RBC1);\t\t\t#final equivalent resistance across BC\n",
      "RCA = ((RAB1+RBC1)*(RAC1))/(RAB1+RBC1+RAC1);\t\t\t#final equivalent resistance across AC\n",
      "\n",
      "#OUTPUT\n",
      "print \"Thus final equivalent resistance across AB, BC and CA are %1.2f ohms, %1.2f ohms, %1.2f ohms\"%(RBA,RCB,RCA);\n",
      "#note:answer given for RCA is wrong.Please check the calculations\n"
     ],
     "language": "python",
     "metadata": {},
     "outputs": [
      {
       "output_type": "stream",
       "stream": "stdout",
       "text": [
        "Thus final equivalent resistance across AB, BC and CA are 1.64 ohms, 0.80 ohms, 1.13 ohms\n"
       ]
      }
     ],
     "prompt_number": 66
    }
   ],
   "metadata": {}
  }
 ]
}