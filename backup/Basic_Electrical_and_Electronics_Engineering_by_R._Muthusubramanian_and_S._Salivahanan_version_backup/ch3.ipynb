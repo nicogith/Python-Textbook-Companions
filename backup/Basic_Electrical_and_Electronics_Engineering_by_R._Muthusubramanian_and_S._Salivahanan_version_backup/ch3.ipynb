{
 "metadata": {
  "name": "",
  "signature": "sha256:a64200a77ffe10fffa1919550d40f769cbaaa3a72ad07c742026f2f227041634"
 },
 "nbformat": 3,
 "nbformat_minor": 0,
 "worksheets": [
  {
   "cells": [
    {
     "cell_type": "heading",
     "level": 1,
     "metadata": {},
     "source": [
      "Chapter 3 : ELECTROMAGNETIC INDUCTION"
     ]
    },
    {
     "cell_type": "heading",
     "level": 2,
     "metadata": {},
     "source": [
      "Example 3.1  Page No : 109"
     ]
    },
    {
     "cell_type": "code",
     "collapsed": false,
     "input": [
      "#INPUT DATA\n",
      "P = 4;\t\t\t#no of poles\n",
      "N1 = 500;\t\t\t#no of turns per pole\n",
      "phi = 0.02;\t\t\t#magnetic flux in wb/pole\n",
      "t = 0.02;\t\t\t#time in sec\n",
      "rphi = 0.002;\t\t\t#residual flux in wb/pole\n",
      "\n",
      "#CALCULATIONS\n",
      "N = P*N1;\t\t\t#total no of turns\n",
      "di = P*phi;\t\t\t#total initial flux in wb\n",
      "dR = P*rphi;\t\t\t#total residual flux in wb\n",
      "dphi = di-dR;\t\t\t#change in flux in wb\n",
      "dt = 0.02;\t\t\t#time of opening the circuit in sec\n",
      "E = N*(dphi/dt);\t\t\t#induced emf  in volts\n",
      "\n",
      "#OUTPUT\n",
      "print \"Thus the average voltage that is induced across field terminals is %4.0f volts \"%(E);\n",
      "print \"The direction of this emf is the same as that of the original direction of the exciting current\";\n"
     ],
     "language": "python",
     "metadata": {},
     "outputs": [
      {
       "output_type": "stream",
       "stream": "stdout",
       "text": [
        "Thus the average voltage that is induced across field terminals is 7200 volts \n",
        "The direction of this emf is the same as that of the original direction of the exciting current\n"
       ]
      }
     ],
     "prompt_number": 1
    },
    {
     "cell_type": "heading",
     "level": 2,
     "metadata": {},
     "source": [
      "Example 3.2  Page No : 109"
     ]
    },
    {
     "cell_type": "code",
     "collapsed": false,
     "input": [
      "#INPUT DATA\n",
      "R = 150;\t\t\t#resistance of the coil in ohms\n",
      "phi1 = 0.1;\t\t\t#magnetic flux in milli webers\n",
      "N = 500;\t\t\t#no of turns\n",
      "Rgal = 450;\t\t\t#resistance of galvanometer in ohms\n",
      "dt = 0.1;\t\t\t#time in sec required to move coil from given field(m) to another field (m2)\n",
      "phi2 = 0.3;\t\t\t#magnetic flux of new field in milli webers\n",
      "\n",
      "#CALCULATIONS\n",
      "dphi = phi2-phi1;\t\t\t#change of flux in milli webers\n",
      "E = N*(dphi/dt)*10**-3;\t\t\t#average induced emf in volts(V)\n",
      "I = E/(R+Rgal);\t\t\t#average induced current in coil in amperes(A)\n",
      "\n",
      "#OUTPUT\n",
      "print 'Average induced emf and current are %1.0f V and %1.4f A'%(E,I);\n"
     ],
     "language": "python",
     "metadata": {},
     "outputs": [
      {
       "output_type": "stream",
       "stream": "stdout",
       "text": [
        "Average induced emf and current are 1 V and 0.0017 A\n"
       ]
      }
     ],
     "prompt_number": 2
    },
    {
     "cell_type": "heading",
     "level": 2,
     "metadata": {},
     "source": [
      "Example 3.3  Page No : 110"
     ]
    },
    {
     "cell_type": "code",
     "collapsed": false,
     "input": [
      "import math\n",
      "\n",
      "#INPUT DATA\n",
      "l = 0.1;\t\t\t#conductor length (10 cm) = (0.1 m)\n",
      "I = 60;\t\t\t#current in amperes (A)\n",
      "H = 1000;\t\t\t#magnetic field strength in ampere/metre (A/m)\n",
      "v = 1;\t\t\t#conductor speed in metre/second(m/s)\n",
      "u0 = 4*math.pi*10**-7;\t\t\t#permeability in free space in henry/m\n",
      "\n",
      "#CALCULATIONS\n",
      "B = u0*1000;\t\t\t#magnetic flux density in (wb/m**2)\n",
      "F = B*I*l;\t\t\t#force in Newtons(N)\n",
      "P = F*v;\t\t\t#power in watt \n",
      "E = B*l*v;\t\t\t#emf induced in conductor\n",
      "\n",
      "#OUTPUT\n",
      "print \"The force acting on conductor %1.4f N \"%(F);\n",
      "print \"The mechanical power to move this conductor is %1.4f watt \"%(P);\n",
      "print \"The induced emf in conductor is %1.5f V \"%(E);\n"
     ],
     "language": "python",
     "metadata": {},
     "outputs": [
      {
       "output_type": "stream",
       "stream": "stdout",
       "text": [
        "The force acting on conductor 0.0075 N \n",
        "The mechanical power to move this conductor is 0.0075 watt \n",
        "The induced emf in conductor is 0.00013 V \n"
       ]
      }
     ],
     "prompt_number": 4
    },
    {
     "cell_type": "heading",
     "level": 2,
     "metadata": {},
     "source": [
      "Example 3.4  Page No : 110"
     ]
    },
    {
     "cell_type": "code",
     "collapsed": false,
     "input": [
      "import math \n",
      "\n",
      "#INPUT DATA\n",
      "l = 0.3;\t\t\t#mean length of toroidal coil in meters (30cm = 0.3m)\n",
      "N = 480;\t\t\t#no of turns of coil\n",
      "a = 5*10**-4;\t\t\t#cross sectional area in metres (1 cm**2 = 10**-4 m**2)\n",
      "I = 4;\t\t\t#current in amps\n",
      "dt = 60*10**-3;\t\t\t#time in sec\n",
      "u0 = 4*math.pi*10**-7;\t\t\t#permeability in free space in henry/m\n",
      "ur = 1;\t\t\t#relative permeability for air\n",
      "\n",
      "#CALCULATIONS\n",
      "L = (u0*ur*a*N*N)/(l);\t\t\t#inductance of coli in henry\n",
      "di = I-(-I);\t\t\t#change in current in amps\n",
      "E = L*(di/dt);\t\t\t#average induced emf\n",
      "\n",
      "#OUTPUT\n",
      "print 'The inductance of the coil is %1.6f H '%(L)\n",
      "print 'average induced emf is %1.3f V '%(E)\n"
     ],
     "language": "python",
     "metadata": {},
     "outputs": [
      {
       "output_type": "stream",
       "stream": "stdout",
       "text": [
        "The inductance of the coil is 0.000483 H \n",
        "average induced emf is 0.064 V \n"
       ]
      }
     ],
     "prompt_number": 1
    },
    {
     "cell_type": "heading",
     "level": 2,
     "metadata": {},
     "source": [
      "Example 3.5  Page No : 111"
     ]
    },
    {
     "cell_type": "code",
     "collapsed": false,
     "input": [
      "import math \n",
      "\n",
      "#INPUT DATA\n",
      "L1 = 0.25;\t\t\t#self inductance of coil in henry(H)\n",
      "N1 = 500;\t\t\t#no of turns of coil 1\n",
      "N2 = 10500;\t\t\t#no of turns of coil 2\n",
      "phi2 = 0.6*L1;\t\t\t#60 % of flux of first coil(m1) is linked with second coil(m2)\n",
      "z = 100;\t\t\t#rate of change of current(dii/dt) in A/sec\n",
      "\n",
      "#CALCULATIONS\n",
      "x = L1/N1;\t\t\t#flux/ampere in first coil(phi1/I1)\n",
      "y = 0.6*(x);\t\t\t#flux linking the second coil(phi2/I1)\n",
      "M = N2*(y);\t\t\t#mutual inductance between the two coils in H\n",
      "E = M*(z);\t\t\t#induced emf in V\n",
      "#OUTPUT\n",
      "print \"Thus the mutual inductance between two coils is %1.2f H \"%(M);\n",
      "print \"The induced emf in second coil when current changes in first coil is %3.0f V \"%(E);\n"
     ],
     "language": "python",
     "metadata": {},
     "outputs": [
      {
       "output_type": "stream",
       "stream": "stdout",
       "text": [
        "Thus the mutual inductance between two coils is 3.15 H \n",
        "The induced emf in second coil when current changes in first coil is 315 V \n"
       ]
      }
     ],
     "prompt_number": 2
    },
    {
     "cell_type": "heading",
     "level": 2,
     "metadata": {},
     "source": [
      "Example 3.6  Page No : 111"
     ]
    },
    {
     "cell_type": "code",
     "collapsed": false,
     "input": [
      "import math \n",
      "\n",
      "#INPUT DATA\n",
      "N1 = 250;\t\t\t#no of turns in a coil\n",
      "I1 = 2;\t\t\t#current in coil in A\n",
      "phi1 = 0.3;\t\t\t#flux in coil in wb\n",
      "dt = 2\t\t\t#time in  millisec\n",
      "Em2 = 63.75\t\t\t#induced voltage in V\n",
      "K = 0.75\n",
      "#CALCULATIONS\n",
      "L1 = N1*(phi1/I1);\t\t\t#self inductance of first coil in H\n",
      "M = Em2*(dt/I1);\t\t\t#mutual inductance of two coils in H\n",
      "L2 = ((Em2/K)**2)/(L1);\t\t\t#self inductance of second coil in H\n",
      "phi2 = K*phi1;\t\t\t#flux in second coil in wb\n",
      "N2 = (Em2*dt)/phi2;\t\t\t#no of turns in second coil\n",
      "#OUTPUT\n",
      "print \"Thus the self inductance of first coil is %2.1f mH \"%(L1);\n",
      "print \"mutual inductance of two coils %2.2f mH \"%(M);\n",
      "print \"self inductance of second coil %4.0f mH \"%(L2);\n",
      "print \"no of turns in second coil %3.0f turns \"%(N2);\n",
      "#note:the answer given  for N2 in textbook is wrong .please check the calculations\n"
     ],
     "language": "python",
     "metadata": {},
     "outputs": [
      {
       "output_type": "stream",
       "stream": "stdout",
       "text": [
        "Thus the self inductance of first coil is 37.5 mH \n",
        "mutual inductance of two coils 63.75 mH \n",
        "self inductance of second coil  193 mH \n",
        "no of turns in second coil 567 turns \n"
       ]
      }
     ],
     "prompt_number": 5
    },
    {
     "cell_type": "heading",
     "level": 2,
     "metadata": {},
     "source": [
      "Example 3.7  Page No : 112"
     ]
    },
    {
     "cell_type": "code",
     "collapsed": false,
     "input": [
      "import math \n",
      "\n",
      "#INPUT DATA\n",
      "l = 1;\t\t\t#length of wire in m\n",
      "v = 50;\t\t\t#velocity in m/sec\n",
      "B = 1;\t\t\t#magnetic flux density in wb/m**2\n",
      "theta1 = 90;\t\t\t#the angle of conductor in degrees to the field in case 1\n",
      "theta2 = 30;\t\t\t#the angle of conductor in degrees to the field in case 2\n",
      "#CALCULATIONS\n",
      "E1 = B*l*v*math.sin (theta1*math.pi/180);\t\t\t#emf induced in conductor in case 1(1degree  = 3.14/180 radians)\n",
      "E2 = B*l*v*math.sin ((360+theta2)*math.pi/180);\t\t\t#emf induced in conductor in case 2(1degree  = 3.14/180 radians)\n",
      "#OUTPUT\n",
      "print \"Thus the emf induced in case 1 is %2.0f volts \"%(E1);\n",
      "print \"Thus the emf induced in case 2 is %2.0f volts \"%(E2);\n",
      "#note:convert angle in degrees to radians and compute it.\n",
      "\n"
     ],
     "language": "python",
     "metadata": {},
     "outputs": [
      {
       "output_type": "stream",
       "stream": "stdout",
       "text": [
        "Thus the emf induced in case 1 is 50 volts \n",
        "Thus the emf induced in case 2 is 25 volts \n"
       ]
      }
     ],
     "prompt_number": 6
    },
    {
     "cell_type": "heading",
     "level": 2,
     "metadata": {},
     "source": [
      "Example 3.8  Page No : 112"
     ]
    },
    {
     "cell_type": "code",
     "collapsed": false,
     "input": [
      "import math \n",
      "\n",
      "#INPUT DATA\n",
      "N = 1000;\t\t\t#no of turns in a coil\n",
      "a = 10*10**-4;\t\t\t#crossectional area in m**2\n",
      "i1 = 4.2;\t\t\t#current in A in case 1\n",
      "i2 = 9.2;\t\t\t#current in A in case 2\n",
      "B1 = 1;\t\t\t#flux density in wb/m**2 when current is i1\n",
      "B2 = 1.42;\t\t\t#flux density in wb/m**2 when current is\n",
      "dt = 0.05;\t\t\t#time in sec where current reduces from 9.2A to 4.2A\n",
      "#CALCULATIONS\n",
      "db = (B2-B1)\t\t\t#difference in flux densities\n",
      "di = (i2-i1);\t\t\t#difference in currents\n",
      "di1 = (i1-i2);\t\t\t#difference in currents\n",
      "L = N*a*(db)/di;\t\t\t#average inductance between the limits in H\n",
      "E = -(L*di1/dt);\t\t\t#emf induced \n",
      "#OUTPUT\n",
      "print \"Thus the average inductance between the limits is %1.3f H \"%(L);\n",
      "print \"emf induced is %1.1f volts\"%(E);\n"
     ],
     "language": "python",
     "metadata": {},
     "outputs": [
      {
       "output_type": "stream",
       "stream": "stdout",
       "text": [
        "Thus the average inductance between the limits is 0.084 H \n",
        "emf induced is 8.4 volts\n"
       ]
      }
     ],
     "prompt_number": 7
    },
    {
     "cell_type": "heading",
     "level": 2,
     "metadata": {},
     "source": [
      "Example 3.9  Page No : 113"
     ]
    },
    {
     "cell_type": "code",
     "collapsed": false,
     "input": [
      "import math \n",
      "#Chapter-3, Example 3.9, Page 113\n",
      "\n",
      "#INPUT DATA\n",
      "N1 = 1600;\t\t\t#no of turns of solenoid\n",
      "l = 0.5;\t\t\t#length of wire of solenoid in m\n",
      "N2 = 600;\t\t\t#no of turns of second coil\n",
      "a = 18*10**-4;\t\t\t#area of second coil in m**2\n",
      "u0 = 4*math.pi*10**-7;\t\t\t#permeability in free space\n",
      "z = 300;\t\t\t#rate of change of current(di1/dt) in A/sec\n",
      "#CALCULATIONS\n",
      "B = (u0*N1)/(l);\t\t\t#flux density in solenoid\n",
      "M = (B*a*N2);\t\t\t#mutual inductance in mH\n",
      "E = M*(z);\t\t\t#voltage induced\n",
      "#OUTPUT\n",
      "print \"Thus the mutual inductance is %f H \"%(M);\n",
      "print \"Thus the voltage induced is %f V \"%(E); \n",
      "#note:answer given for voltage in text book is wrong.please check the calculations"
     ],
     "language": "python",
     "metadata": {},
     "outputs": [
      {
       "output_type": "stream",
       "stream": "stdout",
       "text": [
        "Thus the mutual inductance is 0.004343 H \n",
        "Thus the voltage induced is 1.302881 V \n"
       ]
      }
     ],
     "prompt_number": 8
    },
    {
     "cell_type": "heading",
     "level": 2,
     "metadata": {},
     "source": [
      "Example 3.10  Page No : 113"
     ]
    },
    {
     "cell_type": "code",
     "collapsed": false,
     "input": [
      "import math \n",
      "\n",
      "#INPUT DATA\n",
      "NA = 15000;\t\t\t#no of turns in coil A\n",
      "IA = 6;\t\t\t#current in coil A in Amp(A)\n",
      "phiA = 0.05*10**-3;\t\t\t#flux in coil A in wb\n",
      "NB = 12000;\t\t\t#no of turns in coil B\n",
      "IB = 6;\t\t\t#current in coil B in Amp(A)\n",
      "phiB = 0.08*10**-3;\t\t\t#flux in coil B in wb\n",
      "phiAB = 0.55*0.05*10**-3;\t\t\t#mutual flux in wb\n",
      "#CALCULATIONS\n",
      "LA = phiA*NA/IA;\t\t\t#self inductance of coil A in H\n",
      "LB = phiB*NB/IB;\t\t\t#self inductance of coil B in H\n",
      "LAB = phiAB*NB/IB;\t\t\t#mutual inductance of coils in H\n",
      "K = LAB/math.sqrt(LA*LB);\t\t\t#coefficient of coupling\n",
      "#OUTPUT\n",
      "print \"Thus the self inductance of coil A  is %1.3f H\"%(LA);\n",
      "print \"Thus the self inductance of coil B is %1.2f H \"%(LB);\n",
      "print \"Thus the mutual inductance of coils is %1.3f H \"%(LAB);\n",
      "print \"Thus the coefficient of coupling is %1.3f \"%(K)"
     ],
     "language": "python",
     "metadata": {},
     "outputs": [
      {
       "output_type": "stream",
       "stream": "stdout",
       "text": [
        "Thus the self inductance of coil A  is 0.125 H\n",
        "Thus the self inductance of coil B is 0.16 H \n",
        "Thus the mutual inductance of coils is 0.055 H \n",
        "Thus the coefficient of coupling is 0.389 \n"
       ]
      }
     ],
     "prompt_number": 9
    }
   ],
   "metadata": {}
  }
 ]
}