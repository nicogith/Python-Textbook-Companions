{
 "cells": [
  {
   "cell_type": "markdown",
   "metadata": {
    "collapsed": false
   },
   "source": [
    "# Chapter 2:Band Theory of Solids"
   ]
  },
  {
   "cell_type": "markdown",
   "metadata": {
    "collapsed": true
   },
   "source": [
    "# Example 2.1,Page No:2.2"
   ]
  },
  {
   "cell_type": "code",
   "execution_count": 9,
   "metadata": {
    "collapsed": false
   },
   "outputs": [
    {
     "name": "stdout",
     "output_type": "stream",
     "text": [
      "Lowest three permissable quantum energies are  E1 = 6 eV\n",
      " E2 = 24 eV\n",
      " E3 = 54 eV\n"
     ]
    }
   ],
   "source": [
    "import math\n",
    "\n",
    "#variable declaration\n",
    "h   = 6.63*10**-34;          # plancks constant in J.s\n",
    "m   = 9.1*10**-31;           # mass of electron in kg\n",
    "a   = 2.5*10**-10;           # width of infinite square well\n",
    "e   = 1.6*10**-19;           # charge of electron coulombs\n",
    "n2  = 2;                     #number of  permiissable quantum\n",
    "n3  = 3;                     #number of  permiissable quantum\n",
    "\n",
    "# Calculations\n",
    "E1  = (h**2)/float(8*m*a**2*e);      # first lowest permissable quantum energy  in eV\n",
    "E2  = n2**2 *E1;                     # second lowest permissable quantum energy in eV\n",
    "E3  = n3**2 *E1;                     # second lowest permissable quantum energy in eV\n",
    "\n",
    "# Result\n",
    "print'Lowest three permissable quantum energies are  E1 = %d'%E1,'eV';\n",
    "print' E2 = %d'%E2,'eV';\n",
    "print' E3 = %d'%E3,'eV';"
   ]
  },
  {
   "cell_type": "markdown",
   "metadata": {},
   "source": [
    "# Example 2.2,Page No:2.4"
   ]
  },
  {
   "cell_type": "code",
   "execution_count": 10,
   "metadata": {
    "collapsed": false
   },
   "outputs": [
    {
     "name": "stdout",
     "output_type": "stream",
     "text": [
      "Energy Difference = 113.21  eV\n"
     ]
    }
   ],
   "source": [
    "import math\n",
    "\n",
    "#variable declaration\n",
    "h   = 6.63*10**-34;          # plancks constant in J.s\n",
    "m   = 9.1*10**-31;           # mass of electron in kg\n",
    "a   = 10**-10;               # width of infinite square well in m\n",
    "e   = 1.6*10**-19;           # charge of electron in coulombs\n",
    "n1  = 1;                     #energy level constant\n",
    "n2  = 2;                     #energy level constant\n",
    "\n",
    "# calculations\n",
    "E1  = ((n1**2)*(h**2))/float(8*m*(a**2)*e);      # ground state energy in eV\n",
    "E2  = ((n2**2)*(h**2))/float(8*m*(a**2)*e);      # first excited state in energy in eV\n",
    "dE  = E2-E1                                      # difference between first excited and ground state(E2 - E1)\n",
    "\n",
    "#Result\n",
    "print'Energy Difference = %3.2f '%dE,'eV';\n",
    "\n",
    " \n"
   ]
  },
  {
   "cell_type": "markdown",
   "metadata": {},
   "source": [
    "# Example 2.3,Page No:2.5"
   ]
  },
  {
   "cell_type": "code",
   "execution_count": 11,
   "metadata": {
    "collapsed": false
   },
   "outputs": [
    {
     "name": "stdout",
     "output_type": "stream",
     "text": [
      "First Three Energy levels are \n",
      " E1 = 1.51 eV\n",
      " E2 = 6 eV\n",
      " E3 = 13.59 eV\n",
      "\n",
      " Above calculation shows that the energy of the bound electron cannot be continuous\n"
     ]
    }
   ],
   "source": [
    "import math\n",
    "\n",
    "# Variable declaration\n",
    "h   = 6.63*10**-34;           # plancks constant in J.s\n",
    "m   = 9.1*10**-31;            # mass of electron in kg\n",
    "a   = 5*10**-10;              # width of infinite potential well in m\n",
    "e   = 1.6*10**-19;            # charge of electron in coulombs\n",
    "n1  = 1;                      # energy level constant\n",
    "n2  = 2;                      # energy level constant\n",
    "n3  = 3;                      # energy level constant\n",
    "\n",
    "#Calculations\n",
    "E1  = ((n1**2)*(h**2))/(8*m*(a**2)*e);      # first energy level in eV\n",
    "E2  = ((n2**2)*(h**2))/(8*m*(a**2)*e);      # second energy level in eV\n",
    "E3  = ((n3**2)*(h**2))/(8*m*(a**2)*e);      # third energy level in eV\n",
    "\n",
    "# Result\n",
    "print'First Three Energy levels are \\n E1 = %3.2f'%E1,'eV';\n",
    "print' E2 = %d'%E2,'eV';\n",
    "print' E3 = %3.2f'%E3,'eV';\n",
    "print'\\n Above calculation shows that the energy of the bound electron cannot be continuous';\n"
   ]
  },
  {
   "cell_type": "markdown",
   "metadata": {},
   "source": [
    "# Example 2.4,Page No:2.5"
   ]
  },
  {
   "cell_type": "code",
   "execution_count": 12,
   "metadata": {
    "collapsed": false
   },
   "outputs": [
    {
     "name": "stdout",
     "output_type": "stream",
     "text": [
      "Lowest energy bandwidth = 0.452 eV\n"
     ]
    }
   ],
   "source": [
    "import math\n",
    "\n",
    "#variable declaration\n",
    "h   = 1.054*10**-34;          #plancks constant in J.s\n",
    "m   = 9.1*10**-31;            #mass of electron in kg\n",
    "a   = 5*10**-10;              #width of infinite potential well in m\n",
    "e   = 1.6*10**-19;            # charge of electron coulombs\n",
    "\n",
    "# Calculations\n",
    "#cos(ka) = ((Psin(alpha*a))/(alpha*a)) + cos(alpha*a)\n",
    "#to find the lowest allowed energy bandwidth,we have to find the difference in αa values, as ka changes from 0 to π\n",
    "# for ka = 0 in above eq becomes\n",
    "# 1 = 10*sin(αa))/(αa)) + cos(αa)\n",
    "# This gives αa = 2.628 rad\n",
    "# ka = π , αa = π\n",
    "# sqrt((2*m*E2)/h**2)*a = π\n",
    "\n",
    "E2   = ((math.pi*math.pi)*h**2)/(2*m*a**2*e);        #energy in eV\n",
    "E1   = ((2.628**2)*h**2)/(2*m*a**2*e);               #for αa = 2.628 rad energy in eV\n",
    "dE   = E2 - E1;                                      #lowest energy bandwidth in eV\n",
    "\n",
    "# Result\n",
    "print'Lowest energy bandwidth = %3.3f'%dE,'eV';\n"
   ]
  },
  {
   "cell_type": "markdown",
   "metadata": {},
   "source": [
    "# Example 2.5,Page No:2.8"
   ]
  },
  {
   "cell_type": "code",
   "execution_count": 13,
   "metadata": {
    "collapsed": false
   },
   "outputs": [
    {
     "name": "stdout",
     "output_type": "stream",
     "text": [
      "Electron Momentum for first Brillouin zone appearance = 1.105e-24 eV\n",
      "\n",
      " Energy of free electron with this momentum =  4.2 eV\n",
      "\n",
      " Note: in Textbook Momentum value is wrongly printed as 1.1*10**-10\n"
     ]
    }
   ],
   "source": [
    "import math\n",
    "\n",
    "# Variable declaration\n",
    "a   = 3*10**-10;             # side of 2d square lattice in m\n",
    "h   = 6.63*10**-34;          # plancks constant in J.s\n",
    "e   = 1.6*10**-19            # charge of electron in coulombs\n",
    "m   = 9.1*10**-31;           # mass of electron in kg\n",
    "\n",
    "# calculations\n",
    "#p   = h*k                                              # momentum of the electron\n",
    "k   = math.pi/float(a);                                 # first Brillouin zone\n",
    "p   = (h/float(2*math.pi))*(math.pi/float(a));          # momentum of electron\n",
    "E   = (p**2)/float(2*m*e)                               # Energyin eV\n",
    "\n",
    "#Result\n",
    "print'Electron Momentum for first Brillouin zone appearance = %g'%p,'eV';\n",
    "print'\\n Energy of free electron with this momentum = %4.1f'%E,'eV';\n",
    "print'\\n Note: in Textbook Momentum value is wrongly printed as 1.1*10**-10';"
   ]
  },
  {
   "cell_type": "code",
   "execution_count": null,
   "metadata": {
    "collapsed": true
   },
   "outputs": [],
   "source": []
  }
 ],
 "metadata": {
  "kernelspec": {
   "display_name": "Python 2",
   "language": "python",
   "name": "python2"
  },
  "language_info": {
   "codemirror_mode": {
    "name": "ipython",
    "version": 2
   },
   "file_extension": ".py",
   "mimetype": "text/x-python",
   "name": "python",
   "nbconvert_exporter": "python",
   "pygments_lexer": "ipython2",
   "version": "2.7.6"
  }
 },
 "nbformat": 4,
 "nbformat_minor": 0
}
