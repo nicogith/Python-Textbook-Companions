{
 "cells": [
  {
   "cell_type": "markdown",
   "metadata": {},
   "source": [
    "# Chapter 6:Electrical Conducting and Insulating Materials"
   ]
  },
  {
   "cell_type": "markdown",
   "metadata": {},
   "source": [
    "# Example 6.1,Page No:6.8"
   ]
  },
  {
   "cell_type": "code",
   "execution_count": 1,
   "metadata": {
    "collapsed": false
   },
   "outputs": [
    {
     "name": "stdout",
     "output_type": "stream",
     "text": [
      "temperature coefficient =0.00082 K**-1\n"
     ]
    }
   ],
   "source": [
    "import math\n",
    "\n",
    "#variable declaration\n",
    "R75    = 57.2;     #resistance at 75 C in Ω\n",
    "R25    = 55;       #resistance at 25 C in Ω\n",
    "t1     = 25;       #temperature in C\n",
    "t2     = 75        # temperature in C\n",
    "\n",
    "#formula\n",
    "#Rt = R0*(1+(alpha*t))\n",
    "#calculation\n",
    "alpha  = (R25-R75)/float((25*R75)-(75*R25));        #temperature cofficient\n",
    "\n",
    "\n",
    "#result\n",
    "print'temperature coefficient =%3.5f'%alpha,'K**-1';\n"
   ]
  },
  {
   "cell_type": "markdown",
   "metadata": {},
   "source": [
    "# Example 6.2,Page No:6.9"
   ]
  },
  {
   "cell_type": "code",
   "execution_count": 2,
   "metadata": {
    "collapsed": false
   },
   "outputs": [
    {
     "name": "stdout",
     "output_type": "stream",
     "text": [
      "temperature coefficient of resistance =65.06 °C\n"
     ]
    }
   ],
   "source": [
    "import math\n",
    "\n",
    "#variable declaration\n",
    "R1     = 50;          #resistance in ohm at temperature  15°C\n",
    "R2     = 60;          # resistance in ohm temperature  15°C\n",
    "t1     = 15;          #temperature in °C\n",
    "alpha  = 0.00425;     #temperature coefficient of resistance\n",
    "\n",
    "\n",
    "#formula\n",
    "#Rt = R0*(1+(alpha*t))\n",
    "#Rt1/Rt2 = R0*(1+(alpha*t1))/R0*(1+(alpha*t2))\n",
    "#calculation\n",
    "R          = R2/float(R1);              #resistance in Ω\n",
    "X          = 1+(alpha*t1);\n",
    "t2         = ((R*X)-1)/float(alpha);    #temperature coefficient of resistance in °C\n",
    " \n",
    " \n",
    "\n",
    "#result\n",
    "print'temperature coefficient of resistance =%3.2f'%t2,'°C';"
   ]
  },
  {
   "cell_type": "markdown",
   "metadata": {},
   "source": [
    "# Example 6.3,Page No:6.9"
   ]
  },
  {
   "cell_type": "code",
   "execution_count": 3,
   "metadata": {
    "collapsed": false
   },
   "outputs": [
    {
     "name": "stdout",
     "output_type": "stream",
     "text": [
      "Hence temperature under normal condition is 3320.00 °C\n"
     ]
    }
   ],
   "source": [
    "import math\n",
    "\n",
    "#variable declaration\n",
    "t1         = 20;                #temperature in °C\n",
    "alpha      = 5*10**-3;          #average  temperature coefficient at 20°C \n",
    "R1         = 8;                 #resistance in Ω\n",
    "R2         = 140;                #resistaance in Ω\n",
    " \n",
    " \n",
    "#calculation\n",
    "t2     = t1+((R2-R1)/float(R1*alpha));       #temperature in °C\n",
    " \n",
    "#result\n",
    "print'Hence temperature under normal condition is %3.2f'%t2,'°C';\n"
   ]
  },
  {
   "cell_type": "markdown",
   "metadata": {},
   "source": [
    "# Example 6.4,Page No:6.10"
   ]
  },
  {
   "cell_type": "code",
   "execution_count": 4,
   "metadata": {
    "collapsed": false
   },
   "outputs": [
    {
     "name": "stdout",
     "output_type": "stream",
     "text": [
      "resistivity=4.80e-05 Ω-m\n"
     ]
    }
   ],
   "source": [
    "import math\n",
    "\n",
    "#variable declaration\n",
    "l     = 100;                      #length in cm\n",
    "d     = 0.008;                    #diameter of wire in cm\n",
    "R     = 95.5;                     #resistance in Ω\n",
    "d    = 0.008;                      #diameter in cm\n",
    "\n",
    "\n",
    "#formula\n",
    "#R=p*l/A\n",
    "#calculation\n",
    "A    = (math.pi*d*d)/float(4);           #cross-sectional area\n",
    "p  = (R*A)/float(l);                    #resistivity of wire in Ω-cm\n",
    "\n",
    "\n",
    "#result\n",
    "print'resistivity=%3.2e'%p,'Ω-m';"
   ]
  },
  {
   "cell_type": "markdown",
   "metadata": {},
   "source": [
    "# Example 6.5,Page No:6.10"
   ]
  },
  {
   "cell_type": "code",
   "execution_count": 5,
   "metadata": {
    "collapsed": false
   },
   "outputs": [
    {
     "name": "stdout",
     "output_type": "stream",
     "text": [
      "percentage conductivity=93.59 %\n"
     ]
    }
   ],
   "source": [
    "import math\n",
    "\n",
    "#variable declaration\n",
    "R0       =17.5;            #resistance at 0 degree c in Ω\n",
    "alpha    =0.00428;         #temperature coefficient of copper in per °C\n",
    "t        =16;              #temperature in °C\n",
    "\n",
    "\n",
    "#calculations\n",
    "Rt     = R0*(1+(alpha*t));               #resistance at 16 °C\n",
    "P       = (R0/float(Rt))*100;            #percentage conductivity at 16 °C\n",
    "\n",
    "\n",
    "#result\n",
    "print'percentage conductivity=%3.2f'%P,'%';"
   ]
  },
  {
   "cell_type": "markdown",
   "metadata": {},
   "source": [
    "# Example 6.10,Page No:6.30"
   ]
  },
  {
   "cell_type": "code",
   "execution_count": 6,
   "metadata": {
    "collapsed": false
   },
   "outputs": [
    {
     "name": "stdout",
     "output_type": "stream",
     "text": [
      "insulation resistance= 16  Ω\n"
     ]
    }
   ],
   "source": [
    "import math\n",
    "\n",
    "#variable declaration\n",
    "l         = 60;                      #length in m\n",
    "r2        = 38/float(2);             #radius of outer cylinder in m\n",
    "r1        = 18/float(2);             #radius of inner cylinder in m\n",
    "p         = 8000;                    #specific resistance in Ω-m\n",
    "\n",
    "#calculation\n",
    "R  = (p/float(2*math.pi*l))*math.log(r2/float(r1));     #insulation resistance of liquid resistor  in Ω\n",
    "\n",
    "#result\n",
    "print'insulation resistance=%3.0f '%R,'Ω';"
   ]
  },
  {
   "cell_type": "markdown",
   "metadata": {},
   "source": [
    "# Example 6.11,Page No:6.30"
   ]
  },
  {
   "cell_type": "code",
   "execution_count": 7,
   "metadata": {
    "collapsed": false
   },
   "outputs": [
    {
     "name": "stdout",
     "output_type": "stream",
     "text": [
      "resistivity=3.358e+13 Ω-m\n"
     ]
    }
   ],
   "source": [
    "import math\n",
    "\n",
    "#variable declaration\n",
    "d1   = 0.0018;                        #inner diameter  in m\n",
    "d2   = 0.005;                         # outer diameter in m\n",
    "R    = 1820*10**6;                     #insulation resistance in Ω\n",
    "l    = 3000;                           #length in m\n",
    "\n",
    "#calculations\n",
    "r1  = d1/float(2);                   #inner radius  in m\n",
    "r2  = d2/float(2);                   #outer radius in m\n",
    "p   = (2*math.pi*l*R)/float(math.log(r2/float(r1)));      #resistivity of dielectric in Ω-m\n",
    " \n",
    "#result\n",
    "print'resistivity=%3.3e'%p,'Ω-m';"
   ]
  },
  {
   "cell_type": "markdown",
   "metadata": {},
   "source": [
    "# Example 6.12,Page No:6.31"
   ]
  },
  {
   "cell_type": "code",
   "execution_count": 8,
   "metadata": {
    "collapsed": false
   },
   "outputs": [
    {
     "name": "stdout",
     "output_type": "stream",
     "text": [
      "insulation resistance =1.606537e+08 Ω\n",
      " Note: calculation mistake in textbook in calculating insulating resistance\n"
     ]
    }
   ],
   "source": [
    "import math\n",
    "\n",
    "#variable declaration\n",
    "d1    = 0.05;          #inner diametr in m\n",
    "d2    = 0.07;          #outer diameter in m \n",
    "l     = 2000;          #length in m\n",
    "p     = 6*10**12;      #specific resistance in Ω-m\n",
    " \n",
    "#calculations\n",
    "r1  = d1/float(2);                   #inner radius  in m\n",
    "r2  = d2/float(2);                   #outer radius in m\n",
    "R = (p/float(2*math.pi*l))*(math.log(r2/float(r1)));       #insulation resistance\n",
    "     \n",
    " \n",
    "\n",
    "\n",
    "#result\n",
    "print'insulation resistance =%1e'%R,'Ω';\n",
    "print' Note: calculation mistake in textbook in calculating insulating resistance';"
   ]
  },
  {
   "cell_type": "markdown",
   "metadata": {},
   "source": [
    "# Example 6.13,Page No:6.31"
   ]
  },
  {
   "cell_type": "code",
   "execution_count": 9,
   "metadata": {
    "collapsed": false
   },
   "outputs": [
    {
     "name": "stdout",
     "output_type": "stream",
     "text": [
      "capacitance =2.68e-10 F\n",
      " charge=6.696e-06 C\n"
     ]
    }
   ],
   "source": [
    "import math\n",
    "\n",
    "#variable declaration\n",
    "a     = 110*10**-3;                  #area in m**2\n",
    "d     = 2;                           #thickness in mm\n",
    "er    = 5;                           #relative permitivity\n",
    "E     = 12.5*10**3;                  #electric field strength in V/mm\n",
    "e0    = 8.854*10**-12;               #charge of electron in coulombs\n",
    " \n",
    " \n",
    "#calculations\n",
    "A     = a*a;                                 #area in m**2\n",
    "C     = e0*((er*A)/float(d*10**-3))          #capacitance in F\n",
    "V     = E*(d);\n",
    "Q     = (C)*(V)                             #charge on capacitor in C\n",
    " \n",
    "#result\n",
    "print'capacitance =%3.2e'%C,'F';\n",
    "print' charge=%3.3e'%Q,'C';"
   ]
  },
  {
   "cell_type": "markdown",
   "metadata": {},
   "source": [
    "# Example 6.14,Page No:6.31"
   ]
  },
  {
   "cell_type": "code",
   "execution_count": 10,
   "metadata": {
    "collapsed": false
   },
   "outputs": [
    {
     "name": "stdout",
     "output_type": "stream",
     "text": [
      "charge=7.50e-02 C\n",
      " electric flux=75.000 mc\n",
      " electric flux density=5.21 c/m**2\n",
      " electric field strength=1.000e+06 V/m\n"
     ]
    }
   ],
   "source": [
    "import math\n",
    "\n",
    "#variable declaration\n",
    "I       = 15*10**-3;                #current in A\n",
    "t       = 5;                        #time in s\n",
    "V       = 1000;                    #voltage in volts\n",
    "d       = 10**-3;                   #thickness in m\n",
    "a       = 120*10**-3;\n",
    "\n",
    "#calculation\n",
    "A       = a**2                            #area in m**2\n",
    "Q      = I*t;                             #charge on capacitor in C\n",
    "#since charge and electric field are equal\n",
    "phi     = Q;                              #electric flux in mc\n",
    "D      = Q/float(A);                      #electric flux density in c/m**2\n",
    "E      = V/float(d);                      #electric field strength in dielectric\n",
    "\n",
    "#result\n",
    "print'charge=%3.2e'%Q,'C';\n",
    "print' electric flux=%4.3f'%(phi*10**3),'mc';\n",
    "print' electric flux density=%3.2f'%D,'c/m**2';\n",
    "print' electric field strength=%2.3e'%E,'V/m';\n"
   ]
  },
  {
   "cell_type": "markdown",
   "metadata": {},
   "source": [
    "# Example 6.15,Page No:6.32"
   ]
  },
  {
   "cell_type": "code",
   "execution_count": 11,
   "metadata": {
    "collapsed": false
   },
   "outputs": [
    {
     "name": "stdout",
     "output_type": "stream",
     "text": [
      "capacitance=7.0124e-09 F\n"
     ]
    }
   ],
   "source": [
    "import math\n",
    "\n",
    "#variable declaration\n",
    "n        = 12;                   #number of plates\n",
    "er       = 4;                     #relative permitivty \n",
    "d        = 1.0*10**-3;            #distance between plates in m\n",
    "A       = 120*150*10**-6;         #area in m**2\n",
    "e0      = 8.854*10**-12;          # in F/m\n",
    "\n",
    "#calculation\n",
    "c      = (n-1)*e0*er*A/float(d);         #capacitance in F\n",
    " \n",
    "#result\n",
    "print'capacitance=%3.4e'%c,'F';"
   ]
  },
  {
   "cell_type": "markdown",
   "metadata": {},
   "source": [
    "# Example 6.16,Page No:6.32"
   ]
  },
  {
   "cell_type": "code",
   "execution_count": 12,
   "metadata": {
    "collapsed": false
   },
   "outputs": [
    {
     "name": "stdout",
     "output_type": "stream",
     "text": [
      "thickness=0.82 mm\n"
     ]
    }
   ],
   "source": [
    "import math\n",
    "\n",
    "#variable declaration\n",
    "e0     = 40000;        #dielectric strength  in volts/m\n",
    "d      = 33000;        #thickness in kV\n",
    "\n",
    "#calculations\n",
    "t      = d/float(e0);         #required thickness of insulation in mm\n",
    " \n",
    "#result\n",
    "print'thickness=%3.2f'%t,'mm';\n"
   ]
  },
  {
   "cell_type": "markdown",
   "metadata": {},
   "source": [
    "#Example 6.17,Page No:6.32"
   ]
  },
  {
   "cell_type": "code",
   "execution_count": 13,
   "metadata": {
    "collapsed": false
   },
   "outputs": [
    {
     "name": "stdout",
     "output_type": "stream",
     "text": [
      "area = 1.30 m**2\n",
      " breakdown voltage=1.8e+04 V\n"
     ]
    }
   ],
   "source": [
    "import math \n",
    "\n",
    "#variable declaration\n",
    "C      = 0.03*10**-6;           #capacitance in F\n",
    "d      = 0.001;                 #thickness in m\n",
    "er     = 2.6;                   #dielectric constant\n",
    "e0     = 8.85*10**-12;          #dielectric strength \n",
    "E0     = 1.8*10**7 \n",
    " \n",
    "#formula\n",
    "#C=e0*er*A/d\n",
    "#e0=v/d\n",
    "#calculation\n",
    "A      = (C*d)/float(e0*er);        #area of dielectric needed in m**2\n",
    "Vb      = E0*d;                     #breakdown voltage in m\n",
    "\n",
    "#result\n",
    "print'area = %3.2f'%A,'m**2';\n",
    "print' breakdown voltage=%3.1e'%Vb,'V';"
   ]
  },
  {
   "cell_type": "markdown",
   "metadata": {},
   "source": [
    "# Example 6.18,Page No:6.33"
   ]
  },
  {
   "cell_type": "code",
   "execution_count": 14,
   "metadata": {
    "collapsed": false
   },
   "outputs": [
    {
     "name": "stdout",
     "output_type": "stream",
     "text": [
      "dielectric loss=5684.1 watts\n"
     ]
    }
   ],
   "source": [
    "import math\n",
    "\n",
    "#variable declaration\n",
    "C          = 0.035*10**-6;                      #capacitance in F\n",
    "tangent    = 5*10**-4;                          #power factor \n",
    "f          = 25*10**3;                          #frequency in Hz\n",
    "I          = 250;                              #current in A\n",
    " \n",
    " \n",
    "#calculation\n",
    "V      = I/float(2*math.pi*f*C)                  #voltage across capacitor in volts\n",
    "P      = V*I*tangent;                            #dielectric loss in watts\n",
    "\n",
    "#result\n",
    "print'dielectric loss=%3.1f'%P,'watts';\n"
   ]
  },
  {
   "cell_type": "markdown",
   "metadata": {},
   "source": [
    "# Example 6.19,Page No:6.33"
   ]
  },
  {
   "cell_type": "code",
   "execution_count": 15,
   "metadata": {
    "collapsed": false
   },
   "outputs": [
    {
     "name": "stdout",
     "output_type": "stream",
     "text": [
      "area=1.129433e-02 m**2\n"
     ]
    }
   ],
   "source": [
    "import math\n",
    "\n",
    "#variable declaration\n",
    "Q        = 20*10**-6;                #charge of electron in coulomb\n",
    "V        = 10*10**3;                 #potential in V\n",
    "e0       = 8.854*10**-12;            #absolute permitivity\n",
    "d        = 5*10**-4;                 #separation between plates in m\n",
    "er       = 10;                       #dielectric constant\n",
    "\n",
    "#formula\n",
    "#Q=CV\n",
    "#C=er*e0*A/d\n",
    "C       = Q/float(V);\n",
    "A       = (C*d)/float(er*e0);         #area in m**2\n",
    " \n",
    "#result\n",
    "print'area=%1e'%A,'m**2';"
   ]
  },
  {
   "cell_type": "markdown",
   "metadata": {},
   "source": [
    "# Example 6.20,Page No:6.35"
   ]
  },
  {
   "cell_type": "code",
   "execution_count": 16,
   "metadata": {
    "collapsed": false
   },
   "outputs": [
    {
     "name": "stdout",
     "output_type": "stream",
     "text": [
      "electrial conductivity=2.53e+07 (Ω-m)**-1\n",
      "lorentz number = 185.33 W/mK\n"
     ]
    }
   ],
   "source": [
    "import math\n",
    "\n",
    "#variable declaration\n",
    "n  = 3.0*10**28;              #number of electrons per m**3\n",
    "t   = 3*10**-14;              #time in s\n",
    "m   = 9.1*10**-31;            #mass of electron in kg\n",
    "L   = 2.44*10**-8;            #lorentz number in ohm W/K**2\n",
    "T  = 300;                    #temperature in kelvin \n",
    "e   = 1.6*10**-19;             #charge of electron in coulomb\n",
    "\n",
    "\n",
    "#calculation\n",
    "sigma  = (n*(e**2)*t)/float(m);    #electrical conductivity in (ohm-m)**-1\n",
    "K      = sigma*T*L;\n",
    " \n",
    "#result\n",
    "print'electrial conductivity=%3.2e'%sigma,'(Ω-m)**-1';\n",
    "print'lorentz number = %3.2f'%K,'W/mK';\n"
   ]
  },
  {
   "cell_type": "code",
   "execution_count": null,
   "metadata": {
    "collapsed": true
   },
   "outputs": [],
   "source": []
  }
 ],
 "metadata": {
  "kernelspec": {
   "display_name": "Python 2",
   "language": "python",
   "name": "python2"
  },
  "language_info": {
   "codemirror_mode": {
    "name": "ipython",
    "version": 2
   },
   "file_extension": ".py",
   "mimetype": "text/x-python",
   "name": "python",
   "nbconvert_exporter": "python",
   "pygments_lexer": "ipython2",
   "version": "2.7.6"
  }
 },
 "nbformat": 4,
 "nbformat_minor": 0
}
