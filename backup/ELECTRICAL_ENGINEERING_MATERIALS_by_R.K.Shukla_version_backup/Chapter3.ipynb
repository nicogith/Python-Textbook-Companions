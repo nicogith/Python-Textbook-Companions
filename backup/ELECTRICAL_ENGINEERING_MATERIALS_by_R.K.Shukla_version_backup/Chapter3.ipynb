{
 "cells": [
  {
   "cell_type": "markdown",
   "metadata": {},
   "source": [
    "# Chapter 3:Magnetic Properties of Materials"
   ]
  },
  {
   "cell_type": "markdown",
   "metadata": {},
   "source": [
    "# Example 3.1,Page No:3.2"
   ]
  },
  {
   "cell_type": "code",
   "execution_count": 51,
   "metadata": {
    "collapsed": false
   },
   "outputs": [
    {
     "name": "stdout",
     "output_type": "stream",
     "text": [
      "Magnetic moment = 9.319e-24 Am**2\n",
      "Bohr magneton = 9.28e-24 J/T\n"
     ]
    }
   ],
   "source": [
    "import math\n",
    "\n",
    "# Variable declaration\n",
    "r   = 0.53*10**-10;          # orbit radius m\n",
    "n   = 6.6*10**15;            # frequency of revolution of electronHz\n",
    "e   = 1.6*10**-19            # charge of electron in coulombs\n",
    "h   = 6.63*10**-34;          # plancks constant in J.s\n",
    "m   = 9.1*10**-31;           # mass of electron in kg\n",
    "\n",
    "# Calculations\n",
    "i   = e*n                              # current produced due to electron\n",
    "A   = math.pi*r*r                      # Area in m^2\n",
    "u   = i*A;                             # magnetic moment A*m^2\n",
    "ub  = (e*h)/float(4*math.pi*m);        # Bohr magneton in J/T\n",
    "\n",
    "#result\n",
    "print'Magnetic moment = %3.3e'%u,'Am**2';\n",
    "print'Bohr magneton = %3.2e'%ub,'J/T';\n"
   ]
  },
  {
   "cell_type": "markdown",
   "metadata": {},
   "source": [
    "# Example 3.2,Page No:3.4"
   ]
  },
  {
   "cell_type": "code",
   "execution_count": 52,
   "metadata": {
    "collapsed": false
   },
   "outputs": [
    {
     "name": "stdout",
     "output_type": "stream",
     "text": [
      "Magnetic moment = 2.87e+02  A-m**2\n",
      "\n",
      " Note: Instead of 2.87*10**2, 2.87*10**-2 is printed in textbook\n"
     ]
    }
   ],
   "source": [
    "import math\n",
    "\n",
    "#Variable declaration\n",
    "ur  = 1150;           # relative permeability\n",
    "n   = 500;            # turns per m\n",
    "V   = 10**-3;         # volume of iron rod in m**3\n",
    "i   = 0.5;            # current in amp\n",
    "\n",
    "#Calculations\n",
    "#B = uo(H+M)\n",
    "# B = uH, u/uo = ur\n",
    "# M = (ur - 1)H\n",
    "#if current is flowing through a solenoid having n turns/l then H = ni\n",
    "\n",
    "M = (ur - 1)*n*i      # magnetisation\n",
    "m = M*V;              # magnetic moment\n",
    " \n",
    "#Output\n",
    "print'Magnetic moment = %3.2e'%m,' A-m**2';\n",
    "print'\\n Note: Instead of 2.87*10**2, 2.87*10**-2 is printed in textbook';\n"
   ]
  },
  {
   "cell_type": "markdown",
   "metadata": {},
   "source": [
    "# Example 3.3,Page No:3.5"
   ]
  },
  {
   "cell_type": "code",
   "execution_count": 53,
   "metadata": {
    "collapsed": false
   },
   "outputs": [
    {
     "name": "stdout",
     "output_type": "stream",
     "text": [
      "Magnetic Moment of the rod = 2.1 A-m**2\n",
      "Note: In textbook length of iron rod given as 2m whereas in calculation it is wrongly taken as 0.2m\n"
     ]
    }
   ],
   "source": [
    "import math\n",
    "\n",
    "# Variable declaration\n",
    "ur  = 90;             #relative permeability\n",
    "n   = 300;            # turns per m\n",
    "i   = 0.5;            # current in amp\n",
    "d   = 10*10**-3;      # diameter of iron rod\n",
    "l   = 2;              # length of iron rod\n",
    "\n",
    "#Calculations\n",
    "V   = math.pi*(d/float(2))**2 * l;      #volume of rod\n",
    "M   = (ur - 1)*n*i;         # magnetisation\n",
    "m   = M*V;                  # magnetic moment\n",
    "\n",
    "# Output\n",
    "print'Magnetic Moment of the rod = %3.3g'%m,'A-m**2';\n",
    "print'Note: In textbook length of iron rod given as 2m whereas in calculation it is wrongly taken as 0.2m';\n"
   ]
  },
  {
   "cell_type": "markdown",
   "metadata": {},
   "source": [
    "# Example 3.4,Page No:3.5"
   ]
  },
  {
   "cell_type": "code",
   "execution_count": 54,
   "metadata": {
    "collapsed": false
   },
   "outputs": [
    {
     "name": "stdout",
     "output_type": "stream",
     "text": [
      "Change in magnetic moment = 3.9e-29 J/T\n"
     ]
    }
   ],
   "source": [
    "import math\n",
    "\n",
    "#Variable declaration\n",
    "Bo  = 2;                    # magnetic field in tesla\n",
    "r   = 5.29*10**-11           # radius in m\n",
    "m   = 9.1*10**-31;           # mass of electron in kg\n",
    "e   = 1.6*10**-19            # charge of electron\n",
    "\n",
    "# calculations\n",
    "du  = (e**2 * Bo * r**2)/float(4*m);        # change in magnetic moment(indicating oth in -ve and +ve values)\n",
    "\n",
    "#result\n",
    "print'Change in magnetic moment = %3.1e'%du,'J/T';\n"
   ]
  },
  {
   "cell_type": "markdown",
   "metadata": {},
   "source": [
    "# Example 3.6,Page No:3.6"
   ]
  },
  {
   "cell_type": "code",
   "execution_count": 55,
   "metadata": {
    "collapsed": false
   },
   "outputs": [
    {
     "name": "stdout",
     "output_type": "stream",
     "text": [
      "Temperature to which substance to be cooled = 7.7 K\n",
      "Note:Values given in question B = 52, u = 924*10**-24.Values substituted in calculation B = 5.2, u = 9.24*10**-24\n"
     ]
    }
   ],
   "source": [
    "import math\n",
    "\n",
    "# Variable declaration\n",
    "u1  = 3.3;                    # magnetic dipole moment\n",
    "u   = 9.24*10**-24;\n",
    "B   = 5.2;                    # magnetic field in tesla\n",
    "k   = 1.38*10**-23;           # boltzmann constant\n",
    "\n",
    "# calculations\n",
    "T   = (u*u1*B)/float(1.5*k);     # Temperature in Kelvin\n",
    "\n",
    "#result\n",
    "print'Temperature to which substance to be cooled = %3.1f'%T,'K';\n",
    "print'Note:Values given in question B = 52, u = 924*10**-24.Values substituted in calculation B = 5.2, u = 9.24*10**-24';\n"
   ]
  },
  {
   "cell_type": "markdown",
   "metadata": {},
   "source": [
    "# Example 3.7,Page No:3.7"
   ]
  },
  {
   "cell_type": "code",
   "execution_count": 56,
   "metadata": {
    "collapsed": false
   },
   "outputs": [
    {
     "name": "stdout",
     "output_type": "stream",
     "text": [
      "Magnetisation = -0.48 A/m\n",
      "flux density = 0.14 Tesla\n",
      "relative permeability = 0.999996\n"
     ]
    }
   ],
   "source": [
    "import math\n",
    "\n",
    "#Variable declaration\n",
    "xm      = -4.2*10**-6;           # magnetic susceptibility in A.m**-1\n",
    "H       = 1.15*10**5;            # magnetic field in A.m**-1\n",
    "\n",
    "#Calculations\n",
    "uo      = 4*math.pi*10**-7;          # magnetic permeability  N·A**-2\n",
    "M       = xm*H;                      # magnetisation in A.m**-1\n",
    "B       = uo*(H + M);                # flux density in T\n",
    "ur      = 1+(M/float(H));            # relative permeability \n",
    "\n",
    "# result\n",
    "print'Magnetisation = %3.2f'%M,'A/m';\n",
    "print'flux density = %3.2f'%B,'Tesla'; \n",
    "print'relative permeability = %f'%ur;\n"
   ]
  },
  {
   "cell_type": "markdown",
   "metadata": {},
   "source": [
    "# Example 3.8,Page No:3.8"
   ]
  },
  {
   "cell_type": "code",
   "execution_count": 57,
   "metadata": {
    "collapsed": false
   },
   "outputs": [
    {
     "name": "stdout",
     "output_type": "stream",
     "text": [
      "Percentage increase = 0.0014 %\n"
     ]
    }
   ],
   "source": [
    "import math\n",
    "\n",
    "# Variable declaration\n",
    "xm      = 1.4*10**-5;        # magnetic susceptibility\n",
    "# B    = uoH\n",
    "# B'   = uruoH\n",
    "# ur   = 1+xm\n",
    "# from above equations\n",
    "#B'    = (1+xm)B\n",
    "# percentage increase in magnetic induction = ((B'-B)/B)*100\n",
    "# y     = (((1+xm)B - B)/B)*100\n",
    "PI    = xm*100;       # percentage increase\n",
    "\n",
    "# Output\n",
    "print'Percentage increase = %3.4f'%PI,'%';\n"
   ]
  },
  {
   "cell_type": "markdown",
   "metadata": {},
   "source": [
    "# Example 3.9,Page No:3.8"
   ]
  },
  {
   "cell_type": "code",
   "execution_count": 58,
   "metadata": {
    "collapsed": false
   },
   "outputs": [
    {
     "name": "stdout",
     "output_type": "stream",
     "text": [
      "magnetisation = -0.02 A/m\n",
      "Magnetic flux density = 0.0126 T\n"
     ]
    }
   ],
   "source": [
    "import math\n",
    "\n",
    "# Variable declaration\n",
    "xm      = -0.2*10**-5;       # magnetic susceptability in A.m**-1\n",
    "H       = 10**4;             # magnetic field in A/m\n",
    "\n",
    "\n",
    "# Calculations\n",
    "uo      = 4*math.pi*10**-7;          # magnetic permeability\n",
    "M       = xm*H              # magnetisation in A/m\n",
    "B       = uo*(H+M);         # magnetic flux density in T\n",
    "\n",
    "# Output\n",
    "print'magnetisation = %3.2f'%M,'A/m';\n",
    "print'Magnetic flux density = %3.4f'%B,'T';\n"
   ]
  },
  {
   "cell_type": "markdown",
   "metadata": {
    "collapsed": true
   },
   "source": [
    "# Example 3.10,Page No:3.8"
   ]
  },
  {
   "cell_type": "code",
   "execution_count": 59,
   "metadata": {
    "collapsed": false
   },
   "outputs": [
    {
     "name": "stdout",
     "output_type": "stream",
     "text": [
      "permeability =1.000021\n",
      "relative permeability =1.2567e-06 N/A**2\n"
     ]
    }
   ],
   "source": [
    "import math\n",
    "\n",
    "#variable declaration\n",
    "sighem        = 2.1*10**-5;             #magnetic susceptability\n",
    "u1             = 10**-7;\n",
    "\n",
    "#calculation\n",
    "u0            = 4*math.pi*u1;\n",
    "ur             = 1+(sighem);      #permeability\n",
    "u              = u0*ur;           #relative permeability in N/A**2\n",
    "\n",
    "#result\n",
    "print'permeability =%3.6f'%ur;\n",
    "print'relative permeability =%3.4e'%u,'N/A**2';\n",
    " "
   ]
  },
  {
   "cell_type": "markdown",
   "metadata": {},
   "source": [
    "# Example 3.11,Page No:3.9"
   ]
  },
  {
   "cell_type": "code",
   "execution_count": 60,
   "metadata": {
    "collapsed": false
   },
   "outputs": [
    {
     "name": "stdout",
     "output_type": "stream",
     "text": [
      "permeability =1.084000\n",
      "relative permeability =1.362e-06 N/A**2\n"
     ]
    }
   ],
   "source": [
    "import math\n",
    "\n",
    "#variable declaration\n",
    "sighem        = 0.084;             #magnetic susceptability\n",
    "u1             = 10**-7;\n",
    "\n",
    "\n",
    "#calculation\n",
    "u0            = 4*math.pi*u1;\n",
    "ur             = 1+(sighem);        #permeability\n",
    "u              = u0*ur;            #relative permeability in N/A**2\n",
    "\n",
    "#result\n",
    "print'permeability =%3.6f'%ur;\n",
    "print'relative permeability =%3.3e'%u,'N/A**2';"
   ]
  },
  {
   "cell_type": "markdown",
   "metadata": {},
   "source": [
    "# Example 3.12,Page No:3.9"
   ]
  },
  {
   "cell_type": "code",
   "execution_count": 61,
   "metadata": {
    "collapsed": false
   },
   "outputs": [
    {
     "name": "stdout",
     "output_type": "stream",
     "text": [
      "relative permiability =1.00267e+05\n",
      " Note:Calculation mistake in textbook in calculating sighe by taking ur as 10**5 instead of 100318.4\n"
     ]
    }
   ],
   "source": [
    "import math\n",
    "\n",
    "#variable declarationn\n",
    "u            = 0.126;              #permiability in N/A**2\n",
    "u1             = 10**-7;\n",
    "\n",
    "\n",
    "#calculation\n",
    "u0            = 4*math.pi*u1;\n",
    "ur             = u/float(u0);\n",
    "sighe         = ur-1;                #magnetic susceptability\n",
    "\n",
    "#result\n",
    "print'relative permiability =%3.5e'%sighe;\n",
    "print' Note:Calculation mistake in textbook in calculating sighe by taking ur as 10**5 instead of 100318.4';"
   ]
  },
  {
   "cell_type": "markdown",
   "metadata": {},
   "source": [
    "#Example 3.13,Page No:3.16"
   ]
  },
  {
   "cell_type": "code",
   "execution_count": 62,
   "metadata": {
    "collapsed": false
   },
   "outputs": [
    {
     "name": "stdout",
     "output_type": "stream",
     "text": [
      "susceptability of diamagnetic material = -1.1878e-07\n"
     ]
    }
   ],
   "source": [
    "import math\n",
    "\n",
    "#variable declaration\n",
    "#diamagnetic susceptability of He\n",
    "R         = 0.6*10**-10;                #mean radius of atom in m\n",
    "N         = 28*10**26;                  #avagadro number in per m**3\n",
    "e         = 1.6*10**-19;                 #charge of electron in coulombs\n",
    "m         = 9.1*10**-31;                 #mass of electron in kilograms\n",
    "Z         = 2;                           #atomic number\n",
    " \n",
    "#calculation\n",
    "u0        = 4*math.pi*10**-7;                        #atomic number\n",
    "si        = -(u0*Z*(e**2)*N*(R**2))/float(6*m);       #susceptability of diamagnetic material \n",
    " \n",
    "#result\n",
    "print'susceptability of diamagnetic material = %3.4e'%si;\n",
    " "
   ]
  },
  {
   "cell_type": "markdown",
   "metadata": {},
   "source": [
    "#Example 3.14,Page No:3.17"
   ]
  },
  {
   "cell_type": "code",
   "execution_count": 63,
   "metadata": {
    "collapsed": false
   },
   "outputs": [
    {
     "name": "stdout",
     "output_type": "stream",
     "text": [
      "permiability =5.00e-04 N/A**2\n",
      "susceptability =396.887358\n",
      "Note:answer of permiability is wrong in textbook\n",
      "Note: calcuation mistake in textbook in sighem\n"
     ]
    }
   ],
   "source": [
    "import math\n",
    "\n",
    "#variable declaration\n",
    "phi         = 2*10**-5;          #magnetic flux in Wb/m**2\n",
    "H          = 2*10**3;              #in A/m\n",
    "A          = 0.2*10**-4;        #area  in m**2\n",
    "\n",
    " \n",
    " \n",
    "#calculation\n",
    "u0        = 4*math.pi*10**-7;\n",
    "B         = phi/float(A);                #magnetic flux density in Wb/m**2\n",
    "u         = B/float(H);                  #permiability in A**-2\n",
    "sighem    = (u/float(u0))-1;\n",
    "          \n",
    "#result\n",
    "print'permiability =%3.2e'%u,'N/A**2';\n",
    "print'susceptability =%4f'%sighem;\n",
    "print'Note:answer of permiability is wrong in textbook';\n",
    "print'Note: calcuation mistake in textbook in sighem';\n",
    "\n"
   ]
  },
  {
   "cell_type": "markdown",
   "metadata": {},
   "source": [
    "# Example 3.15,Page No:3.17"
   ]
  },
  {
   "cell_type": "code",
   "execution_count": 64,
   "metadata": {
    "collapsed": false
   },
   "outputs": [
    {
     "name": "stdout",
     "output_type": "stream",
     "text": [
      "susceptability of diamagnetic material = 5.61e-07\n"
     ]
    }
   ],
   "source": [
    "# import math\n",
    "\n",
    "#variable declaration\n",
    "N         = 6.5*10**25;             #number of atoms in atoms per m**3\n",
    "e         = 1.6*10**-19;            #charge of electron in coulombs\n",
    "m         = 9.1*10**-31;            #mass of electron inilograms\n",
    "h         = 6.6*10**-34;            #planck's constant in J.s\n",
    "T         = 300;                    #temperature in K\n",
    "k         = 1.38*10**-23;           #boltzman constant in J*(K**-1)\n",
    "n         = 1;                      #constant\n",
    " \n",
    " \n",
    "#calculation\n",
    "u0        =  4*math.pi*10**-7;\n",
    "M         = n*((e*h)/float(4*math.pi*m));                 #magnetic moment in A*m**2\n",
    "sighe     = (u0*N*(M**2))/float(3*k*T);                   #susceptability of diamagnetic material\n",
    " \n",
    "#result\n",
    "print'susceptability of diamagnetic material = %3.2e'%sighe;"
   ]
  },
  {
   "cell_type": "markdown",
   "metadata": {},
   "source": [
    "# Example 3.16,Page No:3.20"
   ]
  },
  {
   "cell_type": "code",
   "execution_count": 65,
   "metadata": {
    "collapsed": false
   },
   "outputs": [
    {
     "name": "stdout",
     "output_type": "stream",
     "text": [
      "ampere turn =200 A/m\n"
     ]
    }
   ],
   "source": [
    "import math\n",
    "\n",
    "#variable declaration\n",
    "L       = 2.0;                    #length in m\n",
    "A       = 4*10**-4;               #cross section sq.m\n",
    "u       = 50*10**-4;              #permiability in H*m**-1\n",
    "phi       = 4*10**-4;             #magnetic flux in Wb\n",
    "\n",
    "#calculation\n",
    "B      =  phi/float(A);               #magnetic flux density in Wb/m**2\n",
    "NI     = B/float(u);                  #ampere turn in A/m\n",
    " \n",
    "#result\n",
    "print'ampere turn =%3.0f'%NI,'A/m';\n",
    " "
   ]
  },
  {
   "cell_type": "markdown",
   "metadata": {},
   "source": [
    "# Example 3.17,Page No:3.20"
   ]
  },
  {
   "cell_type": "code",
   "execution_count": 66,
   "metadata": {
    "collapsed": false
   },
   "outputs": [
    {
     "name": "stdout",
     "output_type": "stream",
     "text": [
      "current =1 A\n"
     ]
    }
   ],
   "source": [
    "import math\n",
    "\n",
    "#variable declaration\n",
    "H          = 5*10**3;               #corecivity in A/m\n",
    "l          = 10**-1;                #length in m\n",
    "n          = 500;                   #number of turns\n",
    "\n",
    "#calculation\n",
    "N      = n/float(l);                   #number of turns per m\n",
    "i      = H/float(N);                   #current in A\n",
    " \n",
    "#result\n",
    "print'current =%1d'%i,'A';\n",
    " "
   ]
  },
  {
   "cell_type": "markdown",
   "metadata": {},
   "source": [
    "# Example 3.18,Page No:3.20"
   ]
  },
  {
   "cell_type": "code",
   "execution_count": 67,
   "metadata": {
    "collapsed": false
   },
   "outputs": [
    {
     "name": "stdout",
     "output_type": "stream",
     "text": [
      "number of turns =5.128205\n",
      " Note: calculation mistake in textbook in calculattig H by taking B value as 0.06 instead of 0.0666\n"
     ]
    }
   ],
   "source": [
    "import math\n",
    "\n",
    "#variable declaration\n",
    "A          = 6*10**-4;               #area in m**2\n",
    "l          = 0.5;                    #length in m\n",
    "u          = 65*10**-4;             #permiability in H/m\n",
    "phi        = 4*10**-5;              #magnetic flux in Wb\n",
    "\n",
    "\n",
    "#calculation\n",
    "B          = phi/float(A);\n",
    "H          = B/float(u);\n",
    "N          = H*l;                                  #number of turns\n",
    " \n",
    "#result\n",
    "print'number of turns =%1f'%N;\n",
    "print' Note: calculation mistake in textbook in calculattig H by taking B value as 0.06 instead of 0.0666';\n",
    " "
   ]
  },
  {
   "cell_type": "markdown",
   "metadata": {},
   "source": [
    "# Example 3.19,Page No:3.21"
   ]
  },
  {
   "cell_type": "code",
   "execution_count": 68,
   "metadata": {
    "collapsed": false
   },
   "outputs": [
    {
     "name": "stdout",
     "output_type": "stream",
     "text": [
      "susceptability =1908\n"
     ]
    }
   ],
   "source": [
    "import math\n",
    "\n",
    "#variable declaration\n",
    "A          = 0.2*10**-4;               #area in m**2\n",
    "H          = 500;                      #magnetising field in A.m**-1\n",
    "phi         = 2.4*10**-5;              # magnetic flux in Wb\n",
    "\n",
    "#calculation\n",
    "u0      = 4*math.pi*10**-7;\n",
    "B      = phi/float(A);                        #magnetic flux density in N*A**-1 *m**-1\n",
    "u      = B/float(H);                          #permiability in N/m\n",
    "fm     = (u/float(u0))-1;                     #susceptability \n",
    " \n",
    "#result\n",
    "print'susceptability =%3.2d'%fm;\n",
    "\n",
    " "
   ]
  },
  {
   "cell_type": "markdown",
   "metadata": {},
   "source": [
    "# Example 3.20,Page No:3.34"
   ]
  },
  {
   "cell_type": "code",
   "execution_count": 69,
   "metadata": {
    "collapsed": false
   },
   "outputs": [
    {
     "name": "stdout",
     "output_type": "stream",
     "text": [
      "loss of energy per hour =4800.00\n",
      "calculation mistake in textbook in calculating Lh\n"
     ]
    }
   ],
   "source": [
    "import math\n",
    "\n",
    "#variable declaration\n",
    "f      = 50;                  #number of reversals/s in Hz\n",
    "W      = 50;                  #weight in kg\n",
    "d      = 7500;                #density in kg/m^3\n",
    "A      = 200;                 #area in  joules /m^3\n",
    " \n",
    "#calculation\n",
    " \n",
    "V      = 1/float(d);           #volume of 1 kg iron\n",
    "E      = A*V;                  #loss of energy per kg\n",
    "L      = f*E;                  #hysteresisloss/s in Joule/second\n",
    "Lh     = L*60*60;               #loss per hour\n",
    " \n",
    "#calculation\n",
    "print'loss of energy per hour =%3.2f'%Lh;\n",
    "print'calculation mistake in textbook in calculating Lh';"
   ]
  },
  {
   "cell_type": "markdown",
   "metadata": {},
   "source": [
    "#Example 3.21,Page No:3.34"
   ]
  },
  {
   "cell_type": "code",
   "execution_count": 70,
   "metadata": {
    "collapsed": false
   },
   "outputs": [
    {
     "name": "stdout",
     "output_type": "stream",
     "text": [
      "total iron loss =2.97  watt/kg\n"
     ]
    }
   ],
   "source": [
    "import math\n",
    "\n",
    "#variable declaration\n",
    "f       = 50;                   #frequency in Hz\n",
    "Bm      = 1.1;                  #magnetic flux in Wb/m**2\n",
    "t       = 0.0005;               #thickness of sheet \n",
    "p       = 30*10**-8*7800;        #resistivity in ohms m\n",
    "d       = 7800;                 #density in kg/m**3\n",
    "Hl      = 380;                  #hysteresis loss per cycle in W-S/m**2\n",
    "\n",
    "#calculation\n",
    "Pl     = ((math.pi**2)*(f**2)*(Bm**2)*(t**2))/float(6*p);    #eddy current loss\n",
    "Hel     = (Hl*f)/float(d);                                   #hysteresis loss\n",
    "Tl      = Pl+Hel;                                            #total iron loss watt/kg\n",
    " \n",
    "#result\n",
    "print'total iron loss =%3.2f'%Tl,' watt/kg';\n",
    " "
   ]
  },
  {
   "cell_type": "code",
   "execution_count": null,
   "metadata": {
    "collapsed": true
   },
   "outputs": [],
   "source": []
  }
 ],
 "metadata": {
  "kernelspec": {
   "display_name": "Python 2",
   "language": "python",
   "name": "python2"
  },
  "language_info": {
   "codemirror_mode": {
    "name": "ipython",
    "version": 2
   },
   "file_extension": ".py",
   "mimetype": "text/x-python",
   "name": "python",
   "nbconvert_exporter": "python",
   "pygments_lexer": "ipython2",
   "version": "2.7.6"
  }
 },
 "nbformat": 4,
 "nbformat_minor": 0
}
