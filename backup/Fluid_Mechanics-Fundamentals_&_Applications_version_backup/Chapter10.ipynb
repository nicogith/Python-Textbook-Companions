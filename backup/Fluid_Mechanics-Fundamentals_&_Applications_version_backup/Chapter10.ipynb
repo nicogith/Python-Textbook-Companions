{
 "metadata": {
  "name": "",
  "signature": "sha256:9f38ecf20d29c29811a2ed5f2bc2acc3740fe5cc50e5df7e0d3b218213f0359b"
 },
 "nbformat": 3,
 "nbformat_minor": 0,
 "worksheets": [
  {
   "cells": [
    {
     "cell_type": "heading",
     "level": 1,
     "metadata": {},
     "source": [
      "Chapter 10:Approximate Solutions of the Navier-Stokes Equation"
     ]
    },
    {
     "cell_type": "heading",
     "level": 2,
     "metadata": {},
     "source": [
      "Example 10.10-2, Page No:499"
     ]
    },
    {
     "cell_type": "code",
     "collapsed": false,
     "input": [
      "import math\n",
      "\n",
      "#Variable Decleration\n",
      "rho_air=0.8588 #Density of the surrounding air by gas law in kg/m^3\n",
      "u=1.474*10**-5 #Dynamic Viscosity in kg/m.s\n",
      "rho_particle=1240 #Density of the particle in kg/m^3\n",
      "D=50*10**-6 #Diameter of the particles in m\n",
      "g=9.81 #Acceleration due to gravity in m/s^2\n",
      "\n",
      "#Calculations\n",
      "#Applying Newtons Third Law and solving for V we get\n",
      "V=(D**2/(18*u))*(rho_particle-rho_air)*g #Terminal Velocity of the particle in m/s\n",
      "\n",
      "#Verification of Reynolds Number \n",
      "Re=(rho_air*V*D)/u #Reynolds Number\n",
      "\n",
      "#Result\n",
      "print \"The Terminal Velocity of the particles is\",round(V,3),\"m/s\""
     ],
     "language": "python",
     "metadata": {},
     "outputs": [
      {
       "output_type": "stream",
       "stream": "stdout",
       "text": [
        "The Terminal Velocity of the particles is 0.115 m/s\n"
       ]
      }
     ],
     "prompt_number": 2
    },
    {
     "cell_type": "heading",
     "level": 2,
     "metadata": {},
     "source": [
      "Example 10.10-6,Page No:519"
     ]
    },
    {
     "cell_type": "code",
     "collapsed": false,
     "input": [
      "import math\n",
      "\n",
      "#Variable Decleration\n",
      "V_dot_by_L1=2 #Strength of source in line 1 in m^2/s at (0,-1)m\n",
      "V_dot_by_L2=-1 #Strength of source in line 2 in m^2/s at (1,-1)m\n",
      "T=1.5 #Vortex Strength in m^2/s a (1,1) m\n",
      "r_vortex=1 #distance in m\n",
      "r_source1=1.414 #Distance in m\n",
      "r_source2=1 #Distance in m\n",
      "\n",
      "#Calculations\n",
      "V_vortex=T/(2*pi*r_vortex) #Velocity Induced by the Vortex in m/s\n",
      "V_source1=V_dot_by_L1/(2*pi*r_source1) #Velocity induced by the source1 in m/s\n",
      "V_source2=V_dot_by_L2/(2*pi*r_source2) #Velocity induced by the source2 in m/s\n",
      "V=V_vortex+(V_source1/2**0.5)+V_source2+(V_source1/2**0.5) #Vectorial addition of the velocities in m/s\n",
      "\n",
      "#Result\n",
      "print \"The superposed velocity at point (1,0) is\",round(V,3),\"m/s to the right\"\n"
     ],
     "language": "python",
     "metadata": {},
     "outputs": [
      {
       "output_type": "stream",
       "stream": "stdout",
       "text": [
        "The superposed velocity at point (1,0) is 0.398 m/s to the right\n"
       ]
      }
     ],
     "prompt_number": 13
    },
    {
     "cell_type": "heading",
     "level": 2,
     "metadata": {},
     "source": [
      "Example 10.10-8, Page No:526"
     ]
    },
    {
     "cell_type": "code",
     "collapsed": false,
     "input": [
      "import math\n",
      "\n",
      "#Variable Decleration\n",
      "V_dot=0.11 #Volumetric flow rate in m^3/s\n",
      "L=0.35 #Length of flow in m\n",
      "b=0.02 #m\n",
      "u_star_max=0.159 #m/s\n",
      "\n",
      "#Calculations\n",
      "V_dot_by_L=-V_dot/L #Strength of the line source in m^2/s\n",
      "u_max=(-u_star_max*V_dot_by_L)/b #Umax in m/s\n",
      "\n",
      "#Result\n",
      "print \"The strength of the line source is\",round(V_dot_by_L,3),\"m^2/s\"\n",
      "print \"The maximum velocity is\",round(u_max,2),\"m/s\"\n"
     ],
     "language": "python",
     "metadata": {},
     "outputs": [
      {
       "output_type": "stream",
       "stream": "stdout",
       "text": [
        "The strength of the line source is -0.314 m^2/s\n",
        "The maximum velocity is 2.5 m/s\n"
       ]
      }
     ],
     "prompt_number": 17
    },
    {
     "cell_type": "heading",
     "level": 2,
     "metadata": {},
     "source": [
      "Example 10.10-9,Page No:535"
     ]
    },
    {
     "cell_type": "code",
     "collapsed": false,
     "input": [
      "import math\n",
      "\n",
      "#Variable Decleration\n",
      "V=10 #Velocity of fluid Flow in kh/hr\n",
      "rho=999.9 #Density of water at 5\u02daC in kg/m^3\n",
      "v=1.519*10**-6 #Kinematic Viscosity in m^2/s\n",
      "#Conversion Factors\n",
      "C1=1000\n",
      "C2=3600\n",
      "\n",
      "#Calculations\n",
      "Rex=(V*0.5*C1)/(v*C2) #Reynolds Number\n",
      "\n",
      "#Result\n",
      "print \"The Reynolds Number is\",round(Rex)\n",
      "print \"As a result the boundary layer is Transitional\""
     ],
     "language": "python",
     "metadata": {},
     "outputs": [
      {
       "output_type": "stream",
       "stream": "stdout",
       "text": [
        "The Reynolds Number is 914344.0\n",
        "As a result the boundary layer is Transitional\n"
       ]
      }
     ],
     "prompt_number": 1
    },
    {
     "cell_type": "heading",
     "level": 2,
     "metadata": {},
     "source": [
      "Example 10.10-10,Page No:541"
     ]
    },
    {
     "cell_type": "code",
     "collapsed": false,
     "input": [
      "import math\n",
      "\n",
      "#Variable Decleration\n",
      "V=32 #Velocity of the fluid in m/s\n",
      "x=1.1 #Distance in m\n",
      "v=1.7*10**-5 #Kinematic Viscosity in m^2/s\n",
      "#Conversion factor\n",
      "C1=1000 \n",
      "C2=3600\n",
      "C3=100\n",
      "\n",
      "#Calculations\n",
      "Rex=(V*x*C1)/(v*C2) #Reynolds Number\n",
      "delta=4.91*x*C3/Rex**0.5 #Thickness of boundary Layer in cm\n",
      "\n",
      "#Result\n",
      "print \"The Thickness of the boundary Layer is\",round(delta,2),\"cm\""
     ],
     "language": "python",
     "metadata": {},
     "outputs": [
      {
       "output_type": "stream",
       "stream": "stdout",
       "text": [
        "The Thickness of the boundary Layer is 0.71 cm\n"
       ]
      }
     ],
     "prompt_number": 19
    },
    {
     "cell_type": "heading",
     "level": 2,
     "metadata": {},
     "source": [
      "Example 10.10-11, Page No:546"
     ]
    },
    {
     "cell_type": "code",
     "collapsed": false,
     "input": [
      "import math\n",
      "\n",
      "#Variable decleration\n",
      "x=0.3 #Length of the tunnel in m\n",
      "V=4 #Optimised speed in m/s\n",
      "R=0.15 #Radius of the tunnel in m\n",
      "v=1.507*10**-5 #Kinematic Viscosity in m^2/s\n",
      "\n",
      "#Calculations\n",
      "Rex=(V*x)/v #Reynolds Number\n",
      "#Using the diplacement thickness formula\n",
      "delta_star=(1.72*x)/Rex**0.5 #Displacement Thickness in m\n",
      "#Applying the Continuity Equation\n",
      "V_end=(V*R**2)/(R-delta_star)**2 #Velocity at the end in m/s\n",
      "\n",
      "#Result\n",
      "print \"The end velocity should be\",round(V_end,2),\"m/s\"\n"
     ],
     "language": "python",
     "metadata": {},
     "outputs": [
      {
       "output_type": "stream",
       "stream": "stdout",
       "text": [
        "The end velocity should be 4.1 m/s\n"
       ]
      }
     ],
     "prompt_number": 1
    },
    {
     "cell_type": "heading",
     "level": 2,
     "metadata": {},
     "source": [
      "Example 10.10-12, Page No:550"
     ]
    },
    {
     "cell_type": "code",
     "collapsed": false,
     "input": [
      "import math\n",
      "import matplotlib.pyplot as plt\n",
      "\n",
      "#NOTE:The Notation has been changed here\n",
      "\n",
      "#Decleration of variables\n",
      "V=10 #Velocity in m/s\n",
      "x=1.52 #Length in m\n",
      "v=1.516*10**-5 #Kinematic viscosity in m^2/s\n",
      "u=[0,0.]\n",
      "#Calculations\n",
      "#Part(a)\n",
      "\n",
      "length=range(0,1500,20) #Array of length in mm\n",
      "Re=(V*x)/v #Reynolds Number\n",
      "y=transpose(length) #Transpose of the length matrix\n",
      "#Laminar Boundary Layer\n",
      "d_lam=(4.918*y)/((Re)**0.5)\n",
      "#Turbulent Boundary Layer\n",
      "d_tur=(0.16*y)/((Re)**(0.14285))\n",
      "\n",
      "#Part(b)\n",
      "C_lam=0.664/((Re)**0.5) #Local Skin Friction coefficient for laminar boundary layer\n",
      "C_tur=0.027/((Re)**0.14285) #Local Skin Friction coefficient for turbulent boundary Layer\n",
      "\n",
      "#Result\n",
      "print \"The Reynolds Number is\",round(Re)\n",
      "print \"The Local skin friction coefficient is\",round(C_lam,4),\"for laminar boundary layer\"\n",
      "print \"The Local Skin friction coefficient is\",round(C_tur,4),\"for turbulent boundary layer\"\n",
      "\n",
      "plt.plot(y,d_tur,y,d_lam)\n",
      "plt.xlabel('x,mm')\n",
      "plt.ylabel('delta,mm')\n",
      "plt.show()"
     ],
     "language": "python",
     "metadata": {},
     "outputs": [
      {
       "output_type": "stream",
       "stream": "stdout",
       "text": [
        "The Reynolds Number is 1002639.0\n",
        "The Local skin friction coefficient is 0.0007 for laminar boundary layer\n",
        "The Local Skin friction coefficient is 0.0038 for turbulent boundary layer\n"
       ]
      },
      {
       "metadata": {},
       "output_type": "display_data",
       "png": "[encoded data removed]",
       "text": [
        "<matplotlib.figure.Figure at 0x10b5bee50>"
       ]
      }
     ],
     "prompt_number": 2
    },
    {
     "cell_type": "heading",
     "level": 2,
     "metadata": {},
     "source": [
      "Examples 10.10-15,Page No:563"
     ]
    },
    {
     "cell_type": "code",
     "collapsed": false,
     "input": [
      "import math\n",
      "\n",
      "#Variable Decleration\n",
      "rho=1.204 #Density of the fluid in kg/m^3\n",
      "w=0.5 #Width of the test object in m\n",
      "U=10 #Velocity of the flow in m/s\n",
      "delta1=0.042 #Boundary Layer thickness at 1 in m\n",
      "delta2=0.077 #Boundary Layer thickness at 2 in m\n",
      "\n",
      "#Calculations\n",
      "a=(delta2-delta1) \n",
      "b=w*rho\n",
      "c=U**2\n",
      "Fd=(b*c*a*4)/45#Skin friction drag in N\n",
      "\n",
      "#Result\n",
      "print \"The Skin Friction Drag is\",round(Fd,2),\"N\"\n"
     ],
     "language": "python",
     "metadata": {},
     "outputs": [
      {
       "output_type": "stream",
       "stream": "stdout",
       "text": [
        "The Skin Friction Drag is 0.19 N\n"
       ]
      }
     ],
     "prompt_number": 15
    }
   ],
   "metadata": {}
  }
 ]
}