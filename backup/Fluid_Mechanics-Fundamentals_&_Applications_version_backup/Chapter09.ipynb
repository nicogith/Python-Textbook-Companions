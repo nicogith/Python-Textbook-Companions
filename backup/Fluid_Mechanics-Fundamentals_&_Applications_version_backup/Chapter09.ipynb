{
 "metadata": {
  "name": "",
  "signature": "sha256:1c4d98200c8a1e6b771808b4d675ec239e0025ee2f57682b5788ea8e65d51528"
 },
 "nbformat": 3,
 "nbformat_minor": 0,
 "worksheets": [
  {
   "cells": [
    {
     "cell_type": "heading",
     "level": 1,
     "metadata": {},
     "source": [
      "Chapter 09:Differential Analysis of Fluid Flow"
     ]
    },
    {
     "cell_type": "heading",
     "level": 2,
     "metadata": {},
     "source": [
      "Example 9.9-11,Page No:437"
     ]
    },
    {
     "cell_type": "code",
     "collapsed": false,
     "input": [
      "import math\n",
      "\n",
      "#Variable Decleration\n",
      "V=1 #Velocity of water in the channel in m/s\n",
      "w=2 #Width of the channel in m\n",
      "psi_wall=0 #Streamline at the wall m^2/s\n",
      "psi_dividing=V #Streamline at the dividing m^2/s\n",
      "delta=0.21\n",
      "psi_18=1.8 #Streamline at 1.8 in m^2/s\n",
      "psi_16=1.6 #Streamline at 1.6 in m^2/s\n",
      "\n",
      "#Calculations\n",
      "#Volumetric Flow rate per unit width\n",
      "V_dot_by_w=psi_dividing-psi_wall #Volumertic Flow rate per unit width in m^2/s\n",
      "V_dot=V_dot_by_w*w #Volumetric flow Rate in m^3/s\n",
      "\n",
      "#Estimation of the velocity at A\n",
      "V_A=(psi_18-psi_16)/delta #Velocity at point A in m/s\n",
      "\n",
      "#Result\n",
      "print \"The velocity at point A is\",round(V_A,2),\"m/s\"\n"
     ],
     "language": "python",
     "metadata": {},
     "outputs": [
      {
       "output_type": "stream",
       "stream": "stdout",
       "text": [
        "The velocity at point A is 0.95 m/s\n"
       ]
      }
     ],
     "prompt_number": 1
    }
   ],
   "metadata": {}
  }
 ]
}