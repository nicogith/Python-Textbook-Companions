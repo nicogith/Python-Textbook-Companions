{
 "metadata": {
  "name": "",
  "signature": "sha256:f0e9b0e6ec9189526906ddc4e7e3f751013d08f921dd1d0821502bb66e87b78c"
 },
 "nbformat": 3,
 "nbformat_minor": 0,
 "worksheets": [
  {
   "cells": [
    {
     "cell_type": "heading",
     "level": 1,
     "metadata": {},
     "source": [
      "Chapter 14: Turbomachinery"
     ]
    },
    {
     "cell_type": "heading",
     "level": 2,
     "metadata": {},
     "source": [
      "Example 14.14-1, Page No:767"
     ]
    },
    {
     "cell_type": "code",
     "collapsed": false,
     "input": [
      "import math\n",
      "import matplotlib.pyplot as plt\n",
      "\n",
      "#Variable Deceleration\n",
      "V_dot_cfm=range(0,1500,250) #Volumetric Flow rate in cubic feet per second\n",
      "V_dot_mps=transpose(V_dot_cfm)/2118.83 #Volumetric flow rate in m^/s\n",
      "rho_air=1.184 #Density of air in kg/m^3\n",
      "rho_water=998 #Density of water in kg/m^3\n",
      "Patm=101.3 #Atmospheric Pressure in kPa\n",
      "v=1.562*10**-5 #Kinematic Viscosity in m^2/s\n",
      "D=0.23 #Diameter in m\n",
      "g=9.81 #Acceleration due to gravity in m/s^2\n",
      "f=0.0209 #Friction coefficient from table\n",
      "L=13.4 #Length in m\n",
      "V=6.81 #Velocity of flow in m/s\n",
      "alpha=1.05 #Constant\n",
      "C=(1/0.0254) #Conversion factor\n",
      "\n",
      "#Minor Loss Coefficients\n",
      "ml_1=1.3\n",
      "ml_2=0.21\n",
      "ml_3=1.8\n",
      "\n",
      "#Calculations\n",
      "Re=(4*V_dot_mps)/(v*pi*D)  #Reynolds Number\n",
      "\n",
      "#Friction coefficient values from Moddy Chart\n",
      "f1=[0,0.023,0.022,0.0185,0.0175,0.0162]\n",
      "f=transpose(f1)\n",
      "\n",
      "#Cross Sectional Area\n",
      "A=(pi*D**2)/4 #Area of the pipe cross section in m^2\n",
      "\n",
      "V1=transpose(V_dot_mps)/A #Velocity array in m/s\n",
      "V=transpose(V1) #Velocity in m/s\n",
      "\n",
      "#Minor Losses\n",
      "Kl=ml_1+(5*ml_2)+ml_3 #Minor losses \n",
      "\n",
      "H_required=(alpha+(f*(L/D))+Kl)*(V**2/(2*g)) #Required net head in m of air\n",
      "\n",
      "H_required_inches=H_required*(rho_air/rho_water)*C #Head Required in inches of water\n",
      "\n",
      "H_av=[0.9,0.95,0.9,0.77,0.4,0] #Table values taken fro plotting\n",
      "\n",
      "#Result\n",
      "print \"The Plot shows the variation of the head required and the head available as a function\"\n",
      "print \"Of V_dot. The intersection point tells the operating point.\"\n",
      "\n",
      "plt.plot(V_dot_cfm,H_required_inches,V_dot_cfm,H_av)\n",
      "plt.ylabel('H,inches H2O')\n",
      "plt.xlabel('V_dot,cfm')\n",
      "plt.show()\n",
      "\n"
     ],
     "language": "python",
     "metadata": {},
     "outputs": [
      {
       "output_type": "stream",
       "stream": "stdout",
       "text": [
        "The Plot shows the variation of the head required and the head available as a function\n",
        "Of V_dot. The intersection point tells the operating point.\n"
       ]
      },
      {
       "metadata": {},
       "output_type": "display_data",
       "png": "[encoded data removed]",
       "text": [
        "<matplotlib.figure.Figure at 0x10bc1ac10>"
       ]
      }
     ],
     "prompt_number": 5
    },
    {
     "cell_type": "heading",
     "level": 2,
     "metadata": {},
     "source": [
      "Example 14.14-2, Page No:770"
     ]
    },
    {
     "cell_type": "code",
     "collapsed": false,
     "input": [
      "import math\n",
      "\n",
      "#Variable Decleration\n",
      "rho=998 #Density in kg/m^3\n",
      "g=9.81 #Acceleration due to gravity in m/s^2\n",
      "V_dot=0.0233 #Volumetric flow rate in m^3/s\n",
      "H_small=7.3 #Head in m\n",
      "H_big=21.9 #Head in m\n",
      "n_pump_small=0.7 #Efficiency of the pump in fraction small\n",
      "n_pump_big=0.765 #Efficiency of pump in fraction big\n",
      "#Calculations\n",
      "bhp_small=(rho*g*V_dot*H)/n_pump_small #Required bhp in kW\n",
      "\n",
      "#Similarly for 241.3mm impeller we get 6.53kW\n",
      "bhp_big=(rho*g*V_dot*H_big)/n_pump_big\n",
      "\n",
      "#Result\n",
      "print \"The required bhp is\",round(bhp_small,2),\"W\"\n",
      "print \"The required bhp is\",round(bhp_big,2),\"W\"\n",
      "print \"Clearly the small one is better as it uses less power\""
     ],
     "language": "python",
     "metadata": {},
     "outputs": [
      {
       "output_type": "stream",
       "stream": "stdout",
       "text": [
        "The required bhp is 2378.92 W\n",
        "The required bhp is 6530.38 W\n",
        "Clearly the small one is better as it uses less power\n"
       ]
      }
     ],
     "prompt_number": 4
    },
    {
     "cell_type": "heading",
     "level": 2,
     "metadata": {},
     "source": [
      "Example 14.14-4, Page No:780"
     ]
    },
    {
     "cell_type": "code",
     "collapsed": false,
     "input": [
      "import math\n",
      "\n",
      "#Variable Decleration\n",
      "n_dot=900 #Speed in rpm\n",
      "V_closed=0.45 #Volume of motor oil in cm^3\n",
      "n=0.5 #Number of rotations\n",
      "\n",
      "#Calculations\n",
      "V_dot=n_dot*(2*V_closed/n) #Volumetric Fow rate in cm^3/min\n",
      "\n",
      "#Result\n",
      "print \"The volumetric Flow rate is\",round(V_dot),\"cm^3/min\"\n"
     ],
     "language": "python",
     "metadata": {},
     "outputs": [
      {
       "output_type": "stream",
       "stream": "stdout",
       "text": [
        "The volumetric Flow rate is 1620.0 cm^3/min\n"
       ]
      }
     ],
     "prompt_number": 6
    },
    {
     "cell_type": "heading",
     "level": 2,
     "metadata": {},
     "source": [
      "Example 14.14-5, Page No:784"
     ]
    },
    {
     "cell_type": "code",
     "collapsed": false,
     "input": [
      "import math\n",
      "\n",
      "#Variable Decleration\n",
      "n_dot=1750 #Speed in rpm\n",
      "w=183.3 #Angular Speed in rad/s\n",
      "g=9.81 #Acceleration due to gravity in m/s^2\n",
      "alpha1=0 #Angle in degrees\n",
      "alpha2=40 #Angle in degrees\n",
      "b1=0.052 #Inlet blade width in m\n",
      "b2=0.023 #Outlet blade width in m\n",
      "V_dot=0.13 #Volumetric Flow rate in m^3/s\n",
      "rho_water=1000 #Density of water in kg/m^3\n",
      "rho_air=1.2 #Density of air in kg/m^3\n",
      "r1=0.04 #Inlet radius in m\n",
      "r2=0.08 #Outlet radius in m\n",
      "\n",
      "#Calcualtions\n",
      "V1_n=V_dot/(2*pi*r1*b1) #Normal Component of Velocity in m/s\n",
      "V1=V1_n #Since Vt is zero Velocity in m/s\n",
      "V2_n=V_dot/(2*pi*r2*b2) #Normal Component of velocity in m/s\n",
      "V2_t=V2_n*tan((alpha2*pi)/180) #Tangential Component of velocity in m/s\n",
      "\n",
      "#Applying the Bernoullis principle \n",
      "H=(w/g)*(r2*V2_t) #Net head in m\n",
      "Hwater_column=H*(rho_air/rho_water)*1000 #Equivalent water column in mm of water\n",
      "\n",
      "bhp=rho_air*g*V_dot*H #bhp required in W\n",
      "\n",
      "#Result\n",
      "print \"The net Head produced is\",round(Hwater_column),\"mm of water\"\n",
      "print \"The brake horsepower required is\",round(bhp,1),\"W\""
     ],
     "language": "python",
     "metadata": {},
     "outputs": [
      {
       "output_type": "stream",
       "stream": "stdout",
       "text": [
        "The net Head produced is 17.0 mm of water\n",
        "The brake horsepower required is 21.6 W\n"
       ]
      }
     ],
     "prompt_number": 12
    },
    {
     "cell_type": "heading",
     "level": 2,
     "metadata": {},
     "source": [
      "Example 14.14-6, Page No:786"
     ]
    },
    {
     "cell_type": "code",
     "collapsed": false,
     "input": [
      "import math\n",
      "\n",
      "#Variable Decleration\n",
      "r1=0.1 #Inlet Radius in m\n",
      "r2=0.18 #Outlet radius in m\n",
      "b1=0.05 #Inlet width in m\n",
      "b2=0.03 #Outlet width in m\n",
      "V_dot=0.25 #Volumetric Flow rate delivered in m^3/s\n",
      "n=1720 #Speed of the impeller in rpm\n",
      "rho=1226 #Density of the fluid in kg/m^3\n",
      "g=9.81 #Acceleration due to gravity in m/s^2\n",
      "H=14.5 #Head in m\n",
      "\n",
      "#Calculations\n",
      "#Required horse power\n",
      "W_water_horsepower=rho*g*V_dot*H #Required Horse Power in W\n",
      "W_dot_water_hp=W_water_horsepower/745.7 #Required Horse Power in hp\n",
      "\n",
      "w=n*(2*pi/60) #Angular Speed in rad/s\n",
      "\n",
      "beta1=(arctan((V_dot)/(2*pi*b1*w*r1**2)))*(180/pi) #Blade inlet angle in degrees\n",
      "\n",
      "#Using elemetary analysis\n",
      "V2_n=V_dot/(2*pi*r2*b2) #Normal Component of Velocity in m/s\n",
      "\n",
      "V2_t=(g*H)/(w*r2) #Tangential Component of velocity in m/s\n",
      "\n",
      "#Simplfying Calculation\n",
      "a=w*r2-V2_t\n",
      "\n",
      "beta2=arctan(V2_n/a)*(180/pi) #Angle in degrees\n",
      "\n",
      "#Result\n",
      "print \"The angel beta1 is\",round(beta1,2),\"degrees\"\n",
      "print \"The angle beta2 is\",round(beta2,2),\"degrees\"\n",
      "print \"The horsepower required is\",round(W_dot_water_hp,1),\"hp\""
     ],
     "language": "python",
     "metadata": {},
     "outputs": [
      {
       "output_type": "stream",
       "stream": "stdout",
       "text": [
        "The angel beta1 is 23.84 degrees\n",
        "The angle beta2 is 14.73 degrees\n",
        "The horsepower required is 58.5 hp\n"
       ]
      }
     ],
     "prompt_number": 17
    },
    {
     "cell_type": "heading",
     "level": 2,
     "metadata": {},
     "source": [
      "Example 14.14-7, Page No:792"
     ]
    },
    {
     "cell_type": "code",
     "collapsed": false,
     "input": [
      "import math\n",
      "\n",
      "#Variable Decleration\n",
      "D_propeller=0.34 #Overall Diameter of the propeller in m\n",
      "alpha=14 #Angle of attack in degrees\n",
      "n=1700 #Speed of the propeller in rpm\n",
      "D_hub=0.055 #Diameter of the hub assembly in m\n",
      "V=13.4 #Velocity of the plane in m/s\n",
      "\n",
      "#Calculations\n",
      "C=60/(2*pi) #Conversion factor\n",
      "phi1=(arctan((V*C)/(n*D_hub*0.5)))*(180/pi) #Angle in degrees\n",
      "theta1=alpha+phi1 #Pitch Angle at arbitrary radius  in degrees\n",
      "phi2=(arctan((V*C)/(n*D_propeller*0.5)))*(180/pi) #Angle in degrees\n",
      "theta2=alpha+phi2 #Pitch angle at the tip in degrees\n",
      "\n",
      "#Result\n",
      "print \"The pitch angle at any radius is\",round(theta1,1),\"degrees\"\n",
      "print \"The pitch angle at the tip is\",round(theta2,1),\"degrees\""
     ],
     "language": "python",
     "metadata": {},
     "outputs": [
      {
       "output_type": "stream",
       "stream": "stdout",
       "text": [
        "The pitch angle at any radius is 83.9 degrees\n",
        "The pitch angle at the tip is 37.9 degrees\n"
       ]
      }
     ],
     "prompt_number": 10
    },
    {
     "cell_type": "heading",
     "level": 2,
     "metadata": {},
     "source": [
      "Example 14.14-8,Page No:797"
     ]
    },
    {
     "cell_type": "code",
     "collapsed": false,
     "input": [
      "import math\n",
      "\n",
      "#Variable Decleration\n",
      "V_in=47.1 #Velocity at the inlet in m/s\n",
      "beta_st=60 #trailing edge at Angle in degrees\n",
      "n=1750 #Speed of the impeller in rpm\n",
      "r=0.4 #Radius in m\n",
      "\n",
      "#Calculations\n",
      "V_st=V_in/cos((beta_st*pi)/180) #Velocity leaving the trail in m/s\n",
      "\n",
      "u_theta=((n*2*pi)/60)*r #Tangential Velocity of rotor blades in m/s\n",
      "\n",
      "beta_r1=(arctan((u_theta+V_in*tan((beta_st*pi)/180))/V_in))*(180/pi) #Angle of leading edge in degrees\n",
      "\n",
      "beta_rt=(arctan(u_theta/V_in))*(180/pi) #Angle in degrees\n",
      "\n",
      "#Result\n",
      "print \"The leading edge and trailing edge angles are\",round(beta_r1,2),\"degrees and\",round(beta_rt,2),\"degrees\"\n",
      "print \"We select number like 13 15 and 17  rotor blades\""
     ],
     "language": "python",
     "metadata": {},
     "outputs": [
      {
       "output_type": "stream",
       "stream": "stdout",
       "text": [
        "The leading edge and trailing edge angles are 73.09 degrees and 57.28 degrees\n",
        "We select number like 13 15 and 17  rotor blades\n"
       ]
      }
     ],
     "prompt_number": 22
    },
    {
     "cell_type": "heading",
     "level": 2,
     "metadata": {},
     "source": [
      "Example 14.14-9, Page No:802"
     ]
    },
    {
     "cell_type": "code",
     "collapsed": false,
     "input": [
      "import math\n",
      "\n",
      "#Variable Decleration\n",
      "n=1170 #Speed of the pump in rpm\n",
      "H=23.5 #Required head in ft\n",
      "V_dot=320 #Gasoline pumped gallon/minute\n",
      "Ratio=3.658*10**-4 #Nsp/Nsp_US ratio\n",
      "\n",
      "#Calcualtions\n",
      "Nsp_US=(n*V_dot**0.5)/(H**0.75) #Pump specific speed in US units\n",
      "Nsp=Nsp_US*(Ratio) #Normalizes pump specific speed\n",
      "\n",
      "#Result\n",
      "print \"The Nsp_US value is\",round(Nsp_US,2),\"and Nsp value is\",round(Nsp,3),\"which tells\"\n",
      "print \"A centrifugal Pump is the best suitable one\""
     ],
     "language": "python",
     "metadata": {},
     "outputs": [
      {
       "output_type": "stream",
       "stream": "stdout",
       "text": [
        "The Nsp_US value is 1960.92 and Nsp value is 0.717 which tells\n",
        "A centrifugal Pump is the best suitable one\n"
       ]
      }
     ],
     "prompt_number": 23
    },
    {
     "cell_type": "heading",
     "level": 2,
     "metadata": {},
     "source": [
      "Example 14.14-10, Page No:804"
     ]
    },
    {
     "cell_type": "code",
     "collapsed": false,
     "input": [
      "import math\n",
      "\n",
      "#Variable Decleration\n",
      "wa=1 #Setting as unit speed\n",
      "\n",
      "#Calculations\n",
      "wb=2*wa #Speed \n",
      "bhp_ratio=(wb/wa)**3 #Ratio od required shaft power \n",
      "\n",
      "#Result\n",
      "print \"The ratio of required shaft power is\",round(bhp_ratio)"
     ],
     "language": "python",
     "metadata": {},
     "outputs": [
      {
       "output_type": "stream",
       "stream": "stdout",
       "text": [
        "The ratio of required shaft power is 8.0\n"
       ]
      }
     ],
     "prompt_number": 24
    },
    {
     "cell_type": "heading",
     "level": 2,
     "metadata": {},
     "source": [
      "Example 14.14-11, Page No:805"
     ]
    },
    {
     "cell_type": "code",
     "collapsed": false,
     "input": [
      "import math\n",
      "import matplotlib.pyplot as plt\n",
      "\n",
      "#Variable Decleration\n",
      "D_A=0.06 #Diameter of pump A in m\n",
      "n_A=1725 #Operating Speed in rpm\n",
      "w_A=180.6 #Operating Angular Speed in rad/s\n",
      "V_B_dot=2.4*10**-3 #Volumetric Flow rate in m^3/s\n",
      "V_A_dot=5*10**-4 #Volumetric Flow rate in m^3/s\n",
      "H_A=1.5 #Head in m\n",
      "rho_water=998 #Density of water in kg/m^3\n",
      "g=9.81 #Acceleration due to gravity in m/s^2\n",
      "n_pump_A=0.81 #Efficiency of pump A in fraction\n",
      "H_B=4.5 #Head in m\n",
      "rho_B=1226 #Density of fluid in kg/m^3\n",
      "\n",
      "#Calculations\n",
      "#Part(a)\n",
      "bhp_A=(rho_water*g*V_A_dot*H_A)/n_pump_A #Required Power in W\n",
      "\n",
      "C_Q=V_A_dot/(w_A*D_A**3) #Capacity Coefficient \n",
      "\n",
      "C_H=(g*H_A)/(w_A**2*D_A**2) #Head Coefficient\n",
      "\n",
      "C_P=bhp_A/(rho_water*w_A**3*D_A**5) #Power Coefficient\n",
      "#Plotting\n",
      "V_dot1=range(100,800,100) #Volumetric flow rate in cm^3/s\n",
      "H1=[180,185,175,170,150,95,54] #Head in cm\n",
      "n_pump1=[32,54,70,79,81,66,38] #Efficiency of the pump in percentage\n",
      "#BHP calculations\n",
      "V_dot=transpose(V_dot1)\n",
      "H=transpose(H1)\n",
      "n_pump=transpose(n_pump1)\n",
      "bhp_A1=rho_water*g*V_dot\n",
      "bhp_A2=bhp_A1*H\n",
      "bhp_A=bhp_A2/n_pump\n",
      "\n",
      "\n",
      "fig = plt.figure()\n",
      "ax = fig.add_subplot(111)\n",
      "ax.plot(V_dot1,bhp_A)\n",
      "plt.xlabel('V_dot,cm^3/s')\n",
      "plt.ylabel('H,cm and n in %')\n",
      "ax2 = ax.twinx()\n",
      "ax2.plot(V_dot1,H1,V_dot1,n_pump1)\n",
      "plt.ylabel('bhp,W')\n",
      "ax.grid()\n",
      "plt.show()\n",
      "\n",
      "\n",
      "#Curve Fitted Data Yields\n",
      "CQ_star=0.0112\n",
      "CH_star=0.133\n",
      "CP_star=0.00184\n",
      "npump_star=0.812\n",
      "\n",
      "#Part(b)\n",
      "Db=((V_B_dot**2*CH_star)/(CQ_star**2*g*H_B))**0.25 #Design Diameter of pump B in m\n",
      "\n",
      "w_B=V_B_dot/(CQ_star*Db**3) #Angular speed at B in rad/s\n",
      "\n",
      "bhp_B=CP_star*rho_B*w_B**3*Db**5 #Required brake horse power in W\n",
      "\n",
      "\n",
      "#Result\n",
      "print \"The required diameter of Pump is\",round(Db,3),\"m\"\n",
      "print \"The required rotational speed is\",round(w_B),\"rad/s\"\n",
      "print \"The required Brake Horse Power is\",round(bhp_B),\"W\"\n"
     ],
     "language": "python",
     "metadata": {},
     "outputs": [
      {
       "metadata": {},
       "output_type": "display_data",
       "png": "[encoded data removed]",
       "text": [
        "<matplotlib.figure.Figure at 0x10b66eed0>"
       ]
      },
      {
       "output_type": "stream",
       "stream": "stdout",
       "text": [
        "The required diameter of Pump is 0.108 m\n",
        "The required rotational speed is 168.0 rad/s\n",
        "The required Brake Horse Power is 160.0 W\n"
       ]
      }
     ],
     "prompt_number": 33
    },
    {
     "cell_type": "heading",
     "level": 2,
     "metadata": {},
     "source": [
      "Example 14.14-12, Page No:819"
     ]
    },
    {
     "cell_type": "code",
     "collapsed": false,
     "input": [
      "import math\n",
      "\n",
      "#Variable Decleration\n",
      "rho=998 #Density of fluid in kg/m^3\n",
      "g=9.81 #Acceleration due to gravity in m/s^2\n",
      "V_dot=12.8 #Volumetric Flow rate in m^3/s\n",
      "H_gross=325 #Gross Head in m\n",
      "C=10**-6 #COnversion Factor\n",
      "n_turbine=0.952 #Efficiency of turbine in fraction\n",
      "n_generator=0.945 #Efficiency of generator in fraction\n",
      "n_other=1-0.035 #Other efficieny in fraction\n",
      "no=12 #Number of Turbines\n",
      "\n",
      "#Calculations\n",
      "W_dot=rho*g*V_dot*H_gross*C #Ideal Power produced in MW\n",
      "\n",
      "W_electrical_dot=W_dot*n_turbine*n_other*n_generator #Actual Electric Power in mW\n",
      "\n",
      "W_total=no*W_electrical_dot #Total Power produced in MW\n",
      "\n",
      "#Result\n",
      "print \"The electrical power generated is\",round(W_total),\"MW\"\n",
      "#The answer differs due to decimal point accuracy\n",
      "#Answer in the text has been rounded off and multiplied hence the inconsistency"
     ],
     "language": "python",
     "metadata": {},
     "outputs": [
      {
       "output_type": "stream",
       "stream": "stdout",
       "text": [
        "The electrical power generated is 424.0 MW\n"
       ]
      }
     ],
     "prompt_number": 18
    },
    {
     "cell_type": "heading",
     "level": 2,
     "metadata": {},
     "source": [
      "Example 14.14-13, Page No:820"
     ]
    },
    {
     "cell_type": "code",
     "collapsed": false,
     "input": [
      "import math\n",
      "\n",
      "#Variable Decleration\n",
      "r2=2.5 #Inlet Radius in m\n",
      "r1=1.77 #Outlet raius in m\n",
      "b2=0.914 #Runner blade width at inlet in m\n",
      "b1=2.62 #Runner blade width at outlet in m\n",
      "n_dot=120 #Speed in rpm\n",
      "w=12.57 #Rad/s\n",
      "alpha1=10 #Angle in degrees\n",
      "alpha2=33 #turning of flow in degrees\n",
      "V_dot=599 #Volumetric Flow rate in m^3/s\n",
      "H_gross=92.4 #Gross Head in m\n",
      "C=10**-6 #Conversion Factor\n",
      "g=9.81 #Acceleration due to gravity in m/s^2\n",
      "\n",
      "#Calculations\n",
      "#Part(a)\n",
      "#Runner Inlet\n",
      "V2_n=V_dot/(2*pi*r2*b2) #Normal Component of velocity in m/s\n",
      "V2_t=V2_n*tan((alpha2*pi)/180) #Tangential Component in m/s\n",
      "beta2=(arctan(V2_n/(w*r2-V2_t)))*(180/pi) #Runner leading edge angle in degrees\n",
      "\n",
      "#Runner Outlet\n",
      "V1_n=V_dot/(2*pi*r1*b1) #Normal Component of velocity in m/s\n",
      "V1_t=V1_n*tan((alpha1*pi)/180) #Tangential Component in m/s\n",
      "beta1=(arctan(V1_n/(w*r1-V1_t)))*(180/pi) #Runner leading edge angle in degrees\n",
      "\n",
      "#Using Euler Turbomachine Equation\n",
      "W_shaft=rho*w*V_dot*(r2*V2_t-r1*V1_t)*C #Shaft output power in MW\n",
      "\n",
      "H=W_shaft/(rho*g*V_dot*C) #Net Head in m\n",
      "\n",
      "#Part(b)\n",
      "#Similiary repeat calculations for part(b) and part(c)\n",
      "#Result\n",
      "#Results are for only part a\n",
      "print \"The inlet runner blade angle is\",round(beta2,1),\"degrees\"\n",
      "print \"The outlet runner blade angle is\",round(beta1,1),\"degrees\"\n",
      "print \"The output power is\",round(W_shaft),\"MW\"\n",
      "print \"The net head required is\",round(H,1),\"m\"\n"
     ],
     "language": "python",
     "metadata": {},
     "outputs": [
      {
       "output_type": "stream",
       "stream": "stdout",
       "text": [
        "The inlet runner blade angle is 84.1 degrees\n",
        "The outlet runner blade angle is 47.8 degrees\n",
        "The output power is 461.0 MW\n",
        "The net head required is 78.6 m\n"
       ]
      }
     ],
     "prompt_number": 32
    },
    {
     "cell_type": "heading",
     "level": 2,
     "metadata": {},
     "source": [
      "Example 14.14-14, Page no:830"
     ]
    },
    {
     "cell_type": "code",
     "collapsed": false,
     "input": [
      "import math\n",
      "\n",
      "#Variable Decleration\n",
      "Cp=0.4 #Power Coefficient \n",
      "n_gearbox=0.85 #Efficiency in fraction\n",
      "rho=1.204 #Density of air in kg/m^3\n",
      "V=10 #Velocity of flow in m/s\n",
      "D=12.5 #Diameter in m\n",
      "\n",
      "#Calculations\n",
      "W_dot_op=(n_gearbox*Cp*pi*rho*V**3*D**2)/8 #Work done in W\n",
      "\n",
      "#Result\n",
      "print \"Electric Power produced is\",round(W_dot_op),\"W\""
     ],
     "language": "python",
     "metadata": {},
     "outputs": [
      {
       "output_type": "stream",
       "stream": "stdout",
       "text": [
        "Electric Power produced is 25118.0 W\n"
       ]
      }
     ],
     "prompt_number": 36
    },
    {
     "cell_type": "heading",
     "level": 2,
     "metadata": {},
     "source": [
      "Example 14.14-15,Page No:832"
     ]
    },
    {
     "cell_type": "code",
     "collapsed": false,
     "input": [
      "import math\n",
      "\n",
      "#Variable Decleration\n",
      "D_A=2.05 #Diameter in m\n",
      "n_A=120 #Speed in rpm\n",
      "w_A=12.57 #Angular Speed in rad/s\n",
      "V_A_dot=350 #Volumetric Flwo rate in m^3/s\n",
      "H_A=7.5 #Head of water in m*10\n",
      "H_B=10.4 #Head of water in m*10\n",
      "bhp_A=242 #Brake Horse Power at A in MW\n",
      "n_turbine_A=0.942 #Efficiency of turbine A\n",
      "rho_A=998 #Density of water in kg/m^3\n",
      "\n",
      "#Calculations\n",
      "a=H_B/H_A\n",
      "rho_B=rho_A #Density in kg/m^3\n",
      "n_B=n_A #Speed at b in rpm\n",
      "D_B=D_A*(a**0.5) #Diameter of the new pump in m\n",
      "V_B_dot=V_A_dot*(n_B/n_A)*((D_B/D_A)**3) #Volumetric Flow rate at B in m^3/s\n",
      "bhp_B=bhp_A*(rho_B/rho_A)*((n_B/n_A)**3)*((D_B/D_A)**5) #Brake Horse Power in MW\n",
      "\n",
      "n_turbine=1-(1-n_turbine_A)*((D_A/D_B)**0.2) #Efficiency correction in fraction\n",
      "\n",
      "#Result\n",
      "print \"The brake horse power is\",round(bhp_B),\"MW\"\n",
      "print \"The diameter of the new turbine is\",round(D_B,2),\"m\"\n",
      "print \"The volumetric Flow rate is\",round(V_B_dot),\"m^3/s\"\n",
      "print \"The corrected efficiency is\",round(n_turbine,3)"
     ],
     "language": "python",
     "metadata": {},
     "outputs": [
      {
       "output_type": "stream",
       "stream": "stdout",
       "text": [
        "The brake horse power is 548.0 MW\n",
        "The diameter of the new turbine is 2.41 m\n",
        "The volumetric Flow rate is 572.0 m^3/s\n",
        "The corrected efficiency is 0.944\n"
       ]
      }
     ],
     "prompt_number": 54
    },
    {
     "cell_type": "heading",
     "level": 2,
     "metadata": {},
     "source": [
      "Example 14.14-16, Page No:836"
     ]
    },
    {
     "cell_type": "code",
     "collapsed": false,
     "input": [
      "import math\n",
      "\n",
      "#Variable Decleration\n",
      "w_A=12.57 #Angular Speed in rad/s\n",
      "rho_A=998 #Density of fluid in kg/m^3\n",
      "g=9.81 #Acceleration due to gravity in m/s^2\n",
      "H_A=75 #Head in m\n",
      "bhp_A=242*10**6 #Brake Horse Power at A in W\n",
      "H_B=104 #Head in m\n",
      "bhp_B=548 *10**6 #Brake Horse Power at B in W\n",
      "\n",
      "#Calculations\n",
      "#For Turbine A\n",
      "Nst_A=(w_A*bhp_A**0.5)/(rho_A**0.5*g**1.25*H_A**1.25) #Dimensionless specific speed at A\n",
      "\n",
      "#For turbine B\n",
      "w_B=w_A #Angular Speed in rad/s\n",
      "rho_B=rho_A #Density of fluid in kg/m^3\n",
      "Nst_B=(w_B*bhp_B**0.5)/(rho_B**0.5*g**1.25*H_B**1.25) #Dimensionless specific speed at B\n",
      "\n",
      "Nst_US_A=43.46*Nst_B #Turbine specific speed in US units\n",
      "\n",
      "#Result\n",
      "print \"The Turbine Specific Speed in US units is\",round(Nst_US_A,1)"
     ],
     "language": "python",
     "metadata": {},
     "outputs": [
      {
       "output_type": "stream",
       "stream": "stdout",
       "text": [
        "The Turbine Specific Speed in US units is 70.2\n"
       ]
      }
     ],
     "prompt_number": 55
    }
   ],
   "metadata": {}
  }
 ]
}