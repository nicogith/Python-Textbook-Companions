{
 "metadata": {
  "name": "",
  "signature": "sha256:09f3cec4160faaa4e2a9f5ff2c23e2a27e23b91a36394dba268c313658b30c58"
 },
 "nbformat": 3,
 "nbformat_minor": 0,
 "worksheets": [
  {
   "cells": [
    {
     "cell_type": "heading",
     "level": 1,
     "metadata": {},
     "source": [
      "Chapter 11:External Flow:Drag and Lift"
     ]
    },
    {
     "cell_type": "heading",
     "level": 2,
     "metadata": {},
     "source": [
      "Example 11.11-1, Page No:589"
     ]
    },
    {
     "cell_type": "code",
     "collapsed": false,
     "input": [
      "import math\n",
      "\n",
      "#Variable Decleration\n",
      "Fd=300 #Drag Force in N\n",
      "A=2.07 #Frontal Aera in m^2\n",
      "rho=1.204 #denisty of air in kg/m^3\n",
      "V=95 #Velocity of the fluid around the body in km/h\n",
      "C=3.6 #Conversion factor \n",
      "\n",
      "#Calculations\n",
      "Cd=(2*Fd*C**2)/(rho*A*V**2) #Coefficient of Drag of the Car\n",
      "\n",
      "#Result\n",
      "print \"The Coefficient of Drag of the Car is\",round(Cd,2)"
     ],
     "language": "python",
     "metadata": {},
     "outputs": [
      {
       "output_type": "stream",
       "stream": "stdout",
       "text": [
        "The Coefficient of Drag of the Car is 0.35\n"
       ]
      }
     ],
     "prompt_number": 2
    },
    {
     "cell_type": "heading",
     "level": 2,
     "metadata": {},
     "source": [
      "Example 11.11-2,Page No:599"
     ]
    },
    {
     "cell_type": "code",
     "collapsed": false,
     "input": [
      "import math\n",
      "\n",
      "#Variable Decleration\n",
      "W=1.85 #Width of the car in m\n",
      "H=1.7 #Height of the car in m\n",
      "Cd=0.3 #Drag Coefficient\n",
      "rho=1.20 #Denisty of air in kg/m^3\n",
      "V=95 #Velocity of the car in km/h\n",
      "C=3.6 #Conversion Factor\n",
      "L=18000 #Distance travelled by the car in one year in km\n",
      "n_car=0.3 #Efficiency of the car in fraction\n",
      "HV=44000 #Heating Value of the fuel in kJ/kg\n",
      "rho_fuel=0.74 #Density of the fuel in kg/L\n",
      "Unit_Cost=0.95 #Unit cost of fuel per litre in $\n",
      "Hnew=1.55 #New design height in m\n",
      "\n",
      "#Calculation\n",
      "#Drag Force before Redesigning\n",
      "Fd=Cd*W*H*rho*V**2*0.5*(1/C) #Drag Force in N\n",
      "W_drag=Fd*L #Work Done to overcome the drag force in kJ/year\n",
      "E_in=W_drag/n_car #Energy required in kJ/year\n",
      "#Amount of fuel\n",
      "Amount_of_fuel=E_in/(HV*rho_fuel) #Amount of fuel required in L/year\n",
      "Cost=Amount_of_fuel*Unit_Cost #Total cost per year in $/year\n",
      "\n",
      "#Reduction ratio\n",
      "Reduction_Ratio=(H-Hnew)/H #Reduction ratio\n",
      "#Fuel Reduction\n",
      "Fuel_Reduction=Reduction_Ratio*Amount_of_fuel #Fuel reduced in L/year\n",
      "Cost_Reduction=Reduction_Ratio*Cost #Cost Reduction in $/Year\n",
      "\n",
      "#Result\n",
      "print \"The Reduction Ratio of the redesigned car is\",round(Reduction_Ratio,3)\n",
      "print \"Therefore the cars height reduces the fuel consumption by\",round(Reduction_Ratio*100),\"%\"\n",
      "\n",
      "\n"
     ],
     "language": "python",
     "metadata": {},
     "outputs": [
      {
       "output_type": "stream",
       "stream": "stdout",
       "text": [
        "The Reduction Ratio of the redesigned car is 0.088\n",
        "Therefore the cars height reduces the fuel consumption by 9.0 %\n"
       ]
      }
     ],
     "prompt_number": 4
    },
    {
     "cell_type": "heading",
     "level": 2,
     "metadata": {},
     "source": [
      "Example 11.11-3,Page No:604"
     ]
    },
    {
     "cell_type": "code",
     "collapsed": false,
     "input": [
      "import math\n",
      "\n",
      "#Variable Decleration\n",
      "L=5 #Length on the flat plate in m\n",
      "V=2 #Full stream velocity in m/s\n",
      "v=2.485*10**-4 #Kinematic Viscosity in m^2/s\n",
      "rho=876 #Density of the fluid in kg/m^3\n",
      "\n",
      "#Calculations\n",
      "Rel=(V*L)/v #Reynolds Number\n",
      "Cf=1.328*Rel**-0.5 #Average Friction Coefficient\n",
      "\n",
      "#As pressure drag is zero Cd=Cf\n",
      "Fd=Cf*L*rho*V**2*0.5 #Drag Force in N\n",
      "\n",
      "#Result\n",
      "print \"The total Drag Force per Unit Width is\",round(Fd),\"N\"\n"
     ],
     "language": "python",
     "metadata": {},
     "outputs": [
      {
       "output_type": "stream",
       "stream": "stdout",
       "text": [
        "The total Drag Force per Unit Width is 58.0 N\n"
       ]
      }
     ],
     "prompt_number": 5
    },
    {
     "cell_type": "heading",
     "level": 2,
     "metadata": {},
     "source": [
      "Example 11.11-4,Page No:609"
     ]
    },
    {
     "cell_type": "code",
     "collapsed": false,
     "input": [
      "import math\n",
      "\n",
      "#Variable Decleration\n",
      "D=0.022 #Diameter of the pipe in m\n",
      "rho=999.1 #Density of the fluid in kg/m^3\n",
      "u=1.138*10**-3 #Dynamic Viscosity in kg/m.s\n",
      "V=4 #Velocity in m/s\n",
      "Cd=1 #Coefficent of Drag\n",
      "L=30 #Width of the river in m\n",
      "\n",
      "#Calculations\n",
      "Re=(rho*V*D)/u #Reynolds Number\n",
      "Fd=Cd*D*L*rho*V**2*0.5 #Drag Force in N\n",
      "\n",
      "#Result\n",
      "print \"The drag force on the pipe is\",round(Fd),\"N\"\n",
      "#The answer in the textbook has been approximated to a large value"
     ],
     "language": "python",
     "metadata": {},
     "outputs": [
      {
       "output_type": "stream",
       "stream": "stdout",
       "text": [
        "The drag force on the pipe is 5275.0 N\n"
       ]
      }
     ],
     "prompt_number": 7
    },
    {
     "cell_type": "heading",
     "level": 2,
     "metadata": {},
     "source": [
      "Example 11.11-5,Page No:616"
     ]
    },
    {
     "cell_type": "code",
     "collapsed": false,
     "input": [
      "import math\n",
      "\n",
      "#Variable Decleration\n",
      "m=70000 #Mass of the  airplane in kg\n",
      "g=9.81 #Acceleration due to gravity in m/s^2\n",
      "V_k=558 #Velocity of the airplane in km/h\n",
      "rho=1.2 #Denisty of air in kg/m^3\n",
      "Cl_max1=1.52 #Coefficient of lift case 1\n",
      "Cl_max2=3.48 #Coefficient of lift case 2\n",
      "A=150 #Area in m^2\n",
      "rho_h=0.312 #Density at crusing altitude in kg/m^3\n",
      "Cd=0.03 #Coefficient of drag at crusing altitude\n",
      "\n",
      "#Calculations\n",
      "W=m*g #Weight of the aircraft in N\n",
      "V=V_k/3.6 #Velocity in m/s\n",
      "\n",
      "#Part (A)\n",
      "V_min1=((2*W)/(rho*Cl_max1*A))**0.5 #Minimum stall speed in m/s without flap\n",
      "V_min2=((2*W)/(rho*Cl_max2*A))**0.5 #Minimum stall speed in m/s with flap\n",
      "V_min1_safe=1.2*V_min1 #Safe minimum velocity to avoid stall in m/s without flap\n",
      "V_min2_safe=1.2*V_min2 #Safe minimum velocity to avoid stall in m/s with flap\n",
      "\n",
      "#Part(B)\n",
      "Fl=W #Lift force required in N\n",
      "Cl=(2*Fl)/(rho_h*A*V**2) #Coefficient of lift\n",
      "\n",
      "#Part(C)\n",
      "Fd=Cd*A*rho_h*V**2*0.5*10**-3 #Drag Force in kN\n",
      "Thrust=Fd #thrust Force in kN\n",
      "Power=Thrust*V #Power required in kW\n",
      "\n",
      "#Result\n",
      "print \"The safe speed limits without and with flaps are\",round(V_min1_safe,1),\"m/s and\",round(V_min2_safe,1),\"m/s\"\n",
      "print \"The lift coefficient is\",round(Cl,2),\"and the corresponding angle of attack is 10\u02da\"\n",
      "print \"The power required to provide enough thrust is\",round(Power),\"kW\"\n",
      "#The final power answer has been rounded in the textbook"
     ],
     "language": "python",
     "metadata": {},
     "outputs": [
      {
       "output_type": "stream",
       "stream": "stdout",
       "text": [
        "The safe speed limits without and with flaps are 85.0 m/s and 56.2 m/s\n",
        "The lift coefficient is 1.22 and the corresponding angle of attack is 10\u02da\n",
        "The power required to provide enough thrust is 2614.0 kW\n"
       ]
      }
     ],
     "prompt_number": 15
    },
    {
     "cell_type": "heading",
     "level": 2,
     "metadata": {},
     "source": [
      "Example 11.11-6, Page No:618"
     ]
    },
    {
     "cell_type": "code",
     "collapsed": false,
     "input": [
      "import math\n",
      "\n",
      "#Variable Decleration\n",
      "m=0.057 #mass of the tennis ball in kg\n",
      "D=0.0637 #Diameter of the tennis ball in m\n",
      "V_k=72 #Velocity with which th ball is hit in km/h\n",
      "w_rpm=4800 #backspin given to the ball in rpm\n",
      "Cl=0.21 #Coefficient of lift\n",
      "rho=1.184 #Density of the fluid in kg/m^3\n",
      "g=9.81 #Aceleration due to gravity in m/s^2\n",
      "\n",
      "#Calculations\n",
      "V=V_k/3.6 #Velocity of the ball in m/s\n",
      "w=(w_rpm*2*pi)/60 #Angular velocity in rad/s\n",
      "\n",
      "#non dimensional rate of rotation\n",
      "#Changing the notation from the one used in the textbook to simplify\n",
      "ror=(w*D)/(2*V) #Non dimnsional rate of rotation\n",
      "A=4**-1*pi*D**2 #Frontal Area in m^2\n",
      "Fl=Cl*A*rho*V**2*0.5 #Lift force in N\n",
      "W=m*g #Weight of the ball in N\n",
      "F=W-Fl #Combined force in N\n",
      "\n",
      "#Result\n",
      "print \"The ball will drop due to a combined effect of lift and gravity with a force of\",round(W,3),\"N\"\n"
     ],
     "language": "python",
     "metadata": {},
     "outputs": [
      {
       "output_type": "stream",
       "stream": "stdout",
       "text": [
        "The ball will drop due to a combined effect of lift and gravity with a force of 0.559 N\n"
       ]
      }
     ],
     "prompt_number": 16
    }
   ],
   "metadata": {}
  }
 ]
}