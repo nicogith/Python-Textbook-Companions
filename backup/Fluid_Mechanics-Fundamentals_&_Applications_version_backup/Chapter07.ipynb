{
 "metadata": {
  "name": "",
  "signature": "sha256:7a83d458ec863729e5567b39b8a122f73ab73bc391e4a0f9cd56c8645c12c28b"
 },
 "nbformat": 3,
 "nbformat_minor": 0,
 "worksheets": [
  {
   "cells": [
    {
     "cell_type": "heading",
     "level": 1,
     "metadata": {},
     "source": [
      "Chapter 07: Dimensional Analysis and Modeling"
     ]
    },
    {
     "cell_type": "heading",
     "level": 2,
     "metadata": {},
     "source": [
      "Example 7.7-4, Page No:290"
     ]
    },
    {
     "cell_type": "code",
     "collapsed": false,
     "input": [
      "import math\n",
      "\n",
      "#Variable Decleration\n",
      "g_earth=9.81 #Acceleration due to gravity on earth in m/^2\n",
      "theta=(pi*5)/180 #Angle above the horizon in radians\n",
      "v=21 #Speed of the baseball in m/s\n",
      "zo=2 #Height at wich the ball is left in m\n",
      "t_star=2.75 #Time required to hit the ground in s\n",
      "\n",
      "#Calculations\n",
      "#Part(a)\n",
      "g_moon=g_earth/6 #Acceleration due to gravity on the moon in m/s^2\n",
      "w_o=v*sin(theta) #Vertical component of Speed in m/s\n",
      "Fr_square=w_o**2/(g_moon*zo) #Value of froude number square \n",
      "t_a=(t_star*zo)/w_o #Estimated time required to hit the ground in s\n",
      "#Part(b)\n",
      "#simplfying the calculations\n",
      "a=w_o**2+(2*zo*g_moon)\n",
      "b=a**0.5\n",
      "t_b=(w_o+b)/g_moon #Exact time required for the ball to hit the ground in s\n",
      "\n",
      "#Result\n",
      "print \"The estimated time required to hit the ground is\",round(t_a,2),\"s\"\n",
      "print \"The exact time required for the ball to hit the ground is\",round(t_b,2),\"s\"\n",
      "#Due to the decimal accuracy the answer in textbook differs "
     ],
     "language": "python",
     "metadata": {},
     "outputs": [
      {
       "output_type": "stream",
       "stream": "stdout",
       "text": [
        "The estimated time required to hit the ground is 3.01 s\n",
        "The exact time required for the ball to hit the ground is 3.04 s\n"
       ]
      }
     ],
     "prompt_number": 9
    },
    {
     "cell_type": "heading",
     "level": 2,
     "metadata": {},
     "source": [
      "Example 7.7-5, Page No:293"
     ]
    },
    {
     "cell_type": "code",
     "collapsed": false,
     "input": [
      "import math\n",
      "\n",
      "#Variable Decleration\n",
      "Vp=50 #Velocity in the prototype in mi/h\n",
      "um=1.754*10**-5 #Viscosity in the model in kg/m.s\n",
      "up=1.849*10**-5 #Viscosity in the prototype in kg/m.s\n",
      "rhop=1.184 #Density of air in prototype in kg/m^3\n",
      "rhom=1.269 #Density of air in model in kg/m^3\n",
      "Lp_Lm=5 #ratio of length \n",
      "\n",
      "#Calculations\n",
      "a=um/up\n",
      "b=rhop/rhom\n",
      "Vm=Vp*a*b*Lp_Lm #Velocity in the model in mi/h\n",
      "\n",
      "#result\n",
      "print \"The velocity in the wind tunnel required is\",round(Vm),\"mi/h\""
     ],
     "language": "python",
     "metadata": {},
     "outputs": [
      {
       "output_type": "stream",
       "stream": "stdout",
       "text": [
        "The velocity in the wind tunnel required is 221.0 mi/h\n"
       ]
      }
     ],
     "prompt_number": 16
    },
    {
     "cell_type": "heading",
     "level": 2,
     "metadata": {},
     "source": [
      "Example 7.7-6, Page No:294"
     ]
    },
    {
     "cell_type": "code",
     "collapsed": false,
     "input": [
      "import math\n",
      "\n",
      "#Variable Decleration\n",
      "Fd=94.3 #Average Drag force on the model in N\n",
      "Vp=float(50) #Velocity of the prototype in mi/h\n",
      "Vm=float(221) #Velocity of the model in mi/h\n",
      "rhop=1.184 #Density of air in prototype in kg/m^3\n",
      "rhom=1.269 #Density of air in model in kg/m^3\n",
      "Lp_Lm=5 #ratio of length \n",
      "\n",
      "#Calculations\n",
      "a=(rhop/rhom)\n",
      "c=(Lp_Lm**2)\n",
      "b=Vm/Vp\n",
      "Fd_p=(Fd*a*c)/(b**2) #Drag Force on the prototype in N\n",
      "\n",
      "#Result\n",
      "print \"The Drag force on the prototype is\",round(Fd_p),\"N\"\n",
      "\n"
     ],
     "language": "python",
     "metadata": {},
     "outputs": [
      {
       "output_type": "stream",
       "stream": "stdout",
       "text": [
        "The Drag force on the prototype is 113.0 N\n"
       ]
      }
     ],
     "prompt_number": 44
    },
    {
     "cell_type": "heading",
     "level": 2,
     "metadata": {},
     "source": [
      "Example 7.7-10, Page No:313"
     ]
    },
    {
     "cell_type": "code",
     "collapsed": false,
     "input": [
      "import math\n",
      "import matplotlib.pyplot as plt\n",
      "%matplotlib inline\n",
      "\n",
      "#Variable Decleration\n",
      "Lm=0.991 #Length of the model truck in m\n",
      "Hm=0.257 #height of the model truck in m\n",
      "Wm=0.159 #Width of the model truck in m\n",
      "rho=1.184 #Density of Air in kg/m^3\n",
      "u=1.849*10**-5 #Viscosity of air in kg/m.s\n",
      "FD_m=89.9 #Drag Force in the model in N\n",
      "V_m=70 #Velocity in the model in m/s\n",
      "C=16 #Geometric Ratio\n",
      "Vp=26.8 #Velocity of the prototype in m/s\n",
      "\n",
      "#Calculations\n",
      "\n",
      "V=range(20,75,5) #Velocity array each in m/s\n",
      "F=[12.4,19,22.1,29,34.3,39.9,47.2,55.5,66,77.6,89.9] #Drag force array in N\n",
      "X=transpose(F) #Transpose of the matrix in order to mutliply\n",
      "#Simplfying the calculations by using steps\n",
      "\n",
      "CD_m1=(X/V)\n",
      "CD_m2=CD_m1/V\n",
      "CD_m=(2*CD_m2)/(rho*Wm*Hm) #Drag Coefficient \n",
      "\n",
      "Y=transpose(V)\n",
      "Re_m=(rho*Y*Wm)/u  #Reynolds Number for each set\n",
      "\n",
      "#Calculations for prototype\n",
      "Re_p=(rho*Vp*C*Wm)/u #Reynolds Number for the prototype\n",
      "\n",
      "#Aerodynamic Drag Calculations\n",
      "FD_p=0.5*rho*Vp**2*C**2*Wm*Hm*CD_m[10] #Aerodynamic Drag on the Vehicle in N\n",
      "\n",
      "#Result\n",
      "print \"The Aerodynamic Drag on the Vehicle is\",round(FD_p),\"N\"\n",
      "\n",
      "plt.plot(Re_m,CD_m,'ro')\n",
      "plt.ylabel('Cd')\n",
      "plt.xlabel('Re')\n",
      "plt.show()\n",
      "\n",
      "#The answer in the textbook has been rounded off to the nearest value"
     ],
     "language": "python",
     "metadata": {},
     "outputs": [
      {
       "output_type": "stream",
       "stream": "stdout",
       "text": [
        "The Aerodynamic Drag on the Vehicle is 3373.0 N\n"
       ]
      },
      {
       "metadata": {},
       "output_type": "display_data",
       "png": "[encoded data removed]",
       "text": [
        "<matplotlib.figure.Figure at 0x10b5b8950>"
       ]
      }
     ],
     "prompt_number": 1
    },
    {
     "cell_type": "heading",
     "level": 2,
     "metadata": {},
     "source": [
      "Example 7.7-11, Page No:316"
     ]
    },
    {
     "cell_type": "code",
     "collapsed": false,
     "input": [
      "import math\n",
      "\n",
      "#Variable Decleration\n",
      "Lm_Lp=10**-2 #Length Scale Factor\n",
      "vp=1.002*10**-6 #Kinematic viscosity of the prototype in m^2/s\n",
      "\n",
      "#Calculations\n",
      "vm=vp*(Lm_Lp)**1.5 #Required Kinematic Viscosity in m^2/s\n",
      "\n",
      "#Result\n",
      "print \"Looking up in a table we cannot find a fluid of the kinematic viscosity\",vm,\"m^2/s\"\n",
      "\n",
      "\n"
     ],
     "language": "python",
     "metadata": {},
     "outputs": [
      {
       "output_type": "stream",
       "stream": "stdout",
       "text": [
        "Looking up in a table we cannot find a fluid of the kinematic viscosity 1.002e-09 m^2/s\n"
       ]
      }
     ],
     "prompt_number": 2
    }
   ],
   "metadata": {}
  }
 ]
}