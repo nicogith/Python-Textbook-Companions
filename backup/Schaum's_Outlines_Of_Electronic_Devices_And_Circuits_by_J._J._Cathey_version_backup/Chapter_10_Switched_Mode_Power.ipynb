{
 "metadata": {
  "name": "",
  "signature": "sha256:ee2b5aed62ff730fdec8f040b584eb56fa1107a7a40b77edd4cd70e0f5614cd2"
 },
 "nbformat": 3,
 "nbformat_minor": 0,
 "worksheets": [
  {
   "cells": [
    {
     "cell_type": "heading",
     "level": 1,
     "metadata": {},
     "source": [
      "Chapter 10 Switched Mode Power Supplies"
     ]
    },
    {
     "cell_type": "heading",
     "level": 2,
     "metadata": {},
     "source": [
      "Example 10.1 , Page no:296"
     ]
    },
    {
     "cell_type": "code",
     "collapsed": false,
     "input": [
      "import math\n",
      "from __future__ import division\n",
      "\n",
      "#initialisation of variables\n",
      "V2=12 #load\n",
      "D=0.8 #duty cycle\n",
      "P0=20 #average power\n",
      "\n",
      "#CALCULATIONS\n",
      "V1=V2/D #V\n",
      "I1=P0/V1\n",
      "\n",
      "#RESULTS\n",
      "print\"The value of I1=\",round(I1,3),\"A\";"
     ],
     "language": "python",
     "metadata": {},
     "outputs": [
      {
       "output_type": "stream",
       "stream": "stdout",
       "text": [
        "The value of I1= 1.333 A\n"
       ]
      }
     ],
     "prompt_number": 1
    },
    {
     "cell_type": "heading",
     "level": 2,
     "metadata": {},
     "source": [
      "Example 10.2 , Page no:296"
     ]
    },
    {
     "cell_type": "code",
     "collapsed": false,
     "input": [
      "import math\n",
      "from __future__ import division\n",
      "\n",
      "#initialisation of variables\n",
      "Rl=7 #Load \u2126\n",
      "\n",
      "#CALCULATIONS\n",
      "fs=30*10**3 #kHz.\n",
      "Lc=50*10**-6 #Inductor H\n",
      "D=1-((2*fs*Lc)/Rl)\n",
      "\n",
      "#RESULTS\n",
      "print\"The value of D=\",round(D,3);"
     ],
     "language": "python",
     "metadata": {},
     "outputs": [
      {
       "output_type": "stream",
       "stream": "stdout",
       "text": [
        "The value of D= 0.571\n"
       ]
      }
     ],
     "prompt_number": 2
    },
    {
     "cell_type": "heading",
     "level": 2,
     "metadata": {},
     "source": [
      "Example 10.4 , Page no:296"
     ]
    },
    {
     "cell_type": "code",
     "collapsed": false,
     "input": [
      "import math\n",
      "from __future__ import division\n",
      "\n",
      "#initialisation of variables\n",
      "V2=5 #V\n",
      "V1=12 #V\n",
      "Rl=5 #\u2126\n",
      "\n",
      "#CALCULATIONS\n",
      "D=V2/V1\n",
      "p0=V2**2/Rl\n",
      "\n",
      "#RESULTS\n",
      "print\"The value of D=\",round(D,3);\n",
      "print\"The value of p0=\",round(p0,3);"
     ],
     "language": "python",
     "metadata": {},
     "outputs": [
      {
       "output_type": "stream",
       "stream": "stdout",
       "text": [
        "The value of D= 0.417\n",
        "The value of p0= 5.0\n"
       ]
      }
     ],
     "prompt_number": 3
    },
    {
     "cell_type": "heading",
     "level": 2,
     "metadata": {},
     "source": [
      "Example 10.7, Page no:297"
     ]
    },
    {
     "cell_type": "code",
     "collapsed": false,
     "input": [
      "import math\n",
      "from __future__ import division\n",
      "\n",
      "#initialisation of variables\n",
      "D=0.6 #Duty cycle\n",
      "V1=24 #V\n",
      "Rl=7\n",
      "\n",
      "#CALCULATIONS\n",
      "fs=30*10**3\n",
      "L=50*10**-6\n",
      "V2=D*V1\n",
      "Imax=V2/Rl+((V1-V2)*D)/(2*fs*L) #maximum  values of the inductor current\n",
      "Imin=V2/Rl-((V1-V2)*D)/(2*fs*L) #minimum values of the inductor current\n",
      "\n",
      "#RESULTS\n",
      "print\"The value of Imax=\",round(Imax,3),\"A\";\n",
      "print\"The value of Imin=\",round(Imin,3),\"A\";"
     ],
     "language": "python",
     "metadata": {},
     "outputs": [
      {
       "output_type": "stream",
       "stream": "stdout",
       "text": [
        "The value of Imax= 3.977 A\n",
        "The value of Imin= 0.137 A\n"
       ]
      }
     ],
     "prompt_number": 4
    },
    {
     "cell_type": "heading",
     "level": 2,
     "metadata": {},
     "source": [
      "Example 10.9, Page no:298"
     ]
    },
    {
     "cell_type": "code",
     "collapsed": false,
     "input": [
      "import math\n",
      "from __future__ import division\n",
      "\n",
      "#initialisation of variables\n",
      "V1=12\n",
      "D=0.6\n",
      "P0=60 #w Supplying power \n",
      "\n",
      "#CALCULATIONS\n",
      "V2=V1/(1-D) #output voltage\n",
      "Rl=V2**2/P0 #load resistance\n",
      "I2=V2/Rl #load current\n",
      "\n",
      "#RESULTS\n",
      "print\"The value of V2=\",round(V2,3),\"V\";\n",
      "print\"The value of Rl=\",round(Rl,3),\"ohm\";\n",
      "print\"The value of I2=\",round(I2,3),\"A\";"
     ],
     "language": "python",
     "metadata": {},
     "outputs": [
      {
       "output_type": "stream",
       "stream": "stdout",
       "text": [
        "The value of V2= 30.0 V\n",
        "The value of Rl= 15.0 ohm\n",
        "The value of I2= 2.0 A\n"
       ]
      }
     ],
     "prompt_number": 5
    }
   ],
   "metadata": {}
  }
 ]
}