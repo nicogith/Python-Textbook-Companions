{
 "metadata": {
  "name": "",
  "signature": "sha256:230239e8b40eac7e3f785878f85fc309f4d1312bad04504a120beabfde04e6e8"
 },
 "nbformat": 3,
 "nbformat_minor": 0,
 "worksheets": [
  {
   "cells": [
    {
     "cell_type": "heading",
     "level": 1,
     "metadata": {},
     "source": [
      "Chapter 13 : Information Theory and Coding"
     ]
    },
    {
     "cell_type": "heading",
     "level": 2,
     "metadata": {},
     "source": [
      "Example 13.1  Page No : 631"
     ]
    },
    {
     "cell_type": "code",
     "collapsed": false,
     "input": [
      "import math \n",
      "\n",
      "#Given probabilities p1  =  p4  =  1/8 & p2  =  p3  =  3/8\n",
      "p1  =  1./8\n",
      "p4  =  1./8\n",
      "p2  =  3./8\n",
      "p3  =  3./8\n",
      "\n",
      "#The average information H is p1*math.log2 (1/p1)+p2*math.log2 (1/p2)+p3*math.log2 (1/p3)+p4*math.log2 (1/p4) bits/message\n",
      "H  =  p1*math.log (1/p1,2)+p2*math.log (1/p2,2)+p3*math.log (1/p3,2)+p4*math.log(1/p4,2)\n",
      "\n",
      "#information rate R is r*H bits/sec where r is 2*B\n",
      "#R1  =  R/B\n",
      "R1  =  2*H\n",
      "\n",
      "print 'The average information is ',H,' bits/message'\n",
      "print 'Information rate ',R1,'*B bits/sec'\n"
     ],
     "language": "python",
     "metadata": {},
     "outputs": [
      {
       "output_type": "stream",
       "stream": "stdout",
       "text": [
        "The average information is  1.81127812446  bits/message\n",
        "Information rate  3.62255624892 *B bits/sec\n"
       ]
      }
     ],
     "prompt_number": 2
    },
    {
     "cell_type": "heading",
     "level": 2,
     "metadata": {},
     "source": [
      "Example 13.4  Page No : 649"
     ]
    },
    {
     "cell_type": "code",
     "collapsed": false,
     "input": [
      "import math \n",
      "\n",
      "#Given bandwidth(B)  =  4000Hertz & Noise PSD(n/2)  =  10**-9 Watt/Hertz\n",
      "B  =  4000.\n",
      "n  =  2*10.**-9\n",
      "\n",
      "#Chanel capacity(C)  =  B*math.log2 (1+S/(n*B))\n",
      "\n",
      "#case 1\n",
      "#Signal energy(S)  =   0.1Joule\n",
      "S  =  0.1\n",
      "\n",
      "C  =  B*math.log (1+S/(n*B),2)\n",
      "\n",
      "print 'Channel capacity for bandwidth  =  4000Hertz, Noise PSD  =  10**-9 Watt/Hertz & Signal energy(S)  \\\n",
      "\\n=   0.1Joule is ',C,' bits/sec'\n",
      "\n",
      "#case 2\n",
      "#Signal energy(S)  =   0.001Joule\n",
      "S  =  0.001\n",
      "\n",
      "C  =  B*math.log (1+S/(n*B),2)\n",
      "\n",
      "print 'Channel capacity for bandwidth  =  4000Hertz, Noise PSD  =  10**-9 Watt/Hertz & Signal energy(S)  =   \\\n",
      "\\n0.001Joule is ',C,' bits/sec'\n",
      "\n",
      "#case 3\n",
      "#Signal energy(S)  =   0.001Joule & incresed bandwidth(B)  =  10000Hertz\n",
      "B  =  10000.\n",
      "S  =  0.001\n",
      "\n",
      "C  =  B*math.log (1+S/(n*B),2)\n",
      "\n",
      "print 'Channel capacity for bandwidth  =  10000Hertz, Noise PSD  =  10**-9 Watt/Hertz & Signal energy(S)  \\\n",
      "\\n=   0.001Joule is ',C,' bits/sec'\n"
     ],
     "language": "python",
     "metadata": {},
     "outputs": [
      {
       "output_type": "stream",
       "stream": "stdout",
       "text": [
        "Channel capacity for bandwidth  =  4000Hertz, Noise PSD  =  10**-9 Watt/Hertz & Signal energy(S)  \n",
        "=   0.1Joule is  54439.0235417  bits/sec\n",
        "Channel capacity for bandwidth  =  4000Hertz, Noise PSD  =  10**-9 Watt/Hertz & Signal energy(S)  =   \n",
        "0.001Joule is  27909.119694  bits/sec\n",
        "Channel capacity for bandwidth  =  10000Hertz, Noise PSD  =  10**-9 Watt/Hertz & Signal energy(S)  \n",
        "=   0.001Joule is  56724.2534197  bits/sec\n"
       ]
      }
     ],
     "prompt_number": 3
    },
    {
     "cell_type": "heading",
     "level": 2,
     "metadata": {},
     "source": [
      "Example 13.8  Page No : 675"
     ]
    },
    {
     "cell_type": "code",
     "collapsed": false,
     "input": [
      "#With math.single parity bit added, the code size  =  4. An error evades parity check if any 2 or all symbols ofthe code arrives are erroneous.\n",
      "#Probability of any symbol from n are erroneous  =  nCm*(p**m)*(1-p)**(n-m)\n",
      "\n",
      "#Thus, the probability of error undetected, P_undeterr  =  (4C2*(p**2)*(1-p)**2)+4C4*(p**4)  =  6*(p**2)*(1-p)**2)+(p**4)\n",
      "\n",
      "#Probability of error in detection(P_undeterr1) for p  =  0.1\n",
      "p  =  0.1\n",
      "P_undeterr1  =  6*(p**2)*((1-p)**2)+(p**4)\n",
      "\n",
      "print 'Probability of error in detection for p  =  0.1 is ',P_undeterr1\n",
      "\n",
      "#Probability of error in detection(P_undeterr2) for p  =  0.01\n",
      "p  =  0.01\n",
      "P_undeterr2  =  6*(p**2)*((1-p)**2)+(p**4)\n",
      "\n",
      "print 'Probability of error in detection for p  =  0.01 is ',P_undeterr2\n"
     ],
     "language": "python",
     "metadata": {},
     "outputs": [
      {
       "output_type": "stream",
       "stream": "stdout",
       "text": [
        "Probability of error in detection for p  =  0.1 is  0.0487\n",
        "Probability of error in detection for p  =  0.01 is  0.00058807\n"
       ]
      }
     ],
     "prompt_number": 4
    },
    {
     "cell_type": "heading",
     "level": 2,
     "metadata": {},
     "source": [
      "Example 13.11  Page No : 696"
     ]
    },
    {
     "cell_type": "code",
     "collapsed": false,
     "input": [
      "from numpy import zeros\n",
      "import math \n",
      "\n",
      "#The output equations are as follows v1  =  s1 xor s2 xor s3 & v2  =  s1 xor s3\n",
      "#the no of bits in output mode(bits_out) is v*(L+K), v  =  no of outputs for commutatot  =  2, L  =  length of input  =  3 & K  =  no of memeory elements  =  3\n",
      "v  =  2.\n",
      "L  =  3.\n",
      "K  =  3.\n",
      "bits_out  =  v*(L+K)\n",
      "\n",
      "#Taking in, s1, s2 , s3, v1 & v2 as row matrix where each column represents its corresponding input or output, in means input\n",
      "in1  =  [0, 1, 0, 1, 0, 0, 0]\n",
      "\n",
      "s1  =  zeros(7,dtype=int)\n",
      "s2  =  zeros(7,dtype=int)\n",
      "s3  =  zeros(7,dtype=int)\n",
      "v1  =  zeros(7,dtype=int)\n",
      "v2  =  zeros(7,dtype=int)\n",
      "\n",
      "for i  in range(1,7):\n",
      "    s3[i]  =  s2[i-1]\n",
      "    s2[i]  =  s1[i-1]\n",
      "    s1[i]  =  in1[i-1]\n",
      "    v1[i-1]  =  s1[i]^(s2[i]^s3[i])\n",
      "    v2[i-1]  =  (s1[i]^s3[i])\n",
      "\n",
      "#Output matrix is out\n",
      "out  =  zeros(12)\n",
      "for i  in range(0,11,2):\n",
      "    out[i]  =  v1[(i+3)/2]\n",
      "    out[i+1]  =  v2[(i+3)/2]\n",
      "\n",
      "\n",
      "print ('output is'),\n",
      "print (out)\n"
     ],
     "language": "python",
     "metadata": {},
     "outputs": [
      {
       "output_type": "stream",
       "stream": "stdout",
       "text": [
        "output is [ 1.  1.  1.  0.  0.  0.  1.  0.  1.  1.  0.  0.]\n"
       ]
      }
     ],
     "prompt_number": 7
    },
    {
     "cell_type": "heading",
     "level": 2,
     "metadata": {},
     "source": [
      "Example 13.12  Page No : 697"
     ]
    },
    {
     "cell_type": "code",
     "collapsed": false,
     "input": [
      "import math \n",
      "from numpy import zeros,array\n",
      "\n",
      "#The qeneratr matrix requires impulse response of the coder.\n",
      "#This is the ourput generated when the initially reset coder is fed with a math.single 1.\n",
      "#The no of bits in the output code  =  2(1+3)  =  8\n",
      "\n",
      "#Taking in, s1, s2 , s3, v1 & v2 as row matrix where each column represents its corresponding input or output, in means input\n",
      "in1  =  [0, 1, 0, 0, 0]\n",
      "\n",
      "s1  =  zeros(5,dtype=int)\n",
      "s2  =  zeros(5,dtype=int)\n",
      "s3  =  zeros(5,dtype=int)\n",
      "v1  =  zeros(5,dtype=int)\n",
      "v2  =  zeros(5,dtype=int)\n",
      "\n",
      "for i  in range(1,5):\n",
      "    s3[i]  =  s2[i-1]\n",
      "    s2[i]  =  s1[i-1]\n",
      "    s1[i]  =  in1[i-1]\n",
      "    v1[i-1]  =  s1[i]^(s2[i]^s3[i])\n",
      "    v2[i-1]  =  (s1[i]^s3[i])\n",
      "\n",
      "\n",
      "#Output matrix is out\n",
      "out  =  zeros(8)\n",
      "for i  in range(0,7,2):\n",
      "    out[i]  =  v1[(i+3)/2]\n",
      "    out[i+1]  =  v2[(i+3)/2]\n",
      "\n",
      "\n",
      "print ('impulse response is'),\n",
      "print (out)\n",
      "\n",
      "#Then generator matrix is G\n",
      "G  =  array([[1, 1, 1, 0, 1, 1, 0, 0, 0, 0, 0, 0],[0, 0, 1, 1, 1, 0, 1, 1, 0, 0, 0, 0],[0, 0, 0, 0, 1, 1, 1, 0, 1, 1, 0, 0]])\n",
      "\n",
      "#Note that, in G, impulse responses appear in staggered apper in a staggered manner in each row while the rest of the elements are 0.\n",
      "\n",
      "#Now, output is b_o  =  b_i*G where input b_i  = [1 0 1] \n",
      "b_i  =  array([[1], [0], [1]])\n",
      "\n",
      "b_o  =  b_i*G\n",
      "print b_o\n",
      "\n",
      "#Here multiplication means Exor operation so whereever two occurs it should be changed to 1\n",
      "\n",
      "for i  in range(12):\n",
      "    if  b_o[2,i] > 1:\n",
      "        b_o[2,i]  =  0;\n",
      "\n",
      "print ('output is '),\n",
      "print (b_o)\n",
      "#print ('The output obtained is exactly same as example 13.1')\n",
      "\n"
     ],
     "language": "python",
     "metadata": {},
     "outputs": [
      {
       "output_type": "stream",
       "stream": "stdout",
       "text": [
        "impulse response is [ 1.  1.  1.  0.  1.  1.  0.  0.]\n",
        "[[1 1 1 0 1 1 0 0 0 0 0 0]\n",
        " [0 0 0 0 0 0 0 0 0 0 0 0]\n",
        " [0 0 0 0 1 1 1 0 1 1 0 0]]\n",
        "output is  [[1 1 1 0 1 1 0 0 0 0 0 0]\n",
        " [0 0 0 0 0 0 0 0 0 0 0 0]\n",
        " [0 0 0 0 1 1 1 0 1 1 0 0]]\n"
       ]
      }
     ],
     "prompt_number": 20
    },
    {
     "cell_type": "heading",
     "level": 2,
     "metadata": {},
     "source": [
      "Example 13.14  Page No : 701"
     ]
    },
    {
     "cell_type": "code",
     "collapsed": false,
     "input": [
      "\n",
      "#Given, Tw  =  10microsec, BCH(1023973) code is used implies k as 973 & n as 1023, P_A  =  0.99, T1  =  40microsec & N  =  4\n",
      "Tw  =  10.*10**-6\n",
      "k  =  973.\n",
      "n  =  1023.\n",
      "P_A  =  0.99\n",
      "T1  =  40.*10**-6\n",
      "N  =  4.\n",
      "\n",
      "#efficiency of Stop-and-Wait ARQ(n_SandW)  =  (k/n)*(P_A/(1+(T1/Tw)))\n",
      "n_SandW  =  (k/n)*(P_A/(1+(T1/Tw)))\n",
      "\n",
      "#efficiency of Go-Back-N ARQ(n_GBN)  =  (k/n)*(1/(1+(N*(1-P_A)/P_A)))\n",
      "n_GBN  =  (k/n)*(1/(1+(N*(1-P_A)/P_A)))\n",
      "\n",
      "#efficiency of Selective Repeat ARQ(n_SR)  =  (k/n)*P_A\n",
      "n_SR  =  (k/n)*P_A\n",
      "\n",
      "print 'efficiency of Stop-and-Wait ARQ is ',n_SandW\n",
      "print 'efficiency of Go-Back-N ARQ is ',n_GBN\n",
      "print 'efficiency of Selective Repeat ARQ is ',n_SR\n"
     ],
     "language": "python",
     "metadata": {},
     "outputs": [
      {
       "output_type": "stream",
       "stream": "stdout",
       "text": [
        "efficiency of Stop-and-Wait ARQ is  0.188322580645\n",
        "efficiency of Go-Back-N ARQ is  0.914187284685\n",
        "efficiency of Selective Repeat ARQ is  0.941612903226\n"
       ]
      }
     ],
     "prompt_number": 21
    },
    {
     "cell_type": "heading",
     "level": 2,
     "metadata": {},
     "source": [
      "Example 13.15  Page No : 718"
     ]
    },
    {
     "cell_type": "code",
     "collapsed": false,
     "input": [
      "#Bit interval T  =  1/10**6  =  10**-6 sec \n",
      "T  =  10.**-6\n",
      "\n",
      "#White Noise Power Spectral Density n/2  =  10**-9 W/Hz\n",
      "n  =  2.*10**-9\n",
      "\n",
      "#Power required Ps  =  Eb/T, where Eb  =  energy per bit\n",
      "\n",
      "#For information system feedback system Eb  =  n\n",
      "Ps  =  n/T\n",
      "\n",
      "print 'power required for information system feedback system is ',Ps,' Watt'\n",
      "\n",
      "#For optimal system Ps  =  (0.69 * n)/T\n",
      "Ps  =  (0.69 * n)/T;\n",
      "\n",
      "print 'power required for optimal system is ',Ps,' Watt'\n"
     ],
     "language": "python",
     "metadata": {},
     "outputs": [
      {
       "output_type": "stream",
       "stream": "stdout",
       "text": [
        "power required for information system feedback system is  0.002  Watt\n",
        "power required for optimal system is  0.00138  Watt\n"
       ]
      }
     ],
     "prompt_number": 22
    },
    {
     "cell_type": "heading",
     "level": 2,
     "metadata": {},
     "source": [
      "Example 13.16  Page No : 719"
     ]
    },
    {
     "cell_type": "code",
     "collapsed": false,
     "input": [
      "#Given, Eb  =  10**-9Joule, n/2  =  10**-9 Watt/Hertz\n",
      "Eb  =  10.**-8\n",
      "n  =  2.*10**-9\n",
      "\n",
      "#Probability of error for trellis-decoded modulation(Pe)  =  (1/2)*erfc(math.sqrt(1.5*Eb/n))\n",
      "Pe  =  (1./2)*math.erfc(math.sqrt(1.5*Eb/n))\n",
      "\n",
      "print 'Probability of error for trellis-decoded modulation is ',Pe\n",
      "\n",
      "#Probability of error for Qpsk modulation(Pe)  =  (1/2)*erfc(math.sqrt(Eb/n))\n",
      "Pe  =  (1./2)*math.erfc(math.sqrt(Eb/n))\n",
      "\n",
      "print 'Probability of error for Qpsk modulation is ',Pe\n"
     ],
     "language": "python",
     "metadata": {},
     "outputs": [
      {
       "output_type": "stream",
       "stream": "stdout",
       "text": [
        "Probability of error for trellis-decoded modulation is  5.37555883648e-05\n",
        "Probability of error for Qpsk modulation is  0.000782701129001\n"
       ]
      }
     ],
     "prompt_number": 24
    }
   ],
   "metadata": {}
  }
 ]
}