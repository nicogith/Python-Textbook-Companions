{
 "metadata": {
  "name": "",
  "signature": "sha256:6092443e38df500fe7a1e5b5da6537d9e66b97c7391bcd33d8e0c37f87538528"
 },
 "nbformat": 3,
 "nbformat_minor": 0,
 "worksheets": [
  {
   "cells": [
    {
     "cell_type": "heading",
     "level": 1,
     "metadata": {},
     "source": [
      "Chapter 12 :  Noise in Pulse Code Modulation and Delta Modulation Systems"
     ]
    },
    {
     "cell_type": "heading",
     "level": 2,
     "metadata": {},
     "source": [
      "Example 12.2  Page No : 608"
     ]
    },
    {
     "cell_type": "code",
     "collapsed": false,
     "input": [
      "import math \n",
      "\n",
      "\n",
      "#Baseband cutoff signal fM  =  4 kHz\n",
      "fM  =  4 * 10**3;\n",
      "\n",
      "#White noise power spectral density n\n",
      "n  =  2*10**(-9);\n",
      "\n",
      "# Part (a)\n",
      "\n",
      "#Input Signal energy Si  =  0.001\n",
      "Si_a  =  0.001;\n",
      "\n",
      "#No of levels used for PCM Coding M  =  8\n",
      "M_a  =  8;\n",
      "\n",
      "N_a  =  math.log(M_a,2);\n",
      "\n",
      "#Input SNR is SNR_ip\n",
      "SNR_ip  =  Si_a/(n*fM);\n",
      "\n",
      "#Output SNR is SNR_op\n",
      "SNR_op  =  (2**(2*N_a))/(1 + (2**(2*N_a + 1))*math.erfc((SNR_ip*(1/(2*N_a))))**0.5);\n",
      "\n",
      "print 'Input SNR for (a) is %.4f'%(10*math.log10(SNR_ip)),' dB'\n",
      "print 'Output SNR (a) is %.4f'%(10*math.log10(SNR_op)),' dB'\n",
      "\n",
      "# Part (b)\n",
      "\n",
      "#Input Signal energy Si  =  0.001\n",
      "Si_b  =  0.001;\n",
      "\n",
      "#No of levels used for PCM Coding M  =  256\n",
      "M_b  =  256;\n",
      "\n",
      "N_b  =  math.log(M_b,2);\n",
      "\n",
      "#Input SNR is SNR_ip_b\n",
      "SNR_ip_b  =  Si_b/(n*fM);\n",
      "\n",
      "#Output SNR is SNR_op_b\n",
      "SNR_op_b  =  (2**(2*N_b))/(1 + (2**(2*N_b + 1))*math.erfc((SNR_ip_b*(1/(2*N_b))))**0.5);\n",
      "\n",
      "#Unfortunately in scilab the function erfc approximates the output value to a larger extent due to which an exact value cannot be obtained.\n",
      "#The difference in the textbook answer and obatined answer is significant because of converting the answer into dB.\n",
      "\n",
      "print 'Input SNR for (b) is %.4f'%(10*math.log10(SNR_ip_b)),' dB'\n",
      "print 'Output SNR for (b) is %.4f'%(10*math.log10(SNR_op_b)),' dB'\n",
      "\n",
      "# Part (c)\n",
      "\n",
      "#Input Signal energy Si  =  0.01\n",
      "Si_c  =  0.01;\n",
      "\n",
      "#No of levels used for PCM Coding M  =  256\n",
      "M_c  =  256;\n",
      "\n",
      "N_c  =  math.log(M_c,2);\n",
      "\n",
      "#Input SNR is SNR_ip_c\n",
      "SNR_ip_c  =  Si_c/(n*fM);\n",
      "\n",
      "#Output SNR is SNR_op_c\n",
      "SNR_op_c  =  (2**(2*N_c))/(1 + (2**(2*N_c + 1))*math.erfc((SNR_ip_c*(1/(2*N_c))))**0.5);\n",
      "\n",
      "print 'Input SNR for (c) is %.4f'%(10*math.log10(SNR_ip_c)),' dB'\n",
      "print 'Output SNR for (c) is %.4f'%(10*math.log10(SNR_op_c)),' dB'"
     ],
     "language": "python",
     "metadata": {},
     "outputs": [
      {
       "output_type": "stream",
       "stream": "stdout",
       "text": [
        "Input SNR for (a) is 20.9691  dB\n",
        "Output SNR (a) is 18.0618  dB\n",
        "Input SNR for (b) is 20.9691  dB\n",
        "Output SNR for (b) is 48.1648  dB\n",
        "Input SNR for (c) is 30.9691  dB\n",
        "Output SNR for (c) is 48.1648  dB\n"
       ]
      }
     ],
     "prompt_number": 3
    },
    {
     "cell_type": "heading",
     "level": 2,
     "metadata": {},
     "source": [
      "Example 12.3  Page No : 609"
     ]
    },
    {
     "cell_type": "code",
     "collapsed": false,
     "input": [
      "import math \n",
      "\n",
      "#Baseband cutoff signal fM  =  4 kHz\n",
      "fM  =  4 * 10**3;\n",
      "\n",
      "#White noise power spectral density n\n",
      "n  =  2*10**(-9);\n",
      "\n",
      "# Part (a)\n",
      "\n",
      "#Input Signal energy Si  =  0.001\n",
      "Si  =  0.001;\n",
      "\n",
      "#No of levels used for PCM Coding M  =  8\n",
      "M  =  8;\n",
      "\n",
      "N  =  math.log(M,2);\n",
      "\n",
      "#Input SNR is SNR_ip\n",
      "SNR_ip  =  Si/(n*fM);\n",
      "\n",
      "#Output SNR is SNR_op\n",
      "SNR_op  =  (2**(2*N))/(1 + (2**(2*N + 1))*math.erfc((SNR_ip*(3/(10*N))))**0.5);\n",
      "\n",
      "print 'Input SNR for (a) is ',round(10*math.log10(SNR_ip),4),' dB'\n",
      "print 'Output SNR (a) is ',round(10*math.log10(SNR_op),4),' dB'\n",
      "\n",
      "# Part (b)\n",
      "\n",
      "#Input Signal energy Si  =  0.001\n",
      "Si  =  0.001;\n",
      "\n",
      "#No of levels used for PCM Coding M  =  256\n",
      "M_b  =  256;\n",
      "\n",
      "N_b  =  math.log(M_b,2);\n",
      "\n",
      "#Input SNR is SNR_ip_b\n",
      "SNR_ip_b  =  Si/(n*fM);\n",
      "\n",
      "#Output SNR is SNR_op_b\n",
      "SNR_op_b  =  (2**(2*N_b))/(1 + (2**(2*N_b + 1))*math.erfc((SNR_ip_b*(3/(10*N_b))))**0.5);\n",
      "\n",
      "#Unfortunately in scilab the function math.erfc approximates the output value to a larger extent due to which an exact value cannot be obtained.\n",
      "#The difference in the textbook answer and obatined answer is significant because of converting the answer into dB.\n",
      "\n",
      "print 'Input SNR for (b) is ',round(10*math.log10(SNR_ip_b),4),' dB'\n",
      "print 'Output SNR for (b) is ',round(10*math.log10(SNR_op_b),4),' dB'\n",
      "\n",
      "# Part (c)\n",
      "\n",
      "#Input Signal energy Si  =  0.01\n",
      "Si  =  0.01;\n",
      "\n",
      "#No of levels used for PCM Coding M  =  256\n",
      "M  =  256;\n",
      "\n",
      "N  =  math.log(M,2);\n",
      "\n",
      "#Input SNR is SNR_ip_c\n",
      "SNR_ip_c  =  Si/(n*fM);\n",
      "\n",
      "#Output SNR is SNR_op_c\n",
      "SNR_op_c  =  (2**(2*N))/(1 + (2**(2*N + 1))*math.erfc((SNR_ip_c*(3/(10*N))))**0.5);\n",
      "\n",
      "print 'Input SNR for (c) is ',round(10*math.log10(SNR_ip_c),4),' dB'\n",
      "print 'Output SNR for (c) is ',round(10*math.log10(SNR_op_c),4),' dB'"
     ],
     "language": "python",
     "metadata": {},
     "outputs": [
      {
       "output_type": "stream",
       "stream": "stdout",
       "text": [
        "Input SNR for (a) is  20.9691  dB\n",
        "Output SNR (a) is  18.0618  dB\n",
        "Input SNR for (b) is  20.9691  dB\n",
        "Output SNR for (b) is  45.7056  dB\n",
        "Input SNR for (c) is  30.9691  dB\n",
        "Output SNR for (c) is  48.1648  dB\n"
       ]
      }
     ],
     "prompt_number": 4
    },
    {
     "cell_type": "heading",
     "level": 2,
     "metadata": {},
     "source": [
      "Example 12.4  Page No : 618"
     ]
    },
    {
     "cell_type": "code",
     "collapsed": false,
     "input": [
      "import math \n",
      "\n",
      "#Upper cut off frequecny fb  =  3200 Hz\n",
      "fM  =  3200;\n",
      "\n",
      "#Lower cut off frequecny fl  =  300 Hz\n",
      "fl  =  300;\n",
      "\n",
      "#Data rate fb  =  32000 bps\n",
      "fb  =  32000;\n",
      "\n",
      "#White noise power spectral density n\n",
      "n  =  2*10**(-9);\n",
      "\n",
      "#Input Signal energy Si  =  0.001\n",
      "Si  =  0.001;\n",
      "\n",
      "#Output SNR is SNR_op\n",
      "SNR_op  =  (0.6*(fb/fM)**3)/(1 + (0.3*(fb**2/(fl*fM)))*math.erfc(Si/(n*fb)));\n",
      "\n",
      "print 'Output SNR  is ',round(10*math.log10(SNR_op),4),'dB'\n",
      "\n",
      "#Data rate fb_n  =  32000 bps\n",
      "fb_n  =  2*32000;\n",
      "\n",
      "#Output SNR is SNR_op_n\n",
      "SNR_op_n  =  (0.6*(fb_n/fM)**3)/(1 + (0.3*(fb_n**2/(fl*fM)))*math.erfc(Si/(n*fb_n)));\n",
      "\n",
      "print 'Output SNR when data rate is doubled is ',round(10*math.log10(SNR_op_n),4),'dB'\n"
     ],
     "language": "python",
     "metadata": {},
     "outputs": [
      {
       "output_type": "stream",
       "stream": "stdout",
       "text": [
        "Output SNR  is  27.7815 dB\n",
        "Output SNR when data rate is doubled is  36.8124 dB\n"
       ]
      }
     ],
     "prompt_number": 5
    }
   ],
   "metadata": {}
  }
 ]
}