{
 "metadata": {
  "name": "",
  "signature": "sha256:f8dc032f5c3dd4da4d29257cc6b8fc2c09a9921dd62693a56f84ebfa2b7dd2cd"
 },
 "nbformat": 3,
 "nbformat_minor": 0,
 "worksheets": [
  {
   "cells": [
    {
     "cell_type": "heading",
     "level": 1,
     "metadata": {},
     "source": [
      "Chapter 7 : Mathematical Representation of Noise"
     ]
    },
    {
     "cell_type": "heading",
     "level": 2,
     "metadata": {},
     "source": [
      "Example 7.3  Page No : 413"
     ]
    },
    {
     "cell_type": "code",
     "collapsed": false,
     "input": [
      "import math \n",
      "\n",
      "#The resismath.tance R  =  1000 Ohm                                                                               \n",
      "R  =  10**3;\n",
      "\n",
      "#The Capacitance C  =  0.5*10**-6 F\n",
      "C  =  0.1*10**-6;\n",
      "\n",
      "#Cutoff frequency for RC filter is f\n",
      "f  =  1./(2*math.pi*R*C)\n",
      "\n",
      "#White noise power spectral density n\n",
      "n  =  10**(-9);\n",
      "\n",
      "#Noise power at filter output P\n",
      "P  =  (math.pi/2)*n*f;\n",
      "\n",
      "print 'Noise power at output filter is ',P,' Watt'\n",
      "\n",
      "#Noise power at filter output P_new when cutoff frequency is doubled\n",
      "P_new  =  (math.pi/2)*n*2*f;\n",
      "\n",
      "print 'Noise power at output filter when cutoff frequency is doubled is ',P_new,' Watt'\n",
      "\n",
      "#Ideal Low Pass filter Bandwidth B  =  1000 Hz\n",
      "B  =  1000.;\n",
      "\n",
      "print 'Output Noise Power is ',n*B,' Watt'\n",
      "\n",
      "print 'Output Noise Power when cut-off frequency is doubled is ',2*n*B,' Watt'\n",
      "\n",
      "#Proportionality consmath.tant T  =  0.01\n",
      "T  =  0.01;\n",
      "\n",
      "#Output noise power O\n",
      "O  =  n*(B**3)*(T**2)*(4./3)*(math.pi)**2;\n",
      "\n",
      "print 'Output Noise Power when signal is passed through a differentiator passed through ideal low pass filter %.4f'%O,' Watt'\n",
      "\n",
      "O_new  =  8*n*(B**3)*(T**2)*(4./3)*(math.pi)**2;\n",
      "\n",
      "print 'Output Noise Power when signal is passed through a differentiator passed through ideal low pass\\\n",
      "\\n filter and when cut-off frequency is doubled is %.4f'%O_new,' Watt'"
     ],
     "language": "python",
     "metadata": {},
     "outputs": [
      {
       "output_type": "stream",
       "stream": "stdout",
       "text": [
        "Noise power at output filter is  2.5e-06  Watt\n",
        "Noise power at output filter when cutoff frequency is doubled is  5e-06  Watt\n",
        "Output Noise Power is  1e-06  Watt\n",
        "Output Noise Power when cut-off frequency is doubled is  2e-06  Watt\n",
        "Output Noise Power when signal is passed through a differentiator passed through ideal low pass filter 0.0013  Watt\n",
        "Output Noise Power when signal is passed through a differentiator passed through ideal low pass\n",
        " filter and when cut-off frequency is doubled is 0.0105  Watt\n"
       ]
      }
     ],
     "prompt_number": 1
    },
    {
     "cell_type": "heading",
     "level": 2,
     "metadata": {},
     "source": [
      "Example 7.4  Page No : 413"
     ]
    },
    {
     "cell_type": "code",
     "collapsed": false,
     "input": [
      "import math \n",
      "from scipy.integrate import quad \n",
      "\n",
      "#Given signal strength S  =  0.001 W\n",
      "S  =  0.001;\n",
      "\n",
      "#Gaussian Noise Magnitude n \n",
      "n  =  10**(-8);\n",
      "\n",
      "#Frequency of signal f  =  4000 Hz\n",
      "F  =  4000.;\n",
      "\n",
      "#Noise at equalizer output N\n",
      "\n",
      "def f8(f): \n",
      "\t return n*(1+(f**2)/F**2)\n",
      "\n",
      "N  =   quad(f8,-F,F)[0]\n",
      "\n",
      "\n",
      "#Signal to Noise Ratio value is SNR\n",
      "SNR  =  S/N;\n",
      "\n",
      "print 'SNR value is ',round(10*math.log10(SNR),4),' dB'\n",
      "\n"
     ],
     "language": "python",
     "metadata": {},
     "outputs": [
      {
       "output_type": "stream",
       "stream": "stdout",
       "text": [
        "SNR value is  9.7197  dB\n"
       ]
      }
     ],
     "prompt_number": 2
    }
   ],
   "metadata": {}
  }
 ]
}