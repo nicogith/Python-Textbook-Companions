{
 "metadata": {
  "name": "",
  "signature": "sha256:5d1190452fd8a78155c5dcc449bfb6fcd6e059201f14fec3997df1e2d13de3d2"
 },
 "nbformat": 3,
 "nbformat_minor": 0,
 "worksheets": [
  {
   "cells": [
    {
     "cell_type": "heading",
     "level": 1,
     "metadata": {},
     "source": [
      "Chapter 15 : Spread Spectrum Modulation"
     ]
    },
    {
     "cell_type": "heading",
     "level": 2,
     "metadata": {},
     "source": [
      "Example 15.1  Page No : 764"
     ]
    },
    {
     "cell_type": "code",
     "collapsed": false,
     "input": [
      "import math \n",
      "\n",
      "#Signal Power data rate fb  =  100 Kbps\n",
      "fb  =  10.**5;\n",
      "\n",
      "#Signal Strength Ps  =  1 mW\n",
      "Ps  =  1*10.**(-3);\n",
      "\n",
      "#Chip frequency fs  =  100 MHz\n",
      "fs  =  10.**8;\n",
      "\n",
      "#Noise Spectral Density n  =  2*10**(-9) W/Hz\n",
      "n  =  2*10.**(-9);\n",
      "\n",
      "#Jamming Signal power is Pj  =  1 W\n",
      "Pj  =  1.;\n",
      "\n",
      "#Procesmath.sing Gain P\n",
      "P  =  fs/fb;\n",
      "print 'Procesmath.sing Gain is ',P\n",
      "\n",
      "#Bit Interval T\n",
      "T  =  1/fb;\n",
      "print 'Bit Interval is ',T,'s'\n",
      "\n",
      "#Energy per bit Eb\n",
      "Eb  =  Ps*T;\n",
      "print 'Energy per bit is ',Eb\n",
      "\n",
      "#Error Probability without jamming E_without_jamming\n",
      "E_without_jamming  =  0.5*math.erfc((Eb/(n))**0.5);\n",
      "print 'Error probability without jamming is %.4f'%E_without_jamming\n",
      "\n",
      "#Error Probability with jamming E_jamming\n",
      "E_jamming  =  0.5*math.erfc(((2*Ps*P)/(Pj))**0.5);\n",
      "print 'Error probability jamming is %.4f'%E_jamming\n",
      "\n",
      "\n"
     ],
     "language": "python",
     "metadata": {},
     "outputs": [
      {
       "output_type": "stream",
       "stream": "stdout",
       "text": [
        "Procesmath.sing Gain is  1000.0\n",
        "Bit Interval is  1e-05 s\n",
        "Energy per bit is  1e-08\n",
        "Error probability without jamming is 0.0008\n",
        "Error probability jamming is 0.0228\n"
       ]
      }
     ],
     "prompt_number": 1
    },
    {
     "cell_type": "heading",
     "level": 2,
     "metadata": {},
     "source": [
      "Example 15.2  Page No : 764"
     ]
    },
    {
     "cell_type": "code",
     "collapsed": false,
     "input": [
      "#Chip Rate fc  =  110 MHz\n",
      "fc  =  10*10**6;\n",
      "Tc  =  1./fc;\n",
      "\n",
      "#Delay D  =  0.1 ms\n",
      "D  =  0.1*10**-3;\n",
      "\n",
      "#Speed of light c  =  3*10**8 Kmps\n",
      "c  =  3*10**8;\n",
      "\n",
      "#Estimated Dismath.tance d\n",
      "d  =  0.5*c*D;\n",
      "\n",
      "#Tolerance Tol\n",
      "Tol  =  0.5*c*Tc;\n",
      "\n",
      "print 'The target is between ',d-Tol,' metres and ',d+Tol,' metres of the source.'\n"
     ],
     "language": "python",
     "metadata": {},
     "outputs": [
      {
       "output_type": "stream",
       "stream": "stdout",
       "text": [
        "The target is between  14985.0  metres and  15015.0  metres of the source.\n"
       ]
      }
     ],
     "prompt_number": 3
    },
    {
     "cell_type": "heading",
     "level": 2,
     "metadata": {},
     "source": [
      "Example 15.3  Page No : 769"
     ]
    },
    {
     "cell_type": "code",
     "collapsed": false,
     "input": [
      "\n",
      "#Number of Flip Flops N\n",
      "N  =  13.;\n",
      "\n",
      "#Maximal length of sequence L\n",
      "L  =  2**N - 1;\n",
      "\n",
      "#Upper Bound S\n",
      "S  =  (L - 1)/N;\n",
      "\n",
      "#No of basic sequences and mirror images\n",
      "print 'No of basic sequences and mirror images is ',S/2\n"
     ],
     "language": "python",
     "metadata": {},
     "outputs": [
      {
       "output_type": "stream",
       "stream": "stdout",
       "text": [
        "No of basic sequences and mirror images is  315.0\n"
       ]
      }
     ],
     "prompt_number": 4
    }
   ],
   "metadata": {}
  }
 ]
}