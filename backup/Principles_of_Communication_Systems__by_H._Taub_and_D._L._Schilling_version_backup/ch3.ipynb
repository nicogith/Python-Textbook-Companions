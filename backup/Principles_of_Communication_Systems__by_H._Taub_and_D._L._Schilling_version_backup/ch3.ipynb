{
 "metadata": {
  "name": "",
  "signature": "sha256:1649084fc90216ec80694b60fab793ace26ae9ec3091cc288c368f6a407fd858"
 },
 "nbformat": 3,
 "nbformat_minor": 0,
 "worksheets": [
  {
   "cells": [
    {
     "cell_type": "heading",
     "level": 1,
     "metadata": {},
     "source": [
      "Chapter 3 : Amplitude Modulation Systems"
     ]
    },
    {
     "cell_type": "heading",
     "level": 2,
     "metadata": {},
     "source": [
      "Example 3.4  Page No : 163"
     ]
    },
    {
     "cell_type": "code",
     "collapsed": false,
     "input": [
      "#Transmission power effiency n  =  ((m**2)/(2+(m**2)))*100% where m is modulated index\n",
      "\n",
      "#Given modulated indices are m1  =  0.25, m2  =  0.5 & m3  =  0.75\n",
      "\n",
      "#Transmission power effiencies are n1, n2 & n3 respectively for m1, m2 & m3\n",
      "n1  =  ((0.25**2)/(2+(0.25**2)))*100\n",
      "n2  =  ((0.5**2)/(2+(0.5**2)))*100\n",
      "n3  =  ((0.75**2)/(2+(0.75**2)))*100\n",
      "\n",
      "print 'Transmission power effiency for modulated index 0.25 is ',n1, '%'\n",
      "print 'Transmission power effiency for modulated index 0.5 is ',n2, '%'\n",
      "print 'Transmission power effiency for modulated index 0.75 is ',n3, '%'\n"
     ],
     "language": "python",
     "metadata": {},
     "outputs": [
      {
       "output_type": "stream",
       "stream": "stdout",
       "text": [
        "Transmission power effiency for modulated index 0.25 is  3.0303030303 %\n",
        "Transmission power effiency for modulated index 0.5 is  11.1111111111 %\n",
        "Transmission power effiency for modulated index 0.75 is  21.9512195122 %\n"
       ]
      }
     ],
     "prompt_number": 1
    },
    {
     "cell_type": "heading",
     "level": 2,
     "metadata": {},
     "source": [
      "Example 3.7  Page No : 185"
     ]
    },
    {
     "cell_type": "code",
     "collapsed": false,
     "input": [
      "import math \n",
      "\n",
      "#Given input inmedance of matching networkis R1  =  10 ohm & output impedance of matching networ is R2  =  50 ohm & carrier frequency is fc  =  500 KHz\n",
      "R1  =  10.\n",
      "R2  =  50.\n",
      "fc  =  500000.\n",
      "\n",
      "#Wc  =  2*pi*fc\n",
      "Wc  =  2*math.pi*fc\n",
      "\n",
      "#AS R1  =  R2*(X2**2)/[(R2**2)+(X2**2)], X2  =  25ohm\n",
      "X2  =  25\n",
      "\n",
      "#AS X1  =  (R2**2)*X2/[(R2**2)+(X2**2)] & R1>R2, X1  =  -20ohm\n",
      "X1  =  -20\n",
      "\n",
      "#|X1|  =  |jwL|  =  wL  =  20 & |X2|  =  |1/jwC|  =  1/wC  =  25, so |X1*X2|  =  L/C  =  500 denotes as LC_div\n",
      "LC_div  =  500\n",
      "\n",
      "#Wc**2  =  1/(L*C). LC is denoted as LC_prod\n",
      "LC_prod  =  1/(Wc**2)\n",
      "\n",
      "#In the textbook the calculated LC  =  10**-3, in reality the value of LC  =  1.013D-13\n",
      " \n",
      "L  =  math.sqrt(LC_div*LC_prod)\n",
      "\n",
      "#In the textbook the calculated L**2  =  50*10**-14, in reality the value of L**2  =  5.066D-11  \n",
      " \n",
      "C  =  L/500\n",
      "\n",
      "#In the textbook the calculated C  =  1.4*10**-9, in reality the value of C  =  1.424D-08  \n",
      "\n",
      "print 'Inductance ',L,' H'\n",
      "print 'Capacitance ',C,' F'\n"
     ],
     "language": "python",
     "metadata": {},
     "outputs": [
      {
       "output_type": "stream",
       "stream": "stdout",
       "text": [
        "Inductance  7.11762543417e-06  H\n",
        "Capacitance  1.42352508683e-08  F\n"
       ]
      }
     ],
     "prompt_number": 2
    },
    {
     "cell_type": "heading",
     "level": 2,
     "metadata": {},
     "source": [
      "Example 3.8  Page No : 185"
     ]
    },
    {
     "cell_type": "code",
     "collapsed": false,
     "input": [
      "\n",
      "#Given ohmnic loss resismath.tance is Ro  =  12 Ohm,  \n",
      "Ro  =  12.\n",
      "#radiation resismath.tance is Rr  =  48 Ohm,\n",
      "Rr  =  48.\n",
      "#directivity is D  =  2\n",
      "D  =  2.\n",
      "#Input current  =  0.1*math.cos[2*pi*(10**6)*t], Amplitude of input current is A  =  0.1 Amp\n",
      "A  =  0.1\n",
      "#Equivalent resismath.tance  =  Re  =  Ro+Rr\n",
      "Re  =  Ro+Rr\n",
      "\n",
      "#Total power used in antenna  =  Pin  =  (A**2)*Re/2\n",
      "Pin  =  (A**2)*Re/2\n",
      "\n",
      "#Power used in radiation  =  Prad  =  (A**2)*Rr/2\n",
      "Prad  =  (A**2)*Rr/2\n",
      "\n",
      "#Efficiency of the antenna  =  n  =  Prad/Pin\n",
      "n  =  Prad/Pin\n",
      "\n",
      "#Gain of antenna  =  Ga  =  efficiency*directivity\n",
      "Ga  =  n*D\n",
      "\n",
      "print 'Total power used in antenna ',Pin,' Watt'\n",
      "print 'Power used in radiation ',Prad,' Watt'\n",
      "print 'Efficiency of the antenna ',n\n",
      "print 'Gain of antenna ',Ga\n"
     ],
     "language": "python",
     "metadata": {},
     "outputs": [
      {
       "output_type": "stream",
       "stream": "stdout",
       "text": [
        "Total power used in antenna  0.3  Watt\n",
        "Power used in radiation  0.24  Watt\n",
        "Efficiency of the antenna  0.8\n",
        "Gain of antenna  1.6\n"
       ]
      }
     ],
     "prompt_number": 4
    }
   ],
   "metadata": {}
  }
 ]
}