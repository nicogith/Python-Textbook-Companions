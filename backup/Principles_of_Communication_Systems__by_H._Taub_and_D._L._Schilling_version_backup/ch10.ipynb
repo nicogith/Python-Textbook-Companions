{
 "metadata": {
  "name": "",
  "signature": "sha256:27698e05ca0687e49152de2be00b6487a679eb1619075fb3f36b6fb9f0cc56a0"
 },
 "nbformat": 3,
 "nbformat_minor": 0,
 "worksheets": [
  {
   "cells": [
    {
     "cell_type": "heading",
     "level": 1,
     "metadata": {},
     "source": [
      "Chapter 10 : Phase Locked Loops"
     ]
    },
    {
     "cell_type": "heading",
     "level": 2,
     "metadata": {},
     "source": [
      "Example 10.3  Page No : 520"
     ]
    },
    {
     "cell_type": "code",
     "collapsed": false,
     "input": [
      "import math \n",
      "#page 520\n",
      "#problem 10.3\n",
      "\n",
      "# Part (a)\n",
      "\n",
      "#Input SNR SNR_ip\n",
      "SNR_ip  =  1000.;\n",
      "\n",
      "#Beta B\n",
      "B  =  10.;\n",
      "\n",
      "#Output SNR SNR_op\n",
      "SNR_op  =  (1.5*(B**2)*SNR_ip)/(1 + (12*B/math.pi)*(SNR_ip)*math.exp(-0.5*(1/(B+1))*(SNR_ip)));\n",
      "\n",
      "print 'Output SNR  is ',10*math.log10(SNR_op),' dB'\n",
      "\n",
      "# Part (b)\n",
      "\n",
      "#Input SNR SNR_ip\n",
      "SNR_ip  =  10;\n",
      "\n",
      "#Output SNR SNR_op\n",
      "SNR_op  =  (1.5*(B**2)*SNR_ip)/(1 + (12*B/math.pi)*(SNR_ip)*math.exp(-0.5*(1/(B+1))*(SNR_ip)));\n",
      "\n",
      "print 'Output SNR  is ',10*math.log10(SNR_op),' dB',\n"
     ],
     "language": "python",
     "metadata": {},
     "outputs": [
      {
       "output_type": "stream",
       "stream": "stdout",
       "text": [
        "Output SNR  is  51.7609125906  dB\n",
        "Output SNR  is  7.89678888644  dB\n"
       ]
      }
     ],
     "prompt_number": 1
    },
    {
     "cell_type": "heading",
     "level": 2,
     "metadata": {},
     "source": [
      "Example 10.5  Page No : 533"
     ]
    },
    {
     "cell_type": "code",
     "collapsed": false,
     "input": [
      "\n",
      "#Given reference frequency is fref  =  10 MHz\n",
      "fref  =  10. * 10**6;\n",
      "\n",
      "#Given step frequency is fstep  =  100 KHz\n",
      "fstep  =  100. * 10**3;\n",
      "\n",
      "#Division ratio M\n",
      "M  =  fref/fstep;\n",
      "\n",
      "#Required output frequency F  =  100.6 MHz\n",
      "F  =  100.6 * 10**6;\n",
      "\n",
      "N  =  F/fstep;\n",
      "\n",
      "#Given P  =  64\n",
      "P  =  64;\n",
      "\n",
      "#Truncating value B  =  15\n",
      "B  =  15;\n",
      "\n",
      "A  =  N - P*B;\n",
      "\n",
      "print 'The value of A is ',A\n",
      "print 'The value of B is ',B\n",
      "print 'The value of M is ',M"
     ],
     "language": "python",
     "metadata": {},
     "outputs": [
      {
       "output_type": "stream",
       "stream": "stdout",
       "text": [
        "The value of A is  46.0\n",
        "The value of B is  15\n",
        "The value of M is  100.0\n"
       ]
      }
     ],
     "prompt_number": 2
    },
    {
     "cell_type": "heading",
     "level": 2,
     "metadata": {},
     "source": [
      "Example 10.7  Page No : 534"
     ]
    },
    {
     "cell_type": "code",
     "collapsed": false,
     "input": [
      "\n",
      "#Given reference frequency for PLL is fref  =  0.48 MHz\n",
      "fref  =  0.48 * 10**6;\n",
      "\n",
      "#Frequency divider N  =  2000\n",
      "N  =  2000;\n",
      "\n",
      "#Output Frequency fout\n",
      "fout  =  fref*N;\n",
      "\n",
      "#Output Frequency favg\n",
      "favg  =  (2000*15 + 2001*1)*(0.48/16) * 10**6;\n",
      "\n",
      "print 'Output frequency is ',fout,' Hz'\n",
      "\n",
      "#Reference frequency is not subdivided before going to comparator and it is an integer divider in the feedback path the frequency resolution fres  =  0.48 * 10**6;\n",
      "fres  =  0.48 * 10**6;\n",
      "\n",
      "print 'Frequency resolution is ',fres,' Hz'\n",
      "print 'Output frequency resolution is ',favg - fout,' Hz'\n",
      "\n"
     ],
     "language": "python",
     "metadata": {},
     "outputs": [
      {
       "output_type": "stream",
       "stream": "stdout",
       "text": [
        "Output frequency is  960000000.0  Hz\n",
        "Frequency resolution is  480000.0  Hz\n",
        "Output frequency resolution is  30000.0  Hz\n"
       ]
      }
     ],
     "prompt_number": 3
    }
   ],
   "metadata": {}
  }
 ]
}