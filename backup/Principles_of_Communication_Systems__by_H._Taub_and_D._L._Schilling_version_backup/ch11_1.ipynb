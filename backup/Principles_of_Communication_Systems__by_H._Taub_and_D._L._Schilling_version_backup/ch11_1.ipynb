{
 "metadata": {
  "name": "",
  "signature": "sha256:b5eed219ddf2edde216e25f68516d3361d68b41f3deb28b12952f4e6fd97e471"
 },
 "nbformat": 3,
 "nbformat_minor": 0,
 "worksheets": [
  {
   "cells": [
    {
     "cell_type": "heading",
     "level": 1,
     "metadata": {},
     "source": [
      "Chapter 11 : Optimal Reception of Digital Signal"
     ]
    },
    {
     "cell_type": "heading",
     "level": 2,
     "metadata": {},
     "source": [
      "Example 11.3  Page No : 558"
     ]
    },
    {
     "cell_type": "code",
     "collapsed": false,
     "input": [
      "import math \n",
      "\n",
      "#Prior probability of s1 P_s1  =  0.4\n",
      "P_s1  =  0.4;\n",
      "\n",
      "#Prior probability of s2 P_s2  =  1 - P_s1\n",
      "P_s2  =  1 - P_s1;\n",
      "\n",
      "#Voltage level V1  =  1\n",
      "V1  =  1;\n",
      "\n",
      "#Voltage level V2  =  -1\n",
      "V2  =  -1;\n",
      "\n",
      "#Part a\n",
      "\n",
      "#Noise Variance sigma1  =  10**-3\n",
      "sigma1  =  10**-3;\n",
      "\n",
      "#Descision Threshold lambda1 \n",
      "lambda1  =  (V1+V2)/2 + (sigma1)*math.log(P_s2/P_s1)/(V1-V2);\n",
      "\n",
      "#Probability of error Pe\n",
      "Pe  =  0.5*(2*P_s1 - P_s1*math.erfc(((V2-V1)/(2*sigma1*2**0.5)) + (sigma1)*math.log(P_s2/P_s1)/((V1-V2)*2**0.5)));\n",
      "\n",
      "print 'The decision threshold is %f'%lambda1,' V'\n",
      "print 'The probability of error is approximately ',Pe#Part b\n",
      "\n",
      "#Noise Variance sigma2  =  10**-1\n",
      "sigma2  =  10**-1;\n",
      "\n",
      "#Descision Threshold lambda2\n",
      "lambda2  =  (V1+V2)/2 + (sigma2)*math.log(P_s2/P_s1)/(V1-V2);\n",
      "\n",
      "#Probability of error Pe\n",
      "Pe1  =  0.5*(2*P_s1 - P_s1*math.erfc(((V2-V1)/(2*sigma2*2**0.5)) + (sigma2)*math.log(P_s2/P_s1)/((V1-V2)*2**0.5)));\n",
      "\n",
      "#In the textbook Pe has been calulated to be 0.0021 because of the use of a very high precision calculator, unfortunately in scilab the function erfc approximates the output value to a larger extent due to which an exact value cannot be obtained.\n",
      "\n",
      "print 'The decision threshold is %f'%lambda2,' V'\n",
      "print 'The probability of error is approximately ',Pe1"
     ],
     "language": "python",
     "metadata": {},
     "outputs": [
      {
       "output_type": "stream",
       "stream": "stdout",
       "text": [
        "The decision threshold is 0.000203  V\n",
        "The probability of error is approximately  0.0\n",
        "The decision threshold is 0.020273  V\n",
        "The probability of error is approximately  0.0\n"
       ]
      }
     ],
     "prompt_number": 3
    },
    {
     "cell_type": "heading",
     "level": 2,
     "metadata": {},
     "source": [
      "Example 11.4  Page No : 559"
     ]
    },
    {
     "cell_type": "code",
     "collapsed": false,
     "input": [
      "import math \n",
      "\n",
      "#Part b\n",
      "\n",
      "#Voltage level V1  =  1\n",
      "V1  =  1;\n",
      "\n",
      "#Voltage level V2  =  -1\n",
      "V2  =  -1;\n",
      "\n",
      "#Prior probability of s1 P_s1  =  0.4\n",
      "P_s1  =  0.4;\n",
      "\n",
      "#Prior probability of s2 P_s2  =  1 - P_s1\n",
      "P_s2  =  1 - P_s1;\n",
      "\n",
      "#Cost of selecting s1 when s2 is transmitted C12  =  0.7\n",
      "C12  =  0.7;\n",
      "\n",
      "#Cost of selecting s2 when s1 is transmitted C21  =  1 - C12\n",
      "C21  =  1 - C12;\n",
      "\n",
      "#Noise Variance sigma  =  10**-3\n",
      "sigma  =  10**-3;\n",
      "\n",
      "#Descision Threshold lambda\n",
      "lambda1  =  (V1+V2)/2 + (sigma)*math.log((C12*P_s2)/(C21*P_s1))/(V1-V2);\n",
      "\n",
      "print 'The decision threshold is %f'%lambda1,' V'\n"
     ],
     "language": "python",
     "metadata": {},
     "outputs": [
      {
       "output_type": "stream",
       "stream": "stdout",
       "text": [
        "The decision threshold is 0.000626  V\n"
       ]
      }
     ],
     "prompt_number": 4
    },
    {
     "cell_type": "heading",
     "level": 2,
     "metadata": {},
     "source": [
      "Example 11.5  Page No : 567"
     ]
    },
    {
     "cell_type": "code",
     "collapsed": false,
     "input": [
      "import math \n",
      "\n",
      "#The voltage level of reciever is V  =  5 mV\n",
      "V  =  5*10**-3;\n",
      "\n",
      "#The time required to transfer one bit is T  =  1/9600 sec\n",
      "T  =  9600**-1;\n",
      "\n",
      "#the signal energy of a bit be Es\n",
      "Es  =  (V**2)*T;\n",
      "\n",
      "#The power spectral density is n/2  =  10**-9 Watt/hertz\n",
      "n  =  2*10**-9;\n",
      "\n",
      "#Probability error for optimal reciever is Pe\n",
      "Pe  =  0.5*math.erfc((Es/n)**0.5);\n",
      "\n",
      "print 'The probability of error is %.4f'%Pe\n",
      "\n",
      "#When the data rate is doubled, the new effective energy per bit is Es_new\n",
      "Es_new  =  (V**2)*(T/2);\n",
      "\n",
      "#The new probability of error is Pe_new\n",
      "Pe_new  =  0.5*math.erfc((Es_new/n)**0.5);\n",
      "\n",
      "#Percentage increase in error rate is P\n",
      "P  =  100*(Pe_new - Pe)/Pe;\n",
      "\n",
      "print 'Percentage increase in error rate is %.4f'%P\n",
      "\n",
      "#Voltage required to restore probability levels, V_new\n",
      "V_new  =  V*2**0.5;\n",
      "\n",
      "print 'Voltage required to restore the probability levels is %.4f'%V_new,' Volts'\n"
     ],
     "language": "python",
     "metadata": {},
     "outputs": [
      {
       "output_type": "stream",
       "stream": "stdout",
       "text": [
        "The probability of error is 0.0533\n",
        "Percentage increase in error rate is 138.1549\n",
        "Voltage required to restore the probability levels is 0.0071  Volts\n"
       ]
      }
     ],
     "prompt_number": 5
    },
    {
     "cell_type": "heading",
     "level": 2,
     "metadata": {},
     "source": [
      "Example 11.6  Page No : 575"
     ]
    },
    {
     "cell_type": "code",
     "collapsed": false,
     "input": [
      "import math \n",
      "\n",
      "#Amplitude of signal is A  =  10 mV\n",
      "A  =  10*10**-3;\n",
      "\n",
      "#Power Spectral Density n  =  2 * 10**(-9) W/Hz\n",
      "n  =  2 * 10**(-9);\n",
      "\n",
      "#Frequency is f  =  1 MHz\n",
      "f  =  1.*10**6;\n",
      "\n",
      "#Data rate is D  =  10**4 bps;\n",
      "D  =  10.**4;\n",
      "\n",
      "#Time taken for a bit to traverse\n",
      "T  =  1/D;\n",
      "\n",
      "#Energy per signal element is Es\n",
      "Es  =  A**2/(2*D);\n",
      "\n",
      "#Probability of error Pe\n",
      "Pe  =  0.5*math.erfc((Es/n)**0.5);\n",
      "\n",
      "print 'Probability of error is %.4f'%Pe\n",
      "\n",
      "#Phase shift phi  =  math.pi/6\n",
      "phi  =  math.pi/6;\n",
      "\n",
      "#Probability of error Pe_local_oscillator\n",
      "Pe_local_oscillator  =  0.5*math.erfc(((Es/n)**0.5)*math.cos(phi));\n",
      "\n",
      "print 'Probability of error of local oscillator with phase shift is %.4f'%Pe_local_oscillator\n",
      "#Timing error t\n",
      "t  =  0.1*T;\n",
      "#Probability of error when there is a synchronization fault Pe_timing_error\n",
      "Pe_timing_error  =  0.5*math.erfc(((Es/n)*(1 - 2*(t/T))**2)**0.5);\n",
      "\n",
      "print 'Probability of error with synchronization fault is %.4f'%Pe_timing_error\n",
      "#Probability of error when both faults occur Pe_both\n",
      "Pe_both  =  0.5*math.erfc(((Es/n)*(math.cos(phi)**2)*(1 - 2*(t/T))**2)**0.5);\n",
      "\n",
      "print 'Probability of error when both faults occur %.4f'%Pe_both"
     ],
     "language": "python",
     "metadata": {},
     "outputs": [
      {
       "output_type": "stream",
       "stream": "stdout",
       "text": [
        "Probability of error is 0.0127\n",
        "Probability of error of local oscillator with phase shift is 0.0264\n",
        "Probability of error with synchronization fault is 0.0368\n",
        "Probability of error when both faults occur 0.0607\n"
       ]
      }
     ],
     "prompt_number": 6
    },
    {
     "cell_type": "heading",
     "level": 2,
     "metadata": {},
     "source": [
      "Example 11.7  Page No : 575"
     ]
    },
    {
     "cell_type": "code",
     "collapsed": false,
     "input": [
      "import math \n",
      "\n",
      "#Amplitude of signal is A  =  10 mV\n",
      "A  =  10.*10**-3\n",
      "#Power Spectral Density n  =  2 * 10**(-9) W/Hz\n",
      "n  =  2. * 10**(-9);\n",
      "#Data rate is D  =  10**4 bps;\n",
      "D  =  10.**4;\n",
      "#Time taken for a bit to traverse\n",
      "T  =  1/D;\n",
      "#Energy per signal element is Es\n",
      "Es  =  A**2/(2*D);\n",
      "#Probability of error Pe_a\n",
      "Pe_a  =  0.5*math.erfc((0.6*Es/n)**0.5);\n",
      "\n",
      "print 'Probability of error when offset is small is %.4f'%Pe_a\n",
      "\n",
      "#Probability of error Pe_b\n",
      "Pe_b  =  0.5*math.erfc((Es/(2*n))**0.5);\n",
      "print 'Probability of error when frequencies used are orthogonal is %.4f'%Pe_b\n",
      "#Probability of error Pe_c\n",
      "Pe_c  =  0.5*math.exp(-(Es/(2*n)));\n",
      "print 'Probability of error for non coherent detection is %.4f'%Pe_c"
     ],
     "language": "python",
     "metadata": {},
     "outputs": [
      {
       "output_type": "stream",
       "stream": "stdout",
       "text": [
        "Probability of error when offset is small is 0.0416\n",
        "Probability of error when frequencies used are orthogonal is 0.0569\n",
        "Probability of error for non coherent detection is 0.1433\n"
       ]
      }
     ],
     "prompt_number": 7
    },
    {
     "cell_type": "heading",
     "level": 2,
     "metadata": {},
     "source": [
      "Example 11.8  Page No : 588"
     ]
    },
    {
     "cell_type": "code",
     "collapsed": false,
     "input": [
      "import math \n",
      "\n",
      "#Energy aasosciated with each bit Eb  =  5 * 10**(-8) J\n",
      "Eb  =  5. * 10**(-8);\n",
      "\n",
      "#Power Spectral Density n  =  2 * 10**(-9) W/Hz\n",
      "n  =  2. * 10**(-9);\n",
      "\n",
      "#No of symbols M\n",
      "M  =  16.\n",
      "\n",
      "#No of bits N\n",
      "N  =  math.log(M,2);\n",
      "\n",
      "#Error limit for 16-PSK is P_16_PSK\n",
      "P_16_PSK  =  math.erfc(((N*Eb*(math.pi)**2)/(((M)**2)*n))**0.5);\n",
      "\n",
      "print 'Upper limit of error probability of 16 PSK system is %.4f'%P_16_PSK\n",
      "\n",
      "#Error limit for 16-QASK is P_16_QASK\n",
      "P_16_QASK  =  2*math.erfc(((0.4*Eb)/(n))**0.5);\n",
      "\n",
      "print 'Upper limit of error probability of 16 QASK system is %.4e'%P_16_QASK\n",
      "\n",
      "#Error limit for 16-FSK is P_16_FSK\n",
      "P_16_FSK  =  ((2**4 - 1)/2.)*math.erfc(((N*Eb)/(2*n))**0.5);\n",
      "\n",
      "print 'Upper limit of error probability of 16 FSK system is %.4e'%P_16_FSK,', negligibly small'\n"
     ],
     "language": "python",
     "metadata": {},
     "outputs": [
      {
       "output_type": "stream",
       "stream": "stdout",
       "text": [
        "Upper limit of error probability of 16 PSK system is 0.0055\n",
        "Upper limit of error probability of 16 QASK system is 1.5488e-05\n",
        "Upper limit of error probability of 16 FSK system is 1.1430e-22 , negligibly small\n"
       ]
      }
     ],
     "prompt_number": 8
    },
    {
     "cell_type": "heading",
     "level": 2,
     "metadata": {},
     "source": [
      "Example 11.9  Page No : 595"
     ]
    },
    {
     "cell_type": "code",
     "collapsed": false,
     "input": [
      "import math \n",
      "\n",
      "#Energy aasosciated with each bit Eb  =  5 * 10**(-8) J\n",
      "Eb  =  5 * 10**(-8);\n",
      "\n",
      "#Power Spectral Density n  =  2 * 10**(-9) W/Hz\n",
      "n  =  2 * 10**(-9);\n",
      "\n",
      "#Probability of error Pe\n",
      "Pe  =  0.5*math.erfc(((Eb*(math.pi)**2)/(16*n))**0.5);\n",
      "\n",
      "print 'Probability of error of QPR system is %.3e'%Pe\n",
      "\n",
      "#Given Bandwidth of channel is BW\n",
      "BW  =  10*10**3;\n",
      "\n",
      "D  =  2*BW;\n",
      "\n",
      "print 'Data rate is ',D,' bps'\n",
      "\n"
     ],
     "language": "python",
     "metadata": {},
     "outputs": [
      {
       "output_type": "stream",
       "stream": "stdout",
       "text": [
        "Probability of error of QPR system is 1.399e-08\n",
        "Data rate is  20000  bps\n"
       ]
      }
     ],
     "prompt_number": 9
    }
   ],
   "metadata": {}
  }
 ]
}