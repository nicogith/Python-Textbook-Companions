{
 "metadata": {
  "name": "",
  "signature": "sha256:a993ba51de66235aa9f8b1ef65dfd46d5d9cfe33502dec1ee15f6f2cabfe0da6"
 },
 "nbformat": 3,
 "nbformat_minor": 0,
 "worksheets": [
  {
   "cells": [
    {
     "cell_type": "heading",
     "level": 1,
     "metadata": {},
     "source": [
      "Chapter 8 : Noise in Amplitude Modulation System"
     ]
    },
    {
     "cell_type": "heading",
     "level": 2,
     "metadata": {},
     "source": [
      "Example 8.1  Page No : 436"
     ]
    },
    {
     "cell_type": "code",
     "collapsed": false,
     "input": [
      "\n",
      "#Given frequency range fc =  1MHz to fc  =  1.0005Mhz\n",
      "#Single side message bandwidth is fM\n",
      "fM =  (1.0005 - 1)*10**6;\n",
      "print 'Message bandwidth is ',fM,' Hz'\n",
      "#The textbook contains a calculation error here. The calculated fM in the textbook is 500kHz instead of 5kHz, following which all the solutions are erroneous  \n",
      "\n",
      "#Given input signal strength Si =  1mW\n",
      "#Let output signal strength be So\n",
      "#So = Si/4\n",
      "Si =  10.**(-3);\n",
      "So =  Si/4;\n",
      "print 'Signal output strength is ',So,' dB'\n",
      "\n",
      "#Given Power Spectral Density n  =  10**-9 W/Hz\n",
      "#Let output noise strength be No\n",
      "n =  10.**-9;\n",
      "No =  (n*fM)/4;\n",
      "print 'Output Noise Strength is ',No,' dB'\n",
      "\n",
      "#Let SNR at filter output be SNR\n",
      "SNR =  So / No;\n",
      "print 'Output SNR is ',SNR,' dB'\n",
      "\n",
      "#By reduction of message signal Bandwidth the Output Noise strength changes\n",
      "#Let the new output noise strength, bandwidth and SNR be be No_new, fM_new and SNR_new respectively\n",
      "fM_new  =  75./100*fM;\n",
      "No_new  =  n*fM_new/4;\n",
      "SNR_new  =  So / No_new;\n",
      "\n",
      "print 'Changed SNR is %.4f'%SNR_new,' dB'"
     ],
     "language": "python",
     "metadata": {},
     "outputs": [
      {
       "output_type": "stream",
       "stream": "stdout",
       "text": [
        "Message bandwidth is  500.0  Hz\n",
        "Signal output strength is  0.00025  dB\n",
        "Output Noise Strength is  1.25e-07  dB\n",
        "Output SNR is  2000.0  dB\n",
        "Changed SNR is 2666.6667  dB\n"
       ]
      }
     ],
     "prompt_number": 1
    },
    {
     "cell_type": "heading",
     "level": 2,
     "metadata": {},
     "source": [
      "Example 8.2  Page No : 436"
     ]
    },
    {
     "cell_type": "code",
     "collapsed": false,
     "input": [
      "#Given frequency range fc - fm  =  0.995MHz to fc + fm  =  1.005Mhz\n",
      "#Double side message bandwidth is fM\n",
      "fM =  (1.005 - 0.995)*10**6 / 2;\n",
      "print 'Message bandwidth is ',fM,' Hz'\n",
      "#The textbook contains a calculation error here.\n",
      "#The calculated fM in the textbook is 500kHz instead of 5kHz,\n",
      "#Following which all the solutions obtained here are erroneous.\n",
      "\n",
      "#Given input signal strength Si =  1mW\n",
      "#Let output signal strength be So\n",
      "#So = Si/2\n",
      "Si =  10.**(-3);\n",
      "So =  Si/2;\n",
      "print 'Signal output strength is ',So,' dB'\n",
      "\n",
      "#Given Power Spectral Density n  =  10**-9 W/Hz\n",
      "#Let output noise strength be No\n",
      "n =  10.**-9;\n",
      "No =  (n*fM)/2;\n",
      "print 'Output Noise Strength is ',No,' dB'\n",
      "\n",
      "#Let SNR at filter output be SNR\n",
      "SNR =  So / No;\n",
      "print 'Output SNR of the DSB-SC wave is ',SNR,' dB'\n",
      "\n",
      "#By reduction of message signal Bandwidth the Output Noise strength changes\n",
      "#Let the new output noise strength, bandwidth and SNR be be No_new, fM_new and SNR_new respectively\n",
      "fM_new  =  75./100*fM;\n",
      "No_new  =  n*fM_new/4;\n",
      "SNR_new  =  So / No_new;\n",
      "print 'Changed SNR is %.4f'%SNR_new,' dB'"
     ],
     "language": "python",
     "metadata": {},
     "outputs": [
      {
       "output_type": "stream",
       "stream": "stdout",
       "text": [
        "Message bandwidth is  5000.0  Hz\n",
        "Signal output strength is  0.0005  dB\n",
        "Output Noise Strength is  2.5e-06  dB\n",
        "Output SNR of the DSB-SC wave is  200.0  dB\n",
        "Changed SNR is 533.3333  dB\n"
       ]
      }
     ],
     "prompt_number": 2
    },
    {
     "cell_type": "heading",
     "level": 2,
     "metadata": {},
     "source": [
      "Example 8.3  Page No : 446"
     ]
    },
    {
     "cell_type": "code",
     "collapsed": false,
     "input": [
      "#Given bandwidth of signal is fM  =  4kHZ\n",
      "fM  =  4.*10**3;\n",
      "#Given power spectral density of white noise n  =  2*10**-9 W/Hz\n",
      "n  =  2.*10**-9;\n",
      "#Also given that minimum output SNR is 40dB\n",
      "#Signal undergoes a loss of 30dB\n",
      "\n",
      "#For SSB:\n",
      "# Required minimum output SNR  =  Si_min_SSB / (n*fM)  =  40 dB  =  10**4\n",
      "Si_min_SSB  =  (10.**4)*n*fM;\n",
      "# Required minimum signal strength at transmitter output Si_tran  =  Si_min * 30 dB\n",
      "Si_tran_SSB  =  Si_min_SSB * 10**3;\n",
      "print 'Required minimum SSB signal strength at transmitter output is',Si_tran_SSB,' W'\n",
      "\n",
      "#For DSB-SC:\n",
      "# Required minimum output SNR  =  (Si_min_DSB/3) / (n*fM)  =  40 dB  =  10**4\n",
      "Si_min_DSB  =  3*(10**4)*n*fM;\n",
      "# Required minimum signal strength at transmitter output Si_tran  =  Si_min * 30 dB\n",
      "Si_tran_DSB  =  Si_min_DSB * 10**3;\n",
      "print 'Required minimum DSB signal strength at transmitter output is',Si_tran_DSB,' W'\n"
     ],
     "language": "python",
     "metadata": {},
     "outputs": [
      {
       "output_type": "stream",
       "stream": "stdout",
       "text": [
        "Required minimum SSB signal strength at transmitter output is 80.0  W\n",
        "Required minimum DSB signal strength at transmitter output is 240.0  W\n"
       ]
      }
     ],
     "prompt_number": 4
    },
    {
     "cell_type": "heading",
     "level": 2,
     "metadata": {},
     "source": [
      "Example 8.4  Page No : 447"
     ]
    },
    {
     "cell_type": "code",
     "collapsed": false,
     "input": [
      "\n",
      "#Given bandwidth of signal is fM  =  60 kHZ\n",
      "fM  =  60.*10**3;\n",
      "\n",
      "#Given power spectral density of white noise n  =  2*10**-6 W/Hz\n",
      "n  =  2.*10**-6;\n",
      "\n",
      "#Given time average of square of mssg signal P  =  0.1W\n",
      "P  =  0.1;\n",
      "\n",
      "#Noise power at input baseband range NM\n",
      "NM  =  n * fM;\n",
      "\n",
      "#Threshold occurs at carrier power Pc  =  2.9 * NM\n",
      "Pc_Threshold  =  2.9 * NM;\n",
      "\n",
      "#For carrier power Pc  =  10W, output SNR\n",
      "Pc  =  10.;\n",
      "SNRo  =  Pc * P / NM ;\n",
      "print 'Output SNR is %.4f'%SNRo,' dB'\n",
      "\n",
      "#Carrier power is reduced by 100 times making the new power Pc_new\n",
      "Pc_new  =  Pc / 100;\n",
      "\n",
      "#In the given solutions the NM value is 1.2W instead of 0.12W\n",
      "#The corect answer is 0.0925926 instead of 0.000926\n",
      "SNR_new  =  (4./3) * P * (Pc_new/NM)**2;\n",
      "print 'Output SNR when carrier power is reduced is %.4f'%SNR_new,' dB'\n",
      "\n",
      "\n"
     ],
     "language": "python",
     "metadata": {},
     "outputs": [
      {
       "output_type": "stream",
       "stream": "stdout",
       "text": [
        "Output SNR is 8.3333  dB\n",
        "Output SNR when carrier power is reduced is 0.0926  dB\n"
       ]
      }
     ],
     "prompt_number": 3
    }
   ],
   "metadata": {}
  }
 ]
}