{
 "metadata": {
  "name": "",
  "signature": "sha256:d42d30351aabb6bc90d7502a456567ddf1351b8975d43ecacef103597b7b4953"
 },
 "nbformat": 3,
 "nbformat_minor": 0,
 "worksheets": [
  {
   "cells": [
    {
     "cell_type": "heading",
     "level": 1,
     "metadata": {},
     "source": [
      "Chapter12 - Operational transconductance amplifier"
     ]
    },
    {
     "cell_type": "heading",
     "level": 2,
     "metadata": {},
     "source": [
      "Ex 12.1 - page : 404"
     ]
    },
    {
     "cell_type": "code",
     "collapsed": false,
     "input": [
      "from __future__ import division\n",
      "from math import pi\n",
      "gm=55 #micro U\n",
      "C=8.75 #pF\n",
      "f3dB=gm/(2*pi*C) #MHz\n",
      "print \"f-3dB frequency is %0.2f MHz \" %f3dB"
     ],
     "language": "python",
     "metadata": {},
     "outputs": [
      {
       "output_type": "stream",
       "stream": "stdout",
       "text": [
        "f-3dB frequency is 1.00 MHz \n"
       ]
      }
     ],
     "prompt_number": 1
    }
   ],
   "metadata": {}
  }
 ]
}