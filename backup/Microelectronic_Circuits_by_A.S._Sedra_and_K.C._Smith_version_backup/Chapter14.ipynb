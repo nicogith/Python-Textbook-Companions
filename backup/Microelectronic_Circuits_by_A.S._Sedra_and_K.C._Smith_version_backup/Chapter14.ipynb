{
 "metadata": {
  "name": "",
  "signature": "sha256:04c770610947ad7b99d743d99cd805c99779dc1a6616f379e3e115323e61d9f6"
 },
 "nbformat": 3,
 "nbformat_minor": 0,
 "worksheets": [
  {
   "cells": [
    {
     "cell_type": "heading",
     "level": 1,
     "metadata": {},
     "source": [
      "Chapter14:Output Stages and Power Amplifiers"
     ]
    },
    {
     "cell_type": "heading",
     "level": 2,
     "metadata": {},
     "source": [
      "Ex14.1:pg-1239"
     ]
    },
    {
     "cell_type": "code",
     "collapsed": false,
     "input": [
      "# Example 14.1 To design a Class B Output Amplifier\n",
      "\n",
      "P_L=20; # Average power (W) \n",
      "R_L=8; # Load resistance (ohm)\n",
      "V_o=math.sqrt(2*P_L*R_L); \n",
      "print round(V_o,1),\"= Supply voltage required (V)\"\n",
      "V_CC=23; # We select this voltage (V)\n",
      "I_o=V_o/R_L;\n",
      "print round(I_o,2),\"= Peak current drawn from each supply (A)\"\n",
      "P_Sav=V_CC*I_o/math.pi; # P_S+ = P_S- = P_Sav\n",
      "P_S=P_Sav+P_Sav; # Total supply power\n",
      "print round(P_S,1),\"= The total power supply (W)\"\n",
      "n=P_L/P_S; # n is power conversion efficiency\n",
      "print round(n*100),\" = Power conversion efficiency %\"\n",
      "P_DPmax=V_CC**2/(math.pi**2*R_L);\n",
      "P_DNmax=P_DPmax;\n",
      "print round(P_DPmax,1),\"= Maximun power dissipated in each transistor (W)\""
     ],
     "language": "python",
     "metadata": {},
     "outputs": [
      {
       "output_type": "stream",
       "stream": "stdout",
       "text": [
        "17.9 = Supply voltage required (V)\n",
        "2.24 = Peak current drawn from each supply (A)\n",
        "32.7 = The total power supply (W)\n",
        "61.0  = Power conversion efficiency %\n",
        "6.7 = Maximun power dissipated in each transistor (W)\n"
       ]
      }
     ],
     "prompt_number": 4
    },
    {
     "cell_type": "heading",
     "level": 2,
     "metadata": {},
     "source": [
      "Ex14.2:pg-1245"
     ]
    },
    {
     "cell_type": "code",
     "collapsed": false,
     "input": [
      "# Example 14.2 To determine quiescent current and power\n",
      "# Consider Class AB Amplifier\n",
      "V_CC=15; # (V)\n",
      "R_L=100; # (ohm)\n",
      "v_O=-10; # Amplitude of sinusoidal output voltage (V)\n",
      "I_S=10**-13; # (A)\n",
      "V_T=25*10**-3; # (V)\n",
      "B=50; # Beta value\n",
      "i_Lmax=10/(0.1*10**3); # Maximum current through Q_N (A)\n",
      "# Implies max base curent  in Q_N is approximately 2mA\n",
      "I_BIAS=3*10**-3; # We select I_BIAS=3mA in order to maintain a minimum of 1mA through the diodes\n",
      "I_Q=9*10**-3; # The area ratio of 3 yeilds quiescent current of 9mA\n",
      "P_DQ=2*V_CC*I_Q;\n",
      "print round(P_DQ*1000),\"= Quiescent power dissipation (mW)\"\n",
      "#For v_O=0V base current of Q_N is 9/51=0.18 mA\n",
      "# Leaves a current of 3-0.18=2.83mA to flow through the diodes\n",
      "I_S= (10**-13)/3; # Diodes have I_S = (1*10**-13)/3 \n",
      "V_BB=2*V_T*math.log((2.83*10**-3)/I_S);\n",
      "print round(V_BB,2),\"= V_BB (V) for v_O = 0V\"\n",
      "# For v_O=+10V, current through the diodes will decrease to 1mA\n",
      "V_BB=2*V_T*math.log((1*10**-3)/I_S);\n",
      "print round(V_BB,2),\"= V_BB (V) for v_O = +10V\"\n",
      "# For v_O=-10V , Q_N will conduct very small current thus base current is negligible\n",
      "# All of the I_BIAS(3mA) flows through the diodes\n",
      "V_BB=2*V_T*math.log((3*10**-3)/I_S);\n",
      "print round(V_BB,2),\"= V_BB (V) for v_O = -10V\""
     ],
     "language": "python",
     "metadata": {},
     "outputs": [
      {
       "output_type": "stream",
       "stream": "stdout",
       "text": [
        "270.0 = Quiescent power dissipation (mW)\n",
        "1.26 = V_BB (V) for v_O = 0V\n",
        "1.21 = V_BB (V) for v_O = +10V\n",
        "1.26 = V_BB (V) for v_O = -10V\n"
       ]
      }
     ],
     "prompt_number": 7
    },
    {
     "cell_type": "heading",
     "level": 2,
     "metadata": {},
     "source": [
      "Ex14.3:pg-1248"
     ]
    },
    {
     "cell_type": "code",
     "collapsed": false,
     "input": [
      "# Example 14.3 Redesign the output stage of Example 14.2\n",
      "V_T=25*10**-3; # (V)\n",
      "I_S=10**-14; # (A)\n",
      "I_Q=2*10**-3; # Required quiescent current (A)\n",
      "# We select I_BIAS=3mA which is divided between I_R and I_C1\n",
      "# Thus we select I_R=0.5mA and I_C1=2.5mA\n",
      "V_BB=2*V_T*math.log(I_Q/10**-13);\n",
      "print round(V_BB,2),\"=V_BB (V)\"\n",
      "I_R=0.5*10**-3;\n",
      "R1plusR2=V_BB/I_R; # R1plusR2 = R_1+R_2\n",
      "I_C1=2.5*10**-3;\n",
      "V_BE1=V_T*math.log(I_C1/I_S);\n",
      "print round(V_BE1,2),\"= V_BE1 (V)\"\n",
      "R_1=V_BE1/I_R;\n",
      "print round(R_1/1000,2),\"R_1 (Kohm)\"\n",
      "R_2=R1plusR2-R_1;\n",
      "print round(R_2/1000,2),\"R_2 (Kohm)\""
     ],
     "language": "python",
     "metadata": {},
     "outputs": [
      {
       "output_type": "stream",
       "stream": "stdout",
       "text": [
        "1.19 =V_BB (V)\n",
        "0.66 = V_BE1 (V)\n",
        "1.31 R_1 (Kohm)\n",
        "1.06 R_2 (Kohm)\n"
       ]
      }
     ],
     "prompt_number": 10
    },
    {
     "cell_type": "heading",
     "level": 2,
     "metadata": {},
     "source": [
      "Ex14.4:pg-1251"
     ]
    },
    {
     "cell_type": "code",
     "collapsed": false,
     "input": [
      "# Example 14.4 To determine thermal resistance, junction temperature \n",
      "# Consider BJT with following  specifications\n",
      "P_D0=2; # Maximum power dissipation (W)\n",
      "T_A0=25.0; # Ambient temperature (degree celcius)\n",
      "T_Jmax=150.0; # maximum junction temperature (degree celcius) \n",
      "\n",
      "# 14.4a \n",
      "theta_JA=(T_Jmax-T_A0)/P_D0; # Thermal resistance\n",
      "print theta_JA,\"is The thermal resistance (degree celsius/W)\"\n",
      "\n",
      "# 14.4b\n",
      "T_A=50.0; # (degree celcius)\n",
      "P_Dmax=(T_Jmax-T_A)/theta_JA; \n",
      "print P_Dmax,\"is Maximum power that can be dissipated at an ambient temperature of 50 degree celsius (W)\"\n",
      "\n",
      "# 14.4c\n",
      "T_A=25.0; # (degree celcius) \n",
      "P_D=1; # (W)\n",
      "T_J=T_A+theta_JA*P_D;\n",
      "print T_J,\"is Junction temperature (degree celcius) if the device is operating at T_A=25 degree celsius and is dissipating 1W\""
     ],
     "language": "python",
     "metadata": {},
     "outputs": [
      {
       "output_type": "stream",
       "stream": "stdout",
       "text": [
        "62.5 is The thermal resistance (degree celsius/W)\n",
        "1.6 is Maximum power that can be dissipated at an ambient temperature of 50 degree celsius (W)\n",
        "87.5 is Junction temperature (degree celcius) if the device is operating at T_A=25 degree celsius and is dissipating 1W\n"
       ]
      }
     ],
     "prompt_number": 11
    },
    {
     "cell_type": "heading",
     "level": 2,
     "metadata": {},
     "source": [
      "Ex14.5:pg-1253"
     ]
    },
    {
     "cell_type": "code",
     "collapsed": false,
     "input": [
      "# Example 14.5 To determine the maximum power dissipated \n",
      "# Consider a BJT with following specifications\n",
      "T_Jmax=150; # (degree celcius)\n",
      "T_A=50; # (degree celcius)\n",
      "\n",
      "# 14.5a\n",
      "theta_JA=62.5; # (degree celcius/W)\n",
      "P_Dmax=(T_Jmax-T_A)/theta_JA;\n",
      "print round(P_Dmax,2),\"is The maximum power (W) that can be dissipated safely by the transistor when operated in free air\"\n",
      "\n",
      "#14.5b\n",
      "theta_CS=0.5; # (degree celcius/W)\n",
      "theta_SA=4; # (degree celcius/W)\n",
      "theta_JC=3.12; # (degree celcius/W)\n",
      "theta_JA=theta_JC+theta_CS+theta_SA;\n",
      "P_Dmax=(T_Jmax-T_A)/theta_JA\n",
      "print round(P_Dmax,1),\"is The maximum power (W) that can be dissipated safely by the transistor when operated at an ambient temperature of 50 degree celcius but with a heat sink for which theta_CS= 0.5 (degree celcius/W) and theta_SA = 4 (degree celcius/W) (W)\"\n",
      "\n",
      "# 14.5c\n",
      "theta_CA=0 # since infinite heat sink\n",
      "P_Dmax=(T_Jmax-T_A)/theta_JC;\n",
      "print round(P_Dmax),\"is The maximum power (W) that can be dissipated safely if an infinite heat sink is used and T_A=50 (degree celcius)\""
     ],
     "language": "python",
     "metadata": {},
     "outputs": [
      {
       "output_type": "stream",
       "stream": "stdout",
       "text": [
        "1.6 is The maximum power (W) that can be dissipated safely by the transistor when operated in free air\n",
        "13.1 is The maximum power (W) that can be dissipated safely by the transistor when operated at an ambient temperature of 50 degree celcius but with a heat sink for which theta_CS= 0.5 (degree celcius/W) and theta_SA = 4 (degree celcius/W) (W)\n",
        "32.0 is The maximum power (W) that can be dissipated safely if an infinite heat sink is used and T_A=50 (degree celcius)\n"
       ]
      }
     ],
     "prompt_number": 16
    }
   ],
   "metadata": {}
  }
 ]
}