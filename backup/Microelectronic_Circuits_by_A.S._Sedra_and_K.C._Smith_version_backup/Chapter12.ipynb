{
 "metadata": {
  "name": "",
  "signature": "sha256:0d870b040ee224c1f9fb208e7b24af7cd3362e9d307710cf1a001e89fa523e12"
 },
 "nbformat": 3,
 "nbformat_minor": 0,
 "worksheets": [
  {
   "cells": [
    {
     "cell_type": "heading",
     "level": 1,
     "metadata": {},
     "source": [
      "Chapter12:Filters and Tuned Amplifiers"
     ]
    },
    {
     "cell_type": "heading",
     "level": 2,
     "metadata": {},
     "source": [
      "Ex12.4:pg-1143"
     ]
    },
    {
     "cell_type": "code",
     "collapsed": false,
     "input": [
      "# Example 12.4 To design tuned amplifier\n",
      "\n",
      "cfg=-10; # Center frequency gain (V/V)\n",
      "g_m=0.005; # (A/V)\n",
      "r_o=10000; # (ohm)\n",
      "f_o=1*10**6; # (Hz)\n",
      "B=2*math.pi*10**4; # Bandwidth\n",
      "R=-cfg/g_m;\n",
      "R_L=R*r_o/(r_o-R);\n",
      "print R_L/1000,\"= R_L (kohm)\"\n",
      "C=1/(R*B)\n",
      "print round(C*1e12),\"= C (picoF)\"\n",
      "w_o=2*math.pi*f_o;\n",
      "L=1/(w_o**2*C);\n",
      "print round(L*1e6,2),\"= L (microH)\""
     ],
     "language": "python",
     "metadata": {},
     "outputs": [
      {
       "output_type": "stream",
       "stream": "stdout",
       "text": [
        "2.5 = R_L (kohm)\n",
        "7958.0 = C (picoF)\n",
        "3.18 = L (microH)\n"
       ]
      }
     ],
     "prompt_number": 8
    }
   ],
   "metadata": {}
  }
 ]
}