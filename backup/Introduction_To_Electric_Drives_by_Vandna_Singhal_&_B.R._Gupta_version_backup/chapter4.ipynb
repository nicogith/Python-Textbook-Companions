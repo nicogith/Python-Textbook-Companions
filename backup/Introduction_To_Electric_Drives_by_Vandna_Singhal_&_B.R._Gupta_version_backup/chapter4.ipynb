{
 "metadata": {
  "name": "",
  "signature": ""
 },
 "nbformat": 3,
 "nbformat_minor": 0,
 "worksheets": [
  {
   "cells": [
    {
     "cell_type": "heading",
     "level": 1,
     "metadata": {},
     "source": [
      "Chapter4, Choppers"
     ]
    },
    {
     "cell_type": "heading",
     "level": 2,
     "metadata": {},
     "source": [
      "Example 4_1, page 132"
     ]
    },
    {
     "cell_type": "code",
     "collapsed": false,
     "input": [
      "from __future__ import division\n",
      "#Given data: \n",
      "V=230 #V\n",
      "Vav=150 #V\n",
      "f=1*1000 #Hz\n",
      "\n",
      "#Solution :\n",
      "T=1/f #s\n",
      "Ton=Vav*T/V #s\n",
      "Toff=T-Ton #s\n",
      "print \"Periods of conduction & blocking are %0.2e & %0.2e seconds \" %(Ton,Toff) "
     ],
     "language": "python",
     "metadata": {},
     "outputs": [
      {
       "output_type": "stream",
       "stream": "stdout",
       "text": [
        "Periods of conduction & blocking are 6.52e-04 & 3.48e-04 seconds \n"
       ]
      }
     ],
     "prompt_number": 2
    },
    {
     "cell_type": "heading",
     "level": 2,
     "metadata": {},
     "source": [
      "Example 4_2, page 133"
     ]
    },
    {
     "cell_type": "code",
     "collapsed": false,
     "input": [
      "from __future__ import division\n",
      "#Given data: \n",
      "Ra=0.06 #ohm\n",
      "Rf=0.03 #ohm\n",
      "Iav=15 #A\n",
      "f=500 #Hz\n",
      "Eb=100 #V\n",
      "V=200 #V\n",
      "\n",
      "#Solution :\n",
      "Vav=Iav*(Ra+Rf)+Eb #V\n",
      "T=1/f #s\n",
      "Ton=Vav*T/V #s\n",
      "Toff=T-Ton #s\n",
      "print \"Periods of conduction & blocking are %0.4e & %0.3e seconds \" %(Ton,Toff) "
     ],
     "language": "python",
     "metadata": {},
     "outputs": [
      {
       "output_type": "stream",
       "stream": "stdout",
       "text": [
        "Periods of conduction & blocking are 1.0135e-03 & 9.865e-04 seconds \n"
       ]
      }
     ],
     "prompt_number": 7
    },
    {
     "cell_type": "heading",
     "level": 2,
     "metadata": {},
     "source": [
      "Example 4_3, page 133"
     ]
    },
    {
     "cell_type": "code",
     "collapsed": false,
     "input": [
      "from __future__ import division\n",
      "#Given data: \n",
      "N=800 #rpm\n",
      "I=20 #A\n",
      "Ra=0.5 #ohm\n",
      "Vs=240 #V\n",
      "Ndash=600 #rpm\n",
      "\n",
      "#Solution :\n",
      "Eb_800=Vs-I*Ra #V\n",
      "Eb_600=Eb_800*Ndash/N #V\n",
      "Vav=I*Ra+Eb_600 #V\n",
      "alfa=Vav/Vs #duty cycle\n",
      "print \"(a) Duty cycle =\",round(alfa,4) \n",
      "#Torque reduced to half will reduce I to half\n",
      "I=I/2 #A\n",
      "Vav=I*Ra+Eb_600 #V\n",
      "alfa=Vav/Vs #duty cycle\n",
      "print \"(b) Duty cycle =\",round(alfa,4) "
     ],
     "language": "python",
     "metadata": {},
     "outputs": [
      {
       "output_type": "stream",
       "stream": "stdout",
       "text": [
        "(a) Duty cycle = 0.7604\n",
        "(b) Duty cycle = 0.7396\n"
       ]
      }
     ],
     "prompt_number": 9
    },
    {
     "cell_type": "heading",
     "level": 2,
     "metadata": {},
     "source": [
      "Example 4_4, page 133"
     ]
    },
    {
     "cell_type": "code",
     "collapsed": false,
     "input": [
      "from __future__ import division\n",
      "from math import sqrt, pi\n",
      "#Given data: \n",
      "V=200 #V\n",
      "RL=8 #ohm\n",
      "Vthy=2 #V\n",
      "f=800 #Hz\n",
      "alfa=0.4 #duty cycle\n",
      "\n",
      "#Solution :\n",
      "Vav=alfa*(V-Vthy) #V\n",
      "print \"(a) Average output voltage = %0.2f V \" %Vav \n",
      "VL=sqrt(alfa)*(V-Vthy) #V\n",
      "print \"(b) RMS output voltage = %.3f V \" %VL \n",
      "Pout=VL**2/RL #W\n",
      "Pin=alfa*V*(V-Vthy)/RL #W\n",
      "Eff=Pout/Pin*100 #%\n",
      "print \"(c) Chopper efficiency = %0.f %%\" %Eff\n",
      "Rin=RL/alfa #ohm\n",
      "print \"(d) Input resistance = %0.f ohm \" %Rin \n",
      "V1=(V-Vthy)*sqrt(2)/pi #V\n",
      "print \"(e) RMS value of fundamental component = %0.3f V \" %V1 "
     ],
     "language": "python",
     "metadata": {},
     "outputs": [
      {
       "output_type": "stream",
       "stream": "stdout",
       "text": [
        "(a) Average output voltage = 79.20 V \n",
        "(b) RMS output voltage = 125.226 V \n",
        "(c) Chopper efficiency = 99 %\n",
        "(d) Input resistance = 20 ohm \n",
        "(e) RMS value of fundamental component = 89.131 V \n"
       ]
      }
     ],
     "prompt_number": 15
    },
    {
     "cell_type": "heading",
     "level": 2,
     "metadata": {},
     "source": [
      "Example 4_5, page 140"
     ]
    },
    {
     "cell_type": "code",
     "collapsed": false,
     "input": [
      "from __future__ import division\n",
      "#Given data: \n",
      "V=400 #V\n",
      "R=0 #ohm\n",
      "L=0.05 #H\n",
      "alfa=0.25 #duty cycle\n",
      "delta_i=10 #A\n",
      "\n",
      "#Solution :\n",
      "Vav=alfa*V #V\n",
      "delta_T=L*delta_i/(V-Vav) #s\n",
      "Ton=delta_T #/s\n",
      "T=Ton/alfa #s\n",
      "f=1/T #pulses/s\n",
      "print \"Chopping frequency = %0.f pulses/s \" %f "
     ],
     "language": "python",
     "metadata": {},
     "outputs": [
      {
       "output_type": "stream",
       "stream": "stdout",
       "text": [
        "Chopping frequency = 150 pulses/s \n"
       ]
      }
     ],
     "prompt_number": 16
    },
    {
     "cell_type": "heading",
     "level": 2,
     "metadata": {},
     "source": [
      "Example 4_6, page 141"
     ]
    },
    {
     "cell_type": "code",
     "collapsed": false,
     "input": [
      "from sympy.mpmath import *\n",
      "#Given data: \n",
      "R=4 #ohm\n",
      "L=6/1000 #H\n",
      "V=200 #V\n",
      "alfa=0.5 #duty cycle\n",
      "f=1000 #Hz\n",
      "\n",
      "#Solution :\n",
      "T=1/f #s\n",
      "E=0 #V\n",
      "Imax=V/R*((1-exp(-alfa*T*R/L))/(1-exp(-T*R/L)))-E/R #A\n",
      "Imin=V/R*((exp(alfa*T*R/L)-1)/(exp(T*R/L)-1))-E/R #A\n",
      "print \"Maximum current = %0.2f A \" %Imax \n",
      "print \"Minimum current = %0.2f A \" %Imin \n",
      "rmax = V/R/f/L\n",
      "print \"maximum ripple =\",round(rmax,2),\"A\"\n",
      "Iavg=(Imax+Imin)/2 #A\n",
      "print \"Average load current = %0.2f A \" %Iavg \n",
      "IL=sqrt(1/alfa/T*quad(lambda t:(Imin+(Imax-Imin)*t/alfa/T)**2,[0,alfa*T])) #A\n",
      "print \"RMS load current = %0.2f A \" %IL \n",
      "Iavg_in=alfa*Iavg #A\n",
      "print \"Average input current = %0.2f A \" %Iavg_in \n",
      "Irms_in=sqrt(1/T*quad(lambda t:(Imin+(Imax-Imin)*t/alfa/T)**2,[0,alfa*T])) #A\n",
      "print \"RMS input current = %0.3f A \" %Irms_in"
     ],
     "language": "python",
     "metadata": {},
     "outputs": [
      {
       "output_type": "stream",
       "stream": "stdout",
       "text": [
        "Maximum current = 29.13 A \n",
        "Minimum current = 20.87 A \n",
        "maximum ripple = 8.33 A\n",
        "Average load current = 25.00 A \n",
        "RMS load current = 25.11 A \n",
        "Average input current = 12.50 A \n",
        "RMS input current = 17.758 A \n"
       ]
      }
     ],
     "prompt_number": 20
    },
    {
     "cell_type": "heading",
     "level": 2,
     "metadata": {},
     "source": [
      "Example 4_7, page 141"
     ]
    },
    {
     "cell_type": "code",
     "collapsed": false,
     "input": [
      "from __future__ import division\n",
      "#Given data: \n",
      "V=300 #V\n",
      "R=4 #ohm\n",
      "f=250 #Hz\n",
      "ripple=20 #%\n",
      "Iavg=30 #A\n",
      "\n",
      "#Solution :\n",
      "T=1/f #s\n",
      "E=0 #V\n",
      "Imax_sub_Imin=ripple/100*Iavg #A\n",
      "L=V/Imax_sub_Imin/R/f #H\n",
      "print \"Load Inductance = %0.1e H \" %L "
     ],
     "language": "python",
     "metadata": {},
     "outputs": [
      {
       "output_type": "stream",
       "stream": "stdout",
       "text": [
        "Load Inductance = 5.0e-02 H \n"
       ]
      }
     ],
     "prompt_number": 22
    },
    {
     "cell_type": "heading",
     "level": 2,
     "metadata": {},
     "source": [
      "Example 4_8, page 142"
     ]
    },
    {
     "cell_type": "code",
     "collapsed": false,
     "input": [
      "from __future__ import division\n",
      "from math import exp\n",
      "#Given data: \n",
      "Ra=0.5 #ohm\n",
      "L=16/1000 #H\n",
      "V=200 #V\n",
      "E=100 #V\n",
      "Imin=10 #A\n",
      "t_off=2/1000 #s\n",
      "\n",
      "#Solution :\n",
      "i=(V-E)/Ra*(1-exp(-Ra*t_off/L))+Imin*exp(-Ra*t_off/L) #A\n",
      "print \"Current at instant of turn off = %0.2f A \" %i \n",
      "t=5/1000 #s\n",
      "i_dash=i*exp(-Ra*t/L) #A\n",
      "print \"Current 5 ms after turn off = %0.2f A \" %i_dash \n",
      "#Answer is wrong in the book."
     ],
     "language": "python",
     "metadata": {},
     "outputs": [
      {
       "output_type": "stream",
       "stream": "stdout",
       "text": [
        "Current at instant of turn off = 21.51 A \n",
        "Current 5 ms after turn off = 18.40 A \n"
       ]
      }
     ],
     "prompt_number": 24
    },
    {
     "cell_type": "heading",
     "level": 2,
     "metadata": {},
     "source": [
      "Example 4_9, page 142"
     ]
    },
    {
     "cell_type": "code",
     "collapsed": false,
     "input": [
      "from __future__ import division\n",
      "#Given data: \n",
      "V=220 #V\n",
      "N_NoLoad=1000 #rpm\n",
      "alfa=0.6 #duty cycle\n",
      "I=20 #A\n",
      "Ra=1 #ohm\n",
      "\n",
      "#Solution :\n",
      "Eb1=V #V##at no load\n",
      "Vin=alfa*V #V\n",
      "Eb2=Vin-I*Ra #V\n",
      "N=N_NoLoad*Eb2/Eb1 #rpm\n",
      "print \"Speed of the motor = %0.1f rpm \" %N "
     ],
     "language": "python",
     "metadata": {},
     "outputs": [
      {
       "output_type": "stream",
       "stream": "stdout",
       "text": [
        "Speed of the motor = 509.1 rpm \n"
       ]
      }
     ],
     "prompt_number": 26
    },
    {
     "cell_type": "heading",
     "level": 2,
     "metadata": {},
     "source": [
      "Example 4_10, page 142"
     ]
    },
    {
     "cell_type": "code",
     "collapsed": false,
     "input": [
      "from __future__ import division\n",
      "#Given data: \n",
      "V=230 #V\n",
      "Ton=25/1000 #s\n",
      "Toff=10/1000 #s\n",
      "\n",
      "#Solution :\n",
      "Vavg=V*Ton/(Ton+Toff) #V\n",
      "print \"Average load voltage = %0.3f V \" %Vavg "
     ],
     "language": "python",
     "metadata": {},
     "outputs": [
      {
       "output_type": "stream",
       "stream": "stdout",
       "text": [
        "Average load voltage = 164.286 V \n"
       ]
      }
     ],
     "prompt_number": 28
    },
    {
     "cell_type": "heading",
     "level": 2,
     "metadata": {},
     "source": [
      "Example 4_11, page 143"
     ]
    },
    {
     "cell_type": "code",
     "collapsed": false,
     "input": [
      "from __future__ import division\n",
      "from math import exp\n",
      "#Given data: \n",
      "V=100 #V\n",
      "R=0.5 #ohm\n",
      "L=1/1000 #H\n",
      "Ton=1/1000 #s\n",
      "T=3/1000 #s\n",
      "\n",
      "#Solution :\n",
      "Toff=T-Ton #s\n",
      "alfa=Ton/T #duty cycle\n",
      "E=0 #V\n",
      "Imax=V/R*((1-exp(-alfa*T*R/L))/(1-exp(-T*R/L)))-E/R #A\n",
      "Imin=V/R*((exp(alfa*T*R/L)-1)/(exp(T*R/L)-1))-E/R #A\n",
      "print \"Maximum current = %0.1f A \" %Imax \n",
      "print \"Minimum current = %0.1f A \" %Imin \n",
      "Iavg=(Imax+Imin)/2 #A\n",
      "print \"Average load current = %0.1f A \" %Iavg \n",
      "Vavg=alfa*V #V\n",
      "print \"Average load voltage = %0.2f V \" %Vavg "
     ],
     "language": "python",
     "metadata": {},
     "outputs": [
      {
       "output_type": "stream",
       "stream": "stdout",
       "text": [
        "Maximum current = 101.3 A \n",
        "Minimum current = 37.3 A \n",
        "Average load current = 69.3 A \n",
        "Average load voltage = 33.33 V \n"
       ]
      }
     ],
     "prompt_number": 31
    },
    {
     "cell_type": "heading",
     "level": 2,
     "metadata": {},
     "source": [
      "Example 4_12, page 143"
     ]
    },
    {
     "cell_type": "code",
     "collapsed": false,
     "input": [
      "from __future__ import division\n",
      "from math import exp\n",
      "#Given data: \n",
      "V=100 #V\n",
      "E=12 #V\n",
      "L=0.8/1000 #H\n",
      "R=0.2 #ohm\n",
      "T=2.4/1000 #s\n",
      "Ton=1/1000 #s\n",
      "\n",
      "#Solution :\n",
      "alfa=Ton/T #duty cycle\n",
      "Imax=V/R*((1-exp(-alfa*T*R/L))/(1-exp(-T*R/L))) #A\n",
      "Imin=V/R*((exp(alfa*T*R/L)-1)/(exp(T*R/L)-1)) #A\n",
      "print \"Maximum current = %0.2f A \" %Imax \n",
      "print \"Minimum current = %0.2f A \" %Imin \n",
      "Vavg=alfa*V #V\n",
      "print \"Average load voltage = %0.2f V \" %Vavg "
     ],
     "language": "python",
     "metadata": {},
     "outputs": [
      {
       "output_type": "stream",
       "stream": "stdout",
       "text": [
        "Maximum current = 245.13 A \n",
        "Minimum current = 172.74 A \n",
        "Average load voltage = 41.67 V \n"
       ]
      }
     ],
     "prompt_number": 33
    },
    {
     "cell_type": "heading",
     "level": 2,
     "metadata": {},
     "source": [
      "Example 4_13, page 143"
     ]
    },
    {
     "cell_type": "code",
     "collapsed": false,
     "input": [
      "from __future__ import division\n",
      "#Given data: \n",
      "V=500 #V\n",
      "I=10 #A\n",
      "f=400 #Hz\n",
      "\n",
      "#Solution :\n",
      "alfa=0.5 #for maximum swing\n",
      "#I=V/(4*f*L) #A\n",
      "L=V/(4*f*I) #H\n",
      "print \"Series inductance = %0.3e H \" %L "
     ],
     "language": "python",
     "metadata": {},
     "outputs": [
      {
       "output_type": "stream",
       "stream": "stdout",
       "text": [
        "Series inductance = 3.125e-02 H \n"
       ]
      }
     ],
     "prompt_number": 36
    },
    {
     "cell_type": "heading",
     "level": 2,
     "metadata": {},
     "source": [
      "Example 4_14, page 144"
     ]
    },
    {
     "cell_type": "code",
     "collapsed": false,
     "input": [
      "from __future__ import division\n",
      "#Given data: \n",
      "V=800 #V\n",
      "P=300 #HP\n",
      "Eff=0.9 #Efficiency\n",
      "R=0.1 #ohm\n",
      "L=100/1000 #H\n",
      "alfa=0.2 #duty cycle\n",
      "N=900 #rpm\n",
      "f=400 #Hz\n",
      "\n",
      "#Solution :\n",
      "Pout=P*735.5/1000 #kW\n",
      "Pin=Pout/Eff #kW\n",
      "I=Pin*1000/V #A\n",
      "E=V-I*R #V(at rated voltage)\n",
      "Edash=V*alfa-I*R #V(at 0.2 duty cycle)\n",
      "Ndash=N*Edash/E #rpm\n",
      "print \"Motor speed = %0.2f rpm \" %Ndash \n",
      "T=1/f #s\n",
      "d_ia=(V-alfa*V)/L*alfa*T #A\n",
      "print \"Current swing = %0.1f A \" %d_ia "
     ],
     "language": "python",
     "metadata": {},
     "outputs": [
      {
       "output_type": "stream",
       "stream": "stdout",
       "text": [
        "Motor speed = 151.32 rpm \n",
        "Current swing = 3.2 A \n"
       ]
      }
     ],
     "prompt_number": 38
    },
    {
     "cell_type": "heading",
     "level": 2,
     "metadata": {},
     "source": [
      "Example 4_17, page 148"
     ]
    },
    {
     "cell_type": "code",
     "collapsed": false,
     "input": [
      "from __future__ import division\n",
      "from math import exp, log\n",
      "#Given data: \n",
      "V=200 #V\n",
      "R=2 #ohm\n",
      "L=10/1000 #H\n",
      "E=20 #V\n",
      "T=1000/10**6 #s\n",
      "Ton=300/10**6 #s\n",
      "\n",
      "#Solution :\n",
      "f=1/T #Hz\n",
      "alfa_min=1/(R*T/L)*log(1+E/V*(exp(R*T/L)-1)) #duty cycle\n",
      "alfa=Ton/T #duty cycle\n",
      "print \"Minimum value required of alfa =\",round(alfa_min,4) \n",
      "print \"Actual value of alfa =\",round(alfa,2) \n",
      "print \"Load current is continuous as alfa_actual>alfa_min\"\n",
      "Imax=V/R*((1-exp(-alfa*T*R/L))/(1-exp(-T*R/L)))-E/R #A\n",
      "Imin=V/R*((exp(alfa*T*R/L)-1)/(exp(T*R/L)-1))-E/R #A\n",
      "print \"Maximum current = %0.2f A \" %Imax \n",
      "print \"Minimum current = %0.2f A \" %Imin \n",
      "Iavg=(alfa*V-E)/R #A\n",
      "print \"Average load current = %0.2f A \" %Iavg \n",
      "Iavg_in=alfa*(V-E)/R-L/R/T*(Imax-Imin) #A\n",
      "print \"Average input current = %0.2f A \" %Iavg_in "
     ],
     "language": "python",
     "metadata": {},
     "outputs": [
      {
       "output_type": "stream",
       "stream": "stdout",
       "text": [
        "Minimum value required of alfa = 0.1095\n",
        "Actual value of alfa = 0.3\n",
        "Load current is continuous as alfa_actual>alfa_min\n",
        "Maximum current = 22.13 A \n",
        "Minimum current = 17.93 A \n",
        "Average load current = 20.00 A \n",
        "Average input current = 6.01 A \n"
       ]
      }
     ],
     "prompt_number": 40
    },
    {
     "cell_type": "heading",
     "level": 2,
     "metadata": {},
     "source": [
      "Example 4_18, page 150"
     ]
    },
    {
     "cell_type": "code",
     "collapsed": false,
     "input": [
      "from __future__ import division\n",
      "from math import *\n",
      "#Given data: \n",
      "V=200 #V\n",
      "T=1000/10**6 #s\n",
      "Ton=300/10**6 #s\n",
      "R=4 #ohm\n",
      "L=10/1000 #H\n",
      "\n",
      "#Solution :\n",
      "f=1/T #Hz\n",
      "Vrms1=sqrt((200/pi*sin(2*pi*0.3))**2+(200/pi*((1-cos(2*pi*0.3))))**2)/sqrt(2) #V\n",
      "Vrms2=sqrt((200/2/pi*sin(2*pi*2*0.3))**2+(200/2/pi*((1-cos(2*pi*2*0.3))))**2)/sqrt(2) #V\n",
      "Vrms3=sqrt((200/3/pi*sin(2*pi*3*0.3))**2+(200/3/pi*((1-cos(2*pi*3*0.3))))**2)/sqrt(2) #V\n",
      "Z1=R+1J*(2*pi*f*L) #ohm\n",
      "I1=Vrms1/abs(Z1) #A\n",
      "print \"RMS value of 1st harmonic of load current = %0.3f A \" %I1 \n",
      "Z2=R+1J*(2*2*pi*f*L) #ohm\n",
      "I2=Vrms2/abs(Z2) #A\n",
      "print \"RMS value of 2nd harmonic of load current = %0.4f A \" %I2 \n",
      "Z3=R+1J*(3*2*pi*f*L) #ohm\n",
      "I3=Vrms3/abs(Z3) #A\n",
      "print \"RMS value of 3rd harmonic of load current = %0.4f A \" %I3 \n",
      "Iavg=V/R*Ton/T #A\n",
      "Irms=sqrt(Iavg**2+I1**2+I2**2+I3**2) #A\n",
      "print \"RMS value of load current = %0.4f A \" %Irms "
     ],
     "language": "python",
     "metadata": {},
     "outputs": [
      {
       "output_type": "stream",
       "stream": "stdout",
       "text": [
        "RMS value of 1st harmonic of load current = 1.157 A \n",
        "RMS value of 2nd harmonic of load current = 0.3405 A \n",
        "RMS value of 3rd harmonic of load current = 0.0492 A \n",
        "RMS value of load current = 15.0485 A \n"
       ]
      }
     ],
     "prompt_number": 45
    },
    {
     "cell_type": "heading",
     "level": 2,
     "metadata": {},
     "source": [
      "Example 4_19, page 152"
     ]
    },
    {
     "cell_type": "code",
     "collapsed": false,
     "input": [
      "from __future__ import division\n",
      "#Given data: \n",
      "V=200 #V\n",
      "Vav=250 #V\n",
      "Toff=0.6*10**-3 #s\n",
      "\n",
      "#Solution :\n",
      "T=Vav/V*Toff #s\n",
      "Ton=T-Toff #s\n",
      "print \"Period of conduction = %0.2e seconds \" %Ton "
     ],
     "language": "python",
     "metadata": {},
     "outputs": [
      {
       "output_type": "stream",
       "stream": "stdout",
       "text": [
        "Period of conduction = 1.50e-04 seconds \n"
       ]
      }
     ],
     "prompt_number": 46
    },
    {
     "cell_type": "heading",
     "level": 2,
     "metadata": {},
     "source": [
      "Example 4_20, page 152"
     ]
    },
    {
     "cell_type": "code",
     "collapsed": false,
     "input": [
      "from __future__ import division\n",
      "#Given data: \n",
      "V=150 #V\n",
      "Vav=250 #V\n",
      "Toff=1*10**-3 #s\n",
      "\n",
      "#Solution :\n",
      "T=Vav/V*Toff #s\n",
      "Ton=T-Toff #s\n",
      "print \"Period of conduction = %0.3e seconds \" %Ton "
     ],
     "language": "python",
     "metadata": {},
     "outputs": [
      {
       "output_type": "stream",
       "stream": "stdout",
       "text": [
        "Period of conduction = 6.667e-04 seconds \n"
       ]
      }
     ],
     "prompt_number": 48
    }
   ],
   "metadata": {}
  }
 ]
}
