{
 "metadata": {
  "name": "",
  "signature": ""
 },
 "nbformat": 3,
 "nbformat_minor": 0,
 "worksheets": [
  {
   "cells": [
    {
     "cell_type": "heading",
     "level": 1,
     "metadata": {},
     "source": [
      "Chapter3, Inverters"
     ]
    },
    {
     "cell_type": "heading",
     "level": 2,
     "metadata": {},
     "source": [
      "Example 3_1, page 113"
     ]
    },
    {
     "cell_type": "code",
     "collapsed": false,
     "input": [
      "from math import pi, sqrt\n",
      "#Given data: \n",
      "R=80 #ohm\n",
      "L=8 #/mH\n",
      "C=1.2 # micro F\n",
      "\n",
      "#Solution :\n",
      "if R**2<4*(L*10**-3)/(C*10**-6):\n",
      "    print \"As R**2<4*L/C, Circuit will work as a series inverter.\" \n",
      "else:\n",
      "    print \"As R**2>4*L/C, Circuit will not work as a series inverter.\" \n",
      "\n",
      "omega_m=sqrt(1/(L*10**-3*C*10**-6)-R**2/4/(L*10**-3)**2) #rad/s\n",
      "fm=omega_m/2/pi #Hz\n",
      "print \"Maximum frequency = %0.2f Hz\" %fm"
     ],
     "language": "python",
     "metadata": {},
     "outputs": [
      {
       "output_type": "stream",
       "stream": "stdout",
       "text": [
        "As R**2<4*L/C, Circuit will work as a series inverter.\n",
        "Maximum frequency = 1416.09 Hz\n"
       ]
      }
     ],
     "prompt_number": 2
    },
    {
     "cell_type": "heading",
     "level": 2,
     "metadata": {},
     "source": [
      "Example 3_2, page 113"
     ]
    },
    {
     "cell_type": "code",
     "collapsed": false,
     "input": [
      "from math import pi, sqrt\n",
      "#Given data: \n",
      "R=80 #ohm\n",
      "L=8 #/mH\n",
      "C=1.2 # micro F\n",
      "Toff=14 #micro sec\n",
      "\n",
      "#Solution :\n",
      "omega_m=sqrt(1/(L*10**-3*C*10**-6)-R**2/4/(L*10**-3)**2) #rad/s\n",
      "fm=omega_m/2/pi #Hz\n",
      "T=1/fm #sec\n",
      "f=1/(T+2*Toff*10**-6) #Hz\n",
      "print \"Frequency of output = %0.1f Hz\" %f"
     ],
     "language": "python",
     "metadata": {},
     "outputs": [
      {
       "output_type": "stream",
       "stream": "stdout",
       "text": [
        "Frequency of output = 1362.1 Hz\n"
       ]
      }
     ],
     "prompt_number": 5
    },
    {
     "cell_type": "heading",
     "level": 2,
     "metadata": {},
     "source": [
      "Example 3_3, page 119"
     ]
    },
    {
     "cell_type": "code",
     "collapsed": false,
     "input": [
      "from __future__ import division\n",
      "from math import pi, sqrt\n",
      "#Given data: \n",
      "RL=3 #in ohm\n",
      "V=30 #in V\n",
      "\n",
      "#Solution :\n",
      "Vpeak=2*V/pi #V\n",
      "Vrms=Vpeak/sqrt(2) #V\n",
      "print \"(a) RMS value of output voltage = %0.1f \" %Vrms\n",
      "#VL=sqrt(2/T*integrate('(V/2)**2','t',0,T/2)) #V\n",
      "VL=V/2 #V\n",
      "Pout=VL**2/RL #W\n",
      "print \"(b) Output power = %0.f W  \" %Pout \n",
      "Ipeak=VL/RL #A\n",
      "print \"(c) Peak current in thyristor = %0.f A  \" %Ipeak \n",
      "Iavg=Ipeak*50/100 #A\n",
      "print \"(d) Average current of each thyristor = %0.1f A\" %Iavg\n",
      "Vprb=2*VL #V\n",
      "print \"(e) Peak reverse braking voltage = %0.f V \" %Vprb "
     ],
     "language": "python",
     "metadata": {},
     "outputs": [
      {
       "output_type": "stream",
       "stream": "stdout",
       "text": [
        "(a) RMS value of output voltage = 13.5 \n",
        "(b) Output power = 75 W  \n",
        "(c) Peak current in thyristor = 5 A  \n",
        "(d) Average current of each thyristor = 2.5 A\n",
        "(e) Peak reverse braking voltage = 30 V \n"
       ]
      }
     ],
     "prompt_number": 10
    },
    {
     "cell_type": "heading",
     "level": 2,
     "metadata": {},
     "source": [
      "Example 3_4, page 120"
     ]
    },
    {
     "cell_type": "code",
     "collapsed": false,
     "input": [
      "from math import pi, sqrt\n",
      "\n",
      "#Given data: \n",
      "RL=3 #in ohm\n",
      "V=30 #in V\n",
      "\n",
      "#Solution :\n",
      "Vpeak=4*V/pi #V\n",
      "Vrms=Vpeak/sqrt(2) #V\n",
      "print \"(a) RMS value of output voltage = %0.f V\" %Vrms\n",
      "#VL=sqrt(2/T*integrate('V**2','t',0,T/2)) #V\n",
      "VL=V #V\n",
      "Pout=VL**2/RL #W\n",
      "print \"(b) Output power = %0.f W  \" %Pout \n",
      "Ipeak=VL/RL #A\n",
      "print \"(c) Peak current in thyristor = %0.f A  \" %Ipeak \n",
      "Iavg=Ipeak*50/100 #A\n",
      "print \"(d) Average current of each thyristor = %0.f A\" %Iavg\n",
      "Vprb=VL #V\n",
      "print \"(e) Peak reverse braking voltage = %0.f V \" %Vprb "
     ],
     "language": "python",
     "metadata": {},
     "outputs": [
      {
       "output_type": "stream",
       "stream": "stdout",
       "text": [
        "(a) RMS value of output voltage = 27 V\n",
        "(b) Output power = 300 W  \n",
        "(c) Peak current in thyristor = 10 A  \n",
        "(d) Average current of each thyristor = 5 A\n",
        "(e) Peak reverse braking voltage = 30 V \n"
       ]
      }
     ],
     "prompt_number": 16
    },
    {
     "cell_type": "heading",
     "level": 2,
     "metadata": {},
     "source": [
      "Example 3_5, page 120"
     ]
    },
    {
     "cell_type": "code",
     "collapsed": false,
     "input": [
      "from math import pi, sqrt\n",
      "\n",
      "#Given data: \n",
      "V=200 #V\n",
      "R=10 #in ohm\n",
      "L=20 #mH\n",
      "C=100 #pF\n",
      "f=50 #Hz\n",
      "\n",
      "#Solution :\n",
      "Z1=R+1J*(2*pi*f*L*10**-3-1/(2*pi*f*C*10**-6)) #ohm\n",
      "Z3=R+1J*(3*2*pi*f*L*10**-3-1/(3*2*pi*f*C*10**-6)) #ohm\n",
      "Z5=R+1J*(5*2*pi*f*L*10**-3-1/(5*2*pi*f*C*10**-6)) #ohm\n",
      "Z7=R+1J*(7*2*pi*f*L*10**-3-1/(7*2*pi*f*C*10**-6)) #ohm\n",
      "Z9=R+1J*(9*2*pi*f*L*10**-3-1/(9*2*pi*f*C*10**-6)) #ohm\n",
      "I=4*V/pi/abs(Z1) #A\n",
      "Irms=I/sqrt(2) #A\n",
      "print\"RMS load current = %0.2f A\" % Irms\n",
      "Ip=sqrt((4*V/pi/abs(Z1))**2+(4*V/3/pi/abs(Z3))**2+(4*V/5/pi/abs(Z5))**2+(4*V/7/pi/abs(Z7))**2+(4*V/9/pi/abs(Z9))**2) #A\n",
      "print \"Peak value of load current = %0.2f A \" %Ip \n",
      "Ih=sqrt(Ip**2-I**2)/sqrt(2) #A\n",
      "print \"RMS harmonic current = %0.3f A \" %Ih \n",
      "hd=sqrt(Ip**2-I**2)/I #harmonic distortion\n",
      "print \"Harmonic distortion = %0.1f %%\" %(hd*100) \n",
      "Irms_load=Ip/sqrt(2) #A\n",
      "Pout=Irms_load**2*R #W\n",
      "print \"Total output power = %0.1f W \" %Pout \n",
      "Pout_com=Irms**2*R #W(fundamental component)\n",
      "print \"Fundamental component of power = %0.2f W \" %Pout_com \n",
      "Iavg_in=Pout/V #A\n",
      "print \"Average input current = %0.4f A \" %Iavg_in \n",
      "Ip_thy=Ip #A\n",
      "print \"Peak thyristor current = %0.2f A \" %Ip_thy "
     ],
     "language": "python",
     "metadata": {},
     "outputs": [
      {
       "output_type": "stream",
       "stream": "stdout",
       "text": [
        "RMS load current = 6.56 A\n",
        "Peak value of load current = 11.56 A \n",
        "RMS harmonic current = 4.876 A \n",
        "Harmonic distortion = 74.3 %\n",
        "Total output power = 668.5 W \n",
        "Fundamental component of power = 430.76 W \n",
        "Average input current = 3.3427 A \n",
        "Peak thyristor current = 11.56 A \n"
       ]
      }
     ],
     "prompt_number": 22
    },
    {
     "cell_type": "heading",
     "level": 2,
     "metadata": {},
     "source": [
      "Example 3_6, page 121"
     ]
    },
    {
     "cell_type": "code",
     "collapsed": false,
     "input": [
      "from math import pi, sqrt, tan\n",
      "\n",
      "#Given data: \n",
      "R=2 #in ohm\n",
      "XL=10 #ohm\n",
      "f=4 #kHz\n",
      "Toff=12 #micro sec\n",
      "\n",
      "#Solution :\n",
      "Toff_time=Toff*1.5 #micro sec\n",
      "theta=2*pi*f*10**3*Toff_time*10**-6 #radians\n",
      "Xc=tan(theta)*R+XL #ohm\n",
      "C=1/(2*pi*f*1000*Xc) #F\n",
      "print \"Value of Capacitance = %0.2e F\" %C"
     ],
     "language": "python",
     "metadata": {},
     "outputs": [
      {
       "output_type": "stream",
       "stream": "stdout",
       "text": [
        "Value of Capacitance = 3.63e-06 F\n"
       ]
      }
     ],
     "prompt_number": 24
    },
    {
     "cell_type": "heading",
     "level": 2,
     "metadata": {},
     "source": [
      "Example 3_7, page 125"
     ]
    },
    {
     "cell_type": "code",
     "collapsed": false,
     "input": [
      "from math import sqrt\n",
      "\n",
      "#Given data: \n",
      "V=400 #V\n",
      "R=10 #in ohm/phase\n",
      "\n",
      "#Solution :\n",
      "Ipeak=V/2/R #A\n",
      "Irms=sqrt(Ipeak**2*2/3) #A\n",
      "print \"RMS load current = %0.2f A\" %Irms\n",
      "Pout=Irms**2*R*3 #W\n",
      "print \"Power output = %0.f W  \" %Pout\n",
      "Iavg=Ipeak/3 #A\n",
      "print \"Average thyristor current = %0.2f A \" %Iavg \n",
      "Irms_thyristor=sqrt(Ipeak**2/3) #A\n",
      "print \"RMS value of thyristor current = %0.2f A  \" %Irms_thyristor "
     ],
     "language": "python",
     "metadata": {},
     "outputs": [
      {
       "output_type": "stream",
       "stream": "stdout",
       "text": [
        "RMS load current = 16.33 A\n",
        "Power output = 8000 W  \n",
        "Average thyristor current = 6.67 A \n",
        "RMS value of thyristor current = 11.55 A  \n"
       ]
      }
     ],
     "prompt_number": 26
    },
    {
     "cell_type": "heading",
     "level": 2,
     "metadata": {},
     "source": [
      "Example 3_8, page 126"
     ]
    },
    {
     "cell_type": "code",
     "collapsed": false,
     "input": [
      "from __future__ import division\n",
      "from sympy.mpmath import *\n",
      "#Given data: \n",
      "V=400 #V\n",
      "R=10 #in ohm/phase\n",
      "\n",
      "#Solution :\n",
      "RL=R+R/2 #ohm\n",
      "i1=V/RL #A\n",
      "i2=V/RL #A\n",
      "i3=V/RL #A\n",
      "Irms_load=sqrt(1/2/pi*(quad(lambda theta:i1**2,[0,2*pi/3])+quad(lambda theta:(i1/2)**2,[2*pi/3,2*pi]))) #A\n",
      "print \"RMS load current = %0.3f A\" %Irms_load\n",
      "Pout=Irms_load**2*R*3 #W\n",
      "print \"Power output = %0.1f W \" %Pout \n",
      "Ipeak=i1 #A\n",
      "Iavg=1/2/pi*(Ipeak*pi/3+Ipeak/2*2*pi/3) #A\n",
      "print \"Average thyristor current = %0.2f A  \" %Iavg \n",
      "Irms_thyristor=sqrt(1/2/pi*(Ipeak**2*pi/3+(Ipeak/2)**2*2*pi/3)) #A\n",
      "print \"RMS value of thyristor current = %0.2f A  \" %Irms_thyristor "
     ],
     "language": "python",
     "metadata": {},
     "outputs": [
      {
       "output_type": "stream",
       "stream": "stdout",
       "text": [
        "RMS load current = 18.856 A\n",
        "Power output = 10666.7 W \n",
        "Average thyristor current = 8.89 A  \n",
        "RMS value of thyristor current = 13.33 A  \n"
       ]
      }
     ],
     "prompt_number": 29
    }
   ],
   "metadata": {}
  }
 ]
}
