{
 "metadata": {
  "name": "",
  "signature": ""
 },
 "nbformat": 3,
 "nbformat_minor": 0,
 "worksheets": [
  {
   "cells": [
    {
     "cell_type": "heading",
     "level": 1,
     "metadata": {},
     "source": [
      "chapter6, Control Of DC Drives"
     ]
    },
    {
     "cell_type": "heading",
     "level": 2,
     "metadata": {},
     "source": [
      "Example 6_1 : page 173"
     ]
    },
    {
     "cell_type": "code",
     "collapsed": false,
     "input": [
      "from __future__ import division\n",
      "from numpy import array, sqrt, nditer\n",
      "#Given data: \n",
      "hp=array([50,100,150,120,0]) #hp\n",
      "t=array([20,20,10,20,15]) #seconds\n",
      "\n",
      "#Solution :\n",
      "def rms(hp,t):\n",
      "    it = nditer([hp,t,None])\n",
      "    for x,y,z in it:\n",
      "        z[...] = (x**2*y) #hp\n",
      "    return it.operands[2]\n",
      "hp_rms_t = rms(hp,t)\n",
      "hp_rms=sqrt(sum(hp_rms_t)/sum(t)) #hp\n",
      "print \"Required hp = %0.2f hp\" %hp_rms \n",
      "print \"Motor size should be 100 hp\""
     ],
     "language": "python",
     "metadata": {},
     "outputs": [
      {
       "output_type": "stream",
       "stream": "stdout",
       "text": [
        "Required hp = 94.74 hp\n",
        "Motor size should be 100 hp\n"
       ]
      }
     ],
     "prompt_number": 14
    },
    {
     "cell_type": "heading",
     "level": 2,
     "metadata": {},
     "source": [
      "Example 6_2 : page 174"
     ]
    },
    {
     "cell_type": "code",
     "collapsed": false,
     "input": [
      "from __future__ import division\n",
      "import math\n",
      "from sympy import *\n",
      "#Given data: \n",
      "P=30 #kW\n",
      "theta1=30 #degree C\n",
      "t1=40 #minutes\n",
      "theta2=45 #degree C\n",
      "t2=80 #minutes\n",
      "t2=2*t1 #minutes\n",
      "Loss_fl=2 #kW\n",
      "Loss_Cu=2.5 #kW\n",
      "\n",
      "#Solution :\n",
      "#formula : theta1=theta_f*(1-exp(-t1/T)) \n",
      "T = symbols('T')\n",
      "expr = theta1/theta2-(1-exp(-t1/T))/(1-exp(-t2/T))\n",
      "expr = simplify(expr)\n",
      "T = solve(expr, T)[0] # minutes\n",
      "print \"Thermal time constant = %0.2f minutes\" %T\n",
      "theta_f=theta1/(1-math.exp(-t1/T)) \n",
      "print \"Final temperature rise = %0.f degrees\" %theta_f\n",
      "alfa=Loss_fl/Loss_Cu \n",
      "t=20 #minutes\n",
      "rating=P*np.sqrt((1+alfa)/(1-math.exp(-t/T))-alfa) #kW\n",
      "print \"20 minute rating of motor = %0.2f kW \" %rating"
     ],
     "language": "python",
     "metadata": {},
     "outputs": [
      {
       "output_type": "stream",
       "stream": "stdout",
       "text": [
        "Thermal time constant = 57.71 minutes\n",
        "Final temperature rise = 60 degrees\n",
        "20 minute rating of motor = 69.36 kW \n"
       ]
      }
     ],
     "prompt_number": 16
    },
    {
     "cell_type": "heading",
     "level": 2,
     "metadata": {},
     "source": [
      "Example 6_3 : page 187"
     ]
    },
    {
     "cell_type": "code",
     "collapsed": false,
     "input": [
      "from __future__ import division\n",
      "from math import *\n",
      "#Given data: \n",
      "V=230 #V\n",
      "f=50 #Hz\n",
      "alfa=0 #degree\n",
      "Rf=200 #ohm\n",
      "Ra=0.3 #ohm\n",
      "T=50 #N-m\n",
      "N=900 #rpm\n",
      "Kv=0.8 #V/A-rad/s\n",
      "Kt=0.8 #N-m/A**2\n",
      "\n",
      "#Solution :\n",
      "Vm=V*sqrt(2) #V\n",
      "Vf=2*Vm/pi #V\n",
      "If=Vf/Rf #A\n",
      "print \"Field current = %0.4f A \" %If\n",
      "Ia=T/(Kt*If) #A\n",
      "omega=(2*pi/60)*N #radian/s\n",
      "Eb=Kv*omega*If #V\n",
      "Va=Eb+Ia*Ra #V\n",
      "alfa_a=degrees(acos(Va/(Vm/pi)-1)) #degree\n",
      "print \"Firing angle of armature circuit = %0.3f degree\" %alfa_a\n",
      "Pout=Va*Ia #W\n",
      "from sympy.mpmath import *\n",
      "I_in = sqrt(Ia**2/180*quad(lambda omegat:1,[alfa_a, 180])) # replaced pi degree to 180 radian\n",
      "VA_in=V*I_in #VA\n",
      "pf_in=Pout/VA_in #lagging\n",
      "print \"Input power factor = %0.3f lagging \" %pf_in"
     ],
     "language": "python",
     "metadata": {},
     "outputs": [
      {
       "output_type": "stream",
       "stream": "stdout",
       "text": [
        "Field current = 1.0354 A \n",
        "Firing angle of armature circuit = 94.078 degree\n",
        "Input power factor = 0.605 lagging \n"
       ]
      }
     ],
     "prompt_number": 31
    }
   ],
   "metadata": {}
  }
 ]
}
