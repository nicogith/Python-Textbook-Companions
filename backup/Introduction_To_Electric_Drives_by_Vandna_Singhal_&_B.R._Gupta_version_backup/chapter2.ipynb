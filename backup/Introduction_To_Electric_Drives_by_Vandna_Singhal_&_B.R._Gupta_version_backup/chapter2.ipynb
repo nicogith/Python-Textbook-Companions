{
 "metadata": {
  "name": "",
  "signature": ""
 },
 "nbformat": 3,
 "nbformat_minor": 0,
 "worksheets": [
  {
   "cells": [
    {
     "cell_type": "heading",
     "level": 1,
     "metadata": {},
     "source": [
      "Chapter2, Phase Controlled Rectifiers"
     ]
    },
    {
     "cell_type": "heading",
     "level": 2,
     "metadata": {},
     "source": [
      "Example 2_1, page 66"
     ]
    },
    {
     "cell_type": "code",
     "collapsed": false,
     "input": [
      "from __future__ import division\n",
      "from math import pi, sin, cos, sqrt\n",
      "#Given data: \n",
      "Vin=400.0 #V\n",
      "alfa=30.0 #degree\n",
      "R=50.0 #ohm\n",
      "\n",
      "#Solution :\n",
      "Vdc=Vin/pi/2*(1+cos(alfa*pi/180)) #V\n",
      "print \"Average load voltage = %0.1f V  \" %Vdc \n",
      "I=Vdc/R #A\n",
      "print \"Average load current = %0.3f A \" %I \n",
      "Vrms=Vin*sqrt((180-alfa)/4/180+sin(2*alfa*pi/180)/8/pi) #V\n",
      "print \"rms load voltage = %0.2f V  \" %Vrms \n",
      "Irms=Vrms/R #A\n",
      "print \"rms load current = %0.3f A \" %Irms "
     ],
     "language": "python",
     "metadata": {},
     "outputs": [
      {
       "output_type": "stream",
       "stream": "stdout",
       "text": [
        "Average load voltage = 118.8 V  \n",
        "Average load current = 2.376 A \n",
        "rms load voltage = 197.10 V  \n",
        "rms load current = 3.942 A \n"
       ]
      }
     ],
     "prompt_number": 11
    },
    {
     "cell_type": "heading",
     "level": 2,
     "metadata": {},
     "source": [
      "Example 2_2, page 66"
     ]
    },
    {
     "cell_type": "code",
     "collapsed": false,
     "input": [
      "from __future__ import division\n",
      "from sympy.mpmath import *\n",
      "#Given data: \n",
      "Vo=50 #V\n",
      "R=10 #ohm\n",
      "#Vin=100*sin(omega*t) #V\n",
      "Vm=100 #V\n",
      "\n",
      "#Solution :\n",
      "omega_t=asin(Vo/Vm) #radian\n",
      "Iavg=1/2/pi*quad(lambda omega_t:(Vm*sin(omega_t)-Vo)/R,[omega_t,omega_t+2*pi/3]) #A\n",
      "print \"Average current in the circuit = %0.2f A  \" %Iavg "
     ],
     "language": "python",
     "metadata": {},
     "outputs": [
      {
       "output_type": "stream",
       "stream": "stdout",
       "text": [
        "Average current in the circuit = 1.09 A  \n"
       ]
      }
     ],
     "prompt_number": 12
    },
    {
     "cell_type": "heading",
     "level": 2,
     "metadata": {},
     "source": [
      "Example 2_3, page 67"
     ]
    },
    {
     "cell_type": "code",
     "collapsed": false,
     "input": [
      "#Given data: \n",
      "V=110 # V\n",
      "Eb=55.5 #V\n",
      "R=10 #ohm\n",
      "Vm=V*sqrt(2) #V\n",
      "\n",
      "#Solution :\n",
      "omega_t=degrees(asin(Eb/Vm)) #degree\n",
      "Iavg=1/2/180*quad(lambda omega_t:(Vm*sin(omega_t*pi/180)-Eb)/R,[omega_t,180-omega_t]) #A\n",
      "print \"Average current in the circuit = %0.3f A  \" %Iavg "
     ],
     "language": "python",
     "metadata": {},
     "outputs": [
      {
       "output_type": "stream",
       "stream": "stdout",
       "text": [
        "Average current in the circuit = 2.495 A  \n"
       ]
      }
     ],
     "prompt_number": 19
    },
    {
     "cell_type": "heading",
     "level": 2,
     "metadata": {},
     "source": [
      "Example 2_4, page 67"
     ]
    },
    {
     "cell_type": "code",
     "collapsed": false,
     "input": [
      "#Given data: \n",
      "Vs=230 #V\n",
      "R=15 #ohm\n",
      "alfa=pi/2 #radian\n",
      "\n",
      "#Solution :\n",
      "Vm=sqrt(2)*Vs #V\n",
      "Vdc=Vm/2/pi*(1+cos(alfa)) #V\n",
      "print \"Vdc = %0.2f V  \" %Vdc \n",
      "Idc=Vdc/R #A\n",
      "print \"Idc = %0.2f A \" %Idc \n",
      "Vrms=Vm*sqrt((pi-alfa)/4/pi+sin(pi)/8/pi) #V\n",
      "print \"Vrms = %0.2f V \" %Vrms \n",
      "Irms=Vrms/R #A\n",
      "print \"Irms = %0.2f A\" %Irms\n",
      "Pdc=Vdc*Idc #W\n",
      "print \"Pdc = %0.2f W\" %Pdc\n",
      "Pac=Vrms*Irms #W\n",
      "print \"Pac = %0.2f W\" %Pac\n",
      "R_eff=Pdc/Pac #rectification efficiency\n",
      "print \"Rectification efficiency %0.2f \" %R_eff \n",
      "Kf=Vrms/Vdc #Form factor\n",
      "print \"Form factor %0.2f \"%Kf\n",
      "Kr=sqrt(Kf**2-1) #Ripple factor\n",
      "print \"Ripple factor %0.2f \" %Kr\n",
      "VA_rating=Vs*Irms #VA\n",
      "print \"VoltAmpere rating = %0.2f VA\" %VA_rating\n",
      "TUF=Pdc/VA_rating #Transformer utilization factor\n",
      "print \"Transformer utilization factor %.2f\" %TUF\n",
      "PIV=Vm #V\n",
      "print \"Peak Inverse Voltage across thyristor = %0.f2 V\" %PIV\n",
      "#Ans in the book is wrong for some part."
     ],
     "language": "python",
     "metadata": {},
     "outputs": [
      {
       "output_type": "stream",
       "stream": "stdout",
       "text": [
        "Vdc = 51.77 V  \n",
        "Idc = 3.45 A \n",
        "Vrms = 115.00 V \n",
        "Irms = 7.67 A\n",
        "Pdc = 178.66 W\n",
        "Pac = 881.67 W\n",
        "Rectification efficiency 0.20 \n",
        "Form factor 2.22 \n",
        "Ripple factor 1.98 \n",
        "VoltAmpere rating = 1763.33 VA\n",
        "Transformer utilization factor 0.10\n",
        "Peak Inverse Voltage across thyristor = 3252 V\n"
       ]
      }
     ],
     "prompt_number": 20
    },
    {
     "cell_type": "heading",
     "level": 2,
     "metadata": {},
     "source": [
      "Example 2_5, page 74"
     ]
    },
    {
     "cell_type": "code",
     "collapsed": false,
     "input": [
      "from math import *\n",
      "from __future__ import division\n",
      "#Given data: \n",
      "Vo=150 #V\n",
      "R=30 #ohm\n",
      "alfa=45 #degree\n",
      "\n",
      "#Solution :\n",
      "Vdc=sqrt(2)*Vo/pi*(1+cos(alfa*pi/180)) #V\n",
      "print \"Average dc Voltage = %0.2f V\" %Vdc\n",
      "Iavg=Vdc/R #A\n",
      "print \"Average load current = %0.2f A\" %Iavg\n",
      "Vrms=sqrt(2)*Vo*sqrt((180-alfa)/2/180+sin(90*pi/180)/4/pi   ) #V\n",
      "print \"rms load Voltage = %0.f V\" %Vrms\n",
      "Irms=Vrms/R #A\n",
      "print \"rms load current = %0.3f A \" %Irms "
     ],
     "language": "python",
     "metadata": {},
     "outputs": [
      {
       "output_type": "stream",
       "stream": "stdout",
       "text": [
        "Average dc Voltage = 115.27 V\n",
        "Average load current = 3.84 A\n",
        "rms load Voltage = 143 V\n",
        "rms load current = 4.767 A \n"
       ]
      }
     ],
     "prompt_number": 23
    },
    {
     "cell_type": "heading",
     "level": 2,
     "metadata": {},
     "source": [
      "Example 2_6, page 74"
     ]
    },
    {
     "cell_type": "code",
     "collapsed": false,
     "input": [
      "from math import *\n",
      "from __future__ import division\n",
      "#Given data: \n",
      "Vs=230 #V\n",
      "f=50 #Hz\n",
      "Vdc=100 #V\n",
      "Ip=15 #A\n",
      "alfa=30 #degree\n",
      "\n",
      "#Solution :\n",
      "Vm=Vdc*pi/(2*cos(alfa*pi/180))+1.7 #V\n",
      "Vrms_2nd=Vm/sqrt(2) #V\n",
      "TurnRatio=Vs/Vrms_2nd \n",
      "print \"(a) Turn ratio of transformer\",round(TurnRatio, 2)\n",
      "Irms_2nd=sqrt(Ip**2/2) #A\n",
      "Rating=2*Vrms_2nd*Irms_2nd #VA\n",
      "print \"(b) Transformer rating = %0.2f VA\" %Rating \n",
      "PIV=2*Vm #V\n",
      "print \"(c) PIV = %0.2f V\" %PIV\n",
      "print \"(d) RMS value of thyristor current = %0.2f A\" %Irms_2nd\n",
      "#/Answer in the book is wrong for some part."
     ],
     "language": "python",
     "metadata": {},
     "outputs": [
      {
       "output_type": "stream",
       "stream": "stdout",
       "text": [
        "(a) Turn ratio of transformer 1.78\n",
        "(b) Transformer rating = 2746.20 VA\n",
        "(c) PIV = 366.16 V\n",
        "(d) RMS value of thyristor current = 10.61 A\n"
       ]
      }
     ],
     "prompt_number": 25
    },
    {
     "cell_type": "heading",
     "level": 2,
     "metadata": {},
     "source": [
      "Example 2_7, page 76"
     ]
    },
    {
     "cell_type": "code",
     "collapsed": false,
     "input": [
      "from math import *\n",
      "from __future__ import division\n",
      "#Given data: \n",
      "P=10 #kW\n",
      "Idc=50 #A\n",
      "SF=2 #safety factor\n",
      "\n",
      "#Solution :\n",
      "Vdc=P*1000/Idc #V\n",
      "alfa=0 #degree\n",
      "Vm=Vdc*pi/(2*cos(alfa*pi/180))+1.7 #V\n",
      "PIV=2*Vm #V\n",
      "Vthy=SF*PIV #V\n",
      "print \"(a) Voltage rating of thristor = %0.2f V\" %Vthy\n",
      "PIV=Vm #V#for bridge rectifier\n",
      "Vthy=SF*PIV #V\n",
      "print \"(b) Voltage rating of thristor = %0.2f V\" %Vthy\n",
      "#/Answer in the book is wrong."
     ],
     "language": "python",
     "metadata": {},
     "outputs": [
      {
       "output_type": "stream",
       "stream": "stdout",
       "text": [
        "(a) Voltage rating of thristor = 1263.44 V\n",
        "(b) Voltage rating of thristor = 631.72 V\n"
       ]
      }
     ],
     "prompt_number": 26
    },
    {
     "cell_type": "heading",
     "level": 2,
     "metadata": {},
     "source": [
      "Example 2_8, page 79"
     ]
    },
    {
     "cell_type": "code",
     "collapsed": false,
     "input": [
      "from math import *\n",
      "from __future__ import division\n",
      "#Given data: \n",
      "Vs=230 #V\n",
      "f=50 #Hz\n",
      "Io=15 #A\n",
      "R=0.5 #ohm\n",
      "L=0.3 #H\n",
      "E1=100 #V\n",
      "E2=-100 #V\n",
      "\n",
      "#Solution :\n",
      "#/part (a)\n",
      "Vm=sqrt(2)*Vs #V\n",
      "#2*Vm/pi*cos(alfa)=E1+Io*R\n",
      "alfa1=degrees(acos((E1+Io*R)/(2*Vm/pi))) #degree\n",
      "print \"(a) Firing angle = %0.2f degree\" %alfa1\n",
      "#/part (b)\n",
      "alfa2=degrees(acos((E2+Io*R)/(2*Vm))) #degree\n",
      "print \"(b) Firing angle = %0.3f degree\" %alfa2\n",
      "print \"Part(c) : \" \n",
      "#Pin=Vs*Io*cos(theta)\n",
      "Pout=E1*Io+Io**2*R #W\n",
      "#Pin=Pout\n",
      "cos_theta=(Pout/Vs/Io) #laging\n",
      "print \"When E=100, input power factor = %0.3f lagging \" %cos_theta \n",
      "Pout=-E2*Io-Io**2*R #W\n",
      "#Pin=Pout\n",
      "cos_theta=(Pout/Vs/Io) #laging\n",
      "print \"When E=-100, input power factor = %0.3f lagging \" %cos_theta "
     ],
     "language": "python",
     "metadata": {},
     "outputs": [
      {
       "output_type": "stream",
       "stream": "stdout",
       "text": [
        "(a) Firing angle = 58.73 degree\n",
        "(b) Firing angle = 98.175 degree\n",
        "Part(c) : \n",
        "When E=100, input power factor = 0.467 lagging \n",
        "When E=-100, input power factor = 0.402 lagging \n"
       ]
      }
     ],
     "prompt_number": 34
    },
    {
     "cell_type": "heading",
     "level": 2,
     "metadata": {},
     "source": [
      "Example 2_9, page 80"
     ]
    },
    {
     "cell_type": "code",
     "collapsed": false,
     "input": [
      "from math import *\n",
      "from __future__ import division\n",
      "#Given data: \n",
      "V=230 #V\n",
      "f=50 #Hz\n",
      "R=5 #ohm\n",
      "L=8*10**-3 #H\n",
      "E=50 #V\n",
      "alfa=40 #degree\n",
      "\n",
      "#Solution :\n",
      "#Vdc=2*sqrt(2)*V*cosd(alfa)/pi=E+Io*R\n",
      "Io=(2*sqrt(2)*V*cos(alfa*pi/180)/pi-E)/R #A\n",
      "print \"Average value of load current = %0.2f A\" %Io"
     ],
     "language": "python",
     "metadata": {},
     "outputs": [
      {
       "output_type": "stream",
       "stream": "stdout",
       "text": [
        "Average value of load current = 21.73 A\n"
       ]
      }
     ],
     "prompt_number": 35
    },
    {
     "cell_type": "heading",
     "level": 2,
     "metadata": {},
     "source": [
      "Example 2_10, page 80"
     ]
    },
    {
     "cell_type": "code",
     "collapsed": false,
     "input": [
      "from math import *\n",
      "from __future__ import division\n",
      "#Given data: \n",
      "Vs=230 #V\n",
      "f=50 #Hz\n",
      "Vdc=100 #V\n",
      "Ip=15 #A\n",
      "alfa=30 #degree\n",
      "\n",
      "#Solution :\n",
      "#Vdc=2*Vm*cos(alfa)/pi-2*1.7#(Full converter bridge)\n",
      "Vm=(Vdc+2*1.7)/2/cos(alfa*pi/180)*pi #V\n",
      "Vrms=Vm/sqrt(2) #V\n",
      "TurnRatio=Vs/Vrms \n",
      "print \"(a) Turn ratio of transformer\",round(TurnRatio, 3)\n",
      "Irms=sqrt(Ip**2/2) #A\n",
      "Rating=Vrms*Ip #VA\n",
      "print \"(b) Transformer rating = %0.2f VA\" %Rating\n",
      "PIV=Vm #V\n",
      "print \"(c) PIV = %0.2f V\" %PIV\n",
      "print \"(d) RMS value of thyristor current = %0.2f A\" %Irms"
     ],
     "language": "python",
     "metadata": {},
     "outputs": [
      {
       "output_type": "stream",
       "stream": "stdout",
       "text": [
        "(a) Turn ratio of transformer 1.734\n",
        "(b) Transformer rating = 1989.23 VA\n",
        "(c) PIV = 187.55 V\n",
        "(d) RMS value of thyristor current = 10.61 A\n"
       ]
      }
     ],
     "prompt_number": 37
    },
    {
     "cell_type": "heading",
     "level": 2,
     "metadata": {},
     "source": [
      "Example 2_11, page 82"
     ]
    },
    {
     "cell_type": "code",
     "collapsed": false,
     "input": [
      "from math import *\n",
      "from __future__ import division\n",
      "#Given data: \n",
      "Vs=230 #V\n",
      "f=50 #Hz\n",
      "alfa=90 #degree\n",
      "\n",
      "#Solution :\n",
      "Vm=Vs*sqrt(2) #V\n",
      "Vdc=Vm/pi*(1+cos(alfa*pi/180))#V\n",
      "print \"Vdc = %0.2f V\" %Vdc\n",
      "Vrms=Vm/sqrt(2)*sqrt(1/pi*(pi-pi/2+sin(pi)/2)) #V\n",
      "print \"Vrms = %0.1f V\" %Vrms\n",
      "kF=Vrms/Vdc \n",
      "print \"Form factor =\",round(kF,3) "
     ],
     "language": "python",
     "metadata": {},
     "outputs": [
      {
       "output_type": "stream",
       "stream": "stdout",
       "text": [
        "Vdc = 103.54 V\n",
        "Vrms = 162.6 V\n",
        "Form factor = 1.571\n"
       ]
      }
     ],
     "prompt_number": 40
    },
    {
     "cell_type": "heading",
     "level": 2,
     "metadata": {},
     "source": [
      "Example 2_12, page 85"
     ]
    },
    {
     "cell_type": "code",
     "collapsed": false,
     "input": [
      "from math import *\n",
      "from __future__ import division\n",
      "#Given data: \n",
      "Vs=230 #V\n",
      "f=50 #Hz\n",
      "alfa=90 #degree\n",
      "\n",
      "#Solution :\n",
      "Vm=Vs*sqrt(2) #V\n",
      "Vdc=Vm/pi*(1+cos(alfa*pi/180))#V\n",
      "print \"Vdc = %0.2f V\" %Vdc\n",
      "Vrms=Vm/sqrt(2)*sqrt(1/pi*(pi-pi/2+sin(pi)/2)) #V\n",
      "print \"Vrms = %0.2f V\" %Vrms\n",
      "Is_by_I=sqrt(1-pi/2/pi) \n",
      "Is1_by_I=2*sqrt(2)/pi*cos(pi/4) \n",
      "HF=sqrt((Is_by_I/Is1_by_I)**2-1) #unitless\n",
      "print \"Harmonic factor =\",round(HF,3) \n",
      "theta1=-alfa/2*pi/180 #radian\n",
      "DF=cos(theta1) #unitless\n",
      "print \"Displacement factor =\",round(DF,4) \n",
      "PF=(Is1_by_I/Is_by_I)*DF #lagging\n",
      "print \"Power factor = %0.4f lagging \" %PF "
     ],
     "language": "python",
     "metadata": {},
     "outputs": [
      {
       "output_type": "stream",
       "stream": "stdout",
       "text": [
        "Vdc = 103.54 V\n",
        "Vrms = 162.63 V\n",
        "Harmonic factor = 0.483\n",
        "Displacement factor = 0.7071\n",
        "Power factor = 0.6366 lagging \n"
       ]
      }
     ],
     "prompt_number": 44
    },
    {
     "cell_type": "heading",
     "level": 2,
     "metadata": {},
     "source": [
      "Example 2_13, page 87"
     ]
    },
    {
     "cell_type": "code",
     "collapsed": false,
     "input": [
      "from math import *\n",
      "from __future__ import division\n",
      "#Given data: \n",
      "Vs=230 #V\n",
      "f=50 #Hz\n",
      "alfa=pi/3 #radian\n",
      "\n",
      "#Solution :\n",
      "Vm=Vs*sqrt(2) #V\n",
      "Vdc=2*Vm/pi*cos(alfa)#V\n",
      "print \"Vdc = %0.2f V\" %Vdc\n",
      "Vrms=Vs #V\n",
      "print \"Vrms = %0.2f V\" %Vrms\n",
      "Is_by_I=sqrt(1-pi/2/pi) \n",
      "Is1_by_I=2*sqrt(2)/pi*cos(pi/4) \n",
      "HF=sqrt((Is_by_I/Is1_by_I)**2-1) #unitless\n",
      "print \"Harmonic factor =\",round(HF,3) \n",
      "fi1=-alfa #radian\n",
      "DF=cos(fi1) #unitless\n",
      "print \"Displacement factor =\",round(DF,2) \n",
      "PF=(Is1_by_I/Is_by_I)*DF #lagging\n",
      "print \"Power factor = %0.2f lagging \" %PF "
     ],
     "language": "python",
     "metadata": {},
     "outputs": [
      {
       "output_type": "stream",
       "stream": "stdout",
       "text": [
        "Vdc = 103.54 V\n",
        "Vrms = 230.00 V\n",
        "Harmonic factor = 0.483\n",
        "Displacement factor = 0.5\n",
        "Power factor = 0.45 lagging \n"
       ]
      }
     ],
     "prompt_number": 46
    },
    {
     "cell_type": "heading",
     "level": 2,
     "metadata": {},
     "source": [
      "Example 2_14, page 89"
     ]
    },
    {
     "cell_type": "code",
     "collapsed": false,
     "input": [
      "from math import *\n",
      "from __future__ import division\n",
      "#Given data: \n",
      "Vs=230 #V\n",
      "f=50 #Hz\n",
      "alfa=30*pi/180 #radian\n",
      "I=4 #A\n",
      "\n",
      "#Solution :\n",
      "print \"part (a) : \" \n",
      "Vm=Vs*sqrt(2) #V\n",
      "Vdc=2*Vm/pi*cos(alfa)#V\n",
      "RL=Vdc/I #ohm\n",
      "IL=I*2*sqrt(2)/pi #A\n",
      "Pin_active=Vs*IL*cos(alfa) #W\n",
      "Pin_reactive=Vs*IL*sin(alfa) #vars\n",
      "Pin_appearent=Vs*IL #VA\n",
      "print \"dc output voltage = %0.2f V \" % Vdc \n",
      "print \"Active power input = %0.2f W\" %Pin_active\n",
      "print \"Reactive power input = %0.2f vars \" %Pin_reactive \n",
      "print \"Appearent power input = %0.2f VA \" %Pin_appearent \n",
      "print \"part (b) : \" \n",
      "Vdc=Vm/pi*(1+cos(alfa))#V\n",
      "IL=Vdc/RL #A\n",
      "I_fund=2*sqrt(2)/pi*IL*cos(alfa/2) #A\n",
      "Pin_active=Vs*I_fund*cos(alfa/2) #W\n",
      "Pin_reactive=Vs*I_fund*sin(alfa/2) #vars\n",
      "Pin_appearent=Vs*I_fund #VA\n",
      "print \"dc output voltage = %0.2f V \" % Vdc \n",
      "print \"Active power input = %0.2f W\" %Pin_active\n",
      "print \"Reactive power input = %0.2f vars \" %Pin_reactive \n",
      "print \"Appearent power input = %0.2f VA \" %Pin_appearent \n",
      "print \"part (c) : \" \n",
      "Vdc=Vs/sqrt(2)/pi*(1+cos(alfa))#V\n",
      "Idc=Vdc/RL #A\n",
      "print \"dc output voltage = %0.2f V \"%Vdc \n",
      "print \"dc output current = %0.2f A \" %Idc "
     ],
     "language": "python",
     "metadata": {},
     "outputs": [
      {
       "output_type": "stream",
       "stream": "stdout",
       "text": [
        "part (a) : \n",
        "dc output voltage = 179.33 V \n",
        "Active power input = 717.32 W\n",
        "Reactive power input = 414.15 vars \n",
        "Appearent power input = 828.29 VA \n",
        "part (b) : \n",
        "dc output voltage = 193.20 V \n",
        "Active power input = 832.58 W\n",
        "Reactive power input = 223.09 vars \n",
        "Appearent power input = 861.95 VA \n",
        "part (c) : \n",
        "dc output voltage = 96.60 V \n",
        "dc output current = 2.15 A \n"
       ]
      }
     ],
     "prompt_number": 47
    },
    {
     "cell_type": "heading",
     "level": 2,
     "metadata": {},
     "source": [
      "Example 2_15, page 90"
     ]
    },
    {
     "cell_type": "code",
     "collapsed": false,
     "input": [
      "from math import *\n",
      "from __future__ import division\n",
      "#Given data: \n",
      "Vs=230 #V\n",
      "f=50 #Hz\n",
      "alfa=30 #degree\n",
      "IL=10 #A\n",
      "\n",
      "#Solution :\n",
      "Vm=Vs*sqrt(2) #V\n",
      "Vdc=2*Vm/pi*cos(alfa*pi/180)#V\n",
      "print \"dc output voltage = %0.2f V \"%Vdc \n",
      "Irms=IL #A\n",
      "print \"(b) Irms  = %0.2f A\" %Irms\n",
      "Is1=2*sqrt(2)/pi*IL #A\n",
      "print \"(c) Fundamental component of input current = %0.2f A\" %Is1\n",
      "DF=cos(-alfa*pi/180) #unitless\n",
      "print \"(d) Displacement fator =\",round(DF,3) \n",
      "pf_in=Is1/IL*DF #lagging\n",
      "print \"(e) Input power fator = %0.3f lagging \" %pf_in \n",
      "HF=sqrt((IL/Is1)**2-1) #unitless\n",
      "print \"(f) Harmonic factor =\",round(HF,3) \n",
      "Vrms=Vs #V\n",
      "FF=Vrms/Vdc #form fator\n",
      "RF=sqrt(FF**2-1) #ripple fator\n",
      "print \"(g) Ripple factor =\",round(RF,3) "
     ],
     "language": "python",
     "metadata": {},
     "outputs": [
      {
       "output_type": "stream",
       "stream": "stdout",
       "text": [
        "dc output voltage = 179.33 V \n",
        "(b) Irms  = 10.00 A\n",
        "(c) Fundamental component of input current = 9.00 A\n",
        "(d) Displacement fator = 0.866\n",
        "(e) Input power fator = 0.780 lagging \n",
        "(f) Harmonic factor = 0.483\n",
        "(g) Ripple factor = 0.803\n"
       ]
      }
     ],
     "prompt_number": 51
    },
    {
     "cell_type": "heading",
     "level": 2,
     "metadata": {},
     "source": [
      "Example 2_16, page 91"
     ]
    },
    {
     "cell_type": "code",
     "collapsed": false,
     "input": [
      "from math import *\n",
      "from __future__ import division\n",
      "#Given data: \n",
      "Vs=240 #V\n",
      "f=50 #Hz\n",
      "alfa=60 #degree\n",
      "RL=10 #ohm\n",
      "\n",
      "#Solution :\n",
      "Vm=Vs*sqrt(2) #V\n",
      "Vdc=Vm/pi*(1+cos(alfa*pi/180))#V\n",
      "print \"(a) average load voltage = %0.2f V \" %Vdc \n",
      "I=Vdc/RL #A\n",
      "Is=I*sqrt(1-alfa/180) #A\n",
      "Irms=Is #A\n",
      "print \"(b) rms input current = %0.2f A \" %Irms \n",
      "Is1=2*sqrt(2)/pi*I*cos(alfa/2*pi/180) #A\n",
      "fi1=-alfa/2 #degree\n",
      "DF=cos(fi1*pi/180) #unitless\n",
      "pf_in=Is1/Is*DF #lagging\n",
      "print \"(c) Input power fator = %0.3f lagging \" %pf_in \n",
      "Pavg=I**2*RL #W\n",
      "print \"(d) Average power dissipated = %0.2f W \" %Pavg "
     ],
     "language": "python",
     "metadata": {},
     "outputs": [
      {
       "output_type": "stream",
       "stream": "stdout",
       "text": [
        "(a) average load voltage = 162.06 V \n",
        "(b) rms input current = 13.23 A \n",
        "(c) Input power fator = 0.827 lagging \n",
        "(d) Average power dissipated = 2626.25 W \n"
       ]
      }
     ],
     "prompt_number": 53
    },
    {
     "cell_type": "heading",
     "level": 2,
     "metadata": {},
     "source": [
      "Example 2_17, page 93"
     ]
    },
    {
     "cell_type": "code",
     "collapsed": false,
     "input": [
      "from math import *\n",
      "from __future__ import division\n",
      "#Given data: \n",
      "IL=200 #A\n",
      "VL=400 #V\n",
      "Vdc=360 #V\n",
      "variation=10 #%\n",
      "\n",
      "#Solution :\n",
      "Vm=VL*sqrt(2)/sqrt(3) #V\n",
      "#Vdc=3*sqrt(3)/pi*Vm*cosd(alfa)#V\n",
      "alfa = degrees(acos(Vdc/(3*sqrt(3)/pi*Vm)))#degree\n",
      "print \"Firing angle = %0.1f degree\" %alfa\n",
      "S=sqrt(3)*VL*IL #VA\n",
      "print \"Apparent power = %0.f VA \" %S \n",
      "P=S*cos(alfa*pi/180) #W\n",
      "print \"Active power = %0.2f W \" %P \n",
      "Q=sqrt(S**2-P**2) #vars\n",
      "print \"Rective power = %0.2f vars \" %Q \n",
      "Vac1=(1+variation/100)*VL #V\n",
      "alfa1=degrees(acos(Vdc/(3*Vac1*sqrt(2)/pi))) #degree\n",
      "Vac2=(1-variation/100)*VL #V\n",
      "alfa2=degrees(acos(Vdc/(3*Vac2*sqrt(2)/pi))) #degree\n",
      "print \"When variation is +10%%, firing angle = %0.1f degree \" %alfa1 \n",
      "print \"When variation is -10%%, firing angle = %0.1f degree \" %alfa2 \n",
      "#Answer in the book is wrong for some part."
     ],
     "language": "python",
     "metadata": {},
     "outputs": [
      {
       "output_type": "stream",
       "stream": "stdout",
       "text": [
        "Firing angle = 48.2 degree\n",
        "Apparent power = 138564 VA \n",
        "Active power = 92343.59 W \n",
        "Rective power = 103308.58 vars \n",
        "When variation is +10%, firing angle = 52.7 degree \n",
        "When variation is -10%, firing angle = 42.2 degree \n"
       ]
      }
     ],
     "prompt_number": 57
    },
    {
     "cell_type": "heading",
     "level": 2,
     "metadata": {},
     "source": [
      "Example 2_18, page 94"
     ]
    },
    {
     "cell_type": "code",
     "collapsed": false,
     "input": [
      "from math import *\n",
      "from __future__ import division\n",
      "#Given data: \n",
      "Vs=400 #V\n",
      "f=50 #Hz\n",
      "Idc=150 #A\n",
      "alfa=60 #degree\n",
      "\n",
      "#Solution :\n",
      "Vm=Vs*sqrt(2)/sqrt(3) #V\n",
      "Vdc=3*sqrt(3)/pi*Vm*cos(alfa*pi/180)#V\n",
      "Pdc=Vdc*Idc #W\n",
      "print \"Output power, Pdc = %0.2f W \" %Pdc \n",
      "Iavg=Idc/3 #A\n",
      "print \"Average thyristor current = %0.2f A \" %Iavg \n",
      "Irms=Idc/sqrt(3) #A\n",
      "print \"RMS value of thyristor current = %0.2f A \" %Irms \n",
      "Ipeak=Idc #A\n",
      "print \"Peak current through thyristor = %0.2f A \" %Ipeak \n",
      "PIV=sqrt(2)*Vs #V\n",
      "print \"Peak inverse voltage = %0.2f V \" %PIV \n",
      "#Answer of first part in the book is wrong."
     ],
     "language": "python",
     "metadata": {},
     "outputs": [
      {
       "output_type": "stream",
       "stream": "stdout",
       "text": [
        "Output power, Pdc = 40514.23 W \n",
        "Average thyristor current = 50.00 A \n",
        "RMS value of thyristor current = 86.60 A \n",
        "Peak current through thyristor = 150.00 A \n",
        "Peak inverse voltage = 565.69 V \n"
       ]
      }
     ],
     "prompt_number": 59
    },
    {
     "cell_type": "heading",
     "level": 2,
     "metadata": {},
     "source": [
      "Example 2_19, page 94"
     ]
    },
    {
     "cell_type": "code",
     "collapsed": false,
     "input": [
      "from math import *\n",
      "from __future__ import division\n",
      "#Given data: \n",
      "V=415 #V\n",
      "Vdc=460 #V\n",
      "I=200 #A\n",
      "f=50 #Hz\n",
      "\n",
      "#Solution :\n",
      "Vm=V*sqrt(2)/sqrt(3) #V\n",
      "alfa=degrees(acos(Vdc/(3*sqrt(3)/pi*Vm))) #degree\n",
      "print \"Converter firing angle = %0.2f degree \" %alfa \n",
      "Pdc=Vdc*I #W\n",
      "print \"dc power = %0.2f kW \" %(Pdc/1000) \n",
      "IL=I*sqrt(120/180) #A\n",
      "print \"AC line current = %0.2f A \" %(IL) \n",
      "Ipeak=I #A\n",
      "Irms=Ipeak*sqrt(120/360) #A\n",
      "print \"RMS value of thyristor current = %0.1f A \" %(Irms) \n",
      "Iavg=Ipeak/3 #A\n",
      "print \"Average thyristor current = %0.2f A \" %Iavg "
     ],
     "language": "python",
     "metadata": {},
     "outputs": [
      {
       "output_type": "stream",
       "stream": "stdout",
       "text": [
        "Converter firing angle = 34.84 degree \n",
        "dc power = 92.00 kW \n",
        "AC line current = 163.30 A \n",
        "RMS value of thyristor current = 115.5 A \n",
        "Average thyristor current = 66.67 A \n"
       ]
      }
     ],
     "prompt_number": 60
    },
    {
     "cell_type": "heading",
     "level": 2,
     "metadata": {},
     "source": [
      "Example 2_20, page 95"
     ]
    },
    {
     "cell_type": "code",
     "collapsed": false,
     "input": [
      "from math import *\n",
      "from __future__ import division\n",
      "#Given data: \n",
      "Vs=230 #V\n",
      "f=50 #Hz\n",
      "emf=200 #V\n",
      "Rint=0.5 #ohm\n",
      "I=20 #A\n",
      "\n",
      "#Solution :\n",
      "Vm=Vs*sqrt(2)/sqrt(3) #V\n",
      "Vdc=emf+Rint*I #V\n",
      "alfa=degrees(acos(Vdc/(3*sqrt(3)/pi*Vm))) #degree\n",
      "print \"Firing angle = %0.2f degree \" %(alfa) \n",
      "Pout=emf*I+I**2*Rint #W\n",
      "Is=sqrt(I**2*120/180) #A\n",
      "cos_theta=Pout/(sqrt(3)*Vs*Is) #power factor\n",
      "print \"Input power factor = %0.3f lagging \" %(cos_theta) "
     ],
     "language": "python",
     "metadata": {},
     "outputs": [
      {
       "output_type": "stream",
       "stream": "stdout",
       "text": [
        "Firing angle = 47.46 degree \n",
        "Input power factor = 0.646 lagging \n"
       ]
      }
     ],
     "prompt_number": 62
    },
    {
     "cell_type": "heading",
     "level": 2,
     "metadata": {},
     "source": [
      "Example 2_21, page 98"
     ]
    },
    {
     "cell_type": "code",
     "collapsed": false,
     "input": [
      "from math import *\n",
      "from __future__ import division\n",
      "#Given data: \n",
      "Vs=400 #V\n",
      "R=10 #ohm\n",
      "f=50 #Hz\n",
      "\n",
      "#Solution :\n",
      "Vm=Vs*sqrt(2)/sqrt(3) #V\n",
      "Vdc_max=3*sqrt(3)*Vm/2/pi*(1+cos(0)) #V\n",
      "#Vdc should be Vdc_max/2\n",
      "Vdc=Vdc_max*50/100 #V\n",
      "alfa=degrees(acos(1-Vdc/(3*sqrt(3)*Vm/2/pi)))#degree\n",
      "print \"Firing angle = %0.2f degree \" %alfa \n",
      "Idc=Vdc/R #A\n",
      "print \"Average output current = %0.2f A \" %Idc \n",
      "Vrms=sqrt(3)*Vm*sqrt(3/4/pi*(pi-pi/2+sin(pi)/2)) #V\n",
      "Irms=Vrms/R #A\n",
      "print \"RMS output voltage = %0.2f V \" %Vrms \n",
      "print \"RMS output current = %0.2f A \" %Irms \n",
      "Iavg_thy=Idc/3 #A\n",
      "print \"Average thyristor current = %0.2f A \" %Iavg_thy \n",
      "Irms_thy=Irms/sqrt(3) #A\n",
      "print \"RMS thyristor current = %0.2f A \" %Irms_thy \n",
      "Eff=Vdc*Idc/(Vrms*Irms)*100 #%\n",
      "print \"Rectification Efficiency = %0.2f %% \" %Eff \n",
      "Iline_rms=Irms*sqrt(120/180) #A\n",
      "VA_in=3*Vs*Iline_rms/sqrt(3) #VA\n",
      "TUF=Vdc*Idc/VA_in \n",
      "print \"Transformer utilisation factor = %0.2f \" %TUF \n",
      "Pin_active=Irms**2*R #W\n",
      "pf_in=Pin_active/VA_in #lagging\n",
      "print \"Input power factor = %0.2f lagging \" %pf_in \n",
      "#Answer in the book is wrong for some part."
     ],
     "language": "python",
     "metadata": {},
     "outputs": [
      {
       "output_type": "stream",
       "stream": "stdout",
       "text": [
        "Firing angle = 90.00 degree \n",
        "Average output current = 27.01 A \n",
        "RMS output voltage = 346.41 V \n",
        "RMS output current = 34.64 A \n",
        "Average thyristor current = 9.00 A \n",
        "RMS thyristor current = 20.00 A \n",
        "Rectification Efficiency = 60.79 % \n",
        "Transformer utilisation factor = 0.37 \n",
        "Input power factor = 0.61 lagging \n"
       ]
      }
     ],
     "prompt_number": 63
    },
    {
     "cell_type": "heading",
     "level": 2,
     "metadata": {},
     "source": [
      "Example 2_22, page 99"
     ]
    },
    {
     "cell_type": "code",
     "collapsed": false,
     "input": [
      "from math import *\n",
      "from __future__ import division\n",
      "#Given data: \n",
      "Vs=400 #V\n",
      "R=10 #ohm\n",
      "f=50 #Hz\n",
      "\n",
      "#Solution :\n",
      "Vm=Vs*sqrt(2)/sqrt(3) #V\n",
      "alfa=60 #degree(For 50% output voltage)\n",
      "Vdc=3*sqrt(3)*Vm/pi*cos(alfa*pi/180) #V\n",
      "alfa=degrees(acos(Vdc/3/sqrt(3)/Vm*pi)) #V\n",
      "print \"Firing angle = %0.2f degree \" %alfa \n",
      "Idc=Vdc/R #A\n",
      "print \"Average output current = %0.2f A \" %Idc \n",
      "Vrms=sqrt(3)*Vm*sqrt(0.5+3*sqrt(3)/4/pi*cos(2*alfa*pi/180)) #V\n",
      "Irms=Vrms/R #A\n",
      "print \"RMS output voltage = %0.2f V \" %Vrms \n",
      "print \"RMS output current = %0.2f A \" %Irms \n",
      "Iavg_thy=Idc/3 #A\n",
      "print \"Average thyristor current = %0.2f A \" %Iavg_thy \n",
      "Irms_thy=Irms/sqrt(3) #A\n",
      "print \"RMS thyristor current = %0.2f A \" %Irms_thy \n",
      "Eff=Vdc*Idc/(Vrms*Irms)*100 #%\n",
      "print \"Rectification Efficiency = %0.2f %% \" %Eff \n",
      "Iline_rms=Irms*sqrt(120/180) #A\n",
      "VA_in=3*Vs*Iline_rms/sqrt(3) #VA\n",
      "TUF=Vdc*Idc/VA_in \n",
      "print \"Transformer utilisation factor = %0.2f \" %TUF \n",
      "Pin_active=Irms**2*R #W\n",
      "pf_in=Pin_active/VA_in #lagging\n",
      "print \"Input power factor = %0.2f lagging \" %pf_in \n",
      "#Answer in the book is wrong for some part."
     ],
     "language": "python",
     "metadata": {},
     "outputs": [
      {
       "output_type": "stream",
       "stream": "stdout",
       "text": [
        "Firing angle = 60.00 degree \n",
        "Average output current = 27.01 A \n",
        "RMS output voltage = 306.33 V \n",
        "RMS output current = 30.63 A \n",
        "Average thyristor current = 9.00 A \n",
        "RMS thyristor current = 17.69 A \n",
        "Rectification Efficiency = 77.74 % \n",
        "Transformer utilisation factor = 0.42 \n",
        "Input power factor = 0.54 lagging \n"
       ]
      }
     ],
     "prompt_number": 64
    },
    {
     "cell_type": "heading",
     "level": 2,
     "metadata": {},
     "source": [
      "Example 2_25, page 102"
     ]
    },
    {
     "cell_type": "code",
     "collapsed": false,
     "input": [
      "from math import *\n",
      "from __future__ import division\n",
      "#Given data: \n",
      "Vs=400 #V\n",
      "f=50 #Hz\n",
      "Eb=300 #V\n",
      "\n",
      "#Solution :\n",
      "Vdc=Eb #V\n",
      "Vm=Vs*sqrt(2) #V\n",
      "#Vdc=3*sqrt(3)/2/pi*Vm*cosd(alfa) #V\n",
      "alfa=degrees(acos(Vdc/(3*sqrt(3)/2/pi*Vm))) #degree\n",
      "print \"Firing angle = %0.1f degree \" %alfa "
     ],
     "language": "python",
     "metadata": {},
     "outputs": [
      {
       "output_type": "stream",
       "stream": "stdout",
       "text": [
        "Firing angle = 50.1 degree \n"
       ]
      }
     ],
     "prompt_number": 66
    }
   ],
   "metadata": {}
  }
 ]
}
