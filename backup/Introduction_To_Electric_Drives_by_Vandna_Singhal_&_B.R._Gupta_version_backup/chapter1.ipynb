{
 "metadata": {
  "name": "",
  "signature": ""
 },
 "nbformat": 3,
 "nbformat_minor": 0,
 "worksheets": [
  {
   "cells": [
    {
     "cell_type": "heading",
     "level": 1,
     "metadata": {},
     "source": [
      "Chapter1, Thyristors Principles & Characteristics"
     ]
    },
    {
     "cell_type": "heading",
     "level": 2,
     "metadata": {},
     "source": [
      "Example 1_1, page 5"
     ]
    },
    {
     "cell_type": "code",
     "collapsed": false,
     "input": [
      "#Given data\n",
      "alfa1=0.35 \n",
      "alfa2=0.4 \n",
      "IG=40*10**-3 #A\n",
      "\n",
      "#Solution :\n",
      "IA=alfa2*IG/(1-(alfa1+alfa2)) #A\n",
      "print \"Anode current = %0.2e A\" %(IA)"
     ],
     "language": "python",
     "metadata": {},
     "outputs": [
      {
       "output_type": "stream",
       "stream": "stdout",
       "text": [
        "Anode current = 6.40e-02 A\n"
       ]
      }
     ],
     "prompt_number": 2
    },
    {
     "cell_type": "heading",
     "level": 2,
     "metadata": {},
     "source": [
      "Example 1_2, page 7"
     ]
    },
    {
     "cell_type": "code",
     "collapsed": false,
     "input": [
      "#Given data\n",
      "dv_dt=190 #V/\u00b5s\n",
      "IC=8*10**-3 #A\n",
      "\n",
      "#Solution :\n",
      "C=IC/(dv_dt/10**-6) #F\n",
      "print \"Capacitance of depletion layer = %0.2e F\" %C"
     ],
     "language": "python",
     "metadata": {},
     "outputs": [
      {
       "output_type": "stream",
       "stream": "stdout",
       "text": [
        "Capacitance of depletion layer = 4.21e-11 F\n"
       ]
      }
     ],
     "prompt_number": 4
    },
    {
     "cell_type": "heading",
     "level": 2,
     "metadata": {},
     "source": [
      "Example 1_3, page 8"
     ]
    },
    {
     "cell_type": "code",
     "collapsed": false,
     "input": [
      "#Given data\n",
      "RG=2000 #ohm\n",
      "VCC=20 #V\n",
      "VT=0.75 #V\n",
      "Vthy=0.7 #V(Voltage across thyristor)\n",
      "R=200 #ohm\n",
      "IT=7*10**-3 #A\n",
      "Ih=5*10**-3 #A\n",
      "\n",
      "\n",
      "#Solution :\n",
      "#part (a)\n",
      "Vo=VCC #V##thyristor not conducting\n",
      "print \"(a) When thyristor is in off state, Output voltage = %0.2f V\" %Vo\n",
      "#part (b)\n",
      "Vs=VT+IT*RG #V\n",
      "print \"(b) Voltage necessary to turn on the thyristor = %0.2f V\" %Vs\n",
      "#part (c)\n",
      "VR1=Ih*R #V\n",
      "print \"(c) Current through thyristor should be less than holding current. Voltage should be reduced to less than\",VR1,\"V\"\n",
      "#part (d)\n",
      "VR2=VR1+Vthy #V\n",
      "print \"(d) VCC should be reduced to less than\",VR2,\"V\""
     ],
     "language": "python",
     "metadata": {},
     "outputs": [
      {
       "output_type": "stream",
       "stream": "stdout",
       "text": [
        "(a) When thyristor is in off state, Output voltage = 20.00 V\n",
        "(b) Voltage necessary to turn on the thyristor = 14.75 V\n",
        "(c) Current through thyristor should be less than holding current. Voltage should be reduced to less than 1.0 V\n",
        "(d) VCC should be reduced to less than 1.7 V\n"
       ]
      }
     ],
     "prompt_number": 5
    },
    {
     "cell_type": "heading",
     "level": 2,
     "metadata": {},
     "source": [
      "Example 1_4, page 8"
     ]
    },
    {
     "cell_type": "code",
     "collapsed": false,
     "input": [
      "from sympy import *\n",
      "from numpy import *\n",
      "#Given data\n",
      "IG=symbols('IG') #A\n",
      "VG=1+9*IG #V\n",
      "Vgate=25 #V\n",
      "t=pi #radian(duration)\n",
      "Pavg=0.6 #W\n",
      "\n",
      "#Solution :\n",
      "Ploss=Pavg*2*pi/t #W\n",
      "#Ploss=VG*IG\n",
      "X=VG*IG-Ploss \n",
      "IG=solve(X, IG) #A\n",
      "IG=IG[1] #A(taking +ve value only)\n",
      "VG=1+9*IG #V\n",
      "#Vgate=RG*IG+VG\n",
      "RG=(Vgate-VG)/IG #ohm\n",
      "print \"VG = %0.3f V\" %VG \n",
      "print \"IG = %0.3f A\" %IG\n",
      "print \"RG = %0.2f ohm\" %RG "
     ],
     "language": "python",
     "metadata": {},
     "outputs": [
      {
       "output_type": "stream",
       "stream": "stdout",
       "text": [
        "VG = 3.824 V\n",
        "IG = 0.314 A\n",
        "RG = 67.48 ohm\n"
       ]
      }
     ],
     "prompt_number": 8
    },
    {
     "cell_type": "heading",
     "level": 2,
     "metadata": {},
     "source": [
      "Example 1_5, page 8"
     ]
    },
    {
     "cell_type": "code",
     "collapsed": false,
     "input": [
      "#Given data\n",
      "Vdc=100 #V\n",
      "L=10 #H\n",
      "i=80*10**-3 #A\n",
      "\n",
      "#Solution :\n",
      "t=i*L/Vdc #s\n",
      "print \"Width of pulse should be more than\",t*1000,\"milli-seconds.\" "
     ],
     "language": "python",
     "metadata": {},
     "outputs": [
      {
       "output_type": "stream",
       "stream": "stdout",
       "text": [
        "Width of pulse should be more than 8.0 milli-seconds.\n"
       ]
      }
     ],
     "prompt_number": 9
    },
    {
     "cell_type": "heading",
     "level": 2,
     "metadata": {},
     "source": [
      "Example 1_6, page 9"
     ]
    },
    {
     "cell_type": "code",
     "collapsed": false,
     "input": [
      "#Given data\n",
      "Vdc=100 #V\n",
      "R=10 #ohm\n",
      "L=5 #H\n",
      "i=50*10**-3 #A\n",
      "\n",
      "#Solution :\n",
      "#i=Vdc/R*(1-exp(-R*t/L))\n",
      "t=-log(1-i/Vdc*R)/R*L #s\n",
      "print \"Minimum width of gate pulse is\",round(t*1000,1),\"milli-seconds.\" "
     ],
     "language": "python",
     "metadata": {},
     "outputs": [
      {
       "output_type": "stream",
       "stream": "stdout",
       "text": [
        "Minimum width of gate pulse is 2.5 milli-seconds.\n"
       ]
      }
     ],
     "prompt_number": 11
    },
    {
     "cell_type": "heading",
     "level": 2,
     "metadata": {},
     "source": [
      "Example 1_7, page 9"
     ]
    },
    {
     "cell_type": "code",
     "collapsed": false,
     "input": [
      "#Given data\n",
      "i_latch=40*10**-3 #A\n",
      "t=40*10**-6 #s\n",
      "Vdc=90 #V\n",
      "R=25 #ohm\n",
      "L=0.5 #H\n",
      "\n",
      "#Solution :\n",
      "i=Vdc/R*(1-exp(-R*t/L)) #A\n",
      "print \"Current in the circuit is %0.4f\"%i,\" A, it is less than latchig current, the thyristor will not turn on.\" \n",
      "R=Vdc/(i_latch-i) #ohm\n",
      "print \"Maximum value of R is %0.f\"%R,\"ohm.\" \n",
      "# Answer mismatch because of calculation accuracy."
     ],
     "language": "python",
     "metadata": {},
     "outputs": [
      {
       "output_type": "stream",
       "stream": "stdout",
       "text": [
        "Current in the circuit is 0.0060  A, it is less than latchig current, the thyristor will not turn on.\n",
        "Maximum value of R is 2647 ohm.\n"
       ]
      }
     ],
     "prompt_number": 17
    },
    {
     "cell_type": "heading",
     "level": 2,
     "metadata": {},
     "source": [
      "Example 1_8, page 10"
     ]
    },
    {
     "cell_type": "code",
     "collapsed": false,
     "input": [
      "#Given data\n",
      "i_h=50*10**-3 #A\n",
      "t=50*10**-6 #s\n",
      "Vdc=100 #V\n",
      "R=20 #ohm\n",
      "L=0.5 #H\n",
      "\n",
      "#Solution :\n",
      "i=Vdc/R*(1-exp(-R*t/L)) #A\n",
      "#i<i_h   so thyristor will return to off state\n",
      "iR=i_h-i #A#current through R\n",
      "R=Vdc/iR #ohm\n",
      "print \"Maximum value of R is\",round(R,3),\"ohm.\" "
     ],
     "language": "python",
     "metadata": {},
     "outputs": [
      {
       "output_type": "stream",
       "stream": "stdout",
       "text": [
        "Maximum value of R is 2499.376 ohm.\n"
       ]
      }
     ],
     "prompt_number": 19
    },
    {
     "cell_type": "heading",
     "level": 2,
     "metadata": {},
     "source": [
      "Example 1_9, page 10"
     ]
    },
    {
     "cell_type": "code",
     "collapsed": false,
     "input": [
      "from math import *\n",
      "#Given data: \n",
      "V=240 #Volt\n",
      "f=50 #Hz\n",
      "R=5 #ohm\n",
      "L=0.05 #H\n",
      "theta=degrees(atan(2*pi*f*L/R)) #degree\n",
      "Vm=V*sqrt(2) #Volt\n",
      "#sind(fi-theta)=0 #for no current transient\n",
      "fi=theta+degrees(asin(0)) #degree\n",
      "print \"For no current transient, triggering angle = %0.2f degree\" %fi \n",
      "#sind(fi-theta)=1 #for worst current transient\n",
      "fi=theta+degrees(asin(1)) #degree\n",
      "print \"For worst current transient, triggering angle = %0.2f degree\" %fi"
     ],
     "language": "python",
     "metadata": {},
     "outputs": [
      {
       "output_type": "stream",
       "stream": "stdout",
       "text": [
        "For no current transient, triggering angle = 72.34 degree\n",
        "For worst current transient, triggering angle = 162.34 degree\n"
       ]
      }
     ],
     "prompt_number": 20
    },
    {
     "cell_type": "heading",
     "level": 2,
     "metadata": {},
     "source": [
      "Example 1_12, page 19"
     ]
    },
    {
     "cell_type": "code",
     "collapsed": false,
     "input": [
      "from __future__ import division\n",
      "#Given data: \n",
      "I=120 #A\n",
      "Gamma=180 #degree\n",
      "RMS_current=I*sqrt(Gamma/360) #A\n",
      "AVG_current=I*(Gamma/360) #A\n",
      "FormFactor=RMS_current/AVG_current #no unit\n",
      "print \"rms current = %0.2f A\" %RMS_current\n",
      "print \"Form Factor = %0.3f \" %FormFactor "
     ],
     "language": "python",
     "metadata": {},
     "outputs": [
      {
       "output_type": "stream",
       "stream": "stdout",
       "text": [
        "rms current = 84.85 A\n",
        "Form Factor = 1.414 \n"
       ]
      }
     ],
     "prompt_number": 22
    },
    {
     "cell_type": "heading",
     "level": 2,
     "metadata": {},
     "source": [
      "Example 1_13, page 20"
     ]
    },
    {
     "cell_type": "code",
     "collapsed": false,
     "input": [
      "from sympy.mpmath import *\n",
      "#Given data: \n",
      "V=130 #V\n",
      "R=100 #ohm\n",
      "theta1=60 #degree\n",
      "theta2=45 #degree\n",
      "v=sqrt(2)*V #\n",
      "Irms=sqrt(1/2/pi*quad(lambda omega_t:(3.25*sin(omega_t))**2,[theta1*pi/180,pi])) #A\n",
      "P=Irms**2*R #W\n",
      "print \"(a) Power supplied to load = %0.f W\" %P\n",
      "Irms=sqrt(1/2/pi*quad(lambda omega_t:(3.25*sin(omega_t))**2,[theta2*pi/180,pi])) #A\n",
      "P=Irms**2*R #W\n",
      "print \"(b) Power supplied to load = %0.2f W\" %P\n",
      "# Answer mismatch because of calculation accuracy."
     ],
     "language": "python",
     "metadata": {},
     "outputs": [
      {
       "output_type": "stream",
       "stream": "stdout",
       "text": [
        "(a) Power supplied to load = 212 W\n",
        "(b) Power supplied to load = 240.07 W\n"
       ]
      }
     ],
     "prompt_number": 26
    },
    {
     "cell_type": "heading",
     "level": 2,
     "metadata": {},
     "source": [
      "Example 1_14, page 20"
     ]
    },
    {
     "cell_type": "code",
     "collapsed": false,
     "input": [
      "#Given data: \n",
      "Iavg=200 #A\n",
      "period1=2*pi \n",
      "period2=pi \n",
      "Vth1=1.8 #V\n",
      "I1=200 #A\n",
      "Vth2=1.9 #V\n",
      "I2=400 #A\n",
      "#part (a)\n",
      "Ploss1=I1*Vth1*period1/2/pi #W\n",
      "print \"(a) Average power loss = %0.f W\" %Ploss1\n",
      "Ploss2=I2*Vth2*period2/2/pi #W\n",
      "print \"(b) Average power loss = %0.f W\" %Ploss2"
     ],
     "language": "python",
     "metadata": {},
     "outputs": [
      {
       "output_type": "stream",
       "stream": "stdout",
       "text": [
        "(a) Average power loss = 360 W\n",
        "(b) Average power loss = 380 W\n"
       ]
      }
     ],
     "prompt_number": 27
    },
    {
     "cell_type": "heading",
     "level": 2,
     "metadata": {},
     "source": [
      "Example 1_15, page 21"
     ]
    },
    {
     "cell_type": "code",
     "collapsed": false,
     "input": [
      "#Given data: \n",
      "Irms=40 #A\n",
      "f=50 #Hz\n",
      "period1=170 #degree\n",
      "period2=100 #degree\n",
      "period3=40 #degree\n",
      "#part (a)\n",
      "alfa1=pi-period1*pi/180 #degree\n",
      "Irms_by_Im=sqrt(1/2/pi*((pi-alfa1)/2+sin(2*alfa1)/4)) \n",
      "Im=Irms/Irms_by_Im #A\n",
      "Iav1=Im/2/pi*(1+cos(alfa1)) #A\n",
      "print \"(a) Average current = %0.3f A\" %Iav1\n",
      "#part (b)\n",
      "alfa2=pi-period2*pi/180 #degree\n",
      "Irms_by_Im=sqrt(1/2/pi*((pi-alfa2)/2+sin(2*alfa2)/4)) \n",
      "Im=Irms/Irms_by_Im #A\n",
      "Iav2=Im/2/pi*(1+cos(alfa2)) #A\n",
      "print \"(b) Average current = %0.2f A\" %Iav2\n",
      "#part (c2\n",
      "alfa3=pi-period3*pi/180 #radian\n",
      "Irms_by_Im=sqrt(1/2/pi*((pi-alfa3)/2+sin(2*alfa3)/4)) \n",
      "Im=Irms/Irms_by_Im #A\n",
      "Iav3=Im/2/pi*(1+cos(alfa3)) #A\n",
      "print \"(c) Average current = %0.2f A\" %Iav3\n",
      "# Answer mismatch because of calculation accuracy."
     ],
     "language": "python",
     "metadata": {},
     "outputs": [
      {
       "output_type": "stream",
       "stream": "stdout",
       "text": [
        "(a) Average current = 25.286 A\n",
        "(b) Average current = 19.13 A\n",
        "(c) Average current = 11.64 A\n"
       ]
      }
     ],
     "prompt_number": 30
    },
    {
     "cell_type": "heading",
     "level": 2,
     "metadata": {},
     "source": [
      "Example 1_16, page 22"
     ]
    },
    {
     "cell_type": "code",
     "collapsed": false,
     "input": [
      "#Given data: \n",
      "#VT=0.9+0.02*IT #V\n",
      "#part (a)\n",
      "IT=20 #A\n",
      "VT=0.9+0.02*IT #V\n",
      "Pdiss=VT*IT #W\n",
      "print \"(a) Mean power dissipation = %0.f W\" %Pdiss\n",
      "#part (b)\n",
      "IT_mean=20 #A\n",
      "IT_peak=20*pi #A\n",
      "Pdiss=1/2/pi*quad(lambda theta:(0.9+0.02*IT_peak*sin(theta))*(IT_peak*sin(theta)),[0,pi]) #W\n",
      "print \"(b) Mean power dissipation = %0.2f W\" %Pdiss\n",
      "#part (c)\n",
      "IT=20 #A#for half cycle\n",
      "VT=0.9+0.02*IT #V\n",
      "Pdiss=VT*IT/2 #W\n",
      "print \"(c) Power dissipation occur only during half cycle. Mean power dissipation = %0.2f W\" %Pdiss\n",
      "#part (d)\n",
      "IT=20 #A#for half cycle\n",
      "VT=0.9+0.02*IT #V\n",
      "Pdiss=VT*IT/3 #W\n",
      "print \"(d) Power dissipation occur only during 1/3rd period in a cycle. Mean power dissipation = %0.2f W \"%Pdiss "
     ],
     "language": "python",
     "metadata": {},
     "outputs": [
      {
       "output_type": "stream",
       "stream": "stdout",
       "text": [
        "(a) Mean power dissipation = 26 W\n",
        "(b) Mean power dissipation = 37.74 W\n",
        "(c) Power dissipation occur only during half cycle. Mean power dissipation = 13.00 W\n",
        "(d) Power dissipation occur only during 1/3rd period in a cycle. Mean power dissipation = 8.67 W \n"
       ]
      }
     ],
     "prompt_number": 32
    },
    {
     "cell_type": "heading",
     "level": 2,
     "metadata": {},
     "source": [
      "Example 1_17, page 23"
     ]
    },
    {
     "cell_type": "code",
     "collapsed": false,
     "input": [
      "#Given data\n",
      "Isub=2000 #A\n",
      "f=50 #Hz\n",
      "t=10*10**-3 #s\n",
      "T=2*t #s#duration of half cycle\n",
      "I=sqrt(Isub**2*t/T) #A\n",
      "I2t=I**2*t #A**2 seconds\n",
      "print \"I2*t rating = %0.e A2-seconds \" %I2t"
     ],
     "language": "python",
     "metadata": {},
     "outputs": [
      {
       "output_type": "stream",
       "stream": "stdout",
       "text": [
        "I2*t rating = 2e+04 A2-seconds \n"
       ]
      }
     ],
     "prompt_number": 34
    },
    {
     "cell_type": "heading",
     "level": 2,
     "metadata": {},
     "source": [
      "Example 1_18, page 25"
     ]
    },
    {
     "cell_type": "code",
     "collapsed": false,
     "input": [
      "from numpy import *\n",
      "from sympy import *\n",
      "#Given data\n",
      "Vgate=12 #V\n",
      "t=60*10**-6 #s\n",
      "cycle=0.3 \n",
      "P_peak=6 #W\n",
      "#part (a)\n",
      "Ig = symbols('Ig')\n",
      "Vg=1+9*Ig\n",
      "expr = P_peak-Vg*Ig # leads to 9*Ig**2+Ig-P_peak=0\n",
      "Ig=solve(expr, Ig) #polynomial\n",
      "Ig = round(float(Ig[0]),3) # A\n",
      "Vg=1+9*Ig\n",
      "Rg=(Vgate-Vg)/Ig #ohm\n",
      "print \"Series resistance Rg = %0.3f ohm\" %Rg\n",
      "PavgLoss=P_peak*cycle #W\n",
      "print \"Average power loss = %0.1f W \" %PavgLoss"
     ],
     "language": "python",
     "metadata": {},
     "outputs": [
      {
       "output_type": "stream",
       "stream": "stdout",
       "text": [
        "Series resistance Rg = 5.417 ohm\n",
        "Average power loss = 1.8 W \n"
       ]
      }
     ],
     "prompt_number": 2
    },
    {
     "cell_type": "heading",
     "level": 2,
     "metadata": {},
     "source": [
      "Example 1_19, page 25"
     ]
    },
    {
     "cell_type": "code",
     "collapsed": false,
     "input": [
      "from sympy import *\n",
      "#Example 1_19\n",
      "#Given data\n",
      "Vs=12 #V\n",
      "slope = -100 # V/A\n",
      "Vg_min = 20 # mA\n",
      "P = 0.3 # W\n",
      "Rs = 100 # ohm(from given slope)\n",
      "from sympy import symbols, solve\n",
      "Ig = symbols('Ig')\n",
      "Vg = P/Ig # in terms of Ig\n",
      "expr = Vs-Vg-Ig*Rs # expression for Ig\n",
      "Ig = solve(expr, Ig)[0] # mA (2nd value choosen)\n",
      "Vg = P/Ig # V\n",
      "print \"Source resistance, Rs = %0.2f ohm \"  %Rs\n",
      "print \"Trigger current = %0.1f mA \" %(Ig*1000)\n",
      "print \"Voltage Vg = %0.2f V \" %Vg"
     ],
     "language": "python",
     "metadata": {},
     "outputs": [
      {
       "output_type": "stream",
       "stream": "stdout",
       "text": [
        "Source resistance, Rs = 100.00 ohm \n",
        "Trigger current = 35.5 mA \n",
        "Voltage Vg = 8.45 V \n"
       ]
      }
     ],
     "prompt_number": 15
    },
    {
     "cell_type": "heading",
     "level": 2,
     "metadata": {},
     "source": [
      "Example 1_20, page 26"
     ]
    },
    {
     "cell_type": "code",
     "collapsed": false,
     "input": [
      "#Given data\n",
      "V=800 #V\n",
      "I=110 #A\n",
      "Es=12 #V\n",
      "Im=250 #mA\n",
      "Ish=600 #mA\n",
      "VG=2.4 #V\n",
      "IG=50 #mA\n",
      "IGm=100 #mA\n",
      "VGm=3 #V\n",
      "Rs=Es/(Ish*10**-3) #ohm\n",
      "print \"Value of Rs = %0.2f ohm \" %Rs\n",
      "R1=Es/(Im*10**-3)-Rs #ohm(Assumed R2 is not connected)\n",
      "#Rs_plus_R1>=Es/(IGm*10**-3) #ohm\n",
      "Rs_plus_R1=Es/(IGm*10**-3) #ohm\n",
      "R1_Lower=Rs_plus_R1-Rs #ohm\n",
      "#Rs_plus_R1<=(Es-VG)/(IGm*10**-3) #ohm\n",
      "Rs_plus_R1=(Es-VG)/(IG*10**-3) #ohm\n",
      "R1_Upper=Rs_plus_R1-Rs #ohm\n",
      "print \"R1 must be more than\",R1_Lower,\"ohm and less than\",R1_Upper,\"ohm.\"\n",
      "print \"Let R1 is 125 ohm.\" \n",
      "R1=125 #ohm\n",
      "#R2*Es/(R1+R2+Rs)<=VGm\n",
      "R2=(VGm*R1+VGm*Rs)/(Es-VGm) #ohm\n",
      "print \"R2<=\",round(R2,2),\"ohm \"\n",
      "print \"Let R2 is 48 ohm.\" "
     ],
     "language": "python",
     "metadata": {},
     "outputs": [
      {
       "output_type": "stream",
       "stream": "stdout",
       "text": [
        "Value of Rs = 20.00 ohm \n",
        "R1 must be more than 100.0 ohm and less than 172.0 ohm.\n",
        "Let R1 is 125 ohm.\n",
        "R2<= 48.33 ohm \n",
        "Let R2 is 48 ohm.\n"
       ]
      }
     ],
     "prompt_number": 47
    },
    {
     "cell_type": "heading",
     "level": 2,
     "metadata": {},
     "source": [
      "Example 1_21, page 30"
     ]
    },
    {
     "cell_type": "code",
     "collapsed": false,
     "input": [
      "#Given data: \n",
      "l=0.2 #m\n",
      "w=0.01 #m\n",
      "d=0.01 #m\n",
      "P=3 #W\n",
      "Tc=220 #W/m/degreeC\n",
      "T1=30 #degreeC\n",
      "theta=l/Tc/w/d #degreeC/W\n",
      "T2=P*theta+T1 #degreeC\n",
      "print \"Temperature of the surface = %0.2f degree C \" %T2"
     ],
     "language": "python",
     "metadata": {},
     "outputs": [
      {
       "output_type": "stream",
       "stream": "stdout",
       "text": [
        "Temperature of the surface = 57.27 degree C \n"
       ]
      }
     ],
     "prompt_number": 48
    },
    {
     "cell_type": "heading",
     "level": 2,
     "metadata": {},
     "source": [
      "Example 1_22, page 30"
     ]
    },
    {
     "cell_type": "code",
     "collapsed": false,
     "input": [
      "#Given data: \n",
      "l=2/1000 #m\n",
      "A=12/10000 #m**2\n",
      "T21=4 #degreeC(T2-T1)\n",
      "Tc=220 #W/m/degreeC\n",
      "theta=l/Tc/A #degreeC/W\n",
      "Losses=T21/theta #W\n",
      "print \"Maximum losses = %0.2f W \" %Losses "
     ],
     "language": "python",
     "metadata": {},
     "outputs": [
      {
       "output_type": "stream",
       "stream": "stdout",
       "text": [
        "Maximum losses = 528.00 W \n"
       ]
      }
     ],
     "prompt_number": 52
    },
    {
     "cell_type": "heading",
     "level": 2,
     "metadata": {},
     "source": [
      "Example 1_23, page 30"
     ]
    },
    {
     "cell_type": "code",
     "collapsed": false,
     "input": [
      "#Given data: \n",
      "P=30 #W\n",
      "T1=125 #degreeC\n",
      "T2=50 #degreeC\n",
      "theta=1 #degree C/W\n",
      "theta_mica=0.3 #degree C/W\n",
      "Rth_total=(T1-T2)/P #degree C/W\n",
      "Rth_heat_sink=Rth_total-theta-theta_mica #degree C/W\n",
      "print \"Thermal resistance of heat sink = %0.2f degree C/W \" %Rth_heat_sink"
     ],
     "language": "python",
     "metadata": {},
     "outputs": [
      {
       "output_type": "stream",
       "stream": "stdout",
       "text": [
        "Thermal resistance of heat sink = 1.20 degree C/W \n"
       ]
      }
     ],
     "prompt_number": 53
    },
    {
     "cell_type": "heading",
     "level": 1,
     "metadata": {},
     "source": [
      "Example 1_24, page 30"
     ]
    },
    {
     "cell_type": "code",
     "collapsed": false,
     "input": [
      "#Given data: \n",
      "theta = 0.627 # degree C/W\n",
      "Ts = 93 # degree C\n",
      "V = 3 # V\n",
      "I = 25 # A\n",
      "PL = V*I # W\n",
      "Tj = theta*PL + Ts\n",
      "print \"Thermal resistance of heat sink = %0.f degree C/W \" %Tj"
     ],
     "language": "python",
     "metadata": {},
     "outputs": [
      {
       "output_type": "stream",
       "stream": "stdout",
       "text": [
        "Thermal resistance of heat sink = 140 degree C/W \n"
       ]
      }
     ],
     "prompt_number": 60
    },
    {
     "cell_type": "heading",
     "level": 2,
     "metadata": {},
     "source": [
      "Example 1_25, page 30"
     ]
    },
    {
     "cell_type": "code",
     "collapsed": false,
     "input": [
      "#Given data: \n",
      "T1=120 #degreeC(Junction Temperature)\n",
      "T2=35 #degreeC(Ambient Temperature)\n",
      "P=40 #W\n",
      "theta_dash=0.8 #degree C/W(junction to heat sink)\n",
      "theta=(T1-T2)/P #degree C/W\n",
      "print \"Resistance of heat sink = %0.3f degree C/W\" %(theta-theta_dash)"
     ],
     "language": "python",
     "metadata": {},
     "outputs": [
      {
       "output_type": "stream",
       "stream": "stdout",
       "text": [
        "Resistance of heat sink = 1.325 degree C/W\n"
       ]
      }
     ],
     "prompt_number": 62
    },
    {
     "cell_type": "heading",
     "level": 2,
     "metadata": {},
     "source": [
      "Example 1_26, page 31"
     ]
    },
    {
     "cell_type": "code",
     "collapsed": false,
     "input": [
      "#Given data: \n",
      "Tj=125 #degreeC\n",
      "Ts=80 #degreeC\n",
      "theta_jc=0.7 #degree C/W\n",
      "theta_cs=0.4 #degree C/W\n",
      "#part (a)\n",
      "Pav1=(Tj-Ts)/(theta_jc+theta_cs) #W\n",
      "print \"(a) Average power loss = %0.2f W\" %Pav1\n",
      "#part (b)\n",
      "Ts=50 #degreeC\n",
      "Pav2=(Tj-Ts)/(theta_jc+theta_cs) #W\n",
      "print \"(b) Permisible average power loss = %0.2f W\" %Pav2\n",
      "rating_increase=(sqrt(Pav2)-sqrt(Pav1))/sqrt(Pav1)*100 #%\n",
      "print \"(c) Increase in rating = %0.2f %%\" %rating_increase"
     ],
     "language": "python",
     "metadata": {},
     "outputs": [
      {
       "output_type": "stream",
       "stream": "stdout",
       "text": [
        "(a) Average power loss = 40.91 W\n",
        "(b) Permisible average power loss = 68.18 W\n",
        "(c) Increase in rating = 29.10 %\n"
       ]
      }
     ],
     "prompt_number": 63
    },
    {
     "cell_type": "heading",
     "level": 2,
     "metadata": {},
     "source": [
      "Example 1_27, page 36"
     ]
    },
    {
     "cell_type": "code",
     "collapsed": false,
     "input": [
      "from numpy import *\n",
      "#Given data: \n",
      "Vs=230 #V\n",
      "f=50 #Hz\n",
      "vc=25 #V\n",
      "C=0.6*10**-6 #F\n",
      "R=arange(2000,20000) #ohm\n",
      "Xc=1/(2*pi*f*C) #ohm\n",
      "#When R=2000 ohm\n",
      "Z=min(R)-1J*Xc #ohm\n",
      "I=Vs/Z #A\n",
      "Vc=-1J*I*Xc #V\n",
      "#vc=sqrt(2)*abs(Vc)*sind(omega_t+atand(imag(Vc),real(Vc)))\n",
      "omega_t=asin(vc/sqrt(2)/abs(Vc))-atan(imag(Vc)/real(Vc)) #radian\n",
      "omega_t = omega_t*180/pi # degree\n",
      "alfa1=omega_t #degree\n",
      "\n",
      "#When R=20000 ohm\n",
      "Z=max(R)-1J*Xc #ohm\n",
      "I=Vs/Z #A\n",
      "Vc=-1J*I*Xc #V\n",
      "#vc=sqrt(2)*abs(Vc)*sind(omega_t+atand(imag(Vc),real(Vc)))\n",
      "omega_t=asin(vc/sqrt(2)/abs(Vc))-atan(imag(Vc)/real(Vc)) #radian\n",
      "omega_t = (omega_t)*180/pi # degree\n",
      "alfa2=omega_t #degree\n",
      "print \"Minimum firing angle = %0.2f degree\" %alfa1\n",
      "print \"Maximum firing angle = %0.2f degree\" %alfa2"
     ],
     "language": "python",
     "metadata": {},
     "outputs": [
      {
       "output_type": "stream",
       "stream": "stdout",
       "text": [
        "Minimum firing angle = 25.37 degree\n",
        "Maximum firing angle = 92.59 degree\n"
       ]
      }
     ],
     "prompt_number": 70
    },
    {
     "cell_type": "heading",
     "level": 2,
     "metadata": {},
     "source": [
      "Example 1_28, page 40"
     ]
    },
    {
     "cell_type": "code",
     "collapsed": false,
     "input": [
      "#Given data: \n",
      "V=32 #V\n",
      "Eta=0.63 \n",
      "Ip=10*10**-6 #A\n",
      "Vv=3.5 #V\n",
      "Iv=10*10**-3 #A\n",
      "Vf=0.5 #V\n",
      "f=50 #Hz\n",
      "tau=50*10**-6 #s\n",
      "T=1/f#s\n",
      "Vp=Eta*V+Vf #V\n",
      "C=0.4*10**-6 #F#assumed\n",
      "print \"Suitable value of C = %0.2f micro F \" %(C*10**6)\n",
      "#V-Ip*R>Vp\n",
      "R_upper=(V-Vp)/Ip #ohm\n",
      "#V-Iv*R<Vv\n",
      "R_lower=(V-Vv)/Iv #ohm\n",
      "print \"Value of R should be lie between %0.2e\"%R_lower,\"ohm to %0.3e\"%R_upper,\"ohm.\"\n",
      "R=T/C/log(1/(1-Eta)) #ohm\n",
      "print \"Suitale value of R = %0.3e ohm \" %R\n",
      "R4=tau/C #ohm\n",
      "print \"Suitale value of R4 = %0.f ohm \" %R4\n",
      "R3=10**4/Eta/V #ohm\n",
      "print \"Suitale value of R3 = %0.f ohm \" %R3\n",
      "#Answer for R4 is wrong in the book"
     ],
     "language": "python",
     "metadata": {},
     "outputs": [
      {
       "output_type": "stream",
       "stream": "stdout",
       "text": [
        "Suitable value of C = 0.40 micro F \n",
        "Value of R should be lie between 2.85e+03 ohm to 1.134e+06 ohm.\n",
        "Suitale value of R = 5.029e+04 ohm \n",
        "Suitale value of R4 = 125 ohm \n",
        "Suitale value of R3 = 496 ohm \n"
       ]
      }
     ],
     "prompt_number": 80
    },
    {
     "cell_type": "heading",
     "level": 2,
     "metadata": {},
     "source": [
      "Example 1_29, page 41"
     ]
    },
    {
     "cell_type": "code",
     "collapsed": false,
     "input": [
      "#Given data: \n",
      "f=2*1000 #Hz\n",
      "Vdc=10 #V\n",
      "Eta=0.6 \n",
      "Ip=5*10**-3 #A\n",
      "Vf=0.5 #V#assumed\n",
      "Vp=Eta*Vdc+Vf #V\n",
      "#Vdc-Ip*R>Vp\n",
      "R_upper=(Vdc-Vp)/Ip #ohm\n",
      "print \"Value of R should be less than\",R_upper,\"ohm.\"\n",
      "C=0.5*10**-6 #F#assumed\n",
      "print \"Let value of C = %0.2f micro F \" %(C*10**6)\n",
      "T=1/f#s\n",
      "R=T/C/log(1/(1-Eta)) #ohm\n",
      "print \"For C=0.5 micro F, calculated value of R\",round(R),\"ohm.\\nBut it is not suitable\" \n",
      "C=1*10**-6 #F#assumed\n",
      "print \"Let value of C = %0.2f micro F \" %(C*10**6)\n",
      "R=T/C/log(1/(1-Eta)) #ohm\n",
      "print \"For C=1 micro F, calculated value of R\",round(R,1),\"ohm.\\nIt is suitable\" "
     ],
     "language": "python",
     "metadata": {},
     "outputs": [
      {
       "output_type": "stream",
       "stream": "stdout",
       "text": [
        "Value of R should be less than 700.0 ohm.\n",
        "Let value of C = 0.50 micro F \n",
        "For C=0.5 micro F, calculated value of R 1091.0 ohm.\n",
        "But it is not suitable\n",
        "Let value of C = 1.00 micro F \n",
        "For C=1 micro F, calculated value of R 545.7 ohm.\n",
        "It is suitable\n"
       ]
      }
     ],
     "prompt_number": 83
    },
    {
     "cell_type": "heading",
     "level": 2,
     "metadata": {},
     "source": [
      "Example 1_30, page 41"
     ]
    },
    {
     "cell_type": "code",
     "collapsed": false,
     "input": [
      "from math import degrees\n",
      "#Given data: \n",
      "Vs=230 #V\n",
      "R=arange(1000,22000) #ohm\n",
      "Vg=2 #V\n",
      "C=0.47*10**-6 #F\n",
      "f=50 #Hz\n",
      "Xc=1/(2*pi*f*C) #ohm\n",
      "#When R=1000 ohm\n",
      "theta=atan(min(R)/Xc) #radian\n",
      "theta = degrees(theta) # degree\n",
      "Z=min(R)-1J*Xc #ohm\n",
      "I=Vs/Z #A\n",
      "Vc=-1J*I*Xc #V\n",
      "#vc=sqrt(2)*abs(Vc)*sind(omega_t+atand(imag(Vc),real(Vc)))\n",
      "omega_t=asin(Vg/sqrt(2)/abs(Vc))-atan(imag(Vc)/real(Vc)) #radian\n",
      "omega_t = degrees(omega_t) # degree\n",
      "alfa1=omega_t #degree\n",
      "#When R=22000 ohm\n",
      "Z=max(R)-1J*Xc #ohm\n",
      "I=Vs/Z #A\n",
      "Vc=-1J*I*Xc #V\n",
      "#vc=sqrt(2)*abs(Vc)*sind(omega_t+atand(imag(Vc),real(Vc)))\n",
      "omega_t=asin(Vg/sqrt(2)/abs(Vc))-atan(imag(Vc)/real(Vc)) #radian\n",
      "omega_t = degrees(omega_t) #degree\n",
      "alfa2=omega_t #degree\n",
      "print \"Minimum firing angle = %0.1f degree\" %alfa1.real\n",
      "print \"Maximum firing angle = %0.1f degree\" %alfa2.real"
     ],
     "language": "python",
     "metadata": {},
     "outputs": [
      {
       "output_type": "stream",
       "stream": "stdout",
       "text": [
        "Minimum firing angle = 8.8 degree\n",
        "Maximum firing angle = 74.1 degree\n"
       ]
      }
     ],
     "prompt_number": 86
    },
    {
     "cell_type": "heading",
     "level": 2,
     "metadata": {},
     "source": [
      "Example 1_31, page 49"
     ]
    },
    {
     "cell_type": "code",
     "collapsed": false,
     "input": [
      "#Given data: \n",
      "R=0.8 #ohm\n",
      "L=10*10**-6 #H\n",
      "C=50*10**-6 #F\n",
      "#R<sqrt(4*L/C)\n",
      "Rupper=sqrt(4*L/C) #ohm\n",
      "print \"Maximum value of R should be\",round(Rupper,4),\"ohm.\"\n",
      "print \"Given value of R is\",R,\"ohm. The circuit is underdamped.\"\n",
      "t0=pi/sqrt(1/L/C-R**2/4/L**2) #s\n",
      "print \"Time of conduction of thyristor = %0.4e seconds\" %t0"
     ],
     "language": "python",
     "metadata": {},
     "outputs": [
      {
       "output_type": "stream",
       "stream": "stdout",
       "text": [
        "Maximum value of R should be 0.8944 ohm.\n",
        "Given value of R is 0.8 ohm. The circuit is underdamped.\n",
        "Time of conduction of thyristor = 1.5708e-04 seconds\n"
       ]
      }
     ],
     "prompt_number": 89
    },
    {
     "cell_type": "heading",
     "level": 2,
     "metadata": {},
     "source": [
      "Example 1_32, page 50"
     ]
    },
    {
     "cell_type": "code",
     "collapsed": false,
     "input": [
      "#Given data: \n",
      "V=90 #V\n",
      "Iload=8 #A\n",
      "t_off=40*10**-6 #s\n",
      "#Ipeak=2*Iload #assumed\n",
      "#V*sqrt(C/L)=2*Iload\n",
      "C_by_L=(2*Iload/V)**2 \n",
      "#t_off=pi/2*sqrt(L*C)\n",
      "L_into_C=(t_off/pi*2)**2 \n",
      "C=sqrt(L_into_C*C_by_L) #F\n",
      "L=L_into_C/C #H\n",
      "print \"Value of L = %0.4e H \" %L \n",
      "print \"Value of C = %0.3e F \" %C "
     ],
     "language": "python",
     "metadata": {},
     "outputs": [
      {
       "output_type": "stream",
       "stream": "stdout",
       "text": [
        "Value of L = 1.4324e-04 H \n",
        "Value of C = 4.527e-06 F \n"
       ]
      }
     ],
     "prompt_number": 92
    },
    {
     "cell_type": "heading",
     "level": 2,
     "metadata": {},
     "source": [
      "Example 1_33, page 50"
     ]
    },
    {
     "cell_type": "code",
     "collapsed": false,
     "input": [
      "#Given data: \n",
      "RL=10 #ohm\n",
      "V=100 #V\n",
      "t_off=50*10**-6 #s\n",
      "C=t_off/RL/log(2) #F\n",
      "print \"Value of C = %0.2e F \" %C "
     ],
     "language": "python",
     "metadata": {},
     "outputs": [
      {
       "output_type": "stream",
       "stream": "stdout",
       "text": [
        "Value of C = 7.21e-06 F \n"
       ]
      }
     ],
     "prompt_number": 93
    },
    {
     "cell_type": "heading",
     "level": 2,
     "metadata": {},
     "source": [
      "Example 1_34, page 50"
     ]
    },
    {
     "cell_type": "code",
     "collapsed": false,
     "input": [
      "#Given data: \n",
      "IL=40 #A\n",
      "VC=100 #V\n",
      "t_off=60*10**-6 #s\n",
      "C=t_off*IL/VC #F\n",
      "print \"Value of C = %0.2e F \" %C\n",
      "#L>VC**2*C/IL\n",
      "L_lower=VC**2*C/IL**2 #H\n",
      "Ip=VC*sqrt(C/L_lower) #A\n",
      "print \"Value of L should be greater than %0.1e\"%L_lower,\"H.\"\n",
      "print \"For this value of L, Peak capacitor current is\",Ip,\"A. But it should be less than maximum load current.\"\n",
      "#Let Ip=34.6 A\n",
      "Ip=34.6 #A\n",
      "L=C/(Ip/VC)**2 #H\n",
      "print \"Value of L = %0.2e H \" %L "
     ],
     "language": "python",
     "metadata": {},
     "outputs": [
      {
       "output_type": "stream",
       "stream": "stdout",
       "text": [
        "Value of C = 2.40e-05 F \n",
        "Value of L should be greater than 1.5e-04 H.\n",
        "For this value of L, Peak capacitor current is 40.0 A. But it should be less than maximum load current.\n",
        "Value of L = 2.00e-04 H \n"
       ]
      }
     ],
     "prompt_number": 95
    },
    {
     "cell_type": "heading",
     "level": 2,
     "metadata": {},
     "source": [
      "Example 1_35, page 51"
     ]
    },
    {
     "cell_type": "code",
     "collapsed": false,
     "input": [
      "#Given data: \n",
      "Vdc=100 #V\n",
      "L=0.1*10**-3 #H\n",
      "C=10*10**-6 #F\n",
      "Vc=100 #V\n",
      "t_off_thyristor=25*10**-6 #s\n",
      "IL=10 #A\n",
      "t_off=Vc*C/IL #s\n",
      "print \"T_off is %0.1e\"%t_off,\"seconds. It is greater than thristor turn off time, so it is sufficient for communication.\"\n",
      "Ip=Vdc*sqrt(C/L) #A\n",
      "print \"Current rating = %0.2f A \"%Ip "
     ],
     "language": "python",
     "metadata": {},
     "outputs": [
      {
       "output_type": "stream",
       "stream": "stdout",
       "text": [
        "T_off is 1.0e-04 seconds. It is greater than thristor turn off time, so it is sufficient for communication.\n",
        "Current rating = 31.62 A \n"
       ]
      }
     ],
     "prompt_number": 97
    },
    {
     "cell_type": "heading",
     "level": 2,
     "metadata": {},
     "source": [
      "Example 1_36, page 54"
     ]
    },
    {
     "cell_type": "code",
     "collapsed": false,
     "input": [
      "#Given data: \n",
      "dv_by_dt=25/10**-6 #V/s\n",
      "L=0.2*10**-3 #H\n",
      "Vrms=230 #V\n",
      "damping=0.65 #damping factor\n",
      "Vm=sqrt(2)*Vrms #V\n",
      "C=1/(2*L)*(0.564*Vm/dv_by_dt)**2 #F\n",
      "R=2*damping*sqrt(L/C) #ohm\n",
      "print \"Value of C = %0.4e F \" %C\n",
      "print \"Value of R = %0.1f ohm \" %R"
     ],
     "language": "python",
     "metadata": {},
     "outputs": [
      {
       "output_type": "stream",
       "stream": "stdout",
       "text": [
        "Value of C = 1.3462e-07 F \n",
        "Value of R = 50.1 ohm \n"
       ]
      }
     ],
     "prompt_number": 100
    },
    {
     "cell_type": "heading",
     "level": 2,
     "metadata": {},
     "source": [
      "Example 1_37, page 55"
     ]
    },
    {
     "cell_type": "code",
     "collapsed": false,
     "input": [
      "#Given data: \n",
      "V=300 #V\n",
      "RL=10 #ohm\n",
      "L=0 #H\n",
      "Ith=100 #A\n",
      "f=2000 #Hz\n",
      "dv_by_dt=100*10**6 #V/s\n",
      "#dv/dt=(vth(tau)-vth(0))/tau\n",
      "#dv/dt=RL*(1-0.368)*V/(R+RL)/((R+RL)*C)\n",
      "R=V/Ith #ohm\n",
      "C=RL*(1-0.368)*V/(R+RL)/(R+RL)/dv_by_dt\n",
      "print \"Value of R = %0.2f ohm \" %R\n",
      "print \"Value of C = %0.2e F \" %C\n",
      "Ploss=1/2*C*V**2*f #W\n",
      "print \"Power loss in snubber circuit = %0.2f W \" %Ploss\n",
      "print \"Power rating of resitance is %0.2f\"%Ploss,\"W as all energy will be disspated in the resistance.\""
     ],
     "language": "python",
     "metadata": {},
     "outputs": [
      {
       "output_type": "stream",
       "stream": "stdout",
       "text": [
        "Value of R = 3.00 ohm \n",
        "Value of C = 1.12e-07 F \n",
        "Power loss in snubber circuit = 10.10 W \n",
        "Power rating of resitance is 10.10 W as all energy will be disspated in the resistance.\n"
       ]
      }
     ],
     "prompt_number": 102
    },
    {
     "cell_type": "heading",
     "level": 2,
     "metadata": {},
     "source": [
      "Example 1_38, page 56"
     ]
    },
    {
     "cell_type": "code",
     "collapsed": false,
     "input": [
      "#Given data: \n",
      "R=4 #ohm\n",
      "L=6*10**-6 #H\n",
      "C=6*10**-6 #F\n",
      "V=300 #V\n",
      "di_by_dt_max=V/L #A/s\n",
      "Isc=V/R #A\n",
      "dvc_by_dt=R*di_by_dt_max+Isc/C #V/s\n",
      "print \"Maximum permissible value of di/dt = %0.e A/s \" %di_by_dt_max \n",
      "print \"Maximum permissible value of dv/dt = %0.3e V/s \" %dvc_by_dt "
     ],
     "language": "python",
     "metadata": {},
     "outputs": [
      {
       "output_type": "stream",
       "stream": "stdout",
       "text": [
        "Maximum permissible value of di/dt = 5e+07 A/s \n",
        "Maximum permissible value of dv/dt = 2.125e+08 V/s \n"
       ]
      }
     ],
     "prompt_number": 105
    },
    {
     "cell_type": "heading",
     "level": 2,
     "metadata": {},
     "source": [
      "Example 1_39, page 56"
     ]
    },
    {
     "cell_type": "code",
     "collapsed": false,
     "input": [
      "#Given data: \n",
      "RL=8 #ohm\n",
      "V=230 #V\n",
      "Ip=100 #A\n",
      "SF=2 #safety factor\n",
      "di_by_dt_max=40/10**-6/2 #A/s\n",
      "dv_by_dt_max=150/10**-6/2 #V/s\n",
      "\n",
      "L=sqrt(2)*V/di_by_dt_max #H\n",
      "print \"Value of L = %0.3e H \" %L \n",
      "R=L/(sqrt(2)*V)*dv_by_dt_max #ohm\n",
      "print \"Value of R = %0.2f ohm \" %R \n",
      "IL_peak=(sqrt(2)*V)/RL #A\n",
      "Ic_peak=(sqrt(2)*V)/R #A\n",
      "Itotal=IL_peak+Ic_peak #A\n",
      "print \"Total current through capacitor for these values = %0.2f A \" %Itotal \n",
      "print \"Itotal>Ip, therefore value of R should be increased.\" \n",
      "Ic_max=Ip-IL_peak #A\n",
      "R=(sqrt(2)*V)/Ic_max #ohm\n",
      "R=ceil(R) #ohm\n",
      "print \"New Value of R = %0.2f ohm \" %R \n",
      "damping=0.65 \n",
      "C=4*damping**2*L/R**2 #F\n",
      "print \"Value of C = %0.4f micro F \" %(C*10**6) \n",
      "print \"Value of L = %0.2f micro H \" %(L*10**6) \n",
      "#Ic_switching=C*dv/dt\n",
      "dv_by_dt=sqrt(2)*V/(R+RL)/C #V/s\n",
      "print \"Value of dv/dt is %0.3e\"%dv_by_dt,\"V/s.\\nIt is within the limit for the calculated value of R, L & C. Design is safe.\""
     ],
     "language": "python",
     "metadata": {},
     "outputs": [
      {
       "output_type": "stream",
       "stream": "stdout",
       "text": [
        "Value of L = 1.626e-05 H \n",
        "Value of R = 3.75 ohm \n",
        "Total current through capacitor for these values = 127.40 A \n",
        "Itotal>Ip, therefore value of R should be increased.\n",
        "New Value of R = 6.00 ohm \n",
        "Value of C = 0.7635 micro F \n",
        "Value of L = 16.26 micro H \n",
        "Value of dv/dt is 3.043e+07 V/s.\n",
        "It is within the limit for the calculated value of R, L & C. Design is safe.\n"
       ]
      }
     ],
     "prompt_number": 112
    },
    {
     "cell_type": "heading",
     "level": 2,
     "metadata": {},
     "source": [
      "Example 1_40, page 57"
     ]
    },
    {
     "cell_type": "code",
     "collapsed": false,
     "input": [
      "#Given data: \n",
      "V=230 #V\n",
      "R1=2 #ohm\n",
      "R2=5 #ohm\n",
      "R3=1 #ohm\n",
      "R4=6 #ohm\n",
      "R5=5 #ohm\n",
      "Isqr_t=30 #A**2-s\n",
      "R=R1+R2*R3/(R2+R3) #ohm(X grounded)\n",
      "Ifault=sqrt(2)*V/R #A\n",
      "tc=Isqr_t/Ifault**2 #s\n",
      "print \"Fault clearing time = %0.3e seconds\" %tc"
     ],
     "language": "python",
     "metadata": {},
     "outputs": [
      {
       "output_type": "stream",
       "stream": "stdout",
       "text": [
        "Fault clearing time = 1.134e-03 seconds\n"
       ]
      }
     ],
     "prompt_number": 4
    }
   ],
   "metadata": {}
  }
 ]
}
