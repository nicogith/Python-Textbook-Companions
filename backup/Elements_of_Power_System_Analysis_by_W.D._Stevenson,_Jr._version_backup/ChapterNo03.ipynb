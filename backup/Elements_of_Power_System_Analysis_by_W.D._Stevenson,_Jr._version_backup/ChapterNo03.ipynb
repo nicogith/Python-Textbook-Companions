{
 "metadata": {
  "name": ""
 },
 "nbformat": 3,
 "nbformat_minor": 0,
 "worksheets": [
  {
   "cells": [
    {
     "cell_type": "heading",
     "level": 1,
     "metadata": {},
     "source": [
      "Chapter 03 : Series Impedance Of Transmission Lines"
     ]
    },
    {
     "cell_type": "heading",
     "level": 2,
     "metadata": {},
     "source": [
      "Example 3.1, Page No 42"
     ]
    },
    {
     "cell_type": "code",
     "collapsed": false,
     "input": [
      "import math\n",
      "#initialisation of variables\n",
      "R_dc = 0.01558 \t\t#in ohm per 1000 ft at 20 degree Celsius\n",
      "R_ac = 0.0956 \t\t#in ohm per mi at 50 degree Celsius\n",
      "A = 1113000 \t\t#in cmil\n",
      "l = 1000.0\t\t\t#in ft\n",
      "p = 17 \t\t\t\t# $p$(rho) = 2.83e-8 ohm.m = 17 ohm.cmil per ft\n",
      "\n",
      "\n",
      "#Calculations\n",
      "#Verification of dc resistance\n",
      "R_0_1 = p*l*1.02/A \t\t\t\t\t#1.02 is to account for 2\\% increase in spiraling\n",
      "print(\" The dc resistance at 20 degree Celsius = %f ohm per 1000 ft\" %R_0_1)\n",
      "T = 228.0\t\t\t#in degree Celsius\n",
      "t1  = 50.0\t\t\t#in degree Celsius\n",
      "t2 = 20.0\t\t\t#in degree Celsius\n",
      "\n",
      "#to obtain dc resistance at 50 degree celsius\n",
      "R0 = R_0_1 * (T + t1)/(T + t2)\n",
      "\n",
      "print(\" The dc resistance at 50 degree Celsius = %f ohm per 1000 ft \" %R0)\n",
      "\n",
      "R = R_ac / 5.280e3 \t\t\t\t#to convert ohm per mi to ohm per ft,ac resistance\n",
      "R_0 = R0 / 1000.0 \t\t\t\t#to convert ohm per 1000 ft to ohm per ft,dc resistance\n",
      "\n",
      "#Results\n",
      "# to calculate ratio of ac to dc resistance\n",
      "print(\" Ratio of ac to dc resistance = %.3f  \" %(R / R_0))\n",
      "print(\" Skin effect causes a %.1f increase in resistance.\"%(((R/R_0)-1)*100))\n"
     ],
     "language": "python",
     "metadata": {},
     "outputs": [
      {
       "output_type": "stream",
       "stream": "stdout",
       "text": [
        " The dc resistance at 20 degree Celsius = 0.015580 ohm per 1000 ft\n",
        " The dc resistance at 50 degree Celsius = 0.017464 ohm per 1000 ft \n",
        " Ratio of ac to dc resistance = 1.037  \n",
        " Skin effect causes a 3.7 increase in resistance.\n"
       ]
      }
     ],
     "prompt_number": 7
    },
    {
     "cell_type": "heading",
     "level": 2,
     "metadata": {},
     "source": [
      "Example 3.2, Page No 55"
     ]
    },
    {
     "cell_type": "code",
     "collapsed": false,
     "input": [
      "import math\n",
      "#initialisation of variables\n",
      "r_x = 0.25e-2\t\t\t#radius of circuit in m,composed of 3 wires a,b,c\n",
      "r_y = 0.50e-2\t\t\t#radius of return circuit in m,composed of 2 wires d,e\n",
      "d_c = 9.0\t\t\t\t#distance between the two circuits\n",
      "d_w = 6.0\t\t\t\t#distance between wires of same circuit\n",
      "\n",
      "#Calculations\n",
      "#To find GMD between sides X and Y\n",
      "D_ad = d_c\n",
      "D_be = D_ad\n",
      "D_ae = math.sqrt(d_w**2+d_c**2)\n",
      "D_bd = D_ae\n",
      "D_ce = D_ae\n",
      "D_cd = math.sqrt(d_c**2+(2*d_w)**2)\n",
      "#GMD is given by\n",
      "D_m = (D_ad * D_ae * D_bd * D_be * D_cd * D_ce)**(1.0/6)\n",
      "print(\" The GMD between the sides X and Y = %.3f m \" %D_m)\n",
      "\n",
      "#To find GMR for the side X\n",
      "D_aa = r_x * 0.7788#multiplication by 0.7788 to adjust the radiuss \n",
      "                   #in order to account for internal flux\n",
      "D_ab = d_w\n",
      "D_ac = 2 * d_w\n",
      "D_ba = d_w\n",
      "D_bb = D_aa\n",
      "D_bc = D_ab\n",
      "D_ca = D_ac\n",
      "D_cb = D_ab\n",
      "D_cc = D_aa\n",
      "\n",
      "#GMR for side X\n",
      "D_s_x = (D_aa * D_ab * D_ac * D_ba * D_bb * D_bc * D_ca * D_cb * D_cc)**(1/9)\n",
      "print(\" The GMR for side X = %.3f m \" %D_s_x)\n",
      "\n",
      "#To find GMR for the side Y\n",
      "D_dd = r_y * 0.7788\n",
      "D_de = d_w\n",
      "D_ee = D_dd\n",
      "D_ed = D_de\n",
      "\n",
      "#GMR for side Y\n",
      "D_s_y = (D_dd * D_de * D_ee * D_ed)**(1/4)\n",
      "print(\" The GMR for side Y = %.3f m \" %D_s_y)\n",
      "\n",
      "#Inductance\n",
      "L_x = 2e-7 *math.log(D_m / D_s_x)\n",
      "L_y = 2e-7 *math.log(D_m / D_s_y)\n",
      "L = L_x + L_y\n",
      "\n",
      "#Results\n",
      "print(\" Inductance of side X = %.3fe-7 H/m  \" %(L_x*10**7))\n",
      "print(\" Inductance of side Y = %.3fe-7 H/m \" %(L_y*10**7))\n",
      "print(\" Inductance of Complete line = %.3fe-7 H/m\" %(L*10**7))\n",
      "print(\" = %.2f mH/mi \" %(L*1609e3))"
     ],
     "language": "python",
     "metadata": {},
     "outputs": [
      {
       "output_type": "stream",
       "stream": "stdout",
       "text": [
        " The GMD between the sides X and Y = 10.743 m \n",
        " The GMR for side X = 1.000 m \n",
        " The GMR for side Y = 1.000 m \n",
        " Inductance of side X = 4.749e-7 H/m  \n",
        " Inductance of side Y = 4.749e-7 H/m \n",
        " Inductance of Complete line = 9.497e-7 H/m\n",
        " = 1.53 mH/mi \n"
       ]
      }
     ],
     "prompt_number": 8
    },
    {
     "cell_type": "heading",
     "level": 2,
     "metadata": {},
     "source": [
      "Example 3.3, Page No 57"
     ]
    },
    {
     "cell_type": "code",
     "collapsed": false,
     "input": [
      "import math\n",
      "#initialisation of variables\n",
      "f = 60.0\t #in Hz\n",
      "D_m = 20.0\t #in ft\n",
      "\n",
      "#Inductive Reactance with D_s known\n",
      "D_s = 0.0217\t\t\t #in ft from Table A(appendix).1\n",
      "X_L = 2.022e-3*f*math.log(D_m/D_s)\n",
      "print('With GMR known')\n",
      "print(\"Inductive Reactance for one conductor,XL = %.3f ohm/mi \" %X_L)\n",
      "\n",
      "#Calculations\n",
      "#Inductive Reactance with D_s not known\n",
      "print('With GMR not known')\n",
      "X_a = 0.465 \t\t\t#inductive reactance at 1 ft spacingin ohm per mi from Table A.1\n",
      "X_d = 0.3635 \t\t\t#inductive reactance spacing factor in ohm per mi from Table A.1\n",
      "\n",
      "#Results\n",
      "print(\" Inductive reactance of one conductor = %.4f ohm/mi \" %(X_a + X_d))\n",
      "print('Since conductors composing the two lines are identical')\n",
      "XL = 2 * (X_a + X_d)\n",
      "print(\" Inductive reactance,XL = %.3f ohm/mi \" %(XL))\n"
     ],
     "language": "python",
     "metadata": {},
     "outputs": [
      {
       "output_type": "stream",
       "stream": "stdout",
       "text": [
        "With GMR known\n",
        "Inductive Reactance for one conductor,XL = 0.828 ohm/mi \n",
        "With GMR not known\n",
        " Inductive reactance of one conductor = 0.8285 ohm/mi \n",
        "Since conductors composing the two lines are identical\n",
        " Inductive reactance,XL = 1.657 ohm/mi \n"
       ]
      }
     ],
     "prompt_number": 9
    },
    {
     "cell_type": "heading",
     "level": 2,
     "metadata": {},
     "source": [
      "Example 3.4 Page No 60"
     ]
    },
    {
     "cell_type": "code",
     "collapsed": false,
     "input": [
      "import math\n",
      "#initialisation of variables\n",
      "#Given Values\n",
      "D_12 = 20.0\n",
      "D_23 = D_12\n",
      "D_31 = 38.0\n",
      "#in ft\n",
      "f=60.0\t#frequency in Hz\n",
      "#From Table A.1\n",
      "D_s = 0.0373\t#in ft\n",
      "X_a = 0.399\t\t#inductive reactance at 1 ft spacing in ohm/mi\n",
      "X_d = 0.389\t\t#inductive reactance spacing factor in ohm/mi for 24.8ft\n",
      "\n",
      "#Calculations\n",
      "D_eq =(D_12*D_23*D_31)**(1.0/3)\n",
      "L = 2e-7 * math.log(D_eq/D_s)*10**7\n",
      "X_L=2*math.pi*f*L*10**-7*1609.0\t\t#multiplication by 1609 to convert to ohm/mi\n",
      "\n",
      "#Results\n",
      "print(\"Inductance = %.4fe-7 H/m \" %L)\n",
      "print(\"Inductive reactance = %.4f ohm/mi/phase\" %X_L)\n",
      "X_L1 = X_a + X_d\n",
      "print(\"Inductive reactance from Xa and Xd = %.4f ohm/mi/phase \" %X_L1)"
     ],
     "language": "python",
     "metadata": {},
     "outputs": [
      {
       "output_type": "stream",
       "stream": "stdout",
       "text": [
        "Inductance = 12.9969e-7 H/m \n",
        "Inductive reactance = 0.7884 ohm/mi/phase\n",
        "Inductive reactance from Xa and Xd = 0.7880 ohm/mi/phase \n"
       ]
      }
     ],
     "prompt_number": 10
    },
    {
     "cell_type": "heading",
     "level": 2,
     "metadata": {},
     "source": [
      "Example 3.5, Page No 62"
     ]
    },
    {
     "cell_type": "code",
     "collapsed": false,
     "input": [
      "import math\n",
      "#initialisation of variables\n",
      "d = 0.45\t\t#in m\n",
      "l = 160.0\t \t#in km\n",
      "d_12 = 8.0\n",
      "d_23 = 8.0\n",
      "d_31 = 16\t#in m\n",
      "f = 60#in Hz\n",
      "P = 100#in MVA\n",
      "V = 345#in kV\n",
      "#From Table A1\n",
      "D_s = 0.0466#in ft\n",
      "\n",
      "#Calculations\n",
      "D_b_s = math.sqrt(D_s * 0.3048 * d)#multiplicqation by 0.3048 is to convert D_s\n",
      "#from ft to m\n",
      "D_eq=(d_12*d_23*d_31)**(1/3)\n",
      "X_L=2*math.pi*f*2e-7*10**3*math.log(D_eq/D_b_s)\t\t#10^3 to get ohm/km\n",
      "#To find per unit series reactance\n",
      "Z = V**2/P\t\t\t#Base Impedance\n",
      "X = X_L*l/Z\t\t\t#per unit series reactance\n",
      "\n",
      "#Results\n",
      "print(\" Inductive reactance = %.3f ohm/km/phase \" %X_L)\n",
      "print(\" Base Impedance = %.0f ohm \" %Z)\n",
      "print(\" Per unit series resistance of the line = %.3f per unit \" %X)"
     ],
     "language": "python",
     "metadata": {},
     "outputs": [
      {
       "output_type": "stream",
       "stream": "stdout",
       "text": [
        " Inductive reactance = 0.190 ohm/km/phase \n",
        " Base Impedance = 1190 ohm \n",
        " Per unit series resistance of the line = 0.026 per unit \n"
       ]
      }
     ],
     "prompt_number": 11
    },
    {
     "cell_type": "heading",
     "level": 2,
     "metadata": {},
     "source": [
      "Example 3.6, Page No 152"
     ]
    },
    {
     "cell_type": "code",
     "collapsed": false,
     "input": [
      "import math\n",
      "#initialisation of variables\n",
      "f = 60.0\t#in Hz\n",
      "\n",
      "#From Table A.1\n",
      "D_s = 0.0229 #in ft\n",
      "#Distances from given figure 3.15\n",
      "d_a_c = 18.0\n",
      "d_c_a = d_a_c\n",
      "d_b_b = 21.0\n",
      "d = 10.0\t\t#distance between conductors\n",
      "d_a_b = math.sqrt(d**2 + (d_b_b - 19.5)**2)\n",
      "d_a_b1 = math.sqrt(d**2 + (d_b_b - 1.5)**2)\n",
      "d_aa1_actual = math.sqrt((d * 2)**2 + d_a_c**2)\n",
      "d_bb1_actual = d_b_b\n",
      "d_cc1_actual = d_aa1_actual\n",
      "d_aa1_pos = math.sqrt(d_aa1_actual * D_s)\n",
      "d_bb1_pos = math.sqrt(d_bb1_actual * D_s)\n",
      "d_cc1_pos = math.sqrt(d_cc1_actual * D_s)\n",
      "\n",
      "\n",
      "#Calculations\n",
      "#GMD's between phases\n",
      "D_p_ab = ((d_a_b * d_a_b1)**(2*1.0/4))#in ft\n",
      "D_p_bc = D_p_ab\n",
      "D_p_ca = (((d*2) * d_c_a)**(2*1.0/4))#in ft\n",
      "D_eq = (D_p_ab * D_p_bc * D_p_ca)**(1.0/3)#in ft\n",
      "print(\" Equivalent GMD = %.1f ft \"%D_eq)\n",
      "\n",
      "#GMR\n",
      "D_p_s = (d_aa1_pos * d_bb1_pos * d_cc1_pos)**(1.0/3)\n",
      "print(\" GMR = %.3f ft \" %D_p_s)\n",
      "\n",
      "#Inductance\n",
      "L = 2e-7*math.log(D_eq/D_p_s)\n",
      "X_L = 2*math.pi*f*L*1609\t\t\t#multiplication by 1609 is to convert to ohm/mi\n",
      "\n",
      "\n",
      "#Results\n",
      "print(\" The Inductive reactance = %.3f ohm/mi/phase \" %X_L)"
     ],
     "language": "python",
     "metadata": {},
     "outputs": [
      {
       "output_type": "stream",
       "stream": "stdout",
       "text": [
        " Equivalent GMD = 16.1 ft \n",
        " GMR = 0.753 ft \n",
        " The Inductive reactance = 0.372 ohm/mi/phase \n"
       ]
      }
     ],
     "prompt_number": 12
    }
   ],
   "metadata": {}
  }
 ]
}