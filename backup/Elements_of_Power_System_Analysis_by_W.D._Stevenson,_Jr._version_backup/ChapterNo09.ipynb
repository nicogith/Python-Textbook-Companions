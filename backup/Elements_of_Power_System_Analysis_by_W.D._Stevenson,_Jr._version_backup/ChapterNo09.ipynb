{
 "metadata": {
  "name": ""
 },
 "nbformat": 3,
 "nbformat_minor": 0,
 "worksheets": [
  {
   "cells": [
    {
     "cell_type": "heading",
     "level": 1,
     "metadata": {},
     "source": [
      "Chapter 09 : Economic Operation Of Power Systems"
     ]
    },
    {
     "cell_type": "heading",
     "level": 2,
     "metadata": {},
     "source": [
      "Example 9.3, Page No 236"
     ]
    },
    {
     "cell_type": "code",
     "collapsed": false,
     "input": [
      "import math\n",
      "#initialisation of variables\n",
      "I1 = 1.0\n",
      "I2 = 0.8\n",
      "V3 = 1.0\n",
      "pf1 =1.0\n",
      "pf2 = pf1\n",
      "pf3 = pf1\n",
      "\n",
      "#Calculations\n",
      "Za = complex(0.04,0.16)\n",
      "Ra = Za.real\n",
      "Zb = complex(0.03,0.12)\n",
      "Rb = Zb.real\n",
      "Zc = complex(0.02,0.08)\n",
      "Rc = Zc.real\n",
      "V1 = V3 + I1 * Za\n",
      "print(V1,'Voltage at bus 1,V1 in per unit')\n",
      "V2 = V3 + I2 * Zb\n",
      "\n",
      "#Results\n",
      "print(V2,'Voltage at bus 2,V2 in per unit')\n",
      "print('Transmission Loss Co-efficients')\n",
      "B11 = (Ra + Rc) / (abs(V1) * pf1)**2\n",
      "print('B11 in per unit = %.2f' %B11)\n",
      "B12 = Rc / (abs(V1) * abs(V2) * pf1 * pf2)\n",
      "print('B12 in per unit = %.2f' %B12)\n",
      "B22 = (Rb + Rc) / (abs(V2) * pf2)**2\n",
      "print('B22 in per unit = %.2f' %B22)\n"
     ],
     "language": "python",
     "metadata": {},
     "outputs": [
      {
       "output_type": "stream",
       "stream": "stdout",
       "text": [
        "((1.04+0.16j), 'Voltage at bus 1,V1 in per unit')\n",
        "((1.024+0.096j), 'Voltage at bus 2,V2 in per unit')\n",
        "Transmission Loss Co-efficients\n",
        "B11 in per unit = 0.05\n",
        "B12 in per unit = 0.02\n",
        "B22 in per unit = 0.05\n"
       ]
      }
     ],
     "prompt_number": 1
    },
    {
     "cell_type": "heading",
     "level": 2,
     "metadata": {},
     "source": [
      "Example 9.4, Page No 237"
     ]
    },
    {
     "cell_type": "code",
     "collapsed": false,
     "input": [
      "import math\n",
      "#initialisation of variables\n",
      "I1 = 1.0\n",
      "I2 = 0.8\n",
      "V3 = 1.0\n",
      "pf1 =1.0\n",
      "pf2 = pf1\n",
      "pf3 = pf1\n",
      "\n",
      "#Calculations\n",
      "Za = complex(0.04,0.16)\n",
      "Ra = Za.real\n",
      "Zb = complex(0.03,0.12)\n",
      "Rb = Zb.real\n",
      "Zc = complex(0.02 ,0.08)\n",
      "Rc = Zc.real\n",
      "V1 = V3 + I1 * Za\n",
      "V2 = V3 + I2 * Zb\n",
      "B11 = (Ra + Rc) / (abs(V1) * pf1)**2\n",
      "B12 = Rc / (abs(V1) * abs(V2) * pf1 * pf2)\n",
      "B22 = (Rb + Rc) / (abs(V2) * pf2)**2\n",
      "P1 = (I1.real * V1.real)\n",
      "\n",
      "#Results\n",
      "print('P1 in per unit = %.2f' %P1)\n",
      "P2 = (I2.real * V2.real)\n",
      "print('P2 in per unit = %.2f' %P2)\n",
      "PL = (P1)**2 * B11 + 2 * P1 * P2 * B12 + (P2)**2 * B22\n",
      "print('Loss calculated using loss coefficients in per unit is = %.2f' %PL)\n",
      "PL_I2R = I1**2 * Ra + (I1+I2)**2 * Rc + I2**2 * Rb\n",
      "print('Loss calculated using current and resistance in per unit is = %.2f' %PL_I2R)"
     ],
     "language": "python",
     "metadata": {},
     "outputs": [
      {
       "output_type": "stream",
       "stream": "stdout",
       "text": [
        "P1 in per unit = 1.04\n",
        "P2 in per unit = 0.82\n",
        "Loss calculated using loss coefficients in per unit is = 0.12\n",
        "Loss calculated using current and resistance in per unit is = 0.12\n"
       ]
      }
     ],
     "prompt_number": 2
    },
    {
     "cell_type": "heading",
     "level": 2,
     "metadata": {},
     "source": [
      "Example 9.5, Page No 240"
     ]
    },
    {
     "cell_type": "code",
     "collapsed": false,
     "input": [
      "import math\n",
      "#initialisation of variables\n",
      "l = 12.5\n",
      "dF_dP = [[0.01,8,0.5],[0.015,9,0.5]]\n",
      "B22 = 0\n",
      "B12 = 0   #since all the load is at plant 2\n",
      "P1_trans = 200\n",
      "PL_trans = 16\n",
      "\n",
      "#Calculations\n",
      "B11 = PL_trans / P1_trans**2\n",
      "print(\" Penalty factors are \\n L1 = 1 / (1 - %fP1) \\n L2 = 1\" %(2*B11))\n",
      "P1 = (l - dF_dP[0][1]) / (2*B11 * l + dF_dP[0][0])\n",
      "P2 = (l - dF_dP[1][1]) / dF_dP[1][0]\n",
      "PL = B11 * P1**2\n",
      "Pr = P1 + P2 - PL\n",
      "\n",
      "#Results\n",
      "print(\"Required generation from plant \\n P1 = %.0fMW \\n P2 = %.0fMW\" %(P1,P2))\n",
      "print(\"Power loss in transmisison is %.0fMW\" %(PL))\n",
      "print(\"The delivered load is %.0fMW\" %Pr)"
     ],
     "language": "python",
     "metadata": {},
     "outputs": [
      {
       "output_type": "stream",
       "stream": "stdout",
       "text": [
        " Penalty factors are \n",
        " L1 = 1 / (1 - 0.000000P1) \n",
        " L2 = 1\n",
        "Required generation from plant \n",
        " P1 = 450MW \n",
        " P2 = 233MW\n",
        "Power loss in transmisison is 0MW\n",
        "The delivered load is 683MW\n"
       ]
      }
     ],
     "prompt_number": 3
    }
   ],
   "metadata": {}
  }
 ]
}