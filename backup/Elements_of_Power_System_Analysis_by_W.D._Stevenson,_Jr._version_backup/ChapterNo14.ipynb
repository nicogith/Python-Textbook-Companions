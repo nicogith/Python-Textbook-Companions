{
 "metadata": {
  "name": ""
 },
 "nbformat": 3,
 "nbformat_minor": 0,
 "worksheets": [
  {
   "cells": [
    {
     "cell_type": "heading",
     "level": 1,
     "metadata": {},
     "source": [
      "Chapter 14 : Power System Stability"
     ]
    },
    {
     "cell_type": "heading",
     "level": 2,
     "metadata": {},
     "source": [
      "Example 14.1, Page No 380"
     ]
    },
    {
     "cell_type": "code",
     "collapsed": false,
     "input": [
      "import math\n",
      "#initialisation of variables\n",
      "WR2 = 5.82\n",
      "Smach = 1333\n",
      "n = 1800\n",
      "\n",
      "#Calculations\n",
      "ft_lb = 746 / 550.0\n",
      "w = 2 * math.pi * n / 60\n",
      "H = ft_lb * WR2 * w**2 / (2 * 32.2 * Smach)\n",
      "\n",
      "#Results\n",
      "print('The inertia constant in MJ/MVA is = %.2f' %H)\n",
      "print('Converting H to a 100-MVA system base,units in MJ/MVA = %.2f' %(H * Smach / 100))"
     ],
     "language": "python",
     "metadata": {},
     "outputs": [
      {
       "output_type": "stream",
       "stream": "stdout",
       "text": [
        "The inertia constant in MJ/MVA is = 3.27\n",
        "Converting H to a 100-MVA system base,units in MJ/MVA = 43.55\n"
       ]
      }
     ],
     "prompt_number": 1
    },
    {
     "cell_type": "heading",
     "level": 2,
     "metadata": {},
     "source": [
      "Example 14.2, Page No 181"
     ]
    },
    {
     "cell_type": "code",
     "collapsed": false,
     "input": [
      "import math\n",
      "#initialisation of variables\n",
      "P1 = 500.0\n",
      "pf1 = 0.85\n",
      "V1 = 20.0\n",
      "n1 = 3600\n",
      "P2 = 1333.0\n",
      "pf2 = 0.9\n",
      "V2 = 22.0\n",
      "n2 = 1800.0\n",
      "Pbase = 100\n",
      "H1 = 4.8\n",
      "H2 = 3.27\n",
      "\n",
      "#Calculations\n",
      "KE = H1 * P1 + H2 * P2\n",
      "\n",
      "#Results\n",
      "print('The total kinetic energy of rotation of the two machines in MJ is = %.2f' %KE)\n",
      "print('The inertia constant for the equivalent machine on 100-MVA base in MJ/MVA is = %.2f' %(KE/Pbase))"
     ],
     "language": "python",
     "metadata": {},
     "outputs": [
      {
       "output_type": "stream",
       "stream": "stdout",
       "text": [
        "The total kinetic energy of rotation of the two machines in MJ is = 6758.91\n",
        "The inertia constant for the equivalent machine on 100-MVA base in MJ/MVA is = 67.59\n"
       ]
      }
     ],
     "prompt_number": 2
    },
    {
     "cell_type": "heading",
     "level": 2,
     "metadata": {},
     "source": [
      "Example 14.3, Page No 386"
     ]
    },
    {
     "cell_type": "code",
     "collapsed": false,
     "input": [
      "import math\n",
      "#initialisation of variables\n",
      "Pm =1\n",
      "Vt = 1.0\n",
      "V_ib = 1.0\n",
      "X1_g =0.2\n",
      "X1_t = 0.1\n",
      "X1_l1 = 0.4\n",
      "X1_l2 = 0.4\n",
      "\n",
      "#Calculations\n",
      "X = X1_t + X1_l1 /2\n",
      "a = math.asin(Pm*X/(Vt*V_ib))*180/math.pi\n",
      "Vt1 = Vt*complex(math.cos(a * math.pi / 180),math.sin(a * math.pi / 180))\n",
      "I = (Vt1 - V_ib) / complex(X)\n",
      "E1 = Vt1 + complex(X1_g * I)\n",
      "X1 = X1_g + X1_t + X1_l1 /2\n",
      "Pmax = abs(E1) * V_ib / X1\n",
      "\n",
      "#Results\n",
      "print('The terminal voltage after considering the angle is,in per unit= {0:.2f}+{1:.2f}i'.format(Vt1.real, Vt1.imag))\n",
      "print('The output current from the generator in per unit is= {0:.2f}+{1:.2f}i'.format(I.real, I.imag))\n",
      "print('The transient internal voltage in per unit= {0:.2f}+{1:.2f}i'.format(E1.real, E1.imag))\n",
      "print('Power angle equation is')\n",
      "print(\"\\n Pe = %.2f * sin(delta) \\n where delta is the machine rotor angle wrt to the infinite bus\" %Pmax)"
     ],
     "language": "python",
     "metadata": {},
     "outputs": [
      {
       "output_type": "stream",
       "stream": "stdout",
       "text": [
        "The terminal voltage after considering the angle is,in per unit= 0.95+0.30i\n",
        "The output current from the generator in per unit is= -0.15+1.00i\n",
        "The transient internal voltage in per unit= 0.92+0.50i\n",
        "Power angle equation is\n",
        "\n",
        " Pe = 2.10 * sin(delta) \n",
        " where delta is the machine rotor angle wrt to the infinite bus\n"
       ]
      }
     ],
     "prompt_number": 3
    },
    {
     "cell_type": "heading",
     "level": 2,
     "metadata": {},
     "source": [
      "Example 14.4 Page No 388"
     ]
    },
    {
     "cell_type": "code",
     "collapsed": false,
     "input": [
      "import math\n",
      "#initialisation of variables\n",
      "H = 5.0\n",
      "Pm =1.0\n",
      "Vt = 1.0\n",
      "V_ib = 1.0\n",
      "X1_g =0.2\n",
      "X1_t = 0.1\n",
      "X1_l1 = 0.4\n",
      "X1_l2 = 0.4\n",
      "X = X1_t + X1_l1 /2\n",
      "a = math.asin(Pm * X / (Vt * V_ib)) * 180 / math.pi\n",
      "Vt1 = Vt*complex(math.cos(a * math.pi / 180),math.sin(a * math.pi / 180))\n",
      "I = (Vt1 - V_ib) / complex(X)\n",
      "E1 = Vt1 + complex(X1_g * I)\n",
      "y10 = complex(3.33)\n",
      "y32 = complex(2.5)\n",
      "y30 = complex(5)\n",
      "y20 = complex(5)\n",
      "Ybus =  [[0,0,0],[0,0,0],[0,0,0]]\n",
      "\n",
      "#Calculations\n",
      "Ybus[0][0] = -y10\n",
      "Ybus[0][1] =0\n",
      "Ybus[0][2] = y10\n",
      "Ybus[1][0] = Ybus[0][1]\n",
      "Ybus[1][1] = -(y32 + y30)\n",
      "Ybus[1][2] = y32\n",
      "Ybus[2][0] = Ybus[0][2]\n",
      "Ybus[2][1] = Ybus[1][2]\n",
      "Ybus[2][2] = -(y10 + y32 + y30)\n",
      "print('Ybus formed by inspection is')\n",
      "print(Ybus)\n",
      "\n",
      "Ybus_new = [[0,0],[0,0]]\n",
      "for c in range(0, 2):\n",
      "    for d in range(0, 2):\n",
      "        Ybus_new[c][d] = Ybus[c][d] - ((Ybus[c][2]*Ybus[2][d]) / Ybus[2][2])\n",
      "        \n",
      "print('Ybus formed after elimination of Bus 3')\n",
      "print(Ybus_new)\n",
      "Pmax = abs(E1) * V_ib * abs(Ybus_new[0][1])\n",
      "delta = 28.44\n",
      "Pa = Pm - Pmax * math.sin(delta * math.pi / 180)\n",
      "b = 180 * Pa / H\n",
      "#Results\n",
      "print('The power abgle equation is')\n",
      "print(\" Pe = %.3f * sin(delta) \\n where delta is the machine rotor angle wrt to the infinite bus\" %Pmax)\n",
      "print('The swing equation is')\n",
      "print(\"(%.2f/180f) * d(delta)^2/dt^2 = %.2f - %.2fsin(delta) \\n\" %(H,Pm,Pmax))\n",
      "print(\" Intial Accelerating power is %.3f per unit \\n\" %(Pa))\n",
      "print(\" Initial acceleration is %.2f*f \\n where f is the system frequency\" %(b))"
     ],
     "language": "python",
     "metadata": {},
     "outputs": [
      {
       "output_type": "stream",
       "stream": "stdout",
       "text": [
        "Ybus formed by inspection is\n",
        "[[(-3.33-0j), 0, (3.33+0j)], [0, (-7.5-0j), (2.5+0j)], [(3.33+0j), (2.5+0j), (-10.83-0j)]]\n",
        "Ybus formed after elimination of Bus 3\n",
        "[[(-2.306094182825485+0j), (0.7686980609418281+0j)], [(0.7686980609418281+0j), (-6.922899353647276+0j)]]\n",
        "The power abgle equation is\n",
        " Pe = 0.807 * sin(delta) \n",
        " where delta is the machine rotor angle wrt to the infinite bus\n",
        "The swing equation is\n",
        "(5.00/180f) * d(delta)^2/dt^2 = 1.00 - 0.81sin(delta) \n",
        "\n",
        " Intial Accelerating power is 0.616 per unit \n",
        "\n",
        " Initial acceleration is 22.16*f \n",
        " where f is the system frequency\n"
       ]
      }
     ],
     "prompt_number": 4
    },
    {
     "cell_type": "heading",
     "level": 2,
     "metadata": {},
     "source": [
      "Example 14.5, Page No 389"
     ]
    },
    {
     "cell_type": "code",
     "collapsed": false,
     "input": [
      "import math\n",
      "#initialisation of variables\n",
      "H = 5\n",
      "Pm =1\n",
      "Vt = 1\n",
      "V_ib = 1\n",
      "X1_g =0.2\n",
      "X1_t = 0.1\n",
      "X1_l1 = 0.4\n",
      "X1_l2 = 0.4\n",
      "\n",
      "#Calculations\n",
      "X = X1_t + X1_l1 /2\n",
      "a = math.asin(Pm * X / (Vt * V_ib)) * 180 / math.pi\n",
      "Vt1 = Vt * complex(math.cos(a * math.pi / 180),math.sin(a * math.pi / 180))\n",
      "I = (Vt1 - V_ib) / complex(X)\n",
      "E1 = Vt1 + complex(X1_g * I)\n",
      "y12 = 1 / complex((X1_g + X1_t + X1_l1))\n",
      "Y12 = -y12\n",
      "Pe = abs(E1) * V_ib * abs(Y12)\n",
      "\n",
      "#Results\n",
      "print('The power abgle equation is')\n",
      "print(\" Pe = %.3f * sin(delta) \\n where delta is the machine rotor angle wrt to the infinite bus\" %Pe)\n",
      "print('The swing equation is')\n",
      "print(\" (%.2f/180f) * d(delta)^2/dt^2 = %.2f - %.2fsin(delta) \\n\" %(H,Pm,Pe))"
     ],
     "language": "python",
     "metadata": {},
     "outputs": [
      {
       "output_type": "stream",
       "stream": "stdout",
       "text": [
        "The power abgle equation is\n",
        " Pe = 1.500 * sin(delta) \n",
        " where delta is the machine rotor angle wrt to the infinite bus\n",
        "The swing equation is\n",
        " (5.00/180f) * d(delta)^2/dt^2 = 1.00 - 1.50sin(delta) \n",
        "\n"
       ]
      }
     ],
     "prompt_number": 5
    },
    {
     "cell_type": "heading",
     "level": 2,
     "metadata": {},
     "source": [
      "Example 14.6, Page No 392"
     ]
    },
    {
     "cell_type": "code",
     "collapsed": false,
     "input": [
      "import math\n",
      "#initialisation of variables\n",
      "delta = 28.44\n",
      "H = 5\n",
      "ws = 377\n",
      "Pm =1\n",
      "Vt = 1.0\n",
      "V_ib = 1\n",
      "X1_g =0.2\n",
      "X1_t = 0.1\n",
      "X1_l1 = 0.4\n",
      "X1_l2 = 0.4\n",
      "\n",
      "#Calculations\n",
      "X = X1_t + X1_l1 /2\n",
      "a = math.asin(Pm * X / (Vt * V_ib)) * 180 / math.pi\n",
      "Vt1 = Vt * complex(math.cos(a * math.pi / 180),math.sin(a * math.pi / 180))\n",
      "I = (Vt1 - V_ib) / complex(X)\n",
      "E1 = Vt1 + complex(X1_g * I)\n",
      "X1 = X1_g + X1_t + X1_l1 /2\n",
      "Pmax = abs(E1) * V_ib / X1\n",
      "Sp = Pmax * math.cos(delta * math.pi / 180)\n",
      "wn = math.sqrt(ws * Sp / (2 * H))\n",
      "fn = wn / (2 * math.pi)\n",
      "T = 1 / fn\n",
      "\n",
      "#Results\n",
      "print(\"The angular frequency of oscillation is %.3f elec rad/s \" %wn)\n",
      "print(\"The corresponding frquency of oscillation is %.2f Hz \" %fn)\n",
      "print(\"The period of oscillation is %.3f s\" %T)"
     ],
     "language": "python",
     "metadata": {},
     "outputs": [
      {
       "output_type": "stream",
       "stream": "stdout",
       "text": [
        "The angular frequency of oscillation is 8.343 elec rad/s \n",
        "The corresponding frquency of oscillation is 1.33 Hz \n",
        "The period of oscillation is 0.753 s\n"
       ]
      }
     ],
     "prompt_number": 6
    },
    {
     "cell_type": "heading",
     "level": 2,
     "metadata": {},
     "source": [
      "Example 14.7 Page No 392"
     ]
    },
    {
     "cell_type": "code",
     "collapsed": false,
     "input": [
      "import math\n",
      "#initialisation of variables\n",
      "delta = 28.44\n",
      "H = 5\n",
      "ws = 377\n",
      "Pm =1\n",
      "Vt = 1\n",
      "V_ib = 1\n",
      "X1_g =0.2\n",
      "X1_t = 0.1\n",
      "X1_l1 = 0.4\n",
      "X1_l2 = 0.4\n",
      "\n",
      "#Calculations\n",
      "X = X1_t + X1_l1 /2\n",
      "a = math.asin(Pm * X / (Vt * V_ib)) * 180 / math.pi\n",
      "Vt1 = Vt * complex(math.cos(a * math.pi / 180),math.sin(a * math.pi / 180))\n",
      "I = (Vt1 - V_ib) / complex(X)\n",
      "E1 = Vt1 + complex(X1_g * I)\n",
      "X1 = X1_g + X1_t + X1_l1 /2\n",
      "Pmax = abs(E1) * V_ib / X1\n",
      "delta_rad = delta * math.pi / 180\n",
      "delta_cr = math.acos((math.pi - 2 * delta_rad) * math.sin(delta_rad) - math.cos(delta_rad))\n",
      "t_cr = math.sqrt(4 * H * (delta_cr - delta_rad) / (ws * Pm))\n",
      "\n",
      "#Results\n",
      "print(\"Critical clearing angle = %.3f elec rad \" %(delta_cr))\n",
      "print(\"Critical clearing angle for the system = %.3f s\" %(t_cr))\n"
     ],
     "language": "python",
     "metadata": {},
     "outputs": [
      {
       "output_type": "stream",
       "stream": "stdout",
       "text": [
        "Critical clearing angle = 1.426 elec rad \n",
        "Critical clearing angle for the system = 0.222 s\n"
       ]
      }
     ],
     "prompt_number": 7
    }
   ],
   "metadata": {}
  }
 ]
}