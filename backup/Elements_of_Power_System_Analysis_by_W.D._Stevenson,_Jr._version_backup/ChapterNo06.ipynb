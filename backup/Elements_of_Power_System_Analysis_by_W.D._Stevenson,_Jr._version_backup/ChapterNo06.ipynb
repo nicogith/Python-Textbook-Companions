{
 "metadata": {
  "name": ""
 },
 "nbformat": 3,
 "nbformat_minor": 0,
 "worksheets": [
  {
   "cells": [
    {
     "cell_type": "heading",
     "level": 1,
     "metadata": {},
     "source": [
      "Chapter 06 : System Modelling"
     ]
    },
    {
     "cell_type": "heading",
     "level": 2,
     "metadata": {},
     "source": [
      "Example 6.1, Page No 142"
     ]
    },
    {
     "cell_type": "code",
     "collapsed": false,
     "input": [
      "import math\n",
      "#initialisation of variables\n",
      "N_1 = 2000.0\n",
      "N_2 = 500.0\n",
      "V_1 = 1200.0*complex(math.cos(0),math.sin(0))\n",
      "I_1 = 5*complex(math.cos(-30*math.pi/180),math.sin(-30*math.pi/180))\n",
      "\n",
      "#Calculations\n",
      "a = N_1 / N_2\n",
      "V_2 = V_1/a\n",
      "I_2 = a * I_1\n",
      "Z_2 = V_2 / I_2\n",
      "Z1_2 = Z_2 * a**2\n",
      "\n",
      "#Results\n",
      "print( \"V_2 = {0:.2f}\".format(abs(V_2.real)))\n",
      "print(\"Angle = %.2f v \" %(math.degrees(math.atan2(V_2.imag,V_2.real))))\n",
      "print( \"I_2 = {0:.2f}\".format(abs(I_2.real)))\n",
      "print(\"Angle = %.2f A \" %(math.degrees(math.atan2(I_2.imag,I_2.real))))\n",
      "print( \"Z_2 = {0:.2f}\".format(abs(Z_2.real)))\n",
      "print(\"Angle = %.2f ohm \" %(math.degrees(math.atan2(Z_2.imag,Z_2.real))))\n",
      "print( \"Z1_2 = {0:.2f}\".format(abs(I_2.real)))\n",
      "print(\"Angle = %.2f ohm \" %(math.degrees(math.atan2(Z1_2.imag,Z1_2.real))))\n"
     ],
     "language": "python",
     "metadata": {},
     "outputs": [
      {
       "output_type": "stream",
       "stream": "stdout",
       "text": [
        "V_2 = 300.00\n",
        "Angle = 0.00 v \n",
        "I_2 = 17.32\n",
        "Angle = -30.00 A \n",
        "Z_2 = 12.99\n",
        "Angle = 30.00 ohm \n",
        "Z1_2 = 17.32\n",
        "Angle = 30.00 ohm \n"
       ]
      }
     ],
     "prompt_number": 1
    },
    {
     "cell_type": "heading",
     "level": 2,
     "metadata": {},
     "source": [
      "Example 6.2, Page No 144"
     ]
    },
    {
     "cell_type": "code",
     "collapsed": false,
     "input": [
      "import math\n",
      "#initialisation of variables\n",
      "N_1 = 2000.0\n",
      "N_2 = 500.0\n",
      "V_1 = 1200*complex(math.cos(0),math.sin(0))\n",
      "r1 = 2\n",
      "r2 = 0.125\n",
      "x1 = 8\n",
      "x2 = 0.5\n",
      "Z_2 = 12\n",
      "\n",
      "#Calculations\n",
      "a = N_1 / N_2\n",
      "R1 = r1 + a**2 * r2\n",
      "X1 = x1 + a**2 * x2\n",
      "Z1_2 = Z_2 * a**2\n",
      "\n",
      "I_1 = V_1 /(Z1_2+ complex(R1,X1))\n",
      "V_2 = I_1 * Z1_2 / a\n",
      "voltage_regulation = ((V_1/4)-abs(V_2))*100.0/V_2\n",
      "\n",
      "print( \"I_1 = {0:.2f}\".format(abs(I_1.real)))\n",
      "print(\"Angle = %.2f A \" %(math.degrees(math.atan2(I_1.imag,I_1.real))))\n",
      "print( \"V_2 = {0:.2f}\".format(abs(V_2.real)))\n",
      "print(\"Angle = %.2f V \" %(math.degrees(math.atan2(V_2.imag,V_2.real))))\n",
      "print( \"Voltage Regulation ={0:.5f}+{1:.5f}i\".format(voltage_regulation.real, voltage_regulation.imag))"
     ],
     "language": "python",
     "metadata": {},
     "outputs": [
      {
       "output_type": "stream",
       "stream": "stdout",
       "text": [
        "I_1 = 6.08\n",
        "Angle = -4.67 A \n",
        "V_2 = 291.93\n",
        "Angle = -4.67 V \n",
        "Voltage Regulation =2.41487+0.19713i\n"
       ]
      }
     ],
     "prompt_number": 2
    },
    {
     "cell_type": "heading",
     "level": 2,
     "metadata": {},
     "source": [
      "Example 6.3, Page No 145"
     ]
    },
    {
     "cell_type": "code",
     "collapsed": false,
     "input": [
      "import math\n",
      "#initialisation of variables\n",
      "P = 30e3\n",
      "V_lt = 120.0\n",
      "V_ht = 240.0\n",
      "\n",
      "#Calculations\n",
      "I_1 = P / V_lt\n",
      "I_2 = P / V_ht\n",
      "V_2 = V_lt + V_ht\n",
      "I_in = I_1 + I_2\n",
      "input_kva = I_in * V_lt / 1e3\n",
      "output_kva = I_2 * V_2 / 1e3\n",
      "\n",
      "#Results\n",
      "print(\" Input kVA = %.0f kVA \" %input_kva)\n",
      "print(\" Output kVA = %.0f kVA \" %output_kva)"
     ],
     "language": "python",
     "metadata": {},
     "outputs": [
      {
       "output_type": "stream",
       "stream": "stdout",
       "text": [
        " Input kVA = 45 kVA \n",
        " Output kVA = 45 kVA \n"
       ]
      }
     ],
     "prompt_number": 3
    },
    {
     "cell_type": "heading",
     "level": 2,
     "metadata": {},
     "source": [
      "Example 6.4 Page No 147"
     ]
    },
    {
     "cell_type": "code",
     "collapsed": false,
     "input": [
      "import math\n",
      "#initialisation of variables\n",
      "V_lt = 110.0\n",
      "V_ht = 440.0\n",
      "P = 2.5e3\n",
      "x_lt = 0.06\n",
      "\n",
      "#Calculations\n",
      "print('Viewed from low-tension side')\n",
      "lt_base_impedance = (V_lt)**2 / P\n",
      "print(\" Leakage reactance from low-tension side = %.2f ohm\" %x_lt)\n",
      "print(\" Low-tension base impedance = %.2f ohmn\" %lt_base_impedance)\n",
      "X_lt_pu = x_lt / lt_base_impedance\n",
      "print(\" Leakage reactance in per unit from Low-tension side = %.4f per unit \" %X_lt_pu)\n",
      "print('Viewed from high-tension side')\n",
      "x_ht = x_lt * (V_ht / V_lt)**2\n",
      "ht_base_impedance = (V_ht)**2 / P\n",
      "\n",
      "#Results\n",
      "print(\" Leakage reactance from high-tension side = %.2f ohm\" %x_ht)\n",
      "print(\" High-tension base impedance = %.2f ohmn\" %ht_base_impedance)\n",
      "X_ht_pu = x_ht / ht_base_impedance\n",
      "print(\" Leakage reactance in per unit from Low-tension side = %.4f per unit \" %X_ht_pu)"
     ],
     "language": "python",
     "metadata": {},
     "outputs": [
      {
       "output_type": "stream",
       "stream": "stdout",
       "text": [
        "Viewed from low-tension side\n",
        " Leakage reactance from low-tension side = 0.06 ohm\n",
        " Low-tension base impedance = 4.84 ohmn\n",
        " Leakage reactance in per unit from Low-tension side = 0.0124 per unit \n",
        "Viewed from high-tension side\n",
        " Leakage reactance from high-tension side = 0.96 ohm\n",
        " High-tension base impedance = 77.44 ohmn\n",
        " Leakage reactance in per unit from Low-tension side = 0.0124 per unit \n"
       ]
      }
     ],
     "prompt_number": 4
    },
    {
     "cell_type": "heading",
     "level": 2,
     "metadata": {},
     "source": [
      "Example 6.5, Page No 147"
     ]
    },
    {
     "cell_type": "code",
     "collapsed": false,
     "input": [
      "import math\n",
      "#initialisation of variables\n",
      "P_AB = 10e6\n",
      "V_AB_lt = 13.8e3\n",
      "V_AB_ht = 138e3\n",
      "x_AB = complex(0.1)\n",
      "P_BC = 10e6\n",
      "V_BC_lt = 69e3\n",
      "V_BC_ht = 138e3\n",
      "x_BC = complex(0.08)\n",
      "P_base_B = 10e6\n",
      "V_base_B = 138e3\n",
      "Z_L = 300\n",
      "V_load = 66e3\n",
      "\n",
      "#Calculations\n",
      "V_base_A = (V_AB_lt/V_AB_ht)*V_base_B\n",
      "V_base_C = (V_BC_lt/V_BC_ht)*V_base_B\n",
      "base_impedance_C = (V_base_C)**2 / P_BC\n",
      "Z_L_pu = Z_L / base_impedance_C\n",
      "\n",
      "#impedance diagram is shown in the xcos file\n",
      "V_load_pu = V_load / V_base_C\n",
      "I_L_pu = V_load_pu / Z_L_pu\n",
      "voltage_input = (I_L_pu * (x_AB + x_BC)) + V_load_pu\n",
      "voltage_regulation = (abs(voltage_input)-abs(V_load_pu))*100/abs(V_load_pu)\n",
      "\n",
      "#Results\n",
      "print(\" Voltage regulation = %.2f percent \" %voltage_regulation)"
     ],
     "language": "python",
     "metadata": {},
     "outputs": [
      {
       "output_type": "stream",
       "stream": "stdout",
       "text": [
        " Voltage regulation = 28.57 percent \n"
       ]
      }
     ],
     "prompt_number": 5
    },
    {
     "cell_type": "heading",
     "level": 2,
     "metadata": {},
     "source": [
      "Example 6.6, Page No 151"
     ]
    },
    {
     "cell_type": "code",
     "collapsed": false,
     "input": [
      "import math\n",
      "#initialisation of variables\n",
      "P = 25e6\n",
      "V_ht = 38.1e3\n",
      "V_lt = 3.81e3\n",
      "R_l = 0.6\n",
      "P_ht_base = 75e6\n",
      "V_ht_base = 66e3\n",
      "\n",
      "#Calculations\n",
      "#Low-tension side base ratings\n",
      "print('Low-tension side')\n",
      "P_lt_base = P_ht_base\n",
      "V_lt_base = (V_lt/(V_ht*math.sqrt(3)))*V_ht_base\n",
      "print(\" Base for low tension side is %.0f MVA,%.2f kV\" %(P_lt_base/1e6,V_lt_base/1e3))\n",
      "Z_lt_base = (V_lt_base)**2/P_lt_base\n",
      "R_lt_l_base = R_l / Z_lt_base\n",
      "print(\" Base impedance for the low-tension side = %.2f ohm\" %Z_lt_base)\n",
      "print(\" Per unit impedance of load on the low-tension side = %.2f per unit \" %R_lt_l_base)\n",
      "\n",
      "#Results\n",
      "print('High-tension side')\n",
      "R_l_ht = R_l * ((V_ht*math.sqrt(3))/V_lt)**2\n",
      "Z_ht_base = (V_ht_base)**2 / P_ht_base\n",
      "R_ht_l_base = R_l_ht / Z_ht_base\n",
      "print(\" Base impedance for the high-tension side = %.2f ohm\" %Z_ht_base)\n",
      "print(\" Per unit impedance of load on the high-tension side = %.2f per unit\" %R_ht_l_base)"
     ],
     "language": "python",
     "metadata": {},
     "outputs": [
      {
       "output_type": "stream",
       "stream": "stdout",
       "text": [
        "Low-tension side\n",
        " Base for low tension side is 75 MVA,3.81 kV\n",
        " Base impedance for the low-tension side = 0.19 ohm\n",
        " Per unit impedance of load on the low-tension side = 3.10 per unit \n",
        "High-tension side\n",
        " Base impedance for the high-tension side = 58.08 ohm\n",
        " Per unit impedance of load on the high-tension side = 3.10 per unit\n"
       ]
      }
     ],
     "prompt_number": 6
    },
    {
     "cell_type": "heading",
     "level": 2,
     "metadata": {},
     "source": [
      "Example 6.7 Page No 152"
     ]
    },
    {
     "cell_type": "code",
     "collapsed": false,
     "input": [
      "import math\n",
      "#initialisation of variables\n",
      "z = 0.121\n",
      "P = 400e6\n",
      "V_ht = 220e3\n",
      "V_lt = 22e3\n",
      "V_ht_base = 230e3\n",
      "P_ht_base = 100e6\n",
      "\n",
      "#Calculations\n",
      "z_pu = z * P / (V_lt)**2\n",
      "\n",
      "#Results\n",
      "print(\" On its own base the transformer reactance = %.2f per unit\" %z_pu)\n",
      "z_new_pu=(z_pu * (V_ht/P_ht_base)**2 * (P_ht_base/P))\n",
      "print(\" On the chosen base the reactance = %.4f per unit\" %z_new_pu)\n"
     ],
     "language": "python",
     "metadata": {},
     "outputs": [
      {
       "output_type": "stream",
       "stream": "stdout",
       "text": [
        " On its own base the transformer reactance = 0.10 per unit\n",
        " On the chosen base the reactance = 0.0000 per unit\n"
       ]
      }
     ],
     "prompt_number": 7
    },
    {
     "cell_type": "heading",
     "level": 2,
     "metadata": {},
     "source": [
      "Example 6.7, Page No 154"
     ]
    },
    {
     "cell_type": "code",
     "collapsed": false,
     "input": [
      "import math\n",
      "#initialisation of variables\n",
      "Z_ps = complex(0.07)\n",
      "P_ps_base = 15e6\n",
      "V_ps_base = 66e3\n",
      "\n",
      "Z_pt = complex(0.09)\n",
      "P_pt_base = 15e6\n",
      "V_pt_base = 66e3\n",
      "Z_st = complex(0.08)\n",
      "P_st_base = 10e6\n",
      "V_st_base = 13.2e3\n",
      "\n",
      "#Calculations\n",
      "Z_st_new = Z_st * P_ps_base / P_st_base\n",
      "Z_p = (Z_ps + Z_pt - Z_st_new)/2\n",
      "Z_s = (Z_ps - Z_pt + Z_st_new)/2\n",
      "Z_t = (-Z_ps + Z_pt + Z_st_new)/2\n",
      "\n",
      "#Results\n",
      "print( \"Z_p in per unit = {0:.5f}i\".format(Z_p.real))\n",
      "print( \"Z_s in per unit = {0:.5f}i\".format(Z_s.real))\n",
      "print( \"Z_t in per unit = {0:.5f}i\".format(Z_t.real))"
     ],
     "language": "python",
     "metadata": {},
     "outputs": [
      {
       "output_type": "stream",
       "stream": "stdout",
       "text": [
        "Z_p in per unit = 0.02000i\n",
        "Z_s in per unit = 0.05000i\n",
        "Z_t in per unit = 0.07000i\n"
       ]
      }
     ],
     "prompt_number": 8
    },
    {
     "cell_type": "heading",
     "level": 2,
     "metadata": {},
     "source": [
      "Example 6.9 Page No 155"
     ]
    },
    {
     "cell_type": "code",
     "collapsed": false,
     "input": [
      "import math\n",
      "#initialisation of variables\n",
      "Z_ps = complex(0.07)\n",
      "P_ps_base = 15e6\n",
      "V_ps_base = 66e3\n",
      "P_r_load = 5e6\n",
      "V_r_load = 2.3e3\n",
      "P_m = 7.5e6\n",
      "V_m = 13.2e3\n",
      "R_l = 1\n",
      "X_11 = 0.20\n",
      "\n",
      "Z_pt = complex(0.09)\n",
      "P_pt_base = 15e6\n",
      "V_pt_base = 66e3\n",
      "\n",
      "Z_st = complex(0.08)\n",
      "P_st_base = 10e6\n",
      "V_st_base = 13.2e3\n",
      "\n",
      "#Calculations\n",
      "Z_st_new = Z_st * P_ps_base / P_st_base\n",
      "Z_p = (Z_ps + Z_pt - Z_st_new)/2\n",
      "Z_s = (Z_ps - Z_pt + Z_st_new)/2\n",
      "Z_t = (-Z_ps + Z_pt + Z_st_new)/2\n",
      "\n",
      "R_pu = R_l * P_ps_base / P_r_load\n",
      "X11_pu = X_11 *  P_ps_base / P_m\n",
      "\n",
      "#Results\n",
      "print(\" On a base of 15MVA,2.3kV load resistance = %.1f per unit\" %R_pu)\n",
      "print(\" Reactance of the motor at a base of 15MVA,13.2kV = %.2f per unit\" %X11_pu)\n",
      "\n",
      "#Reactance diagram is drawn in the xcos file\n"
     ],
     "language": "python",
     "metadata": {},
     "outputs": [
      {
       "output_type": "stream",
       "stream": "stdout",
       "text": [
        " On a base of 15MVA,2.3kV load resistance = 3.0 per unit\n",
        " Reactance of the motor at a base of 15MVA,13.2kV = 0.40 per unit\n"
       ]
      }
     ],
     "prompt_number": 9
    },
    {
     "cell_type": "heading",
     "level": 2,
     "metadata": {},
     "source": [
      "Example 6.10 Page No 159"
     ]
    },
    {
     "cell_type": "code",
     "collapsed": false,
     "input": [
      "import math\n",
      "#initialisation of variables\n",
      "\n",
      "def pucalc(pu_Z_given,base_kV_given,base_kV_new,base_kVA_new,base_kVA_given):\n",
      "    X11=(pu_Z_given * (base_kV_given/base_kV_new)**2 * (base_kVA_new/base_kVA_given))\n",
      "    return X11\n",
      "\n",
      "\n",
      "P_g = 300e6\n",
      "V_g = 20e3\n",
      "X11_g = 0.20\n",
      "l = 64\n",
      "V_m = 13.2e3\n",
      "P_m1 = 200e6\n",
      "P_m2 = 100e6\n",
      "X11_m = 0.20\n",
      "T1_P = 350e6\n",
      "T1_vht = 230e3\n",
      "T1_vlt = 20e3\n",
      "x_T1 = 0.10\n",
      "T2_1_P = 100e6\n",
      "T2_1_vht = 127e3\n",
      "T2_1_vlt = 13.2e3\n",
      "x_T2 = 0.10\n",
      "x_line = 0.5\t\t#ohm per km\n",
      "V_base = V_g\n",
      "P_base = P_g\n",
      "\n",
      "#Calculations\n",
      "T2_P = 3*T2_1_P\n",
      "T2_vht = math.sqrt(3)*T2_1_vht\n",
      "T2_vlt = T2_1_vlt\n",
      "V_base_line = (T1_vht/T1_vlt)*V_base\n",
      "V_base_m = V_base_line * (T2_vlt/T2_vht)\n",
      "x_T1_base = x_T1 * (P_base/T1_P)\n",
      "x_T2_base = x_T2 * (T2_vlt/V_base_m)\n",
      "z_line_base = (V_base_line)**2/P_base\n",
      "x_line_pu = x_line * l / z_line_base\n",
      "X11_m1_pu = pucalc(X11_m,V_m,V_base_m,P_base,P_m1)\n",
      "X11_m2_pu = pucalc(X11_m,V_m,V_base_m,P_base,P_m2)\n",
      "\n",
      "#Results\n",
      "#Reactance diagram is given in xcos file\n",
      "print('Base Voltages in different parts of circuit')\n",
      "print(\" Generator voltage = %.0f kV\" %(V_g/1e3))\n",
      "print(\" Line voltage = %.0f kV\" %(V_base_line/1e3))\n",
      "print(\" Motor voltage = %.1f kV \" %(V_base_m/1e3))\n",
      "\n",
      "print('Base reactance in different parts of circuit')\n",
      "print(\" Transformer 1 reactance = %.4f per unit\" %x_T1_base)\n",
      "print(\" Transformer 2 reactance = %.4f per unit\" %x_T2_base)\n",
      "print(\" Line reactance = %.4f per unit\" %x_line_pu)\n",
      "print(\" Motor 1 reactance = %.4f per unit\" %X11_m1_pu)\n",
      "print(\" Motor 2 reactance = %.4f per unit\" %X11_m2_pu)\n",
      "#impedance diagram is shown in the xcos file\n"
     ],
     "language": "python",
     "metadata": {},
     "outputs": [
      {
       "output_type": "stream",
       "stream": "stdout",
       "text": [
        "Base Voltages in different parts of circuit\n",
        " Generator voltage = 20 kV\n",
        " Line voltage = 230 kV\n",
        " Motor voltage = 13.8 kV \n",
        "Base reactance in different parts of circuit\n",
        " Transformer 1 reactance = 0.0857 per unit\n",
        " Transformer 2 reactance = 0.0956 per unit\n",
        " Line reactance = 0.1815 per unit\n",
        " Motor 1 reactance = 0.2744 per unit\n",
        " Motor 2 reactance = 0.5488 per unit\n"
       ]
      }
     ],
     "prompt_number": 10
    },
    {
     "cell_type": "heading",
     "level": 2,
     "metadata": {},
     "source": [
      "Example 6.11 Page No 160"
     ]
    },
    {
     "cell_type": "code",
     "collapsed": false,
     "input": [
      "import math\n",
      "#initialisation of variables\n",
      "P_g = 300e6\n",
      "V_g = 20e3\n",
      "X11_g = 0.20\n",
      "l = 64\n",
      "V_m = 13.2e3\n",
      "P_m1 = 120e6\n",
      "P_m2 = 60e6\n",
      "X11_m = 0.20\n",
      "T1_P = 350e6\n",
      "T1_vht = 230e3\n",
      "T1_vlt = 20e3\n",
      "x_T1 = 0.10\n",
      "T2_1_P = 100e6\n",
      "T2_1_vht = 127e3\n",
      "T2_1_vlt = 13.2e3\n",
      "x_T2 = 0.10\n",
      "x_line = 0.5#onhm per km\n",
      "V_base = V_g\n",
      "P_base = P_g\n",
      "\n",
      "#Calculations\n",
      "T2_P = 3*T2_1_P\n",
      "T2_vht = math.sqrt(3)*T2_1_vht\n",
      "T2_vlt = T2_1_vlt\n",
      "V_base_line = (T1_vht/T1_vlt)*V_base\n",
      "V_base_m = V_base_line * (T2_vlt/T2_vht)\n",
      "x_T1_base = x_T1 * (P_base/T1_P)\n",
      "x_T2_base = x_T2 * (T2_vlt/V_base_m)\n",
      "z_line_base = (V_base_line)**2/P_base\n",
      "x_line_pu = x_line * l / z_line_base\n",
      "P = P_m1 + P_m2\n",
      "P_pu = P / P_base\n",
      "V = V_m / V_base_m\n",
      "I = P_pu / V\n",
      "Vg = V + I * (complex(x_T1_base) + complex(x_T2_base) + complex(x_line_pu))\n",
      "V_terminal = abs(Vg) * V_g\n",
      "\n",
      "#Results\n",
      "print(\" The generator terminal voltage = %.2f kV\" %(V_terminal / 1e3))\n"
     ],
     "language": "python",
     "metadata": {},
     "outputs": [
      {
       "output_type": "stream",
       "stream": "stdout",
       "text": [
        " The generator terminal voltage = 23.68 kV\n"
       ]
      }
     ],
     "prompt_number": 11
    },
    {
     "cell_type": "heading",
     "level": 2,
     "metadata": {},
     "source": [
      "Example 4.17, Page No 176"
     ]
    },
    {
     "cell_type": "code",
     "collapsed": false,
     "input": [
      "import math\n",
      "\n",
      "#initialisation of variables\n",
      "\n",
      "V_s=math.sqrt(2)*230     #V\n",
      "L=15*10**-6     #H\n",
      "I=V_s/L     #I=(di/dt)_max\n",
      "R_s=10   #ohm\n",
      "v=I*R_s     #v=(dv/dt)_max\n",
      "\n",
      "#Calculations\n",
      "f=50     #Hz\n",
      "X_L=L*2*math.pi*f\n",
      "R=2\n",
      "I_max=V_s/(R+X_L)    \n",
      "FF=math.pi/math.sqrt(2)\n",
      "I_TAV1=I_max/FF    \n",
      "FF=3.98184\n",
      "I_TAV2=I_max/FF    \n",
      "\n",
      "\n",
      "#RESULTS\n",
      "print(\"(di/dt)_max=%.3f A/usec\" %(I/10**6))\n",
      "print(\"\\n(dv/dt)_max=%.2f V/usec\" %(v/10**6))\n",
      "print(\"\\nI_rms=%.3f A\" %I_max)\n",
      "print(\"when conduction angle=90\")\n",
      "print(\"I_TAV=%.3f A\" %I_TAV1)\n",
      "print(\"when conduction angle=30\")\n",
      "print(\"I_TAV=%.3f A\" %I_TAV2)\n",
      "print(\"\\nvoltage rating=%.3f V\" %(2.75*V_s)) #rating is taken 2.75 times of peak working voltage unlike 2.5 to 3 times as mentioned int book."
     ],
     "language": "python",
     "metadata": {},
     "outputs": [
      {
       "output_type": "stream",
       "stream": "stdout",
       "text": [
        "(di/dt)_max=21.685 A/usec\n",
        "\n",
        "(dv/dt)_max=216.85 V/usec\n",
        "\n",
        "I_rms=162.252 A\n",
        "when conduction angle=90\n",
        "I_TAV=73.039 A\n",
        "when conduction angle=30\n",
        "I_TAV=40.748 A\n",
        "\n",
        "voltage rating=894.490 V\n"
       ]
      }
     ],
     "prompt_number": 12
    },
    {
     "cell_type": "heading",
     "level": 2,
     "metadata": {},
     "source": [
      "Example 4.19, Page No 186"
     ]
    },
    {
     "cell_type": "code",
     "collapsed": false,
     "input": [
      "import math\n",
      "#initialisation of variables\n",
      "\n",
      "T_jm=125\n",
      "th_jc=.15     #degC/W\n",
      "th_cs=0.075     #degC/W\n",
      "\n",
      "\n",
      "#Calculations\n",
      "dT=54     #dT=T_s-T_a\n",
      "P_av=120\n",
      "th_sa=dT/P_av\n",
      "T_a=40     #ambient temp\n",
      "P_av=(T_jm-T_a)/(th_sa+th_jc+th_cs)\n",
      "if (P_av-120)<1 :\n",
      "    print(\"selection of heat sink is satisfactory\")\n",
      "\n",
      "dT=58     #dT=T_s-T_a\n",
      "P_av=120\n",
      "th_sa=dT/P_av\n",
      "T_a=40     #ambient temp\n",
      "P_av=(T_jm-T_a)/(th_sa+th_jc+th_cs)\n",
      "if (P_av-120)<1 :\n",
      "    print(\"selection of heat sink is satisfactory\")\n",
      "\n",
      "V_m=math.sqrt(2)*230\n",
      "R=2\n",
      "I_TAV=V_m/(R*math.pi)\n",
      "P_av=90\n",
      "th_sa=(T_jm-T_a)/P_av-(th_jc+th_cs)\n",
      "dT=P_av*th_sa\n",
      "print(\"for heat sink\")    \n",
      "print(\"T_s-T_a=%.2f degC\" %dT)   \n",
      "print(\"\\nP_av=%.0f W\" %P_av)\n",
      "P=(V_m/2)**2/R\n",
      "eff=P/(P+P_av)   \n",
      "print(\"\\nckt efficiency=%.3f pu\" %eff)\n",
      "a=60     #delay angle\n",
      "I_TAV=(V_m/(2*math.pi*R))*(1+math.cos(math.radians(a)))\n",
      "print(\"\\nI_TAV=%.2f A\" %I_TAV)\n",
      "dT=46\n",
      "T_s=dT+T_a\n",
      "T_c=T_s+P_av*th_cs    \n",
      "T_j=T_c+P_av*th_jc    \n",
      "\n",
      "#Results\n",
      "print(\"\\ncase temp=%.2f degC\" %T_c)\n",
      "print(\"\\njunction temp=%.2f degC\" %T_j)\n",
      "\n"
     ],
     "language": "python",
     "metadata": {},
     "outputs": [
      {
       "output_type": "stream",
       "stream": "stdout",
       "text": [
        "for heat sink\n",
        "T_s-T_a=-20.25 degC\n",
        "\n",
        "P_av=90 W\n",
        "\n",
        "ckt efficiency=0.993 pu\n",
        "\n",
        "I_TAV=38.83 A\n",
        "\n",
        "case temp=92.75 degC\n",
        "\n",
        "junction temp=106.25 degC\n"
       ]
      }
     ],
     "prompt_number": 13
    },
    {
     "cell_type": "heading",
     "level": 2,
     "metadata": {},
     "source": [
      "Example 4.20, Page No 187"
     ]
    },
    {
     "cell_type": "code",
     "collapsed": false,
     "input": [
      "import math\n",
      "#initialisation of variables\n",
      "T_j=125.0     #degC\n",
      "T_s=70.0     #degC\n",
      "th_jc=.16     #degC/W\n",
      "th_cs=.08     #degC/W\n",
      "\n",
      "#Calculations\n",
      "P_av1=(T_j-T_s)/(th_jc+th_cs)    \n",
      "\n",
      "T_s=60     #degC\n",
      "P_av2=(T_j-T_s)/(th_jc+th_cs)    \n",
      "inc=(math.sqrt(P_av2)-math.sqrt(P_av1))*100/math.sqrt(P_av1)    \n",
      "\n",
      "#Results\n",
      "print(\"Total avg power loss in thristor sink combination=%.2f W\" %P_av1)\n",
      "print(\"Percentage inc in rating=%.2f\" %inc)"
     ],
     "language": "python",
     "metadata": {},
     "outputs": [
      {
       "output_type": "stream",
       "stream": "stdout",
       "text": [
        "Total avg power loss in thristor sink combination=229.17 W\n",
        "Percentage inc in rating=8.71\n"
       ]
      }
     ],
     "prompt_number": 14
    },
    {
     "cell_type": "heading",
     "level": 2,
     "metadata": {},
     "source": [
      "Example 4.21, Page No 197"
     ]
    },
    {
     "cell_type": "code",
     "collapsed": false,
     "input": [
      "import math\n",
      "#initialisation of variables\n",
      "\n",
      "R=25000.0\n",
      "I_l1=.021     #I_l=leakage current\n",
      "I_l2=.025\n",
      "I_l3=.018\n",
      "I_l4=.016\n",
      " #V1=(I-I_l1)*R\n",
      " #V2=(I-I_l2)*R\n",
      " #V3=(I-I_l3)*R\n",
      " #V4=(I-I_l4)*R\n",
      " #V=V1+V2+V3+V4\n",
      "    \n",
      "#Calculations\n",
      "V=10000.0\n",
      "I_l=I_l1+I_l2+I_l3+I_l4\n",
      " #after solving\n",
      "I=((V/R)+I_l)/4\n",
      "R_c=40.0\n",
      "V1=(I-I_l1)*R    \n",
      "\n",
      "#Resluts\n",
      "print(\"voltage across SCR1=%.0f V\" %V1)\n",
      "V2=(I-I_l2)*R    \n",
      "print(\"\\nvoltage across SCR2=%.0f V\" %V2)\n",
      "V3=(I-I_l3)*R    \n",
      "print(\"\\nvoltage across SCR3=%.0f V\" %V3)\n",
      "V4=(I-I_l4)*R    \n",
      "print(\"\\nvoltage across SCR4=%.0f V\" %V4)\n",
      "\n",
      "I1=V1/R_c    \n",
      "print(\"\\ndischarge current through SCR1=%.3f A\" %I1)\n",
      "I2=V2/R_c   \n",
      "print(\"\\ndischarge current through SCR2=%.3f A\" %I2)\n",
      "I3=V3/R_c    \n",
      "print(\"\\ndischarge current through SCR3=%.3f A\" %I3)\n",
      "I4=V4/R_c    \n",
      "print(\"\\ndischarge current through SCR4=%.3f A\" %I4)\n",
      "\n"
     ],
     "language": "python",
     "metadata": {},
     "outputs": [
      {
       "output_type": "stream",
       "stream": "stdout",
       "text": [
        "voltage across SCR1=2475 V\n",
        "\n",
        "voltage across SCR2=2375 V\n",
        "\n",
        "voltage across SCR3=2550 V\n",
        "\n",
        "voltage across SCR4=2600 V\n",
        "\n",
        "discharge current through SCR1=61.875 A\n",
        "\n",
        "discharge current through SCR2=59.375 A\n",
        "\n",
        "discharge current through SCR3=63.750 A\n",
        "\n",
        "discharge current through SCR4=65.000 A\n"
       ]
      }
     ],
     "prompt_number": 15
    },
    {
     "cell_type": "heading",
     "level": 2,
     "metadata": {},
     "source": [
      "Example 4.22, Page No 198"
     ]
    },
    {
     "cell_type": "code",
     "collapsed": false,
     "input": [
      "import math\n",
      "#initialisation of variables\n",
      "V_r=1000     #rating of SCR\n",
      "I_r=200     #rating of SCR\n",
      "V_s=6000     #rating of String\n",
      "I_s=1000     #rating of String\n",
      "\n",
      "#Calculations\n",
      "print(\"when DRF=.1\")\n",
      "DRF=.1\n",
      "n_s=V_s/(V_r*(1-DRF))    \n",
      "print(\"number of series units=%.0f\" %math.ceil(n_s))\n",
      "n_p=I_s/(I_r*(1-DRF))    \n",
      "print(\"\\nnumber of parrallel units=%.0f\" %math.ceil(n_p))\n",
      "print(\"when DRF=.2\")\n",
      "DRF=.2\n",
      "\n",
      "#Results\n",
      "n_s=V_s/(V_r*(1-DRF))   \n",
      "print(\"number of series units=%.0f\" %math.ceil(n_s))\n",
      "n_p=I_s/(I_r*(1-DRF))    \n",
      "print(\"\\nnumber of parrallel units=%.0f\" %math.ceil(n_p))"
     ],
     "language": "python",
     "metadata": {},
     "outputs": [
      {
       "output_type": "stream",
       "stream": "stdout",
       "text": [
        "when DRF=.1\n",
        "number of series units=7\n",
        "\n",
        "number of parrallel units=6\n",
        "when DRF=.2\n",
        "number of series units=8\n",
        "\n",
        "number of parrallel units=7\n"
       ]
      }
     ],
     "prompt_number": 16
    },
    {
     "cell_type": "heading",
     "level": 2,
     "metadata": {},
     "source": [
      "Example 4.23, Page No 198"
     ]
    },
    {
     "cell_type": "code",
     "collapsed": false,
     "input": [
      "import math\n",
      "#initialisation of variables\n",
      "V1=1.6     #on state voltage drop of SCR1\n",
      "V2=1.2     #on state voltage drop of SCR2\n",
      "I1=250.0     #current rating of SCR1\n",
      "I2=350.0     #current rating of SCR2\n",
      "\n",
      "#Calculations\n",
      "R1=V1/I1\n",
      "R2=V2/I2\n",
      "I=600.0     #current to be shared\n",
      " #for SCR1 %     I*(R1+R)/(total resistance)=k*I1                    (1)\n",
      " #for SCR2 %     I*(R2+R)/(total resistance)=k*I2                    (2)\n",
      " #(1)/(2)\n",
      "R=(R2*I2-R1*I1)/(I1-I2)\n",
      "\n",
      "\n",
      "#Results\n",
      "print(\"RSequired value of resistance=%.3f ohm\" %R)"
     ],
     "language": "python",
     "metadata": {},
     "outputs": [
      {
       "output_type": "stream",
       "stream": "stdout",
       "text": [
        "RSequired value of resistance=0.004 ohm\n"
       ]
      }
     ],
     "prompt_number": 17
    },
    {
     "cell_type": "heading",
     "level": 2,
     "metadata": {},
     "source": [
      "Example 4.25, Page No 223"
     ]
    },
    {
     "cell_type": "code",
     "collapsed": false,
     "input": [
      "import math\n",
      "#initialisation of variables\n",
      "f=2000.0     #Hz\n",
      "C=0.04*10**-6\n",
      "n=.72\n",
      "\n",
      "#Calculations\n",
      "R=1/(f*C*math.log(1/(1-n)))    \n",
      "V_p=18\n",
      "V_BB=V_p/n\n",
      "R2=10**4/(n*V_BB)    \n",
      "I=4.2*10**-3     #leakage current\n",
      "R_BB=5000\n",
      "R1=(V_BB/I)-R2-R_BB\n",
      "\n",
      "#Results\n",
      "print(\"R=%.2f kilo-ohm\" %(R/1000))\n",
      "print(\"\\nR2=%.2f ohm\" %R2)\n",
      "print(\"\\nR1=%.0f ohm\" %R1)\n"
     ],
     "language": "python",
     "metadata": {},
     "outputs": [
      {
       "output_type": "stream",
       "stream": "stdout",
       "text": [
        "R=9.82 kilo-ohm\n",
        "\n",
        "R2=555.56 ohm\n",
        "\n",
        "R1=397 ohm\n"
       ]
      }
     ],
     "prompt_number": 18
    },
    {
     "cell_type": "heading",
     "level": 2,
     "metadata": {},
     "source": [
      "Example 4.26, Page No 223"
     ]
    },
    {
     "cell_type": "code",
     "collapsed": false,
     "input": [
      "import math\n",
      "#initialisation of variables\n",
      "\n",
      "V_p=18.0\n",
      "n=.72\n",
      "V_BB=V_p/n\n",
      "I_p=.6*10**-3\n",
      "I_v=2.5*10**-3\n",
      "V_v=1\n",
      "\n",
      "#Calculations\n",
      "R_max=V_BB*(1-n)/I_p    \n",
      "print(\"R_max=%.2f kilo-ohm\" %(R_max/1000))\n",
      "R_min=(V_BB-V_v)/I_v    \n",
      "print(\"\\nR_min=%.2f kilo-ohm\" %(R_min/1000))\n",
      "\n",
      "C=.04*10**-6\n",
      "f_min=1/(R_max*C*math.log(1/(1-n)))    \n",
      "print(\"\\nf_min=%.3f kHz\" %(f_min/1000))\n",
      "f_max=1/(R_min*C*math.log(1/(1-n)))    \n",
      "print(\"\\nf_max=%.2f kHz\" %(f_max/1000))\n"
     ],
     "language": "python",
     "metadata": {},
     "outputs": [
      {
       "output_type": "stream",
       "stream": "stdout",
       "text": [
        "R_max=11.67 kilo-ohm\n",
        "\n",
        "R_min=9.60 kilo-ohm\n",
        "\n",
        "f_min=1.683 kHz\n",
        "\n",
        "f_max=2.05 kHz\n"
       ]
      }
     ],
     "prompt_number": 19
    },
    {
     "cell_type": "heading",
     "level": 2,
     "metadata": {},
     "source": [
      "Example 4.27, Page No 231"
     ]
    },
    {
     "cell_type": "code",
     "collapsed": false,
     "input": [
      "import math\n",
      "#initialisation of variables\n",
      "R1=1000.0\n",
      "C=.5*10**-6\n",
      "f=50.0\n",
      "w=2*math.pi*f\n",
      "V_s=230.0\n",
      "X_c=1.0/(w*C)\n",
      "v_c=30.0\n",
      "R=0\n",
      "\n",
      "#Calculations\n",
      "a = 227.2         #magnitude of V_c\n",
      "b = 8.93          #argument of V_c\n",
      "a1 = 14.3\n",
      "Z=math.sqrt((R+R1)**2+X_c**2)\n",
      "phi=math.degrees(math.atan(X_c/(R+R1)))\n",
      "v_c=30\n",
      "a1=math.sin(math.radians(v_c/(sqrt(2.0)*a)))+b\n",
      "R=25000.0\n",
      "a=54.7         #magnitude of V_c\n",
      "b=76.24                  #argument of V_c\n",
      "#a2=76.24\n",
      "Z=math.sqrt((R+R1)**2+X_c**2)\n",
      "phi=math.degrees(math.atan(X_c/(R+R1)))\n",
      "v_c=30.0\n",
      "a2=math.degrees(math.asin(v_c/(math.sqrt(2)*a)))+b\n",
      "\n",
      "#Results\n",
      "print(\"min angle=%.1f deg\" %a1)\n",
      "print(\"Max angle=%.2f deg\" %a2)\n",
      "\n"
     ],
     "language": "python",
     "metadata": {},
     "outputs": [
      {
       "ename": "NameError",
       "evalue": "name 'sqrt' is not defined",
       "output_type": "pyerr",
       "traceback": [
        "\u001b[1;31m---------------------------------------------------------------------------\u001b[0m\n\u001b[1;31mNameError\u001b[0m                                 Traceback (most recent call last)",
        "\u001b[1;32m<ipython-input-20-cf37d8d6ab2c>\u001b[0m in \u001b[0;36m<module>\u001b[1;34m()\u001b[0m\n\u001b[0;32m     17\u001b[0m \u001b[0mphi\u001b[0m\u001b[1;33m=\u001b[0m\u001b[0mmath\u001b[0m\u001b[1;33m.\u001b[0m\u001b[0mdegrees\u001b[0m\u001b[1;33m(\u001b[0m\u001b[0mmath\u001b[0m\u001b[1;33m.\u001b[0m\u001b[0matan\u001b[0m\u001b[1;33m(\u001b[0m\u001b[0mX_c\u001b[0m\u001b[1;33m/\u001b[0m\u001b[1;33m(\u001b[0m\u001b[0mR\u001b[0m\u001b[1;33m+\u001b[0m\u001b[0mR1\u001b[0m\u001b[1;33m)\u001b[0m\u001b[1;33m)\u001b[0m\u001b[1;33m)\u001b[0m\u001b[1;33m\u001b[0m\u001b[0m\n\u001b[0;32m     18\u001b[0m \u001b[0mv_c\u001b[0m\u001b[1;33m=\u001b[0m\u001b[1;36m30\u001b[0m\u001b[1;33m\u001b[0m\u001b[0m\n\u001b[1;32m---> 19\u001b[1;33m \u001b[0ma1\u001b[0m\u001b[1;33m=\u001b[0m\u001b[0mmath\u001b[0m\u001b[1;33m.\u001b[0m\u001b[0msin\u001b[0m\u001b[1;33m(\u001b[0m\u001b[0mmath\u001b[0m\u001b[1;33m.\u001b[0m\u001b[0mradians\u001b[0m\u001b[1;33m(\u001b[0m\u001b[0mv_c\u001b[0m\u001b[1;33m/\u001b[0m\u001b[1;33m(\u001b[0m\u001b[0msqrt\u001b[0m\u001b[1;33m(\u001b[0m\u001b[1;36m2.0\u001b[0m\u001b[1;33m)\u001b[0m\u001b[1;33m*\u001b[0m\u001b[0ma\u001b[0m\u001b[1;33m)\u001b[0m\u001b[1;33m)\u001b[0m\u001b[1;33m)\u001b[0m\u001b[1;33m+\u001b[0m\u001b[0mb\u001b[0m\u001b[1;33m\u001b[0m\u001b[0m\n\u001b[0m\u001b[0;32m     20\u001b[0m \u001b[0mR\u001b[0m\u001b[1;33m=\u001b[0m\u001b[1;36m25000.0\u001b[0m\u001b[1;33m\u001b[0m\u001b[0m\n\u001b[0;32m     21\u001b[0m \u001b[0ma\u001b[0m\u001b[1;33m=\u001b[0m\u001b[1;36m54.7\u001b[0m         \u001b[1;31m#magnitude of V_c\u001b[0m\u001b[1;33m\u001b[0m\u001b[0m\n",
        "\u001b[1;31mNameError\u001b[0m: name 'sqrt' is not defined"
       ]
      }
     ],
     "prompt_number": 20
    }
   ],
   "metadata": {}
  }
 ]
}