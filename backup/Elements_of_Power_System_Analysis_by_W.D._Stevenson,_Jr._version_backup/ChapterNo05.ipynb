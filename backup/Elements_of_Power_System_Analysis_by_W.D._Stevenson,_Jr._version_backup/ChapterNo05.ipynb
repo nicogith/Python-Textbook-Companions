{
 "metadata": {
  "name": ""
 },
 "nbformat": 3,
 "nbformat_minor": 0,
 "worksheets": [
  {
   "cells": [
    {
     "cell_type": "heading",
     "level": 1,
     "metadata": {},
     "source": [
      "Chapter 05 : Current And Voltage Relations On A Transmission Line"
     ]
    },
    {
     "cell_type": "heading",
     "level": 2,
     "metadata": {},
     "source": [
      "Example 5.1, Page No 101"
     ]
    },
    {
     "cell_type": "code",
     "collapsed": false,
     "input": [
      "import math\n",
      "#initialisation of variables\n",
      "D_12 = 23.8  \n",
      "D_23 = 23.8  \n",
      "D_31 = 47.6 #in ft\n",
      "l = 230.0  #in mi\n",
      "f = 60  #in Hz\n",
      "P = 125e6  #in W\n",
      "V = 215e3  #in V\n",
      "\n",
      "#Calculations\n",
      "D_eq = (D_12 * D_23 * D_31)**(1.0/3)\n",
      "\n",
      "#From Table A.1 and A.2 for 30ft Rook\n",
      "#z = R + i(Xa + Xd)\n",
      "z = complex(0.1603,(0.415+0.4127))\n",
      "\n",
      "#From Table A.1 and A.3 for 30ft Rook\n",
      "y = complex(1e-6 / ( 0.0950 + 0.1008))\n",
      "\n",
      "#Calculations\n",
      "yl = 0.0455806 + complex(0.4750793)\n",
      "Z_c = 404.43706 - complex(38.802997)\n",
      "V_r = V / math.sqrt(3)\n",
      "I_r = P / (math.sqrt(3)*V)\n",
      "print(\" Sending end voltage= {0:.2f}+{1:.2f}i\".format(yl.real, yl.imag))\n",
      "\n",
      "math.cosh_yl = math.cosh(yl.real) * math.cos(yl.imag) + complex(math.sinh(yl.real)) * math.sin(yl.imag)\n",
      "math.sinh_yl = math.sinh(yl.real) * math.cos(yl.imag) + complex(math.cosh(yl.real)) * math.sin(yl.imag)\n",
      "\n",
      "V_s = V_r * math.cosh_yl + I_r * Z_c * math.sinh_yl\n",
      "I_s = I_r * math.cosh_yl + V_r * math.sinh_yl / Z_c\n",
      "print( \"Sending end voltage = {0:.2f}\".format(abs(V_s.real)))\n",
      "print(\"Angle = %.2f V \" %(math.degrees(math.atan2(V_s.imag,V_s.real))))\n",
      "print( \"Sending end voltage = {0:.2f}\".format(abs(I_s.real)))\n",
      "print(\"Angle = %.2f V \" %(math.degrees(math.atan2(I_s.imag,I_s.real))))\n",
      "\n",
      "Line_voltage = math.sqrt(3) * abs(V_s) / 1000.0 \n",
      "Line_current = abs(I_s)\n",
      "Power_factor = math.cos(math.atan2(V_s.imag,V_s.real) - math.atan2(I_s.imag,I_s.real))\n",
      "Power = math.sqrt(3) * Line_voltage * Line_current * Power_factor\n",
      "\n",
      "#Results\n",
      "print(\" Sending end line voltage = %.1f kV \" %Line_voltage)\n",
      "print(\" Sending end line current = %.1f A \" %Line_current)\n",
      "print(\" Sending end power = %.0f kW \" %Power)\n",
      "\n",
      "voltage_regulation = (((abs(V_s)/abs(math.cosh_yl)) - V_r)/V_r)*100\n",
      "print(\" Voltage Regulation = %.1f percent \" %voltage_regulation)\n",
      "B = 0.0020656\n",
      "y1 = 2 * math.pi / B\n",
      "Velocity = f * y1\n",
      "print(\" Wavelength = %.0f mi \" %y1)\n",
      "print(\" Velocity = %.0f mi/s \" %Velocity)"
     ],
     "language": "python",
     "metadata": {},
     "outputs": [
      {
       "output_type": "stream",
       "stream": "stdout",
       "text": [
        " Sending end voltage= 0.52+0.00i\n",
        "Sending end voltage = 208167.01\n",
        "Angle = 0.00 V \n",
        "Sending end voltage = 567.06\n",
        "Angle = 0.00 V \n",
        " Sending end line voltage = 360.6 kV \n",
        " Sending end line current = 567.1 A \n",
        " Sending end power = 354129 kW \n",
        " Voltage Regulation = 47.3 percent \n",
        " Wavelength = 3042 mi \n",
        " Velocity = 182509 mi/s \n"
       ]
      }
     ],
     "prompt_number": 1
    },
    {
     "cell_type": "heading",
     "level": 2,
     "metadata": {},
     "source": [
      "Example 5.2, Page No 103"
     ]
    },
    {
     "cell_type": "code",
     "collapsed": false,
     "input": [
      "import math\n",
      "#initialisation of variables\n",
      "l = 230.0  #in mi\n",
      "f = 60.0  #in Hz\n",
      "P = 125e6  #in W\n",
      "V = 215e3  #in V\n",
      "\n",
      "#From Table A.1 and A.2 for 30ft Rook\n",
      "#z = R + i(Xa + Xd)\n",
      "z = 0.1603 + complex(0.415+0.4127)\n",
      "\n",
      "#From Table A.1 and A.3 for 30ft Rook\n",
      "y = complex(1e-6 / ( 0.0950 + 0.1008))\n",
      "\n",
      "#Calculations\n",
      "yl = 0.0455806 + complex(0.4750793)\n",
      "Z_c = 404.43706 - complex(38.802997)\n",
      "V_r = V / math.sqrt(3)\n",
      "I_r = P / (math.sqrt(3)*V)\n",
      "\n",
      "math.cosh_yl = math.cosh(yl.real) * math.cos(yl.imag) + complex(math.sinh(yl.real)) * math.sin(yl.imag)\n",
      "math.sinh_yl = math.sinh(yl.real) * math.cos(yl.imag) + complex(math.cosh(yl.real)) * math.sin(yl.imag)\n",
      "\n",
      "#Per Unit calculations\n",
      "Base_impedance = V**2 / P\n",
      "Base_current = P / (math.sqrt(3)*V)\n",
      "Z_c_pu = Z_c / Base_impedance\n",
      "V_r_pu = (V / math.sqrt(3)) / (V / math.sqrt(3))\n",
      "I_r_pu = (P / (math.sqrt(3)*V)) / Base_current\n",
      "\n",
      "V_s_pu = V_r_pu * math.cosh_yl + I_r_pu * Z_c_pu * math.sinh_yl\n",
      "I_s_pu = I_r_pu * math.cosh_yl + V_r_pu * math.sinh_yl / Z_c_pu\n",
      "\n",
      "Line_voltage = abs(V_s_pu)*V / 1000\n",
      "Line_current = abs(I_s_pu)*Base_current\n",
      "\n",
      "#Results\n",
      "print(\" Sending end line voltage = %.1f V \" %Line_voltage)\n",
      "print(\" Sending end line current = %.1f A \" %Line_current)"
     ],
     "language": "python",
     "metadata": {},
     "outputs": [
      {
       "output_type": "stream",
       "stream": "stdout",
       "text": [
        " Sending end line voltage = 360.6 V \n",
        " Sending end line current = 567.1 A \n"
       ]
      }
     ],
     "prompt_number": 2
    },
    {
     "cell_type": "heading",
     "level": 2,
     "metadata": {},
     "source": [
      "Example 5.3, Page No 106"
     ]
    },
    {
     "cell_type": "code",
     "collapsed": false,
     "input": [
      "import math\n",
      "#initialisation of variables\n",
      "l = 230  #in mi\n",
      "f = 60  #in Hz\n",
      "P = 125e6  #in W\n",
      "V = 215e3  #in V\n",
      "\n",
      "#From Table A.1 and A.2 for 30ft Rook\n",
      "#z = R + complex(Xa + Xd)\n",
      "z = 0.1603 + complex(0.415+0.4127)\n",
      "\n",
      "#From Table A.1 and A.3 for 30ft Rook\n",
      "y = complex(1e-6 / ( 0.0950 + 0.1008))\n",
      "\n",
      "#Calculations\n",
      "yl = 0.0455806 + complex(0.4750793)\n",
      "Z_c = 404.43706 - complex(38.802997)\n",
      "cosh_yl = math.cosh(yl.real) * math.cos(yl.imag) + complex(math.sinh(yl.real)) * math.sin(yl.imag)\n",
      "sinh_yl = math.sinh(yl.real) * math.cos(yl.imag) + complex(math.cosh(yl.real)) * math.sin(yl.imag)\n",
      "\n",
      "#Equivalent pi circuit\n",
      "Z1 = Z_c * sinh_yl\n",
      "Y1_2 = (cosh_yl - 1)/(Z_c * sinh_yl)\n",
      "\n",
      "#Results\n",
      "print('Equivalent PI circuit')\n",
      "print( \"Total series impedance of the line = {0:.2f}\".format(abs(Z1.real)))\n",
      "print(\"Angle = %.2f ohm in series arm \" %(math.degrees(math.atan2(Z1.imag,Z1.real))))\n",
      "print( \"Total Shunt admittance of the line = {0:.2f}\".format(abs(Y1_2.real)))\n",
      "print(\"Angle = %.2f ohm in each shunt arm \" %(math.degrees(math.atan2(Y1_2.imag,Y1_2.real))))\n",
      "\n",
      "\n",
      "#Nominal pi Circuit\n",
      "Z = l * z\n",
      "Y_2 = y * l/2\n",
      "\n",
      "print('Nominal PI circuit')\n",
      "print( \"Total series impedance of the line = {0:.2f}\".format(abs(Z.real)))\n",
      "print(\"Angle = %.2f ohm in series arm \" %(math.degrees(math.atan2(Z.imag,Z.real))))\n",
      "print( \"Total Shunt admittance of the line = {0:.2f}\".format(abs(Y_2.real)))\n",
      "print(\"Angle = %.2f ohm in each shunt arm \" %(math.degrees(math.atan2(Y_2.imag,Y_2.real))))\n",
      "\n",
      "zp = ((abs(Z)-abs(Z1))/abs(Z1))*100\n",
      "yp = ((abs(Y_2)-abs(Y1_2))/abs(Y1_2))*100\n",
      "\n",
      "print(\" Line impedace of the series arm of the nominal pi exceeds that of equivalent pi by %.1f percent \" %zp)\n",
      "print(\" Conductance of the shunt arms of the nominal pi is %.0f percent less than that of equivalent pi \" %abs(yp))"
     ],
     "language": "python",
     "metadata": {},
     "outputs": [
      {
       "output_type": "stream",
       "stream": "stdout",
       "text": [
        "Equivalent PI circuit\n",
        "Total series impedance of the line = 199.09\n",
        "Angle = 0.00 ohm in series arm \n",
        "Total Shunt admittance of the line = 0.00\n",
        "Angle = 0.00 ohm in each shunt arm \n",
        "Nominal PI circuit\n",
        "Total series impedance of the line = 227.24\n",
        "Angle = 0.00 ohm in series arm \n",
        "Total Shunt admittance of the line = 0.00\n",
        "Angle = 0.00 ohm in each shunt arm \n",
        " Line impedace of the series arm of the nominal pi exceeds that of equivalent pi by 14.1 percent \n",
        " Conductance of the shunt arms of the nominal pi is 16 percent less than that of equivalent pi \n"
       ]
      }
     ],
     "prompt_number": 3
    },
    {
     "cell_type": "heading",
     "level": 2,
     "metadata": {},
     "source": [
      "Example 5.4 Page No 111"
     ]
    },
    {
     "cell_type": "code",
     "collapsed": false,
     "input": [
      "import math\n",
      "#initialisation of variables\n",
      "l = 230.0  #in mi\n",
      "f = 60.0   #in Hz\n",
      "P = 125e6  #in W\n",
      "V = 215e3  #in V\n",
      "\n",
      "#From Table A.1 and A.2 for 30ft Rook\n",
      "#z = R + i(Xa + Xd)\n",
      "z = 0.1603 + complex(0.415+0.4127)\n",
      "\n",
      "#From Table A.1 and A.3 for 30ft Rook\n",
      "y =complex(1e-6 / ( 0.0950 + 0.1008))\n",
      "\n",
      "#Calculations\n",
      "yl = 0.0455806 + complex(0.4750793)\n",
      "Z_c = 404.43706 - complex(38.802997)\n",
      "\n",
      "cosh_yl = math.cosh(yl.real) * math.cos(yl.imag) + complex(math.sinh(yl.real)) * math.sin(yl.imag)\n",
      "sinh_yl = math.sinh(yl.real)*math.cos(yl.imag) + complex(math.cosh(yl.real)) * math.sin(yl.imag)\n",
      "\n",
      "#Equivalent pi circuit\n",
      "Z1 = Z_c * sinh_yl\n",
      "Y1_2 = (math.cosh_yl - 1)/(Z_c * sinh_yl)\n",
      "A = cosh_yl\n",
      "D = cosh_yl\n",
      "B = Z1\n",
      "C = sinh_yl / Z_c\n",
      "\n",
      "print('For an uncompensated line')\n",
      "print( \"A = D = {0:.2f}\".format(abs(A.real)))\n",
      "print(\"Angle = %.2f v \" %(math.degrees(math.atan2(A.imag,A.real))*180/math.pi))\n",
      "print( \"B = {0:.2f}\".format(abs(B.real)))\n",
      "print(\"Angle = %.2f ohm \" %(math.degrees(math.atan2(B.imag,B.real))*180/math.pi))\n",
      "print( \"C = {0:.2f}\".format(abs(C.real)))\n",
      "print(\"Angle = %.2f ohm \" %(math.degrees(math.atan2(C.imag,C.real))*180/math.pi))\n",
      "\n",
      "#For a series compensation factor of 70%\n",
      "cf = 0.7\n",
      "B1 = Z1 - complex(cf) * l * (0.415 + 0.4127) #X_a = 0.415 ohm/mi,X_d = 0.4127 in\n",
      "A1 = B1 * Y1_2 + 1\n",
      "C1 = 2 * Y1_2 + B1 * (Y1_2)**2\n",
      "\n",
      "#Results\n",
      "print('For a series compensation factor  of 70%')\n",
      "print( \"A = D = {0:.2f}\".format(abs(A1.real)))\n",
      "print(\"Angle = %.2f \" %(math.degrees(math.atan2(A1.imag,A1.real))))\n",
      "print( \"B = {0:.2f}\".format(abs(B1.real)))\n",
      "print(\"Angle = %.2f ohm \" %(math.degrees(math.atan2(B1.imag,B1.real))))\n",
      "print( \"C = {0:.2f}\".format(abs(C1.real)))\n",
      "print(\"Angle = %.2f ohm \" %(math.degrees(math.atan2(C1.imag,C1.real))))"
     ],
     "language": "python",
     "metadata": {},
     "outputs": [
      {
       "output_type": "stream",
       "stream": "stdout",
       "text": [
        "For an uncompensated line\n",
        "A = D = 1.14\n",
        "Angle = 0.00 v \n",
        "B = 199.09\n",
        "Angle = 0.00 ohm \n",
        "C = 0.00\n",
        "Angle = 0.00 ohm \n",
        "For a series compensation factor  of 70%\n",
        "A = D = 1.05\n",
        "Angle = 0.00 \n",
        "B = 65.83\n",
        "Angle = 0.00 ohm \n",
        "C = 0.00\n",
        "Angle = 0.00 ohm \n"
       ]
      }
     ],
     "prompt_number": 4
    },
    {
     "cell_type": "heading",
     "level": 2,
     "metadata": {},
     "source": [
      "Example 5.5, Page No 112"
     ]
    },
    {
     "cell_type": "code",
     "collapsed": false,
     "input": [
      "import math\n",
      "#initialisation of variables\n",
      "l = 230.0  #in mi\n",
      "f = 60.0   #in Hz\n",
      "P = 125e6  #in W\n",
      "V = 215e3  #in V\n",
      "\n",
      "#From Table A.1 and A.2 for 30ft Rook\n",
      "#z = R + i(Xa + Xd)\n",
      "z = 0.1603 + complex(0.415+0.4127)\n",
      "\n",
      "#From Table A.1 and A.3 for 30ft Rook\n",
      "y = complex(1e-6 / ( 0.0950 + 0.1008))\n",
      "\n",
      "#Calculations\n",
      "yl = 0.0455806 + complex(0.4750793)\n",
      "Z_c = 404.43706 - complex(38.802997)\n",
      "V_r = V / math.sqrt(3)\n",
      "I_r = P / (math.sqrt(3)*V)\n",
      "\n",
      "cosh_yl = math.cosh(yl.real) * math.cos(yl.imag) + complex(math.sinh(yl.real)) * math.sin(yl.imag)\n",
      "sinh_yl = math.sinh(yl.real) * math.cos(yl.imag) + complex(math.cosh(yl.real)) * math.sin(yl.imag)\n",
      "\n",
      "V_s = V_r * cosh_yl + I_r * Z_c * sinh_yl\n",
      "I_s = I_r * cosh_yl + V_r * sinh_yl / Z_c\n",
      "\n",
      "#Equivalent pi circuit\n",
      "Z1 = Z_c * sinh_yl\n",
      "Y1_2 = (cosh_yl - 1)/(Z_c * sinh_yl)\n",
      "\n",
      "#Total capacitive Susceptance\n",
      "B_c = complex(y) * l\n",
      "\n",
      "#For 70% Compensation\n",
      "cf = 0.7\n",
      "B_L = - B_c * 0.7\n",
      "\n",
      "#From appendix\n",
      "A = 1\n",
      "D = 1\n",
      "B = 0\n",
      "C = -complex(B_L)\n",
      "\n",
      "\n",
      "#From Table A.6 for combining two networks in series\n",
      "A_eq = cosh_yl + Z1 * C\n",
      "voltage_regulation = ((abs(V_s)/abs(A_eq))-V_r)*100.0/V_r\n",
      "print(\" Voltage regulation in percent \")\n",
      "print(voltage_regulation)"
     ],
     "language": "python",
     "metadata": {},
     "outputs": [
      {
       "output_type": "stream",
       "stream": "stdout",
       "text": [
        " Voltage regulation in percent \n",
        "28.7687144089\n"
       ]
      }
     ],
     "prompt_number": 5
    }
   ],
   "metadata": {}
  }
 ]
}