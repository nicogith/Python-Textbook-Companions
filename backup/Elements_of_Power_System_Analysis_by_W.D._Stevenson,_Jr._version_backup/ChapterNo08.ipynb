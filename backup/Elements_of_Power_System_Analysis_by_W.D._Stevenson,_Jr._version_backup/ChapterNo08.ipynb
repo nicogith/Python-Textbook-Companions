{
 "metadata": {
  "name": ""
 },
 "nbformat": 3,
 "nbformat_minor": 0,
 "worksheets": [
  {
   "cells": [
    {
     "cell_type": "heading",
     "level": 1,
     "metadata": {},
     "source": [
      "Chapter 08 : Load Flow Solutions And Control"
     ]
    },
    {
     "cell_type": "heading",
     "level": 2,
     "metadata": {},
     "source": [
      "Example 8.1, Page No 200"
     ]
    },
    {
     "cell_type": "code",
     "collapsed": false,
     "input": [
      "import math\n",
      "#initialisation of variables\n",
      "P = 100e6\n",
      "V = 138e3\n",
      "#From Table 8.1\n",
      "R_12 = 0.042\n",
      "R_15 = 0.031\n",
      "R_23 = 0.031\n",
      "R_34 = 0.084\n",
      "R_25 = 0.053\n",
      "R_45 = 0.063\n",
      "X_12 = 0.168\n",
      "X_15 = 0.126\n",
      "X_23 = 0.126\n",
      "X_34 = 0.336\n",
      "X_25 = 0.210\n",
      "X_45 = 0.252\n",
      "#From Table 8.2\n",
      "V1 = 1.04\n",
      "V2 = 1\n",
      "V3 = 1.02\n",
      "V4 = 1\n",
      "V5 = 1\n",
      "P_2 = 115e6\n",
      "\n",
      "#Calculation\n",
      "Y_21=- 1/complex(R_12,X_12)\n",
      "print( \"Y21 = {0:.2f}\".format(abs(Y_21.real)))\n",
      "print(\"Angle = %.2f v \" %(math.degrees(math.atan2(Y_21.imag,Y_21.real))*180/math.pi))\n",
      "Y_23=-1/complex(R_23,X_23)\n",
      "print( \"Y23 = {0:.2f}\".format(abs(Y_23.real)))\n",
      "print(\"Angle = %.2f v \" %(math.degrees(math.atan2(Y_23.imag,Y_23.real))*180/math.pi))\n",
      "\n",
      "Y_21mag = abs(Y_21)\n",
      "Y_21ang = math.degrees(math.atan2(Y_21.imag,Y_21.real))\n",
      "Y_23mag = abs(Y_23)\n",
      "Y_23ang = math.degrees(math.atan2(Y_23.imag,Y_23.real))\n",
      "Y_22 = - Y_21 - Y_23\n",
      "Y_24 = 0\n",
      "Y_25 = 0\n",
      "P0_2calc = (V2 * V1 * Y_21mag * math.cos(Y_21ang)) - (V2 * V2 * Y_21mag * math.cos(Y_21ang)) - (V2 * V2 * Y_23mag * math.cos(Y_23ang)) + (V2 * V3 * Y_23mag * math.cos(Y_23ang))\n",
      "P_2scheduled = - P_2 / P\n",
      "print(\" Scheduled power into the network at bus 2 is %.2f per unit\" %P_2scheduled)\n",
      "delta_P0_2 = P_2scheduled - P0_2calc\n",
      "delP_2_3 = - V2 * V3 * Y_23mag * math.sin(Y_23ang)\n",
      "\n",
      "#Results\n",
      "print(\"Difference between calculated value and scheduled value = %.4f per unit\" %delta_P0_2)\n",
      "print(\"The value of the second element in the first row of the Jacobian = %.4f per unit \" %delP_2_3)"
     ],
     "language": "python",
     "metadata": {},
     "outputs": [
      {
       "output_type": "stream",
       "stream": "stdout",
       "text": [
        "Y21 = 1.40\n",
        "Angle = 5960.84 v \n",
        "Y23 = 1.84\n",
        "Angle = 5948.57 v \n",
        " Scheduled power into the network at bus 2 is -1.15 per unit\n",
        "Difference between calculated value and scheduled value = -0.7817 per unit\n",
        "The value of the second element in the first row of the Jacobian = 1.1708 per unit \n"
       ]
      }
     ],
     "prompt_number": 1
    },
    {
     "cell_type": "heading",
     "level": 2,
     "metadata": {},
     "source": [
      "Example 8.2, Page No 210"
     ]
    },
    {
     "cell_type": "code",
     "collapsed": false,
     "input": [
      "import math\n",
      "#initialisation of variables\n",
      "Zth = complex(0.2)\n",
      "Xg = complex(1)\n",
      "Vt = 0.97\n",
      "I = complex(0.8,-0.2)\n",
      "Vt_b =1\n",
      "\n",
      "#Calculations\n",
      "#a\n",
      "S = Vt * I\n",
      "Eg = Vt + Xg * I\n",
      "print(\" P = %.3f per unit \\n Q = %.3f per unit\" %(S.real,S.imag))\n",
      "print( \"Eg = {0:.2f}\".format(abs(Eg.real)))\n",
      "print(\"Angle = %.2f per unit \" %(math.degrees(math.atan2(Eg.imag,Eg.real))))\n",
      "\n",
      "#b\n",
      "Eth = Vt - Zth * I\n",
      "delta = math.degrees(math.asin(S.real*abs(Zth)/(abs(Eth)* Vt_b)))\n",
      "print( \"Eth = {0:.2f}\".format(abs(Eth.real)))\n",
      "print(\"Angle = %.2f per unit \" %(math.degrees(math.atan2(Eth.imag,Eth.real))))\n",
      "\n",
      "#Results\n",
      "print(\" Phase angle of Vt = %.2f \" %(delta))\n",
      "ang = (math.degrees(math.atan2(Eth.imag,Eth.real))+ delta)\n",
      "Vt_b1 = Vt_b*complex(math.cos(ang*math.pi/180),math.sin(ang*math.pi/180))\n",
      "I_b = (Vt_b1 - Eth) / Zth\n",
      "print( \"I_b = {0:.2f}\".format(abs(I_b.real)))\n",
      "print(\"Angle = %.2f per unit \" %(math.degrees(math.atan2(I_b.imag,I_b.real))))\n",
      "Eg_b = Vt_b1 + Xg * I_b\n",
      "S_b = Vt_b1 * I_b\n",
      "print(\" P = %.3f per unit  \\nQ = %.3f per unit\" %(S.real,S.imag))\n",
      "print( \"Eg = {0:.2f}\".format(abs(Eg.real)))\n",
      "print(\"Angle = %.2f per unit \" %(math.degrees(math.atan2(Eg.imag,Eg.real))))\n"
     ],
     "language": "python",
     "metadata": {},
     "outputs": [
      {
       "output_type": "stream",
       "stream": "stdout",
       "text": [
        " P = 0.776 per unit \n",
        " Q = -0.194 per unit\n",
        "Eg = 1.77\n",
        "Angle = -6.45 per unit \n",
        "Eth = 0.81\n",
        "Angle = 2.83 per unit \n",
        " Phase angle of Vt = 11.03 \n",
        "I_b = 0.80\n",
        "Angle = 51.12 per unit \n",
        " P = 0.776 per unit  \n",
        "Q = -0.194 per unit\n",
        "Eg = 1.77\n",
        "Angle = -6.45 per unit \n"
       ]
      }
     ],
     "prompt_number": 2
    },
    {
     "cell_type": "heading",
     "level": 2,
     "metadata": {},
     "source": [
      "Example 8.3, Page No 218"
     ]
    },
    {
     "cell_type": "code",
     "collapsed": false,
     "input": [
      "import math\n",
      "#initialisation of variables\n",
      "Z = complex(0.8,0.6)\n",
      "V2 = 1\n",
      "Z_Ta = complex(0.1)\n",
      "Z_Tb = complex(0.1)\n",
      "a=1.05\n",
      "I2 = - V2 / Z\n",
      "Y21_Ta = - 1/Z_Ta\n",
      "Y22_Ta = 1/Z_Ta\n",
      "\n",
      "#Calculations\n",
      "print('For transformer Ta Y21 and Y22 in per unit is')\n",
      "print(Y21_Ta)\n",
      "print(Y22_Ta)\n",
      "Y21_Tb = - (1/Z_Ta) / a\n",
      "Y22_Tb = (1/Z_Ta) / a**2\n",
      "print('For transformer Tb Y21 and Y22 in per unit is')\n",
      "print(Y21_Tb)\n",
      "print(Y22_Tb)\n",
      "Y21 = Y21_Ta + Y21_Tb\n",
      "Y22 = Y22_Ta + Y22_Tb\n",
      "print('For the two transformers in parallel')\n",
      "print('Y21 in per unit')\n",
      "print(Y21)\n",
      "print('Y22 in per unit')\n",
      "print(Y22)\n",
      "V1 = (I2 - Y22 * V2) / Y21\n",
      "print('V1 in per unit')\n",
      "print(V1)\n",
      "V_1_2 = V1 - V2\n",
      "print('Difference between V1 and V2 in per unit')\n",
      "print(V_1_2)\n",
      "I_Ta = V_1_2 * Y22_Ta\n",
      "I_Tb_a1 = -I2 - I_Ta\n",
      "S_Ta = V2 * I_Ta\n",
      "S_Tb = V2 * I_Tb_a1\n",
      "\n",
      "#Results\n",
      "print('Complex power transmitted from the two transformers to the load')\n",
      "print('From transformer Ta in per unit')\n",
      "print(S_Ta)\n",
      "print('From transformer Tb in per unit')\n",
      "print(S_Tb)"
     ],
     "language": "python",
     "metadata": {},
     "outputs": [
      {
       "output_type": "stream",
       "stream": "stdout",
       "text": [
        "For transformer Ta Y21 and Y22 in per unit is\n",
        "(-10+0j)\n",
        "(10+0j)\n",
        "For transformer Tb Y21 and Y22 in per unit is\n",
        "(-9.52380952381+0j)\n",
        "(9.07029478458+0j)\n",
        "For the two transformers in parallel\n",
        "Y21 in per unit\n",
        "(-19.5238095238+0j)\n",
        "Y22 in per unit\n",
        "(19.0702947846+0j)\n",
        "V1 in per unit\n",
        "(1.01774680604-0.0307317073171j)\n",
        "Difference between V1 and V2 in per unit\n",
        "(0.0177468060395-0.0307317073171j)\n",
        "Complex power transmitted from the two transformers to the load\n",
        "From transformer Ta in per unit\n",
        "(0.177468060395-0.307317073171j)\n",
        "From transformer Tb in per unit\n",
        "(0.622531939605-0.292682926829j)\n"
       ]
      }
     ],
     "prompt_number": 3
    },
    {
     "cell_type": "heading",
     "level": 2,
     "metadata": {},
     "source": [
      "Example 8.4 Page No 221"
     ]
    },
    {
     "cell_type": "code",
     "collapsed": false,
     "input": [
      "import math\n",
      "#initialisation of variables\n",
      "Z = complex(0.8,0.6)\n",
      "V2 = 1\n",
      "Z_Ta = complex(0.1)\n",
      "Z_Tb = complex(0.1)\n",
      "Z1_Tb = complex(0.1)\n",
      "Z2_Tb = complex(0.1)\n",
      "a=1*complex(math.cos(3*math.pi/180),math.sin(3*math.pi/180))\n",
      "I2 = - V2 / Z\n",
      "Y21_Ta = - 1/Z_Ta\n",
      "Y22_Ta = 1/Z_Ta\n",
      "Y21_Tb = Y21_Ta/a\n",
      "Y22_Tb = Y22_Ta/(abs(a))**2\n",
      "print( \"Y21 = {0:.2f}\".format(abs(Y21.real)))\n",
      "print(\"Angle = %.2f per unit \" %(math.degrees(math.atan2(Y21.imag,Y21.real))*180/math.pi))\n",
      "print(\" Y21 = \" )\n",
      "print(abs(Y22_Tb))\n",
      "Y21 = Y21_Ta + Y21_Tb\n",
      "Y22 = Y22_Ta + Y22_Tb\n",
      "print('For the two transformers in parallel')\n",
      "print(Y21,'Y21 in per unit')\n",
      "print(Y22,'Y21 in per unit')\n",
      "V1 = (I2 - Y22 * V2) / Y21\n",
      "print(V1,'V1 in per unit =')\n",
      "V_1_2 = V1 - V2\n",
      "print(V_1_2,'Difference between V1 and V2 in per unit')\n",
      "I_Ta = V_1_2 * Y22_Ta\n",
      "I_Tb_a1 = -I2 - I_Ta\n",
      "S_Ta = V2 * I_Ta\n",
      "S_Tb = V2 * I_Tb_a1\n",
      "print('Complex power transmitted from the two transformers to the load')\n",
      "print(S_Ta,'From transformer Ta in per unit')\n",
      "print(S_Tb,'From transformer Tb in per unit')\n",
      "V = a - V2\n",
      "I = I2/2\n",
      "I_circ = V / (Z1_Tb + Z2_Tb)\n",
      "I_Ta_1 = - I - I_circ\n",
      "I_Tb_1 = -I + I_circ\n",
      "S_Ta_1 = V2 * I_Ta_1\n",
      "S_Tb_1 = V2 * I_Tb_1\n",
      "print('Complex power transmitted from the two transformers to the load')\n",
      "print(S_Ta_1,'From transformer Ta in per unit')\n",
      "print(S_Tb_1,'From transformer Tb in per unit')"
     ],
     "language": "python",
     "metadata": {},
     "outputs": [
      {
       "output_type": "stream",
       "stream": "stdout",
       "text": [
        "Y21 = 19.52\n",
        "Angle = 10313.24 per unit \n",
        " Y21 = \n",
        "10.0\n",
        "For the two transformers in parallel\n",
        "((-19.98629534754574+0.5233595624294384j), 'Y21 in per unit')\n",
        "((19.999999999999996+0j), 'Y21 in per unit')\n",
        "((1.0407855776470751-0.002766641568045591j), 'V1 in per unit =')\n",
        "((0.04078557764707513-0.002766641568045591j), 'Difference between V1 and V2 in per unit')\n",
        "Complex power transmitted from the two transformers to the load\n",
        "((0.40785577647075133-0.027666415680455907j), 'From transformer Ta in per unit')\n",
        "((0.3921442235292487-0.572333584319544j), 'From transformer Tb in per unit')\n",
        "Complex power transmitted from the two transformers to the load\n",
        "((0.40685232622713086-0.5616797812147191j), 'From transformer Ta in per unit')\n",
        "((0.3931476737728692-0.0383202187852808j), 'From transformer Tb in per unit')\n"
       ]
      }
     ],
     "prompt_number": 4
    }
   ],
   "metadata": {}
  }
 ]
}