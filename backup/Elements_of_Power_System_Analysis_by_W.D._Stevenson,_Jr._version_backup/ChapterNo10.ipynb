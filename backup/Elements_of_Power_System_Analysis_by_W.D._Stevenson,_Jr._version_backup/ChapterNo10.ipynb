{
 "metadata": {
  "name": ""
 },
 "nbformat": 3,
 "nbformat_minor": 0,
 "worksheets": [
  {
   "cells": [
    {
     "cell_type": "heading",
     "level": 1,
     "metadata": {},
     "source": [
      "Chapter 10 : Symmetrical Three Phase Faults"
     ]
    },
    {
     "cell_type": "heading",
     "level": 2,
     "metadata": {},
     "source": [
      "Example 10.1, Page No 253"
     ]
    },
    {
     "cell_type": "code",
     "collapsed": false,
     "input": [
      "import math\n",
      "#initialisation of variables\n",
      "P_g1 = 50e6\n",
      "V_g1 = 13.8e3\n",
      "P_g2 = 25e6\n",
      "V_g2 = 13.8e3\n",
      "P_t = 75e6\n",
      "V_t_lt = 13.8e3\n",
      "V_t_ht = 69e3\n",
      "X11_g = 0.25\n",
      "X11_t = 0.10\n",
      "Vbase = 69e3\n",
      "Pbase = 75e6\n",
      "Vbase_lt = 13.8e3\n",
      "V_ht = 66e3\n",
      "\n",
      "def pucalc(pu_Z_given,base_kV_given,base_kV_new,base_kVA_new,base_kVA_given):\n",
      "    X11=(pu_Z_given * (base_kV_given/base_kV_new)**2 * (base_kVA_new/base_kVA_given));\n",
      "    return X11 \n",
      "\n",
      "#Calculations\n",
      "X11_d_g1 = pucalc(X11_g,V_t_lt,Vbase_lt,Pbase,P_g1)\n",
      "X11_d_g2 = pucalc(X11_g,V_t_lt,Vbase_lt,Pbase,P_g2)\n",
      "E_g1 = V_ht / Vbase\n",
      "E_g2 = V_ht / Vbase\n",
      "print('For Generator 1')\n",
      "print(\"Xd11 = %.3f per unit \\n Eg1 = %.3f per unit \\n\" %(X11_d_g1,E_g1))\n",
      "print('For Generator 2')\n",
      "print(\"Xd11 = %.3f per unit \\n Eg2 = %.3f per unit \\n\" %(X11_d_g2,E_g2))\n",
      "X_g12 = (X11_d_g1 * X11_d_g2) / (X11_d_g1 + X11_d_g2)\n",
      "I11 = E_g1 / (complex(X_g12 + X11_t))\n",
      "print('Subtransient current in the short circuit in per unit is= {0:.2f}+{1:.2f}i'.format(I11.real, I11.imag))\n",
      "Vdt = I11 * complex(X11_t)\n",
      "print('Voltage on the delta side of the transformer in per unit is')\n",
      "print(Vdt)\n",
      "I11_g1 = (E_g1 - Vdt) / complex(X11_d_g1)\n",
      "I11_g2 = (E_g2 - Vdt) / complex(X11_d_g2)\n",
      "print('Subtransient current in generator 1 and 2 in per unit respectively')\n",
      "print(I11_g1)\n",
      "print(I11_g2)\n",
      "Ibase = Pbase / (math.sqrt(3) * Vbase_lt)\n",
      "I11_1 = abs(I11_g1) * Ibase\n",
      "I11_2 = abs(I11_g2) * Ibase\n",
      "\n",
      "#Results\n",
      "print('Subtransient current in generator 1 and 2 in Amperes respectively')\n",
      "print(I11_1)\n",
      "print(I11_2)"
     ],
     "language": "python",
     "metadata": {},
     "outputs": [
      {
       "output_type": "stream",
       "stream": "stdout",
       "text": [
        "For Generator 1\n",
        "Xd11 = 0.375 per unit \n",
        " Eg1 = 0.957 per unit \n",
        "\n",
        "For Generator 2\n",
        "Xd11 = 0.750 per unit \n",
        " Eg2 = 0.957 per unit \n",
        "\n",
        "Subtransient current in the short circuit in per unit is= 2.73+0.00i\n",
        "Voltage on the delta side of the transformer in per unit is\n",
        "(0.273291925466+0j)\n",
        "Subtransient current in generator 1 and 2 in per unit respectively\n",
        "(1.82194616977+0j)\n",
        "(0.910973084886+0j)\n",
        "Subtransient current in generator 1 and 2 in Amperes respectively\n",
        "5716.85386721\n",
        "2858.42693361\n"
       ]
      }
     ],
     "prompt_number": 9
    },
    {
     "cell_type": "heading",
     "level": 2,
     "metadata": {},
     "source": [
      "Example 10.2, Page No 256"
     ]
    },
    {
     "cell_type": "code",
     "collapsed": false,
     "input": [
      "import math\n",
      "#initialisation of variables\n",
      "Pgm = 30e6\n",
      "Vgm = 13.2e3\n",
      "Xgm = 0.20\n",
      "Xl = 0.10\n",
      "Pm = 20e6\n",
      "pfm = 0.8\n",
      "Vt_m = 12.8e3\n",
      "Pbase = Pgm\n",
      "Vbase = Vgm\n",
      "\n",
      "#Calculations\n",
      "Vf = Vt_m / Vbase\n",
      "Ibase = Pbase / (math.sqrt(3) * Vbase)\n",
      "I_L = (Pm / (pfm * math.sqrt(3) * Vt_m)) * complex(math.cos(36.9 * math.pi/180),math.sin(36.9 * math.pi / 180)) / Ibase\n",
      "print('Line Current in per unit is = {0:.2f}+{1:.2f}i'.format(I_L.real, I_L.imag))\n",
      "Vt_g = Vf + complex(Xl) * I_L\n",
      "E11_g = Vt_g + complex(Xgm) * I_L\n",
      "I11_g = E11_g / complex(Xgm + Xl)\n",
      "I11_gA = Ibase * I11_g\n",
      "print('Fault current in the generator side in per unit = {0:.2f}+{1:.2f}i'.format(I11_g.real, I11_g.imag))\n",
      "print('Fault current in the generator side in A= {0:.2f}+{1:.2f}i'.format(I11_gA.real, I11_gA.imag))\n",
      "E11_m = Vf -complex(Xgm) * I_L\n",
      "I11_m = E11_m / complex(Xgm)\n",
      "I11_mA = Ibase * I11_m\n",
      "print('Fault current in the motor side in per unit = {0:.2f}+{1:.2f}i'.format(I11_m.real, I11_m.imag))\n",
      "print('Fault current in the motor side in A= {0:.2f}+{1:.2f}i'.format(I11_mA.real, I11_mA.imag))\n",
      "If = I11_g + I11_m\n",
      "If_Ib = If * Ibase\n",
      "\n",
      "#Results\n",
      "print('Toatl Fault current in per unit %If=%.2f')\n",
      "print('Total Fault current in A= {0:.2f}+{1:.2f}i'.format(If_Ib.real, If_Ib.imag))"
     ],
     "language": "python",
     "metadata": {},
     "outputs": [
      {
       "output_type": "stream",
       "stream": "stdout",
       "text": [
        "Line Current in per unit is = 0.69+0.52i\n",
        "Fault current in the generator side in per unit = 3.92+0.52i\n",
        "Fault current in the generator side in A= 5143.08+677.06i\n",
        "Fault current in the motor side in per unit = 4.16+-0.52i\n",
        "Fault current in the motor side in A= 5460.23+-677.06i\n",
        "Toatl Fault current in per unit %If=%.2f\n",
        "Total Fault current in A= 10603.31+-0.00i\n"
       ]
      }
     ],
     "prompt_number": 13
    },
    {
     "cell_type": "heading",
     "level": 2,
     "metadata": {},
     "source": [
      "Example 10.3, Page No 259"
     ]
    },
    {
     "cell_type": "code",
     "collapsed": false,
     "input": [
      "import math\n",
      "#initialisation of variables\n",
      "Pgm = 30e6\n",
      "Vgm = 13.2e3\n",
      "Xgm = 0.20\n",
      "Xl = 0.10\n",
      "Pm = 20e6\n",
      "pfm = 0.8\n",
      "Vt_m = 12.8e3\n",
      "Pbase = Pgm\n",
      "Vbase = Vgm\n",
      "\n",
      "#Calculations\n",
      "Vf = Vt_m / Vbase\n",
      "Ibase = Pbase / (math.sqrt(3) * Vbase)\n",
      "I_L = (Pm / (pfm * math.sqrt(3) * Vt_m)) * complex(math.cos(36.9 * math.pi/180),math.sin(36.9 * math.pi / 180)) / Ibase\n",
      "Zth = (complex(Xgm+Xl) * (complex(Xgm))) / (complex(Xgm+Xl) + (complex(Xgm)))\n",
      "print('Zth in per unit = {0:.2f}+{1:.2f}i'.format(Zth.real, Zth.imag))\n",
      "I11_f = Vf / Zth\n",
      "print('Subtransient fault current in per unit = {0:.2f}+{1:.2f}i'.format(I11_f.real, I11_f.imag))\n",
      "If_g = I11_f * complex(Xgm) / (complex(Xgm+Xl) + complex(Xgm))\n",
      "If_m = I11_f * (complex(Xgm + Xl)) / (complex(Xgm+Xl) + (complex(Xgm)))\n",
      "I11_g = I_L + If_g \n",
      "\n",
      "#Results\n",
      "print('Subtransient fault current in generator side in per unit = {0:.2f}+{1:.2f}i'.format(I11_g.real, I11_g.imag))\n",
      "I11_m = If_m - I_L \n",
      "print('Subtransient fault current in motor side in per unit = {0:.2f}+{1:.2f}i'.format(I11_m.real, I11_m.imag))"
     ],
     "language": "python",
     "metadata": {},
     "outputs": [
      {
       "output_type": "stream",
       "stream": "stdout",
       "text": [
        "Zth in per unit = 0.12+0.00i\n",
        "Subtransient fault current in per unit = 8.08+0.00i\n",
        "Subtransient fault current in generator side in per unit = 3.92+0.52i\n",
        "Subtransient fault current in motor side in per unit = 4.16+-0.52i\n"
       ]
      }
     ],
     "prompt_number": 17
    },
    {
     "cell_type": "heading",
     "level": 2,
     "metadata": {},
     "source": [
      "Example 10.4 Page No 265"
     ]
    },
    {
     "cell_type": "code",
     "collapsed": false,
     "input": [
      "import math\n",
      "#initialisation of variables\n",
      "Pg1 = 270e6\n",
      "Pg3 = 225e6\n",
      "Pbase = 100e6\n",
      "V = 1\n",
      "X = 0.3\n",
      "Xg_b1 = X * Pbase /Pg1\n",
      "Xg_b3 = X * Pbase /Pg3\n",
      "y10 = 1 / complex(Xg_b1)\n",
      "y30 = 1 / complex(Xg_b3)\n",
      "y12 = 1 / complex(0.168)\n",
      "y15 = 1 / complex(0.126)\n",
      "y23 = 1 / complex(0.126)\n",
      "y34 = 1 / complex(0.336)\n",
      "y35 = 1 / complex(0.210)\n",
      "y45 = 1 / complex(0.252)\n",
      "#Ybus by inspection\n",
      "Ybus = [[0,0,0,0,0],[0,0,0,0,0],[0,0,0,0,0],[0,0,0,0,0],[0,0,0,0,0]]\n",
      "Ybus[0][0] = y10 + y12 + y15\n",
      "Ybus[1][1] = y12 + y23\n",
      "Ybus[3][2] = y30 + y23 + y35 + y34\n",
      "Ybus[3][3] = y34 + y45\n",
      "Ybus[4][4] = y45 + y15 + y35\n",
      "Ybus[0][1] = -y12\n",
      "Ybus[1][0] = Ybus[0][1]\n",
      "Ybus[0][2] = 0\n",
      "Ybus[0][3] =0\n",
      "Ybus[1][2] = -y23\n",
      "Ybus[2][1] = Ybus[1][2]\n",
      "Ybus[1][4] = 0\n",
      "Ybus[1][3] =0\n",
      "Ybus[2][3] = -y34\n",
      "Ybus[3][2] = Ybus[2][3]\n",
      "Ybus[2][0] = 0\n",
      "Ybus[3][4] = -y45\n",
      "Ybus[4][3] = Ybus[3][4]\n",
      "Ybus[3][0] = 0\n",
      "Ybus[3][1] = 0\n",
      "Ybus[0][4] = -y15\n",
      "Ybus[4][0] = Ybus[0][4]\n",
      "Ybus[4][1] = 0\n",
      "Ybus[2][4] = -y35\n",
      "Ybus[4][2] = Ybus[2][4]\n",
      "print('Ybus=')\n",
      "print(Ybus)\n",
      "I11 = V / Ybus[3][3]\n",
      "print(I11,' The subtransient current in a three-phase fault on bus 4 in per unit is ')\n",
      "V3 = V - I11 * Ybus[3][2]\n",
      "V5 = V - I11 * Ybus[3][4]\n",
      "print('Voltages at bus 3 and 5 repectively in per unit = {0:.2f}+{1:.2f}i'.format(V3.real, V3.imag))\n",
      "print('and {0:.2f}+{1:.2f}i'.format(V5.real, V5.imag))\n",
      "\n",
      "I3 = V3 * y34\n",
      "I5 = V5 * y45\n",
      "\n",
      "#Results\n",
      "print('Currents to fault from bus 3 in per unit = {0:.2f}+{1:.2f}i'.format(I3.real, I3.imag))\n",
      "print(I5,'Currents to fault from bus 5 in per unit')\n",
      "print('Currents to fault from bus 5 in per unit = {0:.2f}+{1:.2f}i'.format(I5.real, I5.imag))\n",
      "print('Total current to fault in per unit = {0:.2f}+{1:.2f}i'.format((I3.real+I5.real),(I3.imag+I5.imag)))"
     ],
     "language": "python",
     "metadata": {},
     "outputs": [
      {
       "output_type": "stream",
       "stream": "stdout",
       "text": [
        "Ybus=\n",
        "[[(22.88888888888889+0j), (-5.952380952380952-0j), 0, 0, (-7.936507936507937-0j)], [(-5.952380952380952-0j), (13.88888888888889+0j), (-7.936507936507937-0j), 0, 0], [0, (-7.936507936507937-0j), 0, (-2.976190476190476-0j), (-4.761904761904762-0j)], [0, 0, (-2.976190476190476-0j), (6.944444444444445+0j), (-3.9682539682539684-0j)], [(-7.936507936507937-0j), 0, (-4.761904761904762-0j), (-3.9682539682539684-0j), (16.666666666666668+0j)]]\n",
        "((0.144+0j), '\\n The subtransient current in a three-phase fault on bus 4 in per unit is \\n')\n",
        "Voltages at bus 3 and 5 repectively in per unit = 1.43+0.00i\n",
        "and 1.57+0.00i\n",
        "Currents to fault from bus 3 in per unit = 4.25+0.00i\n",
        "((6.235827664399093+0j), 'Currents to fault from bus 5 in per unit')\n",
        "Currents to fault from bus 5 in per unit = 6.24+0.00i\n",
        "Total current to fault in per unit = 10.49+0.00i\n"
       ]
      }
     ],
     "prompt_number": 23
    },
    {
     "cell_type": "heading",
     "level": 2,
     "metadata": {},
     "source": [
      "Example 10.5, Page No 268"
     ]
    },
    {
     "cell_type": "code",
     "collapsed": false,
     "input": [
      "import math\n",
      "#initialisation of variables\n",
      "Pg = 25e6\n",
      "Vg = 13.8e3\n",
      "X11_dg = 0.15\n",
      "X11_dm = 0.20\n",
      "Pmbase = 5e6\n",
      "Vbasem = 6.9e3\n",
      "P_tr = 25e6\n",
      "V_ht = 13.8e3\n",
      "V_lt = 6.9e3\n",
      "X_tr = 0.10\n",
      "Vbus_m = 6.9e3\n",
      "\n",
      "#Calculations\n",
      "#the subtransient current in the fault\n",
      "X11_dm1 = X11_dm * (P_tr / Pmbase)\n",
      "Vf = 1.0\n",
      "Xeqm =  1.0/(4*X11_dm1)\n",
      "Xeq_trg = X11_dg + X_tr\n",
      "Zth = Xeqm * Xeq_trg / (Xeqm + Xeq_trg)\n",
      "I11_f = Vf / complex(Zth)\n",
      "Ibase_vbus = P_tr / (math.sqrt(3) * Vbus_m)\n",
      "I11_f_a = abs(I11_f) * Ibase_vbus\n",
      "print(\" Fault current in per unit = -j%.0f \" %abs(I11_f.real))\n",
      "print(\" Fault current in amperes = %.0f \" %I11_f_a)\n",
      "#the subtransient current in breaker A\n",
      "Ig_f = I11_f * Xeq_trg / (Xeqm + Xeq_trg)\n",
      "Im_f = 0.25 * (I11_f - Ig_f)\n",
      "I11_pu = Ig_f + 3 * Im_f\n",
      "I11_a = I11_pu * Ibase_vbus\n",
      "print(\" Subtransient current through breaker A in per unit is -j%.0f \" %abs(I11_pu))\n",
      "print(\" Subtransient current through breaker A in amperes is %.0f \" %abs(I11_a))\n",
      "#Symmetrical short-circuit interrupting current in the fault and in breaker A\n",
      "X11_dm2 = 1.5 * X11_dm1\n",
      "Xeqm1 = X11_dm2 / 4\n",
      "Zth_c = (Xeqm1 * Xeq_trg) / (Xeqm1 + Xeq_trg)\n",
      "Ig_f1 = Vf * Xeqm1 / (Zth_c * (Xeqm1 + Xeq_trg))\n",
      "Im_f1 = (Vf * Xeq_trg) / (4 * Zth_c * (Xeqm1 + Xeq_trg))\n",
      "I11_1pu = Ig_f1 + 3 * Im_f1\n",
      "I11_1a = I11_1pu * Ibase_vbus\n",
      "print('Symmetrical Short circuit current to be interrupted in A = %0.2f' %I11_1a)\n",
      "I11_pu_cb = Ig_f1 + 4 * Im_f1\n",
      "I11_a_cb = I11_pu_cb * Ibase_vbus\n",
      "print('The short circuit current rating of breakers must be atleast(in amperes) = %0.2f' %I11_a_cb)\n",
      "Vcb = 15.5e3\n",
      "I_ic = 8900\n",
      "k = 2.67\n",
      "Iic = I_ic * k\n",
      "Icb = Vcb * I_ic / Vbus_m\n",
      "\n",
      "#Results\n",
      "print(\"The required capability of %.0f A is well below 80 percent of %.0f A\\n and the breaker is suitable with respect to the short-circuit current\" %(abs(I11_a_cb),abs(Icb)))"
     ],
     "language": "python",
     "metadata": {},
     "outputs": [
      {
       "output_type": "stream",
       "stream": "stdout",
       "text": [
        " Fault current in per unit = -j8 \n",
        " Fault current in amperes = 16735 \n",
        " Subtransient current through breaker A in per unit is -j7 \n",
        " Subtransient current through breaker A in amperes is 14643 \n",
        "Symmetrical Short circuit current to be interrupted in A = 12551.09\n",
        "The short circuit current rating of breakers must be atleast(in amperes) = 13945.66\n",
        "The required capability of 13946 A is well below 80 percent of 19993 A\n",
        " and the breaker is suitable with respect to the short-circuit current\n"
       ]
      }
     ],
     "prompt_number": 29
    }
   ],
   "metadata": {}
  }
 ]
}