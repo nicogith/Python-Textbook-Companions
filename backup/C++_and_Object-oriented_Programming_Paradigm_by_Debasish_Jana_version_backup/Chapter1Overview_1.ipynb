{
 "metadata": {
  "name": "",
  "signature": "sha256:b4c6cc9b6073c54ac1ea44cd41b2c966a7ce2c91e6332e43cfd0876602552a52"
 },
 "nbformat": 3,
 "nbformat_minor": 0,
 "worksheets": [
  {
   "cells": [
    {
     "cell_type": "heading",
     "level": 1,
     "metadata": {},
     "source": [
      "Chapter 1 Overview"
     ]
    },
    {
     "cell_type": "heading",
     "level": 2,
     "metadata": {},
     "source": [
      "Program Source Code 1.1, page no: 21"
     ]
    },
    {
     "cell_type": "code",
     "collapsed": false,
     "input": [
      "print \"Hi There\"       #displaying"
     ],
     "language": "python",
     "metadata": {},
     "outputs": [
      {
       "output_type": "stream",
       "stream": "stdout",
       "text": [
        "Hi There\n"
       ]
      }
     ],
     "prompt_number": 1
    },
    {
     "cell_type": "heading",
     "level": 2,
     "metadata": {},
     "source": [
      "Program Source Code 1.2, page no: 23"
     ]
    },
    {
     "cell_type": "code",
     "collapsed": false,
     "input": [
      "print \"Hi There\",        # says Hi There\n",
      "print \"I am Here\"        # says I am Here"
     ],
     "language": "python",
     "metadata": {},
     "outputs": [
      {
       "output_type": "stream",
       "stream": "stdout",
       "text": [
        "Hi There I am Here\n"
       ]
      }
     ],
     "prompt_number": 1
    },
    {
     "cell_type": "heading",
     "level": 2,
     "metadata": {},
     "source": [
      "Program Source Code 1.3, page no: 24"
     ]
    },
    {
     "cell_type": "code",
     "collapsed": false,
     "input": [
      "num=input(\"Please enter an integer number: \")   #user input\n",
      "print(\"The value you entered is: \"),num,   #printing\n",
      "print(\"and its square is \"),num*num"
     ],
     "language": "python",
     "metadata": {},
     "outputs": [
      {
       "name": "stdout",
       "output_type": "stream",
       "stream": "stdout",
       "text": [
        "Please enter an integer number: 25\n"
       ]
      },
      {
       "output_type": "stream",
       "stream": "stdout",
       "text": [
        "The value you entered is:  25 and its square is  625\n"
       ]
      }
     ],
     "prompt_number": 5
    },
    {
     "cell_type": "code",
     "collapsed": false,
     "input": [],
     "language": "python",
     "metadata": {},
     "outputs": []
    }
   ],
   "metadata": {}
  }
 ]
}