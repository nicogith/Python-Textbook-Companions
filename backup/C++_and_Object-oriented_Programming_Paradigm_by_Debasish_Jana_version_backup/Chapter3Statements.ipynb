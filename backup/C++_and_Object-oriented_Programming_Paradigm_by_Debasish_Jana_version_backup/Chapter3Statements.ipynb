{
 "metadata": {
  "name": "",
  "signature": "sha256:d0b2f54d8b90df73579d2fb4713e9b1d5d6613dfc23d06e8223dcef9eaa180b2"
 },
 "nbformat": 3,
 "nbformat_minor": 0,
 "worksheets": [
  {
   "cells": [
    {
     "cell_type": "heading",
     "level": 1,
     "metadata": {},
     "source": [
      "Chapter 3 Statements"
     ]
    },
    {
     "cell_type": "heading",
     "level": 2,
     "metadata": {},
     "source": [
      "Program Source Code 3.1, page no: 65"
     ]
    },
    {
     "cell_type": "code",
     "collapsed": false,
     "input": [
      "numb = input(\"Enter a number\")   #user input\n",
      "\n",
      "print 'numb<10  is',int(numb < 10)\n",
      "print 'numb>10  is',int(numb > 10)\n",
      "print 'numb==10 is',int(numb == 10),'\\n'"
     ],
     "language": "python",
     "metadata": {},
     "outputs": [
      {
       "name": "stdout",
       "output_type": "stream",
       "stream": "stdout",
       "text": [
        "Enter a number20\n"
       ]
      },
      {
       "output_type": "stream",
       "stream": "stdout",
       "text": [
        "numb<10  is 0\n",
        "numb>10  is 1\n",
        "numb==10 is 0 \n",
        "\n"
       ]
      }
     ],
     "prompt_number": 1
    },
    {
     "cell_type": "heading",
     "level": 2,
     "metadata": {},
     "source": [
      "Program Source Code 3.2, page no: 67"
     ]
    },
    {
     "cell_type": "code",
     "collapsed": false,
     "input": [
      "a=input( 'Please Enter two numbers, a: ')   #takes input\n",
      "b=input('b: ')\n",
      "\n",
      "if a>b:               #prints which is greater\n",
      "    print a,\n",
      "    print 'is greater'  \n",
      "    print b,\n",
      "    print 'is smaller'"
     ],
     "language": "python",
     "metadata": {},
     "outputs": [
      {
       "name": "stdout",
       "output_type": "stream",
       "stream": "stdout",
       "text": [
        "Please Enter two numbers, a: 30\n"
       ]
      },
      {
       "name": "stdout",
       "output_type": "stream",
       "stream": "stdout",
       "text": [
        "b: 20\n"
       ]
      },
      {
       "output_type": "stream",
       "stream": "stdout",
       "text": [
        "30 is greater\n",
        "20 is smaller\n"
       ]
      }
     ],
     "prompt_number": 8
    },
    {
     "cell_type": "heading",
     "level": 2,
     "metadata": {},
     "source": [
      "Program Source Code 3.3, page no: 69"
     ]
    },
    {
     "cell_type": "code",
     "collapsed": false,
     "input": [
      "a=input('Please Enter two numbers, a: ')   #takes input\n",
      "b=input('b: ')\n",
      "if a>b:               \n",
      "    print a,\n",
      "    print 'is greater'  \n",
      "    print b,\n",
      "    print 'is smaller'\n",
      "else:\n",
      "    print b,\n",
      "    print 'is greater'  \n",
      "    print a,\n",
      "    print 'is smaller'"
     ],
     "language": "python",
     "metadata": {},
     "outputs": [
      {
       "name": "stdout",
       "output_type": "stream",
       "stream": "stdout",
       "text": [
        "Please Enter two numbers, a: 20\n"
       ]
      },
      {
       "name": "stdout",
       "output_type": "stream",
       "stream": "stdout",
       "text": [
        "b: 30\n"
       ]
      },
      {
       "output_type": "stream",
       "stream": "stdout",
       "text": [
        "30 is greater\n",
        "20 is smaller\n"
       ]
      }
     ],
     "prompt_number": 3
    },
    {
     "cell_type": "heading",
     "level": 2,
     "metadata": {},
     "source": [
      "Program Source Code 3.4, page no: 71"
     ]
    },
    {
     "cell_type": "code",
     "collapsed": false,
     "input": [
      "print 'Enter three number, a, b, c:'   #user input\n",
      "a = input()\n",
      "b = input()\n",
      "c = input()\n",
      "\n",
      "if a==b:\n",
      "    if b==c:\n",
      "        print 'a, b, and c are equal\\n'\n",
      "   \n",
      "else:\n",
      "    print 'a and b are different\\n'"
     ],
     "language": "python",
     "metadata": {},
     "outputs": [
      {
       "output_type": "stream",
       "stream": "stdout",
       "text": [
        "Enter three number, a, b, c:\n"
       ]
      },
      {
       "name": "stdout",
       "output_type": "stream",
       "stream": "stdout",
       "text": [
        "20\n"
       ]
      },
      {
       "name": "stdout",
       "output_type": "stream",
       "stream": "stdout",
       "text": [
        "30\n"
       ]
      },
      {
       "name": "stdout",
       "output_type": "stream",
       "stream": "stdout",
       "text": [
        "30\n"
       ]
      },
      {
       "output_type": "stream",
       "stream": "stdout",
       "text": [
        "a and b are different\n",
        "\n"
       ]
      }
     ],
     "prompt_number": 9
    },
    {
     "cell_type": "heading",
     "level": 2,
     "metadata": {},
     "source": [
      "Program Source Code 3.5, page no: 75"
     ]
    },
    {
     "cell_type": "code",
     "collapsed": false,
     "input": [
      "marks=input('Please input the marks obtained out of 100: ')       #user input\n",
      "if marks>=0 and marks<=100:    #prints grade according to marks\n",
      "    range=marks / 10\n",
      "    print 'Equivalent letter Grade Award is : ',\n",
      "    if range<=10 and range>=8:\n",
      "        print ' A'\n",
      "       \n",
      "    elif range<8 and range>=7:\n",
      "        print ' B'\n",
      "      \n",
      "    elif range<7 and range>=6:\n",
      "        print ' C'\n",
      "        \n",
      "    elif range<6:\n",
      "        print ' D'        \n",
      "else:\n",
      "    print 'Incorrect range: '\n",
      "    print 'Marks should be within 0 to 100'"
     ],
     "language": "python",
     "metadata": {},
     "outputs": [
      {
       "name": "stdout",
       "output_type": "stream",
       "stream": "stdout",
       "text": [
        "Please input the marks obtained out of 100: 76\n"
       ]
      },
      {
       "output_type": "stream",
       "stream": "stdout",
       "text": [
        "Equivalent letter Grade Award is :   B\n"
       ]
      }
     ],
     "prompt_number": 10
    },
    {
     "cell_type": "heading",
     "level": 2,
     "metadata": {},
     "source": [
      "Program Source Code 3.6, page no: 80"
     ]
    },
    {
     "cell_type": "code",
     "collapsed": false,
     "input": [
      "count=input('Enter the value of count: ')\n",
      "while count>0:               #while loop      \n",
      "    print 'count=',count\n",
      "    count-=1\n",
      "print 'done'"
     ],
     "language": "python",
     "metadata": {},
     "outputs": [
      {
       "name": "stdout",
       "output_type": "stream",
       "stream": "stdout",
       "text": [
        "Enter the value of count: 5\n"
       ]
      },
      {
       "output_type": "stream",
       "stream": "stdout",
       "text": [
        "count= 5\n",
        "count= 4\n",
        "count= 3\n",
        "count= 2\n",
        "count= 1\n",
        "done\n"
       ]
      }
     ],
     "prompt_number": 4
    },
    {
     "cell_type": "heading",
     "level": 2,
     "metadata": {},
     "source": [
      "Program Source Code 3.7, page no: 81"
     ]
    },
    {
     "cell_type": "code",
     "collapsed": false,
     "input": [
      "count=input('Enter the value of count: ')\n",
      "#no do while loop in python\n",
      "while True:\n",
      "     print 'count=',count\n",
      "     count-=1\n",
      "     if count==0:        #fail condition\n",
      "         break\n",
      "print 'done'"
     ],
     "language": "python",
     "metadata": {},
     "outputs": [
      {
       "name": "stdout",
       "output_type": "stream",
       "stream": "stdout",
       "text": [
        "Enter the value of count: 5\n"
       ]
      },
      {
       "output_type": "stream",
       "stream": "stdout",
       "text": [
        "count= 5\n",
        "count= 4\n",
        "count= 3\n",
        "count= 2\n",
        "count= 1\n",
        "done\n"
       ]
      }
     ],
     "prompt_number": 1
    },
    {
     "cell_type": "heading",
     "level": 2,
     "metadata": {},
     "source": [
      "Program Source Code 3.8, page no: 82"
     ]
    },
    {
     "cell_type": "code",
     "collapsed": false,
     "input": [
      "for i in range(15):\n",
      "   print i*i,       #displaying"
     ],
     "language": "python",
     "metadata": {},
     "outputs": [
      {
       "output_type": "stream",
       "stream": "stdout",
       "text": [
        "0 1 4 9 16 25 36 49 64 81 100 121 144 169 196\n"
       ]
      }
     ],
     "prompt_number": 2
    },
    {
     "cell_type": "heading",
     "level": 2,
     "metadata": {},
     "source": [
      "Program Source Code 3.9, page no: 85"
     ]
    },
    {
     "cell_type": "code",
     "collapsed": false,
     "input": [
      "count=input('Enter the value of count: ')       #user input\n",
      "for x in range(count):         #for loop\n",
      "    print 'count=',count\n",
      "    count-=1\n",
      "print 'done'"
     ],
     "language": "python",
     "metadata": {},
     "outputs": [
      {
       "name": "stdout",
       "output_type": "stream",
       "stream": "stdout",
       "text": [
        "Enter the value of count: 5\n"
       ]
      },
      {
       "output_type": "stream",
       "stream": "stdout",
       "text": [
        "count= 5\n",
        "count= 4\n",
        "count= 3\n",
        "count= 2\n",
        "count= 1\n",
        "done\n"
       ]
      }
     ],
     "prompt_number": 4
    },
    {
     "cell_type": "heading",
     "level": 2,
     "metadata": {},
     "source": [
      "Program Source Code 3.10, page no: 86"
     ]
    },
    {
     "cell_type": "code",
     "collapsed": false,
     "input": [
      "print 'count up'\n",
      "for i in range(5):                #for loop\n",
      "     print i\n",
      "print 'count down'\n",
      "i+=1\n",
      "for i in range(5,-1,-1):\n",
      "    print i\n",
      "\n",
      "print 'done'"
     ],
     "language": "python",
     "metadata": {},
     "outputs": [
      {
       "output_type": "stream",
       "stream": "stdout",
       "text": [
        "count up\n",
        "0\n",
        "1\n",
        "2\n",
        "3\n",
        "4\n",
        "count down\n",
        "5\n",
        "4\n",
        "3\n",
        "2\n",
        "1\n",
        "0\n",
        "done\n"
       ]
      }
     ],
     "prompt_number": 8
    },
    {
     "cell_type": "heading",
     "level": 2,
     "metadata": {},
     "source": [
      "Program Source Code 3.11, page no: 87"
     ]
    },
    {
     "cell_type": "code",
     "collapsed": false,
     "input": [
      "for i in range(5):\n",
      "    print i               #displaying"
     ],
     "language": "python",
     "metadata": {},
     "outputs": [
      {
       "output_type": "stream",
       "stream": "stdout",
       "text": [
        "0\n",
        "1\n",
        "2\n",
        "3\n",
        "4\n"
       ]
      }
     ],
     "prompt_number": 12
    },
    {
     "cell_type": "heading",
     "level": 2,
     "metadata": {},
     "source": [
      "Program Source Code 3.12, page no: 88"
     ]
    },
    {
     "cell_type": "code",
     "collapsed": false,
     "input": [
      "count=input('Enter the value of count: ')           #user input\n",
      "while True:                #while loop\n",
      "   if count<=0:\n",
      "     break\n",
      "   print 'count= ',count\n",
      "   count-=1\n",
      "print 'done'"
     ],
     "language": "python",
     "metadata": {},
     "outputs": [
      {
       "name": "stdout",
       "output_type": "stream",
       "stream": "stdout",
       "text": [
        "Enter the value of count: 5\n"
       ]
      },
      {
       "output_type": "stream",
       "stream": "stdout",
       "text": [
        "count=  5\n",
        "count=  4\n",
        "count=  3\n",
        "count=  2\n",
        "count=  1\n",
        "done\n"
       ]
      }
     ],
     "prompt_number": 1
    },
    {
     "cell_type": "heading",
     "level": 2,
     "metadata": {},
     "source": [
      "Program Source Code 3.13, page no: 89"
     ]
    },
    {
     "cell_type": "code",
     "collapsed": false,
     "input": [
      "count1 = input(\"Enter the value of count: \")     #user input\n",
      "\n",
      "for count1 in range(count1,0,-1):\n",
      "    if count1 == 3:\n",
      "        continue\n",
      "    print 'count =',count1\n",
      "    \n",
      "print 'done'"
     ],
     "language": "python",
     "metadata": {},
     "outputs": [
      {
       "name": "stdout",
       "output_type": "stream",
       "stream": "stdout",
       "text": [
        "Enter the value of count: 5\n"
       ]
      },
      {
       "output_type": "stream",
       "stream": "stdout",
       "text": [
        "count = 5\n",
        "count = 4\n",
        "count = 2\n",
        "count = 1\n",
        "done\n"
       ]
      }
     ],
     "prompt_number": 3
    },
    {
     "cell_type": "code",
     "collapsed": false,
     "input": [],
     "language": "python",
     "metadata": {},
     "outputs": []
    }
   ],
   "metadata": {}
  }
 ]
}