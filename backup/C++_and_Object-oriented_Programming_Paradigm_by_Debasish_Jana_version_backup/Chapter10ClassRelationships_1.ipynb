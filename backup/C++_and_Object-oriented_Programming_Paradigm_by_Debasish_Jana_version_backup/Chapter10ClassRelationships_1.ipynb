{
 "metadata": {
  "name": "",
  "signature": "sha256:83279fb4e6365b68b383d1ff340a5b71a91d27144fe4d632bdfec2e21f0afda3"
 },
 "nbformat": 3,
 "nbformat_minor": 0,
 "worksheets": [
  {
   "cells": [
    {
     "cell_type": "heading",
     "level": 1,
     "metadata": {},
     "source": [
      "Chapter 10 Class Relationships"
     ]
    },
    {
     "cell_type": "heading",
     "level": 2,
     "metadata": {},
     "source": [
      "Program Source Code 10.1, page no: 286"
     ]
    },
    {
     "cell_type": "code",
     "collapsed": false,
     "input": [
      "import sys\n",
      "import string\n",
      "class Super:                      #class super (base class)\n",
      "     \n",
      "    \n",
      "    def __init__(self,x=0):    #constructor\n",
      "        self.__a=x\n",
      "        print 'Super constructor called'\n",
      "       \n",
      "    def __del__(self):              #destructor\n",
      "        print 'Super destructor called'\n",
      "    def _printInfo(self):\n",
      "        print 'a= ',self.__a,\n",
      "        print 'size of data component of Super class is ',sys.getsizeof(self.__a)\n",
      "    def print1():\n",
      "        Super.printInfo()\n",
      "        \n",
      "class Sub(Super):   #derived class\n",
      "    \n",
      "    def __init__(self,y=0):       #constructor\n",
      "        Super.__init__(self,y)\n",
      "        self.__b=y+10\n",
      "        print 'Sub constructor called'\n",
      "    def _del__(self):                       #destructor\n",
      "        print 'Sub destructor called'\n",
      "    def _printInfo(self):\n",
      "        Super._printInfo(self)\n",
      "        print 'b= ',self.__b,\n",
      "        print 'size of data component of Sub class is ',sys.getsizeof(self.__b)                #sizeof(self.__b) \n",
      "\n",
      "        \n",
      "#variable declaration\n",
      "super1=Super(100 )\n",
      "sub1=Sub(200 )\n",
      "super1._printInfo()\n",
      "sub1._printInfo()\n",
      "print 'Size of super1 is',sys.getsizeof(super1)\n",
      "print 'Size of sub1 is',sys.getsizeof(sub1)\n"
     ],
     "language": "python",
     "metadata": {},
     "outputs": [
      {
       "output_type": "stream",
       "stream": "stdout",
       "text": [
        "Super constructor called\n",
        "Super constructor called\n",
        "Sub constructor called\n",
        "a=  100 size of data component of Super class is  24\n",
        "a=  200 size of data component of Super class is  24\n",
        "b=  210 size of data component of Sub class is  24\n",
        "Size of super1 is 64\n",
        "Size of sub1 is 64\n"
       ]
      }
     ],
     "prompt_number": 1
    },
    {
     "cell_type": "heading",
     "level": 2,
     "metadata": {},
     "source": [
      "Program Source Code 10.2, page no: 295"
     ]
    },
    {
     "cell_type": "code",
     "collapsed": false,
     "input": [
      "class A:         #base class\n",
      "    def __init__(self,x):      #constructor\n",
      "        self.__a=x+10              \n",
      "        print 'A constructor called A: a',self.__a\n",
      "    def __del__(self):\n",
      "        print 'A des'\n",
      "        \n",
      "class B(A):       #derived class\n",
      "    def __init__(self,x):            #constructor\n",
      "        self.__b=x+20\n",
      "        print 'B constructor called B: b',self.__b\n",
      "    def __del__(self):\n",
      "        print 'B des'\n",
      "        \n",
      "class C(A,B):     \n",
      "    def __init__(self,x):   #constructor\n",
      "        self.__c=x+30\n",
      "        print 'C constructor called C: c',self.__c\n",
      "    def __del__(self):\n",
      "        print 'C des'\n",
      "                \n",
      "class D(A,B):\n",
      "    def __init__(self,x):              #constructor\n",
      "        self.__d=x+60\n",
      "        print 'D constructor called D: d',self.__d\n",
      "    def __del__(self):\n",
      "        print 'D des'\n",
      "        \n",
      "        \n",
      "class E(C,D):\n",
      "    def __init__(self,x):                  #constructor\n",
      "        self.__e=x+90\n",
      "        A.__init__(self,x+100)\n",
      "        B.__init__(self,x+110)\n",
      "        C.__init__(self,x+120)\n",
      "        D.__init__(self,x+130)\n",
      "        print 'E constructor called E: e',self.__e\n",
      "    def __del__(self):\n",
      "        print 'E des'\n",
      "#variable declaration        \n",
      "e=E(1000)"
     ],
     "language": "python",
     "metadata": {},
     "outputs": [
      {
       "output_type": "stream",
       "stream": "stdout",
       "text": [
        "A constructor called A: a 1110\n",
        "B constructor called B: b 1130\n",
        "C constructor called C: c 1150\n",
        "D constructor called D: d 1190\n",
        "E constructor called E: e 1090\n"
       ]
      }
     ],
     "prompt_number": 2
    },
    {
     "cell_type": "heading",
     "level": 2,
     "metadata": {},
     "source": [
      "Program Source Code 10.3, page no: 299"
     ]
    },
    {
     "cell_type": "code",
     "collapsed": false,
     "input": [
      "class Aclass:\n",
      "    def __init__(self):       #constructor\n",
      "        pass\n",
      "    def __del__(self):\n",
      "        pass   \n",
      "    def printFraction(self,f):             #friend function\n",
      "        print 'Function AClass:: printFraction, prints Fraction: ',f._Fraction__num,'/',f._Fraction__denom\n",
      "        \n",
      "    def setFractionToZero(self,f):\n",
      "        f.__num=0\n",
      "        f.__denom=1\n",
      "        print 'Function AClass:: setfractionToZero, sets fraction to zero: '\n",
      "        \n",
      "class Bclass:\n",
      "    def __init__(self):                   #constructor\n",
      "        pass\n",
      "    def __del__(self):\n",
      "        pass\n",
      "    def printFraction(self,f):        #friend function\n",
      "        print 'Function BClass:: printFraction, prints Fraction: ',f._Fraction__num,'/',f._Fraction__denom\n",
      "    def setFractionToZero(self,f):\n",
      "        print 'Function BClass:: setfractionToZero CANNOT, CANT set fraction to 0 '\n",
      "        \n",
      "        \n",
      "class Fraction:\n",
      "    def __init__(self,a=0,b=1):             #constructor\n",
      "        self.__num=a\n",
      "        self.__denom=b\n",
      "    def __del__(self):\n",
      "        pass\n",
      "    def printFraction(self):\n",
      "        print 'Function Fraction::printFraction,print Fraction',self.__num,'/',self.__denom\n",
      "        \n",
      "    def setFractionToZero(self):\n",
      "        self.__num=0\n",
      "        self.__denom=1\n",
      "        print 'Function Fraction::setfractionToZero, sets fraction to zero  '\n",
      "        \n",
      "def printFraction(f):\n",
      "        print 'printFraction cannot print Fraction'\n",
      "def setFractionToZero(f):\n",
      "        #f.__num=0\n",
      "        #f.__denom=1\n",
      "        print 'setfractionToZero, sets fraction to zero  '\n",
      "\n",
      "        \n",
      "#variable declaration\n",
      "aobj=Aclass()                    #object initialised\n",
      "bobj=Bclass()\n",
      "print 'Please enter values of numberator and denominator: '\n",
      "n=input()      #user input\n",
      "d=input()\n",
      "f1=Fraction(n,d)\n",
      "\n",
      "f1.printFraction()       #function call\n",
      "f1.setFractionToZero()\n",
      "print ''\n",
      "aobj.printFraction(f1)\n",
      "aobj.setFractionToZero(f1)\n",
      "print ''\n",
      "bobj.printFraction(f1)\n",
      "bobj.setFractionToZero(f1)\n",
      "print ''\n",
      "printFraction(f1)\n",
      "setFractionToZero(f1)"
     ],
     "language": "python",
     "metadata": {},
     "outputs": [
      {
       "output_type": "stream",
       "stream": "stdout",
       "text": [
        "Please enter values of numberator and denominator: \n"
       ]
      },
      {
       "name": "stdout",
       "output_type": "stream",
       "stream": "stdout",
       "text": [
        "4\n"
       ]
      },
      {
       "name": "stdout",
       "output_type": "stream",
       "stream": "stdout",
       "text": [
        "5\n"
       ]
      },
      {
       "output_type": "stream",
       "stream": "stdout",
       "text": [
        "Function Fraction::printFraction,print Fraction 4 / 5\n",
        "Function Fraction::setfractionToZero, sets fraction to zero  \n",
        "\n",
        "Function AClass:: printFraction, prints Fraction:  0 / 1\n",
        "Function AClass:: setfractionToZero, sets fraction to zero: \n",
        "\n",
        "Function BClass:: printFraction, prints Fraction:  0 / 1\n",
        "Function BClass:: setfractionToZero CANNOT, CANT set fraction to 0 \n",
        "\n",
        "printFraction cannot print Fraction\n",
        "setfractionToZero, sets fraction to zero  \n"
       ]
      }
     ],
     "prompt_number": 9
    },
    {
     "cell_type": "heading",
     "level": 2,
     "metadata": {},
     "source": [
      "Program Source Code 10.4, page no: 312"
     ]
    },
    {
     "cell_type": "code",
     "collapsed": false,
     "input": [
      "class Employee:      #base class\n",
      "    def whoAmI(self):\n",
      "        pass\n",
      "    \n",
      "class Manager(Employee):      #derived class\n",
      "    def whoAmI(self):\n",
      "        return Manager\n",
      "    \n",
      "class Programmer(Employee):          #derived class\n",
      "    def whoAmI(self):\n",
      "        return Programmer\n",
      "class Tester(Employee):               #derived class\n",
      "    def whoAmI(self):\n",
      "        return Tester\n",
      "    \n",
      "e=Employee()    #object of Employee()\n",
      "e=[Employee() for j in range(5)]\n",
      "e[0]=Programmer()\n",
      "e[1]=Manager()\n",
      "e[2]=Programmer()\n",
      "e[3]=Tester()\n",
      "e[4]=Tester()\n",
      "for i in range(len(e)):\n",
      "    print 'Employee ',i+1,'is: ',e[i].whoAmI().__name__"
     ],
     "language": "python",
     "metadata": {},
     "outputs": [
      {
       "output_type": "stream",
       "stream": "stdout",
       "text": [
        "Employee  1 is:  Programmer\n",
        "Employee  2 is:  Manager\n",
        "Employee  3 is:  Programmer\n",
        "Employee  4 is:  Tester\n",
        "Employee  5 is:  Tester\n"
       ]
      }
     ],
     "prompt_number": 11
    },
    {
     "cell_type": "code",
     "collapsed": false,
     "input": [],
     "language": "python",
     "metadata": {},
     "outputs": []
    }
   ],
   "metadata": {}
  }
 ]
}