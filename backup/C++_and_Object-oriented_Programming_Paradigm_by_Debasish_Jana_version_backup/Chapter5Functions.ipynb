{
 "metadata": {
  "name": "",
  "signature": "sha256:18c18a8950d6866dabbc678abd9c440412f60e539895a2291f7c03ee3f45cf8d"
 },
 "nbformat": 3,
 "nbformat_minor": 0,
 "worksheets": [
  {
   "cells": [
    {
     "cell_type": "heading",
     "level": 1,
     "metadata": {},
     "source": [
      "Chapter 5: Functions"
     ]
    },
    {
     "cell_type": "heading",
     "level": 2,
     "metadata": {},
     "source": [
      "Program Source Code 5.1, page no: 134"
     ]
    },
    {
     "cell_type": "code",
     "collapsed": false,
     "input": [
      "def product(x,y):    #function product\n",
      "    return x*y\n",
      "\n",
      "a=input('Please input a number: ')           #user input\n",
      "b=input('Please input another number: ')\n",
      "c=product(a,b)\n",
      "print 'the product of ',a,'and',b,'is',c"
     ],
     "language": "python",
     "metadata": {},
     "outputs": [
      {
       "name": "stdout",
       "output_type": "stream",
       "stream": "stdout",
       "text": [
        "Please input a number: 4\n"
       ]
      },
      {
       "name": "stdout",
       "output_type": "stream",
       "stream": "stdout",
       "text": [
        "Please input another number: 5\n"
       ]
      },
      {
       "output_type": "stream",
       "stream": "stdout",
       "text": [
        "the product of  4 and 5 is 20\n"
       ]
      }
     ],
     "prompt_number": 1
    },
    {
     "cell_type": "heading",
     "level": 2,
     "metadata": {},
     "source": [
      "Program Source Code 5.2, page no: 135"
     ]
    },
    {
     "cell_type": "code",
     "collapsed": false,
     "input": [
      "def product(x,y):         #function product\n",
      "    return x*y\n",
      "\n",
      "a=input('Please input a floating point number: ')           #user input\n",
      "b=input('Please input another floating point number: ')\n",
      "c=product(a,b)          #function call\n",
      "print 'the product of ',a,'and',b,'is',c"
     ],
     "language": "python",
     "metadata": {},
     "outputs": [
      {
       "name": "stdout",
       "output_type": "stream",
       "stream": "stdout",
       "text": [
        "Please input a floating point number: 1.2\n"
       ]
      },
      {
       "name": "stdout",
       "output_type": "stream",
       "stream": "stdout",
       "text": [
        "Please input another floating point number: 1.3\n"
       ]
      },
      {
       "output_type": "stream",
       "stream": "stdout",
       "text": [
        "the product of  1.2 and 1.3 is 1.56\n"
       ]
      }
     ],
     "prompt_number": 1
    },
    {
     "cell_type": "heading",
     "level": 2,
     "metadata": {},
     "source": [
      "Program Source Code 5.3, page no: 136"
     ]
    },
    {
     "cell_type": "code",
     "collapsed": false,
     "input": [
      "def printProduct(x,y):  #function product\n",
      "    c=0\n",
      "    c=a*b\n",
      "    print 'The product of ',a,'and',b,'is',c\n",
      "    return\n",
      "\n",
      "a=input('Please input an intger: ')     #user input\n",
      "b=input('Please input another integer: ')\n",
      "c=printProduct(a,b)\n"
     ],
     "language": "python",
     "metadata": {},
     "outputs": [
      {
       "name": "stdout",
       "output_type": "stream",
       "stream": "stdout",
       "text": [
        "Please input an intger: 3\n"
       ]
      },
      {
       "name": "stdout",
       "output_type": "stream",
       "stream": "stdout",
       "text": [
        "Please input another integer: 4\n"
       ]
      },
      {
       "output_type": "stream",
       "stream": "stdout",
       "text": [
        "The product of  3 and 4 is 12\n"
       ]
      }
     ],
     "prompt_number": 5
    },
    {
     "cell_type": "heading",
     "level": 2,
     "metadata": {},
     "source": [
      "Program Source Code 5.4, page no: 138"
     ]
    },
    {
     "cell_type": "code",
     "collapsed": false,
     "input": [
      "def product(x,y): #function product\n",
      "    return x*y\n",
      "\n",
      "a=input('Please input a number: ')           #user input\n",
      "b=input('Please input another number: ')\n",
      "c=product(a,b)\n",
      "print 'the product of ',a,'and',b,'is',c"
     ],
     "language": "python",
     "metadata": {},
     "outputs": [
      {
       "name": "stdout",
       "output_type": "stream",
       "stream": "stdout",
       "text": [
        "Please input a number: 4\n"
       ]
      },
      {
       "name": "stdout",
       "output_type": "stream",
       "stream": "stdout",
       "text": [
        "Please input another number: 5\n"
       ]
      },
      {
       "output_type": "stream",
       "stream": "stdout",
       "text": [
        "the product of  4 and 5 is 20\n"
       ]
      }
     ],
     "prompt_number": 2
    },
    {
     "cell_type": "heading",
     "level": 2,
     "metadata": {},
     "source": [
      "Program Source Code 5.5, page no: 140"
     ]
    },
    {
     "cell_type": "code",
     "collapsed": false,
     "input": [
      "from ctypes import *\n",
      "\n",
      "\n",
      "i =c_int(4) \n",
      "j=i\n",
      "pi=pointer(i)\n",
      "value=pi[0]\n",
      "pj=pi[0]\n",
      "print 'Before incrementing *pi'\n",
      "print 'i= ',i.value,'j= ',j.value,'*pi= ',pi[0],'*pj= ',pj\n",
      "pi[0]+=1         #no prefix and postfix in python\n",
      "pj=pi[0]\n",
      "print 'After incrementing *pi'\n",
      "print 'i= ',i.value,'j= ',j.value,'*pi= ',pi[0],'*pj= ',pj"
     ],
     "language": "python",
     "metadata": {},
     "outputs": [
      {
       "output_type": "stream",
       "stream": "stdout",
       "text": [
        "Before incrementing *pi\n",
        "i=  4 j=  4 *pi=  4 *pj=  4\n",
        "After incrementing *pi\n",
        "i=  5 j=  5 *pi=  5 *pj=  5\n"
       ]
      }
     ],
     "prompt_number": 2
    },
    {
     "cell_type": "heading",
     "level": 2,
     "metadata": {},
     "source": [
      "Program Source Code 5.6, page no: 142"
     ]
    },
    {
     "cell_type": "code",
     "collapsed": false,
     "input": [
      "def Product(x,y):         #function product\n",
      "    return x*y\n",
      "\n",
      "print 'Please input two integer: ' #user input\n",
      "a=input()\n",
      "b=input()\n",
      "c=Product(a,b)  #call function product\n",
      "print 'The product of ',a,'and',b,'is',c\n",
      "\n",
      "print 'Please input two floating point numbers: '\n",
      "f=input()\n",
      "g=input()\n",
      "h=Product(f,g)         #call function product\n",
      "print 'The product of ',f,'and',g,'is',h"
     ],
     "language": "python",
     "metadata": {},
     "outputs": [
      {
       "output_type": "stream",
       "stream": "stdout",
       "text": [
        "Please input two integer: \n"
       ]
      },
      {
       "name": "stdout",
       "output_type": "stream",
       "stream": "stdout",
       "text": [
        "4\n"
       ]
      },
      {
       "name": "stdout",
       "output_type": "stream",
       "stream": "stdout",
       "text": [
        "5\n"
       ]
      },
      {
       "output_type": "stream",
       "stream": "stdout",
       "text": [
        "The product of  4 and 5 is 20\n",
        "Please input two floating point numbers: \n"
       ]
      },
      {
       "name": "stdout",
       "output_type": "stream",
       "stream": "stdout",
       "text": [
        "1.2\n"
       ]
      },
      {
       "name": "stdout",
       "output_type": "stream",
       "stream": "stdout",
       "text": [
        "2.3\n"
       ]
      },
      {
       "output_type": "stream",
       "stream": "stdout",
       "text": [
        "The product of  1.2 and 2.3 is 2.76\n"
       ]
      }
     ],
     "prompt_number": 4
    },
    {
     "cell_type": "heading",
     "level": 2,
     "metadata": {},
     "source": [
      "Program Source Code 5.7, page no: 143"
     ]
    },
    {
     "cell_type": "code",
     "collapsed": false,
     "input": [
      "from ctypes import*\n",
      "\n",
      "def fracval(numerator =0, denominator =1):       #function declaration with default parameters\n",
      "    val=(numerator/denominator)\n",
      "    return val\n",
      "\n",
      "print 'please input numerator and denominator of a fraction: '\n",
      "a=input()\n",
      "b=input()\n",
      "f=fracval(a,b)        #function call\n",
      "\n",
      "print 'The fraction value ',a,'/',b,'=',f\n",
      "\n",
      "print 'please input the numerator (denominator assumed to be 1: )'\n",
      "a=input()\n",
      "f=fracval(a)\n",
      "print 'The fraction value ',a,'/1','=',f\n",
      "\n",
      "print 'And the defaukt fraction value is (num=0, denom=1): '\n",
      "f=fracval()\n",
      "print 'the fraction value 0/1=',f"
     ],
     "language": "python",
     "metadata": {},
     "outputs": [
      {
       "output_type": "stream",
       "stream": "stdout",
       "text": [
        "please input numerator and denominator of a fraction: \n"
       ]
      },
      {
       "name": "stdout",
       "output_type": "stream",
       "stream": "stdout",
       "text": [
        "3\n"
       ]
      },
      {
       "name": "stdout",
       "output_type": "stream",
       "stream": "stdout",
       "text": [
        "4\n"
       ]
      },
      {
       "output_type": "stream",
       "stream": "stdout",
       "text": [
        "The fraction value  3 / 4 = 0\n",
        "please input the numerator (denominator assumed to be 1: )\n"
       ]
      },
      {
       "name": "stdout",
       "output_type": "stream",
       "stream": "stdout",
       "text": [
        "3\n"
       ]
      },
      {
       "output_type": "stream",
       "stream": "stdout",
       "text": [
        "The fraction value  3 /1 = 3\n",
        "And the defaukt fraction value is (num=0, denom=1): \n",
        "the fraction value 0/1= 0\n"
       ]
      }
     ],
     "prompt_number": 2
    },
    {
     "cell_type": "heading",
     "level": 2,
     "metadata": {},
     "source": [
      "Program Source Code 5.8, page no: 145"
     ]
    },
    {
     "cell_type": "code",
     "collapsed": false,
     "input": [
      "def swap(a,b):\n",
      "    temp=a\n",
      "    a=b\n",
      "    b=temp\n",
      "\n",
      "    \n",
      "#variable declaration\n",
      "x=3\n",
      "y=4\n",
      "print 'before swap: x= ',x,'y= ',y\n",
      "swap(x,y)\n",
      "print 'After swap: x= ',x,'y= ',y"
     ],
     "language": "python",
     "metadata": {},
     "outputs": [
      {
       "output_type": "stream",
       "stream": "stdout",
       "text": [
        "before swap: x=  3 y=  4\n",
        "After swap: x=  3 y=  4\n"
       ]
      }
     ],
     "prompt_number": 3
    },
    {
     "cell_type": "heading",
     "level": 2,
     "metadata": {},
     "source": [
      "Program Source Code 5.9, page no: 146"
     ]
    },
    {
     "cell_type": "code",
     "collapsed": false,
     "input": [
      "def swap(a,b):        #function swap\n",
      "        temp = a\n",
      "        a = b\n",
      "        b = temp\n",
      "        return a,b\n",
      "    \n",
      "#variable declaration\n",
      "x=3\n",
      "y=4\n",
      "print 'before swap: x= ',x,'y= ',y\n",
      "x,y=swap(x,y)\n",
      "print 'After swap: x= ',x,'y= ',y       "
     ],
     "language": "python",
     "metadata": {},
     "outputs": [
      {
       "output_type": "stream",
       "stream": "stdout",
       "text": [
        "before swap: x=  3 y=  4\n",
        "After swap: x=  4 y=  3\n"
       ]
      }
     ],
     "prompt_number": 3
    },
    {
     "cell_type": "heading",
     "level": 2,
     "metadata": {},
     "source": [
      "Program Source Code 5.10, page no: 147"
     ]
    },
    {
     "cell_type": "code",
     "collapsed": false,
     "input": [
      "def swap(a,b):  #function swap\n",
      "        temp = a\n",
      "        a = b\n",
      "        b = temp\n",
      "        return a,b\n",
      "    \n",
      "#variable declaration\n",
      "x=3\n",
      "y=4\n",
      "print 'before swap: x= ',x,'y= ',y\n",
      "x,y=swap(x,y)\n",
      "print 'After swap: x= ',x,'y= ',y       "
     ],
     "language": "python",
     "metadata": {},
     "outputs": [
      {
       "output_type": "stream",
       "stream": "stdout",
       "text": [
        "before swap: x=  3 y=  4\n",
        "After swap: x=  4 y=  3\n"
       ]
      }
     ],
     "prompt_number": 4
    },
    {
     "cell_type": "heading",
     "level": 2,
     "metadata": {},
     "source": [
      "Program Source Code 5.11, page no: 147"
     ]
    },
    {
     "cell_type": "code",
     "collapsed": false,
     "input": [
      "def PrintCharManyTimes(ch,n):                    #function declarator\n",
      "    for j in range(n):                #function body\n",
      "        print ch,\n",
      "    print\n",
      "    \n",
      "PrintCharManyTimes('-',40)                       #call to function\n",
      "print 'Data type   Range'\n",
      "PrintCharManyTimes('=',18)                       #call to function\n",
      "print 'Char        -128 to 127'\n",
      "print 'int         -32,768 to 32,767'\n",
      "print 'double      -2,147,483,648 to 2,147,483,647'\n",
      "PrintCharManyTimes('-',40)                       #call to function"
     ],
     "language": "python",
     "metadata": {},
     "outputs": [
      {
       "output_type": "stream",
       "stream": "stdout",
       "text": [
        "- - - - - - - - - - - - - - - - - - - - - - - - - - - - - - - - - - - - - - - -\n",
        "Data type   Range\n",
        "= = = = = = = = = = = = = = = = = =\n",
        "Char        -128 to 127\n",
        "int         -32,768 to 32,767\n",
        "double      -2,147,483,648 to 2,147,483,647\n",
        "- - - - - - - - - - - - - - - - - - - - - - - - - - - - - - - - - - - - - - - -\n"
       ]
      }
     ],
     "prompt_number": 10
    },
    {
     "cell_type": "heading",
     "level": 2,
     "metadata": {},
     "source": [
      "Program Source Code 5.12, page no: 149"
     ]
    },
    {
     "cell_type": "code",
     "collapsed": false,
     "input": [
      "def factfunc(a):               #calls itself to calculate factorials\n",
      "    if a>1:\n",
      "        return a * factfunc(a-1)\n",
      "    else:\n",
      "        return 1\n",
      "    \n",
      "n = input(\"Please input a number: \")             #get number from user\n",
      "fact = factfunc(n)                          #function call for factorial\n",
      "print 'Factorial of',n,'! is',fact,'\\n'       #dsplay factorial"
     ],
     "language": "python",
     "metadata": {},
     "outputs": [
      {
       "name": "stdout",
       "output_type": "stream",
       "stream": "stdout",
       "text": [
        "Please input a number: 4\n"
       ]
      },
      {
       "output_type": "stream",
       "stream": "stdout",
       "text": [
        "Factorial of 4 ! is 24 \n",
        "\n"
       ]
      }
     ],
     "prompt_number": 4
    },
    {
     "cell_type": "heading",
     "level": 2,
     "metadata": {},
     "source": [
      "Program Source Code 5.13, page no: 152"
     ]
    },
    {
     "cell_type": "code",
     "collapsed": false,
     "input": [
      "gi=1       #global variable declared\n",
      "si = 1         #static variable declared\n",
      "\n",
      "def func():\n",
      "    global si\n",
      "    i=1\n",
      "    i+=1\n",
      "    si+=1\n",
      "    global gi\n",
      "    gi+=1\n",
      "    \n",
      "    print 'i= ',i,'si= ',si,'gi= ',gi\n",
      "    \n",
      "for i in range(10):\n",
      "    print '(',i,')Call to func(): ',\n",
      "    gi+=1\n",
      "    func()"
     ],
     "language": "python",
     "metadata": {},
     "outputs": [
      {
       "output_type": "stream",
       "stream": "stdout",
       "text": [
        "( 0 )Call to func():  i=  2 si=  2 gi=  3\n",
        "( 1 )Call to func():  i=  2 si=  3 gi=  5\n",
        "( 2 )Call to func():  i=  2 si=  4 gi=  7\n",
        "( 3 )Call to func():  i=  2 si=  5 gi=  9\n",
        "( 4 )Call to func():  i=  2 si=  6 gi=  11\n",
        "( 5 )Call to func():  i=  2 si=  7 gi=  13\n",
        "( 6 )Call to func():  i=  2 si=  8 gi=  15\n",
        "( 7 )Call to func():  i=  2 si=  9 gi=  17\n",
        "( 8 )Call to func():  i=  2 si=  10 gi=  19\n",
        "( 9 )Call to func():  i=  2 si=  11 gi=  21\n"
       ]
      }
     ],
     "prompt_number": 5
    },
    {
     "cell_type": "heading",
     "level": 2,
     "metadata": {},
     "source": [
      "Program Source Code 5.14, page no: 154"
     ]
    },
    {
     "cell_type": "code",
     "collapsed": false,
     "input": [
      "def max(x,y): #function defined\n",
      "    if x>y:\n",
      "        return x\n",
      "    else:\n",
      "        return y    \n",
      "\n",
      "a=5\n",
      "b=6\n",
      "c=max(a,b)\n",
      "\n",
      "if c==a:               # no return by refernce function so declared a simple case\n",
      "    c=8\n",
      "    a=c\n",
      "elif c==b:\n",
      "    c=8\n",
      "    b=c\n",
      "    \n",
      "\n",
      "print 'a=',a,'b=',b,'c=',c"
     ],
     "language": "python",
     "metadata": {},
     "outputs": [
      {
       "output_type": "stream",
       "stream": "stdout",
       "text": [
        "a= 5 b= 8 c= 8\n"
       ]
      }
     ],
     "prompt_number": 24
    },
    {
     "cell_type": "heading",
     "level": 2,
     "metadata": {},
     "source": [
      "Program Source Code 5.15, page no: 157"
     ]
    },
    {
     "cell_type": "code",
     "collapsed": false,
     "input": [
      "def op1(v):    #for displaying numbers\n",
      "    for j in range(len(v)):\n",
      "        print v[j],\n",
      "        \n",
      "def remove_if(v,x): #for removing elements\n",
      "    for a in v:\n",
      "        if not a%x==0:\n",
      "            v.remove(a)\n",
      "    return v\n",
      "nos=[10,12,15,20,25,27]\n",
      "print '(before): ',;op1(nos)\n",
      "x=5\n",
      "print ''\n",
      "nos=remove_if(nos,5)\n",
      "print '(after): ',;op1(nos)"
     ],
     "language": "python",
     "metadata": {},
     "outputs": [
      {
       "output_type": "stream",
       "stream": "stdout",
       "text": [
        "(before):  10 12 15 20 25 27 \n",
        "(after):  10 15 20 25\n"
       ]
      }
     ],
     "prompt_number": 9
    },
    {
     "cell_type": "heading",
     "level": 1,
     "metadata": {},
     "source": [
      "Program Source Code 5.16, page no: 158"
     ]
    },
    {
     "cell_type": "code",
     "collapsed": false,
     "input": [
      "def sort(number):      #for sorting\n",
      "    size=len(number)\n",
      "    for i in range(size-1 ):\n",
      "        if int(number[i])>int(number[i+1]):\n",
      "            temp=number[i]\n",
      "            number[i]=number[i+1]\n",
      "            number[i+1]=temp\n",
      "            return number\n",
      "        \n",
      "def op1(v):      #for displaying numbers\n",
      "    for j in range(len(v)):\n",
      "        print v[j],\n",
      "        \n",
      "number=[\"1\",\"12\",\"23\",\"2\"]\n",
      "\n",
      "print '(original): ',;op1(number)\n",
      "\n",
      "print ''\n",
      "number=sort(number)                        # 1st sort\n",
      "print '(after 1st sort): ',;op1(number)\n",
      "print ''\n",
      "\n",
      "number=sort(number)\n",
      "print '(after 2nd sort): ',;op1(number)       # 2nd sort\n",
      "print ''"
     ],
     "language": "python",
     "metadata": {},
     "outputs": [
      {
       "output_type": "stream",
       "stream": "stdout",
       "text": [
        "(original):  1 12 23 2 \n",
        "(after 1st sort):  1 12 2 23 \n",
        "(after 2nd sort):  1 2 12 23 \n"
       ]
      }
     ],
     "prompt_number": 8
    },
    {
     "cell_type": "code",
     "collapsed": false,
     "input": [],
     "language": "python",
     "metadata": {},
     "outputs": []
    }
   ],
   "metadata": {}
  }
 ]
}