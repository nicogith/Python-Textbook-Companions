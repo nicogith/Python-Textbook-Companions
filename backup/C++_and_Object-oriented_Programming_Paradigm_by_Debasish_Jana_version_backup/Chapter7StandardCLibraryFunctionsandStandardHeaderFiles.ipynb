{
 "metadata": {
  "name": "",
  "signature": "sha256:71a1607f81df85e7f66ec997402b3b0f17b7cc56cc9b8e6e1c153f5dfb4890d1"
 },
 "nbformat": 3,
 "nbformat_minor": 0,
 "worksheets": [
  {
   "cells": [
    {
     "cell_type": "heading",
     "level": 1,
     "metadata": {},
     "source": [
      "Chapter 7 Standard C Library Functions and Standard Header Files"
     ]
    },
    {
     "cell_type": "heading",
     "level": 2,
     "metadata": {},
     "source": [
      "Program Source Code 7.1, page no: 179"
     ]
    },
    {
     "cell_type": "code",
     "collapsed": false,
     "input": [
      "from ctypes import*\n",
      "\n",
      "\n",
      "def lineno():                      #to print lineno\n",
      "   return inspect.currentframe().f_back.f_lineno\n",
      "x=10\n",
      "print 'First call to assert '    #assert\n",
      "assert(x==10)\n",
      "print 'Second call to assert '\n",
      "\n",
      "assert(x!=10)           #assertion failed\n",
      "print 'Done '\n"
     ],
     "language": "python",
     "metadata": {},
     "outputs": [
      {
       "output_type": "stream",
       "stream": "stdout",
       "text": [
        "First call to assert \n",
        "Second call to assert \n"
       ]
      },
      {
       "ename": "AssertionError",
       "evalue": "",
       "output_type": "pyerr",
       "traceback": [
        "\u001b[1;31m---------------------------------------------------------------------------\u001b[0m\n\u001b[1;31mAssertionError\u001b[0m                            Traceback (most recent call last)",
        "\u001b[1;32m<ipython-input-6-9a53f01a2f85>\u001b[0m in \u001b[0;36m<module>\u001b[1;34m()\u001b[0m\n\u001b[0;32m      9\u001b[0m \u001b[1;32mprint\u001b[0m \u001b[1;34m'Second call to assert '\u001b[0m\u001b[1;33m\u001b[0m\u001b[0m\n\u001b[0;32m     10\u001b[0m \u001b[1;33m\u001b[0m\u001b[0m\n\u001b[1;32m---> 11\u001b[1;33m \u001b[1;32massert\u001b[0m\u001b[1;33m(\u001b[0m\u001b[0mx\u001b[0m\u001b[1;33m!=\u001b[0m\u001b[1;36m10\u001b[0m\u001b[1;33m)\u001b[0m\u001b[1;33m\u001b[0m\u001b[0m\n\u001b[0m\u001b[0;32m     12\u001b[0m \u001b[1;32mprint\u001b[0m \u001b[1;34m'Done '\u001b[0m\u001b[1;33m\u001b[0m\u001b[0m\n",
        "\u001b[1;31mAssertionError\u001b[0m: "
       ]
      }
     ],
     "prompt_number": 6
    },
    {
     "cell_type": "heading",
     "level": 2,
     "metadata": {},
     "source": [
      "Program Source Code 7.2, page no: 181"
     ]
    },
    {
     "cell_type": "code",
     "collapsed": false,
     "input": [
      "from ctypes import *\n",
      "SIZE=3\n",
      "\n",
      "str=['ab12cd','34ef56','gh78jk']     #str array declared\n",
      "\n",
      "NoofAlphabets=[0,0,0]\n",
      "temp=0\n",
      "for i in range(SIZE):\n",
      "    NoofAlphabets[i]=0\n",
      "\n",
      "    temp=str[i]\n",
      "    for j in range(len(temp)):\n",
      "       if temp[j].isalpha():               #isalpha to find if its alphabet\n",
      "            NoofAlphabets[i]=NoofAlphabets[i]+1\n",
      "    print 'Number of alphabets in string : ',str[i],\n",
      "    print 'is',NoofAlphabets[i]"
     ],
     "language": "python",
     "metadata": {},
     "outputs": [
      {
       "output_type": "stream",
       "stream": "stdout",
       "text": [
        "Number of alphabets in string :  ab12cd is 4\n",
        "Number of alphabets in string :  34ef56 is 2\n",
        "Number of alphabets in string :  gh78jk is 4\n"
       ]
      }
     ],
     "prompt_number": 2
    },
    {
     "cell_type": "heading",
     "level": 2,
     "metadata": {},
     "source": [
      "Program Source Code 7.3, page no: 185"
     ]
    },
    {
     "cell_type": "code",
     "collapsed": false,
     "input": [
      "from ctypes import *\n",
      "import math\n",
      "\n",
      "PI=3.1415926535\n",
      "\n",
      "x=PI/2.0\n",
      "y=4.5\n",
      "z=2.30258093\n",
      "n=0\n",
      "print 'sine of PI/2 is',\n",
      "print int(math.sin(x))\n",
      "print 'cosine of PI/2 is',\n",
      "print math.cos(x)\n",
      "print 'exponent of %.5f'%z,'is',\n",
      "print math.exp(z)\n",
      "\n",
      "#frexp() take single argument and return a pair of values,rather than returning their second return value through output parameters\n",
      "#therefore no such thing occurs in python\n"
     ],
     "language": "python",
     "metadata": {},
     "outputs": [
      {
       "output_type": "stream",
       "stream": "stdout",
       "text": [
        "sine of PI/2 is 1\n",
        "cosine of PI/2 is 4.48965921698e-11\n",
        "exponent of 2.30258 is 9.99995837015\n"
       ]
      }
     ],
     "prompt_number": 16
    },
    {
     "cell_type": "heading",
     "level": 2,
     "metadata": {},
     "source": [
      "Program Source Code 7.4, page no: 188"
     ]
    },
    {
     "cell_type": "code",
     "collapsed": false,
     "input": [
      "def sum(first):        #function declared to compute the sum\n",
      "    j=1\n",
      "    i=first[0]\n",
      "    s=0\n",
      "    while not i==-1:\n",
      "        s+=i\n",
      "        i=first[j]\n",
      "        j+=1\n",
      "    return s\n",
      "        \n",
      "    \n",
      "print 'sum is: ',sum([2,3,4,-1])        #function called\n",
      "print 'sum is: ',sum([5,7,9,11,-1])\n",
      "print 'sum is: ',sum([-1])"
     ],
     "language": "python",
     "metadata": {},
     "outputs": [
      {
       "output_type": "stream",
       "stream": "stdout",
       "text": [
        "sum is:  9\n",
        "sum is:  32\n",
        "sum is:  0\n"
       ]
      }
     ],
     "prompt_number": 1
    },
    {
     "cell_type": "code",
     "collapsed": false,
     "input": [],
     "language": "python",
     "metadata": {},
     "outputs": []
    }
   ],
   "metadata": {}
  }
 ]
}