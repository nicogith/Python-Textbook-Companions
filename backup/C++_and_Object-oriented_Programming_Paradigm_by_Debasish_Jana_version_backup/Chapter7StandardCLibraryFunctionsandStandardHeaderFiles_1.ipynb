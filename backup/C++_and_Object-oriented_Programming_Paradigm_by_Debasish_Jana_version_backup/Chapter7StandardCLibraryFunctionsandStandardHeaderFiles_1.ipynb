{
 "metadata": {
  "name": "",
  "signature": "sha256:9b6ad12ed56624bfa853fa24e3a321079565b2d75c9e795594d61b36209d7c62"
 },
 "nbformat": 3,
 "nbformat_minor": 0,
 "worksheets": [
  {
   "cells": [
    {
     "cell_type": "heading",
     "level": 1,
     "metadata": {},
     "source": [
      "Chapter 7 Standard C Library Functions and Standard Header Files"
     ]
    },
    {
     "cell_type": "heading",
     "level": 2,
     "metadata": {},
     "source": [
      "Program Source Code 7.1, page no: 179"
     ]
    },
    {
     "cell_type": "code",
     "collapsed": false,
     "input": [
      "def lineno():                      #to print lineno\n",
      "   return inspect.currentframe().f_back.f_lineno\n",
      "x=10\n",
      "print 'First call to assert '    #assert\n",
      "assert(x==10)\n",
      "print 'Second call to assert '\n",
      "\n",
      "#assert(x!=10)  assertion failed will be seen\n",
      "#print 'Done '\n"
     ],
     "language": "python",
     "metadata": {},
     "outputs": [
      {
       "output_type": "stream",
       "stream": "stdout",
       "text": [
        "First call to assert \n",
        "Second call to assert \n"
       ]
      }
     ],
     "prompt_number": 1
    },
    {
     "cell_type": "heading",
     "level": 2,
     "metadata": {},
     "source": [
      "Program Source Code 7.2, page no: 181"
     ]
    },
    {
     "cell_type": "code",
     "collapsed": false,
     "input": [
      "SIZE=3\n",
      "\n",
      "str=['ab12cd','34ef56','gh78jk']     #str array declared\n",
      "\n",
      "NoofAlphabets=[0,0,0]\n",
      "temp=0\n",
      "for i in range(SIZE):\n",
      "    NoofAlphabets[i]=0\n",
      "\n",
      "    temp=str[i]\n",
      "    for j in range(len(temp)):\n",
      "       if temp[j].isalpha():               #isalpha to find if its alphabet\n",
      "            NoofAlphabets[i]=NoofAlphabets[i]+1\n",
      "    print 'Number of alphabets in string : ',str[i],\n",
      "    print 'is',NoofAlphabets[i]"
     ],
     "language": "python",
     "metadata": {},
     "outputs": [
      {
       "output_type": "stream",
       "stream": "stdout",
       "text": [
        "Number of alphabets in string :  ab12cd is 4\n",
        "Number of alphabets in string :  34ef56 is 2\n",
        "Number of alphabets in string :  gh78jk is 4\n"
       ]
      }
     ],
     "prompt_number": 2
    },
    {
     "cell_type": "heading",
     "level": 2,
     "metadata": {},
     "source": [
      "Program Source Code 7.3, page no: 185"
     ]
    },
    {
     "cell_type": "code",
     "collapsed": false,
     "input": [
      "import math\n",
      "\n",
      "PI=3.1415926535\n",
      "\n",
      "x=PI/2.0\n",
      "y=4.5\n",
      "z=2.30258093\n",
      "n=0\n",
      "print 'sine of PI/2 is',\n",
      "print int(math.sin(x))\n",
      "print 'cosine of PI/2 is',\n",
      "print math.cos(x)\n",
      "print 'exponent of %.5f'%z,'is',\n",
      "print math.exp(z)\n",
      "\n",
      "#frexp() take single argument and return a pair of values,rather than returning their second return value through output parameters\n",
      "#therefore no such thing occurs in python\n"
     ],
     "language": "python",
     "metadata": {},
     "outputs": [
      {
       "output_type": "stream",
       "stream": "stdout",
       "text": [
        "sine of PI/2 is 1\n",
        "cosine of PI/2 is 4.48965921698e-11\n",
        "exponent of 2.30258 is 9.99995837015\n"
       ]
      }
     ],
     "prompt_number": 3
    },
    {
     "cell_type": "heading",
     "level": 2,
     "metadata": {},
     "source": [
      "Program Source Code 7.4, page no: 188"
     ]
    },
    {
     "cell_type": "code",
     "collapsed": false,
     "input": [
      "def sum(first):        #function declared to compute the sum\n",
      "    j=1\n",
      "    i=first[0]\n",
      "    s=0\n",
      "    while not i==-1:\n",
      "        s+=i\n",
      "        i=first[j]\n",
      "        j+=1\n",
      "    return s\n",
      "        \n",
      "    \n",
      "print 'sum is: ',sum([2,3,4,-1])        #function called\n",
      "print 'sum is: ',sum([5,7,9,11,-1])\n",
      "print 'sum is: ',sum([-1])"
     ],
     "language": "python",
     "metadata": {},
     "outputs": [
      {
       "output_type": "stream",
       "stream": "stdout",
       "text": [
        "sum is:  9\n",
        "sum is:  32\n",
        "sum is:  0\n"
       ]
      }
     ],
     "prompt_number": 4
    },
    {
     "cell_type": "code",
     "collapsed": false,
     "input": [],
     "language": "python",
     "metadata": {},
     "outputs": []
    }
   ],
   "metadata": {}
  }
 ]
}