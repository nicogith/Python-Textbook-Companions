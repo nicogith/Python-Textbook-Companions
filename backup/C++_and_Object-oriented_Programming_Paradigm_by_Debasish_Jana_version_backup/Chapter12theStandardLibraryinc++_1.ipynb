{
 "metadata": {
  "name": "",
  "signature": "sha256:37eeb7256369ef346bafd66acd720e47dda1065c992d84bc8f397c4ba71e952b"
 },
 "nbformat": 3,
 "nbformat_minor": 0,
 "worksheets": [
  {
   "cells": [
    {
     "cell_type": "heading",
     "level": 1,
     "metadata": {},
     "source": [
      "Chapter 12: the Standard Library in C++"
     ]
    },
    {
     "cell_type": "heading",
     "level": 2,
     "metadata": {},
     "source": [
      "Program Source Code 12.1, page no: 368"
     ]
    },
    {
     "cell_type": "code",
     "collapsed": false,
     "input": [
      "import sys\n",
      "FormatString=[]    #for taking input\n",
      "a=10\n",
      "b=20\n",
      "c=a+b\n",
      "print 'ok...I have added them: ', a,'+' ,b,'=',c\n",
      "print 'Now you tell me your format string',\n",
      "print '(Max 40 characters)'\n",
      "print 'I will use that to show input numbers',\n",
      "print 'and their sum'\n",
      "sys.stdout.flush()                 #fflush stdin \n",
      "FormatString='The sum of two numbers'\n",
      "print FormatString,a,'and',b,'is',c               #displaying the numbers and their sum\n"
     ],
     "language": "python",
     "metadata": {},
     "outputs": [
      {
       "output_type": "stream",
       "stream": "stdout",
       "text": [
        "ok...I have added them:  10 + 20 = 30\n",
        "Now you tell me your format string (Max 40 characters)\n",
        "I will use that to show input numbers and their sum\n"
       ]
      },
      {
       "output_type": "stream",
       "stream": "stdout",
       "text": [
        "The sum of two numbers 10 and 20 is 30\n"
       ]
      }
     ],
     "prompt_number": 1
    },
    {
     "cell_type": "heading",
     "level": 2,
     "metadata": {},
     "source": [
      "Program Source Code 12.2, page no: 375"
     ]
    },
    {
     "cell_type": "code",
     "collapsed": false,
     "input": [
      "#variable declaration\n",
      "value=100\n",
      "print 'The decimal value is: ',value\n",
      "print 'The octal value is: ',oct(value)\n",
      "print 'The hexadecimal value is: ',hex(value)"
     ],
     "language": "python",
     "metadata": {},
     "outputs": [
      {
       "output_type": "stream",
       "stream": "stdout",
       "text": [
        "The decimal value is:  100\n",
        "The octal value is:  0144\n",
        "The hexadecimal value is:  0x64\n"
       ]
      }
     ],
     "prompt_number": 16
    },
    {
     "cell_type": "heading",
     "level": 2,
     "metadata": {},
     "source": [
      "Program Source Code 12.3, page no: 378"
     ]
    },
    {
     "cell_type": "code",
     "collapsed": false,
     "input": [
      "import math\n",
      "PI=22.0/7.0\n",
      "print '123456789012345678901234567890'\n",
      "print ''\n",
      "f=0.0\n",
      "\n",
      "while f<6.28571428:\n",
      "   print '{0:>8.3f}'.format(f),   #width(8)\n",
      "   print '{0:>13.4}'.format(math.sin(f))   #width(13)\n",
      "   f+=0.52380952\n",
      "print ''\n",
      "print 'sin(2.0*PI)=',math.sin(2.0*PI)\n"
     ],
     "language": "python",
     "metadata": {},
     "outputs": [
      {
       "output_type": "stream",
       "stream": "stdout",
       "text": [
        "123456789012345678901234567890\n",
        "\n",
        "   0.000           0.0\n",
        "   0.524        0.5002\n",
        "   1.048        0.8662\n",
        "   1.571           1.0\n",
        "   2.095        0.8656\n",
        "   2.619        0.4991\n",
        "   3.143     -0.001264\n",
        "   3.667       -0.5013\n",
        "   4.190       -0.8669\n",
        "   4.714          -1.0\n",
        "   5.238        -0.865\n",
        "   5.762        -0.498\n",
        "   6.286      0.002529\n",
        "\n",
        "sin(2.0*PI)= 0.00252897583892\n"
       ]
      }
     ],
     "prompt_number": 1
    },
    {
     "cell_type": "heading",
     "level": 2,
     "metadata": {},
     "source": [
      "Program Source Code 12.4, page no: 379"
     ]
    },
    {
     "cell_type": "code",
     "collapsed": false,
     "input": [
      "import string \n",
      "print '1234567890123456789012345678901234567890'\n",
      "print '{:*>10}'.format(100)\n",
      "print ''\n",
      "\n",
      "print '1234567890123456789012345678901234567890'\n",
      "if(-12.34567>0):\n",
      "   i='{0:>15.3e}'.format(-12.34567) #for ios::scientific\n",
      "   i='+'+i\n",
      "   print i\n",
      "else :\n",
      "   print '{0:e}'.format(123.23)\n",
      "i='{0:*>15.3f}'.format(-12.34567) #for ios::scientific\n",
      "\n",
      "print i\n",
      "print ''\n",
      "\n",
      "print '1234567890123456789012345678901234567890'\n",
      "print '{0:*>+10.3f}'.format(275.5) #for ios::showpos\n",
      "print ''\n",
      "\n",
      "print '1234567890123456789012345678901234567890'\n",
      "print '{:.>5}'.format('n'), #for ios::fill\n",
      "print '{:.>15}'.format(\"inverse_of_n\"),\n",
      "print '{:.>15}'.format(\"sum_of_terms\")\n",
      "\n",
      "sum=0\n",
      "n=1\n",
      "for n in xrange(1,11):\n",
      "    term=1.0/float(n)\n",
      "    sum+=term\n",
      "    print '+{:.>5}'.format(n),\n",
      "    print '{:.>14.4f}+'.format(term),\n",
      "    i='{0:.>13.4f}'.format(sum) #for ios::scientific\n",
      "   # i='+'+i\n",
      "    print i"
     ],
     "language": "python",
     "metadata": {},
     "outputs": [
      {
       "output_type": "stream",
       "stream": "stdout",
       "text": [
        "1234567890123456789012345678901234567890\n",
        "*******100\n",
        "\n",
        "1234567890123456789012345678901234567890\n",
        "1.232300e+02\n",
        "********-12.346\n",
        "\n",
        "1234567890123456789012345678901234567890\n",
        "**+275.500\n",
        "\n",
        "1234567890123456789012345678901234567890\n",
        "....n ...inverse_of_n ...sum_of_terms\n",
        "+....1 ........1.0000+ .......1.0000\n",
        "+....2 ........0.5000+ .......1.5000\n",
        "+....3 ........0.3333+ .......1.8333\n",
        "+....4 ........0.2500+ .......2.0833\n",
        "+....5 ........0.2000+ .......2.2833\n",
        "+....6 ........0.1667+ .......2.4500\n",
        "+....7 ........0.1429+ .......2.5929\n",
        "+....8 ........0.1250+ .......2.7179\n",
        "+....9 ........0.1111+ .......2.8290\n",
        "+...10 ........0.1000+ .......2.9290\n"
       ]
      }
     ],
     "prompt_number": 4
    },
    {
     "cell_type": "heading",
     "level": 2,
     "metadata": {},
     "source": [
      "Program Source Code 12.5, page no: 380"
     ]
    },
    {
     "cell_type": "code",
     "collapsed": false,
     "input": [
      "def currency(s):\n",
      "    i='Rs.'\n",
      "    return i\n",
      "\n",
      "def form(s):\n",
      "    i= '{:.>+10.2f}'.format(s)            #showpoint,fill,precision\n",
      "   \n",
      "    return i\n",
      "\n",
      "print currency(1234.5),form(1234.5)"
     ],
     "language": "python",
     "metadata": {},
     "outputs": [
      {
       "output_type": "stream",
       "stream": "stdout",
       "text": [
        "Rs. ..+1234.50\n"
       ]
      }
     ],
     "prompt_number": 2
    },
    {
     "cell_type": "heading",
     "level": 2,
     "metadata": {},
     "source": [
      "Program Source Code 12.6, page no: 382"
     ]
    },
    {
     "cell_type": "code",
     "collapsed": false,
     "input": [
      "str = raw_input('please input a line of message: ')              \n",
      "print str                   #display"
     ],
     "language": "python",
     "metadata": {},
     "outputs": [
      {
       "name": "stdout",
       "output_type": "stream",
       "stream": "stdout",
       "text": [
        "please input a line of message: hello, do you like C++ I/O\n"
       ]
      },
      {
       "output_type": "stream",
       "stream": "stdout",
       "text": [
        "hello, do you like C++ I/O\n"
       ]
      }
     ],
     "prompt_number": 11
    },
    {
     "cell_type": "heading",
     "level": 2,
     "metadata": {},
     "source": [
      "Program Source Code 12.7, page no: 383"
     ]
    },
    {
     "cell_type": "code",
     "collapsed": false,
     "input": [
      "SIZE=40\n",
      "line=[]*SIZE\n",
      "str = raw_input('please input a line terminated by .: ')\n",
      "if str!='.':\n",
      "    print str                   #display"
     ],
     "language": "python",
     "metadata": {},
     "outputs": [
      {
       "name": "stdout",
       "output_type": "stream",
       "stream": "stdout",
       "text": [
        "please input a line terminated by .: I am line\n"
       ]
      },
      {
       "output_type": "stream",
       "stream": "stdout",
       "text": [
        "I am line\n"
       ]
      }
     ],
     "prompt_number": 11
    },
    {
     "cell_type": "heading",
     "level": 2,
     "metadata": {},
     "source": [
      "Program Source Code 12.8, page no: 383"
     ]
    },
    {
     "cell_type": "code",
     "collapsed": false,
     "input": [
      "infile=open(\"TEST.txt\",\"r\")\n",
      "#open file for reading\n",
      "\n",
      "ch=infile.read(1)\n",
      "\n",
      "while ch != '':    #reading file\n",
      "    print ch,\n",
      "    ch=infile.read(1)\n",
      "    \n",
      "infile.close()"
     ],
     "language": "python",
     "metadata": {},
     "outputs": [
      {
       "output_type": "stream",
       "stream": "stdout",
       "text": [
        "1 0   2 0 \n",
        "3 0   4 0 \n",
        "5 0\n"
       ]
      }
     ],
     "prompt_number": 3
    },
    {
     "cell_type": "heading",
     "level": 2,
     "metadata": {},
     "source": [
      "Program Source Code 12.9, page no: 386"
     ]
    },
    {
     "cell_type": "code",
     "collapsed": false,
     "input": [
      "data1 = input(\"Please input a number: \")     #user input \n",
      "data2 = input(\"Please input another number: \")  #user input \n",
      "\n",
      "print 'Now I will add your numbers:',data1,'and',data2\n",
      "\n",
      "data3 = data1 + data2\n",
      "\n",
      "print 'And the result of this addition is:',data3\n",
      "\n",
      "print 'now I will store all these numbers (comma seperated) \\nIn file TEST.txt'\n",
      "\n",
      "outfile = open('TEST.txt','w')\n",
      "\n",
      "outfile.write(str(data1))              #writing in file\n",
      "outfile.write(',')\n",
      "outfile.write(str(data2))\n",
      "outfile.write(',')\n",
      "outfile.write(str(data3))\n",
      "\n",
      "print 'Now I will close the file TEST.txt'\n",
      "outfile.close()\n",
      "\n",
      "\n",
      "print 'Now I will reopen the file TEST.txt'\n",
      "infile = open('TEST.txt','r')\n",
      "\n",
      "a = infile.read(len(str(data1)))           #reading from file\n",
      "b = infile.read(1)\n",
      "c = infile.read(len(str(data2)))\n",
      "d = infile.read(1)\n",
      "e = infile.read(len(str(data3)))\n",
      "\n",
      "print 'value retrieved in first line is',\n",
      "print a,b,c,d,e\n",
      "\n",
      "infile.close()                    #closing the file\n",
      "\n",
      "print 'And the retrieved data are:'\n",
      "print a\n",
      "print c\n",
      "print e"
     ],
     "language": "python",
     "metadata": {},
     "outputs": [
      {
       "name": "stdout",
       "output_type": "stream",
       "stream": "stdout",
       "text": [
        "Please input a number: 40\n"
       ]
      },
      {
       "name": "stdout",
       "output_type": "stream",
       "stream": "stdout",
       "text": [
        "Please input another number: 50\n"
       ]
      },
      {
       "output_type": "stream",
       "stream": "stdout",
       "text": [
        "Now I will add your numbers: 40 and 50\n",
        "And the result of this addition is: 90\n",
        "now I will store all these numbers (comma seperated) \n",
        "In file TEST.txt\n",
        "Now I will close the file TEST.txt\n",
        "Now I will reopen the file TEST.txt\n",
        "value retrieved in first line is 40 , 50 , 90\n",
        "And the retrieved data are:\n",
        "40\n",
        "50\n",
        "90\n"
       ]
      }
     ],
     "prompt_number": 2
    },
    {
     "cell_type": "heading",
     "level": 2,
     "metadata": {},
     "source": [
      "Program Source Code 12.10, page no: 387"
     ]
    },
    {
     "cell_type": "code",
     "collapsed": false,
     "input": [
      "data1 = input(\"Please input a number: \")     #user input \n",
      "data2 = input(\"Please input another number: \")  #user input \n",
      "\n",
      "print 'Now I will add your numbers:',data1,'and',data2\n",
      "\n",
      "data3 = data1 + data2\n",
      "\n",
      "print 'And the result of this addition is:',data3\n",
      "\n",
      "print 'now I will store all these numbers (comma seperated) \\nIn file TEST.txt'\n",
      "\n",
      "outfile = open('TEST.txt','w')\n",
      "\n",
      "outfile.write(str(data1))              #writing in file\n",
      "outfile.write(',')\n",
      "outfile.write(str(data2))\n",
      "outfile.write(',')\n",
      "outfile.write(str(data3))\n",
      "\n",
      "print 'Now I will close the file TEST.txt'\n",
      "outfile.close()\n",
      "\n",
      "\n",
      "print 'Now I will reopen the file TEST.txt'\n",
      "infile = open('TEST.txt','r')\n",
      "\n",
      "a = infile.read(len(str(data1)))           #reading from file\n",
      "b = infile.read(1)\n",
      "c = infile.read(len(str(data2)))\n",
      "d = infile.read(1)\n",
      "e = infile.read(len(str(data3)))\n",
      "\n",
      "print 'value retrieved in first line is',\n",
      "print a,b,c,d,e\n",
      "\n",
      "infile.close()                    #closing the file\n",
      "\n",
      "print 'And the retrieved data are:'\n",
      "print a\n",
      "print c\n",
      "print e"
     ],
     "language": "python",
     "metadata": {},
     "outputs": [
      {
       "name": "stdout",
       "output_type": "stream",
       "stream": "stdout",
       "text": [
        "Please input a number: 40\n"
       ]
      },
      {
       "name": "stdout",
       "output_type": "stream",
       "stream": "stdout",
       "text": [
        "Please input another number: 50\n"
       ]
      },
      {
       "output_type": "stream",
       "stream": "stdout",
       "text": [
        "Now I will add your numbers: 40 and 50\n",
        "And the result of this addition is: 90\n",
        "now I will store all these numbers (comma seperated) \n",
        "In file TEST.txt\n",
        "Now I will close the file TEST.txt\n",
        "Now I will reopen the file TEST.txt\n",
        "value retrieved in first line is 40 , 50 , 90\n",
        "And the retrieved data are:\n",
        "40\n",
        "50\n",
        "90\n"
       ]
      }
     ],
     "prompt_number": 1
    },
    {
     "cell_type": "code",
     "collapsed": false,
     "input": [],
     "language": "python",
     "metadata": {},
     "outputs": []
    }
   ],
   "metadata": {}
  }
 ]
}