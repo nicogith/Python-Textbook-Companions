{
 "metadata": {
  "name": "",
  "signature": "sha256:acb52340884de8495a61f4193d51509f25747719e472ce4d24e701adb17c63d5"
 },
 "nbformat": 3,
 "nbformat_minor": 0,
 "worksheets": [
  {
   "cells": [
    {
     "cell_type": "heading",
     "level": 1,
     "metadata": {},
     "source": [
      "Chapter 2 Declarations and Expressions"
     ]
    },
    {
     "cell_type": "heading",
     "level": 2,
     "metadata": {},
     "source": [
      "Program Source Code 2.1, page no: 41"
     ]
    },
    {
     "cell_type": "code",
     "collapsed": false,
     "input": [
      "from ctypes import *\n",
      "\n",
      "SignedInt = c_int(2000000000)\n",
      "\n",
      "unsignVar = c_uint(2000000000)\n",
      "SignedResult=c_int(0)\n",
      "UnsignedInt=c_uint(0)\n",
      "\n",
      "#calculation result exceeds range of permitted values\n",
      "SignedResult.value = (SignedInt.value * 2) \n",
      "SignedResult.value =SignedResult.value / 3\n",
      "\n",
      "#calculation result is within permissible range\n",
      "UnsignedResult = (SignedInt.value * 2) / 3;\n",
      "\n",
      "print \"Demonstrates wrong result caused by exceeding range\"\n",
      "print \"Signed Integer Calculation giving result as: \"\n",
      "print \"(\",SignedInt.value,\n",
      "print \"*2)/3= \",SignedResult.value\n",
      "print \"Demonstrates correct result caused by permissible range\"\n",
      "print \"Unsigned Integer Calculation giving result as: \"\n",
      "print \"(\",UnsignedInt.value,\n",
      "print \"*2)/3= \",UnsignedResult"
     ],
     "language": "python",
     "metadata": {},
     "outputs": [
      {
       "output_type": "stream",
       "stream": "stdout",
       "text": [
        "Demonstrates wrong result caused by exceeding range\n",
        "Signed Integer Calculation giving result as: \n",
        "( 2000000000 *2)/3=  -98322432\n",
        "Demonstrates correct result caused by permissible range\n",
        "Unsigned Integer Calculation giving result as: \n",
        "( 0 *2)/3=  1333333333\n"
       ]
      }
     ],
     "prompt_number": 1
    },
    {
     "cell_type": "heading",
     "level": 2,
     "metadata": {},
     "source": [
      "Program Source Code 2.2, page no: 47"
     ]
    },
    {
     "cell_type": "code",
     "collapsed": false,
     "input": [
      "#variable declaraton\n",
      "a=10\n",
      "b=5\n",
      "print 'a= ',a,   #printing the values\n",
      "print ', b= ',b\n",
      "a=b\n",
      "print 'a= ',a,\n",
      "print ', b= ',b\n",
      "b=7\n",
      "print 'a= ',a,\n",
      "print ', b= ',b"
     ],
     "language": "python",
     "metadata": {},
     "outputs": [
      {
       "output_type": "stream",
       "stream": "stdout",
       "text": [
        "a=  10 , b=  5\n",
        "a=  5 , b=  5\n",
        "a=  5 , b=  7\n"
       ]
      }
     ],
     "prompt_number": 2
    },
    {
     "cell_type": "heading",
     "level": 2,
     "metadata": {},
     "source": [
      "Program Source Code 2.3, page no: 49"
     ]
    },
    {
     "cell_type": "code",
     "collapsed": false,
     "input": [
      "#The ++ operator is not available in Python\n",
      "a=10\n",
      "b=5\n",
      "c=15\n",
      "print 'a= ',a,\n",
      "print ', b= ',b,\n",
      "print ', c= ',c\n",
      "a=a+1   #no preincrement syntax in python\n",
      "c=a+b\n",
      "b=b+1\n",
      "print 'a= ',a,\n",
      "print ', b= ',b,\n",
      "print ', c= ',c"
     ],
     "language": "python",
     "metadata": {},
     "outputs": [
      {
       "output_type": "stream",
       "stream": "stdout",
       "text": [
        "a=  10 , b=  5 , c=  15\n",
        "a=  11 , b=  6 , c=  16\n"
       ]
      }
     ],
     "prompt_number": 3
    },
    {
     "cell_type": "heading",
     "level": 1,
     "metadata": {},
     "source": [
      "Program Source Code 2.4, page no: 50"
     ]
    },
    {
     "cell_type": "code",
     "collapsed": false,
     "input": [
      "a=10\n",
      "b=5\n",
      "c=15\n",
      "print 'a= ',a,\n",
      "print ', b= ',b,\n",
      "print ', c= ',c  #no preincrement syntax in python\n",
      "c=a+b\n",
      "a=a+1\n",
      "b=b+1\n",
      "print 'a= ',a,\n",
      "print ', b= ',b,\n",
      "print ', c= ',c"
     ],
     "language": "python",
     "metadata": {},
     "outputs": [
      {
       "output_type": "stream",
       "stream": "stdout",
       "text": [
        "a=  10 , b=  5 , c=  15\n",
        "a=  11 , b=  6 , c=  15\n"
       ]
      }
     ],
     "prompt_number": 6
    },
    {
     "cell_type": "heading",
     "level": 2,
     "metadata": {},
     "source": [
      "Program Source Code 2.5, page no: 54"
     ]
    },
    {
     "cell_type": "code",
     "collapsed": false,
     "input": [
      "from ctypes import *\n",
      "       \n",
      "SignedShort = c_short(30000)\n",
      "\n",
      "SignedShort.value=SignedShort.value*10\n",
      "SignedShort.value=SignedShort.value/10\n",
      "print 'SignedShort= ',SignedShort.value       #wrong answer\n",
      "\n",
      "SignedShort=30000\n",
      "\n",
      "#result within limits\n",
      "SignedLong=(c_long)(SignedShort*10)\n",
      "SignedLong=(c_long)(SignedShort/10)\n",
      "print 'SignedShort= ',SignedShort      #right answer"
     ],
     "language": "python",
     "metadata": {},
     "outputs": [
      {
       "output_type": "stream",
       "stream": "stdout",
       "text": [
        "SignedShort=  -2768\n",
        "SignedShort=  30000\n"
       ]
      }
     ],
     "prompt_number": 5
    },
    {
     "cell_type": "code",
     "collapsed": false,
     "input": [],
     "language": "python",
     "metadata": {},
     "outputs": []
    }
   ],
   "metadata": {}
  }
 ]
}