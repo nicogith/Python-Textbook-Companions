{
 "metadata": {
  "name": "",
  "signature": "sha256:da54693f4a47e29d6add6a87ce31b222819e27a7eec6b27b19e48f41a0d957d8"
 },
 "nbformat": 3,
 "nbformat_minor": 0,
 "worksheets": [
  {
   "cells": [
    {
     "cell_type": "heading",
     "level": 1,
     "metadata": {},
     "source": [
      "Chapter 9: Operator Overloading"
     ]
    },
    {
     "cell_type": "heading",
     "level": 2,
     "metadata": {},
     "source": [
      "Program Source Code 9.1, page no: 246"
     ]
    },
    {
     "cell_type": "code",
     "collapsed": false,
     "input": [
      "def gcd(a,b):  #function gcd\n",
      "    if a>b:\n",
      "        c=a\n",
      "        a=b\n",
      "        b=c\n",
      "    c=b%a\n",
      "    \n",
      "    while c!=0:\n",
      "        b=a\n",
      "        a=c\n",
      "        c=b%a\n",
      "    return a\n",
      "\n",
      "def lcm(a,b):  #function lcm\n",
      "    g=gcd(a,b)\n",
      "    l=g*(a/g)*(b/g)\n",
      "    return l\n",
      "\n",
      "class Fraction: #class\n",
      "\n",
      "    def __init__(self,a=0,b=1,anotherfraction=None):         \n",
      "        if anotherfraction==None:               #normal constructor\n",
      "            self.__num=a\n",
      "            self.__denom=b\n",
      "            print 'fraction object (',self.__num,'/',self.__denom,') created'\n",
      "        else:                          #copy constructor\n",
      "            self.__num=aanotherfraction.self.__num\n",
      "            self.__denom=anotherfraction.self.__denom\n",
      "            print 'fraction object (',self.__num,'/',self.__denom,')created(copy)'\n",
      "            \n",
      "            \n",
      "    def __del__(self):       #destructor\n",
      "          print 'fraction object (',self.__num,'/',self.__denom,') destroyed' \n",
      "            \n",
      "            \n",
      "            \n",
      "    #Overload +\n",
      "    def __add__(self,operand2):\n",
      "        tmp=Fraction()\n",
      "        l=lcm(self.__denom,operand2.__denom)\n",
      "        tmp.__num=self.__num*(l/self.__denom)+operand2.__num*(l/operand2.__denom)\n",
      "        tmp.__denom=l\n",
      "        g=gcd(tmp.__num,tmp.__denom)\n",
      "        tmp.__num/=g\n",
      "        tmp.__denom/=g\n",
      "        print 'In overloaded Fraction::operator + : ( ',self.__num,'/',self.__denom,') + (',operand2.__num,'/',operand2.__denom,') = (',tmp.__num,'/',tmp.__denom,')'\n",
      "        return tmp\n",
      "    \n",
      "    #overloading =   \n",
      "    def __assign__(self,rval):\n",
      "        self.__num=rval.self.__num\n",
      "        self.__denom=rval.self.__denom\n",
      "        print 'In overloaded Fraction::operator = : ( ',rval.self.__num,'/',rval.self.__denom,') -> (',self.__num,'/',self.__denom,')'\n",
      "        return self\n",
      "    \n",
      "    \n",
      "    \n",
      "    \n",
      "    \n",
      "print 'Please enter values of numerator and denominator:'    \n",
      "n=input()\n",
      "d=input()\n",
      "f1=Fraction(n,d)\n",
      "\n",
      "print 'Please enter another set of numerator and denominator: '\n",
      "n=input()\n",
      "d=input()\n",
      "f2=Fraction(n,d)\n",
      "b=f2\n",
      "f3=Fraction()\n",
      "f3=f1+f2\n",
      "f3=f2=f1\n",
      "    "
     ],
     "language": "python",
     "metadata": {},
     "outputs": [
      {
       "output_type": "stream",
       "stream": "stdout",
       "text": [
        "Please enter values of numerator and denominator:\n"
       ]
      },
      {
       "name": "stdout",
       "output_type": "stream",
       "stream": "stdout",
       "text": [
        "3\n"
       ]
      },
      {
       "name": "stdout",
       "output_type": "stream",
       "stream": "stdout",
       "text": [
        "4\n"
       ]
      },
      {
       "output_type": "stream",
       "stream": "stdout",
       "text": [
        "fraction object ( 3 / 4 ) created\n",
        "Please enter another set of numerator and denominator: \n"
       ]
      },
      {
       "name": "stdout",
       "output_type": "stream",
       "stream": "stdout",
       "text": [
        "5\n"
       ]
      },
      {
       "name": "stdout",
       "output_type": "stream",
       "stream": "stdout",
       "text": [
        "6\n"
       ]
      },
      {
       "output_type": "stream",
       "stream": "stdout",
       "text": [
        "fraction object ( 5 / 6 ) created\n",
        "fraction object ( 0 / 1 ) created\n",
        "fraction object ( 0 / 1 ) created\n",
        "In overloaded Fraction::operator + : (  3 / 4 ) + ( 5 / 6 ) = ( 19 / 12 )\n",
        "fraction object ( 0 / 1 ) destroyed\n",
        "fraction object ( 19 / 12 ) destroyed\n"
       ]
      }
     ],
     "prompt_number": 1
    },
    {
     "cell_type": "heading",
     "level": 2,
     "metadata": {},
     "source": [
      "Program Source Code 9.2, page no: 265"
     ]
    },
    {
     "cell_type": "code",
     "collapsed": false,
     "input": [
      "class Integer: #class defined\n",
      "    def __init__(self,a=None,arg=None):          #constructor\n",
      "        if arg==None:\n",
      "            self.__i=a\n",
      "        else:\n",
      "            self.__i=arg.__i\n",
      "            \n",
      "        def __del__(self):\n",
      "            pass\n",
      "        \n",
      "    #Overload +\n",
      "    def __add__(self,arg): \n",
      "        tmp=Integer()\n",
      "        tmp.__i=self.__i + arg.__i         #These are integer additions\n",
      "        return tmp        \n",
      "        \n",
      "    #Overload assignment\n",
      "    def __assign__(self,arg):\n",
      "        self.__i=arg.__i                  #These are integer assignments                 \n",
      "        return self\n",
      "    \n",
      "    #Overload the increment operator\n",
      "    def __iadd__(self,arg):\n",
      "        tmp=Integer()\n",
      "        tmp=self\n",
      "        self.__i+=arg\n",
      "        return self\n",
      "    \n",
      "    def __int(self):\n",
      "        return self.__i\n",
      "a=5\n",
      "b=Integer() #object of integer class\n",
      "b=5\n",
      "a+=1\n",
      "a=a+a\n",
      "a+=1\n",
      "b=b+1\n",
      "b=b+b\n",
      "print 'a=',a\n",
      "print 'b=',b\n",
      "\n",
      "\n",
      "    "
     ],
     "language": "python",
     "metadata": {},
     "outputs": [
      {
       "output_type": "stream",
       "stream": "stdout",
       "text": [
        "a= 13\n",
        "b= 12\n"
       ]
      }
     ],
     "prompt_number": 20
    },
    {
     "cell_type": "heading",
     "level": 2,
     "metadata": {},
     "source": [
      "Program Source Code 9.3, page no: 269"
     ]
    },
    {
     "cell_type": "code",
     "collapsed": false,
     "input": [
      "\n",
      "class Fraction:\n",
      "    __num=None\n",
      "    __denom=None\n",
      "    def __init__(self,a=0,b=1): #constructor\n",
      "            self.__num=a\n",
      "            self.__denom=b\n",
      "            print 'Constructor call: Fraction object (',self.__num,'/',self.__denom,') created'\n",
      "            \n",
      "    def __del__(self):\n",
      "        print 'Fraction object (',self.__num,'/',self.__denom,') destroyed'\n",
      "        \n",
      "    # Python doesn't have >> operator for input so we are just using input function    \n",
      "    def input(self):\n",
      "        self.__num = int(raw_input())\n",
      "        self.__denom = int(raw_input())\n",
      "        \n",
      "        \n",
      "     #Python does not use << operator for printing. So here we are just declaring function name as print_   \n",
      "    def _repr_(self):\n",
      "        print 'The fraction is ',\n",
      "        print self.__num , '/', self.__denom\n",
      "    \n",
      "    \n",
      "f1=Fraction()\n",
      "print 'Please enter the values of numerator and denominator: '\n",
      "f1.input()\n",
      "f1._repr_()\n",
      "\n",
      "    \n"
     ],
     "language": "python",
     "metadata": {},
     "outputs": [
      {
       "output_type": "stream",
       "stream": "stdout",
       "text": [
        "Constructor call: Fraction object ( 0 / 1 ) created\n",
        "Please enter the values of numerator and denominator: \n"
       ]
      },
      {
       "name": "stdout",
       "output_type": "stream",
       "stream": "stdout",
       "text": [
        "3\n"
       ]
      },
      {
       "name": "stdout",
       "output_type": "stream",
       "stream": "stdout",
       "text": [
        "4\n"
       ]
      },
      {
       "output_type": "stream",
       "stream": "stdout",
       "text": [
        "The fraction is  3 / 4\n"
       ]
      }
     ],
     "prompt_number": 6
    },
    {
     "cell_type": "heading",
     "level": 2,
     "metadata": {},
     "source": [
      "Program Source Code 9.4, page no: 272"
     ]
    },
    {
     "cell_type": "code",
     "collapsed": false,
     "input": [
      "class Fraction:\n",
      "\n",
      "    def __init__(self,a=0,b=1):         \n",
      "                                        #normal constructor\n",
      "            self.__num=a\n",
      "            self.__denom=b\n",
      "            print 'Constructor Call : fraction object (',self.__num,'/',self.__denom,') created'\n",
      "            \n",
      "    def __del__(self):       #destructor\n",
      "            print 'fraction object (',self.__num,'/',self.__denom,') destroyed' \n",
      "            \n",
      "    def __new__(typ, sz):\n",
      "            print 'Fraction:: operator new called to'\n",
      "            print 'allocate ',sz,'bytes'\n",
      "            return AllocateMem(sz)  \n",
      "        \n",
      "def AllocateMem(sz):\n",
      "    if pm==NULL:\n",
      "        print 'failed to allocate memory'\n",
      "        exit(0)\n",
      "    else:\n",
      "        print 'Memory successfully allocated '\n",
      "    return pm\n",
      "\n",
      "def FreeMem(m):\n",
      "    pass\n",
      "def __new__(typ, *args, **kwargs):\n",
      "    obj = object.__new__(typ, *args, **kwargs)\n",
      "    print 'Global operator new called to'\n",
      "    print 'allocate ',sz,'bytes'\n",
      "    return AllocateMem(sz)\n",
      "            \n",
      "\n",
      "pf1=[]*4\n",
      "pf2=[]\n",
      "\n",
      "print 'Memory succesfully allocated'\n",
      "for i in xrange(4): #allocate array\n",
      "                pf1.append(Fraction())\n",
      "print 'Memory succesfully allocated'\n",
      "for i in range(1):\n",
      "    pf2.append(Fraction()) \n",
      "\n",
      "del pf2[0] #delete object\n",
      "print 'Fraction::operator delete called'\n",
      "\n",
      "for i in range(3,-1,-1):\n",
      "                del pf1[i] #delete array\n",
      "                \n",
      "\n",
      "print 'Global operator delete called'\n",
      "\n",
      "\n"
     ],
     "language": "python",
     "metadata": {},
     "outputs": [
      {
       "output_type": "stream",
       "stream": "stdout",
       "text": [
        "Memory succesfully allocated\n",
        "Constructor Call : fraction object ( 0 / 1 ) created\n",
        "Constructor Call : fraction object ( 0 / 1 ) created\n",
        "Constructor Call : fraction object ( 0 / 1 ) created\n",
        "Constructor Call : fraction object ( 0 / 1 ) created\n",
        "Memory succesfully allocated\n",
        "Constructor Call : fraction object ( 0 / 1 ) created\n",
        "fraction object ( 0 / 1 ) destroyed\n",
        "Fraction::operator delete called\n",
        "fraction object ( 0 / 1 ) destroyed\n",
        "fraction object ( 0 / 1 ) destroyed\n",
        "fraction object ( 0 / 1 ) destroyed\n",
        "fraction object ( 0 / 1 ) destroyed\n",
        "Global operator delete called\n"
       ]
      }
     ],
     "prompt_number": 28
    },
    {
     "cell_type": "code",
     "collapsed": false,
     "input": [],
     "language": "python",
     "metadata": {},
     "outputs": []
    }
   ],
   "metadata": {}
  }
 ]
}