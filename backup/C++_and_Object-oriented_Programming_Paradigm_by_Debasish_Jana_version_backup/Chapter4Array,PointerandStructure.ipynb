{
 "metadata": {
  "name": "",
  "signature": "sha256:e99725723841b6e891c1e1d29697e0bb89c4c06632a6f1194c68aec646ba1649"
 },
 "nbformat": 3,
 "nbformat_minor": 0,
 "worksheets": [
  {
   "cells": [
    {
     "cell_type": "heading",
     "level": 1,
     "metadata": {},
     "source": [
      "Chapter 4 Array,Pointer and Structure"
     ]
    },
    {
     "cell_type": "heading",
     "level": 2,
     "metadata": {},
     "source": [
      "Program Source Code 4.1, page no: 100"
     ]
    },
    {
     "cell_type": "code",
     "collapsed": false,
     "input": [
      "SIZE=6\n",
      "sales=[]     #array declared\n",
      "print 'Please input sales figure for',SIZE,'days' #user input\n",
      "for i in range(SIZE):\n",
      "    x=input()\n",
      "    sales.append(x)\n",
      "total=0\n",
      "for j in range(SIZE):\n",
      "    total+=sales[j]\n",
      "average=0                       \n",
      "average=total/SIZE\n",
      "print 'Average Sales=',average"
     ],
     "language": "python",
     "metadata": {},
     "outputs": [
      {
       "output_type": "stream",
       "stream": "stdout",
       "text": [
        "Please input sales figure for 6 days\n"
       ]
      },
      {
       "name": "stdout",
       "output_type": "stream",
       "stream": "stdout",
       "text": [
        "352.44\n"
       ]
      },
      {
       "name": "stdout",
       "output_type": "stream",
       "stream": "stdout",
       "text": [
        "867.70\n"
       ]
      },
      {
       "name": "stdout",
       "output_type": "stream",
       "stream": "stdout",
       "text": [
        "781.32\n"
       ]
      },
      {
       "name": "stdout",
       "output_type": "stream",
       "stream": "stdout",
       "text": [
        "867.35\n"
       ]
      },
      {
       "name": "stdout",
       "output_type": "stream",
       "stream": "stdout",
       "text": [
        "746.21\n"
       ]
      },
      {
       "name": "stdout",
       "output_type": "stream",
       "stream": "stdout",
       "text": [
        "189.45\n"
       ]
      },
      {
       "output_type": "stream",
       "stream": "stdout",
       "text": [
        "Average Sales= 634.078333333\n"
       ]
      }
     ],
     "prompt_number": 1
    },
    {
     "cell_type": "heading",
     "level": 2,
     "metadata": {},
     "source": [
      "Program Source Code 4.2, page no: 102"
     ]
    },
    {
     "cell_type": "code",
     "collapsed": false,
     "input": [
      "b=[[1,2,3,4],[5,6,7,8],[9,10,11,12]]  #2-dimensional array declared\n",
      "\n",
      "for i in range(len(b)):       #for loop\n",
      " for j in range(len(b[i])):\n",
      "   print 'b[',i,']',\n",
      "   print '[',j,']=',b[i][j]"
     ],
     "language": "python",
     "metadata": {},
     "outputs": [
      {
       "output_type": "stream",
       "stream": "stdout",
       "text": [
        "b[ 0 ] [ 0 ]= 1\n",
        "b[ 0 ] [ 1 ]= 2\n",
        "b[ 0 ] [ 2 ]= 3\n",
        "b[ 0 ] [ 3 ]= 4\n",
        "b[ 1 ] [ 0 ]= 5\n",
        "b[ 1 ] [ 1 ]= 6\n",
        "b[ 1 ] [ 2 ]= 7\n",
        "b[ 1 ] [ 3 ]= 8\n",
        "b[ 2 ] [ 0 ]= 9\n",
        "b[ 2 ] [ 1 ]= 10\n",
        "b[ 2 ] [ 2 ]= 11\n",
        "b[ 2 ] [ 3 ]= 12\n"
       ]
      }
     ],
     "prompt_number": 4
    },
    {
     "cell_type": "heading",
     "level": 2,
     "metadata": {},
     "source": [
      "Program Source Code 4.3, page no: 104"
     ]
    },
    {
     "cell_type": "code",
     "collapsed": false,
     "input": [
      "DISTRICTS=4\n",
      "MONTHS=3\n",
      "sales=[[0] * (DISTRICTS +1)for i in range(MONTHS+1)]\n",
      "for d in range(DISTRICTS):\n",
      "    for m in range(MONTHS):\n",
      "        print 'Enter sales for district ',d+1,\n",
      "        print 'months',m+1\n",
      "        sales[d][m]=input()\n",
      "print '                                 Month'\n",
      "print '                    1                 2                 3'                         \n",
      "for d in range(DISTRICTS):\n",
      "    print ''\n",
      "    print 'District',d+1,\n",
      "    for m in range(MONTHS):\n",
      "        print '       ',sales[d][m],"
     ],
     "language": "python",
     "metadata": {},
     "outputs": [
      {
       "output_type": "stream",
       "stream": "stdout",
       "text": [
        "Enter sales for district  1 months 1\n"
       ]
      },
      {
       "name": "stdout",
       "output_type": "stream",
       "stream": "stdout",
       "text": [
        "3964.23\n"
       ]
      },
      {
       "output_type": "stream",
       "stream": "stdout",
       "text": [
        "Enter sales for district  1 months 2\n"
       ]
      },
      {
       "name": "stdout",
       "output_type": "stream",
       "stream": "stdout",
       "text": [
        "4135.87\n"
       ]
      },
      {
       "output_type": "stream",
       "stream": "stdout",
       "text": [
        "Enter sales for district  1 months 3\n"
       ]
      },
      {
       "name": "stdout",
       "output_type": "stream",
       "stream": "stdout",
       "text": [
        "4397.98\n"
       ]
      },
      {
       "output_type": "stream",
       "stream": "stdout",
       "text": [
        "Enter sales for district  2 months 1\n"
       ]
      },
      {
       "name": "stdout",
       "output_type": "stream",
       "stream": "stdout",
       "text": [
        "867.75\n"
       ]
      },
      {
       "output_type": "stream",
       "stream": "stdout",
       "text": [
        "Enter sales for district  2 months 2\n"
       ]
      },
      {
       "name": "stdout",
       "output_type": "stream",
       "stream": "stdout",
       "text": [
        "923.59\n"
       ]
      },
      {
       "output_type": "stream",
       "stream": "stdout",
       "text": [
        "Enter sales for district  2 months 3\n"
       ]
      },
      {
       "name": "stdout",
       "output_type": "stream",
       "stream": "stdout",
       "text": [
        "1037.01\n"
       ]
      },
      {
       "output_type": "stream",
       "stream": "stdout",
       "text": [
        "Enter sales for district  3 months 1\n"
       ]
      },
      {
       "name": "stdout",
       "output_type": "stream",
       "stream": "stdout",
       "text": [
        "12.77\n"
       ]
      },
      {
       "output_type": "stream",
       "stream": "stdout",
       "text": [
        "Enter sales for district  3 months 2\n"
       ]
      },
      {
       "name": "stdout",
       "output_type": "stream",
       "stream": "stdout",
       "text": [
        "378.32\n"
       ]
      },
      {
       "output_type": "stream",
       "stream": "stdout",
       "text": [
        "Enter sales for district  3 months 3\n"
       ]
      },
      {
       "name": "stdout",
       "output_type": "stream",
       "stream": "stdout",
       "text": [
        "798.22\n"
       ]
      },
      {
       "output_type": "stream",
       "stream": "stdout",
       "text": [
        "Enter sales for district  4 months 1\n"
       ]
      },
      {
       "name": "stdout",
       "output_type": "stream",
       "stream": "stdout",
       "text": [
        "2983.53\n"
       ]
      },
      {
       "output_type": "stream",
       "stream": "stdout",
       "text": [
        "Enter sales for district  4 months 2\n"
       ]
      },
      {
       "name": "stdout",
       "output_type": "stream",
       "stream": "stdout",
       "text": [
        "3903.73\n"
       ]
      },
      {
       "output_type": "stream",
       "stream": "stdout",
       "text": [
        "Enter sales for district  4 months 3\n"
       ]
      },
      {
       "name": "stdout",
       "output_type": "stream",
       "stream": "stdout",
       "text": [
        "9494.98\n"
       ]
      },
      {
       "output_type": "stream",
       "stream": "stdout",
       "text": [
        "                                 Month\n",
        "                    1                 2                 3\n",
        "\n",
        "District 1         3964.23         4135.87         4397.98 \n",
        "District 2         867.75         923.59         1037.01 \n",
        "District 3         12.77         378.32         798.22 \n",
        "District 4         2983.53         3903.73         9494.98\n"
       ]
      }
     ],
     "prompt_number": 17
    },
    {
     "cell_type": "heading",
     "level": 2,
     "metadata": {},
     "source": [
      "Program Source Code 4.4, page no: 107"
     ]
    },
    {
     "cell_type": "code",
     "collapsed": false,
     "input": [
      "DISRICTS = 4\n",
      "MONTHS = 3\n",
      "\n",
      "sales = [[1432.07,234.6,654.01],\n",
      "         [327,13838.3,12589.9],\n",
      "         [9328.34,934,4492.3],\n",
      "         [12838.3,2332.63,32.93]]\n",
      "        \n",
      "print '\\n'\n",
      "print '                             month'\n",
      "print '                 1           2           3',\n",
      "\n",
      "for d in range(DISRICTS):\n",
      "    print '\\nDistrict',d+1,\n",
      "    for m in range(MONTHS):\n",
      "        print '%10.2f' %(sales[d][m]),"
     ],
     "language": "python",
     "metadata": {},
     "outputs": [
      {
       "output_type": "stream",
       "stream": "stdout",
       "text": [
        "\n",
        "\n",
        "                             month\n",
        "                 1           2           3 \n",
        "District 1    1432.07     234.60     654.01 \n",
        "District 2     327.00   13838.30   12589.90 \n",
        "District 3    9328.34     934.00    4492.30 \n",
        "District 4   12838.30    2332.63      32.93\n"
       ]
      }
     ],
     "prompt_number": 2
    },
    {
     "cell_type": "heading",
     "level": 2,
     "metadata": {},
     "source": [
      "Program Source Code 4.5, page no: 109"
     ]
    },
    {
     "cell_type": "code",
     "collapsed": false,
     "input": [
      "Var1=11\n",
      "Var2=22.0\n",
      "Var3=33\n",
      "print 'main starts at '\n",
      "print 'Var1 of type int is located at ',(id(Var1)),\n",
      "print 'having value= ',Var1\n",
      "print 'Var1 of type double is located at ',(id(Var2)),\n",
      "print 'having value= ',Var2\n",
      "print 'Var1 of type int is located at ',(id(Var3)),\n",
      "print 'having value= ',Var3"
     ],
     "language": "python",
     "metadata": {},
     "outputs": [
      {
       "output_type": "stream",
       "stream": "stdout",
       "text": [
        "main starts at \n",
        "Var1 of type int is located at  30963240 having value=  11\n",
        "Var1 of type double is located at  47572144 having value=  22.0\n",
        "Var1 of type int is located at  30962712 having value=  33\n"
       ]
      }
     ],
     "prompt_number": 6
    },
    {
     "cell_type": "heading",
     "level": 2,
     "metadata": {},
     "source": [
      "Program Source Code 4.6, page no: 114"
     ]
    },
    {
     "cell_type": "code",
     "collapsed": false,
     "input": [
      "from ctypes import *\n",
      "i=c_int(6)\n",
      "j=c_int(7)\n",
      "\n",
      "ptr=pointer(i)\n",
      "ptr[0]=10    #*ptr=10\n",
      "\n",
      "ptr=pointer(j)\n",
      "ptr[0]=20   #*ptr=20\n",
      "\n",
      "print 'i=',i.value,'j=',j.value"
     ],
     "language": "python",
     "metadata": {},
     "outputs": [
      {
       "output_type": "stream",
       "stream": "stdout",
       "text": [
        "i= 10 j= 20\n"
       ]
      }
     ],
     "prompt_number": 4
    },
    {
     "cell_type": "heading",
     "level": 2,
     "metadata": {},
     "source": [
      "Program Source Code 4.6a, page no: 115 "
     ]
    },
    {
     "cell_type": "code",
     "collapsed": false,
     "input": [
      "from ctypes import * \n",
      "\n",
      "#variable declaration\n",
      "i=c_int(6)\n",
      "j=c_int(7)\n",
      "\n",
      "\n",
      "ptri=pointer(i)   #*ptri=&i\n",
      "ptrj=pointer(j)\n",
      "ptri[0]=10\n",
      "ptrj[0]=ptri[0]\n",
      "ptrj=ptri\n",
      "ptrj[0]=20\n",
      "print 'i=',i.value,'j=',j.value"
     ],
     "language": "python",
     "metadata": {},
     "outputs": [
      {
       "output_type": "stream",
       "stream": "stdout",
       "text": [
        "i= 20 j= 10\n"
       ]
      }
     ],
     "prompt_number": 3
    },
    {
     "cell_type": "heading",
     "level": 2,
     "metadata": {},
     "source": [
      "Program Source Code 4.7, page no: 117"
     ]
    },
    {
     "cell_type": "code",
     "collapsed": false,
     "input": [
      "i=c_int(6)\n",
      "ptri=pointer(i)    \n",
      "pptri=pointer(ptri)     #**pptri\n",
      "\n",
      "print 'i=',i.value\n",
      "print '*ptri=',ptri[0]\n",
      "print '**pptri=',pptri[0][0]"
     ],
     "language": "python",
     "metadata": {},
     "outputs": [
      {
       "output_type": "stream",
       "stream": "stdout",
       "text": [
        "i= 6\n",
        "*ptri= 6\n",
        "**pptri= 6\n"
       ]
      }
     ],
     "prompt_number": 5
    },
    {
     "cell_type": "heading",
     "level": 2,
     "metadata": {},
     "source": [
      "Program Source Code 4.8, page no: 121"
     ]
    },
    {
     "cell_type": "code",
     "collapsed": false,
     "input": [
      "from ctypes import * \n",
      "iarr=[65,66,67,68]      #array declared\n",
      "ptri=iarr\n",
      "\n",
      "\n",
      "ptrc=POINTER(c_char)\n",
      "ptrs=POINTER(c_long)\n",
      "\n",
      "  #type case int to char\n",
      "for i in range(4):                 #for loop\n",
      "    print 'ptri[',i,']=',ptri[i]       #getting the pointer value\n",
      "print ''\n",
      "for i in range(4):\n",
      "    ptrc=pointer(c_char(chr(iarr[i]))) \n",
      "    print 'ptrc[',i,']=',ptrc[0]        #getting the pointer value\n",
      "print ''\n",
      "\n",
      "for i in range(4):\n",
      "    ptrc=pointer(c_long(long(iarr[i]))) \n",
      "    print 'ptrs[',i,']=',ptrs[i]             #getting the pointer value\n",
      "print ''"
     ],
     "language": "python",
     "metadata": {},
     "outputs": [
      {
       "output_type": "stream",
       "stream": "stdout",
       "text": [
        "ptri[ 0 ]= 65\n",
        "ptri[ 1 ]= 66\n",
        "ptri[ 2 ]= 67\n",
        "ptri[ 3 ]= 68\n",
        "\n",
        "ptrc[ 0 ]= A\n",
        "ptrc[ 1 ]= B\n",
        "ptrc[ 2 ]= C\n",
        "ptrc[ 3 ]= D\n",
        "\n",
        "ptrs[ 0 ]="
       ]
      },
      {
       "ename": "TypeError",
       "evalue": "'_ctypes.PyCPointerType' object does not support indexing",
       "output_type": "pyerr",
       "traceback": [
        "\u001b[1;31m---------------------------------------------------------------------------\u001b[0m\n\u001b[1;31mTypeError\u001b[0m                                 Traceback (most recent call last)",
        "\u001b[1;32m<ipython-input-1-f102211db7ad>\u001b[0m in \u001b[0;36m<module>\u001b[1;34m()\u001b[0m\n\u001b[0;32m     18\u001b[0m \u001b[1;32mfor\u001b[0m \u001b[0mi\u001b[0m \u001b[1;32min\u001b[0m \u001b[0mrange\u001b[0m\u001b[1;33m(\u001b[0m\u001b[1;36m4\u001b[0m\u001b[1;33m)\u001b[0m\u001b[1;33m:\u001b[0m\u001b[1;33m\u001b[0m\u001b[0m\n\u001b[0;32m     19\u001b[0m     \u001b[0mptrc\u001b[0m\u001b[1;33m=\u001b[0m\u001b[0mpointer\u001b[0m\u001b[1;33m(\u001b[0m\u001b[0mc_long\u001b[0m\u001b[1;33m(\u001b[0m\u001b[0mlong\u001b[0m\u001b[1;33m(\u001b[0m\u001b[0miarr\u001b[0m\u001b[1;33m[\u001b[0m\u001b[0mi\u001b[0m\u001b[1;33m]\u001b[0m\u001b[1;33m)\u001b[0m\u001b[1;33m)\u001b[0m\u001b[1;33m)\u001b[0m\u001b[1;33m\u001b[0m\u001b[0m\n\u001b[1;32m---> 20\u001b[1;33m     \u001b[1;32mprint\u001b[0m \u001b[1;34m'ptrs['\u001b[0m\u001b[1;33m,\u001b[0m\u001b[0mi\u001b[0m\u001b[1;33m,\u001b[0m\u001b[1;34m']='\u001b[0m\u001b[1;33m,\u001b[0m\u001b[0mptrs\u001b[0m\u001b[1;33m[\u001b[0m\u001b[0mi\u001b[0m\u001b[1;33m]\u001b[0m             \u001b[1;31m#getting the pointer value\u001b[0m\u001b[1;33m\u001b[0m\u001b[0m\n\u001b[0m\u001b[0;32m     21\u001b[0m \u001b[1;32mprint\u001b[0m \u001b[1;34m''\u001b[0m\u001b[1;33m\u001b[0m\u001b[0m\n",
        "\u001b[1;31mTypeError\u001b[0m: '_ctypes.PyCPointerType' object does not support indexing"
       ]
      }
     ],
     "prompt_number": 1
    },
    {
     "cell_type": "heading",
     "level": 1,
     "metadata": {},
     "source": [
      "Program Source Code 4.9, page no: 123"
     ]
    },
    {
     "cell_type": "code",
     "collapsed": false,
     "input": [
      "\n",
      "DateLabel=['Date of birth','Date of anniversary']    #array defined\n",
      "class DATE:       #class date\n",
      "    day=None\n",
      "    month=None\n",
      "    year=None\n",
      "    \n",
      "DateOfBirth=DATE\n",
      "DateOfBirth.day=07\n",
      "DateOfBirth.month=12\n",
      "DateOfBirth.year=1966\n",
      "\n",
      "print 'Date of Birth',':',         #printing the characteristics\n",
      "print DateOfBirth.day,'/',\n",
      "print DateOfBirth.month,'/',\n",
      "print DateOfBirth.year\n",
      "\n",
      "DatesOfAnniversary=DATE\n",
      "DatesOfAnniversary.day=11\n",
      "DatesOfAnniversary.month=07\n",
      "DatesOfAnniversary.year=1993\n",
      "\n",
      "print 'Date Of Anniversary',':',     #printing the characteristics\n",
      "print DatesOfAnniversary.day,'/',\n",
      "print DatesOfAnniversary.month,'/',\n",
      "print DatesOfAnniversary.year"
     ],
     "language": "python",
     "metadata": {},
     "outputs": [
      {
       "output_type": "stream",
       "stream": "stdout",
       "text": [
        "Date of Birth : 7 / 12 / 1966\n",
        "Date Of Anniversary : 11 / 7 / 1993\n"
       ]
      }
     ],
     "prompt_number": 7
    },
    {
     "cell_type": "heading",
     "level": 2,
     "metadata": {},
     "source": [
      "Program Source Code 4.10, page no: 124"
     ]
    },
    {
     "cell_type": "code",
     "collapsed": false,
     "input": [
      "DateLabel=['Date of birth','Date of anniversary']    #array declared\n",
      "class DATE:\n",
      "    day=None\n",
      "    month=None\n",
      "    year=None\n",
      "    \n",
      "Dates=[DATE() for j in range(2)]\n",
      "Dates[0].day=7\n",
      "Dates[0].month=12\n",
      "Dates[0].year=1966\n",
      "Dates[1].day=11\n",
      "Dates[1].month=7\n",
      "Dates[1].year=1993\n",
      "\n",
      "for i in range(2):\n",
      "    print DateLabel[i],':',Dates[i].day,'/',Dates[i].month,'/',Dates[i].year    #printing the characteristics\n"
     ],
     "language": "python",
     "metadata": {},
     "outputs": [
      {
       "output_type": "stream",
       "stream": "stdout",
       "text": [
        " Date of birth : 7 / 12 / 1966\n",
        "Date of anniversary : 11 / 7 / 1993\n"
       ]
      }
     ],
     "prompt_number": 2
    },
    {
     "cell_type": "heading",
     "level": 2,
     "metadata": {},
     "source": [
      "Program Source Code 4.11, page no: 125"
     ]
    },
    {
     "cell_type": "code",
     "collapsed": false,
     "input": [
      "DateLabel=['Date of birth','Date of anniversary']     #array declared\n",
      "\n",
      "class DATE:            #class date\n",
      "    day=None\n",
      "    month=None\n",
      "    year=None\n",
      "\n",
      "DateOfBirth=DATE\n",
      "DatesOfAnniversary=DATE\n",
      "\n",
      "pDates1=DATE()\n",
      "\n",
      "\n",
      "pDates1.day=07\n",
      "pDates1.month=12\n",
      "pDates1.year=1966\n",
      "\n",
      "print DateLabel[0],':',      #printing the characteristics\n",
      "print pDates1.day,'/',\n",
      "print pDates1.month,'/',\n",
      "print pDates1.year\n",
      "\n",
      "pDates2=DATE()\n",
      "pDates2.day=11\n",
      "pDates2.month=07\n",
      "pDates2.year=1993\n",
      "\n",
      "print DateLabel[1],':',   #printing the characteristics\n",
      "print pDates2.day,'/',\n",
      "print pDates2.month,'/',\n",
      "print pDates2.year"
     ],
     "language": "python",
     "metadata": {},
     "outputs": [
      {
       "output_type": "stream",
       "stream": "stdout",
       "text": [
        "Date of birth : 7 / 12 / 1966\n",
        "Date of anniversary : 11 / 7 / 1993\n"
       ]
      }
     ],
     "prompt_number": 6
    },
    {
     "cell_type": "heading",
     "level": 2,
     "metadata": {},
     "source": [
      "Program Source Code 4.12, page no: 126"
     ]
    },
    {
     "cell_type": "code",
     "collapsed": false,
     "input": [
      "class DATE:\n",
      "    day=None\n",
      "    month=None\n",
      "    year=None\n",
      "\n",
      "class PERSON:\n",
      "    name=None\n",
      "    DateOfBirth=DATE\n",
      "    \n",
      "aPerson=PERSON()\n",
      "print 'Please input the name of the person: '#user input\n",
      "aPerson.name=raw_input()\n",
      "print 'Please input the date of birth of the person: '#user input\n",
      "aPerson.DateOfBirth.day=input()\n",
      "aPerson.DateOfBirth.month=input()\n",
      "aPerson.DateOfBirth.year=input()\n",
      "\n",
      "print 'We have got one person whose: '\n",
      "print 'name is: ',aPerson.name\n",
      "print 'Date of Birth is: ',aPerson.DateOfBirth.day,'/',aPerson.DateOfBirth.month,'/',aPerson.DateOfBirth.year   #printing the characteristics"
     ],
     "language": "python",
     "metadata": {},
     "outputs": [
      {
       "output_type": "stream",
       "stream": "stdout",
       "text": [
        "Please input the name of the person: \n"
       ]
      },
      {
       "name": "stdout",
       "output_type": "stream",
       "stream": "stdout",
       "text": [
        "Soumen\n"
       ]
      },
      {
       "output_type": "stream",
       "stream": "stdout",
       "text": [
        "Please input the date of birth of the person: \n"
       ]
      },
      {
       "name": "stdout",
       "output_type": "stream",
       "stream": "stdout",
       "text": [
        "5\n"
       ]
      },
      {
       "name": "stdout",
       "output_type": "stream",
       "stream": "stdout",
       "text": [
        "6\n"
       ]
      },
      {
       "name": "stdout",
       "output_type": "stream",
       "stream": "stdout",
       "text": [
        "1991\n"
       ]
      },
      {
       "output_type": "stream",
       "stream": "stdout",
       "text": [
        "We have got one person whose: \n",
        "name is:  Soumen\n",
        "Date of Birth is:  5 / 6 / 1991\n"
       ]
      }
     ],
     "prompt_number": 6
    },
    {
     "cell_type": "code",
     "collapsed": false,
     "input": [],
     "language": "python",
     "metadata": {},
     "outputs": []
    }
   ],
   "metadata": {}
  }
 ]
}