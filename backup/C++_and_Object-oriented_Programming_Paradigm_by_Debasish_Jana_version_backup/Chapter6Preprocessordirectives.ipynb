{
 "metadata": {
  "name": "",
  "signature": "sha256:5024dce07a05d728e7d0831eea4c105433b851727d0b20000d5575dd27ac5527"
 },
 "nbformat": 3,
 "nbformat_minor": 0,
 "worksheets": [
  {
   "cells": [
    {
     "cell_type": "heading",
     "level": 2,
     "metadata": {},
     "source": [
      "Chapter 6: Preprocessor directives"
     ]
    },
    {
     "cell_type": "heading",
     "level": 1,
     "metadata": {},
     "source": [
      "Program Source Code 6.1, page no: 169"
     ]
    },
    {
     "cell_type": "code",
     "collapsed": false,
     "input": [
      "def concat(a):           #macro expansion\n",
      "    return str(a)\n",
      "\n",
      "def foot(a):          #macro expansion\n",
      "    return str(a)\n",
      "\n",
      "p='sport'\n",
      "b=foot(p)\n",
      "\n",
      "#Result\n",
      "exec(\"print %s\")%concat('b')\n",
      "\n"
     ],
     "language": "python",
     "metadata": {},
     "outputs": [
      {
       "output_type": "stream",
       "stream": "stdout",
       "text": [
        "sport\n"
       ]
      }
     ],
     "prompt_number": 3
    },
    {
     "cell_type": "heading",
     "level": 1,
     "metadata": {},
     "source": [
      "Program Source Code 6.2, page no: 172"
     ]
    },
    {
     "cell_type": "code",
     "collapsed": false,
     "input": [
      "import sys\n",
      "import os\n",
      "\n",
      "approot=os.path.dirname(os.path.abspath(sys.argv[0]))       #to include file\n",
      "def line():\n",
      "    line=1\n",
      "    line=2\n",
      "    return line\n",
      "\n",
      "print approot,\n",
      "x-\n",
      "y+"
     ],
     "language": "python",
     "metadata": {},
     "outputs": [
      {
       "ename": "SyntaxError",
       "evalue": "invalid syntax (<ipython-input-1-fb4ad1541578>, line 11)",
       "output_type": "pyerr",
       "traceback": [
        "\u001b[1;36m  File \u001b[1;32m\"<ipython-input-1-fb4ad1541578>\"\u001b[1;36m, line \u001b[1;32m11\u001b[0m\n\u001b[1;33m    x-\u001b[0m\n\u001b[1;37m      ^\u001b[0m\n\u001b[1;31mSyntaxError\u001b[0m\u001b[1;31m:\u001b[0m invalid syntax\n"
       ]
      }
     ],
     "prompt_number": 1
    },
    {
     "cell_type": "heading",
     "level": 1,
     "metadata": {},
     "source": [
      "Program Source Code 6.3, page no: 173"
     ]
    },
    {
     "cell_type": "code",
     "collapsed": false,
     "input": [
      "import sys\n",
      "\n",
      "True=1\n",
      "False=0\n",
      "approot=os.path.dirname(os.path.abspath(sys.argv[0]))            #filename shown\n",
      "\n",
      "def lineno():                      #to print lineno\n",
      "   return inspect.currentframe().f_back.f_lineno\n",
      "    \n",
      "if __debug__:                  #assertion\n",
      "    print 'assertion error line',lineno(),'file(',os.path.dirname(os.path.abspath(sys.argv[0])),')'\n",
      "    \n",
      "  \n",
      "assert(True)\n",
      "i=0\n",
      "assert(__debug__)\n"
     ],
     "language": "python",
     "metadata": {},
     "outputs": [
      {
       "output_type": "stream",
       "stream": "stdout",
       "text": [
        "assertion error line 11 file( C:\\Users\\nita\\Documents\\IPython Notebooks )\n"
       ]
      }
     ],
     "prompt_number": 13
    },
    {
     "cell_type": "code",
     "collapsed": false,
     "input": [],
     "language": "python",
     "metadata": {},
     "outputs": []
    }
   ],
   "metadata": {}
  }
 ]
}