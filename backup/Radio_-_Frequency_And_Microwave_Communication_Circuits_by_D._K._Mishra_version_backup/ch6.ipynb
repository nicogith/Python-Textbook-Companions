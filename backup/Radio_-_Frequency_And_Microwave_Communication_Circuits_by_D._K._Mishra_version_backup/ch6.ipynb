{
 "metadata": {
  "name": "",
  "signature": "sha256:4c48a867f10cd521b149d7e0250805832590ebd78eb71780c4421861ef43f229"
 },
 "nbformat": 3,
 "nbformat_minor": 0,
 "worksheets": [
  {
   "cells": [
    {
     "cell_type": "heading",
     "level": 1,
     "metadata": {},
     "source": [
      "Chapter 6: Impedance-Matching Networks"
     ]
    },
    {
     "cell_type": "heading",
     "level": 2,
     "metadata": {},
     "source": [
      "Example 6.1, Page 194"
     ]
    },
    {
     "cell_type": "code",
     "collapsed": false,
     "input": [
      "import math\n",
      "\n",
      "#Variable declaration\n",
      "Zo=100\n",
      "ZL=complex(50,-75)\n",
      "B=2*math.pi\n",
      "XL=-0.75\n",
      "RL=0.5\n",
      "Y_L=Zo/ZL\n",
      "\n",
      "#Calculations&Results\n",
      "G_L=Y_L.real\n",
      "B_L=Y_L.imag\n",
      "print \"Y_L=\",Y_L\n",
      "A=G_L*(G_L-1)+B_L**2\n",
      "print \"A=%.4f\"%A\n",
      "ds=(math.degrees(math.atan((XL+math.sqrt(XL**2-A*(1-RL)))/A)))/B\n",
      "print \"ds=%f*lambda\"%ds            \n",
      "ds=(math.degrees(math.atan((XL-math.sqrt(XL**2-A*(1-RL)))/A)))/B\n",
      "print \"ds=%f*lambda\"%ds\n",
      "X_s=-1.2748\n",
      "Ls=1./B*1./math.degrees(math.atan(X_s))\n",
      "print \"Ls=%f*lambda\"%Ls\n",
      "X_s=1.2748\n",
      "Ls=1./B*1/math.degrees(math.atan(X_s))\n",
      "print \"Ls=%f*lambda\"%Ls\n",
      "#Incorrect solution in the textbook"
     ],
     "language": "python",
     "metadata": {},
     "outputs": [
      {
       "output_type": "stream",
       "stream": "stdout",
       "text": [
        "Y_L= (0.615384615385+0.923076923077j)\n",
        "A=0.6154\n",
        "ds=-3.457805*lambda\n",
        "ds=-10.166064*lambda\n",
        "Ls=-0.003067*lambda\n",
        "Ls=0.003067*lambda\n"
       ]
      }
     ],
     "prompt_number": 1
    },
    {
     "cell_type": "heading",
     "level": 2,
     "metadata": {},
     "source": [
      "Example 6.3, Page 199"
     ]
    },
    {
     "cell_type": "code",
     "collapsed": false,
     "input": [
      "import math\n",
      "import cmath\n",
      "\n",
      "#Variable declaration\n",
      "FL=0.4*cmath.exp(complex(0,-30*math.pi/180))\n",
      "Fin=0.2*cmath.exp(complex(0,45*math.pi/180))\n",
      "\n",
      "#Calculations&Results\n",
      "Z_L=(1+FL)/(1-FL)\n",
      "Z_in=(1+Fin)/(1-Fin)\n",
      "Y_in=(1-Fin)/(1+Fin)\n",
      "print \"Z_L=\",Z_L\n",
      "print \"Z_in=\",Z_in\n",
      "print \"Y_in=\",Y_in\n",
      "#Y_in=(1+complex(0,(Z_L*math.tan(Bl*math.pi/180))))/(Z_L+complex(0,math.tan(Bl*math.pi/180)))\n",
      "Y_in1=1/Z_in\n",
      "print \"Y_in=\",Y_in1"
     ],
     "language": "python",
     "metadata": {},
     "outputs": [
      {
       "output_type": "stream",
       "stream": "stdout",
       "text": [
        "Z_L= (1.79802341883-0.856201628016j)\n",
        "Z_in= (1.26790036339+0.37355872701j)\n",
        "Y_in= (0.725709860248-0.213814318065j)\n",
        "Y_in= (0.725709860248-0.213814318065j)\n"
       ]
      }
     ],
     "prompt_number": 2
    },
    {
     "cell_type": "heading",
     "level": 2,
     "metadata": {},
     "source": [
      "Example 6.5, Page 208"
     ]
    },
    {
     "cell_type": "code",
     "collapsed": false,
     "input": [
      "import math\n",
      "\n",
      "#Variable declaration\n",
      "RL=50\n",
      "Rs=75\n",
      "\n",
      "#Calculations\n",
      "R1=math.sqrt(Rs*(Rs-RL))\n",
      "R2=math.sqrt(RL**2*Rs/(Rs-RL))\n",
      "attenuation=20*math.log10(R2*RL/(R1*(R2+RL)+R2*RL))\n",
      "\n",
      "#Result\n",
      "print \"\\nR1=%.1f ohm\\nR2=%.1f ohm\\nattenuation(dB)=%.2f dB\"%(R1,R2,attenuation)"
     ],
     "language": "python",
     "metadata": {},
     "outputs": [
      {
       "output_type": "stream",
       "stream": "stdout",
       "text": [
        "\n",
        "R1=43.3 ohm\n",
        "R2=86.6 ohm\n",
        "attenuation(dB)=-7.48 dB\n"
       ]
      }
     ],
     "prompt_number": 3
    },
    {
     "cell_type": "heading",
     "level": 2,
     "metadata": {},
     "source": [
      "Example 6.6, Page 210"
     ]
    },
    {
     "cell_type": "code",
     "collapsed": false,
     "input": [
      "import math\n",
      "\n",
      "#Variable declaration\n",
      "Rp=600    #ohms\n",
      "Rs=50     #ohms\n",
      "W=2*math.pi*400*10**6\n",
      "Q=math.sqrt(Rp/Rs-1)\n",
      "\n",
      "#Calculations\n",
      "Xs=Q*Rs\n",
      "Xp=Rp/Q\n",
      "Cs=1./W/Xs\n",
      "Lp=Xp/W\n",
      "Ls=Xs/W\n",
      "Cp=1./W/Xp\n",
      "\n",
      "#Results\n",
      "print \"\\nQ=%.4f\\nXs=%.4f ohm\\nXp=%.4f ohm\\nCs=%.2e F\\nLp=%.3e H\\nLs=%.3e H\\nCp=%.2e F\" %(Q,Xs,Xp,Cs,Lp,Ls,Cp)"
     ],
     "language": "python",
     "metadata": {},
     "outputs": [
      {
       "output_type": "stream",
       "stream": "stdout",
       "text": [
        "\n",
        "Q=3.3166\n",
        "Xs=165.8312 ohm\n",
        "Xp=180.9068 ohm\n",
        "Cs=2.40e-12 F\n",
        "Lp=7.198e-08 H\n",
        "Ls=6.598e-08 H\n",
        "Cp=2.20e-12 F\n"
       ]
      }
     ],
     "prompt_number": 5
    },
    {
     "cell_type": "heading",
     "level": 2,
     "metadata": {},
     "source": [
      "Example 6.7, Page 212"
     ]
    },
    {
     "cell_type": "code",
     "collapsed": false,
     "input": [
      "import math\n",
      "\n",
      "#Variable declaration\n",
      "Rp=600   #ohm\n",
      "Rs=173.2    #ohm\n",
      "Q=math.sqrt(Rp/Rs-1)\n",
      "\n",
      "#Calculations&Results\n",
      "Xs=Q*Rs\n",
      "Xp=Rp/Q\n",
      "print \"Q=%.6f\\nXs=%.4f ohm\\nXp=%.4f ohm\\n\" %(Q,Xs,Xp)\n",
      "Rp=173.2    #ohm\n",
      "Rs=50         #ohm\n",
      "Q=math.sqrt(Rp/Rs-1)\n",
      "Xs=Q*Rs\n",
      "Xp=Rp/Q\n",
      "print \"\\nQ=%.4f\\nXs=%.4f ohm\\nXp=%.4f ohm\\n\"%(Q,Xs,Xp)"
     ],
     "language": "python",
     "metadata": {},
     "outputs": [
      {
       "output_type": "stream",
       "stream": "stdout",
       "text": [
        "Q=1.569778\n",
        "Xs=271.8856 ohm\n",
        "Xp=382.2196 ohm\n",
        "\n",
        "\n",
        "Q=1.5697\n",
        "Xs=78.4857 ohm\n",
        "Xp=110.3386 ohm\n",
        "\n"
       ]
      }
     ],
     "prompt_number": 6
    },
    {
     "cell_type": "heading",
     "level": 2,
     "metadata": {},
     "source": [
      "Example 6.8, Page 213"
     ]
    },
    {
     "cell_type": "code",
     "collapsed": false,
     "input": [
      "import math\n",
      "\n",
      "#Variable declaration\n",
      "f=500*10**6\n",
      "W=2*math.pi*f\n",
      "Rp=50\n",
      "Rs=10\n",
      "Q=math.sqrt(Rp/Rs-1)\n",
      "\n",
      "#Calculations\n",
      "Xs=Q*Rs\n",
      "Xp=Rp/Q\n",
      "Ls=(Xs-10)/W\n",
      "Cp=1/W/Xp\n",
      "Cs=1/W/(Xs+10)\n",
      "Lp=Xp/W\n",
      "\n",
      "#Result\n",
      "print \"\\nQ=%.0f\\nXs=%.0f ohm\\nXp=%.0f ohm\\nLs=%.4e H\\nCp=%.4e F\\nCs=%.3e F\\nLp=%.4e H\"%(Q,Xs,Xp,Ls,Cp,Cs,Lp)"
     ],
     "language": "python",
     "metadata": {},
     "outputs": [
      {
       "output_type": "stream",
       "stream": "stdout",
       "text": [
        "\n",
        "Q=2\n",
        "Xs=20 ohm\n",
        "Xp=25 ohm\n",
        "Ls=3.1831e-09 H\n",
        "Cp=1.2732e-11 F\n",
        "Cs=1.061e-11 F\n",
        "Lp=7.9577e-09 H\n"
       ]
      }
     ],
     "prompt_number": 7
    },
    {
     "cell_type": "heading",
     "level": 2,
     "metadata": {},
     "source": [
      "Example 6.9, Page 215"
     ]
    },
    {
     "cell_type": "code",
     "collapsed": false,
     "input": [
      "import math\n",
      "\n",
      "#Variable declaration\n",
      "ZL=10**3/complex(8,-12)\n",
      "Rp=50\n",
      "W=2*math.pi*10**9\n",
      "Rs=ZL.real\n",
      "Q=math.sqrt(Rp/Rs-1)\n",
      "\n",
      "#Calculations\n",
      "Xs=Q*Rs\n",
      "Xc=Xs+ZL.imag\n",
      "Xp=Rp/Q\n",
      "C=1/W/Xc\n",
      "L=Xp/W\n",
      "\n",
      "#Result\n",
      "print \"ZL=\",ZL\n",
      "print \"\\nQ=%.4f\\nXs=%.4f ohm\\nXp=%.4f ohm\\nC=%.4e F\\nL=%.4e H\\n\"%(Q,Xs,Xp,C,L)\n",
      "print \"\\nXs=57.6923-21.0654 ohm\\nXp=91.2909 ohm\\nCp=1.7434 F\""
     ],
     "language": "python",
     "metadata": {},
     "outputs": [
      {
       "output_type": "stream",
       "stream": "stdout",
       "text": [
        "ZL= (38.4615384615+57.6923076923j)\n",
        "\n",
        "Q=0.5477\n",
        "Xs=21.0663 ohm\n",
        "Xp=91.2871 ohm\n",
        "C=2.0208e-12 F\n",
        "L=1.4529e-08 H\n",
        "\n",
        "\n",
        "Xs=57.6923-21.0654 ohm\n",
        "Xp=91.2909 ohm\n",
        "Cp=1.7434 F\n"
       ]
      }
     ],
     "prompt_number": 8
    },
    {
     "cell_type": "heading",
     "level": 2,
     "metadata": {},
     "source": [
      "Example 6.10, Page 217"
     ]
    },
    {
     "cell_type": "code",
     "collapsed": false,
     "input": [
      "import math\n",
      "\n",
      "#Variable declaration\n",
      "W=2*math.pi*10**9\n",
      "Gs=0.02\n",
      "Gp=0.008\n",
      "Q=math.sqrt(Gs/Gp-1)\n",
      "\n",
      "#Calculations\n",
      "Bs=Gs/Q\n",
      "Bp=Q*Gp\n",
      "\n",
      "#Result\n",
      "print \"\\nQ=%.4f\\nBs=%.4f S\\nBp=%.2f S\\n\"%(Q,Bs,Bp)"
     ],
     "language": "python",
     "metadata": {},
     "outputs": [
      {
       "output_type": "stream",
       "stream": "stdout",
       "text": [
        "\n",
        "Q=1.2247\n",
        "Bs=0.0163 S\n",
        "Bp=0.01 S\n",
        "\n"
       ]
      }
     ],
     "prompt_number": 9
    }
   ],
   "metadata": {}
  }
 ]
}