{
 "metadata": {
  "name": "",
  "signature": "sha256:958704d75a7d02d636f84b1a7ab586f54a9b4903ecfbfc8a6d2920b09fd82e1e"
 },
 "nbformat": 3,
 "nbformat_minor": 0,
 "worksheets": [
  {
   "cells": [
    {
     "cell_type": "heading",
     "level": 1,
     "metadata": {},
     "source": [
      "Chapter 12: Oscillator Design"
     ]
    },
    {
     "cell_type": "heading",
     "level": 2,
     "metadata": {},
     "source": [
      "Example 12.1, Page 480"
     ]
    },
    {
     "cell_type": "code",
     "collapsed": false,
     "input": [
      "import math\n",
      "\n",
      "#Variable declaration\n",
      "R1=10000    #ohms\n",
      "R2=1        #ohms\n",
      "C=.002*10**-6   #F\n",
      "L=10**-6        #H\n",
      "\n",
      "#Calculations&Results\n",
      "#B=complex(0,W*L)/complex(R1-W**2*R2*C*L,W*(L+R1*R2*C))\n",
      "W=math.sqrt(R1/(R2*L*C))\n",
      "print \"W=%.2e rad/s\"%W\n",
      "f=W/(2*math.pi)\n",
      "print \"f=%.3eHz\"%f\n",
      "A=1+R1*R2*C/L\n",
      "print \"A=%.f\"%A"
     ],
     "language": "python",
     "metadata": {},
     "outputs": [
      {
       "output_type": "stream",
       "stream": "stdout",
       "text": [
        "W=2.24e+09 rad/s\n",
        "f=3.559e+08Hz\n",
        "A=21\n"
       ]
      }
     ],
     "prompt_number": 1
    },
    {
     "cell_type": "heading",
     "level": 2,
     "metadata": {},
     "source": [
      "Example 12.2, Page 486"
     ]
    },
    {
     "cell_type": "code",
     "collapsed": false,
     "input": [
      "import math\n",
      "\n",
      "#Variable declaration\n",
      "#unit in SI\n",
      "L1=10**-9   #H\n",
      "L2=10**-9   #H\n",
      "Go=4.5*10**-3\n",
      "RL=50       #ohms\n",
      "W=2*math.pi*150*10**6\n",
      "\n",
      "#Calculations&Results\n",
      "n=math.sqrt(1/(Go*RL))\n",
      "print \"n=%.4f\"%n\n",
      "L3=L2/n**2\n",
      "print \"considering L1=L2=1nH\"\n",
      "print \"nL3=%.4e H\"%L3\n",
      "C=1/((L1+L2)*W**2)\n",
      "print \"C=%.3e F\"%C"
     ],
     "language": "python",
     "metadata": {},
     "outputs": [
      {
       "output_type": "stream",
       "stream": "stdout",
       "text": [
        "n=2.1082\n",
        "considering L1=L2=1nH\n",
        "nL3=2.2500e-10 H\n",
        "C=5.629e-10 F\n"
       ]
      }
     ],
     "prompt_number": 2
    },
    {
     "cell_type": "heading",
     "level": 2,
     "metadata": {},
     "source": [
      "Example 12.4, Page 496"
     ]
    },
    {
     "cell_type": "code",
     "collapsed": false,
     "input": [
      "import math\n",
      "\n",
      "#Variable declaration\n",
      "Cvar=3.5*10**-12\n",
      "C1=150*10**-12\n",
      "C2=72*10**-12\n",
      "L=32*10**-9\n",
      "\n",
      "#Calculations&Results\n",
      "C=Cvar+C1*C2/(C1+C2)\n",
      "f=1/(2*math.pi*math.sqrt(L*C))\n",
      "print \"C=%.3e F\\nf=%.3e Hz\\n\"%(C,f)\n",
      "Cvar=32*10**-12\n",
      "C=Cvar+C1*C2/(C1+C2)\n",
      "f=1/(2*math.pi*math.sqrt(L*C))\n",
      "print \"C=%.3e F\\nf=%.3e Hz\\n\"%(C,f)\n",
      "Cvar=3.5*10**-12\n",
      "C=Cvar+C1*C2/(C1+C2)\n",
      "f=1/(2*math.pi*math.sqrt(L*C))\n",
      "print \"C=%.3e F\\nf=%.3e Hz\"%(C,f)"
     ],
     "language": "python",
     "metadata": {},
     "outputs": [
      {
       "output_type": "stream",
       "stream": "stdout",
       "text": [
        "C=5.215e-11 F\n",
        "f=1.232e+08 Hz\n",
        "\n",
        "C=8.065e-11 F\n",
        "f=9.907e+07 Hz\n",
        "\n",
        "C=5.215e-11 F\n",
        "f=1.232e+08 Hz\n"
       ]
      }
     ],
     "prompt_number": 3
    },
    {
     "cell_type": "heading",
     "level": 2,
     "metadata": {},
     "source": [
      "Example 12.5, Page 508"
     ]
    },
    {
     "cell_type": "code",
     "collapsed": false,
     "input": [
      "import math\n",
      "\n",
      "#Variable declaration\n",
      "Ve=2\n",
      "Be=math.pi/2\n",
      "\n",
      "#Calculations&Results\n",
      "Kd=Ve/math.sin(Be)\n",
      "print \"Kd=%.0f\"%Kd\n",
      "#Ko=dW/Vd\n",
      "Ko=2*math.pi*100*1000\n",
      "dWH=Kd*Ko\n",
      "print \"dWH=%.4e rad/s\"%dWH\n",
      "dfH=dWH/(2*math.pi)\n",
      "print \"dfH=%.e Hz\"%dfH"
     ],
     "language": "python",
     "metadata": {},
     "outputs": [
      {
       "output_type": "stream",
       "stream": "stdout",
       "text": [
        "Kd=2\n",
        "dWH=1.2566e+06 rad/s\n",
        "dfH=2e+05 Hz\n"
       ]
      }
     ],
     "prompt_number": 4
    },
    {
     "cell_type": "heading",
     "level": 2,
     "metadata": {},
     "source": [
      "Example 12.6, Page 509"
     ]
    },
    {
     "cell_type": "code",
     "collapsed": false,
     "input": [
      "import math\n",
      "\n",
      "#Variable declaration\n",
      "Ve=2\n",
      "Bemax=math.pi/2\n",
      "\n",
      "#Calculations&Results\n",
      "Kd=Ve/Bemax\n",
      "print\"Kd=%.4f\"%Kd\n",
      "Ko=2*math.pi*10**5\n",
      "dWH=Kd*Ko*Bemax\n",
      "print \"dWH=%.4e rad/s\"%dWH\n",
      "print \"dfH=%.e Hz\"%(dWH/(2*math.pi))"
     ],
     "language": "python",
     "metadata": {},
     "outputs": [
      {
       "output_type": "stream",
       "stream": "stdout",
       "text": [
        "Kd=1.2732\n",
        "dWH=1.2566e+06 rad/s\n",
        "dfH=2e+05 Hz\n"
       ]
      }
     ],
     "prompt_number": 5
    },
    {
     "cell_type": "heading",
     "level": 2,
     "metadata": {},
     "source": [
      "Example 12.7, Page 510"
     ]
    },
    {
     "cell_type": "code",
     "collapsed": false,
     "input": [
      "import math\n",
      "\n",
      "#Variable declaration\n",
      "Vin=2.  #Volt\n",
      "Vosc=2.    #Volt\n",
      "VPD=2.  #volt\n",
      "Ein=0.75\n",
      "Eosc=0.75\n",
      "Vd=1\n",
      "\n",
      "#Calculations&Results\n",
      "dW=2*math.pi*10**7\n",
      "Km=VPD/(Vin*Vosc)\n",
      "print \"Km=%.1f V**-1\"%Km\n",
      "Kd=0.5*Km*Ein*Eosc\n",
      "Ko=dW/Vd\n",
      "#(a)\n",
      "qd=2*math.pi*(11-10)*10**6/(Ko*Kd)\n",
      "print \"(a)qd=%.4f rad = %.2f degree\\n\"%(qd,qd*180/math.pi)\n",
      "#(b)\n",
      "qd=2*math.pi*(9-10)*10**6/(Ko*Kd)\n",
      "print \"(b)qd=%.4f rad = %.2f degree\"%(qd,qd*180/math.pi)"
     ],
     "language": "python",
     "metadata": {},
     "outputs": [
      {
       "output_type": "stream",
       "stream": "stdout",
       "text": [
        "Km=0.5 V**-1\n",
        "(a)qd=0.7111 rad = 40.74 degree\n",
        "\n",
        "(b)qd=-0.7111 rad = -40.74 degree\n"
       ]
      }
     ],
     "prompt_number": 6
    },
    {
     "cell_type": "heading",
     "level": 2,
     "metadata": {},
     "source": [
      "Example 12.8, Page 514"
     ]
    },
    {
     "cell_type": "code",
     "collapsed": false,
     "input": [
      "import math\n",
      "\n",
      "#Variable declaration\n",
      "Wo=2*math.pi*2*10**6\n",
      "Wf=2*math.pi*2.5*10**6\n",
      "Ko=10**7\n",
      "Ka=10\n",
      "Kd=0.5\n",
      "N=20\n",
      "E=0.8\n",
      "Wn=10**4\n",
      "C2=0.5*10**-6   #F\n",
      "\n",
      "#Calculations\n",
      "Vd=(Wo-Wf)/Ko\n",
      "Ve=Vd/Ka\n",
      "Qe=Ve/Kd\n",
      "K=Kd*Ka*Ko/N\n",
      "dW=math.sqrt(2*(2*E*Wn*K-Wn**2))\n",
      "df=dW/(2*math.pi)\n",
      "T1=K/Wn**2\n",
      "T2=2*E/Wn-1/K\n",
      "R2=T2/C2\n",
      "R1=T1/C2-R2\n",
      "\n",
      "#Result\n",
      "print \"Vd=%.4f V\\nVe=%.4f V\\nQe=%.4f rad\\nK=%.2e\\ndW=%.4e rad/s\\ndf=%.4e Hz\\nT1=%.4f s\\nT2=%.4e s\\nR2=%.2f ohm\\nR1=%.1f ohm\"%(Vd,Ve,Qe,K,dW,df,T1,T2,R2,R1)"
     ],
     "language": "python",
     "metadata": {},
     "outputs": [
      {
       "output_type": "stream",
       "stream": "stdout",
       "text": [
        "Vd=-0.3142 V\n",
        "Ve=-0.0314 V\n",
        "Qe=-0.0628 rad\n",
        "K=2.50e+06\n",
        "dW=2.8249e+05 rad/s\n",
        "df=4.4960e+04 Hz\n",
        "T1=0.0250 s\n",
        "T2=1.5960e-04 s\n",
        "R2=319.20 ohm\n",
        "R1=49680.8 ohm\n"
       ]
      }
     ],
     "prompt_number": 8
    },
    {
     "cell_type": "heading",
     "level": 2,
     "metadata": {},
     "source": [
      "Example 12.11, Page 521"
     ]
    },
    {
     "cell_type": "code",
     "collapsed": false,
     "input": [
      "import math\n",
      "import cmath\n",
      "\n",
      "#Variable declaration\n",
      "FG=1.25*cmath.exp(complex(0,40*math.pi/180))\n",
      "\n",
      "#Calculations\n",
      "Z_G=(1+FG)/(1-FG)\n",
      "\n",
      "#Result\n",
      "print \"Z_G = \",Z_G"
     ],
     "language": "python",
     "metadata": {},
     "outputs": [
      {
       "output_type": "stream",
       "stream": "stdout",
       "text": [
        "Z_G =  (-0.868874963372+2.48223138143j)\n"
       ]
      }
     ],
     "prompt_number": 10
    },
    {
     "cell_type": "heading",
     "level": 2,
     "metadata": {},
     "source": [
      "Example 12.12, Page 524"
     ]
    },
    {
     "cell_type": "code",
     "collapsed": false,
     "input": [
      "import cmath\n",
      "import math\n",
      "\n",
      "#Variable declaration\n",
      "Z=50    #ohms\n",
      "S11=2.18*cmath.exp(complex(0,math.pi/180*(-35)))\n",
      "S21=2.75*cmath.exp(complex(0,math.pi/180*(96)))\n",
      "S12=1.26*cmath.exp(complex(0,math.pi/180*(18)))\n",
      "S22=0.52*cmath.exp(complex(0,math.pi/180*(155)))\n",
      "FL=0.59*cmath.exp(complex(0,math.pi/180*(-104)))\n",
      "\n",
      "#Calculations&Results\n",
      "def mod(n):\n",
      "    r=n.real\n",
      "    i=n.imag\n",
      "    x=math.sqrt(r**2+i**2)\n",
      "    return x\n",
      "\n",
      "deln=S11*S22-S12*S21\n",
      "k=(1-mod(S11)**2-mod(S22)**2+mod(deln)**2)/(2*mod(S12*S21))\n",
      "print \"del=\",deln\n",
      "print \"k=%.2f\"%k\n",
      "Cs=(S11-deln*S22.conjugate())/(mod(S11)**2-mod(deln)**2)\n",
      "print \"Cs=\",Cs.conjugate()\n",
      "rs=mod((S12*S21)/(mod(S11)**2-mod(deln)**2))\n",
      "print \"rs=%.3f\"%rs\n",
      "CL=(S22-deln*S11.conjugate())/(mod(S22)**2-mod(deln)**2)\n",
      "print \"CL=\",CL.conjugate()\n",
      "rL=mod(S12*S21/(mod(S22)**2-mod(deln)**2))\n",
      "print \"rL=%.2f\"%rL\n",
      "Fin=S11+(S12*S21*FL)/(1-S22*FL)\n",
      "print \"Fin=\",Fin\n",
      "Zin=50*(1+Fin)/(1-Fin)\n",
      "print \"Zin=\",Zin\n",
      "ZG=complex(27.9,1.91)\n",
      "print \"ZG=\",ZG\n",
      "FG=(ZG-50)/(ZG+1)\n",
      "print \"FG=\",FG        #calculation mistake in calculating FG in book\n",
      "VSWR=(1.0+mod(FG))/(1.0-mod(FG))\n",
      "print \"VSWR=%.3f\"%VSWR #calculation mistake in book\n"
     ],
     "language": "python",
     "metadata": {},
     "outputs": [
      {
       "output_type": "stream",
       "stream": "stdout",
       "text": [
        "del= (0.842542468258-2.183708613j)\n",
        "k=0.21\n",
        "Cs= (-3.66734964984-2.88457333776j)\n",
        "rs=4.772\n",
        "CL= (0.903667080025+0.588666300069j)\n",
        "rL=0.67\n",
        "Fin= (3.96087399-0.167756815837j)\n",
        "Zin= (-83.6657406194-1.90742918076j)\n",
        "ZG= (27.9+1.91j)\n",
        "FG= (-0.757031373959+0.116122142708j)\n",
        "VSWR=7.543\n"
       ]
      }
     ],
     "prompt_number": 11
    },
    {
     "cell_type": "heading",
     "level": 2,
     "metadata": {},
     "source": [
      "Example 12.13, Page 526"
     ]
    },
    {
     "cell_type": "code",
     "collapsed": false,
     "input": [
      "import math\n",
      "import cmath\n",
      "\n",
      "#Variable declaration\n",
      "S11=0.9*cmath.exp(complex(0,math.pi/180*150))\n",
      "S21=1.7*cmath.exp(complex(0,-math.pi/180*80))\n",
      "S12=0.07*cmath.exp(complex(0,math.pi/180*120))\n",
      "S22=1.08*cmath.exp(complex(0,-math.pi/180*56))\n",
      "\n",
      "#Calculations&Results\n",
      "def mod(n):\n",
      "    r=n.real\n",
      "    i=n.imag\n",
      "    x=math.sqrt(r**2+i**2)\n",
      "    return x\n",
      "\n",
      "del1=(1-S11)*(1-S22)-S12*S21\n",
      "print \"del1=\",del1\n",
      "Z_11=((1+S11)*(1-S22)+S21*S12)/del1\n",
      "print \"Z_11=\",Z_11\n",
      "Z_12=2*S12/del1\n",
      "print \"Z_12=\",Z_12\n",
      "Z_21=2*S21/del1\n",
      "print \"Z_21=\",Z_21\n",
      "Z_22=((1-S11)*(1+S22)+S21*S12)/del1\n",
      "print \"Z_22=\",Z_22\n",
      "Zinductor=complex(0,(2*math.pi*2.75*10**9*1.45*10**-9))\n",
      "Z_inductor=Zinductor/50\n",
      "\n",
      "print \"\\nZ_inductor=\",Z_inductor\n",
      "\n",
      "A=[[Z_11,Z_12],[Z_21,Z_22]]+[Z_inductor]\n",
      "print \"[Z_s11,Z_s12;Z_s21,Z_s22]=\",A   #calculation mistake in the book here. Hence all subsequent answers differ from textbook\n",
      "\n",
      "\n",
      "deln=(Z_11+1)*(Z_22+1)-A[0][1]*A[1][0]\n",
      "print \"\\ndel=\",deln\n",
      "       \n",
      "Ss12=2*A[0][1]/deln\n",
      "print \"Ss12=\",Ss12\n",
      "Ss21=2*A[1][0]/deln\n",
      "print \"Ss21=\",Ss21\n",
      "Ss11=((A[0][0]-1)*(A[1][1]+1)-(A[0][1]*A[1][0]))/deln\n",
      "print \"Ss11=\",Ss11\n",
      "Ss22=((A[0][0]+1)*(A[1][1]-1)-A[0][1]*A[1][0])/deln\n",
      "print \"Ss22=\",Ss22\n",
      "delm=S11*S22-S21*S12\n",
      "print \"\\ndel=\",mod(delm)\n",
      "\n",
      "\n",
      "k=(1-mod(S11)**2-mod(S22)**2+mod(delm)**2)/(2*mod(S12*S21))\n",
      "print \"k=%.4f\"%k\n",
      "Cs=S11-delm*S22.conjugate()/(mod(S11)**2-mod(delm)**2)\n",
      "print \"Cs=\",Cs\n",
      "rs=mod((S12*S21)/(mod(S11)**2-mod(delm)**2))\n",
      "print \"rs=\",rs\n",
      "CL=(S22-delm*S11.conjugate())/(mod(S22)**2-mod(delm)**2)           \n",
      "print \"CL=\",CL                                               \n",
      "rL=mod(S12*S21/(mod(S22)**2-mod(delm)**2))                   \n",
      "print \"rL=\",rL                                              \n",
      "FL=0.5689*cmath.exp(complex(0,math.pi/180*167.8))                         \n",
      "print \"FL=\",FL\n",
      "Fin=S11+S12*S21*FL/(1-S22*FL)\n",
      "print \"\\nFin=\",Fin\n",
      "Zin=50*(1+Fin)/(1-Fin)\n",
      "print \"Zin=\",Zin\n",
      "ZG=-Zin.real/3-complex(0,Zin.imag)\n",
      "print \"ZG=\",ZG"
     ],
     "language": "python",
     "metadata": {},
     "outputs": [
      {
       "output_type": "stream",
       "stream": "stdout",
       "text": [
        "del1= (1.01653194645+1.33850110966j)\n",
        "Z_11= (0.133525378871+0.269048287394j)\n",
        "Z_12= (0.032258372159+0.0767961005771j)\n",
        "Z_21= (-1.37405578463-1.48462738731j)\n",
        "Z_22= (-0.145806851505-2.01010748778j)\n",
        "\n",
        "Z_inductor= 0.501084028248j\n",
        "[Z_s11,Z_s12;Z_s21,Z_s22]= [[(0.13352537887145693+0.2690482873935853j), (0.032258372158985874+0.07679610057712603j)], [(-1.3740557846347101-1.4846273873131535j), (-0.14580685150547484-2.0101074877822773j)], 0.501084028247572j]\n",
        "\n",
        "del= (1.43937679805-1.89527485894j)\n",
        "Ss12= (-0.035+0.0606217782649j)\n",
        "Ss21= (0.295201902034-1.67417318012j)\n",
        "Ss11= (-0.779422863406+0.45j)\n",
        "Ss22= (0.603928335748-0.895360578359j)\n",
        "\n",
        "del= 0.907176449692\n",
        "k=-0.6447\n",
        "Cs= (-69.842355424+31.0661347384j)\n",
        "rs= 9.17564828775\n",
        "CL= (0.227457776559-0.788396146499j)\n",
        "rL= 0.34650348518\n",
        "FL= (-0.556051902259+0.120222676703j)\n",
        "\n",
        "Fin= (-0.809707524676+0.410225034971j)\n",
        "Zin= (2.5569630942+11.9136278815j)\n",
        "ZG= (-0.852321031399-11.9136278815j)\n"
       ]
      }
     ],
     "prompt_number": 12
    }
   ],
   "metadata": {}
  }
 ]
}