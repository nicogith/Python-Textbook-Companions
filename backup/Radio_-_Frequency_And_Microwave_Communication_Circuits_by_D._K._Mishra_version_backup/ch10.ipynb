{
 "metadata": {
  "name": "",
  "signature": "sha256:8191de37ce783b2ebabce785939f7cfced6118a56dfdea5fab7c33fc191aae2a"
 },
 "nbformat": 3,
 "nbformat_minor": 0,
 "worksheets": [
  {
   "cells": [
    {
     "cell_type": "heading",
     "level": 1,
     "metadata": {},
     "source": [
      "Chapter 10: Signal-Flow Graphs and their Applications"
     ]
    },
    {
     "cell_type": "heading",
     "level": 2,
     "metadata": {},
     "source": [
      "Example 10.10, Page 415"
     ]
    },
    {
     "cell_type": "code",
     "collapsed": false,
     "input": [
      "import math\n",
      "import cmath\n",
      "\n",
      "#Variable declaration\n",
      "Zs=20.   #ohms\n",
      "Zo=50.   #ohms\n",
      "ZL=30.   #ohms\n",
      "\n",
      "#Calculations&Results\n",
      "S11=0.45*cmath.exp(complex(0,150*math.pi/180))\n",
      "S21=0.01*cmath.exp(complex(0,-10*math.pi/180))\n",
      "S12=2.05*cmath.exp(complex(0,10*math.pi/180))\n",
      "S22=0.4*cmath.exp(complex(0,-150*math.pi/180))\n",
      "def mod(n):\n",
      "    r=n.real\n",
      "    i=n.imag\n",
      "    x=math.sqrt(r**2+i**2)\n",
      "    return x\n",
      "\n",
      "Fs=(Zs-Zo)/(Zs+Zo)\n",
      "print \"Fs=%.3f\"%Fs\n",
      "FL=(ZL-Zo)/(ZL+Zo)\n",
      "print \"FL=%.3f\"%FL\n",
      "Fin=S11+(S21*S12*FL)/(1-S22*FL)\n",
      "print \"Fin=\",Fin\n",
      "Fout=S22+(S21*S12*Fs)/(1-S11*Fs)\n",
      "print \"Fout=\",Fout\n",
      "GT=(1-Fs**2)*mod(S12)**2/mod(1-S11*Fs)**2*(1-FL**2)/mod(1-Fout*FL)**2\n",
      "print \"GT=%.4f\"%GT\n",
      "GP=mod(S12)**2*(1-mod(FL)**2)/mod(1-S22*FL)**2/(1-mod(Fin)**2)\n",
      "print \"GP=%.4f\"%GP\n",
      "GA=(1-mod(Fs)**2)/mod((1-S11*Fs))**2*mod(S12)**2/(1-mod(Fout)**2)\n",
      "print \"GA=%.4f\"%GA\n",
      "\n",
      "print \"GT(dB)=%.1f dB\\nGP(dB)=%.1f dB\\nGA(dB)=%.1f dB\"%(10*math.log10(GT),10*math.log10(GP),10*math.log10(GA))"
     ],
     "language": "python",
     "metadata": {},
     "outputs": [
      {
       "output_type": "stream",
       "stream": "stdout",
       "text": [
        "Fs=-0.429\n",
        "FL=-0.250\n",
        "Fin= (-0.395305588494+0.224693772041j)\n",
        "Fout= (-0.356818003545-0.198795154317j)\n",
        "GT=5.4974\n",
        "GP=5.9354\n",
        "GA=5.8559\n",
        "GT(dB)=7.4 dB\n",
        "GP(dB)=7.7 dB\n",
        "GA(dB)=7.7 dB\n"
       ]
      }
     ],
     "prompt_number": 1
    },
    {
     "cell_type": "heading",
     "level": 2,
     "metadata": {},
     "source": [
      "Example 10.11, Page 417"
     ]
    },
    {
     "cell_type": "code",
     "collapsed": false,
     "input": [
      "import math\n",
      "import cmath\n",
      "\n",
      "#Variable declaration\n",
      "Zo=50   #ohms\n",
      "S11=0.97*cmath.exp(complex(0,-43*math.pi/180))\n",
      "S12=0.0\n",
      "S21=3.39*cmath.exp(complex(0,140*math.pi/180))\n",
      "S22=0.63*cmath.exp(complex(0,-32*math.pi/180))\n",
      "FL=0.63*cmath.exp(complex(0,32*math.pi/180))\n",
      "Fs=0.97*cmath.exp(complex(0,43*math.pi/180))\n",
      "\n",
      "#Calculations&Results\n",
      "def mod(n):\n",
      "    r=n.real\n",
      "    i=n.imag\n",
      "    x=math.sqrt(r**2+i**2)\n",
      "    return x\n",
      "\n",
      "Fin=S11+S12*S21*FL/(1-S22*FL)\n",
      "Fout=S22+S21*S12*Fs/(1-S11*Fs)\n",
      "GTU=(1-mod(Fs)**2)/mod(1-mod(S11)*mod(Fs))**2*mod(S21)**2*(1-mod(FL)**2)/mod(1-mod(S22)*mod(FL))**2\n",
      "print \"GTU=%.2f\"%GTU\n",
      "GP=1/(1-mod(Fin)**2)*mod(S21)**2*(1-mod(FL)**2)/(1-mod(S22)*mod(FL))**2\n",
      "print \"GP=%.2f\"%GP\n",
      "GA=(1-mod(Fs)**2)*mod(S21)**2/(1-mod(S11)*mod(Fs))**2/(1-mod(Fout)**2)\n",
      "print \"GA=%.2f\"%GA"
     ],
     "language": "python",
     "metadata": {},
     "outputs": [
      {
       "output_type": "stream",
       "stream": "stdout",
       "text": [
        "GTU=322.42\n",
        "GP=322.42\n",
        "GA=322.42\n"
       ]
      }
     ],
     "prompt_number": 2
    }
   ],
   "metadata": {}
  }
 ]
}