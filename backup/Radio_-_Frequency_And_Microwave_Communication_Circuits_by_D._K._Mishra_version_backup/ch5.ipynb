{
 "metadata": {
  "name": "",
  "signature": "sha256:a48882476387ce24513bae6ee7687b2dff3174339c3df0909077a42ecdf4c38d"
 },
 "nbformat": 3,
 "nbformat_minor": 0,
 "worksheets": [
  {
   "cells": [
    {
     "cell_type": "heading",
     "level": 1,
     "metadata": {},
     "source": [
      "Chapter 5:Resonant Circuits"
     ]
    },
    {
     "cell_type": "heading",
     "level": 2,
     "metadata": {},
     "source": [
      "Example 5.1, Page 158"
     ]
    },
    {
     "cell_type": "code",
     "collapsed": false,
     "input": [
      "import math\n",
      "\n",
      "#Variable declaration\n",
      "f2=9      #MHz\n",
      "f1=11        #MHz\n",
      "R=50.          #ohm\n",
      "W1=2*math.pi*11*10**6      #rad/s\n",
      "W2=2*math.pi*9*10**6         #rad/s\n",
      "\n",
      "#Calculations&Results\n",
      "Wo=math.sqrt(W1*W2)\n",
      "fo=math.sqrt(f1*f2)\n",
      "print \"fo = %.6f MHz\"%fo\n",
      "L=R/(W1-W2)\n",
      "print \"L = %.f uH\"%(L*10**6)\n",
      "C=1./(L*Wo**2)\n",
      "print \"C = %.1f pF\"%(C*10**12)"
     ],
     "language": "python",
     "metadata": {},
     "outputs": [
      {
       "output_type": "stream",
       "stream": "stdout",
       "text": [
        "fo = 9.949874 MHz\n",
        "L = 4 uH\n",
        "C = 64.3 pF\n"
       ]
      }
     ],
     "prompt_number": 1
    },
    {
     "cell_type": "heading",
     "level": 2,
     "metadata": {},
     "source": [
      "Example 5.2, Page 163"
     ]
    },
    {
     "cell_type": "code",
     "collapsed": false,
     "input": [
      "import math\n",
      "\n",
      "#Variable declaration\n",
      "Lp=10**(-5)    #H\n",
      "Cp=10**(-11)   #F\n",
      "Rp=10**5       #ohm\n",
      "RL=10**5       #ohm\n",
      "\n",
      "#Calculations&Results\n",
      "Wo=1/math.sqrt(Lp*Cp)\n",
      "print \"Wo=%.0e rad/s\"%Wo\n",
      "Q=Rp/(Wo*Lp)\n",
      "print \"Q=%.0f\"%Q\n",
      "Qe=RL/(Wo*Lp)\n",
      "print \"Qe=%.0f\"%Qe\n",
      "QL=Q*Qe/(Q+Qe)\n",
      "print \"QL=%.0f\"%QL"
     ],
     "language": "python",
     "metadata": {},
     "outputs": [
      {
       "output_type": "stream",
       "stream": "stdout",
       "text": [
        "Wo=1e+08 rad/s\n",
        "Q=100\n",
        "Qe=100\n",
        "QL=50\n"
       ]
      }
     ],
     "prompt_number": 2
    },
    {
     "cell_type": "heading",
     "level": 2,
     "metadata": {},
     "source": [
      "Example 5.3, Page 166"
     ]
    },
    {
     "cell_type": "code",
     "collapsed": false,
     "input": [
      "import math\n",
      "\n",
      "#Variable declaration\n",
      "R2=62.5*10**3    #ohm\n",
      "E=1.\n",
      "L1=320.*10**(-9)    #H\n",
      "L2=20.*10**(-9)        #H\n",
      "\n",
      "#Calculations&Results\n",
      "n=math.sqrt(E*L1/L2)\n",
      "print \"n=%.0f\"%n\n",
      "R1=n**(2)*R2\n",
      "print \"Z1=%.0e ohm\\n\"%R1\n",
      "C1=(6+1./4**2*30.7)*10**-12\n",
      "print \"C1=%.2e F\\n\"%C1\n",
      "Wo=1./math.sqrt(L1*C1)\n",
      "print \"Wo=%.4e rad/s\\n\"%Wo\n",
      "fo=Wo/(2*math.pi)\n",
      "print \"fo=%.2e Hz\\n\"%fo\n",
      "Q=R1/(Wo*L1)\n",
      "print \"Q=%.4f\"%Q"
     ],
     "language": "python",
     "metadata": {},
     "outputs": [
      {
       "output_type": "stream",
       "stream": "stdout",
       "text": [
        "n=4\n",
        "Z1=1e+06 ohm\n",
        "\n",
        "C1=7.92e-12 F\n",
        "\n",
        "Wo=6.2820e+08 rad/s\n",
        "\n",
        "fo=1.00e+08 Hz\n",
        "\n",
        "Q=4974.5446\n"
       ]
      }
     ],
     "prompt_number": 7
    },
    {
     "cell_type": "heading",
     "level": 2,
     "metadata": {},
     "source": [
      "Example 5.5, Page 175"
     ]
    },
    {
     "cell_type": "code",
     "collapsed": false,
     "input": [
      "import math\n",
      "\n",
      "#Variable declaration\n",
      "a=0.455*10**-3    #m\n",
      "b=1.499*10**-3    #m\n",
      "W=2*math.pi*5*10**9    #rad/s\n",
      "uo=4*math.pi*10**-7    \n",
      "q=5.813*10**7\n",
      "Eo=8.854*10**-12\n",
      "Er=2.08\n",
      "d=0.0004\n",
      "\n",
      "#Calculations&Results\n",
      "Rs=math.sqrt(W*uo/2/q)\n",
      "print \"Rs=%f ohm\"%Rs\n",
      "ac=Rs*(1/a+1/b)/(2*math.log(b/a)*math.sqrt(uo/Eo))\n",
      "print \"ac=%f Np/m\"%ac\n",
      "ac=ac*math.sqrt(Er)\n",
      "ad=W/2*math.sqrt(uo*Eo*Er)*(d)\n",
      "Bo=2*math.pi*5*10**9/(3*10**8)\n",
      "Bd=2*math.pi*5*10**9*math.sqrt(2.08)/(3*10**8)\n",
      "a=0.058768\n",
      "Qair=Bo/(2*a)\n",
      "a=0.114963\n",
      "Qteflon=Bd/(2*a)\n",
      "print \"\\nwith teflon\\n ac=%f Np/m\\nad=%f Np/m\\nBo=%f rad/m\\nBd=%f rad/m,\\nQair=%f,\\nQteflon=%f\"%(ac,ad,Bo,Bd,Qair,Qteflon)"
     ],
     "language": "python",
     "metadata": {},
     "outputs": [
      {
       "output_type": "stream",
       "stream": "stdout",
       "text": [
        "Rs=0.018427 ohm\n",
        "ac=0.058768 Np/m\n",
        "\n",
        "with teflon\n",
        " ac=0.084757 Np/m\n",
        "ad=0.030226 Np/m\n",
        "Bo=104.719755 rad/m\n",
        "Bd=151.028979 rad/m,\n",
        "Qair=890.958984,\n",
        "Qteflon=656.859071\n"
       ]
      }
     ],
     "prompt_number": 9
    },
    {
     "cell_type": "heading",
     "level": 2,
     "metadata": {},
     "source": [
      "Example 5.6, Page 175"
     ]
    },
    {
     "cell_type": "code",
     "collapsed": false,
     "input": [
      "import math\n",
      "\n",
      "#Variable declaration\n",
      "Zo=50.    #ohms\n",
      "Er=2.08\n",
      "B=60*math.pi**2/Zo/math.sqrt(Er)\n",
      "c=3.*10**8\n",
      "f=2.*10**9  #Hz\n",
      "Ee=1.7875\n",
      "t=0.159*10**-6\n",
      "a=5.813*10**7\n",
      "fGHz=2.    #Hz\n",
      "\n",
      "#Calculations&Results\n",
      "A=Zo/60*((Er+1)/2)**(1./2)+(Er-1)/(Er+1)*(0.23+0.11/Er)\n",
      "print \"A=%.4f\\nB=%.4f\"%(A,B)\n",
      "h=1.59*10**-3\n",
      "if A>1.52:\n",
      "    W=h*(8*math.exp(A)/(math.exp(2*A)-2))\n",
      "else:\n",
      "    W=h*(2/math.pi*(B-1-math.log(2*B-1)+(Er-1)/2/Er*(math.log(B-1)+0.39-0.61/Er)))\n",
      "print \"W=%.6f cm\"%W\n",
      "\n",
      "Ere=0.5*(2.08+1+(2.08-1)/math.sqrt(1+12/3.192094))-(2.08-1)*0.0001/4.6/math.sqrt(3.1921)\n",
      "print \"Ere=%.4f\"%Ere\n",
      "l=c/(2*f*math.sqrt(Ee))\n",
      "print \"l=%.6f m\"%l\n",
      "We=W/h+0.3979*t/h*(1+math.log(2*h/t))\n",
      "print \"We/h=%.4f\"%We\n",
      "F=1+1/We*(1-1.25*t/(math.pi*h)+1.25/math.pi*math.log(2*h/t))\n",
      "ac=44.1255*10**-5*F*Zo*Ere/h*math.sqrt(fGHz/a)*(We+0.667*We/(We+1.444))\n",
      "print \"ac=%.4f Np/m\"%ac\n",
      "deln=0.00040\n",
      "ad=10.4766*Er/(Er-1)*(Ere-1)/math.sqrt(Ere)*fGHz*math.tan(deln)\n",
      "print \"ad=%.4f Np/m\"%ad\n",
      "B=2*math.pi/(2*l)\n",
      "print \"B=%.4f rad/m\"%B\n",
      "Q=B/(2*(ac+ad))\n",
      "print \"Q=%.1f\"%Q\n"
     ],
     "language": "python",
     "metadata": {},
     "outputs": [
      {
       "output_type": "stream",
       "stream": "stdout",
       "text": [
        "A=1.1333\n",
        "B=8.2120\n",
        "W=0.005075 cm\n",
        "Ere=1.7875\n",
        "l=0.056097 m\n",
        "We/h=3.1925\n",
        "ac=0.0428 Np/m\n",
        "ad=0.0095 Np/m\n",
        "B=56.0030 rad/m\n",
        "Q=535.3\n"
       ]
      }
     ],
     "prompt_number": 13
    },
    {
     "cell_type": "heading",
     "level": 2,
     "metadata": {},
     "source": [
      "Example 5.7, Page 179"
     ]
    },
    {
     "cell_type": "code",
     "collapsed": false,
     "input": [
      "import math\n",
      "\n",
      "#Variable declaration\n",
      "a=2.286*10**-2\n",
      "b=1.016*10**-2\n",
      "f=9.379*10**9\n",
      "\n",
      "#Calculations\n",
      "c=1./2/math.sqrt((9379./300)**2-(1./2/a)**2)\n",
      "\n",
      "print \"c=%.5f m = %.4f cm\"%(c,c*100)\n"
     ],
     "language": "python",
     "metadata": {},
     "outputs": [
      {
       "output_type": "stream",
       "stream": "stdout",
       "text": [
        "c=0.02238 m = 2.2383 cm\n"
       ]
      }
     ],
     "prompt_number": 15
    },
    {
     "cell_type": "heading",
     "level": 2,
     "metadata": {},
     "source": [
      "Example 5.8, Page 179"
     ]
    },
    {
     "cell_type": "code",
     "collapsed": false,
     "input": [
      "import math\n",
      "\n",
      "#Variable declaration\n",
      "Er=2.05\n",
      "ur=1\n",
      "a=.016 #m\n",
      "b=.0071   #m\n",
      "c=.0156   #m\n",
      "m=1  \n",
      "p=1 \n",
      "\n",
      "#Calculations\n",
      "fr=(300/math.sqrt(ur*Er))*math.sqrt((m/(2*a))**2+(p/(2*c))**2) \n",
      "\n",
      "#Result\n",
      "print \"fr = %.3e MHz\"%fr"
     ],
     "language": "python",
     "metadata": {},
     "outputs": [
      {
       "output_type": "stream",
       "stream": "stdout",
       "text": [
        "fr = 9.379e+03 MHz\n"
       ]
      }
     ],
     "prompt_number": 16
    },
    {
     "cell_type": "heading",
     "level": 2,
     "metadata": {},
     "source": [
      "Example 5.9, Page 181"
     ]
    },
    {
     "cell_type": "code",
     "collapsed": false,
     "input": [
      "import math\n",
      "\n",
      "#Variable declaration\n",
      "w=2*math.pi*5*10**9\n",
      "u=4*math.pi*10**-7\n",
      "a=5.8*10**7\n",
      "\n",
      "#Calculations&Results\n",
      "r=math.sqrt((3.832**2+(math.pi/2)**2)/(5000*2*math.pi/300)**2)\n",
      "h=2*r\n",
      "deln=math.sqrt(2/(w*u*a))\n",
      "print \"del=%.4e m\"%deln\n",
      "Qc=47.7465*10**6/(9.3459*10**-7*5*10**9)*(3.832**2+(math.pi/2)**2)**1.5/((3.832**2+(math.pi/2)**2)+1)\n",
      "print \"Qc=%.2f\"%Qc"
     ],
     "language": "python",
     "metadata": {},
     "outputs": [
      {
       "output_type": "stream",
       "stream": "stdout",
       "text": [
        "del=9.3459e-07 m\n",
        "Qc=39984.60\n"
       ]
      }
     ],
     "prompt_number": 17
    },
    {
     "cell_type": "heading",
     "level": 2,
     "metadata": {},
     "source": [
      "Example 5.10, Page 183"
     ]
    },
    {
     "cell_type": "code",
     "collapsed": false,
     "input": [
      "import math\n",
      "\n",
      "#Variable declaration\n",
      "fr=35*10**9\n",
      "w=2*math.pi*fr\n",
      "Es=9.9\n",
      "Er=36\n",
      "uo=4*math.pi*10**-7\n",
      "Eo=8.8154*10**-12\n",
      "\n",
      "#Calculations&Results\n",
      "z1=1.2892*10**8/(fr*math.sqrt(Es))\n",
      "z2=1.2892*10**8/(fr*math.sqrt(Er))\n",
      "r=0.835*10**-3\n",
      "ko=w*math.sqrt(uo*Eo)\n",
      "y=math.sqrt((ko*r)**2*(Er-1)-5.784)\n",
      "print \"y=%.3f\"%y\n",
      "k_=2.405/r+y/(2.405*r*(1+2.43/y+0.291*y))\n",
      "print \"k_=%.3e\"%k_\n",
      "a1=math.sqrt(k_**2-ko**2*Es)\n",
      "a2=math.sqrt(k_**2-ko**2)\n",
      "B=math.sqrt(ko**2*Er-k_**2)\n",
      "print \"a1=%.3e\\na2=%.3e\\nB=%.3e\"%(a1,a2,B)\n",
      "d=10**-3\n",
      "t=.25*10**-3\n",
      "h=1/B*(math.atan(a1/(B*math.tanh(a1*t)))+math.atan(a2/(B*math.tanh(a2*d))))\n",
      "print \"h=%.3e m\"%h\n",
      "\n"
     ],
     "language": "python",
     "metadata": {},
     "outputs": [
      {
       "output_type": "stream",
       "stream": "stdout",
       "text": [
        "y=2.700\n",
        "k_=3.381e+03\n",
        "a1=2.475e+03\n",
        "a2=3.301e+03\n",
        "B=2.803e+03\n",
        "h=6.713e-04 m\n"
       ]
      }
     ],
     "prompt_number": 18
    }
   ],
   "metadata": {}
  }
 ]
}