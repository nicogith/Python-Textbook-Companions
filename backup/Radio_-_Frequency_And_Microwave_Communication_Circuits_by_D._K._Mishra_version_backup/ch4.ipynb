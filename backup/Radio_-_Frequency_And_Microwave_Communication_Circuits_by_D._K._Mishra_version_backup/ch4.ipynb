{
 "metadata": {
  "name": "",
  "signature": "sha256:c17211a167acfe5c821a41119ce2c2dab6be2959cc555f4a346b8d0b52facb7c"
 },
 "nbformat": 3,
 "nbformat_minor": 0,
 "worksheets": [
  {
   "cells": [
    {
     "cell_type": "heading",
     "level": 1,
     "metadata": {},
     "source": [
      "Chapter 4: Electromagnetic Fields and Waves"
     ]
    },
    {
     "cell_type": "heading",
     "level": 2,
     "metadata": {},
     "source": [
      "Example 4.3, Page 112"
     ]
    },
    {
     "cell_type": "code",
     "collapsed": false,
     "input": [
      "import math\n",
      "\n",
      "#Variable declaration\n",
      "Eo=8.854*10**-12\n",
      "uo=4*math.pi*10**-7\n",
      "\n",
      "#Calculations\n",
      "W=2/math.sqrt(uo*Eo)\n",
      "\n",
      "#Result\n",
      "print \"W=%.e rad/s\"%W"
     ],
     "language": "python",
     "metadata": {},
     "outputs": [
      {
       "output_type": "stream",
       "stream": "stdout",
       "text": [
        "W=6e+08 rad/s\n"
       ]
      }
     ],
     "prompt_number": 1
    },
    {
     "cell_type": "heading",
     "level": 2,
     "metadata": {},
     "source": [
      "Example 4.4, Page 113"
     ]
    },
    {
     "cell_type": "code",
     "collapsed": false,
     "input": [
      "import math\n",
      "import scipy\n",
      "from scipy.integrate import dblquad\n",
      "\n",
      "#Calculations\n",
      "def f(x,y):\n",
      "    return ((math.cos((math.pi/2)*math.cos(x*math.pi/180)*math.pi/180)**2)*60*math.pi)/math.sin(x*math.pi/180)\n",
      "r,e = scipy.integrate.dblquad(f,0,math.pi,lambda x:0,lambda x:2*math.pi)\n",
      "\n",
      "#Result\n",
      "print \"The radiated power is %.1f kW\"%(r/1000)\n",
      "#Answer differs due to use of python libraries"
     ],
     "language": "python",
     "metadata": {},
     "outputs": [
      {
       "output_type": "stream",
       "stream": "stdout",
       "text": [
        "The radiated power is 1413.0 kW\n"
       ]
      }
     ],
     "prompt_number": 8
    },
    {
     "cell_type": "heading",
     "level": 2,
     "metadata": {},
     "source": [
      "Example 4.5, Page 116"
     ]
    },
    {
     "cell_type": "code",
     "collapsed": false,
     "input": [
      "import math\n",
      "\n",
      "#Variable declaration\n",
      "B=2*math.pi\n",
      "C=3*10**8    #m/s\n",
      "\n",
      "#Calculations\n",
      "lamda=2*math.pi/B   #m\n",
      "f=C/lamda           #Hz\n",
      "W=2*math.pi*f\n",
      "uo=4*math.pi*10**-7\n",
      "k=2*math.pi\n",
      "n=W*uo/k\n",
      "\n",
      "#Results\n",
      "print \"(a)lambda=%.0f m\\n(b)f=%.0f MHz\\n(c)n=%.4f ohm\"%(lamda,f*10**-6,n)"
     ],
     "language": "python",
     "metadata": {},
     "outputs": [
      {
       "output_type": "stream",
       "stream": "stdout",
       "text": [
        "(a)lambda=1 m\n",
        "(b)f=300 MHz\n",
        "(c)n=376.9911 ohm\n"
       ]
      }
     ],
     "prompt_number": 9
    },
    {
     "cell_type": "heading",
     "level": 2,
     "metadata": {},
     "source": [
      "Example 4.6, Page 116"
     ]
    },
    {
     "cell_type": "code",
     "collapsed": false,
     "input": [
      "import math\n",
      "\n",
      "#Variable declaration\n",
      "uo=1.2567*10**-6\n",
      "f=10**4        #Hz\n",
      "W=2*math.pi*f\n",
      "a=4            #S/m\n",
      "\n",
      "#Calculations\n",
      "k=complex(math.sqrt(W*uo*a/2),math.sqrt(W*uo*a/2))\n",
      "B=k.real\n",
      "a=k.imag\n",
      "lamda=2*math.pi/B   #m\n",
      "Vp=W/B\n",
      "delta=1/a\n",
      "\n",
      "#Results\n",
      "print \"k=\",k,\"m^-1\"\n",
      "print \"lambda=%.4f m\\nVp=%.4e m/s\\ndelta=%.4f m\"%(lamda,Vp,delta)"
     ],
     "language": "python",
     "metadata": {},
     "outputs": [
      {
       "output_type": "stream",
       "stream": "stdout",
       "text": [
        "k= (0.397393481968+0.397393481968j) m^-1\n",
        "lambda=15.8110 m\n",
        "Vp=1.5811e+05 m/s\n",
        "delta=2.5164 m\n"
       ]
      }
     ],
     "prompt_number": 10
    },
    {
     "cell_type": "heading",
     "level": 2,
     "metadata": {},
     "source": [
      "Example 4.7, Page 118"
     ]
    },
    {
     "cell_type": "code",
     "collapsed": false,
     "input": [
      "import math\n",
      "\n",
      "#Variable declaration\n",
      "ky=6\n",
      "kz=8\n",
      "\n",
      "#Calculations&Results\n",
      "kr=math.sqrt(ky**2+kz**2)\n",
      "print \"kr=%.0f m^-1\"%kr\n",
      "\n",
      "#(a)\n",
      "O=180/math.pi*math.asin(ky/kr)\n",
      "theta=(180-O)*math.pi/180\n",
      "Vr=3*10**8   #m/s\n",
      "print \"(a)\\ntheta=%.2f degree\"%O\n",
      "\n",
      "#(b)\n",
      "lr=2*math.pi/kr\n",
      "ly=2*math.pi/ky\n",
      "lz=2*math.pi/kz\n",
      "print \"(b)\\nlr=%.4f m\\nly=%.4f m\\nlz=%.4f m\"%(lr,ly,lz)\n",
      "\n",
      "#(c)\n",
      "W=Vr*kr\n",
      "f=W/lr\n",
      "Vpy=W/ky\n",
      "Vpz=W/kz\n",
      "print \"(c)\\nW=%.0e rad/s\\nf=%.2e Hz\\nVpy=%.1e m/s\\nVpz=%.2e m/s\"%(W,f,Vpy,Vpz)\n",
      "\n",
      "#(d)\n",
      "Ver=3*10**8   #m/s\n",
      "Vey=Ver*math.sin(theta)\n",
      "Vez=Ver*math.cos(theta)\n",
      "print \"(d)\\nVey=%.1e m/s\\nVez=%.1e m/s\"%(Vey,Vez)"
     ],
     "language": "python",
     "metadata": {},
     "outputs": [
      {
       "output_type": "stream",
       "stream": "stdout",
       "text": [
        "kr=10 m^-1\n",
        "(a)\n",
        "theta=36.87 degree\n",
        "(b)\n",
        "lr=0.6283 m\n",
        "ly=1.0472 m\n",
        "lz=0.7854 m\n",
        "(c)\n",
        "W=3e+09 rad/s\n",
        "f=4.77e+09 Hz\n",
        "Vpy=5.0e+08 m/s\n",
        "Vpz=3.75e+08 m/s\n",
        "(d)\n",
        "Vey=1.8e+08 m/s\n",
        "Vez=-2.4e+08 m/s\n"
       ]
      }
     ],
     "prompt_number": 11
    },
    {
     "cell_type": "heading",
     "level": 2,
     "metadata": {},
     "source": [
      "Example 4.10, Page 125"
     ]
    },
    {
     "cell_type": "heading",
     "level": 2,
     "metadata": {},
     "source": [
      "import math\n",
      "\n",
      "#Variable declaration\n",
      "Er=2.25\n",
      "ur=1\n",
      "W=10**9\n",
      "p=0.2\n",
      "uo=4*math.pi*10**-7\n",
      "Eo=8.854*10**-12\n",
      "\n",
      "#Calculations\n",
      "ko=W*math.sqrt(uo*Eo)  #rad/m\n",
      "k2=W*math.sqrt(uo*Eo*Er) #rad/m\n",
      "n1=math.sqrt(uo/Eo)     #ohm\n",
      "n2=math.sqrt(uo/Eo/Er)  #ohm\n",
      "R=(n2-n1)/(n1+n2)\n",
      "T=2*n2/(n1+n2)\n",
      "VSWR=(1+p)/(1-p)\n",
      "Pav=3.84**2/(2*n2)\n",
      "\n",
      "#Results\n",
      "print \"ko=%.4f rad/m\\nk2=%.4f rad/m\\nn1=%.4f ohm\\nn2=%.4f ohm\\nR=%.2f\\nT=%.2f \\nVSWR=%.2f\\nPav=%.4f W/m^2\"%(ko,k2,n1,n2,R,T,VSWR,Pav)"
     ]
    },
    {
     "cell_type": "heading",
     "level": 2,
     "metadata": {},
     "source": [
      "Example 4.11, Page 135"
     ]
    },
    {
     "cell_type": "code",
     "collapsed": false,
     "input": [
      "import math\n",
      "\n",
      "#Variable declaration\n",
      "qo=2.5*10**-2\n",
      "\n",
      "#Calculations&Results\n",
      "for m in range(1,5):\n",
      "    fc=3*10**8*m/(9*10**-2)\n",
      "    qc=2*4.5*10**-2/m\n",
      "    print \"m=%d\\nfc=%.4e Hz\\nlambdaC=%.2e m\"%(m,fc,qc)\n",
      "    print \"TM0=%.4e Hz\"%fc\n",
      "    q=qo/math.sqrt(abs(1-(qo/qc)**2))\n",
      "    print \"lambda=%.4f m\\n\"%(q*10**2)\n",
      "\n",
      "print \"Since cut-off frequqency for TM40 is higher than signal frequency, the TM40 mode will not exist\""
     ],
     "language": "python",
     "metadata": {},
     "outputs": [
      {
       "output_type": "stream",
       "stream": "stdout",
       "text": [
        "m=1\n",
        "fc=3.3333e+09 Hz\n",
        "lambdaC=9.00e-02 m\n",
        "TM0=3.3333e+09 Hz\n",
        "lambda=2.6024 m\n",
        "\n",
        "m=2\n",
        "fc=6.6667e+09 Hz\n",
        "lambdaC=4.50e-02 m\n",
        "TM0=6.6667e+09 Hz\n",
        "lambda=3.0067 m\n",
        "\n",
        "m=3\n",
        "fc=1.0000e+10 Hz\n",
        "lambdaC=3.00e-02 m\n",
        "TM0=1.0000e+10 Hz\n",
        "lambda=4.5227 m\n",
        "\n",
        "m=4\n",
        "fc=1.3333e+10 Hz\n",
        "lambdaC=2.25e-02 m\n",
        "TM0=1.3333e+10 Hz\n",
        "lambda=5.1619 m\n",
        "\n",
        "Since cut-off frequqency for TM40 is higher than signal frequency, the TM40 mode will not exist\n"
       ]
      }
     ],
     "prompt_number": 13
    },
    {
     "cell_type": "heading",
     "level": 2,
     "metadata": {},
     "source": [
      "Example 4.12, Page 142"
     ]
    },
    {
     "cell_type": "code",
     "collapsed": false,
     "input": [
      "import math\n",
      "\n",
      "#Variable declaration\n",
      "a=0.0158     #m\n",
      "b=0.0079     #m\n",
      "f=15.8*10**9  #Hz\n",
      "\n",
      "#Calculations&Results\n",
      "#TE10\n",
      "m=1.\n",
      "n=0\n",
      "fc=3*10**8*math.sqrt((m/2/a)**2+(n/2/b)**2)\n",
      "print \"(a)\\nfor TE10 \\n\\tfc=%.4f GHz\"%(fc*10**-9)\n",
      "Vp=3*10**8/math.sqrt(1-(fc/f)**2)\n",
      "\n",
      "#TE20\n",
      "m=2.\n",
      "n=0\n",
      "fc=3*10**8*math.sqrt((m/2/a)**2+(n/2/b)**2)\n",
      "print \"for TE20 \\n\\tfc=%.4f GHz\"%(fc*10**-9)\n",
      "\n",
      "#TE01\n",
      "m=0\n",
      "n=1.\n",
      "fc=3*10**8*math.sqrt((m/2/a)**2+(n/2/b)**2)\n",
      "print \"for TE01 \\n\\tfc=%.4f GHz\"%(fc*10**-9)\n",
      "#TE11\n",
      "m=1.\n",
      "n=1.\n",
      "fc=3*10**8*math.sqrt((m/2/a)**2+(n/2/b)**2)\n",
      "print \"for TE11 \\n\\tfc=%.4f GHz\"%(fc*10**-9)\n",
      "print \"(c)\\nVp=%.4e m/s\"%Vp\n"
     ],
     "language": "python",
     "metadata": {},
     "outputs": [
      {
       "output_type": "stream",
       "stream": "stdout",
       "text": [
        "(a)\n",
        "for TE10 \n",
        "\tfc=9.4937 GHz\n",
        "for TE20 \n",
        "\tfc=18.9873 GHz\n",
        "for TE01 \n",
        "\tfc=18.9873 GHz\n",
        "for TE11 \n",
        "\tfc=21.2285 GHz\n",
        "(c)\n",
        "Vp=3.7530e+08 m/s\n"
       ]
      }
     ],
     "prompt_number": 14
    }
   ],
   "metadata": {}
  }
 ]
}