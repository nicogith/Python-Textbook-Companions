{
 "metadata": {
  "name": "",
  "signature": "sha256:e1f9af00fb65c63a70689c374390ef7e45cd1c81f194aa049c9b1c13e2aa1643"
 },
 "nbformat": 3,
 "nbformat_minor": 0,
 "worksheets": [
  {
   "cells": [
    {
     "cell_type": "heading",
     "level": 1,
     "metadata": {},
     "source": [
      "Chapter 2: Communication Systems"
     ]
    },
    {
     "cell_type": "heading",
     "level": 2,
     "metadata": {},
     "source": [
      "Example 2.1, Page 21"
     ]
    },
    {
     "cell_type": "code",
     "collapsed": false,
     "input": [
      "import math\n",
      "\n",
      "#Variable declaration\n",
      "# diameter of dish (m)\n",
      "d=30.;\n",
      "#frequency of radiation (Hz)\n",
      "f=4.*10**9;\n",
      "# speed of light(m/s)\n",
      "c=3.*10**8;\n",
      "# efficiency of aperture\n",
      "e=0.6;\n",
      "\n",
      "\n",
      "#Calculations&Results\n",
      "wavelength=c/f\n",
      "print \"wavelength of radiating signal=%.3f m\"%wavelength\n",
      "A=math.pi*d**2/4\n",
      "print \"area of aperture A=%.4f m**2\"%A\n",
      "G=4*math.pi*A*e/wavelength**2\n",
      "print \"antenna gain G=%.3f or %.0f dB\"%(G,10*math.log10(G))\n",
      "BW=65*wavelength/d\n",
      "print \"half power beam width = %.4f degree\"%BW\n"
     ],
     "language": "python",
     "metadata": {},
     "outputs": [
      {
       "output_type": "stream",
       "stream": "stdout",
       "text": [
        "wavelength of radiating signal=0.075 m\n",
        "area of aperture A=706.8583 m**2\n",
        "antenna gain G=947482.023 or 60 dB\n",
        "half power beam width = 0.1625 degree\n"
       ]
      }
     ],
     "prompt_number": 2
    },
    {
     "cell_type": "heading",
     "level": 2,
     "metadata": {},
     "source": [
      "Example 2.2, Page 22"
     ]
    },
    {
     "cell_type": "code",
     "collapsed": false,
     "input": [
      "import math\n",
      "import scipy\n",
      "\n",
      "#Variable declaration\n",
      "#impedance of transmission line\n",
      "Za=73.\n",
      "#impedance of antenna\n",
      "Zo=50.\n",
      "#radiation efficiency\n",
      "ecd=1.\n",
      "\n",
      "#Calculations&Results\n",
      "from scipy import integrate\n",
      "x = lambda x:math.sin(x)**4\n",
      "I,err=integrate.quad(x,0,math.pi)\n",
      "Do=(4*math.pi)/(I*2*math.pi)\n",
      "print \"Do=%.4f=%.4f dB\"%(Do,10*math.log10(Do))\n",
      "#voltage reflection coefficient\n",
      "F=(Za-Zo)/(Za+Zo)\n",
      "print \"voltage reflection coefficient =%f\"%F\n",
      "#mismatch efficiency of antenna\n",
      "er=1-F**2\n",
      "print \"mismatch efficiency of antenna =%.4f=%.4f dB\"%(er,10*math.log10(er))\n",
      "#overall gain\n",
      "Go=10*math.log10(Do)+10*math.log10(er)+10*math.log10(ecd)\n",
      "print \"overall gain = %.4f dB\"%Go"
     ],
     "language": "python",
     "metadata": {},
     "outputs": [
      {
       "output_type": "stream",
       "stream": "stdout",
       "text": [
        "Do=1.6977=2.2985 dB\n",
        "voltage reflection coefficient =0.186992\n",
        "mismatch efficiency of antenna =0.9650=-0.1546 dB\n",
        "overall gain = 2.1439 dB\n"
       ]
      }
     ],
     "prompt_number": 3
    },
    {
     "cell_type": "heading",
     "level": 2,
     "metadata": {},
     "source": [
      "Example 2.3, Page 24"
     ]
    },
    {
     "cell_type": "code",
     "collapsed": false,
     "input": [
      "import math\n",
      "import numpy\n",
      "\n",
      "#Variable declaration\n",
      "print \"unit vector along the polarization of incident wave is ui=[1 0 0]\"\n",
      "ui=[1, 0, 0];\n",
      "print \"unit vector along the antenna polarization ua=[1 1 0]*(1/sqrt(2))\\n\"\n",
      "q = (1/math.sqrt(2));\n",
      "\n",
      "#Calculations\n",
      "ua = [x * q for x in [1,1,0]]\n",
      "d=[a*b for a,b in zip(ui,ua)]\n",
      "\n",
      "#Result\n",
      "print \"polarization loss factor |ui*ua|**2=%.2f or = %.2f dB\"%(d[0]**2,10*math.log10(d[0]**2))\n"
     ],
     "language": "python",
     "metadata": {},
     "outputs": [
      {
       "output_type": "stream",
       "stream": "stdout",
       "text": [
        "unit vector along the polarization of incident wave is ui=[1 0 0]\n",
        "unit vector along the antenna polarization ua=[1 1 0]*(1/sqrt(2))\n",
        "\n",
        "polarization loss factor |ui*ua|**2=0.50 or = -3.01 dB\n"
       ]
      }
     ],
     "prompt_number": 4
    },
    {
     "cell_type": "heading",
     "level": 2,
     "metadata": {},
     "source": [
      "Example 2.4, Page 25"
     ]
    },
    {
     "cell_type": "code",
     "collapsed": false,
     "input": [
      "import math\n",
      "\n",
      "#Variable declaration \n",
      "# output of high power amplifier(W)\n",
      "Pt=500;\n",
      "#efficiency\n",
      "e=0.8;\n",
      "#gain of transmitting antenna(60dB=10**6)\n",
      "G=10**6;\n",
      "\n",
      "#Calculations&Results\n",
      "Pant=e*Pt\n",
      "print \"output power of antenna Pant=%.f W\"%Pant\n",
      "L=Pt/Pant\n",
      "print \"input/output power ratio =%.2f=%.4f dB\"%(L,10*math.log10(L))\n",
      "EIRP=Pt*G/L\n",
      "print \"EIRP =%.4f dBw\"%(10*math.log10(Pt)+10*math.log10(G)-10*math.log10(L))\n",
      "print \"EIRP=%.2e W\"%EIRP"
     ],
     "language": "python",
     "metadata": {},
     "outputs": [
      {
       "output_type": "stream",
       "stream": "stdout",
       "text": [
        "output power of antenna Pant=400 W\n",
        "input/output power ratio =1.25=0.9691 dB\n",
        "EIRP =86.0206 dBw\n",
        "EIRP=4.00e+08 W\n"
       ]
      }
     ],
     "prompt_number": 5
    },
    {
     "cell_type": "heading",
     "level": 2,
     "metadata": {},
     "source": [
      "Example 2.5, Page 26"
     ]
    },
    {
     "cell_type": "code",
     "collapsed": false,
     "input": [
      "import math\n",
      "\n",
      "#Variable declaration\n",
      "R = 35860000.  #m\n",
      "F = 4.*10**9   #operating frequency,Hz\n",
      "c = 3.*10**8   #m/s\n",
      "\n",
      "#Calculations\n",
      "lamda = c/f   #m\n",
      "spl = ((4*math.pi*R)/lamda)**2\n",
      "\n",
      "#Result\n",
      "print \"Space loss ratio = %.2e\"%spl\n",
      "#incorrect answer in textbook"
     ],
     "language": "python",
     "metadata": {},
     "outputs": [
      {
       "output_type": "stream",
       "stream": "stdout",
       "text": [
        "Space loss ratio = 3.61e+19\n"
       ]
      }
     ],
     "prompt_number": 11
    },
    {
     "cell_type": "heading",
     "level": 2,
     "metadata": {},
     "source": [
      "Example 2.6, Page 28"
     ]
    },
    {
     "cell_type": "code",
     "collapsed": false,
     "input": [
      "import math\n",
      "\n",
      "#Variable declaration\n",
      "#transmitting antenna gain (dB)\n",
      "Gt=37\n",
      "# ground station antenna gain (dB)\n",
      "Gr=45.8\n",
      "#frequency of signal\n",
      "f=20*10**3\n",
      "#distance from ground station\n",
      "R=36941.031\n",
      "\n",
      "#Calculations&Results\n",
      "Pt=10*math.log10(2000)\n",
      "print \"power transmitted\\n\\tPt = %.4f dB\\n\"%Pt\n",
      "Pr=Pt+Gt+Gr-20*math.log10(f*R)-32.4418    #Pt,Pr in dBm and Gt,Gr in dB f in MHz and R in km\n",
      "print \"power received at earth station\\n\\t = %.4f dBm\"%Pr\n",
      "Gt=0    #Gt in dB\n",
      "Gr=0    #Gr in dB\n",
      "Pr=Pt+Gt+Gr-20*math.log10(f*R)-32.4418 \n",
      "print \"if two antennas are isotropic \\n\\t = %.4fdB, or  %.4emW\"%(Pr,10**(Pr/10))"
     ],
     "language": "python",
     "metadata": {},
     "outputs": [
      {
       "output_type": "stream",
       "stream": "stdout",
       "text": [
        "power transmitted\n",
        "\tPt = 33.0103 dB\n",
        "\n",
        "power received at earth station\n",
        "\t = -94.0023 dBm\n",
        "if two antennas are isotropic \n",
        "\t = -176.8023dB, or  2.0882e-18mW\n"
       ]
      }
     ],
     "prompt_number": 12
    },
    {
     "cell_type": "heading",
     "level": 2,
     "metadata": {},
     "source": [
      "Example 2.7, Page 30"
     ]
    },
    {
     "cell_type": "code",
     "collapsed": false,
     "input": [
      "import math\n",
      "\n",
      "#Variable declaration\n",
      "# input power to the antenna(W)\n",
      "Ps=2;\n",
      "#reflection coefficient of transmitting antenna\n",
      "Yt=0.1\n",
      "#reflection coefficient of receiving antenna\n",
      "Yr=0.2\n",
      "#distance between two antennas\n",
      "#consider\n",
      "A=10**(-5)\n",
      "R=100*(A)\n",
      "#maximum directivity of receiving antenna(20 dB = 10**(20/10))\n",
      "Gr=10**(20./10)\n",
      "#maximum directivity of transmitting antenna(16dB=10**(16/10))\n",
      "Gt=10**(16./10)\n",
      "\n",
      "#Calculations&Results\n",
      "# power transmitted in the forward direction\n",
      "Pt = (1-Yt**2)*Ps\n",
      "print \"power transmitted in the forward direction\\n\\t = %.2f W\"%Pt\n",
      "#Friis transmission equation\n",
      "Pr=Pt*(A/(4*math.pi*R))**2*Gr*Gt\n",
      "print \"Friis equation \\n\\t = %fW or %.f mW\"%(Pr,Pr*1000)\n",
      "\n",
      "#power delivered to receiver\n",
      "Pd=(1-Yr**2)*Pr\n",
      "print \"power delivered to receiver\\n\\t = %.1f mW\"%(Pd*1000)"
     ],
     "language": "python",
     "metadata": {},
     "outputs": [
      {
       "output_type": "stream",
       "stream": "stdout",
       "text": [
        "power transmitted in the forward direction\n",
        "\t = 1.98 W\n",
        "Friis equation \n",
        "\t = 0.004992W or 5 mW\n",
        "power delivered to receiver\n",
        "\t = 4.8 mW\n"
       ]
      }
     ],
     "prompt_number": 13
    },
    {
     "cell_type": "heading",
     "level": 2,
     "metadata": {},
     "source": [
      "Example 2.8, Page 31"
     ]
    },
    {
     "cell_type": "code",
     "collapsed": false,
     "input": [
      "import math\n",
      "\n",
      "#Variable declaration\n",
      "#power transmission(W)\n",
      "Pt=25000\n",
      "#operating frequency(Hz)\n",
      "f=12*10**9\n",
      "#gain of transmitter antenna(25dB)\n",
      "Gt=10**(25./10)\n",
      "#gain of receiver antenna(25dB)\n",
      "Gr=10**(25./10)\n",
      "#distance between two radars(m)\n",
      "R=10000\n",
      "#surface area of target radar(m**2)\n",
      "A=8\n",
      "c=3.*10**8\n",
      "\n",
      "#Calculations&Results\n",
      "#wavelength L\n",
      "L=c/f\n",
      "print \"wavelength of signal = %.3f m\"%L\n",
      "Pr=Gr*Gt*Pt*A*L**2/(4*math.pi*(4*math.pi*R**2)**2)\n",
      "print \"received power = %.2eW or %.2f pW\"%(Pr,Pr*10**12)"
     ],
     "language": "python",
     "metadata": {},
     "outputs": [
      {
       "output_type": "stream",
       "stream": "stdout",
       "text": [
        "wavelength of signal = 0.025 m\n",
        "received power = 6.30e-13W or 0.63 pW\n"
       ]
      }
     ],
     "prompt_number": 14
    },
    {
     "cell_type": "heading",
     "level": 2,
     "metadata": {},
     "source": [
      "Example 2.9, Page 36"
     ]
    },
    {
     "cell_type": "code",
     "collapsed": false,
     "input": [
      "import math\n",
      "\n",
      "#Variable declaration\n",
      "#noise power at Th=290 K(dBm)\n",
      "P1=-70.\n",
      "Th=290.\n",
      "#noise power at Tc=77 K(dBm)\n",
      "P2=-75.\n",
      "Tc=77.\n",
      "#given noise temperature(K)\n",
      "Ts=450 \n",
      "#frequency band B\n",
      "B=1.5*10**9-500*10**6\n",
      "#power gain of amplifier(10dB=10)\n",
      "G=10\n",
      "#boltzamn constant\n",
      "k=1.38*10**(-23)\n",
      "\n",
      "#Calculations&Results\n",
      "#Y-factor(Y=P1/P2 = (P1-P2)dBm)\n",
      "Y=10**((P1-P2)/10)\n",
      "print \" Y-factor = %.4f\"%Y\n",
      "#equivalent noise temperature\n",
      "Te=(Th-Y*Tc)/(Y-1)\n",
      "print \"equivalent noise temperature = %.2f K\"%Te\n",
      "#noise power output of amplifier\n",
      "Po=G*k*Ts*B+G*k*Te*B\n",
      "print \"noise power output = %.4e W or %.4f dBm\"%(Po,10*math.log10(Po*1000))\n"
     ],
     "language": "python",
     "metadata": {},
     "outputs": [
      {
       "output_type": "stream",
       "stream": "stdout",
       "text": [
        " Y-factor = 3.1623\n",
        "equivalent noise temperature = 21.51 K\n",
        "noise power output = 6.5068e-11 W or -71.8663 dBm\n"
       ]
      }
     ],
     "prompt_number": 15
    },
    {
     "cell_type": "heading",
     "level": 2,
     "metadata": {},
     "source": [
      "Example 2.10, Page 38"
     ]
    },
    {
     "cell_type": "code",
     "collapsed": false,
     "input": [
      "import math\n",
      "\n",
      "#Variable declaration\n",
      "#noise figure(dB)\n",
      "NF=3.5\n",
      "#band width(Hz)\n",
      "B=(12-10)*10**9\n",
      "#amplifier gain\n",
      "G=10**(20./10)\n",
      "To=290\n",
      "k=1.38*10**-23\n",
      "\n",
      "#Calculations&Results\n",
      "#noise factor\n",
      "F=10**(NF/10)\n",
      "print \"noise factor = %.4f\"%F\n",
      "No=F*k*To*B*G\n",
      "print \"output noise power = %.4e W or %.1f dBm\"%(No,10*math.log10(No*1000))"
     ],
     "language": "python",
     "metadata": {},
     "outputs": [
      {
       "output_type": "stream",
       "stream": "stdout",
       "text": [
        "noise factor = 2.2387\n",
        "output noise power = 1.7919e-09 W or -57.5 dBm\n"
       ]
      }
     ],
     "prompt_number": 16
    },
    {
     "cell_type": "heading",
     "level": 2,
     "metadata": {},
     "source": [
      "Example 2.11, Page 42"
     ]
    },
    {
     "cell_type": "code",
     "collapsed": false,
     "input": [
      "import math\n",
      "\n",
      "#Variable declaration\n",
      "#ambient temperature(K)\n",
      "Te=300.\n",
      "To=290.\n",
      "#noise temperature of amplifier(K)\n",
      "Ta=150.\n",
      "k=1.38*10**-23\n",
      "#band width(Hz)\n",
      "B=100.*10**6\n",
      "#gain of amplifier\n",
      "Gamp=10**(15./10)\n",
      "# for transmission lines\n",
      "Gline=1./10**0.2\n",
      "\n",
      "#Calculations&Results\n",
      "#noise factor for amplifier\n",
      "Famp=1+Ta/To\n",
      "print \"Famp=1+Ta/To\"\n",
      "#noise for transmission lines\n",
      "Fline=1+(1./Gline-1)*Te/To\n",
      "print \"Fline=1+(1/Gline-1)*Te/To\"\n",
      "Fcascaded=Fline+(Famp-1)/Gline\n",
      "print \"(a)noise figure of cascaded system\\n\\t = %.4f or %.4f dB\"%(Fcascaded,10*math.log10(Fcascaded))\n",
      "Fcascaded=Famp+(Fline-1)/Gamp\n",
      "print \"(b)if the amplifier is connected before the line\\n\\t = %.4f or %.4f dB\"%(Fcascaded,10*math.log10(Fcascaded))"
     ],
     "language": "python",
     "metadata": {},
     "outputs": [
      {
       "output_type": "stream",
       "stream": "stdout",
       "text": [
        "Famp=1+Ta/To\n",
        "Fline=1+(1/Gline-1)*Te/To\n",
        "(a)noise figure of cascaded system\n",
        "\t = 2.4248 or 3.8468 dB\n",
        "(b)if the amplifier is connected before the line\n",
        "\t = 1.5364 or 1.8650 dB\n"
       ]
      }
     ],
     "prompt_number": 17
    },
    {
     "cell_type": "heading",
     "level": 2,
     "metadata": {},
     "source": [
      "Example 2.12, Page 43"
     ]
    },
    {
     "cell_type": "code",
     "collapsed": false,
     "input": [
      "import math\n",
      "\n",
      "#Variable declaration\n",
      "#noise factor of A1\n",
      "F1=10**(3./10)\n",
      "#noise factor of A2\n",
      "F2=10**(5./10)\n",
      "#gain of amplifier A1\n",
      "G1=10**(20./10)\n",
      "#gain of amplifier A2\n",
      "G2=10**(20./10)\n",
      "\n",
      "#Calculations&Results\n",
      "#overall gain of cascaded system\n",
      "G=G1*G2\n",
      "print \"overall gain of cascaded system = %.2f or %.f dB\"%(G,10*math.log10(G))\n",
      "\n",
      "#overall noise figure of cascaded system\n",
      "F=F1+(F2-1)/G1\n",
      "print \"overall noise of cascaded system = %.6f or %.3f dB\"%(F,10*math.log10(F))    #some difference in result is due to approx in calculation\n",
      "F=F2+(F1-1)/G2\n",
      "print \"overall noise of cascaded system when order of amplifiers is changed = %.6f or %.6f dB\"%(F,10*math.log10(F))"
     ],
     "language": "python",
     "metadata": {},
     "outputs": [
      {
       "output_type": "stream",
       "stream": "stdout",
       "text": [
        "overall gain of cascaded system = 10000.00 or 40 dB\n",
        "overall noise of cascaded system = 2.016885 or 3.047 dB\n",
        "overall noise of cascaded system when order of amplifiers is changed = 3.172230 or 5.013647 dB\n"
       ]
      }
     ],
     "prompt_number": 18
    },
    {
     "cell_type": "heading",
     "level": 2,
     "metadata": {},
     "source": [
      "Example 2.13, Page 45"
     ]
    },
    {
     "cell_type": "code",
     "collapsed": false,
     "input": [
      "import math\n",
      "\n",
      "#Variable declaration\n",
      "#noise factor\n",
      "F=10**(10/10)\n",
      "\n",
      "#Calculations&Results\n",
      "print \"(a)B=1MHz\"\n",
      "B=1\n",
      "Pimds=-111+F+10*math.log10(B)     #F in dB, B in MHz, Pidms in dBm\n",
      "print \"\\tPimds = %.1f dBm or %.2e mW\"%(Pimds,10**(Pimds/10))\n",
      "\n",
      "print \"(b)B=1GHz\"\n",
      "B=1000\n",
      "Pimds=-111+F+10*math.log10(B)     #F in dB, B in MHz, Pidms in dBm\n",
      "print \"\\tPimds = %.1f dBm or %.2e mW\"%(Pimds,10**(Pimds/10))\n",
      "\n",
      "print \"(c)B=10GHz\"\n",
      "B=10000\n",
      "Pimds=-111+F+10*math.log10(B)     #F in dB, B in MHz, Pidms in dBm\n",
      "print \"\\tPimds = %.1f dBm or %.2e mW\"%(Pimds,10**(Pimds/10))\n",
      "\n",
      "print \"(d)B=1kHz\"\n",
      "B=0.001\n",
      "Pimds=-111+F+10*math.log10(B)     #F in dB, B in MHz, Pidms in dBm\n",
      "print \"\\tPimds = %.1f dBm or %.2e mW\"%(Pimds,10**(Pimds/10))"
     ],
     "language": "python",
     "metadata": {},
     "outputs": [
      {
       "output_type": "stream",
       "stream": "stdout",
       "text": [
        "(a)B=1MHz\n",
        "\tPimds = -101.0 dBm or 7.94e-11 mW\n",
        "(b)B=1GHz\n",
        "\tPimds = -71.0 dBm or 7.94e-08 mW\n",
        "(c)B=10GHz\n",
        "\tPimds = -61.0 dBm or 7.94e-07 mW\n",
        "(d)B=1kHz\n",
        "\tPimds = -131.0 dBm or 7.94e-14 mW\n"
       ]
      }
     ],
     "prompt_number": 19
    },
    {
     "cell_type": "heading",
     "level": 2,
     "metadata": {},
     "source": [
      "Example 2.14, Page 51"
     ]
    },
    {
     "cell_type": "code",
     "collapsed": false,
     "input": [
      "#Variable declaration\n",
      "#input signal(dBm)\n",
      "Pin=-15\n",
      "#intercept point of characteristic curve(dBm)\n",
      "Pip=25\n",
      "\n",
      "#Calculations\n",
      "Pimr=(Pin-Pip)*2     #Pimr in dB; Pin,Pip in dBm\n",
      "\n",
      "#Result\n",
      "print \"intermodulation ratio = %.1f dB\"%Pimr"
     ],
     "language": "python",
     "metadata": {},
     "outputs": [
      {
       "output_type": "stream",
       "stream": "stdout",
       "text": [
        "intermodulation ratio = -80.0 dB\n"
       ]
      }
     ],
     "prompt_number": 20
    },
    {
     "cell_type": "heading",
     "level": 2,
     "metadata": {},
     "source": [
      "Example 2.15, Page 52"
     ]
    },
    {
     "cell_type": "code",
     "collapsed": false,
     "input": [
      "import math\n",
      "\n",
      "#Variable declaration\n",
      "To=290\n",
      "#bandwidth(Hz)\n",
      "B=500*10**3\n",
      "k=1.38*10**-23\n",
      "#noise factor\n",
      "F=10**(8./10)\n",
      "#input power at IP\n",
      "Pip=10\n",
      "\n",
      "#Calculations&Results\n",
      "Nf=k*To*B*F\n",
      "print \"Nf = %.4e or %.2f dBm\"%(Nf,10*math.log10(Nf*1000))\n",
      "Nf=10*math.log10(Nf*1000)   #Nf in dBm\n",
      "DR=2./3*(Pip-Nf)    #DR in dB; Pip,Nf in dBm\n",
      "print \"dynamic range = %.2f dB\"%DR\n"
     ],
     "language": "python",
     "metadata": {},
     "outputs": [
      {
       "output_type": "stream",
       "stream": "stdout",
       "text": [
        "Nf = 1.2625e-14 or -108.99 dBm\n",
        "dynamic range = 79.33 dB\n"
       ]
      }
     ],
     "prompt_number": 21
    }
   ],
   "metadata": {}
  }
 ]
}