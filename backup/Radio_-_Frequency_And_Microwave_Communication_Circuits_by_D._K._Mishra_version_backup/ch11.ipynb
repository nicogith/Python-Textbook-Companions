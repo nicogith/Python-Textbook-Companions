{
 "metadata": {
  "name": "",
  "signature": "sha256:8abffd4998fa2e6a075f3c39d9ce567e0e1c0b1d568509602c4e287918525cb0"
 },
 "nbformat": 3,
 "nbformat_minor": 0,
 "worksheets": [
  {
   "cells": [
    {
     "cell_type": "heading",
     "level": 1,
     "metadata": {},
     "source": [
      "Chapter 11: Transistor Amplifier Design"
     ]
    },
    {
     "cell_type": "heading",
     "level": 2,
     "metadata": {},
     "source": [
      "Example 11.1, Page 428"
     ]
    },
    {
     "cell_type": "code",
     "collapsed": false,
     "input": [
      "import math\n",
      "import cmath\n",
      "\n",
      "#Variable declaration\n",
      "def mod(n):\n",
      "    r=n.real\n",
      "    i=n.imag\n",
      "    x=math.sqrt(r**2+i**2)\n",
      "    return x\n",
      "    \n",
      "S11=0.894*cmath.exp(complex(0,-60.6*math.pi/180))\n",
      "S12=0.02*cmath.exp(complex(0,62.4*math.pi/180))\n",
      "S21=3.122*cmath.exp(complex(0,123.6*math.pi/180))\n",
      "S22=0.781*cmath.exp(complex(0,-27.6*math.pi/180))\n",
      "\n",
      "#Calculations\n",
      "deln=mod((S11*S22)-(S12*S21))\n",
      "k=(1+mod(deln)**2-mod(S11)**2-mod(S22)**2)/2/mod(S12*S21)\n",
      "\n",
      "#Results\n",
      "print \"|del|=%.4f\"%deln\n",
      "print \"k=%.4f\"%k"
     ],
     "language": "python",
     "metadata": {},
     "outputs": [
      {
       "output_type": "stream",
       "stream": "stdout",
       "text": [
        "|del|=0.6964\n",
        "k=0.6071\n"
       ]
      }
     ],
     "prompt_number": 1
    },
    {
     "cell_type": "heading",
     "level": 2,
     "metadata": {},
     "source": [
      "Example 11.2, Page 429"
     ]
    },
    {
     "cell_type": "code",
     "collapsed": false,
     "input": [
      "import math\n",
      "import cmath\n",
      "\n",
      "#Variable declaration\n",
      "Zo=50   #ohms\n",
      "S11=0.6*cmath.exp(complex(0,-155*math.pi/180))\n",
      "S22=0.48*cmath.exp(complex(0,-20*math.pi/180))\n",
      "S12=0\n",
      "S21=6*cmath.exp(complex(0,180*math.pi/180))\n",
      "Ss11=0.606*cmath.exp(complex(0,155*math.pi/180))\n",
      "Ss22=0.48*cmath.exp(complex(0,20*math.pi/180))\n",
      "\n",
      "def mod(n):\n",
      "    r=n.real\n",
      "    i=n.imag\n",
      "    x=math.sqrt(r**2+i**2)\n",
      "    return x\n",
      " \n",
      "#Calculations&Results   \n",
      "#k=(1-mod(S11)**2-mod(S22)**2+mod(del)**2)/(2*mod(S12*S21))\n",
      "deln=mod(S11*S22-S12*S21)\n",
      "print \"mod(del)=%.3f\"%mod(deln)\n",
      "GTUmax=(1-mod(Ss11)**2)*mod(S21)**2/mod((1-mod(S11)**2))**2*(1-mod(Ss22)**2)/mod((1-mod(S22)**2))**2\n",
      "print \"GTUmax=%.4f\"%GTUmax\n",
      "print \"GTUmax in dB=%.3f\"%(10*math.log10(GTUmax))"
     ],
     "language": "python",
     "metadata": {},
     "outputs": [
      {
       "output_type": "stream",
       "stream": "stdout",
       "text": [
        "mod(del)=0.288\n",
        "GTUmax=72.2635\n",
        "GTUmax in dB=18.589\n"
       ]
      }
     ],
     "prompt_number": 2
    },
    {
     "cell_type": "heading",
     "level": 2,
     "metadata": {},
     "source": [
      "Example 11.3, Page 435"
     ]
    },
    {
     "cell_type": "code",
     "collapsed": false,
     "input": [
      "import math\n",
      "import cmath\n",
      "\n",
      "#Variable declaration\n",
      "S11=0.614*cmath.exp(complex(0,-167.4*math.pi/180))\n",
      "S21=2.187*cmath.exp(complex(0,32.4*math.pi/180))\n",
      "S12=0.046*cmath.exp(complex(0,65*math.pi/180))\n",
      "S22=0.716*cmath.exp(complex(0,-83*math.pi/180))\n",
      "\n",
      "def mod(n):\n",
      "    r=n.real\n",
      "    i=n.imag\n",
      "    x=math.sqrt(r**2+i**2)\n",
      "    return x\n",
      " \n",
      "#Calculations&Results   \n",
      "deln=(S11*S22-S12*S21)\n",
      "B1=1+mod(S11)**2-mod(S22)**2-mod(deln)**2\n",
      "B2=1+mod(S22)**2-mod(S11)**2-mod(deln)**2\n",
      "C1=S11-S22*deln\n",
      "C2=S22-S11*deln\n",
      "\n",
      "\n",
      "print \"del=%.4f\"%mod(deln)\n",
      "k=(1-mod(S11)**2-mod(S22)**2+mod(deln)**2)/(2*mod(S12*S21))\n",
      "print \"k=%.4f\"%k\n",
      "FMS=(B1-cmath.sqrt(B1**2-4*mod(C1)**2))/(2*C1)\n",
      "print \"FMS=\",FMS\n",
      "FML= (B2-cmath.sqrt(B2**2-4*mod(C2)**2))/(2*C2)\n",
      "print \"FML=\",FML\n",
      "GTmax=mod(S21)/mod(S12)*(k-math.sqrt(k**2-1))\n",
      "print \"GTmax=%.3f\"%GTmax\n",
      "print \"GTmax in dB=%.2f dB\"%(10*math.log10(GTmax))"
     ],
     "language": "python",
     "metadata": {},
     "outputs": [
      {
       "output_type": "stream",
       "stream": "stdout",
       "text": [
        "del=0.3420\n",
        "k=1.1296\n",
        "FMS= (-0.147420203038+0.989073952612j)\n",
        "FML= (0.2768408015+0.960915797885j)\n",
        "GTmax=28.728\n",
        "GTmax in dB=14.58 dB\n"
       ]
      }
     ],
     "prompt_number": 3
    },
    {
     "cell_type": "heading",
     "level": 2,
     "metadata": {},
     "source": [
      "Example 11.4, Page 438"
     ]
    },
    {
     "cell_type": "code",
     "collapsed": false,
     "input": [
      "import math\n",
      "import cmath\n",
      "\n",
      "#Variable declaration\n",
      "#for transistor A\n",
      "def mod(n):\n",
      "    r=n.real\n",
      "    i=n.imag\n",
      "    x=math.sqrt(r**2+i**2)\n",
      "    return x\n",
      "\n",
      "\n",
      "S11=0.45*cmath.exp(complex(0,math.pi/180*150))\n",
      "S12=0.01*cmath.exp(complex(0,-math.pi/180*10))\n",
      "S21=2.05*cmath.exp(complex(0,math.pi/180*10))\n",
      "S22=0.4*cmath.exp(complex(0,-math.pi/180*150))\n",
      "\n",
      "#Calculations&Results\n",
      "UA=(mod(S12)*mod(S21)*mod(S11)*mod(S22))/(1-mod(S11)**2)/(1-mod(S22)**2)\n",
      "print \"UA=%.5f\"%UA\n",
      "\n",
      "#for transistor B\n",
      "S11=0.641*cmath.exp(complex(0,-math.pi/180*171.3))\n",
      "S12=0.057*cmath.exp(complex(0,math.pi/180*16.3))\n",
      "S21=2.058*cmath.exp(complex(0,math.pi/180*28.5))\n",
      "S22=0.572*cmath.exp(complex(0,-math.pi/180*95.7))\n",
      "UB=(mod(S12)*mod(S21)*mod(S11)*mod(S22))/(1-mod(S11)**2)/(1-mod(S22)**2)\n",
      "print \"UB=%.4f\"%UB"
     ],
     "language": "python",
     "metadata": {},
     "outputs": [
      {
       "output_type": "stream",
       "stream": "stdout",
       "text": [
        "UA=0.00551\n",
        "UB=0.1085\n"
       ]
      }
     ],
     "prompt_number": 4
    },
    {
     "cell_type": "heading",
     "level": 2,
     "metadata": {},
     "source": [
      "Example 11.5, Page 440"
     ]
    },
    {
     "cell_type": "code",
     "collapsed": false,
     "input": [
      "import math\n",
      "import cmath\n",
      "\n",
      "#Variable declaration\n",
      "S11=0.75*cmath.exp(complex(0,-120*math.pi/180))\n",
      "S22=0.6*cmath.exp(complex(0,-70*math.pi/180))\n",
      "S21=2.5*cmath.exp(complex(0,80*math.pi/180))\n",
      "def mod(n):\n",
      "    r=n.real\n",
      "    i=n.imag\n",
      "    x=math.sqrt(r**2+i**2)\n",
      "    return x\n",
      "    \n",
      "#Calculations&Results\n",
      "GSmax=1/(1-mod(S11)**2)\n",
      "GLmax=1/(1-mod(S22)**2)\n",
      "Go=mod(S21)**2\n",
      "print \"GSmax=%.5f\"%GSmax\n",
      "print \"GSmax in dB=%.2f\"%(10*math.log10(GSmax))\n",
      "print \"GLmax=%.4f\"%GLmax\n",
      "print \"GLmax in dB=%.2f\"%(10*math.log10(GLmax))\n",
      "print \"Go=%.2f\"%Go\n",
      "print \"Go in dB=%.2f\"%(10*math.log10(Go))\n",
      "GTUmax=10*math.log10(GSmax*GLmax*Go)\n",
      "print \"GTUmax=%.2f\"%GTUmax"
     ],
     "language": "python",
     "metadata": {},
     "outputs": [
      {
       "output_type": "stream",
       "stream": "stdout",
       "text": [
        "GSmax=2.28571\n",
        "GSmax in dB=3.59\n",
        "GLmax=1.5625\n",
        "GLmax in dB=1.94\n",
        "Go=6.25\n",
        "Go in dB=7.96\n",
        "GTUmax=13.49\n"
       ]
      }
     ],
     "prompt_number": 5
    },
    {
     "cell_type": "heading",
     "level": 2,
     "metadata": {},
     "source": [
      "Example 11.6, Page 444"
     ]
    },
    {
     "cell_type": "code",
     "collapsed": false,
     "input": [
      "import math\n",
      "import cmath\n",
      "\n",
      "#Variable declaration\n",
      "Gs=10**0.5\n",
      "S11=2.27*cmath.exp(complex(0,-math.pi/180*120))\n",
      "S21=4*cmath.exp(complex(0,math.pi/180*50))\n",
      "S12=0\n",
      "S22=0.6*cmath.exp(complex(0,-math.pi/180*80))\n",
      "Ss11=2.27*cmath.exp(complex(0,math.pi/180*120))\n",
      "def mod(n):\n",
      "    r=n.real\n",
      "    i=n.imag\n",
      "    x=math.sqrt(r**2+i**2)\n",
      "    return x\n",
      "\n",
      "#Calculations&Results\n",
      "#(b)\n",
      "gs=Gs*(1-mod(S11)**2)\n",
      "Rs=(1-mod(S11)**2)*math.sqrt(1-gs)/(1-(1-gs)*mod(S11)**2)\n",
      "ds=gs*(Ss11)/(1-(1-gs)*mod(S11)**2)\n",
      "print \"\\nGs=%.4f\\ngs=%.4f\\nRs=%.4f\"%(Gs,gs,Rs)\n",
      "print \"ds=\",ds\n",
      "Gs=10**.3\n",
      "gs=Gs*(1-mod(S11)**2)\n",
      "Rs=(1-mod(S11)**2)*math.sqrt(1-gs)/(1-(1-gs)*mod(S11)**2)\n",
      "ds=gs*(Ss11)/(1-(1-gs)*mod(S11)**2)\n",
      "print \"\\nGs=%.f\\ngs=%.4f\\nRs=%.4f\"%(Gs,gs,Rs)\n",
      "print \"ds=\",ds\n",
      "GLmax=1./(1-mod(S22)**2)\n",
      "print \"GLmax=%.4f\"%GLmax\n",
      "Go=mod(S21)**2\n",
      "print \"Go=%.f\"%Go\n",
      "GTU=3+10*math.log10(GLmax*Go)\n",
      "print \"\\nGTU=%.4f dB\"%GTU"
     ],
     "language": "python",
     "metadata": {},
     "outputs": [
      {
       "output_type": "stream",
       "stream": "stdout",
       "text": [
        "\n",
        "Gs=3.1623\n",
        "gs=-13.1326\n",
        "Rs=0.2174\n",
        "ds= (-0.207528521651+0.359449943519j)\n",
        "\n",
        "Gs=2\n",
        "gs=-8.2861\n",
        "Rs=0.2701\n",
        "ds= (-0.200739739785+0.347691428406j)\n",
        "GLmax=1.5625\n",
        "Go=16\n",
        "\n",
        "GTU=16.9794 dB\n"
       ]
      }
     ],
     "prompt_number": 6
    }
   ],
   "metadata": {}
  }
 ]
}