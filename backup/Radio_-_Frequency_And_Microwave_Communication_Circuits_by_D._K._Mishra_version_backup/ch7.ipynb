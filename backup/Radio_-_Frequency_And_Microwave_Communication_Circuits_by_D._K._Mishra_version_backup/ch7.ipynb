{
 "metadata": {
  "name": "",
  "signature": "sha256:6bedf389e33b93f035c1411c13273d034bea1056d10f03e66600362753274959"
 },
 "nbformat": 3,
 "nbformat_minor": 0,
 "worksheets": [
  {
   "cells": [
    {
     "cell_type": "heading",
     "level": 1,
     "metadata": {},
     "source": [
      "Chapter 7: Impedance Transformers"
     ]
    },
    {
     "cell_type": "heading",
     "level": 2,
     "metadata": {},
     "source": [
      "Example 7.1, Page 236"
     ]
    },
    {
     "cell_type": "code",
     "collapsed": false,
     "input": [
      "import math\n",
      "\n",
      "#Variable declaration\n",
      "RL=100  #ohms\n",
      "Zo=50   #ohms\n",
      "PM=0.05 #reflection co-efficient\n",
      "c=3.0*10**8  #m/s\n",
      "f=900*10**6 #Hz\n",
      "\n",
      "#Calculations\n",
      "lamda=c/f\n",
      "Z1=math.sqrt(RL*Zo)\n",
      "l=lamda/4\n",
      "fractional_bandwidth=2-4/math.pi*math.acos(abs(2*PM*math.sqrt(Zo*RL)/(RL-Zo)/math.sqrt(1-PM**2)))\n",
      "\n",
      "#Results\n",
      "print \"Z1=%f ohm\\nl=%.4f m\\nfractional bandwidth=%.7f\"%(Z1,l,fractional_bandwidth)"
     ],
     "language": "python",
     "metadata": {},
     "outputs": [
      {
       "output_type": "stream",
       "stream": "stdout",
       "text": [
        "Z1=70.710678 ohm\n",
        "l=0.0833 m\n",
        "fractional bandwidth=0.1808967\n"
       ]
      }
     ],
     "prompt_number": 1
    },
    {
     "cell_type": "heading",
     "level": 2,
     "metadata": {},
     "source": [
      "Example 7.5, Page 258"
     ]
    },
    {
     "cell_type": "code",
     "collapsed": false,
     "input": [
      "import math\n",
      "\n",
      "#Variable declaration\n",
      "delf=0.6   #fractional bandwidth\n",
      "fo=1\n",
      "Zo=100     #ohms\n",
      "\n",
      "#Calculations\n",
      "Qz=math.acos(1./math.sqrt(2)*math.cos((2-delf/fo)/4*math.pi))\n",
      "Qm=math.acos(math.sqrt(2)*math.cos(Qz))\n",
      "Z_L=5.\n",
      "k=math.sqrt((Z_L-1)**2/(4*Z_L*math.tan(Qz)**4))\n",
      "Pm=math.sqrt(k**2/(1+k**2))\n",
      "Z1=math.sqrt(math.sqrt(((Z_L-1)**2/(4*math.tan(Qz)**4))+Z_L)+((Z_L-1)/(2*math.tan(Qz)**2)))\n",
      "Z2=Z_L/Z1*Zo\n",
      "Z_in=Z1**2/Z2**2*Z_L*10**4\n",
      "F=(Z_in-1)/(Z_in+1)\n",
      "\n",
      "#Results\n",
      "print \"Qz=%.4f rad\\nQm=%.1f\\nPm=%.4f\\nZ_1=%.2f ohm\\nZ2=%.2f ohm\\nZ-in=%.4f\\nF=%.4f\"%(Qz,Qm,Pm,Z1*100,Z2,Z_in,F)"
     ],
     "language": "python",
     "metadata": {},
     "outputs": [
      {
       "output_type": "stream",
       "stream": "stdout",
       "text": [
        "Qz=1.2440 rad\n",
        "Qm=1.1\n",
        "Pm=0.1022\n",
        "Z_1=157.40 ohm\n",
        "Z2=317.65 ohm\n",
        "Z-in=1.2277\n",
        "F=0.1022\n"
       ]
      }
     ],
     "prompt_number": 2
    }
   ],
   "metadata": {}
  }
 ]
}