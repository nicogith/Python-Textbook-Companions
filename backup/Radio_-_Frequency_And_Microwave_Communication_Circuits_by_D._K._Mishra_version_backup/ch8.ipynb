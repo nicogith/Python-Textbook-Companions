{
 "metadata": {
  "name": "",
  "signature": "sha256:70d81ef1f908254502182062c2d7ba8efbc6e74011d16030cffb7af806003fed"
 },
 "nbformat": 3,
 "nbformat_minor": 0,
 "worksheets": [
  {
   "cells": [
    {
     "cell_type": "heading",
     "level": 1,
     "metadata": {},
     "source": [
      "Chapter 8: Two-Port Networks"
     ]
    },
    {
     "cell_type": "heading",
     "level": 2,
     "metadata": {},
     "source": [
      "Example 8.1, Page 285"
     ]
    },
    {
     "cell_type": "code",
     "collapsed": false,
     "input": [
      "#Variable declaration\n",
      "#From the figure 8.2\n",
      "I1=1     #A\n",
      "\n",
      "#Calculations\n",
      "V1=6*I1     #V\n",
      "Z11=V1/I1   #ohms\n",
      "V2=6*I1     #V\n",
      "Z21=V2/I1   #ohms\n",
      "I2=1        #A\n",
      "V1=6*I2     #V\n",
      "Z12=V1/I2   #ohms\n",
      "V2=6*I2     #V\n",
      "Z22=V2/I2   #V\n",
      "A=[[Z11,Z12],[Z21,Z22]]\n",
      "\n",
      "#Result\n",
      "print \"A=\",A"
     ],
     "language": "python",
     "metadata": {},
     "outputs": [
      {
       "output_type": "stream",
       "stream": "stdout",
       "text": [
        "A= [[6, 6], [6, 6]]\n"
       ]
      }
     ],
     "prompt_number": 1
    },
    {
     "cell_type": "heading",
     "level": 2,
     "metadata": {},
     "source": [
      "Example 8.2, Page 286"
     ]
    },
    {
     "cell_type": "code",
     "collapsed": false,
     "input": [
      "#Variable declaration\n",
      "#From figure 8.3\n",
      "I1=1        #A\n",
      "V2=0        #V\n",
      "\n",
      "#Calculations\n",
      "V1=12*I1        #V\n",
      "Z21=V2/I1       #ohms\n",
      "Z11=V1/I1       #ohms\n",
      "I2=1            #A\n",
      "V2=3*I2         #V\n",
      "V1=0            #V\n",
      "Z12=V1/I2       #ohms\n",
      "V2=3*I2         #V\n",
      "Z22=V2/I2       #ohms\n",
      "A=[[Z11,Z12],[Z21,Z22]]\n",
      "\n",
      "#Result\n",
      "print \"A=\",A"
     ],
     "language": "python",
     "metadata": {},
     "outputs": [
      {
       "output_type": "stream",
       "stream": "stdout",
       "text": [
        "A= [[12, 0], [0, 3]]\n"
       ]
      }
     ],
     "prompt_number": 2
    },
    {
     "cell_type": "heading",
     "level": 2,
     "metadata": {},
     "source": [
      "Example 8.3, Page 286"
     ]
    },
    {
     "cell_type": "code",
     "collapsed": false,
     "input": [
      "#Variable declaration\n",
      "#From figure 8.4\n",
      "I1=1    #A\n",
      "I2=1    #A\n",
      "\n",
      "#Calculations\n",
      "V1=18*I1    #V\n",
      "V2=6*I1     #V\n",
      "Z11=V1/I1   #ohms\n",
      "Z21=V2/I1   #ohms\n",
      "V2=9*I2     #V\n",
      "V1=6*I2     #V\n",
      "Z12=V1/I2   #ohms\n",
      "Z22=V2/I2   #ohms\n",
      "A=[[Z11,Z12],[Z21,Z22]]\n",
      "\n",
      "#Result\n",
      "print \"A=\",A"
     ],
     "language": "python",
     "metadata": {},
     "outputs": [
      {
       "output_type": "stream",
       "stream": "stdout",
       "text": [
        "A= [[18, 6], [6, 9]]\n"
       ]
      }
     ],
     "prompt_number": 3
    },
    {
     "cell_type": "heading",
     "level": 2,
     "metadata": {},
     "source": [
      "Example 8.5, Page 290"
     ]
    },
    {
     "cell_type": "code",
     "collapsed": false,
     "input": [
      "#Variable declaration\n",
      "#From figure 8.7\n",
      "V2=1    #V\n",
      "V1=1    #V\n",
      "V2=0    #V\n",
      "\n",
      "#Calculations\n",
      "I1=0.05*V1      #A\n",
      "I2=-0.05*V1     #A\n",
      "Y11=I1/V1       #mho\n",
      "Y21=I2/V1       #mho\n",
      "I2=0.05*V2      #A\n",
      "I1=-0.05*V2     #A\n",
      "Y12=-0.05       #mho\n",
      "Y22=0.05        #mho\n",
      "A=[[Y11,Y12],[Y21,Y22]]\n",
      "\n",
      "#Result\n",
      "print \"A=\",A"
     ],
     "language": "python",
     "metadata": {},
     "outputs": [
      {
       "output_type": "stream",
       "stream": "stdout",
       "text": [
        "A= [[0.05, -0.05], [-0.05, 0.05]]\n"
       ]
      }
     ],
     "prompt_number": 4
    },
    {
     "cell_type": "heading",
     "level": 2,
     "metadata": {},
     "source": [
      "Example 8.6, Page 291"
     ]
    },
    {
     "cell_type": "code",
     "collapsed": false,
     "input": [
      "#Variable declaration\n",
      "#From figure 8.8\n",
      "V1=1    #V\n",
      "V2=1    #V\n",
      "\n",
      "#Calculations\n",
      "I1=0.0225/0.325*V1  #A\n",
      "VN=I1/(0.2+0.025)   #V\n",
      "I2=-0.2*VN          #A\n",
      "Y11=I1/V1           #mho\n",
      "Y21=I2/V1           #mho\n",
      "I2=0.025/0.325*V2   #A\n",
      "VM=I2/(0.1+0.025)   #V\n",
      "I1=-0.1*VM          #A\n",
      "Y12=I1/V2           #mho    \n",
      "Y22=I2/V2           #mho\n",
      "A=[[Y11,Y12],[Y21,Y22]]\n",
      "\n",
      "#Result\n",
      "print \"A=\",A"
     ],
     "language": "python",
     "metadata": {},
     "outputs": [
      {
       "output_type": "stream",
       "stream": "stdout",
       "text": [
        "A= [[0.06923076923076922, -0.06153846153846154], [-0.061538461538461535, 0.07692307692307693]]\n"
       ]
      }
     ],
     "prompt_number": 5
    },
    {
     "cell_type": "heading",
     "level": 2,
     "metadata": {},
     "source": [
      "Example 8.7, Page 292"
     ]
    },
    {
     "cell_type": "code",
     "collapsed": false,
     "input": [
      "#Variable declaration\n",
      "#From figure 8.9\n",
      "V1=1    #V\n",
      "V2=1    #V\n",
      "\n",
      "#Calculations\n",
      "I1=0.1192*V1        #A\n",
      "IN=0.05*I1/(0.05+(0.1*(0.2+0.025)/(0.1+0.2+0.025))) #A\n",
      "IM=0.2*0.0692*V1/(0.2+0.025)    #A\n",
      "I2=-(IN+IM) #A\n",
      "Y11=I1/V1   #mho\n",
      "Y21=I2/V1   #mho\n",
      "I2=(0.05+0.2*(0.1+0.025)/(0.2+0.1+0.025))*V2    #A\n",
      "IN=0.05*I2/(0.05+(0.2*(0.1+0.025)/(0.2+.1+0.025)))  #A\n",
      "IM=0.1*0.0769*V2/(0.1+0.025)    #A\n",
      "I1=-(IN+IM) #A\n",
      "Y12=I1/V2   #mho\n",
      "Y22=I2/V2   #mho\n",
      "A=[[Y11,Y12],[Y21,Y22]]\n",
      "\n",
      "#Result\n",
      "print \"A=\",A"
     ],
     "language": "python",
     "metadata": {},
     "outputs": [
      {
       "output_type": "stream",
       "stream": "stdout",
       "text": [
        "A= [[0.1192, -0.11152000000000001], [-0.11149820788530465, 0.12692307692307692]]\n"
       ]
      }
     ],
     "prompt_number": 6
    },
    {
     "cell_type": "heading",
     "level": 2,
     "metadata": {},
     "source": [
      "Example 8.9, Page 297"
     ]
    },
    {
     "cell_type": "code",
     "collapsed": false,
     "input": [
      "#Variable declaration\n",
      "#From figure 8.12\n",
      "I1=1        #A\n",
      "\n",
      "#Calculations\n",
      "V1=14*I1    #V\n",
      "I2=-2./3*I1  #A\n",
      "h11=V1/I1\n",
      "h21=I2/I1\n",
      "V2=9*I2     #V\n",
      "V1=6*I2     #V\n",
      "h12=V1/V2\n",
      "h22=I2/V2\n",
      "A=[[h11,h12],[h21,h22]]\n",
      "\n",
      "#Result\n",
      "print \"A=\",A"
     ],
     "language": "python",
     "metadata": {},
     "outputs": [
      {
       "output_type": "stream",
       "stream": "stdout",
       "text": [
        "A= [[14, 0.6666666666666666], [-0.6666666666666666, 0.1111111111111111]]\n"
       ]
      }
     ],
     "prompt_number": 7
    },
    {
     "cell_type": "heading",
     "level": 2,
     "metadata": {},
     "source": [
      "Example 8.10, Page 299"
     ]
    },
    {
     "cell_type": "code",
     "collapsed": false,
     "input": [
      "#Variable declaration\n",
      "#From figure 8.13\n",
      "I1=1    #A\n",
      "\n",
      "#Calculations\n",
      "I2=-I1      #A\n",
      "V1=I1       #V\n",
      "B=-V1/I2    \n",
      "D=-I1/I2\n",
      "V2=V1       #V\n",
      "I1=0        #A\n",
      "A=V1/V2\n",
      "C=I1/V2\n",
      "M=[[A,B],[C,D]]\n",
      "\n",
      "#Result\n",
      "print \"A=\",M"
     ],
     "language": "python",
     "metadata": {},
     "outputs": [
      {
       "output_type": "stream",
       "stream": "stdout",
       "text": [
        "A= [[1, 1], [0, 1]]\n"
       ]
      }
     ],
     "prompt_number": 8
    },
    {
     "cell_type": "heading",
     "level": 2,
     "metadata": {},
     "source": [
      "Example 8.14, Page 313"
     ]
    },
    {
     "cell_type": "code",
     "collapsed": false,
     "input": [
      "import math\n",
      "import cmath\n",
      "\n",
      "#Calculations&Results\n",
      "V1in=0.5*((10*cmath.exp(complex(0,math.pi/180*0)))+(50*(.1*cmath.exp(complex(0,math.pi/180*40)))))\n",
      "print \"V1in=\",V1in\n",
      "\n",
      "V1ref=0.5*((10*cmath.exp(complex(0,math.pi/180*0)))-(50*(.1*cmath.exp(complex(0,math.pi/180*40)))))\n",
      "print \"V1ref=\",V1ref\n",
      "\n",
      "V2in=0.5*((12*cmath.exp(complex(0,math.pi/180*30)))+(50*(.15*cmath.exp(complex(0,math.pi/180*100)))))\n",
      "print \"V2in=\",V2in\n",
      "\n",
      "V2ref=0.5*((12*cmath.exp(complex(0,math.pi/180*30)))-(50*(.15*cmath.exp(complex(0,math.pi/180*100)))))\n",
      "print \"V2ref=\",V2ref"
     ],
     "language": "python",
     "metadata": {},
     "outputs": [
      {
       "output_type": "stream",
       "stream": "stdout",
       "text": [
        "V1in= (6.9151111078+1.60696902422j)\n",
        "V1ref= (3.0848888922-1.60696902422j)\n",
        "V2in= (4.54497175646+6.6930290738j)\n",
        "V2ref= (5.84733308896-0.693029073796j)\n"
       ]
      }
     ],
     "prompt_number": 9
    },
    {
     "cell_type": "heading",
     "level": 2,
     "metadata": {},
     "source": [
      "Example 8.17, Page 317"
     ]
    },
    {
     "cell_type": "code",
     "collapsed": false,
     "input": [
      "from fractions import Fraction\n",
      "\n",
      "#Variable declaration\n",
      "n=10.\n",
      "\n",
      "#Calculations\n",
      "S11=(n**2-1)/(n**2+1)\n",
      "S11 = str(Fraction(S11).limit_denominator())\n",
      "S21=2*n/(n**2+1)\n",
      "S21 = str(Fraction(S21).limit_denominator())\n",
      "S22=(1-n**2)/(1+n**2)\n",
      "S22 = str(Fraction(S22).limit_denominator())\n",
      "S12=2*n/(n**2+1)\n",
      "S12 = str(Fraction(S12).limit_denominator())\n",
      "A=[[S11,S12],[S21,S22]]\n",
      "\n",
      "#Result\n",
      "print \"The S-parameters are:\\n\",A\n"
     ],
     "language": "python",
     "metadata": {},
     "outputs": [
      {
       "output_type": "stream",
       "stream": "stdout",
       "text": [
        "The S-parameters are:\n",
        "[['99/101', '20/101'], ['20/101', '-99/101']]\n"
       ]
      }
     ],
     "prompt_number": 10
    },
    {
     "cell_type": "heading",
     "level": 2,
     "metadata": {},
     "source": [
      "Example 8.19, Page 319"
     ]
    },
    {
     "cell_type": "code",
     "collapsed": false,
     "input": [
      "#Variable declaration\n",
      "Zo1=50  #ohms\n",
      "Zo2=50  #ohms\n",
      "Vs1=1   #V\n",
      "Vs2=1   #V\n",
      "\n",
      "#Calculations\n",
      "Z1=complex(0,50)+(50*complex(0,-25)/complex(50,-25))\n",
      "S11=(Z1-Zo1)/(Z1+Zo1)\n",
      "Z2=(complex(50,50)*complex(0,-25))/complex(50,(50-25))\n",
      "S22=(Z2-Zo2)/(Z2+Zo2)\n",
      "V2=complex(10,-20)/complex(50,50)+complex(10,-20)*Vs1\n",
      "S21=2*V2/Vs1\n",
      "V2=complex(10,-30)/complex((50+10),-30)*Vs2\n",
      "V1=50/complex(50,50)*V2\n",
      "S12=2*V1/Vs2\n",
      "A=[[S11,S12],[S21,S22]]\n",
      "\n",
      "#Result\n",
      "print \"The Scattering parameters are:\\n\",A"
     ],
     "language": "python",
     "metadata": {},
     "outputs": [
      {
       "output_type": "stream",
       "stream": "stdout",
       "text": [
        "The Scattering parameters are:\n",
        "[[(-0.3333333333333333+0.6666666666666666j), -0.6666666666666666j], [(19.8-40.6j), (-0.3333333333333333-0.6666666666666666j)]]\n"
       ]
      }
     ],
     "prompt_number": 11
    }
   ],
   "metadata": {}
  }
 ]
}