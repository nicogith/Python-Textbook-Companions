{
 "metadata": {
  "name": "",
  "signature": "sha256:60cf8f4cedd2954f60b5dd5cef461cdc955947faa6d0d2367b10d8fe42d229e7"
 },
 "nbformat": 3,
 "nbformat_minor": 0,
 "worksheets": [
  {
   "cells": [
    {
     "cell_type": "heading",
     "level": 1,
     "metadata": {},
     "source": [
      "Chapter 9: Filter Design"
     ]
    },
    {
     "cell_type": "heading",
     "level": 2,
     "metadata": {},
     "source": [
      "Example 9.2, Page 344"
     ]
    },
    {
     "cell_type": "code",
     "collapsed": false,
     "input": [
      "import math\n",
      "\n",
      "#Variable declaration\n",
      "foo=2.05*10**6  #Hz\n",
      "fc=2*10**6      #cut-off frequency,Hz\n",
      "Zo=75           #nominal impedance,ohms\n",
      "\n",
      "#Calculations\n",
      "Wc=2*math.pi*2*10**6\n",
      "L=Zo/Wc*2       #H\n",
      "C=2/(Zo*Wc)     #F\n",
      "m=math.sqrt(1-(fc/foo)**2)\n",
      "\n",
      "#Results\n",
      "print \"m=%.4f\"%m\n",
      "print \"m*L/2=%.2e H\"%(m*L/2)\n",
      "print \"m*C=%.3e F\"%(m*C)\n",
      "print \"(1-m**2)*L/4/m=%.2e\"%((1-m**2)*L/4/m)"
     ],
     "language": "python",
     "metadata": {},
     "outputs": [
      {
       "output_type": "stream",
       "stream": "stdout",
       "text": [
        "m=0.2195\n",
        "m*L/2=1.31e-06 H\n",
        "m*C=4.658e-10 F\n",
        "(1-m**2)*L/4/m=1.29e-05\n"
       ]
      }
     ],
     "prompt_number": 1
    },
    {
     "cell_type": "heading",
     "level": 2,
     "metadata": {},
     "source": [
      "Example 9.3, Page 348"
     ]
    },
    {
     "cell_type": "code",
     "collapsed": false,
     "input": [
      "import math\n",
      "\n",
      "#Variable declaration\n",
      "Zo=75       #image impedance,ohms\n",
      "Wc=2*math.pi*2*10**6\n",
      "foo=2.05*10**6  #Hz\n",
      "\n",
      "#Calculations\n",
      "L=Zo/Wc*2\n",
      "m=0.6\n",
      "C=2/(Zo*Wc)\n",
      "\n",
      "#Results\n",
      "print \"m*L/2=%.2e H\"%(m*L/2)\n",
      "print \"m*C=%.3e F\"%(m*C/2)\n",
      "print \"(1-m^2)*L/4/m=%.2e\"%((1-m**2)*L/2/m)"
     ],
     "language": "python",
     "metadata": {},
     "outputs": [
      {
       "output_type": "stream",
       "stream": "stdout",
       "text": [
        "m*L/2=3.58e-06 H\n",
        "m*C=6.366e-10 F\n",
        "(1-m^2)*L/4/m=6.37e-06\n"
       ]
      }
     ],
     "prompt_number": 2
    },
    {
     "cell_type": "heading",
     "level": 2,
     "metadata": {},
     "source": [
      "Example 9.4, Page 350"
     ]
    },
    {
     "cell_type": "code",
     "collapsed": false,
     "input": [
      "import math\n",
      "\n",
      "#Variable declaration\n",
      "Zo=75       #nominal impedance,ohms\n",
      "Wc=2*math.pi*2*10**6\n",
      "foo=1.95*10**6  #Hz\n",
      "fc=2*10**6      #Hz\n",
      "\n",
      "#Calculations\n",
      "L=Zo/Wc/2\n",
      "C=1./2/(Zo*Wc)\n",
      "m=math.sqrt(1-(foo/fc)**2)\n",
      "\n",
      "#Results\n",
      "print \"L=%.3e H\"%L\n",
      "print \"C=%.3e F\"%C\n",
      "print \"m=%.4f\"%m\n",
      "print \"2*C/m=%.4e F\"%(2*C/m)\n",
      "print \"L/m=%.4e H\"%(L/m)\n",
      "print \"4*m*C/(1-m^2)=%.4e F\"%((4*m*C)/(1-m**2))"
     ],
     "language": "python",
     "metadata": {},
     "outputs": [
      {
       "output_type": "stream",
       "stream": "stdout",
       "text": [
        "L=2.984e-06 H\n",
        "C=5.305e-10 F\n",
        "m=0.2222\n",
        "2*C/m=4.7750e-09 F\n",
        "L/m=1.3430e-05 H\n",
        "4*m*C/(1-m^2)=4.9602e-10 F\n"
       ]
      }
     ],
     "prompt_number": 3
    },
    {
     "cell_type": "heading",
     "level": 2,
     "metadata": {},
     "source": [
      "Example 9.5, Page 357"
     ]
    },
    {
     "cell_type": "code",
     "collapsed": false,
     "input": [
      "import math\n",
      "\n",
      "#Variable declaration\n",
      "Le=3.        #dB\n",
      "E=10**(Le/10)-1\n",
      "L=15.        #dB\n",
      "Wc=1\n",
      "W=1.3*Wc\n",
      "\n",
      "#Calculations\n",
      "n=1./2*(math.log10(10**(L/10)-1)-math.log10(E))/math.log10(W/Wc)\n",
      "m=math.acosh(math.sqrt(10**(0.1*L)-1))/math.acosh(W/Wc)\n",
      "\n",
      "#Results\n",
      "print \"n=%.2f\"%n\n",
      "print \"m=%.2f\"%m"
     ],
     "language": "python",
     "metadata": {},
     "outputs": [
      {
       "output_type": "stream",
       "stream": "stdout",
       "text": [
        "n=6.53\n",
        "m=3.17\n"
       ]
      }
     ],
     "prompt_number": 4
    },
    {
     "cell_type": "heading",
     "level": 2,
     "metadata": {},
     "source": [
      "Example 9.6, Page 361"
     ]
    },
    {
     "cell_type": "code",
     "collapsed": false,
     "input": [
      "import math\n",
      "\n",
      "#Variable declaration\n",
      "L=30.    #dB\n",
      "W=40*10**6  #Hz\n",
      "Wc=10*10**6 #Hz\n",
      "Le=3.        #dB\n",
      "E=10**(Le/10)\n",
      "Zo=50.       #ohms\n",
      "\n",
      "#Calculations&Results\n",
      "Wc=2*math.pi*10**6*10\n",
      "L=Zo/Wc\n",
      "C=2./(Zo*Wc)\n",
      "n=1./2*(math.log(10**(L/10)-1)-math.log(E-1))/math.log(W/Wc)\n",
      "print \"n=%.2f\"%n\n",
      "print \"g1=%.0f\\ng2=%.0f\\ng3=%.0f\"%(2*math.sin(math.pi/6),2*math.sin(math.pi/2),2*math.sin(math.pi*5/6))\n",
      "print \"L1=L3=%.4e H\"%L\n",
      "print \"C2=%.3e F\"%C\n",
      "Zo=50   #ohms\n",
      "Wc=2*math.pi*10**6*10\n",
      "L=Zo*2/Wc\n",
      "C=1/(Zo*Wc)\n",
      "print \"L2=%.4e H\"%L\n",
      "print \"C1=C3=%.4e F\"%C"
     ],
     "language": "python",
     "metadata": {},
     "outputs": [
      {
       "output_type": "stream",
       "stream": "stdout",
       "text": [
        "n=17.17\n",
        "g1=1\n",
        "g2=2\n",
        "g3=1\n",
        "L1=L3=7.9577e-07 H\n",
        "C2=6.366e-10 F\n",
        "L2=1.5915e-06 H\n",
        "C1=C3=3.1831e-10 F\n"
       ]
      }
     ],
     "prompt_number": 5
    },
    {
     "cell_type": "heading",
     "level": 2,
     "metadata": {},
     "source": [
      "Example 9.7, Page 363"
     ]
    },
    {
     "cell_type": "code",
     "collapsed": false,
     "input": [
      "import math\n",
      "\n",
      "#Variable declaration\n",
      "Gr=0.01     #dB\n",
      "L = 5.       #dB\n",
      "W = 400.*10**6  #Hz\n",
      "Wc = 100.*10**6 #Hz\n",
      "\n",
      "#Calculations&Results\n",
      "m = math.degrees(math.acosh(math.sqrt((10**(0.1*L)-1)/(10**(0.1*Gr)-1))))/math.degrees(math.acosh(W/Wc))\n",
      "print \"m=%.f\"%m\n",
      "m=3\n",
      "E=math.log(1/math.tanh(Gr/17.37))\n",
      "X=math.sinh(E/2/m)\n",
      "n=3\n",
      "gp=1\n",
      "\n",
      "for p in range(1,n+1):\n",
      "    ap=math.sin((2*p-1)*math.pi/2/m)\n",
      "    bp=X**2+math.sin(p*math.pi/m)**2\n",
      "    print \"ap=%.1f\\nbp=%.4f\\n\"%(ap,bp)\n",
      "\n",
      "gp=0.62425\n",
      "print \"g0=g4=1\"\n",
      "print \"p=1\\tgp=0.62425\"\n",
      "for p in range(2,n+1):\n",
      "    gp=4*math.sin((2*(p-1)-1)*math.pi/2/m)*math.sin((2*p-1)*math.pi/2/m)/(X**2+math.sin((p-1)*math.pi/m)**2)/gp\n",
      "    print \"p=%.0f\\tgp=%.5f\"%(p,gp)\n",
      "\n",
      "\n",
      "print \"L1=L3=%.4e H\\nC1=%.4e F\"%(75*0.62425/(2*math.pi*10**8),0.9662/(75*2*math.pi*10**8))"
     ],
     "language": "python",
     "metadata": {},
     "outputs": [
      {
       "output_type": "stream",
       "stream": "stdout",
       "text": [
        "m=2\n",
        "ap=0.5\n",
        "bp=3.2760\n",
        "\n",
        "ap=1.0\n",
        "bp=3.2760\n",
        "\n",
        "ap=0.5\n",
        "bp=2.5260\n",
        "\n",
        "g0=g4=1\n",
        "p=1\tgp=0.62425\n",
        "p=2\tgp=0.97798\n",
        "p=3\tgp=0.62425\n",
        "L1=L3=7.4514e-08 H\n",
        "C1=2.0503e-11 F\n"
       ]
      }
     ],
     "prompt_number": 6
    },
    {
     "cell_type": "heading",
     "level": 2,
     "metadata": {},
     "source": [
      "Example 9.8, Page 366"
     ]
    },
    {
     "cell_type": "code",
     "collapsed": false,
     "input": [
      "import math\n",
      "\n",
      "#Variable declaration\n",
      "Gr=3        #dB\n",
      "\n",
      "#Calculations&Results\n",
      "m=3\n",
      "for p in range(1,4):\n",
      "    ap=math.sin((2*p-1)*math.pi/2/m)\n",
      "    print \"p=%.0f\\tap=%.1f\"%(p,ap)\n",
      "\n",
      "\n",
      "E=math.log(1/math.tanh(Gr/17.37))\n",
      "X=math.sinh(E/2/m)\n",
      "print \"\\nE=%.4f\\nX=%.4f\\n\"%(E,X)\n",
      "for p in range(1,4):\n",
      "    bp=X**2+math.sin(p*math.pi/m)**2\n",
      "    print \"p=%.0f\\tbp=%.4f\"%(p,bp)\n",
      "\n",
      "gp=3.349\n",
      "print \"\\ng0=g4=1\\ng1=3.349\"\n",
      "for p in range(2,4):\n",
      "    gp=4*math.sin((2*(p-1)-1)*math.pi/2/m)*math.sin((2*p-1)*math.pi/2/m)/(X**2+math.sin((p-1)*math.pi/m)**2)/gp\n",
      "    print \"gp=%.4f\"%gp\n",
      "\n",
      "print \"\\nL1=L3=%.1e H\\nC2=%.4e F\"%(75*3.349/(2*math.pi*10**8),0.7116/(75*2*math.pi*10**8))"
     ],
     "language": "python",
     "metadata": {},
     "outputs": [
      {
       "output_type": "stream",
       "stream": "stdout",
       "text": [
        "p=1\tap=0.5\n",
        "p=2\tap=1.0\n",
        "p=3\tap=0.5\n",
        "\n",
        "E=1.7660\n",
        "X=0.2986\n",
        "\n",
        "p=1\tbp=0.8392\n",
        "p=2\tbp=0.8392\n",
        "p=3\tbp=0.0892\n",
        "\n",
        "g0=g4=1\n",
        "g1=3.349\n",
        "gp=0.7117\n",
        "gp=3.3490\n",
        "\n",
        "L1=L3=4.0e-07 H\n",
        "C2=1.5101e-11 F\n"
       ]
      }
     ],
     "prompt_number": 7
    },
    {
     "cell_type": "heading",
     "level": 2,
     "metadata": {},
     "source": [
      "Example 9.9, Page 371"
     ]
    },
    {
     "cell_type": "code",
     "collapsed": false,
     "input": [
      "import math\n",
      "\n",
      "#Variable declaration\n",
      "#From example 9.7\n",
      "gL=0.62425\n",
      "gc=0.9662\n",
      "m=3\n",
      "\n",
      "#Calculations&Results\n",
      "Wc=2*math.pi*100*10**6\n",
      "CHP=1/(Wc*gL)\n",
      "LHP=1/(Wc*gc)\n",
      "print \"CHP=%.3e F\\nLHP=%.3e H\"%(CHP,LHP)\n",
      "C1=2.5495/75*10**3\n",
      "L2=75*1.6472\n",
      "print \"C1=C3=%.0f pF\\nL2=%.1f nH\"%(C1,L2)"
     ],
     "language": "python",
     "metadata": {},
     "outputs": [
      {
       "output_type": "stream",
       "stream": "stdout",
       "text": [
        "CHP=2.550e-09 F\n",
        "LHP=1.647e-09 H\n",
        "C1=C3=34 pF\n",
        "L2=123.5 nH\n"
       ]
      }
     ],
     "prompt_number": 8
    },
    {
     "cell_type": "heading",
     "level": 2,
     "metadata": {},
     "source": [
      "Example 9.10, Page 374"
     ]
    },
    {
     "cell_type": "code",
     "collapsed": false,
     "input": [
      "import math\n",
      "\n",
      "#Variable declaration\n",
      "fl=10*10**6     #Hz\n",
      "fu=40*10**6     #Hz\n",
      "\n",
      "#Calculations&Results\n",
      "Wu=2*math.pi*40*10**6\n",
      "Wl=2*math.pi*10*10**6\n",
      "gc=0.9662\n",
      "gL=0.62425\n",
      "Wo=2*math.pi*20*10**6\n",
      "fo=math.sqrt(fl*fu)\n",
      "print \"fo=%.e Hz\"%fo\n",
      "\n",
      "CBP1=(Wu-Wl)/(Wo**2*gL)\n",
      "LBP1=gL/(Wu-Wl)\n",
      "print \"CBP1=%.3f nF\\nLBP1=%.4f nH\"%(CBP1/10**-9,LBP1/10**-9)\n",
      "\n",
      "CBP2=(Wu-Wl)/(Wo**2*gc)\n",
      "LBP2=gc/(Wu-Wl)\n",
      "print \"\\nCBP2=%.3f nF\\nLBP2=%.4f nH\"%(CBP2/10**-9,LBP2/10**-9)\n",
      "\n",
      "print \"\\nC1=C3=%.2f pF\"%(19.122*1000/75)\n",
      "\n",
      "print \"L1=L3=%.4f nH\"%(75*3.3116)\n",
      "\n",
      "print \"\\nL2=%.4f uH\"%(75*12.354/1000)\n",
      "\n",
      "print \"C2=%.3f pF\"%(5.1258/75*1000)"
     ],
     "language": "python",
     "metadata": {},
     "outputs": [
      {
       "output_type": "stream",
       "stream": "stdout",
       "text": [
        "fo=2e+07 Hz\n",
        "CBP1=19.122 nF\n",
        "LBP1=3.3117 nH\n",
        "\n",
        "CBP2=12.354 nF\n",
        "LBP2=5.1259 nH\n",
        "\n",
        "C1=C3=254.96 pF\n",
        "L1=L3=248.3700 nH\n",
        "\n",
        "L2=0.9265 uH\n",
        "C2=68.344 pF\n"
       ]
      }
     ],
     "prompt_number": 9
    },
    {
     "cell_type": "heading",
     "level": 2,
     "metadata": {},
     "source": [
      "Example 9.11, Page 377"
     ]
    },
    {
     "cell_type": "code",
     "collapsed": false,
     "input": [
      "import math\n",
      "\n",
      "#Variable declaration\n",
      "fl=10*10**6     #Hz\n",
      "fu=40*10**6     #Hz\n",
      "\n",
      "#Calculations&Results\n",
      "Wu=2*math.pi*40*10**6\n",
      "Wl=2*math.pi*10*10**6\n",
      "gc=2\n",
      "gL=1\n",
      "Wo=2*math.pi*20*10**6\n",
      "fo=math.sqrt(fl*fu)\n",
      "print \"fo=%.e Hz\"%fo\n",
      "\n",
      "LBS1=(Wu-Wl)/(Wo**2*gL)\n",
      "CBS1=gL/(Wu-Wl)\n",
      "print \"CBS1=%.3f nF\\nLBS1=%.2f nH\"%(CBS1/10**-9,LBS1/10**-9)\n",
      "CBS2=1./gc/(Wu-Wl)\n",
      "LBS2=(Wu-Wl)*gc/(Wo**2)\n",
      "\n",
      "print \"\\nCBS2=%.2f nF\\nLBS2=%.3f nH\"%(LBS2/10**-9,CBS2/10**-9)\n",
      "\n",
      "\n",
      "print \"\\nC1=C3=%.2f pF\"%(5.305/75*1000)\n",
      "\n",
      "print \"L1=L3=%.1f nH\"%(75*11.94)\n",
      "\n",
      "print \"L2=%.1f uH\"%(75*2.653/1000)\n",
      "\n",
      "print \"C2=%.1f pF\"%(23.87/75*1000)"
     ],
     "language": "python",
     "metadata": {},
     "outputs": [
      {
       "output_type": "stream",
       "stream": "stdout",
       "text": [
        "fo=2e+07 Hz\n",
        "CBS1=5.305 nF\n",
        "LBS1=11.94 nH\n",
        "\n",
        "CBS2=23.87 nF\n",
        "LBS2=2.653 nH\n",
        "\n",
        "C1=C3=70.73 pF\n",
        "L1=L3=895.5 nH\n",
        "L2=0.2 uH\n",
        "C2=318.3 pF\n"
       ]
      }
     ],
     "prompt_number": 10
    },
    {
     "cell_type": "heading",
     "level": 2,
     "metadata": {},
     "source": [
      "Example 9.12, Page 382"
     ]
    },
    {
     "cell_type": "code",
     "collapsed": false,
     "input": [
      "import math\n",
      "\n",
      "#Variable declaration\n",
      "print \"go=g4=1\"\n",
      "n=3.\n",
      "\n",
      "#Calculations&Results\n",
      "for p in range(1,3):\n",
      "    gp=2*math.sin((2*p-1)*math.pi/2/n)\n",
      "    print \"gp=%.f\"%gp\n",
      "\n",
      "print \"Q1=Q3=%.4f rad=%.1f degree\"%(50./150,50./150*180/math.pi)\n",
      "print \"Q2=%.2f rad=%.2f degree\"%(30*2./50,30*2./50*180/math.pi)"
     ],
     "language": "python",
     "metadata": {},
     "outputs": [
      {
       "output_type": "stream",
       "stream": "stdout",
       "text": [
        "go=g4=1\n",
        "gp=1\n",
        "gp=2\n",
        "Q1=Q3=0.3333 rad=19.1 degree\n",
        "Q2=1.20 rad=68.75 degree\n"
       ]
      }
     ],
     "prompt_number": 11
    },
    {
     "cell_type": "heading",
     "level": 2,
     "metadata": {},
     "source": [
      "Example 9.13, Page 387"
     ]
    },
    {
     "cell_type": "code",
     "collapsed": false,
     "input": [
      "import math\n",
      "\n",
      "#Variable declaration\n",
      "n=3\n",
      "print \"go=g4=1\"\n",
      "\n",
      "#Calculations&Results\n",
      "for p in range(1,n+1):\n",
      "    gp=2*math.sin((2*p-1)*math.pi/2/n)\n",
      "    print \"gp=%.f\"%gp"
     ],
     "language": "python",
     "metadata": {},
     "outputs": [
      {
       "output_type": "stream",
       "stream": "stdout",
       "text": [
        "go=g4=1\n",
        "gp=1\n",
        "gp=2\n",
        "gp=1\n"
       ]
      }
     ],
     "prompt_number": 12
    }
   ],
   "metadata": {}
  }
 ]
}