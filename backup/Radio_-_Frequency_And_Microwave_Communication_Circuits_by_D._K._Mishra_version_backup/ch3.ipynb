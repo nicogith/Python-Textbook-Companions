{
 "metadata": {
  "name": "",
  "signature": "sha256:96a8b43ce3f81218a08bcc32b72ac9247c36c80b3452349e0b1d9b10a0b59bcf"
 },
 "nbformat": 3,
 "nbformat_minor": 0,
 "worksheets": [
  {
   "cells": [
    {
     "cell_type": "heading",
     "level": 1,
     "metadata": {},
     "source": [
      "Chapter 3: Transmission Lines"
     ]
    },
    {
     "cell_type": "heading",
     "level": 2,
     "metadata": {},
     "source": [
      "Example 3.1, Page 60"
     ]
    },
    {
     "cell_type": "code",
     "collapsed": false,
     "input": [
      "import cmath\n",
      "import math\n",
      "\n",
      "#Variable declaration\n",
      "#resistance of line (ohm/m)\n",
      "R=0.015\n",
      "#operating frequency(Hz)\n",
      "n=1.6*10**9\n",
      "#angular frequency\n",
      "w=2*math.pi*n\n",
      "#inductance of line(H/m)\n",
      "L=0.002*10**(-6)\n",
      "#conductance of line(S/m)\n",
      "G=0.1*10**(-3)\n",
      "#capacitance of line(F/m)\n",
      "C=0.012*10**(-12)\n",
      "\n",
      "#Calculations&Results\n",
      "Y=complex(G,w*C)    #admittance per unit length\n",
      "Z=complex(R,w*L)     #impedance per unit length\n",
      "print \"Z = \",Z,\"ohm/m\"\n",
      "print \"Y = \",Y,\"S/m\"\n",
      "Zo = cmath.sqrt(Z/Y)\n",
      "print \"Zo = \",Zo,\"ohm\""
     ],
     "language": "python",
     "metadata": {},
     "outputs": [
      {
       "output_type": "stream",
       "stream": "stdout",
       "text": [
        "Z =  (0.015+20.106192983j) ohm/m\n",
        "Y =  (0.0001+0.000120637157898j) S/m\n",
        "Zo =  (337.01818622+121.379454311j) ohm\n"
       ]
      }
     ],
     "prompt_number": 1
    },
    {
     "cell_type": "heading",
     "level": 2,
     "metadata": {},
     "source": [
      "Example 3.2, Page 65"
     ]
    },
    {
     "cell_type": "code",
     "collapsed": false,
     "input": [
      "import math\n",
      "\n",
      "#Variable declaration\n",
      "W=2*math.pi*10**8   #rad/s\n",
      "Vp=2.5*10**8     #m/s\n",
      "\n",
      "#Calculations&Results\n",
      "Vin=75./(50+75)*3*complex(math.cos(0),math.sin(0))     #V\n",
      "Iin=3./(50+75)*complex(math.cos(0),math.sin(0))         #A\n",
      "\n",
      "b=W/Vp\n",
      "print \"B=%.4f rad/m\"%b\n",
      "print \"V=1.8*cos(2*pi*10^8*t-0.8*pi*z)\\ni=0.024*cos(2*pi*10^8*t-0.8*pi*z)\"\n"
     ],
     "language": "python",
     "metadata": {},
     "outputs": [
      {
       "output_type": "stream",
       "stream": "stdout",
       "text": [
        "B=2.5133 rad/m\n",
        "V=1.8*cos(2*pi*10^8*t-0.8*pi*z)\n",
        "i=0.024*cos(2*pi*10^8*t-0.8*pi*z)\n"
       ]
      }
     ],
     "prompt_number": 2
    },
    {
     "cell_type": "heading",
     "level": 2,
     "metadata": {},
     "source": [
      "Example 3.3, Page 66"
     ]
    },
    {
     "cell_type": "code",
     "collapsed": false,
     "input": [
      "import math\n",
      "import cmath\n",
      "\n",
      "#Variable declaration\n",
      "R=2            #ohm/m\n",
      "G=0.5*10**(-3)  #S/m\n",
      "L=8*10**-9            #H/m\n",
      "C=0.23*10**-12           #F/m\n",
      "W=2*math.pi*10**9           #Hz\n",
      "Y=15.29*10**-4*cmath.exp(complex(0,1.2377))\n",
      "Z=50.31*cmath.exp(complex(0,1.531))   \n",
      "\n",
      "#Calculations\n",
      "Zo=cmath.sqrt(complex(R,W*L)/complex(G,W*C))\n",
      "y=cmath.sqrt(Z*Y)\n",
      "\n",
      "#Results\n",
      "print \"Zo = \",Zo,\"ohm\"\n",
      "print \"y = \",y,\"/m\"\n",
      "print \"a=%.4fNp/m\\nB=%.4frad/m\"%(y.real,y.imag)\n"
     ],
     "language": "python",
     "metadata": {},
     "outputs": [
      {
       "output_type": "stream",
       "stream": "stdout",
       "text": [
        "Zo =  (179.427415+26.5059877044j) ohm\n",
        "y =  (0.0514121346966+0.272545009872j) /m\n",
        "a=0.0514Np/m\n",
        "B=0.2725rad/m\n"
       ]
      }
     ],
     "prompt_number": 3
    },
    {
     "cell_type": "heading",
     "level": 2,
     "metadata": {},
     "source": [
      "Example 3.5, Page 70"
     ]
    },
    {
     "cell_type": "code",
     "collapsed": false,
     "input": [
      "import math\n",
      "\n",
      "#Variable declaration\n",
      "lamda=1.   #signal wavelength,m\n",
      "Zin=150   #ohms\n",
      "ZL=300    #ohms\n",
      "\n",
      "#Calculations\n",
      "Zo=math.sqrt(Zin*ZL)\n",
      "\n",
      "#Results\n",
      "print \"(a)d = %.2f m\"%(lamda/4)\n",
      "print \"(b)Zo = %.3f ohm\"%(math.sqrt(Zin*ZL))\n",
      "print \"(c)FL = %.4f\"%((ZL-Zo)/(ZL+Zo))\n"
     ],
     "language": "python",
     "metadata": {},
     "outputs": [
      {
       "output_type": "stream",
       "stream": "stdout",
       "text": [
        "(a)d = 0.25 m\n",
        "(b)Zo = 212.132 ohm\n",
        "(c)FL = 0.1716\n"
       ]
      }
     ],
     "prompt_number": 4
    },
    {
     "cell_type": "heading",
     "level": 2,
     "metadata": {},
     "source": [
      "Example 3.6, Page 70"
     ]
    },
    {
     "cell_type": "code",
     "collapsed": false,
     "input": [
      "import math\n",
      "\n",
      "#Variable declaration\n",
      "Zin=45    #ohm\n",
      "ZL=20       #ohm\n",
      "b=0.5/2      #cm\n",
      "Er=2.1\n",
      "L=200*10**-9     #H\n",
      "f=3*10**9       #Hz\n",
      "C=55.63*Er*10**-12    #F\n",
      "\n",
      "#Calculations&Results\n",
      "Zo=math.sqrt(Zin*ZL)\n",
      "print \"Zo=%.0f ohm\"%Zo\n",
      "k=30/math.sqrt(200*10**-9/(55.63*Er*10**-12))\n",
      "a=b/math.exp(k)\n",
      "print \"a=%f cm\"%a\n",
      "lamda=1./(f*math.sqrt(L*C))\n",
      "print \"lambda=%.5f m\"%lamda\n",
      "d=lamda/4\n",
      "print \"d=%f m = %.3f cm\"%(d,d*100)"
     ],
     "language": "python",
     "metadata": {},
     "outputs": [
      {
       "output_type": "stream",
       "stream": "stdout",
       "text": [
        "Zo=30 ohm\n",
        "a=0.121075 cm\n",
        "lambda=0.06896 m\n",
        "d=0.017240 m = 1.724 cm\n"
       ]
      }
     ],
     "prompt_number": 5
    },
    {
     "cell_type": "heading",
     "level": 2,
     "metadata": {},
     "source": [
      "Example 3.7, Page 71"
     ]
    },
    {
     "cell_type": "code",
     "collapsed": false,
     "input": [
      "import math\n",
      "\n",
      "#Variable declaration\n",
      "Zo1=80    #ohms\n",
      "ZL=50     #ohms\n",
      "h=1.6     #mm\n",
      "Er=2.3\n",
      "Zo=math.sqrt(Zo1*ZL)  #ohms\n",
      "A=1.4635\n",
      "B=6.1739\n",
      "qo=150.\n",
      "\n",
      "\n",
      "#Calculations&Results\n",
      "W=h*(2/math.pi*(6.1739-1-math.log(2*6.1739-1)+(2.3-1)/(2*2.3)*(math.log(6.1739-1)+0.39-0.61/2.3)))\n",
      "print \"W=%.1f mm\"%W\n",
      "F=(1+12*h/W)**(-1./2)\n",
      "print \"F=%.6f\"%F\n",
      "Ee=(2.3+1)/2+(2.3-1)/2*0.383216-(2.3-1)/4.6*0.005/math.sqrt(2.0656)\n",
      "print \"Ee=%.1f\"%Ee\n",
      "F=4*h*math.sqrt(Er-1)/qo*(0.5+(1+2*math.log10(1+W/h))**2)\n",
      "print \"F=%f\"%F\n",
      "Ee=((math.sqrt(2.3)-math.sqrt(1.9))/(1+4*F**(-1.5))+math.sqrt(1.9))**2\n",
      "print \"Ee(f)=%f\"%Ee\n",
      "q=3.*10**8/(2*10**9*math.sqrt(1.9))\n",
      "print \"q=%f m\"%q\n",
      "length_of_line=q/4\n",
      "print \"length of line=%.3f m\"%length_of_line\n"
     ],
     "language": "python",
     "metadata": {},
     "outputs": [
      {
       "output_type": "stream",
       "stream": "stdout",
       "text": [
        "W=3.3 mm\n",
        "F=0.383217\n",
        "Ee=1.9\n",
        "F=0.213701\n",
        "Ee(f)=1.909192\n",
        "q=0.108821 m\n",
        "length of line=0.027 m\n"
       ]
      }
     ],
     "prompt_number": 6
    },
    {
     "cell_type": "heading",
     "level": 2,
     "metadata": {},
     "source": [
      "Example 3.8, Page 75"
     ]
    },
    {
     "cell_type": "code",
     "collapsed": false,
     "input": [
      "import math\n",
      "\n",
      "#Variable declaration\n",
      "Zo=50           #ohms\n",
      "C=100*10**(-12) #Capacitance,F\n",
      "a=1.15*10**(-3) #Np/m\n",
      "\n",
      "#Calculations\n",
      "L=C*Zo**2\n",
      "R=a*math.sqrt(L/C)\n",
      "G=R*C/L\n",
      "vp=1/math.sqrt(L*C)\n",
      "\n",
      "#Results\n",
      "print \"(a)R = %.3f ohm/m\"%(a*math.sqrt(L/C))\n",
      "print \"(b)L = %.1e H/m\"%(C*Zo**2)\n",
      "print \"(c)G = %.1e S/m\"%(R*C/L)\n",
      "print \"(d)vp = %.e m/s\"%(1/math.sqrt(L*C))\n"
     ],
     "language": "python",
     "metadata": {},
     "outputs": [
      {
       "output_type": "stream",
       "stream": "stdout",
       "text": [
        "(a)R = 0.057 ohm/m\n",
        "(b)L = 2.5e-07 H/m\n",
        "(c)G = 2.3e-05 S/m\n",
        "(d)vp = 2e+08 m/s\n"
       ]
      }
     ],
     "prompt_number": 7
    },
    {
     "cell_type": "heading",
     "level": 2,
     "metadata": {},
     "source": [
      "Example 3.9, Page 76"
     ]
    },
    {
     "cell_type": "code",
     "collapsed": false,
     "input": [
      "import cmath\n",
      "\n",
      "#Variable declaration\n",
      "Zin=complex(30,60)        #ohm\n",
      "Zsc=complex(0,53.1)        #ohm\n",
      "Zoc=complex(0,-48.3)            #ohm\n",
      "\n",
      "#Calculations&Results\n",
      "Zo=cmath.sqrt(Zsc*Zoc)\n",
      "print \"Zo = %.4f ohms\"%Zo.real\n",
      "ZL=Zoc*(Zsc-Zin)/(Zin-Zoc)\n",
      "print \"ZL =\",ZL,\"ohms\""
     ],
     "language": "python",
     "metadata": {},
     "outputs": [
      {
       "output_type": "stream",
       "stream": "stdout",
       "text": [
        "Zo = 50.6432 ohms\n",
        "ZL = (11.6343241568+6.30008979411j) ohms\n"
       ]
      }
     ],
     "prompt_number": 8
    },
    {
     "cell_type": "heading",
     "level": 2,
     "metadata": {},
     "source": [
      "Example 3.10, Page 76"
     ]
    },
    {
     "cell_type": "code",
     "collapsed": false,
     "input": [
      "import math\n",
      "import cmath\n",
      "\n",
      "#Variable declaration\n",
      "Zoc=complex(0,-54.6)  #ohm\n",
      "Zsc=complex(0,103)    #ohm\n",
      "d=1.5                 #m\n",
      "\n",
      "#Calculations&Results\n",
      "Zo=cmath.sqrt(Zoc*Zsc)\n",
      "print \"Zo= %.f ohms\"%Zo.real\n",
      "#y=1/d*cmath.atanh(cmath.sqrt(Zsc/Zoc))\n",
      "y=1./2./d*cmath.log(complex(1,1.8969)/complex(1,-1.8969))\n",
      "print \"y= %.4f /m\"%y.imag   #real part negligible"
     ],
     "language": "python",
     "metadata": {},
     "outputs": [
      {
       "output_type": "stream",
       "stream": "stdout",
       "text": [
        "Zo= 75 ohms\n",
        "y= 0.7238 /m\n"
       ]
      }
     ],
     "prompt_number": 9
    },
    {
     "cell_type": "heading",
     "level": 2,
     "metadata": {},
     "source": [
      "Example 3.11, Page 77"
     ]
    },
    {
     "cell_type": "code",
     "collapsed": false,
     "input": [
      "import math\n",
      "import cmath\n",
      "\n",
      "#Variable declaration\n",
      "W=2*math.pi*26*10**6     #rad/s\n",
      "Vp=200*10**6             #m/S\n",
      "Zo=50   #ohm\n",
      "Zs=50     #ohm\n",
      "Vs=100   #volt\n",
      "ZL=complex(100,50)       #ohm\n",
      "l=10     #m\n",
      "\n",
      "#Calculations&Results\n",
      "B=W/Vp                   #rad/m\n",
      "print \"B = %.4f rad/m\"%B\n",
      "Zin=Zo*(complex(ZL,(Zo*math.tan(B*l)))/complex(Zo,(ZL*math.tan(B*l))))\n",
      "print \"Zin=\",Zin,\"ohms\"\n",
      "\n",
      "VA=Vs/(Zs+Zin)*Zin\n",
      "print \"VA= %.4f V,phase = %.2f degrees\"%(math.sqrt(VA.real**2+VA.imag**2),math.degrees(math.atan(VA.imag/VA.real)))\n",
      "\n",
      "ZTh=Zo*complex(Zs,Zo*cmath.tan(B*l))/complex(Zo,Zs*cmath.tan(B*l))\n",
      "print \"ZTh=\",ZTh,\"ohms\"\n",
      "\n",
      "Vin=50*cmath.exp(complex(0,-8.168))\n",
      "VTh=2*Vin\n",
      "print \"VTh= %.f V,phase = %.2f degrees\"%(math.sqrt(VTh.real**2+VTh.imag**2),math.degrees(math.atan(VTh.imag/VTh.real)))\n",
      "\n",
      "VL=VTh/(ZTh+ZL)*ZL\n",
      "print \"VL= %.f V,phase = %.2f degrees\"%(math.sqrt(VL.real**2+VL.imag**2),math.degrees(math.atan(VL.imag/VL.real)))\n",
      "\n",
      "F=(complex(19.21,3.52)-50)/(complex(19.21,3.52)+50)\n",
      "print \"F=\",F\n",
      "\n",
      "Z=10\n",
      "F_mag = math.sqrt(F.real**2+F.imag**2)\n",
      "F_imag = math.degrees(math.atan(F.imag/F.real))\n",
      "VL=50*(cmath.exp(complex(0,(-B*Z)))+F_mag*cmath.exp(complex(0,(B*Z)+2.9769)))\n",
      "print \"VL= %.4f V,phase = %.2f degrees\"%(math.sqrt(VL.real**2+VL.imag**2),math.degrees(math.atan(VL.imag/VL.real)))\n"
     ],
     "language": "python",
     "metadata": {},
     "outputs": [
      {
       "output_type": "stream",
       "stream": "stdout",
       "text": [
        "B = 0.8168 rad/m\n",
        "Zin= (19.2092724257+3.52061311811j) ohms\n",
        "VA= 28.1812 V,phase = 7.47 degrees\n",
        "ZTh= (50+6.51267575189e-16j) ohms\n",
        "VTh= 100 V,phase = 72.01 degrees\n",
        "VL= 71 V,phase = 80.14 degrees\n",
        "F= (-0.44115007149+0.0732964636851j)\n",
        "VL= 70.7101 V,phase = 80.13 degrees\n"
       ]
      }
     ],
     "prompt_number": 10
    },
    {
     "cell_type": "heading",
     "level": 2,
     "metadata": {},
     "source": [
      "Example 3.12, Page 78"
     ]
    },
    {
     "cell_type": "code",
     "collapsed": false,
     "input": [
      "import math\n",
      "import cmath\n",
      "\n",
      "#Variable declaration\n",
      "R=250    #ohm\n",
      "\n",
      "#Calculations\n",
      "V250=60*math.sqrt(2)/11*cmath.exp(complex(0,-45./180*cmath.pi)) #volt\n",
      "Pd=(V250.real**2+V250.imag**2)/(2*R)\n",
      "\n",
      "#Results\n",
      "print \"V250=\",V250\n",
      "print \"Pd=%.3f mW\"%(Pd*10**3)"
     ],
     "language": "python",
     "metadata": {},
     "outputs": [
      {
       "output_type": "stream",
       "stream": "stdout",
       "text": [
        "V250= (5.45454545455-5.45454545455j)\n",
        "Pd=119.008 mW\n"
       ]
      }
     ],
     "prompt_number": 11
    },
    {
     "cell_type": "heading",
     "level": 2,
     "metadata": {},
     "source": [
      "Example 3.13, Page 84"
     ]
    },
    {
     "cell_type": "code",
     "collapsed": false,
     "input": [
      "import math\n",
      "\n",
      "#Variable declaration\n",
      "ZL=complex(73,-42.5)  #ohms\n",
      "Zo=complex(50,.01)    #ohms\n",
      "\n",
      "#Calculations&Results\n",
      "F=(ZL-Zo)/(ZL+Zo)\n",
      "p=math.sqrt(F.real**2+F.imag**2)\n",
      "VSWR=(1+p)/(1-p)\n",
      "print \"F= %.4f,phase = %.2f degrees\"%(p,math.degrees(math.atan(F.imag/F.real)))\n",
      "print \"VSWR=%.4f\"%VSWR"
     ],
     "language": "python",
     "metadata": {},
     "outputs": [
      {
       "output_type": "stream",
       "stream": "stdout",
       "text": [
        "F= 0.3714,phase = -42.53 degrees\n",
        "VSWR=2.1818\n"
       ]
      }
     ],
     "prompt_number": 12
    },
    {
     "cell_type": "heading",
     "level": 2,
     "metadata": {},
     "source": [
      "Example 3.14, Page 85"
     ]
    },
    {
     "cell_type": "code",
     "collapsed": false,
     "input": [
      "import math\n",
      "\n",
      "#Variable declaration\n",
      "q=2          #m\n",
      "B=math.pi    #rad/m\n",
      "d1=.4        #m\n",
      "Z2=1      \n",
      "S=2.4     \n",
      "\n",
      "#Calculations\n",
      "Z_L=complex(1,-S*math.tan(B*d1))/complex(S,-math.tan(B*d1))\n",
      "\n",
      "#Results\n",
      "print \"Z_L=\",Z_L\n",
      "print \"ZL=\",Z_L*100"
     ],
     "language": "python",
     "metadata": {},
     "outputs": [
      {
       "output_type": "stream",
       "stream": "stdout",
       "text": [
        "Z_L= (1.65000669415-0.961767520999j)\n",
        "ZL= (165.000669415-96.1767520999j)\n"
       ]
      }
     ],
     "prompt_number": 13
    },
    {
     "cell_type": "heading",
     "level": 2,
     "metadata": {},
     "source": [
      "Example 3.15, Page 87"
     ]
    },
    {
     "cell_type": "code",
     "collapsed": false,
     "input": [
      "import math\n",
      "\n",
      "#Variable declaration\n",
      "ZL=complex(50,100)  #ohms\n",
      "Zo=50               #ohms\n",
      "Bl=math.pi/2\n",
      "\n",
      "#Calculations\n",
      "Z_in=Zo*(complex(0,Zo)/complex(0,ZL))\n",
      "F=(ZL-Zo)/(ZL+Zo)\n",
      "F_mag=math.sqrt(F.real**2+F.imag**2)\n",
      "F_phase = math.degrees(math.atan(F.imag/F.real))\n",
      "VSWR=(1+F_mag)/(1-F_mag)\n",
      "Z_L=ZL/Zo\n",
      "\n",
      "#Results\n",
      "print \"Z_in=\",Z_in\n",
      "print \"F=%.4f,phase=%d degrees\"%(F_mag,F_phase)\n",
      "print \"VSWR=%.4f\"%VSWR\n",
      "print \"Z_L=\",Z_L\n"
     ],
     "language": "python",
     "metadata": {},
     "outputs": [
      {
       "output_type": "stream",
       "stream": "stdout",
       "text": [
        "Z_in= (10-20j)\n",
        "F=0.7071,phase=45 degrees\n",
        "VSWR=5.8284\n",
        "Z_L= (1+2j)\n"
       ]
      }
     ],
     "prompt_number": 14
    }
   ],
   "metadata": {}
  }
 ]
}