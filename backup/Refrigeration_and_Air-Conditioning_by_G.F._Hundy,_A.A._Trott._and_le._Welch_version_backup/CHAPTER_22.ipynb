{
 "cells": [
  {
   "cell_type": "markdown",
   "metadata": {},
   "source": [
    "# Chapter 22:Practical Air Treatment Cycles"
   ]
  },
  {
   "cell_type": "markdown",
   "metadata": {},
   "source": [
    "# Example 22.1,PAGE NUMBER:270"
   ]
  },
  {
   "cell_type": "code",
   "execution_count": null,
   "metadata": {
    "collapsed": false
   },
   "outputs": [],
   "source": [
    "# Variable declaration\n",
    "T_d=37;# The dry bulb temperature of air in °C\n",
    "H=24;# % saturation\n",
    "n_s=75;# Saturation efficiency in %\n",
    "h=62.67;# The entering enthalpy in kJ/kg\n",
    "\n",
    "# Calculation\n",
    "# By construction on the chart, or from tables, the ultimate saturation condition would be 21.5°C, and 75% of the drop from 37°C to 21.5°C gives a fi nal dry bulb of 25.4°C.\n",
    "h_fg=2425;# The average latent heat of water over the working range in kJ/kg\n",
    "q=(h_fg)**-1;# The amount of water to be evaporated in kg/(s kW)\n",
    "print\"The amount of water to be evaporated is %0.0e kg/(s kW)\"%q"
   ]
  },
  {
   "cell_type": "markdown",
   "metadata": {},
   "source": [
    "## Example 22.2,PAGE NUMBER:271"
   ]
  },
  {
   "cell_type": "code",
   "execution_count": null,
   "metadata": {
    "collapsed": false
   },
   "outputs": [],
   "source": [
    "# Variable declaration\n",
    "T_d=37;# The dry bulb temperature of air in °C\n",
    "T_w=25.4;# The cooling temperature of water in °C\n",
    "cf=0.80;# Contact factor\n",
    "\n",
    "# Calculation\n",
    "T_df=T_d-(cf*(T_d-T_w));# The dry bulb temperature (final) in °C\n",
    "print\"\\nThe dry bulb temperature (final)=%2.1f°C (point D , Figure 22.4b )\"%T_df\n",
    "print\"\\nThe wet bulb is now 18.9°C and the enthalpy is 53 kJ/kg.\""
   ]
  },
  {
   "cell_type": "markdown",
   "metadata": {},
   "source": [
    "## Example 22.3,PAGE NUMBER:271"
   ]
  },
  {
   "cell_type": "code",
   "execution_count": null,
   "metadata": {
    "collapsed": false
   },
   "outputs": [],
   "source": [
    "# Variable declaration\n",
    "T_d=26;# The dry bulb temperature of air in °C\n",
    "T_w=20;# The wet bulb temperature of water in °C\n",
    "T_win=29;# The temperature of water at inlet in °C\n",
    "T_wout=24;# The temperature of water at outlet in °C\n",
    "C_pw=4.187;# The specific heat capacity of water in kJ/kg.K\n",
    "\n",
    "# Calculation\n",
    "Q=C_pw*(T_win-T_wout);# Heat from water in kJ/kg\n",
    "h_ain=57.1;# Enthalpy of entering air in kJ/kg\n",
    "h_aout=78.1;# Enthalpy of leaving air in kJ/kg\n",
    "print\"\\nHeat from water=%2.0f kJ/kg \\nEnthalpy of entering air=57.1 kJ/kg \\nEnthalpy of leaving air=78.1 kJ/kg\"%Q\n",
    "print\"From the chart, the air leaves at approximately 25.7°C dry bulb.\""
   ]
  }
 ],
 "metadata": {
  "kernelspec": {
   "display_name": "Python 2",
   "language": "python",
   "name": "python2"
  },
  "language_info": {
   "codemirror_mode": {
    "name": "ipython",
    "version": 2
   },
   "file_extension": ".py",
   "mimetype": "text/x-python",
   "name": "python",
   "nbconvert_exporter": "python",
   "pygments_lexer": "ipython2",
   "version": "2.7.11"
  }
 },
 "nbformat": 4,
 "nbformat_minor": 0
}
