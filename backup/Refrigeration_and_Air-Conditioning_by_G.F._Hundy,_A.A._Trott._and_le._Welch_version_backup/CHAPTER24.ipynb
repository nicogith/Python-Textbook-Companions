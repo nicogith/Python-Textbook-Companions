{
 "cells": [
  {
   "cell_type": "markdown",
   "metadata": {},
   "source": [
    "# Chapter 24:Air Movement"
   ]
  },
  {
   "cell_type": "markdown",
   "metadata": {},
   "source": [
    "## Example 24.1,PAGE NUMBER:281"
   ]
  },
  {
   "cell_type": "code",
   "execution_count": null,
   "metadata": {
    "collapsed": false
   },
   "outputs": [],
   "source": [
    "# Variable declaration\n",
    "Z=4500;# Altitude in m\n",
    "p=575;# mbar barometric pressure\n",
    "t=-10;# Temperature in °C\n",
    "\n",
    "# Calculation\n",
    "rho=1.2*(p/1013.25)*((273.15+20)/(273.15+t));# The density of dry air in kg/m**3\n",
    "print\"The density of dry air,rho=%0.2f kg/m**3\"%rho"
   ]
  },
  {
   "cell_type": "markdown",
   "metadata": {},
   "source": [
    "## Example 24.2,PAGE NUMBER:282"
   ]
  },
  {
   "cell_type": "code",
   "execution_count": null,
   "metadata": {
    "collapsed": false
   },
   "outputs": [],
   "source": [
    "# Variable declaration\n",
    "V=1;# The volume of air in m**3\n",
    "t=20;# The dry bulb temperature in °C\n",
    "H=60;# % saturation\n",
    "p=101.325;# The pressure in kPa\n",
    "v=7;# The velocity in m/s\n",
    "v_s=0.8419;# The specific volume in m**3/kg\n",
    "\n",
    "# Calculation\n",
    "m=V/v_s;# Mass in kg\n",
    "Ke=(m*v**2)/2;# Kinetic energy in kg/(m s**2)\n",
    "print\"Kinetic energy=%2.1f kg/(m s**2)\"%Ke"
   ]
  },
  {
   "cell_type": "markdown",
   "metadata": {},
   "source": [
    "## Example 24.3,PAGE NUMBER:296"
   ]
  },
  {
   "cell_type": "code",
   "execution_count": null,
   "metadata": {
    "collapsed": false
   },
   "outputs": [],
   "source": [
    "# Variable declaration\n",
    "v_e=8;# The entering velocity of air in m/s\n",
    "v_l=5.5;# The leaving velocity of air in m/s\n",
    "fl=20;# Friction losses in %\n",
    "m=1.2;# Masss in kg\n",
    "\n",
    "# Calculation\n",
    "P_e=(m*v_e**2)/2;# Velocity pressure entering expansion in Pa\n",
    "P_l=(m*v_l**2)/2;# Velocity pressure leaving expansion in Pa\n",
    "FL=fl*10**-2*(P_e-P_l);# Friction losses in Pa\n",
    "Sr=(1-(fl*10**-2))*(P_e-P_l);# Static regain in Pa\n",
    "print\"The amount of Static regain=%2.1f Pa\"%Sr"
   ]
  }
 ],
 "metadata": {
  "kernelspec": {
   "display_name": "Python 2",
   "language": "python",
   "name": "python2"
  },
  "language_info": {
   "codemirror_mode": {
    "name": "ipython",
    "version": 2
   },
   "file_extension": ".py",
   "mimetype": "text/x-python",
   "name": "python",
   "nbconvert_exporter": "python",
   "pygments_lexer": "ipython2",
   "version": "2.7.11"
  }
 },
 "nbformat": 4,
 "nbformat_minor": 0
}
