{
 "cells": [
  {
   "cell_type": "markdown",
   "metadata": {},
   "source": [
    "# Chapter 18:Refrigeration Load Estimation"
   ]
  },
  {
   "cell_type": "markdown",
   "metadata": {},
   "source": [
    "## EXAMPLE 18.1,PAGE NUMBER:228"
   ]
  },
  {
   "cell_type": "code",
   "execution_count": null,
   "metadata": {
    "collapsed": false
   },
   "outputs": [],
   "source": [
    "# Variable declaration\n",
    "T_1=15;# °C\n",
    "T_2=0;# °C\n",
    "C_pw=4.187;# The specific heat capacity of water in kJ/kg.k\n",
    "m=20*10**3;# The mass flow rate of water in kg/day\n",
    "h_l=334;# kJ/kg\n",
    "t=24*3600;# The time available for cooling in s\n",
    "\n",
    "# Calculation\n",
    "Q=(m*((C_pw*T_1)+334))/t;# The cooling load in kW\n",
    "print\"The cooling load,Q=%2.0f kW.\"%Q"
   ]
  },
  {
   "cell_type": "markdown",
   "metadata": {},
   "source": [
    "## EXAMPLE 18.2,PAGE NUMBER:228"
   ]
  },
  {
   "cell_type": "code",
   "execution_count": null,
   "metadata": {
    "collapsed": false
   },
   "outputs": [],
   "source": [
    "# Variable declaration\n",
    "T_1=22;# °C\n",
    "T_2=1;# °C\n",
    "C_p=3.1;# The specific heat capacity of meat in kJ/kg.K\n",
    "m=8*10**3;# The mass of meat in kg\n",
    "t=14*3600;# The time available for cooling in s\n",
    "\n",
    "# Calculation\n",
    "Q=(m*((C_p*(T_1-T_2))))/t;# The cooling load in kW\n",
    "print\"The cooling load,Q=%2.1f kW.\"%Q"
   ]
  },
  {
   "cell_type": "markdown",
   "metadata": {},
   "source": [
    "## EXAMPLE 18.3,PAGE NUMBER:230"
   ]
  },
  {
   "cell_type": "code",
   "execution_count": null,
   "metadata": {
    "collapsed": false
   },
   "outputs": [],
   "source": [
    "# Variable declaration\n",
    "n=12;# The number of lighting fittings\n",
    "P=280;# W\n",
    "P_3f=660;# W\n",
    "P_h=18;# kW\n",
    "I=80;# A\n",
    "V=24;# V\n",
    "\n",
    "# Calculation\n",
    "L=[1.12,3.36];# Lighting,12*280,8h/day [Average over 24 h,Peak]\n",
    "F=[7.78,7.92];# Fan motors, 12*660 W [Average over 24 h,Peak]\n",
    "Dh=[1.50,18.00];# Defrost heaters,72 kW,1/2 h/day [Average over 24 h,Peak]\n",
    "Fl=[0.21,1.92];# Fork-lift,1.92 kW,(1/3)*8h [Average over 24 h,Peak]\n",
    "Fld=[0,0.12];# Fork-lift driver,120 kW,(1/3)*8h [Average over 24 h,Peak]\n",
    "P=[0,0.24];# Packers,240 W,(1/3)*8h [Average over 24 h,Peak]\n",
    "Avg=L[0]+F[0]+Dh[0]+Fl[0]+Fld[0]+P[0];# Average over 24 h\n",
    "Peak=L[1]+F[1]+Dh[1]+Fl[1]+Fld[1]+P[1];# Peak\n",
    "print\"\\nAverage over 24 h=%2.2f \\nPeak=%2.2f\"%(Avg,Peak)"
   ]
  },
  {
   "cell_type": "markdown",
   "metadata": {},
   "source": [
    "## EXAMPLE 18.6,PAGE NUMBER:231"
   ]
  },
  {
   "cell_type": "code",
   "execution_count": null,
   "metadata": {
    "collapsed": false
   },
   "outputs": [],
   "source": [
    "# Variable declaration\n",
    "m=1000;# The capacity of meat store in tonnes\n",
    "m_l=50;# The amount of meat leaving the store in t/day\n",
    "m_s=300;# The amount of meat arrives from the ships in t/day\n",
    "t=24*3600;# Time in s\n",
    "\n",
    "# Calculation\n",
    "# Case(1)\n",
    "m=90;# t/day\n",
    "T_1=2;# °C\n",
    "T_2=-12;# °C\n",
    "C=3.2;# Specific heat capacity in kJ/(kg.K)\n",
    "T_fp=-1;# Freezing point of meat in °C\n",
    "h_fg=225;# Latent heat of freezing in kJ/kg\n",
    "C_fm=1.63;# Specific heat of frozen meat in kJ/(kg.K)\n",
    "Q_f=(m*1000*((C*3)+h_fg+(C_fm*11)))/(t);# Cooling load in kW\n",
    "print\"\\nCase(1):Cooling load,Q_f=%3.0f kW\"%Q_f\n",
    "# Case(2)\n",
    "Q_f=(m_s*10**3*(C_fm*T_1))/t;# Cooling load in kW\n",
    "print\"\\nCase(2):Cooling load,Q_f=%2.0f kW\"%Q_f\n",
    "# Case(3)\n",
    "Q_f=(m_l*10**3*((C*3)+h_fg+(C_fm*11)))/t;# Cooling load in kW\n",
    "print\"\\nCase(3):Cooling load,Q_f=%3.0f kW\"%Q_f"
   ]
  }
 ],
 "metadata": {
  "kernelspec": {
   "display_name": "Python 2",
   "language": "python",
   "name": "python2"
  },
  "language_info": {
   "codemirror_mode": {
    "name": "ipython",
    "version": 2
   },
   "file_extension": ".py",
   "mimetype": "text/x-python",
   "name": "python",
   "nbconvert_exporter": "python",
   "pygments_lexer": "ipython2",
   "version": "2.7.11"
  }
 },
 "nbformat": 4,
 "nbformat_minor": 0
}
