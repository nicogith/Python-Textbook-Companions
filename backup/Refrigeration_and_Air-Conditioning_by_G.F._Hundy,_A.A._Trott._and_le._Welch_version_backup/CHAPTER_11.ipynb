{
 "cells": [
  {
   "cell_type": "markdown",
   "metadata": {},
   "source": [
    "# Chapter 11:Installation and Construction"
   ]
  },
  {
   "cell_type": "markdown",
   "metadata": {},
   "source": [
    "## Example 11.1,PAGE NUMBER:152"
   ]
  },
  {
   "cell_type": "code",
   "execution_count": null,
   "metadata": {
    "collapsed": false
   },
   "outputs": [],
   "source": [
    "# Variable declaration\n",
    "T_c=34;# The condensing temperature in °C\n",
    "T_s=30;# The subcooled temperature in °C\n",
    "g=9.81;# m/s**2\n",
    "\n",
    "# Calculation\n",
    "P_c=15.69;# Saturation pressure at 34°C in bar\n",
    "P_s=14.18;# Saturation pressure at 30°C in bar\n",
    "dp=P_c-P_s;# Permissible pressure drop in bar\n",
    "rho=1022;# Specific mass of liquid in kg/m**3;\n",
    "H=(dp*10**5)/(rho*g);# Possible loss in static head in m\n",
    "print\"Possible loss in static head=%2.1f m\"%H"
   ]
  },
  {
   "cell_type": "markdown",
   "metadata": {},
   "source": [
    "## Example 11.2,PAGE NUMBER:158"
   ]
  },
  {
   "cell_type": "code",
   "execution_count": null,
   "metadata": {
    "collapsed": false
   },
   "outputs": [],
   "source": [
    "# Variable declaration\n",
    "T_a=20;# The ambient temperature in °C\n",
    "m_p=10;# g\n",
    "\n",
    "# Calculation\n",
    "P_v=10.34;# Vapour pressure of R407C at 20°C in bar abs\n",
    "P_o=11.70;# Observed pressure in bar abs\n",
    "P_p=P_o-P_v;# Partial pressure of non-condensible gas in bar abs\n",
    "M_m=(0.23*52)+(0.25*120)+(0.52*102);# Molecular mass\n",
    "print\"\\nPartial pressure of non-condensible gas=%1.2f bar abs \\nMolecular mass=%2.0f\"%(P_p,M_m)"
   ]
  }
 ],
 "metadata": {
  "kernelspec": {
   "display_name": "Python 2",
   "language": "python",
   "name": "python2"
  },
  "language_info": {
   "codemirror_mode": {
    "name": "ipython",
    "version": 2
   },
   "file_extension": ".py",
   "mimetype": "text/x-python",
   "name": "python",
   "nbconvert_exporter": "python",
   "pygments_lexer": "ipython2",
   "version": "2.7.11"
  }
 },
 "nbformat": 4,
 "nbformat_minor": 0
}
