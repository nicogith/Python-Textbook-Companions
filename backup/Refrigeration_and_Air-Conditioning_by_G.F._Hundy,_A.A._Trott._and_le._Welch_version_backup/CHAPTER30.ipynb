{
 "cells": [
  {
   "cell_type": "markdown",
   "metadata": {},
   "source": [
    "# Chapter 30:Efficiency, Running Cost and Carbon Footprint"
   ]
  },
  {
   "cell_type": "markdown",
   "metadata": {},
   "source": [
    "## Example 30.1,PAGE NUMBER:358"
   ]
  },
  {
   "cell_type": "code",
   "execution_count": null,
   "metadata": {
    "collapsed": false
   },
   "outputs": [],
   "source": [
    "# Variable declaration\n",
    "P=15;# kW\n",
    "n_b=85;# The effiency of the gas boiler in %\n",
    "SCOP=3;# An average or seasonal COP (SCOP) of heat pump\n",
    "\n",
    "# Calcualtion\n",
    "# For the gas boiler\n",
    "R_pf=17.65;# Rate of primary fuel use in kW\n",
    "m_co2=0.19;# The mass of carbon in kg\n",
    "R_co2=R_pf*m_co2;# Rate of CO_2 emission in kg/h\n",
    "# For example\n",
    "Gp=3;# p/kWh\n",
    "Rc=R_pf*Gp;# Boiler Running cost in p per hour of heating\n",
    "print\"Boiler Running cost=%2.0fp per hour of heating.\"%Rc\n",
    "# For heat pump\n",
    "T_R_pf=10;#  Rate of primary fuel use in kW (total)\n",
    "R_pf=5;# Rate of primary fuel use in kW\n",
    "m_co2=0.43;# The mass of carbon in kg\n",
    "R_co2=R_co2=R_pf*m_co2;# Rate of CO_2 emission in kg/h\n",
    "# For example\n",
    "Ep=9;# p/kWh\n",
    "Rc=R_pf*Ep;# HP Running cost in p per hour of heating\n",
    "print\"HP Running cost=%2.0fp per hour of heating.\"%Rc"
   ]
  }
 ],
 "metadata": {
  "kernelspec": {
   "display_name": "Python 2",
   "language": "python",
   "name": "python2"
  },
  "language_info": {
   "codemirror_mode": {
    "name": "ipython",
    "version": 2
   },
   "file_extension": ".py",
   "mimetype": "text/x-python",
   "name": "python",
   "nbconvert_exporter": "python",
   "pygments_lexer": "ipython2",
   "version": "2.7.11"
  }
 },
 "nbformat": 4,
 "nbformat_minor": 0
}
