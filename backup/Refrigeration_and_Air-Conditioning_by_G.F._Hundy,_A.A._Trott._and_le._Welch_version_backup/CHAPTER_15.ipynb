{
 "cells": [
  {
   "cell_type": "markdown",
   "metadata": {},
   "source": [
    "# Chapter 15:Cold storage"
   ]
  },
  {
   "cell_type": "markdown",
   "metadata": {},
   "source": [
    "## Example 15.1,PAGE NUMBER:188"
   ]
  },
  {
   "cell_type": "code",
   "execution_count": null,
   "metadata": {
    "collapsed": false
   },
   "outputs": [],
   "source": [
    "# Variable declaration\n",
    "n=2;# The number of two pellet truck doors\n",
    "m_n=300;#The number of traffic movements per day\n",
    "t=30;# seconds\n",
    "\n",
    "# Calculation\n",
    "T=n*m_n*t;# The time for the door openings seconds per day \n",
    "A=2.2*3.2;# The cross sectional area in m**2\n",
    "v=1;# m/s\n",
    "I=A*T*v;# The air infiltration in m**3/d\n",
    "V=50*70*10;# The store volume in m**3\n",
    "R=I/V;# The rate of air change per day\n",
    "print\"\\nThe store volume is %5.0f m**3. \\nThe rate of air change is %1.1f per day.\"%(V,R)"
   ]
  },
  {
   "cell_type": "markdown",
   "metadata": {},
   "source": [
    "## Example 15.2,PAGE NUMBER:188"
   ]
  },
  {
   "cell_type": "code",
   "execution_count": null,
   "metadata": {
    "collapsed": false
   },
   "outputs": [],
   "source": [
    "# Variable declaration\n",
    "T=5;#  The dry bulb temperature in \n",
    "R=3.6;# The rate of air change per day\n",
    "V=35000;# The store volume in m**3\n",
    "v_spa=0.8;# The specific volume in m**3/kg\n",
    "q=600;# m**3/h\n",
    "n=2;# The number of two pellet truck doors\n",
    "h_1=15.9;# kJ/kg\n",
    "h_2=-24.3;# kJ/kg\n",
    "T_1=20;# °C\n",
    "T_2=-25;# °C\n",
    "t=24;# Time duration for one day in hours\n",
    "t_s=24*60*60;# Time duration for one day in seconds\n",
    "\n",
    "# Calculation\n",
    "R_woh=V*R/v_spa;# The rate of air change without dehumidification in kg/day\n",
    "Q_woh=R_woh*(h_1-h_2)/t_s;# The cooling load without dehumidification in kW\n",
    "R_wh=q*n*t/v_spa;# The rate of air change with dehumidification in kg/day\n",
    "Q_wh=R_wh*(T_1-T_2)/t_s;# The cooling load with dehumidification in kW\n",
    "print\"\\nThe rate of air change without dehumidification is %5.0f kg/day. \\nThe cooling load without dehumidification %2.1f kW(calculation error).\"%(R_woh,Q_woh)\n",
    "print\"\\nThe rate of air change with dehumidification is %5.0f kg/day. \\nThe cooling load with dehumidification %2.2f kW.\"%(R_wh,Q_wh)\n"
   ]
  }
 ],
 "metadata": {
  "kernelspec": {
   "display_name": "Python 2",
   "language": "python",
   "name": "python2"
  },
  "language_info": {
   "codemirror_mode": {
    "name": "ipython",
    "version": 2
   },
   "file_extension": ".py",
   "mimetype": "text/x-python",
   "name": "python",
   "nbconvert_exporter": "python",
   "pygments_lexer": "ipython2",
   "version": "2.7.11"
  }
 },
 "nbformat": 4,
 "nbformat_minor": 0
}
