{
 "cells": [
  {
   "cell_type": "markdown",
   "metadata": {},
   "source": [
    "# Chapter 29:Commissioning and Maintenance"
   ]
  },
  {
   "cell_type": "markdown",
   "metadata": {},
   "source": [
    "## Example 29.1,PAGE NUMBER:347"
   ]
  },
  {
   "cell_type": "code",
   "execution_count": null,
   "metadata": {
    "collapsed": false
   },
   "outputs": [],
   "source": [
    "import math\n",
    "# Variable declaration\n",
    "T_e=3;# The evaporating temperature in °C\n",
    "T_in=20;# The temperature of air entering coil in °C\n",
    "T_out=11;# The temperature of air off coil at full air flow in °C\n",
    "T_c=35;# The condensing temperature in °C\n",
    "af=(1-0.15);# The reduced air flow \n",
    "\n",
    "# Calculation\n",
    "LMTD=((T_in-T_e)-(T_out-T_e))/math.log((T_in-T_e)/(T_out-T_e));# K\n",
    "T_aoff=T_in-(T_in-T_out)/af;# Air off coil at 85% air flow (°C)\n",
    "Cp=(af)**0.8;# Coil performance at 85% air flow (°C)\n",
    "LMTD_85=LMTD/Cp;# LMTD at 85% air flow in K\n",
    "print\"\\nLMTD at 85 percentage air flow=%2.1f K(error)\"%LMTD_85"
   ]
  }
 ],
 "metadata": {
  "celltoolbar": "Raw Cell Format",
  "kernelspec": {
   "display_name": "Python 2",
   "language": "python",
   "name": "python2"
  },
  "language_info": {
   "codemirror_mode": {
    "name": "ipython",
    "version": 2
   },
   "file_extension": ".py",
   "mimetype": "text/x-python",
   "name": "python",
   "nbconvert_exporter": "python",
   "pygments_lexer": "ipython2",
   "version": "2.7.11"
  }
 },
 "nbformat": 4,
 "nbformat_minor": 0
}
