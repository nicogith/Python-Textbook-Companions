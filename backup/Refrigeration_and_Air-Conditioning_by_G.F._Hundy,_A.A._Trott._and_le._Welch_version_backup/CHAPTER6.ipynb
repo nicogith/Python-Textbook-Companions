{
 "cells": [
  {
   "cell_type": "markdown",
   "metadata": {},
   "source": [
    "# CHAPTER 6:Condensers and Cooling Towers"
   ]
  },
  {
   "cell_type": "markdown",
   "metadata": {},
   "source": [
    "## Example 6.1,PAGE NUMBER:77"
   ]
  },
  {
   "cell_type": "code",
   "execution_count": null,
   "metadata": {
    "collapsed": false
   },
   "outputs": [],
   "source": [
    "# Variable declaration\n",
    "Q_1=12;# Heat load in kW\n",
    "T_c1=50;# The condensing temperature in °C\n",
    "T_o1=35;# The maximum outdoor temperature in °C\n",
    "T_o2=15;# The reduced outdoor temperature in °C\n",
    "Q_2=8;# The reduced heat load in kW\n",
    "\n",
    "# Calculation\n",
    "deltaT=T_c1-T_o1;# Temperature Difference in K\n",
    "CR=Q_1*10**3/deltaT;# Condenser Rating in W/K\n",
    "CR=CR*10**-3;# Condenser Rating in kW/K\n",
    "deltaT_15=Q_2/CR;# Temperature Difference at 15°C \n",
    "T_c2=T_o2+deltaT_15;#The Condensing temperature at 15°C\n",
    "print\"Cooling Rating=\",round(CR,1),\"kW/K\"\n",
    "print\"Temperature Difference at 15°C=%2.0f°C\"%deltaT_15\n",
    "print\"The Condensing temperature at 15°C=%2.0f°C\"%T_c2"
   ]
  },
  {
   "cell_type": "markdown",
   "metadata": {},
   "source": [
    "## Example 6.2,PAGE NUMBER:80"
   ]
  },
  {
   "cell_type": "code",
   "execution_count": null,
   "metadata": {
    "collapsed": false
   },
   "outputs": [],
   "source": [
    "# Variable declaration\n",
    "deltaT=5.2;# The temperature rise in K\n",
    "E=930;# Total duty at the condenser in kW\n",
    "C_pw=4.187;# The specific heat of water in kJ/kg K\n",
    "\n",
    "# Calculation\n",
    "mdot=E/(deltaT*C_pw);# The amount of water required in kg/s\n",
    "print round(mdot,0),\"kg/s water flow is required.\""
   ]
  },
  {
   "cell_type": "markdown",
   "metadata": {
    "collapsed": true
   },
   "source": [
    "## Example 6.3,PAGE NUMBER:80"
   ]
  },
  {
   "cell_type": "code",
   "execution_count": null,
   "metadata": {
    "collapsed": false
   },
   "outputs": [],
   "source": [
    "# Variable declaration\n",
    "E_t=880;# Total duty at the condenser in kW\n",
    "E_wcp=15;# Total duty at water-circulating pump in kw\n",
    "\n",
    "# Calculation\n",
    "E=E_t+E_wcp;# Total tower duty in kW\n",
    "w_er=E*0.41*10**-3;# Evaporation rate in kg/s\n",
    "Cr_80=30;# Circulation rate in kg/s\n",
    "Cr_160=60;# Circulation rate in kg/s\n",
    "w_air=E*0.06;# Air flow rate in kg/s\n",
    "print\"\\nEvaporation rate=%0.2f kg/s \\nCirculation rate,80times=%2.0f kg/s \\nCirculation rate,160times=%2.0f kg/s \\nAir flow rate=%2.0f kg/s\"%(w_er,Cr_80,Cr_160,w_air)"
   ]
  },
  {
   "cell_type": "markdown",
   "metadata": {},
   "source": [
    "## Example 6.4,PAGE NUMBER:85"
   ]
  },
  {
   "cell_type": "code",
   "execution_count": null,
   "metadata": {
    "collapsed": false
   },
   "outputs": [],
   "source": [
    "# Variable declaration\n",
    "Cc=700;# The cooling capacity in kW\n",
    "P_c=170;# The compressor power in kW\n",
    "c_b=0.0012;# Concentration of solids in bleed-off (kg/kg)\n",
    "c_m=0.00056;# Concentration of solids in make-up water in kg/kg\n",
    "\n",
    "# Calculation\n",
    "E_tc=Cc+P_c;# Cooling tower capacity in kW\n",
    "h_fg=2420;# Latent heat of water vapour in kJ/kg\n",
    "w_e=E_tc*10**3/h_fg;# Rate of evaporation in g/s\n",
    "w_m=(w_e*(c_b))/(c_b-c_m);# Rate of make up in kg/s\n",
    "w_bo=w_m-w_e;# Rate of bleed off in kg/s\n",
    "print\"\\nRate of make up=%0.2f kg/s \\nRate of bleed off=%0.2f kg/s\"%(w_m/1000,w_bo/1000)\n"
   ]
  }
 ],
 "metadata": {
  "kernelspec": {
   "display_name": "Python 2",
   "language": "python",
   "name": "python2"
  },
  "language_info": {
   "codemirror_mode": {
    "name": "ipython",
    "version": 2
   },
   "file_extension": ".py",
   "mimetype": "text/x-python",
   "name": "python",
   "nbconvert_exporter": "python",
   "pygments_lexer": "ipython2",
   "version": "2.7.11"
  }
 },
 "nbformat": 4,
 "nbformat_minor": 0
}
