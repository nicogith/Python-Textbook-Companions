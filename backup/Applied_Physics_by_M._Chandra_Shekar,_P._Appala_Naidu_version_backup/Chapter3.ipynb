{
 "cells": [
  {
   "cell_type": "markdown",
   "metadata": {},
   "source": [
    "#3: Crystal Planes and X-ray Diffraction"
   ]
  },
  {
   "cell_type": "markdown",
   "metadata": {},
   "source": [
    "##Example number 3.1, Page number 3.4"
   ]
  },
  {
   "cell_type": "code",
   "execution_count": 1,
   "metadata": {
    "collapsed": false
   },
   "outputs": [
    {
     "name": "stdout",
     "output_type": "stream",
     "text": [
      "miller indices are ( 1 2 2 )\n"
     ]
    }
   ],
   "source": [
    "#importing modules\n",
    "import math\n",
    "from __future__ import division\n",
    "\n",
    "#Variable declaration\n",
    "a=4;\n",
    "b=2;\n",
    "c=2;      #intercepts\n",
    "\n",
    "#Calculation\n",
    "h=int(a/a);\n",
    "k=int(a/b);\n",
    "l=int(a/c);     #miller indices\n",
    "\n",
    "#Result\n",
    "print \"miller indices are (\",h,k,l,\")\""
   ]
  },
  {
   "cell_type": "markdown",
   "metadata": {},
   "source": [
    "##Example number 3.2, Page number 3.4"
   ]
  },
  {
   "cell_type": "code",
   "execution_count": 2,
   "metadata": {
    "collapsed": false
   },
   "outputs": [
    {
     "name": "stdout",
     "output_type": "stream",
     "text": [
      "miller indices are ( 1 3 3 )\n"
     ]
    }
   ],
   "source": [
    "#importing modules\n",
    "import math\n",
    "from __future__ import division\n",
    "\n",
    "#Variable declaration\n",
    "a=6;\n",
    "b=2;\n",
    "c=2;      #intercepts\n",
    "\n",
    "#Calculation\n",
    "h=int(a/a);\n",
    "k=int(a/b);\n",
    "l=int(a/c);     #miller indices\n",
    "\n",
    "#Result\n",
    "print \"miller indices are (\",h,k,l,\")\""
   ]
  },
  {
   "cell_type": "markdown",
   "metadata": {},
   "source": [
    "##Example number 3.3, Page number 3.4"
   ]
  },
  {
   "cell_type": "code",
   "execution_count": 3,
   "metadata": {
    "collapsed": false
   },
   "outputs": [
    {
     "name": "stdout",
     "output_type": "stream",
     "text": [
      "miller indices are ( 1 1 1 )\n"
     ]
    }
   ],
   "source": [
    "#importing modules\n",
    "import math\n",
    "from __future__ import division\n",
    "\n",
    "#Variable declaration\n",
    "a=3;\n",
    "b=3;\n",
    "c=3;      #intercepts\n",
    "\n",
    "#Calculation\n",
    "h=int(c/a);\n",
    "k=int(c/b);\n",
    "l=int(c/c);     #miller indices\n",
    "\n",
    "#Result\n",
    "print \"miller indices are (\",h,k,l,\")\""
   ]
  },
  {
   "cell_type": "markdown",
   "metadata": {},
   "source": [
    "##Example number 3.4, Page number 3.5"
   ]
  },
  {
   "cell_type": "code",
   "execution_count": 5,
   "metadata": {
    "collapsed": false
   },
   "outputs": [
    {
     "name": "stdout",
     "output_type": "stream",
     "text": [
      "miller indices are ( 3 2 1 )\n"
     ]
    }
   ],
   "source": [
    "#importing modules\n",
    "import math\n",
    "from __future__ import division\n",
    "\n",
    "#Variable declaration\n",
    "a=2;\n",
    "b=3;\n",
    "c=6;      #intercepts\n",
    "\n",
    "#Calculation\n",
    "h=int(c/a);\n",
    "k=int(c/b);\n",
    "l=int(c/c);     #miller indices\n",
    "\n",
    "#Result\n",
    "print \"miller indices are (\",h,k,l,\")\""
   ]
  },
  {
   "cell_type": "markdown",
   "metadata": {},
   "source": [
    "##Example number 3.5, Page number 3.5"
   ]
  },
  {
   "cell_type": "code",
   "execution_count": 8,
   "metadata": {
    "collapsed": false
   },
   "outputs": [
    {
     "name": "stdout",
     "output_type": "stream",
     "text": [
      "miller indices are ( 2 1 2 )\n"
     ]
    }
   ],
   "source": [
    "#importing modules\n",
    "import math\n",
    "from __future__ import division\n",
    "\n",
    "#Variable declaration\n",
    "a=0.212;\n",
    "b=1;\n",
    "c=0.183;      #intercepts\n",
    "ac=0.424;\n",
    "bc=1;\n",
    "cc=0.366;     #axial units\n",
    "\n",
    "#Calculation\n",
    "h=int(ac/a);\n",
    "k=int(bc/b);\n",
    "l=int(cc/c);     #miller indices\n",
    "\n",
    "#Result\n",
    "print \"miller indices are (\",h,k,l,\")\""
   ]
  },
  {
   "cell_type": "markdown",
   "metadata": {},
   "source": [
    "##Example number 3.6, Page number 3.6"
   ]
  },
  {
   "cell_type": "code",
   "execution_count": 9,
   "metadata": {
    "collapsed": false
   },
   "outputs": [
    {
     "name": "stdout",
     "output_type": "stream",
     "text": [
      "intercepts along x,y,z directions are 1.2 angstrom 1.2 angstrom 4.0 angstrom\n"
     ]
    }
   ],
   "source": [
    "#importing modules\n",
    "import math\n",
    "from __future__ import division\n",
    "\n",
    "#Variable declaration\n",
    "h=2;\n",
    "k=3;\n",
    "l=1;     #intercepts\n",
    "a=1.2;\n",
    "b=1.8;\n",
    "c=2;     #primitives(angstrom)\n",
    "p=1.2;    #intercept along X-direction\n",
    "\n",
    "#Calculation\n",
    "q=b/k;\n",
    "r=2*p/q;\n",
    "\n",
    "#Result\n",
    "print \"intercepts along x,y,z directions are\",p,\"angstrom\",2*q,\"angstrom\",r,\"angstrom\""
   ]
  },
  {
   "cell_type": "markdown",
   "metadata": {},
   "source": [
    "##Example number 3.7, Page number 3.11"
   ]
  },
  {
   "cell_type": "code",
   "execution_count": 11,
   "metadata": {
    "collapsed": false
   },
   "outputs": [
    {
     "name": "stdout",
     "output_type": "stream",
     "text": [
      "interplanar separation for 1st plane is 1.0*a\n",
      "interplanar separation for 2nd plane is 0.707 *a\n",
      "interplanar separation for 3rd plane is 0.577 *a\n"
     ]
    }
   ],
   "source": [
    "#importing modules\n",
    "import math\n",
    "from __future__ import division\n",
    "from sympy import Symbol\n",
    "\n",
    "#Variable declaration\n",
    "a=Symbol('a');\n",
    "h1=1;\n",
    "k1=0;\n",
    "l1=0;    #intercepts of 1st plane\n",
    "h2=1;\n",
    "k2=1;\n",
    "l2=0;    #intercepts of 2nd plane\n",
    "h3=1;\n",
    "k3=1;\n",
    "l3=1;    #intercepts of 3rd plane\n",
    "\n",
    "#Calculation\n",
    "d100=a/math.sqrt(h1**2+k1**2+l1**2);    #interplanar separation for 1st plane\n",
    "d110=a/math.sqrt(h2**2+k2**2+l2**2);    #interplanar separation for 2nd plane\n",
    "d111=a/math.sqrt(h3**2+k3**2+l3**2);    #interplanar separation for 3rd plane\n",
    "\n",
    "#Result\n",
    "print \"interplanar separation for 1st plane is\",d100\n",
    "print \"interplanar separation for 2nd plane is\",round(d110/a,3),\"*a\"\n",
    "print \"interplanar separation for 3rd plane is\",round(d111/a,3),\"*a\""
   ]
  },
  {
   "cell_type": "markdown",
   "metadata": {},
   "source": [
    "##Example number 3.8, Page number 3.12"
   ]
  },
  {
   "cell_type": "code",
   "execution_count": 2,
   "metadata": {
    "collapsed": false
   },
   "outputs": [
    {
     "name": "stdout",
     "output_type": "stream",
     "text": [
      "interplanar separation is 0.179 angstrom\n"
     ]
    }
   ],
   "source": [
    "#importing modules\n",
    "import math\n",
    "from __future__ import division\n",
    "\n",
    "#Variable declaration\n",
    "h=3;\n",
    "k=4;\n",
    "l=5;     #miller indices\n",
    "a=2;\n",
    "b=2;\n",
    "c=1;     #parameters\n",
    "\n",
    "#Calculation\n",
    "d=1/math.sqrt((h**2/a**2)+(k**2/b**2)+(l**2/c**2));     #interplanar separation(angstrom)\n",
    "\n",
    "#Result\n",
    "print \"interplanar separation is\",round(d,3),\"angstrom\""
   ]
  },
  {
   "cell_type": "markdown",
   "metadata": {},
   "source": [
    "##Example number 3.9, Page number 3.12"
   ]
  },
  {
   "cell_type": "code",
   "execution_count": 4,
   "metadata": {
    "collapsed": false
   },
   "outputs": [
    {
     "name": "stdout",
     "output_type": "stream",
     "text": [
      "interplanar distance is 3.464 angstrom\n"
     ]
    }
   ],
   "source": [
    "#importing modules\n",
    "import math\n",
    "from __future__ import division\n",
    "\n",
    "#Variable declaration\n",
    "a=6;     #lattice parameter(angstrom)\n",
    "h=1;\n",
    "k=1;\n",
    "l=1;      #miller indices\n",
    "\n",
    "#Calculation\n",
    "d=a/math.sqrt(h**2+k**2+l**2);      #interplanar distance(angstrom)\n",
    "\n",
    "#Result\n",
    "print \"interplanar distance is\",round(d,3),\"angstrom\""
   ]
  },
  {
   "cell_type": "markdown",
   "metadata": {},
   "source": [
    "##Example number 3.10, Page number 3.12"
   ]
  },
  {
   "cell_type": "code",
   "execution_count": 6,
   "metadata": {
    "collapsed": false
   },
   "outputs": [
    {
     "name": "stdout",
     "output_type": "stream",
     "text": [
      "interplanar distance is 2.1 angstrom\n"
     ]
    }
   ],
   "source": [
    "#importing modules\n",
    "import math\n",
    "from __future__ import division\n",
    "\n",
    "#Variable declaration\n",
    "a=6.3;     #lattice parameter(angstrom)\n",
    "h=2;\n",
    "k=2;\n",
    "l=1;      #miller indices\n",
    "\n",
    "#Calculation\n",
    "d=a/math.sqrt(h**2+k**2+l**2);      #interplanar distance(angstrom)\n",
    "\n",
    "#Result\n",
    "print \"interplanar distance is\",round(d,1),\"angstrom\""
   ]
  },
  {
   "cell_type": "markdown",
   "metadata": {},
   "source": [
    "##Example number 3.11, Page number 3.12"
   ]
  },
  {
   "cell_type": "code",
   "execution_count": 11,
   "metadata": {
    "collapsed": false
   },
   "outputs": [
    {
     "name": "stdout",
     "output_type": "stream",
     "text": [
      "interplanar distance is 1 angstrom\n"
     ]
    }
   ],
   "source": [
    "#importing modules\n",
    "import math\n",
    "from __future__ import division\n",
    "\n",
    "#Variable declaration\n",
    "a=5;     #lattice parameter(angstrom)\n",
    "h=4;\n",
    "k=3;\n",
    "l=0;      #miller indices\n",
    "\n",
    "#Calculation\n",
    "d=a/math.sqrt(h**2+k**2+l**2);      #interplanar distance(angstrom)\n",
    "\n",
    "#Result\n",
    "print \"interplanar distance is\",int(d),\"angstrom\""
   ]
  },
  {
   "cell_type": "markdown",
   "metadata": {},
   "source": [
    "##Example number 3.12, Page number 3.13"
   ]
  },
  {
   "cell_type": "code",
   "execution_count": 12,
   "metadata": {
    "collapsed": false
   },
   "outputs": [
    {
     "name": "stdout",
     "output_type": "stream",
     "text": [
      "ratio of intercepts on axes is 6 : 3 : 2\n"
     ]
    }
   ],
   "source": [
    "#importing modules\n",
    "import math\n",
    "from __future__ import division\n",
    "\n",
    "#Variable declaration\n",
    "h=1;\n",
    "k=2;\n",
    "l=3;      #miller indices\n",
    "\n",
    "#Calculation\n",
    "p=int(k*l/h);\n",
    "q=int(k*l/k);\n",
    "r=int(k*l/l);       #ratio of intercepts on axes\n",
    "\n",
    "#Result\n",
    "print \"ratio of intercepts on axes is\",p,\":\",q,\":\",r"
   ]
  },
  {
   "cell_type": "markdown",
   "metadata": {},
   "source": [
    "##Example number 3.13, Page number 3.13"
   ]
  },
  {
   "cell_type": "code",
   "execution_count": 15,
   "metadata": {
    "collapsed": false
   },
   "outputs": [
    {
     "name": "stdout",
     "output_type": "stream",
     "text": [
      "interplanar distance is 1.12 *10**-10 m\n"
     ]
    }
   ],
   "source": [
    "#importing modules\n",
    "import math\n",
    "from __future__ import division\n",
    "\n",
    "#Variable declaration\n",
    "a=4.2*10**-10;     #lattice parameter(m)\n",
    "h=3;\n",
    "k=2;\n",
    "l=1;      #miller indices\n",
    "\n",
    "#Calculation\n",
    "d=a/math.sqrt(h**2+k**2+l**2);      #interplanar distance(m)\n",
    "\n",
    "#Result\n",
    "print \"interplanar distance is\",round(d*10**10,2),\"*10**-10 m\""
   ]
  },
  {
   "cell_type": "markdown",
   "metadata": {},
   "source": [
    "##Example number 3.14, Page number 3.13"
   ]
  },
  {
   "cell_type": "code",
   "execution_count": 17,
   "metadata": {
    "collapsed": false
   },
   "outputs": [
    {
     "name": "stdout",
     "output_type": "stream",
     "text": [
      "interplanar separation is 1.26 angstrom\n"
     ]
    }
   ],
   "source": [
    "#importing modules\n",
    "import math\n",
    "from __future__ import division\n",
    "\n",
    "#Variable declaration\n",
    "h=1;\n",
    "k=1;\n",
    "l=1;     #miller indices\n",
    "a=2.5;\n",
    "b=2.5;\n",
    "c=1.8;     #parameters\n",
    "\n",
    "#Calculation\n",
    "d=1/math.sqrt((h**2/a**2)+(k**2/b**2)+(l**2/c**2));     #interplanar separation(angstrom)\n",
    "\n",
    "#Result\n",
    "print \"interplanar separation is\",round(d,2),\"angstrom\""
   ]
  },
  {
   "cell_type": "markdown",
   "metadata": {},
   "source": [
    "##Example number 3.15, Page number 3.14"
   ]
  },
  {
   "cell_type": "code",
   "execution_count": 22,
   "metadata": {
    "collapsed": false
   },
   "outputs": [
    {
     "name": "stdout",
     "output_type": "stream",
     "text": [
      "interplanar separation for 1st plane is 2.466 angstrom\n",
      "interplanar separation for 2nd plane is 1.74 angstrom\n",
      "interplanar separation for 3rd plane is 2.85 angstrom\n"
     ]
    }
   ],
   "source": [
    "#importing modules\n",
    "import math\n",
    "from __future__ import division\n",
    "\n",
    "#Variable declaration\n",
    "r=1.744;       #atomic radius(angstrom)\n",
    "h1=2;\n",
    "k1=0;\n",
    "l1=0;    #intercepts of 1st plane\n",
    "h2=2;\n",
    "k2=2;\n",
    "l2=0;    #intercepts of 2nd plane\n",
    "h3=1;\n",
    "k3=1;\n",
    "l3=1;    #intercepts of 3rd plane\n",
    "\n",
    "#Calculation\n",
    "a=4*r/math.sqrt(2);\n",
    "d200=a/math.sqrt(h1**2+k1**2+l1**2);    #interplanar separation for 1st plane(angstrom)\n",
    "d220=a/math.sqrt(h2**2+k2**2+l2**2);    #interplanar separation for 2nd plane(angstrom)\n",
    "d111=a/math.sqrt(h3**2+k3**2+l3**2);    #interplanar separation for 3rd plane(angstrom)\n",
    "\n",
    "#Result\n",
    "print \"interplanar separation for 1st plane is\",round(d200,3),\"angstrom\"\n",
    "print \"interplanar separation for 2nd plane is\",round(d220,2),\"angstrom\"\n",
    "print \"interplanar separation for 3rd plane is\",round(d111,2),\"angstrom\""
   ]
  },
  {
   "cell_type": "markdown",
   "metadata": {},
   "source": [
    "##Example number 3.16, Page number 3.14"
   ]
  },
  {
   "cell_type": "code",
   "execution_count": 2,
   "metadata": {
    "collapsed": false
   },
   "outputs": [
    {
     "name": "stdout",
     "output_type": "stream",
     "text": [
      "ratio of densities is 1.414 : 1.732\n"
     ]
    }
   ],
   "source": [
    "#importing modules\n",
    "import math\n",
    "from __future__ import division\n",
    "\n",
    "#Variable declaration\n",
    "h1=1;\n",
    "k1=1;\n",
    "l1=1;    #intercepts of 1st plane\n",
    "h2=1;\n",
    "k2=1;\n",
    "l2=0;    #intercepts of 2nd plane\n",
    "a=1;\n",
    "\n",
    "#Calculation\n",
    "d111=a/math.sqrt(h1**2+k1**2+l1**2);    #interplanar separation for 1st plane(angstrom)\n",
    "d110=a/math.sqrt(h2**2+k2**2+l2**2);    #interplanar separation for 2nd plane(angstrom)\n",
    "\n",
    "#Result\n",
    "print \"ratio of densities is\",round(1/d110,3),\":\",round(1/d111,3)"
   ]
  },
  {
   "cell_type": "markdown",
   "metadata": {
    "collapsed": true
   },
   "source": [
    "##Example number 3.17, Page number 3.21"
   ]
  },
  {
   "cell_type": "code",
   "execution_count": 2,
   "metadata": {
    "collapsed": false
   },
   "outputs": [
    {
     "name": "stdout",
     "output_type": "stream",
     "text": [
      "glancing angle is 14.61 degrees\n"
     ]
    }
   ],
   "source": [
    "#importing modules\n",
    "import math\n",
    "from __future__ import division\n",
    "\n",
    "#Variable declaration\n",
    "a=2.814;     #lattice parameter(m)\n",
    "h=1;\n",
    "lamda=0.71;     #wavelength(angstrom)\n",
    "k=0;\n",
    "l=0;      #miller indices\n",
    "\n",
    "#Calculation\n",
    "d=a/math.sqrt(h**2+k**2+l**2);      #interplanar distance(angstrom)\n",
    "theta=math.asin(lamda/d);     #glancing angle(radian)\n",
    "theta=theta*180/math.pi;      #glancing angle(degrees)\n",
    "\n",
    "#Result\n",
    "print \"glancing angle is\",round(theta,2),\"degrees\""
   ]
  },
  {
   "cell_type": "markdown",
   "metadata": {},
   "source": [
    "##Example number 3.18, Page number 3.21"
   ]
  },
  {
   "cell_type": "code",
   "execution_count": 3,
   "metadata": {
    "collapsed": false
   },
   "outputs": [
    {
     "name": "stdout",
     "output_type": "stream",
     "text": [
      "wavelength is 1.5 angstrom\n",
      "glancing angle is 90.0 degrees\n"
     ]
    }
   ],
   "source": [
    "#importing modules\n",
    "import math\n",
    "from __future__ import division\n",
    "\n",
    "#Variable declaration\n",
    "a=4.5;     #lattice parameter(m)\n",
    "h=2;\n",
    "k=2;\n",
    "theta=30*math.pi/180;    #angle(radian)\n",
    "l=1;      #miller indices\n",
    "n=2;\n",
    "\n",
    "#Calculation\n",
    "d=a/math.sqrt(h**2+k**2+l**2);      #interplanar distance(angstrom)\n",
    "lamda=2*d*math.sin(theta);     #wavelength(angstrom)\n",
    "theta=math.asin(lamda/d);     #glancing angle(radian)\n",
    "theta=theta*180/math.pi;      #glancing angle(degrees)\n",
    "\n",
    "#Result\n",
    "print \"wavelength is\",lamda,\"angstrom\"\n",
    "print \"glancing angle is\",round(theta,2),\"degrees\""
   ]
  },
  {
   "cell_type": "markdown",
   "metadata": {},
   "source": [
    "##Example number 3.19, Page number 3.22"
   ]
  },
  {
   "cell_type": "code",
   "execution_count": 8,
   "metadata": {
    "collapsed": false
   },
   "outputs": [
    {
     "name": "stdout",
     "output_type": "stream",
     "text": [
      "wavelength is 0.842 *10**-10 m\n",
      "glancing angle for second order is 17.37 degrees\n",
      "glancing angle for third order is 26.6 degrees\n"
     ]
    }
   ],
   "source": [
    "#importing modules\n",
    "import math\n",
    "from __future__ import division\n",
    "\n",
    "#Variable declaration\n",
    "theta=(8+(35/60))*math.pi/180;    #angle(radian)\n",
    "n2=2;\n",
    "n3=3;\n",
    "d=2.82*10**-10;     #lattice spacing(m)\n",
    "\n",
    "#Calculation\n",
    "lamda=2*d*math.sin(theta);     #wavelength(m)\n",
    "theta2=math.asin(n2*lamda/(2*d));     #glancing angle(radian)\n",
    "theta2=theta2*180/math.pi;      #glancing angle(degrees)\n",
    "theta3=math.asin(n3*lamda/(2*d));     #glancing angle(radian)\n",
    "theta3=theta3*180/math.pi;      #glancing angle(degrees)\n",
    "\n",
    "#Result\n",
    "print \"wavelength is\",round(lamda*10**10,3),\"*10**-10 m\"\n",
    "print \"glancing angle for second order is\",round(theta2,2),\"degrees\"\n",
    "print \"glancing angle for third order is\",round(theta3,1),\"degrees\""
   ]
  },
  {
   "cell_type": "markdown",
   "metadata": {},
   "source": [
    "##Example number 3.20, Page number 3.23"
   ]
  },
  {
   "cell_type": "code",
   "execution_count": 10,
   "metadata": {
    "collapsed": false
   },
   "outputs": [
    {
     "name": "stdout",
     "output_type": "stream",
     "text": [
      "glancing angle for 1st order is 14.48 degrees\n",
      "glancing angle for 1st order is 30.0 degrees\n"
     ]
    }
   ],
   "source": [
    "#importing modules\n",
    "import math\n",
    "from __future__ import division\n",
    "\n",
    "#Variable declaration\n",
    "a=5;     #lattice parameter(angstrom)\n",
    "h=3;\n",
    "lamda=0.5;     #wavelength(angstrom)\n",
    "k=4;\n",
    "n=2;\n",
    "l=0;      #miller indices\n",
    "\n",
    "#Calculation\n",
    "d=a/math.sqrt(h**2+k**2+l**2);      #interplanar distance(angstrom)\n",
    "theta1=math.asin(lamda/(2*d));     #glancing angle(radian)\n",
    "theta1=theta1*180/math.pi;      #glancing angle(degrees)\n",
    "theta2=math.asin(2*lamda/(2*d));     #glancing angle(radian)\n",
    "theta2=theta2*180/math.pi;      #glancing angle(degrees)\n",
    "\n",
    "#Result\n",
    "print \"glancing angle for 1st order is\",round(theta1,2),\"degrees\"\n",
    "print \"glancing angle for 1st order is\",theta2,\"degrees\""
   ]
  },
  {
   "cell_type": "markdown",
   "metadata": {},
   "source": [
    "##Example number 3.21, Page number 3.23"
   ]
  },
  {
   "cell_type": "code",
   "execution_count": 12,
   "metadata": {
    "collapsed": false
   },
   "outputs": [
    {
     "name": "stdout",
     "output_type": "stream",
     "text": [
      "wavelength is 2.45 angstrom\n"
     ]
    }
   ],
   "source": [
    "#importing modules\n",
    "import math\n",
    "from __future__ import division\n",
    "\n",
    "#Variable declaration\n",
    "a=3;     #lattice parameter(angstrom)\n",
    "h=1;\n",
    "k=1;\n",
    "n=1;\n",
    "l=1;      #miller indices\n",
    "theta=45*math.pi/180;    #angle(radian)\n",
    "\n",
    "#Calculation\n",
    "d=a/math.sqrt(h**2+k**2+l**2);      #interplanar distance(angstrom)\n",
    "lamda=2*d*math.sin(theta);     #wavelength(angstrom)\n",
    "\n",
    "#Result\n",
    "print \"wavelength is\",round(lamda,2),\"angstrom\""
   ]
  },
  {
   "cell_type": "markdown",
   "metadata": {},
   "source": [
    "##Example number 3.22, Page number 3.24"
   ]
  },
  {
   "cell_type": "code",
   "execution_count": 15,
   "metadata": {
    "collapsed": false
   },
   "outputs": [
    {
     "name": "stdout",
     "output_type": "stream",
     "text": [
      "glancing angle for 1st order is 22.02 degrees\n",
      "glancing angle for 2nd order is 48.59 degrees\n"
     ]
    }
   ],
   "source": [
    "#importing modules\n",
    "import math\n",
    "from __future__ import division\n",
    "\n",
    "#Variable declaration\n",
    "lamda=1.5;     #wavelength(angstrom)\n",
    "d=2;       #seperation(angstrom)\n",
    "n=2;\n",
    "\n",
    "#Calculation\n",
    "theta1=math.asin(lamda/(2*d));     #glancing angle(radian)\n",
    "theta1=theta1*180/math.pi;      #glancing angle(degrees)\n",
    "theta2=math.asin(n*lamda/(2*d));     #glancing angle(radian)\n",
    "theta2=theta2*180/math.pi;      #glancing angle(degrees)\n",
    "\n",
    "#Result\n",
    "print \"glancing angle for 1st order is\",round(theta1,2),\"degrees\"\n",
    "print \"glancing angle for 2nd order is\",round(theta2,2),\"degrees\""
   ]
  },
  {
   "cell_type": "markdown",
   "metadata": {},
   "source": [
    "##Example number 3.23, Page number 3.24"
   ]
  },
  {
   "cell_type": "code",
   "execution_count": 17,
   "metadata": {
    "collapsed": false
   },
   "outputs": [
    {
     "name": "stdout",
     "output_type": "stream",
     "text": [
      "interplanar separation is 0.88 angstrom\n"
     ]
    }
   ],
   "source": [
    "#importing modules\n",
    "import math\n",
    "from __future__ import division\n",
    "\n",
    "#Variable declaration\n",
    "lamda=1.25;     #wavelength(angstrom)\n",
    "theta=45*math.pi/180;    #angle(radian)\n",
    "n=1;\n",
    "\n",
    "#Calculation\n",
    "d=n*lamda/(2*math.sin(theta));      #interplanar separation(angstrom)\n",
    "\n",
    "#Result\n",
    "print \"interplanar separation is\",round(d,2),\"angstrom\""
   ]
  },
  {
   "cell_type": "markdown",
   "metadata": {},
   "source": [
    "##Example number 3.24, Page number 3.25"
   ]
  },
  {
   "cell_type": "code",
   "execution_count": 20,
   "metadata": {
    "collapsed": false
   },
   "outputs": [
    {
     "name": "stdout",
     "output_type": "stream",
     "text": [
      "glancing angle for 1st order is 5.74 degrees\n",
      "glancing angle for 2nd order is 11.54 degrees\n",
      "glancing angle for 1st order is 17.46 degrees\n",
      "glancing angle for 2nd order is 23.58 degrees\n"
     ]
    }
   ],
   "source": [
    "#importing modules\n",
    "import math\n",
    "from __future__ import division\n",
    "\n",
    "#Variable declaration\n",
    "lamda=1;     #wavelength(angstrom)\n",
    "d=5;       #seperation(angstrom)\n",
    "n1=1;\n",
    "n2=2;\n",
    "n3=3;\n",
    "n4=4;     #order\n",
    "\n",
    "#Calculation\n",
    "theta1=math.asin(n1*lamda/(2*d));     #glancing angle(radian)\n",
    "theta1=theta1*180/math.pi;      #glancing angle(degrees)\n",
    "theta2=math.asin(n2*lamda/(2*d));     #glancing angle(radian)\n",
    "theta2=theta2*180/math.pi;      #glancing angle(degrees)\n",
    "theta3=math.asin(n3*lamda/(2*d));     #glancing angle(radian)\n",
    "theta3=theta3*180/math.pi;      #glancing angle(degrees)\n",
    "theta4=math.asin(n4*lamda/(2*d));     #glancing angle(radian)\n",
    "theta4=theta4*180/math.pi;      #glancing angle(degrees)\n",
    "\n",
    "#Result\n",
    "print \"glancing angle for 1st order is\",round(theta1,2),\"degrees\"\n",
    "print \"glancing angle for 2nd order is\",round(theta2,2),\"degrees\"\n",
    "print \"glancing angle for 1st order is\",round(theta3,2),\"degrees\"\n",
    "print \"glancing angle for 2nd order is\",round(theta4,2),\"degrees\""
   ]
  },
  {
   "cell_type": "markdown",
   "metadata": {},
   "source": [
    "##Example number 3.25, Page number 3.26"
   ]
  },
  {
   "cell_type": "code",
   "execution_count": 22,
   "metadata": {
    "collapsed": false
   },
   "outputs": [
    {
     "name": "stdout",
     "output_type": "stream",
     "text": [
      "1st bragg reflection angle is 7.18 degrees\n",
      "2nd bragg reflection angle is 14.48 degrees\n",
      "3rd bragg reflection angle is 22.02 degrees\n"
     ]
    }
   ],
   "source": [
    "#importing modules\n",
    "import math\n",
    "from __future__ import division\n",
    "\n",
    "#Variable declaration\n",
    "theta=30*math.pi/180;      #angle(radian)\n",
    "#assume that sin(theta)=x\n",
    "x1=1;\n",
    "x2=2;\n",
    "x3=3;\n",
    "x4=4;\n",
    "\n",
    "#Calculation\n",
    "theta1=math.asin(x1*math.sin(theta)/x4);        #1st bragg reflection angle(radian)\n",
    "theta1=theta1*180/math.pi;       #1st bragg reflection angle(degrees)\n",
    "theta2=math.asin(x2*math.sin(theta)/x4);        #1st bragg reflection angle(radian)\n",
    "theta2=theta2*180/math.pi;       #1st bragg reflection angle(degrees)\n",
    "theta3=math.asin(x3*math.sin(theta)/x4);        #1st bragg reflection angle(radian)\n",
    "theta3=theta3*180/math.pi;       #1st bragg reflection angle(degrees)\n",
    "\n",
    "#Result\n",
    "print \"1st bragg reflection angle is\",round(theta1,2),\"degrees\"\n",
    "print \"2nd bragg reflection angle is\",round(theta2,2),\"degrees\"\n",
    "print \"3rd bragg reflection angle is\",round(theta3,2),\"degrees\""
   ]
  },
  {
   "cell_type": "markdown",
   "metadata": {},
   "source": [
    "##Example number 3.26, Page number 3.27"
   ]
  },
  {
   "cell_type": "code",
   "execution_count": 25,
   "metadata": {
    "collapsed": false
   },
   "outputs": [
    {
     "name": "stdout",
     "output_type": "stream",
     "text": [
      "maximum order of bragg reflection is 4\n"
     ]
    }
   ],
   "source": [
    "#importing modules\n",
    "import math\n",
    "from __future__ import division\n",
    "\n",
    "#Variable declaration\n",
    "lamda=1.25;     #wavelength(angstrom)\n",
    "d=2.5;       #seperation(angstrom)\n",
    "\n",
    "#Calculation\n",
    "n=2*d/lamda;       #maximum order of bragg reflection\n",
    "\n",
    "#Result\n",
    "print \"maximum order of bragg reflection is\",int(n)"
   ]
  },
  {
   "cell_type": "markdown",
   "metadata": {},
   "source": [
    "##Example number 3.27, Page number 3.27"
   ]
  },
  {
   "cell_type": "code",
   "execution_count": 26,
   "metadata": {
    "collapsed": false
   },
   "outputs": [
    {
     "name": "stdout",
     "output_type": "stream",
     "text": [
      "maximum order of bragg reflection is 3\n"
     ]
    }
   ],
   "source": [
    "#importing modules\n",
    "import math\n",
    "from __future__ import division\n",
    "\n",
    "#Variable declaration\n",
    "lamda=1.5;     #wavelength(angstrom)\n",
    "d=2.8;       #seperation(angstrom)\n",
    "\n",
    "#Calculation\n",
    "n=2*d/lamda;       #maximum order of bragg reflection\n",
    "\n",
    "#Result\n",
    "print \"maximum order of bragg reflection is\",int(n)"
   ]
  },
  {
   "cell_type": "markdown",
   "metadata": {},
   "source": [
    "##Example number 3.28, Page number 3.27"
   ]
  },
  {
   "cell_type": "code",
   "execution_count": 2,
   "metadata": {
    "collapsed": false
   },
   "outputs": [
    {
     "name": "stdout",
     "output_type": "stream",
     "text": [
      "wavelength for 1st angle is 1.45 angstrom\n",
      "wavelength for 2nd angleis 1.544 angstrom\n"
     ]
    }
   ],
   "source": [
    "#importing modules\n",
    "import math\n",
    "from __future__ import division\n",
    "\n",
    "#Variable declaration\n",
    "theta1=15*math.pi/180;    #angle(radian)\n",
    "theta2=16*math.pi/180;    #angle(radian)\n",
    "d=2.8;     #lattice spacing(angstrom)\n",
    "\n",
    "#Calculation\n",
    "lamda1=2*d*math.sin(theta1);     #wavelength for 1st angle(angstrom)\n",
    "lamda2=2*d*math.sin(theta2);     #wavelength for 2nd angle(angstrom)\n",
    "\n",
    "#Result\n",
    "print \"wavelength for 1st angle is\",round(lamda1,2),\"angstrom\"\n",
    "print \"wavelength for 2nd angleis\",round(lamda2,3),\"angstrom\""
   ]
  },
  {
   "cell_type": "markdown",
   "metadata": {},
   "source": [
    "##Example number 3.29, Page number 3.31"
   ]
  },
  {
   "cell_type": "code",
   "execution_count": 4,
   "metadata": {
    "collapsed": false
   },
   "outputs": [
    {
     "name": "stdout",
     "output_type": "stream",
     "text": [
      "miller indices are ( 6 2 3 )\n"
     ]
    }
   ],
   "source": [
    "#importing modules\n",
    "import math\n",
    "from __future__ import division\n",
    "\n",
    "#Variable declaration\n",
    "x=1;\n",
    "y=3;\n",
    "z=-2;\n",
    "\n",
    "#Calculation\n",
    "h=-y*z/x;\n",
    "k=-y*z/y;\n",
    "l=y*z/z;       #miller indices\n",
    "\n",
    "#Result\n",
    "print \"miller indices are (\",int(h),int(k),int(l),\")\""
   ]
  },
  {
   "cell_type": "markdown",
   "metadata": {},
   "source": [
    "##Example number 3.30, Page number 3.32"
   ]
  },
  {
   "cell_type": "code",
   "execution_count": 5,
   "metadata": {
    "collapsed": false
   },
   "outputs": [
    {
     "name": "stdout",
     "output_type": "stream",
     "text": [
      "interplanar separation is 1.26 angstrom\n"
     ]
    }
   ],
   "source": [
    "#importing modules\n",
    "import math\n",
    "from __future__ import division\n",
    "\n",
    "#Variable declaration\n",
    "h=1;\n",
    "k=1;\n",
    "l=1;     #miller indices\n",
    "a=2.5;\n",
    "b=2.5;\n",
    "c=1.8;     #parameters\n",
    "\n",
    "#Calculation\n",
    "d=1/math.sqrt((h**2/a**2)+(k**2/b**2)+(l**2/c**2));     #interplanar separation(angstrom)\n",
    "\n",
    "#Result\n",
    "print \"interplanar separation is\",round(d,2),\"angstrom\""
   ]
  },
  {
   "cell_type": "markdown",
   "metadata": {},
   "source": [
    "##Example number 3.31, Page number 3.32"
   ]
  },
  {
   "cell_type": "code",
   "execution_count": 7,
   "metadata": {
    "collapsed": false
   },
   "outputs": [
    {
     "name": "stdout",
     "output_type": "stream",
     "text": [
      "glancing angle is 16.1 degrees\n"
     ]
    }
   ],
   "source": [
    "#importing modules\n",
    "import math\n",
    "from __future__ import division\n",
    "\n",
    "#Variable declaration\n",
    "a=2.814;     #lattice parameter(m)\n",
    "h=1;\n",
    "lamda=0.78;     #wavelength(angstrom)\n",
    "k=0;\n",
    "l=0;      #miller indices\n",
    "\n",
    "#Calculation\n",
    "d=a/math.sqrt(h**2+k**2+l**2);      #interplanar distance(angstrom)\n",
    "theta=math.asin(lamda/d);     #glancing angle(radian)\n",
    "theta=theta*180/math.pi;      #glancing angle(degrees)\n",
    "\n",
    "#Result\n",
    "print \"glancing angle is\",round(theta,1),\"degrees\""
   ]
  },
  {
   "cell_type": "markdown",
   "metadata": {},
   "source": [
    "##Example number 3.32, Page number 3.32"
   ]
  },
  {
   "cell_type": "code",
   "execution_count": 2,
   "metadata": {
    "collapsed": false
   },
   "outputs": [
    {
     "name": "stdout",
     "output_type": "stream",
     "text": [
      "longest wavelength in 1st order is 5.64 angstrom\n",
      "longest wavelength in 2nd order is 2.82 angstrom\n"
     ]
    }
   ],
   "source": [
    "#importing modules\n",
    "import math\n",
    "from __future__ import division\n",
    "\n",
    "#Variable declaration\n",
    "n1=1;\n",
    "n2=2;\n",
    "d=2.82;       #seperation(angstrom)\n",
    "\n",
    "#Calculation\n",
    "lamda_max1=2*d/n1;        #longest wavelength in 1st order(angstrom)\n",
    "lamda_max2=2*d/n2;        #longest wavelength in 2nd order(angstrom)\n",
    "\n",
    "#Result\n",
    "print \"longest wavelength in 1st order is\",lamda_max1,\"angstrom\"\n",
    "print \"longest wavelength in 2nd order is\",lamda_max2,\"angstrom\""
   ]
  },
  {
   "cell_type": "markdown",
   "metadata": {},
   "source": [
    "##Example number 3.33, Page number 3.33"
   ]
  },
  {
   "cell_type": "code",
   "execution_count": 10,
   "metadata": {
    "collapsed": false
   },
   "outputs": [
    {
     "name": "stdout",
     "output_type": "stream",
     "text": [
      "wavelength is 0.842 angstrom\n",
      "glancing angle for second order is 17 degrees 22 minutes\n",
      "glancing angle for third order is 26 degrees 36.0 minutes\n"
     ]
    }
   ],
   "source": [
    "#importing modules\n",
    "import math\n",
    "from __future__ import division\n",
    "\n",
    "#Variable declaration\n",
    "theta=(8+(35/60))*math.pi/180;    #angle(radian)\n",
    "n1=1;\n",
    "n2=2;\n",
    "n3=3;\n",
    "d=2.82*10**-10;     #lattice spacing(m)\n",
    "\n",
    "#Calculation\n",
    "lamda=2*d*math.sin(theta)/n1;     #wavelength(m)\n",
    "theta2=math.asin(n2*lamda/(2*d));     #glancing angle(radian)\n",
    "theta2=theta2*180/math.pi;      #glancing angle(degrees)\n",
    "theta2_m=60*(theta2-int(theta2));\n",
    "theta3=math.asin(n3*lamda/(2*d));     #glancing angle(radian)\n",
    "theta3=theta3*180/math.pi;      #glancing angle(degrees)\n",
    "theta3_m=60*(theta3-int(theta3));\n",
    "\n",
    "#Result\n",
    "print \"wavelength is\",round(lamda*10**10,3),\"angstrom\"\n",
    "print \"glancing angle for second order is\",int(theta2),\"degrees\",int(theta2_m),\"minutes\"\n",
    "print \"glancing angle for third order is\",int(theta3),\"degrees\",round(theta3_m),\"minutes\""
   ]
  },
  {
   "cell_type": "markdown",
   "metadata": {},
   "source": [
    "##Example number 3.34, Page number 3.33"
   ]
  },
  {
   "cell_type": "code",
   "execution_count": 13,
   "metadata": {
    "collapsed": false
   },
   "outputs": [
    {
     "name": "stdout",
     "output_type": "stream",
     "text": [
      "glancing angle is 21 degrees\n"
     ]
    }
   ],
   "source": [
    "#importing modules\n",
    "import math\n",
    "from __future__ import division\n",
    "\n",
    "#Variable declaration\n",
    "lamda=0.071*10**-9;     #wavelength(angstrom)\n",
    "d100=0.28*10**-9;       #seperation(angstrom)\n",
    "n=2;\n",
    "\n",
    "#Calculation\n",
    "d110=d100/math.sqrt(2);     \n",
    "theta=math.asin(n*lamda/(2*d110))*180/math.pi;     #glancing angle(degrees)      \n",
    "\n",
    "#Result\n",
    "print \"glancing angle is\",int(theta),\"degrees\""
   ]
  },
  {
   "cell_type": "markdown",
   "metadata": {},
   "source": [
    "##Example number 3.35, Page number 3.34"
   ]
  },
  {
   "cell_type": "code",
   "execution_count": 19,
   "metadata": {
    "collapsed": false
   },
   "outputs": [
    {
     "name": "stdout",
     "output_type": "stream",
     "text": [
      "wavelength is 0.0842 nm\n",
      "maximum order of diffraction is 6\n"
     ]
    }
   ],
   "source": [
    "#importing modules\n",
    "import math\n",
    "from __future__ import division\n",
    "\n",
    "#Variable declaration\n",
    "theta=(8+(35/60))*math.pi/180;    #angle(radian)\n",
    "n=1;\n",
    "d=0.282;     #lattice spacing(nm)\n",
    "\n",
    "#Calculation\n",
    "lamda=2*d*math.sin(theta)/n;     #wavelength(nm)\n",
    "n_max=2*d/lamda;         #maximum order of diffraction\n",
    "\n",
    "#Result\n",
    "print \"wavelength is\",round(lamda,4),\"nm\"\n",
    "print \"maximum order of diffraction is\",int(n_max)"
   ]
  },
  {
   "cell_type": "markdown",
   "metadata": {},
   "source": [
    "##Example number 3.36, Page number 3.34"
   ]
  },
  {
   "cell_type": "code",
   "execution_count": 22,
   "metadata": {
    "collapsed": false
   },
   "outputs": [
    {
     "name": "stdout",
     "output_type": "stream",
     "text": [
      "interatomic spacing is 2.67 *10**-10 m\n"
     ]
    }
   ],
   "source": [
    "#importing modules\n",
    "import math\n",
    "from __future__ import division\n",
    "\n",
    "#Variable declaration\n",
    "lamda=1.5418*10**-10;     #wavelength(m)\n",
    "theta=30*math.pi/180;    #angle(radian)\n",
    "n=1;\n",
    "h=1;\n",
    "k=1;\n",
    "l=1;\n",
    "\n",
    "#Calculation\n",
    "d=n*lamda/(2*math.sin(theta));      #interplanar separation(m)\n",
    "a=d*math.sqrt(h**2+k**2+l**2);      #interatomic spacing(m)\n",
    "\n",
    "#Result\n",
    "print \"interatomic spacing is\",round(a*10**10,2),\"*10**-10 m\""
   ]
  }
 ],
 "metadata": {
  "kernelspec": {
   "display_name": "Python 2",
   "language": "python",
   "name": "python2"
  },
  "language_info": {
   "codemirror_mode": {
    "name": "ipython",
    "version": 2
   },
   "file_extension": ".py",
   "mimetype": "text/x-python",
   "name": "python",
   "nbconvert_exporter": "python",
   "pygments_lexer": "ipython2",
   "version": "2.7.9"
  }
 },
 "nbformat": 4,
 "nbformat_minor": 0
}
