{
 "cells": [
  {
   "cell_type": "markdown",
   "metadata": {},
   "source": [
    "#2: Crystal Structures"
   ]
  },
  {
   "cell_type": "markdown",
   "metadata": {},
   "source": [
    "##Example number 2.1, Page number 2.23"
   ]
  },
  {
   "cell_type": "code",
   "execution_count": 3,
   "metadata": {
    "collapsed": false
   },
   "outputs": [
    {
     "name": "stdout",
     "output_type": "stream",
     "text": [
      "lattice constant is 4.0 *10**-10 m\n"
     ]
    }
   ],
   "source": [
    "#importing modules\n",
    "import math\n",
    "from __future__ import division\n",
    "\n",
    "#Variable declaration\n",
    "M=60.2;     #molecular weight\n",
    "Na=6.023*10**26;    #avagadro number(kg/mole)\n",
    "n=4;    \n",
    "rho=6250;           #density(kg/m**3)\n",
    "\n",
    "#Calculation\n",
    "a=(n*M/(rho*Na))**(1/3);     #lattice constant(m)\n",
    "\n",
    "#Result\n",
    "print \"lattice constant is\",round(a*10**10),\"*10**-10 m\""
   ]
  },
  {
   "cell_type": "markdown",
   "metadata": {},
   "source": [
    "##Example number 2.2, Page number 2.23"
   ]
  },
  {
   "cell_type": "code",
   "execution_count": 7,
   "metadata": {
    "collapsed": false
   },
   "outputs": [
    {
     "name": "stdout",
     "output_type": "stream",
     "text": [
      "density is 8.93 gm/cm**3\n",
      "answer in the book varies due to rounding off errors\n"
     ]
    }
   ],
   "source": [
    "#importing modules\n",
    "import math\n",
    "from __future__ import division\n",
    "\n",
    "#Variable declaration\n",
    "M=63.5;     #molecular weight\n",
    "Na=6.023*10**26;    #avagadro number(kg/mole)\n",
    "n=4;    \n",
    "r=1.278*10**-8;     #atomic radius(cm)\n",
    "\n",
    "#Calculation\n",
    "a=2*math.sqrt(2)*r;   #lattice constant(m)\n",
    "rho=n*M/(a**3*Na);    #density(kg/cm**3)\n",
    "\n",
    "#Result\n",
    "print \"density is\",round(rho*10**3,2),\"gm/cm**3\"\n",
    "print \"answer in the book varies due to rounding off errors\""
   ]
  },
  {
   "cell_type": "markdown",
   "metadata": {},
   "source": [
    "##Example number 2.3, Page number 2.24"
   ]
  },
  {
   "cell_type": "code",
   "execution_count": 10,
   "metadata": {
    "collapsed": false
   },
   "outputs": [
    {
     "name": "stdout",
     "output_type": "stream",
     "text": [
      "ratio of densities is 0.92\n"
     ]
    }
   ],
   "source": [
    "#importing modules\n",
    "import math\n",
    "from __future__ import division\n",
    "\n",
    "#Variable declaration\n",
    "pf_BCC=math.pi*math.sqrt(3)/8;    #packing factor for BCC\n",
    "pf_FCC=math.pi/(3*math.sqrt(2));     #packing factor of FCC\n",
    "\n",
    "#Calculation\n",
    "r=pf_BCC/pf_FCC;     #ratio of densities\n",
    "\n",
    "#Result\n",
    "print \"ratio of densities is\",round(r,2)"
   ]
  },
  {
   "cell_type": "markdown",
   "metadata": {},
   "source": [
    "##Example number 2.4, Page number 2.24"
   ]
  },
  {
   "cell_type": "code",
   "execution_count": 14,
   "metadata": {
    "collapsed": false
   },
   "outputs": [
    {
     "name": "stdout",
     "output_type": "stream",
     "text": [
      "lattice constant is 2.8687 angstrom\n"
     ]
    }
   ],
   "source": [
    "#importing modules\n",
    "import math\n",
    "from __future__ import division\n",
    "\n",
    "#Variable declaration\n",
    "M=55.85;     #molecular weight\n",
    "Na=6.02*10**26;    #avagadro number(kg/mole)\n",
    "n=2;    \n",
    "rho=7860;           #density(kg/m**3)\n",
    "\n",
    "#Calculation\n",
    "a=(n*M/(rho*Na))**(1/3);     #lattice constant(m)\n",
    "\n",
    "#Result\n",
    "print \"lattice constant is\",round(a*10**10,4),\"angstrom\""
   ]
  },
  {
   "cell_type": "markdown",
   "metadata": {},
   "source": [
    "##Example number 2.5, Page number 2.24"
   ]
  },
  {
   "cell_type": "code",
   "execution_count": 19,
   "metadata": {
    "collapsed": false
   },
   "outputs": [
    {
     "name": "stdout",
     "output_type": "stream",
     "text": [
      "lattice constant is 5.6 angstrom\n"
     ]
    }
   ],
   "source": [
    "#importing modules\n",
    "import math\n",
    "from __future__ import division\n",
    "\n",
    "#Variable declaration\n",
    "M=58.5;     #molecular weight\n",
    "Na=6.02*10**26;    #avagadro number(kg/mole)\n",
    "n=4;    \n",
    "rho=2189;           #density(kg/m**3)\n",
    "\n",
    "#Calculation\n",
    "a=(n*M/(rho*Na))**(1/3);     #lattice constant(m)\n",
    "\n",
    "#Result\n",
    "print \"lattice constant is\",round(a*10**10,1),\"angstrom\""
   ]
  },
  {
   "cell_type": "markdown",
   "metadata": {},
   "source": [
    "##Example number 2.6, Page number 2.25"
   ]
  },
  {
   "cell_type": "code",
   "execution_count": 23,
   "metadata": {
    "collapsed": false
   },
   "outputs": [
    {
     "name": "stdout",
     "output_type": "stream",
     "text": [
      "lattice constant is 3.517 angstrom\n"
     ]
    }
   ],
   "source": [
    "#importing modules\n",
    "import math\n",
    "from __future__ import division\n",
    "\n",
    "#Variable declaration\n",
    "M=6.94;     #molecular weight\n",
    "Na=6.02*10**26;    #avagadro number(kg/mole)\n",
    "n=2;    \n",
    "rho=530;           #density(kg/m**3)\n",
    "\n",
    "#Calculation\n",
    "a=(n*M/(rho*Na))**(1/3);     #lattice constant(m)\n",
    "\n",
    "#Result\n",
    "print \"lattice constant is\",round(a*10**10,3),\"angstrom\""
   ]
  },
  {
   "cell_type": "markdown",
   "metadata": {},
   "source": [
    "##Example number 2.7, Page number 2.25"
   ]
  },
  {
   "cell_type": "code",
   "execution_count": 29,
   "metadata": {
    "collapsed": false
   },
   "outputs": [
    {
     "name": "stdout",
     "output_type": "stream",
     "text": [
      "percent volume change is 0.493 %\n",
      "answer in the book varies due to rounding off errors\n"
     ]
    }
   ],
   "source": [
    "#importing modules\n",
    "import math\n",
    "from __future__ import division\n",
    "\n",
    "#Variable declaration\n",
    "r1=1.258*10**-10;     #radius(m)\n",
    "r2=1.292*10**-10;     #radius(m)\n",
    "\n",
    "#Calculation\n",
    "a_bcc=4*r1/math.sqrt(3);\n",
    "v=a_bcc**3;\n",
    "V1=v/2;\n",
    "a_fcc=2*math.sqrt(2)*r2;\n",
    "V2=a_fcc**3/4;\n",
    "V=(V1-V2)*100/V1;           #percent volume change is\",V,\"%\"\n",
    "\n",
    "#Result\n",
    "print \"percent volume change is\",round(V,3),\"%\"\n",
    "print \"answer in the book varies due to rounding off errors\""
   ]
  },
  {
   "cell_type": "markdown",
   "metadata": {},
   "source": [
    "##Example number 2.8, Page number 2.26"
   ]
  },
  {
   "cell_type": "code",
   "execution_count": 31,
   "metadata": {
    "collapsed": false
   },
   "outputs": [
    {
     "name": "stdout",
     "output_type": "stream",
     "text": [
      "number of atoms/m**3 is 1.77 *10**29\n",
      "density of diamond is 3534.47 kg/m**3\n",
      "answer in the book is wrong\n"
     ]
    }
   ],
   "source": [
    "#importing modules\n",
    "import math\n",
    "from __future__ import division\n",
    "\n",
    "#Variable declaration\n",
    "a=0.356*10**-9;       #cube edge(m)\n",
    "w=12;    #atomic weight\n",
    "Na=6.02*10**26;    #avagadro number(kg/mole)\n",
    "\n",
    "#Calculation\n",
    "n=8/(a**3);     #number of atoms/m**3\n",
    "m=w/Na;      #mass(kg)\n",
    "rho=m*n;     #density of diamond(kg/m**3)\n",
    "\n",
    "#Result\n",
    "print \"number of atoms/m**3 is\",round(n/10**29,2),\"*10**29\"\n",
    "print \"density of diamond is\",round(rho,2),\"kg/m**3\"\n",
    "print \"answer in the book is wrong\""
   ]
  },
  {
   "cell_type": "markdown",
   "metadata": {},
   "source": [
    "##Example number 2.9, Page number 2.26"
   ]
  },
  {
   "cell_type": "code",
   "execution_count": 32,
   "metadata": {
    "collapsed": false
   },
   "outputs": [
    {
     "name": "stdout",
     "output_type": "stream",
     "text": [
      "maximum radius of sphere is 0.414 r\n"
     ]
    }
   ],
   "source": [
    "#importing modules\n",
    "import math\n",
    "from __future__ import division\n",
    "from sympy import *\n",
    "\n",
    "#Variable declaration\n",
    "r=Symbol('r')\n",
    "\n",
    "#Calculation\n",
    "a=4*r/math.sqrt(2);\n",
    "R=(4*r/(2*math.sqrt(2)))-r;       #maximum radius of sphere\n",
    "\n",
    "#Result\n",
    "print \"maximum radius of sphere is\",round(R/r,3),\"r\""
   ]
  },
  {
   "cell_type": "markdown",
   "metadata": {},
   "source": [
    "##Example number 2.10, Page number 2.26"
   ]
  },
  {
   "cell_type": "code",
   "execution_count": 35,
   "metadata": {
    "collapsed": false
   },
   "outputs": [
    {
     "name": "stdout",
     "output_type": "stream",
     "text": [
      "radius of largest sphere is 0.155 r\n"
     ]
    }
   ],
   "source": [
    "#importing modules\n",
    "import math\n",
    "from __future__ import division\n",
    "from sympy import *\n",
    "\n",
    "#Variable declaration\n",
    "r=Symbol('r')\n",
    "\n",
    "#Calculation\n",
    "a=4*r/math.sqrt(3);\n",
    "R=(a/2)-r;           #radius of largest sphere\n",
    "\n",
    "#Result\n",
    "print \"radius of largest sphere is\",round(R/r,3),\"r\""
   ]
  }
 ],
 "metadata": {
  "kernelspec": {
   "display_name": "Python 2",
   "language": "python",
   "name": "python2"
  },
  "language_info": {
   "codemirror_mode": {
    "name": "ipython",
    "version": 2
   },
   "file_extension": ".py",
   "mimetype": "text/x-python",
   "name": "python",
   "nbconvert_exporter": "python",
   "pygments_lexer": "ipython2",
   "version": "2.7.9"
  }
 },
 "nbformat": 4,
 "nbformat_minor": 0
}
