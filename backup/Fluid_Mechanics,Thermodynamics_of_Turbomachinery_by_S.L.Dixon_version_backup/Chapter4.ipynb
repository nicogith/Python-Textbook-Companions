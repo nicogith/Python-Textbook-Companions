{
 "metadata": {
  "name": "",
  "signature": "sha256:c40ddac3b7701237847f45087b69fa1d6ec2c89a5cfffd6cb1ce1ff8fa694b86"
 },
 "nbformat": 3,
 "nbformat_minor": 0,
 "worksheets": [
  {
   "cells": [
    {
     "cell_type": "heading",
     "level": 1,
     "metadata": {},
     "source": [
      "Chapter4-Axial-flow Turbines:Two-dimensional Theory"
     ]
    },
    {
     "cell_type": "heading",
     "level": 2,
     "metadata": {},
     "source": [
      "Ex1-pg101"
     ]
    },
    {
     "cell_type": "code",
     "collapsed": false,
     "input": [
      "import math\n",
      "#calculate the\n",
      "\n",
      "##given data\n",
      "phi = 0.4;\n",
      "epsilon = 28.6;##in deg\n",
      "\n",
      "##calculations\n",
      "alpha2 = (180./math.pi)*math.atan(1./phi);##in deg\n",
      "zeta = 0.04*(1+ 1.5*(alpha2/100.)**2);\n",
      "eta = 1 + (phi**2)*(zeta*((1./math.cos(math.pi*alpha2/180.))**2) +0.5);\n",
      "\n",
      "##results\n",
      "print'%s %.2f %s'%('The efficiency = ',1/eta,'');\n",
      "print('This value appears to be the same as the peak value of efficiency curve.\\n');\n",
      "\n",
      "\n"
     ],
     "language": "python",
     "metadata": {},
     "outputs": [
      {
       "output_type": "stream",
       "stream": "stdout",
       "text": [
        "The efficiency =  0.86 \n",
        "This value appears to be the same as the peak value of efficiency curve.\n",
        "\n"
       ]
      }
     ],
     "prompt_number": 1
    },
    {
     "cell_type": "heading",
     "level": 2,
     "metadata": {},
     "source": [
      "Ex2-pg105"
     ]
    },
    {
     "cell_type": "code",
     "collapsed": false,
     "input": [
      "import math\n",
      "#calculate the\n",
      "\n",
      "##given data\n",
      "alpha2 = 70.;##in deg\n",
      "p01 = 311.;##in kPa\n",
      "T01 = 850.;##in degC\n",
      "p3 = 100.;##in kPa\n",
      "eff_tot_stat = 0.87;\n",
      "U = 500.;##in m/s\n",
      "Cp = 1.148;##in kJ/(kgC)\n",
      "gamma = 1.33;\n",
      "\n",
      "##Calculations\n",
      "delW = eff_tot_stat*Cp*(T01+273.15)*(1.-(p3/p01)**((gamma-1.)/gamma));##specific work\n",
      "cy2 = delW*1000./U;##in m/s\n",
      "c2 = cy2/math.sin(math.pi*alpha2/180.);##in m/s\n",
      "T2 = (T01+273.15) - 0.5*(c2**2)/(Cp*1000.);##Nozzle exit temperature in K\n",
      "M2 = c2/math.sqrt(gamma*287.*T2);##Nozzle exit mach number\n",
      "cx = c2*math.cos(math.pi*alpha2/180.);##axial velocity in m/s\n",
      "eff_tot_tot = 1./((1./eff_tot_stat)-((cx**2)/(2.*1000.*delW)));##Total to total efficiency\n",
      "R = 1. - 0.5*(cx/U)*math.tan(math.pi*alpha2/180.);##stage reaction\n",
      "\n",
      "##results\n",
      "print'%s %.2f %s'%('(i) The specific work done =',delW,' kJ/kg.\\n');\n",
      "print'%s %.2f %s'%('(ii) The Mach number leaving the nozzle = ',M2,'');\n",
      "print'%s %.2f %s'%('(iii) The axial velocity = .\\n',cx,'m/s');\n",
      "print'%s %.2f %s'%('(iv) The total-to-total efficiency = .\\n',eff_tot_tot,'');\n",
      "print'%s %.2f %s'%('(v) The stage reaction = .\\n',R,'');\n",
      "\n",
      "\n",
      "##there are small errors in the answers given in the book\n"
     ],
     "language": "python",
     "metadata": {},
     "outputs": [
      {
       "output_type": "stream",
       "stream": "stdout",
       "text": [
        "(i) The specific work done = 275.24  kJ/kg.\n",
        "\n",
        "(ii) The Mach number leaving the nozzle =  0.96 \n",
        "(iii) The axial velocity = .\n",
        " 200.36 m/s\n",
        "(iv) The total-to-total efficiency = .\n",
        " 0.93 \n",
        "(v) The stage reaction = .\n",
        " 0.45 \n"
       ]
      }
     ],
     "prompt_number": 2
    },
    {
     "cell_type": "heading",
     "level": 2,
     "metadata": {},
     "source": [
      "Ex3-pg106"
     ]
    },
    {
     "cell_type": "code",
     "collapsed": false,
     "input": [
      "import math\n",
      "#calculate the\n",
      "\n",
      "##given data\n",
      "H_b = 5.0;##average bladeaspect ratio for the stage\n",
      "t_c = 0.2;##max. blade thickness to chord ratio\n",
      "Re = 1*10**5;##average Reynolds number\n",
      "cx = 200.;##in m/s\n",
      "cy2 = 552.;##in m/s\n",
      "U = 500.;##in m/s\n",
      "c2 = 588.;##in m/s\n",
      "delW = 276.;##in kJ\n",
      "c3 = 200.;##in m/s\n",
      "Cp = 1.148;##in kJ/(kgC)\n",
      "T2 = 973.;##in K\n",
      "T01 = 1123.;##in K\n",
      "alpha1 = 0.;##in deg\n",
      "alpha2 = 70.;##in deg\n",
      "\n",
      "##calculations\n",
      "eps = alpha1 + alpha2;##in deg\n",
      "zetaN = 0.04*(1. + 1.5*(eps/100.)**2);\n",
      "zetaN1 = (1.+zetaN)*(0.993 + 0.021/H_b) - 1;\n",
      "beta2 = (180./math.pi)*math.atan((cy2-U)/cx);\n",
      "beta3 = (180./math.pi)*math.atan(U/cx);\n",
      "epsR = beta2 + beta3;\n",
      "zetaR = 0.04*(1. + 1.5*(epsR/100.)**2);\n",
      "zetaR1 = (1.+zetaR)*(0.975 + 0.075/H_b) - 1;\n",
      "w3_U = math.sqrt(1.+(cx/U)**2);\n",
      "eff_ts = 1./(1. + (zetaR1*w3_U + zetaN1*((c2/U)**2) + (cx/U)**2)/(2.*cy2/U));\n",
      "T3 = T01 - (delW*1000. + 0.5*c3**2.)/(Cp*1000.);\n",
      "eff_ts1 = 1/(1. + (zetaR1*(w3_U)**2 + (T3/T2)*zetaN1*((c2/U)**2.) + (cx/U)**2.)/(2.*cy2/U));\n",
      "\n",
      "##Results\n",
      "print'%s %.2f %s'%('The total-to static efficiency = ',eff_ts,'');\n",
      "print('\\n The result is very close to the value assumed in first example.')\n",
      "print'%s %.2f %s'%('\\n The total-to-static efficiency after including the temperature ratio in the equation = ',eff_ts1,'');\n",
      "\n",
      "##there are small errors in the answers given in the book\n"
     ],
     "language": "python",
     "metadata": {},
     "outputs": [
      {
       "output_type": "stream",
       "stream": "stdout",
       "text": [
        "The total-to static efficiency =  0.87 \n",
        "\n",
        " The result is very close to the value assumed in first example.\n",
        "\n",
        " The total-to-static efficiency after including the temperature ratio in the equation =  0.87 \n"
       ]
      }
     ],
     "prompt_number": 3
    },
    {
     "cell_type": "heading",
     "level": 2,
     "metadata": {},
     "source": [
      "Ex4-pg119"
     ]
    },
    {
     "cell_type": "code",
     "collapsed": false,
     "input": [
      "import math\n",
      "#calculate the\n",
      "\n",
      "##given data\n",
      "T02 = 1200.;##in K\n",
      "p01 = 4.0;##in bar\n",
      "dt = 0.75;##tip diameter in m\n",
      "hb = 0.12;##blade height in m\n",
      "v = 10500.;##shaft speed in rev/min\n",
      "R = 0.5;##degree of reaction at mean radius\n",
      "phi = 0.7;##flow coefficient\n",
      "psi = 2.5;##stage loading coefficient\n",
      "eff_noz = 0.96;##Nozzle efficiency\n",
      "Cp = 1160.;##in kJ/(kgC)\n",
      "gamma = 1.33;\n",
      "Rg = 287.8;##specific gas constant\n",
      "A2 = 0.2375;##in m^2\n",
      "K = 2/3.;##stress taper factor\n",
      "rho = 8000.;##in kg/m^3\n",
      "\n",
      "##calculations\n",
      "beta3 = (180./math.pi)*math.atan((0.5*psi + R)/phi);\n",
      "beta2 = (180./math.pi)*math.atan((0.5*psi - R)/phi);\n",
      "alpha2 = beta3;\n",
      "alpha3 = beta2;\n",
      "rm = (dt-hb)/2.;\n",
      "Um = (v/30.)*math.pi*rm;\n",
      "cx = phi*Um;\n",
      "c2 = cx/(math.cos(alpha2*math.pi/180.));\n",
      "T2 = T02 - 0.5*(c2**2)/Cp;\n",
      "p2 = p01*((1-((1.-(T2/T02))/eff_noz))**(gamma/(gamma-1.)));\n",
      "mdot = ((p2*10**5)/(Rg*T2))*A2*cx;\n",
      "Ut = (v/30.)*math.pi*0.5*dt; \n",
      "sig_rho = K*0.5*(Ut**2)*(1-((dt-2.*hb)/dt)**2);\n",
      "sig1 = rho*sig_rho;\n",
      "Tb = T2 + 0.85*((cx/math.cos(beta2*math.pi/180.))**2.)/(2.*Cp);\n",
      "\n",
      "##Results\n",
      "print'%s %.2f %s %.2f %s'%('(i)The relative and absolute angles for the flow: \\n beta3 = ',beta3,' deg' and 'beta2 = ',beta2,' deg.');\n",
      "print'%s %.2f %s %.2f %s'%(' alpha2 = ',alpha2,' deg' and 'alpha3 = ',alpha3,'deg.');\n",
      "print'%s %.2f %s'%('\\n (ii) The velocity at nozzle exit = ',c2,' m/s');\n",
      "print'%s %.2f %s %.2f %s %.2f %s '%('\\n (iii)The static temperature and pressure at nozzle exit assuming a nozzle efficiency of ',eff_noz,''and ': \\n T2 = ',T2,'K'and '\\n p2 =',p2,' bar');\n",
      "print'%s %.2f %s' %('\\n and mass flow = ',mdot,'kg/s');\n",
      "print'%s %.2f %s %.2f %s '%('\\n (iv)The rotor blade root stress assuming the blade is tapered with a stress taper factor K of 2/3 and \\n the blade material density is ',rho,' kg/m2'and ' =',sig1/(10**6),' MPa');\n",
      "print'%s %.2f %s'%('\\n (v) The approximate average mean blade temperature is Tb = ',Tb,' K');\n",
      "\n",
      "\n",
      "\n",
      "#\n",
      "\n",
      "##there are very small errors in the answers given in textbook\n"
     ],
     "language": "python",
     "metadata": {},
     "outputs": [
      {
       "output_type": "stream",
       "stream": "stdout",
       "text": [
        "(i)The relative and absolute angles for the flow: \n",
        " beta3 =  68.20 beta2 =  46.97  deg.\n",
        " alpha2 =  68.20 alpha3 =  46.97 deg.\n",
        "\n",
        " (ii) The velocity at nozzle exit =  652.82  m/s\n",
        "\n",
        " (iii)The static temperature and pressure at nozzle exit assuming a nozzle efficiency of  0.96  1016.30 \n",
        " p2 = 1.99  bar \n",
        "\n",
        " and mass flow =  39.10 kg/s\n",
        "\n",
        " (iv)The rotor blade root stress assuming the blade is tapered with a stress taper factor K of 2/3 and \n",
        " the blade material density is  8000.00  = 243.74  MPa \n",
        "\n",
        " (v) The approximate average mean blade temperature is Tb =  1062.56  K\n"
       ]
      }
     ],
     "prompt_number": 4
    }
   ],
   "metadata": {}
  }
 ]
}