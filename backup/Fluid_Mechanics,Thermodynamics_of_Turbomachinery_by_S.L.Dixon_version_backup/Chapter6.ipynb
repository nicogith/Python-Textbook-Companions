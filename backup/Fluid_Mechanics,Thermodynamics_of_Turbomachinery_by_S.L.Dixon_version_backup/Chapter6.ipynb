{
 "metadata": {
  "name": "",
  "signature": "sha256:eb1ff01409a2a11efc8e58678d7352672b2c4e7f5a219c5319629cbc273b0d97"
 },
 "nbformat": 3,
 "nbformat_minor": 0,
 "worksheets": [
  {
   "cells": [
    {
     "cell_type": "heading",
     "level": 1,
     "metadata": {},
     "source": [
      "Chapter6-Three-dimensional Flows in Axial Turbomachines"
     ]
    },
    {
     "cell_type": "heading",
     "level": 2,
     "metadata": {},
     "source": [
      "Ex1-pg181"
     ]
    },
    {
     "cell_type": "code",
     "collapsed": false,
     "input": [
      "import math\n",
      "#calculate the\n",
      "\n",
      "##given data\n",
      "dt = 1.0;##tip diameter in m\n",
      "dh = 0.9;##hub diameter in m\n",
      "alpha1 = 30.;##in deg\n",
      "beta1 = 60.;##in deg\n",
      "alpha2 = 60.;##in deg\n",
      "beta2 = 30.;##in deg\n",
      "N = 6000.;##rotational speed in rev/min\n",
      "rhog = 1.5;##gas density in kg/m^3\n",
      "Rt = 0.5;##degree of reaction at the tip\n",
      "\n",
      "##Calculations\n",
      "omega = 2.*math.pi*N/60.;\n",
      "Ut = omega*0.5*dt;\n",
      "Uh = omega*0.5*dh;\n",
      "cx = Ut/(math.tan(alpha1*math.pi/180.) + math.tan(beta1*math.pi/180.));\n",
      "mdot = math.pi*((0.5*dt)**2 - (0.5*dh)**2)*rhog*cx;\n",
      "Wcdot = mdot*Ut*cx*(math.tan(alpha2*math.pi/180.)- math.tan(alpha1*math.pi/180.));\n",
      "ctheta1t = cx*math.tan(alpha1*math.pi/180.);\n",
      "ctheta1h = ctheta1t*(dt/dh);\n",
      "ctheta2t = cx*math.tan(alpha2*math.pi/180.);\n",
      "ctheta2h = ctheta2t*(dt/dh);\n",
      "alpha1_ = (180./math.pi)*math.atan(ctheta1h/cx);\n",
      "beta1_ = (180./math.pi)*math.atan((Uh/cx) - math.tan(alpha1_*math.pi/180.));\n",
      "alpha2_ = (180./math.pi)*math.atan(ctheta2h/cx);\n",
      "beta2_ = (180./math.pi)*math.atan((Uh/cx) - math.tan(alpha2_*math.pi/180.));\n",
      "k = Rt*(0.5*dt)**2;\n",
      "Rh = 1 - (k/(0.5*dh)**2);\n",
      "\n",
      "##Results\n",
      "print'%s %.2f %s'%('(i)The axial velocity, cx = ',cx,' m/s');\n",
      "print'%s %.2f %s'%('\\n (ii)The mass flow rate =',mdot,' kg/s');\n",
      "print'%s %.2f %s'%('\\n (iii)The power absorbed by the stage = ',Wcdot/10**6,' MW');\n",
      "print'%s %.2f %s %.2f %s %.2f %s %.2f %s'%('\\n (iv)The flow angles at the hub are:\\n alpha1 = ',alpha1_,' deg'and '\\n beta1 =',beta1_,'deg'and '\\n alpha2 = ',alpha2_,'deg' and'\\n beta2 = ',beta2_, 'deg.')\n",
      "print'%s %.2f %s'%('\\n (v)The reaction ratio of the stage at the hub, R =.',Rh,'');\n",
      "\n",
      "\n",
      "##there are small errors in the answers given in textbook\n"
     ],
     "language": "python",
     "metadata": {},
     "outputs": [
      {
       "output_type": "stream",
       "stream": "stdout",
       "text": [
        "(i)The axial velocity, cx =  136.03  m/s\n",
        "\n",
        " (ii)The mass flow rate = 30.45  kg/s\n",
        "\n",
        " (iii)The power absorbed by the stage =  1.50  MW\n",
        "\n",
        " (iv)The flow angles at the hub are:\n",
        " alpha1 =  32.68 \n",
        " beta1 = 55.17 \n",
        " alpha2 =  62.54 \n",
        " beta2 =  8.75 deg.\n",
        "\n",
        " (v)The reaction ratio of the stage at the hub, R =. 0.38 \n"
       ]
      }
     ],
     "prompt_number": 6
    },
    {
     "cell_type": "heading",
     "level": 2,
     "metadata": {},
     "source": [
      "Ex2-pg185"
     ]
    },
    {
     "cell_type": "code",
     "collapsed": false,
     "input": [
      "import math\n",
      "#calculate the\n",
      "\n",
      "\n",
      "%matplotlib inline\n",
      "\n",
      "import warnings\n",
      "warnings.filterwarnings('ignore')\n",
      "from math import log\n",
      "import numpy\n",
      "##given data\n",
      "\n",
      "R = 0.5;##degree of reaction\n",
      "Cp = 1005.;##kJ/(kgC)\n",
      "cx1_Ut_rt = 0.4;\n",
      "delT0 = 16.1;##temperature rise\n",
      "Ut = 300.;##in m/s\n",
      "\n",
      "##calculations\n",
      "A1 = cx1_Ut_rt**2 +(0.5-0.18*math.log(1));\n",
      "c1 = 2*(1.-R);\n",
      "c2 = Cp*delT0/(2.*Ut**2 *(1.-R));\n",
      "A2 = 0.56;\n",
      "k = numpy.linspace(0.4,1.0,num=61);\n",
      "i=len(k)\n",
      "\n",
      "cx1_Ut=numpy.zeros(i)\n",
      "cx2_Ut=numpy.zeros(i)\n",
      "R_=numpy.zeros(i)\n",
      "Rn=numpy.zeros(i)\n",
      "import numpy\n",
      "import matplotlib\n",
      "from matplotlib import pyplot\n",
      "\n",
      "for i in range(1,61):\n",
      "    cx1_Ut[i] = math.sqrt(A1 - (c1**2)*(0.5*k[i]**2 - c2*math.log(k[i])));\n",
      "    cx2_Ut[i] = math.sqrt(A2 - (c1**2)*(0.5*k[i]**2 + c2*math.log(k[i])));\n",
      "    R_[i] = 0.778+math.log(k[i]);\n",
      "    Rn[i] = 0.5;\n",
      "\n",
      "\n",
      "##Results\n",
      "pyplot.plot(k,cx1_Ut);\n",
      "pyplot.plot(k,cx2_Ut);\n",
      "pyplot.title(\"Solution of exit axial-velocity profile for a first power stage\")\n",
      " \n",
      "pyplot.plot(k,R_);\n",
      "pyplot.plot(k,Rn);\n",
      "#ylabel(\"Reaction\",\"fontsize\",3) ;##y label \n",
      "#legend([\"True Reaction\";\"Nominal Reaction\"] , opt=1); ##legend box\n",
      "\n"
     ],
     "language": "python",
     "metadata": {},
     "outputs": [
      {
       "metadata": {},
       "output_type": "pyout",
       "prompt_number": 7,
       "text": [
        "[<matplotlib.lines.Line2D at 0x5b06bb0>]"
       ]
      },
      {
       "metadata": {},
       "output_type": "display_data",
       "png": "[encoded data removed]",
       "text": [
        "<matplotlib.figure.Figure at 0x5a893d0>"
       ]
      }
     ],
     "prompt_number": 7
    }
   ],
   "metadata": {}
  }
 ]
}