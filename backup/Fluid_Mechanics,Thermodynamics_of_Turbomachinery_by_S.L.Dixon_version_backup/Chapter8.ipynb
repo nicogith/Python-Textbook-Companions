{
 "metadata": {
  "name": "",
  "signature": "sha256:c09738f4d36c8e48bfaf24c235fb17050c4cfa6be2564154b0a4e5e8521050ca"
 },
 "nbformat": 3,
 "nbformat_minor": 0,
 "worksheets": [
  {
   "cells": [
    {
     "cell_type": "heading",
     "level": 1,
     "metadata": {},
     "source": [
      "Chapter8-Radial Flow Gas Turbines"
     ]
    },
    {
     "cell_type": "heading",
     "level": 2,
     "metadata": {},
     "source": [
      "Ex1-pg251"
     ]
    },
    {
     "cell_type": "code",
     "collapsed": false,
     "input": [
      "import math\n",
      "#calculate the\n",
      "\n",
      "##given data\n",
      "D2 = 23.76;##diameter of rotor in cm\n",
      "N = 38140.;##rotational speed in rev/min\n",
      "alpha2 = 72.;##absolute flow angle in deg\n",
      "d = 0.5*D2;##rotor mean exit diameter\n",
      "\n",
      "##Calcultaions\n",
      "U2 = math.pi*N*D2/(100.*60.);\n",
      "w2 = U2/math.tan(alpha2*math.pi/180.);\n",
      "c2 = U2*math.sin(alpha2*math.pi/180.);\n",
      "w3 = 2*w2;\n",
      "U3 = 0.5*U2;\n",
      "c3 = math.sqrt(w3**2. - U3**2);\n",
      "delW = 0.5*((U2**2. - U3**2.)+(w3**2. - w2**2.)+(c2**2. - c3**2.));\n",
      "inp_U2 =  0.5*(U2**2. - U3**2.)/delW;\n",
      "inp_w2 = 0.5*(w3**2. - w2**2.)/delW;\n",
      "inp_c2 = 0.5*(c2**2. - c3**2.)/delW;\n",
      "\n",
      "##Results\n",
      "print'%s %.2f %s %.2f %s %.2f %s '%('The fractional inputs from the three terms are, for the U^2 terms,',inp_U2,''and '\\n for the w^2 terms,',inp_w2,''and ' for the c^2 terms, ',inp_c2,'')\n",
      "\n",
      "\n",
      "\n",
      "\n",
      "##there are errors in the answers given in textbook\n"
     ],
     "language": "python",
     "metadata": {},
     "outputs": [
      {
       "output_type": "stream",
       "stream": "stdout",
       "text": [
        "The fractional inputs from the three terms are, for the U^2 terms, 0.42  0.18  0.41  \n"
       ]
      }
     ],
     "prompt_number": 3
    },
    {
     "cell_type": "heading",
     "level": 2,
     "metadata": {},
     "source": [
      "Ex2-pg254"
     ]
    },
    {
     "cell_type": "code",
     "collapsed": false,
     "input": [
      "import math\n",
      "#calculate the\n",
      "\n",
      "##given data\n",
      "r = 1.5;##operating pressure ratio\n",
      "K1 = 1.44*10**-5;\n",
      "K2 = 2410.;\n",
      "K3 = 4.59*10**-6;\n",
      "T01 = 400.;##in K\n",
      "D2 = 72.5;##rotor inlet diamete in mm\n",
      "D3_av = 34.4;##rotor meaan outlet diameter in mm\n",
      "b = 20.1;##rotor outlet annulus width in mm\n",
      "zetaN = 0.065;##enthalpy loss coefficient\n",
      "alpha2 = 71.;##in deg\n",
      "beta3_av = 53.;##in deg\n",
      "Cp = 1005.;##inJ/(kg.K)\n",
      "gamma = 1.4;\n",
      "\n",
      "##Calculations\n",
      "N = K2*math.sqrt(T01);\n",
      "U2 = math.pi*N*D2/(60.*1000.)\n",
      "delW = U2**2.;\n",
      "delh = Cp*T01*(1.-(1./r)**((gamma-1.)/gamma));\n",
      "eff_ts = delW/(delh);\n",
      "delW_act = K3*K2*math.pi*T01/(30.*K1);\n",
      "eff_ov = delW_act/delh;\n",
      "zetaR = (2.*((1./eff_ts)-1.) - (zetaN/math.sin(alpha2*math.pi/180.)))*((D2/D3_av)**2.)*(math.sin(beta3_av*math.pi/180.))**2 - (math.cos(beta3_av*math.pi/180.))**2;\n",
      "r3 = 0.5*(D3_av-b)*10**-3;\n",
      "w3_w2av_min = (D3_av/D2)*math.tan(alpha2*math.pi/180.)*((2.*r3/D3_av)**2. + (1./math.tan(beta3_av*math.pi/180.))**2.)**0.5;\n",
      "w3_w2av = (D3_av/D2)*math.tan(alpha2*math.pi/180.)*(1.+((1./math.tan(beta3_av*math.pi/180.))**2))**0.5;\n",
      "\n",
      "##Results\n",
      "print'%s %.2f %s'%('The total-to-static efficiency = ',eff_ts*100,'percentage');\n",
      "print'%s %.2f %s'%('\\n The overall efficiency =',eff_ov*100,'percentage');\n",
      "print'%s %.2f %s'%('\\n The rotor enthalpy loss coefficient = ',zetaR,'');\n",
      "print'%s %.2f %s'%('\\n The rotor relative velocity ratio = ',w3_w2av,'');\n",
      "\n",
      "\n",
      "##there are small errors in the answers given in textbook\n"
     ],
     "language": "python",
     "metadata": {},
     "outputs": [
      {
       "output_type": "stream",
       "stream": "stdout",
       "text": [
        "The total-to-static efficiency =  76.13 percentage\n",
        "\n",
        " The overall efficiency = 73.17 percentage\n",
        "\n",
        " The rotor enthalpy loss coefficient =  1.22 \n",
        "\n",
        " The rotor relative velocity ratio =  1.73 \n"
       ]
      }
     ],
     "prompt_number": 5
    },
    {
     "cell_type": "heading",
     "level": 2,
     "metadata": {},
     "source": [
      "Ex3-pg262"
     ]
    },
    {
     "cell_type": "code",
     "collapsed": false,
     "input": [
      "import math\n",
      "#calculate the\n",
      "\n",
      "##given data\n",
      "Z = 12.;##number of vanes\n",
      "delW = 230.;##in kW\n",
      "T01 = 1050.;##stagnation temperature in K\n",
      "mdot = 1.;##flow rate in kg/s\n",
      "eff_ts = 0.81;##total-to-static efficiency\n",
      "Cp = 1.1502;##in kJ/(kg.K)\n",
      "gamma = 1.333;\n",
      "R = 287.;##gas constant\n",
      "\n",
      "##Calculations\n",
      "S = delW/(Cp*T01);\n",
      "alpha2 = (180./math.pi)*math.acos(math.sqrt(1./Z));\n",
      "beta2 = 2.*(90.-alpha2);\n",
      "p3_p01 = (1.-(S/eff_ts))**(gamma/(1.-gamma));\n",
      "M02 = math.sqrt((S/(gamma-1.))*((2.*math.cos(beta2*math.pi/180.))/(1.+math.cos(beta2*math.pi/180.))));\n",
      "M2 = math.sqrt((M02**2)/(1-0.5*(gamma-1.)*(M02**2)));\n",
      "U2 = math.sqrt((gamma*R*T01)*(1./math.cos(beta2*math.pi/180.))*(S/(gamma-1.)));\n",
      "\n",
      "##Results\n",
      "print'%s %.2f %s %.2f %s '%('(i) The absolut and relative flow angles:\\n alpha2 = ',alpha2,' deg'and '\\n beta2 = ',beta2,' deg');\n",
      "print'%s %.2f %s'%('\\n (ii) The overall pressure ratio =',p3_p01,'');\n",
      "print'%s %.2f %s %.2f %s '%('\\n (iii) The rotor rip speed = ',U2,' m/s'and '\\n The inlet absolute Mach number = ',M2,'');\n",
      "\n",
      "\n",
      "##there are small errors in the answers given in textbook\n"
     ],
     "language": "python",
     "metadata": {},
     "outputs": [
      {
       "output_type": "stream",
       "stream": "stdout",
       "text": [
        "(i) The absolut and relative flow angles:\n",
        " alpha2 =  73.22 \n",
        " beta2 =  33.56  deg \n",
        "\n",
        " (ii) The overall pressure ratio = 2.92 \n",
        "\n",
        " (iii) The rotor rip speed =  525.05 \n",
        " The inlet absolute Mach number =  0.75  \n"
       ]
      }
     ],
     "prompt_number": 6
    },
    {
     "cell_type": "heading",
     "level": 2,
     "metadata": {},
     "source": [
      "Ex4-pg268"
     ]
    },
    {
     "cell_type": "code",
     "collapsed": false,
     "input": [
      "import math\n",
      "#calculate the\n",
      "\n",
      "##given data\n",
      "cm3_U2 = 0.25;\n",
      "nu = 0.4;\n",
      "r3s_r2 = 0.7;\n",
      "w3av_w2 = 2.0;\n",
      "\n",
      "##Calculations\n",
      "r3av_r3s = 0.5*(1.+nu);\n",
      "r3av_r2 = r3av_r3s*r3s_r2;\n",
      "beta3_av = (180./math.pi)*math.atan(r3av_r2/cm3_U2);\n",
      "beta3s = (180./math.pi)*math.atan(r3s_r2/cm3_U2);\n",
      "w3s_w2 = 2.*math.cos(beta3_av*math.pi/180.)/math.cos(beta3s*math.pi/180.);\n",
      "\n",
      "##Results\n",
      "print'%s %.2f %s'%('The relative velocity ratio =',w3s_w2,'');\n"
     ],
     "language": "python",
     "metadata": {},
     "outputs": [
      {
       "output_type": "stream",
       "stream": "stdout",
       "text": [
        "The relative velocity ratio = 2.70 \n"
       ]
      }
     ],
     "prompt_number": 7
    },
    {
     "cell_type": "heading",
     "level": 2,
     "metadata": {},
     "source": [
      "Ex5-pg268"
     ]
    },
    {
     "cell_type": "code",
     "collapsed": false,
     "input": [
      "import math\n",
      "#calculate the\n",
      "\n",
      "##given data\n",
      "Z = 12.;##number of vanes\n",
      "delW = 230.;##in kW\n",
      "T01 = 1050.;##stagnation temperature in K\n",
      "mdot = 1.;##flow rate in kg/s\n",
      "eff_ts = 0.81;##total-to-static efficiency\n",
      "Cp = 1.1502;##in kJ/(kg.K)\n",
      "gamma = 1.333;\n",
      "R = 287.;##gas constant\n",
      "cm3_U2 = 0.25;\n",
      "nu = 0.4;\n",
      "r3s_r2 = 0.7;\n",
      "w3av_w2 = 2.0;\n",
      "p3 = 100.;##static pressure at rotor exit in kPa\n",
      "zetaN = 0.06;##nozzle enthalpy loss coefficient\n",
      "U2 = 538.1;##in m/s\n",
      "p01 = 3.109*10**5;##in Pa\n",
      "\n",
      "##Calculations\n",
      "S = delW/(Cp*T01);\n",
      "T03 = T01*(1.-S);\n",
      "T3 = T03 - (cm3_U2**2)*(U2**2)/(2.*Cp*1000.);\n",
      "r2 = math.sqrt(mdot/((p3*1000./(R*T3))*(cm3_U2)*U2*math.pi*(r3s_r2**2)*(1.-nu**2)));\n",
      "D2 = 2.*r2;\n",
      "omega = U2/r2;\n",
      "N = omega*30./math.pi;\n",
      "ctheta2 = S*Cp*1000.*T01/U2;\n",
      "alpha2 = (180/math.pi)*math.acos(math.sqrt(1./Z));\n",
      "cm2 = ctheta2/math.tan(alpha2*math.pi/180.);\n",
      "c2 = ctheta2/math.sin(alpha2*math.pi/180.);\n",
      "T2 = T01 - (c2**2)/(2.*Cp*1000.);\n",
      "p2 = p01*(1-(((c2**2)*(1.+zetaN))/(2.*Cp*1000.*T01)))**(gamma/(gamma-1.));\n",
      "b2_D2 = (0.25/math.pi)*(R*T2/p2)*(mdot/(cm2*r2**2.));\n",
      "\n",
      "##Results\n",
      "print'%s %.2f %s %.2f %s %.2f %s '%('(i) The diamaeter of the rotor = ',D2,' m'and '\\n its speed of rotation = ',omega,' rad/s'and ' (N = ',N,' rev/min)');\n",
      "print'%s %.2f %s'%('\\n(ii) The vane width to diameter ratio at rotor inlet = ',b2_D2,'');\n",
      "\n",
      "##there are some errors in the answers given in textbook\n"
     ],
     "language": "python",
     "metadata": {},
     "outputs": [
      {
       "output_type": "stream",
       "stream": "stdout",
       "text": [
        "(i) The diamaeter of the rotor =  0.24 \n",
        " its speed of rotation =  4564.96  (N =  43592.14  rev/min) \n",
        "\n",
        "(ii) The vane width to diameter ratio at rotor inlet =  0.06 \n"
       ]
      }
     ],
     "prompt_number": 8
    },
    {
     "cell_type": "heading",
     "level": 2,
     "metadata": {},
     "source": [
      "Ex6-pg271"
     ]
    },
    {
     "cell_type": "code",
     "collapsed": false,
     "input": [
      "import math\n",
      "#calculate the\n",
      "\n",
      "##given data\n",
      "Z = 12.;##number of vanes\n",
      "delW = 230.;##in kW\n",
      "T01 = 1050.;##stagnation temperature in K\n",
      "mdot = 1.;##flow rate in kg/s\n",
      "eff_ts = 0.81;##total-to-static efficiency\n",
      "Cp = 1.1502;##in kJ/(kg.K)\n",
      "gamma = 1.333;\n",
      "R = 287.;##gas constant\n",
      "cm3_U2 = 0.25;\n",
      "nu = 0.4;\n",
      "r3s_r2 = 0.7;\n",
      "w3av_w2 = 2.0;\n",
      "p3 = 100.;##static pressure at rotor exit in kPa\n",
      "zetaN = 0.06;##nozzle enthalpy loss coefficient\n",
      "U2 = 538.1;##in m/s\n",
      "p01 = 3.109*10**5;##in Pa\n",
      "\n",
      "##results of Example 8.4 and Example 8.5\n",
      "r3av_r3s = 0.5*(1+nu);\n",
      "r3av_r2 = r3av_r3s*r3s_r2;\n",
      "alpha2 = (180./math.pi)*math.acos(math.sqrt(1/Z));\n",
      "beta2 = 2.*(90.-alpha2);\n",
      "beta3_av = (180./math.pi)*math.atan(r3av_r2/cm3_U2);\n",
      "beta3s = (180./math.pi)*math.atan(r3s_r2/cm3_U2);\n",
      "w3s_w2 = 2.*math.cos(beta3_av*math.pi/180.)/math.cos(beta3s*math.pi/180.);\n",
      "S = delW/(Cp*T01);\n",
      "T03 = T01*(1-S);\n",
      "T3 = T03 - (cm3_U2**2)*(U2**2.)/(2.*Cp*1000.);\n",
      "r2 = math.sqrt(mdot/((p3*1000./(R*T3))*(cm3_U2)*U2*math.pi*(r3s_r2**2)*(1.-nu**2.)));\n",
      "D2 = 2.*r2;\n",
      "omega = U2/r2;\n",
      "N = omega*30./math.pi;\n",
      "ctheta2 = S*Cp*1000.*T01/U2;\n",
      "alpha2 = (180./math.pi)*math.acos(math.sqrt(1./Z));\n",
      "cm2 = ctheta2/math.tan(alpha2*math.pi/180.);\n",
      "c2 = ctheta2/math.sin(alpha2*math.pi/180.);\n",
      "T2 = T01 - (c2**2.)/(2.*Cp*1000.);\n",
      "p2 = p01*(1-(((c2**2)*(1.+zetaN))/(2.*Cp*1000.*T01)))**(gamma/(gamma-1));\n",
      "b2_D2 = (0.25/math.pi)*(R*T2/p2)*(mdot/(cm2*r2**2));\n",
      "\n",
      "##Calculations\n",
      "c3 = cm3_U2*U2;\n",
      "cm3 = c3;\n",
      "w3_av = 2.*cm3/(math.cos(beta2*math.pi/180.));\n",
      "w2 = w3_av/2.;\n",
      "c0 = math.sqrt(2.*delW*1000./eff_ts);\n",
      "zetaR = (c0**2. *(1.-eff_ts)- (c3**2.)- zetaN*(c2**2))/(w3_av**2); \n",
      "i = beta2;\n",
      "n = 1.75;\n",
      "eff_ts_new = 1-((c3**2)+zetaN*(c2**2)+zetaR*(w3_av**2)+(1.-(math.cos(i*math.pi/180))**n)*(w2**2))/(c0**2);\n",
      "\n",
      "##Results\n",
      "print'%s %.2f %s'%('(a)The rotor enthalpy loss coefficient = ',zetaR,'');\n",
      "print'%s %.2f %s'%('\\n(b) The total-to-static efficiency of the turbine =',eff_ts_new,'');\n",
      "\n",
      "\n",
      "##there are some errors in the answers given in textbook\n"
     ],
     "language": "python",
     "metadata": {},
     "outputs": [
      {
       "output_type": "stream",
       "stream": "stdout",
       "text": [
        "(a)The rotor enthalpy loss coefficient =  0.75 \n",
        "\n",
        "(b) The total-to-static efficiency of the turbine = 0.80 \n"
       ]
      }
     ],
     "prompt_number": 9
    }
   ],
   "metadata": {}
  }
 ]
}