{
 "metadata": {
  "name": "",
  "signature": "sha256:58be2ba5e7552ab96c774dd3b25145aaa3c2ce840367ab463ac8e75c36ccb849"
 },
 "nbformat": 3,
 "nbformat_minor": 0,
 "worksheets": [
  {
   "cells": [
    {
     "cell_type": "heading",
     "level": 1,
     "metadata": {},
     "source": [
      "Chapter5-Axial-flow Compressors and Fans"
     ]
    },
    {
     "cell_type": "heading",
     "level": 2,
     "metadata": {},
     "source": [
      "Ex1-pg156"
     ]
    },
    {
     "cell_type": "code",
     "collapsed": false,
     "input": [
      "import math\n",
      "#calculate the\n",
      "\n",
      "##given data\n",
      "T01 = 293.;##in K\n",
      "pi = 5.;##pressure ratio\n",
      "R = 0.5;##stage reaction\n",
      "Um = 275.;##in m/s\n",
      "phi = 0.5;##flow coefficient\n",
      "psi = 0.3;##stage loading factor\n",
      "eff_stage = 0.888;##stage efficiency\n",
      "Cp = 1005.;##J/(kgC)\n",
      "gamma = 1.4;\n",
      "\n",
      "##Calculations\n",
      "beta1 = (180./math.pi)*math.atan((R + 0.5*psi)/phi);\n",
      "beta2 = (180./math.pi)*math.atan((R - 0.5*psi)/phi);\n",
      "alpha2 = beta1;\n",
      "alpha1 = beta2;\n",
      "delT0 = psi*(Um**2)/Cp;\n",
      "N = (T01/delT0)*((pi**((gamma-1.)/(eff_stage*gamma))) - 1.);\n",
      "N = math.ceil(N);\n",
      "eff_ov = ((pi**((gamma-1.)/gamma)) - 1.)/((pi**((gamma-1.)/(eff_stage*gamma))) - 1.);\n",
      "print'%s %.2f %s %.2f %s'%('The flow angles are: beta1 = alpha2 = ',beta1,' deg' and 'beta2 = alpha1 = ',math.ceil(beta2),' deg.');\n",
      "print'%s %.2f %s   '%('\\n The number of stages required = ',N,'');\n",
      "print'%s %.2f %s'%('\\n The overall efficiency = ',eff_ov*100,' percentage');\n",
      "\n",
      "##there is a small error in the answer given in textbook\n"
     ],
     "language": "python",
     "metadata": {},
     "outputs": [
      {
       "output_type": "stream",
       "stream": "stdout",
       "text": [
        "The flow angles are: beta1 = alpha2 =  52.43 beta2 = alpha1 =  35.00  deg.\n",
        "\n",
        " The number of stages required =  9.00    \n",
        "\n",
        " The overall efficiency =  86.06  percentage\n"
       ]
      }
     ],
     "prompt_number": 1
    },
    {
     "cell_type": "heading",
     "level": 2,
     "metadata": {},
     "source": [
      "Ex2-pg160"
     ]
    },
    {
     "cell_type": "code",
     "collapsed": false,
     "input": [
      "import math\n",
      "#calculate the\n",
      "\n",
      "##given data\n",
      "R = 0.5;##stage reaction\n",
      "s_c = 0.9;##space-chord ratio\n",
      "beta1_ = 44.5;##in deg\n",
      "beta2_ = -0.5;##in deg\n",
      "h_c = 2.0;##height-chord ratio\n",
      "lamda = 0.86;##work done factor\n",
      "i = 0.4;##mean radius relative incidence\n",
      "rho = 3.5;##density in kg/m^3\n",
      "Um = 242.;##in m/s\n",
      "eps_max = 37.5;##in deg\n",
      "eps = 37.5;##in deg\n",
      "delp0 = 0.032;##the profile total pressure loss coefficient\n",
      "##Calculations\n",
      "theta = beta1_ - beta2_;\n",
      "deltaN = (0.229*theta*(s_c**0.5))/(1 - (theta*(s_c**0.5)/500.));\n",
      "beta2N = deltaN + beta2_;\n",
      "eps_ = 0.8*eps_max;\n",
      "i_ = beta2N + eps_ - beta1_;\n",
      "i = 0.4*eps_ + i_;\n",
      "beta1 = beta1_ + i;\n",
      "beta2 = beta1 - eps;\n",
      "alpha2 = beta1;\n",
      "alpha1 = beta2;\n",
      "phi = 1/(math.tan(alpha1*math.pi/180.) + math.tan(beta1*math.pi/180.));\n",
      "psi = lamda*phi*(math.tan(alpha2*math.pi/180.) - math.tan(alpha1*math.pi/180.));\n",
      "betam = (180./math.pi)*math.atan(0.5*(math.tan(beta1*math.pi/180.) + math.tan(beta2*math.pi/180.)));\n",
      "CL = 2*s_c*math.cos(betam*math.pi/180.)*(math.tan(beta1*math.pi/180.) - math.tan(beta2*math.pi/180.));\n",
      "CDp = s_c*(delp0)*((math.cos(betam*math.pi/180.))**3)/((math.cos(beta1*math.pi/180.))**2);\n",
      "CDa = 0.02*s_c/h_c;\n",
      "CDx = 0.018*CL**2;\n",
      "CD = CDp + CDa + CDx;\n",
      "eff_tt = 1. - (CD*phi**2)/(psi*s_c*((math.cos(betam*math.pi/180.))**3));\n",
      "delp = eff_tt*psi*rho*Um**2;\n",
      "\n",
      "##Results\n",
      "print'%s %.2f %s %.2f %s'%('(i)The nominal deflection= ',eps_,' deg'and '.\\n the nominal incidence = ',i_,' deg.');\n",
      "print'%s %.2f %s %.2f %s '%('\\n (ii)The inlet flow angle, beta1 = alpha2 = ',beta1,' deg'and '\\n outlet flow angle beta2 = alpha1 = ',beta2,' deg.');\n",
      "print'%s %.2f %s %.2f %s '%('\\n (iii)The flow coefficient = ',phi,''and '\\nThe stage loading factor = ',psi,'');\n",
      "print'%s %.2f %s'%('\\n (iv) The rotor lift coefficient = ',CL,'');\n",
      "print'%s %.2f %s '%('\\n (v) The overall drag coefficient of each row = ',CD,'');\n",
      "print'%s %.2f %s %.2f %s'%('\\n (vi) The total-to-total stage efficiency = ',eff_tt,''and '\\n The pressure rise across the stage =',delp/1000,' kPa');\n",
      "\n",
      "\n",
      "##there are small errors in the answers given in textbook\n"
     ],
     "language": "python",
     "metadata": {},
     "outputs": [
      {
       "output_type": "stream",
       "stream": "stdout",
       "text": [
        "(i)The nominal deflection=  30.00 .\n",
        " the nominal incidence =  -4.31  deg.\n",
        "\n",
        " (ii)The inlet flow angle, beta1 = alpha2 =  52.19 \n",
        " outlet flow angle beta2 = alpha1 =  14.69  deg. \n",
        "\n",
        " (iii)The flow coefficient =  0.64  0.57  \n",
        "\n",
        " (iv) The rotor lift coefficient =  1.46 \n",
        "\n",
        " (v) The overall drag coefficient of each row =  0.09  \n",
        "\n",
        " (vi) The total-to-total stage efficiency =  0.86  100.34  kPa\n"
       ]
      }
     ],
     "prompt_number": 2
    }
   ],
   "metadata": {}
  }
 ]
}