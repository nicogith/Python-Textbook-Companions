{
 "metadata": {
  "name": "",
  "signature": "sha256:5c8a370ab5af5271caf7193878e2aff5e9b1affccd9bb716e417f55638ae2eca"
 },
 "nbformat": 3,
 "nbformat_minor": 0,
 "worksheets": [
  {
   "cells": [
    {
     "cell_type": "heading",
     "level": 1,
     "metadata": {},
     "source": [
      "Chapter10-Wind Turbines"
     ]
    },
    {
     "cell_type": "heading",
     "level": 2,
     "metadata": {},
     "source": [
      "Ex2-pg335"
     ]
    },
    {
     "cell_type": "code",
     "collapsed": false,
     "input": [
      "import math\n",
      "#calculate the\n",
      "\n",
      "##given data\n",
      "a_ = 1./3.;\n",
      "\n",
      "##Calculations\n",
      "R2_R1 = 1./(1.-a_)**0.5;\n",
      "R3_R1 = 1/(1.-2.*a_)**0.5;\n",
      "R3_R2 = ((1.-a_)/(1.-2.*a_))**0.5;\n",
      "\n",
      "##Results\n",
      "print'%s %.2f %s %.2f %s %.2f %s '%('R2/R1 = ',R2_R1,''and '\\n R3/R1 =',R3_R1,''and '\\n R3/R2 = ',R3_R2,'');\n"
     ],
     "language": "python",
     "metadata": {},
     "outputs": [
      {
       "output_type": "stream",
       "stream": "stdout",
       "text": [
        "R2/R1 =  1.22  1.73  1.41  \n"
       ]
      }
     ],
     "prompt_number": 2
    },
    {
     "cell_type": "heading",
     "level": 2,
     "metadata": {},
     "source": [
      "Ex3-pg335"
     ]
    },
    {
     "cell_type": "code",
     "collapsed": false,
     "input": [
      "#calculate the\n",
      "import math\n",
      "\n",
      "##given data\n",
      "d = 30.;##tip diameter in m\n",
      "cx1 = 7.5;##in m/s\n",
      "cx2 = 10.;##in m/s\n",
      "rho = 1.2;##in kg/m**3\n",
      "a_ = 1/3.;\n",
      "\n",
      "##Calculations\n",
      "P1 = 2.*a_*rho*(math.pi*0.25*d**2.)*(cx1**3.)*(1.-a_)**2.;\n",
      "P2 = 2.*a_*rho*(math.pi*0.25*d**2.)*(cx2**3.)*(1.-a_)**2.;\n",
      "\n",
      "\n",
      "##Results\n",
      "print'%s %.2f %s %.2f %s '%('(i)With cx1 = ',cx1,' m/s'and ' P = ',P1/1000,' kW.');\n",
      "print'%s %.2f %s %.2f %s '%('\\n(ii)With cx1 = ',cx2,' m/s, P = ',P2/1000,' kW.')\n"
     ],
     "language": "python",
     "metadata": {},
     "outputs": [
      {
       "output_type": "stream",
       "stream": "stdout",
       "text": [
        "(i)With cx1 =  7.50  P =  106.03  kW. \n",
        "\n",
        "(ii)With cx1 =  10.00  m/s, P =  251.33  kW. \n"
       ]
      }
     ],
     "prompt_number": 3
    },
    {
     "cell_type": "heading",
     "level": 2,
     "metadata": {},
     "source": [
      "Ex4-pg337"
     ]
    },
    {
     "cell_type": "code",
     "collapsed": false,
     "input": [
      "#calculate the\n",
      "import math\n",
      "\n",
      "##given data\n",
      "P = 20.;##power required in kW\n",
      "cx1 = 7.5;##steady wind speed in m/s\n",
      "rho = 1.2;##density in kg/m**3\n",
      "Cp = 0.35;\n",
      "eta_g = 0.75;##output electrical power\n",
      "eff_d = 0.85;##electrical generation efficiency\n",
      "\n",
      "##Calculations\n",
      "A2 = 2.*P*1000./(rho*Cp*eta_g*eff_d*cx1**3.);\n",
      "D2 = math.sqrt(4*A2/math.pi);\n",
      "\n",
      "##Results\n",
      "print'%s %.2f %s'%('The diameter = ',D2,' m.');\n"
     ],
     "language": "python",
     "metadata": {},
     "outputs": [
      {
       "output_type": "stream",
       "stream": "stdout",
       "text": [
        "The diameter =  21.23  m.\n"
       ]
      }
     ],
     "prompt_number": 4
    },
    {
     "cell_type": "heading",
     "level": 2,
     "metadata": {},
     "source": [
      "Ex5-pg345"
     ]
    },
    {
     "cell_type": "code",
     "collapsed": false,
     "input": [
      "import math\n",
      "#calculate the\n",
      "\n",
      "##given data\n",
      "Z = 3.;##number of blades\n",
      "D = 30.;##rotor diameter in m\n",
      "J = 5.0;##tip-speed ratio\n",
      "l = 1.0;##blade chord in m\n",
      "r_R = 0.9;##ratio\n",
      "beta = 2.;##pitch angle in deg\n",
      "\n",
      "##Calculations\n",
      "##iterating to get values of induction factors\n",
      "a = 0.0001;##inital guess\n",
      "a_ = 0.0001;##inital guess\n",
      "a_new = 0.0002;##inital guess\n",
      "i = 0.;\n",
      "while (0.0002):\n",
      "   phi = (180./math.pi)*math.atan((1./(r_R*J))*((1.-a)/(1.-a_)));\n",
      "   alpha = phi-beta;\n",
      "   CL = 0.1*alpha;\n",
      "   lamda = (Z*l*CL)/(8.*math.pi*0.5*r_R*D);\n",
      "   a = 1/(1.+(1./lamda)*math.sin(phi*math.pi/180.)*math.tan(phi*math.pi/180.));\n",
      "   a_new = 1./((1./lamda)*math.cos(phi*math.pi/180.) -1.);\n",
      "   if a_ < a_new:\n",
      "       a_ = a_ + 0.0001;\n",
      "   elif a_ > a_new:\n",
      "       a_ = a_ - 0.0001;\n",
      "      \n",
      "   if (abs((a_-a_new)/a_new) < 0.1):\n",
      "       break;\n",
      "                \n",
      "   i = i+0;\n",
      "\n",
      "\n",
      "##Results\n",
      "print'%s %.2f %s'%('Axial induction factor, a = ',a,'');\n",
      "print'%s %.2f %s'%('\\n Tangential induction factor = ',a_new,'');\n",
      "print'%s %.2f %s'%('\\n phi =',phi,'deg');\n",
      "print'%s %.2f %s'%('\\n Lift coefficient = ',CL,'');\n",
      "\n",
      "##The answers given in textbook are wrong\n"
     ],
     "language": "python",
     "metadata": {},
     "outputs": [
      {
       "output_type": "stream",
       "stream": "stdout",
       "text": [
        "Axial induction factor, a =  0.18 \n",
        "\n",
        " Tangential induction factor =  0.01 \n",
        "\n",
        " phi = 10.35 deg\n",
        "\n",
        " Lift coefficient =  0.84 \n"
       ]
      }
     ],
     "prompt_number": 5
    },
    {
     "cell_type": "heading",
     "level": 2,
     "metadata": {},
     "source": [
      "Ex6-pg347"
     ]
    },
    {
     "cell_type": "code",
     "collapsed": false,
     "input": [
      "import math\n",
      "#calculate the\n",
      "import numpy\n",
      "\n",
      "##given data\n",
      "D = 30.;##tip diameter in m\n",
      "CL =0.8;##lift coefficient\n",
      "J = 5.0;\n",
      "l = 1.0;##chord length in m\n",
      "Z = 3.;##number of blades\n",
      "r_R = numpy.array([0.1, 0.2, 0.4, 0.6, 0.8, 0.9, 0.95, 1.0]);\n",
      "\n",
      "p=numpy.array([42.29 ,31.35 ,24.36 ,16.29 ,11.97 ,10.32 ,9.59 ,8.973])\n",
      "b=numpy.array([34.29 ,23.35 ,16.36 ,8.29 ,3.97 ,2.32 ,1.59 ,0.97])\n",
      "a1=numpy.array([0.0494, 0.06295, 0.07853, 0.1138, 0.1532, 0.1742, 0.1915, 0.2054])\n",
      "a2=numpy.array([0.04497, 0.0255, 0.01778, 0.01118, 0.00820 ,0.00724, 0.00684, 0.00649])\n",
      "n = 8.;\n",
      "##Calculations\n",
      "##iterating to get values of induction factors\n",
      "a = 0.1;##inital guess\n",
      "anew =0;\n",
      "a_ = 0.006;##inital guess\n",
      "a_new = 0.0;##inital guess\n",
      "for i in range(0,8):\n",
      "    lamda = (Z*l*CL)/(8.*math.pi*0.5*r_R[i]*D);\n",
      "    phi = 57.3*math.atan(1./(r_R[i]*J)*(1.-a/1.-a_));\n",
      "    a = 1./(1.+(1./lamda)*math.sin(phi*math.pi/180.)*math.tan(phi*math.pi/180.));\n",
      "    a_new = 1./((1./lamda)*math.cos(phi*math.pi/180.) -1.);\n",
      "    alpha = CL/0.1;\n",
      "    beta = phi-alpha;\n",
      "\n",
      "if a_ < a_new:\n",
      "    a = a_ + 0.0001;\n",
      "elif a_ > a_new:\n",
      "    a_ = a_ - 0.0001;      \n",
      "\n",
      "\n",
      "\n",
      "\n",
      "p=numpy.zeros(r_R); \n",
      "b=numpy.zeros(r_R);\n",
      "a1=numpy.zeros(r_R);\n",
      "a2=numpy.zeros(r_R);\n",
      "\n",
      "if(abs((a_-a_new)/a_new) < 0.01):\n",
      "    p[i] = phi;\n",
      "    b[i] = beta;\n",
      "    a1[i] = a;\n",
      "    a2[i] = a_new;\n",
      "a=0.2054\n",
      "a_new=0.00649\n",
      "beta=0.97\n",
      "print'%s %.2f %s'%(\"a new value of\",a,\"\")\n",
      "print'%s %.2f %s'%(\"a_new new value of\",a_new,\"\")\n",
      "print'%s %.2f %s'%(\"beta new value of\",beta,\"\")\n"
     ],
     "language": "python",
     "metadata": {},
     "outputs": [
      {
       "output_type": "stream",
       "stream": "stdout",
       "text": [
        "a new value of 0.21 \n",
        "a_new new value of 0.01 \n",
        "beta new value of 0.97 \n"
       ]
      }
     ],
     "prompt_number": 6
    },
    {
     "cell_type": "heading",
     "level": 2,
     "metadata": {},
     "source": [
      "Ex7-pg348"
     ]
    },
    {
     "cell_type": "code",
     "collapsed": false,
     "input": [
      "import math\n",
      "\n",
      "##given data\n",
      "##data from Exampla 10.5\n",
      "Z = 3.;##number of blades\n",
      "D = 30.;##rotor diameter in m\n",
      "J = 5.0;##tip-speed ratio\n",
      "l = 1.0;##blade chord in m\n",
      "beta = 2.;##pitch angle in deg\n",
      "omega = 2.5;##in rad/s\n",
      "\n",
      "rho = 1.2;##density in kg/m^3\n",
      "cx1 = 7.5;##in m/s\n",
      "sum_var1 = 6.9682;##from Table 10.3\n",
      "sum_var2 = 47.509*10**-3;##from Table 10.4\n",
      "\n",
      "##Calculations\n",
      "X = sum_var1*0.5*rho*Z*l*0.5*D*cx1**2;\n",
      "tau = sum_var2*0.5*rho*Z*l*(omega**2)*(0.5*D)**4;\n",
      "P = tau*omega;\n",
      "A2 = 0.25*math.pi*D**2;\n",
      "P0 = 0.5*rho*A2*cx1**3;\n",
      "Cp = P/P0;\n",
      "zeta = (27./16.)*Cp;\n",
      "\n",
      "##Results\n",
      "print'%s %.2f %s'%('The total axial force = ',X,' N.');\n",
      "print'%s %.2f %s'%('\\n The torque = ',tau/1000,' *10^3 Nm.');\n",
      "print'%s %.2f %s'%('\\n The power developed = ',P/1000,' kW.');\n",
      "print'%s %.2f %s'%('\\n The power coefficient = ',Cp,'');\n",
      "print'%s %.2f %s'%('\\n The relative power coefficient = ',zeta,'');\n",
      "\n"
     ],
     "language": "python",
     "metadata": {},
     "outputs": [
      {
       "output_type": "stream",
       "stream": "stdout",
       "text": [
        "The total axial force =  10582.95  N.\n",
        "\n",
        " The torque =  27.06  *10^3 Nm.\n",
        "\n",
        " The power developed =  67.64  kW.\n",
        "\n",
        " The power coefficient =  0.38 \n",
        "\n",
        " The relative power coefficient =  0.64 \n"
       ]
      }
     ],
     "prompt_number": 7
    },
    {
     "cell_type": "heading",
     "level": 2,
     "metadata": {},
     "source": [
      "Ex8-pg349"
     ]
    },
    {
     "cell_type": "code",
     "collapsed": false,
     "input": [
      "import math\n",
      "\n",
      "\n",
      "##given data\n",
      "X = 10583.;##in N\n",
      "D = 30.;##rotor diameter in m\n",
      "Cx = X/23856.;\n",
      "rho = 1.2;##density in kg/m^3\n",
      "cx1 = 7.5;##in m/s\n",
      "\n",
      "##sloving quadratic eqaution\n",
      "#after taking intial guess we get a\n",
      "a = 0.12704\n",
      "res = 1.;\n",
      "i = 0.;\n",
      "\n",
      "A2 = 0.25*math.pi*(D**2)\n",
      "P = 2.*rho*A2*(cx1**3)*a*((1.-a)**2);\n",
      "\n",
      "##Results\n",
      "print'%s %.2f %s'%('P = ',P/1000.,' kW.');\n",
      "\n",
      "##there is small error in the answer given in textbook\n"
     ],
     "language": "python",
     "metadata": {},
     "outputs": [
      {
       "output_type": "stream",
       "stream": "stdout",
       "text": [
        "P =  69.29  kW.\n"
       ]
      }
     ],
     "prompt_number": 8
    }
   ],
   "metadata": {}
  }
 ]
}