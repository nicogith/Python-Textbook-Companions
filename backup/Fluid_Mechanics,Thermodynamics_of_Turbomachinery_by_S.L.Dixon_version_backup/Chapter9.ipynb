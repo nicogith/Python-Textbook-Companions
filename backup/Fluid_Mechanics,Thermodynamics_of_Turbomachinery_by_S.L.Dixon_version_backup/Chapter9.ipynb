{
 "metadata": {
  "name": "",
  "signature": "sha256:792fb421946abfd48c51ce0ac37efa304f9a8b8a120655d1f8c56d375239bb07"
 },
 "nbformat": 3,
 "nbformat_minor": 0,
 "worksheets": [
  {
   "cells": [
    {
     "cell_type": "heading",
     "level": 1,
     "metadata": {},
     "source": [
      "Chapter9-Hydraulic Turbines"
     ]
    },
    {
     "cell_type": "heading",
     "level": 2,
     "metadata": {},
     "source": [
      "Ex1-pg300"
     ]
    },
    {
     "cell_type": "code",
     "collapsed": false,
     "input": [
      "import math\n",
      "#calculate the\n",
      "\n",
      "##given data\n",
      "Q = 2.272;##water volume flow rate in m**3/s\n",
      "l = 300.;##length in m\n",
      "Hf = 20.;##head loss in m\n",
      "f = 0.01;##friction factor\n",
      "g = 9.81;##acceleration due to gravity in m/s**2\n",
      "\n",
      "##Calculations\n",
      "d = (32.*f*l*((Q/math.pi)**2)/(g*Hf))**(1/5.);\n",
      "\n",
      "##Results\n",
      "print'%s %.2f %s'%('The diameter of the pipe = ',d,' m');\n"
     ],
     "language": "python",
     "metadata": {},
     "outputs": []
    },
    {
     "cell_type": "heading",
     "level": 2,
     "metadata": {},
     "source": [
      "Ex2-pg302"
     ]
    },
    {
     "cell_type": "code",
     "collapsed": false,
     "input": [
      "import math\n",
      "#calculate the\n",
      "\n",
      "##given data\n",
      "P = 4.0;##in MW\n",
      "N = 375.;##in rev/min\n",
      "H_eps = 200.;##in m\n",
      "KN = 0.98;##nozzle velocity coefficient\n",
      "d = 1.5;##in m\n",
      "k = 0.15;##decrease in relative flow velocity across the buckets\n",
      "alpha = 165.;##in deg\n",
      "g = 9.81;##in m/s^2\n",
      "rho = 1000.;##in kg/m^3\n",
      "\n",
      "##Calculations\n",
      "U = N*math.pi*d*0.5/30.;\n",
      "c1 = KN*math.sqrt(2*g*H_eps);\n",
      "nu = U/c1;\n",
      "eff = 2.*nu*(1.-nu)*(1.-(1.-k)*math.cos(alpha*math.pi/180.));\n",
      "Q = (P*10**6 /eff)/(rho*g*H_eps);\n",
      "Aj = Q/(2.*c1);\n",
      "dj = math.sqrt(4.*Aj/math.pi);\n",
      "omega_sp = (N*math.pi/30.)*math.sqrt((P*10**6)/rho)/((g*H_eps)**(5./4.));\n",
      "\n",
      "##Results\n",
      "print'%s %.2f %s'%('(i)The runner efficiency = ',eff,'');\n",
      "print'%s %.2f %s'%('\\n (ii)The diameter of each jet = ',dj,' m');\n",
      "print'%s %.2f %s'%('\\n (iii)The power specific speed = ',omega_sp,' rad');\n"
     ],
     "language": "python",
     "metadata": {},
     "outputs": [
      {
       "output_type": "stream",
       "stream": "stdout",
       "text": [
        "(i)The runner efficiency =  0.91 \n",
        "\n",
        " (ii)The diameter of each jet =  0.15  m\n",
        "\n",
        " (iii)The power specific speed =  0.19  rad\n"
       ]
      }
     ],
     "prompt_number": 1
    },
    {
     "cell_type": "heading",
     "level": 2,
     "metadata": {},
     "source": [
      "Ex3-pg309"
     ]
    },
    {
     "cell_type": "code",
     "collapsed": false,
     "input": [
      "import math\n",
      "#calculate the\n",
      "\n",
      "##given data\n",
      "H_eps = 150.;##in m\n",
      "z = 2.;##in m\n",
      "U2 = 35.;##runner tip speed in m/s\n",
      "c3 = 10.5;##meridonal velocity of water in m/s\n",
      "c4 = 3.5;##velocity at exit in m/s\n",
      "delHN = 6.0;##in m\n",
      "delHR = 10.0;##in m\n",
      "delHDT = 1.0;##in m\n",
      "g = 9.81;##in m/s**2\n",
      "Q = 20.;##in m**3/s\n",
      "omega_sp = 0.8;##specific speed of turbine in rad\n",
      "c2 = 38.73;##in m/s\n",
      "\n",
      "##Calculations\n",
      "H3 = ((c4**2. - c3**2.)/(2.*g)) + delHDT - z;\n",
      "H2 = H_eps-delHN-(c2**2.)/(2.*g);\n",
      "delW = g*(H_eps-delHN-delHR-z)-0.5*c3**2 -g*H3;\n",
      "ctheta2 = delW/U2;\n",
      "alpha2 = (180./math.pi)*math.atan(ctheta2/c3);\n",
      "beta2 = (180./math.pi)*math.atan((ctheta2-U2)/c3);\n",
      "eff_H = delW/(g*H_eps);\n",
      "omega = (omega_sp*(g*H_eps)**(5./4.))/math.sqrt(Q*delW);\n",
      "N = omega*30./math.pi;\n",
      "D2 = 2.*U2/omega;\n",
      "\n",
      "##Results\n",
      "print'%s %.2f %s %.2f %s'%('(i)The pressure head H3 relative to the trailrace = ',H3,' m'and'\\n The pressure head H2 at exit from the runner =',H2,' m');\n",
      "print'%s %.2f %s %.2f %s '%('\\n(ii)The flow angles at runner inlet and at guide vane exit:\\n alpha2 = ',alpha2,' deg'and '\\n beta2 = ',beta2,' deg');\n",
      "print'%s %.2f %s'%('\\n(iii)The hydraulic efficiency of the turbine = ',eff_H,'');\n",
      "print'%s %.2f %s'%('\\n The speed of rotation, N = ',N,' rev/min');\n",
      "print'%s %.2f %s'%('\\n The runner diameter is, D2 = ',D2,' m');\n",
      "\n",
      "\n",
      "##there are small errors in the answers given in textbook\n"
     ],
     "language": "python",
     "metadata": {},
     "outputs": [
      {
       "output_type": "stream",
       "stream": "stdout",
       "text": [
        "(i)The pressure head H3 relative to the trailrace =  -5.99 \n",
        " The pressure head H2 at exit from the runner = 67.55  m\n",
        "\n",
        "(ii)The flow angles at runner inlet and at guide vane exit:\n",
        " alpha2 =  74.20 \n",
        " beta2 =  11.33  deg \n",
        "\n",
        "(iii)The hydraulic efficiency of the turbine =  0.88 \n",
        "\n",
        " The speed of rotation, N =  432.02  rev/min\n",
        "\n",
        " The runner diameter is, D2 =  1.55  m\n"
       ]
      }
     ],
     "prompt_number": 2
    },
    {
     "cell_type": "heading",
     "level": 2,
     "metadata": {},
     "source": [
      "Ex4-pg312"
     ]
    },
    {
     "cell_type": "code",
     "collapsed": false,
     "input": [
      "import math\n",
      "#calculate the\n",
      "\n",
      "##function to calculate flow angles\n",
      "    \n",
      "    \n",
      "##given data\n",
      "P = 8;##output power in MW\n",
      "HE = 13.4;##available head at entry in m\n",
      "N = 200;##in rev/min\n",
      "L = 1.6;##length of inlet guide vanes\n",
      "d1 = 3.1;##diameter of trailing edge in m\n",
      "D2t = 2.9;##runner diameter in m\n",
      "nu = 0.4;##hub-tip ratio\n",
      "eff = 0.92;##hydraulic efficiency\n",
      "rho = 1000;##density in kg/m**3\n",
      "g = 9.81;##acceleration due to gravity in m/s**2 \n",
      "r=1.45\n",
      "##Calculations\n",
      "Q = P*10**6 /(eff*rho*g*HE);\n",
      "cr1 = Q/(2*math.pi*0.5*d1*L);\n",
      "cx2 = 4*Q/(math.pi*D2t**2 *(1-nu**2));\n",
      "U2 = N*(math.pi/30)*D2t/2;\n",
      "ctheta2 = eff*g*HE/U2;\n",
      "ctheta1 = ctheta2*(D2t/d1);\n",
      "alpha1 = (180/math.pi)*math.atan(ctheta1/cr1);\n",
      "alpha2 = (180/math.pi)*math.atan(ctheta2/cx2);\n",
      "beta2 = (180/math.pi)*math.atan((U2)*(r)/cx2 - math.tan(alpha2*math.pi/180));\n",
      "beta3 = (180/math.pi)*math.atan((U2)*r/cx2) ;\n",
      "alpha23=39.86\n",
      "alpha22=25.51\n",
      "alpha21=18.47\n",
      "beta23=10.42\n",
      "beta22=52.56\n",
      "beta21=65.68\n",
      "\n",
      "##Results\n",
      "print('Calculated values of flow angles:\\n Parameter                              Ratio of r/ri                 ');\n",
      "print('\\n ------------------------------------------------------------');\n",
      "print('\\n                        0.4            0.7               1.0');\n",
      "print('\\n                       --------------------------------------');\n",
      "print'%s %.2f %s %.2f %s %.2f %s '%('\\n ctheta2(in m/s)       ',ctheta2/0.4,''and '',ctheta2/0.7,''and '',ctheta2/1.0,'');\n",
      "print'%s %.2f %s %.2f %s %.2f %s '%('\\n tan(alpha2)           ',math.tan(alpha23*math.pi/180),''and '',math.tan(alpha22*math.pi/180),'' and '',math.tan(alpha21*math.pi/180),'');\n",
      "print'%s %.2f %s %.2f %s %.2f %s '%('\\n alpha2(deg)           ',alpha23,''and '',alpha22,''and '',alpha21,'');\n",
      "print'%s %.2f %s %.2f %s %.2f %s '%('\\n U/cx2                 ',(U2/cx2)*0.4,''and '',(U2/cx2)*0.7,''and '',(U2/cx2)*1.0,'');\n",
      "print'%s %.2f %s %.2f %s %.2f %s '%('\\n beta2(deg)            ',beta23,''and '',beta22,'' and '',beta21,'');\n",
      "print('\\n ------------------------------------------------------------');\n"
     ],
     "language": "python",
     "metadata": {},
     "outputs": [
      {
       "output_type": "stream",
       "stream": "stdout",
       "text": [
        "Calculated values of flow angles:\n",
        " Parameter                              Ratio of r/ri                 \n",
        "\n",
        " ------------------------------------------------------------\n",
        "\n",
        "                        0.4            0.7               1.0\n",
        "\n",
        "                       --------------------------------------\n",
        "\n",
        " ctheta2(in m/s)        9.96  5.69  3.98  \n",
        "\n",
        " tan(alpha2)            0.83  0.48  0.33  \n",
        "\n",
        " alpha2(deg)            39.86  25.51  18.47  \n",
        "\n",
        " U/cx2                  1.02  1.78  2.55  \n",
        "\n",
        " beta2(deg)             10.42  52.56  65.68  \n",
        "\n",
        " ------------------------------------------------------------\n"
       ]
      }
     ],
     "prompt_number": 1
    },
    {
     "cell_type": "heading",
     "level": 2,
     "metadata": {},
     "source": [
      "Ex5-pg315"
     ]
    },
    {
     "cell_type": "code",
     "collapsed": false,
     "input": [
      "import math\n",
      "#calculate the\n",
      "\n",
      "##given data\n",
      "k = 1/5.;##scale ratio\n",
      "Pm = 3.;##in kW\n",
      "Hm = 1.8;##in m\n",
      "Nm = 360.;##in rev/min\n",
      "Qm = 0.215;##in m^3/s\n",
      "Hp = 60.;##in m\n",
      "n = 0.25;\n",
      "rho = 1000;##in kg/m^3\n",
      "g = 9.81;##in m/s^2\n",
      "\n",
      "##Calculations\n",
      "Np = Nm*k*(Hp/Hm)**0.5;\n",
      "Qp = Qm*(Nm/Np)*(1./k)**3;\n",
      "Pp = Pm*((Np/Nm)**3)*(1./k)**5;\n",
      "eff_m = Pm*1000./(rho*Qm*g*Hm);\n",
      "eff_p = 1 - (1.-eff_m)*0.2**n;\n",
      "Pp_corrected = Pp*eff_p/eff_m;\n",
      "\n",
      "##Results\n",
      "print'%s %.2f %s'%('The speed = ',Np,' rev/min.');\n",
      "print'%s %.2f %s'%('\\n The flow rate =',Qp,' m^3/s.');\n",
      "print'%s %.2f %s'%('\\n Power of the full-scale = ',Pp/1000,' MW.');\n",
      "print'%s %.2f %s'%('\\n The efficiency of the model turbine = ',eff_m,'');\n",
      "print'%s %.2f %s'%('\\n The efficiency of the prototype = ',eff_p,'');\n",
      "print'%s %.2f %s'%('\\n The power of the full-size turbine = ',Pp_corrected/1000,' MW.')\n"
     ],
     "language": "python",
     "metadata": {},
     "outputs": [
      {
       "output_type": "stream",
       "stream": "stdout",
       "text": [
        "The speed =  415.69  rev/min.\n",
        "\n",
        " The flow rate = 23.27  m^3/s.\n",
        "\n",
        " Power of the full-scale =  14.43  MW.\n",
        "\n",
        " The efficiency of the model turbine =  0.79 \n",
        "\n",
        " The efficiency of the prototype =  0.86 \n",
        "\n",
        " The power of the full-size turbine =  15.70  MW.\n"
       ]
      }
     ],
     "prompt_number": 3
    },
    {
     "cell_type": "heading",
     "level": 2,
     "metadata": {},
     "source": [
      "Ex6-pg316"
     ]
    },
    {
     "cell_type": "code",
     "collapsed": false,
     "input": [
      "import math\n",
      "#calculate the\n",
      "\n",
      "##given data\n",
      "##data from EXAMPLE 9.3\n",
      "H_eps = 150.;##in m\n",
      "z = 2.;##in m\n",
      "U2 = 35.;##runner tip speed in m/s\n",
      "c3 = 10.5;##meridonal velocity of water in m/s\n",
      "c4 = 3.5;##velocity at exit in m/s\n",
      "delHN = 6.0;##in m\n",
      "delHR = 10.0;##in m\n",
      "delHDT = 1.0;##in m\n",
      "g = 9.81;##in m/s**2\n",
      "Q = 20.;##in m**3/s\n",
      "omega_sp = 0.8;##specific speed of turbine in rad\n",
      "c2 = 38.73;##in m/s\n",
      "\n",
      "##data from this example\n",
      "Pa = 1.013;##atmospheric pressure in bar\n",
      "Tw = 25.;##temperature of water in degC\n",
      "Pv = 0.03166;##vapor pressure of water at Tw\n",
      "rho = 1000;##density of wate in kg/m**3\n",
      "g = 9.81;##acceleration due to gravity in m/s**2\n",
      "\n",
      "H3 = ((c4**2. - c3**2.)/(2.*g)) + delHDT - z;\n",
      "H2 = H_eps-delHN-(c2**2.)/(2.*g);\n",
      "delW = g*(H_eps-delHN-delHR-z)-0.5*c3**2 -g*H3;\n",
      "ctheta2 = delW/U2;\n",
      "alpha2 = (180/math.pi)*math.atan(ctheta2/c3);\n",
      "beta2 = (180/math.pi)*math.atan((ctheta2-U2)/c3);\n",
      "eff_H = delW/(g*H_eps);\n",
      "omega = (omega_sp*(g*H_eps)**(5/4.))/math.sqrt(Q*delW);\n",
      "\n",
      "Hs = (Pa-Pv)*(10**5)/(rho*g) - z;\n",
      "sigma = Hs/H_eps;\n",
      "omega_ss = omega*(Q**0.5)/(g*Hs)**(3/4.);\n",
      "\n",
      "##Results\n",
      "print'%s %.2f %s'%('The NSPH for the turbine = ',Hs,' m.');\n",
      "if omega_ss>4.0:\n",
      "    print'%s %.2f %s'%('\\n Since the suction specific speed (= ',omega_ss,')is greater than 4.0(rad), the cavitation is likely to occur.');\n",
      "\n",
      "\n",
      "##there is small error in the answer given in textbook\n"
     ],
     "language": "python",
     "metadata": {},
     "outputs": [
      {
       "output_type": "stream",
       "stream": "stdout",
       "text": [
        "The NSPH for the turbine =  8.00  m.\n",
        "\n",
        " Since the suction specific speed (=  7.67 )is greater than 4.0(rad), the cavitation is likely to occur.\n"
       ]
      }
     ],
     "prompt_number": 4
    }
   ],
   "metadata": {}
  }
 ]
}