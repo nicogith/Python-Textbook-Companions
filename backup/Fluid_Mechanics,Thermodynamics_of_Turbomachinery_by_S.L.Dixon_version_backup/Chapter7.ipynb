{
 "metadata": {
  "name": "",
  "signature": "sha256:a61692019b8140a36f6ac02790d0dad90729cb0b28691dad1652c231a1bf0a41"
 },
 "nbformat": 3,
 "nbformat_minor": 0,
 "worksheets": [
  {
   "cells": [
    {
     "cell_type": "heading",
     "level": 1,
     "metadata": {},
     "source": [
      "Chapter7-Centrifugal Pumps,Fans and Compressors\n"
     ]
    },
    {
     "cell_type": "heading",
     "level": 2,
     "metadata": {},
     "source": [
      "Ex1-pg216"
     ]
    },
    {
     "cell_type": "code",
     "collapsed": false,
     "input": [
      "import math\n",
      "#calculate the\n",
      "\n",
      "##function to calculate blade cavitation coefficient\n",
      "\n",
      "##given data\n",
      "Q = 25;##flow rate in dm^3/s\n",
      "omega = 1450;##rotational speed in rev/min\n",
      "omega_ss = 3;##max. suction specific speed in rad/sec\n",
      "r = 0.3;##inlet eye radius ratio\n",
      "g = 9.81;##in m/s^2\n",
      "\n",
      "##Calculations\n",
      "k = 1.-(r**2);\n",
      "sigmab = 0.3;##initial guess\n",
      "d = (sigmab**2)*(1. + sigmab)- (((3.42*k)**2)/(omega_ss**4));\n",
      "i = 0;\n",
      "if sigmab>0:\n",
      "\tsigmab = sigmab - 0.0001;\n",
      "elif sigmab<0:\n",
      "\tsigmab = sigmab + 0.0001;\n",
      "\n",
      "phi = (sigmab/(2.*(1.+sigmab)))**0.5;\n",
      "rs1 = ((Q*10**-3.)/(math.pi*k*(omega*math.pi/30.)*phi))**(1./3.);\n",
      "ds1 = 2.*rs1;\n",
      "cx1 = phi*(omega*math.pi/30.)*rs1;\n",
      "Hs = (0.75*sigmab*cx1**2)/(g*phi**2);\n",
      "\n",
      "##Results\n",
      "print'%s %.2f %s'%('(i)The blade cavitation coefficient = ',sigmab,'');\n",
      "print'%s %.2f %s %.2f %s '%('\\n (ii)The shroud radius at the eye = ',rs1,' m' and '\\n The required diameter of the eye = ',ds1*10**3,'mm');\n",
      "print'%s %.2f %s'%('\\n (iii)The eye axial velocity = ',cx1,' m/s');\n",
      "print'%s %.2f %s'%('\\n (iv)The NPSH = ',Hs,' m');\n",
      "\n",
      "#asnwer is wrong due to round off error"
     ],
     "language": "python",
     "metadata": {},
     "outputs": [
      {
       "output_type": "stream",
       "stream": "stdout",
       "text": [
        "(i)The blade cavitation coefficient =  0.30 \n",
        "\n",
        " (ii)The shroud radius at the eye =  0.06 \n",
        " The required diameter of the eye =  110.70 mm \n",
        "\n",
        " (iii)The eye axial velocity =  2.85  m/s\n",
        "\n",
        " (iv)The NPSH =  1.62  m\n"
       ]
      }
     ],
     "prompt_number": 2
    },
    {
     "cell_type": "heading",
     "level": 2,
     "metadata": {},
     "source": [
      "Ex2-pg220"
     ]
    },
    {
     "cell_type": "code",
     "collapsed": false,
     "input": [
      "import math\n",
      "#calculate the\n",
      "\n",
      "##given data\n",
      "alpha1 = 30.;##prewhirl in deg\n",
      "hs = 0.4;##inlet hub-shrub radius ratio\n",
      "Mmax = 0.9;##max Mach number\n",
      "Q = 1;##air mass flow in kg/s\n",
      "p01 = 101.3;##stagnation pressure in kPa\n",
      "T01 = 288.;##stagnation temperature in K\n",
      "gamma = 1.4;\n",
      "Rg = 287.;##in J/(kgK)\n",
      "\n",
      "##Calculationsasza\n",
      "beta1 = 49.4;##in deg\n",
      "f = 0.4307;\n",
      "a01 = math.sqrt(gamma*Rg*T01);\n",
      "rho01 = p01*1000./(Rg*T01);\n",
      "k = 1-(hs**2);\n",
      "omega = (math.pi*f*k*rho01*a01**3)**0.5;\n",
      "N = (omega*60./(2.*math.pi));\n",
      "rho1 = rho01/(1. + 0.2*(Mmax*math.cos(beta1*math.pi/180.))**2)**2.5;\n",
      "cx = ((omega**2.)/(math.pi*k*rho1*(math.tan(beta1*math.pi/180.) + math.tan(alpha1*math.pi/180.))**2.))**(1/3.);\n",
      "rs1 = (1./(math.pi*rho1*cx*k))**0.5;\n",
      "\n",
      "ds1 = 2.*rs1;\n",
      "U = omega*rs1;\n",
      "\n",
      "##Results\n",
      "print'%s %.2f %s %.2f %s '%('(i)The rotational speed of the impeller = ',omega,' rad/s'and 'N = ',N,' rev/min.');\n",
      "print'%s %.2f %s %.2f %s '%('\\n (ii)The inlet static density downstream of the guide vanes at the shroud = ',rho1,' kg/m^3.'and'\\n The axial velocity = ',cx,' m/s.');\n",
      "print'%s %.2f %s %.2f %s '%('\\n (iii)The inducer tip diameter = ',ds1*100,' cm'and '\\n U = ',U,' m/s.');\n",
      "\n",
      "##there are small errors in the answers given in textbook\n"
     ],
     "language": "python",
     "metadata": {},
     "outputs": [
      {
       "output_type": "stream",
       "stream": "stdout",
       "text": [
        "(i)The rotational speed of the impeller =  7404.94 N =  70711.94  rev/min. \n",
        "\n",
        " (ii)The inlet static density downstream of the guide vanes at the shroud =  1.04 \n",
        " The axial velocity =  187.38  m/s. \n",
        "\n",
        " (iii)The inducer tip diameter =  8.83 \n",
        " U =  326.81  m/s. \n"
       ]
      }
     ],
     "prompt_number": 3
    },
    {
     "cell_type": "heading",
     "level": 2,
     "metadata": {},
     "source": [
      "Ex3-pg228"
     ]
    },
    {
     "cell_type": "code",
     "collapsed": false,
     "input": [
      "import math\n",
      "#calculate the\n",
      "\n",
      "##given data\n",
      "Q = 0.1;##in m^3/s\n",
      "N = 1200.;##rotational speed in rev/min\n",
      "beta2_ = 50.;##in deg\n",
      "D = 0.4;##impeller external diameter in m\n",
      "d = 0.2;##impeller internal diameter in m\n",
      "b2 = 31.7;##axial width in mm\n",
      "eff = 0.515;##diffuser efficiency\n",
      "H = 0.1;##head losses\n",
      "De = 0.15;##diffuser exit diameter\n",
      "A = 0.77;\n",
      "B = 1.;\n",
      "g = 9.81;\n",
      "\n",
      "##Calculations\n",
      "U2 = math.pi*N*D/60.;\n",
      "cr2 = Q/(math.pi*D*b2/1000.);\n",
      "sigmaB = (A - H*math.tan(beta2_*math.pi/180.))/(B - H*math.tan(beta2_*math.pi/180.));\n",
      "ctheta2 = sigmaB*U2*(1.-H*math.tan(beta2_*math.pi/180.));\n",
      "Hi = U2*ctheta2/g;\n",
      "c2 = math.sqrt(cr2**2 + ctheta2**2);\n",
      "c3 = 4.*Q/(math.pi*De**2);\n",
      "HL = 0.1*Hi + 0.485*((c2**2)-(c3**2))/(2.*g) + (c3**2.)/(2.*g);\n",
      "H = Hi - HL;\n",
      "eff_hyd = H/Hi;\n",
      "\n",
      "##Results\n",
      "print'%s %.2f %s'%('The slip factor = ',sigmaB,'');\n",
      "print'%s %.2f %s'%('\\n The manometric head = ',H,' m.');\n",
      "print'%s %.2f %s'%('\\n The hydraulic efficiency = ',eff_hyd*100,' percentage.');\n",
      "\n",
      "##there is a very small error in the answer given in textbook\n"
     ],
     "language": "python",
     "metadata": {},
     "outputs": [
      {
       "output_type": "stream",
       "stream": "stdout",
       "text": [
        "The slip factor =  0.74 \n",
        "\n",
        " The manometric head =  30.11  m.\n",
        "\n",
        " The hydraulic efficiency =  71.84  percentage.\n"
       ]
      }
     ],
     "prompt_number": 4
    },
    {
     "cell_type": "heading",
     "level": 2,
     "metadata": {},
     "source": [
      "Ex4-pg235"
     ]
    },
    {
     "cell_type": "code",
     "collapsed": false,
     "input": [
      "import math\n",
      "#calculate the\n",
      "\n",
      "##given data\n",
      "T01 = 22.;##stagnation temperature in degC\n",
      "Z = 17.;##number of vanes\n",
      "N = 15000.;##rotational speed in rev/min\n",
      "r = 4.2;##stagnation pressure ratio between diffuser and impeller\n",
      "eff_ov = 0.83;##overall efficiency\n",
      "mdot = 2;##mass flow rate in kg/s\n",
      "eff_m = 0.97;##mechanical efficiency\n",
      "rho2 = 2.;##air density at impeller outle in kg/m^3\n",
      "gamma = 1.4;\n",
      "R = 0.287;##in kJ/(kg.K)\n",
      "b2 = 11.;##axial width at the entrance to the diffuser in mm\n",
      "\n",
      "##Calculations\n",
      "Cp = gamma*R*1000./(gamma-1.);\n",
      "sigmaS = 1 - 2./Z;\n",
      "U2 = math.sqrt(Cp*(T01+273.)*((r)**((gamma-1.)/gamma) -1.)/(sigmaS*eff_ov));\n",
      "omega = N*math.pi/30.;\n",
      "rt = U2/omega;\n",
      "Wdot_act = mdot*sigmaS*(U2**2)/(eff_m);\n",
      "cr2 = mdot/(rho2*2.*math.pi*rt*b2/1000.);\n",
      "ctheta2 = sigmaS*U2;\n",
      "c2 = math.sqrt(ctheta2**2 +cr2**2);\n",
      "delW = sigmaS*U2**2;\n",
      "T2 = T01+273.+(delW - 0.5*c2**2)/Cp;\n",
      "M2 =  c2/math.sqrt(gamma*R*1000.*T2);\n",
      "\n",
      "##Results\n",
      "print'%s %.2f %s'%('Absolute mach number, M2 = ',M2,'');\n"
     ],
     "language": "python",
     "metadata": {},
     "outputs": [
      {
       "output_type": "stream",
       "stream": "stdout",
       "text": [
        "Absolute mach number, M2 =  1.01 \n"
       ]
      }
     ],
     "prompt_number": 5
    }
   ],
   "metadata": {}
  }
 ]
}