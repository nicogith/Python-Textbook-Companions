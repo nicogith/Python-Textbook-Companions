{
 "metadata": {
  "celltoolbar": "Raw Cell Format",
  "name": "",
  "signature": "sha256:be03421cc765abd4c9572b7c61bb823243fbea415c12e649bb60ed73fc4375e6"
 },
 "nbformat": 3,
 "nbformat_minor": 0,
 "worksheets": [
  {
   "cells": [
    {
     "cell_type": "heading",
     "level": 1,
     "metadata": {},
     "source": [
      "Chapter 2: Semiconductor Physics"
     ]
    },
    {
     "cell_type": "heading",
     "level": 2,
     "metadata": {},
     "source": [
      "Example 2.21.1,Page number 2-47"
     ]
    },
    {
     "cell_type": "code",
     "collapsed": false,
     "input": [
      "import math\n",
      "\n",
      "#given data\n",
      "\n",
      "ro=1.72*10**-8                           #resistivity of Cu\n",
      "s=1/ro                                   #conductivity of Cu\n",
      "n=10.41*10**28                           #no of electron per unit volume\n",
      "e=1.6*10**-19                            #charge on electron\n",
      "\n",
      "u=s/(n*e)\n",
      "\n",
      "print\"mobility of electron in Cu =\",\"{0:.3e}\".format(u),\"m^2/volt-sec\""
     ],
     "language": "python",
     "metadata": {},
     "outputs": [
      {
       "output_type": "stream",
       "stream": "stdout",
       "text": [
        "mobility of electron in Cu = 3.491e-03 m^2/volt-sec\n"
       ]
      }
     ],
     "prompt_number": 3
    },
    {
     "cell_type": "heading",
     "level": 2,
     "metadata": {},
     "source": [
      "Example 2.21.2,Page number 2-47"
     ]
    },
    {
     "cell_type": "code",
     "collapsed": false,
     "input": [
      "import math\n",
      "\n",
      "#given data\n",
      "\n",
      "m=63.5                                  #atomic weight\n",
      "u=43.3                                  #mobility of electron\n",
      "e=1.6*10**-19                           #charge on electron\n",
      "N=6.02*10**23                           #Avogadro's number\n",
      "d=8.96                                  #density\n",
      "\n",
      "Ad=N*d/m                                #Atomic density\n",
      "\n",
      "n=1*Ad\n",
      "\n",
      "ro=1/(n*e*u)\n",
      "\n",
      "print\"Resistivity of Cu =\",\"{0:.3e}\".format(ro),\"ohm-cm\""
     ],
     "language": "python",
     "metadata": {},
     "outputs": [
      {
       "output_type": "stream",
       "stream": "stdout",
       "text": [
        "Resistivity of Cu = 1.699e-06 ohm-cm\n"
       ]
      }
     ],
     "prompt_number": 5
    },
    {
     "cell_type": "heading",
     "level": 2,
     "metadata": {},
     "source": [
      "Example 2.21.3,Page number 2-47"
     ]
    },
    {
     "cell_type": "code",
     "collapsed": false,
     "input": [
      "import math\n",
      "\n",
      "#given data\n",
      "\n",
      "e=1.6*10**-19                            #charge on electron\n",
      "ne=2.5*10**19                            #density of carriers\n",
      "nh=ne                                   #for intrinsic semiconductor\n",
      "ue=0.39                                 #mobility of electron\n",
      "uh=0.19                                 #mobility of hole\n",
      "\n",
      "s=ne*e*ue+nh*e*uh                       #conductivity of Ge\n",
      "\n",
      "ro=1.0/s                                  #resistivity of Ge\n",
      "\n",
      "print\"Resistivity of Ge =\",round(ro,4),\"ohm-m\"\n"
     ],
     "language": "python",
     "metadata": {},
     "outputs": [
      {
       "output_type": "stream",
       "stream": "stdout",
       "text": [
        "Resistivity of Ge = 0.431 ohm-m\n"
       ]
      }
     ],
     "prompt_number": 7
    },
    {
     "cell_type": "heading",
     "level": 2,
     "metadata": {},
     "source": [
      "Example 2.21.5,Page number 2-48"
     ]
    },
    {
     "cell_type": "code",
     "collapsed": false,
     "input": [
      "import math\n",
      "\n",
      "#given data\n",
      "\n",
      "Eg=1.2                                  #energy gap\n",
      "T1=600                                  #temperature\n",
      "T2=300                                  #temperature\n",
      "\n",
      "#since ue>>uh for intrinsic semiconductor\n",
      "\n",
      "#s=ni*e*ue\n",
      "\n",
      "K=8.62*10**-5                            #Boltzman constant\n",
      "\n",
      "s=1l\n",
      "\n",
      "s1=s*exp((-Eg)/(2*K*T1))\n",
      "\n",
      "s2=s*exp((-Eg)/(2*K*T2))\n",
      "\n",
      "m=(s1/s2)\n",
      "\n",
      "print'Ratio between conductivity =',\"{0:.3e}\".format(m)\n"
     ],
     "language": "python",
     "metadata": {},
     "outputs": [
      {
       "output_type": "stream",
       "stream": "stdout",
       "text": [
        "Ratio between conductivity = 1.092e+05\n"
       ]
      }
     ],
     "prompt_number": 9
    },
    {
     "cell_type": "heading",
     "level": 2,
     "metadata": {},
     "source": [
      "Example 2.21.6,Page number 2-49"
     ]
    },
    {
     "cell_type": "code",
     "collapsed": false,
     "input": [
      "import math\n",
      "\n",
      "#given data\n",
      "\n",
      "c=5*10**28                               #concentration of Si atoms\n",
      "e=1.6*10**-19                            #charge on electron\n",
      "u=0.048                                 #mobility of hole\n",
      "s=4.4*10**-4                             #conductivity of Si\n",
      "\n",
      "#since millionth Si atom is replaced by an indium atom\n",
      "\n",
      "n=c*10**-6\n",
      "\n",
      "sp=u*e*n                                #conductivity of resultant\n",
      "\n",
      "print\"conductivity =\",(sp),\"mho/m\""
     ],
     "language": "python",
     "metadata": {},
     "outputs": [
      {
       "output_type": "stream",
       "stream": "stdout",
       "text": [
        "conductivity = 384.0 mho/m\n"
       ]
      }
     ],
     "prompt_number": 10
    },
    {
     "cell_type": "heading",
     "level": 2,
     "metadata": {},
     "source": [
      "Example 2.21.7,Page number 2-49"
     ]
    },
    {
     "cell_type": "code",
     "collapsed": false,
     "input": [
      "import math\n",
      "\n",
      "#given data\n",
      "\n",
      "m=28.1                                   #atomic weight of Si\n",
      "e=1.6*10**-19                            #charge on electron\n",
      "N=6.02*10**26                            #Avogadro's number\n",
      "d=2.4*10**3                              #density of Si\n",
      "p=0.25                                   #resistivity\n",
      "\n",
      "#no. of Si atom/m**3\n",
      "\n",
      "Ad=N*d/m                                #Atomic density\n",
      "\n",
      "#impurity level is 0.01 ppm i.e. 1 atom in every 10**8 atoms of Si\n",
      "\n",
      "n=Ad/10**8                               #no of impurity atoms\n",
      "\n",
      "#since each impurity produce 1 hole\n",
      "\n",
      "nh=n\n",
      "\n",
      "print\"1) hole concentration =\",round(n,4),\"holes/m^3\"\n",
      "\n",
      "up=1/(e*p*nh)\n",
      "\n",
      "print\"2) mobility =\",round(up,4),\"m^2/volt.sec\""
     ],
     "language": "python",
     "metadata": {},
     "outputs": [
      {
       "output_type": "stream",
       "stream": "stdout",
       "text": [
        "1) hole concentration = 5.14163701068e+20 holes/m^3\n",
        "2) mobility = 0.0486 m^2/volt.sec\n"
       ]
      }
     ],
     "prompt_number": 13
    },
    {
     "cell_type": "heading",
     "level": 2,
     "metadata": {},
     "source": [
      "Example 2.22.1,Page number 2-50"
     ]
    },
    {
     "cell_type": "code",
     "collapsed": false,
     "input": [
      "import math\n",
      "\n",
      "#given data\n",
      "\n",
      "t=27                                    #temp in degree \n",
      "T=t+273                                 #temp in kelvin\n",
      "K=8.62*10**-5                           #Boltzman constant in eV\n",
      "Eg=1.12                                 #Energy band gap\n",
      "\n",
      "#For intrensic semiconductor (Ec-Ev)=Eg/2\n",
      "\n",
      "#let (Ec-Ev)=m\n",
      "\n",
      "m=Eg/2\n",
      "\n",
      "a=(m/(K*T))\n",
      "\n",
      "#probability f(Ec)=1/(1+exp((Ec-Ev)/(K*T))\n",
      "\n",
      "p=1/(1+exp(a))\n",
      "\n",
      "\n",
      "print\"probability of an electron being thermally excited to conduction band=\",\"{0:.3e}\".format(p)\n"
     ],
     "language": "python",
     "metadata": {},
     "outputs": [
      {
       "output_type": "stream",
       "stream": "stdout",
       "text": [
        "probability of an electron being thermally excited to conduction band= 3.938e-10\n"
       ]
      }
     ],
     "prompt_number": 15
    },
    {
     "cell_type": "heading",
     "level": 2,
     "metadata": {},
     "source": [
      "Example 2.22.2,Page number 2-50"
     ]
    },
    {
     "cell_type": "code",
     "collapsed": false,
     "input": [
      "import math\n",
      "\n",
      "#given data\n",
      "\n",
      "T=300                                    #temp in kelvin\n",
      "K=8.62*10**-5                            #Boltzman constant in eV\n",
      "m=0.012                                  #energy level(Ef-E)\n",
      "\n",
      "a=(m/(K*T))\n",
      "\n",
      "#probability f(Ec)=1/(1+exp((Ec-Ev)/(K*T))\n",
      "\n",
      "p=1.0/(1+exp(a))\n",
      "\n",
      "p1=1-p\n",
      "\n",
      "print\"probability of an energy level not being occupied by an electron=\",round(p1,4)\n"
     ],
     "language": "python",
     "metadata": {},
     "outputs": [
      {
       "output_type": "stream",
       "stream": "stdout",
       "text": [
        "probability of an energy level not being occupied by an electron= 0.614\n"
       ]
      }
     ],
     "prompt_number": 19
    },
    {
     "cell_type": "heading",
     "level": 2,
     "metadata": {},
     "source": [
      "Example 2.22.3,Page number 2-51"
     ]
    },
    {
     "cell_type": "code",
     "collapsed": false,
     "input": [
      "import math\n",
      "\n",
      "#given data\n",
      "\n",
      "t=20                                    #temp in degree \n",
      "T=t+273                                 #temp in kelvin\n",
      "K=8.62*10**-5                           #Boltzman constant in eV\n",
      "Eg=1.12                                 #Energy band gap\n",
      "\n",
      "#For intrensic semiconductor (Ec-Ev)=Eg/2\n",
      "\n",
      "#let (Ec-Ev)=m\n",
      "\n",
      "m=Eg/2\n",
      "\n",
      "a=(m/(K*T))\n",
      "\n",
      "#probability f(Ec)=1/(1+exp((Ec-Ev)/(K*T))\n",
      "\n",
      "p=1.0/(1+exp(a))\n",
      "\n",
      "\n",
      "print\"probability of an electron being thermally excited to conduction band=\",\"{0:.3e}\".format(p)\n"
     ],
     "language": "python",
     "metadata": {},
     "outputs": [
      {
       "output_type": "stream",
       "stream": "stdout",
       "text": [
        "probability of an electron being thermally excited to conduction band= 2.348e-10\n"
       ]
      }
     ],
     "prompt_number": 21
    },
    {
     "cell_type": "heading",
     "level": 2,
     "metadata": {},
     "source": [
      "Example 2.22.4,Page number 2-51"
     ]
    },
    {
     "cell_type": "code",
     "collapsed": false,
     "input": [
      "import math\n",
      "\n",
      "#given data\n",
      "\n",
      "T=300                                   #temp in kelvin\n",
      "K=8.62*10**-5                           #Boltzman constant in eV\n",
      "Eg=2.1                                  #Energy band gap\n",
      "\n",
      "#probability f(Ec)=1/(1+exp((Ec-Ev)/(K*T))\n",
      "\n",
      "m=K*T\n",
      "\n",
      "#for f(E)=0.99\n",
      "\n",
      "p1=0.99\n",
      "\n",
      "b=1.0-(1.0/p1)\n",
      "\n",
      "a=math.log(b)                             #a=(E-2.1)/m\n",
      "\n",
      "E=2.1+m*a\n",
      "\n",
      "print\"1) Energy for which probability  is 0.99=\",(E),\"eV\"\n",
      "\n",
      "#for f(E)=0.01\n",
      "\n",
      "p2=0.01\n",
      "\n",
      "b2=1-1.0/p2\n",
      "\n",
      "a1=math.log(b2)                            #a=(E-2.1)/m\n",
      "\n",
      "E1=2.1+m*a1\n",
      "\n",
      "print\"2)Energy for which probability  is 0.01=\",(E1),\"eV\"\n"
     ],
     "language": "python",
     "metadata": {},
     "outputs": [
      {
       "ename": "ValueError",
       "evalue": "math domain error",
       "output_type": "pyerr",
       "traceback": [
        "\u001b[1;31m---------------------------------------------------------------------------\u001b[0m\n\u001b[1;31mValueError\u001b[0m                                Traceback (most recent call last)",
        "\u001b[1;32m<ipython-input-4-0fb7e85ec399>\u001b[0m in \u001b[0;36m<module>\u001b[1;34m()\u001b[0m\n\u001b[0;32m     17\u001b[0m \u001b[0mb\u001b[0m\u001b[1;33m=\u001b[0m\u001b[1;36m1.0\u001b[0m\u001b[1;33m-\u001b[0m\u001b[1;33m(\u001b[0m\u001b[1;36m1.0\u001b[0m\u001b[1;33m/\u001b[0m\u001b[0mp1\u001b[0m\u001b[1;33m)\u001b[0m\u001b[1;33m\u001b[0m\u001b[0m\n\u001b[0;32m     18\u001b[0m \u001b[1;33m\u001b[0m\u001b[0m\n\u001b[1;32m---> 19\u001b[1;33m \u001b[0ma\u001b[0m\u001b[1;33m=\u001b[0m\u001b[0mmath\u001b[0m\u001b[1;33m.\u001b[0m\u001b[0mlog\u001b[0m\u001b[1;33m(\u001b[0m\u001b[0mb\u001b[0m\u001b[1;33m)\u001b[0m                             \u001b[1;31m#a=(E-2.1)/m\u001b[0m\u001b[1;33m\u001b[0m\u001b[0m\n\u001b[0m\u001b[0;32m     20\u001b[0m \u001b[1;33m\u001b[0m\u001b[0m\n\u001b[0;32m     21\u001b[0m \u001b[0mE\u001b[0m\u001b[1;33m=\u001b[0m\u001b[1;36m2.1\u001b[0m\u001b[1;33m+\u001b[0m\u001b[0mm\u001b[0m\u001b[1;33m*\u001b[0m\u001b[0ma\u001b[0m\u001b[1;33m\u001b[0m\u001b[0m\n",
        "\u001b[1;31mValueError\u001b[0m: math domain error"
       ]
      }
     ],
     "prompt_number": 4
    },
    {
     "cell_type": "heading",
     "level": 2,
     "metadata": {},
     "source": [
      "Example 2.23.1,Page number 2-52"
     ]
    },
    {
     "cell_type": "code",
     "collapsed": false,
     "input": [
      "import math\n",
      "\n",
      "#given data\n",
      "\n",
      "ni=2.4*10**19                            #density of intrensic semiconductor\n",
      "n=4.4*10**28                             #no atom in Ge crystal\n",
      "Nd=n/10**6                               #density\n",
      "Na=Nd\n",
      "e=1.6*10**-19                           #charge on electron\n",
      "T=300                                   #temerature at N.T.P.\n",
      "K=1.38*10**-23                          #Boltzman constant\n",
      "\n",
      "Vo=(K*T/e)*log(Na*Nd/(ni**2))\n",
      "\n",
      "print\"Potential barrier for Ge =\",round(Vo,4),\"Volts\"\n",
      "\n",
      "\n"
     ],
     "language": "python",
     "metadata": {},
     "outputs": [
      {
       "output_type": "stream",
       "stream": "stdout",
       "text": [
        "Potential barrier for Ge = 0.3888 Volts\n"
       ]
      }
     ],
     "prompt_number": 2
    },
    {
     "cell_type": "heading",
     "level": 2,
     "metadata": {},
     "source": [
      "Example 2.23.2,Page number 2-52"
     ]
    },
    {
     "cell_type": "code",
     "collapsed": false,
     "input": [
      "import math\n",
      "\n",
      "#given data\n",
      "\n",
      "B=0.6                                   #magnetic field\n",
      "d=5*10**-3                              #distancebetween surface\n",
      "J=500                                   #current density\n",
      "Nd=10**21                               #density\n",
      "e=1.6*10**-19                           #charge on electron\n",
      "\n",
      "Vh=(B*J*d)/(Nd*e)                       #due to Hall effect\n",
      "\n",
      "print\"Hall voltage =\",\"{0:.3e}\".format(Vh),\"Volts\"\n"
     ],
     "language": "python",
     "metadata": {},
     "outputs": [
      {
       "output_type": "stream",
       "stream": "stdout",
       "text": [
        "Hall voltage = 9.375e-03 Volts\n"
       ]
      }
     ],
     "prompt_number": 5
    },
    {
     "cell_type": "heading",
     "level": 2,
     "metadata": {},
     "source": [
      "Example 2.23.3,Page number 2-53"
     ]
    },
    {
     "cell_type": "code",
     "collapsed": false,
     "input": [
      "import math\n",
      "\n",
      "#given data\n",
      "\n",
      "Rh=6*10**-7                             #Hall coefficient\n",
      "B=1.5                                   #magnetic field\n",
      "I=200                                   #current in strip\n",
      "W=1*10**-3                              #thickness of strip\n",
      "\n",
      "Vh=Rh*(B*I)/W                           #due to Hall effect\n",
      "\n",
      "print\"Hall voltage =\",(Vh),\"Volt\""
     ],
     "language": "python",
     "metadata": {},
     "outputs": [
      {
       "output_type": "stream",
       "stream": "stdout",
       "text": [
        "Hall voltage = 0.18 Volt\n"
       ]
      }
     ],
     "prompt_number": 8
    },
    {
     "cell_type": "heading",
     "level": 2,
     "metadata": {},
     "source": [
      "Example 2.23.4,Page number 2-53"
     ]
    },
    {
     "cell_type": "code",
     "collapsed": false,
     "input": [
      "import math\n",
      "\n",
      "#given data\n",
      "\n",
      "Rh=2.25*10**-5                           #Hall coefficient\n",
      "u=0.025                                 #mobility of hole\n",
      "\n",
      "r=Rh/u\n",
      "\n",
      "print\"Resistivity of P type silicon =\",\"{0:.3e}\".format(r),\"ohm-m\"\n"
     ],
     "language": "python",
     "metadata": {},
     "outputs": [
      {
       "output_type": "stream",
       "stream": "stdout",
       "text": [
        "Resistivity of P type silicon = 9.000e-04 ohm-m\n"
       ]
      }
     ],
     "prompt_number": 10
    },
    {
     "cell_type": "heading",
     "level": 2,
     "metadata": {},
     "source": [
      "Example 2.23.5,Page number 2-53"
     ]
    },
    {
     "cell_type": "code",
     "collapsed": false,
     "input": [
      "import math\n",
      "\n",
      "#given data\n",
      "\n",
      "B=0.55                                  #magnetic field\n",
      "d=4.5*10**-3                            #distancebetween surface\n",
      "J=500                                   #current density\n",
      "n=10**20                                #density\n",
      "e=1.6*10**-19                           #charge on electron\n",
      "Rh=1/(n*e)                              #Hall coefficient\n",
      "\n",
      "Vh=Rh*B*J*d                             #Hall voltage\n",
      "\n",
      "print\"1) Hall voltage =\",round(Vh,4),\"Volts\"\n",
      "\n",
      "print\"2) Hall coefficient =\",(Rh),\"m^3/C\"\n",
      "\n",
      "u=0.17                                  #mobility of electrom\n",
      "\n",
      "m=math.atan(u*B)\n",
      "\n",
      "a=m*180/math.pi                         #conversion randian into degree\n",
      "\n",
      "print\"3) Hall angle =\",round(a,4),\"degree\""
     ],
     "language": "python",
     "metadata": {},
     "outputs": [
      {
       "output_type": "stream",
       "stream": "stdout",
       "text": [
        "1) Hall voltage = 0.0773 Volts\n",
        "2) Hall coefficient = 0.0625 m^3/C\n",
        "3) Hall angle = 5.3416 degree\n"
       ]
      }
     ],
     "prompt_number": 14
    },
    {
     "cell_type": "heading",
     "level": 2,
     "metadata": {},
     "source": [
      "Example 2.23.6,Page number 2-54"
     ]
    },
    {
     "cell_type": "code",
     "collapsed": false,
     "input": [
      "import math\n",
      "\n",
      "#given data\n",
      "\n",
      "Rh=3.66*10**-4                           #Hall coefficient\n",
      "r=8.93*10**-3                            #resistivity \n",
      "e=1.6*10**-19                            #charge on electron\n",
      "\n",
      "#Hall coefficient Rh=1/(n*e)\n",
      "\n",
      "n=1/(Rh*e)                              #density\n",
      "\n",
      "print\"1) density(n) =\",round(n,4),\"/m^3\"\n",
      "\n",
      "u=Rh/r                                  #mobility of electron\n",
      "\n",
      "print\"2) mobility (u) =\",round(u,4),\"m^2/v-s\"\n"
     ],
     "language": "python",
     "metadata": {},
     "outputs": [
      {
       "output_type": "stream",
       "stream": "stdout",
       "text": [
        "1) density(n) = 1.70765027322e+22 /m^3\n",
        "2) mobility (u) = 0.041 m^2/v-s\n"
       ]
      }
     ],
     "prompt_number": 16
    },
    {
     "cell_type": "heading",
     "level": 2,
     "metadata": {},
     "source": [
      "Example 2.23.7,Page number 2-55"
     ]
    },
    {
     "cell_type": "code",
     "collapsed": false,
     "input": [
      "import math\n",
      "\n",
      "#given data\n",
      "\n",
      "B=0.2                                   #magnetic field\n",
      "e=1.6*10**-19                           #charge on electron\n",
      "ue=0.39                                 #mobility of electron\n",
      "l=0.01                                  #length\n",
      "A=0.001*0.001                           #cross section area of bar\n",
      "V=1*10**-3                              #Applied voltage\n",
      "d=0.001                                 #sample of width \n",
      "\n",
      "r=1/(ue*e)                              #resistivity\n",
      "R=r*l/A                                 #resistance of Ge bar\n",
      "\n",
      "#using ohm's law\n",
      "\n",
      "I=V/R\n",
      "Rh=r*ue                                 #hall coefficient\n",
      "\n",
      "#using formulae for hall effect\n",
      "\n",
      "J=I/A                                   #current density\n",
      "Vh=Rh*B*J*d\n",
      "\n",
      "print\"Hall voltage =\",(Vh)\n"
     ],
     "language": "python",
     "metadata": {},
     "outputs": [
      {
       "output_type": "stream",
       "stream": "stdout",
       "text": [
        "Hall voltage = 7.8e-06\n"
       ]
      }
     ],
     "prompt_number": 17
    },
    {
     "cell_type": "heading",
     "level": 2,
     "metadata": {},
     "source": [
      "Example 2.24.1,Page number 2-55"
     ]
    },
    {
     "cell_type": "code",
     "collapsed": false,
     "input": [
      "import math\n",
      "\n",
      "#given data\n",
      "\n",
      "x1=0.4                                  #difference between fermi level and conduction band(Ec-Ef)\n",
      "T=300                                   #temp in kelvin\n",
      "K=8.62*10**-5                           #Boltzman constant in eV\n",
      "\n",
      "#ne=N*e**(-(Ec-Ef)/(K*T))\n",
      "#ne is no of electron in conduction band\n",
      "#since concentration of donor electron is doubled\n",
      "\n",
      "a=2                                     #ratio of no of electron\n",
      "\n",
      "#let x2 be the difference between new fermi level and conduction band(Ec-Ef')\n",
      "\n",
      "x2=-math.log(a)*(K*T)+x1                     #arranging equation ne=N*e**(-(Ec-Ef)/(K*T))\n",
      "\n",
      "print\"Fermi level will be shifted towards conduction band by\",round(x2,4),\"eV\"\n"
     ],
     "language": "python",
     "metadata": {},
     "outputs": [
      {
       "output_type": "stream",
       "stream": "stdout",
       "text": [
        "Fermi level will be shifted towards conduction band by 0.3821 eV\n"
       ]
      }
     ],
     "prompt_number": 19
    },
    {
     "cell_type": "code",
     "collapsed": false,
     "input": [],
     "language": "python",
     "metadata": {},
     "outputs": []
    }
   ],
   "metadata": {}
  }
 ]
}