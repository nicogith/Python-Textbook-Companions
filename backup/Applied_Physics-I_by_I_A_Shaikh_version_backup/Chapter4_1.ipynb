{
 "metadata": {
  "celltoolbar": "Raw Cell Format",
  "name": "",
  "signature": "sha256:c8b4bc6a0f384361dda4e7989c0d96facf075884a24ed18090bbb83730c8fbed"
 },
 "nbformat": 3,
 "nbformat_minor": 0,
 "worksheets": [
  {
   "cells": [
    {
     "cell_type": "heading",
     "level": 1,
     "metadata": {},
     "source": [
      "Chapter 4: Acoustics and Ultrasonics"
     ]
    },
    {
     "cell_type": "heading",
     "level": 2,
     "metadata": {},
     "source": [
      "Example 4.11.1,Page number 4-17"
     ]
    },
    {
     "cell_type": "code",
     "collapsed": false,
     "input": [
      "import math\n",
      "\n",
      "#Given data\n",
      "d=8900.0                                  #density\n",
      "Y=20.8*10**10                           #Young's modulus\n",
      "n=40*10**3                              #frequency of wave\n",
      "k=1.0                                   #consider 1st harmonic\n",
      "\n",
      "l=(k/(2*n))*math.sqrt(Y/d)              #arranging formula of natural frequency\n",
      "\n",
      "print\"length =\",round(l,4),\"meter\""
     ],
     "language": "python",
     "metadata": {},
     "outputs": [
      {
       "output_type": "stream",
       "stream": "stdout",
       "text": [
        "length = 0.0604 meter\n"
       ]
      }
     ],
     "prompt_number": 5
    },
    {
     "cell_type": "heading",
     "level": 2,
     "metadata": {},
     "source": [
      "Example 4.12.1,Page number 4-20"
     ]
    },
    {
     "cell_type": "code",
     "collapsed": false,
     "input": [
      "import math\n",
      "\n",
      "#Given data\n",
      "\n",
      "d=2.65*10**3                            #density\n",
      "Y=8*10**10                               #Young's modulus\n",
      "n=1*10**6                                #frequency of wave\n",
      "k=1.0                                   #consider 1st harmonic\n",
      "\n",
      "t=(k/(2*n))*sqrt(Y/d)                   #arranging formula of natural frequency\n",
      "\n",
      "print\"thickness =\",round(t,4),\"meter\"\n"
     ],
     "language": "python",
     "metadata": {},
     "outputs": [
      {
       "output_type": "stream",
       "stream": "stdout",
       "text": [
        "thickness = 0.0027 meter\n"
       ]
      }
     ],
     "prompt_number": 6
    },
    {
     "cell_type": "heading",
     "level": 2,
     "metadata": {},
     "source": [
      "Example 4.15.1,Page number 4-25"
     ]
    },
    {
     "cell_type": "code",
     "collapsed": false,
     "input": [
      "import math\n",
      "\n",
      "#Given Data\n",
      "l=20                                    #length of room\n",
      "b=15                                    #bredth of room\n",
      "h=10                                    #height of room\n",
      "V=l*b*h                                 #volume of room\n",
      "a=0.106                                 #absorption coefficient\n",
      "\n",
      "S=2*(l*b+b*h+h*l)                       #surface area of hall\n",
      "\n",
      "T=(0.161*V)/(a*S)                       #Reverberation time,using Sabine's formula\n",
      "\n",
      "print\"Reverberation time =\",round(T,4),\"sec\"\n",
      "\n"
     ],
     "language": "python",
     "metadata": {},
     "outputs": [
      {
       "output_type": "stream",
       "stream": "stdout",
       "text": [
        "Reverberation time = 3.5051 sec\n"
       ]
      }
     ],
     "prompt_number": 20
    },
    {
     "cell_type": "heading",
     "level": 2,
     "metadata": {},
     "source": [
      "Example 4.15.2,Page number 4-26"
     ]
    },
    {
     "cell_type": "code",
     "collapsed": false,
     "input": [
      "import math\n",
      "\n",
      "#given data\n",
      "\n",
      "m=1j                                  #original sound intensity\n",
      "n=1000*1j                              #increased intensity value\n",
      "\n",
      "l=10*log10(n/m)                         #change in intensity level\n",
      "\n",
      "print\"change in intensity level =\",l,\"dB\"\n"
     ],
     "language": "python",
     "metadata": {},
     "outputs": [
      {
       "output_type": "stream",
       "stream": "stdout",
       "text": [
        "change in intensity level = (30+0j) dB\n"
       ]
      }
     ],
     "prompt_number": 16
    },
    {
     "cell_type": "heading",
     "level": 2,
     "metadata": {},
     "source": [
      "Example 4.15.3,Page number 4-26"
     ]
    },
    {
     "cell_type": "code",
     "collapsed": false,
     "input": [
      "import math\n",
      "\n",
      "#given data\n",
      "\n",
      "S1=220                                  #wall area\n",
      "a1=0.03                                 #absorption coefficient for the wall\n",
      "S2=120                                  #floor area\n",
      "a2=0.8                                  #absorption coefficient for the floor\n",
      "S3=120                                  #ceiling area\n",
      "a3=0.06                                 #absorption coefficient for the ceiling\n",
      "V=600                                   #volume of room\n",
      "\n",
      "S=S1+S2+S3                              #total surface area\n",
      "\n",
      "a=(a1*S1+a2*S2+a3*S3)/S                 #average sound absorption coefficient\n",
      "\n",
      "print\"1) average sound absorption coefficient =\",round(a,4)\n",
      "\n",
      "T=(0.161*V)/(a*S)                       #Reverberation time,using Sabine's formula\n",
      "\n",
      "print\"2) Reverberation time =\",round(T,4),\"sec\"\n"
     ],
     "language": "python",
     "metadata": {},
     "outputs": [
      {
       "output_type": "stream",
       "stream": "stdout",
       "text": [
        "1) average sound absorption coefficient = 0.2387\n",
        "2) Reverberation time = 0.8798 sec\n"
       ]
      }
     ],
     "prompt_number": 21
    },
    {
     "cell_type": "heading",
     "level": 2,
     "metadata": {},
     "source": [
      "Example 4.15.4,Page number 4-27"
     ]
    },
    {
     "cell_type": "code",
     "collapsed": false,
     "input": [
      "import math\n",
      "\n",
      "#Given data\n",
      "\n",
      "V=5500                                  #volume\n",
      "T=2.3                                   #Reverberation time\n",
      "S=750                                   #sound absorption coefficient\n",
      "a=(0.161*V)/(S*T)                       #using Sabine's formula\n",
      "\n",
      "print\"average absorption coefficient =\",round(a,4)\n"
     ],
     "language": "python",
     "metadata": {},
     "outputs": [
      {
       "output_type": "stream",
       "stream": "stdout",
       "text": [
        "average absorption coefficient = 0.5133\n"
       ]
      }
     ],
     "prompt_number": 3
    },
    {
     "cell_type": "heading",
     "level": 2,
     "metadata": {},
     "source": [
      "Example 4.15.5,Page number 4-27"
     ]
    },
    {
     "cell_type": "code",
     "collapsed": false,
     "input": [
      "import math\n",
      "\n",
      "#given data\n",
      "\n",
      "l=20                                    #length of room\n",
      "b=12                                    #bredth of room\n",
      "h=12                                    #height of room\n",
      "V=l*b*h                                 #volume of room\n",
      "S=2*(l*b+b*h+h*l)                       #surface area of hall\n",
      "T1=2.5                                  #Reverberation time\n",
      "\n",
      "a=(0.161*V)/(T1*S)                      #using Sabine's formula\n",
      "\n",
      "print\"1) average absorption coefficient =\",round(a,4)\n",
      "\n",
      "a1=0.5                                  #absorption coefficient\n",
      "T2=2                                    #Reverberation time\n",
      "\n",
      "S1=(0.161*V/(a1-a))*(1.0/T2-1.0/T1)\n",
      "\n",
      "print\"2) carpet area required =\",round(S1,4),\"m^2\"\n"
     ],
     "language": "python",
     "metadata": {},
     "outputs": [
      {
       "output_type": "stream",
       "stream": "stdout",
       "text": [
        "1) average absorption coefficient = 0.1486\n",
        "2) carpet area required = 131.958 m^2\n"
       ]
      }
     ],
     "prompt_number": 7
    },
    {
     "cell_type": "heading",
     "level": 2,
     "metadata": {},
     "source": [
      "Example 4.15.6,Page number 4-28"
     ]
    },
    {
     "cell_type": "code",
     "collapsed": false,
     "input": [
      "import math\n",
      "\n",
      "#given data\n",
      "\n",
      "Ac=10*12                                #area of carpet covering entire floor\n",
      "ac=0.06                                 #absorption coefficient of carpet\n",
      "\n",
      "aS1=Ac*ac                               #absorption due to carpet\n",
      "\n",
      "Af=10*12                                #area of false celling\n",
      "af=0.03                                 #absorption coefficient of celling\n",
      "\n",
      "aS2=Af*af                               #absorption due to celling\n",
      "\n",
      "As=100*1                                #area of cushioned sets\n",
      "a_cush=1                                    #absorption coefficient of cushion sets\n",
      "\n",
      "aS3=As*a_cush                               #absorption due to cusion sets\n",
      "\n",
      "Aw=346*1                                #area of walls covered with absorbent\n",
      "aw=0.2                                  #absorption coefficient of walls\n",
      "\n",
      "aS4=Aw*aw                               #absorption due to walls\n",
      "\n",
      "Ad=346*1                                #area of wooden door\n",
      "ad=0.2                                  #absorption coefficient of wooden door\n",
      "\n",
      "aS5=Ad*ad                               #absorption due to wooden door\n",
      "\n",
      "aS=aS1+aS2+aS3+aS4                      #total absorption\n",
      "\n",
      "ap=0.46                                 #absorption coefficient of audience/person\n",
      "l=12                                    #assuming length of wall\n",
      "b=10                                    #assuming breadth of wall\n",
      "h=8                                     #assuming height of wall\n",
      "\n",
      "V=l*b*h                                 #volume of hall\n",
      "\n",
      "#case 1 :(no one inside/emptey  hall)\n",
      "\n",
      "T1=(0.161*V)/aS                         #reverberation time\n",
      "\n",
      "print\" 1)reverberation time of empty hall =\",round(T1,4),\"sec\"\n",
      "\n",
      "#case 2 :(50 person inside hall)\n",
      "\n",
      "T2=(0.161*V)/(aS+50*0.46)               #reverberation time\n",
      "\n",
      "print\" 2)reverberation time of hall with 50 person =\",round(T2,4),\"sec\"\n",
      "\n",
      "#case 2 :(100 person inside hall/full capacity of hall)\n",
      "\n",
      "T3=(0.161*V)/(aS+100*0.46)              #reverberation time\n",
      "\n",
      "print\" 3)reverberation time of hall with 100 person =\",round(T3,4),\"sec\"\n",
      "\n"
     ],
     "language": "python",
     "metadata": {},
     "outputs": [
      {
       "output_type": "stream",
       "stream": "stdout",
       "text": [
        " 1)reverberation time of empty hall = 0.8587 sec\n",
        " 2)reverberation time of hall with 50 person = 0.7614 sec\n",
        " 3)reverberation time of hall with 100 person = 0.6839 sec\n"
       ]
      }
     ],
     "prompt_number": 11
    },
    {
     "cell_type": "heading",
     "level": 2,
     "metadata": {},
     "source": [
      "Example 4.15.7,Page number 4-30"
     ]
    },
    {
     "cell_type": "code",
     "collapsed": false,
     "input": [
      "import math\n",
      "\n",
      "#given data\n",
      "\n",
      "l=20                                    #length of room\n",
      "b=15                                    #bredth of room\n",
      "h=5                                     #height of room\n",
      "\n",
      "V=l*b*h                                 #volume of room\n",
      "S=2*(l*b+b*h+h*l)                       #surface area of hall\n",
      "\n",
      "T=3.5                                   #Reverberation time\n",
      "\n",
      "a=(0.161*V)/(T*S)                       #using Sabine's formula\n",
      "\n",
      "print\"1) average absorption coefficient =\",round(a,4)\n",
      "\n",
      "avg=a*S                                 #average total absorption\n",
      "\n",
      "print\"2) average total absorption =\",round(avg,4),\"m^2.s\"\n"
     ],
     "language": "python",
     "metadata": {},
     "outputs": [
      {
       "output_type": "stream",
       "stream": "stdout",
       "text": [
        "1) average absorption coefficient = 0.0726\n",
        "2) average total absorption = 69.0 m^2.s\n"
       ]
      }
     ],
     "prompt_number": 13
    },
    {
     "cell_type": "heading",
     "level": 2,
     "metadata": {},
     "source": [
      "Example 4.15.8,Page number 4-30"
     ]
    },
    {
     "cell_type": "code",
     "collapsed": false,
     "input": [
      "import math\n",
      "\n",
      "#given data\n",
      "\n",
      "l=20                                    #length of room\n",
      "b=15                                    #bredth of room\n",
      "h=10                                    #height of room\n",
      "\n",
      "V=l*b*h                                 #volume of room\n",
      "\n",
      "a=0.1                                   #absorption coefficient\n",
      "\n",
      "S=2*(l*b+b*h+h*l)                       #surface area of hall\n",
      "\n",
      "T1=(0.161*V)/(a*S)                      #Reverberation time,using Sabine's formula\n",
      "\n",
      "print\"1) Reverberation time =\",round(T1,4),\"sec\"\n",
      "\n",
      "a2=0.66                                 #absorption coefficient of curtain cloth\n",
      "\n",
      "S2=100                                  #surface area of a curtain cloth\n",
      "\n",
      "T2=(0.161*V)/(a*S+a2*S2*2)              #Reverberation time,using Sabine's formula\n",
      "\n",
      "T=T1-T2                                 #change in Reverberation time\n",
      "\n",
      "print\"2) change in Reverberation time =\",round(T,4),\"sec\"\n"
     ],
     "language": "python",
     "metadata": {},
     "outputs": [
      {
       "output_type": "stream",
       "stream": "stdout",
       "text": [
        "1) Reverberation time = 3.7154 sec\n",
        "2) change in Reverberation time = 1.8719 sec\n"
       ]
      }
     ],
     "prompt_number": 14
    },
    {
     "cell_type": "heading",
     "level": 2,
     "metadata": {},
     "source": [
      "Example 4.15.9,Page number 4-30"
     ]
    },
    {
     "cell_type": "code",
     "collapsed": false,
     "input": [
      "import math\n",
      "\n",
      "#given data\n",
      "\n",
      "S1=220                                  #wall area\n",
      "a1=0.03                                 #absorption coefficient for the wall\n",
      "S2=120                                  #floor area\n",
      "a2=0.8                                  #absorption coefficient for the floor\n",
      "S3=120                                  #ceiling area\n",
      "a3=0.06                                 #absorption coefficient for the ceiling\n",
      "V=600                                   #volume of room\n",
      "\n",
      "S=S1+S2+S3                              #total surface area\n",
      "a=(a1*S1+a2*S2+a3*S3)/S                 #average sound absorption coefficient\n",
      "\n",
      "print\"1) average sound absorption coefficient =\",round(a,4)\n",
      "\n",
      "T=(0.161*V)/(a*S)                       #Reverberation time,using Sabine's formula\n",
      "\n",
      "print\"2) Reverberation time =\",round(T,4),\"sec\"\n"
     ],
     "language": "python",
     "metadata": {},
     "outputs": [
      {
       "output_type": "stream",
       "stream": "stdout",
       "text": [
        "1) average sound absorption coefficient = 0.2387\n",
        "2) Reverberation time = 0.8798 sec\n"
       ]
      }
     ],
     "prompt_number": 15
    },
    {
     "cell_type": "heading",
     "level": 2,
     "metadata": {},
     "source": [
      "Example 4.15.10,Page number 4-31"
     ]
    },
    {
     "cell_type": "code",
     "collapsed": false,
     "input": [
      "import math\n",
      "\n",
      "#given data\n",
      "\n",
      "f=0.07*10**6                             #frequency\n",
      "t=0.65                                  #time\n",
      "v=1700                                  #velocity of sound\n",
      "\n",
      "d=v*t/2                                 #depth of seabed\n",
      "\n",
      "print\"1) depth of seabed =\",round(d,4),\"meter\"\n",
      "\n",
      "lamda=v/f                                   #wavelength\n",
      "\n",
      "print\"2) wavelength =\",round(lamda,4),\"meter\"\n"
     ],
     "language": "python",
     "metadata": {},
     "outputs": [
      {
       "output_type": "stream",
       "stream": "stdout",
       "text": [
        "1) depth of seabed = 552.5 meter\n",
        "2) wavelength = 0.0243 meter\n"
       ]
      }
     ],
     "prompt_number": 17
    },
    {
     "cell_type": "heading",
     "level": 2,
     "metadata": {},
     "source": [
      "Example 4.15.11,Page number 4-31"
     ]
    },
    {
     "cell_type": "code",
     "collapsed": false,
     "input": [
      "import math\n",
      "\n",
      "#given data\n",
      "\n",
      "t=1*10**-3                               #thicknesss of crystal\n",
      "d=2.65*10**3                             #density\n",
      "Y=8*10**10                               #Young's modulus\n",
      "k=1                                     #consider 1st harmonic\n",
      "\n",
      "n=(k/(2*t))*sqrt(Y/d)                   #formula of natural frequency\n",
      "\n",
      "print\" natural frequency =\",\"{0:.3e}\".format(n),\"Hz\"\n"
     ],
     "language": "python",
     "metadata": {},
     "outputs": [
      {
       "output_type": "stream",
       "stream": "stdout",
       "text": [
        " natural frequency = 2.747e+06 Hz\n"
       ]
      }
     ],
     "prompt_number": 19
    },
    {
     "cell_type": "heading",
     "level": 2,
     "metadata": {},
     "source": [
      "Example 4.15.12,Page number 4-32"
     ]
    },
    {
     "cell_type": "code",
     "collapsed": false,
     "input": [
      "import math\n",
      "\n",
      "#given data\n",
      "d=2650                                  #density\n",
      "Y=8*10**10                               #Young's modulus\n",
      "k=1.0                                     #consider 1st harmonic\n",
      "\n",
      "#case 1\n",
      "\n",
      "n1=3.8*10**6                             #frequency of wave\n",
      "\n",
      "t1=(k/(2*n1))*sqrt(Y/d)                 #arranging formula of natural frequency\n",
      "\n",
      "print\"1) thickness =\",\"{0:.3e}\".format(t1),\"meter\"\n",
      "\n",
      "#case 2\n",
      "\n",
      "n2=300*10**3                             #frequency of wave\n",
      "\n",
      "t2=(k/(2*n2))*sqrt(Y/d)                 #arranging formula of natural frequency\n",
      "\n",
      "print\"2) thickness =\",\"{0:.3e}\".format(t2),\"meter\"\n"
     ],
     "language": "python",
     "metadata": {},
     "outputs": [
      {
       "output_type": "stream",
       "stream": "stdout",
       "text": [
        "1) thickness = 7.230e-04 meter\n",
        "2) thickness = 9.157e-03 meter\n"
       ]
      }
     ],
     "prompt_number": 22
    },
    {
     "cell_type": "heading",
     "level": 2,
     "metadata": {},
     "source": [
      "Example 4.15.13,Page number 4-32"
     ]
    },
    {
     "cell_type": "code",
     "collapsed": false,
     "input": [
      "import math\n",
      "\n",
      "#given data\n",
      "\n",
      "d=2650                                  #density\n",
      "Y=8*10**10                               #Young's modulus\n",
      "n=2*10**6                                #frequency of wave\n",
      "k=1.0                                     #consider 1st harmonic\n",
      "\n",
      "t=(k/(2*n))*sqrt(Y/d)                   #arranging formula of natural frequency\n",
      "\n",
      "print\"thickness =\",\"{0:.3e}\".format(t),\"meter\"\n"
     ],
     "language": "python",
     "metadata": {},
     "outputs": [
      {
       "output_type": "stream",
       "stream": "stdout",
       "text": [
        "thickness = 1.374e-03 meter\n"
       ]
      }
     ],
     "prompt_number": 25
    },
    {
     "cell_type": "heading",
     "level": 2,
     "metadata": {},
     "source": [
      "Example 4.15.14,Page number 4-33"
     ]
    },
    {
     "cell_type": "code",
     "collapsed": false,
     "input": [
      "import math\n",
      "\n",
      "#given data\n",
      "\n",
      "f=50*10**3                               #frequency\n",
      "v1=348                                  #velocity of ultrasound in atmosphere\n",
      "v2=1392                                 #velocity of ultrasound in sea water\n",
      "t=2.0                                     #time difference\n",
      "\n",
      "#distance is constant hence v1*t1=v2*t2\n",
      "\n",
      "m=v2/v1                                 #assuming constant as m\n",
      "\n",
      "#(t1-t2=d) and (t1=m*t2) therefore\n",
      "\n",
      "t2=t/(m-1)\n",
      "\n",
      "d=v2*t2                                 #distance between two ship\n",
      "\n",
      "print\"distance between two ships =\",round(d,4),\"meter\""
     ],
     "language": "python",
     "metadata": {},
     "outputs": [
      {
       "output_type": "stream",
       "stream": "stdout",
       "text": [
        "distance between two ships = 928.0 meter\n"
       ]
      }
     ],
     "prompt_number": 27
    },
    {
     "cell_type": "heading",
     "level": 2,
     "metadata": {},
     "source": [
      "Example 4.15.15,Page number 4-34"
     ]
    },
    {
     "cell_type": "code",
     "collapsed": false,
     "input": [
      "import math\n",
      "\n",
      "#given data\n",
      "\n",
      "#for case1\n",
      "t1=2*10**-3                              #thicknesss of plate\n",
      "d=2.65*10**3                             #density\n",
      "Y=8*10**10                               #Young's modulus\n",
      "k=1.0                                     #consider 1st harmonic\n",
      "\n",
      "n1=(k/(2*t1))*sqrt(Y/d)                 #formula of natural frequency\n",
      "\n",
      "print\"1)natural frequency =\",\"{0:.3e}\".format(n1),\"Hz\"\n",
      "\n",
      "#for case2\n",
      "\n",
      "n2=3*10**6                               #frequency\n",
      "\n",
      "t2=(k/(2*n2))*sqrt(Y/d)                 #arranging formula of natural frequency\n",
      "\n",
      "t=t1-t2                                 #change in thickness\n",
      "\n",
      "print\"2)change in thickness =\",\"{0:.3e}\".format(t),\"meter\"\n"
     ],
     "language": "python",
     "metadata": {},
     "outputs": [
      {
       "output_type": "stream",
       "stream": "stdout",
       "text": [
        "1)natural frequency = 1.374e+06 Hz\n",
        "2)change in thickness = 1.084e-03 meter\n"
       ]
      }
     ],
     "prompt_number": 29
    },
    {
     "cell_type": "heading",
     "level": 2,
     "metadata": {},
     "source": [
      "Example 4.15.16,Page number 4-34"
     ]
    },
    {
     "cell_type": "code",
     "collapsed": false,
     "input": [
      "import math\n",
      "\n",
      "#given data\n",
      "\n",
      "S=10                                    #salinity\n",
      "t=2                                     #time\n",
      "T=20                                    #temperature\n",
      "\n",
      "v=1510+1.14*S+4.21*T-0.037*T**2          #velocity of ultrasound in sea\n",
      "\n",
      "d=v*t/2                                 #depth of sea bed\n",
      "\n",
      "print\"depth of sea bed =\",round(d,4),\"meter\"\n"
     ],
     "language": "python",
     "metadata": {},
     "outputs": [
      {
       "output_type": "stream",
       "stream": "stdout",
       "text": [
        "depth of sea bed = 1590.8 meter\n"
       ]
      }
     ],
     "prompt_number": 1
    },
    {
     "cell_type": "heading",
     "level": 2,
     "metadata": {},
     "source": [
      "Example 4.15.17,Page number 4-35"
     ]
    },
    {
     "cell_type": "code",
     "collapsed": false,
     "input": [
      "import math\n",
      "\n",
      "#given data\n",
      "\n",
      "S=29                                    #salinity\n",
      "t=2                                     #time\n",
      "l=0.01                                  #wavelength\n",
      "T=30                                    #temperature\n",
      "\n",
      "v=1510+1.14*S+4.21*T-0.037*T**2          #velocity of ultrasound in sea\n",
      "\n",
      "d=v*t/2                                 #depth of sea bed\n",
      "\n",
      "print\"1)depth of sea bed =\",round(d,4),\"meter\"\n",
      "\n",
      "f=v/l                                   #frequency\n",
      "\n",
      "print\"2) frequency =\",\"{0:.3e}\".format(f),\"Hz\"\n"
     ],
     "language": "python",
     "metadata": {},
     "outputs": [
      {
       "output_type": "stream",
       "stream": "stdout",
       "text": [
        "1)depth of sea bed = 1636.06 meter\n",
        "2) frequency = 1.636e+05 Hz\n"
       ]
      }
     ],
     "prompt_number": 4
    },
    {
     "cell_type": "heading",
     "level": 2,
     "metadata": {},
     "source": [
      "Example 4.15.18,Page number 4-35"
     ]
    },
    {
     "cell_type": "code",
     "collapsed": false,
     "input": [
      "import math\n",
      "\n",
      "#given data\n",
      "\n",
      "v1=5.9*10**3                             #velocity of UW in mild steel\n",
      "v2=4.3*10**3                             #velocity of UW in brass\n",
      "t2=15*10**-3                             #thickness of brass plate\n",
      "\n",
      "t1=v2*t2/v1                             #since ve;ocity is inversly proportional to thickness\n",
      "\n",
      "print\"real thickness =\",\"{0:.3e}\".format(t1),\"meter\"\n"
     ],
     "language": "python",
     "metadata": {},
     "outputs": [
      {
       "output_type": "stream",
       "stream": "stdout",
       "text": [
        "real thickness = 1.093e-02 meter\n"
       ]
      }
     ],
     "prompt_number": 5
    },
    {
     "cell_type": "heading",
     "level": 2,
     "metadata": {},
     "source": [
      "Example 4.15.19,Page number 4-36"
     ]
    },
    {
     "cell_type": "code",
     "collapsed": false,
     "input": [
      "import math\n",
      "\n",
      "#given data\n",
      "\n",
      "t1=4*10**-3                              #thickness of 1st crystal\n",
      "n1=400*10**3                             #frequency of 1st crystal\n",
      "n2=500*10**3                             #frequency of 2nd crystal\n",
      "\n",
      "t2=n1*t1/n2                             #since frquency is inversly proportional to thickness\n",
      "\n",
      "print\"thickness of 2nd crystal =\",\"{0:.3e}\".format(t2),\"meter\"\n"
     ],
     "language": "python",
     "metadata": {},
     "outputs": [
      {
       "output_type": "stream",
       "stream": "stdout",
       "text": [
        "thickness of 2nd crystal = 3.200e-03 meter\n"
       ]
      }
     ],
     "prompt_number": 8
    },
    {
     "cell_type": "heading",
     "level": 2,
     "metadata": {},
     "source": [
      "Example 4.15.20,Page number 4-36"
     ]
    },
    {
     "cell_type": "code",
     "collapsed": false,
     "input": [
      "import math\n",
      "\n",
      "#given data\n",
      "\n",
      "t2=30*10**-6                             #pulse arrival time of defective steel bar\n",
      "t1=80*10**-6                             #pulse arrival time of non defective steel bar\n",
      "d=40*10**-2                              #bar thickness\n",
      "\n",
      "x=(t2/t1)*d\n",
      "\n",
      "print\"distance at which defect has occurred =\",round(x,4),\"meter\"\n"
     ],
     "language": "python",
     "metadata": {},
     "outputs": [
      {
       "output_type": "stream",
       "stream": "stdout",
       "text": [
        "distance at which defect has occurred = 0.15 meter\n"
       ]
      }
     ],
     "prompt_number": 9
    },
    {
     "cell_type": "heading",
     "level": 2,
     "metadata": {},
     "source": [
      "Example 4.15.21,Page number 4-37"
     ]
    },
    {
     "cell_type": "code",
     "collapsed": false,
     "input": [
      "import math\n",
      "\n",
      "#given data\n",
      "\n",
      "d=18*10**-3                              #thickness\n",
      "v=5.9*10**3                              #velocity\n",
      "\n",
      "t=(2*d)/v                               #echo time\n",
      "\n",
      "print\"echo time =\",\"{0:.3e}\".format(t),\"sec\""
     ],
     "language": "python",
     "metadata": {},
     "outputs": [
      {
       "output_type": "stream",
       "stream": "stdout",
       "text": [
        "echo time = 6.102e-06 sec\n"
       ]
      }
     ],
     "prompt_number": 12
    },
    {
     "cell_type": "heading",
     "level": 2,
     "metadata": {},
     "source": [
      "Example 4.15.22,Page number 4-37"
     ]
    },
    {
     "cell_type": "code",
     "collapsed": false,
     "input": [
      "import math\n",
      "\n",
      "#given data\n",
      "\n",
      "t=1*10**-3                               #thickness of quartz crystal\n",
      "\n",
      "#given t=l/2\n",
      "\n",
      "l=t*2                                   #wavelength\n",
      "Y=7.9*10**10                             #young's module of crystal\n",
      "p=2650                                  #density of crystal\n",
      "\n",
      "v=sqrt(Y/p)                             #velocity of vibration\n",
      "\n",
      "n=v/l                                   #frequency of vibration\n",
      "\n",
      "print\"frquency of vibration =\",\"{0:.3e}\".format(n),\"Hz\""
     ],
     "language": "python",
     "metadata": {},
     "outputs": [
      {
       "output_type": "stream",
       "stream": "stdout",
       "text": [
        "frquency of vibration = 2.730e+06 Hz\n"
       ]
      }
     ],
     "prompt_number": 14
    },
    {
     "cell_type": "heading",
     "level": 2,
     "metadata": {},
     "source": [
      "Example 4.15.23,Page number 4-38"
     ]
    },
    {
     "cell_type": "code",
     "collapsed": false,
     "input": [
      "import math \n",
      "\n",
      "#given data\n",
      "\n",
      "d=7.23*10**3                             #density\n",
      "Y=11.6*10**10                            #Young's modulus\n",
      "n=20*10**3                               #frequency of wave\n",
      "k=1.0                                    #consider 1st harmonic\n",
      "\n",
      "l=(k/(2*n))*sqrt(Y/d)                   #arranging formula of natural frequency\n",
      "\n",
      "print\"length =\",\"{0:.3e}\".format(l),\"meter\""
     ],
     "language": "python",
     "metadata": {},
     "outputs": [
      {
       "output_type": "stream",
       "stream": "stdout",
       "text": [
        "length = 1.001e-01 meter\n"
       ]
      }
     ],
     "prompt_number": 3
    },
    {
     "cell_type": "heading",
     "level": 2,
     "metadata": {},
     "source": [
      "Example 4.15.24,Page number 4-38"
     ]
    },
    {
     "cell_type": "code",
     "collapsed": false,
     "input": [
      "import math\n",
      "\n",
      "#given data\n",
      "\n",
      "#for case1\n",
      "t1=2*10**-3                              #thicknesss of plate\n",
      "d=2.65*10**3                             #density\n",
      "Y=8*10**10                               #Young's modulus\n",
      "k=1.0                                    #consider 1st harmonic\n",
      "\n",
      "n1=(k/(2*t1))*sqrt(Y/d)                 #formula of natural frequency\n",
      "\n",
      "print\"1)natural frequency =\",\"{0:.3e}\".format(n1),\"Hz\"\n",
      "\n",
      "#for case2\n",
      "\n",
      "n2=3*10**6                               #frequency\n",
      "\n",
      "t2=(k/(2*n2))*sqrt(Y/d)                 #arranging formula of natural frequency\n",
      "\n",
      "t=t1-t2                                 #change in thickness\n",
      "\n",
      "print\"2)change in thickness =\",\"{0:.3e}\".format(t),\"meter\"\n",
      "\n"
     ],
     "language": "python",
     "metadata": {},
     "outputs": [
      {
       "output_type": "stream",
       "stream": "stdout",
       "text": [
        "1)natural frequency = 1.374e+06 Hz\n",
        "2)change in thickness = 1.084e-03 meter\n"
       ]
      }
     ],
     "prompt_number": 6
    },
    {
     "cell_type": "heading",
     "level": 2,
     "metadata": {},
     "source": [
      "Example 4.15.25,Page number 4-39"
     ]
    },
    {
     "cell_type": "code",
     "collapsed": false,
     "input": [
      "import math\n",
      "\n",
      "#given data\n",
      "\n",
      "l=20                                    #length of room\n",
      "b=15                                    #bredth of room\n",
      "h=10                                    #height of room\n",
      "\n",
      "V=l*b*h                                 #volume of room\n",
      "S=2*(l*b+b*h+h*l)                       #surface area of hall\n",
      "\n",
      "T=3                                     #Reverberation time\n",
      "\n",
      "a=(0.161*V)/(T*S)                       #using Sabine's formula\n",
      "\n",
      "print\"1) average absorption coefficient =\",round(a,4)\n",
      "\n",
      "m=a*S                                   #total absorption\n",
      "\n",
      "print\"2) total absorption of surface =\",round(m,4),\"m**2/sec\""
     ],
     "language": "python",
     "metadata": {},
     "outputs": [
      {
       "output_type": "stream",
       "stream": "stdout",
       "text": [
        "1) average absorption coefficient = 0.1238\n",
        "2) total absorption of surface = 161.0 m**2/sec\n"
       ]
      }
     ],
     "prompt_number": 7
    },
    {
     "cell_type": "heading",
     "level": 2,
     "metadata": {},
     "source": [
      "Example 4.15.26,Page number 4-39"
     ]
    },
    {
     "cell_type": "code",
     "collapsed": false,
     "input": [
      "import math\n",
      "\n",
      "#given data\n",
      "\n",
      "#for case1\n",
      "t1=1.8*10**-3                            #thicknesss of plate\n",
      "d=2.65*10**3                             #density\n",
      "Y=8*10**10                               #Young's modulus\n",
      "k=1.0                                    #consider 1st harmonic\n",
      "\n",
      "n1=(k/(2*t1))*sqrt(Y/d)                 #formula of natural frequency\n",
      "\n",
      "print\"1)natural frequency =\",\"{0:.3e}\".format(n1),\"Hz\"\n",
      "\n",
      "#for case2\n",
      "\n",
      "n2=2*10**6                               #frequency\n",
      "\n",
      "t2=(k/(2*n2))*sqrt(Y/d)                 #arranging formula of natural frequency\n",
      "\n",
      "t=t1-t2                                 #change in thickness\n",
      "\n",
      "print\"2)change in thickness =\",\"{0:.3e}\".format(t),\"meter\""
     ],
     "language": "python",
     "metadata": {},
     "outputs": [
      {
       "output_type": "stream",
       "stream": "stdout",
       "text": [
        "1)natural frequency = 1.526e+06 Hz\n",
        "2)change in thickness = 4.264e-04 meter\n"
       ]
      }
     ],
     "prompt_number": 9
    },
    {
     "cell_type": "heading",
     "level": 2,
     "metadata": {},
     "source": [
      "Example 4.15.27,Page number 4-39"
     ]
    },
    {
     "cell_type": "code",
     "collapsed": false,
     "input": [
      "import math\n",
      "\n",
      "#given data\n",
      "\n",
      "n=0.4999*10**6                           #frequency\n",
      "t=5.5*10**-3                             #thicknesss of plate\n",
      "d=2.65*10**3                             #density\n",
      "k=1.0                                     #consider 1st harmonic\n",
      "\n",
      "Y=4*(t**2)*(n**2)*d/k                     #arranging formula of natural frequency\n",
      "\n",
      "print\"Youngs modulus =\",\"{0:.3e}\".format(Y),\"N/m**2\""
     ],
     "language": "python",
     "metadata": {},
     "outputs": [
      {
       "output_type": "stream",
       "stream": "stdout",
       "text": [
        "Youngs modulus = 8.013e+10 N/m**2\n"
       ]
      }
     ],
     "prompt_number": 11
    },
    {
     "cell_type": "code",
     "collapsed": false,
     "input": [],
     "language": "python",
     "metadata": {},
     "outputs": []
    }
   ],
   "metadata": {}
  }
 ]
}