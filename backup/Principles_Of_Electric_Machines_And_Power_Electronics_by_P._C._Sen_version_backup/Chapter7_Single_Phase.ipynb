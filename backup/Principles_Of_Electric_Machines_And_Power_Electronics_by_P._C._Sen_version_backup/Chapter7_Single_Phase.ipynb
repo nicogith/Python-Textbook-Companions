{
 "cells": [
  {
   "cell_type": "markdown",
   "metadata": {},
   "source": [
    "# Chapter 7 Single Phase Motors"
   ]
  },
  {
   "cell_type": "markdown",
   "metadata": {},
   "source": [
    "## Example 7.2,Pg.no 384"
   ]
  },
  {
   "cell_type": "code",
   "execution_count": 44,
   "metadata": {
    "collapsed": false
   },
   "outputs": [
    {
     "name": "stdout",
     "output_type": "stream",
     "text": [
      "input current= 4.41 A\n",
      "power factor= 0.61 lagging\n",
      "developed torque= 1.28 N-m\n",
      "output power 160.07 W\n",
      "efficiency= 49.6 %\n",
      "air-gap power= 265.86 W\n",
      "rotor copper loss= 33.53 W\n"
     ]
    }
   ],
   "source": [
    "import math\n",
    "from math import pi,sqrt\n",
    "#Given\n",
    "F=60              \n",
    "P=4\n",
    "N=1730\n",
    "Zb=27.86\n",
    "R=1.35\n",
    "X=1.63\n",
    "R1=2.9\n",
    "X1=3.26\n",
    "V=120\n",
    "Prot=81.2\n",
    "Ns=(120*F)/P\n",
    "S=(Ns-N)/N\n",
    "Rf=13.06\n",
    "Xf=16.31\n",
    "Rb=0.61\n",
    "Xb=1.55\n",
    "Zinput=complex((R1+Rf+Rb),(X1+Xf+Xb))\n",
    "(a,b)=(27.19,52.61)\n",
    "Zinput=complex(a,b)\n",
    "Iinput=V/a                  #current input\n",
    "Iinput=round(Iinput,2)\n",
    "ans=math.cos(pi*b/180)           #power factor\n",
    "ans=round(ans,2)\n",
    "Pinput=V*Iinput*ans         #power input\n",
    "Wsy=Ns*2*(pi/F)             #synchronous speed\n",
    "T=Iinput**2*(Rf-Rb)/Wsy     #torque developed\n",
    "T=round(T,2)\n",
    "Pmech=T*Wsy*(1-S)           #mechanical power developed\n",
    "OutputPower=Pmech -Prot     #output power\n",
    "OutputPower=round(OutputPower,2)\n",
    "Eff=OutputPower/Pinput*100  #efficiency\n",
    "Eff=round(Eff,1)\n",
    "Pgf=Iinput**2*Rf       #air-gap power due to forward rotating fields\n",
    "Pgb=Iinput**2*Rb       #airgap powers due to the backward rotating fields\n",
    "airgap=Pgf+Pgb         #air-gap power\n",
    "airgap=round(airgap,2)\n",
    "P2=S*Pgf+(2-S)*Pgb+9.8     #rotor copper loss\n",
    "P2=round(P2,2)\n",
    "print 'input current=',Iinput,'A'\n",
    "print 'power factor=',ans,'lagging'\n",
    "print 'developed torque=',T,'N-m'\n",
    "print 'output power',OutputPower,'W'\n",
    "print 'efficiency=',Eff,'%'\n",
    "print 'air-gap power=',airgap,'W'\n",
    "print 'rotor copper loss=',P2,'W'"
   ]
  },
  {
   "cell_type": "markdown",
   "metadata": {},
   "source": [
    "## Example 7.4,Pg.no 400"
   ]
  },
  {
   "cell_type": "code",
   "execution_count": 45,
   "metadata": {
    "collapsed": false
   },
   "outputs": [
    {
     "name": "stdout",
     "output_type": "stream",
     "text": [
      "external resistance to be added= 8.66 ohms\n",
      "capacitance needed to obtain max.torque= 405.0 microF\n",
      "capacitor needed to obtain max.toque per ampere= 313.54 microF\n",
      "starting torque 1.87 K\n"
     ]
    }
   ],
   "source": [
    "import math\n",
    "from math import pi,sqrt\n",
    "#Given\n",
    "V=120.0                                                 #supply voltage\n",
    "F=60.0                                                  #frequency in Hz\n",
    "Pole=4.0                                                #no.of poles\n",
    "Zm=complex(1.5,4.0)                                     #impedance for main-winding\n",
    "Za=complex(3,6)                                         #impedance for auxillary winding\n",
    "Xa=6.0                 \n",
    "Xm=4.0\n",
    "Rm=1.5                                                   #resistance for main-winding\n",
    "Ra=3.0                                                   #resistance for auxillary winding\n",
    "Ra=(Xa/Xm)*(Rm+sqrt(18.25))                              #external resistance\n",
    "C=2*pi*60*(6+((3*1.5)/(4+sqrt(18.25))))                  #formula used=2.0*pi*F*(Xa+((Ra*Rm)/(Xm+sqrt(18.25))))               \n",
    "C=C**-1*10**6                                            #capacitance\n",
    "a=3.69\n",
    "Xc=Xa+(a/Rm)\n",
    "C1=1.0/(2.0*pi*60.0*Xc)*10.0**6.0\n",
    "Ia=V/(Za)\n",
    "(Is,Angle)=(17.88,-63.43)\n",
    "Im=V/(Zm)\n",
    "(Is1,Angle1)=(28.1,-69.44)\n",
    "Alfa=Angle1-Angle\n",
    "Ts=Is*math.sin(pi*6.01/180)\n",
    "Ra=round(Ra,2)\n",
    "C=round(C,0)\n",
    "C1=round(C1,2)\n",
    "Ts=round(Ts,2)\n",
    "print 'external resistance to be added=',Ra,'ohms'\n",
    "print 'capacitance needed to obtain max.torque=',C,'microF'\n",
    "print 'capacitor needed to obtain max.toque per ampere=',C1,'microF'\n",
    "print 'starting torque',Ts,'K'"
   ]
  },
  {
   "cell_type": "markdown",
   "metadata": {},
   "source": [
    "## Example 7.5,Pg.no 406"
   ]
  },
  {
   "cell_type": "code",
   "execution_count": 46,
   "metadata": {
    "collapsed": false
   },
   "outputs": [
    {
     "name": "stdout",
     "output_type": "stream",
     "text": [
      "equivalent impedance= 88.4 ohms\n",
      "starting current= 24.5 A\n",
      "starting torque= 0.382 N-m\n",
      "Starting capacitor needed= 331.57 microF\n",
      "Maximum starting torque per ampere= 0.25 N-m/A\n"
     ]
    }
   ],
   "source": [
    "import math\n",
    "from math import pi,sqrt\n",
    "#Given\n",
    "V=120                              #supply voltage\n",
    "F=60                               #frequency in Hertz\n",
    "X1m=Xla=X2=2.0                     #given impedances\n",
    "R1m=Rla=1.5                        #resistance\n",
    "R2=1.5                             #resistance\n",
    "Xmag=48                            #magnetic impedance\n",
    "C=30                               #running capacitor in microfarad\n",
    "a=1                                #turns ratio\n",
    "Xc=10**6/(2*pi*F*C)                #equivalent circuit\n",
    "Zf=Zb=complex(0.69,0.98)\n",
    "(Zf1,Angle)=(1.2,54.85)            #Zf in (r,theta) 'polar' co-ordinates\n",
    "Zlm=complex(1.5,2)\n",
    "Im=V/(Zlm+2*Zf)\n",
    "(Im,a)=(24.5,-54)                   #Im in polar form\n",
    "(Ia,b)=(1.42,87.4)                  #Ia in polar form\n",
    "(Is,c)=(Ia+Im,a+b)                  #starting current\n",
    "Wsyn=30*2*pi                        #synchronous speed\n",
    "T=(2*Im*Ia*2*math.sin(141.4*180/pi))/(Wsyn)     #starting torque\n",
    "Zm=Zlm+Zf+Zb\n",
    "(Rm,Xm)=(2.88,3.96)\n",
    "(Zm1,d)=(4.9,54)                     #input impedance of main winding in polar form\n",
    "Za=complex(3.88,3.96)\n",
    "xc=3.96-((Xm*3.88-(Zm1*5.12))/Rm)\n",
    "C=(10**6)/(377.0*xc)                        #total capacitance\n",
    "Cs=C-30.0                             #capacitance to be added\n",
    "Ts=2*24.5*23.33*2*0.69*math.sin(95*180/pi)/(60*pi)\n",
    "Ts=Ts/32.33\n",
    "Xc=round(Xc,1)\n",
    "Im=round(Im,1)\n",
    "T=round(T,3)\n",
    "Cs=round(Cs,2)\n",
    "Ts=round(Ts,2)\n",
    "print 'equivalent impedance=',Xc,'ohms'\n",
    "print 'starting current=',Im,'A'\n",
    "print 'starting torque=',T,'N-m'\n",
    "print 'Starting capacitor needed=',Cs,'microF'\n",
    "print 'Maximum starting torque per ampere=',Ts,'N-m/A'"
   ]
  },
  {
   "cell_type": "markdown",
   "metadata": {},
   "source": [
    "## Example 7.6,Pg.no 414"
   ]
  },
  {
   "cell_type": "code",
   "execution_count": 47,
   "metadata": {
    "collapsed": false
   },
   "outputs": [
    {
     "name": "stdout",
     "output_type": "stream",
     "text": [
      "speed= 1737.79 rpm\n",
      "power factor= 0.88 lag\n",
      "mechanical power developed= 56.3 W\n",
      "torque developed= 0.309 N-m\n"
     ]
    }
   ],
   "source": [
    "import math\n",
    "from math import pi,sqrt\n",
    "#Given\n",
    "V=120.0                               #supply voltage\n",
    "F=60.0                                #frequency\n",
    "N=2000.0                              #motor speed in rpm\n",
    "Ia=0.6                                #current in ampere\n",
    "Ra=20.0                               #resistance at the terminal\n",
    "L=0.25                                #inductance at the terminal\n",
    "V=120.0                               #dc supply voltage\n",
    "Edc=V-(Ia*Ra)                         #dc operation\n",
    "X=2*pi*F*L                            #ac excitation\n",
    "Eac=(-Ia*Ra)+sqrt(V**2-(Ia*X)**2)\n",
    "Nac=N*(Eac/Edc)\n",
    "Pf=(Eac+(Ia*Ra))/V\n",
    "Pmech=Eac*Ia\n",
    "Wm=(Nac*2*pi)/F\n",
    "T=Pmech/Wm\n",
    "Nac=round(Nac,2)\n",
    "Pf=round(Pf,2)\n",
    "Pmech=round(Pmech,1)\n",
    "T=round(T,3)\n",
    "print 'speed=',Nac,'rpm'\n",
    "print 'power factor=',Pf,'lag'\n",
    "print 'mechanical power developed=',Pmech,'W'\n",
    "print 'torque developed=',T,'N-m'"
   ]
  }
 ],
 "metadata": {
  "kernelspec": {
   "display_name": "Python 2",
   "language": "python",
   "name": "python2"
  },
  "language_info": {
   "codemirror_mode": {
    "name": "ipython",
    "version": 2
   },
   "file_extension": ".py",
   "mimetype": "text/x-python",
   "name": "python",
   "nbconvert_exporter": "python",
   "pygments_lexer": "ipython2",
   "version": "2.7.10"
  }
 },
 "nbformat": 4,
 "nbformat_minor": 0
}
