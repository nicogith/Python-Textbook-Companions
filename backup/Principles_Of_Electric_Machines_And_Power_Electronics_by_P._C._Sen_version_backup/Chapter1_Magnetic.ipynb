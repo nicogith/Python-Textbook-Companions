{
 "cells": [
  {
   "cell_type": "markdown",
   "metadata": {},
   "source": [
    "# Chapter 1 Magnetic circuits"
   ]
  },
  {
   "cell_type": "markdown",
   "metadata": {},
   "source": [
    "## Example 1.1,Page number 8"
   ]
  },
  {
   "cell_type": "code",
   "execution_count": 1,
   "metadata": {
    "collapsed": false
   },
   "outputs": [
    {
     "name": "stdout",
     "output_type": "stream",
     "text": [
      "permeability of core is  1.569\n",
      "relative permeability of core is 1248.28\n",
      "The current in circuit is  0.367 A\n"
     ]
    }
   ],
   "source": [
    "from math import pi\n",
    "import math   \n",
    "# given\n",
    "Bc=0.8              #flux-density in tesla\n",
    "Hc=510.0            #magnetic intensity\n",
    "Bg=0.8              #flux density in the core\n",
    "A=0.00000125663     #vacuum permeability\n",
    "lg=0.0015           #air-gap lengths\n",
    "lc=0.36             #mean-core path\n",
    "N=500.0             #no.of turns in the coil\n",
    "# calculations\n",
    "Fg=Bg/A*(2*lg)\n",
    "Fc=Hc*lc\n",
    "F=Fc+Fg              #total mmf required\n",
    "i=F/N                #current in the circuit\n",
    "Pre=Bc/Hc*1000       #permeability of core\n",
    "RelPre=Pre/A*10**-3  #relative permeability\n",
    "F=Hc*lc\n",
    "i=F /N                 #current required\n",
    "Pre=round(Pre,3)       #permeability of core\n",
    "RelPre=round(RelPre,2)  \n",
    "i=round(i,3)\n",
    "print 'permeability of core is ',Pre\n",
    "print 'relative permeability of core is',RelPre\n",
    "print 'The current in circuit is ',i,'A'"
   ]
  },
  {
   "cell_type": "markdown",
   "metadata": {},
   "source": [
    "## Example 1.2,Page number 9"
   ]
  },
  {
   "cell_type": "code",
   "execution_count": 2,
   "metadata": {
    "collapsed": false
   },
   "outputs": [
    {
     "name": "stdout",
     "output_type": "stream",
     "text": [
      "The flux density is 5556.0 At/m\n"
     ]
    }
   ],
   "source": [
    "from math import pi\n",
    "A=0.00000125663             #vacuum permeability\n",
    "lc=36.0*10.0**-2.0         #core-length\n",
    "N=500.0          \n",
    "i=4.0                #current in the circuit\n",
    "lg=2.0*10.0**-3.0    #air-gap length\n",
    "m=-A*(lc/lg)\n",
    "c=(N*i*A)/(lg)\n",
    "Hc=(N*i)/(lc)  #flux density\n",
    "Hc=round(Hc,0)\n",
    "print 'The flux density is',Hc,'At/m'"
   ]
  },
  {
   "cell_type": "markdown",
   "metadata": {},
   "source": [
    "## Example 1.3,Page number 11"
   ]
  },
  {
   "cell_type": "code",
   "execution_count": 3,
   "metadata": {
    "collapsed": false
   },
   "outputs": [
    {
     "name": "stdout",
     "output_type": "stream",
     "text": [
      "the airgap flux density is 1.034 T\n",
      "The magnetic intensity in the air gap is  0.822 *10**6 At/m\n"
     ]
    }
   ],
   "source": [
    "import math\n",
    "#given\n",
    "N1=N2=500.0       #no.of turns\n",
    "I1=I2=10.0        #current\n",
    "Ibafe=3*52*10**-2\n",
    "A=4.0*pi*10**-7   #vacuum permeability\n",
    "b=1200           #relative permeability of theferro-magnetic material\n",
    "Ag=0.0004\n",
    "Ac=4*10^-4\n",
    "lg=5*10^-3      #air-gap length\n",
    "Ibecore=0.515\n",
    "c=0.0002067\n",
    "d=0.0004134     #airgap flux\n",
    "#calculations\n",
    "F1=N1*I1\n",
    "F2=N2*I2\n",
    "Pre=1200*A     #permeability\n",
    "Rbafe=(Ibafe)/(Pre*Ac)\n",
    "Rg=lg/(A*Ag)\n",
    "Rbecore=Ibecore/(Pre*Ac)\n",
    "Bg=d/(Ag)       # airgap ﬂuxdensity\n",
    "Hg=Bg/A*10**-6  #magnetic intensity\n",
    "Bg=round(Bg,3)\n",
    "Hg=round(Hg,3)\n",
    "print 'the airgap flux density is',Bg,'T'\n",
    "print 'The magnetic intensity in the air gap is ',Hg,'*10**6 At/m'\n"
   ]
  },
  {
   "cell_type": "markdown",
   "metadata": {},
   "source": [
    "## Example 1.5,Page number 15"
   ]
  },
  {
   "cell_type": "code",
   "execution_count": 4,
   "metadata": {
    "collapsed": false
   },
   "outputs": [
    {
     "name": "stdout",
     "output_type": "stream",
     "text": [
      "Inductance in the coil is 240.0 mH\n"
     ]
    }
   ],
   "source": [
    "from math import pi\n",
    "# given \n",
    "Irad=20         #inner-radius of the coil\n",
    "Orad=25         #outer-radius of the coil\n",
    "Dia=22.5        #diameter of the coil                        \n",
    "N=250           #no.of turns of the coil\n",
    "i=2.5           #coil current\n",
    "B=1.225\n",
    "# calculations\n",
    "l=2*pi*Dia*10**-2\n",
    "radius=1/2*(Irad+Orad)\n",
    "H=(N*i)/l\n",
    "A=pi*((Orad -Irad)/2)**2*10**-4        # Cross-sectional area\n",
    "z=(1.225)*(pi*6.25*10**-4)\n",
    "y=(N*z)\n",
    "L=(y/i)\n",
    "core=(B/H)          \n",
    "l=(2*pi*22.5*10**-2)\n",
    "Rcore=2599.64*10**2                  # formula for Rcore=(l)/(core*A)\n",
    "L=(N**2)/(Rcore)\n",
    "L=round(L,2)*1000\n",
    "print 'Inductance in the coil is',L,'mH'"
   ]
  },
  {
   "cell_type": "markdown",
   "metadata": {
    "collapsed": true
   },
   "source": [
    "## Example 1.7,Page number 24"
   ]
  },
  {
   "cell_type": "code",
   "execution_count": 5,
   "metadata": {
    "collapsed": false
   },
   "outputs": [
    {
     "name": "stdout",
     "output_type": "stream",
     "text": [
      "Maximum flux is 0.83 mWb\n",
      "Maximum value of E is 144.0 V\n"
     ]
    }
   ],
   "source": [
    "import math\n",
    "# given\n",
    "n=500.0     #no.of turns\n",
    "E=100.0     #amplitude\n",
    "A=0.001     #cross-sectional area of the core\n",
    "b=1/120\n",
    "f=1.2       #given max.flux density value\n",
    "#calculations\n",
    "max1=0.833             #Formula for max1=(E/1000)*(b)\n",
    "max2=(f*A)\n",
    "E=(120*n*max2*2) # result\n",
    "max1=round(max1,2)\n",
    "E=round(E,2)\n",
    "print 'Maximum flux is',max1,'mWb'\n",
    "print 'Maximum value of E is',E,'V'"
   ]
  },
  {
   "cell_type": "markdown",
   "metadata": {
    "collapsed": true
   },
   "source": [
    "## Example 1.8,Page number 31"
   ]
  },
  {
   "cell_type": "code",
   "execution_count": 6,
   "metadata": {
    "collapsed": false
   },
   "outputs": [
    {
     "name": "stdout",
     "output_type": "stream",
     "text": [
      "The dimension Im is 6.06 cm\n",
      "The dimension Am is 2.105 cm**2\n"
     ]
    }
   ],
   "source": [
    "from math import pi\n",
    "#given\n",
    "lg=0.4             #air-gap length\n",
    "Bg=0.8             #flux density\n",
    "Hm=42.0*10.0**3.0\n",
    "A=4.0*pi*10.0**-7.0  #vacuum permeability\n",
    "Ag=2.5*10.0**-4.0\n",
    "Bm=0.95\n",
    "#calculations\n",
    "Hg=Bg/A\n",
    "lm=(lg/Hm)*Hg\n",
    "Am=(Bg*Ag)/(Bm)*10000\n",
    "lm=round(lm,2)\n",
    "Am=round(Am,3)\n",
    "print 'The dimension Im is',lm,'cm'\n",
    "print 'The dimension Am is',Am,'cm**2'\n"
   ]
  }
 ],
 "metadata": {
  "kernelspec": {
   "display_name": "Python 2",
   "language": "python",
   "name": "python2"
  },
  "language_info": {
   "codemirror_mode": {
    "name": "ipython",
    "version": 2
   },
   "file_extension": ".py",
   "mimetype": "text/x-python",
   "name": "python",
   "nbconvert_exporter": "python",
   "pygments_lexer": "ipython2",
   "version": "2.7.10"
  }
 },
 "nbformat": 4,
 "nbformat_minor": 0
}
