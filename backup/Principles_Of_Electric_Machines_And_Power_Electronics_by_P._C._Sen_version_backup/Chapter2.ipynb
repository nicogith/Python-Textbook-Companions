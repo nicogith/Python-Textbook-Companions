{
 "cells": [
  {
   "cell_type": "markdown",
   "metadata": {},
   "source": [
    "# Chapter 2 Transformers"
   ]
  },
  {
   "cell_type": "markdown",
   "metadata": {},
   "source": [
    "## Example 2.1,Page number 47"
   ]
  },
  {
   "cell_type": "code",
   "execution_count": 83,
   "metadata": {
    "collapsed": false
   },
   "outputs": [
    {
     "name": "stdout",
     "output_type": "stream",
     "text": [
      "power absorbed= 9 W\n",
      "power taken by the speaker = 25 W\n"
     ]
    }
   ],
   "source": [
    "import math\n",
    "#given\n",
    "resimp=9                   #resistive impedance         \n",
    "inte=1                     #internal resistive impedance\n",
    "V=10                       #supply voltage\n",
    "A=1/3\n",
    "#calculations\n",
    "I=V/(inte+resimp)      #current\n",
    "P=(I**2)*resimp           #power\n",
    "R=(A**2)*(resimp)       #resistance\n",
    "I1=V/(inte+I)\n",
    "P1=(I1**2)*inte\n",
    "print 'power absorbed=',P,'W'\n",
    "print 'power taken by the speaker =',P1,'W'"
   ]
  },
  {
   "cell_type": "markdown",
   "metadata": {},
   "source": [
    "## Example 2.2,Page number 55"
   ]
  },
  {
   "cell_type": "code",
   "execution_count": 9,
   "metadata": {
    "collapsed": false
   },
   "outputs": [
    {
     "name": "stdout",
     "output_type": "stream",
     "text": [
      "turns ratio 10\n",
      "Power factor at no load= 0.182\n",
      "Power factor at short-circuit condition= 0.315\n"
     ]
    }
   ],
   "source": [
    "import math\n",
    "#given\n",
    "Vh=220                  #Full-rate voltage\n",
    "Ih=4.55                 #ammeter readings \n",
    "Wl=100                  #wattmeter readings\n",
    "Vl=150                  #voltmeter readings\n",
    "Il=2.5                  #ammeter reading for open-circuit test\n",
    "Wh=215                  #wattmeter reading for short-circuit test\n",
    "Vhrated=2200            #supply voltage to high-voltage winding\n",
    "Vlrated=220             #supply voltage to low-voltage winding\n",
    "Ihrated=4.55            #current to high-voltage winding\n",
    "Ilrated=45.5            #current to low-voltage winding\n",
    "#calculations\n",
    "Rcl=Vlrated**2/Wl\n",
    "Poc=(Vlrated**2/Rcl)    #power\n",
    "Icl=Vlrated/Rcl\n",
    "Iml=(Il**2-Icl**2)**(1/2)\n",
    "Xml=Vlrated/Iml\n",
    "A=Vhrated/Vlrated       #turns ratio\n",
    "Rch=A**2*Rcl\n",
    "Xmh=A**2*Xml\n",
    "Reqh=215/Ihrated**2\n",
    "Psc=Ihrated**2*Reqh\n",
    "Zeqh=Vl/Ihrated\n",
    "Xeqh=(Zeqh**2-Reqh**2)**(1/2)\n",
    "Reql=Reqh/A**2\n",
    "Xeql=Xeqh/A**2\n",
    "P=(Poc/(Vlrated*Il))     #power factor at no load\n",
    "Psh=(Psc/(Vl*Ihrated))\n",
    "P=round(P,3)\n",
    "Psh=round(Psh,3)\n",
    "print 'turns ratio',A\n",
    "print 'Power factor at no load=',P\n",
    "print 'Power factor at short-circuit condition=',Psh"
   ]
  },
  {
   "cell_type": "markdown",
   "metadata": {},
   "source": [
    "## Example 2.3,Page number 60"
   ]
  },
  {
   "cell_type": "code",
   "execution_count": 10,
   "metadata": {
    "collapsed": false
   },
   "outputs": [
    {
     "name": "stdout",
     "output_type": "stream",
     "text": [
      "voltage regulated for lagging condition is 4.85 %\n",
      "voltage regulated for leading condition is -2.82 %\n"
     ]
    }
   ],
   "source": [
    "import math\n",
    "#given\n",
    "Fullload=75\n",
    "Ia=4.55\n",
    "Vl=2200\n",
    "Fulload=Fullload/100\n",
    "Ih=Fullload*Ia \n",
    "#for a lagging power factor load,theta=-53.13\n",
    "(x1,y1)=(2200,0)\n",
    "(x2,y2)=(21.276,-28.3679619921)                                # x=r*cos(theta*pi/180)\n",
    "(x3,y3)=(85.3838856013,64.0381525313)                          # y=r*sin(theta*pi/180\n",
    "X1=complex(x1,y1)\n",
    "X2=complex(x2,y2)\n",
    "X3=complex(x3,y3)\n",
    "X=X1+X2+X3\n",
    "(V,Angle)=(2306.77580161,0.886008041)                          # r=sqrt(x^2+y^2)\n",
    "VolReg1=(V-Vl)/Vl*100                                           # theta=atan(y/x)*180/pi\n",
    "#for leading power factor load,theta=53.13\n",
    "(x1,y1)=(2200,0)\n",
    "(x2,y2)=(21.276050677,28.3679619921)\n",
    "(x3,y3)=(-85.3838856013,64.0381525313)\n",
    "X1=complex(x1,y1)\n",
    "X2=complex(x2,y2)\n",
    "X3=complex(x3,y3)\n",
    "X=X1+X2+X3\n",
    "(V1,Angle1)=(2137.88770802,2.47710842)\n",
    "VolReg2=(V1-Vl)/Vl*100\n",
    "VolReg1=round(VolReg1,2)\n",
    "VolReg2=round(VolReg2,2)\n",
    "print 'voltage regulated for lagging condition is',VolReg1,'%'\n",
    "print 'voltage regulated for leading condition is',VolReg2,'%'"
   ]
  },
  {
   "cell_type": "markdown",
   "metadata": {},
   "source": [
    "## Example 2.4,Page number 64"
   ]
  },
  {
   "cell_type": "code",
   "execution_count": 13,
   "metadata": {
    "collapsed": false
   },
   "outputs": [
    {
     "name": "stdout",
     "output_type": "stream",
     "text": [
      "effeciency of the circuit is 95.32 %\n",
      "maximum effeciency of the circuit is 97.0 %\n"
     ]
    }
   ],
   "source": [
    "import math\n",
    "#given\n",
    "V=0.75\n",
    "I=10000       #current\n",
    "A=0.6         #power factor\n",
    "Pc=100        #power\n",
    "Reqh=10.4     #equivalent resistance\n",
    "#calculations\n",
    "Ih=(0.75*4.55)**2\n",
    "Reql=0.104\n",
    "V2=220\n",
    "B=1\n",
    "Pout=V*I*A\n",
    "Pcu=(Ih*Reqh)\n",
    "Eff=Pout/(Pout+Pc+Pcu)\n",
    "Eff=Pout/(Pout+Pc+Pcu)*100\n",
    "I2=31\n",
    "Pout1=V2*I2*B\n",
    "Eff1=(Pout1/(Pout1+Pc+Pcu))*100\n",
    "Eff=round(Eff,2)\n",
    "Eff1=round(Eff1,0)\n",
    "print 'effeciency of the circuit is',Eff,'%'\n",
    "print 'maximum effeciency of the circuit is',Eff1,'%'"
   ]
  },
  {
   "cell_type": "markdown",
   "metadata": {},
   "source": [
    "## Example 2.5,Page number 66"
   ]
  },
  {
   "cell_type": "code",
   "execution_count": 14,
   "metadata": {
    "collapsed": false
   },
   "outputs": [
    {
     "name": "stdout",
     "output_type": "stream",
     "text": [
      "efficiency is 98.35 %\n"
     ]
    }
   ],
   "source": [
    "import math\n",
    "#given\n",
    "Power=50     #given power in kVA\n",
    "Lo1=0.5      #load 1\n",
    "Lo2=0.75     #load 2\n",
    "Lo3=1        #load 3\n",
    "Lo4=1.1      #load 4\n",
    "Pf1=1        #power factor 1\n",
    "Pf2=0.8      #power factor 2\n",
    "Pf3=0.9      #power factor 3\n",
    "Pf4=1        #power factor 4\n",
    "Ho1=6        #hours for load 1\n",
    "Ho2=6        #hours for load 2\n",
    "Ho3=3        #hours for load 3\n",
    "Ho4=3        #hours for load 4\n",
    "Ho=6         #total hours\n",
    "Pc=200.0       #core-loss at rated voltage\n",
    "Pcu=500.0      #copper loss ar rated voltage\n",
    "#calculations\n",
    "EngOut=(Lo1*Power*Ho1*Pf1)+(Lo2*Power*Ho2*Pf2)+(Lo3* Power*Ho3*Pf3)+(Lo4*Power*Ho4*Pf4)\n",
    "A=Pc/1000.0\n",
    "TotalHour=Ho+Ho1+Ho2+Ho3+Ho4\n",
    "Coreloss=A*TotalHour\n",
    "B=Pcu/1000.0\n",
    "Copperloss=(Lo1**2*B*Ho1)+(Lo2**2*B*Ho2)+(Lo3**2*B*Ho3)+(Lo4**2*B*Ho4) \n",
    "Totalloss=Coreloss+Copperloss\n",
    "Eff=EngOut/(EngOut+Totalloss)*100\n",
    "Eff=round(Eff,2)\n",
    "print 'efficiency is',Eff,'%'"
   ]
  },
  {
   "cell_type": "markdown",
   "metadata": {},
   "source": [
    "## Example  2.6,Page number 67"
   ]
  },
  {
   "cell_type": "code",
   "execution_count": 15,
   "metadata": {
    "collapsed": false
   },
   "outputs": [
    {
     "name": "stdout",
     "output_type": "stream",
     "text": [
      "kVA rating|l= 1100\n",
      "kVA rating|h= 1100\n"
     ]
    }
   ],
   "source": [
    "import math\n",
    "#given\n",
    "P=100000\n",
    "Vs=2000\n",
    "Vp=200\n",
    "Ih=500     #Terminal currents\n",
    "Vl=2000\n",
    "#calculations\n",
    "Iab=P/Vp\n",
    "Ibc=P/Vs\n",
    "Il=Ih+50 \n",
    "Vh=Vl+200\n",
    "Kva1=(Vl*Il)/(1000)\n",
    "Kva2=(Vh*Ih)/(1000)\n",
    "print 'kVA rating|l=',Kva1\n",
    "print 'kVA rating|h=',Kva2"
   ]
  },
  {
   "cell_type": "markdown",
   "metadata": {},
   "source": [
    "## Example 2.7,Page number 15"
   ]
  },
  {
   "cell_type": "code",
   "execution_count": 16,
   "metadata": {
    "collapsed": false
   },
   "outputs": [
    {
     "name": "stdout",
     "output_type": "stream",
     "text": [
      " voltage regulation= 1.41 %\n"
     ]
    }
   ],
   "source": [
    "import math\n",
    "from math import sqrt,pi\n",
    "#given\n",
    "Power=120000\n",
    "Phase=3\n",
    "V=230                               #voltage\n",
    "Pri=2300                            #primary\n",
    "Sec=230                             #secondary\n",
    "Z=complex(0.012,0.016)                     #impedance\n",
    "Pf=0.85\n",
    "#calculations\n",
    "Is=Power/(sqrt(Phase)*V)           #current\n",
    "I2=Is/sqrt(Phase)\n",
    "a=Pri/V\n",
    "I1=I2/a\n",
    "Zeq=(Z)*10**2\n",
    "a=math.acos(Pf)\n",
    "Deg=(a*180)/pi\n",
    "a=Pri\n",
    "b=0                                         #(a,b) in cartesian co-ordinates\n",
    "A=complex(a,b)\n",
    "c=I1*math.cos(-Deg*pi/180)\n",
    "d=I1*math.sin(-Deg*pi/180)                             #(c,d) in cartesian form\n",
    "A1=complex(c,d)\n",
    "A2=A1*(Zeq)\n",
    "A3=A2+A\n",
    "V1=2332.4\n",
    "PriVol=sqrt(Phase)*V1\n",
    "VR=(V1-Pri)/Pri*100\n",
    "VR=round(VR,2)\n",
    "print ' voltage regulation=',VR,'%'"
   ]
  },
  {
   "cell_type": "markdown",
   "metadata": {},
   "source": [
    "## Example 2.8,Page number 74"
   ]
  },
  {
   "cell_type": "code",
   "execution_count": 21,
   "metadata": {
    "collapsed": false
   },
   "outputs": [
    {
     "name": "stdout",
     "output_type": "stream",
     "text": [
      "Required supply voltage= 2437.0 V\n"
     ]
    }
   ],
   "source": [
    "import math\n",
    "from math import sqrt,pi\n",
    "#given\n",
    "Pri=1330.0            #primary voltage\n",
    "Sec=230.0             #secondary voltage\n",
    "Zl=complex(0.12,0.25)\n",
    "Phase=3.0            #phase\n",
    "V=230.0              #voltage supplied\n",
    "Z=complex(0.8,5.0)   #impedance per phase\n",
    "Power=27.0\n",
    "Zz=complex(0.003,0.015)\n",
    "Pf=0.9\n",
    "#calculations\n",
    "A=(Pri/Sec)**2*(Zl)\n",
    "Req=4.01\n",
    "Xeqh=8.36\n",
    "a=(sqrt(Phase)*Pri)/V\n",
    "V=1407.0\n",
    "Reql=0.8\n",
    "Xeql=5.0\n",
    "Rr=0.003\n",
    "Xx=0.015\n",
    "R=(Reql+Req)*(1/10**2)+Rr\n",
    "X=(Xeql+Xeqh)*(1/10**2)+Xx\n",
    "Vl=V*sqrt(Phase)\n",
    "Il=(Power*10**3)/(Phase*133)\n",
    "Angle=-math.acos(pi*Pf/180)\n",
    "Vl=round(Vl,0)\n",
    "print 'Required supply voltage=',Vl,'V'"
   ]
  },
  {
   "cell_type": "markdown",
   "metadata": {},
   "source": [
    "## Example 2.9,Page number 86"
   ]
  },
  {
   "cell_type": "code",
   "execution_count": 31,
   "metadata": {
    "collapsed": false
   },
   "outputs": [
    {
     "name": "stdout",
     "output_type": "stream",
     "text": [
      "Ibase,H= 4.55 A\n",
      "Ibase,L= 45.45 A\n",
      "Zbase,H= 484.0 ohms\n",
      "Zbase,L= 4.84 ohms\n",
      "equivalent impedance|l= (0.104+0.313j) ohms\n",
      "Pcu= 215.0 W\n",
      "Full-load copper loss = 0.021 pu\n",
      "voltage regulation= 4.86 %\n"
     ]
    }
   ],
   "source": [
    "import math\n",
    "#given\n",
    "Vh=2200.0\n",
    "Vl=220.0            \n",
    "Pb=10000.0\n",
    "I=0.25                     #current    \n",
    "a=10.0         \n",
    "Z=complex(10.4,31.3)      #impedance\n",
    "#calculations\n",
    "Ib=Pb/Vh           #base-current\n",
    "Il=Pb/Vl           #current at low-voltage side\n",
    "Zb=Vh/Ib           #base-impedance\n",
    "Zl=Vl/Il           #impedance at low-voltage side\n",
    "Ih=I/Ib            #current at high-voltage side\n",
    "Zeq=Z/Zb           #equivalent impedance\n",
    "Zeql=Z*(0.01)\n",
    "Zpu=Zeql/Zl\n",
    "Pcu=Ib**2.0*10.4\n",
    "Ppu=Pcu/Pb\n",
    "vr=(1.0486-1.0)*100\n",
    "Ppu=round(Ppu,3)\n",
    "Ib=round(Ib,2)\n",
    "Il=round(Il,2)\n",
    "Zb=round(Zb,2)\n",
    "Zl=round(Zl,2)\n",
    "Pcu=round(Pcu,0)\n",
    "print 'Ibase,H=',Ib,'A'\n",
    "print 'Ibase,L=',Il,'A'\n",
    "print 'Zbase,H=',Zb,'ohms'\n",
    "print 'Zbase,L=',Zl,'ohms'\n",
    "print 'equivalent impedance|l=',Zeql,'ohms'\n",
    "print 'Pcu=',Pcu,'W'\n",
    "print 'Full-load copper loss =',Ppu,'pu'\n",
    "print 'voltage regulation=',vr,'%'"
   ]
  }
 ],
 "metadata": {
  "kernelspec": {
   "display_name": "Python 2",
   "language": "python",
   "name": "python2"
  },
  "language_info": {
   "codemirror_mode": {
    "name": "ipython",
    "version": 2
   },
   "file_extension": ".py",
   "mimetype": "text/x-python",
   "name": "python",
   "nbconvert_exporter": "python",
   "pygments_lexer": "ipython2",
   "version": "2.7.10"
  }
 },
 "nbformat": 4,
 "nbformat_minor": 0
}
