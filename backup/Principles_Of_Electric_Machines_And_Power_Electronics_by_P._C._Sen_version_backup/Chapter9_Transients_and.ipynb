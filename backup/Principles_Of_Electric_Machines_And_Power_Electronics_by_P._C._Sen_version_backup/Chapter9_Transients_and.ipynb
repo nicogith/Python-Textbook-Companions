{
 "cells": [
  {
   "cell_type": "markdown",
   "metadata": {},
   "source": [
    "# Chapter 9 Transients and Dynamics"
   ]
  },
  {
   "cell_type": "markdown",
   "metadata": {},
   "source": [
    "## Example 9.1,Pg.no 460"
   ]
  },
  {
   "cell_type": "code",
   "execution_count": 14,
   "metadata": {
    "collapsed": false
   },
   "outputs": [
    {
     "name": "stdout",
     "output_type": "stream",
     "text": [
      "time required to rise to 90% value is 0.575 sec\n",
      "Armature current as a function of time is 0.136 sec\n"
     ]
    }
   ],
   "source": [
    "import math\n",
    "from math import sqrt,pi,log\n",
    "#given parameters\n",
    "Rf=100      #resistance in ohms\n",
    "Lf=25       #inductance\n",
    "Ra=0.25     #armature resistance in ohms\n",
    "Laq=0.02    #inductance in Henry\n",
    "Kg=100      #in volts per field ampere at rated speed\n",
    "Ll=0.15     #load-inductance\n",
    "V=200       #field circuit voltage\n",
    "Rl=1        #load resistance\n",
    "#calculations\n",
    "tow=Lf/Kg   #field circuit time constance\n",
    "log(0.1)\n",
    "t=2.30/4\n",
    "Towat=(Ll+Laq)/(Rl+Ra)\n",
    "print 'time required to rise to 90% value is',t,'sec'\n",
    "print 'Armature current as a function of time is',Towat,'sec'"
   ]
  },
  {
   "cell_type": "markdown",
   "metadata": {},
   "source": [
    "## Example 9.3,Pg.no 475"
   ]
  },
  {
   "cell_type": "code",
   "execution_count": 15,
   "metadata": {
    "collapsed": false
   },
   "outputs": [
    {
     "name": "stdout",
     "output_type": "stream",
     "text": [
      "dc offset current= 7.64 pu\n",
      "RMS Value at t=0.1sec 6.7 pu\n"
     ]
    }
   ],
   "source": [
    "import math\n",
    "from math import pi,sqrt,exp\n",
    "#Given parameters\n",
    "Xd=0.9    #in pu\n",
    "Vt=1.0    #prefault condition\n",
    "Ia=1.0\n",
    "Xd1=0.4\n",
    "Xd2=0.2\n",
    "Ta=0.2\n",
    "Td1=4.0\n",
    "Td2=0.6\n",
    "t=0.1   #time given\n",
    "x=Ia*math.cos(-25.8*pi/180)   #rectangular to polar conversion\n",
    "y=Ia*math.sin(-25.8*pi/180)\n",
    "X=complex(x,y)\n",
    "x1=Xd*math.cos(90*pi/180)\n",
    "y1=Xd*math.sin(90*pi/180)\n",
    "X1=complex(x1,y1)\n",
    "A=Vt+(X*X1)\n",
    "Ei=1.39*math.cos(0.81*pi/180)\n",
    "Angle=1.39*math.sin(0.81*pi/180)\n",
    "(x2,y2)=(Xd1 ,90)\n",
    "X2=complex(x2,y2)\n",
    "(Ei2,Angle1)=(1.17,0.36)\n",
    "(x3,y3)=(Xd2 ,90)\n",
    "X3=complex(x3,y3)\n",
    "(Ei2,Angle2)=(1.08,0.10)\n",
    "Idc=sqrt(2)*(Ei2/Xd2)      #initial value of the dc offset current\n",
    "Td1=(Xd1/Xd)*Td1\n",
    "Td2=(Xd2/Xd1)*Td2\n",
    "Isc1=sqrt(2)*(Td1+1.29*exp(-0.562*0.1)+2.42*exp(-3.3*0.1))+7.78*exp(-5*0.1)\n",
    "Isc=sqrt(4.75**2+4.72**2)\n",
    "Isc=round(Isc,1)\n",
    "Idc=round(Idc,2)\n",
    "print 'dc offset current=',Idc,'pu'\n",
    "print 'RMS Value at t=0.1sec',Isc,'pu' "
   ]
  }
 ],
 "metadata": {
  "kernelspec": {
   "display_name": "Python 2",
   "language": "python",
   "name": "python2"
  },
  "language_info": {
   "codemirror_mode": {
    "name": "ipython",
    "version": 2
   },
   "file_extension": ".py",
   "mimetype": "text/x-python",
   "name": "python",
   "nbconvert_exporter": "python",
   "pygments_lexer": "ipython2",
   "version": "2.7.10"
  }
 },
 "nbformat": 4,
 "nbformat_minor": 0
}
