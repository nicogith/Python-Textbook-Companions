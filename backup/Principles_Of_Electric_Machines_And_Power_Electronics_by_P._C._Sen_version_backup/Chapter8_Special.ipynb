{
 "cells": [
  {
   "cell_type": "markdown",
   "metadata": {},
   "source": [
    "# Chapter 8 Special Machines"
   ]
  },
  {
   "cell_type": "markdown",
   "metadata": {},
   "source": [
    "## Example 8.1,Pg.no 430"
   ]
  },
  {
   "cell_type": "code",
   "execution_count": 21,
   "metadata": {
    "collapsed": false
   },
   "outputs": [
    {
     "name": "stdout",
     "output_type": "stream",
     "text": [
      "Transfer function= 2.732 /s(1+s* 0.016 )\n"
     ]
    }
   ],
   "source": [
    "import math\n",
    "from math import pi\n",
    "#Given\n",
    "V=115.0    #voltage given to control phase winding \n",
    "N=3000.0   # in rpm\n",
    "F=60.0     #frequency in Hz\n",
    "J=10**-5\n",
    "T=0.2 \n",
    "#alculations\n",
    "Km=T/V\n",
    "Wm=(N*2*pi/F)\n",
    "Fm=T/Wm\n",
    "Tm=J/Fm\n",
    "A=Km/Fm\n",
    "Kmv=A*V\n",
    "KmvT=A*Tm\n",
    "A=round(A,3)\n",
    "Tm=round(Tm,3)\n",
    "#tf=A/s(1+Tm*s)\n",
    "print 'Transfer function=',A,'/s(1+s*',Tm,')'"
   ]
  },
  {
   "cell_type": "markdown",
   "metadata": {},
   "source": [
    "## Example 8.3,Pg.no 447"
   ]
  },
  {
   "cell_type": "code",
   "execution_count": 22,
   "metadata": {
    "collapsed": false
   },
   "outputs": [
    {
     "name": "stdout",
     "output_type": "stream",
     "text": [
      "maximum voltage= 90.0 V\n",
      "current rating of the transistor is 3.0 A\n"
     ]
    }
   ],
   "source": [
    "import math\n",
    "from math import pi\n",
    "#Given\n",
    "Rw=1.0          #resistance\n",
    "Lw=30.0         #average phase winding inductance\n",
    "I=3.0           #rated winding current\n",
    "TimeOn=2.0      #electrical time constant at turnon\n",
    "RF=0.0675\n",
    "StepRate=300.0  #stepping rate \n",
    "Turns=100.0     #no.of turns\n",
    "TimeOff=1.0     #electrical time constant at turnoff\n",
    "PeakI=3.0\n",
    "#calculations\n",
    "R=Lw/TimeOn            #turn-on time constant\n",
    "Rext=R-TimeOff\n",
    "Prext=(I**Rext)\n",
    "Vs=I*R                 #required dc supply voltage\n",
    "Rext=R-Rw\n",
    "R1=Lw/TimeOff          #turn-off time constant\n",
    "Rf=R1-R\n",
    "V=45                   #voltage across the diode\n",
    "Energy=(1/2*Lw*I**2)   #energy stored in phasewinding\n",
    "Power=Turns*Rf\n",
    "Power=Turns*RF\n",
    "Vc=V+(PeakI*R)\n",
    "print 'maximum voltage=',Vc,'V'\n",
    "print 'current rating of the transistor is',I,'A'"
   ]
  },
  {
   "cell_type": "markdown",
   "metadata": {},
   "source": [
    "## Example 8.4,Pg.no 449"
   ]
  },
  {
   "cell_type": "code",
   "execution_count": 23,
   "metadata": {
    "collapsed": false
   },
   "outputs": [
    {
     "name": "stdout",
     "output_type": "stream",
     "text": [
      "stored energy= 135.0 mJ\n",
      "Proportion of energy returned to supply= 60.0 %\n"
     ]
    }
   ],
   "source": [
    "import math\n",
    "from math import pi,exp\n",
    "#Given\n",
    "Lw=30           #average winding inductance in mH\n",
    "R=15            #total resistance in each phase\n",
    "Ia=3            #rated current\n",
    "V=45            #dc supply\n",
    "#calculations\n",
    "Tow=Lw/R\n",
    "t1=0.7*Tow\n",
    "a=81\n",
    "Energy=(0.5)*Lw*(Ia**2) \n",
    "ProEnergy=(a/Energy)*100\n",
    "print 'stored energy=',Energy,'mJ'\n",
    "print 'Proportion of energy returned to supply=',ProEnergy,'%'"
   ]
  }
 ],
 "metadata": {
  "kernelspec": {
   "display_name": "Python 2",
   "language": "python",
   "name": "python2"
  },
  "language_info": {
   "codemirror_mode": {
    "name": "ipython",
    "version": 2
   },
   "file_extension": ".py",
   "mimetype": "text/x-python",
   "name": "python",
   "nbconvert_exporter": "python",
   "pygments_lexer": "ipython2",
   "version": "2.7.10"
  }
 },
 "nbformat": 4,
 "nbformat_minor": 0
}
