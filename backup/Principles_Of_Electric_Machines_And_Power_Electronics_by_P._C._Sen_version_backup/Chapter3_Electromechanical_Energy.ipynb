{
 "cells": [
  {
   "cell_type": "markdown",
   "metadata": {},
   "source": [
    "# Chapter 3 Electromechanical Energy Conversion"
   ]
  },
  {
   "cell_type": "markdown",
   "metadata": {},
   "source": [
    "## Example 3.1,Page number 99"
   ]
  },
  {
   "cell_type": "code",
   "execution_count": 9,
   "metadata": {
    "collapsed": false
   },
   "outputs": [
    {
     "name": "stdout",
     "output_type": "stream",
     "text": [
      "Voltage of the dc source= 167.2 volts\n",
      "Total field energy= 20.94 joules\n"
     ]
    }
   ],
   "source": [
    "import math\n",
    "from math import pi\n",
    "#given\n",
    "Hc=670                                                           #magnetic field intensity in the core material in At/m\n",
    "G=5\n",
    "D=10\n",
    "A=5\n",
    "B=10\n",
    "Bg=1\n",
    "Z=0.00000125663         \n",
    "N=250\n",
    "Area=700\n",
    "Lc=2*(A+B)+2*(G+D)                                               #length of the flux path in the core\n",
    "#calculations\n",
    "Hg=Bg/Z\n",
    "Lc=0.6\n",
    "Hg=Bg/Z                                                          #magnetic intensity in the air gap\n",
    "Ni=(Hc*Lc)+(Hg*10**-2)\n",
    "I=Ni/N\n",
    "Vdc=I*G\n",
    "Wfc=Area/2                                                       #energy density in the core\n",
    "Vc=2*(G*10**-2*D*10**-2*0.20)+2*(A*10**-2*B*10**-2*0.10)\n",
    "Wfc=Wfc*Vc                                                       #stored energy in the core\n",
    "Wfg=1.0/(2*Z)                                                    #energy density in the airgap\n",
    "Vg=2*(G*10**-2*10*10**-2*0.005)\n",
    "Wfg=(Wfg*G*10**-2*10**-3)                                        #stored energy in air gap\n",
    "Wf=Wfc+Wfg\n",
    "Vdc=round(Vdc,2)\n",
    "Wf=round(Wf,2)\n",
    "print 'Voltage of the dc source=',Vdc,'volts'\n",
    "print 'Total field energy=',Wf,'joules'"
   ]
  },
  {
   "cell_type": "markdown",
   "metadata": {},
   "source": [
    "## Example 3.2,Page number 103"
   ]
  },
  {
   "cell_type": "code",
   "execution_count": 10,
   "metadata": {
    "collapsed": false,
    "scrolled": true
   },
   "outputs": [
    {
     "name": "stdout",
     "output_type": "stream",
     "text": [
      "mechanical force= -124.71 N-m\n"
     ]
    }
   ],
   "source": [
    "import math\n",
    "#given\n",
    "I=3                             #current\n",
    "G=0.05                          #air-gap length\n",
    "Lam=(0.09*I**(.5)/G)            #Lambda\n",
    "Wf=((0.09*2)/(G*I))*I**(1.5)\n",
    "Fm=-0.09*(2/3)*I**(1.5)*(1/G**2)\n",
    "Wf1=(G**2*Lam**3)/(0.09**2*I)  #The co-energy of the system\n",
    "Lam1=(0.09*I**(.5)/G)\n",
    "Fm=-((Lam1**3)*2*G)/(I*0.09**2)\n",
    "Fm=round(Fm,2)\n",
    "print 'mechanical force=',Fm,'N-m'"
   ]
  },
  {
   "cell_type": "markdown",
   "metadata": {},
   "source": [
    "## Example 3.3,Page number 106"
   ]
  },
  {
   "cell_type": "code",
   "execution_count": 11,
   "metadata": {
    "collapsed": false
   },
   "outputs": [
    {
     "name": "stdout",
     "output_type": "stream",
     "text": [
      "force of attraction= 251.327412287 N\n",
      "energy stored in the air gap= 0.251 joules\n"
     ]
    }
   ],
   "source": [
    "import math\n",
    "from math import pi\n",
    "#given\n",
    "N=500.0\n",
    "i=2.0            #current\n",
    "W=2.0            #width of airgap in cm\n",
    "D=2.0            #depth of airgap in cm\n",
    "L=1.0            #length of airgap in mm\n",
    "A=4.0*pi*10.0**-7.0\n",
    "fm=A*(((N*i)**2)/(2*L**2*10**-6))*W*D*10**-4\n",
    "W=fm*10**-3\n",
    "W=round(W,3)\n",
    "print 'force of attraction=',fm,'N'\n",
    "print 'energy stored in the air gap=',W,'joules'"
   ]
  },
  {
   "cell_type": "markdown",
   "metadata": {},
   "source": [
    "## Example 3.4,Page number 108"
   ]
  },
  {
   "cell_type": "code",
   "execution_count": 12,
   "metadata": {
    "collapsed": false
   },
   "outputs": [
    {
     "name": "stdout",
     "output_type": "stream",
     "text": [
      "stored field energy= 8.143 N\n",
      "lifting force= 216.09 N\n"
     ]
    }
   ],
   "source": [
    "import math\n",
    "from math import pi,sqrt\n",
    "#given\n",
    "A=0.00000125663\n",
    "N=300\n",
    "V=120                   #voltage\n",
    "R=6                     #resistance\n",
    "G=5*10**-3\n",
    "Ag=6*6*10**-4\n",
    "Lg=2*5*10**-3           #inductance of the coil\n",
    "Vo=2*6*6*5*10**-7\n",
    "I=V/R                   #ohm's law \n",
    "Bg=(A*N*I)/(2*G)        #RMS value of the flux density\n",
    "Wf=(Bg**2)/(2*A)*(Vo)   #field energy\n",
    "Fm=(Bg**2)/(2*A)*(2*Ag)\n",
    "L=(N**2*A*Ag)/(Lg)\n",
    "Irms=V/(sqrt(6**2+15.34**2))\n",
    "Brms=(A*N*Irms)/(2*G)\n",
    "Fm=(Brms**2)/(2*A)*(2*Ag)\n",
    "Fm=round(Fm,2)\n",
    "Wf=round(Wf,3)\n",
    "print 'stored field energy=',Wf,'N'\n",
    "print 'lifting force=',Fm,'N'"
   ]
  }
 ],
 "metadata": {
  "kernelspec": {
   "display_name": "Python 2",
   "language": "python",
   "name": "python2"
  },
  "language_info": {
   "codemirror_mode": {
    "name": "ipython",
    "version": 2
   },
   "file_extension": ".py",
   "mimetype": "text/x-python",
   "name": "python",
   "nbconvert_exporter": "python",
   "pygments_lexer": "ipython2",
   "version": "2.7.10"
  }
 },
 "nbformat": 4,
 "nbformat_minor": 0
}
