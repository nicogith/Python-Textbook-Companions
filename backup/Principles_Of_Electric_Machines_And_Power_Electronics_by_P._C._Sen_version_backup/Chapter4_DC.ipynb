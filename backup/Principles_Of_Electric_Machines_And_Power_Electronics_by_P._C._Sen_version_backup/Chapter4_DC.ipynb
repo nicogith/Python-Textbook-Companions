{
 "cells": [
  {
   "cell_type": "markdown",
   "metadata": {},
   "source": [
    "# Chapter 4 DC Machines"
   ]
  },
  {
   "cell_type": "markdown",
   "metadata": {},
   "source": [
    "## Example 4.1,Page number 139"
   ]
  },
  {
   "cell_type": "code",
   "execution_count": 57,
   "metadata": {
    "collapsed": false
   },
   "outputs": [
    {
     "name": "stdout",
     "output_type": "stream",
     "text": [
      "Armature constant,Ka= 147.06\n",
      "Induced armature voltage= 424.9 V\n",
      "Electromagnetic torque developed= 811.8 N-m\n",
      "power developed by the armature= 85.0 kW\n"
     ]
    }
   ],
   "source": [
    "import math\n",
    "from math import pi\n",
    "#given\n",
    "P=4      #power\n",
    "A=2\n",
    "Z=462     #impedance\n",
    "#calculations\n",
    "Wn=(16.66)*(2*pi)\n",
    "z=0.0276\n",
    "Icoil=100      #current in the coil\n",
    "Ka=(Z*P)/(2*2*pi)\n",
    "Ea=(Ka*0.0276*Wn)\n",
    "Ia=2*Icoil\n",
    "T=(Ka*z*Ia)     \n",
    "Pa=Ea*Ia*10**-3\n",
    "Ka=round(Ka,2)\n",
    "Ea=round(Ea,1)\n",
    "T=round(T,1)\n",
    "Pa=round(Pa,1)\n",
    "print 'Armature constant,Ka=',Ka\n",
    "print 'Induced armature voltage=',Ea,'V'\n",
    "print 'Electromagnetic torque developed=',T,'N-m'\n",
    "print 'power developed by the armature=',Pa,'kW'"
   ]
  },
  {
   "cell_type": "markdown",
   "metadata": {},
   "source": [
    "## Example 4.2,Page number 151"
   ]
  },
  {
   "cell_type": "code",
   "execution_count": 58,
   "metadata": {
    "collapsed": false
   },
   "outputs": [
    {
     "name": "stdout",
     "output_type": "stream",
     "text": [
      "terminal voltage neglecting armature effect= 88.0 volts\n",
      "full-load terminal voltage= 86.0 volts\n",
      "required field current 1.46 Amperes\n"
     ]
    }
   ],
   "source": [
    "import math\n",
    "#given\n",
    "Ia=120        #real armature current\n",
    "Vt=100        \n",
    "Ea=100        #real armature voltage\n",
    "Ra=0.1\n",
    "Ar=0.06\n",
    "EA=98\n",
    "Ifeff=1.4\n",
    "#calculations\n",
    "Vt1=Ea-(Ia*Ra)    #terminal voltage neglecting armature reaction effect\n",
    "Ifeff1=1-Ar\n",
    "V=EA-(Ia*Ra)\n",
    "Ea=(Vt)+(Ia*Ra)\n",
    "Ifactual=Ifeff+Ar\n",
    "print 'terminal voltage neglecting armature effect=',Vt1,'volts'\n",
    "print 'full-load terminal voltage=',V,'volts'\n",
    "print 'required field current',Ifactual,'Amperes'\n"
   ]
  },
  {
   "cell_type": "markdown",
   "metadata": {},
   "source": [
    "## Example 4.3,Page number 154"
   ]
  },
  {
   "cell_type": "code",
   "execution_count": 59,
   "metadata": {
    "collapsed": false
   },
   "outputs": [
    {
     "name": "stdout",
     "output_type": "stream",
     "text": [
      "critical field circuit resistance is 90.0 ohms\n"
     ]
    }
   ],
   "source": [
    "import math\n",
    "#given\n",
    "Eaa=111          #maximum generated voltage\n",
    "Ia=120           #current\n",
    "Ra=0.1           #resistance\n",
    "Rfw=80           #field resistance\n",
    "Eac=85\n",
    "If=0.5\n",
    "v=100\n",
    "#calculations\n",
    "Vt=Eaa -(Ia*Ra)     #max. value of generated voltage\n",
    "Rf=v/1\n",
    "Rfc=Rf-Rfw\n",
    "Rfcrit=Eac/If\n",
    "Rfc=Rfcrit -Rfw\n",
    "print 'critical field circuit resistance is',Rfc,'ohms'"
   ]
  },
  {
   "cell_type": "markdown",
   "metadata": {},
   "source": [
    "## Example 4.4,Page number 159"
   ]
  },
  {
   "cell_type": "code",
   "execution_count": 60,
   "metadata": {
    "collapsed": false
   },
   "outputs": [
    {
     "name": "stdout",
     "output_type": "stream",
     "text": [
      "short-circuit current of the generator= 60.0 A\n"
     ]
    }
   ],
   "source": [
    "import math\n",
    "#given\n",
    "Ia=120\n",
    "Ra=0.1\n",
    "Vt=80\n",
    "Vt1=75\n",
    "AB=17\n",
    "Ea=6\n",
    "#calculations\n",
    "V=Ia*Ra   #Ohm's law\n",
    "Ia=AB/Ra\n",
    "Ia1=Ea/Ra\n",
    "print 'short-circuit current of the generator=',Ia1,'A'"
   ]
  },
  {
   "cell_type": "markdown",
   "metadata": {},
   "source": [
    "## Example 4.5,Page number 163"
   ]
  },
  {
   "cell_type": "code",
   "execution_count": 61,
   "metadata": {
    "collapsed": false
   },
   "outputs": [
    {
     "name": "stdout",
     "output_type": "stream",
     "text": [
      "No. of series turns= 5.02 turns per pole\n"
     ]
    }
   ],
   "source": [
    "import math\n",
    "#given\n",
    "Ia=120\n",
    "Vt=100          #terminal voltage\n",
    "Rsr=0.01        #series winding Resistance \n",
    "Ra=0.1\n",
    "Ia=120\n",
    "Rf=100\n",
    "Ifeff=1.45\n",
    "If=1.01\n",
    "Nf=1200           #no.of turns per pole\n",
    "Ifar=0.06\n",
    "#calculations\n",
    "It=Ia-If\n",
    "If=(Vt+It*Rsr)/Rf\n",
    "Ea=Vt+(It*Rsr)+(Ia*Ra)\n",
    "Nsr=(Ifeff -If+Ifar)*(1200)/(It)\n",
    "Nsr=round(Nsr,2)\n",
    "print 'No. of series turns=',Nsr,'turns per pole'"
   ]
  },
  {
   "cell_type": "markdown",
   "metadata": {},
   "source": [
    "## Example 4.6,Page number 170"
   ]
  },
  {
   "cell_type": "code",
   "execution_count": 62,
   "metadata": {
    "collapsed": false
   },
   "outputs": [
    {
     "name": "stdout",
     "output_type": "stream",
     "text": [
      "effeciency at no armature reaction is 82.6 %\n",
      "effeciency with armature reaction is 82.6 %\n",
      "starting torque neglecting armature reaction is 177.98 N-m\n",
      "starting torque with armature reaction is 167.41 N-m\n"
     ]
    }
   ],
   "source": [
    "import math\n",
    "#given\n",
    "Vt=100.0          #supply voltage\n",
    "Ra=0.1          #Armature resistance\n",
    "Ia=6.0            #Armature current\n",
    "If=0.99\n",
    "Rfw=80.0\n",
    "Ia1=5.0\n",
    "Iarated=120.0\n",
    "N=1000.0           #No of rpms of the motor\n",
    "Afl=0.95\n",
    "Prot=497.5       #rotational power\n",
    "#calculations\n",
    "Eanl=Vt-(Ia*Ra)\n",
    "Rf=Vt/If\n",
    "Rfc=Rf-Rfw \n",
    "Prot=Ea*5.0         \n",
    "Eanl=Vt-(Ia*Ra)\n",
    "Eafl=Vt-(Iarated*Ra)\n",
    "Wfl=(Eafl/Eanl)*N\n",
    "Wm=(Wfl/60)*2*pi\n",
    "T=(Eafl*Iarated)/Wm \n",
    "Pout=(Eafl*Iarated)-(Prot)\n",
    "Pin=(Vt)*(Iarated+If)\n",
    "Eff=(Pout/Pin)*100.0\n",
    "Wfl1=(Eafl/Eanl)*(1/Afl)*N\n",
    "Wm1=(Wfl1/60)*(2*pi)\n",
    "T=(Eafl*Iarated)/(Wm1)\n",
    "Eff1=(Pout/Pin)*100.0\n",
    "Wm=(100/6)*(2*pi)\n",
    "Ka=Eanl/Wm \n",
    "Ia=1.5*120\n",
    "Tstart=(Ka*Ia)\n",
    "Ifeff=If-Ifar\n",
    "Ea1=93.5\n",
    "Ka1=(Ea1/Wm)\n",
    "Tstart1=(Ka1*Ia)\n",
    "Eff=round(Eff,2)\n",
    "Eff1=round(Eff1,2)\n",
    "Tstart=round(Tstart,2)\n",
    "Tstart1=round(Tstart1,2)\n",
    "print 'effeciency at no armature reaction is',Eff,'%'\n",
    "print 'effeciency with armature reaction is',Eff1,'%'\n",
    "print 'starting torque neglecting armature reaction is',Tstart,'N-m'\n",
    "print 'starting torque with armature reaction is',Tstart1,'N-m'"
   ]
  },
  {
   "cell_type": "markdown",
   "metadata": {},
   "source": [
    "## Example 4.7,Page number 172"
   ]
  },
  {
   "cell_type": "code",
   "execution_count": 63,
   "metadata": {
    "collapsed": false
   },
   "outputs": [
    {
     "name": "stdout",
     "output_type": "stream",
     "text": [
      "No.of ampere-turns 156.0 At/pole\n",
      "Nw= 4.56 turns/pole\n",
      "Speed of the motor= 1353.85 rpm\n"
     ]
    }
   ],
   "source": [
    "import math\n",
    "#given\n",
    "If=0.99\n",
    "Vt=100.0\n",
    "Ia=120.0        #current in amperes\n",
    "Ra=0.1\n",
    "Rpm1=932.0      #rpm at full load\n",
    "Rpm2=1000.0\n",
    "Ifeff=0.86\n",
    "Nf=1200.0\n",
    "rpm1=1000.0\n",
    "Ifeff1=1.32      #effective field current\n",
    "Rpm3=800.0\n",
    "EA=65.0\n",
    "#calculations\n",
    "Ea=Vt-(Ia*Ra)\n",
    "Ea1=Rpm2/Rpm1*Ea\n",
    "Ifar=If-Ifeff\n",
    "At=Nf*Ifar\n",
    "Ea2=Rpm2/Rpm3*Ea\n",
    "Nsr=(Ifeff1 -If+Ifar)*(Nf)/(Ia+If)\n",
    "Ifeff2=If-(Nsr*(Ia+If))/Nf-Ifar\n",
    "N=(Ea/EA)*Rpm2\n",
    "Nsr=round(Nsr,2)\n",
    "N=round(N,2)\n",
    "print 'No.of ampere-turns',At,'At/pole'\n",
    "print 'Nw=',Nsr,'turns/pole'\n",
    "print 'Speed of the motor=',N,'rpm'"
   ]
  },
  {
   "cell_type": "markdown",
   "metadata": {},
   "source": [
    "## Example 4.8,Page number 180"
   ]
  },
  {
   "cell_type": "code",
   "execution_count": 64,
   "metadata": {
    "collapsed": false
   },
   "outputs": [
    {
     "name": "stdout",
     "output_type": "stream",
     "text": [
      "motor armature current= 94.23 A\n",
      "Torque at speed of 3000 rpm= 150.0 N-m\n"
     ]
    }
   ],
   "source": [
    "import math\n",
    "from math import pi\n",
    "#given\n",
    "Nb=1500.0             #in rpm\n",
    "Vt=500.0              #armature voltage\n",
    "T=300.0               #torque\n",
    "k=(Vt/(Nb*0.1047))\n",
    "Ia=T/k                #armature current\n",
    "n=3000.0              #in rpm\n",
    "T=(Vt/(n*0.1047))*94.2477\n",
    "T=round(T,0)\n",
    "print 'motor armature current=',Ia,'A'\n",
    "print 'Torque at speed of 3000 rpm=',T,'N-m'"
   ]
  },
  {
   "cell_type": "markdown",
   "metadata": {},
   "source": [
    "## Example 4.9,Page number 180"
   ]
  },
  {
   "cell_type": "code",
   "execution_count": 65,
   "metadata": {
    "collapsed": false
   },
   "outputs": [
    {
     "name": "stdout",
     "output_type": "stream",
     "text": [
      "power delivered= 1.94 hp\n"
     ]
    }
   ],
   "source": [
    "from math import sqrt\n",
    "#given\n",
    "Vt=220.0                #dc supply\n",
    "Ia=25.0                 #current drawn in amperes\n",
    "Ra=0.6                #resistance\n",
    "Rsr=0.4\n",
    "Rae=0\n",
    "N=300.0                 #in rpm\n",
    "N1=200.0\n",
    "Wm=(2*pi/60)\n",
    "Hp=746.0\n",
    "#calculations\n",
    "Ea=Vt-Ia*(Ra+Rsr+Rae)\n",
    "P=Ea*Ia\n",
    "a=P/Hp\n",
    "T=(Ea*Ia)/(N*Wm)\n",
    "Ksr=T/Ia**2\n",
    "T1=(N1/N)**2*T\n",
    "P=(T1*N1*Wm)\n",
    "P=P/746\n",
    "P=round(P,2)\n",
    "print 'power delivered=',P,'hp'"
   ]
  },
  {
   "cell_type": "markdown",
   "metadata": {},
   "source": [
    "## Example 4.10,Page number 185"
   ]
  },
  {
   "cell_type": "code",
   "execution_count": 66,
   "metadata": {
    "collapsed": false
   },
   "outputs": [
    {
     "name": "stdout",
     "output_type": "stream",
     "text": [
      "current is 125.0 A\n",
      "resistance R1= 0.25 ohms\n",
      "resistance R2= 0.125 ohms\n",
      "resistance R3= 0.025 ohms\n"
     ]
    }
   ],
   "source": [
    "from math import sqrt\n",
    "#given\n",
    "Iarated=100\n",
    "Vt=100                  #dc supply voltage\n",
    "Ra=0.1                  #armature resistance\n",
    "Ia1=200\n",
    "#calculations\n",
    "Iastart=Vt/Ra\n",
    "Rae=(Vt-20)/(200)        #0.4\n",
    "Ea2=Vt-Iarated*(Ra+Rae)\n",
    "Rae2=(Vt-Ea2-20)/(200)   #0.15\n",
    "Ea3=Vt-(Ia*(Ra+Rae2))\n",
    "Ea3=Vt-Iarated*(Ra+Rae2)\n",
    "Rae3=0.025     #(Vt-Ea3 -20)/200\n",
    "Ea4=Vt-(Iarated*(Ra+Rae3))\n",
    "Rae4=-0.0375   #(Vt-Ea4 -20)/200\n",
    "Ia=(Vt-Ea4)/Ra\n",
    "R1=0.4-0.15\n",
    "R2=0.15-0.025\n",
    "R3=0.025-0\n",
    "print 'current is',Ia,'A'\n",
    "print 'resistance R1=',R1,'ohms'\n",
    "print 'resistance R2=',R2,'ohms'\n",
    "print 'resistance R3=',R3,'ohms'"
   ]
  },
  {
   "cell_type": "markdown",
   "metadata": {},
   "source": [
    "## Example 4.11,Page number 191"
   ]
  },
  {
   "cell_type": "code",
   "execution_count": 67,
   "metadata": {
    "collapsed": false
   },
   "outputs": [
    {
     "name": "stdout",
     "output_type": "stream",
     "text": [
      "Motor torque is 68.75 N-m\n",
      "power to the motor is 8265.0 W\n"
     ]
    }
   ],
   "source": [
    "import math\n",
    "from math import pi,sqrt\n",
    "#given\n",
    "Ia=40                  #current\n",
    "Ra=0.25                #resistance \n",
    "La=10                  #impedance\n",
    "ACv=265\n",
    "Angle=30\n",
    "Ka=0.18                #motor constant\n",
    "#calculations\n",
    "A=math.cos(pi*Angle/180)\n",
    "Vt=(2*sqrt(2)*ACv*A)/(pi)   #average termminal voltage\n",
    "Ea=Vt-(Ia*Ra)               #back emf\n",
    "N=Ea/Ka                     #speed in rom\n",
    "Sec=(Ka*60)/(2*pi) \n",
    "T=Sec*Ia\n",
    "P=Vt*Ia\n",
    "P=(Ia**2*Ra)+Ea*Ia\n",
    "T=round(T,2)\n",
    "P=round(P,0)\n",
    "print 'Motor torque is',T,'N-m'\n",
    "print 'power to the motor is',P,'W'"
   ]
  },
  {
   "cell_type": "markdown",
   "metadata": {},
   "source": [
    "## Example 4.12, Page number 192"
   ]
  },
  {
   "cell_type": "code",
   "execution_count": 68,
   "metadata": {
    "collapsed": false
   },
   "outputs": [
    {
     "name": "stdout",
     "output_type": "stream",
     "text": [
      "no-load speed at firing angle 30 is 1696.79 rpm\n",
      "Alfa= 19.95\n",
      "Speed regulation is 2.18 %\n"
     ]
    }
   ],
   "source": [
    "import math\n",
    "from math import pi,sqrt\n",
    "#given\n",
    "V=480           #voltage\n",
    "RPM=1800         #revolutions per minute\n",
    "Ia=16.5          #current\n",
    "Ra=0.0874         #resistance\n",
    "Ka=0.33\n",
    "Angle=30\n",
    "N=1800\n",
    "#calculations\n",
    "Vp=(V/sqrt(3))              #supply phase voltage\n",
    "Vt=(3*sqrt(6)*Vp)/(pi)      #motor terminal voltage\n",
    "Ea=Vt-(Ia*Ra)\n",
    "No=(Ea/Ka)\n",
    "A=math.cos(pi*Angle/180)\n",
    "Vt1=Vt*A\n",
    "Ea1=Vt1 -(Ia*Ra)\n",
    "No1=Ea1/Ka                  #no-load speed\n",
    "Eaf=Ka*N\n",
    "Vtf=Eaf+(Ia*Ra)\n",
    "Angle=0.94   #Vtf/Vt\n",
    "a=math.acos(Angle)\n",
    "Alfa=a*180/pi\n",
    "Eas=Vtf-(Ia*Ra)\n",
    "Eas=606.96\n",
    "Nos=Eas/Ka\n",
    "SpeedReg=(Nos-N)/N*100\n",
    "No1=round(No1,2)\n",
    "Alfa=round(Alfa,2)\n",
    "SpeedReg=round(SpeedReg,2)\n",
    "print 'no-load speed at firing angle 30 is',No1,'rpm'\n",
    "print 'Alfa=',Alfa\n",
    "print 'Speed regulation is',SpeedReg,'%'"
   ]
  },
  {
   "cell_type": "markdown",
   "metadata": {},
   "source": [
    "## Example 4.13,Page number 195"
   ]
  },
  {
   "cell_type": "code",
   "execution_count": 69,
   "metadata": {
    "collapsed": false
   },
   "outputs": [
    {
     "name": "stdout",
     "output_type": "stream",
     "text": [
      "The range of the speed is 0<N< 2200.0 rpm\n"
     ]
    }
   ],
   "source": [
    "import math\n",
    "#given\n",
    "Supv=120            #dc supply voltage\n",
    "Ia=20               #armature circuit inductance\n",
    "Ra=0.5              #armature circuit resistance\n",
    "Ka=0.05             #motor constant\n",
    "#calculations\n",
    "Vt=Ia*Ra\n",
    "A=(Vt/Supv)\n",
    "Ea=Supv -(Ia*Ra)\n",
    "N=Ea/Ka\n",
    "print 'The range of the speed is 0<N<',N,'rpm'"
   ]
  }
 ],
 "metadata": {
  "kernelspec": {
   "display_name": "Python 2",
   "language": "python",
   "name": "python2"
  },
  "language_info": {
   "codemirror_mode": {
    "name": "ipython",
    "version": 2
   },
   "file_extension": ".py",
   "mimetype": "text/x-python",
   "name": "python",
   "nbconvert_exporter": "python",
   "pygments_lexer": "ipython2",
   "version": "2.7.10"
  }
 },
 "nbformat": 4,
 "nbformat_minor": 0
}
