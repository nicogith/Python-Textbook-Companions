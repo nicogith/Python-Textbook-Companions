{
 "cells": [
  {
   "cell_type": "markdown",
   "metadata": {},
   "source": [
    "# Chapter 6 Synchronous Machines"
   ]
  },
  {
   "cell_type": "markdown",
   "metadata": {},
   "source": [
    "## Example 6.1,Pg.no 294"
   ]
  },
  {
   "cell_type": "code",
   "execution_count": 37,
   "metadata": {
    "collapsed": false
   },
   "outputs": [
    {
     "name": "stdout",
     "output_type": "stream",
     "text": [
      "overall power factor= 0.92 lagging\n",
      "synchronous motor current= 57.74 A\n",
      "synchronous motor power factor= 0.75 lead\n"
     ]
    }
   ],
   "source": [
    "import math\n",
    "from math import pi,sqrt\n",
    "#Given\n",
    "IMp=500.0                                       #induction motor load in kVA\n",
    "Pf=0.8\n",
    "Pf1=0.6\n",
    "SMp=300.0                                       #synchronous motor load in kVA           \n",
    "Pfs=1.0\n",
    "P1=400.0\n",
    "P2=4.0\n",
    "#calculations\n",
    "Power=IMp*Pf                                    #induction motor power\n",
    "RecPower=IMp*Pf1                                #induction reactance power\n",
    "SyPower=SMp*Pfs                                 #synchronous motor power\n",
    "TotalPower=Power+SyPower\n",
    "ComplesPower=sqrt(TotalPower**2+RecPower**2)    #complex power\n",
    "PowerFactor=(TotalPower/ComplesPower)\n",
    "Power1=sqrt(Power**2-RecPower**2)\n",
    "KVAR=RecPower-Power1\n",
    "NewKVA=sqrt(TotalPower**2+KVAR)\n",
    "PowerFactor1=(TotalPower/NewKVA)\n",
    "Ism=P1/(sqrt(3)*P2)\n",
    "PowerfactorSYS=SyPower/P1\n",
    "PowerFactor=round(PowerFactor,2)\n",
    "PowerfactorSYS=round(PowerfactorSYS,3)\n",
    "Ism=round(Ism,2)\n",
    "print 'overall power factor=',PowerFactor,'lagging'\n",
    "print 'synchronous motor current=',Ism,'A'\n",
    "print 'synchronous motor power factor=',PowerfactorSYS,'lead'"
   ]
  },
  {
   "cell_type": "markdown",
   "metadata": {},
   "source": [
    "## Example 6.2,Pg.no 312"
   ]
  },
  {
   "cell_type": "code",
   "execution_count": 38,
   "metadata": {
    "collapsed": false
   },
   "outputs": [
    {
     "name": "stdout",
     "output_type": "stream",
     "text": [
      "synchronous unsaturated impedance= 21.209 ohms\n",
      "synchronous unsaturated reactance= 1.082 pu\n",
      "synchronous saturated impedance= 16.496 ohms\n",
      "synchronous saturated reactance= 0.842 pu\n",
      "field-current from modified airgap line= 333.539 A\n"
     ]
    }
   ],
   "source": [
    "import math\n",
    "from math import pi,sqrt\n",
    "#Given\n",
    "V=14000.0                               #supply voltage\n",
    "Phase=3.0                               #phase\n",
    "Ra=0.07                                 #armature resistance(ohm/phase)\n",
    "V1=10.0                         \n",
    "Is=490.0                                #short-circuit current(A)\n",
    "Pf=0.8                                  #power factor\n",
    "If=200.0\n",
    "Vl=18000.0\n",
    "Vb=V/sqrt(Phase)                         #Base-voltage\n",
    "Ib=(V1*10**6)/(sqrt(Phase)*V)            #Base-current\n",
    "Zb=Vb/Ib                                 #Base-impedance\n",
    "Zsun=(Vl/sqrt(3))/Is                     #synchronous unsaturated impedance\n",
    "Xsun=sqrt(Zsun**2-Ra**2)                 #synchronous unsaturated reactance in ohms\n",
    "Xsun=Xsun/Zb                             #synchronous unsaturated reactance in pu\n",
    "Zssa=(V/sqrt(3))/Is                      #saturated impedance\n",
    "Xssa=Zssa/Zb                             #saturated reactance\n",
    "a=math.cos(0.8)\n",
    "Deg=a*180/pi\n",
    "Zs=Zssa/Ra\n",
    "Zs=math.atan(Zs)\n",
    "Angle=Zs*180/pi\n",
    "(a,b)=(1,0)\n",
    "X1=complex(a,b)\n",
    "(c,d)=(1,-36.9)\n",
    "X2=complex(c,d)\n",
    "(e,f)=(0.85,89.8)\n",
    "X3=complex(e,f)\n",
    "X=X1+(X2*X3)\n",
    "(I,Angle)=(1.66769301731,22.5670091)\n",
    "Ef=I*V\n",
    "Zsun=round(Zsun,3)\n",
    "Xsun=round(Xsun,3)\n",
    "Zssa=round(Zssa,3)\n",
    "Xssa=round(Xssa,3)\n",
    "If=round(I*If,3)\n",
    "print 'synchronous unsaturated impedance=',Zsun,'ohms'\n",
    "print 'synchronous unsaturated reactance=',Xsun,'pu'\n",
    "print 'synchronous saturated impedance=',Zssa,'ohms'\n",
    "print 'synchronous saturated reactance=',Xssa,'pu'\n",
    "print 'field-current from modified airgap line=',If,'A'"
   ]
  },
  {
   "cell_type": "markdown",
   "metadata": {},
   "source": [
    "## Example 6.3,Pg.no 319"
   ]
  },
  {
   "cell_type": "code",
   "execution_count": 39,
   "metadata": {
    "collapsed": false
   },
   "outputs": [
    {
     "name": "stdout",
     "output_type": "stream",
     "text": [
      "Excitation voltage= 206.7 V/phase\n",
      "Power angle= 25.41 degrees\n",
      "Reactive kVA= 5.02\n",
      "Power factor at max.power transfer condition= 0.84 lead\n"
     ]
    }
   ],
   "source": [
    "import math\n",
    "from math import pi,sqrt\n",
    "#Given\n",
    "V=208.0               \n",
    "Poles=4.0\n",
    "F=60.0                                  #frequency\n",
    "Phase=3.0                               #phase\n",
    "Vol=5000.0\n",
    "Xs=8.0\n",
    "Vt=V/sqrt(Phase)\n",
    "Ia=Vol/(sqrt(Phase)*V)                  #stator-current at rated kVA\n",
    "(x1,y1)=(Vt,0)\n",
    "(x2,y2)=(Ia,-36.9)\n",
    "(x3,y3)=(8,90)\n",
    "X1=complex(x1,0)\n",
    "X2=complex(x2,y2)\n",
    "X3=complex(x3,y3)\n",
    "X=X1+(X2*X3)\n",
    "(Ef,Angle)=(206.69925012,25.4120998)\n",
    "Newvol=1.2*Ef\n",
    "(x1,y1)=(231.5,88.87)\n",
    "(x2,y2)=(Vt,0)\n",
    "(x3,y3)=(0,Xs)\n",
    "X1=complex(x1,y1)\n",
    "X1=complex(x2,y2)\n",
    "X1=complex(x3,y3)\n",
    "X=(X1-X2)/X3\n",
    "(Ia,Angle1)=(17.8,-51.4) \n",
    "Pf=math.cos(pi*51.5/180)\n",
    "a=math.sin(pi*51.5/180)\n",
    "ReactiveKva=(Phase*Vt*Ia*a*(10**-3))\n",
    "Pmax=(Phase*Ef*Vt)/Xs\n",
    "(x1,y1)=(0,206.9)      \n",
    "(x2,y2)=(120,0)\n",
    "(x3,y3)=(0,8)\n",
    "X1=complex(x1,y1)\n",
    "X2=complex(x2,y2)\n",
    "X3=complex(x3,y3)\n",
    "X=(X1-X2)/X3\n",
    "(Ia,Angle2)=(29.8,30.17)\n",
    "math.tan=Vt/Ef\n",
    "Ang=math.tan*180/pi\n",
    "Pf=math.cos(pi*Ang/180)\n",
    "Pf=round(Pf,2)\n",
    "Ef=round(Ef,2)\n",
    "Angle=round(Angle,2)\n",
    "R=round(ReactiveKva,2)\n",
    "print 'Excitation voltage=',Ef,'V/phase'\n",
    "print 'Power angle=',Angle,'degrees'\n",
    "print 'Reactive kVA=',R\n",
    "print 'Power factor at max.power transfer condition=',Pf,'lead'\n"
   ]
  },
  {
   "cell_type": "markdown",
   "metadata": {},
   "source": [
    "## Example 6.4,Pg.no 322"
   ]
  },
  {
   "cell_type": "code",
   "execution_count": 40,
   "metadata": {
    "collapsed": false
   },
   "outputs": [
    {
     "name": "stdout",
     "output_type": "stream",
     "text": [
      "Excitation voltage= 137.2 V/phase\n",
      "Maximum torque= 32.8 N-m\n"
     ]
    }
   ],
   "source": [
    "import math\n",
    "from math import pi,sqrt\n",
    "#Given\n",
    "V=208.0             #voltage \n",
    "F=60.0              #frequency in Hz\n",
    "Phase=3.0           #Phase\n",
    "Power=3000.0        #power\n",
    "Xs=8.0              \n",
    "Vt=V/sqrt(Phase)\n",
    "Ia=Power/(Phase*Vt)\n",
    "(x1,y1)=(120,0)\n",
    "(x2,y2)=(8.33,0)\n",
    "(x3,y3)=(-2.39,-7.63)\n",
    "X=X1-(X2*X3)\n",
    "(Ef,Angle)=(137.2,-1.54)\n",
    "Pmax=(Phase*Ef*Vt)/Xs\n",
    "Ws=(1800/F)*2*pi\n",
    "Tmax=Pmax/Ws\n",
    "Tmax=round(Tmax,1)\n",
    "print 'Excitation voltage=',Ef,'V/phase'\n",
    "print 'Maximum torque=',Tmax,'N-m'"
   ]
  },
  {
   "cell_type": "markdown",
   "metadata": {},
   "source": [
    "## Example 6.5,Pg.no 323"
   ]
  },
  {
   "cell_type": "code",
   "execution_count": 41,
   "metadata": {
    "collapsed": false
   },
   "outputs": [
    {
     "name": "stdout",
     "output_type": "stream",
     "text": [
      "Field current= 14.752 A\n"
     ]
    }
   ],
   "source": [
    "import math\n",
    "from math import pi,sqrt\n",
    "#Given\n",
    "V=460.0             #supply voltage\n",
    "Phase=3.0           #phase\n",
    "N=1200.0            #rpm\n",
    "Hp=125\n",
    "Ra=0.078            #resistance of the circuit\n",
    "Xal=0.15\n",
    "Xar=1.85\n",
    "Nre=28.2\n",
    "Ia=sqrt(Phase)*V\n",
    "Ia=121.4\n",
    "Vt=V/sqrt(Phase)\n",
    "Ea=Vt-(Ia*Ra)\n",
    "Xs=Xal+Xar\n",
    "(x1,y1)=(Ea,0)\n",
    "(x2,y2)=(-0.599,-1.9)       #(Xs,90) in rectangular co-ordinate form\n",
    "X1=complex(x1,y1)\n",
    "X2=complex(x2,y2)\n",
    "Im=X1/X2\n",
    "(Im,Angle1)=(134.74,-90.0)\n",
    "(x1,y1)=(Im,Angle1)\n",
    "X1=complex(x1,y1)\n",
    "X2=complex(x2,y2)\n",
    "X=X1-X2\n",
    "a=181.4\n",
    "n=sqrt(2)/Phase*Nre\n",
    "If=(a/n)*(Xs/Xar)\n",
    "If=round(If,3)\n",
    "print 'Field current=',If,'A'"
   ]
  },
  {
   "cell_type": "markdown",
   "metadata": {},
   "source": [
    "## Example 67,Pg.no 337"
   ]
  },
  {
   "cell_type": "code",
   "execution_count": 42,
   "metadata": {
    "collapsed": false
   },
   "outputs": [
    {
     "name": "stdout",
     "output_type": "stream",
     "text": [
      "Power factor= 0.117 lagging\n"
     ]
    }
   ],
   "source": [
    "import math\n",
    "from math import pi,sqrt\n",
    "#Given\n",
    "Vt=1.0\n",
    "Ia=1.0\n",
    "Xd=0.8\n",
    "Xq=0.4                    #Synchronous machine reactance\n",
    "Loss=0.15                 #rotational losses\n",
    "Angle=36.9\n",
    "a=math.cos(pi*Angle/180)\n",
    "b=math.sin(pi*Angle/180)\n",
    "TanDeg=(Vt*Xq*a)/(Vt+(Ia*Xq*b))\n",
    "z=math.atan(TanDeg)\n",
    "Deg=(z*pi/180)\n",
    "Deg=(z*180/pi)\n",
    "Angl=Angle-Deg\n",
    "Id=Ia*math.sin(pi*Angl/180)\n",
    "Iq=Ia*math.cos(pi*Angl/180)\n",
    "Ef=(Vt*math.cos(pi*Deg/180))-(Id*Xq)\n",
    "Pf=((Vt*Ef)/Xd)*math.sin(pi*Deg/180)                   #power due to field excitation\n",
    "Pr=(Vt**2*(Xd-Xq)/(2*Xd*Xq))*math.sin(pi*45.6/180)     #power due to saliency of the machine\n",
    "Pout=Vt*Ia*a                                           #output power\n",
    "Prmax=(Vt**2*(Xd-Xq))/(2*Xd*Xq)                        #maximum power due to saliency of the machine\n",
    "v=math.asin(Loss/Prmax)/2\n",
    "Deg1=(v*180/pi)\n",
    "Id=Vt*math.cos(pi*Deg1/180)/Xd\n",
    "Iq=Vt*math.sin(pi*Deg1/180)/Xq\n",
    "Ia=(Id**2+Iq**2)**(1/2)\n",
    "Ang=math.atan(Id/Iq)\n",
    "Ang=(Ang*180/pi)\n",
    "Phi=Ang+Deg1\n",
    "Pf=math.cos(pi*Phi/180)                                 #power factor\n",
    "Pf=round(Pf,3)\n",
    "print 'Power factor=',Pf,'lagging'"
   ]
  }
 ],
 "metadata": {
  "kernelspec": {
   "display_name": "Python 2",
   "language": "python",
   "name": "python2"
  },
  "language_info": {
   "codemirror_mode": {
    "name": "ipython",
    "version": 2
   },
   "file_extension": ".py",
   "mimetype": "text/x-python",
   "name": "python",
   "nbconvert_exporter": "python",
   "pygments_lexer": "ipython2",
   "version": "2.7.10"
  }
 },
 "nbformat": 4,
 "nbformat_minor": 0
}
