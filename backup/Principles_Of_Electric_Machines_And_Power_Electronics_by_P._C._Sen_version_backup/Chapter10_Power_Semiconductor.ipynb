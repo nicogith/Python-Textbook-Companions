{
 "cells": [
  {
   "cell_type": "markdown",
   "metadata": {},
   "source": [
    "# Chapter 10 Power Semiconductor Converters"
   ]
  },
  {
   "cell_type": "markdown",
   "metadata": {},
   "source": [
    "## Example 10.1,Pg.no 518"
   ]
  },
  {
   "cell_type": "code",
   "execution_count": 44,
   "metadata": {
    "collapsed": false
   },
   "outputs": [
    {
     "name": "stdout",
     "output_type": "stream",
     "text": [
      "Firing angle= 136.22 degrees\n",
      "Power fed back to the ac suppy = 2340.0 W\n"
     ]
    }
   ],
   "source": [
    "import math\n",
    "from math import sqrt,pi\n",
    "#given\n",
    "Ka=0.09            #motor voltage constant in V/rpm\n",
    "N=1000             #in rpm\n",
    "Ia=30              #armature current\n",
    "Ra=0.4             #armature resistance\n",
    "V=120              # supply voltage\n",
    "RevEa=-90          # back emf\n",
    "#calculations\n",
    "Ea=Ka*N\n",
    "Vo=Ea+(Ia*Ra)\n",
    "a=Vo*pi\n",
    "b=2*sqrt(2)*V\n",
    "c=a/b\n",
    "angle=math.acos(c)*180/pi\n",
    "P=Vo*Ia\n",
    "S=V*Ia\n",
    "Pf=P/S\n",
    "Vo1=RevEa+(Ia*Ra)\n",
    "a=Vo1*pi\n",
    "b=2*sqrt(2)*V\n",
    "c=a/b\n",
    "Angle=math.acos(c)*180/pi\n",
    "Pdc=Ea*Ia                 #power from dc machine\n",
    "Pr=Ia**2*Ra               #power lost in Ra\n",
    "Ps=Pdc-Pr\n",
    "Angle=round(Angle,2)\n",
    "print 'Firing angle=',Angle,'degrees'\n",
    "print 'Power fed back to the ac suppy =',Ps,'W'"
   ]
  },
  {
   "cell_type": "markdown",
   "metadata": {},
   "source": [
    "## Example 10.2,Pg.no 521"
   ]
  },
  {
   "cell_type": "code",
   "execution_count": 45,
   "metadata": {
    "collapsed": false
   },
   "outputs": [
    {
     "name": "stdout",
     "output_type": "stream",
     "text": [
      " Average Output Voltage= 70.2 V\n"
     ]
    }
   ],
   "source": [
    "import math\n",
    "from math import sqrt,pi\n",
    "#given\n",
    "Vp=120.0          #phase-voltage\n",
    "Angle=60.0\n",
    "#calculations\n",
    "Vo=((3*sqrt(6))/(2*pi))*120*math.cos(pi*Angle/180)\n",
    "Vo=round(Vo,1)\n",
    "print ' Average Output Voltage=',Vo,'V'"
   ]
  },
  {
   "cell_type": "markdown",
   "metadata": {},
   "source": [
    "## Example 10.3,Pg.no 526"
   ]
  },
  {
   "cell_type": "code",
   "execution_count": 46,
   "metadata": {
    "collapsed": false
   },
   "outputs": [
    {
     "name": "stdout",
     "output_type": "stream",
     "text": [
      "Firing Angle for rectifier operation= 44.4 degrees\n",
      "supply power factor for rectifier operation= 0.68\n",
      "Firing Angle for inverter operation= 116.3 degrees\n",
      "supply power factor for inverter operation= 0.42\n"
     ]
    }
   ],
   "source": [
    "import math\n",
    "from math import sqrt,pi\n",
    "#given\n",
    "V=480.0         #voltage supplied\n",
    "Ka=0.3          #motor constant\n",
    "N=1500.0        #motor speed in rpm\n",
    "Ia=130.0        #armature current in Amp\n",
    "Ra=0.1          #armature resistance in ohms\n",
    "No=1000.0\n",
    "Vp=V/sqrt(3)    #phase-voltage\n",
    "Ea=Ka*N\n",
    "Vo=Ea+(Ia*Ra)\n",
    "a=Vo*pi\n",
    "b=3*sqrt(6)*Vp\n",
    "c=a/b\n",
    "Angle=math.acos(c)*180/pi\n",
    "IA=sqrt(0.6666)*Ia\n",
    "S=3*Vp*IA\n",
    "Ps=Vo*Ia\n",
    "Pf=Ps/S\n",
    "Ea1=Ka*No\n",
    "Vo1=-300+(Ia*Ra)\n",
    "a=Vo1*pi\n",
    "b=3*sqrt(6)*Vp\n",
    "c=a/b\n",
    "Angle1=math.acos(c)*180/pi\n",
    "Pdc=Ea1*Ia           #power from the dc machine\n",
    "Pr=Ia**2*Ra          #power lost in Ra\n",
    "Ps=Pdc-Pr            #power to source\n",
    "Pf1=Ps/S\n",
    "Angle=round(Angle,1)\n",
    "Angle1=round(Angle1,1)\n",
    "Pf=round(Pf,2)\n",
    "Pf1=round(Pf1,2)\n",
    "print 'Firing Angle for rectifier operation=',Angle,'degrees'\n",
    "print 'supply power factor for rectifier operation=',Pf\n",
    "print 'Firing Angle for inverter operation=',Angle1,'degrees'\n",
    "print 'supply power factor for inverter operation=',Pf1"
   ]
  },
  {
   "cell_type": "markdown",
   "metadata": {},
   "source": [
    "## Example 10.4,Pg.no 532"
   ]
  },
  {
   "cell_type": "code",
   "execution_count": 47,
   "metadata": {
    "collapsed": false
   },
   "outputs": [
    {
     "name": "stdout",
     "output_type": "stream",
     "text": [
      "peak-voltage across a thyristor= 650.5 V\n",
      "firing angle = 31.8 degrees\n",
      "control range is 31.8 <Alpha<180\n"
     ]
    }
   ],
   "source": [
    "import math\n",
    "from math import sqrt,pi\n",
    "#given\n",
    "OutP=100.0*0.746       #ouput power\n",
    "Eff=0.8              #effeciency\n",
    "Pf=0.85              #power factor\n",
    "V=460.0              #voltage\n",
    "S=OutP/(Eff*Pf)      #Input kVA at full load \n",
    "Il=S/(sqrt(3)*V)     #Input line current\n",
    "Ip=Il/sqrt(3)        #Motor phase current\n",
    "Is=Ip/sqrt(2)        #Thyristor rums current\n",
    "Vs=sqrt(2)*V\n",
    "Angle=math.acos(Pf)*180/pi\n",
    "Angle=round(Angle,1)\n",
    "Vs=round(Vs,1)\n",
    "print 'peak-voltage across a thyristor=',Vs,'V'\n",
    "print 'firing angle =',Angle,'degrees'\n",
    "print 'control range is',Angle,'<Alpha<''180'"
   ]
  },
  {
   "cell_type": "markdown",
   "metadata": {},
   "source": [
    "## Example 10.5,Pg.no 539"
   ]
  },
  {
   "cell_type": "code",
   "execution_count": 48,
   "metadata": {
    "collapsed": false
   },
   "outputs": [
    {
     "name": "stdout",
     "output_type": "stream",
     "text": [
      "For n=400 rpm and I=100A:\n",
      "power developed = 4000.0 W\n",
      "power absorbed= 2000.0 W\n",
      "power to the source= 6000.0 W\n",
      "\n",
      "For n=350 rpm and I=-100A:\n",
      "power developed = -3500.0 W\n",
      "power absorbed= 2000.0 W\n",
      "power to the source= -1500 W\n"
     ]
    }
   ],
   "source": [
    "from math import sqrt,pi\n",
    "#given\n",
    "Ka=0.1       #motor-constant in V/rpm\n",
    "Ra=0.2       #motor armature resistance\n",
    "N=400        #speed in rpm\n",
    "Ia=100       #armature current\n",
    "V=120        #supply voltage \n",
    "N1=350\n",
    "Io=-100\n",
    "#calcullations\n",
    "Ea=Ka*N \n",
    "Ea1=Ka*N1\n",
    "Vo=Ea+(Ia*Ra)\n",
    "Pmotor=Ea*Ia      #power developed in the motor\n",
    "Pr=Ia**2*Ra       #power absorbed by Ra\n",
    "Ps=V*Ia*0.5       #power from the source\n",
    "Vo=Ea1+(Ia*Ra)\n",
    "Vo=Ea1+(Io*Ra)\n",
    "Pmotor1=Ea1*Io     #power developed in the motor\n",
    "Pr1=Ia**2*Ra       #power absorbed by Ra\n",
    "Ps1=V*Io*1/8       #power from source\n",
    "print 'For n=400 rpm and I=100A:'\n",
    "print 'power developed =',Pmotor,'W'\n",
    "print 'power absorbed=',Pr,'W'\n",
    "print 'power to the source=',Ps,'W'\n",
    "print '\\nFor n=350 rpm and I=-100A:'\n",
    "print 'power developed =',Pmotor1,'W'\n",
    "print 'power absorbed=',Pr1,'W'\n",
    "print 'power to the source=',Ps1,'W'"
   ]
  },
  {
   "cell_type": "markdown",
   "metadata": {},
   "source": [
    "## Example 10.6,Pg.no 544"
   ]
  },
  {
   "cell_type": "code",
   "execution_count": 49,
   "metadata": {
    "collapsed": false
   },
   "outputs": [
    {
     "name": "stdout",
     "output_type": "stream",
     "text": [
      "Output power= 72.93 kW\n"
     ]
    }
   ],
   "source": [
    "from math import sqrt,pi\n",
    "#given\n",
    "V=300.0            #voltage\n",
    "Io=540.0           #current in amperes\n",
    "Angle=45           #in degrees\n",
    "Is=242.89          #average current calculated in Amperes\n",
    "Ps=V*Io            #Ohm's law\n",
    "Vo1=(4*V)/(pi*sqrt(2))\n",
    "Pout=Vo1*Io/sqrt(2)*math.cos(pi*Angle/180)*10**-3\n",
    "Pout=round(Pout,2)\n",
    "print 'Output power=',Pout,'kW'"
   ]
  },
  {
   "cell_type": "markdown",
   "metadata": {},
   "source": [
    "## Example 10.7,Pg.no 547"
   ]
  },
  {
   "cell_type": "code",
   "execution_count": 50,
   "metadata": {
    "collapsed": false
   },
   "outputs": [
    {
     "name": "stdout",
     "output_type": "stream",
     "text": [
      "Phase voltage= 489.7 V\n",
      "Load Phase voltage= 282.84 V\n"
     ]
    }
   ],
   "source": [
    "from math import sqrt\n",
    "#given\n",
    "V=600                #voltage\n",
    "Phase=3\n",
    "Vl=sqrt(0.666)*V\n",
    "Vp=V*sqrt(2)/Phase\n",
    "Vl=round(Vl,1)\n",
    "Vp=round(Vp,2)\n",
    "print 'Phase voltage=',Vl,'V'\n",
    "print 'Load Phase voltage=',Vp,'V'"
   ]
  },
  {
   "cell_type": "markdown",
   "metadata": {},
   "source": [
    "## Example 10.8,Pg.no 549"
   ]
  },
  {
   "cell_type": "code",
   "execution_count": 51,
   "metadata": {
    "collapsed": false
   },
   "outputs": [
    {
     "name": "stdout",
     "output_type": "stream",
     "text": [
      "angle shift= 31.25 degrees\n",
      "angle shift= 125.0 degrees\n"
     ]
    }
   ],
   "source": [
    "from math import sqrt\n",
    "#given\n",
    "V=120.0    #supply voltage     \n",
    "Vo=50.0    #rms output voltage\n",
    "Vo1=100.0\n",
    "#calculations\n",
    "Angleshift1=(Vo**2/V**2)*180  \n",
    "Angleshift2=(Vo1**2/V**2)*180\n",
    "print 'angle shift=',Angleshift1,'degrees'\n",
    "print 'angle shift=',Angleshift2,'degrees'"
   ]
  },
  {
   "cell_type": "markdown",
   "metadata": {},
   "source": [
    "## Example 10.10,Pg.no 555"
   ]
  },
  {
   "cell_type": "code",
   "execution_count": 52,
   "metadata": {
    "collapsed": false
   },
   "outputs": [
    {
     "name": "stdout",
     "output_type": "stream",
     "text": [
      "Thyristor current is 57.74 A\n",
      "Output RMS current is 81.65 A\n"
     ]
    }
   ],
   "source": [
    "from math import sqrt\n",
    "#given\n",
    "I=100                   #dc link current    \n",
    "PulseScr=0.57735026919\n",
    "PulseOut=0.816496581\n",
    "a=PulseScr\n",
    "msScr=a*I\n",
    "b=PulseOut\n",
    "RmsOut=b*I\n",
    "msScr=round(msScr,2)\n",
    "RmsOut=round(RmsOut,2)\n",
    "print 'Thyristor current is',msScr,'A'\n",
    "print 'Output RMS current is',RmsOut,'A'"
   ]
  }
 ],
 "metadata": {
  "kernelspec": {
   "display_name": "Python 2",
   "language": "python",
   "name": "python2"
  },
  "language_info": {
   "codemirror_mode": {
    "name": "ipython",
    "version": 2
   },
   "file_extension": ".py",
   "mimetype": "text/x-python",
   "name": "python",
   "nbconvert_exporter": "python",
   "pygments_lexer": "ipython2",
   "version": "2.7.10"
  }
 },
 "nbformat": 4,
 "nbformat_minor": 0
}
