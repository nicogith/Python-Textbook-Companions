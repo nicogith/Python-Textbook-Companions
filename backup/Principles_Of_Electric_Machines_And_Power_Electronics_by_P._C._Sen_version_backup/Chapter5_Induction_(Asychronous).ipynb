{
 "cells": [
  {
   "cell_type": "markdown",
   "metadata": {},
   "source": [
    "# Chapter 5 Induction (Asychronous) Machines"
   ]
  },
  {
   "cell_type": "markdown",
   "metadata": {},
   "source": [
    "## Example 5.1,Pg no.219"
   ]
  },
  {
   "cell_type": "code",
   "execution_count": 1,
   "metadata": {
    "collapsed": false
   },
   "outputs": [
    {
     "name": "stdout",
     "output_type": "stream",
     "text": [
      "Synchronous speed= 1800 rpm\n",
      "motor speed= 1710.0 rpm\n",
      "Speed of the rotatind air-gap field= 1800 rpm\n",
      "frequency of the rotor circuit= 3.0 Hz\n",
      "Slip rpm= 90.0 rpm\n",
      "Rotor induced voltage= 6.64 V/phase\n"
     ]
    }
   ],
   "source": [
    "from math import sqrt\n",
    "#given\n",
    "F=60                                                                  #frequency in Hz\n",
    "P=4                                                                   #power\n",
    "S=0.05                                                                #slip \n",
    "Ns=1800                                                               #in rpm\n",
    "V=460                                                                 #voltage\n",
    "Tr=0.5\n",
    "Ns=(120*F)/(P)                                                        #synchronous speed\n",
    "N=(1-S)*Ns                                                            #motor speed\n",
    "F2=S*F                                                                #frequency of the rotor circuit\n",
    "Sliprpm=S*Ns                                                          #slip in rpm   \n",
    "A=S*Tr*V/sqrt(3)                                                      #rotor induced voltage\n",
    "A=round(A,2)\n",
    "print 'Synchronous speed=',Ns,'rpm'\n",
    "print 'motor speed=',N,'rpm'\n",
    "print 'Speed of the rotatind air-gap field=',Ns,'rpm'\n",
    "print 'frequency of the rotor circuit=',F2,'Hz'\n",
    "print 'Slip rpm=',Sliprpm,'rpm'\n",
    "print 'Rotor induced voltage=',A,'V/phase'"
   ]
  },
  {
   "cell_type": "markdown",
   "metadata": {},
   "source": [
    "## Example 5.2,Pg.no 226"
   ]
  },
  {
   "cell_type": "code",
   "execution_count": 10,
   "metadata": {
    "collapsed": false
   },
   "outputs": [
    {
     "name": "stdout",
     "output_type": "stream",
     "text": [
      "Mechanical power developed is 11940 W\n",
      "Air-gap power= 12437.5 W\n",
      "Rotor power loss is 497.5 W\n"
     ]
    }
   ],
   "source": [
    "from math import sqrt,pi\n",
    "#given\n",
    "Hp=15\n",
    "Loss=750                                                    #windage and friction loss of the motor\n",
    "Fp=11190                                                    #full-load shaft power\n",
    "F=60\n",
    "P=4\n",
    "N=1728\n",
    "#calculations\n",
    "Mecp=Fp+Loss                                                #mechanical power\n",
    "Ns=120*F/P                                                  #synchronous speed\n",
    "S=0.04                                                      #slip=(Ns-N)/Ns\n",
    "Pag=Mecp/(1-S)\n",
    "P2=S*Pag\n",
    "print 'Mechanical power developed is',Mecp,'W'\n",
    "print 'Air-gap power=',Pag,'W'\n",
    "print 'Rotor power loss is',P2,'W'"
   ]
  },
  {
   "cell_type": "markdown",
   "metadata": {},
   "source": [
    "## Example 5.3,Pg.no 229"
   ]
  },
  {
   "cell_type": "code",
   "execution_count": 11,
   "metadata": {
    "collapsed": false
   },
   "outputs": [
    {
     "name": "stdout",
     "output_type": "stream",
     "text": [
      "No-load rotational loss= 1429.9 W\n",
      "parameters: no-load impedance= 282.26 ohms \n",
      "No-load reactance= 26.34 ohms\n",
      "Blocked rotor resistance= 4.0 ohms \n",
      "Blocked rotor reactance= 6.24 ohms\n",
      "Thevenin voltage= 0.99 V1\n",
      "Thevenin resistance= 2.76 ohms\n"
     ]
    }
   ],
   "source": [
    "from math import sqrt,pi\n",
    "#given\n",
    "#for no-load test\n",
    "Nof=60                                                       #supply frequency\n",
    "NoV=2200                                                     #line voltage\n",
    "NoI=4.5                                                      #line current\n",
    "NoP=1600                                                     #input power\n",
    "#for blocked-rotor test\n",
    "BF=15                                                        #frequency\n",
    "BV=270                                                       #line-voltage\n",
    "BI=25                                                        #line-current\n",
    "BP=9000                                                      #input power\n",
    "R1=2.8                                                       #avg.dc resistance\n",
    "V=2200\n",
    "F=60\n",
    "Rbl=4.8\n",
    "Pnl=1600\n",
    "#calculations\n",
    "Prot=Pnl -(3*NoI**2*R1)\n",
    "Vt=V/sqrt(3)\n",
    "Znl=(Vt/NoI)                                                #no-load impedance\n",
    "Rnl=(Pnl)/(3*NoI**2)                                        #no-load reactance\n",
    "Xnl=(Znl**2-Rnl**2)**(1/2)\n",
    "Rbl=BP/(3*(BI**2))                                          #blocked rotor resistance\n",
    "Zbl=(BV)/(sqrt(3)*BI)                                       #blocked rotor reactance\n",
    "Xbl=(Zbl**2-Rbl**2)**(1/2)\n",
    "Xbl=Xbl*(F/BF)\n",
    "X1=Xbl/2\n",
    "Xm=(Xnl-X1)                                                 #magnetizing reactance\n",
    "Xm=273.04\n",
    "R=Rbl-R1\n",
    "R2=((X1+Xm)/(Xm))**2*2\n",
    "Vth=(Xm)/(X1+Xm)                                            #thevenin's voltage\n",
    "Rth=(Vth**2)*R1                                             #thevenin's resistance\n",
    "Znl=round(Znl,2)\n",
    "Rnl=round(Rnl,2)\n",
    "Rbl=round(Rbl,2)\n",
    "Zbl=round(Zbl,2)\n",
    "Vth=round(Vth,2)\n",
    "Rth=round(Rth,2)\n",
    "print 'No-load rotational loss=',Prot,'W'\n",
    "print 'parameters: no-load impedance=',Znl,'ohms','\\nNo-load reactance=',Rnl,'ohms'\n",
    "print 'Blocked rotor resistance=',Rbl,'ohms','\\nBlocked rotor reactance=',Zbl,'ohms'\n",
    "print 'Thevenin voltage=',Vth,'V1'\n",
    "print 'Thevenin resistance=',Rth,'ohms'"
   ]
  },
  {
   "cell_type": "markdown",
   "metadata": {},
   "source": [
    "## Example 5.5,Pg.no 244"
   ]
  },
  {
   "cell_type": "code",
   "execution_count": 12,
   "metadata": {
    "collapsed": false
   },
   "outputs": [
    {
     "name": "stdout",
     "output_type": "stream",
     "text": [
      "Resistance= 0.468 ohms/phase\n"
     ]
    }
   ],
   "source": [
    "import math\n",
    "#given\n",
    "F=60                         #frequency in Hz\n",
    "P=6\n",
    "RPM=1140\n",
    "RPM1=1000\n",
    "R=0.2                         #rotor-winding resistance\n",
    "Ns=(120*F/P)                  #synchronous speed\n",
    "S1=0.05                        #formula for slip =(Ns-RPM)/(Ns)\n",
    "S2=0.167\n",
    "Rext=((R/S1)*S2)-(R)\n",
    "print 'Resistance=',Rext,'ohms/phase'"
   ]
  },
  {
   "cell_type": "markdown",
   "metadata": {},
   "source": [
    "## Example 5.6,Pg.no 244"
   ]
  },
  {
   "cell_type": "code",
   "execution_count": 13,
   "metadata": {
    "collapsed": false
   },
   "outputs": [
    {
     "name": "stdout",
     "output_type": "stream",
     "text": [
      "Speed at maximum torque= 1242.0 rpm\n",
      "Maximum torque developed 318.0 %\n"
     ]
    }
   ],
   "source": [
    "import math\n",
    "#given\n",
    "F=60                         #frequency in hz\n",
    "P=4\n",
    "N=1710\n",
    "RI=6\n",
    "Ns=(120*F)/P                 #synchronous speed\n",
    "Sfl=0.05                    #full-load slip=(Ns-N)/Ns\n",
    "Tst=RI**2*Sfl\n",
    "Stmax=0.31\n",
    "NMaxT=(1-Stmax)*Ns\n",
    "Tmax=(1+Stmax**2)/(2*Stmax)*Tst*100\n",
    "Tmax=round(Tmax,0)\n",
    "print 'Speed at maximum torque=',NMaxT,'rpm'\n",
    "print 'Maximum torque developed',Tmax,'%'"
   ]
  },
  {
   "cell_type": "markdown",
   "metadata": {},
   "source": [
    "## Example 5.7,Pg.no 246"
   ]
  },
  {
   "cell_type": "code",
   "execution_count": 14,
   "metadata": {
    "collapsed": false
   },
   "outputs": [
    {
     "name": "stdout",
     "output_type": "stream",
     "text": [
      "speed in rpm to give 15Hz is 1500.0 and 900.0 rpm\n",
      "speed in rpm to give 120Hz is 3600.0 and -1200.0 rpm\n",
      "rotor voltage with 120 Hz= 0.5 P2, 1.5 P2\n",
      "rotor voltage with 15 Hz= -3.0 P1, 5.0 P1\n"
     ]
    }
   ],
   "source": [
    "import math\n",
    "#given\n",
    "F1=60.0                      #frequency\n",
    "F2=15.0\n",
    "F3=120.0\n",
    "F=60.0\n",
    "P=6.0\n",
    "V=240.0                   #open-circuit rotor voltage\n",
    "A=2.0\n",
    "#calculations\n",
    "S=F2/F1                   #slip\n",
    "Ns=(120*F)/P              #synchronous speed\n",
    "N=(1+S)*Ns                #speed of the system for 15Hz\n",
    "N1=(1-S)*Ns\n",
    "S1=F3/F1\n",
    "n=(1+S1)*Ns               #speed of the system for 120Hz\n",
    "n1=(1-S1)*Ns\n",
    "Pac=1/S\n",
    "Pac1=-1/S\n",
    "Pdcl1=-(1-(S))/S\n",
    "Pdcl=-(1+(S))/-S\n",
    "Pac1=1/S1\n",
    "Pdc=-(1-S1)/S1\n",
    "Pdc1=-(1+S1)/-S1\n",
    "print 'speed in rpm to give 15Hz is',N,'and',N1,'rpm'\n",
    "print 'speed in rpm to give 120Hz is',n,'and',n1,'rpm'\n",
    "print 'rotor voltage with 120 Hz=',Pac1,'P2,',Pdc1,'P2'\n",
    "print 'rotor voltage with 15 Hz=',Pdcl1,'P1,',Pdcl,'P1'"
   ]
  },
  {
   "cell_type": "markdown",
   "metadata": {},
   "source": [
    "## Example 5.11,Pg.no 273"
   ]
  },
  {
   "cell_type": "code",
   "execution_count": 15,
   "metadata": {
    "collapsed": false
   },
   "outputs": [
    {
     "name": "stdout",
     "output_type": "stream",
     "text": [
      "Parasitic torque for the fifth harmonic= -0.003 N-m\n",
      "parasitic torque for the seventh harmonic= 0.0016 N-m\n"
     ]
    }
   ],
   "source": [
    "from math import sqrt,pi\n",
    "#given\n",
    "F=60.0                 #frequency\n",
    "P=4.0                  #no.of poles\n",
    "N=1740.0               #in rpm\n",
    "R1=R2=0.5              #resistance\n",
    "X1=X2=1.0              #impedance\n",
    "Xm=35.0\n",
    "I=1.1                  #current\n",
    "Peak=10.0\n",
    "H=5.0\n",
    "H1=7.0\n",
    "Phase=3.0               #phase\n",
    "Ns=120*(F/P)            #synchronous speed\n",
    "S1=0.03333333333        #slip\n",
    "A=R2/S1\n",
    "Z1=complex(12.08,6.0)               #1st harmonic impedance\n",
    "Rth=12.08\n",
    "Pg1=Phase*((I*Peak)/sqrt(2))**2*Rth\n",
    "Wsyn=(Ns/60)*2*pi\n",
    "T1=Pg1/Wsyn\n",
    "Ns1=-(120*H*F)/P\n",
    "S2=(Ns1-N)/Ns1\n",
    "B=R2/S2\n",
    "Xm1=H*Xm\n",
    "hX2=H*X2\n",
    "Z2=complex(0.4,4.86)               #2nd harmonic impedance\n",
    "Rth2=0.39\n",
    "Pg2=Phase*((0.22*Peak)/sqrt(2))**2*Rth2\n",
    "Wsyn2=(Ns1/60)*2*pi\n",
    "T2=Pg2/Wsyn2\n",
    "Ns3=(120*H1*F)/P\n",
    "S3=(Ns3-N)/Ns3\n",
    "C=R2/S3\n",
    "Xm3=H1*Xm\n",
    "hX3=H1*X2\n",
    "Z3=complex(0.549,6.807)\n",
    "Rth3=0.54\n",
    "Pg3=Phase*((0.16*Peak)/sqrt(2))**2*Rth3\n",
    "Wsyn3=(Ns3/60)*2*pi\n",
    "T3=Pg3/Wsyn3\n",
    "T2=round(T2,3)\n",
    "T3=round(T3,4)\n",
    "print 'Parasitic torque for the fifth harmonic=',T2,'N-m'\n",
    "print 'parasitic torque for the seventh harmonic=',T3,'N-m'"
   ]
  },
  {
   "cell_type": "markdown",
   "metadata": {},
   "source": [
    "## Example 5.12,Pg no.281"
   ]
  },
  {
   "cell_type": "code",
   "execution_count": 16,
   "metadata": {
    "collapsed": false
   },
   "outputs": [
    {
     "name": "stdout",
     "output_type": "stream",
     "text": [
      "synchronous speed= 180.0 km/hr\n",
      "vehicle speed= 135.0 km/hr\n"
     ]
    }
   ],
   "source": [
    "from math import sqrt,pi\n",
    "#given\n",
    "S=2                \n",
    "Pole=50\n",
    "F=50\n",
    "Slip=0.25\n",
    "Pole=Pole*10**-2\n",
    "#calculations\n",
    "Vs=S*Pole*F          #synchronous speed \n",
    "Vs=Vs*3600/1000\n",
    "V=(1-Slip)*(Vs)\n",
    "print 'synchronous speed=',Vs,'km/hr'\n",
    "print 'vehicle speed=',V,'km/hr'"
   ]
  }
 ],
 "metadata": {
  "kernelspec": {
   "display_name": "Python 2",
   "language": "python",
   "name": "python2"
  },
  "language_info": {
   "codemirror_mode": {
    "name": "ipython",
    "version": 2
   },
   "file_extension": ".py",
   "mimetype": "text/x-python",
   "name": "python",
   "nbconvert_exporter": "python",
   "pygments_lexer": "ipython2",
   "version": "2.7.10"
  }
 },
 "nbformat": 4,
 "nbformat_minor": 0
}
