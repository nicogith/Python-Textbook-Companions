{
 "metadata": {
  "name": "",
  "signature": "sha256:234a7cd4eb239b4fead8bceff4c3350a039b4673e5cc1a175a4862ee9b56966f"
 },
 "nbformat": 3,
 "nbformat_minor": 0,
 "worksheets": [
  {
   "cells": [
    {
     "cell_type": "heading",
     "level": 1,
     "metadata": {},
     "source": [
      "Chapter 8  : Third Law of Thermodynamics"
     ]
    },
    {
     "cell_type": "heading",
     "level": 2,
     "metadata": {},
     "source": [
      "Example 8.1  Page No : 138"
     ]
    },
    {
     "cell_type": "code",
     "collapsed": false,
     "input": [
      "%matplotlib inline\n",
      "\n",
      "import math\n",
      "import matplotlib.pyplot as plt\n",
      "import numpy\n",
      "\n",
      "#Given\n",
      "C_ps = 0.1;#Molal heat capacity of copper at 20 K\n",
      "Ti = 0.0;#Initial temperature in K\n",
      "Tf = 20.0;#melting point in K\n",
      "Tb = 300.0;#boiling point in K\n",
      "\n",
      "#To calculate the absolute entropy of copper at 300 K\n",
      "#From equation 8.4(page no 164)\n",
      "a = C_ps/(Tf**3);# a is the charateristic consmath.tant\n",
      "C_p = [0.1,0.80,1.94,3.0,3.9,5.0];\n",
      "#T1 = math.log(T);\n",
      "T1 = [1.301,1.6021,1.7782,1.9031,2.000,2.1761];\n",
      "plt.plot(T1,C_p)\n",
      "plt.title(\"C_p vs T1\")\n",
      "plt.xlabel(\"T1\")\n",
      "plt.ylabel(\"Cp\")\n",
      "plt.show()\n",
      "# Area under the curve is given as\n",
      "A = 7.82;\n",
      "#From equation 8.5(page no 164)\n",
      "S = (a*((Tf**3)/3))+A;\n",
      "print \"The absolute entropy of copper is %f Kcal/Kgmole\"%(S);\n",
      "#end\n"
     ],
     "language": "python",
     "metadata": {},
     "outputs": [
      {
       "metadata": {},
       "output_type": "display_data",
       "png": "[encoded data removed]",
       "text": [
        "<matplotlib.figure.Figure at 0x102f267d0>"
       ]
      },
      {
       "output_type": "stream",
       "stream": "stdout",
       "text": [
        "The absolute entropy of copper is 7.853333 Kcal/Kgmole\n"
       ]
      }
     ],
     "prompt_number": 1
    }
   ],
   "metadata": {}
  }
 ]
}