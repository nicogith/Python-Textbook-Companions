{
 "metadata": {
  "name": "",
  "signature": "sha256:afa9dce93689170d63e47c0994dac86a6544b2fa2de4c3b3095b5b07cd969902"
 },
 "nbformat": 3,
 "nbformat_minor": 0,
 "worksheets": [
  {
   "cells": [
    {
     "cell_type": "heading",
     "level": 1,
     "metadata": {},
     "source": [
      "Chapter 9 : Fluid Flow in Pipes and Nozzles"
     ]
    },
    {
     "cell_type": "heading",
     "level": 2,
     "metadata": {},
     "source": [
      "Example 9.1  Page No : 147"
     ]
    },
    {
     "cell_type": "code",
     "collapsed": false,
     "input": [
      "import math \n",
      "\n",
      "#Given\n",
      "R = 848.0;#gas consmath.tant in m Kgf/Kgmole K\n",
      "M = 29.0;#molecular weight of air\n",
      "g = 9.81;\n",
      "T1 = 90+273.0;#initial temperature in K\n",
      "y = 1.4;#gamma = Cp/Cv\n",
      "W = 800/3600.0;#Mass rate of air in Kg/sec\n",
      "P1 = 3.5;#initial pressure in atm\n",
      "d = 2.5;#diameter of the pipe in cm\n",
      "\n",
      "#To find out the pressure at the final point\n",
      "v1 = (R*T1)/(M*P1*1.033*10**4);#specific volume in cubic meter/Kg\n",
      "u1 = (W*v1)/(math.pi*(d**2*(10**-4))/4);#inital velocity in m/sec\n",
      "#Assume final temperature as\n",
      "T2 = [300,310];\n",
      "#Assume specific heat capacity in J/KgK corresponding to the above temperature as\n",
      "Cp = [2987.56,2983.56];\n",
      "us = []\n",
      "u2 = []\n",
      "for i in range(0,2):\n",
      "    us.append((g*y*R*T2[i]/M)**(1/2));#sonic velocity attained in m/sec\n",
      "    u2.append(((u1**2)-((2*g*Cp[i]/M)*(T2[i]-T1)))**(1/2));#From equation 9.18 & 9.19 (page no 170)\n",
      "if us[i]-u2[i] <= 1: \n",
      "    u2 = u2[i];\n",
      "    Tnew2 = T2[i];\n",
      "v2 = u2*(math.pi/4)*(d**2/10**4)*(1/W);\n",
      "P2 = (P1*v1*Tnew2)/(T1*v2);\n",
      "print \"The pressure at the final point is %f atm\"%(P2);\n",
      "#end\n"
     ],
     "language": "python",
     "metadata": {},
     "outputs": [
      {
       "output_type": "stream",
       "stream": "stdout",
       "text": [
        "The pressure at the final point is 397.261807 atm\n"
       ]
      }
     ],
     "prompt_number": 1
    },
    {
     "cell_type": "heading",
     "level": 2,
     "metadata": {},
     "source": [
      "Example 9.2  Page No : 151"
     ]
    },
    {
     "cell_type": "code",
     "collapsed": false,
     "input": [
      "import math \n",
      "\n",
      "#Given\n",
      "A1 = 0.002 #inlet area in sq meter\n",
      "A2 = 0.0005 #throat area in sq meter\n",
      "P1 = 1.3*10**4 #inlet pressure in Kgf/sq m\n",
      "P2 = 0.7*10**4 #throat pressure in Kgf/sq m\n",
      "g = 9.81\n",
      "v = 12*10**(-4) #specific volume in cubic m /Kg\n",
      "\n",
      "#To find out the mass rate of alcohol\n",
      "u2 = ((v*2*g*(P1-P2))/(1-((A2/A1)**2)))**(0.5) #throat velocity in m/sec\n",
      "W = (u2*A2)/v\n",
      "print \"The mass rate of alcohol is \",\n",
      "print \"%.4f\" %W,\n",
      "print \" Kg/sec\"\n"
     ],
     "language": "python",
     "metadata": {},
     "outputs": [
      {
       "output_type": "stream",
       "stream": "stdout",
       "text": [
        "The mass rate of alcohol is  5.1147  Kg/sec\n"
       ]
      }
     ],
     "prompt_number": 2
    },
    {
     "cell_type": "heading",
     "level": 2,
     "metadata": {},
     "source": [
      "Example 9.3  Page No : 153"
     ]
    },
    {
     "cell_type": "code",
     "collapsed": false,
     "input": [
      "%matplotlib inline\n",
      "import math\n",
      "import matplotlib.pyplot as plt\n",
      "import numpy\n",
      "\n",
      "#Given\n",
      "P1 = 50.0;#initial pressure in Kgf/sq m\n",
      "T1 = 45+273.0;#initial temperature in K\n",
      "g = 9.81;\n",
      "y = 1.35;#gamma\n",
      "R = 848.0;#gas consmath.tant in m Kgf/Kgmole K\n",
      "M = 29.0;#molecular weight of air\n",
      "d = 1.0;#pipe diameter in cm\n",
      "\n",
      "#(i)To plot velocity,specific volume,mass velocity against P2/P1\n",
      "#(ii)To calculate the critical pressure,critical mass velocity and mass rate of flow\n",
      "#(i)Plotting of graph\n",
      "V1 = (R*T1)/(M*P1*1.033*10**4);#initial volume of the gas in cubic m/Kg\n",
      "#P3 = P2/P1 (say)\n",
      "#Assume P3 values as\n",
      "P3 = [1.0,0.8,0.6,0.4,0.2,0.1,0.05];\n",
      "G = [0,0,0,0,0,0,0];\n",
      "u2 = []\n",
      "v2 = []\n",
      "G = []\n",
      "for i in range(0,7):\n",
      "    u2.append((((2*g*y*R*T1)/((y-1)*M))*(1-(P3[i]**((y-1)/y))))**(1/2.0));#final velocity in m/sec\n",
      "for i in range(0,7):\n",
      "     v2.append(V1/(P3[i]**(1/y)));#final specific volume in cubic meter/Kg\n",
      "for i in range(0,7):\n",
      "    G.append(u2[i]/v2[i]);#Mass velocity in Kg/sq m sec\n",
      "\n",
      "plt.plot(P3,u2,\"o-\")\n",
      "plt.title(\"Velocity vs P2/P1\")\n",
      "plt.xlabel(\"P2/P1\")\n",
      "plt.ylabel(\"Velocity\")\n",
      "plt.show()\n",
      "\n",
      "plt.plot(P3,G,\"+-\")\n",
      "plt.title(\"Mass velocity vs P2/P1\")\n",
      "plt.xlabel(\"P2/P1\")\n",
      "plt.ylabel(\"Mass Velocity\")\n",
      "plt.show()\n",
      "\n",
      "P_3 = [1.0,0.8,0.6,0.4,0.2,0.1,0];\n",
      "plt.plot(P_3,v2,\"*-\")\n",
      "plt.title(\"Sp. volume vs P2/P1\")\n",
      "plt.xlabel(\"P2/P1\")\n",
      "plt.ylabel(\"Specific Volume\")\n",
      "plt.show()\n",
      "\n",
      "#(ii)Calculation of critical pressure,critical mass velocity and mass rate of flow\n",
      "#From equation 9.37(page no 181)\n",
      "P2 = P1*(2/(y+1))**(y/(y-1));\n",
      "print \"The critical pressure is %f atm\"%(P2);\n",
      "#From equation a (page no 183)\n",
      "u2 = (((2*g*y*R*T1)/((y-1)*M))*(1-((P2/P1)**((y-1)/y))))**(1/2.0);\n",
      "print \" The critical velocity is %f m/sec\"%(u2);\n",
      "#From equation b (page no 183)\n",
      "v2 = ((R*T1)/(M*P1*1.033*10**4))/((P2/P1)**(1.0/y));\n",
      "print \" The critical specific volume is %f cubic meter/Kg\"%(v2);\n",
      "#From relation c (page no 183)\n",
      "Gnew = float(u2)/v2;\n",
      "print \" The critical mass velocity is %f Kg/sq meter sec\"%(Gnew);\n",
      "W = Gnew*(math.pi/4.0)*(d/(100.0))**2;\n",
      "print \" Mass rate of flow through nozzle is %f Kg/sec\"%(W);\n",
      "#end\n"
     ],
     "language": "python",
     "metadata": {},
     "outputs": [
      {
       "metadata": {},
       "output_type": "display_data",
       "png": "[encoded data removed]",
       "text": [
        "<matplotlib.figure.Figure at 0x104438150>"
       ]
      },
      {
       "metadata": {},
       "output_type": "display_data",
       "png": "[encoded data removed]",
       "text": [
        "<matplotlib.figure.Figure at 0x104489650>"
       ]
      },
      {
       "metadata": {},
       "output_type": "display_data",
       "png": "[encoded data removed]",
       "text": [
        "<matplotlib.figure.Figure at 0x1045fb150>"
       ]
      },
      {
       "output_type": "stream",
       "stream": "stdout",
       "text": [
        "The critical pressure is 26.842561 atm\n",
        " The critical velocity is 323.738941 m/sec\n",
        " The critical specific volume is 0.028541 cubic meter/Kg\n",
        " The critical mass velocity is 11343.108938 Kg/sq meter sec\n",
        " Mass rate of flow through nozzle is 0.890886 Kg/sec\n"
       ]
      }
     ],
     "prompt_number": 3
    },
    {
     "cell_type": "heading",
     "level": 2,
     "metadata": {},
     "source": [
      "Example 9.4  Page No : 156"
     ]
    },
    {
     "cell_type": "code",
     "collapsed": false,
     "input": [
      "import math \n",
      "\n",
      "#Given\n",
      "A1 = 0.1;#Inlet area in sq meter\n",
      "u1 = 60.0;#inlet velocity in m/sec\n",
      "v1 = 0.185;#inlet specific volume in cubic meter/Kg\n",
      "H1 = 715.0;#inlet enthalpy in Kcal/Kg\n",
      "H2 = 660.0;#exit enthalpy in Kcal/Kg\n",
      "v2 = 0.495;#exit specific volume in cubic meter/Kg\n",
      "g = 9.81\n",
      "\n",
      "#To calculate the area at exit of nozzle and hence decide the type of the nozzle\n",
      "#From the first law\n",
      "u2 = ((u1**2)-(2*g*(H2-H1)*427))**(1/2);\n",
      "W = (u1*A1)/v1;#Mass rate of gas in Kg/sec\n",
      "A2 = (W*v2)/u2;#Area at exit of nozzle\n",
      "if(A2 < A1):\n",
      "    print \"The nozzle is convergent\";\n",
      "else:\n",
      "    print \"The nozzle is divergent\";\n",
      "#end\n"
     ],
     "language": "python",
     "metadata": {},
     "outputs": [
      {
       "output_type": "stream",
       "stream": "stdout",
       "text": [
        "The nozzle is divergent\n"
       ]
      }
     ],
     "prompt_number": 4
    }
   ],
   "metadata": {}
  }
 ]
}