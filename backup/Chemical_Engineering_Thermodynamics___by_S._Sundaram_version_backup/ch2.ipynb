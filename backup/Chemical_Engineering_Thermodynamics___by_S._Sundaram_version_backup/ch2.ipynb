{
 "metadata": {
  "name": "",
  "signature": "sha256:3938cdb77cb1cf91b5da41037c46803e1323bc2d84e6ed7eb8e8d2a220b8bc11"
 },
 "nbformat": 3,
 "nbformat_minor": 0,
 "worksheets": [
  {
   "cells": [
    {
     "cell_type": "heading",
     "level": 1,
     "metadata": {},
     "source": [
      "Chapter 2 : P V T Relations"
     ]
    },
    {
     "cell_type": "heading",
     "level": 2,
     "metadata": {},
     "source": [
      "Example 2.1  Page No : 29"
     ]
    },
    {
     "cell_type": "code",
     "collapsed": false,
     "input": [
      "import math \n",
      "\n",
      "#Given\n",
      "m = 140 #m is the mass of N2 in Kg\n",
      "P = 4.052*(10**5) #P is the pressure of the system in Pa\n",
      "V = 30 #V is the volume of the system in m**3\n",
      "R = 8314.4 # R is the gas consmath.tant\n",
      "\n",
      "#To determine temperature required\n",
      "T = P*V/float(((m/28)*R)) #T is the temperature of the system in K\n",
      "print \"Temperature of the system is \",\n",
      "print \"%.6f\"%T,\n",
      "print \"K\"\n",
      "#end\n"
     ],
     "language": "python",
     "metadata": {},
     "outputs": [
      {
       "output_type": "stream",
       "stream": "stdout",
       "text": [
        "Temperature of the system is  292.408352 K\n"
       ]
      }
     ],
     "prompt_number": 1
    },
    {
     "cell_type": "heading",
     "level": 2,
     "metadata": {},
     "source": [
      "Example 2.5  Page No : 33"
     ]
    },
    {
     "cell_type": "code",
     "collapsed": false,
     "input": [
      "import math\n",
      "import numpy\n",
      "from numpy.polynomial import Polynomial as poly\n",
      "\n",
      "\n",
      "#Given\n",
      "n = 1 #n is Kg moles of methane\n",
      "T = 423 #T is the temperatue of the system in kelvin\n",
      "P = float(100) #P is the pressure of the system in atm\n",
      "Tc = 191 #Tc is the critical temperature of the system in K\n",
      "Pc = 45.8 #Pc is the critical pressure of the system in atm\n",
      "R = 0.08206 #R is the gas consmath.tant in (m**3 atm/Kg mole K)\n",
      "\n",
      "#To calculate the volume of methane\n",
      "#(i)Umath.sing ideal gas equation\n",
      "V1 = (n*R*T)/P #V1 is the volume of the gas in m**3\n",
      "print \"i)Volume of the gas umath.sing ideal gas equation is \",\n",
      "print \"%.6f\"%V1,\n",
      "print \"cubic meter\"\n",
      "\n",
      "#(ii)Umath.sing Vander Waals' equation\n",
      "a = (27*(R**2)*(Tc**2))/(64*Pc) #Vander Waais consmath.tant\n",
      "b = (R*Tc)/(8*Pc) #Vander Waais consmath.tant\n",
      "q = numpy.poly1d([1,-(((R*T)+(b*P))/P),-((a*b)/P)+(a/P),0])\n",
      "r = numpy.roots(q)\n",
      "print \" ii)Volume of the gas umath.sing Vander Waals equation is\",\n",
      "print \"%.6f\"%r[0],\n",
      "print \"cubic meter\"\n",
      "\n",
      "#(iii)Umath.sing generalized Z chart\n",
      "Tr = T/Tc #Tr is the reduced temperatue\n",
      "Pr = P/Pc #Pr is the reduced pressure\n",
      "#From the figure A.2.2,\n",
      "Z = 0.97 #Z is the compressibility factor\n",
      "V = (Z*R*T)/P \n",
      "print \" iii)Volume of the gas umath.sing Z chart is \",\n",
      "print \"%.6f\"%V,\n",
      "print \"cubic meter\"\n",
      "\n",
      "#(iv)Umath.sing molar polarisation method\n",
      "#From Table 2.2\n",
      "Pmc = 6.82 #Pmc is the molar polarisation for methane\n",
      "#From figure A.2.4\n",
      "Z0 = .965 \n",
      "Z1 = 14.8*(10**-4)\n",
      "Z = Z0+(Z1*Pmc)\n",
      "V = (Z*R*T)/P\n",
      "print \" iv)Volume of the gas umath.sing molar polarisation method is \",\n",
      "print \"%.6f\"%V,\n",
      "print \"cubic meter\"\n",
      "\n",
      "\n",
      "#(v)From experiment\n",
      "#Given\n",
      "Z = 0.9848\n",
      "V = (0.9848*n*R*T)/P\n",
      "print \" v)Volume of the gas calculated by experimental Z value is \",\n",
      "print \"%.6f\"%V,\n",
      "print \"cubic meter\"\n",
      "#end\n"
     ],
     "language": "python",
     "metadata": {},
     "outputs": [
      {
       "output_type": "stream",
       "stream": "stdout",
       "text": [
        "i)Volume of the gas umath.sing ideal gas equation is  0.347114 cubic meter\n",
        " ii)Volume of the gas umath.sing Vander Waals equation is"
       ]
      },
      {
       "output_type": "stream",
       "stream": "stdout",
       "text": [
        " 0.322787 cubic meter\n",
        " iii)Volume of the gas umath.sing Z chart is  0.336700 cubic meter\n",
        " iv)Volume of the gas umath.sing molar polarisation method is  0.338468 cubic meter\n",
        " v)Volume of the gas calculated by experimental Z value is  0.341838 cubic meter\n"
       ]
      }
     ],
     "prompt_number": 2
    },
    {
     "cell_type": "heading",
     "level": 2,
     "metadata": {},
     "source": [
      "Example 2.6  Page No : 35"
     ]
    },
    {
     "cell_type": "code",
     "collapsed": false,
     "input": [
      "%matplotlib inline\n",
      "import math\n",
      "import matplotlib.pyplot as plt\n",
      "import numpy\n",
      "\n",
      "#Given\n",
      "P1 = 266\n",
      "T1 = 473.16#Initial temperature in Kelvin\n",
      "T2 = 273.16#Final temperature in Kelvin\n",
      "V1 = 80\n",
      "V2 = 80 #Initial & final volume in litres\n",
      "N1 = (14.28/28)\n",
      "N2 = (14.28/28) #Initial and final Kg moles are equal\n",
      "Tc = 126 #Critical temperature of N2 in K\n",
      "Pc = 33.5#Critical pressure of N2 in atm\n",
      "\n",
      "#To calculate the final pressure achieved\n",
      "#(i)Umath.sing ideal gas law\n",
      "p2 = (P1*V1*N2*T2)/(V2*N1*T1);\n",
      "print \"i)Final pressure of N2  using ideal gas law is \",\n",
      "print \"%.6f\"%p2,\n",
      "print \"atm\"\n",
      "\n",
      "#(ii)Umath.sing generalized Z chart\n",
      "Tr1 = T1/Tc#reduced initial temp in k\n",
      "Pr1 = P1/Pc #reduced initial press in K\n",
      "#From the Z-chart compressibility factor coressponding to the above Tr1 &Pr1 is\n",
      "Z1 = 1.07\n",
      "P2 = [125,135,150]\n",
      "Z2 = [0.95, 0.96, 0.98]\n",
      "F = [];\n",
      "for i in range(0,3):\n",
      "    F.append((P2[i]/(Z2[i]*T2))-(P1/(Z1*T1)));\n",
      "plt.plot(P2,F)\n",
      "plt.ylabel(\"F\")\n",
      "plt.xlabel(\"P2\")\n",
      "plt.title(\"P2 vs F\")\n",
      "plt.show()\n",
      "P3 = numpy.interp(0,F,P2);\n",
      "print \" ii)Final pressure of N2 from Z chart is \",\n",
      "print \"%.6f\"%P3,\n",
      "print \" atm\"\n",
      "#(iii)Umath.sing Pseudo reduced density chart\n",
      "R = 0.082 #gas consmath.tant\n",
      "v = V1/N1 #Volume per moles of nitrogen in m**3/Kg mole\n",
      "Dr = (R*Tc)/(Pc*v)\n",
      "Tr2 = T2/Tc #final reduced temp in K\n",
      "#From figure A.2.1, reduced pressure coressponding to this Dr and Tr2 is\n",
      "Pr2 = 4.1#final reduced pressure in atm\n",
      "p2_ = Pr2*Pc\n",
      "print \" iii)Final pressure achieved umath.sing Dr chart is \",\n",
      "print \"%.6f\"%p2_,\n",
      "print \"atm\"\n",
      "#end\n"
     ],
     "language": "python",
     "metadata": {},
     "outputs": [
      {
       "output_type": "stream",
       "stream": "stdout",
       "text": [
        "i)Final pressure of N2  using ideal gas law is  153.564460 atm\n"
       ]
      },
      {
       "metadata": {},
       "output_type": "display_data",
       "png": "[encoded data removed]",
       "text": [
        "<matplotlib.figure.Figure at 0x1108b2610>"
       ]
      },
      {
       "output_type": "stream",
       "stream": "stdout",
       "text": [
        " ii)Final pressure of N2 from Z chart is  138.489629  atm\n",
        " iii)Final pressure achieved umath.sing Dr chart is  137.350000 atm\n"
       ]
      }
     ],
     "prompt_number": 4
    },
    {
     "cell_type": "heading",
     "level": 2,
     "metadata": {},
     "source": [
      "Example 2.7  Page No : 36"
     ]
    },
    {
     "cell_type": "code",
     "collapsed": false,
     "input": [
      "import math \n",
      "\n",
      "#Given\n",
      "n = 1 #n is the Kg mole of methane gas\n",
      "T = 298 #T is the consmath.tant temperature in K\n",
      "P1 = 1 #P1 is the initial pressure of the system\n",
      "P2 = 100 #P2 is the final pressure of the system\n",
      "R = 8314.4 #R is the gas consmath.tant in Nm/Kgmole deg K\n",
      "\n",
      "#To compute the work required\n",
      "#(i)Umath.sing ideal gas law\n",
      "W = R*T*math.log(P1/float(P2))\n",
      "print \"i)Work done by the system if the gas obeys ideal gas law is \",\n",
      "print \"%.2e\"%W,\n",
      "print \n",
      "\n",
      "#(ii)Umath.sing Vander Waals' equation\n",
      "#Given\n",
      "#For methane\n",
      "a = 2.32*(10**5) #Vander Wals' consmath.tant a in N/m**2\n",
      "b = 0.0428 #Vanderwaals' consmath.tant b in m**3\n",
      "#V1 and V2 are evaluated by trial and error umath.sing Vanderwaals' equation as P1 and P2 are known\n",
      "V1 = 11.1 #initial volume of the gas in m**3\n",
      "V2 = 0.089 #final volume of the gas in m**3\n",
      "W = (R*T*math.log((V2-b)/(V1-b)))+(a*((1/V2)-(1/V1)))\n",
      "print \" ii)Work done by the system if the gas obeys Vander Waals equation is \",\n",
      "print \"%.2e\"%W,\n",
      "print \"Nm\"\n",
      "#end\n"
     ],
     "language": "python",
     "metadata": {},
     "outputs": [
      {
       "output_type": "stream",
       "stream": "stdout",
       "text": [
        "i)Work done by the system if the gas obeys ideal gas law is  -1.14e+07\n",
        " ii)Work done by the system if the gas obeys Vander Waals equation is  -1.10e+07 Nm\n"
       ]
      }
     ],
     "prompt_number": 5
    },
    {
     "cell_type": "heading",
     "level": 2,
     "metadata": {},
     "source": [
      "Example 2.8  Page No : 38"
     ]
    },
    {
     "cell_type": "code",
     "collapsed": false,
     "input": [
      "%matplotlib inline\n",
      "import math\n",
      "import matplotlib.pyplot as plt\n",
      "import numpy\n",
      "\n",
      "#Given\n",
      "V = 27*(10**-3) #Volume of the container in m**3\n",
      "n = (15/70.91) #n is the Kg moles of chlorine\n",
      "T = float(293)#T is the temperature in K\n",
      "R = 0.08206\n",
      "P = pow(10,(4.39-(1045/293))) #P is the vapour pressure of chlorine\n",
      "Pc = 76.1 #Critical pressure of Chlorine\n",
      "Tc = float(417) #Critical temperature of Chlorine \n",
      "Pr = P/Pc #Reduced pressure of Chlorine\n",
      "Tr = T/Tc #Critical temperature of Chlorine\n",
      "M = 70.91 #Molecular weight of the Chlorine\n",
      "\n",
      "#To determine the vapour pressure of chlorine, amount of liquid Cl2 and temperature required\n",
      "#(i)Specific volume of liquid Chlorine\n",
      "#From figure A.2.2\n",
      "Zg = 0.93\n",
      "#From figure A.2.6\n",
      "Zl = 0.013\n",
      "vl = ((Zl*R*T)/P)\n",
      "print \"i)Specific volume of liquid Chlorine from compressibility chart is \",\n",
      "print \"%.6f\"%vl,\n",
      "print \"cubic meter /Kgmole\"\n",
      "\n",
      "#From Francis relation, taking the consmath.tants from Table 2.3\n",
      "D = (1.606-(216*(10**-5)*20)-(28/(200-20)))*10**3 #Density of liq Cl2 in Kg/m**3\n",
      "Vl = M/D;\n",
      "print \"   Specific volume of liquid Chlorine from Francis relation is \",\n",
      "print \"%.6f\"%Vl,\n",
      "print \"cubic meter /Kgmole\"\n",
      "\n",
      "#(ii)Amount of liquid Cl2 present in the cylinder\n",
      "vg = ((Zg*R*T)/P)\n",
      "V1 = V-vg #V1 is the volume of liquid Chlorine\n",
      "Vct = 0.027 #volume of the container\n",
      "Vg = (0.212-(Vct/vl))/((1/vg)-(1/vl)) #By material balance\n",
      "W = ((V-Vg)*70.9)/vl \n",
      "print \" ii)Weight of Chlorine at 20deg cel is \",\n",
      "print \"%.6f\"%W\n",
      "print \"Kg\"\n",
      "\n",
      "#(iii)Calculation of temperature required to evaporate all the liquid chlorine\n",
      "#math.log P' = 4.39 - 1045/T (given)\n",
      "#Assume the various temperature\n",
      "Ng = 0.212#total Kg moles of gas\n",
      "Ta = [413,415,417]\n",
      "N = [0,0,0]\n",
      "for i in range(0,3):\n",
      "    Tr = Ta[i]/Tc #reduced temperature in K\n",
      "    P = pow(10,(4.39-(1045/Ta[i])))\n",
      "    Pr = P/Pc #reduced pressure in K\n",
      "#From the compressibility factor chart,Z values coressponding to the above Tr &Pr are given as\n",
      "    Z = [0.4,0.328,0.208]\n",
      "    N[i] = (P*Vct)/(Z[i]*R*Ta[i])\n",
      "#end\n",
      "\n",
      "\n",
      "plt.plot(N,Ta)\n",
      "plt.ylabel(\"Ta\")\n",
      "plt.xlabel(\"N\")\n",
      "plt.title(\"Ta vs N\")\n",
      "plt.show()\n",
      "T1 = numpy.interp(0.212,N,Ta) #in K\n",
      "print \" iii)The temperature required to evaporate all the liquid chlorine is \",\n",
      "print \"%.6f\"%(T1-273),\n",
      "print \"deg celsius\"\n",
      "#end\n"
     ],
     "language": "python",
     "metadata": {},
     "outputs": [
      {
       "output_type": "stream",
       "stream": "stdout",
       "text": [
        "i)Specific volume of liquid Chlorine from compressibility chart is  0.012733 cubic meter /Kgmole\n",
        "   Specific volume of liquid Chlorine from Francis relation is  0.045374 cubic meter /Kgmole\n",
        " ii)Weight of Chlorine at 20deg cel is  13.112602\n",
        "Kg\n"
       ]
      },
      {
       "metadata": {},
       "output_type": "display_data",
       "png": "[encoded data removed]",
       "text": [
        "<matplotlib.figure.Figure at 0x1108b5a50>"
       ]
      },
      {
       "output_type": "stream",
       "stream": "stdout",
       "text": [
        " iii)The temperature required to evaporate all the liquid chlorine is  140.000000 deg celsius\n"
       ]
      }
     ],
     "prompt_number": 6
    },
    {
     "cell_type": "heading",
     "level": 2,
     "metadata": {},
     "source": [
      "Example 2.9  Page No : 40"
     ]
    },
    {
     "cell_type": "code",
     "collapsed": false,
     "input": [
      "import math\n",
      "import numpy\n",
      "\n",
      "\n",
      "#Given\n",
      "N1 = 0.7 #Kg mole of CH4\n",
      "N2 = 0.3 #Kg mole of N2\n",
      "R = 0.08206 #Gas consmath.tant\n",
      "T = float(323) #Temperature in Kelvin\n",
      "V = 0.04 #Volume in m**3\n",
      "a1 = 2.280\n",
      "b1 = 0.0428 #Vanderwaals consmath.tants for CH4\n",
      "a2 = 1.345\n",
      "b2 = 0.0386 #Vanderwaals consmath.tants for N2\n",
      "Tc1 = 191\n",
      "Pc1 = 45.8 #Critical temperature in K and pressure of CH4 in atm\n",
      "Tc2 = 126\n",
      "Pc2 = 33.5 #Critical temperature in K and pressure of N2 in atm\n",
      "\n",
      "#To find Approx Value\n",
      "def approx(V,n):\n",
      "    A = numpy.around([V*pow(10,n)])/pow(10,n)\n",
      "    return A[0]\n",
      "\n",
      "#To calculate the pressure exerted by the gas mixture\n",
      "#(i)Umath.sing ideal gas law\n",
      "P = (N1+N2)*((R*T)/V)\n",
      "print \"i) Pressure exerted by the gas mixture umath.sing ideal gas law is \",\n",
      "print \"%d\"%P,\n",
      "print \"atm\"\n",
      "\n",
      "#(ii)Umath.sing Vander waal equation\n",
      "P1 = ((N1*R*T)/(V-(N1*b1)))-((a1*(N1**2))/(V**2)) #Partial pressure of CH4\n",
      "P2 = ((N2*R*T)/(V-(N2*b2)))-((a2*(N2**2))/(V**2)) #Partial pressure of N2\n",
      "Pt = P1+P2 \n",
      "print \"ii) Pressure exerted by the gas mixture umath.sing Vander waal equation is \",\n",
      "print \"%.6f\"%Pt,\n",
      "print \"atm\"\n",
      "\n",
      "#(iii)Umath.sing Zchart and Dalton's law\n",
      "Tra = T/Tc1 #reduced temperature of CH4\n",
      "Trb = T/Tc2 #reduced temperature of N2\n",
      "#Asssume the pressure\n",
      "P = [660,732,793,815,831]\n",
      "Pa =[]\n",
      "Pb = []\n",
      "Pra = []\n",
      "Prb = []\n",
      "for i in range(0,5):\n",
      "    Pa.append(N1*P[i]) # partial pressure of CH4 for the ith total pressure\n",
      "    Pb.append(N2*P[i]) # partial pressure of N2 for the ith total pressure\n",
      "    Pra.append(Pa[i]/Pc1) #reduced pressure of CH4 for the ith total pressure\n",
      "    Prb.append(Pb[i]/Pc2) #reduced pressure of N2 for the ith total pressure\n",
      "#end\n",
      "\n",
      "#For the above Pr and Tr values compressibility factors  from the figure A.2.3 are given as\n",
      "Za = [1.154,1.280,1.331,1.370,1.390] #Z values of CH4  \n",
      "Zb = [1,1,1,1,1]#Z values of N2\n",
      "V3 = 0.0421\n",
      "for i in range(0,5):\n",
      "    Pa[i] = Za[i]*N1*((R*T)/V);#partial pressure of CH4 coressponding to the ith total presure\n",
      "    Pb[i] = Zb[i]*N2*((R*T)/V);#partial pressure of N2 coressponding to the ith total pressure\n",
      "    Pt = Pa[i]+Pb[i] #total pressure of the gas mixture\n",
      "    if Pt-P[i] < 15:\n",
      "        print \"iii) pressure exerted by the gas mixture umath.sing Z chart and Dalton Law is \",\n",
      "        print \"%d\"%Pt,\n",
      "        print \"atm\"\n",
      "    #end\n",
      "#end\n",
      "\n",
      "#(iv)Umath.sing Amagat's law and Z chart\n",
      "P = [1000,1200,1500,1700]\n",
      "for i in range(0,4):\n",
      "    Pra[i] = P[i]/Pc1\n",
      "    Prb[i] = P[i]/Pc2\n",
      "#end\n",
      "#For the above Pr and Tr values compressibility factors  from the figure A.2.3 are given as\n",
      "Za = [1.87,2.14,2.52,2.77]\n",
      "Zb = [1.80,2.10,2.37,2.54]\n",
      "Va = []\n",
      "Vb = []\n",
      "V1 = []\n",
      "for i in range(0,4):\n",
      "    Va.append(approx((N1*Za[i]*((R*T)/P[i])),4))\n",
      "    Vb.append(approx((N2*Zb[i]*((R*T)/P[i])),4))\n",
      "    V1.append(approx((Va[i]+Vb[i]),4))\n",
      "    if V1[i]-V <= 0.003:\n",
      "        print \"iv) Pressure exerted by the gas mixture umath.sing Amagat law and Zchart is \",\n",
      "        print \"%d\"%P[i],\n",
      "        print \"atm\"\n",
      "#end\n",
      "#end\n",
      "#end\n"
     ],
     "language": "python",
     "metadata": {},
     "outputs": [
      {
       "output_type": "stream",
       "stream": "stdout",
       "text": [
        "i) Pressure exerted by the gas mixture umath.sing ideal gas law is  662 atm\n",
        "ii) Pressure exerted by the gas mixture umath.sing Vander waal equation is  1353.867785 atm\n",
        "iii) pressure exerted by the gas mixture umath.sing Z chart and Dalton Law is  843 atm\n",
        "iv) Pressure exerted by the gas mixture umath.sing Amagat law and Zchart is  1700 atm\n"
       ]
      }
     ],
     "prompt_number": 8
    },
    {
     "cell_type": "heading",
     "level": 2,
     "metadata": {},
     "source": [
      "Example 2.10  Page No : 41"
     ]
    },
    {
     "cell_type": "code",
     "collapsed": false,
     "input": [
      "import math \n",
      "\n",
      "#Given\n",
      "yN2 = 1.0/4 #mole faction of N2 in the mixture\n",
      "yH2 = 3.0/4 #mole fraction of H2 in the mixture\n",
      "V = 5.7 #V is the rate at which mixture enters in m**3 in 1 hour\n",
      "P = float(600) #P is in atm\n",
      "T = float(298) #T is in K\n",
      "TcN2 = float(126) #critical temp of N2 in K\n",
      "TcH2 = 33.3 #critical temp of H2 in K\n",
      "TcNh3 = 406.0 #critical temp of NH3 in K\n",
      "PcN2 = 33.5 #critical pressure of N2 in atm\n",
      "PcH2 = 12.8 #critical pressure of H2 in atm\n",
      "PcNH3 = 111.0 #critical pressure of NH3 in atm\n",
      "R = 0.082 #gas consmath.tant\n",
      "\n",
      "#To calculate the amount of ammonia leaving the reactor and the velocity of gaseous product leaving the reactor\n",
      "#(i)Calculation of amount of NH3 leaving the reactor\n",
      "Tcm = (TcN2*yN2)+(TcH2*yH2) #critical temperature of the mixture\n",
      "Pcm = (PcN2*yN2)+(PcH2*yH2) #critical pressure of the mixture\n",
      "Trm = T/Tcm \n",
      "Prm = P/Pcm \n",
      "#From figure A.2.3\n",
      "Zm = 1.57 #compressibility factor of the mixture\n",
      "N = (P*V)/(Zm*R*T) #Kg mole of the mixture \n",
      "N1 = 0.25*N #Kg mole of N2 in feed\n",
      "#N2+3H2 - 2NH3\n",
      "W = 2*0.15*N1*17 \n",
      "print \"i)Ammonia formed per hour is \",\n",
      "print \"%.6f\"%W,\n",
      "print \"Kg\"\n",
      "\n",
      "#(ii)Calculation of velocity\n",
      "N1 = 0.25*N-(0.25*N*0.15) #Kg mole of N2 after reactor\n",
      "N2 = 0.75*N-(0.75*N*0.15) #Kg mole of H2 after reactor\n",
      "N3 = 0.25*N*2*0.15 #Kg mole of NH3 after reactor\n",
      "Nt = N1+N2+N3 #total Kg moles after reactor\n",
      "y1NH3 = N3/Nt #mole fraction of NH3 after reactor\n",
      "y1N2 = N1/Nt #mole fraction of N2 after reactor\n",
      "y1H2 = N2/Nt #mole fraction of H2 after reactor\n",
      "T1cm = (TcN2*y1N2)+(TcH2*y1H2) \n",
      "P1cm = (PcN2*y1N2)+(PcH2*y1H2) \n",
      "T1 = 448 #in K\n",
      "P1 = 550 #in atm\n",
      "T1rm = T1/T1cm \n",
      "P1rm = P1/P1cm\n",
      "#From Figure A.2.2\n",
      "Zm1 = 1.38\n",
      "V1 = (Zm1*Nt*R*T1)/P1\n",
      "d = 5*(10**-2)#diameter of pipe\n",
      "v = V1/((math.pi/4)*(d**2)*3600)\n",
      "print \"ii)Velocity in pipe is \",\n",
      "print \"%.6f\"%v,\n",
      "print \"m/s\"\n",
      "#end\n"
     ],
     "language": "python",
     "metadata": {},
     "outputs": [
      {
       "output_type": "stream",
       "stream": "stdout",
       "text": [
        "i)Ammonia formed per hour is  113.659704 Kg\n",
        "ii)Velocity in pipe is  1.075261 m/s\n"
       ]
      }
     ],
     "prompt_number": 9
    }
   ],
   "metadata": {}
  }
 ]
}