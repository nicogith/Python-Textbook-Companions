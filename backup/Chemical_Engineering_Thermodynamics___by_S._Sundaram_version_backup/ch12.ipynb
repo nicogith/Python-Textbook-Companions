{
 "metadata": {
  "name": "",
  "signature": "sha256:abd9968b31b6fc770d85971aacc78f09c6ba4e5596d9831c5736d23440171297"
 },
 "nbformat": 3,
 "nbformat_minor": 0,
 "worksheets": [
  {
   "cells": [
    {
     "cell_type": "heading",
     "level": 1,
     "metadata": {},
     "source": [
      "Chapter 12 : Refrigeration"
     ]
    },
    {
     "cell_type": "heading",
     "level": 2,
     "metadata": {},
     "source": [
      "Example 12.1  Page No : 216"
     ]
    },
    {
     "cell_type": "code",
     "collapsed": false,
     "input": [
      "#Given\n",
      "m = 500.0;#mass of ice produced per hour  in Kg\n",
      "T1 = 15.0;#Initial temperature of water\n",
      "T2 = -5.0;#Final temperature of ice\n",
      "Ci = 0.5;#Specific  heat of ice in Kcal/Kg deg celsius\n",
      "Cw = 1.0;#Specific heat of water in Kcal/Kg deg celsius\n",
      "L_f = 79.71;#Latent heat of fusion in Kcal/Kg\n",
      "Tf = 0.0;#Frezzing point of ice in deg celsius\n",
      "\n",
      "#To Calculate the theoretical horse power required\n",
      "Q2 = m*(Cw*(T1-Tf)+L_f+Ci*(Tf-T2));#Heat to be extracted per hour in Kcal\n",
      "#From equation 12.1 (page no 220)\n",
      "COP = (T2+273)/((T1+273)-(T2+273));\n",
      "W = Q2/COP;#Work in Kcal/hr\n",
      "W1 = W*(427/(60*4500.0));\n",
      "print \"The therotical horse power required is %f hp\"%(W1);\n",
      "#end\n"
     ],
     "language": "python",
     "metadata": {},
     "outputs": [
      {
       "output_type": "stream",
       "stream": "stdout",
       "text": [
        "The therotical horse power required is 5.736411 hp\n"
       ]
      }
     ],
     "prompt_number": 1
    },
    {
     "cell_type": "heading",
     "level": 2,
     "metadata": {},
     "source": [
      "Example 12.2  Page No : 217"
     ]
    },
    {
     "cell_type": "code",
     "collapsed": false,
     "input": [
      "import math\n",
      "from scipy.integrate import quad\n",
      "\n",
      "#Given\n",
      "Ta = 298.0;#Initial temperature in K\n",
      "Tb = 203.0;#Final temperature in k\n",
      "T1 = 298.0;#Water temperature in K\n",
      "n = 1.0;#Kgmole of CO2\n",
      "#Cp = 5.89+0.0112T ; Specific heat of CO2 in Kcal/Kgmole K\n",
      "\n",
      "#To Calculate the compressor load\n",
      "#From equation 12.2a and b (page no 221)\n",
      "def f(T):\n",
      "    y = ((T1-T)/T)*n*(5.89+0.0112*T);\n",
      "    return y\n",
      "W = quad(f,Ta,Tb)[0];\n",
      "print \"The compressor load is %f Kcal/Kgmole\"%(W);\n",
      "#end\n"
     ],
     "language": "python",
     "metadata": {},
     "outputs": [
      {
       "output_type": "stream",
       "stream": "stdout",
       "text": [
        "The compressor load is -164.797031 Kcal/Kgmole\n"
       ]
      }
     ],
     "prompt_number": 3
    },
    {
     "cell_type": "heading",
     "level": 2,
     "metadata": {},
     "source": [
      "Example 12.3  Page No : 221"
     ]
    },
    {
     "cell_type": "code",
     "collapsed": false,
     "input": [
      "\n",
      "#Given\n",
      "#Consider the figure 12.4 (page no 226) \n",
      "m = 5.0;#tonnes of refrigeration\n",
      "T1 = 273-10.0;#temperature of the saturated vapour in K\n",
      "T2 = 273+35.0;#temperature of the super heated vapour in K\n",
      "T3 = 273+25.0;#temperature of the saturated liquid in K\n",
      "T4 = 273+25.0;#temperature of the wet vapour in K\n",
      "H1 = 341.8;#enthalpy of the saturated vapour in Kcal/Kg\n",
      "H2 = 409.0;#enthalpy of the super heated vapour in Kcal/Kg\n",
      "H3 = 350.0;#enthalpy of the saturated liquid in Kcal/Kg\n",
      "H4 = 71.3;#enthalpy of the wet vapour in Kcal/Kg\n",
      "\n",
      "#To Calculate the C.O.P, mass of refrigerant required, compressor horse power required and the C.O.P & compressor horse power for a reversed Carnot cycle\n",
      "#(i)Calculation of the C.O.P of the compression cycle\n",
      "#From equation 12.6 (page no 226)\n",
      "COP = (H1-H4)/(H2-H1);\n",
      "print \"i)C.O.P of the compression cycle is %f\"%(COP);\n",
      "\n",
      "#(ii)Calculation of mass of refrigerant required\n",
      "#From equation 12.7 (page no 226)\n",
      "M = (m*50.4)/(H1-H4);\n",
      "print \" ii)The mass of refrigerant required is %f Kg/mt\"%(M);\n",
      "\n",
      "#(iii)Calculation of the compressor horse power\n",
      "#From equation 12.5 (page no 226)\n",
      "C_hp = (H2-H1)*M*(427/4500.0);\n",
      "print \" iii)The compressor horse power is %f hp\"%(C_hp);\n",
      "\n",
      "#(iv)Calculation for reversed Carnot cycle\n",
      "#From equation 12.1 (page no 220)\n",
      "COP = T1/(T3-T1);\n",
      "print \" iv)C.O.P for the reversed Carnot cycle is %f\"%(COP);\n",
      "Q2 = m*50.4*(427/4500.0);#in hp\n",
      "C_hp = Q2/COP\n",
      "print \"    Compressor horse power for the reversed Carnot cycle is %f hp\"%(C_hp);\n",
      "#end\n"
     ],
     "language": "python",
     "metadata": {},
     "outputs": [
      {
       "output_type": "stream",
       "stream": "stdout",
       "text": [
        "i)C.O.P of the compression cycle is 4.025298\n",
        " ii)The mass of refrigerant required is 0.931608 Kg/mt\n",
        " iii)The compressor horse power is 5.940430 hp\n",
        " iv)C.O.P for the reversed Carnot cycle is 7.514286\n",
        "    Compressor horse power for the reversed Carnot cycle is 3.182205 hp\n"
       ]
      }
     ],
     "prompt_number": 4
    },
    {
     "cell_type": "heading",
     "level": 2,
     "metadata": {},
     "source": [
      "Example 12.4  Page No : 225"
     ]
    },
    {
     "cell_type": "code",
     "collapsed": false,
     "input": [
      "#Given\n",
      "#Water at 20 deg cel is chilled to 10 deg cel by flash evaporation\n",
      "Pv = 0.012;#Vapour pressure of water at 10 deg celsius in Kgf/sq.cm\n",
      "H1 = 20.03;#Enthalpy of liquid water at 20 deg cel in Kcal/Kg\n",
      "H2 = 10.4;#Enthalpy of liquid water at 10 deg cel in Kcal/Kg\n",
      "Hv = 601.6;#Enthalpy of saturated vapour at 10 deg cel in Kcal/kg\n",
      "\n",
      "#To calculate the pressure in the math.tank and the amount of make up water required\n",
      "P = Pv;#pressure in the math.tank = vapour pressure of water\n",
      "print \"The pressure in the math.tank is %f Kgf/sq.cm\"%(P);\n",
      "#From equation 12.8 (page no 234)\n",
      "x = (H1-H2)/(Hv-H2);\n",
      "print \" The amount of make up water required is %f Kg\"%(x);\n",
      "#end\n"
     ],
     "language": "python",
     "metadata": {},
     "outputs": [
      {
       "output_type": "stream",
       "stream": "stdout",
       "text": [
        "The pressure in the math.tank is 0.012000 Kgf/sq.cm\n",
        " The amount of make up water required is 0.016289 Kg\n"
       ]
      }
     ],
     "prompt_number": 5
    }
   ],
   "metadata": {}
  }
 ]
}