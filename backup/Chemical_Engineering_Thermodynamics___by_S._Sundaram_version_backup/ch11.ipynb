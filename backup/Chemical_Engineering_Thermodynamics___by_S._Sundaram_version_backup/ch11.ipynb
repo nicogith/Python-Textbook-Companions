{
 "metadata": {
  "name": "",
  "signature": "sha256:311c74298b5b14a54f4d1278f9c15d5918adb65c1f1cd4717c56b8ba91310447"
 },
 "nbformat": 3,
 "nbformat_minor": 0,
 "worksheets": [
  {
   "cells": [
    {
     "cell_type": "heading",
     "level": 1,
     "metadata": {},
     "source": [
      "Chapter 11 : Liquefaction of Gases"
     ]
    },
    {
     "cell_type": "heading",
     "level": 2,
     "metadata": {},
     "source": [
      "Example 11.1  Page No : 195"
     ]
    },
    {
     "cell_type": "code",
     "collapsed": false,
     "input": [
      "\n",
      "#Given\n",
      "P1 = 8.74;#Initial pressure in Kgf/sq cm\n",
      "P2 = 2.41;#Final pressure in Kgf/sq cm\n",
      "H1 = 327.13;#Enthalpy of inlet stream in Kcal/Kg\n",
      "Hl = 26.8;#Enthalpy of liquid  at the final condition in Kcal/Kg\n",
      "H2 = H1#Enthalpy of exit stream in Kcal/Kg ,math.since throttling is isenthalpic\n",
      "Hg = 340.3;#Enthalpy of gas at the final condition  in Kcal/Kg\n",
      "vl = 152*10**-5;#Specific volume of liquid at the final condition in cubic meter/Kg\n",
      "vg = 0.509;#Specific volume of gas at the final condition in cubic meter/Kg\n",
      "v1 = 0.1494;#Initial specific volume in cubic meter/Kg\n",
      "\n",
      "#To Calculate the dryness fraction of exit stream and the ratio of upstream to downstream diameters\n",
      "#(i)Calculation of the dryness fraction of exit stream\n",
      "#From equation 3.13(a) (page no 82)\n",
      "x = (H2- Hl)/(Hg-Hl);\n",
      "print \"i)The dryness fraction of the exit stream is %f\"%(x);\n",
      "\n",
      "#(ii)Calculation of the ratio of upstream to downstream pipe diameters\n",
      "#From equation 3.13(b) (page no 82)\n",
      "v2 = (vl*(1-x))+(x*vg);#Total specific volume at the final condition in cubic meter/Kg\n",
      "#u1 = u2; math.since KE changes are negligible\n",
      "#From continuity equation: A2/A1 = D2**2/D1**2 = v2/v1 ; let required ratio,r = D2/D1;\n",
      "r = (v2/v1)**(1/2);\n",
      "print \" ii)The ratio of upstream to downstream diameters  is %f\"%(r);\n",
      "#end\n"
     ],
     "language": "python",
     "metadata": {},
     "outputs": [
      {
       "output_type": "stream",
       "stream": "stdout",
       "text": [
        "i)The dryness fraction of the exit stream is 0.957990\n",
        " ii)The ratio of upstream to downstream diameters  is 1.000000\n"
       ]
      }
     ],
     "prompt_number": 1
    },
    {
     "cell_type": "heading",
     "level": 2,
     "metadata": {},
     "source": [
      "Example 11.2  Page No : 199"
     ]
    },
    {
     "cell_type": "code",
     "collapsed": false,
     "input": [
      "#Given\n",
      "P1 = 1000*1.033*10**4;#Initial pressure in Kgf/sq m\n",
      "P2 = 1*1.033*10**4;#Final pressure in Kgf/sq m\n",
      "T1 = 300.0;#Inital temperature in K\n",
      "Cp = 7.0;#Specific heat of the gas in Kcal/Kgmole K\n",
      "#Gas obeys the relation: v = (R*T)/P+(b*(T**2))\n",
      "b = 5.4392*10**-8;#in cubic meter/Kgmole K**2\n",
      "\n",
      "#To Calculate the temperature of the throttled gas\n",
      "#From equation (a) (page no 212);which we got after integration \n",
      "T2 = 1/((1/T1)-((b/Cp)*((P2-P1)/427)));\n",
      "print \"The throttled gas is cooled to %f K\"%(T2);\n"
     ],
     "language": "python",
     "metadata": {},
     "outputs": [
      {
       "output_type": "stream",
       "stream": "stdout",
       "text": [
        "The throttled gas is cooled to 284.000191 K\n"
       ]
      }
     ],
     "prompt_number": 2
    },
    {
     "cell_type": "heading",
     "level": 2,
     "metadata": {},
     "source": [
      "Example 11.3  Page No : 203"
     ]
    },
    {
     "cell_type": "code",
     "collapsed": false,
     "input": [
      "#Given\n",
      "#From the figure 11.8 (page no 216) & from figure A.2.7\n",
      "H3 = 0.0;\n",
      "H7 = -47.0;#in Kcal/Kg\n",
      "H6 = -93.0;#in Kcal/Kg\n",
      "H8 = 7.0;#in Kcal/Kg\n",
      "\n",
      "#To Calculate the fraction of air liquified at steady state and temperature of air before throttling\n",
      "#(i)Calculation of fraction of air liquified\n",
      "#From equation 11.3 (page no 215)\n",
      "x = (H8-H3)/(H8-H6);\n",
      "print \"The fraction of air liquified is %f\"%(x);\n",
      "\n",
      "#(ii)Calculation of temperature \n",
      "H4 = H3+(H7*(1-x))-(H8*(1-x));#enthalpy of the gas before throttling\n",
      "#From figure A.2.7 temperature corresponds to pressure 160 atm and the enthalpy H4 is\n",
      "T = -112;\n",
      "print \" The temperature of air before throttling is %d deg celsius\"%(T);\n",
      "#end\n"
     ],
     "language": "python",
     "metadata": {},
     "outputs": [
      {
       "output_type": "stream",
       "stream": "stdout",
       "text": [
        "The fraction of air liquified is 0.070000\n",
        " The temperature of air before throttling is -112 deg celsius\n"
       ]
      }
     ],
     "prompt_number": 3
    }
   ],
   "metadata": {}
  }
 ]
}