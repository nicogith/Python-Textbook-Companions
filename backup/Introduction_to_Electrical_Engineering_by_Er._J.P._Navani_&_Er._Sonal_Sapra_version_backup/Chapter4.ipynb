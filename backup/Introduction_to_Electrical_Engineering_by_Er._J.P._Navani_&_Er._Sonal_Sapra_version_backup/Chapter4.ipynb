{
 "cells": [
  {
   "cell_type": "markdown",
   "metadata": {},
   "source": [
    "# Chapter 4: Analysis of Single Phase AC Circuit"
   ]
  },
  {
   "cell_type": "markdown",
   "metadata": {},
   "source": [
    "## Example 1: pg 167"
   ]
  },
  {
   "cell_type": "code",
   "execution_count": 1,
   "metadata": {
    "collapsed": false
   },
   "outputs": [
    {
     "name": "stdout",
     "output_type": "stream",
     "text": [
      "The currrent in A is 23.0\n",
      "The power consumed in W is 5290.0\n",
      "Voltage equation : v =  325.27  sin ( 314.0  t)\n",
      "Current equation : i =  32.53  sin ( 314.0  t)\n"
     ]
    }
   ],
   "source": [
    "# Exa 4.1\n",
    "#pg 167\n",
    "#calculate the current and power consumed\n",
    "# Given data\n",
    "from math import sqrt,pi\n",
    "R = 10.;# inohm\n",
    "V = 230.;# in V\n",
    "f = 50.;# in Hz\n",
    "#calculations\n",
    "I = V/R;# in A\n",
    "print \"The currrent in A is\",I\n",
    "P =V*I;# in W\n",
    "print \"The power consumed in W is\",P\n",
    "Vm = sqrt(2)*V;# in V\n",
    "Im =sqrt(2)*I;# in A\n",
    "omega = 2*pi*f;# in rad/sec\n",
    "#Equation for voltage: V = Vm*sind(omega*t) \n",
    "#Equation for current: i = Im*sind(omega*t)\n",
    "print \"Voltage equation : v = \",round(Vm,2),\" sin (\",round(omega),\" t)\"\n",
    "print \"Current equation : i = \",round(Im,2),\" sin (\",round(omega),\" t)\"\n"
   ]
  },
  {
   "cell_type": "markdown",
   "metadata": {},
   "source": [
    "## Example 2: pg 167"
   ]
  },
  {
   "cell_type": "code",
   "execution_count": 2,
   "metadata": {
    "collapsed": false
   },
   "outputs": [
    {
     "name": "stdout",
     "output_type": "stream",
     "text": [
      "Instantaneous power taken by resistor in watts is : \n",
      "450.0  (1+cos(2*omega*t))\n",
      "The average power in watts is :  450.0\n"
     ]
    }
   ],
   "source": [
    "# Exa 4.2\n",
    "#pg 167\n",
    "#calculate the instantaneous and average power\n",
    "# Given data\n",
    "from math import pi,cos\n",
    "R = 100.;# in ohm\n",
    "i= '3*cos(omega*t)';# in A\n",
    "#calculations\n",
    "A= R*3**2;# assumed\n",
    "P= R*3**2/2.*(1+cos(pi/2));# in watts\n",
    "#results\n",
    "print \"Instantaneous power taken by resistor in watts is : \"\n",
    "print round(A/2.),\" (1+cos(2*omega*t))\"\n",
    "print \"The average power in watts is : \",P\n"
   ]
  },
  {
   "cell_type": "markdown",
   "metadata": {},
   "source": [
    "## Example 3: pg 168"
   ]
  },
  {
   "cell_type": "code",
   "execution_count": 3,
   "metadata": {
    "collapsed": false
   },
   "outputs": [
    {
     "name": "stdout",
     "output_type": "stream",
     "text": [
      "Inductive reactance in ohm is 23.0\n",
      "Inductance of the coil in H is 0.0732\n",
      "Voltage equation : v =  325.27  sin ( 314.0  t)\n",
      "Current equation : i =  14.14  sin ( 314.0  t - pi/2)\n"
     ]
    }
   ],
   "source": [
    "# Exa 4.38\n",
    "#pg 168\n",
    "from math import pi,sqrt,sin\n",
    "# Given data\n",
    "I = 10.;# in A\n",
    "V = 230.;# in V\n",
    "f = 50.;# in Hz\n",
    "#calculations\n",
    "X_L = V/I;# in ohm\n",
    "# X_L = 2*%pi*f*L;\n",
    "Vrms = V;# in V\n",
    "Irms = I;# in A\n",
    "Vm = Vrms*sqrt(2);# in V\n",
    "Im = Irms*sqrt(2);# in A\n",
    "omega = 2*pi*f;# in rad/sec\n",
    "L = X_L/(2*pi*f);# in H\n",
    "#results\n",
    "#Equation for voltage: V = Vm*sind(omega*t) \n",
    "#Equation for current: i = Im*sind(omega*t)\n",
    "print \"Inductive reactance in ohm is\",X_L\n",
    "print \"Inductance of the coil in H is\",round(L,4)\n",
    "print \"Voltage equation : v = \",round(Vm,2),\" sin (\",round(omega),\" t)\"\n",
    "print \"Current equation : i = \",round(Im,2),\" sin (\",round(omega),\" t - pi/2)\"\n"
   ]
  },
  {
   "cell_type": "markdown",
   "metadata": {},
   "source": [
    "## Example 4: pg 168"
   ]
  },
  {
   "cell_type": "code",
   "execution_count": 4,
   "metadata": {
    "collapsed": false
   },
   "outputs": [
    {
     "name": "stdout",
     "output_type": "stream",
     "text": [
      "The capacitive reactance in ohm is 10.0\n",
      "The R.M.S value of current in A is 23.0\n",
      "Voltage equation : v =  325.27  sin ( 314.0  t)\n",
      "Current equation : i =  32.5  sin ( 314.0  t + pi/2)\n"
     ]
    }
   ],
   "source": [
    "# Exa 4.4\n",
    "#pg 168\n",
    "#calculate the voltage and current equations\n",
    "# GIven data\n",
    "from math import pi,sqrt\n",
    "C = 318.;# in muF\n",
    "C = C * 10**-6;# in F\n",
    "V = 230.;# in V\n",
    "f = 50.;# in Hz\n",
    "#calculations\n",
    "X_C = 1/(2*pi*f*C);# in ohm\n",
    "print \"The capacitive reactance in ohm is\",round(X_C)\n",
    "I = V/X_C;# in A\n",
    "print \"The R.M.S value of current in A is\",round(I)\n",
    "Vrms = V;# in V\n",
    "Irms = I;# in A\n",
    "Vm = Vrms*sqrt(2);# in V\n",
    "Im = Irms*sqrt(2);# in A\n",
    "omega = 2*pi*f;# in rad/sec\n",
    "# V = Vm*sind(omega*t);\n",
    "# i = Im*sind((omega*t)+(%pi/2));\n",
    "#Equation for voltage: V = Vm*sind(omega*t) \n",
    "#Equation for current: i = Im*sind(omega*t)\n",
    "print \"Voltage equation : v = \",round(Vm,2),\" sin (\",round(omega),\" t)\"\n",
    "print \"Current equation : i = \",round(Im,2),\" sin (\",round(omega),\" t + pi/2)\"\n"
   ]
  },
  {
   "cell_type": "markdown",
   "metadata": {},
   "source": [
    "## Example 5: pg 169"
   ]
  },
  {
   "cell_type": "code",
   "execution_count": 5,
   "metadata": {
    "collapsed": false
   },
   "outputs": [
    {
     "name": "stdout",
     "output_type": "stream",
     "text": [
      "The circuit current in A is 18.85\n",
      "The phase angle in degree is 55.0\n",
      "The power factor is 0.574\n",
      "The power consumed in W is 2488.49\n"
     ]
    }
   ],
   "source": [
    "# Exa 4.5\n",
    "#pg 169\n",
    "#calculate the power consumed, phase angle and circuit current\n",
    "# Given data\n",
    "from math import pi,sqrt,cos,atan\n",
    "R = 7;# in ohm\n",
    "L = 31.8;# in mH\n",
    "L = L * 10**-3;# in H\n",
    "V = 230.;# in V\n",
    "f = 50.;# in Hz\n",
    "#calculations\n",
    "X_L = 2*pi*f*L;# in ohm\n",
    "Z = sqrt( (R**2)+(X_L**2) );# in ohm\n",
    "I = V/Z;# in A\n",
    "print \"The circuit current in A is\",round(I,2)\n",
    "# tand(phi) = X_L/R;\n",
    "phi = atan(X_L/R);# in radians lag\n",
    "print \"The phase angle in degree is\",round(phi*180/pi,0)\n",
    "# Power factor\n",
    "powerfactor = cos(phi);# in lag\n",
    "print \"The power factor is\",round(powerfactor,3)\n",
    "P = V*I*cos(phi);# in W\n",
    "print \"The power consumed in W is\",round(P,2)\n",
    "\n"
   ]
  },
  {
   "cell_type": "markdown",
   "metadata": {},
   "source": [
    "## Example 6: pg 169"
   ]
  },
  {
   "cell_type": "code",
   "execution_count": 6,
   "metadata": {
    "collapsed": false
   },
   "outputs": [
    {
     "name": "stdout",
     "output_type": "stream",
     "text": [
      "The value of R in ohm is :  23.04\n",
      "The value of L in H is :  0.055\n"
     ]
    }
   ],
   "source": [
    "# Exa 4.6\n",
    "#pg 169\n",
    "#calculate the value of resistance and inductance\n",
    "# Given data\n",
    "from math import acos,cos,pi\n",
    "from cmath import exp\n",
    "P = 400.;# in W\n",
    "f = 50.;# in Hz\n",
    "V = 120.;# in V\n",
    "phi= acos(0.8);# in radians\n",
    "# P =V*I*cos(phi);\n",
    "#calculations\n",
    "I = P/(V*cos(phi));# in A\n",
    "Z= V/I;# in ohm\n",
    "Z= Z*exp(1j*phi);# ohm\n",
    "R= Z.real;# in ohm\n",
    "XL= Z.imag;# in ohm\n",
    "# Formula XL= 2*%pi*f*L\n",
    "L= XL/(2*pi*f);# in H\n",
    "#results\n",
    "print \"The value of R in ohm is : \",round(R,2)\n",
    "print \"The value of L in H is : \",round(L,3)\n",
    "\n",
    "\n"
   ]
  },
  {
   "cell_type": "markdown",
   "metadata": {},
   "source": [
    "## Example 7: pg 170"
   ]
  },
  {
   "cell_type": "code",
   "execution_count": 7,
   "metadata": {
    "collapsed": false
   },
   "outputs": [
    {
     "name": "stdout",
     "output_type": "stream",
     "text": [
      "The active component of current in A is :  8.66\n",
      "The reactive component of current in A is :  5.0\n",
      "The active power in W is :  1732.9\n",
      "The reactive power in VAR is :  1000.0\n",
      "Note: There is calculation error to evaluate the value of P, so the answer in the book is wrong.\n"
     ]
    }
   ],
   "source": [
    "# Exa 4.7\n",
    "#pg 170\n",
    "#calculate the active and reactive components of power and current\n",
    "from math import sin,cos,acos,sqrt,pi\n",
    "# Given data\n",
    "R = 17.32;# in ohm\n",
    "L = 31.8;# in mH\n",
    "L = L * 10**-3;# in H\n",
    "V = 200.;# in V\n",
    "f = 50.;# in Hz\n",
    "#calculations\n",
    "X_L = 2*pi*f*L;# in ohm\n",
    "Z = sqrt( (R**2) + (X_L**2) );# in ohm\n",
    "I = V/Z;# in A\n",
    "phi =acos( R/Z);# in radians\n",
    "ActiveCom= I*cos(phi);# in A\n",
    "ReactiveCom= I*sin(phi);# in A\n",
    "print \"The active component of current in A is : \",round(ActiveCom,2)\n",
    "print \"The reactive component of current in A is : \",round(ReactiveCom)\n",
    "P= V*I*cos(phi);# in W\n",
    "print \"The active power in W is : \",round(P,1)\n",
    "Q= V*I*sin(phi);# in VAR\n",
    "print \"The reactive power in VAR is : \",round(Q)\n",
    "\n",
    "print 'Note: There is calculation error to evaluate the value of P, so the answer in the book is wrong.'\n"
   ]
  },
  {
   "cell_type": "markdown",
   "metadata": {},
   "source": [
    "## Example 8: pg 170"
   ]
  },
  {
   "cell_type": "code",
   "execution_count": 8,
   "metadata": {
    "collapsed": false
   },
   "outputs": [
    {
     "name": "stdout",
     "output_type": "stream",
     "text": [
      "The voltage across 20 ohm resistor in V is :  152.7\n",
      "The voltage across 200 muF capacitor in V is 121.54\n",
      "The voltage across the circuit in V is 195.2\n"
     ]
    }
   ],
   "source": [
    "#pg 170\n",
    "#calculate the voltage in all cases\n",
    "from math import sin,sqrt,pi\n",
    "# Given data\n",
    "R = 20.;# in ohm\n",
    "C = 200.;# in muF\n",
    "C=C*10**-6\n",
    "f =50.;# in Hz\n",
    "#I = 10.8 sin(314*t)\n",
    "Im = 10.8;# in A\n",
    "#calculations\n",
    "I = Im/sqrt(2);# in A\n",
    "V_R = I*R;# in V\n",
    "print \"The voltage across 20 ohm resistor in V is : \",round(V_R,1)\n",
    "#Vc = I*X_C and  X_C = 1/omega*C;\n",
    "omega = 2*pi*f;# in rad/sec\n",
    "Vc = I * 1/(omega*C);# in V\n",
    "print \"The voltage across 200 muF capacitor in V is\",round(Vc,2)\n",
    "V = sqrt( (V_R**2) + (Vc**2) );# in V\n",
    "print \"The voltage across the circuit in V is\",round(V,1)\n"
   ]
  },
  {
   "cell_type": "markdown",
   "metadata": {},
   "source": [
    "## Example 9: pg 171"
   ]
  },
  {
   "cell_type": "code",
   "execution_count": 9,
   "metadata": {
    "collapsed": false
   },
   "outputs": [
    {
     "name": "stdout",
     "output_type": "stream",
     "text": [
      "Part (a)\n",
      "The value of resistance in ohm is :  12.0\n",
      "The value of inductance in mH is :  79.58\n",
      "Part (b)\n",
      "The value of resistance in ohm is :  0.0\n",
      "The value of inductance in muF is :  44.21\n",
      "Part (c)\n",
      "The value of resistance in ohm is :  10.0\n",
      "The value of inductance in mH is :  45.94\n"
     ]
    }
   ],
   "source": [
    "#pg 171\n",
    "#calculate the resistance and inductance in all cases\n",
    "from math import pi,sqrt\n",
    "import cmath\n",
    "# Given data\n",
    "f= 60.;# in Hz\n",
    "print \"Part (a)\"\n",
    "Z= 12.+30*1j;\n",
    "R= Z.real # in ohm\n",
    "XL= Z.imag;# in ohm\n",
    "# Formula XL= 2*%pi*f*L\n",
    "#calculations\n",
    "L= XL/(2*pi*f);# in H\n",
    "L= L*10**3;# in mH\n",
    "print \"The value of resistance in ohm is : \",R\n",
    "print \"The value of inductance in mH is : \",round(L,2)\n",
    "L= L*10**-3;# in H\n",
    "print \"Part (b)\"\n",
    "Z= 0-60*1j;\n",
    "R= Z.real;# in ohm\n",
    "XC= (abs(Z.imag));# in ohm\n",
    "# Formula XC= 1/(2*%pi*f*C)\n",
    "C= 1/(2*pi*XC*f);# in H\n",
    "C= C*10**6;# in muF\n",
    "print \"The value of resistance in ohm is : \",R\n",
    "print \"The value of inductance in muF is : \",round(C,3)\n",
    "C= C*10**-6;# in F\n",
    "print \"Part (c)\"\n",
    "Z= 20*cmath.exp(60*1j*pi/180.)\n",
    "R= Z.real;# in ohm\n",
    "XL= Z.imag;# in ohm\n",
    "# Formula XL= 2*%pi*f*L\n",
    "L= XL/(2*pi*f);# in H\n",
    "L= L*10**3;# in mH\n",
    "print \"The value of resistance in ohm is : \",R\n",
    "print \"The value of inductance in mH is : \",round(L,2)\n"
   ]
  },
  {
   "cell_type": "markdown",
   "metadata": {},
   "source": [
    "## Example 10: pg 171"
   ]
  },
  {
   "cell_type": "code",
   "execution_count": 10,
   "metadata": {
    "collapsed": false
   },
   "outputs": [
    {
     "name": "stdout",
     "output_type": "stream",
     "text": [
      "The power factor is :  0.4327\n",
      "Supply voltage : \n",
      "Magnitude is :  249.5776  V and angle is :  -64.359  degree\n",
      "The voltage across resistance in V is :  108.0\n",
      "The voltage across capacitance in V is :  225.0\n",
      "The active power in W is :  97.2\n",
      "The reactive power in VAR is :  -202.5\n"
     ]
    }
   ],
   "source": [
    "#pg 171\n",
    "#calculate the power factor and voltage in all cases\n",
    "import math,cmath\n",
    "# Given data\n",
    "R = 120.;# in ohm\n",
    "XC = 250.;# in ohm\n",
    "I = 0.9;# in A\n",
    "#calculations\n",
    "Z= R-1j*XC;# in ohm\n",
    "phi= cmath.phase(Z)\n",
    "V=I*Z;# in V\n",
    "VR = I*R;# in V\n",
    "VC= I*XC;# in V\n",
    "P= abs(V)*I*math.cos(phi);# in W\n",
    "Q= abs(V)*I*math.sin(phi);# in VAR\n",
    "print \"The power factor is : \",round(math.cos(phi),4)\n",
    "print \"Supply voltage : \"\n",
    "print \"Magnitude is : \",round(abs(V),4),\" V and angle is : \",round(cmath.phase(V)*180/math.pi,3),\" degree\"\n",
    "print \"The voltage across resistance in V is : \",VR\n",
    "print \"The voltage across capacitance in V is : \",VC\n",
    "print \"The active power in W is : \",P\n",
    "print \"The reactive power in VAR is : \",Q\n"
   ]
  },
  {
   "cell_type": "markdown",
   "metadata": {},
   "source": [
    "## Example 11: pg 172"
   ]
  },
  {
   "cell_type": "code",
   "execution_count": 11,
   "metadata": {
    "collapsed": false
   },
   "outputs": [
    {
     "name": "stdout",
     "output_type": "stream",
     "text": [
      "The impedance in ohm is 449.3\n",
      "The current in A is 0.512\n",
      "The phase angle between current and voltage is :  89.7  lead\n",
      "The power factor is :  0.00556  lead\n",
      "The power consumed in W is 0.655\n"
     ]
    }
   ],
   "source": [
    "#pg 172\n",
    "#calculate the power, impedance, current and phase angle\n",
    "import math,cmath\n",
    "from math import pi,sqrt,cos,acos,atan\n",
    "# Given data\n",
    "V = 230.;# in V\n",
    "f = 50.;# in Hz\n",
    "L = 0.06;# in H\n",
    "R = 2.5;# in ohm\n",
    "C = 6.8;# in microF\n",
    "#calculations\n",
    "C = C * 10**-6;# in F\n",
    "X_L = 2*pi*f*L;# in ohm\n",
    "X_C = 1/(2*pi*f*C);# in ohm\n",
    "Z = sqrt( (R**2) + ((X_L-X_C)**2) );# in ohm\n",
    "print \"The impedance in ohm is\",round(Z,1)\n",
    "I = V/Z;# in A\n",
    "print \"The current in A is\",round(I,3)\n",
    "# tan(phi) = (X_L-X_C)/R;\n",
    "phi = atan( (X_L-X_C)/R );# in lead\n",
    "print \"The phase angle between current and voltage is : \",round(abs(phi)*180/pi,1),\" lead\"\n",
    "phi = acos(R/Z);\n",
    "print \"The power factor is : \",round(math.cos(phi),5),\" lead\"\n",
    "P = V*I*cos(phi);# in W\n",
    "print \"The power consumed in W is\",round(P,3)\n"
   ]
  },
  {
   "cell_type": "markdown",
   "metadata": {},
   "source": [
    "## Example 12: pg 173"
   ]
  },
  {
   "cell_type": "code",
   "execution_count": 12,
   "metadata": {
    "collapsed": false
   },
   "outputs": [
    {
     "name": "stdout",
     "output_type": "stream",
     "text": [
      "The resonant frequency in Hz is 1591549.43\n",
      "The current at resonance in A is 0.1\n",
      "The voltage across L at resonance in V is 100.0\n",
      "The voltage across C at resonance in V is 100.0\n",
      "The Q-factor is :  10.0\n"
     ]
    }
   ],
   "source": [
    "#pg 173\n",
    "#calculate the voltage, current, frequency\n",
    "from math import pi,sqrt\n",
    "# GIven data\n",
    "R = 100.;# in ohm\n",
    "L = 100.;# in muH\n",
    "L = L * 10**-6;# in H\n",
    "C = 100.;# in  pF\n",
    "C = C * 10**-12;# in F\n",
    "V = 10;# in V\n",
    "#calculations\n",
    "# The resonant frequency \n",
    "f_r = 1/(2*pi*sqrt(L*C));# in Hz \n",
    "print \"The resonant frequency in Hz is\",round(f_r,2)\n",
    "# current at resonance \n",
    "Ir = V/R;# in A\n",
    "print \"The current at resonance in A is\",Ir\n",
    "X_L = 2*pi*f_r*L;# in ohm \n",
    "# voltage across L at resonance \n",
    "V_L = Ir*X_L;# in V\n",
    "print \"The voltage across L at resonance in V is\",V_L\n",
    "X_C = X_L;# in ohm\n",
    "# voltage across C at resonance \n",
    "V_C = Ir*X_C;# in V\n",
    "print \"The voltage across C at resonance in V is\",V_C\n",
    "Q= 1/R*sqrt(L/C);\n",
    "print \"The Q-factor is : \",Q\n"
   ]
  },
  {
   "cell_type": "markdown",
   "metadata": {},
   "source": [
    "## Example 13: pg 174"
   ]
  },
  {
   "cell_type": "code",
   "execution_count": 14,
   "metadata": {
    "collapsed": false
   },
   "outputs": [
    {
     "name": "stdout",
     "output_type": "stream",
     "text": [
      "The frequency at resonace in Hz is 56.2698\n",
      "The current in A is 10.0\n",
      "The power in W is 1000.0\n",
      "The voltage across R in V is 100.0\n",
      "The voltage across L in V is 707.107\n",
      "The voltage across  C in V is 707.107\n",
      "The quality factor is 7.071\n",
      "The half power frequencies are :  52.2909  Hz and  60.2486  Hz\n",
      "The bandwidth in Hz is :  7.9577\n"
     ]
    }
   ],
   "source": [
    "#pg 174\n",
    "#calculate the quality,frequency,current,power \n",
    "from math import pi,sqrt\n",
    "# Given data\n",
    "R = 10.;# in ohm\n",
    "L = 0.2;# in H\n",
    "C = 40.;# in muF\n",
    "C = C * 10**-6;# in F\n",
    "V = 100;# in V\n",
    "#calculations\n",
    "f_r = 1/(2*pi*sqrt(L*C));# in Hz\n",
    "print \"The frequency at resonace in Hz is\",round(f_r,4)\n",
    "Im = V/R;# in A\n",
    "print \"The current in A is\",Im\n",
    "Pm = (Im**2)*R;# in W\n",
    "print \"The power in W is\",Pm\n",
    "# voltage across R \n",
    "V_R = Im*R;# in V\n",
    "print \"The voltage across R in V is\",V_R\n",
    "X_L = 2*pi*f_r*L;# in ohm\n",
    "# voltage across L \n",
    "V_L = Im*X_L;# in V\n",
    "print \"The voltage across L in V is\",round(V_L,3)\n",
    "X_C = 1/(2*pi*f_r*C);# in ohm\n",
    "# voltage across  C \n",
    "V_C = Im*X_C;# in V\n",
    "print \"The voltage across  C in V is\",round(V_C,3)\n",
    "omega = 2*pi*f_r;# in rad/sec\n",
    "Q = (omega*L)/R;\n",
    "print \"The quality factor is\",round(Q,3)\n",
    "del_F = R/(4*pi*L);\n",
    "f1 = f_r-del_F;# in Hz\n",
    "f2 = f_r+del_F;# in Hz\n",
    "print \"The half power frequencies are : \",round(f1,4),\" Hz and \",round(f2,4),\" Hz\"\n",
    "BW = f2-f1;# in Hz\n",
    "print \"The bandwidth in Hz is : \",round(BW,4)\n"
   ]
  },
  {
   "cell_type": "markdown",
   "metadata": {},
   "source": [
    "## Example 14: pg 175"
   ]
  },
  {
   "cell_type": "code",
   "execution_count": 15,
   "metadata": {
    "collapsed": false
   },
   "outputs": [
    {
     "name": "stdout",
     "output_type": "stream",
     "text": [
      "The bandwidth in kHz is 106.1\n"
     ]
    }
   ],
   "source": [
    "#pg 175\n",
    "#calculate the bandwidth\n",
    "from math import sqrt,pi\n",
    "# Given data\n",
    "R = 10.;# in ohm\n",
    "L = 15.;# in muH\n",
    "L = L * 10**-6;# in H\n",
    "C = 100;# in pF\n",
    "C = C * 10**-12;# in F\n",
    "#calculations\n",
    "f_r = 1/(2*pi*sqrt(L*C));# in Hz\n",
    "X_L = 2*pi*f_r*L;# in ohm\n",
    "Q = X_L/R;# in ohm\n",
    "BW = f_r/Q;# in Hz\n",
    "BW = BW * 10**-3;# in kHz\n",
    "#results\n",
    "print \"The bandwidth in kHz is\",round(BW,2)\n"
   ]
  },
  {
   "cell_type": "markdown",
   "metadata": {},
   "source": [
    "## Example 15: pg 175"
   ]
  },
  {
   "cell_type": "code",
   "execution_count": 16,
   "metadata": {
    "collapsed": false
   },
   "outputs": [
    {
     "name": "stdout",
     "output_type": "stream",
     "text": [
      "The resonant frequency in kHz is 159.0\n",
      "The quality factor is 100.0\n",
      "The half point frequencies are :  158.4  Hz and  160.0  Hz\n"
     ]
    }
   ],
   "source": [
    "#pg 175\n",
    "#calculate the quality, frequencies\n",
    "# Given data\n",
    "from math import pi,sqrt\n",
    "R = 1000.;# in ohm\n",
    "L = 100.;# in mH\n",
    "L = L * 10**-3;# in H\n",
    "C = 10;# in muF\n",
    "C = C * 10**-12;# in F\n",
    "#calculations\n",
    "f_r = 1/(2*pi*sqrt(L*C));# in Hz\n",
    "print \"The resonant frequency in kHz is\",round(f_r*10**-3)\n",
    "Q = (1/R)*(sqrt(L/C));\n",
    "print \"The quality factor is\",Q\n",
    "f1 = f_r - R/(4*pi*L);# in Hz\n",
    "f1 = f1 * 10**-3;# in kHz\n",
    "f2 = f_r + R/(4*pi*L);# in Hz\n",
    "f2 = f2 * 10**-3;# in kHz\n",
    "print \"The half point frequencies are : \",round(f1,1),\" Hz and \",round(f2,1),\" Hz\"\n"
   ]
  },
  {
   "cell_type": "markdown",
   "metadata": {},
   "source": [
    "## Example 16: pg 176"
   ]
  },
  {
   "cell_type": "code",
   "execution_count": 17,
   "metadata": {
    "collapsed": false
   },
   "outputs": [
    {
     "name": "stdout",
     "output_type": "stream",
     "text": [
      "The line current in A is 25.73\n",
      "The power factor is :  0.447  lag\n",
      "The power consumed in W is 2645.0\n"
     ]
    }
   ],
   "source": [
    "#pg 176\n",
    "#calculate the line current, power factor and power consumed\n",
    "# Given data\n",
    "from math import sqrt,cos,acos,pi\n",
    "R = 20.;# in ohm\n",
    "L = 31.8;# in mH\n",
    "L = L * 10**-3;# in H\n",
    "V = 230.;# in V\n",
    "f = 50.;# in Hz\n",
    "#calculations\n",
    "I_R = V/R;# in A\n",
    "X_L = 2*pi*f*L;# in ohm\n",
    "I_L = V/X_L;# in A\n",
    "I = sqrt( (I_R**2) + (I_L**2) );# in A\n",
    "phi= acos( I_R/I);\n",
    "P = V*I*cos(phi);# in W\n",
    "#results\n",
    "print \"The line current in A is\",round(I,2)\n",
    "print \"The power factor is : \",round(cos(phi),3),\" lag\"\n",
    "print \"The power consumed in W is\",P\n"
   ]
  },
  {
   "cell_type": "markdown",
   "metadata": {},
   "source": [
    "## Example 17: pg 177"
   ]
  },
  {
   "cell_type": "code",
   "execution_count": 18,
   "metadata": {
    "collapsed": false
   },
   "outputs": [
    {
     "name": "stdout",
     "output_type": "stream",
     "text": [
      "The line current in A is 6.42\n",
      "The power factor is :  0.964  lag\n",
      "The power consumed in W is 1236.97\n"
     ]
    }
   ],
   "source": [
    "#pg 177\n",
    "#calculate the line current, power\n",
    "# Given data\n",
    "from math import pi,sqrt,atan,sin,cos\n",
    "import math\n",
    "C = 50.;# in muF\n",
    "C = C * 10**-6;# in F\n",
    "R = 20.;# in ohm\n",
    "L = 0.05;# in H\n",
    "V = 200.;# in V\n",
    "f = 50.;# in Hz\n",
    "#calculations\n",
    "X_C = 1/(2*pi*f*C);# in ohm\n",
    "Z1 = X_C;# in ohm\n",
    "I1 = V/X_C;# in A\n",
    "X_L = 2*pi*f*L;# in ohm\n",
    "Z2 = sqrt( (R**2) + (X_L**2) );# in ohm\n",
    "I2 = V/Z2;# in A\n",
    "# tan(phi2) = X_L/R;\n",
    "phi2 = atan(X_L/R);# in degree\n",
    "phi1 = 90*math.pi/180.;# in degree\n",
    "I_cos_phi = I1*cos(phi1) + I2*cos(phi2);# in A \n",
    "I_sin_phi = I1*sin(phi1) - I2*sin(phi2);# in A \n",
    "phi= atan(I_sin_phi/I_cos_phi);# in radians\n",
    "I= sqrt(I_cos_phi**2+I_sin_phi**2);# in A\n",
    "P= V*I*cos(phi);# in W\n",
    "#results\n",
    "print \"The line current in A is\",round(I,2)\n",
    "print \"The power factor is : \",round(cos(phi),3),\" lag\"\n",
    "print \"The power consumed in W is\",round(P,2)"
   ]
  },
  {
   "cell_type": "markdown",
   "metadata": {},
   "source": [
    "## Example 18: pg 178"
   ]
  },
  {
   "cell_type": "code",
   "execution_count": 19,
   "metadata": {
    "collapsed": false
   },
   "outputs": [
    {
     "name": "stdout",
     "output_type": "stream",
     "text": [
      "The phase angle in degrees is :  4.786\n",
      "The power factor is :  0.997  lag\n"
     ]
    }
   ],
   "source": [
    "#pg 178\n",
    "#calculate the phase angle and power factor\n",
    "# Given data\n",
    "import cmath,math\n",
    "V= 68+154*1j;# in V\n",
    "I1= 10+14*1j;# in A\n",
    "I2= 2+8*1j;# in A\n",
    "#calculations\n",
    "I= I1+I2;# in A\n",
    "phi= cmath.phase(V) - cmath.phase(I);# in radians\n",
    "#results\n",
    "print \"The phase angle in degrees is : \",round(phi*180./math.pi,3)\n",
    "print \"The power factor is : \",round(math.cos(phi),3),\" lag\"\n"
   ]
  },
  {
   "cell_type": "markdown",
   "metadata": {},
   "source": [
    "## Example 19: pg 178"
   ]
  },
  {
   "cell_type": "code",
   "execution_count": 20,
   "metadata": {
    "collapsed": false
   },
   "outputs": [
    {
     "name": "stdout",
     "output_type": "stream",
     "text": [
      "Supply current : \n",
      "Magnitude is :  3.93  A\n",
      "Angle :  -15.9  degrees\n",
      "Power factor is :  0.962  lag\n"
     ]
    }
   ],
   "source": [
    "#pg 178\n",
    "#calculate the supply current, power factor\n",
    "# Given data\n",
    "from math import pi,cos\n",
    "import cmath\n",
    "R1 = 50.;# in ohm\n",
    "L = 318.;# in mH\n",
    "L = L * 10**-3;# in H\n",
    "R2 = 75.;# in ohm\n",
    "C = 159.;# in muF\n",
    "C =C * 10**-6;# in F\n",
    "V = 230.;# in V\n",
    "f = 50.;# in Hz\n",
    "#calculations\n",
    "XL= 2*pi*f*L;# in ohm\n",
    "Z1= R1+XL*1j;# in ohm\n",
    "I1= V/Z1;# in A\n",
    "XC= 1/(2*pi*f*C);# in ohm\n",
    "Z2= R2-1j*XC;# in ohm\n",
    "I2= V/Z2;# in A\n",
    "I= I1+I2;# in A\n",
    "phi= cmath.phase(I)# in radians\n",
    "#results\n",
    "print \"Supply current : \"\n",
    "print \"Magnitude is : \",round(abs(I),2),\" A\"\n",
    "print \"Angle : \",round(phi*180/pi,1),\" degrees\"\n",
    "print \"Power factor is : \",round(cos(phi),3),\" lag\"\n"
   ]
  },
  {
   "cell_type": "markdown",
   "metadata": {},
   "source": [
    "## Example 20: pg 179"
   ]
  },
  {
   "cell_type": "code",
   "execution_count": 21,
   "metadata": {
    "collapsed": false
   },
   "outputs": [
    {
     "name": "stdout",
     "output_type": "stream",
     "text": [
      "Total admittance of the circuit : \n",
      "Magnitude is :  0.02155  mho\n",
      "Angle is :  -44.4  degrees\n",
      "The supply current : \n",
      "Magnitude is :  5.39  A\n",
      "Angle is :  -44.4  degrees\n",
      "Power factor is :  0.71  degrees lag\n"
     ]
    }
   ],
   "source": [
    "#pg 179\n",
    "#calculate the admittance and supply current\n",
    "# Given data\n",
    "import cmath\n",
    "from math import pi,cos\n",
    "V=250;# in V\n",
    "Z1= 70.7+70.7*1j;# in ohm\n",
    "Z2= 120+160*1j;# in ohm\n",
    "Z3= 120+90*1j;# in ohm\n",
    "Y1= 1/Z1;# in S\n",
    "Y2= 1/Z2;# in S\n",
    "Y3= 1/Z3;# in S\n",
    "Y_T= Y1+Y2+Y3;# in S\n",
    "#calculations\n",
    "phi= cmath.phase(Y_T)*180./pi;# in degrees\n",
    "I= V*Y_T;# in A\n",
    "#results\n",
    "print \"Total admittance of the circuit : \"\n",
    "print \"Magnitude is : \",round(abs(Y_T),5),\" mho\"\n",
    "print \"Angle is : \",round(phi,1),\" degrees\"\n",
    "print \"The supply current : \"\n",
    "print \"Magnitude is : \",round(abs(I),2),\" A\"\n",
    "print \"Angle is : \",round(phi,1),\" degrees\"\n",
    "print \"Power factor is : \",round(cos(phi*pi/180.),2),\" degrees lag\"\n"
   ]
  },
  {
   "cell_type": "markdown",
   "metadata": {},
   "source": [
    "## Example 21: pg 180"
   ]
  },
  {
   "cell_type": "code",
   "execution_count": 22,
   "metadata": {
    "collapsed": false
   },
   "outputs": [
    {
     "name": "stdout",
     "output_type": "stream",
     "text": [
      "The impedance is :  (5.7735026919-3.33333333333j)  ohm\n",
      "The resistance is :  5.7735  ohm\n",
      "The reactance is :  3.3333  ohm\n",
      "The power is :  649.52  W\n",
      "The power factor is :  0.866  leading\n"
     ]
    }
   ],
   "source": [
    "#pg 180\n",
    "#calculate the impedance, resistance, reactance, power and power factor\n",
    "# Given data\n",
    "from math import sqrt,atan,cos,pi\n",
    "from cmath import exp\n",
    "import cmath\n",
    "Vm = 100.;# in V\n",
    "phi1= 30.;# in degrees\n",
    "Im = 15.;# in A\n",
    "phi2= 60.;# in degrees\n",
    "V= Vm/sqrt(2)*exp(phi1*1j*pi/180);# in V\n",
    "I= Im/sqrt(2)*exp(phi2*1j*pi/180);# in A\n",
    "Z= V/I;# in ohm\n",
    "R= Z.real;# in ohm\n",
    "XC= abs(Z.imag);# in ohm\n",
    "phi= cmath.phase(Z)*180/pi;# in degrees\n",
    "P= abs(V)*abs(I)*cos(phi*pi/180);# in W\n",
    "#results\n",
    "print \"The impedance is : \",Z,\" ohm\"\n",
    "print \"The resistance is : \",round(R,4),\" ohm\"\n",
    "print \"The reactance is : \",round(XC,4),\" ohm\"\n",
    "print \"The power is : \",round(P,2),\" W\"\n",
    "print \"The power factor is : \",round(cos(phi*pi/180),3),\" leading\"\n"
   ]
  },
  {
   "cell_type": "markdown",
   "metadata": {},
   "source": [
    "## Example 22: pg 180"
   ]
  },
  {
   "cell_type": "code",
   "execution_count": 23,
   "metadata": {
    "collapsed": false
   },
   "outputs": [
    {
     "name": "stdout",
     "output_type": "stream",
     "text": [
      "The value of pure inductance in H is 1.0186\n",
      "Note: There is calculation error to find the value of V_L, So the answer in the book is wrong  and coding is correct.\n"
     ]
    }
   ],
   "source": [
    "#pg 180\n",
    "#calculate the pure inductance\n",
    "# Given data\n",
    "from math import sqrt,pi\n",
    "P = 100.;# in W\n",
    "V = 120.;# in V\n",
    "f= 50.;# in Hz\n",
    "V = 200;# in V\n",
    "V_R = 120;# in V\n",
    "#calculations\n",
    "I = P/V;# in A\n",
    "V_L = sqrt( (V**2) - (V_R**2) );# in V\n",
    "# V_L = I*X_L;\n",
    "X_L = V_L/I;# in ohm\n",
    "# X_L = 2*%pi*f*L;\n",
    "L = X_L/(2*pi*f);# in H\n",
    "#results\n",
    "print \"The value of pure inductance in H is\",round(L,4)\n",
    "\n",
    "print 'Note: There is calculation error to find the value of V_L, So the answer in the book is wrong  and coding is correct.'"
   ]
  },
  {
   "cell_type": "markdown",
   "metadata": {},
   "source": [
    "## Example 23: pg 181"
   ]
  },
  {
   "cell_type": "code",
   "execution_count": 24,
   "metadata": {
    "collapsed": false
   },
   "outputs": [
    {
     "name": "stdout",
     "output_type": "stream",
     "text": [
      "The circuit admittance is :  0.137  mho\n",
      "The circuit impedance is :  7.3  ohm\n",
      "The power consumed in W is :  7235.0\n",
      "The power factor is :  0.999  lead\n",
      "The answer is a bit different due to rounding off error from textbook\n"
     ]
    }
   ],
   "source": [
    "#pg 181\n",
    "#calculate the circuit admittance, impedance, power \n",
    "# Given data\n",
    "import cmath,math\n",
    "from cmath import exp,phase\n",
    "from math import pi,cos\n",
    "V=230.;# in V\n",
    "f= 50.;# in Hz\n",
    "Z1= 10.*exp(-30*1j*pi/180);# in ohm\n",
    "Z2= 20.*exp(60*1j*pi/180);# in ohm\n",
    "Z3= 40.*exp(0*1j*pi/180);# in ohm\n",
    "#calculations\n",
    "Y1= 1/Z1;# in S\n",
    "Y2= 1/Z2;# in S\n",
    "Y3= 1/Z3;# in S\n",
    "Y= Y1+Y2+Y3;# in S\n",
    "phi= phase(Y)*180./pi;# in degrees\n",
    "Z=1/Y;# in ohm\n",
    "P= V**2*abs(Y);# in W\n",
    "#results\n",
    "print \"The circuit admittance is : \",round(abs(Y),3),\" mho\"\n",
    "print \"The circuit impedance is : \",round(abs(Z),1),\" ohm\"\n",
    "print \"The power consumed in W is : \",round(P)\n",
    "print \"The power factor is : \",round(cos(phi*pi/180.),3),\" lead\"\n",
    "print 'The answer is a bit different due to rounding off error from textbook'"
   ]
  },
  {
   "cell_type": "markdown",
   "metadata": {},
   "source": [
    "## Example 24: pg 181"
   ]
  },
  {
   "cell_type": "code",
   "execution_count": 25,
   "metadata": {
    "collapsed": false
   },
   "outputs": [
    {
     "name": "stdout",
     "output_type": "stream",
     "text": [
      "The value of P1 in W is :  737.705\n",
      "The value of P2 in W is :  1438.525\n"
     ]
    }
   ],
   "source": [
    "#pg 181\n",
    "#calculate the value of P1,P2\n",
    "import cmath\n",
    "#  Given data\n",
    "Z1= 10+15*1j;#  in ohm\n",
    "Z2= 6-8*1j;#  in ohm\n",
    "R1= 10.;#  in ohm\n",
    "R2= 6.;#  in ohm\n",
    "I_T= 15.;#  in A\n",
    "#calculations\n",
    "I1= I_T*Z2/(Z1+Z2);#  in A\n",
    "I2= I_T*Z1/(Z1+Z2);#  in A\n",
    "P1= (abs(I1))**2*R1;#  in W\n",
    "P2= (abs(I2))**2*R2;#  in W\n",
    "#results\n",
    "print \"The value of P1 in W is : \",round(P1,3)\n",
    "print \"The value of P2 in W is : \",round(P2,3)\n"
   ]
  },
  {
   "cell_type": "markdown",
   "metadata": {},
   "source": [
    "## Example 25: pg 182"
   ]
  },
  {
   "cell_type": "code",
   "execution_count": 26,
   "metadata": {
    "collapsed": false
   },
   "outputs": [
    {
     "name": "stdout",
     "output_type": "stream",
     "text": [
      "Impedence of the entire circuit : \n",
      "Magnitude is :  16.9671  ohm\n",
      "Angle is :  61.868  degrees\n",
      "Current flowing through the condensor : \n",
      "Magnitude is :  13.556  ohm\n",
      "Angle is :  -61.868  degree\n",
      "Power factor of the circuit is :  0.4715  lag\n",
      "The voltage across the condensor in V is :  308.2071\n"
     ]
    }
   ],
   "source": [
    "#pg 182\n",
    "#calculate the impedance, current and voltage\n",
    "#  Given data\n",
    "from math import pi,cos\n",
    "from cmath import phase\n",
    "R = 8.;#  in ohm\n",
    "L = 0.12;#  in H\n",
    "C = 140.;#  in muF\n",
    "C = C * 10**-6;#  in F\n",
    "V = 230.;#  in V\n",
    "f = 50.;#  in Hz\n",
    "#calculations\n",
    "XL = 2*pi*f*L;#  in ohm\n",
    "XC= 1/(2*pi*f*C);#  in ohm\n",
    "Z= R+1j*XL-1j*XC;#  in ohm\n",
    "I= V/Z;#  in A\n",
    "phi= phase(I)#  in radians\n",
    "PowerFactor= cos(phi);\n",
    "VC= abs(I)*XC;#  in V\n",
    "#results\n",
    "print \"Impedence of the entire circuit : \"\n",
    "print \"Magnitude is : \",round(abs(Z),4),\" ohm\"\n",
    "print \"Angle is : \",round(phase(Z)*180/pi,3),\" degrees\"\n",
    "print \"Current flowing through the condensor : \"\n",
    "print \"Magnitude is : \",round(abs(I),3),\" ohm\"\n",
    "print \"Angle is : \",round(phase(I)*180/pi,3),\" degree\"\n",
    "print \"Power factor of the circuit is : \",round(cos(phi),4),\" lag\"\n",
    "print \"The voltage across the condensor in V is : \",round(VC,4)\n",
    "\n",
    "\n"
   ]
  },
  {
   "cell_type": "markdown",
   "metadata": {},
   "source": [
    "## Example 26: pg 183"
   ]
  },
  {
   "cell_type": "code",
   "execution_count": 27,
   "metadata": {
    "collapsed": false
   },
   "outputs": [
    {
     "name": "stdout",
     "output_type": "stream",
     "text": [
      "The half power frequencies are :  169.9829  Hz and  185.8984  Hz\n"
     ]
    }
   ],
   "source": [
    "#pg 183\n",
    "#calculate the half power frequencies\n",
    "#  Given data\n",
    "from math import sqrt,pi\n",
    "R = 10;#  in ohm\n",
    "L = 0.1;#  in H\n",
    "C = 8;#  in muF\n",
    "C = C * 10**-6;#  in F\n",
    "#calculations\n",
    "f_r = 1/(2*pi*sqrt(L*C));#  in Hz\n",
    "Q = (1/R) * (sqrt(L/C));\n",
    "del_F = R/(4*pi*L);\n",
    "#  The half power frequencies \n",
    "f1 = f_r - del_F;#  in Hz\n",
    "f2 = f_r+del_F;#  in Hz\n",
    "#results\n",
    "print \"The half power frequencies are : \",round(f1,4),\" Hz and \",round(f2,4),\" Hz\"\n"
   ]
  },
  {
   "cell_type": "markdown",
   "metadata": {},
   "source": [
    "## Example 27: pg 183"
   ]
  },
  {
   "cell_type": "code",
   "execution_count": 28,
   "metadata": {
    "collapsed": false
   },
   "outputs": [
    {
     "name": "stdout",
     "output_type": "stream",
     "text": [
      "The value of capacitance in muF is 97.94\n"
     ]
    }
   ],
   "source": [
    "#pg 183\n",
    "#calculate the capacitance\n",
    "#  Given data\n",
    "from math import pi\n",
    "R = 15.;#  in ohm\n",
    "X_L = 10.;#  in ohm\n",
    "f_r = 50.;#  in Hz\n",
    "#calculations\n",
    "#  X_L = 2*%pi*f_r*L;\n",
    "L = X_L/(2*pi*f_r);#  in H\n",
    "#  value of capacitance \n",
    "C = 1/( L*( ((f_r*2*pi)**2)+((R**2)/(L**2)) ));#  in F\n",
    "C = C*10**6;#  in muF\n",
    "#results\n",
    "print \"The value of capacitance in muF is\",round(C,2)\n"
   ]
  },
  {
   "cell_type": "markdown",
   "metadata": {},
   "source": [
    "## Example 28: pg 183"
   ]
  },
  {
   "cell_type": "code",
   "execution_count": 29,
   "metadata": {
    "collapsed": false
   },
   "outputs": [
    {
     "name": "stdout",
     "output_type": "stream",
     "text": [
      "The value of current : \n",
      "The magnitude in A is :  69.0\n",
      "The phase angle in degree is :  -53.13\n",
      "The power drawn from the source in W is :  9522.0\n"
     ]
    }
   ],
   "source": [
    "#pg 183\n",
    "#calculate the current, phase angle and power\n",
    "#  Given data\n",
    "import cmath,math\n",
    "Z1= 3+4*1j;#  in ohm\n",
    "Z2= 6+8*1j;#  in ohm\n",
    "V= 230.;#  in V\n",
    "#calculations\n",
    "I1= V/Z1;#  in A\n",
    "I2= V/Z2;#  in A\n",
    "I_T= I1+I2;#  in A\n",
    "phi= cmath.phase(I_T);#  in degrees\n",
    "P= V*abs(I_T)*math.cos(phi);# in V\n",
    "#results\n",
    "print \"The value of current : \"\n",
    "print \"The magnitude in A is : \",abs(I_T)\n",
    "print \"The phase angle in degree is : \",round(phi*180/math.pi,2)\n",
    "print \"The power drawn from the source in W is : \",P\n"
   ]
  },
  {
   "cell_type": "markdown",
   "metadata": {},
   "source": [
    "## Example 29: pg 184"
   ]
  },
  {
   "cell_type": "code",
   "execution_count": 30,
   "metadata": {
    "collapsed": false
   },
   "outputs": [
    {
     "name": "stdout",
     "output_type": "stream",
     "text": [
      "The admittance in mho is :  (0.16-0.12j)\n",
      "The admittance in mho is :  (0.06+0.08j)\n",
      "Total circuit impedance : \n",
      "Magnitude :  10.0  ohm\n",
      "Angle :  53.13  degrees\n",
      "The total power supplied in W is :  600.0\n"
     ]
    }
   ],
   "source": [
    "#pg 184\n",
    "#calculate the admittance and impedance\n",
    "#  Given data\n",
    "import cmath\n",
    "from math import cos,pi\n",
    "Z1= 1.6+1j*7.2;#  in ohm\n",
    "Z2= 4+1j*3;#  in ohm\n",
    "Z3= 6-1j*8;#  in ohm\n",
    "V= 100.;#  in V\n",
    "Y2= 1/Z2;#  in mho\n",
    "#calculations\n",
    "Y3= 1/Z3;#  in mho\n",
    "print \"The admittance in mho is : \",Y2\n",
    "print \"The admittance in mho is : \",Y3\n",
    "ZT= Z1+1/(Y2+Y3);\n",
    "phi = cmath.phase(ZT)\n",
    "print \"Total circuit impedance : \"\n",
    "print \"Magnitude : \",abs(ZT),\" ohm\"\n",
    "print \"Angle : \",round(phi*180/pi,2),\" degrees\"\n",
    "IT= V/ZT;#  in A\n",
    "PT= V*abs(IT)*cos(phi);#  in W\n",
    "print \"The total power supplied in W is : \",PT\n"
   ]
  },
  {
   "cell_type": "markdown",
   "metadata": {},
   "source": [
    "## Example 30: pg 185"
   ]
  },
  {
   "cell_type": "code",
   "execution_count": 31,
   "metadata": {
    "collapsed": false
   },
   "outputs": [
    {
     "name": "stdout",
     "output_type": "stream",
     "text": [
      "The value of capacitance in muF is 20.2642\n",
      "The voltage across the capacitance in V 3927.0\n",
      "The Q factor of the circuit is 39.27\n"
     ]
    }
   ],
   "source": [
    "#pg 185\n",
    "#calculate the capacitance, voltage and Q factor\n",
    "#  Given data\n",
    "from math import pi\n",
    "R = 4;#  in ohm\n",
    "L = 0.5;#  in H\n",
    "V = 100.;#  in V\n",
    "f = 50.;#  in Hz\n",
    "#calculations\n",
    "X_L = 2*pi*f*L;#  in ohm\n",
    "X_C = X_L;#  in ohm\n",
    "#  X_C = 1/(2*%pi*f*C);\n",
    "C = 1/(X_C*2*pi*f);#  in F\n",
    "C = C * 10**6;#  in F\n",
    "I = V/R;#  in A]\n",
    "V_C = I*X_C;#  in V\n",
    "omega = 2*pi*f;#  in rad/sec\n",
    "Q = (omega*L)/R;\n",
    "#results\n",
    "print \"The value of capacitance in muF is\",round(C,4)\n",
    "print \"The voltage across the capacitance in V\",round(V_C)\n",
    "print \"The Q factor of the circuit is\",round(Q,2)\n"
   ]
  }
 ],
 "metadata": {
  "kernelspec": {
   "display_name": "Python 2",
   "language": "python",
   "name": "python2"
  },
  "language_info": {
   "codemirror_mode": {
    "name": "ipython",
    "version": 2
   },
   "file_extension": ".py",
   "mimetype": "text/x-python",
   "name": "python",
   "nbconvert_exporter": "python",
   "pygments_lexer": "ipython2",
   "version": "2.7.11"
  }
 },
 "nbformat": 4,
 "nbformat_minor": 0
}
