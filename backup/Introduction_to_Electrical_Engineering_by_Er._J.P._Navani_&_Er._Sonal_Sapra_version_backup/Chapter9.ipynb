{
 "cells": [
  {
   "cell_type": "markdown",
   "metadata": {},
   "source": [
    "# Chapter 9: Single Phase Transformer"
   ]
  },
  {
   "cell_type": "markdown",
   "metadata": {},
   "source": [
    "## Example 1: pg 305"
   ]
  },
  {
   "cell_type": "code",
   "execution_count": 1,
   "metadata": {
    "collapsed": false
   },
   "outputs": [
    {
     "name": "stdout",
     "output_type": "stream",
     "text": [
      "The numbers of primary turns is 860.0\n",
      "The secondary full load current in A is 200.0\n",
      "The primary full load current in A is 20.0\n"
     ]
    }
   ],
   "source": [
    "# Exa 9.1\n",
    "#pg 305\n",
    "#calculate the number of turns, load current\n",
    "# Given data\n",
    "V1 = 3000.;# in V\n",
    "V2 = 300.;# in V\n",
    "N2 = 86.;# in Turns\n",
    "Rating = 60.*10**3;# in VA\n",
    "#calculations\n",
    "K = V2/V1;\n",
    "#Transformer ratio,  N2/N1 = K;\n",
    "N1 = N2/K;# in turns\n",
    "I2 = Rating/V2;# in A\n",
    "I1 = Rating/V1;# in A\n",
    "#results\n",
    "print \"The numbers of primary turns is\",N1\n",
    "print \"The secondary full load current in A is\",I2\n",
    "print \"The primary full load current in A is\",I1\n"
   ]
  },
  {
   "cell_type": "markdown",
   "metadata": {},
   "source": [
    "## Example 2: pg 306"
   ]
  },
  {
   "cell_type": "code",
   "execution_count": 2,
   "metadata": {
    "collapsed": false
   },
   "outputs": [
    {
     "name": "stdout",
     "output_type": "stream",
     "text": [
      "The maximum flux density in Wb/m^2 is 0.75\n"
     ]
    }
   ],
   "source": [
    "# Exa 9.2\n",
    "#pg 306\n",
    "#calculate the max flux density\n",
    "# Given data\n",
    "E1 = 3000.;# in V\n",
    "E2 = 200.;# in V\n",
    "f = 50.;# in Hz\n",
    "a = 150.;# in cm**2\n",
    "N2 = 80.;# turns\n",
    "#calculations\n",
    "#Formula E2 = 4.44*phi_m*f*N2;\n",
    "phi_m = E2/(4.44*f*N2);# in Wb\n",
    "Bm = phi_m/(a*10**-4);# in Wb/m**2\n",
    "#results\n",
    "print \"The maximum flux density in Wb/m^2 is\",round(Bm,2)\n"
   ]
  },
  {
   "cell_type": "markdown",
   "metadata": {},
   "source": [
    "## Example 3: pg 306"
   ]
  },
  {
   "cell_type": "code",
   "execution_count": 3,
   "metadata": {
    "collapsed": false
   },
   "outputs": [
    {
     "name": "stdout",
     "output_type": "stream",
     "text": [
      "The primary full load current in A is 8.33\n",
      "The secondary full load current in A is 104.2\n",
      "The secondary emf in V is 240.0\n",
      "The maximum core flux in mWb is 27.0\n"
     ]
    }
   ],
   "source": [
    "# Exa 9.3\n",
    "#pg 306\n",
    "#calculate the load current, emf and core flux\n",
    "# Given data\n",
    "N1 = 500.;\n",
    "N2 = 40.;\n",
    "E1 = 3000.;# in V\n",
    "f = 50.;# in Hz\n",
    "Rating = 25*10**3;# in VA\n",
    "#calculations\n",
    "K = N2/N1;\n",
    "I1 = Rating/E1;# in A\n",
    "print \"The primary full load current in A is\",round(I1,2)\n",
    "I2 = I1/K;# in A\n",
    "print \"The secondary full load current in A is\",round(I2,1)\n",
    "# K = E2/E1;\n",
    "E2 = K*E1;# in V\n",
    "print \"The secondary emf in V is\",round(E2)\n",
    "# e.m.f equation of the transformer, E1 = 4.44*phi_m*f*N1;\n",
    "phi_m = E1/(4.44*f*N1);# in Wb\n",
    "phi_m = phi_m*10**3;# in mWb\n",
    "print \"The maximum core flux in mWb is\",round(phi_m)\n"
   ]
  },
  {
   "cell_type": "markdown",
   "metadata": {},
   "source": [
    "## Example 4: pg 307"
   ]
  },
  {
   "cell_type": "code",
   "execution_count": 4,
   "metadata": {
    "collapsed": false
   },
   "outputs": [
    {
     "name": "stdout",
     "output_type": "stream",
     "text": [
      "The active component of current in A is 1.522\n",
      "The magnetizing component of current in A is 14.923\n"
     ]
    }
   ],
   "source": [
    "# Exa 9.4\n",
    "#pg 307\n",
    "#calculate the current\n",
    "# Given data\n",
    "from math import acos,cos,sin\n",
    "Rating = 25.;# in KVA\n",
    "f = 50.;# in Hz\n",
    "Io = 15.;# in A\n",
    "Wo = 350.;# in W\n",
    "Vo = 230.;# in V\n",
    "#calculations\n",
    "# No load power factor\n",
    "phi_o = acos(Wo/(Vo*Io));\n",
    "# active component of current \n",
    "Ic = Io*cos(phi_o);# in A\n",
    "print \"The active component of current in A is\",round(Ic,3)\n",
    "# magnetizing component of current \n",
    "Im = Io*sin(phi_o);# in A\n",
    "print \"The magnetizing component of current in A is\",round(Im,3)\n"
   ]
  },
  {
   "cell_type": "markdown",
   "metadata": {},
   "source": [
    "## Example 5: pg 307"
   ]
  },
  {
   "cell_type": "code",
   "execution_count": 5,
   "metadata": {
    "collapsed": false
   },
   "outputs": [
    {
     "name": "stdout",
     "output_type": "stream",
     "text": [
      "Equivalent resistance reffered to primary  in ohm is 3.55\n",
      "Equivalent resistance reffered to secondary  in ohm is 0.008875\n",
      "Equivalent reactance reffered to primary  in ohm is 5.6\n",
      "Equivalent reactance reffered to secondary  in ohm is 0.014\n",
      "Equivalent impedance reffered to primary in ohm is :  6.6304\n",
      "Equivalent impedance reffered to secondary in ohm is :  0.01658\n"
     ]
    }
   ],
   "source": [
    "# Exa 9.5\n",
    "#pg 307\n",
    "#calculate the resistance and reactance\n",
    "# Given data\n",
    "V1 = 2200.;# in V\n",
    "V2 = 110.;# in V\n",
    "R1 = 1.75;# in ohm\n",
    "R2 = 0.0045;# in ohm\n",
    "X1 = 2.6;# in ohm\n",
    "X2 = 0.0075;# in ohm\n",
    "#calculations\n",
    "K = V2/V1;\n",
    "#R1e = R1+R_2 = R1 + (R2/(K**2));\n",
    "R1e = R1 + (R2/(K**2));# in ohm\n",
    "print \"Equivalent resistance reffered to primary  in ohm is\",R1e\n",
    "# R2e = R2+R_1 = R2+((K**2)*R1);\n",
    "R2e = R2+((K**2)*R1);# in ohm\n",
    "print \"Equivalent resistance reffered to secondary  in ohm is\",R2e\n",
    "#X1e = X1+X_2 = X1+(X2/(K**2));\n",
    "X1e = X1+(X2/(K**2));# in ohm\n",
    "print \"Equivalent reactance reffered to primary  in ohm is\",X1e\n",
    "# X2e = X2+X_1 = X2 + ((K**2)*X1);\n",
    "X2e = X2 + ((K**2)*X1);# in ohm\n",
    "print \"Equivalent reactance reffered to secondary  in ohm is\",X2e\n",
    "Z1e= R1e+1j*X1e;# in ohm\n",
    "Z2e= R2e+1j*X2e;# in ohm\n",
    "print \"Equivalent impedance reffered to primary in ohm is : \",round(abs(Z1e),4)\n",
    "print \"Equivalent impedance reffered to secondary in ohm is : \",round(abs(Z2e),5)\n",
    "\n"
   ]
  },
  {
   "cell_type": "markdown",
   "metadata": {},
   "source": [
    "## Example 6: pg 308"
   ]
  },
  {
   "cell_type": "code",
   "execution_count": 6,
   "metadata": {
    "collapsed": false
   },
   "outputs": [
    {
     "name": "stdout",
     "output_type": "stream",
     "text": [
      "The equivalent impedance of the transformer reffered to primary in ohm is 2.05\n",
      "The total copper loss in W is 1136.36\n"
     ]
    }
   ],
   "source": [
    "# Exa 9.6\n",
    "#pg 308\n",
    "#calculate the impedance and copper loss\n",
    "from math import sqrt\n",
    "# Given data\n",
    "V1 = 2200.;# in V\n",
    "V2 = 440.;# in V\n",
    "R1 = 0.3;# in ohm\n",
    "R2 = 0.01;# in ohm\n",
    "X1 = 1.1;# in ohm\n",
    "X2 = 0.035;# in ohm\n",
    "#calculations\n",
    "K = V2/V1;\n",
    "Rating = 100;# in KVA\n",
    "I1 = (Rating*10**3)/V1;# in A\n",
    "I2 = (Rating*10**3)/V2;# in A\n",
    "R1e = R1 + (R2/(K**2));# in ohm\n",
    "X1e = X1+(X2/(K**2));# in ohm\n",
    "Z1e = sqrt( (R1e**2) + (X1e**2) );# in ohm\n",
    "# Total copper loss\n",
    "totalcopperloss = (I1**2)*R1e;# in W\n",
    "#results\n",
    "print \"The equivalent impedance of the transformer reffered to primary in ohm is\",round(Z1e,2)\n",
    "print \"The total copper loss in W is\",round(totalcopperloss,2)\n"
   ]
  },
  {
   "cell_type": "markdown",
   "metadata": {},
   "source": [
    "## Example 7: pg 309"
   ]
  },
  {
   "cell_type": "code",
   "execution_count": 7,
   "metadata": {
    "collapsed": false
   },
   "outputs": [
    {
     "name": "stdout",
     "output_type": "stream",
     "text": [
      "The efficiency in percent is 95.24\n"
     ]
    }
   ],
   "source": [
    "# Exa 9.7\n",
    "#pg 309\n",
    "#calculate the efficiency\n",
    "from math import cos,acos\n",
    "# Given data\n",
    "Rating = 150000.;# in VA\n",
    "phi= acos(0.8);# in radians\n",
    "Pcu = 1600.;# in W\n",
    "Pi = 1400.;# in W\n",
    "n = 1/4.;\n",
    "#calculations\n",
    "# Total loss of 25% load\n",
    "totalloss = Pi + (n**2)*Pcu;# in W\n",
    "# efficiency of transformer of 25% load\n",
    "Eta = n*Rating*cos(phi)/(n*Rating*cos(phi)+Pi+n**2*Pcu)*100;# in %\n",
    "#results\n",
    "print \"The efficiency in percent is\",round(Eta,2)\n",
    "\n"
   ]
  },
  {
   "cell_type": "markdown",
   "metadata": {},
   "source": [
    "## Example 8: pg 309"
   ]
  },
  {
   "cell_type": "code",
   "execution_count": 8,
   "metadata": {
    "collapsed": false
   },
   "outputs": [
    {
     "name": "stdout",
     "output_type": "stream",
     "text": [
      "The efficiency of full load power in percent is 97.09\n",
      "The efficiency of half load power in percent is 96.53\n"
     ]
    }
   ],
   "source": [
    "# Exa 9.8\n",
    "#pg 309\n",
    "#calculate the efficiency\n",
    "# Given data\n",
    "from math import acos\n",
    "Rating = 25.;# in KVA\n",
    "V1 = 2000.;# in V\n",
    "V2 = 200.;# in V\n",
    "Pi = 350.;# in W\n",
    "Pi = Pi * 10**-3;# in kW\n",
    "Pcu = 400.;# in W\n",
    "Pcu = Pcu * 10**-3;# in kW\n",
    "#calculations\n",
    "phi= acos(1);# in radians\n",
    "output = Rating;\n",
    "losses = Pi+Pcu;\n",
    "Eta = (output/(output + losses))*100;# %Eta in %\n",
    "print \"The efficiency of full load power in percent is\",round(Eta,2)\n",
    "# For half load\n",
    "output = Rating/2;# in kW\n",
    "h = 1.;\n",
    "Pcu = Pcu*((h/2)**2);# in kW\n",
    "losses = Pi+Pcu;\n",
    "# efficiency of half load power \n",
    "Eta = (output/(output+losses))*100;# in %\n",
    "print \"The efficiency of half load power in percent is\",round(Eta,2)\n"
   ]
  },
  {
   "cell_type": "markdown",
   "metadata": {},
   "source": [
    "## Example 9: pg 310"
   ]
  },
  {
   "cell_type": "code",
   "execution_count": 9,
   "metadata": {
    "collapsed": false
   },
   "outputs": [
    {
     "name": "stdout",
     "output_type": "stream",
     "text": [
      "The efficiency at full load in percent is 98.14\n",
      "The maximum efficiency in kVA is 237.17\n",
      "The maximum efficiency in percent is 98.138\n"
     ]
    }
   ],
   "source": [
    "# Exa 9.9\n",
    "#pg 310\n",
    "#calculate the efficiency\n",
    "from math import acos,cos,sqrt\n",
    "# Given data\n",
    "Rating = 250*10**3;# in VA\n",
    "Pi = 1.8;# in kW\n",
    "Pi = Pi * 10**3;# in W\n",
    "Pcu_f1 = 2000;# in W\n",
    "phi= acos(0.8);# in radians\n",
    "Eta = ((Rating*cos(phi))/((Rating*cos(phi))+Pi+Pcu_f1))*100;# %Eta in %\n",
    "print \"The efficiency at full load in percent is\",round(Eta,2)\n",
    "# The maximum efficiency \n",
    "Eta_max = Rating * sqrt(Pi/Pcu_f1 );# in VA\n",
    "Eta_max = Eta_max *10**-3;# in kVA\n",
    "print \"The maximum efficiency in kVA is\",round(Eta_max,2)\n",
    "Eta_max = Eta_max *10**3;# in VA\n",
    "Pcu = Pi;# in W\n",
    "Eta_max1 = ((Eta_max*cos(phi))/((Eta_max*cos(phi)) + Pi+Pcu ))*100;# in %\n",
    "print \"The maximum efficiency in percent is\",round(Eta_max1,3)\n"
   ]
  },
  {
   "cell_type": "markdown",
   "metadata": {},
   "source": [
    "## Example 10: pg 311"
   ]
  },
  {
   "cell_type": "code",
   "execution_count": 10,
   "metadata": {
    "collapsed": false
   },
   "outputs": [
    {
     "name": "stdout",
     "output_type": "stream",
     "text": [
      "The iron loss in W is :  18518.519\n",
      "The full load copper loss in watt 37037.04\n"
     ]
    }
   ],
   "source": [
    "# Exa 9.10\n",
    "#pg 311\n",
    "#calculate the iron loss, full load copper loss\n",
    "# Given data\n",
    "from math import acos,cos\n",
    "phi= acos(1);# in radians\n",
    "Pout = 500.;# in kW\n",
    "Pout = Pout*10**3;# in W\n",
    "Eta = 90.;# in %\n",
    "n=1/2.;\n",
    "#calculations\n",
    "# For full load, Eta= Pout*100/(Pout+Pi+Pcu_f1) or Pi+Pcu_f1= (Pout*100-Eta*Pout)/Eta                                       (i)\n",
    "# For half load, Eta= n*Pout*100/(n*Pout+Pi+n**2*Pcu_f1) or Pi+n**2*Pcu_f1= (n*Pout*100-n*Eta*Pout)/Eta    (ii)\n",
    "# From eq(i) and (ii)\n",
    "Pcu_fl= ((n*Pout*100-n*Eta*Pout)/Eta-(Pout*100-Eta*Pout)/Eta)/(n**2-1)\n",
    "Pi=(Pout*100-Eta*Pout)/Eta-Pcu_fl\n",
    "#results\n",
    "print \"The iron loss in W is : \",round(Pi,3)\n",
    "print \"The full load copper loss in watt\",round(Pcu_fl,2)\n"
   ]
  },
  {
   "cell_type": "markdown",
   "metadata": {},
   "source": [
    "## Example 11: pg 311"
   ]
  },
  {
   "cell_type": "code",
   "execution_count": 11,
   "metadata": {
    "collapsed": false
   },
   "outputs": [
    {
     "name": "stdout",
     "output_type": "stream",
     "text": [
      "The magnetizing component of no load current in A is 9.68\n",
      "The iron loss in W is 1000.0\n",
      "The maximum value of flux in mWb is 3.6\n"
     ]
    }
   ],
   "source": [
    "# Exa 9.11\n",
    "#pg 311\n",
    "#calculate the flux, iron loass and load current\n",
    "# Given data\n",
    "from math import acos,sin,cos\n",
    "Io = 10;# in A\n",
    "phi_o= acos(0.25);# in radians\n",
    "V1 = 400.;# in V\n",
    "f = 50.;# in Hz\n",
    "N1 =500.;\n",
    "Im = Io*sin(phi_o);# in A\n",
    "print \"The magnetizing component of no load current in A is\",round(Im,2)\n",
    "Pi = V1*Io*cos(phi_o);# in W\n",
    "print \"The iron loss in W is\",Pi\n",
    "E1 = V1;# in V\n",
    "#E1 v= 4.44*f*phi_m*N1;\n",
    "phi_m = E1/(4.44*f*N1);# in Wb\n",
    "phi_m=phi_m*10**3;# in mWb\n",
    "print \"The maximum value of flux in mWb is\",round(phi_m,2)\n"
   ]
  },
  {
   "cell_type": "markdown",
   "metadata": {},
   "source": [
    "## Example 12: pg 312"
   ]
  },
  {
   "cell_type": "code",
   "execution_count": 12,
   "metadata": {
    "collapsed": false
   },
   "outputs": [
    {
     "name": "stdout",
     "output_type": "stream",
     "text": [
      "The equivalent resistance to primary side in ohm is 5.0\n",
      "The equivalent reactance to primary side in ohm is 6.5\n",
      "The equivalent impedance to primary side in ohm is 8.2\n",
      "Total copper loss in W is 1125.0\n"
     ]
    }
   ],
   "source": [
    "# Exa 9.12\n",
    "#pg 312\n",
    "#calculate the equivalent resistance\n",
    "# Given data\n",
    "from math import sqrt\n",
    "Rating = 30.*10**3;# in VA\n",
    "V1 = 2000.;# in V\n",
    "V2 = 200.;# in V\n",
    "f = 50.;# in Hz\n",
    "R1 = 3.5;# in ohm\n",
    "X1 = 4.5;# in ohm\n",
    "R2 = 0.015;# in  ohm\n",
    "X2 = 0.02;# in ohm\n",
    "#calculations\n",
    "K = V2/V1;\n",
    "R1e = R1 + (R2/(K**2));# in ohm\n",
    "print \"The equivalent resistance to primary side in ohm is\",R1e\n",
    "X1e = X1 + (X2/(K**2));# in ohm\n",
    "print \"The equivalent reactance to primary side in ohm is\",X1e\n",
    "Z1e = sqrt( (R1e**2) + (X1e**2) );# in ohm\n",
    "print \"The equivalent impedance to primary side in ohm is\",round(Z1e,1)\n",
    "I1 = Rating/V1;# in A\n",
    "# Total copper loss in transformer\n",
    "Pcu_total = (I1**2)*R1e;# in W\n",
    "print \"Total copper loss in W is\",Pcu_total\n"
   ]
  },
  {
   "cell_type": "markdown",
   "metadata": {},
   "source": [
    "## Example 13: pg 313"
   ]
  },
  {
   "cell_type": "code",
   "execution_count": 13,
   "metadata": {
    "collapsed": false
   },
   "outputs": [
    {
     "name": "stdout",
     "output_type": "stream",
     "text": [
      "The full load secondary voltage in V is 377.65\n"
     ]
    }
   ],
   "source": [
    "# Exa 9.13\n",
    "#pg 313\n",
    "#calculate the full load secondary voltage\n",
    "from math import cos,sin,acos\n",
    "# Given data\n",
    "Rating = 10;# in KVA\n",
    "phi= acos(0.8)\n",
    "V1 = 2000.;# in V\n",
    "V2 = 400.;# in V\n",
    "R1 = 5.5;# in ohm\n",
    "X1 = 12;# in ohm\n",
    "R2 = 0.2;# in ohm\n",
    "X2 = 0.45;# in ohm\n",
    "K = V2/V1;\n",
    "#R1e = R1 + R_2 = R1 + (R2/(K**2));\n",
    "R1e = R1 + (R2/(K**2));# in ohm\n",
    "#X1e = X1 + X_ = X1 + (X2/(K**2));\n",
    "X1e = X1 + (X2/(K**2));# in ohm\n",
    "I2 = (Rating*10**3)/V2;# in A\n",
    "R2e = (K**2)*R1e;# in ohm\n",
    "X2e = (K**2)*X1e;# in ohm\n",
    "Vdrop = I2 * ( (R2e*cos(phi)) + (X2e*sin(phi)) );# voltage drop in V\n",
    "#E2 = V2 +Vd;\n",
    "E2 = V2;# in V\n",
    "# The full load secondary voltage \n",
    "V2 = E2-Vdrop;# in V\n",
    "#results\n",
    "print \"The full load secondary voltage in V is\",V2\n"
   ]
  },
  {
   "cell_type": "markdown",
   "metadata": {},
   "source": [
    "## Example 14: pg 313"
   ]
  },
  {
   "cell_type": "code",
   "execution_count": 14,
   "metadata": {
    "collapsed": false
   },
   "outputs": [
    {
     "name": "stdout",
     "output_type": "stream",
     "text": [
      "Full load efficiency in percent is 96.77\n",
      "The percentage of the full load in percent is 70.71\n"
     ]
    }
   ],
   "source": [
    "# Exa 9.14\n",
    "#pg 313\n",
    "#calculate the efficiency\n",
    "from math import cos,acos,sqrt\n",
    "# Given data\n",
    "Rating = 40*10**3;# in VA\n",
    "Pi = 400.;# in W\n",
    "Pcu_f1  = 800.;# in W\n",
    "#calculations\n",
    "phi= acos(0.9);# in radians\n",
    "Eta_f1 = ((Rating*cos(phi))/( (Rating*cos(phi)) + Pi + Pcu_f1 ))*100;# in %\n",
    "print \"Full load efficiency in percent is\",round(Eta_f1,2)\n",
    "# percentage of the full load\n",
    "Eta_max = Rating*sqrt( Pi/Pcu_f1);# in KVA\n",
    "Eta_max = Eta_max/Rating*100;# in %\n",
    "print \"The percentage of the full load in percent is\",round(Eta_max,2)\n"
   ]
  },
  {
   "cell_type": "markdown",
   "metadata": {},
   "source": [
    "## Example 15: pg 314"
   ]
  },
  {
   "cell_type": "code",
   "execution_count": 15,
   "metadata": {
    "collapsed": false
   },
   "outputs": [
    {
     "name": "stdout",
     "output_type": "stream",
     "text": [
      "The full load efficiency in percent is 97.56\n"
     ]
    }
   ],
   "source": [
    "#pg 314\n",
    "# Exa 9.15\n",
    "#calculate the full load efficiency\n",
    "from math import cos,acos\n",
    "# Given data\n",
    "Rating = 8*10**3;# in VA\n",
    "phi= acos(0.8);# in radians\n",
    "V1 = 400.;# in V\n",
    "V2 = 100.;# in V\n",
    "f = 50.;# in Hz\n",
    "Pi = 60.;# in W\n",
    "Wo = Pi;# in W\n",
    "Pcu = 100.;# in W\n",
    "#results\n",
    "# The full load efficiency \n",
    "Eta_f1 = ((Rating*cos(phi))/((Rating*cos(phi)) + Pi + Pcu))*100;# in %\n",
    "#results\n",
    "print \"The full load efficiency in percent is\",round(Eta_f1,2)\n"
   ]
  },
  {
   "cell_type": "markdown",
   "metadata": {},
   "source": [
    "## Example 16: pg 314"
   ]
  },
  {
   "cell_type": "code",
   "execution_count": 16,
   "metadata": {
    "collapsed": false
   },
   "outputs": [
    {
     "name": "stdout",
     "output_type": "stream",
     "text": [
      "The full load efficiency in percent is 96.0\n"
     ]
    }
   ],
   "source": [
    "#pg 314\n",
    "# Exa 9.16\n",
    "# Given data\n",
    "from math import acos,cos\n",
    "Rating = 10*10**3;# in VA\n",
    "phi= acos(0.8);# in radians\n",
    "V1 = 500.;# in V\n",
    "V2 = 250.;# in V\n",
    "Pi = 200.;# in W\n",
    "Pcu = 300.;# in W\n",
    "Isc = 30.;# in A\n",
    "#calculations\n",
    "I1 = Rating/V1;# in A\n",
    "# Pcu/(Pcu(f1)) = (Isc**2)/(I1**2);\n",
    "Pcu_f1 = Pcu * ((I1**2)/(Isc**2));# in W\n",
    "# The efficiency at full load\n",
    "Eta_f1 = Rating*cos(phi)/(Rating*cos(phi) + Pi + Pcu_f1)*100;# in %\n",
    "#results\n",
    "print \"The full load efficiency in percent is\",Eta_f1\n"
   ]
  },
  {
   "cell_type": "markdown",
   "metadata": {},
   "source": [
    "## Example 17: pg 315"
   ]
  },
  {
   "cell_type": "code",
   "execution_count": 17,
   "metadata": {
    "collapsed": false
   },
   "outputs": [
    {
     "name": "stdout",
     "output_type": "stream",
     "text": [
      "The maximum efficiency of transformer in percent is 97.683\n"
     ]
    }
   ],
   "source": [
    "#pg 315\n",
    "# Exa 9.17\n",
    "#calculate the max efficiency\n",
    "# Given data\n",
    "from math import acos,cos,sqrt\n",
    "Rating = 20*10**3;# in VA\n",
    "phi= acos(0.8);# in radians\n",
    "V1 = 2000.;# in V\n",
    "V2 = 200.;# in V\n",
    "Pi = 120.;# in W\n",
    "Pcu = 300.;# in W\n",
    "#calculations\n",
    "Eta_max = Rating*(sqrt( Pi/Pcu ));# in VA\n",
    "Pcu = Pi;# in W\n",
    "# The maximum efficiency of transformer \n",
    "Eta_max = ((Eta_max*cos(phi))/( Eta_max*cos(phi) + (2*Pi) ))*100;# in %\n",
    "#results\n",
    "print \"The maximum efficiency of transformer in percent is\",round(Eta_max,3)\n"
   ]
  },
  {
   "cell_type": "markdown",
   "metadata": {},
   "source": [
    "## Example 18: pg 315"
   ]
  },
  {
   "cell_type": "code",
   "execution_count": 18,
   "metadata": {
    "collapsed": false
   },
   "outputs": [
    {
     "name": "stdout",
     "output_type": "stream",
     "text": [
      "The equivalent parameters referred to secondary side are : \n",
      "The value of  R_2e  is :  0.041  ohm\n",
      "The value of  X_2e  is :  0.248  ohm\n",
      "The value of  R''c  is :  14.0  ohm\n",
      "The value of  X''m  is :  3.92  ohm\n"
     ]
    }
   ],
   "source": [
    "#pg 315\n",
    "# Exa 9.18\n",
    "#calculate the resistances\n",
    "# Given data\n",
    "Turnratio = 5;\n",
    "R1 = 0.5;# in ohm\n",
    "R2 = 0.021;# in ohm\n",
    "X1 = 3.2;# in ohm\n",
    "X2 = 0.12;# in ohm\n",
    "Rc = 350.;# in ohm\n",
    "Xm = 98.;# in ohm\n",
    "N1 = 5.;\n",
    "N2 = 1.;\n",
    "#calculations\n",
    "K = N2/N1;\n",
    "# Evaluation of the equivalent parameters referred to secondary side \n",
    "R2e = R2 + ((K**2)*R1);# in ohm\n",
    "print \"The equivalent parameters referred to secondary side are : \"\n",
    "print \"The value of  R_2e  is : \",R2e,\" ohm\"\n",
    "X2e = X2 + ((K**2)*X1);# in ohm\n",
    "print \"The value of  X_2e  is : \",X2e,\" ohm\"\n",
    "R_c = (K**2)*Rc;# in ohm\n",
    "print \"The value of  R''c  is : \",R_c,\" ohm\"\n",
    "X_m = (K**2)*Xm;# in ohm\n",
    "print \"The value of  X''m  is : \",X_m,\" ohm\"\n"
   ]
  },
  {
   "cell_type": "markdown",
   "metadata": {},
   "source": [
    "## Example 19: pg 315"
   ]
  },
  {
   "cell_type": "code",
   "execution_count": 19,
   "metadata": {
    "collapsed": false
   },
   "outputs": [
    {
     "name": "stdout",
     "output_type": "stream",
     "text": [
      "The value of R''o is :  24.2  ohm\n",
      "The value of X''o is :  5.0  ohm\n",
      "The value of R1e is :  36.3073  ohm\n",
      "The value of Z1e is :  55.0055  ohm\n",
      "The value of X1e is :  41.3206  ohm\n",
      "The value of R2e is :  0.0145  ohm\n",
      "The value of X2e is :  0.0165  ohm\n",
      "The value of Z2e is :  0.022  ohm\n"
     ]
    }
   ],
   "source": [
    "#pg 315\n",
    "# Exa 9.19\n",
    "#calculate the resistances\n",
    "# Given data\n",
    "from math import acos,cos,sin,sqrt\n",
    "Rating = 100.*10**3;# in VA\n",
    "V1 = 11000.;# in V\n",
    "V2 = 220.;# in V\n",
    "Wo = 2*10**3;# in W\n",
    "Vo = 220.;# in V\n",
    "Io = 45.;# in A\n",
    "#calculations\n",
    "phi_o = acos(Wo/(Vo*Io));\n",
    "I_c = Io*cos(phi_o);# in A\n",
    "I_m = Io*sin(phi_o);# in A\n",
    "Ro= V2/I_c;# in ohm\n",
    "Xo= V2/I_m;# in ohm\n",
    "Wsc= 3*10**3;# in W\n",
    "Vsc= 500.;# in V\n",
    "Isc= 9.09;# in A\n",
    "R1e= Wsc/Isc**2;# in ohm\n",
    "Z1e= Vsc/Isc;# in ohm\n",
    "X1e= sqrt(Z1e**2-R1e**2);# in ohm\n",
    "K= V2/V1;\n",
    "R2e= K**2*R1e;# in ohm\n",
    "X2e= K**2*X1e;# in ohm\n",
    "Z2e= K**2*Z1e;# in ohm\n",
    "#results\n",
    "print \"The value of R''o is : \",Ro,\" ohm\"\n",
    "print \"The value of X''o is : \",round(Xo),\" ohm\"\n",
    "print \"The value of R1e is : \",round(R1e,4),\" ohm\"\n",
    "print \"The value of Z1e is : \",round(Z1e,4),\" ohm\"\n",
    "print \"The value of X1e is : \",round(X1e,4),\" ohm\"\n",
    "print \"The value of R2e is : \",round(R2e,4),\" ohm\"\n",
    "print \"The value of X2e is : \",round(X2e,4),\" ohm\"\n",
    "print \"The value of Z2e is : \",round(Z2e,4),\" ohm\"\n"
   ]
  },
  {
   "cell_type": "markdown",
   "metadata": {},
   "source": [
    "## Example 20: pg 316"
   ]
  },
  {
   "cell_type": "code",
   "execution_count": 20,
   "metadata": {
    "collapsed": false
   },
   "outputs": [
    {
     "name": "stdout",
     "output_type": "stream",
     "text": [
      "The efficiency of the transformer in percent is 96.59\n"
     ]
    }
   ],
   "source": [
    "#pg 316\n",
    "# Exa 9.20\n",
    "#calculate the efficiency\n",
    "# Given data\n",
    "from math import acos,cos\n",
    "V1 = 250.;# in V\n",
    "V2 = 500.;# in V\n",
    "Pcu = 100.;# in W\n",
    "Pi = 80.;# in W\n",
    "V = V2;# in V\n",
    "A = 12.;# in A\n",
    "#calculations\n",
    "phi= acos(0.85);# in radians\n",
    "# The efficiency of the transformer \n",
    "Eta = ((V*A*cos(phi))/( V*A*cos(phi) + Pi+Pcu ))*100;# in %\n",
    "print \"The efficiency of the transformer in percent is\",round(Eta,2)\n"
   ]
  },
  {
   "cell_type": "markdown",
   "metadata": {},
   "source": [
    "## Example 21: pg 317"
   ]
  },
  {
   "cell_type": "code",
   "execution_count": 21,
   "metadata": {
    "collapsed": false
   },
   "outputs": [
    {
     "name": "stdout",
     "output_type": "stream",
     "text": [
      "The iron loss on full load and half load remain same in W which are :  1012.0226\n",
      "The copper loss on full load in W is :  2972.993\n",
      "The copper loss on half load in W is :  743.248\n"
     ]
    }
   ],
   "source": [
    "#pg 317\n",
    "# Exa 9.21\n",
    "#calculate the iron and copper loss\n",
    "# Given data\n",
    "from math import acos,cos,sin\n",
    "VA = 400.*10**3;# in Mean\n",
    "Eta_fl = 98.77/100;# in %\n",
    "phi1= acos(0.8);# in radians\n",
    "phi2= acos(1);# in radians\n",
    "Eta_hl = 99.13/100;# in %\n",
    "n = 1/2.;\n",
    "#calculations\n",
    "#For full load,  Eta_f1 = ((VA*cosd(phi1))/( VA*cosd(phi1) + Pi + Pcu_f1 )) or Pi+Pcu_f1 = VA*cosd(phi1)*(1-Eta_fl)/(Eta_f1)                   (i)\n",
    "#For half load,  Eta_hl = n*VA*cosd(phi2)/(n*VA*cosd(phi2)+Pi+n**2*Pcu_f1) or Pi+n**2*Pcu_f1 = n*VA*cosd(phi2)*( 1-Eta_hl)/Eta_hl    (ii)\n",
    "# From eq(i) and (ii)\n",
    "Pcu_fl=(n*VA*cos(phi2)*( 1-Eta_hl)/Eta_hl-VA*cos(phi1)*(1-Eta_fl)/(Eta_fl))/(n**2-1);# in W\n",
    "Pi=VA*cos(phi1)*(1-Eta_fl)/(Eta_fl)-Pcu_fl;# in W\n",
    "# The copper loss on half load \n",
    "C_loss_half_load=n**2*Pcu_fl;# in W \n",
    "#results\n",
    "print \"The iron loss on full load and half load remain same in W which are : \",round(Pi,4)\n",
    "print \"The copper loss on full load in W is : \",round(Pcu_fl,3)\n",
    "print \"The copper loss on half load in W is : \",round(C_loss_half_load,3)\n",
    "\n",
    "\n"
   ]
  },
  {
   "cell_type": "markdown",
   "metadata": {},
   "source": [
    "## Example 22: pg 317"
   ]
  },
  {
   "cell_type": "code",
   "execution_count": 22,
   "metadata": {
    "collapsed": false
   },
   "outputs": [
    {
     "name": "stdout",
     "output_type": "stream",
     "text": [
      "The efficiency of a transformer in percent is 98.3913\n"
     ]
    }
   ],
   "source": [
    "#pg 317\n",
    "# Exa 9.22\n",
    "#calculate the efficiency\n",
    "# Given data\n",
    "from math import cos,acos\n",
    "VA = 100.*10**3;# in VA\n",
    "Eta_max = 98.40/100;# in %\n",
    "Eta_max1 = 90./100;# in %\n",
    "phi= acos(1);# in radians\n",
    "#Eta_max = (Eta_max1*VA*cos(phi)/(Eta_max1*VA*cos(phi) + 2*Pi);\n",
    "Pi = (Eta_max1*VA*cos(phi)/Eta_max - Eta_max1*VA*cos(phi))/2;# in W\n",
    "Pcu = Pi;# in W\n",
    "n = 0.9;\n",
    "# Pcu_fl/Pcu = (VA/(0.9*VA) )**2;\n",
    "Pcu_fl = Pcu*(VA/(0.9*VA) )**2;# in W\n",
    "Eta_fl = ( (VA*cos(phi))/( (VA*cos(phi)) + Pi + Pcu_fl ) )*100;# in %\n",
    "#results\n",
    "print \"The efficiency of a transformer in percent is\",round(Eta_fl,4)\n"
   ]
  }
 ],
 "metadata": {
  "kernelspec": {
   "display_name": "Python 2",
   "language": "python",
   "name": "python2"
  },
  "language_info": {
   "codemirror_mode": {
    "name": "ipython",
    "version": 2
   },
   "file_extension": ".py",
   "mimetype": "text/x-python",
   "name": "python",
   "nbconvert_exporter": "python",
   "pygments_lexer": "ipython2",
   "version": "2.7.11"
  }
 },
 "nbformat": 4,
 "nbformat_minor": 0
}
