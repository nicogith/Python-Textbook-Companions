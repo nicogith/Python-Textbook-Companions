{
 "cells": [
  {
   "cell_type": "markdown",
   "metadata": {},
   "source": [
    "# Chapter 5: Three phase AC Circuits"
   ]
  },
  {
   "cell_type": "markdown",
   "metadata": {},
   "source": [
    "## Example 1: pg 200"
   ]
  },
  {
   "cell_type": "code",
   "execution_count": 1,
   "metadata": {
    "collapsed": false
   },
   "outputs": [
    {
     "name": "stdout",
     "output_type": "stream",
     "text": [
      "The line current in A is 9.24\n",
      "The power factor is :  0.8 degrees lag.\n",
      "The power supplied in W is 5120.0\n"
     ]
    }
   ],
   "source": [
    "#pg 200\n",
    "#calculate the line current, power factor and power supplied\n",
    "#  Given data\n",
    "from math import cos,acos,sqrt\n",
    "R = 20.;#  in ohm\n",
    "X_L = 15.;#  in ohm\n",
    "V_L = 400.;#  in V\n",
    "f = 50.;#  in Hz\n",
    "#calculations\n",
    "V_Ph = V_L/sqrt(3);#  in V\n",
    "Z_Ph = sqrt( (R**2) + (X_L**2) );#  in ohm\n",
    "I_Ph = V_Ph/Z_Ph;#  in A\n",
    "I_L = I_Ph;#  in A\n",
    "print \"The line current in A is\",round(I_L,2)\n",
    "# pf = cos(phi) = R_Ph/Z_Ph;\n",
    "R_Ph = R;#  in ohm\n",
    "phi= acos(R_Ph/Z_Ph);\n",
    "#  Power factor\n",
    "pf= cos(phi);#  in radians\n",
    "print \"The power factor is : \",pf,\"degrees lag.\"\n",
    "P = sqrt(3)*V_L*I_L*cos(phi);#  in W\n",
    "print \"The power supplied in W is\",P\n"
   ]
  },
  {
   "cell_type": "markdown",
   "metadata": {},
   "source": [
    "## Example 2: pg 201"
   ]
  },
  {
   "cell_type": "code",
   "execution_count": 2,
   "metadata": {
    "collapsed": false
   },
   "outputs": [
    {
     "name": "stdout",
     "output_type": "stream",
     "text": [
      "The line voltage in V is 400.0\n",
      "The phase voltage in V is 230.94\n",
      "The line current in A is :  11.55\n",
      "The line current in A is :  11.55\n",
      "Power factor is :  0.8  lagging\n",
      "The power absorbed in W is :  6400.0\n"
     ]
    }
   ],
   "source": [
    "#pg 201\n",
    "#calculate the line and phase voltage, current and power\n",
    "#  Given data\n",
    "from math import sqrt,cos\n",
    "import cmath\n",
    "R_Ph = 16.;#  in ohm\n",
    "X_L = 12.;#  in ohm\n",
    "V_L = 400.;#  in V\n",
    "f = 50.;#  in Hz\n",
    "#calculations\n",
    "V_Ph = V_L/sqrt(3);#  in V\n",
    "Z_Ph = R_Ph + 1j*X_L;#  in ohm\n",
    "I_Ph= V_Ph/Z_Ph;#  in A\n",
    "I_L= I_Ph;#  in A\n",
    "phi= cmath.phase(I_L);\n",
    "cos_phi= R_Ph/abs(Z_Ph);\n",
    "P= sqrt(3)*V_L*abs(I_L)*cos_phi;#  in W\n",
    "#results\n",
    "print \"The line voltage in V is\",V_L\n",
    "print \"The phase voltage in V is\",round(V_Ph,2)\n",
    "print \"The line current in A is : \",round(abs(I_L),2)\n",
    "print \"The line current in A is : \",round(abs(I_Ph),2)\n",
    "print \"Power factor is : \",cos_phi,\" lagging\"\n",
    "print \"The power absorbed in W is : \",P\n",
    "\n"
   ]
  },
  {
   "cell_type": "markdown",
   "metadata": {},
   "source": [
    "## Example 3: pg 202"
   ]
  },
  {
   "cell_type": "code",
   "execution_count": 3,
   "metadata": {
    "collapsed": false
   },
   "outputs": [
    {
     "name": "stdout",
     "output_type": "stream",
     "text": [
      "The Resistance in ohm is 4.27\n",
      "The inductance in H is 0.0665\n"
     ]
    }
   ],
   "source": [
    "#pg 202\n",
    "#calculate the resistance and inductance\n",
    "#  Given data\n",
    "from math import sqrt,cos,pi,acos\n",
    "P = 1.5;#  in kW\n",
    "P = P * 10**3;#  in W\n",
    "pf = 0.2;#  in lag\n",
    "V_L = 400;#  in V\n",
    "f = 50;#  in Hz\n",
    "#calculations\n",
    "phi= acos(pf);\n",
    "V_Ph = V_L/sqrt(3);#  in V\n",
    "# P = sqrt(3)*V_L*I_L*cos(phi);\n",
    "I_L = P/(sqrt(3)*V_L*cos(phi));#  in A\n",
    "I_Ph = I_L;#  in A\n",
    "Z_Ph = V_Ph/I_Ph;#  in ohm\n",
    "R_Ph = Z_Ph*cos(phi);#  in ohm\n",
    "X_Ph = sqrt( (Z_Ph**2) - (R_Ph**2) );#  in  ohm\n",
    "L_Ph = X_Ph/(2*pi*f);#  in H\n",
    "#results\n",
    "print \"The Resistance in ohm is\",round(R_Ph,2)\n",
    "print \"The inductance in H is\",round(L_Ph,4)\n",
    "\n"
   ]
  },
  {
   "cell_type": "markdown",
   "metadata": {},
   "source": [
    "## Example 4: pg 203"
   ]
  },
  {
   "cell_type": "code",
   "execution_count": 4,
   "metadata": {
    "collapsed": false
   },
   "outputs": [
    {
     "name": "stdout",
     "output_type": "stream",
     "text": [
      "The line current in A is 94.91\n",
      "The total power absorbed in kW is 45.04\n",
      "Note: To evaluate the value of P, the wrong value of I_L is put , so the calculated value of P in the book is not correct\n"
     ]
    }
   ],
   "source": [
    "#pg 203\n",
    "#calculate the line current and total power\n",
    "#  Given data\n",
    "from math import sqrt,pi,cos,acos\n",
    "R = 5;#  in ohm\n",
    "L =0.02;#  in H\n",
    "V_L = 440.;#  in V\n",
    "f = 50.;#  in Hz\n",
    "#calculations\n",
    "X_L = 2*pi*f*L;#  in  ohm\n",
    "Z_Ph = sqrt( (R**2)+(X_L**2) );#  in ohm\n",
    "V_Ph = V_L;#  in V\n",
    "I_Ph = V_Ph/Z_Ph;#  in A\n",
    "I_L = sqrt(3)*I_Ph;#  in A\n",
    "phi = acos(R/Z_Ph);#  in lag\n",
    "P = sqrt(3)*V_L*I_L*cos(phi);#  in W\n",
    "P= P*10**-3;#  in kW\n",
    "#results\n",
    "print \"The line current in A is\",round(I_L,2)\n",
    "print \"The total power absorbed in kW is\",round(P,2)\n",
    "\n",
    "print 'Note: To evaluate the value of P, the wrong value of I_L is put , so the calculated value of P in the book is not correct'\n"
   ]
  },
  {
   "cell_type": "markdown",
   "metadata": {},
   "source": [
    "## Example 5: pg 203"
   ]
  },
  {
   "cell_type": "code",
   "execution_count": 5,
   "metadata": {
    "collapsed": false
   },
   "outputs": [
    {
     "name": "stdout",
     "output_type": "stream",
     "text": [
      "The phase current in A is 10.0\n",
      "The resistance of coil in ohm is 32.0\n",
      "The inductance of coil in mH is 76.4\n",
      "The power drawn by each coil in W is 3200.0\n"
     ]
    }
   ],
   "source": [
    "#pg 203\n",
    "#calculate the phase current, resistance, inductance and power\n",
    "#  Given data\n",
    "from math import acos,sqrt,pi,cos\n",
    "V_L = 400.;#  in V\n",
    "f = 50.;#  in Hz\n",
    "I_L = 17.32;#  in A\n",
    "pf = 0.8;# in lag\n",
    "#calculations\n",
    "I_Ph = I_L/sqrt(3);#  in A\n",
    "print \"The phase current in A is\",round(I_Ph)\n",
    "V_Ph = V_L;#  in V\n",
    "Z_Ph = V_Ph/I_Ph;#  in ohm\n",
    "phi = acos(pf)#  in lag\n",
    "R_Ph = Z_Ph*cos(phi);#  in ohm\n",
    "print \"The resistance of coil in ohm is\",round(R_Ph)\n",
    "X_Ph = sqrt( (Z_Ph**2) - (R_Ph**2) );#  in ohm\n",
    "#  X_Ph = 2*%pi*f*L;\n",
    "L = X_Ph/(2*pi*f);#  in H\n",
    "L = L * 10**3;#  in mH\n",
    "print \"The inductance of coil in mH is\",round(L,1)\n",
    "P = V_Ph*I_Ph*cos(phi);#  in W\n",
    "print \"The power drawn by each coil in W is\",round(P)\n"
   ]
  },
  {
   "cell_type": "markdown",
   "metadata": {},
   "source": [
    "## Example 6: pg 208"
   ]
  },
  {
   "cell_type": "code",
   "execution_count": 6,
   "metadata": {
    "collapsed": false
   },
   "outputs": [
    {
     "name": "stdout",
     "output_type": "stream",
     "text": [
      "The power factor of the load is :  0.89  lag.\n"
     ]
    }
   ],
   "source": [
    "#pg 208\n",
    "#calculate the power factor\n",
    "from math import atan,sqrt,cos\n",
    "#  Given data\n",
    "W1 = 1000.;#  in W\n",
    "W2 = 550.;#  in W\n",
    "#calculations\n",
    "phi = (atan( sqrt(3)*((W1-W2)/(W1+W2)) ));# in radians\n",
    "#  power factor \n",
    "pf= cos(phi);#  lag\n",
    "print \"The power factor of the load is : \",round(pf,2),\" lag.\"\n"
   ]
  },
  {
   "cell_type": "markdown",
   "metadata": {},
   "source": [
    "## Example 7: pg 208"
   ]
  },
  {
   "cell_type": "code",
   "execution_count": 7,
   "metadata": {
    "collapsed": false
   },
   "outputs": [
    {
     "name": "stdout",
     "output_type": "stream",
     "text": [
      "Part (i) : Power factor is :  0.6934  lagging\n",
      "Part (ii) : Power factor is :  0.327  lagging\n"
     ]
    }
   ],
   "source": [
    "#pg 208\n",
    "#calculate the power factor in both cases\n",
    "#  Given data\n",
    "from math import cos,atan,sqrt\n",
    "W1 = 2000.;#  in W\n",
    "W2 = 500.;#  in W\n",
    "#calculations\n",
    "phi = (atan( sqrt(3)*((W1-W2)/(W1+W2)) ));#  in lag\n",
    "#  power factor \n",
    "pf= cos(phi);#  lagging\n",
    "print \"Part (i) : Power factor is : \",round(pf,4),\" lagging\"\n",
    "W2 = -W2;#  in W\n",
    "phi = (atan( sqrt(3)*((W1-W2)/(W1+W2)) ));#  in lag\n",
    "#  power factor \n",
    "pf= cos(phi);#  lagging\n",
    "print \"Part (ii) : Power factor is : \",round(pf,3),\" lagging\"\n"
   ]
  },
  {
   "cell_type": "markdown",
   "metadata": {},
   "source": [
    "## Example 8: pg 208"
   ]
  },
  {
   "cell_type": "code",
   "execution_count": 8,
   "metadata": {
    "collapsed": false
   },
   "outputs": [
    {
     "name": "stdout",
     "output_type": "stream",
     "text": [
      "The power factor is :  0.404  lag.\n"
     ]
    }
   ],
   "source": [
    "#pg 208\n",
    "#calculate the power factor\n",
    "#  Given data\n",
    "from math import atan,sqrt,cos\n",
    "W1 = 375.;#  in W\n",
    "W2 = -50.;#  in W\n",
    "#calculations\n",
    "#  tan(phi) = sqrt(3)*((W1-W2)/(W1+W2));\n",
    "phi = atan(sqrt(3)*((W1-W2)/(W1+W2)));#  in degree\n",
    "#  power factor \n",
    "pf= cos(phi);#  lag\n",
    "#results\n",
    "print \"The power factor is : \",round(pf,3),\" lag.\"\n"
   ]
  },
  {
   "cell_type": "markdown",
   "metadata": {},
   "source": [
    "## Example 9: pg 209"
   ]
  },
  {
   "cell_type": "code",
   "execution_count": 9,
   "metadata": {
    "collapsed": false
   },
   "outputs": [
    {
     "name": "stdout",
     "output_type": "stream",
     "text": [
      "The power input in kW is 400.0\n",
      "The power factor is 0.756\n",
      "The line current in A is 152.75\n",
      "The power output in kW is 360.0\n"
     ]
    }
   ],
   "source": [
    "#pg 209\n",
    "#calculate the power input,factor,output and line current\n",
    "#  Given data\n",
    "from math import atan,cos,sqrt\n",
    "W1 = 300.;#  in kW\n",
    "W2 = 100.;#  in kW\n",
    "V_L= 2000.;#  in V\n",
    "Eta= 90/100.;\n",
    "#calculations\n",
    "P = W1+W2;#  in kW\n",
    "#  tan(phi) = sqrt(3)*((W1-W2)/(W1+W2));\n",
    "phi = atan(sqrt(3)*((W1-W2)/(W1+W2)));\n",
    "pf = cos(phi);#  power factor\n",
    "#  P = sqrt(3)*V_L*I_L*cosd(phi);\n",
    "I_L = (P*10**3)/(sqrt(3)*V_L*pf);#  in A\n",
    "output = P*Eta;#  in kW\n",
    "#results\n",
    "print \"The power input in kW is\",P\n",
    "print \"The power factor is\",round(pf,3)\n",
    "print \"The line current in A is\",round(I_L,2)\n",
    "print \"The power output in kW is\",output\n"
   ]
  },
  {
   "cell_type": "markdown",
   "metadata": {},
   "source": [
    "## Example 10: pg 209"
   ]
  },
  {
   "cell_type": "code",
   "execution_count": 10,
   "metadata": {
    "collapsed": false
   },
   "outputs": [
    {
     "name": "stdout",
     "output_type": "stream",
     "text": [
      "The phase current in A is 20.0\n",
      "The impedance of load in ohm is 11.55\n",
      "The power factor is :  0.866  lag.\n"
     ]
    }
   ],
   "source": [
    "#pg 209\n",
    "#calculate the phase current,impedance and power factor\n",
    "#  Given data\n",
    "from math import sqrt,acos,cos\n",
    "P = 12.;#  in kW\n",
    "P = P * 10**3;#  in W\n",
    "V_L = 400.;#  in V\n",
    "I_L = 20.;#  in A\n",
    "I_Ph = I_L;#  in A\n",
    "#calculations\n",
    "V_Ph = V_L/sqrt(3);#  in V\n",
    "Z_Ph = V_Ph/I_Ph;#  in ohm\n",
    "#  P = sqrt(3)*V_L*I_L*cos(phi);\n",
    "phi= acos(P/(sqrt(3)*V_L*I_L));#  in lag\n",
    "#  power factor\n",
    "pf= cos(phi);#  lag\n",
    "#results\n",
    "print \"The phase current in A is\",I_Ph\n",
    "print \"The impedance of load in ohm is\",round(Z_Ph,2)\n",
    "print \"The power factor is : \",round(pf,3),\" lag.\"\n"
   ]
  },
  {
   "cell_type": "markdown",
   "metadata": {},
   "source": [
    "## Example 11: pg 210"
   ]
  },
  {
   "cell_type": "code",
   "execution_count": 11,
   "metadata": {
    "collapsed": false
   },
   "outputs": [
    {
     "name": "stdout",
     "output_type": "stream",
     "text": [
      "The line current in A is :  23.09\n",
      "Power factor is :  0.8  lagging\n",
      "The three phase power in W is :  12800.0\n",
      "The three phase volt-amperes in VA is :  16000.0\n"
     ]
    }
   ],
   "source": [
    "#pg 210\n",
    "#calculate the line current, power factor, three phase power and volt amperes\n",
    "#  Given data\n",
    "import cmath\n",
    "from math import cos,sqrt\n",
    "Z_Ph= 8+6*1j;#  in ohm\n",
    "V_L= 400;#  in V\n",
    "#calculations\n",
    "V_Ph= V_L/sqrt(3);#  in V\n",
    "I_Ph= V_Ph/Z_Ph;#  in A\n",
    "I_L= I_Ph;#  in A\n",
    "phi= cmath.phase(I_L);#  in radians\n",
    "print \"The line current in A is : \",round(abs(I_L),2)\n",
    "#  power factor\n",
    "pf= cos(phi);#  lagging\n",
    "print \"Power factor is : \",pf,\" lagging\"\n",
    "P= sqrt(3)*V_L*abs(I_L)*cos(phi);#  in W\n",
    "print \"The three phase power in W is : \",P\n",
    "S= sqrt(3)*V_L*abs(I_L);#  in VA.\n",
    "print \"The three phase volt-amperes in VA is : \",S\n"
   ]
  },
  {
   "cell_type": "markdown",
   "metadata": {},
   "source": [
    "## Example 12: pg 211"
   ]
  },
  {
   "cell_type": "code",
   "execution_count": 12,
   "metadata": {
    "collapsed": false
   },
   "outputs": [
    {
     "name": "stdout",
     "output_type": "stream",
     "text": [
      "The power in kW is :  15.0\n",
      "The power factor of the load is :  0.3273\n"
     ]
    }
   ],
   "source": [
    "#pg 211\n",
    "#calculate the power and power factor\n",
    "#  Given data\n",
    "from math import atan,cos,sqrt\n",
    "W1 = 20.;#  in kW\n",
    "W2 = -5.;#  in kW\n",
    "#calculations\n",
    "P = W1+W2;#  in kW\n",
    "phi = (atan( sqrt(3)*((W1-W2)/(W1+W2)) ));#  in lag\n",
    "#  Power factor of the load\n",
    "pf= cos(phi)\n",
    "#results\n",
    "print \"The power in kW is : \",P\n",
    "print \"The power factor of the load is : \",round(pf,4)\n"
   ]
  },
  {
   "cell_type": "markdown",
   "metadata": {},
   "source": [
    "## Example 13: pg 211"
   ]
  },
  {
   "cell_type": "code",
   "execution_count": 13,
   "metadata": {
    "collapsed": false
   },
   "outputs": [
    {
     "name": "stdout",
     "output_type": "stream",
     "text": [
      "The reading of first wattmeter in W is :  4000.0\n",
      "The reading of second wattmeter in W is :  -3810.0\n",
      "The answer in textbook is wrong. please check using a calculator\n"
     ]
    }
   ],
   "source": [
    "#pg 211\n",
    "#calculate the readings on both meters\n",
    "#  Given data\n",
    "from math import atan,sqrt,cos,pi\n",
    "V_L = 400.;#  in V\n",
    "I_L = 10.;#  in A\n",
    "W2= 1.;#  assumed\n",
    "#calculations\n",
    "W1= 2*W2;\n",
    "phi= atan(sqrt(3)*(W1-W2)/(W1+W2))*180/pi;\n",
    "W1= V_L*I_L*cos(30-phi);#  in W\n",
    "W2= V_L*I_L*cos(30+phi);#  in W\n",
    "#results\n",
    "print \"The reading of first wattmeter in W is : \",W1\n",
    "print \"The reading of second wattmeter in W is : \",round(W2)\n",
    "print 'The answer in textbook is wrong. please check using a calculator'"
   ]
  },
  {
   "cell_type": "markdown",
   "metadata": {},
   "source": [
    "## Example 14: pg 212"
   ]
  },
  {
   "cell_type": "code",
   "execution_count": 15,
   "metadata": {
    "collapsed": false
   },
   "outputs": [
    {
     "name": "stdout",
     "output_type": "stream",
     "text": [
      "The phase current in A is 10.0\n",
      "The resistance of the coil in ohm is :  32.0\n",
      "The inductance of the coil in mH is :  76.3966\n",
      "The power drawn by each coil in W is :  3200.0\n"
     ]
    }
   ],
   "source": [
    "#pg 212\n",
    "#calculate the phase current, resistance, inductance and power\n",
    "#  Given data\n",
    "from math import acos,pi,cos,sqrt\n",
    "from cmath import phase,exp\n",
    "V_L = 400;#  in V\n",
    "f = 50;#  in Hz\n",
    "I_L = 17.32;#  in A\n",
    "#calculations\n",
    "phi = acos(0.8);\n",
    "I_Ph =I_L/sqrt(3);#  in A\n",
    "print \"The phase current in A is\",round(I_Ph)\n",
    "V_Ph=V_L;#  in V\n",
    "Z_Ph = V_Ph/I_Ph;#  in ohm\n",
    "Z_Ph= Z_Ph*exp(phi*1j);#  in ohm\n",
    "R= Z_Ph.real;#  in ohm\n",
    "XL= Z_Ph.imag;#  in ohm\n",
    "L= XL/(2*pi*f);#  in H\n",
    "L= L*10**3;#  in mH\n",
    "print \"The resistance of the coil in ohm is : \",round(R)\n",
    "print \"The inductance of the coil in mH is : \",round(L,4)\n",
    "#  The power drawn by each coil\n",
    "P_Ph= V_Ph*I_Ph*cos(phi);#  in W\n",
    "print \"The power drawn by each coil in W is : \",round(P_Ph)\n"
   ]
  },
  {
   "cell_type": "markdown",
   "metadata": {},
   "source": [
    "## Example 15: pg 212"
   ]
  },
  {
   "cell_type": "code",
   "execution_count": 16,
   "metadata": {
    "collapsed": false
   },
   "outputs": [
    {
     "name": "stdout",
     "output_type": "stream",
     "text": [
      "The reading of first wattmeter in kW is 23.8352\n",
      "The reading of second wattmeter in kW is 6.1648\n"
     ]
    }
   ],
   "source": [
    "#pg 212\n",
    "#calculate the readings of both wattmeters\n",
    "#  Given data\n",
    "from math import sqrt,acos,cos,pi\n",
    "P = 30;#  in kW\n",
    "pf = 0.7;\n",
    "#calculations\n",
    "#  cosd(phi) = pf;\n",
    "phi = acos(pf)*180/pi;#  in degree\n",
    "#  P = sqrt(3)*V_L*I_L*cosd(phi);\n",
    "theta = 30.;#  in degree\n",
    "V_LI_L = P/(sqrt(3)*cos(phi*pi/180));\n",
    "W1 = V_LI_L*cos((theta-phi)*pi/180);#  in kW\n",
    "W2 = V_LI_L*cos((theta+phi)*pi/180);#  in kW\n",
    "#results\n",
    "print \"The reading of first wattmeter in kW is\",round(W1,4)\n",
    "print \"The reading of second wattmeter in kW is\",round(W2,4)\n"
   ]
  },
  {
   "cell_type": "markdown",
   "metadata": {},
   "source": [
    "## Example 16: pg 213"
   ]
  },
  {
   "cell_type": "code",
   "execution_count": 17,
   "metadata": {
    "collapsed": false
   },
   "outputs": [
    {
     "name": "stdout",
     "output_type": "stream",
     "text": [
      "The power factor is :  0.3936  leading\n",
      "The resistance in ohm is :  1.6667\n",
      "The capacitance in muF is :  817.8438\n",
      "The load is capacitive in nature.\n"
     ]
    }
   ],
   "source": [
    "#pg 213\n",
    "#calculate the power factor,resistance, capacitance \n",
    "#  Given data\n",
    "from math import cos,pi,acos,sqrt\n",
    "from cmath import exp\n",
    "P = 18.;#  in kW\n",
    "P= P*10**3;#  in W\n",
    "I_L = 60.;#  in A\n",
    "V_L = 440.;#  in V\n",
    "f= 50.;#  in Hz\n",
    "#calculations\n",
    "#  P = sqrt(3)*V_L*I_L*cosd(phi);\n",
    "phi= acos(P/(sqrt(3)*V_L*I_L));#  in radians\n",
    "I_L= I_L*exp(phi*1j);#  in A\n",
    "I_Ph= I_L;#  in A\n",
    "V_Ph= V_L/sqrt(3);#  in V\n",
    "Z_Ph= V_Ph/I_Ph;#  in ohm\n",
    "R= Z_Ph.real;#  in ohm\n",
    "XC=abs(Z_Ph.imag);#  in ohm\n",
    "C = 1/(2*pi*f*XC);#  in F\n",
    "C=C*10**6;#  in muF\n",
    "#  Power factor\n",
    "pf= cos(phi);#  lead\n",
    "#results\n",
    "print \"The power factor is : \",round(pf,4),\" leading\"\n",
    "print \"The resistance in ohm is : \",round(R,4)\n",
    "print \"The capacitance in muF is : \",round(C,4)\n",
    "print \"The load is capacitive in nature.\"\n"
   ]
  },
  {
   "cell_type": "markdown",
   "metadata": {},
   "source": [
    "## Example 17: pg 213"
   ]
  },
  {
   "cell_type": "code",
   "execution_count": 18,
   "metadata": {
    "collapsed": false
   },
   "outputs": [
    {
     "name": "stdout",
     "output_type": "stream",
     "text": [
      "The power factor is :  0.86603\n",
      "The line current in A is 20.0\n",
      "The impedance of each phase in ohm is :  (10+5.7735026919j)\n",
      "The resistance of each phase in ohm is :  10.0\n",
      "The inductance of each phase in H is :  0.01838\n"
     ]
    }
   ],
   "source": [
    "#pg 213\n",
    "#calculate the power factor, line current, impedance, resistance and inductance\n",
    "#  Given data\n",
    "from math import cos,pi,acos,sqrt,atan\n",
    "from cmath import exp\n",
    "V_L = 400.;#  in V\n",
    "f = 50.;#  in Hz\n",
    "W1 = 8000.;#  in W\n",
    "W2 = 4000.;#  in W\n",
    "#calculations\n",
    "W = W1+W2;#  in W\n",
    "phi =(atan( sqrt(3)*((W1-W2)/(W1+W2)) ));#  in lag\n",
    "P = W;#  in W\n",
    "# P = sqrt(3)*V_L*I_L*cosd(phi);\n",
    "I_L = P/(sqrt(3)*V_L*cos(phi));#  in A\n",
    "V_Ph = V_L/sqrt(3);#  in V\n",
    "I_Ph = I_L;#  in A\n",
    "Z_Ph = V_Ph/I_Ph;#  in  ohm\n",
    "Z_Ph= Z_Ph*exp(phi*1j);#  ohm\n",
    "R_Ph= Z_Ph.real;#  in ohm\n",
    "XL_Ph= Z_Ph.imag;#  in ohm\n",
    "L_Ph= XL_Ph/(2*pi*f);#  in H\n",
    "#  power factor\n",
    "pf= cos(phi);\n",
    "#results\n",
    "print \"The power factor is : \",round(pf,5)\n",
    "print \"The line current in A is\",I_L\n",
    "print \"The impedance of each phase in ohm is : \",Z_Ph\n",
    "print \"The resistance of each phase in ohm is : \",R_Ph\n",
    "print \"The inductance of each phase in H is : \",round(L_Ph,5)\n"
   ]
  }
 ],
 "metadata": {
  "kernelspec": {
   "display_name": "Python 2",
   "language": "python",
   "name": "python2"
  },
  "language_info": {
   "codemirror_mode": {
    "name": "ipython",
    "version": 2
   },
   "file_extension": ".py",
   "mimetype": "text/x-python",
   "name": "python",
   "nbconvert_exporter": "python",
   "pygments_lexer": "ipython2",
   "version": "2.7.11"
  }
 },
 "nbformat": 4,
 "nbformat_minor": 0
}
