{
 "cells": [
  {
   "cell_type": "markdown",
   "metadata": {},
   "source": [
    "# Chapter 2: Network Theorems"
   ]
  },
  {
   "cell_type": "markdown",
   "metadata": {},
   "source": [
    "## Example 1: pg 48"
   ]
  },
  {
   "cell_type": "code",
   "execution_count": 1,
   "metadata": {
    "collapsed": false
   },
   "outputs": [
    {
     "name": "stdout",
     "output_type": "stream",
     "text": [
      "The current in A is 2.0\n"
     ]
    }
   ],
   "source": [
    "#pg 48\n",
    "#calculate the current\n",
    "# Given data\n",
    "R1 = 6.;# in ohm\n",
    "R2 = 6.;# in ohm\n",
    "R3 = 6.;# in ohm\n",
    "V = 24.;# in V\n",
    "#calculations\n",
    "R_T =R1+R1*R2/(R1+R2);# in ohm\n",
    "I_T = V/R_T;# in A\n",
    "I1 = (R1/(R1+R2))*I_T;# in A\n",
    "V = 12;# in V\n",
    "I_T = V/R_T;# in A\n",
    "I2 = (R1/(R1+R2))*I_T;# in A\n",
    "I = I1+I2;# in A\n",
    "#results\n",
    "print \"The current in A is\",I\n"
   ]
  },
  {
   "cell_type": "markdown",
   "metadata": {},
   "source": [
    "## Example 2: pg 51"
   ]
  },
  {
   "cell_type": "code",
   "execution_count": 2,
   "metadata": {
    "collapsed": false
   },
   "outputs": [
    {
     "name": "stdout",
     "output_type": "stream",
     "text": [
      "The current through 12 ohm resistor in A is 0.59\n"
     ]
    }
   ],
   "source": [
    "#pg 51\n",
    "#calculate the current\n",
    "# Given data\n",
    "R1 = 5.;# in ohm\n",
    "Vth= 10.;# in ohm\n",
    "R2 = 7.;# in ohm\n",
    "R3=10.;# in ohm\n",
    "R_L = 12.;# in ohm\n",
    "V = 20.;# in ohm\n",
    "#calculations\n",
    "Vth = (Vth*V)/(R1+R3);# in V\n",
    "Rth = R2 + ((Vth*R1)/(Vth+R1));# in ohm\n",
    "# The current through 12 ohm resistor \n",
    "I = Vth/(Rth+R_L);# in A\n",
    "#results\n",
    "print \"The current through 12 ohm resistor in A is\",round(I,2)\n"
   ]
  },
  {
   "cell_type": "markdown",
   "metadata": {},
   "source": [
    "## Example 3: pg 54"
   ]
  },
  {
   "cell_type": "code",
   "execution_count": 3,
   "metadata": {
    "collapsed": false
   },
   "outputs": [
    {
     "name": "stdout",
     "output_type": "stream",
     "text": [
      "The current through 12 ohm resistor in A is 0.561\n"
     ]
    }
   ],
   "source": [
    "#pg 54\n",
    "#calculate the current\n",
    "# Given data\n",
    "R1 = 6.;# in ohm\n",
    "R2 = 7.;# in ohm\n",
    "R3 = 4.;# in ohm\n",
    "R_L = 12.;# in ohm\n",
    "V = 30.;# in V\n",
    "#calculations\n",
    "Vth = (R3*V)/(R3+R1);# in V\n",
    "Rth = R2 + ((R3*R1)/(R3+R1)) ;# in ohm\n",
    "I_N = Vth/Rth;# in A\n",
    "#The current through 12 ohm resistor \n",
    "I = (I_N*Rth)/(Rth+R_L);# in ohm\n",
    "#results\n",
    "print \"The current through 12 ohm resistor in A is\",round(I,3)\n"
   ]
  },
  {
   "cell_type": "markdown",
   "metadata": {},
   "source": [
    "## Example 4: pg 54"
   ]
  },
  {
   "cell_type": "code",
   "execution_count": 4,
   "metadata": {
    "collapsed": false
   },
   "outputs": [
    {
     "name": "stdout",
     "output_type": "stream",
     "text": [
      "The value of load resistance in ohm is 10.33\n",
      "The magnitude of maximum power in W is 4.3\n"
     ]
    }
   ],
   "source": [
    "#pg 57\n",
    "#calculate the resistance and max power\n",
    "# Given data\n",
    "R1 = 5.;# in ohm\n",
    "R2 = 10.;# in ohm\n",
    "R3 = 7.;# in ohm\n",
    "V = 20.;# in V\n",
    "#calculations\n",
    "Vth = R2*V/(R1+R2);# in V\n",
    "Rth = R3 + ((R2*R1)/(R2+R1));# in ohm\n",
    "R_L = Rth;# in ohm\n",
    "Pmax = (Vth**2)/(4*R_L);# in W\n",
    "#results\n",
    "print \"The value of load resistance in ohm is\",round(R_L,2)\n",
    "print \"The magnitude of maximum power in W is\",round(Pmax,1)\n"
   ]
  },
  {
   "cell_type": "markdown",
   "metadata": {},
   "source": [
    "## Example 5: pg 59"
   ]
  },
  {
   "cell_type": "code",
   "execution_count": 5,
   "metadata": {
    "collapsed": false
   },
   "outputs": [
    {
     "name": "stdout",
     "output_type": "stream",
     "text": [
      "The current across 4 ohm resistor in A is 1.53\n"
     ]
    }
   ],
   "source": [
    "#pg 59\n",
    "#calculate the current\n",
    "# Given data\n",
    "V1 = 12.;# in V\n",
    "V2 = 10.;# in V\n",
    "R1 = 6.;# in ohm\n",
    "R2 = 7.;# in ohm\n",
    "R3 = 4.;# in ohm\n",
    "#calculations\n",
    "R_T = R1 + ( (R2*R3)/(R2+R3) );# in ohm\n",
    "I_T = V1/R_T;# in A\n",
    "I1 = (R2/(R2+R3))*I_T;# in A\n",
    "R_T = R2 + ( (R1*R3)/(R1+R3) );# in ohm\n",
    "I_T = V2/R_T;# in A\n",
    "I2 = (R1*I_T)/(R1+R3);# in A\n",
    "# current across 4 ohm resistor \n",
    "I = I1+I2;# in A\n",
    "#results\n",
    "print \"The current across 4 ohm resistor in A is\",round(I,2)\n"
   ]
  },
  {
   "cell_type": "markdown",
   "metadata": {},
   "source": [
    "## Example 6: pg 60"
   ]
  },
  {
   "cell_type": "code",
   "execution_count": 6,
   "metadata": {
    "collapsed": false
   },
   "outputs": [
    {
     "name": "stdout",
     "output_type": "stream",
     "text": [
      "The current in the branch AB of the circuit in A is 0.1\n"
     ]
    }
   ],
   "source": [
    "#pg 60\n",
    "#calculate the current\n",
    "# Given data\n",
    "R1 = 2.;# in ohm\n",
    "R2 = 3.;# in ohm\n",
    "R3 = 1.;# in ohm\n",
    "R4= 2.;# in ohm\n",
    "V1 = 4.2;# in V\n",
    "V2 = 3.5;# in V\n",
    "#calculations\n",
    "R_T =R1+R3+R2*R4/(R2+R4);# in ohm\n",
    "I_T = V1/R_T;# in A\n",
    "I1 = (R1/(R1+R2))*I_T;# in A\n",
    "R = R1+R3;# in ohm\n",
    "R_desh = (R*R2)/(R+R2);# in ohm\n",
    "R_T = R_desh+R1;# in ohm\n",
    "I_T = V2/R_T;# in A\n",
    "I2 = (R2/(R2+R))*I_T;# in A\n",
    "# current in the branch AB \n",
    "I = I2-I1;# in A\n",
    "#results\n",
    "print \"The current in the branch AB of the circuit in A is\",I\n"
   ]
  },
  {
   "cell_type": "markdown",
   "metadata": {},
   "source": [
    "## Example 7: pg 62"
   ]
  },
  {
   "cell_type": "code",
   "execution_count": 7,
   "metadata": {
    "collapsed": false
   },
   "outputs": [
    {
     "name": "stdout",
     "output_type": "stream",
     "text": [
      "The current through in 8 ohm resistor in A is 1.6\n"
     ]
    }
   ],
   "source": [
    "#pg 62\n",
    "#calculate the current\n",
    "# Given data\n",
    "R1 = 2.;# in ohm\n",
    "R2 = 4.;# in ohm\n",
    "R3 = 8.;# in ohm\n",
    "Ig = 2.;# in A\n",
    "V = 20.;# in V\n",
    "#calculations\n",
    "R_T = R1+R3;# in ohm\n",
    "I1 = V/R_T;# in A\n",
    "I2 = (R1/(R1+R3))*Ig;# in A\n",
    "# current through in 8 ohm resistor \n",
    "I = I1-I2;# in A\n",
    "#results\n",
    "print \"The current through in 8 ohm resistor in A is\",I\n"
   ]
  },
  {
   "cell_type": "markdown",
   "metadata": {},
   "source": [
    "## Example 8: pg 63"
   ]
  },
  {
   "cell_type": "code",
   "execution_count": 8,
   "metadata": {
    "collapsed": false
   },
   "outputs": [
    {
     "name": "stdout",
     "output_type": "stream",
     "text": [
      "The current through 16 ohm resistor in A is 1.1029\n"
     ]
    }
   ],
   "source": [
    "#pg 63\n",
    "#calculate the current\n",
    "# Given data\n",
    "R1 = 4.;# in ohm\n",
    "R2 = 24.;# in ohm\n",
    "R_L = 16.;# in ohm\n",
    "V1 = 20.;# in V\n",
    "V2 = 30.;# in V\n",
    "#calculations\n",
    "# V1-R1*I-R2*I-V2 = 0;\n",
    "I= (V1-V2)/(R1+R2)\n",
    "# V1-R1*I-Vth = 0;\n",
    "Vth = V1-R1*I;# in V\n",
    "Rth = (R1*R2)/(R1+R2);# in ohm\n",
    "# current through 16 ohm resistor \n",
    "I_L = Vth/(Rth+R_L);# in A\n",
    "#results\n",
    "print \"The current through 16 ohm resistor in A is\",round(I_L,4)\n"
   ]
  },
  {
   "cell_type": "markdown",
   "metadata": {},
   "source": [
    "## Example 9: pg 64"
   ]
  },
  {
   "cell_type": "code",
   "execution_count": 9,
   "metadata": {
    "collapsed": false
   },
   "outputs": [
    {
     "name": "stdout",
     "output_type": "stream",
     "text": [
      "The current through 6 ohm resistance in A is 1.0\n"
     ]
    }
   ],
   "source": [
    "#pg 64\n",
    "#calculate the current\n",
    "# Given data\n",
    "R1 = 6.;# in ohm\n",
    "R2 = 4.;# in ohm\n",
    "R3 = 3.;# in ohm\n",
    "R_L = 6.;# in ohm\n",
    "V1 = 6.;# in V\n",
    "V2 = 15.;# in V\n",
    "#calculations\n",
    "# V1 - R1*I - R3*I -V2 = 0\n",
    "I= (V1-V2)/(R1+R3);\n",
    "# Vth - R3*I -V2 = 0;\n",
    "Vth =V2+R3*I;# in V\n",
    "Rth = ((R1*R3)/(R1+R3)) + R2;# in ohm\n",
    "# current through 6 ohm resistance \n",
    "I_L = Vth/(Rth+R_L);# in A\n",
    "#results\n",
    "print \"The current through 6 ohm resistance in A is\",I_L\n"
   ]
  },
  {
   "cell_type": "markdown",
   "metadata": {},
   "source": [
    "## Example 10: pg 65"
   ]
  },
  {
   "cell_type": "code",
   "execution_count": 10,
   "metadata": {
    "collapsed": false
   },
   "outputs": [
    {
     "name": "stdout",
     "output_type": "stream",
     "text": [
      "The current through 10 ohm resistance in A is 0.3235\n"
     ]
    }
   ],
   "source": [
    "#pg 65\n",
    "#calculate the current\n",
    "# Given data\n",
    "R1 = 8.;# in ohm\n",
    "R2 = 5.;# in ohm\n",
    "R3 = 2.;# in ohm\n",
    "R_L = 10.;# in ohm\n",
    "V1= 20.;# in V\n",
    "V2= 12.;# in V\n",
    "#calculations\n",
    "# V1-R3*I - R2*I = 0;\n",
    "I = V1/(R2+R3);# in A\n",
    "# Vth + V2 - R3*I = 0;\n",
    "Vth = R3*I - V2;# in V\n",
    "Rth = ((R2*R3)/(R2+R3)) + R1;# in ohm\n",
    "# current through 10 ohm resistance \n",
    "I_L = abs(Vth)/(Rth+R_L);# in A\n",
    "#results\n",
    "print \"The current through 10 ohm resistance in A is\",round(I_L,4)"
   ]
  },
  {
   "cell_type": "markdown",
   "metadata": {},
   "source": [
    "## Example 11: pg 66"
   ]
  },
  {
   "cell_type": "code",
   "execution_count": 11,
   "metadata": {
    "collapsed": false
   },
   "outputs": [
    {
     "name": "stdout",
     "output_type": "stream",
     "text": [
      "The current in 5 ohm resistance in A is 1.4\n"
     ]
    }
   ],
   "source": [
    "#pg 66\n",
    "#calculate the current\n",
    "# Given data\n",
    "R1 = 4.;# in ohm\n",
    "R2 = 3.;# in ohm\n",
    "R3 = 2.;# in ohm\n",
    "R_L = 5.;# in ohm\n",
    "I = 6.;# in A\n",
    "V = 15.;# in V\n",
    "#calculations\n",
    "# V-R1*I1-R3*(I1+I) = 0;\n",
    "I1 = (V-R3*I)/(R1+R3);# in A\n",
    "I = I1 + I;# in A\n",
    "Vth = R3*I;# in V\n",
    "Rth = ((R1*R3)/(R1+R3)) + R2;# in ohm\n",
    "# current in 5 ohm resistance \n",
    "I_L = Vth/(Rth+R_L);# in A\n",
    "#results\n",
    "print \"The current in 5 ohm resistance in A is\",round(I_L,1)\n"
   ]
  },
  {
   "cell_type": "markdown",
   "metadata": {},
   "source": [
    "## Example 12: pg 68"
   ]
  },
  {
   "cell_type": "code",
   "execution_count": 12,
   "metadata": {
    "collapsed": false
   },
   "outputs": [
    {
     "name": "stdout",
     "output_type": "stream",
     "text": [
      "The value of Vth in volts is :  356.0\n",
      "The value of Rth in ohm is :  40.0\n"
     ]
    }
   ],
   "source": [
    "#pg 68\n",
    "#calculate the value of voltage and resistance\n",
    "# Given data\n",
    "R1 = 8.;# in ohm\n",
    "R2 = 32.;# in ohm\n",
    "V = 60.;# in V\n",
    "I1= 5.;# in A\n",
    "I2= 3.;# in A\n",
    "#calculations\n",
    "# Vth-R1*I1-(I1+I2)*R2-V=0\n",
    "Vth= R1*I1+(I1+I2)*R2+V\n",
    "Rth = R1+R2;# in ohm\n",
    "#results\n",
    "print \"The value of Vth in volts is : \",Vth\n",
    "print \"The value of Rth in ohm is : \",Rth\n"
   ]
  },
  {
   "cell_type": "markdown",
   "metadata": {},
   "source": [
    "## Example 13: pg 69"
   ]
  },
  {
   "cell_type": "code",
   "execution_count": 13,
   "metadata": {
    "collapsed": false
   },
   "outputs": [
    {
     "name": "stdout",
     "output_type": "stream",
     "text": [
      "The current through 6 ohm resistor in A is 1.0\n"
     ]
    }
   ],
   "source": [
    "#pg 69\n",
    "#calculate the current\n",
    "# Given data\n",
    "R1 = 6.;# in ohm\n",
    "R2 = 4.;# in ohm\n",
    "R3 = 3.;# in ohm\n",
    "R_L = 6.;# in ohm\n",
    "V1 = 6.;# in V\n",
    "V2= 15.;# in V\n",
    "#calculations\n",
    "# V1 - R1*I - R3*I -V2 = 0;\n",
    "I= (V1-V2)/(R1+R3)\n",
    "Vth = V2 + (R3*I);# in V\n",
    "Rth = ((R1*R3)/(R1+R3)) + R2;# in ohm\n",
    "I_N = Vth/Rth;# in A\n",
    "# current through 6 ohm resistor \n",
    "I = (I_N*Rth)/(Rth+R_L);# in A\n",
    "#results\n",
    "print \"The current through 6 ohm resistor in A is\",I\n"
   ]
  },
  {
   "cell_type": "markdown",
   "metadata": {},
   "source": [
    "## Example 14: pg 70"
   ]
  },
  {
   "cell_type": "code",
   "execution_count": 14,
   "metadata": {
    "collapsed": false
   },
   "outputs": [
    {
     "name": "stdout",
     "output_type": "stream",
     "text": [
      "The current through 10 ohm resistace in A is 0.3235\n"
     ]
    }
   ],
   "source": [
    "#pg 70\n",
    "#calculate the current\n",
    "# Given data\n",
    "R1 = 5.;# in ohm\n",
    "R2 = 2.;# in ohm\n",
    "R3 = 8.;# in ohm\n",
    "V1 = 20.;# in V\n",
    "V2 = 12.;# in V\n",
    "#calculations\n",
    "# V1-R2*I-R1*I = 0;\n",
    "I = V1/(R1+R2);# in A\n",
    "# Vth + V2 - R2*I = 0;\n",
    "Vth = (R2*I) - V2;# in V\n",
    "Rth = ((R1*R2)/(R1+R2)) + R3;# in ohm\n",
    "I_N = Vth/Rth;# in A\n",
    "R_L = 10;# in ohm\n",
    "# current through 10 ohm resistace \n",
    "I = (abs(I_N)*Rth)/(Rth+R_L);# in A\n",
    "#results\n",
    "print \"The current through 10 ohm resistace in A is\",round(I,4)\n"
   ]
  },
  {
   "cell_type": "markdown",
   "metadata": {},
   "source": [
    "## Example 15: pg 71"
   ]
  },
  {
   "cell_type": "code",
   "execution_count": 15,
   "metadata": {
    "collapsed": false
   },
   "outputs": [
    {
     "name": "stdout",
     "output_type": "stream",
     "text": [
      "The current through 5 ohm resistor in A is 1.393\n"
     ]
    }
   ],
   "source": [
    "#pg 71\n",
    "#calculate the current\n",
    "# Given data\n",
    "V = 15.;# in V\n",
    "R1 = 4.;# in  ohm\n",
    "R2 = 3.;# in ohm\n",
    "R3 = 2.;# in ohm\n",
    "R_L = 5.;# in ohm\n",
    "Ig = 6.;# in A\n",
    "#calculations\n",
    "# V - R1*I1 - R3*(I1+Ig) = 0;\n",
    "I1 = (V-R3*Ig)/(R1+R3);# in A\n",
    "I = I1 + Ig;# in A\n",
    "Vth = R3*I;# in V\n",
    "Rth = ((R1*R3)/(R1+R3)) + R2;# in ohm\n",
    "I_N = Vth/Rth;# in A\n",
    "# current through 5 ohm resistor \n",
    "I = (I_N*Rth)/(Rth+R_L);# in A\n",
    "#results\n",
    "print \"The current through 5 ohm resistor in A is\",round(I,3)\n"
   ]
  },
  {
   "cell_type": "markdown",
   "metadata": {},
   "source": [
    "## Example 16: pg 72"
   ]
  },
  {
   "cell_type": "code",
   "execution_count": 16,
   "metadata": {
    "collapsed": false
   },
   "outputs": [
    {
     "name": "stdout",
     "output_type": "stream",
     "text": [
      "The value of R in ohm is 1.29\n"
     ]
    }
   ],
   "source": [
    "#pg 72\n",
    "#calculate the resistance\n",
    "# Given data\n",
    "V = 6.;# in V\n",
    "R1 = 2.;# in ohm\n",
    "R2 = 1.;# in ohm\n",
    "R3 = 3.;#in ohm\n",
    "R4 = 2.;# in ohm\n",
    "#calculations\n",
    "Rth=(R1*R2/(R1+R2)+R3)*R4/((R1*R2/(R1+R2)+R3)+R4)\n",
    "R_L = Rth;# in ohm\n",
    "#results\n",
    "print \"The value of R in ohm is\",round(R_L,2)\n"
   ]
  },
  {
   "cell_type": "markdown",
   "metadata": {},
   "source": [
    "## Example 17: pg 73"
   ]
  },
  {
   "cell_type": "code",
   "execution_count": 17,
   "metadata": {
    "collapsed": false
   },
   "outputs": [
    {
     "name": "stdout",
     "output_type": "stream",
     "text": [
      "The value of load resistance in ohm is 9.0\n",
      "The power delivered to the load in W is 2.778\n"
     ]
    }
   ],
   "source": [
    "#pg 73\n",
    "#calculate the power and load resistance\n",
    "# Given data\n",
    "R1 = 10.;# in ohm\n",
    "R2 = 10.;# in ohm\n",
    "R3 = 4.;# in ohm\n",
    "V = 20.;# in V\n",
    "#calculations\n",
    "# V - R1*I1 - R2*I1 = 0;\n",
    "I1 = V/(R1+R2);# in A\n",
    "Vth = R1*I1;# in V\n",
    "Rth =R1*R2/(R1+R2)+R3\n",
    "R_L = Rth;# in ohm\n",
    "Pmax = (Vth**2)/(4*Rth);# in W\n",
    "#results\n",
    "print \"The value of load resistance in ohm is\",R_L\n",
    "print \"The power delivered to the load in W is\",round(Pmax,3)\n"
   ]
  },
  {
   "cell_type": "markdown",
   "metadata": {},
   "source": [
    "## Example 18: pg 74"
   ]
  },
  {
   "cell_type": "code",
   "execution_count": 18,
   "metadata": {
    "collapsed": false
   },
   "outputs": [
    {
     "name": "stdout",
     "output_type": "stream",
     "text": [
      "The current through 6 ohm resistor in A is 9.09\n"
     ]
    }
   ],
   "source": [
    "#pg 74\n",
    "#calculate the current\n",
    "# Given data\n",
    "R1 = 3.;# in ohm\n",
    "R2 = 9.;# in ohm\n",
    "R3 = 6.;# in ohm\n",
    "V1 = 120.;# in V\n",
    "V2 = 60.;# in V\n",
    "#calculations\n",
    "R = (R3*R2)/(R3+R2);# in ohm\n",
    "R_T = R+R1;# in ohm\n",
    "I_T = V1/R_T;# in A\n",
    "I1 = (R2/(R2+R3)) * I_T;# in A\n",
    "R_T = 2 + R2;# in  ohm\n",
    "I_T = V2/R_T;# in A\n",
    "I2 = (R1/(R1+R3)) * I_T;# in A\n",
    "# current through 6 ohm resistor \n",
    "I = I1-I2;# in A\n",
    "#results\n",
    "print \"The current through 6 ohm resistor in A is\",round(I,2)\n"
   ]
  },
  {
   "cell_type": "markdown",
   "metadata": {},
   "source": [
    "## Example 19: pg 75"
   ]
  },
  {
   "cell_type": "code",
   "execution_count": 19,
   "metadata": {
    "collapsed": false
   },
   "outputs": [
    {
     "name": "stdout",
     "output_type": "stream",
     "text": [
      "The current in 8 ohm resistor in A is 5.03\n"
     ]
    }
   ],
   "source": [
    "#pg 75\n",
    "#calculate the current\n",
    "# Given data\n",
    "R1 = 36.;# in ohm\n",
    "R2 = 12.;# in ohm\n",
    "R3 = 8.;# in ohm\n",
    "V1 = 90.;# in V\n",
    "V2 = 60.;# in V\n",
    "#calculations\n",
    "R_T = (R2*R3)/(R2+R3)+R1;# in ohm\n",
    "I_T = V1/R_T;# in A\n",
    "I1 = (R2/(R2+R3)) * I_T;# in A\n",
    "R = (R1*R3)/(R1+R3);# in ohm\n",
    "R_T = R2+R;# in ohm\n",
    "I_T = V2/R_T;# in A \n",
    "I2 = (R1/(R1+R3))*I_T;# in A\n",
    "Ra = (R1*R2)/(R1+R2);# in ohm asumed\n",
    "I_T = 2;# in A\n",
    "I3 = (Ra/(Ra+R3))*I_T;# in A\n",
    "# current in 8 ohm resistor \n",
    "I = I1+I2+I3;# in A\n",
    "#results\n",
    "print \"The current in 8 ohm resistor in A is\",round(I,2)\n"
   ]
  },
  {
   "cell_type": "markdown",
   "metadata": {},
   "source": [
    "## Example 20: pg 77"
   ]
  },
  {
   "cell_type": "code",
   "execution_count": 20,
   "metadata": {
    "collapsed": false
   },
   "outputs": [
    {
     "name": "stdout",
     "output_type": "stream",
     "text": [
      "The Thevenins voltage in V is 45.0\n",
      "The Thevenins resistance in ohm is 12.5\n"
     ]
    }
   ],
   "source": [
    "#pg 77\n",
    "#calculate the thevenins voltage\n",
    "# Given data\n",
    "R1 = 5.;# in ohm\n",
    "R2 = 10.;# in ohm\n",
    "R3 = 5.;# in ohm\n",
    "V1 = 60.;# in v\n",
    "V2 = 30.;# in V\n",
    "#calculations\n",
    "#-R1*i1 - R3*i1 - V2+V1 = 0;\n",
    "i1 = (V2-V1)/(R1+R3);# in A\n",
    "V_acrossR3 = R3*i1;# in V\n",
    "Vth = V_acrossR3+V1;# in V\n",
    "V_AB =Vth;# in V\n",
    "R = (R1*R3)/(R1+R3);# in ohm\n",
    "Rth = R2+R;# in ohm\n",
    "#results\n",
    "print \"The Thevenins voltage in V is\",V_AB\n",
    "print \"The Thevenins resistance in ohm is\",Rth\n"
   ]
  },
  {
   "cell_type": "markdown",
   "metadata": {},
   "source": [
    "## Example 21: pg 78"
   ]
  },
  {
   "cell_type": "code",
   "execution_count": 21,
   "metadata": {
    "collapsed": false
   },
   "outputs": [
    {
     "name": "stdout",
     "output_type": "stream",
     "text": [
      "The current flowing through 5 ohm resistor in A is 0.321\n"
     ]
    }
   ],
   "source": [
    "#pg 78\n",
    "#calculate the current\n",
    "# Given data\n",
    "R1 = 4.;# in ohm\n",
    "R2 = 3.;# in  ohm\n",
    "R3 = 2.;# in ohm\n",
    "R_L = 5.;# in ohm\n",
    "V = 15.;# in V\n",
    "I2 = 6.;# in A\n",
    "#calculations\n",
    "# -R1*I1 - R3*I1 + R3*I2 + V = 0;\n",
    "I1 = (V+R3*I2)/(R1+R3);# in A\n",
    "Vth = I2/R3;# in V\n",
    "V_CD = Vth;# in V\n",
    "Rth = (R1*R3)/(R1+R3)+R2;# in ohm\n",
    "I = Vth/(Rth+R_L);# in A\n",
    "#results\n",
    "print \"The current flowing through 5 ohm resistor in A is\",round(I,3)\n"
   ]
  },
  {
   "cell_type": "markdown",
   "metadata": {},
   "source": [
    "## Example 22: pg 80"
   ]
  },
  {
   "cell_type": "code",
   "execution_count": 23,
   "metadata": {
    "collapsed": false
   },
   "outputs": [
    {
     "name": "stdout",
     "output_type": "stream",
     "text": [
      "The value of Rth in ohm is 9.0\n",
      "The value of I_N in A is 0.667\n"
     ]
    }
   ],
   "source": [
    "#pg 80\n",
    "#calculate the resistance and current\n",
    "# Given data\n",
    "R1 = 20.;# in ohm\n",
    "R2 = 5.;# in ohm\n",
    "R3 = 3.;# in ohm\n",
    "R4 = 2.;# in ohm\n",
    "V = 30.;# in V\n",
    "I1=4.;# in A\n",
    "#calculations\n",
    "V1= I1*R3;# in V\n",
    "# R1*I -R2*I+V = 0;\n",
    "I = V/(R1+R2);# in A\n",
    "V_acrossR2= R2*I;# in V\n",
    "V_AB = V_acrossR2-V1;# in V\n",
    "Vth = abs(V_AB);# in V\n",
    "Rth = (R1*R2)/(R1+R2)+R3+R4;# in ohm\n",
    "I_N = Vth/Rth;# in A\n",
    "#results\n",
    "print \"The value of Rth in ohm is\",Rth\n",
    "print \"The value of I_N in A is\",round(I_N,3)\n"
   ]
  },
  {
   "cell_type": "markdown",
   "metadata": {},
   "source": [
    "## Example 23: pg 81"
   ]
  },
  {
   "cell_type": "code",
   "execution_count": 24,
   "metadata": {
    "collapsed": false
   },
   "outputs": [
    {
     "name": "stdout",
     "output_type": "stream",
     "text": [
      "The value of Vth in volts is :  72.0\n",
      "The value of Rth in ohm is :  7.0\n"
     ]
    }
   ],
   "source": [
    "#pg 81\n",
    "#calculate the resistance and voltage\n",
    "# Given data\n",
    "R1 = 2.;# in ohm\n",
    "R2 = 4.;# in ohm\n",
    "R3 = 6.;# in ohm\n",
    "R4 = 4.;# in ohm\n",
    "V = 16.;# in v\n",
    "I1= 8.;# in A\n",
    "I2= 16;# in A\n",
    "#calculations\n",
    "V1= I1*R2;# in V\n",
    "V2= I2*R3;# in V\n",
    "# Applying KVL : R2*I+V1+R3*I-V2+V+R1*I\n",
    "I= (V2-V1-V)/(R1+R2+R3);# in A\n",
    "Vth= V2-R3*I;# in V\n",
    "Rth= (R1+R2)*R3/((R1+R2)+R3)+R4;# in ohm\n",
    "#results\n",
    "print \"The value of Vth in volts is : \",Vth\n",
    "print \"The value of Rth in ohm is : \",Rth\n"
   ]
  },
  {
   "cell_type": "markdown",
   "metadata": {},
   "source": [
    "## Example 24: pg 82"
   ]
  },
  {
   "cell_type": "code",
   "execution_count": 25,
   "metadata": {
    "collapsed": false
   },
   "outputs": [
    {
     "name": "stdout",
     "output_type": "stream",
     "text": [
      "The value of load resistance in ohm is 2.43\n"
     ]
    }
   ],
   "source": [
    "#pg 82\n",
    "#calculate the load resistance\n",
    "# Given data\n",
    "R1 = 3.;# in ohm\n",
    "R2 = 2.;# in ohm\n",
    "R3 = 1.;# in ohm\n",
    "R4 = 8.;# in ohm\n",
    "R5 = 2.;# in ohm\n",
    "V = 10.;# in V\n",
    "#calculations\n",
    "R = ((R1+R2)*R5)/((R1+R2)+R5);# in ohm\n",
    "Rth = R + R3;# in ohm\n",
    "R_L = Rth;# in ohm\n",
    "#results\n",
    "print \"The value of load resistance in ohm is\",round(R_L,2)\n"
   ]
  },
  {
   "cell_type": "markdown",
   "metadata": {},
   "source": [
    "## Example 25: pg 84"
   ]
  },
  {
   "cell_type": "code",
   "execution_count": 26,
   "metadata": {
    "collapsed": false
   },
   "outputs": [
    {
     "name": "stdout",
     "output_type": "stream",
     "text": [
      "The value of R_L in ohm is 25.0\n",
      "The value of maximum power in W is 1806.25\n"
     ]
    }
   ],
   "source": [
    "#pg 84\n",
    "#calculate the resistance and max power\n",
    "# Given data\n",
    "V = 250.;# in V\n",
    "R1 = 10.;# in ohm\n",
    "R2 = 10.;# in ohm\n",
    "R3 = 10.;# in ohm\n",
    "R4 = 10.;# in ohm\n",
    "I2 = 20.;# in A.\n",
    "#calculations\n",
    "#Applying KVL in GEFHG :  -R1*I1-R2*I1-R2*I2 + V = 0;\n",
    "I1= (V-R2*I2)/(R1+R2);# in A\n",
    "V_AB= R3*I2+V-R1*I1;# in V\n",
    "Vth = V_AB;# in V\n",
    "Rth = (R1*R2)/(R1+R2)+R3+R4;# in ohm\n",
    "R_L = Rth;# in ohm\n",
    "Pmax = (Vth**2)/(4*R_L);#maximum power  in W\n",
    "#results\n",
    "print \"The value of R_L in ohm is\",R_L\n",
    "print \"The value of maximum power in W is\",Pmax\n"
   ]
  },
  {
   "cell_type": "markdown",
   "metadata": {},
   "source": [
    "## Example 26: pg 85"
   ]
  },
  {
   "cell_type": "code",
   "execution_count": 27,
   "metadata": {
    "collapsed": false
   },
   "outputs": [
    {
     "name": "stdout",
     "output_type": "stream",
     "text": [
      "The current in A is 1.5\n",
      "Note: At last, there is calculation error to find the value of I, so the answer in the book is wrong.\n"
     ]
    }
   ],
   "source": [
    "#pg 85\n",
    "#calculate the current\n",
    "# Given data\n",
    "R1 = 2.;# in ohm\n",
    "R2 = 4.;# in ohm\n",
    "R_L = 4.;# in ohm\n",
    "V1 = 6.;# in v\n",
    "V2 = 12.;# in V\n",
    "#calculations\n",
    "# -R2*Ix -R1*Ix-V1+V2= 0;\n",
    "Ix = (V2-V1)/(R1+R2);# in A\n",
    "Vth = V1+R1*Ix;# in V\n",
    "Rth = (R1*R2)/(R1+R2);# in ohm\n",
    "I_N = Vth/Rth;# in A\n",
    "I = (I_N*Rth)/(Rth+R_L);# in A\n",
    "#results\n",
    "print \"The current in A is\",I\n",
    "\n",
    "print 'Note: At last, there is calculation error to find the value of I, so the answer in the book is wrong.'\n"
   ]
  },
  {
   "cell_type": "markdown",
   "metadata": {},
   "source": [
    "## Example 27: pg 86"
   ]
  },
  {
   "cell_type": "code",
   "execution_count": 28,
   "metadata": {
    "collapsed": false
   },
   "outputs": [
    {
     "name": "stdout",
     "output_type": "stream",
     "text": [
      "The current in 4 ohm resistor in A is :  4.0\n"
     ]
    }
   ],
   "source": [
    "#pg 86\n",
    "#calculate the current\n",
    "# Given data\n",
    "import numpy\n",
    "R1 = 3.;# in ohm\n",
    "R2 = 6.;# in ohm\n",
    "R_L = 4.;# in ohm\n",
    "V = 27.;# in V\n",
    "I=3.;# in A\n",
    "#calculations\n",
    "# -I1+I2= I     (i)\n",
    "# Applying KVL: I1*R1+I2*R2=V  (ii)\n",
    "A= ([[-1, R1], [1, R2]]);\n",
    "B= ([I, V])\n",
    "I= numpy.dot(B,numpy.linalg.inv(A));# Solving eq(i) and (2) by Matrix method\n",
    "I1= I[0];# in A\n",
    "I2= I[1];# in A\n",
    "Vth= R2*I2;# in V\n",
    "Rth= R1*R2/(R1+R2);# in ohm\n",
    "# current in 4 ohm resistor \n",
    "I= Vth/(Rth+R_L);# in A\n",
    "#results\n",
    "print \"The current in 4 ohm resistor in A is : \",I\n"
   ]
  },
  {
   "cell_type": "markdown",
   "metadata": {},
   "source": [
    "## Example 28: pg 88"
   ]
  },
  {
   "cell_type": "code",
   "execution_count": 29,
   "metadata": {
    "collapsed": false
   },
   "outputs": [
    {
     "name": "stdout",
     "output_type": "stream",
     "text": [
      "The current in 20 ohm resistor in A is 2.274\n"
     ]
    }
   ],
   "source": [
    "#pg 88\n",
    "#calculate the current\n",
    "# Given data\n",
    "R1 = 20.;# in ohm\n",
    "R2 = 12.;# in ohm\n",
    "R3 = 8.;# in ohm\n",
    "V1 = 90.;# in V\n",
    "V2 = 60.;# in V\n",
    "#calculations\n",
    "R_T = R1 + ((R2*R3)/(R2+R3));# in ohm\n",
    "I_T = V1/R_T;# in A\n",
    "I1 = I_T;# in A\n",
    "R_T = R2 + ((R1*R3)/(R1+R3));# in ohm\n",
    "I_T = V2/R_T;# in A\n",
    "I2 = (R3/(R3+R1))*I_T;# in A\n",
    "R_T = R1 + ((R2*R3)/(R2+R3));# in ohm\n",
    "I_T = 2;# in A (given)\n",
    "R = (R2*R3)/(R2+R3);# in ohm\n",
    "I3 = (R/(R1+R))*I_T;# in A\n",
    "# current in 20 ohm resistor \n",
    "I20 = I1-I2-I3;# in A\n",
    "#results\n",
    "print \"The current in 20 ohm resistor in A is\",round(I20,3)\n",
    "\n"
   ]
  },
  {
   "cell_type": "markdown",
   "metadata": {},
   "source": [
    "## Example 29 :pg 89"
   ]
  },
  {
   "cell_type": "code",
   "execution_count": 30,
   "metadata": {
    "collapsed": false
   },
   "outputs": [
    {
     "name": "stdout",
     "output_type": "stream",
     "text": [
      "The current through R2 resistor in A is 2.1818\n"
     ]
    }
   ],
   "source": [
    "#pg 89\n",
    "#calculate the current\n",
    "# Given data\n",
    "R1 = 10.;# in ohm\n",
    "R2 = 20.;# in ohm\n",
    "R3 = 60.;# in ohm\n",
    "R4 = 30.;# in ohm\n",
    "E1 = 120.;# in V\n",
    "E2 = 60.;# in V\n",
    "#calculations\n",
    "R_T = ((R2*R3)/(R2+R3)) + R4+R1;# in ohm\n",
    "I_T = E1/R_T;# in A\n",
    "I1 = (R3/(R2+R3))*I_T;# in A\n",
    "R_T = ( ((R1+R4)*R2)/((R1+R4)+R2) ) + R3;# in ohm\n",
    "I_T = E2/R_T;# in A\n",
    "I2 = ((R1+R4)/(R1+R4+R2))*I_T;# in A\n",
    "# current through R2 resistor \n",
    "I= I1+I2;# in A\n",
    "#results\n",
    "print \"The current through R2 resistor in A is\",round(I,4)\n"
   ]
  },
  {
   "cell_type": "markdown",
   "metadata": {},
   "source": [
    "## Example 30: pg 91"
   ]
  },
  {
   "cell_type": "code",
   "execution_count": 31,
   "metadata": {
    "collapsed": false
   },
   "outputs": [
    {
     "name": "stdout",
     "output_type": "stream",
     "text": [
      "Total current through upper 4 ohm resistor in A is :  0.0\n",
      "Total current through lower 4 ohm resistor in A is :  3.75\n",
      "Total current through 8 ohm resistor in A is :  3.75\n"
     ]
    }
   ],
   "source": [
    "#pg 91\n",
    "#calculate the current in all cases\n",
    "# Given data\n",
    "R1 = 4.;# in ohm\n",
    "R2 = 4.;# in ohm\n",
    "R3 = 8.;# in ohm\n",
    "Ig = 3.;# in A \n",
    "V = 15.;# in V\n",
    "I3 = 0.;# in A\n",
    "#calculations\n",
    "I1 = R1/(R1+R2)*Ig;# in A\n",
    "I2 = -I1;# in A\n",
    "R_T = ((R1+R2)*R3)/((R1+R2)+R3);# in ohm\n",
    "I_T = V/R_T;# in A\n",
    "I_2= R3/(R1+R2+R3)*I_T;# in A\n",
    "I_1 = I_2;# in A\n",
    "# Total current through upper 4 ohm resistor \n",
    "tot_cur_up_4ohm= I1+I2;# in A\n",
    "# Total current through lower 4 ohm resistor \n",
    "tot_cur_low_4ohm= I_1+I_2;# in A\n",
    "# Total current through 8 ohm resistor \n",
    "tot_cur_8ohm= I3+I_T;# in A\n",
    "#results\n",
    "print \"Total current through upper 4 ohm resistor in A is : \",tot_cur_up_4ohm\n",
    "print \"Total current through lower 4 ohm resistor in A is : \",tot_cur_low_4ohm\n",
    "print \"Total current through 8 ohm resistor in A is : \",tot_cur_8ohm\n"
   ]
  },
  {
   "cell_type": "markdown",
   "metadata": {},
   "source": [
    "## Example 31: pg 92"
   ]
  },
  {
   "cell_type": "code",
   "execution_count": 32,
   "metadata": {
    "collapsed": false
   },
   "outputs": [
    {
     "name": "stdout",
     "output_type": "stream",
     "text": [
      "The total current through upper in 5 ohm resistor in A is 0.0\n",
      "The total current through lower in 5 ohm resistor in A is 2.0\n",
      "The total current through in 10 ohm resistor in A is 1.0\n"
     ]
    }
   ],
   "source": [
    "#pg 92\n",
    "#calculate the total current in all cases\n",
    "# Given data\n",
    "R1 = 5.;# in ohm\n",
    "R2 = 5.;# in ohm\n",
    "R3 = 10.;# in ohm\n",
    "V = 10.;# in V\n",
    "Ig = 2.;# in A \n",
    "#calculations\n",
    "I2 = (R1/R3)*Ig;# in A\n",
    "I1 = I2;# in A\n",
    "I3 = 0;# in A\n",
    "R_T = ((R1+R2)*R3)/((R1+R2)+R3);# in ohm\n",
    "I_T = V/R_T;# in A\n",
    "I_2 = (R3/((R1+R2)+R3))*I_T;# in A\n",
    "I_1 = I_2;# in A\n",
    "I_3 = I_1;# in A\n",
    "# Total current through upper in 5 ohm resistor \n",
    "tot_cur_up_5ohm = I1-I2;# in A\n",
    "# Total current through lower in 5 ohm resistor \n",
    "tot_cur_low_5ohm = I_1+I_2;# in A\n",
    "# Total current through 10 ohm resistor \n",
    "tot_cur_10ohm =  I3+I_3;# in A\n",
    "#results\n",
    "print \"The total current through upper in 5 ohm resistor in A is\",tot_cur_up_5ohm\n",
    "print \"The total current through lower in 5 ohm resistor in A is\",tot_cur_low_5ohm\n",
    "print \"The total current through in 10 ohm resistor in A is\",tot_cur_10ohm\n"
   ]
  }
 ],
 "metadata": {
  "kernelspec": {
   "display_name": "Python 2",
   "language": "python",
   "name": "python2"
  },
  "language_info": {
   "codemirror_mode": {
    "name": "ipython",
    "version": 2
   },
   "file_extension": ".py",
   "mimetype": "text/x-python",
   "name": "python",
   "nbconvert_exporter": "python",
   "pygments_lexer": "ipython2",
   "version": "2.7.11"
  }
 },
 "nbformat": 4,
 "nbformat_minor": 0
}
