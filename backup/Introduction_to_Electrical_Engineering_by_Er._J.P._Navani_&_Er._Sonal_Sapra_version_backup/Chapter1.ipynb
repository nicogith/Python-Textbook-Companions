{
 "cells": [
  {
   "cell_type": "markdown",
   "metadata": {},
   "source": [
    "# Chapter 1: D C Circuit analysis"
   ]
  },
  {
   "cell_type": "markdown",
   "metadata": {},
   "source": [
    "## Example 1: pg 9"
   ]
  },
  {
   "cell_type": "code",
   "execution_count": 1,
   "metadata": {
    "collapsed": false
   },
   "outputs": [
    {
     "name": "stdout",
     "output_type": "stream",
     "text": [
      "The current through 4 ohm resistor in A is 3.82\n",
      "The current through 2 ohm resistor in A is 4.36\n",
      "The current through 6 ohm resistor in A is -0.55\n",
      "That is  0.55  A current flows in 6 ohm resistor from C to B\n"
     ]
    }
   ],
   "source": [
    "#pg 9\n",
    "#calculate the current through all resistors\n",
    "import numpy\n",
    "from  numpy import matrix\n",
    "from numpy.linalg import inv\n",
    "# Given data\n",
    "R1=4.;# in ohm\n",
    "R2= 6.;# in ohm\n",
    "R3= 2.;# in ohm\n",
    "V1= 24.;# in V\n",
    "V2= 12.;# in V\n",
    "# Applying KVL in Mesh ABEFA, V1 = (R1+R3)*I1 - R3*I2    (i)\n",
    "# Applying KVL in Mesh BCDEB, V2 = R3*I1 - (R2+R3)*I2   (ii)\n",
    "#calculations\n",
    "A= numpy.matrix([[(R1+R3), R3],[-R3, -(R2+R3)]]);# assumed\n",
    "B= numpy.matrix([V1,V2]);# assumed\n",
    "I= B*inv(A);# Solving equations by matrix multiplication\n",
    "I1= I[0,0];# in A\n",
    "I2= I[0,1];# in A\n",
    "print \"The current through 4 ohm resistor in A is\",round(I1,2)\n",
    "# current through 2 ohm resistor \n",
    "Ix= I1-I2;# in A\n",
    "print \"The current through 2 ohm resistor in A is\",round(Ix,2)\n",
    "print \"The current through 6 ohm resistor in A is\",round(I2,2)\n",
    "print \"That is \",round(abs(I2),2),\" A current flows in 6 ohm resistor from C to B\"\n",
    "\n"
   ]
  },
  {
   "cell_type": "markdown",
   "metadata": {},
   "source": [
    "## Example 2: pg 11"
   ]
  },
  {
   "cell_type": "code",
   "execution_count": 2,
   "metadata": {
    "collapsed": false
   },
   "outputs": [
    {
     "name": "stdout",
     "output_type": "stream",
     "text": [
      "The current through 10 ohm resistor in A is 3.333\n",
      "The current through 5 ohm resistor in A is 13.33\n",
      "The current through 20 ohm resistor in A is 10.0\n"
     ]
    }
   ],
   "source": [
    "#pg 11\n",
    "#calculate the current through all resistors\n",
    "# Given data\n",
    "V = 100.;# in V\n",
    "I3= 10.;# in A\n",
    "R1 = 10.;# in ohm \n",
    "R2 = 5.;# in ohm\n",
    "# I1 = (V - V_A)/R1\n",
    "# I2 = (V_A-0)/R2\n",
    "# Using KCL at note A, I1-I2+I3=0 or\n",
    "#calculations\n",
    "V_A= (R1*R2)/(R1+R2)*(I3+V/R1);# in V\n",
    "I1 = (V - V_A)/R1;# in A\n",
    "I2 = (V_A-0)/R2;# in A\n",
    "#results\n",
    "print \"The current through 10 ohm resistor in A is\",round(I1,3)\n",
    "print \"The current through 5 ohm resistor in A is\",round(I2,2)\n",
    "print \"The current through 20 ohm resistor in A is\",I3\n"
   ]
  },
  {
   "cell_type": "markdown",
   "metadata": {},
   "source": [
    "## Example 3: pg 16"
   ]
  },
  {
   "cell_type": "code",
   "execution_count": 3,
   "metadata": {
    "collapsed": false
   },
   "outputs": [
    {
     "name": "stdout",
     "output_type": "stream",
     "text": [
      "The equivalent current in A is 5.0\n",
      "The equivalent voltage in V is 50\n"
     ]
    }
   ],
   "source": [
    "#pg 16\n",
    "#calculate the equivalent current and voltage\n",
    "# Given data\n",
    "# Part (a)\n",
    "V = 30.;# in V\n",
    "R = 6;# in ohm\n",
    "#calculations\n",
    "I = V/R;# the equivalent current in A\n",
    "print \"The equivalent current in A is\",I\n",
    "# Part (b)\n",
    "I = 10;# in A\n",
    "R = 5;# in ohm\n",
    "V = I*R;# the equivalent voltage in V\n",
    "print \"The equivalent voltage in V is\",V\n"
   ]
  },
  {
   "cell_type": "markdown",
   "metadata": {},
   "source": [
    "## Example 4: pg 17"
   ]
  },
  {
   "cell_type": "code",
   "execution_count": 4,
   "metadata": {
    "collapsed": false
   },
   "outputs": [
    {
     "name": "stdout",
     "output_type": "stream",
     "text": [
      "The current in A is 0.0\n"
     ]
    }
   ],
   "source": [
    "#pg 17\n",
    "#calculate the current\n",
    "# Given data\n",
    "R1= 6.;# in ohm\n",
    "R2= 2.;# in ohm\n",
    "R3= 5.;# in ohm\n",
    "I2= 4.;# in A\n",
    "V=24.;#in V\n",
    "# Applying KVL to the loop ABCDA, -R1*I1-R3*I+V=0  (i)\n",
    "# but I1= I+I2 , so from eq(i)\n",
    "#calculations\n",
    "I= (V-R1*I2)/(R1+R3);# in A\n",
    "#results\n",
    "print \"The current in A is\",I\n"
   ]
  },
  {
   "cell_type": "markdown",
   "metadata": {},
   "source": [
    "## Example 5: pg 17"
   ]
  },
  {
   "cell_type": "code",
   "execution_count": 5,
   "metadata": {
    "collapsed": false
   },
   "outputs": [
    {
     "name": "stdout",
     "output_type": "stream",
     "text": [
      "The value of I1 in A is :  0.7926\n",
      "The value of I2 in A is :  0.2949\n"
     ]
    }
   ],
   "source": [
    "#pg 17\n",
    "#calculate the value of current in different branches\n",
    "# Given data\n",
    "import numpy\n",
    "R1= 40.;# in ohm\n",
    "R2= 20.;# in ohm\n",
    "R3= 25.;# in ohm\n",
    "R4= 60.;# in ohm\n",
    "R5= 50.;# in ohm\n",
    "V1= 120.;# in V\n",
    "V2= 60.;# in V\n",
    "V3= 40.;# in V\n",
    "#calculations\n",
    "# Applying KVL in Mesh ABEFA, we get  -I1*(R1+R2+R3)+I2*R3=V2-V1       (i)\n",
    "# Applying KVL in Mesh BCEDB, we get  R3*I1-I2*(R3+R4+R5)= V3-V2       (ii)\n",
    "A= numpy.matrix([[-(R1+R2+R3), R3],[R3, -(R3+R4+R5)]]);\n",
    "B= numpy.matrix([V2-V1, V3-V2]);\n",
    "I= B*numpy.linalg.inv(A);#Solving eq(i) and (ii) by Matrix method\n",
    "I1= I[0,0];# in A\n",
    "I2= I[0,1];# in A\n",
    "#results\n",
    "print \"The value of I1 in A is : \",round(I1,4)\n",
    "print \"The value of I2 in A is : \",round(I2,4)\n"
   ]
  },
  {
   "cell_type": "markdown",
   "metadata": {},
   "source": [
    "## Example 6: pg 18"
   ]
  },
  {
   "cell_type": "code",
   "execution_count": 6,
   "metadata": {
    "collapsed": false
   },
   "outputs": [
    {
     "name": "stdout",
     "output_type": "stream",
     "text": [
      "The value of I1 in A is :  3.091\n",
      "The value of I2 in A is :  2.545\n",
      "The value of I_L in A is :  5.636\n"
     ]
    }
   ],
   "source": [
    "#pg 18\n",
    "#calculate the value of current in all branches\n",
    "import numpy\n",
    "# Given data\n",
    "R1= 2.;# in ohm\n",
    "R2= 4.;# in ohm\n",
    "R3= 6.;# in ohm\n",
    "V1= 4.;# in V\n",
    "V2= 44.;# in V\n",
    "#calculations\n",
    "#Applying KVL in ABEFA :  -R1*I1 + R2*I2 = V1      (i)\n",
    "#Applying KVL in BCDEB:  R3*I1 + I2*(R2+R3)=V2 (ii)\n",
    "A= ([[-R1, R2],[R3, (R2+R3)]]); # assumed\n",
    "B= ([[V1],[V2]]);# assumed\n",
    "I=numpy.dot(numpy.linalg.inv(A),B);# Solving eq(i) and (ii) by Matrix method\n",
    "I1= I[0];# in A\n",
    "I2= I[1];# in A\n",
    "I_L= I1+I2;# in A\n",
    "#results\n",
    "print \"The value of I1 in A is : \",round(I1,3)\n",
    "print \"The value of I2 in A is : \",round(I2,3)\n",
    "print \"The value of I_L in A is : \",round(I_L,3)\n"
   ]
  },
  {
   "cell_type": "markdown",
   "metadata": {},
   "source": [
    "## Example 7: pg 19"
   ]
  },
  {
   "cell_type": "code",
   "execution_count": 7,
   "metadata": {
    "collapsed": false
   },
   "outputs": [
    {
     "name": "stdout",
     "output_type": "stream",
     "text": [
      "The value of I1 in A is :  0.317\n",
      "The value of I2 in A is :  0.117\n"
     ]
    }
   ],
   "source": [
    "#pg 19\n",
    "#calculate the value of current\n",
    "# Given data\n",
    "import numpy\n",
    "R1= 1;# in ohm\n",
    "R2= 1;# in ohm\n",
    "R3= 2;# in ohm\n",
    "R4= 1;# in ohm\n",
    "R5= 1;# in ohm\n",
    "V1= 1.5;# in V\n",
    "V2= 1.1;# in V\n",
    "#calculations\n",
    "#Applying KVL in ABCFA :  I1*(R1+R2+R3) + R3*I2 = V1      (i)\n",
    "#Applying KVL in BCDEB:  R3*I1 + I2*(R3+R4+R5)=V2        (ii)\n",
    "A= ([[(R1+R2+R3), R3],[R3, (R3+R4+R5)]]);\n",
    "B= ([[V1], [V2]]);\n",
    "I= numpy.dot(numpy.linalg.inv(A),B);# Solving eq(i) and (ii) by Matrix method\n",
    "I1= I[0];# in A\n",
    "I2= I[1];# in A\n",
    "#results\n",
    "print \"The value of I1 in A is : \",round(I1,3)\n",
    "print \"The value of I2 in A is : \",round(I2,3)\n"
   ]
  },
  {
   "cell_type": "markdown",
   "metadata": {},
   "source": [
    "## Example 8: pg 20"
   ]
  },
  {
   "cell_type": "code",
   "execution_count": 9,
   "metadata": {
    "collapsed": false
   },
   "outputs": [
    {
     "name": "stdout",
     "output_type": "stream",
     "text": [
      "The current through 6 ohm resistance in A is :  1.5493\n"
     ]
    }
   ],
   "source": [
    "#pg 20\n",
    "#calculate the current\n",
    "# Given data\n",
    "import numpy\n",
    "R1= 2.;# in ohm\n",
    "R2= 4.;# in ohm\n",
    "R3= 1.;# in ohm\n",
    "R4= 6.;# in ohm\n",
    "R5= 4.;# in ohm\n",
    "V1= 10.;# in V\n",
    "V2= 20.;# in V\n",
    "#calculations\n",
    "#Applying KVL in ABGHA :  I1*(R1+R2) - R2*I2 = V1                   (i)\n",
    "#Applying KVL in BCFGB :  I1*R5-I2*(R3+R4+R5)+I3*R4 = 0      (ii)\n",
    "#Applying KVL in CDEFC:  R4*I2-I3*(R2+R4)=V2                          (iii)\n",
    "A= ([[(R1+R2), -R5, 0],[R2, -(R3+R4+R5), R4],[0, R4, -(R2+R4)]]);\n",
    "B= ([[V1], [0], [V2]]);\n",
    "I= numpy.dot(numpy.linalg.inv(A),B);# Solving eq(i), (ii) and (iii) by Matrix method\n",
    "I1= I[0];# in A\n",
    "I2= I[1];# in A\n",
    "I3= I[2];# in A\n",
    "I6_ohm_resistor= I2-I3;#The current through 6 ohm resistance  in A\n",
    "#results\n",
    "print \"The current through 6 ohm resistance in A is : \",round(I6_ohm_resistor,4)"
   ]
  },
  {
   "cell_type": "markdown",
   "metadata": {},
   "source": [
    "## Example 9: pg 21"
   ]
  },
  {
   "cell_type": "code",
   "execution_count": 11,
   "metadata": {
    "collapsed": false
   },
   "outputs": [
    {
     "name": "stdout",
     "output_type": "stream",
     "text": [
      "The current through 30 ohm resistance in A is :  2.56\n",
      "The current through 60 ohm resistance in A is :  2.72\n",
      "The current through 50 ohm resistance in A is :  -3.38\n",
      "The current through 20 ohm resistance in A is :  -3.54\n",
      "The current through 40 ohm resistance in A is :  -0.15\n",
      "Note: In the book there is a mistake in eq(iii), the R.H.S of eq(iii) should be -24 not -240. Since they divide the L.H.S of eq(iii) by 10 and R.H.S not divided, So the answer in the book is wrong\n"
     ]
    }
   ],
   "source": [
    "#pg 21\n",
    "#calculate the current through resistances\n",
    "# Given data\n",
    "import numpy\n",
    "R1= 30.;# in ohm\n",
    "R2= 40.;# in ohm\n",
    "R3= 20.;# in ohm\n",
    "R4= 60.;# in ohm\n",
    "R5= 50.;# in ohm\n",
    "V= 240.;# in V\n",
    "#calculations\n",
    "#Applying KVL in ABDA  :  I1*-(R1+R2+R3) + R2*I2+R3*I3 =0                  (i)\n",
    "#Applying KVL in BCDB  :  I1*R2+I2*-(R2+R4+R5)+I3*R5 = 0                   (ii)\n",
    "#Applying KVL in CFEADC: I1*R3+ R5*I2+I3*-(R3+R5)=-V                       (iii)\n",
    "A= ([[-(R1+R2+R3), R2, R3], [R2, -(R2+R4+R5), R5], [R3, R5, -(R3+R5)]]);\n",
    "B= ([[0], [0], [-V]]);\n",
    "I= numpy.dot(numpy.linalg.inv(A),B);# Solving eq(i), (ii) and (iii) by Matrix method\n",
    "I1= I[0];# in A\n",
    "I2= I[1];# in A\n",
    "I3= I[2];# in A\n",
    "I30_ohm_resistor= I1;# in A\n",
    "I60_ohm_resistor= I2;# in A\n",
    "I50_ohm_resistor= I2-I3;# in A\n",
    "I20_ohm_resistor= I1-I3;# in A\n",
    "I40_ohm_resistor= I1-I2;# in A\n",
    "#results\n",
    "print \"The current through 30 ohm resistance in A is : \",round(I30_ohm_resistor,2)\n",
    "print \"The current through 60 ohm resistance in A is : \",round(I60_ohm_resistor,2)\n",
    "print \"The current through 50 ohm resistance in A is : \",round(I50_ohm_resistor,2)\n",
    "print \"The current through 20 ohm resistance in A is : \",round(I20_ohm_resistor,2)\n",
    "print \"The current through 40 ohm resistance in A is : \",round(I40_ohm_resistor,2)\n",
    "\n",
    "print'Note: In the book there is a mistake in eq(iii), the R.H.S of eq(iii) should be -24 not -240. Since they divide the L.H.S of eq(iii) by 10 and R.H.S not divided, So the answer in the book is wrong'  \n"
   ]
  },
  {
   "cell_type": "markdown",
   "metadata": {},
   "source": [
    "## Example 10: pg 22"
   ]
  },
  {
   "cell_type": "code",
   "execution_count": 12,
   "metadata": {
    "collapsed": false
   },
   "outputs": [
    {
     "name": "stdout",
     "output_type": "stream",
     "text": [
      "The current in R3 in A is :  2.7619\n",
      "The current in R4 in A is :  1.9048\n"
     ]
    }
   ],
   "source": [
    "#pg 22\n",
    "#calculate the current\n",
    "# Given data\n",
    "import numpy\n",
    "R1= 5.;# in ohm\n",
    "R2= 5.;# in ohm\n",
    "R3= 10.;# in ohm\n",
    "R4= 10.;# in ohm\n",
    "R5= 5.;# in ohm\n",
    "V1= 50.;# in V\n",
    "V2= 20.;# in V\n",
    "#calculations\n",
    "#Applying KCL at node A:  VA*(R1*R3+R3*R2+R2*R1)+VB*-R1*R3 = V1*R2*R3                 (i)\n",
    "#Applying KCL at node B:  VA*R4*R5+VB*-(R2*R4+R4*R5+R5*R2) = -V2*R2*R4              (ii)\n",
    "\n",
    "A=([[(R1*R3+R2*R3+R2*R1), -R4*R5], [-R1*R3, (R2*R4+R4*R5+R5*R2)]])\n",
    "B= ([[V1*R2*R3], [V2*R2*R4]]);\n",
    "V= numpy.dot(numpy.linalg.inv(A),B);# Solving eq(i) and (ii) by Matrix method\n",
    "VA= V[0];# in V\n",
    "VB= V[1];# in V\n",
    "I_through_R3= VA/R3;# in A\n",
    "I_through_R4= VB/R4;# in A\n",
    "#results\n",
    "print \"The current in R3 in A is : \",round(I_through_R3,4)\n",
    "print \"The current in R4 in A is : \",round(I_through_R4,4)"
   ]
  },
  {
   "cell_type": "markdown",
   "metadata": {},
   "source": [
    "## Example 11: pg 23"
   ]
  },
  {
   "cell_type": "code",
   "execution_count": 13,
   "metadata": {
    "collapsed": false
   },
   "outputs": [
    {
     "name": "stdout",
     "output_type": "stream",
     "text": [
      "The value of I1 in A is :  [-5.75]\n",
      "The value of I2 in A is :  [ 9.25]\n",
      "The value of I3 in A is :  [-3.5]\n",
      "The value of I4 in A is :  [ 5.5]\n",
      "The value of I5 in A is :  [-9.]\n"
     ]
    }
   ],
   "source": [
    "#pg 23\n",
    "#calculate the current\n",
    "# Given data\n",
    "import numpy\n",
    "R1= 1.;# in ohm\n",
    "R2= 1.;# in ohm\n",
    "R3= 0.5;# in ohm\n",
    "R4= 2.;# in ohm\n",
    "R5= 1.;# in ohm\n",
    "V1= 15.;# in V\n",
    "V2= 20.;# in V\n",
    "#calculations\n",
    "#Applying KCL at node A:  VA*(R1*R2+R2*R3+R3*R1)+VB*-R1*R2 = V1*R2*R3                 (i)\n",
    "#Applying KCL at node B:  VA*R4*R5+VB*-(R3*R4+R4*R5+R5*R3) = V2*R3*R4                (ii)\n",
    "A=([[2*(R1*R2+R2*R3+R3*R1), -R4*R5], [2*R1*R2, -(R3*R4+R4*R5+R5*R3)]])\n",
    "B= ([[2*V1*R2*R3], [-V2*R3*R4]]);\n",
    "V= numpy.dot(numpy.linalg.inv(A),B);# Solving eq(i) and (ii) by Matrix method\n",
    "VA= V[0];# in V\n",
    "VB= V[1];# in V\n",
    "I1= (VA-V1)/R1;# in A\n",
    "I2= VA/R2;# in A\n",
    "I3= (VA-VB)/R3;# in A\n",
    "I4= VB/R4;# in A\n",
    "I5= (VB-V2)/R5;# in A\n",
    "#results\n",
    "print \"The value of I1 in A is : \",I1\n",
    "print \"The value of I2 in A is : \",I2\n",
    "print \"The value of I3 in A is : \",I3\n",
    "print \"The value of I4 in A is : \",I4\n",
    "print \"The value of I5 in A is : \",I5\n"
   ]
  },
  {
   "cell_type": "markdown",
   "metadata": {},
   "source": [
    "## Example 12: pg 24"
   ]
  },
  {
   "cell_type": "code",
   "execution_count": 14,
   "metadata": {
    "collapsed": false
   },
   "outputs": [
    {
     "name": "stdout",
     "output_type": "stream",
     "text": [
      "The value of I1 in A is :  1.0\n",
      "The value of I2 in A is :  0.0\n",
      "The value of I3 in A is :  1.0\n"
     ]
    }
   ],
   "source": [
    "#pg 24\n",
    "#calculate the value of current\n",
    "# Given data\n",
    "V1 = 12.;# in V\n",
    "V2 = 10.;# in V\n",
    "VB = 0.;# in V\n",
    "R1 = 2.;# in ohm\n",
    "R2 = 1.;# in ohm\n",
    "R3 = 10.;# in ohm\n",
    "#calculations\n",
    "# Using KCL at node A :\n",
    "VA= (V1*R2*R3+V2*R3*R1)/(R1*R2+R2*R3+R3*R1);# in V\n",
    "I1 = (V1-VA)/R1;# in A\n",
    "I2 = (V2-VA)/R2;# in A\n",
    "I3 = (VA-VB)/R3;# in A\n",
    "#results\n",
    "print \"The value of I1 in A is : \",I1\n",
    "print \"The value of I2 in A is : \",I2\n",
    "print \"The value of I3 in A is : \",I3\n"
   ]
  },
  {
   "cell_type": "markdown",
   "metadata": {},
   "source": [
    "## Example 13: pg 25"
   ]
  },
  {
   "cell_type": "code",
   "execution_count": 15,
   "metadata": {
    "collapsed": false
   },
   "outputs": [
    {
     "name": "stdout",
     "output_type": "stream",
     "text": [
      "The voltage at node 1 in volts is :  [ 2.]\n",
      "The voltage at node 2 in volts is :  [ 4.]\n"
     ]
    }
   ],
   "source": [
    "#pg 25\n",
    "#calculate the voltage at all nodes\n",
    "# Given data\n",
    "import numpy\n",
    "R1= 1.;# in ohm\n",
    "R2= 2.;# in ohm\n",
    "R3= 2.;# in ohm\n",
    "R4= 1.;# in ohm\n",
    "I1= 1.;# in A\n",
    "I5= 2.;# in A\n",
    "#calculations\n",
    "# Using KCL at node 1: V1*(R2+R3)-V2*R2= I1*R2*R3        (i)\n",
    "# Using KCL at node 2: V1*R4-V2*(R3+R4)= -I5*(R3*R4)   (ii)\n",
    "A= ([[(R2+R3), -R4], [R2, -(R3+R4)]]);\n",
    "B= ([[I1*R2*R3], [-2*I5*R3*R4]]);\n",
    "V= numpy.dot(numpy.linalg.inv(A),B);# Solving eq(i) and (ii) by Matrix method\n",
    "V1= V[0];# in V\n",
    "V2= V[1];# in V\n",
    "#results\n",
    "print\"The voltage at node 1 in volts is : \",V1\n",
    "print \"The voltage at node 2 in volts is : \",V2\n",
    "\n"
   ]
  },
  {
   "cell_type": "markdown",
   "metadata": {},
   "source": [
    "## Example 14: pg 26"
   ]
  },
  {
   "cell_type": "code",
   "execution_count": 16,
   "metadata": {
    "collapsed": false
   },
   "outputs": [
    {
     "name": "stdout",
     "output_type": "stream",
     "text": [
      "The value of I1 in A is :  1.667\n",
      "The value of I2 in A is :  1.56\n"
     ]
    }
   ],
   "source": [
    "#pg 26\n",
    "# Given data\n",
    "#calculate the value of current\n",
    "import numpy\n",
    "R1= 2.;# in ohm\n",
    "R2= 6.;# in ohm\n",
    "R3= 3.;# in ohm\n",
    "V1= 10.;# in V\n",
    "V2= 6.;# in V\n",
    "V3= 2.;# in V\n",
    "#calculations\n",
    "#Applying KVL in ABEFA  :  I1*(R1+R2) - R2*I2=V1-V2                  (i)\n",
    "#Applying KVL in BCDEB  :  -I1*R2+I2*(R2+R3)=V2-V3                   (ii)\n",
    "A= ([[(R1+R2), -R2], [-R2, (R2+R3)]]);\n",
    "B= ([[(V1-V2)], [(V2-V3)]]);\n",
    "I= numpy.dot(numpy.linalg.inv(A),B);# Solving eq(i),  and (ii) by Matrix method\n",
    "I1= I[0];# in A\n",
    "I2= I[1];# in A\n",
    "#results\n",
    "print \"The value of I1 in A is : \",round(I1,3)\n",
    "print \"The value of I2 in A is : \",round(I2,2)\n",
    "\n"
   ]
  },
  {
   "cell_type": "markdown",
   "metadata": {},
   "source": [
    "## Example 15: pg 26"
   ]
  },
  {
   "cell_type": "code",
   "execution_count": 17,
   "metadata": {
    "collapsed": false
   },
   "outputs": [
    {
     "name": "stdout",
     "output_type": "stream",
     "text": [
      "The value of I1 in A is :  0.606\n",
      "The value of I2 in A is :  0.545\n"
     ]
    }
   ],
   "source": [
    "#pg 26\n",
    "#calculate the value of current\n",
    "# Given data\n",
    "import numpy\n",
    "R1= 2.;# in ohm\n",
    "R2= 6.;# in ohm\n",
    "R3= 4.;# in ohm\n",
    "R4= 3.;# in ohm\n",
    "R5= 5.;# in ohm\n",
    "V1= 10.;# in V\n",
    "V2= 6.;# in V\n",
    "V3= 2.;# in V\n",
    "#calculations\n",
    "#Applying KVL in ABEFA :  I1*(R1+R2+R3) - R2*I2 = V1-V2  (i)\n",
    "#Applying KVL in BCDEB :  I1*-R2+I2*(R2+R4+R5) =V2-V3  (ii)\n",
    "A= ([[(R1+R2+R3), -R2], [-R2, (R2+R4+R5)]]);\n",
    "B= ([[(V1-V2)], [(V2-V3)]]);\n",
    "I= numpy.dot(numpy.linalg.inv(A),B);# Solving eq(i) and (ii) by Matrix method\n",
    "I1= I[0];# in A\n",
    "I2= I[1];# in A\n",
    "#results\n",
    "print \"The value of I1 in A is : \",round(I1,3)\n",
    "print \"The value of I2 in A is : \",round(I2,3)\n"
   ]
  },
  {
   "cell_type": "markdown",
   "metadata": {},
   "source": [
    "## Example 16: pg 27"
   ]
  },
  {
   "cell_type": "code",
   "execution_count": 18,
   "metadata": {
    "collapsed": false
   },
   "outputs": [
    {
     "name": "stdout",
     "output_type": "stream",
     "text": [
      "The current through 10 ohm resistor in A is :  [ 0.625]\n"
     ]
    }
   ],
   "source": [
    "#pg 27\n",
    "#calculate the current\n",
    "# Given data\n",
    "import numpy\n",
    "R1= 10.;# in ohm\n",
    "R2= 5.;# in ohm\n",
    "R3= 5.;# in ohm\n",
    "R4= 5.;# in ohm\n",
    "V2= 10.;# in V\n",
    "I= 1.;# in A\n",
    "#calculations\n",
    "V1= R4*I;# in V\n",
    "#Applying KVL in ABEFA :  I1*(R1+R2+R3) + R1*I2 = V1  (i)\n",
    "#Applying KVL in BCDEB :  I1*R1+I2*(R1+R4) =V2            (ii)\n",
    "A= ([[(R1+R2+R3), R1], [R1, (R1+R4)]]);\n",
    "B= ([[V1], [V2]]);\n",
    "I= numpy.dot(numpy.linalg.inv(A),B);# Solving eq(i) and (ii) by Matrix method\n",
    "I1= I[0];# in A\n",
    "I2= I[1];# in A\n",
    "I10_ohm= I1+I2;# in A\n",
    "#results\n",
    "print \"The current through 10 ohm resistor in A is : \",I10_ohm\n"
   ]
  },
  {
   "cell_type": "markdown",
   "metadata": {},
   "source": [
    "## Example 17: pg 28"
   ]
  },
  {
   "cell_type": "code",
   "execution_count": 19,
   "metadata": {
    "collapsed": false
   },
   "outputs": [
    {
     "name": "stdout",
     "output_type": "stream",
     "text": [
      "The current through 10 ohm resistor from right to left in A is :  0.702\n"
     ]
    }
   ],
   "source": [
    "#pg 28\n",
    "#calculate the current\n",
    "# Given data\n",
    "import numpy\n",
    "R1= 4.;# in ohm\n",
    "R2= 5.;# in ohm\n",
    "R3= 10.;# in ohm\n",
    "R4= 6.;# in ohm\n",
    "R5= 4.;# in ohm\n",
    "V1= 15.;# in V\n",
    "V2= 30.;# in V\n",
    "#calculations\n",
    "#Applying KCL at node A:  VA*(R1*R2+R2*R3+R3*R1)+VB*-R1*R2 = V1*R1*R3                 (i)\n",
    "#Applying KCL at node B:  VA*R4*R5+VB*-(R3*R4+R4*R5+R5*R3) = -V2*R3*R4                (ii)\n",
    "A=([[(R1*R2+R2*R3+R3*R1), -R4*R5], [R1*R2, -(R3*R4+R4*R5+R5*R3)]])\n",
    "B= ([[V1*R1*R3], [-V2*R3*R4]]);\n",
    "V= numpy.dot(numpy.linalg.inv(A),B);# Solving eq(i) and (ii) by Matrix method\n",
    "VA= V[0];# in V\n",
    "VB= V[1];# in V\n",
    "I10_ohm= abs((VA-VB)/R3);# in A\n",
    "#results\n",
    "print \"The current through 10 ohm resistor from right to left in A is : \",round(I10_ohm,3)\n"
   ]
  },
  {
   "cell_type": "markdown",
   "metadata": {},
   "source": [
    "## Example 19: pg 29"
   ]
  },
  {
   "cell_type": "code",
   "execution_count": 20,
   "metadata": {
    "collapsed": false
   },
   "outputs": [
    {
     "name": "stdout",
     "output_type": "stream",
     "text": [
      "The value of I1 in A is :  1.0\n",
      "The value of I2 in A is :  [ 0.6]\n",
      "The value of I3 in A is :  [ 0.4]\n",
      "The value of I4 in A is :  [ 0.6]\n",
      "The value of I5 in A is :  [ 0.2]\n",
      "The value of I6 in A is :  [ 0.3]\n",
      "The value of I7 in A is :  0.5\n"
     ]
    }
   ],
   "source": [
    "#pg 29\n",
    "#calculate the current\n",
    "# Given data\n",
    "import numpy\n",
    "R1= 10.;# in ohm\n",
    "R2= 10.;# in ohm\n",
    "R3= 20.;# in ohm\n",
    "R4= 20.;# in ohm\n",
    "R5= 20.;# in ohm\n",
    "V= 10.;# in V\n",
    "I1= 1.;# in A\n",
    "I7=0.5;# in A\n",
    "#calculations\n",
    "#Applying KCL at node A:  VA*(R1+R2)+VB*-R1 = I1*R1*R2                                                                 (i)\n",
    "#Applying KCL at node B:  VA*R3*R4+VB*-(R2*R3+R3*R4+R4*R2)+VC*R2*R3 = V*R2*R4      (ii)\n",
    "#Applying KCL at node C: -VB*R5+VC*(R4+R5)=I7*R4*R5                                                                   (iii)\n",
    "A=([[(R1+R2), -R1, 0], [R3*R4, -(R2*R3+R3*R4+R4*R2), R2*R3],[0, -R5, (R4+R5)]])\n",
    "B= ([[I1*R1*R2], [V*R2*R4], [I7*R4*R5]]);\n",
    "Value= numpy.dot(numpy.linalg.inv(A),B);# Solving eq(i), (ii) and (iii) by Matrix method\n",
    "VA= Value[0];# in V\n",
    "VB= Value[1];# in V\n",
    "VC= Value[2]\n",
    "I2= VA/R1;# in A\n",
    "I3= (VA-VB)/R2;# in A\n",
    "I4= (VB+V)/R3;# in A\n",
    "I5= (VC-VB)/R4;# in A\n",
    "I6= VC/R5;# in A\n",
    "#results\n",
    "print \"The value of I1 in A is : \",I1\n",
    "print \"The value of I2 in A is : \",I2\n",
    "print \"The value of I3 in A is : \",I3\n",
    "print \"The value of I4 in A is : \",I4\n",
    "print \"The value of I5 in A is : \",I5\n",
    "print \"The value of I6 in A is : \",I6\n",
    "print \"The value of I7 in A is : \",I7\n"
   ]
  },
  {
   "cell_type": "markdown",
   "metadata": {},
   "source": [
    "## Example 20: pg 31"
   ]
  },
  {
   "cell_type": "code",
   "execution_count": 21,
   "metadata": {
    "collapsed": false
   },
   "outputs": [
    {
     "name": "stdout",
     "output_type": "stream",
     "text": [
      "The current through 8 ohm resistance in A is :  0.8767\n"
     ]
    }
   ],
   "source": [
    "#pg 31\n",
    "#calculate the current\n",
    "# Given data\n",
    "import numpy\n",
    "R1 = 3.;# in ohm\n",
    "R2 = 8.;# in ohm\n",
    "R3 = 4.;# in ohm\n",
    "R4 = 12.;# in ohm\n",
    "R5 = 14.;# in ohm\n",
    "V1 = 10.;# in V\n",
    "V2 = 3.;# in V\n",
    "V3 = 6.;# in V\n",
    "#Applying KCL at node A:  VA*(R1*R2+R2*R3+R3*R1)+VB*-R1*R2 = V1*R2*R3+V2*R1*R2                 (i)\n",
    "#Applying KCL at node B:  VA*R4*R5+VB*-(R3*R4+R4*R5+R5*R3) = V2*R4*R5-V3*R3*R4                (ii)\n",
    "A=([[(R1*R2+R2*R3+R3*R1), R4*R5], [-R1*R2, -(R3*R4+R4*R5+R5*R3)]])\n",
    "B= ([(V1*R2*R3+V2*R1*R2), (V2*R4*R5-V3*R3*R4)])\n",
    "V= numpy.dot(B,numpy.linalg.inv(A));# Solving eq(i) and (ii) by Matrix method\n",
    "VA= V[0];# in V\n",
    "VB= V[1];# in V\n",
    "I8_ohm= VA/R2;#The current through 8 ohm resistance  in A\n",
    "#results\n",
    "print \"The current through 8 ohm resistance in A is : \",round(I8_ohm,4)\n"
   ]
  },
  {
   "cell_type": "markdown",
   "metadata": {},
   "source": [
    "## Example 21: pg 32"
   ]
  },
  {
   "cell_type": "code",
   "execution_count": 22,
   "metadata": {
    "collapsed": false
   },
   "outputs": [
    {
     "name": "stdout",
     "output_type": "stream",
     "text": [
      "The current drawn from the source in A is :  12.64\n"
     ]
    }
   ],
   "source": [
    "#pg 32\n",
    "#calculate the current\n",
    "# Given data\n",
    "V= 100.;# in V\n",
    "R12 = 3.;# in ohm\n",
    "R31 = 2.;# in ohm\n",
    "R23 = 4.;# in ohm\n",
    "R4= 6.;# in ohm\n",
    "R5=2.;# in ohm\n",
    "R6= 5.;# in ohm\n",
    "#calculations\n",
    "R1 = (R12*R31)/(R12+R23+R31);# in ohm\n",
    "R2 = (R31*R23)/(R12+R23+R31);# in ohm\n",
    "R3 = (R23*R12)/(R12+R23+R31);# in ohm\n",
    "R_S= R6+R1;# in ohm\n",
    "R_P1= R2+R4;# in ohm\n",
    "R_P2= R3+R5;# in ohm\n",
    "R_P= R_P1*R_P2/(R_P1+R_P2);# in ohm\n",
    "R= R_P+R_S;# in ohm\n",
    "I= V/R;# in A\n",
    "#results\n",
    "print \"The current drawn from the source in A is : \",round(I,2)\n"
   ]
  },
  {
   "cell_type": "markdown",
   "metadata": {},
   "source": [
    "## Example 22: pg 33"
   ]
  },
  {
   "cell_type": "code",
   "execution_count": 23,
   "metadata": {
    "collapsed": false
   },
   "outputs": [
    {
     "name": "stdout",
     "output_type": "stream",
     "text": [
      "Part (i) : Using by KVL\n",
      "The current through 10 ohm resistance in A is :  3.33\n",
      "The current through 5 ohm resistance in A is :  13.33\n",
      "The current through 20 ohm resistance in A is :  10.0\n",
      "Part (ii) : Using by KVL\n",
      "The current through 10 ohm resistance in A is :  -3.33\n",
      "The current through 5 ohm resistance in A is :  13.33\n",
      "The current through 20 ohm resistance in A is :  10.0\n"
     ]
    }
   ],
   "source": [
    "#pg 33\n",
    "#calculate the current using both methods\n",
    "# Given data\n",
    "R1= 10.;# in ohm\n",
    "R2= 5.;# in ohm\n",
    "R3= 20.;# in ohm\n",
    "V= 100.;# in V\n",
    "I2= 10.;# in A\n",
    "#calculations\n",
    "# Applying KVL in ABEFA : -R1*I1-R2*(I1+I2)+V= 0\n",
    "I1= (V-R2*I2)/(R1+R2);# in A\n",
    "I10_ohm= I1;#current through 10 ohm resistance in A\n",
    "I5_ohm= I1+I2;#current through 5 ohm resistance in A\n",
    "I20_ohm= I2;#current through 20 ohm resistance in A\n",
    "print \"Part (i) : Using by KVL\"\n",
    "print \"The current through 10 ohm resistance in A is : \",round(I10_ohm,2)\n",
    "print \"The current through 5 ohm resistance in A is : \",round(I5_ohm,2)\n",
    "print \"The current through 20 ohm resistance in A is : \",I20_ohm\n",
    "# Applying KCL at node A :\n",
    "VA= (V*R2+I2*R1*R2)/(R1+R2);# in V\n",
    "I10_ohm= (VA-V)/R1;# in A\n",
    "I5_ohm= VA/R2;# in A\n",
    "I20_ohm= I2;# in A\n",
    "print \"Part (ii) : Using by KVL\"\n",
    "print \"The current through 10 ohm resistance in A is : \",round(I10_ohm,2)\n",
    "print \"The current through 5 ohm resistance in A is : \",round(I5_ohm,2)\n",
    "print \"The current through 20 ohm resistance in A is : \",I20_ohm\n",
    "\n",
    "\n"
   ]
  },
  {
   "cell_type": "markdown",
   "metadata": {},
   "source": [
    "## Example 23: pg 34"
   ]
  },
  {
   "cell_type": "code",
   "execution_count": 24,
   "metadata": {
    "collapsed": false
   },
   "outputs": [
    {
     "name": "stdout",
     "output_type": "stream",
     "text": [
      "The current through 2 ohm resistor in A is :  5.0\n",
      "The voltage across 2 ohm resistor in V is :  10.0\n"
     ]
    }
   ],
   "source": [
    "#pg 34\n",
    "#calculate the current and voltage\n",
    "# Given data\n",
    "import numpy\n",
    "R1= 5.;# in ohm\n",
    "R2= 10.;# in ohm\n",
    "R3= 3.;# in ohm\n",
    "R4= 2.;# in ohm\n",
    "V1= 10.;# in V\n",
    "V2= 20.;# in V\n",
    "I= 5.;# in A\n",
    "#Applying KCL at node A:  VA*(R1+R2)+VB*-R1 =I*R1*R2+V1*R1                                                 (i)\n",
    "#Applying KCL at node B:  VA*R3*R4+VB*-(R2*R3+R4*R3+R4*R2) =V1*R3*R4+V2*R2*R3 (ii)\n",
    "A=([[(R1+R2), R3*R4], [-R1, -(R3*R2+R4*R3+R4*R2)]])\n",
    "B= ([(I*R1*R2+V1*R1), (V1*R3*R4+V2*R2*R3)]);\n",
    "V= numpy.dot(B,numpy.linalg.inv(A));# Solving eq(i) and (ii) by Matrix method\n",
    "VA= V[0];# in V\n",
    "VB= V[1];# in V\n",
    "I4= (VB+V2)/R4;# in A\n",
    "V4= R4*I4;# in V\n",
    "#results\n",
    "print \"The current through 2 ohm resistor in A is : \",I4\n",
    "print \"The voltage across 2 ohm resistor in V is : \",V4\n"
   ]
  },
  {
   "cell_type": "markdown",
   "metadata": {},
   "source": [
    "## Example 24: pg 36"
   ]
  },
  {
   "cell_type": "code",
   "execution_count": 25,
   "metadata": {
    "collapsed": false
   },
   "outputs": [
    {
     "name": "stdout",
     "output_type": "stream",
     "text": [
      "The voltage across 6 ohm resistor in V is :  12.0\n"
     ]
    }
   ],
   "source": [
    "#pg 36\n",
    "#calculate the voltage\n",
    "# Given data\n",
    "import numpy\n",
    "R1= 6.;# in ohm\n",
    "R2= 12.;# in ohm\n",
    "R3= 2.;# in ohm\n",
    "R4= 6.;# in ohm\n",
    "V2= 12.;# in V\n",
    "V3= 30.;# in V\n",
    "#calculations\n",
    "#Applying KVL in ABEFA  :  I1*(R1+R2) - R2*I2=V3-V2                  (i)\n",
    "#Applying KVL in BCDEB  :  -I1*R2+I2*(R1+R2+R3)=V2                   (ii)\n",
    "A= ([[(R1+R2), -R2], [-R2, (R1+R2+R3)]]);\n",
    "B= ([(V3-V2), (V2)]);\n",
    "I= numpy.dot(B,numpy.linalg.inv(A));# Solving eq(i),  and (ii) by Matrix method\n",
    "I1= I[0];# in A\n",
    "I2= I[1];# in A\n",
    "V1= I2*R1;#voltage across 6 ohm resistor  in V\n",
    "#results\n",
    "print \"The voltage across 6 ohm resistor in V is : \",V1\n"
   ]
  },
  {
   "cell_type": "markdown",
   "metadata": {},
   "source": [
    "## Example 25: pg 36"
   ]
  },
  {
   "cell_type": "code",
   "execution_count": 26,
   "metadata": {
    "collapsed": false
   },
   "outputs": [
    {
     "name": "stdout",
     "output_type": "stream",
     "text": [
      "The resistance between the point B and C in ohm is :  1.3\n"
     ]
    }
   ],
   "source": [
    "#pg 36\n",
    "#calculate the resistance\n",
    "# Given data\n",
    "R1 = 6.;# in ohm\n",
    "R2 = 2.;# in ohm\n",
    "R3 = 2.;# in ohm\n",
    "R4 = 4.;# in ohm\n",
    "R5 = 4.;# in ohm\n",
    "R6 = 6.;# in ohm\n",
    "#calculations\n",
    "R12= R1*R2/(R1+R2);# in ohm\n",
    "R34= R3*R4/(R3+R4);# in ohm\n",
    "R56= R5*R6/(R5+R6);# in ohm\n",
    "# Resistance between the point B and C\n",
    "R_BC= (R12+R34)*R56/((R12+R34)+R56);# in ohm\n",
    "#results\n",
    "print \"The resistance between the point B and C in ohm is : \",round(R_BC,1)\n"
   ]
  },
  {
   "cell_type": "markdown",
   "metadata": {},
   "source": [
    "## Example 26: pg 37"
   ]
  },
  {
   "cell_type": "code",
   "execution_count": 27,
   "metadata": {
    "collapsed": false
   },
   "outputs": [
    {
     "name": "stdout",
     "output_type": "stream",
     "text": [
      "The voltage across R1 resistor in V is :  30.0\n",
      "The voltage across R2 resistor in V is :  30.0\n"
     ]
    }
   ],
   "source": [
    "#pg 37\n",
    "#calculate the voltage across resistors\n",
    "# Given data\n",
    "R1 = 10.;# in ohm\n",
    "R2 = 10.;# in ohm\n",
    "R4 = 80.;# in ohm\n",
    "V1= 100.;# in V\n",
    "I2= 0.5;# in A\n",
    "#calculations\n",
    "V2= I2*R4;# in V\n",
    "# Applying KVL : -R1*I1-V2+V1-R1*I2=0\n",
    "I1= (V1-V2)/(R1+R2);# in A\n",
    "V_R1= I1*R1;#voltage across R1 resistor  in V\n",
    "V_R2= I1*R2;#voltage across R2 resistor  in V\n",
    "#results\n",
    "print \"The voltage across R1 resistor in V is : \",V_R1\n",
    "print \"The voltage across R2 resistor in V is : \",V_R2\n"
   ]
  },
  {
   "cell_type": "markdown",
   "metadata": {},
   "source": [
    "## Example 27: pg 38"
   ]
  },
  {
   "cell_type": "code",
   "execution_count": 28,
   "metadata": {
    "collapsed": false
   },
   "outputs": [
    {
     "name": "stdout",
     "output_type": "stream",
     "text": [
      "The value of I1 in A is :  2.06\n",
      "The value of I2 in A is :  -3.24\n"
     ]
    }
   ],
   "source": [
    "#pg 38\n",
    "#calculate the currents\n",
    "# Given data\n",
    "import numpy\n",
    "R1 = 8.;# in ohm\n",
    "R2 = 4.;# in ohm\n",
    "R3 = 4.;# in ohm\n",
    "R4 = 4.;# in ohm\n",
    "R5 = 8.;# in ohm\n",
    "R6 = 8.;# in ohm\n",
    "I=10.;# in A\n",
    "V= 20.;# in V\n",
    "#calculations\n",
    "# Applying KVL in ABEFA : I1*(R1+R2+R3)+I2*(R3)= I*R2-V    (i)\n",
    "# Applying KVL in BCDEB : I1*R3-I2*(R3+R4+R5)= R4*I+V      (ii)\n",
    "A= ([[(R1+R2+R3), R3], [R3, -(R3+R4+R5)]]);\n",
    "B= ([I*R2-V, R4*I+V]);\n",
    "I= numpy.dot(B,numpy.linalg.inv(A));## Solving equations by matrix multiplication\n",
    "I1= I[0];# in A\n",
    "I2= I[1];# in A\n",
    "#results\n",
    "print \"The value of I1 in A is : \",round(I1,2)\n",
    "print \"The value of I2 in A is : \",round(I2,2)\n"
   ]
  }
 ],
 "metadata": {
  "kernelspec": {
   "display_name": "Python 2",
   "language": "python",
   "name": "python2"
  },
  "language_info": {
   "codemirror_mode": {
    "name": "ipython",
    "version": 2
   },
   "file_extension": ".py",
   "mimetype": "text/x-python",
   "name": "python",
   "nbconvert_exporter": "python",
   "pygments_lexer": "ipython2",
   "version": "2.7.11"
  }
 },
 "nbformat": 4,
 "nbformat_minor": 0
}
