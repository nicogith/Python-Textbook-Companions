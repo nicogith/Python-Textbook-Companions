{
 "cells": [
  {
   "cell_type": "markdown",
   "metadata": {},
   "source": [
    "# Chapter 10: DC Machines"
   ]
  },
  {
   "cell_type": "markdown",
   "metadata": {},
   "source": [
    "## Example 1: pg 329"
   ]
  },
  {
   "cell_type": "code",
   "execution_count": 1,
   "metadata": {
    "collapsed": false
   },
   "outputs": [
    {
     "name": "stdout",
     "output_type": "stream",
     "text": [
      "The emf generated in V is 624.0\n"
     ]
    }
   ],
   "source": [
    "#pg 329\n",
    "#calculate the emf generated\n",
    "# Given data\n",
    "A = 2.;# in wavewound\n",
    "N = 1200.;# in rpm\n",
    "phi = 0.02;# in Wb\n",
    "n = 65.;# no of slots\n",
    "P = 4.;\n",
    "#calculations\n",
    "Z = n*12;# total number of conductor\n",
    "# Emf equation\n",
    "Eg = (N*P*phi*Z)/(60*A);# in V\n",
    "#results\n",
    "print \"The emf generated in V is\",Eg\n"
   ]
  },
  {
   "cell_type": "markdown",
   "metadata": {},
   "source": [
    "## Example 2: pg 329"
   ]
  },
  {
   "cell_type": "code",
   "execution_count": 2,
   "metadata": {
    "collapsed": false
   },
   "outputs": [
    {
     "name": "stdout",
     "output_type": "stream",
     "text": [
      "The numbers of conductors when armature is lap wound 880.0\n",
      "The numbers of conductors when armature is wave wound  220.0\n"
     ]
    }
   ],
   "source": [
    "#pg 329\n",
    "#calculate the number of conductors\n",
    "# Given data\n",
    "P = 8.;\n",
    "N = 1200.;# in rpm\n",
    "phi = 25.;# in mWb\n",
    "phi = phi * 10**-3;# in Wb\n",
    "Eg = 440.;# in V\n",
    "A = P;\n",
    "#calculations\n",
    "# Eg = (N*P*phi*Z)/(60*A);\n",
    "Z = (Eg*60*A)/(phi*N*P);# in conductors\n",
    "print \"The numbers of conductors when armature is lap wound\",Z\n",
    "A = 2;\n",
    "# Eg = (N*P*phi*Z)/(60*A);\n",
    "Z = (Eg*60*A)/(phi*N*P);# in conductors\n",
    "print \"The numbers of conductors when armature is wave wound \",Z\n"
   ]
  },
  {
   "cell_type": "markdown",
   "metadata": {},
   "source": [
    "## Example 3: pg 330"
   ]
  },
  {
   "cell_type": "code",
   "execution_count": 3,
   "metadata": {
    "collapsed": false
   },
   "outputs": [
    {
     "name": "stdout",
     "output_type": "stream",
     "text": [
      "The induced voltage in V is 138.24\n"
     ]
    }
   ],
   "source": [
    "#pg 330\n",
    "#calculate the induced voltage\n",
    "# Given data\n",
    "P = 4;\n",
    "phi = 20;# in mWb\n",
    "phi = phi * 10**-3;# in Wb\n",
    "A = 4;\n",
    "P = A;\n",
    "N =720.;# in rpm\n",
    "n = 144.;# no of slots in slots\n",
    "n1 = 2.;# no of coils \n",
    "n2 = 2;# no of turns in turns\n",
    "#calculations\n",
    "Z = n*n1*n2;# total number of conductor\n",
    "# Generated emf\n",
    "E = (N*P*phi*Z)/(60*A);# in V\n",
    "#results\n",
    "print \"The induced voltage in V is\",E\n"
   ]
  },
  {
   "cell_type": "markdown",
   "metadata": {},
   "source": [
    "## Example 4: pg 330"
   ]
  },
  {
   "cell_type": "code",
   "execution_count": 4,
   "metadata": {
    "collapsed": false
   },
   "outputs": [
    {
     "name": "stdout",
     "output_type": "stream",
     "text": [
      "Part (i) : The generated emf in V is 125.0\n",
      "Part (ii) : The generated emf in V is 135.0\n"
     ]
    }
   ],
   "source": [
    "#pg 330\n",
    "#calculate the emf\n",
    "# Given data\n",
    "Eg1 = 100.;# in V\n",
    "phi1 = 20.;# in mWb\n",
    "phi1 = phi1 * 10**-3;# in Wb\n",
    "N1 = 800.;# in rpm\n",
    "N2 = 1000.;# in rpm\n",
    "#calculations\n",
    "# Eg1/Eg2 = (phi1/phi2) * (N1/N2) but phi1 = phi2\n",
    "Eg2 = (Eg1*N2)/N1;# in V\n",
    "print \"Part (i) : The generated emf in V is\",Eg2\n",
    "phi2 = 24;# in mWb\n",
    "phi2 = phi2 * 10**-3;# in Wb\n",
    "N2 = 900;# in rpm\n",
    "# Eg1/Eg2 = (phi1/phi2) * (N1/N2) ;\n",
    "Eg2 = (Eg1*N2*phi2)/(N1*phi1);# in V\n",
    "print \"Part (ii) : The generated emf in V is\",Eg2\n"
   ]
  },
  {
   "cell_type": "markdown",
   "metadata": {},
   "source": [
    "## Example 5: pg 331"
   ]
  },
  {
   "cell_type": "code",
   "execution_count": 5,
   "metadata": {
    "collapsed": false
   },
   "outputs": [
    {
     "name": "stdout",
     "output_type": "stream",
     "text": [
      "The total power developed by the armature in kW is 31.43\n"
     ]
    }
   ],
   "source": [
    "#pg 331\n",
    "#calculate the power\n",
    "# Given data\n",
    "P = 30;# in kW\n",
    "P = P * 10**3;# in W\n",
    "V = 300.;# in V\n",
    "Ra = 0.05;# in ohm\n",
    "Rsh = 100;# in ohm\n",
    "#calculations\n",
    "# p = V*I_L;\n",
    "I_L = P/V;# in A\n",
    "Ish = V/Rsh;# in A\n",
    "Ia = I_L+Ish;# in A\n",
    "Eg = V + (Ia*Ra);# in V\n",
    "# power developed by armature \n",
    "power = (Eg*Ia);# in W\n",
    "power = power * 10**-3;# in kW\n",
    "#results\n",
    "print \"The total power developed by the armature in kW is\",round(power,2)\n"
   ]
  },
  {
   "cell_type": "markdown",
   "metadata": {},
   "source": [
    "## Example 6: pg 331"
   ]
  },
  {
   "cell_type": "code",
   "execution_count": 6,
   "metadata": {
    "collapsed": false
   },
   "outputs": [
    {
     "name": "stdout",
     "output_type": "stream",
     "text": [
      "The power developed in the armature in kW is 25.3\n"
     ]
    }
   ],
   "source": [
    "#pg 331\n",
    "#calculate the power\n",
    "# Given data\n",
    "V = 200;# in V\n",
    "Ra = 0.5;# in ohm\n",
    "Rsh = 200;# in ohm\n",
    "P = 20;# in kW\n",
    "P = P * 10**3;# in W\n",
    "#calculations\n",
    "# P = V*I_L;\n",
    "I_L =P/V;# in A\n",
    "Ish = V/Rsh;# in A\n",
    "Ia = I_L+Ish;# in A\n",
    "Eg = V + (Ia*Ra);# in V\n",
    "# power developed in the armature \n",
    "power = Eg*Ia;# in W\n",
    "power = power * 10**-3;# in kW\n",
    "#results\n",
    "print \"The power developed in the armature in kW is\",round(power,1)\n"
   ]
  },
  {
   "cell_type": "markdown",
   "metadata": {},
   "source": [
    "## Example 7: pg 332"
   ]
  },
  {
   "cell_type": "code",
   "execution_count": 7,
   "metadata": {
    "collapsed": false
   },
   "outputs": [
    {
     "name": "stdout",
     "output_type": "stream",
     "text": [
      "The total armature current in A is 31.25\n",
      "The generated emf in V is 105.125\n"
     ]
    }
   ],
   "source": [
    "#pg 332\n",
    "#calculate the armature current and emf\n",
    "# Given data\n",
    "P = 60.;\n",
    "A =P;\n",
    "Vbrush = 2;# in V/brush\n",
    "Vt = 100.;# in V\n",
    "Ra = 0.1;# in ohm\n",
    "Rsh = 80;# in ohm\n",
    "#calculations\n",
    "Ish = Vt/Rsh;# in A\n",
    "Ilamp = P/Vt;# in A\n",
    "I_L = 50*Ilamp;# in A\n",
    "# Armature current\n",
    "Ia = I_L+Ish;# in A\n",
    "# Evaluation of generated emf\n",
    "Eg = Vt + (Ia*Ra) + Vbrush;# in V\n",
    "#results\n",
    "print \"The total armature current in A is\",Ia\n",
    "print \"The generated emf in V is\",Eg\n"
   ]
  },
  {
   "cell_type": "markdown",
   "metadata": {},
   "source": [
    "## Example 8: pg 332"
   ]
  },
  {
   "cell_type": "code",
   "execution_count": 8,
   "metadata": {
    "collapsed": false
   },
   "outputs": [
    {
     "name": "stdout",
     "output_type": "stream",
     "text": [
      "The generated voltage for long shunt in V is 503.3\n",
      "The generated voltage for short shunt in V is 501.2\n"
     ]
    }
   ],
   "source": [
    "#pg 332\n",
    "#calculate the generated voltage\n",
    "# Given data\n",
    "V = 440.;# in V\n",
    "I_L =40.;# in A\n",
    "Rse = 1.;# in ohm\n",
    "Rsh = 200.;# in ohm\n",
    "Ra = 0.5;# in ohm\n",
    "#calculations\n",
    "Ish = V/Rsh;# in A\n",
    "Ia = I_L+Ish;# in A\n",
    "Eg = V + (Ia*(Ra+Rse));# in V\n",
    "print \"The generated voltage for long shunt in V is\",Eg\n",
    "#Voltage across shunt field, Vsh = V + Ise*Rse = V + (I_L*Rse);\n",
    "Vsh = V+(I_L*Rse);# in V\n",
    "Ish = Vsh/Rsh;# in A\n",
    "Ia =I_L+Ish;# in A\n",
    "Eg = V + (I_L*Rse) + (Ia*Ra);# in V\n",
    "print \"The generated voltage for short shunt in V is\",Eg\n"
   ]
  },
  {
   "cell_type": "markdown",
   "metadata": {},
   "source": [
    "## Example 9: pg 341"
   ]
  },
  {
   "cell_type": "code",
   "execution_count": 9,
   "metadata": {
    "collapsed": false
   },
   "outputs": [
    {
     "name": "stdout",
     "output_type": "stream",
     "text": [
      "The back emf in V is 428.0\n"
     ]
    }
   ],
   "source": [
    "#pg 341\n",
    "#calculate the back emf\n",
    "# Given data\n",
    "V = 440.;# in V\n",
    "I = 80.;# in A\n",
    "Rse = 0.025;# in ohm\n",
    "Ra = 0.1;# in ohm\n",
    "Bd = 2.;# brush drop in V\n",
    "#calculations\n",
    "Ia = I;# in A\n",
    "Ise = I;# in A\n",
    "Eb = V - (Ia*(Ra+Rse)) - Bd;# in V\n",
    "#results\n",
    "print \"The back emf in V is\",Eb\n"
   ]
  },
  {
   "cell_type": "markdown",
   "metadata": {},
   "source": [
    "## Example 10: pg 341"
   ]
  },
  {
   "cell_type": "code",
   "execution_count": 10,
   "metadata": {
    "collapsed": false
   },
   "outputs": [
    {
     "name": "stdout",
     "output_type": "stream",
     "text": [
      "The armature current in A is 18.75\n",
      "The back emf in V is 244.375\n"
     ]
    }
   ],
   "source": [
    "#pg 341\n",
    "#calculate the armature current and back emf\n",
    "# Given data\n",
    "V = 250.;# in V\n",
    "I_L = 20;# in A\n",
    "Ra = 0.3;# in ohm\n",
    "Rsh = 200;# in ohm\n",
    "#calculations\n",
    "Ish = V/Rsh;# in A\n",
    "# I_L = Ia+Ish;\n",
    "Ia = I_L-Ish;# inA\n",
    "Eb = V-(Ia*Ra);# in V\n",
    "#results\n",
    "print \"The armature current in A is\",Ia\n",
    "print \"The back emf in V is\",Eb\n"
   ]
  },
  {
   "cell_type": "markdown",
   "metadata": {},
   "source": [
    "## Example 11: pg 342"
   ]
  },
  {
   "cell_type": "code",
   "execution_count": 11,
   "metadata": {
    "collapsed": false
   },
   "outputs": [
    {
     "name": "stdout",
     "output_type": "stream",
     "text": [
      "The speed in rpm is 1374.0\n"
     ]
    }
   ],
   "source": [
    "#pg 342\n",
    "#calculate the speed in rpm\n",
    "# Given data\n",
    "P = 4.;\n",
    "A = 2.;#(wave connected)\n",
    "Z = 200.;\n",
    "V=250.;# in V\n",
    "phi = 25.;# in mWb\n",
    "phi = phi * 10**-3;# in Wb\n",
    "Ia = 60;# in A\n",
    "I_L = 60;# in A\n",
    "Ra = 0.15;# in ohm\n",
    "Rse = 0.2;# in ohm\n",
    "#calculations\n",
    "#V = Eb + (Ia*Ra) + (Ia*Rse);\n",
    "Eb = V - (Ia*Ra) - (Ia*Rse);# in V\n",
    "# Eb = (phi*P*N*Z)/(60*A);\n",
    "N = (Eb*60*A)/(phi*P*Z);# in rpm\n",
    "#results\n",
    "print \"The speed in rpm is\",N\n"
   ]
  },
  {
   "cell_type": "markdown",
   "metadata": {},
   "source": [
    "## Example 12: pg 343"
   ]
  },
  {
   "cell_type": "code",
   "execution_count": 12,
   "metadata": {
    "collapsed": false
   },
   "outputs": [
    {
     "name": "stdout",
     "output_type": "stream",
     "text": [
      "The armature resistance in ohm is 0.342\n",
      "The armature current in A is 701.5\n"
     ]
    }
   ],
   "source": [
    "#pg 343\n",
    "#calculate the resistance and current\n",
    "# Given data\n",
    "Eb = 227.;# in V\n",
    "Rsh = 160.;# in ohm\n",
    "Ish = 1.5;# in A\n",
    "I_L = 39.5;# in A\n",
    "#calculations\n",
    "V = Ish*Rsh;# in V\n",
    "Ia = I_L-Ish;# in A\n",
    "#V = Eb + (Ia*Ra);\n",
    "Ra = (V-Eb)/Ia;# in ohm\n",
    "Ia = V/Ra;# in A\n",
    "#results\n",
    "print \"The armature resistance in ohm is\",round(Ra,3)\n",
    "print \"The armature current in A is\",round(Ia,1)\n"
   ]
  },
  {
   "cell_type": "markdown",
   "metadata": {},
   "source": [
    "## Example 13: pg 343"
   ]
  },
  {
   "cell_type": "code",
   "execution_count": 13,
   "metadata": {
    "collapsed": false
   },
   "outputs": [
    {
     "name": "stdout",
     "output_type": "stream",
     "text": [
      "The ratio of speed as a generator to speed as a motor is 1.105\n"
     ]
    }
   ],
   "source": [
    "#pg 343\n",
    "#calculate the ratio of speed\n",
    "# Given data\n",
    "V = 230;# in V\n",
    "Ra = 0.115;# in ohm\n",
    "Rsh = 115.;# in ohm\n",
    "I_L = 100.;# inA\n",
    "#calculations\n",
    "Ish =V/Rsh;# in A\n",
    "Ia = I_L + Ish;# in A\n",
    "Eg = V + (Ia*Ra);# in V\n",
    "Ia = I_L-Ish;# in A\n",
    "Eb = V - (Ia*Ra);# in V\n",
    "# The ratio of speed as a generator to speed as a motor \n",
    "NgBYNm = Eg/Eb;\n",
    "#results\n",
    "print \"The ratio of speed as a generator to speed as a motor is\",round(NgBYNm,3)\n"
   ]
  },
  {
   "cell_type": "markdown",
   "metadata": {},
   "source": [
    "## Example 14: pg 344"
   ]
  },
  {
   "cell_type": "code",
   "execution_count": 14,
   "metadata": {
    "collapsed": false
   },
   "outputs": [
    {
     "name": "stdout",
     "output_type": "stream",
     "text": [
      "The induced voltage in V is 138.24\n"
     ]
    }
   ],
   "source": [
    "#pg 344\n",
    "#calculate the induced voltage\n",
    "# Given data\n",
    "P = 4;\n",
    "slots = 144.;\n",
    "phi = 20.;# in mWb\n",
    "phi = phi * 10**-3;# in Wb\n",
    "N = 720.;# in rpm\n",
    "A = 4.;\n",
    "P =4.;\n",
    "n1 = 2;# in coil/slot\n",
    "n2 = 2;# in turns/coil\n",
    "#calculations\n",
    "Z = slots*n1*n2;# total number of conductor\n",
    "Eg = (N*P*phi*Z)/(60*A);# in V\n",
    "#results\n",
    "print \"The induced voltage in V is\",Eg\n"
   ]
  },
  {
   "cell_type": "markdown",
   "metadata": {},
   "source": [
    "## Example 15: pg 344"
   ]
  },
  {
   "cell_type": "code",
   "execution_count": 15,
   "metadata": {
    "collapsed": false
   },
   "outputs": [
    {
     "name": "stdout",
     "output_type": "stream",
     "text": [
      "The emf when lap is connected in V is 200.0\n",
      "The emf when wave is connected in V is 800.0\n"
     ]
    }
   ],
   "source": [
    "#pg 344\n",
    "#calculate the emf\n",
    "# Given data\n",
    "P = 8;\n",
    "phi = 0.1;# in Wb\n",
    "Z = 400.;\n",
    "N =300.;# in rpm\n",
    "#calculations\n",
    "Eg = (N*phi*Z)/(60);# in V (A = p)\n",
    "print \"The emf when lap is connected in V is\",Eg\n",
    "# For A=2, connected armature\n",
    "A = 2;\n",
    "Eg = (N*phi*P*Z)/(60*A);# in V\n",
    "print \"The emf when wave is connected in V is\",Eg\n"
   ]
  },
  {
   "cell_type": "markdown",
   "metadata": {},
   "source": [
    "## Example 16: pg 345"
   ]
  },
  {
   "cell_type": "code",
   "execution_count": 16,
   "metadata": {
    "collapsed": false
   },
   "outputs": [
    {
     "name": "stdout",
     "output_type": "stream",
     "text": [
      "The power developed in armature in kW is 20.7\n"
     ]
    }
   ],
   "source": [
    "#pg 345\n",
    "#calculate the power \n",
    "# Given data\n",
    "P_L = 20;# in kW\n",
    "P_L = P_L * 10**3;# in W\n",
    "V = 200;# in V\n",
    "Ra = 0.05;# in ohm\n",
    "Rsh = 200.;# in ohm\n",
    "#calculations\n",
    "# P_L = V*I_L;\n",
    "I_L = P_L/V;# in A\n",
    "Ish = V/Rsh;# in A\n",
    "Ia = I_L+Ish;# in A\n",
    "Eg = V + (Ia*Ra);# in V\n",
    "Pa = Eg*Ia;# in W\n",
    "Pa = Pa * 10**-3;# in kW\n",
    "#results\n",
    "print \"The power developed in armature in kW is\",round(Pa,1)\n"
   ]
  },
  {
   "cell_type": "markdown",
   "metadata": {},
   "source": [
    "## Example 17: pg 345"
   ]
  },
  {
   "cell_type": "code",
   "execution_count": 17,
   "metadata": {
    "collapsed": false
   },
   "outputs": [
    {
     "name": "stdout",
     "output_type": "stream",
     "text": [
      "The speed when 30 A current through the armature in rpm is 615.38\n"
     ]
    }
   ],
   "source": [
    "#pg 345\n",
    "#calculate the speed \n",
    "# Given data\n",
    "N1 = 600.;# inrpm\n",
    "I_L1 = 60.;# in A\n",
    "V = 230.;# in V\n",
    "Rsh = 115.;# in ohm\n",
    "Ra= 0.2;# in ohm\n",
    "Ia2 = 30.;# in A\n",
    "#calculations\n",
    "Ish = V/Rsh;# in A\n",
    "Ia1 = I_L1 - Ish;# in A\n",
    "Eb1 = V-(Ia1*Ra);# in V\n",
    "Eb2 = V - (Ia2*Ra);# in V\n",
    "# N1/N2 = Eb1/Eb2;\n",
    "N2 = (N1*Eb2)/Eb1;# in rpm\n",
    "#results\n",
    "print \"The speed when 30 A current through the armature in rpm is\",round(N2,2)\n"
   ]
  },
  {
   "cell_type": "markdown",
   "metadata": {},
   "source": [
    "## Example 18: pg 346"
   ]
  },
  {
   "cell_type": "code",
   "execution_count": 18,
   "metadata": {
    "collapsed": false
   },
   "outputs": [
    {
     "name": "stdout",
     "output_type": "stream",
     "text": [
      "The speed of the motor in rpm is 565.2\n"
     ]
    }
   ],
   "source": [
    "#pg 346\n",
    "#calculate the speed of motor\n",
    "# Given data\n",
    "P = 6;\n",
    "A = 6.;\n",
    "Z = 500.;\n",
    "Ra = 0.05;# in ohm\n",
    "Rsh =25.;# in ohm\n",
    "V = 100.;# in V\n",
    "I_L = 120.;# in A\n",
    "phi = 2*10**-2;# in Wb\n",
    "#calculations\n",
    "Ish = V/Rsh;# in A\n",
    "Ia = I_L-Ish;# in A\n",
    "Eb = V - (Ia*Ra);# in V\n",
    "# Eb = (N*P*phi*Z)/(60*A);\n",
    "N = (Eb*60*A)/(P*phi*Z);# in rpm\n",
    "#results\n",
    "print \"The speed of the motor in rpm is\",N\n"
   ]
  },
  {
   "cell_type": "markdown",
   "metadata": {},
   "source": [
    "## Example 19: pg 346"
   ]
  },
  {
   "cell_type": "code",
   "execution_count": 19,
   "metadata": {
    "collapsed": false
   },
   "outputs": [
    {
     "name": "stdout",
     "output_type": "stream",
     "text": [
      "The change in emf in percent is 96.0\n"
     ]
    }
   ],
   "source": [
    "#pg 346\n",
    "#calculate the change in emf\n",
    "# Given ata\n",
    "N1 = 1;\n",
    "N2 = 1.2*N1;\n",
    "phi1 = 1;\n",
    "phi2 = 0.8*phi1;\n",
    "Eg1BYEg2 = (N1/N2) * (phi1/phi2);\n",
    "Eg1 = 1;# assumed\n",
    "# The change in emf \n",
    "#calculations\n",
    "Eg2 = (Eg1*phi2*N2)/(phi1*N1);\n",
    "Eg2 = Eg2 * 100;# in %\n",
    "#results\n",
    "print \"The change in emf in percent is\",Eg2\n"
   ]
  },
  {
   "cell_type": "markdown",
   "metadata": {},
   "source": [
    "## Example 20: pg 347"
   ]
  },
  {
   "cell_type": "code",
   "execution_count": 21,
   "metadata": {
    "collapsed": false
   },
   "outputs": [
    {
     "name": "stdout",
     "output_type": "stream",
     "text": [
      "Total armature power developed in kW is 26.255\n",
      "Total armature power developed when working as a motor in kW is 23.8046\n"
     ]
    }
   ],
   "source": [
    "#pg 347\n",
    "#calculate the armature power\n",
    "# Given data\n",
    "Pout = 25.;# in kW\n",
    "Pout = Pout*10**3;# in W\n",
    "Vt = 250.;# in V\n",
    "Ra = 0.06;# in ohm\n",
    "Rsh = 100.;# in ohm\n",
    "#calculations\n",
    "# Pout = Vt*I_L;\n",
    "I_L = Pout/Vt;# in A\n",
    "Ish = Vt/Rsh;# in A\n",
    "Ia = I_L+Ish;# in A\n",
    "Eg = Vt + (Ia*Ra);# in V\n",
    "# Total armature power developed when working as a generator \n",
    "Pdeveloped = Eg*Ia;# in W\n",
    "Pdeveloped = Pdeveloped * 10**-3;# in kW\n",
    "print \"Total armature power developed in kW is\",round(Pdeveloped,3)\n",
    "Ia = I_L-Ish;# in A\n",
    "Eb = Vt - (Ia*Ra);# in V\n",
    "# Total armature power developed when working as a motor \n",
    "Pdeveloped = Eb*Ia;# in W\n",
    "Pdeveloped = Pdeveloped * 10**-3;# in kW\n",
    "print \"Total armature power developed when working as a motor in kW is\",round(Pdeveloped,4)\n"
   ]
  },
  {
   "cell_type": "markdown",
   "metadata": {},
   "source": [
    "## Example 21: pg 347"
   ]
  },
  {
   "cell_type": "code",
   "execution_count": 22,
   "metadata": {
    "collapsed": false
   },
   "outputs": [
    {
     "name": "stdout",
     "output_type": "stream",
     "text": [
      "The useful flux per mole when armature is LAP connected in Wb is 0.11\n",
      "The useful flux per mole when armature is WAVE connected in Wb is 0.055\n"
     ]
    }
   ],
   "source": [
    "#pg 347\n",
    "#calculate the useful flux\n",
    "# Given data\n",
    "P = 4.;\n",
    "A = 4.;\n",
    "Turns = 100.;\n",
    "N = 600.;# in rpm\n",
    "Eg = 220.;# in V\n",
    "n = 2.;# no of total conductors\n",
    "Z = n*Turns;\n",
    "#calculations\n",
    "# Eg = (N*P*phi*Z)/(60*A);\n",
    "phi = (Eg*60*A)/(N*P*Z);# in Wb\n",
    "print \"The useful flux per mole when armature is LAP connected in Wb is\",phi\n",
    "A = 2;\n",
    "# Eg = (N*P*phi*Z)/(60*A);\n",
    "phi = (Eg*60*A)/(N*P*Z);# in Wb\n",
    "print \"The useful flux per mole when armature is WAVE connected in Wb is\",phi\n"
   ]
  }
 ],
 "metadata": {
  "kernelspec": {
   "display_name": "Python 2",
   "language": "python",
   "name": "python2"
  },
  "language_info": {
   "codemirror_mode": {
    "name": "ipython",
    "version": 2
   },
   "file_extension": ".py",
   "mimetype": "text/x-python",
   "name": "python",
   "nbconvert_exporter": "python",
   "pygments_lexer": "ipython2",
   "version": "2.7.11"
  }
 },
 "nbformat": 4,
 "nbformat_minor": 0
}
