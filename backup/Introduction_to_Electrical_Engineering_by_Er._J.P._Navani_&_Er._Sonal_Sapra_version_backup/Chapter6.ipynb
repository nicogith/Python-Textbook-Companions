{
 "cells": [
  {
   "cell_type": "markdown",
   "metadata": {},
   "source": [
    "# Chapter 6: Measuring instruments"
   ]
  },
  {
   "cell_type": "markdown",
   "metadata": {},
   "source": [
    "## Example 1: pg 235"
   ]
  },
  {
   "cell_type": "code",
   "execution_count": 1,
   "metadata": {
    "collapsed": false
   },
   "outputs": [
    {
     "name": "stdout",
     "output_type": "stream",
     "text": [
      "The shunt resistance required in (ohm) =  0.163\n"
     ]
    }
   ],
   "source": [
    "#pg 235\n",
    "#calculate the shunt resistance\n",
    "# Given data\n",
    "Rm = 8.;# in ohm\n",
    "Im = 20.;# in mA\n",
    "Im = Im * 10**-3;# in A\n",
    "I = 1.;# in A\n",
    "#calculations\n",
    "# Multiplying factor\n",
    "N = I/Im;\n",
    "# Shunt resistance\n",
    "Rsh = Rm/(N-1);# in ohm\n",
    "#results\n",
    "print \"The shunt resistance required in (ohm) = \",round(Rsh,3)\n",
    " "
   ]
  },
  {
   "cell_type": "markdown",
   "metadata": {},
   "source": [
    "## Example 2: pg 235"
   ]
  },
  {
   "cell_type": "code",
   "execution_count": 2,
   "metadata": {
    "collapsed": false
   },
   "outputs": [
    {
     "name": "stdout",
     "output_type": "stream",
     "text": [
      "The multiplying factor is 241.0\n"
     ]
    }
   ],
   "source": [
    "#pg 235\n",
    "#calculate the multiplying factor\n",
    "# Given data\n",
    "Rm = 6;# in ohm\n",
    "Rsh = 0.025;# in ohm\n",
    "#calculations\n",
    "N = 1 + (Rm/Rsh);# multiplying factor\n",
    "#results\n",
    "print \"The multiplying factor is\",N\n"
   ]
  },
  {
   "cell_type": "markdown",
   "metadata": {},
   "source": [
    "## Example 3: pg 235"
   ]
  },
  {
   "cell_type": "code",
   "execution_count": 3,
   "metadata": {
    "collapsed": false
   },
   "outputs": [
    {
     "name": "stdout",
     "output_type": "stream",
     "text": [
      "The resistance to be connected in parallel in (ohm) =  0.0761\n",
      "The resistance to be connected in series in (ohm) =  661.67\n"
     ]
    }
   ],
   "source": [
    "#pg 235\n",
    "#calculate the resistances to be connected in parallel and series\n",
    "# Given data\n",
    "Rm = 5.;# in ohm\n",
    "Im = 15.;# in mA\n",
    "Im = Im * 10**-3;# in A\n",
    "I = 1.;# in A\n",
    "#calculations\n",
    "N = I/Im;# multiplying factor\n",
    "Rsh = Rm/(N-1);# in ohm\n",
    "print \"The resistance to be connected in parallel in (ohm) = \",round(Rsh,4)\n",
    "V = 10;# in V\n",
    "Rs = (V/Im)-Rm;# in ohm\n",
    "print \"The resistance to be connected in series in (ohm) = \",round(Rs,2)\n"
   ]
  },
  {
   "cell_type": "markdown",
   "metadata": {},
   "source": [
    "## Example 4: pg 236"
   ]
  },
  {
   "cell_type": "code",
   "execution_count": 4,
   "metadata": {
    "collapsed": false
   },
   "outputs": [
    {
     "name": "stdout",
     "output_type": "stream",
     "text": [
      "The current range of instrument in A is 50.0\n"
     ]
    }
   ],
   "source": [
    "#pg 236\n",
    "#calculate the current range of the instrument\n",
    "# Given data\n",
    "V=250.;# full scale voltage reading in V\n",
    "Rm = 2.;# in ohm\n",
    "Rsh = 2.;# in m ohm\n",
    "Rsh = Rsh * 10**-3;# in ohm\n",
    "R = 5000.;# in ohm\n",
    "#calculations\n",
    "Im = V/(Rm+R);# in A\n",
    "Ish = (Im*Rm)/Rsh;# in A\n",
    "# Current range of instrument\n",
    "I = Im+Ish;# in A\n",
    "#results\n",
    "print \"The current range of instrument in A is\",round(I)\n"
   ]
  },
  {
   "cell_type": "markdown",
   "metadata": {},
   "source": [
    "## Example 5: pg 236"
   ]
  },
  {
   "cell_type": "code",
   "execution_count": 5,
   "metadata": {
    "collapsed": false
   },
   "outputs": [
    {
     "name": "stdout",
     "output_type": "stream",
     "text": [
      "The percentage error in (percentage) is 249.38\n",
      "The answer is a bit different from textbook due to rounding off error\n"
     ]
    }
   ],
   "source": [
    "#pg 236\n",
    "#calculate the percentage error\n",
    "import math\n",
    "from math import acos,pi,cos\n",
    "# Given data\n",
    "V = 230.;# in V\n",
    "I = 35.;# in A\n",
    "N = 200.;\n",
    "t = 64.;# in sec\n",
    "kwh = 500.;\n",
    "#calculations\n",
    "phi= acos(0.8);# in radians\n",
    "Er = N/kwh;# in kWh\n",
    "Et =  V*I*cos(phi)*t;# in Joules\n",
    "Et = Et/3600.;# in W hour\n",
    "Et = Et * 10**-3;# in kWh\n",
    "# percentage error\n",
    "PerError = ((Er-Et)/Et)*100;# in %\n",
    "#results\n",
    "print \"The percentage error in (percentage) is\",round(PerError,2)\n",
    "print 'The answer is a bit different from textbook due to rounding off error'\n"
   ]
  },
  {
   "cell_type": "markdown",
   "metadata": {},
   "source": [
    "## Example 6: pg 237"
   ]
  },
  {
   "cell_type": "code",
   "execution_count": 6,
   "metadata": {
    "collapsed": false
   },
   "outputs": [
    {
     "name": "stdout",
     "output_type": "stream",
     "text": [
      "The percentage error in (percentage) is  3.22\n",
      "The answer is a bit different from textbook due to rounding off error\n"
     ]
    }
   ],
   "source": [
    "#pg 237\n",
    "#calculate the percentage error\n",
    "from math import acos,cos,pi\n",
    "# Given data\n",
    "I = 50.;# in A\n",
    "V = 230.;# in V\n",
    "N = 61.;\n",
    "t = 37.;# in sec\n",
    "KWh = 500.;\n",
    "#calculations\n",
    "phi= acos(1);# in radians\n",
    "Er = N/KWh;# in kWh\n",
    "Et = V*I*cos(phi)*t;# in Joules\n",
    "Et = Et/3600.;# in Wh\n",
    "Et = Et*10**-3;# in kWh\n",
    "# Percentage error\n",
    "PerError = ((Er-Et)/Et)*100;# in %\n",
    "#results\n",
    "print \"The percentage error in (percentage) is \",round(PerError,2)\n",
    "print 'The answer is a bit different from textbook due to rounding off error'"
   ]
  },
  {
   "cell_type": "markdown",
   "metadata": {},
   "source": [
    "## Example 7: pg 237"
   ]
  },
  {
   "cell_type": "code",
   "execution_count": 7,
   "metadata": {
    "collapsed": false
   },
   "outputs": [
    {
     "name": "stdout",
     "output_type": "stream",
     "text": [
      "The series resistance in ohm is 24997.5\n"
     ]
    }
   ],
   "source": [
    "#pg 237\n",
    "#calculate the series resistance\n",
    "# Given data\n",
    "Im = 20.;# in mA\n",
    "Im =  Im * 10**-3;# in A\n",
    "Vm = 50.;# in mV\n",
    "Vm = Vm * 10**-3;# in V\n",
    "V = 500.;# in V\n",
    "#calculations\n",
    "Rm = Vm/Im;# in ohm\n",
    "Rs = (V/Im)-Rm;# in ohm\n",
    "#results\n",
    "print \"The series resistance in ohm is\",Rs\n"
   ]
  },
  {
   "cell_type": "markdown",
   "metadata": {},
   "source": [
    "## Example 8: pg 238"
   ]
  },
  {
   "cell_type": "code",
   "execution_count": 8,
   "metadata": {
    "collapsed": false
   },
   "outputs": [
    {
     "name": "stdout",
     "output_type": "stream",
     "text": [
      "The value of Rs in (ohm) is 9950.0\n",
      "The value of Rsh in (ohm) is 0.505\n"
     ]
    }
   ],
   "source": [
    "#pg 238\n",
    "#calculate the values of resistances\n",
    "# Given data\n",
    "Rm = 50;# in ohm\n",
    "Im = 10;# in mA\n",
    "Im = Im * 10**-3;# in A\n",
    "V = 100;# in V\n",
    "#calculations\n",
    "Rs = (V/Im)-Rm;# in ohm\n",
    "print \"The value of Rs in (ohm) is\",Rs\n",
    "N = 1/Im;\n",
    "Rsh = Rm/(N-1);# in ohm\n",
    "print \"The value of Rsh in (ohm) is\",round(Rsh,3)\n"
   ]
  },
  {
   "cell_type": "markdown",
   "metadata": {},
   "source": [
    "## Example 9: pg 238"
   ]
  },
  {
   "cell_type": "code",
   "execution_count": 9,
   "metadata": {
    "collapsed": false
   },
   "outputs": [
    {
     "name": "stdout",
     "output_type": "stream",
     "text": [
      "The percentage error in (percentage) is 2.08\n"
     ]
    }
   ],
   "source": [
    "#pg 238\n",
    "#calculate the percentage error\n",
    "# Given data\n",
    "from math import acos,cos\n",
    "I = 40.;# in A\n",
    "V = 230.;# in V\n",
    "N = 600.;\n",
    "t = 46.;# in sec\n",
    "#calculations\n",
    "phi= acos(1);# in radians\n",
    "P = V*I*cos(phi);# in W\n",
    "P = P * 10**-3;# in kW\n",
    "# 1 kWh = 500 revolution \n",
    "P = P * 500.;# in revolution\n",
    "T = (3600./t)*60;# in revolution\n",
    "# Percentage error\n",
    "PerError = ((T-P)/P)*100;# in %\n",
    "#results\n",
    "print \"The percentage error in (percentage) is\",round(PerError,2)\n"
   ]
  },
  {
   "cell_type": "markdown",
   "metadata": {},
   "source": [
    "## Example 10: pg 238"
   ]
  },
  {
   "cell_type": "code",
   "execution_count": 11,
   "metadata": {
    "collapsed": false
   },
   "outputs": [
    {
     "name": "stdout",
     "output_type": "stream",
     "text": [
      "The percentage error in (percentage) is 4.167\n"
     ]
    }
   ],
   "source": [
    "#pg 238\n",
    "#calculate the percentage error\n",
    "# Given data\n",
    "N = 100.;\n",
    "I = 20.;# in A\n",
    "V = 210.;# in V\n",
    "pf = 0.8;# in lad\n",
    "Er = 350.;# in rev\n",
    "a = 3.36;# assumed\n",
    "#calculations\n",
    "Et = (a*3600.)/3600;# in kWh\n",
    "# 1 kWh = 100;#  revolution\n",
    "Et = Et*N;# revolution\n",
    "# Percentage error\n",
    "PerError = ((Er-Et)/Et)*100;# in %\n",
    "#results\n",
    "print \"The percentage error in (percentage) is\",round(PerError,3)\n"
   ]
  },
  {
   "cell_type": "markdown",
   "metadata": {},
   "source": [
    "## Example 11: pg 239"
   ]
  },
  {
   "cell_type": "code",
   "execution_count": 12,
   "metadata": {
    "collapsed": false
   },
   "outputs": [
    {
     "name": "stdout",
     "output_type": "stream",
     "text": [
      "The percentage error in (percentage) is 3.22\n"
     ]
    }
   ],
   "source": [
    "#pg 239\n",
    "#calculate the percentage error\n",
    "# Given data\n",
    "I = 5.;# in A\n",
    "V = 230.;# in V\n",
    "N = 61.;# number of revolution\n",
    "t = 37.;# in sec\n",
    "# speed of the disc\n",
    "discSpeed= 500.;# in rev/kWh\n",
    "#calculations\n",
    "Er = N/discSpeed;\n",
    "Et = (V*I*t)/(3600*100);\n",
    "# percentage error\n",
    "PerError = ((Er-Et)/Et)*100;# in %\n",
    "#results\n",
    "print \"The percentage error in (percentage) is\",round(PerError,2)\n"
   ]
  }
 ],
 "metadata": {
  "kernelspec": {
   "display_name": "Python 2",
   "language": "python",
   "name": "python2"
  },
  "language_info": {
   "codemirror_mode": {
    "name": "ipython",
    "version": 2
   },
   "file_extension": ".py",
   "mimetype": "text/x-python",
   "name": "python",
   "nbconvert_exporter": "python",
   "pygments_lexer": "ipython2",
   "version": "2.7.11"
  }
 },
 "nbformat": 4,
 "nbformat_minor": 0
}
