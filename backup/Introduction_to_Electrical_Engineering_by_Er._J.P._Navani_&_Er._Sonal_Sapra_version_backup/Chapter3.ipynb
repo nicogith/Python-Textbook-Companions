{
 "cells": [
  {
   "cell_type": "markdown",
   "metadata": {},
   "source": [
    "# Chapter 3: AC Fundamentals"
   ]
  },
  {
   "cell_type": "markdown",
   "metadata": {},
   "source": [
    "## Example 2: pg 119"
   ]
  },
  {
   "cell_type": "code",
   "execution_count": 1,
   "metadata": {
    "collapsed": false
   },
   "outputs": [
    {
     "name": "stdout",
     "output_type": "stream",
     "text": [
      "The maximum value of current in A is 141.4\n",
      "The frequency in Hz is 50.0\n",
      "The time period in sec is 0.02\n",
      "The instantaneous value in A is 114.36\n"
     ]
    }
   ],
   "source": [
    "#pg 119\n",
    "#calculate the max. current, frequency and instantaneous current\n",
    "import math\n",
    "# Given data\n",
    "Im = 141.4;# in A\n",
    "t = 3;# in ms\n",
    "t = t * 10**-3;# in sec\n",
    "#calculations\n",
    "omega = 314;# in rad/sec\n",
    "# omega = 2*%pi*f;\n",
    "f = round(omega/(2*math.pi));# in Hz\n",
    "T = 1/f;# in sec\n",
    "i = 141.4 * math.sin(omega*t);# in A\n",
    "#results\n",
    "print \"The maximum value of current in A is\",Im\n",
    "print \"The frequency in Hz is\",f\n",
    "print \"The time period in sec is\",T\n",
    "print \"The instantaneous value in A is\",round(i,2)\n"
   ]
  },
  {
   "cell_type": "markdown",
   "metadata": {},
   "source": [
    "## Example 3: pg 119"
   ]
  },
  {
   "cell_type": "code",
   "execution_count": 2,
   "metadata": {
    "collapsed": false
   },
   "outputs": [
    {
     "name": "stdout",
     "output_type": "stream",
     "text": [
      "The value of current after 1/360 sec in A is 103.92\n",
      "The time taken to reach 96 A for the first time in sec is 0.00246\n"
     ]
    }
   ],
   "source": [
    "#pg 119\n",
    "#calculate the current and time taken\n",
    "# Given data\n",
    "from math import sin,asin,pi\n",
    "f = 60.;# in Hz\n",
    "Im = 120.;# in A\n",
    "t = 1/360.;# in sec\n",
    "#calculations\n",
    "omega = 2*pi*f;# in rad/sec\n",
    "i = Im*sin(omega*t);# in A\n",
    "print \"The value of current after 1/360 sec in A is\",round(i,2)\n",
    "i = 96;# in A\n",
    "# i = Im*sind(omega*t);\n",
    "t = (asin(i/Im))/omega;# in sec\n",
    "print \"The time taken to reach 96 A for the first time in sec is\",round(t,5)\n"
   ]
  },
  {
   "cell_type": "markdown",
   "metadata": {},
   "source": [
    "## Example 4: pg 120"
   ]
  },
  {
   "cell_type": "code",
   "execution_count": 3,
   "metadata": {
    "collapsed": false
   },
   "outputs": [
    {
     "name": "stdout",
     "output_type": "stream",
     "text": [
      "The average value in A is 15.0\n",
      "The RMS value in A is 17.8\n",
      "The form factor is 1.19\n",
      "The peak factor is 1.69\n"
     ]
    }
   ],
   "source": [
    "#pg 120\n",
    "#calculate the average, RMS values of current. also find form and peak factors\n",
    "from math import sqrt\n",
    "# Given data\n",
    "i1 = 0;# in A\n",
    "i2 = 10.;# in A\n",
    "i3 = 20.;# in A\n",
    "i4 = 30.;# in A\n",
    "i5 = 20.;#in A\n",
    "i6 = 10.;# in A\n",
    "n = 6.;# unit less\n",
    "#calculations\n",
    "Iav = (i1+i2+i3+i4+i5+i6)/n;# in A\n",
    "print \"The average value in A is\",Iav\n",
    "Irms = sqrt(( (i1**2) + (i2**2) + (i3**2) + (i4**2) + (i5**2) + (i6**2) )/n);# in A\n",
    "print \"The RMS value in A is\",round(Irms,1)\n",
    "k_f = Irms/Iav;# unit less\n",
    "print \"The form factor is\",round(k_f,2)\n",
    "Im = 30;# in A\n",
    "k_p = Im/Irms;# unit less\n",
    "print \"The peak factor is\",round(k_p,2)\n"
   ]
  },
  {
   "cell_type": "markdown",
   "metadata": {},
   "source": [
    "## Example 5: pg 121"
   ]
  },
  {
   "cell_type": "code",
   "execution_count": 4,
   "metadata": {
    "collapsed": false
   },
   "outputs": [
    {
     "name": "stdout",
     "output_type": "stream",
     "text": [
      "The phase difference in degree is 105.0\n"
     ]
    }
   ],
   "source": [
    "#pg 121\n",
    "#calculate the phase difference\n",
    "# Given data\n",
    "theta1 = 60.;# in degree\n",
    "theta2 = -45.;# in degree\n",
    "#calculations\n",
    "# phase difference \n",
    "phi = theta1-theta2;# in degree\n",
    "#results\n",
    "print \"The phase difference in degree is\",phi\n"
   ]
  },
  {
   "cell_type": "markdown",
   "metadata": {},
   "source": [
    "## Example 6: pg 121"
   ]
  },
  {
   "cell_type": "code",
   "execution_count": 5,
   "metadata": {
    "collapsed": false
   },
   "outputs": [
    {
     "name": "stdout",
     "output_type": "stream",
     "text": [
      "The sum of V1 and V2 is : \n",
      "87.178  sin (theta -23.41 ) V\n",
      "The difference of V1 and V2 is : \n",
      "52.915  sin (theta+ 40.893 ) V\n"
     ]
    }
   ],
   "source": [
    "#pg 121\n",
    "#calculate the sum and difference\n",
    "# Given data\n",
    "import cmath,numpy\n",
    "from math import cos,sin,atan,pi\n",
    "V1= 60*(cos(0*pi/180) + 1j*sin(0*pi/180));# in V\n",
    "V2= 40*(cos(-pi/3.) +1j*sin(-pi/3));# in V\n",
    "#calculations\n",
    "add_V= V1+V2;# in V\n",
    "diff_V= V1-V2;# in V\n",
    "#results\n",
    "print \"The sum of V1 and V2 is : \"\n",
    "print round(abs(add_V),3),\" sin (theta\",round(numpy.angle(add_V)*180/pi,2),\") V\"\n",
    "print \"The difference of V1 and V2 is : \"\n",
    "print round(abs(diff_V),3),\" sin (theta+\",round(numpy.angle(diff_V)*180/pi,3),\") V\"\n",
    "\n"
   ]
  },
  {
   "cell_type": "markdown",
   "metadata": {},
   "source": [
    "## Example 7: pg 121"
   ]
  },
  {
   "cell_type": "code",
   "execution_count": 6,
   "metadata": {
    "collapsed": false
   },
   "outputs": [
    {
     "name": "stdout",
     "output_type": "stream",
     "text": [
      "The average value of output voltage in volts is :  0.318 *Vo or Vo/pi\n",
      "The R.M.S value of output voltage in volts is :   0.5 *Vo or Vo/2\n",
      "The form factor is :  1.57\n"
     ]
    }
   ],
   "source": [
    "#pg 121\n",
    "#calculate the average, rms value of current and form factor\n",
    "# Given data\n",
    "import math,scipy\n",
    "from scipy import integrate\n",
    "from math import cos,sqrt,pi,sin\n",
    "Vo= 1;# in V (assumed)\n",
    "#calculations\n",
    "fun1 = lambda theta:Vo*sin(theta)\n",
    "fun2= lambda theta: Vo**2*(1-cos(2*theta))/2\n",
    "Vav= scipy.integrate.quad(fun1,0,pi)[0]/(2*pi);\n",
    "Vrms= sqrt(scipy.integrate.quad(fun2,0,pi)[0])*sqrt(1./(2*pi));\n",
    "kf= Vrms/Vav;\n",
    "#results\n",
    "print \"The average value of output voltage in volts is : \",round(Vav,3),\"*Vo or Vo/pi\"\n",
    "print \"The R.M.S value of output voltage in volts is :  \",Vrms,\"*Vo or Vo/2\"\n",
    "print \"The form factor is : \",round(kf,2)\n"
   ]
  },
  {
   "cell_type": "markdown",
   "metadata": {},
   "source": [
    "## Example 8: pg 123"
   ]
  },
  {
   "cell_type": "code",
   "execution_count": 7,
   "metadata": {
    "collapsed": false
   },
   "outputs": [
    {
     "name": "stdout",
     "output_type": "stream",
     "text": [
      "The average value of voltage in V is 6.67\n",
      "The R.M.S value of voltage in V is 11.5\n"
     ]
    }
   ],
   "source": [
    "#pg 123\n",
    "#calculate the average and rms value of voltage\n",
    "# Given data\n",
    "from scipy import integrate\n",
    "from math import sqrt\n",
    "T = 0.3;# in sec\n",
    "V = 20;# in V\n",
    "#calculations\n",
    "fun1 = lambda t:1\n",
    "Vav = 1/T*V*integrate.quad(fun1,0,0.1)[0]\n",
    "Vrms =sqrt(1/T*V**2*integrate.quad(fun1,0,0.1)[0]) \n",
    "#results\n",
    "print \"The average value of voltage in V is\",round(Vav,2)\n",
    "print \"The R.M.S value of voltage in V is\",round(Vrms,1)\n"
   ]
  },
  {
   "cell_type": "markdown",
   "metadata": {},
   "source": [
    "## Example 9: pg 123"
   ]
  },
  {
   "cell_type": "code",
   "execution_count": 8,
   "metadata": {
    "collapsed": false
   },
   "outputs": [
    {
     "name": "stdout",
     "output_type": "stream",
     "text": [
      "Rectangular form of the voltage in V is :  61.24 +1j* 35.36\n",
      "Polar form of the voltage :\n",
      "Magnitude of voltage in V is :  70.7107  V\n",
      "Angle is :  30.0  degree\n"
     ]
    }
   ],
   "source": [
    "#pg 123\n",
    "#calculate the polar and rectangular form of voltage\n",
    "# Given data\n",
    "import cmath,numpy\n",
    "from math import pi,sqrt,cos,sin\n",
    "Vm = 100;# in V\n",
    "phi = pi/6;# in degree\n",
    "#calculations\n",
    "Vrms = Vm/(sqrt(2.));# in V\n",
    "# Rectangular form of the voltage \n",
    "RectForm= Vrms*(cos(phi) + 1j*sin(phi))\n",
    "#results\n",
    "print \"Rectangular form of the voltage in V is : \",round(RectForm.real,2),\"+1j*\",round(RectForm.imag,2)\n",
    "print \"Polar form of the voltage :\"\n",
    "print \"Magnitude of voltage in V is : \",round(abs(RectForm),4),\" V\"\n",
    "print \"Angle is : \",round(numpy.angle(RectForm)*180/pi,3),\" degree\"\n"
   ]
  },
  {
   "cell_type": "markdown",
   "metadata": {},
   "source": [
    "## Example 10: pg 123"
   ]
  },
  {
   "cell_type": "code",
   "execution_count": 10,
   "metadata": {
    "collapsed": false
   },
   "outputs": [
    {
     "name": "stdout",
     "output_type": "stream",
     "text": [
      "The R.M.S. value of the resultant in volts is :  216.42\n"
     ]
    }
   ],
   "source": [
    "#pg 123\n",
    "#calculate the rms value \n",
    "# Given data\n",
    "import cmath,math,scipy\n",
    "from scipy.linalg import expm\n",
    "from math import sqrt,pi\n",
    "from cmath import exp\n",
    "V1= 100/sqrt(2)*exp(1j*0.*pi/180);# in V\n",
    "V2= 200/sqrt(2)*exp(1j*60.*pi/180);# in V\n",
    "V3= 50/sqrt(2)*exp(1j*-90.*pi/180);# in V\n",
    "V4= 150/sqrt(2)*exp(1j*-45.*pi/180);# in V\n",
    "#calculations\n",
    "# The R.M.S. value of the resultant \n",
    "V_R= V1.real+V2.real+V3.real+V4.real;# in V\n",
    "#results\n",
    "print \"The R.M.S. value of the resultant in volts is : \",round(V_R,2)\n",
    "\n"
   ]
  },
  {
   "cell_type": "markdown",
   "metadata": {},
   "source": [
    "## Example 11: pg 124"
   ]
  },
  {
   "cell_type": "code",
   "execution_count": 11,
   "metadata": {
    "collapsed": false
   },
   "outputs": [
    {
     "name": "stdout",
     "output_type": "stream",
     "text": [
      "The value of current after 1/200 sec in A is 10\n",
      "The time to reach 10 A in ms is 1.9357\n",
      "The average value in A is 9.555\n"
     ]
    }
   ],
   "source": [
    "#pg 124\n",
    "#calculate the current and time\n",
    "from math import pi,sin,asin\n",
    "# Given data\n",
    "Im = 15.;# in A\n",
    "f = 60.;# in Hz\n",
    "#calculations\n",
    "omega = 2*pi * f;# in rad/sec\n",
    "t = 1/200.;# in sec\n",
    "i = Im*sin(omega*t);# in A\n",
    "i = 10;# in A\n",
    "# i = Im*sind(omega*t);\n",
    "print \"The value of current after 1/200 sec in A is\",i\n",
    "t = (asin(i/Im))/omega;# in sec\n",
    "t = t * 10**3;# in ms\n",
    "print \"The time to reach 10 A in ms is\",round(t,4)\n",
    "Iav = Im*0.637;# in A\n",
    "print \"The average value in A is\",Iav\n"
   ]
  },
  {
   "cell_type": "markdown",
   "metadata": {},
   "source": [
    "## Example 12: pg 125"
   ]
  },
  {
   "cell_type": "code",
   "execution_count": 12,
   "metadata": {
    "collapsed": false
   },
   "outputs": [
    {
     "name": "stdout",
     "output_type": "stream",
     "text": [
      "The maximum value of current in A is 42.42\n",
      "The frequency in Hz is 100.0\n",
      "The rms value in A is 30.0\n",
      "The average value in A is 27.0\n",
      "The form factor is 1.11\n"
     ]
    }
   ],
   "source": [
    "#pg 125\n",
    "#calculate the current, frequency, form factor\n",
    "# Given data\n",
    "from math import sqrt,pi,sin\n",
    "Im = 42.42;# in A\n",
    "omega = 628;# in rad/sec\n",
    "t = 1/6.977;# in sec assumed \n",
    "#calculations\n",
    "i = Im*sin(omega*t/180*pi);# in A\n",
    "print \"The maximum value of current in A is\",round(i,2)\n",
    "# omega = 2*%pi*f;\n",
    "f = omega/(2*pi);# in Hz\n",
    "print \"The frequency in Hz is\",round(f)\n",
    "Irms = Im/(sqrt(2));# in A\n",
    "print \"The rms value in A is\",round(Irms)\n",
    "Iav = (2*Im)/pi;# in A\n",
    "print \"The average value in A is\",round(Iav)\n",
    "k_f = Irms/Iav;\n",
    "print \"The form factor is\",round(k_f,2)\n"
   ]
  },
  {
   "cell_type": "markdown",
   "metadata": {},
   "source": [
    "## Example 13: pg 125 "
   ]
  },
  {
   "cell_type": "code",
   "execution_count": 13,
   "metadata": {
    "collapsed": false
   },
   "outputs": [
    {
     "name": "stdout",
     "output_type": "stream",
     "text": [
      "The power factor is 0.866\n",
      "The R.M.S value of current in A is 15.5563\n",
      "The frequency in Hz is 50.0\n"
     ]
    }
   ],
   "source": [
    "#pg 125\n",
    "#calculate the power factor, rms value and frequency\n",
    "# Given data\n",
    "from math import cos,pi,sqrt\n",
    "phi = pi/6;\n",
    "#calculations\n",
    "# Power factor\n",
    "powerfactor = cos(phi);# in lag\n",
    "print \"The power factor is\",round(powerfactor,3)\n",
    "Im = 22.;# in A\n",
    "# The R.M.S value of current \n",
    "Irms = Im/sqrt(2);# in A\n",
    "print \"The R.M.S value of current in A is\",round(Irms,4)\n",
    "omega = 314;# in rad/sec\n",
    "# omega = 2*%pi*f;\n",
    "f = omega/(2*pi);# in Hz\n",
    "print \"The frequency in Hz is\",round(f)\n"
   ]
  },
  {
   "cell_type": "markdown",
   "metadata": {},
   "source": [
    "## Example 14: pg 126"
   ]
  },
  {
   "cell_type": "code",
   "execution_count": 14,
   "metadata": {
    "collapsed": false
   },
   "outputs": [
    {
     "name": "stdout",
     "output_type": "stream",
     "text": [
      "The R.M.S value of current in A is :  70.7107\n",
      "The average value of current in A is :  63.662\n",
      "The form factor is :  1.11\n"
     ]
    }
   ],
   "source": [
    "#pg 126\n",
    "#calculate tghe form factor, average and rms value of current\n",
    "# Given data\n",
    "from math import sqrt,sin,cos,pi\n",
    "from scipy import integrate\n",
    "Im= 100.;# in A\n",
    "#calculations\n",
    "fun1 = lambda theta:1-cos(2*theta)\n",
    "Irms= sqrt(Im**2/2*integrate.quad(fun1,0,pi)[0]/pi);# in A\n",
    "print \"The R.M.S value of current in A is : \",round(Irms,4)\n",
    "fun2 = lambda theta:sin(theta)\n",
    "Iav= Im*integrate.quad(fun2,0,pi)[0]/pi;# in A\n",
    "print \"The average value of current in A is : \",round(Iav,4)\n",
    "# The form factor \n",
    "kf= Irms/Iav;\n",
    "print \"The form factor is : \",round(kf,2)\n"
   ]
  },
  {
   "cell_type": "markdown",
   "metadata": {},
   "source": [
    "## Example 15: pg 127"
   ]
  },
  {
   "cell_type": "code",
   "execution_count": 15,
   "metadata": {
    "collapsed": false
   },
   "outputs": [
    {
     "name": "stdout",
     "output_type": "stream",
     "text": [
      "The form factor is :  1.155\n"
     ]
    }
   ],
   "source": [
    "#pg 127\n",
    "# Given data\n",
    "from math import sqrt\n",
    "from scipy import integrate\n",
    "A= 2*10;# area under curve for a cycle\n",
    "B= 2;# base of half cycle\n",
    "#calculations\n",
    "Vav= 1./2*A/B;# in V\n",
    "# For line AB\n",
    "y1= 0;\n",
    "y2= 10.;\n",
    "x1= 0;\n",
    "x2= 1.;\n",
    "m_for_AB= (y2-y1)/(x2-x1);\n",
    "# For line BC\n",
    "y1= 10.;\n",
    "y2= 0;\n",
    "x1= 1;\n",
    "x2= 2;\n",
    "m_for_BC= (y2-y1)/(x2-x1);\n",
    "fun1=lambda t:(m_for_AB*t)**2\n",
    "fun2= lambda t:(m_for_BC*t+20)**2\n",
    "Vrms= sqrt((integrate.quad(fun1,0,1)[0]+integrate.quad(fun2,1,2)[0])/2.);# in V\n",
    "kf= Vrms/Vav;\n",
    "print \"The form factor is : \",round(kf,3)\n"
   ]
  }
 ],
 "metadata": {
  "kernelspec": {
   "display_name": "Python 2",
   "language": "python",
   "name": "python2"
  },
  "language_info": {
   "codemirror_mode": {
    "name": "ipython",
    "version": 2
   },
   "file_extension": ".py",
   "mimetype": "text/x-python",
   "name": "python",
   "nbconvert_exporter": "python",
   "pygments_lexer": "ipython2",
   "version": "2.7.11"
  }
 },
 "nbformat": 4,
 "nbformat_minor": 0
}
