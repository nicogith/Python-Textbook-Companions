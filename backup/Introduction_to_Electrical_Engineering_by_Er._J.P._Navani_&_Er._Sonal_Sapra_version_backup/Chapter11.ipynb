{
 "cells": [
  {
   "cell_type": "markdown",
   "metadata": {},
   "source": [
    "# Chapter 11: Induction Motors"
   ]
  },
  {
   "cell_type": "markdown",
   "metadata": {},
   "source": [
    "## Example 1: pg 363"
   ]
  },
  {
   "cell_type": "code",
   "execution_count": 1,
   "metadata": {
    "collapsed": false
   },
   "outputs": [
    {
     "name": "stdout",
     "output_type": "stream",
     "text": [
      "The speed of the motor in rpm is 1440.0\n",
      "The synchronous speed in rpm is 1500.0\n",
      "The rotor current frequency in Hz is 16.7\n"
     ]
    }
   ],
   "source": [
    "#pg 363\n",
    "#calculate the synchronous speed, speed and rotor current\n",
    "#  Given data\n",
    "P = 4.;\n",
    "f = 50.;#  in Hz\n",
    "s = 4.;\n",
    "#calculations\n",
    "Ns = (120*f)/P;#  in rpm\n",
    "# s = ((Ns-N)/Ns)*100;\n",
    "N = Ns - ( (s*Ns)/100. );#  in rpm\n",
    "print \"The speed of the motor in rpm is\",N\n",
    "N = 1000.;#  in rpm\n",
    "s = ((Ns-N)/Ns);\n",
    "f_desh= s*f;#  in Hz\n",
    "#results\n",
    "print \"The synchronous speed in rpm is\",Ns\n",
    "print \"The rotor current frequency in Hz is\",round(f_desh,1)\n"
   ]
  },
  {
   "cell_type": "markdown",
   "metadata": {},
   "source": [
    "## Example 2: pg 363"
   ]
  },
  {
   "cell_type": "code",
   "execution_count": 2,
   "metadata": {
    "collapsed": false
   },
   "outputs": [
    {
     "name": "stdout",
     "output_type": "stream",
     "text": [
      "The slip in percentage is 4.0\n",
      "The speed of the motor in rpm is 1440.0\n",
      "The answer is a bit different due to rounding off error in textbook\n"
     ]
    }
   ],
   "source": [
    "#pg 363\n",
    "#calculate the slip and speed\n",
    "#  Given data\n",
    "f = 50.;#  in Hz\n",
    "P = 4.;\n",
    "f_DASH = 2;#  in Hz\n",
    "#calculations\n",
    "#  f_DASH = s*f;\n",
    "s = (f_DASH/f)*100;#  in %\n",
    "N_S = (120*f)/P;#  in rpm\n",
    "#  s = (N_S-N)/N_S;\n",
    "N = N_S - (s/100*N_S);#  in rpm\n",
    "#results\n",
    "print \"The slip in percentage is\",s\n",
    "print \"The speed of the motor in rpm is\",N\n",
    "print 'The answer is a bit different due to rounding off error in textbook'"
   ]
  },
  {
   "cell_type": "markdown",
   "metadata": {},
   "source": [
    "## Example 3: pg 364"
   ]
  },
  {
   "cell_type": "code",
   "execution_count": 3,
   "metadata": {
    "collapsed": false
   },
   "outputs": [
    {
     "name": "stdout",
     "output_type": "stream",
     "text": [
      "The synchronous speed in rpm is 1000.0\n",
      "No load speed in rpm is 990.0\n",
      "The full load speed in rpm is 970.0\n",
      "The frequency of rotor current in Hz is 50.0\n",
      "The frequency of rotor current at full load in Hz is 1.5\n",
      "Note : The calculated value of Nnl is wrong and value of Nfl is correct but at last they printed wrong.\n"
     ]
    }
   ],
   "source": [
    "#pg 364\n",
    "#calculate the speed, frequency\n",
    "#  Given data\n",
    "P = 6.;\n",
    "f = 50.;#  in Hz\n",
    "Snl = 1./100;\n",
    "Sfl = 3./100;\n",
    "#calculations\n",
    "N_S = (120.*f)/P;#  in rpm\n",
    "print \"The synchronous speed in rpm is\",N_S\n",
    "Nnl = N_S*(1-Snl);#  in rpm\n",
    "print \"No load speed in rpm is\",Nnl\n",
    "Nfl = N_S*(1-Sfl);#  in rpm.. correction \n",
    "print \"The full load speed in rpm is\",Nfl\n",
    "#  frequency of rotor current \n",
    "s = 1;\n",
    "Sf = s*f;#  in Hz\n",
    "print \"The frequency of rotor current in Hz is\",Sf\n",
    "#  frequency of rotor current at full load \n",
    "f_r = Sfl * f;#  in Hz\n",
    "print \"The frequency of rotor current at full load in Hz is\",f_r\n",
    "\n",
    "print 'Note : The calculated value of Nnl is wrong and value of Nfl is correct but at last they printed wrong.'\n"
   ]
  },
  {
   "cell_type": "markdown",
   "metadata": {},
   "source": [
    "## Example 4: pg 364"
   ]
  },
  {
   "cell_type": "code",
   "execution_count": 4,
   "metadata": {
    "collapsed": false
   },
   "outputs": [
    {
     "name": "stdout",
     "output_type": "stream",
     "text": [
      "The numbers of pole is :  4.0\n",
      "The percentage slip is :  4.0\n"
     ]
    }
   ],
   "source": [
    "#pg 364\n",
    "#calculate the numbers and percentage slip\n",
    "#  Given data\n",
    "Pa= 12.;\n",
    "N= 1440.;#  in rpm\n",
    "Na= 500.;#  in rpm\n",
    "Nm= 1450.;#  in rpm\n",
    "#calculations\n",
    "fa= Pa*Na/120;#  in Hz\n",
    "Pm= round(120*fa/Nm);\n",
    "#  Synchronous speed of motor\n",
    "Ns= 120*fa/Pm;#  in rpm\n",
    "s= (Ns-N)/Ns*100;#  in percentage\n",
    "#results\n",
    "print \"The numbers of pole is : \",Pm\n",
    "print \"The percentage slip is : \",s\n"
   ]
  },
  {
   "cell_type": "markdown",
   "metadata": {},
   "source": [
    "## Example 5: pg 365"
   ]
  },
  {
   "cell_type": "code",
   "execution_count": 5,
   "metadata": {
    "collapsed": false
   },
   "outputs": [
    {
     "name": "stdout",
     "output_type": "stream",
     "text": [
      "The frequency of rotor in Hz is 1.5\n",
      "The magnitude of induced emf in V is 119.8\n",
      "The magnitude of induced emf in the running condition in V is 3.594\n"
     ]
    }
   ],
   "source": [
    "#pg 365\n",
    "#calculate the frequency, induced emf\n",
    "#  Given data\n",
    "from math import sqrt\n",
    "K = 1./2;\n",
    "P = 4.;\n",
    "f = 50.;#  in Hz\n",
    "N = 1445.;#  in rpm\n",
    "E1line = 415.;#  in V\n",
    "N = 1455.;#  in rpm\n",
    "#calculations\n",
    "Ns = (120*f)/P;#  in rpm\n",
    "s = (Ns-N)/Ns*100;#  in %\n",
    "f_r = s/100*f;#  in Hz\n",
    "print \"The frequency of rotor in Hz is\",f_r\n",
    "E1ph = E1line/sqrt(3);#  in V\n",
    "# E2ph/E1ph = K;\n",
    "E2ph = E1ph*K;#  in V\n",
    "print \"The magnitude of induced emf in V is\",round(E2ph,1)\n",
    "E2r = s/100*E2ph;#  in V\n",
    "print \"The magnitude of induced emf in the running condition in V is\",round(E2r,3)\n"
   ]
  },
  {
   "cell_type": "markdown",
   "metadata": {},
   "source": [
    "## Example 6: pg 366"
   ]
  },
  {
   "cell_type": "code",
   "execution_count": 6,
   "metadata": {
    "collapsed": false
   },
   "outputs": [
    {
     "name": "stdout",
     "output_type": "stream",
     "text": [
      "The value of Ns in rpm is 1500.0\n",
      "The rotor speed when slip is 4 percent in rpm is 1440.0\n",
      "The rotor frequency when rotor runs at 600 rpm in Hz is 30.0\n"
     ]
    }
   ],
   "source": [
    "#pg 366\n",
    "#calculate the rotor speed, frequency and Ns\n",
    "#  Given data\n",
    "P = 4.;\n",
    "S =4./100;\n",
    "f = 50.;#  in Hz\n",
    "#calculations\n",
    "Ns = (120*f/P);#  in rpm\n",
    "print \"The value of Ns in rpm is\",Ns\n",
    "#  The rotor speed when slip is 4 %\n",
    "N = Ns*(1-S);#  in rpm\n",
    "print \"The rotor speed when slip is 4 percent in rpm is\",N\n",
    "#  The rotor speed when rotor runs at 600 rpm\n",
    "N1 = 600;#  in rpm\n",
    "s1 = ((Ns-N1)/Ns)*100;#  in %\n",
    "f_r = (s1/100)*f;#  in Hz\n",
    "print \"The rotor frequency when rotor runs at 600 rpm in Hz is\",f_r\n"
   ]
  },
  {
   "cell_type": "markdown",
   "metadata": {},
   "source": [
    "## Example 7: pg 366"
   ]
  },
  {
   "cell_type": "code",
   "execution_count": 7,
   "metadata": {
    "collapsed": false
   },
   "outputs": [
    {
     "name": "stdout",
     "output_type": "stream",
     "text": [
      "The Number of poles is 6.0\n",
      "The percentage of full load slip in percent is 5.0\n",
      "The rotor induced voltage in V is 5.0\n",
      "The frequency at full load in Hz is 2.5\n"
     ]
    }
   ],
   "source": [
    "#pg 366\n",
    "#calculate the poles, full load slip, induced voltage and frequency\n",
    "#  Given data\n",
    "V_L = 230.;#  in V\n",
    "f = 50.;#  in Hz\n",
    "N = 950.;#  in rpm\n",
    "E2 = 100.;#  in V\n",
    "Ns =1000.;#  in rpm\n",
    "#calculations\n",
    "#  Ns = 120*f/P;\n",
    "P = (120*f)/Ns;\n",
    "print \"The Number of poles is\",P\n",
    "s = ((Ns-N)/Ns)*100;#  %s in %\n",
    "print \"The percentage of full load slip in percent is\",s\n",
    "#  The rotor induced voltage at full load\n",
    "E2r = (s/100)*E2;#  in V\n",
    "print \"The rotor induced voltage in V is\",E2r\n",
    "#  The rotor frequency at full load\n",
    "f_r = (s/100)*f;#  in Hz\n",
    "print \"The frequency at full load in Hz is\",f_r\n"
   ]
  },
  {
   "cell_type": "markdown",
   "metadata": {},
   "source": [
    "## Example 8: pg 367"
   ]
  },
  {
   "cell_type": "code",
   "execution_count": 8,
   "metadata": {
    "collapsed": false
   },
   "outputs": [
    {
     "name": "stdout",
     "output_type": "stream",
     "text": [
      "The number of poles in the machine is 4.0\n",
      "Speed of rotation air gap field in rpm is 1500.0\n",
      "Produced emf in rotor in V is 352.0\n",
      "The frequency of rotor current in Hz is  1.67\n"
     ]
    }
   ],
   "source": [
    "#pg 367\n",
    "#calculate the poles, speed, emf and frequency\n",
    "#  Given data\n",
    "V = 440.;#  in V\n",
    "f = 50.;#  in Hz\n",
    "N = 1450.;#  in rpm\n",
    "Ns = 1450.;#  in rpm\n",
    "Nr = 1450.;#  in rpm\n",
    "#calculations\n",
    "P = round((120*f)/Ns);\n",
    "print \"The number of poles in the machine is\",P\n",
    "P = 4;\n",
    "Ns = (120*f)/P;#  in rpm\n",
    "print \"Speed of rotation air gap field in rpm is\",Ns\n",
    "k = 0.8/1;\n",
    "# Pemf = k*E1 = k*V;\n",
    "Pemf = k*V;#  produced emf in rotor in V\n",
    "print \"Produced emf in rotor in V is\",Pemf\n",
    "s = ((Ns-Nr)/Ns)*100;#  in %\n",
    "Ivoltage = k*(s/100)*V;#  rotor induces voltage in V\n",
    "f_r = (s/100)*f;#  in Hz\n",
    "print \"The frequency of rotor current in Hz is \",round(f_r,2)\n"
   ]
  },
  {
   "cell_type": "markdown",
   "metadata": {},
   "source": [
    "## Example 9: pg 367"
   ]
  },
  {
   "cell_type": "code",
   "execution_count": 9,
   "metadata": {
    "collapsed": false
   },
   "outputs": [
    {
     "name": "stdout",
     "output_type": "stream",
     "text": [
      "The full load slip in percent is 4.0\n",
      "The corresponding speed in rpm is 720.0\n"
     ]
    }
   ],
   "source": [
    "#pg 367\n",
    "#calculate the full load slip, speed\n",
    "#  Given data\n",
    "P = 8.;\n",
    "f = 50.;#  in Hz\n",
    "f_r = 2.;#  in Hz\n",
    "#calculations\n",
    "#  f_r = s*f;\n",
    "s = (f_r/f)*100;#  in %\n",
    "#  s = Ns-N/Ns;\n",
    "Ns = (120*f)/P;#  in rpm\n",
    "N = Ns*(1-(s/100));#  in rpm\n",
    "#results\n",
    "print \"The full load slip in percent is\",s\n",
    "print \"The corresponding speed in rpm is\",N\n"
   ]
  },
  {
   "cell_type": "markdown",
   "metadata": {},
   "source": [
    "## Example 10: pg 368"
   ]
  },
  {
   "cell_type": "code",
   "execution_count": 10,
   "metadata": {
    "collapsed": false
   },
   "outputs": [
    {
     "name": "stdout",
     "output_type": "stream",
     "text": [
      "The speed at which maximum torque is developed in rpm is 1440.0\n"
     ]
    }
   ],
   "source": [
    "#pg 368\n",
    "#calculate the speed\n",
    "#  Given data\n",
    "R2 = 0.024;#  in per phase\n",
    "X2 = 0.6;#  in ohm per phase\n",
    "#calculations\n",
    "s = R2/X2;\n",
    "f = 50;#  in Hz\n",
    "P = 4;\n",
    "Ns = (120*f)/P;#  in rpm\n",
    "#  Speed corresponding to maximum torque\n",
    "N = Ns*(1-s);#  in rpm\n",
    "#results\n",
    "print \"The speed at which maximum torque is developed in rpm is\",N\n"
   ]
  },
  {
   "cell_type": "markdown",
   "metadata": {},
   "source": [
    "## Example 11: pg 368"
   ]
  },
  {
   "cell_type": "code",
   "execution_count": 11,
   "metadata": {
    "collapsed": false
   },
   "outputs": [
    {
     "name": "stdout",
     "output_type": "stream",
     "text": [
      "The synchronous speed in rpm is :  1800.0\n",
      "The rotor speed in rpm is 1746.0\n",
      "The rotor current frequency in Hz is 1.8\n",
      "The rotor magnetic field rotates at speed in rpm is 54.0\n"
     ]
    }
   ],
   "source": [
    "#pg 368\n",
    "#calculate the speed, frequency\n",
    "#  Given data\n",
    "P = 4.;\n",
    "f =60.;#  in Hz\n",
    "s = 0.03;\n",
    "#calculations\n",
    "Ns = (120*f)/P;#  in rpm\n",
    "N = Ns*(1-s);#  in rpm\n",
    "print \"The synchronous speed in rpm is : \",Ns\n",
    "print \"The rotor speed in rpm is\",N\n",
    "f_r = s*f;#  in Hz\n",
    "print \"The rotor current frequency in Hz is\",f_r\n",
    "#  Rotor magnetic field rorats at speed \n",
    "Rm = (120*f_r)/P;#  in rpm\n",
    "print \"The rotor magnetic field rotates at speed in rpm is\",Rm\n"
   ]
  },
  {
   "cell_type": "markdown",
   "metadata": {},
   "source": [
    "## Example 12: pg 369"
   ]
  },
  {
   "cell_type": "code",
   "execution_count": 12,
   "metadata": {
    "collapsed": false
   },
   "outputs": [
    {
     "name": "stdout",
     "output_type": "stream",
     "text": [
      "The slip in percent is 4.0\n",
      "The frequency of rotor induced emf in Hz is 2.0\n",
      "The number of poles is 6.0\n",
      "Speed of rotor field with respect to rotor structure in rpm is 40.0\n"
     ]
    }
   ],
   "source": [
    "#pg 369\n",
    "#calculate the frequency, poles and speed\n",
    "#  Given data\n",
    "N = 960.;#  in rpm\n",
    "f = 50.;#  in Hz\n",
    "Ns = 1000.;#  in rpm\n",
    "#calculations\n",
    "s = ((Ns-N)/Ns)*100;#  %s in %\n",
    "print \"The slip in percent is\",s\n",
    "f_r = (s/100)*f;#  in Hz\n",
    "print \"The frequency of rotor induced emf in Hz is\",f_r\n",
    "#  Ns = (120*f)/P;\n",
    "P = (120*f)/Ns;\n",
    "print \"The number of poles is\",P\n",
    "#  Speed of rotor field with respect to rotor structure \n",
    "s1 = (120*f_r)/P;# in rpm\n",
    "print \"Speed of rotor field with respect to rotor structure in rpm is\",s1\n"
   ]
  },
  {
   "cell_type": "markdown",
   "metadata": {},
   "source": [
    "## Example 13: pg 369"
   ]
  },
  {
   "cell_type": "code",
   "execution_count": 13,
   "metadata": {
    "collapsed": false
   },
   "outputs": [
    {
     "name": "stdout",
     "output_type": "stream",
     "text": [
      "The full load speed in rpm is 1440.0\n"
     ]
    }
   ],
   "source": [
    "#pg 369\n",
    "#calculate the full load speed \n",
    "#  Given data\n",
    "P = 4.;\n",
    "f = 50.;#  in Hz\n",
    "Sfl = 4./100;\n",
    "#calculations\n",
    "Ns = (120*f)/P;#  in rpm\n",
    "# The full load speed, Sfl = (Ns-Nfl)/Ns;\n",
    "Nfl = Ns - (Sfl*Ns);#  in rpm\n",
    "#results\n",
    "print \"The full load speed in rpm is\",Nfl\n"
   ]
  }
 ],
 "metadata": {
  "kernelspec": {
   "display_name": "Python 2",
   "language": "python",
   "name": "python2"
  },
  "language_info": {
   "codemirror_mode": {
    "name": "ipython",
    "version": 2
   },
   "file_extension": ".py",
   "mimetype": "text/x-python",
   "name": "python",
   "nbconvert_exporter": "python",
   "pygments_lexer": "ipython2",
   "version": "2.7.11"
  }
 },
 "nbformat": 4,
 "nbformat_minor": 0
}
