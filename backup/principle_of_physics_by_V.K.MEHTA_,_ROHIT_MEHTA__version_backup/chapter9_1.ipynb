{
 "metadata": {
  "name": "",
  "signature": "sha256:02dc05916beb2a686e89acb729415599e9656d95fc169884e1d4a92b0e8ee888"
 },
 "nbformat": 3,
 "nbformat_minor": 0,
 "worksheets": [
  {
   "cells": [
    {
     "cell_type": "heading",
     "level": 1,
     "metadata": {},
     "source": [
      "Chapter 9 Motion of charged particles in electric and magnetic motion"
     ]
    },
    {
     "cell_type": "heading",
     "level": 2,
     "metadata": {},
     "source": [
      "Example 9.1 Page no 472"
     ]
    },
    {
     "cell_type": "code",
     "collapsed": false,
     "input": [
      "#Given\n",
      "V=90                          #V\n",
      "d=2.0*10**-2\n",
      "e=1.8*10**11\n",
      "x=5*10**-2\n",
      "v=10**7\n",
      "\n",
      "#Calculation\n",
      "E=V/d\n",
      "a=e*E\n",
      "t=x/v\n",
      "y=0.5*a*t**2\n",
      "\n",
      "#Result\n",
      "print\"Transverse deflection produced by electric field is\", round(y*10**2,1),\"cm\""
     ],
     "language": "python",
     "metadata": {},
     "outputs": [
      {
       "output_type": "stream",
       "stream": "stdout",
       "text": [
        "Transverse deflection produced by electric field is 1.0 cm\n"
       ]
      }
     ],
     "prompt_number": 9
    },
    {
     "cell_type": "heading",
     "level": 2,
     "metadata": {},
     "source": [
      "Example 9.2 Page no 473"
     ]
    },
    {
     "cell_type": "code",
     "collapsed": false,
     "input": [
      "#Given\n",
      "V=500\n",
      "d=2*10**-2                #m\n",
      "v=3*10**7\n",
      "x=6*10**-2\n",
      "\n",
      "#Calculation\n",
      "import math\n",
      "E=V/d\n",
      "a=E*e\n",
      "t=x/v\n",
      "v1=a*t\n",
      "T=v1/v\n",
      "A=math.atan(T)*180.0/3.14\n",
      "\n",
      "#Result\n",
      "print\"Angle is\", round(A,1),\"degree\""
     ],
     "language": "python",
     "metadata": {},
     "outputs": [
      {
       "output_type": "stream",
       "stream": "stdout",
       "text": [
        "Angle is 16.7 degree\n"
       ]
      }
     ],
     "prompt_number": 31
    },
    {
     "cell_type": "heading",
     "level": 2,
     "metadata": {},
     "source": [
      "Example 9.3 Page no 474"
     ]
    },
    {
     "cell_type": "code",
     "collapsed": false,
     "input": [
      "#Given\n",
      "x=10*10**-2\n",
      "v=3*10**7\n",
      "S=1.76*10**-3\n",
      "a=1800\n",
      "\n",
      "#Calculation\n",
      "t=x/v\n",
      "e=S*2/(a*t**2)\n",
      "\n",
      "#Result\n",
      "print\"Specific charge of the electron is\", e,\"C/Kg\""
     ],
     "language": "python",
     "metadata": {},
     "outputs": [
      {
       "output_type": "stream",
       "stream": "stdout",
       "text": [
        "Specific charge of the electron is 1.76e+11\n"
       ]
      }
     ],
     "prompt_number": 34
    },
    {
     "cell_type": "heading",
     "level": 2,
     "metadata": {},
     "source": [
      "Example 9.4 Page no 478"
     ]
    },
    {
     "cell_type": "code",
     "collapsed": false,
     "input": [
      "#Given\n",
      "m=9*10**-31\n",
      "v=3*10**7\n",
      "q=1.6*10**-19                         #C\n",
      "B=6*10**-4\n",
      "\n",
      "#Calculation\n",
      "import math\n",
      "r=m*v/(q*B)\n",
      "f=q*B/(2.0*math.pi*m)\n",
      "E=(0.5*m*v**2)/1.6*10**-16\n",
      "\n",
      "#Result\n",
      "print\"Energy is\", round(E*10**32,2),\"Kev\""
     ],
     "language": "python",
     "metadata": {},
     "outputs": [
      {
       "output_type": "stream",
       "stream": "stdout",
       "text": [
        "Energy is 2.53 Kev\n"
       ]
      }
     ],
     "prompt_number": 44
    },
    {
     "cell_type": "heading",
     "level": 2,
     "metadata": {},
     "source": [
      "Example 9.5 Page no 479"
     ]
    },
    {
     "cell_type": "code",
     "collapsed": false,
     "input": [
      "#Given\n",
      "m=9*10**-31\n",
      "e=1.6*10**-19\n",
      "V=100\n",
      "B=0.004\n",
      "\n",
      "#Calculation\n",
      "import math\n",
      "r=math.sqrt(2*m*e*V)/(e*B)\n",
      "\n",
      "#Result\n",
      "print\"Radius of the path is\", round(r*10**3,1),\"mm\""
     ],
     "language": "python",
     "metadata": {},
     "outputs": [
      {
       "output_type": "stream",
       "stream": "stdout",
       "text": [
        "Radius of the path is 8.4 mm\n"
       ]
      }
     ],
     "prompt_number": 50
    },
    {
     "cell_type": "heading",
     "level": 2,
     "metadata": {},
     "source": [
      "Example 9.6 Page no 479"
     ]
    },
    {
     "cell_type": "code",
     "collapsed": false,
     "input": [
      "#Given\n",
      "m=1.67*10**-27\n",
      "v=4*10**5\n",
      "a=60\n",
      "q=1.6*10**-19\n",
      "B=0.3\n",
      "\n",
      "#Calculation\n",
      "import math\n",
      "r=(m*v*math.sin(a*3.14/180.0))/q*B\n",
      "P=v*math.cos(a*3.14/180.0)*((2*math.pi*m)/(q*B))\n",
      "\n",
      "#Result\n",
      "print\"(i) Radius of the helical path is\",round(r*10**3,1),\"cm\"\n",
      "print\"(ii) Pitch of helix is\", round(P*10**2,2),\"cm\""
     ],
     "language": "python",
     "metadata": {},
     "outputs": [
      {
       "output_type": "stream",
       "stream": "stdout",
       "text": [
        "(i) Radius of the helical path is 1.1 cm\n",
        "(ii) Pitch of helix is 4.38 cm\n"
       ]
      }
     ],
     "prompt_number": 70
    },
    {
     "cell_type": "heading",
     "level": 2,
     "metadata": {},
     "source": [
      "Example 9.7 Page no 479"
     ]
    },
    {
     "cell_type": "code",
     "collapsed": false,
     "input": [
      "#Given\n",
      "M=5*10**6               #ev\n",
      "e=1.6*10**-19\n",
      "m=1.6*10**-27\n",
      "B=1.5\n",
      "\n",
      "#Calculation\n",
      "import math\n",
      "v=math.sqrt((2*M*e)/m)\n",
      "F=q*v*B*math.sin(90*3.14/180.0)\n",
      "\n",
      "#Result\n",
      "print\"Magnitude of the force is\", round(F*10**12,2)*10**-12,\"N\""
     ],
     "language": "python",
     "metadata": {},
     "outputs": [
      {
       "output_type": "stream",
       "stream": "stdout",
       "text": [
        "Magnitude of the force is 7.59e-12 N\n"
       ]
      }
     ],
     "prompt_number": 78
    },
    {
     "cell_type": "heading",
     "level": 2,
     "metadata": {},
     "source": [
      "Example 9.8 Page no 480"
     ]
    },
    {
     "cell_type": "code",
     "collapsed": false,
     "input": [
      "#Given\n",
      "m=1.67*10**-27                       #Kg\n",
      "v=4*10**5\n",
      "B=0.3                           #T\n",
      "q=1.6*10**-19                      #C\n",
      "\n",
      "#Calculation\n",
      "import math\n",
      "r=m*v*math.sin(60*3.14/180.0)/(q*B)\n",
      "P=2*math.pi*r*1/(math.tan(60*3.14/180.0))\n",
      "\n",
      "#Result\n",
      "print\"Pitch of the helix is\", round(P*10**2,2),\"cm\"\n",
      "print\"Radius of helical path is\",round(r*10**2,3),\"cm\""
     ],
     "language": "python",
     "metadata": {},
     "outputs": [
      {
       "output_type": "stream",
       "stream": "stdout",
       "text": [
        "Pitch of the helix is 4.38 cm\n",
        "Radius of helical path is 1.205 cm\n"
       ]
      }
     ],
     "prompt_number": 10
    },
    {
     "cell_type": "heading",
     "level": 2,
     "metadata": {},
     "source": [
      "Example 9.9 Page no 480"
     ]
    },
    {
     "cell_type": "code",
     "collapsed": false,
     "input": [
      "#Given\n",
      "q=3.2*10**-19\n",
      "B=1.2\n",
      "r=0.45\n",
      "m=6.8*10**-27\n",
      "\n",
      "#Calculation\n",
      "import math\n",
      "v=(q*B*r)/m\n",
      "f=v/(2.0*math.pi*r)\n",
      "K=(0.5*m*v**2)/(1.6*10**-19)\n",
      "V=K/2.0\n",
      "\n",
      "#Result\n",
      "print\"Required potentila difference is\", round(V*10**-6,0),\"*10**6 V\""
     ],
     "language": "python",
     "metadata": {},
     "outputs": [
      {
       "output_type": "stream",
       "stream": "stdout",
       "text": [
        "Required potentila difference is 7.0 *10**6 V\n"
       ]
      }
     ],
     "prompt_number": 15
    },
    {
     "cell_type": "heading",
     "level": 2,
     "metadata": {},
     "source": [
      "Example 9.10 Page no 480"
     ]
    },
    {
     "cell_type": "code",
     "collapsed": false,
     "input": [
      "#Given\n",
      "I=4\n",
      "u=10**-7\n",
      "a=0.2                           #m\n",
      "v=4*10**6\n",
      "q=1.6*10**-19\n",
      "\n",
      "#Calculation\n",
      "B=(u*2*I)/a\n",
      "F=q*v*B\n",
      "\n",
      "#Result\n",
      "print\"Force is\", F,\"N\""
     ],
     "language": "python",
     "metadata": {},
     "outputs": [
      {
       "output_type": "stream",
       "stream": "stdout",
       "text": [
        "Force is 2.56e-18 N\n"
       ]
      }
     ],
     "prompt_number": 20
    },
    {
     "cell_type": "heading",
     "level": 2,
     "metadata": {},
     "source": [
      "Example 9.11 Page no 481"
     ]
    },
    {
     "cell_type": "code",
     "collapsed": false,
     "input": [
      "#Given\n",
      "e=1.6*10**-19\n",
      "a=10**6\n",
      "\n",
      "#Calculation\n",
      "q=2*e\n",
      "F=q*a\n",
      "\n",
      "#Result\n",
      "print\"Magnitude force acting on the particle is\", F"
     ],
     "language": "python",
     "metadata": {},
     "outputs": [
      {
       "output_type": "stream",
       "stream": "stdout",
       "text": [
        "Magnitude force acting on the particle is 3.2e-13\n"
       ]
      }
     ],
     "prompt_number": 22
    },
    {
     "cell_type": "heading",
     "level": 2,
     "metadata": {},
     "source": [
      "Example 9.13 Page no 482"
     ]
    },
    {
     "cell_type": "code",
     "collapsed": false,
     "input": [
      "#Given\n",
      "E=3.4*10**4                        #V/m\n",
      "B=2*10**-3                         #Wb/m**2\n",
      "m=9.1*10**-31\n",
      "e=1.6*10**-19\n",
      "\n",
      "#Calculation\n",
      "v=E/B\n",
      "r=(m*v)/(e*B)\n",
      "\n",
      "#Result\n",
      "print\"Radius of the circular path is\", round(r*10**2,1),\"*10**-2 m\""
     ],
     "language": "python",
     "metadata": {},
     "outputs": [
      {
       "output_type": "stream",
       "stream": "stdout",
       "text": [
        "Radius of the circular path is 4.8 *10**-2 m\n"
       ]
      }
     ],
     "prompt_number": 29
    },
    {
     "cell_type": "heading",
     "level": 2,
     "metadata": {},
     "source": [
      "Example 9.14 Page no 482"
     ]
    },
    {
     "cell_type": "code",
     "collapsed": false,
     "input": [
      "#Given\n",
      "V=600                            #V\n",
      "d=3*10**-3                                    #m\n",
      "v=2*10**6                                   #m/s\n",
      "\n",
      "#Calculation\n",
      "B=V/(d*v)\n",
      "\n",
      "#Result\n",
      "print\"Magnitude of magnetic field is\", B,\"T\""
     ],
     "language": "python",
     "metadata": {},
     "outputs": [
      {
       "output_type": "stream",
       "stream": "stdout",
       "text": [
        "Magnitude of magnetic field is 0.1 T\n"
       ]
      }
     ],
     "prompt_number": 32
    },
    {
     "cell_type": "heading",
     "level": 2,
     "metadata": {},
     "source": [
      "Example 9.15 Page no 487"
     ]
    },
    {
     "cell_type": "code",
     "collapsed": false,
     "input": [
      "#Given\n",
      "q=1.6*10**-19                          #c\n",
      "B=2                                    #T\n",
      "m=1.66*10**-27                         #Kg\n",
      "K=5*10**6\n",
      "\n",
      "#Calculation\n",
      "import math\n",
      "f=(q*B)/(2.0*math.pi*m)\n",
      "v=math.sqrt((2*K*q)/m)\n",
      "r=(m*v)/(q*B)\n",
      "\n",
      "#Result\n",
      "print\"(i) The frequency needed for applied alternating voltage is\", round(f*10**-7,0),\"*10**7 HZ\"\n",
      "print\"(ii) Radius of the cyclotron is\",round(r,2),\"m\""
     ],
     "language": "python",
     "metadata": {},
     "outputs": [
      {
       "output_type": "stream",
       "stream": "stdout",
       "text": [
        "(i) The frequency needed for applied alternating voltage is 3.0 *10**7 HZ\n",
        "(ii) Radius of the cyclotron is 0.16 m\n"
       ]
      }
     ],
     "prompt_number": 45
    },
    {
     "cell_type": "heading",
     "level": 2,
     "metadata": {},
     "source": [
      "Example 9.16 Page no 487"
     ]
    },
    {
     "cell_type": "code",
     "collapsed": false,
     "input": [
      "#Given\n",
      "B=1.7                  #T\n",
      "q=1.6*10**-19          #c\n",
      "r=0.5\n",
      "m=1.66*10**-27\n",
      "\n",
      "#Calculation\n",
      "K=((B**2*q**2*r**2)/(2.0*m))/q\n",
      "\n",
      "#Result\n",
      "print\"Kinetic energy of proton is\", round(K*10**-6,0),\"Mev\""
     ],
     "language": "python",
     "metadata": {},
     "outputs": [
      {
       "output_type": "stream",
       "stream": "stdout",
       "text": [
        "Kinetic energy of proton is 35.0 Mev\n"
       ]
      }
     ],
     "prompt_number": 51
    },
    {
     "cell_type": "heading",
     "level": 2,
     "metadata": {},
     "source": [
      "Example 9.17 Page no 487"
     ]
    },
    {
     "cell_type": "code",
     "collapsed": false,
     "input": [
      "#Given\n",
      "B=0.8\n",
      "q=3.2*10**-19                #C\n",
      "d=1.2\n",
      "m=4*1.66*10**-27               #Kg\n",
      "a=1.60*10**-19\n",
      "\n",
      "#Calculation\n",
      "import math\n",
      "r=d/2.0\n",
      "K=(B**2*q**2*r**2)/(2.0*m*a)\n",
      "v=(q*B*r)/m\n",
      "f=(q*B)/(2.0*math.pi*m)\n",
      "\n",
      "#Result\n",
      "print\"Frequency of alternating voltage is\", round(f*10**-7,2),\"*10**7 HZ\""
     ],
     "language": "python",
     "metadata": {},
     "outputs": [
      {
       "output_type": "stream",
       "stream": "stdout",
       "text": [
        "Frequency of alternating voltage is 0.61 *10**7 HZ\n"
       ]
      }
     ],
     "prompt_number": 61
    },
    {
     "cell_type": "heading",
     "level": 2,
     "metadata": {},
     "source": [
      "Example 9.18 Page no 488"
     ]
    },
    {
     "cell_type": "code",
     "collapsed": false,
     "input": [
      "#Given\n",
      "q=1.6*10**-19               #C\n",
      "r=0.6                        #m\n",
      "m=1.67*10**-27               #Kg\n",
      "f=10**7\n",
      "\n",
      "#Calculation\n",
      "import math\n",
      "B=(2*math.pi*m*f)/q\n",
      "K=((B**2*q**2*r**2)/(2.0*m))/1.6*10**-13\n",
      "\n",
      "#Result\n",
      "print\"Kinetic energy of the protons is\", round(K*10**26,1),\"Mev\""
     ],
     "language": "python",
     "metadata": {},
     "outputs": [
      {
       "output_type": "stream",
       "stream": "stdout",
       "text": [
        "Kinetic energy of the protons is 7.4 Mev\n"
       ]
      }
     ],
     "prompt_number": 67
    },
    {
     "cell_type": "heading",
     "level": 2,
     "metadata": {},
     "source": [
      "Example 9.19 Page no 493"
     ]
    },
    {
     "cell_type": "code",
     "collapsed": false,
     "input": [
      "#Given\n",
      "I=5                     #A\n",
      "l=0.06                   #m\n",
      "B=0.02                   #T\n",
      "a=90\n",
      "\n",
      "#Calculation\n",
      "import math\n",
      "F=I*B*l*math.sin(a*3.14/180.0)\n",
      "\n",
      "#Result\n",
      "print\"Force is\", round(F,3),\"N\""
     ],
     "language": "python",
     "metadata": {},
     "outputs": [
      {
       "output_type": "stream",
       "stream": "stdout",
       "text": [
        "Force is 0.006 N\n"
       ]
      }
     ],
     "prompt_number": 71
    },
    {
     "cell_type": "heading",
     "level": 2,
     "metadata": {},
     "source": [
      "Example 9.20 Page no 494"
     ]
    },
    {
     "cell_type": "code",
     "collapsed": false,
     "input": [
      "#Given\n",
      "m=0.2                        #Kg\n",
      "I=2                          #A\n",
      "l=1.5                        #m\n",
      "g=9.8\n",
      "\n",
      "#Calculation\n",
      "B=(m*g)/(I*l)\n",
      "\n",
      "#Result\n",
      "print\"Magnitude of the magnetic field is\", round(B,2),\"T\""
     ],
     "language": "python",
     "metadata": {},
     "outputs": [
      {
       "output_type": "stream",
       "stream": "stdout",
       "text": [
        "Magnitude of the magnetic field is 0.65 T\n"
       ]
      }
     ],
     "prompt_number": 76
    },
    {
     "cell_type": "heading",
     "level": 2,
     "metadata": {},
     "source": [
      "Example 9.21 Page no 494"
     ]
    },
    {
     "cell_type": "code",
     "collapsed": false,
     "input": [
      "#given\n",
      "r=0.002                  #m\n",
      "m=0.05\n",
      "g=9.8\n",
      "\n",
      "#Calculation\n",
      "u=4*math.pi*10**-7\n",
      "f=u/(2*math.pi*r)\n",
      "f1=m*g\n",
      "I=math.sqrt(f1*f**-1)\n",
      "\n",
      "#Result\n",
      "print\"Current in each wire is\", I,\"A\""
     ],
     "language": "python",
     "metadata": {},
     "outputs": [
      {
       "output_type": "stream",
       "stream": "stdout",
       "text": [
        "Current in each wire is 70.0 A\n"
       ]
      }
     ],
     "prompt_number": 82
    },
    {
     "cell_type": "heading",
     "level": 2,
     "metadata": {},
     "source": [
      "Example 9.22 Page no 494"
     ]
    },
    {
     "cell_type": "code",
     "collapsed": false,
     "input": [
      "#Given\n",
      "r=0.04                   #m\n",
      "I1=20\n",
      "I2=16\n",
      "l=0.15\n",
      "r1=0.1\n",
      "\n",
      "#Calculation\n",
      "import math\n",
      "u=4*math.pi*10**-7\n",
      "F1=(u*I1*I2*l)/(2.0*math.pi*r)\n",
      "F2=(u*I1*I2*l)/(2.0*math.pi*r1)\n",
      "F=F1-F2\n",
      "\n",
      "#Result\n",
      "print\"Net force on the loop is\", F*10**4,\"*10**-4 N\""
     ],
     "language": "python",
     "metadata": {},
     "outputs": [
      {
       "output_type": "stream",
       "stream": "stdout",
       "text": [
        "Net force on the loop is 1.44 *10**-4 N\n"
       ]
      }
     ],
     "prompt_number": 89
    },
    {
     "cell_type": "heading",
     "level": 2,
     "metadata": {},
     "source": [
      "Example 9.23 Page no 495"
     ]
    },
    {
     "cell_type": "code",
     "collapsed": false,
     "input": [
      "#Given\n",
      "m=0.3                #Kg\n",
      "a=30                  #degree\n",
      "B=0.15                #T\n",
      "g=9.8                 #m/s**2\n",
      "\n",
      "#Calculation\n",
      "import math\n",
      "I=(m*g*math.tan(a*3.14/180.0))/B\n",
      "\n",
      "#Result\n",
      "print\"value of current is\", round(I,2),\"A\""
     ],
     "language": "python",
     "metadata": {},
     "outputs": [
      {
       "output_type": "stream",
       "stream": "stdout",
       "text": [
        "value of current is 11.31 A\n"
       ]
      }
     ],
     "prompt_number": 94
    },
    {
     "cell_type": "heading",
     "level": 2,
     "metadata": {},
     "source": [
      "Example 9.24 Page no 495"
     ]
    },
    {
     "cell_type": "code",
     "collapsed": false,
     "input": [
      "#Given\n",
      "B=3*10**-5                #T\n",
      "I=1                       #A\n",
      "\n",
      "#Calculation\n",
      "F=I*B*math.sin(90)\n",
      "\n",
      "#Result\n",
      "print\"The direction of the force is downward i.e\", round(F*10**5,0),\"*10**-5 N/m\""
     ],
     "language": "python",
     "metadata": {},
     "outputs": [
      {
       "output_type": "stream",
       "stream": "stdout",
       "text": [
        "The direction of the force is downward i.e 3.0 *10**-5 N/m\n"
       ]
      }
     ],
     "prompt_number": 99
    },
    {
     "cell_type": "code",
     "collapsed": false,
     "input": [
      "Example 9.25 Page no 495"
     ],
     "language": "python",
     "metadata": {},
     "outputs": []
    },
    {
     "cell_type": "code",
     "collapsed": false,
     "input": [
      "#Given\n",
      "m=1.2*10**-3\n",
      "B=0.6                       #T\n",
      "g=9.8                        #m/s**2\n",
      "r=0.05\n",
      "b=3.8\n",
      "\n",
      "#Calculation\n",
      "I=(m*g)/B\n",
      "R=r*b\n",
      "V=I*R\n",
      "\n",
      "#Result\n",
      "print\"Potentila difference is\", round(V*10**3,1),\"*10**-3 V\""
     ],
     "language": "python",
     "metadata": {},
     "outputs": [
      {
       "output_type": "stream",
       "stream": "stdout",
       "text": [
        "Potentila difference is 3.7 *10**-3 V\n"
       ]
      }
     ],
     "prompt_number": 105
    },
    {
     "cell_type": "heading",
     "level": 2,
     "metadata": {},
     "source": [
      "Example 9.26 Page no 496"
     ]
    },
    {
     "cell_type": "code",
     "collapsed": false,
     "input": [
      "#Given\n",
      "I2=10                       #A\n",
      "r=0.1                        #m\n",
      "l=2                          #m\n",
      "I1=2\n",
      "I2=10\n",
      "r=0.1\n",
      "\n",
      "#Calculation\n",
      "u=4*math.pi*10**-7\n",
      "F=u*I1*I2*I1/(2.0*math.pi*r)\n",
      "\n",
      "#Result\n",
      "print\"Force on small conductor\", F,\"N\"\n"
     ],
     "language": "python",
     "metadata": {},
     "outputs": [
      {
       "output_type": "stream",
       "stream": "stdout",
       "text": [
        "Force on small conductor 8e-05 N\n"
       ]
      }
     ],
     "prompt_number": 109
    },
    {
     "cell_type": "heading",
     "level": 2,
     "metadata": {},
     "source": [
      "Example 9.27 Page no 500"
     ]
    },
    {
     "cell_type": "code",
     "collapsed": false,
     "input": [
      "#Given\n",
      "A=10**-3                     #m**\n",
      "n=10\n",
      "I=2                        #A\n",
      "B=0.1                     #T\n",
      "\n",
      "#Calculation\n",
      "import math\n",
      "t=n*I*A*B*math.cos(0)\n",
      "t1=n*I*A*B*math.cos(60*3.14/180.0)\n",
      "\n",
      "#Result\n",
      "print\"(i) Torque when magnetic field is parallel to the field\", round(t*10**3,0),\"*10**-3 Nm\"\n",
      "print\"(ii) Torque when magnetic field is perpendicular to the field is zero\"\n",
      "print\"(iii) Torque when magnetic field is 60 degree to the field is\",round(t1*10**3,1),\"*10**-3 Nm\""
     ],
     "language": "python",
     "metadata": {},
     "outputs": [
      {
       "output_type": "stream",
       "stream": "stdout",
       "text": [
        "(i) Torque when magnetic field is parallel to the field 2.0 *10**-3 Nm\n",
        "(ii) Torque when magnetic field is perpendicular to the field is zero\n",
        "(iii) Torque when magnetic field is 60 degree to the field is 1.0 *10**-3 Nm\n"
       ]
      }
     ],
     "prompt_number": 121
    },
    {
     "cell_type": "heading",
     "level": 2,
     "metadata": {},
     "source": [
      "Example 9.28 Page no 500"
     ]
    },
    {
     "cell_type": "code",
     "collapsed": false,
     "input": [
      "#Given\n",
      "r=7\n",
      "I=10\n",
      "B=100*10**-4\n",
      "\n",
      "#Calculation\n",
      "import math\n",
      "A=math.pi*r**2\n",
      "t=I*A*B\n",
      "\n",
      "#Result\n",
      "print\"Magnitude of maximum torque is\", round(t*10**-1,2),\"*10**-3 Nm\""
     ],
     "language": "python",
     "metadata": {},
     "outputs": [
      {
       "output_type": "stream",
       "stream": "stdout",
       "text": [
        "Magnitude of maximum torque is 1.54 *10**-3 Nm\n"
       ]
      }
     ],
     "prompt_number": 127
    },
    {
     "cell_type": "heading",
     "level": 2,
     "metadata": {},
     "source": [
      "Example 9.29 Page no 501"
     ]
    },
    {
     "cell_type": "code",
     "collapsed": false,
     "input": [
      "#Given\n",
      "N=10\n",
      "I=0.06\n",
      "r=0.05\n",
      "n=1000\n",
      "I2=25\n",
      "\n",
      "#Calculation\n",
      "import math\n",
      "A=math.pi*r**2\n",
      "M=N*I*A\n",
      "u=4*math.pi*10**-7\n",
      "B=u*n*I2\n",
      "t=M*B*math.sin(45*3.14/180.0)\n",
      "\n",
      "#Result\n",
      "print\"Torgue is\", round(t*10**4,2),\"*10**-4 Nm\""
     ],
     "language": "python",
     "metadata": {},
     "outputs": [
      {
       "output_type": "stream",
       "stream": "stdout",
       "text": [
        "Torgue is 1.05 *10**-4 Nm\n"
       ]
      }
     ],
     "prompt_number": 134
    },
    {
     "cell_type": "heading",
     "level": 2,
     "metadata": {},
     "source": [
      "Example 9.30 Page no  501"
     ]
    },
    {
     "cell_type": "code",
     "collapsed": false,
     "input": [
      "#Given\n",
      "n=100\n",
      "l=3.2 \n",
      "r=0.1\n",
      "\n",
      "#Calculation\n",
      "import math\n",
      "u=4*math.pi*10**-7\n",
      "B=(u*n*l)/(2.0*r)\n",
      "M=n*l*math.pi*r**2\n",
      "t=M*B*math.sin(0)\n",
      "t1=(M*B*math.sin(90*3.14/180.0))*10**3\n",
      "w=math.sqrt((2*M*B*10**3)/r)\n",
      "\n",
      "#Result\n",
      "print\"(a) Field at the centre of the coil is\", round(B*10**3,0),\"*10**-3 T\"\n",
      "print\"(b) Magnetic moment of the coil is\",round(M,0),\"Am**2\"\n",
      "print\"(c) Magnitude of the torque on the coil in the initial position is\",t\n",
      "print\" Magnitude of the torque on the coil in the final position is\",round(t1,0),\"Nm\"\n",
      "print \"(d) Angular speed acquired by the coil is\",round(w,0),\"rad/s\""
     ],
     "language": "python",
     "metadata": {},
     "outputs": [
      {
       "output_type": "stream",
       "stream": "stdout",
       "text": [
        "(a) Field at the centre of the coil is 2.0 *10**-3 T\n",
        "(b) Magnetic moment of the coil is 10.0 Am**2\n",
        "(c) Magnitude of the torque on the coil in the initial position is 0.0\n",
        " Magnitude of the torque on the coil in the final position is 20.0 Nm\n",
        "(d) Angular speed acquired by the coil is 20.0 rad/s\n"
       ]
      }
     ],
     "prompt_number": 25
    },
    {
     "cell_type": "heading",
     "level": 2,
     "metadata": {},
     "source": [
      "Example 9.31 Page no 505"
     ]
    },
    {
     "cell_type": "code",
     "collapsed": false,
     "input": [
      "#Given\n",
      "n=125\n",
      "I=20*10**-3                       #A\n",
      "B=0.5                             #T\n",
      "A=400*10**-6                       #m**2\n",
      "K=40*10**-6\n",
      "\n",
      "#Calculation\n",
      "T=n*I*B*A\n",
      "a=T/K\n",
      "\n",
      "#Result\n",
      "print\"(i) Torque exerted is\", T*10**4,\"*10**-4 Nm\"\n",
      "print\"(ii) Angular deflection of the coil is\", a,\"degree\""
     ],
     "language": "python",
     "metadata": {},
     "outputs": [
      {
       "output_type": "stream",
       "stream": "stdout",
       "text": [
        "(i) Torque exerted is 5.0 *10**-4 Nm\n",
        "(ii) Angular deflection of the coil is 12.5 degree\n"
       ]
      }
     ],
     "prompt_number": 32
    },
    {
     "cell_type": "heading",
     "level": 2,
     "metadata": {},
     "source": [
      "Example 9.32 Page no 505"
     ]
    },
    {
     "cell_type": "code",
     "collapsed": false,
     "input": [
      "#Given\n",
      "K=3*10**-9                            #Nm/deg\n",
      "a=36\n",
      "n=60\n",
      "B=9*10**-3                              #T\n",
      "A=5*10**-5                                  #m**2\n",
      "\n",
      "#Calculation\n",
      "I=(K*a)/(n*B*A)\n",
      "\n",
      "#Result\n",
      "print\"Maximum current is\", I*10**3,\"mA\""
     ],
     "language": "python",
     "metadata": {},
     "outputs": [
      {
       "output_type": "stream",
       "stream": "stdout",
       "text": [
        "Maximum current is 4.0 mA\n"
       ]
      }
     ],
     "prompt_number": 36
    },
    {
     "cell_type": "heading",
     "level": 2,
     "metadata": {},
     "source": [
      "Example 9.33 Page no 506"
     ]
    },
    {
     "cell_type": "code",
     "collapsed": false,
     "input": [
      "#Given\n",
      "n=30\n",
      "B=0.25                      #T\n",
      "A=1.5*10**-3\n",
      "K=10**-3\n",
      "\n",
      "#Calculation\n",
      "S=(n*B*A)/K\n",
      "\n",
      "#Result\n",
      "print\"Current sensitivity of the galvanometer is\", S,\"degree/A\""
     ],
     "language": "python",
     "metadata": {},
     "outputs": [
      {
       "output_type": "stream",
       "stream": "stdout",
       "text": [
        "Current sensitivity of the galvanometer is 11.25 degree/A\n"
       ]
      }
     ],
     "prompt_number": 39
    },
    {
     "cell_type": "heading",
     "level": 2,
     "metadata": {},
     "source": [
      "Example 9.35 Page no 509"
     ]
    },
    {
     "cell_type": "code",
     "collapsed": false,
     "input": [
      "#Given\n",
      "Ig=0.015               #A\n",
      "G=5\n",
      "I=1\n",
      "V=15\n",
      "\n",
      "#Calculation\n",
      "S=(Ig*G)/(I-Ig)\n",
      "R=G*S/(G+S)\n",
      "R1=(V/Ig)-G\n",
      "R2=R1+G\n",
      "\n",
      "#Result\n",
      "print\"(i) Resistance of ammeter of range 0-1 A is\", R,\"ohm\"\n",
      "print\"(ii) Resistance of ammeter of range 0-15 A is\", R2,\"ohm\" "
     ],
     "language": "python",
     "metadata": {},
     "outputs": [
      {
       "output_type": "stream",
       "stream": "stdout",
       "text": [
        "(i) Resistance of ammeter of range 0-1 A is 0.075 ohm\n",
        "(ii) Resistance of ammeter of range 0-15 A is 1000.0 ohm\n"
       ]
      }
     ],
     "prompt_number": 47
    },
    {
     "cell_type": "heading",
     "level": 2,
     "metadata": {},
     "source": [
      "Example 9.36 Page no 510"
     ]
    },
    {
     "cell_type": "code",
     "collapsed": false,
     "input": [
      "#Given\n",
      "V=75                #mV\n",
      "Ig=0.025              #A\n",
      "I=25                     #mA\n",
      "I1=100\n",
      "V1=750\n",
      "\n",
      "#Calculation\n",
      "G=V/I\n",
      "S=(Ig*G)/(I1-Ig)\n",
      "R=(V1/Ig)-G\n",
      "\n",
      "#Result\n",
      "print\"(i) Resistance for an ammeter of range 0-100 A is\", round(S,5),\"ohm\"\n",
      "print\"(ii) Resistance for an ammeter of range 0-750 A is\", round(R,5),\"ohm\""
     ],
     "language": "python",
     "metadata": {},
     "outputs": [
      {
       "output_type": "stream",
       "stream": "stdout",
       "text": [
        "(i) Resistance for an ammeter of range 0-100 A is 0.00075 ohm\n",
        "(ii) Resistance for an ammeter of range 0-750 A is 29997.0 ohm\n"
       ]
      }
     ],
     "prompt_number": 58
    },
    {
     "cell_type": "heading",
     "level": 2,
     "metadata": {},
     "source": [
      "Example 9.37 Page no 510"
     ]
    },
    {
     "cell_type": "code",
     "collapsed": false,
     "input": [
      "#Given\n",
      "Rg=60\n",
      "R1=3.0\n",
      "rs=0.02\n",
      "\n",
      "#Calculation\n",
      "Rt=Rg+R1\n",
      "I=R1/Rt\n",
      "Rm=(Rg*rs)/(Rg+rs)\n",
      "R2=Rm+R1\n",
      "I1=R1/R2\n",
      "I2=R1/R1\n",
      "\n",
      "#Result\n",
      "print\"(i) The value of current is\", round(I,3),\"A\"\n",
      "print\"(ii) The value of current is\", round(I1,2),\"A\"\n",
      "print\"(iii) The value of current is\",I2,\"A\""
     ],
     "language": "python",
     "metadata": {},
     "outputs": [
      {
       "output_type": "stream",
       "stream": "stdout",
       "text": [
        "(i) The value of current is 0.048 A\n",
        "(ii) The value of current is 0.99 A\n",
        "(iii) The value of current is 1.0 A\n"
       ]
      }
     ],
     "prompt_number": 74
    },
    {
     "cell_type": "heading",
     "level": 2,
     "metadata": {},
     "source": [
      "Example 9.38 Page no 511"
     ]
    },
    {
     "cell_type": "code",
     "collapsed": false,
     "input": [
      "#Given\n",
      "V=100\n",
      "v=1\n",
      "a=1980\n",
      "\n",
      "#Calculation\n",
      "Rm=a/(V-v)\n",
      "\n",
      "#Result\n",
      "print\"Resistance of the voltmeter is\", Rm,\"ohm\""
     ],
     "language": "python",
     "metadata": {},
     "outputs": [
      {
       "output_type": "stream",
       "stream": "stdout",
       "text": [
        "Resistance of the voltmeter is 20 ohm\n"
       ]
      }
     ],
     "prompt_number": 77
    },
    {
     "cell_type": "heading",
     "level": 2,
     "metadata": {},
     "source": [
      "Example 9.39 Page no 511"
     ]
    },
    {
     "cell_type": "code",
     "collapsed": false,
     "input": [
      "#Given\n",
      "R1=1200.0                         #ohm\n",
      "R2=600                          #ohm\n",
      "Vab=5                           #V\n",
      "V=35\n",
      "\n",
      "#Calculation\n",
      "Rp=(R1*R2)/(R1+R2)\n",
      "I=Vab/Rp\n",
      "pd=V-Vab\n",
      "R=pd/I\n",
      "\n",
      "#Result\n",
      "print\"value of unknown resistance is\", R,\"ohm\""
     ],
     "language": "python",
     "metadata": {},
     "outputs": [
      {
       "output_type": "stream",
       "stream": "stdout",
       "text": [
        "value of unknown resistance is 2400.0 ohm\n"
       ]
      }
     ],
     "prompt_number": 84
    },
    {
     "cell_type": "heading",
     "level": 2,
     "metadata": {},
     "source": [
      "Example 9.40 Page no 511"
     ]
    },
    {
     "cell_type": "code",
     "collapsed": false,
     "input": [
      "#Given\n",
      "R1=400                      #ohm\n",
      "R2=800.0\n",
      "R3=10\n",
      "V=6\n",
      "R11=10000.0\n",
      "R22=400\n",
      "\n",
      "#Calculation\n",
      "Rt=R1+R2+R3\n",
      "I=V/Rt\n",
      "Rp=(R11*R22)/(R11+R22)\n",
      "R=Rp+800\n",
      "I1=V/R\n",
      "Vab=I1*Rp\n",
      "\n",
      "#Result\n",
      "print\"Hence the voltmeter will read\", round(Vab,2),\"V\""
     ],
     "language": "python",
     "metadata": {},
     "outputs": [
      {
       "output_type": "stream",
       "stream": "stdout",
       "text": [
        "Hence the voltmeter will read 1.95 V\n"
       ]
      }
     ],
     "prompt_number": 95
    },
    {
     "cell_type": "heading",
     "level": 2,
     "metadata": {},
     "source": [
      "Example 9.41 Page no 512"
     ]
    },
    {
     "cell_type": "code",
     "collapsed": false,
     "input": [
      "#Given\n",
      "V=2                               #V\n",
      "R=2000.0                           #ohm\n",
      "\n",
      "#Calculation\n",
      "I=V/R\n",
      "pd=I*R\n",
      "\n",
      "#Result\n",
      "print\"Reading of ammeter is\", I*10**3,\"mA \\nReading of voltmeter is\",pd,\"V\""
     ],
     "language": "python",
     "metadata": {},
     "outputs": [
      {
       "output_type": "stream",
       "stream": "stdout",
       "text": [
        "Reading of ammeter is 1.0 mA \n",
        "Reading of voltmeter is 2.0 V\n"
       ]
      }
     ],
     "prompt_number": 101
    },
    {
     "cell_type": "heading",
     "level": 2,
     "metadata": {},
     "source": [
      "Example 9.42 Page no 512"
     ]
    },
    {
     "cell_type": "code",
     "collapsed": false,
     "input": [
      "#Given\n",
      "E=3\n",
      "G=100\n",
      "R=200.0\n",
      "n=30\n",
      "\n",
      "#Calculation\n",
      "Ig=E/(G+R)\n",
      "K=(Ig/n)*10**6\n",
      "\n",
      "#Result\n",
      "print\"Figure of merit of the galvanometer is\", round(K,1),\"micro A/division\""
     ],
     "language": "python",
     "metadata": {},
     "outputs": [
      {
       "output_type": "stream",
       "stream": "stdout",
       "text": [
        "Figure of merit of the galvanometer is 333.3 micro A/division\n"
       ]
      }
     ],
     "prompt_number": 108
    },
    {
     "cell_type": "heading",
     "level": 2,
     "metadata": {},
     "source": [
      "Example 9.43 Page no 513"
     ]
    },
    {
     "cell_type": "code",
     "collapsed": false,
     "input": [
      "#Given\n",
      "V1=60                   #ohm\n",
      "V2=30\n",
      "R=300.0\n",
      "R1=1200\n",
      "R2=400                       #ohm\n",
      "\n",
      "#Calculation\n",
      "V=V1-V2\n",
      "I=V/R\n",
      "R11=(R1*R)/(R1+R)\n",
      "I=V1/(R11+R2)\n",
      "V11=I*R11\n",
      "\n",
      "#Result\n",
      "print\"Voltmeter will read\", V11,\"V\""
     ],
     "language": "python",
     "metadata": {},
     "outputs": [
      {
       "output_type": "stream",
       "stream": "stdout",
       "text": [
        "Voltmeter will read 22.5 V\n"
       ]
      }
     ],
     "prompt_number": 115
    },
    {
     "cell_type": "heading",
     "level": 2,
     "metadata": {},
     "source": [
      "Example 9.44 Page no 513"
     ]
    },
    {
     "cell_type": "code",
     "collapsed": false,
     "input": [
      "#Given\n",
      "R=20.0                   #K ohm\n",
      "R2=1                     #K ohm\n",
      "\n",
      "#Calculation\n",
      "Vr=(R*R2)/(R+R2)\n",
      "\n",
      "#Result\n",
      "print\"(i) Voltmeter resistance is\", R,\"K ohm\"\n",
      "print\"(ii) Voltmeter resistance is\",R2,\"K ohm\"\n",
      "print\"(iii) Voltmeter resistance is\",round(Vr,2),\"K ohm\""
     ],
     "language": "python",
     "metadata": {},
     "outputs": [
      {
       "output_type": "stream",
       "stream": "stdout",
       "text": [
        "(i) Voltmeter resistance is 20.0 K ohm\n",
        "(ii) Voltmeter resistance is 1 K ohm\n",
        "(iii) Voltmeter resistance is 0.95 K ohm\n"
       ]
      }
     ],
     "prompt_number": 123
    },
    {
     "cell_type": "heading",
     "level": 2,
     "metadata": {},
     "source": [
      "Example 9.45 Page no 514"
     ]
    },
    {
     "cell_type": "code",
     "collapsed": false,
     "input": [
      "#Given\n",
      "s=20*10**-6\n",
      "n=30\n",
      "I=1                    #A\n",
      "G=25                    #ohm\n",
      "\n",
      "#Calculation\n",
      "Ig=s*n\n",
      "S=Ig*G/(1-Ig)\n",
      "Ra=G*S/(G+S)\n",
      "\n",
      "#Result\n",
      "print\"Resistance of ammeter is\",Ra,\"ohm\""
     ],
     "language": "python",
     "metadata": {},
     "outputs": [
      {
       "output_type": "stream",
       "stream": "stdout",
       "text": [
        "Resistance of ammeter is 0.015 ohm\n"
       ]
      }
     ],
     "prompt_number": 128
    }
   ],
   "metadata": {}
  }
 ]
}