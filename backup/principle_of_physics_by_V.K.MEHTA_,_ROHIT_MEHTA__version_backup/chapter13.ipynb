{
 "metadata": {
  "name": "",
  "signature": "sha256:9195a4838870eb225ab235ab7007db341156360ed8273d6ec6c10a406508614b"
 },
 "nbformat": 3,
 "nbformat_minor": 0,
 "worksheets": [
  {
   "cells": [
    {
     "cell_type": "heading",
     "level": 1,
     "metadata": {},
     "source": [
      "Chapter 13 Alternating currents"
     ]
    },
    {
     "cell_type": "heading",
     "level": 2,
     "metadata": {},
     "source": [
      "Example 13.1 Page no 721"
     ]
    },
    {
     "cell_type": "code",
     "collapsed": false,
     "input": [
      "#Given\n",
      "I0=141.4                    #A\n",
      "w=314\n",
      "t=3*10**-3                         #s\n",
      "\n",
      "#Calculation\n",
      "import math\n",
      "f=w/(2*math.pi)\n",
      "T=1/f\n",
      "I=-I0*t*math.sin(314*180/3.14)\n",
      "\n",
      "#Result\n",
      "print\"(i) The maximum value is\",I0,\"A\"\n",
      "print\"(ii) Frequency is\",round(f,0),\"Hz\"\n",
      "print\"(iii) Time period is\",round(T,2),\"S\"\n",
      "print\"(iv) The instantaneous value is\", round(I*10**3,2),\"A\""
     ],
     "language": "python",
     "metadata": {},
     "outputs": [
      {
       "output_type": "stream",
       "stream": "stdout",
       "text": [
        "(i) The maximum value is 141.4 A\n",
        "(ii) Frequency is 50.0 Hz\n",
        "(iii) Time period is 0.02 S\n",
        "(iv) The instantaneous value is 411.54 A\n"
       ]
      }
     ],
     "prompt_number": 31
    },
    {
     "cell_type": "heading",
     "level": 2,
     "metadata": {},
     "source": [
      "Example 13.3 Page no 721"
     ]
    },
    {
     "cell_type": "code",
     "collapsed": false,
     "input": [
      "#Given\n",
      "E=220                      #V\n",
      "\n",
      "#Calculation\n",
      "import math\n",
      "E0=math.sqrt(2)*E\n",
      "Emean=2*E0/math.pi\n",
      "\n",
      "#Result\n",
      "print\"Average e.m.f during a positive half cycle is\", round(Emean,0),\"V\""
     ],
     "language": "python",
     "metadata": {},
     "outputs": [
      {
       "output_type": "stream",
       "stream": "stdout",
       "text": [
        "Average e.m.f during a positive half cycle is 198.0 V\n"
       ]
      }
     ],
     "prompt_number": 38
    },
    {
     "cell_type": "heading",
     "level": 2,
     "metadata": {},
     "source": [
      "Example 13.4 Page no 721"
     ]
    },
    {
     "cell_type": "code",
     "collapsed": false,
     "input": [
      "#Given\n",
      "A=2\n",
      "\n",
      "#Calculation\n",
      "import math\n",
      "I=math.sqrt(A**2)\n",
      "\n",
      "#Result\n",
      "print\"r.m.s Value of current is\", I,\"A\""
     ],
     "language": "python",
     "metadata": {},
     "outputs": [
      {
       "output_type": "stream",
       "stream": "stdout",
       "text": [
        "r.m.s Value of current is 2.0 A\n"
       ]
      }
     ],
     "prompt_number": 42
    },
    {
     "cell_type": "heading",
     "level": 2,
     "metadata": {},
     "source": [
      "Example 13.5 Page no 722"
     ]
    },
    {
     "cell_type": "code",
     "collapsed": false,
     "input": [
      "#Given\n",
      "I0=120                     #A\n",
      "a=360.0\n",
      "b=96\n",
      "c=120.0\n",
      "\n",
      "#Calculation\n",
      "import math\n",
      "t=1/a\n",
      "I=I0*math.sin(math.pi/3.0)\n",
      "a1=b/c\n",
      "a2=math.asin(a1)\n",
      "t=a2/(c*math.pi)\n",
      "\n",
      "#Result\n",
      "print\"(i) Instantaneous value after 1/360 second is\",round(I,2),\"A\"\n",
      "print\"(ii) Time taken to reach 96 A for the first tiem is\", round(t,5),\"S\""
     ],
     "language": "python",
     "metadata": {},
     "outputs": [
      {
       "output_type": "stream",
       "stream": "stdout",
       "text": [
        "(i) Instantaneous value after 1/360 second is 103.92 A\n",
        "(ii) Time taken to reach 96 A for the first tiem is 0.00246 S\n"
       ]
      }
     ],
     "prompt_number": 65
    },
    {
     "cell_type": "heading",
     "level": 2,
     "metadata": {},
     "source": [
      "Example 13.7 Page no 726"
     ]
    },
    {
     "cell_type": "code",
     "collapsed": false,
     "input": [
      "#Given\n",
      "E0=60\n",
      "R=20.0                     #ohm\n",
      "\n",
      "#Calculation\n",
      "import math\n",
      "Ev=E0/(math.sqrt(2))\n",
      "Iv=Ev/R\n",
      "\n",
      "#Result\n",
      "print\"(i) A.C ammeter will\",round(Iv,2),\"A\"\n",
      "print\"(ii) Average value of a.c over one cycle is zero\""
     ],
     "language": "python",
     "metadata": {},
     "outputs": [
      {
       "output_type": "stream",
       "stream": "stdout",
       "text": [
        "(i) A.C ammeter will 2.12 A\n",
        "(ii) Average value of a.c over one cycle is zero\n"
       ]
      }
     ],
     "prompt_number": 73
    },
    {
     "cell_type": "heading",
     "level": 2,
     "metadata": {},
     "source": [
      "Example 13.8 Page no 726"
     ]
    },
    {
     "cell_type": "code",
     "collapsed": false,
     "input": [
      "#Given\n",
      "E0=250                     #V\n",
      "I0=10                     #A\n",
      "\n",
      "#Calculation\n",
      "P=E0*I0\n",
      "P1=P/2.0\n",
      "\n",
      "#Result\n",
      "print\"(i) Peak power is\", P,\"W\"\n",
      "print\"(ii) Average power is\",P1,\"W\""
     ],
     "language": "python",
     "metadata": {},
     "outputs": [
      {
       "output_type": "stream",
       "stream": "stdout",
       "text": [
        "(i) Peak power is 2500 W\n",
        "(ii) Average power is 1250.0 W\n"
       ]
      }
     ],
     "prompt_number": 78
    },
    {
     "cell_type": "heading",
     "level": 2,
     "metadata": {},
     "source": [
      "Example 13.9 Page no 726"
     ]
    },
    {
     "cell_type": "code",
     "collapsed": false,
     "input": [
      "#Given\n",
      "Ev=120.0\n",
      "P=1000                        #W\n",
      "Ev1=240\n",
      "\n",
      "#Calculation\n",
      "Iv=P/Ev\n",
      "I0=math.sqrt(2)*Iv\n",
      "R=Ev/Iv\n",
      "P=Ev1**2/R\n",
      "\n",
      "#Result\n",
      "print\"Resistance is\", R,\"ohm \\nPeak current is\",P,\"W\""
     ],
     "language": "python",
     "metadata": {},
     "outputs": [
      {
       "output_type": "stream",
       "stream": "stdout",
       "text": [
        "Resistance is 14.4 ohm \n",
        "Peak current is 4000.0 W\n"
       ]
      }
     ],
     "prompt_number": 88
    },
    {
     "cell_type": "heading",
     "level": 2,
     "metadata": {},
     "source": [
      "Example 13.11 Page no 729"
     ]
    },
    {
     "cell_type": "code",
     "collapsed": false,
     "input": [
      "#Given\n",
      "Xl=220                    #ohm\n",
      "L=0.7                       #H\n",
      "\n",
      "#Calculation\n",
      "import math\n",
      "f=Xl/(2*math.pi*L)\n",
      "\n",
      "#Result\n",
      "print\"Frequency is\", round(f,0),\"HZ\""
     ],
     "language": "python",
     "metadata": {},
     "outputs": [
      {
       "output_type": "stream",
       "stream": "stdout",
       "text": [
        "Frequency is 50.0 HZ\n"
       ]
      }
     ],
     "prompt_number": 4
    },
    {
     "cell_type": "heading",
     "level": 2,
     "metadata": {},
     "source": [
      "Example 13.12 Page no 729"
     ]
    },
    {
     "cell_type": "code",
     "collapsed": false,
     "input": [
      "#Given\n",
      "f=50                     #Hz\n",
      "I=1.4\n",
      "\n",
      "#Calculation\n",
      "import math\n",
      "E=2*math.pi*f*I*2*math.cos(2*math.pi*f)\n",
      "Ev=E/math.sqrt(2)\n",
      "\n",
      "#Result\n",
      "print\"(i) Potential difference across the coil is\", round(E,0),\"cos 100*math.pi*t\"\n",
      "print\"(ii) r.m.s value of p.d across the coil is\", round(Ev,1),\"V\""
     ],
     "language": "python",
     "metadata": {},
     "outputs": [
      {
       "output_type": "stream",
       "stream": "stdout",
       "text": [
        "(i) Potential difference across the coil is 880.0 cos 100*math.pi*t\n",
        "(ii) r.m.s value of p.d across the coil is 622.0 V\n"
       ]
      }
     ],
     "prompt_number": 16
    },
    {
     "cell_type": "heading",
     "level": 2,
     "metadata": {},
     "source": [
      "Example 13.13 Page no 729"
     ]
    },
    {
     "cell_type": "code",
     "collapsed": false,
     "input": [
      "#Given\n",
      "f=50                     #Hz\n",
      "L=2 \n",
      "Ev=12                  #V\n",
      "L1=6\n",
      "\n",
      "#Calculation\n",
      "import math\n",
      "Xl=2*math.pi*f*L\n",
      "Iv=Ev/Xl\n",
      "Xl1=2*math.pi*f*L1\n",
      "Iv1=Ev/Xl1\n",
      "\n",
      "#Result\n",
      "print\"Current flows when the inductance is changed to 6 H\", round(Iv1,4),\"A\""
     ],
     "language": "python",
     "metadata": {},
     "outputs": [
      {
       "output_type": "stream",
       "stream": "stdout",
       "text": [
        "Current flows when the inductance is changed to 6 H 0.0064 A\n"
       ]
      }
     ],
     "prompt_number": 23
    },
    {
     "cell_type": "heading",
     "level": 2,
     "metadata": {},
     "source": [
      "Example 13.14 Page no 729"
     ]
    },
    {
     "cell_type": "code",
     "collapsed": false,
     "input": [
      "#Given\n",
      "Ev=200                   #V\n",
      "I0=0.9                   #A\n",
      "f=50                      #Hz\n",
      "\n",
      "#Calculation\n",
      "import math\n",
      "E0=math.sqrt(2)*Ev\n",
      "Xl=E0/I0\n",
      "L=Xl/(2*math.pi*f)\n",
      "\n",
      "#Result\n",
      "print\"The value of inductance is\", round(L,0),\"H\""
     ],
     "language": "python",
     "metadata": {},
     "outputs": [
      {
       "output_type": "stream",
       "stream": "stdout",
       "text": [
        "The value of inductance is 1.0 H\n"
       ]
      }
     ],
     "prompt_number": 29
    },
    {
     "cell_type": "heading",
     "level": 2,
     "metadata": {},
     "source": [
      "Example 13.15 Page no 732"
     ]
    },
    {
     "cell_type": "code",
     "collapsed": false,
     "input": [
      "#Given\n",
      "C=318*10**-6                       #F\n",
      "Ev=230                               #V\n",
      "f=50                                 #Hz\n",
      "\n",
      "#Calculation\n",
      "import math\n",
      "Xc=1/(2*math.pi*f*C)\n",
      "Iv=Ev/Xc\n",
      "E0=math.sqrt(2)*Ev\n",
      "I0=math.sqrt(2)*Iv\n",
      "w=2*math.pi*f\n",
      "\n",
      "#Result\n",
      "print\"(i) The capacitive reactance is\",round(Xc,0),\"ohm\"\n",
      "print\"(ii) r.m.s value of circuit current is\",round(Iv,0),\"A\"\n",
      "print\"(iii) Equation for voltage is\",round(E0,2),\"sin 314 t\"\n",
      "print\"Equation for current is\",round(I0,2),\"sin (314 t+pi/2)\""
     ],
     "language": "python",
     "metadata": {},
     "outputs": [
      {
       "output_type": "stream",
       "stream": "stdout",
       "text": [
        "(i) The capacitive reactance is 10.0 ohm\n",
        "(ii) r.m.s value of circuit current is 23.0 A\n",
        "(iii) Equation for voltage is 325.27 sin 314 t\n",
        "Equation for current is 32.5 sin (314 t+pi/2)\n"
       ]
      }
     ],
     "prompt_number": 49
    },
    {
     "cell_type": "heading",
     "level": 2,
     "metadata": {},
     "source": [
      "Example 13.16 Page no 732"
     ]
    },
    {
     "cell_type": "code",
     "collapsed": false,
     "input": [
      "#Given\n",
      "L=1                          #H\n",
      "Xl=3142.0                     #ohm\n",
      "\n",
      "#Calculation\n",
      "import math\n",
      "f=Xl/(2*math.pi*L)\n",
      "C=1/(2.0*math.pi*f*Xl)\n",
      "\n",
      "#Result\n",
      "print\"(i) Value of frequency is\", round(f,0),\"ohm\"\n",
      "print\"(ii) Capacity of a condenser is\",round(C*10**6,2),\"micro F\""
     ],
     "language": "python",
     "metadata": {},
     "outputs": [
      {
       "output_type": "stream",
       "stream": "stdout",
       "text": [
        "(i) Value of frequency is 500.0 ohm\n",
        "(ii) Capacity of a condenser is 0.1 micro F\n"
       ]
      }
     ],
     "prompt_number": 59
    },
    {
     "cell_type": "heading",
     "level": 2,
     "metadata": {},
     "source": [
      "Example 13.17 Page no 732"
     ]
    },
    {
     "cell_type": "code",
     "collapsed": false,
     "input": [
      "#Given\n",
      "C=50*10**-6                          #F\n",
      "V=230                                 #V\n",
      "\n",
      "#Calculation\n",
      "import math\n",
      "q=C*V*math.sqrt(2)\n",
      "E=0.5*C*(V*math.sqrt(2))**2\n",
      "\n",
      "#Result\n",
      "print\"(i) Maximum charge on the capacitor is\", round(q*10**3,2),\"*10**-3 C\"\n",
      "print\"(ii) The maximum energy stored in the capacitor is\", round(E,2),\"J\""
     ],
     "language": "python",
     "metadata": {},
     "outputs": [
      {
       "output_type": "stream",
       "stream": "stdout",
       "text": [
        "(i) Maximum charge on the capacitor is 16.26 *10**-3 C\n",
        "(ii) The maximum energy stored in the capacitor is 2.65 J\n"
       ]
      }
     ],
     "prompt_number": 69
    },
    {
     "cell_type": "heading",
     "level": 2,
     "metadata": {},
     "source": [
      "Example 13.18 Page no 732"
     ]
    },
    {
     "cell_type": "code",
     "collapsed": false,
     "input": [
      "#Given\n",
      "I0=10                 #A\n",
      "w=314\n",
      "L=5\n",
      "\n",
      "#Calculation\n",
      "E=0.5*L*I0**2\n",
      "E0=w*L*I0\n",
      "C=(E*2)/(E0**2)\n",
      "\n",
      "#Result\n",
      "print\"Capacitance of the capacitor is\",round(C*10**6,2),\"micro F\""
     ],
     "language": "python",
     "metadata": {},
     "outputs": [
      {
       "output_type": "stream",
       "stream": "stdout",
       "text": [
        "Capacitance of the capacitor is 2.03 micro F\n"
       ]
      }
     ],
     "prompt_number": 76
    },
    {
     "cell_type": "heading",
     "level": 2,
     "metadata": {},
     "source": [
      "Example 13.19 Page no 737"
     ]
    },
    {
     "cell_type": "code",
     "collapsed": false,
     "input": [
      "#Given\n",
      "f=50\n",
      "L=31.8*10**-3                          #H\n",
      "R=7.0                                    #ohm\n",
      "Ev=230                                     #V\n",
      "\n",
      "#Calculation\n",
      "import math\n",
      "Xl=2*math.pi*f*L\n",
      "Z=math.sqrt(R**2+Xl**2)\n",
      "Iv=Ev/Z\n",
      "T=Xl/R\n",
      "a=math.atan(T)*180/3.14\n",
      "a1=math.cos(a)*3.14/180.0\n",
      "P=Iv**2*R\n",
      "t=55*math.pi/(180.0*3.14)\n",
      "\n",
      "#Result\n",
      "print\"(i) Circuit current is\",round(Iv,2),\"A\"\n",
      "print\"(ii) Phase angle is\", round(a,0),\"lag\"\n",
      "print\"(iii) Power factor is\", round(a1*10**3,3),\"lag\"\n",
      "print\"(iv) Power consumed is\",round(P,0),\"W\"\n",
      "print\"Time lag between voltage maximum and current maximum is\",round(t*10**1,2),\"*10**-3 S\""
     ],
     "language": "python",
     "metadata": {},
     "outputs": [
      {
       "output_type": "stream",
       "stream": "stdout",
       "text": [
        "(i) Circuit current is 18.85 A\n",
        "(ii) Phase angle is 55.0 lag\n",
        "(iii) Power factor is 0.554 lag\n",
        "(iv) Power consumed is 2488.0 W\n",
        "Time lag between voltage maximum and current maximum is 3.06 *10**-3 S\n"
       ]
      }
     ],
     "prompt_number": 121
    },
    {
     "cell_type": "heading",
     "level": 2,
     "metadata": {},
     "source": [
      "Example 13.20 Page no 737"
     ]
    },
    {
     "cell_type": "code",
     "collapsed": false,
     "input": [
      "#Given\n",
      "P=400                          #W\n",
      "Ev=250                          #V\n",
      "Iv=2.5                           #A\n",
      "\n",
      "#Calculation\n",
      "import math\n",
      "a=P/(Ev*Iv)\n",
      "Z=Ev/Iv\n",
      "R=Z*a\n",
      "Xl=math.sqrt(Z**2-R**2)\n",
      "L=Xl/(2*math.pi*f)\n",
      "\n",
      "#Result\n",
      "print\"(i) The power factor is\",a,\"lag\"\n",
      "print\"(ii) Resistance of the coil is\", R,\"ohm\"\n",
      "print\"(iii) Inductance of the coil is\", round(L,3),\"H\""
     ],
     "language": "python",
     "metadata": {},
     "outputs": [
      {
       "output_type": "stream",
       "stream": "stdout",
       "text": [
        "(i) The power factor is 0.64 lag\n",
        "(ii) Resistance of the coil is 64.0 ohm\n",
        "(iii) Inductance of the coil is 0.245 H\n"
       ]
      }
     ],
     "prompt_number": 134
    },
    {
     "cell_type": "heading",
     "level": 2,
     "metadata": {},
     "source": [
      "Example 13.21 Page no 738"
     ]
    },
    {
     "cell_type": "code",
     "collapsed": false,
     "input": [
      "#Given\n",
      "Vr=150                     #V\n",
      "R=75.0                        #ohm\n",
      "f=50                          #Hz\n",
      "L=318*10**-3                      #H\n",
      "\n",
      "#Calculation\n",
      "import math\n",
      "Iv=Vr/R\n",
      "Xl=2*math.pi*f*L\n",
      "Vl=Iv*Xl\n",
      "Z=math.sqrt(R**2+Xl**2)\n",
      "Ev=Iv*Z\n",
      "a=Xl/R\n",
      "a1=math.atan(a)*180/3.14\n",
      "\n",
      "#Result\n",
      "print \"(i) The supply voltage is\",round(Ev,0),\"V\"\n",
      "print\"(ii) The phase angle is\",round(a1,2),\"degree lag\""
     ],
     "language": "python",
     "metadata": {},
     "outputs": [
      {
       "output_type": "stream",
       "stream": "stdout",
       "text": [
        "(i) The supply voltage is 250.0 V\n",
        "(ii) The phase angle is 53.13 degree lag\n"
       ]
      }
     ],
     "prompt_number": 149
    },
    {
     "cell_type": "heading",
     "level": 2,
     "metadata": {},
     "source": [
      "Example 13.22 Page no 738"
     ]
    },
    {
     "cell_type": "code",
     "collapsed": false,
     "input": [
      "#Given\n",
      "P=60                   #W\n",
      "Ev=100.0                     #V\n",
      "Ev1=220                        #v\n",
      "f=50                           #Hz\n",
      "\n",
      "#Calculation\n",
      "Iv=P/Ev\n",
      "Vr=Ev1-Ev\n",
      "R=Vr/Iv\n",
      "Xl=Vl/Iv\n",
      "Vl=math.sqrt(Ev1**2-Ev**2)\n",
      "L=Xl/(2*math.pi*f)\n",
      "\n",
      "#Result\n",
      "print\"(i) The value of non inductive resistance is\", R,\"ohm\"\n",
      "print\"(ii) Pure inductance is\",round(L,2),\"H\""
     ],
     "language": "python",
     "metadata": {},
     "outputs": [
      {
       "output_type": "stream",
       "stream": "stdout",
       "text": [
        "(i) The value of non inductive resistance is 200.0 ohm\n",
        "(ii) Pure inductance is 1.04 H\n"
       ]
      }
     ],
     "prompt_number": 163
    },
    {
     "cell_type": "heading",
     "level": 2,
     "metadata": {},
     "source": [
      "Example 13.23 Page no 739"
     ]
    },
    {
     "cell_type": "code",
     "collapsed": false,
     "input": [
      "#Given\n",
      "f1=50.0\n",
      "L=1\n",
      "E=100                             #V\n",
      "I=1.0                             #A\n",
      "Iv=0.5                            #A\n",
      "f=0\n",
      "#Calculation\n",
      "import math\n",
      "Xl=2*math.pi*f*L\n",
      "R=E/I\n",
      "Z=Ev/Iv\n",
      "Xl1=math.sqrt(Z**2-R**2)\n",
      "L=Xl1/(2.0*math.pi*f1)\n",
      "\n",
      "#Result\n",
      "print\"The value of resistance is\",R ,\"ohm\"\n",
      "print\"The value of impedence is\",Z,\"ohm\"\n",
      "print\"Inductance of the coil is\",round(L,2),\"H\""
     ],
     "language": "python",
     "metadata": {},
     "outputs": [
      {
       "output_type": "stream",
       "stream": "stdout",
       "text": [
        "The value of resistance is 100.0 ohm\n",
        "The value of impedence is 200.0 ohm\n",
        "Inductance of the coil is 0.55 H\n"
       ]
      }
     ],
     "prompt_number": 183
    },
    {
     "cell_type": "heading",
     "level": 2,
     "metadata": {},
     "source": [
      "Example 13.24 Page no 742"
     ]
    },
    {
     "cell_type": "code",
     "collapsed": false,
     "input": [
      "#Given\n",
      "I=10**6                          #A\n",
      "f=50                              #Hz\n",
      "C=79.5\n",
      "R=30                                 #ohm\n",
      "Ev=100                                #V\n",
      "\n",
      "#Calculation\n",
      "import math\n",
      "Xc=I/(2*math.pi*f*C)\n",
      "Z=math.sqrt(R**2+Xc**2)\n",
      "Iv=Ev/Z\n",
      "a=Xc/R\n",
      "a1=math.atan(a)*180/3.14\n",
      "w=2*math.pi*f\n",
      "I0=math.sqrt(2)*Iv\n",
      "\n",
      "#Result\n",
      "print\"(i) Circuit impedence is\", round(Z,0),\"ohm\"\n",
      "print\"(ii) Circuit current is\",round(Iv,0),\"A\"\n",
      "print\"(iii) Phase angle is\",round(a1,0),\"degree lead\"\n",
      "print\"(iv) Equation for the instantaneous value of current is\",round(I0,3),\"sin(\",round(w,0),\"t+\",round(a1,0),\"degree)\""
     ],
     "language": "python",
     "metadata": {},
     "outputs": [
      {
       "output_type": "stream",
       "stream": "stdout",
       "text": [
        "(i) Circuit impedence is 50.0 ohm\n",
        "(ii) Circuit current is 2.0 A\n",
        "(iii) Phase angle is 53.0 degree lead\n",
        "(iv) Equation for the instantaneous value of current is 2.827 sin( 314.0 t+ 53.0 degree)\n"
       ]
      }
     ],
     "prompt_number": 24
    },
    {
     "cell_type": "heading",
     "level": 2,
     "metadata": {},
     "source": [
      "Example 13.25 Page no 742"
     ]
    },
    {
     "cell_type": "code",
     "collapsed": false,
     "input": [
      "#Given\n",
      "P=80                         #W\n",
      "V=100.0                          #v\n",
      "V1=200                             #V\n",
      "f=50                               #Hz\n",
      "\n",
      "#Calculation\n",
      "import math\n",
      "Iv=P/V\n",
      "Vc=math.sqrt(V1**2-V**2)\n",
      "Xc=Vc/Iv\n",
      "C=1/(2.0*math.pi*f*Xc)\n",
      "\n",
      "#Result\n",
      "print\"Capcitance of a capacitor is\", round(C*10**6,1),\"micro F\""
     ],
     "language": "python",
     "metadata": {},
     "outputs": [
      {
       "output_type": "stream",
       "stream": "stdout",
       "text": [
        "Capcitance of a capacitor is 14.7 micro F\n"
       ]
      }
     ],
     "prompt_number": 32
    },
    {
     "cell_type": "heading",
     "level": 2,
     "metadata": {},
     "source": [
      "Example 13.26 Page no 742"
     ]
    },
    {
     "cell_type": "code",
     "collapsed": false,
     "input": [
      "#Given\n",
      "Ev=200                                           #V\n",
      "Iv=10.0\n",
      "f=50                                     #Hz\n",
      "\n",
      "#Calculation\n",
      "z=Ev/Iv\n",
      "R=z*math.cos(30*3.14/180.0)\n",
      "Xc=z*math.sin(30*3.14/180.0)\n",
      "C=1/(2.0*math.pi*f*Xc)\n",
      "\n",
      "#Result\n",
      "print\"(i) Value of resistance is\", round(R,2),\"ohm\"\n",
      "print\"(ii) Capacitive reactance is\", round(Xc,0),\"ohm\"\n",
      "print\"(iii) Capacitance of the circuit is\", round(C*10**6,0),\"micro F\""
     ],
     "language": "python",
     "metadata": {},
     "outputs": [
      {
       "output_type": "stream",
       "stream": "stdout",
       "text": [
        "(i) Value of resistance is 17.32 ohm\n",
        "(ii) Capacitive reactance is 10.0 ohm\n",
        "(iii) Capacitance of the circuit is 318.0 micro F\n"
       ]
      }
     ],
     "prompt_number": 47
    },
    {
     "cell_type": "heading",
     "level": 2,
     "metadata": {},
     "source": [
      "Example 13.27 Page no 743"
     ]
    },
    {
     "cell_type": "code",
     "collapsed": false,
     "input": [
      "#Given\n",
      "Iv=5                   #A\n",
      "R=10                   #ohm\n",
      "Ev=60                  #V\n",
      "C=400                  #micro F\n",
      "\n",
      "#Calculation\n",
      "import math\n",
      "Vr=Iv*R\n",
      "Vc=math.sqrt(Ev**2-Vr**2)\n",
      "Xc=Vc/Iv\n",
      "f=1/(2.0*math.pi*C*Xc)\n",
      "a=Vc/Vr\n",
      "a1=math.atan(a)*180/3.14\n",
      "\n",
      "#Result\n",
      "print\"The value of supplied frequency is\", round(f*10**6,0),\"Hz\"\n",
      "print\"Phase angle between circuit current and supply voltage is\",round(a1,1),\"degree lead\""
     ],
     "language": "python",
     "metadata": {},
     "outputs": [
      {
       "output_type": "stream",
       "stream": "stdout",
       "text": [
        "The value of supplied frequency is 60.0 Hz\n",
        "Phase angle between circuit current and supply voltage is 33.6 degree lead\n"
       ]
      }
     ],
     "prompt_number": 65
    },
    {
     "cell_type": "heading",
     "level": 2,
     "metadata": {},
     "source": [
      "Example 13.28 Page no 743"
     ]
    },
    {
     "cell_type": "code",
     "collapsed": false,
     "input": [
      "#Given\n",
      "R=200                #ohm\n",
      "C=15*10**-6             #F\n",
      "Ev=220                   #V\n",
      "f=50                    #Hz\n",
      "\n",
      "#Calculation\n",
      "import math\n",
      "Xc=1/(2*math.pi*f*C)\n",
      "Z=math.sqrt(R**2+Xc**2)\n",
      "Iv=Ev/Z\n",
      "Vr=Iv*R\n",
      "Vc=Iv*Xc\n",
      "V=Vr+Vc\n",
      "Vrc=math.sqrt(Vr**2+Vc**2)\n",
      "\n",
      "#Result\n",
      "print\"(a) The current in the circuit is\", round(Iv,3),\"A\"\n",
      "print\"(b) Voltage across the resistor and capacitor is\",Vrc,\"V\""
     ],
     "language": "python",
     "metadata": {},
     "outputs": [
      {
       "output_type": "stream",
       "stream": "stdout",
       "text": [
        " (a) The current in the circuit is 0.754 A\n",
        "(b) Voltage across the resistor and capacitor is 220.0 V\n"
       ]
      }
     ],
     "prompt_number": 83
    },
    {
     "cell_type": "heading",
     "level": 2,
     "metadata": {},
     "source": [
      "Example 13.29 Page no 746"
     ]
    },
    {
     "cell_type": "code",
     "collapsed": false,
     "input": [
      "#Given\n",
      "R1=10.0               #ohm\n",
      "R2=5.0                #ohm\n",
      "R3=15                #ohm\n",
      "Ev=200\n",
      "\n",
      "#Calculation\n",
      "import math\n",
      "R=R1+R2+R3\n",
      "X=R3-(R1+R3)\n",
      "Z=math.sqrt(R**2+R1**2)\n",
      "Iv=Ev/Z\n",
      "T=X/R\n",
      "a=-math.atan(T)*180/3.14\n",
      "b=math.cos(a*3.14/180.0)\n",
      "P=Iv**2*R\n",
      "print\"(i) Circuit current is\",round(Iv,2) ,\"A\"\n",
      "print\"(ii) Circuit phase angle is\",round(a,2),\"degree lead\"\n",
      "print\"(iii)Phase angle between applied voltage and circuit current \",round(b,3),\"lead\"\n",
      "print\"(iv)Power consumed is\",P,\"W\"\n"
     ],
     "language": "python",
     "metadata": {},
     "outputs": [
      {
       "output_type": "stream",
       "stream": "stdout",
       "text": [
        "(i) Circuit current is 6.32 A\n",
        "(ii) Circuit phase angle is 18.44 degree lead\n",
        "(iii)Phase angle between applied voltage and circuit current  0.949 lead\n",
        "(iv)Power consumed is 1200.0 W\n"
       ]
      }
     ],
     "prompt_number": 116
    },
    {
     "cell_type": "heading",
     "level": 2,
     "metadata": {},
     "source": [
      "Example 13.30 Page no. 746"
     ]
    },
    {
     "cell_type": "code",
     "collapsed": false,
     "input": [
      "#Given\n",
      "F=50                              #HZ\n",
      "L=0.06 \n",
      "C=6.8\n",
      "l=10**6\n",
      "R=2.5\n",
      "Ev=230                             #V\n",
      "\n",
      "#Calculation\n",
      "import math \n",
      "Xl=2*math.pi*F*L\n",
      "Xc=l/(2*math.pi*F*C)\n",
      "Z=math.sqrt(R**2+(Xl-Xc)**2)\n",
      "Iv=Ev/Z\n",
      "a=(Xl-Xc)/R\n",
      "a2=-math.atan(a)*180.0/3.14\n",
      "P=R/Z\n",
      "P1=Ev*Iv*P\n",
      "\n",
      "#Result\n",
      "print\"(i) Circuit impedence is\",round(Z,1),\"ohm\"\n",
      "print\"(ii) Circuit current is\",round(Iv,3),\"A\"\n",
      "print\"(iii) Phase angle is \",round(a2,1),\"degree lead\" \n",
      "print\"(iv) Power factor is\",round(P,4),\"lead\"\n",
      "print\"(v) Power consumed is\",round(P1,2),\"W\""
     ],
     "language": "python",
     "metadata": {},
     "outputs": [
      {
       "output_type": "stream",
       "stream": "stdout",
       "text": [
        "(i) Circuit impedence is 449.3 ohm\n",
        "(ii) Circuit current is 0.512 A\n",
        "(iii) Phase angle is  89.7 degree lead\n",
        "(iv) Power factor is 0.0056 lead\n",
        "(v) Power consumed is 0.66 W\n"
       ]
      }
     ],
     "prompt_number": 146
    },
    {
     "cell_type": "heading",
     "level": 2,
     "metadata": {},
     "source": [
      "Example 13.31 Page no. 746"
     ]
    },
    {
     "cell_type": "code",
     "collapsed": false,
     "input": [
      "#Given\n",
      "a=65                         #degree\n",
      "b=20                         #degree\n",
      "w=3000\n",
      "L=0.01\n",
      "E0=400                      #V\n",
      "I=10\n",
      "f=50\n",
      "\n",
      "#calculation\n",
      "import math\n",
      "a=a-b\n",
      "Xl=w*L\n",
      "Z=E0/(I*math.sqrt(2))\n",
      "R=Z/math.sqrt(2)\n",
      "Xc=Xl-R\n",
      "C=1/(w*Xc*10**-6)\n",
      "\n",
      "#Result\n",
      "print\" The value of C is\" ,round(C,1),\"microF\"\n",
      "print\" The value of R is\",R,\"ohm\""
     ],
     "language": "python",
     "metadata": {},
     "outputs": [
      {
       "output_type": "stream",
       "stream": "stdout",
       "text": [
        " The value of C is 33.3 microF\n",
        " The value of R is 20.0 ohm\n"
       ]
      }
     ],
     "prompt_number": 161
    },
    {
     "cell_type": "heading",
     "level": 2,
     "metadata": {},
     "source": [
      "Example 13.32 Page no 747"
     ]
    },
    {
     "cell_type": "code",
     "collapsed": false,
     "input": [
      "#Given\n",
      "f=50                        #Hz\n",
      "L=0.03\n",
      "R=8                          #ohm\n",
      "Ev=240                       #V\n",
      "\n",
      "#Calculation\n",
      "import math\n",
      "Xl=2*math.pi*f*L\n",
      "Z=math.sqrt(R**2+Xl**2)\n",
      "Iv=Ev/Z\n",
      "P=Iv**2*R\n",
      "a=R/Z\n",
      "Xc=2*Xl\n",
      "C=1/(2*math.pi*f*Xc)\n",
      "\n",
      "#Result\n",
      "print\"(i) The value of current is\",round(Iv,2) ,\"A\"\n",
      "print\"  The value of power is\",round(P,0),\"W\"\n",
      "print \"  Power factor is\",round(a,2),\"lag\"\n",
      "print\"(ii) The vaue of capacitance is\", round(C*10**6,0),\"micro F\""
     ],
     "language": "python",
     "metadata": {},
     "outputs": [
      {
       "output_type": "stream",
       "stream": "stdout",
       "text": [
        "(i) The value of current is 19.41 A\n",
        "  The value of power is 3015.0 W\n",
        "  Power factor is 0.65 lag\n",
        "(ii) The vaue of capacitance is 169.0 micro F\n"
       ]
      }
     ],
     "prompt_number": 186
    },
    {
     "cell_type": "heading",
     "level": 2,
     "metadata": {},
     "source": [
      "Example 13.33 Page no 747"
     ]
    },
    {
     "cell_type": "code",
     "collapsed": false,
     "input": [
      "#Given\n",
      "Vr=65                        #V\n",
      "R=100.0                         #ohm\n",
      "Vl=204\n",
      "Vc=415\n",
      "\n",
      "#Calculation\n",
      "import math\n",
      "Iv=Vr/R\n",
      "Xl=Vl/Iv\n",
      "L=Xl/(2*math.pi*f)\n",
      "Xc=Vc/Iv\n",
      "C=1/(2*math.pi*f*Xc)\n",
      "\n",
      "#Result\n",
      "print\"(i) Circuit current is\", Iv,\"A\"\n",
      "print\"(ii) Inductance is\",round(L,0),\"H\"\n",
      "print\"(iii) The value of capacitance is\",round(C*10**6,0),\"micro F\""
     ],
     "language": "python",
     "metadata": {},
     "outputs": [
      {
       "output_type": "stream",
       "stream": "stdout",
       "text": [
        "(i) Circuit current is 0.65 A\n",
        "(ii) Inductance is 1.0 H\n",
        "(iii) The value of capacitance is 5.0 micro F\n"
       ]
      }
     ],
     "prompt_number": 201
    },
    {
     "cell_type": "heading",
     "level": 2,
     "metadata": {},
     "source": [
      "Example 13.34 Page no 752"
     ]
    },
    {
     "cell_type": "code",
     "collapsed": false,
     "input": [
      "#Given\n",
      "C=100*10**-12                         #F\n",
      "L=100*10**-6                           #H\n",
      "Ev=10\n",
      "R=100.0                                   #ohm\n",
      "\n",
      "#Calculation\n",
      "import math\n",
      "fr=1/(2*math.pi*math.sqrt(L*C))\n",
      "Iv=Ev/R\n",
      "Vl=Iv*2*math.pi*fr*L\n",
      "Vc=Iv/(2.0*math.pi*fr*C)\n",
      "\n",
      "#Result\n",
      "print\"(i) Resonant frequency is\", round(fr*10**-6,2),\"*10**6 HZ\"\n",
      "print\"(ii) Current at resonance is\", Iv,\"A\"\n",
      "print\"(iii) Voltage across L and C is\", Vc,\"V\""
     ],
     "language": "python",
     "metadata": {},
     "outputs": [
      {
       "output_type": "stream",
       "stream": "stdout",
       "text": [
        "(i) Resonant frequency is 1.59 *10**6 HZ\n",
        "(ii) Current at resonance is 0.1 A\n",
        "(iii) Voltage across L and C is 100.0 V\n"
       ]
      }
     ],
     "prompt_number": 218
    },
    {
     "cell_type": "heading",
     "level": 2,
     "metadata": {},
     "source": [
      "Example 13.35 Page no 752"
     ]
    },
    {
     "cell_type": "code",
     "collapsed": false,
     "input": [
      "#Given\n",
      "f=50                        #Hz\n",
      "L=0.5\n",
      "Ev=100                           #v\n",
      "R=4                                #ohm\n",
      "\n",
      "#Calculation\n",
      "import math\n",
      "C=1/(4*math.pi**2*f**2*L)\n",
      "Ir=Ev/R\n",
      "Vr=Ir*2*math.pi*f*L\n",
      "Vc=Ir/(2*math.pi*f*C)\n",
      "\n",
      "#Result\n",
      "print\"(i) The capacitance is\", round(C*10**6,2),\"micro F\"\n",
      "print\"(ii) The voltage across inductance and capacitance is\", round(Vc,0),\"V\""
     ],
     "language": "python",
     "metadata": {},
     "outputs": [
      {
       "output_type": "stream",
       "stream": "stdout",
       "text": [
        "(i) The capacitance is 20.26 micro F\n",
        "(ii) The voltage across inductance and capacitance is 3927.0 V\n"
       ]
      }
     ],
     "prompt_number": 229
    },
    {
     "cell_type": "heading",
     "level": 2,
     "metadata": {},
     "source": [
      "Example 13.36 Page no 752"
     ]
    },
    {
     "cell_type": "code",
     "collapsed": false,
     "input": [
      "#Given\n",
      "f=50                           #Hz\n",
      "L=0.318                         #H\n",
      "Iv=2.3\n",
      "R=100                            #ohm\n",
      "\n",
      "#Calculation\n",
      "import math\n",
      "C=1/((2*math.pi*f)**2*L)\n",
      "Vl=Iv*2*math.pi*f*C*10**4\n",
      "P=Iv**2*R\n",
      "\n",
      "#Result\n",
      "print\"(i) The value of capacitor is\", round(C*10**6,1),\"micro F\"\n",
      "print\"(ii) Voltage across the inductor is\", round(Vl,0),\"V\"\n",
      "print\"(iii)Total power consumed is\",P,\"W\""
     ],
     "language": "python",
     "metadata": {},
     "outputs": [
      {
       "output_type": "stream",
       "stream": "stdout",
       "text": [
        "(i) The value of capacitor is 31.9 micro F\n",
        "(ii) Voltage across the inductor is 230.0 V\n",
        "(iii)Total power consumed is 529.0 W\n"
       ]
      }
     ],
     "prompt_number": 245
    },
    {
     "cell_type": "heading",
     "level": 2,
     "metadata": {},
     "source": [
      "Example 13.37 Page no 753"
     ]
    },
    {
     "cell_type": "code",
     "collapsed": false,
     "input": [
      "#Given\n",
      "E0=283                       #V\n",
      "f=50                            #Hz\n",
      "R=3.0                           #ohm\n",
      "L=25.48*10**-3                   #h\n",
      "C=796*10**-6                       #F\n",
      "Xl=8\n",
      "\n",
      "#Calculation\n",
      "import math\n",
      "Xc=1/(2*math.pi*f*C)\n",
      "Z=math.sqrt(R**2+(Xl-Xc)**2)\n",
      "a=math.atan(Xc/R)*180/3.14\n",
      "Iv=(E0/math.sqrt(2))/Z\n",
      "P=Iv**2*R\n",
      "a1=math.cos(a*180/3.14)\n",
      "\n",
      "#Result\n",
      "print\"(a) The inpedence of the circuit is\", round(Z,0),\"ohm\"\n",
      "print\"(b) The phase difference is\", round(a,1),\"degree\"\n",
      "print\"(c) The power dissipated is\", round(P,0),\"W\"\n",
      "print\"(d) Power factor is\", round(a1,1),\"lag\""
     ],
     "language": "python",
     "metadata": {},
     "outputs": [
      {
       "output_type": "stream",
       "stream": "stdout",
       "text": [
        "(a) The inpedence of the circuit is 5.0 ohm\n",
        "(b) The phase difference is 53.1 degree\n",
        "(c) The power dissipated is 4804.0 W\n",
        "(d) Power factor is 0.8 lag\n"
       ]
      }
     ],
     "prompt_number": 270
    },
    {
     "cell_type": "heading",
     "level": 2,
     "metadata": {},
     "source": [
      "Example 13.38 Page no 753"
     ]
    },
    {
     "cell_type": "code",
     "collapsed": false,
     "input": [
      "#Given\n",
      "L=25.48*10**-3                       #H\n",
      "C=796*10**-6\n",
      "R=3.0                                     #ohm\n",
      "E0=283\n",
      "\n",
      "#Calculation\n",
      "import math\n",
      "fr=1/(2.0*math.pi*math.sqrt(L*C))\n",
      "Iv=(E0/math.sqrt(2))/R\n",
      "P=Iv**2*R\n",
      "\n",
      "#Result\n",
      "print\"(a) Frequency of the source is\", round(fr,1),\"Hz\"\n",
      "print\"(b) The value of impedence is\",R,\"ohm\"\n",
      "print\"The value of current is\",round(Iv,1),\"A\"\n",
      "print\"The power dissipated is\",round(P,0),\"W\""
     ],
     "language": "python",
     "metadata": {},
     "outputs": [
      {
       "output_type": "stream",
       "stream": "stdout",
       "text": [
        "(a) Frequency of the source is 35.3 Hz\n",
        "(b) The value of impedence is 3.0 ohm\n",
        "The value of current is 66.7 A\n",
        "The power dissipated is 13348.0 W\n"
       ]
      }
     ],
     "prompt_number": 287
    },
    {
     "cell_type": "heading",
     "level": 2,
     "metadata": {},
     "source": [
      "Example 13.39 Page no 757"
     ]
    },
    {
     "cell_type": "code",
     "collapsed": false,
     "input": [
      "#Given\n",
      "C=1200*10**-12                         #F\n",
      "E=500\n",
      "L=0.075                     #H\n",
      "\n",
      "#Calculation\n",
      "import math\n",
      "q0=C*E\n",
      "I0=q0/(math.sqrt(L*C))\n",
      "f=1/(2*math.pi*math.sqrt(L*C))\n",
      "T=1/f\n",
      "U=q0**2/(2.0*C)\n",
      "\n",
      "#Result\n",
      "print\"(i) The initial charge onthe capcitor is\",q0,\"c\"\n",
      "print\"(ii) The maximum current is\",round(I0*10**3,0),\"mA\"\n",
      "print\"(iii) The value of frequency is\", round(f*10**-3,0),\"*10**3 Hz\"\n",
      "print\"Time period is\", round(T*10**5,0),\"*10**-5 S\"\n",
      "print\"(iv) Total energy is\",U*10**4,\"*10**-4 J\""
     ],
     "language": "python",
     "metadata": {},
     "outputs": [
      {
       "output_type": "stream",
       "stream": "stdout",
       "text": [
        "(i) The initial charge onthe capcitor is 6e-07 c\n",
        "(ii) The maximum current is 63.0 mA\n",
        "(iii) The value of frequency is 17.0 *10**3 Hz\n",
        "Time period is 6.0 *10**-5 S\n",
        "(iv) Total energy is 1.5 *10**-4 J\n"
       ]
      }
     ],
     "prompt_number": 315
    },
    {
     "cell_type": "heading",
     "level": 2,
     "metadata": {},
     "source": [
      "Example 13.40 Page no 758"
     ]
    },
    {
     "cell_type": "code",
     "collapsed": false,
     "input": [
      "#Given\n",
      "L=8*10**-6          #H\n",
      "C=0.02*10**-6            #F\n",
      "c=3*10**8\n",
      "\n",
      "#Calculation\n",
      "f=1/(2*math.pi*math.sqrt(L*C))\n",
      "w=c/f\n",
      "\n",
      "#Result\n",
      "print\"Wavelength is\", round(w*10**-2,2),\"*10**2 m\""
     ],
     "language": "python",
     "metadata": {},
     "outputs": [
      {
       "output_type": "stream",
       "stream": "stdout",
       "text": [
        "Wavelength is 7.54 *10**2 m\n"
       ]
      }
     ],
     "prompt_number": 321
    }
   ],
   "metadata": {}
  }
 ]
}