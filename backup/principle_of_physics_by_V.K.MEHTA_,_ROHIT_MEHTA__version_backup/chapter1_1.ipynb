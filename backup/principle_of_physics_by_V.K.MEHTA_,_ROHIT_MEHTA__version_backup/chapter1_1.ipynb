{
 "metadata": {
  "name": "",
  "signature": "sha256:9880f2d8505e271317a099910ead6c2116ce86fa0e83f56feb35ac33a1b96b23"
 },
 "nbformat": 3,
 "nbformat_minor": 0,
 "worksheets": [
  {
   "cells": [
    {
     "cell_type": "heading",
     "level": 1,
     "metadata": {},
     "source": [
      "Chapter 1 Electric charge"
     ]
    },
    {
     "cell_type": "heading",
     "level": 2,
     "metadata": {},
     "source": [
      "Example 1.1 Page no 9"
     ]
    },
    {
     "cell_type": "code",
     "collapsed": false,
     "input": [
      "#Given\n",
      "q=4.5*10**-19                       #C\n",
      "e=1.6*10**-19                       #C\n",
      "\n",
      "#Calculation\n",
      "n=q/e\n",
      "\n",
      "#Result\n",
      "print\"n= \",round(n,1),\"This value of charge is not possible\""
     ],
     "language": "python",
     "metadata": {},
     "outputs": [
      {
       "output_type": "stream",
       "stream": "stdout",
       "text": [
        "n=  2.8 This value of charge is not possible\n"
       ]
      }
     ],
     "prompt_number": 3
    },
    {
     "cell_type": "heading",
     "level": 2,
     "metadata": {},
     "source": [
      "Example 1.2 Page no 9"
     ]
    },
    {
     "cell_type": "code",
     "collapsed": false,
     "input": [
      "#Given\n",
      "q=3.2*10**-7                       #C\n",
      "e=1.6*10**-19                      #C\n",
      "\n",
      "#Calculation\n",
      "n=q/e\n",
      "\n",
      "#Result\n",
      "print\"The required number of electrons is \",n"
     ],
     "language": "python",
     "metadata": {},
     "outputs": [
      {
       "output_type": "stream",
       "stream": "stdout",
       "text": [
        "The required number of electrons is  2e+12\n"
       ]
      }
     ],
     "prompt_number": 4
    },
    {
     "cell_type": "heading",
     "level": 2,
     "metadata": {},
     "source": [
      "Example 1.3 Page no 9"
     ]
    },
    {
     "cell_type": "code",
     "collapsed": false,
     "input": [
      "#Given\n",
      "q=19.2*10**-19\n",
      "e=1.6*10**-19\n",
      "me=9*10**-31                       #Kg\n",
      "\n",
      "#Calculation\n",
      "n=q/e\n",
      "M=n*me\n",
      "\n",
      "#Result\n",
      "print\"(i) The value of n=\",n,\"\\n(ii) Charge on silk=\",-q*10**19,\"*10**-19\"\n",
      "print\"(iii) Mass=\",M,\"Therefore mass transferred is negligibly small\""
     ],
     "language": "python",
     "metadata": {},
     "outputs": [
      {
       "output_type": "stream",
       "stream": "stdout",
       "text": [
        "(i) The value of n= 12.0 \n",
        "(ii) Charge on silk= -19.2 *10**-19\n",
        "(iii) Mass= 1.08e-29 Therefore mass transferred is negligibly small\n"
       ]
      }
     ],
     "prompt_number": 17
    },
    {
     "cell_type": "heading",
     "level": 2,
     "metadata": {},
     "source": [
      "Example 1.4 Page no 9"
     ]
    },
    {
     "cell_type": "code",
     "collapsed": false,
     "input": [
      "#Given\n",
      "a=16\n",
      "n=6.023*10**23                            #C\n",
      "\n",
      "#Calculation\n",
      "W=2+a\n",
      "A=((n*100)/W)*10\n",
      "\n",
      "#Result\n",
      "print\"Total number of electrons in 100 g of water \", round(A,-23)"
     ],
     "language": "python",
     "metadata": {},
     "outputs": [
      {
       "output_type": "stream",
       "stream": "stdout",
       "text": [
        "Total number of electrons in 100 g of water  3.35e+25\n"
       ]
      }
     ],
     "prompt_number": 8
    },
    {
     "cell_type": "heading",
     "level": 2,
     "metadata": {},
     "source": [
      "Example 1.5 Page no 9"
     ]
    },
    {
     "cell_type": "code",
     "collapsed": false,
     "input": [
      "#Given\n",
      "n=10**9\n",
      "e=1.6*10**-19                            #C\n",
      "Q=1\n",
      "\n",
      "#Calculation\n",
      "q=n*e\n",
      "t=Q/q\n",
      "\n",
      "#Result\n",
      "print (t*10**-9),\"10**9 S\"\n",
      "print\"Time required is about 198 years\""
     ],
     "language": "python",
     "metadata": {},
     "outputs": [
      {
       "output_type": "stream",
       "stream": "stdout",
       "text": [
        "6.25 10**9 S\n",
        "Time required is about 198 years\n"
       ]
      }
     ],
     "prompt_number": 16
    },
    {
     "cell_type": "heading",
     "level": 2,
     "metadata": {},
     "source": [
      "Example 1.6 Page no 13"
     ]
    },
    {
     "cell_type": "code",
     "collapsed": false,
     "input": [
      "#Given\n",
      "q1=20                          #micro C\n",
      "q2=-5                          #micro C\n",
      "a=9*10**9\n",
      "r=0.1  \n",
      "\n",
      "#Calculation\n",
      "q=q1+q2\n",
      "q3=q/2.0\n",
      "F=(a*q3*q3)/r**2\n",
      "\n",
      "#Result\n",
      "print\"Force is \",round(F*10**-13,3),\"N\""
     ],
     "language": "python",
     "metadata": {},
     "outputs": [
      {
       "output_type": "stream",
       "stream": "stdout",
       "text": [
        "Force is  5.062 N\n"
       ]
      }
     ],
     "prompt_number": 24
    },
    {
     "cell_type": "heading",
     "level": 1,
     "metadata": {},
     "source": [
      "Example 1.10 Page no 14"
     ]
    },
    {
     "cell_type": "code",
     "collapsed": false,
     "input": [
      "#Given\n",
      "m=9*10**9\n",
      "q=5*10**-6\n",
      "r=0.1\n",
      "\n",
      "#Calculation\n",
      "import math\n",
      "F=(m*q*q)/r**2\n",
      "C=2*F*math.cos(30)*(180/3.14)\n",
      "\n",
      "#Result\n",
      "print\"Force on each charge is \", round(C,1)*10**-1,\"N\""
     ],
     "language": "python",
     "metadata": {},
     "outputs": [
      {
       "output_type": "stream",
       "stream": "stdout",
       "text": [
        "Force on each charge is  39.79 N\n"
       ]
      }
     ],
     "prompt_number": 66
    },
    {
     "cell_type": "heading",
     "level": 2,
     "metadata": {},
     "source": [
      "Example 1.11 Page no 14"
     ]
    },
    {
     "cell_type": "code",
     "collapsed": false,
     "input": [
      "#Given\n",
      "m=9*10**9\n",
      "q=1\n",
      "r=0.24\n",
      "A=20\n",
      "B=12.0\n",
      "m1=10**-4\n",
      "g=9.8\n",
      "\n",
      "#Calculation\n",
      "import math\n",
      "F=(m*q**2)/r**2\n",
      "AD=math.sqrt(A**2-B**2)\n",
      "C=AD/B\n",
      "F1=(1/C)*m1*g\n",
      "Q=math.sqrt(F1/F)\n",
      "\n",
      "#Result\n",
      "print\"Charge on each sphere\", round(Q*10**8,1),\"10**-8\",\"C\""
     ],
     "language": "python",
     "metadata": {},
     "outputs": [
      {
       "output_type": "stream",
       "stream": "stdout",
       "text": [
        "Charge on each sphere 6.9 10**-8 C\n"
       ]
      }
     ],
     "prompt_number": 79
    },
    {
     "cell_type": "heading",
     "level": 2,
     "metadata": {},
     "source": [
      "Example 1.12 Page no 15"
     ]
    },
    {
     "cell_type": "code",
     "collapsed": false,
     "input": [
      "#Given\n",
      "F=3.7*10**-9                 #C\n",
      "q=1.6*10**-19                     #c\n",
      "m=9*10**9\n",
      "r=5*10**-10\n",
      "\n",
      "#Calculation \n",
      "import math\n",
      "n=math.sqrt(F*r**2/(m*q**2))\n",
      "\n",
      "#Result\n",
      "print round(n,0),\"electrons are missing from each icon\""
     ],
     "language": "python",
     "metadata": {},
     "outputs": [
      {
       "output_type": "stream",
       "stream": "stdout",
       "text": [
        "2.0 electrons are missing from each icon\n"
       ]
      }
     ],
     "prompt_number": 82
    },
    {
     "cell_type": "heading",
     "level": 2,
     "metadata": {},
     "source": [
      "Example 1.14 Page no 16"
     ]
    },
    {
     "cell_type": "code",
     "collapsed": false,
     "input": [
      "#Given\n",
      "e=1.6*10**-19\n",
      "m=9*10**9\n",
      "G=6.67*10**-11\n",
      "me=9.11*10**-31\n",
      "mp=1.67*10**-27\n",
      "r=10**-10\n",
      "\n",
      "#Calculation\n",
      "F0=(m*e**2)/(G*me*mp)\n",
      "F1=(m*e**2)/(G*mp*mp)\n",
      "F2=m*e**2/r**2\n",
      "A1=F2/me\n",
      "A2=F2/mp\n",
      "\n",
      "#Result\n",
      "print\"(a)(i)strength of an electrons and protons\", round(F0*10**-39,1)*10**39\n",
      "print\"   (ii)Strength of two protons \",round(F1*10**-36,1)*10**36\n",
      "print\"(b)    Acceleration of electron is \",round(A1*10**-22,1)*10**22,\"m/s**2\"\n",
      "print\"      Acceleration of proton is \",round(A2*10**-19,1)*10**19,\"m/s*2\""
     ],
     "language": "python",
     "metadata": {},
     "outputs": [
      {
       "output_type": "stream",
       "stream": "stdout",
       "text": [
        "(a)(i)strength of an electrons and protons 2.3e+39\n",
        "   (ii)Strength of two protons  1.2e+36\n",
        "(b)    Acceleration of electron is  2.5e+22 m/s**2\n",
        "      Acceleration of proton is  1.4e+19 m/s*2\n"
       ]
      }
     ],
     "prompt_number": 112
    },
    {
     "cell_type": "heading",
     "level": 2,
     "metadata": {},
     "source": [
      "Example 1.16 Page no 19"
     ]
    },
    {
     "cell_type": "code",
     "collapsed": false,
     "input": [
      "#Given\n",
      "m=9*10**9                    #C\n",
      "q1=10*10**-6\n",
      "q2=5*10**-6\n",
      "r=0.05\n",
      "\n",
      "#Calculation\n",
      "import math\n",
      "F1=m*q1*q2/r**2\n",
      "F2=m*q1*q2/r**2\n",
      "F3=math.sqrt(F1**2+F2**2+(2*F1*F2*math.cos(120)*180/3.14))\n",
      "\n",
      "#Result\n",
      "print\"Resultant charge is \", round(F3*10**-1,0),\"N\""
     ],
     "language": "python",
     "metadata": {},
     "outputs": [
      {
       "output_type": "stream",
       "stream": "stdout",
       "text": [
        "Resultant charge is  176.0 N\n"
       ]
      }
     ],
     "prompt_number": 132
    },
    {
     "cell_type": "heading",
     "level": 2,
     "metadata": {},
     "source": [
      "Example 1.17 Page no 20 "
     ]
    },
    {
     "cell_type": "code",
     "collapsed": false,
     "input": [
      "#Given\n",
      "m=9*10**9\n",
      "q1=1.2*10**-8\n",
      "q2=1\n",
      "r=0.03\n",
      "r1=0.04\n",
      "q3=1.6*10**-8\n",
      "\n",
      "#Calculation\n",
      "import math\n",
      "F1=m*q1*q2/r**2\n",
      "F2=m*q3*q2/r1**2\n",
      "F3=math.sqrt(F1**2+F2**2)\n",
      "\n",
      "#Result\n",
      "print\"Total force is \", F3*10**-5,\"10**5\",\"N\""
     ],
     "language": "python",
     "metadata": {},
     "outputs": [
      {
       "output_type": "stream",
       "stream": "stdout",
       "text": [
        "Total force is  1.5 10**5 N\n"
       ]
      }
     ],
     "prompt_number": 149
    },
    {
     "cell_type": "heading",
     "level": 2,
     "metadata": {},
     "source": [
      "Example 1.18 Page no 20"
     ]
    },
    {
     "cell_type": "code",
     "collapsed": false,
     "input": [
      "#Given\n",
      "m=9*10**9\n",
      "q1=1\n",
      "q2=100\n",
      "r=10\n",
      "q3=75                      #C\n",
      "r1=5\n",
      "\n",
      "#Calculation\n",
      "import math\n",
      "F=m*q1*q2/r**2                   #along BA\n",
      "F1=m*q1*q2/r**2                   #along AC\n",
      "F2=m*q3/(math.sqrt(r**2-r1**2)**2)\n",
      "F3=math.sqrt(F1**2+F2**2)\n",
      "X=F1/F2\n",
      "\n",
      "#Result\n",
      "print\"Force experienced by 1 C Charge is \",round(F3*10**-9,2),\"N\"\n"
     ],
     "language": "python",
     "metadata": {},
     "outputs": [
      {
       "output_type": "stream",
       "stream": "stdout",
       "text": [
        "Force experienced by 1 C Charge is  12.73 N\n"
       ]
      }
     ],
     "prompt_number": 168
    }
   ],
   "metadata": {}
  }
 ]
}