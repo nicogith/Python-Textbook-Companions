{
 "metadata": {
  "name": "",
  "signature": "sha256:1bd22700738f4a2a80468f70e18e63c26ad56b1a125cfb69784af1d3eb280a8a"
 },
 "nbformat": 3,
 "nbformat_minor": 0,
 "worksheets": [
  {
   "cells": [
    {
     "cell_type": "heading",
     "level": 1,
     "metadata": {},
     "source": [
      "Chapter 14 Electrical devices"
     ]
    },
    {
     "cell_type": "heading",
     "level": 2,
     "metadata": {},
     "source": [
      "Example 14.1 Page no 787"
     ]
    },
    {
     "cell_type": "code",
     "collapsed": false,
     "input": [
      "#Given\n",
      "N=100\n",
      "A=10**-2                     #m**2\n",
      "B=0.5                        #T\n",
      "f=500/60.0\n",
      "\n",
      "#Calculation\n",
      "import math\n",
      "w=2*math.pi*f\n",
      "E0=N*A*B*w\n",
      "E=E0*math.sin(60*3.14/180.0)\n",
      "\n",
      "#Result\n",
      "print\"Maximum emf produced in the coil is\", round(E0,2),\"V\"\n",
      "print\"Instantaneous value of e.m.f. is\",round(E,1),\"V\""
     ],
     "language": "python",
     "metadata": {},
     "outputs": [
      {
       "output_type": "stream",
       "stream": "stdout",
       "text": [
        "Maximum emf produced in the coil is 26.18 V\n",
        "Instantaneous value of e.m.f. is 22.7 V\n"
       ]
      }
     ],
     "prompt_number": 10
    },
    {
     "cell_type": "heading",
     "level": 2,
     "metadata": {},
     "source": [
      "Example 14.2 Page no 787"
     ]
    },
    {
     "cell_type": "code",
     "collapsed": false,
     "input": [
      "#Given\n",
      "N=50\n",
      "A=2.5\n",
      "B=0.3                               #T\n",
      "w=60\n",
      "R=500                                #ohm\n",
      "\n",
      "#Calculation\n",
      "E0=N*B*A*w\n",
      "I0=E0/R\n",
      "\n",
      "#Result\n",
      "print\"(i) Maximum current drawn from the gnerator is\",I0,\"A\"\n",
      "print\"(ii) The maximum flux through the coil is zero and when induced current is maximum, flux through the coil is zero\"\n",
      "print\"(iii) Yes the generator will work because the basic condition for induced an .m.f. is that there should be relative motion between coil and magnetic field\""
     ],
     "language": "python",
     "metadata": {},
     "outputs": [
      {
       "output_type": "stream",
       "stream": "stdout",
       "text": [
        "(i) Maximum current drawn from the gnerator is 4.5 A\n",
        "(ii) The maximum flux through the coil is zero and when induced current is maximum, flux through the coil is zero\n",
        "(iii) Yes the generator will work because the basic condition for induced an .m.f. is that there should be relative motion between coil and magnetic field\n"
       ]
      }
     ],
     "prompt_number": 17
    },
    {
     "cell_type": "heading",
     "level": 2,
     "metadata": {},
     "source": [
      "Example 14.3 Page no 787"
     ]
    },
    {
     "cell_type": "code",
     "collapsed": false,
     "input": [
      "#Given\n",
      "N=150\n",
      "A=2*10**-2                       #m**2\n",
      "B=0.15                           #T\n",
      "f=60\n",
      "\n",
      "#Calculation\n",
      "import math\n",
      "w=2*math.pi*f\n",
      "E0=N*A*B*w\n",
      "\n",
      "#Result\n",
      "print\"Peak value of e.m.f is\", round(E0,0),\"V\"\n",
      "print\"Average value of induced e.m.f is zero\""
     ],
     "language": "python",
     "metadata": {},
     "outputs": [
      {
       "output_type": "stream",
       "stream": "stdout",
       "text": [
        "Peak value of e.m.f is 170.0 V\n",
        "Average value of induced e.m.f is zero\n"
       ]
      }
     ],
     "prompt_number": 23
    },
    {
     "cell_type": "heading",
     "level": 2,
     "metadata": {},
     "source": [
      "Example 14.4 Page no 787"
     ]
    },
    {
     "cell_type": "code",
     "collapsed": false,
     "input": [
      "#Given\n",
      "N=100\n",
      "A=3\n",
      "B=0.04                  #T\n",
      "w=60\n",
      "R=500                         #ohm\n",
      "\n",
      "#Calculation\n",
      "E0=N*A*B*w\n",
      "I0=E0/R\n",
      "P=E0*I0\n",
      "\n",
      "#Result\n",
      "print\"Maximum power dissipated in the coil is\", P,\"W\""
     ],
     "language": "python",
     "metadata": {},
     "outputs": [
      {
       "output_type": "stream",
       "stream": "stdout",
       "text": [
        "Maximum power dissipated in the coil is 1036.8 W\n"
       ]
      }
     ],
     "prompt_number": 28
    },
    {
     "cell_type": "heading",
     "level": 2,
     "metadata": {},
     "source": [
      "Example 14.5 Page no 788"
     ]
    },
    {
     "cell_type": "code",
     "collapsed": false,
     "input": [
      "#Given\n",
      "N=100\n",
      "A=0.10                        #m**2\n",
      "f=0.5                         #Hz\n",
      "B=0.01                         #T\n",
      "\n",
      "#Calculation\n",
      "import math\n",
      "w=2*math.pi*f\n",
      "E0=N*A*B*w\n",
      "\n",
      "#Result\n",
      "print\"Maximum voltage generated in the coil is\", round(E0,3),\"V\""
     ],
     "language": "python",
     "metadata": {},
     "outputs": [
      {
       "output_type": "stream",
       "stream": "stdout",
       "text": [
        "Maximum voltage generated in the coil is 0.314 V\n"
       ]
      }
     ],
     "prompt_number": 32
    },
    {
     "cell_type": "heading",
     "level": 2,
     "metadata": {},
     "source": [
      "Example 14.6 Page no 792"
     ]
    },
    {
     "cell_type": "code",
     "collapsed": false,
     "input": [
      "#Given\n",
      "V=240                          #V\n",
      "I=5                             #A\n",
      "R=4                              #ohm\n",
      "\n",
      "#Calculation\n",
      "Eb=V-(I*R)\n",
      "\n",
      "#Result\n",
      "print\"Value of back e.m.f is\", Eb,\"V\""
     ],
     "language": "python",
     "metadata": {},
     "outputs": [
      {
       "output_type": "stream",
       "stream": "stdout",
       "text": [
        "Value of back e.m.f is 220 V\n"
       ]
      }
     ],
     "prompt_number": 35
    },
    {
     "cell_type": "heading",
     "level": 2,
     "metadata": {},
     "source": [
      "Example 14.7 Page no 792"
     ]
    },
    {
     "cell_type": "code",
     "collapsed": false,
     "input": [
      "#Given\n",
      "I=20                    #A\n",
      "R=2                     #ohm\n",
      "n=0.5                       \n",
      "P=2000                    #W\n",
      "\n",
      "#Calculation\n",
      "P1=P/n\n",
      "V=P1/I\n",
      "Eb=V-(I*R)\n",
      "\n",
      "#Result\n",
      "print\"The back e.m.f is\", Eb,\"V \\nSupply voltage is\",V,\"V\""
     ],
     "language": "python",
     "metadata": {},
     "outputs": [
      {
       "output_type": "stream",
       "stream": "stdout",
       "text": [
        "The back e.m.f is 160.0 V \n",
        "Supply voltage is 200.0 V\n"
       ]
      }
     ],
     "prompt_number": 44
    },
    {
     "cell_type": "heading",
     "level": 2,
     "metadata": {},
     "source": [
      "Example 14.8 Page no 793"
     ]
    },
    {
     "cell_type": "code",
     "collapsed": false,
     "input": [
      "#Given\n",
      "V=100                              #V\n",
      "I=6                                #A\n",
      "V1=0.7\n",
      "\n",
      "#Calculation\n",
      "Pin=V*I\n",
      "R=(V1*Pin)/I**2\n",
      "\n",
      "#Result\n",
      "print\"Armature resistance is\", round(R,2),\"ohm\""
     ],
     "language": "python",
     "metadata": {},
     "outputs": [
      {
       "output_type": "stream",
       "stream": "stdout",
       "text": [
        "Armature resistance is 11.67 ohm\n"
       ]
      }
     ],
     "prompt_number": 49
    },
    {
     "cell_type": "heading",
     "level": 2,
     "metadata": {},
     "source": [
      "Example 14.10 Page no 793"
     ]
    },
    {
     "cell_type": "code",
     "collapsed": false,
     "input": [
      "#Given\n",
      "V=200                    #V\n",
      "I=5                      #A\n",
      "R=8.5                     #ohm \n",
      "\n",
      "#Calculation\n",
      "Eb=V-(I*R)\n",
      "Pi=V*I\n",
      "P0=Eb*I\n",
      "n=(P0*100)/Pi\n",
      "\n",
      "#Result\n",
      "print\"(i) Back e.m.f of motor is\", Eb,\"V\"\n",
      "print\"(ii) Power input is\",Pi,\"W\"\n",
      "print\"(iii) Output power is\",P0,\"W\"\n",
      "print\"(iv) Efficiency of motor is\",n,\"%\""
     ],
     "language": "python",
     "metadata": {},
     "outputs": [
      {
       "output_type": "stream",
       "stream": "stdout",
       "text": [
        "(i) Back e.m.f of motor is 157.5 V\n",
        "(ii) Power input is 1000 W\n",
        "(iii) Output power is 787.5 W\n",
        "(iv) Efficiency of motor is 78.75 %\n"
       ]
      }
     ],
     "prompt_number": 61
    },
    {
     "cell_type": "heading",
     "level": 2,
     "metadata": {},
     "source": [
      "Example 14.11 Page no 796"
     ]
    },
    {
     "cell_type": "code",
     "collapsed": false,
     "input": [
      "#Given\n",
      "Vp=200                           #V\n",
      "n=200.0\n",
      "Ip=2                           #A\n",
      "\n",
      "#Calculation\n",
      "Vs=Vp*n\n",
      "Is=(Ip*V)/Vs\n",
      "\n",
      "#Result\n",
      "print\"(i) Voltage developed in the secondary is\", Vs,\"V\"\n",
      "print\"(ii) The current in the secondary is\",Is ,\"A\""
     ],
     "language": "python",
     "metadata": {},
     "outputs": [
      {
       "output_type": "stream",
       "stream": "stdout",
       "text": [
        "(i) Voltage developed in the secondary is 40000.0 V\n",
        "(ii) The current in the secondary is 0.01 A\n"
       ]
      }
     ],
     "prompt_number": 69
    },
    {
     "cell_type": "heading",
     "level": 2,
     "metadata": {},
     "source": [
      "Example 14.12 Page no 796"
     ]
    },
    {
     "cell_type": "code",
     "collapsed": false,
     "input": [
      "#Given\n",
      "Vp=220.0                           #V\n",
      "Is=5                             #A\n",
      "n=20\n",
      "\n",
      "#Calculation\n",
      "Vs=Vp*n\n",
      "Ip=(Vs*Is)/Vp\n",
      "P=Vs*Is\n",
      "\n",
      "#Result\n",
      "print\"(i) Voltage across secondary is\",Vs,\"V\"\n",
      "print\"(ii) The current in primary is\",Ip,\"A\"\n",
      "print\"(iii) The power output is\",P*10**-3,\"K W\""
     ],
     "language": "python",
     "metadata": {},
     "outputs": [
      {
       "output_type": "stream",
       "stream": "stdout",
       "text": [
        "(i) Voltage across secondary is 4400.0 V\n",
        "(ii) The current in primary is 100.0 A\n",
        "(iii) The power output is 22.0 K W\n"
       ]
      }
     ],
     "prompt_number": 79
    },
    {
     "cell_type": "heading",
     "level": 2,
     "metadata": {},
     "source": [
      "Example 14.13 Page no 797"
     ]
    },
    {
     "cell_type": "code",
     "collapsed": false,
     "input": [
      "#Given\n",
      "P=120*10**3                      #W\n",
      "R=0.4                            #ohm\n",
      "Ev=240.0                           #V\n",
      "Ev1=24000.0                        #V\n",
      "\n",
      "#Calculation\n",
      "Iv=P/Ev\n",
      "P=Iv**2*R\n",
      "Iv1=P/Ev1\n",
      "P1=Iv1**2*R\n",
      "\n",
      "#Result\n",
      "print\"(i) Power loss at 240 V is\", P*10**-3,\"K W\"\n",
      "print\"(ii) Power loss at 24000 V is\", round(P1,0),\"W\""
     ],
     "language": "python",
     "metadata": {},
     "outputs": [
      {
       "output_type": "stream",
       "stream": "stdout",
       "text": [
        "(i) Power loss at 240 V is 100.0 K W\n",
        "(ii) Power loss at 24000 V is 7.0 W\n"
       ]
      }
     ],
     "prompt_number": 94
    },
    {
     "cell_type": "heading",
     "level": 2,
     "metadata": {},
     "source": [
      "Example 14.14 Page no 797"
     ]
    },
    {
     "cell_type": "code",
     "collapsed": false,
     "input": [
      "#Given\n",
      "Np=5000\n",
      "Vp=2200                       #V\n",
      "Vs=220                         #V\n",
      "Pout=8                         #K W\n",
      "n=0.9\n",
      "\n",
      "#Calculation\n",
      "Ns=(Vs*Np)/Vp\n",
      "Pin=Pout/n\n",
      "\n",
      "#Result\n",
      "print\"(i) The number of turns in the secondary is\", Ns\n",
      "print\"(ii) Input power is\",round(Pin,1),\"K W\""
     ],
     "language": "python",
     "metadata": {},
     "outputs": [
      {
       "output_type": "stream",
       "stream": "stdout",
       "text": [
        "(i) The number of turns in the secondary is 500\n",
        "(ii) Input power is 8.9 K W\n"
       ]
      }
     ],
     "prompt_number": 99
    },
    {
     "cell_type": "heading",
     "level": 2,
     "metadata": {},
     "source": [
      "Example 14.15 Page no 797"
     ]
    },
    {
     "cell_type": "code",
     "collapsed": false,
     "input": [
      "#Given\n",
      "Vp=220.0                        #V\n",
      "Vs=22                           #V\n",
      "Z=220                            #ohm\n",
      "Is=0.1\n",
      "\n",
      "#Calclation\n",
      "Ip=(Vs*Is)/Vp\n",
      "\n",
      "#Result\n",
      "print\"Current drawn is\", Ip,\"A\""
     ],
     "language": "python",
     "metadata": {},
     "outputs": [
      {
       "output_type": "stream",
       "stream": "stdout",
       "text": [
        "Current drawn is 0.01 A\n"
       ]
      }
     ],
     "prompt_number": 104
    },
    {
     "cell_type": "heading",
     "level": 2,
     "metadata": {},
     "source": [
      "Example 14.16 Page no 798"
     ]
    },
    {
     "cell_type": "code",
     "collapsed": false,
     "input": [
      "#Given\n",
      "Vs=24                         #v\n",
      "R=9.6                         #ohm\n",
      "Vp=120.0\n",
      "\n",
      "#Calculation\n",
      "Is=Vs/R\n",
      "Ip=(Vs*Is)/Vp\n",
      "P1=Vs*Is\n",
      "\n",
      "#Result\n",
      "print\"(i) Current in the secondary coil is\", Is,\"A\"\n",
      "print\"(ii) Current in primary coil is\",Ip ,\"A\"\n",
      "print\"Power used is\",P1,\"W\""
     ],
     "language": "python",
     "metadata": {},
     "outputs": [
      {
       "output_type": "stream",
       "stream": "stdout",
       "text": [
        "(i) Current in the secondary coil is 2.5 A\n",
        "(ii) Current in primary coil is 0.5 A\n",
        "Power used is 60.0 W\n"
       ]
      }
     ],
     "prompt_number": 116
    }
   ],
   "metadata": {}
  }
 ]
}