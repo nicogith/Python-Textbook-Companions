{
 "metadata": {
  "name": "",
  "signature": "sha256:511d2d405e1ede92783e0ff6e1c085ebc325e49ab2eff49fe438f3081d70cb4d"
 },
 "nbformat": 3,
 "nbformat_minor": 0,
 "worksheets": [
  {
   "cells": [
    {
     "cell_type": "heading",
     "level": 1,
     "metadata": {},
     "source": [
      "Chapter28  Digital Electronics"
     ]
    },
    {
     "cell_type": "code",
     "collapsed": false,
     "input": [
      "Example 28.3 page no 1497"
     ],
     "language": "python",
     "metadata": {},
     "outputs": []
    },
    {
     "cell_type": "code",
     "collapsed": false,
     "input": [
      "#Given\n",
      "a=1\n",
      "\n",
      "#Calculation\n",
      "A=a*2**5+a*2**4+a*2**0\n",
      "\n",
      "#Result\n",
      "print\"equivilant decimal is\",A"
     ],
     "language": "python",
     "metadata": {},
     "outputs": [
      {
       "output_type": "stream",
       "stream": "stdout",
       "text": [
        "equivilant decimal is 49\n"
       ]
      }
     ],
     "prompt_number": 2
    }
   ],
   "metadata": {}
  }
 ]
}