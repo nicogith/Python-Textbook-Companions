{
 "metadata": {
  "name": "",
  "signature": "sha256:eeaae422be8c264750ed4950e51451be86906b82350f05dcb46e0f610199fb25"
 },
 "nbformat": 3,
 "nbformat_minor": 0,
 "worksheets": [
  {
   "cells": [
    {
     "cell_type": "heading",
     "level": 1,
     "metadata": {},
     "source": [
      "Chapter 27 Semiconductor devices"
     ]
    },
    {
     "cell_type": "heading",
     "level": 2,
     "metadata": {},
     "source": [
      "Example 27.1 Page no 1446"
     ]
    },
    {
     "cell_type": "code",
     "collapsed": false,
     "input": [
      "#Given\n",
      "E=1.5                   #V\n",
      "Vd=0.5                      #V\n",
      "P=0.1                     #W\n",
      "\n",
      "#Calculation\n",
      "Imax=P/Vd\n",
      "V=E-Vd\n",
      "R1=V/Imax\n",
      "\n",
      "#Result\n",
      "print\"Value of resistance is\",R1,\"ohm\""
     ],
     "language": "python",
     "metadata": {},
     "outputs": [
      {
       "output_type": "stream",
       "stream": "stdout",
       "text": [
        "Value of resistance is 5.0 ohm\n"
       ]
      }
     ],
     "prompt_number": 3
    },
    {
     "cell_type": "heading",
     "level": 2,
     "metadata": {},
     "source": [
      "Example 27.2 Page no 1446"
     ]
    },
    {
     "cell_type": "code",
     "collapsed": false,
     "input": [
      "#Given\n",
      "V=2                 #V\n",
      "R=10.0           #ohm\n",
      "R1=20.0\n",
      "\n",
      "#Calculation\n",
      "I=V/R\n",
      "I1=V/R1\n",
      "\n",
      "#Result\n",
      "print\"(i) Current drawn from battery is\", I,\"A\"\n",
      "print\"(ii) Current drawn from point B is\",I1,\"A\""
     ],
     "language": "python",
     "metadata": {},
     "outputs": [
      {
       "output_type": "stream",
       "stream": "stdout",
       "text": [
        "(i) Current drawn from battery is 0.2 A\n",
        "(ii) Current drawn from point B is 0.1 A\n"
       ]
      }
     ],
     "prompt_number": 9
    },
    {
     "cell_type": "heading",
     "level": 2,
     "metadata": {},
     "source": [
      "Example 27.3 Page no 1446"
     ]
    },
    {
     "cell_type": "code",
     "collapsed": false,
     "input": [
      "#given\n",
      "Vl=15                #V\n",
      "Rl=2.0*10**3\n",
      "Iz=10                   #mA\n",
      "\n",
      "#Calculation\n",
      "Il=(Vl/Rl)*10**3\n",
      "Ir=Iz+Il\n",
      "Vr=Ir*10**-2*R1\n",
      "V=Vr+Vl\n",
      "\n",
      "#Result\n",
      "print\"Voltage is\", V,\"V\"\n",
      "print\"Zener rating required is\",Ir,\"mA\""
     ],
     "language": "python",
     "metadata": {},
     "outputs": [
      {
       "output_type": "stream",
       "stream": "stdout",
       "text": [
        "Voltage is 18.5 V\n",
        "Zener rating required is 17.5 mA\n"
       ]
      }
     ],
     "prompt_number": 27
    },
    {
     "cell_type": "heading",
     "level": 2,
     "metadata": {},
     "source": [
      "Example 27.4 Page no 1447"
     ]
    },
    {
     "cell_type": "code",
     "collapsed": false,
     "input": [
      "#Given\n",
      "N=10.0\n",
      "V=230                    #V\n",
      "\n",
      "#Calculation\n",
      "import math\n",
      "Vrpm=math.sqrt(2)*V\n",
      "Vsm=Vrpm/N\n",
      "Vdc=Vsm/math.pi\n",
      "\n",
      "#Result\n",
      "print\"(i) The output dc voltage is\", round(Vdc,2),\"V\"\n",
      "print\"(ii) Peak inverse voltage is\",round(Vsm,2),\"V\""
     ],
     "language": "python",
     "metadata": {},
     "outputs": [
      {
       "output_type": "stream",
       "stream": "stdout",
       "text": [
        "(i) The output dc voltage is 10.35 V\n",
        "(ii) Peak inverse voltage is 32.53 V\n"
       ]
      }
     ],
     "prompt_number": 36
    },
    {
     "cell_type": "heading",
     "level": 2,
     "metadata": {},
     "source": [
      "Example 27.5 Page no 1447"
     ]
    },
    {
     "cell_type": "code",
     "collapsed": false,
     "input": [
      "#Given\n",
      "Vm=50                            #V\n",
      "rf=20.0\n",
      "Rl=800                               #ohm\n",
      "\n",
      "#Calculation\n",
      "import math\n",
      "Im=(Vm/(rf+Rl))*10**3\n",
      "Idc=Im/math.pi\n",
      "Irms=Im/2.0\n",
      "P=(Irms/1000.0)**2*(rf+Rl)\n",
      "P1=(Idc/1000.0)**2*Rl\n",
      "V=Idc*Rl*10**-3\n",
      "A=P1*100/P\n",
      "\n",
      "#Result\n",
      "print\"(i) Im=\",round(Im,0),\"mA \\nIdc=\",round(Idc,1),\"mA \\nIrms=\",round(Irms,1),\"mA\"\n",
      "print\"(ii) a.c power input is\",round(P,3),\"watt \\nd.c. power is\",round(P1,3),\"watt\"\n",
      "print \"(iii) d.c. output voltage is\",round(V,2),\"Volts\"\n",
      "print\"(iv) Efficiency of rectification is\", round(A,1),\"%\""
     ],
     "language": "python",
     "metadata": {},
     "outputs": [
      {
       "output_type": "stream",
       "stream": "stdout",
       "text": [
        "(i) Im= 61.0 mA \n",
        "Idc= 19.4 mA \n",
        "Irms= 30.5 mA\n",
        "(ii) a.c power input is 0.762 watt \n",
        "d.c. power is 0.301 watt\n",
        "(iii) d.c. output voltage is 15.53 Volts\n",
        "(iv) Efficiency of rectification is 39.5 %\n"
       ]
      }
     ],
     "prompt_number": 67
    },
    {
     "cell_type": "heading",
     "level": 2,
     "metadata": {},
     "source": [
      "Example 27.6 Page no 1448"
     ]
    },
    {
     "cell_type": "code",
     "collapsed": false,
     "input": [
      "#Given\n",
      "rf=20                            #ohm\n",
      "Rl=980\n",
      "V=50                               #v\n",
      "\n",
      "#Calculation\n",
      "import math\n",
      "Vm=V*math.sqrt(2)\n",
      "Im=(Vm/(rf+Rl))*10**3\n",
      "Idc=(2*Im)/(math.pi)\n",
      "Irms=Im/math.sqrt(2)\n",
      "\n",
      "#Result\n",
      "print\"(i) load current is\",round(Im,1),\"mA\"\n",
      "print\"(ii) Mean load currant is\",round(Idc,0),\"mA\"\n",
      "print\"(iii) R.M.S value of load current is\",Irms,\"mA\""
     ],
     "language": "python",
     "metadata": {},
     "outputs": [
      {
       "output_type": "stream",
       "stream": "stdout",
       "text": [
        "(i) load current is 70.7 mA\n",
        "(ii) Mean load currant is 45.0 mA\n",
        "(iii) R.M.S value of load current is 50.0 mA\n"
       ]
      }
     ],
     "prompt_number": 85
    },
    {
     "cell_type": "heading",
     "level": 2,
     "metadata": {},
     "source": [
      "Example 27.7 page no 1448"
     ]
    },
    {
     "cell_type": "code",
     "collapsed": false,
     "input": [
      "#Given\n",
      "N=5.0\n",
      "A=230                   #V\n",
      "B=2\n",
      "Rl=100\n",
      "\n",
      "#Calculation\n",
      "import math\n",
      "V1=A/N\n",
      "V2=V1*math.sqrt(2)\n",
      "Vm=V2/B\n",
      "Idc=2*Vm/(math.pi*Rl)\n",
      "Vdc=Idc*Rl\n",
      "\n",
      "#Result\n",
      "print\"(i) d.c voltage output is\",round(Vdc,1),\"V\"\n",
      "print\"(ii) peak inverse voltage is\",round(V2,0),\"V\""
     ],
     "language": "python",
     "metadata": {},
     "outputs": [
      {
       "output_type": "stream",
       "stream": "stdout",
       "text": [
        "(i) d.c voltage output is 20.7 V\n",
        "(ii) peak inverse voltage is 65.0 V\n"
       ]
      }
     ],
     "prompt_number": 122
    },
    {
     "cell_type": "heading",
     "level": 2,
     "metadata": {},
     "source": [
      "Example 27.8 page no 1448"
     ]
    },
    {
     "cell_type": "code",
     "collapsed": false,
     "input": [
      "#Given\n",
      "Il=4.0              #mA\n",
      "Vz=6                #V\n",
      "E=10.0              #V\n",
      "\n",
      "#Calculation\n",
      "Lz=5*Il\n",
      "L=Il+Lz\n",
      "Rs=E-Vz\n",
      "Rs1=Rs/(L*10**-3)\n",
      "\n",
      "#Result\n",
      "print\"The value of series resister Rs\",round(Rs1,0),\"ohm\""
     ],
     "language": "python",
     "metadata": {},
     "outputs": [
      {
       "output_type": "stream",
       "stream": "stdout",
       "text": [
        "The value of series resister Rs 167.0 ohm\n"
       ]
      }
     ],
     "prompt_number": 123
    },
    {
     "cell_type": "heading",
     "level": 2,
     "metadata": {},
     "source": [
      "Example 27.9 page no 1449"
     ]
    },
    {
     "cell_type": "code",
     "collapsed": false,
     "input": [
      "#Given\n",
      "Vf=0.3            #V\n",
      "If=4.3*10**-3     #A\n",
      "Vc=0.35\n",
      "Va=0.25\n",
      "Ic=6*10**-3\n",
      "Ia=3*10**-3\n",
      "\n",
      "#Calculation\n",
      "Rdc=Vf/If\n",
      "Vf1=Vc-Va\n",
      "If1=Ic-Ia\n",
      "Rac=Vf1/If1\n",
      "\n",
      "#Result\n",
      "print\"(i) D.C. resistance is\",round(Rdc,2),\"ohm\"\n",
      "print\"(ii) A.C. resistance is\",round(Rac,2),\"ohm\"\n"
     ],
     "language": "python",
     "metadata": {},
     "outputs": [
      {
       "output_type": "stream",
       "stream": "stdout",
       "text": [
        "(i) D.C. resistance is 69.77 ohm\n",
        "(ii) A.C. resistance is 33.33 ohm\n"
       ]
      }
     ],
     "prompt_number": 139
    },
    {
     "cell_type": "heading",
     "level": 2,
     "metadata": {},
     "source": [
      "Example 27.10 page no 1462"
     ]
    },
    {
     "cell_type": "code",
     "collapsed": false,
     "input": [
      "#Given\n",
      "A=0.9\n",
      "Ie=1          #mA\n",
      "\n",
      "#Calculation\n",
      "Ic=A*Ie\n",
      "Ib=Ie-Ic\n",
      "\n",
      "#Result\n",
      "print\"Base current is\",Ib,\"mA\""
     ],
     "language": "python",
     "metadata": {},
     "outputs": [
      {
       "output_type": "stream",
       "stream": "stdout",
       "text": [
        "Base current is 0.1 mA\n"
       ]
      }
     ],
     "prompt_number": 144
    },
    {
     "cell_type": "heading",
     "level": 2,
     "metadata": {},
     "source": [
      "Example 27.11 page no 1462"
     ]
    },
    {
     "cell_type": "code",
     "collapsed": false,
     "input": [
      "#Given\n",
      "B=50\n",
      "Ib=0.02       #mA\n",
      "\n",
      "#Calculation\n",
      "Ic=B*Ib\n",
      "Ie=Ib+Ic\n",
      "\n",
      "#Result\n",
      "print\"Ie =\",Ie,\"mA\""
     ],
     "language": "python",
     "metadata": {},
     "outputs": [
      {
       "output_type": "stream",
       "stream": "stdout",
       "text": [
        "Ie = 1.02 mA\n"
       ]
      }
     ],
     "prompt_number": 147
    },
    {
     "cell_type": "heading",
     "level": 2,
     "metadata": {},
     "source": [
      "Example 27.12 page no 1462"
     ]
    },
    {
     "cell_type": "code",
     "collapsed": false,
     "input": [
      "#Given\n",
      "B=49\n",
      "Ie=12          #mA\n",
      "Ib=240         #microA\n",
      "\n",
      "#Calculation\n",
      "A=(B/1+B)*10**-2\n",
      "Ic=A*Ie\n",
      "Ic1=B*Ib\n",
      "\n",
      "#Result\n",
      "print\" The value of Ic using A is\",Ic,\"mA\"\n",
      "print\" The value of Ic using B is\",Ic1*10**-3,\"mA\""
     ],
     "language": "python",
     "metadata": {},
     "outputs": [
      {
       "output_type": "stream",
       "stream": "stdout",
       "text": [
        " The value of Ic using A is 11.76 mA\n",
        " The value of Ic using B is 11.76 mA\n"
       ]
      }
     ],
     "prompt_number": 165
    },
    {
     "cell_type": "heading",
     "level": 2,
     "metadata": {},
     "source": [
      "Example 27.13 page no 1463"
     ]
    },
    {
     "cell_type": "code",
     "collapsed": false,
     "input": [
      "#Given\n",
      "B=45.0\n",
      "Ic=1       #V\n",
      "\n",
      "#Calculation\n",
      "Ib=Ic/B\n",
      "\n",
      "#Result\n",
      "print\" The base current for common emitter connection is\",round(Ib,3),\"mA\""
     ],
     "language": "python",
     "metadata": {},
     "outputs": [
      {
       "output_type": "stream",
       "stream": "stdout",
       "text": [
        " The base current for common emitter connection is 0.022 mA\n"
       ]
      }
     ],
     "prompt_number": 169
    },
    {
     "cell_type": "heading",
     "level": 2,
     "metadata": {},
     "source": [
      "Example 27.14 page no 1463"
     ]
    },
    {
     "cell_type": "code",
     "collapsed": false,
     "input": [
      "#Given\n",
      "Vcc=8               #V\n",
      "V=0.5               #V\n",
      "Rc=800.0            #ohm\n",
      "a=0.96\n",
      "\n",
      "#Calculation\n",
      "Vce=Vcc-V\n",
      "Ic=V/Rc*10**3\n",
      "B=a/(1-a)\n",
      "Ib=Ic/B\n",
      "\n",
      "#Result\n",
      "print\"(i) Collector-emitter voltage is\",Vce,\"V\"\n",
      "print\"(ii) Base current is\",round(Ib,3),\"mA\""
     ],
     "language": "python",
     "metadata": {},
     "outputs": [
      {
       "output_type": "stream",
       "stream": "stdout",
       "text": [
        "(i) Collector-emitter voltage is 7.5 V\n",
        "(ii) Base current is 0.026 mA\n"
       ]
      }
     ],
     "prompt_number": 184
    },
    {
     "cell_type": "heading",
     "level": 2,
     "metadata": {},
     "source": [
      "Example 27.15 page no 1463"
     ]
    },
    {
     "cell_type": "code",
     "collapsed": false,
     "input": [
      "#Given\n",
      "a=10\n",
      "b=2\n",
      "c=3\n",
      "\n",
      "#Calculation\n",
      "Vce=a-b\n",
      "Ic=c-b\n",
      "Ro=Vce/Ic\n",
      "\n",
      "#Result\n",
      "print\"The output resistance is\",Ro,\"k ohm\""
     ],
     "language": "python",
     "metadata": {},
     "outputs": [
      {
       "output_type": "stream",
       "stream": "stdout",
       "text": [
        "The output resistance is 8 k ohm\n"
       ]
      }
     ],
     "prompt_number": 188
    },
    {
     "cell_type": "heading",
     "level": 2,
     "metadata": {},
     "source": [
      "Example 27.16 page no 1464"
     ]
    },
    {
     "cell_type": "code",
     "collapsed": false,
     "input": [
      "#Given\n",
      "Ic=4.0        #mA\n",
      "Ib=30         #micro A\n",
      "Ib1=20        #micro A\n",
      "Vce=10        #V\n",
      "c=4.5         #mA\n",
      "d=3.0         #mA\n",
      "\n",
      "#Calculation\n",
      "Ib2=Ib-Ib1\n",
      "Ic1=c-d\n",
      "Bac=Ic1/Ib2*10**3\n",
      "Bdc=c/Ib*10**3\n",
      "\n",
      "#Result \n",
      "print\"The value of Bac of the transister is\",Bdc\n",
      "print\"The value of Bdc of the transister is\",Bdc"
     ],
     "language": "python",
     "metadata": {},
     "outputs": [
      {
       "output_type": "stream",
       "stream": "stdout",
       "text": [
        "The value of Bac of the transister is 150.0\n",
        "The value of Bdc of the transister is 150.0\n"
       ]
      }
     ],
     "prompt_number": 249
    },
    {
     "cell_type": "heading",
     "level": 2,
     "metadata": {},
     "source": [
      "Example 27.17 page no 1464"
     ]
    },
    {
     "cell_type": "code",
     "collapsed": false,
     "input": [
      "#Given\n",
      "Ri=665.0        #ohm\n",
      "Ib=15.0         #micro A\n",
      "Ic=2            #mA\n",
      "Ro=5*10**3      #ohm\n",
      "\n",
      "#Calculation\n",
      "Bac=Ic/Ib*10**3\n",
      "Av=Bac*(Ro/Ri)\n",
      "\n",
      "#Result\n",
      "print\" The voltage gain is\", round(Av,0)"
     ],
     "language": "python",
     "metadata": {},
     "outputs": [
      {
       "output_type": "stream",
       "stream": "stdout",
       "text": [
        " The voltage gain is 1003.0\n"
       ]
      }
     ],
     "prompt_number": 240
    },
    {
     "cell_type": "heading",
     "level": 2,
     "metadata": {},
     "source": [
      "Example 27.18 page no 1464"
     ]
    },
    {
     "cell_type": "code",
     "collapsed": false,
     "input": [
      "#Given \n",
      "Vbb=2.0                            #v\n",
      "Rc=2000                           #ohm\n",
      "B=100\n",
      "Vbe=0.6                            #V\n",
      "\n",
      "#Calculation\n",
      "Ic=Vbb/Rc*10**3\n",
      "Ib=Ic/B\n",
      "Ib1=10*Ib\n",
      "Rb=(Vbb-Vbe)/Ib\n",
      "Ic=B*Ib1\n",
      "\n",
      "#Result \n",
      "print\"d.c. collector current is\",Ic,\"mA\""
     ],
     "language": "python",
     "metadata": {},
     "outputs": [
      {
       "output_type": "stream",
       "stream": "stdout",
       "text": [
        "d.c. collector current is 10.0 mA\n"
       ]
      }
     ],
     "prompt_number": 236
    },
    {
     "cell_type": "heading",
     "level": 2,
     "metadata": {},
     "source": [
      "Example 27.19 page no 1465"
     ]
    },
    {
     "cell_type": "code",
     "collapsed": false,
     "input": [
      "#Given\n",
      "N=10**10\n",
      "e=1.6*10**-19\n",
      "t=10**-6\n",
      "\n",
      "#Calculation\n",
      "Ie=(N*e)/t*10**3\n",
      "Ib=(2/100.0)*Ie\n",
      "Ic=Ie-Ib\n",
      "c=Ic/Ie\n",
      "B=Ic/Ib\n",
      "#Result\n",
      "print\"The current transfer ratio\",c\n",
      "print\"current amplification factor is\",B"
     ],
     "language": "python",
     "metadata": {},
     "outputs": [
      {
       "output_type": "stream",
       "stream": "stdout",
       "text": [
        "The current transfer ratio 0.98\n",
        "current amplification factor is 49.0\n"
       ]
      }
     ],
     "prompt_number": 257
    },
    {
     "cell_type": "heading",
     "level": 2,
     "metadata": {},
     "source": [
      "Example 27.20 page no 1465"
     ]
    },
    {
     "cell_type": "code",
     "collapsed": false,
     "input": [
      "#Given\n",
      "a=200\n",
      "b=50\n",
      "c=17\n",
      "d=5\n",
      "e=4000\n",
      "\n",
      "#Calculation\n",
      "Ib=(a-b)*10**-3\n",
      "Ic=c-d\n",
      "B=Ic/Ib\n",
      "D=e/B\n",
      "Ap=B**2*D\n",
      "\n",
      "#Result\n",
      "print\" The value of current gain is\",B\n",
      "print\" The value of resistance gain is\",D \n",
      "print\" The value of power gain is\",Ap*10**-5,\"*10**5\"\n"
     ],
     "language": "python",
     "metadata": {},
     "outputs": [
      {
       "output_type": "stream",
       "stream": "stdout",
       "text": [
        " The value of current gain is 80.0\n",
        " The value of resistance gain is 50.0\n",
        " The value of power gain is 3.2 *10**5\n"
       ]
      }
     ],
     "prompt_number": 279
    },
    {
     "cell_type": "heading",
     "level": 2,
     "metadata": {},
     "source": [
      "Example 27.21 page no 1469"
     ]
    },
    {
     "cell_type": "code",
     "collapsed": false,
     "input": [
      "#Given\n",
      "L1=58.6*10**-6                  #H\n",
      "C1=300.0*10**-12                  #F\n",
      "\n",
      "#Calculation\n",
      "import math\n",
      "f=1/((2.0*math.pi)*math.sqrt(L1*C1))\n",
      "\n",
      "#Result\n",
      "print\"Frequency of oscillation is\", round(f*10**-3,0),\"KHz\""
     ],
     "language": "python",
     "metadata": {},
     "outputs": [
      {
       "output_type": "stream",
       "stream": "stdout",
       "text": [
        "Frequency of oscillation is 1200.0 KHz\n"
       ]
      }
     ],
     "prompt_number": 294
    },
    {
     "cell_type": "heading",
     "level": 2,
     "metadata": {},
     "source": [
      "Example 27.22 Page no 1469"
     ]
    },
    {
     "cell_type": "code",
     "collapsed": false,
     "input": [
      "#Given\n",
      "Vbe=0.8                   #V\n",
      "Vcc=5                       #V\n",
      "Rc=1                        #K ohm\n",
      "b=250.0\n",
      "Rb=100                      #K ohm\n",
      "\n",
      "#Calculation\n",
      "Ic=Vcc/Rc\n",
      "Ib=(Ic/b)*10**3\n",
      "Vi=(Ib*Rb)+Vbe\n",
      "\n",
      "#Result\n",
      "print\"(i) The minimum base current is\",Ib,\"micro A\"\n",
      "print\"(ii) The input voltage is\",round(Vi*10**-3,0),\"V\"\n",
      "print\"(iii) Between 0 V and 0.6 V,the transistor will switched off. Between 2.8 V and 5.0 V the transistor will switched on\""
     ],
     "language": "python",
     "metadata": {},
     "outputs": [
      {
       "output_type": "stream",
       "stream": "stdout",
       "text": [
        "(i) The minimum base current is 20.0 micro A\n",
        "(ii) The input voltage is 2.0 V\n",
        "(iii) Between 0 V and 0.6 V,the transistor will switched off. Between 2.8 V and 5.0 V the transistor will switched on\n"
       ]
      }
     ],
     "prompt_number": 309
    }
   ],
   "metadata": {}
  }
 ]
}