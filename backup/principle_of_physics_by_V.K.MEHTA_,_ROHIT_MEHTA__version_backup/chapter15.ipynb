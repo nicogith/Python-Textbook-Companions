{
 "metadata": {
  "name": "",
  "signature": "sha256:977816390da876a89acf9dab4a43ac1149d2a8f7e4f57b74a89090971103e376"
 },
 "nbformat": 3,
 "nbformat_minor": 0,
 "worksheets": [
  {
   "cells": [
    {
     "cell_type": "heading",
     "level": 1,
     "metadata": {},
     "source": [
      "Chapter 15 Electromagnetic waves"
     ]
    },
    {
     "cell_type": "heading",
     "level": 2,
     "metadata": {},
     "source": [
      "Example 15.1 Page no 836"
     ]
    },
    {
     "cell_type": "code",
     "collapsed": false,
     "input": [
      "#Given\n",
      "e=8.854*10**-12                           #C**2/N/m**2\n",
      "A=10**-4                                  #m**2\n",
      "E=3*10**6                                 #V/ms\n",
      "\n",
      "#Calculation\n",
      "Id=e*A*E\n",
      "\n",
      "#Result\n",
      "print\"Displacement current is\", round(Id*10**9,1)*10**-9,\"A\""
     ],
     "language": "python",
     "metadata": {},
     "outputs": [
      {
       "output_type": "stream",
       "stream": "stdout",
       "text": [
        "Displacement current is 2.7e-09 A\n"
       ]
      }
     ],
     "prompt_number": 7
    },
    {
     "cell_type": "heading",
     "level": 2,
     "metadata": {},
     "source": [
      "Example 15.2 Page no 836"
     ]
    },
    {
     "cell_type": "code",
     "collapsed": false,
     "input": [
      "#Given\n",
      "Id=1                     #A\n",
      "C=10.0**-6                      #F\n",
      "\n",
      "#Calculation\n",
      "V=Id/C\n",
      "\n",
      "#Result\n",
      "print\"Instantaneous current is\", V,\"V/S\""
     ],
     "language": "python",
     "metadata": {},
     "outputs": [
      {
       "output_type": "stream",
       "stream": "stdout",
       "text": [
        "Instantaneous current is 1000000.0 V/S\n"
       ]
      }
     ],
     "prompt_number": 10
    },
    {
     "cell_type": "heading",
     "level": 2,
     "metadata": {},
     "source": [
      "Example 15.3 Page no 836"
     ]
    },
    {
     "cell_type": "code",
     "collapsed": false,
     "input": [
      "#Given\n",
      "I=0.15                     #A\n",
      "R=0.12                     #m\n",
      "r=0.065                     #m\n",
      "r1=0.15                   #m\n",
      "\n",
      "#Calculation\n",
      "import math\n",
      "A=math.pi*R**2\n",
      "u=4*math.pi*10**-7\n",
      "B=(u*I*r)/(2*math.pi*R**2)\n",
      "B1=(u*I)/(2*math.pi*r1)\n",
      "Bmax=(u*I)/(2*math.pi*R)\n",
      "\n",
      "#Result\n",
      "print\"(i) (a) Magnetic field on the axis is zero\"\n",
      "print\"(b) Magnetic field at r=6.5 cm is\",round(B*10**7,2)*10**-7 ,\"T\"\n",
      "print\"(c) Magnetic field at r=15 cm is\", B1,\"T\"\n",
      "print\"(ii) Distance is\", Bmax,\"T\""
     ],
     "language": "python",
     "metadata": {},
     "outputs": [
      {
       "output_type": "stream",
       "stream": "stdout",
       "text": [
        "(i) (a) Magnetic field on the axis is zero\n",
        "(b) Magnetic field at r=6.5 cm is 1.35e-07 T\n",
        "(c) Magnetic field at r=15 cm is 2e-07 T\n",
        "(ii) Distance is 2.5e-07 T\n"
       ]
      }
     ],
     "prompt_number": 24
    },
    {
     "cell_type": "heading",
     "level": 2,
     "metadata": {},
     "source": [
      "Example 15.5 Page no 837"
     ]
    },
    {
     "cell_type": "code",
     "collapsed": false,
     "input": [
      "#Given\n",
      "r=0.05                      #m\n",
      "E=10**12                     #V/m/s\n",
      "e=8.854*10**-12\n",
      "\n",
      "#Calculation\n",
      "import math\n",
      "Id=e*math.pi*r**2*E\n",
      "\n",
      "#Result\n",
      "print\"Displacement current is\", round(Id,4),\"A\""
     ],
     "language": "python",
     "metadata": {},
     "outputs": [
      {
       "output_type": "stream",
       "stream": "stdout",
       "text": [
        "Displacement current is 0.0695 A\n"
       ]
      }
     ],
     "prompt_number": 29
    },
    {
     "cell_type": "heading",
     "level": 2,
     "metadata": {},
     "source": [
      "Example 15.7 Page no 846 "
     ]
    },
    {
     "cell_type": "code",
     "collapsed": false,
     "input": [
      "#Given\n",
      "E=100                            #v\n",
      "c=3.0*10**8\n",
      "\n",
      "#Calculation\n",
      "import math\n",
      "B=E/c\n",
      "u=4.0*math.pi*10**-7\n",
      "H=B/u\n",
      "U=e*E**2\n",
      "\n",
      "#Result\n",
      "print\"(i) Value of B is\", round(B*10**7,2)*10**-7,\" T\"\n",
      "print\"(ii) Value of H is\",round(H,3),\"A/m\"\n",
      "print\"(iii) Energy density is\",U,\"J/m**3"
     ],
     "language": "python",
     "metadata": {},
     "outputs": [
      {
       "output_type": "stream",
       "stream": "stdout",
       "text": [
        "(i) Value of B is 3.33e-07  T\n",
        "(ii) Value of H is 0.265 A/m\n",
        "(iii) Energy density is 8.854e-08\n"
       ]
      }
     ],
     "prompt_number": 41
    },
    {
     "cell_type": "heading",
     "level": 2,
     "metadata": {},
     "source": [
      "Example 15.8 Page no 847"
     ]
    },
    {
     "cell_type": "code",
     "collapsed": false,
     "input": [
      "#Given\n",
      "E0=8*10**-4                         #v\n",
      "c=3.0*10**8\n",
      "w=6*10**6\n",
      "\n",
      "#Calculation\n",
      "import math\n",
      "B0=E0/c\n",
      "f=w/(2.0*math.pi)\n",
      "l=c/f\n",
      "\n",
      "#Result\n",
      "print\"Wavelength of the wave is\", round(l*10**-4,4),\"m\"\n",
      "print\"Frequency is\",round(f*10**-6,3),\"*10**10 Hz\""
     ],
     "language": "python",
     "metadata": {},
     "outputs": [
      {
       "output_type": "stream",
       "stream": "stdout",
       "text": [
        "Wavelength of the wave is 0.0314 m\n",
        "Frequency is 0.955 *10**10 Hz\n"
       ]
      }
     ],
     "prompt_number": 56
    },
    {
     "cell_type": "heading",
     "level": 2,
     "metadata": {},
     "source": [
      "Example 15.9 Page no 847"
     ]
    },
    {
     "cell_type": "code",
     "collapsed": false,
     "input": [
      "#Given\n",
      "E=6.3               #V/m\n",
      "c=3.0*10**8\n",
      "\n",
      "#Calculation\n",
      "B=E/c\n",
      "\n",
      "#Result\n",
      "print\"B=\", B,\"K^ Tesla\""
     ],
     "language": "python",
     "metadata": {},
     "outputs": [
      {
       "output_type": "stream",
       "stream": "stdout",
       "text": [
        "B= 2.1e-08 K^ Tesla\n"
       ]
      }
     ],
     "prompt_number": 59
    },
    {
     "cell_type": "heading",
     "level": 2,
     "metadata": {},
     "source": [
      "Example 15.10 Page no 847"
     ]
    },
    {
     "cell_type": "code",
     "collapsed": false,
     "input": [
      "#Given\n",
      "f=18                         #W/cm**2\n",
      "A=20                          #cm**2\n",
      "t=30*60\n",
      "\n",
      "#Calculation\n",
      "U=f*A*t\n",
      "P=U/c\n",
      "F=P/t\n",
      "P1=2*P\n",
      "F1=P1/t\n",
      "\n",
      "#Result\n",
      "print\"Average force exerted on the surface is\", F1,\"N\""
     ],
     "language": "python",
     "metadata": {},
     "outputs": [
      {
       "output_type": "stream",
       "stream": "stdout",
       "text": [
        "Average force exerted on the surface is 2.4e-06 N\n"
       ]
      }
     ],
     "prompt_number": 65
    },
    {
     "cell_type": "heading",
     "level": 2,
     "metadata": {},
     "source": [
      "Example 15.11 Page no 847"
     ]
    },
    {
     "cell_type": "code",
     "collapsed": false,
     "input": [
      "#Given\n",
      "r=3.0                    #m\n",
      "n=0.025\n",
      "P=100                     #w\n",
      "C=3*10**8\n",
      "\n",
      "#Calculation \n",
      "import math\n",
      "A=4*math.pi*r**2\n",
      "I=(n*P)/A\n",
      "E0=math.sqrt((2*I)/(e*C))\n",
      "B0=E0/C\n",
      "\n",
      "#Result\n",
      "print\"Peak value of electric field is\", round(E0,2),\"V/m\"\n",
      "print\"Peak value of magnetic field is\",round(B0*10**8,2)*10**-8,\"T\"\n"
     ],
     "language": "python",
     "metadata": {},
     "outputs": [
      {
       "output_type": "stream",
       "stream": "stdout",
       "text": [
        "Peak value of electric field is 4.08 V/m\n",
        "Peak value of magnetic field is 1.36e-08 T\n"
       ]
      }
     ],
     "prompt_number": 76
    }
   ],
   "metadata": {}
  }
 ]
}