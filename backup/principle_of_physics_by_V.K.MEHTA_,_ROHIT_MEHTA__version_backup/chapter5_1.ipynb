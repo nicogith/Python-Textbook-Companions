{
 "metadata": {
  "name": "",
  "signature": "sha256:76fc8177d7b8f6f9c96106003a3d3f70d960561edd9596ed73b03964026f4fb8"
 },
 "nbformat": 3,
 "nbformat_minor": 0,
 "worksheets": [
  {
   "cells": [
    {
     "cell_type": "heading",
     "level": 1,
     "metadata": {},
     "source": [
      "Chapter 5 Electric current and resistance "
     ]
    },
    {
     "cell_type": "heading",
     "level": 2,
     "metadata": {},
     "source": [
      "Example 5.1 Page no 257"
     ]
    },
    {
     "cell_type": "code",
     "collapsed": false,
     "input": [
      "#Given\n",
      "n=10**17\n",
      "e=1.6*10**-19               #C\n",
      "t=1.0                       #S\n",
      "\n",
      "#Calculation\n",
      "I=n*e/t\n",
      "\n",
      "#Result\n",
      "print\"The magnitude of current in the wire is \",I*10**2,\"10**-2 A and direction is from left to right\""
     ],
     "language": "python",
     "metadata": {},
     "outputs": [
      {
       "output_type": "stream",
       "stream": "stdout",
       "text": [
        "The magnitude of current in the wire is  1.6 10**-2 A and direction is from left to right\n"
       ]
      }
     ],
     "prompt_number": 5
    },
    {
     "cell_type": "heading",
     "level": 2,
     "metadata": {},
     "source": [
      "Example 5.2 Page no 257"
     ]
    },
    {
     "cell_type": "code",
     "collapsed": false,
     "input": [
      "#given\n",
      "I=0.5\n",
      "T=1\n",
      "e=1.6*10**-19\n",
      "t=60               #minute\n",
      "\n",
      "#Calculation\n",
      "n=I*T/e\n",
      "q=I*t**2\n",
      "n1=q/e\n",
      "\n",
      "#Result\n",
      "print\"(i) The number of electrons passing a cross section of the bulb is \",round(n*10**-18,1)*10**18,\"electrons/S\"\n",
      "print\"(ii) The number of electrons is \",round(n1*10**-22,1)*10**22,\"electrons/hour\""
     ],
     "language": "python",
     "metadata": {},
     "outputs": [
      {
       "output_type": "stream",
       "stream": "stdout",
       "text": [
        "(i) The number of electrons passing a cross section of the bulb is  3.1e+18 electrons/S\n",
        "(ii) The number of electrons is  1.1e+22 electrons/hour\n"
       ]
      }
     ],
     "prompt_number": 21
    },
    {
     "cell_type": "heading",
     "level": 2,
     "metadata": {},
     "source": [
      "Example 5.3 Page no 257"
     ]
    },
    {
     "cell_type": "code",
     "collapsed": false,
     "input": [
      "#Given\n",
      "e=1.6*10**-19                  #C\n",
      "f=6.8*10**15                   #rev/sec\n",
      "r=0.51*10**-10                  #m\n",
      "\n",
      "#Calculation\n",
      "I=e*f\n",
      "\n",
      "#Result\n",
      "print\"The equivalent current is \", I*10**3,\"*10**-3 A\""
     ],
     "language": "python",
     "metadata": {},
     "outputs": [
      {
       "output_type": "stream",
       "stream": "stdout",
       "text": [
        "The equivalent current is  1.088 *10**-3 A\n"
       ]
      }
     ],
     "prompt_number": 25
    },
    {
     "cell_type": "heading",
     "level": 2,
     "metadata": {},
     "source": [
      "Example 5.5 Page no 267"
     ]
    },
    {
     "cell_type": "code",
     "collapsed": false,
     "input": [
      "#Given\n",
      "I=10              #A\n",
      "A=1               #m*m**2\n",
      "e=1.6*10**-19         #C\n",
      "n=10**28              #m**-3\n",
      "\n",
      "#Calculation\n",
      "Vd=I/(n*A*e)\n",
      "\n",
      "#Result\n",
      "print\"Drift velocity of the conduction electrons are \", Vd,\"m/s\""
     ],
     "language": "python",
     "metadata": {},
     "outputs": [
      {
       "output_type": "stream",
       "stream": "stdout",
       "text": [
        "Drift velocity of the conduction electrons are  6.25e-09 m/s\n"
       ]
      }
     ],
     "prompt_number": 28
    },
    {
     "cell_type": "heading",
     "level": 2,
     "metadata": {},
     "source": [
      "Example 5.6 Page no 267"
     ]
    },
    {
     "cell_type": "code",
     "collapsed": false,
     "input": [
      "#Given\n",
      "I=10                #A\n",
      "A=4*10**-6                 #m**2\n",
      "e=1.6*10**-19                #C\n",
      "n=8*10**28                     #m**-3\n",
      "l=4\n",
      "\n",
      "#Calculation\n",
      "Vd=I/(n*A*e)\n",
      "t=l/Vd\n",
      "\n",
      "#Result\n",
      "print\"Time required by an electron is \", t*10**-4,\"*10**4 S\""
     ],
     "language": "python",
     "metadata": {},
     "outputs": [
      {
       "output_type": "stream",
       "stream": "stdout",
       "text": [
        "Time required by an electron is  2.048 *10**4 S\n"
       ]
      }
     ],
     "prompt_number": 35
    },
    {
     "cell_type": "heading",
     "level": 2,
     "metadata": {},
     "source": [
      "Example 5.7 page no 267"
     ]
    },
    {
     "cell_type": "code",
     "collapsed": false,
     "input": [
      "#Given\n",
      "a=6.023*10**23\n",
      "m=63.5*10**-3\n",
      "d=9*10**3\n",
      "A=10**-7                   #m**2\n",
      "e=1.6*10**-19                   #C\n",
      "I=1.5                           #a\n",
      "K=1.38*10**-23                 #J/K\n",
      "T=300                           #K\n",
      "Vd=1.1*10**-3\n",
      "C=3*10**8\n",
      "\n",
      "#Calculation\n",
      "import math\n",
      "n=a*d/m\n",
      "Vd=I/(n*A*e)\n",
      "V=math.sqrt((3*K*T*a)/m)\n",
      "V1=Vd/V\n",
      "E=Vd/C\n",
      "\n",
      "#Result\n",
      "print\"(i) Thermal speeds of copper atoms at ordinary temperatures are \", round(V1*10**6,2),\"*10**-6 m/s\"\n",
      "print\"(ii) Speed of propagation of electric fild is \", round(E*10**12,1)*10**-12"
     ],
     "language": "python",
     "metadata": {},
     "outputs": [
      {
       "output_type": "stream",
       "stream": "stdout",
       "text": [
        "(i) Thermal speeds of copper atoms at ordinary temperatures are  3.2 *10**-6 m/s\n",
        "(ii) Speed of propagation of electric fild is  3.7e-12\n"
       ]
      }
     ],
     "prompt_number": 53
    },
    {
     "cell_type": "heading",
     "level": 2,
     "metadata": {},
     "source": [
      "Example 5.8 Page no 268"
     ]
    },
    {
     "cell_type": "code",
     "collapsed": false,
     "input": [
      "#Given\n",
      "V=5\n",
      "l=0.1\n",
      "Vd=2.5*10**-4\n",
      "\n",
      "#Calculation\n",
      "E=V/l\n",
      "u=Vd/E\n",
      "\n",
      "#Result\n",
      "print\"The electron mobility is \", u,\"m**2/V/C\""
     ],
     "language": "python",
     "metadata": {},
     "outputs": [
      {
       "output_type": "stream",
       "stream": "stdout",
       "text": [
        "The electron mobility is  5e-06 m**2/V/C\n"
       ]
      }
     ],
     "prompt_number": 57
    },
    {
     "cell_type": "heading",
     "level": 2,
     "metadata": {},
     "source": [
      "Example 5.9 Page no 268"
     ]
    },
    {
     "cell_type": "code",
     "collapsed": false,
     "input": [
      "#Given\n",
      "I=2.4\n",
      "A=0.30*10**-6\n",
      "m=9.1*10**-31\n",
      "n=8.4*10**28\n",
      "e=1.6*10**-19\n",
      "E=7.5\n",
      "\n",
      "#Calculation\n",
      "J=I/A\n",
      "t=m*J/(n*e**2*E)\n",
      "\n",
      "#Result\n",
      "print\"Average relaxation time is \", round(t*10**16,2)*10**-16,\"S\""
     ],
     "language": "python",
     "metadata": {},
     "outputs": [
      {
       "output_type": "stream",
       "stream": "stdout",
       "text": [
        "Average relaxation time is  4.51e-16 S\n"
       ]
      }
     ],
     "prompt_number": 64
    },
    {
     "cell_type": "heading",
     "level": 2,
     "metadata": {},
     "source": [
      "Example 5.10 Page no 268"
     ]
    },
    {
     "cell_type": "code",
     "collapsed": false,
     "input": [
      "#Given\n",
      "r=0.12*10**-2                 #m\n",
      "I=10\n",
      "r1=0.08*10**-2                    #m\n",
      "I=10                                  #A\n",
      "e=1.6*10**-19                                  #C\n",
      "n=8.4*10**28\n",
      "\n",
      "#Calculation\n",
      "import math\n",
      "A=math.pi*(r**2)\n",
      "J=I/A\n",
      "A1=math.pi*r1**2\n",
      "Vd=I/(e*n*A1)\n",
      "\n",
      "#Result\n",
      "print\"(i) Current density in the alluminium wire is \",round(J*10**-6,1),\"*10**6 A/m**2\"\n",
      "print\"(ii) Drift velocity of electrons in the copper wire is \",round(Vd*10**4,1),\"*10**-4 m/S\""
     ],
     "language": "python",
     "metadata": {},
     "outputs": [
      {
       "output_type": "stream",
       "stream": "stdout",
       "text": [
        "(i) Current density in the alluminium wire is  2.2 *10**6 A/m**2\n",
        "(ii) Drift velocity of electrons in the copper wire is  3.7 *10**-4 m/S\n"
       ]
      }
     ],
     "prompt_number": 82
    },
    {
     "cell_type": "heading",
     "level": 2,
     "metadata": {},
     "source": [
      "Example 5.11 Page no 269"
     ]
    },
    {
     "cell_type": "code",
     "collapsed": false,
     "input": [
      "#Given\n",
      "D=0.13*10**-2\n",
      "R=3.4                       #ohms\n",
      "l=10.0\n",
      "\n",
      "#Calculation\n",
      "import math\n",
      "A=(math.pi/4.0)*D**2\n",
      "a=R*A/l\n",
      "b=1/a\n",
      "\n",
      "#Result\n",
      "print\"Conductivity of a material is \",round(b*10**-6,1),\"*10**6 S/m\""
     ],
     "language": "python",
     "metadata": {},
     "outputs": [
      {
       "output_type": "stream",
       "stream": "stdout",
       "text": [
        "Conductivity of a material is  2.2 *10**6 S/m\n"
       ]
      }
     ],
     "prompt_number": 93
    },
    {
     "cell_type": "heading",
     "level": 2,
     "metadata": {},
     "source": [
      "Example 5.12 Page no 269"
     ]
    },
    {
     "cell_type": "code",
     "collapsed": false,
     "input": [
      "#Given\n",
      "A1=25.0                            #mm**2\n",
      "l2=1                             #m\n",
      "R2=1/58.0\n",
      "A2=1\n",
      "l1=1000\n",
      "\n",
      "#Calculation\n",
      "R=(l1/l2)*(A2/A1)\n",
      "R1=R*R2\n",
      "\n",
      "#Result\n",
      "print\"The value of resistance is \", round(R1,2),\"ohm\""
     ],
     "language": "python",
     "metadata": {},
     "outputs": [
      {
       "output_type": "stream",
       "stream": "stdout",
       "text": [
        "The value of resistance is  0.69 ohm\n"
       ]
      }
     ],
     "prompt_number": 98
    },
    {
     "cell_type": "heading",
     "level": 2,
     "metadata": {},
     "source": [
      "Example 5.13 Page no 269"
     ]
    },
    {
     "cell_type": "code",
     "collapsed": false,
     "input": [
      "#Given\n",
      "R1=4.5\n",
      "A1=1\n",
      "A2=2.0\n",
      "l2=3\n",
      "l1=1.0\n",
      "\n",
      "#Calculation\n",
      "R=(l2/l1)*(A1/A2)\n",
      "R2=R*R1\n",
      "\n",
      "#Result\n",
      "print\"The resistance of another wire is \", R2,\"ohm\""
     ],
     "language": "python",
     "metadata": {},
     "outputs": [
      {
       "output_type": "stream",
       "stream": "stdout",
       "text": [
        "The resistance of another wire is  6.75 ohm\n"
       ]
      }
     ],
     "prompt_number": 103
    },
    {
     "cell_type": "heading",
     "level": 2,
     "metadata": {},
     "source": [
      "Example 5.14 Page no 269"
     ]
    },
    {
     "cell_type": "code",
     "collapsed": false,
     "input": [
      "#Given\n",
      "r=1\n",
      "r1=0.5\n",
      "R1=0.15                    #ohm\n",
      "\n",
      "#Calculation\n",
      "import math\n",
      "A1=(math.pi/4.0)*r**2\n",
      "A2=(math.pi/4.0)*r1**2\n",
      "l=A1/A2\n",
      "R=l*l\n",
      "R2=R*R1\n",
      "\n",
      "#Result\n",
      "print\"New resistance of the wire is \", R2,\"ohm\""
     ],
     "language": "python",
     "metadata": {},
     "outputs": [
      {
       "output_type": "stream",
       "stream": "stdout",
       "text": [
        "New resistance of the wire is  2.4 ohm\n"
       ]
      }
     ],
     "prompt_number": 115
    },
    {
     "cell_type": "heading",
     "level": 2,
     "metadata": {},
     "source": [
      "Example 5.15 Page no 270"
     ]
    },
    {
     "cell_type": "code",
     "collapsed": false,
     "input": [
      "#Given\n",
      "R=1.5                         #ohm\n",
      "e=1.6*10**-19                  #C\n",
      "t=1                          #second\n",
      "V=3                           #V\n",
      "\n",
      "#Calculation\n",
      "I=V/R\n",
      "n=I*t/e\n",
      "\n",
      "#Result\n",
      "print \"Number of electrons flowing through it in 1 S is \",n"
     ],
     "language": "python",
     "metadata": {},
     "outputs": [
      {
       "output_type": "stream",
       "stream": "stdout",
       "text": [
        "Number of electrons flowing through it in 1 S is  1.25e+19\n"
       ]
      }
     ],
     "prompt_number": 118
    },
    {
     "cell_type": "heading",
     "level": 2,
     "metadata": {},
     "source": [
      "Example 5.16 Page no 270"
     ]
    },
    {
     "cell_type": "code",
     "collapsed": false,
     "input": [
      "#Given\n",
      "ne=2.8*10**18\n",
      "np=1.2*10**18\n",
      "e=1.6*10**-19\n",
      "t=1                             #S\n",
      "V=220\n",
      "\n",
      "#Calculation\n",
      "q=(ne+np)*e\n",
      "I=q/t\n",
      "R=V/I\n",
      "\n",
      "#Result\n",
      "print\"Effective resistance of the tube is \", round(R,0),\"ohm\""
     ],
     "language": "python",
     "metadata": {},
     "outputs": [
      {
       "output_type": "stream",
       "stream": "stdout",
       "text": [
        "Effective resistance of the tube is  344.0 ohm\n"
       ]
      }
     ],
     "prompt_number": 124
    },
    {
     "cell_type": "heading",
     "level": 2,
     "metadata": {},
     "source": [
      "Example 5.17 Page no 270"
     ]
    },
    {
     "cell_type": "code",
     "collapsed": false,
     "input": [
      "#Given\n",
      "m=84                      #g\n",
      "d=10.5                    #g/cm**3\n",
      "a=1.6*10**-6\n",
      "\n",
      "#Calculation\n",
      "V=m/d\n",
      "s=V**(1/3.0)\n",
      "R=a/2.0\n",
      "\n",
      "#Result\n",
      "print\"Resistance between the opposite faces is \", R,\"ohm\""
     ],
     "language": "python",
     "metadata": {},
     "outputs": [
      {
       "output_type": "stream",
       "stream": "stdout",
       "text": [
        "Resistance between the opposite faces is  8e-07 ohm\n"
       ]
      }
     ],
     "prompt_number": 130
    },
    {
     "cell_type": "heading",
     "level": 2,
     "metadata": {},
     "source": [
      "Example 5.18 Page no 270"
     ]
    },
    {
     "cell_type": "code",
     "collapsed": false,
     "input": [
      "#Given\n",
      "l=1.001\n",
      "A=1.001\n",
      "\n",
      "#Calculation\n",
      "R=l*A\n",
      "R1=R-1\n",
      "A=R1*100\n",
      "\n",
      "#Result\n",
      "print\"Percentage change in its resistance is \", round(A,1),\"%\""
     ],
     "language": "python",
     "metadata": {},
     "outputs": [
      {
       "output_type": "stream",
       "stream": "stdout",
       "text": [
        "Percentage change in its resistance is  0.2 %\n"
       ]
      }
     ],
     "prompt_number": 137
    },
    {
     "cell_type": "heading",
     "level": 2,
     "metadata": {},
     "source": [
      "Example 5.19 Page no 271"
     ]
    },
    {
     "cell_type": "code",
     "collapsed": false,
     "input": [
      "#Given\n",
      "m=0.45                         #Kg\n",
      "R=0.0014                        #ohm\n",
      "a=1.78*10**-8                   #ohm\n",
      "d=8.93*10**3                       #Kg/m**3\n",
      "\n",
      "#Calculation\n",
      "import math\n",
      "l=math.sqrt(R*m/(a*d))\n",
      "r=math.sqrt(m/(math.pi*d*1.99))\n",
      "\n",
      "#Result\n",
      "print\"The value of length is\",round(l,2),\"m\"\n",
      "print\"The value of radius is \",round(r*10**3,2),\"mm\""
     ],
     "language": "python",
     "metadata": {},
     "outputs": [
      {
       "output_type": "stream",
       "stream": "stdout",
       "text": [
        "The value of length is 1.99 m\n",
        "The value of radius is  2.84 mm\n"
       ]
      }
     ],
     "prompt_number": 148
    },
    {
     "cell_type": "heading",
     "level": 2,
     "metadata": {},
     "source": [
      "Example 5.20 Page no 271"
     ]
    },
    {
     "cell_type": "code",
     "collapsed": false,
     "input": [
      "#Given\n",
      "R15=80                    #ohm\n",
      "a=0.004\n",
      "\n",
      "#Calculation\n",
      "R0=R15/(1+15*a)\n",
      "R50=R0*(1+a*50)\n",
      "\n",
      "#Result\n",
      "print\"The value of resistance at 50 degree C is \", round(R50,2),\"ohm\""
     ],
     "language": "python",
     "metadata": {},
     "outputs": [
      {
       "output_type": "stream",
       "stream": "stdout",
       "text": [
        "The value of resistance at 50 degree C is  90.57 ohm\n"
       ]
      }
     ],
     "prompt_number": 154
    },
    {
     "cell_type": "heading",
     "level": 2,
     "metadata": {},
     "source": [
      "Example 5.21 Page no 271"
     ]
    },
    {
     "cell_type": "code",
     "collapsed": false,
     "input": [
      "#Given\n",
      "R20=20                         #ohm\n",
      "P=60                            #W\n",
      "V=120.0                           #Volts\n",
      "a=5*10**-3\n",
      "\n",
      "#Calculation\n",
      "I=P/V\n",
      "Rt=V/I\n",
      "t=(((Rt/R20)-1)/a)+R20\n",
      "\n",
      "#Result\n",
      "print\"Normal working temperature of the lamp is \", t,\"degree C\""
     ],
     "language": "python",
     "metadata": {},
     "outputs": [
      {
       "output_type": "stream",
       "stream": "stdout",
       "text": [
        "Normal working temperature of the lamp is  2220.0 degree C\n"
       ]
      }
     ],
     "prompt_number": 160
    },
    {
     "cell_type": "heading",
     "level": 2,
     "metadata": {},
     "source": [
      "Example 5.22 Page no 271"
     ]
    },
    {
     "cell_type": "code",
     "collapsed": false,
     "input": [
      "#Given\n",
      "R0=5                    #ohm\n",
      "R100=5.23                  #ohm\n",
      "Rt=5.795                   #ohm\n",
      "\n",
      "#Calculation\n",
      "t=((Rt-R0)/(R100-R0))*100\n",
      "\n",
      "#Result\n",
      "print\"The temperature of the bath is \", round(t,2),\"degree C\""
     ],
     "language": "python",
     "metadata": {},
     "outputs": [
      {
       "output_type": "stream",
       "stream": "stdout",
       "text": [
        "The temperature of the bath is  345.65 degree C\n"
       ]
      }
     ],
     "prompt_number": 165
    },
    {
     "cell_type": "heading",
     "level": 2,
     "metadata": {},
     "source": [
      "Example 5.23 Page no 272"
     ]
    },
    {
     "cell_type": "code",
     "collapsed": false,
     "input": [
      "#Given\n",
      "A=15*10**-4                         #m**2\n",
      "a=7.6*10**-8                                # ohm m\n",
      "l=2000                              #m\n",
      "b=0.005                          #degree/C\n",
      "\n",
      "#Calculation\n",
      "R0=a*l/A\n",
      "R50=R0*(1+(b*50))\n",
      "\n",
      "#Result\n",
      "print\"The value of resistance is \", round(R50,3),\"ohm\""
     ],
     "language": "python",
     "metadata": {},
     "outputs": [
      {
       "output_type": "stream",
       "stream": "stdout",
       "text": [
        "The value of resistance is  0.127 ohm\n"
       ]
      }
     ],
     "prompt_number": 172
    },
    {
     "cell_type": "heading",
     "level": 2,
     "metadata": {},
     "source": [
      "Example 5.24 Page no 272"
     ]
    },
    {
     "cell_type": "code",
     "collapsed": false,
     "input": [
      "#Given\n",
      "a=0.004\n",
      "ac=0.0007\n",
      "R0=100\n",
      "\n",
      "#Calculation\n",
      "R=ac*R0/a\n",
      "\n",
      "#Result\n",
      "print\"The resistance of a copper filament is \", R,\"ohm\""
     ],
     "language": "python",
     "metadata": {},
     "outputs": [
      {
       "output_type": "stream",
       "stream": "stdout",
       "text": [
        "The resistance of a copper filament is  17.5 ohm\n"
       ]
      }
     ],
     "prompt_number": 175
    },
    {
     "cell_type": "heading",
     "level": 2,
     "metadata": {},
     "source": [
      "Example 5.28 Page no 281"
     ]
    },
    {
     "cell_type": "code",
     "collapsed": false,
     "input": [
      "#Given\n",
      "R1=4.0                     #ohm\n",
      "R2=4.0                     #ohm\n",
      "\n",
      "#Calculation\n",
      "Rab=1/((1/R1)+(1/R2))\n",
      "\n",
      "#Result\n",
      "print\"The equivalent resisatance is \", Rab,\"ohm\""
     ],
     "language": "python",
     "metadata": {},
     "outputs": [
      {
       "output_type": "stream",
       "stream": "stdout",
       "text": [
        "The equivalent resisatance is  2.0 ohm\n"
       ]
      }
     ],
     "prompt_number": 178
    },
    {
     "cell_type": "heading",
     "level": 2,
     "metadata": {},
     "source": [
      "Example 5.29 Page no 281"
     ]
    },
    {
     "cell_type": "code",
     "collapsed": false,
     "input": [
      "#Given\n",
      "R1=15                    #ohm\n",
      "R2=30                   #ohm\n",
      "\n",
      "#Calculation\n",
      "R=R1*R2/(R1+R2)\n",
      "\n",
      "#Result\n",
      "print\"The equivqlent resistance between A and B is \", R,\"ohm\""
     ],
     "language": "python",
     "metadata": {},
     "outputs": [
      {
       "output_type": "stream",
       "stream": "stdout",
       "text": [
        "The equivqlent resistance between A and B is  10 ohm\n"
       ]
      }
     ],
     "prompt_number": 181
    },
    {
     "cell_type": "heading",
     "level": 2,
     "metadata": {},
     "source": [
      "Example 5.31 Page no 282"
     ]
    },
    {
     "cell_type": "code",
     "collapsed": false,
     "input": [
      "#Given\n",
      "R1=5                 #ohm\n",
      "R2=9                  #ohm\n",
      "R3=14                  #ohm\n",
      "R4=11\n",
      "R5=7\n",
      "R6=18\n",
      "R7=13\n",
      "R8=22\n",
      "V=22\n",
      "\n",
      "#Calculation\n",
      "Rec=(R1+R2)*R3/(R1+R2+R3)\n",
      "Rbe=(R4+R5)*R6/(R4+R5+R6)\n",
      "Rae=(R7+R2)*R8/(R7+R2+R8)\n",
      "I=V/Rae\n",
      "\n",
      "#Result\n",
      "print\"The value of current in the branch AF is \", I,\"A\""
     ],
     "language": "python",
     "metadata": {},
     "outputs": [
      {
       "output_type": "stream",
       "stream": "stdout",
       "text": [
        "The value of current in the branch AF is  2 A\n"
       ]
      }
     ],
     "prompt_number": 187
    },
    {
     "cell_type": "heading",
     "level": 2,
     "metadata": {},
     "source": [
      "Example 5.32 Page no 282"
     ]
    },
    {
     "cell_type": "code",
     "collapsed": false,
     "input": [
      "#Given\n",
      "R1=12                     #ohm\n",
      "R2=6                      #ohm\n",
      "\n",
      "#Calculation\n",
      "Rdg=R1*R2/(R1+R2)\n",
      "Rch=R1*R2/(R1+R2)\n",
      "Rab=Rdg+Rch\n",
      "\n",
      "#Result\n",
      "print\"The equivalent resistance is \", Rab,\"ohm\""
     ],
     "language": "python",
     "metadata": {},
     "outputs": [
      {
       "output_type": "stream",
       "stream": "stdout",
       "text": [
        "The equivalent resistance is  8 ohm\n"
       ]
      }
     ],
     "prompt_number": 191
    },
    {
     "cell_type": "heading",
     "level": 2,
     "metadata": {},
     "source": [
      "Example 5.33 Page no 283"
     ]
    },
    {
     "cell_type": "code",
     "collapsed": false,
     "input": [
      "#Given\n",
      "Rab=500.0                      #ohm\n",
      "Rl=500                        #ohm\n",
      "Rbc=1500                      #ohm\n",
      "E=50                          #Volts\n",
      "Rac=2000.0                      #ohm\n",
      "V=40\n",
      "\n",
      "#Calculation\n",
      "R=Rbc*Rl/(Rbc+Rl)\n",
      "I=E/(Rab+R)\n",
      "Pd=I*Rab\n",
      "Rl1=E-Pd\n",
      "I1=E/Rac\n",
      "R12=V/I1\n",
      "\n",
      "#Result\n",
      "print\"(i) Potential difference across the road is \", round(Rl1,2),\"V\"\n",
      "print\"(ii) Resistance at BC is \", R12,\"ohm\""
     ],
     "language": "python",
     "metadata": {},
     "outputs": [
      {
       "output_type": "stream",
       "stream": "stdout",
       "text": [
        "(i) Potential difference across the road is  21.43 V\n",
        "(ii) Resistance at BC is  1600.0 ohm\n"
       ]
      }
     ],
     "prompt_number": 206
    },
    {
     "cell_type": "heading",
     "level": 2,
     "metadata": {},
     "source": [
      "Example 5.35 Page no 284"
     ]
    },
    {
     "cell_type": "code",
     "collapsed": false,
     "input": [
      "#Given\n",
      "R1=5                        #ohm\n",
      "R2=5.0                       #ohm\n",
      "R=6\n",
      "\n",
      "#Calculation\n",
      "n=(1/(R-R1)*R2)\n",
      "\n",
      "#Result\n",
      "print\"There are\", n,\"resistance are in parallel\""
     ],
     "language": "python",
     "metadata": {},
     "outputs": [
      {
       "output_type": "stream",
       "stream": "stdout",
       "text": [
        "There are 5.0 resistance are in parallel\n"
       ]
      }
     ],
     "prompt_number": 210
    },
    {
     "cell_type": "heading",
     "level": 2,
     "metadata": {},
     "source": [
      "Example 5.36 Page no 284"
     ]
    },
    {
     "cell_type": "code",
     "collapsed": false,
     "input": [
      "#Given\n",
      "R1=20.0                       #ohm\n",
      "R2=10.0                        #ohm\n",
      "R4=10\n",
      "\n",
      "#Calculation\n",
      "Rbd=(R1*R2)/(R1+R2)\n",
      "Rae=R2+Rbd+R4\n",
      "\n",
      "#Result\n",
      "print\"The value of resistance is \", round(Rae,2),\"ohm\""
     ],
     "language": "python",
     "metadata": {},
     "outputs": [
      {
       "output_type": "stream",
       "stream": "stdout",
       "text": [
        "The value of resistance is  26.67 ohm\n"
       ]
      }
     ],
     "prompt_number": 218
    },
    {
     "cell_type": "heading",
     "level": 2,
     "metadata": {},
     "source": [
      "Example 5.37 Page no 284"
     ]
    },
    {
     "cell_type": "code",
     "collapsed": false,
     "input": [
      "#Given\n",
      "R1=2.0                     #ohm\n",
      "R2=3                         #ohm\n",
      "R3=2.8\n",
      "E=6                              #V\n",
      "\n",
      "#Calculation\n",
      "Rab=R1*R2/(R1+R2)\n",
      "Rt=Rab+R3\n",
      "I=E/Rt\n",
      "Vab=I*Rab\n",
      "I1=Vab/2.0\n",
      "\n",
      "#Result\n",
      "print\"The steady state current is \", I1,\"A\""
     ],
     "language": "python",
     "metadata": {},
     "outputs": [
      {
       "output_type": "stream",
       "stream": "stdout",
       "text": [
        "The steady state current is  0.9 A\n"
       ]
      }
     ],
     "prompt_number": 226
    },
    {
     "cell_type": "heading",
     "level": 2,
     "metadata": {},
     "source": [
      "Example 5.38 Page no 285"
     ]
    },
    {
     "cell_type": "code",
     "collapsed": false,
     "input": [
      "#Given\n",
      "R1=3                 #ohm\n",
      "R2=3\n",
      "R3=6\n",
      "\n",
      "#Calculation\n",
      "Rad=(R1+R2)*R3/(R1+R2+R3)\n",
      "Rae=(Rad+R1)*R3/(Rad+R1+R3)\n",
      "Raf=(Rae+R1)*R3/(Rae+R1+R3)\n",
      "Rab=(Raf+R1)*R2/(Rae+R1+R2)\n",
      "\n",
      "#Result\n",
      "print\"the effective resistance between the point A and B is\", Rab,\"Ohm\""
     ],
     "language": "python",
     "metadata": {},
     "outputs": [
      {
       "output_type": "stream",
       "stream": "stdout",
       "text": [
        "the effective resistance between the point A and B is 2 Ohm\n"
       ]
      }
     ],
     "prompt_number": 234
    },
    {
     "cell_type": "heading",
     "level": 2,
     "metadata": {},
     "source": [
      "Example 39 Page no 285"
     ]
    },
    {
     "cell_type": "code",
     "collapsed": false,
     "input": [
      "#Given\n",
      "R2=50.0                     #ohm\n",
      "R3=50.0                       #ohm\n",
      "R4=75.0                       #ohm\n",
      "E=4.75\n",
      "R1=100\n",
      "\n",
      "#Calculation\n",
      "Rbc=1/((1/R2)+(1/R3)+(1/R4))\n",
      "R=R1+Rbc\n",
      "I=E/R\n",
      "R11=I*R1\n",
      "Vbc=E-(I*R1)\n",
      "I2=Vbc/R2\n",
      "I3=Vbc/R3\n",
      "I4=Vbc/R4\n",
      "\n",
      "#Result\n",
      "print\"Equivalent resistance of the circuit is \", R,\"ohm\"\n",
      "print\"Current in R2 is\",I2,\"A\"\n",
      "print\"Current in R3 is\",I3,\"A\"\n",
      "print\"Current in R4 is\",I4,\"A\"\n"
     ],
     "language": "python",
     "metadata": {},
     "outputs": [
      {
       "output_type": "stream",
       "stream": "stdout",
       "text": [
        "Equivalent resistance of the circuit is  118.75 ohm\n",
        "Current in R2 is 0.015 A\n",
        "Current in R3 is 0.015 A\n",
        "Current in R4 is 0.01 A\n"
       ]
      }
     ],
     "prompt_number": 251
    },
    {
     "cell_type": "heading",
     "level": 2,
     "metadata": {},
     "source": [
      "Example 5.40 Page no 292"
     ]
    },
    {
     "cell_type": "code",
     "collapsed": false,
     "input": [
      "#Given\n",
      "V=19\n",
      "I1=0.5\n",
      "I2=2                       #A\n",
      "r=2                         \n",
      "\n",
      "#Calculation\n",
      "E=V+I1*r\n",
      "\n",
      "#Result\n",
      "print\"E.M.F is \", E,\"V\""
     ],
     "language": "python",
     "metadata": {},
     "outputs": [
      {
       "output_type": "stream",
       "stream": "stdout",
       "text": [
        "E.M.F is  20.0 V\n"
       ]
      }
     ],
     "prompt_number": 254
    },
    {
     "cell_type": "heading",
     "level": 2,
     "metadata": {},
     "source": [
      "Example 5.41 Page no 292"
     ]
    },
    {
     "cell_type": "code",
     "collapsed": false,
     "input": [
      "#Given\n",
      "V=1.5\n",
      "a=1.5\n",
      "r1=0.5                     #ohm\n",
      "r2=0.25\n",
      "R=2.25                      #ohm\n",
      "\n",
      "#Calculation\n",
      "E=V+a\n",
      "r=r1+r2\n",
      "Rt=r+R\n",
      "I=E/Rt\n",
      "pd=V-(I*r1)\n",
      "pd1=V-(I*r2)\n",
      "\n",
      "#Result\n",
      "print\"(i) The circuit current is \",I,\"A\"\n",
      "print\"(ii) P.D across the terminals of each  cell is \",pd,\"V and \",pd1,\"V\""
     ],
     "language": "python",
     "metadata": {},
     "outputs": [
      {
       "output_type": "stream",
       "stream": "stdout",
       "text": [
        "(i) The circuit current is  1.0 A\n",
        "(ii) P.D across the terminals of each  cell is  1.0 V and  1.25 V\n"
       ]
      }
     ],
     "prompt_number": 268
    },
    {
     "cell_type": "heading",
     "level": 2,
     "metadata": {},
     "source": [
      "Example 5.42 Page no 292"
     ]
    },
    {
     "cell_type": "code",
     "collapsed": false,
     "input": [
      "#Given\n",
      "n=10\n",
      "E=1.5\n",
      "R=4                     #ohm\n",
      "r=0.1\n",
      "a=8\n",
      "\n",
      "#Calculation\n",
      "Emf=n*E\n",
      "Rt=R+(n*r)\n",
      "I=Emf/Rt\n",
      "Emf1=(a*E)-(2*E)\n",
      "I1=Emf1/Rt\n",
      "I11=I-I1\n",
      "\n",
      "#Result\n",
      "print\"Reduction in current is \", I11,\"A\""
     ],
     "language": "python",
     "metadata": {},
     "outputs": [
      {
       "output_type": "stream",
       "stream": "stdout",
       "text": [
        "Reduction in current is  1.2 A\n"
       ]
      }
     ],
     "prompt_number": 277
    },
    {
     "cell_type": "heading",
     "level": 2,
     "metadata": {},
     "source": [
      "Example 5.43 Page no 292"
     ]
    },
    {
     "cell_type": "code",
     "collapsed": false,
     "input": [
      "#Given\n",
      "Emf=2\n",
      "Emf1=1.9\n",
      "Emf2=1.8\n",
      "R1=0.05\n",
      "R2=0.06\n",
      "R3=0.07\n",
      "R0=5                   #ohm\n",
      "\n",
      "#Calculation\n",
      "Emft=Emf+Emf1+Emf2\n",
      "R=R1+R2+R3\n",
      "Rt=R+R0\n",
      "I=Emft/Rt\n",
      "\n",
      "#Result\n",
      "print\"The reading of the ammeter is \", round(I,1),\"A\""
     ],
     "language": "python",
     "metadata": {},
     "outputs": [
      {
       "output_type": "stream",
       "stream": "stdout",
       "text": [
        "The reading of the ammeter is  1.1 A\n"
       ]
      }
     ],
     "prompt_number": 283
    },
    {
     "cell_type": "heading",
     "level": 2,
     "metadata": {},
     "source": [
      "Example 5.44 Page no 293"
     ]
    },
    {
     "cell_type": "code",
     "collapsed": false,
     "input": [
      "#Given\n",
      "R1=6.0                #ohm\n",
      "R2=3\n",
      "I=0.8                  #A\n",
      "a=24\n",
      "\n",
      "#Calculation\n",
      "I1=I*(R1+R2)/R1\n",
      "I11=I1-I\n",
      "Rp=R1*R2/(R1+R2)\n",
      "Rt=Rp+8\n",
      "r=(a/I1)-10\n",
      "V=I1*Rt\n",
      "\n",
      "#Result\n",
      "print\"(i) Current in 6 ohm resistance is \", I11,\"A\"\n",
      "print\"(ii) Internal resistance of the battery is \", r,\"ohm\"\n",
      "print\"(iii) The terminal potential difference of the battery is \", V,\"V\""
     ],
     "language": "python",
     "metadata": {},
     "outputs": [
      {
       "output_type": "stream",
       "stream": "stdout",
       "text": [
        "(i) Current in 6 ohm resistance is  0.4 A\n",
        "(ii) Internal resistance of the battery is  10.0 ohm\n",
        "(iii) The terminal potential difference of the battery is  12.0 V\n"
       ]
      }
     ],
     "prompt_number": 295
    },
    {
     "cell_type": "heading",
     "level": 2,
     "metadata": {},
     "source": [
      "Example 5.45 Page no 294"
     ]
    },
    {
     "cell_type": "code",
     "collapsed": false,
     "input": [
      "#Given\n",
      "R1=2               #ohm\n",
      "R2=4\n",
      "R3=6\n",
      "E=8\n",
      "r=1\n",
      "\n",
      "#Calculation\n",
      "Rac=(R1+R2)*R3/(R1+R2+R3)\n",
      "I=E/(Rac+r)\n",
      "I1=I/2.0\n",
      "\n",
      "#Result\n",
      "print\"Internal resistance is \", I1,\"A\""
     ],
     "language": "python",
     "metadata": {},
     "outputs": [
      {
       "output_type": "stream",
       "stream": "stdout",
       "text": [
        "Internal resistance is  1.0 A\n"
       ]
      }
     ],
     "prompt_number": 299
    },
    {
     "cell_type": "heading",
     "level": 2,
     "metadata": {},
     "source": [
      "Example 5.46 Page no 294"
     ]
    },
    {
     "cell_type": "code",
     "collapsed": false,
     "input": [
      "#Given\n",
      "E=1\n",
      "R=2\n",
      "\n",
      "#Calculation\n",
      "r=(E*R)-E\n",
      "print\"The internal resisatnce of aech cell is \",r,\"ohm\""
     ],
     "language": "python",
     "metadata": {},
     "outputs": [
      {
       "output_type": "stream",
       "stream": "stdout",
       "text": [
        "The internal resisatnce of aech cell is  1 ohm\n"
       ]
      }
     ],
     "prompt_number": 18
    },
    {
     "cell_type": "heading",
     "level": 2,
     "metadata": {},
     "source": [
      "Example 5.47 Page no 294"
     ]
    },
    {
     "cell_type": "code",
     "collapsed": false,
     "input": [
      "#Given\n",
      "R1=15.0                          # ohm\n",
      "R2=15.0\n",
      "E=2\n",
      "V=1.6\n",
      "\n",
      "#Calculation\n",
      "R=R1*R2/(R1+R2)\n",
      "r=((E/V)-1)*R*4\n",
      "\n",
      "#Result\n",
      "print\"Internal resisatnce of each cell is \", r,\"ohm\""
     ],
     "language": "python",
     "metadata": {},
     "outputs": [
      {
       "output_type": "stream",
       "stream": "stdout",
       "text": [
        "Internal resisatnce of each cell is  7.5 ohm\n"
       ]
      }
     ],
     "prompt_number": 6
    },
    {
     "cell_type": "heading",
     "level": 2,
     "metadata": {},
     "source": [
      "Example 5.48 Page no 295"
     ]
    },
    {
     "cell_type": "code",
     "collapsed": false,
     "input": [
      "#Given\n",
      "I1=1                     #A\n",
      "E=1.5\n",
      "I2=0.6\n",
      "R2=2.33                       #ohm\n",
      "\n",
      "#Calculation\n",
      "R=2*E/I1\n",
      "R1=2*E/I2\n",
      "r=R1-2*R2\n",
      "\n",
      "#Result\n",
      "print\"Internal resisatnce of each battery is \", r,\"ohm\""
     ],
     "language": "python",
     "metadata": {},
     "outputs": [
      {
       "output_type": "stream",
       "stream": "stdout",
       "text": [
        "Internal resisatnce of each battery is  0.34 ohm\n"
       ]
      }
     ],
     "prompt_number": 20
    },
    {
     "cell_type": "heading",
     "level": 2,
     "metadata": {},
     "source": [
      "Example 5.49 Page no 295"
     ]
    },
    {
     "cell_type": "code",
     "collapsed": false,
     "input": [
      "#Given\n",
      "R1=4                   #ohm\n",
      "R2=4                            #ohm\n",
      "R3=12\n",
      "R4=6.0\n",
      "E=16\n",
      "r=1                         #ohm\n",
      "\n",
      "#calculation\n",
      "Rab=R1*R2/(R1+R2)\n",
      "Rcd=R3*R4/(R3+R4)\n",
      "R=Rab+Rcd+1\n",
      "I=E/(R+r)\n",
      "I1=I/2.0\n",
      "I3=I*R4/(R3+R4)\n",
      "I4=I*R3/(R3+R4)\n",
      "Vab=4*I1\n",
      "Vbc=I*1\n",
      "Vcd=12*I3\n",
      "\n",
      "#Result\n",
      "print\"(i) equivalent resistance of the network is \", R,\"ohm\"\n",
      "print\"(ii) Circuit current is\", I,\"A , Current in R1 is\",I1,\"A , Current in R3 is\",round(I3,2),\"A , Current in R4 is \",round(I4,2)\n",
      "print \"Voltage drop Vab is\",Vab,\"V \\nVbc is\",Vbc,\"V \\nVcd is\",Vcd,\"V\""
     ],
     "language": "python",
     "metadata": {},
     "outputs": [
      {
       "output_type": "stream",
       "stream": "stdout",
       "text": [
        "(i) equivalent resistance of the network is  7.0 ohm\n",
        "(ii) Circuit current is 2.0 A , Current in R1 is 1.0 A , Current in R3 is 0.67 A , Current in R4 is  1.33\n",
        "Voltage drop Vab is 4.0 V \n",
        "Vbc is 2.0 V \n",
        "Vcd is 8.0 V\n"
       ]
      }
     ],
     "prompt_number": 46
    }
   ],
   "metadata": {}
  }
 ]
}