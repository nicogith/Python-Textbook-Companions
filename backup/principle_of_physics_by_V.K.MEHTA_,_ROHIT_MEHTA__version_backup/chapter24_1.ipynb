{
 "metadata": {
  "name": "",
  "signature": "sha256:6d1662d2dadbe072b20c80081401408d705c47c14e10e838032934acc7c20ff4"
 },
 "nbformat": 3,
 "nbformat_minor": 0,
 "worksheets": [
  {
   "cells": [
    {
     "cell_type": "heading",
     "level": 1,
     "metadata": {},
     "source": [
      "Chapter 24 Atoms"
     ]
    },
    {
     "cell_type": "heading",
     "level": 2,
     "metadata": {},
     "source": [
      "Example 24.1 Page no 1264"
     ]
    },
    {
     "cell_type": "code",
     "collapsed": false,
     "input": [
      "#Given\n",
      "k=7.68*10**6*1.6*10**-19                   #J\n",
      "e=1.6*10**-19\n",
      "Z=29\n",
      "m=9*10**9\n",
      "\n",
      "#Calculation\n",
      "r=(m*2*Z*e**2)/k\n",
      "\n",
      "#Result\n",
      "print\"The distance of the closest approach is\",round(r*10**14,1)*10**-14,\"m\""
     ],
     "language": "python",
     "metadata": {},
     "outputs": [
      {
       "output_type": "stream",
       "stream": "stdout",
       "text": [
        "The distance of the closest approach is 1.1e-14 m\n"
       ]
      }
     ],
     "prompt_number": 7
    },
    {
     "cell_type": "heading",
     "level": 2,
     "metadata": {},
     "source": [
      "Example 24.2 Page no 1265"
     ]
    },
    {
     "cell_type": "code",
     "collapsed": false,
     "input": [
      "#Given\n",
      "a=10                        #degree\n",
      "e=1.6*10**-19\n",
      "Z=79\n",
      "m=9*10**9\n",
      "a=5.0*1.6*10**-13\n",
      "\n",
      "#Calculation\n",
      "import math\n",
      "b=(Z*e**2*(1/(math.tan(5*3.14/180.0)))*m)/a\n",
      "\n",
      "#Result\n",
      "print\"Impact parameter is\", round(b*10**13,1)*10**-13,\"m\""
     ],
     "language": "python",
     "metadata": {},
     "outputs": [
      {
       "output_type": "stream",
       "stream": "stdout",
       "text": [
        "Impact parameter is 2.6e-13 m\n"
       ]
      }
     ],
     "prompt_number": 20
    },
    {
     "cell_type": "heading",
     "level": 2,
     "metadata": {},
     "source": [
      "Example 24.3 Page no 1265"
     ]
    },
    {
     "cell_type": "code",
     "collapsed": false,
     "input": [
      "#Given\n",
      "Z=79\n",
      "m=9*10**9\n",
      "e=1.6*10**-19\n",
      "r=4.0*10**-14\n",
      "\n",
      "#Calculation\n",
      "K=(m*2*Z*e**2)/(r*1.6*10**-13)\n",
      "\n",
      "#Result\n",
      "print\"Energy is\", round(K,2),\"Mev\""
     ],
     "language": "python",
     "metadata": {},
     "outputs": [
      {
       "output_type": "stream",
       "stream": "stdout",
       "text": [
        "Energy is 5.69 Mev\n"
       ]
      }
     ],
     "prompt_number": 25
    },
    {
     "cell_type": "heading",
     "level": 2,
     "metadata": {},
     "source": [
      "Example 24.4 Page no 1265"
     ]
    },
    {
     "cell_type": "code",
     "collapsed": false,
     "input": [
      "#Given\n",
      "v=2.1*10**7                        #m/s\n",
      "a=4.8*10**7                        #C/Kg\n",
      "Z=79\n",
      "e=1.6*10**-19\n",
      "m=9*10**9\n",
      "\n",
      "#Calculation\n",
      "r0=(2*m*Z*e*a)/v**2\n",
      "\n",
      "#Result\n",
      "print\"Distance of the closest approach is\", round(r0*10**14,1)*10**-14,\"m\""
     ],
     "language": "python",
     "metadata": {},
     "outputs": [
      {
       "output_type": "stream",
       "stream": "stdout",
       "text": [
        "Distance of the closest approach is 2.5e-14 m\n"
       ]
      }
     ],
     "prompt_number": 31
    },
    {
     "cell_type": "heading",
     "level": 2,
     "metadata": {},
     "source": [
      "Example 24.6 Page no 1266"
     ]
    },
    {
     "cell_type": "code",
     "collapsed": false,
     "input": [
      "#Given\n",
      "Z=79\n",
      "e=1.6*10**-19                 #C\n",
      "v=1.6*10**-12\n",
      "m=9*10**9\n",
      "\n",
      "#Calculation\n",
      "import math\n",
      "b=(m*Z*e**2*(1/(math.tan(45*3.14/180.0))))/v\n",
      "\n",
      "#Result\n",
      "print\"(a) Scattering angle is 180 degree\"\n",
      "print\"(b) The value of scattering angle decreases\"\n",
      "print\"(c) Impact parameter is\", round(b*10**14,1)*10**-14,\"m\"\n",
      "print\"(d) The scattering of particle takes place due to charge on the nucleus\",\n",
      "print\"(e) Scattering angle is increase with decrease in impact parameter\""
     ],
     "language": "python",
     "metadata": {},
     "outputs": [
      {
       "output_type": "stream",
       "stream": "stdout",
       "text": [
        "(a) Scattering angle is 180 degree\n",
        "(b) The value of scattering angle decreases\n",
        "(c) Impact parameter is 1.1e-14 m\n",
        "(d) The scattering of particle takes place due to charge on the nucleus (e) Scattering angle is increase with decrease in impact parameter\n"
       ]
      }
     ],
     "prompt_number": 47
    },
    {
     "cell_type": "heading",
     "level": 2,
     "metadata": {},
     "source": [
      "Example 24.7 Page no 1280"
     ]
    },
    {
     "cell_type": "code",
     "collapsed": false,
     "input": [
      "#Given\n",
      "e=8.854*10**-12\n",
      "h=6.62*10**-34\n",
      "m=9*10**-31\n",
      "e1=1.6*10**-19\n",
      "\n",
      "#Calculation\n",
      "import math\n",
      "r1=((e*h**2)/(math.pi*m*e1**2))*10**10\n",
      "v1=e1**2/(2*e*h)\n",
      "n=2*r1\n",
      "\n",
      "#Result\n",
      "print\"Radius of first orbit is\", round(r1,2),\"A\"\n",
      "print\"Velocity of electron is\",round(v1*10**-6,1),\"*10**6 m/s\"\n",
      "print\"Size of hydrogen atom is\",round(n,2),\"A\""
     ],
     "language": "python",
     "metadata": {},
     "outputs": [
      {
       "output_type": "stream",
       "stream": "stdout",
       "text": [
        "Radius of first orbit is 0.54 A\n",
        "Velocity of electron is 2.2 *10**6 m/s\n",
        "Size of hydrogen atom is 1.07 A\n"
       ]
      }
     ],
     "prompt_number": 62
    },
    {
     "cell_type": "heading",
     "level": 2,
     "metadata": {},
     "source": [
      "Example 24.8 Page no 1281"
     ]
    },
    {
     "cell_type": "code",
     "collapsed": false,
     "input": [
      "#Given\n",
      "n=1.0\n",
      "n1=2.0\n",
      "n2=3.0\n",
      "a=0.53*10**-10\n",
      "Z=3.0\n",
      "\n",
      "#Calculation\n",
      "r1=(a*n)/Z\n",
      "r2=(a*n1**2)/Z\n",
      "r3=(a*n2**2)/Z\n",
      "E1=(-13.6*Z**2)/n**2\n",
      "E2=(-13.6*Z**2)/n1**2\n",
      "E3=(-13.6*Z**2)/n2**2\n",
      "E=E3-E1\n",
      "\n",
      "#Result\n",
      "print\"(i) Radii of three lowest allowed orbits is\", round(r1*10**10,2),\"A,\",round(r2*10**10,2),\"A and\",r3*10**10,\"A\"\n",
      "print\"(ii) Energy of three lowest allowed orbits is\",E1,\"ev,\",E2,\"ev and\",E3,\"ev\"\n",
      "print\"Energy of the photon is\",E,\"ev\""
     ],
     "language": "python",
     "metadata": {},
     "outputs": [
      {
       "output_type": "stream",
       "stream": "stdout",
       "text": [
        "(i) Radii of three lowest allowed orbits is 0.18 A, 0.71 A and 1.59 A\n",
        "(ii) Energy of three lowest allowed orbits is -122.4 ev, -30.6 ev and -13.6 ev\n",
        "Energy of the photon is 108.8 ev\n"
       ]
      }
     ],
     "prompt_number": 82
    },
    {
     "cell_type": "heading",
     "level": 2,
     "metadata": {},
     "source": [
      "Example 24.9 Page no 1281"
     ]
    },
    {
     "cell_type": "code",
     "collapsed": false,
     "input": [
      "#Given\n",
      "n=2.0\n",
      "n1=3.0\n",
      "\n",
      "#Calculation\n",
      "E2=-13.6/n**2\n",
      "E3=-13.6/n1**2\n",
      "\n",
      "#Result\n",
      "print\"Energies of two energy level is\",E2,\"ev and\",round(E3,2),\"ev\""
     ],
     "language": "python",
     "metadata": {},
     "outputs": [
      {
       "output_type": "stream",
       "stream": "stdout",
       "text": [
        "Energies of two energy level is -3.4 ev and -1.51 ev\n"
       ]
      }
     ],
     "prompt_number": 86
    },
    {
     "cell_type": "heading",
     "level": 2,
     "metadata": {},
     "source": [
      "Example 24.10 Page no 1282"
     ]
    },
    {
     "cell_type": "code",
     "collapsed": false,
     "input": [
      "#Given\n",
      "Rh=1.097*10**7\n",
      "\n",
      "#Calculation\n",
      "l=9/(8.0*Rh)\n",
      "\n",
      "#Result\n",
      "print\"Wavelength of second line is\",round(l*10**10,0),\"A\""
     ],
     "language": "python",
     "metadata": {},
     "outputs": [
      {
       "output_type": "stream",
       "stream": "stdout",
       "text": [
        "Wavelength of second line is 1026.0 A\n"
       ]
      }
     ],
     "prompt_number": 90
    },
    {
     "cell_type": "heading",
     "level": 2,
     "metadata": {},
     "source": [
      "Example 24.11 Page no 1282"
     ]
    },
    {
     "cell_type": "code",
     "collapsed": false,
     "input": [
      "#Given\n",
      "Rh=1.097*10**7\n",
      "\n",
      "#Calculation\n",
      "l=4/Rh\n",
      "\n",
      "#Result\n",
      "print\"Shortest wavelength is\",round(l*10**10,0),\"A\""
     ],
     "language": "python",
     "metadata": {},
     "outputs": [
      {
       "output_type": "stream",
       "stream": "stdout",
       "text": [
        "Shortest wavelength is 3646.0 A\n"
       ]
      }
     ],
     "prompt_number": 95
    },
    {
     "cell_type": "heading",
     "level": 2,
     "metadata": {},
     "source": [
      "Example 24.12 Page no 1282"
     ]
    },
    {
     "cell_type": "code",
     "collapsed": false,
     "input": [
      "#Given\n",
      "Rh=1.097*10**7\n",
      "\n",
      "#Calculation\n",
      "l=4/(3.0*Rh)\n",
      "\n",
      "#Result\n",
      "print\"Longest wavelength is\",round(l*10**10,0),\"A\""
     ],
     "language": "python",
     "metadata": {},
     "outputs": [
      {
       "output_type": "stream",
       "stream": "stdout",
       "text": [
        "Longest wavelength is 1215.0 A\n"
       ]
      }
     ],
     "prompt_number": 99
    },
    {
     "cell_type": "heading",
     "level": 2,
     "metadata": {},
     "source": [
      "Example 24.13 Page no 1282"
     ]
    },
    {
     "cell_type": "code",
     "collapsed": false,
     "input": [
      "#Given\n",
      "n=1.0\n",
      "h=6.62*10**-34\n",
      "c=3*10**8\n",
      "f=1.6*10**-19\n",
      "Z=2\n",
      "\n",
      "#Calculation\n",
      "E1=(-13.6*Z**2)/n**2\n",
      "l=-(h*c)/(E1*f)\n",
      "\n",
      "#Result\n",
      "print\"Minimum wavelength is\", round(l*10**10,0),\"A\""
     ],
     "language": "python",
     "metadata": {},
     "outputs": [
      {
       "output_type": "stream",
       "stream": "stdout",
       "text": [
        "Minimum wavelength is 228.0 A\n"
       ]
      }
     ],
     "prompt_number": 104
    },
    {
     "cell_type": "heading",
     "level": 2,
     "metadata": {},
     "source": [
      "Example 24.14 Page no 1283"
     ]
    },
    {
     "cell_type": "code",
     "collapsed": false,
     "input": [
      "#Given\n",
      "n=1\n",
      "Z=1.0\n",
      "a=0.53*10**-10\n",
      "Z1=4.0\n",
      "\n",
      "#Calculation\n",
      "import math\n",
      "rh=(a*n)/Z**2\n",
      "n1=math.sqrt((a*Z1/rh))\n",
      "Eh=(-13.6*Z**2)/n**2\n",
      "Ebe=(-13.6*Z1**2)/n1**2\n",
      "E=Ebe/Eh\n",
      "\n",
      "#Result\n",
      "print\"Energy of two states is\",E"
     ],
     "language": "python",
     "metadata": {},
     "outputs": [
      {
       "output_type": "stream",
       "stream": "stdout",
       "text": [
        "Energy of two states is 4.0\n"
       ]
      }
     ],
     "prompt_number": 112
    },
    {
     "cell_type": "heading",
     "level": 2,
     "metadata": {},
     "source": [
      "Example 24.15 Page no 1283"
     ]
    },
    {
     "cell_type": "code",
     "collapsed": false,
     "input": [
      "#Given\n",
      "Z=2\n",
      "e=1.6*10**-19\n",
      "e1=8.854*10**-12\n",
      "n=3\n",
      "h=6.62*10**-34\n",
      "c=3*10**8\n",
      "\n",
      "#Calculation\n",
      "v=(Z*e**2)/(2*e1*n*h)\n",
      "a=v/c\n",
      "\n",
      "#Result\n",
      "print\"Speed of the electron is\",round(a,3 )"
     ],
     "language": "python",
     "metadata": {},
     "outputs": [
      {
       "output_type": "stream",
       "stream": "stdout",
       "text": [
        "Speed of the electron is 0.005\n"
       ]
      }
     ],
     "prompt_number": 116
    },
    {
     "cell_type": "heading",
     "level": 2,
     "metadata": {},
     "source": [
      "Example 24.16 Page no 1284"
     ]
    },
    {
     "cell_type": "code",
     "collapsed": false,
     "input": [
      "#Given\n",
      "r=10**-10\n",
      "R=10**-15\n",
      "Rs=7*10**8\n",
      "\n",
      "#Calculation\n",
      "R1=r/R\n",
      "Re=R1*Rs\n",
      "\n",
      "#Result\n",
      "print\"Radius of the earth's orbit is\",Re,\"m. Thus the earth would be much farther away from the sun\""
     ],
     "language": "python",
     "metadata": {},
     "outputs": [
      {
       "output_type": "stream",
       "stream": "stdout",
       "text": [
        "Radius of the earth's orbit is 7e+13 m. Thus the earth would be much farther away from the sun\n"
       ]
      }
     ],
     "prompt_number": 118
    },
    {
     "cell_type": "heading",
     "level": 2,
     "metadata": {},
     "source": [
      "Example 24.17 Page no 1284"
     ]
    },
    {
     "cell_type": "code",
     "collapsed": false,
     "input": [
      "#Given\n",
      "E=-13.6*1.9*10**-19                #J\n",
      "m=9*10**9\n",
      "e=1.6*10**-19\n",
      "n=1\n",
      "c=3*10**8\n",
      "\n",
      "#Calculation\n",
      "r=(-e**2*m)/(2.0*E)\n",
      "v=c/(137*n)\n",
      "\n",
      "#Result\n",
      "print\"Orbital radius is\", round(r*10**11,1)*10**-11,\"m\"\n",
      "print\"Velocity of the electron is\",round(v*10**-6,1),\"*10**6 m/s\""
     ],
     "language": "python",
     "metadata": {},
     "outputs": [
      {
       "output_type": "stream",
       "stream": "stdout",
       "text": [
        "Orbital radius is 4.5e-11 m\n",
        "Velocity of the electron is 2.2 *10**6 m/s\n"
       ]
      }
     ],
     "prompt_number": 131
    },
    {
     "cell_type": "heading",
     "level": 2,
     "metadata": {},
     "source": [
      "Example 24.18 Page no 1284"
     ]
    },
    {
     "cell_type": "code",
     "collapsed": false,
     "input": [
      "#Given\n",
      "v=2.2*10**6\n",
      "r=5.3*10**-11\n",
      "\n",
      "#Calculation\n",
      "import math\n",
      "f=v/(2*math.pi*r)\n",
      "\n",
      "#Result\n",
      "print\"Initial frequency of light is\",round(f*10**-15,1)*10**15,\"Hz\""
     ],
     "language": "python",
     "metadata": {},
     "outputs": [
      {
       "output_type": "stream",
       "stream": "stdout",
       "text": [
        "Initial frequency of light is 6.6e+15 Hz\n"
       ]
      }
     ],
     "prompt_number": 135
    },
    {
     "cell_type": "heading",
     "level": 2,
     "metadata": {},
     "source": [
      "Example 24.19 Page no 1285"
     ]
    },
    {
     "cell_type": "code",
     "collapsed": false,
     "input": [
      "#Given\n",
      "m=10                 #Kg\n",
      "T=2*60*60             #S\n",
      "rn=8*10**6            #m\n",
      "h=6.62*10**-34\n",
      "\n",
      "#Calculation\n",
      "import math\n",
      "vn=(2*math.pi*rn)/T\n",
      "n=(2*math.pi*rn*vn)/h\n",
      "\n",
      "#Result\n",
      "print\"Quantum number is\",round(n*10**-44,1)*10**45"
     ],
     "language": "python",
     "metadata": {},
     "outputs": [
      {
       "output_type": "stream",
       "stream": "stdout",
       "text": [
        "Quantum number is 5.3e+45\n"
       ]
      }
     ],
     "prompt_number": 139
    },
    {
     "cell_type": "heading",
     "level": 2,
     "metadata": {},
     "source": [
      "Example 24.20 Page no 1285"
     ]
    },
    {
     "cell_type": "code",
     "collapsed": false,
     "input": [
      "#Given\n",
      "E2=18.70\n",
      "E1=16.70\n",
      "h=6.62*10**-34\n",
      "c=3*10**8\n",
      "\n",
      "#Calculation\n",
      "E=E2-E1\n",
      "l=(h*c)/(E*1.6*10**-19)\n",
      "\n",
      "#Result\n",
      "print\"Wavelength is\", round(l*10**9,0),\"nm\""
     ],
     "language": "python",
     "metadata": {},
     "outputs": [
      {
       "output_type": "stream",
       "stream": "stdout",
       "text": [
        "Wavelength is 621.0 nm\n"
       ]
      }
     ],
     "prompt_number": 148
    },
    {
     "cell_type": "heading",
     "level": 2,
     "metadata": {},
     "source": [
      "Example 24.21 Page no 1285"
     ]
    },
    {
     "cell_type": "code",
     "collapsed": false,
     "input": [
      "#Given\n",
      "n1=2\n",
      "n2=3\n",
      "lb=6563\n",
      "a=20\n",
      "b=108.0\n",
      "\n",
      "#Calculation\n",
      "l1=(lb*a)/b\n",
      "\n",
      "#Result\n",
      "print\"Wavelength of first member is\",round(l1,0),\"A\""
     ],
     "language": "python",
     "metadata": {},
     "outputs": [
      {
       "output_type": "stream",
       "stream": "stdout",
       "text": [
        "Wavelength of first member is 1215.0 A\n"
       ]
      }
     ],
     "prompt_number": 151
    },
    {
     "cell_type": "heading",
     "level": 2,
     "metadata": {},
     "source": [
      "Example 24.22 Page no 1285"
     ]
    },
    {
     "cell_type": "code",
     "collapsed": false,
     "input": [
      "#Given\n",
      "Rh=1.097*10**7                         #/m\n",
      "h=6.63*10**-34\n",
      "c=3*10**8\n",
      "n=2.0\n",
      "n1=4.0\n",
      "\n",
      "#Calculation\n",
      "E=(h*c*Rh*(1/n**2-1/n1**2))/1.6*10**-19\n",
      "\n",
      "#Result\n",
      "print\"Minimum energy is\", round(E*10**38,2),\"ev\""
     ],
     "language": "python",
     "metadata": {},
     "outputs": [
      {
       "output_type": "stream",
       "stream": "stdout",
       "text": [
        "Minimum energy is 2.56 ev\n"
       ]
      }
     ],
     "prompt_number": 158
    },
    {
     "cell_type": "heading",
     "level": 2,
     "metadata": {},
     "source": [
      "Example 24.23 Page no 1286"
     ]
    },
    {
     "cell_type": "code",
     "collapsed": false,
     "input": [
      "#Given\n",
      "Rh=1.097*10**7\n",
      "n2=4.0\n",
      "n1=3.0\n",
      "\n",
      "#Calculation\n",
      "lm=1/(Rh*(1/n1**2-1/n2**2))\n",
      "lm1=9/Rh\n",
      "\n",
      "#Result\n",
      "print\"Wavelength is\", round(lm1*10**9,1),\"nm. This wavelength is in infrared part\""
     ],
     "language": "python",
     "metadata": {},
     "outputs": [
      {
       "output_type": "stream",
       "stream": "stdout",
       "text": [
        "Wavelength is 820.4 nm. This wavelength is in infrared part\n"
       ]
      }
     ],
     "prompt_number": 167
    }
   ],
   "metadata": {}
  }
 ]
}