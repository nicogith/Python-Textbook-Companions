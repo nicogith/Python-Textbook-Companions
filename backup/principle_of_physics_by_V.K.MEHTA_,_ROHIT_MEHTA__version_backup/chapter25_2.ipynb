{
 "metadata": {
  "name": "",
  "signature": "sha256:efdc68d7aa35d22a94f64e5e8f01516d21c5f3fcea362a5520b7b1d532197f7c"
 },
 "nbformat": 3,
 "nbformat_minor": 0,
 "worksheets": [
  {
   "cells": [
    {
     "cell_type": "heading",
     "level": 1,
     "metadata": {},
     "source": [
      "Chapter 25 Nuclei"
     ]
    },
    {
     "cell_type": "heading",
     "level": 2,
     "metadata": {},
     "source": [
      "Example 25.1 Page no 1312"
     ]
    },
    {
     "cell_type": "code",
     "collapsed": false,
     "input": [
      "#Given\n",
      "R0=1.2*10**-15                       #m\n",
      "A=208\n",
      "A1=16\n",
      "\n",
      "#calculation\n",
      "R=R0*A**0.33\n",
      "R1=R0*A1**0.33\n",
      "\n",
      "#Result\n",
      "print\"Nuclear radius of lead is\", round(R*10**15,1),\"fm\"\n",
      "print\"Nuclear radius of oxygen is\", round(R1*10**15,0),\"fm\""
     ],
     "language": "python",
     "metadata": {},
     "outputs": [
      {
       "output_type": "stream",
       "stream": "stdout",
       "text": [
        "Nuclear radius of lead is 7.0 fm\n",
        "Nuclear radius of oxygen is 3.0 fm\n"
       ]
      }
     ],
     "prompt_number": 17
    },
    {
     "cell_type": "heading",
     "level": 2,
     "metadata": {},
     "source": [
      "Example 25.2 page no1312"
     ]
    },
    {
     "cell_type": "code",
     "collapsed": false,
     "input": [
      "#Given\n",
      "me=9.1*10**-31\n",
      "c=3*10**8\n",
      "e=1.6*10**-19\n",
      "mp=1.673*10**-27\n",
      "mn=1.675*10**-27\n",
      "\n",
      "#Calculation\n",
      "E=(me*c**2)/e\n",
      "E1=(mp*c**2)/e\n",
      "E2=(mn*c**2)/e\n",
      "\n",
      "#Result\n",
      "print\"(i) Equivalent energy of electron is\",round(E*10**-6,2),\"Mev\"\n",
      "print\"(ii) Equivalent energy of proton is\",round(E1*10**-6,1),\"Mev\"\n",
      "print\"(iii) Equivalent energy of neutron is\",round(E2*10**-6,1),\"Mev\""
     ],
     "language": "python",
     "metadata": {},
     "outputs": [
      {
       "output_type": "stream",
       "stream": "stdout",
       "text": [
        "(i) Equivalent energy of electron is 0.51 Mev\n",
        "(ii) Equivalent energy of proton is 941.1 Mev\n",
        "(iii) Equivalent energy of neutron is 942.2 Mev\n"
       ]
      }
     ],
     "prompt_number": 27
    },
    {
     "cell_type": "heading",
     "level": 2,
     "metadata": {},
     "source": [
      "Example 25.3 Page no 1312"
     ]
    },
    {
     "cell_type": "code",
     "collapsed": false,
     "input": [
      "#Given\n",
      "m=10**-3                   #m\n",
      "c=3*10**8                      #m/s\n",
      "a=3.6*10**6                       #J\n",
      "\n",
      "#Calculation\n",
      "E=(m*c**2)/a\n",
      "\n",
      "#Result\n",
      "print E*10**-7,\"*10**7 KWh\""
     ],
     "language": "python",
     "metadata": {},
     "outputs": [
      {
       "output_type": "stream",
       "stream": "stdout",
       "text": [
        "2.5 *10**7 KWh\n"
       ]
      }
     ],
     "prompt_number": 30
    },
    {
     "cell_type": "heading",
     "level": 2,
     "metadata": {},
     "source": [
      "Example 25.4 Page no 1313"
     ]
    },
    {
     "cell_type": "code",
     "collapsed": false,
     "input": [
      "#Given\n",
      "Z=17\n",
      "A=35\n",
      "Z1=92\n",
      "A1=235\n",
      "Z2=4\n",
      "A2=9\n",
      "\n",
      "#Calculation\n",
      "n=A-Z\n",
      "n1=A1-Z1\n",
      "n2=A2-Z2\n",
      "\n",
      "#Calculation\n",
      "print\"Number of neutron in 17Cl35 is\",n\n",
      "print\"Number of neutron in 92U235 is\",n1\n",
      "print\"Number of neutron in 4Be9 is\",n2"
     ],
     "language": "python",
     "metadata": {},
     "outputs": [
      {
       "output_type": "stream",
       "stream": "stdout",
       "text": [
        "Number of neutron in 17Cl35 is 18\n",
        "Number of neutron in 92U235 is 143\n",
        "Number of neutron in 4Be9 is 5\n"
       ]
      }
     ],
     "prompt_number": 33
    },
    {
     "cell_type": "heading",
     "level": 2,
     "metadata": {},
     "source": [
      "Example 25.5 Page no 1313"
     ]
    },
    {
     "cell_type": "code",
     "collapsed": false,
     "input": [
      "#Given\n",
      "A2=235\n",
      "A1=16.0\n",
      "R1=3*10**-15                  #m\n",
      "\n",
      "#Calculation\n",
      "R=(A2/A1)**0.33\n",
      "R2=R*R1\n",
      "\n",
      "#Result\n",
      "print\"Nuclear radius is\", round(R2*10**15,3),\"fermi\""
     ],
     "language": "python",
     "metadata": {},
     "outputs": [
      {
       "output_type": "stream",
       "stream": "stdout",
       "text": [
        "Nuclear radius is 7.281 fermi\n"
       ]
      }
     ],
     "prompt_number": 39
    },
    {
     "cell_type": "heading",
     "level": 2,
     "metadata": {},
     "source": [
      "Example 25.6 Page no 1313"
     ]
    },
    {
     "cell_type": "code",
     "collapsed": false,
     "input": [
      "#Given\n",
      "me=55.85\n",
      "u=1.66*10**-27                 #Kg\n",
      "R=1.2*10**-15 \n",
      "\n",
      "#Calculation\n",
      "import math\n",
      "m=me*u\n",
      "a=(3*u)/(4.0*math.pi*R**3)\n",
      "\n",
      "#Result\n",
      "print\"Nuclear density is\", round(a*10**-17,2)*10**17,\"Kg/m**3\""
     ],
     "language": "python",
     "metadata": {},
     "outputs": [
      {
       "output_type": "stream",
       "stream": "stdout",
       "text": [
        "Nuclear density is 2.29e+17 Kg/m**3\n"
       ]
      }
     ],
     "prompt_number": 45
    },
    {
     "cell_type": "heading",
     "level": 2,
     "metadata": {},
     "source": [
      "Example 25.7 Page no 1317"
     ]
    },
    {
     "cell_type": "code",
     "collapsed": false,
     "input": [
      "#Given\n",
      "M=4.001509                    #a.m.u\n",
      "N=1.008666\n",
      "N1=1.007277\n",
      "a=1.66*10**-27\n",
      "c=3*10**8\n",
      "e=1.6*10**-19\n",
      "n=4.0\n",
      "\n",
      "#Calculation\n",
      "A=2*N1+2*N\n",
      "M1=A-M\n",
      "Eb=M1*a*c**2/e\n",
      "B=Eb/n\n",
      "\n",
      "#Result\n",
      "print\"(i)  Mass defect is\",M1,\"a.m.u\"\n",
      "print\"(ii) Binding energy is\",round(Eb*10**-6,1),\"Mev\"\n",
      "print\" Binding energy per nucleon is\",round(B*10**-6,2),\"Mev\""
     ],
     "language": "python",
     "metadata": {},
     "outputs": [
      {
       "output_type": "stream",
       "stream": "stdout",
       "text": [
        "(i)  Mass defect is 0.030377 a.m.u\n",
        "(ii) Binding energy is 28.4 Mev\n",
        " Binding energy per nucleon is 7.09 Mev\n"
       ]
      }
     ],
     "prompt_number": 61
    },
    {
     "cell_type": "heading",
     "level": 2,
     "metadata": {},
     "source": [
      "Example 25.8 Page no 1317"
     ]
    },
    {
     "cell_type": "code",
     "collapsed": false,
     "input": [
      "#Given\n",
      "ma=1.00893\n",
      "m1=1.00813\n",
      "m2=2.01473\n",
      "a=931.5\n",
      "a1=4.00389\n",
      "\n",
      "#Calculation\n",
      "m=ma+m1-m2\n",
      "Eb=m*a\n",
      "m3=2*ma+2*m1-a1\n",
      "Eb1=m3*a\n",
      "\n",
      "#Result\n",
      "print\"(i) Binding energy when one neutron and one proton combined together is\",  round(Eb,2),\"Mev\"\n",
      "print\"(ii) Binding energy when two neutrons and two protons are combined is\",round(Eb1,1) ,\"Mev\""
     ],
     "language": "python",
     "metadata": {},
     "outputs": [
      {
       "output_type": "stream",
       "stream": "stdout",
       "text": [
        "(i) Binding energy when one neutron and one proton combined together is 2.17 Mev\n",
        "(ii) Binding eergy when two neutrons and two protons are combined is 28.2 Mev\n"
       ]
      }
     ],
     "prompt_number": 4
    },
    {
     "cell_type": "heading",
     "level": 2,
     "metadata": {},
     "source": [
      "Example 25.10 Page no 1318"
     ]
    },
    {
     "cell_type": "code",
     "collapsed": false,
     "input": [
      "#Given\n",
      "a=1.66*10**-27             #Kg\n",
      "c=3*10**8\n",
      "mp=1.00727\n",
      "mn=1.00866\n",
      "mo=15.99053\n",
      "\n",
      "#Calculation\n",
      "E=(a*c**2)/1.6*10**-19\n",
      "m1=8*mp+8*mn-mo\n",
      "a1=m1*E\n",
      "\n",
      "#Result\n",
      "print\"Energy equivalent of one atomic mass unit is\", round(a1*10**32,1),\"Mev/c**2\""
     ],
     "language": "python",
     "metadata": {},
     "outputs": [
      {
       "output_type": "stream",
       "stream": "stdout",
       "text": [
        "Energy equivalent of one atomic mass unit is 127.8 Mev/c**2\n"
       ]
      }
     ],
     "prompt_number": 14
    },
    {
     "cell_type": "heading",
     "level": 2,
     "metadata": {},
     "source": [
      "Example 25.11 Page no 1318"
     ]
    },
    {
     "cell_type": "code",
     "collapsed": false,
     "input": [
      "#Given\n",
      "mp=1.007825\n",
      "mn=1.008665\n",
      "m=39.962589\n",
      "a2=931.5\n",
      "Z=40.0\n",
      "\n",
      "#Calculation\n",
      "E=20*mp+20*mn\n",
      "m1=E-m\n",
      "Eb=m1*a2\n",
      "B=Eb/Z\n",
      "\n",
      "#Result\n",
      "print\"Binding energy per nucleon is\", round(B,3),\"Mev/nucleon\""
     ],
     "language": "python",
     "metadata": {},
     "outputs": [
      {
       "output_type": "stream",
       "stream": "stdout",
       "text": [
        "Binding energy per nucleon is 8.551 Mev/nucleon\n"
       ]
      }
     ],
     "prompt_number": 21
    },
    {
     "cell_type": "heading",
     "level": 2,
     "metadata": {},
     "source": [
      "Example 25.12 Page no 1330"
     ]
    },
    {
     "cell_type": "code",
     "collapsed": false,
     "input": [
      "#Given\n",
      "t=5000                   #Days\n",
      "t1=2000.0\n",
      "a=0.693 \n",
      "\n",
      "#Calculation\n",
      "import math\n",
      "dt=(a*t)/t1\n",
      "N=math.log10(dt)\n",
      "l=a*N/(t1)\n",
      "\n",
      "#Result\n",
      "print\"(i) The fraction remaining after 5000 days is\", round(N,3)\n",
      "print\"(ii) The activity of sample after 5000 days is\",round(l*10**5,1),\"*10**8 Bq\""
     ],
     "language": "python",
     "metadata": {},
     "outputs": [
      {
       "output_type": "stream",
       "stream": "stdout",
       "text": [
        "(i) The fraction remaining after 5000 days is 0.239\n",
        "(ii) The activity of sample after 5000 days is 8.3 *10**8 Bq\n"
       ]
      }
     ],
     "prompt_number": 42
    },
    {
     "cell_type": "heading",
     "level": 2,
     "metadata": {},
     "source": [
      "Example 25.13 Page no 1330"
     ]
    },
    {
     "cell_type": "code",
     "collapsed": false,
     "input": [
      "#Given\n",
      "N=3.67*10**10              #dis/second\n",
      "r=226.0\n",
      "A=6.023*10**23\n",
      "\n",
      "#Calculation\n",
      "n=A/r\n",
      "l=N/n\n",
      "D=0.693/l\n",
      "a=D/(3600.0*24.0*365.0)\n",
      "\n",
      "#Result\n",
      "print\" Half life of radium is\",round(a,0),\"years\""
     ],
     "language": "python",
     "metadata": {},
     "outputs": [
      {
       "output_type": "stream",
       "stream": "stdout",
       "text": [
        " Half life of radium is 1596.0 years\n"
       ]
      }
     ],
     "prompt_number": 48
    },
    {
     "cell_type": "heading",
     "level": 2,
     "metadata": {},
     "source": [
      "Example 25.14 page no 1330"
     ]
    },
    {
     "cell_type": "code",
     "collapsed": false,
     "input": [
      "#Given\n",
      "N0=475\n",
      "N=270.0\n",
      "t=5.0\n",
      "\n",
      "#Calculation\n",
      "import math\n",
      "a=N0/N\n",
      "l=math.log(a)/t\n",
      "T=1/l\n",
      "T1=0.693/l\n",
      "\n",
      "#Result\n",
      "print\"(i) The decay constant is\",round(l,3),\"/minute\"\n",
      "print\"(ii) Mean life is\",round(T,2),\"minute\"\n",
      "print\"(iii) Half life is\",round(T1,2),\"minute\""
     ],
     "language": "python",
     "metadata": {},
     "outputs": [
      {
       "output_type": "stream",
       "stream": "stdout",
       "text": [
        "(i) The decay constant is 0.113 /minute\n",
        "(ii) Mean life is 8.85 minute\n",
        "(iii) Half life is 6.13 minute\n"
       ]
      }
     ],
     "prompt_number": 55
    },
    {
     "cell_type": "heading",
     "level": 2,
     "metadata": {},
     "source": [
      "Example 25.15 page no 1331"
     ]
    },
    {
     "cell_type": "code",
     "collapsed": false,
     "input": [
      "#Given\n",
      "t=1500\n",
      "N=0.01\n",
      "N0=0.999\n",
      "\n",
      "#Calculation\n",
      "import math\n",
      "T=t*math.log(N)/math.log(0.5)\n",
      "T1=t*math.log(N0)/math.log(0.5)\n",
      "\n",
      "#Result\n",
      "print\"(i) Years will reduce to 1 centigram is\",round(T,1),\"years\"\n",
      "print\"(ii) Years will lose 1 mg is\",round(T1,2),\"years\""
     ],
     "language": "python",
     "metadata": {},
     "outputs": [
      {
       "output_type": "stream",
       "stream": "stdout",
       "text": [
        "(i) Years will reduce to 1 centigram is 9965.8 years\n",
        "(ii) Years will lose 1 mg is 2.17 years\n"
       ]
      }
     ],
     "prompt_number": 61
    },
    {
     "cell_type": "heading",
     "level": 2,
     "metadata": {},
     "source": [
      "Example 25.16 page no 1331"
     ]
    },
    {
     "cell_type": "code",
     "collapsed": false,
     "input": [
      "#Given\n",
      "a=2*10**12\n",
      "b=9.0*10**12\n",
      "T=80\n",
      "\n",
      "#Calculation\n",
      "import math\n",
      "c=math.log(a/b)\n",
      "t=-(c*T)/0.693\n",
      "\n",
      "#Result\n",
      "print\"Time required is\",round(t,0),\"second\""
     ],
     "language": "python",
     "metadata": {},
     "outputs": [
      {
       "output_type": "stream",
       "stream": "stdout",
       "text": [
        "Time required is 174.0 second\n"
       ]
      }
     ],
     "prompt_number": 66
    },
    {
     "cell_type": "heading",
     "level": 2,
     "metadata": {},
     "source": [
      "Example 25.17 page no 1332"
     ]
    },
    {
     "cell_type": "code",
     "collapsed": false,
     "input": [
      "#Given\n",
      "T=6.0\n",
      "A=6.023*10**23\n",
      "W=99.0\n",
      "\n",
      "#Calculation\n",
      "import math\n",
      "l=0.693/T\n",
      "N0=A*10**-12/W\n",
      "A0=l*N0\n",
      "N=N0*(1/math.log10(l))\n",
      "A1=-(l*N)\n",
      "\n",
      "\n",
      "#Result\n",
      "print\" Activity in the beginning and after one hour\",round(A1*10**-8,3),\"/h\""
     ],
     "language": "python",
     "metadata": {},
     "outputs": [
      {
       "output_type": "stream",
       "stream": "stdout",
       "text": [
        " Activity in the beginning and after one hour 7.496 /h\n"
       ]
      }
     ],
     "prompt_number": 80
    },
    {
     "cell_type": "heading",
     "level": 2,
     "metadata": {},
     "source": [
      "Example 25.18 page no 1332"
     ]
    },
    {
     "cell_type": "code",
     "collapsed": false,
     "input": [
      "#Given\n",
      "T=30.0\n",
      "\n",
      "#Calculation\n",
      "import math\n",
      "l=0.693/T\n",
      "T1=1/l\n",
      "t=math.log(4)/l\n",
      "t1=math.log(8)/l\n",
      "\n",
      "#Result\n",
      "print\"(i) average life is\",round(l,4),\"/day\"\n",
      "print\"(ii) The time taken for 3/4 of the original no. to disintegrate is\",round(T1,2),\"days\"\n",
      "print\"(iii) Time taken is\",round(t,0),\"days\"\n",
      "print\"(iv) Time taken is\",round(t1,0),\"days\""
     ],
     "language": "python",
     "metadata": {},
     "outputs": [
      {
       "output_type": "stream",
       "stream": "stdout",
       "text": [
        "(i) average life is 0.0231 /day\n",
        "(ii) The time taken for 3/4 of the original no. to disintegrate is 43.29 days\n",
        "(iii) Time taken is 60.0 days\n",
        "(iv) Time taken is 90.0 days\n"
       ]
      }
     ],
     "prompt_number": 93
    },
    {
     "cell_type": "heading",
     "level": 2,
     "metadata": {},
     "source": [
      "Example 25.19 page no 1332"
     ]
    },
    {
     "cell_type": "code",
     "collapsed": false,
     "input": [
      "#Given\n",
      "l=1620.0\n",
      "l1=405.0\n",
      "\n",
      "#Calculation\n",
      "import math\n",
      "T=(1/l)+(1/l1)\n",
      "t=math.log(4)/T\n",
      "\n",
      "#Result\n",
      "print\"The time during which three-fourths of a sample will decay is\",round(t,0),\"years\""
     ],
     "language": "python",
     "metadata": {},
     "outputs": [
      {
       "output_type": "stream",
       "stream": "stdout",
       "text": [
        "The time during which three-fourths of a sample will decay is 449.0 years\n"
       ]
      }
     ],
     "prompt_number": 99
    },
    {
     "cell_type": "heading",
     "level": 2,
     "metadata": {},
     "source": [
      "Example 25.20 page no 1333"
     ]
    },
    {
     "cell_type": "code",
     "collapsed": false,
     "input": [
      "#Given\n",
      "C=3.7*10**10                   #disintegrations/s\n",
      "A=6.02*10**23\n",
      "B=234\n",
      "\n",
      "#Calculation\n",
      "D=(C*B)/A\n",
      "\n",
      "#Result \n",
      "print\"Mass ofuranium atoms disintegrated per second is\",round(D*10**11,3)*10**-11,\"g\""
     ],
     "language": "python",
     "metadata": {},
     "outputs": [
      {
       "output_type": "stream",
       "stream": "stdout",
       "text": [
        "Mass ofuranium atoms disintegrated per second is 1.438e-11 g\n"
       ]
      }
     ],
     "prompt_number": 105
    },
    {
     "cell_type": "heading",
     "level": 2,
     "metadata": {},
     "source": [
      "Example 25.21 page no 1333"
     ]
    },
    {
     "cell_type": "code",
     "collapsed": false,
     "input": [
      "#Given\n",
      "M=0.075              #kg /mol\n",
      "m=1.2*10**-6         #kg\n",
      "A=6.0*10**23         #/mol\n",
      "t=9.6*10**18\n",
      "N=170\n",
      "\n",
      "#Calculation\n",
      "n=(A*m)/M\n",
      "l=N/t\n",
      "T=0.693/l\n",
      "\n",
      "#Result\n",
      "print\"Number of K-40 atoms in the sample is\", n\n",
      "print\"Half life of K-40 is\", round(T/(24.0*3600.0*365)*10**-9,3),\"*10**9 years\""
     ],
     "language": "python",
     "metadata": {},
     "outputs": [
      {
       "output_type": "stream",
       "stream": "stdout",
       "text": [
        "Number of K-40 atoms in the sample is 9.6e+18\n",
        "Half life of K-40 is 1.241 *10**9 years\n"
       ]
      }
     ],
     "prompt_number": 122
    },
    {
     "cell_type": "heading",
     "level": 2,
     "metadata": {},
     "source": [
      "Example 25.22 Page no 1337"
     ]
    },
    {
     "cell_type": "code",
     "collapsed": false,
     "input": [
      "#Given\n",
      "mp=232.03714\n",
      "mn=228.02873\n",
      "m0=4.002603\n",
      "a=931.5\n",
      "A=232.0\n",
      "e=1.6*10**-19\n",
      "m=1.66*10**-27\n",
      "\n",
      "#Calculation\n",
      "M=mp-mn-m0\n",
      "Q=M*a\n",
      "K=(A-4)*Q/A\n",
      "S=math.sqrt((2*K*e)/(4.0*m))\n",
      "\n",
      "#Result\n",
      "print\"(i) Kinetic energy is\", round(K,1),\"Mev\"\n",
      "print\"(ii) Speed of particle is\", round(S*10**-4,1),\"*10**7 m/s\""
     ],
     "language": "python",
     "metadata": {},
     "outputs": [
      {
       "output_type": "stream",
       "stream": "stdout",
       "text": [
        "(i) Kinetic energy is 5.3 Mev\n",
        "(ii) Speed of particle is 1.6 *10**7 m/s\n"
       ]
      }
     ],
     "prompt_number": 139
    },
    {
     "cell_type": "heading",
     "level": 2,
     "metadata": {},
     "source": [
      "Example 25.23 Page no 1337"
     ]
    },
    {
     "cell_type": "code",
     "collapsed": false,
     "input": [
      "#Given\n",
      "b=238\n",
      "c=206\n",
      "d=92\n",
      "e=82\n",
      "\n",
      "#Calculation\n",
      "a=(b-c)/4.0\n",
      "A=-d+(2*a)+e\n",
      "\n",
      "#Result\n",
      "print\"(i) The emission of alpha particle will reduce the mass number by 4a  and charge number by 2a\"\n",
      "print\"(ii) Number of alpha particle is\", a\n",
      "print\"Number of beta particle is\",A"
     ],
     "language": "python",
     "metadata": {},
     "outputs": [
      {
       "output_type": "stream",
       "stream": "stdout",
       "text": [
        "(i) The emission of alpha particle will reduce the mass number by 4a  and charge number by 2a\n",
        "(ii) Number of alpha particle is 8.0\n",
        "Number of beta particle is 6.0\n"
       ]
      }
     ],
     "prompt_number": 145
    },
    {
     "cell_type": "heading",
     "level": 2,
     "metadata": {},
     "source": [
      "Example 25.24 Page no 1338"
     ]
    },
    {
     "cell_type": "code",
     "collapsed": false,
     "input": [
      "#Given\n",
      "a=218\n",
      "b=84\n",
      "\n",
      "#Calculation\n",
      "A=a-4\n",
      "Z=b-2\n",
      "\n",
      "#Result\n",
      "print\"Atomic number of new element formed is\", A\n",
      "print\"Mass number of new element formed is\",Z"
     ],
     "language": "python",
     "metadata": {},
     "outputs": [
      {
       "output_type": "stream",
       "stream": "stdout",
       "text": [
        "Atomic number of new element formed is 214\n",
        "Mass number of new element formed is 82\n"
       ]
      }
     ],
     "prompt_number": 148
    },
    {
     "cell_type": "heading",
     "level": 2,
     "metadata": {},
     "source": [
      "Example 25.27 Page no 1340"
     ]
    },
    {
     "cell_type": "code",
     "collapsed": false,
     "input": [
      "#Given\n",
      "mp=10.016125\n",
      "mn=4.003874\n",
      "mp1=13.007490\n",
      "mn1=1.008146\n",
      "a=931.5\n",
      "\n",
      "#Calculation\n",
      "Mr=mp+mn\n",
      "Mp=mp1+mn1\n",
      "Md=Mr-Mp\n",
      "A=a*Md\n",
      "\n",
      "#Result\n",
      "print\"Energy released in the reaction is\",round(A,3),\"Mev\""
     ],
     "language": "python",
     "metadata": {},
     "outputs": [
      {
       "output_type": "stream",
       "stream": "stdout",
       "text": [
        "Energy released in the reaction is 4.064 Mev\n"
       ]
      }
     ],
     "prompt_number": 154
    },
    {
     "cell_type": "heading",
     "level": 2,
     "metadata": {},
     "source": [
      "Example 25.28 Page no 1345"
     ]
    },
    {
     "cell_type": "code",
     "collapsed": false,
     "input": [
      "#Given\n",
      "a=10**6                     #J/s\n",
      "E=200*10**6*1.6*10**-19\n",
      "\n",
      "#Calculation\n",
      "N=a/E\n",
      "\n",
      "#Result\n",
      "print\"Number of fission per second is\", round(N*10**-16,2)*10**16"
     ],
     "language": "python",
     "metadata": {},
     "outputs": [
      {
       "output_type": "stream",
       "stream": "stdout",
       "text": [
        "Number of fission per second is 3.13e+16\n"
       ]
      }
     ],
     "prompt_number": 159
    },
    {
     "cell_type": "heading",
     "level": 2,
     "metadata": {},
     "source": [
      "Example 25.29 Page no 1345"
     ]
    },
    {
     "cell_type": "code",
     "collapsed": false,
     "input": [
      "#Given\n",
      "P=3*10**8                   #W\n",
      "E=200*10**6*1.6*10**-19\n",
      "a=235\n",
      "m=6.023*10**23\n",
      "\n",
      "#Calculation\n",
      "E1=P*3600\n",
      "N=E1/E\n",
      "M1=(a*N)/m\n",
      "\n",
      "#Result\n",
      "print\"Mass of uranium fissioned per hour is\", round(M1,2),\"g\""
     ],
     "language": "python",
     "metadata": {},
     "outputs": [
      {
       "output_type": "stream",
       "stream": "stdout",
       "text": [
        "Mass of uranium fissioned per hour is 13.17 g\n"
       ]
      }
     ],
     "prompt_number": 166
    },
    {
     "cell_type": "heading",
     "level": 2,
     "metadata": {},
     "source": [
      "Example 25.30 Page no 1345"
     ]
    },
    {
     "cell_type": "code",
     "collapsed": false,
     "input": [
      "#Given\n",
      "m=6.023*10**26\n",
      "a=235.0\n",
      "t=30                          #Days\n",
      "E=200*10**6*1.6*10**-19\n",
      "\n",
      "#Calculation\n",
      "N=(2/a)*m\n",
      "A=N/(t*24*60.0*60.0)\n",
      "P=E*A\n",
      "\n",
      "#Result\n",
      "print\"Power output is\", round(P*10**-6,1),\"Mev\""
     ],
     "language": "python",
     "metadata": {},
     "outputs": [
      {
       "output_type": "stream",
       "stream": "stdout",
       "text": [
        "Power output is 63.3 Mev\n"
       ]
      }
     ],
     "prompt_number": 173
    },
    {
     "cell_type": "heading",
     "level": 2,
     "metadata": {},
     "source": [
      "Example 25.31 Page no 1348"
     ]
    },
    {
     "cell_type": "code",
     "collapsed": false,
     "input": [
      "#Given\n",
      "m=1.0076\n",
      "mp=4.0039\n",
      "a=931.5*10**6                       #ev\n",
      "\n",
      "#Calculation\n",
      "Mr=4*m\n",
      "Md=Mr-mp\n",
      "E=Md*a*1.6*10**-19\n",
      "\n",
      "#Result\n",
      "print\"Energy released is\", round(E*10**13,2)*10**-13,\"J\""
     ],
     "language": "python",
     "metadata": {},
     "outputs": [
      {
       "output_type": "stream",
       "stream": "stdout",
       "text": [
        "Energy released is 3.95e-12 J\n"
       ]
      }
     ],
     "prompt_number": 181
    },
    {
     "cell_type": "heading",
     "level": 2,
     "metadata": {},
     "source": [
      "Example 25.32 Page no 1349"
     ]
    },
    {
     "cell_type": "code",
     "collapsed": false,
     "input": [
      "#Given\n",
      "a=6*10**-3                        #Kg\n",
      "c=3*10**8\n",
      "\n",
      "#Calculation\n",
      "E=a*c**2\n",
      "\n",
      "#Result\n",
      "print\"Energy liberated is\", E,\"J\""
     ],
     "language": "python",
     "metadata": {},
     "outputs": [
      {
       "output_type": "stream",
       "stream": "stdout",
       "text": [
        "Energy liberated is 5.4e+14 J\n"
       ]
      }
     ],
     "prompt_number": 184
    }
   ],
   "metadata": {}
  }
 ]
}