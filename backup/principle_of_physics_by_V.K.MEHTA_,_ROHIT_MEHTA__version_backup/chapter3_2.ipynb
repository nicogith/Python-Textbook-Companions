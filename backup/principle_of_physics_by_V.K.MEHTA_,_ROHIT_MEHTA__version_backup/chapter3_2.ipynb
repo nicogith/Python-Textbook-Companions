{
 "metadata": {
  "name": "",
  "signature": "sha256:b7451f8a5d88007ceae262e7f31a9c2ef46acd4d68ca53e0c7b4ce898e623cd8"
 },
 "nbformat": 3,
 "nbformat_minor": 0,
 "worksheets": [
  {
   "cells": [
    {
     "cell_type": "heading",
     "level": 1,
     "metadata": {},
     "source": [
      "Chapter 3 Electrostatic potential and flux"
     ]
    },
    {
     "cell_type": "heading",
     "level": 2,
     "metadata": {},
     "source": [
      "Example 3.1 Page no 89"
     ]
    },
    {
     "cell_type": "code",
     "collapsed": false,
     "input": [
      "#Given\n",
      "q=300*10**-6                   #c\n",
      "V=6\n",
      "\n",
      "#Calculation\n",
      "W=q*V\n",
      "\n",
      "#Result\n",
      "print\"Work done is \", W*10**3,\"*10**-3 J\""
     ],
     "language": "python",
     "metadata": {},
     "outputs": [
      {
       "output_type": "stream",
       "stream": "stdout",
       "text": [
        "Work done is  1.8 *10**-3 J\n"
       ]
      }
     ],
     "prompt_number": 5
    },
    {
     "cell_type": "heading",
     "level": 2,
     "metadata": {},
     "source": [
      "Example 3.2 Page no 89"
     ]
    },
    {
     "cell_type": "code",
     "collapsed": false,
     "input": [
      "#given           \n",
      "Va=-10              #V\n",
      "W=300                #J\n",
      "q=3.0                  #C\n",
      "\n",
      "#Calculation\n",
      "V=(W/q)+Va\n",
      "\n",
      "#Result\n",
      "print\"The value of V is \", V,\"Volts\""
     ],
     "language": "python",
     "metadata": {},
     "outputs": [
      {
       "output_type": "stream",
       "stream": "stdout",
       "text": [
        "The value of V is  90.0 Volts\n"
       ]
      }
     ],
     "prompt_number": 9
    },
    {
     "cell_type": "heading",
     "level": 2,
     "metadata": {},
     "source": [
      "Example 3.3 Page no 89"
     ]
    },
    {
     "cell_type": "code",
     "collapsed": false,
     "input": [
      "#Given\n",
      "m=9*10**9\n",
      "q=16*10**-10                #C\n",
      "r=0.1\n",
      "r1=0.06\n",
      "q1=12*10**-10\n",
      "\n",
      "#Calculation\n",
      "Vb=m*q/r\n",
      "Vb1=m*q/r1\n",
      "V=Vb1-Vb\n",
      "W=q1*V\n",
      "\n",
      "#Result\n",
      "print\"Workdone is \", W*10**8,\"*10**-8 J\""
     ],
     "language": "python",
     "metadata": {},
     "outputs": [
      {
       "output_type": "stream",
       "stream": "stdout",
       "text": [
        "Workdone is  11.52 *10**-8 J\n"
       ]
      }
     ],
     "prompt_number": 17
    },
    {
     "cell_type": "heading",
     "level": 2,
     "metadata": {},
     "source": [
      "Example 3.4 Page no 89"
     ]
    },
    {
     "cell_type": "code",
     "collapsed": false,
     "input": [
      "#Given\n",
      "r=3.4*10**-14                  #m\n",
      "n=47\n",
      "q=1.6*10**-19              #C\n",
      "m=9*10**9\n",
      "\n",
      "#Calculation\n",
      "V=m*n*q/r\n",
      "\n",
      "#Result\n",
      "print\"Electric potential at the surface of silver nucleus is \", round(V*10**-6,2),\"*10**6 V\""
     ],
     "language": "python",
     "metadata": {},
     "outputs": [
      {
       "output_type": "stream",
       "stream": "stdout",
       "text": [
        "Electric potential at the surface of silver nucleus is  1.99 *10**6 V\n"
       ]
      }
     ],
     "prompt_number": 22
    },
    {
     "cell_type": "heading",
     "level": 2,
     "metadata": {},
     "source": [
      "Example 3.5 Page no 90"
     ]
    },
    {
     "cell_type": "code",
     "collapsed": false,
     "input": [
      "#Given\n",
      "m=9*10**9\n",
      "q=4*10**-6\n",
      "\n",
      "#Calculation\n",
      "V=2*q*m\n",
      "\n",
      "#Result\n",
      "print\"Electric potential is \", V*10**-3,\"*10**3 V\""
     ],
     "language": "python",
     "metadata": {},
     "outputs": [
      {
       "output_type": "stream",
       "stream": "stdout",
       "text": [
        "Electric potential is  72.0 *10**3 V\n"
       ]
      }
     ],
     "prompt_number": 26
    },
    {
     "cell_type": "heading",
     "level": 2,
     "metadata": {},
     "source": [
      "Example 3.9 Page no 91"
     ]
    },
    {
     "cell_type": "code",
     "collapsed": false,
     "input": [
      "#Given\n",
      "m=9*10**9\n",
      "q=250*10**-6\n",
      "r=0.1\n",
      "\n",
      "#Calculation\n",
      "V=m*q/r\n",
      "\n",
      "#Result\n",
      "print\"Electric potential at the centre is \", V*10**-7,\"*10**7 V\""
     ],
     "language": "python",
     "metadata": {},
     "outputs": [
      {
       "output_type": "stream",
       "stream": "stdout",
       "text": [
        "Electric potential at the centre is  2.25 *10**7 V\n"
       ]
      }
     ],
     "prompt_number": 30
    },
    {
     "cell_type": "heading",
     "level": 2,
     "metadata": {},
     "source": [
      "Example 3.10 Page no 96"
     ]
    },
    {
     "cell_type": "code",
     "collapsed": false,
     "input": [
      "#Given\n",
      "m=3*10**-16\n",
      "g=9.8\n",
      "d=5*10**-3\n",
      "q=16.0*10**-18\n",
      "\n",
      "#Calculation\n",
      "V=(m*g*d/q)*10\n",
      "\n",
      "#Result\n",
      "print\"Voltage needed to balance an oil drop is \",round(V,2),\"V\""
     ],
     "language": "python",
     "metadata": {},
     "outputs": [
      {
       "output_type": "stream",
       "stream": "stdout",
       "text": [
        "Voltage needed to balance an oil drop is  9.19 V\n"
       ]
      }
     ],
     "prompt_number": 38
    },
    {
     "cell_type": "heading",
     "level": 2,
     "metadata": {},
     "source": [
      "Example 3.12 Page no 96"
     ]
    },
    {
     "cell_type": "code",
     "collapsed": false,
     "input": [
      "#Given\n",
      "q=1.6*10**-19                  #C\n",
      "V=3000                         #V\n",
      "r=5*10**-2                     #m\n",
      "g=9.8\n",
      "\n",
      "#Calculation\n",
      "E=V/r\n",
      "m=q*E/g\n",
      "\n",
      "#Result\n",
      "print\"The mass of the particle is \", round(m*10**16,1),\"*10**-16 Kg\""
     ],
     "language": "python",
     "metadata": {},
     "outputs": [
      {
       "output_type": "stream",
       "stream": "stdout",
       "text": [
        "The mass of the particle is  9.8 *10**-16 Kg\n"
       ]
      }
     ],
     "prompt_number": 44
    },
    {
     "cell_type": "heading",
     "level": 2,
     "metadata": {},
     "source": [
      "Example 3.13 Page no 100"
     ]
    },
    {
     "cell_type": "code",
     "collapsed": false,
     "input": [
      "#Given\n",
      "m=9*10**-9\n",
      "q1=3*10**-9\n",
      "q2=3*10**-9\n",
      "q3=10**9\n",
      "r=0.2\n",
      "\n",
      "#Calculation\n",
      "W=m*((q1*q3/r)+(q2*q3/r))\n",
      "\n",
      "#Result\n",
      "print\"Workdone is \", W,\"J\""
     ],
     "language": "python",
     "metadata": {},
     "outputs": [
      {
       "output_type": "stream",
       "stream": "stdout",
       "text": [
        "Workdone is  2.7e-07 J\n"
       ]
      }
     ],
     "prompt_number": 48
    },
    {
     "cell_type": "heading",
     "level": 2,
     "metadata": {},
     "source": [
      "Example 3.14 Page no 100"
     ]
    },
    {
     "cell_type": "code",
     "collapsed": false,
     "input": [
      "#Given\n",
      "m=9*10**9\n",
      "q=1.6*10**-19\n",
      "r=10**-10\n",
      "\n",
      "#Calculation\n",
      "U=m*q**2/r\n",
      "K=U/2.0\n",
      "\n",
      "#Result\n",
      "print\"Kinetic energy is \",K,\"J\""
     ],
     "language": "python",
     "metadata": {},
     "outputs": [
      {
       "output_type": "stream",
       "stream": "stdout",
       "text": [
        "Kinetic energy is  1.152e-18 J\n"
       ]
      }
     ],
     "prompt_number": 53
    },
    {
     "cell_type": "heading",
     "level": 2,
     "metadata": {},
     "source": [
      "Example 3.15 Page no 100"
     ]
    },
    {
     "cell_type": "code",
     "collapsed": false,
     "input": [
      "#Given\n",
      "m=9*10**-31\n",
      "V=10**6\n",
      "q=1.6*10**-19\n",
      "a=9*10**9\n",
      "\n",
      "#Calculation\n",
      "K=m*V**2\n",
      "r=a*q**2/K\n",
      "\n",
      "#Result\n",
      "print\"Distance of the closest approach is \", r,\"m\""
     ],
     "language": "python",
     "metadata": {},
     "outputs": [
      {
       "output_type": "stream",
       "stream": "stdout",
       "text": [
        "Distance of the closest approach is  2.56e-10 m\n"
       ]
      }
     ],
     "prompt_number": 57
    },
    {
     "cell_type": "heading",
     "level": 2,
     "metadata": {},
     "source": [
      "Example 3.17 Page no 101"
     ]
    },
    {
     "cell_type": "code",
     "collapsed": false,
     "input": [
      "#Given\n",
      "r=0.53*10**-10                   #m\n",
      "q1=1.6*10**-19                   #C\n",
      "q2=-1.6*10**-19                  #C\n",
      "a=9*10**9\n",
      "r1=1.06*10**-10\n",
      "\n",
      "#Calculation\n",
      "U=a*q1*q2/r\n",
      "Ue=U/q1\n",
      "K=-Ue/2.0\n",
      "E=Ue+K\n",
      "U1=(a*q1*q2/r1)/q1\n",
      "\n",
      "#Result\n",
      "print\"(i) Potential energy of the system is \", round(Ue,1),\"eV\"\n",
      "print\"(ii) Minimum amount of work required to free the elctrons ia \",round(E,1),\"ev\"\n",
      "print\"(iii) Potential energyof the system is \",round(E,1) ,\"ev and work requiredto free the electrons is \",round(-E,1),\"eV\""
     ],
     "language": "python",
     "metadata": {},
     "outputs": [
      {
       "output_type": "stream",
       "stream": "stdout",
       "text": [
        "(i) Potential energy of the system is  -27.2 eV\n",
        "(ii) Minimum amount of work required to free the elctrons ia  -13.6 ev\n",
        "(iii) Potential energyof the system is  -13.6 ev and work requiredto free the electrons is  13.6 eV\n"
       ]
      }
     ],
     "prompt_number": 75
    },
    {
     "cell_type": "heading",
     "level": 2,
     "metadata": {},
     "source": [
      "Example 3.18 Page no 102"
     ]
    },
    {
     "cell_type": "code",
     "collapsed": false,
     "input": [
      "#Given\n",
      "a=9*10**9\n",
      "q1=7*10**-6                          #C\n",
      "q2=-2*10**-6\n",
      "r=0.18\n",
      "r1=0.09\n",
      "A=9*10**5\n",
      "\n",
      "#Calculation\n",
      "U=a*q1*q2/r\n",
      "W=0-U\n",
      "U1=(q1*A/r1)+(q2*A/r1)+U\n",
      "\n",
      "#Result\n",
      "print\"(a) Electrostatic potential energy is \", round(U,1),\"J\"\n",
      "print\"(b) Work required to seperate two charges is \",round(W,1),\"J\"\n",
      "print\"(c) Electrostatic energy is \", U1,\"J\""
     ],
     "language": "python",
     "metadata": {},
     "outputs": [
      {
       "output_type": "stream",
       "stream": "stdout",
       "text": [
        "(a) Electrostatic potential energy is  -0.7 J\n",
        "(b) Work required to seperate two charges is  0.7 J\n",
        "(c) Electrostatic energy is  49.3 J\n"
       ]
      }
     ],
     "prompt_number": 93
    },
    {
     "cell_type": "heading",
     "level": 2,
     "metadata": {},
     "source": [
      "Example 3.20 Page no 103"
     ]
    },
    {
     "cell_type": "code",
     "collapsed": false,
     "input": [
      "#Given\n",
      "p=6*10**-6\n",
      "E=10**6\n",
      "a=1\n",
      "\n",
      "#Calculation,\n",
      "U1=-p*E*a\n",
      "U2=(p*E*(math.cos(60)*180/3.14))*10**-2\n",
      "U3=U2-U1\n",
      "\n",
      "#Result\n",
      "print\"Heat released by substance is \", round(U3,0),\"J\""
     ],
     "language": "python",
     "metadata": {},
     "outputs": [
      {
       "output_type": "stream",
       "stream": "stdout",
       "text": [
        "Heat released by substance is  3.0 J\n"
       ]
      }
     ],
     "prompt_number": 103
    },
    {
     "cell_type": "heading",
     "level": 2,
     "metadata": {},
     "source": [
      "Example 3.21 Page no 109"
     ]
    },
    {
     "cell_type": "code",
     "collapsed": false,
     "input": [
      "#Given\n",
      "q=10**-7\n",
      "e=8.854*10**-12\n",
      "\n",
      "#Calculation\n",
      "a=q/e\n",
      "\n",
      "#Result\n",
      "print\"Electric flux through the surface of the cube is \", round(a*10**-4,2),\"Nm**2C-1\""
     ],
     "language": "python",
     "metadata": {},
     "outputs": [
      {
       "output_type": "stream",
       "stream": "stdout",
       "text": [
        "Electric flux through the surface of the cube is  1.13 Nm**2C-1\n"
       ]
      }
     ],
     "prompt_number": 108
    },
    {
     "cell_type": "heading",
     "level": 2,
     "metadata": {},
     "source": [
      "Example 3.22 Page no 109"
     ]
    },
    {
     "cell_type": "code",
     "collapsed": false,
     "input": [
      "#Given\n",
      "q=8.85*10**-6 \n",
      "e=8.85*10**-12\n",
      "\n",
      "#Calculation\n",
      "a=q/e\n",
      "b=a/6.0\n",
      "\n",
      "#Result\n",
      "print\"Electric flux through each face is \", round(b*10**-5,2),\"Nm**2C-1\""
     ],
     "language": "python",
     "metadata": {},
     "outputs": [
      {
       "output_type": "stream",
       "stream": "stdout",
       "text": [
        "Electric flux through each face is  1.67 Nm**2C-1\n"
       ]
      }
     ],
     "prompt_number": 115
    },
    {
     "cell_type": "heading",
     "level": 2,
     "metadata": {},
     "source": [
      "Example 3.23 Page no 109"
     ]
    },
    {
     "cell_type": "code",
     "collapsed": false,
     "input": [
      "#Given\n",
      "E0=2*10**3                    #N/C\n",
      "S=0.2\n",
      "\n",
      "#Calculation\n",
      "a=(3/5.0)*E0*S\n",
      "\n",
      "#Result\n",
      "print\"Electric flux of the field is \", a,\"Nm**2C-1\""
     ],
     "language": "python",
     "metadata": {},
     "outputs": [
      {
       "output_type": "stream",
       "stream": "stdout",
       "text": [
        "Electric flux of the field is  240.0 Nm**2C-1\n"
       ]
      }
     ],
     "prompt_number": 118
    },
    {
     "cell_type": "heading",
     "level": 2,
     "metadata": {},
     "source": [
      "Example 3.24 Page no 109"
     ]
    },
    {
     "cell_type": "code",
     "collapsed": false,
     "input": [
      "#Given\n",
      "r=0.2\n",
      "m=9*10**9\n",
      "b=50\n",
      "\n",
      "import math\n",
      "E=250*r\n",
      "a=E*4*math.pi*r**2\n",
      "q=b*r**2/m\n",
      "\n",
      "#Result\n",
      "print\"Charge contained in a sphere is \", round(q*10**10,2)*10**-10,\"C\""
     ],
     "language": "python",
     "metadata": {},
     "outputs": [
      {
       "output_type": "stream",
       "stream": "stdout",
       "text": [
        "Charge contained in a sphere is  2.22e-10 C\n"
       ]
      }
     ],
     "prompt_number": 128
    },
    {
     "cell_type": "heading",
     "level": 2,
     "metadata": {},
     "source": [
      "Example 3.25 Page no 110"
     ]
    },
    {
     "cell_type": "code",
     "collapsed": false,
     "input": [
      "#Given\n",
      "a=0.1                 #m\n",
      "A=800\n",
      "e=8.854*10**-12\n",
      "\n",
      "#Calculation\n",
      "b=A*a**2.5*(math.sqrt(2)-1)\n",
      "q=e*b\n",
      "\n",
      "#Result\n",
      "print\"(a) The flux through the cube is \", round(b,2),\"Nm**2C-1\"\n",
      "print\"The charge within the cube is \",round(q*10**12,2)*10**-12,\"C\""
     ],
     "language": "python",
     "metadata": {},
     "outputs": [
      {
       "output_type": "stream",
       "stream": "stdout",
       "text": [
        "(a) The flux through the cube is  1.05 Nm**2C-1\n",
        "The charge within the cube is  9.28e-12 C\n"
       ]
      }
     ],
     "prompt_number": 139
    },
    {
     "cell_type": "heading",
     "level": 2,
     "metadata": {},
     "source": [
      "Example 3.26 Page no 111"
     ]
    },
    {
     "cell_type": "code",
     "collapsed": false,
     "input": [
      "#Given\n",
      "E=200\n",
      "a=0.05\n",
      "e=8.854*10**-12\n",
      "d=3.14\n",
      "\n",
      "#Calculation\n",
      "import math\n",
      "b=E*math.pi*a**2\n",
      "c=2*b\n",
      "q=e*d\n",
      "\n",
      "#Result\n",
      "print\"(a) Net outward flux through each flat face is \", round(b,2),\"Nm**2C-1\"\n",
      "print\"(b) Flux through the side of cylinder is zero \"\n",
      "print\"(c) Net outward flux through the cylinder is \", round(c,2),\"Nm**2C-1\"\n",
      "print\"(d) The net charge in the cylinder is \",round(q*10**11,2)*10**-11,\"C\""
     ],
     "language": "python",
     "metadata": {},
     "outputs": [
      {
       "output_type": "stream",
       "stream": "stdout",
       "text": [
        "(a) Net outward flux through each flat face is  1.57 Nm**2C-1\n",
        "(b) Flux through the side of cylinder is zero \n",
        "(c) Net outward flux through the cylinder is  3.14 Nm**2C-1\n",
        "(d) The net charge in the cylinder is  2.78e-11 C\n"
       ]
      }
     ],
     "prompt_number": 156
    },
    {
     "cell_type": "heading",
     "level": 2,
     "metadata": {},
     "source": [
      "Example 3.28 Page no 114"
     ]
    },
    {
     "cell_type": "code",
     "collapsed": false,
     "input": [
      "#Given\n",
      "q=5.8*10**-6               #C\n",
      "r=8*10**-2                 #m\n",
      "e=8.854*10**-12\n",
      "l=3.0\n",
      "\n",
      "#Calculation\n",
      "import math\n",
      "E=q/(2*math.pi*e*r*l)\n",
      "\n",
      "#Result\n",
      "print\"Electric field is \", round(E*10**-5,1),\"*10**5 N/C\""
     ],
     "language": "python",
     "metadata": {},
     "outputs": [
      {
       "output_type": "stream",
       "stream": "stdout",
       "text": [
        "Electric field is  4.3 *10**5 N/C\n"
       ]
      }
     ],
     "prompt_number": 7
    },
    {
     "cell_type": "heading",
     "level": 2,
     "metadata": {},
     "source": [
      "Example 3.29 Page no 114"
     ]
    },
    {
     "cell_type": "code",
     "collapsed": false,
     "input": [
      "#Given\n",
      "E=9*10**4                   #N/C\n",
      "r=2*10**-2                  #m\n",
      "m=9*10**9\n",
      "\n",
      "#Calculation\n",
      "a=r*E/(2.0*m)\n",
      "print\"Linear charge density is \", a,\"Cm-1\""
     ],
     "language": "python",
     "metadata": {},
     "outputs": [
      {
       "output_type": "stream",
       "stream": "stdout",
       "text": [
        "Linear charge density is  1e-07 Cm-1\n"
       ]
      }
     ],
     "prompt_number": 10
    },
    {
     "cell_type": "heading",
     "level": 2,
     "metadata": {},
     "source": [
      "Example 3.30 Page no 115"
     ]
    },
    {
     "cell_type": "code",
     "collapsed": false,
     "input": [
      "#Given\n",
      "q=10*10**-6                   #C\n",
      "r=0.1                         #m\n",
      "a=8.85*10**-12\n",
      "\n",
      "#Calculation\n",
      "import math\n",
      "E=q/(4.0*math.pi*a*r**2)\n",
      "\n",
      "#Result\n",
      "print\"(i) Electric field intensity at a point 10 cm from the centre\", round(E*10**-6,0),\"*10**6 N/C\"\n",
      "print\"(ii) Since the point is lying inside the shell, electric intensity at this point is zero\""
     ],
     "language": "python",
     "metadata": {},
     "outputs": [
      {
       "output_type": "stream",
       "stream": "stdout",
       "text": [
        "(i) Electric field intensity at a point 10 cm from the centre 9.0 *10**6 N/C\n",
        "(ii) Since the point is lying inside the shell, electric intensity at this point is zero\n"
       ]
      }
     ],
     "prompt_number": 17
    },
    {
     "cell_type": "heading",
     "level": 2,
     "metadata": {},
     "source": [
      "Example 3.31 Page no 118"
     ]
    },
    {
     "cell_type": "code",
     "collapsed": false,
     "input": [
      "#Given\n",
      "Z=79\n",
      "e=1.6*10**-19\n",
      "e0=8.854*10**-12\n",
      "R=6.2*10**-15\n",
      "\n",
      "#Calculation\n",
      "import math\n",
      "q=Z*e\n",
      "E=q/(4.0*math.pi*e0*R**2)\n",
      "b=E/4.0\n",
      "\n",
      "#Result\n",
      "print\"(i) The magnitude of the electric field at the surface of nucleus is \", round(E*10**-21,0)*10**21,\"N/C\"\n",
      "print\"(ii) The magnitude of the electric field at a distance 2R from the centre of the nucleus is \",round(b*10**-21,2),\"*10**21 N/C\""
     ],
     "language": "python",
     "metadata": {},
     "outputs": [
      {
       "output_type": "stream",
       "stream": "stdout",
       "text": [
        "(i) The magnitude of the electric field at the surface of nucleus is  3e+21 N/C\n",
        "(ii) The magnitude of the electric field at a distance 2R from the centre of the nucleus is  0.74 *10**21 N/C\n"
       ]
      }
     ],
     "prompt_number": 31
    },
    {
     "cell_type": "heading",
     "level": 2,
     "metadata": {},
     "source": [
      "Example 3.32 Page no 119"
     ]
    },
    {
     "cell_type": "code",
     "collapsed": false,
     "input": [
      "#Given\n",
      "e=8.854*10**-12\n",
      "A=0.5\n",
      "F=1.8*10**-12                   #N\n",
      "E=1.6*10**-19\n",
      "\n",
      "#Calculation\n",
      "q=(2*e*A**2*F)/E\n",
      "\n",
      "#Result\n",
      "print\"Total charge on the sheet is \", round(q*10**6,0),\"micro C\""
     ],
     "language": "python",
     "metadata": {},
     "outputs": [
      {
       "output_type": "stream",
       "stream": "stdout",
       "text": [
        "Total charge on the sheet is  50.0 micro C\n"
       ]
      }
     ],
     "prompt_number": 43
    },
    {
     "cell_type": "heading",
     "level": 2,
     "metadata": {},
     "source": [
      "Example 3.33 Page no 119"
     ]
    },
    {
     "cell_type": "code",
     "collapsed": false,
     "input": [
      "#Given\n",
      "a=5*10**-6\n",
      "e=8.854*10**-12\n",
      "r=0.1\n",
      "\n",
      "#Calculation\n",
      "import math\n",
      "b=-(a*math.pi*r**2*(math.cos(60)*180/3.14))/(2*e)\n",
      "\n",
      "#Result\n",
      "print\"Electric flux through a circular area is \", round(b*10**-5,2),\"*10**3 Nm**2C-1\""
     ],
     "language": "python",
     "metadata": {},
     "outputs": [
      {
       "output_type": "stream",
       "stream": "stdout",
       "text": [
        "Electric flux through a circular area is  4.84 *10**3 Nm**2C-1\n"
       ]
      }
     ],
     "prompt_number": 54
    }
   ],
   "metadata": {}
  }
 ]
}