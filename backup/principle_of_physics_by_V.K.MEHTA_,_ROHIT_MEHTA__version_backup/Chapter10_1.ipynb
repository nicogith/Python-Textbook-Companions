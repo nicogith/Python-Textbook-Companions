{
 "metadata": {
  "name": "",
  "signature": "sha256:08446d35c254f7719d0bb2f900fc25303d15f487208d5c6fccc1dc48e1acf8aa"
 },
 "nbformat": 3,
 "nbformat_minor": 0,
 "worksheets": [
  {
   "cells": [
    {
     "cell_type": "heading",
     "level": 1,
     "metadata": {},
     "source": [
      "Chapter 10 Magnets and Earth's Magnetism"
     ]
    },
    {
     "cell_type": "heading",
     "level": 2,
     "metadata": {},
     "source": [
      "Example 10.1 Page no 558"
     ]
    },
    {
     "cell_type": "code",
     "collapsed": false,
     "input": [
      "#Given\n",
      "F=0.8*10**-3*9.8                     #N\n",
      "d=0.1                                #m\n",
      "u=10**-7\n",
      "\n",
      "#Calculation\n",
      "import math\n",
      "m=math.sqrt(F*d**2/(u*5))\n",
      "m1=5*m\n",
      "\n",
      "#Result\n",
      "print\"Strength of pole M1 is\", round(m,2),\"Am\"\n",
      "print\"Strength of pole M2 is\",round(m1,1),\"Am\""
     ],
     "language": "python",
     "metadata": {},
     "outputs": [
      {
       "output_type": "stream",
       "stream": "stdout",
       "text": [
        "Strength of pole M1 is 12.52 Am\n",
        "Strength of pole M2 is 62.6 Am\n"
       ]
      }
     ],
     "prompt_number": 11
    },
    {
     "cell_type": "heading",
     "level": 2,
     "metadata": {},
     "source": [
      "Example 10.2 Page no 559"
     ]
    },
    {
     "cell_type": "code",
     "collapsed": false,
     "input": [
      "#Given\n",
      "F=14.4*10**-4                       #N\n",
      "d=0.05                              #m\n",
      "F1=1.6*10**-4\n",
      "\n",
      "#Calculation\n",
      "import math\n",
      "u=4*math.pi*10**-7\n",
      "m=math.sqrt((F*4*math.pi*d**2)/u)\n",
      "d1=1/(math.sqrt((F1*4*math.pi)/(u*m**2)))\n",
      "\n",
      "#Result\n",
      "print \"Distance is\",d1,\"m\""
     ],
     "language": "python",
     "metadata": {},
     "outputs": [
      {
       "output_type": "stream",
       "stream": "stdout",
       "text": [
        "Distance is 0.15 m\n"
       ]
      }
     ],
     "prompt_number": 19
    },
    {
     "cell_type": "heading",
     "level": 2,
     "metadata": {},
     "source": [
      "Example 10.5 Page no 560"
     ]
    },
    {
     "cell_type": "code",
     "collapsed": false,
     "input": [
      "#given\n",
      "M=8\n",
      "d=0.2\n",
      "\n",
      "#Calculation\n",
      "B=u*2*M/(4*math.pi*d**3)\n",
      "Beqa=B/2.0\n",
      "\n",
      "#Result\n",
      "print\"(i) Magnetic induction at axial point\", B*10**4,\"*10**-4 T\"\n",
      "print\"(ii) Magnetic induction at equatorial point is\",Beqa*10**4,\"*10**-4 T\""
     ],
     "language": "python",
     "metadata": {},
     "outputs": [
      {
       "output_type": "stream",
       "stream": "stdout",
       "text": [
        "(i) Magnetic induction at axial point 2.0 *10**-4 T\n",
        "(ii) Magnetic induction at equatorial point is 1.0 *10**-4 T\n"
       ]
      }
     ],
     "prompt_number": 27
    },
    {
     "cell_type": "heading",
     "level": 2,
     "metadata": {},
     "source": [
      "Example 10.6 Page no 560"
     ]
    },
    {
     "cell_type": "code",
     "collapsed": false,
     "input": [
      "#Given\n",
      "d=6.4*10**6                     #m\n",
      "B=0.4*10**-4                   #T\n",
      "\n",
      "#Calculation\n",
      "import math\n",
      "M=(B*4*math.pi*d**3)/u\n",
      "\n",
      "#Result\n",
      "print\"Earth's dipole moment is\", round(M*10**-23,2)*10**23,\"Am**2\""
     ],
     "language": "python",
     "metadata": {},
     "outputs": [
      {
       "output_type": "stream",
       "stream": "stdout",
       "text": [
        "Earth's dipole moment is 1.05e+23 Am**2\n"
       ]
      }
     ],
     "prompt_number": 33
    },
    {
     "cell_type": "heading",
     "level": 2,
     "metadata": {},
     "source": [
      "Example 10.7 Page no 560"
     ]
    },
    {
     "cell_type": "code",
     "collapsed": false,
     "input": [
      "#Given\n",
      "M=0.40\n",
      "d=0.5\n",
      "\n",
      "#Calculation\n",
      "Beqa=u*M/(4*math.pi*d**3)\n",
      "Baxial=2*Beqa\n",
      "\n",
      "#Result\n",
      "print\"Magnitude of axial field is\", Baxial,\"T\"\n",
      "print\"Magnitude of equatorial field is\",Beqa,\"T\""
     ],
     "language": "python",
     "metadata": {},
     "outputs": [
      {
       "output_type": "stream",
       "stream": "stdout",
       "text": [
        "Magnitude of axial field is 6.4e-07 T\n",
        "Magnitude of equatorial field is 3.2e-07 T\n"
       ]
      }
     ],
     "prompt_number": 39
    },
    {
     "cell_type": "heading",
     "level": 2,
     "metadata": {},
     "source": [
      "Example 10.8 Page no 560"
     ]
    },
    {
     "cell_type": "code",
     "collapsed": false,
     "input": [
      "#Given\n",
      "e=1.6*10**-19\n",
      "f=6.8*10**15\n",
      "n=1\n",
      "r=0.53*10**-10\n",
      "\n",
      "#Calculation \n",
      "import math\n",
      "I=e*f\n",
      "M=n*I*math.pi*r**2\n",
      "\n",
      "#Result\n",
      "print\"Equivalent magnetic moment is\", round(M*10**24,1)*10**-24,\"Am**2\""
     ],
     "language": "python",
     "metadata": {},
     "outputs": [
      {
       "output_type": "stream",
       "stream": "stdout",
       "text": [
        "Equivalent magnetic moment is 9.6e-24 Am**2\n"
       ]
      }
     ],
     "prompt_number": 46
    },
    {
     "cell_type": "heading",
     "level": 2,
     "metadata": {},
     "source": [
      "Example 10.9 Page no 561"
     ]
    },
    {
     "cell_type": "code",
     "collapsed": false,
     "input": [
      "#Given\n",
      "n=50\n",
      "r=0.2                            #m\n",
      "I=12                             #A\n",
      "\n",
      "#Calculation\n",
      "B=(u*n*I)/(2.0*r)\n",
      "M=n*I*math.pi*r**2\n",
      "\n",
      "#Result\n",
      "print\"(i) Magnetic field at the centre of the coil is\", round(B*10**3,3),\"*10**-3 T\"\n",
      "print\"(ii) Magnetic moment is\",round(M,1),\"Am**2\""
     ],
     "language": "python",
     "metadata": {},
     "outputs": [
      {
       "output_type": "stream",
       "stream": "stdout",
       "text": [
        "(i) Magnetic field at the centre of the coil is 1.885 *10**-3 T\n",
        "(ii) Magnetic moment is 75.4 Am**2\n"
       ]
      }
     ],
     "prompt_number": 58
    },
    {
     "cell_type": "heading",
     "level": 2,
     "metadata": {},
     "source": [
      "Example 10.10 Page no 561"
     ]
    },
    {
     "cell_type": "code",
     "collapsed": false,
     "input": [
      "#Given\n",
      "A=7.5*10**-4                                #m**2\n",
      "I=12                                          #A\n",
      "\n",
      "#Calculation\n",
      "M=A*I\n",
      "\n",
      "#Result\n",
      "print\"Magnitude of the magnetic moment is\", M*10**3,\"*10**-3  Am**2\""
     ],
     "language": "python",
     "metadata": {},
     "outputs": [
      {
       "output_type": "stream",
       "stream": "stdout",
       "text": [
        "Magnitude of the magnetic moment is 9.0 *10**-3  Am**2\n"
       ]
      }
     ],
     "prompt_number": 62
    },
    {
     "cell_type": "heading",
     "level": 2,
     "metadata": {},
     "source": [
      "Example 10.11 Page no 561"
     ]
    },
    {
     "cell_type": "code",
     "collapsed": false,
     "input": [
      "#Given\n",
      "n=100\n",
      "I=0.1                       #A\n",
      "r=0.05\n",
      "B=1.5                        #T\n",
      "\n",
      "#Calculation\n",
      "import math\n",
      "M=n*I*math.pi*r**2\n",
      "W=2*M*B\n",
      "\n",
      "#Result\n",
      "print\"Magnitude of the coil is\", round(M,4),\"Am**2\"\n",
      "print\"Workdone is\",round(W,4),\"J\""
     ],
     "language": "python",
     "metadata": {},
     "outputs": [
      {
       "output_type": "stream",
       "stream": "stdout",
       "text": [
        "Magnitude of the coil is 0.0785 Am**2\n",
        "Workdone is 0.2356 J\n"
       ]
      }
     ],
     "prompt_number": 70
    },
    {
     "cell_type": "heading",
     "level": 2,
     "metadata": {},
     "source": [
      "Example 10.12 Page no 561"
     ]
    },
    {
     "cell_type": "code",
     "collapsed": false,
     "input": [
      "#Given\n",
      "n=10\n",
      "I=3\n",
      "A=7.85*10**-3\n",
      "B=10**-2                         #T\n",
      "\n",
      "#Calculation\n",
      "import math\n",
      "M=n*I*A\n",
      "U1=-M*B*math.cos(0)\n",
      "Uf=-M*B*math.cos(90)\n",
      "w=-U1\n",
      "t=M*B*math.sin(90*3.14/180.0)\n",
      "\n",
      "#Result\n",
      "print\"Work done is\", round(t*10**3,1),\"*10**-3 Nm\""
     ],
     "language": "python",
     "metadata": {},
     "outputs": [
      {
       "output_type": "stream",
       "stream": "stdout",
       "text": [
        "Work done is 2.4 *10**-3 Nm\n"
       ]
      }
     ],
     "prompt_number": 81
    },
    {
     "cell_type": "heading",
     "level": 2,
     "metadata": {},
     "source": [
      "Example 10.13 Page no 562"
     ]
    },
    {
     "cell_type": "code",
     "collapsed": false,
     "input": [
      "#Given\n",
      "M=4.8*10**-2                            #J/T\n",
      "a=30                                    #degree\n",
      "B=3*10**-2                              #t\n",
      "\n",
      "#Calculation\n",
      "import math\n",
      "t=M*B*math.sin(a*3.14/180.0)\n",
      "\n",
      "#Result\n",
      "print\"Torque acting on the needle is\", round(t*10**4,1),\"*10**-4 Nm\""
     ],
     "language": "python",
     "metadata": {},
     "outputs": [
      {
       "output_type": "stream",
       "stream": "stdout",
       "text": [
        "Torque acting on the needle is 7.2 *10**-4 Nm\n"
       ]
      }
     ],
     "prompt_number": 86
    },
    {
     "cell_type": "heading",
     "level": 2,
     "metadata": {},
     "source": [
      "Example 10.14 Page no 562"
     ]
    },
    {
     "cell_type": "code",
     "collapsed": false,
     "input": [
      "#Given\n",
      "B=0.2                   #T\n",
      "a=30                        #degree\n",
      "t=0.06                         #Nm\n",
      "\n",
      "#Calculation\n",
      "import math\n",
      "M=t/(B*math.sin(a*3.14/180.0))\n",
      "U=M*B*math.cos(1*3.14/180.0)\n",
      "\n",
      "#Result\n",
      "print\"(i) Magnetic moment of the magnet is\", round(M,1),\"Am**2\"\n",
      "print\"(ii) Orientation of the magnet is\", round(U,0)"
     ],
     "language": "python",
     "metadata": {},
     "outputs": [
      {
       "output_type": "stream",
       "stream": "stdout",
       "text": [
        "(i) Magnetic moment of the magnet is 0.6 Am**2\n",
        "(ii) Orientation of the magnet is 0.0\n"
       ]
      }
     ],
     "prompt_number": 97
    },
    {
     "cell_type": "heading",
     "level": 2,
     "metadata": {},
     "source": [
      "Example 10.15 Page no 562"
     ]
    },
    {
     "cell_type": "code",
     "collapsed": false,
     "input": [
      "#given\n",
      "a=30                              #degree\n",
      "B=800*10**-4                      #T\n",
      "t=0.016                           #Nm\n",
      "A=2*10**-4                        #m**2\n",
      "n=1000                            #turns\n",
      "\n",
      "#Calculation\n",
      "M=t/(B*math.sin(a*3.14/180.0))\n",
      "W=2*M*B\n",
      "I=M/(n*A)\n",
      "\n",
      "#Result\n",
      "print\"(a) Magnetic moment of the magnet is\", round(M,2),\"Am**2\"\n",
      "print\"(b) Work done is\", round(W,3),\"J\"\n",
      "print\"(c) Current flowing through the solenoid is\", round(I,0),\"A\""
     ],
     "language": "python",
     "metadata": {},
     "outputs": [
      {
       "output_type": "stream",
       "stream": "stdout",
       "text": [
        "(a) Magnetic moment of the magnet is 0.4 Am**2\n",
        "(b) Work done is 0.064 J\n",
        "(c) Current flowing through the solenoid is 2.0 A\n"
       ]
      }
     ],
     "prompt_number": 108
    },
    {
     "cell_type": "heading",
     "level": 2,
     "metadata": {},
     "source": [
      "Example 10.16 Page no 563"
     ]
    },
    {
     "cell_type": "code",
     "collapsed": false,
     "input": [
      "#Given\n",
      "t=6.70\n",
      "n=10.0\n",
      "I=7.5*10**-6                      #Kgm**2\n",
      "M=6.7*10**-2                              #Am**2\n",
      "\n",
      "#Calculation\n",
      "T=t/n\n",
      "B=(4*math.pi**2*I)/(M*T**2)\n",
      "\n",
      "#Result\n",
      "print\"Magnitude of the magnetic field is\", round(B,2),\"T\""
     ],
     "language": "python",
     "metadata": {},
     "outputs": [
      {
       "output_type": "stream",
       "stream": "stdout",
       "text": [
        "Magnitude of the magnetic field is 0.01 T\n"
       ]
      }
     ],
     "prompt_number": 113
    },
    {
     "cell_type": "heading",
     "level": 2,
     "metadata": {},
     "source": [
      "Example 10.18 Page no 569"
     ]
    },
    {
     "cell_type": "code",
     "collapsed": false,
     "input": [
      "#Given\n",
      "t=1.2*10**-3                      #nm\n",
      "M=60\n",
      "H=40*10**-6\n",
      "\n",
      "#Calculation\n",
      "import math\n",
      "A=t/(M*H)\n",
      "a=math.asin(A)*180/3.14\n",
      "\n",
      "#Result\n",
      "print\"Angle of the declination is\", round(a,0),\"degree\""
     ],
     "language": "python",
     "metadata": {},
     "outputs": [
      {
       "output_type": "stream",
       "stream": "stdout",
       "text": [
        "Angle of the declination is 30.0 degree\n"
       ]
      }
     ],
     "prompt_number": 126
    },
    {
     "cell_type": "heading",
     "level": 2,
     "metadata": {},
     "source": [
      "Example 10.19 Page no 569"
     ]
    },
    {
     "cell_type": "code",
     "collapsed": false,
     "input": [
      "#Given\n",
      "V=math.sqrt(3)\n",
      "\n",
      "#calculation\n",
      "import math\n",
      "a=math.atan(V)*180/3.14\n",
      "\n",
      "#Result\n",
      "print\"Angle of dip is\", round(a,0),\"Degree\""
     ],
     "language": "python",
     "metadata": {},
     "outputs": [
      {
       "output_type": "stream",
       "stream": "stdout",
       "text": [
        "Angle of dip is 60.0 Degree\n"
       ]
      }
     ],
     "prompt_number": 131
    },
    {
     "cell_type": "heading",
     "level": 2,
     "metadata": {},
     "source": [
      "Example 10.20 Page no 569"
     ]
    },
    {
     "cell_type": "code",
     "collapsed": false,
     "input": [
      "#Given\n",
      "H=0.28                        #G\n",
      "V=0.40                        #G\n",
      "\n",
      "#Calculation\n",
      "import math\n",
      "A=V/H\n",
      "a=math.atan(A)*180/3.14\n",
      "R=math.sqrt(H**2+V**2)\n",
      "\n",
      "#Result\n",
      "print\"(i) Angle of dip is\", round(a,0),\"Degree\"\n",
      "print\"(ii) Earth's total magnetic field is\", round(R,2),\"G\""
     ],
     "language": "python",
     "metadata": {},
     "outputs": [
      {
       "output_type": "stream",
       "stream": "stdout",
       "text": [
        "(i) Angle of dip is 55.0 Degree\n",
        "(ii) Earth's total magnetic field is 0.49 G\n"
       ]
      }
     ],
     "prompt_number": 140
    },
    {
     "cell_type": "heading",
     "level": 2,
     "metadata": {},
     "source": [
      "Example 10.22 Page no 570"
     ]
    },
    {
     "cell_type": "code",
     "collapsed": false,
     "input": [
      "#Given\n",
      "H=0.40\n",
      "a=18                  #degree\n",
      "\n",
      "#Calculation\n",
      "import math\n",
      "R=H/(math.cos(a*3.14/180.0))\n",
      "\n",
      "#Result\n",
      "print\"Magnitude of earth's magnetic field is\", round(R,2),\"G\""
     ],
     "language": "python",
     "metadata": {},
     "outputs": [
      {
       "output_type": "stream",
       "stream": "stdout",
       "text": [
        "Magnitude of earth's magnetic field is 0.42 G\n"
       ]
      }
     ],
     "prompt_number": 145
    },
    {
     "cell_type": "heading",
     "level": 2,
     "metadata": {},
     "source": [
      "Example 10.24 Page no 571"
     ]
    },
    {
     "cell_type": "code",
     "collapsed": false,
     "input": [
      "#Given\n",
      "a=45                               #Degree\n",
      "b=60                               #Degree\n",
      "\n",
      "#Calculation\n",
      "import math\n",
      "A=math.tan(a*3.14/180.0)/(math.cos(b*3.14/180.0))\n",
      "a=math.atan(A)*180/3.14\n",
      "\n",
      "#Result\n",
      "print\"Apparant dip is\", round(a,1),\"Degree\""
     ],
     "language": "python",
     "metadata": {},
     "outputs": [
      {
       "output_type": "stream",
       "stream": "stdout",
       "text": [
        "Apparant dip is 63.4 Degree\n"
       ]
      }
     ],
     "prompt_number": 152
    },
    {
     "cell_type": "heading",
     "level": 2,
     "metadata": {},
     "source": [
      "Example 10.25 Page no 574"
     ]
    },
    {
     "cell_type": "code",
     "collapsed": false,
     "input": [
      "#Given\n",
      "M=1.6                         #Am**2\n",
      "d=0.20                           #m\n",
      "u=10**-7                            #N/A**2\n",
      "\n",
      "#Calculation\n",
      "H=u*2*M/(d**3)\n",
      "\n",
      "#Result\n",
      "print\"Horizontal component of the earth's magnetic field is\", H,\"T\""
     ],
     "language": "python",
     "metadata": {},
     "outputs": [
      {
       "output_type": "stream",
       "stream": "stdout",
       "text": [
        "Horizontal component of the earth's magnetic field is 4e-05 T\n"
       ]
      }
     ],
     "prompt_number": 155
    },
    {
     "cell_type": "heading",
     "level": 2,
     "metadata": {},
     "source": [
      "Example 10.26 Page no 574"
     ]
    },
    {
     "cell_type": "code",
     "collapsed": false,
     "input": [
      "#Given\n",
      "l=0.05                          #m\n",
      "d=0.12                          #m\n",
      "H=0.34*10**-4                          #T\n",
      "\n",
      "#Calculation\n",
      "import math\n",
      "u=4*math.pi*10**-7\n",
      "M=(4*math.pi*H*(d**2+l**2)**1.5)/u\n",
      "\n",
      "#Result\n",
      "print\"Magnetic moment of the magnet is\", round(M,3),\"J/T\"\n"
     ],
     "language": "python",
     "metadata": {},
     "outputs": [
      {
       "output_type": "stream",
       "stream": "stdout",
       "text": [
        "Magnetic moment of the magnet is 0.747 J/T\n"
       ]
      }
     ],
     "prompt_number": 162
    },
    {
     "cell_type": "heading",
     "level": 2,
     "metadata": {},
     "source": [
      "Example 10.27 Page no 577"
     ]
    },
    {
     "cell_type": "code",
     "collapsed": false,
     "input": [
      "#Given\n",
      "r=7*10**-2                       #m\n",
      "H=2*10**-5                      #T\n",
      "n=50\n",
      "\n",
      "#calculation\n",
      "import math\n",
      "l=(2*r*H*math.tan(45*180/3.14))/u*n\n",
      "\n",
      "#Result\n",
      "print\"Value of current is\", round(l*10**-3,3),\"A\""
     ],
     "language": "python",
     "metadata": {},
     "outputs": [
      {
       "output_type": "stream",
       "stream": "stdout",
       "text": [
        "Value of current is 0.043 A\n"
       ]
      }
     ],
     "prompt_number": 172
    },
    {
     "cell_type": "heading",
     "level": 2,
     "metadata": {},
     "source": [
      "Example 10.28 Page no 577"
     ]
    },
    {
     "cell_type": "code",
     "collapsed": false,
     "input": [
      "#Given\n",
      "K=0.095                           #A\n",
      "n=50\n",
      "r=10*10**-2                        #m\n",
      "\n",
      "#Calculation\n",
      "H=K*u*n/(2.0*r)\n",
      "\n",
      "#Result\n",
      "print\"Horizontal component of earth's magnetic field is\", round(H*10**4,3),\"*10**-4 T\""
     ],
     "language": "python",
     "metadata": {},
     "outputs": [
      {
       "output_type": "stream",
       "stream": "stdout",
       "text": [
        "Horizontal component of earth's magnetic field is 0.298 *10**-4 T\n"
       ]
      }
     ],
     "prompt_number": 178
    },
    {
     "cell_type": "heading",
     "level": 2,
     "metadata": {},
     "source": [
      "Example 10.30 Page no 577"
     ]
    },
    {
     "cell_type": "code",
     "collapsed": false,
     "input": [
      "#Given\n",
      "a=30                            #degree\n",
      "b=45                             #degree\n",
      "\n",
      "#Calculation\n",
      "import math\n",
      "m=(2*math.tan(a*3.14/180.0))/(math.tan(b*3.14/180.0))\n",
      "\n",
      "#Result\n",
      "print\"Ratio of number of turns of the tangent galvanometers\", round(m,3)"
     ],
     "language": "python",
     "metadata": {},
     "outputs": [
      {
       "output_type": "stream",
       "stream": "stdout",
       "text": [
        "Ratio of number of turns of the tangent galvanometers 1.155\n"
       ]
      }
     ],
     "prompt_number": 188
    }
   ],
   "metadata": {}
  }
 ]
}