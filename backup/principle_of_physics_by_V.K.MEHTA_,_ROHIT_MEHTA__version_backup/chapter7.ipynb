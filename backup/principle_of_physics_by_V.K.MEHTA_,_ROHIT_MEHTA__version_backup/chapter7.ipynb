{
 "metadata": {
  "name": "",
  "signature": "sha256:47b2c0fcc74d4ba925e8938987dfe5c551c445c65c0145d8b28ae4df323cfc30"
 },
 "nbformat": 3,
 "nbformat_minor": 0,
 "worksheets": [
  {
   "cells": [
    {
     "cell_type": "heading",
     "level": 1,
     "metadata": {},
     "source": [
      "Chapter 7 Heating effect of electric curent"
     ]
    },
    {
     "cell_type": "heading",
     "level": 2,
     "metadata": {},
     "source": [
      "Example 7.1 Page no 373"
     ]
    },
    {
     "cell_type": "code",
     "collapsed": false,
     "input": [
      "#Given\n",
      "V=240                   #V\n",
      "P=60\n",
      "P1=100\n",
      "\n",
      "#Calculation\n",
      "R=V**2/P\n",
      "R1=V**2/P1\n",
      "\n",
      "#Result\n",
      "print\"Resistance of a bulb for 60 W is\", R,\"ohm and for 100 W is\",R1,\"ohm\"\n",
      "print\"Hence The resistance of 60 W,240 V bulb is more than that of 100 W,240 V bulb\""
     ],
     "language": "python",
     "metadata": {},
     "outputs": [
      {
       "output_type": "stream",
       "stream": "stdout",
       "text": [
        "Resistance of a bulb for 60 W is 960 ohm and for 100 W is 576 ohm\n",
        "Hence The resistance of 60 W,240 V bulb is more than that of 100 W,240 V bulb\n"
       ]
      }
     ],
     "prompt_number": 6
    },
    {
     "cell_type": "heading",
     "level": 2,
     "metadata": {},
     "source": [
      "Example 7.2 Page no 373"
     ]
    },
    {
     "cell_type": "code",
     "collapsed": false,
     "input": [
      "#Given\n",
      "V=230                #v\n",
      "P=100\n",
      "t=20*60\n",
      "V1=115                   #V\n",
      "\n",
      "#Calculation\n",
      "R=V**2/P\n",
      "E=(V1**2*t)/R\n",
      "\n",
      "#Result\n",
      "print\"Heat and light energy is\", E,\"J\""
     ],
     "language": "python",
     "metadata": {},
     "outputs": [
      {
       "output_type": "stream",
       "stream": "stdout",
       "text": [
        "Heat and light energy is 30000 J\n"
       ]
      }
     ],
     "prompt_number": 10
    },
    {
     "cell_type": "heading",
     "level": 2,
     "metadata": {},
     "source": [
      "Example 7.3 Page no 374"
     ]
    },
    {
     "cell_type": "code",
     "collapsed": false,
     "input": [
      "#Given\n",
      "P=500             #W\n",
      "V=200.0              #V\n",
      "V1=240\n",
      "\n",
      "#Calculation\n",
      "I=P/V\n",
      "R=V1-V\n",
      "R1=R/I\n",
      "\n",
      "#Result\n",
      "print\"The value of R=\",R1,\"ohm\"\n",
      "print\"Current in a circuit is\",I,\"A\""
     ],
     "language": "python",
     "metadata": {},
     "outputs": [
      {
       "output_type": "stream",
       "stream": "stdout",
       "text": [
        "The value of R= 16.0 ohm\n",
        "Current in a circuit is 2.5 A\n"
       ]
      }
     ],
     "prompt_number": 18
    },
    {
     "cell_type": "heading",
     "level": 2,
     "metadata": {},
     "source": [
      "Example 7.4 Page no 374"
     ]
    },
    {
     "cell_type": "code",
     "collapsed": false,
     "input": [
      "#Given\n",
      "P1=100.0                     #W\n",
      "P=1100.0                      #W\n",
      "V=250\n",
      "\n",
      "#Calculation\n",
      "P2=P-P1\n",
      "R=V**2/P2\n",
      "\n",
      "#Result\n",
      "print\"The value of unknown resistance is\", R,\"ohm\""
     ],
     "language": "python",
     "metadata": {},
     "outputs": [
      {
       "output_type": "stream",
       "stream": "stdout",
       "text": [
        "The value of unknown resistance is 62.5 ohm\n"
       ]
      }
     ],
     "prompt_number": 25
    },
    {
     "cell_type": "heading",
     "level": 2,
     "metadata": {},
     "source": [
      "Example 7.6 Page no 374"
     ]
    },
    {
     "cell_type": "code",
     "collapsed": false,
     "input": [
      "#Given\n",
      "V=220\n",
      "P=200.0\n",
      "P1=100\n",
      "\n",
      "#Calculation\n",
      "R1=V**2/P\n",
      "R2=V**2/P1\n",
      "H=R1/R2\n",
      "\n",
      "#Result\n",
      "print\"The ratio of heats genetated in them is\", H"
     ],
     "language": "python",
     "metadata": {},
     "outputs": [
      {
       "output_type": "stream",
       "stream": "stdout",
       "text": [
        "The ratio of heats genetated in them is 0.5\n"
       ]
      }
     ],
     "prompt_number": 29
    },
    {
     "cell_type": "heading",
     "level": 2,
     "metadata": {},
     "source": [
      "Example 7.7 Page no 375"
     ]
    },
    {
     "cell_type": "code",
     "collapsed": false,
     "input": [
      "#Given\n",
      "m=1\n",
      "c=1\n",
      "a=100                  #W\n",
      "b=15\n",
      "t=7.5                   #second\n",
      "P=1                     #KW\n",
      "C=860                     #Kcal\n",
      "\n",
      "#Calculation\n",
      "A=m*c*(a-b)\n",
      "B=P*t/60.0\n",
      "D=B*C\n",
      "n=A*a/D\n",
      "\n",
      "#Result\n",
      "print\"Efficiency of the kettle is\", round(n,1),\"%\""
     ],
     "language": "python",
     "metadata": {},
     "outputs": [
      {
       "output_type": "stream",
       "stream": "stdout",
       "text": [
        "Efficiency of the kettle is 79.1 %\n"
       ]
      }
     ],
     "prompt_number": 36
    },
    {
     "cell_type": "heading",
     "level": 2,
     "metadata": {},
     "source": [
      "Example 7.8 Page no 375"
     ]
    },
    {
     "cell_type": "code",
     "collapsed": false,
     "input": [
      "#Given\n",
      "P1=9                    #W\n",
      "R1=8\n",
      "R2=12.0\n",
      "\n",
      "#Calculation\n",
      "P2=(P1*R1)/R2\n",
      "\n",
      "#Result\n",
      "print\"Power dissipated in 12 ohm resistor is\", P2,\"W\""
     ],
     "language": "python",
     "metadata": {},
     "outputs": [
      {
       "output_type": "stream",
       "stream": "stdout",
       "text": [
        "Power dissipated in 12 ohm resistor is 6.0 W\n"
       ]
      }
     ],
     "prompt_number": 39
    },
    {
     "cell_type": "heading",
     "level": 2,
     "metadata": {},
     "source": [
      "Example 7.9 Page no 375"
     ]
    },
    {
     "cell_type": "code",
     "collapsed": false,
     "input": [
      "#Given\n",
      "H1=10\n",
      "a=5.0\n",
      "b=4.2\n",
      "\n",
      "#Calculation\n",
      "I1=(H1*b)/(a*4)\n",
      "A=I1*4/b\n",
      "\n",
      "#Result\n",
      "print\"Heat generated in 4 ohm resistor is\", A,\"cal/sec\""
     ],
     "language": "python",
     "metadata": {},
     "outputs": [
      {
       "output_type": "stream",
       "stream": "stdout",
       "text": [
        "Heat generated in 4 ohm resistor is 2.0 cal/sec\n"
       ]
      }
     ],
     "prompt_number": 44
    },
    {
     "cell_type": "heading",
     "level": 2,
     "metadata": {},
     "source": [
      "Example 7.10 Page no 375"
     ]
    },
    {
     "cell_type": "code",
     "collapsed": false,
     "input": [
      "#Given\n",
      "E=12                   #V\n",
      "I=1                     #A\n",
      "r=0.5                   #ohm\n",
      "\n",
      "#Calculation\n",
      "P1=E*I\n",
      "P2=I**2*r\n",
      "P=P1-P2\n",
      "\n",
      "#Result\n",
      "print\"(i) Rate of consumption of chemical energy is\", P1,\"W\"\n",
      "print\"(ii) Rate Of energy dissipated inside the battery is\",P2,\"W\"\n",
      "print\"(iv) Rate of energy dissipated in the resistor is\", P,\"W\"\n",
      "print\"(v) Power output of the source is\",P,\"W\""
     ],
     "language": "python",
     "metadata": {},
     "outputs": [
      {
       "output_type": "stream",
       "stream": "stdout",
       "text": [
        "(i) Rate of consumption of chemical energy is 12 W\n",
        "(ii) Rate Of energy dissipated inside the battery is 0.5 W\n",
        "(iv) Rate of energy dissipated in the resistor is 11.5 W\n",
        "(v) Power output of the source is 11.5 W\n"
       ]
      }
     ],
     "prompt_number": 55
    },
    {
     "cell_type": "heading",
     "level": 2,
     "metadata": {},
     "source": [
      "Example 7.11 Page no 376"
     ]
    },
    {
     "cell_type": "code",
     "collapsed": false,
     "input": [
      "#Given\n",
      "P=110                      #W\n",
      "P1=100                     #W\n",
      "n=5\n",
      "V=220                      #V\n",
      "t=2                     #hours\n",
      "n1=4\n",
      "P2=1120                   #W\n",
      "m=1.5                         #per KWh\n",
      "\n",
      "#Calculation\n",
      "W=n*P1\n",
      "W1=V*t\n",
      "W2=n1*P\n",
      "W3=W+W1+W2+P2\n",
      "E=(W3*t)*10**-3\n",
      "E2=E*30\n",
      "B=m*E2\n",
      "\n",
      "#Result\n",
      "print\"Electricity bill for the month of september is\", B,\"Rs\""
     ],
     "language": "python",
     "metadata": {},
     "outputs": [
      {
       "output_type": "stream",
       "stream": "stdout",
       "text": [
        "Electricity bill for the month of september is 225.0 Rs\n"
       ]
      }
     ],
     "prompt_number": 68
    },
    {
     "cell_type": "heading",
     "level": 2,
     "metadata": {},
     "source": [
      "Example 7.12 Page no 376"
     ]
    },
    {
     "cell_type": "code",
     "collapsed": false,
     "input": [
      "#Given\n",
      "V=220                         #V\n",
      "P=60.0                            #W\n",
      "P1=85                            #w\n",
      "\n",
      "#Calculation\n",
      "import math\n",
      "R=V**2/P\n",
      "V1=math.sqrt(P1*R)\n",
      "\n",
      "#Result\n",
      "print\"Maximum voltage is\", round(V1,1),\"V\""
     ],
     "language": "python",
     "metadata": {},
     "outputs": [
      {
       "output_type": "stream",
       "stream": "stdout",
       "text": [
        "Maximum voltage is 261.9 V\n"
       ]
      }
     ],
     "prompt_number": 75
    },
    {
     "cell_type": "heading",
     "level": 2,
     "metadata": {},
     "source": [
      "Example 7.13 Page no 376"
     ]
    },
    {
     "cell_type": "code",
     "collapsed": false,
     "input": [
      "#Given\n",
      "V=200              #V\n",
      "P=500.0                 #W\n",
      "V1=160               #v\n",
      "\n",
      "#Calculation\n",
      "R=V**2/P\n",
      "H=V1**2/R\n",
      "P1=P-H\n",
      "H1=P1*100/P\n",
      "\n",
      "#Result\n",
      "print\"Heat percentage is\", H1,\"%\""
     ],
     "language": "python",
     "metadata": {},
     "outputs": [
      {
       "output_type": "stream",
       "stream": "stdout",
       "text": [
        "Heat percentage is 36.0 %\n"
       ]
      }
     ],
     "prompt_number": 82
    },
    {
     "cell_type": "heading",
     "level": 2,
     "metadata": {},
     "source": [
      "Example 7.14 Page no 376"
     ]
    },
    {
     "cell_type": "code",
     "collapsed": false,
     "input": [
      "#Given\n",
      "P1=500                           #W\n",
      "P2=100\n",
      "\n",
      "#Calculation\n",
      "R=P1/P2\n",
      "\n",
      "#Result\n",
      "print\"Since P1'=5P2', 100W bulb will glow brighter\""
     ],
     "language": "python",
     "metadata": {},
     "outputs": [
      {
       "output_type": "stream",
       "stream": "stdout",
       "text": [
        "Since P1'=5P2', 100W bulb will glow brighter\n"
       ]
      }
     ],
     "prompt_number": 86
    },
    {
     "cell_type": "heading",
     "level": 2,
     "metadata": {},
     "source": [
      "Example 7.15 Page no 377"
     ]
    },
    {
     "cell_type": "code",
     "collapsed": false,
     "input": [
      "#Given\n",
      "m=900\n",
      "w=100.0\n",
      "c=1\n",
      "a=80\n",
      "b=4.2\n",
      "V=210                   #V\n",
      "x=12\n",
      "y=60\n",
      "\n",
      "#Calculation\n",
      "Hout=(m+w)*c*a\n",
      "Hin=(V*x*y)/b\n",
      "Hin1=90/w*Hin\n",
      "I=Hout/Hin1\n",
      "\n",
      "#Result\n",
      "print\"Strength of the current is\", round(I,3),\"A\""
     ],
     "language": "python",
     "metadata": {},
     "outputs": [
      {
       "output_type": "stream",
       "stream": "stdout",
       "text": [
        "Strength of the current is 2.469 A\n"
       ]
      }
     ],
     "prompt_number": 95
    },
    {
     "cell_type": "heading",
     "level": 2,
     "metadata": {},
     "source": [
      "Example 7.16 Page no 377"
     ]
    },
    {
     "cell_type": "code",
     "collapsed": false,
     "input": [
      "#Given\n",
      "a=0.8\n",
      "\n",
      "#Calculation\n",
      "H=a**2\n",
      "H1=(1-H)*100\n",
      "\n",
      "#Result\n",
      "print\"Decreased percentage is\", H1,\"%\""
     ],
     "language": "python",
     "metadata": {},
     "outputs": [
      {
       "output_type": "stream",
       "stream": "stdout",
       "text": [
        "Decreased percentage is 36.0 %\n"
       ]
      }
     ],
     "prompt_number": 99
    },
    {
     "cell_type": "heading",
     "level": 2,
     "metadata": {},
     "source": [
      "Example 7.17 Page no 377"
     ]
    },
    {
     "cell_type": "code",
     "collapsed": false,
     "input": [
      "#Given\n",
      "a=14\n",
      "b=60\n",
      "c=24\n",
      "d=7.0\n",
      "\n",
      "#Calculation\n",
      "t=a*b/60.0\n",
      "t1=(c/d)\n",
      "\n",
      "#Result\n",
      "print\"(i) Time in series is\", t,\"minute\"\n",
      "print\"(ii) Time in parallel is\",round(t1,2),\"minute\""
     ],
     "language": "python",
     "metadata": {},
     "outputs": [
      {
       "output_type": "stream",
       "stream": "stdout",
       "text": [
        "(i) Time in series is 14.0 minute\n",
        "(ii) Time in parallel is 3.43 minute\n"
       ]
      }
     ],
     "prompt_number": 108
    },
    {
     "cell_type": "heading",
     "level": 2,
     "metadata": {},
     "source": [
      "Example 7.19 Page no 378"
     ]
    },
    {
     "cell_type": "code",
     "collapsed": false,
     "input": [
      "#Given\n",
      "I=0.5\n",
      "R=100\n",
      "t=30\n",
      "a=4.2\n",
      "m=200                      #g\n",
      "w=10                      #g\n",
      "\n",
      "#Calculation\n",
      "H=I**2*R*t*60/a\n",
      "A=H/(m+w)\n",
      "\n",
      "#Result\n",
      "print\"The rise of temperature is\", round(A,2),\"degree C\"\n"
     ],
     "language": "python",
     "metadata": {},
     "outputs": [
      {
       "output_type": "stream",
       "stream": "stdout",
       "text": [
        "The rise of temperature is 51.02 degree C\n"
       ]
      }
     ],
     "prompt_number": 113
    },
    {
     "cell_type": "heading",
     "level": 2,
     "metadata": {},
     "source": [
      "Example 7.20 Page no 379"
     ]
    },
    {
     "cell_type": "code",
     "collapsed": false,
     "input": [
      "#Given\n",
      "c=4.2                           #KJ/Kg/C\n",
      "m=0.2                           #Kg\n",
      "a=90\n",
      "b=20\n",
      "t=30\n",
      "V=230\n",
      "\n",
      "#calculation\n",
      "d=a-b\n",
      "H=c*m*d\n",
      "P=H/t\n",
      "I=P/V\n",
      "\n",
      "#Result\n",
      "print\"The value of current is\", round(I*10**3,2),\"A\""
     ],
     "language": "python",
     "metadata": {},
     "outputs": [
      {
       "output_type": "stream",
       "stream": "stdout",
       "text": [
        "The value of current is 8.52 A\n"
       ]
      }
     ],
     "prompt_number": 120
    }
   ],
   "metadata": {}
  }
 ]
}