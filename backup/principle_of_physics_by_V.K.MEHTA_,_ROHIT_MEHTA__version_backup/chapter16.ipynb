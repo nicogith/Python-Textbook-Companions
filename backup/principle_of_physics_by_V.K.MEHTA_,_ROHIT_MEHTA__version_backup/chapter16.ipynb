{
 "metadata": {
  "name": "",
  "signature": "sha256:badd30ad9356c0b0c69f3c0e035f97e954d74c789af08b85cb880fbe7e95ff6b"
 },
 "nbformat": 3,
 "nbformat_minor": 0,
 "worksheets": [
  {
   "cells": [
    {
     "cell_type": "heading",
     "level": 1,
     "metadata": {},
     "source": [
      "Chapter 16 Reflection of light"
     ]
    },
    {
     "cell_type": "heading",
     "level": 2,
     "metadata": {},
     "source": [
      "Exaple 16.1 Page no 890"
     ]
    },
    {
     "cell_type": "code",
     "collapsed": false,
     "input": [
      "#Given\n",
      "HF=2\n",
      "EF=1.9\n",
      "\n",
      "#Calculation\n",
      "L=0.5*HF\n",
      "DB=0.5*EF\n",
      "\n",
      "#Result\n",
      "print\"Maximum height of mirror is\", L,\"m\"\n",
      "print\"Bottom edge of the mirror is\",DB,\"m\""
     ],
     "language": "python",
     "metadata": {},
     "outputs": [
      {
       "output_type": "stream",
       "stream": "stdout",
       "text": [
        "Maximum height of mirror is 1.0 m\n",
        "Bottom edge of the mirror is 0.95 m\n"
       ]
      }
     ],
     "prompt_number": 5
    },
    {
     "cell_type": "heading",
     "level": 2,
     "metadata": {},
     "source": [
      "Example 16.2 Page no 890"
     ]
    },
    {
     "cell_type": "code",
     "collapsed": false,
     "input": [
      "#Given\n",
      "u=-15.0                             #cm\n",
      "f=-10                             #cm\n",
      "o=2.0                              #cm\n",
      "\n",
      "#Calculation\n",
      "v=1/((1.0/f)-(1.0/u))\n",
      "m=v/u\n",
      "I=-m*o\n",
      "\n",
      "#Result\n",
      "print\"Position of the image is\", v,\"cm\"\n",
      "print\"Size of the image is\",I,\"cm\"\n",
      "print\"Nature of the image isreal and inverted \""
     ],
     "language": "python",
     "metadata": {},
     "outputs": [
      {
       "output_type": "stream",
       "stream": "stdout",
       "text": [
        "Position of the image is -30.0 cm\n",
        "Size of the image is -4.0 cm\n",
        "Nature of the image isreal and inverted \n"
       ]
      }
     ],
     "prompt_number": 14
    },
    {
     "cell_type": "heading",
     "level": 2,
     "metadata": {},
     "source": [
      "Example 16.3 Page no 891"
     ]
    },
    {
     "cell_type": "code",
     "collapsed": false,
     "input": [
      "#Given\n",
      "u=-10.0                       #cm\n",
      "f=-15.0\n",
      "\n",
      "#Calculation\n",
      "v=1/((1/f)-(1/u))\n",
      "m=-v/u\n",
      "\n",
      "#Result\n",
      "print\"(i) Image position is\", v,\"cm\"\n",
      "print\"(ii) Magnification is\", m"
     ],
     "language": "python",
     "metadata": {},
     "outputs": [
      {
       "output_type": "stream",
       "stream": "stdout",
       "text": [
        "(i) Image position is 30.0 cm\n",
        "(ii) Magnification is 3.0\n"
       ]
      }
     ],
     "prompt_number": 25
    },
    {
     "cell_type": "heading",
     "level": 2,
     "metadata": {},
     "source": [
      "Example 16.4 Page no 891"
     ]
    },
    {
     "cell_type": "code",
     "collapsed": false,
     "input": [
      "#Given\n",
      "f=12.0\n",
      "v=4.0\n",
      "\n",
      "#Calculation\n",
      "u=1/((1/f)-(1/v))\n",
      "m=-v/u\n",
      "\n",
      "#Result\n",
      "print\"(i) Object position is\", u,\"cm\"\n",
      "print\"(ii) Magnification is\", round(m,2)"
     ],
     "language": "python",
     "metadata": {},
     "outputs": [
      {
       "output_type": "stream",
       "stream": "stdout",
       "text": [
        "(i) Object position is -6.0 cm\n",
        "(ii) Magnification is 0.67\n"
       ]
      }
     ],
     "prompt_number": 31
    },
    {
     "cell_type": "heading",
     "level": 2,
     "metadata": {},
     "source": [
      "Example 16.5 Page no 891"
     ]
    },
    {
     "cell_type": "code",
     "collapsed": false,
     "input": [
      "#Given\n",
      "R=36                     #ohm\n",
      "\n",
      "#Calculation\n",
      "f=-R/2.0\n",
      "u=(2*f)/3.0\n",
      "\n",
      "#Result\n",
      "print\"Position of the object is\", u,\"cm\""
     ],
     "language": "python",
     "metadata": {},
     "outputs": [
      {
       "output_type": "stream",
       "stream": "stdout",
       "text": [
        "Position of the object is -12.0 cm\n"
       ]
      }
     ],
     "prompt_number": 36
    },
    {
     "cell_type": "heading",
     "level": 2,
     "metadata": {},
     "source": [
      "Example 16.6 Page no 892"
     ]
    },
    {
     "cell_type": "code",
     "collapsed": false,
     "input": [
      "#Given\n",
      "R=20                  #cm\n",
      "\n",
      "#Calculation\n",
      "f=R/2.0\n",
      "u=-f\n",
      "v=-u/2.0\n",
      "\n",
      "#Result\n",
      "print\"Position of the object is\",u,\"cm\"\n",
      "print\"Position of the image is\",v,\"cm\""
     ],
     "language": "python",
     "metadata": {},
     "outputs": [
      {
       "output_type": "stream",
       "stream": "stdout",
       "text": [
        "Position of the object is -10.0 cm\n",
        "Position of the image is 5.0 cm\n"
       ]
      }
     ],
     "prompt_number": 40
    },
    {
     "cell_type": "heading",
     "level": 2,
     "metadata": {},
     "source": [
      "Example 16.7 Page no 892"
     ]
    },
    {
     "cell_type": "code",
     "collapsed": false,
     "input": [
      "#Given\n",
      "f=-15.0\n",
      "\n",
      "#Calculation\n",
      "u=(1/(1/f)/3.0)*4\n",
      "v=u/2.0\n",
      "\n",
      "#Result\n",
      "print\"Position of object is\" ,u,\"cm\"\n",
      "print\"When the image is virtual\",v,\"cm\""
     ],
     "language": "python",
     "metadata": {},
     "outputs": [
      {
       "output_type": "stream",
       "stream": "stdout",
       "text": [
        "Position of object is -20.0 cm\n",
        "When the image is virtual -10.0 cm\n"
       ]
      }
     ],
     "prompt_number": 49
    },
    {
     "cell_type": "heading",
     "level": 2,
     "metadata": {},
     "source": [
      "Example 16.8 Page no 892"
     ]
    },
    {
     "cell_type": "code",
     "collapsed": false,
     "input": [
      "#Given\n",
      "R=30                      #ohm\n",
      "u=-10.0                     \n",
      "h1=5\n",
      "\n",
      "#Calculation\n",
      "f=R/2.0\n",
      "v=1/((1/f)-(1/u))\n",
      "h2=(-v*h1)/u\n",
      "\n",
      "#Result\n",
      "print\"Position of the image is\", v,\"cm\"\n",
      "print\"Size of the image is\",h2,\"cm\"\n",
      "print\"The image is virtual\""
     ],
     "language": "python",
     "metadata": {},
     "outputs": [
      {
       "output_type": "stream",
       "stream": "stdout",
       "text": [
        "Position of the image is 6.0 cm\n",
        "Size of the image is 3.0 cm\n",
        "The image is virtual\n"
       ]
      }
     ],
     "prompt_number": 58
    },
    {
     "cell_type": "heading",
     "level": 2,
     "metadata": {},
     "source": [
      "Example 16.9 Page no 893"
     ]
    },
    {
     "cell_type": "code",
     "collapsed": false,
     "input": [
      "#Given\n",
      "f=-10.0                            #cm\n",
      "u=-25.0                             #cm\n",
      "h1=3\n",
      "\n",
      "#Calculation\n",
      "v=1/((1/f)-(1/u))\n",
      "h2=(-v*h1)/u\n",
      "A=h2**2\n",
      "\n",
      "#Result\n",
      "print\"Area enclosed by the image of the wire is\", A,\"cm**2\""
     ],
     "language": "python",
     "metadata": {},
     "outputs": [
      {
       "output_type": "stream",
       "stream": "stdout",
       "text": [
        "Area enclosed by the image of the wire is 4.0 cm**2\n"
       ]
      }
     ],
     "prompt_number": 66
    }
   ],
   "metadata": {}
  }
 ]
}