{
 "metadata": {
  "name": "",
  "signature": "sha256:1bababaf98233cb133c1893aef0743afe5d48d8c1bcfe7a7487181ba9a8fde89"
 },
 "nbformat": 3,
 "nbformat_minor": 0,
 "worksheets": [
  {
   "cells": [
    {
     "cell_type": "heading",
     "level": 1,
     "metadata": {},
     "source": [
      "Chapter 6 Electrical measurements"
     ]
    },
    {
     "cell_type": "heading",
     "level": 2,
     "metadata": {},
     "source": [
      "Example 6.1 Page no 332"
     ]
    },
    {
     "cell_type": "code",
     "collapsed": false,
     "input": [
      "#Given\n",
      "a=4\n",
      "b=2.0\n",
      "c=8\n",
      "d=5\n",
      "e=3.0\n",
      "\n",
      "#Calculation\n",
      "I1=((a*c)+(b*e))/((b*c)+(d*e))\n",
      "I2=(a-(2*I1))/e\n",
      "V=(I1-I2)*5\n",
      "\n",
      "#Result\n",
      "print\"(i) Current through each battery is\", round(I1,2),\"A and\",round(I2,2),\"A\"\n",
      "print\"(ii) Terminal voltage is\",round(V,2),\"V\""
     ],
     "language": "python",
     "metadata": {},
     "outputs": [
      {
       "output_type": "stream",
       "stream": "stdout",
       "text": [
        "(i) Current through each battery is 1.23 A and 0.52 A\n",
        "(ii) Terminal voltage is 3.55 V\n"
       ]
      }
     ],
     "prompt_number": 20
    },
    {
     "cell_type": "heading",
     "level": 2,
     "metadata": {},
     "source": [
      "Example 6.4 Page no 334"
     ]
    },
    {
     "cell_type": "code",
     "collapsed": false,
     "input": [
      "#Given\n",
      "a=10\n",
      "b=5.0\n",
      "c=9.0\n",
      "d=19.0\n",
      "\n",
      "#Calculation\n",
      "I2=(a-c)/((b*a)-(d*c))\n",
      "I1=(1-(5*I2))/c\n",
      "I=I1+I2\n",
      "pd=I*10\n",
      "\n",
      "#Result\n",
      "print\"Current through each cell is\", round(I,2),\"A\"\n",
      "print\"Potential difference across 10 ohm wire is\",round(pd,3),\"V\""
     ],
     "language": "python",
     "metadata": {},
     "outputs": [
      {
       "output_type": "stream",
       "stream": "stdout",
       "text": [
        "Current through each cell is 0.11 A\n",
        "Potential difference across 10 ohm wire is 1.074 V\n"
       ]
      }
     ],
     "prompt_number": 33
    },
    {
     "cell_type": "heading",
     "level": 2,
     "metadata": {},
     "source": [
      "Example 6.6 Page no 335"
     ]
    },
    {
     "cell_type": "code",
     "collapsed": false,
     "input": [
      "#Given\n",
      "a=-3\n",
      "b=4.0\n",
      "c=3\n",
      "\n",
      "#Calculation\n",
      "I1=a/(b+(c**2))\n",
      "I2=-1-c*I1\n",
      "I3=-(I1+I2)\n",
      "\n",
      "#Result\n",
      "print\"Current through each cell is\", round(I1,2),\"A ,\",round(I2,2),\"A and\",round(I3,2),\"A\""
     ],
     "language": "python",
     "metadata": {},
     "outputs": [
      {
       "output_type": "stream",
       "stream": "stdout",
       "text": [
        "Current through each cell is -0.23 A , -0.31 A and 0.54 A\n"
       ]
      }
     ],
     "prompt_number": 47
    },
    {
     "cell_type": "heading",
     "level": 2,
     "metadata": {},
     "source": [
      "Example 6.7 Page no 336"
     ]
    },
    {
     "cell_type": "code",
     "collapsed": false,
     "input": [
      "#Given\n",
      "a=15\n",
      "b=4\n",
      "c=12.0\n",
      "d=10\n",
      "\n",
      "#Calculation\n",
      "R=(a*b)/c\n",
      "X=(d*R)/(d-R)\n",
      "\n",
      "#Result\n",
      "print\"The value of resistance is\", X,\"ohm\""
     ],
     "language": "python",
     "metadata": {},
     "outputs": [
      {
       "output_type": "stream",
       "stream": "stdout",
       "text": [
        "The value of resistance is 10.0 ohm\n"
       ]
      }
     ],
     "prompt_number": 51
    },
    {
     "cell_type": "heading",
     "level": 2,
     "metadata": {},
     "source": [
      "Example 6.8 Page no 336"
     ]
    },
    {
     "cell_type": "code",
     "collapsed": false,
     "input": [
      "#Given\n",
      "R1=4                  #ohm\n",
      "R2=3                 #ohm\n",
      "R3=2.0\n",
      "R11=2.4               #ohm\n",
      "E=6\n",
      "\n",
      "#Calculation\n",
      "X=(R1*R2)/R3\n",
      "R4=R2+X\n",
      "R5=R1+R3\n",
      "Rt=((R4*R5)/(R4+R5))+R11\n",
      "I=E/Rt\n",
      "\n",
      "#Result\n",
      "print\"the value of unknown resistance is\", X,\"ohm\"\n",
      "print\"The current drawn by the circuit is\",I,\"A\""
     ],
     "language": "python",
     "metadata": {},
     "outputs": [
      {
       "output_type": "stream",
       "stream": "stdout",
       "text": [
        "the value of unknown resistance is 6.0 ohm\n",
        "The current drawn by the circuit is 1.0 A\n"
       ]
      }
     ],
     "prompt_number": 59
    },
    {
     "cell_type": "heading",
     "level": 2,
     "metadata": {},
     "source": [
      "Example 6.9 Page no 337"
     ]
    },
    {
     "cell_type": "code",
     "collapsed": false,
     "input": [
      "#Given\n",
      "a=10\n",
      "b=7.0\n",
      "c=5\n",
      "d=4\n",
      "e=8.0\n",
      "\n",
      "#Calculation\n",
      "I1=(a+a)/(b+1)\n",
      "I3=(c+(4*I1))/e\n",
      "I2=(-a+(6*I3)+I1)/2.0\n",
      "\n",
      "#Result\n",
      "print\"Current I1=\",I1,\"A \\nI2=\",I2,\"A \\nI3=\",I3,\"A\""
     ],
     "language": "python",
     "metadata": {},
     "outputs": [
      {
       "output_type": "stream",
       "stream": "stdout",
       "text": [
        "Current I1= 2.5 A \n",
        "I2= 1.875 A \n",
        "I3= 1.875 A\n"
       ]
      }
     ],
     "prompt_number": 70
    },
    {
     "cell_type": "heading",
     "level": 2,
     "metadata": {},
     "source": [
      "Example 6.11 Page no 338"
     ]
    },
    {
     "cell_type": "code",
     "collapsed": false,
     "input": [
      "#Given\n",
      "a=28\n",
      "b=5.0\n",
      "c=2\n",
      "\n",
      "#Calculation\n",
      "Rak=a/(b*c)\n",
      "\n",
      "#Result\n",
      "print\"Total resistance from one end of vacant edge to other end is\", Rak,\"ohm\""
     ],
     "language": "python",
     "metadata": {},
     "outputs": [
      {
       "output_type": "stream",
       "stream": "stdout",
       "text": [
        "Total resistance from one end of vacant edge to other end is 2.8 ohm\n"
       ]
      }
     ],
     "prompt_number": 74
    },
    {
     "cell_type": "heading",
     "level": 2,
     "metadata": {},
     "source": [
      "Example 6.12 Page no 345"
     ]
    },
    {
     "cell_type": "code",
     "collapsed": false,
     "input": [
      "#Given\n",
      "R=10\n",
      "l2=68.5\n",
      "l1=58.3\n",
      "\n",
      "#Calculation\n",
      "X=R*(l2/l1)\n",
      "\n",
      "#Result\n",
      "print\"Value of X is\", round(X,1),\"ohm\""
     ],
     "language": "python",
     "metadata": {},
     "outputs": [
      {
       "output_type": "stream",
       "stream": "stdout",
       "text": [
        "Value of X is 11.7 ohm\n"
       ]
      }
     ],
     "prompt_number": 78
    },
    {
     "cell_type": "heading",
     "level": 2,
     "metadata": {},
     "source": [
      "Example 6.13 Page no 346"
     ]
    },
    {
     "cell_type": "code",
     "collapsed": false,
     "input": [
      "#Given\n",
      "R=2                   #ohm\n",
      "R1=2.4                 #ohm\n",
      "V=4                    #V\n",
      "E=1.5\n",
      "\n",
      "#Calculation\n",
      "R11=R+R1\n",
      "I=V/R11\n",
      "Vab=I*R\n",
      "K=Vab\n",
      "l=E/K\n",
      "\n",
      "#Result\n",
      "print\"Length for zero galvanometer deflection is\", l,\"m\""
     ],
     "language": "python",
     "metadata": {},
     "outputs": [
      {
       "output_type": "stream",
       "stream": "stdout",
       "text": [
        "Length for zero galvanometer deflection is 0.825 m\n"
       ]
      }
     ],
     "prompt_number": 85
    },
    {
     "cell_type": "heading",
     "level": 2,
     "metadata": {},
     "source": [
      "Example 6.15 Page no 347"
     ]
    },
    {
     "cell_type": "code",
     "collapsed": false,
     "input": [
      "#Given\n",
      "l1=33.7\n",
      "l2=51.9\n",
      "\n",
      "#Calculation\n",
      "S1=l1/(100-l1)\n",
      "s11=l2/(100-l2)\n",
      "s=((s11*12)/S1)-12\n",
      "R=s*S1\n",
      "\n",
      "#Result\n",
      "print\"Value of R is\", round(R,2),\"ohm \\nValue of S is\",round(s,1),\"ohm\""
     ],
     "language": "python",
     "metadata": {},
     "outputs": [
      {
       "output_type": "stream",
       "stream": "stdout",
       "text": [
        "Value of R is 6.85 ohm \n",
        "Value of S is 13.5 ohm\n"
       ]
      }
     ],
     "prompt_number": 95
    },
    {
     "cell_type": "heading",
     "level": 2,
     "metadata": {},
     "source": [
      "Example 6.16 Page no 347"
     ]
    },
    {
     "cell_type": "code",
     "collapsed": false,
     "input": [
      "#Given\n",
      "a=0.4\n",
      "b=0.6\n",
      "lab=10\n",
      "\n",
      "#Calculation\n",
      "K=a/b\n",
      "Vab=K*lab\n",
      "\n",
      "#Result\n",
      "print\"(i) Potentila gradient along AB is\",round(K,2),\"V/m\"\n",
      "print \"(ii) P.D between point A and B is\",round(Vab,2),\"V\""
     ],
     "language": "python",
     "metadata": {},
     "outputs": [
      {
       "output_type": "stream",
       "stream": "stdout",
       "text": [
        "(i) Potentila gradient along AB is 0.67 V/m\n",
        "(ii) P.D between point A and B is 6.67 V\n"
       ]
      }
     ],
     "prompt_number": 103
    },
    {
     "cell_type": "heading",
     "level": 2,
     "metadata": {},
     "source": [
      "Example 6.17 Page no 348"
     ]
    },
    {
     "cell_type": "code",
     "collapsed": false,
     "input": [
      "#Given\n",
      "R1=990                        #ohm\n",
      "R=10.0                        #ohm\n",
      "E=2\n",
      "l=1000                            #mm\n",
      "l1=400                            #mm\n",
      "\n",
      "#Calculation\n",
      "Rt=R1+R\n",
      "I=E/Rt\n",
      "pd=I*R\n",
      "K=pd/l\n",
      "pd1=K*l1\n",
      "\n",
      "#Result\n",
      "print\"e.m.f. generated by the thermocouple is\", pd1,\"V\""
     ],
     "language": "python",
     "metadata": {},
     "outputs": [
      {
       "output_type": "stream",
       "stream": "stdout",
       "text": [
        "e.m.f. generated by the thermocouple is 0.008 V\n"
       ]
      }
     ],
     "prompt_number": 111
    },
    {
     "cell_type": "heading",
     "level": 2,
     "metadata": {},
     "source": [
      "Example 6.18 Page no 348"
     ]
    },
    {
     "cell_type": "code",
     "collapsed": false,
     "input": [
      "#Given\n",
      "AB=600              #cm\n",
      "AC=500.0               #cm\n",
      "l=40*10**-3           #A\n",
      "E=2\n",
      "r=10\n",
      "\n",
      "#Calculation\n",
      "R=2*AB/(AC*l)\n",
      "K=2/AC\n",
      "AC1=AC-r\n",
      "pd=K*AC1\n",
      "Iv=(E-pd)/r\n",
      "R1=pd/Iv\n",
      "\n",
      "#Result\n",
      "print\"(i) The resistance of the whole wire is\", R,\"ohm\"\n",
      "print\"(ii) Reading of voltmeter is\", pd,\"V\"\n",
      "print\"(iii) Resistance of the voltmeter is\",R1,\"ohm\""
     ],
     "language": "python",
     "metadata": {},
     "outputs": [
      {
       "output_type": "stream",
       "stream": "stdout",
       "text": [
        "(i) The resistance of the whole wire is 60.0 ohm\n",
        "(ii) Reading of voltmeter is 1.96 V\n",
        "(iii) Resistance of the voltmeter is 490.0 ohm\n"
       ]
      }
     ],
     "prompt_number": 124
    },
    {
     "cell_type": "heading",
     "level": 2,
     "metadata": {},
     "source": [
      "Example 6.20 Page no 350"
     ]
    },
    {
     "cell_type": "code",
     "collapsed": false,
     "input": [
      "#Given\n",
      "a=6\n",
      "b=2\n",
      "\n",
      "#Calculation\n",
      "R1=a/((b*b)-1)\n",
      "R2=b*R1\n",
      "\n",
      "#Result\n",
      "print\"Resistance R1 is\", R1,\"ohm \\nR2 is\",R2,\"Ohm\""
     ],
     "language": "python",
     "metadata": {},
     "outputs": [
      {
       "output_type": "stream",
       "stream": "stdout",
       "text": [
        "Resistance R1 is 2 ohm \n",
        "R2 is 4 Ohm\n"
       ]
      }
     ],
     "prompt_number": 130
    },
    {
     "cell_type": "heading",
     "level": 2,
     "metadata": {},
     "source": [
      "Example 6.21 Page no 350"
     ]
    },
    {
     "cell_type": "code",
     "collapsed": false,
     "input": [
      "#Given\n",
      "R=20                       #ohm\n",
      "L=10                       #m\n",
      "pd=10**-3                  #V/m\n",
      "V=10**-2                   #Volts\n",
      "\n",
      "#Calculation\n",
      "I=V/R\n",
      "R11=(2/I)-R\n",
      "\n",
      "#Result\n",
      "print\"The value of resistance is\", R11,\"ohm\""
     ],
     "language": "python",
     "metadata": {},
     "outputs": [
      {
       "output_type": "stream",
       "stream": "stdout",
       "text": [
        "The value of resistance is 3980.0 ohm\n"
       ]
      }
     ],
     "prompt_number": 134
    }
   ],
   "metadata": {}
  }
 ]
}