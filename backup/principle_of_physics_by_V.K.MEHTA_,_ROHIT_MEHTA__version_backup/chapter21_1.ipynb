{
 "metadata": {
  "name": "",
  "signature": "sha256:5eb9e6d48b48ecf2d0c9ee8abbe7a462b6b60df5a09da8ebed0ac004de2a0383"
 },
 "nbformat": 3,
 "nbformat_minor": 0,
 "worksheets": [
  {
   "cells": [
    {
     "cell_type": "heading",
     "level": 1,
     "metadata": {},
     "source": [
      "Chapter 21 Huygen Principle and interference "
     ]
    },
    {
     "cell_type": "heading",
     "level": 2,
     "metadata": {},
     "source": [
      "Example 21.1 Page no 1090"
     ]
    },
    {
     "cell_type": "code",
     "collapsed": false,
     "input": [
      "#Goven\n",
      "d=5*10**-3                             #m\n",
      "D=1.0                                   #m\n",
      "b=0.1092*10**-3\n",
      "\n",
      "#Calculation\n",
      "l=(d*b)/D\n",
      "\n",
      "#Result\n",
      "print\"Wavelength of light used is\", l*10**10,\"A\""
     ],
     "language": "python",
     "metadata": {},
     "outputs": [
      {
       "output_type": "stream",
       "stream": "stdout",
       "text": [
        "Wavelength of light used is 5460.0 A\n"
       ]
      }
     ],
     "prompt_number": 6
    },
    {
     "cell_type": "heading",
     "level": 2,
     "metadata": {},
     "source": [
      "Example 21.2 Page no 1090"
     ]
    },
    {
     "cell_type": "code",
     "collapsed": false,
     "input": [
      "#Given\n",
      "l=6200*10**-10                   #m\n",
      "D=0.8\n",
      "b=2.8*10**-3/4.0\n",
      "\n",
      "#Calculation\n",
      "d=(l*D)/b\n",
      "\n",
      "#Result\n",
      "print\"Separation of the two slit is\", round(d*10**3,1),\"mm\""
     ],
     "language": "python",
     "metadata": {},
     "outputs": [
      {
       "output_type": "stream",
       "stream": "stdout",
       "text": [
        "Separation of the two slit is 0.7 mm\n"
       ]
      }
     ],
     "prompt_number": 13
    },
    {
     "cell_type": "heading",
     "level": 2,
     "metadata": {},
     "source": [
      "Example 21.3 Page no 1090"
     ]
    },
    {
     "cell_type": "code",
     "collapsed": false,
     "input": [
      "#Given\n",
      "a=62\n",
      "l=5893\n",
      "l1=4358.0\n",
      "\n",
      "#Calculation\n",
      "n=(a*l)/l1\n",
      "\n",
      "#Result\n",
      "print\"Fringes required is\", round(n,0)"
     ],
     "language": "python",
     "metadata": {},
     "outputs": [
      {
       "output_type": "stream",
       "stream": "stdout",
       "text": [
        "Fringes required is 84.0\n"
       ]
      }
     ],
     "prompt_number": 16
    },
    {
     "cell_type": "heading",
     "level": 2,
     "metadata": {},
     "source": [
      "Example 21.4 Page no 1091"
     ]
    },
    {
     "cell_type": "code",
     "collapsed": false,
     "input": [
      "#Given\n",
      "l=6000*10**-10                       #m\n",
      "D=0.800                               #m\n",
      "d=0.200*10**-3                         #m\n",
      "\n",
      "#Calculation\n",
      "x2=(3*l*D)/(2.0*d)\n",
      "x21=(2*D*l)/d\n",
      "\n",
      "#Result\n",
      "print\"(i) Distance of the second dark fringe is\", x2*10**2,\"cm\"\n",
      "print\"(ii) Distance of the second dark fringe is\", x21*10**2,\"cm\""
     ],
     "language": "python",
     "metadata": {},
     "outputs": [
      {
       "output_type": "stream",
       "stream": "stdout",
       "text": [
        "(i) Distance of the second dark fringe is 0.36 cm\n",
        "(ii) Distance of the second dark fringe is 0.48 cm\n"
       ]
      }
     ],
     "prompt_number": 25
    },
    {
     "cell_type": "heading",
     "level": 2,
     "metadata": {},
     "source": [
      "Example 21.6 Page no 1091"
     ]
    },
    {
     "cell_type": "code",
     "collapsed": false,
     "input": [
      "#Given\n",
      "Imax=16\n",
      "Imin=4\n",
      "\n",
      "#Calculation\n",
      "r=Imax/Imin\n",
      "\n",
      "#Result\n",
      "print\"Deduce the ratio of intensity is\", r,\":1\""
     ],
     "language": "python",
     "metadata": {},
     "outputs": [
      {
       "output_type": "stream",
       "stream": "stdout",
       "text": [
        "Deduce the ratio of intensity is 4 :1\n"
       ]
      }
     ],
     "prompt_number": 29
    },
    {
     "cell_type": "heading",
     "level": 2,
     "metadata": {},
     "source": [
      "Example 21.7 Page no 1092"
     ]
    },
    {
     "cell_type": "code",
     "collapsed": false,
     "input": [
      "#Given\n",
      "b=2\n",
      "u=1.33\n",
      "\n",
      "#Calculation\n",
      "b1=b/u\n",
      "\n",
      "#Result\n",
      "print\"Fringe width is\", round(b1,1),\"mm\""
     ],
     "language": "python",
     "metadata": {},
     "outputs": [
      {
       "output_type": "stream",
       "stream": "stdout",
       "text": [
        "Fringe width is 1.5 mm\n"
       ]
      }
     ],
     "prompt_number": 33
    },
    {
     "cell_type": "heading",
     "level": 2,
     "metadata": {},
     "source": [
      "Example 21.8 Page no 1092"
     ]
    },
    {
     "cell_type": "code",
     "collapsed": false,
     "input": [
      "#Given\n",
      "b2=0.4\n",
      "b1=0.6\n",
      "l1=5000\n",
      "\n",
      "#Calculation\n",
      "l2=(b2*2*l1)/b1\n",
      "\n",
      "#Result\n",
      "print\"Wavelength of the light is\", round(l2,0),\"A\""
     ],
     "language": "python",
     "metadata": {},
     "outputs": [
      {
       "output_type": "stream",
       "stream": "stdout",
       "text": [
        "Wavelength of the light is 6667.0 A\n"
       ]
      }
     ],
     "prompt_number": 37
    },
    {
     "cell_type": "heading",
     "level": 2,
     "metadata": {},
     "source": [
      "Example 21.9 Page no 1092"
     ]
    },
    {
     "cell_type": "code",
     "collapsed": false,
     "input": [
      "#Given\n",
      "d=0.125*10**-3                     #m\n",
      "l=4500*10**-10                      #m\n",
      "D=1                                 #m\n",
      "\n",
      "#Calculation\n",
      "x2=(2*D*l)/d\n",
      "d1=2*x2\n",
      "\n",
      "#Result\n",
      "print\"Separation between the fringes is\", d1*10**3,\"mm\""
     ],
     "language": "python",
     "metadata": {},
     "outputs": [
      {
       "output_type": "stream",
       "stream": "stdout",
       "text": [
        "Separation between the fringes is 14.4 mm\n"
       ]
      }
     ],
     "prompt_number": 42
    },
    {
     "cell_type": "heading",
     "level": 2,
     "metadata": {},
     "source": [
      "Example 21.10 Page no 1092"
     ]
    },
    {
     "cell_type": "code",
     "collapsed": false,
     "input": [
      "#Given\n",
      "Imax=121\n",
      "Imin=81.0\n",
      "\n",
      "#Calculation\n",
      "a=Imax/Imin\n",
      "\n",
      "#Result\n",
      "print\"The ratio of intensity at the maxima and minima is\",round(a,2)"
     ],
     "language": "python",
     "metadata": {},
     "outputs": [
      {
       "output_type": "stream",
       "stream": "stdout",
       "text": [
        "The ratio of intensity at the maxima and minima is 1.49\n"
       ]
      }
     ],
     "prompt_number": 46
    },
    {
     "cell_type": "heading",
     "level": 2,
     "metadata": {},
     "source": [
      "Example 21.13 Page no 1093"
     ]
    },
    {
     "cell_type": "code",
     "collapsed": false,
     "input": [
      "#Given\n",
      "l=5.0                         #m\n",
      "d=1                              #mm\n",
      "\n",
      "#Calculation\n",
      "a=d/l\n",
      "\n",
      "#Result\n",
      "print\"Width of each slit is\", a,\"mm\""
     ],
     "language": "python",
     "metadata": {},
     "outputs": [
      {
       "output_type": "stream",
       "stream": "stdout",
       "text": [
        "Width of each slit is 0.2 mm\n"
       ]
      }
     ],
     "prompt_number": 49
    }
   ],
   "metadata": {}
  }
 ]
}