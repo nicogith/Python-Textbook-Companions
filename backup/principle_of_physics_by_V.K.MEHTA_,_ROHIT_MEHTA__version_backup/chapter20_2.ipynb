{
 "metadata": {
  "name": "",
  "signature": "sha256:49e10d509d6c3c83253662b249f2d9cebaf084cb6d339d2868de883d5e7038f4"
 },
 "nbformat": 3,
 "nbformat_minor": 0,
 "worksheets": [
  {
   "cells": [
    {
     "cell_type": "heading",
     "level": 1,
     "metadata": {},
     "source": [
      "Chapter 20 Photometry"
     ]
    },
    {
     "cell_type": "heading",
     "level": 2,
     "metadata": {},
     "source": [
      "Example 20.1 Page no 1055"
     ]
    },
    {
     "cell_type": "code",
     "collapsed": false,
     "input": [
      "#Given\n",
      "E=2.5*10**5                             #lm/m**2\n",
      "r=1.5*10**11                            #m\n",
      "\n",
      "#Calculation\n",
      "import math\n",
      "l=E*r**2\n",
      "a=4*math.pi*l\n",
      "\n",
      "#Result\n",
      "print\"(i) Luminous intensity is\", l,\"cd\"\n",
      "print\"(ii) Luminous flux of the sun is\",round(a*10**-28,3)*10**28,\"lm\""
     ],
     "language": "python",
     "metadata": {},
     "outputs": [
      {
       "output_type": "stream",
       "stream": "stdout",
       "text": [
        "(i) Luminous intensity is 5.625e+27 cd\n",
        "(ii) Luminous flux of the sun is 7.069e+28 lm\n"
       ]
      }
     ],
     "prompt_number": 9
    },
    {
     "cell_type": "heading",
     "level": 2,
     "metadata": {},
     "source": [
      "Example 20.2 Page no 1055"
     ]
    },
    {
     "cell_type": "code",
     "collapsed": false,
     "input": [
      "#Given\n",
      "I2=150\n",
      "I1=75.0\n",
      "E1=20\n",
      "\n",
      "#Calculation\n",
      "E2=(I2*E1)/I1\n",
      "\n",
      "#Result\n",
      "print\"Illumination is\", E2,\"lux\""
     ],
     "language": "python",
     "metadata": {},
     "outputs": [
      {
       "output_type": "stream",
       "stream": "stdout",
       "text": [
        "Illumination is 40.0 lux\n"
       ]
      }
     ],
     "prompt_number": 12
    },
    {
     "cell_type": "heading",
     "level": 2,
     "metadata": {},
     "source": [
      "Example 20.3 Page no 1056"
     ]
    },
    {
     "cell_type": "code",
     "collapsed": false,
     "input": [
      "#Given\n",
      "I=35\n",
      "e=5.0                                #lumen/watt\n",
      "\n",
      "#Calculation\n",
      "import math\n",
      "a=4*math.pi*I\n",
      "P=a/e\n",
      "\n",
      "#Result\n",
      "print\"Power of the lamp is\", round(P,0),\"Watt\""
     ],
     "language": "python",
     "metadata": {},
     "outputs": [
      {
       "output_type": "stream",
       "stream": "stdout",
       "text": [
        "Power of the lamp is 88.0 Watt\n"
       ]
      }
     ],
     "prompt_number": 17
    },
    {
     "cell_type": "heading",
     "level": 2,
     "metadata": {},
     "source": [
      "Example 20.4 Page no 1056"
     ]
    },
    {
     "cell_type": "code",
     "collapsed": false,
     "input": [
      "#Given\n",
      "a=1260\n",
      "r=8                                   #m\n",
      "a1=6\n",
      "\n",
      "#Calculation\n",
      "import math\n",
      "I=a/(4.0*math.pi)\n",
      "Ea=I/r**2\n",
      "LB=math.sqrt(r**2+a1**2)\n",
      "cos=r/LB\n",
      "Eb=(I*cos)/LB**2\n",
      "\n",
      "#Result\n",
      "print\"(i) The illumination at a point immediately below the lamp is\", round(Ea,2),\"lux\"\n",
      "print\"(ii) The illumination on the working plane is\",round(Eb,1),\"lux\""
     ],
     "language": "python",
     "metadata": {},
     "outputs": [
      {
       "output_type": "stream",
       "stream": "stdout",
       "text": [
        "(i) The illumination at a point immediately below the lamp is 1.57 lux\n",
        "(ii) The illumination on the working plane is 0.8 lux\n"
       ]
      }
     ],
     "prompt_number": 32
    },
    {
     "cell_type": "heading",
     "level": 2,
     "metadata": {},
     "source": [
      "Example 20.5 Page no 1056"
     ]
    },
    {
     "cell_type": "code",
     "collapsed": false,
     "input": [
      "#Given\n",
      "r=6.0                             #m\n",
      "I=250                            #cd\n",
      "PQ=8\n",
      "\n",
      "#Calculation\n",
      "Ep=I/r**2\n",
      "LQ=math.sqrt(r**2+PQ**2)\n",
      "cos=r/LQ\n",
      "EQ=(I*cos)/LQ**2\n",
      "\n",
      "#Result\n",
      "print\"(i) Illumination at a point P is\", round(Ep,2),\"lux\"\n",
      "print\"(ii) illumination at a point Q is\",EQ,\"lux\""
     ],
     "language": "python",
     "metadata": {},
     "outputs": [
      {
       "output_type": "stream",
       "stream": "stdout",
       "text": [
        "(i) Illumination at a point P is 6.94 lux\n",
        "(ii) illumination at a point Q is 1.5 lux\n"
       ]
      }
     ],
     "prompt_number": 40
    },
    {
     "cell_type": "heading",
     "level": 2,
     "metadata": {},
     "source": [
      "Example 20.6 Page no 1057"
     ]
    },
    {
     "cell_type": "code",
     "collapsed": false,
     "input": [
      "#Given\n",
      "t1=2.5                    #second\n",
      "r1=0.5\n",
      "r2=1\n",
      "\n",
      "#Calculation\n",
      "t2=(t1*r2**2)/r1**2\n",
      "\n",
      "#Result\n",
      "print\"exposure time is\",t2,\"s\""
     ],
     "language": "python",
     "metadata": {},
     "outputs": [
      {
       "output_type": "stream",
       "stream": "stdout",
       "text": [
        "exposure time is 10.0 s\n"
       ]
      }
     ],
     "prompt_number": 42
    },
    {
     "cell_type": "heading",
     "level": 2,
     "metadata": {},
     "source": [
      "Example 20.7 Page no 1058"
     ]
    },
    {
     "cell_type": "code",
     "collapsed": false,
     "input": [
      "#Given\n",
      "i2=60\n",
      "r2=105.0\n",
      "r1=70\n",
      "\n",
      "#Calculation\n",
      "i1=(i2*r1**2)/r2**2\n",
      "\n",
      "#Result\n",
      "print\"The luminous intensity of the first lamp is\",round(i1,2),\"cd\""
     ],
     "language": "python",
     "metadata": {},
     "outputs": [
      {
       "output_type": "stream",
       "stream": "stdout",
       "text": [
        "The luminous intensity of the first lamp is 26.67 cd\n"
       ]
      }
     ],
     "prompt_number": 45
    },
    {
     "cell_type": "heading",
     "level": 2,
     "metadata": {},
     "source": [
      "Example 20.8 Page no 1059"
     ]
    },
    {
     "cell_type": "code",
     "collapsed": false,
     "input": [
      "#Given\n",
      "ra=60\n",
      "rb=45.0\n",
      "a=40.0\n",
      "\n",
      "#Calculation\n",
      "ia1=(ra**2)/(rb**2)\n",
      "ia=(ra**2)/(a**2)\n",
      "i=ia-ia1\n",
      "A=(i*100)/ia\n",
      "\n",
      "#Result\n",
      "print\"percentage of light is absorbed by the glass is\",round(A,0),\"%\""
     ],
     "language": "python",
     "metadata": {},
     "outputs": [
      {
       "output_type": "stream",
       "stream": "stdout",
       "text": [
        "percentage of light is absorbed by the glass is 21.0 %\n"
       ]
      }
     ],
     "prompt_number": 52
    }
   ],
   "metadata": {}
  }
 ]
}