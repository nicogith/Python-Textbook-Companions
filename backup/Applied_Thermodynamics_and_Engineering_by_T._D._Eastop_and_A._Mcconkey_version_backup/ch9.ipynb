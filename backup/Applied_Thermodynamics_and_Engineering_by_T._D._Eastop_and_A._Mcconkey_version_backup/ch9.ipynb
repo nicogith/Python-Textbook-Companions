{
 "metadata": {
  "name": "",
  "signature": "sha256:512dac66811a3f49aa4547133f350721d7f8293f683c8b2dac1cf4662066ad2e"
 },
 "nbformat": 3,
 "nbformat_minor": 0,
 "worksheets": [
  {
   "cells": [
    {
     "cell_type": "heading",
     "level": 1,
     "metadata": {},
     "source": [
      "Chapter 9 : Solid State Microwave Devices"
     ]
    },
    {
     "cell_type": "heading",
     "level": 2,
     "metadata": {},
     "source": [
      "Example 9.1  Page No : 387"
     ]
    },
    {
     "cell_type": "code",
     "collapsed": false,
     "input": [
      "import math\n",
      "\n",
      "v_d = 10**7*10**-2                           #drift velocity(in m/s)\n",
      "L = 2.*10**-6                                 #drift length(in m)\n",
      "\n",
      "#calculations\n",
      "f = v_d/(2*L)                                #in Hz\n",
      "#---output---#\n",
      "print 'Operating Frequency (in GHz) =',round(f/10**9,4)\n"
     ],
     "language": "python",
     "metadata": {},
     "outputs": [
      {
       "output_type": "stream",
       "stream": "stdout",
       "text": [
        "Operating Frequency (in GHz) = 25.0\n"
       ]
      }
     ],
     "prompt_number": 1
    },
    {
     "cell_type": "heading",
     "level": 2,
     "metadata": {},
     "source": [
      "Example 9.2  Page No : 392"
     ]
    },
    {
     "cell_type": "code",
     "collapsed": false,
     "input": [
      "import math\n",
      "\n",
      "f=10*10**9                 #in Hz\n",
      "L=75*10**-6                #Device length (in m)\n",
      "V=25.                       #Voltage pulse amplified (in volts)\n",
      "\n",
      "#calculations\n",
      "E_th=V/L\n",
      "#---output---#\n",
      "print 'Threshold Electric field (in kV/cm) =',round(E_th,4)\n"
     ],
     "language": "python",
     "metadata": {},
     "outputs": [
      {
       "output_type": "stream",
       "stream": "stdout",
       "text": [
        "Threshold Electric field (in kV/cm) = 333333.3333\n"
       ]
      }
     ],
     "prompt_number": 2
    },
    {
     "cell_type": "heading",
     "level": 2,
     "metadata": {},
     "source": [
      "Example 9.3  Page No : 399"
     ]
    },
    {
     "cell_type": "code",
     "collapsed": false,
     "input": [
      "import math \n",
      "\n",
      "f_s = 2*10**9                          #in Hz\n",
      "f_p = 12*10**9                         #in Hz\n",
      "R_i = 16\n",
      "R_s = 1000\n",
      "#calculations\n",
      "A_p = 10*math.log((f_p-f_s)/f_s)\n",
      "A_p_usb = 10*math.log((f_p+f_s)/f_s)\n",
      "#---output---#\n",
      "print 'Power gain (in dB) =',round(math.log(10),4)\n",
      "print 'Power gain as USB converter (in dB) =',round(A_p_usb,4)\n"
     ],
     "language": "python",
     "metadata": {},
     "outputs": [
      {
       "output_type": "stream",
       "stream": "stdout",
       "text": [
        "Power gain (in dB) = 2.3026\n",
        "Power gain as USB converter (in dB) = 19.4591\n"
       ]
      }
     ],
     "prompt_number": 3
    },
    {
     "cell_type": "heading",
     "level": 2,
     "metadata": {},
     "source": [
      "Example 9.4  Page No : 405"
     ]
    },
    {
     "cell_type": "code",
     "collapsed": false,
     "input": [
      "import math \n",
      "\n",
      "E_s = 12.5\n",
      "E_o = 8.85*10**-12\n",
      "N = 3.2*10**22                         #per cubic meter\n",
      "L = 8*10**-6                           #in m\n",
      "q = 1.6*10**-19                        #in coulombs\n",
      "#calculations\n",
      "E = E_o*E_s\n",
      "V_c = q*N*L**2/(2*E)\n",
      "V_bd = 2*V_c\n",
      "E_bd = V_bd/L\n",
      "\n",
      "#---output---#\n",
      "print 'Critical voltage(in kV) =',round(V_c/10**3,4)\n",
      "print 'Breakdown Voltage (in kV) =',round(V_bd/10**3,4)\n",
      "print 'Breakdown Electric field (in V/cm) =',round(E_bd,4)\n"
     ],
     "language": "python",
     "metadata": {},
     "outputs": [
      {
       "output_type": "stream",
       "stream": "stdout",
       "text": [
        "Critical voltage(in kV) = 1.481\n",
        "Breakdown Voltage (in kV) = 2.9621\n",
        "Breakdown Electric field (in V/cm) = 370259887.006\n"
       ]
      }
     ],
     "prompt_number": 4
    },
    {
     "cell_type": "heading",
     "level": 2,
     "metadata": {},
     "source": [
      "Example 9.5  Page No : 411"
     ]
    },
    {
     "cell_type": "code",
     "collapsed": false,
     "input": [
      "import math \n",
      "\n",
      "N_a = 2.5*10**16                                #per cubic cm\n",
      "J = 33                                          #in kA/cm**2\n",
      "q = 1.6*10**-19\n",
      "\n",
      "#calculations\n",
      "V_z = J/(q*N_a)                                 #Avalanche zone velocity (in cm/s)\n",
      "#---output---#\n",
      "print 'Avalanche zone velocity (in cm/s) =',round(V_z,4)\n"
     ],
     "language": "python",
     "metadata": {},
     "outputs": [
      {
       "output_type": "stream",
       "stream": "stdout",
       "text": [
        "Avalanche zone velocity (in cm/s) = 8250.0\n"
       ]
      }
     ],
     "prompt_number": 5
    },
    {
     "cell_type": "heading",
     "level": 2,
     "metadata": {},
     "source": [
      "Example 9.6  Page No : 414"
     ]
    },
    {
     "cell_type": "code",
     "collapsed": false,
     "input": [
      "import math \n",
      " \n",
      "R_neg = 25                    #in ohm\n",
      "R_load = 50.                   #in ohm\n",
      "\n",
      "#calculations\n",
      "G=((- abs(R_neg)-R_load)/(- abs(R_neg)+R_load))**2\n",
      "#---output---#\n",
      "print 'Power gain =',round(G,4)\n"
     ],
     "language": "python",
     "metadata": {},
     "outputs": [
      {
       "output_type": "stream",
       "stream": "stdout",
       "text": [
        "Power gain = 9.0\n"
       ]
      }
     ],
     "prompt_number": 6
    },
    {
     "cell_type": "heading",
     "level": 2,
     "metadata": {},
     "source": [
      "Example 9.7  Page No : 422"
     ]
    },
    {
     "cell_type": "code",
     "collapsed": false,
     "input": [
      "import math \n",
      "\n",
      "\n",
      "volt_grad = 3.3*10**3                                        #voltage gradient\n",
      "L  = 5*10**-4                                                #in drift length\n",
      "\n",
      "#calculations\n",
      "V_min = volt_grad*L                                          #in volts\n",
      "\n",
      "#---output---#\n",
      "print 'Minimum voltage needed (in Volts) =',round(V_min,4)\n"
     ],
     "language": "python",
     "metadata": {},
     "outputs": [
      {
       "output_type": "stream",
       "stream": "stdout",
       "text": [
        "Minimum voltage needed (in Volts) = 1.65\n"
       ]
      }
     ],
     "prompt_number": 7
    },
    {
     "cell_type": "heading",
     "level": 2,
     "metadata": {},
     "source": [
      "Example 9.8  Page No : 430"
     ]
    },
    {
     "cell_type": "code",
     "collapsed": false,
     "input": [
      "import math \n",
      "\n",
      "v_d = 2.*10**7                           #in cm/s\n",
      "L = 20.*10**-4                           #in cm\n",
      "\n",
      "#calculations\n",
      "f = v_d/L\n",
      "critical_field = 3.3*10**3\n",
      "V = L*critical_field\n",
      "\n",
      "#---output---#\n",
      "print 'Natural frequency (in GHz) =',round(f*10**-9,4)\n",
      "print 'Critical voltage (in volts) =',round(V,4)\n"
     ],
     "language": "python",
     "metadata": {},
     "outputs": [
      {
       "output_type": "stream",
       "stream": "stdout",
       "text": [
        "Natural frequency (in GHz) = 10.0\n",
        "Critical voltage (in volts) = 6.6\n"
       ]
      }
     ],
     "prompt_number": 8
    }
   ],
   "metadata": {}
  }
 ]
}