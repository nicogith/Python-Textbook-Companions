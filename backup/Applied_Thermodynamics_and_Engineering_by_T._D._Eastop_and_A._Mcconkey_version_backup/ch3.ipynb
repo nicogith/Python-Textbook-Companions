{
 "metadata": {
  "name": "",
  "signature": "sha256:5da19df02b27c4cac3417f04cccf7af3cbc7e591ffe4f1128603d1edc459b37f"
 },
 "nbformat": 3,
 "nbformat_minor": 0,
 "worksheets": [
  {
   "cells": [
    {
     "cell_type": "heading",
     "level": 1,
     "metadata": {},
     "source": [
      "Chapter 3 : Transmission Lines"
     ]
    },
    {
     "cell_type": "heading",
     "level": 2,
     "metadata": {},
     "source": [
      "Example 3.1  Page No : 4"
     ]
    },
    {
     "cell_type": "code",
     "collapsed": false,
     "input": [
      "\n",
      "#Given:\n",
      "Z_ch = 100            #in ohms\n",
      "S = 5                 #VSWR (unitless)\n",
      "\n",
      "#calclations\n",
      "Z = Z_ch*S \n",
      "\n",
      "\n",
      "#---output---#\n",
      "print 'The terminating impedence =',Z, 'ohms'\n"
     ],
     "language": "python",
     "metadata": {},
     "outputs": [
      {
       "output_type": "stream",
       "stream": "stdout",
       "text": [
        "The terminating impedence = 500 ohms\n"
       ]
      }
     ],
     "prompt_number": 2
    },
    {
     "cell_type": "heading",
     "level": 2,
     "metadata": {},
     "source": [
      "Example 3.2  Page No : 5"
     ]
    },
    {
     "cell_type": "code",
     "collapsed": false,
     "input": [
      "import math \n",
      "\n",
      "#Given\n",
      "e = 2.718\n",
      "R = 8\n",
      "f = 2000                                                   #in ohm/kilometer\n",
      "\n",
      "#calculations\n",
      "L = 2*10**-3                                               #in henry/kilometer\n",
      "C = 0.002*10**-6                                           #in farad/kilometer\n",
      "G = 0.07*10**-6                                            #second/kilometer\n",
      "                                                           #in hertz\n",
      "                                                           #Since [w=2*(pi)*f] & [Zch={(R+jwL)/(G+jwC)}**0.5]\n",
      "w = 2*math.pi*f                                            #in radians\n",
      "                                                           #Z_ch=((R+(w*L)j)/(G+(w*C)j))**0.5 #computing characteristic impedance\n",
      "Z_ch = (complex(R,w*L)/complex(G,w*C))**0.5                #computing characteristic impedance\n",
      "y = Z_ch\n",
      "a = y.real                                                 #atteneuation consmath.tant\n",
      "b = y.imag                                                 #phase consmath.tant\n",
      "V_in = 2                                                   #in volts\n",
      "l = 500                                                    #in kilometers\n",
      "Z_in = Z_ch                                                #Since line terminated at its char. imped. so, Z_in=Z_ch=Z(load)\n",
      "I_s = V_in/Z_in\n",
      "Imag = (((((I_s).real)**2)+(((I_s).imag)**2))**0.5)*10**3  #in milliampere\n",
      "Iang = math.atan((I_s).imag/(I_s).real)*(180/math.pi)      #in degrees\n",
      "I = Imag*e**-1.99                                          #I=Is*e**-yl\n",
      "P = I*I*(Z_ch).real\n",
      "\n",
      "\n",
      "#---output--#\n",
      "print \"Characteristic impedance (in ohms) =\",Z_ch,4\n",
      "print \"Atteneuation constant (in NP/km) =\",round(a,4)\n",
      "print \"Phase constant (in radian/km) =\",round(b,4)\n",
      "                                                         #P(power delivered)=I*I*REAL(Z_ch)\n",
      "\n",
      "print \"Power delivered to load (in microwatt =\",round(P,4),\")\"\n"
     ],
     "language": "python",
     "metadata": {},
     "outputs": [
      {
       "output_type": "stream",
       "stream": "stdout",
       "text": [
        "Characteristic impedance (in ohms) = (1012.50018135-155.813417548j) 4\n",
        "Atteneuation constant (in NP/km) = 1012.5002\n",
        "Phase constant (in radian/km) = -155.8134\n",
        "Power delivered to load (in microwatt = 72.1418 )\n"
       ]
      }
     ],
     "prompt_number": 5
    },
    {
     "cell_type": "heading",
     "level": 2,
     "metadata": {},
     "source": [
      "Example 3.3  Page No : 13"
     ]
    },
    {
     "cell_type": "code",
     "collapsed": false,
     "input": [
      "import math \n",
      "\n",
      "#calculations\n",
      "b = 0.02543                   #in rad/km\n",
      "\n",
      "\n",
      "#calulations\n",
      "w = 4*math.pi*10**3           #in rad/sec\n",
      "V_p = w/b                     # phase velocity\n",
      "\n",
      "\n",
      "\n",
      "#---output---#\n",
      "print \"Phase velocity (in km/sec) =\",round(V_p,4)\n"
     ],
     "language": "python",
     "metadata": {},
     "outputs": [
      {
       "output_type": "stream",
       "stream": "stdout",
       "text": [
        "Phase velocity (in km/sec) = 494155.3525\n"
       ]
      }
     ],
     "prompt_number": 6
    },
    {
     "cell_type": "heading",
     "level": 2,
     "metadata": {},
     "source": [
      "Example 3.4  Page No : 18"
     ]
    },
    {
     "cell_type": "code",
     "collapsed": false,
     "input": [
      "import math \n",
      "\n",
      "#calculations\n",
      "f = 37.5*10**6                           #frequency(in hertz)\n",
      "wl = (3*10**8)/f                         #wavelength (in meters)\n",
      "Z_l = 100                                #in ohms\n",
      "Z_o = 200                                #in ohms\n",
      "l = 5*wl/4                               #length of line (in meters)\n",
      "b = 2*math.pi/wl\n",
      "                                         #At generator end,\n",
      "Z_i = Z_o*(complex(Z_l,Z_o*math.tan(b*l))/complex(Z_o,Z_l*math.tan(b*l)))\n",
      "V_s = 200*Z_i / 200 + Z_i\n",
      "I_s = 200/(200+Z_i)\n",
      "P_avg = V_s*I_s                          #in watts\n",
      "I_load=(P_avg/Z_l)**0.5                  #in amps\n",
      "\n",
      "\n",
      "\n",
      "\n",
      "#---output---#\n",
      "print \"Current drawn from generator(in amps) =\",round((I_s).real,4)\n",
      "                                         #for a lossless line , P(avg)*I_input=P(avg)*I_load\n",
      "\n",
      "print \"Power delivered to load (in watts) =\",round((P_avg).real,4)\n",
      "                                         #Real(Vs*Is)=Real(Vs*I_load)\n",
      "\n",
      "print \"Current flowing in load (in amps) =\",round((I_load).real,4)\n"
     ],
     "language": "python",
     "metadata": {},
     "outputs": [
      {
       "output_type": "stream",
       "stream": "stdout",
       "text": [
        "Current drawn from generator(in amps) = 0.3333\n",
        "Power delivered to load (in watts) = 266.6667\n",
        "Current flowing in load (in amps) = 1.633\n"
       ]
      }
     ],
     "prompt_number": 7
    },
    {
     "cell_type": "heading",
     "level": 2,
     "metadata": {},
     "source": [
      "Example 3.5  Page No : 22"
     ]
    },
    {
     "cell_type": "code",
     "collapsed": false,
     "input": [
      "import math \n",
      "\n",
      "\n",
      "Z_o = 50                                           #in ohms\n",
      "\n",
      "\n",
      "#calculations\n",
      "f = 300*10**6                                      #in Hz\n",
      "Z_l = complex(50,50)                               #in ohms\n",
      "wl =(3*10**8)/f                                    #wavelength(in meters)\n",
      "P =((Z_l-Z_o)/(Z_l+Z_o))\n",
      "P_mag = (((P).real**2)+((P).imag**2))**0.5\n",
      "P_ang = math.atan((P).imag/(P).real)*180/math.pi   #in degrees\n",
      "S = (1+P_mag)/(1-P_mag)\n",
      "\n",
      "\n",
      "\n",
      "#---output---#\n",
      "print \"Reflection coefficient =\",P\n",
      "print \"Magnitude of reflection coeffcient =\",round(P_mag,4)\n",
      "print \"Angle (in degree) =\",round(P_ang,4)\n",
      "print \"VSWR =\",round(S,4)\n"
     ],
     "language": "python",
     "metadata": {},
     "outputs": [
      {
       "output_type": "stream",
       "stream": "stdout",
       "text": [
        "Reflection coefficient = (0.2+0.4j)\n",
        "Magnitude of reflection coeffcient = 0.4472\n",
        "Angle (in degree) = 63.4349\n",
        "VSWR = 2.618\n"
       ]
      }
     ],
     "prompt_number": 8
    },
    {
     "cell_type": "heading",
     "level": 2,
     "metadata": {},
     "source": [
      "Example 3.6  Page No : 25"
     ]
    },
    {
     "cell_type": "code",
     "collapsed": false,
     "input": [
      "import math \n",
      "import numpy\n",
      "\n",
      "\n",
      "Z_l = 100.                                       #in ohms\n",
      "Z_o = 600.                                       #in ohms\n",
      "\n",
      "\n",
      "#calcuations\n",
      "f = 100.*10**6                                   #in Hz\n",
      "wl = complex((3.*10**8)/f)\n",
      "                                                #Position of stub is :\n",
      "m = complex((Z_l*Z_o)/(Z_l-Z_o))**0.5\n",
      "\n",
      "pos = (wl/(2*math.pi))*math.atan((Z_l/Z_o)**0.5)   #in meters\n",
      "\n",
      "l = (wl/(2*math.pi))*(numpy.arctan(m))                #in meters\n",
      "\n",
      "\n",
      "\n",
      "#---output---#\n",
      "print \"Position of stub (in meters) =\",(pos)\n",
      "print \"Length of stub (in meters) =\",(abs(l))\n",
      "\n",
      "\n",
      "#####   m is a complex number hence can not take its atan    #####\n"
     ],
     "language": "python",
     "metadata": {},
     "outputs": [
      {
       "output_type": "stream",
       "stream": "stdout",
       "text": [
        "Position of stub (in meters) = (0.185063785822+0j)\n",
        "Length of stub (in meters) = 0.751272516719\n"
       ]
      }
     ],
     "prompt_number": 17
    },
    {
     "cell_type": "heading",
     "level": 2,
     "metadata": {},
     "source": [
      "Example 3.7  Page No : 28"
     ]
    },
    {
     "cell_type": "code",
     "collapsed": false,
     "input": [
      "import math \n",
      "\n",
      "\n",
      "\n",
      "Z_o = 50\n",
      "S = 3.2\n",
      "X_min = 0.23                            #in terms of wavelength(wl))\n",
      "                                        #So :\n",
      "\n",
      "#calculations\n",
      "Z_l = Z_o*(complex(1,-S*math.tan(2*math.pi*X_min))/complex(S,-math.tan(2*math.pi*X_min)))        #in ohms\n",
      "Z_lmag = (((Z_l).real**2)+((Z_l).imag**2))**0.5\n",
      "Z_lang = math.tan((Z_l).imag/(Z_l).real)\n",
      "\n",
      "\n",
      "#---output---#\n",
      "print \"The load impedance\"\n",
      "print \"magnitude (in ohms) =\",round(Z_lmag,4)\n",
      "print \"angle (in degrees) =\",round(Z_lang*180/math.pi,4)\n"
     ],
     "language": "python",
     "metadata": {},
     "outputs": [
      {
       "output_type": "stream",
       "stream": "stdout",
       "text": [
        "The load impedance\n",
        "magnitude (in ohms) = 148.4532\n",
        "angle (in degrees) = -21.5039\n"
       ]
      }
     ],
     "prompt_number": 18
    },
    {
     "cell_type": "heading",
     "level": 2,
     "metadata": {},
     "source": [
      "Example 3.8  Page No : 32"
     ]
    },
    {
     "cell_type": "code",
     "collapsed": false,
     "input": [
      "import math \n",
      "\n",
      "#---varibles--#\n",
      "Z_o = 50                           #in ohms\n",
      "Z_l = 100                          #in ohms\n",
      "\n",
      "\n",
      "#calculations\n",
      "f = 300*10**3                      #in Hz\n",
      "P_l = 50*10**(-3)                  #in watts\n",
      "wl = (3*10**8)/f\n",
      "p =(Z_l-Z_o)/(Z_l+Z_o)\n",
      "S =(1+abs(p))/(1-abs(p))\n",
      "                                   #Since real Zl > Zo , \n",
      "pos = wl/4\n",
      "V_max = (P_l*Z_l)**0.5\n",
      "V_min = V_max/S\n",
      "\n",
      "\n",
      "#---output---#\n",
      "print \"VSWR =\",round(S,4)\n",
      "print \"First Vmax is located --->at the load \"\n",
      "print \"First Vmin is located at --->(wavelength/4)= \",round(pos,4),\"(in meters)\"\n",
      "print \"Vmax (in volts) =\",round(V_max,4)\n",
      "print \"Vmin (in volts) =\",round(V_min,4)\n",
      "print \"Zin at Vmin (in ohms) =:\",round(Z_o/S,4)\n",
      "print \"Zin at Vmax (in ohms) =\",round(Z_o*S,4)\n"
     ],
     "language": "python",
     "metadata": {},
     "outputs": [
      {
       "output_type": "stream",
       "stream": "stdout",
       "text": [
        "VSWR = 1.0\n",
        "First Vmax is located --->at the load \n",
        "First Vmin is located at --->(wavelength/4)=  250.0 (in meters)\n",
        "Vmax (in volts) = 2.2361\n",
        "Vmin (in volts) = 2.2361\n",
        "Zin at Vmin (in ohms) =: 50.0\n",
        "Zin at Vmax (in ohms) = 50.0\n"
       ]
      }
     ],
     "prompt_number": 20
    },
    {
     "cell_type": "heading",
     "level": 2,
     "metadata": {},
     "source": [
      "Example 3.9  Page No : 37"
     ]
    },
    {
     "cell_type": "code",
     "collapsed": false,
     "input": [
      "import math \n",
      "\n",
      "\n",
      "Z_o = 600.             #in ohm\n",
      "Z_s = 50.              #in ohm\n",
      "l = 200.               #in meter\n",
      "Z_l = 500.             #in ohm\n",
      "\n",
      "#calculations\n",
      "p = (Z_l-Z_o)/(Z_l+Z_o)\n",
      "ref_los = 10*(math.log(1/(1-(abs(p))**2)))/(math.log(10))   #in dB\n",
      "tran_los = ref_los\n",
      "\n",
      "\n",
      "\n",
      "#---output---#\n",
      "\n",
      "print \"Reflection loss (in dB) =\",round(ref_los,4)\n",
      "                                                          #attenuation loss= 0 dB\n",
      "                                                          #Transmisson loss = (attenuation loss)+(reflection loss) = (reflection loss)\n",
      "\n",
      "print \"Transmisson loss (in dB) =\",round(tran_los,4)\n",
      "ret_los=10*((math.log(abs(p)))/(math.log(10)))\n",
      "print \"Return loss(in dB) =\",round(ret_los,4)\n"
     ],
     "language": "python",
     "metadata": {},
     "outputs": [
      {
       "output_type": "stream",
       "stream": "stdout",
       "text": [
        "Reflection loss (in dB) = 0.036\n",
        "Transmisson loss (in dB) = 0.036\n",
        "Return loss(in dB) = -10.4139\n"
       ]
      }
     ],
     "prompt_number": 22
    },
    {
     "cell_type": "heading",
     "level": 2,
     "metadata": {},
     "source": [
      "Example 3.10  Page No : 45"
     ]
    },
    {
     "cell_type": "code",
     "collapsed": false,
     "input": [
      "import math \n",
      "\n",
      "\n",
      "#variables\n",
      "e=2.718\n",
      "f=1000                                           #in Hz\n",
      "l=10000                                          #in meters\n",
      "Z_sc=complex(2631,1289)                          #in ohms\n",
      "Z_oc=complex(221,-137)                           #in ohms\n",
      "\n",
      "\n",
      "#calculations\n",
      "Z_o=(Z_sc*Z_oc)**0.5\n",
      "Z_mag=((Z_o).real**2+(Z_o).imag**2)**0.5\n",
      "Z_ang=(math.atan(((Z_o).imag)/(Z_o).real))*180/math.pi\n",
      "x=((Z_oc/Z_sc)**0.5)\n",
      "                                                 #x=math.tanh(v*l)\n",
      "                                                 #As, math.tanh(t)=[e**t-e**-t]/[e**t+e**-t]\n",
      "v=complex(261,2988)/l\n",
      "a=(v).real\n",
      "b=(v).imag\n",
      "\n",
      "\n",
      "#output\n",
      "print \"Characteristic impedance (in ohms) =\",round(Z_mag,4)\n",
      "print \"Angle (in degrees) =\",round(Z_ang,4)\n",
      "print \"Phase velocity (in meter per sec.) =\",round(2*math.pi*f/b,4)\n"
     ],
     "language": "python",
     "metadata": {},
     "outputs": [
      {
       "output_type": "stream",
       "stream": "stdout",
       "text": [
        "Characteristic impedance (in ohms) = 872.8129\n",
        "Angle (in degrees) = -2.8468\n",
        "Phase velocity (in meter per sec.) = 21028.0633\n"
       ]
      }
     ],
     "prompt_number": 23
    }
   ],
   "metadata": {}
  }
 ]
}