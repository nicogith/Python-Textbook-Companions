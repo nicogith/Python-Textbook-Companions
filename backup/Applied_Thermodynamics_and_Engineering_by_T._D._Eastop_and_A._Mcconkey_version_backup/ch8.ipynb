{
 "metadata": {
  "name": "",
  "signature": "sha256:3b50f58b54841662eb0b6edda4172167b273f5b5c1c667219e09c738e3a299bf"
 },
 "nbformat": 3,
 "nbformat_minor": 0,
 "worksheets": [
  {
   "cells": [
    {
     "cell_type": "heading",
     "level": 1,
     "metadata": {},
     "source": [
      "Chapter 8 : Microwave Tubes and Circuits"
     ]
    },
    {
     "cell_type": "heading",
     "level": 2,
     "metadata": {},
     "source": [
      "Example 8.1  Page No : 295"
     ]
    },
    {
     "cell_type": "code",
     "collapsed": false,
     "input": [
      "import math \n",
      "\n",
      "V_o = 14.5*10**3                #in volts\n",
      "I_o = 1.4                       #in A\n",
      "f = 10*10**9                    #in Hz\n",
      "p_o = 10**-6                    #in c/m**3\n",
      "p = 10**-8                      #in c/m**3\n",
      "v = 10**5                       #in m/s\n",
      "R = 0.4\n",
      "\n",
      "#calculations\n",
      "v_o = 0.593*10**6*math.sqrt(V_o)\n",
      "k = 2*math.pi*f/v_o\n",
      "w_p = (1.759*10**11*(10**-6/(8.854*10**-12)))**0.5\n",
      "w_q = R*w_p\n",
      "J_o = p_o*v_o\n",
      "J = p*v_o+p_o*v\n",
      "#---output---#\n",
      "print 'Dc electron velocity (in m/s) =',round(v_o,4)\n",
      "print 'Dc phase constant (in rad/s) =',round(k,4)\n",
      "print 'Plasma frequency (in rad/s) =',round(w_p,4)\n",
      "print 'Reduced plasma frequency (in rad/s) =',round(w_q,4)\n",
      "print 'Dc beam current density (in A/sq. m) =',round(w_q,4)\n",
      "print 'Instantaneous beam current density(in A/sq. m) =',round(w_q,4)\n",
      "\n",
      "#Answer in book are wrongly written as: (Dc phase constant =1.41* 10**8 rad/sec)\n"
     ],
     "language": "python",
     "metadata": {},
     "outputs": [
      {
       "output_type": "stream",
       "stream": "stdout",
       "text": [
        "Dc electron velocity (in m/s) = 71406655.8522\n",
        "Dc phase constant (in rad/s) = 879.9159\n",
        "Plasma frequency (in rad/s) = 140949377.094\n",
        "Reduced plasma frequency (in rad/s) = 56379750.8375\n",
        "Dc beam current density (in A/sq. m) = 56379750.8375\n",
        "Instantaneous beam current density(in A/sq. m) = 56379750.8375\n"
       ]
      }
     ],
     "prompt_number": 1
    },
    {
     "cell_type": "heading",
     "level": 2,
     "metadata": {},
     "source": [
      "Example 8.2  Page No : 299"
     ]
    },
    {
     "cell_type": "code",
     "collapsed": false,
     "input": [
      "import math\n",
      "\n",
      "A_v = 15                         #in dB\n",
      "P_i = 5*10**-3                   #in W\n",
      "R_sh_i = 30000                   #in ohms\n",
      "R_sh_o = 40000                   #in ohms\n",
      "R_l = 20000                      #in ohms\n",
      "\n",
      "#calculations\n",
      "V_i = math.sqrt(P_i*R_sh_i)\n",
      "V_o = 10**((A_v/20))*12.25\n",
      "P_out = V_o**2/R_l\n",
      "\n",
      "#---output---#\n",
      "print 'Input rms voltage (in volts) =',round(V_i,4)\n",
      "print 'Output rms voltage (in volts) =',round(V_o,4)\n",
      "print 'Power delivered to load (in watts) =',round(P_out,4)\n"
     ],
     "language": "python",
     "metadata": {},
     "outputs": [
      {
       "output_type": "stream",
       "stream": "stdout",
       "text": [
        "Input rms voltage (in volts) = 12.2474\n",
        "Output rms voltage (in volts) = 12.25\n",
        "Power delivered to load (in watts) = 0.0075\n"
       ]
      }
     ],
     "prompt_number": 2
    },
    {
     "cell_type": "heading",
     "level": 2,
     "metadata": {},
     "source": [
      "Example 8.3  Page No : 307"
     ]
    },
    {
     "cell_type": "code",
     "collapsed": false,
     "input": [
      "import math\n",
      "\n",
      "n = 2\n",
      "V_o = 300              #in volts\n",
      "I_o = 20*10**-3        #in A\n",
      "V_i = 40               #in volts\n",
      "J = 1.25               #J(X')\n",
      "\n",
      "#calculations\n",
      "P_dc = V_o*I_o\n",
      "P_ac = 2*V_o*I_o*J/(2*n*math.pi-math.pi/2)\n",
      "eff = (P_ac/P_dc)*100\n",
      "\n",
      "#---output---#\n",
      "print 'Input power (in watts) =',P_dc\n",
      "print 'Output power (in watts) =',round(P_dc,4)\n",
      "print 'Efficiency (in percent) =',round(eff,4)\n"
     ],
     "language": "python",
     "metadata": {},
     "outputs": [
      {
       "output_type": "stream",
       "stream": "stdout",
       "text": [
        "Input power (in watts) = 6.0\n",
        "Output power (in watts) = 6.0\n",
        "Efficiency (in percent) = 22.7364\n"
       ]
      }
     ],
     "prompt_number": 3
    },
    {
     "cell_type": "heading",
     "level": 2,
     "metadata": {},
     "source": [
      "Example 8.4  Page No : 313"
     ]
    },
    {
     "cell_type": "code",
     "collapsed": false,
     "input": [
      "import math \n",
      "\n",
      "V_o = 900                       #in volts\n",
      "I_o = 30*10**-3                 #in A\n",
      "f = 8*10**9                     #in Hz\n",
      "d = 0.001                       #in m\n",
      "l = 0.04                        #in m\n",
      "R_sh = 40*10**3                 #in ohm\n",
      "#calculations\n",
      "v_o = 0.593*10**6*math.sqrt(V_o)\n",
      "T_o = l/v_o\n",
      "Theeta_o = (2*math.pi*f)*T_o            #Transit angles between cavities(in radian)\n",
      "Theeta_g = (2*math.pi*f)*d/v_o          #Average gap transit angle (in radian)\n",
      "b = math.sin(Theeta_g/2)/(Theeta_g/2)\n",
      "V_in_max = V_o*3.68/(b*Theeta_o)\n",
      "                                        #As, {J(X)/X=0.582}\n",
      "A_r = b**2*Theeta_o*0.582*R_sh/(30*10**3*1.841)\n",
      "#---output---#\n",
      "print 'Electron velocity (in m/s) =',round(v_o,4)\n",
      "print 'Dc Transit Time (in sec)=',round(T_o,4)\n",
      "print 'Maximum input voltage (in volts) =',round(V_in_max,4)\n",
      "print 'Voltage gain (in dB) =',round(A_r,4)\n"
     ],
     "language": "python",
     "metadata": {},
     "outputs": [
      {
       "output_type": "stream",
       "stream": "stdout",
       "text": [
        "Electron velocity (in m/s) = 17790000.0\n",
        "Dc Transit Time (in sec)= 0.0\n",
        "Maximum input voltage (in volts) = 41.9225\n",
        "Voltage gain (in dB) = 23.2777\n"
       ]
      }
     ],
     "prompt_number": 4
    },
    {
     "cell_type": "heading",
     "level": 2,
     "metadata": {},
     "source": [
      "Example 8.5  Page No : 316"
     ]
    },
    {
     "cell_type": "code",
     "collapsed": false,
     "input": [
      "import math \n",
      "\n",
      "V_o = 1200                #in volts\n",
      "I_o = 28*10**-3           #in A\n",
      "f = 8*10**9               #inHz\n",
      "d = 0.001                 #in m\n",
      "l = 0.04                  #in m\n",
      "R_sh = 40*10**3           #in ohms\n",
      "Beeta_o = 0.768\n",
      "J = 0.582                 #J(X)\n",
      "G_o = 23.3*10**-6\n",
      "\n",
      "#calculations\n",
      "V_p_max = 1200*3.68*0.593*10**6*math.sqrt(V_o)/(2*math.pi*f*l)\n",
      "Theeta_g = (2*math.pi*f)*d/(0.593*10**6*math.sqrt(V_o))                    #transit angle (in rad)\n",
      "beeta = math.sin(Theeta_g/2)/(Theeta_g/2)\n",
      "V_i_max = V_p_max/beeta\n",
      "A_v = (Beeta_o)**2*97.88*J*R_sh/(1200/(28*10**-3*1.841))                   #calculating voltage gain\n",
      "eff = (0.58*(2*28*10**-3*J*Beeta_o*R_sh)/V_o)*100                          #calculating efficiency\n",
      "G_b = (G_o/2)*(Beeta_o**2-Beeta_o*math.cos(Theeta_g))                      #beam loading conducmath.tance\n",
      "R_b = 1/(G_b*1000)                                                         #beam loading resistance(in kilo ohms)\n",
      "#---output---#\n",
      "print 'Input microwave voltage(in volts) =',round(V_i_max,4)\n",
      "print 'Voltage gain =',round(A_v,4)\n",
      "print 'Effeciency of amplifier (in percentage) =',round(eff,4)\n",
      "print 'Beam loading resistance(in kilo ohms) =',round(R_b,4)\n",
      "\n",
      "#Answer in book is wrongly given as: Voltage gain =17.034\n"
     ],
     "language": "python",
     "metadata": {},
     "outputs": [
      {
       "output_type": "stream",
       "stream": "stdout",
       "text": [
        "Input microwave voltage(in volts) = 58.7055\n",
        "Voltage gain = 57.7338\n",
        "Effeciency of amplifier (in percentage) = 48.3926\n",
        "Beam loading resistance(in kilo ohms) = 72.7516\n"
       ]
      }
     ],
     "prompt_number": 6
    },
    {
     "cell_type": "heading",
     "level": 2,
     "metadata": {},
     "source": [
      "Example 8.6  Page No : 318"
     ]
    },
    {
     "cell_type": "code",
     "collapsed": false,
     "input": [
      "import math \n",
      "e_m_ratio = 1.759*10**11                         #(e/m)\n",
      "V_o = 500                                        #in volts\n",
      "R_sh = 20*10**3                                  #in ohms\n",
      "f = 8*10**9                                      #inHz\n",
      "n = 2                                            #mode\n",
      "L = 0.001                                        #spacing between repeller & cavity (in m)\n",
      "x = 0.023\n",
      "Beeta_o = 1                                      #Assuming\n",
      "J = 0.582\n",
      "V_1 = 200                                        #given (in volts)\n",
      "j = 0.84                                         #J(X')\n",
      "\n",
      "#calculations\n",
      "w = 2*math.pi*f\n",
      "volt_diff = math.sqrt(V_o*(x))\n",
      "V_r = volt_diff+V_o                              #repeller volatge\n",
      "I_o = V_1/(R_sh*2*J)\n",
      "Theeta_o = 2*math.pi*f*J*10**6*2*10**-3*math.sqrt(V_o)/(1.579*10**11*(V_r+V_o))\n",
      "X = V_1*Theeta_o/(2*V_o)                         #X'\n",
      "eff = (2*j/(2*math.pi*2-math.pi/2))*100\n",
      "#---output---#\n",
      "print 'Repeller voltage(in volts) =',round(V_r,4)\n",
      "print 'Necessary beam current (in Amp.s) =',round(I_o,4)\n",
      "print 'Effeciency  (in percentage) =',round(eff,4)\n"
     ],
     "language": "python",
     "metadata": {},
     "outputs": [
      {
       "output_type": "stream",
       "stream": "stdout",
       "text": [
        "Repeller voltage(in volts) = 503.3912\n",
        "Necessary beam current (in Amp.s) = 0.0086\n",
        "Effeciency  (in percentage) = 15.2789\n"
       ]
      }
     ],
     "prompt_number": 7
    },
    {
     "cell_type": "heading",
     "level": 2,
     "metadata": {},
     "source": [
      "Example 8.7  Page No : 325"
     ]
    },
    {
     "cell_type": "code",
     "collapsed": false,
     "input": [
      "import math \n",
      "P_dc_in = 40                                #in mW\n",
      "ratio = 0.278                               #V_1/V_o;\n",
      "n = 1\n",
      "J=2.35\n",
      "#calculations\n",
      "X=ratio*(2*n*math.pi-math.pi/2)\n",
      "eff=ratio*J*100                          #in percentage\n",
      "P_out= 8.91*P_dc_in/100\n",
      "P_load=3.564*80/100\n",
      "\n",
      "#---output---#\n",
      "print 'Effeciency  (in percentage) =',round(eff,4)\n",
      "print 'Total power output (in mW) =',round(P_out,4)\n",
      "print 'Power delivered to load (in mW) =',round(P_load,4)\n"
     ],
     "language": "python",
     "metadata": {},
     "outputs": [
      {
       "output_type": "stream",
       "stream": "stdout",
       "text": [
        "Effeciency  (in percentage) = 65.33\n",
        "Total power output (in mW) = 3.564\n",
        "Power delivered to load (in mW) = 2.8512\n"
       ]
      }
     ],
     "prompt_number": 8
    },
    {
     "cell_type": "heading",
     "level": 2,
     "metadata": {},
     "source": [
      "Example 8.8  Page No : 327"
     ]
    },
    {
     "cell_type": "code",
     "collapsed": false,
     "input": [
      "import math\n",
      "\n",
      "e_m_ratio = 1.759*10**11                 #(e/m)\n",
      "R_a = 0.15                               #in m\n",
      "R_o = 0.45                               #in m\n",
      "B_o = 1.2*10**-3                         #in weber/m**2\n",
      "V = 6000                                 #in volts\n",
      "\n",
      "#calculations\n",
      "V_o = ((e_m_ratio)*B_o**2*R_o**2*(1-(R_a/R_o)**2)**2)/8\n",
      "B_c = math.sqrt(8*V/e_m_ratio)/((1-(R_a/R_o)**2)*(R_o))        #in weber/m**2\n",
      "w_c = (e_m_ratio)*B_o\n",
      "f_c = w_c/(2*math.pi)                                          #in Hz\n",
      "#---output---#\n",
      "print 'Cut-off voltage (in volts) =',round(V_o,4)\n",
      "print 'Cut-off magnetic flux density (in milli weber/sq. m) =',round(B_c*10**5,4)\n",
      "print 'Cyclotron frequency (in GHz) =',round(f_c*10**-9,4)\n",
      "\n",
      "#Answer in book is wrongly given as: f_c=0.336Hz & V_o=50.666 kV\n"
     ],
     "language": "python",
     "metadata": {},
     "outputs": [
      {
       "output_type": "stream",
       "stream": "stdout",
       "text": [
        "Cut-off voltage (in volts) = 5065.92\n",
        "Cut-off magnetic flux density (in milli weber/sq. m) = 130.5953\n",
        "Cyclotron frequency (in GHz) = 0.0336\n"
       ]
      }
     ],
     "prompt_number": 9
    },
    {
     "cell_type": "heading",
     "level": 2,
     "metadata": {},
     "source": [
      "Example 8.9  Page No : 332"
     ]
    },
    {
     "cell_type": "code",
     "collapsed": false,
     "input": [
      "import math \n",
      "\n",
      "e_m_ratio = 1.759*10**11                    #(e/m)\n",
      "c = 3*10**8                                 #in m/s\n",
      "d = 0.002                                   #diameter(in m)\n",
      "pitch = (1./50)/100                          #As,50 turns per cm (in m)\n",
      " \n",
      "#calculations\n",
      "circum = math.pi*d\n",
      "v_p = c*pitch/circum\n",
      "V_o = v_p**2/(2*e_m_ratio)\n",
      "#---output---#\n",
      "print 'Axial phase velocity (in m/s) =',round(v_p,4)\n",
      "print 'Anode Voltage (in kV) =',round(V_o,4)\n",
      "\n",
      "#Answer in book is wrongly given as V_o=25.92 V\n"
     ],
     "language": "python",
     "metadata": {},
     "outputs": [
      {
       "output_type": "stream",
       "stream": "stdout",
       "text": [
        "Axial phase velocity (in m/s) = 9549296.5855\n",
        "Anode Voltage (in kV) = 259.2071\n"
       ]
      }
     ],
     "prompt_number": 10
    },
    {
     "cell_type": "heading",
     "level": 2,
     "metadata": {},
     "source": [
      "Example 8.10  Page No : 339"
     ]
    },
    {
     "cell_type": "code",
     "collapsed": false,
     "input": [
      "import math \n",
      "\n",
      "V_o = 900                          #in volts\n",
      "I_o = 30*10**-3                    #in A\n",
      "f = 8*10**9                        #in Hz\n",
      "d = 0.001                          #in m\n",
      "l = 0.04                           #in m\n",
      "R_sh = 40*10**3                    #in ohm\n",
      "\n",
      "#calculations\n",
      "v_o = 0.593*10**6*math.sqrt(V_o)\n",
      "T_o = l/v_o\n",
      "Theeta_o = (2*math.pi*f)*T_o        #Transit angles between cavities(in radian)\n",
      "Theeta_g = (2*math.pi*f)*d/v_o      #Average gap transit angle (in radian)\n",
      "b = math.sin(Theeta_g/2)/(Theeta_g/2)\n",
      "V_in_max = V_o*3.68/(b*Theeta_o)\n",
      "                                  #As, {J(X)/X=0.582}\n",
      "A_r = b**2*Theeta_o*0.582*R_sh/(30*10**3*1.841)\n",
      "#---output---#\n",
      "print 'Electron velocity (in m/s) =',round(v_o,4)\n",
      "print 'Dc Transit Time (in sec)=',round(T_o,4)\n",
      "print 'Maximum input voltage (in volts) =',round(V_in_max,4)\n",
      "print 'Voltage gain (in dB) =',round(A_r,4)\n"
     ],
     "language": "python",
     "metadata": {},
     "outputs": [
      {
       "output_type": "stream",
       "stream": "stdout",
       "text": [
        "Electron velocity (in m/s) = 17790000.0\n",
        "Dc Transit Time (in sec)= 0.0\n",
        "Maximum input voltage (in volts) = 41.9225\n",
        "Voltage gain (in dB) = 23.2777\n"
       ]
      }
     ],
     "prompt_number": 11
    },
    {
     "cell_type": "heading",
     "level": 2,
     "metadata": {},
     "source": [
      "Example 8.11  Page No : 341"
     ]
    },
    {
     "cell_type": "code",
     "collapsed": false,
     "input": [
      "import math\n",
      "\n",
      "V_o = 20*10**3           #in volts\n",
      "I_o = 2                  #in A\n",
      "f = 10*10**9             #in Hz\n",
      "p_o = 10**-6             #in c/m**3\n",
      "p = 10**-8               #in c/m**3\n",
      "v = 10**5                #in m/s\n",
      "R = 0.5\n",
      "\n",
      "#calculations\n",
      "v_o = 0.593*10**6*math.sqrt(V_o)\n",
      "k = 2*math.pi*f/v_o\n",
      "w_p = (1.759*10**11*(10**-6/(8.854*10**-12)))**0.5\n",
      "w_q = R*w_p\n",
      "J_o = p_o*v_o\n",
      "J = p*v_o-p_o*v\n",
      "#---output---#\n",
      "print 'Dc electron velocity (in m/s) =',round(v_o,4)\n",
      "print 'Dc phase constant (in rad/s) =',round(k,4)\n",
      "print 'Plasma frequency (in rad/s) =',round(w_p,4)\n",
      "print 'Reduced plasma frequency (in rad/s) =',round(w_q,4)\n",
      "print 'Dc beam current density (in A/sq. m) =',round(J_o,4)\n",
      "print 'Instantaneous beam current density(in A/sq. m) =',round(J,4)\n"
     ],
     "language": "python",
     "metadata": {},
     "outputs": [
      {
       "output_type": "stream",
       "stream": "stdout",
       "text": [
        "Dc electron velocity (in m/s) = 83862864.2487\n",
        "Dc phase constant (in rad/s) = 749.2214\n",
        "Plasma frequency (in rad/s) = 140949377.094\n",
        "Reduced plasma frequency (in rad/s) = 70474688.5468\n",
        "Dc beam current density (in A/sq. m) = 83.8629\n",
        "Instantaneous beam current density(in A/sq. m) = 0.7386\n"
       ]
      }
     ],
     "prompt_number": 12
    },
    {
     "cell_type": "heading",
     "level": 2,
     "metadata": {},
     "source": [
      "Example 8.12  Page No : 347"
     ]
    },
    {
     "cell_type": "code",
     "collapsed": false,
     "input": [
      "import math \n",
      "\n",
      "V_o = 1000                            #Anode voltage(in volts)\n",
      "gap = 0.002                           #in m\n",
      "f = 5*10**9                           #in Hz\n",
      "L = 2.463*10**-3                      #length of drift region (in m)\n",
      "\n",
      "#calculations\n",
      "u_o = 5.93*10**5*math.sqrt(V_o)       #in m/s\n",
      "Theeta_g = 2*math.pi*f*2*10**-3/u_o   #radians\n",
      "\n",
      "#---output---#\n",
      "print 'Transit angle(in radians) =',round(Theeta_g,4)\n"
     ],
     "language": "python",
     "metadata": {},
     "outputs": [
      {
       "output_type": "stream",
       "stream": "stdout",
       "text": [
        "Transit angle(in radians) = 3.3506\n"
       ]
      }
     ],
     "prompt_number": 13
    },
    {
     "cell_type": "heading",
     "level": 2,
     "metadata": {},
     "source": [
      "Example 8.13  Page No : 354"
     ]
    },
    {
     "cell_type": "code",
     "collapsed": false,
     "input": [
      "import math \n",
      "\n",
      "V_o = 1200                                #in volts\n",
      "I_o = 30*10**-3                           #in A\n",
      "f = 10*10**9                              #inHz\n",
      "d = 0.001                                 #in m\n",
      "l = 0.04                                  #in m\n",
      "R_sh = 40*10**3                           #in ohms\n",
      "\n",
      "#calculations\n",
      "v_o = 0.593*10**6*math.sqrt(V_o)\n",
      "Theeta_o = 2*math.pi*f*l/(20.54*10**6)\n",
      "X = 1.84                                  #for maximum output power\n",
      "V_max = 2*X*V_o/122.347\n",
      "Theeta_g = 122.347*10**-3/(4*10**-2)\n",
      "Beeta_i = math.sin(Theeta_g/2)/(Theeta_g/2)\n",
      "V_1_max = V_max/Beeta_i\n",
      "J = 0.58\n",
      "Beeta_o = Beeta_i\n",
      "I_2 = 2*I_o*J\n",
      "V_2 = Beeta_o*I_2*R_sh\n",
      "A_v = V_2/V_1_max                        #in dB\n",
      "eff = 0.58*(V_2/V_o)*100                 #in percentage\n",
      "\n",
      "#---output---#\n",
      "print 'Input rf voltage(in volts) =',round(V_1_max,4)\n",
      "print 'Voltage gain (in dB) =',round(A_v,4)\n",
      "print 'Maximum efficiency (in percentage) =',round(eff,4)\n",
      "\n",
      "#Answer in book is wrongly given as: A_v=24.33 dB\n"
     ],
     "language": "python",
     "metadata": {},
     "outputs": [
      {
       "output_type": "stream",
       "stream": "stdout",
       "text": [
        "Input rf voltage(in volts) = 55.2475\n",
        "Voltage gain (in dB) = 16.4608\n",
        "Maximum efficiency (in percentage) = 43.9551\n"
       ]
      }
     ],
     "prompt_number": 14
    },
    {
     "cell_type": "heading",
     "level": 2,
     "metadata": {},
     "source": [
      "Example 8.14  Page No : 356"
     ]
    },
    {
     "cell_type": "code",
     "collapsed": false,
     "input": [
      "import math \n",
      "\n",
      "e_m_ratio = 1.759*10**11           #(e/m)\n",
      "a = 0.04\n",
      "b = 0.08\n",
      "V_o = 30*10**3                     #in volts\n",
      "I_o = 80                           #in A\n",
      "B_o = 0.01                         #in weber/sq.m\n",
      "\n",
      "#calculations\n",
      "w=(e_m_ratio)*B_o\n",
      "V_c=((e_m_ratio)*B_o**2*b**2*(1-(a/b)**2)**2)/8\n",
      "B_c=math.sqrt(8*V_o/e_m_ratio)/((1-(a/b)**2)*(b))          #in weber/m**2\n",
      "\n",
      "#---output---#\n",
      "print 'Cyclotron angular frequency( in rad/s) =',round(w,4)\n",
      "print 'Cut-off voltage (in volts) =',round(V_c,4)\n",
      "print 'Cut-off magnetic flux density (in milli weber/sq. m) =',round(B_c*10**3,4)\n"
     ],
     "language": "python",
     "metadata": {},
     "outputs": [
      {
       "output_type": "stream",
       "stream": "stdout",
       "text": [
        "Cyclotron angular frequency( in rad/s) = 1759000000.0\n",
        "Cut-off voltage (in volts) = 7915.5\n",
        "Cut-off magnetic flux density (in milli weber/sq. m) = 19.468\n"
       ]
      }
     ],
     "prompt_number": 15
    },
    {
     "cell_type": "heading",
     "level": 2,
     "metadata": {},
     "source": [
      "Example 8.15  Page No : 362"
     ]
    },
    {
     "cell_type": "code",
     "collapsed": false,
     "input": [
      "import math \n",
      "\n",
      "n = 2.\n",
      "V_o = 280.                     #in volts\n",
      "I_o = 22.*10**-3               #in A\n",
      "V_i = 30.                      #in volts\n",
      "J = 1.25                      #J(X')\n",
      "\n",
      "#calculations\n",
      "P_dc = V_o*I_o\n",
      "P_ac = 2*V_o*I_o*J/(2*n*math.pi-math.pi/2)\n",
      "eff = (P_ac/P_dc)*100\n",
      "\n",
      "#---output---#\n",
      "print 'Input power (in watts) =',round(P_dc,4)\n",
      "print 'Output power (in watts) =',round(P_ac,4)\n",
      "print 'Efficiency (in percent) =',round(eff,4)\n"
     ],
     "language": "python",
     "metadata": {},
     "outputs": [
      {
       "output_type": "stream",
       "stream": "stdout",
       "text": [
        "Input power (in watts) = 6.16\n",
        "Output power (in watts) = 1.4006\n",
        "Efficiency (in percent) = 22.7364\n"
       ]
      }
     ],
     "prompt_number": 16
    },
    {
     "cell_type": "heading",
     "level": 2,
     "metadata": {},
     "source": [
      "Example 8.16  Page No : 367"
     ]
    },
    {
     "cell_type": "code",
     "collapsed": false,
     "input": [
      "import math \n",
      " \n",
      "e_m_ratio = 1.759*10**11               #(e/m)\n",
      "V_o = 300                              #in volts\n",
      "R_sh = 20*10**3                        #in ohms\n",
      "f = 8*10**9                            #inHz\n",
      "#calculations\n",
      "w = 2*math.pi*f\n",
      "n = 2                                                            #mode\n",
      "L = 0.001                                                        #spacing between repeller & cavity (in m)\n",
      "x = (e_m_ratio)*(2*math.pi*n-math.pi/2)**2/(8*w**2*L**2)\n",
      "volt_diff = math.sqrt(V_o/(x))\n",
      "V_r = (volt_diff)+V_o                                            #repeller volatge\n",
      "J = 0.582\n",
      "V_1 = 200                                                        #given (in volts)\n",
      "I_o = V_1/(R_sh*2*J)\n",
      "\n",
      "#---output---#\n",
      "print 'Repeller voltage(in volts) =',round(V_r,4)\n",
      "print 'Necessary beam current (in milliAmp.s) =',round(I_o*10**3,4)\n"
     ],
     "language": "python",
     "metadata": {},
     "outputs": [
      {
       "output_type": "stream",
       "stream": "stdout",
       "text": [
        "Repeller voltage(in volts) = 833.9796\n",
        "Necessary beam current (in milliAmp.s) = 8.5911\n"
       ]
      }
     ],
     "prompt_number": 17
    }
   ],
   "metadata": {}
  }
 ]
}