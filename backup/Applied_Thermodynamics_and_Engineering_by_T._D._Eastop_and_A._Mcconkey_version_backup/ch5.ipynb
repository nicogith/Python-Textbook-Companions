{
 "metadata": {
  "name": "",
  "signature": "sha256:aa05d3b801e5c6bc9c434761fec64832634ba5c396ae452adbd18dc37a932cd9"
 },
 "nbformat": 3,
 "nbformat_minor": 0,
 "worksheets": [
  {
   "cells": [
    {
     "cell_type": "heading",
     "level": 1,
     "metadata": {},
     "source": [
      "Chapter 5 : Cavity Resonators"
     ]
    },
    {
     "cell_type": "heading",
     "level": 2,
     "metadata": {},
     "source": [
      "Example 5.1  Page No : 180"
     ]
    },
    {
     "cell_type": "code",
     "collapsed": false,
     "input": [
      "import math \n",
      "\n",
      "\n",
      "#Given: \n",
      "a = 3                         #in cm\n",
      "c = 3*10**10                  #in cm/s\n",
      "f = 10*10**9                  #in Hz\n",
      "P_01 = 2.405\n",
      "\n",
      "#calculations\n",
      "d = math.pi/math.sqrt(f**2*4*math.pi**2/c**2-(P_01/a)**2)\n",
      "\n",
      "#output\n",
      "print 'Minimum distance (in cm) =', round(d,4)\n"
     ],
     "language": "python",
     "metadata": {},
     "outputs": [
      {
       "output_type": "stream",
       "stream": "stdout",
       "text": [
        "Minimum distance (in cm) = 1.6236\n"
       ]
      }
     ],
     "prompt_number": 1
    },
    {
     "cell_type": "heading",
     "level": 2,
     "metadata": {},
     "source": [
      "Example 5.2  Page No : 183"
     ]
    },
    {
     "cell_type": "code",
     "collapsed": false,
     "input": [
      "import math\n",
      "\n",
      "\n",
      "\n",
      "#Given: \n",
      "c = 3.*10**10                             #in cm/s\n",
      "a = 2.                                    #in cm\n",
      "b = 1.                                    #in cm\n",
      "d = 3.                                    #in cm\n",
      "m = 1.\n",
      "n = 0\n",
      "p = 1.\n",
      "\n",
      "#calculations\n",
      "f=(c/2)*((m/a)**2+(n/b)**2+(p/d)**2)**0.5\n",
      "\n",
      "#---output---#\n",
      "print 'Dominant mode is TE101'\n",
      "print 'Lowest resonant frequency(in GHz) =',round(f/10**9,4)\n"
     ],
     "language": "python",
     "metadata": {},
     "outputs": [
      {
       "output_type": "stream",
       "stream": "stdout",
       "text": [
        "Dominant mode is TE101\n",
        "Lowest resonant frequency(in GHz) = 9.0139\n"
       ]
      }
     ],
     "prompt_number": 3
    },
    {
     "cell_type": "heading",
     "level": 2,
     "metadata": {},
     "source": [
      "Example 5.3  Page No : 184"
     ]
    },
    {
     "cell_type": "code",
     "collapsed": false,
     "input": [
      "import math \n",
      "\n",
      "\n",
      "\n",
      "#Given:\n",
      "d = 12.5                           #diameter(in cm)\n",
      "c = 3*10**10                       #in cm/s\n",
      "l = 5                              #length(in cm)\n",
      "\n",
      "                                   #For TM012 mode:\n",
      "n = 0\n",
      "m = 1\n",
      "p = 2\n",
      "P = 2.405\n",
      "\n",
      "#calculations\n",
      "a = d/2\n",
      "f = (c/(2*math.pi))*((P/a)**2+(p*math.pi/d)**2)**0.5\n",
      "\n",
      "#---output---#\n",
      "print 'Resonant frequency (in GHz) =',round(f/10**9,4)\n",
      "\n",
      "#Answer in book in wrongly given as 6.27GHz \n"
     ],
     "language": "python",
     "metadata": {},
     "outputs": [
      {
       "output_type": "stream",
       "stream": "stdout",
       "text": [
        "Resonant frequency (in GHz) = 3.0225\n"
       ]
      }
     ],
     "prompt_number": 4
    },
    {
     "cell_type": "heading",
     "level": 2,
     "metadata": {},
     "source": [
      "Example 5.4  Page No : 191"
     ]
    },
    {
     "cell_type": "code",
     "collapsed": false,
     "input": [
      "import math\n",
      "\n",
      "\n",
      "\n",
      "#Given:\n",
      "c = 3.*10**10          #in cm/s\n",
      "a = 3.                 #in cm\n",
      "b = 2.                 #in cm\n",
      "d = 4.                 #in cm\n",
      "#For TE101:\n",
      "m = 1.\n",
      "n = 0\n",
      "p = 1.\n",
      "\n",
      "\n",
      "#calculations\n",
      "f = (c/2)*((m/a)**2+(n/b)**2+(p/d)**2)**0.5\n",
      "\n",
      "#---output---#\n",
      "print 'Resonant frequency(in GHz) =',round(f/10**9,4)\n"
     ],
     "language": "python",
     "metadata": {},
     "outputs": [
      {
       "output_type": "stream",
       "stream": "stdout",
       "text": [
        "Resonant frequency(in GHz) = 6.25\n"
       ]
      }
     ],
     "prompt_number": 5
    }
   ],
   "metadata": {}
  }
 ]
}