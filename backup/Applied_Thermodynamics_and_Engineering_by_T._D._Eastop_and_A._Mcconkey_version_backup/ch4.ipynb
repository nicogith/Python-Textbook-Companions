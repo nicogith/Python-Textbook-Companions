{
 "metadata": {
  "name": "",
  "signature": "sha256:02722fb266045ae58b797195e743ca538045a5c841f2d244ad349840a5c3f84f"
 },
 "nbformat": 3,
 "nbformat_minor": 0,
 "worksheets": [
  {
   "cells": [
    {
     "cell_type": "heading",
     "level": 1,
     "metadata": {},
     "source": [
      "Chapter 4 : Microwaves Transmission Lines"
     ]
    },
    {
     "cell_type": "heading",
     "level": 2,
     "metadata": {},
     "source": [
      "Example 4.1  Page No : 66"
     ]
    },
    {
     "cell_type": "code",
     "collapsed": false,
     "input": [
      "import math \n",
      "\n",
      "\n",
      "\n",
      "\n",
      "#Given:\n",
      "d = 0.49                #in cm\n",
      "D = 1.1                 #in cm\n",
      "e_r = 2.3\n",
      "\n",
      "\n",
      "#calculations\n",
      "c = 3*10**8                                  #in meter/second\n",
      "L = 2*(10**-7)*math.log(D/d)                 #in Henry/meter\n",
      "C = 55.56*(10**-12)*(e_r)/math.log(D/d)      #in farad/meter\n",
      "R_o = (60/math.sqrt(e_r)) *math.log(D/d)     #in ohms\n",
      "v = c/math.sqrt(e_r)                         #in meter/second\n",
      "\n",
      "\n",
      "#---output---#\n",
      "print 'Inducmath.tance per unit length(in H/m) =',round(L,4)\n",
      "print 'Capacimath.tance per unit length(in F/m) =',round(C,4)\n",
      "print 'Characteristic Impedance (in ohms) =',round(R_o,4)\n",
      "print 'Velocity of propagation (in m/s)=',round(v,4)\n"
     ],
     "language": "python",
     "metadata": {},
     "outputs": [
      {
       "output_type": "stream",
       "stream": "stdout",
       "text": [
        "Inducmath.tance per unit length(in H/m) = 0.0\n",
        "Capacimath.tance per unit length(in F/m) = 0.0\n",
        "Characteristic Impedance (in ohms) = 31.9929\n",
        "Velocity of propagation (in m/s)= 197814142.019\n"
       ]
      }
     ],
     "prompt_number": 1
    },
    {
     "cell_type": "heading",
     "level": 2,
     "metadata": {},
     "source": [
      "Example 4.2  Page No : 67"
     ]
    },
    {
     "cell_type": "code",
     "collapsed": false,
     "input": [
      "import math \n",
      "\n",
      "\n",
      "R = 0.05                             #in ohms\n",
      "G = 0\n",
      "l = 50                               #in meter\n",
      "e = 2.3                              #dielectric consmath.tant\n",
      "\n",
      "\n",
      "#calculations\n",
      "c = 3*10**8                          #in m/s\n",
      "L = 2*(10**(-7))                     #from Exa:4.1\n",
      "C = 1.58*(10**(-10))                 #from Exa:4.1\n",
      "P_in = 480                           #in watts\n",
      "f = 3*10**9                          #in hertz\n",
      "Z_o = math.sqrt(L/C)\n",
      "a = R/Z_o                            #in Np/m\n",
      "b = 2*math.pi*f*math.sqrt(L*C)       #in rad/m\n",
      "V_p = 1/math.sqrt(L*C)\n",
      "e_r = (c/V_p)**2\n",
      "P_loss = P_in*2*l\n",
      "\n",
      "\n",
      "#---output---#\n",
      "print 'Atteneuation (in Np/m) =',round(a,4)\n",
      "print 'Phase consmath.tant (in rad/m) =',round(b,4)\n",
      "print 'Phase velocity (in m/s) =',round(V_p,4)\n",
      "print 'Relative permittivity =',round(e_r,4)\n",
      "print 'Power loss (in watts) =',round(P_loss,4)\n"
     ],
     "language": "python",
     "metadata": {},
     "outputs": [
      {
       "output_type": "stream",
       "stream": "stdout",
       "text": [
        "Atteneuation (in Np/m) = 0.0014\n",
        "Phase consmath.tant (in rad/m) = 105.9607\n",
        "Phase velocity (in m/s) = 177892016.741\n",
        "Relative permittivity = 2.844\n",
        "Power loss (in watts) = 48000.0\n"
       ]
      }
     ],
     "prompt_number": 2
    },
    {
     "cell_type": "heading",
     "level": 2,
     "metadata": {},
     "source": [
      "Example 4.3  Page No : 69"
     ]
    },
    {
     "cell_type": "code",
     "collapsed": false,
     "input": [
      "import math \n",
      "\n",
      "\n",
      "#Given \n",
      "a = 2.42                                          #in cm\n",
      "x = 2.3                                           #x=(b/a)\n",
      "\n",
      "\n",
      "#calculation\n",
      "P_bd = 3600*a**2*math.log(x)                      #in kilowatts\n",
      "\n",
      "\n",
      "\n",
      "#---output---#\n",
      "print 'Breakdown Power (in kW) =',round(P_bd,4)\n",
      "\n",
      "#answer in book is wrongly written as 398 kW.\n"
     ],
     "language": "python",
     "metadata": {},
     "outputs": [
      {
       "output_type": "stream",
       "stream": "stdout",
       "text": [
        "Breakdown Power (in kW) = 17560.2564\n"
       ]
      }
     ],
     "prompt_number": 3
    },
    {
     "cell_type": "heading",
     "level": 2,
     "metadata": {},
     "source": [
      "Example 4.4  Page No : 74"
     ]
    },
    {
     "cell_type": "code",
     "collapsed": false,
     "input": [
      "import math \n",
      "\n",
      "\n",
      "b = 0.3175                                     #in cm\n",
      "d = 0.0539                                     #in cm\n",
      "c = 3*10**8                                    #in m/s\n",
      "e_r = 2.32\n",
      "\n",
      "#calculations\n",
      "Z_o = 60*math.log(4*b/(math.pi*d))/math.sqrt(e_r) #in ohms\n",
      "V_p = c/math.sqrt(e_r)                            #in m/s\n",
      "\n",
      "#---output---#\n",
      "print 'Charcteristic impedance (in ohms) =',round(Z_o,4)\n",
      "print 'Velocity of propagation (in m/s) =',round(V_p,4)\n"
     ],
     "language": "python",
     "metadata": {},
     "outputs": [
      {
       "output_type": "stream",
       "stream": "stdout",
       "text": [
        "Charcteristic impedance (in ohms) = 79.3713\n",
        "Velocity of propagation (in m/s) = 196959649.29\n"
       ]
      }
     ],
     "prompt_number": 4
    },
    {
     "cell_type": "heading",
     "level": 2,
     "metadata": {},
     "source": [
      "Example 4.5  Page No : 79"
     ]
    },
    {
     "cell_type": "code",
     "collapsed": false,
     "input": [
      "import math \n",
      "\n",
      "\n",
      "\n",
      "e_r = 9.7\n",
      "c = 3*10**8           #in m/s\n",
      "r_1 = 0.5             #when ratio: (W/h)=0.5\n",
      "r_2 = 5               #when ratio: (W/h)=5\n",
      "                      #For W/h ratio=0.5\n",
      "\n",
      "#calculations\n",
      "e_eff_1 = (e_r+1)/2+((e_r-1)/2)*(1/(math.sqrt(1+12*(1/r_1))+0.04*(1-r_1)))\n",
      "Z_o_1 = 60*math.log(8/r_1+r_1/4)/math.sqrt(e_eff_1)\n",
      "v_1 = c/math.sqrt(e_eff_1)\n",
      "e_eff_2 = (e_r+1)/2+((e_r-1)/2)*(1/(math.sqrt(1+12*(1/r_2))))\n",
      "Z_o_2 = 120*math.pi*(1/(r_2+1.393+0.667*math.log(1.444+r_2)))/math.sqrt(e_eff_2)\n",
      "v_2 = c/math.sqrt(e_eff_2)\n",
      "\n",
      "\n",
      "#---output---#\n",
      "print \"For W/h=0.5 ,\"\n",
      "print 'Effective dielectric consmath.tant =',round(e_eff_1,4)\n",
      "print 'Charcteristic impedance (in ohms) =',round(Z_o_1,4)\n",
      "print 'Velocity of propagation (in m/s) =',round(v_1)\n",
      "                     #For W/h ratio=5\n",
      "print \"For W/h=5,\";\n",
      "print 'Effective dielectric consmath.tant =',round(e_eff_2,4)\n",
      "print 'Charcteristic impedance (in ohms) =',round(Z_o_2,4)\n",
      "print 'Velocity of propagation (in m/s) =',round(v_2,4)\n"
     ],
     "language": "python",
     "metadata": {},
     "outputs": [
      {
       "output_type": "stream",
       "stream": "stdout",
       "text": [
        "For W/h=0.5 ,\n",
        "Effective dielectric consmath.tant = 6.2165\n",
        "Charcteristic impedance (in ohms) = 66.9083\n",
        "Velocity of propagation (in m/s) = 120322571.0\n",
        "For W/h=5,\n",
        "Effective dielectric consmath.tant = 9.7\n",
        "Charcteristic impedance (in ohms) = 15.8524\n",
        "Velocity of propagation (in m/s) = 96324194.8602\n"
       ]
      }
     ],
     "prompt_number": 7
    },
    {
     "cell_type": "heading",
     "level": 2,
     "metadata": {},
     "source": [
      "Example 4.6  Page No : 84"
     ]
    },
    {
     "cell_type": "code",
     "collapsed": false,
     "input": [
      "import math \n",
      "\n",
      "\n",
      "                                           #For TE Wave propagated:\n",
      "                                           #for Recmath.tangular , taking (a=2b)\n",
      "r = 100                                    #assume\n",
      "                                           #for TE11, wavelength=2*pi*r/1.841\n",
      "                                           #for TE10, wavelength=2a\n",
      "#calculations\n",
      "a = (2*math.pi*r/1.841)/2\n",
      "ar_rec_TE = (a)*(a/2)\n",
      "ar_cir_TE = math.pi*r**2\n",
      "ratio_TE = (ar_cir_TE)/(ar_rec_TE)\n",
      "b = (2.6155*r)/1.78885\n",
      "ar_rec_TM = (b)*(b)\n",
      "ar_cir_TM = math.pi*r**2\n",
      "ratio_TM = (ar_cir_TM)/(ar_rec_TM)\n",
      "\n",
      "#---output---#\n",
      "print 'Ratio of Circular & Rectangular coss-section area (in TE) =',round(ratio_TE,4)\n",
      "                                         #For TM Wave propagated:\n",
      "                                         #for Recmath.tangular , taking (a=2b)\n",
      "                                         #for TE01, wavelength=2.6155*r\n",
      "                                         #for TE11, wavelength=4b/math.sqrt(5)\n",
      "\n",
      "print 'Ratio of Circular & Rectangular coss-section area (in TM) =',round(ratio_TM,4)\n"
     ],
     "language": "python",
     "metadata": {},
     "outputs": [
      {
       "output_type": "stream",
       "stream": "stdout",
       "text": [
        "Ratio of Circular & Rectangular coss-section area (in TE) = 2.1577\n",
        "Ratio of Circular & Rectangular coss-section area (in TM) = 1.4696\n"
       ]
      }
     ],
     "prompt_number": 9
    },
    {
     "cell_type": "heading",
     "level": 2,
     "metadata": {},
     "source": [
      "Example 4.7  Page No : 89"
     ]
    },
    {
     "cell_type": "code",
     "collapsed": false,
     "input": [
      "import math \n",
      "\n",
      "\n",
      "f = 9*10**9               #in Hz\n",
      "c = 3*10**10              #in cm/s\n",
      "\n",
      "#calculations\n",
      "wl_g = 4                  #in m\n",
      "wl_o = c/f\n",
      "wl_c = (math.sqrt(1-((wl_o/wl_g)**2))/wl_o)**(-1)\n",
      "b = wl_c/4\n",
      "\n",
      "#---output---#\n",
      "print 'Breadth of rectangular waveguide (in cm) =',round(b,4)\n"
     ],
     "language": "python",
     "metadata": {},
     "outputs": [
      {
       "output_type": "stream",
       "stream": "stdout",
       "text": [
        "Breadth of rectangular waveguide (in cm) = 0.75\n"
       ]
      }
     ],
     "prompt_number": 10
    },
    {
     "cell_type": "heading",
     "level": 2,
     "metadata": {},
     "source": [
      "Example 4.8  Page No : 96"
     ]
    },
    {
     "cell_type": "code",
     "collapsed": false,
     "input": [
      "import math \n",
      "\n",
      "\n",
      "a = 10                               #in cm\n",
      "c = 3*10**10                         #in cm/s\n",
      "\n",
      "#calculations\n",
      "wl_c = 2*a                           #in cm\n",
      "f = 2.5*10**9                        #in Hz\n",
      "wl_o = c/f\n",
      "wl_g = wl_o/(math.sqrt(1-(wl_o/wl_c)**2))       #in cm\n",
      "V_p = c/(math.sqrt(1-(wl_o/wl_c)**2))\n",
      "V_g = c**2/V_p\n",
      "\n",
      "#---output---#\n",
      "print 'Cut-off wavelength (in cm) =',round(wl_c,4)\n",
      "print 'Guide wavelength (in cm) =',round(wl_g,4)\n",
      "print 'Phase velocity (in cm/s) =',round(V_p,4)\n",
      "print 'Group velocity (in cm/s) =',round(V_g,4)\n"
     ],
     "language": "python",
     "metadata": {},
     "outputs": [
      {
       "output_type": "stream",
       "stream": "stdout",
       "text": [
        "Cut-off wavelength (in cm) = 20.0\n",
        "Guide wavelength (in cm) = 15.0\n",
        "Phase velocity (in cm/s) = 37500000000.0\n",
        "Group velocity (in cm/s) = 24000000000.0\n"
       ]
      }
     ],
     "prompt_number": 11
    },
    {
     "cell_type": "heading",
     "level": 2,
     "metadata": {},
     "source": [
      "Example 4.9  Page No : 102"
     ]
    },
    {
     "cell_type": "code",
     "collapsed": false,
     "input": [
      "import math \n",
      "\n",
      "\n",
      "                                          #For TE mode:\n",
      "\n",
      "a = 2.5                     #in cm\n",
      "b = 1                       #in cm\n",
      "f = 8.6*10**9               #in Hz\n",
      "c = 3*10**10                #in cm/s\n",
      "\n",
      "#calculations\n",
      "wl_o = c/f\n",
      "wl_c_1 = 2*b                #for TE01\n",
      "wl_c_2 = 2*a                #for TE10\n",
      "f_c = c/wl_c_2\n",
      "wl_c_3 = 2*a*b/math.sqrt(a**2+b**2)                    #for TE11 & TM11\n",
      "wl_g_TE10 = wl_o/(math.sqrt(1-(wl_o/wl_c_2)**2))       #for TE10\n",
      "wl_c_TM11 = wl_c_3;\n",
      "wl_g_TM11 = wl_o/(math.sqrt(1-(wl_o/wl_c_2)**2))       #for TM11\n",
      "\n",
      "#---output---#\n",
      "print 'Only TE10 mode is possible'\n",
      "print 'Cut-off frequency(in Hz) =',round(f_c,4)\n",
      "print wl_g_TE10,'Guide wavelength for TE10 (in cm) =',round(wl_g_TE10,4)\n",
      "                                                     #For TM mode:\n",
      "print 'TM11 also propagates'\n",
      "print 'Guide wavelength for TM11 (in cm) =',round(wl_g_TM11,4)\n"
     ],
     "language": "python",
     "metadata": {},
     "outputs": [
      {
       "output_type": "stream",
       "stream": "stdout",
       "text": [
        "Only TE10 mode is possible\n",
        "Cut-off frequency(in Hz) = 6000000000.0\n",
        "4.86920604871 Guide wavelength for TE10 (in cm) = 4.8692\n",
        "TM11 also propagates\n",
        "Guide wavelength for TM11 (in cm) = 4.8692\n"
       ]
      }
     ],
     "prompt_number": 12
    },
    {
     "cell_type": "heading",
     "level": 2,
     "metadata": {},
     "source": [
      "Example 4.10  Page No : 105"
     ]
    },
    {
     "cell_type": "code",
     "collapsed": false,
     "input": [
      "import math \n",
      "\n",
      "\n",
      "wl_c = 10                       #in cm \n",
      "c = 3*10**10                    #in cm/s\n",
      "\n",
      "#calculations\n",
      "r = wl_c/(2*math.pi/1.841)      #in cm\n",
      "area = math.pi*r**2             #in sq. cm\n",
      "f_c = c/wl_c\n",
      "\n",
      "#---output---#\n",
      "print 'Radius of circular waveguide(in cm) =',round(r,4)\n",
      "print 'Area of cross-section of circular waveguide(in cm) =',round(area,4)\n",
      "print 'Frequency above',round(f_c,4),'can be propagated'\n"
     ],
     "language": "python",
     "metadata": {},
     "outputs": [
      {
       "output_type": "stream",
       "stream": "stdout",
       "text": [
        "Radius of circular waveguide(in cm) = 2.93\n",
        "Area of cross-section of circular waveguide(in cm) = 26.971\n",
        "Frequency above 3000000000.0 can be propagated\n"
       ]
      }
     ],
     "prompt_number": 13
    },
    {
     "cell_type": "heading",
     "level": 2,
     "metadata": {},
     "source": [
      "Example 4.11  Page No : 106"
     ]
    },
    {
     "cell_type": "code",
     "collapsed": false,
     "input": [
      "import math \n",
      "\n",
      "\n",
      "a = 4                                    #in cm\n",
      "b = 3                                    #in cm \n",
      "f = 5*10**9                              #in Hz\n",
      "c = 3*10**10                             #in cm/s\n",
      "\n",
      "#calculations\n",
      "wl_o = c/f \n",
      "\n",
      "                                        #For TE waves:\n",
      "wl_c_TE01 = 2*b                          #for TE01\n",
      "wl_c_TE10 = 2*a                          #for TE10\n",
      "wl_c_TE11 = 2*a*b/math.sqrt(a**2+b**2)   #for TE11\n",
      "\n",
      "\n",
      "\n",
      "#---logic---#\n",
      "if(wl_c_TE01>wl_o):\n",
      "    print 'TE01 can propagate'\n",
      "else:\n",
      "    print 'TE01 cannot propagate'\n",
      "\n",
      "if(wl_c_TE10>wl_o):\n",
      "    print 'TE10 can propagate'\n",
      "else:\n",
      "    print 'TE10 cannot propagate'\n",
      "\n",
      "if(wl_c_TE11>wl_o):\n",
      "    print 'TE11 can propagate'\n",
      "else:\n",
      "    print 'TE11 cannot propagate'\n"
     ],
     "language": "python",
     "metadata": {},
     "outputs": [
      {
       "output_type": "stream",
       "stream": "stdout",
       "text": [
        "TE01 cannot propagate\n",
        "TE10 can propagate\n",
        "TE11 cannot propagate\n"
       ]
      }
     ],
     "prompt_number": 14
    },
    {
     "cell_type": "heading",
     "level": 2,
     "metadata": {},
     "source": [
      "Example 4.12  Page No : 107"
     ]
    },
    {
     "cell_type": "code",
     "collapsed": false,
     "input": [
      "import math \n",
      "\n",
      "\n",
      "\n",
      "c = 3*10**10                       #in cm/s\n",
      "d = 4                              #in cm\n",
      "\n",
      "\n",
      "#calculations\n",
      "r = d/2                            #in cm\n",
      "wl_c = 2*math.pi*r/1.841           #in cm\n",
      "f_c = c/wl_c \n",
      "f_signal = 5*10**9                 #in Hz\n",
      "wl_o = c/f_signal \n",
      "wl_g = wl_o/math.sqrt(1-(wl_o/wl_c)**2)\n",
      "\n",
      "\n",
      "#---output---#\n",
      "print 'Cut-off wavelength (in cm) =',round(wl_c,4)\n",
      "print 'Cut-off frequency (in Hz) =',round(f_c,4)\n",
      "print 'Guide wavelength (in cm) =',round(wl_g,4)\n"
     ],
     "language": "python",
     "metadata": {},
     "outputs": [
      {
       "output_type": "stream",
       "stream": "stdout",
       "text": [
        "Cut-off wavelength (in cm) = 6.8258\n",
        "Cut-off frequency (in Hz) = 4395063753.48\n",
        "Guide wavelength (in cm) = 12.5839\n"
       ]
      }
     ],
     "prompt_number": 15
    },
    {
     "cell_type": "heading",
     "level": 2,
     "metadata": {},
     "source": [
      "Example 4.14  Page No : 115"
     ]
    },
    {
     "cell_type": "code",
     "collapsed": false,
     "input": [
      "import math \n",
      "\n",
      "\n",
      "\n",
      "c = 3*10**10                        #in cm/s\n",
      "a = 5                               #in cm\n",
      "b = 2.5                             #in cm\n",
      "wl_o = 4.5                          #in cm\n",
      "                             #For TE10 mode:\n",
      "\n",
      "#calculations\n",
      "wl_c = 2*a \n",
      "wl_g = wl_o/math.sqrt(1-(wl_o/wl_c)**2) \n",
      "V_p = c/math.sqrt(1-(wl_o/wl_c)**2) \n",
      "w = 2*math.pi*c/wl_o \n",
      "w_c = 2*math.pi*c/wl_c\n",
      "b = math.sqrt(w**2-w_c**2)/c\n",
      "\n",
      "\n",
      "#---output---#\n",
      "print 'Guide wavelength (in cm) =',round(wl_g,4)\n",
      "print 'Phase consmath.tant =',round(b,4)\n",
      "print 'Phase velocity (in cm/s) =',round(V_p,4)\n",
      "\n",
      "\n",
      "#answer in book is wrongly written as guide wavelength =7.803 cm\n",
      "#answer in book is wrongly written as Phase velocity = 5.22*10**10 cm/s\n"
     ],
     "language": "python",
     "metadata": {},
     "outputs": [
      {
       "output_type": "stream",
       "stream": "stdout",
       "text": [
        "Guide wavelength (in cm) = 5.039\n",
        "Phase consmath.tant = 1.2469\n",
        "Phase velocity (in cm/s) = 33593550657.4\n"
       ]
      }
     ],
     "prompt_number": 16
    },
    {
     "cell_type": "heading",
     "level": 2,
     "metadata": {},
     "source": [
      "Example 4.15  Page No : 121"
     ]
    },
    {
     "cell_type": "code",
     "collapsed": false,
     "input": [
      "import math \n",
      "\n",
      "\n",
      "\n",
      "\n",
      "c = 3*10**10                                   #in cm/s\n",
      "wl_c_TE10 = 16                                 #Critical wavelength of TE10\n",
      "wl_c_TM11 = 7.16                               #Critical wavelength of TM11\n",
      "wl_c_TM21 = 5.6                                #Critical wavelength of TM21\n",
      "                                        #For (i): 10 cm\n",
      "wl_o = 10                                      #in cm\n",
      "\n",
      "wl_o=5                                         #in cm\n",
      "\n",
      "\n",
      "\n",
      "\n",
      "#---logic---#\n",
      "print 'For free space wavelength (in cm) =',round(wl_o,4)\n",
      "if(wl_c_TE10>wl_o):\n",
      "    print '    TE10 can propagate'\n",
      "else:\n",
      "    print '    TE10 cannot propagate'\n",
      "\n",
      "if(wl_c_TM11>wl_o):\n",
      "    print '    TM11 can propagate'\n",
      "else:\n",
      "    print '    TM11 cannot propagate'\n",
      "\n",
      "if(wl_c_TM21>wl_o):\n",
      "    print '    TM21 can propagate'\n",
      "else:\n",
      "    print '    TM21 cannot propagate'\n",
      "\n",
      "                                                 #For (ii): 5 cm\n",
      "\n",
      "print ('For free space wavelength (in cm) =',round(wl_o)) \n",
      "if(wl_c_TE10>wl_o):\n",
      "    print ('    TE10 can propagate')\n",
      "else:\n",
      "    print ('    TE10 cannot propagate')\n",
      "\n",
      "if(wl_c_TM11>wl_o):\n",
      "    print ('    TM11 can propagate')\n",
      "else:\n",
      "    print ('    TM11 cannot propagate')\n",
      "\n",
      "if(wl_c_TM21>wl_o):\n",
      "    print ('    TM21 can propagate')\n",
      "else:\n",
      "    print ('    TM21 cannot propagate')\n"
     ],
     "language": "python",
     "metadata": {},
     "outputs": [
      {
       "output_type": "stream",
       "stream": "stdout",
       "text": [
        "For free space wavelength (in cm) = 5.0\n",
        "    TE10 can propagate\n",
        "    TM11 can propagate\n",
        "    TM21 can propagate\n",
        "('For free space wavelength (in cm) =', 5.0)\n",
        "    TE10 can propagate\n",
        "    TM11 can propagate\n",
        "    TM21 can propagate\n"
       ]
      }
     ],
     "prompt_number": 17
    },
    {
     "cell_type": "heading",
     "level": 2,
     "metadata": {},
     "source": [
      "Example 4.16  Page No : 126"
     ]
    },
    {
     "cell_type": "code",
     "collapsed": false,
     "input": [
      "import math \n",
      "\n",
      "\n",
      "c = 3*10**10                      #in cm/s\n",
      "f = 10*10**9                      #in Hz\n",
      "a = 3                             #in cm\n",
      "b = 2                             #in cm\n",
      "\n",
      "#calculations\n",
      "n = 120 * math.pi\n",
      "wl_o = c/f\n",
      "wl_c = 2*a*b/math.sqrt(a**2+b**2)\n",
      "Z_TM = round(n*math.sqrt(1-(wl_o/wl_c)**2),4)\n",
      "\n",
      "#output\n",
      "print 'Characteristic impedance (in ohms) =', Z_TM\n",
      "\n",
      "#answer in book is wrongly written as 61.618 ohms\n"
     ],
     "language": "python",
     "metadata": {},
     "outputs": [
      {
       "output_type": "stream",
       "stream": "stdout",
       "text": [
        "Characteristic impedance (in ohms) = 163.2419\n"
       ]
      }
     ],
     "prompt_number": 18
    },
    {
     "cell_type": "heading",
     "level": 2,
     "metadata": {},
     "source": [
      "Example 4.17  Page No : 134"
     ]
    },
    {
     "cell_type": "code",
     "collapsed": false,
     "input": [
      "import math \n",
      "\n",
      "\n",
      "c = 3*10**10                    #in cm/s\n",
      "f = 6*10**9                     #in Hz\n",
      "\n",
      "#calculations\n",
      "f_c = 0.8*f\n",
      "wl_c = c/f_c\n",
      "D = round(1.841*(wl_c/math.pi),4)\n",
      "wl_o = c/f\n",
      "wl_g = round(wl_o/math.sqrt(1-(wl_o/wl_c)**2),4)\n",
      "\n",
      "\n",
      "\n",
      "#output\n",
      "print 'Diameter of waveguide (in cm) =', D\n",
      "print 'Guide wavelength (in cm) =', wl_g\n"
     ],
     "language": "python",
     "metadata": {},
     "outputs": [
      {
       "output_type": "stream",
       "stream": "stdout",
       "text": [
        "Diameter of waveguide (in cm) = 3.6626\n",
        "Guide wavelength (in cm) = 8.3333\n"
       ]
      }
     ],
     "prompt_number": 19
    },
    {
     "cell_type": "heading",
     "level": 2,
     "metadata": {},
     "source": [
      "Example 4.18  Page No : 142"
     ]
    },
    {
     "cell_type": "code",
     "collapsed": false,
     "input": [
      "import math \n",
      "\n",
      "\n",
      "a = 1.5                       #in cm\n",
      "b = 1                         #in cm\n",
      "e_r = 4                       #dielectric\n",
      "c = 3*10**10                  #in cm/s\n",
      "\n",
      "#calculations\n",
      "wl_c = 2*b\n",
      "f_c = c/wl_c\n",
      "f_imp = 6*10**9               #impressed frequency (in Hz)\n",
      "wl_air = c/f_imp\n",
      "\n",
      "                              #Inserting dielectric:\n",
      "wl_dielec = wl_air/math.sqrt(e_r)\n",
      "\n",
      "\n",
      "#---logic--#\n",
      "if(wl_dielec > wl_c):\n",
      "    print '    TE01 can propagate'\n",
      "else:\n",
      "    print '    TE01 cannot propagate'\n",
      "\n"
     ],
     "language": "python",
     "metadata": {},
     "outputs": [
      {
       "output_type": "stream",
       "stream": "stdout",
       "text": [
        "    TE01 can propagate\n"
       ]
      }
     ],
     "prompt_number": 20
    },
    {
     "cell_type": "heading",
     "level": 2,
     "metadata": {},
     "source": [
      "Example 4.19  Page No : 148"
     ]
    },
    {
     "cell_type": "code",
     "collapsed": false,
     "input": [
      "import math\n",
      "\n",
      "\n",
      "u = 4*math.pi*10**-7\n",
      "e = 8.85*10**-12\n",
      "c = 3*10**10          #in cm/s\n",
      "f = 6*10**9           #in Hz\n",
      "a = 1.5               #in cm\n",
      "b = 1                 #in cm\n",
      "                      #For TE10 mode:\n",
      "m = 1\n",
      "n = 0\n",
      "\n",
      "\n",
      "#calculations\n",
      "wl_c = 2*a\n",
      "f_c = c/wl_c\n",
      "t_1 = (m*math.pi/a)**2\n",
      "t_2 = (n*math.pi/b)**2\n",
      "t_3 = (((2*math.pi*f)**2)*u*e)\n",
      "a = math.sqrt(abs(t_1+t_2-t_3))              #in neper/m\n",
      "                                             # variable t_1+t_2-t_3 is negative. So I changed the sign to calculate sqrt.\n",
      "\n",
      "\n",
      "#---output---#\n",
      "print 'Attenuation (in dB/m) =', round(a*20 / math.log(10),4)\n"
     ],
     "language": "python",
     "metadata": {},
     "outputs": [
      {
       "output_type": "stream",
       "stream": "stdout",
       "text": [
        "Attenuation (in dB/m) = 1091.8468\n"
       ]
      }
     ],
     "prompt_number": 21
    },
    {
     "cell_type": "heading",
     "level": 2,
     "metadata": {},
     "source": [
      "Example 4.20  Page No : 149"
     ]
    },
    {
     "cell_type": "code",
     "collapsed": false,
     "input": [
      "import math\n",
      "\n",
      "\n",
      "c = 3*10**10                           #in cm/s\n",
      "f = 9*10**9                            #inHz\n",
      "a = 3                                  #in cm\n",
      "b = 1                                  #in cm\n",
      "E_max = 3000                           #in V/cm\n",
      "\n",
      "#calculations\n",
      "wl_o = c/f\n",
      "wl_c = 2*a                             #in TE10\n",
      "wl_g = round(wl_o/math.sqrt(1-(wl_o/wl_c)**2))\n",
      "P_max = (6.63*10**-4)*E_max**2*a*b*(wl_o/wl_g)\n",
      "\n",
      "#---output---#\n",
      "print 'Maximum power for rectangular waveguide (in kilowatts)=', round(P_max/1000, 4)\n"
     ],
     "language": "python",
     "metadata": {},
     "outputs": [
      {
       "output_type": "stream",
       "stream": "stdout",
       "text": [
        "Maximum power for rectangular waveguide (in kilowatts)= 17.901\n"
       ]
      }
     ],
     "prompt_number": 22
    },
    {
     "cell_type": "heading",
     "level": 2,
     "metadata": {},
     "source": [
      "Example 4.21  Page No : 150"
     ]
    },
    {
     "cell_type": "code",
     "collapsed": false,
     "input": [
      "import math \n",
      "\n",
      "\n",
      "\n",
      "c = 3*10**10                #in cm/s\n",
      "f = 9*10**9                 #inHz\n",
      "E_max = 300                 #in V/cm\n",
      "d = 5\n",
      "\n",
      "#calculations\n",
      "wl_o = c/f\n",
      "                           #For TE11\n",
      "wl_c = d*math.pi/1.841\n",
      "wl_g = wl_o/math.sqrt(1-(wl_o/wl_c)**2)\n",
      "P_max = 0.498*E_max**2*d**2*(wl_o/wl_g)\n",
      "\n",
      "\n",
      "\n",
      "#---output---#\n",
      "print 'Maximum power (in watts) =',round(P_max,4)\n"
     ],
     "language": "python",
     "metadata": {},
     "outputs": [
      {
       "output_type": "stream",
       "stream": "stdout",
       "text": [
        "Maximum power (in watts) = 1048954.2981\n"
       ]
      }
     ],
     "prompt_number": 23
    },
    {
     "cell_type": "heading",
     "level": 2,
     "metadata": {},
     "source": [
      "Example 4.22  Page No : 156"
     ]
    },
    {
     "cell_type": "code",
     "collapsed": false,
     "input": [
      "import math\n",
      "\n",
      "\n",
      "\n",
      "c = 3.*10**10                      #in cm/s\n",
      "f = 30.*10**9                      #inHz\n",
      "a = 1.                             #in cm\n",
      "b = 1.\n",
      "P_max = 746.                       #in watts\n",
      "\n",
      "#calculations\n",
      "wl_o = c/f\n",
      "wl_c = 2*a\n",
      "Z = 120*math.pi/math.sqrt(1-(wl_o/wl_c)**2)\n",
      "E_max = math.sqrt(P_max*4*Z/(a*b/10000))\n",
      "\n",
      "#---output---#\n",
      "print 'Peak value of electric field (in kV/m) =',round(E_max/1000,4)\n"
     ],
     "language": "python",
     "metadata": {},
     "outputs": [
      {
       "output_type": "stream",
       "stream": "stdout",
       "text": [
        "Peak value of electric field (in kV/m) = 113.9724\n"
       ]
      }
     ],
     "prompt_number": 25
    },
    {
     "cell_type": "heading",
     "level": 2,
     "metadata": {},
     "source": [
      "Example 4.23  Page No : 163"
     ]
    },
    {
     "cell_type": "code",
     "collapsed": false,
     "input": [
      "import math\n",
      "\n",
      "\n",
      "\n",
      "#Given: \n",
      "c = 3*10**10                      #in cm/s\n",
      "a = 2.3                           #in cm\n",
      "b = 1                             #in cm\n",
      "f = 9.375*10**9                   #in Hz\n",
      "\n",
      "#calculations\n",
      "wl_o = c/f\n",
      "P_bd_TE11 = 597 * 2.3 * 1 * (1-(wl_o/(2*a))**2)**0.5\n",
      "\n",
      "#---output---#\n",
      "print 'Breakdown power for dominant mode (in kW) =',round(P_bd_TE11,4)\n"
     ],
     "language": "python",
     "metadata": {},
     "outputs": [
      {
       "output_type": "stream",
       "stream": "stdout",
       "text": [
        "Breakdown power for dominant mode (in kW) = 986.4059\n"
       ]
      }
     ],
     "prompt_number": 26
    },
    {
     "cell_type": "heading",
     "level": 2,
     "metadata": {},
     "source": [
      "Example 4.24  Page No : 166"
     ]
    },
    {
     "cell_type": "code",
     "collapsed": false,
     "input": [
      "import math \n",
      "\n",
      "\n",
      "\n",
      "#Given: \n",
      "d = 5                                #in cm\n",
      "c = 3*10**10                         #in cm/s\n",
      "f = 9*10**9                          #inHz\n",
      "                                     #Dominant mode is TE11:\n",
      "#calculations\n",
      "wl_o = c/f\n",
      "wl_c = math.pi*d/1.841\n",
      "f_c = c/wl_c\n",
      "P_bd_TE11 = 1790*(d/2)**2*(1-(f_c/f)**2)**0.5\n",
      "\n",
      "#---output---#\n",
      "print 'Breakdown power (in kW) =',round(P_bd_TE11/1000,4)\n"
     ],
     "language": "python",
     "metadata": {},
     "outputs": [
      {
       "output_type": "stream",
       "stream": "stdout",
       "text": [
        "Breakdown power (in kW) = 6.591\n"
       ]
      }
     ],
     "prompt_number": 27
    }
   ],
   "metadata": {}
  }
 ]
}