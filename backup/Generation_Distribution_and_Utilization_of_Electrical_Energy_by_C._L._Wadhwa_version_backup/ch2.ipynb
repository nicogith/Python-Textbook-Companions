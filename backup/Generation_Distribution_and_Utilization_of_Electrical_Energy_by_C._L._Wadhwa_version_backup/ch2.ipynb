{
 "metadata": {
  "name": "",
  "signature": "sha256:431173d6100b9446145193aba59ac72220ea87bbaab0a5b6f70b90bad00211cf"
 },
 "nbformat": 3,
 "nbformat_minor": 0,
 "worksheets": [
  {
   "cells": [
    {
     "cell_type": "heading",
     "level": 1,
     "metadata": {},
     "source": [
      "Chapter2, Economics of Generation"
     ]
    },
    {
     "cell_type": "heading",
     "level": 2,
     "metadata": {},
     "source": [
      "Ex1 : Page 73"
     ]
    },
    {
     "cell_type": "code",
     "collapsed": false,
     "input": [
      "from __future__ import division\n",
      "#To Determine the Demand and Supply Parameters for 15 bulbs\n",
      "\n",
      "W=60  #Wattage of the bulb\n",
      "N=15  #No. of bulbs\n",
      "CL=W*N  #Connected Load \n",
      "Wih=2*(10**3)  #Wattage of immersion heater\n",
      "Wh=2*(10**3)  #Wattage of heater\n",
      "\n",
      "#Usage of Bulbs at different time periods\n",
      "N1=5 \n",
      "N2=10 \n",
      "N3=6\n",
      "\n",
      "#Time periods for bulbs\n",
      "T1=2  #6pm - 8pm\n",
      "T2=2  #8pm - 10pm\n",
      "T3=2  #10pm - 12pm\n",
      "#Time Periods for heaters\n",
      "T4=4  #1pm - 5pm\n",
      "T5=3  #8pm - 11pm\n",
      "\n",
      "#CASE 1\n",
      "MD1=W*N2  #Maximum Demand\n",
      "DF=MD1*100/CL  #Demand Factor\n",
      "EC1=(N1*W*T1)+(N2*W*T2)+(N3*W*T3)  #Energy Consumed\n",
      "DLF1=EC1*100/(24*MD1)  #Daily Load Factor\n",
      "\n",
      "#CASE 2\n",
      "MD2=(W*N2)+Wh  #From 8pm - 10pm\n",
      "EC2=(T4*Wih)+(T5*Wh)+EC1  #Energy Consumed\n",
      "DLF2=EC2*100/(24*MD2)  #Daily Load Factor\n",
      "\n",
      "print '''i)a) Connected Load is %g W\n",
      "b) The Maximum Demand is %g W\n",
      "c) The Demand Factor is %0.2f percent\n",
      "d) The Daily Load Factor is %g percent'''%(CL,MD1,DF,DLF1)\n",
      "print 'ii) The Improved Daily Load Factor is %0.2f %%'%DLF2"
     ],
     "language": "python",
     "metadata": {},
     "outputs": [
      {
       "output_type": "stream",
       "stream": "stdout",
       "text": [
        "i)a) Connected Load is 900 W\n",
        "b) The Maximum Demand is 600 W\n",
        "c) The Demand Factor is 66.67 percent\n",
        "d) The Daily Load Factor is 17.5 percent\n",
        "ii) The Improved Daily Load Factor is 26.47 %\n"
       ]
      }
     ],
     "prompt_number": 1
    },
    {
     "cell_type": "heading",
     "level": 2,
     "metadata": {},
     "source": [
      "Ex2 : Page 74"
     ]
    },
    {
     "cell_type": "code",
     "collapsed": false,
     "input": [
      "#To determine the Demand and supply parameter of four consumers\n",
      "#Maximum Demands of various users\n",
      "MD1=2*(10**3)  #9pm\n",
      "MD2=2*(10**3)  #12 noon\n",
      "MD3=8*(10**3)  #5pm\n",
      "MD4=4*(10**3)  #8pm\n",
      "MDT=MD1+MD2+MD3+MD4  #Sum of all Maximum Demands\n",
      "\n",
      "#Demands of various users\n",
      "D1=1.6*(10**3)  #8pm\n",
      "D2=1*(10**3)  #8pm\n",
      "D3=5*(10**3)  #8pm\n",
      "\n",
      "#The Number after the Alphabets represents the Consumer\n",
      "\n",
      "#Maximum Demand of the System arises at 8.00 PM\n",
      "MDS = D1+D2+D3+MD4 \n",
      "\n",
      "TDF=MDT/MDS  #Diversity Factor\n",
      "#Given Values\n",
      "#Average Loads\n",
      "AL2=500 \n",
      "AL4=1000 \n",
      "#Load Factors\n",
      "LF1=15/100 \n",
      "LF3=25/100 \n",
      "#Calculated Values\n",
      "#Average Loads\n",
      "AL1=LF1*MD1 \n",
      "AL3=LF3*MD3 \n",
      "#Load Factors\n",
      "LF2=AL2*100/MD2 \n",
      "LF4=AL4*100/MD4 \n",
      "\n",
      "ALS=AL1+AL2+AL3+AL4   #Combined Average Loads\n",
      "LFS=ALS*100/MDS  #Combined Load Factor\n",
      "\n",
      "print 'i) The Diversity Factor is %0.3f '%TDF\n",
      "print 'ii) The Average load and Load factor of:'\n",
      "print ' Consumer 1 : %g kW and %g %%'%(AL1/1000,LF1*100)\n",
      "print ' Consumer 2 : %g kW and %g %%'%(AL2/1000,LF2)\n",
      "print ' Consumer 3 : %g kW and %g %%'%(AL3/1000,LF3*100)\n",
      "print ' Consumer 4 : %g kW and %g %%'%(AL4/1000,LF4)\n",
      "print 'iii) The Combined Load Factor and The Combined Average Load is %0.2f percent and %0.2f kW respectively'%(LFS,ALS/1000 )"
     ],
     "language": "python",
     "metadata": {},
     "outputs": [
      {
       "output_type": "stream",
       "stream": "stdout",
       "text": [
        "i) The Diversity Factor is 1.379 \n",
        "ii) The Average load and Load factor of:\n",
        " Consumer 1 : 0.3 kW and 15 %\n",
        " Consumer 2 : 0.5 kW and 25 %\n",
        " Consumer 3 : 2 kW and 25 %\n",
        " Consumer 4 : 1 kW and 25 %\n",
        "iii) The Combined Load Factor and The Combined Average Load is 32.76 percent and 3.80 kW respectively\n"
       ]
      }
     ],
     "prompt_number": 2
    },
    {
     "cell_type": "heading",
     "level": 2,
     "metadata": {},
     "source": [
      "Ex3 : Page 75"
     ]
    },
    {
     "cell_type": "code",
     "collapsed": false,
     "input": [
      "#To Determine the Yearly Cost of the substation\n",
      "\n",
      "Teff=95/100  #Transmission Efficiency\n",
      "Deff=85/100  #Distribution Efficiency\n",
      "DFT=1.2  #Diversity Factor For Transmission\n",
      "DFD=1.3  #Diversity Factor For Distribution\n",
      "MDGS=100*(10**6)  #Maximum Demand of Generating Station\n",
      "ALF=40/100  #Annual Load Factor\n",
      "ACCT=2.5*(10**6)  #Annual Capital Charge for Transmission\n",
      "ACCD=2*(10**6)  #Annual Capital Charge for Distribution\n",
      "GCC=100  #Generating Cost per KW demand\n",
      "GCCU=5/100  # Per Unit Cost\n",
      "#Fixed Charges from Supply to Substation Annually\n",
      "GFC=GCC*MDGS/1000  #Generating\n",
      "TFC=ACCT  #Transmission\n",
      "TotFCS=GFC+TFC  #Total\n",
      "#Fixed Charges for supply upto Consumer Annually\n",
      "DFC=ACCD  #Distribution\n",
      "TotFCC=TotFCS+DFC  #Total\n",
      "\n",
      "AMDS= DFT*MDGS/1000  #Aggregate of Maximum Demand at Supply\n",
      "AMDC= DFD*AMDS  #Aggregate of Maximum Demand for Consumers\n",
      "\n",
      "FCS=TotFCS/AMDS  #Fixed Charges Per KW at substation\n",
      "CES=GCCU/Teff  #Cost of energy at the substation\n",
      "\n",
      "FCC=TotFCC/AMDC  #Fixed Charges per KW at the consumer premises\n",
      "CEC=CES/Deff  #Cost of Energy at the consumer premises\n",
      "\n",
      "print 'The Yealy Cost per KW demand and the cost per KWhr at:'\n",
      "print 'a) The substation is %0.2f rupees per KW and %0.2f paise per KWhr'%(FCS,CES*100)\n",
      "print 'b) The consumer premises is %g rupees per KW and %0.1f paise per KWhr'%(FCC,CEC*100)"
     ],
     "language": "python",
     "metadata": {},
     "outputs": [
      {
       "output_type": "stream",
       "stream": "stdout",
       "text": [
        "The Yealy Cost per KW demand and the cost per KWhr at:\n",
        "a) The substation is 104.17 rupees per KW and 5.26 paise per KWhr\n",
        "b) The consumer premises is 92.9487 rupees per KW and 6.2 paise per KWhr\n"
       ]
      }
     ],
     "prompt_number": 3
    },
    {
     "cell_type": "heading",
     "level": 2,
     "metadata": {},
     "source": [
      "Ex4 : Page 78"
     ]
    },
    {
     "cell_type": "code",
     "collapsed": false,
     "input": [
      "#To determine the Load factor and suitable units for 24 hr operation of the plant\n",
      "\n",
      "\n",
      "#Demands at Various Time Periods starting from 12PM to 12PM\n",
      "D1=500*(10**3)  \n",
      "D2=800*(10**3) \n",
      "D3=2000*(10**3) \n",
      "D4=1000*(10**3) \n",
      "D5=2500*(10**3) \n",
      "D6=2000*(10**3) \n",
      "D7=1500*(10**3) \n",
      "D8=1000*(10**3) \n",
      "\n",
      "MD=D5  #Maximum Demand\n",
      "#Time Periods of demands ststing from 12PM\n",
      "T1=5 \n",
      "T2=5 \n",
      "T3=2 \n",
      "T4=2 \n",
      "T5=3 \n",
      "T6=3 \n",
      "T7=2 \n",
      "T8=2 \n",
      "\n",
      "#Total Energy Demand in 24hrs\n",
      "TED=(T1*D1)+(T2*D2)+(T3*D3)+(D4*T4)+(T5*D5)+(D6*T6)+(D7*T7)+(T8*D8) \n",
      "\n",
      "LF=TED*100/(24*MD) \n",
      "\n",
      "print '''Since Maximum Demand is 2500 kW, \n",
      "2 units 0f 1000W and one unit of 500W is required.\n",
      "Also for continuity of supply, A reserve of 1000W unit is required.'''\n",
      "\n",
      "C1000=3*1000*(10**3)  #1000 unit \n",
      "C500=1*500*(10**3)  #500 Unit\n",
      "\n",
      "TCP=C1000+C500  #Total capacity of the plant\n",
      "PCF=TED*100/(24*TCP)  #Plant Capacity Factor\n",
      "\n",
      "#Operating Schedule, Units operated can be seen in the textbook\n",
      "G1=500*(10**3)   \n",
      "G2=1000*(10**3) \n",
      "G3=2000*(10**3) \n",
      "G4=1000*(10**3) \n",
      "G5=2500*(10**3) \n",
      "G6=2000*(10**3) \n",
      "G7=1500*(10**3) \n",
      "G8=1000*(10**3) \n",
      "\n",
      "TEG=(T1*G1)+(T2*G2)+(T3*G3)+(G4*T4)+(T5*G5)+(G6*T6)+(G7*T7)+(T8*G8) #Total Energy Generated\n",
      "PUF=TED*100/(TEG)  #Plant Use Factor\n",
      "\n",
      "print 'a) The Reserve Capacity is a 1000kW Unit and Load Factor is %0.2f percent'%LF\n",
      "print 'b) The Plant Capacity Factor is %0.2f percent'%PCF \n",
      "print 'c) The Plant Use Factor is %0.2f percent'%PUF"
     ],
     "language": "python",
     "metadata": {},
     "outputs": [
      {
       "output_type": "stream",
       "stream": "stdout",
       "text": [
        "Since Maximum Demand is 2500 kW, \n",
        "2 units 0f 1000W and one unit of 500W is required.\n",
        "Also for continuity of supply, A reserve of 1000W unit is required.\n",
        "a) The Reserve Capacity is a 1000kW Unit and Load Factor is 51.67 percent\n",
        "b) The Plant Capacity Factor is 36.90 percent\n",
        "c) The Plant Use Factor is 96.88 percent\n"
       ]
      }
     ],
     "prompt_number": 4
    },
    {
     "cell_type": "heading",
     "level": 2,
     "metadata": {},
     "source": [
      "Ex5 : Page 80"
     ]
    },
    {
     "cell_type": "code",
     "collapsed": false,
     "input": [
      "#To determine the Plant use factore of each unit\n",
      "\n",
      "\n",
      "MDS=25*(10**6)  #Maximum Demand on the System\n",
      "U1=15*(10**6)  #Load Supplied By Unit 1\n",
      "U2=12.5*(10**6)  #Load Supplied By Unit 2\n",
      "#Running Time Factor of the Unit\n",
      "T1=1 \n",
      "T2=40/100 \n",
      "\n",
      "#Energy generated by each unit\n",
      "E1=1*(10**8) \n",
      "E2=1*(10**7) \n",
      "Et=E1+E2  #Total Energy\n",
      "\n",
      "#Maximum Demands on Each Units\n",
      "MD1=U1 \n",
      "MD2=MDS-U1 \n",
      "\n",
      "#Annual Load Factor for the Units\n",
      "ALF1=E1*1000*100/(MD1*8760) \n",
      "ALF2=E2*1000*100/(MD2*8760) \n",
      "\n",
      "LF2=E2*1000*100/(MD2*0.4*8760)  #Load Factor for the it is loaded\n",
      "\n",
      "#Since Unit runs all through the year without any reserve, Load Factor ,Plant Use Factor and Plant Capacity Factor are the same\n",
      "PUF1=ALF1  #Plant Use Factor\n",
      "PCF1=ALF1  # Plant Capacity Factor\n",
      "\n",
      "PCF2=E2*1000*100/(U2*8760)  #Plant Capacity Factor for Unit 2\n",
      "PUF2=E2*1000*100/(U2*0.4*8760) #Plant Use Factor for Unit 2\n",
      "\n",
      "LFP=Et*100*1000/(MDS*8760)  #Annual Load Factor of the Complete Plant\n",
      "\n",
      "print 'The Load Factor, Plant Capacity Factor, Plant Use Factor of: ' \n",
      "print 'Unit 1 : %g percent, %g percent, %0.2f %%'%(ALF1,PCF1,PUF1)\n",
      "print 'Unit 2 : %g percent, %g percent, %0.2f %%'%(ALF2,PCF2,PUF2)\n",
      "print 'The Annual Load Factor of the Entire Plant is %0.2f %%'%(LFP)"
     ],
     "language": "python",
     "metadata": {},
     "outputs": [
      {
       "output_type": "stream",
       "stream": "stdout",
       "text": [
        "The Load Factor, Plant Capacity Factor, Plant Use Factor of: \n",
        "Unit 1 : 76.1035 percent, 76.1035 percent, 76.10 %\n",
        "Unit 2 : 11.4155 percent, 9.13242 percent, 22.83 %\n",
        "The Annual Load Factor of the Entire Plant is 50.23 %\n"
       ]
      }
     ],
     "prompt_number": 5
    },
    {
     "cell_type": "heading",
     "level": 2,
     "metadata": {},
     "source": [
      "Ex6 : Page 82"
     ]
    },
    {
     "cell_type": "code",
     "collapsed": false,
     "input": [
      "#To determine the Overall cost per kWhr\n",
      "\n",
      "\n",
      "# C1 =(100,000 rupees + 100 rupees/kW + 6 paise /kWhr) #Base Load Station\n",
      "# C2 =(80,000 rupees + 60 rupees/kW + 8 paise /kWhr) #Peak Load Station\n",
      "\n",
      "MaxD=15*(10**6) \n",
      "MinD=5*(10**6) \n",
      "\n",
      "BLS=lambda b,c:100000+(b*100)+((6/100)*c)  #Function to Find Annual Cost of Base Load Station.\n",
      "\n",
      "PLS = lambda b,c:80000+(b*60)+((8/100)*c)  #Function to Find Annual Cost of Peak Load Station.\n",
      "\n",
      "\n",
      "a1=100 \n",
      "a2=60 \n",
      "b1=6/100 \n",
      "b2=8/100 \n",
      "\n",
      "Tpeak=(a1-a2)/(b2-b1)  #Number of hours the peak plant should operate\n",
      "#From the straight line annual load duration curve, Maximum Demand at Peak Load Station can be calculated\n",
      "MDP=Tpeak*(MaxD-MinD)/8760 \n",
      "\n",
      "TotEG=(MaxD+MinD)*8760/(2*1000)  #Total Energy Generated\n",
      "EGP=MDP*Tpeak/(2*1000)  #Energy Generated by Peak Load\n",
      "EGB=TotEG-EGP  #Energy Generated by Base Load\n",
      "\n",
      "MDB=MaxD-MDP  #Maximum Demand at the Base Load\n",
      "\n",
      "#Total Annual Cost of Base Load and Peak Load Stations Respectively\n",
      "C1=BLS((MDB/1000),EGB) \n",
      "C2=PLS((MDP/1000),EGP) \n",
      "\n",
      "TotC=C1+C2  #Total Cost of both the plants\n",
      "CE=TotC*100/TotEG  #Cost of energy in paise per kWhr\n",
      "\n",
      "print 'The Operating Scedule of Peak Load Station for Minimum Annual Cost is %g hours'%Tpeak\n",
      "print 'The Overall Cost per kWhr is %0.1f paise'%CE"
     ],
     "language": "python",
     "metadata": {},
     "outputs": [
      {
       "output_type": "stream",
       "stream": "stdout",
       "text": [
        "The Operating Scedule of Peak Load Station for Minimum Annual Cost is 2000 hours\n",
        "The Overall Cost per kWhr is 7.9 paise\n"
       ]
      }
     ],
     "prompt_number": 6
    },
    {
     "cell_type": "heading",
     "level": 2,
     "metadata": {},
     "source": [
      "Ex7 : Page 90"
     ]
    },
    {
     "cell_type": "code",
     "collapsed": false,
     "input": [
      "#To determine the amount saved to replace the equipment\n",
      "\n",
      "\n",
      "Pc=80000  #Plant Cost\n",
      "UL= 15  #Useful Life of the Plant\n",
      "SVE=5000  #Salvage Value of the Equipment\n",
      "r=5/100  #Compound Interest Rate\n",
      "\n",
      "A1=(Pc-SVE)/UL  #Annual Amount to be saved using straight line method\n",
      "A2=(Pc-SVE)*r*100/(100*(((1+r)**UL)-1))# Annual Amount to be saaved using Sink Fund Method\n",
      "\n",
      "print 'i) The Amount to be Saved Annually according to straight line method is %g Rupees'%(A1)\n",
      "print 'ii) The Amount to be Saved Annually according to sink fund method is %g Rupees'%(A2)"
     ],
     "language": "python",
     "metadata": {},
     "outputs": [
      {
       "output_type": "stream",
       "stream": "stdout",
       "text": [
        "i) The Amount to be Saved Annually according to straight line method is 5000 Rupees\n",
        "ii) The Amount to be Saved Annually according to sink fund method is 3475.67 Rupees\n"
       ]
      }
     ],
     "prompt_number": 7
    },
    {
     "cell_type": "heading",
     "level": 2,
     "metadata": {},
     "source": [
      "Ex8 : Page 90"
     ]
    },
    {
     "cell_type": "code",
     "collapsed": false,
     "input": [
      "#To Obatin a two part tariff for the consumers\n",
      "\n",
      "\n",
      "EG=390*(10**6)  #Energy Generated in kWhr\n",
      "MD=130*(10**6)  #Maximum Demand of the Supply\n",
      "SCeff=90/100  #The Amount of energy transferred from Substation to Consumer\n",
      "#Total Cost for Each Division\n",
      "Fuel=5*(10**6) \n",
      "Gen=2.4*(10**6) \n",
      "Trans=5*(10**6) \n",
      "Dist=3.4*(10**6) \n",
      "Tot=Fuel+Gen+Trans+Dist  #Total Cost\n",
      "\n",
      "Runcost = lambda y,z:(y*z/100) #Function to Find out the Running Costs\n",
      "#Running Costs\n",
      "Fuelr=Runcost(90,Fuel) \n",
      "Genr=Runcost(10,Gen) \n",
      "Transr=Runcost(5,Trans) \n",
      "Distr=Runcost(7,Dist) \n",
      "Totr=Fuelr+Genr+Transr+Distr  #Total Cost\n",
      "\n",
      "FixCost=Tot-Totr # Fixed Cost\n",
      "FixChar=FixCost*1000/MD  #Fixed Charges per KW\n",
      "EnChar=Totr*100/(EG*SCeff)  #Energy Charges in Paise for Consumer\n",
      "OverCost=Tot*100/(EG*SCeff)  #Overall Energy Charges\n",
      "\n",
      "LF=40/100  #Load Factor Raised to 40%\n",
      "EG1=LF*MD*8760/1000   #Energy Generated for Different Load Factor\n",
      "Totr1=Totr*(EG1/EG)  #Cost of Energy Generated\n",
      "Tot1=FixCost+Totr1  #Total Cost for the New Load Factor\n",
      "OverCost1=Tot1*100/(EG1*SCeff)  #Overall Energy Charges\n",
      "\n",
      "Saving=(OverCost-OverCost1)*100/OverCost  #Percentage Saving in the Overall Cost per kWhr\n",
      "\n",
      "print 'The Fixed Charges is %0.2f rupees per kW'%FixChar \n",
      "print 'The Energy Charges for the Consumer is %0.3f paise per kWhr '%(EnChar)\n",
      "print '''IF the Load Factor is raised to 40percent of the Same Maximum Demand,\n",
      "then the percentage saving in the overall costs is %0.2f percent'''%Saving"
     ],
     "language": "python",
     "metadata": {},
     "outputs": [
      {
       "output_type": "stream",
       "stream": "stdout",
       "text": [
        "The Fixed Charges is 81.32 rupees per kW\n",
        "The Energy Charges for the Consumer is 1.489 paise per kWhr \n",
        "IF the Load Factor is raised to 40percent of the Same Maximum Demand,\n",
        "then the percentage saving in the overall costs is 9.62 percent\n"
       ]
      }
     ],
     "prompt_number": 8
    },
    {
     "cell_type": "heading",
     "level": 2,
     "metadata": {},
     "source": [
      "Ex8 : Page 91"
     ]
    },
    {
     "cell_type": "code",
     "collapsed": false,
     "input": [
      "import numpy as np\n",
      "#To determine the most economic power factor\n",
      "\n",
      "\n",
      "P=200*(10**3)  #Maximum Demand\n",
      "pf=0.707  #Power Factor Lagging\n",
      "\n",
      "a=100  #Tariff per kVA per year\n",
      "\n",
      "b=200  #Power factor improvement cost Per kVA.\n",
      "r=20  #Interest Depriciation, maintenance and cost of losses amount to  20% of capital cost per year\n",
      "\n",
      "# Economic PF = sqrt(1-((b1/a)**2))\n",
      "\n",
      "b1=r*b/100 # b' term accrding to the equation above\n",
      "\n",
      "pfeco=np.sqrt(1-((b1/a)**2))  #Economic Power Factor\n",
      "\n",
      "print 'The Economic Power Factor is %0.4f'%pfeco"
     ],
     "language": "python",
     "metadata": {},
     "outputs": [
      {
       "output_type": "stream",
       "stream": "stdout",
       "text": [
        "The Economic Power Factor is 0.9165\n"
       ]
      }
     ],
     "prompt_number": 9
    }
   ],
   "metadata": {}
  }
 ]
}