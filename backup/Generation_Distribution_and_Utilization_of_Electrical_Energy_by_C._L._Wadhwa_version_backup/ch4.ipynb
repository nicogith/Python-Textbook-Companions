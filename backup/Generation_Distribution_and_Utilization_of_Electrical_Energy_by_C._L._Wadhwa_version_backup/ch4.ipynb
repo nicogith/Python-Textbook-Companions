{
 "metadata": {
  "name": "",
  "signature": "sha256:121582880c5a7f12c6bf9cc2001dd40f139b035b14a8fcc31cbfd227f209a2bd"
 },
 "nbformat": 3,
 "nbformat_minor": 0,
 "worksheets": [
  {
   "cells": [
    {
     "cell_type": "heading",
     "level": 1,
     "metadata": {},
     "source": [
      "Chapter4, Electrical Drives and Industrial Applications"
     ]
    },
    {
     "cell_type": "heading",
     "level": 2,
     "metadata": {},
     "source": [
      "Ex1 : Page 191"
     ]
    },
    {
     "cell_type": "code",
     "collapsed": false,
     "input": [
      "from __future__ import division\n",
      "from sympy import symbols, solve\n",
      "#To Determine Motor Parameters of Series Motor rated at 220V\n",
      "\n",
      "V=220  #Rated Voltage\n",
      "N=1000  #Rated Speed\n",
      "Ish=20  #Current without Armature being shunted\n",
      "Ra=0.15  #Armature Resistance\n",
      "Rf=0.2  #Field Resistance\n",
      "Eb=V-(Ish*(Ra+Rf))  #Back EMF\n",
      "K=Eb/(Ish*N)  #Motor Constant\n",
      "Rsh=20  #Shunt Resistance\n",
      "\n",
      "#After Armature is shunted\n",
      "x=symbols('x')  #Field Current Variable Value\n",
      "Ia=(Ish**2)/x  #Armature Current #Since Torque is assumed constant\n",
      "I20=(V-(x*Rf))/Rsh  #Current Through the Shunt resistance\n",
      "\n",
      "X=Ia+I20-x  #Polynomial to find field Current\n",
      "\n",
      "x=solve(X, x)  #Numerical Value of Field Current\n",
      "\n",
      "#Conditon to find the Positive Root\n",
      "if abs(x[0]+x[1])==0:\n",
      "    x=x[1] \n",
      "else:\n",
      "    x=x[0] \n",
      "\n",
      "\n",
      "Ia=(Ish**2)/x  #Armature when shunted\n",
      "Ebsh=V-(Ia*Ra)-(x*Rf)  #Back Emf when shunted\n",
      "Nsh=Ebsh/(K*x)  #Speed when armature is shunted\n",
      "\n",
      "#When Load is not there, Ia = 0\n",
      "If=V/(Rsh+Rf)  #Field Current at No Load\n",
      "Ebnl=V-(If*Rf)  #Back Emf at No Load\n",
      "Nnl=Ebnl/(K*If)  #Speed at No Load\n",
      "\n",
      "Rex=5  #External Resistance\n",
      "#At Starting when Eb = 0\n",
      "Is=V/(Rex+Rf+(Ra*Rsh/(Ra+Rsh)))  #Supply Current\n",
      "Ifs=Is  #Field Current\n",
      "Ias=Ifs*Rsh/(Rsh+Ra)  #Armature Current At the Start\n",
      "\n",
      "#Torque is directly proportional to square of Current\n",
      "T20 = (Ish**2)   #Torque at shunted condition\n",
      "Tas= Ias*Ifs  #Torque at start\n",
      "\n",
      "RT=Tas/T20  #Ratio of Torques\n",
      "\n",
      "print 'a) The Speed of Motor if the Load Torque remains constant & magnetic circuit is assumed unsaturated is %g RPM'%abs(Nsh )\n",
      "print 'b) The No Load Speed of the Motor is %0.f RPM'%Nnl \n",
      "print 'c) The Starting Torque represented in terms of torque corresponding 20A (without armature shunted) is %0.1f times'%RT\n",
      "# Answer is not accurate for part 1 in the book."
     ],
     "language": "python",
     "metadata": {},
     "outputs": [
      {
       "output_type": "stream",
       "stream": "stdout",
       "text": [
        "a) The Speed of Motor if the Load Torque remains constant & magnetic circuit is assumed unsaturated is 1403.42 RPM\n",
        "b) The No Load Speed of the Motor is 1878 RPM\n",
        "c) The Starting Torque represented in terms of torque corresponding 20A (without armature shunted) is 4.2 times\n"
       ]
      }
     ],
     "prompt_number": 1
    },
    {
     "cell_type": "heading",
     "level": 2,
     "metadata": {},
     "source": [
      "Ex2 : Page 193"
     ]
    },
    {
     "cell_type": "code",
     "collapsed": false,
     "input": [
      "#To Determine the resistance to be inserted for various cases\n",
      "\n",
      "\n",
      "N1=1500  #Rated Speed\n",
      "N2=1200  #Reduced Speed\n",
      "rs=N2/N1  #Ratio of final speed to original speed\n",
      "eff=80/100  #Efficiency\n",
      "Pr=10*(10**3)  #Power Rating\n",
      "V=250  #Voltage supply\n",
      "Il=Pr/(V*eff)  #Full Load Current\n",
      "Rf=110  #Field Resistance\n",
      "Ra=0.25  #Armature Resistance\n",
      "If=V/Rf  #Field Current\n",
      "Ia1=Il-If  #Load Current\n",
      "Eb=V-(Ia1*Ra)  #Back EMF\n",
      "Eb1200=Eb*rs  #Back EMF for 1200 rpm\n",
      "\n",
      "Res =lambda y:((V-Eb1200)/y) #Function to calculate the Resistance of various cases\n",
      "#Torque directly proportional to current\n",
      "Ia2=(rs)*Ia1  # Torque directly propostional to speed\n",
      "Ia3=(rs**2)*Ia1  #Torque directly proportional to square of the speed\n",
      "\n",
      "#Resistances for Various Cases\n",
      "R1=Res(Ia1)-Ra \n",
      "R2=Res(Ia2)-Ra \n",
      "R3=Res(Ia3)-Ra \n",
      "\n",
      "Pow = lambda y:((V-Eb1200)/y)*(y**2)/1000  #Function to Find Power Loss\n",
      "#Power Lost in kW for various cases\n",
      "P1=Pow(Ia1) \n",
      "P2=Pow(Ia2) \n",
      "P3=Pow(Ia3) \n",
      "\n",
      "print 'The External Resistances to be connected and the power loss for '\n",
      "print 'a) The Load Torque is independent of the speed : %0.f ohm and %0.2f kW respectively '%(R1,P1)\n",
      "print 'b) The Load Torque is directly proportional to the speed : %0.2f ohm and %0.3f kW respectively '%(R2,P2)\n",
      "print 'c) The Load Torque is directly proportional to square of the speed : %0.2f ohm and %0.3f kW respectively '%(R3,P3)"
     ],
     "language": "python",
     "metadata": {},
     "outputs": [
      {
       "output_type": "stream",
       "stream": "stdout",
       "text": [
        "The External Resistances to be connected and the power loss for \n",
        "a) The Load Torque is independent of the speed : 1 ohm and 2.84 kW respectively \n",
        "b) The Load Torque is directly proportional to the speed : 1.31 ohm and 2.274 kW respectively \n",
        "c) The Load Torque is directly proportional to square of the speed : 1.70 ohm and 1.819 kW respectively \n"
       ]
      }
     ],
     "prompt_number": 2
    },
    {
     "cell_type": "heading",
     "level": 2,
     "metadata": {},
     "source": [
      "Ex 3 : Page 194"
     ]
    },
    {
     "cell_type": "code",
     "collapsed": false,
     "input": [
      "from sympy import symbols, diff, solve\n",
      "from fractions import Fraction\n",
      "#To determine the speed for which the torque is maximum\n",
      "\n",
      "\n",
      "#In The Figure, The author has taken the resistance in series with the motor as 0.2 ohm, but in the figure it is given as 1 ohm\n",
      "\n",
      "#This Doesn't Affect the calculation of the speed but it does affect the Maximum Torque\n",
      "\n",
      "#So if we consider 1 ohm we get 0.8333 instead of 2.5\n",
      "\n",
      "#The Equation for the Torque is found out to be 2.5*K2*(V**2)*(1.1-K1*w)/((76.1-(50*K1*w)))\n",
      "\n",
      "w=symbols('w')  #Variable Value of w \n",
      "\n",
      "#Lets assume the value of 2.5*K2*(V**2) = 1 and K1 = 1 to particularly to calculate the co-effcients\n",
      "\n",
      "T=2.5*(1.1-w)/((76.1-(50*w))**2)  #Torque\n",
      "\n",
      "#Maximum Torque is derivative of the above equation\n",
      "X=diff(T, w)  #Polynomial to find the value co - effcient of w \n",
      "w=solve(X, w) \n",
      "w=w[0]  #We Choose value less than 1 to suit the differenciation process\n",
      "\n",
      "Tmax=2.5*(1.1-w)/((76.1-(50*w))**2)  #Maximum Torque Co-Efficient\n",
      "\n",
      "print 'The Speed at which the torque is Maximum is (%g/K1) rad/sec'%w \n",
      "print 'The Maximum Torque is (K2*(V**2)*%g*10**-4) Nm '%(Tmax/(10**-4))"
     ],
     "language": "python",
     "metadata": {},
     "outputs": [
      {
       "output_type": "stream",
       "stream": "stdout",
       "text": [
        "The Speed at which the torque is Maximum is (0.678/K1) rad/sec\n",
        "The Maximum Torque is (K2*(V**2)*5.92417*10**-4) Nm \n"
       ]
      }
     ],
     "prompt_number": 3
    },
    {
     "cell_type": "heading",
     "level": 2,
     "metadata": {},
     "source": [
      "Ex 4 Page 195"
     ]
    },
    {
     "cell_type": "code",
     "collapsed": false,
     "input": [
      "from sympy import symbols, solve\n",
      "#To Determine the slip at maximum torque and at full load\n",
      "from math import floor\n",
      "from __future__ import division\n",
      "Tl=1  #Assume that the Full Load torque is unity\n",
      "Tst=125*Tl/100  #Starting Torque\n",
      "Tmax=275*Tl/100  #Maximum Torque\n",
      "si=1  #At the Start\n",
      "RT=Tst/Tmax  #Ratio of Starting Torque and Maximum Torque\n",
      "#R1 is negligible, elminating the terms with R1 and hence formulating the starting torque and Maximum Torque we get\n",
      "\n",
      "# Tst/Tmax = 2*sTmax*s/((sTmax**2)+(s**2))\n",
      "#Where sTmax is the Slip at Maximum Torque and s is the slip at the start\n",
      "\n",
      "sTmx=symbols('sTmx')  #Variable Value of slip at Maximum Torque\n",
      "\n",
      "X=RT-(2*sTmx*si/((sTmx**2)+(si**2)))  #Polynomial to find sTmax\n",
      "\n",
      "sTmx = solve(X, sTmx) \n",
      "\n",
      "#Condition to find the value of sTmax less than 1\n",
      "if floor(sTmx[0])==0:\n",
      "    sTmx=sTmx[0] \n",
      "else:\n",
      "    sTmx=sTmx[1] \n",
      "\n",
      "s=symbols('s')  #Variable value of slip for Starting torque at full load\n",
      "\n",
      "Y=(Tl/Tmax)-(2*sTmx*s/((sTmx**2)+(s**2)))  #Polynomial to find s\n",
      "\n",
      "s=solve(Y, s)  #Numerical Value of s\n",
      "\n",
      "#Condition to find the value of s less than 1\n",
      "if floor(s[0])==0 :\n",
      "    s=s[0] \n",
      "else:\n",
      "    s=s[1] \n",
      "\n",
      "\n",
      "print 'i) The Slip at Maximum Torque is %0.2f'%(sTmx)\n",
      "print 'ii) The Slip at Full Load is %0.3f'%(s)"
     ],
     "language": "python",
     "metadata": {},
     "outputs": [
      {
       "output_type": "stream",
       "stream": "stdout",
       "text": [
        "i) The Slip at Maximum Torque is 0.24\n",
        "ii) The Slip at Full Load is 0.045\n"
       ]
      }
     ],
     "prompt_number": 4
    },
    {
     "cell_type": "heading",
     "level": 2,
     "metadata": {},
     "source": [
      "Ex 5 : Page 195"
     ]
    },
    {
     "cell_type": "code",
     "collapsed": false,
     "input": [
      "#To Determine the Maximum Torque as ratio of nominal value of voltage\n",
      "from math import sqrt\n",
      "\n",
      "#Resistances and Reactance for Nomrmal Value of Volttage and Frequency\n",
      "w=50  #Frequency of supply\n",
      "V=1  #Assumed Voltage\n",
      "R1=0.05 \n",
      "R2=0.05 \n",
      "x1=0.3 \n",
      "x2=0.3 \n",
      "\n",
      "#Resistance and reactance at half voltage and half frequency\n",
      "wh=50/2  #Frequency of supply\n",
      "Vh=1/2  #Assumed Voltage\n",
      "R1h=0.05 \n",
      "R2h=0.05 \n",
      "x1h=0.3/2 \n",
      "x2h=0.3/2 \n",
      "\n",
      "#Function to Determine the Maximum Torque\n",
      "Max = lambda a,b,c,d,e:(3*(a**2))/(2*b*(c+(sqrt((c**2)+((d+e)**2)))))\n",
      "#Function to Determine to the Starting Torque\n",
      "Start =lambda a,b,c,d,e,f:(3*(a**2)*f)/(b*(((c+f)**2)+((d+e)**2)))\n",
      "#Maximum Torques and Starting Torques at\n",
      "#Normal Voltage And Frequency\n",
      "Tm=Max(V,w,R1,x1,x2) \n",
      "Tst=Start(V,w,R1,x1,x2,R2) \n",
      "#Half Voltage and Half Frequency\n",
      "Tmh=Max(Vh,wh,R1h,x1h,x2h) \n",
      "Tsth=Start(Vh,wh,R1h,x1h,x2h,R2h) \n",
      "\n",
      "#Ratio of torques as fraction of its normal value\n",
      "R1=Tmh/Tm  \n",
      "R2=Tsth/Tst \n",
      "\n",
      "print 'i)The Maximum Torque at the reduced value of supply as a fraction of its normal value is %0.4f'%R1\n",
      "print 'ii)The Starting Torque at the reduced value of supply as a fraction of its normal value is %0.2f'%R2"
     ],
     "language": "python",
     "metadata": {},
     "outputs": [
      {
       "output_type": "stream",
       "stream": "stdout",
       "text": [
        "i)The Maximum Torque at the reduced value of supply as a fraction of its normal value is 0.9207\n",
        "ii)The Starting Torque at the reduced value of supply as a fraction of its normal value is 1.85\n"
       ]
      }
     ],
     "prompt_number": 5
    },
    {
     "cell_type": "heading",
     "level": 2,
     "metadata": {},
     "source": [
      "Ex 6 : Page 196"
     ]
    },
    {
     "cell_type": "code",
     "collapsed": false,
     "input": [
      "#To Determine the starting torque and starting current for various starters\n",
      "from math import pi\n",
      "V=400 #Rated Voltage #Phase Voltage #Delta Connected\n",
      "Pr=50*735.5  #Rated Power\n",
      "N=750  #Rated Speed\n",
      "s=4.5/100  #Full load Slip\n",
      "Il=50  #Full Load Current\n",
      "Z=2.5  #Impedance per phase\n",
      "w=2*pi*N/60  #Angular Frequency\n",
      "Tl=Pr/w  #Full Load Torque\n",
      "Ist=V/Z  #Starting Current\n",
      "Isl=sqrt(3)*Ist  #Line Current\n",
      "\n",
      "\n",
      "#DOL Starter\n",
      "Tstd=((Isl/Il)**2)*s*Tl  #Starting Torque\n",
      "\n",
      "#Star - Delta Starter\n",
      "Tsts=Tl*((1/sqrt(3))**2)  #Starting Torque\n",
      "\n",
      "#Autotransformer\n",
      "tap=70/100  #Tapping \n",
      "Tsta=(tap**2)*Tl  #Starting Torque\n",
      "\n",
      "print 'The Starting Current for all the three starter are the same that is %0.2f A'%Isl \n",
      "print 'The Starting torque for: ' \n",
      "print 'i) D.O.L Starter : %0.2f Nm '%(Tstd)\n",
      "print 'ii) Star -Delta Starter : %0.2f Nm '%(Tsts)\n",
      "print 'ii) Auto Transformer with 70 percent tapping : %0.2f Nm '%(Tsta)"
     ],
     "language": "python",
     "metadata": {},
     "outputs": [
      {
       "output_type": "stream",
       "stream": "stdout",
       "text": [
        "The Starting Current for all the three starter are the same that is 277.13 A\n",
        "The Starting torque for: \n",
        "i) D.O.L Starter : 647.29 Nm \n",
        "ii) Star -Delta Starter : 156.08 Nm \n",
        "ii) Auto Transformer with 70 percent tapping : 229.43 Nm \n"
       ]
      }
     ],
     "prompt_number": 6
    },
    {
     "cell_type": "heading",
     "level": 2,
     "metadata": {},
     "source": [
      "Ex 7 : Page 197"
     ]
    },
    {
     "cell_type": "code",
     "collapsed": false,
     "input": [
      "#To Detemine Minimum Starting Current drawn from the supply\n",
      "from math import exp, pi, acos, degrees, sin\n",
      "from sympy import symbols, solve\n",
      "TR=0.5  #Torque Ratio, Tst:Tl\n",
      "V=400  #Supply Voltage\n",
      "Pr=30*735  #Power Rating \n",
      "N=500  #Rated Speed\n",
      "eff=0.85  #Efficieny\n",
      "pf=0.88  #Power Factor\n",
      "Is=150  #Short Circuit Current\n",
      "s=5/100  #Full load Slip\n",
      "pfs=0.25  #Power Factor of the Short Cicuit Current\n",
      "Il=Pr/(sqrt(3)*V*eff*pf)  #Full Load Current\n",
      "#Case 1\n",
      "x=symbols('x')  #Tapping Percent\n",
      "X=TR-(((Is/Il)**2)*(x**2)*s)  #Polynomial to determine the 'x'\n",
      "x=solve(X, x)\n",
      "x=x[0]  #Taking the Postive Root\n",
      "Ist1=Is*x*x  #Starting Current numerical Value\n",
      "#Case 2\n",
      "Ist2=sqrt((TR*(Il**2)/s))  #Starting Current for Full Voltage\n",
      "Z1=V/(sqrt(3)*Ist2)  #impedance for the starting current at full voltage\n",
      "Z2=complex((V/(sqrt(3)*Is))*pfs,(V/(sqrt(3)*Is))*sin(acos(pfs)))  #Phasor form of the Impedance of for the short cicuit current\n",
      "R=sqrt((Z1**2)-(Z2.imag**2)) \n",
      "Rs=R-Z2.real  #Resistance to be connected the stator circuit\n",
      "\n",
      "print 'i) The Tapping of the Transformer is %0.1f percent and the starting Current is %0.2f A\\n'%(abs(x*100),Ist1)\n",
      "print 'ii) The Starting Current is %0.2f A and the Resistance to be added to the stator circuit is %0.4f ohm\\n'%(Ist2,Rs)\n",
      "# Answer in the textbook is not accurate."
     ],
     "language": "python",
     "metadata": {},
     "outputs": [
      {
       "output_type": "stream",
       "stream": "stdout",
       "text": [
        "i) The Tapping of the Transformer is 89.7 percent and the starting Current is 120.69 A\n",
        "\n",
        "ii) The Starting Current is 134.55 A and the Resistance to be added to the stator circuit is 0.4658 ohm\n",
        "\n"
       ]
      }
     ],
     "prompt_number": 7
    },
    {
     "cell_type": "heading",
     "level": 2,
     "metadata": {},
     "source": [
      "Ex 8 : Page 198"
     ]
    },
    {
     "cell_type": "code",
     "collapsed": false,
     "input": [
      "#To Determine the value of resistor connected in series to run the fan at a particular speed\n",
      "\n",
      "Pf=100*(10**3)  #Power rating of the fan\n",
      "f=50  #Supply Frequency\n",
      "V=400  #Supply Line Voltage\n",
      "V1=V/sqrt(3)  #Phase Voltage\n",
      "SR=1.4  #Ratio of stator to rotor turns\n",
      "Rr=0.03  #Rotor Resistance per phase\n",
      "R2=SR*SR*Rr  #Rotor Resistance referred to the stator\n",
      "N=240  #Rated Speed\n",
      "w=2*pi*N/60  #Angular Frequency\n",
      "P=24  #number of poles\n",
      "Ns=120*f/P  #Synchronous Speed\n",
      "ws=2*pi*Ns/60  #Synchronous angular Frequency\n",
      "s=(Ns-N)/Ns  #Slip\n",
      "T=Pf/w  #Full Load Torque\n",
      "X2=symbols('X2')  #Reactance of Rotor referred to stator, Variable Value\n",
      "\n",
      "X=T-(3*(V1**2)*R2/(ws*s*(((R2/s)**2)+(X2**2))))  #Polynomial Expression to find X2\n",
      "X2=solve(X, X2)  #Numerical Value of Rotor Resistance\n",
      "X2=X2[0] \n",
      "N1=180  #Speed of the fan\n",
      "s1=(Ns-N1)/Ns  #Slip\n",
      "T1=T*((N1/N)**2)  #Torque\n",
      "R21=symbols('R21')  #Variable Value\n",
      "Y=T1-(3*(V1**2)*R21/(ws*s1*(((R21/s1)**2)+(X2**2))))  #Polynomial Expression to find R21\n",
      "R21=solve(Y, R21)  #Numerical Value\n",
      "#R21 = 0.7545054 and 0.0100813\n",
      "#We have to choose the value of R21 such that it is greater than R2\n",
      "\n",
      "R21=R21[1]\n",
      "Rex=(R21-R2)/(SR*SR)  #External Resistance\n",
      "\n",
      "print 'The Value of Resistance to be connected in series so that teh fan runs at 180 rpm is %0.3f ohm'%Rex "
     ],
     "language": "python",
     "metadata": {},
     "outputs": [
      {
       "output_type": "stream",
       "stream": "stdout",
       "text": [
        "The Value of Resistance to be connected in series so that teh fan runs at 180 rpm is 0.355 ohm\n"
       ]
      }
     ],
     "prompt_number": 8
    },
    {
     "cell_type": "heading",
     "level": 2,
     "metadata": {},
     "source": [
      "Ex 9 : Page 212"
     ]
    },
    {
     "cell_type": "code",
     "collapsed": false,
     "input": [
      "from math import pi, sqrt\n",
      "#To Determine the time taken to start the motor\n",
      "from sympy.mpmath import quad\n",
      "HP=746  #According to the TextBook\n",
      "P=150*HP  #Power Rating\n",
      "Lim=1.5  #Limited Current Factor\n",
      "Eshp=5000  #energy stored per hp\n",
      "N=750  #Rated Speed\n",
      "w=N*2*pi/60  #Angular Frequency\n",
      "Es=Eshp*P/HP  #Total Energy Stored\n",
      "Tfl=P/w  #Full Load Torque \n",
      "Ts=Tfl*Lim  #Starting Torque\n",
      "Ta=Ts-Tfl  #Torque Available for acceleration\n",
      "I=2*Es/(w**2)  #Moment of Inertia\n",
      "a=Ta/I  #Angular Accleration\n",
      "#Intergrating wrt angular frequency\n",
      "f = lambda x : 1/a # function for integration\n",
      "t=quad(f,[0,w])  #Time Taken to start #Angular Acceleration is constant\n",
      "\n",
      "print '''The time taken to start the motor if the load torque is equal to full load torque,\n",
      "during the starting period, \n",
      "& the current is limited to 1.5 times the full load current is %0.2f seconds '''%(t)"
     ],
     "language": "python",
     "metadata": {},
     "outputs": [
      {
       "output_type": "stream",
       "stream": "stdout",
       "text": [
        "The time taken to start the motor if the load torque is equal to full load torque,\n",
        "during the starting period, \n",
        "& the current is limited to 1.5 times the full load current is 26.81 seconds \n"
       ]
      }
     ],
     "prompt_number": 9
    },
    {
     "cell_type": "heading",
     "level": 2,
     "metadata": {},
     "source": [
      "Ex 10 : Page 213"
     ]
    },
    {
     "cell_type": "code",
     "collapsed": false,
     "input": [
      "from __future__ import division\n",
      "#To time taken and the number of revolutions made before the motor is stopped\n",
      "\n",
      "\n",
      "from sympy.mpmath import quad\n",
      "\n",
      "P=50*735.5  #Power Rating\n",
      "V=400  #Rated Voltage\n",
      "N=750  #Rated Speed\n",
      "w=N*pi*2/60  #Angular Frequency\n",
      "I=20  #Moment Inertia\n",
      "pf=0.95  #Full Load power factor\n",
      "eff=90/100  #Overall Efficiency\n",
      "Rb=2  #Braking Resistor\n",
      "\n",
      "Tm=P/w  #Full Load Torque\n",
      "Ifl=P/(sqrt(3)*V*eff*pf)  #Full Load Current\n",
      "Ilb=V/(sqrt(3)*Rb)  #The Line Current at the start of braking\n",
      "Te=Tm*Ilb/Ifl  #Torque for electric braking\n",
      "\n",
      "Tb=Te+Tm  #Total Braking torque\n",
      "\n",
      "K=Te/w  #Motor constant\n",
      "B=Tb/I  #Retardation\n",
      "\n",
      "f1 = lambda x:(I/(Tm+(K*x))) # function for integration\n",
      "ts=quad(f1,[0,w]) #Time Taken for the motor to stop\n",
      "\n",
      "f2 = lambda t:(((Tm+(K*w))*exp(-1*K*t/I))-Tm) # function for integration\n",
      "NoR=(1/(2*pi*K))*quad(f2,[0,ts]) #Number of Revolutions\n",
      "\n",
      "#Note The answer in the textbook is wrong, Calculation error\n",
      "\n",
      "print 'The Time Taken for the Motor to stop is %0.2f seconds\\n'%ts\n",
      "print 'The Number of revolutions undergone before it stops is %0.2f revolutions which is approx %g revolutions\\n'%(NoR,round(NoR))"
     ],
     "language": "python",
     "metadata": {},
     "outputs": [
      {
       "output_type": "stream",
       "stream": "stdout",
       "text": [
        "The Time Taken for the Motor to stop is 1.90 seconds\n",
        "\n",
        "The Number of revolutions undergone before it stops is 9.81 revolutions which is approx 10 revolutions\n",
        "\n"
       ]
      }
     ],
     "prompt_number": 10
    },
    {
     "cell_type": "heading",
     "level": 2,
     "metadata": {},
     "source": [
      "Ex 11 : Page 219"
     ]
    },
    {
     "cell_type": "code",
     "collapsed": false,
     "input": [
      "#To Determine the 30 mins rating of motor\n",
      "from math import exp\n",
      "\n",
      "Pr=100  #Power Rating in horse power\n",
      "Tc=90*3600  #Time Constant\n",
      "Tr=30*3600  #Time to determine the rating\n",
      "theta=50  #Temperature Rise\n",
      "theta1=50  #Temperature rise for the new case\n",
      "\n",
      "P=symbols('P')  #Power rating for 30min variable value\n",
      "\n",
      "#Loss Corresponding to 30 mins\n",
      "\n",
      "P30=(P/Pr)**2  # Times the Power loss corresponding to the 100 hp motor\n",
      "\n",
      "theta2=theta*P30  #Final Temperature rise if run  continuously\n",
      "\n",
      "X=theta1-(theta2*(1-exp(-1*Tr/Tc)))  #Polynominal to find the 30min rating\n",
      "\n",
      "P=solve(X, P)  #Numerical Value\n",
      "#We Consider the Positive Real Value of the root\n",
      "\n",
      "P=P[0]  #Power Rating of the 1/2 Hr\n",
      "\n",
      "print 'The 1/2 Hr Power Rating is %0.1f hp'%abs(P )"
     ],
     "language": "python",
     "metadata": {},
     "outputs": [
      {
       "output_type": "stream",
       "stream": "stdout",
       "text": [
        "The 1/2 Hr Power Rating is 187.8 hp\n"
       ]
      }
     ],
     "prompt_number": 11
    },
    {
     "cell_type": "heading",
     "level": 2,
     "metadata": {},
     "source": [
      "Ex12 : Page 219"
     ]
    },
    {
     "cell_type": "code",
     "collapsed": false,
     "input": [
      "#To Determine the Continous Rating of the Motor for Suitable Conditions\n",
      "\n",
      "\n",
      "from sympy.mpmath import quad\n",
      "\n",
      "T=120  #Total Time\n",
      "t1=0  #Power Rise to 1050\n",
      "t2=15  #Constant Power of 600\n",
      "t3=85  #Regenerative Breaking at 200\n",
      "t4=95  #Motor At Rest\n",
      "t5=120  #End\n",
      "#Note Power Rating are in Horse Power\n",
      "HP1=1050  #First Rise\n",
      "T1=(t2-t1)  #Time for Rise of the Horse Power\n",
      "HP2=600  #Constant Power\n",
      "T2=(t3-t2)  #Time For which the power is constant\n",
      "HP3=200  #Braking Initial Point\n",
      "T3=(t4-t3)  #Time Period of Breaking\n",
      "\n",
      "#Different Intergration\n",
      "\n",
      "f1 = lambda t:((HP1/T1)*t)**2 # function for integration\n",
      "I1=quad(f1,[t1,t2]) \n",
      "f2 = lambda t:(HP2**2) # function for integration\n",
      "I2=quad(f2,[t2,t3]) \n",
      "f3 = lambda t:((HP3/T3)*t)**2 # function for integration\n",
      "I3=quad(f3,[0,T3]) \n",
      "\n",
      "HPrms=sqrt((I1+I2+I3)/120) \n",
      "\n",
      "HPav=(((HP1*T1/2)+(HP2*T2)+(HP3*T3/2))/T) \n",
      "\n",
      "print 'i) The H.P Rating according to the RMS Value of loading is %g hp\\n'%HPrms\n",
      "print 'ii) The H.P Rating according to the Average Value of Loading is %0.f hp\\n'%HPav"
     ],
     "language": "python",
     "metadata": {},
     "outputs": [
      {
       "output_type": "stream",
       "stream": "stdout",
       "text": [
        "i) The H.P Rating according to the RMS Value of loading is 507 hp\n",
        "\n",
        "ii) The H.P Rating according to the Average Value of Loading is 424 hp\n",
        "\n"
       ]
      }
     ],
     "prompt_number": 12
    },
    {
     "cell_type": "heading",
     "level": 2,
     "metadata": {},
     "source": [
      "Ex 13 : Page 220"
     ]
    },
    {
     "cell_type": "code",
     "collapsed": false,
     "input": [
      "#To estimate the final temperature of the machine and its time constant\n",
      "\n",
      "\n",
      "Eff=90/100  #Efficiency\n",
      "P=15*735.5  #Power Rating in W\n",
      "D=75*(10**-2)  #Cylinder Diameter\n",
      "L=120*(10**-2)  #Length of the Cylinder\n",
      "OSHD=12  #Outer Surface Heat Dissipation\n",
      "A=pi*L*D  #Curved Surface Area\n",
      "M=450  #Motor Weight\n",
      "SH=700  #Specific Heat\n",
      "\n",
      "HTC=M*SH/(A*OSHD*3600)  #The Heating Time Constant\n",
      "Loss=(P/Eff)-P  #Loss in Motor\n",
      "print 'Loss in Motor = %0.1f W'%Loss\n",
      "FT=Loss/(A*OSHD)  #Final  Temperature\n",
      "OSHD2=20  #Semi Closed Cooling Capacity\n",
      "LossSC=FT*A*OSHD2  #Loss in Semi Closed System\n",
      "print 'Final  Temperature = %0.2f degree C'%FT\n",
      "L2=symbols('L2')  #Variable Load Value\n",
      "X=(L2/(L2+LossSC)-Eff)  #Polynomial to Calculate L2\n",
      "L2=solve(X, L2)  #Numerical Value of The Load\n",
      "\n",
      "print 'The Final Temperature of the Machine & its Heating Time Constant is %0.2f degree Celsius and %0.2f Hrs respectively'%(FT,HTC)\n",
      "print 'The Load which could be delivered is %0.f W '%(L2[0])\n",
      "Rating = L2[0]/736 # hp\n",
      "print 'Rating = %0.f h.p.'%Rating"
     ],
     "language": "python",
     "metadata": {},
     "outputs": [
      {
       "output_type": "stream",
       "stream": "stdout",
       "text": [
        "Loss in Motor = 1225.8 W\n",
        "Final  Temperature = 36.13 degree C\n",
        "The Final Temperature of the Machine & its Heating Time Constant is 36.13 degree Celsius and 2.58 Hrs respectively"
       ]
      },
      {
       "output_type": "stream",
       "stream": "stdout",
       "text": [
        "\n",
        "The Load which could be delivered is 18388 W \n",
        "Rating = 25 h.p.\n"
       ]
      }
     ],
     "prompt_number": 13
    },
    {
     "cell_type": "heading",
     "level": 2,
     "metadata": {},
     "source": [
      "Ex 14 : Page 223"
     ]
    },
    {
     "cell_type": "code",
     "collapsed": false,
     "input": [
      "#To Determine the Moment of intertia for a slip of 8 percent\n",
      "from math import log\n",
      "Tl=900  #load Torque\n",
      "To=0 \n",
      "s=8/100  #Slip\n",
      "t=15 #time period for which the load torque was applied\n",
      "Tm=675 # Limited motor Torque\n",
      "N=600  #No Load Speed\n",
      "Wo=2*pi*N/60  #Angular Frequency\n",
      "K=s/Tm  #Motor Constant\n",
      "I=(t/(Wo*K*log((Tl-To)/(Tl-Tm))))  #Moment of Inertia\n",
      "\n",
      "print 'The Moment of inertia of the flywheel is %g Kg m**2'%I \n",
      "#Please Note the Calculation Mistake in the book. (Power of e)"
     ],
     "language": "python",
     "metadata": {},
     "outputs": [
      {
       "output_type": "stream",
       "stream": "stdout",
       "text": [
        "The Moment of inertia of the flywheel is 1453.01 Kg m**2\n"
       ]
      }
     ],
     "prompt_number": 14
    },
    {
     "cell_type": "heading",
     "level": 2,
     "metadata": {},
     "source": [
      "Ex15 : Page 224"
     ]
    },
    {
     "cell_type": "code",
     "collapsed": false,
     "input": [
      "#To determine the Moment of intertia of the flywheel\n",
      "\n",
      "Pi=100*(10**3)  #Power Rating\n",
      "P=6  #Poles of the Machine\n",
      "N=950  #Rated Speed\n",
      "Wo=2*pi*N/60  #Angular Frequency\n",
      "Ta=3000  #Additional Torque\n",
      "Tmin=600  #Constant Load Torque\n",
      "Tm=Pi*60/(2*pi*N)  #Rated Torque\n",
      "Tmax=2*Tm  #Maximum Torque\n",
      "Tl=Tmin+Ta  #Total Torque\n",
      "tp=15  #Time for which the additional torque is applied\n",
      "#Assuming Slip Characteristic to Be a Straight line\n",
      "s=0.05 \n",
      "K=s/Tm  #Motor Load Constant\n",
      "\n",
      "I=tp/(Wo*K*log((Tl-Tmin)/(Tl-Tmax)))  #Moment Of intertia\n",
      "\n",
      "Tm1=1500  #Trasistion Torque\n",
      "\n",
      "t=I*Wo*K*log((Tmax-Tmin)/(Tm1-Tmin))  #Time Taken to become 1500 Nm\n",
      "\n",
      "print 'a) The Moment of intertia of the flywheel for Maximum Torque to be twice the rated torque is %0.1f Nm'%I \n",
      "print 'b) The Time Taken after the removal of additional load before the motor torque becomes 1500 Nm is %0.2f seconds '%t"
     ],
     "language": "python",
     "metadata": {},
     "outputs": [
      {
       "output_type": "stream",
       "stream": "stdout",
       "text": [
        "a) The Moment of intertia of the flywheel for Maximum Torque to be twice the rated torque is 4772.7 Nm\n",
        "b) The Time Taken after the removal of additional load before the motor torque becomes 1500 Nm is 10.61 seconds \n"
       ]
      }
     ],
     "prompt_number": 15
    },
    {
     "cell_type": "heading",
     "level": 2,
     "metadata": {},
     "source": [
      "Ex16 : Page 231"
     ]
    },
    {
     "cell_type": "code",
     "collapsed": false,
     "input": [
      "#To determine the speed and torque of a single phase full converter\n",
      "from math import cos\n",
      "P=5*735.5  #Power Rating\n",
      "Vr=220  #Rated Voltage\n",
      "N=1500  #Rated Speed\n",
      "\n",
      "Ra=0.25  #Armature Resistance\n",
      "Ia=20  #Rated Armature Current\n",
      "Vs=250  #Supply Voltage\n",
      "Kaphi=0.0278  #Motor Voltage Constant\n",
      "a=30  #Firing Angle\n",
      "\n",
      "Va=2*sqrt(2)*Vs*cos(a*pi/180)/pi  #Armature Voltage\n",
      "Eb=Va-(Ia*Ra)  #Back EMF\n",
      "w=Eb/(Kaphi*60)  #Angular Frequency in Radians per second\n",
      "Ta=Kaphi*Ia*60  #Torque\n",
      "\n",
      "print 'The Speed and Torque of the Single Phase Full Converter are %0.1f rad/s and %g Nm respectively '%(w,Ta)"
     ],
     "language": "python",
     "metadata": {},
     "outputs": [
      {
       "output_type": "stream",
       "stream": "stdout",
       "text": [
        "The Speed and Torque of the Single Phase Full Converter are 113.9 rad/s and 33.36 Nm respectively \n"
       ]
      }
     ],
     "prompt_number": 16
    },
    {
     "cell_type": "heading",
     "level": 2,
     "metadata": {},
     "source": [
      "Ex17 : Page 232"
     ]
    },
    {
     "cell_type": "code",
     "collapsed": false,
     "input": [
      "#To Determine the motor current and torque for a particular firing angle\n",
      "\n",
      "P=15*735.5  #Power Rating of the Motor\n",
      "Raw=0.2  #Combined Armature and Field winding resistance\n",
      "N=1000  #Speed\n",
      "K=0.03  #Motor Constant\n",
      "a=30  #Firing Angle\n",
      "E=250  #Supply Voltage\n",
      "\n",
      "#Semi Converter\n",
      "w=2*pi*N/60  #Angular Frequency\n",
      "Vas=sqrt(2)*E*(1+cos(a*pi/180))/pi \n",
      "Ias=Vas/(Raw+(K*w))  #Armature Current\n",
      "Tas=K*(Ias**2)  #Motor Torque\n",
      "\n",
      "#FullConverter\n",
      "Vaf=2*sqrt(2)*E*cos(a*pi/180)/pi \n",
      "Iaf=Vaf/(Raw+(K*w))  #Armature Current\n",
      "Taf=K*(Iaf**2)  #Motor Torque\n",
      "\n",
      "#Accurate Caclculation, Rounding Off not done.\n",
      "print 'The Motor Current And Motor Torque for:' \n",
      "print 'i) Semi Converter : %0.2f A and %0.2f Nm'%(Ias,Tas)\n",
      "print 'ii) Full Converter : %0.2f A and %0.2f Nm'%(Iaf,Taf)"
     ],
     "language": "python",
     "metadata": {},
     "outputs": [
      {
       "output_type": "stream",
       "stream": "stdout",
       "text": [
        "The Motor Current And Motor Torque for:\n",
        "i) Semi Converter : 62.84 A and 118.48 Nm\n",
        "ii) Full Converter : 58.33 A and 102.08 Nm\n"
       ]
      }
     ],
     "prompt_number": 17
    },
    {
     "cell_type": "heading",
     "level": 2,
     "metadata": {},
     "source": [
      "Ex18 : Page 234"
     ]
    },
    {
     "cell_type": "code",
     "collapsed": false,
     "input": [
      "#To determine the pulse width for a particular average value of back EMF\n",
      "\n",
      "E=220 #DC Supply\n",
      "Raw=0.2  #Combined Armature and Field Winding Resistance\n",
      "Ia=25 #Average Current\n",
      "f=200 #Chopper Frequency\n",
      "Eb=100  #Average Value of Back EMF\n",
      "\n",
      "Eav=(Ia*Raw)+Eb  #Average Load Voltage\n",
      "Ton=Eav*1000/(E*f)  # Pulse Width in m sec\n",
      "\n",
      "print 'The Pulse Width for the 100V back EMF is %0.2f m seconds'%Ton "
     ],
     "language": "python",
     "metadata": {},
     "outputs": [
      {
       "output_type": "stream",
       "stream": "stdout",
       "text": [
        "The Pulse Width for the 100V back EMF is 2.39 m seconds\n"
       ]
      }
     ],
     "prompt_number": 18
    },
    {
     "cell_type": "heading",
     "level": 2,
     "metadata": {},
     "source": [
      "Ex 19 : Page 235"
     ]
    },
    {
     "cell_type": "code",
     "collapsed": false,
     "input": [
      "#To determine the range of speed control and duty cycle\n",
      "E=220  #DC supply voltage\n",
      "Ra=0.2 \n",
      "Kaphi=0.08  # Motor Constant\n",
      "Ia=25  #Average Current\n",
      "Eav=Ia*Ra  #Voltage Drop\n",
      "\n",
      "#Eav = lamda * E \n",
      "#For Maximum Speed, lamba =1\n",
      "\n",
      "lamda=Eav/E \n",
      "\n",
      "lamda1=1  #Maximum Speed \n",
      "Eb= (E*lamda1)-(Ia*Ra)  #Back EMF\n",
      "\n",
      "Speed = Eb/Kaphi  # Maximum Speed\n",
      "\n",
      "print 'i) The Range of speed control is 0<N<%0.f '%(Speed)\n",
      "print 'ii) The Range of duty cycle is %g<lamda<%g'%(lamda,lamda1)"
     ],
     "language": "python",
     "metadata": {},
     "outputs": [
      {
       "output_type": "stream",
       "stream": "stdout",
       "text": [
        "i) The Range of speed control is 0<N<2688 \n",
        "ii) The Range of duty cycle is 0.0227273<lamda<1\n"
       ]
      }
     ],
     "prompt_number": 19
    }
   ],
   "metadata": {}
  }
 ]
}