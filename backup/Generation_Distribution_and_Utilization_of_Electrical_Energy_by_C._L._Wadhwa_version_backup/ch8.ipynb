{
 "metadata": {
  "name": "",
  "signature": "sha256:46df055e646d729a3837ea45446150181236a3289c1bbdcf20fad08469e4abf1"
 },
 "nbformat": 3,
 "nbformat_minor": 0,
 "worksheets": [
  {
   "cells": [
    {
     "cell_type": "heading",
     "level": 1,
     "metadata": {},
     "source": [
      "Chapter8, Electrolytic Processes"
     ]
    },
    {
     "cell_type": "heading",
     "level": 2,
     "metadata": {},
     "source": [
      "Ex1 : Page 414"
     ]
    },
    {
     "cell_type": "code",
     "collapsed": false,
     "input": [
      "from __future__ import division\n",
      "#To determine the quantity of current\n",
      "\n",
      "#Parameters of the Copper Plating\n",
      "TSA=0.3716  #Total Surface Area \n",
      "t=0.0254*(10**-3)  #Thickness of the plating\n",
      "density=8.883*(10**3)  #Density of Copper\n",
      "\n",
      "W=TSA*t*density*1000  #Weight of copper deposited in gms\n",
      "ECEcu=0.329  #Electrochemical Equivalent of copper in gm per coulomb\n",
      "C=W*1000/ECEcu  #Quantity of Current required.\n",
      "\n",
      "F=96500  #One Farad Charge\n",
      "\n",
      "Q=C/F  #Quantity of Current in Faradays\n",
      "\n",
      "print 'The Quantity of Current Required is %0.3f F'%Q"
     ],
     "language": "python",
     "metadata": {},
     "outputs": [
      {
       "output_type": "stream",
       "stream": "stdout",
       "text": [
        "The Quantity of Current Required is 2.641 F\n"
       ]
      }
     ],
     "prompt_number": 1
    },
    {
     "cell_type": "heading",
     "level": 2,
     "metadata": {},
     "source": [
      "Ex2 : Page 420"
     ]
    },
    {
     "cell_type": "code",
     "collapsed": false,
     "input": [
      "#To detemine the Electrochemical Equivalent of Silver\n",
      "\n",
      "I=20  #Current Passed\n",
      "W=26.84  #amount of silver deposited in gms\n",
      "t=20*60  #Time Period in seconds\n",
      "\n",
      "TC=I*t  #Total Charge in the given time period\n",
      "\n",
      "ECEAg=W*1000/TC  #Electrochemical Equivalent of Silver\n",
      "\n",
      "print 'The Electrochemical Equivalent of Silver is %0.3f mg/C'%ECEAg "
     ],
     "language": "python",
     "metadata": {},
     "outputs": [
      {
       "output_type": "stream",
       "stream": "stdout",
       "text": [
        "The Electrochemical Equivalent of Silver is 1.118 mg/C\n"
       ]
      }
     ],
     "prompt_number": 2
    },
    {
     "cell_type": "heading",
     "level": 2,
     "metadata": {},
     "source": [
      "Ex3 : Page 420"
     ]
    },
    {
     "cell_type": "code",
     "collapsed": false,
     "input": [
      "#To Determine the Annual output of copper\n",
      "\n",
      "I=2000  #Current Passed\n",
      "NW=52  #Number of weeks in a Year\n",
      "T=100*3600  #Number of seconds per week\n",
      "TC=NW*T*I  #Total Charge supplied all over the year.\n",
      "ECu=31.8  #Equivalent Weight of Copper in grams\n",
      "F=96500  #One Farad of Charge\n",
      "\n",
      "# 1 F of charge gives 31.8 gms of copper\n",
      "\n",
      "W=(TC/F)*ECu/(1000*1000)  #Weight of copper in tonnes\n",
      "\n",
      "print 'The Annual Output of Copper is %0.1f Tonnes'%W "
     ],
     "language": "python",
     "metadata": {},
     "outputs": [
      {
       "output_type": "stream",
       "stream": "stdout",
       "text": [
        "The Annual Output of Copper is 12.3 Tonnes\n"
       ]
      }
     ],
     "prompt_number": 3
    },
    {
     "cell_type": "heading",
     "level": 2,
     "metadata": {},
     "source": [
      "Ex4 : Page 420"
     ]
    },
    {
     "cell_type": "code",
     "collapsed": false,
     "input": [
      "#To Calculate the Energy usedd in producing chemical action developed in an electrolytic cell\n",
      "\n",
      "T=15/60  #Time Period of Operation in Hours\n",
      "I=100  #Current in Amperes\n",
      "V=15  #Potential Difference\n",
      "R=0.05  #Resistance of Solution\n",
      "\n",
      "NetEP=V-(I*R)  #Net Electrode Potential\n",
      "\n",
      "#Energy Equation, E = VIt.\n",
      "E=NetEP*I*T/1000  # Energy in KiloWatts\n",
      "print 'The Energy used in producing the chemical action developed in an electrolytic Cell for 15 mins is %g kWhr'%E"
     ],
     "language": "python",
     "metadata": {},
     "outputs": [
      {
       "output_type": "stream",
       "stream": "stdout",
       "text": [
        "The Energy used in producing the chemical action developed in an electrolytic Cell for 15 mins is 0.25 kWhr\n"
       ]
      }
     ],
     "prompt_number": 4
    },
    {
     "cell_type": "heading",
     "level": 2,
     "metadata": {},
     "source": [
      "Ex5 : Page 420"
     ]
    },
    {
     "cell_type": "code",
     "collapsed": false,
     "input": [
      "#To determine the weights of Nickel and Silver Deposited\n",
      "\n",
      "F=96500  #One Farad of Charge\n",
      "#Equivalent Weights of the Following metals\n",
      "EWAg= 108  #silver\n",
      "EWNi= 58.6/2  #Nickel\n",
      "\n",
      "I=20  #Current Passed\n",
      "T=1*60*60  #Time for which the current is passed\n",
      "TC=T*I  #Total Charge produced\n",
      "\n",
      "#One Equivalent of Metal requires 1 F of charge\n",
      "\n",
      "Q=TC/F  # Total Charge in Farad\n",
      "\n",
      "#Amount of metal deposited\n",
      "WAg=Q*EWAg  #Silver\n",
      "WNi=Q*EWNi  #Nickel\n",
      "\n",
      "print 'The Weight of Nickel And Silver deposited by 20A for an hour is %0.2f gm and %0.2f gm respectively.'%(WNi,WAg)"
     ],
     "language": "python",
     "metadata": {},
     "outputs": [
      {
       "output_type": "stream",
       "stream": "stdout",
       "text": [
        "The Weight of Nickel And Silver deposited by 20A for an hour is 21.86 gm and 80.58 gm respectively.\n"
       ]
      }
     ],
     "prompt_number": 5
    }
   ],
   "metadata": {}
  }
 ]
}