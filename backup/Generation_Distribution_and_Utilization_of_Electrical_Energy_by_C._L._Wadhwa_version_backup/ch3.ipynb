{
 "metadata": {
  "name": "",
  "signature": "sha256:afc5e10b4cd0ce9a61f1ca826a0d70820843f939cde405f3a80a807266886e6b"
 },
 "nbformat": 3,
 "nbformat_minor": 0,
 "worksheets": [
  {
   "cells": [
    {
     "cell_type": "heading",
     "level": 1,
     "metadata": {},
     "source": [
      "Chapter3, Distribution\n"
     ]
    },
    {
     "cell_type": "heading",
     "level": 2,
     "metadata": {},
     "source": [
      "Ex1 : Page 103"
     ]
    },
    {
     "cell_type": "code",
     "collapsed": false,
     "input": [
      "from __future__ import division\n",
      "from numpy import sqrt\n",
      "#To Determine the most economical current density\n",
      "\n",
      "\n",
      "OFC=15  #Cost of single phase overhead feeder per km per unit area\n",
      "AIDC= 10*OFC/100  #Annual Interest and depriciation charges\n",
      "R=1/58  #Resistance of 1m length and 1 sq.mm\n",
      "CLPUL= 2*R*1000  # Copper Loss per unit length per unit area per unit square current\n",
      "ACL= CLPUL*365*24*0.5  # Annual Copper Loss\n",
      "GC= 5/100  # Genereating Cost per unit.\n",
      "ACEL= ACL*GC/1000  # Annual cost of energy loss\n",
      "CD= sqrt(AIDC/ACEL)  #Current Density\n",
      "print 'The Most Economical Current Density for this Case is %0.2f A/sq.mm'%CD "
     ],
     "language": "python",
     "metadata": {},
     "outputs": [
      {
       "output_type": "stream",
       "stream": "stdout",
       "text": [
        "The Most Economical Current Density for this Case is 0.45 A/sq.mm\n"
       ]
      }
     ],
     "prompt_number": 1
    },
    {
     "cell_type": "heading",
     "level": 2,
     "metadata": {},
     "source": [
      "Ex2 : Page 104"
     ]
    },
    {
     "cell_type": "code",
     "collapsed": false,
     "input": [
      "#To determine the most economical cross sectional area\n",
      "\n",
      "\n",
      "OFC=180  #Cost of single phase overhead feeder per km per unit area + 1200\n",
      "AIDC= 10*OFC/100  #Annual Interest and depriciation charges + 120\n",
      "R=1/58  #Resistance of 1m length and 1 sq.mm\n",
      "I=200  # Maximum Current Flowing\n",
      "CLPUL= 2*(I**2)*R*1000  # Copper Loss per unit length per unit area\n",
      "ACL= CLPUL*365*24*(8/12)  # Annual Copper Loss\n",
      "GC= 5/100  # Genereating Cost per unit.\n",
      "ACEL= ACL*GC/1000  # Annual cost of energy loss\n",
      "A= sqrt(ACEL/AIDC)  #Cross Sectional Area of the cable\n",
      "print 'The Most Economical cross sectional area of the cable for this Case is %0.2f sq.mm'%A "
     ],
     "language": "python",
     "metadata": {},
     "outputs": [
      {
       "output_type": "stream",
       "stream": "stdout",
       "text": [
        "The Most Economical cross sectional area of the cable for this Case is 149.58 sq.mm\n"
       ]
      }
     ],
     "prompt_number": 2
    },
    {
     "cell_type": "heading",
     "level": 2,
     "metadata": {},
     "source": [
      "Ex3 : Page 105"
     ]
    },
    {
     "cell_type": "code",
     "collapsed": false,
     "input": [
      "# To determine the Most Economical Cross Sectional Area to supply a 3 Phase Load\n",
      "\n",
      "LLF = lambda b:(0.25*b)+(0.75*(b**2)) # Function to determine the Loss Load Factor\n",
      "\n",
      "OFC=0.20  #Cost of single phase overhead feeder per m per unit area + 10\n",
      "AIDC= 10*OFC/100  #Annual Interest and depriciation charges + 1\n",
      "TE= 2.5*(10**6)  # Total energy to be supplied per annum\n",
      "CEW=10/100  # Cost of energy wasted per unit\n",
      "LFS= TE/(1000*365*24)  # Load factor of supply\n",
      "Llf=LLF(LFS)  # Load Loss factor\n",
      "R=1/58  # Resistance of the cable per unit length\n",
      "PF=1  # Unity power factor\n",
      "MD= 1*(10**6)  # Maximum Demand\n",
      "V=11*(10**3)  # Voltage of the feeder\n",
      "I=MD/(sqrt(3)*V*PF)  # Full Load Current\n",
      "FLCL= 3*(I**2)*R  # Full Load Copper Loss per Metre\n",
      "ACL= Llf*FLCL  # Actual Copper Loss\n",
      "CCL=ACL*(365*24*CEW/1000)  # Cost of Copper Loss\n",
      "A=sqrt(CCL/AIDC) \n",
      "print 'The Most Economical Cross sectional area for this Case is %g A/sq.mm'%A \n",
      "# Calculation Mistake in the Book. Hence according to the concepts in the book the answer is as calculated. Please Note."
     ],
     "language": "python",
     "metadata": {},
     "outputs": [
      {
       "output_type": "stream",
       "stream": "stdout",
       "text": [
        "The Most Economical Cross sectional area for this Case is 28.7493 A/sq.mm\n"
       ]
      }
     ],
     "prompt_number": 3
    },
    {
     "cell_type": "heading",
     "level": 2,
     "metadata": {},
     "source": [
      "Ex4 : Page 106"
     ]
    },
    {
     "cell_type": "code",
     "collapsed": false,
     "input": [
      "#To determine the most economical cross section for a 3 Phase line 8 km long\n",
      "\n",
      "\n",
      "OFC=5000  #Cost of feeder per km per unit area + 6250\n",
      "AIDC= 8*OFC/100  #Annual Interest and depriciation charges + 625\n",
      "AIDCPD= AIDC/365  # Annual Interest and depriciation charges per day\n",
      "R=1/58  #Resistance of 1m length and 1 sq.mm\n",
      "CEU= 5/100  # Cost of energy per unit\n",
      "V=33*(10**3)  # Voltage of the feeder\n",
      "L10=3000*(10**3)  # Load for 10 hrs at unity power factor.\n",
      "L8=1000*(10**3)  # Load for 8 hrs at unity power factor.\n",
      "L6=2000*(10**3)  # Load for 6 hrs at unity power factor.\n",
      "\n",
      "LC = lambda b:b/(sqrt(3)*V) # Funtion to determine the Load Current\n",
      "I10=LC(L10) # Load Current for 10 hrs at unity power factor.\n",
      "I8=LC(L8) # Load Current for 8 hrs at unity power factor.\n",
      "I6=LC(L6) # Load Current for 6 hrs at unity power factor.\n",
      "ELPD=3*(((I10**2)*10)+((I8**2)*8)+((I6**2)*6))*1000/(100*58)  # Energy Loss Over the DAy per km (Area in sq.cm)\n",
      "CEL=ELPD*CEU/1000  # Cost of energy loass per km\n",
      "A=sqrt(CEL/AIDCPD)  # Cross Sectional Area\n",
      "print 'The Most Economical Cross Sectional Area for a 3 Phase line 8 km Long is %0.4f sq..cm'%A "
     ],
     "language": "python",
     "metadata": {},
     "outputs": [
      {
       "output_type": "stream",
       "stream": "stdout",
       "text": [
        "The Most Economical Cross Sectional Area for a 3 Phase line 8 km Long is 0.9388 sq..cm\n"
       ]
      }
     ],
     "prompt_number": 4
    },
    {
     "cell_type": "heading",
     "level": 2,
     "metadata": {},
     "source": [
      "Ex5 : Page 109"
     ]
    },
    {
     "cell_type": "code",
     "collapsed": false,
     "input": [
      "# To Calculate Voltage between middle wire and outer at each load point\n",
      "\n",
      "\n",
      "Vs=220  #Supply Voltage\n",
      "#Resistances of the respective Sections\n",
      "Rab=0.2 \n",
      "Rbc=0.2 \n",
      "Rdh=0.2 \n",
      "Rhe=0.2 \n",
      "Ref=0.3 \n",
      "Rfl=0.1 \n",
      "Rlg=0.3 \n",
      "Rij=0.25 \n",
      "Rjk=0.2 \n",
      "Ra=0.2 \n",
      "Rd=0.4 \n",
      "Ri=0.3 \n",
      "\n",
      "#Currents following through the respective Section, Found using KCL\n",
      "Iad=5 \n",
      "Ibe=10 \n",
      "Icl=12 \n",
      "Ihi=15 \n",
      "Ifj=5 \n",
      "Igk=15 \n",
      "Ia=Iad+Ibe+Icl  # Current through the positive wire\n",
      "Iab=Ia-Iad \n",
      "Ibc=Ia-Iad-Ibe \n",
      "Ii=Ihi+Ifj+Igk  # Current through the negative wire\n",
      "Id=Ii-Ia  #Current through the Middle wire\n",
      "Idh=Iad+Id \n",
      "Ihe=Ihi-Idh \n",
      "Ief=Ibe-Ihe \n",
      "Ifl=Ief-Ifj \n",
      "Ilg=Igk \n",
      "Iij=Ii-Ihi \n",
      "Ijk=Ii-Ihi-Ifj \n",
      "\n",
      "#Voltage drops across each section\n",
      "Va= Ra*Ia \n",
      "Vab=Iab*Rab \n",
      "Vbc=Ibc*Rbc \n",
      "Vi=Ii*Ri \n",
      "Vd=Id*Rd \n",
      "Vdh=Idh*Rdh \n",
      "Vhe=Ihe*Rhe \n",
      "Vef=Ief*Ref \n",
      "Vfl=Ifl*Rfl \n",
      "Vlg=Ilg*Rlg \n",
      "Vij=Iij*Rij \n",
      "Vjk=Ijk*Rjk \n",
      "\n",
      "#Voltage across the middle wire and the outer load points Using KVL\n",
      "Vad=Vs-Va+Vd \n",
      "Vbe=Vad-Vab-Vhe+Vdh \n",
      "Vcl=Vbe-Vbc+Vfl+Vef \n",
      "Vhi=Vs-Vd-Vdh-Vi \n",
      "Vfj=Vhi-Vef+Vhe-Vij \n",
      "Vgk=Vfj-Vfl-Vlg-Vjk \n",
      "\n",
      "print 'The Voltages between middle wire and outer wire at each load point are:'\n",
      "print ' 1. Vad = %g V'%(Vad)\n",
      "print ' 2. Vbe = %g V'%(Vbe)\n",
      "print ' 3. Vcl = %g V'%(Vcl)\n",
      "print ' 4. Vhi = %g V'%(Vhi)\n",
      "print ' 5. Vfj = %g V'%(Vfj)\n",
      "print ' 6. Vgk = %g V'%(Vgk)"
     ],
     "language": "python",
     "metadata": {},
     "outputs": [
      {
       "output_type": "stream",
       "stream": "stdout",
       "text": [
        "The Voltages between middle wire and outer wire at each load point are:\n",
        " 1. Vad = 217.8 V\n",
        " 2. Vbe = 215.6 V\n",
        " 3. Vcl = 215.9 V\n",
        " 4. Vhi = 203.7 V\n",
        " 5. Vfj = 196.7 V\n",
        " 6. Vgk = 188.9 V\n"
       ]
      }
     ],
     "prompt_number": 5
    },
    {
     "cell_type": "heading",
     "level": 2,
     "metadata": {},
     "source": [
      "Ex6 : Page 110"
     ]
    },
    {
     "cell_type": "code",
     "collapsed": false,
     "input": [
      "#To obtain the voltages at the far end of the positive and negative wires\n",
      "\n",
      "\n",
      "Vs=220  # Supply Voltage\n",
      "#Resistances of the given sections\n",
      "r1=0.015 \n",
      "r2=0.035 \n",
      "r3=0.02 \n",
      "r4=0.01 \n",
      "r5=0.025 \n",
      "r6=0.015 \n",
      "r7=0.03 \n",
      "r8=0.01 \n",
      "r9=0.02 \n",
      "r10=0.03 \n",
      "r11=0.04 \n",
      "\n",
      "#Currents follwing in between the two wires\n",
      "I1=10 \n",
      "I2=20 \n",
      "I3=25 \n",
      "I4=5 \n",
      "I5=15 \n",
      "I6=15 \n",
      "I7=15 \n",
      "I8=15 \n",
      "I9=18 \n",
      "I10=30 \n",
      "I11=15 \n",
      "\n",
      "#Effective resistances for the above currents\n",
      "R1=r1 \n",
      "R2=r1+r2 \n",
      "R3=r1+r2+r3 \n",
      "R4=r1+r2+r3+r4 \n",
      "R5=r1+r2+r3+r4+r5 \n",
      "R6=r1+r2+r3+r4+r5+r6 \n",
      "R7=r7 \n",
      "R8=r7+r8 \n",
      "R9=r7+r8+r9 \n",
      "R10=r7+r8+r9+r10 \n",
      "R11=r7+r8+r9+r10+r11 \n",
      "\n",
      "#Voltage drop in the respective wires\n",
      "#Outer positive wire\n",
      "Vop=(I1*R1)+(I2*R2)+(I3*R3)+(I4*R4)+(I5*R5)+(I6*R6) \n",
      "#Outer Negative wire\n",
      "Vnp=(I7*R7)+(I8*R8)+(I9*R9)+(I10*R10)+(I11*R11) \n",
      "# Net drop in neutral wire\n",
      "Vn=Vop-Vnp \n",
      "\n",
      "#Effective drop in the respective wires\n",
      "#Outer positive wire\n",
      "Veop=Vop+Vn \n",
      "#Outer negative wire\n",
      "Venp=Vnp-Vn \n",
      "\n",
      "#Voltage at far end of the wires\n",
      "#Positive Wire\n",
      "Vpf=Vs-Veop \n",
      "#Negaitve Wire\n",
      "Vnf=Vs-Venp \n",
      "\n",
      "print \"The voltage drop at the far end of the wires are:\" \n",
      "print \"Positive Wire: %g V\"%(Vpf)\n",
      "print \"Negative Wire: %g V\"%(Vnf)"
     ],
     "language": "python",
     "metadata": {},
     "outputs": [
      {
       "output_type": "stream",
       "stream": "stdout",
       "text": [
        "The voltage drop at the far end of the wires are:\n",
        "Positive Wire: 213.43 V\n",
        "Negative Wire: 213.115 V\n"
       ]
      }
     ],
     "prompt_number": 6
    },
    {
     "cell_type": "heading",
     "level": 2,
     "metadata": {},
     "source": [
      "Ex7 : Page 111"
     ]
    },
    {
     "cell_type": "code",
     "collapsed": false,
     "input": [
      "#To determine the cross section of the conductor for a minimum consumer voltage\n",
      "\n",
      "from sympy import symbols, solve\n",
      "#Unknown Variable obtained in the equation\n",
      "Ib, r=symbols(\"Ib r\") \n",
      "\n",
      "\n",
      "#Voltages at the respective ends\n",
      "Va=230 \n",
      "Vb=230 \n",
      "\n",
      "#Minimum Consumers's Voltage\n",
      "Vc=220 \n",
      "\n",
      "#Lenghths of the segments\n",
      "r1=200 \n",
      "r2=200 \n",
      "r3=100 \n",
      "r4=300 \n",
      "r5=300 \n",
      "r6=100 \n",
      "\n",
      "#Effective length of segments\n",
      "R1=r1 \n",
      "R2=r1+r2 \n",
      "R3=r1+r2+r3 \n",
      "R4=r1+r2+r3+r4 \n",
      "R5=r1+r2+r3+r4+r5 \n",
      "R6=r1+r2+r3+r4+r5+r6 \n",
      "\n",
      "#Current drawn by different loads\n",
      "I1=25 \n",
      "I2=20 \n",
      "I3=25 \n",
      "I4=25 \n",
      "I5=10 \n",
      "\n",
      "#By the law of momemts of currents\n",
      "Vnet=2*((I1*R1)+(I2*R2)+(I3*R3)+(I4*R4)+(I5*R5)-(Ib*R6))  #Since the equation is equated to zero, r vanishes\n",
      "X=Vnet-(Va-Vb)  #Polynomial Equation to Find Ib\n",
      "Ib=float(solve(X, Ib)[0])  # Numerical Value of Ib\n",
      "\n",
      "Ia=(I1+I2+I3+I4+I5)-Ib \n",
      "\n",
      "#From the given figure it is clear that point M is the point of Minimum Potential\n",
      "Vd=Va-Vc \n",
      "X=(2*r*((Ia*r1)+((Ia-I1)*r2)+((Ia-I1-I2)*r3)))-Vd  #Polynomial Equation to Find r\n",
      "r=float(solve(X, r)[0])  # Resistance per unit length (Numerical Value)\n",
      "\n",
      "Rstd=(1/58)  # Resistance for 1m and 1 sq.mm\n",
      "\n",
      "A=Rstd/r  # Cross Section of Conductor required.\n",
      "\n",
      "print 'The Cross Section of the Conductor to provide minimal consumer''s voltage is %0.f sq.mm '%A"
     ],
     "language": "python",
     "metadata": {},
     "outputs": [
      {
       "output_type": "stream",
       "stream": "stdout",
       "text": [
        "The Cross Section of the Conductor to provide minimal consumers voltage is 67 sq.mm \n"
       ]
      }
     ],
     "prompt_number": 7
    },
    {
     "cell_type": "heading",
     "level": 2,
     "metadata": {},
     "source": [
      "Ex8 : Page 111"
     ]
    },
    {
     "cell_type": "code",
     "collapsed": false,
     "input": [
      "#To determine the cross section of the conductor for a minimum consumer voltage\n",
      "\n",
      "from sympy import symbols, solve\n",
      "#Unknown Variable obtained in the equation\n",
      "x,r = symbols(\"x r\") \n",
      "\n",
      "#Voltages at the respective ends\n",
      "Va=235 \n",
      "Vb=230 \n",
      "\n",
      "#Minimum Consumers's Voltage\n",
      "Vc=220 \n",
      "\n",
      "#Lenghths of the segments\n",
      "r1=200 \n",
      "r2=200 \n",
      "r3=100 \n",
      "r4=300 \n",
      "r5=300 \n",
      "r6=100 \n",
      "\n",
      "#Effective length of segments\n",
      "R1=r1 \n",
      "R2=r1+r2 \n",
      "R3=r1+r2+r3 \n",
      "R4=r1+r2+r3+r4 \n",
      "R5=r1+r2+r3+r4+r5 \n",
      "R6=r1+r2+r3+r4+r5+r6 \n",
      "\n",
      "#Current drawn by different loads\n",
      "I1=25 \n",
      "I2=20 \n",
      "I3=25 \n",
      "I4=25 \n",
      "I5=10 \n",
      "\n",
      "#The Minimum Point assumed is N, Hence the current following to Point N is given by 'x'\n",
      "\n",
      "#The Effective Drops\n",
      "Van=Va-Vc \n",
      "Vbn=Vb-Vc \n",
      "V=Van/Vbn \n",
      "A=2*(((x+I1)*r1)+(r2*x))  #Wrt to Van\n",
      "B=2*(((I2-x)*r3)+((I2+I3-x)*r4)+((I2+I3+I4-x)*r5)+((I2+I3+I4+I5-x)*r6))  #Wrt to Vbn\n",
      "C=A/B  # The 'r' term gets eliminated\n",
      "X=C-V  # Polynomial Eqaution to find x\n",
      "x=solve(X,x)[0]\n",
      "Ia=I1+x  #Current Supplied at end A \n",
      "#It is clear the above assumed Minimal Point is wrong and it has to Point M\n",
      "#Therefore finding drop at Point M\n",
      "\n",
      "X=(2*r*(((x+I1)*r1)+(r2*x)+((x-20)*r3)))-Van  #Polynomial Equation to find r\n",
      "r=solve(X,r)[0]  # Numerical Value of r\n",
      "Rstd=(1/58)  # Resistance for 1m and 1 sq.mm\n",
      "\n",
      "A=Rstd/r  # Cross Section of Conductor required.\n",
      "\n",
      "print 'The Cross Section of the Conductor to provide minimal consumer''s voltage is %0.2f sq.mm'%A\n",
      "\n",
      "# Please note the calculation mistake in the book. The value of r found out is wrong in the text book."
     ],
     "language": "python",
     "metadata": {},
     "outputs": [
      {
       "output_type": "stream",
       "stream": "stdout",
       "text": [
        "The Cross Section of the Conductor to provide minimal consumers voltage is 51.26 sq.mm\n"
       ]
      }
     ],
     "prompt_number": 8
    },
    {
     "cell_type": "heading",
     "level": 2,
     "metadata": {},
     "source": [
      "Ex9 : Page 114"
     ]
    },
    {
     "cell_type": "code",
     "collapsed": false,
     "input": [
      "#To Determine the location and magnitude of minimum voltage\n",
      "\n",
      "\n",
      "Vs=220  #Supply Voltage at End A and B\n",
      "#Different Conductor Lenghts\n",
      "#From End A\n",
      "L1=100 \n",
      "L2=50 \n",
      "L3=50 \n",
      "L4=400  #Length of uniform loading\n",
      "\n",
      "A=0.5  #Uniforming loading spread over 400m\n",
      "r=0.05  # Resistance of Conductor per Km\n",
      "#Different Currents drawn by various loads\n",
      "I1=50 \n",
      "I2=75 \n",
      "I3=A*L4 \n",
      "\n",
      "#Taking moments of all currents at A \n",
      "Ib=((I1*L1)+((L1+L2)*I2)+((L1+L2+L3+(L4/2))*I3))/(L1+L2+L3+L4) \n",
      "Ia=I1+I2+I3-Ib \n",
      "\n",
      "#Minimum Potential Point in this case is the point where All the current from B is drawn\n",
      "X=Ib/A  # Distance from B \n",
      "Y=(L1+L2+L3+L4)-X  #Distance from A \n",
      "\n",
      "#Minimum Potential Drop\n",
      "Vmind=(2*r/1000)*((Ia*L1)+((Ia-I1)*L2)+((Ia-I1-I2)*L3)+(((Y-L1-L2-L3)*A)*((Y-L1-L2-L3)/2))) \n",
      "\n",
      "Vmin=Vs-Vmind  #Minimum Potential\n",
      "print 'The Location of The Minimum Voltage is %g m from side A and its magnitude is %0.1f V'%(Y,Vmin)"
     ],
     "language": "python",
     "metadata": {},
     "outputs": [
      {
       "output_type": "stream",
       "stream": "stdout",
       "text": [
        "The Location of The Minimum Voltage is 279.167 m from side A and its magnitude is 217.4 V\n"
       ]
      }
     ],
     "prompt_number": 9
    },
    {
     "cell_type": "heading",
     "level": 2,
     "metadata": {},
     "source": [
      "Ex10 : Page 115"
     ]
    },
    {
     "cell_type": "code",
     "collapsed": false,
     "input": [
      "from __future__ import division\n",
      "#To determine the currents supplied to the ring main from A and B\n",
      "\n",
      "from numpy import array, linalg\n",
      "#Currents in the ring scheme going clockwise\n",
      "I1=50 \n",
      "I2=15 \n",
      "I3=25 \n",
      "I4=10 \n",
      "It = I1+I2+I3+I4  # Total Current\n",
      "#Resistances of the respective segments going clockwise\n",
      "R1=0.1 \n",
      "R2=0.12 \n",
      "R3=0.04 \n",
      "R4=0.08 \n",
      "R5=0.06 \n",
      "R6=0.02 \n",
      "\n",
      "Ra=0.04  #Resistance at A \n",
      "Rb=0.06  #Resistance at B \n",
      "\n",
      "# Va=Vb  Net Voltage is Zero\n",
      "#Dividing the total current from A as x and y\n",
      "#Taking voltage drops in clockwise direction and anticlockwise directions\n",
      "# We get two simultaneous equations\n",
      "# 3.2x + y = 120\n",
      "# x + 3y = 114\n",
      "R=array([[3.2,1],[1,3] ])\n",
      "V=array([[120],[114] ])\n",
      "I=linalg.inv(R)*V \n",
      "\n",
      "#To calculate and seperate the respective currents from the above matrix eqution\n",
      "x=I[0] \n",
      "y=I[1] \n",
      "Ia=x+y \n",
      "Ib=It-Ia \n",
      "print 'a) When Va = Vb  Ia = %g A and Ib =%g'%(Ia[0],Ib[0]) \n",
      "\n",
      "# Va+5=Vb  Net Voltage is 5V\n",
      "#Dividing the total current from A as x and y\n",
      "#Taking voltage drops in clockwise direction and anticlockwise directions\n",
      "# We get two simultaneous equations\n",
      "# 3.2x + y = 120 -(5*NetVoltage) = 70\n",
      "# x + 3y = 114 -(5*NetVoltage) = 64\n",
      "R=array([[3.2,1],[1,3]] )\n",
      "V=array([[70],[64] ])\n",
      "I=linalg.inv(R)*V \n",
      "\n",
      "#To calculate and seperate the respective currents from the above matrix eqution\n",
      "x=I[0]\n",
      "y=I[1] \n",
      "Ia=x+y \n",
      "Ib=It-Ia \n",
      "print 'b) When Va + 5 = Vb  Ia = %g A and Ib =%g'%(Ia[0],Ib[0]) \n",
      "\n",
      "#Highly Accurate Answers, Text Book answers are rounded off."
     ],
     "language": "python",
     "metadata": {},
     "outputs": [
      {
       "output_type": "stream",
       "stream": "stdout",
       "text": [
        "a) When Va = Vb  Ia = 28.6047 A and Ib =71.3953\n",
        "b) When Va + 5 = Vb  Ia = 16.9767 A and Ib =83.0233\n"
       ]
      }
     ],
     "prompt_number": 10
    },
    {
     "cell_type": "heading",
     "level": 2,
     "metadata": {},
     "source": [
      "Ex11 : Page 116"
     ]
    },
    {
     "cell_type": "code",
     "collapsed": false,
     "input": [
      "#To Compare the volume of copper required\n",
      "from sympy import symbols, solve\n",
      "#Unknown Resistances\n",
      "r, r1, x=symbols('r r1 x') \n",
      "\n",
      "#Lengths of the segements of the ring scheme\n",
      "L1=100 \n",
      "L2=200 \n",
      "L3=200 \n",
      "L4=150 \n",
      "L5=150 \n",
      "#Currents taken by respective loads\n",
      "I1=40 \n",
      "I2=20 \n",
      "I3=100 \n",
      "I4=40 \n",
      "It=I1+I2+I3+I4 #Total Current\n",
      "\n",
      "#Without Interconnector\n",
      "#Let x be the current flowing through the entire ring\n",
      "\n",
      "Eq=(L1*x)+(L2*(x-I1))+(L3*(x-I1-I2))+(L4*(x-I1-I2-I3))+(L4*(x-I1-I2-I3-I4))  #Polynomial Equation to find x\n",
      "\n",
      "x=float(solve(Eq, x)[0])\n",
      "x1=It-x  #Current flowing in the other direction\n",
      "\n",
      "Vac1=((x1*L5)+((x1-I4)*L4))*r  # Voltage across AC without the connector\n",
      "MVac1=((x1*L5)+((x1-I4)*L4))  # Magnitude of Vac1 \n",
      "\n",
      "#With Interconnector\n",
      "#Considering x amount of current to flow clockwise through segment AE\n",
      "#Considering y amount of current to flow anticlockwise through segment AB\n",
      "#Considering 200-(x+y) amount if current to flow through the segment AC\n",
      "# Mesh Analysis of ABCDE gives 5x - 3y = 140 \n",
      "# Mesh Analysis of ABC gives 5x + 11y = 1120 \n",
      "R=array([[5,-3],[5,11]]) \n",
      "V=array([[140],[1120] ])\n",
      "I=linalg.inv(R)*V \n",
      "x=I[0] \n",
      "y=I[1] \n",
      "Vac2=(It-(x+y))*250*r1  # Voltage across AC with connector\n",
      "MVac2=(It-(x+y))*250  # Magnitude of Vac2 \n",
      "print 'The Voltage drop across AC in both case is the same.'\n",
      "print Vac2[0],'Is Equal to',Vac1\n",
      "\n",
      "#To Compute the Numerical Values of the Ratio of resistances\n",
      "RatioA = MVac1/MVac2 \n",
      "\n",
      "print RatioA[0],'is',r1,'divided by',r\n",
      "\n",
      "#Effective Length of both the cases\n",
      "Leff=L1+L2+L3+L4+L5 \n",
      "LeffC=Leff+250 \n",
      "#Volume is Length * Area\n",
      "RatioV=Leff*RatioA/LeffC \n",
      "print 'The Volume of copper without the connector is %g times the volume required with connector'%RatioV[0] "
     ],
     "language": "python",
     "metadata": {},
     "outputs": [
      {
       "output_type": "stream",
       "stream": "stdout",
       "text": [
        "The Voltage drop across AC in both case is the same.\n",
        "64500.0*r1 Is Equal to 26250.0*r\n",
        "0.406976744186 is r1 divided by r\n",
        "The Volume of copper without the connector is 0.310078 times the volume required with connector\n"
       ]
      }
     ],
     "prompt_number": 11
    },
    {
     "cell_type": "heading",
     "level": 2,
     "metadata": {},
     "source": [
      "Ex12 : Page 117"
     ]
    },
    {
     "cell_type": "code",
     "collapsed": false,
     "input": [
      "#To Determine the Voltage at the far end\n",
      "from math import sin, acos\n",
      "r=0.3  # Loop Resistance per km\n",
      "x=0.15  # Loop Reactance per km\n",
      "\n",
      "reactive = lambda y,z,v:(sin(acos(y)))*z*v*x/1000 #To find the reactive drop of the current\n",
      "\n",
      "active = lambda y,z,v:y*z*v*r/1000 #To find the reactive drop of the current\n",
      "\n",
      "#Power Factors of the loads from left to right\n",
      "pf1=0.707 \n",
      "pf2=1 \n",
      "pf3=0.8 \n",
      "#Currents delivering the respective loads from left to right\n",
      "I1=50 \n",
      "I2=60 \n",
      "I3=40 \n",
      "#Length of the conductors in metres\n",
      "l1=200 \n",
      "l2=300 \n",
      "l3=300 \n",
      "#Effective length of the conductors in metres\n",
      "L1=l1 \n",
      "L2=l1+l2 \n",
      "L3=l1+l2+l3 \n",
      "#Active component drops of the respective currents\n",
      "Va1=active(pf1,I1,L1) \n",
      "Va2=active(pf2,I2,L2) \n",
      "Va3=active(pf3,I3,L3) \n",
      "Vat=Va1+Va2+Va3  #Total Active Component Drop\n",
      "#Reactive component drops of the respective currents\n",
      "Vr1=reactive(pf1,I1,L1) \n",
      "Vr2=reactive(pf2,I2,L2) \n",
      "Vr3=reactive(pf3,I3,L3) \n",
      "Vrt=Vr1+Vr2+Vr3  #Total Reactive Component Drop\n",
      "\n",
      "Vt=Vrt+Vat  # Total voltage drop\n",
      "\n",
      "print 'The voltage drop at the far end is %g V '%(Vt)"
     ],
     "language": "python",
     "metadata": {},
     "outputs": [
      {
       "output_type": "stream",
       "stream": "stdout",
       "text": [
        "The voltage drop at the far end is 22.7418 V \n"
       ]
      }
     ],
     "prompt_number": 12
    },
    {
     "cell_type": "heading",
     "level": 2,
     "metadata": {},
     "source": [
      "Ex13 : Page 118"
     ]
    },
    {
     "cell_type": "code",
     "collapsed": false,
     "input": [
      "#To determine line currents and neutral currents\n",
      "from math import sqrt, acos, exp, atan, degrees, pi\n",
      "from cmath import exp\n",
      "V=400  # Supply Voltage\n",
      "Vph=400/sqrt(3)  #Phase Voltage\n",
      "L=480*(10**3)  #Balanced Load\n",
      "#Loads at unit power factor\n",
      "Lr=50*(10**3)  #Load in R phase\n",
      "Ly=150*(10**3)  #Load in Y phase\n",
      "Lb=200*(10**3)  #Load in B phase\n",
      "pf=0.8  #Power Factor lagging\n",
      "theta=-1 * acos(pf)  #Angle in radians of the balanced LAGGING current\n",
      "\n",
      "I=L/(sqrt(3)*V*pf)*exp(1J*theta)  #Balanced Current Magnitude\n",
      "Ir=Lr/Vph  #Magnitude of R phase voltage\n",
      "Iy=Ly/Vph  #Magnitude of Y phase voltage\n",
      "Ib=Lb/Vph  #Magnitude of B phase voltage\n",
      "\n",
      "#Vr is taken as reference\n",
      "#Angles of the phase voltages wrt to the reference\n",
      "Thetay=-120 \n",
      "Thetab=120 \n",
      "Thetar=0 \n",
      "#Net Currents in the respective phases (RYB)\n",
      "Irf=Ir+I \n",
      "Iyf=Iy+I \n",
      "Ibf=Ib+I \n",
      "#Angle of the above currents in degrees\n",
      "r=degrees(atan((Irf.imag)/(Irf.real)) )\n",
      "y=degrees(atan((Iyf.imag)/(Iyf.real)) )\n",
      "b=degrees(atan((Ibf.imag)/(Ibf.real)) )\n",
      "#Angles of the above currents with respect to the reference\n",
      "rf=Thetar+r \n",
      "yf=Thetay+y \n",
      "bf=Thetab+b \n",
      "#Effective Currents wrt to the reference voltage\n",
      "Irn=abs(Irf)*exp(1J*pi*rf/180)\n",
      "Iyn=abs(Iyf)*exp(1J*pi*yf/180)\n",
      "Ibn=abs(Ibf)*exp(1J*pi*bf/180)\n",
      "In=Irn+Iyn+Ibn  # Neutral Current\n",
      "#Note Take Vr as reference\n",
      "print 'The Net Current in phase R is %g/_%g A'%(abs(Irf),rf) \n",
      "print 'The Net Current in phase Y is %g/_%g A'%(abs(Iyf),yf)\n",
      "print 'The Net Current in phase B is %g/_%g A '%(abs(Ibf),bf)\n",
      "print 'The Net Neutral Current is %g/_%g A\\n'%(abs(In),degrees(atan((In.imag)/(In.real))))"
     ],
     "language": "python",
     "metadata": {},
     "outputs": [
      {
       "output_type": "stream",
       "stream": "stdout",
       "text": [
        "The Net Current in phase R is 1047.32/_-29.7449 A\n",
        "The Net Current in phase Y is 1439.4/_-141.161 A\n",
        "The Net Current in phase B is 1643.17/_101.565 A \n",
        "The Net Neutral Current is 572.822/_-19.1066 A\n",
        "\n"
       ]
      }
     ],
     "prompt_number": 13
    },
    {
     "cell_type": "heading",
     "level": 2,
     "metadata": {},
     "source": [
      "Ex14 : Page 123"
     ]
    },
    {
     "cell_type": "code",
     "collapsed": false,
     "input": [
      "#To determine the best location of the substation for a given set of loads\n",
      "\n",
      "\n",
      "#Various loads and how they are positioned on the corners of a square of length 25km\n",
      "L1=5000  #(0,25)\n",
      "L2=8000  #(25,25)\n",
      "L3=3000  #(25,0)\n",
      "L4=6000  #(0,0)\n",
      "\n",
      "L=25 #Length of the square\n",
      "\n",
      "TL=L1+L2+L3+L4  # Total load\n",
      "\n",
      "X=((L1*0)+(L2*L)+(L3*L)+(L4*0))/TL # X coordinate\n",
      "Y=((L1*25)+(L2*L)+(L3*0)+(L4*0))/TL# Y coordinate\n",
      "\n",
      "print 'The Susbstation must be located at (%g km,%0.2f km) '%(X,Y)"
     ],
     "language": "python",
     "metadata": {},
     "outputs": [
      {
       "output_type": "stream",
       "stream": "stdout",
       "text": [
        "The Susbstation must be located at (12.5 km,14.77 km) \n"
       ]
      }
     ],
     "prompt_number": 14
    }
   ],
   "metadata": {}
  }
 ]
}