{
 "metadata": {
  "name": "",
  "signature": "sha256:634e35844aff19b3a5e665d4dafd1fcfdbf5fda4e13cbe3257c0fb7eec30dade"
 },
 "nbformat": 3,
 "nbformat_minor": 0,
 "worksheets": [
  {
   "cells": [
    {
     "cell_type": "heading",
     "level": 1,
     "metadata": {},
     "source": [
      "Chapter6, Illumination Engineering"
     ]
    },
    {
     "cell_type": "heading",
     "level": 2,
     "metadata": {},
     "source": [
      "Ex1 : Page 317"
     ]
    },
    {
     "cell_type": "code",
     "collapsed": false,
     "input": [
      "from __future__ import division\n",
      "from math import sqrt\n",
      "# To determine the distance of a 25 cp lamp for various illumination\n",
      "\n",
      "#Candle power of the lamp\n",
      "I=25 \n",
      "\n",
      "# Various illumination levels\n",
      "E1=5        #Case1\n",
      "E2=15       #Case2\n",
      "E3=8        #Case3\n",
      "\n",
      "# According to the law of illumination  E = I/(r**2) \n",
      "# Using the above equation we find the distances for the above three illuminations\n",
      "\n",
      "r1= sqrt(I/E1) \n",
      "r2= sqrt(I/E2) \n",
      "r3= sqrt(I/E3) \n",
      "\n",
      "print 'a) The distance for %g flux illumination from the normally placed screen is %0.2f m'%(E1,r1)\n",
      "print 'b) The distance for %g flux illumination from the normally placed screen is %0.2f m'%(E2,r2)\n",
      "print 'c) The distance for %g f.c illumination from the normally placed screen is %0.2f ft'%(E3,r3)"
     ],
     "language": "python",
     "metadata": {},
     "outputs": [
      {
       "output_type": "stream",
       "stream": "stdout",
       "text": [
        "a) The distance for 5 flux illumination from the normally placed screen is 2.24 m\n",
        "b) The distance for 15 flux illumination from the normally placed screen is 1.29 m\n",
        "c) The distance for 8 f.c illumination from the normally placed screen is 1.77 ft\n"
       ]
      }
     ],
     "prompt_number": 9
    },
    {
     "cell_type": "heading",
     "level": 2,
     "metadata": {},
     "source": [
      "Ex2 : Page 317"
     ]
    },
    {
     "cell_type": "code",
     "collapsed": false,
     "input": [
      "from math import pi\n",
      "#To determine the total radiation sent vertically downward from a lamp of 1500 cp\n",
      "\n",
      "#Candle power of the lamp\n",
      "P=1500 \n",
      "\n",
      "#Since the flux required corresponds to the one that lies in a plane passing through the lamp vertically downwards the angle is given by\n",
      "Angle= pi  # Angle in radians\n",
      "\n",
      "Flux=P*Angle \n",
      "\n",
      "print 'The total radiation sent vertically downward is %g lumens '%Flux\n",
      "# Answer in the textbook are not accurate."
     ],
     "language": "python",
     "metadata": {},
     "outputs": [
      {
       "output_type": "stream",
       "stream": "stdout",
       "text": [
        "The total radiation sent vertically downward is 4712.39 lumens \n"
       ]
      }
     ],
     "prompt_number": 10
    },
    {
     "cell_type": "heading",
     "level": 2,
     "metadata": {},
     "source": [
      "Ex3 : Page 317"
     ]
    },
    {
     "cell_type": "code",
     "collapsed": false,
     "input": [
      "from math import sin\n",
      "#To calculate Spherical Candle Power and intensity of illumination\n",
      "\n",
      "Tf= 1500                                    #Total flux\n",
      "D=3                                         #Distance from the source\n",
      "CP=200                                      #Candle power of the Uniform Source\n",
      "E=CP/(D**2)                                  #Maximum Illumination Intensity\n",
      "IntIllumi = lambda x : E*sin(x*pi/180)        #Function to determine the intensity of iluumination for various conditions\n",
      "\n",
      "\n",
      "MSCP=Tf/(4*pi)                             #The Mean spherical candle power\n",
      "\n",
      "#Various Angles at which the rays falls on the surface\n",
      "t1=90 \n",
      "t2=60 \n",
      "t3=0 \n",
      "\n",
      "#Illumination Intensities at various angles\n",
      "E1=IntIllumi(t1) \n",
      "E2=IntIllumi(t2) \n",
      "E3=IntIllumi(t3) \n",
      "\n",
      "print 'a)The Mean Spherical Candle Power is %0.2f c.p'%(MSCP)\n",
      "print 'b The illumination intensities for the following cases are: '\n",
      "print 'i)   Normal : %0.2f lux'%E1 \n",
      "print 'ii)  Inclined at 60 degrees : %0.2f lux '%E2\n",
      "print 'iii) Parallel : %g lux'%E3 "
     ],
     "language": "python",
     "metadata": {},
     "outputs": [
      {
       "output_type": "stream",
       "stream": "stdout",
       "text": [
        "a)The Mean Spherical Candle Power is 119.37 c.p\n",
        "b The illumination intensities for the following cases are: \n",
        "i)   Normal : 22.22 lux\n",
        "ii)  Inclined at 60 degrees : 19.25 lux \n",
        "iii) Parallel : 0 lux\n"
       ]
      }
     ],
     "prompt_number": 11
    },
    {
     "cell_type": "heading",
     "level": 2,
     "metadata": {},
     "source": [
      "Ex4 : Page 318"
     ]
    },
    {
     "cell_type": "code",
     "collapsed": false,
     "input": [
      "from __future__ import division\n",
      "from math import acos, degrees, cos\n",
      "#To determine average illumination and illumination at various points on the area\n",
      "\n",
      "CP=200                  #Candle power of the lamp\n",
      "D=4                     #Vertical Distance from the centre of the area to the lamp\n",
      "R=5/2                   #Radius of the given area\n",
      "De=sqrt((D**2)+((R)**2))    #Distance from the edge of the area\n",
      "Reff=80/100             #Reflector Efficiency\n",
      "\n",
      "Ec= CP/(D**2)            #Illumination at the centre of the area\n",
      "cos_theta = (D/De)     #Angle made between perpendicular and edge distances\n",
      "w=2*pi*(1-cos_theta) #Solid angle subtended by the area\n",
      "\n",
      "#Assuming uniform intensity in all directions\n",
      "\n",
      "#Illumination at the edge is\n",
      "Eue=(CP/(De**2))*cos_theta\n",
      "#Flux is given by Iw\n",
      "flux=CP*w \n",
      "#Average illumination\n",
      "Euavg= flux/(pi*(R**2)) \n",
      "#Average illumination with reflector efficiency\n",
      "Euavgr= Euavg*Reff \n",
      "\n",
      "#When candle power is only vertically downwards\n",
      "Eve=Eue*cos_theta     #Illumination at the edge of the area\n",
      "\n",
      "#Total flux equation for non uniform intensity is derived and given by 2*pi*I*(sec(theta)-1)\n",
      "fluxn=2*pi*CP*(1/cos_theta-1) \n",
      "#Average illumination\n",
      "Enuavg= fluxn/(pi*(R**2)) \n",
      "#Average illumination with reflector efficiency\n",
      "Enuavgr= Enuavg*Reff \n",
      "\n",
      "print 'The illumination at the'\n",
      "print 'i) Centre of area = %g lux'%Ec\n",
      "print 'ii)Periphery of the area '\n",
      "print 'a) Uniform illumination = %0.3f lux'%Eue\n",
      "print 'b) Candle power is vertically downward = %0.2f lux '%Eve\n",
      "print 'iii) Average illumination and Average illumination with reflector efficiency'\n",
      "print 'a) Uniform intensity = %0.2f lux and %0.2f lux respectively.'%(Euavg,Euavgr)\n",
      "print 'b) Non Uniform intensity = %0.2f lux and %0.3f lux respectively. '%(Enuavg,Enuavgr)"
     ],
     "language": "python",
     "metadata": {},
     "outputs": [
      {
       "output_type": "stream",
       "stream": "stdout",
       "text": [
        "The illumination at the\n",
        "i) Centre of area = 12.5 lux\n",
        "ii)Periphery of the area \n",
        "a) Uniform illumination = 7.622 lux\n",
        "b) Candle power is vertically downward = 6.46 lux \n",
        "iii) Average illumination and Average illumination with reflector efficiency\n",
        "a) Uniform intensity = 9.73 lux and 7.78 lux respectively.\n",
        "b) Non Uniform intensity = 11.47 lux and 9.177 lux respectively. \n"
       ]
      }
     ],
     "prompt_number": 12
    },
    {
     "cell_type": "heading",
     "level": 2,
     "metadata": {},
     "source": [
      "Ex6 : Page 328"
     ]
    },
    {
     "cell_type": "code",
     "collapsed": false,
     "input": [
      "from math import atan\n",
      "#To determine illumination at a point when a mirror is used\n",
      "\n",
      "CP=500                   #Candle power of the lamp\n",
      "Vd=5                     #Vertical distance from the point to the source\n",
      "Hd=5                     #Horizontal distance fron the point to the source\n",
      "D=sqrt((Vd**2)+(Hd**2))    #Distance between the source and the point\n",
      "Md=2                     #Distance of the source from the mirror\n",
      "theta=degrees(atan(Hd/Vd))       #Angle made between the source to point and the horizontal\n",
      "\n",
      "#Lets consider the mirror reflection\n",
      "R=80/100                 #Reflected rays ratio\n",
      "Vdm=Vd+(2*Md)            #Vertical Distance from the point to the source reflection\n",
      "Hdm=Hd                   #Horizontal distance from the point to the source reflection\n",
      "Dm=sqrt((Vdm**2)+(Hdm**2)) #Distance between the source reflection and the point\n",
      "thetam=degrees(atan(Hdm/Vdm))    #Angle made between the source reflection to point and the horizontal\n",
      "\n",
      "#Illumination at A due to source\n",
      "Es=(CP/(D**2))*cos(theta*pi/180) \n",
      "\n",
      "#Illumination at A due to source refelction\n",
      "Er=(R*CP/(Dm**2))*cos(thetam*pi/180) \n",
      "print \"Illumination at point A due to O' is %0.1f lux.\"%Er \n",
      "#Total Illumination at point A\n",
      "E=Er+Es \n",
      "print \"The total illumination at point A is %0.2f lux.\"%E "
     ],
     "language": "python",
     "metadata": {},
     "outputs": [
      {
       "output_type": "stream",
       "stream": "stdout",
       "text": [
        "Illumination at point A due to O' is 3.3 lux.\n",
        "The total illumination at point A is 10.37 lux.\n"
       ]
      }
     ],
     "prompt_number": 13
    },
    {
     "cell_type": "heading",
     "level": 2,
     "metadata": {},
     "source": [
      "Ex7 : Page 320"
     ]
    },
    {
     "cell_type": "code",
     "collapsed": false,
     "input": [
      "#To determine the illumination over a disc\n",
      "\n",
      "MSCP=300                          #Uniform intensity of the lamp or Mean Spherical candle power\n",
      "Vd=6                              #Vertical distance of the lamp from the disc\n",
      "R=6/2                             #Radius of the disc\n",
      "Reff=60/100                       #Reflector efficiency\n",
      "D=sqrt((Vd**2)+(R**2))              #Distance from the source to the edge of the disc\n",
      "theta=degrees(atan(R/Vd))                 #Angle made between D and Vd\n",
      "\n",
      "Ecwr=MSCP/(Vd**2)                  #Illumination at the centre without reflector\n",
      "Eewr=(MSCP/(D**2))*cos(theta*pi/180)     #Illumination at the edge without reflector\n",
      "\n",
      "#Illumination at the centre is equal to the illumination at the egde with a reflector\n",
      "Eer=MSCP*Reff*(4*pi/(pi*(R**2))) \n",
      "Ecr=Eer \n",
      "\n",
      "w=2*pi*(1-cos(theta*pi/180))           #Solid angle made by the surface\n",
      "flux=MSCP*w                       #Total flux produced by the source\n",
      "Eavg=flux/(pi*(R**2))             #Average illumination\n",
      "\n",
      "print 'The illumination at: ' \n",
      "print 'a) At the centre: ' \n",
      "print 'i) With reflector : %g lux'%Ecr\n",
      "print 'ii)Without reflector : %0.2f lux '%Ecwr\n",
      "print 'b) At the edge of the surface:' \n",
      "print 'i) With reflector : %g lux'%Eer\n",
      "print 'ii)Without reflector : %0.2f lux '%Eewr\n",
      "print 'c) Average illumination over the disc without the reflector : %0.2f lux'%Eavg "
     ],
     "language": "python",
     "metadata": {},
     "outputs": [
      {
       "output_type": "stream",
       "stream": "stdout",
       "text": [
        "The illumination at: \n",
        "a) At the centre: \n",
        "i) With reflector : 80 lux\n",
        "ii)Without reflector : 8.33 lux \n",
        "b) At the edge of the surface:\n",
        "i) With reflector : 80 lux\n",
        "ii)Without reflector : 5.96 lux \n",
        "c) Average illumination over the disc without the reflector : 7.04 lux\n"
       ]
      }
     ],
     "prompt_number": 14
    },
    {
     "cell_type": "heading",
     "level": 2,
     "metadata": {},
     "source": [
      "Ex8 : Page 328"
     ]
    },
    {
     "cell_type": "code",
     "collapsed": false,
     "input": [
      "from math import ceil\n",
      "#To estimate the number rating and disposition of the lamps\n",
      "\n",
      "E=32                    #Illumination required for the working plane\n",
      "A=80*15                 #Area of the work bench\n",
      "UF=0.5                  #Utilization Factor\n",
      "MF=0.8                  #Maintenance Factor\n",
      "SHR=1.5                 #Maximum permissible value of spacing to height ratio\n",
      "h=4.5                   #Required height for the lamps to be hung above the work bench\n",
      "Leff=14                 #Lamp efficacy\n",
      "Tlumen=E*A              #Total lumens required\n",
      "Llumen=Tlumen/(UF*MF)   #Lamp lumens required\n",
      "l=(A/15)                #Length of the workspace\n",
      "\n",
      "Nc=ceil(l/(1.5*4.5))     #Minimum number of lamps in a single row (Number of columns)\n",
      "\n",
      "W=200                   #Assumed wattage of the bulb\n",
      "\n",
      "NoL=Llumen/(W*Leff)     #Number of bulbs required, Calculated value\n",
      "\n",
      "Nr=ceil(NoL/12)         #Number of rows calculated for the required criteria\n",
      "\n",
      "N=Nc*Nr                 #Number of lamps necessary.\n",
      "\n",
      "Sp=l/Nc                 #Length wise spacing between the lamps\n",
      "print '''Assuming 200W bulbs, \n",
      "in a rectangular workspace of 80m*15m, we require %g bulbs arranged in %g rows\n",
      "& %g columns having a spacing of %0.2fm between them.'''%(N,Nr,Nc,Sp)"
     ],
     "language": "python",
     "metadata": {},
     "outputs": [
      {
       "output_type": "stream",
       "stream": "stdout",
       "text": [
        "Assuming 200W bulbs, \n",
        "in a rectangular workspace of 80m*15m, we require 36 bulbs arranged in 3 rows\n",
        "& 12 columns having a spacing of 6.67m between them.\n"
       ]
      }
     ],
     "prompt_number": 15
    },
    {
     "cell_type": "heading",
     "level": 2,
     "metadata": {},
     "source": [
      "Ex9 : Page 334"
     ]
    },
    {
     "cell_type": "code",
     "collapsed": false,
     "input": [
      "#To determine the number of lamps required\n",
      "\n",
      "A=30*20                 #Area of the building\n",
      "B=25                    #Brightness in lumen/sq. metre\n",
      "CoR=0.25                #Co - efficient of reflection \n",
      "Lwatt=500               #Lamp Wattage\n",
      "Ll=8000                 #Lamp lumens output\n",
      "E=B/CoR                 #Illumination required\n",
      "BF=0.6                  #Beam factor\n",
      "WF=1.2                  #Waste light factor\n",
      "MF=0.75                 #Mainteanance factor\n",
      "\n",
      "Tlumen= E*A*WF/MF       #Total lumens required\n",
      "\n",
      "Llumen=Ll*BF            #Lumens provided by one lamp\n",
      "\n",
      "NoL=Tlumen/Llumen       #Number of lamps\n",
      "\n",
      "print 'The number of lamps required are %g. '%(round(NoL))"
     ],
     "language": "python",
     "metadata": {},
     "outputs": [
      {
       "output_type": "stream",
       "stream": "stdout",
       "text": [
        "The number of lamps required are 20. \n"
       ]
      }
     ],
     "prompt_number": 16
    },
    {
     "cell_type": "heading",
     "level": 2,
     "metadata": {},
     "source": [
      "Ex10 : Page 334"
     ]
    },
    {
     "cell_type": "code",
     "collapsed": false,
     "input": [
      "from math import cos, degrees, sqrt, atan, pi\n",
      "#To determine the illumination on the ground\n",
      "\n",
      "CP=300                  #Uniform luminous intensity of a lamp\n",
      "Vd=6                    #Vertical distance from the ground to the lamp\n",
      "Hd=6                    #Horizontal distance from the ground to the lamp\n",
      "D=sqrt((Vd**2)+(Hd**2))   #Distance from the lamp to point 6 metres away from the vertical line\n",
      "theta=degrees(atan(Hd/Vd))      #Angle made between D and Vd.\n",
      "\n",
      "# Illumination\n",
      "Ec=CP/(Vd**2)            #Vertically beneath the lamp\n",
      "E6=CP*cos(theta*pi/180)/(D**2) #**=6 metres away from the centre\n",
      "\n",
      "print 'The illumination on the ground :' \n",
      "print 'a)Vertically beneath the lamp : %0.2f lux.'%Ec \n",
      "print 'b)6 metres away from condition a) : %0.2f lux.'%E6"
     ],
     "language": "python",
     "metadata": {},
     "outputs": [
      {
       "output_type": "stream",
       "stream": "stdout",
       "text": [
        "The illumination on the ground :\n",
        "a)Vertically beneath the lamp : 8.33 lux.\n",
        "b)6 metres away from condition a) : 2.95 lux.\n"
       ]
      }
     ],
     "prompt_number": 17
    },
    {
     "cell_type": "heading",
     "level": 2,
     "metadata": {},
     "source": [
      "Ex11 - page 334"
     ]
    },
    {
     "cell_type": "code",
     "collapsed": false,
     "input": [
      "#Determine the output voltage\n",
      "\n",
      "Area=(5.08*3.75)*(10**-4)        #Area projected by the cathode\n",
      "Is=12*(10**-6)                   #Sensitivity\n",
      "Rl=1.5*(10**6)                   # Load of operation\n",
      "\n",
      "#Function to calculate the output voltage for each case\n",
      "volt = lambda a,b:Area*a*Is*Rl/(b**2)\n",
      "\n",
      "#Case 1\n",
      "CP=60                           #Lamp intensity\n",
      "D=1.8                           #Vertical distance of the lamp from the cell\n",
      "V1=volt(CP,D) \n",
      "#Case 2\n",
      "CP=6                            #Lamp intensity\n",
      "D=0.5                           #Vertical distance of the lamp from the cell\n",
      "V2=volt(CP,D) \n",
      "#Case 3\n",
      "W=100                           #Wattage of the lamp\n",
      "eff=20                          #eficacy of the lamp\n",
      "CP=W*eff/(4*pi)                #Lamp intensity\n",
      "D=2                             #Vertical distance of the lamp from the cell\n",
      "V3=volt(CP,D) \n",
      "\n",
      "print 'The voltage output of the cells are :' \n",
      "print 'a) 60 CP lamp at 1.8m : %g V'%V1 \n",
      "print 'b) 6 CP lamp at 0.5m : %0.3f V'%V2 \n",
      "print 'c) A 100W lamp having a efficacy of 20 lumens/watt at 2m : %0.3f V'%V3"
     ],
     "language": "python",
     "metadata": {},
     "outputs": [
      {
       "output_type": "stream",
       "stream": "stdout",
       "text": [
        "The voltage output of the cells are :\n",
        "a) 60 CP lamp at 1.8m : 0.635 V\n",
        "b) 6 CP lamp at 0.5m : 0.823 V\n",
        "c) A 100W lamp having a efficacy of 20 lumens/watt at 2m : 1.364 V\n"
       ]
      }
     ],
     "prompt_number": 18
    }
   ],
   "metadata": {}
  }
 ]
}