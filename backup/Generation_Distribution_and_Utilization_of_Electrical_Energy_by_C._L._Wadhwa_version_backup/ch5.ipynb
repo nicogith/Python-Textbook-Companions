{
 "metadata": {
  "name": "",
  "signature": "sha256:767774e63692d32c6e5c82e709d1a501f8224db32f9d1d9637be95db8cc5b8af"
 },
 "nbformat": 3,
 "nbformat_minor": 0,
 "worksheets": [
  {
   "cells": [
    {
     "cell_type": "heading",
     "level": 1,
     "metadata": {},
     "source": [
      "Chapter5, Electric heating and welding"
     ]
    },
    {
     "cell_type": "heading",
     "level": 2,
     "metadata": {},
     "source": [
      "Ex1 : Page 272"
     ]
    },
    {
     "cell_type": "code",
     "collapsed": false,
     "input": [
      "from sympy import symbols, solve\n",
      "from math import sqrt, pi\n",
      "#To determine the size and length of the wire\n",
      "\n",
      "r=symbols('r')  #Variable Value of radius\n",
      "A=pi*(r**2)  #Area of cross section of the wire\n",
      "V=220  #Supply Voltage\n",
      "P=20*(10**3)  #Power input\n",
      "#Temperatures\n",
      "T1=1127  #Wire\n",
      "T2=427  #Charge\n",
      "\n",
      "R=(V**2)/P  #Resistance of the wire\n",
      "e=0.9  #emissivity constant\n",
      "K=0.6  #Radiation Effciency\n",
      "\n",
      "p=1.09*(10**-6)  #Resistivity\n",
      "\n",
      "l=R*A/p  #Length in term of 'r'\n",
      "\n",
      "H=5.72*e*K*((((T1+273)/100)**4)-(((T2+273)/100)**4))  #Heat dissipated per sq.m of the surface\n",
      "\n",
      "\n",
      "\n",
      "CSA=pi*2*r*l  #Curved surface area\n",
      "\n",
      "CSAn=P/H  #Numerical Value of Curved suraface area\n",
      "\n",
      "X=CSA-CSAn  #Polynomial to find 'r'\n",
      "r=solve(X, r)#Numerical Value of radius\n",
      "r=r[0] # taking real root only\n",
      "print 'The radius of wire = %0.3f mm'%(r*1000)\n",
      "l=CSAn/(2*pi*r)  #Numerical Value of length\n",
      "print '& length = %0.2f m\\n'%(l)\n",
      "#For charge temperature to be cold\n",
      "Ti=25  #Cold Temperature\n",
      "T=symbols('T')  # value in degree C # Variable value of the element temperature\n",
      "Hi=5.72*e*K*((((T+273)/100)**4)-(((Ti+273)/100)**4))  #Heat dissipated per sq.m of the surface\n",
      "CSA=pi*2*r*l  #Curved surface area\n",
      "Y=Hi-H  #polynomial to find the temperature of the element\n",
      "#Roots of T must be real\n",
      "T=solve(Y, T)  #Numerical Value\n",
      "T=T[1]  \n",
      "print 'The Temperature of the element when the charge is cold is %0.f degree celsius'%(T)\n",
      "# Answer in the textbook is not accurate."
     ],
     "language": "python",
     "metadata": {},
     "outputs": [
      {
       "output_type": "stream",
       "stream": "stdout",
       "text": [
        "The radius of wire = 1.706 mm\n",
        "& length = 16.77 m\n",
        "\n",
        "The Temperature of the element when the charge is cold is 1105 degree celsius"
       ]
      },
      {
       "output_type": "stream",
       "stream": "stdout",
       "text": [
        "\n"
       ]
      }
     ],
     "prompt_number": 1
    },
    {
     "cell_type": "heading",
     "level": 2,
     "metadata": {},
     "source": [
      "Ex2 : Page 274"
     ]
    },
    {
     "cell_type": "code",
     "collapsed": false,
     "input": [
      "from __future__ import division\n",
      "from math import sqrt\n",
      "#To determine the various temperature by changing the connection of the resistance elements\n",
      "\n",
      "#Note that the value in kelvin of the first case in the textbook is wrong\n",
      "\n",
      "#P is directly proportion to V**2 and H is directly propostional to KT**4\n",
      "#Different Temperatures for different configurations\n",
      "T1=1125  #Temperature in First Case\n",
      "\n",
      "from sympy import symbols, solve\n",
      "T2,T3,T4=symbols('T2 T3 T4') \n",
      "\n",
      "#Multiplying Factors to the square of voltages\n",
      "V1=1  #Line to Line Voltage \n",
      "V2=V1/2  #when connected in series first and then delta\n",
      "V3=V1/(2*sqrt(3))  #when connected in series and then in star \n",
      "V4=V1/(sqrt(3))  #When connected in parallel and in star\n",
      "\n",
      "#To find the power loss in each case\n",
      "Pow = lambda y:(y**2)\n",
      "P1=Pow(V1) \n",
      "P2=Pow(V2) \n",
      "P3=Pow(V3) \n",
      "P4=Pow(V4) \n",
      "\n",
      "#To find the heat dissipated from each case\n",
      "heatdiss = lambda y:(y**4)\n",
      "H1=heatdiss(T1+273) \n",
      "H2=heatdiss(T2+273) \n",
      "H3=heatdiss(T3+273) \n",
      "H4=heatdiss(T4+273) \n",
      "\n",
      "#Polynomials to find the temperature in degree celsius\n",
      "temp = lambda y,z:(P1/y)-(H1/z)\n",
      "X2=temp(P2,H2) \n",
      "X3=temp(P3,H3) \n",
      "X4=temp(P4,H4) \n",
      "\n",
      "#Temperature Numerical Value\n",
      "T2=solve(X2, T2) \n",
      "T3=solve(X3, T3) \n",
      "T4=solve(X4, T4) \n",
      "\n",
      "#Only to consider Real Roots\n",
      "T2=T2[1] \n",
      "T3=T3[1] \n",
      "T4=T4[1] \n",
      "\n",
      "print 'The Temperature for the following configurations are:' \n",
      "print 'Two Groups connected in series first and then in delta : %0.1f degree Celsius'%T2 \n",
      "\n",
      "print 'Two Groups connected in series first and then in star : %0.1f degree Celsius'%(T3)\n",
      "\n",
      "print 'Two Groups connected in parallel first and then in star : %0.1f degree Celsius'%(T4)\n",
      "\n",
      "# Answer in the textbook are not accurate."
     ],
     "language": "python",
     "metadata": {},
     "outputs": [
      {
       "output_type": "stream",
       "stream": "stdout",
       "text": [
        "The Temperature for the following configurations are:\n",
        "Two Groups connected in series first and then in delta : 715.5 degree Celsius\n",
        "Two Groups connected in series first and then in star : 478.1 degree Celsius\n",
        "Two Groups connected in parallel first and then in star : 789.3 degree Celsius\n"
       ]
      }
     ],
     "prompt_number": 2
    },
    {
     "cell_type": "heading",
     "level": 2,
     "metadata": {},
     "source": [
      "Ex3 : Page 278"
     ]
    },
    {
     "cell_type": "code",
     "collapsed": false,
     "input": [
      "from __future__ import division\n",
      "#To Determine the average KW input to the furnace\n",
      "M=10*(10**3)  #Mass of Steel Melted\n",
      "t=2*3600  #Time Taken to Melt the steel\n",
      "eff=50/100  #Overall Efficiency\n",
      "I=9000  #Current Input\n",
      "R=0.003  #Resistance\n",
      "X=0.005  #Reactance\n",
      "SH=0.12  #Specific Heat\n",
      "LHF=8.89*(10**3)  #Latent Heat of Fusion\n",
      "Tm=1371  #Melting Point\n",
      "Ti=20  #Room Temperature\n",
      "\n",
      "Hm=M*LHF  #Heat Required for melting\n",
      "Hr=M*SH*(Tm-Ti)*1000  #Heat Required to raise the temperature\n",
      "Ht=Hm+Hr  #Total Amount of heat required\n",
      "\n",
      "E=Ht*4.2/(3600)  #Energy in Whr\n",
      "P=E*3600/t  #Power\n",
      "\n",
      "Pa=P/eff  #Actual Power Input to the Furnace\n",
      "\n",
      "Vt=Pa/(3*I)  #V Cos theta\n",
      "#The Above voltage is the sum of arc drop and drop in resistance load\n",
      "\n",
      "Va=Vt-(I*R)  #Arc Drop\n",
      "Vx=I*X  #Reactance Drop\n",
      "Vs=sqrt((Vt**2)+(Vx**2))  #Supply Voltage\n",
      "S=3*Vs*I/1000  #KVA input\n",
      "\n",
      "print 'The Average kW input to the furnance is %0.2f kW'%(Pa/1000)\n",
      "print 'The Arc Voltage is %0.2f V'%(Va)\n",
      "print 'The kVA input is %0.2f kVA'%(S)\n",
      "\n",
      "#Answer in the textbook are not accurate."
     ],
     "language": "python",
     "metadata": {},
     "outputs": [
      {
       "output_type": "stream",
       "stream": "stdout",
       "text": [
        "The Average kW input to the furnance is 1995.12 kW\n",
        "The Arc Voltage is 46.89 V\n",
        "The kVA input is 2335.96 kVA\n"
       ]
      }
     ],
     "prompt_number": 3
    },
    {
     "cell_type": "heading",
     "level": 2,
     "metadata": {},
     "source": [
      "Ex4 : Page 284"
     ]
    },
    {
     "cell_type": "code",
     "collapsed": false,
     "input": [
      "#To determine the effciency of a high frequency induction furnance\n",
      "t=10*60  #Time Taken to rise temperature in seconds\n",
      "M=1.815  #Mass of aluminium melted\n",
      "Pi=5*(10**3)  #Power Input\n",
      "Ti=15  #Initial Temperature\n",
      "Tm=660  #Melting Point of Al\n",
      "SHAl=0.212  #Specific heat of Al\n",
      "LHFAl=76.8*(10**3)  #Laten Heat of fusin in Cal/Kg\n",
      "\n",
      "Hm=M*LHFAl  #Heat required to melt Al\n",
      "Htr=SHAl*M*1000*(Tm-Ti)  #Heat required to raise the temperature\n",
      "HTot=Hm+Htr  #Total Heat Required\n",
      "\n",
      "HToth=HTot*3600/t  #Heat required per hour\n",
      "\n",
      "Po=HToth*4.2/3600  #Power Output\n",
      "\n",
      "eff=Po*100/Pi  #Efficiency\n",
      "\n",
      "print 'The Effciency of the High Frequency Induction Furnace is %0.f percent '%(eff)"
     ],
     "language": "python",
     "metadata": {},
     "outputs": [
      {
       "output_type": "stream",
       "stream": "stdout",
       "text": [
        "The Effciency of the High Frequency Induction Furnace is 54 percent \n"
       ]
      }
     ],
     "prompt_number": 4
    },
    {
     "cell_type": "heading",
     "level": 2,
     "metadata": {},
     "source": [
      "Ex5 : Page 284"
     ]
    },
    {
     "cell_type": "code",
     "collapsed": false,
     "input": [
      "from math import pi\n",
      "#To Determine the equivalent resistance of the charge and current\n",
      "\n",
      "f=960  #Frequency\n",
      "N1=20  #Primary Turns\n",
      "N2=1  #Secondary is Single Turn\n",
      "Pi=325*(10**3)  #Power Input\n",
      "Di=45  #Internal Diameter\n",
      "l=50  #Depth of the charge\n",
      "\n",
      "#Assumptions\n",
      "p=200*(10**-6)  #Resistivity\n",
      "M=1  #For Molten Steel\n",
      "\n",
      "t=(1/(2*pi))*sqrt(p*(10**9)/(M*f))  #Depth of penentration of the current\n",
      "A=t*l  #Effective Area\n",
      "Dm=Di+t  #Mean Diameter\n",
      "Dmcf=pi*Dm  #Mean Length of current flow\n",
      "Rc=p*Dmcf/A  #Resistance of the Cylinder\n",
      "\n",
      "Is=sqrt(Pi/Rc)  #Current flowing through secondary\n",
      "Ip=Is*N2/N1  #Primary Current\n",
      "\n",
      "print 'The Equivalent Resistance of the cylinder is %0.f * 10**-6 ohm '%(Rc/(10**-6))\n",
      "print 'The Required Current in the primary is %g A'%(Ip)"
     ],
     "language": "python",
     "metadata": {},
     "outputs": [
      {
       "output_type": "stream",
       "stream": "stdout",
       "text": [
        "The Equivalent Resistance of the cylinder is 259 * 10**-6 ohm \n",
        "The Required Current in the primary is 1772.1 A\n"
       ]
      }
     ],
     "prompt_number": 5
    },
    {
     "cell_type": "heading",
     "level": 2,
     "metadata": {},
     "source": [
      "Ex6 : Page 285"
     ]
    },
    {
     "cell_type": "code",
     "collapsed": false,
     "input": [
      "from math import exp, degrees, cos, atan, acos, sin\n",
      "#To Detemine power absorbed and the power factor\n",
      "Vs=15  #Secondary Voltage\n",
      "P=500*(10**3) # Power Taken\n",
      "pfs=0.6  #Power Factor\n",
      "\n",
      "Is=P/(Vs*pfs)  #Secondary Current\n",
      "\n",
      "#Taking Current as Reference voltage will be\n",
      "t=degrees(acos(pfs))  #Power Factor Angle\n",
      "Vsp=Vs*(complex(cos(t*pi/180),sin(t*pi/180)))  #Phasor Secondary Voltage\n",
      "R=Vsp/Is  #Impedance\n",
      "\n",
      "#if the resistance is doubled, The Total impedance doubles, Considering Vs as reference\n",
      "R2=R.real+R \n",
      "I2=Vs/R2  #New Current\n",
      "pfn=cos(atan((I2.imag)/(I2.real)))  #power factor of new current\n",
      "Pab=Vs*abs(I2)*pfn/1000  #Power Absorbed\n",
      "\n",
      "print 'The Power Factor and The Absorbed power are %0.3f lagging and %0.f kW respectively.'%(pfn,Pab)\n",
      "#Answer in the textbook are not accurate."
     ],
     "language": "python",
     "metadata": {},
     "outputs": [
      {
       "output_type": "stream",
       "stream": "stdout",
       "text": [
        "The Power Factor and The Absorbed power are 0.832 lagging and 481 kW respectively.\n"
       ]
      }
     ],
     "prompt_number": 6
    },
    {
     "cell_type": "heading",
     "level": 2,
     "metadata": {},
     "source": [
      "Ex7 : Page 289"
     ]
    },
    {
     "cell_type": "code",
     "collapsed": false,
     "input": [
      "from math import tan\n",
      "#To determine the Voltage Required and Current Drawn\n",
      "t=2*(10**-2)  #Thickness\n",
      "A=150*(10**-4)  #Area of the slab\n",
      "Er=4  #Relative Permittivity\n",
      "pf=0.04  #Power Factor\n",
      "f=30*(10**6)  #Frequency of supply\n",
      "w=2*pi*f  #Angular Frequency\n",
      "P=200  #Power Required\n",
      "Eo=8.854*(10**-12)  #Permittivity of free space\n",
      "\n",
      "C=Er*Eo*A/t  #Capacitance\n",
      "Xc=1/(C*w)  #Capacitative Reactance\n",
      "phi=degrees(acos(pf))  #power factor angle\n",
      "R=tan(phi*pi/180)*Xc  #Resistance\n",
      "V=sqrt(P*R)  #Voltage\n",
      "I1=V/R  #Current\n",
      "Ic=V/Xc  #Curent through the Capacitor\n",
      "It=sqrt((I1**2)+(Ic**2))  #Total Current\n",
      "\n",
      "Vn=600  #Limited Voltage\n",
      "Rn=(Vn**2)/P  #New Resistance\n",
      "wn=tan(phi*pi/180)/(C*Rn)  #New Angular Frequency\n",
      "fn=wn/(2*pi)  #New Frequnency\n",
      "\n",
      "print 'The Current And Voltage are %0.f A and %0.fV respectively'%(It,V)\n",
      "print 'For the New Voltage the frequency is %0.2f MHz'%((fn/(10**6)))\n",
      "#No rounding off. Accurate Answers here."
     ],
     "language": "python",
     "metadata": {},
     "outputs": [
      {
       "output_type": "stream",
       "stream": "stdout",
       "text": [
        "The Current And Voltage are 5 A and 999V respectively\n",
        "For the New Voltage the frequency is 83.15 MHz\n"
       ]
      }
     ],
     "prompt_number": 7
    },
    {
     "cell_type": "heading",
     "level": 2,
     "metadata": {},
     "source": [
      "Ex8 : Page 290"
     ]
    },
    {
     "cell_type": "code",
     "collapsed": false,
     "input": [
      "#To estimate the voltage and Current during heating\n",
      "l=30  #Length\n",
      "b=15 #Breadth\n",
      "t=2  #Thickness\n",
      "t1=20  #Initial Temperature\n",
      "t2=180  #Final Temperature\n",
      "T=10*60  #Time Period in Seconds\n",
      "f=40*(10**6)  #Frequency of supply\n",
      "w=2*pi*f  #Angular Frequency\n",
      "SH=0.35  #Specific Heat Of Wood\n",
      "Er=5  #Relative Permitivity\n",
      "Eo=8.854*(10**-12)  # Permitivity of free space\n",
      "pf=0.05  #Power Factor\n",
      "Eff=90/100  #Efficiency\n",
      "p=0.55 #Density\n",
      "A=l*b  #Area of the wooden board\n",
      "W=(A*t)*p/1000  #Weight of wood in kilograms\n",
      "H=W*SH*(t2-t1)  #Heat required to raise temperature\n",
      "E=H*4.2/3600  #Energy in  kWhr\n",
      "P=E*3600/T  #In kilowatts\n",
      "AP=P*1000/Eff  #Actual Power\n",
      "C=Eo*Er*A*(10**-2)/t  #Capacitance\n",
      "phi=degrees(acos(pf))  #Power Factor Angle\n",
      "Del=(90-phi)*pi/180 #In Radian\n",
      "V=sqrt(AP/(w*C*Del))  #Voltage\n",
      "I=V*w*C  #Current\n",
      "print 'The Voltage and Current are %0.f V and %0.2f A respectively'%(V,I)\n",
      "#Answer in the textbook are not accurate."
     ],
     "language": "python",
     "metadata": {},
     "outputs": [
      {
       "output_type": "stream",
       "stream": "stdout",
       "text": [
        "The Voltage and Current are 415 V and 10.39 A respectively\n"
       ]
      }
     ],
     "prompt_number": 8
    }
   ],
   "metadata": {}
  }
 ]
}