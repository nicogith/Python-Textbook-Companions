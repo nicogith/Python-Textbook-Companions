{
 "metadata": {
  "name": "",
  "signature": "sha256:3ac2c23233482dc3087073e89bf82acd0d43f65ffc269ad874ae8200d4170ec2"
 },
 "nbformat": 3,
 "nbformat_minor": 0,
 "worksheets": [
  {
   "cells": [
    {
     "cell_type": "heading",
     "level": 1,
     "metadata": {},
     "source": [
      "Chapter6-Three phase Circuits"
     ]
    },
    {
     "cell_type": "heading",
     "level": 2,
     "metadata": {},
     "source": [
      "Ex8-pg6.14"
     ]
    },
    {
     "cell_type": "code",
     "collapsed": false,
     "input": [
      "## Three-Phase Circuits :example 6.8 :(pg 6.14)\n",
      "VL=440.;\n",
      "import math\n",
      "P=50*10**3;\n",
      "IL=90.;\n",
      "Iph=IL/math.sqrt(3);\n",
      "pf=(P/(math.sqrt(3)*VL*IL));\n",
      "S=math.sqrt(3)*VL*IL;\n",
      "print(\"\\nVL=440 V \\nP=50kW \\nIL=90 A\");\n",
      "print\"%s %.2f %s\"%(\"\\nVL=Vph=\",VL,\" V\");##For delta-connected load\n",
      "print\"%s %.2f %s\"%(\"\\nIph=IL/sqrt(3)=\",Iph,\" A\");\n",
      "print(\"\\nP=sqrt(3)*VL*IL*cos(phi)\");\n",
      "print\"%s %.2f %s\"%(\"\\ncos(phi)=\",pf,\" (lagging)\");\n",
      "print\"%s %.2f %s\"%(\"\\nS=sqrt(3)*VL*IL =\",S,\" VA\");"
     ],
     "language": "python",
     "metadata": {},
     "outputs": [
      {
       "output_type": "stream",
       "stream": "stdout",
       "text": [
        "\n",
        "VL=440 V \n",
        "P=50kW \n",
        "IL=90 A\n",
        "\n",
        "VL=Vph= 440.00  V\n",
        "\n",
        "Iph=IL/sqrt(3)= 51.96  A\n",
        "\n",
        "P=sqrt(3)*VL*IL*cos(phi)\n",
        "\n",
        "cos(phi)= 0.73  (lagging)\n",
        "\n",
        "S=sqrt(3)*VL*IL = 68589.21  VA\n"
       ]
      }
     ],
     "prompt_number": 1
    },
    {
     "cell_type": "heading",
     "level": 2,
     "metadata": {},
     "source": [
      "Ex9-pg6.15"
     ]
    },
    {
     "cell_type": "code",
     "collapsed": false,
     "input": [
      "## Three-Phase Circuits :example 6.9 :(pg 6.15)\n",
      "IL=15.;\n",
      "import math\n",
      "P=11.*10**3;\n",
      "S=15.*10**3;\n",
      "VL=S/(math.sqrt(3.)*IL);\n",
      "Vph=VL/math.sqrt(3.);\n",
      "x=(P/S)*57.3;\n",
      "phi=math.acos(P/S);\n",
      "Q=math.sqrt(3.)*VL*IL*math.sin(phi/57.3);\n",
      "Iph=IL;\n",
      "Zph=Vph/Iph;\n",
      "R=Zph*math.cos(phi/57.3);\n",
      "XL=Zph*math.sin(phi/57.3);\n",
      "Vph1=VL;\n",
      "Iph1=(Vph1/Zph);\n",
      "IL1=math.sqrt(3.)*Iph1;\n",
      "P1=math.sqrt(3.)*VL*IL1*math.cos(phi/57.3);\n",
      "Q1=math.sqrt(3.)*VL*IL1*math.sin(phi/57.3);\n",
      "print(\"\\nIL=15 A \\nP=11kW \\nS=15kVA \");\n",
      "##For a star-connected load\n",
      "print\"%s %.2f %s\"%(\"\\nS=sqrt(3)*VL*IL \\nVL=\",Vph,\" V\");\n",
      "print\"%s %.2f %s\"%(\"\\ncos(phi)=P/S =\",x,\"\");\n",
      "print\"%s %.3f %s\"%(\"\\nphi=\",phi,\" degrees\"); \n",
      "print\"%s %.2f %s\"%(\"\\nQ=sqrt(3).VL.IL.sin(phi) = \",Q,\" VAR\");\n",
      "print\"%s %.2f %s\"%(\"\\nIph=IL = \",IL,\" A\");\n",
      "print\"%s %.2f %s\"%(\"\\nZph=Vph/Iph = \",Zph,\" Ohm\");\n",
      "print\"%s %.2f %s\"%(\"\\nR= Zph*cos(phi) =\",R,\" Ohm\");\n",
      "print\"%s %.2f %s\"%(\"\\nXL=Zph*sin(phi)= \",XL,\" Ohm\");\n",
      "##If these coils are connected in Delta \n",
      "print\"%s %.2f %s\"%(\"\\nCph =VL =\",VL,\" V\");\n",
      "print\"%s %.2f %s\"%(\"\\nZph= \",Zph,\" Ohm\");\n",
      "print\"%s %.2f %s\"%(\"\\nIph=Vph/Zph =\",Iph1,\" A \");\n",
      "print\"%s %.2f %s\"%(\"\\nIL=sqrt(3)*Iph =\",IL1,\" A\");\n",
      "print\"%s %.2f %s\"%(\"\\nP=sqrt(3)*VL*IL*cos(phi) =\",P1,\" W\");\n",
      "print\"%s %.2f %s\"%(\"\\nQ=sqrt(3)*VL*IL*sin(phi) =\",Q1,\" VAR\");\n",
      "\n",
      "\n",
      "\n"
     ],
     "language": "python",
     "metadata": {},
     "outputs": [
      {
       "output_type": "stream",
       "stream": "stdout",
       "text": [
        "\n",
        "IL=15 A \n",
        "P=11kW \n",
        "S=15kVA \n",
        "\n",
        "S=sqrt(3)*VL*IL \n",
        "VL= 333.33  V\n",
        "\n",
        "cos(phi)=P/S = 42.02 \n",
        "\n",
        "phi= 0.748  degrees\n",
        "\n",
        "Q=sqrt(3).VL.IL.sin(phi) =  195.70  VAR\n",
        "\n",
        "Iph=IL =  15.00  A\n",
        "\n",
        "Zph=Vph/Iph =  22.22  Ohm\n",
        "\n",
        "R= Zph*cos(phi) = 22.22  Ohm\n",
        "\n",
        "XL=Zph*sin(phi)=  0.29  Ohm\n",
        "\n",
        "Cph =VL = 577.35  V\n",
        "\n",
        "Zph=  22.22  Ohm\n",
        "\n",
        "Iph=Vph/Zph = 25.98  A \n",
        "\n",
        "IL=sqrt(3)*Iph = 45.00  A\n",
        "\n",
        "P=sqrt(3)*VL*IL*cos(phi) = 44996.17  W\n",
        "\n",
        "Q=sqrt(3)*VL*IL*sin(phi) = 587.09  VAR\n"
       ]
      }
     ],
     "prompt_number": 1
    },
    {
     "cell_type": "heading",
     "level": 2,
     "metadata": {},
     "source": [
      "Ex10-pg6.15"
     ]
    },
    {
     "cell_type": "code",
     "collapsed": false,
     "input": [
      "## Three-Phase Circuits :example 6.10 :(pg 6.16)\n",
      "P=1500.*10**3;\n",
      "import math\n",
      "pf=0.85;\n",
      "VL=2.2*10**3;\n",
      "phi=math.acos(pf)*57.3;\n",
      "IL=P/(math.sqrt(3.)*VL*pf);\n",
      "Iph=IL/math.sqrt(3.);\n",
      "AC=Iph*pf;\n",
      "RC=Iph*math.sin(phi/57.3);\n",
      "IAC=IL*pf;\n",
      "IRC=IL*math.sin(phi/57.3);\n",
      "print(\"\\nP=1500kW \\npf=0.85 (lagging) \\nVL=2.2kV\");\n",
      "##For Delta-connected load\n",
      "print\"%s %.2f %s\"%(\"\\nP=sqrt(3)*VL*IL*cos(phi) \\nIL=\",IL,\" A\");\n",
      "print\"%s %.2f %s\"%(\"\\nIph=IL/sqrt(3)= \",Iph,\" A\");\n",
      "##AC=Active Component\n",
      "print\"%s %.2f %s\"%(\"\\nAC=Iph*cos(phi) = \",AC,\" A\"); ##in each phase of load\n",
      "##RC=Reactive Component\n",
      "print\"%s %.2f %s\"%(\"\\nRC=Iph*sin(phi) = \",RC,\" A\"); ##in each phase of load\n",
      "##For star-connected source\n",
      "print\"%s %.2f %s\"%(\"\\nIAC = \",IAC,\" A\"); ## current of AC in each phase of source\n",
      "print\"%s %.2f %s\"%(\"\\nIRC = \",IRC,\"A\"); ## current of RC in each phase of source"
     ],
     "language": "python",
     "metadata": {},
     "outputs": [
      {
       "output_type": "stream",
       "stream": "stdout",
       "text": [
        "\n",
        "P=1500kW \n",
        "pf=0.85 (lagging) \n",
        "VL=2.2kV\n",
        "\n",
        "P=sqrt(3)*VL*IL*cos(phi) \n",
        "IL= 463.12  A\n",
        "\n",
        "Iph=IL/sqrt(3)=  267.38  A\n",
        "\n",
        "AC=Iph*cos(phi) =  227.27  A\n",
        "\n",
        "RC=Iph*sin(phi) =  140.85  A\n",
        "\n",
        "IAC =  393.65  A\n",
        "\n",
        "IRC =  243.96 A\n"
       ]
      }
     ],
     "prompt_number": 2
    },
    {
     "cell_type": "heading",
     "level": 2,
     "metadata": {},
     "source": [
      "Ex11-pg6.16"
     ]
    },
    {
     "cell_type": "code",
     "collapsed": false,
     "input": [
      "## Three-Phase Circuits :example 6.11 :(pg 6.16)\n",
      "import math\n",
      "VL=208.;\n",
      "P=1800.;\n",
      "IL=10.;\n",
      "Vph=VL/math.sqrt(3.);\n",
      "Zph=(Vph/IL);\n",
      "pf=P/(math.sqrt(3.)*VL*IL);\n",
      "phi=math.acos(pf)*57.3;\n",
      "Rph=Zph*pf;\n",
      "Xph=Zph*math.sin(phi/57.3);\n",
      "print(\"\\nVL=208 V \\nP=1800 W \\nIL= 10 A\");\n",
      "##For a Wye-connected load,\n",
      "print\"%s %.2f %s\"%(\"\\nVph = VL/sqrt(3) = \",Vph,\" V\");\n",
      "print\"%s %.2f %s\"%(\"\\nIph = IL = \",IL,\" A\");\n",
      "print\"%s %.2f %s\"%(\"\\nZph=Vph/Iph = \",Zph,\" Ohm\");\n",
      "print(\"\\nP=sqrt(3)*VL*IL*cos(phi)\");\n",
      "print\"%s %.2f %s\"%(\"\\ncos(phi)= \",pf,\" degrees\");\n",
      "print\"%s %.2f %s\"%(\"\\nphi= \",phi,\" degrees\");\n",
      "print\"%s %.2f %s\"%(\"\\nRph=Zph*cos(phi) = \",Rph,\" Ohm\");\n",
      "print\"%s %.2f %s\"%(\"\\nXph=Zph*sin(phi) = \",Xph,\" Ohm\");"
     ],
     "language": "python",
     "metadata": {},
     "outputs": [
      {
       "output_type": "stream",
       "stream": "stdout",
       "text": [
        "\n",
        "VL=208 V \n",
        "P=1800 W \n",
        "IL= 10 A\n",
        "\n",
        "Vph = VL/sqrt(3) =  120.09  V\n",
        "\n",
        "Iph = IL =  10.00  A\n",
        "\n",
        "Zph=Vph/Iph =  12.01  Ohm\n",
        "\n",
        "P=sqrt(3)*VL*IL*cos(phi)\n",
        "\n",
        "cos(phi)=  0.50  degrees\n",
        "\n",
        "phi=  60.03  degrees\n",
        "\n",
        "Rph=Zph*cos(phi) =  6.00  Ohm\n",
        "\n",
        "Xph=Zph*sin(phi) =  10.40  Ohm\n"
       ]
      }
     ],
     "prompt_number": 3
    },
    {
     "cell_type": "heading",
     "level": 2,
     "metadata": {},
     "source": [
      "Ex12-pg6.17"
     ]
    },
    {
     "cell_type": "code",
     "collapsed": false,
     "input": [
      "## Three-Phase Circuits :example 6.12 :(pg 6.17)\n",
      "P=100.*10**3;\n",
      "import math\n",
      "IL=80.;\n",
      "VL=1100.;\n",
      "f=50.;\n",
      "Vph=(VL/math.sqrt(3.));\n",
      "Iph=IL;\n",
      "Zph=(Vph/Iph);\n",
      "pf=(P/(math.sqrt(3.)*VL*IL));\n",
      "phi=math.acos(pf)*57.3;\n",
      "Rph=Zph*pf;\n",
      "Xph=Zph*math.sin(phi/57.3);\n",
      "C=(1./(2.*math.pi*f*Xph));\n",
      "print(\"\\nP=100kW \\nIL=80 A \\nVL=1100 V \\nf=50 Hz\");\n",
      "##For a star-connected load\n",
      "\n",
      "print\"%s %.2f %s\"%(\"\\nIph=IL  = \",Iph,\" A\");\n",
      "\n",
      "\n",
      "\n",
      "## as current is leading,reactance will be capacitive in nature\n",
      "print(\"\\nXC=(1/2*pi*C)\");\n",
      "print\"%s %.2e %s\"%(\"\\nC= \",C,\" F\");\n",
      "\n",
      "print\"%s %.2f %s\"%(\"\\nVph = VL/sqrt(3) = \",Vph,\" V\");\n",
      "\n",
      "print\"%s %.2f %s\"%(\"\\nZph=Vph/Iph = \",Zph,\" Ohm\");\n",
      "print(\"\\nP=sqrt(3)*VL*IL*cos(phi)\");\n",
      "print\"%s %.2f %s\"%(\"\\ncos(phi)= \",pf,\" degrees\");\n",
      "print\"%s %.2f %s\"%(\"\\nphi= \",phi,\" degrees\");\n",
      "print\"%s %.2f %s\"%(\"\\nRph=Zph*cos(phi) = \",Rph,\" Ohm\");\n",
      "print\"%s %.2f %s\"%(\"\\nXph=Zph*sin(phi) = \",Xph,\" Ohm\");"
     ],
     "language": "python",
     "metadata": {},
     "outputs": [
      {
       "output_type": "stream",
       "stream": "stdout",
       "text": [
        "\n",
        "P=100kW \n",
        "IL=80 A \n",
        "VL=1100 V \n",
        "f=50 Hz\n",
        "\n",
        "Iph=IL  =  80.00  A\n",
        "\n",
        "XC=(1/2*pi*C)\n",
        "\n",
        "C=  5.31e-04  F\n",
        "\n",
        "Vph = VL/sqrt(3) =  635.09  V\n",
        "\n",
        "Zph=Vph/Iph =  7.94  Ohm\n",
        "\n",
        "P=sqrt(3)*VL*IL*cos(phi)\n",
        "\n",
        "cos(phi)=  0.66  degrees\n",
        "\n",
        "phi=  49.00  degrees\n",
        "\n",
        "Rph=Zph*cos(phi) =  5.21  Ohm\n",
        "\n",
        "Xph=Zph*sin(phi) =  5.99  Ohm\n"
       ]
      }
     ],
     "prompt_number": 4
    },
    {
     "cell_type": "heading",
     "level": 2,
     "metadata": {},
     "source": [
      "Ex13-pg6.17"
     ]
    },
    {
     "cell_type": "code",
     "collapsed": false,
     "input": [
      "## Three-Phase Circuits :example 6.13 :(pg 6.17 & 6.18)\n",
      "\n",
      "import math\n",
      "VL=400.;\n",
      "IL=34.65;\n",
      "P=14.4*10**3;\n",
      "Iph=(IL/math.sqrt(3.));\n",
      "Zph=(VL/Iph);\n",
      "pf=(P/(math.sqrt(3.)*VL*IL));\n",
      "phi=math.acos(pf)*57.3;\n",
      "Rph=(Zph*pf);\n",
      "Xph=(Zph*math.sin(phi/57.3));\n",
      "print(\"\\nVL=400 V \\nIL=34.65 A \\nP=14.4kW\");\n",
      "##For a Delta-connected load\n",
      "print\"%s %.2f %s\"%(\"\\nVL=Vph= \",VL,\" V\");\n",
      "print\"%s %.2f %s\"%(\"\\nIph=IL/sqrt(3)= \",Iph,\" A\");\n",
      "\n",
      "\n",
      "print\"%s %.2f %s\"%(\"\\nZph=Vph/Iph = \",Zph,\" Ohm\");\n",
      "print(\"\\nP=sqrt(3)*VL*IL*cos(phi)\");\n",
      "print\"%s %.2f %s\"%(\"\\ncos(phi)= \",pf,\" degrees\");\n",
      "print\"%s %.2f %s\"%(\"\\nphi= \",phi,\" degrees\");\n",
      "print\"%s %.2f %s\"%(\"\\nRph=Zph*cos(phi) = \",Rph,\" Ohm\");\n",
      "print\"%s %.2f %s\"%(\"\\nXph=Zph*sin(phi) = \",Xph,\" Ohm\");"
     ],
     "language": "python",
     "metadata": {},
     "outputs": [
      {
       "output_type": "stream",
       "stream": "stdout",
       "text": [
        "\n",
        "VL=400 V \n",
        "IL=34.65 A \n",
        "P=14.4kW\n",
        "\n",
        "VL=Vph=  400.00  V\n",
        "\n",
        "Iph=IL/sqrt(3)=  20.01  A\n",
        "\n",
        "Zph=Vph/Iph =  19.99  Ohm\n",
        "\n",
        "P=sqrt(3)*VL*IL*cos(phi)\n",
        "\n",
        "cos(phi)=  0.60  degrees\n",
        "\n",
        "phi=  53.15  degrees\n",
        "\n",
        "Rph=Zph*cos(phi) =  11.99  Ohm\n",
        "\n",
        "Xph=Zph*sin(phi) =  16.00  Ohm\n"
       ]
      }
     ],
     "prompt_number": 5
    },
    {
     "cell_type": "heading",
     "level": 2,
     "metadata": {},
     "source": [
      "Ex14-pg6.18"
     ]
    },
    {
     "cell_type": "code",
     "collapsed": false,
     "input": [
      "## Three-Phase Circuits :example 6.14 :(pg 6.18)\n",
      "P=10.44*10**3;\n",
      "import math\n",
      "VL=200.;\n",
      "pf=0.5;\n",
      "x=math.acos(pf)*57.3;\n",
      "IL=(P/(math.sqrt(3.)*VL*pf));\n",
      "Iph=(IL/math.sqrt(3.));\n",
      "Zph=(VL/Iph);\n",
      "Rph=(Zph*pf);\n",
      "Xph=(Zph*math.sin(x/57.3));\n",
      "Q=(math.sqrt(3.)*VL*IL*math.sin(x/57.3));\n",
      "print(\"\\nP=10.44kW \\nVL=200 V \\npf=0.5(leading)\");\n",
      "## For a delta-connected load,\n",
      "\n",
      "print\"%s %.2f %s\"%(\"\\nP=qrt(3)*VL*IL*cos(phi) \\nIL= \",IL,\" A\");\n",
      "\n",
      "\n",
      "print\"%s %.2f %s\"%(\"\\nQ=sqrt(3)*VL*IL*sin(phi) = \",Q,\" VAR\");\n",
      "\n",
      "\n",
      "print\"%s %.2f %s\"%(\"\\nVL=Vph= \",VL,\" V\");\n",
      "print\"%s %.2f %s\"%(\"\\nIph=IL/sqrt(3)= \",Iph,\" A\");\n",
      "\n",
      "\n",
      "print\"%s %.2f %s\"%(\"\\nZph=Vph/Iph = \",Zph,\" Ohm\");\n",
      "\n",
      "print\"%s %.2f %s\"%(\"\\nRph=Zph*cos(phi) = \",Rph,\" Ohm\");\n",
      "print\"%s %.2f %s\"%(\"\\nXph=Zph*sin(phi) = \",Xph,\" Ohm\");"
     ],
     "language": "python",
     "metadata": {},
     "outputs": [
      {
       "output_type": "stream",
       "stream": "stdout",
       "text": [
        "\n",
        "P=10.44kW \n",
        "VL=200 V \n",
        "pf=0.5(leading)\n",
        "\n",
        "P=qrt(3)*VL*IL*cos(phi) \n",
        "IL=  60.28  A\n",
        "\n",
        "Q=sqrt(3)*VL*IL*sin(phi) =  18082.61  VAR\n",
        "\n",
        "VL=Vph=  200.00  V\n",
        "\n",
        "Iph=IL/sqrt(3)=  34.80  A\n",
        "\n",
        "Zph=Vph/Iph =  5.75  Ohm\n",
        "\n",
        "Rph=Zph*cos(phi) =  2.87  Ohm\n",
        "\n",
        "Xph=Zph*sin(phi) =  4.98  Ohm\n"
       ]
      }
     ],
     "prompt_number": 6
    },
    {
     "cell_type": "heading",
     "level": 2,
     "metadata": {},
     "source": [
      "Ex17-pg6.20"
     ]
    },
    {
     "cell_type": "code",
     "collapsed": false,
     "input": [
      "## Three-Phase Circuits :example 6.17 :(pg 6.20)\n",
      "import math\n",
      "Po=200.*10**3;\n",
      "f=50.;\n",
      "VL=440.;\n",
      "N=0.91;\n",
      "pf=0.86;\n",
      "phi=math.acos(pf)*57.3;\n",
      "Pi=(Po/N);\n",
      "IL=(Pi/(math.sqrt(3.)*VL*pf));\n",
      "Iph=(IL/math.sqrt(3.));\n",
      "AC=(Iph*pf);\n",
      "RC=(Iph*math.sin(phi/57.3));\n",
      "print(\"\\nPo=200 kW \\nf=50Hz \\nVL= 440 V \\nN=0.91 \\npf=0.86\");\n",
      "##For a delta connected load (induction motor)\n",
      "print\"%s %.2f %s\"%(\"\\nVph =VL =  \",VL,\"\");\n",
      "print(\"\\nN=(Po/Pi)\");##efficiency\n",
      "print\"%s %.2f %s\"%(\"\\nPi= \",Pi,\" W\");##Input power\n",
      "print\"%s %.2f %s\"%(\"\\nPi=sqrt(3)*VL*IL*cos(phi) \\nIL= \",IL,\" A\");\n",
      "print\"%s %.2f %s\"%(\"\\nAC = (Iph*cos(phi))= \",AC,\" A\");##Active component of phase current\n",
      "print\"%s %.2f %s\"%(\"\\nRC=(Iph*sin(phi)) = \",RC,\" A\");##Reactive component of phase current"
     ],
     "language": "python",
     "metadata": {},
     "outputs": [
      {
       "output_type": "stream",
       "stream": "stdout",
       "text": [
        "\n",
        "Po=200 kW \n",
        "f=50Hz \n",
        "VL= 440 V \n",
        "N=0.91 \n",
        "pf=0.86\n",
        "\n",
        "Vph =VL =   440.00 \n",
        "\n",
        "N=(Po/Pi)\n",
        "\n",
        "Pi=  219780.22  W\n",
        "\n",
        "Pi=sqrt(3)*VL*IL*cos(phi) \n",
        "IL=  335.33  A\n",
        "\n",
        "AC = (Iph*cos(phi))=  166.50  A\n",
        "\n",
        "RC=(Iph*sin(phi)) =  98.80  A\n"
       ]
      }
     ],
     "prompt_number": 7
    },
    {
     "cell_type": "heading",
     "level": 2,
     "metadata": {},
     "source": [
      "Ex18-pg6.21"
     ]
    },
    {
     "cell_type": "code",
     "collapsed": false,
     "input": [
      "## Three-Phase Circuits :example 6.18 :(pg 6.20)\n",
      "VL=400.;\n",
      "import math\n",
      "Po=112.*10**3;\n",
      "pf=0.86;\n",
      "phi=(math.acos(pf)*57.3);\n",
      "N=0.88; ##Efficiency\n",
      "Pi=(Po/N);\n",
      "IL=(Pi/(math.sqrt(3.)*VL*pf));\n",
      "Iph=(IL/math.sqrt(3.));\n",
      "AC=(Iph*pf);\n",
      "RC=(Iph*math.sin(phi/57.3));\n",
      "Aac=(IL*pf);\n",
      "Arc=(IL*math.sin(phi/57.3));\n",
      "print(\"\\nVL=400 V \\nPo=112kW \\npf=0.86 \\nN=0.88\");\n",
      "##For a mesh-connected load (induction motor)\n",
      "print\"%s %.2f %s\"%(\"\\nVph=VL= \",VL,\" V\");\n",
      "print\"%s %.2f %s\"%(\"\\nN=Po/Pi  \\nPi= \",Pi,\" W\");##Input power\n",
      "print\"%s %.2f %s\"%(\"\\nPi=sqrt(3)*VL*IL*cos(phi) \\nIL= \",IL,\" A\");\n",
      "print\"%s %.2f %s\"%(\"\\nIph=IL/sqrt(3) = \",Iph,\" A\");\n",
      "##current in star-connected load=line current drawn by motor\n",
      "print\"%s %.2f %s\"%(\"\\nIA= \",IL,\" A\");##current in alternate phase\n",
      "print\"%s %.2f %s\"%(\"\\nAC=Iph*cos(phi) = \",AC,\" A\");##active component in each phase of motor\n",
      "print\"%s %.2f %s\"%(\"\\nRC=Iph*sin(phi) = \",RC,\" A\");##Reactive component in each phase of motor\n",
      "print\"%s %.2f %s\"%(\"\\nAac= \",Aac,\" A\");##active component in each alternate phase\n",
      "print\"%s %.2f %s\"%(\"\\nArc= \",Arc,\" A\");##reactive component in each alternate phase\n",
      "\n"
     ],
     "language": "python",
     "metadata": {},
     "outputs": [
      {
       "output_type": "stream",
       "stream": "stdout",
       "text": [
        "\n",
        "VL=400 V \n",
        "Po=112kW \n",
        "pf=0.86 \n",
        "N=0.88\n",
        "\n",
        "Vph=VL=  400.00  V\n",
        "\n",
        "N=Po/Pi  \n",
        "Pi=  127272.73  W\n",
        "\n",
        "Pi=sqrt(3)*VL*IL*cos(phi) \n",
        "IL=  213.61  A\n",
        "\n",
        "Iph=IL/sqrt(3) =  123.33  A\n",
        "\n",
        "IA=  213.61  A\n",
        "\n",
        "AC=Iph*cos(phi) =  106.06  A\n",
        "\n",
        "RC=Iph*sin(phi) =  62.93  A\n",
        "\n",
        "Aac=  183.70  A\n",
        "\n",
        "Arc=  109.00  A\n"
       ]
      }
     ],
     "prompt_number": 8
    },
    {
     "cell_type": "heading",
     "level": 2,
     "metadata": {},
     "source": [
      "Ex19-pg6.21"
     ]
    },
    {
     "cell_type": "code",
     "collapsed": false,
     "input": [
      "## Three-Phase Circuits :example 6.19 :(pg 6.21 & 6.22)\n",
      "\n",
      "import math\n",
      "VL=400.;\n",
      "IL=5.;\n",
      "Vph=(VL/math.sqrt(3.));\n",
      "Zph=(Vph/IL);\n",
      "Iph=(IL/math.sqrt(3));\n",
      "Vph1=(Iph*Zph);\n",
      "print(\"\\nVl=400 V \\nIL=5 A\");\n",
      "##For a star-connected load\n",
      "print\"%s %.2f %s\"%(\"\\nVph=VL/sqrt(3) = \",Vph,\" V\");\n",
      "print\"%s %.2f %s\"%(\"\\nIph=IL= \",IL,\" A\");\n",
      "print\"%s %.2f %s\"%(\"\\nZph=Rph=Vph/Iph = \",Zph,\" Ohm\");\n",
      "##For a delta connected load\n",
      "print\"%s %.2f %s\"%(\"\\nIL=5 A \\nRph= \",Zph,\" Ohm\");\n",
      "print\"%s %.2f %s\"%(\"\\nIph=IL/sqrt(3)= \",Iph,\" A\");\n",
      "print\"%s %.2f %s\"%(\"\\nVph=Iph*Rph \\n= \",Vph1,\" V\");\n",
      "##Voltage needed is 1/3 of the star value\n",
      "\n",
      "\n",
      "\n",
      "\n",
      "\n",
      "\n",
      "\n",
      "\n",
      "\n",
      "\n",
      "\n",
      "\n",
      "\n"
     ],
     "language": "python",
     "metadata": {},
     "outputs": [
      {
       "output_type": "stream",
       "stream": "stdout",
       "text": [
        "\n",
        "Vl=400 V \n",
        "IL=5 A\n",
        "\n",
        "Vph=VL/sqrt(3) =  230.94  V\n",
        "\n",
        "Iph=IL=  5.00  A\n",
        "\n",
        "Zph=Rph=Vph/Iph =  46.19  Ohm\n",
        "\n",
        "IL=5 A \n",
        "Rph=  46.19  Ohm\n",
        "\n",
        "Iph=IL/sqrt(3)=  2.89  A\n",
        "\n",
        "Vph=Iph*Rph \n",
        "=  133.33  V\n"
       ]
      }
     ],
     "prompt_number": 9
    },
    {
     "cell_type": "heading",
     "level": 2,
     "metadata": {},
     "source": [
      "Ex20-pg6.22"
     ]
    },
    {
     "cell_type": "code",
     "collapsed": false,
     "input": [
      "## Three-Phase Circuits :example 6.20 :(pg 6.22 & 6.23)\n",
      "VL=400;\n",
      "import math\n",
      "Zph=100.;\n",
      "Vph=(VL/math.sqrt(3.));\n",
      "Iph=(Vph/Zph);\n",
      "pf=1.;\n",
      "P=(math.sqrt(3.)*VL*Iph*pf);\n",
      "Iph1=(VL/Zph);\n",
      "IL1=(math.sqrt(3.)*Iph1);\n",
      "P1=(math.sqrt(3.)*VL*IL1*pf);\n",
      "I1=(VL/200.);\n",
      "Pa=(VL*I1);\n",
      "I2=(VL/100.);\n",
      "Pb=(VL*I1*I2);\n",
      "print(\"\\nVL=400 V \\nZph = 100 Ohm\");\n",
      "##For a star connected load\n",
      "print\"%s %.2f %s\"%(\"\\nVph=VL/sqrt(3) = \",Vph,\" V\");\n",
      "print\"%s %.2f %s\"%(\"\\nIph = VL/Zph = \",Iph,\" A\");\n",
      "print\"%s %.2f %s\"%(\"\\nIL=Iph = \",Iph,\" A\");\n",
      "print\"%s %.2f %s\"%(\"\\ncos(phi)=1 \\nP=sqrt(3).VL.IL.cos(phi) = \",P,\" W\");\n",
      "##For a delta connected load\n",
      "print\"%s %.2f %s\"%(\"\\nVph=VL= \",VL,\" V\");\n",
      "print\"%s %.2f %s\"%(\"\\nIph=Vph/Zph = \",Iph1,\" A\");\n",
      "print\"%s %.2f %s\"%(\"\\nIL=sqrt(3)*Iph = \",IL1,\" A\");\n",
      "print\"%s %.2f %s\"%(\"\\nP=sqrt(3)*VL*IL*cos(phi) =  \",P1,\" W\");\n",
      "##When resistors are open circuited\n",
      "##(i)Star connection\n",
      "print\"%s %.2f %s\"%(\"\\nI= \",I1,\" A\");##Current in lines\n",
      "print\"%s %.2f %s\"%(\"\\nP= \",Pa,\" W\");##Power taken from mains\n",
      "##(ii)Delta connection\n",
      "print\"%s %.2f %s\"%(\"\\nI= \",I2,\"A\");##Current in each phase\n",
      "print\"%s %.2f %s\"%(\"\\nP= \",Pb,\" W\");##Power taken from mains"
     ],
     "language": "python",
     "metadata": {},
     "outputs": [
      {
       "output_type": "stream",
       "stream": "stdout",
       "text": [
        "\n",
        "VL=400 V \n",
        "Zph = 100 Ohm\n",
        "\n",
        "Vph=VL/sqrt(3) =  230.94  V\n",
        "\n",
        "Iph = VL/Zph =  2.31  A\n",
        "\n",
        "IL=Iph =  2.31  A\n",
        "\n",
        "cos(phi)=1 \n",
        "P=sqrt(3).VL.IL.cos(phi) =  1600.00  W\n",
        "\n",
        "Vph=VL=  400.00  V\n",
        "\n",
        "Iph=Vph/Zph =  4.00  A\n",
        "\n",
        "IL=sqrt(3)*Iph =  6.93  A\n",
        "\n",
        "P=sqrt(3)*VL*IL*cos(phi) =   4800.00  W\n",
        "\n",
        "I=  2.00  A\n",
        "\n",
        "P=  800.00  W\n",
        "\n",
        "I=  4.00 A\n",
        "\n",
        "P=  3200.00  W\n"
       ]
      }
     ],
     "prompt_number": 10
    },
    {
     "cell_type": "heading",
     "level": 2,
     "metadata": {},
     "source": [
      "Ex27-pg6.30"
     ]
    },
    {
     "cell_type": "code",
     "collapsed": false,
     "input": [
      "## Three-Phase Circuits :example 6.27 :(pg 6.30 & 6.31)\n",
      "import math\n",
      "W1=2000.;\n",
      "W2=500.;\n",
      "W3=-500.;\n",
      "x=(math.sqrt(3.)*((W1-W2)/(W1+W2)));\n",
      "phi=math.atan(x)*57.3;\n",
      "pf=math.cos(phi/57.3);\n",
      "y=(math.sqrt(3.)*((W1-W3)/(W1+W3)));\n",
      "phi1=math.atan(y)*57.3;\n",
      "pf1=math.cos(phi1/57.3);\n",
      "print(\"\\nW1 = 2000W \\nW2 = 500 W\");\n",
      "##(i) When both readings are same\n",
      "print(\"\\nWhen W1 &W2 are same \\nW1 = 2000W \\nW2 = 500 W\");\n",
      "print\"%s %.2f %s\"%(\"\\ntan(phi)= sqrt(3).(W1-W2/W1+W2) = \",x,\"\");\n",
      "print\"%s %.2f %s\"%(\"\\nphi= \",phi,\" degrees\");\n",
      "print\"%s %.2f %s\"%(\"\\npf=cos(phi)=\",pf,\"\");##Power factor\n",
      "##(ii) When the latter reading is obtained after reversing the connection to the current coil of 1 instrument\n",
      "print(\"\\nWhen W2 is reversed \\nW1= 2000 W \\nW2= -500 W\");\n",
      "print\"%s %.2f %s\"%(\"\\ntan(phi)= sqrt(3).(W1-W2/W1+W2) =\",y,\"\");\n",
      "print\"%s %.2f %s\"%(\"\\nphi= \",phi1,\" degrees\");\n",
      "print\"%s %.2f %s\"%(\"\\npf=cos(phi)= \",pf1,\"\");##Power factor"
     ],
     "language": "python",
     "metadata": {},
     "outputs": [
      {
       "output_type": "stream",
       "stream": "stdout",
       "text": [
        "\n",
        "W1 = 2000W \n",
        "W2 = 500 W\n",
        "\n",
        "When W1 &W2 are same \n",
        "W1 = 2000W \n",
        "W2 = 500 W\n",
        "\n",
        "tan(phi)= sqrt(3).(W1-W2/W1+W2) =  1.04 \n",
        "\n",
        "phi=  46.11  degrees\n",
        "\n",
        "pf=cos(phi)= 0.69 \n",
        "\n",
        "When W2 is reversed \n",
        "W1= 2000 W \n",
        "W2= -500 W\n",
        "\n",
        "tan(phi)= sqrt(3).(W1-W2/W1+W2) = 2.89 \n",
        "\n",
        "phi=  70.90  degrees\n",
        "\n",
        "pf=cos(phi)=  0.33 \n"
       ]
      }
     ],
     "prompt_number": 11
    },
    {
     "cell_type": "heading",
     "level": 2,
     "metadata": {},
     "source": [
      "Ex28-pg6.31"
     ]
    },
    {
     "cell_type": "code",
     "collapsed": false,
     "input": [
      "## Three-Phase Circuits :example 6.28 :(pg 6.31)\n",
      "W1=5.*10**3;\n",
      "import math\n",
      "W2=-(0.5*10**3);\n",
      "P=(W1+W2);\n",
      "x=(math.sqrt(3.)*((W1-W2)/(W1+W2)));\n",
      "phi=math.atan(x)*57.3;\n",
      "pf=math.cos(phi/57.3);\n",
      "print(\"\\nW1=5kW \\W2=0.5kW\");\n",
      "## When the latter readings are obtained after the reversal of the current coil terminals of the wattmeter\n",
      "print(\"\\nWhen W2 is reversed \\nW1=5kW \\nW2=-0.5kW\");\n",
      "print\"%s %.2f %s\"%(\"\\nP=W1+W2 =  \",P,\" W\");##Power\n",
      "print\"%s %.2f %s\"%(\"\\ntan(phi)=sqrt(3)*(W1-W2/W1+W2) =\",x,\"\");\n",
      "print\"%s %.2f %s\"%(\"\\nphi= \",phi,\" degrees \");\n",
      "print\"%s %.2f %s\"%(\"\\npf=cos(phi) =\",pf,\"\");##Power factor\n"
     ],
     "language": "python",
     "metadata": {},
     "outputs": [
      {
       "output_type": "stream",
       "stream": "stdout",
       "text": [
        "\n",
        "W1=5kW \\W2=0.5kW\n",
        "\n",
        "When W2 is reversed \n",
        "W1=5kW \n",
        "W2=-0.5kW\n",
        "\n",
        "P=W1+W2 =   4500.00  W\n",
        "\n",
        "tan(phi)=sqrt(3)*(W1-W2/W1+W2) = 2.12 \n",
        "\n",
        "phi=  64.72  degrees \n",
        "\n",
        "pf=cos(phi) = 0.43 \n"
       ]
      }
     ],
     "prompt_number": 12
    },
    {
     "cell_type": "heading",
     "level": 2,
     "metadata": {},
     "source": [
      "Ex29-pg6.31"
     ]
    },
    {
     "cell_type": "code",
     "collapsed": false,
     "input": [
      "## Three-Phase Circuits :example 6.29 :(pg 6.31)\n",
      "import math\n",
      "S=10*10**3;\n",
      "pf=0.342;\n",
      "x=(S/math.sqrt(3.));\n",
      "phi=math.acos(pf)*57.3;\n",
      "W1=x*math.cos(30+phi)/(57.3);\n",
      "W2=x*math.cos(30-phi)/(57.3);\n",
      "print(\"\\nS=10kVA \\npf=0.342 \\nS=sqrt(3)*VL*IL\");\n",
      "print\"%s %.2f %s\"%(\"\\nVL*IL= \",x,\"VA\");\n",
      "print\"%s %.2f %s\"%(\"\\ncos(phi)=\",pf,\"\");\n",
      "print\"%s %.2f %s\"%(\"\\nphi= \",phi,\" degrees\");\n",
      "##(i)when power factor is leading\n",
      "print\"%s %.2f %s\"%(\"\\npf leading \\nW1=VL.IL.cos(30+phi)=  \",W1,\" W\");\n",
      "print\"%s %.2f %s\"%(\"\\n \\nW2=VL.IL.cos(30-phi)= \",W2,\" W\");\n",
      "##(i)when power factor is lagging\n",
      "print\"%s %.2f %s\"%(\"\\npf lagging \\nW1=VL.IL.cos(30-phi)= \",W2,\" W\");\n",
      "print\"%s %.2f %s\"%(\"\\n \\nW2=VL.IL.cos(30+phi)=\",W1,\" W\");"
     ],
     "language": "python",
     "metadata": {},
     "outputs": [
      {
       "output_type": "stream",
       "stream": "stdout",
       "text": [
        "\n",
        "S=10kVA \n",
        "pf=0.342 \n",
        "S=sqrt(3)*VL*IL\n",
        "\n",
        "VL*IL=  5773.50 VA\n",
        "\n",
        "cos(phi)= 0.34 \n",
        "\n",
        "phi=  70.01  degrees\n",
        "\n",
        "pf leading \n",
        "W1=VL.IL.cos(30+phi)=   87.21  W\n",
        "\n",
        " \n",
        "W2=VL.IL.cos(30-phi)=  -67.68  W\n",
        "\n",
        "pf lagging \n",
        "W1=VL.IL.cos(30-phi)=  -67.68  W\n",
        "\n",
        " \n",
        "W2=VL.IL.cos(30+phi)= 87.21  W\n"
       ]
      }
     ],
     "prompt_number": 13
    },
    {
     "cell_type": "heading",
     "level": 2,
     "metadata": {},
     "source": [
      "Ex30-pg6.31"
     ]
    },
    {
     "cell_type": "code",
     "collapsed": false,
     "input": [
      "## Three-Phase Circuits :example 6.30 :(pg 6.31 & 6.32)\n",
      "VL=2000.;\n",
      "import math\n",
      "N=0.9;##efficiency\n",
      "W1=300.*10**3;\n",
      "W2=100.*10**3;\n",
      "P=W1+W2;\n",
      "x=(math.sqrt(3.)*((W1-W2)/(W1+W2)));\n",
      "phi=math.atan(x)*57.3;\n",
      "pf=math.cos(phi/57.3);\n",
      "IL=(P/(math.sqrt(3.)*VL*pf));\n",
      "print(\"\\nVL=2000 V \\nN=0.9 \\nW1=300kW \\nW2=100kW\");\n",
      "print\"%s %.2f %s\"%(\"\\nP=W1+W2 = \",P,\" W\");##Input Power\n",
      "print\"%s %.2f %s\"%(\"\\ntan(phi)=(sqrt(3)*(W1-W2/W1+W2)) =\",x,\"\");\n",
      "print\"%s %.2f %s\"%(\"\\nphi= \",phi,\" degrees \");\n",
      "print\"%s %.2f %s\"%(\"\\ncos(phi)=\",pf,\"\");##Power factor\n",
      "print\"%s %.2f %s\"%(\"\\nP=sqrt(3)*VL*IL*cos(phi) \\nIL= \",IL,\" A\");\n"
     ],
     "language": "python",
     "metadata": {},
     "outputs": [
      {
       "output_type": "stream",
       "stream": "stdout",
       "text": [
        "\n",
        "VL=2000 V \n",
        "N=0.9 \n",
        "W1=300kW \n",
        "W2=100kW\n",
        "\n",
        "P=W1+W2 =  400000.00  W\n",
        "\n",
        "tan(phi)=(sqrt(3)*(W1-W2/W1+W2)) = 0.87 \n",
        "\n",
        "phi=  40.90  degrees \n",
        "\n",
        "cos(phi)= 0.76 \n",
        "\n",
        "P=sqrt(3)*VL*IL*cos(phi) \n",
        "IL=  152.75  A\n"
       ]
      }
     ],
     "prompt_number": 14
    },
    {
     "cell_type": "heading",
     "level": 2,
     "metadata": {},
     "source": [
      "Ex31-pg6.32"
     ]
    },
    {
     "cell_type": "code",
     "collapsed": false,
     "input": [
      "## Three-Phase Circuits :example 6.31 :(pg 6.32)\n",
      "import math\n",
      "VL=220.;\n",
      "Po=11.2*10**3;\n",
      "N=0.88;##efficiency\n",
      "IL=38.;\n",
      "Pi=(Po/N);\n",
      "x=(Pi/(math.sqrt(3.)*VL*IL));\n",
      "phi=math.acos(x)*57.3;\n",
      "W1=(VL*IL*math.cos(30-phi)/57.3);\n",
      "W2=(VL*IL*math.cos(30+phi)/57.3);\n",
      "print\"%s %.2f %s\"%(\"\\nVL=220 V \\nPo=11.2kW \\nN=0.88 \\nIL=38A \\N=(Po/Pi)= \",Pi,\" W\");\n",
      "print\"%s %.2f %s\"%(\"\\nPi=sqrt(3)*VL*IL*cos(phi) \\ncos(phi)= \",x,\" lagging\");\n",
      "print\"%s %.2f %s\"%(\"\\nphi=\",phi,\" degrees\");\n",
      "print\"%s %.2f %s\"%(\"\\nW1 =VL*IL*cos(30-phi) = \",W1,\" W\");\n",
      "print\"%s %.2f %s\"%(\"\\nW2 =VL*IL*cos(30+phi) = \",W2,\" W\");"
     ],
     "language": "python",
     "metadata": {},
     "outputs": [
      {
       "output_type": "stream",
       "stream": "stdout",
       "text": [
        "\n",
        "VL=220 V \n",
        "Po=11.2kW \n",
        "N=0.88 \n",
        "IL=38A \\N=(Po/Pi)=  12727.27  W\n",
        "\n",
        "Pi=sqrt(3)*VL*IL*cos(phi) \n",
        "cos(phi)=  0.88  lagging\n",
        "\n",
        "phi= 28.49  degrees\n",
        "\n",
        "W1 =VL*IL*cos(30-phi) =  8.15  W\n",
        "\n",
        "W2 =VL*IL*cos(30+phi) =  -52.16  W\n"
       ]
      }
     ],
     "prompt_number": 15
    }
   ],
   "metadata": {}
  }
 ]
}