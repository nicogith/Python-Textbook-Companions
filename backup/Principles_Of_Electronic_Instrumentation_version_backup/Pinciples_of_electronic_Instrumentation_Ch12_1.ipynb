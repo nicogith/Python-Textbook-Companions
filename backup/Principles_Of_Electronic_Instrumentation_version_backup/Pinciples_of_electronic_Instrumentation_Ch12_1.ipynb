{
 "metadata": {
  "name": ""
 },
 "nbformat": 3,
 "nbformat_minor": 0,
 "worksheets": [
  {
   "cells": [
    {
     "cell_type": "heading",
     "level": 1,
     "metadata": {},
     "source": [
      "Chapter 12 : Display Record And Acquisition Of Data"
     ]
    },
    {
     "cell_type": "heading",
     "level": 2,
     "metadata": {},
     "source": [
      "Example12_1,pg 371"
     ]
    },
    {
     "cell_type": "code",
     "collapsed": false,
     "input": [
      "# find excitation voltage and electrode areas\n",
      "\n",
      "import math\n",
      "#Variable declaration\n",
      "E=10**6                #electric field\n",
      "l=10**-6               #thickness of LCD\n",
      "V=E*l                  #excitation potential\n",
      "I=0.1*10**-6           #current\n",
      "rho=E/I                #crystal resistivity\n",
      "P=10*10**-6            #power consumption\n",
      "A=(P/(V*I))            #area of electrodes\n",
      "\n",
      "\n",
      "#Result\n",
      "print(\"excitation potential:\")\n",
      "print(\"V = %.f V\\n\"%V)\n",
      "print(\"crystal resistivity:\")\n",
      "print(\"rho = %.f * 10^-12 ohm-cm\\n\"%(rho*10**-12))\n",
      "print(\"area of electrodes:\")\n",
      "print(\"A = %.f cm^2\"%(A))"
     ],
     "language": "python",
     "metadata": {},
     "outputs": [
      {
       "output_type": "stream",
       "stream": "stdout",
       "text": [
        "excitation potential:\n",
        "V = 1 V\n",
        "\n",
        "crystal resistivity:\n",
        "rho = 10 * 10^-12 ohm-cm\n",
        "\n",
        "area of electrodes:\n",
        "A = 100 cm^2\n"
       ]
      }
     ],
     "prompt_number": 5
    },
    {
     "cell_type": "heading",
     "level": 2,
     "metadata": {},
     "source": [
      "Example12_2,pg 383"
     ]
    },
    {
     "cell_type": "code",
     "collapsed": false,
     "input": [
      "# find deviation factor\n",
      "\n",
      "import math\n",
      "#Variable declaration\n",
      "fc=10**6                   #carrier frequency\n",
      "m=0.4                      #modulation index\n",
      "fs=100.0                   #signal frequency\n",
      "V=2.0                      #(+/-)2V range\n",
      "\n",
      "\n",
      "#Calculations\n",
      "delfc1=m*fc               #frequency deviation for FS(full scale)\n",
      "#(+/-) 2V corresponds to delfc Hz deviation assuming linear shift, for (+/-)1V\n",
      "delfc2=delfc1/V          #frequency deviation for (+/-)1V range\n",
      "sig=(delfc1/fs)          #deviation factor\n",
      "\n",
      "#Result\n",
      "print(\"frequency deviation for FS:\")\n",
      "print(\"delfc1 = %.f * 10^5 Hz\\n\"%(delfc1/10**5)) \n",
      "print(\"frequency deviation for given range:\")\n",
      "print(\"delfc2 = %.f * 10^5 Hz\\n\"%(delfc2/10**5)) \n",
      "print(\"deviation factor:\")\n",
      "print(\"sig = %.f * 10^3\"%(sig/10**3))"
     ],
     "language": "python",
     "metadata": {},
     "outputs": [
      {
       "output_type": "stream",
       "stream": "stdout",
       "text": [
        "frequency deviation for FS:\n",
        "delfc1 = 4 * 10^5 Hz\n",
        "\n",
        "frequency deviation for given range:\n",
        "delfc2 = 2 * 10^5 Hz\n",
        "\n",
        "deviation factor:\n",
        "sig = 4 * 10^3\n"
       ]
      }
     ],
     "prompt_number": 9
    },
    {
     "cell_type": "heading",
     "level": 2,
     "metadata": {},
     "source": [
      "Example12_3,pg 508"
     ]
    },
    {
     "cell_type": "code",
     "collapsed": false,
     "input": [
      "# find wavelength of radiation\n",
      "\n",
      "import math\n",
      "#Variable declaration\n",
      "h=6.625*10**-34                     #planck's const.\n",
      "e=1.6*10**-19                      #electron charge\n",
      "c=2.998*10**8                      #speed of light\n",
      "E=2.02                             #energy gap\n",
      "\n",
      "#Calculations\n",
      "lam=((h*c)/E)                      #wavelength of radiation(m/eV)\n",
      "#1eV=16.017*10^-20J\n",
      "lam=(lam/(16.017*10**-20))         #conversion in meter\n",
      "\n",
      "#Result\n",
      "print(\"wavelength of radiation:\")\n",
      "print(\"lam = %.4f * 10^-6 m\"%(math.floor(lam*10**10)/10**4))"
     ],
     "language": "python",
     "metadata": {},
     "outputs": [
      {
       "output_type": "stream",
       "stream": "stdout",
       "text": [
        "wavelength of radiation:\n",
        "lam = 0.6138 * 10^-6 m\n"
       ]
      }
     ],
     "prompt_number": 20
    },
    {
     "cell_type": "heading",
     "level": 2,
     "metadata": {},
     "source": [
      "Example12_4,pg 508\n"
     ]
    },
    {
     "cell_type": "code",
     "collapsed": false,
     "input": [
      "# thickness of LCD crystal\n",
      "\n",
      "import math\n",
      "#Variable declaration\n",
      "V=1.3                      #excitation voltage\n",
      "Vgrad=10.0**5              #potential gradient\n",
      "\n",
      "#Calculations\n",
      "#10^5 V/mm*thickness in mm=excitation voltage\n",
      "l=(V/Vgrad)                #thickness of LCD\n",
      "\n",
      "#Result\n",
      "print(\"thickness of LCD:\")\n",
      "print(\"l = %.f micro-m\"%(l*10**6))"
     ],
     "language": "python",
     "metadata": {},
     "outputs": [
      {
       "output_type": "stream",
       "stream": "stdout",
       "text": [
        "thickness of LCD:\n",
        "l = 13 micro-m\n"
       ]
      }
     ],
     "prompt_number": 22
    },
    {
     "cell_type": "heading",
     "level": 2,
     "metadata": {},
     "source": [
      "Example12_5,pg 508"
     ]
    },
    {
     "cell_type": "code",
     "collapsed": false,
     "input": [
      "# find current density\n",
      "\n",
      "import math\n",
      "#Variable declaration\n",
      "rho=4.0*10**12                  #resistivity of LCD\n",
      "Vgrad=10.0**6                   #potential gradient\n",
      "\n",
      "#Calculations\n",
      "j=(Vgrad/rho)                 #current density\n",
      "\n",
      "#Result\n",
      "print(\"current per cm^2:\")\n",
      "print(\"j = %.2f micro-A/cm^2\"%(j*10**6))"
     ],
     "language": "python",
     "metadata": {},
     "outputs": [
      {
       "output_type": "stream",
       "stream": "stdout",
       "text": [
        "current per cm^2:\n",
        "j = 0.25 micro-A/cm^2\n"
       ]
      }
     ],
     "prompt_number": 24
    },
    {
     "cell_type": "heading",
     "level": 2,
     "metadata": {},
     "source": [
      "Example12_6,pg 508"
     ]
    },
    {
     "cell_type": "code",
     "collapsed": false,
     "input": [
      "# find magnetic flux in tape\n",
      "\n",
      "import math\n",
      "#Variable declaration\n",
      "f=2*10**3               #frequency of signal\n",
      "v=1.0                   #velocity of tape\n",
      "w=0.05*10**-3           #gap width\n",
      "N=22.0                  #no.of turns on head\n",
      "V=31*10**-3             #rms voltage o/p\n",
      "\n",
      "#Calculations\n",
      "x=(math.pi*f*w)/v\n",
      "x=x*(math.pi/180)\n",
      "M=((V*w)/(2*v*N*math.sin(x)))\n",
      "\n",
      "#Result\n",
      "print(\"magnetic flux in tape:\")\n",
      "print(\"M = %.2f micro-Wb\"%(M*10**6))"
     ],
     "language": "python",
     "metadata": {},
     "outputs": [
      {
       "output_type": "stream",
       "stream": "stdout",
       "text": [
        "magnetic flux in tape:\n",
        "M = 6.42 micro-Wb\n"
       ]
      }
     ],
     "prompt_number": 25
    },
    {
     "cell_type": "heading",
     "level": 2,
     "metadata": {},
     "source": [
      "Example12_7,pg 509"
     ]
    },
    {
     "cell_type": "code",
     "collapsed": false,
     "input": [
      "# channel accomodation\n",
      "\n",
      "import math\n",
      "#variable declartion\n",
      "Br=576.0*10**3               #bit rate conversion\n",
      "n=8.0                        #resolution requirement per channel\n",
      "fs=1000.0                    #sampling rate\n",
      "\n",
      "#Calculations\n",
      "N=(Br/(fs*3*n))              #no. of channels\n",
      "\n",
      "#Result\n",
      "print(\"no. of channels accomodated:\")\n",
      "print(\"N = %.f \"%N)"
     ],
     "language": "python",
     "metadata": {},
     "outputs": [
      {
       "output_type": "stream",
       "stream": "stdout",
       "text": [
        "no. of channels accomodated:\n",
        "N = 24 \n"
       ]
      }
     ],
     "prompt_number": 26
    },
    {
     "cell_type": "heading",
     "level": 2,
     "metadata": {},
     "source": [
      "Example12_8,pg 509\n"
     ]
    },
    {
     "cell_type": "code",
     "collapsed": false,
     "input": [
      "# sensor signal transmission\n",
      "\n",
      "import math\n",
      "#Variable declaration\n",
      "Rsmax=1.0*10**3                 #sensor resistance max.\n",
      "Rsmin=100.0                     #sensor resistance min.\n",
      "Vs=5.0                          #sensor voltage\n",
      "\n",
      "#Calculations\n",
      "Io=(Vs/Rsmax)                   #current source-> ohm's law\n",
      "Vmin=Rsmin*Io                   #min. output voltage\n",
      "\n",
      "#Result\n",
      "print(\"current source:\")\n",
      "print(\"Io = %.f mA\\n\"%(Io*10**3))\n",
      "print(\"min. output voltage:\")\n",
      "print(\"Vmin = %.1f V\"%Vmin)"
     ],
     "language": "python",
     "metadata": {},
     "outputs": [
      {
       "output_type": "stream",
       "stream": "stdout",
       "text": [
        "current source:\n",
        "Io = 5 mA\n",
        "\n",
        "min. output voltage:\n",
        "Vmin = 0.5 V\n"
       ]
      }
     ],
     "prompt_number": 27
    },
    {
     "cell_type": "heading",
     "level": 2,
     "metadata": {},
     "source": [
      "Example12_9,pg 509\n"
     ]
    },
    {
     "cell_type": "code",
     "collapsed": false,
     "input": [
      "# ROM access time\n",
      "\n",
      "import math\n",
      "#Variable declaration\n",
      "#ROM 22*5*7\n",
      "N=5.0                       #no. of gates in bitand plane\n",
      "n=22.0                      #no.of inputs\n",
      "f=913.0                     #refresh rate\n",
      "\n",
      "#Calculations\n",
      "#considering column display\n",
      "ts=(1.0/(N*f*n))              #ROM access time\n",
      "\n",
      "#Result\n",
      "print(\"ROM access time:\")\n",
      "print(\"ts = %.6f ms\"%(ts*1000))\n"
     ],
     "language": "python",
     "metadata": {},
     "outputs": [
      {
       "output_type": "stream",
       "stream": "stdout",
       "text": [
        "ROM access time:\n",
        "ts = 0.009957 ms\n"
       ]
      }
     ],
     "prompt_number": 31
    }
   ],
   "metadata": {}
  }
 ]
}