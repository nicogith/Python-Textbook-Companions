{
 "cells": [
  {
   "cell_type": "markdown",
   "metadata": {},
   "source": [
    "# Chapter 6:Transformer Principles"
   ]
  },
  {
   "cell_type": "markdown",
   "metadata": {},
   "source": [
    "## Example 6.1:Page number-343"
   ]
  },
  {
   "cell_type": "code",
   "execution_count": 2,
   "metadata": {
    "collapsed": false
   },
   "outputs": [
    {
     "name": "stdout",
     "output_type": "stream",
     "text": [
      "bm= 0.7207 Wb/m2\n",
      "e2= 800.0 V\n"
     ]
    }
   ],
   "source": [
    "import math\n",
    "#given\n",
    "a=50*(10**-4)\n",
    "e=400\n",
    "f=50\n",
    "n1=500\n",
    "n2=1000\n",
    "#phym=bm*a\n",
    "#case a\n",
    "#e=4.44*f*n*bm*a\n",
    "bm=(e)/float(4.44*f*n1*a)\n",
    "print \"bm=\",format(bm,'.4f'),\"Wb/m2\"\n",
    "#case b\n",
    "e2=4.44*f*n2*bm*a\n",
    "print \"e2=\",format(e2,'.1f'),\"V\"\n",
    "\n",
    "\n"
   ]
  },
  {
   "cell_type": "markdown",
   "metadata": {},
   "source": [
    "## Example 6.2"
   ]
  },
  {
   "cell_type": "code",
   "execution_count": 4,
   "metadata": {
    "collapsed": false
   },
   "outputs": [
    {
     "name": "stdout",
     "output_type": "stream",
     "text": [
      "cross sectional area= 0.02065 m2\n",
      "secondary voltage on no load= 440.0 V\n",
      "primary magnetising current= 1.133 A\n",
      "core loss= 366.7 W\n"
     ]
    }
   ],
   "source": [
    "import math\n",
    "#given\n",
    "e=3300\n",
    "f=50\n",
    "n1=600\n",
    "n2=80\n",
    "bm=1.2\n",
    "h=425\n",
    "l=1.6\n",
    "density=7400\n",
    "loss=1.5\n",
    "#case a\n",
    "phym=e/float(4.44*f*n1)\n",
    "csa=phym/bm\n",
    "print \"cross sectional area=\",format(csa,'.5f'),\"m2\"\n",
    "#case b\n",
    "sv=(e*n2)/n1\n",
    "print \"secondary voltage on no load=\",format(sv,'.1f'),\"V\"\n",
    "#case c\n",
    "mc=(h*l)/n1\n",
    "print \"primary magnetising current=\",format(mc,'.3f'),\"A\"\n",
    "#case d\n",
    "v=l*csa\n",
    "m=v*density\n",
    "closs=m*loss\n",
    "print \"core loss=\",format(closs,'.1f'),\"W\""
   ]
  },
  {
   "cell_type": "markdown",
   "metadata": {},
   "source": [
    "## Example 6.3:Page number-356"
   ]
  },
  {
   "cell_type": "code",
   "execution_count": 9,
   "metadata": {
    "collapsed": false
   },
   "outputs": [
    {
     "name": "stdout",
     "output_type": "stream",
     "text": [
      "0.0333333333333\n",
      "30\n",
      "number of turns of high voltage soil= 2640.0\n",
      "number of turns of high voltage soil= 88.0\n",
      "primary current as a step down transformer is= 1.515 A\n",
      "secondary current as a step down transformer is= 45.45 A\n"
     ]
    }
   ],
   "source": [
    "import math\n",
    "#given\n",
    "#as per step up tranformer\n",
    "v1=220\n",
    "v2=6600\n",
    "f=50\n",
    "vturn=2.5\n",
    "kva=10000\n",
    "#case a\n",
    "a=v1/float(v2)\n",
    "print a\n",
    "#as per step down case b\n",
    "v1=6600\n",
    "v2=220\n",
    "a=v1/v2\n",
    "print a\n",
    "#case c\n",
    "#high voltage soil\n",
    "n=v1/float(vturn)\n",
    "print \"number of turns of high voltage soil=\",format(n,'.1f')\n",
    "#low voltage soil\n",
    "n1=v2/float(vturn)\n",
    "print \"number of turns of high voltage soil=\",format(n1,'.1f')\n",
    "#case d\n",
    "i=kva/float(v1)\n",
    "print \"primary current as a step down transformer is=\",format(i,'.3f'),\"A\"\n",
    "#case e\n",
    "i=kva/float(v2)\n",
    "print \"secondary current as a step down transformer is=\",format(i,'.2f'),\"A\""
   ]
  },
  {
   "cell_type": "markdown",
   "metadata": {},
   "source": [
    "## Example 6.4:Page number-357"
   ]
  },
  {
   "cell_type": "code",
   "execution_count": 14,
   "metadata": {
    "collapsed": false
   },
   "outputs": [
    {
     "name": "stdout",
     "output_type": "stream",
     "text": [
      "turns ratio for impedance machting is 0.25\n"
     ]
    }
   ],
   "source": [
    "import math\n",
    "#given\n",
    "rl=32\n",
    "#let ratio of sides be a\n",
    "rs=2\n",
    "a=(2/float(32))\n",
    "p=a**0.5\n",
    "print \"turns ratio for impedance machting is\",format(p,'.2f')"
   ]
  },
  {
   "cell_type": "markdown",
   "metadata": {},
   "source": [
    "## Example 6.5:Page number-364"
   ]
  },
  {
   "cell_type": "code",
   "execution_count": 15,
   "metadata": {
    "collapsed": true
   },
   "outputs": [],
   "source": [
    "import math\n",
    "#given\n",
    "n1=2200\n",
    "n2=220\n",
    "kva=100\n",
    "f=50\n",
    "r1=0.75\n",
    "r2=0.0007\n",
    "x2=0.0009\n",
    "#case a\n",
    "#subcase 1\n",
    "#lv side leakage impedance=r2+jx2-->complex number\n",
    "#hv side leakage impedance=r1+jx1\n",
    "#hv side impedance referred to lv side is r1'+jx1'=(r1+jx1)/a**2=(0.0075+j0.0115)\n",
    "#shunt branch resistance referred to lv side gc-jbm=(0.0035-j0.025)\n",
    "#The equivqlent circuit is shown in the diagram\n",
    "#subcase 2\n",
    "#lv side impedance referred to hv side is r2'+jx2'=a**2*(r2+jx2)=(0.70+j0.90)ohm\n",
    "#the magnetising admittance refferred to hv side (gc-jbm)/a**2=(0.000035-j0.00025)\n",
    "#the equivalent circuit is as in figure\n",
    "#case b\n",
    "#for an approximate equivalent circuit the magnetised admittance is neglected from the exact circuit\n",
    "#subcase 1\n",
    "#equivalent impedance referred to lv side (r2+r1')+j(x2+x1')=(0.0145+j0.0205)ohm\n",
    "#equivalent circuit is shown in figure\n",
    "#subcase 2\n",
    "#equivalent impedance referred to hv side is (r1+r2')+j(x1+x2')=(1.45+j2.05)ohm\n",
    "#equivalent circuit is shown in figure\n",
    "\n"
   ]
  },
  {
   "cell_type": "markdown",
   "metadata": {},
   "source": [
    "## Example 6.6:Page number-369"
   ]
  },
  {
   "cell_type": "code",
   "execution_count": 17,
   "metadata": {
    "collapsed": false
   },
   "outputs": [
    {
     "name": "stdout",
     "output_type": "stream",
     "text": [
      "yc= 0.0050 S\n",
      "gc= 0.0025 S\n",
      "bm= 0.0043 S\n",
      "req= 0.8500 ohm\n",
      "zeq= 1.5000 ohm\n",
      "xeq= 1.2359 ohm\n",
      "req1= 0.2125 ohm\n",
      "xeq1= 0.3090 ohm\n",
      "zeq1= 0.3750 ohm\n"
     ]
    }
   ],
   "source": [
    "import math\n",
    "#case a\n",
    "#from oc test data shunt admittances are determined as follows\n",
    "#given\n",
    "v1=200\n",
    "i0=1\n",
    "pc=100\n",
    "yc=i0/float(v1)\n",
    "print \"yc=\",format(yc,'.4f'),\"S\"\n",
    "gc=pc/float(v1**2)\n",
    "print \"gc=\",format(gc,'.4f'),\"S\"\n",
    "bm=(((0.005**2)-(0.0025**2))**0.5)\n",
    "print \"bm=\",format(bm,'.4f'),\"S\"\n",
    "#from sc test data\n",
    "p=85\n",
    "isc=10\n",
    "vsc=15\n",
    "req=p/float(isc**2)\n",
    "print \"req=\",format(req,'.4f'),\"ohm\"\n",
    "zeq=vsc/float(isc)\n",
    "print \"zeq=\",format(zeq,'.4f'),\"ohm\"\n",
    "xeq=(((zeq**2)-(req**2))**0.5)\n",
    "print \"xeq=\",format(xeq,'.4f'),\"ohm\"\n",
    "#case b\n",
    "a=0.5\n",
    "#equivalent impedance parameters referred to lv side\n",
    "re=(a**2)*req\n",
    "print \"req1=\",format(re,'.4f'),\"ohm\"\n",
    "xe=(a**2)*xeq\n",
    "print \"xeq1=\",format(xe,'.4f'),\"ohm\"\n",
    "ze=(a**2)*zeq\n",
    "print \"zeq1=\",format(ze,'.4f'),\"ohm\"\n",
    "#equivalent circuit referred to lv side is as shown"
   ]
  },
  {
   "cell_type": "markdown",
   "metadata": {},
   "source": [
    "## Example 6.8:Page number-376"
   ]
  },
  {
   "cell_type": "code",
   "execution_count": 1,
   "metadata": {
    "collapsed": false
   },
   "outputs": [
    {
     "name": "stdout",
     "output_type": "stream",
     "text": [
      "n=((10xScos(angle))/(10xScos(angle)+pc+0.0001x2Pcu))\n"
     ]
    },
    {
     "data": {
      "image/png": "[encoded data removed]",
      "text/plain": [
       "<matplotlib.figure.Figure at 0x7f42d136e490>"
      ]
     },
     "metadata": {},
     "output_type": "display_data"
    }
   ],
   "source": [
    "import math\n",
    "#case a\n",
    "#transformer output=0.01x1000cos(angle)W\n",
    "#loss=10xScos(angle)\n",
    "#transformer efficiency n=(10xScos(angle)/(10xScos(angle)+pc+0.0001x2Pcu))\n",
    "print \"n=((10xScos(angle))/(10xScos(angle)+pc+0.0001x2Pcu))\"\n",
    "%matplotlib inline\n",
    "import matplotlib.pyplot as plt\n",
    "x1=20.5\n",
    "x2=30\n",
    "x3=40\n",
    "x4=50\n",
    "x5=60.5\n",
    "x6=70\n",
    "x7=80\n",
    "x8=90\n",
    "x9=100\n",
    "x10=110\n",
    "y1=94.3\n",
    "y2=95\n",
    "y3=96\n",
    "y4=96.5\n",
    "y5=96.8\n",
    "y6=96.9\n",
    "y7=97\n",
    "y8=97\n",
    "y9=97\n",
    "y10=97\n",
    "plt.plot([x1,x2,x3,x4,x5,x6,x7,x8,x9,x10],[y1,y2,y3,y4,y5,y6,y7,y8,y9,y10],marker='o',color='b',label='0.65')\n",
    "p1=120.5\n",
    "p2=30\n",
    "p3=40\n",
    "p4=50\n",
    "p5=70\n",
    "p6=80\n",
    "p7=90\n",
    "p8=100\n",
    "p9=110\n",
    "q1=95.3\n",
    "q2=86\n",
    "q3=96.7\n",
    "q4=97.2\n",
    "q5=97.5\n",
    "q6=97.5\n",
    "q7=97.5\n",
    "q8=97.5\n",
    "q9=97.5\n",
    "plt.plot([p1,p2,p3,p4,p5,p6,p7,p8,p9],[q1,q2,q3,q4,q5,q6,q7,q8,q9],marker='o',color='g',label='0.8')\n",
    "x2=[20.5,30,40,50,70,80,90,100,110]\n",
    "y2=[96.2,96.6,97.4,97.6,98,98,98,98,98]\n",
    "plt.plot(x2,y2,label='pf=1')\n",
    "plt.xlabel('% of full load')\n",
    "plt.ylabel('% efficiency')\n",
    "plt.legend()\n",
    "plt.show()\n",
    "\n",
    "\n"
   ]
  },
  {
   "cell_type": "markdown",
   "metadata": {},
   "source": [
    "## Example 6.10:Page number-378\n"
   ]
  },
  {
   "cell_type": "code",
   "execution_count": 14,
   "metadata": {
    "collapsed": false
   },
   "outputs": [
    {
     "name": "stdout",
     "output_type": "stream",
     "text": [
      "15306.122449\n",
      "306.12244898\n",
      "0.971216989926\n"
     ]
    }
   ],
   "source": [
    "import math\n",
    "#at unity power factor\n",
    "op=15000\n",
    "n=0.98\n",
    "i=op/float(n)\n",
    "print i\n",
    "loss=i-op\n",
    "print loss\n",
    "pc=float(loss)/2000 #actually division by 2 but value given only to make pc 0.153 instead of 153\n",
    "t=pc*24 #iron loss in a day\n",
    "toteng=20+96+108 #sum of energy outputs\n",
    "engloss=0.109+1.224+1.632 #sum of energy losses\n",
    "n=toteng/float(engloss+toteng+t)\n",
    "print n"
   ]
  },
  {
   "cell_type": "markdown",
   "metadata": {
    "collapsed": true
   },
   "source": [
    "## Example 6.11:Page number-381"
   ]
  },
  {
   "cell_type": "code",
   "execution_count": 16,
   "metadata": {
    "collapsed": false
   },
   "outputs": [
    {
     "name": "stdout",
     "output_type": "stream",
     "text": [
      "0.9726443769\n",
      "30\n",
      "0.990625\n"
     ]
    }
   ],
   "source": [
    "import math\n",
    "kva=10000\n",
    "pf=0.8\n",
    "iloss=75\n",
    "closs=150\n",
    "a=0.5\n",
    "#case a\n",
    "po=kva*pf\n",
    "loss=75+150\n",
    "n=po/float(po+loss)\n",
    "print n\n",
    "#case b\n",
    "i2=(10*1000)/(200)\n",
    "i1=i2+((10*1000)/400)\n",
    "kvar=(600*50)/1000\n",
    "print kvar\n",
    "po=30*0.8\n",
    "n=1-(0.225/24)\n",
    "print n"
   ]
  },
  {
   "cell_type": "markdown",
   "metadata": {},
   "source": [
    "## Example 6.12:Page number-382"
   ]
  },
  {
   "cell_type": "code",
   "execution_count": 22,
   "metadata": {
    "collapsed": false
   },
   "outputs": [
    {
     "name": "stdout",
     "output_type": "stream",
     "text": [
      "sat= 180.0 Kva\n",
      "sat= 900.0 kva\n"
     ]
    }
   ],
   "source": [
    "import math\n",
    "#case 1\n",
    "#2300 winding used as secondary\n",
    "#given and derived\n",
    "st=150\n",
    "v1=13800\n",
    "v2=2300\n",
    "a=(v1-v2)/v2\n",
    "b=a+1\n",
    "sat=(6*150)/5\n",
    "print \"sat=\",format(sat,'.1f'),\"Kva\"\n",
    "#case 2\n",
    "v1=13.8\n",
    "v2=11.5\n",
    "a=(v1-v2)/v2\n",
    "sat=((1+a)/a)*150\n",
    "print \"sat=\",format(sat,'.1f'),\"kva\""
   ]
  },
  {
   "cell_type": "markdown",
   "metadata": {},
   "source": [
    "## Example 6.13:Page number-391"
   ]
  },
  {
   "cell_type": "code",
   "execution_count": 23,
   "metadata": {
    "collapsed": false
   },
   "outputs": [
    {
     "name": "stdout",
     "output_type": "stream",
     "text": [
      "v2l= 440.0 V\n",
      "i2p= 86.6 A\n",
      "i2l= 150.0 A\n",
      "v2p= 254.0 V\n",
      "v2l= 440.0 V\n",
      "i2p=i2l= 150.0 A\n",
      "v2p= 440.0 V\n",
      "v2l= 762.1 V\n",
      "i2p= 86.6 A\n",
      "v2p= 254.0 V\n",
      "i2p= 150.0 A\n",
      "i2l= 259.8 A\n"
     ]
    }
   ],
   "source": [
    "import math\n",
    "#given and 1.732 is the value of root 3\n",
    "v=6600\n",
    "i=10\n",
    "n=15\n",
    "#case a\n",
    "v2l=v/n\n",
    "print \"v2l=\",format(v2l,'.1f'),\"V\"\n",
    "i1p=10/1.732\n",
    "i2p=i1p*n\n",
    "print \"i2p=\",format(i2p,'.1f'),\"A\"\n",
    "i2l=n*i1p*1.732\n",
    "print \"i2l=\",format(i2l,'.1f'),\"A\"\n",
    "#case b\n",
    "v2p=v/(n*1.732)\n",
    "print \"v2p=\",format(v2p,'.1f'),\"V\"\n",
    "v2l=v2p*1.732\n",
    "print \"v2l=\",format(v2l,'.1f'),\"V\"\n",
    "i2l=i2p=n*i\n",
    "print \"i2p=i2l=\",format(i2p,'.1f'),\"A\"\n",
    "#case c\n",
    "v2p=v/n\n",
    "print \"v2p=\",format(v2p,'.1f'),\"V\"\n",
    "v2l=(v*1.732)/n\n",
    "print \"v2l=\",format(v2l,'.1f'),\"V\"\n",
    "i1p=i/1.732\n",
    "i2p=i2l=(n*i1p)\n",
    "print \"i2p=\",format(i2p,'.1f'),\"A\"\n",
    "#case d\n",
    "v1p=v/1.732\n",
    "v2p=v2l=v/(n*1.732)\n",
    "print \"v2p=\",format(v2p,'.1f'),\"V\"\n",
    "i1p=10\n",
    "i2p=i1p*n\n",
    "print \"i2p=\",format(i2p,'.1f'),\"A\"\n",
    "i2l=i2p*1.732\n",
    "print \"i2l=\",format(i2l,'.1f'),\"A\"\n",
    "\n"
   ]
  },
  {
   "cell_type": "markdown",
   "metadata": {},
   "source": [
    "## Example 6.14"
   ]
  },
  {
   "cell_type": "code",
   "execution_count": 24,
   "metadata": {
    "collapsed": false
   },
   "outputs": [
    {
     "name": "stdout",
     "output_type": "stream",
     "text": [
      "ihv= 3.69402 A\n"
     ]
    }
   ],
   "source": [
    "import math\n",
    "#given\n",
    "hp=75\n",
    "v=415\n",
    "n=0.9\n",
    "pf=0.85\n",
    "op=75*746 #since its horse power\n",
    "ip=op/n\n",
    "ilv=ip/(1.732*v*pf) #line current on low voltage start side\n",
    "a=(6600*1.732)/415 #given in question\n",
    "ihv=ilv/a\n",
    "print \"ihv=\",format(ihv,'.5f'),\"A\"\n",
    "\n"
   ]
  },
  {
   "cell_type": "code",
   "execution_count": null,
   "metadata": {
    "collapsed": true
   },
   "outputs": [],
   "source": []
  }
 ],
 "metadata": {
  "kernelspec": {
   "display_name": "Python 2",
   "language": "python",
   "name": "python2"
  },
  "language_info": {
   "codemirror_mode": {
    "name": "ipython",
    "version": 2
   },
   "file_extension": ".py",
   "mimetype": "text/x-python",
   "name": "python",
   "nbconvert_exporter": "python",
   "pygments_lexer": "ipython2",
   "version": "2.7.5"
  }
 },
 "nbformat": 4,
 "nbformat_minor": 0
}
