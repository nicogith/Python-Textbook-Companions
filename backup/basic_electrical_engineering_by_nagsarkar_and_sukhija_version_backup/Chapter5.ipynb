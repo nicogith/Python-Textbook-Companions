{
 "cells": [
  {
   "cell_type": "markdown",
   "metadata": {},
   "source": [
    "# Chapter 5: Three Phase Systems"
   ]
  },
  {
   "cell_type": "markdown",
   "metadata": {},
   "source": [
    "## Example 5.1: Page number-317"
   ]
  },
  {
   "cell_type": "code",
   "execution_count": 4,
   "metadata": {
    "collapsed": false
   },
   "outputs": [
    {
     "name": "stdout",
     "output_type": "stream",
     "text": [
      "ia= 51.962 A\n",
      "ib= 43.30129 A\n",
      "ic= 34.64103 A\n",
      "IN= 15.0 A\n"
     ]
    }
   ],
   "source": [
    "import math\n",
    "\n",
    "#given\n",
    "vl=400 #line voltage\n",
    "\n",
    "va=vl/math.sqrt(3)\n",
    "vb=230.94  #angle(-120)\n",
    "vc=230.94  #angle(-240)\n",
    "\n",
    "#case a\n",
    "\n",
    "#the line currents are given by\n",
    "\n",
    "ia=12000/230.94  #with angle 0\n",
    "\n",
    "ib=10000/230.94  #with angle 120\n",
    "\n",
    "ic=8000/230.94   #with angle 240\n",
    "\n",
    "print\"ia=\",round(ia,3),\"A\"\n",
    "print \"ib=\",round(ib,5),\"A\"\n",
    "print \"ic=\",round(ic,5),\"A\"\n",
    "\n",
    "#case b\n",
    "\n",
    "#IN=ia+ib+ic\n",
    "\n",
    "#ia,ib and ic are phase currents hence contain with angles they are in the form sin(angle)+icos(angle)\n",
    "\n",
    "#IN=51.96*(sin(0)+i*cos(0))+43.3*(sin(120)+i*cos(120))+34.64*(sin(240)+i*cos(240))\n",
    "\n",
    "#IN=51.96+(-21.65+i*37.5)+34.64*(-0.5-i*0.866)\n",
    "\n",
    "#12.99+i*7.5 on which the sin+icos=sin**2+cos**2 operation is performed\n",
    "#therefore  \n",
    "\n",
    "IN=15 #at angle 30\n",
    "print \"IN=\",round(IN,10),\"A\"\n",
    "\n"
   ]
  },
  {
   "cell_type": "markdown",
   "metadata": {},
   "source": [
    "## Example 5.2:Page number-320 "
   ]
  },
  {
   "cell_type": "code",
   "execution_count": 4,
   "metadata": {
    "collapsed": false
   },
   "outputs": [
    {
     "name": "stdout",
     "output_type": "stream",
     "text": [
      "iab= 2.0 A\n",
      "ibc=5.4414-j3.1416 A\n",
      "ica=3.1463+j4.2056 A\n",
      "ia=4.2328 with an angle of -96.51 A\n",
      "ib=4.1915 with angle of -48.55 A\n",
      "ic=7.6973 with an angle of 107.35 A\n"
     ]
    }
   ],
   "source": [
    "import math\n",
    "\n",
    "#case a\n",
    "\n",
    "vab=400 #phase angle of 0\n",
    "vbc=400 #phase angle of 120\n",
    "vca=400 #phase angle of 240\n",
    "\n",
    "#the phase currents are given by iab,ibc,ica\n",
    "\n",
    "iab=400/150 #from the diagram \n",
    "\n",
    "print \"iab=\",round(iab,5),\"A\"\n",
    "#ibc=(400*314*50)/10**6  numerator with an angle of -120 and denominator angle of -90 which amounts to -30 in numerator\n",
    "#this leads to simplifying with the formula as the value obtained for ibc after simplification from above mutiplied by values of cos(-30)+jsin(-30)\n",
    "#therefore print as below\n",
    "\n",
    "print\"ibc=5.4414-j3.1416\",\"A\"\n",
    "\n",
    "#same method for ica\n",
    "\n",
    "\n",
    "print \"ica=3.1463+j4.2056\",\"A\"\n",
    "\n",
    "#case b\n",
    "\n",
    "#ia=iab-ica\n",
    "\n",
    "#ia=2.667-(3.1463+j4.2056)\n",
    "\n",
    "#leads to 4.2328 with an angle of -96.51\n",
    "#angle calculated using tan formula\n",
    "print \"ia=4.2328 with an angle of -96.51\",\"A\"\n",
    "\n",
    "#same for ib and ic\n",
    "\n",
    "print \"ib=4.1915 with angle of -48.55\",\"A\"\n",
    "\n",
    "print \"ic=7.6973 with an angle of 107.35\",\"A\""
   ]
  },
  {
   "cell_type": "markdown",
   "metadata": {},
   "source": [
    "## Example 5.3:Page number:321"
   ]
  },
  {
   "cell_type": "code",
   "execution_count": 5,
   "metadata": {
    "collapsed": false
   },
   "outputs": [
    {
     "name": "stdout",
     "output_type": "stream",
     "text": [
      "power factor =0.8\n",
      "p= 25601.1 KW\n",
      "q= 19200.82 Kvar\n",
      "t= 32001.0 KVA\n"
     ]
    }
   ],
   "source": [
    "import math\n",
    "\n",
    "#case a\n",
    "\n",
    "#given\n",
    "zl=5 #load impedanc with an angle of 36.87 degrees\n",
    "vl=400 #line voltage\n",
    "il=46.19\n",
    "va=400/3**0.5 #phase voltage\n",
    "\n",
    "ia=va/zl  #line current with an angle of -36.87 degrees\n",
    "\n",
    "#ib and ic are also the same values with changes in in their angles\n",
    "\n",
    "#case b\n",
    "#cos(-36.87)=0.8 lagging\n",
    "\n",
    "print \"power factor =0.8\"\n",
    "\n",
    "#case c\n",
    "\n",
    "p=3**0.5*vl*il*0.8 #power where 0.8 is power factor\n",
    "\n",
    "print\"p=\",round(p,2),\"KW\"\n",
    "\n",
    "#case d\n",
    "\n",
    "q=3**0.5*vl*il*0.6 #where 0.6 is sin(36.87) and q is reactive volt ampere\n",
    "\n",
    "print\"q=\",round(q,2),\"Kvar\"\n",
    "\n",
    "#case e\n",
    "\n",
    "t=3**0.5*vl*il #total volt ampere\n",
    "\n",
    "print \"t=\",round(t,0),\"KVA\"\n",
    "\n"
   ]
  },
  {
   "cell_type": "markdown",
   "metadata": {},
   "source": [
    "## Example 5.4: Page number-321"
   ]
  },
  {
   "cell_type": "code",
   "execution_count": 6,
   "metadata": {
    "collapsed": false
   },
   "outputs": [
    {
     "name": "stdout",
     "output_type": "stream",
     "text": [
      "ia=29.33A\n",
      "ib=73.83A\n",
      "ic=73.82A\n",
      "vr=1466.5V\n",
      "vl=73.83V\n",
      "vc=73.83V\n",
      "vn=1212.45V\n"
     ]
    }
   ],
   "source": [
    "import math\n",
    "\n",
    "#given\n",
    "\n",
    "za=50\n",
    "zb=15  #j15\n",
    "zc=-15 #-j15\n",
    "\n",
    "vl=440\n",
    "\n",
    "vab=440 #with an angle of 0\n",
    "\n",
    "vbc=440 #with an angle of -120\n",
    "\n",
    "vca=440 #with an angle of -240\n",
    "\n",
    "#applying kvl to meshes as in the diagram we get the following equations\n",
    "\n",
    "#50i1+j15(i1-i2)-440(angle 0)=0,j15(i2-i1)+(-j15)i2-440(angle 120)=0\n",
    "\n",
    "#solving the above 2 eqns we get the values of ia,ib and ic as follows\n",
    "\n",
    "print \"ia=29.33A\" #at angle -30\n",
    "print \"ib=73.83A\" #at angle -131.45\n",
    "print \"ic=73.82A\" #at angle 71.5\n",
    "\n",
    "#the voltage drops across vr,vl and vc which are voltages across resistance ,inducctance and capacitance are given as follows\n",
    "\n",
    "print \"vr=1466.5V\" #at angle -30\n",
    "print \"vl=73.83V\"  #at angle -41.45\n",
    "print \"vc=73.83V\"  #at angle -18.5\n",
    "\n",
    "#the potential of neutral point\n",
    "\n",
    "print \"vn=1212.45V\" #at angle 150\n"
   ]
  },
  {
   "cell_type": "markdown",
   "metadata": {},
   "source": [
    "## Example 5.5:Page number-323"
   ]
  },
  {
   "cell_type": "code",
   "execution_count": 9,
   "metadata": {
    "collapsed": false
   },
   "outputs": [
    {
     "name": "stdout",
     "output_type": "stream",
     "text": [
      "il= 42.88104 A\n",
      "ip= 24.75738 A\n"
     ]
    }
   ],
   "source": [
    "import math\n",
    "\n",
    "#given\n",
    "\n",
    "v=440 #voltage\n",
    "o=25000 #output power\n",
    "e=0.9 #efficiency\n",
    "p=0.85 #poer factor\n",
    "\n",
    "#case a\n",
    "\n",
    "il=o/(3**0.5*v*p*e) #line current\n",
    "\n",
    "print \"il=\",round(il,5),\"A\"\n",
    "\n",
    "#case b\n",
    "\n",
    "ip=o/(3*v*e*p) #phase current for delta current winding\n",
    "\n",
    "print \"ip=\",round(ip,5),\"A\"\n"
   ]
  },
  {
   "cell_type": "markdown",
   "metadata": {
    "collapsed": true
   },
   "source": [
    "## Example 5.7:Page number-329"
   ]
  },
  {
   "cell_type": "code",
   "execution_count": 1,
   "metadata": {
    "collapsed": false
   },
   "outputs": [
    {
     "name": "stdout",
     "output_type": "stream",
     "text": [
      "iab= 34.78 A\n",
      "ibc= 55.648 A\n",
      "ica= 41.736 A\n",
      "ia=76.38A\n",
      "ib=87.85A\n",
      "ic=32.21A\n",
      "w1=31.63KW\n",
      "w2=12.827KW\n"
     ]
    }
   ],
   "source": [
    "import math\n",
    "\n",
    "#given\n",
    "\n",
    "#25kW at power factor 1 for branch AB\n",
    "#40KVA at power factor 0.85 for branch BC\n",
    "#30KVA at power factor 0.6 for branch CA\n",
    "\n",
    "#line voltages with vab as reference phasor\n",
    "\n",
    "vab=415 #at angle 0\n",
    "vbc=415 #at angle -120\n",
    "vca=415 #at angle -240\n",
    "\n",
    "#phase currents are given with x+jy form of an imaginary number and vary according to angles.The values below are only the values of the currents without conversion into imaginary form\n",
    "\n",
    "iab=(25*10**3)/(3**0.5*415*1)\n",
    "\n",
    "print \"iab=\",round(iab,3),\"A\"\n",
    "\n",
    "ibc=(40*10**3)/(3**0.5*415)\n",
    "\n",
    "print \"ibc=\",round(ibc,3),\"A\"\n",
    "\n",
    "ica=(30*10**3)/(3**0.5*415)\n",
    "\n",
    "print \"ica=\",round(ica,3),\"A\"\n",
    "\n",
    "#the line currents are as below.The following values can also be converted to x+iy form where x is real and y is imaginary\n",
    "\n",
    "#ia=iab-ibc and subtraction is done of x+iy forms where the value of the term varies as obtained by sqrt(x**2+y**2)\n",
    "\n",
    "print \"ia=76.38A\" #at angle -3.75\n",
    "\n",
    "#ib=ibc-iab\n",
    "\n",
    "print \"ib=87.85A\"\n",
    "\n",
    "#ic=ica-ibc\n",
    "\n",
    "print \"ic=32.21A\"\n",
    "\n",
    "#wattmeter readings on phase A\n",
    "\n",
    "#w1=vab*ia*cos(-3.35) where the cos angle is given by phase angle between ia and vab\n",
    "\n",
    "print \"w1=31.63KW\"\n",
    "\n",
    "#same formula for wattmeter readings in phase c where the angle is 16.35\n",
    "\n",
    "print \"w2=12.827KW\""
   ]
  },
  {
   "cell_type": "markdown",
   "metadata": {},
   "source": [
    "## Example 5.8:Page number-331"
   ]
  },
  {
   "cell_type": "code",
   "execution_count": 3,
   "metadata": {
    "collapsed": false
   },
   "outputs": [
    {
     "name": "stdout",
     "output_type": "stream",
     "text": [
      "the total input power= 700.0 KW\n",
      "power factor=0.803\n",
      "il= 0.22877 A\n",
      "output= 0.845 hp\n"
     ]
    }
   ],
   "source": [
    "import math\n",
    "\n",
    "#given\n",
    "\n",
    "w1=500\n",
    "w2=200\n",
    "w=w1+w2\n",
    "\n",
    "#case a\n",
    "\n",
    "print \"the total input power=\",round(w,0),\"KW\"\n",
    "\n",
    "#case b\n",
    "\n",
    "#tan(angle)=3**0.5*(w1-w2)/(w1+w2) where the angle=36.58 and cos(36.58)=0.803 which is the power factor\n",
    "\n",
    "print \"power factor=0.803\"\n",
    "\n",
    "#case c\n",
    "\n",
    "#given\n",
    "\n",
    "vl=2200\n",
    "\n",
    "il=w/(3**0.5*vl*0.803)  #0.803 is the value of the cos angle and il is the line current\n",
    "\n",
    "print \"il=\",round(il,5),\"A\"\n",
    "\n",
    "#case d\n",
    "\n",
    "#efficiency=o/i #i is input and o is output\n",
    "\n",
    "hp=746 #horse power\n",
    "o=0.9*w/hp #0.9 is efficiency\n",
    "\n",
    "print \"output=\",round(o,3),\"hp\"\n",
    "\n",
    "\n"
   ]
  },
  {
   "cell_type": "code",
   "execution_count": null,
   "metadata": {
    "collapsed": true
   },
   "outputs": [],
   "source": []
  }
 ],
 "metadata": {
  "kernelspec": {
   "display_name": "Python 2",
   "language": "python",
   "name": "python2"
  },
  "language_info": {
   "codemirror_mode": {
    "name": "ipython",
    "version": 2
   },
   "file_extension": ".py",
   "mimetype": "text/x-python",
   "name": "python",
   "nbconvert_exporter": "python",
   "pygments_lexer": "ipython2",
   "version": "2.7.9"
  }
 },
 "nbformat": 4,
 "nbformat_minor": 0
}
