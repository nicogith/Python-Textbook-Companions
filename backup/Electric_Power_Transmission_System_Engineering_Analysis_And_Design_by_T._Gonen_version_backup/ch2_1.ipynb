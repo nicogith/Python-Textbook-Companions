{
 "metadata": {
  "name": "",
  "signature": "sha256:47d75f27ec6c94d8690b19c8285770e7f28c9cd54fabd419e1b2d7d6e6d4afe5"
 },
 "nbformat": 3,
 "nbformat_minor": 0,
 "worksheets": [
  {
   "cells": [
    {
     "cell_type": "heading",
     "level": 1,
     "metadata": {},
     "source": [
      "Chapter 2 : Transmission Lion Structures and Equipment"
     ]
    },
    {
     "cell_type": "heading",
     "level": 2,
     "metadata": {},
     "source": [
      "Example 2.1  Page No : 77"
     ]
    },
    {
     "cell_type": "code",
     "collapsed": false,
     "input": [
      "import math \n",
      "\n",
      "# GIVEN DATA\n",
      "t_s = 0.49 ; # Human body is in contact with 60 Hz power for 0.49 sec\n",
      "r = 100 ; # Resistivity of soil based on IEEE std 80-2000 \n",
      "\n",
      "# CALCULATIONS\n",
      "# For case (a)\n",
      "v_touch50 = 0.116*(1000+1.5*r)/math.sqrt(t_s) ; # Maximum allowable touch voltage for 50 kg body weight in volts\n",
      "\n",
      "# For case (b)\n",
      "v_step50  = 0.116*(1000+6*r)/math.sqrt(t_s) ; # Maximum allowable step voltage for 50 kg body weight in volts\n",
      "# Above Equations of case (a) & (b) applicable if no protective surface layer is used\n",
      "\n",
      "# For metal to metal contact below equation holds good . Hence resistivity is zero\n",
      "r_1 = 0 ; # Resistivity is zero\n",
      "\n",
      "# For case (c)\n",
      "v_mm_touch50 = 0.116*(1000)/math.sqrt(t_s) ; # Maximum allowable touch voltage for 50 kg body weight in volts for metal to metal contact\n",
      "\n",
      "# For case (d)\n",
      "v_mm_touch70 = 0.157*(1000)/math.sqrt(t_s) ; # Maximum allowable touch voltage for 70 kg body weight in volts for metal to metal contact\n",
      "\n",
      "# DISPLAY RESULTS\n",
      "print \" a) Tolerable Touch potential , V_touch50 = %.f V , for 50 kg body weight \"%(v_touch50) ;\n",
      "print \" b) Tolerable Step potential , V_step50 = %.f V , for 50 kg body weight \"%(v_step50) ;\n",
      "print \" c) Tolerable Touch Voltage for metal-to-metal contact , V_mm_touch50 = %.1f V , for 50 kg body weight \"%(v_mm_touch50) ;\n",
      "print \" d) Tolerable Touch Voltage for metal-to-metal contact , V_mm_touch70 = %.1f V , for 70 kg body weight \"%(v_mm_touch70) ;\n"
     ],
     "language": "python",
     "metadata": {},
     "outputs": [
      {
       "output_type": "stream",
       "stream": "stdout",
       "text": [
        " a) Tolerable Touch potential , V_touch50 = 191 V , for 50 kg body weight \n",
        " b) Tolerable Step potential , V_step50 = 265 V , for 50 kg body weight \n",
        " c) Tolerable Touch Voltage for metal-to-metal contact , V_mm_touch50 = 165.7 V , for 50 kg body weight \n",
        " d) Tolerable Touch Voltage for metal-to-metal contact , V_mm_touch70 = 224.3 V , for 70 kg body weight \n"
       ]
      }
     ],
     "prompt_number": 1
    }
   ],
   "metadata": {}
  }
 ]
}