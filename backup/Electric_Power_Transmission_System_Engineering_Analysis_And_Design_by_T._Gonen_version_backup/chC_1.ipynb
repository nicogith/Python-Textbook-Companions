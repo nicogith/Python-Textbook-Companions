{
 "metadata": {
  "name": "",
  "signature": "sha256:536927a9a3aad46d7cda8fc142ba6dd9df73bbac96161ffef0b31a574b5bd46b"
 },
 "nbformat": 3,
 "nbformat_minor": 0,
 "worksheets": [
  {
   "cells": [
    {
     "cell_type": "heading",
     "level": 1,
     "metadata": {},
     "source": [
      "Appendix C : Review of Basics"
     ]
    },
    {
     "cell_type": "heading",
     "level": 2,
     "metadata": {},
     "source": [
      "Example C.1  Page No : 779"
     ]
    },
    {
     "cell_type": "code",
     "collapsed": false,
     "input": [
      "import math \n",
      "from numpy import conj,exp\n",
      "\n",
      "# GIVEN DATA\n",
      "z = 100 * exp(60*1j*math.pi/180) ; # Impedance of transmission line in \u03a9\n",
      "v1 = 73034.8 * exp(30*1j*math.pi/180) ; # Bus voltages in V\n",
      "v2 = 66395.3 * exp(20*1j*math.pi/180) ; # Bus voltages in V\n",
      "\n",
      "# CALCULATIONS\n",
      "# For case (a)\n",
      "S_12 = v1 * ( conj(v1) - conj(v2) )/( conj(z) ) ; # Complex power per phase in VA\n",
      "\n",
      "\n",
      "# For case (b)\n",
      "P_12 = S_12.real ; # Active power per phase in W\n",
      "\n",
      "# For case (c)\n",
      "Q_12 = S_12.imag ; # Reactive power per phase in vars\n",
      "\n",
      "# DISPLAY RESULTS\n",
      "print (\"EXAMPLE : C.1 : SOLUTION :-\") ;\n",
      "print \" a) Complex power per phase that is being transmitted from bus 1 to bus 2 , S12 = %.2f<%.2f VA \"%(abs(S_12)\\\n",
      "                                , math.atan2(S_12.imag,S_12.real)*180/math.pi) ;\n",
      "print \" b) Active power per phase that is being transmitted , P12 = %.2f W \"%(P_12) ;\n",
      "print \" b) Reactive power per phase that is being transmitted , Q12 = %.2f vars \"%(Q_12) ;\n",
      "\n",
      "# rounding off error"
     ],
     "language": "python",
     "metadata": {},
     "outputs": [
      {
       "output_type": "stream",
       "stream": "stdout",
       "text": [
        "EXAMPLE : C.1 : SOLUTION :-\n",
        " a) Complex power per phase that is being transmitted from bus 1 to bus 2 , S12 = 10104766.69<3.56 VA \n",
        " b) Active power per phase that is being transmitted , P12 = 10085280.57 W \n",
        " b) Reactive power per phase that is being transmitted , Q12 = 627236.52 vars \n"
       ]
      }
     ],
     "prompt_number": 2
    },
    {
     "cell_type": "heading",
     "level": 2,
     "metadata": {},
     "source": [
      "Example C.2  Page No : 791"
     ]
    },
    {
     "cell_type": "code",
     "collapsed": false,
     "input": [
      "import math \n",
      "\n",
      "# GIVEN DATA\n",
      "X_pu = 12./100 ; # Leakage reactancw in pu\n",
      "kV_B_HV = 345 ; # HV side ratings in Y kV\n",
      "kV_B_LV = 34.5 ; # LV side ratings in Y kV\n",
      "MVA_B = 20. ; # selected Base on HV side in MVA\n",
      "\n",
      "# CALCULATIONS\n",
      "# For case (a)\n",
      "X_pu = 12./100 ; # reactancw of transformer in pu\n",
      "\n",
      "# For case (b)\n",
      "Z_B_HV = (kV_B_HV)**2/MVA_B ; # HV side base impedance in \u03a9\n",
      "\n",
      "# For case (c)\n",
      "Z_B_LV = (kV_B_LV)**2/MVA_B ; # LV side base impedance in \u03a9\n",
      "\n",
      "# For case (d)\n",
      "X_HV = X_pu * Z_B_HV ; # reactancw referred to HV side in \u03a9\n",
      "\n",
      "# For case (e)\n",
      "X_LV = X_pu * Z_B_LV ; # reactancw referred to LV side in \u03a9\n",
      "n = (kV_B_HV/math.sqrt(3))/(kV_B_LV/math.sqrt(3)) ; # Turns ratio of winding\n",
      "X_LV1 = X_HV/n**2 ; # From equ C.89\n",
      "\n",
      "# DISPLAY RESULTS\n",
      "print (\"EXAMPLE : C.2 : SOLUTION :-\") ;\n",
      "print \" a) reactancw of transformer in pu , X_pu = %.2f pu \"%(X_pu) ;\n",
      "print \" b) High-voltage side base impedance , Z_B_HV = %.2f \u03a9 \"%(Z_B_HV) ;\n",
      "print \" c) Low-voltage side base impedance , Z_B_LV = %.4f \u03a9 \"%(Z_B_LV) ;\n",
      "print \" d) Transformer reactancw referred to High-voltage side , X_HV = %.2f \u03a9 \"%(X_HV) ;\n",
      "print \" e) Transformer reactancw referred to Low-voltage side , X_LV = %.4f \u03a9 \"%(X_LV) ;\n",
      "print \"     or) From another equation C.89 ,\" ;\n",
      "print \"     Transformer reactancw referred to Low-voltage side , X_LV = %.4f \u03a9 \"%(X_LV1) ;\n"
     ],
     "language": "python",
     "metadata": {},
     "outputs": [
      {
       "output_type": "stream",
       "stream": "stdout",
       "text": [
        "EXAMPLE : C.2 : SOLUTION :-\n",
        " a) reactancw of transformer in pu , X_pu = 0.12 pu \n",
        " b) High-voltage side base impedance , Z_B_HV = 5951.25 \u03a9 \n",
        " c) Low-voltage side base impedance , Z_B_LV = 59.5125 \u03a9 \n",
        " d) Transformer reactancw referred to High-voltage side , X_HV = 714.15 \u03a9 \n",
        " e) Transformer reactancw referred to Low-voltage side , X_LV = 7.1415 \u03a9 \n",
        "     or) From another equation C.89 ,\n",
        "     Transformer reactancw referred to Low-voltage side , X_LV = 7.1415 \u03a9 \n"
       ]
      }
     ],
     "prompt_number": 3
    },
    {
     "cell_type": "heading",
     "level": 2,
     "metadata": {},
     "source": [
      "Example C.3  Page No : 792"
     ]
    },
    {
     "cell_type": "code",
     "collapsed": false,
     "input": [
      "import math \n",
      "\n",
      "# GIVEN DATA\n",
      "X_pu = 12./100 ; # Leakage reactancw in pu\n",
      "kV_B_HV = 345. ; # HV side ratings in Y kV\n",
      "kV_B_LV = 34.5 ; # LV side ratings in \u0394 kV\n",
      "MVA_B = 20. ; # Base on HV side in MVA\n",
      "\n",
      "# CALCULATIONS\n",
      "# For case (a)\n",
      "n = ( kV_B_HV/math.sqrt(3) )/kV_B_LV ; # Turns ratio of windings\n",
      "\n",
      "# For case (b)\n",
      "Z_B_HV = (kV_B_HV)**2/MVA_B ; # HV side base impedance in \u03a9\n",
      "X_HV = X_pu * Z_B_HV ; # reactancw referred to HV side in \u03a9\n",
      "X_LV = X_HV/(n**2) ; # transformer reactancw referred to delta LV side in \u03a9\n",
      "\n",
      "# For case (c)\n",
      "Z_dt = X_LV ;\n",
      "Z_Y = Z_dt/3 ; # reactancw of equi wye connection\n",
      "Z_B_LV = kV_B_LV**2/MVA_B ; # LV side base impedance in \u03a9\n",
      "X_pu1 = Z_Y/Z_B_LV ; # reactancw in pu referred to LV side\n",
      "\n",
      "# Alternative method For case (c)\n",
      "n1 = kV_B_HV/kV_B_LV ; # Turns ratio if line-to-line voltages are used\n",
      "X_LV1 = X_HV/(n1**2) ; # reactancw referred to LV side in \u03a9\n",
      "X_pu2 = X_LV1/Z_B_LV ; # reactancw in pu referred to LV side\n",
      "\n",
      "# DISPLAY RESULTS\n",
      "print (\"EXAMPLE : C.3 : SOLUTION :-\") ;\n",
      "print \" a) Turns ratio of windings , n = %.4f \"%(n) ;\n",
      "print \" b) Transformer reactancw referred to LV side in ohms ,X_LV = %.4f \u03a9 \"%(X_LV) ;\n",
      "print \" c) Transformer reactancw referred to LV side in per units ,X_pu = %.2f pu \"%(X_pu1) ;\n",
      "print \"    or) From another equation if line-to-line voltages are used ,\" ;\n",
      "print \"     Transformer reactancw referred to LV side in per units ,X_pu = %.2f pu \"%(X_pu2) ;\n"
     ],
     "language": "python",
     "metadata": {},
     "outputs": [
      {
       "output_type": "stream",
       "stream": "stdout",
       "text": [
        "EXAMPLE : C.3 : SOLUTION :-\n",
        " a) Turns ratio of windings , n = 5.7735 \n",
        " b) Transformer reactancw referred to LV side in ohms ,X_LV = 21.4245 \u03a9 \n",
        " c) Transformer reactancw referred to LV side in per units ,X_pu = 0.12 pu \n",
        "    or) From another equation if line-to-line voltages are used ,\n",
        "     Transformer reactancw referred to LV side in per units ,X_pu = 0.12 pu \n"
       ]
      }
     ],
     "prompt_number": 4
    },
    {
     "cell_type": "heading",
     "level": 2,
     "metadata": {},
     "source": [
      "Example C.4  Page No : 794"
     ]
    },
    {
     "cell_type": "code",
     "collapsed": false,
     "input": [
      "import math \n",
      "from numpy import exp,degrees,arctan2\n",
      "\n",
      "# GIVEN DATA\n",
      "I_1 = 1000. ; # Physical current in A for 2.4 kV circuit\n",
      "Z_pu = 0.04 ; # Leakage reactancw in pu\n",
      "I_pu = 2.08*exp(1j*(-90)*math.pi/180) ; # Generator supply for pure inductive load \n",
      "kVA_Bg1 = 6000. ; # Rated kVA values for T1\n",
      "kVA_Bg2 = 4000. ; # Rated kVA values for T2\n",
      "N2 = 2.4 ; # N2 = V2 in Y kV ,refer fig C.4\n",
      "N1 = 24. ; # N1 = V1 in Y kV ,refer fig C.4\n",
      "N3 = 24. ; # N3 = V3 = N1 in Y kV ,refer fig C.4\n",
      "N4 = 12. ; # N4 = V4 in Y kV ,refer fig C.4\n",
      "\n",
      "# CALCULATIONS\n",
      "# For case (a)\n",
      "kVA_B = 2080. ; # arbitrarily selected kVA values for all 3 ckt\n",
      "\n",
      "# For case (b)\n",
      "n1 = N2/N1 ; # Turns ratio of transformer T1 & T2 i.e N2/N1\n",
      "n2 = N3/N4 ; # Turns ratio N1'/N2'\n",
      "kV_BL_L1 = 2.5 ; # arbitrarily selected Base voltage for 2.4 kV ckt in kV\n",
      "kV_BL_L2 = kV_BL_L1/n1 ; # arbitrarily selected Base voltage for 24 kV ckt in kV\n",
      "kV_BL_L3 = kV_BL_L2/n2 ; # arbitrarily selected Base voltage for 12 kV ckt in kV\n",
      "\n",
      "# For case (c)\n",
      "Z_B1 = (kV_BL_L1)**(2) * 1000/(kVA_B) ; # Base impedance in \u03a9 for 2.4 kV ckt\n",
      "Z_B2 = (kV_BL_L2)**(2) * 1000/(kVA_B) ; # Base impedance in \u03a9 for 24 kV ckt\n",
      "Z_B3 = (kV_BL_L3)**(2) * 1000/(kVA_B) ; # Base impedance in \u03a9 for 12 kV ckt\n",
      "\n",
      "# For case (d)\n",
      "I_B1 = kVA_B/(math.sqrt(3)*kV_BL_L1) ; # Base current in A for 2.4 kV ckt\n",
      "I_B2 = kVA_B/(math.sqrt(3)*kV_BL_L2) ; # Base current in A for 24 kV ckt\n",
      "I_B3 = kVA_B/(math.sqrt(3)*kV_BL_L3) ; # Base current in A for 12 kV ckt\n",
      "\n",
      "# For case (e)\n",
      "I_2 = (n1) * I_1 ; # Physical current in A for 24 kV circuit\n",
      "I_4 = (n2) * I_2 ; # Physical current in A for 12 kV circuit\n",
      "\n",
      "# For case (f)\n",
      "I_pu_3ckt = abs(I_pu) ; # per-unit current values for all 3-ckt\n",
      "\n",
      "# For case (g)\n",
      "kV_B1 = N2 ; # Given voltage in kV\n",
      "kV_B2 = N4 ; # Given voltage in kV\n",
      "Z_pu_T1 = (1j)*Z_pu*(kVA_B/kVA_Bg1)*(kV_B1/kV_BL_L1)**(2) ; # New reactancw of T1\n",
      "Z_pu_T2 = (1j)*Z_pu*(kVA_B/kVA_Bg2)*(kV_B2/kV_BL_L3)**(2) ; # New reactancw of T2\n",
      "\n",
      "# For case (h)\n",
      "V1 = kV_B1/kV_BL_L1 ; # voltage in pu at bus 1\n",
      "V2 = V1 - I_pu * (Z_pu_T1) ; # voltage in pu at bus 2\n",
      "V4 = V2 - I_pu * (Z_pu_T2) ; # voltage in pu at bus 3\n",
      "\n",
      "# For case (i)\n",
      "S1 = V1 * abs(I_pu) ; # Apparent power value at bus 1 in pu\n",
      "S2 = V2 * abs(I_pu) ; # Apparent power value at bus 2 in pu\n",
      "S4 = V4 * abs(I_pu) ; # Apparent power value at bus 4 in pu\n",
      "\n",
      "# DISPLAY RESULTS\n",
      "print (\"EXAMPLE : C.3 : SOLUTION :-\") ;\n",
      "print \" a) Base kilovoltampere value for all 3-circuits is , kVA_B = %.1f kVA \"%(kVA_B) ;\n",
      "print \" b) Base line-to-line kilovolt value for 2.4 kV circuit , kV_BL_L = %.1f kV \"%(kV_BL_L1) ;\n",
      "print \"     Base line-to-line kilovolt value for 24 kV circuit , kV_BL_L = %.1f kV \"%(kV_BL_L2) ;\n",
      "print \"     Base line-to-line kilovolt value for 24 kV circuit , kV_BL_L = %.1f kV \"%(kV_BL_L3) ;\n",
      "print \" c) Base impedance value of 2.4 kV circuit , Z_B = %.3f \u03a9 \"%(Z_B1) ;\n",
      "print \"     Base impedance value of 24 kV circuit , Z_B = %.1f \u03a9 \"%(Z_B2) ;\n",
      "print \"     Base impedance value of 12.5 kV circuit , Z_B = %.1f \u03a9 \"%(Z_B3) ;\n",
      "print \" d) Base current value of 2.4 kV circuit , I_B = %d A \"%(I_B1) ;\n",
      "print \"     Base current value of 24 kV circuit , I_B = %d A \"%(I_B2) ;\n",
      "print \"     Base current value of 2.4 kV circuit , I_B = %d A \"%(I_B3) ;\n",
      "print \" e) Physical current of 2.4 kV circuit , I = %.f A \"%(I_1) ;\n",
      "print \"     Physical current of 24 kV circuit , I = %.f A \"%(I_2) ;\n",
      "print \"     Physical current of 12 kV circuit , I = %.f A \"%(I_4) ;\n",
      "print \" f) Per unit current values for all 3 circuits , I_pu = %.2f pu \"%(I_pu_3ckt) ;\n",
      "print \" g) New transformer reactancw of T1 , Z_pu_T1 =  j%.4f pu \"%(abs(Z_pu_T1.real)) ;\n",
      "print \"     New transformer reactancw of T2 , Z_pu_T2 =  j%.4f pu \"%(abs(Z_pu_T2)) ;\n",
      "print \" h) Per unit voltage value at bus 1 ,V1 = %.2f<%.1f pu \"%(abs(V1),degrees(arctan2(V1.imag,V1.real))) ;\n",
      "print \"     Per unit voltage value at bus 2 ,V2 = %.4f<%.1f pu \"%(abs(V2),degrees(arctan2(V2.imag,V2.real))) ;\n",
      "print \"     Per unit voltage value at bus 4 ,V4 = %.4f<%.1f pu \"%(abs(V4),degrees(arctan2(V4.imag,V4.real))) ;\n",
      "print \" i) Per-unit apparent power value at bus 1 , S1 = %.2f pu \"%(S1.real) ;\n",
      "print \"     Per-unit apparent power value at bus 2 , S2 = %.4f pu \"%(S2) ;\n",
      "print \"     Per-unit apparent power value at bus 4 , S4 = %.4f pu \"%(S4) ;\n",
      "print \" j TABLE C.2 \" ;\n",
      "print \"     Results Of Example C.4 \" ;\n",
      "print \"     ___________________________________________________________________________________\" ;\n",
      "print \"     QUANTITY      \\t  2.4-kV circuit   \\t  24-kV circuit   \\t  12-kV circuit   \";\n",
      "print \"     ___________________________________________________________________________________\" ;\n",
      "print \"     kVA_B3-\u03a6)    \\t  %d kVA           \\t  %d kVA          \\t  %d kVA \"%(kVA_B,kVA_B,kVA_B) ;\n",
      "print \"     kV_BL-L)     \\t  %.1f kV          \\t  %d kV           \\t  %.1f kV \"%(kV_BL_L1,kV_BL_L2,kV_BL_L3) ;\n",
      "print \"     Z_B           \\t  %.3f \u03a9           \\t  %.1f \u03a9          \\t  %.1f \u03a9 \"%(Z_B1,Z_B2,Z_B3) ;\n",
      "print \"     I_B           \\t  %d A             \\t  %d A            \\t  %d A \"%(I_B1,I_B2,I_B3) ;\n",
      "print \"     I_physical    \\t  %d A             \\t  %.f A           \\t  %.f A \"%(I_1,I_2,I_4) ;\n",
      "print \"     I_pu          \\t  %.2f pu          \\t  %.2f pu         \\t  %.2f pu \"%(I_pu_3ckt,I_pu_3ckt,I_pu_3ckt) ;\n",
      "print \"     V_pu          \\t  %.2f pu          \\t  %.4f pu         \\t  %.4f pu \"%(abs(V1),abs(V2),abs(V4)) ;\n",
      "print \"     S_pu          \\t  %.2f pu          \\t  %.4f pu         \\t  %.4f pu \"%(S1,S2,S4) ;\n",
      "print \"     ___________________________________________________________________________________\" ;\n"
     ],
     "language": "python",
     "metadata": {},
     "outputs": [
      {
       "output_type": "stream",
       "stream": "stdout",
       "text": [
        "EXAMPLE : C.3 : SOLUTION :-\n",
        " a) Base kilovoltampere value for all 3-circuits is , kVA_B = 2080.0 kVA \n",
        " b) Base line-to-line kilovolt value for 2.4 kV circuit , kV_BL_L = 2.5 kV \n",
        "     Base line-to-line kilovolt value for 24 kV circuit , kV_BL_L = 25.0 kV \n",
        "     Base line-to-line kilovolt value for 24 kV circuit , kV_BL_L = 12.5 kV \n",
        " c) Base impedance value of 2.4 kV circuit , Z_B = 3.005 \u03a9 \n",
        "     Base impedance value of 24 kV circuit , Z_B = 300.5 \u03a9 \n",
        "     Base impedance value of 12.5 kV circuit , Z_B = 75.1 \u03a9 \n",
        " d) Base current value of 2.4 kV circuit , I_B = 480 A \n",
        "     Base current value of 24 kV circuit , I_B = 48 A \n",
        "     Base current value of 2.4 kV circuit , I_B = 96 A \n",
        " e) Physical current of 2.4 kV circuit , I = 1000 A \n",
        "     Physical current of 24 kV circuit , I = 100 A \n",
        "     Physical current of 12 kV circuit , I = 200 A \n",
        " f) Per unit current values for all 3 circuits , I_pu = 2.08 pu \n",
        " g) New transformer reactancw of T1 , Z_pu_T1 =  j0.0000 pu \n",
        "     New transformer reactancw of T2 , Z_pu_T2 =  j0.0192 pu \n",
        " h) Per unit voltage value at bus 1 ,V1 = 0.96<0.0 pu \n",
        "     Per unit voltage value at bus 2 ,V2 = 0.9334<-0.0 pu \n",
        "     Per unit voltage value at bus 4 ,V4 = 0.8935<-0.0 pu \n",
        " i) Per-unit apparent power value at bus 1 , S1 = 2.00 pu \n",
        "     Per-unit apparent power value at bus 2 , S2 = 1.9415 pu \n",
        "     Per-unit apparent power value at bus 4 , S4 = 1.8586 pu \n",
        " j TABLE C.2 \n",
        "     Results Of Example C.4 \n",
        "     ___________________________________________________________________________________\n",
        "     QUANTITY      \t  2.4-kV circuit   \t  24-kV circuit   \t  12-kV circuit   \n",
        "     ___________________________________________________________________________________\n",
        "     kVA_B3-\u03a6)    \t  2080 kVA           \t  2080 kVA          \t  2080 kVA \n",
        "     kV_BL-L)     \t  2.5 kV          \t  25 kV           \t  12.5 kV \n",
        "     Z_B           \t  3.005 \u03a9           \t  300.5 \u03a9          \t  75.1 \u03a9 \n",
        "     I_B           \t  480 A             \t  48 A            \t  96 A \n",
        "     I_physical    \t  1000 A             \t  100 A           \t  200 A \n",
        "     I_pu          \t  2.08 pu          \t  2.08 pu         \t  2.08 pu \n",
        "     V_pu          \t  0.96 pu          \t  0.9334 pu         \t  0.8935 pu \n",
        "     S_pu          \t  2.00 pu          \t  1.9415 pu         \t  1.8586 pu \n",
        "     ___________________________________________________________________________________\n"
       ]
      }
     ],
     "prompt_number": 3
    },
    {
     "cell_type": "heading",
     "level": 2,
     "metadata": {},
     "source": [
      "Example C.5  Page No : 811"
     ]
    },
    {
     "cell_type": "code",
     "collapsed": false,
     "input": [
      "import math \n",
      "\n",
      "# GIVEN DATA\n",
      "D_ab = 6.8 ; # dismath.tance b/w conductors center-to-center in ft\n",
      "D_bc = 5.5 ; # dismath.tance b/w conductors center-to-center in ft\n",
      "D_ca = 4 ; # dismath.tance b/w conductors center-to-center in ft\n",
      "\n",
      "# CALCULATIONS\n",
      "# For case (a)\n",
      "D_eq = (D_ab * D_bc * D_ca)**(1/3) ; # Equi spacing for pole top in ft\n",
      "D_s = 0.01579 ; # GMR in ft From Table A.1\n",
      "X_L = 0.1213 * math.log(D_eq/D_s) ; # Inductive reactancw in \u03a9/mi . From equ C.135\n",
      "\n",
      "# For case (b)\n",
      "X_a = 0.503 ; # Inductive reactancw in \u03a9/mi From Table A.1 \n",
      "X_d = 0.2026 ; # From Table A.8 for D_eq,by linear interpolation in \u03a9/mi\n",
      "X_L1 = X_a + X_d ; # Inductive reactancw in \u03a9/mi\n",
      "\n",
      "# DISPLAY RESULTS\n",
      "print (\"EXAMPLE : C.5 : SOLUTION :-\") ;\n",
      "print \" a) Inductive reactancw umath.sing equation C.135 , X_L = %.4f \u03a9/mi \"%(X_L );\n",
      "print \" b) Inductive reactancw umath.sing tables , X_L = %.4f \u03a9/mi \"%(X_L1) ;\n"
     ],
     "language": "python",
     "metadata": {},
     "outputs": [
      {
       "output_type": "stream",
       "stream": "stdout",
       "text": [
        "EXAMPLE : C.5 : SOLUTION :-\n",
        " a) Inductive reactancw umath.sing equation C.135 , X_L = 0.5032 \u03a9/mi \n",
        " b) Inductive reactancw umath.sing tables , X_L = 0.7056 \u03a9/mi \n"
       ]
      }
     ],
     "prompt_number": 6
    },
    {
     "cell_type": "heading",
     "level": 2,
     "metadata": {},
     "source": [
      "Example C.6  Page No : 812"
     ]
    },
    {
     "cell_type": "code",
     "collapsed": false,
     "input": [
      "import math \n",
      "\n",
      "# GIVEN DATA\n",
      "D_ab = 6.8 ; # dismath.tance b/w conductors center-to-center in ft\n",
      "D_bc = 5.5 ; # dismath.tance b/w conductors center-to-center in ft\n",
      "D_ca = 4 ; # dismath.tance b/w conductors center-to-center in ft\n",
      "l = 100 ; # Line length in miles\n",
      "\n",
      "# CALCULATIONS\n",
      "# For case (a)\n",
      "D_m = (D_ab * D_bc * D_ca)**(1./3) ; # Equi spacing for pole top in ft\n",
      "r = 0.522/(2 * 12) ; # feet\n",
      "X_C = 0.06836 * math.log10 (D_m/r) ; # Shunt capacitive reactancw in M\u03a9*mi\n",
      "\n",
      "# For case (b)\n",
      "X_a = 0.1136 ; # Shunt capacitive reactancw in M\u03a9*mi , From table A.1\n",
      "X_d = 0.049543 ; # Shunt capacitive reactancw spacing factor in M\u03a9*mi , From table A.9\n",
      "X_C1 = X_a + X_d ; # Shunt capacitive reactancw in M\u03a9*mi\n",
      "X_C2 = X_C1/l ; # Capacitive reactancw of 100 mi line in M\u03a9\n",
      "\n",
      "# DISPLAY RESULTS\n",
      "print (\"EXAMPLE : C.6 : SOLUTION :-\") ;\n",
      "print \" a) Shunt capacitive reactancw umath.sing equation C.156 , X_C = %.6f M\u03a9*mi \"%(X_C) ;\n",
      "print \" b) Shunt capacitive reactancw umath.sing tables , X_C = %.6f M\u03a9*mi \"%(X_C1) ;\n",
      "print \" c) Capacitive reactancw of total line , X_C = %.5e M\u03a9 \"%(X_C2) ;\n"
     ],
     "language": "python",
     "metadata": {},
     "outputs": [
      {
       "output_type": "stream",
       "stream": "stdout",
       "text": [
        "EXAMPLE : C.6 : SOLUTION :-\n",
        " a) Shunt capacitive reactancw umath.sing equation C.156 , X_C = 0.163211 M\u03a9*mi \n",
        " b) Shunt capacitive reactancw umath.sing tables , X_C = 0.163143 M\u03a9*mi \n",
        " c) Capacitive reactancw of total line , X_C = 1.63143e-03 M\u03a9 \n"
       ]
      }
     ],
     "prompt_number": 7
    }
   ],
   "metadata": {}
  }
 ]
}