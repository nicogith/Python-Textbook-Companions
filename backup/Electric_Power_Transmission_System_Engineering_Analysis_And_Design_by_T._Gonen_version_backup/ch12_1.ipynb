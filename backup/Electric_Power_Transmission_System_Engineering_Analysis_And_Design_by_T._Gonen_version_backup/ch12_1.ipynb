{
 "metadata": {
  "name": "",
  "signature": "sha256:906e7d4826158c25f2472f44e4e049281713b4030e93fdaa26ed6e201a513da3"
 },
 "nbformat": 3,
 "nbformat_minor": 0,
 "worksheets": [
  {
   "cells": [
    {
     "cell_type": "heading",
     "level": 1,
     "metadata": {},
     "source": [
      "Chatper 12 : Construction of Overhead Lines"
     ]
    },
    {
     "cell_type": "heading",
     "level": 2,
     "metadata": {},
     "source": [
      "Example 12.1  Page No : 642"
     ]
    },
    {
     "cell_type": "code",
     "collapsed": false,
     "input": [
      "import math \n",
      "\n",
      "# GIVEN DATA\n",
      "cost_avg = 1500 ; # Average cost on each repair in $\n",
      "r_0 = 0 ; # No. of times repair required for damage to line\n",
      "r_1 = 1 ; # No. of times repair required\n",
      "r_2 = 2 ; # No. of times repair required\n",
      "r_3 = 3 ; # No. of times repair required\n",
      "P_r_0 = 0.4 ; # Probability of exactly no. of repairs for r_0\n",
      "P_r_1 = 0.3 ; # Probability of exactly no. of repairs for r_1\n",
      "P_r_2 = 0.2 ; # Probability of exactly no. of repairs for r_2\n",
      "P_r_3 = 0.1 ; # Probability of exactly no. of repairs for r_3\n",
      "R_0 = 0 ; # No. of times repair required for relocating & rebuilding\n",
      "R_1 = 1 ; # No. of times repair required\n",
      "P_R_0 = 0.9 ; # Probability of exactly no. of repairs for R_0\n",
      "P_R_1 = 0.1 ; # Probability of exactly no. of repairs for R_1\n",
      "n = 25. ; # useful life in years\n",
      "i = 20./100 ; # carrying charge rate\n",
      "p = ((1 + i)**n - 1)/(i*(1+i)**n) ; # p = P/A . Refer page 642\n",
      "\n",
      "# CALCULATIONS\n",
      "B = cost_avg*(r_0*P_r_0 + r_1*P_r_1 + r_2*P_r_2 + r_3*P_r_3 - R_0*P_R_0 - R_1*P_R_1)*p ; # Affordable cost of relocating line\n",
      "\n",
      "# DISPLAY RESULTS\n",
      "print (\"EXAMPLE : 12.1 : SOLUTION :-\") ;\n",
      "print \" Affordable cost of relocating line , B = $ %.1f \"%(B) ;\n",
      "print \"  Since actual relocating & rebuilding of line would cost much more than amount found \" ;\n",
      "print \"  The distribution engineer decides to keep the status quo \" ;\n"
     ],
     "language": "python",
     "metadata": {},
     "outputs": [
      {
       "output_type": "stream",
       "stream": "stdout",
       "text": [
        "EXAMPLE : 12.1 : SOLUTION :-\n",
        " Affordable cost of relocating line , B = $ 6679.2 \n",
        "  Since actual relocating & rebuilding of line would cost much more than amount found \n",
        "  The distribution engineer decides to keep the status quo \n"
       ]
      }
     ],
     "prompt_number": 1
    },
    {
     "cell_type": "heading",
     "level": 2,
     "metadata": {},
     "source": [
      "Example 12.2  Page No : 659"
     ]
    },
    {
     "cell_type": "code",
     "collapsed": false,
     "input": [
      "import math \n",
      "\n",
      "# GIVEN DATA\n",
      "V = 40 ; # Actual wind velocity in mi/hr\n",
      "c_pg = 40. ; # Circumference at ground level in inches\n",
      "c_pt = 28. ; # Circumference at pole top in inches\n",
      "l = 35. ; # height of pole in feet\n",
      "l_g = 6 ; # Height of pole set in ground in feet\n",
      "d_c = 0.81 ; # dia. of copper conductor in inches\n",
      "span_avg = 120 ; # Average span in ft\n",
      "no_c = 8 ; # NO. of conductors\n",
      "\n",
      "# CALCULATIONS\n",
      "# For case (a)\n",
      "p = 0.00256 * (V**2) ; # Buck's Formula to find wind pressure on cylindrical surface in lb/ft**2 \n",
      "d_pg = c_pg/(math.pi) ; # dia. of pole at ground line in inches\n",
      "d_pt = c_pt/(math.pi) ; # dia. of pole at pole top in inches\n",
      "h_ag = ( l - l_g ) * 12 ; # Height of pole above ground in inch\n",
      "S_pni = (1./2) * (d_pg + d_pt) * h_ag ; # projected area of pole in square inch\n",
      "S_pni_ft = S_pni * 0.0069444 ; # projected area of pole in square ft\n",
      "P = S_pni_ft * p ; # Total pressure of wind on pole in lb\n",
      "\n",
      "# For case (b)\n",
      "S_ni = d_c * span_avg * 12 ; # Projected area of conductor in square inch . [1 feet = 12 inch]\n",
      "S_ni_ft = S_ni * 0.0069444 ; # Projected area of conductor in square ft . [1 sq inch = (0.0833333)**2 sq feet \u2245 0.069444 sq feet]\n",
      "P_C = S_ni_ft * p * no_c ; # Total pressure of wind on conductor in lb\n",
      "\n",
      "# DISPLAY RESULTS\n",
      "print (\"EXAMPLE : 12.2 : SOLUTION :-\");\n",
      "print \" a) Total pressure of wind on pole , P = %.2f lb \"%(P);\n",
      "print \" b) Total pressure of wind on conductors , P = %.2f lb \"%(P_C);\n"
     ],
     "language": "python",
     "metadata": {},
     "outputs": [
      {
       "output_type": "stream",
       "stream": "stdout",
       "text": [
        "EXAMPLE : 12.2 : SOLUTION :-\n",
        " a) Total pressure of wind on pole , P = 107.13 lb \n",
        " b) Total pressure of wind on conductors , P = 265.42 lb \n"
       ]
      }
     ],
     "prompt_number": 2
    },
    {
     "cell_type": "heading",
     "level": 2,
     "metadata": {},
     "source": [
      "Example 12.3  Page No : 661"
     ]
    },
    {
     "cell_type": "code",
     "collapsed": false,
     "input": [
      "import math \n",
      "\n",
      "# GIVEN DATA\n",
      "a = 45. ; # OH line to be bulit on wood poles in ft\n",
      "b = 6.5 ; # Ground depth in ft\n",
      "c = 1. ; # Top cross-arm below pole top in ft\n",
      "d = 3. ; # Lower cross-arm below pole top in ft\n",
      "m_t = 0.6861 ; # Transverse wind load on top cross-arm in lb/ft\n",
      "m_l = 0.4769 ; # Transverse wind load on lower cross-arm in lb/ft\n",
      "u_s = 8000. ; # Ultimate strength of wood pole in lb/sq.in\n",
      "sf = 2. ; # Safety factor\n",
      "span_avg = 250. ; # Average span in ft\n",
      "p = 9. ; # Transverse wind load on wood poles in clb/sq.ft\n",
      "\n",
      "# CALCULATIONS\n",
      "h_1j = a - b - c ; # Moment arms for top arm in ft\n",
      "h_2j = a - b - d ; # Moment arms for top arm in ft\n",
      "M_tc1 = 1 * 4* m_t * span_avg * h_1j ; # Total bending moment for top arm in lb-ft\n",
      "M_tc2 = 1 * 4* m_l * span_avg * h_2j ; # Total bending moment for lower arm in lb-ft\n",
      "M_tc = M_tc1 + M_tc2 ; # Total bending moment for both cross-arms together in lb-ft\n",
      "S = u_s/sf ; # Allowable max fiber stress in pounds per sq.inch\n",
      "c_pg = ( M_tc/( 2.6385*10**-4*S ) )**(1/3) ; # circumference of pole at ground line in inch\n",
      "\n",
      "c_pt = 22 ; # From proper tables , for 8000 psi , \n",
      "h_ag = a - b ; # Height of pole above ground in ft\n",
      "d_pg = c_pg/(math.pi) ; # circumference of pole at ground line in inches\n",
      "d_pt = c_pt/(math.pi) ; # circumference of pole at pole top in inches\n",
      "M_gp = (1./72)*p *(h_ag**2)*(d_pg + 2*d_pt) ; # Bending moment due to wind on pole in pound ft . umath.sing equ 12.9\n",
      "M_T = M_tc + M_gp ; # Total bending moment due to wind on conductor & pole\n",
      "c_pg1 = (M_T/( 2.6385 * 10**-4 * S ) )**(1./3) ; # umath.sing equ 12.11\n",
      "\n",
      "# DISPLAY RESULTS\n",
      "print (\"EXAMPLE : 12.3 : SOLUTION :-\") ;\n",
      "print \" Minimum required pole circumference at the ground line , c = %.1f in \"%(c_pg1) ;\n",
      "print \" Therefore , the nearest sdegrees(arctan2(ard size pole,which has a ground-line circumference larger than c = %.1f in , has to be used \"%(c_pg1) ;\n",
      "print \" Therefore required pole circumference at the ground line to be used is , c = %.f inch \"%(c_pg1) ;\n"
     ],
     "language": "python",
     "metadata": {},
     "outputs": [
      {
       "output_type": "stream",
       "stream": "stdout",
       "text": [
        "EXAMPLE : 12.3 : SOLUTION :-\n",
        " Minimum required pole circumference at the ground line , c = 35.0 in \n",
        " Therefore , the nearest sdegrees(arctan2(ard size pole,which has a ground-line circumference larger than c = 35.0 in , has to be used \n",
        " Therefore required pole circumference at the ground line to be used is , c = 35 inch \n"
       ]
      }
     ],
     "prompt_number": 5
    },
    {
     "cell_type": "heading",
     "level": 2,
     "metadata": {},
     "source": [
      "Example 12.4  Page No : 669"
     ]
    },
    {
     "cell_type": "code",
     "collapsed": false,
     "input": [
      "import math \n",
      "from numpy import degrees,arctan\n",
      "\n",
      "# GIVEN DATA\n",
      "T1 = 3000 ; # Bending moments in lb\n",
      "T2 = 2500 ; # Bending moments in lb\n",
      "h1 = 37.5 ; # Bending moments at heights in ft\n",
      "h2 = 35.5 ; # Bending moments at heights in ft\n",
      "h_g = 36.5 ; # Height at which Guy is attached to pole in ft\n",
      "L = 15 ; # Lead of guy in ft\n",
      "\n",
      "# CALCULATIONS\n",
      "# For case (a)\n",
      "T_h = ( T1*h1 + T2*h2 )/h_g ; # Horizontal component of tension in guy wire in lb . From equ 12.26\n",
      "\n",
      "# For case (b)\n",
      "bet = degrees(arctan(h_g/L)) ; # beta angle in degree . From equ 12.28\n",
      "\n",
      "# For case (c)\n",
      "T_v = T_h * degrees(arctan(bet)) ; # Vertical component of tension in guy wire in lb . From equ 12.34\n",
      "\n",
      "# For case (d)\n",
      "T_g = T_h/( math.cos(math.radians(bet ))) ; # Tension in guy wire in lb . From equ 12.29\n",
      "T_g1 = math.sqrt( T_h**2 + T_v**2 ) ; # Tension in guy wire in lb\n",
      "\n",
      "# DISPLAY RESULTS\n",
      "print (\"EXAMPLE : 12.4 : SOLUTION :-\") ;\n",
      "print \" a) Horizontal component of tension in guy wire , T_h = %.1f lb \"%(T_h) ;\n",
      "print \" b) Angle \u03b2 , \u03b2 = %.2f degree \"%(bet) ;\n",
      "print \" c) Vertical component of tension in guy wire , T_v = %.2f lb \"%(T_v) ;\n",
      "print \" d) Tension in guy wire , T_g = %.1f lb \"%(T_g) ;\n",
      "print \"     or)  From another equation , \" ;\n",
      "print \"     Tension in guy wire , T_g = %.1f lb \"%(T_g1) ;\n"
     ],
     "language": "python",
     "metadata": {},
     "outputs": [
      {
       "output_type": "stream",
       "stream": "stdout",
       "text": [
        "EXAMPLE : 12.4 : SOLUTION :-\n",
        " a) Horizontal component of tension in guy wire , T_h = 5513.7 lb \n",
        " b) Angle \u03b2 , \u03b2 = 67.66 degree \n",
        " c) Vertical component of tension in guy wire , T_v = 491564.07 lb \n",
        " d) Tension in guy wire , T_g = 14505.4 lb \n",
        "     or)  From another equation , \n",
        "     Tension in guy wire , T_g = 491595.0 lb \n"
       ]
      }
     ],
     "prompt_number": 6
    }
   ],
   "metadata": {}
  }
 ]
}