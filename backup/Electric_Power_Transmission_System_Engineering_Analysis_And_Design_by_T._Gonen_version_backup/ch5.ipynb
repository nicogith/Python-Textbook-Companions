{
 "metadata": {
  "name": "",
  "signature": "sha256:3bc46034ddde78414ec9756e6199d2cf188eb95d35611e5edb913658d7e2c1f2"
 },
 "nbformat": 3,
 "nbformat_minor": 0,
 "worksheets": [
  {
   "cells": [
    {
     "cell_type": "heading",
     "level": 1,
     "metadata": {},
     "source": [
      "Chapter 5 : Underground Power Transmission and Gas Insulated Transmission Lines"
     ]
    },
    {
     "cell_type": "heading",
     "level": 2,
     "metadata": {},
     "source": [
      "Example 5.1  Page No : 207"
     ]
    },
    {
     "cell_type": "code",
     "collapsed": false,
     "input": [
      "import math \n",
      "\n",
      "# GIVEN DATA\n",
      "d = 2. ; # Diameter  of conductor in cm\n",
      "D = 5. ; # Inside diameter of lead sheath in cm\n",
      "V = 24.9 ; # Line-to-neutral voltage in kV\n",
      "\n",
      "# CALCULATIONS\n",
      "# For case (a)\n",
      "r = d/2 ;\n",
      "R = D/2 ;\n",
      "E_max = V/( r * math.log(R/r) ) ; # Maximum electric stress in kV/cm\n",
      "E_min = V/( R * math.log(R/r) ) ; # Minimum electric stress in kV/cm\n",
      "\n",
      "# For case (b)\n",
      "r_1 = R/2.718 ; # Optimum conductor radius in cm . From equ 5.15\n",
      "E_max1 = V/( r_1 * math.log(R/r_1) ) ; # Min value of max stress in kV/cm\n",
      "\n",
      "# DISPLAY RESULTS\n",
      "print \" a) Maximum value of electric stress , E_max = %.2f kV/cm \"%(E_max) ;\n",
      "print \"     Minimum value of electric stress , E_min = %.2f kV/cm \"%(E_min) ;\n",
      "print \" b) Optimum value of conductor radius , r = %.2f cm \"%(r_1) ;\n",
      "print \"     Minimum value of maximum stress , E_max = %.2f kV/cm \"%(E_max1) ;\n"
     ],
     "language": "python",
     "metadata": {},
     "outputs": [
      {
       "output_type": "stream",
       "stream": "stdout",
       "text": [
        " a) Maximum value of electric stress , E_max = 27.17 kV/cm \n",
        "     Minimum value of electric stress , E_min = 10.87 kV/cm \n",
        " b) Optimum value of conductor radius , r = 0.92 cm \n",
        "     Minimum value of maximum stress , E_max = 27.07 kV/cm \n"
       ]
      }
     ],
     "prompt_number": 2
    },
    {
     "cell_type": "heading",
     "level": 2,
     "metadata": {},
     "source": [
      "Example 5.2  Page No : 208"
     ]
    },
    {
     "cell_type": "code",
     "collapsed": false,
     "input": [
      "import math \n",
      "from sympy import Symbol\n",
      "\n",
      "# GIVEN DATA\n",
      "r = 1. ; # Radius of conductor in cm\n",
      "t_1 = 2. ; # Thickness of insulation layer in cm\n",
      "r_1 = r + t_1 ;\n",
      "r_2 = 2. ; # Thickness of insulation layer in cm . r_2 = t_1 = t_2 \n",
      "R = r_1 + r_2 ;\n",
      "K_1 = 4. ; # Inner layer Dielectric constant \n",
      "K_2 = 3. ; # Outer layer Dielectric constant \n",
      "kv = 19.94 ; # potential difference b/w inner & outer lead sheath in kV\n",
      "\n",
      "# CALCULATIONS\n",
      "# E_1 = 2q/(r*K_1) & E_2 = 2q/(r_1*K_2) . Let E = E_1/E_2\n",
      "E = ( r_1 * K_2 )/( r * K_1 ) ; # E = E_1/E_2\n",
      "V_1 = Symbol('V_1') ; # defining unknown V_1\n",
      "E_1 = V_1/( r * math.log(r_1/r) ) ;\n",
      "V_2 = Symbol('V_2') ; # defining unknown V_2\n",
      "V_2 = kv - (V_1) ;\n",
      "E_2 = V_2/( r_1 * math.log(R/r_1) ) ;\n",
      "E_3 = E_1/E_2 ;\n",
      "# Equating E = E_3 . we get the value of V_1\n",
      "V_1 = 12.30891068 ; # Voltage in kV\n",
      "E_1s = V_1/( r * math.log(r_1/r) ) ; # Potential gradient at surface of conductor in kV/cm . E_1 = E_1s\n",
      "\n",
      "# DISPLAY RESULTS\n",
      "print \" Potential gradient at the surface of conductor , E_1 = %.2f kV/cm \"%E_1s ;\n"
     ],
     "language": "python",
     "metadata": {},
     "outputs": [
      {
       "output_type": "stream",
       "stream": "stdout",
       "text": [
        " Potential gradient at the surface of conductor , E_1 = 11.20 kV/cm \n"
       ]
      }
     ],
     "prompt_number": 4
    },
    {
     "cell_type": "heading",
     "level": 2,
     "metadata": {},
     "source": [
      "Example 5.3  Page No : 214"
     ]
    },
    {
     "cell_type": "code",
     "collapsed": false,
     "input": [
      "import math \n",
      "\n",
      "# GIVEN DATA\n",
      "D = 1.235 ; # Inside diameter of sheath in inch\n",
      "d = 0.575 ; # Conductor diameter in inch\n",
      "kv = 115. ; # Voltage in kV\n",
      "l = 6000. ; # Length of cable in feet\n",
      "r_si = 2000. ; # specific insulation resismath.tance is 2000 M\u03a9/1000ft . From Table 5.2\n",
      "\n",
      "# CALCULATIONS\n",
      "# For case (a)\n",
      "r_si0 = r_si * l/1000 ;\n",
      "R_i = r_si0 * math.log10 (D/d) ; # Total Insulation resismath.tance in M\u03a9\n",
      "\n",
      "# For case (b)\n",
      "P = kv**2/R_i ; # Power loss due to leakage current in W\n",
      "\n",
      "# DISPLAY RESULTS\n",
      "print \" a) Total insulation resismath.tance at 60 degree F , R_i= %.2f M\u03a9 \"%(R_i/1000) ;\n",
      "print \" b) Power loss due to leakage current , V**2/R_i = %.4f W \"%P ;\n",
      "\n",
      "# NOTE : ERROR : Mistake in textbook case a \" \n"
     ],
     "language": "python",
     "metadata": {},
     "outputs": [
      {
       "output_type": "stream",
       "stream": "stdout",
       "text": [
        " a) Total insulation resismath.tance at 60 degree F , R_i= 3.98 M\u03a9 \n",
        " b) Power loss due to leakage current , V**2/R_i = 3.3195 W \n"
       ]
      }
     ],
     "prompt_number": 6
    },
    {
     "cell_type": "heading",
     "level": 2,
     "metadata": {},
     "source": [
      "Example 5.4  Page No : 220"
     ]
    },
    {
     "cell_type": "code",
     "collapsed": false,
     "input": [
      "import math \n",
      "\n",
      "# GIVEN DATA\n",
      "C_a = 2. * 10**-6 ; # Capacimath.tance b/w two conductors in F/mi\n",
      "l = 2. ; # length in mi\n",
      "f = 60. ; # Frequency in Hz\n",
      "V_L_L = 34.5 * 10**3 ; # Line-to-line voltage in V\n",
      "\n",
      "# CALCULATIONS\n",
      "C_a1 = C_a * l ; # Capacimath.tance for total cable length in F\n",
      "C_N = 2 * C_a1 ; # capacimath.tance of each conductor to neutral in F . From equ 5.56\n",
      "V_L_N = V_L_L/math.sqrt(3) ; # Line-to-neutral voltage in V\n",
      "I_c = 2 * math.pi * f * C_N * (V_L_N) ; # Charging current of cable in A\n",
      "\n",
      "# DISPLAY RESULTS\n",
      "print \" Charging current of the cable , I_c = %.2f A \"%I_c ;\n"
     ],
     "language": "python",
     "metadata": {},
     "outputs": [
      {
       "output_type": "stream",
       "stream": "stdout",
       "text": [
        " Charging current of the cable , I_c = 60.07 A \n"
       ]
      }
     ],
     "prompt_number": 7
    },
    {
     "cell_type": "heading",
     "level": 2,
     "metadata": {},
     "source": [
      "Example 5.5  Page No : 220"
     ]
    },
    {
     "cell_type": "code",
     "collapsed": false,
     "input": [
      "import math \n",
      "\n",
      "# GIVEN DATA\n",
      "C_a = 0.45 * 10**-6 ; # Capacimath.tance b/w two conductors in F/mi\n",
      "l = 4. ; # length of cable in mi\n",
      "f = 60. ; # Freq in Hz\n",
      "V_L_L = 13.8 * 10**3 ; # Line-to-line voltage in V\n",
      "pf = 0.85 ; # lagging power factor\n",
      "I = 30. ; # Current drawn by load at receiving end in A\n",
      "\n",
      "# CALCULATIONS\n",
      "# For case (a)\n",
      "C_a1 = C_a * l ; # Capacimath.tance for total cable length in F\n",
      "C_N = 2 * C_a1 ; # capacimath.tance of each conductor to neutral in F\n",
      "V_L_N = V_L_L/math.sqrt(3) ; # Line-to-neutral voltage in V\n",
      "I_c = 2 * math.pi * f * C_N * (V_L_N) ; # Charging current in A\n",
      "I_c1 = 1j * I_c ; # polar form of Charging current in A\n",
      "\n",
      "# For case (b)\n",
      "phi_r = math.degrees(math.acos(pf)) ; # pf angle\n",
      "I_r = I * ( math.cos(math.radians(phi_r)) - math.sin(math.radians(phi_r)) * 1j ) ; # Receiving end current in A\n",
      "I_s = I_r + I_c1 ; # sending end current in A\n",
      "\n",
      "# For case (c)\n",
      "pf_s = math.cos(math.radians( math.degrees(math.atan2( I_s.imag,I_s.real)) ) ) ; # Lagging pf of sending-end\n",
      "\n",
      "# DISPLAY RESULTS\n",
      "print \" a) Charging current of feeder , I_c = %.2f A \"%I_c ;\n",
      "print \"     Charging current of feeder in complex form  , I_c = i*%.2f A \"%I_c1.imag ;\n",
      "print \" b) Sending-end current , I_s = %.2f<%.2f A\"%(abs(I_s),math.degrees(math.atan2(I_s.imag,I_s.real) )) ;\n",
      "print \" c) Sending-end power factor ,math.cos \u03a6_s = %.2f  Lagging power factor \"%pf_s ;\n"
     ],
     "language": "python",
     "metadata": {},
     "outputs": [
      {
       "output_type": "stream",
       "stream": "stdout",
       "text": [
        " a) Charging current of feeder , I_c = 10.81 A \n",
        "     Charging current of feeder in complex form  , I_c = i*10.81 A \n",
        " b) Sending-end current , I_s = 25.98<-11.07 A\n",
        " c) Sending-end power factor ,math.cos \u03a6_s = 0.98  Lagging power factor \n"
       ]
      }
     ],
     "prompt_number": 12
    },
    {
     "cell_type": "heading",
     "level": 2,
     "metadata": {},
     "source": [
      "Example 5.6  Page No : 224"
     ]
    },
    {
     "cell_type": "code",
     "collapsed": false,
     "input": [
      "import math \n",
      "\n",
      "# GIVEN DATA\n",
      "f = 60. ; # Freq in Hz\n",
      "V_L_L = 138. ; # Line-to-line voltage in kV\n",
      "T = 11/64. ; # Thickness of conductor insulation in inches\n",
      "t = 5/64. ; # Thickness of belt insulation in inches\n",
      "d =  0.575 ; # Outside diameter of conductor in inches\n",
      "\n",
      "# CALCULATIONS\n",
      "# For case (a)\n",
      "T_1 = (T + t)/d ; # To find the value of geometric factor G for a math.single-conductor cable\n",
      "G_1 = 2.09 ; # From table 5.3 , by interpolation\n",
      "sf = 0.7858 ; # sector factor obtained for T_1 from table 5.3\n",
      "G = G_1 * sf ; # real geometric factor\n",
      "\n",
      "# For case (b)\n",
      "V_L_N = V_L_L/math.sqrt(3) ; # Line-to-neutral voltage in V\n",
      "K = 3.3 ; # Dielectric constant of insulation for impregnated paper cable\n",
      "I_c = 3 * 0.106 * f * K * V_L_N/(1000 * G) ; # Charging current in A/1000ft\n",
      "\n",
      "# DISPLAY RESULTS\n",
      "print \" a) Geometric factor of cable umath.sing table 5.3 , G_1 = %.3f \"%G ;\n",
      "print \" b) Charging current , I_c = %.3f A/1000ft \"%I_c ;\n"
     ],
     "language": "python",
     "metadata": {},
     "outputs": [
      {
       "output_type": "stream",
       "stream": "stdout",
       "text": [
        " a) Geometric factor of cable umath.sing table 5.3 , G_1 = 1.642 \n",
        " b) Charging current , I_c = 3.055 A/1000ft \n"
       ]
      }
     ],
     "prompt_number": 13
    },
    {
     "cell_type": "heading",
     "level": 2,
     "metadata": {},
     "source": [
      "Example 5.7  Page No : 228"
     ]
    },
    {
     "cell_type": "code",
     "collapsed": false,
     "input": [
      "import math \n",
      "\n",
      "# GIVEN DATA\n",
      "V_L_N = 7.2 ; # Line-to-neutral voltage in kV\n",
      "d = 0.814 ; # Conductor diameter in inches\n",
      "D = 2.442 ; # inside diameter of sheath in inches\n",
      "K = 3.5 ; # Dielectric constant\n",
      "pf = 0.03 ; # power factor of dielectric\n",
      "l = 3.5 ; # length in mi\n",
      "f = 60 ; # Freq in Hz\n",
      "u = 1.3 * 10**7 ; # dielectric resistivity of insulation in M\u03a9-cm\n",
      "\n",
      "# CALCULATIONS\n",
      "# For case (a)\n",
      "r = d * 2.54/2 ; # conductor radius in cm . [1 inch = 2.54 cm]\n",
      "R = D * 2.54/2 ; # Inside radius of sheath in cm\n",
      "E_max = V_L_N/( r * math.log(R/r) ) ; # max electric stress in kV/cm\n",
      "\n",
      "# For case (b)\n",
      "C = 0.0388 * K/( math.log10 (R/r) ) ; # capacimath.tance of cable in \u03bcF/mi . From equ 5.29 \n",
      "C_1 = C * l ; # capacimath.tance of cable for total length in \u03bcF\n",
      "\n",
      "# For case (c)\n",
      "V_L_N1 = 7.2 * 10**3 ; # Line-to-neutral voltage in V\n",
      "C_2 = C_1 * 10**-6 ; # capacimath.tance of cable for total length in F\n",
      "I_c = 2 * math.pi * f * C_2 * (V_L_N1) ; # Charging current in A\n",
      "\n",
      "# For case (d)\n",
      "l_1 = l * 5280 * 12 * 2.54 ; # length in cm . [1 mi = 5280 feet] ; [1 feet = 12 inch] \n",
      "R_i = u * math.log(R/r)/( 2 * math.pi * l_1) ; # Insulation resismath.tance in M\u03a9\n",
      "\n",
      "# For case (e)\n",
      "P_lc = V_L_N**2/R_i ; # power loss in W\n",
      "\n",
      "# For case (f)\n",
      "P_dl = 2 * math.pi * f * C_1 * V_L_N**2 * pf ; # Total dielectric loss in W\n",
      "\n",
      "# For case (g)\n",
      "P_dh = P_dl - P_lc ; # dielectric hysteresis loss in W\n",
      "\n",
      "# DISPLAY RESULTS\n",
      "print \" a) Maximum electric stress occuring in cable dielectric , E_max = %.2f kV/cm \"%E_max ;\n",
      "print \" b) Capacimath.tance of cable , C = %.4f \u03bcF \"%C_1 ;\n",
      "print \" c) Charging current of cable , I_c = %.3f A \"%I_c ;\n",
      "print \" d) Insulation resismath.tance , R_i = %.2f M\u03a9 \"%R_i ;\n",
      "print \" e) Power loss due to leakage current , P_lc = %.2f W \"%P_lc ;\n",
      "print \" f) Total dielectric loss , P_dl = %.2f W \"%P_dl ;\n",
      "print \" g) Dielectric hysteresis loss , P_dh = %.2f W\" %P_dh ;\n"
     ],
     "language": "python",
     "metadata": {},
     "outputs": [
      {
       "output_type": "stream",
       "stream": "stdout",
       "text": [
        " a) Maximum electric stress occuring in cable dielectric , E_max = 6.34 kV/cm \n",
        " b) Capacimath.tance of cable , C = 0.9962 \u03bcF \n",
        " c) Charging current of cable , I_c = 2.704 A \n",
        " d) Insulation resismath.tance , R_i = 4.04 M\u03a9 \n",
        " e) Power loss due to leakage current , P_lc = 12.85 W \n",
        " f) Total dielectric loss , P_dl = 584.06 W \n",
        " g) Dielectric hysteresis loss , P_dh = 571.21 W\n"
       ]
      }
     ],
     "prompt_number": 14
    },
    {
     "cell_type": "heading",
     "level": 2,
     "metadata": {},
     "source": [
      "Example 5.8  Page No : 232"
     ]
    },
    {
     "cell_type": "code",
     "collapsed": false,
     "input": [
      "import math \n",
      "\n",
      "# GIVEN DATA\n",
      "l = 3. ; # underground cable length in mi\n",
      "f = 60. ; # frequency in hertz\n",
      "\n",
      "# CALCULATIONS\n",
      "# For case (a)\n",
      "R_dc = 0.00539 ; # dc resistance of cable in \u03a9/1000ft , From table 5.5 \n",
      "R_dc1 = (R_dc/1000) * 5280 * 3 ; # Total dc resistance in \u03a9 . [1 mi = 5280 feet]\n",
      "\n",
      "# For case (b)\n",
      "s_e = 1.233 ; # skin effect coefficient\n",
      "R_eff = s_e * R_dc1 ; # Effective resistance in \u03a9\n",
      "percentage  = ( (R_eff - R_dc1)/(R_dc1) ) * 100 ; # skin effect on effective resistance in %\n",
      "\n",
      "# DISPLAY RESULTS\n",
      "print \" a) Total dc resistance of the conductor , R_dc = %.4f \u03a9 \"%R_dc1 ;\n",
      "print \" b) Effective resistance at 60 hz , R_eff = %.4f \u03a9 \"%R_eff ;\n",
      "print \"     Skin effect on the Effective resistance in percent at 60 hz , \\\n",
      "R_eff = %.1f percent greater than for direct current\"%percentage ;\n",
      "print \" c) Percentage of reduction in cable ampacity in part b) = %.1f percent \"%percentage ;\n"
     ],
     "language": "python",
     "metadata": {},
     "outputs": [
      {
       "output_type": "stream",
       "stream": "stdout",
       "text": [
        " a) Total dc resistance of the conductor , R_dc = 0.0854 \u03a9 \n",
        " b) Effective resistance at 60 hz , R_eff = 0.1053 \u03a9 \n",
        "     Skin effect on the Effective resistance in percent at 60 hz , R_eff = 23.3 percent greater than for direct current\n",
        " c) Percentage of reduction in cable ampacity in part b) = 23.3 percent \n"
       ]
      }
     ],
     "prompt_number": 15
    },
    {
     "cell_type": "heading",
     "level": 2,
     "metadata": {},
     "source": [
      "Example 5.9  Page No : 236"
     ]
    },
    {
     "cell_type": "code",
     "collapsed": false,
     "input": [
      "import math \n",
      "\n",
      "# GIVEN DATA\n",
      "kV = 35. ; # voltage in kV\n",
      "f = 60. ; # operating frequency of cable in hertz\n",
      "d = 0.681 ; # diameter of conductor in inches\n",
      "t_i = 345. ; # Insulation thickness in cmil\n",
      "t_s = 105. ; # Metal sheet thickness in cmil\n",
      "r_c = 0.190 ; # Conductor ac resistance in \u03a9/mi\n",
      "l = 10. ; # Length of cable in mi\n",
      "\n",
      "# CALCULATIONS\n",
      "# For case (a)\n",
      "T_i = t_i/1000. ; # insulation thickness in inch\n",
      "T_s = t_s/1000. ; # Metal sheet thickness in inch\n",
      "r_i = (d/2) + T_i ; # Inner radius of metal sheath in inches\n",
      "r_0 = r_i + T_s ; # Outer radius of metal sheath in inches\n",
      "S = r_i + r_0 + T_s ; # Spacing b/w conductor centers in inches\n",
      "X_m = 0.2794 * (f/60) * math.log10 ( 2*S/(r_0 + r_i) ) ; # Mutual reacmath.tance b/w conductor & sheath per phase in \u03a9/mi . From Equ 5.78\n",
      "X_m1 = X_m * l ; # Mutual reacmath.tance b/w conductor & sheath in \u03a9/phase\n",
      "\n",
      "# For case (b)\n",
      "r_s = 0.2/((r_0+r_i)*(r_0-r_i)) ; # sheet resistance per phase in \u03a9/mi/phase . From equ 5.79\n",
      "r_s1 = r_s * l ; # sheet resistance per phase in \u03a9/phase\n",
      "\n",
      "# For case (c)\n",
      "d_r = r_s * (X_m**2)/( (r_s)**2 + (X_m)**2 ) ; # increase in conductor resistance due to sheath current in \u03a9/mi/phase . From equ 5.77\n",
      "d_r1 = d_r * l ; #  # increase in conductor resistance due to sheath current in \u03a9/phase\n",
      "\n",
      "# For case (d)\n",
      "r_a = r_c + ( r_s * X_m**2 )/( (r_s)**2 + (X_m)**2 ) ; # Total positive or negative sequence resistance including sheath current effects in \u03a9/mi/phase . From equ 5.84\n",
      "r_a1 = r_a * l ; # Total positive or negative sequence resistance including sheath current effects in \u03a9/phase\n",
      "\n",
      "# For case (e)\n",
      "ratio = d_r/r_c ; # ratio = sheath loss/conductor loss\n",
      "\n",
      "# For case (f)\n",
      "I = 400 ; # conductor current in A ( given for case (f) )\n",
      "P_s = 3 * (I**2) * ( r_s * X_m**2)/( r_s**2 + X_m**2 ) ; # For three phase loss in W/mi\n",
      "P_s1 = P_s * l ; # Total sheath loss of feeder in Watts\n",
      "\n",
      "# DISPLAY RESULTS\n",
      "print \" a) Mutual reacmath.tance b/w conductors & sheath , X_m = %.5f \u03a9/mi/phase \"%X_m ;\n",
      "print \"    or Mutual reacmath.tance b/w conductors & sheath , X_m = %.4f \u03a9/phase \"%X_m1 ;\n",
      "print \" b) Sheath resistance of cable , r_s = %.4f \u03a9/mi/phase \"%r_s ;\n",
      "print \"    or Sheath resistance of cable , r_s = %.3f \u03a9/phase \"%(r_s1) ;\n",
      "print \" c) Increase in conductor resistance due to sheath currents , \u0394r = %.5f \u03a9/mi/phase \"%(d_r) ;\n",
      "print \"    or Increase in conductor resistance due to sheath currents , \u0394r = %.4f \u03a9/phase \"%(d_r1) ;\n",
      "print \" d) Total resistance of conductor including sheath loss , r_a = %.5f \u03a9/mi/phase  \"%(r_a) ;\n",
      "print \"    or Total resistance of conductor including sheath loss , r_a = %.4f \u03a9/phase  \"%(r_a1) ;\n",
      "print \" e) Ratio of sheath loss to conductor loss , Ratio = %.4f \"%ratio ;\n",
      "print \" f) Total sheath loss of feeder if current in conductor is 400A , P_s = %.2f W \"%P_s1 ;\n",
      "\n",
      "print \" NOTE : ERROR : There are mistakes in some units in the Textbook \" ;\n"
     ],
     "language": "python",
     "metadata": {},
     "outputs": [
      {
       "output_type": "stream",
       "stream": "stdout",
       "text": [
        " a) Mutual reacmath.tance b/w conductors & sheath , X_m = 0.09245 \u03a9/mi/phase \n",
        "    or Mutual reacmath.tance b/w conductors & sheath , X_m = 0.9245 \u03a9/phase \n",
        " b) Sheath resistance of cable , r_s = 1.2905 \u03a9/mi/phase \n",
        "    or Sheath resistance of cable , r_s = 12.905 \u03a9/phase \n",
        " c) Increase in conductor resistance due to sheath currents , \u0394r = 0.00659 \u03a9/mi/phase \n",
        "    or Increase in conductor resistance due to sheath currents , \u0394r = 0.0659 \u03a9/phase \n",
        " d) Total resistance of conductor including sheath loss , r_a = 0.19659 \u03a9/mi/phase  \n",
        "    or Total resistance of conductor including sheath loss , r_a = 1.9659 \u03a9/phase  \n",
        " e) Ratio of sheath loss to conductor loss , Ratio = 0.0347 \n",
        " f) Total sheath loss of feeder if current in conductor is 400A , P_s = 31626.12 W \n",
        " NOTE : ERROR : There are mistakes in some units in the Textbook \n"
       ]
      }
     ],
     "prompt_number": 16
    },
    {
     "cell_type": "heading",
     "level": 2,
     "metadata": {},
     "source": [
      "Example 5.10  Page No : 248"
     ]
    },
    {
     "cell_type": "code",
     "collapsed": false,
     "input": [
      "import math \n",
      "\n",
      "# GIVEN DATA\n",
      "f= 60. ; # frequency in hertz\n",
      "t = 245. ; # insulation thickness in mils\n",
      "t_s = 95. ; # Lead/metal sheath thickness in mils\n",
      "d = 0.575 ; # diameter of conductor in inches\n",
      "r_s = 1.72 ; # sheath resistance in \u03a9/mi\n",
      "r_a = 0.263 ; # Conductor resistance in \u03a9/mi\n",
      "r = 100. ; # earth resistivity in \u03a9-mi\n",
      "D_s = 0.221 ; # GMR of one conductor in inches\n",
      "D_ab = 24. ; # dismath.tance b/w conductor a & b in inch . refer fig 5.30\n",
      "D_bc = 24. ; # dismath.tance b/w conductor b & c in inch . refer fig 5.30\n",
      "D_ca = 48. ; # dismath.tance b/w conductor c & a in inch . refer fig 5.30\n",
      "\n",
      "# CALCULATIONS\n",
      "T = t/1000 ; # insulation thickness in inch . [1 mils = 0.001 inch]\n",
      "T_s = t_s/1000 ; # Lead/metal sheath thickness in mils\n",
      "r_i = (d/2) + T ; # Inner radius of metal sheath in inches\n",
      "r_0 = r_i + T_s ; # Outer radius of metal sheath in inches\n",
      "r_e = 0.00476 * f ; #  AC resistance of earth return in \u03a9/mi\n",
      "D_e = 25920 * math.sqrt(r/f) ; # Equivalent depth of earth return path in inches\n",
      "D_eq = (D_ab*D_bc*D_ca)**(1./3) ; # Mean dismath.tance among conductor centers in inches\n",
      "Z_0a = (r_a + r_e) + (1j) * (0.36396) * math.log(D_e/((D_s*D_eq**2)**(1./3))) ;\n",
      "D_s_3s = (D_eq**2 * (r_0+r_i)/2)**(1/3) ; # GMR of conducting path composed of 3 sheaths in parallel in inches\n",
      "Z_0s = (r_s + r_e) + (1j) * 0.36396 * math.log (D_e/D_s_3s) ; # Zero sequence impedance of sheath in inches\n",
      "D_m_3c_3s = D_s_3s ; # Zero sequence mutual impedance b/w conductors & sheaths in inches\n",
      "Z_0m = r_e + (1j)*(0.36396)*math.log(D_e/D_m_3c_3s) ;\n",
      "\n",
      "# For case (a)\n",
      "Z_00 = Z_0a - (Z_0m**2/Z_0s) ; # Total zero sequence impedance when ground and return paths are present in \u03a9/mi/phase\n",
      "\n",
      "# For case (b)\n",
      "Z_0 = Z_0a + Z_0s - 2*Z_0m ; # Total zero sequence impedance when there is only sheath return path in \u03a9/mi/phase\n",
      "\n",
      "# For case (c)\n",
      "Z_01 = Z_0a ; # Total zero sequence impedance when there is only ground return path in \u03a9/mi/phase\n",
      "\n",
      "# DISPLAY RESULTS\n",
      "print \" a) Total zero sequence impedance when both ground & return paths are present , \\\n",
      "Z_00 = %.3f<%.1f \u03a9/mi/phase \"%(abs(Z_00),math.degrees(math.atan2(Z_00.imag,Z_00.real))) ;\n",
      "print \" b) Total zero sequence impedance when there is only sheath return path , \\\n",
      "Z_0 = %.3f<%.1f \u03a9/mi/phase \"%(abs(Z_0),math.degrees(math.atan2(Z_0.imag,Z_0.real))) ;\n",
      "print \" c) Total zero sequence impedance when there is only ground return path ,\\\n",
      "Z_0a = %.4f<%.1f \u03a9/mi/phase \"%(abs(Z_01),math.degrees(math.atan2(Z_01.imag,Z_01.real))) ; \n",
      "\n",
      "print \" NOTE : ERROR : There are mistakes in units in the Textbook \" ;\n"
     ],
     "language": "python",
     "metadata": {},
     "outputs": [
      {
       "output_type": "stream",
       "stream": "stdout",
       "text": [
        " a) Total zero sequence impedance when both ground & return paths are present , Z_00 = 1.661<-1.2 \u03a9/mi/phase \n",
        " b) Total zero sequence impedance when there is only sheath return path , Z_0 = 2.085<-18.0 \u03a9/mi/phase \n",
        " c) Total zero sequence impedance when there is only ground return path ,Z_0a = 3.1952<80.1 \u03a9/mi/phase \n",
        " NOTE : ERROR : There are mistakes in units in the Textbook \n"
       ]
      }
     ],
     "prompt_number": 17
    },
    {
     "cell_type": "heading",
     "level": 2,
     "metadata": {},
     "source": [
      "Example 5.11  Page No : 252"
     ]
    },
    {
     "cell_type": "code",
     "collapsed": false,
     "input": [
      "import math \n",
      "\n",
      "# GIVEN DATA\n",
      "f= 60 ; # frequency in hertz\n",
      "T = 0.175 ; # insulation thickness in inches\n",
      "d = 0.539 ; # diameter of conductor in inches\n",
      "G = 0.5 ; # Geometric factor from fig 5.3\n",
      "K = 3.7 ; # Dielectric constant\n",
      "V_LL = 13.8 ; # Line-to-line voltage in kV\n",
      "\n",
      "# CALCULATIONS\n",
      "D = d + 2 * T ; # Inside diameter of sheath in inches\n",
      "G = 2.303 * math.log10 (D/d) ; # Geometric factor for a math.single conductor\n",
      "sf = 0.710 ; # sector factor From Table 5.3 . For (T+t/d) obtained\n",
      "V_LN = V_LL/math.sqrt(3) ; # Line-to-neutral voltage in kV\n",
      "\n",
      "# For case (a)\n",
      "C_0 = 0.0892 * K/(G * sf) ; # shunt capacimath.tances in \u03bcF/mi/phase . C_0 = C_1 = C_2 . From equ 5.161\n",
      "\n",
      "# For case (b)\n",
      "X_0 = 1.79 * G * sf/( f * K ) ; # shunt capacitive reacmath.tance in M\u03a9/mi/phase .X_0 = X_1 = X_2. From equ 5.162\n",
      "\n",
      "# For case (c)\n",
      "I_0 = 0.323 * f * K * V_LN/( 1000 * G * sf ) ; # Charging current in A/mi/phase .I_0 = I_1 = I_2. From equ 5.163\n",
      "\n",
      "# DISPLAY RESULTS\n",
      "print \" a) Shunt capacimath.tances for zero , positive & negative sequences , C_0 = C_1 = C_2 = %.2f \u03bcF/mi/phase \"%(C_0) ;\n",
      "print \" b) Shunt capacitive reacmath.tance for zero , positive & negative sequences , X_0 = X_1 = X_2 = %.2e M\u03a9/mi/phase \"%(X_0) ;\n",
      "print \" c) Charging current for zero , positive & negative sequences , I_0 = I_1 = I_2 = %.3f A/mi/phase \"%(I_0) ;\n",
      "\n",
      "print \" NOTE : 2.87e-03 M\u03a9/mi/phase can also be written as 2.87 k\u03a9/mi/phase as in textbook case b \" ;\n"
     ],
     "language": "python",
     "metadata": {},
     "outputs": [
      {
       "output_type": "stream",
       "stream": "stdout",
       "text": [
        " a) Shunt capacimath.tances for zero , positive & negative sequences , C_0 = C_1 = C_2 = 0.93 \u03bcF/mi/phase \n",
        " b) Shunt capacitive reacmath.tance for zero , positive & negative sequences , X_0 = X_1 = X_2 = 2.87e-03 M\u03a9/mi/phase \n",
        " c) Charging current for zero , positive & negative sequences , I_0 = I_1 = I_2 = 1.608 A/mi/phase \n",
        " NOTE : 2.87e-03 M\u03a9/mi/phase can also be written as 2.87 k\u03a9/mi/phase as in textbook case b \n"
       ]
      }
     ],
     "prompt_number": 18
    },
    {
     "cell_type": "heading",
     "level": 2,
     "metadata": {},
     "source": [
      "Example 5.12  Page No : 260"
     ]
    },
    {
     "cell_type": "code",
     "collapsed": false,
     "input": [
      "import math \n",
      "from numpy import array,matrix,exp,log,abs\n",
      "from numpy.linalg import inv\n",
      "\n",
      "# GIVEN DATA\n",
      "f= 60. ; # frequency in hertz\n",
      "r_a = 0.19 ; # Conductor resistance in \u03a9/mi\n",
      "l = 10. ; # length in mi\n",
      "D_s = 0.262 ; # GMR of one conductor in inches\n",
      "d = 18. ; # conductors spacing in inches\n",
      "\n",
      "# CALCULATIONS\n",
      "# For case (a)\n",
      "X_a = 1j * 0.1213 * log (12/D_s) ; # reacmath.tance of individual phase conductor at 12 inch spacing in \u03a9/mi\n",
      "Z_aa = l * ( r_a + X_a ) ; # Z_aa = Z_bb = .... = Z_zz\n",
      "Z_bb = Z_aa ;\n",
      "Z_zz = Z_aa ;\n",
      "Z_cc = Z_aa ;\n",
      "D_eq1 = d * 2 ;\n",
      "Z_ab = (l) * ( 1j * 0.1213 * log(12/D_eq1) ) ;\n",
      "Z_bc = Z_ab ;\n",
      "Z_xy = Z_ab ; # Z_xy = Z_yx\n",
      "Z_yz = Z_ab ;\n",
      "Z_ba = Z_ab ;\n",
      "Z_cb = Z_ab ;\n",
      "D_eq2 = d * 3 ;\n",
      "Z_bz = (l) * ( 1j * 0.1213 * log(12/D_eq2) ) ;\n",
      "Z_ay = Z_bz ; # Z_ya = Z_ay\n",
      "Z_cx = Z_bz ; # Z_cx = Z_xc\n",
      "Z_yz = Z_bz ; # Z_zy = Z_yz\n",
      "D_eq3 = d * 4 ;\n",
      "Z_ac = (l) * ( 1j * 0.1213 * log(12/D_eq3) ) ;\n",
      "Z_ca = Z_ac ; # Z_ac = Z_xz = Z_zx\n",
      "D_eq4 = d * 1 ;\n",
      "Z_ax = (l) * ( 1j * 0.1213 * log(12/D_eq4) ) ;\n",
      "Z_bx = Z_ax ; # Z_ax = Z_xa ; Z_bx = Z_xb\n",
      "Z_by = Z_ax ; # Z_by = Z_yb\n",
      "Z_cy = Z_ax ; # Z_cy = Z_yc\n",
      "Z_cz = Z_ax ;\n",
      "D_eq5 = d * 5 ;\n",
      "Z_az = (l) * (1j*0.1213*log(12/D_eq5)) ; # Z_za= Z_az\n",
      "\n",
      "Z_s = array([[Z_aa, Z_ab, Z_ac] , [Z_ba, Z_bb, Z_bc] , [Z_ca, Z_cb, Z_cc]]) ;\n",
      "Z_tm = array([[Z_ax, Z_bx, Z_cx] , [Z_ay, Z_by, Z_cy] , [Z_az, Z_bz, Z_cz]]) ;\n",
      "Z_M = array([[Z_ax, Z_ay, Z_az] , [Z_bx, Z_by, Z_bz] , [Z_cx, Z_cy, Z_cz]]) ;\n",
      "Z_N = array([[Z_aa, Z_xy, Z_ac] , [Z_xy, Z_aa, Z_ab] , [Z_ac, Z_ab, Z_aa]]) ;\n",
      "Z_new = (Z_s)-(Z_M)*(Z_N)**(-1)*(Z_tm) ;\n",
      "\n",
      "# For case (b)\n",
      "a = 1*exp(1j*120*math.pi/180) ; # By symmetrical components theory to 3-\u03a6 system\n",
      "A = array([[1, 1, 1] ,[1, a**2, a] ,[1, a, a**2]]) ;\n",
      "Z_012 = inv(A) * Z_new * abs(A) ; # Sequence-impedance matrix\n",
      "\n",
      "# DISPLAY RESULTS\n",
      "print (\"EXAMPLE : 5.12 : SOLUTION :-\") ;\n",
      "print \" a) Phase Impedance Matrix , [Z_abc] = \" \n",
      "print Z_new ;\n",
      "print \" b) Sequence-Impedance Matrix , [Z_012] = \" ; \n",
      "print Z_012 ;\n",
      "\n",
      "# note : rounding off error. answer in book is wrong."
     ],
     "language": "python",
     "metadata": {},
     "outputs": [
      {
       "output_type": "stream",
       "stream": "stdout",
       "text": [
        "EXAMPLE : 5.12 : SOLUTION :-\n",
        " a) Phase Impedance Matrix , [Z_abc] = \n",
        "[[ 1.91828945+4.59424289j  0.00000000-0.65926801j  0.00000000-0.12174408j]\n",
        " [ 0.00000000-0.65926801j  1.91828945+4.59424289j  0.00000000-0.65926801j]\n",
        " [ 0.00000000-0.12174408j  0.00000000-0.65926801j  1.91828945+4.59424289j]]\n",
        " b) Sequence-Impedance Matrix , [Z_012] = \n",
        "[[  6.39429817e-01+1.5314143j    0.00000000e+00-0.219756j\n",
        "    0.00000000e+00-0.04058136j]\n",
        " [  3.65967265e-17-0.219756j    -1.64595859e+00-0.21194468j\n",
        "   -1.90314283e-01+0.109878j  ]\n",
        " [  3.90182193e-18-0.04058136j  -1.90314283e-01+0.109878j\n",
        "   -1.64595859e+00-0.21194468j]]\n"
       ]
      }
     ],
     "prompt_number": 21
    },
    {
     "cell_type": "heading",
     "level": 2,
     "metadata": {},
     "source": [
      "Example 5.15  Page No : 270"
     ]
    },
    {
     "cell_type": "code",
     "collapsed": false,
     "input": [
      "import math \n",
      "\n",
      "# GIVEN DATA\n",
      "L = 50 ; # length of transmission line in km\n",
      "P_l_oh = 820 ; # Power loss at peak load for overhead transmission line in kW/km\n",
      "P_l_g = 254 ; # Power loss at peak load for gas insulated transmission line in kW/km\n",
      "cost_kwh = 0.10 # cost of electric energy in $ per kWh\n",
      "lf_ann = 0.7 ; # Annual load factor\n",
      "plf_ann = 0.7 ; # Annual Power loss factor\n",
      "h_yr = 365*24 ; # Time in Hours for a year\n",
      "total_invest = 200000000 ; # Investment cost of GIL in $ ( for case (j) )\n",
      "\n",
      "# CALCULATIONS\n",
      "# For case (a)\n",
      "Power_loss_OHline = P_l_oh * L ; # Power loss of overhead line at peak load in kW\n",
      "\n",
      "# For case (b)\n",
      "Power_loss_GILline = P_l_g * L ; # Power loss of gas-insulated transmission line at peak load in kW\n",
      "\n",
      "# For case (c)\n",
      "energy_loss_OH = Power_loss_OHline * h_yr ; # Total annual energy loss of OH line at peak load in kWh/yr\n",
      "\n",
      "# For case (d)\n",
      "energy_loss_GIL = Power_loss_GILline * h_yr ; # Total annual energy loss of GIL at peak load in kWh/yr\n",
      "\n",
      "# For case (e)\n",
      "energy_ann_OH = lf_ann * energy_loss_OH ; # Average energy loss of OH line at peak load in kWh/yr\n",
      "\n",
      "# For case (f)\n",
      "energy_ann_GIL = lf_ann * energy_loss_GIL ; # Average energy loss of GIL line at peak load in kWh/yr\n",
      "\n",
      "# For case (g)\n",
      "cost_ann_OH = cost_kwh * energy_ann_OH ; # Average annual cost of losses of OH line in $ per year\n",
      "\n",
      "# For case (h)\n",
      "cost_ann_GIL = cost_kwh * energy_ann_GIL ; # Average annual cost of losses of GIL line in $ per year\n",
      "\n",
      "# For case (i)\n",
      "P_loss_ann = cost_ann_OH - cost_ann_GIL ; # Annual resulmath.tant savings of losses per yr\n",
      "\n",
      "# For case (j)\n",
      "break_period = total_invest/P_loss_ann ; # Payback period if GIL alternative period is selected\n",
      "\n",
      "# DISPLAY RESULTS\n",
      "print (\"EXAMPLE : 5.15 : SOLUTION :-\") ;\n",
      "print \" a) Power loss of Overhead line at peak load , Power loss)_OH_line = %d kW \"%(Power_loss_OHline) ;\n",
      "print \" b) Power loss of Gas-insulated transmission line , Power loss)_GIL_line = %d kW \"%(Power_loss_GILline) ;\n",
      "print \" c) Total annual energy loss of Overhead transmission line at peak load = %.4e kWh/yr \"%(energy_loss_OH) ;\n",
      "print \" d) Total annual energy loss of Gas-insulated transmission line at peak load = %.5e kWh/yr \"%(energy_loss_GIL);\n",
      "print \" e) Average energy loss of Overhead transmission line = %.5e kWh/yr \"%(energy_ann_OH);\n",
      "print \" f) Average energy loss of Gas-insulated transmission line at peak load = %.5e kWh/yr \"%(energy_ann_GIL);\n",
      "print \" g) Average annual cost of losses of Overhead transmission line  = $ %.5e/yr \"%(cost_ann_OH);\n",
      "print \" h) Average annual cost of losses of Gas-insulated transmission line = $ %.5e/yr \"%(cost_ann_GIL);\n",
      "print \" i) Annual resulmath.tant savings in losses umath.sing Gas-insulated transmission line = $ %.6e/yr \"%(P_loss_ann);\n",
      "print \" j) Breakeven period when GIL alternative is selected = %.1f years \"%(break_period);\n"
     ],
     "language": "python",
     "metadata": {},
     "outputs": [
      {
       "output_type": "stream",
       "stream": "stdout",
       "text": [
        "EXAMPLE : 5.15 : SOLUTION :-\n",
        " a) Power loss of Overhead line at peak load , Power loss)_OH_line = 41000 kW \n",
        " b) Power loss of Gas-insulated transmission line , Power loss)_GIL_line = 12700 kW \n",
        " c) Total annual energy loss of Overhead transmission line at peak load = 3.5916e+08 kWh/yr \n",
        " d) Total annual energy loss of Gas-insulated transmission line at peak load = 1.11252e+08 kWh/yr \n",
        " e) Average energy loss of Overhead transmission line = 2.51412e+08 kWh/yr \n",
        " f) Average energy loss of Gas-insulated transmission line at peak load = 7.78764e+07 kWh/yr \n",
        " g) Average annual cost of losses of Overhead transmission line  = $ 2.51412e+07/yr \n",
        " h) Average annual cost of losses of Gas-insulated transmission line = $ 7.78764e+06/yr \n",
        " i) Annual resulmath.tant savings in losses umath.sing Gas-insulated transmission line = $ 1.735356e+07/yr \n",
        " j) Breakeven period when GIL alternative is selected = 11.5 years \n"
       ]
      }
     ],
     "prompt_number": 22
    },
    {
     "cell_type": "heading",
     "level": 2,
     "metadata": {},
     "source": [
      "Example 5.16  Page No : 271"
     ]
    },
    {
     "cell_type": "code",
     "collapsed": false,
     "input": [
      "import math \n",
      "\n",
      "# GIVEN DATA\n",
      "n = 40. ; # useful life in years\n",
      "i = 10./100 ; # carrying charge rate\n",
      "A_P = (i*(1+i)**n)/((1 + i)**n - 1) ; # Refer page 642\n",
      "A_F = 0.00226 ; # A_F = A/F\n",
      "pr_tax = 3./100 ; # Annual ad property taxes is 3% of 1st costs of each alternative\n",
      "\n",
      "# FOR OVERHEAD TRANSMISSION\n",
      "L_OH = 50. ; # length of route A in mi\n",
      "cost_b_A = 1. * 10**6 ; # cost per mile to bulid in $\n",
      "salvage_A = 2000. ; # salvage value per mile at end of 40 years\n",
      "cost_mait_OH = 500. ; # cost in $ per mile to maintain\n",
      "\n",
      "# SUBMARINE TRANSMISSION LINE\n",
      "L_S = 30. ; # length of route B in mi\n",
      "cost_b_B = 4.*10**6 ; # cost per mile to bulid in $\n",
      "salvage_B = 6000. ; # salvage value per mile at end of 40 years\n",
      "cost_mait_S = 1500. ; # cost in $ per mile to maintain\n",
      "\n",
      "# GIL TRANSMISSION\n",
      "L_GIL = 20. ; # length of route C in mi\n",
      "cost_b_C = 7.6*10**6 ; # cost per mile to bulid in $\n",
      "salvage_C = 1000. ; # salvage value per mile at end of 40 years\n",
      "cost_mait_GIL = 200. ; # cost in $ per mile to maintain\n",
      "savings = 17.5*10**6 ; # relative savings in power loss per year in $\n",
      "\n",
      "\n",
      "# CALCULATIONS\n",
      "n = 25. ; # useful life in years\n",
      "i = 20./100 ; # carrying charge rate\n",
      "p = ((1 + i)**n - 1)/(i*(1+i)**n) ; # p = P/A\n",
      "# FOR OVERHEAD TRANSMISSION\n",
      "P_OH = cost_b_A * L_OH ; # first cost of 500 kV OH line in $\n",
      "F_OH = salvage_A * L_OH ; # Estimated salvage value in $\n",
      "A_1 = P_OH * A_P - F_OH * A_F ; # Annual equivalent cost of capital in $\n",
      "A_2 = P_OH * pr_tax + cost_mait_OH * L_OH ; # annual equivalent cost of tax and maintainance in $\n",
      "A = A_1 + A_2 ; # total annual equi cost of OH line in $\n",
      "\n",
      "# SUBMARINE TRANSMISSION LINE\n",
      "P_S = cost_b_B * L_S ; # first cost of 500 kV OH line in $\n",
      "F_S = salvage_B * L_S ; # Estimated salvage value in $\n",
      "B_1 = P_S * A_P - F_S * A_F ; # Annual equivalent cost of capital in $\n",
      "B_2 = P_S * pr_tax + cost_mait_S * L_S ; # annual equivalent cost of tax and maintainance in $\n",
      "B = B_1 + B_2 ; # total annual equi cost of OH line in $\n",
      "\n",
      "# GIL TRANSMISSION\n",
      "P_GIL = cost_b_C * L_GIL ; # first cost of 500 kV OH line in $\n",
      "F_GIL = salvage_C * L_GIL ; # Estimated salvage value in $\n",
      "C_1 = P_GIL * A_P - F_GIL * A_F ; # Annual equivalent cost of capital in $\n",
      "C_2 = P_GIL * pr_tax + cost_mait_GIL * L_GIL ; # annual equivalent cost of tax and maintainance in $\n",
      "C = C_1 + C_2 ; # total annual equi cost of OH line in $\n",
      "A_net = C - savings ; # Total net annual equi cost of GIL\n",
      "\n",
      "# DISPLAY RESULTS\n",
      "print (\"EXAMPLE : 5.16 : SOLUTION :-\") ;\n",
      "print \" OVERHEAD TRANSMISSION LINE : \" ;\n",
      "print \"  Annual equivalent cost of capital invested in line , A_1 = $ %d \"%(A_1) ;\n",
      "print \"  Annual equivalent cost of Tax and maintainance , A_2 = $ %d \"%(A_2) ;\n",
      "print \"  Total annual equivalent cost of OH transmission , A = $ %d \"%(A) ;\n",
      "print \"  SUBMARINE TRANSMISSION LINE : \" ;\n",
      "print \"  Annual equivalent cost of capital invested in line , A_1 = $ %d \"%(B_1) ;\n",
      "print \"  Annual equivalent cost of Tax and maintainance , A_2 = $ %d \"%(B_2) ;\n",
      "print \"  Total annual equivalent cost of Submarine power transmission , A = $ %d \"%(B) ;\n",
      "print \"  GIL TRANSMISSION LINE : \" ;\n",
      "print \"  Annual equivalent cost of capital invested in line , A_1 = $ %d \"%(C_1) ;\n",
      "print \"  Annual equivalent cost of Tax and maintainance , A_2 = $ %d \"%(C_2) ;\n",
      "print \"  Total annual equivalent cost of Submarine power transmission , A = $ %d \"%(C) ;\n",
      "print \"  Total net equivalent cost of GIL transmission = $ %d \"%(A_net) ;\n",
      "print \"  The result shows use of GIL is the best choice \" ;\n",
      "print \" The next best alternative is Overhead transmission line \" ;\n",
      "\n",
      "# note : rounding off error."
     ],
     "language": "python",
     "metadata": {},
     "outputs": [
      {
       "output_type": "stream",
       "stream": "stdout",
       "text": [
        "EXAMPLE : 5.16 : SOLUTION :-\n",
        " OVERHEAD TRANSMISSION LINE : \n",
        "  Annual equivalent cost of capital invested in line , A_1 = $ 5112744 \n",
        "  Annual equivalent cost of Tax and maintainance , A_2 = $ 1525000 \n",
        "  Total annual equivalent cost of OH transmission , A = $ 6637744 \n",
        "  SUBMARINE TRANSMISSION LINE : \n",
        "  Annual equivalent cost of capital invested in line , A_1 = $ 12270722 \n",
        "  Annual equivalent cost of Tax and maintainance , A_2 = $ 3645000 \n",
        "  Total annual equivalent cost of Submarine power transmission , A = $ 15915722 \n",
        "  GIL TRANSMISSION LINE : \n",
        "  Annual equivalent cost of capital invested in line , A_1 = $ 15543385 \n",
        "  Annual equivalent cost of Tax and maintainance , A_2 = $ 4564000 \n",
        "  Total annual equivalent cost of Submarine power transmission , A = $ 20107385 \n",
        "  Total net equivalent cost of GIL transmission = $ 2607385 \n",
        "  The result shows use of GIL is the best choice \n",
        " The next best alternative is Overhead transmission line \n"
       ]
      }
     ],
     "prompt_number": 24
    }
   ],
   "metadata": {}
  }
 ]
}