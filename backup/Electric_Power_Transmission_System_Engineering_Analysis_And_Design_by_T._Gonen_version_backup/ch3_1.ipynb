{
 "metadata": {
  "name": "",
  "signature": "sha256:0c74b53ae9c7a9aadf5ca7c73da0924e365b6c14463cb58826dc52631d14be00"
 },
 "nbformat": 3,
 "nbformat_minor": 0,
 "worksheets": [
  {
   "cells": [
    {
     "cell_type": "heading",
     "level": 1,
     "metadata": {},
     "source": [
      "Chapter 3 : Fundamental Concepts"
     ]
    },
    {
     "cell_type": "heading",
     "level": 2,
     "metadata": {},
     "source": [
      "Example 3.1  Page No : 96"
     ]
    },
    {
     "cell_type": "code",
     "collapsed": false,
     "input": [
      "import math \n",
      "\n",
      "# GIVEN DATA\n",
      "kV = 345. ; # Three phase transmission line voltage in kV\n",
      "Z_s = 366. ; # Surge impedance of line in \u03a9\n",
      "a = 24.6 ; # Spacing between adjacent conductors in feet\n",
      "d = 1.76 ; # Diameter of conductor in inches\n",
      "\n",
      "# CALCULATIONS\n",
      "SIL = (kV)**2/Z_s ; # Surge Impedance loading of line in MW\n",
      "\n",
      "# DISPLAY RESULTS\n",
      "print \" Surge Impedance Loading of line , SIL = %.f MW \"%(SIL) ;\n",
      "\n",
      "print \" NOTE: Unit of SIL is MW and surge impedance is \u03a9\" ;\n",
      "\n",
      "#Note :ERROR: Mistake in unit of SIL in textbook \n"
     ],
     "language": "python",
     "metadata": {},
     "outputs": [
      {
       "output_type": "stream",
       "stream": "stdout",
       "text": [
        " Surge Impedance Loading of line , SIL = 325 MW \n",
        " NOTE: Unit of SIL is MW and surge impedance is \u03a9\n"
       ]
      }
     ],
     "prompt_number": 1
    },
    {
     "cell_type": "heading",
     "level": 2,
     "metadata": {},
     "source": [
      "Example 3.2  Page No : 106"
     ]
    },
    {
     "cell_type": "code",
     "collapsed": false,
     "input": [
      "import math \n",
      "\n",
      "# GIVEN DATA\n",
      "SIL = 325. ; # Surge impedance Loading in MW . From exa 3.1\n",
      "kV = 345. ; # Transmission line voltage in kV . From exa 3.1\n",
      "\n",
      "# For case (a)\n",
      "t_shunt1 = 0.5 ; # shunt capacitive compensation is 50%\n",
      "t_series1 = 0 ; # no series compensation\n",
      "\n",
      "# For case (b)\n",
      "t_shunt2 = 0.5 ; # shunt compensation umath.sing shunt reactors is 50%\n",
      "t_series2 = 0 ; # no series capacitive compensation\n",
      "\n",
      "# For case (c)\n",
      "t_shunt3 = 0 ; # no shunt compensation\n",
      "t_series3 = 0.5 ; # series capacitive compensation is 50%\n",
      "\n",
      "# For case (d)\n",
      "t_shunt4 = 0.2 ; # shunt capacitive compensation is 20%\n",
      "t_series4 = 0.5; # series capacitive compensation is 50%\n",
      "\n",
      "# CALCULATIONS\n",
      "# For case (a)\n",
      "SIL1 = SIL*(math.sqrt( (1-t_shunt1)/(1-t_series1) )) ; # Effective SIL in MW\n",
      "\n",
      "# For case (b)\n",
      "SIL2 = SIL*(math.sqrt( (1+t_shunt2)/(1-t_series2) )) ; # Effective SIL in MW\n",
      "\n",
      "# For case (c)\n",
      "SIL3 = SIL*(math.sqrt( (1-t_shunt3)/(1-t_series3) )) ; # Effective SIL in MW\n",
      "\n",
      "# For case (d)\n",
      "SIL4 = SIL*(math.sqrt( (1-t_shunt4)/(1-t_series4) )) ; # Effective SIL in MW\n",
      "\n",
      "# DISPLAY RESULTS\n",
      "print \" a) Effective SIL , SIL_comp = %.f MW \"%(SIL1) ;\n",
      "print \" b) Effective SIL , SIL_comp = %.f MW \"%(SIL2) ;\n",
      "print \" c) Effective SIL , SIL_comp = %.f MW \"%(SIL3) ;\n",
      "print \" d) Effective SIL , SIL_comp = %.f MW \"%(SIL4) ;\n",
      "\n",
      "print \" NOTE: Unit of SIL is MW and surge impedance is \u03a9 \" ;\n",
      "\n",
      "# Note : ERROR: Mistake in unit of SIL in textbook \"\n"
     ],
     "language": "python",
     "metadata": {},
     "outputs": [
      {
       "output_type": "stream",
       "stream": "stdout",
       "text": [
        " a) Effective SIL , SIL_comp = 230 MW \n",
        " b) Effective SIL , SIL_comp = 398 MW \n",
        " c) Effective SIL , SIL_comp = 460 MW \n",
        " d) Effective SIL , SIL_comp = 411 MW \n",
        " NOTE: Unit of SIL is MW and surge impedance is \u03a9 \n"
       ]
      }
     ],
     "prompt_number": 2
    },
    {
     "cell_type": "heading",
     "level": 2,
     "metadata": {},
     "source": [
      "Example 3.3  Page No : 107"
     ]
    },
    {
     "cell_type": "code",
     "collapsed": false,
     "input": [
      "\n",
      "# GIVEN DATA\n",
      "# For case (c)\n",
      "I_normal = 1000. ; # Normal full load current in Ampere\n",
      "\n",
      "# CALCULATIONS\n",
      "# For case (a) equation is (1.5pu)*I_rated = (2 pu)*I_normal\n",
      "# THEREFORE\n",
      "# I_rated = (1.333pu)*I_normal ; # Rated current in terms of per unit value of the normal load current\n",
      "\n",
      "# For case (b) \n",
      "Mvar = (1.333)**2 ; # Increase in Mvar rating in per units\n",
      "\n",
      "# For case (c)\n",
      "I_rated = (1.333)*I_normal ; # Rated current value\n",
      "\n",
      "# DISPLAY RESULTS\n",
      "print \" a) Rated current , I_rated = 1.333 pu*I_normal \" ;\n",
      "print \" b) Mvar rating increase = %.2f pu \"%(Mvar) ;\n",
      "print \" c) Rated current value , I_rated = %.f A \"%(I_rated) ;\n"
     ],
     "language": "python",
     "metadata": {},
     "outputs": [
      {
       "output_type": "stream",
       "stream": "stdout",
       "text": [
        " a) Rated current , I_rated = 1.333 pu*I_normal \n",
        " b) Mvar rating increase = 1.78 pu \n",
        " c) Rated current value , I_rated = 1333 A \n"
       ]
      }
     ],
     "prompt_number": 3
    }
   ],
   "metadata": {}
  }
 ]
}