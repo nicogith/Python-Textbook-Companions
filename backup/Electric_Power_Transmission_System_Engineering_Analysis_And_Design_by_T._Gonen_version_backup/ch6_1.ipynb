{
 "metadata": {
  "name": "",
  "signature": "sha256:e5068fc04aca0dac9533fdce518bd4335aa4e2ab0d39a9085135aba5a90b5d31"
 },
 "nbformat": 3,
 "nbformat_minor": 0,
 "worksheets": [
  {
   "cells": [
    {
     "cell_type": "heading",
     "level": 1,
     "metadata": {},
     "source": [
      "Chapter 6 : Direct Current Power Transmission"
     ]
    },
    {
     "cell_type": "heading",
     "level": 2,
     "metadata": {},
     "source": [
      "Example 6.1  Page No : 288"
     ]
    },
    {
     "cell_type": "code",
     "collapsed": false,
     "input": [
      "import math\n",
      "from sympy import Symbol\n",
      "\n",
      "# GIVEN DATA\n",
      "K_1 = 2.5 ; # Factor\n",
      "K_2 = 1.7 ; # Factor\n",
      "\n",
      "# CALCULATIONS\n",
      "# For case (b)\n",
      "I_d = Symbol('I_d') ; # math.since P_loss(dc) = P_loss (ac) \n",
      "I_L = Symbol('I_L') ; # i.e 2*I_d**2*R_dc = 3*I_L**2*R_ac \n",
      "I_d = math.sqrt(3./2)*I_L ; # Ignoring skin effects R_dc = R_ac\n",
      "I_d1 = 1.225*I_L ; # Refer Equ 6.23\n",
      "\n",
      "# For case (a)\n",
      "V_d = Symbol('V_d') ; # Defining a ploynomial V_d\n",
      "E_p = Symbol('E_p') ; # math.since P_dc = P_ac (or) V_d*I_d = 3*E_p*I_L\n",
      "V_d = 2.45*E_p ; # Refer Equ 6.25\n",
      "\n",
      "# For case (c)\n",
      "ins_lvl = (K_2*(V_d/2))/(K_1*E_p) ; # Ratio of dc insulation level to ac insulation level\n",
      "ins_lvl_1 = (K_2*2.45/2)/K_1 ; # simplifying above equ\n",
      "dc_i = Symbol('dc_i') ; # dc_i = dc insulation level\n",
      "ac_i = Symbol('ac_i') ; # ac_i = ac insulation level\n",
      "dc_i = ins_lvl_1 * ac_i ;\n",
      "\n",
      "# DISPLAY RESULTS\n",
      "print (\"EXAMPLE : 6.1 : SOLUTION :-\") ;\n",
      "print \" a) Line-to-line dc voltage of V_d in terms of line-to-neutral voltage E_p , V_d = \", V_d ;\n",
      "print \" b) The dc line current I_d in terms of ac line current I_L , I_d = \", I_d1 ;\n",
      "print \" c Ratio of dc insulation level to ac insulation level =  %.3f\"% (dc_i/ac_i) ;\n",
      "print \"  or dc insulation level = \" , dc_i ;\n"
     ],
     "language": "python",
     "metadata": {},
     "outputs": [
      {
       "output_type": "stream",
       "stream": "stdout",
       "text": [
        "EXAMPLE : 6.1 : SOLUTION :-\n",
        " a) Line-to-line dc voltage of V_d in terms of line-to-neutral voltage E_p , V_d =  2.45*E_p\n",
        " b) The dc line current I_d in terms of ac line current I_L , I_d =  1.225*I_L\n",
        " c Ratio of dc insulation level to ac insulation level =  0.833\n",
        "  or dc insulation level =  0.833*ac_i\n"
       ]
      }
     ],
     "prompt_number": 1
    },
    {
     "cell_type": "heading",
     "level": 2,
     "metadata": {},
     "source": [
      "Example 6.2  Page No : 290"
     ]
    },
    {
     "cell_type": "code",
     "collapsed": false,
     "input": [
      "import math \n",
      "from sympy import Symbol\n",
      "\n",
      "# GIVEN DATA\n",
      "K = 3 ; # factor\n",
      "\n",
      "# CALCULATIONS\n",
      "# For case (a)\n",
      "V_d = Symbol('V_d') ; # defining a polynomial\n",
      "E_p = Symbol('E_p') ;\n",
      "V_d = K*2*E_p ; # From equ 6.18\n",
      "\n",
      "# For case (b)\n",
      "P_dc = Symbol('P_dc') ;\n",
      "P_ac = Symbol('P_ac') ;\n",
      "P_dc = 2*P_ac ;\n",
      "\n",
      "# For case (c)\n",
      "P_ld = Symbol('P_ld') ; # P_loss(dc)\n",
      "P_la = Symbol('P_la') ; # P_loss(ac)\n",
      "P_ld = (2./3)*P_la ; \n",
      "\n",
      "# DISPLAY RESULTS\n",
      "print (\"EXAMPLE : 6.2 : SOLUTION :-\") ;\n",
      "print \" a) Maximum operating V_d in terms of voltage E_p , V_d = \", V_d ;\n",
      "print \" b) Maximum power transmission capability ratio,i.e,ratio of P_dc to P_ac , P_dc/P_ac = %.3f\"%(P_dc/P_ac) ;\n",
      "print \" or P_dc = \", P_dc ;\n",
      "print \" c) Ratio of total I**2*R losses , i.e ,Ratio of P_lossdc) to P_lossac),which accompany maximum power flow = %.3f\"%(P_ld/P_la) ;\n",
      "print \" or P_lossdc = \", P_ld ;\n"
     ],
     "language": "python",
     "metadata": {},
     "outputs": [
      {
       "output_type": "stream",
       "stream": "stdout",
       "text": [
        "EXAMPLE : 6.2 : SOLUTION :-\n",
        " a) Maximum operating V_d in terms of voltage E_p , V_d =  6*E_p\n",
        " b) Maximum power transmission capability ratio,i.e,ratio of P_dc to P_ac , P_dc/P_ac = 2.000\n",
        " or P_dc =  2*P_ac\n",
        " c) Ratio of total I**2*R losses , i.e ,Ratio of P_lossdc) to P_lossac),which accompany maximum power flow = 0.667\n",
        " or P_lossdc =  0.666666666666667*P_la\n"
       ]
      }
     ],
     "prompt_number": 2
    },
    {
     "cell_type": "heading",
     "level": 2,
     "metadata": {},
     "source": [
      "Example 6.3  Page No : 295"
     ]
    },
    {
     "cell_type": "code",
     "collapsed": false,
     "input": [
      "import math \n",
      "\n",
      "# GIVEN DATA\n",
      "V_d0 = 125 ; # voltage rating of bridge rectifier in kV\n",
      "V_dr0 = V_d0 ; # Max continuos no-load direct voltage in kV\n",
      "I = 1600 ; # current rating of bridge rectifier in A\n",
      "I_d = I ; # Max continuous current in A\n",
      "\n",
      "# CALCULATIONS\n",
      "# For case (a)\n",
      "S_B = 1.047 * V_d0 * I_d ; # 3-phase kVA rating of rectifier transformer\n",
      "\n",
      "# For case (b)\n",
      "# SINCE   V_d0 = 2.34*E_LN\n",
      "E_LN = V_d0/2.34 ; # Wye side kV rating\n",
      "\n",
      "# DISPLAY RESULTS\n",
      "print \" a) Three-phase kilovolt-ampere rating , S_B = %d kVA \"%(S_B) ;\n",
      "print \" b) Wye-side kilovolt rating , E_L-N = %.4f kV \"%(E_LN) ;\n"
     ],
     "language": "python",
     "metadata": {},
     "outputs": [
      {
       "output_type": "stream",
       "stream": "stdout",
       "text": [
        " a) Three-phase kilovolt-ampere rating , S_B = 209400 kVA \n",
        " b) Wye-side kilovolt rating , E_L-N = 53.4188 kV \n"
       ]
      }
     ],
     "prompt_number": 3
    },
    {
     "cell_type": "heading",
     "level": 2,
     "metadata": {},
     "source": [
      "Example 6.4  Page No : 296"
     ]
    },
    {
     "cell_type": "code",
     "collapsed": false,
     "input": [
      "import math \n",
      "\n",
      "# GIVEN DATA\n",
      "E_LN = 53.418803 ; # Wye-side kV rating . From exa 6.3\n",
      "I = 1600. ; # current rating of bridge rectifier in A\n",
      "I_d = I ; # Max continuous current in A\n",
      "X_tr = 0.10 ; # impedance of rectifier transformer in pu \u03a9\n",
      "\n",
      "# For case (a)\n",
      "sc_MVA1 = 4000. ; # short-ckt MVA\n",
      "\n",
      "# For case (b)\n",
      "sc_MVA2 = 2500. ; # short-ckt MVA\n",
      "\n",
      "# For case (c)\n",
      "sc_MVA3 = 1000. ; # short-ckt MVA\n",
      "\n",
      "# CALCULATIONS\n",
      "nom_kV = math.sqrt(3) * E_LN ; # Nominal kV_L-L\n",
      "I_1ph = math.sqrt(2./3) * I_d ; # rms value of wye-side phase current\n",
      "E_LN1 = E_LN * 10**3 ; # Wye-side rating in kV\n",
      "X_B = (E_LN1/I_1ph) ; # Associated reactancw base in \u03a9\n",
      "\n",
      "# For case (a)\n",
      "X_sys1 = nom_kV**2/sc_MVA1 ; # system reactancw in \u03a9\n",
      "X_tra = X_tr * X_B ; # reactancw of rectifier transformer\n",
      "X_C = X_sys1 + X_tra ; # Commutating reactancw in \u03a9\n",
      "\n",
      "# For case (b)\n",
      "X_sys2 = nom_kV**2/sc_MVA2 ; # system reactancw in \u03a9\n",
      "X_C2 = X_sys2 + X_tra ; # Commutating reactancw in \u03a9\n",
      "\n",
      "# For case (b) When breaker 1 & 2 are open\n",
      "X_sys3 = nom_kV**2/sc_MVA3 ; # system reactancw in \u03a9\n",
      "X_C3 = X_sys3 + X_tra ; # Commutating reactancw in \u03a9\n",
      "\n",
      "# DISPLAY RESULTS\n",
      "print (\"EXAMPLE : 6.4 : SOLUTION :-\") ;\n",
      "print \" a) Commutating reactancw When all three breakers are closed, X_C = %.4f \u03a9 \"%X_C ; \n",
      "print \" b) Commutating reactancw When breaker 1 is open, X_C = %.4f \u03a9 \"%X_C2 ;\n",
      "print \" c) Commutating reactancw When breakers 1 and 2 are open, X_C = %.4f \u03a9 \"%(X_C3) ;\n"
     ],
     "language": "python",
     "metadata": {},
     "outputs": [
      {
       "output_type": "stream",
       "stream": "stdout",
       "text": [
        "EXAMPLE : 6.4 : SOLUTION :-\n",
        " a) Commutating reactancw When all three breakers are closed, X_C = 6.2292 \u03a9 \n",
        " b) Commutating reactancw When breaker 1 is open, X_C = 7.5133 \u03a9 \n",
        " c) Commutating reactancw When breakers 1 and 2 are open, X_C = 12.6497 \u03a9 \n"
       ]
      }
     ],
     "prompt_number": 4
    },
    {
     "cell_type": "heading",
     "level": 2,
     "metadata": {},
     "source": [
      "Example 6.5  Page No : 298"
     ]
    },
    {
     "cell_type": "code",
     "collapsed": false,
     "input": [
      "import math \n",
      "\n",
      "# GIVEN DATA\n",
      "X_C = 6.2292017 ; # commutating reactancw when all 3 breakers are closed\n",
      "E_LN = 53.418803 * 10**3 ; # Wye-side volt rating\n",
      "V_d0 = 125. * 10**3 ; # voltage rating of bridge rectifier in V\n",
      "V_dr0 = V_d0 ; # Max continuos no-load direct voltage in V\n",
      "I = 1600. ; # current rating of bridge rectifier in A\n",
      "I_d = I ; # Max continuous current\n",
      "nom_kV = math.sqrt(3) * E_LN ; # Nominal kV_L-L\n",
      "X_tr = 0.10 ; #impedance of rectifier transformer in pu \u03a9\n",
      "alpha = 0 ; # delay angle \u03b1 = 0 degree\n",
      "\n",
      "# CALCULATIONS\n",
      "# For case (a)\n",
      "E_m = math.sqrt(2) * E_LN ;\n",
      "u = math.acos((1 - (2*X_C*I_d))/(math.sqrt(3)*E_m)); # overlap angle when delay angle \u03b1 = 0 degree\n",
      "\n",
      "# For case (b)\n",
      "R_C = (3/math.pi) * X_C ; # Equ commutation resistance per phase\n",
      "V_d = V_d0 * math.cos(math.radians(alpha)) - R_C * I_d ; # dc voltage of rectifier in V\n",
      "\n",
      "# For case (c)\n",
      "cos_theta = V_d/V_d0 ; # Displacement or power factor of rectifier\n",
      "\n",
      "# For case (d)\n",
      "Q_r = V_d * I_d * math.degrees(math.atan( math.acos(math.radians(cos_theta))) ) ; # magnetizing var I/P\n",
      "\n",
      "# DISPLAY RESULTS\n",
      "print (\"EXAMPLE : 6.5 : SOLUTION :-\") ;\n",
      "print \" a) Overlap angle u of rectifier, u = %.2f degree\"%u ;\n",
      "print \" b) The dc voltage V_dr of rectifier, V_dr = %.2f V \"%V_d ;\n",
      "print \" c) Displacement factor of rectifier, math.cos\u03b8 = %.3f  \"%cos_theta ;\n",
      "print \"     and   \u03b8 = %.1f degree  \"%math.acos(cos_theta) ;\n",
      "print \" d) Magnetizing var input to rectifier, Q_r = %.4e var \"%Q_r ;\n",
      "\n",
      "print \" NOTE : In cased 7.6546e+07 var is same as 7.6546*10**7 var = 76.546 Mvar \" ;\n"
     ],
     "language": "python",
     "metadata": {},
     "outputs": [
      {
       "output_type": "stream",
       "stream": "stdout",
       "text": [
        "EXAMPLE : 6.5 : SOLUTION :-\n",
        " a) Overlap angle u of rectifier, u = 1.72 degree\n",
        " b) The dc voltage V_dr of rectifier, V_dr = 115482.48 V \n",
        " c) Displacement factor of rectifier, math.cos\u03b8 = 0.924  \n",
        "     and   \u03b8 = 0.4 degree  \n",
        " d) Magnetizing var input to rectifier, Q_r = 1.0578e+10 var \n",
        " NOTE : In cased 7.6546e+07 var is same as 7.6546*10**7 var = 76.546 Mvar \n"
       ]
      }
     ],
     "prompt_number": 5
    },
    {
     "cell_type": "heading",
     "level": 2,
     "metadata": {},
     "source": [
      "Example 6.6  Page No : 299"
     ]
    },
    {
     "cell_type": "code",
     "collapsed": false,
     "input": [
      "import math \n",
      "\n",
      "# GIVEN DATA\n",
      "I_d = 1600. ; # Max continuous dc current in A\n",
      "V_d0 = 125. * 10**3 ; # voltage rating of bridge rectifier in V\n",
      "V_d = 100. * 10**3 ; # dc voltage of rectifier in V\n",
      "X_C = 6.2292017 ; # commutating reactancw when all 3 breakers are closed\n",
      "\n",
      "# CALCULATIONS\n",
      "# For case (a)\n",
      "R_C = (3/math.pi) * X_C ;\n",
      "cos_alpha = (V_d + R_C*I_d)/V_d0 ; # Firing angle \u03b1\n",
      "alpha = math.acos(cos_alpha) ;\n",
      "\n",
      "# For case (b)\n",
      "# V_d = (1/2)*V_d0*(cos_alpha + cos_delta)\n",
      "cos_delta = (2 * V_d/V_d0) - cos_alpha ;\n",
      "delta = math.acos(cos_delta) ;\n",
      "u = delta - alpha ; # Overlap angle u in degree\n",
      "\n",
      "# For case (c)\n",
      "cos_theta = V_d/V_d0 ; # power factor\n",
      "theta = math.degrees(math.acos(cos_theta)) ;\n",
      "\n",
      "# For case (d)\n",
      "Q_r = V_d * I_d * math.tan(math.radians(theta)) ; # magnetizing var I/P\n",
      "\n",
      "# DISPLAY RESULTS\n",
      "print (\"EXAMPLE : 6.6 : SOLUTION :-\") ;\n",
      "print \" a) Firing angle \u03b1 of rectifier, \u03b1 = %.2f degree\"%(alpha) ;\n",
      "print \" b) Overlap angle u of rectifier, u = %.2f degree\"%(u) ;\n",
      "print \" c) Power factor , math.cos\u03b8 = %.2f  \"%(cos_theta) ;\n",
      "print \"     and   \u03b8 = %.2f degree  \"%(theta) ;\n",
      "print \" d) Magnetizing var input , Q_r = %.2e var \"%(Q_r) ;\n"
     ],
     "language": "python",
     "metadata": {},
     "outputs": [
      {
       "output_type": "stream",
       "stream": "stdout",
       "text": [
        "EXAMPLE : 6.6 : SOLUTION :-\n",
        " a) Firing angle \u03b1 of rectifier, \u03b1 = 0.50 degree\n",
        " b) Overlap angle u of rectifier, u = 0.26 degree\n",
        " c) Power factor , math.cos\u03b8 = 0.80  \n",
        "     and   \u03b8 = 36.87 degree  \n",
        " d) Magnetizing var input , Q_r = 1.20e+08 var \n"
       ]
      }
     ],
     "prompt_number": 8
    },
    {
     "cell_type": "heading",
     "level": 2,
     "metadata": {},
     "source": [
      "Example 6.7  Page No : 301"
     ]
    },
    {
     "cell_type": "code",
     "collapsed": false,
     "input": [
      "import math \n",
      "\n",
      "# GIVEN DATA\n",
      "X_C = 12.649731 ; # commutating reactancw when 2 breakers are open\n",
      "alpha = 0 ;\n",
      "I_d = 1600 ; # DC current in A\n",
      "E_LN = 53.4188 * 10**3 ; # Wye-side rating in V\n",
      "V_d0 = 125 * 10**3 ; # voltage rating of bridge rectifier in V\n",
      "\n",
      "# CALCULATIONS\n",
      "# For case (a)\n",
      "E_m = math.sqrt(2) * E_LN ;\n",
      "u = math.acos(1 - (2 * X_C * I_d)/(math.sqrt(3) * E_m)) ; # overlap angle u = \u03b4\n",
      "\n",
      "# For case (b)\n",
      "# math.since rectifier operates in first mode i.e doesn't operate in second mode\n",
      "R_C = (3/math.pi) * X_C ;\n",
      "V_dr = ( V_d0 * math.cos(math.radians(alpha)) ) - (R_C*I_d) ; # dc voltage of rectifier in V\n",
      "\n",
      "# DISPLAY RESULTS\n",
      "print (\"EXAMPLE : 6.7 : SOLUTION :-\") ;\n",
      "print \" a) u = %.1f degree \"%(u) ;\n",
      "print \"  math.since u < 60 degree . The rectifier operates at FIRST mode , the normal operating mode \";\n",
      "print \" b) When dc current is 1600 A , V_dr = %.2f V \"%(V_dr) ;\n",
      "\n",
      "# note : rounding off error."
     ],
     "language": "python",
     "metadata": {},
     "outputs": [
      {
       "output_type": "stream",
       "stream": "stdout",
       "text": [
        "EXAMPLE : 6.7 : SOLUTION :-\n",
        " a) u = 0.8 degree \n",
        "  math.since u < 60 degree . The rectifier operates at FIRST mode , the normal operating mode \n",
        " b) When dc current is 1600 A , V_dr = 105672.63 V \n"
       ]
      }
     ],
     "prompt_number": 10
    },
    {
     "cell_type": "heading",
     "level": 2,
     "metadata": {},
     "source": [
      "Example 6.10  Page No : 307"
     ]
    },
    {
     "cell_type": "code",
     "collapsed": false,
     "input": [
      "import math \n",
      "\n",
      "# GIVEN DATA\n",
      "X_C = 6.2292 ; # commutating reactancw when all 3 breakers are closed\n",
      "I_db = 1600. ; # dc current base in A\n",
      "V_db = 125. * 10**3 ; # dc voltage base in V\n",
      "I_d = I_db ; # Max continuous current in A\n",
      "V_d = 100. * 10**3 ; # dc voltage in V\n",
      "alpha = 0 ; # Firing angle \u03b1 = 0 degree\n",
      "\n",
      "# CALCULATIONS\n",
      "# For case (a)\n",
      "R_c = (3/math.pi) * X_C ;\n",
      "R_cb = V_db/I_db ; # resistance base in \u03a9\n",
      "V_d_pu = V_d/V_db ; # per unit voltage\n",
      "I_d_pu = I_d/I_db ; # per unit current\n",
      "R_c_pu = R_c/R_cb ; # per unit \u03a9\n",
      "E_pu = (V_d_pu + R_c_pu * I_d_pu)/math.cos(math.radians(alpha)) ; # Open ckt dc voltage in pu\n",
      "V_d0 = E_pu * V_db ; # Open ckt dc voltage in V\n",
      "\n",
      "# For case (b)\n",
      "E = V_d0/2.34; # Open ckt ac voltage on wye side of transformer in V               \n",
      "\n",
      "# For case (c)\n",
      "E_1LN = 92.95 * 10**3 ; # voltage in V\n",
      "E_1B = E_1LN ;\n",
      "E_LN = 53.44 * 10**3 ; # voltage in V\n",
      "a = E_1LN/E_LN ;\n",
      "n = a ; # when LTC on neutral\n",
      "X_c_pu = 2 * R_c_pu ;\n",
      "E_1_pu = E_1LN / E_1B ; # per unit voltage\n",
      "cos_delta = math.cos(math.radians(alpha)) - ( (X_c_pu * I_d_pu)/( (a/n) *E_1_pu) ) ;\n",
      "delta = math.acos(cos_delta) ;\n",
      "u = delta - alpha ; \n",
      "\n",
      "# For case (d)\n",
      "cos_theta = V_d/V_d0 ; # pf of rectifier\n",
      "theta = math.acos(cos_theta) ;\n",
      "\n",
      "# For case (e)\n",
      "Q_r = V_d*I_d*math.degrees(math.atan(theta)) ; # magnetizing var I/P\n",
      "\n",
      "# For case (f)\n",
      "d_V = E_LN - E ; # necessary change in voltage in V\n",
      "p_E_LN = 0.00625 * E_LN ; # one buck step can change in V/step\n",
      "no_buck = d_V / p_E_LN ; # No. of steps of buck\n",
      "\n",
      "# DISPLAY RESULTS\n",
      "print (\"EXAMPLE : 6.10 : SOLUTION :-\") ;\n",
      "print \" a) Open circuit dc Voltage , V_d0 = %.2f V \"%(V_d0);\n",
      "print \" b) Open circuit ac voltage on wye side of transformer , E = %.2f V \"%(E);\n",
      "print \" c) Overlap angle , u = %.2f degree \"%(u)\n",
      "print \" d) Power factor , math.cos\u03b8 = %.3f  \"%(cos_theta);\n",
      "print \"     and   \u03b8 = %.2f degree  \"%(theta);\n",
      "print \" e) Magnetizing var input to rectifier , Q_r = %.4e var \"%(Q_r);\n",
      "print \" f) Number of 0.625 percent steps of buck required , No. of buck = %.f steps \"%(no_buck);\n"
     ],
     "language": "python",
     "metadata": {},
     "outputs": [
      {
       "output_type": "stream",
       "stream": "stdout",
       "text": [
        "EXAMPLE : 6.10 : SOLUTION :-\n",
        " a) Open circuit dc Voltage , V_d0 = 109517.52 V \n",
        " b) Open circuit ac voltage on wye side of transformer , E = 46802.36 V \n",
        " c) Overlap angle , u = 0.56 degree \n",
        " d) Power factor , math.cos\u03b8 = 0.913  \n",
        "     and   \u03b8 = 0.42 degree  \n",
        " e) Magnetizing var input to rectifier , Q_r = 3.6451e+09 var \n",
        " f) Number of 0.625 percent steps of buck required , No. of buck = 20 steps \n"
       ]
      }
     ],
     "prompt_number": 11
    }
   ],
   "metadata": {}
  }
 ]
}