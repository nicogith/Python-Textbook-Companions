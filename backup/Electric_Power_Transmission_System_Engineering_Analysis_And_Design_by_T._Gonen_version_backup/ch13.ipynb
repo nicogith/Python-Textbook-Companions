{
 "metadata": {
  "name": "",
  "signature": "sha256:b52d75c3730dd1ce92d9c4e22fdcb0ee64f83e3583ef139f61eb9ec4cc4ed157"
 },
 "nbformat": 3,
 "nbformat_minor": 0,
 "worksheets": [
  {
   "cells": [
    {
     "cell_type": "heading",
     "level": 1,
     "metadata": {},
     "source": [
      "Chapter 13 : Sag and Tension Analysis"
     ]
    },
    {
     "cell_type": "heading",
     "level": 2,
     "metadata": {},
     "source": [
      "Example 13.1  Page No : 690"
     ]
    },
    {
     "cell_type": "code",
     "collapsed": false,
     "input": [
      "import math \n",
      "\n",
      "# GIVEN DATA\n",
      "c = 1600. ; # Length of conductor in feet\n",
      "L = 500. ; # span b/w conductors in ft\n",
      "w1 = 4122. ; # Weight of conductor in lb/mi\n",
      "\n",
      "# CALCULATIONS\n",
      "# For case (a)\n",
      "l = 2 * c *( math.sinh(L/(2*c)) ) ; # Length of conductor in ft umath.sing eq 13.6\n",
      "l_1 = L * (1 + (L**2)/(24*c**2) ) ; # Length of conductor in ft umath.sing eq 13.8\n",
      "\n",
      "# For case (b)\n",
      "d = c*( math.cosh( L/(2*c) ) - 1 ) ; # sag in ft\n",
      "\n",
      "# For case (c)\n",
      "w = w1/5280 ; # Weight of conductor in lb/ft . [1 mile = 5280 feet]\n",
      "T_max = w * (c + d) ; # Max conductor tension in lb\n",
      "T_min = w * c ; # Min conductor tension in lb\n",
      "\n",
      "# For case (d)\n",
      "T = w * (L**2)/(8*d) ; # Appr value of tension in lb umath.sing parabolic method\n",
      "\n",
      "# DISPLAY RESULTS\n",
      "print (\"EXAMPLE : 13.1 : SOLUTION :-\") ;\n",
      "print \" a) Length of conductor umath.sing eq 13.6 , l = %.3f ft \"%(l) ;\n",
      "print \"  &  Length of conductor umath.sing eq 13.8 , l = %.4f ft \"%(l_1) ;\n",
      "print \" b) Sag , d = %.1f ft \"%(d) ;\n",
      "print \" c) Maximum value of conductor tension umath.sing catenary method , T_max = %.1f lb \"%(T_max) ;\n",
      "print \"     Minimum value of conductor tension umath.sing catenary method , T_min = %.1f lb \"%(T_min) ;\n",
      "print \" d) Approximate value of tension umath.sing parabolic method , T = %.2f lb \"%(T) ;\n"
     ],
     "language": "python",
     "metadata": {},
     "outputs": [
      {
       "output_type": "stream",
       "stream": "stdout",
       "text": [
        "EXAMPLE : 13.1 : SOLUTION :-\n",
        " a) Length of conductor umath.sing eq 13.6 , l = 502.037 ft \n",
        "  &  Length of conductor umath.sing eq 13.8 , l = 502.0345 ft \n",
        " b) Sag , d = 19.6 ft \n",
        " c) Maximum value of conductor tension umath.sing catenary method , T_max = 1264.4 lb \n",
        "     Minimum value of conductor tension umath.sing catenary method , T_min = 1249.1 lb \n",
        " d) Approximate value of tension umath.sing parabolic method , T = 1246.55 lb \n"
       ]
      }
     ],
     "prompt_number": 1
    },
    {
     "cell_type": "heading",
     "level": 2,
     "metadata": {},
     "source": [
      "Example 13.2  Page No : 697"
     ]
    },
    {
     "cell_type": "code",
     "collapsed": false,
     "input": [
      "import math \n",
      "\n",
      "# GIVEN DATA\n",
      "L = 500. ; # span b/w conductors in ft\n",
      "p = 4. ; # Horizontal wind pressure in lb/sq ft\n",
      "t_i = 0.50 ; # Radial thickness of ice in inches\n",
      "d_c = 1.093 ; # outside diameter of ACSR conductor in inches\n",
      "w1 = 5399. ; # weight of conductor in lb/mi\n",
      "s = 28500. ; # ultimate strength in lb\n",
      "\n",
      "# CALCULATIONS\n",
      "# For case (a)\n",
      "w_i = 1.25 * t_i * (d_c + t_i) ; # Weight of ice in pounds per feet\n",
      "\n",
      "# For case (b)\n",
      "w = w1/5280 ; # weight of conductor in lb/ft . [1 mile = 5280 feet]\n",
      "W_T = w + w_i ; # Total vertical load on conductor in pounds per feet\n",
      "\n",
      "# For case (c)\n",
      "P = ( (d_c + 2*t_i)/(12) )*p ; # Horizontal wind force in lb/ft\n",
      "\n",
      "# For case (d)\n",
      "w_e = math.sqrt( P**2 + (w + w_i)**2 ) ; # Effective load on conductor in lb/ft\n",
      "\n",
      "# For case (e)\n",
      "T = s/2 ;\n",
      "d = w_e * L**2/(8*T) ; # sag in feet\n",
      "\n",
      "# For case (f)\n",
      "d_v = d * W_T/w_e ; # vertical sag in feet\n",
      "\n",
      "# DISPLAY RESULTS\n",
      "print (\"EXAMPLE :13.2 : SOLUTION :-\") ;\n",
      "print \" a) Weight of ice in pounds per feet , w_i = %.4f lb/ft \"%(w_i) ;\n",
      "print \" b) Total vertical load on conductor in pounds per feet , W_T = %.4f lb/ft \"%(W_T) ;\n",
      "print \" c) Horizontal wind force in pounds per feet , P = %.4f lb/ft \"%(P) ;\n",
      "print \" d) Effective load acting in pounds per feet , w_e = %.4f lb/ft \"%(w_e) ;\n",
      "print \" e) Sag in feet , d = %.2f ft \"%(d) ;\n",
      "print \" f) Vertical Sag in feet  = %.2f ft \"%(d_v) ;\n"
     ],
     "language": "python",
     "metadata": {},
     "outputs": [
      {
       "output_type": "stream",
       "stream": "stdout",
       "text": [
        "EXAMPLE :13.2 : SOLUTION :-\n",
        " a) Weight of ice in pounds per feet , w_i = 0.9956 lb/ft \n",
        " b) Total vertical load on conductor in pounds per feet , W_T = 2.0182 lb/ft \n",
        " c) Horizontal wind force in pounds per feet , P = 0.6977 lb/ft \n",
        " d) Effective load acting in pounds per feet , w_e = 2.1354 lb/ft \n",
        " e) Sag in feet , d = 4.68 ft \n",
        " f) Vertical Sag in feet  = 4.43 ft \n"
       ]
      }
     ],
     "prompt_number": 2
    }
   ],
   "metadata": {}
  }
 ]
}