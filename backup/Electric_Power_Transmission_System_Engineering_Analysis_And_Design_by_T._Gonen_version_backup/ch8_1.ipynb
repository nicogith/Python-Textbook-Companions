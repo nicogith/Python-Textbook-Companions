{
 "metadata": {
  "name": "",
  "signature": "sha256:fa9c72757f3efafaf142b4087676d5628742ca42f15fef5b32daec2b9625acdb"
 },
 "nbformat": 3,
 "nbformat_minor": 0,
 "worksheets": [
  {
   "cells": [
    {
     "cell_type": "heading",
     "level": 1,
     "metadata": {},
     "source": [
      "Chapter 8 : Limiting Factors for Extra High and Ultrahigh Voltage Transmission : Corona, Radio Noise, and Audible Noise"
     ]
    },
    {
     "cell_type": "heading",
     "level": 2,
     "metadata": {},
     "source": [
      "Example 8.1  Page No : 417"
     ]
    },
    {
     "cell_type": "code",
     "collapsed": false,
     "input": [
      "import math \n",
      "\n",
      "# GIVEN DATA\n",
      "m_0 = 0.90 ; # Irregularity factor\n",
      "p = 74. ; # Atmospheric pressure in Hg\n",
      "t = 10. ; # temperature in degree celsius\n",
      "D = 550. ; # Equilateral spacing b/w conductors in cm\n",
      "d = 3. ; # overall diameter in cm\n",
      "\n",
      "# CALCULATIONS\n",
      "# For case (a)\n",
      "r = d/2 ;\n",
      "delta = 3.9211 * p/( 273 + t ) ; # air density factor\n",
      "V_0_ph = 21.1 * delta * m_0 * r * math.log(D/r) ; # disruptive critical rms line voltage in kV/phase\n",
      "V_0 = math.sqrt(3) * V_0_ph ; # disruptive critical rms line voltage in kV \n",
      "\n",
      "# For case (b)\n",
      "m_v = m_0 ;\n",
      "V_v_ph = 21.1*delta*m_v*r*(1 + (0.3/math.sqrt(delta*r) )) * math.log(D/r) ; # visual critical rms line voltage in kV/phase\n",
      "V_v = math.sqrt(3)*V_v_ph ; # visual critical rms line voltage in kV \n",
      "\n",
      "# DISPLAY RESULTS\n",
      "print (\"EXAMPLE : 8.1 : SOLUTION :-\") ;\n",
      "print \" a) Disruptive critical rms line voltage , V_0 = %.1f kV \"%(V_0) ;\n",
      "print \" b) Visual critical rms line voltage , V_v = %.1f kV \"%(V_v) ;\n"
     ],
     "language": "python",
     "metadata": {},
     "outputs": [
      {
       "output_type": "stream",
       "stream": "stdout",
       "text": [
        "EXAMPLE : 8.1 : SOLUTION :-\n",
        " a) Disruptive critical rms line voltage , V_0 = 298.7 kV \n",
        " b) Visual critical rms line voltage , V_v = 370.9 kV \n"
       ]
      }
     ],
     "prompt_number": 1
    },
    {
     "cell_type": "heading",
     "level": 2,
     "metadata": {},
     "source": [
      "Example 8.2  Page No : 420"
     ]
    },
    {
     "cell_type": "code",
     "collapsed": false,
     "input": [
      "import math \n",
      "\n",
      "# GIVEN DATA\n",
      "f = 60. ; # freq in Hz\n",
      "d = 3. ; # overall diameter in cm\n",
      "D = 550. ; # Equilateral spacing b/w conductors in cm\n",
      "V1 = 345. ; # operating line voltage in kV\n",
      "V_0 = 172.4 ; # disruptive critical voltage in kV\n",
      "L = 50. ; # line length in mi\n",
      "p = 74. ; # Atmospheric pressure in Hg\n",
      "t = 10. ; # temperature in degree celsius\n",
      "m_0 = 0.90 ; # Irregularity factor\n",
      "\n",
      "# CALCULATIONS\n",
      "r = d/2 ;\n",
      "delta = 3.9211 * p/( 273 + t ) ; # air density factor\n",
      "V_0 = 21.1 * delta * m_0 * r * math.log(D/r) ; # disruptive critical rms line voltage in kV/phase\n",
      "V =V1/math.sqrt(3) ; # Line to neutral operating voltage in kV\n",
      "P_c = (390./delta)*(f+25)*math.sqrt(r/D)*(V - V_0)**2 * 10**-5 ; # Fair weather corona loss per phase in kW/mi/phase\n",
      "P_cT = P_c * L ; # For total line length corona loss in kW/phase\n",
      "T_P_c = 3 * P_cT ; # Total corona loss of line in kW\n",
      "\n",
      "# DISPLAY RESULTS\n",
      "print (\"EXAMPLE : 8.2 : SOLUTION :-\") ;\n",
      "print \" a) Total fair weather corona loss of the line , P_c = %.1f kW \"%(T_P_c) ;\n",
      "\n",
      "# rounding off error."
     ],
     "language": "python",
     "metadata": {},
     "outputs": [
      {
       "output_type": "stream",
       "stream": "stdout",
       "text": [
        "EXAMPLE : 8.2 : SOLUTION :-\n",
        " a) Total fair weather corona loss of the line , P_c = 1811.2 kW \n"
       ]
      }
     ],
     "prompt_number": 5
    }
   ],
   "metadata": {}
  }
 ]
}