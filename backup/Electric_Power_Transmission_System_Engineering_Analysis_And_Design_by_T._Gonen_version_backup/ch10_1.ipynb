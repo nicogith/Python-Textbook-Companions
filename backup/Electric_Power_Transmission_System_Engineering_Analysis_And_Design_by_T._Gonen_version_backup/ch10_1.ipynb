{
 "metadata": {
  "name": "",
  "signature": "sha256:67eaf83c9387d5b1ba7581d5294beca9716d74a00dcc95e8fa62248cc3917c12"
 },
 "nbformat": 3,
 "nbformat_minor": 0,
 "worksheets": [
  {
   "cells": [
    {
     "cell_type": "heading",
     "level": 1,
     "metadata": {},
     "source": [
      "Chapter 10 : Protective Equipment and Transmission System Protection"
     ]
    },
    {
     "cell_type": "heading",
     "level": 2,
     "metadata": {},
     "source": [
      "Example 10.1  Page No : 542"
     ]
    },
    {
     "cell_type": "code",
     "collapsed": false,
     "input": [
      "import math \n",
      "from numpy import exp\n",
      "\n",
      "# GIVEN DATA\n",
      "X_d = 0.14*1j ; # reactancw of generator in pu\n",
      "E_g = 1*exp(1j*0*math.pi/180) ;\n",
      "S_B = 25*10**3 ; # voltage in kVA\n",
      "V_BL_V = 13.8 ; # low voltage in kV\n",
      "\n",
      "# CALCULATIONS\n",
      "I_f = E_g/X_d ; # Subtransient fault current in pu\n",
      "I_BL_V = S_B/( math.sqrt(3)*V_BL_V) ; # Current base for low-voltage side\n",
      "I_f1 = abs(I_f)*I_BL_V ; # magnitude of fault current in A\n",
      "\n",
      "# DISPLAY RESULTS\n",
      "print (\"EXAMPLE : 10.1 : SOLUTION :-\") ;\n",
      "print \" Subtransient fault current for 3-\u03a6 fault in per units = pu \", ; print I_f ;\n",
      "print \" Subtransient fault current for 3-\u03a6 fault in ampere = %.f A \"%(I_f1) ;\n"
     ],
     "language": "python",
     "metadata": {},
     "outputs": [
      {
       "output_type": "stream",
       "stream": "stdout",
       "text": [
        "EXAMPLE : 10.1 : SOLUTION :-\n",
        " Subtransient fault current for 3-\u03a6 fault in per units = pu  -7.14285714286j\n",
        " Subtransient fault current for 3-\u03a6 fault in ampere = 7471 A \n"
       ]
      }
     ],
     "prompt_number": 1
    },
    {
     "cell_type": "heading",
     "level": 2,
     "metadata": {},
     "source": [
      "Example 10.2  Page No : 542"
     ]
    },
    {
     "cell_type": "code",
     "collapsed": false,
     "input": [
      "import math \n",
      "\n",
      "# GIVEN DATA\n",
      "# For case (a)\n",
      "I_f = 7.1428571 ; # Subtransient fault current in pu . Result of exa 10.1\n",
      "\n",
      "# For case (d)\n",
      "V_pf = 13800 ; # voltage in V\n",
      "zeta = 1.4 ;\n",
      "I_f1 = 7471 ; # magnitude of fault current in A\n",
      "\n",
      "# CALCULATIONS\n",
      "# For case (a)\n",
      "I_fdc_max = math.sqrt(2)*I_f ; # Max dc current in pu\n",
      "\n",
      "# For case (b)\n",
      "I_f_max = 2*I_fdc_max ; # Total max insmath.tanmath.taneous current in pu\n",
      "\n",
      "# For case (c)\n",
      "I_momt = 1.6*I_f ; # Total rms momentary current\n",
      "\n",
      "# For case (d)\n",
      "S_int = math.sqrt(3)*(V_pf)*I_f1*zeta*10**-6 ; # Interrupting rating in MVA\n",
      "\n",
      "# For case (e)\n",
      "S_momt = math.sqrt(3)*(V_pf)*I_f1*1.6*10**-6 ; # Momentary duty of CB in MVA\n",
      "\n",
      "# DISPLAY RESULTS\n",
      "print (\"EXAMPLE : 10.2 : SOLUTION :-\") ;\n",
      "print \" a) Maximum possible dc current component , I_fdc_max = %.1f pu \"%(I_fdc_max) ;\n",
      "print \" b) Total maximum insmath.tanmath.taneous current , I_max = %.1f pu \"%(I_f_max) ;\n",
      "print \" c) Momentary current , I_momentary = %.2f pu \"%(I_momt) ;\n",
      "print \" d) Interrupting rating of a 2-cycle CB , S_interrupting = %.f MVA \"%(S_int) ;\n",
      "print \" e) Momentary duty of a 2-cycle CB , S_momentary = %.2f MVA \"%(S_momt) ;\n"
     ],
     "language": "python",
     "metadata": {},
     "outputs": [
      {
       "output_type": "stream",
       "stream": "stdout",
       "text": [
        "EXAMPLE : 10.2 : SOLUTION :-\n",
        " a) Maximum possible dc current component , I_fdc_max = 10.1 pu \n",
        " b) Total maximum insmath.tanmath.taneous current , I_max = 20.2 pu \n",
        " c) Momentary current , I_momentary = 11.43 pu \n",
        " d) Interrupting rating of a 2-cycle CB , S_interrupting = 250 MVA \n",
        " e) Momentary duty of a 2-cycle CB , S_momentary = 285.72 MVA \n"
       ]
      }
     ],
     "prompt_number": 2
    },
    {
     "cell_type": "heading",
     "level": 2,
     "metadata": {},
     "source": [
      "Example 10.4  Page No : 557"
     ]
    },
    {
     "cell_type": "code",
     "collapsed": false,
     "input": [
      "import math \n",
      "from numpy import degrees,arctan2\n",
      "\n",
      "\n",
      "# GIVEN DATA\n",
      "z_l = 0.2 + 1j * 0.7 ; # Line impedance in pu\n",
      "f_l = 0.7 ; # Fault point at a dismath.tance from A in pu\n",
      "f_m = 1.2 ; # magnitude of fault current in pu\n",
      "l = 10.3 ; # Line spacing in ft\n",
      "p = 100 ; # Power in MVA\n",
      "v = 138 ; # voltage in kV\n",
      "i = 418.4 ; # current in A\n",
      "z = 190.4 ; # Impedance in \u03a9\n",
      "\n",
      "# CALCULATIONS\n",
      "# For case (a)\n",
      "I = f_m * i ; # Current in arc in A\n",
      "R_arc = 8750 * l/(I**1.4) ; # Arc resistance in \u03a9\n",
      "R_arc1 = R_arc/z ; # Arc resistance in pu\n",
      "\n",
      "# For case (b)\n",
      "Z_L = z_l * f_l ;\n",
      "Z_r = Z_L + R_arc1 ; # Impedance seen by the relay in pu\n",
      "\n",
      "# For case (c)\n",
      "phi_1 = degrees(arctan2(Z_L.imag,Z_L.real )) ; # Line impedance angle without arc resistance in degree\n",
      "phi_2 = degrees(arctan2(Z_r.imag,Z_r.real) ) ; # Line impedance angle with arc resistance in degree\n",
      "\n",
      "# DISPLAY RESULTS\n",
      "print (\"EXAMPLE : 10.4 : SOLUTION :-\") ;\n",
      "print \" a) Value of arc resistance at fault point in \u03a9 , R_arc = %.2f \u03a9 \"%(R_arc) ;\n",
      "print \"     Value of arc resistance at fault point in pu , R_arc = %.2f pu \"%(R_arc1) ;\n",
      "print \" b) Value of line impedance including the arc resistance %( Z_L + R_arc = pu \", ; print Z_r ;\n",
      "print \" c) Line impedance angle without arc resistance , \u03a6 = %.2f degree \"%(phi_1) ;\n",
      "print \"     Line impedance angle with arc resistance , \u03a6 = %.2f degree \"%(phi_2) ;\n"
     ],
     "language": "python",
     "metadata": {},
     "outputs": [
      {
       "output_type": "stream",
       "stream": "stdout",
       "text": [
        "EXAMPLE : 10.4 : SOLUTION :-\n",
        " a) Value of arc resistance at fault point in \u03a9 , R_arc = 14.92 \u03a9 \n",
        "     Value of arc resistance at fault point in pu , R_arc = 0.08 pu \n",
        " b) Value of line impedance including the arc resistance %( Z_L + R_arc = pu  (0.218360327606+0.49j)\n",
        " c) Line impedance angle without arc resistance , \u03a6 = 74.05 degree \n",
        "     Line impedance angle with arc resistance , \u03a6 = 65.98 degree \n"
       ]
      }
     ],
     "prompt_number": 3
    },
    {
     "cell_type": "heading",
     "level": 2,
     "metadata": {},
     "source": [
      "Example 10.5  Page No : 558"
     ]
    },
    {
     "cell_type": "code",
     "collapsed": false,
     "input": [
      "%matplotlib inline\n",
      "import math \n",
      "from numpy import arange,zeros\n",
      "from matplotlib.pyplot import subplot,plot,xlabel,ylabel,suptitle,text\n",
      "\n",
      "\n",
      "T = arange(0,300.01,0.01)\n",
      "po = zeros(len(T))\n",
      "\n",
      "for i in range(int(len(T)/1.1)):\n",
      "    po[i] = 4 ;\n",
      "\n",
      "for i in range(int(len(T)/1.1),len(T)):\n",
      "    po[i] = 5 ;\n",
      "\n",
      "io = zeros(len(T))\n",
      "for i in range(int(len(T)/1.1)):\n",
      "    io[i] = 4 ;\n",
      "\n",
      "for i in range(int(len(T)/1.1),len(T)):\n",
      "    io[i] = 3 ;\n",
      "\n",
      "subplot(2,1,1) ; # To plot 2 graph in same graphic window\n",
      "plot(T,po)#,3,'012','',[0, 0, 310, 7]) ;\n",
      "plot(T,io)#,3,'012','',[0, 0, 310, 7]) ;\n",
      "suptitle(\"Fig 10.5 (a)   Zones of protection for relay R_12\") ;\n",
      "text(25,3.8,'[]') ;\n",
      "text(45,4.2,'(1)') ;\n",
      "plot(45,4,'+') ;\n",
      "text(60,3.8,'[]') ;\n",
      "text(60,4.2,'B_12') ;\n",
      "text(120,3.8,'[]') ;\n",
      "text(120,4.2,'B_21') ;\n",
      "text(140,4.2,'(2)') ;\n",
      "plot(140,4,'+') ;\n",
      "text(155,3.8,'[]') ;\n",
      "text(155,4.2,'B_23') ;\n",
      "text(220,3.8,'[]') ;\n",
      "text(220,4.2,'B_32') ;\n",
      "text(270,5.0,'(3)') ;\n",
      "text(285,2.8,'[]') ;\n",
      "text(285,3.2,'B_35') ;\n",
      "text(285,4.8,'[]') ;\n",
      "text(285,5.2,'B_34') ;\n",
      "text(85,3.4,'TL_12') ;\n",
      "text(180,3.4,'TL_23') ;\n",
      "text(60,3,'ZONE 1') ;\n",
      "text(100,2,'ZONE 2') ;\n",
      "text(190,1,'ZONE 3') ;\n",
      "\n",
      "# For case (b)\n",
      "vo = zeros(len(T))\n",
      "for i in range(int(len(T)/4)):\n",
      "    vo[i] = 0.5;\n",
      "\n",
      "for i in range(int(len(T)/4),len(T/1.7)):\n",
      "    vo[i] = 2;\n",
      "\n",
      "for i in range(int(len(T)/1.7),len(T)):\n",
      "    vo[i] = 4\n",
      "\n",
      "uo = zeros(len(T))\n",
      "for i in range(int(len(T)/2.14),len(T/1.35)):  # plotting Voltage values\n",
      "    uo[i] = 0.5;\n",
      "\n",
      "for i in range(int(len(T)/1.35),len(T)):\n",
      "    uo[i] = 2;\n",
      "\n",
      "subplot(2,1,2)\n",
      "plot(T,vo)#,2,'012','',[0, 0, 310, 7]) ;\n",
      "plot(T,uo)#,2,'012','',[0 ,0 ,310, 7]) ;\n",
      "ylabel(\"OPERATING TIME\") ;\n",
      "xlabel(\"IMPEDANCE\") ;\n",
      "suptitle(\"Fig 10.5 (b) Coordination of dismath.tance relays , Operating time v/s Impedance\") ;\n",
      "text(0.1,0.3,'T_1') ;\n",
      "text(30,0.6,'R_12') ;\n",
      "text(58,1.3,'T_2') ;\n",
      "text(100,2.0,'R_12') ;\n",
      "text(160,3.0,'T_3') ;\n",
      "text(230,4.0,'R_12') ;\n",
      "text(160,0.6,'R_23') ;\n",
      "text(260,2.1,'R_23') ;\n",
      "\n",
      "# DISPLAY RESULTS\n",
      "print (\"EXAMPLE : 10.5 : SOLUTION :-\") ;\n",
      "print \" a The zone of protection for relay R_12 is shown in Fig 10.5 a \" ;\n",
      "print \"  ZONE 1 lies b/w 1 & B_21 \" ;\n",
      "print \"  ZONE 2 lies b/w 1 & TL_23 \" ;\n",
      "print \"  ZONE 3 lies after 1 \" ;\n",
      "print \" b The coordination of the dismath.tance relays R_12 & R_21 in terms of Operating time v/s Impedance is shown in Fig 10.5 b\" ;\n"
     ],
     "language": "python",
     "metadata": {},
     "outputs": [
      {
       "output_type": "stream",
       "stream": "stdout",
       "text": [
        "EXAMPLE : 10.5 : SOLUTION :-\n",
        " a The zone of protection for relay R_12 is shown in Fig 10.5 a \n",
        "  ZONE 1 lies b/w 1 & B_21 \n",
        "  ZONE 2 lies b/w 1 & TL_23 \n",
        "  ZONE 3 lies after 1 \n",
        " b The coordination of the dismath.tance relays R_12 & R_21 in terms of Operating time v/s Impedance is shown in Fig 10.5 b\n"
       ]
      },
      {
       "metadata": {},
       "output_type": "display_data",
       "png": "[encoded data removed]",
       "text": [
        "<matplotlib.figure.Figure at 0x10cb2bdd0>"
       ]
      }
     ],
     "prompt_number": 5
    },
    {
     "cell_type": "heading",
     "level": 2,
     "metadata": {},
     "source": [
      "Example 10.6  Page No : 560"
     ]
    },
    {
     "cell_type": "code",
     "collapsed": false,
     "input": [
      "import math \n",
      "\n",
      "# GIVEN DATA\n",
      "kv = 230 * 10**3 ; # transmission system voltage in V\n",
      "VA = 100 * 10**6 ; # Maximum peak load supplied by TL_12 in VA\n",
      "ZTL_12 = 2 + 1j * 20 ; # Positive-sequence impedances of line TL_12\n",
      "ZTL_23 = 2.5 + 1j * 25 ; # Positive-sequence impedances of line TL_23\n",
      "pf = 0.9 ; # Lagging pf\n",
      "\n",
      "# CALCULATIONS \n",
      "# For case (a)\n",
      "I_max = VA/(math.sqrt(3)*kv) ; # Maximum load current in A\n",
      "\n",
      "# For case (b)\n",
      "CT = 250/5 ; # CT ratio which gives about 5A in secondary winding under the maximum loading\n",
      "\n",
      "# For case (c)\n",
      "vr = 69 ; # selecting Secondary voltage of 69 V line to neutral\n",
      "VT = (kv/math.sqrt(3))/vr ; # Voltage ratio\n",
      "\n",
      "# For case (d)\n",
      "Z_r = CT/VT ; # impedance measured by relay . Z_r = (V/VT)/(I/CT)\n",
      "Z_TL_12 = Z_r * ZTL_12 ; # Impedance of lines TL_12 as seen by relay\n",
      "Z_TL_23 = Z_r * ZTL_23 ; # Impedance of lines TL_23 as seen by relay\n",
      "\n",
      "# For case (e)\n",
      "Z_load = vr * CT * (pf + 1j*math.sin(math.radians(math.acos(pf))))/(I_max) ; # Load impedance based on secondary ohms\n",
      "\n",
      "# For case (f)\n",
      "Z_r1 = 0.80 * Z_TL_12 ; # Zone 1 setting of relay R_12\n",
      "\n",
      "# For case (g)\n",
      "Z_r2 = 1.20 * Z_TL_12 ; # Zone 2 setting of relay R_12\n",
      "\n",
      "# For case (h)\n",
      "Z_r3 = Z_TL_12 + 1.20*(Z_TL_23) ; # Zone 3 setting of relay R_12\n",
      "\n",
      "# DISPLAY RESULTS\n",
      "print (\"EXAMPLE : 10.6 : SOLUTION :-\") ;\n",
      "print \" a) Maximum load current , I_max = %.2f A \"%(I_max) ;\n",
      "print \" b) CT ratio , CT = %.1f \"%(CT) ;\n",
      "print \" c) VT ratio , VT = %.1f \"%(VT) ;\n",
      "print \" d) Impedance measured by relay  = %.3f Z_line \"%(Z_r) ;\n",
      "print \" e) Load impedance based on secondary ohms %( Z_load = \u03a9secondary) \", ; print Z_load ;\n",
      "print \" f) Zone 1 setting of relay R_12 , Z_r = \u03a9secondary) \" ; print Z_r1 ;\n",
      "print \" g) Zone 2 setting of relay R_12 , Z_r = \u03a9secondary) \" ; print Z_r2 ;\n",
      "print \" h) Zone 3 setting of relay R_12 , Z_r = \u03a9secondary) \" ; print Z_r3 ;\n"
     ],
     "language": "python",
     "metadata": {},
     "outputs": [
      {
       "output_type": "stream",
       "stream": "stdout",
       "text": [
        "EXAMPLE : 10.6 : SOLUTION :-\n",
        " a) Maximum load current , I_max = 251.02 A \n",
        " b) CT ratio , CT = 50.0 \n",
        " c) VT ratio , VT = 1924.5 \n",
        " d) Impedance measured by relay  = 0.026 Z_line \n",
        " e) Load impedance based on secondary ohms %( Z_load = \u03a9secondary)  (12.3694408423+0.108188923746j)\n",
        " f) Zone 1 setting of relay R_12 , Z_r = \u03a9secondary) \n",
        "(0.0415692193817+0.415692193817j)\n",
        " g) Zone 2 setting of relay R_12 , Z_r = \u03a9secondary) \n",
        "(0.0623538290725+0.623538290725j)\n",
        " h) Zone 3 setting of relay R_12 , Z_r = \u03a9secondary) \n",
        "(0.129903810568+1.29903810568j)\n"
       ]
      }
     ],
     "prompt_number": 6
    },
    {
     "cell_type": "heading",
     "level": 2,
     "metadata": {},
     "source": [
      "Example 10.7  Page No : 561"
     ]
    },
    {
     "cell_type": "code",
     "collapsed": false,
     "input": [
      "import math \n",
      "\n",
      "# GIVEN DATA\n",
      "Z_r1 = 0.0415692 + 1j*0.4156922 ; # Required zone 1 setting . From result of exa 10.6\n",
      "Z_r2 = 0.0623538 + 1j*0.6235383 ; # Required zone 2 setting . From result of exa 10.6\n",
      "Z_r3 = 0.1299038 + 1j*1.2990381 ; # Required zone 3 setting . From result of exa 10.6\n",
      "\n",
      "# CALCULATIONS \n",
      "# For case (a)\n",
      "theta1 = degrees(arctan2(Z_r1.imag,Z_r1.real)) ;\n",
      "Z_1 = abs(Z_r1)/math.cos(math.radians(theta1 - 30)) ; # Zone 1 setting of mho relay R_12\n",
      "\n",
      "# For case (b)\n",
      "theta2 = degrees(arctan2(Z_r2.imag,Z_r2.real)) ;\n",
      "Z_2 = abs(Z_r2)/math.cos(math.radians(theta2 - 30)) ; # Zone 2 setting of mho relay R_12\n",
      "\n",
      "# For case (b)\n",
      "theta3 = degrees(arctan2(Z_r3.imag,Z_r3.real)) ;\n",
      "Z_3 = abs(Z_r3)/math.cos(math.radians(theta3 - 30)) ; # Zone 3 setting of mho relay R_12\n",
      "\n",
      "# DISPLAY RESULTS\n",
      "print (\"EXAMPLE : 10.7 : SOLUTION :-\") ;\n",
      "print \" a) Zone 1 setting of mho relay R_12 = %.4f \u03a9secondary \"%(Z_1) ;\n",
      "print \" b) Zone 2 setting of mho relay R_12 = %.4f \u03a9secondary \"%(Z_2) ;\n",
      "print \" c) Zone 3 setting of mho relay R_12 = %.4f \u03a9secondary \"%(Z_3) ;\n"
     ],
     "language": "python",
     "metadata": {},
     "outputs": [
      {
       "output_type": "stream",
       "stream": "stdout",
       "text": [
        "EXAMPLE : 10.7 : SOLUTION :-\n",
        " a) Zone 1 setting of mho relay R_12 = 0.7157 \u03a9secondary \n",
        " b) Zone 2 setting of mho relay R_12 = 1.0736 \u03a9secondary \n",
        " c) Zone 3 setting of mho relay R_12 = 2.2367 \u03a9secondary \n"
       ]
      }
     ],
     "prompt_number": 8
    }
   ],
   "metadata": {}
  }
 ]
}