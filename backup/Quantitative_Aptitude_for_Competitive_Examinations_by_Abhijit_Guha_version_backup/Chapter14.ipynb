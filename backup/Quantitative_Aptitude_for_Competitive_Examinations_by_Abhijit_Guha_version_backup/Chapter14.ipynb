{
 "cells": [
  {
   "cell_type": "markdown",
   "metadata": {},
   "source": [
    "# 14: Simple Interest"
   ]
  },
  {
   "cell_type": "markdown",
   "metadata": {},
   "source": [
    "## Example number 14.1, Page number 14.4"
   ]
  },
  {
   "cell_type": "code",
   "execution_count": 1,
   "metadata": {
    "collapsed": false
   },
   "outputs": [
    {
     "name": "stdout",
     "output_type": "stream",
     "text": [
      "simple interest in 1st case is 800.0 Rs\n",
      "simple interest in 2nd case is 10.0 Rs\n",
      "simple interest in 3rd case is 72.0 Rs\n",
      "simple interest in 4th case is 50.0 Rs\n",
      "simple interest in 5th case is 8.0 Rs\n",
      "simple interest in 6th case is 24.0 Rs\n"
     ]
    }
   ],
   "source": [
    "#importing modules\n",
    "import math\n",
    "from __future__ import division\n",
    "\n",
    "#Variable declaration\n",
    "P1=1000;    #principal(Rs)\n",
    "R1=20;    #rate(%)\n",
    "T1=4;     #time(years)\n",
    "P2=600;    #principal(Rs)\n",
    "R2=5;    #rate(%)\n",
    "T2=4/12;     #time(years)\n",
    "P3=200;    #principal(Rs)\n",
    "R3=6*2;    #rate(%)\n",
    "T3=3;     #time(years)\n",
    "P4=500;    #principal(Rs)\n",
    "R4=2*2;    #rate(%)\n",
    "T4=5/2;     #time(years)\n",
    "P5=400;    #principal(Rs)\n",
    "R5=3*4;    #rate(%)\n",
    "T5=2/12;     #time(years)\n",
    "P6=730;    #principal(Rs)\n",
    "R6=10;    #rate(%)\n",
    "T6=120/365;     #time(years)\n",
    "\n",
    "#Calculation\n",
    "SI1=P1*T1*R1/100;     #simple interest in 1st case(Rs)\n",
    "SI2=P2*T2*R2/100;     #simple interest in 2nd case(Rs)\n",
    "SI3=P3*T3*R3/100;     #simple interest in 3rd case(Rs)\n",
    "SI4=P4*T4*R4/100;     #simple interest in 4th case(Rs)\n",
    "SI5=P5*T5*R5/100;     #simple interest in 5th case(Rs)\n",
    "SI6=P6*T6*R6/100;     #simple interest in 1st case(Rs)\n",
    "\n",
    "#Result\n",
    "print \"simple interest in 1st case is\",SI1,\"Rs\"\n",
    "print \"simple interest in 2nd case is\",SI2,\"Rs\"\n",
    "print \"simple interest in 3rd case is\",SI3,\"Rs\"\n",
    "print \"simple interest in 4th case is\",SI4,\"Rs\"\n",
    "print \"simple interest in 5th case is\",SI5,\"Rs\"\n",
    "print \"simple interest in 6th case is\",SI6,\"Rs\""
   ]
  },
  {
   "cell_type": "markdown",
   "metadata": {},
   "source": [
    "## Example number 14.2, Page number 14.5"
   ]
  },
  {
   "cell_type": "code",
   "execution_count": 2,
   "metadata": {
    "collapsed": false
   },
   "outputs": [
    {
     "name": "stdout",
     "output_type": "stream",
     "text": [
      "amount in 1st case is 106.0 Rs\n",
      "amount in 2nd case is 510.0 Rs\n",
      "amount in 3rd case is 406.0 Rs\n",
      "time in 4th case is 5.0 years\n",
      "simple interest in 5th case is 120.0 Rs\n"
     ]
    }
   ],
   "source": [
    "#importing modules\n",
    "import math\n",
    "from __future__ import division\n",
    "\n",
    "#Variable declaration\n",
    "P1=100;    #principal(Rs)\n",
    "R1=3;    #rate(%)\n",
    "T1=2;     #time(years)\n",
    "P2=500;    #principal(Rs)\n",
    "R2=6;    #rate(%)\n",
    "T2=4/12;     #time(years)\n",
    "P3=400;    #principal(Rs)\n",
    "R3=3.65;    #rate(%)\n",
    "T3=150/365;     #time(years)\n",
    "A4=540;    #amount(Rs)\n",
    "R4=5;    #rate(%)\n",
    "SI4=108;     #simple interest(Rs)\n",
    "A5=1120;    #amount(Rs) \n",
    "R5=5;    #rate(%)\n",
    "T5=12/5;     #time(years)\n",
    "\n",
    "#Calculation\n",
    "A1=P1*(1+(R1*T1/100));       #amount in 1st case(Rs) \n",
    "A2=P2*(1+(R2*T2/100));       #amount in 2nd case(Rs) \n",
    "A3=P3*(1+(R3*T3/100));       #amount in 3rd case(Rs) \n",
    "x=(A4/SI4)-1;\n",
    "T4=100/(x*R4);      #time in 4th case(years)\n",
    "y=(100/(R5*T5))+1;\n",
    "SI5=A5/y;     #simple interest in 5th case(Rs)\n",
    "\n",
    "#Result\n",
    "print \"amount in 1st case is\",A1,\"Rs\"\n",
    "print \"amount in 2nd case is\",A2,\"Rs\"\n",
    "print \"amount in 3rd case is\",A3,\"Rs\"\n",
    "print \"time in 4th case is\",T4,\"years\"\n",
    "print \"simple interest in 5th case is\",SI5,\"Rs\""
   ]
  },
  {
   "cell_type": "markdown",
   "metadata": {},
   "source": [
    "## Example number 14.3, Page number 14.6"
   ]
  },
  {
   "cell_type": "code",
   "execution_count": 3,
   "metadata": {
    "collapsed": false
   },
   "outputs": [
    {
     "name": "stdout",
     "output_type": "stream",
     "text": [
      "principal is 1500.0 Rs\n"
     ]
    }
   ],
   "source": [
    "#importing modules\n",
    "import math\n",
    "from __future__ import division\n",
    "\n",
    "#Variable declaration\n",
    "SI=810;     #simple interest(Rs)\n",
    "R=9;    #rate(%)\n",
    "T=6;     #time(years)\n",
    "\n",
    "#Calculation\n",
    "P=100*SI/(R*T);     #principal(Rs)\n",
    "\n",
    "#Result\n",
    "print \"principal is\",P,\"Rs\""
   ]
  },
  {
   "cell_type": "markdown",
   "metadata": {},
   "source": [
    "## Example number 14.4, Page number 14.6"
   ]
  },
  {
   "cell_type": "code",
   "execution_count": 8,
   "metadata": {
    "collapsed": false
   },
   "outputs": [
    {
     "name": "stdout",
     "output_type": "stream",
     "text": [
      "rate is 12 1/2 %\n"
     ]
    }
   ],
   "source": [
    "#importing modules\n",
    "import math\n",
    "from __future__ import division\n",
    "from fractions import Fraction\n",
    "\n",
    "#Variable declaration\n",
    "T=8;     #time(years)\n",
    "N=2;    #number of times\n",
    "\n",
    "#Calculation\n",
    "R=100*(N-1)/T;     #rate(%)\n",
    "x=R-int(R);\n",
    "\n",
    "#Result\n",
    "print \"rate is\",int(R),Fraction(x),\"%\""
   ]
  },
  {
   "cell_type": "markdown",
   "metadata": {},
   "source": [
    "## Example number 14.5, Page number 14.6"
   ]
  },
  {
   "cell_type": "code",
   "execution_count": 9,
   "metadata": {
    "collapsed": false
   },
   "outputs": [
    {
     "name": "stdout",
     "output_type": "stream",
     "text": [
      "principal is 600.0 Rs\n"
     ]
    }
   ],
   "source": [
    "#importing modules\n",
    "import math\n",
    "from __future__ import division\n",
    "\n",
    "#Variable declaration\n",
    "R=5/2;    #rate(%)\n",
    "T=2;     #time(years)\n",
    "A=630;   #amount(Rs)\n",
    "\n",
    "#Calculation\n",
    "P=A/(1+(R*T/100));     #principal(Rs)\n",
    "\n",
    "#Result\n",
    "print \"principal is\",P,\"Rs\""
   ]
  },
  {
   "cell_type": "markdown",
   "metadata": {},
   "source": [
    "## Example number 14.6, Page number 14.6"
   ]
  },
  {
   "cell_type": "code",
   "execution_count": 10,
   "metadata": {
    "collapsed": false
   },
   "outputs": [
    {
     "name": "stdout",
     "output_type": "stream",
     "text": [
      "principal is 600.0 Rs\n",
      "rate is 10.0 %\n"
     ]
    }
   ],
   "source": [
    "#importing modules\n",
    "import math\n",
    "from __future__ import division\n",
    "\n",
    "#Variable declaration\n",
    "T1=2;     #time(years)\n",
    "A1=720;    #amount(Rs)\n",
    "T2=2+5;     #time(years)\n",
    "A2=1020;    #amount(Rs)\n",
    "\n",
    "#Calculation\n",
    "P=((A1*T2)-(A2*T1))/(T2-T1);      #principal(Rs)\n",
    "R=(A2-A1)*100/((A1*T2)-(A2*T1));     #rate(%)\n",
    "\n",
    "#Result\n",
    "print \"principal is\",P,\"Rs\"\n",
    "print \"rate is\",R,\"%\""
   ]
  },
  {
   "cell_type": "markdown",
   "metadata": {},
   "source": [
    "## Example number 14.7, Page number 14.6"
   ]
  },
  {
   "cell_type": "code",
   "execution_count": 11,
   "metadata": {
    "collapsed": false
   },
   "outputs": [
    {
     "name": "stdout",
     "output_type": "stream",
     "text": [
      "rate is 8.0 %\n",
      "time is 8.0 years\n"
     ]
    }
   ],
   "source": [
    "#importing modules\n",
    "import math\n",
    "from __future__ import division\n",
    "\n",
    "#Variable declaration\n",
    "P=1;    #assume\n",
    "SI=16*P/25;\n",
    "\n",
    "#Calculation\n",
    "#given T=R\n",
    "R_2=SI*100;\n",
    "R=math.sqrt(R_2);    #rate(%)\n",
    "T=R;       #time(years)\n",
    "\n",
    "#Result\n",
    "print \"rate is\",R,\"%\"\n",
    "print \"time is\",T,\"years\""
   ]
  },
  {
   "cell_type": "markdown",
   "metadata": {},
   "source": [
    "## Example number 14.8, Page number 14.7"
   ]
  },
  {
   "cell_type": "code",
   "execution_count": 13,
   "metadata": {
    "collapsed": false
   },
   "outputs": [
    {
     "name": "stdout",
     "output_type": "stream",
     "text": [
      "sum at 5% is 2125.0 Rs\n",
      "sum at 7% is 375.0 Rs\n",
      "answer given in the book is wrong\n"
     ]
    }
   ],
   "source": [
    "#importing modules\n",
    "import math\n",
    "from __future__ import division\n",
    "\n",
    "#Variable declaration\n",
    "P=2500;    #principal(Rs)\n",
    "SI=265;     #simple interest(Rs)\n",
    "T=2;     #time(years)\n",
    "r1=5;   #rate(%)\n",
    "r2=7;   #rate(%)\n",
    "\n",
    "#Calculation\n",
    "Rm=100*SI/(T*P);     #rate of interest(%)\n",
    "S1=r2-Rm;     #sum borrowed at 5%\n",
    "S2=Rm-r1;     #sum borrowed at 7%\n",
    "S_5=S1*P/(S1+S2);     #sum at 5%(Rs)\n",
    "S_7=S2*P/(S1+S2);     #sum at 7%(Rs)\n",
    "\n",
    "#Result\n",
    "print \"sum at 5% is\",S_5,\"Rs\"\n",
    "print \"sum at 7% is\",S_7,\"Rs\"\n",
    "print \"answer given in the book is wrong\""
   ]
  },
  {
   "cell_type": "markdown",
   "metadata": {},
   "source": [
    "## Example number 14.9, Page number 14.7"
   ]
  },
  {
   "cell_type": "code",
   "execution_count": 14,
   "metadata": {
    "collapsed": false
   },
   "outputs": [
    {
     "name": "stdout",
     "output_type": "stream",
     "text": [
      "principal is 5000.0 Rs\n"
     ]
    }
   ],
   "source": [
    "#importing modules\n",
    "import math\n",
    "from __future__ import division\n",
    "\n",
    "#Variable declaration\n",
    "p1=1/3;    #1st part\n",
    "p2=1/6;    #2nd part\n",
    "r1=3;      #rate(%)\n",
    "r2=6;      #rate(%)\n",
    "r3=8;      #rate(%)\n",
    "SI=600;     #simple interest(Rs)\n",
    "T=2;     #time(years)\n",
    "\n",
    "#Calculation\n",
    "p3=1-(p1+p2);    #rest part\n",
    "R=(p1*r1)+(p2*r2)+(p3*r3);     #average rate(%)\n",
    "P=100*SI/(R*T);     #principal(Rs)\n",
    "\n",
    "#Result\n",
    "print \"principal is\",P,\"Rs\""
   ]
  },
  {
   "cell_type": "markdown",
   "metadata": {},
   "source": [
    "## Example number 14.10, Page number 14.7"
   ]
  },
  {
   "cell_type": "code",
   "execution_count": 15,
   "metadata": {
    "collapsed": false
   },
   "outputs": [
    {
     "name": "stdout",
     "output_type": "stream",
     "text": [
      "annual installment is Rs 700.0 per year\n"
     ]
    }
   ],
   "source": [
    "#importing modules\n",
    "import math\n",
    "from __future__ import division\n",
    "\n",
    "#Variable declaration\n",
    "M=4200;    #debt(Rs)\n",
    "n=5;    #number of years\n",
    "y=1;\n",
    "r=10;   #rate(%)\n",
    "\n",
    "#Calculation\n",
    "x=n*(n-1)/2;\n",
    "z=x*r/(100*y);\n",
    "a=M/(n+z);       #annual installment(Rs)\n",
    "\n",
    "#Result\n",
    "print \"annual installment is Rs\",a,\"per year\""
   ]
  },
  {
   "cell_type": "markdown",
   "metadata": {},
   "source": [
    "## Example number 14.11, Page number 14.7"
   ]
  },
  {
   "cell_type": "code",
   "execution_count": 16,
   "metadata": {
    "collapsed": false
   },
   "outputs": [
    {
     "name": "stdout",
     "output_type": "stream",
     "text": [
      "rate is 400.0 %\n"
     ]
    }
   ],
   "source": [
    "#importing modules\n",
    "import math\n",
    "from __future__ import division\n",
    "\n",
    "#Variable declaration\n",
    "M=2;    #debt(Rs)\n",
    "n=3;    #number of years\n",
    "y=12;\n",
    "a=1;   #annual installment(Rs)\n",
    "\n",
    "#Calculation\n",
    "x=n*(n-1)/2;\n",
    "z=x*a/(100*y);\n",
    "r=(-M+(n*a))/z;       #rate(%)\n",
    "\n",
    "#Result\n",
    "print \"rate is\",r,\"%\""
   ]
  },
  {
   "cell_type": "markdown",
   "metadata": {},
   "source": [
    "## Example number 14.12, Page number 14.8"
   ]
  },
  {
   "cell_type": "code",
   "execution_count": 17,
   "metadata": {
    "collapsed": false
   },
   "outputs": [
    {
     "name": "stdout",
     "output_type": "stream",
     "text": [
      "amount is 122.0 Rs\n"
     ]
    }
   ],
   "source": [
    "#importing modules\n",
    "import math\n",
    "from __future__ import division\n",
    "\n",
    "#Variable declaration\n",
    "R1=R2=1;     #assume\n",
    "T1=3;     #time(years)\n",
    "A1=95;    #amount(Rs)\n",
    "T2=5;     #time(years)\n",
    "P1=85;     #principal(Rs)\n",
    "P2=102;     #principal(Rs)\n",
    "\n",
    "#Calculation\n",
    "A2=((A1-P1)*P2*T2*R2/(P1*R1*T1))+P2;       #amount(Rs)\n",
    "\n",
    "#Result\n",
    "print \"amount is\",A2,\"Rs\""
   ]
  },
  {
   "cell_type": "markdown",
   "metadata": {},
   "source": [
    "## Example number 14.13, Page number 14.8"
   ]
  },
  {
   "cell_type": "code",
   "execution_count": 18,
   "metadata": {
    "collapsed": false
   },
   "outputs": [
    {
     "name": "stdout",
     "output_type": "stream",
     "text": [
      "principal is 700.0 Rs\n"
     ]
    }
   ],
   "source": [
    "#importing modules\n",
    "import math\n",
    "from __future__ import division\n",
    "\n",
    "#Variable declaration\n",
    "R1_R2=2;       #change in rate(%)\n",
    "SI1_SI2=56;     #change in simple interest(Rs)\n",
    "T=4;      #time(years)\n",
    "\n",
    "#Calculation\n",
    "P=100*SI1_SI2/(R1_R2*T);     #principal(Rs)\n",
    "\n",
    "#Result\n",
    "print \"principal is\",P,\"Rs\""
   ]
  },
  {
   "cell_type": "markdown",
   "metadata": {},
   "source": [
    "## Example number 14.14, Page number 14.8"
   ]
  },
  {
   "cell_type": "code",
   "execution_count": 19,
   "metadata": {
    "collapsed": false
   },
   "outputs": [
    {
     "name": "stdout",
     "output_type": "stream",
     "text": [
      "sum lent out is 600.0 Rs\n"
     ]
    }
   ],
   "source": [
    "#importing modules\n",
    "import math\n",
    "from __future__ import division\n",
    "\n",
    "#Variable declaration\n",
    "R1=8;     #rate(%)\n",
    "R2=1/2;    #rate(%)\n",
    "T1=5;     #time(years)\n",
    "T2=15;     #time(years)\n",
    "P=3800;    #principal(Rs) \n",
    "\n",
    "P1=T2;     #principal(Rs)\n",
    "P2=2*R1*T1;     #principal(Rs)\n",
    "P1=P1*P/(P1+P2);     #sum lent out(Rs)\n",
    "\n",
    "#Result\n",
    "print \"sum lent out is\",P1,\"Rs\""
   ]
  },
  {
   "cell_type": "markdown",
   "metadata": {},
   "source": [
    "## Example number 14.15, Page number 14.8"
   ]
  },
  {
   "cell_type": "code",
   "execution_count": 24,
   "metadata": {
    "collapsed": false
   },
   "outputs": [
    {
     "name": "stdout",
     "output_type": "stream",
     "text": [
      "principal is 13.33 Rs\n",
      "time is 100.0 years\n"
     ]
    }
   ],
   "source": [
    "#importing modules\n",
    "import math\n",
    "from __future__ import division\n",
    "\n",
    "#Variable declaration\n",
    "R1=5;     #rate(%)\n",
    "A1=80;    #amount(Rs)\n",
    "R2=2;     #rate(%)\n",
    "A2=40;    #amount(Rs)\n",
    "\n",
    "#Calculation\n",
    "P=((A1*R2)-(A2*R1))/(R2-R1);      #principal(Rs)\n",
    "T=(A2-A1)*100/((A1*R2)-(A2*R1));     #time(years)\n",
    "\n",
    "#Result\n",
    "print \"principal is\",round(P,2),\"Rs\"\n",
    "print \"time is\",T,\"years\""
   ]
  }
 ],
 "metadata": {
  "kernelspec": {
   "display_name": "Python 2",
   "language": "python",
   "name": "python2"
  },
  "language_info": {
   "codemirror_mode": {
    "name": "ipython",
    "version": 2
   },
   "file_extension": ".py",
   "mimetype": "text/x-python",
   "name": "python",
   "nbconvert_exporter": "python",
   "pygments_lexer": "ipython2",
   "version": "2.7.9"
  }
 },
 "nbformat": 4,
 "nbformat_minor": 0
}
