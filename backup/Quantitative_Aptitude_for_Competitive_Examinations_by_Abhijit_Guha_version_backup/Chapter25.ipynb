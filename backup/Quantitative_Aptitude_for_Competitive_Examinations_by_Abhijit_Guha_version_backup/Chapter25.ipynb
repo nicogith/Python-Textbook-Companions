{
 "cells": [
  {
   "cell_type": "markdown",
   "metadata": {},
   "source": [
    "# 25: Volume and area of solid figures"
   ]
  },
  {
   "cell_type": "markdown",
   "metadata": {},
   "source": [
    "## Example number 25.1, Page number 25.8"
   ]
  },
  {
   "cell_type": "code",
   "execution_count": 1,
   "metadata": {
    "collapsed": false
   },
   "outputs": [
    {
     "name": "stdout",
     "output_type": "stream",
     "text": [
      "length of diagonal is 23.75 m\n",
      "surface area is 880 m**2\n",
      "volume is 1600 m**3\n"
     ]
    }
   ],
   "source": [
    "#importing modules\n",
    "import math\n",
    "from __future__ import division\n",
    "\n",
    "#Variable declaration\n",
    "l=20;     #length of cuboid(m)\n",
    "b=10;     #breadth of cuboid(m)\n",
    "h=8;      #height of cuboid(m)\n",
    "\n",
    "#Calculation\n",
    "d=math.sqrt(l**2+b**2+h**2);     #length of diagonal(m)\n",
    "S=2*((l*b)+(b*h)+(l*h));         #surface area(m**2)\n",
    "V=l*b*h;      #volume(m**3)\n",
    "\n",
    "#Result\n",
    "print \"length of diagonal is\",round(d,2),\"m\"\n",
    "print \"surface area is\",S,\"m**2\"\n",
    "print \"volume is\",V,\"m**3\""
   ]
  },
  {
   "cell_type": "markdown",
   "metadata": {},
   "source": [
    "## Example number 25.2, Page number 25.8"
   ]
  },
  {
   "cell_type": "code",
   "execution_count": 2,
   "metadata": {
    "collapsed": false
   },
   "outputs": [
    {
     "name": "stdout",
     "output_type": "stream",
     "text": [
      "length of diagonal is 20.78 m\n",
      "surface area is 864 m**2\n",
      "volume is 1728 m**3\n"
     ]
    }
   ],
   "source": [
    "#importing modules\n",
    "import math\n",
    "from __future__ import division\n",
    "\n",
    "#Variable declaration\n",
    "e=12;     #edge(m)\n",
    "\n",
    "#Calculation\n",
    "d=e*math.sqrt(3);     #length of diagonal(m)\n",
    "S=6*(e**2);         #surface area(m**2)\n",
    "V=e**3;      #volume(m**3)\n",
    "\n",
    "#Result\n",
    "print \"length of diagonal is\",round(d,2),\"m\"\n",
    "print \"surface area is\",S,\"m**2\"\n",
    "print \"volume is\",V,\"m**3\""
   ]
  },
  {
   "cell_type": "markdown",
   "metadata": {},
   "source": [
    "## Example number 25.3, Page number 25.8"
   ]
  },
  {
   "cell_type": "code",
   "execution_count": 3,
   "metadata": {
    "collapsed": false
   },
   "outputs": [
    {
     "name": "stdout",
     "output_type": "stream",
     "text": [
      "volume is 1331.0 m**3\n"
     ]
    }
   ],
   "source": [
    "#importing modules\n",
    "import math\n",
    "from __future__ import division\n",
    "\n",
    "#Variable declaration\n",
    "S=726;      #surface area(m**2)\n",
    "\n",
    "#Calculation\n",
    "V=(math.sqrt(S/6))**3;      #volume(m**3)\n",
    "\n",
    "#Result\n",
    "print \"volume is\",V,\"m**3\""
   ]
  },
  {
   "cell_type": "markdown",
   "metadata": {},
   "source": [
    "## Example number 25.4, Page number 25.8"
   ]
  },
  {
   "cell_type": "code",
   "execution_count": 4,
   "metadata": {
    "collapsed": false
   },
   "outputs": [
    {
     "name": "stdout",
     "output_type": "stream",
     "text": [
      "volume is 7999.0 m**3\n",
      "answer varies due to rounding off errors\n"
     ]
    }
   ],
   "source": [
    "#importing modules\n",
    "import math\n",
    "from __future__ import division\n",
    "\n",
    "#Variable declaration\n",
    "d=34.64;       #length of diagonal(m)\n",
    "\n",
    "#Calculation\n",
    "V=(d/math.sqrt(3))**3;      #volume(m**3)\n",
    "\n",
    "#Result\n",
    "print \"volume is\",round(V),\"m**3\"\n",
    "print \"answer varies due to rounding off errors\""
   ]
  },
  {
   "cell_type": "markdown",
   "metadata": {},
   "source": [
    "## Example number 25.5, Page number 25.8"
   ]
  },
  {
   "cell_type": "code",
   "execution_count": 5,
   "metadata": {
    "collapsed": false
   },
   "outputs": [
    {
     "name": "stdout",
     "output_type": "stream",
     "text": [
      "volume of wood is 82125.0 cm**3\n"
     ]
    }
   ],
   "source": [
    "#importing modules\n",
    "import math\n",
    "from __future__ import division\n",
    "\n",
    "#Variable declaration\n",
    "l=115;     #length of box(cm)\n",
    "b=75;     #breadth of box(cm)\n",
    "h=35;      #height of box(cm)\n",
    "t=2.5;     #thickness(cm)\n",
    "\n",
    "#Calculation\n",
    "IV=l*b*h;      #internal volume(cm**3)\n",
    "EV=(l+(2*t))*(b+(2*t))*(h+(2*t));      #external volume(cm**3)\n",
    "V=EV-IV;       #volume of wood(cm**3)\n",
    "\n",
    "#Result\n",
    "print \"volume of wood is\",V,\"cm**3\""
   ]
  },
  {
   "cell_type": "markdown",
   "metadata": {},
   "source": [
    "## Example number 25.6, Page number 25.9"
   ]
  },
  {
   "cell_type": "code",
   "execution_count": 6,
   "metadata": {
    "collapsed": false
   },
   "outputs": [
    {
     "name": "stdout",
     "output_type": "stream",
     "text": [
      "thickness is 0.01 cm\n"
     ]
    }
   ],
   "source": [
    "#importing modules\n",
    "import math\n",
    "from __future__ import division\n",
    "\n",
    "#Variable declaration\n",
    "V=1;      #volume(m**3)\n",
    "A=10000;   #area(m**2)\n",
    "\n",
    "#Calculation\n",
    "x=V*100/A;    #thickness(cm)\n",
    "\n",
    "#Result\n",
    "print \"thickness is\",x,\"cm\""
   ]
  },
  {
   "cell_type": "markdown",
   "metadata": {},
   "source": [
    "## Example number 25.7, Page number 25.9"
   ]
  },
  {
   "cell_type": "code",
   "execution_count": 7,
   "metadata": {
    "collapsed": false
   },
   "outputs": [
    {
     "name": "stdout",
     "output_type": "stream",
     "text": [
      "time to empty is 116.71 hours\n",
      "answer varies due to rounding off errors\n"
     ]
    }
   ],
   "source": [
    "#importing modules\n",
    "import math\n",
    "from __future__ import division\n",
    "\n",
    "#Variable declaration\n",
    "V=54*44*10;     #volume of reservoir(m**3)\n",
    "R=3/100;        #radius(m)\n",
    "r=20;     #empty rate(m)\n",
    "\n",
    "#Calculation\n",
    "A=math.pi*R**2;    #area of pipe(m**2)\n",
    "t=V/(A*r);      #time to empty(sec)\n",
    "\n",
    "#Result\n",
    "print \"time to empty is\",round(t/3600,2),\"hours\"\n",
    "print \"answer varies due to rounding off errors\""
   ]
  },
  {
   "cell_type": "markdown",
   "metadata": {},
   "source": [
    "## Example number 25.8, Page number 25.9"
   ]
  },
  {
   "cell_type": "code",
   "execution_count": 8,
   "metadata": {
    "collapsed": false
   },
   "outputs": [
    {
     "name": "stdout",
     "output_type": "stream",
     "text": [
      "depth of rain is 2.0 cm\n"
     ]
    }
   ],
   "source": [
    "#importing modules\n",
    "import math\n",
    "from __future__ import division\n",
    "\n",
    "#Variable declaration\n",
    "V=3000;      #volume of water(m**3)\n",
    "A=500*300;   #surface area(m**2)\n",
    "\n",
    "#Calculation\n",
    "x=V*100/A;    #depth of rain(cm)\n",
    "\n",
    "#Result\n",
    "print \"depth of rain is\",x,\"cm\""
   ]
  },
  {
   "cell_type": "markdown",
   "metadata": {},
   "source": [
    "## Example number 25.9, Page number 25.9"
   ]
  },
  {
   "cell_type": "code",
   "execution_count": 9,
   "metadata": {
    "collapsed": false
   },
   "outputs": [
    {
     "name": "stdout",
     "output_type": "stream",
     "text": [
      "base area is 6.0 m**2\n",
      "volume is 60.0 m**3\n"
     ]
    }
   ],
   "source": [
    "#importing modules\n",
    "import math\n",
    "from __future__ import division\n",
    "\n",
    "#Variable declaration\n",
    "a=3;\n",
    "b=4;\n",
    "c=5;     #sides of a triangle(m)\n",
    "h=10;    #height of prism(m)\n",
    "\n",
    "#Calculation\n",
    "s=(a+b+c)/2;     #semi perimeter(m)\n",
    "A=math.sqrt(s*(s-a)*(s-b)*(s-c));    #base area(m**2)\n",
    "V=A*h;      #volume(m**3)\n",
    "\n",
    "#Result\n",
    "print \"base area is\",A,\"m**2\"\n",
    "print \"volume is\",V,\"m**3\""
   ]
  },
  {
   "cell_type": "markdown",
   "metadata": {},
   "source": [
    "## Example number 25.10, Page number 25.9"
   ]
  },
  {
   "cell_type": "code",
   "execution_count": 10,
   "metadata": {
    "collapsed": false
   },
   "outputs": [
    {
     "name": "stdout",
     "output_type": "stream",
     "text": [
      "volume is 509 m**3\n"
     ]
    }
   ],
   "source": [
    "#importing modules\n",
    "import math\n",
    "from __future__ import division\n",
    "\n",
    "#Variable declaration\n",
    "a=7;     #base of triangle(m)\n",
    "h=24;    #height(m)\n",
    "\n",
    "#Calculation\n",
    "A=math.sqrt(3)*(a**2)/4;     #base area(m**2)\n",
    "V=A*h;    #volume(m**3)\n",
    "\n",
    "#Result\n",
    "print \"volume is\",int(V),\"m**3\""
   ]
  },
  {
   "cell_type": "markdown",
   "metadata": {},
   "source": [
    "## Example number 25.11, Page number 25.10"
   ]
  },
  {
   "cell_type": "code",
   "execution_count": 11,
   "metadata": {
    "collapsed": false
   },
   "outputs": [
    {
     "name": "stdout",
     "output_type": "stream",
     "text": [
      "weight of wire is 2909.0 kg\n",
      "answer varies due to rounding off errors\n"
     ]
    }
   ],
   "source": [
    "#importing modules\n",
    "import math\n",
    "from __future__ import division\n",
    "\n",
    "#Variable declaration\n",
    "h=300*10**3;      #height(m)\n",
    "d=1/9*10**-2;     #diameter(m)\n",
    "w=270;     #weight of copper wire(kg)\n",
    "v=0.027;   #per m**3\n",
    "\n",
    "#Calculation\n",
    "A=math.pi*(d**2)/4;    #area(m**2)\n",
    "V=A*h;      #volume of wire(m**3)\n",
    "W=V*w/v;    #weight of wire(kg) \n",
    "\n",
    "#Result\n",
    "print \"weight of wire is\",round(W),\"kg\"\n",
    "print \"answer varies due to rounding off errors\""
   ]
  },
  {
   "cell_type": "markdown",
   "metadata": {},
   "source": [
    "## Example number 25.12, Page number 25.10"
   ]
  },
  {
   "cell_type": "code",
   "execution_count": 12,
   "metadata": {
    "collapsed": false
   },
   "outputs": [
    {
     "name": "stdout",
     "output_type": "stream",
     "text": [
      "number of discharge pipes is 4.0\n"
     ]
    }
   ],
   "source": [
    "#importing modules\n",
    "import math\n",
    "from __future__ import division\n",
    "\n",
    "#Variable declaration\n",
    "r1=6/2;     #radius of 1 pipe(cm)\n",
    "r2=3/2;     #radius of another pipe(cm)\n",
    "h=1;    #assume\n",
    "\n",
    "#Calculation\n",
    "V1=math.pi*r1**2*h;    #volume of water in supply pipe(cm**3)\n",
    "V2=math.pi*r2**2*h;    #volume of water in discharge pipe(cm**3)\n",
    "N=V1/V2;     #number of discharge pipes\n",
    "\n",
    "#Result\n",
    "print \"number of discharge pipes is\",N"
   ]
  },
  {
   "cell_type": "markdown",
   "metadata": {},
   "source": [
    "## Example number 25.13, Page number 25.10"
   ]
  },
  {
   "cell_type": "code",
   "execution_count": 13,
   "metadata": {
    "collapsed": false
   },
   "outputs": [
    {
     "name": "stdout",
     "output_type": "stream",
     "text": [
      "weight of iron is 108.0 kg\n"
     ]
    }
   ],
   "source": [
    "#importing modules\n",
    "import math\n",
    "from __future__ import division\n",
    "\n",
    "#Variable declaration\n",
    "di=10/100;     #internal diameter(m)\n",
    "de=12/100;     #external diameter(m)\n",
    "l=4;    #length(m)\n",
    "w=7800;    #weight of iron(kg)\n",
    "\n",
    "#Calculation\n",
    "V=math.pi*l*(de**2-di**2)/4;    #volume of iron(m**3)\n",
    "W=V*w;      #weight of iron(kg)\n",
    "\n",
    "#Result\n",
    "print \"weight of iron is\",round(W),\"kg\""
   ]
  },
  {
   "cell_type": "markdown",
   "metadata": {},
   "source": [
    "## Example number 25.14, Page number 25.10"
   ]
  },
  {
   "cell_type": "code",
   "execution_count": 19,
   "metadata": {
    "collapsed": false
   },
   "outputs": [
    {
     "name": "stdout",
     "output_type": "stream",
     "text": [
      "volume of pyramid is 166.67 m**3\n",
      "lateral surface is 150.0 m**2\n"
     ]
    }
   ],
   "source": [
    "#importing modules\n",
    "import math\n",
    "from __future__ import division\n",
    "\n",
    "#Variable declaration\n",
    "h=10;    #height of pyramid(m)\n",
    "d=10;    #length of diagonal(m)\n",
    "\n",
    "#Calculation\n",
    "A=d**2/2;    #base area(m**2)\n",
    "V=A*h/3;     #volume of pyramid(m**3)\n",
    "a=d/math.sqrt(2);    #side of square(m)\n",
    "p=4*a;    #base perimeter(m)\n",
    "x=(h**2)+(a/2)**2;     \n",
    "l=math.sqrt(x);   #slant height(m)\n",
    "Ls=p*l/2;   #lateral surface(m**2)\n",
    "\n",
    "#Result\n",
    "print \"volume of pyramid is\",round(V,2),\"m**3\"\n",
    "print \"lateral surface is\",Ls,\"m**2\""
   ]
  }
 ],
 "metadata": {
  "kernelspec": {
   "display_name": "Python 2",
   "language": "python",
   "name": "python2"
  },
  "language_info": {
   "codemirror_mode": {
    "name": "ipython",
    "version": 2
   },
   "file_extension": ".py",
   "mimetype": "text/x-python",
   "name": "python",
   "nbconvert_exporter": "python",
   "pygments_lexer": "ipython2",
   "version": "2.7.9"
  }
 },
 "nbformat": 4,
 "nbformat_minor": 0
}
