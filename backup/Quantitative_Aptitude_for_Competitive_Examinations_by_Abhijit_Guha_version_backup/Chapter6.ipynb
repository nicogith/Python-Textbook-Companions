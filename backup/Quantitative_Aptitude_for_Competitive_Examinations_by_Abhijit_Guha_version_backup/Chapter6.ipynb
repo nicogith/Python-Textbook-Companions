{
 "cells": [
  {
   "cell_type": "markdown",
   "metadata": {},
   "source": [
    "#6: Average"
   ]
  },
  {
   "cell_type": "markdown",
   "metadata": {},
   "source": [
    "##Example number 6.1 Page number 6.5"
   ]
  },
  {
   "cell_type": "code",
   "execution_count": 2,
   "metadata": {
    "collapsed": false
   },
   "outputs": [
    {
     "name": "stdout",
     "output_type": "stream",
     "text": [
      "average age of students in both sections is 10.86 years\n"
     ]
    }
   ],
   "source": [
    "#importing modules\n",
    "import math\n",
    "from __future__ import division\n",
    "\n",
    "#Variable declaration\n",
    "m=40;       #number of students in A\n",
    "a=10;       #average age in A\n",
    "b=12;       #average age in B\n",
    "n=30;       #number of students in B\n",
    "\n",
    "#Calculation\n",
    "average=((m*a)+(n*b))/(m+n);    #average age of students in both sections\n",
    "\n",
    "#Result\n",
    "print \"average age of students in both sections is\",round(average,2),\"years\""
   ]
  },
  {
   "cell_type": "markdown",
   "metadata": {},
   "source": [
    "##Example number 6.2 Page number 6.5"
   ]
  },
  {
   "cell_type": "code",
   "execution_count": 3,
   "metadata": {
    "collapsed": false
   },
   "outputs": [
    {
     "name": "stdout",
     "output_type": "stream",
     "text": [
      "average of 2 numbers is 9.0\n"
     ]
    }
   ],
   "source": [
    "#importing modules\n",
    "import math\n",
    "from __future__ import division\n",
    "\n",
    "#Variable declaration\n",
    "m=5;   #number of quantities\n",
    "n=3;   #number of quantities\n",
    "a=6;   #average of 5 quantities\n",
    "b=4;   #average of 3 quantities\n",
    "\n",
    "#Calculation\n",
    "average=((m*a)-(n*b))/(m-n);     #average of 2 numbers\n",
    "\n",
    "#Result\n",
    "print \"average of 2 numbers is\",average"
   ]
  },
  {
   "cell_type": "markdown",
   "metadata": {},
   "source": [
    "##Example number 6.3 Page number 6.5"
   ]
  },
  {
   "cell_type": "code",
   "execution_count": 4,
   "metadata": {
    "collapsed": false
   },
   "outputs": [
    {
     "name": "stdout",
     "output_type": "stream",
     "text": [
      "average price of pen is 12.0 Rs\n"
     ]
    }
   ],
   "source": [
    "#importing modules\n",
    "import math\n",
    "from __future__ import division\n",
    "\n",
    "#Variable declaration\n",
    "m=30;    #number of pens\n",
    "n=75;    #number of pencils\n",
    "p=2;     #average price of pencil\n",
    "S=510;   #cost of pens and pencils\n",
    "\n",
    "#Calculation\n",
    "y=(S-(n*p))/m;    #average price of pen(Rs)\n",
    "\n",
    "#Result\n",
    "print \"average price of pen is\",y,\"Rs\""
   ]
  },
  {
   "cell_type": "markdown",
   "metadata": {},
   "source": [
    "##Example number 6.4 Page number 6.5"
   ]
  },
  {
   "cell_type": "code",
   "execution_count": 6,
   "metadata": {
    "collapsed": false
   },
   "outputs": [
    {
     "name": "stdout",
     "output_type": "stream",
     "text": [
      "age of A is 22.0 years\n",
      "age of B is 18.0 years\n",
      "age of C is 20.0 years\n"
     ]
    }
   ],
   "source": [
    "#importing modules\n",
    "import math\n",
    "from __future__ import division\n",
    "\n",
    "#Variable declaration\n",
    "aplusb=2*20;    #average age of A and B\n",
    "bplusc=2*19;    #average age of B and C\n",
    "cplusa=2*21;    #average age of C and A\n",
    "\n",
    "#Calculation\n",
    "aplusbplusc=(aplusb+bplusc+cplusa)/2;\n",
    "a=aplusbplusc-bplusc;    #age of A(years)\n",
    "b=aplusbplusc-cplusa;    #age of B(years)\n",
    "c=aplusbplusc-aplusb;    #age of C(years)\n",
    "\n",
    "#Result\n",
    "print \"age of A is\",a,\"years\"\n",
    "print \"age of B is\",b,\"years\"\n",
    "print \"age of C is\",c,\"years\""
   ]
  },
  {
   "cell_type": "markdown",
   "metadata": {},
   "source": [
    "##Example number 6.5 Page number 6.6"
   ]
  },
  {
   "cell_type": "code",
   "execution_count": 7,
   "metadata": {
    "collapsed": false
   },
   "outputs": [
    {
     "name": "stdout",
     "output_type": "stream",
     "text": [
      "average monthly income is 2805.0 Rs\n"
     ]
    }
   ],
   "source": [
    "#importing modules\n",
    "import math\n",
    "from __future__ import division\n",
    "\n",
    "#Variable declaration\n",
    "e1=2200;     #average monthly expenditure for 3 months(Rs)\n",
    "n1=3;     #number of months in 1st case\n",
    "e2=2550;     #average monthly expenditure for 4 months(Rs)\n",
    "n2=4;     #number of months in 2nd case\n",
    "e3=3120;     #average monthly expenditure for 5 months(Rs)\n",
    "n3=5;     #number of months in 3rd case\n",
    "s=1260;    #total saving(Rs)\n",
    "\n",
    "#Calculation\n",
    "I=(e1*n1)+(e2*n2)+(e3*n3)+s;     #total yearly income(Rs)\n",
    "average=I/12;     #average monthly income(Rs)\n",
    "\n",
    "#Result\n",
    "print \"average monthly income is\",average,\"Rs\""
   ]
  },
  {
   "cell_type": "markdown",
   "metadata": {},
   "source": [
    "##Example number 6.6 Page number 6.6"
   ]
  },
  {
   "cell_type": "code",
   "execution_count": 9,
   "metadata": {
    "collapsed": false
   },
   "outputs": [
    {
     "name": "stdout",
     "output_type": "stream",
     "text": [
      "temperature of tuesday is 36 C\n"
     ]
    }
   ],
   "source": [
    "#importing modules\n",
    "import math\n",
    "from __future__ import division\n",
    "\n",
    "#Variable declaration\n",
    "TWT=37;     #average temperature on tuesday, wednesday, thursday(C)\n",
    "FWT=38;     #average temperature on wednesday, thursday, friday(C)\n",
    "R=39;      #temperature on friday(C)\n",
    "n=3;      #number of quantities\n",
    "\n",
    "#Calculation\n",
    "T=R-((FWT-TWT)*n);     #temperature of tuesday(C)\n",
    "\n",
    "#Result\n",
    "print \"temperature of tuesday is\",T,\"C\""
   ]
  },
  {
   "cell_type": "markdown",
   "metadata": {},
   "source": [
    "##Example number 6.7 Page number 6.6"
   ]
  },
  {
   "cell_type": "code",
   "execution_count": 10,
   "metadata": {
    "collapsed": false
   },
   "outputs": [
    {
     "name": "stdout",
     "output_type": "stream",
     "text": [
      "temperature of september is 26 C\n"
     ]
    }
   ],
   "source": [
    "#importing modules\n",
    "import math\n",
    "from __future__ import division\n",
    "\n",
    "#Variable declaration\n",
    "n=3;      #number of quantities\n",
    "J=29;     #temperature of june(C)\n",
    "JJA=31;   #average temperature of june, july august(C)\n",
    "JAS=30;   #average temperature of july, august, september(C)\n",
    "\n",
    "#Calculation\n",
    "S=J+((JAS-JJA)*n);     #temperature of september(C)\n",
    "\n",
    "#Result\n",
    "print \"temperature of september is\",S,\"C\""
   ]
  },
  {
   "cell_type": "markdown",
   "metadata": {},
   "source": [
    "##Example number 6.8 Page number 6.6"
   ]
  },
  {
   "cell_type": "code",
   "execution_count": 11,
   "metadata": {
    "collapsed": false
   },
   "outputs": [
    {
     "name": "stdout",
     "output_type": "stream",
     "text": [
      "weight of teacher is 63.0 kg\n"
     ]
    }
   ],
   "source": [
    "#importing modules\n",
    "import math\n",
    "from __future__ import division\n",
    "\n",
    "#Variable declaration\n",
    "n1=29;     #number of students in class\n",
    "n2=30;     #number when teacher is included\n",
    "w1=48;     #average weight of 29 students(kg)\n",
    "w=0.5;    #change in average weight of 30 members(kg)\n",
    "\n",
    "#Calculation\n",
    "wt=((n2-n1)*w1)+(w*n2);    #weight of teacher(kg)\n",
    "\n",
    "#Result\n",
    "print \"weight of teacher is\",wt,\"kg\""
   ]
  },
  {
   "cell_type": "markdown",
   "metadata": {},
   "source": [
    "##Example number 6.9 Page number 6.7"
   ]
  },
  {
   "cell_type": "code",
   "execution_count": 12,
   "metadata": {
    "collapsed": false
   },
   "outputs": [
    {
     "name": "stdout",
     "output_type": "stream",
     "text": [
      "weight of boy who left the class is 49.9 kg\n"
     ]
    }
   ],
   "source": [
    "#importing modules\n",
    "import math\n",
    "from __future__ import division\n",
    "\n",
    "#Variable declaration\n",
    "n1=50;    #number of boys in class\n",
    "w1=45;    #original average(kg)\n",
    "n2=49;    #number of boys when one leaves the class\n",
    "dw=0.1;    #reduction in average weight(kg)\n",
    "\n",
    "#Calculation\n",
    "a=(n1-n2)*w1;\n",
    "b=-dw*n2;\n",
    "w=a-b;    #weight of boy who left the class(kg)\n",
    "\n",
    "#Result\n",
    "print \"weight of boy who left the class is\",w,\"kg\""
   ]
  },
  {
   "cell_type": "markdown",
   "metadata": {},
   "source": [
    "##Example number 6.10 Page number 6.7"
   ]
  },
  {
   "cell_type": "code",
   "execution_count": 13,
   "metadata": {
    "collapsed": false
   },
   "outputs": [
    {
     "name": "stdout",
     "output_type": "stream",
     "text": [
      "average age of 10 new students is 16.0 years\n"
     ]
    }
   ],
   "source": [
    "#importing modules\n",
    "import math\n",
    "from __future__ import division\n",
    "\n",
    "#Variable declaration\n",
    "n1=40;    #number of students\n",
    "na=10;     #number of students newly admitted\n",
    "a1=15;    #original average(years)\n",
    "a=0.2;    #change in average(year)\n",
    "\n",
    "#Calculation\n",
    "sa=(na*a1)+(a*(n1+na));     #sum of weight(kg)\n",
    "avga=sa/na;     #average age of 10 new students(years)\n",
    "\n",
    "#Result\n",
    "print \"average age of 10 new students is\",avga,\"years\""
   ]
  },
  {
   "cell_type": "markdown",
   "metadata": {},
   "source": [
    "##Example number 6.11 Page number 6.7"
   ]
  },
  {
   "cell_type": "code",
   "execution_count": 14,
   "metadata": {
    "collapsed": false
   },
   "outputs": [
    {
     "name": "stdout",
     "output_type": "stream",
     "text": [
      "average weight of 20 students is 55.0 kg\n"
     ]
    }
   ],
   "source": [
    "#importing modules\n",
    "import math\n",
    "from __future__ import division\n",
    "\n",
    "#Variable declaration\n",
    "n1=30;     #number of students\n",
    "n=20;      #number of students newly admitted\n",
    "a1=60;     #original average(kg)\n",
    "a=-2;      #change in average weight(kg)\n",
    "\n",
    "#Calculation\n",
    "s=(n*a1)+(a*(n1+n));    #sum of weight(kg)\n",
    "aw=s/n;    #average weight of 20 students(kg)\n",
    "\n",
    "#Result\n",
    "print \"average weight of 20 students is\",aw,\"kg\""
   ]
  },
  {
   "cell_type": "markdown",
   "metadata": {},
   "source": [
    "##Example number 6.12 Page number 6.7"
   ]
  },
  {
   "cell_type": "code",
   "execution_count": 15,
   "metadata": {
    "collapsed": false
   },
   "outputs": [
    {
     "name": "stdout",
     "output_type": "stream",
     "text": [
      "value of 6th result is 56\n"
     ]
    }
   ],
   "source": [
    "#importing modules\n",
    "import math\n",
    "from __future__ import division\n",
    "\n",
    "#Variable declaration\n",
    "n1=6;    #number of results\n",
    "a1=49;   #average of 1st six results\n",
    "a2=52;   #average of last six results\n",
    "n2=11;   \n",
    "a3=50;   #average of 11 results\n",
    "\n",
    "#Calculation\n",
    "v6=(n1*a1)+(n1*a2)-(n2*a3);    #value of 6th result\n",
    "\n",
    "#Result\n",
    "print \"value of 6th result is\",v6"
   ]
  },
  {
   "cell_type": "markdown",
   "metadata": {},
   "source": [
    "##Example number 6.13 Page number 6.8"
   ]
  },
  {
   "cell_type": "code",
   "execution_count": 18,
   "metadata": {
    "collapsed": false
   },
   "outputs": [
    {
     "name": "stdout",
     "output_type": "stream",
     "text": [
      "average after 21 innings is 67.0 runs\n"
     ]
    }
   ],
   "source": [
    "#importing modules\n",
    "import math\n",
    "from __future__ import division\n",
    "\n",
    "#Variable declaration\n",
    "n1=20;    #number of innings\n",
    "n2=21;    #number of innings in 2nd case\n",
    "r2=107;   #number of runs\n",
    "a2=2;     #change in average(runs)\n",
    "\n",
    "#Calculation\n",
    "a1=a2*n2;\n",
    "A=(r2-a1)/(n2-n1);    \n",
    "A=A+2;       #average after 21 innings(runs)\n",
    "\n",
    "#Result\n",
    "print \"average after 21 innings is\",A,\"runs\""
   ]
  },
  {
   "cell_type": "markdown",
   "metadata": {},
   "source": [
    "##Example number 6.14 Page number 6.8"
   ]
  },
  {
   "cell_type": "code",
   "execution_count": 19,
   "metadata": {
    "collapsed": false
   },
   "outputs": [
    {
     "name": "stdout",
     "output_type": "stream",
     "text": [
      "final average is 28.0 runs\n"
     ]
    }
   ],
   "source": [
    "#importing modules\n",
    "import math\n",
    "from __future__ import division\n",
    "\n",
    "#Variable declaration\n",
    "Sa=6;    #number of runs in last 2 innings(runs)\n",
    "na=2;    #number of innings\n",
    "deltaA=-2;   #drop in average runs\n",
    "A1=750;    #number of runs\n",
    "\n",
    "#Calculation\n",
    "#from the equation 6=(2*750/N)-(2*N+4) we get a quadratic equation in N \n",
    "a=-deltaA;    #coefficient of N**2\n",
    "b=Sa-(na*deltaA);   #coefficient of N\n",
    "c=-na*A1;    #constant term\n",
    "N=((-b)+math.sqrt((b**2)-(4*a*c)))/(2*a);    #number of innings\n",
    "A=A1/N;     #original average\n",
    "FA=A-na;    #final average(runs)\n",
    "\n",
    "#Result\n",
    "print \"final average is\",FA,\"runs\""
   ]
  },
  {
   "cell_type": "markdown",
   "metadata": {},
   "source": [
    "##Example number 6.15 Page number 6.8"
   ]
  },
  {
   "cell_type": "code",
   "execution_count": 24,
   "metadata": {
    "collapsed": false
   },
   "outputs": [
    {
     "name": "stdout",
     "output_type": "stream",
     "text": [
      "new average of bowler is 9.0 or 9.33333333333\n"
     ]
    }
   ],
   "source": [
    "#importing modules\n",
    "import math\n",
    "from __future__ import division\n",
    "\n",
    "#Variable declaration\n",
    "sa=52;    #number of runs\n",
    "na=3;     #number of wickets\n",
    "A1=200;   #average of bowler\n",
    "deltaA=1;   #change in average\n",
    "\n",
    "#Calculation\n",
    "#from the equation 52=(3*200/N)+(+1)*(N+3) we get a quadratic equation in N \n",
    "a=deltaA;   #coefficient of N**2\n",
    "b=na-sa;    #coefficient of N\n",
    "c=na*A1;    #constant term\n",
    "N1=((-b)+math.sqrt((b**2)-(4*a*c)))/(2*a);    #number of innings\n",
    "N2=((-b)-math.sqrt((b**2)-(4*a*c)))/(2*a);    #number of innings\n",
    "NA1=(A1+sa)/(N1+na);    #new average\n",
    "NA2=(A1+sa)/(N2+na);    #new average\n",
    "x=NA2-int(NA2);\n",
    "\n",
    "#Result\n",
    "print \"new average of bowler is\",NA1,\"or\",NA2"
   ]
  },
  {
   "cell_type": "markdown",
   "metadata": {},
   "source": [
    "##Example number 6.16 Page number 6.9"
   ]
  },
  {
   "cell_type": "code",
   "execution_count": 25,
   "metadata": {
    "collapsed": false
   },
   "outputs": [
    {
     "name": "stdout",
     "output_type": "stream",
     "text": [
      "weight of new student is 62.5 kg\n"
     ]
    }
   ],
   "source": [
    "#importing modules\n",
    "import math\n",
    "from __future__ import division\n",
    "\n",
    "#Variable declaration\n",
    "n=15;    #number of students\n",
    "da=1.5;  #change in average\n",
    "wr=40;   #weight of removed student(kg)\n",
    "\n",
    "#Calculation\n",
    "wn=wr+(n*da);    #weight of new student(kg)\n",
    "\n",
    "#Result\n",
    "print \"weight of new student is\",wn,\"kg\""
   ]
  },
  {
   "cell_type": "markdown",
   "metadata": {},
   "source": [
    "##Example number 6.17 Page number 6.9"
   ]
  },
  {
   "cell_type": "code",
   "execution_count": 26,
   "metadata": {
    "collapsed": false
   },
   "outputs": [
    {
     "name": "stdout",
     "output_type": "stream",
     "text": [
      "average age of 2 players is 15.5 years\n"
     ]
    }
   ],
   "source": [
    "#importing modules\n",
    "import math\n",
    "from __future__ import division\n",
    "\n",
    "#Variable declaration\n",
    "n=11;    #number of players\n",
    "ac=25;   #age of captain(years)\n",
    "awk=28;  #age of wicket keeper(years)\n",
    "da=-2;   #change in average(years)\n",
    "\n",
    "#Calculation\n",
    "S=(ac+awk)+(n*da);   #sum of age of replacing players(years)\n",
    "A=S/2;    #average age of 2 players(years)\n",
    "\n",
    "#Result\n",
    "print \"average age of 2 players is\",A,\"years\""
   ]
  }
 ],
 "metadata": {
  "kernelspec": {
   "display_name": "Python 2",
   "language": "python",
   "name": "python2"
  },
  "language_info": {
   "codemirror_mode": {
    "name": "ipython",
    "version": 2
   },
   "file_extension": ".py",
   "mimetype": "text/x-python",
   "name": "python",
   "nbconvert_exporter": "python",
   "pygments_lexer": "ipython2",
   "version": "2.7.9"
  }
 },
 "nbformat": 4,
 "nbformat_minor": 0
}
