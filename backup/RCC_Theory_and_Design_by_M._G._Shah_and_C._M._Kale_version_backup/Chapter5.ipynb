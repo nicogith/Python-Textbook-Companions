{
 "cells": [
  {
   "cell_type": "markdown",
   "metadata": {},
   "source": [
    "# Chapter 5:Columns"
   ]
  },
  {
   "cell_type": "markdown",
   "metadata": {},
   "source": [
    "## Ex5.1:pg-171"
   ]
  },
  {
   "cell_type": "code",
   "execution_count": 1,
   "metadata": {
    "collapsed": false
   },
   "outputs": [
    {
     "name": "stdout",
     "output_type": "stream",
     "text": [
      "Permissible load on the column =  607.275 kN\n"
     ]
    }
   ],
   "source": [
    "import math\n",
    "sigma_cc=4 #in MPa\n",
    "sigma_sc=130 #in MPa\n",
    "Asc=4*0.785*25**2 #four 25 mm dia bars, in sq mm\n",
    "b=300 #width, in mm\n",
    "D=300 #depth, in mm\n",
    "Ag=b*D #in sq mm\n",
    "Ac=Ag-Asc #in sq mm\n",
    "P=sigma_cc*Ac+sigma_sc*Asc #in N\n",
    "print \"Permissible load on the column = \",P/10**3,\"kN\"\n"
   ]
  },
  {
   "cell_type": "markdown",
   "metadata": {},
   "source": [
    "## Ex5.2:pg-172"
   ]
  },
  {
   "cell_type": "code",
   "execution_count": 2,
   "metadata": {
    "collapsed": false
   },
   "outputs": [
    {
     "name": "stdout",
     "output_type": "stream",
     "text": [
      "Permissible load on the column = 848.54  kN\n",
      "\n",
      "Provide  6  mm dia links at spacing equal to least of (i)Least lateral dimension =  250  mm, (ii) 16 times longitudinal bar dia =  320  mm, (iii) 48 times link bar dia =  288  mm, i.e., 250 mm\n",
      "Hence, spacing or pitch =  250  mm\n",
      "\n",
      "Percentage of steel is in between 0.8 to 4 as prescribed by IS code\n"
     ]
    }
   ],
   "source": [
    "import math\n",
    "sigma_cc=5 #in MPa\n",
    "sigma_sc=190 #in MPa\n",
    "Asc=6*0.785*20**2 #six 20 mm dia bars, in sq mm\n",
    "b=250 #width, in mm\n",
    "D=400 #depth, in mm\n",
    "Ag=b*D #in sq mm\n",
    "Ac=Ag-Asc #in sq mm\n",
    "P=sigma_cc*Ac+sigma_sc*Asc #in N\n",
    "print \"Permissible load on the column =\",P/10**3,\" kN\\n\"\n",
    " #design of links\n",
    "dia=20.0/4 #in mm\n",
    " #as this is less than 6\n",
    "dia=6 #in mm\n",
    " #spacing of links\n",
    "s1=b #in mm\n",
    "s2=16*20 #in mm\n",
    "s3=48*dia #in mm\n",
    "s=min(s1,s2,s3)\n",
    "print \"Provide \",(dia),\" mm dia links at spacing equal to least of (i)Least lateral dimension = \",(b),\" mm, (ii) 16 times longitudinal bar dia = \",(16*20),\" mm, (iii) 48 times link bar dia = \",(48*dia),\" mm, i.e., 250 mm\\nHence, spacing or pitch = \",(s),\" mm\\n\"\n",
    "Pc=Asc*100/(b*D) #percentage steel\n",
    "print \"Percentage of steel is in between 0.8 to 4 as prescribed by IS code\"\n"
   ]
  },
  {
   "cell_type": "markdown",
   "metadata": {},
   "source": [
    "## Ex5.3:pg-173"
   ]
  },
  {
   "cell_type": "code",
   "execution_count": 3,
   "metadata": {
    "collapsed": false
   },
   "outputs": [
    {
     "name": "stdout",
     "output_type": "stream",
     "text": [
      "Provide  7.0  no. 25 mm dia bars\n",
      "\n",
      "Provide  8  mm dia links at spacing equal to least of (i)Least lateral dimension =  300  mm, (ii) 16 times longitudinal bar dia =  400  mm, (iii) 48 times link bar dia =  384  mm, i.e., 300 mm\n",
      "Hence, spacing or pitch =  300  mm\n",
      "\n"
     ]
    }
   ],
   "source": [
    "import math\n",
    "sigma_cc=5 #in MPa\n",
    "sigma_sc=130 #in MPa\n",
    "b=300 #width, in mm\n",
    "D=400.0 #depth, in mm\n",
    "P=1000 #axial load, in kN\n",
    "Ag=b*D #in sq mm\n",
    "Asc=(P*10.0**3-sigma_cc*Ag)/(sigma_sc-sigma_cc) #in sq mm\n",
    " #provide 25 mm dia bars\n",
    "n=round(Asc/(0.785*25**2))\n",
    "print \"Provide \",(n),\" no. 25 mm dia bars\\n\"\n",
    " #design of links\n",
    "dia=20.0/4 #in mm\n",
    " #provide 8 mm dia links (available as per market size)\n",
    "dia=8 #in mm\n",
    " #spacing of links\n",
    "s1=b #in mm\n",
    "s2=16*25 #in mm\n",
    "s3=48*dia #in mm\n",
    "s=min(s1,s2,s3)\n",
    "print \"Provide \",(dia),\" mm dia links at spacing equal to least of (i)Least lateral dimension = \",(b),\" mm, (ii) 16 times longitudinal bar dia = \",(16*25),\" mm, (iii) 48 times link bar dia = \",(48*dia),\" mm, i.e., 300 mm\\nHence, spacing or pitch = \",(s),\" mm\\n\"\n"
   ]
  },
  {
   "cell_type": "markdown",
   "metadata": {},
   "source": [
    "## Ex5.4:pg-173"
   ]
  },
  {
   "cell_type": "code",
   "execution_count": 5,
   "metadata": {
    "collapsed": false
   },
   "outputs": [
    {
     "name": "stdout",
     "output_type": "stream",
     "text": [
      "Permissible load on the column =  211.05824  kN\n",
      "Provide  6  mm dia links at spacing equal to least of (i)Least lateral dimension =  200  mm, (ii) 16 times longitudinal bar dia =  192  mm, (iii) 48 times link bar dia =  288  mm, i.e.,  192.0  mm\n",
      "Hence, spacing or pitch =  192.0  mm\n"
     ]
    }
   ],
   "source": [
    "import math\n",
    "sigma_cc=4.0 #in MPa\n",
    "sigma_sc=130.0 #in MPa\n",
    "Asc=6*0.785*12**2 #six 12 mm dia bars, in sq mm\n",
    "D=200 #dia of column, in mm\n",
    "Ag=0.785*D**2 #in sq mm\n",
    "Ac=Ag-Asc #in sq mm\n",
    "P=sigma_cc*Ac+sigma_sc*Asc #in N\n",
    "dia=6 #dia of links used, in mm\n",
    " #spacing of links\n",
    "s1=D #in mm\n",
    "s2=16*12.0 #in mm\n",
    "s3=48*dia #in mm\n",
    "s=min(s1,s2,s3)\n",
    "print \"Permissible load on the column = \",P/10**3,\" kN\\nProvide \",(dia),\" mm dia links at spacing equal to least of (i)Least lateral dimension = \",(D),\" mm, (ii) 16 times longitudinal bar dia = \",(16*12),\" mm, (iii) 48 times link bar dia = \",(48*dia),\" mm, i.e., \",(s),\" mm\\nHence, spacing or pitch = \",(s),\" mm\"\n"
   ]
  },
  {
   "cell_type": "markdown",
   "metadata": {},
   "source": [
    "## Ex5.5:pg-174"
   ]
  },
  {
   "cell_type": "code",
   "execution_count": 7,
   "metadata": {
    "collapsed": false
   },
   "outputs": [
    {
     "name": "stdout",
     "output_type": "stream",
     "text": [
      "Safe load= 700.6125  kN\n"
     ]
    }
   ],
   "source": [
    "import math\n",
    "dia=300 #in mm\n",
    "Asc=8*0.785*20**2 #8-20 mm dia bars, in sq mm\n",
    "helical_dia=8 #in mm\n",
    "pitch=25 #in mm\n",
    "cover=40 #in mm\n",
    "sigma_cc=5 #in MPa\n",
    "sigma_sc=130 #in MPa\n",
    "fck=25 #in MPa\n",
    "fy=250 #in MPa\n",
    "Ag=0.785*dia**2 #in sq mm\n",
    "Ac=Ag-Asc #in sq mm\n",
    "P=sigma_cc*Ac + sigma_sc*Asc #in N\n",
    " #to find volume of helical reinforcement\n",
    "core_dia=dia-2*cover+2*helical_dia #in mm\n",
    "l=math.pi*core_dia #length of helical steel for one revolution, in mm\n",
    "Ab=l*0.785*helical_dia**2/pitch #volume of helical reinforcement per mm height of column, in mm**3\n",
    "Ak=0.785*core_dia**2-Asc #in sq mm\n",
    "Ac=0.785*core_dia**2 #in sq mm\n",
    "m=Ab/Ak\n",
    "n=0.36*(Ag/Ac-1)*fck/fy\n",
    " #as m > n\n",
    "P=1.05*P #in N\n",
    "print \"Safe load=\",P/10**3,\" kN\"\n"
   ]
  },
  {
   "cell_type": "markdown",
   "metadata": {},
   "source": [
    "## Ex5.6:pg-175"
   ]
  },
  {
   "cell_type": "code",
   "execution_count": 8,
   "metadata": {
    "collapsed": false
   },
   "outputs": [
    {
     "name": "stdout",
     "output_type": "stream",
     "text": [
      "The safe load on the column= 676.8622  kN\n"
     ]
    }
   ],
   "source": [
    "import math\n",
    "b=250 #width, in mm\n",
    "D=350 #depth, in mm\n",
    "Asc=4*0.785*22**2 #four 22 mm dia bars, in sq mm\n",
    "Lef=5 #effective length of column, in m\n",
    "sigma_cc=4 #in MPa\n",
    "sigma_sc=130 #in MPa\n",
    "a=Lef*10**3/b\n",
    " #as Lef/b > 12, it is a long column\n",
    "Cr=1.25-Lef*1000/(48*b) #reduction coefficient\n",
    "sigma_cc=Cr*sigma_cc #in MPa\n",
    "sigma_sc=Cr*sigma_sc #in MPa\n",
    "Ag=b*D #in sq mm\n",
    "Ac=Ag-Asc #in sq mm\n",
    "P=sigma_cc*Ac+sigma_sc*Asc #in N\n",
    "print \"The safe load on the column=\",P/10**3,\" kN\"\n"
   ]
  },
  {
   "cell_type": "markdown",
   "metadata": {},
   "source": [
    "## Ex5.7:pg-176"
   ]
  },
  {
   "cell_type": "code",
   "execution_count": 9,
   "metadata": {
    "collapsed": false
   },
   "outputs": [
    {
     "name": "stdout",
     "output_type": "stream",
     "text": [
      "The safe load on the column= 1399.3995401 kN\n"
     ]
    }
   ],
   "source": [
    "dia=500 #in mm\n",
    "Asc=6*math.pi/4*25**2 #six 25 mm dia bars, in sq mm\n",
    "Lef=8 #effective length of column, in m\n",
    "sigma_cc=5 #in MPa\n",
    "sigma_sc=190 #in MPa\n",
    "a=Lef*10**3/dia\n",
    " #as Lef/b >12, it is a long column\n",
    "Cr=1.25-Lef*1000.0/(48*dia) #reduction coefficient\n",
    "sigma_cc=Cr*sigma_cc #in MPa\n",
    "sigma_sc=Cr*sigma_sc #in MPa\n",
    "Ag=math.pi/4*dia**2 #in sq mm\n",
    "Ac=Ag-Asc #in sq mm\n",
    "P=sigma_cc*Ac+sigma_sc*Asc #in N\n",
    "print \"The safe load on the column=\",P/10**3,\"kN\"\n",
    " #the answer doesn't match with that given in textbook due to round-off error\n"
   ]
  },
  {
   "cell_type": "markdown",
   "metadata": {},
   "source": [
    "## Ex5.8:pg-177"
   ]
  },
  {
   "cell_type": "code",
   "execution_count": 10,
   "metadata": {
    "collapsed": false
   },
   "outputs": [
    {
     "name": "stdout",
     "output_type": "stream",
     "text": [
      "Method I\n",
      "Column size  420  x  420  mm\n",
      "Main steel = 5 -20 mm dia bars\n",
      "Links=6 mm dia links @  288  mm c/c\n",
      "\n",
      "Method II\n",
      "Column size  400  x  400  mm\n",
      "Main steel = 6.0 -20 mm dia bars\n",
      "Links=6 mm dia links @  288  mm c/c\n"
     ]
    }
   ],
   "source": [
    "import math\n",
    "P=850 #in kN\n",
    "sigma_cc=4 #in MPa\n",
    "m=18.66 #modular ratio\n",
    "sigma_sc=130 #in MPa\n",
    "Lef=5*1.001 #effective length, in m\n",
    " #assume 1% steel\n",
    "Ag=P*10**3/(sigma_cc*0.99+sigma_sc*0.01) #in sq mm\n",
    "l=math.sqrt(Ag) #in mm\n",
    "l=400 #approximately, in mm\n",
    "a=Lef*1000/l\n",
    "#as a>12, it is a long column\n",
    "#Method I-section to be changed\n",
    "b=Lef*1000/12 #in mm\n",
    "b=420 #approximately, in mm\n",
    "Ag=b**2 #in sq mm\n",
    "Asc=(P*1000-sigma_cc*Ag)/(sigma_sc-sigma_cc) #in sq mm\n",
    "minimum_steel=0.8/100*b**2 #in sq mm\n",
    " #as Asc < minimum steel\n",
    "Asc=minimum_steel #in sq mm\n",
    " #assume 20 mm dia bars\n",
    "n=Asc/(math.pi/4*20**2) #no. of bars\n",
    "n=5 #round-off\n",
    " #design of links\n",
    "dia=1/4.0*20 #in mm\n",
    " #as dia < 6 mm, provide 6 mm diameter links\n",
    "dia=6 #in mm\n",
    "spacing=min(b,16*20,48*dia,300) #in mm\n",
    "print \"Method I\\nColumn size \",(b),\" x \",(b),\" mm\\nMain steel =\",(n),\"-20 mm dia bars\\nLinks=6 mm dia links @ \",(spacing),\" mm c/c\\n\"\n",
    " #Method II-same section\n",
    "b=400 #in mm\n",
    "Ag=b**2 #in sq mm\n",
    "Cr=1.25-Lef*1000/(48*b) #reduction coefficient\n",
    "sigma_cc=Cr*sigma_cc #in MPa\n",
    "sigma_sc=Cr*sigma_sc #in MPa\n",
    "Asc=(P*1000-sigma_cc*Ag)/(sigma_sc-sigma_cc) #in MPa\n",
    "n=round(Asc/(math.pi/4*20.0**2)) #no. of bars\n",
    " #design of links\n",
    "dia=1/4*20 #in mm\n",
    " #as dia < 6 mm, provide 6 mm diameter links\n",
    "dia=6 #in mm\n",
    "spacing=min(b,16*20,48*dia,300) #in mm\n",
    "print \"Method II\\nColumn size \",(b),\" x \",(b),\" mm\\nMain steel =\",(n),\"-20 mm dia bars\\nLinks=6 mm dia links @ \",(spacing),\" mm c/c\"\n"
   ]
  },
  {
   "cell_type": "markdown",
   "metadata": {},
   "source": [
    "## Ex5.9:pg-179"
   ]
  },
  {
   "cell_type": "code",
   "execution_count": 11,
   "metadata": {
    "collapsed": false
   },
   "outputs": [
    {
     "name": "stdout",
     "output_type": "stream",
     "text": [
      "Column size  200  x  340  mm\n",
      "Main steel = 4 -18 mm dia bars\n",
      "Links=6 mm dia links @  200  mm c/c\n",
      "\n"
     ]
    }
   ],
   "source": [
    "import math\n",
    "P=400 #in kN\n",
    "b=200 #width, in mm\n",
    "sigma_cc=4 #in MPa\n",
    "sigma_sc=190 #in MPa\n",
    "Lef=3.5 #effective length, in m\n",
    " #assume 1% steel\n",
    "Ag=P*10**3/(sigma_cc*0.99+sigma_sc*0.01) #in sq mm\n",
    "D=Ag/b #in mm\n",
    "D=340 #round-off, in mm\n",
    "a=Lef*1000/b\n",
    " #as a > 12, it is a long column\n",
    "Cr=1.25-Lef*1000/(48*b) #reduction coefficient\n",
    "sigma_cc=Cr*sigma_cc #in MPa\n",
    "sigma_sc=Cr*sigma_sc #in MPa\n",
    "Asc=(P*1000-sigma_cc*Ag)/(sigma_sc-sigma_cc) #in sq mm\n",
    " #assume 18 mm dia bars\n",
    "n=Asc/(math.pi/4*18**2) #no. of bars\n",
    "n=4 #round-off\n",
    " #design of links\n",
    "dia=1/4*20 #in mm\n",
    " #as dia < 6 mm, provide 6 mm diameter links\n",
    "dia=6 #in mm\n",
    "spacing=min(b,16*20,48*dia,300) #in mm\n",
    "print \"Column size \",(b),\" x \",(D),\" mm\\nMain steel =\",(n),\"-18 mm dia bars\\nLinks=6 mm dia links @ \",(spacing),\" mm c/c\\n\"\n"
   ]
  },
  {
   "cell_type": "markdown",
   "metadata": {},
   "source": [
    "## Ex5.10:pg-180"
   ]
  },
  {
   "cell_type": "code",
   "execution_count": 13,
   "metadata": {
    "collapsed": false
   },
   "outputs": [
    {
     "name": "stdout",
     "output_type": "stream",
     "text": [
      "Maximum stress =  4.60153138615 MPa (compressive)\n",
      "Minimum stress =  -0.0817369463968  MPa (tensile)\n"
     ]
    }
   ],
   "source": [
    "import math\n",
    "P=280 #in kN\n",
    "e=50 #eccentricity, in mm\n",
    "b=300 #width, in mm\n",
    "D=300 #depth, in mm\n",
    "sigma_cc=4 #in MPa\n",
    "sigma_cbc=5 #in MPa\n",
    "m=18.66 #modular ratio\n",
    "cover=50 #in mm\n",
    "Asc=4*0.785*20**2 #four 20 mm dia bars, in sq mm\n",
    "Ag=b*D #in sq mm\n",
    "Ac=Ag-Asc #in sq mm\n",
    "sigma_cc_cal=P*10**3/(Ac+1.5*m*Asc) #in MPa\n",
    "I=b*D**3.0/12 + (m-1)*Asc*(D/2-cover)**2 #in mm**4\n",
    "z=I/(D/2) #in mm**3\n",
    "sigma_cbc_cal=P*10**3*e/z #in MPa\n",
    "sigma_max=sigma_cc_cal + sigma_cbc_cal #in MPa\n",
    "sigma_min=sigma_cc_cal - sigma_cbc_cal #in MPa\n",
    "print \"Maximum stress = \",sigma_max,\"MPa (compressive)\\nMinimum stress = \",sigma_min,\" MPa (tensile)\"\n"
   ]
  },
  {
   "cell_type": "markdown",
   "metadata": {},
   "source": [
    "## Ex5.11:pg-181"
   ]
  },
  {
   "cell_type": "code",
   "execution_count": 14,
   "metadata": {
    "collapsed": false
   },
   "outputs": [
    {
     "name": "stdout",
     "output_type": "stream",
     "text": [
      "Maximum stress =  4.21961845282  MPa (compressive)\n",
      "Minimum stress =  -0.490977303652  MPa (tensile)\n"
     ]
    }
   ],
   "source": [
    "import math\n",
    "P=200 #in kN\n",
    "b=200 #width, in mm\n",
    "D=350 #depth, in mm\n",
    "sigma_cc=5 #in MPa\n",
    "sigma_cbc=7 #in MPa\n",
    "m=13.33 #modular ratio\n",
    "Mxx=6 #in kN-m\n",
    "Myy=4 #in kN-m\n",
    "cover=40 #in mm\n",
    "eff_cover=cover+25/2 #in mm\n",
    "Asc=4*0.785*25**2 #four 25 mm dia bars, in sq mm\n",
    "Ag=b*D #in sq mm\n",
    "Ac=Ag-Asc #in sq mm\n",
    "sigma_cc_cal=P*10**3/(Ac+1.5*m*Asc) #in MPa\n",
    " #to find bending stress on XX axis\n",
    "Ixx=b*D**3.0/12 + (m-1)*Asc*(D/2-eff_cover)**2 #in mm**4\n",
    "Zxx=Ixx/(D/2) #in mm**3\n",
    "sigma_cbc_xx=Mxx*10**6/Zxx #in MPa\n",
    " #to find bending stress on YY axis\n",
    "Iyy=D*b**3.0/12 + (m-1)*Asc*(b/2-eff_cover)**2 #in mm**4\n",
    "Zyy=Iyy/(b/2) #in mm**3\n",
    "sigma_cbc_yy=Myy*10**6/Zyy #in MPa\n",
    "sigma_cbc_cal=sigma_cbc_xx + sigma_cbc_yy #in MPa\n",
    "sigma_max=sigma_cc_cal + sigma_cbc_cal #in MPa\n",
    "sigma_min=sigma_cc_cal - sigma_cbc_cal #in MPa\n",
    "print \"Maximum stress = \",sigma_max,\" MPa (compressive)\\nMinimum stress = \",sigma_min,\" MPa (tensile)\"\n"
   ]
  }
 ],
 "metadata": {
  "kernelspec": {
   "display_name": "Python 2",
   "language": "python",
   "name": "python2"
  },
  "language_info": {
   "codemirror_mode": {
    "name": "ipython",
    "version": 2
   },
   "file_extension": ".py",
   "mimetype": "text/x-python",
   "name": "python",
   "nbconvert_exporter": "python",
   "pygments_lexer": "ipython2",
   "version": "2.7.11"
  }
 },
 "nbformat": 4,
 "nbformat_minor": 0
}
