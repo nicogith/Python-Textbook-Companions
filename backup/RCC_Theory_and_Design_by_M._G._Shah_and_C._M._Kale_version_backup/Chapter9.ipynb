{
 "cells": [
  {
   "cell_type": "markdown",
   "metadata": {},
   "source": [
    "# Chapter 9:Beam Design"
   ]
  },
  {
   "cell_type": "markdown",
   "metadata": {},
   "source": [
    "## Ex9.1:pg-446"
   ]
  },
  {
   "cell_type": "code",
   "execution_count": 1,
   "metadata": {
    "collapsed": false
   },
   "outputs": [
    {
     "name": "stdout",
     "output_type": "stream",
     "text": [
      "Summary of design\n",
      "Size of lintel beam= 225  x  300  mm\n",
      "cover = 35 mm\n",
      "steel = 2-10 mm dia bars + 1-8 mm dia bar\n",
      "stirrups = 6 mm dia @  200  mm c/c throughout\n"
     ]
    }
   ],
   "source": [
    "import math\n",
    "l=3 #span, in m\n",
    "b=225 #wall thickness, in mm\n",
    "Dm=19.2 #weight of masonry, in kN/cu m\n",
    "sigma_cbc=5 #in MPa\n",
    "sigma_st=230 #in MPa\n",
    "fy=415 #in MPa\n",
    " #area of triangle of brick masonry\n",
    "A=math.sqrt(3)/4.0*l**2 #in sq m\n",
    "V=A*(b/10**3) #volume of triangle of masonry, in cu m\n",
    "W=V*Dm #weight of masonry, in kN\n",
    "M1=W*l/6 #in kN-m\n",
    "D=l*10**3.0/12 #in mm\n",
    "D=300 #approximately, in mm\n",
    "self_weight=25*(D/10**3)*(b/10**3) #in kN/m\n",
    "M2=self_weight*l**2/8 #in kN-m\n",
    "M=M1+M2 #in kN-m\n",
    " #check for depth\n",
    "d=math.sqrt(M*10**6/0.65/b) #in mm\n",
    "d=265 #approximately, in mm\n",
    "dia=10.0 #in mm\n",
    "D=d+dia/2+25 #<300 mm, hence OK\n",
    "D=300 #in mm\n",
    "Ast=M*10**6/sigma_st/0.9/d #in sq mm\n",
    "n=Ast/0.785/10**2 #no. of 10 mm dia bars required\n",
    " #provide 2-10 mm dia + 1-8 mm dia bars\n",
    "Ast=2*0.785*10**2+0.785*8**2 #in sq mm\n",
    "pt=Ast/b/d*100 #pt=0.35, approximately\n",
    "W=W+self_weight*l #in kN\n",
    "V=W/2 #in kN\n",
    "Tv=V*10**3/b/d #in MPa\n",
    "#for M15 grade concrete and pt=0.35\n",
    "Tc=0.248 #in MPa\n",
    "#as Tc>Tv, no shear reinforcement required; provide nominal stirrups\n",
    "#provide 6 mm dia bars\n",
    "Asv=2*0.785*6**2 #in sq mm\n",
    "Sv=Asv*fy/0.4/b #in mm\n",
    "Sv=260 #approximately, in mm\n",
    "Svmax=0.75*d #in mm\n",
    "Svmax=200 #approximately, in mm\n",
    "Sv=min(Sv,Svmax) #in mm\n",
    "print \"Summary of design\\nSize of lintel beam=\",(b),\" x \",(D),\" mm\\ncover = 35 mm\\nsteel = 2-10 mm dia bars + 1-8 mm dia bar\\nstirrups = 6 mm dia @ \",(Sv),\" mm c/c throughout\"\n"
   ]
  },
  {
   "cell_type": "markdown",
   "metadata": {},
   "source": [
    "## Ex9.2:pg-447"
   ]
  },
  {
   "cell_type": "code",
   "execution_count": 2,
   "metadata": {
    "collapsed": false
   },
   "outputs": [
    {
     "name": "stdout",
     "output_type": "stream",
     "text": [
      "Summary of design\n",
      "Size of beam =  225  x  300  mm\n",
      "Cover, bottom = 25 mm\n",
      "Top = 25 mm\n",
      "Steel, bottom =  3 -12 mm dia bars\n",
      "Top =  3 -12 mm dia bars\n",
      "Stirrups = 6 mm dia @  200  mm c/c throughout\n"
     ]
    }
   ],
   "source": [
    "import math\n",
    "l=4.2 #span, in m\n",
    "b=225 #width, in mm\n",
    "D=300 #depth, in mm\n",
    "sigma_cbc=5 #in MPa\n",
    "sigma_st=230 #in MPa\n",
    "fy=415 #in MPa\n",
    "m=18.66 #modular ratio\n",
    "W1=25*(D/10**3)*(b/10**3) #self-weight, in kN/m\n",
    "W2=6 #load on beam, in kN/m\n",
    "W=W1+W2 #in kN/m\n",
    "M=W*l**2.0/8 #in kN-m\n",
    "dia=12 #in mm\n",
    "d=D-dia/2-25 #in mm\n",
    "Xc=0.29*d #in mm\n",
    "Mr=0.65*b*d**2/10**6 #M>Mr, hence doubly reinforced beam\n",
    "Ast1=round(Mr*10**6/sigma_st/0.9/d) #steel required for singly reinforced beam, in sq mm\n",
    "M1=M-Mr #balance of moment, in kN-m\n",
    "d1=25 #top cover, in mm\n",
    "Ast2=round(M1*10**6/sigma_st/(d-d1)) #in sq mm\n",
    "Ast=Ast1+Ast2 #in sq mm\n",
    "n1=Ast/0.785/12**2 #no. of 12 mm dia bars on tension side\n",
    "n1=3 #assume\n",
    "Asc=m*Ast2*(d-Xc)/(1.5*m-1)/(Xc-d1) #in sq mm\n",
    "n2=Asc/0.785/12**2 #no. of 12 mm dia bars on compression side\n",
    "n2=3 #assume\n",
    "V=W*l/2.0 #in kN\n",
    "Tv=V*10**3/b/d #in MPa\n",
    "pt=n1*0.785*12**2/b/d*100 #pt=0.56, approximately\n",
    "#for M15 grade concrete and pt=0.56\n",
    "Tc=0.302 #in MPa\n",
    "#as Tc>Tv, no shear reinforcement required; provide nominal stirrups\n",
    "#provide 6 mm dia bars\n",
    "Asv=2*0.785*6**2 #in sq mm\n",
    "Sv=Asv*fy/0.4/b #in mm\n",
    "Sv=260 #approximately, in mm\n",
    "Svmax=0.75*d #in mm\n",
    "Svmax=200 #approximately, in mm\n",
    "Sv=min(Sv,Svmax) #in mm\n",
    "print \"Summary of design\\nSize of beam = \",(b),\" x \",(D),\" mm\\nCover, bottom = 25 mm\\nTop = 25 mm\\nSteel, bottom = \",(n1),\"-12 mm dia bars\\nTop = \",(n2),\"-12 mm dia bars\\nStirrups = 6 mm dia @ \",Sv,\" mm c/c throughout\"\n"
   ]
  },
  {
   "cell_type": "markdown",
   "metadata": {},
   "source": [
    "## Ex9.3:pg-448"
   ]
  },
  {
   "cell_type": "code",
   "execution_count": 3,
   "metadata": {
    "collapsed": false
   },
   "outputs": [
    {
     "name": "stdout",
     "output_type": "stream",
     "text": [
      "Summary of design\n",
      "Size of beam =  1045  x  7  mm\n",
      "Cover = 35 mm\n",
      "Steel=  117 -20 mm dia bars\n",
      "Stirrups = 6 mm dia @  188  mm c/c throughout\n",
      "Side faced steel-6 mm dia @  188  mm c/c on both vertical faces of beam\n"
     ]
    }
   ],
   "source": [
    "import math\n",
    "l=7 #span, in m\n",
    "sigma_cbc=5 #in MPa\n",
    "sigma_st=140 #in MPa\n",
    "fy=250 #in MPa\n",
    "m=18.66 #modular ratio\n",
    "b=300 #assume, in mm\n",
    "W1=35 #imposed load on beam, in kN/m\n",
    "M=W1*l**2.0/8 #in kN-m\n",
    "d=(M*10**6/0.87/b)**0.5 #in mm\n",
    "d=910 #approximately, in mm\n",
    "D=1.1*d+50 #increase d by 10% for self-weight and cover is 50 mm\n",
    "D=1050 #approximately, in mm\n",
    "W2=25*(b/10**3)*(D/10**3) #self-weight, in kN/m\n",
    "W=W1+W2 #in kN/m\n",
    "M=W*l**2.0/8 #in kN-m\n",
    "d=(M*10**6/0.87/b)**0.5 #in mm\n",
    "d=1000 #approximately, in mm\n",
    "dia=20 #in mm\n",
    "D=d+dia/2+35 #in mm\n",
    "Ast=round(M*10**6/sigma_st/0.87/d) #in sq mm\n",
    "n=Ast/0.785/20**2 #no. of 20 mm dia bars\n",
    "n=7 #assume\n",
    "Ast=n*0.785*20**2 #in sq mm\n",
    "pt=Ast/b/D*100 #pt=0.7, approximately\n",
    "As=round(0.85/fy*b*d) #minimum steel, As<Ast, hence OK\n",
    "Asf=0.1/100*b*d/2 #side faced steel on each face, in sq mm\n",
    " #provide 6 mm dia bars\n",
    "s=1000*0.785*6**2/Asf #in mm\n",
    "s=188 #assume, in mm\n",
    "V=W*l/2.0 #in kN\n",
    "Tv=V*10**3/b/d #<Tcmax=1.6 MPa, hence OK\n",
    " #for M15 grade concrete and pt=0.7\n",
    "Tc=0.33 #in MPa\n",
    " #as Tv>Tc, shear reinforcement required\n",
    "Vs=V-Tc*b*d/10**3 #in kN\n",
    " #provide 6 mm dia bars\n",
    "Asv=2*0.785*6**2 #in sq mm\n",
    "sigma_sv=140 #in MPa\n",
    "Sv=Asv*sigma_sv*d/Vs/10**3 #in mm\n",
    "Sv=155 #approximately, in mm\n",
    "Svmin=Asv*fy/0.4/b #in mm\n",
    "Svmin=117 #approximately, in mm\n",
    "Sv=min(Sv,Svmin) #in mm\n",
    "print \"Summary of design\\nSize of beam = \",(D),\" x \",(n),\" mm\\nCover = 35 mm\\nSteel= \",(Sv),\"-20 mm dia bars\\nStirrups = 6 mm dia @ \",(s),\" mm c/c throughout\\nSide faced steel-6 mm dia @ \",(s),\" mm c/c on both vertical faces of beam\"\n"
   ]
  },
  {
   "cell_type": "markdown",
   "metadata": {},
   "source": [
    "## Ex9.4:pg-449"
   ]
  },
  {
   "cell_type": "code",
   "execution_count": 4,
   "metadata": {
    "collapsed": false
   },
   "outputs": [
    {
     "name": "stdout",
     "output_type": "stream",
     "text": [
      "T beam:bf= 2500  mm\n",
      "Df= 100  mm\n",
      "d= 750  mm\n",
      "bw= 300  mm\n",
      "Cover = 50 mm\n",
      "Steel= 4-25 mm dia + 4-20 mm dia bars\n",
      "Stirrups = 6 mm dia @  117  mm c/c throughout\n"
     ]
    }
   ],
   "source": [
    "import math\n",
    "l=10 #span, in m\n",
    "sigma_cbc=5 #in MPa\n",
    "sigma_st=140 #in MPa\n",
    "fy=250 #in MPa\n",
    "m=18.66 #modular ratio\n",
    "Df=100 #slab thickness, in mm \n",
    "D=l*10**3.0/12 #in mm\n",
    "D=850 #approximately, in mm\n",
    "d=D-100 #cover=100 mm\n",
    "bw=300 #in mm\n",
    "bf=l*10**3/6+bw+6*Df #>2500 mm c/c distance of beams\n",
    "bf=2500 #in mm\n",
    "W1=(bw/10**3)*(d-Df)/10**3*25 #in kN/m\n",
    "W2=(Df/10**3)*(bf/10**3)*25 #in kN/m\n",
    "W3=(bf/10**3)*5 #imposed load, in kN/m\n",
    "W=W1+W2+W3 #in kN/m\n",
    "W=24 #approximately, in kN/m\n",
    "M=W*l**2.0/8 #in kN-m\n",
    "V=W*l/2.0 #in kN\n",
    "Ast=round(M*10**6/sigma_st/0.87/d) #in sq mm\n",
    "#provide 4-25 mm dia bars + 4-20 mm dia bars\n",
    "Ast=4*0.785*25**2+4*0.785*20**2 #in sq mm\n",
    "#verification of trial section\n",
    "#assume x>Df\n",
    "x=(m*Ast*d+bf*Df**2/2)/(bf*Df+m*Ast) #in mm\n",
    "#sigma_cbc'=sigma_cbc (x-Df)/x\n",
    "a=(x-Df)/x\n",
    "z=d-(1+2*a)/(1+a)*Df/3 #in mm\n",
    "sigma_st=M*10**6/Ast/z #<140 MPa, hence OK\n",
    "sigma_cbc=sigma_st/m*x/(d-x) #<5 MPa, hence OK\n",
    "Tv=V*10**3/bw/d #in MPa\n",
    "pt=Ast*100/(bw*d+(2500-300)*100) #pt=0.72, approximately\n",
    "#for M15 grade concrete and pt=0.72\n",
    "Tc=0.33 #in MPa\n",
    "#as Tv>Tc, shear reinforcement required\n",
    "Vs=V-Tc*bw*d/10**3 #in kN\n",
    "#provide 6 mm dia bars\n",
    "Asv=2*0.785*6**2 #in sq mm\n",
    "sigma_sv=140 #in MPa\n",
    "Sv=Asv*sigma_sv*d/Vs/10**3 #in mm\n",
    "Sv=130 #approximately, in mm\n",
    "Svmin=Asv*fy/0.4/bw #in mm\n",
    "Svmin=117 #approximately, in mm\n",
    "Sv=min(Sv,Svmin) #in mm\n",
    "print \"T beam:bf=\",(bf),\" mm\\nDf=\",(Df),\" mm\\nd=\",(d),\" mm\\nbw=\",(bw),\" mm\\nCover = 50 mm\\nSteel= 4-25 mm dia + 4-20 mm dia bars\\nStirrups = 6 mm dia @ \",(Sv),\" mm c/c throughout\"\n"
   ]
  }
 ],
 "metadata": {
  "kernelspec": {
   "display_name": "Python 2",
   "language": "python",
   "name": "python2"
  },
  "language_info": {
   "codemirror_mode": {
    "name": "ipython",
    "version": 2
   },
   "file_extension": ".py",
   "mimetype": "text/x-python",
   "name": "python",
   "nbconvert_exporter": "python",
   "pygments_lexer": "ipython2",
   "version": "2.7.11"
  }
 },
 "nbformat": 4,
 "nbformat_minor": 0
}
