{
 "cells": [
  {
   "cell_type": "markdown",
   "metadata": {},
   "source": [
    "# Chapter 17:Shear and Development Length"
   ]
  },
  {
   "cell_type": "markdown",
   "metadata": {},
   "source": [
    "## Ex17.1:pg-905"
   ]
  },
  {
   "cell_type": "code",
   "execution_count": 1,
   "metadata": {
    "collapsed": false
   },
   "outputs": [
    {
     "name": "stdout",
     "output_type": "stream",
     "text": [
      "Nominal shear stress= 0.704347826087  MPa\n",
      "Shear strength of concrete= 0.64  MPa\n"
     ]
    }
   ],
   "source": [
    "import math\n",
    "b=230 #width, in mm\n",
    "d=500 #effective depth, in mm\n",
    "l=4.5 #span, in m\n",
    "Ast=4*0.785*20**2 #four 20 mm dia bars, in sq mm\n",
    "fck=20 #in MPa\n",
    "W=24 #in kN/m\n",
    "Wu=1.5*W #factored load, in kN/m\n",
    "Vu=Wu*l/2 #in kN\n",
    "Tv=Vu*10**3/b/d #in MPa\n",
    "Tcmax=2.8 #for M20, in MPa\n",
    " #Tv<Tcmax, hence OK\n",
    "p=Ast/b/d*100 #p=1.1, approximately\n",
    " #for p=1.1 and M20 grade concrete\n",
    "Tc=0.64 #in MPa\n",
    " #Tv>Tc, hence shear reinforcement required\n",
    "print \"Nominal shear stress=\",Tv,\" MPa\\nShear strength of concrete=\",Tc,\" MPa\"\n"
   ]
  },
  {
   "cell_type": "markdown",
   "metadata": {},
   "source": [
    "## Ex17.2:pg-906"
   ]
  },
  {
   "cell_type": "code",
   "execution_count": 2,
   "metadata": {
    "collapsed": false
   },
   "outputs": [
    {
     "name": "stdout",
     "output_type": "stream",
     "text": [
      "Provide 6 mm dia stirrups at  118  mm c/c as shear reinforcement\n"
     ]
    }
   ],
   "source": [
    "import math\n",
    "b=300 #width, in mm\n",
    "d=1010 #effective depth, in mm\n",
    "l=7 #span, in m\n",
    "Ast=round(6*0.785*22**2) #six 22 mm dia bars, in sq mm\n",
    "fck=15 #in MPa\n",
    "fy=250 #in MPa\n",
    "W=45 #in kN/m\n",
    "Wu=1.5*W #factored load, in kN/m\n",
    "Vu=Wu*l/2 #in kN\n",
    "Tv=Vu*10**3/b/d #in MPa\n",
    " #Tv<Tcmax, hence OK\n",
    "p=Ast/b/d*100 #p=0.75, approximately\n",
    " #for p=0.75 and M15 grade concrete\n",
    "Tc=0.54 #in MPa\n",
    " #Tv>Tc, hence shear reinforcement required\n",
    "Vus=Vu-Tc*b*d/10**3 #in kN\n",
    " #provide 6 mm dia stirrups\n",
    "Sv=0.87*fy*2*0.785*6**2*d/Vus/10**3 #in mm\n",
    "Sv=171 #approximately, in mm\n",
    "Svmin=2*0.785*6**2*fy/b/0.4 #in mm\n",
    "Svmin=118 #approximately, in mm\n",
    "Sv=min(Sv,Svmin) #in mm\n",
    "print \"Provide 6 mm dia stirrups at \",(Sv),\" mm c/c as shear reinforcement\"\n"
   ]
  }
 ],
 "metadata": {
  "kernelspec": {
   "display_name": "Python 2",
   "language": "python",
   "name": "python2"
  },
  "language_info": {
   "codemirror_mode": {
    "name": "ipython",
    "version": 2
   },
   "file_extension": ".py",
   "mimetype": "text/x-python",
   "name": "python",
   "nbconvert_exporter": "python",
   "pygments_lexer": "ipython2",
   "version": "2.7.11"
  }
 },
 "nbformat": 4,
 "nbformat_minor": 0
}
