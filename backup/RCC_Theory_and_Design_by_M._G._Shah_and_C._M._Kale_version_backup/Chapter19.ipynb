{
 "cells": [
  {
   "cell_type": "markdown",
   "metadata": {},
   "source": [
    "# Chapter 19:Designs by Limit State Method"
   ]
  },
  {
   "cell_type": "markdown",
   "metadata": {},
   "source": [
    "## Ex19.1:pg-1012"
   ]
  },
  {
   "cell_type": "code",
   "execution_count": 15,
   "metadata": {
    "collapsed": false
   },
   "outputs": [
    {
     "name": "stdout",
     "output_type": "stream",
     "text": [
      "Summary of design:\n",
      "Slab thickness=  125.0  mm\n",
      "Cover = 15 mm\n",
      "Main steel = 12 mm dia @  105.0  mm c/c\n",
      "Distribution steel = 8 mm dia @  265.0  mm c/c\n"
     ]
    }
   ],
   "source": [
    "import math\n",
    "fck=15 #in MPa\n",
    "fy=250.0 #in MPa\n",
    "l=4 #span, in m\n",
    "MF=1.6\n",
    "a=MF*20\n",
    "D=l*10.0**3/a #in mm\n",
    "W1=(D/10.0**3)*25 #self-weight, in kN/m\n",
    "W2=1 #floor finish, in kN/m\n",
    "W3=2 #live load, in kN/m\n",
    "W=W1+W2+W3 #in kN/m\n",
    "Wu=1.5*W #in kN/m\n",
    "lef=4.125 #in m\n",
    "Mu=Wu*lef**2/8 #in kN-m\n",
    "d=math.sqrt(Mu*10**6/0.149/fck/10**3) #in mm\n",
    "dia=12 #assume 12 mm dia bars\n",
    "D=d+dia/2+15 #<125 mm (assumed value), hence OK\n",
    "D=125 #in mm\n",
    "d=D-dia/2-15 #in mm\n",
    "#steel\n",
    "#Xu=0.87*fy*Ast/0.36/fck/b = a*Ast\n",
    "a=0.87*fy/0.36/fck/10**3\n",
    "#using Mu=0.87 fy Ast (d-0.416 Xu), we get a quadratic equation\n",
    "p=0.87*fy*0.416*a\n",
    "q=-0.87*fy*d\n",
    "r=Mu*10**6\n",
    "Ast=(-q-math.sqrt(q**2-4*p*r))/2.0/p #in sq mm\n",
    "s1=1000*0.785*dia**2/Ast #in mm\n",
    "s1=105 #in mm\n",
    "pt=1000*0.785*dia**2/s1/10**3/d*100.0 #in %\n",
    "Ads=0.15/100*10**3*D #in sq mm\n",
    " #provide 8 mm dia bars\n",
    "s2=1000*0.785*8**2/Ads #in mm\n",
    "s2=265 #in mm\n",
    "Vu=Wu*lef/2 #in kN\n",
    "Tv=Vu*10**3/10**3/d #in MPa\n",
    " #for M15 and pt=1\n",
    "Tc=0.6 #in MPa\n",
    " #for solid slabs\n",
    "Tc=1.3*Tc #in MPa\n",
    " #as Tc>Tv, no shear reinforcement required\n",
    "print \"Summary of design:\\nSlab thickness= \",round(D,2),\" mm\\nCover = 15 mm\\nMain steel = 12 mm dia @ \",round(s1,2),\" mm c/c\\nDistribution steel = 8 mm dia @ \",round(s2,2),\" mm c/c\"\n"
   ]
  },
  {
   "cell_type": "markdown",
   "metadata": {},
   "source": [
    "## Ex19.2:pg-1013"
   ]
  },
  {
   "cell_type": "code",
   "execution_count": 16,
   "metadata": {
    "collapsed": false
   },
   "outputs": [
    {
     "name": "stdout",
     "output_type": "stream",
     "text": [
      "Summary of design:\n",
      "Slab thickness=  160  mm\n",
      "Cover = 15 mm\n",
      "Main steel = 12 mm dia @  112  mm c/c\n",
      "Distribution steel = 8 mm dia @  260.0  mm c/c\n"
     ]
    }
   ],
   "source": [
    "import math\n",
    "fck=15 #in MPa\n",
    "fy=415.0 #in MPa\n",
    "l=4.5 #span, in m\n",
    "MF=1.4\n",
    "a=MF*20.0\n",
    "D=l*10**3.0/a #in mm\n",
    "D=160.0 #in mm\n",
    "W1=(D/10.0**3)*25 #self-weight, in kN/m\n",
    "W2=1 #floor finish, in kN/m\n",
    "W3=1 #partitions, in kN/m\n",
    "W4=4 #live load, in kN/m\n",
    "W=W1+W2+W3+W4 #in kN/m\n",
    "Wu=1.5*W #in kN/m\n",
    "lef=l+0.16 #in m\n",
    "Mu=Wu*lef**2.0/8 #in kN-m\n",
    "d=math.sqrt(Mu*10.0**6/0.138/fck/10.0**3) #in mm\n",
    "dia=12 #assume 12 mm dia bars\n",
    "D=d+dia/2.0+15 #=160 mm(assumed value), approximately\n",
    "D=160 #in mm\n",
    "d=140 #in mm\n",
    "#steel\n",
    "#Xu=0.87*fy*Ast/0.36/fck/b = a*Ast\n",
    "a=0.87*fy/0.36/fck/10**3\n",
    "#using Mu=0.87 fy Ast (d-0.416 Xu), we get a quadratic equation\n",
    "p=0.87*fy*0.416*a\n",
    "q=-0.87*fy*d\n",
    "r=Mu*10**6\n",
    "Ast=(-q-math.sqrt(q**2-4*p*r))/2/p #in sq mm\n",
    "s1=1000*0.785*dia**2/Ast #in mm\n",
    "s1=112 #in mm\n",
    "pt=Ast/10**3/d*100 #in %\n",
    "Ads=0.12/100*10**3*D #in sq mm\n",
    "#provide 8 mm dia bars\n",
    "s2=1000*0.785*8**2/Ads #in mm\n",
    "s2=260 #in mm\n",
    "Vu=Wu*lef/2 #in kN\n",
    "Tv=Vu*10**3.0/10**3/d #in MPa\n",
    "#for M15 and pt=0.718\n",
    "Tc=0.53 #in MPa\n",
    "#for solid slabs\n",
    "Tc=1.25*Tc #in MPa\n",
    "#as Tc>Tv, no shear reinforcement required\n",
    "print \"Summary of design:\\nSlab thickness= \",(D),\" mm\\nCover = 15 mm\\nMain steel = 12 mm dia @ \",(s1),\" mm c/c\\nDistribution steel = 8 mm dia @ \",round(s2,2),\" mm c/c\"\n"
   ]
  },
  {
   "cell_type": "markdown",
   "metadata": {},
   "source": [
    "## Ex19.3:pg-1013"
   ]
  },
  {
   "cell_type": "code",
   "execution_count": 17,
   "metadata": {
    "collapsed": false
   },
   "outputs": [
    {
     "name": "stdout",
     "output_type": "stream",
     "text": [
      "Summary of design\n",
      "Thickness of slab =  100  mm\n",
      "Cover = 15 mm\n",
      "Main steel = 8 mm dia @  235  mm c/c\n",
      "Development length =  452 mm\n",
      "Distribution steel = 6 mm dia @  235  mm c/c\n"
     ]
    }
   ],
   "source": [
    "import math\n",
    "fck=15 #in MPa\n",
    "fy=415 #in MPa\n",
    "MF=1.4 #modification factor\n",
    " #let a be span to depth ratio\n",
    "l=1 #span, in m\n",
    "a=MF*7\n",
    "D=l*1000/a #in mm\n",
    "D=105 #assume, in mm\n",
    " #to calculate loading\n",
    "W1=25*(D/10**3)*1.5 #self-weight, in kN/m\n",
    "W2=0.5*1.5 #finish, in kN/m\n",
    "W3=0.75*1.5 #live load, in kN/m\n",
    "W=W1+W2+W3 #in kN/m\n",
    "Wu=1.5*W #in kN/m\n",
    "lef=l+0.23/2 #effective span, in m\n",
    "Mu=Wu*lef/2 #in kN-m\n",
    " #check for depth\n",
    "d=math.sqrt(Mu*10**6/(0.138*fck*1500)) #in mm\n",
    "dia=12 #assume 12 mm dia bars\n",
    "D=d+12/2+15 #<105, hence OK\n",
    "D=100 #assume, in mm\n",
    "d=D-dia/2-15 #in mm\n",
    "#steel\n",
    "#Xu=0.87*fy*Ast/0.36/fck/b = a*Ast\n",
    "a=0.87*fy/0.36/fck/1.5/10**3\n",
    " #using Mu=0.87 fy Ast (d-0.416 Xu), we get a quadratic equation\n",
    "p=0.87*fy*0.416*a\n",
    "q=-0.87*fy*d\n",
    "r=Mu*10**6\n",
    "Ast=(-q-math.sqrt(q**2-4*p*r))/2/p #in sq mm\n",
    " #provide 8 mm dia bars\n",
    "dia=8 #in mm\n",
    "s1=1500*0.785*dia**2/Ast #>3d=3x79=237 mm\n",
    "s1=235 #in mm\n",
    "Ads=0.12/100*1000*D #distribution steel, in sq mm\n",
    " #assume 6 mm dia bars\n",
    "s2=1000*0.785*6**2/Ads #in mm\n",
    "s2=235 #round-off, in mm\n",
    "Tbd=1.6 #in MPa\n",
    "Ld=dia*0.87*fy/4/Tbd #in mm\n",
    "Ld=452 #in mm\n",
    "Tv=Wu*10**3/1500/d #in MPa\n",
    "Ast=1500*0.785*8**2/235 #in sq mm\n",
    "pt=Ast/1500/d*100 #in %\n",
    " #for M15 and pt=0.26\n",
    "Tc=0.35 #in MPa\n",
    " #as Tc>Tv, no shear reinforcement required\n",
    "print \"Summary of design\\nThickness of slab = \",(D),\" mm\\nCover = 15 mm\\nMain steel = 8 mm dia @ \",(s1),\" mm c/c\\nDevelopment length = \",(Ld),\"mm\\nDistribution steel = 6 mm dia @ \",(s2),\" mm c/c\"\n"
   ]
  },
  {
   "cell_type": "markdown",
   "metadata": {},
   "source": [
    "## Ex19.4:pg-1015"
   ]
  },
  {
   "cell_type": "code",
   "execution_count": 18,
   "metadata": {
    "collapsed": false
   },
   "outputs": [
    {
     "name": "stdout",
     "output_type": "stream",
     "text": [
      "Summary of design\n",
      "Slab thickness= 100  mm\n",
      "Cover=15 mm\n",
      "Steel-\n",
      "(i)Short span = 10 mm dia @  220  mm c/c\n",
      "(ii)Long span = 10 mm dia @  250  mm c/c\n"
     ]
    }
   ],
   "source": [
    "import math\n",
    "lx=3.5 #in m\n",
    "ly=4 #in m\n",
    "fck=15 #in MPa\n",
    "fy=250 #in MPa\n",
    "D=lx*10**3.0/35 #in mm\n",
    "W1=(D/10**3)*25 #self-weight, in kN/m\n",
    "W2=1.5 #live load, in kN/m\n",
    "W=W1+W2 #in kN/m\n",
    "Wu=1.5*W #in kN/m\n",
    "a=ly/lx\n",
    "Ax=0.078\n",
    "Ay=0.0602\n",
    "Mx=Ax*Wu*lx**2 #in kN-m\n",
    "My=Ay*Wu*lx**2 #in kN-m\n",
    "d=math.sqrt(Mx*10**6/0.149/fck/10**3) #in mm\n",
    "d=51 #round-off, in mm\n",
    " #assume 10 mm dia bars\n",
    "dia=10 #in mm\n",
    "D=d+dia/2+15 #<100 mm assumed value\n",
    "D=100 #in mm\n",
    "d=D-dia/2-15 #in mm\n",
    "#steel - short span\n",
    "#Xu=0.87*fy*Ast/0.36/fck/b = a*Ast\n",
    "a=0.87*fy/0.36/fck/10**3\n",
    " #using Mu=0.87 fy Ast (d-0.416 Xu), we get a quadratic equation\n",
    "p=0.87*fy*0.416*a\n",
    "q=-0.87*fy*d\n",
    "r=Mx*10**6\n",
    "Ast=(-q-math.sqrt(q**2-4*p*r))/2/p #in sq mm\n",
    "s1=1000*0.785*dia**2/Ast #in mm\n",
    "s1=220 #round-off, in mm\n",
    " #long span\n",
    "d=d-dia/2-dia/2 #in mm\n",
    " #Xu=0.87*fy*Ast/0.36/fck/b = a*Ast\n",
    "a=0.87*fy/0.36/fck/10**3\n",
    " #using Mu=0.87 fy Ast (d-0.416 Xu), we get a quadratic equation\n",
    "p=0.87*fy*0.416*a\n",
    "q=-0.87*fy*d\n",
    "r=My*10**6\n",
    "Ast=(-q-math.sqrt(q**2-4*p*r))/2/p #in sq mm\n",
    "s2=1000*0.785*dia**2/Ast #in mm\n",
    "s2=250 #round-off, in mm\n",
    "print \"Summary of design\\nSlab thickness=\",(D),\" mm\\nCover=15 mm\\nSteel-\\n(i)Short span = 10 mm dia @ \",(s1),\" mm c/c\\n(ii)Long span = 10 mm dia @ \",(s2),\" mm c/c\"\n"
   ]
  },
  {
   "cell_type": "markdown",
   "metadata": {},
   "source": [
    "## Ex19.5:pg-1016"
   ]
  },
  {
   "cell_type": "code",
   "execution_count": 19,
   "metadata": {
    "collapsed": false
   },
   "outputs": [
    {
     "name": "stdout",
     "output_type": "stream",
     "text": [
      "Summary of design:\n",
      "Beam size -  225  x  300  mm\n",
      "Cover - 25 mm\n",
      "Steel -  3 -12 mm dia bars\n",
      "Stirrups - 6 mm dia @  200  mm c/c\n"
     ]
    }
   ],
   "source": [
    "import math\n",
    "b=225 #width in mm\n",
    "D=300 #depth in mm\n",
    "fck=15 #in MPa\n",
    "fy=415 #in MPa\n",
    "l=4.2 #span, in m\n",
    "W1=(b/10**3)*(D/10.0**3)*25 #self-weight, in kN/m\n",
    "W2=6 #live load, in kN/m\n",
    "W=W1+W2 #in kN/m\n",
    "Wu=1.5*W #in kN/m\n",
    "Mu=Wu*l**2.0/8 #in kN-m\n",
    "d=270 #assume, in mm\n",
    "Mulim=0.138*fck*b*d**2.0/10**6 #in kN-m\n",
    "#as Mulim > Mu, it will be a singly reinforced beam\n",
    "#Xu=0.87*fy*Ast/0.36/fck/b = a*Ast\n",
    "a=0.87*fy/0.36/fck/b\n",
    "#using Mu=0.87 fy Ast (d-0.416 Xu), we get a quadratic equation\n",
    "p=0.87*fy*0.416*a\n",
    "q=-0.87*fy*d\n",
    "r=Mu*10**6\n",
    "Ast=(-q-math.sqrt(q**2-4*p*r))/2/p #in sq mm\n",
    "#provide 12 mm dia bars\n",
    "n=Ast/0.785/12**2\n",
    "n=3 #assume\n",
    "Ast=n*0.785*12**2 #in sq mm\n",
    "Vu=Wu*l/2 #in kN\n",
    "Tv=Vu*10**3/b/d #in MPa\n",
    "pt=Ast/b/d*100 #pt=0.56\n",
    "#for M15 and pt=0.56\n",
    "Tc=0.46 #in MPa\n",
    "#as Tc>Tv, no shear reinforcement required\n",
    "#provide nominal stirrups and provide 6 mm stirrups\n",
    "Asv=2*0.785*6**2 #in sq mm\n",
    "Sv=Asv*fy/0.4/b #in mm\n",
    "Sv=260 #assume, in mm\n",
    "Svmax=0.75*d #in mm\n",
    "Svmax=200 #round-off, in mm\n",
    "Sv=min(Sv,Svmax) #in mm\n",
    "print \"Summary of design:\\nBeam size - \",(b),\" x \",(D),\" mm\\nCover - 25 mm\\nSteel - \",(n),\"-12 mm dia bars\\nStirrups - 6 mm dia @ \",(Sv),\" mm c/c\"\n",
    "#deflection check\n",
    "Ec=5700*math.sqrt(fck) #in MPa\n",
    "Es=2*10.0**5 #in MPa\n",
    "m=Es/Ec\n",
    "fcr=0.7*math.sqrt(fck) #in MPa\n",
    "#using b x x/2 = m Ast (d-x), we get a quadratic equation\n",
    "#solving the quadratic equation\n",
    "p=b/2\n",
    "q=m*Ast\n",
    "r=-m*Ast*d\n",
    "x=(-q+math.sqrt(q**2-4*p*r))/2/p #in mm\n",
    "z=d-x/3 #in mm\n",
    "Ir=b*x**3.0/12+b*x*(x/2)**2+m*Ast*(d-x)**2 #in mm**4\n",
    "Igr=b*D**3.0/12 #in mm**4\n",
    "yt=D/2 #in mm\n",
    "Mr=fcr*Igr/yt #in N-mm\n",
    "M=W*l**2.0/8*10**6 #in N-mm\n",
    "Ieff=Ir/(1.2-Mr/M*z/d*(1-x/d)*b/b) #in mm**4\n",
    "#Ir<Ieff<Igr, hence OK\n",
    "W1=W*l #in kN\n",
    "u1=5/384.0*(W1*10**3)*(l*10**3)**3/Ec/Ieff #short-term deflection, in mm\n",
    "#long-term deflection\n",
    "#(i) deflection due to shrinkage\n",
    "k3=0.125 #for simply supported beam\n",
    "pt=0.56 #in %\n",
    "pc=0 #in %\n",
    "k4=0.72*(pt-pc)/math.sqrt(pt)\n",
    "phi=k4*0.0003/D\n",
    "u2=k3*phi*(l*10**3)**2 #in mm\n",
    "#(ii) deflection due to creep\n",
    "Ecc=Ec/(1+1.6) #in MPa\n",
    "#assuming a permanent load of 60%\n",
    "W2=0.6*W*l #in kN\n",
    "u3=5/384.0*(W2*10**3)*(l*10**3)**3/Ecc/Ieff #in mm\n",
    "u4=5/384.0*(W2*10**3)*(l*10**3)**3/Ec/Ieff #in mm\n",
    "u5=u3-u4 #in mm\n",
    "u=u1+u2+u5 #total deflection, in mm\n",
    "v1=l*10**3.0/250 #permissible deflection, in mm\n",
    "v2=l*10**3.0/350 #in mm\n",
    "#assuming half the shrinkage strain occurs within the first 28 days, the deflection occurring after this time\n",
    "v3=u2/2+u5 #< permissible value, hence OK\n"
   ]
  },
  {
   "cell_type": "markdown",
   "metadata": {},
   "source": [
    "## Ex19.6:pg-1018"
   ]
  },
  {
   "cell_type": "code",
   "execution_count": 20,
   "metadata": {
    "collapsed": false
   },
   "outputs": [
    {
     "name": "stdout",
     "output_type": "stream",
     "text": [
      "Summary of design:\n",
      "Beam size -  300  x  800  mm\n",
      "Cover - 50 mm\n",
      "Steel - 8-20 mm + 2-18 mm dia bars\n",
      "Stirrups - 6 mm dia @  115  mm c/c\n"
     ]
    }
   ],
   "source": [
    "import math\n",
    "l=7 #span, in m\n",
    "fck=15 #in MPa\n",
    "fy=250 #in MPa\n",
    "b=300 #assume, in mm\n",
    "W=35 #live load, in kN/m\n",
    "Wu=1.5*W #in kN/m\n",
    "Mu=Wu*l**2/8.0 #in kN-m\n",
    "d=(Mu*10**6/0.149/fck/b)**0.5 #in mm\n",
    "d=1.1*d #increase depth by 10% for self-weight\n",
    "d=750 #assume, in mm\n",
    "c=50 #cover, in mm\n",
    "D=d+c #in mm\n",
    "W1=(b/10.0**3)*(D/10**3)*25 #self-weight, in kN/m\n",
    "W2=35 #live load, in kN/m\n",
    "W=W1+W2 #in kN/m\n",
    "Wu=1.5*W #in kN/m\n",
    "Mu=Wu*l**2/8 #in kN-m\n",
    "d=(Mu*10**6/0.149/fck/b)**0.5 #<750 mm, hence OK\n",
    "d=750 #in mm\n",
    "#steel\n",
    "#Xu=0.87*fy*Ast/0.36/fck/b = a*Ast\n",
    "a=0.87*fy/0.36/fck/b\n",
    "#using Mu=0.87 fy Ast (d-0.416 Xu), we get a quadratic equation\n",
    "p=0.87*fy*0.416*a\n",
    "q=-0.87*fy*d\n",
    "r=Mu*10**6\n",
    "Ast=(-q-math.sqrt(q**2-4*p*r))/2/p #in sq mm\n",
    "#provide 20 mm dia bars\n",
    "n=Ast/0.785/20**2\n",
    "#provide 8-20 mm + 2-18 mm dia bars\n",
    "Ast=8*0.785*20**2+2*0.785*18**2 #in sq mm\n",
    "pt=Ast/b/d*100 #pt=1.34\n",
    "Vu=Wu*l/2 #in kN\n",
    "Tv=Vu*10**3/b/d #in MPa\n",
    "#for M15 and pt=1.34\n",
    "Tc=0.65 #in MPa\n",
    "#as Tv>Tc, shear reinforcement required\n",
    "#provide 6 mm stirrups\n",
    "Vus=Vu-Tc*b*d/10.0**3 #in kN\n",
    "Asv=2*0.785*6**2 #in sq mm\n",
    "Sv=Asv*0.87*fy*d/Vus/10.0**3 #in mm\n",
    "Sv=130 #assume, in mm\n",
    "Svmin=Asv*fy/0.4/b #in mm\n",
    "Svmin=115 #assume, in mm\n",
    "Sv=min(Sv,Svmin) #in mm\n",
    "print \"Summary of design:\\nBeam size - \",(b),\" x \",(D),\" mm\\nCover - 50 mm\\nSteel - 8-20 mm + 2-18 mm dia bars\\nStirrups - 6 mm dia @ \",(Sv),\" mm c/c\"\n",
    "#deflection check\n",
    "Ec=5700*math.sqrt(fck) #in MPa\n",
    "Es=2*10**5 #in MPa\n",
    "m=Es/Ec\n",
    "fcr=0.7*math.sqrt(fck) #in MPa\n",
    "#using b x x/2 = m Ast (d-x), we get a quadratic equation\n",
    "#solving the quadratic equation\n",
    "p=b/2\n",
    "q=m*Ast\n",
    "r=-m*Ast*d\n",
    "x=(-q+math.sqrt(q**2-4*p*r))/2/p #in mm\n",
    "x=290 #assume, in mm\n",
    "z=d-x/3 #in mm\n",
    "Ir=b*x**3/12+b*x*(x/2)**2+m*Ast*(d-x)**2 #in mm**4\n",
    "Igr=b*D**3/12 #in mm**4\n",
    "yt=D/2 #in mm\n",
    "Mr=fcr*Igr/yt #in N-mm\n",
    "M=W*l**2/8*10**6 #in N-mm\n",
    "Ieff=Ir/(1.2-Mr/M*z/d*(1-x/d)*b/b) #in mm**4\n",
    " #Ir>Ieff\n",
    "Ieff=Ir #in mm**4\n",
    "W1=W*l #in kN\n",
    "u1=5.0/384*(W1*10**3)*(l*10**3)**3/Ec/Ieff #short-term deflection, in mm\n",
    "#long-term deflection\n",
    "#(i) deflection due to shrinkage\n",
    "k3=0.125 #for simply supported beam\n",
    "pt=1.34 #in %\n",
    "pc=0 #in %\n",
    "k4=0.65*(pt-pc)/math.sqrt(pt)\n",
    "phi=k4*0.0003/D\n",
    "u2=k3*phi*(l*10**3)**2 #in mm\n",
    "#(ii) deflection due to creep\n",
    "Ecc=Ec/(1+1.6) #in MPa\n",
    "#assuming a permanent load of 60%\n",
    "W2=0.6*W*l #in kN\n",
    "u3=5/384*(W2*10**3)*(l*10**3)**3/Ecc/Ieff #in mm\n",
    "u4=5/384*(W2*10**3)*(l*10**3)**3/Ec/Ieff #in mm\n",
    "u5=u3-u4 #in mm\n",
    "u=u1+u2+u5 #total deflection, in mm\n",
    "v1=l*10**3/250 #permissible deflection, in mm\n",
    "v2=l*10**3/350 #in mm\n",
    " #assuming half the shrinkage strain occurs within the first 28 days, the deflection occurring after this time\n",
    "v3=u2/2+u5 #< permissible value, hence OK\n"
   ]
  },
  {
   "cell_type": "markdown",
   "metadata": {},
   "source": [
    "## Ex19.7:pg-1019"
   ]
  },
  {
   "cell_type": "code",
   "execution_count": 21,
   "metadata": {
    "collapsed": false
   },
   "outputs": [
    {
     "name": "stdout",
     "output_type": "stream",
     "text": [
      "T beam:bf= 2500  mm\n",
      "Df= 100  mm\n",
      "d= 550  mm\n",
      "D= 600  mm\n",
      "Cover = 50 mm\n",
      "Steel= 5-25 mm dia + 3-22 mm dia bars\n",
      "Stirrups = 6 mm dia @  90  mm c/c throughout\n",
      "V3= 2.03125 \n",
      "Thus the value of V3 is permissible\n"
     ]
    }
   ],
   "source": [
    "import math\n",
    "l=10 #span, in m\n",
    "fck=15 #in MPa\n",
    "fy=250 #in MPa\n",
    "Df=100 #slab thickness, in mm \n",
    "D=l*10**3.0/15 #depth of beam, in mm\n",
    "D=600 #assume, in mm\n",
    "d=D-50 #cover=50 mm\n",
    "bw=300 #beam width, in mm\n",
    "bf=l*10**3/6+bw+6*Df #>2500 mm c/c distance of beams\n",
    "bf=2500 #in mm\n",
    "W1=(bw/10**3)*(D-Df)/10**3*25 #web, in kN/m\n",
    "W2=(Df/10**3)*(bf/10**3)*25 #slab, in kN/m\n",
    "W3=(bf/10**3)*5 #imposed load, in kN/m\n",
    "W=W1+W2+W3 #in kN/m\n",
    "Wu=1.5*W #in kN/m\n",
    "Mu=Wu*l**2.0/8 #in kN-m\n",
    "Vu=Wu*l/2 #in kN\n",
    "Asf=0.36*fck*bf*Df/0.87/fy #steel required only for flange, in sq mm\n",
    "Asf=6210 #round-off, in sq mm\n",
    "#verification of trial section\n",
    "xu=100 #assume, in mm\n",
    "Ast=Asf #in sq mm\n",
    "Mulim=0.87*fy*Ast*(d-0.416*xu)/10**6 #in kN-m\n",
    "#Mulim > Mu, hence OK\n",
    "#keeping the assumed trial section, work out the steel required\n",
    "#Xu=0.87*fy*Ast/0.36/fck/b = a*Ast\n",
    "a=0.87*fy/0.36/fck/bf\n",
    " #using Mu=0.87 fy Ast (d-0.416 Xu), we get a quadratic equation\n",
    "p=0.87*fy*0.416*a\n",
    "q=-0.87*fy*d\n",
    "r=Mu*10**6\n",
    "Ast=(-q-math.sqrt(q**2-4*p*r))/2/p #in sq mm\n",
    " #provide 5-25 mm dia + 3-22 mm dia bars\n",
    "pt=Ast*100/(bw*d+(bf-bw)*Df) #pt=1%, approximately\n",
    " #check for shear\n",
    "Tv=Vu*10**3/bw/d #in MPa\n",
    " #for M15 grade concrete and pt=1%\n",
    "Tc=0.6 #in MPa\n",
    " #as Tv > Tc, shear reinforcement required\n",
    "Vus=Vu-Tc*bw*d/10**3 #in kN\n",
    " #provide 6 mm dia stirrups\n",
    "Asv=2*0.785*6**2 #in sq mm\n",
    "Sv=Asv*0.87*fy*d/Vus/10**3 #in mm\n",
    "Sv=90 #round-off, in mm\n",
    "print \"T beam:bf=\",bf,\" mm\\nDf=\",Df,\" mm\\nd=\",d,\" mm\\nD=\",D,\" mm\\nCover = 50 mm\\nSteel= 5-25 mm dia + 3-22 mm dia bars\\nStirrups = 6 mm dia @ \",Sv,\" mm c/c throughout\"\n",
    "#answer in textbook for spacing of stirrups is incorrect\n",
    "#deflection check\n",
    "Ec=5700*math.sqrt(fck) #in MPa\n",
    "Es=2*10**5 #in MPa\n",
    "m=Es/Ec #modular ratio\n",
    "fcr=0.7*math.sqrt(fck) #in MPa\n",
    "#using bf Df (x-Df/2) = m Ast (d-x), we get a quadratic equation\n",
    "x=(m*Ast*d+bf*Df**2/2)/(bf*Df+m*Ast) #in mm\n",
    "z=0.87*d #assume, in mm\n",
    "#refer Fig. 19.5 of textbook\n",
    "Ir=bf*x**3.0/12+bf*Df*(x/2)**2+m*Ast*(d-x)**2 #in mm**4\n",
    "y=(bf*Df*Df/2+(D-Df)*bw*((D-Df)/2+Df))/(bf*Df+(D-Df)*bw) #c.g. from top, in mm (neglecting steel)\n",
    "Igr=bf*Df**3.0/12+bf*Df*(Df/2-y)**2+bw*(D-Df)**3/12+bw*(D-Df)*((D-Df)/2+Df-y)**2 #in mm**4\n",
    "yt=d/2 #in mm\n",
    "Mr=fcr*Igr/yt #in N-mm\n",
    "M=W*l**2/8*10**6 #in N-mm\n",
    "Ieff=Ir/(1.2-Mr/M*z/d*(1-x/d)*bw/bf) #in mm**4\n",
    " #Ir > Ieff\n",
    "Ieff=Ir #in mm**4\n",
    "W1=W*l #in kN\n",
    "u1=5.0/384*(W1*10**3)*(l*10**3)**3/Ec/Ieff #short term deflection, in mm\n",
    " #deflection due to shrinkage\n",
    "k3=0.125 #for simply supported beam\n",
    "pt=1 #in %\n",
    "pc=0 #in %\n",
    "k4=0.65*(pt-pc)/math.sqrt(pt)\n",
    "phi=k4*0.0003/D\n",
    "u2=k3*phi*(l*10**3)**2 #in mm\n",
    " #deflection due to creep\n",
    "Ecc=Ec/(1+1.6) #in MPa\n",
    " #assuming a permanent load of 60%\n",
    "W2=0.6*W*l #in kN\n",
    "u3=5/384*(W2*10**3)*(l*10**3)**3/Ecc/Ieff #in mm\n",
    "u4=5/384*(W2*10**3)*(l*10**3)**3/Ec/Ieff #in mm\n",
    "u5=u3-u4 #in mm\n",
    "u=u1+u2+u5 #total deflection, in mm\n",
    "v1=l*10**3.0/250 #permissible deflection, in mm\n",
    "v2=l*10**3.0/350 #>20 mm\n",
    "v2=20 #in mm\n",
    " #assuming half the shrinkage strain occurs within the first 28 days, the deflection occurring after this time\n",
    "v3=u2/2+u5 #< permissible value, hence OK\n",
    "print \"V3=\",v3,\"\\nThus the value of V3 is permissible\"\n"
   ]
  },
  {
   "cell_type": "markdown",
   "metadata": {},
   "source": [
    "## Ex19.8:pg-1021"
   ]
  },
  {
   "cell_type": "code",
   "execution_count": 22,
   "metadata": {
    "collapsed": false
   },
   "outputs": [
    {
     "name": "stdout",
     "output_type": "stream",
     "text": [
      "Summary of design\n",
      "Slab thickness= 155  mm\n",
      "Cover = 25 mm\n",
      "Main steel = 10 mm dia bars @  110  mm c/c\n",
      "Distribution steel = 8 mm dia @  270  mm c/c\n"
     ]
    }
   ],
   "source": [
    "import math\n",
    "l=2.7+1 #span, in m\n",
    "R=0.15 #rise, in m\n",
    "t=0.27 #tread, in m\n",
    "fck=15 #in MPa\n",
    "fy=415 #in MPa\n",
    "D=200 #assume, in mm\n",
    "W1=D/10**3*25*math.sqrt(R**2+t**2)/t #slab load on plan, in kN/m\n",
    "W2=1/2*R*t*25/t #load of step per metre, in kN/m\n",
    "W3=3 #live load, in kN/m\n",
    "W=W1+W2+W3 #in kN/m\n",
    "Wu=1.5*W #in kN/m\n",
    "Mu=Wu*l**2/8 #in kN-m\n",
    "d=math.sqrt(Mu*10**6/0.138/fck/10**3) #in mm\n",
    "d=115 #round-off, in mm\n",
    " #assume 10 mm dia bars\n",
    "dia=10 #in mm\n",
    "D=d+dia/2+25 #< 200 mm, hence OK\n",
    "D=l*10**3/24 #depth required for deflection, in mm\n",
    "D=155 #round-off, in mm\n",
    "d=D-dia/2-25 #in mm\n",
    "#steel\n",
    "#Xu=0.87*fy*Ast/0.36/fck/b = a*Ast\n",
    "a=0.87*fy/0.36/fck/10**3\n",
    "#using Mu=0.87 fy Ast (d-0.416 Xu), we get a quadratic equation\n",
    "p=0.87*fy*0.416*a\n",
    "q=-0.87*fy*d\n",
    "r=Mu*10**6\n",
    "Ast=(-q-math.sqrt(q**2-4*p*r))/2/p #in sq mm\n",
    "s1=1000*0.785*dia**2/Ast #spacing of 10 mm dia bars\n",
    "s1=110 #round-off, in mm\n",
    "Ads=0.12/100*D*10**3 #distribution steel, in sq mm\n",
    "#provide 8 mm dia bars\n",
    "s2=1000*0.785*8**2/Ads #in mm\n",
    "s2=270 #round-off, in mm\n",
    "print \"Summary of design\\nSlab thickness=\",D,\" mm\\nCover = 25 mm\\nMain steel = 10 mm dia bars @ \",s1,\" mm c/c\\nDistribution steel = 8 mm dia @ \",s2,\" mm c/c\"\n",
    " #answer in textbook for spacing of 10 mm dia bars is incorrect\n"
   ]
  },
  {
   "cell_type": "markdown",
   "metadata": {},
   "source": [
    "## Ex19.9:pg-1022"
   ]
  },
  {
   "cell_type": "code",
   "execution_count": 23,
   "metadata": {
    "collapsed": false
   },
   "outputs": [
    {
     "name": "stdout",
     "output_type": "stream",
     "text": [
      "Summary of design:\n",
      "Overall depth of footing= 456.0  mm\n",
      "Cover=100 mm\n",
      "Steel- 12  bars of 12 mm dia both ways\n"
     ]
    }
   ],
   "source": [
    "import math\n",
    "b=0.2 #column width, in m\n",
    "D=0.3 #column depth, in m\n",
    "fck=15 #in MPa\n",
    "fy=415 #in MPa\n",
    "P1=600 #load on column, in kN\n",
    "P2=0.05*P1 #weight of footing, in kN\n",
    "P=P1+P2 #in kN\n",
    "Pu=1.5*P #in kN\n",
    "q=150 #bearing capacity of soil, in kN/sq m\n",
    "qu=2*q #ultimate bearing capacity of soil, in kN/sq m\n",
    "A=Pu/qu #in sq m\n",
    "L=math.sqrt(A) #assuming footing to be square, in m\n",
    "L=1.8 #round-off, in m\n",
    "p=P1*1.5/L**2 #soil pressure, in kN/sq m\n",
    "p=277.8 #round-off, in kN/sq m\n",
    "bc=b/D\n",
    "ks=0.5+bc #>1\n",
    "ks=1\n",
    "Tc=0.25*math.sqrt(fck)*10**3 #in kN/sq m\n",
    "Tv=Tc\n",
    "#let d be the depth of footing in metres\n",
    "#case I: consider greater width of shaded portion in Fig. 19.6 of textbook\n",
    "d1=L*(L-b)/2*p/(Tc*L+L*p) #in m\n",
    "#case II: refer Fig. 19.7 of textbook; we get a quadratic equation of the form e d**2 + f d + g = 0\n",
    "e=p+4*Tc\n",
    "f=b*p+D*p+2*(b+D)*Tc\n",
    "g=-(L**2-b*D)*p\n",
    "d2=(-f+math.sqrt(f**2-4*e*g))/2/e #in m\n",
    "d2=0.35 #round-off, in m\n",
    " #bending moment consideration, refer Fig. 19.8 of textbook\n",
    "Mx=1*((L-b)/2)**2/2*p #in kN-m\n",
    "My=1*((L-D)/2)**2/2*p #in kN-m\n",
    "d3=math.sqrt(Mx*10**6/0.138/fck/10**3) #<350 mm, hence OK\n",
    "#steel\n",
    "#Xu=0.87*fy*Ast/0.36/fck/b = a*Ast\n",
    "a=0.87*fy/0.36/fck/10**3\n",
    "#using Mu=0.87 fy Ast (d-0.416 Xu), we get a quadratic equation\n",
    "p=0.87*fy*0.416*a\n",
    "q=-0.87*fy*d2*10**3\n",
    "r=Mx*10**6\n",
    "Ast=(-q-math.sqrt(q**2-4*p*r))/2/p #in sq mm\n",
    "Ast=L*Ast #steel required for full width of 1.8 m\n",
    " #provide 12 mm dia bars\n",
    "dia=12 #in mm\n",
    "n=Ast/0.785/dia**2 #no. of 12 mm dia bars\n",
    "n=12 #round-off\n",
    "Tbd=1.6 #in MPa\n",
    "Ld=dia*0.87*fy/4/Tbd #in mm\n",
    "Ld=677 #assume, in mm\n",
    " #this length is available from the face of the column in both directions\n",
    "D=d2*10**3+dia/2+100 #in mm\n",
    "print \"Summary of design:\\nOverall depth of footing=\",D,\" mm\\nCover=100 mm\\nSteel-\",n,\" bars of 12 mm dia both ways\"\n"
   ]
  },
  {
   "cell_type": "markdown",
   "metadata": {},
   "source": [
    "## Ex19.10:pg-1023"
   ]
  },
  {
   "cell_type": "code",
   "execution_count": 24,
   "metadata": {
    "collapsed": false
   },
   "outputs": [
    {
     "name": "stdout",
     "output_type": "stream",
     "text": [
      "Summary of design:\n",
      "Thickness of stem (at base) =  320  mm\n",
      "Thickness of stem at top =  200  mm\n",
      "Refer Fig. 19.10 of textbook for reinforcement details\n"
     ]
    }
   ],
   "source": [
    "import math\n",
    "fck=15 #in MPa\n",
    "fy=415 #in MPa\n",
    "phi=30 #angle of repose, in degrees\n",
    "H=5 #height of wall, in m\n",
    "B=0.6*H #assume, in m\n",
    "T=B/4 #assume toe to base ratio as 1:4, in m\n",
    "W=16 #density of retained earth, in kN/cu m\n",
    "Wu=1.5*W #factored load, in kN/cu m\n",
    "P=Wu*H**2/2*(1-math.sin(phi))/(1+math.sin(phi)) #in kN\n",
    "M1=P*H/3 #in kN-m\n",
    "M1=167 #round-off, in kN-m\n",
    " #bending moment at 2.5 m below the top\n",
    "h=2.5 #in m\n",
    "M2=Wu*h**2/2*(1-math.sin(phi))/(1+math.sin(phi))*h/3 #in kN-m\n",
    "M2=21 #round-off, in kN-m\n",
    " #thickness of stem (at the base)\n",
    "d=math.sqrt(M1*10**6/0.138/fck/1000) #in mm\n",
    "d=285 #round-off, in mm\n",
    "dia=20 #assume 20 mm dia bars\n",
    "D1=d+dia/2+25 #in mm\n",
    "D2=200 #thickness at top, in mm\n",
    "D3=D2+(D1-D2)*h/H #thickness at 2.5 m below top, in mm \n",
    "d3=math.sqrt(M2*10**6/0.138/fck/1000) #in mm\n",
    "D3=d3+dia/2+25 #< 260 mm (provided), hence OK\n",
    "D3=260 #in mm\n",
    "d3=D3-dia/2-25 #in mm\n",
    "#main steel\n",
    "#(a) 5 m below the top\n",
    "#Xu=0.87*fy*Ast/0.36/fck/b = a*Ast\n",
    "a=0.87*fy/0.36/fck/10**3\n",
    "#using Mu=0.87 fy Ast (d-0.416 Xu), we get a quadratic equation\n",
    "p=0.87*fy*0.416*a\n",
    "q=-0.87*fy*d\n",
    "r=M1*10**6\n",
    "Ast=(-q-math.sqrt(q**2-4*p*r))/2/p #in sq mm\n",
    "pt=Ast/1000/d*100 #in %\n",
    " #provide 20 mm dia bars\n",
    "s1=1000*0.785*20**2/Ast #in mm\n",
    "s1=155 #round-off, in mm\n",
    "#(b) 2.5 m below the top\n",
    "#Xu=0.87*fy*Ast/0.36/fck/b = a*Ast\n",
    "a=0.87*fy/0.36/fck/10**3\n",
    "#using Mu=0.87 fy Ast (d-0.416 Xu), we get a quadratic equation\n",
    "p=0.87*fy*0.416*a\n",
    "q=-0.87*fy*d3\n",
    "r=M2*10**6\n",
    "Ast=(-q-math.sqrt(q**2-4*p*r))/2/p #in sq mm\n",
    "Astmin=0.12/100*10**3*D3 #in sq mm\n",
    "Ast=max(Ast,Astmin) #in sq mm\n",
    "#provide 12 mm dia bars\n",
    "s2=1000*0.785*12**2/Ast #in mm\n",
    "s2=360 #round-off, in mm\n",
    "#distribution steel\n",
    "Ads=0.12/100*10**3*D3 #in sq mm\n",
    "#provide 8 mm dia bars\n",
    "s3=1000*0.785*8**2/Ads #in mm\n",
    "s3=160 #round-off, in mm\n",
    "#check for shear\n",
    "Vu=P #in kN\n",
    "Tv=Vu*10**3.0/10**3/d #in MPa\n",
    "#for M15 grade concrete and pt=0.71\n",
    "Tc=0.54 #in MPa\n",
    "#as Tc > Tv, no shear reinforcement required\n",
    "#development length\n",
    " #(a) At the base of stem\n",
    "dia=20 #in mm\n",
    "Tbd=1.6 #in MPa\n",
    "Ld=dia*0.87*fy/4/Tbd #in mm\n",
    "Ld=1130 #round-off, in mm\n",
    " #(b) At 2.5 m below the top\n",
    "dia=12 #in mm\n",
    "Ld=dia*0.87*fy/4/Tbd #in mm\n",
    "Ld=680 #round-off, in mm\n",
    "print \"Summary of design:\\nThickness of stem (at base) = \",D1,\" mm\\nThickness of stem at top = \",D2,\" mm\\nRefer Fig. 19.10 of textbook for reinforcement details\"\n"
   ]
  },
  {
   "cell_type": "markdown",
   "metadata": {},
   "source": [
    "## Ex19.11:pg-1024"
   ]
  },
  {
   "cell_type": "code",
   "execution_count": 25,
   "metadata": {
    "collapsed": false
   },
   "outputs": [
    {
     "name": "stdout",
     "output_type": "stream",
     "text": [
      "Summary of design:\n",
      "Column size -  420  x  420  mm\n",
      "Steel-main = 6-20 mm dia bars\n"
     ]
    }
   ],
   "source": [
    "import math\n",
    "P=1000 #in kN\n",
    "Pu=1.5*P #in kN\n",
    "fck=15 #in MPa\n",
    "fy=415 #in MPa\n",
    "l=3.5 #unsupported length, in m\n",
    " #assume 1% steel\n",
    "Ag=Pu*10**3/(0.4*fck*0.99+0.67*fy*0.01) #in sq mm\n",
    "L=math.sqrt(Ag) #assuming a square column\n",
    "L=420 #in mm\n",
    "emin=l*10**3/500+L/30 #in mm\n",
    "ep=0.05*L #=emin, hence OK\n",
    "Asc=0.01*L**2 #in sq mm\n",
    " #provide 6-20 mm dia bars\n",
    "Asc=6*0.785*20**2 #in sq mm\n",
    "print \"Summary of design:\\nColumn size - \",L,\" x \",L,\" mm\\nSteel-main = 6-20 mm dia bars\"\n"
   ]
  },
  {
   "cell_type": "markdown",
   "metadata": {},
   "source": [
    "## Ex19.12:pg-1025"
   ]
  },
  {
   "cell_type": "code",
   "execution_count": 26,
   "metadata": {
    "collapsed": false
   },
   "outputs": [
    {
     "name": "stdout",
     "output_type": "stream",
     "text": [
      "Summary of design:\n",
      "Column size -  315  x  315  mm\n",
      "Steel-main = 4-20 mm dia bars\n"
     ]
    }
   ],
   "source": [
    "import math\n",
    "P=500 #in kN\n",
    "Pu=1.5*P #in kN\n",
    "fck=15 #in MPa\n",
    "fy=250 #in MPa\n",
    "l=3 #unsupported length, in m\n",
    " #assume 1% steel\n",
    "Ag=Pu*10**3/(0.4*fck*0.99+0.67*fy*0.01) #in sq mm\n",
    "L=math.sqrt(Ag) #assuming a square column\n",
    "L=315 #in mm\n",
    "emin=l*10**3.0/500+L/30 #<20\n",
    "emin=20 #in mm\n",
    "ep=0.05*L #<emin, hence the column is to be checked for bending\n",
    "Mu=Pu*10**3*emin #in N-mm\n",
    "a=Pu*10**3/fck/L/L\n",
    "b=Mu/fck/L/L**2 #b=0.032\n",
    "d1=40 #cover(assume), in mm\n",
    "c=d1/L #c=d'/D\n",
    " #for d'/D = 0.15\n",
    "p=0.07*fck #in %\n",
    "Asc=p/100*L**2 #in sq mm\n",
    " #provide 4-20 mm dia bars\n",
    "Asc=4*0.785*20**2 #in sq mm\n",
    "print \"Summary of design:\\nColumn size - \",L,\" x \",L,\" mm\\nSteel-main = 4-20 mm dia bars\"\n"
   ]
  },
  {
   "cell_type": "markdown",
   "metadata": {},
   "source": [
    "## Ex19.13:pg-1026"
   ]
  },
  {
   "cell_type": "code",
   "execution_count": 27,
   "metadata": {
    "collapsed": false
   },
   "outputs": [
    {
     "name": "stdout",
     "output_type": "stream",
     "text": [
      "Summary of design:\n",
      "Column size -  250  x  400  mm\n",
      "Steel-main = 6-16 mm dia bars\n"
     ]
    }
   ],
   "source": [
    "import math\n",
    "P=500 #in kN\n",
    "Pu=1.5*P #in kN\n",
    "fck=15 #in MPa\n",
    "fy=250 #in MPa\n",
    "l=3 #unsupported length, in m\n",
    " #assume 1% steel\n",
    "Ag=Pu*10**3/(0.4*fck*0.99+0.67*fy*0.01) #in sq mm\n",
    "b=250 #in mm\n",
    "D=Ag/b #in mm\n",
    "D=400 #round-off, in mm\n",
    "emin1=l*10**3/500+D/30 #in direction of Y axis, in mm, < 20 mm\n",
    "emin1=20 #in mm\n",
    "ep1=0.05*D #=emin, hence no moment is required to be considered in this direction\n",
    "emin2=l*10**3/500+b/30 #in direction of X axis, in mm, < 20 mm\n",
    "emin2=20 #in mm\n",
    "ep2=0.05*b #<emin, hence moment in this direction needs to be considered\n",
    " #interaction diagram\n",
    "b=400 #in mm\n",
    "D=250 #in mm\n",
    "Mu=Pu*10**3*emin2 #in N-mm\n",
    "m=Pu*10**3/fck/b/D\n",
    "n=Mu/fck/b/D**2 #b=0.032\n",
    "d1=40 #cover(assume), in mm\n",
    "c=d1/D #c=d'/D\n",
    " #referring to Fig. 19.12\n",
    "p=0.08*fck #in %\n",
    "Asc=p/100*b*D #in sq mm\n",
    " #provide 6-16 dia bars\n",
    "Asc=6*0.785*16**2 #in sq mm\n",
    "print \"Summary of design:\\nColumn size - \",D,\" x \",b,\" mm\\nSteel-main = 6-16 mm dia bars\"\n"
   ]
  },
  {
   "cell_type": "markdown",
   "metadata": {},
   "source": [
    "## Ex19.14:pg-1027"
   ]
  },
  {
   "cell_type": "code",
   "execution_count": 28,
   "metadata": {
    "collapsed": false
   },
   "outputs": [
    {
     "name": "stdout",
     "output_type": "stream",
     "text": [
      "Summary of design:\n",
      "Column size -  315.0  x  315.0  mm\n",
      "Steel-main = 4-18 mm + 4-12 mm dia bars\n"
     ]
    }
   ],
   "source": [
    "import math\n",
    "P=500.0 #in kN\n",
    "Pu=1.5*P #in kN\n",
    "fck=15.0 #in MPa\n",
    "fy=250.0 #in MPa\n",
    "l=5.0 #effective length, in m\n",
    "lex=5.0 #in m\n",
    "ley=5.0 #in m\n",
    "L=315.0 #column dimension in mm (square column)\n",
    "Asc=1256.0 #in sq mm\n",
    "m=lex*10**3/L #>12\n",
    "n=ley*10**3/L #>12\n",
    " #hence the column is slender on both the axes\n",
    "Max=Pu*10**3*L/2000*(lex/(L/10**3))**2.0/10**6 #in kN-m\n",
    "May=Max\n",
    "Puz=(0.45*fck*(L**2-Asc)+0.75*fy*Asc)/10**3 #in kN\n",
    "c=40 #cover, in mm\n",
    " #to find Pb\n",
    "xu=(L-c)/(1+0.002/0.0035) #in mm\n",
    "Pb=0.36*fck*L*xu/10**3 #in kN\n",
    "k=(Puz-Pu)/(Puz-Pb) #>1\n",
    "Max=k*Max #in kN-m\n",
    "Mu=15 #in kN-m\n",
    "Mu=Mu+Max #in kN-m\n",
    "a=Pu*10**3/fck/L/L\n",
    "b=Mu*10**6/fck/L/L**2 #b=0.047\n",
    "d1=c/L #d1=d'/D\n",
    " #for d'/D = 0.1\n",
    "p=0.095*fck #in %\n",
    "Asc=p/100*L**2 #in sq mm\n",
    " #provide 4-18 mm + 4-12 mm dia bars\n",
    "Asc=4*0.785*18**2+4*0.785*12**2 #in sq mm\n",
    "print \"Summary of design:\\nColumn size - \",L,\" x \",L,\" mm\\nSteel-main = 4-18 mm + 4-12 mm dia bars\"\n"
   ]
  },
  {
   "cell_type": "markdown",
   "metadata": {},
   "source": [
    "## Ex19.15:pg-1028"
   ]
  },
  {
   "cell_type": "code",
   "execution_count": 29,
   "metadata": {
    "collapsed": false
   },
   "outputs": [
    {
     "name": "stdout",
     "output_type": "stream",
     "text": [
      "Summary of design:\n",
      "Column size -  400  x  400  mm\n",
      "Steel-main = 12-22 mm dia bars placed equally on four faces of the column\n"
     ]
    }
   ],
   "source": [
    "import math\n",
    "Pu=2000.0 #in kN\n",
    "Mux=50.0 #in kN-m\n",
    "Muy=Mux\n",
    "fck=20.0 #in MPa\n",
    "fy=415.0 #in MPa\n",
    " #assume 2% steel\n",
    "p=2 #in %\n",
    "Ag=Pu*10**3/(0.4*fck*(1-p/100)+0.67*fy*p/100) #in sq mm\n",
    "L=math.sqrt(Ag) #assuming a square column\n",
    "L=400 #in mm\n",
    "m=Pu*10**3/fck/L/L\n",
    "n=p/fck\n",
    "c=50 #cover (assume), in mm\n",
    "d1=c/L #d1=d'/D\n",
    " #from Fig. 19.21, for d'/D = 0.15 and Pu / fck b D = 0.625\n",
    "f=0.046\n",
    "Mux1=f*fck*L*L**2.0/10**6 #in kN-m\n",
    "Muy1=Mux1\n",
    "Puz=(0.45*fck*(1-p/100)*L**2+0.75*fy*p/100*L**2)/10**3 #in kN\n",
    "a=Pu/Puz #>0.8\n",
    "an=2\n",
    "b=(Mux/Mux1)**an+(Muy/Muy1)**an #>1\n",
    " #assume 2.5% steel\n",
    "p=2.5 #in %\n",
    "n=p/fck\n",
    " #from Fig. 19.21, for d'/D = 0.15 and Pu / fck b D = 0.625\n",
    "f=0.08\n",
    "Mux1=f*fck*L*L**2/10**6 #in kN-m\n",
    "Muy1=Mux1\n",
    "Puz=(0.45*fck*(1-p/100)*L**2+0.75*fy*p/100*L**2)/10**3 #in kN\n",
    "a=Pu/Puz #<0.8\n",
    "an=1+1/0.6*(a-0.2)\n",
    "b=(Mux/Mux1)**an+(Muy/Muy1)**an #<1, hence OK\n",
    "Asc=p/100*L**2 #in sq mm\n",
    " #provide 12-22 mm dia bars\n",
    "Asc=12*0.785*22**2 #in sq mm\n",
    "print \"Summary of design:\\nColumn size - \",L,\" x \",L,\" mm\\nSteel-main = 12-22 mm dia bars placed equally on four faces of the column\"\n"
   ]
  },
  {
   "cell_type": "markdown",
   "metadata": {},
   "source": [
    "## Ex19.16:pg-1029"
   ]
  },
  {
   "cell_type": "code",
   "execution_count": 30,
   "metadata": {
    "collapsed": false
   },
   "outputs": [
    {
     "name": "stdout",
     "output_type": "stream",
     "text": [
      "Summary of design:\n",
      "Column size -  400  x  500  mm\n",
      "Steel-main = 6-16 mm + 6-20 mm dia bars\n"
     ]
    }
   ],
   "source": [
    "import math\n",
    "b=400 #in mm\n",
    "D=500 #in mm\n",
    "Pu=1600 #in kN\n",
    "Mux=90 #in kN-m\n",
    "Muy=50 #in kN-m\n",
    "fck=15 #in MPa\n",
    "fy=415 #in MPa\n",
    "p=1.5 #assume 1.5% steel, placed on four sides\n",
    "m=p/fck\n",
    "c=50 #cover (assume), in mm\n",
    " #to find Mux1\n",
    "n=c/D #n=d'/D\n",
    "l=Pu*10**3/fck/b/D\n",
    " #referring to Fig.19.20, for Pu/ fck/ b/ D = 0.53 and p/ fck = 0.1\n",
    "f=0.09\n",
    "Mux1=f*fck*b*D**2/10**6 #in kN-m\n",
    " #to find Muy1\n",
    "b=500 #in mm\n",
    "D=400 #in mm\n",
    "n=c/D #n=d'/D\n",
    "l=Pu*10**3/fck/b/D\n",
    " #referring to Fig.19.21, for Pu/ fck/ b/ D = 0.53 and p/ fck = 0.1\n",
    "f=0.08\n",
    "Muy1=f*fck*b*D**2/10**6 #in kN-m\n",
    "Puz=(0.45*fck*(1-p/100)*b*D+0.75*fy*p/100*b*D)/10**3 #in kN\n",
    "a=Pu/Puz #<0.8\n",
    "an=1+1/0.6*(a-0.2)\n",
    "r=(Mux/Mux1)**an+(Muy/Muy1)**an #<1\n",
    "Asc=p/100*b*D #in sq mm\n",
    " #provide 6-16 mm + 6-20 mm dia bars\n",
    "Asc=6*0.785*16**2+6*0.785*20**2 #in sq mm\n",
    "print \"Summary of design:\\nColumn size - \",D,\" x \",b,\" mm\\nSteel-main = 6-16 mm + 6-20 mm dia bars\"\n",
    " #answer in textbook is incorrect\n"
   ]
  },
  {
   "cell_type": "markdown",
   "metadata": {},
   "source": [
    "## Ex19.17:pg-1030"
   ]
  },
  {
   "cell_type": "code",
   "execution_count": 31,
   "metadata": {
    "collapsed": false
   },
   "outputs": [
    {
     "name": "stdout",
     "output_type": "stream",
     "text": [
      "Summary of design:\n",
      "Column size -  3.0  x  600  mm\n",
      "Steel-main = 12-25 mm dia bars\n"
     ]
    }
   ],
   "source": [
    "import math\n",
    "b=300 #in mm\n",
    "Pu=1500 #in kN\n",
    "Mux=100 #in kN-m\n",
    "Muy=70 #in kN-m\n",
    "fck=15 #in MPa\n",
    "fy=250 #in MPa\n",
    "p=1.5 #assume 1.5% steel, placed on four sides\n",
    "Ag=Pu*10**3/(0.4*fck*(1-p/100)+0.67*fy*p/100) #in sq mm\n",
    "D=Ag/b #in mm\n",
    "D=600 #assume, in mm\n",
    "m=p/fck\n",
    "c=60 #cover (assume), in mm\n",
    " #to find Mux1\n",
    "n=c/D #n=d'/D\n",
    "l=Pu*10**3/fck/b/D\n",
    " #referring to Fig.19.17, for Pu/ fck/ b/ D = 0.56 and p/ fck = 0.1\n",
    "f=0.038\n",
    "Mux1=f*fck*b*D**2/10**6 #in kN-m\n",
    " #to find Muy1\n",
    "b=600 #in mm\n",
    "D=300 #in mm\n",
    "n=c/D #n=d'/D\n",
    "l=Pu*10**3/fck/b/D\n",
    " #referring to Fig.19.19, for Pu/ fck/ b/ D = 0.56 and p/ fck = 0.1\n",
    "f=0.038\n",
    "Muy1=f*fck*b*D**2.0/10**6 #in kN-m\n",
    "Puz=(0.45*fck*(1-p/100)*b*D+0.75*fy*p/100*b*D)/10**3 #in kN\n",
    "a=Pu/Puz #>0.8\n",
    "an=2\n",
    "r=(Mux/Mux1)**an+(Muy/Muy1)**an #>1\n",
    "p=4 #assume 4% steel, second trial\n",
    "m=p/fck\n",
    " #to find Mux1\n",
    "b=300 #in mm\n",
    "D=600 #in mm\n",
    " #referring to Fig.19.17, for Pu/ fck/ b/ D = 0.56 and p/ fck = 0.26\n",
    "f=0.15\n",
    "Mux1=f*fck*b*D**2/10**6 #in kN-m\n",
    " #to find Muy1\n",
    "b=600 #in mm\n",
    "D=300 #in mm\n",
    "n=c/D #n=d'/D\n",
    " #referring to Fig.19.19, for Pu/ fck/ b/ D = 0.56 and p/ fck = 0.26\n",
    "f=0.15\n",
    "Muy1=f*fck*b*D**2.0/10**6 #in kN-m\n",
    "Puz=(0.45*fck*(1-p/100)*b*D+0.75*fy*p/100*b*D)/10**3 #in kN\n",
    "a=Pu/Puz #<0.8\n",
    "an=1+1/0.6*(a-0.2)\n",
    "r=(Mux/Mux1)**an+(Muy/Muy1)**an #<1, hence OK\n",
    " #but steel can be reduced\n",
    "p=3 #assume 3% steel, second trial\n",
    "m=p/fck\n",
    " #to find Mux1\n",
    "b=300 #in mm\n",
    "D=600 #in mm\n",
    " #referring to Fig.19.17, for Pu/ fck/ b/ D = 0.56 and p/ fck = 0.2\n",
    "f=0.12\n",
    "Mux1=f*fck*b*D**2.0/10**6 #in kN-m\n",
    " #to find Muy1\n",
    "b=600 #in mm\n",
    "D=300 #in mm\n",
    "n=c/D #n=d'/D\n",
    " #referring to Fig.19.19, for Pu/ fck/ b/ D = 0.56 and p/ fck = 0.2\n",
    "f=0.12\n",
    "Muy1=f*fck*b*D**2.0/10**6 #in kN-m\n",
    "Puz=(0.45*fck*(1-p/100)*b*D+0.75*fy*p/100*b*D)/10**3 #in kN\n",
    "a=Pu/Puz #<0.8\n",
    "an=1+1/0.6*(a-0.2)\n",
    "r=(Mux/Mux1)**an+(Muy/Muy1)**an #<1, hence OK\n",
    "Asc=p/100*b*D #in sq mm\n",
    " #provide 12-25 dia bars\n",
    "Asc=12*0.785*25**2 #in sq mm\n",
    "print \"Summary of design:\\nColumn size - \",B,\" x \",b,\" mm\\nSteel-main = 12-25 mm dia bars\"\n"
   ]
  }
 ],
 "metadata": {
  "kernelspec": {
   "display_name": "Python 2",
   "language": "python",
   "name": "python2"
  },
  "language_info": {
   "codemirror_mode": {
    "name": "ipython",
    "version": 2
   },
   "file_extension": ".py",
   "mimetype": "text/x-python",
   "name": "python",
   "nbconvert_exporter": "python",
   "pygments_lexer": "ipython2",
   "version": "2.7.11"
  }
 },
 "nbformat": 4,
 "nbformat_minor": 0
}
