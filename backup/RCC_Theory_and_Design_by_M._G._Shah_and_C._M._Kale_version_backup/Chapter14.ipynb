{
 "cells": [
  {
   "cell_type": "markdown",
   "metadata": {},
   "source": [
    "# Chapter 14:Limit State Met"
   ]
  },
  {
   "cell_type": "markdown",
   "metadata": {},
   "source": [
    "## Ex14.1:pg-761"
   ]
  },
  {
   "cell_type": "code",
   "execution_count": 8,
   "metadata": {
    "collapsed": false
   },
   "outputs": [
    {
     "name": "stdout",
     "output_type": "stream",
     "text": [
      "Moment of resistance of the beam= 113.63413824  kN-m\n"
     ]
    }
   ],
   "source": [
    "import math\n",
    "b=250 #width, in mm\n",
    "d=500 #effective depth, in mm\n",
    "Ast=4*0.785*20**2 #four 20 mm dia bars, in sq mm\n",
    "fck=15 #in MPa\n",
    "fy=250 #in MPa\n",
    "Xu=round(0.87*fy*Ast/0.36/fck/b) #in mm\n",
    "Xc=0.531*d #in mm\n",
    " #as Xu<Xc, it is under-reinforced section, hence OK\n",
    "Mu=0.87*fy*Ast*(d-0.416*Xu)/10**6 #in kN-m\n",
    "print \"Moment of resistance of the beam=\",Mu,\" kN-m\"\n"
   ]
  },
  {
   "cell_type": "markdown",
   "metadata": {},
   "source": [
    "## Ex14.2:pg-761"
   ]
  },
  {
   "cell_type": "code",
   "execution_count": 9,
   "metadata": {
    "collapsed": false
   },
   "outputs": [
    {
     "name": "stdout",
     "output_type": "stream",
     "text": [
      "Moment of resistance of the beam= 215.491597517  kN-m\n",
      "Steel required= 1019.0  sq mm\n"
     ]
    }
   ],
   "source": [
    "import math\n",
    "b=300 #width, in mm\n",
    "d=600 #effective depth, in mm\n",
    "fck=15 #in MPa\n",
    "fy=500 #in MPa\n",
    "Xc=0.456*d #in mm\n",
    "Mu=0.36*fck*b*Xc*(d-0.416*Xc)/10**6 #in kN-m\n",
    "Ast=round(0.36*fck*b*Xc/0.87/fy) #in sq mm\n",
    "print \"Moment of resistance of the beam=\",Mu,\" kN-m\\nSteel required=\",Ast,\" sq mm\"\n"
   ]
  },
  {
   "cell_type": "markdown",
   "metadata": {},
   "source": [
    "## Ex14.3:pg-762"
   ]
  },
  {
   "cell_type": "code",
   "execution_count": 10,
   "metadata": {
    "collapsed": false
   },
   "outputs": [
    {
     "name": "stdout",
     "output_type": "stream",
     "text": [
      "Moment of resistance of the beam= 298.250458214  kN-m\n",
      "Steel required= 1719.0  sq mm\n"
     ]
    }
   ],
   "source": [
    "import math\n",
    "b=300 #width, in mm\n",
    "d=600 #effective depth, in mm\n",
    "fck=20 #in MPa\n",
    "fy=415 #in MPa\n",
    "Xc=0.479*d #in mm\n",
    "Mu=0.36*fck*b*Xc*(d-0.416*Xc)/10**6 #in kN-m\n",
    "Ast=round(0.36*fck*b*Xc/0.87/fy) #in sq mm\n",
    "print \"Moment of resistance of the beam=\",Mu,\" kN-m\\nSteel required=\",(Ast),\" sq mm\"\n",
    " #answer does not match with textbook because of round-off error\n"
   ]
  },
  {
   "cell_type": "markdown",
   "metadata": {},
   "source": [
    "## Ex14.3:pg-763"
   ]
  },
  {
   "cell_type": "code",
   "execution_count": 11,
   "metadata": {
    "collapsed": false
   },
   "outputs": [
    {
     "name": "stdout",
     "output_type": "stream",
     "text": [
      "Safe load on the beam= 24.6170681259  kN/m\n"
     ]
    }
   ],
   "source": [
    "import math\n",
    "b=300 #width, in mm\n",
    "d=650 #effective depth, in mm\n",
    "Ast=942 #in sq mm\n",
    "lef=6 #in m\n",
    "fck=20 #in MPa\n",
    "fy=340 #in MPa\n",
    "Xu=round(0.87*fy*Ast/0.36/fck/b) #in mm\n",
    "Xc=0.5*d #in mm\n",
    " #as Xu<Xc, it is under-reinforced beam, hence OK\n",
    "Mu=0.87*fy*Ast*(d-0.416*Xu)/10**6 #in kN-m\n",
    "Wu=Mu*8/lef**2 #in kN/m\n",
    "self_weight=25*(b/1000)*(d/1000) #in kN/m\n",
    "W=Wu/1.5-self_weight #in kN/m\n",
    "print \"Safe load on the beam=\",W,\" kN/m\"\n"
   ]
  },
  {
   "cell_type": "markdown",
   "metadata": {},
   "source": [
    "## Ex14.4:pg-764"
   ]
  },
  {
   "cell_type": "code",
   "execution_count": 12,
   "metadata": {
    "collapsed": false
   },
   "outputs": [
    {
     "name": "stdout",
     "output_type": "stream",
     "text": [
      "Safe load on the slab= 16.3561454229  kN/m\n"
     ]
    }
   ],
   "source": [
    "import math\n",
    "b=1000 #width, in mm\n",
    "d=120 #effective depth, in mm\n",
    "Ast=1412 #in sq mm\n",
    "lef=3.2 #in m\n",
    "fck=20 #in MPa\n",
    "fy=250 #in MPa\n",
    "Xu=0.87*fy*Ast/0.36/fck/b #in mm\n",
    "Xc=0.531*d #in mm\n",
    " #as Xu<Xc, it is under-reinforced section, hence OK\n",
    "Mu=0.87*fy*Ast*(d-0.416*Xu)/10**6 #in kN-m\n",
    "Wu=Mu*8/lef**2 #in kN/m\n",
    "self_weight=25*(b/1000)*(d/1000) #in kN/m\n",
    "W=Wu/1.5-self_weight #in kN/m\n",
    "print \"Safe load on the slab=\",W,\" kN/m\"\n"
   ]
  },
  {
   "cell_type": "markdown",
   "metadata": {},
   "source": [
    "## Ex14.5:pg-765"
   ]
  },
  {
   "cell_type": "code",
   "execution_count": 13,
   "metadata": {
    "collapsed": false
   },
   "outputs": [
    {
     "name": "stdout",
     "output_type": "stream",
     "text": [
      "b= 222  mm\n",
      "d= 445  mm\n",
      "Ast= 1302.0  sq mm\n"
     ]
    }
   ],
   "source": [
    "import math\n",
    "fck=15 #in MPa\n",
    "fy=250 #in MPa\n",
    " #b=d/2\n",
    "M=65 #in kN-m\n",
    "Mu=1.5*M #factored moment, in kN-m\n",
    "d=(Mu*10**6/(0.149*fck*0.5))**(1/3) #in mm\n",
    "d=445 #approximately, in mm\n",
    "b=d/2 #in mm\n",
    "Xc=0.531*d #in mm\n",
    "Ast=round(0.36*fck*b*Xc/0.87/fy) #in sq mm\n",
    "print \"b=\",b,\" mm\\nd=\",d,\" mm\\nAst=\",Ast,\" sq mm\"\n",
    " #answer does not match with textbook because of round-off error\n"
   ]
  },
  {
   "cell_type": "markdown",
   "metadata": {},
   "source": [
    "## Ex14.6:pg-766"
   ]
  },
  {
   "cell_type": "code",
   "execution_count": 14,
   "metadata": {
    "collapsed": false
   },
   "outputs": [
    {
     "name": "stdout",
     "output_type": "stream",
     "text": [
      "Area of steel required= 959.0  sq mm\n"
     ]
    }
   ],
   "source": [
    "import math\n",
    "b=300 #width, in mm\n",
    "d=500 #effective depth, in mm\n",
    "fck=20 #in MPa\n",
    "fy=500 #in MPa\n",
    "Mu=175 #in kN-m\n",
    "Mulim=0.133*fck*b*d**2/10**6 #in kN-m\n",
    "#as Mu<Mulim, beam is under-reinforced\n",
    "#using Cu=Tu, Xu=0.87 fy Ast/(0.36 fck b); let Xu= a Ast\n",
    "a=0.87*fy/(0.36*fck*b)\n",
    " #Mu=0.87 fy Ast (d-0.416 Xu), putting Xu = a Ast, we get p Ast**2 + q Ast + r =0\n",
    "p=0.87*0.416*fy*a\n",
    "q=-0.87*fy*d\n",
    "r=Mu*10**6\n",
    " #solving the quadratic equation\n",
    "Ast=round((-q-math.sqrt(q**2-4*p*r))/2/p) #in sq mm\n",
    "print \"Area of steel required=\",(Ast),\" sq mm\"\n"
   ]
  }
 ],
 "metadata": {
  "kernelspec": {
   "display_name": "Python 2",
   "language": "python",
   "name": "python2"
  },
  "language_info": {
   "codemirror_mode": {
    "name": "ipython",
    "version": 2
   },
   "file_extension": ".py",
   "mimetype": "text/x-python",
   "name": "python",
   "nbconvert_exporter": "python",
   "pygments_lexer": "ipython2",
   "version": "2.7.11"
  }
 },
 "nbformat": 4,
 "nbformat_minor": 0
}
