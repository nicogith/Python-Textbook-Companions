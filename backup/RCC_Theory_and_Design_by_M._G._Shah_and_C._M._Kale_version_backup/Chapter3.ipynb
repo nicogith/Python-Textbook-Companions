{
 "cells": [
  {
   "cell_type": "markdown",
   "metadata": {},
   "source": [
    "# Chapter 3:T and L Beams"
   ]
  },
  {
   "cell_type": "markdown",
   "metadata": {},
   "source": [
    "## Ex3.1:pg-72"
   ]
  },
  {
   "cell_type": "code",
   "execution_count": 3,
   "metadata": {
    "collapsed": false
   },
   "outputs": [
    {
     "name": "stdout",
     "output_type": "stream",
     "text": [
      "Neutral axis depth= 240  mm\n",
      "Area of steel= 4334.41693757  mm**2\n"
     ]
    }
   ],
   "source": [
    "import math\n",
    "Bf=1300 #width of flange, in mm\n",
    "Df=80.0 #thickness of flange, in mm\n",
    "d=600 #effective depth, in mm\n",
    "sigma_cbc=7 #in MPa\n",
    "sigma_st=140 #in MPa\n",
    "m=13.33 #modular ratio\n",
    " #to find critical depth of neutral axis\n",
    "Xc=d/(1+sigma_st/(m*sigma_cbc)) #in mm\n",
    "Xc=240 #round-off, in mm\n",
    " #to find Ast\n",
    "Ast=Bf*Df*(Xc-Df/2)/(m*(d-Xc)) #in sq mm\n",
    "print \"Neutral axis depth=\",(Xc),\" mm\\nArea of steel=\",Ast,\" mm**2\"\n"
   ]
  },
  {
   "cell_type": "markdown",
   "metadata": {},
   "source": [
    "## Ex3.2:pg-72"
   ]
  },
  {
   "cell_type": "code",
   "execution_count": 5,
   "metadata": {
    "collapsed": false
   },
   "outputs": [
    {
     "name": "stdout",
     "output_type": "stream",
     "text": [
      "Neutral axis depth= 263  mm\n"
     ]
    }
   ],
   "source": [
    "import math\n",
    "Bf=1500 #width of flange, in mm\n",
    "Bw=300 #breadth of web, in mm\n",
    "Df=100 #thickness of flange, in mm\n",
    "d=700 #effective depth, in mm\n",
    "m=18.66 #modular ratio\n",
    "Ast=8*0.785*25**2 #eight 25 mm dia bars, in sq mm\n",
    " #assume depth of neutral axis is less than or equal to thickness of flange; find x using Bf(x**2)/2=mAst(d-x), which becomes of the form px**2+qx+r=0\n",
    "p=Bf/2.0\n",
    "q=m*Ast\n",
    "r=-m*Ast*d\n",
    " #solving quadratic equation\n",
    "x=(-q+math.sqrt(q**2-4*p*r))/(2*p) #in mm\n",
    " #x>Df; hence our assumption is incorrect; equating moments of area on compression and tension sides about N.A.\n",
    "x=(m*Ast*d+Bf*Df**2/2)/(m*Ast+Bf*Df) #in mm\n",
    "x=263 #round-off, in mm\n",
    "print \"Neutral axis depth=\",(x),\" mm\"\n"
   ]
  },
  {
   "cell_type": "markdown",
   "metadata": {},
   "source": [
    "## Ex3.3:pg-73"
   ]
  },
  {
   "cell_type": "code",
   "execution_count": 8,
   "metadata": {
    "collapsed": false
   },
   "outputs": [
    {
     "name": "stdout",
     "output_type": "stream",
     "text": [
      "Neutral axis depth= 84.45  mm\n"
     ]
    }
   ],
   "source": [
    "import math\n",
    "Bf=1200 #width of flange, in mm\n",
    "Bw=200 #breadth of web, in mm\n",
    "Df=100 #thickness of flange, in mm\n",
    "d=400 #effective depth, in mm\n",
    "m=13.33 #modular ratio\n",
    "Ast=4*0.785*18**2 #four 18mm dia bars, in sq mm\n",
    " #assume x > Df; ; equating moments of area on compression and tension sides about N.A.\n",
    "x=(m*Ast*d+Bf*Df**2/2.0)/(m*Ast+Bf*Df) #in mm\n",
    " #as x < Df; our assumption was incorrect\n",
    "#x < Df; find x using Bf(x**2)/2=mAst(d-x), which becomes of the form px**2+qx+r=0\n",
    "p=Bf/2\n",
    "q=m*Ast\n",
    "r=-m*Ast*d\n",
    " #solving quadratic equation\n",
    "x=(-q+math.sqrt(q**2-4*p*r))/(2*p) #in mm\n",
    " #x<Df; hence our assumption is correct\n",
    "print \"Neutral axis depth=\",round(x,2),\" mm\"\n"
   ]
  },
  {
   "cell_type": "markdown",
   "metadata": {},
   "source": [
    "## Ex3.4:pg-74"
   ]
  },
  {
   "cell_type": "code",
   "execution_count": 9,
   "metadata": {
    "collapsed": false
   },
   "outputs": [
    {
     "name": "stdout",
     "output_type": "stream",
     "text": [
      "Moment of resistance of the beam= 359.322310166 kN-m\n"
     ]
    }
   ],
   "source": [
    "import math\n",
    "Bf=1500 #width of flange, in mm\n",
    "Bw=300 #breadth of web, in mm\n",
    "Df=100 #thickness of flange, in mm\n",
    "d=700 #effective depth, in mm\n",
    "sigma_cbc=5 #in MPa\n",
    "sigma_st=140 #in MPa\n",
    "m=18.66 #modular ratio\n",
    "Ast=8*0.785*25**2 #eight 25 mm dia bars, in sq mm\n",
    " #assume x < Df; find x using Bf(x**2)/2=mAst(d-x), which becomes of the form px**2+qx+r=0\n",
    "p=Bf/2\n",
    "q=m*Ast\n",
    "r=-m*Ast*d\n",
    " #solving quadratic equation\n",
    "x=(-q+math.sqrt(q**2-4*p*r))/(2*p) #in mm\n",
    " #x > Df; hence our assumption is incorrect; equating moments of area on compression and tension sides about N.A.\n",
    "x=(m*Ast*d+Bf*Df**2/2)/(m*Ast+Bf*Df) #in mm\n",
    " #to find critical depth of neutral axis\n",
    "Xc=d/(1+sigma_st/(m*sigma_cbc)) #in mm\n",
    " #as x < Xc, beam is under-reinforced\n",
    "sigma_cbc=sigma_st/m*x/(d-x) #in MPa\n",
    "sigma_cbc_dash=sigma_cbc*(x-Df)/x #in MPa\n",
    " #to find lever arm\n",
    "z=d-(sigma_cbc+2*sigma_cbc_dash)/(sigma_cbc+sigma_cbc_dash)*Df/3 #in mm\n",
    "Mr=Bf*Df*(sigma_cbc+sigma_cbc_dash)*z/2 #in N-mm\n",
    "print \"Moment of resistance of the beam=\",Mr/10**6,\"kN-m\"\n"
   ]
  },
  {
   "cell_type": "markdown",
   "metadata": {},
   "source": [
    "## Ex3.5:pg-76"
   ]
  },
  {
   "cell_type": "code",
   "execution_count": 10,
   "metadata": {
    "collapsed": false
   },
   "outputs": [
    {
     "name": "stdout",
     "output_type": "stream",
     "text": [
      "Moment of resistance of the beam= 71.8778860857 kN-m\n"
     ]
    }
   ],
   "source": [
    "import math\n",
    "Bf=1200 #width of flange, in mm\n",
    "Bw=200 #breadth of web, in mm\n",
    "Df=100 #thickness of flange, in mm\n",
    "d=400 #effective depth, in mm\n",
    "sigma_cbc=7 #in MPa\n",
    "sigma_st=190 #in MPa\n",
    "m=13.33 #modular ratio\n",
    "Ast=4*0.785*18**2 #four 18 mm dia bars, in sq mm\n",
    "#assume x < Df; find x using Bf(x**2)/2=mAst(d-x), which becomes of the form px**2+qx+r=0\n",
    "p=Bf/2\n",
    "q=m*Ast\n",
    "r=-m*Ast*d\n",
    "#solving quadratic equation\n",
    "x=(-q+math.sqrt(q**2-4*p*r))/(2*p) #in mm\n",
    "#x < Df; hence our assumption is correct\n",
    "#to find critical depth of neutral axis\n",
    "Xc=d/(1+sigma_st/(m*sigma_cbc)) #in mm\n",
    "#as x < Xc, beam is under-reinforced\n",
    "sigma_cbc=sigma_st/m*x/(d-x) #in MPa\n",
    "#taking moments about tensile steel\n",
    "Mr=Bf*x*sigma_cbc*(d-x/3)/2 #in N-mm\n",
    "print \"Moment of resistance of the beam=\",Mr/10**6,\"kN-m\"\n"
   ]
  },
  {
   "cell_type": "markdown",
   "metadata": {},
   "source": [
    "## Ex3.7:pg-77"
   ]
  },
  {
   "cell_type": "code",
   "execution_count": 12,
   "metadata": {
    "collapsed": false
   },
   "outputs": [
    {
     "name": "stdout",
     "output_type": "stream",
     "text": [
      "Moment of resistance of the beam= 110.719528403  kN-m\n"
     ]
    }
   ],
   "source": [
    "import math\n",
    "Bf=1500 #width of flange, in mm\n",
    "Bw=200 #breadth of web, in mm\n",
    "Df=100 #thickness of flange, in mm\n",
    "d=400 #effective depth, in mm\n",
    "sigma_cbc=5 #in MPa\n",
    "sigma_st=140 #in MPa\n",
    "m=18.66 #modular ratio\n",
    "Ast=2190 #in sq mm\n",
    " #assume x>Df\n",
    "x=(m*Ast*d+Bf*Df**2/2)/(m*Ast+Bf*Df) #in mm\n",
    " #to find critical depth of neutral axis\n",
    "Xc=d/(1+sigma_st/(m*sigma_cbc)) #in mm\n",
    " #as x<Xc, beam is under-reinforced\n",
    "sigma_cbc=sigma_st/m*x/(d-x) #in MPa\n",
    "sigma_cbc_dash=sigma_cbc*(x-Df)/x #in MPa\n",
    " #to find lever arm\n",
    "z=d-(sigma_cbc+2*sigma_cbc_dash)/(sigma_cbc+sigma_cbc_dash)*Df/3 #in mm\n",
    " #taking moments about tensile steel\n",
    "Mr=Bf*Df*(sigma_cbc+sigma_cbc_dash)*z/2 #in N-mm\n",
    "print \"Moment of resistance of the beam=\",Mr/10**6,\" kN-m\"\n"
   ]
  },
  {
   "cell_type": "markdown",
   "metadata": {},
   "source": [
    "## Ex3.8:pg-78"
   ]
  },
  {
   "cell_type": "code",
   "execution_count": 13,
   "metadata": {
    "collapsed": false
   },
   "outputs": [
    {
     "name": "stdout",
     "output_type": "stream",
     "text": [
      "Moment of resistance of the beam= 137.638859204  kN-m\n",
      "Capacity to take uniformly distributed load(including self-weight)= 30.5864131564  kN/m\n"
     ]
    }
   ],
   "source": [
    "import math\n",
    "Bf=1200 #width of flange, in mm\n",
    "Bw=300 #breadth of web, in mm\n",
    "Df=120 #thickness of flange, in mm\n",
    "d=500 #effective depth, in mm\n",
    "sigma_cbc=7 #in MPa\n",
    "sigma_st=190 #in MPa\n",
    "m=13.33 #modular ratio\n",
    "Ast=5*0.785*20**2 #five 20 mm dia bars, in sq mm\n",
    "l=6 #span, in m\n",
    "#assume depth of neutral axis is less than or equal to thickness of flange; find x using Bf(x**2)/2=mAst(d-x), which becomes of the form px**2+qx+r=0\n",
    "p=Bf/2\n",
    "q=m*Ast\n",
    "r=-m*Ast*d\n",
    "#solving quadratic equation\n",
    "x=(-q+math.sqrt(q**2-4*p*r))/(2*p) #in mm\n",
    "#x < Df; hence our assumption is correct\n",
    "#to find critical depth of neutral axis\n",
    "Xc=d/(1+sigma_st/(m*sigma_cbc)) #in mm\n",
    "#as x<Xc, beam is under-reinforced\n",
    "sigma_cbc=sigma_st/m*x/(d-x) #in MPa\n",
    "#taking moments about tensile steel\n",
    "Mr=Bf*x*sigma_cbc*(d-x/3)/2 #in N-mm\n",
    "W=(Mr/10**6)*8.0/l**2 #in kN/m\n",
    "print \"Moment of resistance of the beam=\", Mr/10**6,\" kN-m\\nCapacity to take uniformly distributed load(including self-weight)=\",W,\" kN/m\""
   ]
  },
  {
   "cell_type": "markdown",
   "metadata": {},
   "source": [
    "## Ex3.9:pg-79"
   ]
  },
  {
   "cell_type": "code",
   "execution_count": 15,
   "metadata": {
    "collapsed": false
   },
   "outputs": [
    {
     "name": "stdout",
     "output_type": "stream",
     "text": [
      "Stress in concrete= 2.36901404247  N/mm**2\n",
      "Stress in tension steel= 73.0962080852  N/mm**2\n"
     ]
    }
   ],
   "source": [
    "import math\n",
    "Bf=1400 #width of flange, in mm\n",
    "Df=120 #thickness of flange, in mm\n",
    "d=600.0 #effective depth, in mm\n",
    "m=18.66 #modular ratio\n",
    "Ast=4000 #in sq mm\n",
    "M=160*10**6 #in N-mm\n",
    " #Assume x>Df; equating moments of area on compression and tension sides about N.A.\n",
    "x=(m*Ast*d+Bf*Df**2/2)/(m*Ast+Bf*Df) #in mm\n",
    " #let sigma_cbc_dash=a*sigma_cbc\n",
    "a=(x-Df)/x\n",
    " #to find lever arm\n",
    "z=d-(1+2*a)/(1+a)*Df/3 #in mm\n",
    "sigma_cbc=2*M/(Bf*Df*(1+a)*z) #in MPa\n",
    "sigma_st=m*sigma_cbc*(d-x)/x #in MPa\n",
    "print \"Stress in concrete=\",sigma_cbc,\" N/mm**2\\nStress in tension steel=\",sigma_st,\" N/mm**2\"\n",
    " #answer given in textbook is incorrect\n"
   ]
  },
  {
   "cell_type": "markdown",
   "metadata": {},
   "source": [
    "## Ex3.10:pg-80"
   ]
  },
  {
   "cell_type": "code",
   "execution_count": 16,
   "metadata": {
    "collapsed": false
   },
   "outputs": [
    {
     "name": "stdout",
     "output_type": "stream",
     "text": [
      "Stress in concrete= 6.37094400445  N/mm**2\n",
      "Stress in tension steel= 135.157527269  N/mm**2\n"
     ]
    }
   ],
   "source": [
    "import math\n",
    "Bf=1250 #width of flange, in mm\n",
    "Df=120 #thickness of flange, in mm\n",
    "d=700 #effective depth, in mm\n",
    "m=13.33 #modular ratio\n",
    "Ast=5500 #in sq mm\n",
    "W=60 #UDL including self-weight, in kN/m\n",
    "l=8 #span, in m\n",
    "M=W*l**2/8.0*10**6 #in N-mm\n",
    " #Assume x>Df. Equating moments of area on compressiona and tension sides about N.A.\n",
    "x=(m*Ast*d+Bf*Df**2.0/2)/(m*Ast+Bf*Df) #in mm\n",
    " #let sigma_cbc_dash=a*sigma_cbc\n",
    "a=(x-Df)/x\n",
    " #to find lever arm\n",
    "z=d-(1+2*a)/(1+a)*Df/3 #in mm\n",
    "sigma_cbc=2*M/(Bf*Df*(1+a)*z) #in MPa\n",
    "sigma_st=m*sigma_cbc*(d-x)/x #in MPa\n",
    "print \"Stress in concrete=\",sigma_cbc,\" N/mm**2\\nStress in tension steel=\",sigma_st,\" N/mm**2\"\n"
   ]
  },
  {
   "cell_type": "markdown",
   "metadata": {},
   "source": [
    "## Ex3.11:pg-81"
   ]
  },
  {
   "cell_type": "code",
   "execution_count": 17,
   "metadata": {
    "collapsed": false
   },
   "outputs": [
    {
     "name": "stdout",
     "output_type": "stream",
     "text": [
      "Moment of resistance of the beam= 200.669336976  kN-m\n"
     ]
    }
   ],
   "source": [
    "import math\n",
    "Bf=1300 #width of flange, in mm\n",
    "Df=100 #thickness of flange, in mm\n",
    "d=500 #effective depth, in mm\n",
    "sigma_cbc=5 #in MPa\n",
    "sigma_st=275 #in MPa\n",
    "m=18.66 #modular ratio\n",
    "Ast=1570 #in sq mm\n",
    "Asc=1256 #in sq mm\n",
    "top_cover=30 #in mm\n",
    " #to find critical depth of neutral axis\n",
    "Xc=d/(1+sigma_st/(m*sigma_cbc)) #in mm\n",
    " #assume x>Df; equating moments of area on compression and tension sides about N.A.\n",
    "x=(m*Ast*d+Bf*Df**2/2+(1.5*m-1)*Asc*top_cover)/(m*Ast+Bf*Df+(1.5*m-1)*Asc) #in mm\n",
    " #as x<Xc, beam is under-reinforced\n",
    "sigma_cbc=sigma_st/m*x/(d-x) #in MPa\n",
    "sigma_cbc_dash=sigma_cbc*(x-top_cover)/x #stress in concrete at level of compression steel, in MPa\n",
    "sigma_cbc_double_dash=sigma_cbc*(x-Df)/x #stress in concrete at the underside of the slab, in MPa\n",
    " #to find lever arm\n",
    "z=round(d-(sigma_cbc+2*sigma_cbc_double_dash)/(sigma_cbc+sigma_cbc_double_dash)*Df/3) #in mm\n",
    " #taking moments about tensile steel\n",
    "Mr=Bf*Df*(sigma_cbc+sigma_cbc_double_dash)*z/2+(1.5*m-1)*Asc*sigma_cbc_dash*(d-top_cover) #in N-mm\n",
    "print \"Moment of resistance of the beam=\",Mr/10**6,\" kN-m\"\n"
   ]
  },
  {
   "cell_type": "markdown",
   "metadata": {},
   "source": [
    "## Ex3.12:pg-82"
   ]
  },
  {
   "cell_type": "code",
   "execution_count": 19,
   "metadata": {
    "collapsed": false
   },
   "outputs": [
    {
     "name": "stdout",
     "output_type": "stream",
     "text": [
      "Moment of resistance of the beam= 252.263730672  kN-m\n"
     ]
    }
   ],
   "source": [
    "import math\n",
    "Bf=1500 #width of flange, in mm\n",
    "Df=150 #thickness of flange, in mm\n",
    "d=600 #effective depth, in mm\n",
    "sigma_cbc=7 #in MPa\n",
    "sigma_st=230 #in MPa\n",
    "m=13.33 #modular ratio\n",
    "Ast=1964 #in sq mm\n",
    "Asc=1140 #in sq mm\n",
    "top_cover=50 #in mm\n",
    "#to find critical depth of neutral axis\n",
    "Xc=d/(1+sigma_st/(m*sigma_cbc)) #in mm\n",
    "#assume x>Df; equating moments of area on compression and tension sides about N.A.\n",
    "x=(m*Ast*d+Bf*Df**2/2+(1.5*m-1)*Asc*top_cover)/(m*Ast+Bf*Df+(1.5*m-1)*Asc) # in mm\n",
    "#we find that x<Df, hence our assumption that x>Df is wrong\n",
    "#to find x using Bf(x**2)/2 + (1.5m-1)Asc(x-d')=mAst(d-x), which becomes of the form px**2+qx+r=0\n",
    "p=Bf/2\n",
    "q=m*Ast+(1.5*m-1)*Asc\n",
    "r=-(m*Ast*d+(1.5*m-1)*Asc*top_cover)\n",
    "#solving quadratic equation\n",
    "x=(-q+math.sqrt(q**2-4*p*r))/(2*p) #in mm\n",
    "#as x<Xc, beam is under-reinforced\n",
    "sigma_cbc=sigma_st/m*x/(d-x) #in MPa\n",
    "sigma_cbc_dash=sigma_cbc*(x-top_cover)/x #stress in concrete at level of compression steel, in MPa\n",
    "#taking moments about tensile steel\n",
    "Mr=Bf*x*sigma_cbc*(d-x/3)/2+(1.5*m-1)*Asc*sigma_cbc_dash*(d-top_cover) #in N-mm\n",
    "print \"Moment of resistance of the beam=\",Mr/10**6,\" kN-m\"\n",
    " #answer given in textbook is incorrect\n"
   ]
  },
  {
   "cell_type": "markdown",
   "metadata": {},
   "source": [
    "## Ex3.13:pg-83"
   ]
  },
  {
   "cell_type": "code",
   "execution_count": 20,
   "metadata": {
    "collapsed": false
   },
   "outputs": [
    {
     "name": "stdout",
     "output_type": "stream",
     "text": [
      "Stress in concrete= 7.17910912778  N/mm**2\n",
      "Stress in tension steel= 301.875837251  N/mm**2\n",
      "Stress in compression steel= 98.8192837935  N/mm**2\n"
     ]
    }
   ],
   "source": [
    "import math\n",
    "Bf=1450 #width of flange, in mm\n",
    "Df=120 #thickness of flange, in mm\n",
    "d=400 #effective depth, in mm\n",
    "m=13.33 #modular ratio\n",
    "Ast=1800 #in sq mm\n",
    "Asc=450 #in sq mm\n",
    "top_cover=30 #in mm\n",
    "M=200*10**6 #in N-mm\n",
    "#assume x>Df; equating moments of area on compression and tension sides about N.A.\n",
    "x=(m*Ast*d+Bf*Df**2/2+(1.5*m-1)*Asc*top_cover)/(m*Ast+Bf*Df+(1.5*m-1)*Asc) #in mm\n",
    "#we find that x<Df, hence our assumption that x>Df is wrong\n",
    "#to find x using Bf(x**2)/2 + (1.5m-1)Asc(x-d')=mAst(d-x), which becomes of the form px**2+qx+r=0\n",
    "p=Bf/2\n",
    "q=m*Ast+(1.5*m-1)*Asc\n",
    "r=-(m*Ast*d+(1.5*m-1)*Asc*top_cover)\n",
    "#solving quadratic equation\n",
    "x=(-q+math.sqrt(q**2-4*p*r))/(2*p) #in mm\n",
    "#as x<Xc, beam is under-reinforced; let stress in concrete at level of steel be equal to 'a' times the stress in concrete at top\n",
    "a=(x-top_cover)/x\n",
    "#taking moments about tensile steel\n",
    "sigma_cbc=M/(Bf*x*(d-x/3)/2+(1.5*m-1)*Asc*a*(d-top_cover)) #in MPa\n",
    "sigma_st=m*sigma_cbc*(d-x)/x #in MPa\n",
    "sigma_sc=1.5*m*a*sigma_cbc #in MPa\n",
    "print \"Stress in concrete=\",sigma_cbc,\" N/mm**2\\nStress in tension steel=\",sigma_st,\" N/mm**2\\nStress in compression steel=\",sigma_sc,\" N/mm**2\"\n",
    " #answer in textbook is incorrect\n"
   ]
  },
  {
   "cell_type": "markdown",
   "metadata": {},
   "source": [
    "## Ex3.14:pg-84"
   ]
  },
  {
   "cell_type": "code",
   "execution_count": 22,
   "metadata": {
    "collapsed": false
   },
   "outputs": [
    {
     "name": "stdout",
     "output_type": "stream",
     "text": [
      "Moment of resistance of the beam= 90.15  kN-m\n"
     ]
    }
   ],
   "source": [
    "import math\n",
    "Bf=500 #width of flange, in mm\n",
    "Bw=250 #breadth of web, in mm\n",
    "Df=100 #thickness of flange, in mm\n",
    "d=500 #effective depth, in mm\n",
    "sigma_cbc=5 #in MPa\n",
    "sigma_st=140 #in MPa\n",
    "m=18.66 #modular ratio\n",
    "Ast=2000.0 #in sq mm\n",
    " #to find critical depth of neutral axis\n",
    "Xc=d/(1+sigma_st/(m*sigma_cbc)) #in mm\n",
    " #assume x>Df\n",
    "x=(m*Ast*d+Bf*Df**2/2.0)/(m*Ast+Bf*Df) #in mm\n",
    " #as x>Xc, beam is over-reinforced\n",
    "sigma_cbc_dash=sigma_cbc*(x-Df)/x #in MPa\n",
    " #to find lever arm\n",
    "z=d-(sigma_cbc+2*sigma_cbc_dash)/(sigma_cbc+sigma_cbc_dash)*Df/3 #in mm\n",
    " #taking moments about tensile steel\n",
    "Mr=Bf*Df*(sigma_cbc+sigma_cbc_dash)*z/2 #in N-mm\n",
    "print \"Moment of resistance of the beam=\",round(Mr/10.0**6,2),\" kN-m\"\n"
   ]
  },
  {
   "cell_type": "markdown",
   "metadata": {},
   "source": [
    "## Ex3.15:pg-85"
   ]
  },
  {
   "cell_type": "code",
   "execution_count": 24,
   "metadata": {
    "collapsed": false
   },
   "outputs": [
    {
     "name": "stdout",
     "output_type": "stream",
     "text": [
      "Area of steel required= 3699 mm**2\n"
     ]
    }
   ],
   "source": [
    "import math\n",
    "Bf=750 #width of flange, in mm\n",
    "Bw=250 #breadth of web, in mm\n",
    "Df=100 #thickness of flange, in mm\n",
    "d=700 #effective depth, in mm\n",
    "sigma_cbc=7 #in MPa\n",
    "sigma_st=190 #in MPa\n",
    "m=13.33 #modular ratio\n",
    "M=460*10**6 #in N-mm\n",
    " #to find critical depth of neutral axis\n",
    "Xc=d/(1+sigma_st/(m*sigma_cbc)) #in mm\n",
    "sigma_cbc_dash=sigma_cbc*(Xc-Df)/Xc #in MPa\n",
    " #to find lever arm\n",
    "z=d-(sigma_cbc+2*sigma_cbc_dash)/(sigma_cbc+sigma_cbc_dash)*Df/3 #in mm\n",
    " #taking moments about tensile steel\n",
    "Ast=M/(sigma_st*z) #in sq mm\n",
    "Ast=3699 #round-off, in sq mm\n",
    "print \"Area of steel required=\",(Ast),\"mm**2\"\n"
   ]
  },
  {
   "cell_type": "markdown",
   "metadata": {},
   "source": [
    "## Ex3.16:pg-86"
   ]
  },
  {
   "cell_type": "code",
   "execution_count": 26,
   "metadata": {
    "collapsed": false
   },
   "outputs": [
    {
     "name": "stdout",
     "output_type": "stream",
     "text": [
      "Stress in concrete= 4.44406201666  N/mm**2\n",
      "Stress in tension steel= 118.75  N/mm**2\n"
     ]
    }
   ],
   "source": [
    "import math\n",
    "Df=120 #thickness of flange, in mm\n",
    "Bw=200 #breadth of web, in mm\n",
    "d=550 #effective depth, in mm\n",
    "l=6 #span, in m\n",
    "Bf=l*1000.0/12+Bw+3*Df #in mm\n",
    "m=13.33 #modular ratio\n",
    "Ast=3200 #in sq mm\n",
    "M=190*10**6 #in N-mm\n",
    "#assume x>Df; equating moments of area on compression and tension sides about N.A.\n",
    "x=(m*Ast*d+Bf*Df**2/2)/(m*Ast+Bf*Df) #in mm\n",
    "#we find that x>Df, hence our assumption that x>Df is correct\n",
    "#as x<Xc, beam is under-reinforced; let stress in concrete at underside of slab be equal to 'a' times the stress in concrete at top\n",
    "a=(x-Df)/x\n",
    "#to find lever arm\n",
    "z=d-(1+2*a)/(1+a)*Df/3 #in mm\n",
    "z=500 #round-off, in mm\n",
    " #taking moments about tensile steel\n",
    "sigma_cbc=M/(Bf*Df*(1+a)*z/2) #in MPa\n",
    "sigma_st=m*sigma_cbc*(d-x)/x #in MPa\n",
    "print \"Stress in concrete=\",sigma_cbc,\" N/mm**2\\nStress in tension steel=\",sigma_st,\" N/mm**2\"\n"
   ]
  }
 ],
 "metadata": {
  "kernelspec": {
   "display_name": "Python 2",
   "language": "python",
   "name": "python2"
  },
  "language_info": {
   "codemirror_mode": {
    "name": "ipython",
    "version": 2
   },
   "file_extension": ".py",
   "mimetype": "text/x-python",
   "name": "python",
   "nbconvert_exporter": "python",
   "pygments_lexer": "ipython2",
   "version": "2.7.11"
  }
 },
 "nbformat": 4,
 "nbformat_minor": 0
}
