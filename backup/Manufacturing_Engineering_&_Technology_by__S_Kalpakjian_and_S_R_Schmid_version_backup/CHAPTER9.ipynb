{
 "metadata": {
  "name": "",
  "signature": "sha256:6710b39af8e6b25979559b36b207799c7d51ebdaf42ec513552dd0f8afc6698d"
 },
 "nbformat": 3,
 "nbformat_minor": 0,
 "worksheets": [
  {
   "cells": [
    {
     "cell_type": "heading",
     "level": 1,
     "metadata": {},
     "source": [
      "CHAPTER 9 - Composite Materials: Structure, General\n",
      "Properties, and Applications"
     ]
    },
    {
     "cell_type": "heading",
     "level": 2,
     "metadata": {},
     "source": [
      "EXAMPLE 9.1 - PG NO. 225"
     ]
    },
    {
     "cell_type": "code",
     "collapsed": false,
     "input": [
      "#example 9.1\n",
      "#page no. 225\n",
      "# Given that\n",
      "x=0.2# Area fraction of the fibre in the composite \n",
      "Ef= 300. # Elastic modulus of the fibre in GPa\n",
      "Em= 100. # Elastic modulus of the matrix in GPa\n",
      "\n",
      "# Sample Problem on page no. 229\n",
      "\n",
      "print(\"\\n # application of reinforced plastics # \\n\")\n",
      "\n",
      "Ec = x*Ef + (1.-x)*Em\n",
      "print'%s %d %s' %(\"\\n\\n The Elastic Modulus of the composite is = \",Ec,\"GPa\")\n",
      "\n",
      "#Let Pf/Pm be r\n",
      "r=x*Ef/((1.-x)*Em) \n",
      " \n",
      "#Let Pc/Pf be R\n",
      "R=1.+(1./r) # from the relation  Pc = Pf + Pm\n",
      "P=(1.*100.)/R\n",
      "print'%s %d %s' %(\"\\n\\n The Fraction of load supported by Fibre is =\",round(P),\"%\")\n",
      "# Answer in the book is approximated to 43 %\n"
     ],
     "language": "python",
     "metadata": {},
     "outputs": [
      {
       "output_type": "stream",
       "stream": "stdout",
       "text": [
        "\n",
        " # application of reinforced plastics # \n",
        "\n",
        "\n",
        "\n",
        " The Elastic Modulus of the composite is =  140 GPa\n",
        "\n",
        "\n",
        " The Fraction of load supported by Fibre is = 43 %\n"
       ]
      }
     ],
     "prompt_number": 1
    }
   ],
   "metadata": {}
  }
 ]
}