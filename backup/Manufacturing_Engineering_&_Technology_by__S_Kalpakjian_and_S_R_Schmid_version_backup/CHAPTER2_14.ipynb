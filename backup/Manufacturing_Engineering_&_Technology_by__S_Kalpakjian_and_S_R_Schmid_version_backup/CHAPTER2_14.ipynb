{
 "metadata": {
  "name": "",
  "signature": "sha256:1b3101916b7a4843a219c8df0fe6cf50c8d255e7eaf581c2bcdb50e9583ed9af"
 },
 "nbformat": 3,
 "nbformat_minor": 0,
 "worksheets": [
  {
   "cells": [
    {
     "cell_type": "heading",
     "level": 1,
     "metadata": {},
     "source": [
      "CHAPTER 2- Mechanical Behavior, Testing, and Manufacturing Properties of Materials"
     ]
    },
    {
     "cell_type": "heading",
     "level": 2,
     "metadata": {},
     "source": [
      "EXAMPLE 2.1 - PG NO 63"
     ]
    },
    {
     "cell_type": "code",
     "collapsed": false,
     "input": [
      "#example 2.1,chapter 2, page 63\n",
      "\n",
      "# Given that\n",
      "#True stress=100000*(True strain)**0.5\n",
      "\n",
      "# Sample Problem on page no. 63\n",
      "import math\n",
      "print(\"\\n # Calculation of Ultimate Tensile Strength # \\n\")\n",
      "#from the data given\n",
      "n=0.5\n",
      "E=0.5\n",
      "K=100000.\n",
      "Truestress=K*((E)**n)\n",
      "#let An(area of neck)/Ao=t\n",
      "#from math.log(Ao/An)=n\n",
      "print'%s %.3f %s' %(\"true Ultimate Tensile Strength =\",Truestress,\"psi \\n\")\n",
      "t=math.exp(-n)\n",
      "print'%s %.7f %s' %(\"t =\",t,\"\\n\")\n",
      "UTS=Truestress*t#from the math.expression UTS= P/Ao where P(Maximum Load)=Truestress*An\n",
      "print'%s %.3f %s' %(\"Ultimate Tensile Strength =\",UTS,\"psi\")\n",
      "#answer in the book is approximated to 42850 psi \n",
      "\n",
      "\n",
      "\n",
      "\n",
      "\n"
     ],
     "language": "python",
     "metadata": {},
     "outputs": [
      {
       "output_type": "stream",
       "stream": "stdout",
       "text": [
        "\n",
        " # Calculation of Ultimate Tensile Strength # \n",
        "\n",
        "true Ultimate Tensile Strength = 70710.678 psi \n",
        "\n",
        "t = 0.6065307 \n",
        "\n",
        "Ultimate Tensile Strength = 42888.194 psi\n"
       ]
      }
     ],
     "prompt_number": 1
    }
   ],
   "metadata": {}
  }
 ]
}