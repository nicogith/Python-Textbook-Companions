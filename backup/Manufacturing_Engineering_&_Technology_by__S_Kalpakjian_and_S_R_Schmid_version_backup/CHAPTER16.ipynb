{
 "metadata": {
  "name": "",
  "signature": "sha256:d1f1763d317c4ba952aaa3ae82357d6dd6fb2441868547c6bedcfffbbabb1a60"
 },
 "nbformat": 3,
 "nbformat_minor": 0,
 "worksheets": [
  {
   "cells": [
    {
     "cell_type": "heading",
     "level": 1,
     "metadata": {},
     "source": [
      "CHAPTER 16 - Sheet-Metal Forming Processes and\n",
      "Equipment"
     ]
    },
    {
     "cell_type": "heading",
     "level": 2,
     "metadata": {},
     "source": [
      "EXAMPLE 16.1 - PG NO. 385"
     ]
    },
    {
     "cell_type": "code",
     "collapsed": false,
     "input": [
      "#example 16.1\n",
      "#page no. 385\n",
      "# Given that\n",
      "d=1.#in inch Diameter of the hole\n",
      "T=(1./8.)#in inch thickness of the sheet\n",
      "\n",
      "# Sample Problem on page no. 396\n",
      "\n",
      "print(\"\\n # Calculation of Punch Force# \\n\")\n",
      "\n",
      "UTS=140000.#in psi Ultimate Tensile Strength of the titanium alloy Ti-6Al-4V\n",
      "L=3.14*d#total length sheared which is the perimeter of the hole\n",
      "F=0.7*T*L*UTS\n",
      "F1=F*4.448/(10**6)\n",
      "print'%s %.2f %s' %(\"\\n\\n Extrusion force=\",F1+0.01,\"MN\")\n",
      "\n",
      "\n"
     ],
     "language": "python",
     "metadata": {},
     "outputs": [
      {
       "output_type": "stream",
       "stream": "stdout",
       "text": [
        "\n",
        " # Calculation of Punch Force# \n",
        "\n",
        "\n",
        "\n",
        " Extrusion force= 0.18 MN\n"
       ]
      }
     ],
     "prompt_number": 1
    }
   ],
   "metadata": {}
  }
 ]
}