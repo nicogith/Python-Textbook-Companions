{
 "metadata": {
  "name": "",
  "signature": "sha256:c23f3c48fbab89dd7aecad46afb711bd99aac090001a21cb6e6d1af8ece79b90"
 },
 "nbformat": 3,
 "nbformat_minor": 0,
 "worksheets": [
  {
   "cells": [
    {
     "cell_type": "heading",
     "level": 1,
     "metadata": {},
     "source": [
      "CHAPTER 28 - Solid-State Welding Processes"
     ]
    },
    {
     "cell_type": "heading",
     "level": 2,
     "metadata": {},
     "source": [
      "EXAMPLE 28.1 - PG NO. 805"
     ]
    },
    {
     "cell_type": "code",
     "collapsed": false,
     "input": [
      "#example 28.1\n",
      "#page no. 805\n",
      "\n",
      "# Given that\n",
      "t=1.#in mm thickness of chip\n",
      "I=5000.#in Ampere current\n",
      "T=0.1#in sec\n",
      "d=5.#in mm diameter of electrode\n",
      "\n",
      "\n",
      "# Sample Problem on page no. 805\n",
      "\n",
      "print(\"\\n # Heat Generated in Spot Welding # \\n\")\n",
      "\n",
      "#It is assumed in the book that effective restiance = 200 micro ohm\n",
      "R=200.*(10.**-6.)\n",
      "H=(I**2.)*R*T\n",
      "\n",
      "print'%s %d %s' %(\"\\n\\n Heat Generated =\",H,\"J\")\n",
      "\n",
      "# It is assumed in the book that \n",
      "V=30.#in mm3 volume\n",
      "D=0.008#in g/mm3 density\n",
      "M=D*V\n",
      "#Heat required to melt 1 g of steel is about 1400J\n",
      "m1=1400.*M\n",
      "print'%s %d %s' %(\"\\n\\n Heat Required to melt weld nugget =\",m1,\" J\")\n",
      "\n",
      "m2=H-m1\n",
      "print'%s %d %s' %(\"\\n\\n Heat Dissipitated into the metal surrounding the nugget =\",m2,\" J\")\n"
     ],
     "language": "python",
     "metadata": {},
     "outputs": [
      {
       "output_type": "stream",
       "stream": "stdout",
       "text": [
        "\n",
        " # Heat Generated in Spot Welding # \n",
        "\n",
        "\n",
        "\n",
        " Heat Generated = 500 J\n",
        "\n",
        "\n",
        " Heat Required to melt weld nugget = 336  J\n",
        "\n",
        "\n",
        " Heat Dissipitated into the metal surrounding the nugget = 164  J\n"
       ]
      }
     ],
     "prompt_number": 1
    }
   ],
   "metadata": {}
  }
 ]
}