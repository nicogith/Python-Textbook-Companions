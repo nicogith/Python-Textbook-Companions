{
 "metadata": {
  "name": "",
  "signature": "sha256:0642396d07b5e9947dad33d59c51cd15c5308b6ead221a988da8fd2f152d8ce5"
 },
 "nbformat": 3,
 "nbformat_minor": 0,
 "worksheets": [
  {
   "cells": [
    {
     "cell_type": "heading",
     "level": 1,
     "metadata": {},
     "source": [
      "CHAPTER 15 - Metal Extrusion and Drawing Processes\n",
      "and Equipment"
     ]
    },
    {
     "cell_type": "heading",
     "level": 2,
     "metadata": {},
     "source": [
      "EXAMPLE 15.1 - PG NO.363"
     ]
    },
    {
     "cell_type": "code",
     "collapsed": false,
     "input": [
      "#example 15.1\n",
      "#page no. 363\n",
      "# Given that\n",
      "import math\n",
      "di=5.#in inch Diameter of the round billet\n",
      "df=2.#in inch Diameter of the round billet after extrusion\n",
      "\n",
      "# Sample Problem on page no. 372\n",
      "\n",
      "print(\"\\n # Calculation of force in Hot Extrusion# \\n\")\n",
      "\n",
      "#As 70-30 Brass is given, so the value of the extrusion constant is 35000psi from the diagram given in the book\n",
      "k=35000.#in psi\n",
      "F=3.14*(di/2.)**2.*k*math.log((3.14*(di**2.))/(3.14*(df**2.)))\n",
      "F1=F*4.448/(10**6)\n",
      "print'%s %.1f %s' %(\"\\n\\n Extrusion force=\",F1,\"MN\")\n",
      "\n",
      "\n"
     ],
     "language": "python",
     "metadata": {},
     "outputs": [
      {
       "output_type": "stream",
       "stream": "stdout",
       "text": [
        "\n",
        " # Calculation of force in Hot Extrusion# \n",
        "\n",
        "\n",
        "\n",
        " Extrusion force= 5.6 MN\n"
       ]
      }
     ],
     "prompt_number": 1
    }
   ],
   "metadata": {}
  }
 ]
}