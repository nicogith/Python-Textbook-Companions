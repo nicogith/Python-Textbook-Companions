{
 "metadata": {
  "name": "",
  "signature": "sha256:21d08bfb698208366199e4fded02941b97c24250702762a85207ab6d449f410a"
 },
 "nbformat": 3,
 "nbformat_minor": 0,
 "worksheets": [
  {
   "cells": [
    {
     "cell_type": "heading",
     "level": 1,
     "metadata": {},
     "source": [
      "CHAPTER 2- Mechanical Behavior, Testing, and Manufacturing Properties of Materials"
     ]
    },
    {
     "cell_type": "heading",
     "level": 2,
     "metadata": {},
     "source": [
      "EXAMPLE 2.1 - PG NO. 63"
     ]
    },
    {
     "cell_type": "code",
     "collapsed": false,
     "input": [
      "#example 2.1,chapter 2, page 63\n",
      "\n",
      "# Given that\n",
      "#True stress=100000*(True strain)**0.5\n",
      "\n",
      "# Sample Problem on page no. 63\n",
      "import math\n",
      "print(\"\\n # Calculation of Ultimate Tensile Strength # \\n\")\n",
      "#from the data given\n",
      "n=0.5\n",
      "E=0.5\n",
      "K=690.\n",
      "Truestress=K*((E)**n)\n",
      "#let An(area of neck)/Ao=t\n",
      "#from math.log(Ao/An)=n\n",
      "print'%s %d %s' %(\"true Ultimate Tensile Strength =\",round(Truestress),\"MPa \\n\")\n",
      "t=math.exp(-n)\n",
      "UTS=Truestress*math.exp(-n)#from the math.expression UTS= P/Ao where P(Maximum Load)=Truestress*An\n",
      "print'%s %d %s' %(\"Ultimate Tensile Strength =\",round(UTS),\"MPa\")\n",
      "#answer in the book is approximated to 42850 psi \n"
     ],
     "language": "python",
     "metadata": {},
     "outputs": [
      {
       "output_type": "stream",
       "stream": "stdout",
       "text": [
        "\n",
        " # Calculation of Ultimate Tensile Strength # \n",
        "\n",
        "true Ultimate Tensile Strength = 488 MPa \n",
        "\n",
        "Ultimate Tensile Strength = 296 MPa\n"
       ]
      }
     ],
     "prompt_number": 1
    },
    {
     "cell_type": "heading",
     "level": 2,
     "metadata": {},
     "source": [
      "EXAMPLE 2.2 - PG NO. 72"
     ]
    },
    {
     "cell_type": "code",
     "collapsed": false,
     "input": [
      "#example 2.2,chapter 2, page 72\n",
      "\n",
      "print(\"## Calculation of Modulus of Resilience from Hardness ##\\n\")\n",
      "#given data\n",
      "Hardness=300.\n",
      "Y=100.#\n",
      "E=210000.\n",
      "a=100.*100.\n",
      "b=2.*210000.\n",
      "Modulus=a/b\n",
      "print(\"The area under the stress-strain curve is :\\n\")\n",
      "print'%s %.4f %s' %(\"Modulus of Resilience =\",Modulus*9.81,\"mm-kg/mm^3\")"
     ],
     "language": "python",
     "metadata": {},
     "outputs": [
      {
       "output_type": "stream",
       "stream": "stdout",
       "text": [
        "## Calculation of Modulus of Resilience from Hardness ##\n",
        "\n",
        "The area under the stress-strain curve is :\n",
        "\n",
        "Modulus of Resilience = 0.2336 mm-kg/mm^3\n"
       ]
      }
     ],
     "prompt_number": 2
    }
   ],
   "metadata": {}
  }
 ]
}