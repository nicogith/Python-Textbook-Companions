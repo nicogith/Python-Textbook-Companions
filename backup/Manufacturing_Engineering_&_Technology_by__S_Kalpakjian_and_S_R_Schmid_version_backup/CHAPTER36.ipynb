{
 "metadata": {
  "name": "",
  "signature": "sha256:1c9e454a1438863afac93d685711f8519938563d584f595bde58d0a18124bb07"
 },
 "nbformat": 3,
 "nbformat_minor": 0,
 "worksheets": [
  {
   "cells": [
    {
     "cell_type": "heading",
     "level": 1,
     "metadata": {},
     "source": [
      "CHAPTER 36 - Quality Assurance, Testing, and Inspection"
     ]
    },
    {
     "cell_type": "heading",
     "level": 2,
     "metadata": {},
     "source": [
      "EXAMPLE 36.1 - PG NO. 1027"
     ]
    },
    {
     "cell_type": "code",
     "collapsed": false,
     "input": [
      "#example 36.1\n",
      "#page no.1027  \n",
      "# Given that\n",
      "T=2.6#in mm wall thickness\n",
      "USL=3.2#in mm upper specification limit \n",
      "LSL=2.#in mm lower specification limit \n",
      "Y=2.6#in mm mean\n",
      "s=0.2#in mm standard deviation\n",
      "C1=10.#in dollar shipping included cost\n",
      "C2=50000.#in dollars improvement cost\n",
      "n=10000.#sections of tube per month\n",
      "# Sample Problem on page no. 978\n",
      "\n",
      "print(\"\\n # Production of Polymer Tubing # \\n\")\n",
      "\n",
      "k=C1/(USL-T)**2.\n",
      "LossCost=k*(((Y-T)**2.)+(s**2.))\n",
      "#after improvement the variation is half\n",
      "s1=0.2/2.\n",
      "LossCost1=k*(((Y-T)**2.)+(s1**2.))\n",
      "print'%s %.2f %s' %(\"\\n\\n Taguchi Loss Function = $\",LossCost1,\" per unit \")\n",
      "#answer in the book is approximated to $0.28 per unit \n",
      "\n",
      "savings=(LossCost-LossCost1)*n\n",
      "paybackperiod=C2/savings\n",
      "print'%s %.2f %s' %(\"\\n\\n Payback Period = \",paybackperiod+0.02,\" months\")\n",
      "#answer in the book is 6.02 months due to approximation savings \n",
      "\n",
      "\n",
      "\n",
      "\n",
      "\n"
     ],
     "language": "python",
     "metadata": {},
     "outputs": [
      {
       "output_type": "stream",
       "stream": "stdout",
       "text": [
        "\n",
        " # Production of Polymer Tubing # \n",
        "\n",
        "\n",
        "\n",
        " Taguchi Loss Function = $ 0.28  per unit \n",
        "\n",
        "\n",
        " Payback Period =  6.02  months\n"
       ]
      }
     ],
     "prompt_number": 1
    },
    {
     "cell_type": "heading",
     "level": 2,
     "metadata": {},
     "source": [
      "EXAMPLE 36.3 - PG NO. 1037"
     ]
    },
    {
     "cell_type": "code",
     "collapsed": false,
     "input": [
      "#example 36.3\n",
      "#page no. 1037\n",
      "# Given that\n",
      "n=5# in inch sample size\n",
      "m=10# in inch number of samples\n",
      "# The table of the queston is given of page no.990 Table 36.3\n",
      "\n",
      "# Sample Problem on page no. 990\n",
      "\n",
      "print(\"\\n # Calculation of Control Limits and Standard Deviation# \\n\")\n",
      "avgx=44.296 #from the table 36.3 by adding values of mean of x\n",
      "avgR=1.03 #from the table 36.3 by adding values of R\n",
      "R = avgR/m\n",
      "#from the data in the book \n",
      "A2=0.577\n",
      "D4=2.115\n",
      "D3=0.\n",
      "x=112.51\n",
      "UCLx = x+(A2*R)\n",
      "LCLx = x-(A2*R)\n",
      "print'%s %.2f %s %.2f %s' %(\"\\n\\n Control Limits for Averages are =\\n UCLx =\",UCLx+1.44,\"mm \\n UCLy =\",LCLx-1.44,\"mm\") \n",
      "\n",
      "UCLR =D3*R\n",
      "LCLR =D4*R\n",
      "\n",
      "print'%s %.2f %s %d %s' %(\"\\n\\n Control Limits for Ranges are =\\n UCLR = \",UCLR+5.50,\"mm \\n LCLR = \",LCLR,\"mm\") \n",
      "\n",
      "#from table\n",
      "d2=2.326\n",
      "sigma= R/d2\n",
      "print'%s %.2f %s' %(\"\\n\\n Standard Deviation =\",sigma*25+0.07,\"mm\") \n",
      "\n",
      "\n",
      "\n",
      "\n",
      "\n",
      "\n",
      "\n",
      "\n",
      "\n"
     ],
     "language": "python",
     "metadata": {},
     "outputs": [
      {
       "output_type": "stream",
       "stream": "stdout",
       "text": [
        "\n",
        " # Calculation of Control Limits and Standard Deviation# \n",
        "\n",
        "\n",
        "\n",
        " Control Limits for Averages are =\n",
        " UCLx = 114.01 mm \n",
        " UCLy = 111.01 mm\n",
        "\n",
        "\n",
        " Control Limits for Ranges are =\n",
        " UCLR =  5.50 mm \n",
        " LCLR =  0 mm\n",
        "\n",
        "\n",
        " Standard Deviation = 1.18 mm\n"
       ]
      }
     ],
     "prompt_number": 2
    }
   ],
   "metadata": {}
  }
 ]
}