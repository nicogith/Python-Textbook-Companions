{
 "metadata": {
  "name": "",
  "signature": "sha256:4743efe71abeffbe112fc3cd99d282bbc1e9ab7a7bbe1d11e47f5fb2ca018d40"
 },
 "nbformat": 3,
 "nbformat_minor": 0,
 "worksheets": [
  {
   "cells": [
    {
     "cell_type": "heading",
     "level": 1,
     "metadata": {},
     "source": [
      "CHAPTER 32 - Tribology Friction Wear and Lubrication"
     ]
    },
    {
     "cell_type": "heading",
     "level": 2,
     "metadata": {},
     "source": [
      "EXAMPLE 32.1 - PG NO. 886"
     ]
    },
    {
     "cell_type": "code",
     "collapsed": false,
     "input": [
      "#example 32.1\n",
      "#page no. 886\n",
      "import math\n",
      "# Given that\n",
      "hi=10.#in mm height of specimen\n",
      "ODi=30.#in mm outside diameter \n",
      "IDi=15.#in mm inside diameter \n",
      "ODf=38.#in mm outside diameter after deformaton\n",
      "#Specimen is reduced in thickness by 50%\n",
      "hf=(50./100.)*hi\n",
      "\n",
      "# Sample Problem on page no. 886\n",
      "\n",
      "print(\"\\n # Determination of Cofficient of Friction # \\n\")\n",
      "\n",
      "IDf=math.sqrt((ODf**2.)-((((ODi**2.)-(IDi**2.))*hi)/hf)) #new internal diameter calculated , by comparing the volume before and after deformation (3.14/4)*(ODi**2-IDi**2)*hi=(3.14/4)*(ODf**2-IDf**2)*hf\n",
      "ID=((IDi-IDf)/IDi)*100#change in internal diameter \n",
      "\n",
      "print'%s %d %s %s' %(\"\\n\\n With a 50 percent reduction in height and a \",ID,\"%\",\" reduction in internal diameter, from the book data Cofficient of Friction = 0.21\") \n"
     ],
     "language": "python",
     "metadata": {},
     "outputs": [
      {
       "output_type": "stream",
       "stream": "stdout",
       "text": [
        "\n",
        " # Determination of Cofficient of Friction # \n",
        "\n",
        "\n",
        "\n",
        " With a 50 percent reduction in height and a  35 %  reduction in internal diameter, from the book data Cofficient of Friction = 0.21\n"
       ]
      }
     ],
     "prompt_number": 2
    }
   ],
   "metadata": {}
  }
 ]
}