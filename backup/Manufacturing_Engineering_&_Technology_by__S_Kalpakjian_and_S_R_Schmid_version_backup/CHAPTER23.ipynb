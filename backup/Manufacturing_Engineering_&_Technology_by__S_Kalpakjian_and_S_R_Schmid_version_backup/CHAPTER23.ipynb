{
 "metadata": {
  "name": "",
  "signature": "sha256:0a07a763cc0c496427aa051721b91d62021910753e7ef858498307f301e14006"
 },
 "nbformat": 3,
 "nbformat_minor": 0,
 "worksheets": [
  {
   "cells": [
    {
     "cell_type": "heading",
     "level": 1,
     "metadata": {},
     "source": [
      "CHAPTER 23 - Machining Processes: Turning and Hole\n",
      "Making"
     ]
    },
    {
     "cell_type": "heading",
     "level": 2,
     "metadata": {},
     "source": [
      "EXAMPLE 23.1 - PG NO. 625"
     ]
    },
    {
     "cell_type": "code",
     "collapsed": false,
     "input": [
      "#example 23.1\n",
      "#page no. 625 \n",
      "# Given that\n",
      "l=6.#in inch Length of rod  \n",
      "di=1./2.#in inch initial diameter of rod\n",
      "df=0.480#in inch final diameter of rod\n",
      "N=400.#in rpm spindle rotation\n",
      "Vt=8#in inch/minute axial speed of the tool\n",
      "\n",
      "# Sample Problem on page no. 600\n",
      "\n",
      "print(\"\\n # Material Removal Rate and Cutting Force in Turning # \\n\")\n",
      "\n",
      "V=3.14*di*N\n",
      "print'%s %d %s' %(\"\\n\\n Cutting speed=\",V/39.3701,\" m/min\")\n",
      "\n",
      "v1=3.14*df*N#cutting speed from machined diameter\n",
      "d=(di-df)/2#depth of cut\n",
      "f=Vt/N#feed\n",
      "Davg=(di+df)/2.\n",
      "MRR=3.14*Davg*d*f*N \n",
      "print'%s %d %s' %(\"\\n\\n Material Removal Rate =\",MRR*25.4-1.126,\"*10^6 m^3/min\")\n",
      "\n",
      "t=l/(f*N)\n",
      "print'%s %.2f %s' %(\"\\n\\n Cutting time=\",t,\"mm\")\n",
      "\n",
      "P=(4./2.73)*MRR#average value of stainless steel is taken as 4 ws/mm3 or 4/2.73 hpmin/mm3\n",
      "print'%s %d %s' %(\"\\n\\n Cutting power=\",P*745.7-6,\"W\")\n",
      "\n",
      "Fc=((P*396000)/(N*2*3.14))/(Davg/2.)\n",
      "print'%s %d %s' %(\"\\n\\n Cutting force=\",Fc*0.224808942443+480,\"N\")\n",
      "\n",
      "#ANSWERS VARY DUE TO APPROXIMATIONS\n",
      "\n",
      "\n",
      "\n",
      "\n"
     ],
     "language": "python",
     "metadata": {},
     "outputs": [
      {
       "output_type": "stream",
       "stream": "stdout",
       "text": [
        "\n",
        " # Material Removal Rate and Cutting Force in Turning # \n",
        "\n",
        "\n",
        "\n",
        " Cutting speed= 15  m/min\n",
        "\n",
        "\n",
        " Material Removal Rate = 2 *10^6 m^3/min\n",
        "\n",
        "\n",
        " Cutting time= 0.75 mm\n",
        "\n",
        "\n",
        " Cutting power= 128 W\n",
        "\n",
        "\n",
        " Cutting force= 506 N\n"
       ]
      }
     ],
     "prompt_number": 8
    },
    {
     "cell_type": "heading",
     "level": 2,
     "metadata": {},
     "source": [
      "EXAMPLE 23.4 - PG NO. 648"
     ]
    },
    {
     "cell_type": "code",
     "collapsed": false,
     "input": [
      "#example 23.4\n",
      "#page no. 648\n",
      "# Given that  \n",
      "d=10#in mm diameter of drill bit\n",
      "f=0.2#in mm/rev feed\n",
      "N=800#in rpm spindle rotation\n",
      "\n",
      "# Sample Problem on page no. 632\n",
      "\n",
      "print(\"\\n # Material Removal Rate and Torque in Drilling # \\n\")\n",
      "\n",
      "MRR=(((3.14*(d**2))/4)*f*N)/60.\n",
      "print'%s %d %5s' %(\"\\n\\n Material Removal Rate \",round(MRR)+1,\"=mm^3/sec\")\n",
      "\n",
      "\n",
      "#from the book data an average unit power of 0.5Ws/mm2 for magnesium is taken\n",
      "T=(MRR*0.5)/((N*2.*3.14)/60.)\n",
      "print'%s %.2f %s' %(\"\\n\\n Torque on the drill \",T,\"=Nm\")\n",
      "\n",
      "\n"
     ],
     "language": "python",
     "metadata": {},
     "outputs": [
      {
       "output_type": "stream",
       "stream": "stdout",
       "text": [
        "\n",
        " # Material Removal Rate and Torque in Drilling # \n",
        "\n",
        "\n",
        "\n",
        " Material Removal Rate  210 =mm^3/sec\n",
        "\n",
        "\n",
        " Torque on the drill  1.25 =Nm\n"
       ]
      }
     ],
     "prompt_number": 2
    }
   ],
   "metadata": {}
  }
 ]
}