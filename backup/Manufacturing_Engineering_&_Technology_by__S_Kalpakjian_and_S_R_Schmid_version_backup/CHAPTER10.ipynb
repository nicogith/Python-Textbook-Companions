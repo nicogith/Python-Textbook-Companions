{
 "metadata": {
  "name": "",
  "signature": "sha256:7da519b3843680d3214e10b62b2df3b40b316a590526c8a15675c15308466084"
 },
 "nbformat": 3,
 "nbformat_minor": 0,
 "worksheets": [
  {
   "cells": [
    {
     "cell_type": "heading",
     "level": 1,
     "metadata": {},
     "source": [
      "CHAPTER 10 - Fundamentals of Metal Casting"
     ]
    },
    {
     "cell_type": "heading",
     "level": 2,
     "metadata": {},
     "source": [
      "EXAMPLE 10.1 - PG NO. 248"
     ]
    },
    {
     "cell_type": "code",
     "collapsed": false,
     "input": [
      "#Example 10.1 \n",
      "#page no. 248\n",
      "# Given that\n",
      "#three metal piece being cast have the same volume but different shapes\n",
      "#shapes are sphere,cube,cylinder(height=diameter)\n",
      "\n",
      "# Sample Problem on page no. 252\n",
      "\n",
      "print(\"\\n #solidification time for various shapes# \\n\")\n",
      "\n",
      "#solidification time is inversely proportional to the square of surface area\n",
      "\n",
      "#for sphere\n",
      "r=(3./(4.*3.14))**(1./3.)#radius of the sphere from volume of sphere v=(4*3.14*r**3)/3\n",
      "A=4*3.14*((r)**2)\n",
      "time1=1./(A)**2.\n",
      "print'%s %.3f %s' %(\"\\n the solidification time for the sphere is \",time1,\"C\")\n",
      "\n",
      "#for cube\n",
      "a=1#edge of the cube\n",
      "A=6*a**2\n",
      "time2=1./(A)**2\n",
      "print'%s %.3f %s' %(\"\\n the solidification time for the cube is \",time2,\" C\")\n",
      "\n",
      "#for cylinder\n",
      "#given height =diameter \n",
      "#radius=2*height\n",
      "r=(1./(2*3.14))**(1./3.)#radius of the cylinder from volume of the cylinder v=3.14*r**2*h\n",
      "A=(6*3.14*(r**2)) #area of the cylinder = (2*3.14*radius**2) + (2*3.14*radius*height)\n",
      "time3=1./(A)**2.\n",
      "print'%s %.3f %s' %(\"\\n the solidification time for the sphere is \",time3,\"C \\n\")\n",
      "print(\"Hence, the cube-shaped piece will solidify the fastest, and the spherical piece will solidify the slowest\")\n"
     ],
     "language": "python",
     "metadata": {},
     "outputs": [
      {
       "output_type": "stream",
       "stream": "stdout",
       "text": [
        "\n",
        " #solidification time for various shapes# \n",
        "\n",
        "\n",
        " the solidification time for the sphere is  0.043 C\n",
        "\n",
        " the solidification time for the cube is  0.028  C\n",
        "\n",
        " the solidification time for the sphere is  0.033 C \n",
        "\n",
        "Hence, the cube-shaped piece will solidify the fastest, and the spherical piece will solidify the slowest\n"
       ]
      }
     ],
     "prompt_number": 3
    }
   ],
   "metadata": {}
  }
 ]
}