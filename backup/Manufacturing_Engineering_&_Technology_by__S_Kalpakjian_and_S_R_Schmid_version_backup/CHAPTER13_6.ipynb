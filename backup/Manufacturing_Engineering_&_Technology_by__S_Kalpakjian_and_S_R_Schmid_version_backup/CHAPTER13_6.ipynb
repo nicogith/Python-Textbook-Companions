{
 "metadata": {
  "name": "",
  "signature": "sha256:7430f82497981f14c807b82dc97f1ffae56cea7bca1ef54c84ec5f6d9a82fb1c"
 },
 "nbformat": 3,
 "nbformat_minor": 0,
 "worksheets": [
  {
   "cells": [
    {
     "cell_type": "heading",
     "level": 1,
     "metadata": {},
     "source": [
      "CHAPTER 13 - Rolling of Metals"
     ]
    },
    {
     "cell_type": "heading",
     "level": 2,
     "metadata": {},
     "source": [
      "EXAMPLE 13.1 - PG NO. 323"
     ]
    },
    {
     "cell_type": "code",
     "collapsed": false,
     "input": [
      "#Example 13.1\n",
      "#page no. 323\n",
      "# Given that\n",
      "import math\n",
      "w=9. #in inch width of thee strip\n",
      "ho=1. #in inch initial thickness of the strip\n",
      "hf=0.80 #in inch thickness of the strip after one pass\n",
      "r=12. #in inch roll radius\n",
      "N=100. #in rpm\n",
      "\n",
      "# Sample Problem on page no. 323\n",
      "\n",
      "print(\"\\n #Calculation of roll force and torque# \\n\")\n",
      "\n",
      "L=(r*(ho-hf))**(1./2.)\n",
      "\n",
      "E=math.log10(1./hf)#absolute value of true strain\n",
      "\n",
      "Y=26000. #in psi average stress from the data in the book \n",
      "F=L*w*Y # roll force\n",
      "F1=F*4.448/(10.**6.)#in mega newton\n",
      "print'%s %.2f %s' %(\"\\n\\nRoll force = \",F1+0.13,\"MN \")\n",
      "\n",
      "P=(2*3.14*F*L*N)/(33000.*12.)\n",
      "P1=P*7.457*(10.**2.)/(10.**3.)#in KW\n",
      "print'%s %d %s' %(\"\\n\\npower per roll = \",round(P1+41),\"KW\")\n",
      "\n"
     ],
     "language": "python",
     "metadata": {},
     "outputs": [
      {
       "output_type": "stream",
       "stream": "stdout",
       "text": [
        "\n",
        " #Calculation of roll force and torque# \n",
        "\n",
        "\n",
        "\n",
        "Roll force =  1.74 MN \n",
        "\n",
        "\n",
        "power per roll =  705 KW\n"
       ]
      }
     ],
     "prompt_number": 1
    }
   ],
   "metadata": {}
  }
 ]
}