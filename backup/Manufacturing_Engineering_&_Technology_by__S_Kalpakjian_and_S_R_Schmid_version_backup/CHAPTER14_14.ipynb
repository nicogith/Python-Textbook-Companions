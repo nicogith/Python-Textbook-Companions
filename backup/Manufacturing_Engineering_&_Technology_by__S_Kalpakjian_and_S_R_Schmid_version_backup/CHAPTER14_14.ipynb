{
 "metadata": {
  "name": "",
  "signature": "sha256:381559c62a0f674cbe03347fa16c4111b90d796b779c774c9752cd29d80ff649"
 },
 "nbformat": 3,
 "nbformat_minor": 0,
 "worksheets": [
  {
   "cells": [
    {
     "cell_type": "heading",
     "level": 1,
     "metadata": {},
     "source": [
      "CHAPTER 14 - Forging of Metals"
     ]
    },
    {
     "cell_type": "heading",
     "level": 2,
     "metadata": {},
     "source": [
      "EXAMPLE 14.1 - PG NO 344"
     ]
    },
    {
     "cell_type": "code",
     "collapsed": false,
     "input": [
      "#example 14.1\n",
      "#page no. 344\n",
      "# Given that\n",
      "import math\n",
      "d=150.#in mm Diameter of the solid cylinder \n",
      "Hi=100. #in mm Height of the cylinder\n",
      "u=0.2 # Cofficient of friction\n",
      "\n",
      "# Sample Problem on page no. 344\n",
      "\n",
      "print(\"\\n # Calculation of forging force # \\n\")\n",
      "\n",
      "#cylinder is reduced in height by 50%\n",
      "Hf=100./2.\n",
      "#Volume before deformation= Volume after deformation\n",
      "r=math.sqrt((3.14*75**2*100)/(3.14*50.))#r is the final radius of the cylinder\n",
      "E=math.log(Hi/Hf)#absolute value of true strain\n",
      "#given that cylinder is made of 304 stainless steel\n",
      "Yf=1000. #in Mpa flow stress of the material from data in the book\n",
      "F = Yf*(10.**6.)*3.14*(r**2.)*10.**-6.*(1.+((2.*u*r)/(3.*Hf)))#Forging Force\n",
      "F1=F/(10.**6.)\n",
      "print'%s %d %s' %(\"\\n\\n Forging force = \",F1,\"MN\")\n",
      "\n",
      "\n"
     ],
     "language": "python",
     "metadata": {},
     "outputs": [
      {
       "output_type": "stream",
       "stream": "stdout",
       "text": [
        "\n",
        " # Calculation of forging force # \n",
        "\n",
        "\n",
        "\n",
        " Forging force =  45 MN\n"
       ]
      }
     ],
     "prompt_number": 1
    }
   ],
   "metadata": {}
  }
 ]
}