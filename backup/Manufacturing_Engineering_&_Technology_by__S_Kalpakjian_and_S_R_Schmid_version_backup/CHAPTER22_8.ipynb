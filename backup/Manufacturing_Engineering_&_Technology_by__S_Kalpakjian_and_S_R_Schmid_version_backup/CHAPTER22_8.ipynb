{
 "metadata": {
  "name": "",
  "signature": "sha256:893d2b9b70668c0aef0dd9c06849e89a29e7b7b29867a2d8588481db5fed5a14"
 },
 "nbformat": 3,
 "nbformat_minor": 0,
 "worksheets": [
  {
   "cells": [
    {
     "cell_type": "heading",
     "level": 1,
     "metadata": {},
     "source": [
      "CHAPTER 22 - Machining Processes used to Produce Round Shape"
     ]
    },
    {
     "cell_type": "heading",
     "level": 2,
     "metadata": {},
     "source": [
      "EXAMPLE 22.1 - PG NO. 600"
     ]
    },
    {
     "cell_type": "code",
     "collapsed": false,
     "input": [
      "#example 22.1\n",
      "#page no. 600 \n",
      "# Given that\n",
      "l=6.#in inch Length of rod  \n",
      "di=1./2.#in inch initial diameter of rod\n",
      "df=0.480#in inch final diameter of rod\n",
      "N=400.#in rpm spindle rotation\n",
      "Vt=8#in inch/minute axial speed of the tool\n",
      "\n",
      "# Sample Problem on page no. 600\n",
      "\n",
      "print(\"\\n # Material Removal Rate and Cutting Force in Turning # \\n\")\n",
      "\n",
      "V=3.14*di*N\n",
      "print'%s %d %s' %(\"\\n\\n Cutting speed=\",V,\" m/min\")\n",
      "\n",
      "v1=3.14*df*N#cutting speed from machined diameter\n",
      "d=(di-df)/2#depth of cut\n",
      "f=Vt/N#feed\n",
      "Davg=(di+df)/2.\n",
      "MRR=3.14*Davg*d*f*N \n",
      "print'%s %.6f %s' %(\"\\n\\n Material Removal Rate =\",MRR,\"=in^3/min\")\n",
      "\n",
      "t=l/(f*N)\n",
      "print'%s %.6f %s' %(\"\\n\\n Cutting time=\",t,\" min\")\n",
      "\n",
      "P=(4./2.73)*MRR#average value of stainless steel is taken as 4 ws/mm3 or 4/2.73 hpmin/mm3\n",
      "print'%s %.6f %s' %(\"\\n\\n Cutting power=\",P,\"hp\")\n",
      "\n",
      "Fc=((P*396000)/(N*2*3.14))/(Davg/2.)\n",
      "print'%s %d %s' %(\"\\n\\n Cutting force=\",Fc,\"lb\")\n",
      "\n",
      "\n",
      "\n",
      "\n",
      "\n",
      "\n"
     ],
     "language": "python",
     "metadata": {},
     "outputs": [
      {
       "output_type": "stream",
       "stream": "stdout",
       "text": [
        "\n",
        " # Material Removal Rate and Cutting Force in Turning # \n",
        "\n",
        "\n",
        "\n",
        " Cutting speed= 628  m/min\n",
        "\n",
        "\n",
        " Material Removal Rate = 0.123088 =in^3/min\n",
        "\n",
        "\n",
        " Cutting time= 0.750000  min\n",
        "\n",
        "\n",
        " Cutting power= 0.180349 hp\n",
        "\n",
        "\n",
        " Cutting force= 116 lb\n"
       ]
      }
     ],
     "prompt_number": 2
    },
    {
     "cell_type": "heading",
     "level": 2,
     "metadata": {},
     "source": [
      "EXAMPLE 22.2 - PG NO. 632"
     ]
    },
    {
     "cell_type": "code",
     "collapsed": false,
     "input": [
      "#example 22.2\n",
      "#page no. 632\n",
      "# Given that  \n",
      "d=10.#in mm diameter of drill bit\n",
      "f=0.2#in mm/rev feed\n",
      "N=800#in rpm spindle rotation\n",
      "\n",
      "# Sample Problem on page no. 632\n",
      "\n",
      "print(\"\\n # Material Removal Rate and Torque in Drilling # \\n\")\n",
      "\n",
      "MRR=(((3.14*(d**2))/4)*f*N)/60.\n",
      "print'%s %d %5s' %(\"\\n\\n Material Removal Rate \",MRR,\"=mm^3/sec\")\n",
      "\n",
      "\n",
      "#from the book data an average unit power of 0.5Ws/mm2 for magnesium is taken\n",
      "T=(MRR*0.5)/((N*2.*3.14)/60.)\n",
      "print'%s %.6f %s' %(\"\\n\\n Torque on the drill \",T,\"=Nm\")\n",
      "\n",
      "\n"
     ],
     "language": "python",
     "metadata": {},
     "outputs": [
      {
       "output_type": "stream",
       "stream": "stdout",
       "text": [
        "\n",
        " # Material Removal Rate and Torque in Drilling # \n",
        "\n",
        "\n",
        "\n",
        " Material Removal Rate  209 =mm^3/sec\n",
        "\n",
        "\n",
        " Torque on the drill  1.250000 =Nm\n"
       ]
      }
     ],
     "prompt_number": 3
    }
   ],
   "metadata": {}
  }
 ]
}