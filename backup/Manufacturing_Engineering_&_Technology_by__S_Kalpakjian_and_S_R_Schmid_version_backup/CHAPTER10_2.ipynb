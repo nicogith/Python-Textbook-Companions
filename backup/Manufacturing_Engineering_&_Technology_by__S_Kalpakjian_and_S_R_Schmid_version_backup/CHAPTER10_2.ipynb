{
 "metadata": {
  "name": "",
  "signature": "sha256:7bab090be4ea3beabd54f01ab20d8f4629c694669924098a83be7720130d8118"
 },
 "nbformat": 3,
 "nbformat_minor": 0,
 "worksheets": [
  {
   "cells": [
    {
     "cell_type": "heading",
     "level": 1,
     "metadata": {},
     "source": [
      "CHAPTER 10 - Fundamentals of Metal Casting"
     ]
    },
    {
     "cell_type": "heading",
     "level": 2,
     "metadata": {},
     "source": [
      "EXAMPLE 10.1 - PG NO. 252"
     ]
    },
    {
     "cell_type": "code",
     "collapsed": false,
     "input": [
      "#Example 10.1 \n",
      "#page no. 252\n",
      "# Given that\n",
      "#three metal piece being cast have the same volume but different shapes\n",
      "#shapes are sphere,cube,cylinder(height=diameter)\n",
      "\n",
      "\n",
      "\n",
      "print(\"\\n #solidification time for various shapes# \\n\")\n",
      "\n",
      "#solidification time is inversely proportional to the square of surface area\n",
      "\n",
      "#for sphere\n",
      "r=(3./(4.*3.14))**(1./3.)#radius of the sphere from volume of sphere v=(4*3.14*r**3)/3\n",
      "A=4*3.14*((r)**2)\n",
      "time1=1./(A)**2.\n",
      "print'%s %.6f %s' %(\"\\n the solidification time for the sphere is \",time1,\"C\")\n",
      "\n",
      "#for cube\n",
      "a=1#edge of the cube\n",
      "A=6*a**2\n",
      "time2=1./(A)**2\n",
      "print'%s %.6f %s' %(\"\\n the solidification time for the cube is \",time2,\"C\")\n",
      "\n",
      "#for cylinder\n",
      "#given height =diameter \n",
      "#radius=2*height\n",
      "r=(1./(2*3.14))**(1./3.)#radius of the cylinder from volume of the cylinder v=3.14*r**2*h\n",
      "A=(6*3.14*(r**2)) #area of the cylinder = (2*3.14*radius**2) + (2*3.14*radius*height)\n",
      "time3=1./(A)**2.\n",
      "print'%s %.6f %s' %(\"\\n the solidification time for the sphere is \",time3,\"C\")\n"
     ],
     "language": "python",
     "metadata": {},
     "outputs": [
      {
       "output_type": "stream",
       "stream": "stdout",
       "text": [
        "\n",
        " #solidification time for various shapes# \n",
        "\n",
        "\n",
        " the solidification time for the sphere is  0.042774 C\n",
        "\n",
        " the solidification time for the cube is  0.027778 C\n",
        "\n",
        " the solidification time for the sphere is  0.032643 C\n"
       ]
      }
     ],
     "prompt_number": 3
    }
   ],
   "metadata": {}
  }
 ]
}