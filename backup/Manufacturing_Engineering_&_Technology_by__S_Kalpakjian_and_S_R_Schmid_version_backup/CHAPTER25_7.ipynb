{
 "metadata": {
  "name": "",
  "signature": "sha256:64df0f62add5674f5bdb088af7b099c9cc8d5cd0f207eda3eced371fc280619b"
 },
 "nbformat": 3,
 "nbformat_minor": 0,
 "worksheets": [
  {
   "cells": [
    {
     "cell_type": "heading",
     "level": 1,
     "metadata": {},
     "source": [
      "CHAPTER 25 - Abrasive Machining and Finishing Operations"
     ]
    },
    {
     "cell_type": "heading",
     "level": 2,
     "metadata": {},
     "source": [
      "EXAMPLE 25.1 - PG NO. 713"
     ]
    },
    {
     "cell_type": "code",
     "collapsed": false,
     "input": [
      "#example 25.1\n",
      "#page no. 713 \n",
      "import math\n",
      "# Given that\n",
      "D=200#in mm Grinding Wheel diameter \n",
      "d=0.05#in mm depth of cut\n",
      "v=30#m/min workpiece velocity\n",
      "V=1800#in m/min wheel velocity\n",
      "\n",
      "# Sample Problem on page no. 713\n",
      "\n",
      "print(\"\\n # Chip Dimensions in Surface Grinding # \\n\")\n",
      "\n",
      "l=math.sqrt(D*d)\n",
      "l1=l/2.54*(10**-1)\n",
      "print'%s %.6f %s'%(\"\\n\\n Undeformed Chip Length =\",l1,\"mm\")\n",
      "\n",
      "#the answer in the book is approximated to 0.13 in\n",
      "\n",
      "#assume\n",
      "C=2.#in mm\n",
      "r=15.\n",
      "t=math.sqrt(((4*v)/(V*C*r))*math.sqrt(d/D))\n",
      "t1=t/2.54*(10**-1)\n",
      "print'%s %.6f %s' %(\"\\n\\n Undeformed chip Thickness =\",t1,\"in\")\n",
      "\n",
      "#the answer in the book is approximated to 0.00023in\n",
      "\n",
      "\n",
      "\n"
     ],
     "language": "python",
     "metadata": {},
     "outputs": [
      {
       "output_type": "stream",
       "stream": "stdout",
       "text": [
        "\n",
        " # Chip Dimensions in Surface Grinding # \n",
        "\n",
        "\n",
        "\n",
        " Undeformed Chip Length = 0.124499 mm\n",
        "\n",
        "\n",
        " Undeformed chip Thickness = 0.000233 in\n"
       ]
      }
     ],
     "prompt_number": 1
    },
    {
     "cell_type": "heading",
     "level": 2,
     "metadata": {},
     "source": [
      "Example 25.2 - Pg no. 715"
     ]
    },
    {
     "cell_type": "code",
     "collapsed": false,
     "input": [
      "#example 25.2\n",
      "#page no. 715\n",
      "# Given that\n",
      "D=10.#in inch Grinding Wheel diameter\n",
      "N=4000.#in rpm \n",
      "w=1.#in inch \n",
      "d=0.002#in inch depth of cut\n",
      "v=60.#inch/min feed rate of the workpiece\n",
      "\n",
      "# Sample Problem on page no. 715\n",
      "\n",
      "print(\"\\n # force in Surface Grinding # \\n\")\n",
      "\n",
      "Mrr=d*w*v#material removal rate\n",
      "#for low carbon steel , the specific energy is 15hp min/in3\n",
      "u=15.#in hp min/in3\n",
      "P=u*Mrr*396000.#in lb/min\n",
      "Fc = P/(2*3.14*N*(D/2.))\n",
      "\n",
      "print'%s %.6f %s' %(\"\\n\\n Cutting Force =\",Fc,\"lb\")\n",
      "\n",
      "\n",
      "Fn = Fc+(30./100.)*Fc\n",
      "\n",
      "print'%s %.6f %s' %(\"\\n\\n Thrust Force =\",Fn,\"lb\")\n"
     ],
     "language": "python",
     "metadata": {},
     "outputs": [
      {
       "output_type": "stream",
       "stream": "stdout",
       "text": [
        "\n",
        " # force in Surface Grinding # \n",
        "\n",
        "\n",
        "\n",
        " Cutting Force = 5.675159 lb\n",
        "\n",
        "\n",
        " Thrust Force = 7.377707 lb\n"
       ]
      }
     ],
     "prompt_number": 2
    }
   ],
   "metadata": {}
  }
 ]
}