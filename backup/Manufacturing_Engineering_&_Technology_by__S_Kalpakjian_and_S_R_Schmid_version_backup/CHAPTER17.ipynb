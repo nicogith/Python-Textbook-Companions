{
 "metadata": {
  "name": "",
  "signature": "sha256:f3d611ffad9a6eb77db0dafc2647d41da22e72400b02fe9943316083c1df665f"
 },
 "nbformat": 3,
 "nbformat_minor": 0,
 "worksheets": [
  {
   "cells": [
    {
     "cell_type": "heading",
     "level": 1,
     "metadata": {},
     "source": [
      "CHAPTER 17 - Processing of Powder Metals Ceramics, Glass and Superconductors"
     ]
    },
    {
     "cell_type": "heading",
     "level": 2,
     "metadata": {},
     "source": [
      "EXAMPLE 17.1 - PG NO. 466"
     ]
    },
    {
     "cell_type": "code",
     "collapsed": false,
     "input": [
      "#example 17.1 \n",
      "#page no. 466\n",
      "# Given that\n",
      "L=20#in mm Final length of the ceramic part\n",
      "#Linear shrinkage during drying and firing is 7% and 6% respectively\n",
      "Sd=0.070#Linear shrinkage during drying\n",
      "Sf=0.06#Linear shrinkage during firing\n",
      "\n",
      "# Sample Problem on page no. 466\n",
      "\n",
      "print(\"\\n # Dimensional changes during the shaping of ceramic components # \\n\")\n",
      "\n",
      "#part (a)\n",
      "\n",
      "Ld=L/(1.-Sf)#dried length\n",
      "Lo=(1.+Sd)*Ld#initial length\n",
      "print'%s %.6f %s' %(\"\\n\\nInitial Length=\",Lo,\"mm\")\n",
      "\n",
      "#Answer in the book is approximated to 22.77mm\n",
      "\n",
      "#part(b)\n",
      "\n",
      "Pf=0.03#Fired Porosity\n",
      "r = (1.-Pf)# Where r = Va/Vf\n",
      "R = 1./((1.-Sf)**3.)# Where R = Vd/Vf\n",
      "Pd = (1.-r/R)\n",
      "print'%s %d %s' %(\"\\n\\nDried porosity is \",Pd*100,\"%\")\n",
      "\n"
     ],
     "language": "python",
     "metadata": {},
     "outputs": [
      {
       "output_type": "stream",
       "stream": "stdout",
       "text": [
        "\n",
        " # Dimensional changes during the shaping of ceramic components # \n",
        "\n",
        "\n",
        "\n",
        "Initial Length= 22.765957 mm\n",
        "\n",
        "\n",
        "Dried porosity is  19 %\n"
       ]
      }
     ],
     "prompt_number": 1
    }
   ],
   "metadata": {}
  }
 ]
}