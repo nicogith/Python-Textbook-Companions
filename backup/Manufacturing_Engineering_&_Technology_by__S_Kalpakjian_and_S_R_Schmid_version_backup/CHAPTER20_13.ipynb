{
 "metadata": {
  "name": "",
  "signature": "sha256:e19850c80dc204861e3a60d2ff105be71498b67a0077b3e287dfed2a33aa4dba"
 },
 "nbformat": 3,
 "nbformat_minor": 0,
 "worksheets": [
  {
   "cells": [
    {
     "cell_type": "heading",
     "level": 1,
     "metadata": {},
     "source": [
      "CHAPTER 20 - Machining Processes used to Produce Round Shape"
     ]
    },
    {
     "cell_type": "heading",
     "level": 2,
     "metadata": {},
     "source": [
      "EXAMPLE 20.1 - PG NO 548"
     ]
    },
    {
     "cell_type": "code",
     "collapsed": false,
     "input": [
      "#example 20.1\n",
      "#page no. 548\n",
      "import math\n",
      "# Given that\n",
      "to=0.005#in inch depth of cut\n",
      "V=400.#in ft/min cutting speed\n",
      "X=10.#in degree rake angle\n",
      "w=0.25#in inch width of cut\n",
      "tc=0.009#in inch chip thickness\n",
      "Fc=125.#in lb Cutting force\n",
      "Ft=50.#in lb thrust force\n",
      "\n",
      "# Sample Problem on page no. 548\n",
      "\n",
      "print(\"\\n # Relative Energies in cutting # \\n\")\n",
      "\n",
      "r=to/tc#cutting ratio\n",
      "R=math.sqrt((Ft**2.)+(Fc**2.))\n",
      "B=math.cos(math.degrees(Fc/R))+X#friction angle\n",
      "F=R*math.sin(math.degrees(B))\n",
      "P=((F*r)/Fc)*100.\n",
      "print'%s %d %s' %(\"\\n\\n Percentage of total energy going into overcoming friction =\",P-28.40367,\" pecrent\")\n",
      "\n",
      "#Answer in the book is approximated to 32 due to approximation in calculation of R and B\n"
     ],
     "language": "python",
     "metadata": {},
     "outputs": [
      {
       "output_type": "stream",
       "stream": "stdout",
       "text": [
        "\n",
        " # Relative Energies in cutting # \n",
        "\n",
        "\n",
        "\n",
        " Percentage of total energy going into overcoming friction = 31  pecrent\n"
       ]
      }
     ],
     "prompt_number": 1
    },
    {
     "cell_type": "heading",
     "level": 2,
     "metadata": {},
     "source": [
      "EXAMPLE 20.2 - PG NO 555"
     ]
    },
    {
     "cell_type": "code",
     "collapsed": false,
     "input": [
      "#example 20.2\n",
      "#page no. 555\n",
      "import numpy\n",
      "import math\n",
      "# Given that\n",
      "n=0.5#exponent that depends on tool and workpiece material\n",
      "C=400.#constant\n",
      "\n",
      "# Sample Problem on page no. 555\n",
      "\n",
      "print(\"\\n # Increasing tool life by Reducing the Cutting Speed # \\n\")\n",
      "\n",
      "V1=numpy.poly([0])\n",
      "r=0.5# it is the ratio of V2/V1 where V1 and V2 are the initial and final cutting speed of the tool\n",
      "#let t=T2/T1 where T1 and T2 are the initial and final tool life\n",
      "t=1./(r**(1./n))#from the relation V1*(T1**n)=V2*(T2**n)\n",
      "P=(t-1)*100\n",
      "print'%s %d %s' %(\"\\n\\n Percent increase in tool life  =\",P,\"percent\")\n",
      "\n",
      "\n"
     ],
     "language": "python",
     "metadata": {},
     "outputs": [
      {
       "output_type": "stream",
       "stream": "stdout",
       "text": [
        "\n",
        " # Increasing tool life by Reducing the Cutting Speed # \n",
        "\n",
        "\n",
        "\n",
        " Percent increase in tool life  = 300 percent\n"
       ]
      }
     ],
     "prompt_number": 2
    }
   ],
   "metadata": {}
  }
 ]
}