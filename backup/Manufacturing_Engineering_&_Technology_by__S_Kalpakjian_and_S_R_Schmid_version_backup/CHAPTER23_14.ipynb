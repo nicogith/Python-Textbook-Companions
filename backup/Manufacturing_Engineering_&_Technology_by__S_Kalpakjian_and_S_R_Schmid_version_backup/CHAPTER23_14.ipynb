{
 "metadata": {
  "name": "",
  "signature": "sha256:a33ee633c9de91a9d3d5392d390e458a68a2e6b555e7342341f193ff5d2421df"
 },
 "nbformat": 3,
 "nbformat_minor": 0,
 "worksheets": [
  {
   "cells": [
    {
     "cell_type": "heading",
     "level": 1,
     "metadata": {},
     "source": [
      "CHAPTER 23 - Machining Processes used to Produce Various Shapes"
     ]
    },
    {
     "cell_type": "heading",
     "level": 2,
     "metadata": {},
     "source": [
      "EXAMPLE 23.1 - PG NO 600"
     ]
    },
    {
     "cell_type": "code",
     "collapsed": false,
     "input": [
      "#Example 23.1\n",
      "#page no. 600\n",
      "# Given that\n",
      "import math\n",
      "l=12.#in inch Length of block\n",
      "w=4\n",
      "f=0.01#in inch/tooth feed  \n",
      "d=0.125#in inch depth of cut\n",
      "D=2.#in inch diameter of cutter\n",
      "n=20.#no. of teeth\n",
      "N=100.#in rpm spindle rotation\n",
      "Vt=8.#in inch/minute axial speed of the tool\n",
      "\n",
      "# Sample Problem on page no. 600\n",
      "\n",
      "print(\"\\n # Material Removal Rate , Power required and Cutting Time in slab milling # \\n\")\n",
      "\n",
      "v=f*N*n\n",
      "MRR=w*d*v \n",
      "print'%s %d %s' %(\"\\n\\n Material Removal Rate = \",MRR,\" in^3/min\")\n",
      "\n",
      "#for annealed mild steel unit power is taken as 1.1 hp min/in3\n",
      "P=1.1*MRR\n",
      "print'%s %d %s' %(\"\\n\\n Cutting power=\",P,\"hp\")\n",
      "\n",
      "T=P*33000/(N*2*3.14)\n",
      "print'%s %d %s' %(\"\\n\\n Cutting torque=\",T,\"lb-ft\")\n",
      "\n",
      "lc=math.sqrt(d*D)\n",
      "t=(300.+12.2)/500.\n",
      "print'%s %.6f %s' %(\"\\n\\n Cutting time=\",t*60,\"sec\")\n",
      "\n",
      "#Answers vary due to aproximations \n",
      "\n",
      "\n",
      "\n",
      "\n"
     ],
     "language": "python",
     "metadata": {},
     "outputs": [
      {
       "output_type": "stream",
       "stream": "stdout",
       "text": [
        "\n",
        " # Material Removal Rate , Power required and Cutting Time in slab milling # \n",
        "\n",
        "\n",
        "\n",
        " Material Removal Rate =  10  in^3/min\n",
        "\n",
        "\n",
        " Cutting power= 11 hp\n",
        "\n",
        "\n",
        " Cutting torque= 578 lb-ft\n",
        "\n",
        "\n",
        " Cutting time= 37.464000 sec\n"
       ]
      }
     ],
     "prompt_number": 1
    },
    {
     "cell_type": "heading",
     "level": 2,
     "metadata": {},
     "source": [
      "EXAMPLE 23.2 - PG NO 655"
     ]
    },
    {
     "cell_type": "code",
     "collapsed": false,
     "input": [
      "#example 23.2\n",
      "#page no. 655\n",
      "# Given that\n",
      "l=500#in mm Length\n",
      "w=60#in mm width\n",
      "v=0.6#in m/min  \n",
      "d=3#in mm depth of cut\n",
      "D=150#in mm diameter of cutter\n",
      "n=10#no. of inserts\n",
      "N=100#in rpm spindle rotation\n",
      "\n",
      "# Sample Problem on page no. 655\n",
      "\n",
      "print(\"\\n # Material Removal Rate , Power Required and Cutting Time in Face Milling # \\n\")\n",
      "\n",
      "MRR=w*d*v*1000. \n",
      "print'%s %d %s' %(\"\\n\\n Material Removal Rate = \",MRR,\"mm^3/min\")\n",
      "\n",
      "lc=D/2.\n",
      "t=((l+(2.*lc))/((v*1000.)/60.)) # velocity is converted into mm/sec\n",
      "t1=t/60.\n",
      "print'%s %.6f %s' %(\"\\n\\n Cutting time= \",t1,\"f min\")\n",
      "\n",
      "f=(v*1000.*60.)/(60.*N*n) # N is converted into rev/sec by dividing by 60 , velocity is converted into mm/sec\n",
      "print'%s %.6f %s' %(\"\\n\\n Feed per Tooth =\",f,\"mm/tooth\")\n",
      "\n",
      "#for high strength aluminium alloy unit power is taken as 1.1 W s/mm3\n",
      "P=(1.1*MRR)/60. # MRR is converted into mm3/sec by dividing by 60\n",
      "P1=P/(1000.)#in KW\n",
      "print'%s %.6f %s' %(\"\\n\\n Cutting power =\",P1,\"KW\")\n",
      "\n",
      "\n",
      "\n",
      "\n",
      "\n"
     ],
     "language": "python",
     "metadata": {},
     "outputs": [
      {
       "output_type": "stream",
       "stream": "stdout",
       "text": [
        "\n",
        " # Material Removal Rate , Power Required and Cutting Time in Face Milling # \n",
        "\n",
        "\n",
        "\n",
        " Material Removal Rate =  108000 mm^3/min\n",
        "\n",
        "\n",
        " Cutting time=  1.083333 f min\n",
        "\n",
        "\n",
        " Feed per Tooth = 0.600000 mm/tooth\n",
        "\n",
        "\n",
        " Cutting power = 1.980000 KW\n"
       ]
      }
     ],
     "prompt_number": 2
    }
   ],
   "metadata": {}
  }
 ]
}