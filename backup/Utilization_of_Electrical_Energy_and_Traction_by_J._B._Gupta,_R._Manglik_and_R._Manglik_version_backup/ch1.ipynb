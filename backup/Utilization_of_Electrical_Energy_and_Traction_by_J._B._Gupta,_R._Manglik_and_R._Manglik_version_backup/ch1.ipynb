{
 "metadata": {
  "name": "",
  "signature": "sha256:bf41ecd4a5c4b2bac0963dfefdbae99e40865d12b1b3268ffcbf28e722184e41"
 },
 "nbformat": 3,
 "nbformat_minor": 0,
 "worksheets": [
  {
   "cells": [
    {
     "cell_type": "heading",
     "level": 1,
     "metadata": {},
     "source": [
      "Chapter 1: Electric Heating"
     ]
    },
    {
     "cell_type": "heading",
     "level": 2,
     "metadata": {},
     "source": [
      "Example 1.1, Page 14"
     ]
    },
    {
     "cell_type": "code",
     "collapsed": false,
     "input": [
      "#Variable declaration\n",
      "r1=100.;#in ohms\n",
      "r2=r1;# in ohms\n",
      "V=250.;# ac supply in volts\n",
      "\n",
      "#Calculations&Results\n",
      "rp = 1/(1/r1+1/r2);# equivalent resistance in ohms\n",
      "pp=((V**2)/rp);#power drawn in watts\n",
      "print \"part (a) \"\n",
      "print \"power drawn when elements are in parallel,(W)= %.f\"%pp\n",
      "rs=r1+r2;# equivalent resistance in ohms\n",
      "ps=((V**2)/rs);#power drawn in watts\n",
      "print \"part (b) \"\n",
      "print \"power drawn when elements are in series ,(W)=%.1f\"%ps"
     ],
     "language": "python",
     "metadata": {},
     "outputs": [
      {
       "output_type": "stream",
       "stream": "stdout",
       "text": [
        "part (a) \n",
        "power drawn when elements are in parallel,(W)= 1250\n",
        "part (b) \n",
        "power drawn when elements are in series ,(W)=312.5\n"
       ]
      }
     ],
     "prompt_number": 27
    },
    {
     "cell_type": "heading",
     "level": 2,
     "metadata": {},
     "source": [
      "Example 1.2, Page 15"
     ]
    },
    {
     "cell_type": "code",
     "collapsed": false,
     "input": [
      "import math\n",
      "\n",
      "#Variable declaration\n",
      "P=2.5;#power in kW\n",
      "V=240.;# in volts\n",
      "K=1;#radiating efficiency\n",
      "e=0.9;#emissivity\n",
      "p=42.5*10**-6;# resistivity in ohm-cm\n",
      "T1=1500.;#in dgree celsius\n",
      "T2=450.;#in degree celsius\n",
      "\n",
      "#Calculations\n",
      "x=((math.pi*V**2)/(4*(p*10**-2)*P*10**3));#\n",
      "H=((5.72*K*e)*(((T1+273)/100)**4-((T2+273)/100)**4));#\n",
      "z=((P*10**3)/(math.pi*H))**2;#\n",
      "l=(z*x)**(1./3);#length in meter\n",
      "d=((math.sqrt(z))/l)*10**3;#diameter in mm\n",
      "\n",
      "#Results\n",
      "print \"length in meter =%.2f\"%l\n",
      "print \"diameter in mm =%.3f\"%d\n"
     ],
     "language": "python",
     "metadata": {},
     "outputs": [
      {
       "output_type": "stream",
       "stream": "stdout",
       "text": [
        "length in meter =4.79\n",
        "diameter in mm =0.336\n"
       ]
      }
     ],
     "prompt_number": 29
    },
    {
     "cell_type": "heading",
     "level": 2,
     "metadata": {},
     "source": [
      "Example 1.3, Page 15"
     ]
    },
    {
     "cell_type": "code",
     "collapsed": false,
     "input": [
      "import math\n",
      "\n",
      "#Variable declaration\n",
      "V=440.;# volts\n",
      "P=20.;#in kW\n",
      "T1=1200.;#in degree celsius\n",
      "T2=700.;# in degree celsius\n",
      "K=0.6;#radiating efficiency\n",
      "e=0.9;#emissivity\n",
      "t=0.025;#thickness in mm\n",
      "p=1.05*10**-6;#resisitivity in ohm - meter\n",
      "\n",
      "#Calculations\n",
      "Pp=(round(P*10**3))/3;#power per phase in watts\n",
      "Pv= (V/math.sqrt(3));#phase voltage\n",
      "R=Pv**2/Pp;#resistance of strip in ohms\n",
      "x=((R*t*10**-3)/(p));#\n",
      "H=((5.72*K*e)*(((T1+273)/100)**4-((T2+273)/100)**4));#in W/m^2\n",
      "y=((Pp)/(H*2));#in m^2\n",
      "w=math.sqrt(y/x)*10**3;#width in mm\n",
      "l=x*w*10**-3;#length of strip in meter\n",
      "\n",
      "#Results\n",
      "print \"width in mm =%.3f\"%w\n",
      "print \"length of strip in meter =%.2f\"%l\n"
     ],
     "language": "python",
     "metadata": {},
     "outputs": [
      {
       "output_type": "stream",
       "stream": "stdout",
       "text": [
        "width in mm =11.084\n",
        "length of strip in meter =2.55\n"
       ]
      }
     ],
     "prompt_number": 31
    },
    {
     "cell_type": "heading",
     "level": 2,
     "metadata": {},
     "source": [
      "Example 1.4, Page 16"
     ]
    },
    {
     "cell_type": "code",
     "collapsed": false,
     "input": [
      "#Variable declaration\n",
      "a=6.;#area in m^2\n",
      "l=a/6;#one side of tank in meter\n",
      "V=l*l*l;#volume in m^2\n",
      "e=90./100;#capacity\n",
      "wh=6*e*1000;#water to be heated daily in kg\n",
      "s=4200;#specific heat of water in J/Kg/degree celsius\n",
      "t1=65;#in degree celsius\n",
      "t2=20;#in degree celsius\n",
      "\n",
      "#Calculations\n",
      "hr=wh*s*(t1-t2)*10**-6;#heat required to raise the temperture of water\n",
      "hr1=hr/3.6;#heat required in kWh\n",
      "d=6.3;#difference in watts\n",
      "l=((d*a*(t1-t2)*24)/1000);#losses from the surface of the tank in kWh\n",
      "es=hr1+l;#energy supplied in kWh\n",
      "lk=es/24;#loading in kW\n",
      "ef=(hr1/es)*100;#efficiency of the tank in percentage\n",
      "\n",
      "#Results\n",
      "print \"loading in kW = %.1f\"%lk\n",
      "print \"efficiency of the tank in percentage = %.1f\"%ef"
     ],
     "language": "python",
     "metadata": {},
     "outputs": [
      {
       "output_type": "stream",
       "stream": "stdout",
       "text": [
        "loading in kW = 13.5\n",
        "efficiency of the tank in percentage = 87.4\n"
       ]
      }
     ],
     "prompt_number": 32
    },
    {
     "cell_type": "heading",
     "level": 2,
     "metadata": {},
     "source": [
      "Example 1.5, Page 22"
     ]
    },
    {
     "cell_type": "code",
     "collapsed": false,
     "input": [
      "import math\n",
      "\n",
      "#Variable declaration\n",
      "sh=444;# specific heat of steel in J/Kg/\u00b0C\n",
      "lh=37.25;#latent heat in kJ/kg\n",
      "mp=1370;#melting point of steel \u00b0C\n",
      "t1=19.1;#initial temperture in \u00b0C\n",
      "e=0.5;#overall efficiency\n",
      "ip=5700;#input current in amperes\n",
      "rs=0.008;#resistance of transformer referred to secondary in ohms\n",
      "rr=0.014;# recatance in ohms\n",
      "m=4.3;# steel in tonnes\n",
      "\n",
      "#Calculations\n",
      "ers=((m*10**3*((sh*(mp-t1))+lh*10**3)));# energy required in joules\n",
      "ersh=ers/(3.6*10**6);#energy required in kWh\n",
      "ata=1;#time taken to melt steel in hours\n",
      "ao=ersh/ata;#average output in kW\n",
      "ai=ao/e;#average input in kW\n",
      "vdr=ip*rs;#voltage drop due to resistance of furnace leads\n",
      "vdr1=ip*rr;#voltage drop due to reactance of furnace leads\n",
      "va=((ai*10**3)/(3*ip))-(vdr);#voltage resistive in nature\n",
      "rac=va/ip;#arc resistance in \u03a9\n",
      "oppv=math.sqrt((va+vdr)**2+vdr1**2);#open circuit phase voltage in volts\n",
      "kvas=3*ip*oppv*10**-3;#total kVA drawn \n",
      "pf=((va+vdr)/oppv);#power factor \n",
      "\n",
      "#Result\n",
      "print \"average input in kW = %.2f\"%ai\n",
      "print \"arc voltage in volts = %.1f\"%va\n",
      "print \"arc resistance in \u03a9 = %.4f\"%rac\n",
      "print \"pf of the current drawn from the supply (lagging) = %.4f\"%pf\n",
      "print \"total kVA drawn in kVA = %.f\"%kvas"
     ],
     "language": "python",
     "metadata": {},
     "outputs": [
      {
       "output_type": "stream",
       "stream": "stdout",
       "text": [
        "average input in kW = 1521.84\n",
        "arc voltage in volts = 43.4\n",
        "arc resistance in \u03a9 = 0.0076\n",
        "pf of the current drawn from the supply (lagging) = 0.7445\n",
        "total kVA drawn in kVA = 2044\n"
       ]
      }
     ],
     "prompt_number": 33
    },
    {
     "cell_type": "heading",
     "level": 2,
     "metadata": {},
     "source": [
      "Example 1.6, Page 23"
     ]
    },
    {
     "cell_type": "code",
     "collapsed": false,
     "input": [
      "import math\n",
      "\n",
      "#Variable declaration\n",
      "sh=0.12;# specific heat of steel in kcal/Kg/\u00b0C\n",
      "lh=8.89;#latent heat in kcal/kg\n",
      "mp=1370;#melting point of steel \u00b0C\n",
      "t1=19.1;#initial temperture in \u00b0C\n",
      "e=0.5;#overall efficiency\n",
      "ip=5700;#input current in amperes\n",
      "rs=0.008;#resistance of transformer referred to secondary in ohms\n",
      "rr=0.014;# recatance in ohms\n",
      "m=4.3;# steel in tonnes\n",
      "\n",
      "#Calculations\n",
      "ers=((m*10**3*((sh*(mp-t1))+lh)));# energy required in joules\n",
      "ersh=ers/(860);#energy required in kWh\n",
      "ata=1;#time taken to melt steel in hours\n",
      "ao=ersh/ata;#average output in kW\n",
      "ai=ao/e;#average input in kW\n",
      "vdr=ip*rs;#voltage drop due to resistance of furnace leads\n",
      "vdr1=ip*rr;#voltage drop due to reactance of furnace leads\n",
      "va=((ai*10**3)/(3*ip))-(vdr);#voltage resistive in nature\n",
      "rac=va/ip;#arc resistance in \u03a9\n",
      "oppv=math.sqrt((va+vdr)**2+vdr1**2);#open circuit phase voltage in volts\n",
      "kvas=3*ip*oppv*10**-3;#total kVA drawn \n",
      "pf=((va+vdr)/oppv);#power factor \n",
      "\n",
      "#Result\n",
      "print \"average input in kW =%.f\"%ai\n",
      "print \"arc voltage in volts =%.1f\"%va\n",
      "print \"arc resistance in \u03a9 =%.5f\"%rac\n",
      "print \"pf of the current drawn from the supply (lagging) =%.4f\"%pf\n",
      "print \"total kVA drawn in kVA =%.1f\"%kvas"
     ],
     "language": "python",
     "metadata": {},
     "outputs": [
      {
       "output_type": "stream",
       "stream": "stdout",
       "text": [
        "average input in kW =1710\n",
        "arc voltage in volts =54.4\n",
        "arc resistance in \u03a9 =0.00954\n",
        "pf of the current drawn from the supply (lagging) =0.7816\n",
        "total kVA drawn in kVA =2187.7\n"
       ]
      }
     ],
     "prompt_number": 34
    },
    {
     "cell_type": "heading",
     "level": 2,
     "metadata": {},
     "source": [
      "Example 1.7, Page 29"
     ]
    },
    {
     "cell_type": "code",
     "collapsed": false,
     "input": [
      "import math\n",
      "\n",
      "#Variable declaration\n",
      "sh=0.1;# specific heat of steel in kcal/Kg/\u00b0C\n",
      "lh=26.67;#latent heat in kcal/kg\n",
      "mp=555;#melting point of steel \u00b0C\n",
      "t1=35;#initial temperture in \u00b0C\n",
      "e=0.8;#overall efficiency\n",
      "ip=5700;#input current in amperes\n",
      "rs=0.008;#resistance of transformer referred to secondary in ohms\n",
      "rr=0.014;# recatance in ohms\n",
      "m=2;# steel in tonnes\n",
      "\n",
      "#Calculations\n",
      "ers=((m*10**3*((sh*(mp-t1))+lh)));# energy required in joules\n",
      "ersh=ers/(860);#energy required in kWh\n",
      "ata=1;#time taken to melt steel in hours\n",
      "ao=ersh/ata;#average output in kW\n",
      "ai=ao/e;#average input in kW\n",
      "vdr=ip*rs;#voltage drop due to resistance of furnace leads\n",
      "vdr1=ip*rr;#voltage drop due to reactance of furnace leads\n",
      "va=((ai*10**3)/(3*ip))-(vdr);#voltage resistive in nature\n",
      "rac=va/ip;#arc resistance in \u03a9\n",
      "oppv=math.sqrt((va+vdr)**2+vdr1**2);#open circuit phase voltage in volts\n",
      "kvas=3*ip*oppv*10**-3;#total kVA drawn \n",
      "pf=((va+vdr)/oppv);#power factor \n",
      "rf=ai/ata;# in kW\n",
      "\n",
      "#Result\n",
      "print \"rating of furnance  in kW =%.1f\"%rf\n"
     ],
     "language": "python",
     "metadata": {},
     "outputs": [
      {
       "output_type": "stream",
       "stream": "stdout",
       "text": [
        "rating of furnance  in kW =228.7\n"
       ]
      }
     ],
     "prompt_number": 35
    },
    {
     "cell_type": "heading",
     "level": 2,
     "metadata": {},
     "source": [
      "Example 1.8, Page 29"
     ]
    },
    {
     "cell_type": "code",
     "collapsed": false,
     "input": [
      "#Variable declaration\n",
      "sh=880;# specific heat of steel in J/Kg/\u00b0C\n",
      "lh=32000;#latent heat in J/kg\n",
      "mp=660;#melting point of steel \u00b0C\n",
      "t1=15;#initial temperture in \u00b0C\n",
      "ip=5700;#input current in amperes\n",
      "rs=0.008;#resistance of transformer referred to secondary in ohms\n",
      "rr=0.014;# recatance in ohms\n",
      "m=1.8;# IN KG\n",
      "\n",
      "#Calculations\n",
      "ers=((m*((sh*(mp-t1))+lh)));# energy required in joules\n",
      "ersh=ers/(3.6*10**6);#energy required in kWh\n",
      "TM=10.;#TIME TO MELT IN MINS\n",
      "ip=5;#input of the furnance in kW\n",
      "ei=(ip)*(TM/60);#energy input in kWh\n",
      "n=(ersh/ei)*100;#efficiency of furnance in percentage\n",
      "\n",
      "#Result\n",
      "print \"efficiency of furnance in percentage =%.f\"%n\n"
     ],
     "language": "python",
     "metadata": {},
     "outputs": [
      {
       "output_type": "stream",
       "stream": "stdout",
       "text": [
        "efficiency of furnance in percentage =36\n"
       ]
      }
     ],
     "prompt_number": 36
    },
    {
     "cell_type": "heading",
     "level": 2,
     "metadata": {},
     "source": [
      "Example 1.9, Page 30"
     ]
    },
    {
     "cell_type": "code",
     "collapsed": false,
     "input": [
      "import math\n",
      "\n",
      "#Variable declaration\n",
      "vs=10;#secondary voltage in volts\n",
      "p=500;#power drawn in kW\n",
      "pf=0.5;\n",
      "ir=(p*10**3)/pf;#secondary current in amperes\n",
      "\n",
      "#Calculations\n",
      "zs=vs/ir;#impedence of secondary circuit in ohms\n",
      "rs=zs*pf;#resistance of secondary circuit in ohms\n",
      "res=zs*(math.sqrt(1-pf**2));#rectancetance of secondary circuit in ohms\n",
      "rs1=2*rs;# resistacne when hearth is full in \u03a9\n",
      "res1=res;# reactance when hearth is full in \u03a9\n",
      "zs1=(math.sqrt(rs1**2+res1**2));#impedance of secondary circuit in \u03a9\n",
      "pf1=rs1/zs1;#power factor\n",
      "is1=vs/zs1;#secondary current in amperes\n",
      "pd=is1**2*rs1*10**-4;#power drawn in kW\n",
      "\n",
      "#Results\n",
      "print \"power factor is =%.3f\"%pf1\n",
      "print \"power drawn in kW =%.3f\"%pd"
     ],
     "language": "python",
     "metadata": {},
     "outputs": [
      {
       "output_type": "stream",
       "stream": "stdout",
       "text": [
        "power factor is =0.756\n",
        "power drawn in kW =571.429\n"
       ]
      }
     ],
     "prompt_number": 38
    },
    {
     "cell_type": "heading",
     "level": 2,
     "metadata": {},
     "source": [
      "Example 1.10, Page 30"
     ]
    },
    {
     "cell_type": "code",
     "collapsed": false,
     "input": [
      "import math\n",
      "\n",
      "#Variable declaration\n",
      "vs=10;#secondary voltage in volts\n",
      "p=400;#power drawn in kW\n",
      "pf=0.6;#\n",
      "\n",
      "#Calculations\n",
      "is1=(p*10**3)/pf;#secondary current in amperes\n",
      "zs=vs/is1;#impedence of secondary circuit in ohms\n",
      "rs=zs*pf;#resistance of secondary circuit in ohms\n",
      "res=zs*(math.sqrt(1-pf**2));#rectancetance of secondary circuit in ohms\n",
      "x=(rs)/res;#height \n",
      "\n",
      "#Result\n",
      "print \"maximum heat will be obtained with the height of charge as 3/4 of height of hearth =%.2f\"%x"
     ],
     "language": "python",
     "metadata": {},
     "outputs": [
      {
       "output_type": "stream",
       "stream": "stdout",
       "text": [
        "maximum heat will be obtained with the height of charge as 3/4 of height of hearth =0.75\n"
       ]
      }
     ],
     "prompt_number": 39
    },
    {
     "cell_type": "heading",
     "level": 2,
     "metadata": {},
     "source": [
      "Example 1.11, Page 32"
     ]
    },
    {
     "cell_type": "code",
     "collapsed": false,
     "input": [
      "import math\n",
      "\n",
      "#Variable declaration\n",
      "p=5*10**-7;#specific resistance in \u03a9-m\n",
      "rp=1;#relative permeability\n",
      "dp=0.0015;#depth of penetration in mter\n",
      "\n",
      "#Calculations\n",
      "f=((p*10**7)/((rp*(dp)**2)*4*(math.pi)**2))*10**-3;#frequency in kHz\n",
      "\n",
      "#Result\n",
      "print \"frequency in kHz =%.3f\"%f"
     ],
     "language": "python",
     "metadata": {},
     "outputs": [
      {
       "output_type": "stream",
       "stream": "stdout",
       "text": [
        "frequency in kHz =56.290\n"
       ]
      }
     ],
     "prompt_number": 40
    },
    {
     "cell_type": "heading",
     "level": 2,
     "metadata": {},
     "source": [
      "Example 1.12, Page 36"
     ]
    },
    {
     "cell_type": "code",
     "collapsed": false,
     "input": [
      "#Variable declaration\n",
      "l=0.5;#length in meter\n",
      "b=0.25;#breadh in meter\n",
      "h=0.02;#in meter\n",
      "t1=25;# temperture \u00b0C\n",
      "t2=125;# temperture \u00b0C\n",
      "t=10;#time in minutes\n",
      "f=30;#frequency in 30 MHz\n",
      "w=600;#weight of the wood in kg/m^3\n",
      "sh=1500;#specific heat in J/Kg/\u00b0C\n",
      "e=50;#efficiency\n",
      "\n",
      "#Calculations\n",
      "vp=l*b*h;#volume in m^3\n",
      "wp=vp*w;#weight of plywood in kg\n",
      "hr=sh*wp*(t2-t1);#heat required in joules\n",
      "hrt=(hr/(3600));#heat required to raise the temperture of plywood in Wh\n",
      "pu=hrt/(1./6);#power utilized in watts\n",
      "pi=(pu/e)*100;#power input required in percentage\n",
      "\n",
      "#Result\n",
      "print \"power input required ,(W)= %.f\"%pi\n"
     ],
     "language": "python",
     "metadata": {},
     "outputs": [
      {
       "output_type": "stream",
       "stream": "stdout",
       "text": [
        "power input required ,(W)= 750\n"
       ]
      }
     ],
     "prompt_number": 41
    },
    {
     "cell_type": "heading",
     "level": 2,
     "metadata": {},
     "source": [
      "Example 1.13, Page 37"
     ]
    },
    {
     "cell_type": "code",
     "collapsed": false,
     "input": [
      "import math\n",
      "\n",
      "#Variable declaration\n",
      "vl=600;#in volts\n",
      "p=200;#power absorbed in watts\n",
      "pf=0.05;#power factor\n",
      "f=30*10**6;#frequency in Hz\n",
      "ep=8.854*10**-12;#constant\n",
      "er=5;#\n",
      "a=150;# in cm^2\n",
      "t=0.02;# in meter\n",
      "\n",
      "#Calculations\n",
      "c=((ep*er*a*10**-4)/t);#capacitance in farads\n",
      "vr=(math.sqrt(p/(2*math.pi*f*c*pf)));#voltage is required in volts\n",
      "i=p/(vr*pf);#current in amperes\n",
      "f2=((f*(vr/vl)**2))*10**-6;#frequency in Mhz\n",
      "\n",
      "#Results\n",
      "print \"voltage in volts =%.f\"%vr\n",
      "print \"current in amperes =%d\"%i\n",
      "print \"frequency in MHz=%.1f\"%f2"
     ],
     "language": "python",
     "metadata": {},
     "outputs": [
      {
       "output_type": "stream",
       "stream": "stdout",
       "text": [
        "voltage in volts =799\n",
        "current in amperes =5\n",
        "frequency in MHz=53.3\n"
       ]
      }
     ],
     "prompt_number": 42
    },
    {
     "cell_type": "heading",
     "level": 2,
     "metadata": {},
     "source": [
      "Example 1.14, Page 37"
     ]
    },
    {
     "cell_type": "code",
     "collapsed": false,
     "input": [
      "import math\n",
      "\n",
      "#Variable declaration\n",
      "pf=0.04;#power factor\n",
      "p=1000;#in watts\n",
      "f=10*10**6;# in MHz\n",
      "a1=.004;#area in m^2\n",
      "a2=0.001;#area in m^2\n",
      "t=0.02;#thickness in meter\n",
      "t1=.01;#thicknes sin meter\n",
      "t2=t-t1;#thickness in meter\n",
      "ep=8.854*10**-12;#constant in F/m\n",
      "er=5;#relative permittivity of plywood\n",
      "er1=1;#relative permittivity in air\n",
      "\n",
      "#Calculations&Results\n",
      "c=(ep*(((a1*er1)/t)+(a2/((t1/er)+(t2/er1)))));#capacitance in farads\n",
      "vr=(math.sqrt(p/(2*math.pi*f*c*pf)));#voltage is required in volts\n",
      "print \"part (a)\"\n",
      "print \"voltage across the electrodes in volts =%.f\"%vr\n",
      "i=p/(vr*pf);#current in amperes\n",
      "print \"part (b)\"\n",
      "print \"cureent in amperes is =%.3f\"%i"
     ],
     "language": "python",
     "metadata": {},
     "outputs": [
      {
       "output_type": "stream",
       "stream": "stdout",
       "text": [
        "part (a)\n",
        "voltage across the electrodes in volts =12594\n",
        "part (b)\n",
        "cureent in amperes is =1.985\n"
       ]
      }
     ],
     "prompt_number": 43
    }
   ],
   "metadata": {}
  }
 ]
}