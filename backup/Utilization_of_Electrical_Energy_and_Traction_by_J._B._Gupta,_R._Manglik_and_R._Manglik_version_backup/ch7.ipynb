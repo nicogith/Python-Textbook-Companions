{
 "metadata": {
  "name": "",
  "signature": "sha256:0876ba2d073e5d2d4ee81bd1d4eeecb803e69345a7fd0a525fce070b69e673cc"
 },
 "nbformat": 3,
 "nbformat_minor": 0,
 "worksheets": [
  {
   "cells": [
    {
     "cell_type": "heading",
     "level": 1,
     "metadata": {},
     "source": [
      "Chapter 7: Train Movement and Energy Consumption"
     ]
    },
    {
     "cell_type": "heading",
     "level": 2,
     "metadata": {},
     "source": [
      "Example 7.1, Page 203"
     ]
    },
    {
     "cell_type": "code",
     "collapsed": false,
     "input": [
      "%pylab inline\n",
      "\n",
      "#Variable declaration\n",
      "a=5.;#aceleration in kmphps\n",
      "t1=30.;#in seconds\n",
      "vm=a*t1;#maximum speed in kmph\n",
      "tfr=10.;#time for free running in mins\n",
      "b=5.;#retardation in kmphps\n",
      "\n",
      "#Calculations&Results\n",
      "ts=vm/b;#time for retardation in seconds\n",
      "dta=((vm*t1)/(2*3600));#distance travelled during acceleration period\n",
      "dtfr=((vm*tfr*60)/(3600));#distance travelled during retardation period\n",
      "dtbp=dta;#distance travelled during breaking period\n",
      "td=dta+dtfr+dtbp;#total distance between stations\n",
      "print \"\\npart (a) \"\n",
      "print \"total distance between station is %.1f km\"%td\n",
      "T=[0,t1,(t1+(tfr*60)),(t1+(t1+(tfr*60)))];#\n",
      "V=[0,vm,vm,0];#\n",
      "plot(T,V)\n",
      "xlabel(\"Time in seconds \")\n",
      "ylabel(\"Spped in Km per Hour\")\n",
      "va=(td*3600)/(t1+(tfr*60)+ts);#average speed in kmph\n",
      "print \"part (b) \"\n",
      "print \"average speed is %.2f kmph\"%va\n",
      "tst=5;#stop time in mins\n",
      "vs=(td*3600)/(t1+(tfr*60)+ts+(tst*60));#sheduled speed in kmph\n",
      "print \"part (c) \"\n",
      "print \"sheduled speed is %.2f kmph\"%vs"
     ],
     "language": "python",
     "metadata": {},
     "outputs": [
      {
       "output_type": "stream",
       "stream": "stdout",
       "text": [
        "Populating the interactive namespace from numpy and matplotlib\n",
        "\n",
        "part (a) \n",
        "total distance between station is 26.2 km\n",
        "part (b) "
       ]
      },
      {
       "output_type": "stream",
       "stream": "stdout",
       "text": [
        "\n",
        "average speed is 143.18 kmph\n",
        "part (c) \n",
        "sheduled speed is 98.44 kmph\n"
       ]
      },
      {
       "metadata": {},
       "output_type": "display_data",
       "png": "[encoded data removed]",
       "text": [
        "<matplotlib.figure.Figure at 0xb148f72c>"
       ]
      }
     ],
     "prompt_number": 34
    },
    {
     "cell_type": "heading",
     "level": 2,
     "metadata": {},
     "source": [
      "Example 7.2, Page 204"
     ]
    },
    {
     "cell_type": "code",
     "collapsed": false,
     "input": [
      "import math\n",
      "%pylab inline\n",
      "\n",
      "#Variable declaration\n",
      "a=1.7;#aceleration in kmphps\n",
      "b=3.3;#kmphps\n",
      "s=1400;#m\n",
      "va=42;#kmph\n",
      "\n",
      "#Calculations&Results\n",
      "tr=((s*10**-3)/va)*3600;#secomds\n",
      "k=((1./(2*a)))+((1./(2*b)));#\n",
      "vm=((tr/(2*k))-math.sqrt(((tr**2)/(4*k**2))-((3600*s*10**-3)/k)));#in kmph\n",
      "t1=vm/a;#seconds\n",
      "t3=vm/b;#seconds\n",
      "t2=tr-(t1+t3);#seconds\n",
      "T=[0,(t1),(t1+t2),(t1+t2+t3)];\n",
      "V=[0,vm,vm,0];\n",
      "plot(T,V);\n",
      "xlabel(\"Time in seconds \")\n",
      "ylabel(\"Spped in Km per Hour\")"
     ],
     "language": "python",
     "metadata": {},
     "outputs": [
      {
       "output_type": "stream",
       "stream": "stdout",
       "text": [
        "Populating the interactive namespace from numpy and matplotlib\n"
       ]
      },
      {
       "metadata": {},
       "output_type": "pyout",
       "prompt_number": 1,
       "text": [
        "<matplotlib.text.Text at 0xb14e4d6c>"
       ]
      },
      {
       "metadata": {},
       "output_type": "display_data",
       "png": "[encoded data removed]",
       "text": [
        "<matplotlib.figure.Figure at 0xb5634ecc>"
       ]
      }
     ],
     "prompt_number": 1
    },
    {
     "cell_type": "heading",
     "level": 2,
     "metadata": {},
     "source": [
      "Example 7.3, Page 204"
     ]
    },
    {
     "cell_type": "code",
     "collapsed": false,
     "input": [
      "import math\n",
      "\n",
      "#Variable declaration\n",
      "a=2.4;#aceleration in kmphps\n",
      "b=3.2;#retardation in kmphps\n",
      "s=1.5;#in km\n",
      "vs=45;#shedule speed in kmph\n",
      "\n",
      "#Calculations\n",
      "ts=(s*3600)/vs;#shedule time in seconds\n",
      "tst=20;#stop time\n",
      "tr=ts-tst;#actual time for run in seconds\n",
      "k=((1/(2*a))+(1/(2*b)));#constant\n",
      "vm=((tr/(2*k))-math.sqrt(((tr**2)/(4*k**2))-((3600*s)/k)));#in kmph\n",
      "\n",
      "#Result\n",
      "print \"maximum speed is %.f kmph\"%vm"
     ],
     "language": "python",
     "metadata": {},
     "outputs": [
      {
       "output_type": "stream",
       "stream": "stdout",
       "text": [
        "maximum speed is 74 kmph\n"
       ]
      }
     ],
     "prompt_number": 35
    },
    {
     "cell_type": "heading",
     "level": 2,
     "metadata": {},
     "source": [
      "Example 7.4, Page 205"
     ]
    },
    {
     "cell_type": "code",
     "collapsed": false,
     "input": [
      "import math\n",
      "\n",
      "#Variable declaration\n",
      "s=1.5;#in Km\n",
      "a=0.8;#aceleration in kmphps\n",
      "tsr=26;#time for stop in seconds\n",
      "rm=1.3;#ratio\n",
      "b=3.2;#retardation in kmphps\n",
      "\n",
      "#Calculations\n",
      "k=((1/(2*a))+(1/(2*b)));#constant\n",
      "T=1;#assume\n",
      "va1=(3600*s)/T;#average spped\n",
      "vm1=(va1*rm);#maximum speed\n",
      "vm=math.sqrt((vm1-va1)/k);#maximum speed in kmph\n",
      "va=vm/1.3;#actua speed in kmpj\n",
      "ta=(3600*s)/va;#actual time in seconds\n",
      "ts=ta+tsr;#shedule time\n",
      "vs=(s*3600)/ts;#shedule speed in kmph\n",
      "\n",
      "#Result\n",
      "print \"schedule speed is %.f kmph\"%vs"
     ],
     "language": "python",
     "metadata": {},
     "outputs": [
      {
       "output_type": "stream",
       "stream": "stdout",
       "text": [
        "schedule speed is 30 kmph\n"
       ]
      }
     ],
     "prompt_number": 36
    },
    {
     "cell_type": "heading",
     "level": 2,
     "metadata": {},
     "source": [
      "Example 7.5, Page 205"
     ]
    },
    {
     "cell_type": "code",
     "collapsed": false,
     "input": [
      "#Variable declaration\n",
      "S=1.;# in km\n",
      "Vs=30.;# in km/h\n",
      "Ts=(S*3600)/Vs; # in sec\n",
      "D=20;# duration of stop in sec\n",
      "\n",
      "#Calculations\n",
      "T=Ts-D;# in sec\n",
      "Va=(S*3600)/T;# Average speed in km/h\n",
      "Vm=1.25*Va;# Maximum speed in km/h\n",
      "beta1=3;# braking retardation in km/h/sec\n",
      "A=((Vm*T)-(S*3600))/Vm**2;\n",
      "B=1./(2*beta1);\n",
      "alfa=1./(2*(A-B));\n",
      "\n",
      "#Result\n",
      "print \"The Acceleration,alfa is (km/h/sec) = %.1f \"%alfa"
     ],
     "language": "python",
     "metadata": {},
     "outputs": [
      {
       "output_type": "stream",
       "stream": "stdout",
       "text": [
        "The Acceleration,alfa is (km/h/sec) = 1.8 \n"
       ]
      }
     ],
     "prompt_number": 40
    },
    {
     "cell_type": "heading",
     "level": 2,
     "metadata": {},
     "source": [
      "Example 7.6, Page 206"
     ]
    },
    {
     "cell_type": "code",
     "collapsed": false,
     "input": [
      "#Variable declaration\n",
      "S=4;# in km\n",
      "Vs=45;# in km/h\n",
      "Ts=(S*3600)/Vs; # in sec\n",
      "D=30;# duration of stop in sec\n",
      "\n",
      "#Calculations\n",
      "T=Ts-D;# in sec\n",
      "Vm=70.;# Maximum speed in km/h\n",
      "alfa=1.5;# in km/h/sec\n",
      "A=((Vm*T)-(S*3600))/Vm**2;\n",
      "B=1./(2*alfa);\n",
      "Beta=1./(2*(A-B));\n",
      "\n",
      "#Result\n",
      "print \"Retardation(km/h/sec) = %.3f\"%Beta"
     ],
     "language": "python",
     "metadata": {},
     "outputs": [
      {
       "output_type": "stream",
       "stream": "stdout",
       "text": [
        "Retardation(km/h/sec) = 0.574\n"
       ]
      }
     ],
     "prompt_number": 44
    },
    {
     "cell_type": "heading",
     "level": 2,
     "metadata": {},
     "source": [
      "Example 7.7, Page 206"
     ]
    },
    {
     "cell_type": "code",
     "collapsed": false,
     "input": [
      "#Variable declaration\n",
      "S=1.6;# in km\n",
      "Va=40;# in km/h\n",
      "V1=64;# in km/h\n",
      "alfa=2.0;#in km/p/sec\n",
      "Beta_c=0.16;# in km/h/sec\n",
      "Beta=3.2;# in km/h/sec\n",
      "\n",
      "#Calculations&Results\n",
      "t1=V1/alfa;# in sec\n",
      "print \"Duration of Acceleration,t1(sec) = %.f\"%t1\n",
      "T=(S*3600)/Va;# in sec\n",
      "# Formula: T=(V1/alfa)+((V1-V2)/Beta_c)+(V2/Beta)\n",
      "V2=(t1+(V1/Beta_c)-T)/((1/Beta_c)-(1/Beta));\n",
      "t2=(V1-V2)/Beta_c;\n",
      "print \"Duration of coasting,t2(sec) = %.2f\"%t2\n",
      "t3=V2/Beta;\n",
      "print \"Duration of braking,t3(sec) = %.2f\"%t3"
     ],
     "language": "python",
     "metadata": {},
     "outputs": [
      {
       "output_type": "stream",
       "stream": "stdout",
       "text": [
        "Duration of Acceleration,t1(sec) = 32\n",
        "Duration of coasting,t2(sec) = 96.84\n",
        "Duration of braking,t3(sec) = 15.16\n"
       ]
      }
     ],
     "prompt_number": 45
    },
    {
     "cell_type": "heading",
     "level": 2,
     "metadata": {},
     "source": [
      "Example 7.8, Page 209"
     ]
    },
    {
     "cell_type": "code",
     "collapsed": false,
     "input": [
      "#Variable declaration\n",
      "W=200;# weight of train in tonnes\n",
      "D=0.9;# diameter in m\n",
      "G=(1./200)*100;#percentage gradient\n",
      "r=50;# in N/tonne\n",
      "gama=4;# gear ratio\n",
      "eta=0.80;# gearing efficiency\n",
      "We=1.10*W;# in tonne\n",
      "Vm=48.;# maximum speed in km/h\n",
      "t1=30;# in sec\n",
      "\n",
      "#Calculations\n",
      "alfa=Vm/t1;# in km/h/sec\n",
      "Ft=(277.8*We*alfa)+(98.1*W*G)+(W*r);# tractive effect required in N\n",
      "T1=(Ft*D)/(eta*2*gama);# in N-m\n",
      "T=round(T1/8);\n",
      "\n",
      "#Result\n",
      "print\"Torque developed by each motor,T(N-m) = %.f\"%T"
     ],
     "language": "python",
     "metadata": {},
     "outputs": [
      {
       "output_type": "stream",
       "stream": "stdout",
       "text": [
        "Torque developed by each motor,T(N-m) = 2067\n"
       ]
      }
     ],
     "prompt_number": 48
    },
    {
     "cell_type": "heading",
     "level": 2,
     "metadata": {},
     "source": [
      "Example 7.9, Page 210"
     ]
    },
    {
     "cell_type": "code",
     "collapsed": false,
     "input": [
      "#Variable declaration\n",
      "V=3000.;# line voltage in volts\n",
      "W=200.;# weight of train in tonnes\n",
      "D=0.9;# diameter in m\n",
      "G=(30./1000)*100;#percentage gradient\n",
      "r=50;# in N/tonne\n",
      "gama=4.;# gear ratio\n",
      "Vm=50.;#in km/h\n",
      "eta=0.9;# gearing efficiency\n",
      "\n",
      "#Calculations&Results\n",
      "We=1.10*W;# in tonne\n",
      "T=4*6000;# in N-m\n",
      "eta_m=85./100;# efficiency of motor\n",
      "Ft=(eta*T*2*gama)/D;\n",
      "A=(98.1*W*G)+(W*r);\n",
      "B=Ft-A;\n",
      "alfa=B/(277.8*We);# tractive effect required in N\n",
      "t=Vm/alfa;\n",
      "print \"Time taken ,t(sec) = %.2f\"%t\n",
      "Po=(Ft*Vm)/3600;# in kw\n",
      "Pi=Po/eta_m;\n",
      "It=(Pi*1000)/V;# in A\n",
      "I=It/4\n",
      "print \"Current drawn per motor,I(A) = %.1f\"%I"
     ],
     "language": "python",
     "metadata": {},
     "outputs": [
      {
       "output_type": "stream",
       "stream": "stdout",
       "text": [
        "Time taken ,t(sec) = 24.82\n",
        "Current drawn per motor,I(A) = 261.4\n"
       ]
      }
     ],
     "prompt_number": 49
    },
    {
     "cell_type": "heading",
     "level": 2,
     "metadata": {},
     "source": [
      "Example 7.10, Page 211"
     ]
    },
    {
     "cell_type": "code",
     "collapsed": false,
     "input": [
      "\n",
      "V=36;# speed in km/h\n",
      "W=120;# in tonne\n",
      "G=2;# in per cent\n",
      "\n",
      "#Calculations\n",
      "r=2*9.81;# in N/tonne\n",
      "Ft=(98.1*W*G)+(W*r);\n",
      "e=88./100; # efficiency of motors and gear\n",
      "VL=1500;#line voltage in volts\n",
      "Po=(Ft*V)/3600;\n",
      "Pi=Po/e;\n",
      "I=(Pi*1000)/VL;\n",
      "bc=((98.1*(2+(0.1*2)))/(277.8*1.1));#in kmphps\n",
      "tt=V/bc;#in seconds\n",
      "\n",
      "#Results\n",
      "print \"current required in amperes is %.1f\"%I\n",
      "print \"time taken to come to rest in seconds is %.f\"%tt"
     ],
     "language": "python",
     "metadata": {},
     "outputs": [
      {
       "output_type": "stream",
       "stream": "stdout",
       "text": [
        "current required in amperes is 196.2\n",
        "time taken to come to rest in seconds is 51\n"
       ]
      }
     ],
     "prompt_number": 50
    },
    {
     "cell_type": "heading",
     "level": 2,
     "metadata": {},
     "source": [
      "Example 7.11, Page 211"
     ]
    },
    {
     "cell_type": "code",
     "collapsed": false,
     "input": [
      "#Variable declaration\n",
      "t1=24;#in sec\n",
      "t2=69;# in sec\n",
      "t3=11;# in sec\n",
      "V1=48.;# in km/h\n",
      "\n",
      "#Calculations&Results\n",
      "alfa=V1/t1;\n",
      "print \"part (a)\"\n",
      "print \"Acceleration(km/h/sec) = %.f\"%alfa\n",
      "r=58;# in N/tonne\n",
      "G=0;\n",
      "Beta=r/(277.8*1.1);\n",
      "print \"part (b)\"\n",
      "print \"Retardation(kmphps) = %.2f\"%Beta\n",
      "V2=V1-(Beta*t2);\n",
      "S=round(((V1*t1)/7200)+(((V1+V2)*t2)/7200)+((V2*t3)/7200));\n",
      "D=20;# duration of stop in sec\n",
      "Ts=t1+t2+t3+D;\n",
      "Vs=round((S*3600)/Ts);\n",
      "print \"part (c)\"\n",
      "print \"Schedule time,Vs(kmph) = %.f\"%Vs\n",
      "D1=15;#when the duration of stop in sec\n",
      "Ts_dash=t1+t2+t3+D1;\n",
      "Vs_dash=(S*3600)/Ts_dash;\n",
      "print \"Schedule speed,VS_dash(kmph) = %.2f\"%Vs_dash"
     ],
     "language": "python",
     "metadata": {},
     "outputs": [
      {
       "output_type": "stream",
       "stream": "stdout",
       "text": [
        "part (a)\n",
        "Acceleration(km/h/sec) = 2\n",
        "part (b)\n",
        "Retardation(kmphps) = 0.19\n",
        "part (c)\n",
        "Schedule time,Vs(kmph) = 29\n",
        "Schedule speed,VS_dash(kmph) = 30.25\n"
       ]
      }
     ],
     "prompt_number": 51
    },
    {
     "cell_type": "heading",
     "level": 2,
     "metadata": {},
     "source": [
      "Example 7.12, Page 212"
     ]
    },
    {
     "cell_type": "code",
     "collapsed": false,
     "input": [
      "#Variable declaration\n",
      "t1=30.;#in sec\n",
      "t2=50.;# in sec\n",
      "t3=20.;# in sec\n",
      "alpha=2.;#kmphps\n",
      "\n",
      "#Calculations\n",
      "V1=alpha*(t1);# in km/h\n",
      "r=40;# in N/tonne\n",
      "G=1;\n",
      "bc=((98.1+r))/(277.8*1.1);#in kmphps\n",
      "V2=V1-(bc*t2);#km/hr\n",
      "S=(((V1*t1)/7200)+(((V1+V2)*t2)/7200)+((V2*t3)/7200));\n",
      "D=30;# duration of stop in sec\n",
      "Ts=t1+t2+t3+D;\n",
      "Vs=((S*3600)/Ts);\n",
      "\n",
      "#Result\n",
      "print \"Schedule time,Vs(kmph) = %.2f\"%Vs\n"
     ],
     "language": "python",
     "metadata": {},
     "outputs": [
      {
       "output_type": "stream",
       "stream": "stdout",
       "text": [
        "Schedule time,Vs(kmph) = 28.53\n"
       ]
      }
     ],
     "prompt_number": 53
    },
    {
     "cell_type": "heading",
     "level": 2,
     "metadata": {},
     "source": [
      "Example 7.13, Page 212"
     ]
    },
    {
     "cell_type": "code",
     "collapsed": false,
     "input": [
      "#Variable declaration\n",
      "w=250.;#in tonnes\n",
      "we=(1+(10./100))*w;#efective weight in tonnes\n",
      "r=5*9.81;#in N/tonne\n",
      "G=1.;#\n",
      "t1=30.;#in sec\n",
      "t2=70.;# in sec\n",
      "alpha=2.;#kmphps\n",
      "\n",
      "#Calculations\n",
      "V1=alpha*(t1);# in km/h\n",
      "ft=(277.8*we*alpha)+(98.1*G*w)+(w*r);#in newtons\n",
      "po=((ft*V1)/3600);#maximum power output in kW\n",
      "n=0.97;#efficiency\n",
      "pi=po/n;#in kW\n",
      "bc=((98.1+r))/(277.8*1.1);#in kmphps\n",
      "V2=V1-(bc*t2);#km/hr\n",
      "beta1=3;#retardation\n",
      "t3=V2/beta1;#in seconds\n",
      "S=(((V1*t1)/7200)+(((V1+V2)*t2)/7200)+((V2*t3)/7200));\n",
      "\n",
      "#Results\n",
      "print \"maximum power developed by traction motor is %.f (kW)\"%pi\n",
      "print \"total distance travelled by train in km is %.2f\"%S\n"
     ],
     "language": "python",
     "metadata": {},
     "outputs": [
      {
       "output_type": "stream",
       "stream": "stdout",
       "text": [
        "maximum power developed by traction motor is 3257 (kW)\n",
        "total distance travelled by train in km is 1.12\n"
       ]
      }
     ],
     "prompt_number": 56
    },
    {
     "cell_type": "heading",
     "level": 2,
     "metadata": {},
     "source": [
      "Example 7.14, Page 216"
     ]
    },
    {
     "cell_type": "code",
     "collapsed": false,
     "input": [
      "#Variable declaration\n",
      "Vm=52.; #max speed in kmph\n",
      "t3=15.8;#duration of braking in sec\n",
      "\n",
      "#Calculations\n",
      "D=(1./2)*Vm*(t3/3600);\n",
      "S=1400;#in m\n",
      "S1=(S*10**-3)-D;\n",
      "r=50;#in N/tonne\n",
      "WeBY_W=1.1;\n",
      "Ec=((0.01072*Vm**2*WeBY_W)/(S*10**-3))+(0.2778*r*(S1/(S*10**-3)));\n",
      "\n",
      "#Result\n",
      "print \"energy consumption in Wh is %.3f\"%Ec"
     ],
     "language": "python",
     "metadata": {},
     "outputs": [
      {
       "output_type": "stream",
       "stream": "stdout",
       "text": [
        "energy consumption in Wh is 35.533\n"
       ]
      }
     ],
     "prompt_number": 58
    },
    {
     "cell_type": "heading",
     "level": 2,
     "metadata": {},
     "source": [
      "Example 7.15, Page 217"
     ]
    },
    {
     "cell_type": "code",
     "collapsed": false,
     "input": [
      "#Variable declaration\n",
      "w=1;#in tonnes\n",
      "we=(1+(10./100))*w;#efective weight in tonnes\n",
      "S=1525;#in meters\n",
      "r=52.6/1000;#in N/kg\n",
      "alpha=0.366;#m/s^2\n",
      "V1=12.2;# in m/s\n",
      "\n",
      "#Calculations\n",
      "t1=V1/alpha;#in seconds\n",
      "ft=we*alpha+r;#in newtons\n",
      "ter=((1./2)*ft*V1*t1)/3600;#in watt-hours\n",
      "seo=ter/(w*S);# in Wh/kg-m\n",
      "n=0.65;#efficiency\n",
      "sec1=seo/n#in Wh/kg-m\n",
      "\n",
      "#Result\n",
      "print \"specific energy onsumption is %.2e Wh/kg-m\"%sec1\n"
     ],
     "language": "python",
     "metadata": {},
     "outputs": [
      {
       "output_type": "stream",
       "stream": "stdout",
       "text": [
        "specific energy onsumption is 2.59e-05 Wh/kg-m\n"
       ]
      }
     ],
     "prompt_number": 62
    },
    {
     "cell_type": "heading",
     "level": 2,
     "metadata": {},
     "source": [
      "Example 7.16, Page 217"
     ]
    },
    {
     "cell_type": "code",
     "collapsed": false,
     "input": [
      "#Variable declaration\n",
      "t1=30.;#in sec\n",
      "t2=50.;# in sec\n",
      "t3=20.;# in sec\n",
      "alpha=2;#kmphps\n",
      "V1=alpha*(t1);# in km/h\n",
      "r=40;# in N/tonne\n",
      "G=1;\n",
      "\n",
      "#Calculations&Results\n",
      "bc=((98.1+r))/(277.8*1.1);#in kmphps\n",
      "V2=V1-(bc*t2);#km/hr\n",
      "S=(((V1*t1)/7200)+(((V1+V2)*t2)/7200)+((V2*t3)/7200));\n",
      "D=15;# duration of stop in sec\n",
      "Ts=t1+t2+t3+D;\n",
      "Vs=((S*3600)/Ts);\n",
      "print \"Schedule speed,Vs(kmph) = %.2f\"%Vs\n",
      "S1=(V1*t1)/7200;#in meters\n",
      "r=50.;#in N/tonne\n",
      "WeBY_W=1.1;\n",
      "Ec=((0.01072*V1**2*WeBY_W)/(S))+(0.2778*(98.1*G+r)*((S1)/(S)));\n",
      "N=0.75;#\n",
      "Sec=Ec/0.75;#\n",
      "print \"Specific energy consumption in Wh/tonne-km is %.2f\"%Sec\n"
     ],
     "language": "python",
     "metadata": {},
     "outputs": [
      {
       "output_type": "stream",
       "stream": "stdout",
       "text": [
        "Schedule speed,Vs(kmph) = 32.25\n",
        "Specific energy consumption in Wh/tonne-km is 68.25\n"
       ]
      }
     ],
     "prompt_number": 64
    },
    {
     "cell_type": "heading",
     "level": 2,
     "metadata": {},
     "source": [
      "Example 7.17, Page 218"
     ]
    },
    {
     "cell_type": "code",
     "collapsed": false,
     "input": [
      "#Variable declaration\n",
      "t1=30.;#in sec\n",
      "t2=50.;# in sec\n",
      "t3=20.;# in sec\n",
      "alpha=2;#kmphps\n",
      "V1=alpha*(t1);# in km/h\n",
      "r=40;# in N/tonne\n",
      "G=-1;\n",
      "\n",
      "#Calculations&Results\n",
      "bc=((-98.1+r))/(277.8*1.1);#in kmphps\n",
      "V2=V1-(bc*t2);#km/hr\n",
      "S=(((V1*t1)/7200)+(((V1+V2)*t2)/7200)+((V2*t3)/7200));\n",
      "D=15;# duration of stop in sec\n",
      "Ts=t1+t2+t3+D;\n",
      "Vs=((S*3600)/Ts);\n",
      "print \"Schedule speed,Vs(kmph) = %.f\"%Vs\n",
      "S1=(V1*t1)/7200;#in meters\n",
      "r=50;#in N/tonne\n",
      "WeBY_W=1.1;\n",
      "Ec=((0.01072*V1**2*WeBY_W)/(S))+(0.2778*(98.1*G+r)*((S1)/(S)));\n",
      "N=0.75;#\n",
      "Sec=Ec/0.75;#\n",
      "print \"Specific energy consumption in Wh/tonne-km is %.2f\"%Sec\n"
     ],
     "language": "python",
     "metadata": {},
     "outputs": [
      {
       "output_type": "stream",
       "stream": "stdout",
       "text": [
        "Schedule speed,Vs(kmph) = 42\n",
        "Specific energy consumption in Wh/tonne-km is 38.85\n"
       ]
      }
     ],
     "prompt_number": 66
    },
    {
     "cell_type": "heading",
     "level": 2,
     "metadata": {},
     "source": [
      "Example 7.18, Page 219"
     ]
    },
    {
     "cell_type": "code",
     "collapsed": false,
     "input": [
      "import math\n",
      "\n",
      "#Variable declaration\n",
      "W=100.;#in tonne\n",
      "We=1.1*W;# in tonne\n",
      "S=2.5;# distance in km\n",
      "Va=50.;#Average speed in kmph\n",
      "Dr=(3600*S)/Va;\n",
      "alfa=1.;# in km/h/sec\n",
      "Beta=2.;# in km/h/sec\n",
      "T=180.;\n",
      "r=40.;#in N/tonne\n",
      "G=1;\n",
      "\n",
      "#Calculations&results\n",
      "K=(1./(2*alfa))+(1/(2*Beta));\n",
      "Vm=round((T/(2*K))-math.sqrt((T/(2*K))**2-((3600*S)/K)));# maximum speed\n",
      "t1=Vm/alfa;# acceleration period\n",
      "t3=Vm/Beta;# braking period\n",
      "t2=T-(t1+t3);# in sec\n",
      "Ft=(277.8*We*alfa)+(98.1*W*G)+(W*r);\n",
      "P_max=round((Ft*Vm)/3600);\n",
      "print \"part (a)\"\n",
      "print \"Maximum power,(kWh) = %.f\"%P_max\n",
      "e=60./100;# efficiency\n",
      "Ft=(277.8*We*alfa)+(98.1*W*G)+(W*r);\n",
      "Ft_dash=(98.1*W*G)+(W*r);\n",
      "P_max=round((Ft*Vm)/3600);\n",
      "Et=((1./2)*Ft)*(Vm/3600)*(t1/3600)+((Ft_dash*Vm)/3600)*(t2/3600);\n",
      "Ec=Et/e;\n",
      "print \"part (b) \"\n",
      "print \"Total Energy Consumption,Ec(kWh) = %.2f\"%Ec\n",
      "Sec=(Ec*1000)/(W*S);\n",
      "print \"part (c) \"\n",
      "print \"Specific Energy Consumption,(Wh/tonne-km) = %.1f\"%Sec"
     ],
     "language": "python",
     "metadata": {},
     "outputs": [
      {
       "output_type": "stream",
       "stream": "stdout",
       "text": [
        "part (a)\n",
        "Maximum power,(kWh) = 875\n",
        "part (b) \n",
        "Total Energy Consumption,Ec(kWh) = 23.65\n",
        "part (c) \n",
        "Specific Energy Consumption,(Wh/tonne-km) = 94.6\n"
       ]
      }
     ],
     "prompt_number": 68
    },
    {
     "cell_type": "heading",
     "level": 2,
     "metadata": {},
     "source": [
      "Example 7.19, Page 220"
     ]
    },
    {
     "cell_type": "code",
     "collapsed": false,
     "input": [
      "#Variable declaration\n",
      "W=203;#in tonne\n",
      "We=1.1*W;# in tonne\n",
      "r=44;# N/tonne\n",
      "G=(1./500)*100;# gradient\n",
      "Vm=45.;# maximum speed in kmph\n",
      "t1=30.;# in sec\n",
      "\n",
      "#Calculations&Results\n",
      "alfa=Vm/t1;# in kmph\n",
      "Ft=(277.8*We*alfa)+(98.1*W*G)+(W*r);# in N\n",
      "Po=(Ft*Vm)/3600;\n",
      "print \"part (a)\"\n",
      "print \"The maximum power output,(kW) = %.2f\"%Po\n",
      "e=60./100;# efficiency\n",
      "Et=(1./2)*((Ft*Vm)/3600)*(t1/3600);\n",
      "E=(Et/e);\n",
      "print \" part (b) \"\n",
      "print \"The energy taken(kWh) = %.1f\"%E"
     ],
     "language": "python",
     "metadata": {},
     "outputs": [
      {
       "output_type": "stream",
       "stream": "stdout",
       "text": [
        "part (a)\n",
        "The maximum power output,(kW) = 1324.55\n",
        " part (b) \n",
        "The energy taken(kWh) = 9.2\n"
       ]
      }
     ],
     "prompt_number": 69
    },
    {
     "cell_type": "heading",
     "level": 2,
     "metadata": {},
     "source": [
      "Example 7.20, Page 220"
     ]
    },
    {
     "cell_type": "code",
     "collapsed": false,
     "input": [
      "import math\n",
      "\n",
      "#Variable declaration\n",
      "W=16.;#in tonne\n",
      "We=1.1*W;# in tonne\n",
      "Vs=45.;#in kmph\n",
      "r=40.;# in N/tonne\n",
      "S=2.8;# in km\n",
      "Ts=(S*3600)/Vs;\n",
      "Td=30.;# in sec\n",
      "\n",
      "#Calculations&Results\n",
      "T=Ts-Td;\n",
      "alfa=2.;#in kmphps\n",
      "Beta=3.2;# in kmphps\n",
      "K=(1./(2*alfa))+(1/(2*Beta));\n",
      "Vm=round((T/(2*K))-math.sqrt((T/(2*K))**2-((3600*S)/K)));# maximum speed\n",
      "t1=Vm/alfa;# acceleration time\n",
      "t3=Vm/Beta;# duration of braking\n",
      "t2=T-(t1+t3);# time f free run in sec\n",
      "Ft=(277.8*We*alfa)+(W*r);\n",
      "P_max=(Ft*Vm)/3600;\n",
      "print \"part (a)\"\n",
      "print \"Maximum power output,(kW) = %.3f\"%P_max\n",
      "# answer is wrong in book\n",
      "Va=50;#Average speed in kmph\n",
      "Dr=(3600*S)/Va;\n",
      "T=180;\n",
      "G=1;\n",
      "e=80./100;#efficiency\n",
      "Dt=(1./2)*((Vm*t3)/3600);# distance travelled during braking period in km\n",
      "S1=S-Dt;# distance travelled with power in km\n",
      "So=(((0.01072*Vm**2)/S)*(We/W))+((0.2778*r*S1)/S);\n",
      "Sec=So/e;\n",
      "print \"part (b)\"\n",
      "print \"Specific energy consumption,(Wh/tonne-km) = %.1f\"%Sec\n",
      "# answer is wrong in book"
     ],
     "language": "python",
     "metadata": {},
     "outputs": [
      {
       "output_type": "stream",
       "stream": "stdout",
       "text": [
        "part (a)\n",
        "Maximum power output,(kW) = 170.749\n",
        "part (b)\n",
        "Specific energy consumption,(Wh/tonne-km) = 31.5\n"
       ]
      }
     ],
     "prompt_number": 71
    },
    {
     "cell_type": "heading",
     "level": 2,
     "metadata": {},
     "source": [
      "Example 7.21, Page 221"
     ]
    },
    {
     "cell_type": "code",
     "collapsed": false,
     "input": [
      "#Variable declaration\n",
      "t1=30.;#in sec\n",
      "t2=40.;# in sec\n",
      "t3=30.;# in sec\n",
      "alpha=2;#kmphps\n",
      "V1=alpha*(t1);# in km/h\n",
      "r=40;# in N/tonne\n",
      "G=1;\n",
      "\n",
      "#Calculations&Results\n",
      "bc=((98.1+r))/(277.8*1.1);#in kmphps\n",
      "V2=V1-(bc*t3);#km/hr\n",
      "Beta=2.5;#retardation\n",
      "t4=V2/Beta;#in seconds\n",
      "S=(((V1*t1)/7200)+((V1*t2)/3600)+(((V1+V2)*t3)/7200)+((V2*t4)/7200));\n",
      "D=15;# duration of stop in sec\n",
      "Ts=t1+t2+t3+t4+D;\n",
      "Vs=((S*3600)/Ts);\n",
      "print \"part (a)\"\n",
      "print \"Schedule time,Vs(kmph) = %.2f\"%Vs\n",
      "print \"part (b)\"\n",
      "S1=((V1*t1)/7200)+((V1*t2)/3600);#in km\n",
      "WeBY_W=1.1;\n",
      "G=1;#\n",
      "Ec=((0.01072*V1**2*WeBY_W)/(S))+(0.2778*(98.1*G+r)*((S1)/(S)));\n",
      "N=0.75;#\n",
      "Sec=Ec/0.75;#\n",
      "print \"Specific energy consumption in Wh/tonne-km is %.2f\"%Sec\n",
      "print \"part (c)\"\n",
      "W=200;#\n",
      "tec=(Sec*W*S);#\n",
      "print \"total energy consumption is %.1f kWh\"%(tec*10**-3)\n",
      "print \"part (d)\"\n",
      "print \"total distance travelled in Km is %.2f\"%S\n"
     ],
     "language": "python",
     "metadata": {},
     "outputs": [
      {
       "output_type": "stream",
       "stream": "stdout",
       "text": [
        "part (a)\n",
        "Schedule time,Vs(kmph) = 39.89\n",
        "part (b)\n",
        "Specific energy consumption in Wh/tonne-km is 69.93\n",
        "part (c)\n",
        "total energy consumption is 20.7 kWh\n",
        "part (d)\n",
        "total distance travelled in Km is 1.48\n"
       ]
      }
     ],
     "prompt_number": 73
    },
    {
     "cell_type": "heading",
     "level": 2,
     "metadata": {},
     "source": [
      "Example 7.22, Page 222"
     ]
    },
    {
     "cell_type": "code",
     "collapsed": false,
     "input": [
      "#Variable declaration\n",
      "W=500.;#\n",
      "t1=60.;#in sec\n",
      "t2=5*60.;# in sec\n",
      "t3=3*60.;# in sec\n",
      "alpha=2.5;#kmphps\n",
      "V1=alpha*(t1);# in km/h\n",
      "r=25.;# in N/tonne\n",
      "G=1.;\n",
      "\n",
      "#Calculations\n",
      "bc=(((98.1*(8./1000)*100)+r))/(277.8*1.1);#in kmphps\n",
      "V2=V1-(bc*t3);#km/hr\n",
      "Beta=3.;#retardation\n",
      "t4=V2/Beta;#in seconds\n",
      "S=(((V1*t1)/7200)+((V1*t2)/3600)+(((V1+V2)*t3)/7200)+((V2*t4)/7200));\n",
      "D=15.;# duration of stop in sec\n",
      "Ts=t1+t2+t3+t4+D;\n",
      "Vs=((S*3600)/Ts);\n",
      "S1=((V1*t1)/7200)+((V1*t2)/3600);#in km\n",
      "WeBY_W=1.1;\n",
      "Ec=((0.01072*V1**2*WeBY_W)/(S))+(0.2778*((98.1*(8/1000)*100)+r)*((S1)/(S)));\n",
      "N=0.80;#\n",
      "Sec=Ec/N;#\n",
      "\n",
      "#Result\n",
      "print \"Specific energy consumption in Wh/tonne-km is %f\"%Sec\n",
      "#incorrect answer in textbook\n"
     ],
     "language": "python",
     "metadata": {},
     "outputs": [
      {
       "output_type": "stream",
       "stream": "stdout",
       "text": [
        "Specific energy consumption in Wh/tonne-km is 22.446222\n"
       ]
      }
     ],
     "prompt_number": 88
    },
    {
     "cell_type": "heading",
     "level": 2,
     "metadata": {},
     "source": [
      "Example 7.23, Page 223"
     ]
    },
    {
     "cell_type": "code",
     "collapsed": false,
     "input": [
      "#Variable declaration\n",
      "Wl=1;#\n",
      "W1=400;#\n",
      "G=2;#in percentage\n",
      "mu=0.2;#\n",
      "alpha=1;#\n",
      "r=40;#\n",
      "\n",
      "#Calculations\n",
      "x=(277.8*1.1*alpha+98.1*G+r)/(9.81*1000);#\n",
      "wlo=(x*W1)/(mu-x);#in tonnes\n",
      "al=22;#allowable load in tonnes\n",
      "na=wlo/al;#\n",
      "\n",
      "#Results\n",
      "print \"weight of the locomotive in tonnes %.1f\"%wlo\n",
      "print \"number of axles required = %.f\"%na"
     ],
     "language": "python",
     "metadata": {},
     "outputs": [
      {
       "output_type": "stream",
       "stream": "stdout",
       "text": [
        "weight of the locomotive in tonnes 152.6\n",
        "number of axles required = 7\n"
       ]
      }
     ],
     "prompt_number": 89
    },
    {
     "cell_type": "heading",
     "level": 2,
     "metadata": {},
     "source": [
      "Example 7.24, Page 224 "
     ]
    },
    {
     "cell_type": "code",
     "collapsed": false,
     "input": [
      "#Variable declaration\n",
      "W=12*30;#tonnes\n",
      "we=1.04*360;#tonnes\n",
      "r=5*9.81;#\n",
      "G=1;#in percentage\n",
      "mu=0.2;#\n",
      "alpha=0.8;#\n",
      "x=13.882;#\n",
      "y=0.041;#\n",
      "\n",
      "#Calculations\n",
      "wlo=(x)/(mu-y);#in tonnes\n",
      "al=20.;#allowable load in tonnes\n",
      "na=wlo/al;#\n",
      "\n",
      "#Results\n",
      "print \"weight of the locomotive in tonnes = %.1f\"%wlo\n",
      "print \"number of axles required = %.f\"%na"
     ],
     "language": "python",
     "metadata": {},
     "outputs": [
      {
       "output_type": "stream",
       "stream": "stdout",
       "text": [
        "weight of the locomotive in tonnes = 87.3\n",
        "number of axles required = 4\n"
       ]
      }
     ],
     "prompt_number": 91
    },
    {
     "cell_type": "heading",
     "level": 2,
     "metadata": {},
     "source": [
      "Example 7.25, Page 225"
     ]
    },
    {
     "cell_type": "code",
     "collapsed": false,
     "input": [
      "#Variable declaration\n",
      "w1=100;#tonnes\n",
      "w=w1+500;#tonnes\n",
      "we=1.1*w;#effective weight\n",
      "alpha=1;#\n",
      "G=1;#\n",
      "r=45;#\n",
      "\n",
      "#Calculations&Results\n",
      "ft=((277.8*we*alpha)+(98.1*w*G)+(w*r));#in newtons\n",
      "ad=0.7;#adehsive percent\n",
      "mu=(ft)/(100*10**3*9.81*ad);#\n",
      "w2=130;#tonnes\n",
      "ad2=w2*G;#\n",
      "tadw=w1*ad+ad2;#tonnes\n",
      "tted=mu*tadw*9.81*1000;#newtones\n",
      "W=tted/(277.8*1.1*alpha+98.1*alpha+r);#in tonnes\n",
      "trlw=W-(ad2+w1);#\n",
      "print \"part (a)\"\n",
      "print \"trailig weight in tonnes is %.f\"%trlw\n",
      "w2=w1+500+ad2;#\n",
      "G1=((tted/w2)-(277.8*1.1+r))*(1/98.1);#\n",
      "print \"part (b)\"\n",
      "print \"maximum gradiant in percentage is %.3f\"%G1"
     ],
     "language": "python",
     "metadata": {},
     "outputs": [
      {
       "output_type": "stream",
       "stream": "stdout",
       "text": [
        "part (a)\n",
        "trailig weight in tonnes is 1484\n",
        "part (b)\n",
        "maximum gradiant in percentage is 7.167\n"
       ]
      }
     ],
     "prompt_number": 92
    },
    {
     "cell_type": "heading",
     "level": 2,
     "metadata": {},
     "source": [
      "Example 7.26, Page 226"
     ]
    },
    {
     "cell_type": "code",
     "collapsed": false,
     "input": [
      "#Variable declaration\n",
      "w1=100;#tonnes\n",
      "w=w1+500;#tonnes\n",
      "we=1.1*w;#effective weight\n",
      "alpha=1;#\n",
      "G=1;#\n",
      "r=45;#\n",
      "\n",
      "#Calculations\n",
      "ft=((277.8*we*alpha)+(98.1*w*G)+(w*r));#in newtons\n",
      "ad=0.7;#adehsive percent\n",
      "mu=(ft)/(100*10**3*9.81*ad);#\n",
      "w2=130;#tonnes\n",
      "ad2=w2*G;#\n",
      "tadw=w1*ad+ad2;#tonnes\n",
      "tted=mu*tadw*9.81*1000;#newtones\n",
      "W=tted/(277.8*1.1*alpha+98.1*alpha+r);#in tonnes\n",
      "trlw=W-(ad2+w1);#\n",
      "w2=w1+500+ad2;#\n",
      "acc=((tted/w2)-(98.1+r))*(1/(277.8*1.1));#in kmphps\n",
      "\n",
      "#Result\n",
      "print \"acceleration in kmphps is %.2f\"%acc\n"
     ],
     "language": "python",
     "metadata": {},
     "outputs": [
      {
       "output_type": "stream",
       "stream": "stdout",
       "text": [
        "acceleration in kmphps is 2.98\n"
       ]
      }
     ],
     "prompt_number": 93
    },
    {
     "cell_type": "heading",
     "level": 2,
     "metadata": {},
     "source": [
      "Example 7.27, Page 226"
     ]
    },
    {
     "cell_type": "code",
     "collapsed": false,
     "input": [
      "#Variable declaration\n",
      "N=4;# number of motor\n",
      "W=250;#in tonne\n",
      "D=.95;# diameter in m\n",
      "G=1;# percentage gradient\n",
      "r=40;# in N/tonne\n",
      "eta=95./100;# gear efficiency\n",
      "gama=3;# gear ratio\n",
      "We=1.1*W;\n",
      "Vm=40;# kmph\n",
      "t1=20;# in seconds\n",
      "\n",
      "#Calculations&Results\n",
      "alfa=Vm/t1;\n",
      "Ft=((277.8*We*alfa)+(98.1*W*G)+(W*r));\n",
      "T=(Ft*D)/(eta*2*gama);\n",
      "Td=round(T/N);\n",
      "print \"Torque developed by each motor,Td(Nm) = %.f\"%Td\n",
      "mu=0.25;# adhesive coefficient\n",
      "WL=(Ft/(9.81*1000))/mu;\n",
      "Dw=round(WL/.75);\n",
      "print \"Dead weight of locomotive,(tonnes) = %.f\"%Dw"
     ],
     "language": "python",
     "metadata": {},
     "outputs": [
      {
       "output_type": "stream",
       "stream": "stdout",
       "text": [
        "Torque developed by each motor,Td(Nm) = 7805\n",
        "Dead weight of locomotive,(tonnes) = 102\n"
       ]
      }
     ],
     "prompt_number": 94
    }
   ],
   "metadata": {}
  }
 ]
}