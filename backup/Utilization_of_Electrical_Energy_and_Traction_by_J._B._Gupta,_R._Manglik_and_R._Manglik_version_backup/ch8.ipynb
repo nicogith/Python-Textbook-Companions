{
 "metadata": {
  "name": "",
  "signature": "sha256:b7b0abfe04e8b6b29a96c15b950c278316c99226e22c23f718d5fde9509d9b25"
 },
 "nbformat": 3,
 "nbformat_minor": 0,
 "worksheets": [
  {
   "cells": [
    {
     "cell_type": "heading",
     "level": 1,
     "metadata": {},
     "source": [
      "Chapter 8: Electric Traction Motors"
     ]
    },
    {
     "cell_type": "heading",
     "level": 2,
     "metadata": {},
     "source": [
      "Example 8.1, Page 237"
     ]
    },
    {
     "cell_type": "code",
     "collapsed": false,
     "input": [
      "import numpy as np\n",
      "%pylab inline\n",
      "\n",
      "#Variable declaration\n",
      "v=230;#in volts\n",
      "rm=0.3;#in ohms\n",
      "Ia=np.array([5,10,15,20,25,30,35,40]);#in amperes\n",
      "T=[20,50,100,155,215,290,360,430];#\n",
      "N = []\n",
      "#Calculations&Results\n",
      "for i in range(0,8):\n",
      "    eb= v-(Ia[i])*rm;#\n",
      "    N.append((9.55*eb*Ia[i])/(T[i]));#\n",
      "    print \"speed in rpm is for current \",(Ia[i]),\"  amperes \",(round(N[i])),\" RPM\"\n",
      "    \n",
      "plot(Ia,N)\n",
      "xlabel(\"ARMATURE CURRENT ,Ia IN AMPS\")\n",
      "ylabel(\"SPEED ,N IN RPM\")\n",
      "title(\"Speed-Armature current characteristic\")\n"
     ],
     "language": "python",
     "metadata": {},
     "outputs": [
      {
       "output_type": "stream",
       "stream": "stdout",
       "text": [
        "Populating the interactive namespace from numpy and matplotlib\n",
        "speed in rpm is for current  5   amperes  546.0  RPM\n",
        "speed in rpm is for current  10   amperes  434.0  RPM\n",
        "speed in rpm is for current  15   amperes  323.0  RPM\n",
        "speed in rpm is for current  20   amperes  276.0  RPM\n",
        "speed in rpm is for current  25   amperes  247.0  RPM\n",
        "speed in rpm is for current  30   amperes  218.0  RPM\n",
        "speed in rpm is for current  35   amperes  204.0  RPM\n",
        "speed in rpm is for current  40   amperes  194.0  RPM\n"
       ]
      },
      {
       "metadata": {},
       "output_type": "pyout",
       "prompt_number": 48,
       "text": [
        "<matplotlib.text.Text at 0xb129294c>"
       ]
      },
      {
       "metadata": {},
       "output_type": "display_data",
       "png": "[encoded data removed]",
       "text": [
        "<matplotlib.figure.Figure at 0xb11600ac>"
       ]
      }
     ],
     "prompt_number": 48
    },
    {
     "cell_type": "heading",
     "level": 2,
     "metadata": {},
     "source": [
      "Example 8.2, Page 238"
     ]
    },
    {
     "cell_type": "code",
     "collapsed": false,
     "input": [
      "#Variable declaration\n",
      "v=600;#in volts\n",
      "rm=0.8;#in ohms\n",
      "N1=600.;#\n",
      "Ia=[20,40,60,80];#in amperes\n",
      "EMF=[215,381,485,550]\n",
      "T = []\n",
      "N =[]\n",
      "eb =[]\n",
      "#Calculations&Results\n",
      "for i in range(0,4):\n",
      "    eb.append(v-(Ia[i])*rm);#\n",
      "    N.append((N1/EMF[i])*eb[i]);#\n",
      "    T.append((9.55*eb[i]*Ia[i])/(N[i]));#\n",
      "    print \"for current \",(Ia[i]),\" amperes, speed is\",(round(N[i])),\" RPM and Torque in N-m is \",round((T[i]),1)\n",
      "plot(T,N)\n",
      "xlabel(\"TORQUE ,T IN Nm\")\n",
      "ylabel(\"SPEED ,N IN RPM\")\n",
      "title(\"Speed-torque curve\")\n",
      "#answers differ due to rounding-off errors"
     ],
     "language": "python",
     "metadata": {},
     "outputs": [
      {
       "output_type": "stream",
       "stream": "stdout",
       "text": [
        "for current  20  amperes, speed is 1630.0  RPM and Torque in N-m is  68.4\n",
        "for current  40  amperes, speed is 894.0  RPM and Torque in N-m is  242.6\n",
        "for current  60  amperes, speed is 683.0  RPM and Torque in N-m is  463.2\n",
        "for current  80  amperes, speed is 585.0  RPM and Torque in N-m is  700.3\n"
       ]
      },
      {
       "metadata": {},
       "output_type": "pyout",
       "prompt_number": 90,
       "text": [
        "<matplotlib.text.Text at 0xb0e0298c>"
       ]
      },
      {
       "metadata": {},
       "output_type": "display_data",
       "png": "[encoded data removed]",
       "text": [
        "<matplotlib.figure.Figure at 0xb0e6f2ec>"
       ]
      }
     ],
     "prompt_number": 90
    },
    {
     "cell_type": "heading",
     "level": 2,
     "metadata": {},
     "source": [
      "Example 8.3, Page 239"
     ]
    },
    {
     "cell_type": "code",
     "collapsed": false,
     "input": [
      "import math\n",
      "\n",
      "#Variable declaration\n",
      "N1=640;# in rpm\n",
      "I1=15;# in A\n",
      "\n",
      "#Calculations\n",
      "I2=math.sqrt((2)*math.sqrt(2)*I1**2);\n",
      "N2=round((2*I1*N1)/I2);\n",
      "\n",
      "#Results\n",
      "print \"Current drawn,I2(A) = %.3f\"%I2\n",
      "print \"Motor speed,N2(rpm) = %.f\"%N2"
     ],
     "language": "python",
     "metadata": {},
     "outputs": [
      {
       "output_type": "stream",
       "stream": "stdout",
       "text": [
        "Current drawn,I2(A) = 25.227\n",
        "Motor speed,N2(rpm) = 761\n"
       ]
      }
     ],
     "prompt_number": 91
    },
    {
     "cell_type": "heading",
     "level": 2,
     "metadata": {},
     "source": [
      "Example 8.4, Page 243"
     ]
    },
    {
     "cell_type": "code",
     "collapsed": false,
     "input": [
      "#Variable declaration\n",
      "n1=700;#rpm\n",
      "n2=750;#rpm\n",
      "rm=0.3;#in ohms\n",
      "v=500;#in volts\n",
      "ib=50;#amperes\n",
      "\n",
      "#Calculations\n",
      "eb1=v-(ib*rm);#in volts\n",
      "eb2=eb1;#\n",
      "N=((v-(2*(ib*rm)))/((eb1/n1)+(eb2/n2)));#\n",
      "pdv1=((eb1/n1)*N)+ib*rm;#in volts\n",
      "pdv2=((eb1/n2)*N)+ib*rm;#in volts\n",
      "\n",
      "#Results\n",
      "print \"speed in rpm is %.f\"%N\n",
      "print \"PD across machine 1 in volts is %.f\"%pdv1\n",
      "print \"PD across machine 2 in volts is %.f\"%pdv2"
     ],
     "language": "python",
     "metadata": {},
     "outputs": [
      {
       "output_type": "stream",
       "stream": "stdout",
       "text": [
        "speed in rpm is 351\n",
        "PD across machine 1 in volts is 258\n",
        "PD across machine 2 in volts is 242\n"
       ]
      }
     ],
     "prompt_number": 92
    },
    {
     "cell_type": "heading",
     "level": 2,
     "metadata": {},
     "source": [
      "Example 8.5, Page 243"
     ]
    },
    {
     "cell_type": "code",
     "collapsed": false,
     "input": [
      "import math\n",
      "\n",
      "#Variable declaration\n",
      "V=500;# in volts\n",
      "Vm=40;# in kmph\n",
      "Ft=1800;# in N\n",
      "Rm=0.4;# in ohm\n",
      "Lm=3200;# losses per motor in watt\n",
      "\n",
      "#Calculations&Results\n",
      "Mo=(Ft*Vm*1000)/3600;\n",
      "Cl=3200;# consatant losses in watt\n",
      "# formuls: Mi=Po+Cl+C_losses\n",
      "#C_losses=I^2*Rm\n",
      "#Mi=V*I\n",
      "#I1=(V+sqrt(V^2-(4*Rm*(Mo+Cl))))/(2*Rm);leaving as gives a very high value\n",
      "I1=(V-math.sqrt(V**2-4*Rm*(Mo+Cl)))/(2*Rm);\n",
      "print \"Current drawn by each motor,(A) = %.2f\"%I1\n",
      "It=I1*2;\n",
      "print \"Total current drawn,(A) = %.1f\"%It"
     ],
     "language": "python",
     "metadata": {},
     "outputs": [
      {
       "output_type": "stream",
       "stream": "stdout",
       "text": [
        "Current drawn by each motor,(A) = 48.26\n",
        "Total current drawn,(A) = 96.5\n"
       ]
      }
     ],
     "prompt_number": 93
    },
    {
     "cell_type": "heading",
     "level": 2,
     "metadata": {},
     "source": [
      "Example 8.6, Page 244"
     ]
    },
    {
     "cell_type": "code",
     "collapsed": false,
     "input": [
      "import math\n",
      "\n",
      "#Variable declaration\n",
      "Ft=35300.;# in N\n",
      "V=48.;# in kmph\n",
      "\n",
      "#Calculations&Results\n",
      "Po=((Ft*V*1000.)/3600)*10**-3;\n",
      "Ft1=55180.;#in N\n",
      "Pd=Po*math.sqrt(Ft1/Ft);\n",
      "print \"part (a)\"\n",
      "print \"power delivered(kW) = %.1f\"%Pd\n",
      "Pd1=Po*(Ft1/Ft);\n",
      "print \"part (b)\"\n",
      "print \"power delivered(kW) = %.1f\"%Pd1"
     ],
     "language": "python",
     "metadata": {},
     "outputs": [
      {
       "output_type": "stream",
       "stream": "stdout",
       "text": [
        "part (a)\n",
        "power delivered(kW) = 588.5\n",
        "part (b)\n",
        "power delivered(kW) = 735.7\n"
       ]
      }
     ],
     "prompt_number": 97
    },
    {
     "cell_type": "heading",
     "level": 2,
     "metadata": {},
     "source": [
      "Example 8.7, Page 244"
     ]
    },
    {
     "cell_type": "code",
     "collapsed": false,
     "input": [
      "#Variable declaration\n",
      "Ia=[60,120,180,240,300,360];# in amperes\n",
      "sp1=[80,50,45,42,38,35];#in kmph\n",
      "tf1=[1.7,5,10,14,16,20];#innewtons\n",
      "d1=0.85;#in meters\n",
      "d2=0.9;#in meters\n",
      "y1=71./21;#\n",
      "y2=74./19;#\n",
      "\n",
      "#Calculations&Results\n",
      "for i in range(0,6):\n",
      "    V=((d2/d1)*(y1/y2))*sp1[i];#in kmph\n",
      "    tf2=((d1/d2)*(y2/y1))*(tf1[i]);#in newtons\n",
      "    print \"for armature current\",(Ia[i]),\"amperes , speed is \",(V),\" kmph and tractive effor in thousand newtons is \",round((tf2),2)\n"
     ],
     "language": "python",
     "metadata": {},
     "outputs": [
      {
       "output_type": "stream",
       "stream": "stdout",
       "text": [
        "for armature current 60 amperes , speed is  73.5316829434  kmph and tractive effor in thousand newtons is  1.85\n",
        "for armature current 120 amperes , speed is  45.9573018397  kmph and tractive effor in thousand newtons is  5.44\n",
        "for armature current 180 amperes , speed is  41.3615716557  kmph and tractive effor in thousand newtons is  10.88\n",
        "for armature current 240 amperes , speed is  38.6041335453  kmph and tractive effor in thousand newtons is  15.23\n",
        "for armature current 300 amperes , speed is  34.9275493981  kmph and tractive effor in thousand newtons is  17.41\n",
        "for armature current 360 amperes , speed is  32.1701112878  kmph and tractive effor in thousand newtons is  21.76\n"
       ]
      }
     ],
     "prompt_number": 98
    },
    {
     "cell_type": "heading",
     "level": 2,
     "metadata": {},
     "source": [
      "Example 8.8, Page 245"
     ]
    },
    {
     "cell_type": "code",
     "collapsed": false,
     "input": [
      "import numpy as np\n",
      "\n",
      "#Variable declaration\n",
      "n1=500;#in rpm\n",
      "d1=90;#in cm\n",
      "d2=86;#in cm\n",
      "v=600;#in. volts\n",
      "vd=0.1;#drop\n",
      "\n",
      "#Calculations\n",
      "eb1=v-(vd*v);#in volts\n",
      "A = np.array([[90,-86],[1,1]])\n",
      "B = np.array([240,600])\n",
      "Eb1 = np.linalg.solve(A, B)\n",
      "N1=n1*(Eb1[0]-(vd*v))/(v-(vd*v));#\n",
      "N2=N1*(d1/d2);#\n",
      "\n",
      "#Results\n",
      "print \"speed in rpm is %.f\"%N1\n",
      "print \"speed in rpm is %.f\"%N2\n",
      "#N2 is calculated wrong in the book'''"
     ],
     "language": "python",
     "metadata": {},
     "outputs": [
      {
       "output_type": "stream",
       "stream": "stdout",
       "text": [
        "speed in rpm is 217\n",
        "speed in rpm is 217\n"
       ]
      }
     ],
     "prompt_number": 83
    },
    {
     "cell_type": "heading",
     "level": 2,
     "metadata": {},
     "source": [
      "Example 8.9, Page 245"
     ]
    },
    {
     "cell_type": "code",
     "collapsed": false,
     "input": [
      "#Variable declaration\n",
      "ia=350;#A\n",
      "ib=305;#A\n",
      "v=600;#V\n",
      "\n",
      "#Calculations&Results\n",
      "pa=(v*ia)/1000;#kW\n",
      "pb=(v*ib)/1000;#kW\n",
      "print \"(i) When motors are connected in parallel and train speed is 40kmph\"\n",
      "print \"power input to motor A is,(kW)= %.f\"%pa\n",
      "print \"power input to motor B is,(kW)= %.f\"%pb\n",
      "fta=1625;#kg\n",
      "ftb=1480;#kg\n",
      "print \"tractive effor of motor A is,(kg)= %.f\"%fta\n",
      "print \"tractive effor of motor B is,(kg)= %.f\"%ftb\n",
      "print \"(ii) When motors are connected in series and current is 400A\"\n",
      "rm=0.08;#ohm\n",
      "i=400;#A\n",
      "eba=v-(i*rm);#V\n",
      "abb=eba;#V\n",
      "va=38.5;#V\n",
      "vb=36.7;#V\n",
      "vx=((v-2*(i*rm))*((va*vb)/(va+vb)))/eba;#\n",
      "Va=((eba/va)*vx)+(i*rm);#V\n",
      "Vb=((eba/vb)*vx)+(i*rm);#V\n",
      "pa1=(Va*i)/1000;#kW\n",
      "pb1=(Vb*i)/1000;#kW\n",
      "print \"power input to motor A is,(kW)= %.1f\"%pa1\n",
      "print \"power input to motor B is,(kW)= %.1f\"%pb1\n",
      "fta1=1960;#kg\n",
      "ftb1=2060;#kg\n",
      "print \"tractive effor of motor A is,(kg)= %.f\"%fta1\n",
      "print \"tractive effor of motor B is,(kg)= %.f\"%ftb1"
     ],
     "language": "python",
     "metadata": {},
     "outputs": [
      {
       "output_type": "stream",
       "stream": "stdout",
       "text": [
        "(i) When motors are connected in parallel and train speed is 40kmph\n",
        "power input to motor A is,(kW)= 210\n",
        "power input to motor B is,(kW)= 183\n",
        "tractive effor of motor A is,(kg)= 1625\n",
        "tractive effor of motor B is,(kg)= 1480\n",
        "(ii) When motors are connected in series and current is 400A\n",
        "power input to motor A is,(kW)= 117.4\n",
        "power input to motor B is,(kW)= 122.6\n",
        "tractive effor of motor A is,(kg)= 1960\n",
        "tractive effor of motor B is,(kg)= 2060\n"
       ]
      }
     ],
     "prompt_number": 99
    },
    {
     "cell_type": "heading",
     "level": 2,
     "metadata": {},
     "source": [
      "Example 8.10, Page 254"
     ]
    },
    {
     "cell_type": "code",
     "collapsed": false,
     "input": [
      "#Variable declaration\n",
      "f=50;#hz\n",
      "t=0.5;#in meter\n",
      "s=0.25;#\n",
      "\n",
      "#Calculations\n",
      "vs=2*f*t*(3600./1000);#kmph\n",
      "vc=vs*(1-s);#kmph\n",
      "\n",
      "#Results\n",
      "print \"linear synchronous velocity in kmph is %.f\"%vs\n",
      "print \"vehicle speed in kmph is %.f\"%vc"
     ],
     "language": "python",
     "metadata": {},
     "outputs": [
      {
       "output_type": "stream",
       "stream": "stdout",
       "text": [
        "linear synchronous velocity in kmph is 180\n",
        "vehicle speed in kmph is 135\n"
       ]
      }
     ],
     "prompt_number": 100
    }
   ],
   "metadata": {}
  }
 ]
}