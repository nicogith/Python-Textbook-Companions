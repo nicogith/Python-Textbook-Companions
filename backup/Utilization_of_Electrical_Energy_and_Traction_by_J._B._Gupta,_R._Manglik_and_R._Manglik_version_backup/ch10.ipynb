{
 "metadata": {
  "name": "",
  "signature": "sha256:afe45272ce3ff93176422df4637443f0511009d7c746f27786eb9c224ddc3321"
 },
 "nbformat": 3,
 "nbformat_minor": 0,
 "worksheets": [
  {
   "cells": [
    {
     "cell_type": "heading",
     "level": 1,
     "metadata": {},
     "source": [
      "Chapter 10: Braking: Mechanical Considerations and Control Equipment"
     ]
    },
    {
     "cell_type": "heading",
     "level": 2,
     "metadata": {},
     "source": [
      "Example 10.1, Page 300"
     ]
    },
    {
     "cell_type": "code",
     "collapsed": false,
     "input": [
      "#Variable declaration\n",
      "I=[50,100,150,200,250];#\n",
      "sp=[73.6,48,41.1,37.3,35.2];\n",
      "T=[150,525,930,1335,1750];\n",
      "v=600;#in volts\n",
      "rm=0.6;#\n",
      "\n",
      "#Calculations\n",
      "eb=v-(I[1]*rm);#in volts\n",
      "rh=3;#in ohms\n",
      "tr=rh+rm;#in ohms\n",
      "i=eb/tr;#in amperes\n",
      "tr=T[2];#\n",
      "\n",
      "#Result\n",
      "print \"braking torque is %.f (N-m)\"%tr"
     ],
     "language": "python",
     "metadata": {},
     "outputs": [
      {
       "output_type": "stream",
       "stream": "stdout",
       "text": [
        "braking torque is 930 (N-m)\n"
       ]
      }
     ],
     "prompt_number": 8
    },
    {
     "cell_type": "heading",
     "level": 2,
     "metadata": {},
     "source": [
      "Example 10.2, Page 300"
     ]
    },
    {
     "cell_type": "code",
     "collapsed": false,
     "input": [
      "import math\n",
      "\n",
      "#Variable declaration\n",
      "I=[20,40,60,80];#\n",
      "emf=[215,381,485,550];#in volts\n",
      "emf2=[202,357,455,516];#\n",
      "T=40*9.81;# load torque in N-m\n",
      "N=600.;#rpm\n",
      "ia=56;#in amperes from curve\n",
      "va=440.;#in volts from graph\n",
      "\n",
      "#Calculations\n",
      "il=T*(2*math.pi*(N/60));#input to load in W\n",
      "tr=va/ia;# in ohms\n",
      "tm=0.8;#in ohms\n",
      "er=tr-tm;#in ohms\n",
      "\n",
      "#Result\n",
      "print \"external resistance to be connected across the motor during break is %.3f ohm\"%er"
     ],
     "language": "python",
     "metadata": {},
     "outputs": [
      {
       "output_type": "stream",
       "stream": "stdout",
       "text": [
        "external resistance to be connected across the motor during break is 7.057 ohm\n"
       ]
      }
     ],
     "prompt_number": 13
    },
    {
     "cell_type": "heading",
     "level": 2,
     "metadata": {},
     "source": [
      "Example 10.3, Page 301"
     ]
    },
    {
     "cell_type": "code",
     "collapsed": false,
     "input": [
      "#Variable declaration\n",
      "W=400.;#in tonne\n",
      "We=1.1*W;# in tonne\n",
      "S=2.;# distance in km\n",
      "G=2.;# gradient in %\n",
      "eta=75./100;# efficiency\n",
      "D=2.;# distance in km\n",
      "V1=40.;# in km\n",
      "V2=20.;# in km\n",
      "r=40.;#N/tonne\n",
      "\n",
      "#Calculations&Results\n",
      "Ea=(0.01072*We*(V1**2-V2**2))*10**-3;# in kWh\n",
      "Ft=(W*r)-(98.1*W*G);\n",
      "M=(-Ft*S*1000)/(1000*3600);\n",
      "Et=Ea+M;# total energy available\n",
      "Ee=eta*Et;\n",
      "print \"Electrical energy,Ee(kWh) = %.1f\"%Ee  #answer varies due to roundinf-off errors\n",
      "As=(V1+V2)/2;# average speed\n",
      "At=D/As;# Average time taken\n",
      "P=(Ee/At);\n",
      "print \"Average power,P(kW) = %.f\"%P"
     ],
     "language": "python",
     "metadata": {},
     "outputs": [
      {
       "output_type": "stream",
       "stream": "stdout",
       "text": [
        "Electrical energy,Ee(kWh) = 30.3\n",
        "Average power,P(kW) = 454\n"
       ]
      }
     ],
     "prompt_number": 14
    },
    {
     "cell_type": "heading",
     "level": 2,
     "metadata": {},
     "source": [
      "Example 10.4, Page 301"
     ]
    },
    {
     "cell_type": "code",
     "collapsed": false,
     "input": [
      "#Variable declaration\n",
      "W=2340;#in tonne\n",
      "We=1.1*W;# in tonne\n",
      "G=100./80;# gradient in %\n",
      "eta=70./100;# efficiency\n",
      "V1=60.;# in km\n",
      "V2=36.;# in km\n",
      "r=5*9.81;#N/tonne\n",
      "t=5*60.;# in sec\n",
      "\n",
      "#Calculations\n",
      "Ea=(0.01072*We*(V1**2-V2**2))*10**-3;# in kWh\n",
      "Ft=(W*r)-(98.1*W*G);#tractive effort in N\n",
      "D=((V1+V2)/2)*(1000./3600)*t;# distance moved in m\n",
      "M=(-Ft*D)/(1000*3600);\n",
      "Et=Ea+M;\n",
      "El=eta*Et;\n",
      "\n",
      "#Result\n",
      "print \"Energy returned to the line,El(kWh) = %.1f\"%El"
     ],
     "language": "python",
     "metadata": {},
     "outputs": [
      {
       "output_type": "stream",
       "stream": "stdout",
       "text": [
        "Energy returned to the line,El(kWh) = 178.4\n"
       ]
      }
     ],
     "prompt_number": 16
    },
    {
     "cell_type": "heading",
     "level": 2,
     "metadata": {},
     "source": [
      "Example 10.5, Page 302"
     ]
    },
    {
     "cell_type": "code",
     "collapsed": false,
     "input": [
      "#Variable declaration\n",
      "W=500;#in tonne\n",
      "G=(20.*100.)/1000;# gradient in %\n",
      "eta=75./100;# efficiency\n",
      "V=40;# in kmph\n",
      "r=40;#N/tonne\n",
      "\n",
      "#Calculations\n",
      "Ft=(W*r)-(98.1*W*G);#tractive effort in N\n",
      "P=(-Ft*V)/3600;# Power available in kW\n",
      "Pf=round(P*eta);\n",
      "\n",
      "#Result\n",
      "print \"power fed into the line,Pf(kW) = %.f\"%Pf"
     ],
     "language": "python",
     "metadata": {},
     "outputs": [
      {
       "output_type": "stream",
       "stream": "stdout",
       "text": [
        "power fed into the line,Pf(kW) = 651\n"
       ]
      }
     ],
     "prompt_number": 17
    },
    {
     "cell_type": "heading",
     "level": 2,
     "metadata": {},
     "source": [
      "Example 10.6, Page 302"
     ]
    },
    {
     "cell_type": "code",
     "collapsed": false,
     "input": [
      "import math\n",
      "\n",
      "#Variable declaration\n",
      "OD=640.;# voltage represent by phasor OD\n",
      "R=0.5;# reactor in ohm\n",
      "Ia=OD/R;\n",
      "V=400;# in volts\n",
      "alfa=38.66;#Phase angle in degree\n",
      "\n",
      "#Calculations\n",
      "P=(V*Ia*math.cos(alfa*math.pi/180))*10**-3;\n",
      "\n",
      "#Result\n",
      "print \"Power generated,P(kW) = %.3f\"%P"
     ],
     "language": "python",
     "metadata": {},
     "outputs": [
      {
       "output_type": "stream",
       "stream": "stdout",
       "text": [
        "Power generated,P(kW) = 399.804\n"
       ]
      }
     ],
     "prompt_number": 19
    }
   ],
   "metadata": {}
  }
 ]
}