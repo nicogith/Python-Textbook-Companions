{
 "metadata": {
  "name": "",
  "signature": "sha256:5c3fe95123ad1823bf27f0dcc3936ac12b44099c39a2cdfe385de3987b8c8cbd"
 },
 "nbformat": 3,
 "nbformat_minor": 0,
 "worksheets": [
  {
   "cells": [
    {
     "cell_type": "heading",
     "level": 1,
     "metadata": {},
     "source": [
      "Chapter 5: Refrigeration and Air-Conditioning"
     ]
    },
    {
     "cell_type": "heading",
     "level": 2,
     "metadata": {},
     "source": [
      "Example 5.1, Page 178"
     ]
    },
    {
     "cell_type": "code",
     "collapsed": false,
     "input": [
      "#Variable declaration\n",
      "t1=20;# in degree C\n",
      "t2=5;# in degree C\n",
      "T=t1-t2;\n",
      "A=3000;# volume of air to be conditioned in m^3\n",
      "Ht=1220;# in J\n",
      "\n",
      "#Calculations\n",
      "H1=A*Ht*T;\n",
      "m=1000; # per m^3\n",
      "Hl=2450*10**3;# latent heat in J/kg\n",
      "w=5;# in kg\n",
      "M=(w*A)/m;\n",
      "H2=T*Hl;#in J\n",
      "H=(H1+H2);\n",
      "P=round(H/(3600*1000));\n",
      "\n",
      "#Result\n",
      "print \"Power required,(kW) = %.f\"%P"
     ],
     "language": "python",
     "metadata": {},
     "outputs": [
      {
       "output_type": "stream",
       "stream": "stdout",
       "text": [
        "Power required,(kW) = 25\n"
       ]
      }
     ],
     "prompt_number": 2
    },
    {
     "cell_type": "heading",
     "level": 2,
     "metadata": {},
     "source": [
      "Example 5.2, Page 178"
     ]
    },
    {
     "cell_type": "code",
     "collapsed": false,
     "input": [
      "#Variable declaration\n",
      "t1=25;# in degree C\n",
      "t2=5;# in degree C\n",
      "\n",
      "#Calculations\n",
      "T=t1-t2;\n",
      "A=6*5*4*(60./15);# volume of air to be conditioned in m^3/hour\n",
      "Ht=1220;# in J\n",
      "H1=A*Ht*T;\n",
      "m=1000; # per m^3\n",
      "Hl=836*10**3;# heat loss in J/C/h\n",
      "H2=T*Hl;#in J/hour\n",
      "H=(H1+H2);\n",
      "Rh=round(H/(3600*1000));\n",
      "\n",
      "#Result\n",
      "print \"Rating of heater,(kW) %.f \"%Rh"
     ],
     "language": "python",
     "metadata": {},
     "outputs": [
      {
       "output_type": "stream",
       "stream": "stdout",
       "text": [
        "Rating of heater,(kW) 8 \n"
       ]
      }
     ],
     "prompt_number": 4
    }
   ],
   "metadata": {}
  }
 ]
}