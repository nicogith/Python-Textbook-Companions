{
 "metadata": {
  "name": "",
  "signature": "sha256:a6d76879a77431d48fb911064902d6e10e1b5563c3eddfcbd42ed97702d7e46f"
 },
 "nbformat": 3,
 "nbformat_minor": 0,
 "worksheets": [
  {
   "cells": [
    {
     "cell_type": "heading",
     "level": 1,
     "metadata": {},
     "source": [
      "Chapter 11: Power Supply for Electric Traction"
     ]
    },
    {
     "cell_type": "heading",
     "level": 2,
     "metadata": {},
     "source": [
      "Example 11.1, Page 321"
     ]
    },
    {
     "cell_type": "code",
     "collapsed": false,
     "input": [
      "#Variable declaration\n",
      "l=20;# in m\n",
      "w=0.5;# weight per meter in kg\n",
      "T=500;# Tension applied in kg\n",
      "\n",
      "#Calculations\n",
      "dell=(w*l**2)/(2*T);\n",
      "two_S=2*(l+(2./3)*(dell**2/l));\n",
      "\n",
      "#Result\n",
      "print \"Total Length(m) = %.5f\"%two_S"
     ],
     "language": "python",
     "metadata": {},
     "outputs": [
      {
       "output_type": "stream",
       "stream": "stdout",
       "text": [
        "Total Length(m) = 40.00267\n"
       ]
      }
     ],
     "prompt_number": 12
    },
    {
     "cell_type": "heading",
     "level": 2,
     "metadata": {},
     "source": [
      "Example 11.2, Page 321"
     ]
    },
    {
     "cell_type": "code",
     "collapsed": false,
     "input": [
      "import math\n",
      "\n",
      "#Variable declaration\n",
      "l=30;# in meter\n",
      "w=0.72;# weight per meter in kg\n",
      "E=640;# in kg/cm^2\n",
      "d=1;# diameter in cm\n",
      "\n",
      "#Calculations\n",
      "T=E*(math.pi/4)*d**2;\n",
      "dell=((w*l**2)/(2*T))*100;\n",
      "\n",
      "#Result\n",
      "print \"sag(cm) = %.1f\"%dell"
     ],
     "language": "python",
     "metadata": {},
     "outputs": [
      {
       "output_type": "stream",
       "stream": "stdout",
       "text": [
        "sag(cm) = 64.5\n"
       ]
      }
     ],
     "prompt_number": 13
    },
    {
     "cell_type": "heading",
     "level": 2,
     "metadata": {},
     "source": [
      "Example 11.3, Page 322"
     ]
    },
    {
     "cell_type": "code",
     "collapsed": false,
     "input": [
      "#Variable declaration\n",
      "l=30;# in meter\n",
      "w1=0.9;# average weight of catenary wire in kg/m\n",
      "w2=1.2#average weight of trolley wire in kg/m\n",
      "\n",
      "#Calculations\n",
      "w3=(20./100)*w2#average weight of dropper and fittings in kg/m\n",
      "w=w1+w2+w3;\n",
      "T=1000;#in kg\n",
      "dell=(w*l**2)/(2*T);\n",
      "\n",
      "#Result\n",
      "print \"sag(m) = %.3f\"%dell"
     ],
     "language": "python",
     "metadata": {},
     "outputs": [
      {
       "output_type": "stream",
       "stream": "stdout",
       "text": [
        "sag(m) = 1.053\n"
       ]
      }
     ],
     "prompt_number": 14
    },
    {
     "cell_type": "heading",
     "level": 2,
     "metadata": {},
     "source": [
      "Example 11.4, Page 340"
     ]
    },
    {
     "cell_type": "code",
     "collapsed": false,
     "input": [
      "#Variable declaration\n",
      "I=300;# in A\n",
      "R=0.08;# in ohm\n",
      "Vd=6;# voltage drop in volts\n",
      "\n",
      "#Calculations\n",
      "I_dash=((R*(I/2))-Vd)/R;\n",
      "\n",
      "#Result\n",
      "print \"Current(A) = %.f\"%I_dash"
     ],
     "language": "python",
     "metadata": {},
     "outputs": [
      {
       "output_type": "stream",
       "stream": "stdout",
       "text": [
        "Current(A) = 75\n"
       ]
      }
     ],
     "prompt_number": 15
    },
    {
     "cell_type": "heading",
     "level": 2,
     "metadata": {},
     "source": [
      "Example 11.5, Page 340"
     ]
    },
    {
     "cell_type": "code",
     "collapsed": false,
     "input": [
      "#Variable declaration\n",
      "a=7;#far end voltage in volts\n",
      "i=125;# in A\n",
      "r=0.02;# in ohm\n",
      "l=3;# in km\n",
      "\n",
      "#Calculations\n",
      "p=(i*r*l**2)/2;\n",
      "I=((p-a)/(r*l));#\n",
      "\n",
      "#Results\n",
      "print \"potential of the track at tha far end of the section in volts is %.2f\"%p\n",
      "print \"Current carried by -ve feeder,I(A) = %.3f\"%I"
     ],
     "language": "python",
     "metadata": {},
     "outputs": [
      {
       "output_type": "stream",
       "stream": "stdout",
       "text": [
        "potential of the track at tha far end of the section in volts is 11.25\n",
        "Current carried by -ve feeder,I(A) = 70.833\n"
       ]
      }
     ],
     "prompt_number": 16
    },
    {
     "cell_type": "heading",
     "level": 2,
     "metadata": {},
     "source": [
      "Example 11.6, Page 341"
     ]
    },
    {
     "cell_type": "code",
     "collapsed": false,
     "input": [
      "from sympy import *\n",
      "from sympy.solvers import solve\n",
      "from sympy import Symbol\n",
      "\n",
      "#Variable declaration\n",
      "ix=200;#amperes\n",
      "r=0.02;#in ohms\n",
      "\n",
      "#Calculations\n",
      "x = Symbol('x')\n",
      "y = solve(0*x**2 +12*x + 19, x)\n",
      "ipx=ix*(3-(-1*y[0]));#in amperes\n",
      "inx=2*ix;#in amperes\n",
      "it=ipx+inx;#in amperes\n",
      "\n",
      "#Result\n",
      "print \"current through negetive booster in amperes is %.2f\"%it"
     ],
     "language": "python",
     "metadata": {},
     "outputs": [
      {
       "output_type": "stream",
       "stream": "stdout",
       "text": [
        "current through negetive booster in amperes is 683.33\n"
       ]
      }
     ],
     "prompt_number": 18
    },
    {
     "cell_type": "heading",
     "level": 2,
     "metadata": {},
     "source": [
      "Example 11.7, Page 341"
     ]
    },
    {
     "cell_type": "code",
     "collapsed": false,
     "input": [
      "from sympy import *\n",
      "from sympy.solvers import solve\n",
      "from sympy import Symbol\n",
      "\n",
      "#Variable declaration\n",
      "ix=250;#amperes\n",
      "vb=2;#in volts\n",
      "r=0.02;#in ohms\n",
      "\n",
      "#Calculations\n",
      "x = Symbol('x')\n",
      "y = solve(0*x**2 +16*x - 27.6, x)\n",
      "pc=vb+(ix*r*(1.6)**2)/2;#in volts\n",
      "pd=((ix*r*(y[0]**2))/2);#in volts\n",
      "tcurr= (1.6*ix)+((ix*(3.2-y[0])));#in amperes\n",
      "vnf=r*tcurr;#in volts\n",
      "bnb=vnf-vb;#in volts\n",
      "cb=((bnb*tcurr)/1000);#in kw\n",
      "\n",
      "#Result\n",
      "print \"maximum potential drop on any two points on the rails in volts is %.1f\"%pc\n",
      "print \"capacity of booster in kW is %.2f\"%cb"
     ],
     "language": "python",
     "metadata": {},
     "outputs": [
      {
       "output_type": "stream",
       "stream": "stdout",
       "text": [
        "maximum potential drop on any two points on the rails in volts is 8.4\n",
        "capacity of booster in kW is 10.28\n"
       ]
      }
     ],
     "prompt_number": 23
    },
    {
     "cell_type": "heading",
     "level": 2,
     "metadata": {},
     "source": [
      "Example 11.8, Page 342"
     ]
    },
    {
     "cell_type": "code",
     "collapsed": false,
     "input": [
      "from sympy import *\n",
      "from sympy.solvers import solve\n",
      "from sympy import Symbol\n",
      "\n",
      "#Variable declaration\n",
      "i=200;# A/km\n",
      "r=0.01;#in ohms/km\n",
      "\n",
      "#Calculations\n",
      "x = Symbol('x')\n",
      "y = solve(0*x**2 +8*x - 20, x)\n",
      "i1=400;#in amperes\n",
      "i2=(4-y[0])*i#in amperes\n",
      "tc=i1+i2;#in amperes\n",
      "vcn=r*tc;#in volts\n",
      "nb=vcn-4;#in volts\n",
      "rb=(tc*10)/1000;#\n",
      "\n",
      "#Result\n",
      "print \"rating of the booster in kW is %.f\"%rb\n"
     ],
     "language": "python",
     "metadata": {},
     "outputs": [
      {
       "output_type": "stream",
       "stream": "stdout",
       "text": [
        "rating of the booster in kW is 7\n"
       ]
      }
     ],
     "prompt_number": 25
    },
    {
     "cell_type": "heading",
     "level": 2,
     "metadata": {},
     "source": [
      "Example 11.9, Page 343"
     ]
    },
    {
     "cell_type": "code",
     "collapsed": false,
     "input": [
      "#Variable declaration\n",
      "vw=60;#in volts\n",
      "vt=12;#in volts\n",
      "vs=600;#in volts\n",
      "vr=578;#volts\n",
      "vn=10;#in volts\n",
      "\n",
      "#Calculations\n",
      "tv=vw+vt;#in volts\n",
      "va=vs-tv;#in volts\n",
      "vtn=tv-vn;#in volts\n",
      "vad=vs-vr;#\n",
      "vp=vtn-vad;#in volts\n",
      "\n",
      "#Results\n",
      "print \"part (a)\"\n",
      "print \"voltage available to trolley when it is at the far end without using boosters in volts is %.f\"%va\n",
      "print \"part (b)\"\n",
      "print \"positive booster should provide boost of \",(vp),\" volts\""
     ],
     "language": "python",
     "metadata": {},
     "outputs": [
      {
       "output_type": "stream",
       "stream": "stdout",
       "text": [
        "part (a)\n",
        "voltage available to trolley when it is at the far end without using boosters in volts is 528\n",
        "part (b)\n",
        "positive booster should provide boost of  40  volts\n"
       ]
      }
     ],
     "prompt_number": 26
    }
   ],
   "metadata": {}
  }
 ]
}