{
 "metadata": {
  "name": "",
  "signature": "sha256:1d5a5fec58f50885b306fd11c5d34341cb747d72353b0fd13bd0ab2048a7d12e"
 },
 "nbformat": 3,
 "nbformat_minor": 0,
 "worksheets": [
  {
   "cells": [
    {
     "cell_type": "heading",
     "level": 1,
     "metadata": {},
     "source": [
      "Chapter 3: Electrolytic Processes"
     ]
    },
    {
     "cell_type": "heading",
     "level": 2,
     "metadata": {},
     "source": [
      "Example 3.1, Page 79"
     ]
    },
    {
     "cell_type": "code",
     "collapsed": false,
     "input": [
      "import math\n",
      "\n",
      "#Variable declaration\n",
      "r=5;#in cm\n",
      "S=4*math.pi*r**2;\n",
      "t=0.005;#in mm\n",
      "d=10.5;\n",
      "\n",
      "#Calculations\n",
      "m=S*t*d*10**-3;\n",
      "Z=(0.001118*3600)/1000;\n",
      "Amr=m/Z;\n",
      "\n",
      "#Result\n",
      "print \"ampere hour required,(Ampere-hour)= %.2f\"%Amr"
     ],
     "language": "python",
     "metadata": {},
     "outputs": [
      {
       "output_type": "stream",
       "stream": "stdout",
       "text": [
        "ampere hour required,(Ampere-hour)= 4.10\n"
       ]
      }
     ],
     "prompt_number": 11
    },
    {
     "cell_type": "heading",
     "level": 2,
     "metadata": {},
     "source": [
      "Example 3.2, Page 80"
     ]
    },
    {
     "cell_type": "code",
     "collapsed": false,
     "input": [
      "#Variable declaration\n",
      "m=20.;#in gm\n",
      "I=120;#in A\n",
      "t=10*60;#in sec\n",
      "t1=5*60;#in sec\n",
      "I1=100;#in A\n",
      "\n",
      "#Calculations\n",
      "Cec=63.18/2;\n",
      "Cen=58.6/2;\n",
      "Z=m/(I*t);\n",
      "Z1=(Z*(Cec/Cen))*10**-3;\n",
      "m1=Z1*I1*t1;\n",
      "\n",
      "#Result\n",
      "print \"mass of copper depsoited is \",round(m1,3),\"kg or \",(round(m1*10**3)),\"gm\""
     ],
     "language": "python",
     "metadata": {},
     "outputs": [
      {
       "output_type": "stream",
       "stream": "stdout",
       "text": [
        "mass of copper depsoited is  0.009 kg or  9.0 gm\n"
       ]
      }
     ],
     "prompt_number": 12
    },
    {
     "cell_type": "heading",
     "level": 2,
     "metadata": {},
     "source": [
      "Example 3.3, Page 80"
     ]
    },
    {
     "cell_type": "code",
     "collapsed": false,
     "input": [
      "#Variable declaration\n",
      "Z=1.044*10**-8;#in kg/C\n",
      "I=40;#in A\n",
      "t=1*60*60;#in seconds\n",
      "\n",
      "#Calculations\n",
      "m1=Z*I*t;\n",
      "\n",
      "#Result\n",
      "print \"mass of copper depsoited is \",round(m1,4),\"kg or \",round((m1*10**3),1),\"gm\""
     ],
     "language": "python",
     "metadata": {},
     "outputs": [
      {
       "output_type": "stream",
       "stream": "stdout",
       "text": [
        "mass of copper depsoited is  0.0015 kg or  1.5 gm\n"
       ]
      }
     ],
     "prompt_number": 13
    },
    {
     "cell_type": "heading",
     "level": 2,
     "metadata": {},
     "source": [
      "Example 3.4, Page 80"
     ]
    },
    {
     "cell_type": "code",
     "collapsed": false,
     "input": [
      "#Variable declaration\n",
      "A=0.00025;#in m^2\n",
      "D=8900;#in kg/m^3\n",
      "Z=32.95*10**-8;#in kg/C\n",
      "I=1;#in A\n",
      "\n",
      "#Calculations\n",
      "t=100*60;#in seconds\n",
      "m=Z*I*t;#in kg\n",
      "v=m/D;\n",
      "T=(v/A)*10**3;\n",
      "\n",
      "#Result\n",
      "print \"thickness of copper deposited,T(mm) = %.3f\"%T"
     ],
     "language": "python",
     "metadata": {},
     "outputs": [
      {
       "output_type": "stream",
       "stream": "stdout",
       "text": [
        "thickness of copper deposited,T(mm) = 0.889\n"
       ]
      }
     ],
     "prompt_number": 14
    },
    {
     "cell_type": "heading",
     "level": 2,
     "metadata": {},
     "source": [
      "Example 3.5, Page 80"
     ]
    },
    {
     "cell_type": "code",
     "collapsed": false,
     "input": [
      "#Variable declaration\n",
      "A=0.00025;#in m^2\n",
      "D=8900;#in kg/m^3\n",
      "Z=32.95*10**-8;#in kg/C\n",
      "I=1.5;#in A\n",
      "\n",
      "#Calculations\n",
      "t=60*60;#in seconds\n",
      "m=Z*I*t;#in kg\n",
      "v=m/D;\n",
      "T=(v/A);\n",
      "\n",
      "#Result\n",
      "print \"Thickness of copper deposited is \",round(T,4),\"m or \",round((T*10**3),1),\"mm\""
     ],
     "language": "python",
     "metadata": {},
     "outputs": [
      {
       "output_type": "stream",
       "stream": "stdout",
       "text": [
        "Thickness of copper deposited is  0.0008 m or  0.8 mm\n"
       ]
      }
     ],
     "prompt_number": 15
    },
    {
     "cell_type": "heading",
     "level": 2,
     "metadata": {},
     "source": [
      "Example 3.6, Page 80"
     ]
    },
    {
     "cell_type": "code",
     "collapsed": false,
     "input": [
      "#Variable declaration\n",
      "m=50;# in gm\n",
      "t=2*60*60;# in sec\n",
      "ECE_silver=111.8*10**-8;# in kg C^-1\n",
      "atomic_weight1=108;# for silver\n",
      "atomic_weight2=63.5;#for copper\n",
      "valency=1;#for silver\n",
      "\n",
      "#Calculations\n",
      "Ces=atomic_weight1/valency;# chemical equivalent of silver\n",
      "Cec=atomic_weight2/2;# chemical equivalent of copper\n",
      "Z=ECE_silver*(Cec/Ces);\n",
      "I=(m*10**-3)/(Z*t);\n",
      "\n",
      "#Result\n",
      "print \"current,I(A) = %.2f\"%I"
     ],
     "language": "python",
     "metadata": {},
     "outputs": [
      {
       "output_type": "stream",
       "stream": "stdout",
       "text": [
        "current,I(A) = 21.13\n"
       ]
      }
     ],
     "prompt_number": 16
    },
    {
     "cell_type": "heading",
     "level": 2,
     "metadata": {},
     "source": [
      "Example 3.7, Page 81"
     ]
    },
    {
     "cell_type": "code",
     "collapsed": false,
     "input": [
      "#Variable declaration\n",
      "a=500;# electrolytic cells\n",
      "I=6000;#in A\n",
      "t=40;#in hour/week\n",
      "Z=32.81*10**-8*3600;#in kg/A-h\n",
      "V=0.25;# in volts\n",
      "\n",
      "#Calculations\n",
      "Ah=a*I*(t*52);# total number of ampere hour per annum\n",
      "Ao=Z*Ah*10**-3;# annual output in tonnes\n",
      "Ea=Ah*V*10**-3;# energy consumed per annum in kWh\n",
      "Et=Ea/Ao;\n",
      "\n",
      "#Result\n",
      "print \"energy consumption,Et(kWh/tonne) = %.2f\"%Et"
     ],
     "language": "python",
     "metadata": {},
     "outputs": [
      {
       "output_type": "stream",
       "stream": "stdout",
       "text": [
        "energy consumption,Et(kWh/tonne) = 211.66\n"
       ]
      }
     ],
     "prompt_number": 17
    },
    {
     "cell_type": "heading",
     "level": 2,
     "metadata": {},
     "source": [
      "Example 3.8, Page 81"
     ]
    },
    {
     "cell_type": "code",
     "collapsed": false,
     "input": [
      "#Variable declaration\n",
      "Z=1.0384*10**-8;#in kg/C\n",
      "VbyZ=14.212*10**7;# in joules\n",
      "\n",
      "#Calculations\n",
      "V=VbyZ*Z;\n",
      "\n",
      "#Result\n",
      "print \"voltage,V(volts) = %.3f\"%V"
     ],
     "language": "python",
     "metadata": {},
     "outputs": [
      {
       "output_type": "stream",
       "stream": "stdout",
       "text": [
        "voltage,V(volts) = 1.476\n"
       ]
      }
     ],
     "prompt_number": 18
    },
    {
     "cell_type": "heading",
     "level": 2,
     "metadata": {},
     "source": [
      "Example 3.9, Page 82"
     ]
    },
    {
     "cell_type": "code",
     "collapsed": false,
     "input": [
      "#Variable declaration\n",
      "ECE_silver=111*10**-8;#in kg/C\n",
      "Cew_silver=107.98;#chemical equivalent of silver\n",
      "Cew_al=27/3;#chemical equivalent of aluminium\n",
      "\n",
      "#Calculations\n",
      "Z=(ECE_silver*Cew_al)/Cew_silver;\n",
      "C_efficiency=0.92;\n",
      "I=3000;#in A\n",
      "t=24*60*60;#in seconds\n",
      "m=Z*I*t*C_efficiency;\n",
      "\n",
      "#Result\n",
      "print \"mass of aluminium,m(kg) = %.3f\"%m"
     ],
     "language": "python",
     "metadata": {},
     "outputs": [
      {
       "output_type": "stream",
       "stream": "stdout",
       "text": [
        "mass of aluminium,m(kg) = 22.062\n"
       ]
      }
     ],
     "prompt_number": 19
    },
    {
     "cell_type": "heading",
     "level": 2,
     "metadata": {},
     "source": [
      "Example 3.10, Page 82"
     ]
    },
    {
     "cell_type": "code",
     "collapsed": false,
     "input": [
      "import math\n",
      "\n",
      "#Variable declaration\n",
      "d=0.1;#in m\n",
      "l=.25;# in m\n",
      "Tc=2;# thickness of coating in mm\n",
      "D=8.9;#density of metal in gm/CC\n",
      "C_density=160;#in A/sq\n",
      "I_efficiency=0.9;\n",
      "\n",
      "#Calculations&Results\n",
      "S=math.pi*d*l;\n",
      "m=S*Tc*10**-3*D*10**3;\n",
      "Z=30.43*10**-8;# in kg/C\n",
      "Q=(m/Z)/3600;# in A-h\n",
      "Q_dash=Q/I_efficiency;\n",
      "print \"quantity of electricity,Q_dash(A-h) = %.f\"%Q_dash\n",
      "I=C_density*S;\n",
      "t=Q_dash/I;\n",
      "print \"time required,t(hours) = %.2f\"%t"
     ],
     "language": "python",
     "metadata": {},
     "outputs": [
      {
       "output_type": "stream",
       "stream": "stdout",
       "text": [
        "quantity of electricity,Q_dash(A-h) = 1418\n",
        "time required,t(hours) = 112.84\n"
       ]
      }
     ],
     "prompt_number": 20
    }
   ],
   "metadata": {}
  }
 ]
}