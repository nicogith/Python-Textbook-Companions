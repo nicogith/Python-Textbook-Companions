{
 "metadata": {
  "name": "",
  "signature": "sha256:cf48b4448bdb212ceb12f7cd6ba5223c804096f079426f10b19c24da42a899a4"
 },
 "nbformat": 3,
 "nbformat_minor": 0,
 "worksheets": [
  {
   "cells": [
    {
     "cell_type": "heading",
     "level": 1,
     "metadata": {},
     "source": [
      "Chapter10-Radiation Shielding "
     ]
    },
    {
     "cell_type": "heading",
     "level": 2,
     "metadata": {},
     "source": [
      "Ex1-pg553"
     ]
    },
    {
     "cell_type": "code",
     "collapsed": false,
     "input": [
      "## Example 10.1\n",
      "import math\n",
      "#calculate the\n",
      "\n",
      "## Given data\n",
      "E0 = 2.;                                        ## Energy of gamma rays in MeV\n",
      "a = 10.;                                       ## Thickeness of lead shield in cm\n",
      "phi0 = 10**6;                                  ## Intensity of gamma rays in gamma-rays/cm^2-sec\n",
      "\n",
      "## 1.\n",
      "## Using the data from Table II.4 for E0 = 2 MeV\n",
      "mu_rho = 0.0457;                              ## The ratio of total attenuation coefficient to density in cm^2/g\n",
      "## From standard data tables for lead\n",
      "rho = 11.34;                                  ## Density of lead in g/cm^3\n",
      "## Calculation\n",
      "phi_u = phi0*math.exp(-(mu_rho*rho*a));\n",
      "## Result\n",
      "print'%s %.2f %s'%(\"\\n Uncollided flux at the rear side of lead shield = \",phi_u,\" gamma-rays/cm^2-sec \\n\")\n",
      "\n",
      "## 2.\n",
      "## Using the data from Table 10.1 for 2 MeV of lead material\n",
      "mua = mu_rho*rho*a;\n",
      "B_4 = 2.41;                                     ## Buildup factor if mu*a = 4\n",
      "B_7 = 3.36;                                     ## Buildup factor if mu*a = 7\n",
      "## Using two point method of straight line for calculating buildup factor at mu*a\n",
      "B_m = B_4+((mua-4.)*((B_7-B_4)/(7.-4.)));\n",
      "## Calculation\n",
      "phi_b = phi_u*B_m;\n",
      "## Result\n",
      "print'%s %.2f %s'%(\"\\n Buildup flux at the rear side of lead shield = \",phi_b,\" gamma-rays/cm^2-sec \\n\");\n",
      "\n",
      "## 3.\n",
      "## Using the data from Table II.5 for 2 MeV \n",
      "mua_rho_air = 0.0238;                           ## The ratio of total attenuation coefficient to density of air in cm^2/g\n",
      "## Calculation\n",
      "X_dot = 0.0659*E0*mua_rho_air*phi_b;\n",
      "## Result\n",
      "print'%s %.2f %s'%(\"\\n Exposure rate at the rear side of lead shield = \",X_dot,\" mR/hour \\n\");\n"
     ],
     "language": "python",
     "metadata": {},
     "outputs": [
      {
       "output_type": "stream",
       "stream": "stdout",
       "text": [
        "\n",
        " Uncollided flux at the rear side of lead shield =  5614.63  gamma-rays/cm^2-sec \n",
        "\n",
        "\n",
        " Buildup flux at the rear side of lead shield =  15633.48  gamma-rays/cm^2-sec \n",
        "\n",
        "\n",
        " Exposure rate at the rear side of lead shield =  49.04  mR/hour \n",
        "\n"
       ]
      }
     ],
     "prompt_number": 1
    },
    {
     "cell_type": "heading",
     "level": 2,
     "metadata": {},
     "source": [
      "Ex2-pg555"
     ]
    },
    {
     "cell_type": "code",
     "collapsed": false,
     "input": [
      "\n",
      "## Example 10.2\n",
      "import math\n",
      "\n",
      "import warnings\n",
      "warnings.filterwarnings('ignore')\n",
      "import numpy\n",
      "%matplotlib inline\n",
      "import matplotlib\n",
      "from matplotlib import pyplot\n",
      "\n",
      "## Given data\n",
      "E = 1.;                                          ## Energy of gamma rays in MeV\n",
      "X_dot = 1.;                                      ## Exposure rate in mR/hour\n",
      "phi0 = 10**8;                                    ## Intensity of gamma rays in gamma-rays/cm^2-sec from isotropic point source\n",
      "## Using the data from Table II.5 for 1 MeV \n",
      "mua_rho_air = 0.028;                             ## The ratio of total attenuation coefficient to density of air in cm^2/g\n",
      "phi_b = X_dot/(0.0659*E*mua_rho_air);          ## Buildup flux in gamma-rays/cm^2-sec\n",
      "## Using Eq 10.14\n",
      "print'%s %.2f %s'%(\" \\n The equation to calculate radius is \\n %.2E  = %E * Bp*exp(-mu*R)/(4*pi*R^2) \\n\",phi_b,phi0);\n",
      "## Using the data from Table II.4 for E = 1 MeV for Iron\n",
      "mu_rho = 0.0595;                              ## The ratio of total attenuation coefficient to density in cm^2/g\n",
      "## From standard data tables for iron\n",
      "rho = 7.864;                                  ## Density of iron in g/cm^3\n",
      "mu = mu_rho*rho;\n",
      "## On solving the right hand side of equation\n",
      "## RHS = 3.22*10^3*Bp*exp(-mu*R)/(mu*R)^2\n",
      "## Let mu*R = x\n",
      "## Using the data from Table 10.2 for isotropic point source of 1 MeV incident on iron material\n",
      "Bp = numpy.array([1.87, 2.89, 5.39, 10.2, 16.2, 28.3, 42.7]);\n",
      "x = numpy.array([1 ,2 ,4 ,7 ,10, 15, 20]);\n",
      "leng=len(Bp)\n",
      "RHS= numpy.zeros(leng);\n",
      "for i in range(0,7):\n",
      "    RHS[i] = (3.22*10**3*Bp[i]*math.exp(-x[i])/x[i]**2);\n",
      "\n",
      "pyplot.plot(x,RHS)\n",
      "pyplot.legend(\"Conical\",\"2D-CD\")\n",
      "pyplot.xlabel(\"mu*R\")\n",
      "pyplot.ylabel(\"RHS\")\n",
      "pyplot.title(\"Semilog plot of RHS vs mu*R\")\n",
      "pyplot.show()\n",
      "\n",
      "## From the graph\n",
      "muR = 6.55;                                   ## This is the value when RHS = 1\n",
      "## Calculation\n",
      "R = muR/mu;\n",
      "## Result\n",
      "print'%s %.2f %s'%(\"\\n The shield radius required = \",math.ceil(R),\" cm \\n\");\n",
      "\n",
      "\n"
     ],
     "language": "python",
     "metadata": {},
     "outputs": [
      {
       "output_type": "stream",
       "stream": "stdout",
       "text": [
        " \n",
        " The equation to calculate radius is \n",
        " %.2E  = %E * Bp*exp(-mu*R)/(4*pi*R^2) \n",
        " 541.95 100000000\n"
       ]
      },
      {
       "metadata": {},
       "output_type": "display_data",
       "png": "[encoded data removed]",
       "text": [
        "<matplotlib.figure.Figure at 0x81ef970>"
       ]
      },
      {
       "output_type": "stream",
       "stream": "stdout",
       "text": [
        "\n",
        " The shield radius required =  14.00  cm \n",
        "\n"
       ]
      }
     ],
     "prompt_number": 38
    },
    {
     "cell_type": "heading",
     "level": 2,
     "metadata": {},
     "source": [
      "Ex3-pg561"
     ]
    },
    {
     "cell_type": "code",
     "collapsed": false,
     "input": [
      "## Example 10.3\n",
      "import math\n",
      "import warnings\n",
      "warnings.filterwarnings('ignore')\n",
      "import numpy\n",
      "%matplotlib inline\n",
      "import matplotlib\n",
      "from matplotlib import pyplot\n",
      "\n",
      "## Given data\n",
      "E = 2.;                                          ## Energy of gamma rays in MeV\n",
      "X_dot = 2.5;                                    ## Exposure rate in mR/hour\n",
      "phi0 = 10**9;                                    ## Intensity of gamma rays in gamma-rays/cm^2-sec from isotropic point source\n",
      "## Using the data from Table II.5 for 1 MeV \n",
      "mua_rho_air = 0.0238;                           ## The ratio of total attenuation coefficient to density of air in cm^2/g\n",
      "phi_b = X_dot/(0.0659*E*mua_rho_air);          ## Buildup flux in gamma-rays/cm^2-sec\n",
      "\n",
      "## From standard data tables for concrete\n",
      "rho = 2.35;                                     ## Density of concrete in g/cm^3\n",
      "## Using the data from Table 10.3 for concrete at 2 MeV\n",
      "A1 = 18.089;\n",
      "A2 = 1-A1;\n",
      "alpha1 = -0.0425;\n",
      "alpha2 = 0.00849;\n",
      "## Using Eq 10.26\n",
      "#print'%s %.2f %s'%(\" \\n The equation to calculate thickness is \\n %.2E = (%E/2) *(%4.3f*E1(%4.3f*mu*a) %4.3f*E1(%4.3f*mu*a)) \\n\",phi_b,phi0,A1,(1+alpha1),A2,(1+alpha2));\n",
      "## Using the data from Table II.4 for E = 1 MeV for concrete\n",
      "mu_rho = 0.0445;                              ## The ratio of total attenuation coefficient to density in cm^2/g\n",
      "mu = mu_rho*rho;\n",
      "## On solving the right hand side of equation\n",
      "## RHS = 1.13*10^7*(E1(0.9575*mu*a)-0.94*E1(1.00849*mu*a))\n",
      "## Let mu*a = x\n",
      "x = numpy.array([1 ,2 ,4 ,7 ,10, 15, 20]);\n",
      "leng=len(x)\n",
      "RHS= numpy.zeros(leng);\n",
      "for i in range(0,leng):\n",
      "    RHS[i] = 1.13*10**7*(math.exp(-0.9575*x[i])*((1./(0.9575*x[i])+(1/(0.9575*x[i])**3))) - math.exp(-1.00849*x[i])*((1./(1.00849*x[i])+(1./(1.00849*x[i])**3))));\n",
      "\n",
      "pyplot.plot(x,RHS)\n",
      "pyplot.legend(\"Conical\",\"2D-CD\")\n",
      "pyplot.xlabel(\"mu*R\")\n",
      "pyplot.ylabel(\"RHS\")\n",
      "pyplot.title(\"Semilog plot of RHS vs mu*R\")\n",
      "pyplot.show()\n",
      "## From the graph\n",
      "mua = 13.6;                                   ## This is the value when RHS = 1\n",
      "## Calculation\n",
      "a = mua/mu;\n",
      "## Result\n",
      "print'%s %.2f %s'%(\"\\n The concrete thickness = \",a,\" cm \\n\");\n"
     ],
     "language": "python",
     "metadata": {},
     "outputs": [
      {
       "metadata": {},
       "output_type": "display_data",
       "png": "[encoded data removed]",
       "text": [
        "<matplotlib.figure.Figure at 0x30dd6d0>"
       ]
      },
      {
       "output_type": "stream",
       "stream": "stdout",
       "text": [
        "\n",
        " The concrete thickness =  130.05  cm \n",
        "\n"
       ]
      }
     ],
     "prompt_number": 40
    },
    {
     "cell_type": "heading",
     "level": 2,
     "metadata": {},
     "source": [
      "Ex4-pg575"
     ]
    },
    {
     "cell_type": "code",
     "collapsed": false,
     "input": [
      "## Example 10.4\n",
      "import math\n",
      "#calculate the\n",
      "\n",
      "## Given data\n",
      "E = 6.;                                          ## Energy of gamma rays in MeV\n",
      "phi0 = 10**2;                                    ## Intensity of gamma rays in gamma-rays/cm^2-sec from mono-directional beam\n",
      "x_w = 100.;                                      ## Thickness of water in cm\n",
      "x_Pb = 8.;                                       ## Thickness of lead in cm\n",
      "## Using data from Table II.4 at 6 MeV\n",
      "mu_w = 0.0275;                                  ## Total attenuation coefficient of water in cm^(-1)\n",
      "mu_Pb = 0.4944;                                 ## Total attenuation coefficient of lead in cm^(-1)\n",
      "\n",
      "mua_w = x_w*mu_w;                               ## Attenuation due to thickness of water\n",
      "mua_Pb = x_Pb*mu_Pb;                            ## Attenuation due to thickness of lead\n",
      "\n",
      "## Case (a) - Water is placed before the lead\n",
      "print'%s %.2f %s'%(\" \\n In case (a), Buildup factor is only due to lead measured at \",mua_Pb,\"\");\n",
      "## Using the data from Table 10.1 at 6 MeV\n",
      "B_Pb = 1.86;\n",
      "phi_b_a = phi0*B_Pb*math.exp(-(mua_w+mua_Pb));\n",
      "\n",
      "## Using the data from Table II.5 for 6 MeV \n",
      "mua_rho_air = 0.0172;                           ## The ratio of total attenuation coefficient to density of air in cm^2/g\n",
      "## Calculation\n",
      "X_dot_a = 0.0659*E*mua_rho_air*phi_b_a;\n",
      "## Result\n",
      "print'%s %.2f %s'%(\"\\n Exposure rate if water is placed before lead shield = \",X_dot_a*1000,\" uR/hour \\n\");\n",
      "\n",
      "## Case (b) - Lead is placed before water\n",
      "print'%s %.2f %s %.2f %s'%(\" \\n In case (b), Buildup factor is due to water and lead measured at \",mua_w,\"\" and \"\",mua_Pb,\" respectively\");\n",
      "## Using the data from Table 10.1 for water at 3.2 MeV,, which is the minimum point of mu_Pb curve\n",
      "B_w = 2.72;\n",
      "B_m = B_Pb*B_w;\n",
      "phi_b_b = phi0*B_m*math.exp(-(mua_w+mua_Pb));\n",
      "\n",
      "## Calculation\n",
      "X_dot_b = 0.0659*E*mua_rho_air*phi_b_b;\n",
      "## Result\n",
      "print'%s %.2f %s'%(\"\\n Exposure rate if lead is placed before water = \",X_dot_b*1000,\" uR/hour \\n\");\n",
      "## The answer given in the textbook is wrong. This is because the intensity of gamma rays is wrongly taken for calculation. \n",
      "\n"
     ],
     "language": "python",
     "metadata": {},
     "outputs": [
      {
       "output_type": "stream",
       "stream": "stdout",
       "text": [
        " \n",
        " In case (a), Buildup factor is only due to lead measured at  3.96 \n",
        "\n",
        " Exposure rate if water is placed before lead shield =  1.55  uR/hour \n",
        "\n",
        " \n",
        " In case (b), Buildup factor is due to water and lead measured at  2.75  3.96  respectively\n",
        "\n",
        " Exposure rate if lead is placed before water =  4.21  uR/hour \n",
        "\n"
       ]
      }
     ],
     "prompt_number": 4
    },
    {
     "cell_type": "heading",
     "level": 2,
     "metadata": {},
     "source": [
      "Ex5-pg582"
     ]
    },
    {
     "cell_type": "code",
     "collapsed": false,
     "input": [
      "## Example 10.5\n",
      "import math\n",
      "#calculate the\n",
      "\n",
      "## Given data\n",
      "fission_density = 4*10**7;                       ## Fission density in fissions/cm^2-sec\n",
      "## 1 inches = 2.54 cm\n",
      "d = 28*2.54;                                    ## Diamaeter of plate in cm\n",
      "R = d/2.;                                        ## Radius of plate in cm\n",
      "v = 2.42;                                       ## Number of fission neutrons emitted per fission\n",
      "x = 75.;                                         ## Distance of point from center of plate in cm\n",
      "## Using the data from Table 10.4 for removal macroscopic cross section of water\n",
      "sigma_RW = 0.103;                               ## Removal macroscopic cross section of water in cm^-1\n",
      "S = v*fission_density;                          ## Strength of neutron source in terms of neutrons/cm^2-sec\n",
      "A = 0.12;                                       ## A constant\n",
      "## From Figure 10.19\n",
      "\n",
      "## Let the upper limit of integral be 20\n",
      "x_limit = 20;\n",
      "E1_x11 = 0.0000512  \n",
      " \n",
      "   \n",
      "E1_x21 = 0.0000205  \n",
      "## Calculation\n",
      "phi_1 = S*A/2.*(E1_x11-E1_x21);\n",
      "## Result\n",
      "print'%s %.2f %s'%(\" \\n The fast flux without iron shield = \",phi_1,\" neutrons/cm^2-sec \\n\");\n",
      "\n",
      "## 2. Iron slab is inserted in front of the fission plate\n",
      "## Using the data from Table 10.4 for removal macroscopic cross section of iron\n",
      "sigma_R = 0.168;                               ## Removal macroscopic cross section of iron in cm^-1\n",
      "t = 3*2.54;                                     ## Thickness of iron slab in cm\n",
      "## Now the analysis is similar to multi layered shielding\n",
      "\n",
      "x_limit = 20;\n",
      "\n",
      "E1_x12 = 0.0000124  \n",
      "E1_x22 = 0.0000043 \n",
      " \n",
      "    \n",
      "## Calculation\n",
      "phi_2 = S*A/2*(E1_x12-E1_x22);\n",
      "## Result\n",
      "print'%s %.2f %s'%(\" \\n The fast flux with iron shield = \",phi_2,\" neutrons/cm^2-sec \\n\");\n"
     ],
     "language": "python",
     "metadata": {},
     "outputs": [
      {
       "output_type": "stream",
       "stream": "stdout",
       "text": [
        " \n",
        " The fast flux without iron shield =  178.31  neutrons/cm^2-sec \n",
        "\n",
        " \n",
        " The fast flux with iron shield =  47.04  neutrons/cm^2-sec \n",
        "\n"
       ]
      }
     ],
     "prompt_number": 45
    },
    {
     "cell_type": "heading",
     "level": 2,
     "metadata": {},
     "source": [
      "Ex6-pg587"
     ]
    },
    {
     "cell_type": "code",
     "collapsed": false,
     "input": [
      "## Example 10.6\n",
      "import math\n",
      "#calculate the\n",
      "\n",
      "## Given data\n",
      "## Assuming average energy produced per fission reaction is 200 MeV \n",
      "P = 250.*10**3;                                   ## Power of research reactor in Watts\n",
      "P_fission = 200*10**6*1.6*10**(-19);              ## Energy produced in a fission reaction in terms of joule\n",
      "f = 0.75;                                       ## Metal volume fraction\n",
      "## In this problem, both reflector and shield act as a composite shield\n",
      "a = 150.+15.;                                     ## Net shield distance in cm\n",
      "## 1 litre = 1000 grams\n",
      "V = 32.*1000.;                                    ## Core volume in gram\n",
      "\n",
      "fission_density = (P/P_fission)*(1./V);\n",
      "v = 2.42;                                       ## Number of fission neutrons emitted per fission\n",
      "S = fission_density*v;                          ## Neutron source strength in neutrons/cm^3-sec\n",
      "## Assuming spherical shape\n",
      "## Volume of sphere = (4/3)*pi*(radius)^3\n",
      "R = ((3.*V)/(4.*math.pi))**(1./3.);\n",
      "## Using the data from Table 10.4 for removal macroscopic cross section \n",
      "sigma_R = 0.174;                               ## Removal macroscopic cross section of uranium in cm^-1\n",
      "sigma_RW = 0.103;                               ## Removal macroscopic cross section of water in cm^-1\n",
      "A = 0.12;                                       ## A constant\n",
      "alpha = ((1.-f)*sigma_RW)+(f*sigma_R);           ## A parameter\n",
      "## Calculation\n",
      "theta = (S*A/(4*alpha))*(math.ceil(R)/(math.ceil(R)+a))**2*math.exp(-sigma_RW*a)*(1-math.exp(-2*alpha*math.ceil(R)));\n",
      "## Converting into equivalent dose rate by referring Figure 9.12\n",
      "## Fast neutron flux of 6.8 neutrons/cm^2-sec is equivalent to 1 mrem/hr\n",
      "H_dot = theta/6.8;\n",
      "## Result\n",
      "print'%s %.2f %s'%(\" \\n Fast neutron dose rate near the surface of the shield = \",H_dot,\" mrem/hour \\n \");\n"
     ],
     "language": "python",
     "metadata": {},
     "outputs": [
      {
       "output_type": "stream",
       "stream": "stdout",
       "text": [
        " \n",
        " Fast neutron dose rate near the surface of the shield =  8.10  mrem/hour \n",
        " \n"
       ]
      }
     ],
     "prompt_number": 6
    },
    {
     "cell_type": "heading",
     "level": 2,
     "metadata": {},
     "source": [
      "Ex7-pg593"
     ]
    },
    {
     "cell_type": "code",
     "collapsed": false,
     "input": [
      "## Example 10.7\n",
      "import math\n",
      "#calculate the\n",
      "\n",
      "## Given data\n",
      "E = 14.;                                         ## Energy of neutrons in MeV\n",
      "phi0 = 10**9;                                    ## Intensity of neutrons in neutrons/cm^2-sec from isotropic point source\n",
      "## 1 feet  = 30.48 cm\n",
      "d = 10*30.48;                                   ## Distance of concrete wall from a point source in cm\n",
      "## As Intensity obeys inverse square law\n",
      "I = phi0/(4.*math.pi*d**2);                           ## Intensity of neutron beam in terms of neutrons/cm^2-sec\n",
      "H_dot = 1.;                                      ## The required dose equivalent rate in mrem/hour\n",
      "## From Figure 10.23(b)\n",
      "H0_dot = H_dot/I;                                ## The dose equivalent rate\n",
      "## Result\n",
      "print'%s %.2f %s'%(\" \\n The reduced dose equivalent rate due to concrete wall is = \",H0_dot,\" mrem/hr \\n\");\n",
      "## By looking into Figure 10.23(b) on thickness axis\n",
      "print(\" \\n The concrete slab thickness is = 70 cm \\n\");\n",
      "\t\n"
     ],
     "language": "python",
     "metadata": {},
     "outputs": [
      {
       "output_type": "stream",
       "stream": "stdout",
       "text": [
        " \n",
        " The reduced dose equivalent rate due to concrete wall is =  0.00  mrem/hr \n",
        "\n",
        " \n",
        " The concrete slab thickness is = 70 cm \n",
        "\n"
       ]
      }
     ],
     "prompt_number": 7
    },
    {
     "cell_type": "heading",
     "level": 2,
     "metadata": {},
     "source": [
      "Ex8-pg598"
     ]
    },
    {
     "cell_type": "code",
     "collapsed": false,
     "input": [
      "## Example 10.8\n",
      "import math\n",
      "#calculate the\n",
      "\n",
      "## Given data\n",
      "R = 7.*30.48;                                    ## Distance of core from the center of shield in cm\n",
      "## Assuming average energy produced per fission reaction is 200 MeV \n",
      "P = 10.;                                         ## Power of teaching reactor in Watts\n",
      "P_fission = 200*10**6*1.6*10**(-19);              ## Energy produced in a fission reaction in terms of joule\n",
      "fission_rate = P/P_fission;                     ## Number of fission reactions\n",
      "\n",
      "## By assuming that the gammma rays are of equal energy of 1 MeV (Group 1) and looking into Table 10.5\n",
      "E1 = 1.;                                          ## Energy of gamma rays in MeV (Assumed)\n",
      "chi_pn1 = 5.2;                                    ## Number of prompt gamma rays emitted per fission with energy 2 MeV\n",
      "S1 = chi_pn1*fission_rate;                        ## Source strength in gamma rays/sec\n",
      "## Using the data from Table II.4 for E = 1 MeV for water\n",
      "mu1 = 0.0996;                                    ## Mass attenuation coefficient at 1 MeV in cm^-1\n",
      "print'%s %.2f %s'%(\" \\n Buildup factor is due to water measured at \",mu1*R,\"\");\n",
      "## Using the data from Table 10.2 at 1 MeV\n",
      "B_p1 = 373.;\n",
      "phi_b1 = (S1/(4.*math.pi*R**2))*B_p1*math.exp(-mu1*R);      ## Buildup flux\n",
      "## Using the data from Table II.5 for 1 MeV \n",
      "mua_rho_air1 = 0.028;                            ## The ratio of total attenuation coefficient to density of air in cm^2/g\n",
      "## Calculation\n",
      "X_dot1 = 0.0659*E1*mua_rho_air1*phi_b1;\n",
      "print'%s %.2f %s'%(\"\\n Exposure rate due to group 1 = \",X_dot1,\" mR/hour \\n\");\n",
      "\n",
      "## By assuming that the gammma rays are of equal energy of 2 MeV (Group 2) and looking into Table 10.5\n",
      "E2 = 2.;                                          ## Energy of gamma rays in MeV (Assumed)\n",
      "chi_pn2 = 1.8;                                   ## Number of prompt gamma rays emitted per fission with energy 2 MeV\n",
      "S2 = chi_pn2*fission_rate;                        ## Source strength in gamma rays/sec\n",
      "## Using the data from Table II.4 for E = 2 MeV for water\n",
      "mu2 = 0.0493;                                    ## Mass attenuation coefficient at 2 MeV in cm^-1\n",
      "print'%s %.2f %s'%(\" \\n Buildup factor is due to water measured at \",mu2*R,\"\");\n",
      "## Using the data from Table 10.2 at 2 MeV\n",
      "B_p2 = 13.1;\n",
      "phi_b2 = (S2/(4.*math.pi*R**2))*B_p2*math.exp(-mu2*R);      ## Buildup flux \n",
      "## Using the data from Table II.5 for 2 MeV \n",
      "mua_rho_air2 = 0.0238;                           ## The ratio of total attenuation coefficient to density of air in cm^2/g\n",
      "## Calculation \n",
      "X_dot2 = 0.0659*E2*mua_rho_air2*phi_b2;\n",
      "print'%s %.2f %s'%(\"\\n Exposure rate due to group 2 = \",X_dot2,\" mR/hour \\n\");\n",
      "\n",
      "## By assuming that the gammma rays are of equal energy of 4 MeV (Group 3) and looking into Table 10.5\n",
      "E3 = 4.;                                          ## Energy of gamma rays in MeV (Assumed)\n",
      "chi_pn3 = 0.22;                                   ## Number of prompt gamma rays emitted per fission with energy 4 MeV\n",
      "S3 = chi_pn3*fission_rate;                        ## Source strength in gamma rays/sec\n",
      "## Using the data from Table II.4 for E = 4 MeV for water\n",
      "mu3 = 0.0339;                                    ## Mass attenuation coefficient at 4 MeV in cm^-1\n",
      "print'%s %.2f %s'%(\" \\n Buildup factor is due to water measured at\",mu3*R,\"\");\n",
      "## Using the data from Table 10.2 at 4 MeV\n",
      "B_p3 = 5.27;\n",
      "phi_b3 = (S3/(4.*math.pi*R**2))*B_p3*math.exp(-mu3*R);      ## Buildup flux \n",
      "## Using the data from Table II.5 for 4 MeV \n",
      "mua_rho_air3=0.0194;                             ## The ratio of total attenuation coefficient to density of air in cm^2/g\n",
      "## Calculation\n",
      "X_dot3 = 0.0659*E3*mua_rho_air3*phi_b3;\n",
      "print'%s %.2f %s'%(\"\\n Exposure rate due to group 3 = \",X_dot3,\" mR/hour \\n\");\n",
      "\n",
      "## By assuming that the gammma rays are of equal energy of 6 MeV (Group 4) and looking into Table 10.5\n",
      "E4 = 6;                                          ## Energy of gamma rays in MeV (Assumed)\n",
      "chi_pn4 = 0.025;                                 ## Number of prompt gamma rays emitted per fission with energy 4 MeV\n",
      "S4 = chi_pn4*fission_rate;                       ## Source strength in gamma rays/sec\n",
      "## Using the data from Table II.4 for E = 6 MeV for water\n",
      "mu4 = 0.0275;                                    ## Mass attenuation coefficient at 6 MeV in cm^-1\n",
      "print'%s %.2f %s'%(\" \\n Buildup factor is due to water measured at \",mu4*R,\"\");\n",
      "## Using the data from Table 10.2 at 6 MeV\n",
      "B_p4 = 3.53;\n",
      "phi_b4 = (S4/(4.*math.pi*R**2))*B_p4*math.exp(-mu4*R);       ## Buildup flux \n",
      "## Using the data from Table II.5 for 4 MeV \n",
      "mua_rho_air4=0.0172;                             ## The ratio of total attenuation coefficient to density of air in cm^2/g\n",
      "## Calculation\n",
      "X_dot4 = 0.0659*E4*mua_rho_air4*phi_b4;\n",
      "print'%s %.2f %s'%(\"\\n Exposure rate due to group 3 = \",X_dot4,\" mR/hour \\n\");\n",
      "\n",
      "##Calculation\n",
      "X_dot = X_dot1+X_dot2+X_dot3+X_dot4;\n",
      "## Result\n",
      "print'%s %.2f %s'%(\"\\n The total exposure rate due to all groups = \",X_dot,\" mR/hour \\n\");\n",
      "\n",
      "\n"
     ],
     "language": "python",
     "metadata": {},
     "outputs": [
      {
       "output_type": "stream",
       "stream": "stdout",
       "text": [
        " \n",
        " Buildup factor is due to water measured at  21.25 \n",
        "\n",
        " Exposure rate due to group 1 =  0.00  mR/hour \n",
        "\n",
        " \n",
        " Buildup factor is due to water measured at  10.52 \n",
        "\n",
        " Exposure rate due to group 2 =  1.09  mR/hour \n",
        "\n",
        " \n",
        " Buildup factor is due to water measured at 7.23 \n",
        "\n",
        " Exposure rate due to group 3 =  2.34  mR/hour \n",
        "\n",
        " \n",
        " Buildup factor is due to water measured at  5.87 \n",
        "\n",
        " Exposure rate due to group 3 =  0.93  mR/hour \n",
        "\n",
        "\n",
        " The total exposure rate due to all groups =  4.36  mR/hour \n",
        "\n"
       ]
      }
     ],
     "prompt_number": 8
    },
    {
     "cell_type": "heading",
     "level": 2,
     "metadata": {},
     "source": [
      "Ex9-pg603"
     ]
    },
    {
     "cell_type": "code",
     "collapsed": false,
     "input": [
      "## Example 10.9\n",
      "import math\n",
      "#calculate the\n",
      "\n",
      "## Given data\n",
      "## Assuming average energy produced per fission reaction is 200 MeV \n",
      "P = 55.;                                         ## Power density of reactor in watts/cm^3\n",
      "rho_eff_U = 0.33;                               ## Effective density of uranium in g/cm^3\n",
      "rho_eff_W = 1-rho_eff_U;                        ## Effective density of water in g/cm^3\n",
      "t_i = 3.;                                        ## Average time spent by water in the reactor in seconds\n",
      "t_0 = 2.;                                        ## Average time spent by water in the external coolant circuit in seconds\n",
      "## 1 eV = 1.6*10^(-19) J\n",
      "P_fission = 200.*10**6*1.6*10**(-19);              ## Energy produced in a fission reaction in terms of joule\n",
      "fission_density = P/P_fission;                  ## Number of fission reactions\n",
      "v = 2.42;                                       ## Number of fission neutrons emitted per fission\n",
      "S = v*fission_density;                          ## Strength of neutron source in terms of neutrons/cm^2-sec\n",
      "## Atom density of oxygen at normal density of 1 g/cm^3 is\n",
      "rho = 1.;                                        ## Density of water in g/cm^3\n",
      "N_A = 6.02*10**(23);                             ## Avogadro's constant\n",
      "M = 18.;                                         ## Molecular weight of water\n",
      "atom_density = (rho*N_A)/M;\n",
      "\n",
      "## Using the data from Table 10.7\n",
      "sigma_r = 1.9*10**(-5)*10**(-24);                 ## Reaction cross section in cm^2\n",
      "T_12 = 7.1;                                     ## Half life of the given reaction in seconds\n",
      "lambd = 0.693/T_12;                            ## Decay constant of the given reaction in seconds^(-1)\n",
      "sigma_act = rho_eff_W*atom_density*sigma_r;     ## Average macroscopic activation cross section\n",
      "## Using the data from Table 10.4\n",
      "sigma_RW = 0.103;                               ## Removal cross section of water in cm^-1\n",
      "sigma_RU = 0.174;                               ## Removal cross section of Uranium in cm^-1\n",
      "sigma_R = (sigma_RU*rho_eff_U)+(sigma_RW*rho_eff_W);    ## Removal cross section of mixture\n",
      "## Let activation rate given by (sigma_act*phi_av) be denoted as AR\n",
      "AR = (sigma_act*S)/sigma_R;\n",
      "## Calculation\n",
      "alpha = AR*(1.-math.exp(-t_i*lambd))/(1.-math.exp(-(t_i+t_0)*lambd));\n",
      "## 1 curie = 3.7*10^(10) disintegrations/sec\n",
      "## Result\n",
      "print'%s %.2e %s %.2f %s '%(\"\\n Equilibrium activity of water due to neutron capture of oxygen = \",alpha,\" disintegrations/cm^3-sec\" and \" \",math.ceil(alpha*10**6/(3.7*10**10)),\" uCi/cm^3 \\n\");\n",
      "\n",
      "\n"
     ],
     "language": "python",
     "metadata": {},
     "outputs": [
      {
       "output_type": "stream",
       "stream": "stdout",
       "text": [
        "\n",
        " Equilibrium activity of water due to neutron capture of oxygen =  9.21e+06   249.00  uCi/cm^3 \n",
        " \n"
       ]
      }
     ],
     "prompt_number": 9
    }
   ],
   "metadata": {}
  }
 ]
}