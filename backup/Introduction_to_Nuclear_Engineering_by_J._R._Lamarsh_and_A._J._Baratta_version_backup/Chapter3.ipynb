{
 "metadata": {
  "name": "",
  "signature": "sha256:a83d41ee1bf2b5cb710f5a4f59fa473688e3a1ab539cb5806ccaff2f0723ab5b"
 },
 "nbformat": 3,
 "nbformat_minor": 0,
 "worksheets": [
  {
   "cells": [
    {
     "cell_type": "heading",
     "level": 1,
     "metadata": {},
     "source": [
      "Chapter3-Interaction of Radiation with Matter "
     ]
    },
    {
     "cell_type": "heading",
     "level": 2,
     "metadata": {},
     "source": [
      "Ex1-pg55"
     ]
    },
    {
     "cell_type": "code",
     "collapsed": false,
     "input": [
      "## Example 3.1\n",
      "import math\n",
      "#calculate the\n",
      "\n",
      "## Given data\n",
      "## 1 barn = 10^(-24) cm^2\n",
      "sigma = 2.6*10**(-24);                   ## Cross section of carbon-12 in cm^2\n",
      "I = 5*10**8;                             ## Intensity of neutron beam in neutrons/cm^2-sec\n",
      "A = 0.1;                                ## Cross sectional area of the beam in cm^2;\n",
      "X = 0.05;                               ## Thickness of the target in cm\n",
      "\n",
      "## 1.\n",
      "## Using the data given in Table I.3, Appendix II for carbon-12\n",
      "N = 0.08*10**(24);                       ## Atom density in atoms/cm^3\n",
      "## Calculation \n",
      "IR = sigma*I*N*A*X;\n",
      "## Result\n",
      "print'%s %.2e %s'%('\\n Total interaction rate = ',IR,' interactions/sec \\n');\n",
      "\n",
      "## 2. \n",
      "no = I*A;                               ## Neutron rate in neutrons/sec\n",
      "## Calculation \n",
      "p = IR/no;\n",
      "print'%s %.2e %s'%('\\n Probability of collision = ',p,' \\n');\n",
      "\n"
     ],
     "language": "python",
     "metadata": {},
     "outputs": [
      {
       "output_type": "stream",
       "stream": "stdout",
       "text": [
        "\n",
        " Total interaction rate =  5.20e+05  interactions/sec \n",
        "\n",
        "\n",
        " Probability of collision =  1.04e-02  \n",
        "\n"
       ]
      }
     ],
     "prompt_number": 1
    },
    {
     "cell_type": "heading",
     "level": 2,
     "metadata": {},
     "source": [
      "Ex2-pg56"
     ]
    },
    {
     "cell_type": "code",
     "collapsed": false,
     "input": [
      "## Example 3.2\n",
      "import math\n",
      "#calculate the\n",
      "\n",
      "## Given data\n",
      "sigmaf = 582.;           ## Fission cross section of U-235 on bombardment of neutron in barn\n",
      "sigmay = 99.;            ## Radiative capture cross section of U-235 on bombardment of neutron in barn\n",
      "## Calculation\n",
      "pf = sigmaf/(sigmaf+sigmay);\n",
      "## Result\n",
      "print'%s %.2f %s %.2f %s '%('\\ n Probability of fission = ',pf,''and ' = ',pf*100,' percent\\n');\n"
     ],
     "language": "python",
     "metadata": {},
     "outputs": [
      {
       "output_type": "stream",
       "stream": "stdout",
       "text": [
        "\\ n Probability of fission =  0.85  85.46  percent\n",
        " \n"
       ]
      }
     ],
     "prompt_number": 2
    },
    {
     "cell_type": "heading",
     "level": 2,
     "metadata": {},
     "source": [
      "Ex3-pg57"
     ]
    },
    {
     "cell_type": "code",
     "collapsed": false,
     "input": [
      "## Example 3.3\n",
      "import math\n",
      "#calculate the\n",
      "\n",
      "## Given data\n",
      "## Using the data given in the example 3.1\n",
      "N = 0.08*10**(24.);                   ## Atom density of Carbon-12 in atoms/cm^3\n",
      "## 1 barn = 10^(-24) cm^2\n",
      "sigma = 2.6*10**(-24);               ## Cross section of carbon-12 in cm^2\n",
      "I = 5*10**8;                         ## Intensity of neutron beam in neutrons/cm^2-sec\n",
      "\n",
      "## 1.\n",
      "## Calculation \n",
      "SIGMAt = N*sigma;\n",
      "## Result\n",
      "print'%s %.2f %s'%('\\n Macroscopic cross section of carbon-12 = ',SIGMAt,' cm^(-1)\\n');\n",
      "\n",
      "##2. \n",
      "## Calculation \n",
      "F= I*SIGMAt;\n",
      "## Result\n",
      "print'%s %.2e %s'%('\\n Collision density in the carbon-12 target = ',F,' collisions/cm^(3)-sec\\n');\n"
     ],
     "language": "python",
     "metadata": {},
     "outputs": [
      {
       "output_type": "stream",
       "stream": "stdout",
       "text": [
        "\n",
        " Macroscopic cross section of carbon-12 =  0.21  cm^(-1)\n",
        "\n",
        "\n",
        " Collision density in the carbon-12 target =  1.04e+08  collisions/cm^(3)-sec\n",
        "\n"
       ]
      }
     ],
     "prompt_number": 3
    },
    {
     "cell_type": "heading",
     "level": 2,
     "metadata": {},
     "source": [
      "Ex4-pg59"
     ]
    },
    {
     "cell_type": "code",
     "collapsed": false,
     "input": [
      "## Example 3.4\n",
      "import math\n",
      "#calculate the\n",
      "\n",
      "## Given data\n",
      "E = 100.;                            ## Neutron energy in keV\n",
      "## Using the data given in Table II.3, for E = 100 keV\n",
      "atom_density = 0.0254*10**(24);      ## Atom density of sodium in atoms/cm^3\n",
      "## 1 barn = 10^(-24) cm^2\n",
      "sigma = 3.4*10**(-24);               ## Microscopic cross section of sodium in cm^2\n",
      "## Calculation\n",
      "SIGMA = atom_density*sigma;\n",
      "lambd = 1./SIGMA;\n",
      "## Result\n",
      "print'%s %.2f %s'%('\\n Macroscopic cross section = ',SIGMA,' cm^(-1)\\n');\n",
      "print'%s %.2f %s'%('\\n Mean Free Path = ',lambd,' cm\\n',);\n"
     ],
     "language": "python",
     "metadata": {},
     "outputs": [
      {
       "output_type": "stream",
       "stream": "stdout",
       "text": [
        "\n",
        " Macroscopic cross section =  0.09  cm^(-1)\n",
        "\n",
        "\n",
        " Mean Free Path =  11.58  cm\n",
        "\n"
       ]
      }
     ],
     "prompt_number": 4
    },
    {
     "cell_type": "heading",
     "level": 2,
     "metadata": {},
     "source": [
      "Ex5-pg60"
     ]
    },
    {
     "cell_type": "code",
     "collapsed": false,
     "input": [
      "## Example 3.5\n",
      "import math\n",
      "#calculate the\n",
      "\n",
      "## Given data\n",
      "atom_density_U235 = 3.48*10**(-4)*10**(24);  ## Atom density of Uranium-235 in atoms/cm^3\n",
      "atom_density_U238 = 0.0483*10**(24);        ## Atom density of Uranium-238 in atoms/cm^3\n",
      "## 1 barn = 10^(-24) cm^2\n",
      "sigmaa_U235 = 680.8*10**(-24);              ## Absorption cross section of Uranium-235 incm^2\n",
      "sigmaa_U238 = 2.7*10**(-24);                ## Absorption cross section of Uranium-238 incm^2\n",
      "## Calculation\n",
      "SIGMAA=(atom_density_U235*sigmaa_U235)+(atom_density_U238*sigmaa_U238);\n",
      "## Result\n",
      "print'%s %.2f %s'%('\\n Macroscopic absorption cross section = ',SIGMAA,' cm^(-1)\\n');\n"
     ],
     "language": "python",
     "metadata": {},
     "outputs": [
      {
       "output_type": "stream",
       "stream": "stdout",
       "text": [
        "\n",
        " Macroscopic absorption cross section =  0.37  cm^(-1)\n",
        "\n"
       ]
      }
     ],
     "prompt_number": 5
    },
    {
     "cell_type": "heading",
     "level": 2,
     "metadata": {},
     "source": [
      "Ex6-pg60"
     ]
    },
    {
     "cell_type": "code",
     "collapsed": false,
     "input": [
      "## Example 3.6\n",
      "import math\n",
      "#calculate the\n",
      "\n",
      "## Given data\n",
      "sigmas_H_1 = 3;                 ## Scattering cross section of Hydrogen in barn at 1 MeV\n",
      "sigmas_O_1 = 8;                 ## Scattering cross section of Oxygen in barn at 1 MeV\n",
      "sigmas_H_th = 21;               ## Scattering cross section of Hydrogen in barn at 0.0253 eV \n",
      "sigmas_O_th = 4;                ## Scattering cross section of Oxygen in barn at 0.0253 eV\n",
      "## Calculation\n",
      "sigmas_H20_1 = (2*sigmas_H_1)+(1*sigmas_O_1);\n",
      "## Result\n",
      "print'%s %.2f %s'%('\\n Scattering cross section of Water at 1 MeV = ',sigmas_H20_1,' b \\n');\n",
      "## The equation used to calculate the scattering cross section at 1 MeV cannot be used at thermal energy. \n",
      "print'%s %.2f %s'%(' Experimental value of scattering cross section of Water at 0.0253 eV = ',103,' b \\n');\n"
     ],
     "language": "python",
     "metadata": {},
     "outputs": [
      {
       "output_type": "stream",
       "stream": "stdout",
       "text": [
        "\n",
        " Scattering cross section of Water at 1 MeV =  14.00  b \n",
        "\n",
        " Experimental value of scattering cross section of Water at 0.0253 eV =  103.00  b \n",
        "\n"
       ]
      }
     ],
     "prompt_number": 6
    },
    {
     "cell_type": "heading",
     "level": 2,
     "metadata": {},
     "source": [
      "Ex7-pg61"
     ]
    },
    {
     "cell_type": "code",
     "collapsed": false,
     "input": [
      "## Example 3.7\n",
      "import math\n",
      "#calculate the\n",
      "\n",
      "## Given data\n",
      "phi = 1*10**(13);                            ## Neutron flux in neutrons/cm^3\n",
      "v = 64000.;                                  ## Volume of research reactor in cm^3\n",
      "sigmaf = 0.1;                               ## Macroscopic fission cross section in cm^(-1)\n",
      "## The energy released per fission reaction is 200 MeV\n",
      "## 1 MeV = 1.6*10^(-13) joule\n",
      "E = 200*1.6*10**(-13);\n",
      "## Calculation \n",
      "fiss_rate = sigmaf*phi;                     ## Fission rate in neutrons/cm^2-sec\n",
      "power_cc = E*fiss_rate/10**6;                ## Reactor power/cc\n",
      "power = power_cc*v;\n",
      "print'%s %.2f %s'%('\\n Reactor power of a research reactor = ',power,' MW\\n');\n"
     ],
     "language": "python",
     "metadata": {},
     "outputs": [
      {
       "output_type": "stream",
       "stream": "stdout",
       "text": [
        "\n",
        " Reactor power of a research reactor =  2.05  MW\n",
        "\n"
       ]
      }
     ],
     "prompt_number": 7
    },
    {
     "cell_type": "heading",
     "level": 2,
     "metadata": {},
     "source": [
      "Ex8-pg63"
     ]
    },
    {
     "cell_type": "code",
     "collapsed": false,
     "input": [
      "## Example 3.8\n",
      "import math\n",
      "#calculate the\n",
      "\n",
      "## 1 barn = 10^(-24) cm^2\n",
      "## From the Figure 3.4 given in the textbook\n",
      "sigmae = 4.8*10**(-24);                ## Experimental cross section of carbon from 0.02eV to 0.01MeV\n",
      "## Assuming spherical shape and elstic scattering\n",
      "R = math.sqrt(sigmae/(4.*math.pi));\n",
      "## Result\n",
      "print'%s %.2e %s'%('\\n Radius of carbon nucleus = ',R,' cm\\n');\n"
     ],
     "language": "python",
     "metadata": {},
     "outputs": [
      {
       "output_type": "stream",
       "stream": "stdout",
       "text": [
        "\n",
        " Radius of carbon nucleus =  6.18e-13  cm\n",
        "\n"
       ]
      }
     ],
     "prompt_number": 8
    },
    {
     "cell_type": "heading",
     "level": 2,
     "metadata": {},
     "source": [
      "Ex9-pg67"
     ]
    },
    {
     "cell_type": "code",
     "collapsed": false,
     "input": [
      "## Example 3.9\n",
      "import math\n",
      "#calculate the\n",
      "\n",
      "## Given data \n",
      "E0 = 0.0253;                                ## Thermal energy in eV\n",
      "## 1 barn = 10^(-24) cm^2\n",
      "sigmay_E0 = 0.332*10**(-24);                 ## Radiative capture cross section at 0.0253 eV in cm^2\n",
      "E = 1.;                                      ## Energy in eV at which radiative cross section is to be found\n",
      "## Calculation \n",
      "sigmay_E = sigmay_E0*math.sqrt(E0/E);\n",
      "## Result\n",
      "## Expressing the result in barn\n",
      "print'%s %.2e %s'%('\\n Radiative capture cross section of hydrogen at 1 eV = ',sigmay_E*10*24,' b\\n');\n"
     ],
     "language": "python",
     "metadata": {},
     "outputs": [
      {
       "output_type": "stream",
       "stream": "stdout",
       "text": [
        "\n",
        " Radiative capture cross section of hydrogen at 1 eV =  1.27e-23  b\n",
        "\n"
       ]
      }
     ],
     "prompt_number": 9
    },
    {
     "cell_type": "heading",
     "level": 2,
     "metadata": {},
     "source": [
      "Ex10-pg72"
     ]
    },
    {
     "cell_type": "code",
     "collapsed": false,
     "input": [
      "## Example 3.10\n",
      "import math\n",
      "#calculate the\n",
      "\n",
      "## Given data\n",
      "E = 1.;                                  ## Energy of neutron in MeV\n",
      "A = 2.;                                  ## Atomic mass number of deuterium\n",
      "v = 45.;                                 ## Scattering angle in degree\n",
      "\n",
      "##  1.\n",
      "## Calculation \n",
      "E_dash = E/(A+1.)**2 *((math.cos (v/57.3)+math.sqrt(A**2-(math.sin(v/57.3))**2))**2);\n",
      "## Result\n",
      "print'%s %.2f %s'%('\\n Energy of scattered neutron = ',E_dash,' MeV \\n');\n",
      "\n",
      "## 2.\n",
      "## Calculation \n",
      "E_A = E-E_dash;\n",
      "## Result\n",
      "print'%s %.2f %s'%('\\n Energy of recoil nucleus = ',E_A,' MeV \\n');\n",
      "\n",
      "## 3.\n",
      "## Calculation \n",
      "deltau = math.log(E/E_dash);\n",
      "## Result\n",
      "print'%s %.2f %s'%('\\n Change in lethargy of neutron on collision = ',deltau,' \\n');\n"
     ],
     "language": "python",
     "metadata": {},
     "outputs": [
      {
       "output_type": "stream",
       "stream": "stdout",
       "text": [
        "\n",
        " Energy of scattered neutron =  0.74  MeV \n",
        "\n",
        "\n",
        " Energy of recoil nucleus =  0.26  MeV \n",
        "\n",
        "\n",
        " Change in lethargy of neutron on collision =  0.30  \n",
        "\n"
       ]
      }
     ],
     "prompt_number": 10
    },
    {
     "cell_type": "heading",
     "level": 2,
     "metadata": {},
     "source": [
      "Ex11-pg74"
     ]
    },
    {
     "cell_type": "code",
     "collapsed": false,
     "input": [
      "## Example 3.11\n",
      "import math\n",
      "#calculate the\n",
      "\n",
      "## Given data\n",
      "phi = 5*10**(12);                                ## Neutron flux in neutrons/cm^2-sec\n",
      "T = 600.;                                        ## Temperature of neutron in degree\n",
      "## Using the data given in Table II.3, Appendix II for indium\n",
      "N = 0.0383*10**(24);                             ## Atom density in atoms/cm^3\n",
      "## 1 barn = 10^(-24) cm^2\n",
      "sigmaa_E0 = 194.*10**(-24);                       ## Microscopic absorption cross section in cm^2\n",
      "SIGMA_E0 = N*sigmaa_E0;                         ## Macroscopic absorption cross section in cm^(-1)\n",
      "## From Table 3.2 \n",
      "ga_600 = 1.15;                                  ## Non 1/v factor at 600 degree celsius\n",
      "## Calculation \n",
      "F_a = ga_600*SIGMA_E0*phi;\n",
      "## Result\n",
      "print'%s %.2e %s'%('\\n Absorption rate of neutrons per cc in indium foil = ',F_a,' neutrons/cm^3-sec \\n');\n"
     ],
     "language": "python",
     "metadata": {},
     "outputs": [
      {
       "output_type": "stream",
       "stream": "stdout",
       "text": [
        "\n",
        " Absorption rate of neutrons per cc in indium foil =  4.27e+13  neutrons/cm^3-sec \n",
        "\n"
       ]
      }
     ],
     "prompt_number": 11
    },
    {
     "cell_type": "heading",
     "level": 2,
     "metadata": {},
     "source": [
      "Ex12-pg84"
     ]
    },
    {
     "cell_type": "code",
     "collapsed": false,
     "input": [
      "## Example 3.12\n",
      "import math\n",
      "#calculate the\n",
      "\n",
      "## Given data\n",
      "N = 120.;                                ## Number of fuel rods\n",
      "P = 100.;                                ## Reactor power in MW\n",
      "t = 1.;                                  ## Estimation time of fuel rod after removal in days\n",
      "T = 365.;                                ## Time of reactor operation\n",
      "## Estimation\n",
      "Activity_total = 1.4*10**6*P*(t**(-0.2)-(t+T)**(-0.2));\n",
      "Activity_one = Activity_total/N;        ## For one fuel rod\n",
      "## Result\n",
      "print'%s %.2f %s'%('\\n The activity of a fuel rod = ',Activity_one,' Ci \\n');\n"
     ],
     "language": "python",
     "metadata": {},
     "outputs": [
      {
       "output_type": "stream",
       "stream": "stdout",
       "text": [
        "\n",
        " The activity of a fuel rod =  808363.56  Ci \n",
        "\n"
       ]
      }
     ],
     "prompt_number": 12
    },
    {
     "cell_type": "heading",
     "level": 2,
     "metadata": {},
     "source": [
      "Ex13-pg86"
     ]
    },
    {
     "cell_type": "code",
     "collapsed": false,
     "input": [
      "## Example 3.13\n",
      "import math\n",
      "#calculate the\n",
      "\n",
      "## Using the data given in Table 3.4 and Table II.2 for uranium\n",
      "v_235 = 2.418;            ## Average number of neutrons released per fission\n",
      "y_235 = 0.72;             ## Isotropic abundance of Uranium-235 on the earth\n",
      "sigmaf_235 = 582.2;       ## Fission cross section of Uranium-235\n",
      "sigmaa_235 = 680.8;       ## Absorption cross section of Uranium-235\n",
      "N_235 = y_235;\n",
      "y_238 = 99.26;            ## Isotropic abundance of Uranium-238 on the earth\n",
      "sigmaa_238 = 2.7;         ## Absorption cross section of Uranium-238\n",
      "## Calculation\n",
      "n = (v_235*y_235*sigmaf_235)/((y_235*sigmaa_235)+(y_238*sigmaa_238));\n",
      "## Result\n",
      "print'%s %.2f %s'%('\\n Eta for natural uranium = ',n,' \\n');\n"
     ],
     "language": "python",
     "metadata": {},
     "outputs": [
      {
       "output_type": "stream",
       "stream": "stdout",
       "text": [
        "\n",
        " Eta for natural uranium =  1.34  \n",
        "\n"
       ]
      }
     ],
     "prompt_number": 13
    },
    {
     "cell_type": "heading",
     "level": 2,
     "metadata": {},
     "source": [
      "Ex14-pg90"
     ]
    },
    {
     "cell_type": "code",
     "collapsed": false,
     "input": [
      "## Example 3.14\n",
      "import math\n",
      "#calculate the\n",
      "\n",
      "## Fission of 1 g of Uranium-235 releases approximately 1 MW/day of energy. \n",
      "## 1 MW/day = 8.64*10^(10) J\n",
      "energy_uranium = 8.64*10**10;\n",
      "\n",
      "## 1. Coal\n",
      "h_coal = 3*10**7;      ## Heat contenet of coal in J/kg\n",
      "## Calculation\n",
      "amt_coal = energy_uranium/h_coal;\n",
      "## Result\n",
      "print'%s %.2f %s %.2f %s %.2f %s '%('\\n Amount of coal required for energy equivalent of fission = ',amt_coal,' kg ' and '\\n ',amt_coal/10**3,'metric tons'  and  '',amt_coal*1.10231/10**3,'short tons\\n');\n",
      "## The result is expressed in all units of commercial importance.\n",
      "\n",
      "## 2. Oil\n",
      "h_oil = 4.3*10**7;      ## Heat contenet of oil in J/kg\n",
      "## Calculation\n",
      "amt_oil = energy_uranium/h_oil;\n",
      "## Result\n",
      "print'%s %.2f %s %.2f %s %.2f %s '%('\\n Amount of oil required for energy equivalent of fission = ',amt_oil,' kg\\n' or'',amt_oil/10**3,'  tons' or '',amt_oil*6.3/10**3,'barrels\\n');\n",
      "## The result is expressed in all units of commercial importance.\n",
      "\n"
     ],
     "language": "python",
     "metadata": {},
     "outputs": [
      {
       "output_type": "stream",
       "stream": "stdout",
       "text": [
        "\n",
        " Amount of coal required for energy equivalent of fission =  2880.00 \n",
        "  2.88  3.17 short tons\n",
        " \n",
        "\n",
        " Amount of oil required for energy equivalent of fission =  2009.30  kg\n",
        " 2.01   tons 12.66 barrels\n",
        " \n"
       ]
      }
     ],
     "prompt_number": 14
    },
    {
     "cell_type": "heading",
     "level": 2,
     "metadata": {},
     "source": [
      "Ex15-pg99"
     ]
    },
    {
     "cell_type": "code",
     "collapsed": false,
     "input": [
      "## Example 3.15\n",
      "import math\n",
      "#calculate the\n",
      "\n",
      "## Given data\n",
      "rho = 10.;                               ## Density of UO2 in g/cm^3\n",
      "mol_wt_UO2 = 238.+(16.*2.);                ## Molecular weight of UO2\n",
      "per_U   =  (238./mol_wt_UO2)*100.;        ## Percent by weight of Uranium\n",
      "per_O = 100.-per_U;                      ## Percent by weight of Oxygen\n",
      "\n",
      "## Calculation \n",
      "##Using the data given in Table II.4 for uranium and oxygen\n",
      "mup_U = 0.0757;                         ## Ratio of mass attenuation coefficient to density of uranium in cm^2/g\n",
      "mup_O = 0.0636;                         ## Ratio of mass attenuation coefficient to density of oxygen in cm^2/g\n",
      "mup = (per_U/100.*mup_U)+(per_O/100.*mup_O);    ## The total ratio of mass attenuation coefficient in cm^2/g\n",
      "mu = mup*rho;\n",
      "## Calculation \n",
      "lambd = 1/mu;\n",
      "## Result\n",
      "print'%s %.2f %s'%('\\n Mass attenuation coefficient of Uranium dioxide (UO2) = ',mu,' cm^(-1) \\n');\n",
      "print'%s %.2f %s'%('\\n Mean free path = ',lambd,' cm \\n');\n",
      "## The answer is marked wrongly in the textbook. But the solution is correctly evaluated.\n"
     ],
     "language": "python",
     "metadata": {},
     "outputs": [
      {
       "output_type": "stream",
       "stream": "stdout",
       "text": [
        "\n",
        " Mass attenuation coefficient of Uranium dioxide (UO2) =  0.74  cm^(-1) \n",
        "\n",
        "\n",
        " Mean free path =  1.35  cm \n",
        "\n"
       ]
      }
     ],
     "prompt_number": 15
    },
    {
     "cell_type": "heading",
     "level": 2,
     "metadata": {},
     "source": [
      "Ex16-pg100"
     ]
    },
    {
     "cell_type": "code",
     "collapsed": false,
     "input": [
      "## Example 3.16\n",
      "import math\n",
      "#calculate the\n",
      "\n",
      "## Given data\n",
      "E = 0.8;                    ## Average gamma ray energy in MeV\n",
      "I = 3*10**(11);              ## Intensity of gamma rays incident on the container in gamma rays/cm^2-sec\n",
      "## Using the data given in Table II.5 for iron at 0.8 MeV\n",
      "mup_iron = 0.0274;          ## Ratio of mass attenuation coefficient to density of iron in cm^2/g\n",
      "## Calculation \n",
      "dep_rate = E*I*mup_iron;\n",
      "## Expressing the result in SI units\n",
      "## 1 MeV = 1.6*10^(-13) J\n",
      "## 1 kg = 1000 g\n",
      "dep_rate_SI = dep_rate*(1.6*10**(-13)*1000.);\n",
      "print'%s %.2e %s %.2f %s '%('\\n Rate of energy deposited = ',dep_rate,' MeV/g-sec' and  '',dep_rate_SI,' J/kg-sec \\n');\n"
     ],
     "language": "python",
     "metadata": {},
     "outputs": [
      {
       "output_type": "stream",
       "stream": "stdout",
       "text": [
        "\n",
        " Rate of energy deposited =  6.58e+09  1.05  J/kg-sec \n",
        " \n"
       ]
      }
     ],
     "prompt_number": 17
    },
    {
     "cell_type": "heading",
     "level": 2,
     "metadata": {},
     "source": [
      "Ex17-pg106"
     ]
    },
    {
     "cell_type": "code",
     "collapsed": false,
     "input": [
      "## Example 3.17\n",
      "import math\n",
      "#calculate the\n",
      "\n",
      "## Given data \n",
      "E_max = 1.39;                   ## Maximum energy of beta rays in MeV\n",
      "## Calculation \n",
      "R_max = 0.412*E_max**(1.265-(0.0954*math.log(E_max)));\n",
      "## Result\n",
      "print'%s %.2f %s'%('\\n Maximum distance of beta rays traversed = ',R_max,' cm \\n');\n"
     ],
     "language": "python",
     "metadata": {},
     "outputs": [
      {
       "output_type": "stream",
       "stream": "stdout",
       "text": [
        "\n",
        " Maximum distance of beta rays traversed =  0.62  cm \n",
        "\n"
       ]
      }
     ],
     "prompt_number": 18
    }
   ],
   "metadata": {}
  }
 ]
}