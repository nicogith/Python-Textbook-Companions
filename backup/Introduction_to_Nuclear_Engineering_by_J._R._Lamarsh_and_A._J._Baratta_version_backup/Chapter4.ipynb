{
 "metadata": {
  "name": "",
  "signature": "sha256:880d5b96d7a6ce9a20a4fd5f1bbd8bee89ba44d4461c16f4ef09e18728323ef7"
 },
 "nbformat": 3,
 "nbformat_minor": 0,
 "worksheets": [
  {
   "cells": [
    {
     "cell_type": "heading",
     "level": 1,
     "metadata": {},
     "source": [
      "Chapter4-Nuclear Reactors and Nuclear Power"
     ]
    },
    {
     "cell_type": "heading",
     "level": 2,
     "metadata": {},
     "source": [
      "Ex1-pg121"
     ]
    },
    {
     "cell_type": "code",
     "collapsed": false,
     "input": [
      "## Example 4.1\n",
      "import math\n",
      "#calculate the\n",
      "\n",
      "## Given data\n",
      "## Number of neutrons absorbed by Uranium-238 in resonances for every neutron absorbed in Uranium-235\n",
      "n_resonance = 0.254;\n",
      "## Number of neutrons absorbed by Uranium-238 at thermal energy for every neutron absorbed in Uranium-235\n",
      "n_th = 0.64;\n",
      "m = 1;                  ## Amount of Uranium-235 consumed in kg\n",
      "A_U = 235;              ## Atomic mass number of Uranium-235\n",
      "A_Pu = 239;             ## Atomic mass number of Plutonium-239\n",
      "\n",
      "## 1.\n",
      "## Calculation \n",
      "C = n_resonance+n_th;\n",
      "## Result\n",
      "print'%s %.2f %s'%('\\n Conversion ratio of the reactor = ',C,' \\n');\n",
      "\n",
      "## 2. \n",
      "## Calculation \n",
      "amt_Pu = m*C*A_Pu/A_U;\n",
      "## Result\n",
      "print'%s %.2f %s'%('\\n Amount of Plutonium-239 produced in the reactor = ',amt_Pu,' kg \\n');\n"
     ],
     "language": "python",
     "metadata": {},
     "outputs": [
      {
       "output_type": "stream",
       "stream": "stdout",
       "text": [
        "\n",
        " Conversion ratio of the reactor =  0.89  \n",
        "\n",
        "\n",
        " Amount of Plutonium-239 produced in the reactor =  0.91  kg \n",
        "\n"
       ]
      }
     ],
     "prompt_number": 1
    },
    {
     "cell_type": "heading",
     "level": 2,
     "metadata": {},
     "source": [
      "Ex2-pg127"
     ]
    },
    {
     "cell_type": "code",
     "collapsed": false,
     "input": [
      "## Example 4.2\n",
      "import math\n",
      "#calculate the\n",
      "\n",
      "## Given data\n",
      "wP0 = 1.;                ## Total fuel consumption rate in terms of kg/day\n",
      "M = 500.;                ## Amount of Plutonium-239 in kg at startup of the reactor\n",
      "breeding_gain = 0.15;   ## Breeding gain of the reactor\n",
      "\n",
      "## 1.\n",
      "print'%s %.2f %s'%(\" The Fast breeder reactor produces \",breeding_gain,\"kg of plutonium-239 more for every kilogram consumed \\n\");\n",
      "## Calculation\n",
      "## 1 year = 365 days\n",
      "production_rate = math.ceil(breeding_gain*365);\n",
      "## Result\n",
      "print'%s %.2f %s %.2f %s '%(\"\\n Production rate of plutonium-239 = \",breeding_gain,\" kg/day\"and \" = \",production_rate,\" kg/year\");\n",
      "\n",
      "## 2.\n",
      "## Calculation \n",
      "t_Dl = M/production_rate;\n",
      "t_De = math.log(2)*t_Dl;\n",
      "## Result\n",
      "print'%s %.2f %s'%(\" \\n Linear doubling time of plutonium fuel in the reactor = \",t_Dl,\" years \\n\");\n",
      "print'%s %.2f %s'%(\" \\n Exponential doubling time of plutonium fuel in the reactor = \",t_De,\" years \\n\");\n"
     ],
     "language": "python",
     "metadata": {},
     "outputs": [
      {
       "output_type": "stream",
       "stream": "stdout",
       "text": [
        " The Fast breeder reactor produces  0.15 kg of plutonium-239 more for every kilogram consumed \n",
        "\n",
        "\n",
        " Production rate of plutonium-239 =  0.15  =  55.00  kg/year \n",
        " \n",
        " Linear doubling time of plutonium fuel in the reactor =  9.09  years \n",
        "\n",
        " \n",
        " Exponential doubling time of plutonium fuel in the reactor =  6.30  years \n",
        "\n"
       ]
      }
     ],
     "prompt_number": 2
    },
    {
     "cell_type": "heading",
     "level": 2,
     "metadata": {},
     "source": [
      "Ex3-pg128"
     ]
    },
    {
     "cell_type": "code",
     "collapsed": false,
     "input": [
      "## Example 4.3\n",
      "import math\n",
      "#calculate the\n",
      "\n",
      "## Given data\n",
      "power = 3300.;         ## Reactor power in MW\n",
      "time = 750.;           ## Reactor operation time in days\n",
      "amt_UO2 = 98.;         ## Amount of Uranium dioxide (UO2) in metric tons\n",
      "atwt_U = 238.;         ## As the enrichment of Uranium-235 is 3 w/o the majority portion is Uranium-238\n",
      "molwt_O = 16.;          ## Molecular weight of Oxygen\n",
      "\n",
      "\n",
      "## 1.\n",
      "amt_U = amt_UO2*atwt_U/(atwt_U+2*molwt_O);  ## Amount of uranium in tonne\n",
      "total_burnup = power*time;                  ## Total burnup in MWd\n",
      "## Calculation \n",
      "specific_burnup = total_burnup/amt_U;\n",
      "## Result\n",
      "print'%s %.2f %s'%(\" \\n Specific burnup = \",specific_burnup,\" MWd/tonne \\n\");\n",
      "\n",
      "## 2.\n",
      "## Due to fission of 1.05 g of Uranium-235, 1 MWd of energy is released.\n",
      "m = 1.05;\n",
      "P = 10**6;\n",
      "maxth_burnup = P/m;                         ## Theoritical maximum burnup \n",
      "## Calculation of Fractional burnup\n",
      "bet = specific_burnup/maxth_burnup;\n",
      "## Result\n",
      "print'%s %.2f %s'%(\" \\n Fractional burnup = \",bet*100,\" percent \\n\");\n",
      "## Due to approximation of specific burnup value, there is a slight change in fractional burnup value as compared to the textbook value.\n"
     ],
     "language": "python",
     "metadata": {},
     "outputs": [
      {
       "output_type": "stream",
       "stream": "stdout",
       "text": [
        " \n",
        " Specific burnup =  28650.75  MWd/tonne \n",
        "\n",
        " \n",
        " Fractional burnup =  3.01  percent \n",
        "\n"
       ]
      }
     ],
     "prompt_number": 3
    },
    {
     "cell_type": "heading",
     "level": 2,
     "metadata": {},
     "source": [
      "Ex4-pg133"
     ]
    },
    {
     "cell_type": "code",
     "collapsed": false,
     "input": [
      "## Example 4.4\n",
      "import math\n",
      "#calculate the\n",
      "\n",
      "## Given data\n",
      "ratpower = 1075.;                ## Output rated electrical power in MWe of the reactor\n",
      "delpower_yr = 255000.;           ## Net output power delivered in one year in terms of MWd\n",
      "time_refuel = 28.;               ## Number of days the plant was shutdown for refuelling\n",
      "time_repairs = 45.;              ## Number of days the plant was shutdown for repairs\n",
      "time_convrepairs = 18.;          ## Number of days the plant was shutdown for conventional repairs\n",
      "\n",
      "## 1.\n",
      "## 1 year = 365 days\n",
      "ratpower_yr = ratpower*365.;      ## Net output rated power in one year in terms of MWd\n",
      "## Calculation\n",
      "cap_factor = delpower_yr/ratpower_yr;\n",
      "## Result\n",
      "print'%s %.2f %s'%(\" \\n Plant capacity factor = \",math.ceil(cap_factor*100),\" percent\\n\");\n",
      "\n",
      "## 2.\n",
      "## Number of days the plant was shutdown in one year \n",
      "total_shutdown = time_refuel+time_repairs+time_convrepairs;\n",
      "## Number of days the plant was operable in one year\n",
      "total_operation = 365.-total_shutdown;\n",
      "## Calculation\n",
      "ava_factor = total_operation/365.;\n",
      "## Result\n",
      "print'%s %.2f %s'%(\" \\n Plant availability factor = \",ava_factor*100,\" percent\\n\");\n"
     ],
     "language": "python",
     "metadata": {},
     "outputs": [
      {
       "output_type": "stream",
       "stream": "stdout",
       "text": [
        " \n",
        " Plant capacity factor =  65.00  percent\n",
        "\n",
        " \n",
        " Plant availability factor =  75.07  percent\n",
        "\n"
       ]
      }
     ],
     "prompt_number": 4
    },
    {
     "cell_type": "heading",
     "level": 2,
     "metadata": {},
     "source": [
      "Ex5-pg195"
     ]
    },
    {
     "cell_type": "code",
     "collapsed": false,
     "input": [
      "## Example 4.5\n",
      "import math\n",
      "#calculate the\n",
      "\n",
      "## Given data \n",
      "t = 30.;                         ## Time of uranium sufficiency in years \n",
      "## Assuming once through Light Water Reactor (LWR)fuel cycle\n",
      "U_LWR = 0.0055;                 ## Uranium Utilization factor for LWR\n",
      "## Assuming once through Liquid Metal cooled Fast Breeder Reactor (LMFBR) fuel cycle\n",
      "U_LMFBR = 0.67;                 ## Uranium Utilization factor for LMFBR\n",
      "## Estimation \n",
      "est_time = 30.*U_LMFBR/U_LWR;\n",
      "## Result\n",
      "print'%s %.2f %s'%(\"The time for which Uranium would fuel LMFBR = \",math.ceil(est_time),\" years \\n\");\n"
     ],
     "language": "python",
     "metadata": {},
     "outputs": [
      {
       "output_type": "stream",
       "stream": "stdout",
       "text": [
        "The time for which Uranium would fuel LMFBR =  3655.00  years \n",
        "\n"
       ]
      }
     ],
     "prompt_number": 5
    },
    {
     "cell_type": "heading",
     "level": 2,
     "metadata": {},
     "source": [
      "Ex6-pg204"
     ]
    },
    {
     "cell_type": "code",
     "collapsed": false,
     "input": [
      "## Example 4.6\n",
      "import math\n",
      "#calculate the\n",
      "\n",
      "## Given data\n",
      "A_U = 238.;              ## Atomic Mass number of Uranium\n",
      "A_O = 16.;               ## Atomic Mass number of Oxygen\n",
      "amt_UO2 = 33000.;        ## Amount of Uranium dioxide (UO2) present in kilogram(kg)\n",
      "x_P = 0.032;            ## Enrichment of 3.2 w/o uranium product\n",
      "x_T = 0.002;            ## Enrichemnt of 0.2 w/o residual tails\n",
      "## From Figure 4.45\n",
      "x_F = 0.00711;          ## Enrichemnt of 0.711 w/o feed\n",
      "\n",
      "## 1.\n",
      "## Estimation of enriched uranium in kg\n",
      "M_P = A_U*amt_UO2/(A_U+2*A_O);\n",
      "## Estimation of amount of Uranium feed in kg\n",
      "M_F = ((x_P-x_T)/(x_F-x_T))*M_P;\n",
      "## Result\n",
      "print'%s %.2f %s'%(\" \\n The amount of uranium feed required per reload = \",math.ceil(M_F),\" kg \\n\");\n",
      "\n",
      "## 2.\n",
      "V_x_P = (1.-2.*x_P)*math.log((1.-x_P)/x_P);         ## Value function of uranium product with enrichemnt of 3.2 w/o\n",
      "V_x_F = (1.-2.*x_F)*math.log((1.-x_F)/x_F);         ## Value function of feed with enrichemnt of 0.711 w/o\n",
      "V_x_T = (1.-2.*x_T)*math.log((1.-x_T)/x_T);         ## Value function of tallings with enrichemnt of 0.2 w/o\n",
      "rate_SWU = 130.75;                          ## Enrichment cost in dollars per SWU\n",
      "## Calculation \n",
      "SWU = M_P*(V_x_P-V_x_T)-M_F*(V_x_F-V_x_T);  ## Separative Work (SWU) in kg\n",
      "enrich_cost = math.ceil(SWU)*rate_SWU;           ## Enrichment cost in dollars\n",
      "## Result\n",
      "print'%s %.2f %s'%(\"\\n The enrichment cost = $ \",math.ceil(enrich_cost),\" \\n\");\n",
      "## Due to approximation of Separative Work Unit(SWU), there is a difference in the value of enrichment cost on comparison with the textbook value.\n",
      "\n"
     ],
     "language": "python",
     "metadata": {},
     "outputs": [
      {
       "output_type": "stream",
       "stream": "stdout",
       "text": [
        " \n",
        " The amount of uranium feed required per reload =  170777.00  kg \n",
        "\n",
        "\n",
        " The enrichment cost = $  18052522.00  \n",
        "\n"
       ]
      }
     ],
     "prompt_number": 6
    }
   ],
   "metadata": {}
  }
 ]
}