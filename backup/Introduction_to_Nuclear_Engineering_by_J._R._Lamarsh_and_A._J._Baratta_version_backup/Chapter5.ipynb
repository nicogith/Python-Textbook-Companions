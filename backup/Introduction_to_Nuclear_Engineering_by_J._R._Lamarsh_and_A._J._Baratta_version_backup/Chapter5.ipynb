{
 "metadata": {
  "name": "",
  "signature": "sha256:404232c11852d8073965cae8d34dbfea00044f853a4ec60d9b13da2ddbfc3adb"
 },
 "nbformat": 3,
 "nbformat_minor": 0,
 "worksheets": [
  {
   "cells": [
    {
     "cell_type": "heading",
     "level": 1,
     "metadata": {},
     "source": [
      "Chapter5-Neutron Diffusion and Moderation "
     ]
    },
    {
     "cell_type": "heading",
     "level": 2,
     "metadata": {},
     "source": [
      "Ex2-pg234"
     ]
    },
    {
     "cell_type": "code",
     "collapsed": false,
     "input": [
      "## Example 5.2\n",
      "import math\n",
      "#calculate the\n",
      "\n",
      "## Given data\n",
      "## 1 barn = 10^(-24) cm^2\n",
      "sigma_s = 4.8*10**(-24)          ## Scattering cross section of carbon in cm^2\n",
      "A_C = 12.;                       ## Atomic Mass number for carbon-12\n",
      "E = 1.;                          ## Energy of carbon-12 atom in eV\n",
      "## Using the data given in Table II.3, for carbon (graphite) at energy 1 eV\n",
      "N = 0.08023*10**(24);            ## Atom density in terms of atom/cm^3\n",
      "mu_bar = 2./(3.*A_C);             ## Average value of the cosine of the angle at which neutrons are scattered in the med/ium\n",
      "SIGMA_s = N*sigma_s             ## Macroscopic scattering cross section of carbon-12\n",
      "## Calculation\n",
      "D = 1/(3.*SIGMA_s*(1.-mu_bar));\n",
      "## Result\n",
      "print'%s %.2f %s'%('\\n Diffusion coefficeint of graphite at 1 eV = ',D,' cm \\n');\n",
      "\n",
      "\n",
      "\n",
      "\n"
     ],
     "language": "python",
     "metadata": {},
     "outputs": []
    },
    {
     "cell_type": "heading",
     "level": 2,
     "metadata": {},
     "source": [
      "Ex5-pg250"
     ]
    },
    {
     "cell_type": "code",
     "collapsed": false,
     "input": [
      "## Example 5.5\n",
      "import math\n",
      "#calculate the\n",
      "\n",
      "## Given data\n",
      "phi1 = 6*10**(14);               ## Neutron flux of Group 1\n",
      "phi2 = 1*10**(15);               ## Neutron flux of Group 2\n",
      "phi3 = 3*10**(15);               ## Neutron flux of Group 3\n",
      "\n",
      "## 1.\n",
      "## Using the data given in Table II.3, for atom density of sodium\n",
      "N = 0.02541*10**(24);            ## Atom density in terms of atom/cm^3\n",
      "## Using the data given for sigmay (Microscopic radiative capture cross section) in Table II.3,\n",
      "## 1 barn = 10^(-24) cm^2\n",
      "sigmay1 = 0.0005*10**(-24);      ## Microscopic gamma cross section of Group 1\n",
      "sigmay2 = 0.001*10**(-24);       ## Microscopic gamma cross section of Group 2\n",
      "sigmay3 = 0.001*10**(-24);       ## Microscopic gamma cross section of Group 3\n",
      "## Calculation \n",
      "F_a = N*((sigmay1*phi1)+(sigmay2*phi2)+(sigmay3*phi3));\n",
      "## Result\n",
      "print'%s %.2e %s'%('\\n Total absorption rate for three groups = ',F_a,' neutrons/cm^3-sec \\n');\n",
      "\n",
      "## 2.\n",
      "## Calculation\n",
      "sigmag_12 = 0.24*10**(-24);        ## Microscopic scattereing cross section of neutrons from Group 1 to Group 2\n",
      "F_12 = N*sigmag_12*phi1;\n",
      "## Result\n",
      "print'%s %.2e %s'%('\\n Neutron scattering rate from the first to second group = ',F_12,' neutrons/cm^3-sec \\n');\n",
      "\n"
     ],
     "language": "python",
     "metadata": {},
     "outputs": [
      {
       "output_type": "stream",
       "stream": "stdout",
       "text": [
        "\n",
        " Total absorption rate for three groups =  1.09e+11  neutrons/cm^3-sec \n",
        "\n",
        "\n",
        " Neutron scattering rate from the first to second group =  3.66e+12  neutrons/cm^3-sec \n",
        "\n"
       ]
      }
     ],
     "prompt_number": 2
    },
    {
     "cell_type": "heading",
     "level": 2,
     "metadata": {},
     "source": [
      "Ex6-pg255"
     ]
    },
    {
     "cell_type": "code",
     "collapsed": false,
     "input": [
      "## Example 5.6\n",
      "import math\n",
      "#calculate the\n",
      "\n",
      "## Given data\n",
      "S = 10**7;             ## Strength of neutron source in neutrons/sec\n",
      "r = 15.;               ## Distance over which neutron flux is to be calculated in cm\n",
      "## Using the data given in Table 5.2,\n",
      "L_T = 2.85;           ## Thermal diffusion length in cm\n",
      "D_bar = 0.16;         ## Diffusion coefficient in cm\n",
      "## Calculation\n",
      "phi_T = S*math.exp(-r/L_T)/(4.*math.pi*D_bar*r);\n",
      "## Result\n",
      "print'%s %.2f %s'%('\\n Neutron flux = ',phi_T,' neutrons/cm^2-sec \\n');\n"
     ],
     "language": "python",
     "metadata": {},
     "outputs": [
      {
       "output_type": "stream",
       "stream": "stdout",
       "text": [
        "\n",
        " Neutron flux =  1717.19  neutrons/cm^2-sec \n",
        "\n"
       ]
      }
     ],
     "prompt_number": 3
    },
    {
     "cell_type": "heading",
     "level": 2,
     "metadata": {},
     "source": [
      "Ex7-pg256"
     ]
    },
    {
     "cell_type": "code",
     "collapsed": false,
     "input": [
      "## Example 5.7\n",
      "import math\n",
      "#calculate the\n",
      "\n",
      "## Given data\n",
      "T_F = 500.;                  ## Temeperature in Fahrenheit\n",
      "P = 2000.;                   ## Pressure in psi\n",
      "rho = 49.6;                 ## Density in terms of lb/ft^3\n",
      "## Converting the given temperature from Fahrenheit to Celsius\n",
      "T_C = (5./9.)*(T_F-32.);\n",
      "## Converting the temperature from Celsius to Kelvin scale\n",
      "T_K = 273.+T_C;\n",
      "\n",
      "## Using the data given in Table 5.2,\n",
      "D_bar_0 = 0.16;             ## Diffusion coefficient at 293 K\n",
      "rho_0 = 62.4;               ## Density at 293 K in terms of lb/ft^3\n",
      "L_T2_0 = 8.1;               ## Diffusion area at 293 K in cm^2\n",
      "T_0 = 293.;                  ## Standard Temperature in kelvin\n",
      "m = 0.47;                   ## Material specific constant\n",
      "## Calculation\n",
      "D_bar = D_bar_0*(rho_0/rho)*(T_K/T_0)**m;\n",
      "L_T2 = L_T2_0*(rho_0/rho)**2*(T_K/T_0)**(m+1./2.);\n",
      "## Result\n",
      "print'%s %.2f %s'%('\\n Diffusion coefficient of ordinary water = ',D_bar,' cm \\n');\n",
      "print'%s %.2f %s'%('\\n Diffusion area of ordinary water =',L_T2,' cm^2 \\n');\n"
     ],
     "language": "python",
     "metadata": {},
     "outputs": [
      {
       "output_type": "stream",
       "stream": "stdout",
       "text": [
        "\n",
        " Diffusion coefficient of ordinary water =  0.27  cm \n",
        "\n",
        "\n",
        " Diffusion area of ordinary water = 22.91  cm^2 \n",
        "\n"
       ]
      }
     ],
     "prompt_number": 4
    }
   ],
   "metadata": {}
  }
 ]
}