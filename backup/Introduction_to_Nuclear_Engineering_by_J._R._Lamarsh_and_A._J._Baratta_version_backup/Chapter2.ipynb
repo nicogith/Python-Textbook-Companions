{
 "metadata": {
  "name": "",
  "signature": "sha256:b88f8253908896ceb538355ebb97029247893ecdea7fc487afd787ce682bc949"
 },
 "nbformat": 3,
 "nbformat_minor": 0,
 "worksheets": [
  {
   "cells": [
    {
     "cell_type": "heading",
     "level": 1,
     "metadata": {},
     "source": [
      "Chapter2-Atomic and Nuclear Physics "
     ]
    },
    {
     "cell_type": "heading",
     "level": 2,
     "metadata": {},
     "source": [
      "Ex1-pg8"
     ]
    },
    {
     "cell_type": "code",
     "collapsed": false,
     "input": [
      "## Example 2.1\n",
      "import math\n",
      "#determine\n",
      "## Given data\n",
      "atom_h = 6.6*10**24;                      ## Number of atoms in Hydrogen\n",
      "## Using the data given in Table II.2, Appendix II for isotropic abundance of deuterium\n",
      "isoab_H2 = 0.015;                        ## Isotropic abundance of deuterium\n",
      "## Calculation\n",
      "totatom_d=(isoab_H2*atom_h)/100.;\n",
      "## Result\n",
      "print\"%s %.2e %s \"%('\\n Number of deuterium atoms = ',totatom_d,'');\n",
      "\n"
     ],
     "language": "python",
     "metadata": {},
     "outputs": [
      {
       "output_type": "stream",
       "stream": "stdout",
       "text": [
        "\n",
        " Number of deuterium atoms =  9.90e+20  \n"
       ]
      }
     ],
     "prompt_number": 1
    },
    {
     "cell_type": "heading",
     "level": 2,
     "metadata": {},
     "source": [
      "Ex2-pg9"
     ]
    },
    {
     "cell_type": "code",
     "collapsed": false,
     "input": [
      "## Example 2.2\n",
      "import math\n",
      "#determine\n",
      "## Given data \n",
      "## Using the data given in the example 2.2\n",
      "atwt_O16 = 15.99492;                      ## Atomic weight of O-16 isotope\n",
      "isoab_O16 = 99.759;                       ## Abundance of O-16 isotope\n",
      "atwt_O17 = 16.99913;                      ## Atomic weight of O-17 isotope\n",
      "isoab_O17 = 0.037;                        ## Abundance of O-17 isotope\n",
      "atwt_O18 = 17.99916;                      ## Atomic weight of O-18 isotope\n",
      "isoab_O18 = 0.204;                        ## Abundance of O-18 isotope\n",
      "## Calculation\n",
      "atwt_O=(isoab_O16*atwt_O16 + isoab_O17*atwt_O17 + isoab_O18*atwt_O18)/100.;\n",
      "## Result\n",
      "print\"%s %.2f %s \"%('\\n Atomic Weight of Oxygen = ',atwt_O,'');\n",
      "\n"
     ],
     "language": "python",
     "metadata": {},
     "outputs": [
      {
       "output_type": "stream",
       "stream": "stdout",
       "text": [
        "\n",
        " Atomic Weight of Oxygen =  16.00  \n"
       ]
      }
     ],
     "prompt_number": 2
    },
    {
     "cell_type": "heading",
     "level": 2,
     "metadata": {},
     "source": [
      "Ex3-pg12"
     ]
    },
    {
     "cell_type": "code",
     "collapsed": false,
     "input": [
      "## Example 2.3\n",
      "import math\n",
      "#determine\n",
      "## Given data\n",
      "me = 9.1095*10**(-28);                     ## Mass of electron in grams\n",
      "c = 2.9979*10**10;                         ## Speed of light in vacuum in cm/sec\n",
      "## Calculation\n",
      "rest_mass = me*c**2;\n",
      "## Result\n",
      "print\"%s %.2e %s \"%('\\n Rest mass energy of electron = ',rest_mass,' ergs\\n');\n",
      "print('Expressing the result in joules')\n",
      "## 1 Joule = 10^(-7)ergs\n",
      "rest_mass_j = rest_mass*10**(-7);\n",
      "print\"%s %.2e %s \"%('\\n Rest mass energy of electron = ',rest_mass_j,' joules\\n');\n",
      "print('Expressing the result in MeV')\n",
      "## 1 MeV = 1.6022*10^(-13)joules\n",
      "rest_mass_mev = rest_mass_j/(1.6022*10**(-13));\n",
      "print\"%s %.2f %s \"%('\\n Rest mass energy of electron = ',rest_mass_mev,' MeV\\n');\n"
     ],
     "language": "python",
     "metadata": {},
     "outputs": [
      {
       "output_type": "stream",
       "stream": "stdout",
       "text": [
        "\n",
        " Rest mass energy of electron =  8.19e-07  ergs\n",
        " \n",
        "Expressing the result in joules\n",
        "\n",
        " Rest mass energy of electron =  8.19e-14  joules\n",
        " \n",
        "Expressing the result in MeV\n",
        "\n",
        " Rest mass energy of electron =  0.51  MeV\n",
        " \n"
       ]
      }
     ],
     "prompt_number": 3
    },
    {
     "cell_type": "heading",
     "level": 2,
     "metadata": {},
     "source": [
      "Ex4-pg12"
     ]
    },
    {
     "cell_type": "code",
     "collapsed": false,
     "input": [
      "## Example 2.4\n",
      "\n",
      "import math\n",
      "#Calculate the \n",
      "## From the result of Example 2.3\n",
      "## Rest mass energy of electron = 0.5110 MeV\n",
      "rest_mass_mev = 0.5110;\n",
      "me = 9.1095*10**(-28);                           ## Mass of electron in grams\n",
      "## From standard data table\n",
      "## 1 amu = 1.6606*10^(-24)g\n",
      "amu = 1.6606*10**(-24);\n",
      "## Calculation\n",
      "en_eq = (amu/me)*rest_mass_mev;\n",
      "## Result\n",
      "print'%s %.2f %s'%('\\n Energy equivalent of one amu = ',en_eq,' MeV\\n');\n",
      "\n",
      "\n"
     ],
     "language": "python",
     "metadata": {},
     "outputs": [
      {
       "output_type": "stream",
       "stream": "stdout",
       "text": [
        "\n",
        " Energy equivalent of one amu =  931.52  MeV\n",
        "\n"
       ]
      }
     ],
     "prompt_number": 4
    },
    {
     "cell_type": "heading",
     "level": 2,
     "metadata": {},
     "source": [
      "Ex5-pg16"
     ]
    },
    {
     "cell_type": "code",
     "collapsed": false,
     "input": [
      "## Example 2.5\n",
      "\n",
      "import math\n",
      "#Calculate the \n",
      "## From the standard data table\n",
      "h = 6.626*10**(-34);                         ## Planck's constant in J-s\n",
      "c = 3*10**8;                                 ## Speed of light in vacuum in m/sec\n",
      "## Given data \n",
      "print('The ionization energy of K shell electron in Lead atom is 88keV');\n",
      "E = 88*10**3;                                ## Ionization energy  in keV\n",
      "## Expressing the result in joules by using 1 eV = 1.6022*10^(-19) J\n",
      "E = E*1.6022*10**(-19);\n",
      "print(\"From Planck\\''s law of photoelectric effect \\n Energy = (h*c)/lambda\\n\");\n",
      "## Calculation \n",
      "lambd = (h*c)/E; \n",
      "## Result\n",
      "print'%s %.3e %s'%('\\n Wavelength of radiation = ',lambd,' m\\n');\n"
     ],
     "language": "python",
     "metadata": {},
     "outputs": [
      {
       "output_type": "stream",
       "stream": "stdout",
       "text": [
        "The ionization energy of K shell electron in Lead atom is 88keV\n",
        "From Planck''s law of photoelectric effect \n",
        " Energy = (h*c)/lambda\n",
        "\n",
        "\n",
        " Wavelength of radiation =  1.410e-11  m\n",
        "\n"
       ]
      }
     ],
     "prompt_number": 5
    },
    {
     "cell_type": "heading",
     "level": 2,
     "metadata": {},
     "source": [
      "Ex6-pg25"
     ]
    },
    {
     "cell_type": "code",
     "collapsed": false,
     "input": [
      "## Example 2.6\n",
      "import math\n",
      "#Calculate the \n",
      "## Given data\n",
      "T12 = 64.8;                                           ## Half life = 64.8 hour\n",
      "lambd = 0.693/T12;                                   ## Decay constant in hour^(-1)\n",
      "t = 12.;                                               ## Analysis time of gold sample in hours\n",
      "alpha = 0.9;                                          ## Activity of gold sample after analysis time\n",
      "\n",
      "## 1. \n",
      "## Calculation\n",
      "R = alpha/(1-math.exp(-lambd*t));\n",
      "## Result\n",
      "print'%s %.2f %s'%('\\n Theoretical maximum activity = ',R,' curie (Ci) \\n');\n",
      "\n",
      "## 2. \n",
      "## Calculation\n",
      "## The expression to calculate 80 percent of maximum activity is \\n 0.8R = R*(1-exp(-lambda*t)) \n",
      "t = -math.log(0.2)/lambd;\n",
      "## Result\n",
      "print'%s %.2f %s'%('\\n Time to reach 80 percent of maximum activity = ',t,' hours \\n');\n"
     ],
     "language": "python",
     "metadata": {},
     "outputs": [
      {
       "output_type": "stream",
       "stream": "stdout",
       "text": [
        "\n",
        " Theoretical maximum activity =  7.47  curie (Ci) \n",
        "\n",
        "\n",
        " Time to reach 80 percent of maximum activity =  150.49  hours \n",
        "\n"
       ]
      }
     ],
     "prompt_number": 6
    },
    {
     "cell_type": "heading",
     "level": 2,
     "metadata": {},
     "source": [
      "Ex7-pg29"
     ]
    },
    {
     "cell_type": "code",
     "collapsed": false,
     "input": [
      "## Example 2.7\n",
      "import math\n",
      "#Calculate the \n",
      "print('The reactants are Nitrogen and neutron')\n",
      "## The total atomic number of reactants \n",
      "Z_reactant = 7.+0.;\n",
      "## The total atomic mass number of reactants\n",
      "A_reactant = 14.+1.;\n",
      "print('One of the known product is Hydrogen')\n",
      "Z_H = 1.;                            ## The atomic number of Hydrogen\n",
      "A_H = 1.;                            ## The atomic mass number of Hydrogen \n",
      "## The atomic number of unknown element\n",
      "Z_unknown = Z_reactant-Z_H;\n",
      "## The atomic mass number of unknown element \n",
      "A_unknown = A_reactant-A_H;\n",
      "## Result\n",
      "print'%s %.2f %s %.2f %s '%(\" \\n For unknown element the atomic number is \",Z_unknown,\" and atomic mass number is \",A_unknown,\" \\n\");\n",
      "## From periodic table \n",
      "print('The element corresponds to Carbon-14');\n",
      "\n",
      "\n",
      "\n"
     ],
     "language": "python",
     "metadata": {},
     "outputs": [
      {
       "output_type": "stream",
       "stream": "stdout",
       "text": [
        "The reactants are Nitrogen and neutron\n",
        "One of the known product is Hydrogen\n",
        " \n",
        " For unknown element the atomic number is  6.00  and atomic mass number is  14.00  \n",
        " \n",
        "The element corresponds to Carbon-14\n"
       ]
      }
     ],
     "prompt_number": 7
    },
    {
     "cell_type": "heading",
     "level": 2,
     "metadata": {},
     "source": [
      "Ex8-pg29"
     ]
    },
    {
     "cell_type": "code",
     "collapsed": false,
     "input": [
      "## Example 2.8\n",
      "import math\n",
      "#Calculate the \n",
      "print('The reaction is Tritium(d,n)Helium-4');\n",
      "## Using standard data table of mass in amu\n",
      "M_H3 = 3.016049;                             ## Atomic mass of Tritium\n",
      "M_He4 = 4.002604;                            ## Atomic mass of Helium\n",
      "M_d = 2.014102;                              ## Atomic mass of Deuterium\n",
      "M_n = 1.008665;                              ## Atomic mass of neutron\n",
      "## Calculation of total mass of reactants\n",
      "tot_reac = M_H3+M_d;\n",
      "## Calculation of total mass of products\n",
      "tot_prod = M_He4+M_n;\n",
      "## Calculation \n",
      "Q = tot_reac-tot_prod;\n",
      "## Expressing in MeV by using 1 amu = 931.5 MeV\n",
      "Q_mev = Q*931.5;\n",
      "## Result\n",
      "print'%s %.2f %s'%(\" \\n Q value for the reaction = \",Q_mev,\" MeV\");\n",
      "if Q_mev > 0:\n",
      "    print(\"\\n The reaction is exothermic. \\n\");\n",
      "else:\n",
      "    print(\"\\n The reaction is endothermic. \\n\");\n",
      "\n"
     ],
     "language": "python",
     "metadata": {},
     "outputs": [
      {
       "output_type": "stream",
       "stream": "stdout",
       "text": [
        "The reaction is Tritium(d,n)Helium-4\n",
        " \n",
        " Q value for the reaction =  17.59  MeV\n",
        "\n",
        " The reaction is exothermic. \n",
        "\n"
       ]
      }
     ],
     "prompt_number": 8
    },
    {
     "cell_type": "heading",
     "level": 2,
     "metadata": {},
     "source": [
      "Ex9-pg33"
     ]
    },
    {
     "cell_type": "code",
     "collapsed": false,
     "input": [
      "## Example 2.9\n",
      "import math\n",
      "#Calculate the \n",
      "## Using standard data table of mass in amu\n",
      "M_C12 = 12.;                             ## Atomic mass of Carbon-12\n",
      "M_n = 1.00866;                          ## Atomic mass of neutron\n",
      "M_C13 = 13.00335;                       ## Atomic mass of Carbon-13\n",
      "##If one neutron is removed from carbon-13, carbon-12 is obtained\n",
      "tot = M_C12+M_n;\n",
      "dm = tot-M_C13;                         ## Mass defect\n",
      "## Converting to energy equivalent from mass by using 1 amu = 931.5 MeV\n",
      "Es = dm*931.5;\n",
      "## Result\n",
      "print'%s %.2f %s'%(\" \\n The binding Energy of the last neutron in Carbon-13 atom = \",Es,\" MeV\");\n"
     ],
     "language": "python",
     "metadata": {},
     "outputs": [
      {
       "output_type": "stream",
       "stream": "stdout",
       "text": [
        " \n",
        " The binding Energy of the last neutron in Carbon-13 atom =  4.95  MeV\n"
       ]
      }
     ],
     "prompt_number": 9
    },
    {
     "cell_type": "heading",
     "level": 2,
     "metadata": {},
     "source": [
      "Ex10-pg36"
     ]
    },
    {
     "cell_type": "code",
     "collapsed": false,
     "input": [
      "## Example 2.10\n",
      "import math\n",
      "#calculate the\n",
      "\n",
      "## Using standard data table of mass and the coefficients of mass equation for Silver-107\n",
      "N = 60.;                                       ## Number of neutrons\n",
      "Z = 47.;                                       ## Atomic number\n",
      "A = 107.;                                      ## Atomic mass number\n",
      "## The coefficients used in mass equation are \n",
      "alpha = 15.56;\n",
      "bet = 17.23;\n",
      "gam = 0.697;\n",
      "zeta = 23.285;\n",
      "mn = 939.573;                                 ## Mass of neutron in terms of energy\n",
      "mH = 938.791;                                 ## Mass of proton in terms of energy\n",
      "## Calculation \n",
      "print('Using mass equation');\n",
      "M = (N*mn)+(Z*mH)-(alpha*A)+(bet*(A**(2/3.)))+(gam*Z**2/A**(1/3.))+(zeta*(A-2*Z)**2/A);\n",
      "## Expressing in amu by using 1 amu = 931.5 MeV\n",
      "M_amu = M/931.5;\n",
      "print'%s %.2f %s %.2f %s '%(\" Mass = \",M,\" MeV\" and  \" = \",M_amu,\"f u\" );\n",
      "print('Actual mass = 106.905092 u');\n",
      "## Calculation \n",
      "BE = (alpha*A)-(bet*(A**(2/3.)))-(gam*Z**2/A**(1/3.))-((zeta*(A-(2.*Z))**2)/A);\n",
      "## Result\n",
      "print'%s %.2f %s %.2f %s '%(\"\\n Binding Energy = \",BE,\" MeV\" or\"\" ,BE/107,\"MeV/nucleon \\n\");\n",
      "## The value is different from the answer given in the textbook. The textbook answer is wrong.\n"
     ],
     "language": "python",
     "metadata": {},
     "outputs": [
      {
       "output_type": "stream",
       "stream": "stdout",
       "text": [
        "Using mass equation\n",
        " Mass =  99582.07  =  106.91 f u \n",
        "Actual mass = 106.905092 u\n",
        "\n",
        " Binding Energy =  915.49  MeV 8.56 MeV/nucleon \n",
        " \n"
       ]
      }
     ],
     "prompt_number": 10
    },
    {
     "cell_type": "heading",
     "level": 2,
     "metadata": {},
     "source": [
      "Ex11-pg39"
     ]
    },
    {
     "cell_type": "code",
     "collapsed": false,
     "input": [
      "## Example 2.11\n",
      "import math\n",
      "#calculate the\n",
      "\n",
      "## Given data\n",
      "T_C = 38.;                           ## Given temeperature in celsius\n",
      "##The temperature in Kelvin \n",
      "T_K = T_C+273.15;\n",
      "T_0 = 293.61;                       ## The temperature in kelvin equivalent to 0 deg celsius\n",
      "kT = 0.0253;                        ## The term 'kT' in eV at temperature T0\n",
      "## Calculation\n",
      "Ep = 0.5*kT*(T_K/T_0);\n",
      "Ebar = 3*Ep;\n",
      "## Result\n",
      "print'%s %.2f %s'%(\" Most probable energy of air molecules = \",Ep,\" eV \\n\");\n",
      "print'%s %.2f %s'%(\" Average energy of air molecules = \",Ebar,\" eV \\n\");\n",
      "\n",
      "\n"
     ],
     "language": "python",
     "metadata": {},
     "outputs": [
      {
       "output_type": "stream",
       "stream": "stdout",
       "text": [
        " Most probable energy of air molecules =  0.01  eV \n",
        "\n",
        " Average energy of air molecules =  0.04  eV \n",
        "\n"
       ]
      }
     ],
     "prompt_number": 11
    },
    {
     "cell_type": "heading",
     "level": 2,
     "metadata": {},
     "source": [
      "Ex12-pg40"
     ]
    },
    {
     "cell_type": "code",
     "collapsed": false,
     "input": [
      "## Example 2.12\n",
      "import math\n",
      "#calculate the\n",
      "\n",
      "## Given data\n",
      "rho = 0.97;                                 ## Density of Sodium in gram/cm^3\n",
      "## From standard data table\n",
      "NA = 0.6022*10**24;                          ## Avagodro number\n",
      "M = 22.99;                                  ## Atomic weight of Sodium\n",
      "## Calculation\n",
      "N = rho*NA/M;\n",
      "## Result\n",
      "print'%s %.2e %s'%(\"Atom density of sodium = \",N,\" atoms/cm^3 \\n\");\n"
     ],
     "language": "python",
     "metadata": {},
     "outputs": [
      {
       "output_type": "stream",
       "stream": "stdout",
       "text": [
        "Atom density of sodium =  2.54e+22  atoms/cm^3 \n",
        "\n"
       ]
      }
     ],
     "prompt_number": 12
    },
    {
     "cell_type": "heading",
     "level": 2,
     "metadata": {},
     "source": [
      "Ex13-pg41"
     ]
    },
    {
     "cell_type": "code",
     "collapsed": false,
     "input": [
      "## Example 2.13\n",
      "import math\n",
      "#calculate the\n",
      "\n",
      "## Given data\n",
      "rho_NaCl = 2.17;                    ## Density of Sodium Chloride(NaCl) in gram/cm^3\n",
      "## From standard data table\n",
      "NA = 0.6022*10**24;                  ## Avogodro number\n",
      "M_Na = 22.99;                       ## Atomic weight of Sodium(Na)\n",
      "M_Cl = 35.453;                      ## Atomic weight of Chlorine(Cl)\n",
      "M_NaCl = M_Na+M_Cl;                 ## Molecular weight of Sodium Chloride(NaCl)\n",
      "## Calculation\n",
      "N = rho_NaCl*NA/M_NaCl;\n",
      "## As in NaCl, there is one atom of Na and Cl\n",
      "N_Na = N;\n",
      "N_Cl = N;\n",
      "## Result\n",
      "print'%s %.4e %s'%(\" Atom density of Sodium and Chlorine = \",N,\" molecules/cm^3 \\n\");\n"
     ],
     "language": "python",
     "metadata": {},
     "outputs": [
      {
       "output_type": "stream",
       "stream": "stdout",
       "text": [
        " Atom density of Sodium and Chlorine =  2.2360e+22  molecules/cm^3 \n",
        "\n"
       ]
      }
     ],
     "prompt_number": 13
    },
    {
     "cell_type": "heading",
     "level": 2,
     "metadata": {},
     "source": [
      "Ex14-pg42"
     ]
    },
    {
     "cell_type": "code",
     "collapsed": false,
     "input": [
      "## Example 2.14\n",
      "import math\n",
      "#calculate the\n",
      "\n",
      "## Given data\n",
      "rho = 1.;                                        ## Density of water in gram/cm^3\n",
      "\n",
      "## 1.\n",
      "M_H = 1.00797;                                  ## Atomic weight of Hydrogen(H)\n",
      "M_O = 15.9994;                                  ## Atomic weight of Oxygen(O)\n",
      "## As in water, there is two atoms of Hydrogen(H) and one atom of Oxygen(O)\n",
      "M = (2*M_H)+M_O;                                ## Molecular weight of water\n",
      "## From standard data table\n",
      "NA = 0.6022*10**24;                              ## Avagodro number\n",
      "## Calculation \n",
      "N = rho*NA/M;\n",
      "## Result\n",
      "print'%s %.4e %s'%(\"Atom density of water = \",N,\" molecules/cm^3 \\n\");\n",
      "\n",
      "## 2.\n",
      "## As in water, there is two atoms of Hydrogen(H) and one atom of Oxygen(O)\n",
      "N_H = 2*N;                                      ## Atom density of Hydrogen\n",
      "N_O = N;                                        ## Atom density of Oxygen\n",
      "## Result\n",
      "print'%s %.4e %s'%(\"Atom density of Hydrogen(H) = \",N_H,\" atoms/cm^3 \\n\");\n",
      "print'%s %.4E %s'%(\"Atom density of Oxygen(O)= \",N_O,\" atoms/cm^3 \\n\");\n",
      "\n",
      "## 3.\n",
      "## Using the data given in Table II.2, Appendix II for isotropic abundance of deuterium\n",
      "isoab_H2 = 0.015;\n",
      "## Calculation\n",
      "N_H2 = isoab_H2*N_H/100.;\n",
      "## Result\n",
      "print'%s %.4E %s'%(\"Atom density of Deuterium(H-2)= \",N_H2,\" atoms/cm^3 \\n\");\n"
     ],
     "language": "python",
     "metadata": {},
     "outputs": [
      {
       "output_type": "stream",
       "stream": "stdout",
       "text": [
        "Atom density of water =  3.3427e+22  molecules/cm^3 \n",
        "\n",
        "Atom density of Hydrogen(H) =  6.6854e+22  atoms/cm^3 \n",
        "\n",
        "Atom density of Oxygen(O)=  3.3427E+22  atoms/cm^3 \n",
        "\n",
        "Atom density of Deuterium(H-2)=  1.0028E+19  atoms/cm^3 \n",
        "\n"
       ]
      }
     ],
     "prompt_number": 14
    },
    {
     "cell_type": "heading",
     "level": 2,
     "metadata": {},
     "source": [
      "Ex15-pg43"
     ]
    },
    {
     "cell_type": "code",
     "collapsed": false,
     "input": [
      "## Example 2.15\n",
      "import math\n",
      "#calculate the\n",
      "\n",
      "## Given data \n",
      "rho = 19.1;                                 ## Density of Uranium-235 in gram/cm^3\n",
      "wt = 1500.;                                  ## Weight of uranium rods in a reactor in kg\n",
      "nr = 0.2;                                   ## Enrichment(w/o) of Uranium-235\n",
      "\n",
      "## 1.\n",
      "## As Enrichment is 20(w/o)\n",
      "wt_U235 = nr*wt;                            ## Amount of Uranium-235\n",
      "## Result\n",
      "print'%s %.2f %s'%(\"Amount of Uranium-235 in the reactor = \",wt_U235,\" kg \\n\");\n",
      "\n",
      "## 2.\n",
      "## From standard data table\n",
      "NA = 0.6022*10**24;                          ## Avagodro number\n",
      "M_U235 = 235.0439;                          ## Atomic weight of Uranium-235\n",
      "M_U238 = 238.0508;                          ## Atomic weight of Uranium-238\n",
      "## Calculation\n",
      "N_U235 = nr*rho*NA/M_U235;                  ## Atom density of Uranium-235\n",
      "N_U238 = (1.-nr)*rho*NA/M_U238;              ## Atom density of Uranium-238\n",
      "## Result\n",
      "print'%s %.4e %s'%(\"Atom density of Uranium-235 = \",N_U235,\" atoms/cm^3 \\n\");\n",
      "print'%s %.4e %s'%(\"Atom density of Uranium-238 = \",N_U238,\" atoms/cm^3 \\n\");\n"
     ],
     "language": "python",
     "metadata": {},
     "outputs": [
      {
       "output_type": "stream",
       "stream": "stdout",
       "text": [
        "Amount of Uranium-235 in the reactor =  300.00  kg \n",
        "\n",
        "Atom density of Uranium-235 =  9.7871e+21  atoms/cm^3 \n",
        "\n",
        "Atom density of Uranium-238 =  3.8654e+22  atoms/cm^3 \n",
        "\n"
       ]
      }
     ],
     "prompt_number": 15
    },
    {
     "cell_type": "heading",
     "level": 2,
     "metadata": {},
     "source": [
      "Ex16-pg43"
     ]
    },
    {
     "cell_type": "code",
     "collapsed": false,
     "input": [
      "## Example 2.16\n",
      "import math\n",
      "#calculate the\n",
      "\n",
      "## Given data\n",
      "rho_UO2 = 10.5;                             ## Density of UO2 pellets in gram/cm^3\n",
      "nr = 0.3;                                   ## Enrichment(w/o) of Uranium-235\n",
      "## From standard data table\n",
      "M_U235 = 235.0439;                          ## Atomic weight of Uranium-235\n",
      "M_U238 = 238.0508;                          ## Atomic weight of Uranium-238\n",
      "M_O = 15.999;                               ## Atomic weight of Oxygen\n",
      "NA = 0.6022*10**24;                          ## Avogodro number\n",
      "\n",
      "M = 1./((nr/M_U235)+((1.-nr)/M_U238));\n",
      "M_UO2 = M+(2.*M_O);                          ## Molecular weight of UO2\n",
      "nr_U = M/M_UO2*100.;                         ## The percent(w/o) of Uranium in UO2 pellet\n",
      "rho_U = nr_U*rho_UO2/100.                    ## Density of Uranium in g/cm^3\n",
      "rho_U235 = nr*rho_U                         ## Density of Uranium-235 in g/cm^3\n",
      "## Calculation\n",
      "N_U235=rho_U235*NA/M_U235;\n",
      "## Result\n",
      "print'%s %.4e %s'%(\"Atom density of Uranium-235 = \",N_U235,\" atoms/cm^3 \\n\");\n",
      "\n"
     ],
     "language": "python",
     "metadata": {},
     "outputs": [
      {
       "output_type": "stream",
       "stream": "stdout",
       "text": [
        "Atom density of Uranium-235 =  7.1110e+21  atoms/cm^3 \n",
        "\n"
       ]
      }
     ],
     "prompt_number": 16
    }
   ],
   "metadata": {}
  }
 ]
}