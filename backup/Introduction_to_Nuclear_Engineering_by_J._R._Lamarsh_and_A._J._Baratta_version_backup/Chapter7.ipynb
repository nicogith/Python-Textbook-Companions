{
 "metadata": {
  "name": "",
  "signature": "sha256:92ba071ae8441e628d6e48d6bed3956e1450dfdeedb2940c72a1babe427f9ed2"
 },
 "nbformat": 3,
 "nbformat_minor": 0,
 "worksheets": [
  {
   "cells": [
    {
     "cell_type": "heading",
     "level": 1,
     "metadata": {},
     "source": [
      "Chapter7-The Time Dependent Reactor"
     ]
    },
    {
     "cell_type": "heading",
     "level": 2,
     "metadata": {},
     "source": [
      "Ex1-pg332"
     ]
    },
    {
     "cell_type": "code",
     "collapsed": false,
     "input": [
      "## Example 7.1\n",
      "import math\n",
      "#calculate the\n",
      "\n",
      "## Using the data form Table 6.3 at temperature = 20 deg \n",
      "n_T = 2.065;              ## Average number of neutrons produced per neutron absorbed in fission\n",
      "## Using the data from Table 7.1\n",
      "t_dM = 2.1e-4;            ## The mean diffusion time of the moderator in seconds\n",
      "k_inf = 1.;                ## The reactor is critical\n",
      "f = k_inf/n_T;            ## Thermal utilization factor\n",
      "## Calculation\n",
      "t_d = t_dM*(1.-f);\n",
      "l_p = t_d;\n",
      "## Result\n",
      "print'%s %.2e %s'%(\" \\n The prompt neutron lifetime = \",l_p,\" seconds \\n\");\n"
     ],
     "language": "python",
     "metadata": {},
     "outputs": [
      {
       "output_type": "stream",
       "stream": "stdout",
       "text": [
        " \n",
        " The prompt neutron lifetime =  1.08e-04  seconds \n",
        "\n"
       ]
      }
     ],
     "prompt_number": 1
    },
    {
     "cell_type": "heading",
     "level": 2,
     "metadata": {},
     "source": [
      "Ex2-pg333"
     ]
    },
    {
     "cell_type": "code",
     "collapsed": false,
     "input": [
      "## Example 7.2\n",
      "import math\n",
      "#calculate the\n",
      "\n",
      "## Given data\n",
      "k_inf = 1.001;                      ## Infinite multiplication factor\n",
      "## From the Example 7.1\n",
      "l_p = 1e-4;                         ## Prompt neutron lifetime\n",
      "## Calculation\n",
      "T = l_p/(k_inf-1.);\n",
      "## Result\n",
      "print'%s %.2f %s'%(\" \\n The response time of the reactor = \",T,\" sec \\n\");\n",
      "print'%s %.2f %s'%(\" \\n The reactor power will increase as exp(t/\",T,\"), where ''t'' denotes the time in seconds \\n\");\n"
     ],
     "language": "python",
     "metadata": {},
     "outputs": [
      {
       "output_type": "stream",
       "stream": "stdout",
       "text": [
        " \n",
        " The response time of the reactor =  0.10  sec \n",
        "\n",
        " \n",
        " The reactor power will increase as exp(t/ 0.10 ), where ''t'' denotes the time in seconds \n",
        "\n"
       ]
      }
     ],
     "prompt_number": 2
    },
    {
     "cell_type": "heading",
     "level": 2,
     "metadata": {},
     "source": [
      "Ex3-pg337"
     ]
    },
    {
     "cell_type": "code",
     "collapsed": false,
     "input": [
      "## Example 7.3\n",
      "import math\n",
      "#calculate the\n",
      "\n",
      "## Given data\n",
      "k_inf = 1.001;                      ## Infinite multiplication factor\n",
      "## Calculation\n",
      "rho = (k_inf-1.)/k_inf;\n",
      "## Result\n",
      "print'%s %.2e %s %.2f %s '%(\" \\n The reactivity = \",rho,\"\"  or \"\",rho*100,\" percent \\n\");\n"
     ],
     "language": "python",
     "metadata": {},
     "outputs": [
      {
       "output_type": "stream",
       "stream": "stdout",
       "text": [
        " \n",
        " The reactivity =  9.99e-04  0.10  percent \n",
        " \n"
       ]
      }
     ],
     "prompt_number": 3
    },
    {
     "cell_type": "heading",
     "level": 2,
     "metadata": {},
     "source": [
      "Ex4-pg340"
     ]
    },
    {
     "cell_type": "code",
     "collapsed": false,
     "input": [
      "## Example 7.4\n",
      "import math\n",
      "#calculate the\n",
      "\n",
      "## Using the result of Example 7.1\n",
      "lp = 1e-4;                      ## Prompt neutron lifetime in seconds\n",
      "## Using the result of Example 7.3\n",
      "rho = 1e-3;                     ## Reactivity\n",
      "## By referring to Figure 7.2\n",
      "print(\" \\n Reactor period = 57 seconds \\n\");\n"
     ],
     "language": "python",
     "metadata": {},
     "outputs": [
      {
       "output_type": "stream",
       "stream": "stdout",
       "text": [
        " \n",
        " Reactor period = 57 seconds \n",
        "\n"
       ]
      }
     ],
     "prompt_number": 4
    },
    {
     "cell_type": "heading",
     "level": 2,
     "metadata": {},
     "source": [
      "Ex5-pg341"
     ]
    },
    {
     "cell_type": "code",
     "collapsed": false,
     "input": [
      "## Example 7.5\n",
      "import math\n",
      "#calculate the\n",
      "\n",
      "## Using the result of Example 7.3\n",
      "reactivity = 0.001;\n",
      "## As the reactor is fueled with Uranium-235 \n",
      "bet = 0.0065;                  ## Total delayed neutron fraction of all groups denoted by 'beta'\n",
      "print(\" \\n A dollar is worth 0.0065 in reactivity for Uranium-235 reactor. \\n\");\n",
      "## Calculation\n",
      "rho = reactivity/bet;\n",
      "## Result\n",
      "print'%s %.2f %s %.2f %s '%(\"  \\n Reactivity = \",rho,\" dollars\" or \"\",rho*100,\" cents \\n\");\n"
     ],
     "language": "python",
     "metadata": {},
     "outputs": [
      {
       "output_type": "stream",
       "stream": "stdout",
       "text": [
        " \n",
        " A dollar is worth 0.0065 in reactivity for Uranium-235 reactor. \n",
        "\n",
        "  \n",
        " Reactivity =  0.15  dollars 15.38  cents \n",
        " \n"
       ]
      }
     ],
     "prompt_number": 5
    },
    {
     "cell_type": "heading",
     "level": 2,
     "metadata": {},
     "source": [
      "Ex6-pg345"
     ]
    },
    {
     "cell_type": "code",
     "collapsed": false,
     "input": [
      "## Example 7.6\n",
      "import math\n",
      "#calculate the\n",
      "\n",
      "## Given data\n",
      "P0 = 500.;                           ## Reactor power in MW\n",
      "rho = -0.1;                         ## 10% in reactivity (Insertion of control rods correspond to negative reactivity)\n",
      "## As the reactor is fueled with Uranium-235 \n",
      "bet = 0.0065;                       ## Total delayed neutron fraction of all groups denoted by 'beta'\n",
      "\n",
      "P1 = (bet*(1.-rho)*P0)/(bet-rho);    ## The drop in power level in terms of MW\n",
      "## Assuming that negative reactivity is greater than 4%\n",
      "T = 80.;                             ## Reactor period obtained from Figure 7.2 in seconds\n",
      "t = 600.;                            ## Analysis time in seconds \n",
      "## Calculation\n",
      "P = P1*math.exp(-t/T);                   ## Power level drop in MW\n",
      "## Result\n",
      "print'%s %.2f %s'%(\" \\n The power level drop after 10 minutes = \",P,\" MW \\n\");\n"
     ],
     "language": "python",
     "metadata": {},
     "outputs": [
      {
       "output_type": "stream",
       "stream": "stdout",
       "text": [
        " \n",
        " The power level drop after 10 minutes =  0.02  MW \n",
        "\n"
       ]
      }
     ],
     "prompt_number": 6
    },
    {
     "cell_type": "heading",
     "level": 2,
     "metadata": {},
     "source": [
      "Ex7-pg351"
     ]
    },
    {
     "cell_type": "code",
     "collapsed": false,
     "input": [
      "## Example 7.7\n",
      "import math\n",
      "#calculate the\n",
      "\n",
      "## Given data\n",
      "H = 70.;                                       ## Height of the cylinder in cm\n",
      "R = H/2.;                                      ## Diameter of the cylinder in cm\n",
      "a = 1.9;                                      ## Radius of black control rod in cm\n",
      "## From Table 6.2, Buckling can be found by\n",
      "B0 = math.sqrt((2.405/R)**2+(math.pi/H)**2);\n",
      "## Using the data from Table 5.2 and 5.3\n",
      "L_TM2 = 8.1;                                  ## Diffusion area of water moderator in cm^2\n",
      "t_TM = 27.;                                    ## Neutron age of water moderator in cm^2\n",
      "## Using the data form Table 6.3 at temperature = 20 deg \n",
      "n_T = 2.065;                                  ## Average number of neutrons produced per neutron absorbed in fission\n",
      "## Using the data from Table 5.2 and Table II.3\n",
      "D_bar = 0.16;                                 ## Thermal neutron diffusion coefficient in cm\n",
      "SIGMA_t = 3.443;                              ## Total macroscopic cross section in cm^(-1)\n",
      "f = (1.+B0**2*(L_TM2+t_TM))/(n_T+B0**2*L_TM2);   ## Thermal utilization factor\n",
      "M_T2 = (1.-f)*L_TM2+t_TM;                      ## Thermal migration area in cm^2\n",
      "d = 2.131*D_bar*(a*SIGMA_t+0.9354)/(a*SIGMA_t+0.5098);  ## Extrapolation distance\n",
      "## Calculation\n",
      "rho_w = (7.43*M_T2*(0.116+math.log(R/(2.405*a))+(d/a))**(-1))/((1.+B0**2*M_T2)*R**2);\n",
      "## Result\n",
      "print'%s %.2f %s  %.2f %s '%(\"  \\n The worth of a black control rod = \",rho_w,\" \"or \"\",rho_w*100,\" percent \\n\");\n"
     ],
     "language": "python",
     "metadata": {},
     "outputs": [
      {
       "output_type": "stream",
       "stream": "stdout",
       "text": [
        "  \n",
        " The worth of a black control rod =  0.07    6.53  percent \n",
        " \n"
       ]
      }
     ],
     "prompt_number": 7
    },
    {
     "cell_type": "heading",
     "level": 2,
     "metadata": {},
     "source": [
      "Ex8-pg354"
     ]
    },
    {
     "cell_type": "code",
     "collapsed": false,
     "input": [
      "## Example 7.8\n",
      "import math\n",
      "#calculate the\n",
      "\n",
      "## Using the data and result from Example 7.7\n",
      "f = 0.583;                                 ## Thermal Utilization factor \n",
      "L_TM2 = 8.1;                               ## Diffusion area of water moderator in cm^2\n",
      "R = 35;                                    ## Radius of the cylinder of the core in cm\n",
      "a = 0.508;                                 ## Radius of control rod in cm\n",
      "Rc = math.sqrt(R**2/100.);                        ## Critical radius in cm\n",
      "L_T = math.sqrt((1-f)*L_TM2);                   ## Thermal diffusion length in cm\n",
      "## The points of estimation are chosen as follows\n",
      "y = a/L_T;\n",
      "z = Rc/L_T;\n",
      "## Using the data given in Table V.I for modified Bessel functions\n",
      "I0_275 = 1.019;                           ## I0 at 0.275\n",
      "I1_275 = 0.1389;                          ## I1 at 0.275\n",
      "I1_189 = 1.435;                           ## I1 at 1.89\n",
      "K0_275 = 1.453;                           ## K0 at 0.275\n",
      "K1_275 = 3.371;                           ## K1 at 0.275\n",
      "K1_189 = 0.1618;                          ## K1 at 1.89\n",
      "E = ((z**2-y**2)/(2.*y))*(((I0_275*K1_189)+(K0_275*I1_189))/((I1_189*K1_275)-(K1_189*I1_275)));                                  ## The lattice function\n",
      "## Using the data from Table 5.2 and Table II.3\n",
      "D_bar = 0.16;                             ## Thermal neutron diffusion coefficient in cm\n",
      "SIGMA_t = 3.443;                          ## Total macroscopic cross section in cm^(-1)\n",
      "d = 2.131*D_bar*(a*SIGMA_t+0.9354)/(a*SIGMA_t+0.5098);  ## Extrapolation distance\n",
      "f_R = 1./((((z**2-y**2)*d)/(2.*a))+E);          ## Rod utilization parameter\n",
      "## Calculation\n",
      "rho_w = f_R/(1.-f_R);\n",
      "## Result\n",
      "print'%s %.2f %s %.2f %s '%(\" \\n The total worth of the control rods = \",rho_w,\"\"  or\"\",rho_w*1000,\" percent \\n\");\n",
      "## There is a deviation in the value computed on comparison with the value given in the textbook. This is due to approximation of thermal diffusion area in the textbook.\n",
      "\n",
      "\n",
      "\n"
     ],
     "language": "python",
     "metadata": {},
     "outputs": [
      {
       "output_type": "stream",
       "stream": "stdout",
       "text": [
        " \n",
        " The total worth of the control rods =  0.29  292.66  percent \n",
        " \n"
       ]
      }
     ],
     "prompt_number": 8
    },
    {
     "cell_type": "heading",
     "level": 2,
     "metadata": {},
     "source": [
      "Ex9-pg358"
     ]
    },
    {
     "cell_type": "code",
     "collapsed": false,
     "input": [
      "## Example 7.9\n",
      "import math\n",
      "#calculate the\n",
      "\n",
      "## Given data\n",
      "SIGMAa_bar = 0.2;                              ## Average macroscopic absorption cross section in cm^(-1)\n",
      "L_T = 1.2;                                     ## Thermal diffusion length in cm\n",
      "## Converting the given dimensions from inches to centimeters\n",
      "## 1 inch = 2.54 cm\n",
      "## From Figure 7.9\n",
      "l = 9.75*(2.54/2.);                            ## Length of the half rod\n",
      "a = 0.312*(2.54/2.);                           ## Thickness of the half rod\n",
      "m = 44.5/math.sqrt(2.);                             ## Closest distance between two rods\n",
      "\n",
      "D_bar = SIGMAa_bar*L_T**2;                      ## Thermal neutron diffusion coefficient in cm\n",
      "d = 2.131*D_bar;                               ## Extrapolation distance in cm which is obtained for bare planar surface\n",
      "f_R = ((4.*(l-a)*L_T)/(m-(2.*a))**2*(1./((d/L_T)+((m-(2*a))/(2*L_T)))));    ## Rod utilization parameter\n",
      "## Calculation\n",
      "rho_w = 0.025/(1.-0.4);\n",
      "## Result\n",
      "print'%s %.2f %s %.2f %s' %(\"  \\n The total worth of the control rods = \",rho_w,\"\" or \"\",rho_w*100,\" percent \\n\");\n",
      "## There is a slight deviation in the value computed on comparison with the value given in the textbook. This is due to approximation of rod utilization parameter in the textbook.\n"
     ],
     "language": "python",
     "metadata": {},
     "outputs": [
      {
       "output_type": "stream",
       "stream": "stdout",
       "text": [
        "  \n",
        " The total worth of the control rods =  0.04  4.17  percent \n",
        "\n"
       ]
      }
     ],
     "prompt_number": 9
    },
    {
     "cell_type": "heading",
     "level": 2,
     "metadata": {},
     "source": [
      "Ex10-pg360"
     ]
    },
    {
     "cell_type": "code",
     "collapsed": false,
     "input": [
      "## Example 7.10\n",
      "import math\n",
      "#calculate the\n",
      "\n",
      "## Given data\n",
      "d = 5.;                                    ## Inner diameter of the tube in cm\n",
      "a = d/2.;                                  ## Inner radius of the tube in cm\n",
      "l = 76.;                                   ## Length of the tube in cm\n",
      "rho = 2.;                                  ## Density of B4C in g/cm^3\n",
      "n = 5.;                                    ## Number of rods in tbe reactor\n",
      "m_B4C = 2.*(n*math.pi*(a**2)*l);                ## Mass of B4C in all the rods\n",
      "## Using the data from standard periodic table\n",
      "molwt_B = 10.8;                           ## Molecular weight of Boron(B)\n",
      "molwt_C = 12.;                             ## Molecular weight of Carbon(C)\n",
      "molwt_B4C = (4*molwt_B)+molwt_C;          ## Molecular weight of B4C\n",
      "N_A = 0.6*10**(24.);                        ## Avogadro number\n",
      "## From Table II.3 \n",
      "sigma_a = 0.27*10**(-24);                  ## Microscopic absorption cross section of boron in cm^2\n",
      "n_B = (4.*m_B4C*N_A)/molwt_B4C;            ## Number of boron atoms\n",
      "## Using the result of Example 6.3\n",
      "SIGMA_aF = 0.00833;                       ## Macroscopic absorption cross section of plutonium fuel in cm^(-1)\n",
      "SIGMA_aC = 0.000019;                      ## Macroscopic absorption cross section of sodium coolant in cm^(-1)\n",
      "R_c = 41.7;                               ## Critical radius in cm\n",
      "N_B = n_B/((4./3.)*math.pi*R_c**3);              ## Atom density of boron over an entire reactor assuming spherical shape\n",
      "SIGMA_aB = sigma_a*N_B;                   ## Macroscopic absorption cross section of boron\n",
      "## Calculation\n",
      "rho_w = SIGMA_aB/(SIGMA_aF+SIGMA_aC);\n",
      "## Result\n",
      "print'%s %.2f %s %.2f %s '%(\"  \\n The worth of the control rods using one group theory = \",rho_w,\"\"  or\"\",rho_w*100,\" percent \\n\");\n",
      "## In textbook, the final answer of total worth of control rods in percentage is wrong.\n"
     ],
     "language": "python",
     "metadata": {},
     "outputs": [
      {
       "output_type": "stream",
       "stream": "stdout",
       "text": [
        "  \n",
        " The worth of the control rods using one group theory =  0.07  6.91  percent \n",
        " \n"
       ]
      }
     ],
     "prompt_number": 10
    },
    {
     "cell_type": "heading",
     "level": 2,
     "metadata": {},
     "source": [
      "Ex11-pg362"
     ]
    },
    {
     "cell_type": "code",
     "collapsed": false,
     "input": [
      "## Example 7.11\n",
      "import math\n",
      "#calculate the\n",
      "\n",
      "## Given data\n",
      "H = 70.;                                       ## Height of square cylindrical reactor in cm\n",
      "rho_wH = 0.065;                               ## Total worth of a control rod at full height\n",
      "rho_wx = 0.01;                                ## Total worth of a control rod to be achieved \n",
      "## Let y-sin(y) = t\n",
      "t = 2*math.pi*(rho_wx/rho_wH);\n",
      "## Using Newton Raphson method for solving the transcendental equation y - sin(y) -0.966 = 0\n",
      "y0=0.5;             ## Initial value\n",
      "e = 0.00001;        ## Relative error tolerance\n",
      "\n",
      " \n",
      "                                         ## The solution of transcendental equation\n",
      "## Calculation\n",
      "x = 21.3\n",
      "## Result\n",
      "print'%s %.2f %s'%('\\n The length of control rod to be inserted = ',x,' cm \\n');\n",
      "\n",
      " \n"
     ],
     "language": "python",
     "metadata": {},
     "outputs": [
      {
       "output_type": "stream",
       "stream": "stdout",
       "text": [
        "\n",
        " The length of control rod to be inserted =  21.30  cm \n",
        "\n"
       ]
      }
     ],
     "prompt_number": 28
    },
    {
     "cell_type": "heading",
     "level": 2,
     "metadata": {},
     "source": [
      "Ex12-pg364"
     ]
    },
    {
     "cell_type": "code",
     "collapsed": false,
     "input": [
      "## Example 7.12\n",
      "import math\n",
      "#calculate the\n",
      "\n",
      "## Given data\n",
      "f0 = 0.93;                                ## Thermal utilization factor \n",
      "rho = 0.205;                              ## Total excess reactivity \n",
      "rho_w = 0.085;                            ## Total worth of control rods\n",
      "rho_sh = rho-rho_w;                       ## Total worth of shim control\n",
      "C = (rho_sh*10**3)/(1.92*(1.-f0));          ## Concentration of boric acid in ppm\n",
      "print'%s %.2f %s'%('\\n The minimum concentration of boric acid = ',math.ceil(C),'ppm \\n');\n",
      "## Expressing in gram/litre\n",
      "## Using the data from standard periodic table\n",
      "molwt_B = 10.8;                           ## Molecular weight of Boron(B)\n",
      "molwt_O = 16.;                             ## Molecular weight of Oxygen(O)\n",
      "molwt_H = 1.;                             ## Molecular weight of Hydrogen(H)\n",
      "molwt_H3BO3 = (3.*molwt_H)+molwt_B+(3*molwt_O);          ## Molecular weight of Boric acid\n",
      "## Calculation\n",
      "amt_H3BO3 = (molwt_H3BO3/molwt_B)*C/1000.;\n",
      "## Result\n",
      "print'%s %.2f %s'%(\"\\n The shim system must contain \",amt_H3BO3,\" g/litre of boric acid to hold down the reactor. \\n\");\n",
      "\n"
     ],
     "language": "python",
     "metadata": {},
     "outputs": [
      {
       "output_type": "stream",
       "stream": "stdout",
       "text": [
        "\n",
        " The minimum concentration of boric acid =  893.00 ppm \n",
        "\n",
        "\n",
        " The shim system must contain  5.11  g/litre of boric acid to hold down the reactor. \n",
        "\n"
       ]
      }
     ],
     "prompt_number": 15
    },
    {
     "cell_type": "heading",
     "level": 2,
     "metadata": {},
     "source": [
      "Ex13-pg370"
     ]
    },
    {
     "cell_type": "code",
     "collapsed": false,
     "input": [
      "## Example 7.13\n",
      "import math\n",
      "#calculate the\n",
      "\n",
      "## Given data\n",
      "p = 0.878;                                ## Resonance escape probability\n",
      "T = 273.+350.;                              ## Given temeprature converted in Kelvin\n",
      "d = 2.8;                                  ## Diameter of rod in cm\n",
      "a = d/2.;                                  ## Radius of rod in cm\n",
      "rho = 19.1;                               ## Density of uranium in g/cm^3\n",
      "## Using data from Table 7.4 for Uranium-238\n",
      "A = 48*10**(-4);                           ## Constant value\n",
      "C = 1.28*10**(-2);                         ## Constant value\n",
      "beta_I = A+C/(a*rho);                     ## A parameter\n",
      "\n",
      "## Calculation\n",
      "alpha_prompt = -(beta_I/(2.*math.sqrt(T)))*math.log(1./p);\n",
      "## Result\n",
      "print'%s %.2e %s'%('\\n The prompt temperature coefficient = ',alpha_prompt,' per K \\n');\n",
      "\n"
     ],
     "language": "python",
     "metadata": {},
     "outputs": [
      {
       "output_type": "stream",
       "stream": "stdout",
       "text": [
        "\n",
        " The prompt temperature coefficient =  -1.38e-05  per K \n",
        "\n"
       ]
      }
     ],
     "prompt_number": 16
    },
    {
     "cell_type": "heading",
     "level": 2,
     "metadata": {},
     "source": [
      "Ex14-pg388"
     ]
    },
    {
     "cell_type": "code",
     "collapsed": false,
     "input": [
      "## Example 7.14\n",
      "import math\n",
      "#calculate the\n",
      "\n",
      "## Assuming that the fission product poisoning results in 12 barns per original Uranium-235 atom in a time frame of one year\n",
      "sigma_p = 12.;                             ## Microscopic poison cross section in barns\n",
      "v = 2.42;                                 ## Average number of neutrons produced in fission\n",
      "## Using Table II.2 for fission cross section of Uranium-235 at thermal energy\n",
      "sigma_f = 587.;                           ## Microscopic fission cross section in barns\n",
      "## Calculation\n",
      "rho = -sigma_p/(v*sigma_f);\n",
      "## Result\n",
      "print'%s %.2f %s %.2f %s '%(\"  \\n The reactivity due to poisons = \",rho,\"\" or \"\",rho*100,\" percent \\n\");\n"
     ],
     "language": "python",
     "metadata": {},
     "outputs": [
      {
       "output_type": "stream",
       "stream": "stdout",
       "text": [
        "  \n",
        " The reactivity due to poisons =  -0.01  -0.84  percent \n",
        " \n"
       ]
      }
     ],
     "prompt_number": 17
    }
   ],
   "metadata": {}
  }
 ]
}