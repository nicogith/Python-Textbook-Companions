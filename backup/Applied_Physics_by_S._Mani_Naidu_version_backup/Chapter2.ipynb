{
 "cells": [
  {
   "cell_type": "markdown",
   "metadata": {},
   "source": [
    "# 2: Crystal Structures"
   ]
  },
  {
   "cell_type": "markdown",
   "metadata": {},
   "source": [
    "## Example number 1, Page number 2-16"
   ]
  },
  {
   "cell_type": "code",
   "execution_count": 2,
   "metadata": {
    "collapsed": false
   },
   "outputs": [
    {
     "name": "stdout",
     "output_type": "stream",
     "text": [
      "free volume per unit cell is 0.007675 nm**3\n"
     ]
    }
   ],
   "source": [
    "#importing modules\n",
    "import math\n",
    "from __future__ import division\n",
    "\n",
    "#Variable declaration\n",
    "r=0.1249;     #radius(nm)\n",
    "n=2;          #number of atoms\n",
    "\n",
    "#Calculation\n",
    "a=4*r/math.sqrt(3);    #unit cell edge length(nm)\n",
    "V=a**3;                #volume of unit cell(nm**3)\n",
    "v=4*n*math.pi*r**3/3;  #volume of atoms in unit cell(nm**3)\n",
    "fv=V-v;                #free volume per unit cell(nm**3)\n",
    "\n",
    "#Result\n",
    "print \"free volume per unit cell is\",round(fv,6),\"nm**3\""
   ]
  },
  {
   "cell_type": "markdown",
   "metadata": {},
   "source": [
    "## Example number 2, Page number 2-16"
   ]
  },
  {
   "cell_type": "code",
   "execution_count": 3,
   "metadata": {
    "collapsed": false
   },
   "outputs": [
    {
     "name": "stdout",
     "output_type": "stream",
     "text": [
      "lattice constant is 3.517 angstrom\n"
     ]
    }
   ],
   "source": [
    "#importing modules\n",
    "import math\n",
    "from __future__ import division\n",
    "\n",
    "#Variable declaration\n",
    "N=6.02*10**26;           #Avagadro Number\n",
    "n=2;\n",
    "rho=530;    #density(kg/m**3)\n",
    "M=6.94;     #atomic weight(amu)\n",
    "\n",
    "#Calculation\n",
    "a=(n*M/(rho*N))**(1/3)*10**10;    #lattice constant(angstrom)\n",
    "\n",
    "#Result\n",
    "print \"lattice constant is\",round(a,3),\"angstrom\""
   ]
  },
  {
   "cell_type": "markdown",
   "metadata": {},
   "source": [
    "## Example number 3, Page number 2-17"
   ]
  },
  {
   "cell_type": "code",
   "execution_count": 7,
   "metadata": {
    "collapsed": false
   },
   "outputs": [
    {
     "name": "stdout",
     "output_type": "stream",
     "text": [
      "lattice constant is 2.87 angstrom\n"
     ]
    }
   ],
   "source": [
    "#importing modules\n",
    "import math\n",
    "from __future__ import division\n",
    "\n",
    "#Variable declaration\n",
    "N=6.02*10**23;           #Avagadro Number\n",
    "n=2;\n",
    "rho=7860;    #density(kg/m**3)\n",
    "M=55.85;    #atomic weight(amu)\n",
    "\n",
    "#Calculation\n",
    "a=(n*M/(rho*N))**(1/3)*10**9;    #lattice constant(angstrom)\n",
    "\n",
    "#Result\n",
    "print \"lattice constant is\",round(a,2),\"angstrom\""
   ]
  },
  {
   "cell_type": "markdown",
   "metadata": {},
   "source": [
    "## Example number 4, Page number 2-17"
   ]
  },
  {
   "cell_type": "code",
   "execution_count": 9,
   "metadata": {
    "collapsed": false
   },
   "outputs": [
    {
     "name": "stdout",
     "output_type": "stream",
     "text": [
      "number of atoms per m**3 is 177.3 *10**27 atoms/m**3\n"
     ]
    }
   ],
   "source": [
    "#importing modules\n",
    "import math\n",
    "from __future__ import division\n",
    "\n",
    "#Variable declaration\n",
    "n=8;    #number of atoms\n",
    "a=0.356*10**-9;    #lattice constant(m)\n",
    "\n",
    "#Calculation\n",
    "N=n/a**3;          #number of atoms per m**3\n",
    "        \n",
    "#Result\n",
    "print \"number of atoms per m**3 is\",round(N/10**27,1),\"*10**27 atoms/m**3\""
   ]
  },
  {
   "cell_type": "markdown",
   "metadata": {},
   "source": [
    "## Example number 5, Page number 2-17"
   ]
  },
  {
   "cell_type": "code",
   "execution_count": 11,
   "metadata": {
    "collapsed": false
   },
   "outputs": [
    {
     "name": "stdout",
     "output_type": "stream",
     "text": [
      "number of atoms per sq mm is 8.16 *10**12\n"
     ]
    }
   ],
   "source": [
    "#importing modules\n",
    "import math\n",
    "from __future__ import division\n",
    "\n",
    "#Variable declaration\n",
    "a=3.5;        #lattice constant(angstrom)\n",
    "n=10**7;      #1mm in angstrom\n",
    "\n",
    "#Calculation\n",
    "N=n**2/a**2;  #number of atoms per sq mm\n",
    "        \n",
    "#Result\n",
    "print \"number of atoms per sq mm is\",round(N/10**12,2),\"*10**12\""
   ]
  },
  {
   "cell_type": "markdown",
   "metadata": {},
   "source": [
    "## Example number 6, Page number 2-18"
   ]
  },
  {
   "cell_type": "code",
   "execution_count": 13,
   "metadata": {
    "collapsed": false
   },
   "outputs": [
    {
     "name": "stdout",
     "output_type": "stream",
     "text": [
      "density is 5434.5 kg/m**3\n"
     ]
    }
   ],
   "source": [
    "#importing modules\n",
    "import math\n",
    "from __future__ import division\n",
    "\n",
    "#Variable declaration\n",
    "N=6.02*10**26;     #Avagadro Number\n",
    "n=8;               #number of atoms\n",
    "a=5.62*10**-10;    #lattice constant(m)\n",
    "M=72.59;           #atomic weight(amu)\n",
    "\n",
    "#Calculation\n",
    "rho=n*M/(a**3*N);   #density(kg/m**3)\n",
    "        \n",
    "#Result\n",
    "print \"density is\",round(rho,1),\"kg/m**3\""
   ]
  }
 ],
 "metadata": {
  "kernelspec": {
   "display_name": "Python 2",
   "language": "python",
   "name": "python2"
  },
  "language_info": {
   "codemirror_mode": {
    "name": "ipython",
    "version": 2
   },
   "file_extension": ".py",
   "mimetype": "text/x-python",
   "name": "python",
   "nbconvert_exporter": "python",
   "pygments_lexer": "ipython2",
   "version": "2.7.11"
  }
 },
 "nbformat": 4,
 "nbformat_minor": 0
}
