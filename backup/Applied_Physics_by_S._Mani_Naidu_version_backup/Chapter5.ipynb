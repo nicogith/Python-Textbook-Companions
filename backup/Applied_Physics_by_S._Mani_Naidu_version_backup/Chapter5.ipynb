{
 "cells": [
  {
   "cell_type": "markdown",
   "metadata": {},
   "source": [
    "# 5: Electron Theory of Metals"
   ]
  },
  {
   "cell_type": "markdown",
   "metadata": {},
   "source": [
    "## Example number 1, Page number 5-27"
   ]
  },
  {
   "cell_type": "code",
   "execution_count": 3,
   "metadata": {
    "collapsed": false
   },
   "outputs": [
    {
     "name": "stdout",
     "output_type": "stream",
     "text": [
      "temperature is 1259.93 K\n",
      "answer given in the book is wrong\n"
     ]
    }
   ],
   "source": [
    "#importing modules\n",
    "import math\n",
    "from __future__ import division\n",
    "\n",
    "#Variable declaration\n",
    "E_EF=0.5;     #fermi energy(eV)\n",
    "FE=1/100;     #probability\n",
    "Kb=1.381*10**-23;     #boltzmann constant(J/k)\n",
    "x=6.24*10**18;    \n",
    "\n",
    "#Calculation\n",
    "KB=Kb*x;\n",
    "y=E_EF/KB;\n",
    "T=y/math.log(1/FE);      #temperature(K)\n",
    "\n",
    "#Result\n",
    "print \"temperature is\",round(T,2),\"K\"\n",
    "print \"answer given in the book is wrong\""
   ]
  },
  {
   "cell_type": "markdown",
   "metadata": {},
   "source": [
    "## Example number 2, Page number 5-28"
   ]
  },
  {
   "cell_type": "code",
   "execution_count": 4,
   "metadata": {
    "collapsed": false
   },
   "outputs": [
    {
     "name": "stdout",
     "output_type": "stream",
     "text": [
      "total number of free electrons is 8.3954 *10**28 electrons/m**3\n",
      "answer in the book varies due to rounding off errors\n"
     ]
    }
   ],
   "source": [
    "#importing modules\n",
    "import math\n",
    "from __future__ import division\n",
    "\n",
    "#Variable declaration\n",
    "e=1.602*10**-19;      #charge(c)\n",
    "m=9.11*10**-31;       #mass(kg)\n",
    "h=6.63*10**-34;       #plancks constant(Js)\n",
    "Ef=7*e;               #fermi energy(J)\n",
    "\n",
    "#Calculation\n",
    "x=Ef*8*m/h**2;\n",
    "n23=x/((3/math.pi)**(2/3));\n",
    "n=n23**(3/2);         #total number of free electrons(electrons/m**3)\n",
    "\n",
    "#Result\n",
    "print \"total number of free electrons is\",round(n/10**28,4),\"*10**28 electrons/m**3\"\n",
    "print \"answer in the book varies due to rounding off errors\""
   ]
  },
  {
   "cell_type": "markdown",
   "metadata": {},
   "source": [
    "## Example number 3, Page number 5-28"
   ]
  },
  {
   "cell_type": "code",
   "execution_count": 8,
   "metadata": {
    "collapsed": false
   },
   "outputs": [
    {
     "name": "stdout",
     "output_type": "stream",
     "text": [
      "relaxation time is 39.742 *10**-15 s\n",
      "answer in the book varies due to rounding off errors\n"
     ]
    }
   ],
   "source": [
    "#importing modules\n",
    "import math\n",
    "from __future__ import division\n",
    "\n",
    "#Variable declaration\n",
    "rho=1.54*10**-8;      #resistivity(ohm m)\n",
    "n=5.8*10**28;         #number of electrons\n",
    "e=1.602*10**-19;      #charge(c)\n",
    "m=9.11*10**-31;       #mass(kg)\n",
    "\n",
    "#Calculation\n",
    "tow=m/(n*e**2*rho);    #relaxation time(s)\n",
    "\n",
    "#Result\n",
    "print \"relaxation time is\",round(tow*10**15,3),\"*10**-15 s\"\n",
    "print \"answer in the book varies due to rounding off errors\""
   ]
  },
  {
   "cell_type": "markdown",
   "metadata": {},
   "source": [
    "## Example number 4, Page number 5-29"
   ]
  },
  {
   "cell_type": "code",
   "execution_count": 10,
   "metadata": {
    "collapsed": false
   },
   "outputs": [
    {
     "name": "stdout",
     "output_type": "stream",
     "text": [
      "relaxation time is 3.82 *10**-14 s\n"
     ]
    }
   ],
   "source": [
    "#importing modules\n",
    "import math\n",
    "from __future__ import division\n",
    "\n",
    "#Variable declaration\n",
    "rho=1.43*10**-8;      #resistivity(ohm m)\n",
    "n=6.5*10**28;         #number of electrons\n",
    "e=1.6*10**-19;      #charge(c)\n",
    "m=9.1*10**-31;       #mass(kg)\n",
    "\n",
    "#Calculation\n",
    "tow=m/(n*e**2*rho);    #relaxation time(s)\n",
    "\n",
    "#Result\n",
    "print \"relaxation time is\",round(tow*10**14,2),\"*10**-14 s\""
   ]
  },
  {
   "cell_type": "markdown",
   "metadata": {},
   "source": [
    "## Example number 5, Page number 5-29"
   ]
  },
  {
   "cell_type": "code",
   "execution_count": 17,
   "metadata": {
    "collapsed": false
   },
   "outputs": [
    {
     "name": "stdout",
     "output_type": "stream",
     "text": [
      "number of conduction electrons is 1.8088 *10**29 /m**3\n",
      "mobility is 0.00128 m**2/Vs\n",
      "drift velocity is 2.3 *10**-4 m/s\n"
     ]
    }
   ],
   "source": [
    "#importing modules\n",
    "import math\n",
    "from __future__ import division\n",
    "\n",
    "#Variable declaration\n",
    "D=2.7*10**3;       #density(kg/m**3)\n",
    "rho=2.7*10**-8;    #resistivity(ohm m)\n",
    "w=26.98;           #atomic weight\n",
    "Na=6.025*10**26;   #avagadro number\n",
    "e=1.6*10**-19;     #charge(c)\n",
    "L=5;               #length(m)\n",
    "R=0.06;            #resistance(ohm)\n",
    "I=15;              #current(A)\n",
    "n=3;               #number of electrons\n",
    "\n",
    "#Calculation\n",
    "N=n*D*Na/w;           #number of conduction electrons(/m**3)\n",
    "mew=1/(rho*N*e);      #mobility(m**2/Vs)\n",
    "vd=I*R/(L*rho*N*e);   #drift velocity(m/s)\n",
    "\n",
    "#Result\n",
    "print \"number of conduction electrons is\",round(N/10**29,4),\"*10**29 /m**3\"\n",
    "print \"mobility is\",round(mew,5),\"m**2/Vs\"\n",
    "print \"drift velocity is\",round(vd*10**4,1),\"*10**-4 m/s\""
   ]
  },
  {
   "cell_type": "markdown",
   "metadata": {},
   "source": [
    "## Example number 6, Page number 5-30"
   ]
  },
  {
   "cell_type": "code",
   "execution_count": 21,
   "metadata": {
    "collapsed": false
   },
   "outputs": [
    {
     "name": "stdout",
     "output_type": "stream",
     "text": [
      "mobility is 0.00427 m**2/Vs\n",
      "answer given in the book is wrong\n"
     ]
    }
   ],
   "source": [
    "#importing modules\n",
    "import math\n",
    "from __future__ import division\n",
    "\n",
    "#Variable declaration\n",
    "D=8.92*10**3;     #density(kg/m**3)\n",
    "rho=1.73*10**-8;    #resistivity(ohm m)\n",
    "W=63.5;    #atomic weight\n",
    "Na=6.02*10**26;    #avagadro number\n",
    "e=1.6*10**-19;      #charge(c)\n",
    "\n",
    "#Calculation\n",
    "n=D*Na/W;\n",
    "mew=1/(rho*n*e);      #mobility(m**2/Vs)\n",
    "\n",
    "#Result\n",
    "print \"mobility is\",round(mew,5),\"m**2/Vs\"\n",
    "print \"answer given in the book is wrong\""
   ]
  },
  {
   "cell_type": "markdown",
   "metadata": {},
   "source": [
    "## Example number 7, Page number 5-31"
   ]
  },
  {
   "cell_type": "code",
   "execution_count": 22,
   "metadata": {
    "collapsed": false
   },
   "outputs": [
    {
     "name": "stdout",
     "output_type": "stream",
     "text": [
      "mobility is 0.00428 m**2/Vs\n",
      "answer given in the book is wrong\n"
     ]
    }
   ],
   "source": [
    "#importing modules\n",
    "import math\n",
    "from __future__ import division\n",
    "\n",
    "#Variable declaration\n",
    "D=8.95*10**3;     #density(kg/m**3)\n",
    "rho=1.721*10**-8;    #resistivity(ohm m)\n",
    "W=63.54;    #atomic weight\n",
    "Na=6.025*10**26;    #avagadro number\n",
    "e=1.6*10**-19;      #charge(c)\n",
    "\n",
    "#Calculation\n",
    "n=D*Na/W;\n",
    "mew=1/(rho*n*e);      #mobility(m**2/Vs)\n",
    "\n",
    "#Result\n",
    "print \"mobility is\",round(mew,5),\"m**2/Vs\"\n",
    "print \"answer given in the book is wrong\""
   ]
  },
  {
   "cell_type": "markdown",
   "metadata": {},
   "source": [
    "## Example number 8, Page number 5-31"
   ]
  },
  {
   "cell_type": "code",
   "execution_count": 25,
   "metadata": {
    "collapsed": false
   },
   "outputs": [
    {
     "name": "stdout",
     "output_type": "stream",
     "text": [
      "relaxation time is 3.64 *10**-14 s\n"
     ]
    }
   ],
   "source": [
    "#importing modules\n",
    "import math\n",
    "from __future__ import division\n",
    "\n",
    "#Variable declaration\n",
    "rho=1.50*10**-8;    #resistivity(ohm m)\n",
    "n=6.5*10**28;       #conduction electrons(per m**3)\n",
    "e=1.602*10**-19;      #charge(c)\n",
    "m=9.11*10**-31;      #mass(kg)\n",
    "\n",
    "#Calculation\n",
    "tow=m/(n*e**2*rho);     #relaxation time(sec)\n",
    "\n",
    "#Result\n",
    "print \"relaxation time is\",round(tow*10**14,2),\"*10**-14 s\""
   ]
  },
  {
   "cell_type": "markdown",
   "metadata": {},
   "source": [
    "## Example number 9, Page number 5-32"
   ]
  },
  {
   "cell_type": "code",
   "execution_count": 30,
   "metadata": {
    "collapsed": false
   },
   "outputs": [
    {
     "name": "stdout",
     "output_type": "stream",
     "text": [
      "relaxation time is 3.97 *10**-14 s\n",
      "drift velocity is 0.7 m/s\n",
      "mobility is 0.7 *10**-2 m**2/Vs\n",
      "thermal velocity is 1.17 *10**5 m/s\n"
     ]
    }
   ],
   "source": [
    "#importing modules\n",
    "import math\n",
    "from __future__ import division\n",
    "\n",
    "#Variable declaration\n",
    "m=9.11*10**-31;      #mass(kg)\n",
    "rho=1.54*10**-8;     #resistivity(ohm m)\n",
    "e=1.602*10**-19;     #charge(c)\n",
    "E=10**2;             #electric field(V/m)\n",
    "n=5.8*10**28;        #number of electrons\n",
    "Kb=1.381*10**-23;    #boltzmann constant\n",
    "T=300;               #temperature(K)\n",
    "\n",
    "#Calculation\n",
    "tow=m/(n*e**2*rho);   #relaxation time(s)\n",
    "vd=e*E*tow/m;         #drift velocity(m/s)\n",
    "mew=vd/E;             #mobility(m**2/Vs)\n",
    "Vth=math.sqrt(3*Kb*T/m);     #thermal velocity(m/s)\n",
    "\n",
    "#Result\n",
    "print \"relaxation time is\",round(tow*10**14,2),\"*10**-14 s\"\n",
    "print \"drift velocity is\",round(vd,1),\"m/s\"\n",
    "print \"mobility is\",round(mew*10**2,1),\"*10**-2 m**2/Vs\"\n",
    "print \"thermal velocity is\",round(Vth/10**5,2),\"*10**5 m/s\""
   ]
  },
  {
   "cell_type": "markdown",
   "metadata": {},
   "source": [
    "## Example number 10, Page number 5-32"
   ]
  },
  {
   "cell_type": "code",
   "execution_count": 32,
   "metadata": {
    "collapsed": false
   },
   "outputs": [
    {
     "name": "stdout",
     "output_type": "stream",
     "text": [
      "fermi velocity is 1.39 *10**6 m/s\n",
      "mean free path is 5.52 *10**-8 m\n"
     ]
    }
   ],
   "source": [
    "#importing modules\n",
    "import math\n",
    "from __future__ import division\n",
    "\n",
    "#Variable declaration\n",
    "m=9.11*10**-31;      #mass(kg)\n",
    "e=1.602*10**-19;     #charge(c)\n",
    "E=5.5;               #fermi energy(V/m)\n",
    "tow=3.97*10**-14;    #relaxation time(s)\n",
    "\n",
    "#Calculation\n",
    "Vf=math.sqrt(2*E*e/m);    #fermi velocity(m/s)\n",
    "lamda=Vf*tow;             #mean free path(m)\n",
    "\n",
    "#Result\n",
    "print \"fermi velocity is\",round(Vf/10**6,2),\"*10**6 m/s\"\n",
    "print \"mean free path is\",round(lamda*10**8,2),\"*10**-8 m\""
   ]
  },
  {
   "cell_type": "markdown",
   "metadata": {},
   "source": [
    "## Example number 11, Page number 5-33"
   ]
  },
  {
   "cell_type": "code",
   "execution_count": 35,
   "metadata": {
    "collapsed": false
   },
   "outputs": [
    {
     "name": "stdout",
     "output_type": "stream",
     "text": [
      "electronic concentration is 5.863 *10**28 per m**3\n",
      "fermi energy is 8.83 *10**-19 J\n"
     ]
    }
   ],
   "source": [
    "#importing modules\n",
    "import math\n",
    "from __future__ import division\n",
    "\n",
    "#Variable declaration\n",
    "n=1;                  #number of electrons\n",
    "NA=6.025*10**26;      #avagadro number\n",
    "D=10500;              #density(kg/m**3)\n",
    "M=107.9;              #atomic weight(kg)\n",
    "m=9.11*10**-31;       #mass(kg)\n",
    "h=6.63*10**-34;       #plancks constant(Js)\n",
    "\n",
    "#Calculation\n",
    "n=n*NA*D/M;           #electronic concentration(per m**3)\n",
    "x=(3*n/math.pi)**(2/3);\n",
    "Ef=h**2*x/(8*m);      #fermi energy(J)\n",
    "\n",
    "#Result\n",
    "print \"electronic concentration is\",round(n/10**28,3),\"*10**28 per m**3\"\n",
    "print \"fermi energy is\",round(Ef*10**19,2),\"*10**-19 J\""
   ]
  },
  {
   "cell_type": "markdown",
   "metadata": {},
   "source": [
    "## Example number 12, Page number 5-33"
   ]
  },
  {
   "cell_type": "code",
   "execution_count": 38,
   "metadata": {
    "collapsed": false
   },
   "outputs": [
    {
     "name": "stdout",
     "output_type": "stream",
     "text": [
      "current density is 1 *10**7 amp/m**2\n",
      "drift velocity is 0.7391 *10**-3 m/s\n"
     ]
    }
   ],
   "source": [
    "#importing modules\n",
    "import math\n",
    "from __future__ import division\n",
    "\n",
    "#Variable declaration\n",
    "D=8.92*10**3;     #density(kg/m**3)\n",
    "w=63.5;           #atomic weight\n",
    "Na=6.02*10**26;   #avagadro number\n",
    "e=1.6*10**-19;    #charge(c)\n",
    "I=100;            #current(A)\n",
    "A=10*10**-6;      #area(m**2)\n",
    "n=1;\n",
    "\n",
    "#Calculation\n",
    "J=I/A;            #current density(amp/m**2)\n",
    "n=n*Na*D/w;\n",
    "vd=J/(n*e);       #drift velocity(m/s)\n",
    "\n",
    "#Result\n",
    "print \"current density is\",int(J/10**7),\"*10**7 amp/m**2\"\n",
    "print \"drift velocity is\",round(vd*10**3,4),\"*10**-3 m/s\""
   ]
  }
 ],
 "metadata": {
  "kernelspec": {
   "display_name": "Python 2",
   "language": "python",
   "name": "python2"
  },
  "language_info": {
   "codemirror_mode": {
    "name": "ipython",
    "version": 2
   },
   "file_extension": ".py",
   "mimetype": "text/x-python",
   "name": "python",
   "nbconvert_exporter": "python",
   "pygments_lexer": "ipython2",
   "version": "2.7.11"
  }
 },
 "nbformat": 4,
 "nbformat_minor": 0
}
