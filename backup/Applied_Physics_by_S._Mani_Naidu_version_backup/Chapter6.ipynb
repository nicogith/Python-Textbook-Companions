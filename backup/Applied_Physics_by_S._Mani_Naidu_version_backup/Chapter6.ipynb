{
 "cells": [
  {
   "cell_type": "markdown",
   "metadata": {},
   "source": [
    "# 6: Dielectric Properties"
   ]
  },
  {
   "cell_type": "markdown",
   "metadata": {},
   "source": [
    "## Example number 1, Page number 6-23"
   ]
  },
  {
   "cell_type": "code",
   "execution_count": 2,
   "metadata": {
    "collapsed": false
   },
   "outputs": [
    {
     "name": "stdout",
     "output_type": "stream",
     "text": [
      "dielectric constant is 1.339\n"
     ]
    }
   ],
   "source": [
    "#importing modules\n",
    "import math\n",
    "from __future__ import division\n",
    "\n",
    "#Variable declaration\n",
    "alpha_e=10**-40;     #polarisability(Fm**2)\n",
    "N=3*10**28;          #density of atoms\n",
    "epsilon0=8.85*10**-12;    \n",
    "\n",
    "#Calculation\n",
    "epsilonr=(N*alpha_e/epsilon0)+1;     #dielectric constant\n",
    "\n",
    "#Result\n",
    "print \"dielectric constant is\",round(epsilonr,3)"
   ]
  },
  {
   "cell_type": "markdown",
   "metadata": {},
   "source": [
    "## Example number 2, Page number 6-24"
   ]
  },
  {
   "cell_type": "code",
   "execution_count": 5,
   "metadata": {
    "collapsed": false
   },
   "outputs": [
    {
     "name": "stdout",
     "output_type": "stream",
     "text": [
      "capacitance is 8.85e-12 F\n",
      "charge on plates is 8.85e-10 C\n"
     ]
    }
   ],
   "source": [
    "#importing modules\n",
    "import math\n",
    "from __future__ import division\n",
    "\n",
    "#Variable declaration\n",
    "A=100*10**-4;      #area(m**2)\n",
    "epsilon0=8.85*10**-12;    \n",
    "d=1*10**-2;     #seperation(m)\n",
    "V=100;     #potential(V)\n",
    "\n",
    "#Calculation\n",
    "C=A*epsilon0/d;     #capacitance(PF)\n",
    "Q=C*V;         #charge on plates(C)\n",
    "\n",
    "#Result\n",
    "print \"capacitance is\",C,\"F\"\n",
    "print \"charge on plates is\",Q,\"C\""
   ]
  },
  {
   "cell_type": "markdown",
   "metadata": {},
   "source": [
    "## Example number 3, Page number 6-24"
   ]
  },
  {
   "cell_type": "code",
   "execution_count": 7,
   "metadata": {
    "collapsed": false
   },
   "outputs": [
    {
     "name": "stdout",
     "output_type": "stream",
     "text": [
      "polarisability is 2.242e-41 Fm**2\n"
     ]
    }
   ],
   "source": [
    "#importing modules\n",
    "import math\n",
    "from __future__ import division\n",
    "\n",
    "#Variable declaration\n",
    "epsilonr=1.0000684;     #dielectric constant\n",
    "N=2.7*10**25;   #number of atoms\n",
    "epsilon0=8.85*10**-12;    \n",
    "\n",
    "#Calculation\n",
    "alpha_e=epsilon0*(epsilonr-1)/N;    #polarisability(Fm**2)\n",
    "\n",
    "#Result\n",
    "print \"polarisability is\",alpha_e,\"Fm**2\""
   ]
  },
  {
   "cell_type": "markdown",
   "metadata": {},
   "source": [
    "## Example number 4, Page number 6-24"
   ]
  },
  {
   "cell_type": "code",
   "execution_count": 10,
   "metadata": {
    "collapsed": false
   },
   "outputs": [
    {
     "name": "stdout",
     "output_type": "stream",
     "text": [
      "voltage is 39.73 V\n"
     ]
    }
   ],
   "source": [
    "#importing modules\n",
    "import math\n",
    "from __future__ import division\n",
    "\n",
    "#Variable declaration\n",
    "A=650*10**-6;      #area(m**2)\n",
    "epsilon0=8.85*10**-12;    \n",
    "d=4*10**-3;     #seperation(m)\n",
    "Q=2*10**-10;    #charge(C)\n",
    "epsilonr=3.5;   #dielectric constant\n",
    "\n",
    "#Calculation  \n",
    "V=Q*d/(epsilon0*epsilonr*A);    #voltage(V)\n",
    "\n",
    "#Result\n",
    "print \"voltage is\",round(V,2),\"V\""
   ]
  },
  {
   "cell_type": "markdown",
   "metadata": {},
   "source": [
    "## Example number 5, Page number 6-25"
   ]
  },
  {
   "cell_type": "code",
   "execution_count": 13,
   "metadata": {
    "collapsed": false
   },
   "outputs": [
    {
     "name": "stdout",
     "output_type": "stream",
     "text": [
      "polarisation is 212.4 *10**-9 C-m\n"
     ]
    }
   ],
   "source": [
    "#importing modules\n",
    "import math\n",
    "from __future__ import division\n",
    "\n",
    "#Variable declaration\n",
    "epsilonr=5;     #relative permittivity\n",
    "V=12;           #potential(V)\n",
    "d=2*10**-3;     #separation(m) \n",
    "epsilon0=8.85*10**-12;    \n",
    "\n",
    "#Calculation\n",
    "P=epsilon0*(epsilonr-1)*V/d;     #polarisation(C-m)\n",
    "\n",
    "#Result\n",
    "print \"polarisation is\",P*10**9,\"*10**-9 C-m\""
   ]
  },
  {
   "cell_type": "markdown",
   "metadata": {},
   "source": [
    "## Example number 6, Page number 6-25"
   ]
  },
  {
   "cell_type": "code",
   "execution_count": 16,
   "metadata": {
    "collapsed": false
   },
   "outputs": [
    {
     "name": "stdout",
     "output_type": "stream",
     "text": [
      "electronic polarisability is 3.29 *10**-40 Fm**2\n",
      "answer in the book varies due to rounding off errors\n"
     ]
    }
   ],
   "source": [
    "#importing modules\n",
    "import math\n",
    "from __future__ import division\n",
    "\n",
    "#Variable declaration\n",
    "epsilonr=3.75;       #relative dielectric constant\n",
    "gama=1/3;     #internal field constant\n",
    "D=2050;       #density(kg/m**3)\n",
    "M=32;         #atomic weight(amu)\n",
    "Na=6.02*10**26;     #avagadro number\n",
    "epsilon0=8.85*10**-12;    \n",
    "\n",
    "#Calculation\n",
    "N=Na*D/M;     #number of atoms per m**3\n",
    "x=(epsilonr-1)/(epsilonr+2);\n",
    "alpha_e=x*3*epsilon0/N;     #electronic polarisability(F-m**2)\n",
    "\n",
    "#Result\n",
    "print \"electronic polarisability is\",round(alpha_e*10**40,2),\"*10**-40 Fm**2\"\n",
    "print \"answer in the book varies due to rounding off errors\""
   ]
  },
  {
   "cell_type": "markdown",
   "metadata": {},
   "source": [
    "## Example number 7, Page number 6-26"
   ]
  },
  {
   "cell_type": "code",
   "execution_count": 18,
   "metadata": {
    "collapsed": false
   },
   "outputs": [
    {
     "name": "stdout",
     "output_type": "stream",
     "text": [
      "orientational polarisation is 1.0298 *10**-11 C-m\n"
     ]
    }
   ],
   "source": [
    "#importing modules\n",
    "import math\n",
    "from __future__ import division\n",
    "\n",
    "#Variable declaration\n",
    "e=1.6*10**-19;    #charge(coulomb)\n",
    "x=0.25*10**-9;    #separation(m)\n",
    "E=5*10**5;        #intensity of electric field(V/m)\n",
    "T=300;            #temperature(K) \n",
    "KB=1.381*10**-23; #boltzmann constant(J/K)\n",
    "N=1.6*10**20;     #avagadro number\n",
    "\n",
    "#Calculation\n",
    "Pd=N*(e*x)**2*E/(3*KB*T);    #orientational polarisation(C-m)\n",
    "\n",
    "#Result\n",
    "print \"orientational polarisation is\",round(Pd*10**11,4),\"*10**-11 C-m\""
   ]
  },
  {
   "cell_type": "markdown",
   "metadata": {},
   "source": [
    "## Example number 8, Page number 6-26"
   ]
  },
  {
   "cell_type": "code",
   "execution_count": 23,
   "metadata": {
    "collapsed": false
   },
   "outputs": [
    {
     "name": "stdout",
     "output_type": "stream",
     "text": [
      "polarisability is 2.242e-41 Fm**2\n",
      "radius of electron cloud is 5.864 *10**-11 m\n",
      "answer for radius given in the book varies due to rounding off errors\n",
      "displacement is 0.7 *10**-16 m\n"
     ]
    }
   ],
   "source": [
    "#importing modules\n",
    "import math\n",
    "from __future__ import division\n",
    "\n",
    "#Variable declaration\n",
    "epsilonr=1.0000684;     #dielectric constant\n",
    "N=2.7*10**25;   #number of atoms\n",
    "epsilon0=8.85*10**-12;    \n",
    "E=10**6;        #electric field(V/m)\n",
    "Z=2;\n",
    "\n",
    "#Calculation\n",
    "alphae=epsilon0*(epsilonr-1)/N;    #polarisability(Fm**2)\n",
    "r=(alphae/(4*math.pi*epsilon0))**(1/3);    #radius of electron cloud(m)\n",
    "d=alphae*E/(Z*e);                   #displacement(m) \n",
    "\n",
    "#Result\n",
    "print \"polarisability is\",alpha_e,\"Fm**2\"\n",
    "print \"radius of electron cloud is\",round(r*10**11,3),\"*10**-11 m\"\n",
    "print \"answer for radius given in the book varies due to rounding off errors\"\n",
    "print \"displacement is\",round(d*10**16,1),\"*10**-16 m\""
   ]
  },
  {
   "cell_type": "markdown",
   "metadata": {},
   "source": [
    "## Example number 9, Page number 6-27"
   ]
  },
  {
   "cell_type": "code",
   "execution_count": 25,
   "metadata": {
    "collapsed": false
   },
   "outputs": [
    {
     "name": "stdout",
     "output_type": "stream",
     "text": [
      "voltage across plates is 53.8 V\n"
     ]
    }
   ],
   "source": [
    "#importing modules\n",
    "import math\n",
    "from __future__ import division\n",
    "\n",
    "#Variable declaration\n",
    "A=750*10**-6;      #area(m**2)\n",
    "epsilon0=8.85*10**-12;    \n",
    "epsilonr=3.5;      #dielectric constant\n",
    "d=5*10**-3;        #seperation(m)\n",
    "Q=2.5*10**-10;     #charge on plates(C)\n",
    "\n",
    "#Calculation\n",
    "V=Q*d/(epsilon0*epsilonr*A);     #voltage across plates(V)\n",
    "\n",
    "#Result\n",
    "print \"voltage across plates is\",round(V,1),\"V\""
   ]
  },
  {
   "cell_type": "markdown",
   "metadata": {},
   "source": [
    "## Example number 10, Page number 6-27"
   ]
  },
  {
   "cell_type": "code",
   "execution_count": 33,
   "metadata": {
    "collapsed": false
   },
   "outputs": [
    {
     "name": "stdout",
     "output_type": "stream",
     "text": [
      "dipole moment per unit electric field is 8.9 *10**-40 F-m**2\n",
      "polarisation is 26.7 *10**-15 C-m\n",
      "dielectric constant is 1.00302\n",
      "polarisability is 8.9 *10**-40 Fm**2\n"
     ]
    }
   ],
   "source": [
    "#importing modules\n",
    "import math\n",
    "from __future__ import division\n",
    "\n",
    "#Variable declaration\n",
    "N=3*10**25;   #number of atoms\n",
    "epsilon0=8.85*10**-12;    \n",
    "r=0.2*10**-9; #radius(m)   \n",
    "E=1;          #field\n",
    "\n",
    "#Calculation\n",
    "p=4*math.pi*epsilon0*r**3;        #dipole moment per unit electric field(F-m**2)\n",
    "P=N*p;                            #polarisation(C-m)\n",
    "epsilonr=1+(4*math.pi*r**3*N/E);  #dielectric constant\n",
    "alphae=epsilon0*(epsilonr-1)/N;   #polarisability(Fm**2)\n",
    "\n",
    "#Result\n",
    "print \"dipole moment per unit electric field is\",round(p*10**40,1),\"*10**-40 F-m**2\"\n",
    "print \"polarisation is\",round(P*10**15,1),\"*10**-15 C-m\"\n",
    "print \"dielectric constant is\",round(epsilonr,5)\n",
    "print \"polarisability is\",round(alphae*10**40,1),\"*10**-40 Fm**2\""
   ]
  },
  {
   "cell_type": "markdown",
   "metadata": {},
   "source": [
    "## Example number 11, Page number 6-28"
   ]
  },
  {
   "cell_type": "code",
   "execution_count": 35,
   "metadata": {
    "collapsed": false
   },
   "outputs": [
    {
     "name": "stdout",
     "output_type": "stream",
     "text": [
      "polarisability is 1.426 *10**-40 F-m**2\n"
     ]
    }
   ],
   "source": [
    "#importing modules\n",
    "import math\n",
    "from __future__ import division\n",
    "\n",
    "#Variable declaration\n",
    "N=2.7*10**25;   #number of atoms\n",
    "epsilon0=8.85*10**-12;    \n",
    "epsilonr=1.000435;  #dielectric constant\n",
    "\n",
    "#Calculation\n",
    "alphae=epsilon0*(epsilonr-1)/N;   #polarisability(Fm**2)\n",
    "\n",
    "#Result\n",
    "print \"polarisability is\",round(alphae*10**40,3),\"*10**-40 F-m**2\""
   ]
  },
  {
   "cell_type": "markdown",
   "metadata": {},
   "source": [
    "## Example number 12, Page number 6-28"
   ]
  },
  {
   "cell_type": "code",
   "execution_count": 36,
   "metadata": {
    "collapsed": false
   },
   "outputs": [
    {
     "name": "stdout",
     "output_type": "stream",
     "text": [
      "polarisability is 6.785 *10**-40 F-m**2\n"
     ]
    }
   ],
   "source": [
    "#importing modules\n",
    "import math\n",
    "from __future__ import division\n",
    "\n",
    "#Variable declaration\n",
    "epsilon0=8.85*10**-12;    \n",
    "epsilonr=4;        #dielectric constant\n",
    "NA=6.02*10**26;    #avagadro number\n",
    "D=2.08*10**3;      #density(kg/m**3)\n",
    "M=32;              #atomic weight(kg)\n",
    "\n",
    "#Calculation\n",
    "N=NA*D/M;          #number of atoms\n",
    "alphae=epsilon0*(epsilonr-1)/N;   #polarisability(Fm**2)\n",
    "\n",
    "#Result\n",
    "print \"polarisability is\",round(alphae*10**40,3),\"*10**-40 F-m**2\""
   ]
  }
 ],
 "metadata": {
  "kernelspec": {
   "display_name": "Python 2",
   "language": "python",
   "name": "python2"
  },
  "language_info": {
   "codemirror_mode": {
    "name": "ipython",
    "version": 2
   },
   "file_extension": ".py",
   "mimetype": "text/x-python",
   "name": "python",
   "nbconvert_exporter": "python",
   "pygments_lexer": "ipython2",
   "version": "2.7.11"
  }
 },
 "nbformat": 4,
 "nbformat_minor": 0
}
