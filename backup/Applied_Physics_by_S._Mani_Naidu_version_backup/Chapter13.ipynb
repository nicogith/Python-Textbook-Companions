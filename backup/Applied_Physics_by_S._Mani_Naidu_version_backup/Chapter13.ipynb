{
 "cells": [
  {
   "cell_type": "markdown",
   "metadata": {},
   "source": [
    "# 13: Acoustics of Buildings and Acoustic Quieting"
   ]
  },
  {
   "cell_type": "markdown",
   "metadata": {},
   "source": [
    "## Example number 1, Page number 13-14"
   ]
  },
  {
   "cell_type": "code",
   "execution_count": 4,
   "metadata": {
    "collapsed": false
   },
   "outputs": [
    {
     "name": "stdout",
     "output_type": "stream",
     "text": [
      "reverberation time of hall without audience is 3.9 seconds\n",
      "reverberation time of hall with audience is 1.963 seconds\n"
     ]
    }
   ],
   "source": [
    "#importing modules\n",
    "import math\n",
    "from __future__ import division\n",
    "\n",
    "#Variable Declaration\n",
    "A=92.9;          #absorption(m**2)\n",
    "V=2265;          #volume(m**3)\n",
    "\n",
    "#Calculation\n",
    "T1=0.161*V/A;        #reverberation time of hall without audience(seconds)\n",
    "T2=0.161*V/(A*2);    #reverberation time of hall with audience(seconds)\n",
    "\n",
    "#Result\n",
    "print \"reverberation time of hall without audience is\",round(T1,1),\"seconds\"\n",
    "print \"reverberation time of hall with audience is\",round(T2,3),\"seconds\""
   ]
  }
 ],
 "metadata": {
  "kernelspec": {
   "display_name": "Python 2",
   "language": "python",
   "name": "python2"
  },
  "language_info": {
   "codemirror_mode": {
    "name": "ipython",
    "version": 2
   },
   "file_extension": ".py",
   "mimetype": "text/x-python",
   "name": "python",
   "nbconvert_exporter": "python",
   "pygments_lexer": "ipython2",
   "version": "2.7.11"
  }
 },
 "nbformat": 4,
 "nbformat_minor": 0
}
