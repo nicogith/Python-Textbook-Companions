{
 "cells": [
  {
   "cell_type": "markdown",
   "metadata": {},
   "source": [
    "# 9: Superconductivity"
   ]
  },
  {
   "cell_type": "markdown",
   "metadata": {},
   "source": [
    "## Example number 1, Page number 9-22"
   ]
  },
  {
   "cell_type": "code",
   "execution_count": 2,
   "metadata": {
    "collapsed": false
   },
   "outputs": [
    {
     "name": "stdout",
     "output_type": "stream",
     "text": [
      "transition temperature is 11.3 K\n"
     ]
    }
   ],
   "source": [
    "#importing modules\n",
    "import math\n",
    "from __future__ import division\n",
    "\n",
    "#Variable declaration\n",
    "Hc=1*10**5;    #critical magnetic field(A/m)\n",
    "T=8;           #temperature(K)\n",
    "H0=2*10**5;    #critical magnetic field(A/m)\n",
    "\n",
    "#Calculation\n",
    "Tc=T/math.sqrt(1-(Hc/H0));     #transition temperature(K)\n",
    "\n",
    "#Result\n",
    "print \"transition temperature is\",round(Tc,1),\"K\""
   ]
  },
  {
   "cell_type": "markdown",
   "metadata": {},
   "source": [
    "## Example number 2, Page number 9-22"
   ]
  },
  {
   "cell_type": "code",
   "execution_count": 4,
   "metadata": {
    "collapsed": false
   },
   "outputs": [
    {
     "name": "stdout",
     "output_type": "stream",
     "text": [
      "frequency is 4.1 *10**9 Hz\n"
     ]
    }
   ],
   "source": [
    "#importing modules\n",
    "import math\n",
    "from __future__ import division\n",
    "\n",
    "#Variable declaration\n",
    "e=1.6*10**-19;    #charge(c)\n",
    "h=6.626*10**-34;  #plank constant\n",
    "V=8.5*10**-6;     #voltage(V)\n",
    "\n",
    "#Calculation\n",
    "new=2*e*V/h;      #frequency(Hz)\n",
    "\n",
    "#Result\n",
    "print \"frequency is\",round(new/10**9,1),\"*10**9 Hz\""
   ]
  },
  {
   "cell_type": "markdown",
   "metadata": {},
   "source": [
    "## Example number 3, Page number 9-22"
   ]
  },
  {
   "cell_type": "code",
   "execution_count": 7,
   "metadata": {
    "collapsed": false
   },
   "outputs": [
    {
     "name": "stdout",
     "output_type": "stream",
     "text": [
      "critical field is 0.02166 Tesla\n"
     ]
    }
   ],
   "source": [
    "#importing modules\n",
    "import math\n",
    "from __future__ import division\n",
    "\n",
    "#Variable declaration\n",
    "T=2;         #temperature(K)\n",
    "Tc=3.7;      #critical temperature(K)\n",
    "H0=0.0306;   #critical magnetic field(A/m)\n",
    "\n",
    "#Calculation\n",
    "Hc=H0*(1-(T/Tc)**2);    #critical field(Tesla)\n",
    "\n",
    "#Result\n",
    "print \"critical field is\",round(Hc,5),\"Tesla\""
   ]
  },
  {
   "cell_type": "markdown",
   "metadata": {},
   "source": [
    "## Example number 4, Page number 9-23"
   ]
  },
  {
   "cell_type": "code",
   "execution_count": 11,
   "metadata": {
    "collapsed": false
   },
   "outputs": [
    {
     "name": "stdout",
     "output_type": "stream",
     "text": [
      "maximum critical temperature is 7.2 K\n"
     ]
    }
   ],
   "source": [
    "#importing modules\n",
    "import math\n",
    "from __future__ import division\n",
    "\n",
    "#Variable declaration\n",
    "Hc=200*10**3;    #critical magnetic field(A/m)\n",
    "Tc=12;           #critical temperature(K)\n",
    "H0=250*10**3;    #critical magnetic field(A/m)\n",
    "\n",
    "#Calculation\n",
    "T=Tc*math.sqrt(1-(Hc/H0)**2);     #maximum critical temperature(K)\n",
    "\n",
    "#Result\n",
    "print \"maximum critical temperature is\",T,\"K\""
   ]
  },
  {
   "cell_type": "markdown",
   "metadata": {},
   "source": [
    "## Example number 5, Page number 9-23"
   ]
  },
  {
   "cell_type": "code",
   "execution_count": 14,
   "metadata": {
    "collapsed": false
   },
   "outputs": [
    {
     "name": "stdout",
     "output_type": "stream",
     "text": [
      "critical field is 0.0163 Tesla\n"
     ]
    }
   ],
   "source": [
    "#importing modules\n",
    "import math\n",
    "from __future__ import division\n",
    "\n",
    "#Variable declaration\n",
    "T=2.5;         #temperature(K)\n",
    "Tc=3.7;        #critical temperature(K)\n",
    "H0=0.03;       #critical magnetic field(A/m)\n",
    "\n",
    "#Calculation\n",
    "Hc=H0*(1-(T/Tc)**2);    #critical field(Tesla)\n",
    "\n",
    "#Result\n",
    "print \"critical field is\",round(Hc,4),\"Tesla\""
   ]
  },
  {
   "cell_type": "markdown",
   "metadata": {},
   "source": [
    "## Example number 6, Page number 9-23"
   ]
  },
  {
   "cell_type": "code",
   "execution_count": 16,
   "metadata": {
    "collapsed": false
   },
   "outputs": [
    {
     "name": "stdout",
     "output_type": "stream",
     "text": [
      "frequency is 313.96 *10**9 Hz\n"
     ]
    }
   ],
   "source": [
    "#importing modules\n",
    "import math\n",
    "from __future__ import division\n",
    "\n",
    "#Variable declaration\n",
    "e=1.6*10**-19;    #charge(c)\n",
    "h=6.625*10**-34;  #plank constant\n",
    "V=650*10**-6;     #voltage(V)\n",
    "\n",
    "#Calculation\n",
    "new=2*e*V/h;      #frequency(Hz)\n",
    "\n",
    "#Result\n",
    "print \"frequency is\",round(new/10**9,2),\"*10**9 Hz\""
   ]
  },
  {
   "cell_type": "markdown",
   "metadata": {},
   "source": [
    "## Example number 7, Page number 9-24"
   ]
  },
  {
   "cell_type": "code",
   "execution_count": 18,
   "metadata": {
    "collapsed": false
   },
   "outputs": [
    {
     "name": "stdout",
     "output_type": "stream",
     "text": [
      "critical field is 3.365 *10**3 A/m\n"
     ]
    }
   ],
   "source": [
    "#importing modules\n",
    "import math\n",
    "from __future__ import division\n",
    "\n",
    "#Variable declaration\n",
    "T=5;                    #temperature(K)\n",
    "Tc=7.2;                 #critical temperature(K)\n",
    "H0=6.5*10**3;           #critical magnetic field(A/m)\n",
    "\n",
    "#Calculation\n",
    "Hc=H0*(1-(T/Tc)**2);    #critical field(A/m)\n",
    "\n",
    "#Result\n",
    "print \"critical field is\",round(Hc/10**3,3),\"*10**3 A/m\""
   ]
  }
 ],
 "metadata": {
  "kernelspec": {
   "display_name": "Python 2",
   "language": "python",
   "name": "python2"
  },
  "language_info": {
   "codemirror_mode": {
    "name": "ipython",
    "version": 2
   },
   "file_extension": ".py",
   "mimetype": "text/x-python",
   "name": "python",
   "nbconvert_exporter": "python",
   "pygments_lexer": "ipython2",
   "version": "2.7.11"
  }
 },
 "nbformat": 4,
 "nbformat_minor": 0
}
