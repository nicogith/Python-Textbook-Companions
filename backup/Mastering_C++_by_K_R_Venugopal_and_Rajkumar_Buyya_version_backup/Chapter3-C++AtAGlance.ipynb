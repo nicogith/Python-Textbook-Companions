{
 "metadata": {
  "name": "",
  "signature": "sha256:d0ea461766152305a5e3562b0029be55e226b9445d5b8707016af6bf55ff7b00"
 },
 "nbformat": 3,
 "nbformat_minor": 0,
 "worksheets": [
  {
   "cells": [
    {
     "cell_type": "heading",
     "level": 1,
     "metadata": {},
     "source": [
      "Chapter 3- C++ at a Glance"
     ]
    },
    {
     "cell_type": "heading",
     "level": 2,
     "metadata": {},
     "source": [
      "Example- counter1.cpp, Page no-77"
     ]
    },
    {
     "cell_type": "code",
     "collapsed": false,
     "input": [
      "class Counter:\n",
      "    __value=int\n",
      "    def __init__(self, val=None):#constructor\n",
      "        if(isinstance(val, int)):\n",
      "            self.__value=val\n",
      "        else:\n",
      "            self.__value=0\n",
      "    def __del__(self):#destructor\n",
      "        print \"object destroyed\"\n",
      "    def GetCounter(self):\n",
      "        return self.__value\n",
      "    def up(self):\n",
      "        self.__value=self.__value+1\n",
      "counter1=Counter()\n",
      "counter2=Counter(1)\n",
      "print \"counter1 = \", counter1.GetCounter()\n",
      "print \"counter2 = \", counter2.GetCounter()\n",
      "counter1.up()\n",
      "counter2.up()\n",
      "print \"counter1 = \", counter1.GetCounter()\n",
      "print \"counter2 = \", counter2.GetCounter()"
     ],
     "language": "python",
     "metadata": {},
     "outputs": [
      {
       "output_type": "stream",
       "stream": "stdout",
       "text": [
        "object destroyed\n",
        "object destroyed\n",
        "counter1 =  0\n",
        "counter2 =  1\n",
        "counter1 =  1\n",
        "counter2 =  2\n"
       ]
      }
     ],
     "prompt_number": 2
    },
    {
     "cell_type": "heading",
     "level": 2,
     "metadata": {},
     "source": [
      "Example-Stdclass.cpp, Page no-80"
     ]
    },
    {
     "cell_type": "code",
     "collapsed": false,
     "input": [
      "def setdata(self, roll_no_in, name_in): #outside declaration of member functions\n",
      "    self._student__roll_no=roll_no_in\n",
      "    self._student__name=name_in\n",
      "def outdata(self):#outside declaration of member functions\n",
      "    print \"Roll no = \", self._student__roll_no\n",
      "    print \"Name = \", self._student__name\n",
      "class student:\n",
      "    __roll_no=int\n",
      "    __name=[None]*20\n",
      "    setdata=setdata\n",
      "    outdata=outdata\n",
      "s1=student()\n",
      "s2=student()\n",
      "s1.setdata(1, \"Tejaswi\")\n",
      "s2.setdata(10, \"Rajkumar\")\n",
      "print \"Student details...\"\n",
      "s1.outdata()\n",
      "s2.outdata()"
     ],
     "language": "python",
     "metadata": {},
     "outputs": [
      {
       "output_type": "stream",
       "stream": "stdout",
       "text": [
        "Student details...\n",
        "Roll no =  1\n",
        "Name =  Tejaswi\n",
        "Roll no =  10\n",
        "Name =  Rajkumar\n"
       ]
      }
     ],
     "prompt_number": 1
    },
    {
     "cell_type": "heading",
     "level": 2,
     "metadata": {},
     "source": [
      "Example-Counter2.cpp, Page no-82"
     ]
    },
    {
     "cell_type": "code",
     "collapsed": false,
     "input": [
      "class counter:\n",
      "    __value=int\n",
      "    def __init__(self, val=0):\n",
      "        self.__value=val\n",
      "    def GetCounter(self):\n",
      "        return self.__value\n",
      "    def up(self):\n",
      "        self.__value+=1\n",
      "class NewCounter(counter): #inheritance\n",
      "    def __init__(self, val=None) : \n",
      "        if(isinstance(val, int)):\n",
      "            counter.__init__(self, val)\n",
      "        else:\n",
      "            counter.__init__(self)\n",
      "    def down(self):\n",
      "        self._counter__value=self._counter__value-1\n",
      "counter1=NewCounter()\n",
      "counter2=NewCounter(1)\n",
      "print \"counter1 initially =\", counter1.GetCounter()\n",
      "print \"counter2 initially =\", counter2.GetCounter()\n",
      "counter1.up()\n",
      "counter2.up()\n",
      "print \"counter1 on increment =\", counter1.GetCounter()\n",
      "print \"counter2 on increment =\", counter2.GetCounter()\n",
      "counter1.down()\n",
      "counter2.down()\n",
      "print \"counter1 on decrement =\", counter1.GetCounter()\n",
      "print \"counter2 on decrement =\", counter2.GetCounter()"
     ],
     "language": "python",
     "metadata": {},
     "outputs": [
      {
       "output_type": "stream",
       "stream": "stdout",
       "text": [
        "counter1 initially = 0\n",
        "counter2 initially = 1\n",
        "counter1 on increment = 1\n",
        "counter2 on increment = 2\n",
        "counter1 on decrement = 0\n",
        "counter2 on decrement = 1\n"
       ]
      }
     ],
     "prompt_number": 1
    },
    {
     "cell_type": "heading",
     "level": 2,
     "metadata": {},
     "source": [
      "Example-counter3.cpp, Page no-85"
     ]
    },
    {
     "cell_type": "code",
     "collapsed": false,
     "input": [
      "class counter:\n",
      "    __value=int\n",
      "    def __init__(self, val=0):\n",
      "        self.__value=val\n",
      "    def GetCounter(self):\n",
      "        return self.__value\n",
      "    #overloading increment operator\n",
      "    def __iadd__(self, val):\n",
      "        self.__value+=val\n",
      "        return self\n",
      "    #overloading decrement operator\n",
      "    def __isub__(self, val):\n",
      "        self._counter__value-=val\n",
      "        return self\n",
      "counter1=counter()\n",
      "counter2=counter(1)\n",
      "print \"counter1 initially =\", counter1.GetCounter()\n",
      "print \"counter2 initially =\", counter2.GetCounter()\n",
      "counter1+=1\n",
      "counter2+=1\n",
      "print \"counter1 on increment =\", counter1.GetCounter()\n",
      "print \"counter2 on increment =\", counter2.GetCounter()\n",
      "counter1-=1\n",
      "counter2-=1\n",
      "print \"counter1 on decrement =\", counter1.GetCounter()\n",
      "print \"counter2 on decrement =\", counter2.GetCounter()"
     ],
     "language": "python",
     "metadata": {},
     "outputs": [
      {
       "output_type": "stream",
       "stream": "stdout",
       "text": [
        "counter1 initially = 0\n",
        "counter2 initially = 1\n",
        "counter1 on increment = 1\n",
        "counter2 on increment = 2\n",
        "counter1 on decrement = 0\n",
        "counter2 on decrement = 1\n"
       ]
      }
     ],
     "prompt_number": 1
    },
    {
     "cell_type": "heading",
     "level": 2,
     "metadata": {},
     "source": [
      "Example-counter4.cpp, Page no-88"
     ]
    },
    {
     "cell_type": "code",
     "collapsed": false,
     "input": [
      "class counter:\n",
      "    __value=int\n",
      "    def __init__(self, val=0):\n",
      "        self.__value=val\n",
      "    def GetCounter(self):\n",
      "        return self.__value\n",
      "    def __iadd__(self, val):\n",
      "        self.__value+=val\n",
      "        return self\n",
      "    def __isub__(self, val):\n",
      "        self._counter__value-=val\n",
      "        return self\n",
      "    #overloading of + operator\n",
      "    def __add__(self, counter2):\n",
      "        temp=counter()\n",
      "        temp.__value=self.__value+counter2.__value\n",
      "        return temp\n",
      "    #No overloading of << and >> operators in python\n",
      "    def output(self):\n",
      "        return self.__value\n",
      "counter1=counter()\n",
      "counter2=counter(1)\n",
      "print \"counter1 initially =\", counter1.GetCounter()\n",
      "print \"counter2 initially =\", counter2.GetCounter()\n",
      "counter1+=1\n",
      "counter2+=1\n",
      "print \"counter1 on increment =\", counter1.GetCounter()\n",
      "print \"counter2 on increment =\", counter2.GetCounter()\n",
      "counter1-=1\n",
      "counter2-=1\n",
      "print \"counter1 on decrement =\", counter1.GetCounter()\n",
      "print \"counter2 on decrement =\", counter2.GetCounter()\n",
      "counter3=counter()\n",
      "counter3=counter1+counter2\n",
      "print \"counter3 = counter1+counter2 =\", counter3.output()"
     ],
     "language": "python",
     "metadata": {},
     "outputs": [
      {
       "output_type": "stream",
       "stream": "stdout",
       "text": [
        "counter1 initially = 0\n",
        "counter2 initially = 1\n",
        "counter1 on increment = 1\n",
        "counter2 on increment = 2\n",
        "counter1 on decrement = 0\n",
        "counter2 on decrement = 1\n",
        "counter3 = counter1+counter2 = 1\n"
       ]
      }
     ],
     "prompt_number": 1
    },
    {
     "cell_type": "heading",
     "level": 2,
     "metadata": {},
     "source": [
      "Example-virtual.cpp, Page no-91"
     ]
    },
    {
     "cell_type": "code",
     "collapsed": false,
     "input": [
      "class Father:\n",
      "    __f_age=int\n",
      "    def __init__(self, n):\n",
      "        self.__f_age=n\n",
      "    def GetAge(self):\n",
      "        return self.__f_age\n",
      "class Son(Father):\n",
      "    __s_age=int\n",
      "    def __init__(self, n, m):\n",
      "        Father.__init__(self, n)\n",
      "        self.__s_age=m\n",
      "    def GetAge(self):\n",
      "        return self.__s_age\n",
      "basep=[Father]\n",
      "basep=Father(45)\n",
      "print \"Father's Age:\",\n",
      "print basep.GetAge()\n",
      "del basep\n",
      "basep=[Son(45, 20)]\n",
      "print \"Son's Age:\",\n",
      "print basep[0].GetAge()\n",
      "del basep"
     ],
     "language": "python",
     "metadata": {},
     "outputs": [
      {
       "output_type": "stream",
       "stream": "stdout",
       "text": [
        "Father's Age: 45\n",
        "Son's Age: 20\n"
       ]
      }
     ],
     "prompt_number": 2
    },
    {
     "cell_type": "heading",
     "level": 2,
     "metadata": {},
     "source": [
      "Example-vector.cpp, Page no-94"
     ]
    },
    {
     "cell_type": "code",
     "collapsed": false,
     "input": [
      "class vector:\n",
      "    __size=int\n",
      "    def __init__(self, vector_size):\n",
      "        self.__size=vector_size\n",
      "        self.__v=[vector]*self.__size\n",
      "    def __del__(self):\n",
      "        del self.__v\n",
      "    def elem(self, i, x=None):\n",
      "        if isinstance(x, int) or isinstance(x, float):\n",
      "            if i>=self.__size:\n",
      "                print \"Error: Out of Range\"\n",
      "                return\n",
      "            self.__v[i]=x\n",
      "        else:\n",
      "            return self.__v[i]\n",
      "    def show(self):\n",
      "        for i in range(self.__size):\n",
      "            print self.elem(i), \",\",\n",
      "int_vect=vector(5)\n",
      "float_vect=vector(4)\n",
      "for i in range(5):\n",
      "    int_vect.elem(i, i+1)\n",
      "for i in range(4):\n",
      "    float_vect.elem(i,i+1.5)\n",
      "print \"Integer Vector:\",\n",
      "int_vect.show()\n",
      "print \"\\nFloating Vector:\",\n",
      "float_vect.show()"
     ],
     "language": "python",
     "metadata": {},
     "outputs": [
      {
       "output_type": "stream",
       "stream": "stdout",
       "text": [
        "Integer Vector: 1 , 2 , 3 , 4 , 5 , \n",
        "Floating Vector: 1.5 , 2.5 , 3.5 , 4.5 ,\n"
       ]
      }
     ],
     "prompt_number": 1
    },
    {
     "cell_type": "heading",
     "level": 2,
     "metadata": {},
     "source": [
      "Example-number.cpp, Page no-97"
     ]
    },
    {
     "cell_type": "code",
     "collapsed": false,
     "input": [
      "class number:\n",
      "    __num=int\n",
      "    def read(self):\n",
      "        self.__num=int(raw_input())\n",
      "    class DIVIDE():\n",
      "        pass\n",
      "    def div(self, num2):\n",
      "        if num2.__num==0:\n",
      "            raise self.DIVIDE() #raise exception of type DIVIDE()\n",
      "        else:\n",
      "            return self.__num/num2.__num\n",
      "num1=number()\n",
      "num2=number()\n",
      "print \"Enter Number 1: \",\n",
      "num1.read()\n",
      "print \"Enter Number 2: \",\n",
      "num2.read()\n",
      "try:\n",
      "    print \"trying division operation...\",\n",
      "    result=num1.div(num2)\n",
      "    print \"succeeded\"\n",
      "except number.DIVIDE: #exception handler of exception type DIVIDE()\n",
      "    print \"failed\"\n",
      "    print \"Exception: Divide-By-Zero\"\n",
      "else: #this block is executed only if no exception has been raised\n",
      "    print \"num1/num2 =\", result"
     ],
     "language": "python",
     "metadata": {},
     "outputs": [
      {
       "output_type": "stream",
       "stream": "stdout",
       "text": [
        "Enter Number 1: "
       ]
      },
      {
       "name": "stdout",
       "output_type": "stream",
       "stream": "stdout",
       "text": [
        "10\n"
       ]
      },
      {
       "output_type": "stream",
       "stream": "stdout",
       "text": [
        " Enter Number 2: "
       ]
      },
      {
       "name": "stdout",
       "output_type": "stream",
       "stream": "stdout",
       "text": [
        "0\n"
       ]
      },
      {
       "output_type": "stream",
       "stream": "stdout",
       "text": [
        " trying division operation... failed\n",
        "Exception: Divide-By-Zero\n"
       ]
      }
     ],
     "prompt_number": 1
    },
    {
     "cell_type": "heading",
     "level": 2,
     "metadata": {},
     "source": [
      "Example-infile.cpp, Page no-101"
     ]
    },
    {
     "cell_type": "code",
     "collapsed": false,
     "input": [
      "try:\n",
      "    infile=open(\"sample.in\", \"r\") #open file in input mode\n",
      "    while(1):\n",
      "        buff=infile.readline() #read a single line from the file\n",
      "        if buff=='': #to determine end of file\n",
      "            break\n",
      "        print buff,\n",
      "except IOError: #error in opening file\n",
      "    print \"Error: sample.in non-existent\""
     ],
     "language": "python",
     "metadata": {},
     "outputs": [
      {
       "output_type": "stream",
       "stream": "stdout",
       "text": [
        "Rajkumar, C-DAC, India\n",
        "Bjarne Stroustrup, AT & T, USA\n",
        "Smrithi, Hyderabad, India\n",
        "Tejaswi, Hyderabad, India\n"
       ]
      }
     ],
     "prompt_number": 1
    },
    {
     "cell_type": "heading",
     "level": 2,
     "metadata": {},
     "source": [
      "Example-outfile.cpp, Page no-102"
     ]
    },
    {
     "cell_type": "code",
     "collapsed": false,
     "input": [
      "outfile=open(\"sample.out\", \"w\") #file opened in output mode\n",
      "if not(outfile):\n",
      "    print \"Error: sample.out unable to open\"\n",
      "else:\n",
      "    while(1):\n",
      "        buff=raw_input()\n",
      "        if buff==\"end\":\n",
      "            break\n",
      "        outfile.write(buff)\n",
      "    outfile.close()"
     ],
     "language": "python",
     "metadata": {},
     "outputs": [
      {
       "name": "stdout",
       "output_type": "stream",
       "stream": "stdout",
       "text": [
        "OOP is good\n"
       ]
      },
      {
       "name": "stdout",
       "output_type": "stream",
       "stream": "stdout",
       "text": [
        "C++ is OOP\n"
       ]
      },
      {
       "name": "stdout",
       "output_type": "stream",
       "stream": "stdout",
       "text": [
        "C++ is good\n"
       ]
      },
      {
       "name": "stdout",
       "output_type": "stream",
       "stream": "stdout",
       "text": [
        "end\n"
       ]
      }
     ],
     "prompt_number": 1
    },
    {
     "cell_type": "heading",
     "level": 2,
     "metadata": {},
     "source": [
      "Example, Page no-103"
     ]
    },
    {
     "cell_type": "code",
     "collapsed": false,
     "input": [
      "count=0\n",
      "file1=open(\"FILE1.txt\", \"r\") #file opened in input mode\n",
      "file2=open(\"FILE2.txt\", \"w\") #file opened in output mode\n",
      "while(1):\n",
      "    ch=file1.read(1)\n",
      "    if ch=='': #detecting eof\n",
      "        break\n",
      "    if count%2==0:\n",
      "        file2.write(ch)\n",
      "    count+=1\n",
      "print \"Alternate characters from File1 have been successfully copied into File2\""
     ],
     "language": "python",
     "metadata": {},
     "outputs": [
      {
       "output_type": "stream",
       "stream": "stdout",
       "text": [
        "Alternate characters from File1 have been successfully copied into File2\n"
       ]
      }
     ],
     "prompt_number": 1
    }
   ],
   "metadata": {}
  }
 ]
}