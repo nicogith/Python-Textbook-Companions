{
 "metadata": {
  "name": "",
  "signature": "sha256:7caa500b3a86295a3fa2a49826e32bb84c94f9c218ecf3c344e2f51d069f57ff"
 },
 "nbformat": 3,
 "nbformat_minor": 0,
 "worksheets": [
  {
   "cells": [
    {
     "cell_type": "heading",
     "level": 1,
     "metadata": {},
     "source": [
      "Chapter 17-Streams Computation with Console"
     ]
    },
    {
     "cell_type": "heading",
     "level": 2,
     "metadata": {},
     "source": [
      "Example-hello.c, Page no-688"
     ]
    },
    {
     "cell_type": "code",
     "collapsed": false,
     "input": [
      "print 'Hello World'"
     ],
     "language": "python",
     "metadata": {},
     "outputs": [
      {
       "output_type": "stream",
       "stream": "stdout",
       "text": [
        "Hello World\n"
       ]
      }
     ],
     "prompt_number": 1
    },
    {
     "cell_type": "heading",
     "level": 2,
     "metadata": {},
     "source": [
      "Example-hello.cpp, Page no-688"
     ]
    },
    {
     "cell_type": "code",
     "collapsed": false,
     "input": [
      "print 'Hello World'"
     ],
     "language": "python",
     "metadata": {},
     "outputs": [
      {
       "output_type": "stream",
       "stream": "stdout",
       "text": [
        "Hello World\n"
       ]
      }
     ],
     "prompt_number": 1
    },
    {
     "cell_type": "heading",
     "level": 2,
     "metadata": {},
     "source": [
      "Example-redirect.cpp, Page no-688"
     ]
    },
    {
     "cell_type": "code",
     "collapsed": false,
     "input": [
      "print 'Hello World with cout'\n",
      "print 'Hello World with cerr'\n",
      "print 'Hello World with clog'"
     ],
     "language": "python",
     "metadata": {},
     "outputs": [
      {
       "output_type": "stream",
       "stream": "stdout",
       "text": [
        "Hello World with cout\n",
        "Hello World with cerr\n",
        "Hello World with clog\n"
       ]
      }
     ],
     "prompt_number": 2
    },
    {
     "cell_type": "heading",
     "level": 2,
     "metadata": {},
     "source": [
      "Example-get.cpp, Page no-691"
     ]
    },
    {
     "cell_type": "code",
     "collapsed": false,
     "input": [
      "c=raw_input()\n",
      "print c"
     ],
     "language": "python",
     "metadata": {},
     "outputs": [
      {
       "name": "stdout",
       "output_type": "stream",
       "stream": "stdout",
       "text": [
        "Hello World\n"
       ]
      },
      {
       "output_type": "stream",
       "stream": "stdout",
       "text": [
        "Hello World\n"
       ]
      }
     ],
     "prompt_number": 1
    },
    {
     "cell_type": "heading",
     "level": 2,
     "metadata": {},
     "source": [
      "Example-put.cpp, Page no-692"
     ]
    },
    {
     "cell_type": "code",
     "collapsed": false,
     "input": [
      "for i in range(255):\n",
      "    if i==26:\n",
      "        continue\n",
      "    print i,chr(i)"
     ],
     "language": "python",
     "metadata": {},
     "outputs": [
      {
       "output_type": "stream",
       "stream": "stdout",
       "text": [
        "0 \u0000\n",
        "1 \u0001\n",
        "2 \u0002\n",
        "3 \u0003\n",
        "4 \u0004\n",
        "5 \u0005\n",
        "6 \u0006\n",
        "7 \u0007\n",
        "8 \b\n",
        "9 \t\n",
        "10 \n",
        "\n",
        "11 \u000b",
        "\n",
        "12 \f",
        "\n",
        "13 \r\n",
        "14 \u000e\n",
        "15 \u000f\n",
        "16 \u0010\n",
        "17 \u0011\n",
        "18 \u0012\n",
        "19 \u0013\n",
        "20 \u0014\n",
        "21 \u0015\n",
        "22 \u0016\n",
        "23 \u0017\n",
        "24 \u0018\n",
        "25 \u0019\n",
        "27 \u001b\n",
        "28 \u001c",
        "\n",
        "29 \u001d",
        "\n",
        "30 \u001e",
        "\n",
        "31 \u001f\n",
        "32  \n",
        "33 !\n",
        "34 \"\n",
        "35 #\n",
        "36 $\n",
        "37 %\n",
        "38 &\n",
        "39 '\n",
        "40 (\n",
        "41 )\n",
        "42 *\n",
        "43 +\n",
        "44 ,\n",
        "45 -\n",
        "46 .\n",
        "47 /\n",
        "48 0\n",
        "49 1\n",
        "50 2\n",
        "51 3\n",
        "52 4\n",
        "53 5\n",
        "54 6\n",
        "55 7\n",
        "56 8\n",
        "57 9\n",
        "58 :\n",
        "59 ;\n",
        "60 <\n",
        "61 =\n",
        "62 >\n",
        "63 ?\n",
        "64 @\n",
        "65 A\n",
        "66 B\n",
        "67 C\n",
        "68 D\n",
        "69 E\n",
        "70 F\n",
        "71 G\n",
        "72 H\n",
        "73 I\n",
        "74 J\n",
        "75 K\n",
        "76 L\n",
        "77 M\n",
        "78 N\n",
        "79 O\n",
        "80 P\n",
        "81 Q\n",
        "82 R\n",
        "83 S\n",
        "84 T\n",
        "85 U\n",
        "86 V\n",
        "87 W\n",
        "88 X\n",
        "89 Y\n",
        "90 Z\n",
        "91 [\n",
        "92 \\\n",
        "93 ]\n",
        "94 ^\n",
        "95 _\n",
        "96 `\n",
        "97 a\n",
        "98 b\n",
        "99 c\n",
        "100 d\n",
        "101 e\n",
        "102 f\n",
        "103 g\n",
        "104 h\n",
        "105 i\n",
        "106 j\n",
        "107 k\n",
        "108 l\n",
        "109 m\n",
        "110 n\n",
        "111 o\n",
        "112 p\n",
        "113 q\n",
        "114 r\n",
        "115 s\n",
        "116 t\n",
        "117 u\n",
        "118 v\n",
        "119 w\n",
        "120 x\n",
        "121 y\n",
        "122 z\n",
        "123 {\n",
        "124 |\n",
        "125 }\n",
        "126 ~\n",
        "127 \u007f\n",
        "128 \ufffd\n",
        "129 \ufffd\n",
        "130 \ufffd\n",
        "131 \ufffd\n",
        "132 \ufffd\n",
        "133 \ufffd\n",
        "134 \ufffd\n",
        "135 \ufffd\n",
        "136 \ufffd\n",
        "137 \ufffd\n",
        "138 \ufffd\n",
        "139 \ufffd\n",
        "140 \ufffd\n",
        "141 \ufffd\n",
        "142 \ufffd\n",
        "143 \ufffd\n",
        "144 \ufffd\n",
        "145 \ufffd\n",
        "146 \ufffd\n",
        "147 \ufffd\n",
        "148 \ufffd\n",
        "149 \ufffd\n",
        "150 \ufffd\n",
        "151 \ufffd\n",
        "152 \ufffd\n",
        "153 \ufffd\n",
        "154 \ufffd\n",
        "155 \ufffd\n",
        "156 \ufffd\n",
        "157 \ufffd\n",
        "158 \ufffd\n",
        "159 \ufffd\n",
        "160 \ufffd\n",
        "161 \ufffd\n",
        "162 \ufffd\n",
        "163 \ufffd\n",
        "164 \ufffd\n",
        "165 \ufffd\n",
        "166 \ufffd\n",
        "167 \ufffd\n",
        "168 \ufffd\n",
        "169 \ufffd\n",
        "170 \ufffd\n",
        "171 \ufffd\n",
        "172 \ufffd\n",
        "173 \ufffd\n",
        "174 \ufffd\n",
        "175 \ufffd\n",
        "176 \ufffd\n",
        "177 \ufffd\n",
        "178 \ufffd\n",
        "179 \ufffd\n",
        "180 \ufffd\n",
        "181 \ufffd\n",
        "182 \ufffd\n",
        "183 \ufffd\n",
        "184 \ufffd\n",
        "185 \ufffd\n",
        "186 \ufffd\n",
        "187 \ufffd\n",
        "188 \ufffd\n",
        "189 \ufffd\n",
        "190 \ufffd\n",
        "191 \ufffd\n",
        "192 \ufffd\n",
        "193 \ufffd\n",
        "194 \ufffd\n",
        "195 \ufffd\n",
        "196 \ufffd\n",
        "197 \ufffd\n",
        "198 \ufffd\n",
        "199 \ufffd\n",
        "200 \ufffd\n",
        "201 \ufffd\n",
        "202 \ufffd\n",
        "203 \ufffd\n",
        "204 \ufffd\n",
        "205 \ufffd\n",
        "206 \ufffd\n",
        "207 \ufffd\n",
        "208 \ufffd\n",
        "209 \ufffd\n",
        "210 \ufffd\n",
        "211 \ufffd\n",
        "212 \ufffd\n",
        "213 \ufffd\n",
        "214 \ufffd\n",
        "215 \ufffd\n",
        "216 \ufffd\n",
        "217 \ufffd\n",
        "218 \ufffd\n",
        "219 \ufffd\n",
        "220 \ufffd\n",
        "221 \ufffd\n",
        "222 \ufffd\n",
        "223 \ufffd\n",
        "224 \ufffd\n",
        "225 \ufffd\n",
        "226 \ufffd\n",
        "227 \ufffd\n",
        "228 \ufffd\n",
        "229 \ufffd\n",
        "230 \ufffd\n",
        "231 \ufffd\n",
        "232 \ufffd\n",
        "233 \ufffd\n",
        "234 \ufffd\n",
        "235 \ufffd\n",
        "236 \ufffd\n",
        "237 \ufffd\n",
        "238 \ufffd\n",
        "239 \ufffd\n",
        "240 \ufffd\n",
        "241 \ufffd\n",
        "242 \ufffd\n",
        "243 \ufffd\n",
        "244 \ufffd\n",
        "245 \ufffd\n",
        "246 \ufffd\n",
        "247 \ufffd\n",
        "248 \ufffd\n",
        "249 \ufffd\n",
        "250 \ufffd\n",
        "251 \ufffd\n",
        "252 \ufffd\n",
        "253 \ufffd\n",
        "254 \ufffd\n"
       ]
      }
     ],
     "prompt_number": 1
    },
    {
     "cell_type": "heading",
     "level": 2,
     "metadata": {},
     "source": [
      "Example-space1.cpp, Page no-693"
     ]
    },
    {
     "cell_type": "code",
     "collapsed": false,
     "input": [
      "import sys\n",
      "test=raw_input(\"Enter string: \")\n",
      "i=0\n",
      "print \"Output string: \",\n",
      "while True:\n",
      "    if test[i].isspace():\n",
      "        break\n",
      "    else:\n",
      "        sys.stdout.write(test[i])\n",
      "        i+=1"
     ],
     "language": "python",
     "metadata": {},
     "outputs": [
      {
       "name": "stdout",
       "output_type": "stream",
       "stream": "stdout",
       "text": [
        "Enter string: Hello World\n"
       ]
      },
      {
       "output_type": "stream",
       "stream": "stdout",
       "text": [
        "Output string: Hello\n"
       ]
      }
     ],
     "prompt_number": 2
    },
    {
     "cell_type": "heading",
     "level": 2,
     "metadata": {},
     "source": [
      "Example-space2.cpp, Page no-693"
     ]
    },
    {
     "cell_type": "code",
     "collapsed": false,
     "input": [
      "test=raw_input(\"Enter string: \")\n",
      "print \"Output string:\", test"
     ],
     "language": "python",
     "metadata": {},
     "outputs": [
      {
       "name": "stdout",
       "output_type": "stream",
       "stream": "stdout",
       "text": [
        "Enter string: Hello World\n"
       ]
      },
      {
       "output_type": "stream",
       "stream": "stdout",
       "text": [
        "Output string: Hello World\n"
       ]
      }
     ],
     "prompt_number": 1
    },
    {
     "cell_type": "heading",
     "level": 2,
     "metadata": {},
     "source": [
      "Example-stand.cpp, Page no-694"
     ]
    },
    {
     "cell_type": "code",
     "collapsed": false,
     "input": [
      "string1=\"Object-Computing\"\n",
      "string2=\" with C++\"\n",
      "len1=len(string1)\n",
      "len2=len(string2)\n",
      "for i in range(1,len1):\n",
      "    print string1[:i]\n",
      "for i in range(len1, 0, -1):\n",
      "    print string1[:i]\n",
      "print \"%s%s\" %(string1[:len1], string2[:len2])\n",
      "print string1+string2\n",
      "print string1[:6]"
     ],
     "language": "python",
     "metadata": {},
     "outputs": [
      {
       "output_type": "stream",
       "stream": "stdout",
       "text": [
        "O\n",
        "Ob\n",
        "Obj\n",
        "Obje\n",
        "Objec\n",
        "Object\n",
        "Object-\n",
        "Object-C\n",
        "Object-Co\n",
        "Object-Com\n",
        "Object-Comp\n",
        "Object-Compu\n",
        "Object-Comput\n",
        "Object-Computi\n",
        "Object-Computin\n",
        "Object-Computing\n",
        "Object-Computin\n",
        "Object-Computi\n",
        "Object-Comput\n",
        "Object-Compu\n",
        "Object-Comp\n",
        "Object-Com\n",
        "Object-Co\n",
        "Object-C\n",
        "Object-\n",
        "Object\n",
        "Objec\n",
        "Obje\n",
        "Obj\n",
        "Ob\n",
        "O\n",
        "Object-Computing with C++\n",
        "Object-Computing with C++\n",
        "Object\n"
       ]
      }
     ],
     "prompt_number": 1
    },
    {
     "cell_type": "heading",
     "level": 2,
     "metadata": {},
     "source": [
      "Example-student.cpp, Page no-697"
     ]
    },
    {
     "cell_type": "code",
     "collapsed": false,
     "input": [
      "MAX_MARKS=600.0\n",
      "def read(self):\n",
      "    self.__name=raw_input(\"Enter Name: \")\n",
      "    self.__marks=int(raw_input(\"Enter Marks Secured: \"))\n",
      "def show(self):\n",
      "    print '{:>10}'.format(self.__name),\n",
      "    print '{:>6}'.format(self.__marks),\n",
      "    print '{0:10.0f}'.format((self.__marks/MAX_MARKS)*100)\n",
      "class student:\n",
      "    __name=str\n",
      "    __marks=int\n",
      "    read=read\n",
      "    show=show\n",
      "count=int(raw_input(\"How many students ? \"))\n",
      "s=[]*count\n",
      "for i in range(count):\n",
      "    s.append(student())\n",
      "for i in range(count):\n",
      "    print \"Enter Student\", i+1, \"details...\"\n",
      "    s[i].read()\n",
      "print \"Student Report...\"\n",
      "print '{:>3}'.format(\"R#\"),\n",
      "print '{:>10}'.format(\"Student\"),\n",
      "print '{:>6}'.format(\"Marks\"),\n",
      "print '{:>15}'.format(\"Percentage\")\n",
      "for i in range(count):\n",
      "    print \"%3s\" %(i+1),\n",
      "    s[i].show()"
     ],
     "language": "python",
     "metadata": {},
     "outputs": [
      {
       "name": "stdout",
       "output_type": "stream",
       "stream": "stdout",
       "text": [
        "How many students ? 3\n"
       ]
      },
      {
       "output_type": "stream",
       "stream": "stdout",
       "text": [
        "Enter Student 1 details...\n"
       ]
      },
      {
       "name": "stdout",
       "output_type": "stream",
       "stream": "stdout",
       "text": [
        "Enter Name: Tejaswi\n"
       ]
      },
      {
       "name": "stdout",
       "output_type": "stream",
       "stream": "stdout",
       "text": [
        "Enter Marks Secured: 450\n"
       ]
      },
      {
       "output_type": "stream",
       "stream": "stdout",
       "text": [
        "Enter Student 2 details...\n"
       ]
      },
      {
       "name": "stdout",
       "output_type": "stream",
       "stream": "stdout",
       "text": [
        "Enter Name: Rajkumar\n"
       ]
      },
      {
       "name": "stdout",
       "output_type": "stream",
       "stream": "stdout",
       "text": [
        "Enter Marks Secured: 525\n"
       ]
      },
      {
       "output_type": "stream",
       "stream": "stdout",
       "text": [
        "Enter Student 3 details...\n"
       ]
      },
      {
       "name": "stdout",
       "output_type": "stream",
       "stream": "stdout",
       "text": [
        "Enter Name: Bindu\n"
       ]
      },
      {
       "name": "stdout",
       "output_type": "stream",
       "stream": "stdout",
       "text": [
        "Enter Marks Secured: 429\n"
       ]
      },
      {
       "output_type": "stream",
       "stream": "stdout",
       "text": [
        "Student Report...\n",
        " R#    Student  Marks      Percentage\n",
        "  1    Tejaswi    450         75\n",
        "  2   Rajkumar    525         88\n",
        "  3      Bindu    429         72\n"
       ]
      }
     ],
     "prompt_number": 1
    },
    {
     "cell_type": "heading",
     "level": 2,
     "metadata": {},
     "source": [
      "Example-salary.cpp, Page no-701"
     ]
    },
    {
     "cell_type": "code",
     "collapsed": false,
     "input": [
      "desig=[\"CEO\", \"Manager\", \"Receptionist\", \"Clerk\", \"Peon\"]\n",
      "salary=[10200,5200,2950,950,750]\n",
      "print \"Salary Structure Based on Designation\"\n",
      "print \"-------------------------------------\"\n",
      "print '{:>15}'.format('Designation    '),\n",
      "print '{:>15}'.format('Salary (in Rs.)')\n",
      "print \"-------------------------------------\"\n",
      "for i in range(5):\n",
      "    print '{:.>15}'.format(desig[i]),\n",
      "    print '{:*>15}'.format(salary[i])"
     ],
     "language": "python",
     "metadata": {},
     "outputs": [
      {
       "output_type": "stream",
       "stream": "stdout",
       "text": [
        "Salary Structure Based on Designation\n",
        "-------------------------------------\n",
        "Designation     Salary (in Rs.)\n",
        "-------------------------------------\n",
        "............CEO **********10200\n",
        "........Manager ***********5200\n",
        "...Receptionist ***********2950\n",
        "..........Clerk ************950\n",
        "...........Peon ************750\n"
       ]
      }
     ],
     "prompt_number": 1
    },
    {
     "cell_type": "heading",
     "level": 2,
     "metadata": {},
     "source": [
      "Example-hex.c, Page no-705"
     ]
    },
    {
     "cell_type": "code",
     "collapsed": false,
     "input": [
      "num=raw_input(\"Enter any hexadecimal number: \")\n",
      "print \"The input number in decimal = %d\" %int(num, 16)"
     ],
     "language": "python",
     "metadata": {},
     "outputs": [
      {
       "name": "stdout",
       "output_type": "stream",
       "stream": "stdout",
       "text": [
        "Enter any hexadecimal number: ab\n"
       ]
      },
      {
       "output_type": "stream",
       "stream": "stdout",
       "text": [
        "The input number in decimal = 171\n"
       ]
      }
     ],
     "prompt_number": 1
    },
    {
     "cell_type": "heading",
     "level": 2,
     "metadata": {},
     "source": [
      "Example-hex.cpp, Page no-706"
     ]
    },
    {
     "cell_type": "code",
     "collapsed": false,
     "input": [
      "num=raw_input(\"Enter any hexadecimal number: \")\n",
      "print \"The input number in decimal = %d\" %int(num, 16)"
     ],
     "language": "python",
     "metadata": {},
     "outputs": [
      {
       "name": "stdout",
       "output_type": "stream",
       "stream": "stdout",
       "text": [
        "Enter any hexadecimal number: ab\n"
       ]
      },
      {
       "output_type": "stream",
       "stream": "stdout",
       "text": [
        "The input number in decimal = 171\n"
       ]
      }
     ],
     "prompt_number": 2
    },
    {
     "cell_type": "heading",
     "level": 2,
     "metadata": {},
     "source": [
      "Example-foutput.cpp, Page no-709"
     ]
    },
    {
     "cell_type": "code",
     "collapsed": false,
     "input": [
      "x=int(100)\n",
      "print format(x, '02x'), x\n",
      "f=122.3434\n",
      "print f\n",
      "print '{:.2f}'.format(f)\n",
      "print \"0x%0.4X\" %x\n",
      "print '{:.3e}'.format(f)"
     ],
     "language": "python",
     "metadata": {},
     "outputs": [
      {
       "output_type": "stream",
       "stream": "stdout",
       "text": [
        "64 100\n",
        "122.3434\n",
        "122.34\n",
        "0x0064\n",
        "1.223e+02\n"
       ]
      }
     ],
     "prompt_number": 1
    },
    {
     "cell_type": "heading",
     "level": 2,
     "metadata": {},
     "source": [
      "Example-payroll.cpp, Page no-709"
     ]
    },
    {
     "cell_type": "code",
     "collapsed": false,
     "input": [
      "f1=123.45\n",
      "f2=34.65\n",
      "f3=float(56)\n",
      "print '{0:6.2f}'.format(f1)\n",
      "print '{0:6.2f}'.format(f2)\n",
      "print '{0:6.2f}'.format(f3)"
     ],
     "language": "python",
     "metadata": {},
     "outputs": [
      {
       "output_type": "stream",
       "stream": "stdout",
       "text": [
        "123.45\n",
        " 34.65\n",
        " 56.00\n"
       ]
      }
     ],
     "prompt_number": 1
    },
    {
     "cell_type": "heading",
     "level": 2,
     "metadata": {},
     "source": [
      "Example-oct.cpp, Page no-710"
     ]
    },
    {
     "cell_type": "code",
     "collapsed": false,
     "input": [
      "i=raw_input(\"Enter octal number: \")\n",
      "print \"Its decimal equivalent is: %d\" %int(i, 8)\n",
      "i=int(raw_input(\"Enter decimal number: \"))\n",
      "print \"Its output:\", oct(i)"
     ],
     "language": "python",
     "metadata": {},
     "outputs": [
      {
       "name": "stdout",
       "output_type": "stream",
       "stream": "stdout",
       "text": [
        "Enter octal number: 111\n"
       ]
      },
      {
       "output_type": "stream",
       "stream": "stdout",
       "text": [
        "Its decimal equivalent is: 73\n"
       ]
      },
      {
       "name": "stdout",
       "output_type": "stream",
       "stream": "stdout",
       "text": [
        "Enter decimal number: 73\n"
       ]
      },
      {
       "output_type": "stream",
       "stream": "stdout",
       "text": [
        "Its output: 0111\n"
       ]
      }
     ],
     "prompt_number": 1
    },
    {
     "cell_type": "heading",
     "level": 2,
     "metadata": {},
     "source": [
      "Example-mattab.cpp, Page no-711"
     ]
    },
    {
     "cell_type": "code",
     "collapsed": false,
     "input": [
      "import math\n",
      "num=int(raw_input(\"Enter Any Integer Number: \"))\n",
      "print \"-----------------------------------------------------\"\n",
      "print '{:>5}'.format(\"NUM\"),\n",
      "print '{:>10}'.format(\"SQR\"),\n",
      "print '{:>15}'.format(\"SQRT\"),\n",
      "print '{:>15}'.format(\"LOG\")\n",
      "print \"-----------------------------------------------------\"\n",
      "for i in range(1, num+1):\n",
      "    print '{:>5}'.format(i),\n",
      "    print '{:>10}'.format(i*i),\n",
      "    print '{:15.3f}'.format(math.sqrt(i)),\n",
      "    print '{:15.4e}'.format(math.log(i))"
     ],
     "language": "python",
     "metadata": {},
     "outputs": [
      {
       "name": "stdout",
       "output_type": "stream",
       "stream": "stdout",
       "text": [
        "Enter Any Integer Number: 10\n"
       ]
      },
      {
       "output_type": "stream",
       "stream": "stdout",
       "text": [
        "-----------------------------------------------------\n",
        "  NUM        SQR            SQRT             LOG\n",
        "-----------------------------------------------------\n",
        "    1          1           1.000      0.0000e+00\n",
        "    2          4           1.414      6.9315e-01\n",
        "    3          9           1.732      1.0986e+00\n",
        "    4         16           2.000      1.3863e+00\n",
        "    5         25           2.236      1.6094e+00\n",
        "    6         36           2.449      1.7918e+00\n",
        "    7         49           2.646      1.9459e+00\n",
        "    8         64           2.828      2.0794e+00\n",
        "    9         81           3.000      2.1972e+00\n",
        "   10        100           3.162      2.3026e+00\n"
       ]
      }
     ],
     "prompt_number": 1
    },
    {
     "cell_type": "heading",
     "level": 2,
     "metadata": {},
     "source": [
      "Example-space3.cpp, Page no-712"
     ]
    },
    {
     "cell_type": "code",
     "collapsed": false,
     "input": [
      "def sp():\n",
      "    print \"\",\n",
      "x=1\n",
      "y=2\n",
      "z=3\n",
      "w=4\n",
      "print x, \n",
      "sp(), \n",
      "print y, \n",
      "sp(), \n",
      "print z, \n",
      "sp(), \n",
      "print w"
     ],
     "language": "python",
     "metadata": {},
     "outputs": [
      {
       "output_type": "stream",
       "stream": "stdout",
       "text": [
        "1  2  3  4\n"
       ]
      }
     ],
     "prompt_number": 1
    },
    {
     "cell_type": "heading",
     "level": 2,
     "metadata": {},
     "source": [
      "Example-currency.cpp, Page no-713"
     ]
    },
    {
     "cell_type": "code",
     "collapsed": false,
     "input": [
      "def rupee():\n",
      "    print \"Rs.\",\n",
      "def dollar():\n",
      "    print \"US$\",\n",
      "print \"Item Sales in India...\"\n",
      "item1=raw_input(\"Enter Item Name: \")\n",
      "cost1=int(raw_input(\"Cost of Item: \"))\n",
      "print \"Item Sales in US...\"\n",
      "item2=raw_input(\"Enter Item Name: \")\n",
      "cost2=int(raw_input(\"Cost of Item: \"))\n",
      "print \"Item Cost Statistics...\"\n",
      "print \"Item Name:\", item1\n",
      "print \"Cost:\", \n",
      "rupee(), \n",
      "print cost1\n",
      "print \"Item Name:\", item2\n",
      "print \"Cost:\", \n",
      "dollar(), \n",
      "print cost2"
     ],
     "language": "python",
     "metadata": {},
     "outputs": [
      {
       "output_type": "stream",
       "stream": "stdout",
       "text": [
        "Item Sales in India...\n"
       ]
      },
      {
       "name": "stdout",
       "output_type": "stream",
       "stream": "stdout",
       "text": [
        "Enter Item Name: PARAM Supercomputer\n"
       ]
      },
      {
       "name": "stdout",
       "output_type": "stream",
       "stream": "stdout",
       "text": [
        "Cost of Item: 55000\n"
       ]
      },
      {
       "output_type": "stream",
       "stream": "stdout",
       "text": [
        "Item Sales in US...\n"
       ]
      },
      {
       "name": "stdout",
       "output_type": "stream",
       "stream": "stdout",
       "text": [
        "Enter Item Name: CRAY Supercomputer\n"
       ]
      },
      {
       "name": "stdout",
       "output_type": "stream",
       "stream": "stdout",
       "text": [
        "Cost of Item: 40500\n"
       ]
      },
      {
       "output_type": "stream",
       "stream": "stdout",
       "text": [
        "Item Cost Statistics...\n",
        "Item Name: PARAM Supercomputer\n",
        "Cost: Rs. 55000\n",
        "Item Name: CRAY Supercomputer\n",
        "Cost: US$ 40500\n"
       ]
      }
     ],
     "prompt_number": 2
    },
    {
     "cell_type": "heading",
     "level": 2,
     "metadata": {},
     "source": [
      "Example-pmani.cpp, Page no-715"
     ]
    },
    {
     "cell_type": "code",
     "collapsed": false,
     "input": [
      "def output(self, x):\n",
      "    print '{x:{f}>{w}.{p}f}'.format(x=x,f=self._my_manipulator__fill,w= self._my_manipulator__width, p=self._my_manipulator__precision)\n",
      "class my_manipulator:\n",
      "    __width=int\n",
      "    __precision=int\n",
      "    __fill=chr\n",
      "    def __init__(self, tw, tp, tf):\n",
      "        self.__width=tw\n",
      "        self.__precision=tp\n",
      "        self.__fill=tf\n",
      "    output=output\n",
      "def set_float(w, p, f):\n",
      "    return my_manipulator(w, p, f)\n",
      "f1=123.2734\n",
      "f2=23.271\n",
      "f3=16.1673\n",
      "set_float(10, 3, '*').output(f1)\n",
      "set_float(9, 2, '^').output(f2)\n",
      "set_float(8, 3, '#').output(f3)"
     ],
     "language": "python",
     "metadata": {},
     "outputs": [
      {
       "output_type": "stream",
       "stream": "stdout",
       "text": [
        "***123.273\n",
        "^^^^23.27\n",
        "##16.167\n"
       ]
      }
     ],
     "prompt_number": 1
    },
    {
     "cell_type": "heading",
     "level": 2,
     "metadata": {},
     "source": [
      "Example-point.cpp, Page no-717"
     ]
    },
    {
     "cell_type": "code",
     "collapsed": false,
     "input": [
      "class POINT:\n",
      "    __x=int\n",
      "    __y=int\n",
      "    def __init__(self):\n",
      "        self.__x=0\n",
      "        self.__y=0\n",
      "    def output(self):\n",
      "        print \"(%d,%d)\" %(self.__x, self.__y)\n",
      "    def input(self):\n",
      "        self.__x, self.__y=[int(x) for x in raw_input().split()] \n",
      "p1=POINT()\n",
      "p2=POINT()\n",
      "print \"Enter two coordinate points (p1, p2):\",\n",
      "p1.input(), p2.input()\n",
      "print \"Coordinate points you entered are:\"\n",
      "p1.output()\n",
      "p2.output()"
     ],
     "language": "python",
     "metadata": {},
     "outputs": [
      {
       "output_type": "stream",
       "stream": "stdout",
       "text": [
        "Enter two coordinate points (p1, p2):"
       ]
      },
      {
       "name": "stdout",
       "output_type": "stream",
       "stream": "stdout",
       "text": [
        "2 3\n"
       ]
      },
      {
       "name": "stdout",
       "output_type": "stream",
       "stream": "stdout",
       "text": [
        "5 6\n"
       ]
      },
      {
       "output_type": "stream",
       "stream": "stdout",
       "text": [
        " Coordinate points you entered are:\n",
        "(2,3)\n",
        "(5,6)\n"
       ]
      }
     ],
     "prompt_number": 1
    },
    {
     "cell_type": "heading",
     "level": 2,
     "metadata": {},
     "source": [
      "Example-1, Page no-719"
     ]
    },
    {
     "cell_type": "code",
     "collapsed": false,
     "input": [
      "num=raw_input(\"Enter a hexadecimal value: \")\n",
      "num=int(num, 16)\n",
      "print \"Octal equivalent:\", oct(num)"
     ],
     "language": "python",
     "metadata": {},
     "outputs": [
      {
       "name": "stdout",
       "output_type": "stream",
       "stream": "stdout",
       "text": [
        "Enter a hexadecimal value: A\n"
       ]
      },
      {
       "output_type": "stream",
       "stream": "stdout",
       "text": [
        "Octal equivalent: 012\n"
       ]
      }
     ],
     "prompt_number": 2
    },
    {
     "cell_type": "heading",
     "level": 2,
     "metadata": {},
     "source": [
      "Example-2, Page no-719"
     ]
    },
    {
     "cell_type": "code",
     "collapsed": false,
     "input": [
      "PI=3.14159265\n",
      "print \"The values at different levels of precision are:\"\n",
      "for i in range(1, 6):\n",
      "    print '%0.*f' % (i, PI)"
     ],
     "language": "python",
     "metadata": {},
     "outputs": [
      {
       "output_type": "stream",
       "stream": "stdout",
       "text": [
        "The values at different levels of precision are:\n",
        "3.1\n",
        "3.14\n",
        "3.142\n",
        "3.1416\n",
        "3.14159\n"
       ]
      }
     ],
     "prompt_number": 1
    }
   ],
   "metadata": {}
  }
 ]
}