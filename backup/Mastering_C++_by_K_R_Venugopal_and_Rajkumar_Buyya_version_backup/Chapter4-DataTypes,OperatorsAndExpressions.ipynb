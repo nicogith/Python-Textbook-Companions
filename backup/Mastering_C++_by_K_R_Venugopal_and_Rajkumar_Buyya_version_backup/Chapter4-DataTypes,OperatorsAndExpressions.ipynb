{
 "metadata": {
  "name": "",
  "signature": "sha256:17ba214af5fef45344b6cf20acb6a7b4a88d1bf393c6e0c1c50e04f764bab0ff"
 },
 "nbformat": 3,
 "nbformat_minor": 0,
 "worksheets": [
  {
   "cells": [
    {
     "cell_type": "heading",
     "level": 1,
     "metadata": {},
     "source": [
      "Chapter 4- Data types, Operators and Expressions"
     ]
    },
    {
     "cell_type": "heading",
     "level": 2,
     "metadata": {},
     "source": [
      "Example-show1.cpp, Page no-111"
     ]
    },
    {
     "cell_type": "code",
     "collapsed": false,
     "input": [
      "a=int\n",
      "b=int\n",
      "c=100\n",
      "distance=float\n",
      "a=c\n",
      "b=c+100\n",
      "distance=55.9\n",
      "print \"a =\", a\n",
      "print \"b =\", b\n",
      "print \"c =\", c\n",
      "print \"distance =\", distance"
     ],
     "language": "python",
     "metadata": {},
     "outputs": [
      {
       "output_type": "stream",
       "stream": "stdout",
       "text": [
        "a = 100\n",
        "b = 200\n",
        "c = 100\n",
        "distance = 55.9\n"
       ]
      }
     ],
     "prompt_number": 1
    },
    {
     "cell_type": "heading",
     "level": 2,
     "metadata": {},
     "source": [
      "Example-ascii.cpp, Page no-112"
     ]
    },
    {
     "cell_type": "code",
     "collapsed": false,
     "input": [
      "code=int(raw_input(\"Enter an ASCII code(0-127): \"))\n",
      "symbol=code\n",
      "print \"The symbol corresponding to %d is %c\" %(code, symbol)"
     ],
     "language": "python",
     "metadata": {},
     "outputs": [
      {
       "name": "stdout",
       "output_type": "stream",
       "stream": "stdout",
       "text": [
        "Enter an ASCII code(0-127): 65\n"
       ]
      },
      {
       "output_type": "stream",
       "stream": "stdout",
       "text": [
        "The symbol corresponding to 65 is A\n"
       ]
      }
     ],
     "prompt_number": 2
    },
    {
     "cell_type": "heading",
     "level": 2,
     "metadata": {},
     "source": [
      "Example-temper.cpp, Page no-115"
     ]
    },
    {
     "cell_type": "code",
     "collapsed": false,
     "input": [
      "c=float(raw_input(\"Enter temperature in Celsius: \"))\n",
      "f=1.8*c+32\n",
      "print \"Equivalent fahrenheit = \", f\n",
      "f=float(raw_input(\"Enter temperature in fahrenheit: \"))\n",
      "c=(f-32)/1.8\n",
      "print \"Equivalent Celsius = \", c"
     ],
     "language": "python",
     "metadata": {},
     "outputs": [
      {
       "name": "stdout",
       "output_type": "stream",
       "stream": "stdout",
       "text": [
        "Enter temperature in Celsius: 5\n"
       ]
      },
      {
       "output_type": "stream",
       "stream": "stdout",
       "text": [
        "Equivalent fahrenheit =  41.0\n"
       ]
      },
      {
       "name": "stdout",
       "output_type": "stream",
       "stream": "stdout",
       "text": [
        "Enter temperature in fahrenheit: 40\n"
       ]
      },
      {
       "output_type": "stream",
       "stream": "stdout",
       "text": [
        "Equivalent Celsius =  4.44444444444\n"
       ]
      }
     ],
     "prompt_number": 3
    },
    {
     "cell_type": "heading",
     "level": 2,
     "metadata": {},
     "source": [
      "Example-size.cpp, Page no-116"
     ]
    },
    {
     "cell_type": "code",
     "collapsed": false,
     "input": [
      "from ctypes import *\n",
      "print \"sizeof( char ) =\", sizeof(c_char)\n",
      "print \"sizeof( short ) =\", sizeof(c_short)\n",
      "print \"sizeof( short int ) =\", sizeof(c_short)\n",
      "print \"sizeof( int ) =\", sizeof(c_int)\n",
      "print \"sizeof( long ) =\", sizeof(c_long)\n",
      "print \"sizeof( long int ) =\", sizeof(c_long)\n",
      "print \"sizeof( float ) =\", sizeof(c_float)\n",
      "print \"sizeof( double ) =\", sizeof(c_double)\n",
      "print \"sizeof( long double ) =\", sizeof(c_longdouble)"
     ],
     "language": "python",
     "metadata": {},
     "outputs": [
      {
       "output_type": "stream",
       "stream": "stdout",
       "text": [
        "sizeof( char ) = 1\n",
        "sizeof( short ) = 2\n",
        "sizeof( short int ) = 2\n",
        "sizeof( int ) = 4\n",
        "sizeof( long ) = 4\n",
        "sizeof( long int ) = 4\n",
        "sizeof( float ) = 4\n",
        "sizeof( double ) = 8\n",
        "sizeof( long double ) = 8\n"
       ]
      }
     ],
     "prompt_number": 2
    },
    {
     "cell_type": "heading",
     "level": 2,
     "metadata": {},
     "source": [
      "Example-modules.cpp, Page no-120"
     ]
    },
    {
     "cell_type": "code",
     "collapsed": false,
     "input": [
      "numerator=int(raw_input(\"Enter numerator: \"))\n",
      "denominator=int(raw_input(\"Enter denominator: \"))\n",
      "result=numerator/denominator\n",
      "remainder=numerator%denominator\n",
      "print numerator, \"/\", denominator, \"=\", result\n",
      "print numerator, \"%\", denominator, \"=\", remainder"
     ],
     "language": "python",
     "metadata": {},
     "outputs": [
      {
       "name": "stdout",
       "output_type": "stream",
       "stream": "stdout",
       "text": [
        "Enter numerator: 12\n"
       ]
      },
      {
       "name": "stdout",
       "output_type": "stream",
       "stream": "stdout",
       "text": [
        "Enter denominator: 5\n"
       ]
      },
      {
       "output_type": "stream",
       "stream": "stdout",
       "text": [
        "12 / 5 = 2\n",
        "12 % 5 = 2\n"
       ]
      }
     ],
     "prompt_number": 5
    },
    {
     "cell_type": "heading",
     "level": 2,
     "metadata": {},
     "source": [
      "Example-notemp.cpp, Page no-121"
     ]
    },
    {
     "cell_type": "code",
     "collapsed": false,
     "input": [
      "a, b=[int(x) for x in raw_input(\"Enter two integers <a, b>: \").split()] #taking input in single line sperated by white space\n",
      "a=a+b\n",
      "b=a-b\n",
      "a=a-b\n",
      "print \"Value of a and b on swapping in main():\", a, b"
     ],
     "language": "python",
     "metadata": {},
     "outputs": [
      {
       "name": "stdout",
       "output_type": "stream",
       "stream": "stdout",
       "text": [
        "Enter two integers <a, b>: 10 20\n"
       ]
      },
      {
       "output_type": "stream",
       "stream": "stdout",
       "text": [
        "Value of a and b on swapping in main(): 20 10\n"
       ]
      }
     ],
     "prompt_number": 2
    },
    {
     "cell_type": "heading",
     "level": 2,
     "metadata": {},
     "source": [
      "Example-relation.cpp, Page no-122"
     ]
    },
    {
     "cell_type": "code",
     "collapsed": false,
     "input": [
      "my_age=int(raw_input(\"Enter my age: \"))\n",
      "your_age=int(raw_input(\"Enter your age: \"))\n",
      "if(my_age==your_age):\n",
      "    print \"We are born in the same year.\"\n",
      "else:\n",
      "    print \"We are born in different years\""
     ],
     "language": "python",
     "metadata": {},
     "outputs": [
      {
       "name": "stdout",
       "output_type": "stream",
       "stream": "stdout",
       "text": [
        "Enter my age: 25\n"
       ]
      },
      {
       "name": "stdout",
       "output_type": "stream",
       "stream": "stdout",
       "text": [
        "Enter your age: 25\n"
       ]
      },
      {
       "output_type": "stream",
       "stream": "stdout",
       "text": [
        "We are born in the same year.\n"
       ]
      }
     ],
     "prompt_number": 3
    },
    {
     "cell_type": "heading",
     "level": 2,
     "metadata": {},
     "source": [
      "Example-char1.cpp, Page no-123"
     ]
    },
    {
     "cell_type": "code",
     "collapsed": false,
     "input": [
      "from ctypes import *\n",
      "c=c_byte(255) #signed char\n",
      "d=c_byte(-1) #signed char\n",
      "if c.value<0:\n",
      "    print 'c is less than 0'\n",
      "else:\n",
      "    print 'c is not less than 0'\n",
      "if d.value<0:\n",
      "    print 'd is less than 0'\n",
      "else:\n",
      "    print 'd is not less than 0'\n",
      "if c.value==d.value:\n",
      "    print 'c and d are equal'\n",
      "else:\n",
      "    print 'c and d are not equal'"
     ],
     "language": "python",
     "metadata": {},
     "outputs": [
      {
       "output_type": "stream",
       "stream": "stdout",
       "text": [
        "c is less than 0\n",
        "d is less than 0\n",
        "c and d are equal\n"
       ]
      }
     ],
     "prompt_number": 1
    },
    {
     "cell_type": "heading",
     "level": 2,
     "metadata": {},
     "source": [
      "Example-char2.cpp, Page no-124"
     ]
    },
    {
     "cell_type": "code",
     "collapsed": false,
     "input": [
      "from ctypes import *\n",
      "c=c_ubyte(255) #unsigned char\n",
      "d=c_byte(-1) #signed char\n",
      "if c.value<0:\n",
      "    print 'c is less than 0'\n",
      "else:\n",
      "    print 'c is not less than 0'\n",
      "if d.value<0:\n",
      "    print 'd is less than 0'\n",
      "else:\n",
      "    print 'd is not less than 0'\n",
      "if c.value==d.value:\n",
      "    print 'c and d are equal'\n",
      "else:\n",
      "    print 'c and d are not equal'"
     ],
     "language": "python",
     "metadata": {},
     "outputs": [
      {
       "output_type": "stream",
       "stream": "stdout",
       "text": [
        "c is not less than 0\n",
        "d is less than 0\n",
        "c and d are not equal\n"
       ]
      }
     ],
     "prompt_number": 1
    },
    {
     "cell_type": "heading",
     "level": 2,
     "metadata": {},
     "source": [
      "Example-leap.cpp, Page no-126"
     ]
    },
    {
     "cell_type": "code",
     "collapsed": false,
     "input": [
      "year=int(raw_input(\"Enter any year: \"))\n",
      "if( (year%4==0 and year%100!=0) or (year%400==0)):\n",
      "    print year, \"is a leap year\"\n",
      "else:\n",
      "    print year, \"is not a leap year\""
     ],
     "language": "python",
     "metadata": {},
     "outputs": [
      {
       "name": "stdout",
       "output_type": "stream",
       "stream": "stdout",
       "text": [
        "Enter any year: 1996\n"
       ]
      },
      {
       "output_type": "stream",
       "stream": "stdout",
       "text": [
        "1996 is a leap year\n"
       ]
      }
     ],
     "prompt_number": 2
    },
    {
     "cell_type": "heading",
     "level": 2,
     "metadata": {},
     "source": [
      "Example-large.cpp, Page no-127"
     ]
    },
    {
     "cell_type": "code",
     "collapsed": false,
     "input": [
      "from ctypes import *\n",
      "u=c_uint(0) #unsigned integer\n",
      "print 'Value before conversion:', u.value\n",
      "u.value=~int(u.value) # 1's complement\n",
      "print 'Value after conversion:', u.value"
     ],
     "language": "python",
     "metadata": {},
     "outputs": [
      {
       "output_type": "stream",
       "stream": "stdout",
       "text": [
        "Value before conversion: 0\n",
        "Value after conversion: 4294967295\n"
       ]
      }
     ],
     "prompt_number": 1
    },
    {
     "cell_type": "heading",
     "level": 2,
     "metadata": {},
     "source": [
      "Example-extract.cpp, Page no-130"
     ]
    },
    {
     "cell_type": "code",
     "collapsed": false,
     "input": [
      "a=int(raw_input(\"Enter an integer: \"))\n",
      "n=int(raw_input(\"Enter bit position to extract: \"))\n",
      "bit=(a>>(n-1))&1  #shift operator\n",
      "print \"The bit is \", bit"
     ],
     "language": "python",
     "metadata": {},
     "outputs": [
      {
       "name": "stdout",
       "output_type": "stream",
       "stream": "stdout",
       "text": [
        "Enter an integer: 10\n"
       ]
      },
      {
       "name": "stdout",
       "output_type": "stream",
       "stream": "stdout",
       "text": [
        "Enter bit position to extract: 2\n"
       ]
      },
      {
       "output_type": "stream",
       "stream": "stdout",
       "text": [
        "The bit is  1\n"
       ]
      }
     ],
     "prompt_number": 1
    },
    {
     "cell_type": "heading",
     "level": 2,
     "metadata": {},
     "source": [
      "Example-max.cpp, Page no-133"
     ]
    },
    {
     "cell_type": "code",
     "collapsed": false,
     "input": [
      "a, b=[int(x) for x in raw_input(\"Enter two integers: \").split()]\n",
      "larger=a if a>b else b #?: operator\n",
      "print \"The larger of the two is\", larger"
     ],
     "language": "python",
     "metadata": {},
     "outputs": [
      {
       "name": "stdout",
       "output_type": "stream",
       "stream": "stdout",
       "text": [
        "Enter two integers: 10 20\n"
       ]
      },
      {
       "output_type": "stream",
       "stream": "stdout",
       "text": [
        "The larger of the two is 20\n"
       ]
      }
     ],
     "prompt_number": 3
    },
    {
     "cell_type": "heading",
     "level": 2,
     "metadata": {},
     "source": [
      "Example-oddeven.cpp, Page no-133"
     ]
    },
    {
     "cell_type": "code",
     "collapsed": false,
     "input": [
      "num=int(raw_input(\"Enter the number: \"))\n",
      "print \"The number\", num,\"is\",\n",
      "print \"Even\" if num%2==0 else \"Odd\" #?: operator\n",
      "num=int(raw_input(\"Enter the number: \"))\n",
      "print \"The number\", num,\"is\",\n",
      "print \"Even\" if num%2==0 else \"Odd\""
     ],
     "language": "python",
     "metadata": {},
     "outputs": [
      {
       "name": "stdout",
       "output_type": "stream",
       "stream": "stdout",
       "text": [
        "Enter the number: 10\n"
       ]
      },
      {
       "output_type": "stream",
       "stream": "stdout",
       "text": [
        "The number 10 is Even\n"
       ]
      },
      {
       "name": "stdout",
       "output_type": "stream",
       "stream": "stdout",
       "text": [
        "Enter the number: 25\n"
       ]
      },
      {
       "output_type": "stream",
       "stream": "stdout",
       "text": [
        "The number 25 is Odd\n"
       ]
      }
     ],
     "prompt_number": 4
    },
    {
     "cell_type": "heading",
     "level": 2,
     "metadata": {},
     "source": [
      "Example-coerce.cpp, Page no-136"
     ]
    },
    {
     "cell_type": "code",
     "collapsed": false,
     "input": [
      "f=float\n",
      "i=12\n",
      "j=5\n",
      "print \"when i = \", i, \"j = \", j\n",
      "f=i/j\n",
      "print \"i/j = \", f\n",
      "f=float(i)/float(j)\n",
      "print \"(float)i/j = \", f\n",
      "f=float(i)/j\n",
      "print \"float(i)/j = \", f\n",
      "f=i/float(j)\n",
      "print \"i/float(j) = \", f"
     ],
     "language": "python",
     "metadata": {},
     "outputs": [
      {
       "output_type": "stream",
       "stream": "stdout",
       "text": [
        "when i =  12 j =  5\n",
        "i/j =  2\n",
        "(float)i/j =  2.4\n",
        "float(i)/j =  2.4\n",
        "i/float(j) =  2.4\n"
       ]
      }
     ],
     "prompt_number": 1
    },
    {
     "cell_type": "heading",
     "level": 2,
     "metadata": {},
     "source": [
      "Example-city.cpp, Page no-141"
     ]
    },
    {
     "cell_type": "code",
     "collapsed": false,
     "input": [
      "CITY='Bidar'\n",
      "def which_city():\n",
      "    print 'City in Function:',\n",
      "    print CITY\n",
      "print 'Earlier City:',\n",
      "print CITY\n",
      "CITY='Bangalore'\n",
      "print 'New City:',\n",
      "print CITY\n",
      "which_city()"
     ],
     "language": "python",
     "metadata": {},
     "outputs": [
      {
       "output_type": "stream",
       "stream": "stdout",
       "text": [
        "Earlier City: Bidar\n",
        "New City: Bangalore\n",
        "City in Function: Bangalore\n"
       ]
      }
     ],
     "prompt_number": 1
    },
    {
     "cell_type": "heading",
     "level": 2,
     "metadata": {},
     "source": [
      "Example-color1.cpp, Page no-143"
     ]
    },
    {
     "cell_type": "code",
     "collapsed": false,
     "input": [
      "def PrintColor(c):\n",
      "    (red, blue, green)=(0, 1, 2) #enum\n",
      "    type =['red', 'green', 'blue']\n",
      "    if c==red:\n",
      "        color='red'\n",
      "    elif c==blue:\n",
      "        color='blue'\n",
      "    else:\n",
      "        color ='green'\n",
      "    print 'Your color choice as per color2.cpp module:', color\n",
      "(red, green, blue)=(0, 1, 2) #enum\n",
      "type =['red', 'green', 'blue']\n",
      "print 'Your color choice in color1.cpp module: green'\n",
      "PrintColor(green)"
     ],
     "language": "python",
     "metadata": {},
     "outputs": [
      {
       "output_type": "stream",
       "stream": "stdout",
       "text": [
        "Your color choice in color1.cpp module: green\n",
        "Your color choice as per color2.cpp module: blue\n"
       ]
      }
     ],
     "prompt_number": 1
    },
    {
     "cell_type": "heading",
     "level": 2,
     "metadata": {},
     "source": [
      "Example-maxmacro.cpp, Page no-146"
     ]
    },
    {
     "cell_type": "code",
     "collapsed": false,
     "input": [
      "def Max(a, b):\n",
      "    return a if a>b else b\n",
      "print 'max(2, 3) =', Max(2, 3)\n",
      "print 'max(10.2, 4.5) =', Max(10.2, 4.5)\n",
      "i=5\n",
      "j=10\n",
      "print 'i =',i\n",
      "print 'j =', j\n",
      "print 'On execution of k=max(++i, ++j);...'\n",
      "i+=1\n",
      "j+=1\n",
      "k=Max(i+1, j+1)\n",
      "print 'i =', i\n",
      "print 'j =', j #the operand is j+1 and not ++j and thus the change is not reflected back in j. \n",
      "print 'k =', k #operand of type j+=1 is not allowed"
     ],
     "language": "python",
     "metadata": {},
     "outputs": [
      {
       "output_type": "stream",
       "stream": "stdout",
       "text": [
        "max(2, 3) = 3\n",
        "max(10.2, 4.5) = 10.2\n",
        "i = 5\n",
        "j = 10\n",
        "On execution of k=max(++i, ++j);...\n",
        "i = 6\n",
        "j = 11\n",
        "k = 12\n"
       ]
      }
     ],
     "prompt_number": 1
    },
    {
     "cell_type": "heading",
     "level": 2,
     "metadata": {},
     "source": [
      "Example-exp.cpp, Page no-148"
     ]
    },
    {
     "cell_type": "code",
     "collapsed": false,
     "input": [
      "a=30\n",
      "b=20\n",
      "c=11\n",
      "result=a+b/(c-1)+a%b #--c is replaced by (c-1)\n",
      "print 'a+b/--c+a%b =', result"
     ],
     "language": "python",
     "metadata": {},
     "outputs": [
      {
       "output_type": "stream",
       "stream": "stdout",
       "text": [
        "a+b/--c+a%b = 42\n"
       ]
      }
     ],
     "prompt_number": 4
    },
    {
     "cell_type": "heading",
     "level": 2,
     "metadata": {},
     "source": [
      "Example Page no-150"
     ]
    },
    {
     "cell_type": "code",
     "collapsed": false,
     "input": [
      "num1=int(raw_input(\"Enter the first number: \"))\n",
      "num2=int(raw_input(\"Enter the second number: \"))\n",
      "print num1, '+', num2, '=',num1+num2\n",
      "print num1, '-', num2, '=',num1-num2\n",
      "print num1, '*', num2, '=',num1*num2\n",
      "print num1, '/', num2, '=',num1/num2"
     ],
     "language": "python",
     "metadata": {},
     "outputs": [
      {
       "name": "stdout",
       "output_type": "stream",
       "stream": "stdout",
       "text": [
        "Enter the first number: 20\n"
       ]
      },
      {
       "name": "stdout",
       "output_type": "stream",
       "stream": "stdout",
       "text": [
        "Enter the second number: 10\n"
       ]
      },
      {
       "output_type": "stream",
       "stream": "stdout",
       "text": [
        "20 + 10 = 30\n",
        "20 - 10 = 10\n",
        "20 * 10 = 200\n",
        "20 / 10 = 2\n"
       ]
      }
     ],
     "prompt_number": 1
    }
   ],
   "metadata": {}
  }
 ]
}