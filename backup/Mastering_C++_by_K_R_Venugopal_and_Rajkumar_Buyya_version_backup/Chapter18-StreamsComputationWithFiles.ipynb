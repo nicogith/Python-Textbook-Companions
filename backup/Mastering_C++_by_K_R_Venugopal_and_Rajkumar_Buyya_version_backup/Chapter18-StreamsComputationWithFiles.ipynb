{
 "metadata": {
  "name": "",
  "signature": "sha256:fe66068ace4dfae0081c9992d8914d2fa642c4fa20e9f62d7dadd74619b6c0f7"
 },
 "nbformat": 3,
 "nbformat_minor": 0,
 "worksheets": [
  {
   "cells": [
    {
     "cell_type": "heading",
     "level": 1,
     "metadata": {},
     "source": [
      "Chapter 18-Streams Computation with Files"
     ]
    },
    {
     "cell_type": "heading",
     "level": 2,
     "metadata": {},
     "source": [
      "Example-stdfile.cpp, Page no-728"
     ]
    },
    {
     "cell_type": "code",
     "collapsed": false,
     "input": [
      "fout=open(\"student.out\", \"w\")\n",
      "name=raw_input(\"Enter Name: \")\n",
      "marks=raw_input(\"Enter Marks Secured: \")\n",
      "fout.write(name+'\\n')\n",
      "fout.write(marks+'\\n')\n",
      "name=raw_input(\"Enter Name: \")\n",
      "marks=raw_input(\"Enter Marks Secured: \")\n",
      "fout.write(name+'\\n')\n",
      "fout.write(marks+'\\n')"
     ],
     "language": "python",
     "metadata": {},
     "outputs": [
      {
       "name": "stdout",
       "output_type": "stream",
       "stream": "stdout",
       "text": [
        "Enter Name: Rajkumar\n"
       ]
      },
      {
       "name": "stdout",
       "output_type": "stream",
       "stream": "stdout",
       "text": [
        "Enter Marks Secured: 95\n"
       ]
      },
      {
       "name": "stdout",
       "output_type": "stream",
       "stream": "stdout",
       "text": [
        "Enter Name: Tejaswi\n"
       ]
      },
      {
       "name": "stdout",
       "output_type": "stream",
       "stream": "stdout",
       "text": [
        "Enter Marks Secured: 90\n"
       ]
      }
     ],
     "prompt_number": 2
    },
    {
     "cell_type": "heading",
     "level": 1,
     "metadata": {},
     "source": [
      "Example-stdread.cpp, Page no-729"
     ]
    },
    {
     "cell_type": "code",
     "collapsed": false,
     "input": [
      "fin=open(\"student.out\", \"r\")\n",
      "name = fin.readline()\n",
      "print \"Name:\", name,\n",
      "marks=fin.readline()\n",
      "print \"Marks Secured:\",marks,\n",
      "name = fin.readline()\n",
      "print \"Name:\", name,\n",
      "marks=fin.readline()\n",
      "print \"Marks Secured:\",marks"
     ],
     "language": "python",
     "metadata": {},
     "outputs": [
      {
       "output_type": "stream",
       "stream": "stdout",
       "text": [
        "Name: Rajkumar\n",
        "Marks Secured: 95\n",
        "Name: Tejaswi\n",
        "Marks Secured: 90\n",
        "\n"
       ]
      }
     ],
     "prompt_number": 3
    },
    {
     "cell_type": "heading",
     "level": 1,
     "metadata": {},
     "source": [
      "Example-fdisp.cpp, Page no-732"
     ]
    },
    {
     "cell_type": "code",
     "collapsed": false,
     "input": [
      "filename=raw_input(\"Enter Name of the File: \")\n",
      "try:\n",
      "    ifile=open(filename, \"r\")\n",
      "    ch=ifile.read()\n",
      "    print ch\n",
      "except IOError:\n",
      "    print \"Error opening\", filename"
     ],
     "language": "python",
     "metadata": {},
     "outputs": [
      {
       "name": "stdout",
       "output_type": "stream",
       "stream": "stdout",
       "text": [
        "Enter Name of the File: mytype.cpp\n"
       ]
      },
      {
       "output_type": "stream",
       "stream": "stdout",
       "text": [
        "Error opening mytype.cpp\n"
       ]
      }
     ],
     "prompt_number": 1
    },
    {
     "cell_type": "heading",
     "level": 2,
     "metadata": {},
     "source": [
      "Example-keyin.cpp, Page no-733"
     ]
    },
    {
     "cell_type": "code",
     "collapsed": false,
     "input": [
      "ofile=open(\"key.txt\", \"w\")\n",
      "print \"Enter characters ..<Ctrl-Z followed by carriage-return to stop\"\n",
      "ch=raw_input()\n",
      "while(ch):\n",
      "    ofile.write(ch)\n",
      "    ch=raw_input()\n",
      "ofile.close()"
     ],
     "language": "python",
     "metadata": {},
     "outputs": [
      {
       "output_type": "stream",
       "stream": "stdout",
       "text": [
        "Enter characters ..<Ctrl-Z followed by carriage-return to stop\n"
       ]
      },
      {
       "name": "stdout",
       "output_type": "stream",
       "stream": "stdout",
       "text": [
        "1\n"
       ]
      },
      {
       "name": "stdout",
       "output_type": "stream",
       "stream": "stdout",
       "text": [
        "2\n"
       ]
      },
      {
       "name": "stdout",
       "output_type": "stream",
       "stream": "stdout",
       "text": [
        "3\n"
       ]
      },
      {
       "name": "stdout",
       "output_type": "stream",
       "stream": "stdout",
       "text": [
        "4\n"
       ]
      },
      {
       "name": "stdout",
       "output_type": "stream",
       "stream": "stdout",
       "text": [
        "\n"
       ]
      }
     ],
     "prompt_number": 1
    },
    {
     "cell_type": "heading",
     "level": 2,
     "metadata": {},
     "source": [
      "Example-stdwr.cpp, Page no-734"
     ]
    },
    {
     "cell_type": "code",
     "collapsed": false,
     "input": [
      "def student_write(count):\n",
      "    fout=open(\"student.out\", \"w\")\n",
      "    if not(fout):\n",
      "        print \"Error: student.out cannot be opened in write mode\"\n",
      "        return\n",
      "    for i in range(count):\n",
      "        name=raw_input(\"Enter Name: \")\n",
      "        marks=raw_input(\"Enter Marks Secured: \")\n",
      "        fout.write(name+'\\n')\n",
      "        fout.write(marks+'\\n')\n",
      "    fout.close()\n",
      "def student_read():\n",
      "    fin=open(\"student.out\", \"r\")\n",
      "    if not(fin):\n",
      "        print \"Error: student.out cannot be opened in read mode\"\n",
      "        return\n",
      "    for i in range(3):\n",
      "        name=fin.readline()\n",
      "        marks=fin.readline()\n",
      "        if name=='': #to check end of file\n",
      "            break\n",
      "        print \"Name:\", name,\n",
      "        print \"Marks Secured:\", marks,\n",
      "    fin.close()\n",
      "count = int(raw_input(\"How many students? \"))\n",
      "print \"Enter student details to be stored...\"\n",
      "student_write(count)\n",
      "print \"Student details processed from the file...\"\n",
      "student_read()"
     ],
     "language": "python",
     "metadata": {},
     "outputs": [
      {
       "name": "stdout",
       "output_type": "stream",
       "stream": "stdout",
       "text": [
        "How many students? 3\n"
       ]
      },
      {
       "output_type": "stream",
       "stream": "stdout",
       "text": [
        "Enter student details to be stored...\n"
       ]
      },
      {
       "name": "stdout",
       "output_type": "stream",
       "stream": "stdout",
       "text": [
        "Enter Name: Mangala\n"
       ]
      },
      {
       "name": "stdout",
       "output_type": "stream",
       "stream": "stdout",
       "text": [
        "Enter Marks Secured: 75\n"
       ]
      },
      {
       "name": "stdout",
       "output_type": "stream",
       "stream": "stdout",
       "text": [
        "Enter Name: Chatterjee\n"
       ]
      },
      {
       "name": "stdout",
       "output_type": "stream",
       "stream": "stdout",
       "text": [
        "Enter Marks Secured: 99\n"
       ]
      },
      {
       "name": "stdout",
       "output_type": "stream",
       "stream": "stdout",
       "text": [
        "Enter Name: Rao-M-G\n"
       ]
      },
      {
       "name": "stdout",
       "output_type": "stream",
       "stream": "stdout",
       "text": [
        "Enter Marks Secured: 50\n"
       ]
      },
      {
       "output_type": "stream",
       "stream": "stdout",
       "text": [
        "Student details processed from the file...\n",
        "Name: Mangala\n",
        "Marks Secured: 75\n",
        "Name: Chatterjee\n",
        "Marks Secured: 99\n",
        "Name: Rao-M-G\n",
        "Marks Secured: 50\n"
       ]
      }
     ],
     "prompt_number": 1
    },
    {
     "cell_type": "heading",
     "level": 2,
     "metadata": {},
     "source": [
      "Example-payfile.cpp, Page no-737"
     ]
    },
    {
     "cell_type": "code",
     "collapsed": false,
     "input": [
      "f1=123.45\n",
      "f2=34.65\n",
      "f3=56\n",
      "out_file=open(\"pay.txt\", \"w\")\n",
      "out_file.write('{0:6.2f}'.format(f1))\n",
      "out_file.write('{0:6.2f}'.format(f2))\n",
      "out_file.write('{0:6.2f}'.format(f3))"
     ],
     "language": "python",
     "metadata": {},
     "outputs": [],
     "prompt_number": 1
    },
    {
     "cell_type": "heading",
     "level": 2,
     "metadata": {},
     "source": [
      "Example-fsize.cpp, Page no-739"
     ]
    },
    {
     "cell_type": "code",
     "collapsed": false,
     "input": [
      "import sys\n",
      "                                     \n",
      "if not(len(sys.argv)==2):             \n",
      "    print \"Usage: fsize <filename>\"\n",
      "else:\n",
      "                                #Open a file\n",
      "    infile=open(sys.argv[1],'r')\n",
      "\n",
      "                                #In case file cannot open\n",
      "    if(not(infile)):\n",
      "        print \"Error opening\", sys.argv[1]\n",
      "    else:\n",
      "                                #Read file\n",
      "        infile.seek(end)\n",
      "        print \"File Size=\", infile.tell()"
     ],
     "language": "python",
     "metadata": {},
     "outputs": [
      {
       "output_type": "stream",
       "stream": "stdout",
       "text": [
        "Usage: fsize <filename>\n"
       ]
      }
     ],
     "prompt_number": 1
    },
    {
     "cell_type": "heading",
     "level": 2,
     "metadata": {},
     "source": [
      "Example-putget.cpp, Page no-741"
     ]
    },
    {
     "cell_type": "code",
     "collapsed": false,
     "input": [
      "File=open(\"student.txt\",  \"w\")\n",
      "string=raw_input(\"Enter String: \")\n",
      "File.write(string)\n",
      "File.seek(0)\n",
      "print \"Output string:\",\n",
      "File=open(\"student.txt\",  \"r\")\n",
      "string=File.read()\n",
      "print string"
     ],
     "language": "python",
     "metadata": {},
     "outputs": [
      {
       "name": "stdout",
       "output_type": "stream",
       "stream": "stdout",
       "text": [
        "Enter String: Object-Computing with C++\n"
       ]
      },
      {
       "output_type": "stream",
       "stream": "stdout",
       "text": [
        "Output string: Object-Computing with C++\n"
       ]
      }
     ],
     "prompt_number": 1
    },
    {
     "cell_type": "heading",
     "level": 2,
     "metadata": {},
     "source": [
      "Example-fwr.cpp, Page no-743"
     ]
    },
    {
     "cell_type": "code",
     "collapsed": false,
     "input": [
      "num1=530\n",
      "num2=1050.25\n",
      "out_file=open(\"number.bin\", \"w\")\n",
      "out_file.write(str(num1)+'\\n')\n",
      "out_file.write(str(num2)+'\\n')\n",
      "out_file.close()\n",
      "in_file=open(\"number.bin\", \"r\")\n",
      "num1=in_file.readline()\n",
      "num2=in_file.readline()\n",
      "print num1, num2\n",
      "in_file.close()"
     ],
     "language": "python",
     "metadata": {},
     "outputs": [
      {
       "output_type": "stream",
       "stream": "stdout",
       "text": [
        "530\n",
        "1050.25\n",
        "\n"
       ]
      }
     ],
     "prompt_number": 1
    },
    {
     "cell_type": "heading",
     "level": 2,
     "metadata": {},
     "source": [
      "Example-objsave.cpp, Page no-744"
     ]
    },
    {
     "cell_type": "code",
     "collapsed": false,
     "input": [
      "MAXNAME=40\n",
      "class Person:\n",
      "    __name=str\n",
      "    __age=int\n",
      "    def write(self, os):\n",
      "        os.write(self.__name+'\\n')\n",
      "        os.write(str(self.__age)+'\\n')\n",
      "    def read(self,Is):\n",
      "        self.__name=Is.readline()\n",
      "        self.__age=Is.readline()\n",
      "def fOutput(fos, b):\n",
      "    b.write(fos)\n",
      "def fInput(fos, b):\n",
      "    b.read(fos)\n",
      "def Input(b):\n",
      "    b._Person__name=raw_input(\"Name: \")\n",
      "    b._Person__age=int(raw_input(\"Age: \"))\n",
      "def Output(b):\n",
      "    print b._Person__name,\n",
      "    print b._Person__age,\n",
      "p_obj=Person()\n",
      "ofile=open(\"person.txt\", \"w\")\n",
      "while(1):\n",
      "    Input(p_obj)\n",
      "    fOutput(ofile, p_obj)\n",
      "    ch=str(raw_input(\"Another? \"))\n",
      "    if ch.upper()!='Y':\n",
      "        break\n",
      "ofile.close()\n",
      "ifile=open(\"person.txt\", \"r\")\n",
      "print \"The objects written to the file were:..\"\n",
      "while 1:\n",
      "    fInput(ifile, p_obj)\n",
      "    Output(p_obj)\n",
      "    if p_obj._Person__name=='':\n",
      "        break"
     ],
     "language": "python",
     "metadata": {},
     "outputs": [
      {
       "name": "stdout",
       "output_type": "stream",
       "stream": "stdout",
       "text": [
        "Name: Tejaswi\n"
       ]
      },
      {
       "name": "stdout",
       "output_type": "stream",
       "stream": "stdout",
       "text": [
        "Age: 5\n"
       ]
      },
      {
       "name": "stdout",
       "output_type": "stream",
       "stream": "stdout",
       "text": [
        "Another? y\n"
       ]
      },
      {
       "name": "stdout",
       "output_type": "stream",
       "stream": "stdout",
       "text": [
        "Name: Savithri\n"
       ]
      },
      {
       "name": "stdout",
       "output_type": "stream",
       "stream": "stdout",
       "text": [
        "Age: 23\n"
       ]
      },
      {
       "name": "stdout",
       "output_type": "stream",
       "stream": "stdout",
       "text": [
        "Another? n\n"
       ]
      },
      {
       "output_type": "stream",
       "stream": "stdout",
       "text": [
        "The objects written to the file were:..\n",
        "Tejaswi\n",
        "5\n",
        "Savithri\n",
        "23\n",
        " \n"
       ]
      }
     ],
     "prompt_number": 1
    },
    {
     "cell_type": "heading",
     "level": 2,
     "metadata": {},
     "source": [
      "Example-student.cpp, Page no-748"
     ]
    },
    {
     "cell_type": "code",
     "collapsed": false,
     "input": [
      "try:\n",
      "    infile=open(\"student.in\", \"r\")\n",
      "except IOerror:\n",
      "    print \"Error: student.in file non-existent\"\n",
      "try:\n",
      "    outfile=open(\"student.out\", \"w\")\n",
      "except IOerror:\n",
      "    print \"Error: unable to open student.out in write mode\"\n",
      "else:\n",
      "    count=int(infile.readline())\n",
      "    outfile.write(\"    Students Information Processing\")\n",
      "    outfile.write(\"\\n----------------------------------------\")\n",
      "    for i in range(count):\n",
      "        name=infile.readline()\n",
      "        percentage=int(infile.readline())\n",
      "        outfile.write(\"\\nName: \"+name)\n",
      "        outfile.write(\"Percentage: \"+str(percentage)+'\\n')\n",
      "        outfile.write(\"Passed in: \")\n",
      "        if percentage>=70:\n",
      "            outfile.write(\"First class with distinction\")\n",
      "        elif percentage>=60:\n",
      "            outfile.write(\"First class\")\n",
      "        elif percentage>=50:\n",
      "            outfile.write(\"Second class\")\n",
      "        elif percentage>=35:\n",
      "            outfile.write(\"Third class\")\n",
      "        else:\n",
      "            outfile.write(\"Sorry, Failed!\")\n",
      "        outfile.write('\\n')\n",
      "        outfile.write(\"----------------------------------------\")\n",
      "    infile.close()\n",
      "    outfile.close()\n",
      "    print \"Contents of student.out:\\n\"\n",
      "    infile=open(\"student.out\", \"r\")\n",
      "    Str=infile.read()\n",
      "    print Str\n",
      "    infile.close()"
     ],
     "language": "python",
     "metadata": {},
     "outputs": [
      {
       "output_type": "stream",
       "stream": "stdout",
       "text": [
        "Contents of student.out:\n",
        "\n",
        "    Students Information Processing\n",
        "----------------------------------------\n",
        "Name: Rajkumar\n",
        "Percentage: 84\n",
        "Passed in: First class with distinction\n",
        "----------------------------------------\n",
        "Name: Tejaswi\n",
        "Percentage: 82\n",
        "Passed in: First class with distinction\n",
        "----------------------------------------\n",
        "Name: Smrithi\n",
        "Percentage: 60\n",
        "Passed in: First class\n",
        "----------------------------------------\n",
        "Name: Anand\n",
        "Percentage: 55\n",
        "Passed in: Second class\n",
        "----------------------------------------\n",
        "Name: Rajshree\n",
        "Percentage: 40\n",
        "Passed in: Third class\n",
        "----------------------------------------\n",
        "Name: Ramesh\n",
        "Percentage: 33\n",
        "Passed in: Sorry, Failed!\n",
        "----------------------------------------\n"
       ]
      }
     ],
     "prompt_number": 1
    },
    {
     "cell_type": "heading",
     "level": 2,
     "metadata": {},
     "source": [
      "Example-fio.cpp, Page no-751"
     ]
    },
    {
     "cell_type": "code",
     "collapsed": false,
     "input": [
      "READ_SIZE=6\n",
      "reader=str\n",
      "fstr=open(\"test.del\", \"w\")\n",
      "for i in range(10):\n",
      "    fstr.write(str(i))\n",
      "fstr.seek(2)\n",
      "fstr.write(\"Hello\")\n",
      "fstr=open(\"test.del\", \"r\")\n",
      "fstr.seek(4)\n",
      "reader=fstr.read(READ_SIZE)\n",
      "print reader"
     ],
     "language": "python",
     "metadata": {},
     "outputs": [
      {
       "output_type": "stream",
       "stream": "stdout",
       "text": [
        "llo789\n"
       ]
      }
     ],
     "prompt_number": 1
    },
    {
     "cell_type": "heading",
     "level": 2,
     "metadata": {},
     "source": [
      "Example-direct.cpp, Page no-752"
     ]
    },
    {
     "cell_type": "code",
     "collapsed": false,
     "input": [
      "from ctypes import *\n",
      "class Person(Structure):\n",
      "    _fields_=[('name',c_char*40),('age',c_int)]\n",
      "    def write(self, os):\n",
      "        os.write(self.__name+'\\n')\n",
      "        os.write(str(self.__age)+'\\n')\n",
      "    def read(self, Is):\n",
      "        self.__name=Is.readline()\n",
      "        self.__age=Is.readline()\n",
      "def Input(b):\n",
      "    b._Person__name=raw_input(\"Name: \")\n",
      "    b._Person__age=int(raw_input(\"Age: \"))\n",
      "def Output(b):\n",
      "    print \"Name:\",b._Person__name,\n",
      "    print \"Age:\",b._Person__age,\n",
      "p_obj=Person()\n",
      "print \"Database Creation...\"\n",
      "ofile=open(\"person.dat\", \"w\")\n",
      "count=0\n",
      "while(1):\n",
      "    print \"Enter Object\", count, \"details...\"\n",
      "    Input(p_obj)\n",
      "    count=count+1\n",
      "    p_obj.write(ofile)\n",
      "    ch=str(raw_input(\"Another? \"))\n",
      "    if ch.upper()!='Y':\n",
      "        break\n",
      "ofile.close()\n",
      "iofile=open(\"person.dat\", \"r+b\")\n",
      "print \"Database Access...\"\n",
      "while 1:\n",
      "    obj_id=int(raw_input(\"Enter the object number to be accessed <-1 to end>: \"))\n",
      "    iofile.seek(0)\n",
      "    if obj_id<0 or obj_id>=count:\n",
      "        break\n",
      "    for i in range(2*obj_id):\n",
      "        iofile.readline()\n",
      "    location=iofile.tell()\n",
      "    iofile.seek(location)\n",
      "    p_obj.read(iofile)\n",
      "    Output(p_obj)\n",
      "    ch=raw_input(\"Wants to Modify? \")\n",
      "    if ch=='y' or ch=='Y':\n",
      "        Input(p_obj)\n",
      "        iofile.seek(location)\n",
      "        p_obj.write(iofile)\n",
      "iofile.close()"
     ],
     "language": "python",
     "metadata": {},
     "outputs": [
      {
       "output_type": "stream",
       "stream": "stdout",
       "text": [
        "Database Creation...\n",
        "Enter Object 0 details...\n"
       ]
      },
      {
       "name": "stdout",
       "output_type": "stream",
       "stream": "stdout",
       "text": [
        "Name: Rajkumar\n"
       ]
      },
      {
       "name": "stdout",
       "output_type": "stream",
       "stream": "stdout",
       "text": [
        "Age: 25\n"
       ]
      },
      {
       "name": "stdout",
       "output_type": "stream",
       "stream": "stdout",
       "text": [
        "Another? y\n"
       ]
      },
      {
       "output_type": "stream",
       "stream": "stdout",
       "text": [
        "Enter Object 1 details...\n"
       ]
      },
      {
       "name": "stdout",
       "output_type": "stream",
       "stream": "stdout",
       "text": [
        "Name: Tejaswi\n"
       ]
      },
      {
       "name": "stdout",
       "output_type": "stream",
       "stream": "stdout",
       "text": [
        "Age: 20\n"
       ]
      },
      {
       "name": "stdout",
       "output_type": "stream",
       "stream": "stdout",
       "text": [
        "Another? y\n"
       ]
      },
      {
       "output_type": "stream",
       "stream": "stdout",
       "text": [
        "Enter Object 2 details...\n"
       ]
      },
      {
       "name": "stdout",
       "output_type": "stream",
       "stream": "stdout",
       "text": [
        "Name: Kalpana\n"
       ]
      },
      {
       "name": "stdout",
       "output_type": "stream",
       "stream": "stdout",
       "text": [
        "Age: 15\n"
       ]
      },
      {
       "name": "stdout",
       "output_type": "stream",
       "stream": "stdout",
       "text": [
        "Another? n\n"
       ]
      },
      {
       "output_type": "stream",
       "stream": "stdout",
       "text": [
        "Database Access...\n"
       ]
      },
      {
       "name": "stdout",
       "output_type": "stream",
       "stream": "stdout",
       "text": [
        "Enter the object number to be accessed <-1 to end>: 0\n"
       ]
      },
      {
       "output_type": "stream",
       "stream": "stdout",
       "text": [
        "Name: Rajkumar\r\n",
        "Age: 25\r\n"
       ]
      },
      {
       "name": "stdout",
       "output_type": "stream",
       "stream": "stdout",
       "text": [
        "Wants to Modify? n\n"
       ]
      },
      {
       "name": "stdout",
       "output_type": "stream",
       "stream": "stdout",
       "text": [
        "Enter the object number to be accessed <-1 to end>: 1\n"
       ]
      },
      {
       "output_type": "stream",
       "stream": "stdout",
       "text": [
        "Name: Tejaswi\r\n",
        "Age: 20\r\n"
       ]
      },
      {
       "name": "stdout",
       "output_type": "stream",
       "stream": "stdout",
       "text": [
        "Wants to Modify? y\n"
       ]
      },
      {
       "name": "stdout",
       "output_type": "stream",
       "stream": "stdout",
       "text": [
        "Name: Tejaswi\n"
       ]
      },
      {
       "name": "stdout",
       "output_type": "stream",
       "stream": "stdout",
       "text": [
        "Age: 5\n"
       ]
      },
      {
       "name": "stdout",
       "output_type": "stream",
       "stream": "stdout",
       "text": [
        "Enter the object number to be accessed <-1 to end>: 1\n"
       ]
      },
      {
       "output_type": "stream",
       "stream": "stdout",
       "text": [
        "Name: Tejaswi\n",
        "Age: 5\n"
       ]
      },
      {
       "name": "stdout",
       "output_type": "stream",
       "stream": "stdout",
       "text": [
        "Wants to Modify? n\n"
       ]
      },
      {
       "name": "stdout",
       "output_type": "stream",
       "stream": "stdout",
       "text": [
        "Enter the object number to be accessed <-1 to end>: -1\n"
       ]
      }
     ],
     "prompt_number": 1
    },
    {
     "cell_type": "heading",
     "level": 2,
     "metadata": {},
     "source": [
      "Example-outfile.cpp, Page no-758"
     ]
    },
    {
     "cell_type": "code",
     "collapsed": false,
     "input": [
      "outfile=open(\"sample.out\", \"w\")\n",
      "if not(outfile):\n",
      "    print \"Error: sample.out unable to open\"\n",
      "else:\n",
      "    while(1):\n",
      "        buff=raw_input()\n",
      "        if buff==\"end\":\n",
      "            break\n",
      "        outfile.write(buff)\n",
      "        if not(outfile):\n",
      "            print \"write operation fail\"\n",
      "            break\n",
      "    outfile.close()"
     ],
     "language": "python",
     "metadata": {},
     "outputs": [
      {
       "name": "stdout",
       "output_type": "stream",
       "stream": "stdout",
       "text": [
        "OOP is good\n"
       ]
      },
      {
       "name": "stdout",
       "output_type": "stream",
       "stream": "stdout",
       "text": [
        "C++ is OOP\n"
       ]
      },
      {
       "name": "stdout",
       "output_type": "stream",
       "stream": "stdout",
       "text": [
        "C++ is good\n"
       ]
      },
      {
       "name": "stdout",
       "output_type": "stream",
       "stream": "stdout",
       "text": [
        "end\n"
       ]
      }
     ],
     "prompt_number": 2
    },
    {
     "cell_type": "heading",
     "level": 2,
     "metadata": {},
     "source": [
      "Example-1, Page no-762"
     ]
    },
    {
     "cell_type": "code",
     "collapsed": false,
     "input": [
      "space=tab=line=0\n",
      "fin=open(\"File1.txt\", \"r\")\n",
      "#fin.write(\"F I L E\\nHandling\\nin\tC++\")\n",
      "while 1:\n",
      "    c=fin.read(1)\n",
      "    if c==' ':\n",
      "        space+=1\n",
      "    if c=='\\t':\n",
      "        tab+=1\n",
      "    if c=='\\n':\n",
      "        line+=1\n",
      "    if c=='':\n",
      "        break\n",
      "print \"Number of blank spaces =\", space\n",
      "print \"Number of tabs =\", tab\n",
      "print \"Number of lines =\", line"
     ],
     "language": "python",
     "metadata": {},
     "outputs": [
      {
       "output_type": "stream",
       "stream": "stdout",
       "text": [
        "Number of blank spaces = 3\n",
        "Number of tabs = 1\n",
        "Number of lines = 2\n"
       ]
      }
     ],
     "prompt_number": 1
    },
    {
     "cell_type": "heading",
     "level": 2,
     "metadata": {},
     "source": [
      "Example-2, Page no-763"
     ]
    },
    {
     "cell_type": "code",
     "collapsed": false,
     "input": [
      "fin=open(\"Sample.txt\", \"r\")\n",
      "#fin.write(\"File Handling in C++\")\n",
      "print \"Here are the contents of the file, Sample.txt...\"\n",
      "c=fin.read()\n",
      "print c"
     ],
     "language": "python",
     "metadata": {},
     "outputs": [
      {
       "output_type": "stream",
       "stream": "stdout",
       "text": [
        "Here are the contents of the file, Sample.txt...\n",
        "File Handling in C++\n"
       ]
      }
     ],
     "prompt_number": 1
    }
   ],
   "metadata": {}
  }
 ]
}