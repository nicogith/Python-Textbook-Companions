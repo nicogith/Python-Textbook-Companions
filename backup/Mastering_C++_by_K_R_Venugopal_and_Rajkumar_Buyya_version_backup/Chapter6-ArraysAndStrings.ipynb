{
 "metadata": {
  "name": "",
  "signature": "sha256:e2ad0aaf08f1bea2c2348d5e8774482c34bf3c3072d4908db5fdcd5d935d1eed"
 },
 "nbformat": 3,
 "nbformat_minor": 0,
 "worksheets": [
  {
   "cells": [
    {
     "cell_type": "heading",
     "level": 1,
     "metadata": {},
     "source": [
      "Chapter 6- Arrays and Strings"
     ]
    },
    {
     "cell_type": "heading",
     "level": 2,
     "metadata": {},
     "source": [
      "Example-age1.cpp, Page no-182"
     ]
    },
    {
     "cell_type": "code",
     "collapsed": false,
     "input": [
      "Sum=0.0\n",
      "age1=int(raw_input(\"Enter person 1 age: \"))\n",
      "Sum+=age1\n",
      "age2=int(raw_input(\"Enter person 2 age: \"))\n",
      "Sum+=age2\n",
      "age3=int(raw_input(\"Enter person 3 age: \"))\n",
      "Sum+=age3\n",
      "age4=int(raw_input(\"Enter person 4 age: \"))\n",
      "Sum+=age4\n",
      "age5=int(raw_input(\"Enter person 5 age: \"))\n",
      "Sum+=age5\n",
      "print \"Average age = %g\" %(Sum/5)"
     ],
     "language": "python",
     "metadata": {},
     "outputs": [
      {
       "name": "stdout",
       "output_type": "stream",
       "stream": "stdout",
       "text": [
        "Enter person 1 age: 23\n"
       ]
      },
      {
       "name": "stdout",
       "output_type": "stream",
       "stream": "stdout",
       "text": [
        "Enter person 2 age: 40\n"
       ]
      },
      {
       "name": "stdout",
       "output_type": "stream",
       "stream": "stdout",
       "text": [
        "Enter person 3 age: 30\n"
       ]
      },
      {
       "name": "stdout",
       "output_type": "stream",
       "stream": "stdout",
       "text": [
        "Enter person 4 age: 27\n"
       ]
      },
      {
       "name": "stdout",
       "output_type": "stream",
       "stream": "stdout",
       "text": [
        "Enter person 5 age: 25\n"
       ]
      },
      {
       "output_type": "stream",
       "stream": "stdout",
       "text": [
        "Average age = 29\n"
       ]
      }
     ],
     "prompt_number": 1
    },
    {
     "cell_type": "heading",
     "level": 2,
     "metadata": {},
     "source": [
      "Example-age2.cpp, Page no-182"
     ]
    },
    {
     "cell_type": "code",
     "collapsed": false,
     "input": [
      "age=[int]*5 #integer array of size 5\n",
      "Sum=0.0\n",
      "for i in range(5):\n",
      "    print \"Enter person\", i+1, \"age: \",\n",
      "    age[i]=int(raw_input())\n",
      "for i in range(5):\n",
      "    Sum+=age[i]\n",
      "print \"Average age = %g\" %(Sum/5)"
     ],
     "language": "python",
     "metadata": {},
     "outputs": [
      {
       "output_type": "stream",
       "stream": "stdout",
       "text": [
        "Enter person 1 age: "
       ]
      },
      {
       "name": "stdout",
       "output_type": "stream",
       "stream": "stdout",
       "text": [
        "23\n"
       ]
      },
      {
       "output_type": "stream",
       "stream": "stdout",
       "text": [
        " Enter person 2 age: "
       ]
      },
      {
       "name": "stdout",
       "output_type": "stream",
       "stream": "stdout",
       "text": [
        "40\n"
       ]
      },
      {
       "output_type": "stream",
       "stream": "stdout",
       "text": [
        " Enter person 3 age: "
       ]
      },
      {
       "name": "stdout",
       "output_type": "stream",
       "stream": "stdout",
       "text": [
        "30\n"
       ]
      },
      {
       "output_type": "stream",
       "stream": "stdout",
       "text": [
        " Enter person 4 age: "
       ]
      },
      {
       "name": "stdout",
       "output_type": "stream",
       "stream": "stdout",
       "text": [
        "27\n"
       ]
      },
      {
       "output_type": "stream",
       "stream": "stdout",
       "text": [
        " Enter person 5 age: "
       ]
      },
      {
       "name": "stdout",
       "output_type": "stream",
       "stream": "stdout",
       "text": [
        "25\n"
       ]
      },
      {
       "output_type": "stream",
       "stream": "stdout",
       "text": [
        " Average age = 29\n"
       ]
      }
     ],
     "prompt_number": 1
    },
    {
     "cell_type": "heading",
     "level": 2,
     "metadata": {},
     "source": [
      "Example-nodup.c, Page no-184"
     ]
    },
    {
     "cell_type": "code",
     "collapsed": false,
     "input": [
      "flag=0\n",
      "a=[float]*50\n",
      "n=int(raw_input(\"Enter the size of a vector: \"))\n",
      "num=n\n",
      "print \"Enter the vector elements...\"\n",
      "for i in range(n):\n",
      "    print \"a[\", i, \"] = ? \",\n",
      "    a[i]=int(raw_input())\n",
      "for i in range(n-1):\n",
      "    for j in range(i+1, n):\n",
      "        if a[i]==a[j]:\n",
      "            n=n-1\n",
      "            for k in range(j, n):\n",
      "                a[k]=a[k+1]\n",
      "            flag=1\n",
      "            j=j-1\n",
      "if flag:\n",
      "    print \"vector has \", num-n, \"duplicate elements=(s).\"\n",
      "    print \"Vector after removing duplicates...\"\n",
      "    for i in range(n):\n",
      "        print \"a[\", i, \"] = \", a[i]\n",
      "else:\n",
      "    print \"vector has no duplicate elements\""
     ],
     "language": "python",
     "metadata": {},
     "outputs": [
      {
       "name": "stdout",
       "output_type": "stream",
       "stream": "stdout",
       "text": [
        "Enter the size of a vector: 6\n"
       ]
      },
      {
       "output_type": "stream",
       "stream": "stdout",
       "text": [
        "Enter the vector elements...\n",
        "a[ 0 ] = ? "
       ]
      },
      {
       "name": "stdout",
       "output_type": "stream",
       "stream": "stdout",
       "text": [
        "1\n"
       ]
      },
      {
       "output_type": "stream",
       "stream": "stdout",
       "text": [
        " a[ 1 ] = ? "
       ]
      },
      {
       "name": "stdout",
       "output_type": "stream",
       "stream": "stdout",
       "text": [
        "5\n"
       ]
      },
      {
       "output_type": "stream",
       "stream": "stdout",
       "text": [
        " a[ 2 ] = ? "
       ]
      },
      {
       "name": "stdout",
       "output_type": "stream",
       "stream": "stdout",
       "text": [
        "6\n"
       ]
      },
      {
       "output_type": "stream",
       "stream": "stdout",
       "text": [
        " a[ 3 ] = ? "
       ]
      },
      {
       "name": "stdout",
       "output_type": "stream",
       "stream": "stdout",
       "text": [
        "8\n"
       ]
      },
      {
       "output_type": "stream",
       "stream": "stdout",
       "text": [
        " a[ 4 ] = ? "
       ]
      },
      {
       "name": "stdout",
       "output_type": "stream",
       "stream": "stdout",
       "text": [
        "5\n"
       ]
      },
      {
       "output_type": "stream",
       "stream": "stdout",
       "text": [
        " a[ 5 ] = ? "
       ]
      },
      {
       "name": "stdout",
       "output_type": "stream",
       "stream": "stdout",
       "text": [
        "9\n"
       ]
      },
      {
       "output_type": "stream",
       "stream": "stdout",
       "text": [
        " vector has  1 duplicate elements=(s).\n",
        "Vector after removing duplicates...\n",
        "a[ 0 ] =  1\n",
        "a[ 1 ] =  5\n",
        "a[ 2 ] =  6\n",
        "a[ 3 ] =  8\n",
        "a[ 4 ] =  9\n"
       ]
      }
     ],
     "prompt_number": 1
    },
    {
     "cell_type": "heading",
     "level": 2,
     "metadata": {},
     "source": [
      "Example-elder.cpp, Page no-187"
     ]
    },
    {
     "cell_type": "code",
     "collapsed": false,
     "input": [
      "age=[float]*25\n",
      "n=int(raw_input(\"How many persons are there in list <max-25>? \"))\n",
      "for i in range(n):\n",
      "    print \"Enter person\", i+1, \"age: \",\n",
      "    age[i]=int(raw_input())\n",
      "younger=age[0]\n",
      "elder=age[0]\n",
      "for i in range(n):\n",
      "    if age[i]<younger:\n",
      "        younger=age[i]\n",
      "    elif age[i]>elder:\n",
      "        elder=age[i]\n",
      "print \"Age of eldest person is\", elder\n",
      "print \"Age of youngest person is: \", younger"
     ],
     "language": "python",
     "metadata": {},
     "outputs": [
      {
       "name": "stdout",
       "output_type": "stream",
       "stream": "stdout",
       "text": [
        "How many persons are there in list <max-25>? 7\n"
       ]
      },
      {
       "output_type": "stream",
       "stream": "stdout",
       "text": [
        "Enter person 1 age: "
       ]
      },
      {
       "name": "stdout",
       "output_type": "stream",
       "stream": "stdout",
       "text": [
        "25\n"
       ]
      },
      {
       "output_type": "stream",
       "stream": "stdout",
       "text": [
        " Enter person 2 age: "
       ]
      },
      {
       "name": "stdout",
       "output_type": "stream",
       "stream": "stdout",
       "text": [
        "4\n"
       ]
      },
      {
       "output_type": "stream",
       "stream": "stdout",
       "text": [
        " Enter person 3 age: "
       ]
      },
      {
       "name": "stdout",
       "output_type": "stream",
       "stream": "stdout",
       "text": [
        "45\n"
       ]
      },
      {
       "output_type": "stream",
       "stream": "stdout",
       "text": [
        " Enter person 4 age: "
       ]
      },
      {
       "name": "stdout",
       "output_type": "stream",
       "stream": "stdout",
       "text": [
        "18\n"
       ]
      },
      {
       "output_type": "stream",
       "stream": "stdout",
       "text": [
        " Enter person 5 age: "
       ]
      },
      {
       "name": "stdout",
       "output_type": "stream",
       "stream": "stdout",
       "text": [
        "35\n"
       ]
      },
      {
       "output_type": "stream",
       "stream": "stdout",
       "text": [
        " Enter person 6 age: "
       ]
      },
      {
       "name": "stdout",
       "output_type": "stream",
       "stream": "stdout",
       "text": [
        "23\n"
       ]
      },
      {
       "output_type": "stream",
       "stream": "stdout",
       "text": [
        " Enter person 7 age: "
       ]
      },
      {
       "name": "stdout",
       "output_type": "stream",
       "stream": "stdout",
       "text": [
        "32\n"
       ]
      },
      {
       "output_type": "stream",
       "stream": "stdout",
       "text": [
        " Age of eldest person is 45\n",
        "Age of youngest person is:  4\n"
       ]
      }
     ],
     "prompt_number": 1
    },
    {
     "cell_type": "heading",
     "level": 2,
     "metadata": {},
     "source": [
      "Example-bubble.cpp, Page no-189"
     ]
    },
    {
     "cell_type": "code",
     "collapsed": false,
     "input": [
      "age=[int]*25\n",
      "n=int(raw_input(\"How many elements to sort <max-25>? \"))\n",
      "for i in range(n):\n",
      "    print \"Enter age[\", i, \"]: \",\n",
      "    age[i]=int(raw_input())\n",
      "for i in range(n-1):\n",
      "    flag=1\n",
      "    for j in range(n-1-i):\n",
      "        if age[j]>age[j+1]:\n",
      "            flag=0\n",
      "            temp=age[j]\n",
      "            age[j]=age[j+1]\n",
      "            age[j+1]=temp\n",
      "    if flag:\n",
      "        break\n",
      "print \"Sorted list...\"\n",
      "for i in range(n):\n",
      "    print age[i],"
     ],
     "language": "python",
     "metadata": {},
     "outputs": [
      {
       "name": "stdout",
       "output_type": "stream",
       "stream": "stdout",
       "text": [
        "How many elements to sort <max-25>? 7\n"
       ]
      },
      {
       "output_type": "stream",
       "stream": "stdout",
       "text": [
        "Enter age[ 0 ]: "
       ]
      },
      {
       "name": "stdout",
       "output_type": "stream",
       "stream": "stdout",
       "text": [
        "3\n"
       ]
      },
      {
       "output_type": "stream",
       "stream": "stdout",
       "text": [
        " Enter age[ 1 ]: "
       ]
      },
      {
       "name": "stdout",
       "output_type": "stream",
       "stream": "stdout",
       "text": [
        "5\n"
       ]
      },
      {
       "output_type": "stream",
       "stream": "stdout",
       "text": [
        " Enter age[ 2 ]: "
       ]
      },
      {
       "name": "stdout",
       "output_type": "stream",
       "stream": "stdout",
       "text": [
        "9\n"
       ]
      },
      {
       "output_type": "stream",
       "stream": "stdout",
       "text": [
        " Enter age[ 3 ]: "
       ]
      },
      {
       "name": "stdout",
       "output_type": "stream",
       "stream": "stdout",
       "text": [
        "4\n"
       ]
      },
      {
       "output_type": "stream",
       "stream": "stdout",
       "text": [
        " Enter age[ 4 ]: "
       ]
      },
      {
       "name": "stdout",
       "output_type": "stream",
       "stream": "stdout",
       "text": [
        "2\n"
       ]
      },
      {
       "output_type": "stream",
       "stream": "stdout",
       "text": [
        " Enter age[ 5 ]: "
       ]
      },
      {
       "name": "stdout",
       "output_type": "stream",
       "stream": "stdout",
       "text": [
        "1\n"
       ]
      },
      {
       "output_type": "stream",
       "stream": "stdout",
       "text": [
        " Enter age[ 6 ]: "
       ]
      },
      {
       "name": "stdout",
       "output_type": "stream",
       "stream": "stdout",
       "text": [
        "6\n"
       ]
      },
      {
       "output_type": "stream",
       "stream": "stdout",
       "text": [
        " Sorted list...\n",
        "1 2 3 4 5 6 9\n"
       ]
      }
     ],
     "prompt_number": 2
    },
    {
     "cell_type": "heading",
     "level": 2,
     "metadata": {},
     "source": [
      "Example-comb.cpp, Page no-190"
     ]
    },
    {
     "cell_type": "code",
     "collapsed": false,
     "input": [
      "SHRINKINGFACTOR=1.3\n",
      "age=[int]*25\n",
      "n=int(raw_input(\"How many elements to sort <max-25>? \"))\n",
      "for i in range(n):\n",
      "    print \"Enter age[\", i, \"]: \",\n",
      "    age[i]=int(raw_input())\n",
      "size=n\n",
      "gap=size\n",
      "while 1:\n",
      "    gap=int(float(gap)/SHRINKINGFACTOR)\n",
      "    if gap==0:\n",
      "        gap=1\n",
      "    elif (gap==9 or gap==10):\n",
      "        gap=11\n",
      "    flag=1\n",
      "    top=size-gap\n",
      "    for i in range(top):\n",
      "        j=i+gap\n",
      "        if age[i]>age[j]:\n",
      "            flag=0\n",
      "            temp=age[j]\n",
      "            age[j]=age[i]\n",
      "            age[i]=temp\n",
      "    if(flag==1 and gap<=1):\n",
      "        break\n",
      "print \"Sorted list...\"\n",
      "for i in range(n):\n",
      "    print age[i],"
     ],
     "language": "python",
     "metadata": {},
     "outputs": [
      {
       "name": "stdout",
       "output_type": "stream",
       "stream": "stdout",
       "text": [
        "How many elements to sort <max-25>? 7\n"
       ]
      },
      {
       "output_type": "stream",
       "stream": "stdout",
       "text": [
        "Enter age[ 0 ]: "
       ]
      },
      {
       "name": "stdout",
       "output_type": "stream",
       "stream": "stdout",
       "text": [
        "3\n"
       ]
      },
      {
       "output_type": "stream",
       "stream": "stdout",
       "text": [
        " Enter age[ 1 ]: "
       ]
      },
      {
       "name": "stdout",
       "output_type": "stream",
       "stream": "stdout",
       "text": [
        "5\n"
       ]
      },
      {
       "output_type": "stream",
       "stream": "stdout",
       "text": [
        " Enter age[ 2 ]: "
       ]
      },
      {
       "name": "stdout",
       "output_type": "stream",
       "stream": "stdout",
       "text": [
        "9\n"
       ]
      },
      {
       "output_type": "stream",
       "stream": "stdout",
       "text": [
        " Enter age[ 3 ]: "
       ]
      },
      {
       "name": "stdout",
       "output_type": "stream",
       "stream": "stdout",
       "text": [
        "4\n"
       ]
      },
      {
       "output_type": "stream",
       "stream": "stdout",
       "text": [
        " Enter age[ 4 ]: "
       ]
      },
      {
       "name": "stdout",
       "output_type": "stream",
       "stream": "stdout",
       "text": [
        "2\n"
       ]
      },
      {
       "output_type": "stream",
       "stream": "stdout",
       "text": [
        " Enter age[ 5 ]: "
       ]
      },
      {
       "name": "stdout",
       "output_type": "stream",
       "stream": "stdout",
       "text": [
        "1\n"
       ]
      },
      {
       "output_type": "stream",
       "stream": "stdout",
       "text": [
        " Enter age[ 6 ]: "
       ]
      },
      {
       "name": "stdout",
       "output_type": "stream",
       "stream": "stdout",
       "text": [
        "6\n"
       ]
      },
      {
       "output_type": "stream",
       "stream": "stdout",
       "text": [
        " Sorted list...\n",
        "1 2 3 4 5 6 9\n"
       ]
      }
     ],
     "prompt_number": 6
    },
    {
     "cell_type": "heading",
     "level": 2,
     "metadata": {},
     "source": [
      "Example-matrix.cpp, Page no-193"
     ]
    },
    {
     "cell_type": "code",
     "collapsed": false,
     "input": [
      "a=[]\n",
      "b=[]\n",
      "c=[]\n",
      "m, n=[int(x) for x in raw_input(\"Enter row and column size of matrix A: \").split()]\n",
      "p, q=[int(x) for x in raw_input(\"Enter row and column size of matrix B: \").split()]\n",
      "if(m==p and n==q):\n",
      "    print \"Matrices can be added or subtracted...\"\n",
      "    print \"Enter matrix A elements...\"\n",
      "    for i in range(m):\n",
      "        a.append([])\n",
      "        for j in range(n):\n",
      "            a[i].append(int(raw_input()))\n",
      "    print \"Enter matrix B elements...\"\n",
      "    for i in range(m):\n",
      "        b.append([])\n",
      "        for j in range(n):\n",
      "            b[i].append(int(raw_input()))\n",
      "    for i in range(m):\n",
      "        c.append([])\n",
      "        for j in range(n):\n",
      "            c[i].append(a[i][j]+b[i][j])\n",
      "    print \"Sum of A and B matrices...\"\n",
      "    for i in range(m):\n",
      "        for j in range(n):\n",
      "            print c[i][j], \n",
      "        print \"\"\n",
      "    for i in range(m):\n",
      "        for j in range(n):\n",
      "            c[i][j]=a[i][j]-b[i][j]\n",
      "    print \"Difference of A and B matrices...\"\n",
      "    for i in range(m):\n",
      "        for j in range(n):\n",
      "            print c[i][j], \n",
      "        print \"\""
     ],
     "language": "python",
     "metadata": {},
     "outputs": [
      {
       "name": "stdout",
       "output_type": "stream",
       "stream": "stdout",
       "text": [
        "Enter row and column size of matrix A: 3 3\n"
       ]
      },
      {
       "name": "stdout",
       "output_type": "stream",
       "stream": "stdout",
       "text": [
        "Enter row and column size of matrix B: 3 3\n"
       ]
      },
      {
       "output_type": "stream",
       "stream": "stdout",
       "text": [
        "Matrices can be added or subtracted...\n",
        "Enter matrix A elements...\n"
       ]
      },
      {
       "name": "stdout",
       "output_type": "stream",
       "stream": "stdout",
       "text": [
        "1\n"
       ]
      },
      {
       "name": "stdout",
       "output_type": "stream",
       "stream": "stdout",
       "text": [
        "2\n"
       ]
      },
      {
       "name": "stdout",
       "output_type": "stream",
       "stream": "stdout",
       "text": [
        "3\n"
       ]
      },
      {
       "name": "stdout",
       "output_type": "stream",
       "stream": "stdout",
       "text": [
        "4\n"
       ]
      },
      {
       "name": "stdout",
       "output_type": "stream",
       "stream": "stdout",
       "text": [
        "3\n"
       ]
      },
      {
       "name": "stdout",
       "output_type": "stream",
       "stream": "stdout",
       "text": [
        "1\n"
       ]
      },
      {
       "name": "stdout",
       "output_type": "stream",
       "stream": "stdout",
       "text": [
        "3\n"
       ]
      },
      {
       "name": "stdout",
       "output_type": "stream",
       "stream": "stdout",
       "text": [
        "1\n"
       ]
      },
      {
       "name": "stdout",
       "output_type": "stream",
       "stream": "stdout",
       "text": [
        "2\n"
       ]
      },
      {
       "output_type": "stream",
       "stream": "stdout",
       "text": [
        "Enter matrix B elements...\n"
       ]
      },
      {
       "name": "stdout",
       "output_type": "stream",
       "stream": "stdout",
       "text": [
        "3\n"
       ]
      },
      {
       "name": "stdout",
       "output_type": "stream",
       "stream": "stdout",
       "text": [
        "2\n"
       ]
      },
      {
       "name": "stdout",
       "output_type": "stream",
       "stream": "stdout",
       "text": [
        "1\n"
       ]
      },
      {
       "name": "stdout",
       "output_type": "stream",
       "stream": "stdout",
       "text": [
        "3\n"
       ]
      },
      {
       "name": "stdout",
       "output_type": "stream",
       "stream": "stdout",
       "text": [
        "3\n"
       ]
      },
      {
       "name": "stdout",
       "output_type": "stream",
       "stream": "stdout",
       "text": [
        "2\n"
       ]
      },
      {
       "name": "stdout",
       "output_type": "stream",
       "stream": "stdout",
       "text": [
        "1\n"
       ]
      },
      {
       "name": "stdout",
       "output_type": "stream",
       "stream": "stdout",
       "text": [
        "2\n"
       ]
      },
      {
       "name": "stdout",
       "output_type": "stream",
       "stream": "stdout",
       "text": [
        "1\n"
       ]
      },
      {
       "output_type": "stream",
       "stream": "stdout",
       "text": [
        "Sum of A and B matrices...\n",
        "4 4 4 \n",
        "7 6 3 \n",
        "4 3 3 \n",
        "Difference of A and B matrices...\n",
        "-2 0 2 \n",
        "1 0 -1 \n",
        "2 -1 1 \n"
       ]
      }
     ],
     "prompt_number": 1
    },
    {
     "cell_type": "heading",
     "level": 2,
     "metadata": {},
     "source": [
      "Example-name.cpp, Page-196"
     ]
    },
    {
     "cell_type": "code",
     "collapsed": false,
     "input": [
      "name=[None]*50\n",
      "name=raw_input(\"Enter your name <49-max>: \")\n",
      "print \"Your name is\", name"
     ],
     "language": "python",
     "metadata": {},
     "outputs": [
      {
       "name": "stdout",
       "output_type": "stream",
       "stream": "stdout",
       "text": [
        "Enter your name <49-max>: Archana\n"
       ]
      },
      {
       "output_type": "stream",
       "stream": "stdout",
       "text": [
        "Your name is Archana\n"
       ]
      }
     ],
     "prompt_number": 2
    },
    {
     "cell_type": "heading",
     "level": 2,
     "metadata": {},
     "source": [
      "Example-succ.cpp, Page no-196"
     ]
    },
    {
     "cell_type": "code",
     "collapsed": false,
     "input": [
      "msg=\"C to C++\\nC++ to Java\\nJava to...\" #string with special characters\n",
      "print \"Please note the following messgae: \"\n",
      "print msg"
     ],
     "language": "python",
     "metadata": {},
     "outputs": [
      {
       "output_type": "stream",
       "stream": "stdout",
       "text": [
        "Please note the following messgae: \n",
        "C to C++\n",
        "C++ to Java\n",
        "Java to...\n"
       ]
      }
     ],
     "prompt_number": 3
    },
    {
     "cell_type": "heading",
     "level": 2,
     "metadata": {},
     "source": [
      "Example-strlen.cpp, Page no-197"
     ]
    },
    {
     "cell_type": "code",
     "collapsed": false,
     "input": [
      "s1=[None]*25\n",
      "s1=raw_input(\"Enter your name: \")\n",
      "print \"strlen( s1 ) :\", len(s1) #length of string"
     ],
     "language": "python",
     "metadata": {},
     "outputs": [
      {
       "name": "stdout",
       "output_type": "stream",
       "stream": "stdout",
       "text": [
        "Enter your name: Smrithi\n"
       ]
      },
      {
       "output_type": "stream",
       "stream": "stdout",
       "text": [
        "strlen( s1 ): 7\n"
       ]
      }
     ],
     "prompt_number": 2
    },
    {
     "cell_type": "heading",
     "level": 2,
     "metadata": {},
     "source": [
      "Example-strcpy.cpp, Page no-198"
     ]
    },
    {
     "cell_type": "code",
     "collapsed": false,
     "input": [
      "s1=[None]*25\n",
      "s2=[None]*25\n",
      "s1=raw_input(\"Enter a string: \")\n",
      "s2=s1 #copying string\n",
      "print \"strcpy( s2, s1 ):\", s2"
     ],
     "language": "python",
     "metadata": {},
     "outputs": [
      {
       "name": "stdout",
       "output_type": "stream",
       "stream": "stdout",
       "text": [
        "Enter a string: Garbage\n"
       ]
      },
      {
       "output_type": "stream",
       "stream": "stdout",
       "text": [
        "strcpy( s2, s1 ): Garbage\n"
       ]
      }
     ],
     "prompt_number": 4
    },
    {
     "cell_type": "heading",
     "level": 2,
     "metadata": {},
     "source": [
      "Example-strcat.cpp, Page no-198"
     ]
    },
    {
     "cell_type": "code",
     "collapsed": false,
     "input": [
      "s1=[None]*40\n",
      "s2=[None]*25\n",
      "s1=raw_input(\"Enter string s1: \")\n",
      "s2=raw_input(\"Enter string s2: \")\n",
      "s1=s1+s2 #concatenating string\n",
      "print \"strcat( s1, s2 ):\", s1"
     ],
     "language": "python",
     "metadata": {},
     "outputs": [
      {
       "name": "stdout",
       "output_type": "stream",
       "stream": "stdout",
       "text": [
        "Enter string s1: C\n"
       ]
      },
      {
       "name": "stdout",
       "output_type": "stream",
       "stream": "stdout",
       "text": [
        "Enter string s2: ++\n"
       ]
      },
      {
       "output_type": "stream",
       "stream": "stdout",
       "text": [
        "strcat( s1, s2 ): C++\n"
       ]
      }
     ],
     "prompt_number": 6
    },
    {
     "cell_type": "heading",
     "level": 2,
     "metadata": {},
     "source": [
      "Example-strcmp, Page no-199"
     ]
    },
    {
     "cell_type": "code",
     "collapsed": false,
     "input": [
      "s1=[None]*25\n",
      "s2=[None]*25\n",
      "s1=raw_input(\"Enter string s1: \")\n",
      "s2=raw_input(\"Enter string s2: \")\n",
      "print \"strcmp( s1, s2 ):\",\n",
      "if s1==s2: #comparing strings\n",
      "    print s1, \"is equal to\", s2\n",
      "elif s1>s2:\n",
      "    print s1, \"is greater than\", s2\n",
      "else: \n",
      "    print s1, \"is less than\", s2"
     ],
     "language": "python",
     "metadata": {},
     "outputs": [
      {
       "name": "stdout",
       "output_type": "stream",
       "stream": "stdout",
       "text": [
        "Enter string s1: Computer\n"
       ]
      },
      {
       "name": "stdout",
       "output_type": "stream",
       "stream": "stdout",
       "text": [
        "Enter string s2: Computing\n"
       ]
      },
      {
       "output_type": "stream",
       "stream": "stdout",
       "text": [
        "strcmp( s1, s2 ): Computer is less than Computing\n"
       ]
      }
     ],
     "prompt_number": 8
    },
    {
     "cell_type": "heading",
     "level": 2,
     "metadata": {},
     "source": [
      "Example-uprlwr.cpp, Page no-199"
     ]
    },
    {
     "cell_type": "code",
     "collapsed": false,
     "input": [
      "s1=[None]*25\n",
      "temp=[None]*25\n",
      "s1=raw_input(\"Enter a string: \")\n",
      "temp=s1\n",
      "print \"strupr(temp):\", temp.upper() #Upper case\n",
      "print \"strlwr(temp):\", temp.lower() #lower case"
     ],
     "language": "python",
     "metadata": {},
     "outputs": [
      {
       "name": "stdout",
       "output_type": "stream",
       "stream": "stdout",
       "text": [
        "Enter a string: Smrithi\n"
       ]
      },
      {
       "output_type": "stream",
       "stream": "stdout",
       "text": [
        "strupr(temp): SMRITHI\n",
        "strlwr(temp): smrithi\n"
       ]
      }
     ],
     "prompt_number": 4
    },
    {
     "cell_type": "heading",
     "level": 2,
     "metadata": {},
     "source": [
      "Example-name.cpp, Page no-200"
     ]
    },
    {
     "cell_type": "code",
     "collapsed": false,
     "input": [
      "person=[[None]*10]*LEN\n",
      "n=int(raw_input(\"How many persons ? \"))\n",
      "for i in range(n):\n",
      "    print \"Enter person\", i+1, \"name: \",\n",
      "    person[i]=raw_input()\n",
      "print \"------------------------------------------------------\"\n",
      "print \"P#  Person Name  Length  In lower case  In UPPER case\"\n",
      "print \"------------------------------------------------------\"\n",
      "for i in range(n):\n",
      "    print '{:>2}'.format(i+1),\n",
      "    print '{:>15}'.format(person[i]),\n",
      "    print '{:>2}'.format(len(person[i])),\n",
      "    print '{:>15}'.format(person[i].lower()),\n",
      "    print '{:>15}'.format(person[i].upper())"
     ],
     "language": "python",
     "metadata": {},
     "outputs": [
      {
       "name": "stdout",
       "output_type": "stream",
       "stream": "stdout",
       "text": [
        "How many persons ? 5\n"
       ]
      },
      {
       "output_type": "stream",
       "stream": "stdout",
       "text": [
        "Enter person 1 name: "
       ]
      },
      {
       "name": "stdout",
       "output_type": "stream",
       "stream": "stdout",
       "text": [
        "Anand\n"
       ]
      },
      {
       "output_type": "stream",
       "stream": "stdout",
       "text": [
        " Enter person 2 name: "
       ]
      },
      {
       "name": "stdout",
       "output_type": "stream",
       "stream": "stdout",
       "text": [
        "Vishwanath\n"
       ]
      },
      {
       "output_type": "stream",
       "stream": "stdout",
       "text": [
        " Enter person 3 name: "
       ]
      },
      {
       "name": "stdout",
       "output_type": "stream",
       "stream": "stdout",
       "text": [
        "Archana\n"
       ]
      },
      {
       "output_type": "stream",
       "stream": "stdout",
       "text": [
        " Enter person 4 name: "
       ]
      },
      {
       "name": "stdout",
       "output_type": "stream",
       "stream": "stdout",
       "text": [
        "Yadunandan\n"
       ]
      },
      {
       "output_type": "stream",
       "stream": "stdout",
       "text": [
        " Enter person 5 name: "
       ]
      },
      {
       "name": "stdout",
       "output_type": "stream",
       "stream": "stdout",
       "text": [
        "Mallikarnun\n"
       ]
      },
      {
       "output_type": "stream",
       "stream": "stdout",
       "text": [
        " ------------------------------------------------------\n",
        "P#  Person Name  Length  In lower case  In UPPER case\n",
        "------------------------------------------------------\n",
        " 1           Anand  5           anand           ANAND\n",
        " 2      Vishwanath 10      vishwanath      VISHWANATH\n",
        " 3         Archana  7         archana         ARCHANA\n",
        " 4      Yadunandan 10      yadunandan      YADUNANDAN\n",
        " 5     Mallikarnun 11     mallikarnun     MALLIKARNUN\n"
       ]
      }
     ],
     "prompt_number": 2
    },
    {
     "cell_type": "heading",
     "level": 2,
     "metadata": {},
     "source": [
      "Example-lex.cpp, Page no-202"
     ]
    },
    {
     "cell_type": "code",
     "collapsed": false,
     "input": [
      "Str=[\"Anand\", \"Vishwanath\", \"Archana\", \"Yadunandan\", \"MalliKarjun\"]\n",
      "print 'The given strings are:'\n",
      "for i in range(5):\n",
      "    print Str[i]\n",
      "k=1\n",
      "while k<5: #sorting strings\n",
      "    for i in range(1, 5-k+1):\n",
      "        if Str[i-1]>Str[i]:\n",
      "            str_temp=Str[i-1]\n",
      "            Str[i-1]=Str[i]\n",
      "            Str[i]=str_temp\n",
      "    k=k+1\n",
      "print 'Strings in lexicographical order are:'\n",
      "for i in range(5):\n",
      "    print Str[i]"
     ],
     "language": "python",
     "metadata": {},
     "outputs": [
      {
       "output_type": "stream",
       "stream": "stdout",
       "text": [
        "The given strings are:\n",
        "Anand\n",
        "Vishwanath\n",
        "Archana\n",
        "Yadunandan\n",
        "MalliKarjun\n",
        "Strings in lexicographical order are:\n",
        "Anand\n",
        "Archana\n",
        "MalliKarjun\n",
        "Vishwanath\n",
        "Yadunandan\n"
       ]
      }
     ],
     "prompt_number": 7
    },
    {
     "cell_type": "heading",
     "level": 2,
     "metadata": {},
     "source": [
      "Example Page no-204"
     ]
    },
    {
     "cell_type": "code",
     "collapsed": false,
     "input": [
      "Str=\"In pursuit of Mastering\tC++\"\n",
      "count=0\n",
      "i=0\n",
      "print \"The given string is:\\n\",Str\n",
      "while(i<len(Str)):\n",
      "    if Str[i]=='\\t' or Str[i]==' ':\n",
      "        count+=1\n",
      "    i+=1\n",
      "count+=1\n",
      "print \"The number of words given in the string is\", count"
     ],
     "language": "python",
     "metadata": {},
     "outputs": [
      {
       "output_type": "stream",
       "stream": "stdout",
       "text": [
        "The given string is:\n",
        "In pursuit of Mastering\tC++\n",
        "The number of words given in the string is 5\n"
       ]
      }
     ],
     "prompt_number": 1
    }
   ],
   "metadata": {}
  }
 ]
}