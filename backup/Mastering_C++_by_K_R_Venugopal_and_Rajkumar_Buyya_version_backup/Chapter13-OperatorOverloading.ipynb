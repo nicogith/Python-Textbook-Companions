{
 "metadata": {
  "name": "",
  "signature": "sha256:31bc0d2b60eba6f6d92afa42e690cc5db6b40cd9b0c7b9682b1c923305d9cccd"
 },
 "nbformat": 3,
 "nbformat_minor": 0,
 "worksheets": [
  {
   "cells": [
    {
     "cell_type": "heading",
     "level": 1,
     "metadata": {},
     "source": [
      "Chapter 13- Operator Overloading"
     ]
    },
    {
     "cell_type": "heading",
     "level": 2,
     "metadata": {},
     "source": [
      "Example-index1.cpp, Page no-470"
     ]
    },
    {
     "cell_type": "code",
     "collapsed": false,
     "input": [
      "class Index:\n",
      "    __value=int\n",
      "    def __init__(self):\n",
      "        self.__value=0\n",
      "    def GetIndex(self):\n",
      "        return self.__value\n",
      "    def NextIndex(self):\n",
      "        self.__value=self.__value+1\n",
      "idx1=Index()\n",
      "idx2=Index()\n",
      "print \"Index1 =\", idx1.GetIndex()\n",
      "print \"Index2 =\", idx2.GetIndex()\n",
      "idx1.NextIndex()\n",
      "idx2.NextIndex()\n",
      "idx2.NextIndex()\n",
      "print \"Index1 =\", idx1.GetIndex()\n",
      "print \"Index2 =\", idx2.GetIndex()"
     ],
     "language": "python",
     "metadata": {},
     "outputs": [
      {
       "output_type": "stream",
       "stream": "stdout",
       "text": [
        "Index1 = 0\n",
        "Index2 = 0\n",
        "Index1 = 1\n",
        "Index2 = 2\n"
       ]
      }
     ],
     "prompt_number": 1
    },
    {
     "cell_type": "heading",
     "level": 2,
     "metadata": {},
     "source": [
      "Example-index2.cpp, Page no-471"
     ]
    },
    {
     "cell_type": "code",
     "collapsed": false,
     "input": [
      "class Index:\n",
      "    __value=int\n",
      "    def __init__(self):\n",
      "        self.__value=0\n",
      "    def GetIndex(self):\n",
      "        return self.__value\n",
      "    #overload increment operator\n",
      "    def __iadd__(self, op):\n",
      "        self.__value=self.__value+op\n",
      "        return self\n",
      "idx1=Index()\n",
      "idx2=Index()\n",
      "print \"Index1 =\", idx1.GetIndex()\n",
      "print \"Index2 =\", idx2.GetIndex()\n",
      "idx1+=1 #overloaded increment operator invoked\n",
      "idx2+=1 #overloaded increment operator invoked\n",
      "idx2+=1 #overloaded increment operator invoked\n",
      "print \"Index1 =\", idx1.GetIndex()\n",
      "print \"Index2 =\", idx2.GetIndex()"
     ],
     "language": "python",
     "metadata": {},
     "outputs": [
      {
       "output_type": "stream",
       "stream": "stdout",
       "text": [
        "Index1 = 0\n",
        "Index2 = 0\n",
        "Index1 = 1\n",
        "Index2 = 2\n"
       ]
      }
     ],
     "prompt_number": 3
    },
    {
     "cell_type": "heading",
     "level": 2,
     "metadata": {},
     "source": [
      "Example-index3.cpp, Page no-475"
     ]
    },
    {
     "cell_type": "code",
     "collapsed": false,
     "input": [
      "class Index:\n",
      "    __value=int\n",
      "    def __init__(self):\n",
      "        self.__value=0\n",
      "    def GetIndex(self):\n",
      "        return self.__value\n",
      "    def __iadd__(self, op):\n",
      "        self.__value+=1\n",
      "        return self\n",
      "idx1=Index()\n",
      "idx2=Index()\n",
      "print \"Index1 =\", idx1.GetIndex()\n",
      "print \"Index2 =\", idx2.GetIndex()\n",
      "idx2+=1\n",
      "idx1+=1\n",
      "idx2+=1\n",
      "print \"Index1 =\", idx1.GetIndex()\n",
      "print \"Index2 =\", idx2.GetIndex()"
     ],
     "language": "python",
     "metadata": {},
     "outputs": [
      {
       "output_type": "stream",
       "stream": "stdout",
       "text": [
        "Index1 = 0\n",
        "Index2 = 0\n",
        "Index1 = 1\n",
        "Index2 = 2\n"
       ]
      }
     ],
     "prompt_number": 1
    },
    {
     "cell_type": "heading",
     "level": 2,
     "metadata": {},
     "source": [
      "Example-index4.cpp, Page no-476"
     ]
    },
    {
     "cell_type": "code",
     "collapsed": false,
     "input": [
      "class Index:\n",
      "    __value=int\n",
      "    def __init__(self):\n",
      "        self.__value=0\n",
      "    def GetIndex(self):\n",
      "        return self.__value\n",
      "    #overload increment operator\n",
      "    def __iadd__(self, op):\n",
      "        self.__value=self.__value+op\n",
      "        return self\n",
      "idx1=Index()\n",
      "idx2=Index()\n",
      "print \"Index1 =\", idx1.GetIndex()\n",
      "print \"Index2 =\", idx2.GetIndex()\n",
      "idx1+=1\n",
      "idx2+=1\n",
      "idx2+=1\n",
      "print \"Index1 =\", idx1.GetIndex()\n",
      "print \"Index2 =\", idx2.GetIndex()"
     ],
     "language": "python",
     "metadata": {},
     "outputs": [
      {
       "output_type": "stream",
       "stream": "stdout",
       "text": [
        "Index1 = 0\n",
        "Index2 = 0\n",
        "Index1 = 1\n",
        "Index2 = 2\n"
       ]
      }
     ],
     "prompt_number": 2
    },
    {
     "cell_type": "heading",
     "level": 2,
     "metadata": {},
     "source": [
      "Example-index5.cpp, Page no-478"
     ]
    },
    {
     "cell_type": "code",
     "collapsed": false,
     "input": [
      "class Index:\n",
      "    __value=int\n",
      "    def __init__(self, val=0):\n",
      "        self.__value=val\n",
      "    def GetIndex(self):\n",
      "        return self.__value\n",
      "    #overload increment operator\n",
      "    def __iadd__(self, op):\n",
      "        self.__value=self.__value+op\n",
      "        return self\n",
      "idx1=Index(2)\n",
      "idx2=Index(2)\n",
      "idx3=Index()\n",
      "idx4=Index()\n",
      "print \"Index1 =\", idx1.GetIndex()\n",
      "print \"Index2 =\", idx2.GetIndex()\n",
      "idx3._Index__value=idx1._Index__value\n",
      "idx1+=1\n",
      "idx2+=1\n",
      "idx4=idx2\n",
      "print \"Index1 =\", idx1.GetIndex()\n",
      "print \"Index3 =\", idx3.GetIndex()\n",
      "print \"Index2 =\", idx2.GetIndex()\n",
      "print \"Index4 =\", idx4.GetIndex()"
     ],
     "language": "python",
     "metadata": {},
     "outputs": [
      {
       "output_type": "stream",
       "stream": "stdout",
       "text": [
        "Index1 = 2\n",
        "Index2 = 2\n",
        "Index1 = 3\n",
        "Index3 = 2\n",
        "Index2 = 3\n",
        "Index4 = 3\n"
       ]
      }
     ],
     "prompt_number": 1
    },
    {
     "cell_type": "heading",
     "level": 2,
     "metadata": {},
     "source": [
      "Example-index6.cpp, Page no-479"
     ]
    },
    {
     "cell_type": "code",
     "collapsed": false,
     "input": [
      "class Index:\n",
      "    __value=int\n",
      "    def __init__(self, val=0):\n",
      "        self.__value=val\n",
      "    def GetIndex(self):\n",
      "        return self.__value\n",
      "    #overload increment operator\n",
      "    def __iadd__(self, op):\n",
      "        self.__value=self.__value+op\n",
      "        return self\n",
      "    #overload decrement operator\n",
      "    def __isub__(self, op):\n",
      "        self.__value=self.__value-op\n",
      "        return self\n",
      "    #overload negation operator\n",
      "    def __neg__(self):\n",
      "        return Index(-self.__value)\n",
      "idx1=Index()\n",
      "idx2=Index()\n",
      "print \"Index1 =\", idx1.GetIndex()\n",
      "print \"Index2 =\", idx2.GetIndex()\n",
      "idx2+=1\n",
      "idx1=-idx2\n",
      "idx2+=1\n",
      "idx2-=1\n",
      "print \"Index1 =\", idx1.GetIndex()\n",
      "print \"Index2 =\", idx2.GetIndex()"
     ],
     "language": "python",
     "metadata": {},
     "outputs": [
      {
       "output_type": "stream",
       "stream": "stdout",
       "text": [
        "Index1 = 0\n",
        "Index2 = 0\n",
        "Index1 = -1\n",
        "Index2 = 1\n"
       ]
      }
     ],
     "prompt_number": 1
    },
    {
     "cell_type": "heading",
     "level": 2,
     "metadata": {},
     "source": [
      "Example-mydate.cpp, Page no-480"
     ]
    },
    {
     "cell_type": "code",
     "collapsed": false,
     "input": [
      "class date:\n",
      "    __day=int\n",
      "    __month=int\n",
      "    __year=int\n",
      "    def __init__(self, d=0, m=0, y=0):\n",
      "        if isinstance(d, int):\n",
      "            self.__day=d\n",
      "            self.__month=m\n",
      "            self.__year=y\n",
      "        else:\n",
      "            self.__day=0\n",
      "            self.__month=0\n",
      "            self.__year=0\n",
      "    def read(self):\n",
      "        self.__day, self.__month, self.__year=[int(x) for x in raw_input(\"Enter date <dd mm yyyy>: \").split()]\n",
      "    def show(self):\n",
      "        print \"%s:%s:%s\" %(self.__day, self.__month, self.__year),\n",
      "    def IsLeapYear(self):\n",
      "        if (self.__year%4==0 and self.__year%100!=0) or (self.__year % 400==0):\n",
      "            return 1\n",
      "        else:\n",
      "            return 0\n",
      "    def thisMonthMaxDay(self):\n",
      "        m=[31, 28, 31, 30, 31, 30, 31, 31, 30, 31, 30, 31]\n",
      "        if self.__month==2 and self.IsLeapYear():\n",
      "            return 29\n",
      "        else:\n",
      "            return m[self.__month-1]\n",
      "    def __iadd__(self, op): #overloading increment operator\n",
      "        self.__day+=1\n",
      "        if self.__day>self.thisMonthMaxDay():\n",
      "            self.__day=1\n",
      "            self.__month+=1\n",
      "        if self.__month>12:\n",
      "            self.__month=1\n",
      "            self.__year+=1\n",
      "        return self\n",
      "def nextday(d):\n",
      "    print 'Date', \n",
      "    d.show()\n",
      "    d+=1 #overloaded increment operator invoked\n",
      "    print \"on increment becomes\", \n",
      "    d.show()\n",
      "    print \"\"\n",
      "d1=date(14, 4, 1971)\n",
      "d2=date(28, 2, 1992)\n",
      "d3=date(28, 2, 1993)\n",
      "d4=date(31, 12, 1995)\n",
      "nextday(d1)\n",
      "nextday(d2)\n",
      "nextday(d3)\n",
      "nextday(d4)\n",
      "today=date()\n",
      "today.read()\n",
      "nextday(today)"
     ],
     "language": "python",
     "metadata": {},
     "outputs": [
      {
       "output_type": "stream",
       "stream": "stdout",
       "text": [
        "Date 14:4:1971 on increment becomes 15:4:1971 \n",
        "Date 28:2:1992 on increment becomes 29:2:1992 \n",
        "Date 28:2:1993 on increment becomes 1:3:1993 \n",
        "Date 31:12:1995 on increment becomes 1:1:1996 \n"
       ]
      },
      {
       "name": "stdout",
       "output_type": "stream",
       "stream": "stdout",
       "text": [
        "Enter date <dd mm yyyy>: 11 9 1996\n"
       ]
      },
      {
       "output_type": "stream",
       "stream": "stdout",
       "text": [
        "Date 11:9:1996 on increment becomes 12:9:1996 \n"
       ]
      }
     ],
     "prompt_number": 1
    },
    {
     "cell_type": "heading",
     "level": 2,
     "metadata": {},
     "source": [
      "Example-complex1.cpp, Page no-483"
     ]
    },
    {
     "cell_type": "code",
     "collapsed": false,
     "input": [
      "def AddComplex(self, c2):\n",
      "    temp=Complex()\n",
      "    temp._Complex__real=self._Complex__real+c2._Complex__real\n",
      "    temp._Complex__imag=self._Complex__imag+c2._Complex__imag\n",
      "    return temp\n",
      "class Complex:\n",
      "    __real=float\n",
      "    __imag=float\n",
      "    def __init__(self):\n",
      "        self.__real=self.__imag=0\n",
      "    def getdata(self):\n",
      "        self.__real=float(raw_input(\"Real part ? \"))\n",
      "        self.__imag=float(raw_input(\"Imag part ? \"))\n",
      "    AddComplex=AddComplex\n",
      "    def outdata(self, msg):\n",
      "        print \"%s(%0.1f, %0.1f)\" %(msg, self.__real, self.__imag)\n",
      "c1=Complex()\n",
      "c2=Complex()\n",
      "c3=Complex()\n",
      "print \"Enter Complex Number c1...\"\n",
      "c1.getdata()\n",
      "print \"Enter Complex Number c2...\"\n",
      "c2.getdata()\n",
      "c3=c1.AddComplex(c2)\n",
      "c3.outdata(\"c3 = c1.AddComplex(c2) : \")"
     ],
     "language": "python",
     "metadata": {},
     "outputs": [
      {
       "output_type": "stream",
       "stream": "stdout",
       "text": [
        "Enter Complex Number c1...\n"
       ]
      },
      {
       "name": "stdout",
       "output_type": "stream",
       "stream": "stdout",
       "text": [
        "Real part ? 2.5\n"
       ]
      },
      {
       "name": "stdout",
       "output_type": "stream",
       "stream": "stdout",
       "text": [
        "Imag part ? 2.0\n"
       ]
      },
      {
       "output_type": "stream",
       "stream": "stdout",
       "text": [
        "Enter Complex Number c2...\n"
       ]
      },
      {
       "name": "stdout",
       "output_type": "stream",
       "stream": "stdout",
       "text": [
        "Real part ? 3.0\n"
       ]
      },
      {
       "name": "stdout",
       "output_type": "stream",
       "stream": "stdout",
       "text": [
        "Imag part ? 1.5\n"
       ]
      },
      {
       "output_type": "stream",
       "stream": "stdout",
       "text": [
        "c3 = c1.AddComplex(c2) : (5.5, 3.5)\n"
       ]
      }
     ],
     "prompt_number": 1
    },
    {
     "cell_type": "heading",
     "level": 2,
     "metadata": {},
     "source": [
      "Example-complex2.cpp, Page no-484"
     ]
    },
    {
     "cell_type": "code",
     "collapsed": false,
     "input": [
      "def __add__(self, c2):\n",
      "    temp=Complex()\n",
      "    temp._Complex__real=self._Complex__real+c2._Complex__real\n",
      "    temp._Complex__imag=self._Complex__imag+c2._Complex__imag\n",
      "    return temp\n",
      "class Complex:\n",
      "    __real=float\n",
      "    __imag=float\n",
      "    def __init__(self):\n",
      "        self.__real=self.__imag=0\n",
      "    def getdata(self):\n",
      "        self.__real=float(raw_input(\"Real part ? \"))\n",
      "        self.__imag=float(raw_input(\"Imag part ? \"))\n",
      "    #overloading + operator\n",
      "    __add__=__add__\n",
      "    def outdata(self, msg):\n",
      "        print \"%s(%0.1f, %0.1f)\" %(msg, self.__real, self.__imag)\n",
      "c1=Complex()\n",
      "c2=Complex()\n",
      "c3=Complex()\n",
      "print \"Enter Complex Number c1...\"\n",
      "c1.getdata()\n",
      "print \"Enter Complex Number c2...\"\n",
      "c2.getdata()\n",
      "c3=c1+c2 #invoking the overloaded + operator\n",
      "c3.outdata(\"c3 = c1 + c2: \")"
     ],
     "language": "python",
     "metadata": {},
     "outputs": [
      {
       "output_type": "stream",
       "stream": "stdout",
       "text": [
        "Enter Complex Number c1...\n"
       ]
      },
      {
       "name": "stdout",
       "output_type": "stream",
       "stream": "stdout",
       "text": [
        "Real part ? 2.5\n"
       ]
      },
      {
       "name": "stdout",
       "output_type": "stream",
       "stream": "stdout",
       "text": [
        "Imag part ? 2.0\n"
       ]
      },
      {
       "output_type": "stream",
       "stream": "stdout",
       "text": [
        "Enter Complex Number c2...\n"
       ]
      },
      {
       "name": "stdout",
       "output_type": "stream",
       "stream": "stdout",
       "text": [
        "Real part ? 3.0\n"
       ]
      },
      {
       "name": "stdout",
       "output_type": "stream",
       "stream": "stdout",
       "text": [
        "Imag part ? 1.5\n"
       ]
      },
      {
       "output_type": "stream",
       "stream": "stdout",
       "text": [
        "c3 = c1 + c2: (5.5, 3.5)\n"
       ]
      }
     ],
     "prompt_number": 3
    },
    {
     "cell_type": "heading",
     "level": 2,
     "metadata": {},
     "source": [
      "Example-complex3.cpp, Page no-487"
     ]
    },
    {
     "cell_type": "code",
     "collapsed": false,
     "input": [
      "def __add__(self, c2):\n",
      "    temp=Complex()\n",
      "    temp._Complex__real=self._Complex__real+c2._Complex__real\n",
      "    temp._Complex__imag=self._Complex__imag+c2._Complex__imag\n",
      "    return temp\n",
      "def __sub__(self, c2):\n",
      "    temp=Complex()\n",
      "    temp._Complex__real=self._Complex__real-c2._Complex__real\n",
      "    temp._Complex__imag=self._Complex__imag-c2._Complex__imag\n",
      "    return temp\n",
      "def __mul__(self, c2):\n",
      "    temp=Complex()\n",
      "    temp._Complex__real=self._Complex__real*c2._Complex__real-self._Complex__imag*c2._Complex__imag\n",
      "    temp._Complex__imag=self._Complex__real*c2._Complex__imag+self._Complex__imag*c2._Complex__real\n",
      "    return temp\n",
      "def __div__(self, c2):\n",
      "    temp=Complex()\n",
      "    qt=c2._Complex__real*c2._Complex__real+c2._Complex__imag *c2._Complex__imag\n",
      "    temp._Complex__real=(self._Complex__real*c2._Complex__real+self._Complex__imag*c2._Complex__imag)/qt\n",
      "    temp._Complex__imag=(self._Complex__imag*c2._Complex__real-self._Complex__real*c2._Complex__imag)/qt\n",
      "    return temp\n",
      "class Complex:\n",
      "    __real=float\n",
      "    __imag=float\n",
      "    def __init__(self):\n",
      "        self.__real=self.__imag=0\n",
      "    def getdata(self):\n",
      "        self.__real=float(raw_input(\"Real part ? \"))\n",
      "        self.__imag=float(raw_input(\"Imag part ? \"))\n",
      "    #overloading +, -, * and / operator\n",
      "    __add__=__add__\n",
      "    __sub__=__sub__\n",
      "    __mul__=__mul__\n",
      "    __div__=__div__\n",
      "    def outdata(self, msg):\n",
      "        print \"%s(%g, %g)\" %(msg, self.__real, self.__imag)\n",
      "c1=Complex()\n",
      "c2=Complex()\n",
      "c3=Complex()\n",
      "print \"Enter Complex Number c1...\"\n",
      "c1.getdata()\n",
      "print \"Enter Complex Number c2...\"\n",
      "c2.getdata()\n",
      "print \"Entered Complex numbers are...\"\n",
      "c1.outdata(\"c1 = \")\n",
      "c2.outdata(\"c2 = \")\n",
      "print \"Computational results are...\"\n",
      "c3=c1+c2 #invoking the overloaded + operator\n",
      "c3.outdata(\"c3 = c1 + c2: \")\n",
      "c3=c1-c2 #invoking the overloaded - operator\n",
      "c3.outdata(\"c3 = c1 - c2: \")\n",
      "c3=c1*c2 #invoking the overloaded * operator\n",
      "c3.outdata(\"c3 = c1 * c2: \")\n",
      "c3=c1/c2 #invoking the overloaded / operator\n",
      "c3.outdata(\"c3 = c1 / c2: \")\n",
      "c3 = c1 + c2 + c1 + c2\n",
      "c3.outdata(\"c3 = c1 + c2 + c1 + c2: \")\n",
      "c3 = c1 * c2 + c1 / c2\n",
      "c3.outdata(\"c3 = c1 * c2 + c1 / c2: \")"
     ],
     "language": "python",
     "metadata": {},
     "outputs": [
      {
       "output_type": "stream",
       "stream": "stdout",
       "text": [
        "Enter Complex Number c1...\n"
       ]
      },
      {
       "name": "stdout",
       "output_type": "stream",
       "stream": "stdout",
       "text": [
        "Real part ? 2.5\n"
       ]
      },
      {
       "name": "stdout",
       "output_type": "stream",
       "stream": "stdout",
       "text": [
        "Imag part ? 2.0\n"
       ]
      },
      {
       "output_type": "stream",
       "stream": "stdout",
       "text": [
        "Enter Complex Number c2...\n"
       ]
      },
      {
       "name": "stdout",
       "output_type": "stream",
       "stream": "stdout",
       "text": [
        "Real part ? 3.0\n"
       ]
      },
      {
       "name": "stdout",
       "output_type": "stream",
       "stream": "stdout",
       "text": [
        "Imag part ? 1.5\n"
       ]
      },
      {
       "output_type": "stream",
       "stream": "stdout",
       "text": [
        "Entered Complex numbers are...\n",
        "c1 = (2.5, 2)\n",
        "c2 = (3, 1.5)\n",
        "Computational results are...\n",
        "c3 = c1 + c2: (5.5, 3.5)\n",
        "c3 = c1 - c2: (-0.5, 0.5)\n",
        "c3 = c1 * c2: (4.5, 9.75)\n",
        "c3 = c1 / c2: (0.933333, 0.2)\n",
        "c3 = c1 + c2 + c1 + c2: (11, 7)\n",
        "c3 = c1 * c2 + c1 / c2: (5.43333, 9.95)\n"
       ]
      }
     ],
     "prompt_number": 1
    },
    {
     "cell_type": "heading",
     "level": 2,
     "metadata": {},
     "source": [
      "Example-string.cpp, Page no-490"
     ]
    },
    {
     "cell_type": "code",
     "collapsed": false,
     "input": [
      "BUFF_SIZE=50\n",
      "class string:\n",
      "    __Str=[None]*BUFF_SIZE\n",
      "    def __init__(self, MyStr=None):\n",
      "        if isinstance(MyStr, str):\n",
      "            self.__Str=MyStr\n",
      "        else:\n",
      "            self.__Str=\"\"\n",
      "    def echo(self):\n",
      "        print self.__Str\n",
      "    def __add__(self, s):\n",
      "        temp=string(self._string__Str)\n",
      "        temp._string__Str+=s._string__Str\n",
      "        return temp\n",
      "str1=string(\"Welcome to \")\n",
      "str2=string(\"Operator Overloading\")\n",
      "str3=string()\n",
      "print \"Before str3 = str1 + str2;..\"\n",
      "print \"str1 = \",\n",
      "str1.echo()\n",
      "print \"str2 = \",\n",
      "str2.echo()\n",
      "print \"str3 = \",\n",
      "str3.echo()\n",
      "str3=str1+str2\n",
      "print \"After str3 = str1 + str2;..\"\n",
      "print \"str1 = \",\n",
      "str1.echo()\n",
      "print \"str2 = \",\n",
      "str2.echo()\n",
      "print \"str3 = \",\n",
      "str3.echo()"
     ],
     "language": "python",
     "metadata": {},
     "outputs": [
      {
       "output_type": "stream",
       "stream": "stdout",
       "text": [
        "Before str3 = str1 + str2;..\n",
        "str1 =  Welcome to \n",
        "str2 =  Operator Overloading\n",
        "str3 =  \n",
        "After str3 = str1 + str2;..\n",
        "str1 =  Welcome to \n",
        "str2 =  Operator Overloading\n",
        "str3 =  Welcome to Operator Overloading\n"
       ]
      }
     ],
     "prompt_number": 1
    },
    {
     "cell_type": "heading",
     "level": 2,
     "metadata": {},
     "source": [
      "Example-idxcmp.cpp, Page no-491"
     ]
    },
    {
     "cell_type": "code",
     "collapsed": false,
     "input": [
      "(false, true)=(0, 1) #enum type\n",
      "type =['false', 'true']\n",
      "class Index:\n",
      "    __value=int\n",
      "    def __init__(self, val=0):\n",
      "        self.__value=val\n",
      "    def GetIndex(self):\n",
      "        return self.__value\n",
      "    #overloading < operator\n",
      "    def __lt__(self, idx):\n",
      "        return true if self.__value<idx.__value else false  #?: operator\n",
      "idx1=Index(5)\n",
      "idx2=Index(10)\n",
      "print 'Index1 =', idx1.GetIndex()\n",
      "print \"Index2 =\", idx2.GetIndex()\n",
      "if idx1<idx2: #using the overloaded < operator\n",
      "    print \"Index1 is less than Index2\"\n",
      "else:\n",
      "    print \"Index1 is not less than Index2\""
     ],
     "language": "python",
     "metadata": {},
     "outputs": [
      {
       "output_type": "stream",
       "stream": "stdout",
       "text": [
        "Index1 = 5\n",
        "Index2 = 10\n",
        "Index1 is less than Index2\n"
       ]
      }
     ],
     "prompt_number": 1
    },
    {
     "cell_type": "heading",
     "level": 2,
     "metadata": {},
     "source": [
      "Example-strcmp.cpp, Page no-493"
     ]
    },
    {
     "cell_type": "code",
     "collapsed": false,
     "input": [
      "(false, true)=(0, 1) #enum type\n",
      "type =['false', 'true']\n",
      "BUFF_SIZE=50\n",
      "class string:\n",
      "    __Str=[None]*BUFF_SIZE\n",
      "    def __init__(self):\n",
      "        self.__Str=\"\"\n",
      "    def read(self):\n",
      "        self.__Str=raw_input()\n",
      "    def echo(self):\n",
      "        print self.__Str,\n",
      "    #overloading < operator\n",
      "    def __lt__(self, s):\n",
      "        if self.__Str < s.__Str:\n",
      "            return true\n",
      "        else:\n",
      "            return false\n",
      "    #overloading > operator\n",
      "    def __gt__(self, s):\n",
      "        if self.__Str > s.__Str:\n",
      "            return true\n",
      "        else:\n",
      "            return false\n",
      "    #overloading == operator\n",
      "    def __eq__(self, MyStr):\n",
      "        if self.__Str ==MyStr:\n",
      "            return true\n",
      "        else:\n",
      "            return false\n",
      "str1=string()\n",
      "str2=string()\n",
      "while(1):\n",
      "    print \"Enter String1 <'end' to stop>:\",\n",
      "    str1.read()\n",
      "    if str1==\"end\": #using overloaded == operator\n",
      "        break\n",
      "    print 'Enter String2:',\n",
      "    str2.read()\n",
      "    print 'Comparison status:',\n",
      "    str1.echo()\n",
      "    if str1<str2: #using overloaded < operator\n",
      "        print \"<\",\n",
      "    elif str1>str2:\n",
      "        print \">\", #using overloaded > operator\n",
      "    else:\n",
      "        print \"=\",\n",
      "    str2.echo()\n",
      "    print \"\"\n",
      "print \"Bye.!! That's all folks.!\""
     ],
     "language": "python",
     "metadata": {},
     "outputs": [
      {
       "output_type": "stream",
       "stream": "stdout",
       "text": [
        "Enter String1 <'end' to stop>:"
       ]
      },
      {
       "name": "stdout",
       "output_type": "stream",
       "stream": "stdout",
       "text": [
        "C\n"
       ]
      },
      {
       "output_type": "stream",
       "stream": "stdout",
       "text": [
        " Enter String2:"
       ]
      },
      {
       "name": "stdout",
       "output_type": "stream",
       "stream": "stdout",
       "text": [
        "C++\n"
       ]
      },
      {
       "output_type": "stream",
       "stream": "stdout",
       "text": [
        " Comparison status: C < C++ \n",
        "Enter String1 <'end' to stop>:"
       ]
      },
      {
       "name": "stdout",
       "output_type": "stream",
       "stream": "stdout",
       "text": [
        "Rajkumar\n"
       ]
      },
      {
       "output_type": "stream",
       "stream": "stdout",
       "text": [
        " Enter String2:"
       ]
      },
      {
       "name": "stdout",
       "output_type": "stream",
       "stream": "stdout",
       "text": [
        "Bindu\n"
       ]
      },
      {
       "output_type": "stream",
       "stream": "stdout",
       "text": [
        " Comparison status: Rajkumar > Bindu \n",
        "Enter String1 <'end' to stop>:"
       ]
      },
      {
       "name": "stdout",
       "output_type": "stream",
       "stream": "stdout",
       "text": [
        "Rajkumar\n"
       ]
      },
      {
       "output_type": "stream",
       "stream": "stdout",
       "text": [
        " Enter String2:"
       ]
      },
      {
       "name": "stdout",
       "output_type": "stream",
       "stream": "stdout",
       "text": [
        "Venugopal\n"
       ]
      },
      {
       "output_type": "stream",
       "stream": "stdout",
       "text": [
        " Comparison status: Rajkumar < Venugopal \n",
        "Enter String1 <'end' to stop>:"
       ]
      },
      {
       "name": "stdout",
       "output_type": "stream",
       "stream": "stdout",
       "text": [
        "HELLO\n"
       ]
      },
      {
       "output_type": "stream",
       "stream": "stdout",
       "text": [
        " Enter String2:"
       ]
      },
      {
       "name": "stdout",
       "output_type": "stream",
       "stream": "stdout",
       "text": [
        "HELLO\n"
       ]
      },
      {
       "output_type": "stream",
       "stream": "stdout",
       "text": [
        " Comparison status: HELLO = HELLO \n",
        "Enter String1 <'end' to stop>:"
       ]
      },
      {
       "name": "stdout",
       "output_type": "stream",
       "stream": "stdout",
       "text": [
        "end\n"
       ]
      },
      {
       "output_type": "stream",
       "stream": "stdout",
       "text": [
        " Bye.!! That's all folks.!\n"
       ]
      }
     ],
     "prompt_number": 1
    },
    {
     "cell_type": "heading",
     "level": 2,
     "metadata": {},
     "source": [
      "Example-complex4.cpp, Page no-495"
     ]
    },
    {
     "cell_type": "code",
     "collapsed": false,
     "input": [
      "def __iadd__(self, c2):\n",
      "    temp=Complex()\n",
      "    temp._Complex__real=self._Complex__real+c2._Complex__real\n",
      "    temp._Complex__imag=self._Complex__imag+c2._Complex__imag\n",
      "    return temp\n",
      "def __isub__(self, c2):\n",
      "    temp=Complex()\n",
      "    temp._Complex__real=self._Complex__real-c2._Complex__real\n",
      "    temp._Complex__imag=self._Complex__imag-c2._Complex__imag\n",
      "    return temp\n",
      "def __imul__(self, c2):\n",
      "    temp=Complex()\n",
      "    temp._Complex__real=self._Complex__real*c2._Complex__real-self._Complex__imag*c2._Complex__imag\n",
      "    temp._Complex__imag=self._Complex__real*c2._Complex__imag+self._Complex__imag*c2._Complex__real\n",
      "    return temp\n",
      "def __idiv__(self, c2):\n",
      "    temp=Complex()\n",
      "    qt=c2._Complex__real*c2._Complex__real+c2._Complex__imag *c2._Complex__imag\n",
      "    temp._Complex__real=(self._Complex__real*c2._Complex__real+self._Complex__imag*c2._Complex__imag)/qt\n",
      "    temp._Complex__imag=(self._Complex__imag*c2._Complex__real-self._Complex__real*c2._Complex__imag)/qt\n",
      "    return temp\n",
      "class Complex:\n",
      "    __real=float\n",
      "    __imag=float\n",
      "    def __init__(self):\n",
      "        self.__real=self.__imag=0\n",
      "    def getdata(self):\n",
      "        self.__real=float(raw_input(\"Real part ? \"))\n",
      "        self.__imag=float(raw_input(\"Imag part ? \"))\n",
      "    #overloading +=, -=, *= and /= operator\n",
      "    __iadd__=__iadd__\n",
      "    __isub__=__isub__\n",
      "    __imul__=__imul__\n",
      "    __idiv__=__idiv__\n",
      "    def outdata(self, msg):\n",
      "        print \"%s(%g, %g)\" %(msg, self.__real, self.__imag)\n",
      "c1=Complex()\n",
      "c2=Complex()\n",
      "c3=Complex()\n",
      "print \"Enter Complex Number c1...\"\n",
      "c1.getdata()\n",
      "print \"Enter Complex Number c2...\"\n",
      "c2.getdata()\n",
      "print \"Entered Complex numbers are...\"\n",
      "c1.outdata(\"c1 = \")\n",
      "c2.outdata(\"c2 = \")\n",
      "print \"Computational results are...\"\n",
      "c3=c1 \n",
      "c3+=c2 #invoking the overloaded += operator\n",
      "c3.outdata(\"let c3 = c1, c3+=c2: \")\n",
      "c3=c1 \n",
      "c3-=c2 #invoking the overloaded -= operator\n",
      "c3.outdata(\"let c3 = c1, c3-=c2: \")\n",
      "c3=c1 \n",
      "c3*=c2 #invoking the overloaded *= operator\n",
      "c3.outdata(\"let c3 = c1, c3*=c2: \")\n",
      "c3=c1 \n",
      "c3/=c2 #invoking the overloaded / operator\n",
      "c3.outdata(\"let c3 = c1, c3/=c2: \")"
     ],
     "language": "python",
     "metadata": {},
     "outputs": [
      {
       "output_type": "stream",
       "stream": "stdout",
       "text": [
        "Enter Complex Number c1...\n"
       ]
      },
      {
       "name": "stdout",
       "output_type": "stream",
       "stream": "stdout",
       "text": [
        "Real part ? 2.5\n"
       ]
      },
      {
       "name": "stdout",
       "output_type": "stream",
       "stream": "stdout",
       "text": [
        "Imag part ? 2.0\n"
       ]
      },
      {
       "output_type": "stream",
       "stream": "stdout",
       "text": [
        "Enter Complex Number c2...\n"
       ]
      },
      {
       "name": "stdout",
       "output_type": "stream",
       "stream": "stdout",
       "text": [
        "Real part ? 3.0\n"
       ]
      },
      {
       "name": "stdout",
       "output_type": "stream",
       "stream": "stdout",
       "text": [
        "Imag part ? 1.5\n"
       ]
      },
      {
       "output_type": "stream",
       "stream": "stdout",
       "text": [
        "Entered Complex numbers are...\n",
        "c1 = (2.5, 2)\n",
        "c2 = (3, 1.5)\n",
        "Computational results are...\n",
        "let c3 = c1, c3+=c2: (5.5, 3.5)\n",
        "let c3 = c1, c3-=c2: (-0.5, 0.5)\n",
        "let c3 = c1, c3*=c2: (4.5, 9.75)\n",
        "let c3 = c1, c3/=c2: (0.933333, 0.2)\n"
       ]
      }
     ],
     "prompt_number": 4
    },
    {
     "cell_type": "heading",
     "level": 2,
     "metadata": {},
     "source": [
      "Example-complex-5.cpp, Page no-498"
     ]
    },
    {
     "cell_type": "code",
     "collapsed": false,
     "input": [
      "def __iadd__(self, c2):\n",
      "    self._Complex__real=self._Complex__real+c2._Complex__real\n",
      "    self._Complex__imag=self._Complex__imag+c2._Complex__imag\n",
      "    return self\n",
      "class Complex:\n",
      "    __real=float\n",
      "    __imag=float\n",
      "    def __init__(self):\n",
      "        self.__real=self.__imag=0\n",
      "    def getdata(self):\n",
      "        self.__real=float(raw_input(\"Real part ? \"))\n",
      "        self.__imag=float(raw_input(\"Imag part ? \"))\n",
      "    #overloading += operator\n",
      "    __iadd__=__iadd__\n",
      "    def outdata(self, msg):\n",
      "        print \"%s(%g, %g)\" %(msg, self.__real, self.__imag)\n",
      "c1=Complex()\n",
      "c2=Complex()\n",
      "c3=Complex()\n",
      "print \"Enter Complex Number c1...\"\n",
      "c1.getdata()\n",
      "print \"Enter Complex Number c2...\"\n",
      "c2.getdata()\n",
      "c1 += c2 #using overloaded += operator\n",
      "c3 = c1\n",
      "print \"On execution of c3 = c1 += c2..\"\n",
      "c1.outdata(\"Complex c1: \")\n",
      "c2.outdata(\"Complex c2: \")\n",
      "c3.outdata(\"Complex c3: \")"
     ],
     "language": "python",
     "metadata": {},
     "outputs": [
      {
       "output_type": "stream",
       "stream": "stdout",
       "text": [
        "Enter Complex Number c1...\n"
       ]
      },
      {
       "name": "stdout",
       "output_type": "stream",
       "stream": "stdout",
       "text": [
        "Real part ? 2.5\n"
       ]
      },
      {
       "name": "stdout",
       "output_type": "stream",
       "stream": "stdout",
       "text": [
        "Imag part ? 2.0\n"
       ]
      },
      {
       "output_type": "stream",
       "stream": "stdout",
       "text": [
        "Enter Complex Number c2...\n"
       ]
      },
      {
       "name": "stdout",
       "output_type": "stream",
       "stream": "stdout",
       "text": [
        "Real part ? 3.0\n"
       ]
      },
      {
       "name": "stdout",
       "output_type": "stream",
       "stream": "stdout",
       "text": [
        "Imag part ? 1.5\n"
       ]
      },
      {
       "output_type": "stream",
       "stream": "stdout",
       "text": [
        "On execution of c3 = c1 += c2..\n",
        "Complex c1: (5.5, 3.5)\n",
        "Complex c2: (3, 1.5)\n",
        "Complex c3: (5.5, 3.5)\n"
       ]
      }
     ],
     "prompt_number": 11
    },
    {
     "cell_type": "heading",
     "level": 2,
     "metadata": {},
     "source": [
      "Example-resource.cpp, Page no-499"
     ]
    },
    {
     "cell_type": "code",
     "collapsed": false,
     "input": [
      "ARRAY_SIZE=10\n",
      "def read(self):\n",
      "    for i in range(ARRAY_SIZE):\n",
      "        print \"vector[\", i, \"] = ? \",\n",
      "        self._vector__array[i]=int(raw_input())\n",
      "def sum(self):\n",
      "    Sum=0\n",
      "    for i in range(ARRAY_SIZE):\n",
      "        Sum+=self._vector__array[i]\n",
      "    return Sum\n",
      "class vector:\n",
      "    __array=[int]\n",
      "    def new(self):\n",
      "        myvector=vector()\n",
      "        myvector.__array=[int]*ARRAY_SIZE\n",
      "        return myvector\n",
      "    def delete(self):\n",
      "        del self\n",
      "    read=read\n",
      "    sum=sum\n",
      "my_vector=vector()\n",
      "my_vector=my_vector.new()\n",
      "print \"Enter Vector data...\"\n",
      "my_vector.read()\n",
      "print \"Sum of Vector =\", my_vector.sum()\n",
      "del my_vector"
     ],
     "language": "python",
     "metadata": {},
     "outputs": [
      {
       "output_type": "stream",
       "stream": "stdout",
       "text": [
        "Enter Vector data...\n",
        "vector[ 0 ] = ? "
       ]
      },
      {
       "name": "stdout",
       "output_type": "stream",
       "stream": "stdout",
       "text": [
        "1\n"
       ]
      },
      {
       "output_type": "stream",
       "stream": "stdout",
       "text": [
        " vector[ 1 ] = ? "
       ]
      },
      {
       "name": "stdout",
       "output_type": "stream",
       "stream": "stdout",
       "text": [
        "2\n"
       ]
      },
      {
       "output_type": "stream",
       "stream": "stdout",
       "text": [
        " vector[ 2 ] = ? "
       ]
      },
      {
       "name": "stdout",
       "output_type": "stream",
       "stream": "stdout",
       "text": [
        "3\n"
       ]
      },
      {
       "output_type": "stream",
       "stream": "stdout",
       "text": [
        " vector[ 3 ] = ? "
       ]
      },
      {
       "name": "stdout",
       "output_type": "stream",
       "stream": "stdout",
       "text": [
        "4\n"
       ]
      },
      {
       "output_type": "stream",
       "stream": "stdout",
       "text": [
        " vector[ 4 ] = ? "
       ]
      },
      {
       "name": "stdout",
       "output_type": "stream",
       "stream": "stdout",
       "text": [
        "5\n"
       ]
      },
      {
       "output_type": "stream",
       "stream": "stdout",
       "text": [
        " vector[ 5 ] = ? "
       ]
      },
      {
       "name": "stdout",
       "output_type": "stream",
       "stream": "stdout",
       "text": [
        "6\n"
       ]
      },
      {
       "output_type": "stream",
       "stream": "stdout",
       "text": [
        " vector[ 6 ] = ? "
       ]
      },
      {
       "name": "stdout",
       "output_type": "stream",
       "stream": "stdout",
       "text": [
        "7\n"
       ]
      },
      {
       "output_type": "stream",
       "stream": "stdout",
       "text": [
        " vector[ 7 ] = ? "
       ]
      },
      {
       "name": "stdout",
       "output_type": "stream",
       "stream": "stdout",
       "text": [
        "8\n"
       ]
      },
      {
       "output_type": "stream",
       "stream": "stdout",
       "text": [
        " vector[ 8 ] = ? "
       ]
      },
      {
       "name": "stdout",
       "output_type": "stream",
       "stream": "stdout",
       "text": [
        "9\n"
       ]
      },
      {
       "output_type": "stream",
       "stream": "stdout",
       "text": [
        " vector[ 9 ] = ? "
       ]
      },
      {
       "name": "stdout",
       "output_type": "stream",
       "stream": "stdout",
       "text": [
        "10\n"
       ]
      },
      {
       "output_type": "stream",
       "stream": "stdout",
       "text": [
        " Sum of Vector = 55\n"
       ]
      }
     ],
     "prompt_number": 1
    },
    {
     "cell_type": "heading",
     "level": 2,
     "metadata": {},
     "source": [
      "Example-meter.cpp, Page no-504"
     ]
    },
    {
     "cell_type": "code",
     "collapsed": false,
     "input": [
      "class Meter:\n",
      "    __length=float\n",
      "    def __init__(self, InitLength=0.0):\n",
      "        self.__length=InitLength/100.0\n",
      "    def float(self):\n",
      "        LengthCms=self.__length*100.0\n",
      "        return LengthCms\n",
      "    def GetLength(self):\n",
      "        self.__length=float(raw_input(\"Enter Length (in meters): \"))\n",
      "    def ShowLength(self):\n",
      "        print \"Length (in meter) =\", self.__length\n",
      "length1=float(raw_input(\"Enter Lenthg (in cms): \"))\n",
      "meter1=Meter(length1)\n",
      "meter1.ShowLength()\n",
      "meter2=Meter()\n",
      "length2=float\n",
      "meter2.GetLength()\n",
      "length2=meter2.float()\n",
      "print \"Length (in cms) =\", length2"
     ],
     "language": "python",
     "metadata": {},
     "outputs": [
      {
       "name": "stdout",
       "output_type": "stream",
       "stream": "stdout",
       "text": [
        "Enter Lenthg (in cms): 150.0\n"
       ]
      },
      {
       "output_type": "stream",
       "stream": "stdout",
       "text": [
        "Length (in meter) = 1.5\n"
       ]
      },
      {
       "name": "stdout",
       "output_type": "stream",
       "stream": "stdout",
       "text": [
        "Enter Length (in meters): 1.669\n"
       ]
      },
      {
       "output_type": "stream",
       "stream": "stdout",
       "text": [
        "Length (in cms) = 166.9\n"
       ]
      }
     ],
     "prompt_number": 1
    },
    {
     "cell_type": "heading",
     "level": 2,
     "metadata": {},
     "source": [
      "Example-strconv.cpp, Page no-506"
     ]
    },
    {
     "cell_type": "code",
     "collapsed": false,
     "input": [
      "BUFF_SIZE=50\n",
      "class string:\n",
      "    __Str=[None]*BUFF_SIZE\n",
      "    def __init__(self, MyStr=None):\n",
      "        if isinstance(MyStr, str):\n",
      "            self.__Str=MyStr\n",
      "        else:\n",
      "            self.__Str=\"\"\n",
      "    def echo(self):\n",
      "        print self.__Str\n",
      "    def char(self):\n",
      "        return self.__Str\n",
      "msg=\"OOPs the Great\"\n",
      "str1=string(msg)\n",
      "print \"str1 =\",\n",
      "str1.echo()\n",
      "str2=string(\"It is nice to learn\")\n",
      "receive=str2.char()\n",
      "print \"Str2 =\", receive"
     ],
     "language": "python",
     "metadata": {},
     "outputs": [
      {
       "output_type": "stream",
       "stream": "stdout",
       "text": [
        "str1 = OOPs the Great\n",
        "Str2 = It is nice to learn\n"
       ]
      }
     ],
     "prompt_number": 1
    },
    {
     "cell_type": "heading",
     "level": 2,
     "metadata": {},
     "source": [
      "Example-d2r1.cpp, Page no-509 "
     ]
    },
    {
     "cell_type": "code",
     "collapsed": false,
     "input": [
      "PI=3.141592654\n",
      "class Radian:\n",
      "    __rad=float\n",
      "    def __init__(self, InitRad=0.0):\n",
      "        self.__rad=InitRad\n",
      "    def GetRadian(self):\n",
      "        return self.__rad\n",
      "    def Output(self):\n",
      "        print \"Radian =\", self.GetRadian()\n",
      "class Degree:\n",
      "    __degree=float\n",
      "    def __init__(self):\n",
      "        self.__degree=0.0\n",
      "    def Radian(self):\n",
      "        return ( Radian(self.__degree * PI / 180.0))\n",
      "    def Input(self):\n",
      "        self.__degree=float(raw_input(\"Enter degree: \"))\n",
      "deg1=Degree()\n",
      "deg1.Input()\n",
      "rad1=deg1.Radian()\n",
      "rad1.Output()"
     ],
     "language": "python",
     "metadata": {},
     "outputs": [
      {
       "name": "stdout",
       "output_type": "stream",
       "stream": "stdout",
       "text": [
        "Enter degree: 180\n"
       ]
      },
      {
       "output_type": "stream",
       "stream": "stdout",
       "text": [
        "Radian = 3.141592654\n"
       ]
      }
     ],
     "prompt_number": 1
    },
    {
     "cell_type": "heading",
     "level": 2,
     "metadata": {},
     "source": [
      "Example-d2r2.cpp, Page no-512"
     ]
    },
    {
     "cell_type": "code",
     "collapsed": false,
     "input": [
      "PI=3.141592654\n",
      "class Degree:\n",
      "    __degree=float\n",
      "    def __init__(self):\n",
      "        self.__degree=0.0\n",
      "    def GetDegree(self):\n",
      "        return self.__degree\n",
      "    def Input(self):\n",
      "        self.__degree=float(raw_input(\"Enter degree: \"))\n",
      "class Radian:\n",
      "    __rad=float\n",
      "    def __init__(self, deg=None):\n",
      "        if isinstance(deg , Degree):\n",
      "            self.__rad=deg.GetDegree()*PI/180.0\n",
      "        else:\n",
      "            self.__rad=0.0\n",
      "    def GetRadian(self):\n",
      "        return self.__rad\n",
      "    def Output(self):\n",
      "        print \"Radian =\", self.GetRadian()\n",
      "deg1=Degree()\n",
      "deg1.Input()\n",
      "rad1=Radian(deg1)\n",
      "rad1.Output()"
     ],
     "language": "python",
     "metadata": {},
     "outputs": [
      {
       "name": "stdout",
       "output_type": "stream",
       "stream": "stdout",
       "text": [
        "Enter degree: 90\n"
       ]
      },
      {
       "output_type": "stream",
       "stream": "stdout",
       "text": [
        "Radian = 1.570796327\n"
       ]
      }
     ],
     "prompt_number": 1
    },
    {
     "cell_type": "heading",
     "level": 2,
     "metadata": {},
     "source": [
      "Example-degrad.cpp, Page no-514"
     ]
    },
    {
     "cell_type": "code",
     "collapsed": false,
     "input": [
      "PI=3.141592654\n",
      "class Radian:\n",
      "    __rad=float\n",
      "    def __init__(self, InitRad=0.0):\n",
      "        self.__rad=InitRad\n",
      "    def GetRadian(self):\n",
      "        return self.__rad\n",
      "    def Input(self):\n",
      "        self.__rad=float(raw_input(\"Enter radian: \"))\n",
      "    def Output(self):\n",
      "        print \"Radian =\", self.GetRadian()\n",
      "class Degree:\n",
      "    __degree=float\n",
      "    def __init__(self, rad=None):\n",
      "        if isinstance(rad, Radian):\n",
      "            self.__degree=rad.GetRadian()*180.0/PI\n",
      "        else:\n",
      "            self.__degree=0.0\n",
      "    def GetDegree(self):\n",
      "        return self.__degree\n",
      "    def Radian(self):\n",
      "        return ( Radian(self.__degree * PI / 180.0))\n",
      "    def Input(self):\n",
      "        self.__degree=float(raw_input(\"Enter degree: \"))\n",
      "    def Output(self):\n",
      "        print \"Degree =\", self.__degree\n",
      "deg1=Degree()\n",
      "deg1.Input()\n",
      "rad1=deg1.Radian()\n",
      "rad1.Output()\n",
      "rad2=Radian()\n",
      "rad2.Input()\n",
      "deg2=Degree(rad2)\n",
      "deg2.Output()"
     ],
     "language": "python",
     "metadata": {},
     "outputs": [
      {
       "name": "stdout",
       "output_type": "stream",
       "stream": "stdout",
       "text": [
        "Enter degree: 180\n"
       ]
      },
      {
       "output_type": "stream",
       "stream": "stdout",
       "text": [
        "Radian = 3.141592654\n"
       ]
      },
      {
       "name": "stdout",
       "output_type": "stream",
       "stream": "stdout",
       "text": [
        "Enter radian: 3.142\n"
       ]
      },
      {
       "output_type": "stream",
       "stream": "stdout",
       "text": [
        "Degree = 180.023339207\n"
       ]
      }
     ],
     "prompt_number": 1
    },
    {
     "cell_type": "heading",
     "level": 2,
     "metadata": {},
     "source": [
      "Example-script.cpp, Page no-516"
     ]
    },
    {
     "cell_type": "code",
     "collapsed": false,
     "input": [
      "from ctypes import *\n",
      "class AccountEntry(Structure):\n",
      "    _fields_=[('number',c_int), ('name', c_char*25)]\n",
      "class AccountBook:\n",
      "    __aCount=int\n",
      "    __account=[AccountEntry]\n",
      "    def __init__(self, aCountIn):\n",
      "        self.__aCount=aCountIn\n",
      "        for i in range(self.__aCount):\n",
      "            self.__account.append(AccountEntry())\n",
      "    def op(self, nameIn):\n",
      "        if isinstance(nameIn, str):\n",
      "            for i in range(self.__aCount):\n",
      "                if nameIn==self.__account[i].name:\n",
      "                    return self.__account[i].number\n",
      "        elif isinstance(nameIn, int): #numberIn\n",
      "            for i in range(self.__aCount):\n",
      "                #print self.__account[i].number\n",
      "                if nameIn==self.__account[i].number:\n",
      "                    return self.__account[i].name\n",
      "    def AccountEntry(self):\n",
      "        for i in range(self.__aCount):\n",
      "            self.__account[i].number=int(raw_input(\"Account Number: \"))\n",
      "            self.__account[i].name=raw_input(\"Account Holder Name: \")\n",
      "accounts=AccountBook(5)\n",
      "print \"Building 5 Customers Database\"\n",
      "accounts.AccountEntry()\n",
      "print \"Accessing Accounts Information\"\n",
      "accno=int(raw_input(\"To access Name Enter Account Number: \"))\n",
      "print \"Name:\",accounts.op(accno) #accounts[accno]\n",
      "name=raw_input(\"To access Account Number, Enter Name: \")\n",
      "print \"Account Number:\",accounts.op(name) #accounts[name]"
     ],
     "language": "python",
     "metadata": {},
     "outputs": [
      {
       "output_type": "stream",
       "stream": "stdout",
       "text": [
        "Building 5 Customers Database\n"
       ]
      },
      {
       "name": "stdout",
       "output_type": "stream",
       "stream": "stdout",
       "text": [
        "Account Number: 1\n"
       ]
      },
      {
       "name": "stdout",
       "output_type": "stream",
       "stream": "stdout",
       "text": [
        "Account Holder Name: Rajkumar\n"
       ]
      },
      {
       "name": "stdout",
       "output_type": "stream",
       "stream": "stdout",
       "text": [
        "Account Number: 2\n"
       ]
      },
      {
       "name": "stdout",
       "output_type": "stream",
       "stream": "stdout",
       "text": [
        "Account Holder Name: Kiran\n"
       ]
      },
      {
       "name": "stdout",
       "output_type": "stream",
       "stream": "stdout",
       "text": [
        "Account Number: 3\n"
       ]
      },
      {
       "name": "stdout",
       "output_type": "stream",
       "stream": "stdout",
       "text": [
        "Account Holder Name: Ravishanker\n"
       ]
      },
      {
       "name": "stdout",
       "output_type": "stream",
       "stream": "stdout",
       "text": [
        "Account Number: 4\n"
       ]
      },
      {
       "name": "stdout",
       "output_type": "stream",
       "stream": "stdout",
       "text": [
        "Account Holder Name: Anand\n"
       ]
      },
      {
       "name": "stdout",
       "output_type": "stream",
       "stream": "stdout",
       "text": [
        "Account Number: 5\n"
       ]
      },
      {
       "name": "stdout",
       "output_type": "stream",
       "stream": "stdout",
       "text": [
        "Account Holder Name: Sindhu\n"
       ]
      },
      {
       "output_type": "stream",
       "stream": "stdout",
       "text": [
        "Accessing Accounts Information\n"
       ]
      },
      {
       "name": "stdout",
       "output_type": "stream",
       "stream": "stdout",
       "text": [
        "To access Name Enter Account Number: 1\n"
       ]
      },
      {
       "output_type": "stream",
       "stream": "stdout",
       "text": [
        "Name: Rajkumar\n"
       ]
      },
      {
       "name": "stdout",
       "output_type": "stream",
       "stream": "stdout",
       "text": [
        "To access Account Number, Enter Name: Sindhu\n"
       ]
      },
      {
       "output_type": "stream",
       "stream": "stdout",
       "text": [
        "Account Number: 5\n"
       ]
      }
     ],
     "prompt_number": 1
    },
    {
     "cell_type": "heading",
     "level": 2,
     "metadata": {},
     "source": [
      "Example-complex6.cpp, Page no-519"
     ]
    },
    {
     "cell_type": "code",
     "collapsed": false,
     "input": [
      "def readdata(self):\n",
      "    self._Complex__real=float(raw_input(\"Real part ? \"))\n",
      "    self._Complex__imag=float(raw_input(\"Imag part ? \"))\n",
      "def outdata(self, msg):\n",
      "    print \"%s(%g, %g)\" %(msg, self._Complex__real, self._Complex__imag)\n",
      "class Complex:\n",
      "    __real=float\n",
      "    __imag=float\n",
      "    def __init__(self):\n",
      "        self.__real=self.__imag=0\n",
      "    readdata=readdata\n",
      "    outdata=outdata\n",
      "    def __neg__(self):\n",
      "        return neg(self)\n",
      "#friend function overloading unary minus operator\n",
      "def neg(c1):\n",
      "    c=Complex()\n",
      "    c._Complex__real=-c1._Complex__real\n",
      "    c._Complex__imag=-c1._Complex__imag\n",
      "    return c\n",
      "c1=Complex()\n",
      "c2=Complex()\n",
      "print \"Enter Complex Number c1...\"\n",
      "c1.readdata()\n",
      "c2=-c1\n",
      "c1.outdata(\"Complex c1 : \")\n",
      "c2.outdata(\"Complex c2 = -Complex c1: \")"
     ],
     "language": "python",
     "metadata": {},
     "outputs": [
      {
       "output_type": "stream",
       "stream": "stdout",
       "text": [
        "Enter Complex Number c1...\n"
       ]
      },
      {
       "name": "stdout",
       "output_type": "stream",
       "stream": "stdout",
       "text": [
        "Real part ? 1.5\n"
       ]
      },
      {
       "name": "stdout",
       "output_type": "stream",
       "stream": "stdout",
       "text": [
        "Imag part ? -2.5\n"
       ]
      },
      {
       "output_type": "stream",
       "stream": "stdout",
       "text": [
        "Complex c1 : (1.5, -2.5)\n",
        "Complex c2 = -Complex c1: (-1.5, 2.5)\n"
       ]
      }
     ],
     "prompt_number": 1
    },
    {
     "cell_type": "heading",
     "level": 2,
     "metadata": {},
     "source": [
      "Example-complex7.cpp, Page no-520"
     ]
    },
    {
     "cell_type": "code",
     "collapsed": false,
     "input": [
      "def readdata(self):\n",
      "    self._Complex__real=float(raw_input(\"Real part ? \"))\n",
      "    self._Complex__imag=float(raw_input(\"Imag part ? \"))\n",
      "def outdata(self, msg):\n",
      "    print \"%s(%g, %g)\" %(msg, self._Complex__real, self._Complex__imag)\n",
      "class Complex:\n",
      "    __real=float\n",
      "    __imag=float\n",
      "    def __init__(self):\n",
      "        self.__real=self.__imag=0\n",
      "    readdata=readdata\n",
      "    outdata=outdata\n",
      "    def __neg__(self):\n",
      "        return neg(self)\n",
      "#friend function overloading unary minus operator\n",
      "def neg(c1):\n",
      "    c1._Complex__real=-c1._Complex__real\n",
      "    c1._Complex__imag=-c1._Complex__imag\n",
      "c1=Complex()\n",
      "print \"Enter Complex Number c1...\"\n",
      "c1.readdata()\n",
      "-c1\n",
      "c1.outdata(\"Complex c1 : \")"
     ],
     "language": "python",
     "metadata": {},
     "outputs": [
      {
       "output_type": "stream",
       "stream": "stdout",
       "text": [
        "Enter Complex Number c1...\n"
       ]
      },
      {
       "name": "stdout",
       "output_type": "stream",
       "stream": "stdout",
       "text": [
        "Real part ? 1.5\n"
       ]
      },
      {
       "name": "stdout",
       "output_type": "stream",
       "stream": "stdout",
       "text": [
        "Imag part ? -2.5\n"
       ]
      },
      {
       "output_type": "stream",
       "stream": "stdout",
       "text": [
        "Complex c1 : (-1.5, 2.5)\n"
       ]
      }
     ],
     "prompt_number": 2
    },
    {
     "cell_type": "heading",
     "level": 2,
     "metadata": {},
     "source": [
      "Example-complex8.cpp, Page no-522"
     ]
    },
    {
     "cell_type": "code",
     "collapsed": false,
     "input": [
      "class Complex:\n",
      "    __real=float\n",
      "    __imag=float\n",
      "    def __init__(self, realpart=0):\n",
      "        if isinstance(realpart, float):\n",
      "            self.__real=realpart\n",
      "        self.__imag=0\n",
      "    def readdata(self):\n",
      "        self.__real=float(raw_input(\"Real part ? \"))\n",
      "        self.__imag=float(raw_input(\"Imag part ? \"))\n",
      "    def outdata(self, msg):\n",
      "        print \"%s(%g, %g)\" %(msg, self.__real, self.__imag)\n",
      "    def __add__(self, c2):\n",
      "        return add(self, c2)\n",
      "#friend function overloading + operator\n",
      "def add(c1, c2):\n",
      "    c=Complex()\n",
      "    c._Complex__real=c1._Complex__real+c2._Complex__real\n",
      "    c._Complex__imag=c1._Complex__imag+c2._Complex__imag\n",
      "    return c\n",
      "c1=Complex()\n",
      "c2=Complex()\n",
      "c3=Complex(3)\n",
      "print \"Enter Complex Number c1...\"\n",
      "c1.readdata()\n",
      "print \"Enter Complex Number c2...\"\n",
      "c2.readdata()\n",
      "c3=c1+c2\n",
      "c3.outdata(\"Result of c3 = c1 + c2: \")\n",
      "c3=c1+Complex(2.0)\n",
      "c3.outdata(\"Result of c3 = c1 + 2.0: \")\n",
      "c3=Complex(3.0)+c2\n",
      "c3.outdata(\"Result of c3 = 3.0 + c2: \")"
     ],
     "language": "python",
     "metadata": {},
     "outputs": [
      {
       "output_type": "stream",
       "stream": "stdout",
       "text": [
        "Enter Complex Number c1...\n"
       ]
      },
      {
       "name": "stdout",
       "output_type": "stream",
       "stream": "stdout",
       "text": [
        "Real part ? 1\n"
       ]
      },
      {
       "name": "stdout",
       "output_type": "stream",
       "stream": "stdout",
       "text": [
        "Imag part ? 2\n"
       ]
      },
      {
       "output_type": "stream",
       "stream": "stdout",
       "text": [
        "Enter Complex Number c2...\n"
       ]
      },
      {
       "name": "stdout",
       "output_type": "stream",
       "stream": "stdout",
       "text": [
        "Real part ? 3\n"
       ]
      },
      {
       "name": "stdout",
       "output_type": "stream",
       "stream": "stdout",
       "text": [
        "Imag part ? 4\n"
       ]
      },
      {
       "output_type": "stream",
       "stream": "stdout",
       "text": [
        "Result of c3 = c1 + c2: (4, 6)\n",
        "Result of c3 = c1 + 2.0: (3, 2)\n",
        "Result of c3 = 3.0 + c2: (6, 4)\n"
       ]
      }
     ],
     "prompt_number": 1
    },
    {
     "cell_type": "heading",
     "level": 2,
     "metadata": {},
     "source": [
      "Example-complex9.cpp, Page no-525"
     ]
    },
    {
     "cell_type": "code",
     "collapsed": false,
     "input": [
      "class Complex:\n",
      "    __real=float\n",
      "    __imag=float\n",
      "    def __init__(self, InReal=0):\n",
      "        if isinstance(InReal, float):\n",
      "            self.__real=InReal\n",
      "            self.__imag=0\n",
      "    def readdata(self):\n",
      "        self.__real=float(raw_input(\"Real part ? \"))\n",
      "        self.__imag=float(raw_input(\"Imag part ? \"))\n",
      "    def outdata(self, msg):\n",
      "        print \"%s(%g, %g)\" %(msg, self.__real, self.__imag)\n",
      "    def __add__(self, c2):\n",
      "        return add(self, c2)\n",
      "#friend function overloading + operator\n",
      "def add(c1, c2):\n",
      "    c=Complex()\n",
      "    c._Complex__real=c1._Complex__real+c2._Complex__real\n",
      "    c._Complex__imag=c1._Complex__imag+c2._Complex__imag\n",
      "    return c\n",
      "c1=Complex()\n",
      "c2=Complex()\n",
      "c3=Complex(3)\n",
      "print \"Enter Complex Number c1...\"\n",
      "c1.readdata()\n",
      "print \"Enter Complex Number c2...\"\n",
      "c2.readdata()\n",
      "c3=c1+c2\n",
      "c3.outdata(\"Result of c3 = c1 + c2: \")\n",
      "c3=c1+Complex(2.0)\n",
      "c3.outdata(\"Result of c3 = c1 + 2.0: \")\n",
      "c3=Complex(3.0)+c2\n",
      "c3.outdata(\"Result of c3 = 3.0 + c2: \")"
     ],
     "language": "python",
     "metadata": {},
     "outputs": [
      {
       "output_type": "stream",
       "stream": "stdout",
       "text": [
        "Enter Complex Number c1...\n"
       ]
      },
      {
       "name": "stdout",
       "output_type": "stream",
       "stream": "stdout",
       "text": [
        "Real part ? 1\n"
       ]
      },
      {
       "name": "stdout",
       "output_type": "stream",
       "stream": "stdout",
       "text": [
        "Imag part ? 2\n"
       ]
      },
      {
       "output_type": "stream",
       "stream": "stdout",
       "text": [
        "Enter Complex Number c2...\n"
       ]
      },
      {
       "name": "stdout",
       "output_type": "stream",
       "stream": "stdout",
       "text": [
        "Real part ? 3\n"
       ]
      },
      {
       "name": "stdout",
       "output_type": "stream",
       "stream": "stdout",
       "text": [
        "Imag part ? 4\n"
       ]
      },
      {
       "output_type": "stream",
       "stream": "stdout",
       "text": [
        "Result of c3 = c1 + c2: (4, 6)\n",
        "Result of c3 = c1 + 2.0: (3, 2)\n",
        "Result of c3 = 3.0 + c2: (6, 4)\n"
       ]
      }
     ],
     "prompt_number": 1
    },
    {
     "cell_type": "heading",
     "level": 2,
     "metadata": {},
     "source": [
      "Example-vector.cpp, Page no-528"
     ]
    },
    {
     "cell_type": "code",
     "collapsed": false,
     "input": [
      "from ctypes import *\n",
      "def __assign__(self, v2):\n",
      "    print \"Assignment operation invoked\"\n",
      "    for i in range(v2._vector__size):\n",
      "        self._vector__v[i]=v2._vector__v[i]\n",
      "def show(self):\n",
      "    for i in range(self._vector__size):\n",
      "        print self.elem(i), \",\",\n",
      "class vector:\n",
      "    __v=[int]\n",
      "    __size=int\n",
      "    def __init__(self, vector_size):\n",
      "        if isinstance(vector_size, int):\n",
      "            self.__size=vector_size\n",
      "            self.__v=[int]*self.__size\n",
      "        if isinstance(vector_size, vector):\n",
      "            print \"Copy constructor invoked\"\n",
      "            self.__size=vector_size.__size\n",
      "            self.__v=[int]*self.__size\n",
      "            for i in range(vector_size.__size):\n",
      "                self.__v[i]=vector_size.__v[i]\n",
      "    def __del__(self):\n",
      "        del self.__v\n",
      "    __assign__=__assign__\n",
      "    def elem(self, i, x=None):\n",
      "        if isinstance(x, int):\n",
      "            if i>=self.__size:\n",
      "                print \"Error: Out of Range\"\n",
      "            self.__v[i]=x\n",
      "        else:\n",
      "            return self.__v[i]\n",
      "    show=show\n",
      "v1=vector(5)\n",
      "v2=vector(5)\n",
      "for i in range(5):\n",
      "    v2.elem(i, i+1)\n",
      "v1 = v2\n",
      "v3 = vector(v2)\n",
      "print \"Vector v1:\",\n",
      "v1.show()\n",
      "print \"\\nVector v2:\",\n",
      "v2.show()\n",
      "print \"\\nVector v3:\",\n",
      "v3.show()"
     ],
     "language": "python",
     "metadata": {},
     "outputs": [
      {
       "output_type": "stream",
       "stream": "stdout",
       "text": [
        "Copy constructor invoked\n",
        "Vector v1: 1 , 2 , 3 , 4 , 5 , \n",
        "Vector v2: 1 , 2 , 3 , 4 , 5 , \n",
        "Vector v3: 1 , 2 , 3 , 4 , 5 ,\n"
       ]
      }
     ],
     "prompt_number": 1
    },
    {
     "cell_type": "heading",
     "level": 2,
     "metadata": {},
     "source": [
      "Example-mleak.cpp, Page no-530"
     ]
    },
    {
     "cell_type": "code",
     "collapsed": false,
     "input": [
      "vector=[int]*10\n",
      "buffer=[chr]*6\n",
      "for i in range(10):\n",
      "    vector[i]=i+1\n",
      "buffer=\"hello\"\n",
      "for i in range(10):\n",
      "    print vector[i],\n",
      "print \"\\nbuffer =\", buffer\n",
      "del vector"
     ],
     "language": "python",
     "metadata": {},
     "outputs": [
      {
       "output_type": "stream",
       "stream": "stdout",
       "text": [
        "1 2 3 4 5 6 7 8 9 10 \n",
        "buffer = hello\n"
       ]
      }
     ],
     "prompt_number": 1
    },
    {
     "cell_type": "heading",
     "level": 2,
     "metadata": {},
     "source": [
      "Example-misuse.cpp, Page no-533"
     ]
    },
    {
     "cell_type": "code",
     "collapsed": false,
     "input": [
      "class number:\n",
      "    __num=int\n",
      "    def read(self):\n",
      "        self.__num=int(raw_input())\n",
      "    def get(self):\n",
      "        return self.__num\n",
      "    def __add__(self, num2):\n",
      "        Sum=number()\n",
      "        Sum.__num=self.__num-num2.__num #subtraction instead of addition\n",
      "        return Sum\n",
      "num1=number()\n",
      "num2=number()\n",
      "Sum=number()\n",
      "print \"Enter Number 1: \",\n",
      "num1.read()\n",
      "print \"Enter Number 2: \",\n",
      "num2.read()\n",
      "Sum=num1+num2 #addition of two numbers\n",
      "print \"sum = num1 + num2 =\", Sum.get()"
     ],
     "language": "python",
     "metadata": {},
     "outputs": [
      {
       "output_type": "stream",
       "stream": "stdout",
       "text": [
        "Enter Number 1: "
       ]
      },
      {
       "name": "stdout",
       "output_type": "stream",
       "stream": "stdout",
       "text": [
        "5\n"
       ]
      },
      {
       "output_type": "stream",
       "stream": "stdout",
       "text": [
        " Enter Number 2: "
       ]
      },
      {
       "name": "stdout",
       "output_type": "stream",
       "stream": "stdout",
       "text": [
        "10\n"
       ]
      },
      {
       "output_type": "stream",
       "stream": "stdout",
       "text": [
        " sum = num1 + num2 = -5\n"
       ]
      }
     ],
     "prompt_number": 1
    },
    {
     "cell_type": "heading",
     "level": 2,
     "metadata": {},
     "source": [
      "Example-1, Page no-537"
     ]
    },
    {
     "cell_type": "code",
     "collapsed": false,
     "input": [
      "def __add__(self, d2):\n",
      "    temp_date=date()\n",
      "    temp_date._date__sec=self._date__sec+d2._date__sec\n",
      "    if(temp_date._date__sec>=60):\n",
      "        temp_date._date__min+=1\n",
      "        temp_date._date__sec=temp_date._date__sec-60\n",
      "    temp_date._date__min=temp_date._date__min+self._date__min+d2._date__min\n",
      "    if(temp_date._date__min>=60):\n",
      "        temp_date._date__hr+=1\n",
      "        temp_date._date__min=temp_date._date__min-60\n",
      "    temp_date._date__hr=self._date__hr+d2._date__hr\n",
      "    return temp_date\n",
      "class date:\n",
      "    __hr=int\n",
      "    __min=int\n",
      "    __sec=int\n",
      "    def __init__(self, h=0, m=0, s=0):\n",
      "        self.__hr=h\n",
      "        self.__min=m\n",
      "        self.__sec=s\n",
      "    def show(self):\n",
      "        print \"%d hours, %d minutes, %d seconds\" %(self.__hr, self.__min, self.__sec),\n",
      "    __add__=__add__\n",
      "date1=date(2, 4, 56)\n",
      "date2=date(10, 59, 11)\n",
      "date3=date()\n",
      "date3=date1+date2\n",
      "date1.show()\n",
      "print \"+\",\n",
      "date2.show()\n",
      "print \"=\",\n",
      "date3.show()"
     ],
     "language": "python",
     "metadata": {},
     "outputs": [
      {
       "output_type": "stream",
       "stream": "stdout",
       "text": [
        "2 hours, 4 minutes, 56 seconds + 10 hours, 59 minutes, 11 seconds = 12 hours, 4 minutes, 7 seconds\n"
       ]
      }
     ],
     "prompt_number": 1
    },
    {
     "cell_type": "heading",
     "level": 2,
     "metadata": {},
     "source": [
      "Example-2, Page no-538"
     ]
    },
    {
     "cell_type": "code",
     "collapsed": false,
     "input": [
      "def __add__(self, b2):\n",
      "    temp_basket=basket()\n",
      "    temp_basket._basket__apples=self._basket__apples+b2._basket__apples\n",
      "    temp_basket._basket__mangoes=self._basket__mangoes+b2._basket__mangoes\n",
      "    return temp_basket\n",
      "class basket:\n",
      "    __apples=int\n",
      "    __mangoes=int\n",
      "    def __init__(self, a=0, m=0):\n",
      "        self.__apples=a\n",
      "        self.__mangoes=m\n",
      "    def show(self):\n",
      "        print self.__apples, \" Apples and\", self.__mangoes, \" Mangoes\"\n",
      "    __add__=__add__ # overloading + operator\n",
      "basket1=basket(7, 10)\n",
      "basket2=basket(4, 5)\n",
      "basket3=basket()\n",
      "print \"Basket 1 contains:\"\n",
      "basket1.show()\n",
      "print \"Basket 2 contains:\"\n",
      "basket2.show()\n",
      "basket3=basket1+basket2 #using overloaded + operator\n",
      "print \"Adding fruits from Basket 1 and Basket 2 results in:\"\n",
      "basket3.show()"
     ],
     "language": "python",
     "metadata": {},
     "outputs": [
      {
       "output_type": "stream",
       "stream": "stdout",
       "text": [
        "Basket 1 contains:\n",
        "7  Apples and 10  Mangoes\n",
        "Basket 2 contains:\n",
        "4  Apples and 5  Mangoes\n",
        "Adding fruits from Basket 1 and Basket 2 results in:\n",
        "11  Apples and 15  Mangoes\n"
       ]
      }
     ],
     "prompt_number": 1
    }
   ],
   "metadata": {}
  }
 ]
}