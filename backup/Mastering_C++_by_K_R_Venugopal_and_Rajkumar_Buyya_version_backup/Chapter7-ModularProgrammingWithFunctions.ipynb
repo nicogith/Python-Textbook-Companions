{
 "metadata": {
  "name": "",
  "signature": "sha256:01e9bb6f23cf66730668efcf362fa75830da07f132439eac09b9d85dcf6bc616"
 },
 "nbformat": 3,
 "nbformat_minor": 0,
 "worksheets": [
  {
   "cells": [
    {
     "cell_type": "heading",
     "level": 1,
     "metadata": {},
     "source": [
      "Chapter 7-Modular Programming with Functions"
     ]
    },
    {
     "cell_type": "heading",
     "level": 2,
     "metadata": {},
     "source": [
      "Example-tax1.cpp, Page no-208"
     ]
    },
    {
     "cell_type": "code",
     "collapsed": false,
     "input": [
      "Name=[None]*25\n",
      "Name=raw_input(\"Enter name of the 1st person: \")\n",
      "Salary=float(raw_input(\"Enter Salary: \"))\n",
      "if(Salary<=90000):\n",
      "    Tax=Salary*12.5/100\n",
      "else:\n",
      "    Tax=Salary*18/100\n",
      "print \"The tax amount for\", Name, \"is:\", Tax\n",
      "Name=raw_input(\"Enter name of the 2nd person: \")\n",
      "Salary=float(raw_input(\"Enter Salary: \"))\n",
      "if(Salary<=90000):\n",
      "    Tax=Salary*12.5/100\n",
      "else:\n",
      "    Tax=Salary*18/100\n",
      "print \"The tax amount for\", Name, \"is:\", Tax"
     ],
     "language": "python",
     "metadata": {},
     "outputs": [
      {
       "name": "stdout",
       "output_type": "stream",
       "stream": "stdout",
       "text": [
        "Enter name of the 1st person: Rajkumar\n"
       ]
      },
      {
       "name": "stdout",
       "output_type": "stream",
       "stream": "stdout",
       "text": [
        "Enter Salary: 130000\n"
       ]
      },
      {
       "output_type": "stream",
       "stream": "stdout",
       "text": [
        "The tax amount for Rajkumar is: 23400.0\n"
       ]
      },
      {
       "name": "stdout",
       "output_type": "stream",
       "stream": "stdout",
       "text": [
        "Enter name of the 2nd person: Savithri\n"
       ]
      },
      {
       "name": "stdout",
       "output_type": "stream",
       "stream": "stdout",
       "text": [
        "Enter Salary: 90000\n"
       ]
      },
      {
       "output_type": "stream",
       "stream": "stdout",
       "text": [
        "The tax amount for Savithri is: 11250.0\n"
       ]
      }
     ],
     "prompt_number": 1
    },
    {
     "cell_type": "heading",
     "level": 2,
     "metadata": {},
     "source": [
      "Example-tax2.cpp, Page no-209"
     ]
    },
    {
     "cell_type": "code",
     "collapsed": false,
     "input": [
      "def CalculateTax(): #function for calculating tax\n",
      "    Name=[None]*25\n",
      "    Name=raw_input(\"Enter name of the person: \")\n",
      "    Salary=float(raw_input(\"Enter Salary: \"))\n",
      "    if(Salary<=90000):\n",
      "        Tax=Salary*12.5/100\n",
      "    else:\n",
      "        Tax=Salary*18/100\n",
      "    print \"The tax amount for\", Name, \"is:\", Tax\n",
      "CalculateTax()\n",
      "CalculateTax()"
     ],
     "language": "python",
     "metadata": {},
     "outputs": [
      {
       "name": "stdout",
       "output_type": "stream",
       "stream": "stdout",
       "text": [
        "Enter name of the person: Rajkumar\n"
       ]
      },
      {
       "name": "stdout",
       "output_type": "stream",
       "stream": "stdout",
       "text": [
        "Enter Salary: 130000\n"
       ]
      },
      {
       "output_type": "stream",
       "stream": "stdout",
       "text": [
        "The tax amount for Rajkumar is: 23400.0\n"
       ]
      },
      {
       "name": "stdout",
       "output_type": "stream",
       "stream": "stdout",
       "text": [
        "Enter name of the person: Savithri\n"
       ]
      },
      {
       "name": "stdout",
       "output_type": "stream",
       "stream": "stdout",
       "text": [
        "Enter Salary: 90000\n"
       ]
      },
      {
       "output_type": "stream",
       "stream": "stdout",
       "text": [
        "The tax amount for Savithri is: 11250.0\n"
       ]
      }
     ],
     "prompt_number": 3
    },
    {
     "cell_type": "heading",
     "level": 2,
     "metadata": {},
     "source": [
      "Example-max1.cpp, Page no-210"
     ]
    },
    {
     "cell_type": "code",
     "collapsed": false,
     "input": [
      "def Max(x,y):\n",
      "    if x>y:\n",
      "        return x\n",
      "    else:\n",
      "        return y\n",
      "a, b=[int(x) for x in raw_input(\"Enter two integers <a,b>: \").split()]\n",
      "c=Max(a,b)\n",
      "print \"max (a, b):\", c"
     ],
     "language": "python",
     "metadata": {},
     "outputs": [
      {
       "name": "stdout",
       "output_type": "stream",
       "stream": "stdout",
       "text": [
        "Enter two integers <a,b>: 20 10\n"
       ]
      },
      {
       "output_type": "stream",
       "stream": "stdout",
       "text": [
        "max (a, b): 20\n"
       ]
      }
     ],
     "prompt_number": 1
    },
    {
     "cell_type": "heading",
     "level": 2,
     "metadata": {},
     "source": [
      "Example.cpp, Page no-214"
     ]
    },
    {
     "cell_type": "code",
     "collapsed": false,
     "input": [
      "def Max(x,y):\n",
      "    if x>y:\n",
      "        return x\n",
      "    else:\n",
      "        return y\n",
      "a, b=[int(x) for x in raw_input(\"Enter two integers <a,b>: \").split()]\n",
      "c=Max(a,b)\n",
      "print \"max (a, b):\", c"
     ],
     "language": "python",
     "metadata": {},
     "outputs": [
      {
       "name": "stdout",
       "output_type": "stream",
       "stream": "stdout",
       "text": [
        "Enter two integers <a,b>: 20 10\n"
       ]
      },
      {
       "output_type": "stream",
       "stream": "stdout",
       "text": [
        "max (a, b): 20\n"
       ]
      }
     ],
     "prompt_number": 4
    },
    {
     "cell_type": "heading",
     "level": 2,
     "metadata": {},
     "source": [
      "Example-chart1.cpp, Page no-214"
     ]
    },
    {
     "cell_type": "code",
     "collapsed": false,
     "input": [
      "import sys\n",
      "def PercentageChart(percentage):\n",
      "    for i in range(percentage/2):\n",
      "        sys.stdout.write('\\x3d')\n",
      "print \"Sridevi : \",\n",
      "PercentageChart(50)\n",
      "print \"\\nRajkumar: \",\n",
      "PercentageChart(84)\n",
      "print \"\\nSavithri: \",\n",
      "PercentageChart(79)\n",
      "print \"\\nAnand   : \",\n",
      "PercentageChart(74)"
     ],
     "language": "python",
     "metadata": {},
     "outputs": [
      {
       "output_type": "stream",
       "stream": "stdout",
       "text": [
        "Sridevi : ========================= \n",
        "Rajkumar: ========================================== \n",
        "Savithri: ======================================= \n",
        "Anand   : =====================================\n"
       ]
      }
     ],
     "prompt_number": 5
    },
    {
     "cell_type": "heading",
     "level": 2,
     "metadata": {},
     "source": [
      "Example-chart2.cpp, Page no-216"
     ]
    },
    {
     "cell_type": "code",
     "collapsed": false,
     "input": [
      "import sys\n",
      "def PercentageChart(percentage):\n",
      "    for i in range(percentage/2):\n",
      "        sys.stdout.write('\\x3d')\n",
      "m1, m2, m3, m4=[int(x) for x in raw_input(\"Enter percentage score of Sri, Raj, Savi, An: \").split()]\n",
      "print \"Sridevi : \",\n",
      "PercentageChart(m1)\n",
      "print \"\\nRajkumar: \",\n",
      "PercentageChart(m2)\n",
      "print \"\\nSavithri: \",\n",
      "PercentageChart(m3)\n",
      "print \"\\nAnand   : \",\n",
      "PercentageChart(m4)"
     ],
     "language": "python",
     "metadata": {},
     "outputs": [
      {
       "name": "stdout",
       "output_type": "stream",
       "stream": "stdout",
       "text": [
        "Enter percentage score of Sri, Raj, Savi, An: 52 92 83 67\n"
       ]
      },
      {
       "output_type": "stream",
       "stream": "stdout",
       "text": [
        "Sridevi : ========================== \n",
        "Rajkumar: ============================================== \n",
        "Savithri: ========================================= \n",
        "Anand   : =================================\n"
       ]
      }
     ],
     "prompt_number": 6
    },
    {
     "cell_type": "heading",
     "level": 2,
     "metadata": {},
     "source": [
      "Example-chart3.cpp, Page no-217"
     ]
    },
    {
     "cell_type": "code",
     "collapsed": false,
     "input": [
      "import sys\n",
      "def PercentageChart(percentage, style):\n",
      "    for i in range(percentage/2):\n",
      "        sys.stdout.write(style)\n",
      "m1, m2, m3, m4=[int(x) for x in raw_input(\"Enter percentage score of Sri, Raj, Savi, An: \").split()]\n",
      "print \"Sridevi : \",\n",
      "PercentageChart(m1, '*')\n",
      "print \"\\nRajkumar: \",\n",
      "PercentageChart(m2, '\\x3D')\n",
      "print \"\\nSavithri: \",\n",
      "PercentageChart(m3, '-')\n",
      "print \"\\nAnand   : \",\n",
      "PercentageChart(m4, '!')"
     ],
     "language": "python",
     "metadata": {},
     "outputs": [
      {
       "name": "stdout",
       "output_type": "stream",
       "stream": "stdout",
       "text": [
        "Enter percentage score of Sri, Raj, Savi, An: 55 92 83 67\n"
       ]
      },
      {
       "output_type": "stream",
       "stream": "stdout",
       "text": [
        "Sridevi : *************************** \n",
        "Rajkumar: ============================================== \n",
        "Savithri: ----------------------------------------- \n",
        "Anand   : !!!!!!!!!!!!!!!!!!!!!!!!!!!!!!!!!\n"
       ]
      }
     ],
     "prompt_number": 8
    },
    {
     "cell_type": "heading",
     "level": 2,
     "metadata": {},
     "source": [
      "Example-ifact.cpp, Page no-218"
     ]
    },
    {
     "cell_type": "code",
     "collapsed": false,
     "input": [
      "def fact(n):\n",
      "    if n==0:\n",
      "        result=1\n",
      "    else:\n",
      "        result=1\n",
      "        for i in range(2, n+1):\n",
      "            result*=i\n",
      "    return result\n",
      "n=int(raw_input(\"Enter the number whose factorial is to be found: \"))\n",
      "print \"The factorial of\", n, \"is\", fact(n)"
     ],
     "language": "python",
     "metadata": {},
     "outputs": [
      {
       "name": "stdout",
       "output_type": "stream",
       "stream": "stdout",
       "text": [
        "Enter the number whose factorial is to be found: 5\n"
       ]
      },
      {
       "output_type": "stream",
       "stream": "stdout",
       "text": [
        "The factorial of 5 is 120\n"
       ]
      }
     ],
     "prompt_number": 9
    },
    {
     "cell_type": "heading",
     "level": 2,
     "metadata": {},
     "source": [
      "Example-namelen.cpp, Page no-219"
     ]
    },
    {
     "cell_type": "code",
     "collapsed": false,
     "input": [
      "name=[None]*20\n",
      "name=raw_input(\"Enter your name: \")\n",
      "Len=len(name) #string length\n",
      "print \"Length of your name =\", Len"
     ],
     "language": "python",
     "metadata": {},
     "outputs": [
      {
       "name": "stdout",
       "output_type": "stream",
       "stream": "stdout",
       "text": [
        "Enter your name: Rajkumar\n"
       ]
      },
      {
       "output_type": "stream",
       "stream": "stdout",
       "text": [
        "Length of your name = 8\n"
       ]
      }
     ],
     "prompt_number": 10
    },
    {
     "cell_type": "heading",
     "level": 2,
     "metadata": {},
     "source": [
      "Example-maths.cpp, Page no-220"
     ]
    },
    {
     "cell_type": "code",
     "collapsed": false,
     "input": [
      "import math\n",
      "num=float(raw_input(\"Enter any factorial number: \"))\n",
      "num1=math.ceil(num) #ceiling of number\n",
      "num2=math.floor(num) #floor of number\n",
      "print \"ceil(\",num,\") =\", num1\n",
      "print \"floor(\",num,\") =\", num2"
     ],
     "language": "python",
     "metadata": {},
     "outputs": [
      {
       "name": "stdout",
       "output_type": "stream",
       "stream": "stdout",
       "text": [
        "Enter any factorial number: 2.9\n"
       ]
      },
      {
       "output_type": "stream",
       "stream": "stdout",
       "text": [
        "ceil( 2.9 ) = 3.0\n",
        "floor( 2.9 ) = 2.0\n"
       ]
      }
     ],
     "prompt_number": 11
    },
    {
     "cell_type": "heading",
     "level": 2,
     "metadata": {},
     "source": [
      "Example-swap1.cpp, Page no-221"
     ]
    },
    {
     "cell_type": "code",
     "collapsed": false,
     "input": [
      "def swap(x, y): #pass by value swap\n",
      "    print \"Value of x and y in swap before exchange:\", x, y\n",
      "    t=x\n",
      "    x=y\n",
      "    y=t\n",
      "    print \"Value of x and y in swap after exchange:\", x, y\n",
      "a, b=[int(x) for x in raw_input(\"Enter two integers <a,b>: \").split()]\n",
      "swap(a,b)\n",
      "print \"Value of a and b on swap a, b) in main():\", a, b"
     ],
     "language": "python",
     "metadata": {},
     "outputs": [
      {
       "name": "stdout",
       "output_type": "stream",
       "stream": "stdout",
       "text": [
        "Enter two integers <a,b>: 10 20\n"
       ]
      },
      {
       "output_type": "stream",
       "stream": "stdout",
       "text": [
        "Value of x and y in swap before exchange: 10 20\n",
        "Value of x and y in swap after exchange: 20 10\n",
        "Value of a and b on swap a, b) in main(): 10 20\n"
       ]
      }
     ],
     "prompt_number": 12
    },
    {
     "cell_type": "heading",
     "level": 2,
     "metadata": {},
     "source": [
      "Example-swap2.cpp, Pgae no-222"
     ]
    },
    {
     "cell_type": "code",
     "collapsed": false,
     "input": [
      "def swap(x, y): #pass by address swap\n",
      "    t=x\n",
      "    x=y\n",
      "    y=t\n",
      "    return x, y\n",
      "a, b=[int(x) for x in raw_input(\"Enter two integers <a ,b>: \").split()]\n",
      "a, b = swap(a, b)\n",
      "print \"Value of a and b on swap( a, b ):\", a, b"
     ],
     "language": "python",
     "metadata": {},
     "outputs": [
      {
       "name": "stdout",
       "output_type": "stream",
       "stream": "stdout",
       "text": [
        "Enter two integers <a ,b>: 10 20\n"
       ]
      },
      {
       "output_type": "stream",
       "stream": "stdout",
       "text": [
        "Value of a and b on swap( a, b ): 20 10\n"
       ]
      }
     ],
     "prompt_number": 2
    },
    {
     "cell_type": "heading",
     "level": 2,
     "metadata": {},
     "source": [
      "Example-swap3.cpp, Page no-224"
     ]
    },
    {
     "cell_type": "code",
     "collapsed": false,
     "input": [
      "def swap(x, y): #pass by reference swap\n",
      "    t=x\n",
      "    x=y\n",
      "    y=t\n",
      "    return x, y\n",
      "a, b=[int(x) for x in raw_input(\"Enter two integers <a,b>: \").split()]\n",
      "a, b = swap(a, b)\n",
      "print \"Value of a and b on swap( a, b):\", a, b"
     ],
     "language": "python",
     "metadata": {},
     "outputs": [
      {
       "name": "stdout",
       "output_type": "stream",
       "stream": "stdout",
       "text": [
        "Enter two integers <a,b>: 10 20\n"
       ]
      },
      {
       "output_type": "stream",
       "stream": "stdout",
       "text": [
        "Value of a and b on swap( a, b): 20 10\n"
       ]
      }
     ],
     "prompt_number": 13
    },
    {
     "cell_type": "heading",
     "level": 2,
     "metadata": {},
     "source": [
      "Example-ref.cpp, Page no-226"
     ]
    },
    {
     "cell_type": "code",
     "collapsed": false,
     "input": [
      "def Max(x,y):\n",
      "    if x>y:\n",
      "        return x\n",
      "    else:\n",
      "        return y\n",
      "a, b=[int(x) for x in raw_input(\"Enter two integers <a, b>: \").split()]\n",
      "if Max(a,b)==a:\n",
      "    a=425\n",
      "else:\n",
      "    b=425\n",
      "print \"The value of a and b on execution of mx(x, y)=425;...\"\n",
      "print \"a =\", a, \"b =\", b"
     ],
     "language": "python",
     "metadata": {},
     "outputs": [
      {
       "name": "stdout",
       "output_type": "stream",
       "stream": "stdout",
       "text": [
        "Enter two integers <a, b>: 2 1\n"
       ]
      },
      {
       "output_type": "stream",
       "stream": "stdout",
       "text": [
        "The value of a and b on execution of mx(x, y)=425;...\n",
        "a = 425 b = 1\n"
       ]
      }
     ],
     "prompt_number": 5
    },
    {
     "cell_type": "heading",
     "level": 2,
     "metadata": {},
     "source": [
      "Example-defarg1.cpp, Page no-228"
     ]
    },
    {
     "cell_type": "code",
     "collapsed": false,
     "input": [
      "import sys\n",
      "def PrintLine(ch='-', RepeatCount=70): #default arguments\n",
      "    for i in range(RepeatCount):\n",
      "        sys.stdout.write(ch)\n",
      "    print ''\n",
      "PrintLine()\n",
      "PrintLine('!')\n",
      "PrintLine('*', 40)\n",
      "PrintLine('R', 55)"
     ],
     "language": "python",
     "metadata": {},
     "outputs": [
      {
       "output_type": "stream",
       "stream": "stdout",
       "text": [
        "----------------------------------------------------------------------\n",
        "!!!!!!!!!!!!!!!!!!!!!!!!!!!!!!!!!!!!!!!!!!!!!!!!!!!!!!!!!!!!!!!!!!!!!!\n",
        "****************************************\n",
        "RRRRRRRRRRRRRRRRRRRRRRRRRRRRRRRRRRRRRRRRRRRRRRRRRRRRRRR\n"
       ]
      }
     ],
     "prompt_number": 1
    },
    {
     "cell_type": "heading",
     "level": 2,
     "metadata": {},
     "source": [
      "Example-defarg2.cpp, Pgae no-229"
     ]
    },
    {
     "cell_type": "code",
     "collapsed": false,
     "input": [
      "import sys\n",
      "def PrintLine(ch='-', RepeatCount=70, nLines=1): #default arguments\n",
      "    for i in range(nLines):\n",
      "        for i in range(RepeatCount):\n",
      "            sys.stdout.write(ch)\n",
      "        print ''\n",
      "PrintLine()\n",
      "PrintLine('!')\n",
      "PrintLine('*', 40)\n",
      "PrintLine('R', 55)\n",
      "PrintLine('&', 25, 2)"
     ],
     "language": "python",
     "metadata": {},
     "outputs": [
      {
       "output_type": "stream",
       "stream": "stdout",
       "text": [
        "----------------------------------------------------------------------\n",
        "!!!!!!!!!!!!!!!!!!!!!!!!!!!!!!!!!!!!!!!!!!!!!!!!!!!!!!!!!!!!!!!!!!!!!!\n",
        "****************************************\n",
        "RRRRRRRRRRRRRRRRRRRRRRRRRRRRRRRRRRRRRRRRRRRRRRRRRRRRRRR\n",
        "&&&&&&&&&&&&&&&&&&&&&&&&&\n",
        "&&&&&&&&&&&&&&&&&&&&&&&&&\n"
       ]
      }
     ],
     "prompt_number": 2
    },
    {
     "cell_type": "heading",
     "level": 2,
     "metadata": {},
     "source": [
      "Example-square.cpp, Page no-230"
     ]
    },
    {
     "cell_type": "code",
     "collapsed": false,
     "input": [
      "def sqr(num):\n",
      "    return num*num\n",
      "n=float(raw_input(\"Enter a number: \"))\n",
      "print \"Its square =\",sqr(n)\n",
      "print \"sqr( 10 ) =\", sqr(10)"
     ],
     "language": "python",
     "metadata": {},
     "outputs": [
      {
       "name": "stdout",
       "output_type": "stream",
       "stream": "stdout",
       "text": [
        "Enter a number: 5\n"
       ]
      },
      {
       "output_type": "stream",
       "stream": "stdout",
       "text": [
        "Its square = 25.0\n",
        "sqr( 10 ) = 100\n"
       ]
      }
     ],
     "prompt_number": 8
    },
    {
     "cell_type": "heading",
     "level": 2,
     "metadata": {},
     "source": [
      "Example-swap4.cpp, Page no-231"
     ]
    },
    {
     "cell_type": "code",
     "collapsed": false,
     "input": [
      "#different swap functions\n",
      "def swap_char(x, y):\n",
      "    t=x\n",
      "    x=y\n",
      "    y=t\n",
      "    return x, y\n",
      "def swap_int(x, y):\n",
      "    t=x\n",
      "    x=y\n",
      "    y=t\n",
      "    return x, y\n",
      "def swap_float(x, y):\n",
      "    t=x\n",
      "    x=y\n",
      "    y=t\n",
      "    return x, y\n",
      "ch1, ch2=[str(x) for x in raw_input(\"Enter two characters <ch1, ch2>: \").split()]\n",
      "ch1, ch2 = swap_char(ch1, ch2)\n",
      "print \"On swapping <ch1, ch2>:\", ch1, ch2\n",
      "a, b=[int(x) for x in raw_input(\"Enter two characters <a, b>: \").split()]\n",
      "a, b = swap_int(a, b)\n",
      "print \"On swapping <a, b>:\", a,b\n",
      "c, d=[float(x) for x in raw_input(\"Enter two floats <c, d>: \").split()]\n",
      "c, d = swap_float(c, d)\n",
      "print \"On swapping <c, d>:\", c, d"
     ],
     "language": "python",
     "metadata": {},
     "outputs": [
      {
       "name": "stdout",
       "output_type": "stream",
       "stream": "stdout",
       "text": [
        "Enter two characters <ch1, ch2>: R K\n"
       ]
      },
      {
       "output_type": "stream",
       "stream": "stdout",
       "text": [
        "On swapping <ch1, ch2>: K R\n"
       ]
      },
      {
       "name": "stdout",
       "output_type": "stream",
       "stream": "stdout",
       "text": [
        "Enter two characters <a, b>: 5 10\n"
       ]
      },
      {
       "output_type": "stream",
       "stream": "stdout",
       "text": [
        "On swapping <a, b>: 10 5\n"
       ]
      },
      {
       "name": "stdout",
       "output_type": "stream",
       "stream": "stdout",
       "text": [
        "Enter two floats <c, d>: 20.5 99.5\n"
       ]
      },
      {
       "output_type": "stream",
       "stream": "stdout",
       "text": [
        "On swapping <c, d>: 99.5 20.5\n"
       ]
      }
     ],
     "prompt_number": 3
    },
    {
     "cell_type": "heading",
     "level": 2,
     "metadata": {},
     "source": [
      "Example-swap5.cpp, Page no-233"
     ]
    },
    {
     "cell_type": "code",
     "collapsed": false,
     "input": [
      "def swap(x, y): #function overloading\n",
      "    t=x\n",
      "    x=y\n",
      "    y=t\n",
      "    return x, y\n",
      "ch1, ch2=[str(x) for x in raw_input(\"Enter two characters <ch1, ch2>: \").split()]\n",
      "ch1, ch2 = swap(ch1, ch2)\n",
      "print \"On swapping <ch1, ch2>:\", ch1, ch2\n",
      "a, b=[int(x) for x in raw_input(\"Enter two characters <a, b>: \").split()]\n",
      "a, b = swap(a, b)\n",
      "print \"On swapping <a, b>:\", a,b\n",
      "c, d=[float(x) for x in raw_input(\"Enter two floats <c, d>: \").split()]\n",
      "c, d = swap(c, d)\n",
      "print \"On swapping <c, d>:\", c, d"
     ],
     "language": "python",
     "metadata": {},
     "outputs": [
      {
       "name": "stdout",
       "output_type": "stream",
       "stream": "stdout",
       "text": [
        "Enter two characters <ch1, ch2>: R K\n"
       ]
      },
      {
       "output_type": "stream",
       "stream": "stdout",
       "text": [
        "On swapping <ch1, ch2>: K R\n"
       ]
      },
      {
       "name": "stdout",
       "output_type": "stream",
       "stream": "stdout",
       "text": [
        "Enter two characters <a, b>: 5 10\n"
       ]
      },
      {
       "output_type": "stream",
       "stream": "stdout",
       "text": [
        "On swapping <a, b>: 10 5\n"
       ]
      },
      {
       "name": "stdout",
       "output_type": "stream",
       "stream": "stdout",
       "text": [
        "Enter two floats <c, d>: 20.5 99.5\n"
       ]
      },
      {
       "output_type": "stream",
       "stream": "stdout",
       "text": [
        "On swapping <c, d>: 99.5 20.5\n"
       ]
      }
     ],
     "prompt_number": 4
    },
    {
     "cell_type": "heading",
     "level": 2,
     "metadata": {},
     "source": [
      "Example-show.cpp, Page no-234"
     ]
    },
    {
     "cell_type": "code",
     "collapsed": false,
     "input": [
      "def show(val): #function overloading\n",
      "    if(isinstance(val, int)):\n",
      "        print \"Integer:\", val\n",
      "    if(isinstance(val, float)):\n",
      "        print \"Double:\", val\n",
      "    if(isinstance(val, str)):\n",
      "        print \"String:\", val\n",
      "show(420)\n",
      "show(3.1415)\n",
      "show(\"Hello World!\")"
     ],
     "language": "python",
     "metadata": {},
     "outputs": [
      {
       "output_type": "stream",
       "stream": "stdout",
       "text": [
        "Integer: 420\n",
        "Double: 3.1415\n",
        "String: Hello World!\n"
       ]
      }
     ],
     "prompt_number": 5
    },
    {
     "cell_type": "heading",
     "level": 2,
     "metadata": {},
     "source": [
      "Example-swap6.cpp, Page no-236"
     ]
    },
    {
     "cell_type": "code",
     "collapsed": false,
     "input": [
      "def swap(x, y):\n",
      "    t=x\n",
      "    x=y\n",
      "    y=t\n",
      "    return x, y\n",
      "ch1, ch2=[str(x) for x in raw_input(\"Enter two characters <ch1, ch2>: \").split()]\n",
      "ch1, ch2 = swap(ch1, ch2)\n",
      "print \"On swapping <ch1, ch2>:\", ch1, ch2\n",
      "a, b=[int(x) for x in raw_input(\"Enter two characters <a, b>: \").split()]\n",
      "a, b = swap(a, b)\n",
      "print \"On swapping <a, b>:\", a,b\n",
      "c, d=[float(x) for x in raw_input(\"Enter two floats <c, d>: \").split()]\n",
      "c, d = swap(c, d)\n",
      "print \"On swapping <c, d>:\", c, d"
     ],
     "language": "python",
     "metadata": {},
     "outputs": [
      {
       "name": "stdout",
       "output_type": "stream",
       "stream": "stdout",
       "text": [
        "Enter two characters <ch1, ch2>: R K\n"
       ]
      },
      {
       "output_type": "stream",
       "stream": "stdout",
       "text": [
        "On swapping <ch1, ch2>: K R\n"
       ]
      },
      {
       "name": "stdout",
       "output_type": "stream",
       "stream": "stdout",
       "text": [
        "Enter two characters <a, b>: 5 10\n"
       ]
      },
      {
       "output_type": "stream",
       "stream": "stdout",
       "text": [
        "On swapping <a, b>: 10 5\n"
       ]
      },
      {
       "name": "stdout",
       "output_type": "stream",
       "stream": "stdout",
       "text": [
        "Enter two floats <c, d>: 20.5 99.5\n"
       ]
      },
      {
       "output_type": "stream",
       "stream": "stdout",
       "text": [
        "On swapping <c, d>: 99.5 20.5\n"
       ]
      }
     ],
     "prompt_number": 6
    },
    {
     "cell_type": "heading",
     "level": 2,
     "metadata": {},
     "source": [
      "Example-sort.cpp, Page no-237"
     ]
    },
    {
     "cell_type": "code",
     "collapsed": false,
     "input": [
      "(false, true)=(0, 1) #enum type\n",
      "type =['false', 'true']\n",
      "def swap(x, y):\n",
      "    x, y=y, x\n",
      "    return x, y\n",
      "def BubbleSort(a, size):\n",
      "    swapped='true'\n",
      "    for i in range(size-1):\n",
      "        if swapped:\n",
      "            swapped='false'\n",
      "            for j in range((size-1)-i):\n",
      "                if a[j]>a[j+1]:\n",
      "                    swapped='true'\n",
      "                    a[j], a[j+1]=swap(a[j], a[j+1])\n",
      "    return a\n",
      "a=[int]*25\n",
      "print \"Program to sort elements...\"\n",
      "size=int(raw_input(\"Enter the size of the integer vector <max-25>: \"))\n",
      "print \"Enter the elements of the integer vector...\"\n",
      "for i in range(size):\n",
      "    a[i]=int(raw_input())\n",
      "a=BubbleSort(a, size)\n",
      "print \"Sorted Vector:\"\n",
      "for i in range(size):\n",
      "    print a[i],"
     ],
     "language": "python",
     "metadata": {},
     "outputs": [
      {
       "output_type": "stream",
       "stream": "stdout",
       "text": [
        "Program to sort elements...\n"
       ]
      },
      {
       "name": "stdout",
       "output_type": "stream",
       "stream": "stdout",
       "text": [
        "Enter the size of the integer vector <max-25>: 5\n"
       ]
      },
      {
       "output_type": "stream",
       "stream": "stdout",
       "text": [
        "Enter the elements of the integer vector...\n"
       ]
      },
      {
       "name": "stdout",
       "output_type": "stream",
       "stream": "stdout",
       "text": [
        "8\n"
       ]
      },
      {
       "name": "stdout",
       "output_type": "stream",
       "stream": "stdout",
       "text": [
        "6\n"
       ]
      },
      {
       "name": "stdout",
       "output_type": "stream",
       "stream": "stdout",
       "text": [
        "9\n"
       ]
      },
      {
       "name": "stdout",
       "output_type": "stream",
       "stream": "stdout",
       "text": [
        "3\n"
       ]
      },
      {
       "name": "stdout",
       "output_type": "stream",
       "stream": "stdout",
       "text": [
        "2\n"
       ]
      },
      {
       "output_type": "stream",
       "stream": "stdout",
       "text": [
        "Sorted Vector:\n",
        "2 3 6 8 9\n"
       ]
      }
     ],
     "prompt_number": 1
    },
    {
     "cell_type": "heading",
     "level": 2,
     "metadata": {},
     "source": [
      "Example-linear.cpp, Page no-239"
     ]
    },
    {
     "cell_type": "code",
     "collapsed": false,
     "input": [
      "def linear(arr, num):\n",
      "    for i in range(10):\n",
      "        if arr[i]==num:\n",
      "            return i\n",
      "    return -1\n",
      "a=[10, 20, 5, 59, 63, 22, 18, 99, 11, 65] # 1-D array\n",
      "element=int(raw_input(\"Enter the element to be searched: \"))\n",
      "result=linear(a, element)\n",
      "if result==-1:\n",
      "    print element, \"is not present in the array\"\n",
      "else:\n",
      "    print element, \"is present at\",result, \"location in the array\""
     ],
     "language": "python",
     "metadata": {},
     "outputs": [
      {
       "name": "stdout",
       "output_type": "stream",
       "stream": "stdout",
       "text": [
        "Enter the element to be searched: 88\n"
       ]
      },
      {
       "output_type": "stream",
       "stream": "stdout",
       "text": [
        "88 is not present in the array\n"
       ]
      }
     ],
     "prompt_number": 7
    },
    {
     "cell_type": "heading",
     "level": 2,
     "metadata": {},
     "source": [
      "Example-funcstk.cpp, Page no-240"
     ]
    },
    {
     "cell_type": "code",
     "collapsed": false,
     "input": [
      "def Func(j, k):\n",
      "    print \"In the function the argument values are\", j, \"..\", k\n",
      "i=99\n",
      "Func(i+1, i)"
     ],
     "language": "python",
     "metadata": {},
     "outputs": [
      {
       "output_type": "stream",
       "stream": "stdout",
       "text": [
        "In the function the argument values are 100 .. 99\n"
       ]
      }
     ],
     "prompt_number": 7
    },
    {
     "cell_type": "heading",
     "level": 2,
     "metadata": {},
     "source": [
      "Example-variable.cpp, Page no-241"
     ]
    },
    {
     "cell_type": "code",
     "collapsed": false,
     "input": [
      "g=100\n",
      "def func1():\n",
      "    g=50\n",
      "    print \"Local variable g in func1() :\", g\n",
      "def func2():\n",
      "    global g\n",
      "    print \"In func2() g is visible since it is global.\"\n",
      "    print \"Incremeting g in func...\"\n",
      "    g+=1\n",
      "print \"In main g is visible here since g is global.\"\n",
      "print \"Assigning 20 to g in main...\"\n",
      "g=20\n",
      "print \"Calling func1...\"\n",
      "func1()\n",
      "print \"func1 returned. g is\", g\n",
      "print \"Calling func2...\"\n",
      "func2()\n",
      "print \"func2 returned. g is\", g"
     ],
     "language": "python",
     "metadata": {},
     "outputs": [
      {
       "output_type": "stream",
       "stream": "stdout",
       "text": [
        "In main g is visible here since g is global.\n",
        "Assigning 20 to g in main...\n",
        "Calling func1...\n",
        "Local variable g in func1() : 50\n",
        "func1 returned. g is 20\n",
        "Calling func2...\n",
        "In func2() g is visible since it is global.\n",
        "Incremeting g in func...\n",
        "func2 returned. g is 21\n"
       ]
      }
     ],
     "prompt_number": 8
    },
    {
     "cell_type": "heading",
     "level": 2,
     "metadata": {},
     "source": [
      "Example-regvar.cpp, Page no-244"
     ]
    },
    {
     "cell_type": "code",
     "collapsed": false,
     "input": [
      "import sys\n",
      "i=int\n",
      "name=raw_input(\"Enter a string: \")\n",
      "print \"The reverse of the string is: \",\n",
      "for i in range(len(name)-1, -1, -1):\n",
      "    sys.stdout.write(name[i])"
     ],
     "language": "python",
     "metadata": {},
     "outputs": [
      {
       "name": "stdout",
       "output_type": "stream",
       "stream": "stdout",
       "text": [
        "Enter a string: mahatma\n"
       ]
      },
      {
       "output_type": "stream",
       "stream": "stdout",
       "text": [
        "The reverse of the string is: amtaham\n"
       ]
      }
     ],
     "prompt_number": 1
    },
    {
     "cell_type": "heading",
     "level": 2,
     "metadata": {},
     "source": [
      "Example-count.cpp, Page no-245"
     ]
    },
    {
     "cell_type": "code",
     "collapsed": false,
     "input": [
      "def PrintCount(Count=[1]):\n",
      "    print 'Count =', Count[0]\n",
      "    Count[0]=Count[0]+1\n",
      "PrintCount()\n",
      "PrintCount()\n",
      "PrintCount()"
     ],
     "language": "python",
     "metadata": {},
     "outputs": [
      {
       "output_type": "stream",
       "stream": "stdout",
       "text": [
        "Count = 1\n",
        "Count = 2\n",
        "Count = 3\n"
       ]
      }
     ],
     "prompt_number": 1
    },
    {
     "cell_type": "heading",
     "level": 2,
     "metadata": {},
     "source": [
      "Example-add.cpp, Page no-247"
     ]
    },
    {
     "cell_type": "code",
     "collapsed": false,
     "input": [
      "def add(*argc):#variable number of arguments to the function\n",
      "    result=0\n",
      "    for i in range(1, argc[0]+1):\n",
      "        result+=argc[i]\n",
      "    return result\n",
      "sum1=add(3, 1, 2, 3)\n",
      "print \"sum1 =\", sum1\n",
      "sum2=add(1, 10)\n",
      "print \"sum2 =\", sum2\n",
      "sum3=add(0)\n",
      "print \"sum3 =\", sum3"
     ],
     "language": "python",
     "metadata": {},
     "outputs": [
      {
       "output_type": "stream",
       "stream": "stdout",
       "text": [
        "sum1 = 6\n",
        "sum2 = 10\n",
        "sum3 = 0\n"
       ]
      }
     ],
     "prompt_number": 1
    },
    {
     "cell_type": "heading",
     "level": 2,
     "metadata": {},
     "source": [
      "Example-sum.cpp, Page no-248"
     ]
    },
    {
     "cell_type": "code",
     "collapsed": false,
     "input": [
      "def sum(*msg): #variable number of arguments to the function\n",
      "    total=0\n",
      "    i=1\n",
      "    while(msg[i]!=0):\n",
      "        total+=msg[i]\n",
      "        i+=1\n",
      "    print msg[0], total\n",
      "sum(\"The total of 1+2+3+4 is\", 1, 2, 3, 4, 0)"
     ],
     "language": "python",
     "metadata": {},
     "outputs": [
      {
       "output_type": "stream",
       "stream": "stdout",
       "text": [
        "The total of 1+2+3+4 is 10\n"
       ]
      }
     ],
     "prompt_number": 1
    },
    {
     "cell_type": "heading",
     "level": 2,
     "metadata": {},
     "source": [
      "Example-rfact.cpp, Page no-250"
     ]
    },
    {
     "cell_type": "code",
     "collapsed": false,
     "input": [
      "def fact(num): #recursive function\n",
      "    if num==0:\n",
      "        return 1\n",
      "    else:\n",
      "        return num*fact(num-1)\n",
      "n=int(raw_input(\"Enter the number whose factorial is to be found: \"))\n",
      "print \"The factorial of\", n, \"is\", fact(n)"
     ],
     "language": "python",
     "metadata": {},
     "outputs": [
      {
       "name": "stdout",
       "output_type": "stream",
       "stream": "stdout",
       "text": [
        "Enter the number whose factorial is to be found: 5\n"
       ]
      },
      {
       "output_type": "stream",
       "stream": "stdout",
       "text": [
        "The factorial of 5 is 120\n"
       ]
      }
     ],
     "prompt_number": 1
    },
    {
     "cell_type": "heading",
     "level": 2,
     "metadata": {},
     "source": [
      "Example-hanoi.cpp, Page no-250"
     ]
    },
    {
     "cell_type": "code",
     "collapsed": false,
     "input": [
      "def hanoi(n, left, mid, right): #recursive function\n",
      "    if n!=0:\n",
      "        hanoi(n-1, left, right, mid)\n",
      "        print 'Move disk', n, 'from', left, 'to', right\n",
      "        hanoi(n-1, mid, left, right)\n",
      "source='L'\n",
      "intermediate='C'\n",
      "destination='R'\n",
      "nvalue=int(raw_input('Enter number of disks: '))\n",
      "hanoi(nvalue, source, intermediate, destination)"
     ],
     "language": "python",
     "metadata": {},
     "outputs": [
      {
       "name": "stdout",
       "output_type": "stream",
       "stream": "stdout",
       "text": [
        "Enter number of disks: 3\n"
       ]
      },
      {
       "output_type": "stream",
       "stream": "stdout",
       "text": [
        "Move disk 1 from L to R\n",
        "Move disk 2 from L to C\n",
        "Move disk 1 from R to C\n",
        "Move disk 3 from L to R\n",
        "Move disk 1 from C to L\n",
        "Move disk 2 from C to R\n",
        "Move disk 1 from L to R\n"
       ]
      }
     ],
     "prompt_number": 4
    },
    {
     "cell_type": "heading",
     "level": 2,
     "metadata": {},
     "source": [
      "Example Page no-254"
     ]
    },
    {
     "cell_type": "code",
     "collapsed": false,
     "input": [
      "def power(x1, y1=None):\n",
      "    if (isinstance(y1, int)):\n",
      "        result=1.0\n",
      "        for i in range(1, y1+1):\n",
      "            result=result*x1\n",
      "        return result\n",
      "    else:\n",
      "        return x1*x1\n",
      "x=float(raw_input(\"Enter the value of x: \"))\n",
      "y=int(raw_input(\"Enter the value of y: \"))\n",
      "print \"power(x, y) =\", power(x, y)\n",
      "print \"power(x) =\", power(x)"
     ],
     "language": "python",
     "metadata": {},
     "outputs": [
      {
       "name": "stdout",
       "output_type": "stream",
       "stream": "stdout",
       "text": [
        "Enter the value of x: 9.5\n"
       ]
      },
      {
       "name": "stdout",
       "output_type": "stream",
       "stream": "stdout",
       "text": [
        "Enter the value of y: 4\n"
       ]
      },
      {
       "output_type": "stream",
       "stream": "stdout",
       "text": [
        "power(x, y) = 8145.0625\n",
        "power(x) = 90.25\n"
       ]
      }
     ],
     "prompt_number": 1
    }
   ],
   "metadata": {}
  }
 ]
}