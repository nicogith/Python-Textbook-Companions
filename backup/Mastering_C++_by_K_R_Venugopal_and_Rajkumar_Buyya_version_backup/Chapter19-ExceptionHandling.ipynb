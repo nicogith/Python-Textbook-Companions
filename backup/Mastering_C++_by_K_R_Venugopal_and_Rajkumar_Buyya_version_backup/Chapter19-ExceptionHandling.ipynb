{
 "metadata": {
  "name": "",
  "signature": "sha256:3313deb61b605e4e7573c1c706ba00b703ad3ca8e59ab2363418ae531f9382dc"
 },
 "nbformat": 3,
 "nbformat_minor": 0,
 "worksheets": [
  {
   "cells": [
    {
     "cell_type": "heading",
     "level": 1,
     "metadata": {},
     "source": [
      "Chapter 19-Exception Handling"
     ]
    },
    {
     "cell_type": "heading",
     "level": 2,
     "metadata": {},
     "source": [
      "Example-divzero.cpp, Page no-770"
     ]
    },
    {
     "cell_type": "code",
     "collapsed": false,
     "input": [
      "class number:\n",
      "    __num=int\n",
      "    def read(self):\n",
      "        self.__num=int(raw_input())\n",
      "    class DIVIDE():\n",
      "        pass\n",
      "    def div(self, num2):\n",
      "        if num2.__num==0:\n",
      "            raise self.DIVIDE()\n",
      "        else:\n",
      "            return self.__num/num2.__num\n",
      "num1=number()\n",
      "num2=number()\n",
      "print \"Enter Number 1: \",\n",
      "num1.read()\n",
      "print \"Enter Number 2: \",\n",
      "num2.read()\n",
      "try:\n",
      "    print \"trying division operation...\",\n",
      "    result=num1.div(num2)\n",
      "    print \"succeeded\"\n",
      "except number.DIVIDE:\n",
      "    print \"failed\"\n",
      "    print \"Exception: Divide-By-Zero\"\n",
      "else:\n",
      "    print \"num1/num2 =\", result"
     ],
     "language": "python",
     "metadata": {},
     "outputs": [
      {
       "output_type": "stream",
       "stream": "stdout",
       "text": [
        "Enter Number 1: "
       ]
      },
      {
       "name": "stdout",
       "output_type": "stream",
       "stream": "stdout",
       "text": [
        "10\n"
       ]
      },
      {
       "output_type": "stream",
       "stream": "stdout",
       "text": [
        " Enter Number 2: "
       ]
      },
      {
       "name": "stdout",
       "output_type": "stream",
       "stream": "stdout",
       "text": [
        "0\n"
       ]
      },
      {
       "output_type": "stream",
       "stream": "stdout",
       "text": [
        " trying division operation... failed\n",
        "Exception: Divide-By-Zero\n"
       ]
      }
     ],
     "prompt_number": 1
    },
    {
     "cell_type": "heading",
     "level": 2,
     "metadata": {},
     "source": [
      "Example-arrbound.cpp, Page no-772"
     ]
    },
    {
     "cell_type": "code",
     "collapsed": false,
     "input": [
      "ARR_SIZE=10\n",
      "class array:\n",
      "    __arr=[int]*ARR_SIZE\n",
      "    class RANGE():\n",
      "        pass\n",
      "    #overloading []\n",
      "    def op(self, i, x):\n",
      "        if i<0 or i>=ARR_SIZE:\n",
      "            raise self.RANGE()\n",
      "        self.__arr[i]=x\n",
      "a=array()\n",
      "print \"Maximum array size allowed =\", ARR_SIZE\n",
      "try:\n",
      "    print \"Trying to refer a[1]...\",\n",
      "    a.op(1, 10) #a[1]=10\n",
      "    print \"succeeded\"\n",
      "    print \"Trying to refer a[15]...\",\n",
      "    a.op(15, 10) #a[15]=10\n",
      "    print \"succeeded\"\n",
      "except array.RANGE:\n",
      "    print \"Out of Range in Array Reference\""
     ],
     "language": "python",
     "metadata": {},
     "outputs": [
      {
       "output_type": "stream",
       "stream": "stdout",
       "text": [
        "Maximum array size allowed = 10\n",
        "Trying to refer a[1]... succeeded\n",
        "Trying to refer a[15]... Out of Range in Array Reference\n"
       ]
      }
     ],
     "prompt_number": 1
    },
    {
     "cell_type": "heading",
     "level": 2,
     "metadata": {},
     "source": [
      "Example-pass.cpp, Page no-774"
     ]
    },
    {
     "cell_type": "code",
     "collapsed": false,
     "input": [
      "ARR_SIZE=10\n",
      "class array:\n",
      "    __arr=[int]*ARR_SIZE\n",
      "    class RANGE():\n",
      "        pass\n",
      "    def __init__(self):\n",
      "        for i in range(ARR_SIZE):\n",
      "            self.__arr[i]=i\n",
      "    #overloading []\n",
      "    def op(self, i, x=None):\n",
      "        if i<0 or i>=ARR_SIZE:\n",
      "            raise self.RANGE()\n",
      "        if isinstance(x, int):\n",
      "            self.__arr[i]=x\n",
      "        else:\n",
      "            return self.__arr[i]\n",
      "def read(a, index):\n",
      "    try:\n",
      "        element=a.op(index)\n",
      "    except array.RANGE:\n",
      "        print \"Parent passing exception to child to handle\"\n",
      "        raise\n",
      "    return element\n",
      "a=array()\n",
      "print \"Maximum array size allowed =\", ARR_SIZE\n",
      "while(1):\n",
      "    index=int(raw_input(\"Enter element to be referenced: \"))\n",
      "    try:\n",
      "        print \"Trying to access object array 'a' for index =\", index\n",
      "        element=read(a, index)\n",
      "        print \"Elemnet in Array =\", element\n",
      "    except array.RANGE:\n",
      "        print \"Child: Out of Range in Array Reference\"\n",
      "        break"
     ],
     "language": "python",
     "metadata": {},
     "outputs": [
      {
       "output_type": "stream",
       "stream": "stdout",
       "text": [
        "Maximum array size allowed = 10\n"
       ]
      },
      {
       "name": "stdout",
       "output_type": "stream",
       "stream": "stdout",
       "text": [
        "Enter element to be referenced: 1\n"
       ]
      },
      {
       "output_type": "stream",
       "stream": "stdout",
       "text": [
        "Trying to access object array 'a' for index = 1\n",
        "Elemnet in Array = 1\n"
       ]
      },
      {
       "name": "stdout",
       "output_type": "stream",
       "stream": "stdout",
       "text": [
        "Enter element to be referenced: 5\n"
       ]
      },
      {
       "output_type": "stream",
       "stream": "stdout",
       "text": [
        "Trying to access object array 'a' for index = 5\n",
        "Elemnet in Array = 5\n"
       ]
      },
      {
       "name": "stdout",
       "output_type": "stream",
       "stream": "stdout",
       "text": [
        "Enter element to be referenced: 10\n"
       ]
      },
      {
       "output_type": "stream",
       "stream": "stdout",
       "text": [
        "Trying to access object array 'a' for index = 10\n",
        "Parent passing exception to child to handle\n",
        "Child: Out of Range in Array Reference\n"
       ]
      }
     ],
     "prompt_number": 1
    },
    {
     "cell_type": "heading",
     "level": 2,
     "metadata": {},
     "source": [
      "Example-sign1.cpp, Page no-777"
     ]
    },
    {
     "cell_type": "code",
     "collapsed": false,
     "input": [
      "class positive:\n",
      "    pass\n",
      "class negative:\n",
      "    pass\n",
      "class zero:\n",
      "    pass\n",
      "def what_sign(num): #no exception list in python and hence the except block for class zero is removed to produce the desired output\n",
      "    if num>0:\n",
      "        raise positive()\n",
      "    elif num<0:\n",
      "        raise negative()\n",
      "    else:\n",
      "        raise zero()\n",
      "num=int(raw_input(\"Enter any number: \"))\n",
      "try:\n",
      "    what_sign(num)\n",
      "except positive:\n",
      "    print \"+ve Exception\"\n",
      "except negative:\n",
      "    print \"-ve Exception\""
     ],
     "language": "python",
     "metadata": {},
     "outputs": [
      {
       "name": "stdout",
       "output_type": "stream",
       "stream": "stdout",
       "text": [
        "Enter any number: -10\n"
       ]
      },
      {
       "output_type": "stream",
       "stream": "stdout",
       "text": [
        "-ve Exception\n"
       ]
      }
     ],
     "prompt_number": 1
    },
    {
     "cell_type": "heading",
     "level": 2,
     "metadata": {},
     "source": [
      "Example-sign2.cpp, Page no-778"
     ]
    },
    {
     "cell_type": "code",
     "collapsed": false,
     "input": [
      "class zero:\n",
      "    pass\n",
      "def what_sign(num): #no exception list in python and hence the except block for class zero is removed to produce the desired output\n",
      "    if num>0:\n",
      "        print \"+ve Exception\"\n",
      "    elif num<0:\n",
      "        print \"-ve Exception\"\n",
      "    else:\n",
      "        raise zero()\n",
      "num=int(raw_input(\"Enter any number: \"))\n",
      "what_sign(num)"
     ],
     "language": "python",
     "metadata": {},
     "outputs": [
      {
       "name": "stdout",
       "output_type": "stream",
       "stream": "stdout",
       "text": [
        "Enter any number: 10\n"
       ]
      },
      {
       "output_type": "stream",
       "stream": "stdout",
       "text": [
        "+ve Exception\n"
       ]
      }
     ],
     "prompt_number": 1
    },
    {
     "cell_type": "heading",
     "level": 2,
     "metadata": {},
     "source": [
      "Example-catall1.cpp, Page no-780"
     ]
    },
    {
     "cell_type": "code",
     "collapsed": false,
     "input": [
      "class excep2:\n",
      "    pass\n",
      "try:\n",
      "    print \"Throwing uncaught exception\"\n",
      "    raise excep2()\n",
      "except:\n",
      "    print \"Caught all exceptions\"\n",
      "print \"I am displayed\""
     ],
     "language": "python",
     "metadata": {},
     "outputs": [
      {
       "output_type": "stream",
       "stream": "stdout",
       "text": [
        "Throwing uncaught exception\n",
        "Caught all exceptions\n",
        "I am displayed\n"
       ]
      }
     ],
     "prompt_number": 1
    },
    {
     "cell_type": "heading",
     "level": 2,
     "metadata": {},
     "source": [
      "Example-catall2.cpp, Page no-780"
     ]
    },
    {
     "cell_type": "code",
     "collapsed": false,
     "input": [
      "class ALPHA:\n",
      "    pass\n",
      "_a=ALPHA()\n",
      "def f3():\n",
      "    print \"f3() was called\"\n",
      "    raise _a\n",
      "def f2():\n",
      "    try:\n",
      "        print \"f2() was called\"\n",
      "        f3()\n",
      "    except:\n",
      "        print \"f2() has elements with exceptions!\"\n",
      "try:\n",
      "    f2()\n",
      "except:\n",
      "    print \"Need more handlers!\"\n",
      "    print \"continud after handling exceptions\""
     ],
     "language": "python",
     "metadata": {},
     "outputs": [
      {
       "output_type": "stream",
       "stream": "stdout",
       "text": [
        "f2() was called\n",
        "f3() was called\n",
        "f2() has elements with exceptions!\n"
       ]
      }
     ],
     "prompt_number": 1
    },
    {
     "cell_type": "heading",
     "level": 2,
     "metadata": {},
     "source": [
      "Example-twoexcep.cpp, Page no-782"
     ]
    },
    {
     "cell_type": "code",
     "collapsed": false,
     "input": [
      "ARR_SIZE=10\n",
      "class array:\n",
      "    __arr=[int]\n",
      "    __size=int\n",
      "    class RANGE:\n",
      "        pass\n",
      "    class SIZE:\n",
      "        pass\n",
      "    def __init__(self, SizeRequest):\n",
      "        self.__arr=[int]*SizeRequest\n",
      "        if SizeRequest<0 or SizeRequest>ARR_SIZE:\n",
      "            raise self.SIZE()\n",
      "        self.__size=SizeRequest\n",
      "    def __del__(self):\n",
      "        del self.__arr\n",
      "    #overloading []\n",
      "    def op(self, i, x=None):\n",
      "        if i<0 or i>=self.__size:\n",
      "            raise self.RANGE()\n",
      "        elif isinstance(x, int):\n",
      "            self.__arr[i]=x\n",
      "        else:\n",
      "            return self.__arr[i]\n",
      "print \"Maximum array size allowed =\", ARR_SIZE\n",
      "try:\n",
      "    print \"Trying to create object a1(5)...\",\n",
      "    a1=array(5)\n",
      "    print \"succeeded\"\n",
      "    print \"Trying to refer a1[4]...\",\n",
      "    a1.op(4, 10) #a1[4]=10\n",
      "    print \"succeeded..\",\n",
      "    print \"a1[4] =\", a1.op(4) #a1[4]\n",
      "    print \"Trying to refer a1[15]...\",\n",
      "    a1.op(15, 10) #a1[15]=10\n",
      "    print \"succeeded\"\n",
      "except array.SIZE:\n",
      "    print \"..Size exceeds allowable Limit\"\n",
      "except array.RANGE:\n",
      "    print \"..Array Reference Out of Range\"\n",
      "try:\n",
      "    print \"Trying to create object a2(15)...\",\n",
      "    a2=array(15)\n",
      "    print \"succeeded\"\n",
      "    a2.op(3, 3) #a2[3]=3\n",
      "except array.SIZE:\n",
      "    print \"..Size exceeds allowable Limit\"\n",
      "except array.RANGE:\n",
      "    print \"..Array Reference Out of Range\"    "
     ],
     "language": "python",
     "metadata": {},
     "outputs": [
      {
       "output_type": "stream",
       "stream": "stdout",
       "text": [
        "Maximum array size allowed = 10\n",
        "Trying to create object a1(5)... succeeded\n",
        "Trying to refer a1[4]... succeeded.. a1[4] = 10\n",
        "Trying to refer a1[15]... ..Array Reference Out of Range\n",
        "Trying to create object a2(15)... ..Size exceeds allowable Limit\n"
       ]
      }
     ],
     "prompt_number": 1
    },
    {
     "cell_type": "heading",
     "level": 2,
     "metadata": {},
     "source": [
      "Example-uncaught.cpp, Page no-784"
     ]
    },
    {
     "cell_type": "code",
     "collapsed": false,
     "input": [
      "#error because there is no block to handles exceptions of type excep2()\n",
      "class excep1:\n",
      "    pass\n",
      "class excep2:\n",
      "    pass\n",
      "try:\n",
      "    print \"Throwing uncaught exception\"\n",
      "    raise excep2()\n",
      "except excep1:\n",
      "    print \"Exception 1\"\n",
      "    print \"I am not displayed\""
     ],
     "language": "python",
     "metadata": {},
     "outputs": [
      {
       "output_type": "stream",
       "stream": "stdout",
       "text": [
        "Throwing uncaught exception\n"
       ]
      },
      {
       "ename": "excep2",
       "evalue": "<__main__.excep2 instance at 0x00000000039A8408>",
       "output_type": "pyerr",
       "traceback": [
        "\u001b[1;31m---------------------------------------------------------------------------\u001b[0m\n\u001b[1;31mexcep2\u001b[0m                                    Traceback (most recent call last)",
        "\u001b[1;32m<ipython-input-2-6ced6b7c0667>\u001b[0m in \u001b[0;36m<module>\u001b[1;34m()\u001b[0m\n\u001b[0;32m      5\u001b[0m \u001b[1;32mtry\u001b[0m\u001b[1;33m:\u001b[0m\u001b[1;33m\u001b[0m\u001b[0m\n\u001b[0;32m      6\u001b[0m     \u001b[1;32mprint\u001b[0m \u001b[1;34m\"Throwing uncaught exception\"\u001b[0m\u001b[1;33m\u001b[0m\u001b[0m\n\u001b[1;32m----> 7\u001b[1;33m     \u001b[1;32mraise\u001b[0m \u001b[0mexcep2\u001b[0m\u001b[1;33m(\u001b[0m\u001b[1;33m)\u001b[0m\u001b[1;33m\u001b[0m\u001b[0m\n\u001b[0m\u001b[0;32m      8\u001b[0m \u001b[1;32mexcept\u001b[0m \u001b[0mexcep1\u001b[0m\u001b[1;33m:\u001b[0m\u001b[1;33m\u001b[0m\u001b[0m\n\u001b[0;32m      9\u001b[0m     \u001b[1;32mprint\u001b[0m \u001b[1;34m\"Exception 1\"\u001b[0m\u001b[1;33m\u001b[0m\u001b[0m\n",
        "\u001b[1;31mexcep2\u001b[0m: <__main__.excep2 instance at 0x00000000039A8408>"
       ]
      }
     ],
     "prompt_number": 2
    },
    {
     "cell_type": "heading",
     "level": 2,
     "metadata": {},
     "source": [
      "Example-myhand.cpp, Page no-786"
     ]
    },
    {
     "cell_type": "code",
     "collapsed": false,
     "input": [
      "class excep1:\n",
      "    pass\n",
      "class excep2:\n",
      "    pass\n",
      "def MyTerminate():\n",
      "    print \"My terminate is invoked\"\n",
      "    return \n",
      "try:\n",
      "    print \"Throwing uncaught exception\"\n",
      "    raise excep2()\n",
      "except excep1:\n",
      "    print \"Exception 1\"\n",
      "    print \"I am not displayed\"\n",
      "except:\n",
      "    MyTerminate()"
     ],
     "language": "python",
     "metadata": {},
     "outputs": [
      {
       "output_type": "stream",
       "stream": "stdout",
       "text": [
        "Throwing uncaught exception\n",
        "My terminate is invoked\n"
       ]
      }
     ],
     "prompt_number": 1
    },
    {
     "cell_type": "heading",
     "level": 2,
     "metadata": {},
     "source": [
      "Example-sign3.cpp, Page no-787"
     ]
    },
    {
     "cell_type": "code",
     "collapsed": false,
     "input": [
      "class zero:\n",
      "    pass\n",
      "def what_sign(num):#no exception list in python and hence the except block is removed to produce the desired output\n",
      "    if num>0:\n",
      "        print \"+ve Exception\"\n",
      "    elif num<0:\n",
      "        print \"-ve Exception\"\n",
      "    else:\n",
      "        raise zero()\n",
      "num=int(raw_input(\"Enter any number: \"))\n",
      "what_sign(num)\n",
      "print \"end of main()\""
     ],
     "language": "python",
     "metadata": {},
     "outputs": [
      {
       "name": "stdout",
       "output_type": "stream",
       "stream": "stdout",
       "text": [
        "Enter any number: 10\n"
       ]
      },
      {
       "output_type": "stream",
       "stream": "stdout",
       "text": [
        "+ve Exception\n",
        "end of main()\n"
       ]
      }
     ],
     "prompt_number": 1
    },
    {
     "cell_type": "heading",
     "level": 2,
     "metadata": {},
     "source": [
      "Example-sign4.cpp, Page no-788"
     ]
    },
    {
     "cell_type": "code",
     "collapsed": false,
     "input": [
      "class zero:\n",
      "    pass\n",
      "def MyUnexpected():\n",
      "    print \"My unexpected handler is invoked\"\n",
      "def what_sign(num): #no exception list in python and hence the changes are made to produce the desired output\n",
      "    if num>0:\n",
      "        print \"+ve Exception\"\n",
      "        print \"end of main()\"\n",
      "    elif num<0:\n",
      "        print \"-ve Exception\"\n",
      "        print \"end of main()\"\n",
      "    else:\n",
      "        MyUnexpected()\n",
      "num=int(raw_input(\"Enter any number: \"))\n",
      "try:\n",
      "    what_sign(num)\n",
      "except:\n",
      "    print \"catch all exceptions\""
     ],
     "language": "python",
     "metadata": {},
     "outputs": [
      {
       "name": "stdout",
       "output_type": "stream",
       "stream": "stdout",
       "text": [
        "Enter any number: 0\n"
       ]
      },
      {
       "output_type": "stream",
       "stream": "stdout",
       "text": [
        "My unexpected handler is invoked\n"
       ]
      }
     ],
     "prompt_number": 1
    },
    {
     "cell_type": "heading",
     "level": 2,
     "metadata": {},
     "source": [
      "Example-interact.cpp, Page no-790"
     ]
    },
    {
     "cell_type": "code",
     "collapsed": false,
     "input": [
      "VEC_SIZE=10\n",
      "class vector:\n",
      "    __vec=[int]\n",
      "    __size=int\n",
      "    class RANGE:\n",
      "        pass\n",
      "    class SIZE:\n",
      "        pass\n",
      "    def __init__(self, SizeRequest):\n",
      "        self.__vec=[int]*SizeRequest\n",
      "        if SizeRequest<0 or SizeRequest>VEC_SIZE:\n",
      "            raise self.SIZE()\n",
      "        self.__size=SizeRequest\n",
      "    def __del__(self):\n",
      "        del self.__vec\n",
      "    #overloading []\n",
      "    def op(self, i, x=None):\n",
      "        if i<0 or i>=self.__size:\n",
      "            raise self.RANGE()\n",
      "        elif isinstance(x, int):\n",
      "            self.__vec[i]=x\n",
      "        else:\n",
      "            return self.__vec[i]\n",
      "print \"Maximum vector size allowed =\", VEC_SIZE\n",
      "try:\n",
      "    size=int(raw_input(\"What is the size of vector you want to create: \"))\n",
      "    print \"Trying to create object vector v1 of size =\", size,\n",
      "    v1=vector(size)\n",
      "    print \"..succeeded\"\n",
      "    index=int(raw_input(\"Which vector element you want to access (index): \"))\n",
      "    print \"What is the new value for v1[\", index, \"]:\",\n",
      "    data=int(raw_input())\n",
      "    print \"Trying to modify a1[\", index, \"]...\",\n",
      "    v1.op(index, data) #v1[index]=data\n",
      "    print \"succeeded\"\n",
      "    print \"New value of a1[\", index, \"] =\", v1.op(index) #v1[index]\n",
      "except vector.SIZE:\n",
      "    print \"failed\\nVector creation size exceeds allowable limit\"\n",
      "except vector.RANGE:\n",
      "    print \"failed\\nVector reference out-of-range\""
     ],
     "language": "python",
     "metadata": {},
     "outputs": [
      {
       "output_type": "stream",
       "stream": "stdout",
       "text": [
        "Maximum vector size allowed = 10\n"
       ]
      },
      {
       "name": "stdout",
       "output_type": "stream",
       "stream": "stdout",
       "text": [
        "What is the size of vector you want to create: 5\n"
       ]
      },
      {
       "output_type": "stream",
       "stream": "stdout",
       "text": [
        "Trying to create object vector v1 of size = 5 ..succeeded\n"
       ]
      },
      {
       "name": "stdout",
       "output_type": "stream",
       "stream": "stdout",
       "text": [
        "Which vector element you want to access (index): 10\n"
       ]
      },
      {
       "output_type": "stream",
       "stream": "stdout",
       "text": [
        "What is the new value for v1[ 10 ]:"
       ]
      },
      {
       "name": "stdout",
       "output_type": "stream",
       "stream": "stdout",
       "text": [
        "2\n"
       ]
      },
      {
       "output_type": "stream",
       "stream": "stdout",
       "text": [
        " Trying to modify a1[ 10 ]... failed\n",
        "Vector reference out-of-range\n"
       ]
      }
     ],
     "prompt_number": 1
    },
    {
     "cell_type": "heading",
     "level": 2,
     "metadata": {},
     "source": [
      "Example-virtual.cpp, Page no-792"
     ]
    },
    {
     "cell_type": "code",
     "collapsed": false,
     "input": [
      "class WRONG_AGE:\n",
      "    pass\n",
      "class Father:\n",
      "    def __init__(self, n):\n",
      "        if n<0:\n",
      "            raise WRONG_AGE()\n",
      "        self.__f_age=n\n",
      "    def GetAge(self):\n",
      "        return self.__f_age\n",
      "class Son(Father):\n",
      "    def __init__(self, n, m):\n",
      "        Father.__init__(self, n)\n",
      "        if m>=n:\n",
      "            raise WRONG_AGE()\n",
      "        self.__s_age=m\n",
      "    def GetAge(self):\n",
      "        return self.__s_age\n",
      "basep=[Father]\n",
      "father_age=int(raw_input(\"Enter Age of Father: \"))\n",
      "try:\n",
      "    basep=Father(father_age)\n",
      "except WRONG_AGE:\n",
      "    print \"Error: Father's Age is < 0\"\n",
      "else:\n",
      "    print \"Father's Age:\", basep.GetAge()\n",
      "    del basep\n",
      "    son_age=int(raw_input(\"Enter Age of Son: \"))\n",
      "    try:\n",
      "        basep=Son(father_age, son_age)\n",
      "    except WRONG_AGE:\n",
      "        print \"Error: Father's Age cannot be less than son age\"\n",
      "    else:\n",
      "        print \"Father's Age:\", basep.GetAge()\n",
      "        del basep"
     ],
     "language": "python",
     "metadata": {},
     "outputs": [
      {
       "name": "stdout",
       "output_type": "stream",
       "stream": "stdout",
       "text": [
        "Enter Age of Father: 20\n"
       ]
      },
      {
       "output_type": "stream",
       "stream": "stdout",
       "text": [
        "Father's Age: 20\n"
       ]
      },
      {
       "name": "stdout",
       "output_type": "stream",
       "stream": "stdout",
       "text": [
        "Enter Age of Son: 45\n"
       ]
      },
      {
       "output_type": "stream",
       "stream": "stdout",
       "text": [
        "Error: Father's Age cannot be less than son age\n"
       ]
      }
     ],
     "prompt_number": 1
    },
    {
     "cell_type": "heading",
     "level": 2,
     "metadata": {},
     "source": [
      "Example-matrix.cpp, Page no-794"
     ]
    },
    {
     "cell_type": "code",
     "collapsed": false,
     "input": [
      "TRUE=1\n",
      "FALSE=0\n",
      "class MatError:\n",
      "    pass\n",
      "class matrix:\n",
      "    __MaxRow=int\n",
      "    __MaxCol=int\n",
      "    def __init__(self, row=0, col=0):\n",
      "        self.__MaxRow=row\n",
      "        self.__MaxCol=col\n",
      "        self.__MatPtr=[[float]*5]*5\n",
      "    def __add__(self, b):\n",
      "        c=matrix(self.__MaxRow, self.__MaxCol)\n",
      "        if self.__MaxRow != b._matrix__MaxRow or self.__MaxCol != b._matrix__MaxCol:\n",
      "            raise MatError()\n",
      "        for i in range(self.__MaxRow):\n",
      "            for j in range(self.__MaxCol):\n",
      "                c._matrix__MatPtr[i][j]=self.__MatPtr[i][j]+b._matrix__MatPtr[i][j]\n",
      "        return c\n",
      "    def __sub__(self, b):\n",
      "        c=matrix(self.__MaxRow, self.__MaxCol)\n",
      "        if self.__MaxRow != b._matrix__MaxRow or self.__MaxCol != b._matrix__MaxCol:\n",
      "            raise MatError()\n",
      "        for i in range(self.__MaxRow):\n",
      "            for j in range(self.__MaxCol):\n",
      "                c._matrix__MatPtr[i][j]=self.__MatPtr[i][j]-b._matrix__MatPtr[i][j]\n",
      "        return c\n",
      "    def __mul__(self, b):\n",
      "        c=matrix(self.__MaxRow, b._matrix__MaxCol)\n",
      "        if self.__MaxCol!=b._matrix__MaxRow:\n",
      "            raise MatError()\n",
      "        for i in range(c._matrix__MaxRow):\n",
      "            for j in range(c._matrix__MaxCol):\n",
      "                c._matrix__MatPtr[i][j]=0\n",
      "                for k in range(self.__MaxCol):\n",
      "                    c._matrix__MatPtr[i][j]+=self.__MatPtr[i][k]*b._matrix__MatPtr[k][j]\n",
      "        return c\n",
      "    def __eq__(self, b):\n",
      "        if self.__MaxRow != b._matrix__MaxRow or self.__MaxCol != b._matrix__MaxCol:\n",
      "            return FALSE\n",
      "        for i in range(self.__MaxRow):\n",
      "            for j in range(self.__MaxCol):\n",
      "                if self.__MatPtr[i][j]!=b._matrix__MatPtr[i][j]:\n",
      "                    return FALSE\n",
      "        return TRUE\n",
      "    def __assign__(self, b):\n",
      "        self.__MaxRow = b._matrix__MaxRow\n",
      "        self.__MaxCol = b._matrix__MaxCol\n",
      "        for i in range(self.__MaxRow):\n",
      "            for j in range(self.__MaxCol):\n",
      "                self.__MatPtr[i][j]=b._matrix__MatPtr[i][j]\n",
      "    def Input(self):\n",
      "        self.__MaxRow=int(raw_input(\"How many rows? \"))\n",
      "        self.__MaxCol=int(raw_input(\"How many columns? \"))\n",
      "        self.__MatPtr = []\n",
      "        for i in range(0,self.__MaxRow):\n",
      "            self.__MatPtr.append([])\n",
      "            for j in range(0,self.__MaxCol):\n",
      "                print \"Matrix[%d,%d] =? \" %(i, j),\n",
      "                self.__MatPtr[i].append(float(raw_input()))\n",
      "    def output(self):\n",
      "        for i in range(self.__MaxRow):\n",
      "            print \"\"\n",
      "            for j in range(self.__MaxCol):\n",
      "                print \"%g\" %self.__MatPtr[i][j],\n",
      "a=matrix()\n",
      "b=matrix()\n",
      "print \"Enter Matrix A details...\"\n",
      "a.Input()\n",
      "print \"Enter Matrix B details...\"\n",
      "b.Input()\n",
      "print \"Matrix A is...\",\n",
      "a.output()\n",
      "print \"\\nMatrix B is...\",\n",
      "b.output()\n",
      "c=matrix()\n",
      "try:\n",
      "    c=a+b\n",
      "    print \"\\nC = A + B...\",\n",
      "    c.output()\n",
      "except MatError:\n",
      "    print \"\\nInvalid matrix order for addition\",\n",
      "d=matrix()\n",
      "try:\n",
      "    d=a-b\n",
      "    print \"\\nD = A - B...\",\n",
      "    d.output()\n",
      "except MatError:\n",
      "    print \"\\nInvalid matrix order for subtraction\",\n",
      "e=matrix(3, 3)\n",
      "try:\n",
      "    e=a*b\n",
      "    print \"\\nE = A * B...\",\n",
      "    e.output()\n",
      "except MatError:\n",
      "    print \"\\nInvalid matrix order for multiplication\",\n",
      "print \"\\n(Is matrix A equal to matrix B) ?\",\n",
      "if a==b:\n",
      "    print \"Yes\"\n",
      "else:\n",
      "    print \"No\""
     ],
     "language": "python",
     "metadata": {},
     "outputs": [
      {
       "output_type": "stream",
       "stream": "stdout",
       "text": [
        "Enter Matrix A details...\n"
       ]
      },
      {
       "name": "stdout",
       "output_type": "stream",
       "stream": "stdout",
       "text": [
        "How many rows? 1\n"
       ]
      },
      {
       "name": "stdout",
       "output_type": "stream",
       "stream": "stdout",
       "text": [
        "How many columns? 2\n"
       ]
      },
      {
       "output_type": "stream",
       "stream": "stdout",
       "text": [
        "Matrix[0,0] =? "
       ]
      },
      {
       "name": "stdout",
       "output_type": "stream",
       "stream": "stdout",
       "text": [
        "1\n"
       ]
      },
      {
       "output_type": "stream",
       "stream": "stdout",
       "text": [
        " Matrix[0,1] =? "
       ]
      },
      {
       "name": "stdout",
       "output_type": "stream",
       "stream": "stdout",
       "text": [
        "2\n"
       ]
      },
      {
       "output_type": "stream",
       "stream": "stdout",
       "text": [
        " Enter Matrix B details...\n"
       ]
      },
      {
       "name": "stdout",
       "output_type": "stream",
       "stream": "stdout",
       "text": [
        "How many rows? 2\n"
       ]
      },
      {
       "name": "stdout",
       "output_type": "stream",
       "stream": "stdout",
       "text": [
        "How many columns? 1\n"
       ]
      },
      {
       "output_type": "stream",
       "stream": "stdout",
       "text": [
        "Matrix[0,0] =? "
       ]
      },
      {
       "name": "stdout",
       "output_type": "stream",
       "stream": "stdout",
       "text": [
        "1\n"
       ]
      },
      {
       "output_type": "stream",
       "stream": "stdout",
       "text": [
        " Matrix[1,0] =? "
       ]
      },
      {
       "name": "stdout",
       "output_type": "stream",
       "stream": "stdout",
       "text": [
        "2\n"
       ]
      },
      {
       "output_type": "stream",
       "stream": "stdout",
       "text": [
        " Matrix A is... \n",
        "1 2 \n",
        "Matrix B is... \n",
        "1 \n",
        "2 \n",
        "Invalid matrix order for addition \n",
        "Invalid matrix order for subtraction \n",
        "E = A * B... \n",
        "5 \n",
        "(Is matrix A equal to matrix B) ? No\n"
       ]
      }
     ],
     "prompt_number": 1
    },
    {
     "cell_type": "heading",
     "level": 2,
     "metadata": {},
     "source": [
      "Example-recovery.cpp, Page no-802"
     ]
    },
    {
     "cell_type": "code",
     "collapsed": false,
     "input": [
      "MAX_SIG_INT=7\n",
      "MAX_UNSIG_INT=15\n",
      "class OVERFLOW:\n",
      "    pass\n",
      "def sum(i, j, k):\n",
      "    try:\n",
      "        #Version1 procedure\n",
      "        result=i+j\n",
      "        if result>MAX_SIG_INT:\n",
      "            raise OVERFLOW()\n",
      "        result=result+k\n",
      "        if result>MAX_SIG_INT:\n",
      "            raise OVERFLOW()\n",
      "        print \"Version-1 succeeds\"\n",
      "    except OVERFLOW:\n",
      "        print \"Version-1 fails\"\n",
      "        try:\n",
      "            #Version2 procedure\n",
      "            result=i+k\n",
      "            if result>MAX_SIG_INT:\n",
      "                raise OVERFLOW()\n",
      "            result=result+j\n",
      "            if result>MAX_SIG_INT:\n",
      "                raise OVERFLOW()\n",
      "            print \"Version-2 succeeds\"\n",
      "        except OVERFLOW:\n",
      "            print \"Version-2 fails\"\n",
      "            try:\n",
      "                #Version3 procedure\n",
      "                result=j+k\n",
      "                if result>MAX_SIG_INT:\n",
      "                    raise OVERFLOW()\n",
      "                result=result+i\n",
      "                if result>MAX_SIG_INT:\n",
      "                    raise OVERFLOW()\n",
      "                print \"Version-3 succeeds\"\n",
      "            except OVERFLOW:\n",
      "                print \"Error: Overflow. All versions falied\"\n",
      "    return result\n",
      "print \"Sum of 7, -3, 2 computation...\"\n",
      "result=sum(7, -3, 2)\n",
      "print \"Sum =\", result\n",
      "print \"Sum of 7, 2, -3 computation...\"\n",
      "result=sum(7,2, -3)\n",
      "print \"Sum =\", result\n",
      "print \"Sum of 3, 3, 2 computation...\"\n",
      "result=sum(3, 3, 2)\n",
      "print \"Sum =\", result"
     ],
     "language": "python",
     "metadata": {},
     "outputs": [
      {
       "output_type": "stream",
       "stream": "stdout",
       "text": [
        "Sum of 7, -3, 2 computation...\n",
        "Version-1 succeeds\n",
        "Sum = 6\n",
        "Sum of 7, 2, -3 computation...\n",
        "Version-1 fails\n",
        "Version-2 succeeds\n",
        "Sum = 6\n",
        "Sum of 3, 3, 2 computation...\n",
        "Version-1 fails\n",
        "Version-2 fails\n",
        "Error: Overflow. All versions falied\n",
        "Sum = 8\n"
       ]
      }
     ],
     "prompt_number": 1
    },
    {
     "cell_type": "heading",
     "level": 2,
     "metadata": {},
     "source": [
      "Example-new1.cpp, Page no-804"
     ]
    },
    {
     "cell_type": "code",
     "collapsed": false,
     "input": [
      "size=int(raw_input(\"How many bytes to be allocated: \"))\n",
      "try:\n",
      "    data=[int]*size\n",
      "    print \"Memory allocation success, address =\", hex(id(data))\n",
      "except:\n",
      "    print \"Could not allocate. Bye...\"\n",
      "del data"
     ],
     "language": "python",
     "metadata": {},
     "outputs": [
      {
       "name": "stdout",
       "output_type": "stream",
       "stream": "stdout",
       "text": [
        "How many bytes to be allocated: 300\n"
       ]
      },
      {
       "output_type": "stream",
       "stream": "stdout",
       "text": [
        "Memory allocation success, address = 0x3717188L\n"
       ]
      }
     ],
     "prompt_number": 2
    },
    {
     "cell_type": "heading",
     "level": 2,
     "metadata": {},
     "source": [
      "Example-new2.cpp, Page no-805"
     ]
    },
    {
     "cell_type": "code",
     "collapsed": false,
     "input": [
      "def display(data, m, n):\n",
      "    for i in range(m):\n",
      "        for j in range(n):\n",
      "            print data[i][j],\n",
      "        print \"\"\n",
      "def de_allocate(data, m):\n",
      "    for i in range(m-1):\n",
      "        del data[i]\n",
      "m, n=[int(x) for x in raw_input(\"Enter rows and columns count: \").split()]\n",
      "try:\n",
      "    data = []\n",
      "    for i in range(m):\n",
      "        data.append([])\n",
      "        for j in range(n):\n",
      "            data[i].append(0)\n",
      "except:\n",
      "    print \"Could not allocate. Bye...\"\n",
      "else:\n",
      "    for i in range(m):\n",
      "        for j in range(n):\n",
      "            data[i][j]=i+j\n",
      "    display(data, m, n)\n",
      "    de_allocate(data, m)"
     ],
     "language": "python",
     "metadata": {},
     "outputs": [
      {
       "name": "stdout",
       "output_type": "stream",
       "stream": "stdout",
       "text": [
        "Enter rows and columns count: 3 4\n"
       ]
      },
      {
       "output_type": "stream",
       "stream": "stdout",
       "text": [
        "0 1 2 3 \n",
        "1 2 3 4 \n",
        "2 3 4 5 \n"
       ]
      }
     ],
     "prompt_number": 1
    },
    {
     "cell_type": "heading",
     "level": 2,
     "metadata": {},
     "source": [
      "Example-1, Page no-812"
     ]
    },
    {
     "cell_type": "code",
     "collapsed": false,
     "input": [
      "#ther is no goto in python\n",
      "def main():\n",
      "    num=int(raw_input(\"Please enter an integer value: \"))\n",
      "    if isinstance(num, int):\n",
      "        print \"You entered a correct type of value\"\n",
      "    else:\n",
      "        raise num\n",
      "try:\n",
      "    main()\n",
      "except:\n",
      "    print \"You enetered incorrect type of value; try again\"\n",
      "    main()"
     ],
     "language": "python",
     "metadata": {},
     "outputs": [
      {
       "name": "stdout",
       "output_type": "stream",
       "stream": "stdout",
       "text": [
        "Please enter an integer value: 10.7\n"
       ]
      },
      {
       "output_type": "stream",
       "stream": "stdout",
       "text": [
        "You enetered incorrect type of value; try again\n"
       ]
      },
      {
       "name": "stdout",
       "output_type": "stream",
       "stream": "stdout",
       "text": [
        "Please enter an integer value: 8\n"
       ]
      },
      {
       "output_type": "stream",
       "stream": "stdout",
       "text": [
        "You entered a correct type of value\n"
       ]
      }
     ],
     "prompt_number": 1
    },
    {
     "cell_type": "heading",
     "level": 2,
     "metadata": {},
     "source": [
      "Example-2, Page no-812"
     ]
    },
    {
     "cell_type": "code",
     "collapsed": false,
     "input": [
      "class Int:\n",
      "    def __init__(self, val):\n",
      "        self.value=val\n",
      "class Double:\n",
      "    def __init__(self, val):\n",
      "        self.value=val\n",
      "class Str:\n",
      "    def __init__(self, val):\n",
      "        self.value=val\n",
      "i=int(raw_input(\"Press an integer between 1 - 3 to test exception handling with multiple catch blocks..\"))\n",
      "try:\n",
      "    if i==1:\n",
      "        print \"Throwing integer value\"\n",
      "        raise Int(1)\n",
      "    if i==2:\n",
      "        print \"Throwing double value\"\n",
      "        raise Double(1.12)\n",
      "    if i==3:\n",
      "        print \"Throwing charcter value\"\n",
      "        raise Str('A')\n",
      "except Int as e: #type of an exception raised is not correctly determined in the exception block and hence use of classes \n",
      "    print \"Caught an integer value\", e.value\n",
      "except Double as e:\n",
      "    print \"Caught a double value\", e.value\n",
      "except Str as e:\n",
      "   print \"Caught a character value\", e.value"
     ],
     "language": "python",
     "metadata": {},
     "outputs": [
      {
       "name": "stdout",
       "output_type": "stream",
       "stream": "stdout",
       "text": [
        "Press an integer between 1 - 3 to test exception handling with multiple catch blocks..3\n"
       ]
      },
      {
       "output_type": "stream",
       "stream": "stdout",
       "text": [
        "Throwing charcter value\n",
        "Caught a character value A\n"
       ]
      }
     ],
     "prompt_number": 1
    }
   ],
   "metadata": {}
  }
 ]
}