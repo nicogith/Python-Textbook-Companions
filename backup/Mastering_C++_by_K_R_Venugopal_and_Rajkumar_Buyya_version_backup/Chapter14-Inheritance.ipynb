{
 "metadata": {
  "name": "",
  "signature": "sha256:63736c9aef28a6babc99661e161907400b7b80441a3f765e7ab8b6e00648ce25"
 },
 "nbformat": 3,
 "nbformat_minor": 0,
 "worksheets": [
  {
   "cells": [
    {
     "cell_type": "heading",
     "level": 1,
     "metadata": {},
     "source": [
      "Chapter 14- Inheritance"
     ]
    },
    {
     "cell_type": "heading",
     "level": 2,
     "metadata": {},
     "source": [
      "Example-bag.cpp, Page-544"
     ]
    },
    {
     "cell_type": "code",
     "collapsed": false,
     "input": [
      "(false, true)=(0, 1) #enum type\n",
      "type =['false', 'true']\n",
      "MAX_ITEMS=25\n",
      "def IsExist(self, item):\n",
      "    for i in range(self._Bag__ItemCount):\n",
      "        if self._Bag__contents[i]==item:\n",
      "            return true\n",
      "    return false\n",
      "def show(self):\n",
      "    for i in range(self._Bag__ItemCount):\n",
      "        print self._Bag__contents[i],\n",
      "    print \"\"\n",
      "class Bag:\n",
      "    __contents=[int]*MAX_ITEMS #protected members\n",
      "    __ItemCount=int\n",
      "    def __init__(self):\n",
      "        self.__ItemCount=0\n",
      "    def put(self, item):\n",
      "        self.__contents[self.__ItemCount]=item\n",
      "        self.__ItemCount+=1\n",
      "    def IsEmpty(self):\n",
      "        return true if self.__ItemCount==0 else false\n",
      "    def IsFull(self):\n",
      "        return true if self.__ItemCount==MAX_ITEMS else false\n",
      "    IsExist=IsExist\n",
      "    show=show\n",
      "bag=Bag()\n",
      "item=int\n",
      "while(true):\n",
      "    item=int(raw_input(\"Enter Item Number to be put into the bag <0-no item>: \"))\n",
      "    if item==0:\n",
      "        break\n",
      "    bag.put(item)\n",
      "    print \"Items in Bag:\",\n",
      "    bag.show()\n",
      "    if bag.IsFull():\n",
      "        print \"Bag Full, no more items can be placed\"\n",
      "        break"
     ],
     "language": "python",
     "metadata": {},
     "outputs": [
      {
       "name": "stdout",
       "output_type": "stream",
       "stream": "stdout",
       "text": [
        "Enter Item Number to be put into the bag <0-no item>: 1\n"
       ]
      },
      {
       "output_type": "stream",
       "stream": "stdout",
       "text": [
        "Items in Bag: 1 \n"
       ]
      },
      {
       "name": "stdout",
       "output_type": "stream",
       "stream": "stdout",
       "text": [
        "Enter Item Number to be put into the bag <0-no item>: 2\n"
       ]
      },
      {
       "output_type": "stream",
       "stream": "stdout",
       "text": [
        "Items in Bag: 1 2 \n"
       ]
      },
      {
       "name": "stdout",
       "output_type": "stream",
       "stream": "stdout",
       "text": [
        "Enter Item Number to be put into the bag <0-no item>: 3\n"
       ]
      },
      {
       "output_type": "stream",
       "stream": "stdout",
       "text": [
        "Items in Bag: 1 2 3 \n"
       ]
      },
      {
       "name": "stdout",
       "output_type": "stream",
       "stream": "stdout",
       "text": [
        "Enter Item Number to be put into the bag <0-no item>: 3\n"
       ]
      },
      {
       "output_type": "stream",
       "stream": "stdout",
       "text": [
        "Items in Bag: 1 2 3 3 \n"
       ]
      },
      {
       "name": "stdout",
       "output_type": "stream",
       "stream": "stdout",
       "text": [
        "Enter Item Number to be put into the bag <0-no item>: 1\n"
       ]
      },
      {
       "output_type": "stream",
       "stream": "stdout",
       "text": [
        "Items in Bag: 1 2 3 3 1 \n"
       ]
      },
      {
       "name": "stdout",
       "output_type": "stream",
       "stream": "stdout",
       "text": [
        "Enter Item Number to be put into the bag <0-no item>: 0\n"
       ]
      }
     ],
     "prompt_number": 1
    },
    {
     "cell_type": "heading",
     "level": 2,
     "metadata": {},
     "source": [
      "Example-union.cpp, Page no-548"
     ]
    },
    {
     "cell_type": "code",
     "collapsed": false,
     "input": [
      "(false, true)=(0, 1) #enum type\n",
      "type =['false', 'true']\n",
      "MAX_ITEMS=25\n",
      "def IsExist(self, item):\n",
      "    for i in range(self._Bag__ItemCount):\n",
      "        if self._Bag__contents[i]==item:\n",
      "            return true\n",
      "    return false\n",
      "def show(self):\n",
      "    for i in range(self._Bag__ItemCount):\n",
      "        print self._Bag__contents[i],\n",
      "    print \"\"\n",
      "class Bag:\n",
      "     #protected members\n",
      "    __ItemCount=int\n",
      "    def __init__(self):\n",
      "        self.__ItemCount=0\n",
      "        self.__contents=[int]*MAX_ITEMS\n",
      "    def put(self, item):\n",
      "        self.__contents[self.__ItemCount]=item\n",
      "        self.__ItemCount+=1\n",
      "    def IsEmpty(self):\n",
      "        return true if self.__ItemCount==0 else false\n",
      "    def IsFull(self):\n",
      "        return true if self.__ItemCount==MAX_ITEMS else false\n",
      "    IsExist=IsExist\n",
      "    show=show\n",
      "def read(self):\n",
      "    while(true):\n",
      "        element=int(raw_input(\"Enter Set Element <0-end>: \"))\n",
      "        if element==0:\n",
      "            break\n",
      "        self.Add(element)\n",
      "def add(s1, s2):\n",
      "    temp = Set()\n",
      "    temp=s1\n",
      "    for i in range(s2._Bag__ItemCount):\n",
      "        if s1.IsExist(s2._Bag__contents[i])==false:\n",
      "            temp.Add(s2._Bag__contents[i])\n",
      "    return temp\n",
      "class Set(Bag):\n",
      "    def Add(self,element):\n",
      "        if(self.IsExist(element)==false and self.IsFull()==false):\n",
      "            self.put(element)\n",
      "    read=read\n",
      "    def __assign__(self, s2):\n",
      "        for i in range(s2._Bag__ItemCount):\n",
      "            self.__contents[i]=s2.__contents[i]\n",
      "        self.__ItemCount=s2.__ItemCount\n",
      "    def __add__(self, s2):\n",
      "        return add(self, s2)\n",
      "s1=Set()\n",
      "s2=Set()\n",
      "s3=Set()\n",
      "print \"Enter Set 1 elements..\"\n",
      "s1.read()\n",
      "print \"Enter Set 2 elemets..\"\n",
      "s2.read()\n",
      "s3=s1+s2\n",
      "print \"Union of s1 and s2 :\",\n",
      "s3.show()"
     ],
     "language": "python",
     "metadata": {},
     "outputs": [
      {
       "output_type": "stream",
       "stream": "stdout",
       "text": [
        "Enter Set 1 elements..\n"
       ]
      },
      {
       "name": "stdout",
       "output_type": "stream",
       "stream": "stdout",
       "text": [
        "Enter Set Element <0-end>: 1\n"
       ]
      },
      {
       "name": "stdout",
       "output_type": "stream",
       "stream": "stdout",
       "text": [
        "Enter Set Element <0-end>: 2\n"
       ]
      },
      {
       "name": "stdout",
       "output_type": "stream",
       "stream": "stdout",
       "text": [
        "Enter Set Element <0-end>: 3\n"
       ]
      },
      {
       "name": "stdout",
       "output_type": "stream",
       "stream": "stdout",
       "text": [
        "Enter Set Element <0-end>: 4\n"
       ]
      },
      {
       "name": "stdout",
       "output_type": "stream",
       "stream": "stdout",
       "text": [
        "Enter Set Element <0-end>: 0\n"
       ]
      },
      {
       "output_type": "stream",
       "stream": "stdout",
       "text": [
        "Enter Set 2 elemets..\n"
       ]
      },
      {
       "name": "stdout",
       "output_type": "stream",
       "stream": "stdout",
       "text": [
        "Enter Set Element <0-end>: 2\n"
       ]
      },
      {
       "name": "stdout",
       "output_type": "stream",
       "stream": "stdout",
       "text": [
        "Enter Set Element <0-end>: 4\n"
       ]
      },
      {
       "name": "stdout",
       "output_type": "stream",
       "stream": "stdout",
       "text": [
        "Enter Set Element <0-end>: 5\n"
       ]
      },
      {
       "name": "stdout",
       "output_type": "stream",
       "stream": "stdout",
       "text": [
        "Enter Set Element <0-end>: 6\n"
       ]
      },
      {
       "name": "stdout",
       "output_type": "stream",
       "stream": "stdout",
       "text": [
        "Enter Set Element <0-end>: 0\n"
       ]
      },
      {
       "output_type": "stream",
       "stream": "stdout",
       "text": [
        "Union of s1 and s2 : 1 2 3 4 5 6 \n"
       ]
      }
     ],
     "prompt_number": 2
    },
    {
     "cell_type": "heading",
     "level": 2,
     "metadata": {},
     "source": [
      "Example-cons1.cpp, Page no-558"
     ]
    },
    {
     "cell_type": "code",
     "collapsed": false,
     "input": [
      "class B:\n",
      "    pass\n",
      "class D(B):\n",
      "    def msg(self):\n",
      "        print \"No constructors exist in base and derived class\"\n",
      "objd=D()\n",
      "objd.msg()"
     ],
     "language": "python",
     "metadata": {},
     "outputs": [
      {
       "output_type": "stream",
       "stream": "stdout",
       "text": [
        "No constructors exist in base and derived class\n"
       ]
      }
     ],
     "prompt_number": 1
    },
    {
     "cell_type": "heading",
     "level": 2,
     "metadata": {},
     "source": [
      "Example-cons2.cpp, Page no-558"
     ]
    },
    {
     "cell_type": "code",
     "collapsed": false,
     "input": [
      "class B:\n",
      "    def __init__(self):\n",
      "        print \"No-argument constructor of base class B is executed\"\n",
      "class D(B):\n",
      "    pass\n",
      "objd=D()"
     ],
     "language": "python",
     "metadata": {},
     "outputs": [
      {
       "output_type": "stream",
       "stream": "stdout",
       "text": [
        "No-argument constructor of base class B is executed\n"
       ]
      }
     ],
     "prompt_number": 3
    },
    {
     "cell_type": "heading",
     "level": 2,
     "metadata": {},
     "source": [
      "Example-cons3.cpp, Page no-559"
     ]
    },
    {
     "cell_type": "code",
     "collapsed": false,
     "input": [
      "class B:\n",
      "    pass\n",
      "class D(B):\n",
      "    def __init__(self):\n",
      "        print \"Constructors exist only in derived class\"\n",
      "objd=D()"
     ],
     "language": "python",
     "metadata": {},
     "outputs": [
      {
       "output_type": "stream",
       "stream": "stdout",
       "text": [
        "Constructors exist only in derived class\n"
       ]
      }
     ],
     "prompt_number": 1
    },
    {
     "cell_type": "heading",
     "level": 2,
     "metadata": {},
     "source": [
      "Example-cons4.cpp, Page no-559"
     ]
    },
    {
     "cell_type": "code",
     "collapsed": false,
     "input": [
      "class B:\n",
      "    def __init__(self):\n",
      "        print \"No-argument constructor of base class B executed first\"\n",
      "class D(B):\n",
      "    def __init__(self):\n",
      "        B.__init__(self)\n",
      "        print \"No-argument constructor of derived class D executed next\"\n",
      "objd=D()"
     ],
     "language": "python",
     "metadata": {},
     "outputs": [
      {
       "output_type": "stream",
       "stream": "stdout",
       "text": [
        "No-argument constructor of base class B executed first\n",
        "No-argument constructor of derived class D executed next\n"
       ]
      }
     ],
     "prompt_number": 4
    },
    {
     "cell_type": "heading",
     "level": 2,
     "metadata": {},
     "source": [
      "Example-cons5.cpp, Page no-560"
     ]
    },
    {
     "cell_type": "code",
     "collapsed": false,
     "input": [
      "class B:\n",
      "    def __init__(self, a=0):\n",
      "        if isinstance(a, int):\n",
      "            print \"One-argument constructor of the base class B\"\n",
      "        else:\n",
      "            print \"No-argument constructor of  the base class B\"\n",
      "class D(B):\n",
      "    def __init__(self, a):\n",
      "        B.__init__(self, a)\n",
      "        print \"One-argument constructor of the derived class D\"\n",
      "objd=D(3)"
     ],
     "language": "python",
     "metadata": {},
     "outputs": [
      {
       "output_type": "stream",
       "stream": "stdout",
       "text": [
        "One-argument constructor of the base class B\n",
        "One-argument constructor of the derived class D\n"
       ]
      }
     ],
     "prompt_number": 6
    },
    {
     "cell_type": "heading",
     "level": 2,
     "metadata": {},
     "source": [
      "Example-cons7.cpp, Page no-561"
     ]
    },
    {
     "cell_type": "code",
     "collapsed": false,
     "input": [
      "class B:\n",
      "    def __init__(self, a):\n",
      "        print \"One-argument constructor of the base class B\"\n",
      "class D(B):\n",
      "    def __init__(self, a):\n",
      "        B(a)\n",
      "        print \"One-argument constructor of the derived class D\"\n",
      "objd=D(3)"
     ],
     "language": "python",
     "metadata": {},
     "outputs": [
      {
       "output_type": "stream",
       "stream": "stdout",
       "text": [
        "One-argument constructor of the base class B\n",
        "One-argument constructor of the derived class D\n"
       ]
      }
     ],
     "prompt_number": 1
    },
    {
     "cell_type": "heading",
     "level": 2,
     "metadata": {},
     "source": [
      "Example-cons8.cpp, Page no-562"
     ]
    },
    {
     "cell_type": "code",
     "collapsed": false,
     "input": [
      "class B1:\n",
      "    def __init__(self):\n",
      "        print \"No-argument constructor of the base class B1\"\n",
      "class B2:\n",
      "    def __init__(self):\n",
      "        B1.__init__(self)\n",
      "        print \"No-argument constructor of the base class B2\"\n",
      "class D(B2, B1):\n",
      "    def __init__(self):\n",
      "        B2.__init__(self)\n",
      "        print \"No-argument constructor of the derived class D\"\n",
      "objd=D()"
     ],
     "language": "python",
     "metadata": {},
     "outputs": [
      {
       "output_type": "stream",
       "stream": "stdout",
       "text": [
        "No-argument constructor of the base class B1\n",
        "No-argument constructor of the base class B2\n",
        "No-argument constructor of the derived class D\n"
       ]
      }
     ],
     "prompt_number": 2
    },
    {
     "cell_type": "heading",
     "level": 2,
     "metadata": {},
     "source": [
      "Example-cons9.cpp, Page no-563"
     ]
    },
    {
     "cell_type": "code",
     "collapsed": false,
     "input": [
      "class B1:\n",
      "    def __init__(self):\n",
      "        print \"No-argument constructor of the base class B1\"\n",
      "class B2:\n",
      "    def __init__(self):\n",
      "        print \"No-argument constructor of the base class B2\"\n",
      "class D(B1, B2):\n",
      "    def __init__(self):\n",
      "        B1()\n",
      "        B2()\n",
      "        print \"No-argument constructor of the derived class D\"\n",
      "objd=D()"
     ],
     "language": "python",
     "metadata": {},
     "outputs": [
      {
       "output_type": "stream",
       "stream": "stdout",
       "text": [
        "No-argument constructor of the base class B1\n",
        "No-argument constructor of the base class B2\n",
        "No-argument constructor of the derived class D\n"
       ]
      }
     ],
     "prompt_number": 3
    },
    {
     "cell_type": "heading",
     "level": 2,
     "metadata": {},
     "source": [
      "Example-cons10.cpp, Page no-563"
     ]
    },
    {
     "cell_type": "code",
     "collapsed": false,
     "input": [
      "class B1:\n",
      "    def __init__(self):\n",
      "        print \"No-argument constructor of the base class B1\"\n",
      "class B2:\n",
      "    def __init__(self):\n",
      "        print \"No-argument constructor of the base class B2\"\n",
      "class D(B1, B2):\n",
      "    def __init__(self):\n",
      "        B2()\n",
      "        B1()\n",
      "        print \"No-argument constructor of the derived class D\"\n",
      "objd=D()"
     ],
     "language": "python",
     "metadata": {},
     "outputs": [
      {
       "output_type": "stream",
       "stream": "stdout",
       "text": [
        "No-argument constructor of the base class B2\n",
        "No-argument constructor of the base class B1\n",
        "No-argument constructor of the derived class D\n"
       ]
      }
     ],
     "prompt_number": 4
    },
    {
     "cell_type": "heading",
     "level": 2,
     "metadata": {},
     "source": [
      "Example-cons11.cpp, Page no-564"
     ]
    },
    {
     "cell_type": "code",
     "collapsed": false,
     "input": [
      "class B:\n",
      "    def __init__(self):\n",
      "        print \"No-argument constructor of a base class B\"\n",
      "class D1(B):\n",
      "    def __init__(self):\n",
      "        B.__init__(self)\n",
      "        print \"No-argument constructor of a base class D1\"\n",
      "class D2(D1):\n",
      "    def __init__(self):\n",
      "        D1.__init__(self)\n",
      "        print \"No-argument constructor of a derived class D2\"\n",
      "objd=D2()"
     ],
     "language": "python",
     "metadata": {},
     "outputs": [
      {
       "output_type": "stream",
       "stream": "stdout",
       "text": [
        "No-argument constructor of a base class B\n",
        "No-argument constructor of a base class D1\n",
        "No-argument constructor of a derived class D2\n"
       ]
      }
     ],
     "prompt_number": 5
    },
    {
     "cell_type": "heading",
     "level": 2,
     "metadata": {},
     "source": [
      "Example-cons12.cpp, Page no-566"
     ]
    },
    {
     "cell_type": "code",
     "collapsed": false,
     "input": [
      "class B1:\n",
      "    def __init__(self):\n",
      "        print \"No-argument constructor of the base class B1\"\n",
      "    def __del__(self):\n",
      "        print \"Desctructor in the base class B1\"\n",
      "class B2:\n",
      "    def __init__(self):\n",
      "        print \"No-argument constructor of the base class B2\"\n",
      "    def __del__(self):\n",
      "        print \"Desctructor in the base class B2\"\n",
      "class D(B1, B2):\n",
      "    def __init__(self):\n",
      "        B1.__init__(self)\n",
      "        B2.__init__(self)\n",
      "        print \"No-argument constructor of the derived class D\"\n",
      "    def __del__(self):\n",
      "        print \"Desctructor in the derived class D\"\n",
      "        for b in self.__class__.__bases__:\n",
      "            b.__del__(self)\n",
      "objd=D()"
     ],
     "language": "python",
     "metadata": {},
     "outputs": [
      {
       "output_type": "stream",
       "stream": "stdout",
       "text": [
        "No-argument constructor of the base class B1\n",
        "No-argument constructor of the base class B2\n",
        "No-argument constructor of the derived class D\n"
       ]
      }
     ],
     "prompt_number": 1
    },
    {
     "cell_type": "heading",
     "level": 2,
     "metadata": {},
     "source": [
      "Example-cons13.cpp, Page no-568"
     ]
    },
    {
     "cell_type": "code",
     "collapsed": false,
     "input": [
      "class B:\n",
      "    __x=int\n",
      "    __y=int\n",
      "    def __init__(self, a, b):\n",
      "        self.__x=a\n",
      "        self.__y=b\n",
      "class D(B):\n",
      "    __a=int\n",
      "    __b=int\n",
      "    def __init__(self, p, q, r):\n",
      "        self.__a=p\n",
      "        B.__init__(self, p, q)\n",
      "        self.__b=r\n",
      "    def output(self):\n",
      "        print \"x =\", self._B__x\n",
      "        print \"y =\", self._B__y\n",
      "        print \"a =\", self.__a\n",
      "        print \"b =\", self.__b\n",
      "objd=D(5, 10, 15)\n",
      "objd.output()"
     ],
     "language": "python",
     "metadata": {},
     "outputs": [
      {
       "output_type": "stream",
       "stream": "stdout",
       "text": [
        "x = 5\n",
        "y = 10\n",
        "a = 5\n",
        "b = 15\n"
       ]
      }
     ],
     "prompt_number": 2
    },
    {
     "cell_type": "heading",
     "level": 2,
     "metadata": {},
     "source": [
      "Example-runtime.cpp, Page no-570"
     ]
    },
    {
     "cell_type": "code",
     "collapsed": false,
     "input": [
      "class B:\n",
      "    __x=int\n",
      "    __y=int(0) #initialization\n",
      "    def __init__(self, a, b):\n",
      "        self.__x=self.__y+b\n",
      "        self.__y=a\n",
      "    def Print(self):\n",
      "        print \"x =\", self.__x\n",
      "        print \"y =\", self.__y\n",
      "b = B(2, 3)\n",
      "b.Print()"
     ],
     "language": "python",
     "metadata": {},
     "outputs": [
      {
       "output_type": "stream",
       "stream": "stdout",
       "text": [
        "x = 3\n",
        "y = 2\n"
       ]
      }
     ],
     "prompt_number": 1
    },
    {
     "cell_type": "heading",
     "level": 2,
     "metadata": {},
     "source": [
      "Example-cons14.cpp, Page no-570"
     ]
    },
    {
     "cell_type": "code",
     "collapsed": false,
     "input": [
      "class B:\n",
      "    __x=int\n",
      "    __y=int\n",
      "    def read(self):\n",
      "        self.__x=int(raw_input(\"X in class B ? \"))\n",
      "        self.__y=int(raw_input(\"Y in class B ? \"))\n",
      "    def show(self):\n",
      "        print \"X in class B =\", self.__x\n",
      "        print \"Y in class B =\", self.__y\n",
      "class D(B):\n",
      "    __y=int\n",
      "    __z=int\n",
      "    def read(self):\n",
      "        B.read(self)\n",
      "        self.__y=int(raw_input(\"Y in class D ? \"))\n",
      "        self.__z=int(raw_input(\"Z in class D ? \"))\n",
      "    def show(self):\n",
      "        B.show(self)\n",
      "        print \"Y in class D =\", self.__y\n",
      "        print \"Z in class D =\", self.__z\n",
      "        print \"Y of B, show from D =\", self._B__y\n",
      "objd=D()\n",
      "print \"Enter data for object of class D..\"\n",
      "objd.read()\n",
      "print \"Contents of object of class D..\"\n",
      "objd.show()"
     ],
     "language": "python",
     "metadata": {},
     "outputs": [
      {
       "output_type": "stream",
       "stream": "stdout",
       "text": [
        "Enter data for object of class D..\n"
       ]
      },
      {
       "name": "stdout",
       "output_type": "stream",
       "stream": "stdout",
       "text": [
        "X in class B ? 1\n"
       ]
      },
      {
       "name": "stdout",
       "output_type": "stream",
       "stream": "stdout",
       "text": [
        "Y in class B ? 2\n"
       ]
      },
      {
       "name": "stdout",
       "output_type": "stream",
       "stream": "stdout",
       "text": [
        "Y in class D ? 3\n"
       ]
      },
      {
       "name": "stdout",
       "output_type": "stream",
       "stream": "stdout",
       "text": [
        "Z in class D ? 4\n"
       ]
      },
      {
       "output_type": "stream",
       "stream": "stdout",
       "text": [
        "Contents of object of class D..\n",
        "X in class B = 1\n",
        "Y in class B = 2\n",
        "Y in class D = 3\n",
        "Z in class D = 4\n",
        "Y of B, show from D = 2\n"
       ]
      }
     ],
     "prompt_number": 1
    },
    {
     "cell_type": "heading",
     "level": 2,
     "metadata": {},
     "source": [
      "Example-stack.cpp, Page no-573"
     ]
    },
    {
     "cell_type": "code",
     "collapsed": false,
     "input": [
      "MAX_ELEMENTS=5\n",
      "class Stack:\n",
      "    __stack=[int]*(MAX_ELEMENTS+1)\n",
      "    __StackTop=int\n",
      "    def __init__(self):\n",
      "        self.__StackTop=0\n",
      "    def push(self, element):\n",
      "        self.__StackTop+=1\n",
      "        self.__stack[self.__StackTop]=element\n",
      "    def pop(self, element):\n",
      "        element=self.__stack[self.__StackTop]\n",
      "        self.__StackTop-=1\n",
      "        return element\n",
      "class MyStack(Stack):\n",
      "    def push(self, element):\n",
      "        if self._Stack__StackTop<MAX_ELEMENTS:\n",
      "            Stack.push(self,element)\n",
      "            return 1\n",
      "        print \"Stack Overflow\"\n",
      "        return 0\n",
      "    def pop(self, element):\n",
      "        if self._Stack__StackTop>0:\n",
      "            element=Stack.pop(self, element)\n",
      "            return element\n",
      "        print \"Stack Underflow\"\n",
      "        return 0\n",
      "stack=MyStack()\n",
      "print \"Enter Integer data to put into the stack...\"\n",
      "while(1):\n",
      "    element=int(raw_input(\"Element to Push ? \"))\n",
      "    if stack.push(element)==0:\n",
      "        break\n",
      "print \"The Stack Contains...\"\n",
      "element=stack.pop(element)\n",
      "while element:\n",
      "    print \"pop:\", element\n",
      "    element=stack.pop(element)"
     ],
     "language": "python",
     "metadata": {},
     "outputs": [
      {
       "output_type": "stream",
       "stream": "stdout",
       "text": [
        "Enter Integer data to put into the stack...\n"
       ]
      },
      {
       "name": "stdout",
       "output_type": "stream",
       "stream": "stdout",
       "text": [
        "Element to Push ? 1\n"
       ]
      },
      {
       "name": "stdout",
       "output_type": "stream",
       "stream": "stdout",
       "text": [
        "Element to Push ? 2\n"
       ]
      },
      {
       "name": "stdout",
       "output_type": "stream",
       "stream": "stdout",
       "text": [
        "Element to Push ? 3\n"
       ]
      },
      {
       "name": "stdout",
       "output_type": "stream",
       "stream": "stdout",
       "text": [
        "Element to Push ? 4\n"
       ]
      },
      {
       "name": "stdout",
       "output_type": "stream",
       "stream": "stdout",
       "text": [
        "Element to Push ? 5\n"
       ]
      },
      {
       "name": "stdout",
       "output_type": "stream",
       "stream": "stdout",
       "text": [
        "Element to Push ? 6\n"
       ]
      },
      {
       "output_type": "stream",
       "stream": "stdout",
       "text": [
        "Stack Overflow\n",
        "The Stack Contains...\n",
        "pop: 5\n",
        "pop: 4\n",
        "pop: 3\n",
        "pop: 2\n",
        "pop: 1\n",
        "Stack Underflow\n"
       ]
      }
     ],
     "prompt_number": 1
    },
    {
     "cell_type": "heading",
     "level": 2,
     "metadata": {},
     "source": [
      "Example-exam.cpp, Page no-577"
     ]
    },
    {
     "cell_type": "code",
     "collapsed": false,
     "input": [
      "MAX_LEN=25\n",
      "class person:\n",
      "    __name=[chr]*MAX_LEN\n",
      "    __sex=chr\n",
      "    __age=int\n",
      "    def ReadData(self):\n",
      "        self.__name=raw_input(\"Name ? \")\n",
      "        self.__sex=str(raw_input(\"Sex ? \"))\n",
      "        self.__age=int(raw_input(\"Age ? \"))\n",
      "    def DisplayData(self):\n",
      "        print \"Name:\", self.__name\n",
      "        print \"Sex: \", self.__sex\n",
      "        print \"Age: \", self.__age\n",
      "class student(person):\n",
      "    __RollNo=int\n",
      "    __branch=[chr]*20\n",
      "    def ReadData(self):\n",
      "        person.ReadData(self) #invoking member function ReadData of base class person\n",
      "        self.__RollNo=int(raw_input(\"Roll Number ? \"))\n",
      "        self.__branch=raw_input(\"Branch Studying ? \")\n",
      "    def DisplayData(self):\n",
      "        person.DisplayData(self) #invoking member function DisplayData of base class person\n",
      "        print \"Roll Number:\", self.__RollNo\n",
      "        print \"Branch:\", self.__branch\n",
      "class exam(student):\n",
      "    __Sub1Marks=int\n",
      "    __Sub2Marks=int\n",
      "    def ReadData(self):\n",
      "        student.ReadData(self) #invoking member function ReadData of base class student\n",
      "        self.__Sub1Marks=int(raw_input(\"Marks scored in Subject 1 < Max:100> ? \"))\n",
      "        self.__Sub2Marks=int(raw_input(\"Marks scored in Subject 2 < Max:100> ? \"))\n",
      "    def DisplayData(self):\n",
      "        student.DisplayData(self) #invoking member function DisplayData of base class student\n",
      "        print \"Marks scored in Subject 1:\", self.__Sub1Marks\n",
      "        print \"Marks scored in Subject 2:\", self.__Sub2Marks\n",
      "        print \"Total Marks Scored:\", self.TotalMarks()\n",
      "    def TotalMarks(self):\n",
      "        return self.__Sub1Marks+self.__Sub2Marks\n",
      "annual=exam()\n",
      "print \"Enter data for Student...\"\n",
      "annual.ReadData()\n",
      "print \"Student Details...\"\n",
      "annual.DisplayData()"
     ],
     "language": "python",
     "metadata": {},
     "outputs": [
      {
       "output_type": "stream",
       "stream": "stdout",
       "text": [
        "Enter data for Student...\n"
       ]
      },
      {
       "name": "stdout",
       "output_type": "stream",
       "stream": "stdout",
       "text": [
        "Name ? Rajkumar\n"
       ]
      },
      {
       "name": "stdout",
       "output_type": "stream",
       "stream": "stdout",
       "text": [
        "Sex ? M\n"
       ]
      },
      {
       "name": "stdout",
       "output_type": "stream",
       "stream": "stdout",
       "text": [
        "Age ? 24\n"
       ]
      },
      {
       "name": "stdout",
       "output_type": "stream",
       "stream": "stdout",
       "text": [
        "Roll Number ? 9\n"
       ]
      },
      {
       "name": "stdout",
       "output_type": "stream",
       "stream": "stdout",
       "text": [
        "Branch Studying ? Computer-Technology\n"
       ]
      },
      {
       "name": "stdout",
       "output_type": "stream",
       "stream": "stdout",
       "text": [
        "Marks scored in Subject 1 < Max:100> ? 92\n"
       ]
      },
      {
       "name": "stdout",
       "output_type": "stream",
       "stream": "stdout",
       "text": [
        "Marks scored in Subject 2 < Max:100> ? 88\n"
       ]
      },
      {
       "output_type": "stream",
       "stream": "stdout",
       "text": [
        "Student Details...\n",
        "Name: Rajkumar\n",
        "Sex:  M\n",
        "Age:  24\n",
        "Roll Number: 9\n",
        "Branch: Computer-Technology\n",
        "Marks scored in Subject 1: 92\n",
        "Marks scored in Subject 2: 88\n",
        "Total Marks Scored: 180\n"
       ]
      }
     ],
     "prompt_number": 3
    },
    {
     "cell_type": "heading",
     "level": 2,
     "metadata": {},
     "source": [
      "Example-mul_inh1.cpp, Page no-580"
     ]
    },
    {
     "cell_type": "code",
     "collapsed": false,
     "input": [
      "import sys\n",
      "class A:\n",
      "    def __init__(self):\n",
      "        sys.stdout.write('a'),\n",
      "class B:\n",
      "    def __init__(self):\n",
      "        sys.stdout.write('b'),\n",
      "class C(A, B):\n",
      "    def __init__(self):\n",
      "        A.__init__(self)\n",
      "        B.__init__(self)\n",
      "        sys.stdout.write('c'),\n",
      "objc=C()"
     ],
     "language": "python",
     "metadata": {},
     "outputs": [
      {
       "output_type": "stream",
       "stream": "stdout",
       "text": [
        "abc"
       ]
      }
     ],
     "prompt_number": 1
    },
    {
     "cell_type": "heading",
     "level": 2,
     "metadata": {},
     "source": [
      "Example-mul_inh2.cpp, Page no-581"
     ]
    },
    {
     "cell_type": "code",
     "collapsed": false,
     "input": [
      "class A:\n",
      "    def __init__(self, c):\n",
      "        sys.stdout.write(c),\n",
      "class B:\n",
      "    def __init__(self, b):\n",
      "        sys.stdout.write(b),\n",
      "class C(A, B):\n",
      "    def __init__(self, c1, c2, c3):\n",
      "        A.__init__(self, c1)\n",
      "        B.__init__(self, c2)\n",
      "        sys.stdout.write(c3),\n",
      "objc=C('a', 'b', 'c')"
     ],
     "language": "python",
     "metadata": {},
     "outputs": [
      {
       "output_type": "stream",
       "stream": "stdout",
       "text": [
        "abc"
       ]
      }
     ],
     "prompt_number": 2
    },
    {
     "cell_type": "heading",
     "level": 2,
     "metadata": {},
     "source": [
      "Example-mul_inh4.cpp, Page no-583"
     ]
    },
    {
     "cell_type": "code",
     "collapsed": false,
     "input": [
      "import sys\n",
      "class A:\n",
      "    __ch=chr\n",
      "    def __init__(self, c):\n",
      "        self.__ch=c\n",
      "    def show(self):\n",
      "        sys.stdout.write(self.__ch),\n",
      "class B:\n",
      "    __ch=chr\n",
      "    def __init__(self, b):\n",
      "        self.__ch=b\n",
      "    def show(self):\n",
      "        sys.stdout.write(self.__ch),\n",
      "class C(A, B):\n",
      "    __ch=chr\n",
      "    def __init__(self, c1, c2, c3):\n",
      "        A.__init__(self, c1)\n",
      "        B.__init__(self, c2)\n",
      "        self.__ch=c3\n",
      "objc=C('a', 'b', 'c')\n",
      "print \"objc.A::show() = \",\n",
      "A.show(objc)\n",
      "print \"\\nobjc.B::show() = \",\n",
      "B.show(objc)"
     ],
     "language": "python",
     "metadata": {},
     "outputs": [
      {
       "output_type": "stream",
       "stream": "stdout",
       "text": [
        "objc.A::show() = a \n",
        "objc.B::show() = b\n"
       ]
      }
     ],
     "prompt_number": 1
    },
    {
     "cell_type": "heading",
     "level": 2,
     "metadata": {},
     "source": [
      "Example-mul_inh5.cpp, Page no-584"
     ]
    },
    {
     "cell_type": "code",
     "collapsed": false,
     "input": [
      "import sys\n",
      "class A:\n",
      "    __ch=chr\n",
      "    def __init__(self, c):\n",
      "        self.__ch=c\n",
      "    def show(self):\n",
      "        sys.stdout.write(self.__ch),\n",
      "class B:\n",
      "    __ch=chr\n",
      "    def __init__(self, b):\n",
      "        self.__ch=b\n",
      "    def show(self):\n",
      "        sys.stdout.write(self.__ch),\n",
      "class C(A, B):\n",
      "    __ch=chr\n",
      "    def __init__(self, c1, c2, c3):\n",
      "        A.__init__(self, c1)\n",
      "        B.__init__(self, c2)\n",
      "        self.__ch=c3\n",
      "    def show(self):\n",
      "        A.show(self)\n",
      "        B.show(self)\n",
      "        sys.stdout.write(self.__ch),\n",
      "objc=C('a', 'b', 'c')\n",
      "print \"objc.show() = \",\n",
      "objc.show()\n",
      "print \"\\nobjc.C::show() = \",\n",
      "C.show(objc)\n",
      "print \"\\nobjc.A::show() = \",\n",
      "A.show(objc)\n",
      "print \"\\nobjc.B::show() = \",\n",
      "B.show(objc)"
     ],
     "language": "python",
     "metadata": {},
     "outputs": [
      {
       "output_type": "stream",
       "stream": "stdout",
       "text": [
        "objc.show() = abc \n",
        "objc.C::show() = abc \n",
        "objc.A::show() = a \n",
        "objc.B::show() = b\n"
       ]
      }
     ],
     "prompt_number": 1
    },
    {
     "cell_type": "heading",
     "level": 2,
     "metadata": {},
     "source": [
      "Example-publish1.cpp, Page no-586"
     ]
    },
    {
     "cell_type": "code",
     "collapsed": false,
     "input": [
      "class publication:\n",
      "    __title=[chr]*40\n",
      "    __price=float\n",
      "    def getdata(self):\n",
      "        self.__title=raw_input(\"\\tEnter Title: \")\n",
      "        self.__price=float(raw_input(\"\\tEnter Price: \"))\n",
      "    def display(self):\n",
      "        print \"\\tTitle =\", self.__title\n",
      "        print \"\\tPrice = %g\" %(self.__price)\n",
      "class sales:\n",
      "    __PublishSales=[]\n",
      "    def __init__(self):\n",
      "        self.__PublishSales=[float]*3\n",
      "    def getdata(self):\n",
      "        for i in range(3):\n",
      "            print \"\\tEnter Sales of\", i+1, \"Month: \",\n",
      "            self.__PublishSales[i]=float(raw_input())\n",
      "    def display(self):\n",
      "        TotalSales=0\n",
      "        for i in range(3):\n",
      "            print \"\\tSales of\", i+1, \"Month = %g\" %(self.__PublishSales[i])\n",
      "            TotalSales+=self.__PublishSales[i]\n",
      "        print \"\\tTotalSales = %g\" %(TotalSales)\n",
      "class book(publication, sales):\n",
      "    __pages=int\n",
      "    def getdata(self):\n",
      "        publication.getdata(self)\n",
      "        self.__pages=int(raw_input(\"\\tEnter Number of Pages: \"))\n",
      "        sales.getdata(self)\n",
      "    def display(self):\n",
      "        publication.display(self)\n",
      "        print \"\\tNumber of Pages = %g\" %(self.__pages)\n",
      "        sales.display(self)\n",
      "class tape(publication, sales):\n",
      "    __PlayTime=int\n",
      "    def getdata(self):\n",
      "        publication.getdata(self)\n",
      "        self.__PlayTime=int(raw_input(\"\\tEnter Playing Time in Minute: \"))\n",
      "        sales.getdata(self)\n",
      "    def display(self):\n",
      "        publication.display(self)\n",
      "        print \"\\tPlaying Time in Minute = %g\" %(self.__PlayTime)\n",
      "        sales.display(self)\n",
      "class pamphlet(publication):\n",
      "    pass\n",
      "class notice(pamphlet):\n",
      "    __whom=[chr]*20\n",
      "    def getdata(self):\n",
      "        pamphlet.getdata(self)\n",
      "        self.__whom=raw_input(\"\\tEnter Type of Distributor: \")\n",
      "    def display(self):\n",
      "        pamphlet.display(self)\n",
      "        print \"\\tType of Distributor =\", self.__whom\n",
      "book1=book()\n",
      "tape1=tape()\n",
      "pamp1=pamphlet()\n",
      "notice1=notice()\n",
      "print \"Enter Book Publication Data...\"\n",
      "book1.getdata()\n",
      "print \"Enter Tape Publication Data...\"\n",
      "tape1.getdata()\n",
      "print \"Enter Pamhlet Publication Data...\"\n",
      "pamp1.getdata()\n",
      "print \"Enter Notice Publication Data...\"\n",
      "notice1.getdata()\n",
      "print \"Book Publication Data...\"\n",
      "book1.display()\n",
      "print \"Tape Publication Data...\"\n",
      "tape1.display()\n",
      "print \"Pamphlet Publication Data...\"\n",
      "pamp1.display()\n",
      "print \"Notice Publication Data...\"\n",
      "notice1.display()"
     ],
     "language": "python",
     "metadata": {},
     "outputs": [
      {
       "output_type": "stream",
       "stream": "stdout",
       "text": [
        "Enter Book Publication Data...\n"
       ]
      },
      {
       "name": "stdout",
       "output_type": "stream",
       "stream": "stdout",
       "text": [
        "\tEnter Title: Microprocessor-x86-Programming\n"
       ]
      },
      {
       "name": "stdout",
       "output_type": "stream",
       "stream": "stdout",
       "text": [
        "\tEnter Price: 180\n"
       ]
      },
      {
       "name": "stdout",
       "output_type": "stream",
       "stream": "stdout",
       "text": [
        "\tEnter Number of Pages: 750\n"
       ]
      },
      {
       "output_type": "stream",
       "stream": "stdout",
       "text": [
        "\tEnter Sales of 1 Month: "
       ]
      },
      {
       "name": "stdout",
       "output_type": "stream",
       "stream": "stdout",
       "text": [
        "1000\n"
       ]
      },
      {
       "output_type": "stream",
       "stream": "stdout",
       "text": [
        " \tEnter Sales of 2 Month: "
       ]
      },
      {
       "name": "stdout",
       "output_type": "stream",
       "stream": "stdout",
       "text": [
        "500\n"
       ]
      },
      {
       "output_type": "stream",
       "stream": "stdout",
       "text": [
        " \tEnter Sales of 3 Month: "
       ]
      },
      {
       "name": "stdout",
       "output_type": "stream",
       "stream": "stdout",
       "text": [
        "800\n"
       ]
      },
      {
       "output_type": "stream",
       "stream": "stdout",
       "text": [
        " Enter Tape Publication Data...\n"
       ]
      },
      {
       "name": "stdout",
       "output_type": "stream",
       "stream": "stdout",
       "text": [
        "\tEnter Title: Love-1947\n"
       ]
      },
      {
       "name": "stdout",
       "output_type": "stream",
       "stream": "stdout",
       "text": [
        "\tEnter Price: 100\n"
       ]
      },
      {
       "name": "stdout",
       "output_type": "stream",
       "stream": "stdout",
       "text": [
        "\tEnter Playing Time in Minute: 10\n"
       ]
      },
      {
       "output_type": "stream",
       "stream": "stdout",
       "text": [
        "\tEnter Sales of 1 Month: "
       ]
      },
      {
       "name": "stdout",
       "output_type": "stream",
       "stream": "stdout",
       "text": [
        "200\n"
       ]
      },
      {
       "output_type": "stream",
       "stream": "stdout",
       "text": [
        " \tEnter Sales of 2 Month: "
       ]
      },
      {
       "name": "stdout",
       "output_type": "stream",
       "stream": "stdout",
       "text": [
        "500\n"
       ]
      },
      {
       "output_type": "stream",
       "stream": "stdout",
       "text": [
        " \tEnter Sales of 3 Month: "
       ]
      },
      {
       "name": "stdout",
       "output_type": "stream",
       "stream": "stdout",
       "text": [
        "400\n"
       ]
      },
      {
       "output_type": "stream",
       "stream": "stdout",
       "text": [
        " Enter Pamhlet Publication Data...\n"
       ]
      },
      {
       "name": "stdout",
       "output_type": "stream",
       "stream": "stdout",
       "text": [
        "\tEnter Title: Advanced-Computing-95-Conference\n"
       ]
      },
      {
       "name": "stdout",
       "output_type": "stream",
       "stream": "stdout",
       "text": [
        "\tEnter Price: 10\n"
       ]
      },
      {
       "output_type": "stream",
       "stream": "stdout",
       "text": [
        "Enter Notice Publication Data...\n"
       ]
      },
      {
       "name": "stdout",
       "output_type": "stream",
       "stream": "stdout",
       "text": [
        "\tEnter Title: General-Meeting\n"
       ]
      },
      {
       "name": "stdout",
       "output_type": "stream",
       "stream": "stdout",
       "text": [
        "\tEnter Price: 100\n"
       ]
      },
      {
       "name": "stdout",
       "output_type": "stream",
       "stream": "stdout",
       "text": [
        "\tEnter Type of Distributor: Retail\n"
       ]
      },
      {
       "output_type": "stream",
       "stream": "stdout",
       "text": [
        "Book Publication Data...\n",
        "\tTitle = Microprocessor-x86-Programming\n",
        "\tPrice = 180\n",
        "\tNumber of Pages = 750\n",
        "\tSales of 1 Month = 1000\n",
        "\tSales of 2 Month = 500\n",
        "\tSales of 3 Month = 800\n",
        "\tTotalSales = 2300\n",
        "Tape Publication Data...\n",
        "\tTitle = Love-1947\n",
        "\tPrice = 100\n",
        "\tPlaying Time in Minute = 10\n",
        "\tSales of 1 Month = 200\n",
        "\tSales of 2 Month = 500\n",
        "\tSales of 3 Month = 400\n",
        "\tTotalSales = 1100\n",
        "Pamphlet Publication Data...\n",
        "\tTitle = Advanced-Computing-95-Conference\n",
        "\tPrice = 10\n",
        "Notice Publication Data...\n",
        "\tTitle = General-Meeting\n",
        "\tPrice = 100\n",
        "\tType of Distributor = Retail\n"
       ]
      }
     ],
     "prompt_number": 1
    },
    {
     "cell_type": "heading",
     "level": 2,
     "metadata": {},
     "source": [
      "Example-vehicle.cpp, Page no-591"
     ]
    },
    {
     "cell_type": "code",
     "collapsed": false,
     "input": [
      "MAX_LEN=25\n",
      "class Vehicle:\n",
      "    __name=[chr]*MAX_LEN\n",
      "    __WheelsCount=int\n",
      "    def GetData(self):\n",
      "        self.__name=raw_input(\"Name of the Vehicle ? \")\n",
      "        self.__WheelsCount=int(raw_input(\"Wheels ? \"))\n",
      "    def DisplayData(self):\n",
      "        print \"Name of the Vehicle :\", self.__name \n",
      "        print \"Wheels :\", self.__WheelsCount\n",
      "class LightMotor(Vehicle):\n",
      "    __SpeedLimit=int\n",
      "    def GetData(self):\n",
      "        Vehicle.GetData(self)\n",
      "        self.__SpeedLimit=int(raw_input(\"Speed Limit ? \"))\n",
      "    def DisplayData(self):\n",
      "        Vehicle.DisplayData(self)\n",
      "        print \"Speed Limit :\", self.__SpeedLimit\n",
      "class HeavyMotor(Vehicle):\n",
      "    __permit=[chr]*MAX_LEN\n",
      "    __LoadCapacity=int\n",
      "    def GetData(self):\n",
      "        Vehicle.GetData(self)\n",
      "        self.__LoadCapacity=int(raw_input(\"Load Carrying Capacity ? \"))\n",
      "        self.__permit=raw_input(\"Permit Type ? \")\n",
      "    def DisplayData(self):\n",
      "        Vehicle.DisplayData(self)\n",
      "        print \"Load Carrying Capacity : \", self.__LoadCapacity \n",
      "        print \"Permit:\", self.__permit\n",
      "class GearMotor(LightMotor):\n",
      "    __GearCount=int\n",
      "    def GetData(self):\n",
      "        LightMotor.GetData(self)\n",
      "        self.__GearCount=int(raw_input(\"No. of Gears ? \"))\n",
      "    def DisplayData(self):\n",
      "        LightMotor.DisplayData(self)\n",
      "        print \"Gears :\", self.__GearCount\n",
      "class NonGearMotor(LightMotor):\n",
      "    def GetData(self):\n",
      "        LightMotor.Getdata(self)\n",
      "    def DisplayData(self):\n",
      "        LightMotor.DisplayData(self)\n",
      "class Passenger(HeavyMotor):\n",
      "    __sitting=int\n",
      "    __standing=int\n",
      "    def GetData(self):\n",
      "        HeavyMotor.GetData(self)\n",
      "        self.__sitting=int(raw_input(\"Maximum Seats ? \"))\n",
      "        self.__standing=int(raw_input(\"Maximum Standing ? \"))\n",
      "    def DisplayData(self):\n",
      "        HeavyMotor.DisplayData(self)\n",
      "        print \"Maximum Seats:\", self.__sitting\n",
      "        print \"Maximum Standing:\", self.__standing\n",
      "class Goods(HeavyMotor):\n",
      "    def GetData(self):\n",
      "        HeavyMotor.Getdata(self)\n",
      "    def DisplayData(self):\n",
      "        HeavyMotor.DisplayData(self)\n",
      "vehi1=GearMotor()\n",
      "vehi2=Passenger()\n",
      "print \"Enter Data for Gear Motor Vehicle...\"\n",
      "vehi1.GetData()\n",
      "print \"Enter Data for Passenger Motor Vehicle...\"\n",
      "vehi2.GetData()\n",
      "print \"Data of Gear Motor Vehicle...\"\n",
      "vehi1.DisplayData()\n",
      "print \"Data of Passenger Motor Vehicle...\"\n",
      "vehi2.DisplayData()"
     ],
     "language": "python",
     "metadata": {},
     "outputs": [
      {
       "output_type": "stream",
       "stream": "stdout",
       "text": [
        "Enter Data for Gear Motor Vehicle...\n"
       ]
      },
      {
       "name": "stdout",
       "output_type": "stream",
       "stream": "stdout",
       "text": [
        "Name of the Vehicle ? Maruti-Car\n"
       ]
      },
      {
       "name": "stdout",
       "output_type": "stream",
       "stream": "stdout",
       "text": [
        "Wheels ? 4\n"
       ]
      },
      {
       "name": "stdout",
       "output_type": "stream",
       "stream": "stdout",
       "text": [
        "Speed Limit ? 4\n"
       ]
      },
      {
       "name": "stdout",
       "output_type": "stream",
       "stream": "stdout",
       "text": [
        "No. of Gears ? 5\n"
       ]
      },
      {
       "output_type": "stream",
       "stream": "stdout",
       "text": [
        "Enter Data for Passenger Motor Vehicle...\n"
       ]
      },
      {
       "name": "stdout",
       "output_type": "stream",
       "stream": "stdout",
       "text": [
        "Name of the Vehicle ? KSRTC-BUS\n"
       ]
      },
      {
       "name": "stdout",
       "output_type": "stream",
       "stream": "stdout",
       "text": [
        "Wheels ? 4\n"
       ]
      },
      {
       "name": "stdout",
       "output_type": "stream",
       "stream": "stdout",
       "text": [
        "Load Carrying Capacity ? 60\n"
       ]
      },
      {
       "name": "stdout",
       "output_type": "stream",
       "stream": "stdout",
       "text": [
        "Permit Type ? National\n"
       ]
      },
      {
       "name": "stdout",
       "output_type": "stream",
       "stream": "stdout",
       "text": [
        "Maximum Seats ? 45\n"
       ]
      },
      {
       "name": "stdout",
       "output_type": "stream",
       "stream": "stdout",
       "text": [
        "Maximum Standing ? 60\n"
       ]
      },
      {
       "output_type": "stream",
       "stream": "stdout",
       "text": [
        "Data of Gear Motor Vehicle...\n",
        "Name of the Vehicle : Maruti-Car\n",
        "Wheels : 4\n",
        "Speed Limit : 4\n",
        "Gears : 5\n",
        "Data of Passenger Motor Vehicle...\n",
        "Name of the Vehicle : KSRTC-BUS\n",
        "Wheels : 4\n",
        "Load Carrying Capacity :  60\n",
        "Permit: National\n",
        "Maximum Seats: 45\n",
        "Maximum Standing: 60\n"
       ]
      }
     ],
     "prompt_number": 4
    },
    {
     "cell_type": "heading",
     "level": 2,
     "metadata": {},
     "source": [
      "Example-int_ext.cpp, Page no-595"
     ]
    },
    {
     "cell_type": "code",
     "collapsed": false,
     "input": [
      "MAX_LEN=25\n",
      "class student():\n",
      "    __RollNo=int\n",
      "    __branch=[chr]*20\n",
      "    def ReadStudentData(self):\n",
      "        self.__RollNo=int(raw_input(\"Roll Number ? \"))\n",
      "        self.__branch=raw_input(\"Branch Studying ? \")\n",
      "    def DisplayStudentData(self):\n",
      "        print \"Roll Number:\", self.__RollNo\n",
      "        print \"Branch:\", self.__branch\n",
      "class InternalExam(student):\n",
      "    __Sub1Marks=int\n",
      "    __Sub2Marks=int\n",
      "    def ReadData(self):\n",
      "        self.__Sub1Marks=int(raw_input(\"Marks scored in Subject 1 < Max:100> ? \"))\n",
      "        self.__Sub2Marks=int(raw_input(\"Marks scored in Subject 2 < Max:100> ? \"))\n",
      "    def DisplayData(self):\n",
      "        print \"Internal Marks scored in Subject 1:\", self.__Sub1Marks\n",
      "        print \"Internal Marks scored in Subject 2:\", self.__Sub2Marks\n",
      "        print \"Internal Total Marks Scored:\", self.TotalMarks()\n",
      "    def InternalTotalMarks(self):\n",
      "        return self.__Sub1Marks+self.__Sub2Marks\n",
      "class ExternalExam(student):\n",
      "    __Sub1Marks=int\n",
      "    __Sub2Marks=int\n",
      "    def ReadData(self):\n",
      "        self.__Sub1Marks=int(raw_input(\"Marks scored in Subject 1 < Max:100> ? \"))\n",
      "        self.__Sub2Marks=int(raw_input(\"Marks scored in Subject 2 < Max:100> ? \"))\n",
      "    def DisplayData(self):\n",
      "        print \"External Marks scored in Subject 1:\", self.__Sub1Marks\n",
      "        print \"External Marks scored in Subject 2:\", self.__Sub2Marks\n",
      "        print \"External Total Marks Scored:\", self.ExternalTotalMarks()\n",
      "    def ExternalTotalMarks(self):\n",
      "        return self.__Sub1Marks+self.__Sub2Marks\n",
      "class result(InternalExam, ExternalExam):\n",
      "    __total=int\n",
      "    def TotalMarks(self):\n",
      "        return InternalExam.InternalTotalMarks(self)+ExternalExam.ExternalTotalMarks(self)\n",
      "student1=result()\n",
      "print \"Enter data for Student1...\"\n",
      "student1.ReadStudentData()\n",
      "print \"Enter internal marks...\"\n",
      "InternalExam.ReadData(student1)\n",
      "print \"Enter external marks...\"\n",
      "ExternalExam.ReadData(student1)\n",
      "print \"Student Details...\"\n",
      "student1.DisplayStudentData()\n",
      "InternalExam.DisplayData(student1)\n",
      "ExternalExam.DisplayData(student1)\n",
      "print \"Total Marks =\", student1.TotalMarks()"
     ],
     "language": "python",
     "metadata": {},
     "outputs": [
      {
       "output_type": "stream",
       "stream": "stdout",
       "text": [
        "Enter data for Student1...\n"
       ]
      },
      {
       "name": "stdout",
       "output_type": "stream",
       "stream": "stdout",
       "text": [
        "Roll Number ? 9\n"
       ]
      },
      {
       "name": "stdout",
       "output_type": "stream",
       "stream": "stdout",
       "text": [
        "Branch Studying ? Computer-Technology\n"
       ]
      },
      {
       "output_type": "stream",
       "stream": "stdout",
       "text": [
        "Enter internal marks...\n"
       ]
      },
      {
       "name": "stdout",
       "output_type": "stream",
       "stream": "stdout",
       "text": [
        "Marks scored in Subject 1 < Max:100> ? 80\n"
       ]
      },
      {
       "name": "stdout",
       "output_type": "stream",
       "stream": "stdout",
       "text": [
        "Marks scored in Subject 2 < Max:100> ? 85\n"
       ]
      },
      {
       "output_type": "stream",
       "stream": "stdout",
       "text": [
        "Enter external marks...\n"
       ]
      },
      {
       "name": "stdout",
       "output_type": "stream",
       "stream": "stdout",
       "text": [
        "Marks scored in Subject 1 < Max:100> ? 89\n"
       ]
      },
      {
       "name": "stdout",
       "output_type": "stream",
       "stream": "stdout",
       "text": [
        "Marks scored in Subject 2 < Max:100> ? 90\n"
       ]
      },
      {
       "output_type": "stream",
       "stream": "stdout",
       "text": [
        "Student Details...\n",
        "Roll Number: 9\n",
        "Branch: Computer-Technology\n",
        "Internal Marks scored in Subject 1: 80\n",
        "Internal Marks scored in Subject 2: 85\n",
        "Internal Total Marks Scored: 344\n",
        "External Marks scored in Subject 1: 89\n",
        "External Marks scored in Subject 2: 90\n",
        "External Total Marks Scored: 179\n",
        "Total Marks = 344\n"
       ]
      }
     ],
     "prompt_number": 1
    },
    {
     "cell_type": "heading",
     "level": 2,
     "metadata": {},
     "source": [
      "Example-vir.cpp, Page no-598"
     ]
    },
    {
     "cell_type": "code",
     "collapsed": false,
     "input": [
      "class A:\n",
      "    __x=int\n",
      "    def __init__(self, i=None):\n",
      "        if isinstance(i, int):\n",
      "            self.__x=i\n",
      "        else:\n",
      "            self.__x=-1\n",
      "    def geta(self):\n",
      "        return self.__x\n",
      "class B(A):\n",
      "    __y=int\n",
      "    def __init__(self, i, k):\n",
      "        A.__init__(self, i)\n",
      "        self.__y=k\n",
      "    def getb(self):\n",
      "        return self.__y\n",
      "    def show(self):\n",
      "        print self._A__x, self.geta(), self.getb()\n",
      "class C(A):\n",
      "    __z=int\n",
      "    def __init__(self, i, k):\n",
      "        A.__init__(self, i)\n",
      "        self.__z=k\n",
      "    def getc(self):\n",
      "        return self.__z\n",
      "    def show(self):\n",
      "        print self._A__x, self.geta(), self.getc()\n",
      "class D(B,C):\n",
      "    def __init__(self, i, j):\n",
      "        B.__init__(self, i, j)\n",
      "        C.__init__(self, i, j)\n",
      "    def show(self):\n",
      "        print self._A__x, self.geta(), self.getb(), self.getc(), self.getc()\n",
      "d1=D(3, 5)\n",
      "print \"Object d1 contents:\",\n",
      "d1.show() #unlike C++, python executes the 1 argument constuctor of A() instead of implicit call to the no argument constructor of A()\n",
      "b1=B(7, 9)\n",
      "print \"Object b1 contents:\",\n",
      "b1.show()\n",
      "c1=C(11, 13)\n",
      "print \"Object c1 contents:\",\n",
      "c1.show()"
     ],
     "language": "python",
     "metadata": {},
     "outputs": [
      {
       "output_type": "stream",
       "stream": "stdout",
       "text": [
        "Object d1 contents: 3 3 5 5 5\n",
        "Object b1 contents: 7 7 9\n",
        "Object c1 contents: 11 11 13\n"
       ]
      }
     ],
     "prompt_number": 1
    },
    {
     "cell_type": "heading",
     "level": 2,
     "metadata": {},
     "source": [
      "Example-sports.cpp, Page no-601"
     ]
    },
    {
     "cell_type": "code",
     "collapsed": false,
     "input": [
      "MAX_LEN=25\n",
      "class person:\n",
      "    __name=[chr]*MAX_LEN\n",
      "    __sex=chr\n",
      "    __age=int\n",
      "    def ReadPerson(self):\n",
      "        self.__name=raw_input(\"Name ? \")\n",
      "        self.__sex=str(raw_input(\"Sex ? \"))\n",
      "        self.__age=int(raw_input(\"Age ? \"))\n",
      "    def DisplayPerson(self):\n",
      "        print \"Name:\", self.__name\n",
      "        print \"Sex: \", self.__sex\n",
      "        print \"Age: \", self.__age\n",
      "class sports(person):\n",
      "    __name=[chr]*MAX_LEN\n",
      "    __score=int\n",
      "    def ReadData(self):\n",
      "        self.__name=raw_input(\"Game Played ? \")\n",
      "        self.__score=int(raw_input(\"Game Score ? \"))\n",
      "    def DisplayData(self):\n",
      "        print \"Sports Played:\", self.__name\n",
      "        print \"Game Score: \", self.__score\n",
      "    def SportsScore(self):\n",
      "        return self.__score\n",
      "class student(person):\n",
      "    __RollNo=int\n",
      "    __branch=[chr]*20\n",
      "    def ReadData(self):\n",
      "        self.__RollNo=int(raw_input(\"Roll Number ? \"))\n",
      "        self.__branch=raw_input(\"Branch Studying ? \")\n",
      "    def DisplayData(self):\n",
      "        print \"Roll Number:\", self.__RollNo\n",
      "        print \"Branch:\", self.__branch\n",
      "class exam(student):\n",
      "    __Sub1Marks=int\n",
      "    __Sub2Marks=int\n",
      "    def ReadData(self):\n",
      "        self.__Sub1Marks=int(raw_input(\"Marks scored in Subject 1 < Max:100> ? \"))\n",
      "        self.__Sub2Marks=int(raw_input(\"Marks scored in Subject 2 < Max:100> ? \"))\n",
      "    def DisplayData(self):\n",
      "        print \"Marks scored in Subject 1:\", self.__Sub1Marks\n",
      "        print \"Marks scored in Subject 2:\", self.__Sub2Marks\n",
      "        print \"Total Marks Scored:\", self.TotalMarks()\n",
      "    def TotalMarks(self):\n",
      "        return self.__Sub1Marks+self.__Sub2Marks\n",
      "class result(exam, sports):\n",
      "    __total=int\n",
      "    def ReadData(self):\n",
      "        self.ReadPerson()\n",
      "        student.ReadData(self)\n",
      "        exam.ReadData(self)\n",
      "        sports.ReadData(self)\n",
      "    def DisplayData(self):\n",
      "        self.DisplayPerson()\n",
      "        student.DisplayData(self)\n",
      "        exam.DisplayData(self)\n",
      "        sports.DisplayData(self)\n",
      "        print \"Overall Performance, (exam + sports) :\",self.Percentage(), \"%\"\n",
      "    def Percentage(self):\n",
      "        return (exam.TotalMarks(self)+self.SportsScore())/3\n",
      "Student=result()\n",
      "print \"Enter data for Student...\"\n",
      "Student.ReadData()\n",
      "print \"Student Details...\"\n",
      "Student.DisplayData()"
     ],
     "language": "python",
     "metadata": {},
     "outputs": [
      {
       "output_type": "stream",
       "stream": "stdout",
       "text": [
        "Enter data for Student...\n"
       ]
      },
      {
       "name": "stdout",
       "output_type": "stream",
       "stream": "stdout",
       "text": [
        "Name ? Rajkumar\n"
       ]
      },
      {
       "name": "stdout",
       "output_type": "stream",
       "stream": "stdout",
       "text": [
        "Sex ? M\n"
       ]
      },
      {
       "name": "stdout",
       "output_type": "stream",
       "stream": "stdout",
       "text": [
        "Age ? 24\n"
       ]
      },
      {
       "name": "stdout",
       "output_type": "stream",
       "stream": "stdout",
       "text": [
        "Roll Number ? 9\n"
       ]
      },
      {
       "name": "stdout",
       "output_type": "stream",
       "stream": "stdout",
       "text": [
        "Branch Studying ? Computer-Technology\n"
       ]
      },
      {
       "name": "stdout",
       "output_type": "stream",
       "stream": "stdout",
       "text": [
        "Marks scored in Subject 1 < Max:100> ? 92\n"
       ]
      },
      {
       "name": "stdout",
       "output_type": "stream",
       "stream": "stdout",
       "text": [
        "Marks scored in Subject 2 < Max:100> ? 88\n"
       ]
      },
      {
       "name": "stdout",
       "output_type": "stream",
       "stream": "stdout",
       "text": [
        "Game Played ? Cricket\n"
       ]
      },
      {
       "name": "stdout",
       "output_type": "stream",
       "stream": "stdout",
       "text": [
        "Game Score ? 85\n"
       ]
      },
      {
       "output_type": "stream",
       "stream": "stdout",
       "text": [
        "Student Details...\n",
        "Name: Rajkumar\n",
        "Sex:  M\n",
        "Age:  24\n",
        "Roll Number: 9\n",
        "Branch: Computer-Technology\n",
        "Marks scored in Subject 1: 92\n",
        "Marks scored in Subject 2: 88\n",
        "Total Marks Scored: 180\n",
        "Sports Played: Cricket\n",
        "Game Score:  85\n",
        "Overall Performance, (exam + sports) : 88 %\n"
       ]
      }
     ],
     "prompt_number": 1
    },
    {
     "cell_type": "heading",
     "level": 2,
     "metadata": {},
     "source": [
      "Example-nesting.cpp, Page no-605"
     ]
    },
    {
     "cell_type": "code",
     "collapsed": false,
     "input": [
      "class B:\n",
      "    num=int\n",
      "    def __init__(self, a=None):\n",
      "        if isinstance(a, int):\n",
      "            print \"Constructor B( int a ) is invoked\"\n",
      "            self.num=a\n",
      "        else:\n",
      "            self.num=0\n",
      "class D:\n",
      "    data1=int\n",
      "    objb=B()\n",
      "    def __init__(self, a):\n",
      "        self.objb.__init__(a)\n",
      "        self.data1=a\n",
      "    def output(self):\n",
      "        print \"Data in Object of Class S =\", self.data1\n",
      "        print \"Data in Member object of class B in class D = \",self.objb.num\n",
      "objd = D(10)\n",
      "objd.output()"
     ],
     "language": "python",
     "metadata": {},
     "outputs": [
      {
       "output_type": "stream",
       "stream": "stdout",
       "text": [
        "Constructor B( int a ) is invoked\n",
        "Data in Object of Class S = 10\n",
        "Data in Member object of class B in class D =  10\n"
       ]
      }
     ],
     "prompt_number": 1
    },
    {
     "cell_type": "heading",
     "level": 2,
     "metadata": {},
     "source": [
      "Example-publish2.cpp, Page no-608"
     ]
    },
    {
     "cell_type": "code",
     "collapsed": false,
     "input": [
      "class publication:\n",
      "    __title=[chr]*40\n",
      "    __price=float\n",
      "    def getdata(self):\n",
      "        self.__title=raw_input(\"\\tEnter Title: \")\n",
      "        self.__price=float(raw_input(\"\\tEnter Price: \"))\n",
      "    def display(self):\n",
      "        print \"\\tTitle =\", self.__title\n",
      "        print \"\\tPrice = %g\" %(self.__price)\n",
      "class sales:\n",
      "    __PublishSales=[]\n",
      "    def __init__(self):\n",
      "        self.__PublishSales=[float]*3\n",
      "    def getdata(self):\n",
      "        for i in range(3):\n",
      "            print \"\\tEnter Sales of\", i+1, \"Month: \",\n",
      "            self.__PublishSales[i]=float(raw_input())\n",
      "    def display(self):\n",
      "        TotalSales=0\n",
      "        for i in range(3):\n",
      "            print \"\\tSales of\", i+1, \"Month = %g\" %(self.__PublishSales[i])\n",
      "            TotalSales+=self.__PublishSales[i]\n",
      "        print \"\\tTotalSales = %g\" %(TotalSales)\n",
      "class book:\n",
      "    __pages=int\n",
      "    pub=publication()\n",
      "    market=sales()\n",
      "    def getdata(self):\n",
      "        self.pub.getdata()\n",
      "        self.__pages=int(raw_input(\"\\tEnter Number of Pages: \"))\n",
      "        self.market.getdata()\n",
      "    def display(self):\n",
      "        self.pub.display()\n",
      "        print \"\\tNumber of Pages = %g\" %(self.__pages)\n",
      "        self.market.display()\n",
      "book1=book()\n",
      "print \"Enter Book Publication Data...\"\n",
      "book1.getdata()\n",
      "print \"Book Publication Data...\"\n",
      "book1.display()"
     ],
     "language": "python",
     "metadata": {},
     "outputs": [
      {
       "output_type": "stream",
       "stream": "stdout",
       "text": [
        "Enter Book Publication Data...\n"
       ]
      },
      {
       "name": "stdout",
       "output_type": "stream",
       "stream": "stdout",
       "text": [
        "\tEnter Title: Microprocessor-x86-Programming\n"
       ]
      },
      {
       "name": "stdout",
       "output_type": "stream",
       "stream": "stdout",
       "text": [
        "\tEnter Price: 180\n"
       ]
      },
      {
       "name": "stdout",
       "output_type": "stream",
       "stream": "stdout",
       "text": [
        "\tEnter Number of Pages: 750\n"
       ]
      },
      {
       "output_type": "stream",
       "stream": "stdout",
       "text": [
        "\tEnter Sales of 1 Month: "
       ]
      },
      {
       "name": "stdout",
       "output_type": "stream",
       "stream": "stdout",
       "text": [
        "1000\n"
       ]
      },
      {
       "output_type": "stream",
       "stream": "stdout",
       "text": [
        " \tEnter Sales of 2 Month: "
       ]
      },
      {
       "name": "stdout",
       "output_type": "stream",
       "stream": "stdout",
       "text": [
        "500\n"
       ]
      },
      {
       "output_type": "stream",
       "stream": "stdout",
       "text": [
        " \tEnter Sales of 3 Month: "
       ]
      },
      {
       "name": "stdout",
       "output_type": "stream",
       "stream": "stdout",
       "text": [
        "800\n"
       ]
      },
      {
       "output_type": "stream",
       "stream": "stdout",
       "text": [
        " Book Publication Data...\n",
        "\tTitle = Microprocessor-x86-Programming\n",
        "\tPrice = 180\n",
        "\tNumber of Pages = 750\n",
        "\tSales of 1 Month = 1000\n",
        "\tSales of 2 Month = 500\n",
        "\tSales of 3 Month = 800\n",
        "\tTotalSales = 2300\n"
       ]
      }
     ],
     "prompt_number": 1
    },
    {
     "cell_type": "heading",
     "level": 2,
     "metadata": {},
     "source": [
      "Example-1, Page no-611"
     ]
    },
    {
     "cell_type": "code",
     "collapsed": false,
     "input": [
      "class employee:\n",
      "    emp_id=int\n",
      "    emp_name=[chr]*30\n",
      "    def getdata(self):\n",
      "        self.__emp_id=int(raw_input(\"Enter employee number: \"))\n",
      "        self.__emp_name=raw_input(\"Enter emploee name: \")\n",
      "    def displaydata(self):\n",
      "        print \"Employee Number:\", self.__emp_id, \"\\nEmployee Name:\", self.__emp_name\n",
      "class emp_union:\n",
      "    __member_id=int\n",
      "    def getdata(self):\n",
      "        self.__member_id=int(raw_input(\"Enter member id: \"))\n",
      "    def displaydata(self):\n",
      "        print \"Member ID:\", self.__member_id\n",
      "class emp_info(employee, emp_union):\n",
      "    __basic_salary=float\n",
      "    def getdata(self):\n",
      "        employee.getdata(self)\n",
      "        emp_union.getdata(self)\n",
      "        self.__basic_salary=int(raw_input(\"Enter basic salary: \"))\n",
      "    def displaydata(self):\n",
      "        employee.displaydata(self)\n",
      "        emp_union.displaydata(self)\n",
      "        print \"Basic Salary:\", self.__basic_salary\n",
      "e1=emp_info()\n",
      "e1.getdata()\n",
      "e1.displaydata()"
     ],
     "language": "python",
     "metadata": {},
     "outputs": [
      {
       "name": "stdout",
       "output_type": "stream",
       "stream": "stdout",
       "text": [
        "Enter employee number: 23\n"
       ]
      },
      {
       "name": "stdout",
       "output_type": "stream",
       "stream": "stdout",
       "text": [
        "Enter emploee name: Krishnan\n"
       ]
      },
      {
       "name": "stdout",
       "output_type": "stream",
       "stream": "stdout",
       "text": [
        "Enter member id: 443\n"
       ]
      },
      {
       "name": "stdout",
       "output_type": "stream",
       "stream": "stdout",
       "text": [
        "Enter basic salary: 8500\n"
       ]
      },
      {
       "output_type": "stream",
       "stream": "stdout",
       "text": [
        "Employee Number: 23 \n",
        "Employee Name: Krishnan\n",
        "Member ID: 443\n",
        "Basic Salary: 8500\n"
       ]
      }
     ],
     "prompt_number": 1
    },
    {
     "cell_type": "heading",
     "level": 2,
     "metadata": {},
     "source": [
      "Example-2, Page no-613"
     ]
    },
    {
     "cell_type": "code",
     "collapsed": false,
     "input": [
      "class details:\n",
      "    __name=[chr]*30\n",
      "    __address=[chr]*50\n",
      "    def getdata(self):\n",
      "        self.__name=raw_input(\"Name: \")\n",
      "        self.__address=raw_input(\"Address: \")\n",
      "    def displaydata(self):\n",
      "        print \"Name:\", self.__name,\"\\nAddress:\", self.__address\n",
      "class student(details):\n",
      "    __marks=float\n",
      "    def getdata(self):\n",
      "        details.getdata(self)\n",
      "        self.__marks=float(raw_input(\"Percentage Marks: \"))\n",
      "    def displaydata(self):\n",
      "        details.displaydata(self)\n",
      "        print \"Percentage Marks: %g\" %(self.__marks)\n",
      "class staff(details):\n",
      "    __salary=float\n",
      "    def getdata(self):\n",
      "        details.getdata(self)\n",
      "        self.__salary=float(raw_input(\"Salary: \"))\n",
      "    def displaydata(self):\n",
      "        details.displaydata(self)\n",
      "        print \"Salary: %g\" %(self.__salary)\n",
      "student1=student()\n",
      "staff1=staff()\n",
      "print \"Enter student data:\"\n",
      "student1.getdata()\n",
      "print \"Enter staff data:\"\n",
      "staff1.getdata()\n",
      "print \"Displaying student and staff data:\"\n",
      "student1.displaydata()\n",
      "staff1.displaydata()"
     ],
     "language": "python",
     "metadata": {},
     "outputs": [
      {
       "output_type": "stream",
       "stream": "stdout",
       "text": [
        "Enter student data:\n"
       ]
      },
      {
       "name": "stdout",
       "output_type": "stream",
       "stream": "stdout",
       "text": [
        "Name: Venkatesh\n"
       ]
      },
      {
       "name": "stdout",
       "output_type": "stream",
       "stream": "stdout",
       "text": [
        "Address: H.No. 89, AGM Society, Bangalore\n"
       ]
      },
      {
       "name": "stdout",
       "output_type": "stream",
       "stream": "stdout",
       "text": [
        "Percentage Marks: 78.4\n"
       ]
      },
      {
       "output_type": "stream",
       "stream": "stdout",
       "text": [
        "Enter staff data:\n"
       ]
      },
      {
       "name": "stdout",
       "output_type": "stream",
       "stream": "stdout",
       "text": [
        "Name: Vijayan\n"
       ]
      },
      {
       "name": "stdout",
       "output_type": "stream",
       "stream": "stdout",
       "text": [
        "Address: H.No. A-2, SLR Society, Bangalore\n"
       ]
      },
      {
       "name": "stdout",
       "output_type": "stream",
       "stream": "stdout",
       "text": [
        "Salary: 25000\n"
       ]
      },
      {
       "output_type": "stream",
       "stream": "stdout",
       "text": [
        "Displaying student and staff data:\n",
        "Name: Venkatesh \n",
        "Address: H.No. 89, AGM Society, Bangalore\n",
        "Percentage Marks: 78.4\n",
        "Name: Vijayan \n",
        "Address: H.No. A-2, SLR Society, Bangalore\n",
        "Salary: 25000\n"
       ]
      }
     ],
     "prompt_number": 2
    }
   ],
   "metadata": {}
  }
 ]
}