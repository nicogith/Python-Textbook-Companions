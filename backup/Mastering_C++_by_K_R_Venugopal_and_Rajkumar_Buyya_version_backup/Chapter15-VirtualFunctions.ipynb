{
 "metadata": {
  "name": "",
  "signature": "sha256:b2c633d473244077752ca84867fbd4b5425a7e64be9d919c65be58ffebb68245"
 },
 "nbformat": 3,
 "nbformat_minor": 0,
 "worksheets": [
  {
   "cells": [
    {
     "cell_type": "heading",
     "level": 1,
     "metadata": {},
     "source": [
      "Chapter 15-Virtual Functions"
     ]
    },
    {
     "cell_type": "heading",
     "level": 2,
     "metadata": {},
     "source": [
      "Example-parent1.cpp, Page no-618"
     ]
    },
    {
     "cell_type": "code",
     "collapsed": false,
     "input": [
      "class Father:\n",
      "    __name=[chr]*20\n",
      "    def __init__(self, fname):\n",
      "        self.__name=fname\n",
      "    def show(self):\n",
      "        print \"Father name:\", self.__name\n",
      "class Son(Father):\n",
      "    __name=[chr]*20\n",
      "    def __init__(self, sname, fname):\n",
      "        Father.__init__(self, fname)\n",
      "        self.__name=sname\n",
      "    def show(self):\n",
      "        print \"Son name:\", self.__name\n",
      "fp=[Father]\n",
      "f1=Father(\"Eshwarappa\")\n",
      "fp=f1\n",
      "fp.show()\n",
      "s1=Son(\"Rajkumar\", \"Eshwarappa\")\n",
      "fp=s1\n",
      "Father.show(fp)"
     ],
     "language": "python",
     "metadata": {},
     "outputs": [
      {
       "output_type": "stream",
       "stream": "stdout",
       "text": [
        "Father name: Eshwarappa\n",
        "Father name: Eshwarappa\n"
       ]
      }
     ],
     "prompt_number": 1
    },
    {
     "cell_type": "heading",
     "level": 2,
     "metadata": {},
     "source": [
      "Example-parent1.cpp, Page no-619"
     ]
    },
    {
     "cell_type": "code",
     "collapsed": false,
     "input": [
      "class Father():\n",
      "    __name=[chr]*20\n",
      "    def __init__(self, fname):\n",
      "        self.__name=fname\n",
      "    def show(self):\n",
      "        print \"Father name:\", self.__name\n",
      "class Son(Father):\n",
      "    __name=[chr]*20\n",
      "    def __init__(self, sname, fname):\n",
      "        Father.__init__(self, fname)\n",
      "        self.__name=sname\n",
      "    def show(self):\n",
      "        print \"Son name:\", self.__name\n",
      "fp=[Father]\n",
      "f1=Father(\"Eshwarappa\")\n",
      "fp=f1\n",
      "fp.show()\n",
      "s1=Son(\"Rajkumar\", \"Eshwarappa\")\n",
      "fp=s1\n",
      "fp.show()"
     ],
     "language": "python",
     "metadata": {},
     "outputs": [
      {
       "output_type": "stream",
       "stream": "stdout",
       "text": [
        "Father name: Eshwarappa\n",
        "Son name: Rajkumar\n"
       ]
      }
     ],
     "prompt_number": 1
    },
    {
     "cell_type": "heading",
     "level": 2,
     "metadata": {},
     "source": [
      "Example-family1.cpp, Page no-622"
     ]
    },
    {
     "cell_type": "code",
     "collapsed": false,
     "input": [
      "class Father():\n",
      "    __f_age=int\n",
      "    def __init__(self, n):\n",
      "        self.__f_age=n\n",
      "    def GetAge(self):\n",
      "        return self.__f_age\n",
      "class Son(Father):\n",
      "    __s_age=int\n",
      "    def __init__(self, n, m):\n",
      "        Father.__init__(self, n)\n",
      "        self.__s_age=m\n",
      "    def GetAge(self):\n",
      "        return self.__s_age\n",
      "    def son_func(self):\n",
      "        print \"son's own function\"\n",
      "basep=[Father]\n",
      "basep=Father(45)\n",
      "print \"basep points to base object...\"\n",
      "print \"Father's Age:\",\n",
      "print basep.GetAge()\n",
      "del basep\n",
      "basep=[Son(45, 20)]\n",
      "print \"basep points to derived object...\"\n",
      "print \"Son's Age:\",\n",
      "print Father.GetAge(basep[0])\n",
      "print \"By typecasting, ((Son*) basep)...\"\n",
      "print \"Son's age:\",basep[0].GetAge()\n",
      "del basep\n",
      "son1=Son(45, 20)\n",
      "derivedp=[son1]\n",
      "print \"accessing through derived class pointer...\"\n",
      "print \"Son's Age:\",\n",
      "print derivedp[0].GetAge()"
     ],
     "language": "python",
     "metadata": {},
     "outputs": [
      {
       "output_type": "stream",
       "stream": "stdout",
       "text": [
        "basep points to base object...\n",
        "Father's Age: 45\n",
        "basep points to derived object...\n",
        "Son's Age: 45\n",
        "By typecasting, ((Son*) basep)...\n",
        "Son's age: 20\n",
        "accessing through derived class pointer...\n",
        "Son's Age: 20\n"
       ]
      }
     ],
     "prompt_number": 1
    },
    {
     "cell_type": "heading",
     "level": 2,
     "metadata": {},
     "source": [
      "Example-family2.cpp, Page no-626"
     ]
    },
    {
     "cell_type": "code",
     "collapsed": false,
     "input": [
      "class Father():\n",
      "    __f_age=int\n",
      "    def __init__(self, n):\n",
      "        self.__f_age=n\n",
      "    def GetAge(self):\n",
      "        return self.__f_age\n",
      "class Son(Father):\n",
      "    __s_age=int\n",
      "    def __init__(self, n, m):\n",
      "        Father.__init__(self, n)\n",
      "        self.__s_age=m\n",
      "    def GetAge(self):\n",
      "        return self.__s_age\n",
      "basep=[Father]\n",
      "basep=Father(45)\n",
      "print \"Father's Age:\",\n",
      "print basep.GetAge()\n",
      "del basep\n",
      "basep=[Son(45, 20)]\n",
      "print \"Son's Age:\",\n",
      "print basep[0].GetAge()\n",
      "del basep"
     ],
     "language": "python",
     "metadata": {},
     "outputs": [
      {
       "output_type": "stream",
       "stream": "stdout",
       "text": [
        "Father's Age: 45\n",
        "Son's Age: 20\n"
       ]
      }
     ],
     "prompt_number": 1
    },
    {
     "cell_type": "heading",
     "level": 2,
     "metadata": {},
     "source": [
      "Example-draw.cpp, Page no-629"
     ]
    },
    {
     "cell_type": "code",
     "collapsed": false,
     "input": [
      "class graphics:\n",
      "    def draw(self):\n",
      "        print \"point\"\n",
      "class line(graphics):\n",
      "    def draw(self):\n",
      "        print \"line\"\n",
      "class triangle(graphics):\n",
      "    def draw(self):\n",
      "        print \"triangle\"\n",
      "class rectangle(graphics):\n",
      "    def draw(self):\n",
      "        print \"rectangle\"\n",
      "class circle(graphics):\n",
      "    def draw(self):\n",
      "        print \"circle\"\n",
      "point_obj=graphics()\n",
      "line_obj=line()\n",
      "tri_obj=triangle()\n",
      "rect_obj=rectangle()\n",
      "circle_obj=circle()\n",
      "basep=[]\n",
      "basep.append(point_obj)\n",
      "basep.append(line_obj)\n",
      "basep.append(tri_obj)\n",
      "basep.append(rect_obj)\n",
      "basep.append(circle_obj)\n",
      "print \"Following figures are drawn with basep[i]->draw()...\"\n",
      "for i in range(5):\n",
      "    basep[i].draw()"
     ],
     "language": "python",
     "metadata": {},
     "outputs": [
      {
       "output_type": "stream",
       "stream": "stdout",
       "text": [
        "Following figures are drawn with basep[i]->draw()...\n",
        "point\n",
        "line\n",
        "triangle\n",
        "rectangle\n",
        "circle\n"
       ]
      }
     ],
     "prompt_number": 1
    },
    {
     "cell_type": "heading",
     "level": 2,
     "metadata": {},
     "source": [
      "Example-pure.cpp, Page no-632"
     ]
    },
    {
     "cell_type": "code",
     "collapsed": false,
     "input": [
      "class AbsPerson:\n",
      "    def Service1(self, n):\n",
      "        self.Service2(n)\n",
      "    def Service2(self, n): #pure virtual function\n",
      "        pass\n",
      "class Person(AbsPerson):\n",
      "    def Service2(self, n):\n",
      "        print \"The number of years of service:\", 58-n\n",
      "Father=Person()\n",
      "Son=Person()\n",
      "Father.Service1(50)\n",
      "Son.Service2(20)"
     ],
     "language": "python",
     "metadata": {},
     "outputs": [
      {
       "output_type": "stream",
       "stream": "stdout",
       "text": [
        "The number of years of service: 8\n",
        "The number of years of service: 38\n"
       ]
      }
     ],
     "prompt_number": 1
    },
    {
     "cell_type": "heading",
     "level": 2,
     "metadata": {},
     "source": [
      "Example-number.cpp, Page no-633"
     ]
    },
    {
     "cell_type": "code",
     "collapsed": false,
     "input": [
      "class number:\n",
      "    __num=int\n",
      "    def getdata(self):\n",
      "        self.__num=int(raw_input(\"Enter an integer number: \"))\n",
      "    def show(self): #pure virtual function\n",
      "        pass\n",
      "class octnum(number):\n",
      "    def show(self):\n",
      "        print \"Octal equivalent of\", self._number__num,\"=\",oct(self._number__num)\n",
      "class hexnum(number):\n",
      "    def show(self):\n",
      "        print \"Hexadecimal equivalent of\", self._number__num,\"=\",hex(self._number__num)\n",
      "o1=octnum()\n",
      "h1=hexnum()\n",
      "o1.getdata()\n",
      "o1.show()\n",
      "h1.getdata()\n",
      "h1.show()"
     ],
     "language": "python",
     "metadata": {},
     "outputs": [
      {
       "name": "stdout",
       "output_type": "stream",
       "stream": "stdout",
       "text": [
        "Enter an integer number: 11\n"
       ]
      },
      {
       "output_type": "stream",
       "stream": "stdout",
       "text": [
        "Octal equivalent of 11 = 013\n"
       ]
      },
      {
       "name": "stdout",
       "output_type": "stream",
       "stream": "stdout",
       "text": [
        "Enter an integer number: 11\n"
       ]
      },
      {
       "output_type": "stream",
       "stream": "stdout",
       "text": [
        "Hexadecimal equivalent of 11 = 0xb\n"
       ]
      }
     ],
     "prompt_number": 3
    },
    {
     "cell_type": "heading",
     "level": 2,
     "metadata": {},
     "source": [
      "Example-family3.cpp, Page no-637"
     ]
    },
    {
     "cell_type": "code",
     "collapsed": false,
     "input": [
      "class Father():\n",
      "    __f_name=str\n",
      "    def __init__(self, fname):\n",
      "        self.__f_name=fname\n",
      "    def __del__(self):\n",
      "        del self.__f_name\n",
      "        print \"~Father() is invoked\"\n",
      "    def show(self):\n",
      "        print \"Father's name:\", self.__f_name\n",
      "class Son(Father):\n",
      "    __s_name=str\n",
      "    def __init__(self, sname, fname):\n",
      "        Father.__init__(self, fname)\n",
      "        self.__s_name=sname\n",
      "    def __del__(self):\n",
      "        del self.__s_name\n",
      "        print \"~Son() is invoked\"\n",
      "        Father.__del__(self)\n",
      "    def show(self):\n",
      "        print \"Father's name:\", self._Father__f_name\n",
      "        print \"Son's name:\", self.__s_name\n",
      "basep=[Father]\n",
      "basep=Father(\"Eshwarappa\")\n",
      "print \"basep points to base object...\"\n",
      "basep.show()\n",
      "del basep\n",
      "basep=Son(\"Rajkumar\", \"Eshwarappa\")\n",
      "print \"basep points to derived object...\"\n",
      "basep.show()\n",
      "del basep"
     ],
     "language": "python",
     "metadata": {},
     "outputs": [
      {
       "output_type": "stream",
       "stream": "stdout",
       "text": [
        "basep points to base object...\n",
        "Father's name: Eshwarappa\n",
        "~Father() is invoked\n",
        "basep points to derived object...\n",
        "Father's name: Eshwarappa\n",
        "Son's name: Rajkumar\n",
        "~Son() is invoked\n",
        "~Father() is invoked\n"
       ]
      }
     ],
     "prompt_number": 1
    },
    {
     "cell_type": "heading",
     "level": 2,
     "metadata": {},
     "source": [
      "Example-vptrsize.cpp, Page no-640"
     ]
    },
    {
     "cell_type": "code",
     "collapsed": false,
     "input": [
      "from ctypes import *\n",
      "class nonvirtual(Structure):\n",
      "    _fields_=[('x', c_int)]\n",
      "    def func(self):\n",
      "        pass\n",
      "class withvirtual(Structure):\n",
      "    _fields_=[('x', c_int)]\n",
      "    def func(self):\n",
      "        pass\n",
      "print \"sizeof( nonvirtual ) =\",sizeof(nonvirtual())\n",
      "print \"sizeof( withvirtual ) =\",sizeof(withvirtual())"
     ],
     "language": "python",
     "metadata": {},
     "outputs": [
      {
       "output_type": "stream",
       "stream": "stdout",
       "text": [
        "sizeof( nonvirtual ) = 4\n",
        "sizeof( withvirtual ) = 4\n"
       ]
      }
     ],
     "prompt_number": 1
    },
    {
     "cell_type": "heading",
     "level": 2,
     "metadata": {},
     "source": [
      "Example-shapes.cpp, Page no-640"
     ]
    },
    {
     "cell_type": "code",
     "collapsed": false,
     "input": [
      "class description:\n",
      "    __information=str\n",
      "    def __init__(self, info):\n",
      "        self.__information=info\n",
      "    def show(self):\n",
      "        print self.__information,\n",
      "class sphere(description):\n",
      "    __radius=float\n",
      "    def __init__(self, info, rad):\n",
      "        description.__init__(self, info)\n",
      "        self.__radius=rad\n",
      "    def show(self):\n",
      "        print self._description__information,\n",
      "        print \"Radius = %g\" %self.__radius\n",
      "class cube(description):\n",
      "    __edge_length=float\n",
      "    def __init__(self, info, edg_len):\n",
      "        description.__init__(self, info)\n",
      "        self.__edge_length=edg_len\n",
      "    def show(self):\n",
      "        print self._description__information,\n",
      "        print \"Edge Length = %g\" %self.__edge_length\n",
      "small_ball=sphere(\"mine\", 1.0)\n",
      "beach_ball=sphere(\"plane\", 24.0)\n",
      "plan_toid=sphere(\"moon\", 1e24)\n",
      "crystal=cube(\"carbon\", 1e-24)\n",
      "ice=cube(\"party\", 1.0)\n",
      "box=cube(\"card borad\", 16.0)\n",
      "shapes=[]\n",
      "shapes.append(small_ball)\n",
      "shapes.append(beach_ball)\n",
      "shapes.append(plan_toid)\n",
      "shapes.append(crystal)\n",
      "shapes.append(ice)\n",
      "shapes.append(box)\n",
      "small_ball.show()\n",
      "beach_ball.show()\n",
      "plan_toid.show()\n",
      "crystal.show()\n",
      "ice.show()\n",
      "box.show()\n",
      "print \"Dynamic Invocation of show()...\"\n",
      "for i in range(len(shapes)):\n",
      "    shapes[i].show()"
     ],
     "language": "python",
     "metadata": {},
     "outputs": [
      {
       "output_type": "stream",
       "stream": "stdout",
       "text": [
        "mine Radius = 1\n",
        "plane Radius = 24\n",
        "moon Radius = 1e+24\n",
        "carbon Edge Length = 1e-24\n",
        "party Edge Length = 1\n",
        "card borad Edge Length = 16\n",
        "Dynamic Invocation of show()...\n",
        "mine Radius = 1\n",
        "plane Radius = 24\n",
        "moon Radius = 1e+24\n",
        "carbon Edge Length = 1e-24\n",
        "party Edge Length = 1\n",
        "card borad Edge Length = 16\n"
       ]
      }
     ],
     "prompt_number": 1
    },
    {
     "cell_type": "heading",
     "level": 2,
     "metadata": {},
     "source": [
      "Example, Page no-643"
     ]
    },
    {
     "cell_type": "code",
     "collapsed": false,
     "input": [
      "class shape:\n",
      "    __val1=float\n",
      "    __val2=float\n",
      "    def getdata(self, a, b):\n",
      "        self.__val1=a\n",
      "        self.__val2=b\n",
      "    def display_area(self):\n",
      "        pass\n",
      "class triangle(shape):\n",
      "    def display_area(self):\n",
      "        print \"Area of trianle =\", 0.5*self._shape__val1*self._shape__val2\n",
      "class rectangle(shape):\n",
      "    def display_area(self):\n",
      "        print \"Area of rectanle =\", self._shape__val1*self._shape__val2\n",
      "sptr=[shape]\n",
      "sptr=triangle()\n",
      "sptr.getdata(4.5, 2.2)\n",
      "sptr.display_area()\n",
      "sptr=rectangle()\n",
      "sptr.getdata(4.5, 2.2)\n",
      "sptr.display_area()"
     ],
     "language": "python",
     "metadata": {},
     "outputs": [
      {
       "output_type": "stream",
       "stream": "stdout",
       "text": [
        "Area of trianle = 4.95\n",
        "Area of rectanle = 9.9\n"
       ]
      }
     ],
     "prompt_number": 1
    }
   ],
   "metadata": {}
  }
 ]
}