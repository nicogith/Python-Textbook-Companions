{
 "metadata": {
  "name": "",
  "signature": "sha256:6fa2540f90d9347d87cbc226c605764f3108594e5706b257d5d061ae951444a3"
 },
 "nbformat": 3,
 "nbformat_minor": 0,
 "worksheets": [
  {
   "cells": [
    {
     "cell_type": "heading",
     "level": 1,
     "metadata": {},
     "source": [
      "Chapter 5- Control Flow"
     ]
    },
    {
     "cell_type": "heading",
     "level": 2,
     "metadata": {},
     "source": [
      "Example-age1.cpp, Page no-153"
     ]
    },
    {
     "cell_type": "code",
     "collapsed": false,
     "input": [
      "age=int(raw_input(\"Enter your age: \"))\n",
      "if(age>12 and age<20):\n",
      "    print \"you are a teen-aged person. good!\""
     ],
     "language": "python",
     "metadata": {},
     "outputs": [
      {
       "name": "stdout",
       "output_type": "stream",
       "stream": "stdout",
       "text": [
        "Enter your age: 15\n"
       ]
      },
      {
       "output_type": "stream",
       "stream": "stdout",
       "text": [
        "you are a teen-aged person. good!\n"
       ]
      }
     ],
     "prompt_number": 1
    },
    {
     "cell_type": "heading",
     "level": 2,
     "metadata": {},
     "source": [
      "Example-age2.cpp, Page no-154"
     ]
    },
    {
     "cell_type": "code",
     "collapsed": false,
     "input": [
      "age=int(raw_input(\"Enter your age: \"))\n",
      "if(age<0):\n",
      "    print \"I am sorry!\"\n",
      "    print \"age can never be negative\"\n",
      "if(age>12 and age<20):\n",
      "    print \"you are a teen-aged person. good!\""
     ],
     "language": "python",
     "metadata": {},
     "outputs": [
      {
       "name": "stdout",
       "output_type": "stream",
       "stream": "stdout",
       "text": [
        "Enter your age: -10\n"
       ]
      },
      {
       "output_type": "stream",
       "stream": "stdout",
       "text": [
        "I am sorry!\n",
        "age can never be negative\n"
       ]
      }
     ],
     "prompt_number": 2
    },
    {
     "cell_type": "heading",
     "level": 2,
     "metadata": {},
     "source": [
      "Example-large.cpp, Page no-155"
     ]
    },
    {
     "cell_type": "code",
     "collapsed": false,
     "input": [
      "big=float\n",
      "a, b, c=[float(x) for x in raw_input(\"Enter three floating-point numbers: \").split()] #taking input in single line separated by white space\n",
      "big=a\n",
      "if(b>big):\n",
      "    big=b\n",
      "if(c>big):\n",
      "    big=c\n",
      "print \"Largest of the three numbers =\", big"
     ],
     "language": "python",
     "metadata": {},
     "outputs": [
      {
       "name": "stdout",
       "output_type": "stream",
       "stream": "stdout",
       "text": [
        "Enter three floating-point numbers: 10.2 15.6 12.8\n"
       ]
      },
      {
       "output_type": "stream",
       "stream": "stdout",
       "text": [
        "Largest of the three numbers = 15.6\n"
       ]
      }
     ],
     "prompt_number": 1
    },
    {
     "cell_type": "heading",
     "level": 2,
     "metadata": {},
     "source": [
      "Example-age3.cpp, Page no-156"
     ]
    },
    {
     "cell_type": "code",
     "collapsed": false,
     "input": [
      "age=int(raw_input(\"Enter your age: \"))\n",
      "if(age>12 and age<20):\n",
      "    print \"you are a teen-aged person. good!\"\n",
      "else:\n",
      "    print \"you are not a teen-aged person.\""
     ],
     "language": "python",
     "metadata": {},
     "outputs": [
      {
       "name": "stdout",
       "output_type": "stream",
       "stream": "stdout",
       "text": [
        "Enter your age: 15\n"
       ]
      },
      {
       "output_type": "stream",
       "stream": "stdout",
       "text": [
        "you are a teen-aged person. good!\n"
       ]
      }
     ],
     "prompt_number": 3
    },
    {
     "cell_type": "heading",
     "level": 2,
     "metadata": {},
     "source": [
      "Example-lived.cpp, Page no-157"
     ]
    },
    {
     "cell_type": "code",
     "collapsed": false,
     "input": [
      "years=float(raw_input(\"Enter your age in years: \"))\n",
      "if(years<0):\n",
      "    print \"I am sorry! age can never be negative\"\n",
      "else:\n",
      "    secs=years*365*24*60*60\n",
      "    print \"You have lived for %.4g seconds\" %(secs)"
     ],
     "language": "python",
     "metadata": {},
     "outputs": [
      {
       "name": "stdout",
       "output_type": "stream",
       "stream": "stdout",
       "text": [
        "Enter your age in years: 25\n"
       ]
      },
      {
       "output_type": "stream",
       "stream": "stdout",
       "text": [
        "You have lived for 7.884e+08 seconds\n"
       ]
      }
     ],
     "prompt_number": 2
    },
    {
     "cell_type": "heading",
     "level": 2,
     "metadata": {},
     "source": [
      "Example-age4.cpp, Page no-158"
     ]
    },
    {
     "cell_type": "code",
     "collapsed": false,
     "input": [
      "age=int(raw_input(\"Enter your age: \"))\n",
      "if(age>12 and age<20):\n",
      "    print \"you are a teen-aged person. good!\"\n",
      "else:\n",
      "    if(age<13):\n",
      "        print \"you will surely reach teen-age.\"\n",
      "    else:\n",
      "        print \"you have crossed teen-age!\""
     ],
     "language": "python",
     "metadata": {},
     "outputs": [
      {
       "name": "stdout",
       "output_type": "stream",
       "stream": "stdout",
       "text": [
        "Enter your age: 25\n"
       ]
      },
      {
       "output_type": "stream",
       "stream": "stdout",
       "text": [
        "you have crossed teen-age!\n"
       ]
      }
     ],
     "prompt_number": 3
    },
    {
     "cell_type": "heading",
     "level": 2,
     "metadata": {},
     "source": [
      "Example-count1.cpp, Page no-159"
     ]
    },
    {
     "cell_type": "code",
     "collapsed": false,
     "input": [
      "n=int(raw_input(\"How many integers to be displayed: \"))\n",
      "for i in range(n):\n",
      "    print i"
     ],
     "language": "python",
     "metadata": {},
     "outputs": [
      {
       "name": "stdout",
       "output_type": "stream",
       "stream": "stdout",
       "text": [
        "How many integers to be displayed: 5\n"
       ]
      },
      {
       "output_type": "stream",
       "stream": "stdout",
       "text": [
        "0\n",
        "1\n",
        "2\n",
        "3\n",
        "4\n"
       ]
      }
     ],
     "prompt_number": 1
    },
    {
     "cell_type": "heading",
     "level": 2,
     "metadata": {},
     "source": [
      "Example-sumsq1.cpp, Page no-160"
     ]
    },
    {
     "cell_type": "code",
     "collapsed": false,
     "input": [
      "Sum=0\n",
      "sum_of_squares=0\n",
      "for i in range(2, 31, 2):\n",
      "    Sum+=i\n",
      "    sum_of_squares+=i*i\n",
      "print \"Sum of first 15 positive even numbers =\", Sum\n",
      "print \"Sum of their squares =\", sum_of_squares"
     ],
     "language": "python",
     "metadata": {},
     "outputs": [
      {
       "output_type": "stream",
       "stream": "stdout",
       "text": [
        "Sum of first 15 positive even numbers = 240\n",
        "Sum of their squares = 4960\n"
       ]
      }
     ],
     "prompt_number": 1
    },
    {
     "cell_type": "heading",
     "level": 2,
     "metadata": {},
     "source": [
      "Example-sumsq2.cpp, Page no-161"
     ]
    },
    {
     "cell_type": "code",
     "collapsed": false,
     "input": [
      "Sum=0\n",
      "sum_of_squares=0\n",
      "for i in range(30, 0, -2):\n",
      "    Sum+=i\n",
      "    sum_of_squares+=i*i\n",
      "print \"Sum of first 15 positive even numbers =\", Sum\n",
      "print \"Sum of their squares =\", sum_of_squares"
     ],
     "language": "python",
     "metadata": {},
     "outputs": [
      {
       "output_type": "stream",
       "stream": "stdout",
       "text": [
        "Sum of first 15 positive even numbers = 240\n",
        "Sum of their squares = 4960\n"
       ]
      }
     ],
     "prompt_number": 2
    },
    {
     "cell_type": "heading",
     "level": 2,
     "metadata": {},
     "source": [
      "Example-noinit.cpp, Page no-162"
     ]
    },
    {
     "cell_type": "code",
     "collapsed": false,
     "input": [
      "i=1\n",
      "for i in range(i, 11):\n",
      "    print i*5,"
     ],
     "language": "python",
     "metadata": {},
     "outputs": [
      {
       "output_type": "stream",
       "stream": "stdout",
       "text": [
        "5 10 15 20 25 30 35 40 45 50\n"
       ]
      }
     ],
     "prompt_number": 3
    },
    {
     "cell_type": "heading",
     "level": 2,
     "metadata": {},
     "source": [
      "Example-pyramid.cpp, Page no-163"
     ]
    },
    {
     "cell_type": "code",
     "collapsed": false,
     "input": [
      "n=int(raw_input(\"Enter the number of lines: \"))\n",
      "for p in range(1, n+1):\n",
      "    for q in range(1, n-p+1):\n",
      "        print \"\\t\",\n",
      "    m=p\n",
      "    for q in range (1, p+1):\n",
      "        print \"\\t\", m,\n",
      "        m+=1\n",
      "    m=m-2\n",
      "    for q in range(1, p):\n",
      "        print \"\\t\", m,\n",
      "        m-=1\n",
      "    print ''"
     ],
     "language": "python",
     "metadata": {},
     "outputs": [
      {
       "name": "stdout",
       "output_type": "stream",
       "stream": "stdout",
       "text": [
        "Enter the number of lines: 5\n"
       ]
      },
      {
       "output_type": "stream",
       "stream": "stdout",
       "text": [
        "\t\t\t\t\t1 \n",
        "\t\t\t\t2 \t3 \t2 \n",
        "\t\t\t3 \t4 \t5 \t4 \t3 \n",
        "\t\t4 \t5 \t6 \t7 \t6 \t5 \t4 \n",
        "\t5 \t6 \t7 \t8 \t9 \t8 \t7 \t6 \t5 \n"
       ]
      }
     ],
     "prompt_number": 4
    },
    {
     "cell_type": "heading",
     "level": 2,
     "metadata": {},
     "source": [
      "Example-count2.cpp, Page no-164"
     ]
    },
    {
     "cell_type": "code",
     "collapsed": false,
     "input": [
      "n=int(raw_input(\"How many integers to be displayed: \"))\n",
      "i=0\n",
      "while i<n:\n",
      "    print i\n",
      "    i+=1"
     ],
     "language": "python",
     "metadata": {},
     "outputs": [
      {
       "name": "stdout",
       "output_type": "stream",
       "stream": "stdout",
       "text": [
        "How many integers to be displayed: 5\n"
       ]
      },
      {
       "output_type": "stream",
       "stream": "stdout",
       "text": [
        "0\n",
        "1\n",
        "2\n",
        "3\n",
        "4\n"
       ]
      }
     ],
     "prompt_number": 5
    },
    {
     "cell_type": "heading",
     "level": 2,
     "metadata": {},
     "source": [
      "Example-average1.cpp, Page no-164"
     ]
    },
    {
     "cell_type": "code",
     "collapsed": false,
     "input": [
      "Sum=0\n",
      "count=0\n",
      "print \"Enter the marks, -1 at the end...\"\n",
      "marks=int(raw_input())\n",
      "while marks!=-1:\n",
      "    Sum+=marks\n",
      "    count+=1\n",
      "    marks=int(raw_input())\n",
      "average=Sum/count\n",
      "print \"The average is\", average    "
     ],
     "language": "python",
     "metadata": {},
     "outputs": [
      {
       "output_type": "stream",
       "stream": "stdout",
       "text": [
        "Enter the marks, -1 at the end...\n"
       ]
      },
      {
       "name": "stdout",
       "output_type": "stream",
       "stream": "stdout",
       "text": [
        "80\n"
       ]
      },
      {
       "name": "stdout",
       "output_type": "stream",
       "stream": "stdout",
       "text": [
        "75\n"
       ]
      },
      {
       "name": "stdout",
       "output_type": "stream",
       "stream": "stdout",
       "text": [
        "82\n"
       ]
      },
      {
       "name": "stdout",
       "output_type": "stream",
       "stream": "stdout",
       "text": [
        "74\n"
       ]
      },
      {
       "name": "stdout",
       "output_type": "stream",
       "stream": "stdout",
       "text": [
        "-1\n"
       ]
      },
      {
       "output_type": "stream",
       "stream": "stdout",
       "text": [
        "The average is 77\n"
       ]
      }
     ],
     "prompt_number": 6
    },
    {
     "cell_type": "heading",
     "level": 2,
     "metadata": {},
     "source": [
      "Example-bin2deci.cpp, Page no-165"
     ]
    },
    {
     "cell_type": "code",
     "collapsed": false,
     "input": [
      "decimal=0\n",
      "position=0\n",
      "binary=int(raw_input(\"Enter the binary number: \"))\n",
      "while binary:\n",
      "    digit=binary%10\n",
      "    decimal+=digit<<position\n",
      "    binary/=10\n",
      "    position+=1\n",
      "print \"Its decimal equivalent =\", decimal"
     ],
     "language": "python",
     "metadata": {},
     "outputs": [
      {
       "name": "stdout",
       "output_type": "stream",
       "stream": "stdout",
       "text": [
        "Enter the binary number: 111\n"
       ]
      },
      {
       "output_type": "stream",
       "stream": "stdout",
       "text": [
        "Its decimal equivalent = 7\n"
       ]
      }
     ],
     "prompt_number": 7
    },
    {
     "cell_type": "heading",
     "level": 2,
     "metadata": {},
     "source": [
      "Example-count3.cpp, Page no-166"
     ]
    },
    {
     "cell_type": "code",
     "collapsed": false,
     "input": [
      "n=int(raw_input(\"How many integers to be displayed: \"))\n",
      "i=0\n",
      "while 1: #do while loop\n",
      "    print i\n",
      "    i+=1\n",
      "    if i>=n:\n",
      "        break"
     ],
     "language": "python",
     "metadata": {},
     "outputs": [
      {
       "name": "stdout",
       "output_type": "stream",
       "stream": "stdout",
       "text": [
        "How many integers to be displayed: 5\n"
       ]
      },
      {
       "output_type": "stream",
       "stream": "stdout",
       "text": [
        "0\n",
        "1\n",
        "2\n",
        "3\n",
        "4\n"
       ]
      }
     ],
     "prompt_number": 2
    },
    {
     "cell_type": "heading",
     "level": 2,
     "metadata": {},
     "source": [
      "Example-dowhile.cpp, Page no-167"
     ]
    },
    {
     "cell_type": "code",
     "collapsed": false,
     "input": [
      "while 1: #do-while loop\n",
      "    inchar=raw_input(\"Enter your sex (m/f): \")\n",
      "    if(inchar=='m' or inchar=='f'):\n",
      "        break\n",
      "if inchar=='m':\n",
      "    print \"so you are male. good!\"\n",
      "else:\n",
      "    print \"so you are female. good!\""
     ],
     "language": "python",
     "metadata": {},
     "outputs": [
      {
       "name": "stdout",
       "output_type": "stream",
       "stream": "stdout",
       "text": [
        "Enter your sex (m/f): d\n"
       ]
      },
      {
       "name": "stdout",
       "output_type": "stream",
       "stream": "stdout",
       "text": [
        "Enter your sex (m/f): b\n"
       ]
      },
      {
       "name": "stdout",
       "output_type": "stream",
       "stream": "stdout",
       "text": [
        "Enter your sex (m/f): m\n"
       ]
      },
      {
       "output_type": "stream",
       "stream": "stdout",
       "text": [
        "so you are male. good!\n"
       ]
      }
     ],
     "prompt_number": 3
    },
    {
     "cell_type": "heading",
     "level": 2,
     "metadata": {},
     "source": [
      "Example-pa1.cpp, Page no-167"
     ]
    },
    {
     "cell_type": "code",
     "collapsed": false,
     "input": [
      "rev=0\n",
      "num=int(raw_input(\"Enter the number: \"))\n",
      "n=num\n",
      "while 1:\n",
      "    digit=num%10\n",
      "    rev=rev*10 + digit\n",
      "    num/=10\n",
      "    if num==0:\n",
      "        break\n",
      "print \"Reverse of the number =\", rev\n",
      "if n==rev:\n",
      "    print \"The number is a palindrome\"\n",
      "else:\n",
      "    print \"The number is not a palindrome\""
     ],
     "language": "python",
     "metadata": {},
     "outputs": [
      {
       "name": "stdout",
       "output_type": "stream",
       "stream": "stdout",
       "text": [
        "Enter the number: 121\n"
       ]
      },
      {
       "output_type": "stream",
       "stream": "stdout",
       "text": [
        "Reverse of the number = 121\n",
        "The number is a palindrome\n"
       ]
      }
     ],
     "prompt_number": 5
    },
    {
     "cell_type": "heading",
     "level": 2,
     "metadata": {},
     "source": [
      "Example-average2.cpp, Page no-169"
     ]
    },
    {
     "cell_type": "code",
     "collapsed": false,
     "input": [
      "Sum=0\n",
      "count=0\n",
      "print \"Enter the marks, -1 at the end...\"\n",
      "while 1:\n",
      "    marks=int(raw_input())\n",
      "    if marks==-1:\n",
      "        break\n",
      "    Sum+=marks\n",
      "    count+=1\n",
      "average=Sum/count\n",
      "print \"The average is\", average    "
     ],
     "language": "python",
     "metadata": {},
     "outputs": [
      {
       "output_type": "stream",
       "stream": "stdout",
       "text": [
        "Enter the marks, -1 at the end...\n"
       ]
      },
      {
       "name": "stdout",
       "output_type": "stream",
       "stream": "stdout",
       "text": [
        "80\n"
       ]
      },
      {
       "name": "stdout",
       "output_type": "stream",
       "stream": "stdout",
       "text": [
        "75\n"
       ]
      },
      {
       "name": "stdout",
       "output_type": "stream",
       "stream": "stdout",
       "text": [
        "82\n"
       ]
      },
      {
       "name": "stdout",
       "output_type": "stream",
       "stream": "stdout",
       "text": [
        "74\n"
       ]
      },
      {
       "name": "stdout",
       "output_type": "stream",
       "stream": "stdout",
       "text": [
        "-1\n"
       ]
      },
      {
       "output_type": "stream",
       "stream": "stdout",
       "text": [
        "The average is 77\n"
       ]
      }
     ],
     "prompt_number": 4
    },
    {
     "cell_type": "heading",
     "level": 2,
     "metadata": {},
     "source": [
      "Example-sex2.cpp, Page no-171"
     ]
    },
    {
     "cell_type": "code",
     "collapsed": false,
     "input": [
      "ch=raw_input(\"Enter your sex (m/f): \")\n",
      "if ch=='m':\n",
      "    print \"So you are male. good!\"\n",
      "elif ch=='f':\n",
      "    print \"So you are female. good!\"\n",
      "else:\n",
      "    print \"Error: Invalid sex code!\""
     ],
     "language": "python",
     "metadata": {},
     "outputs": [
      {
       "name": "stdout",
       "output_type": "stream",
       "stream": "stdout",
       "text": [
        "Enter your sex (m/f): m\n"
       ]
      },
      {
       "output_type": "stream",
       "stream": "stdout",
       "text": [
        "So you are male. good!\n"
       ]
      }
     ],
     "prompt_number": 5
    },
    {
     "cell_type": "heading",
     "level": 2,
     "metadata": {},
     "source": [
      "Example-calc.cpp, Page no-172"
     ]
    },
    {
     "cell_type": "code",
     "collapsed": false,
     "input": [
      "print \"------------------Basic Calculator------------------\"\n",
      "print \"Choose an option:\"\n",
      "print \"Add\"\n",
      "print \"Subtract\"\n",
      "print \"Multiply\"\n",
      "print \"Divide\"\n",
      "ch=raw_input()\n",
      "num1, num2=[int(x) for x in raw_input(\"Enter the value of the operands: \").split()]\n",
      "if ch=='1':\n",
      "    print num1+num2\n",
      "elif ch=='2':\n",
      "    print num1-num2\n",
      "elif ch=='3':\n",
      "    print num1*num2\n",
      "elif ch=='4':\n",
      "    print num1/num2\n",
      "else:\n",
      "    print \"Incorrect choice: \""
     ],
     "language": "python",
     "metadata": {},
     "outputs": [
      {
       "output_type": "stream",
       "stream": "stdout",
       "text": [
        "------------------Basic Calculator------------------\n",
        "Choose an option:\n",
        "Add\n",
        "Subtract\n",
        "Multiply\n",
        "Divide\n"
       ]
      },
      {
       "name": "stdout",
       "output_type": "stream",
       "stream": "stdout",
       "text": [
        "1\n"
       ]
      },
      {
       "name": "stdout",
       "output_type": "stream",
       "stream": "stdout",
       "text": [
        "Enter the value of the operands: 22 33\n"
       ]
      },
      {
       "output_type": "stream",
       "stream": "stdout",
       "text": [
        "55\n"
       ]
      }
     ],
     "prompt_number": 1
    },
    {
     "cell_type": "heading",
     "level": 2,
     "metadata": {},
     "source": [
      "Example-sumpos.cpp, Page no-174"
     ]
    },
    {
     "cell_type": "code",
     "collapsed": false,
     "input": [
      "total=0\n",
      "while 1:\n",
      "    num=int(raw_input(\"Enter a number (0 to quit): \"))\n",
      "    if num==0:\n",
      "        print \"end of data entry.\"\n",
      "        break\n",
      "    if num<0:\n",
      "        print \"skipping this number.\"\n",
      "        continue\n",
      "    total+=num\n",
      "print \"Total of all +ve numbers is \", total"
     ],
     "language": "python",
     "metadata": {},
     "outputs": [
      {
       "name": "stdout",
       "output_type": "stream",
       "stream": "stdout",
       "text": [
        "Enter a number (0 to quit): 10\n"
       ]
      },
      {
       "name": "stdout",
       "output_type": "stream",
       "stream": "stdout",
       "text": [
        "Enter a number (0 to quit): 20\n"
       ]
      },
      {
       "name": "stdout",
       "output_type": "stream",
       "stream": "stdout",
       "text": [
        "Enter a number (0 to quit): -5\n"
       ]
      },
      {
       "output_type": "stream",
       "stream": "stdout",
       "text": [
        "skipping this number.\n"
       ]
      },
      {
       "name": "stdout",
       "output_type": "stream",
       "stream": "stdout",
       "text": [
        "Enter a number (0 to quit): 10\n"
       ]
      },
      {
       "name": "stdout",
       "output_type": "stream",
       "stream": "stdout",
       "text": [
        "Enter a number (0 to quit): 0\n"
       ]
      },
      {
       "output_type": "stream",
       "stream": "stdout",
       "text": [
        "end of data entry.\n",
        "Total of all +ve numbers is  40\n"
       ]
      }
     ],
     "prompt_number": 6
    },
    {
     "cell_type": "heading",
     "level": 2,
     "metadata": {},
     "source": [
      "Example-jump.cpp, Page no-175"
     ]
    },
    {
     "cell_type": "code",
     "collapsed": false,
     "input": [
      "total=0\n",
      "while 1:\n",
      "    num=int(raw_input(\"Enter a number (0 to quit): \"))\n",
      "    if num==0:\n",
      "        print \"end of data entry.\"\n",
      "        print \"Total of all +ve numbers is\", total #no goto in python\n",
      "        break\n",
      "    if num<0:\n",
      "        print \"skipping this number.\"\n",
      "        continue\n",
      "    total+=num"
     ],
     "language": "python",
     "metadata": {},
     "outputs": [
      {
       "name": "stdout",
       "output_type": "stream",
       "stream": "stdout",
       "text": [
        "Enter a number (0 to quit): 10\n"
       ]
      },
      {
       "name": "stdout",
       "output_type": "stream",
       "stream": "stdout",
       "text": [
        "Enter a number (0 to quit): 20\n"
       ]
      },
      {
       "name": "stdout",
       "output_type": "stream",
       "stream": "stdout",
       "text": [
        "Enter a number (0 to quit): -5\n"
       ]
      },
      {
       "output_type": "stream",
       "stream": "stdout",
       "text": [
        "skipping this number.\n"
       ]
      },
      {
       "name": "stdout",
       "output_type": "stream",
       "stream": "stdout",
       "text": [
        "Enter a number (0 to quit): 10\n"
       ]
      },
      {
       "name": "stdout",
       "output_type": "stream",
       "stream": "stdout",
       "text": [
        "Enter a number (0 to quit): 0\n"
       ]
      },
      {
       "output_type": "stream",
       "stream": "stdout",
       "text": [
        "end of data entry.\n",
        "Total of all +ve numbers is 40\n"
       ]
      }
     ],
     "prompt_number": 2
    },
    {
     "cell_type": "heading",
     "level": 2,
     "metadata": {},
     "source": [
      "Example-age5.cpp, Page no-177"
     ]
    },
    {
     "cell_type": "code",
     "collapsed": false,
     "input": [
      "age=int(raw_input(\"Enter your age: \"))\n",
      "if(age>12 and age<20):\n",
      "    pass\n",
      "print \"you are a teen-aged person. good!\""
     ],
     "language": "python",
     "metadata": {},
     "outputs": [
      {
       "name": "stdout",
       "output_type": "stream",
       "stream": "stdout",
       "text": [
        "Enter your age: 50\n"
       ]
      },
      {
       "output_type": "stream",
       "stream": "stdout",
       "text": [
        "you are a teen-aged person. good!\n"
       ]
      }
     ],
     "prompt_number": 3
    },
    {
     "cell_type": "heading",
     "level": 2,
     "metadata": {},
     "source": [
      "Example-agecmp.cpp, Page no-177"
     ]
    },
    {
     "cell_type": "code",
     "collapsed": false,
     "input": [
      "myage=25\n",
      "print \"Hi! my age is \", myage\n",
      "yourage=int(raw_input(\"What is your age? \"))\n",
      "if myage==yourage:\n",
      "    print \"We are born on the same day. Are we twins!\""
     ],
     "language": "python",
     "metadata": {},
     "outputs": [
      {
       "output_type": "stream",
       "stream": "stdout",
       "text": [
        "Hi! my age is  25\n"
       ]
      },
      {
       "name": "stdout",
       "output_type": "stream",
       "stream": "stdout",
       "text": [
        "What is your age? 25\n"
       ]
      },
      {
       "output_type": "stream",
       "stream": "stdout",
       "text": [
        "We are born on the same day. Are we twins!\n"
       ]
      }
     ],
     "prompt_number": 1
    },
    {
     "cell_type": "heading",
     "level": 2,
     "metadata": {},
     "source": [
      "Example Page no-178"
     ]
    },
    {
     "cell_type": "code",
     "collapsed": false,
     "input": [
      "l1=int(raw_input(\"Enter the lower limit: \"))\n",
      "l2=int(raw_input(\"Enter the higher limit: \"))\n",
      "print \"The prime numbers between\", l1, \"and\", l2, \"are: \",\n",
      "for i in range(l1, l2+1):\n",
      "    if i<=3:\n",
      "        print i,\"\\t\",\n",
      "    else:\n",
      "        for j in range(2, i/2+1):\n",
      "            if(i%j==0):\n",
      "                break\n",
      "        if(i%j==0):\n",
      "            continue #no goto\n",
      "        print i, \"\\t\","
     ],
     "language": "python",
     "metadata": {},
     "outputs": [
      {
       "name": "stdout",
       "output_type": "stream",
       "stream": "stdout",
       "text": [
        "Enter the lower limit: 1\n"
       ]
      },
      {
       "name": "stdout",
       "output_type": "stream",
       "stream": "stdout",
       "text": [
        "Enter the higher limit: 100\n"
       ]
      },
      {
       "output_type": "stream",
       "stream": "stdout",
       "text": [
        "The prime numbers between 1 and 100 are:  1 \t2 \t3 \t5 \t7 \t11 \t13 \t17 \t19 \t23 \t29 \t31 \t37 \t41 \t43 \t47 \t53 \t59 \t61 \t67 \t71 \t73 \t79 \t83 \t89 \t97 \t"
       ]
      }
     ],
     "prompt_number": 4
    }
   ],
   "metadata": {}
  }
 ]
}