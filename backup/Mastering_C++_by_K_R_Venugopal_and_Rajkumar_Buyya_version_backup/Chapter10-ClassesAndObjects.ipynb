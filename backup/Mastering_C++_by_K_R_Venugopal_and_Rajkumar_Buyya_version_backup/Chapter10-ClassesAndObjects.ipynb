{
 "metadata": {
  "name": "",
  "signature": "sha256:8f7be8ab30cd8a38b71c7dbac3729da70ed4826b62dcb4d9b30b32010c83c291"
 },
 "nbformat": 3,
 "nbformat_minor": 0,
 "worksheets": [
  {
   "cells": [
    {
     "cell_type": "heading",
     "level": 2,
     "metadata": {},
     "source": [
      "Chapter 10- Classes and objects"
     ]
    },
    {
     "cell_type": "heading",
     "level": 2,
     "metadata": {},
     "source": [
      "Example- student.cpp, Page no-344"
     ]
    },
    {
     "cell_type": "code",
     "collapsed": false,
     "input": [
      "class student: #member functions definition inside the body\n",
      "    __roll_no=int\n",
      "    __name=[None]*20\n",
      "    def setdata(self, roll_no_in, name_in):\n",
      "        self.roll_no=roll_no_in\n",
      "        self.name=name_in\n",
      "    def outdata(self):\n",
      "        print \"Roll no =\", self.roll_no\n",
      "        print \"Name =\", self.name\n",
      "s1=student() #object of class student\n",
      "s2=student()\n",
      "s1.setdata(1, \"Tejaswi\") #invoking member functions\n",
      "s2.setdata(10, \"Rajkumar\")\n",
      "print \"Student details...\"\n",
      "s1.outdata()\n",
      "s2.outdata()"
     ],
     "language": "python",
     "metadata": {},
     "outputs": [
      {
       "output_type": "stream",
       "stream": "stdout",
       "text": [
        "Student details...\n",
        "Roll no = 1\n",
        "Name = Tejaswi\n",
        "Roll no = 10\n",
        "Name = Rajkumar\n"
       ]
      }
     ],
     "prompt_number": 1
    },
    {
     "cell_type": "heading",
     "level": 2,
     "metadata": {},
     "source": [
      "Example-rect.cpp, Page no-345"
     ]
    },
    {
     "cell_type": "code",
     "collapsed": false,
     "input": [
      "class rect:\n",
      "    __length=int\n",
      "    __breadth=int\n",
      "    def read(self, i, j):\n",
      "        self.__length=i\n",
      "        self.__breadth=j\n",
      "    def area(self):\n",
      "        return self.__length*self.__breadth\n",
      "r=rect()\n",
      "x, y=[int(x) for x in raw_input(\"Enter the length and breadth of the reactangle: \").split()]\n",
      "r.read(x,y)\n",
      "print \"Area of the rectangle =\", r.area()"
     ],
     "language": "python",
     "metadata": {},
     "outputs": [
      {
       "name": "stdout",
       "output_type": "stream",
       "stream": "stdout",
       "text": [
        "Enter the length and breadth of the reactangle: 4 10\n"
       ]
      },
      {
       "output_type": "stream",
       "stream": "stdout",
       "text": [
        "Area of the rectangle = 40\n"
       ]
      }
     ],
     "prompt_number": 1
    },
    {
     "cell_type": "heading",
     "level": 2,
     "metadata": {},
     "source": [
      "Example-date1.cpp, Page no-348"
     ]
    },
    {
     "cell_type": "code",
     "collapsed": false,
     "input": [
      "class date:\n",
      "    __day=int\n",
      "    __month=int\n",
      "    __year=int\n",
      "    def Set(self, DayIn, MonthIn, YearIn):\n",
      "        self.__day=DayIn\n",
      "        self.__month=MonthIn\n",
      "        self.__year=YearIn\n",
      "    def show(self):\n",
      "        print \"%s-%s-%s\" %(self.__day, self.__month, self.__year)\n",
      "d1=date()\n",
      "d2=date()\n",
      "d3=date()\n",
      "d1.Set(26, 3, 1958)\n",
      "d2.Set(14, 4, 1971)\n",
      "d3.Set(1, 9, 1973)\n",
      "print \"Birth Date of First Author: \",\n",
      "d1.show()\n",
      "print \"Birth Date of Second Author: \",\n",
      "d2.show()\n",
      "print \"Birth Date of Third Author: \",\n",
      "d3.show()"
     ],
     "language": "python",
     "metadata": {},
     "outputs": [
      {
       "output_type": "stream",
       "stream": "stdout",
       "text": [
        "Birth Date of First Author:  26-3-1958\n",
        "Birth Date of Second Author:  14-4-1971\n",
        "Birth Date of Third Author:  1-9-1973\n"
       ]
      }
     ],
     "prompt_number": 1
    },
    {
     "cell_type": "heading",
     "level": 2,
     "metadata": {},
     "source": [
      "Example-date2.cpp, Page no-350"
     ]
    },
    {
     "cell_type": "code",
     "collapsed": false,
     "input": [
      "def Set(self, DayIn, MonthIn, YearIn):\n",
      "    self.__day=DayIn\n",
      "    self.__month=MonthIn\n",
      "    self.__year=YearIn\n",
      "def show(self):\n",
      "    print \"%s-%s-%s\" %(self.__day, self.__month, self.__year)\n",
      "class date:\n",
      "    __day=int\n",
      "    __month=int\n",
      "    __year=int\n",
      "    Set=Set #definiton of member function outside the class\n",
      "    show=show\n",
      "d1=date()\n",
      "d2=date()\n",
      "d3=date()\n",
      "d1.Set(26, 3, 1958)\n",
      "d2.Set(14, 4, 1971)\n",
      "d3.Set(1, 9, 1973)\n",
      "print \"Birth Date of First Author: \",\n",
      "d1.show()\n",
      "print \"Birth Date of Second Author: \",\n",
      "d2.show()\n",
      "print \"Birth Date of Third Author: \",\n",
      "d3.show()"
     ],
     "language": "python",
     "metadata": {},
     "outputs": [
      {
       "output_type": "stream",
       "stream": "stdout",
       "text": [
        "Birth Date of First Author:  26-3-1958\n",
        "Birth Date of Second Author:  14-4-1971\n",
        "Birth Date of Third Author:  1-9-1973\n"
       ]
      }
     ],
     "prompt_number": 2
    },
    {
     "cell_type": "heading",
     "level": 2,
     "metadata": {},
     "source": [
      "Example-date3.cpp, Page no-352"
     ]
    },
    {
     "cell_type": "code",
     "collapsed": false,
     "input": [
      "def Set(self, DayIn, MonthIn, YearIn):\n",
      "    self.__day=DayIn\n",
      "    self.__month=MonthIn\n",
      "    self.__year=YearIn\n",
      "def show(self):\n",
      "    print self.__day, \"-\", self.__month, \"-\", self.__year\n",
      "class date:\n",
      "    __day=int\n",
      "    __month=int\n",
      "    __year=int\n",
      "    Set=Set\n",
      "    show=show\n",
      "d1=date()\n",
      "d2=date()\n",
      "d3=date()\n",
      "d1.Set(26, 3, 1958)\n",
      "d2.Set(14, 4, 1971)\n",
      "d3.Set(1, 9, 1973)\n",
      "print \"Birth Date of First Author: \",\n",
      "d1.show()\n",
      "print \"Birth Date of Second Author: \",\n",
      "d2.show()\n",
      "print \"Birth Date of Third Author: \",\n",
      "d3.show()"
     ],
     "language": "python",
     "metadata": {},
     "outputs": [
      {
       "output_type": "stream",
       "stream": "stdout",
       "text": [
        "Birth Date of First Author:  26 - 3 - 1958\n",
        "Birth Date of Second Author:  14 - 4 - 1971\n",
        "Birth Date of Third Author:  1 - 9 - 1973\n"
       ]
      }
     ],
     "prompt_number": 3
    },
    {
     "cell_type": "heading",
     "level": 2,
     "metadata": {},
     "source": [
      "Example-nesting.cpp, Page no-354"
     ]
    },
    {
     "cell_type": "code",
     "collapsed": false,
     "input": [
      "class NumberParis:\n",
      "    __num1=int\n",
      "    __num2=int\n",
      "    def read(self):\n",
      "        self.__num1=int(raw_input(\"Enter First Number: \"))\n",
      "        self.__num2=int(raw_input(\"Enter Second Number: \"))\n",
      "    def Max(self):\n",
      "        if self.__num1>self.__num2:\n",
      "            return self.__num1\n",
      "        else:\n",
      "            return self.__num2\n",
      "    def ShowMax(self):\n",
      "        print \"Maximum =\", self.Max() #invoking a member function in another member function\n",
      "n1=NumberParis()\n",
      "n1.read()\n",
      "n1.ShowMax()"
     ],
     "language": "python",
     "metadata": {},
     "outputs": [
      {
       "name": "stdout",
       "output_type": "stream",
       "stream": "stdout",
       "text": [
        "Enter First Number: 5\n"
       ]
      },
      {
       "name": "stdout",
       "output_type": "stream",
       "stream": "stdout",
       "text": [
        "Enter Second Number: 10\n"
       ]
      },
      {
       "output_type": "stream",
       "stream": "stdout",
       "text": [
        "Maximum = 10\n"
       ]
      }
     ],
     "prompt_number": 4
    },
    {
     "cell_type": "heading",
     "level": 2,
     "metadata": {},
     "source": [
      "Example-part.cpp, Page no-355"
     ]
    },
    {
     "cell_type": "code",
     "collapsed": false,
     "input": [
      "class part:\n",
      "    __ModelNum=int #private members\n",
      "    __PartNum=int\n",
      "    __cost=float\n",
      "    def SetPart(self, mn, pn, c):\n",
      "        self.__ModelNum=mn\n",
      "        self.__PartNum=pn\n",
      "        self.__cost=c\n",
      "    def ShowPart(self):\n",
      "        print \"Model:\", self.__ModelNum\n",
      "        print \"Part:\", self.__PartNum\n",
      "        print \"Cost:\", self.__cost\n",
      "p1=part()\n",
      "p2=part()\n",
      "p1.SetPart(1996, 23, 1250.55)\n",
      "p2.SetPart(2000, 243, 2354.75)\n",
      "print \"First Part Details...\"\n",
      "p1.ShowPart()\n",
      "print \"Second Part Details...\"\n",
      "p2.ShowPart()"
     ],
     "language": "python",
     "metadata": {},
     "outputs": [
      {
       "output_type": "stream",
       "stream": "stdout",
       "text": [
        "First Part Details...\n",
        "Model: 1996\n",
        "Part: 23\n",
        "Cost: 1250.55\n",
        "Second Part Details...\n",
        "Model: 2000\n",
        "Part: 243\n",
        "Cost: 2354.75\n"
       ]
      }
     ],
     "prompt_number": 5
    },
    {
     "cell_type": "heading",
     "level": 2,
     "metadata": {},
     "source": [
      "Example-vector.cpp, Page no-361"
     ]
    },
    {
     "cell_type": "code",
     "collapsed": false,
     "input": [
      "def read(self):\n",
      "    for i in range(self._vector__sz):\n",
      "        print \"Enter vector [\", i, \"]? \",\n",
      "        self._vector__v[i]=int(raw_input())\n",
      "def show_sum(self):\n",
      "    Sum=0\n",
      "    for i in range(self._vector__sz):\n",
      "        Sum+=self._vector__v[i]\n",
      "    print \"Vector sum =\", Sum\n",
      "class vector:\n",
      "    __v=[int] #array of type integer\n",
      "    __sz=int\n",
      "    def VectorSize(self, size):\n",
      "        self.__sz= size\n",
      "        self.__v=[int]*size #dynamically allocating size to integer array\n",
      "    def release(self):\n",
      "        del self.__v\n",
      "    read=read\n",
      "    show_sum=show_sum\n",
      "v1=vector()\n",
      "count=int(raw_input(\"How many elements are there in the vector: \"))\n",
      "v1.VectorSize(count)\n",
      "v1.read()\n",
      "v1.show_sum()\n",
      "v1.release()"
     ],
     "language": "python",
     "metadata": {},
     "outputs": [
      {
       "name": "stdout",
       "output_type": "stream",
       "stream": "stdout",
       "text": [
        "How many elements are there in the vector: 5\n"
       ]
      },
      {
       "output_type": "stream",
       "stream": "stdout",
       "text": [
        "Enter vector [ 0 ]? "
       ]
      },
      {
       "name": "stdout",
       "output_type": "stream",
       "stream": "stdout",
       "text": [
        "1\n"
       ]
      },
      {
       "output_type": "stream",
       "stream": "stdout",
       "text": [
        " Enter vector [ 1 ]? "
       ]
      },
      {
       "name": "stdout",
       "output_type": "stream",
       "stream": "stdout",
       "text": [
        "2\n"
       ]
      },
      {
       "output_type": "stream",
       "stream": "stdout",
       "text": [
        " Enter vector [ 2 ]? "
       ]
      },
      {
       "name": "stdout",
       "output_type": "stream",
       "stream": "stdout",
       "text": [
        "3\n"
       ]
      },
      {
       "output_type": "stream",
       "stream": "stdout",
       "text": [
        " Enter vector [ 3 ]? "
       ]
      },
      {
       "name": "stdout",
       "output_type": "stream",
       "stream": "stdout",
       "text": [
        "4\n"
       ]
      },
      {
       "output_type": "stream",
       "stream": "stdout",
       "text": [
        " Enter vector [ 4 ]? "
       ]
      },
      {
       "name": "stdout",
       "output_type": "stream",
       "stream": "stdout",
       "text": [
        "5\n"
       ]
      },
      {
       "output_type": "stream",
       "stream": "stdout",
       "text": [
        " Vector sum = 15\n"
       ]
      }
     ],
     "prompt_number": 10
    },
    {
     "cell_type": "heading",
     "level": 2,
     "metadata": {},
     "source": [
      "Example-distance.cpp, Page no-363"
     ]
    },
    {
     "cell_type": "code",
     "collapsed": false,
     "input": [
      "class distance:\n",
      "    __feet=float\n",
      "    __inches=float\n",
      "    def init(self, ft, In):\n",
      "        self.__feet=ft\n",
      "        self.__inches=In\n",
      "    def read(self):\n",
      "        self.__feet=float(raw_input(\"Enter feet: \"))\n",
      "        self.__inches=float(raw_input(\"Enter inches: \"))\n",
      "    def show(self):\n",
      "        print self.__feet, \"\\'-\", self.__inches, \"\\\"\"\n",
      "    def add(self, d1, d2):\n",
      "        self.__feet=d1.__feet+d2.__feet\n",
      "        self.__inches=d1.__inches+d2.__inches\n",
      "        if self.__inches>=12:\n",
      "            self.__feet=self.__feet+1\n",
      "            self.__inches=self.__inches-12\n",
      "d1=distance()\n",
      "d2=distance()\n",
      "d3=distance()\n",
      "d2.init(11, 6.25)\n",
      "d1.read()\n",
      "print \"d1=\",\n",
      "d1.show()\n",
      "print \"d2=\",\n",
      "d2.show()\n",
      "d3.add(d1,d2)\n",
      "print \"d3 = d1+d2 =\",\n",
      "d3.show()"
     ],
     "language": "python",
     "metadata": {},
     "outputs": [
      {
       "name": "stdout",
       "output_type": "stream",
       "stream": "stdout",
       "text": [
        "Enter feet: 12.0\n"
       ]
      },
      {
       "name": "stdout",
       "output_type": "stream",
       "stream": "stdout",
       "text": [
        "Enter inches: 7.25\n"
       ]
      },
      {
       "output_type": "stream",
       "stream": "stdout",
       "text": [
        "d1= 12.0 '- 7.25 \"\n",
        "d2= 11 '- 6.25 \"\n",
        "d3 = d1+d2 = 24.0 '- 1.5 \"\n"
       ]
      }
     ],
     "prompt_number": 11
    },
    {
     "cell_type": "heading",
     "level": 2,
     "metadata": {},
     "source": [
      "Example-account.cpp, Page no-365"
     ]
    },
    {
     "cell_type": "code",
     "collapsed": false,
     "input": [
      "def MoneyTransfer(self, acc , amount): # passing objects as parameters\n",
      "        self._AccClass__balance=self._AccClass__balance-amount\n",
      "        acc._AccClass__balance=acc._AccClass__balance + amount\n",
      "class AccClass:\n",
      "    __accno=int\n",
      "    __balance=float\n",
      "    def setdata(self, an, bal=0.0):\n",
      "        self.accno=an\n",
      "        self.__balance=bal\n",
      "    def getdata(self):\n",
      "        self.accno=raw_input(\"Enter account number for acc1 object: \")\n",
      "        self.__balance=float(raw_input(\"Enter the balance: \"))\n",
      "    def display(self):\n",
      "        print \"Acoount number is: \", self.accno\n",
      "        print \"Balance is: \", self.__balance\n",
      "    MoneyTransfer=MoneyTransfer\n",
      "acc1=AccClass()\n",
      "acc2=AccClass()\n",
      "acc3=AccClass()\n",
      "acc1.getdata()\n",
      "acc2.setdata(10)\n",
      "acc3.setdata(20, 750.5)\n",
      "print \"Acoount information...\"\n",
      "acc1.display()\n",
      "acc2.display()\n",
      "acc3.display()\n",
      "trans_money=float(raw_input(\"How much money is to be transferred from acc3 to acc1: \"))\n",
      "acc3.MoneyTransfer(acc1, trans_money)\n",
      "print \"Updated information about accounts...\"\n",
      "acc1.display()\n",
      "acc2.display()\n",
      "acc3.display()"
     ],
     "language": "python",
     "metadata": {},
     "outputs": [
      {
       "name": "stdout",
       "output_type": "stream",
       "stream": "stdout",
       "text": [
        "Enter account number for acc1 object: 1\n"
       ]
      },
      {
       "name": "stdout",
       "output_type": "stream",
       "stream": "stdout",
       "text": [
        "Enter the balance: 100\n"
       ]
      },
      {
       "output_type": "stream",
       "stream": "stdout",
       "text": [
        "Acoount information...\n",
        "Acoount number is:  1\n",
        "Balance is:  100.0\n",
        "Acoount number is:  10\n",
        "Balance is:  0.0\n",
        "Acoount number is:  20\n",
        "Balance is:  750.5\n"
       ]
      },
      {
       "name": "stdout",
       "output_type": "stream",
       "stream": "stdout",
       "text": [
        "How much money is to be transferred from acc3 to acc1: 200\n"
       ]
      },
      {
       "output_type": "stream",
       "stream": "stdout",
       "text": [
        "Updated information about accounts...\n",
        "Acoount number is:  1\n",
        "Balance is:  300.0\n",
        "Acoount number is:  10\n",
        "Balance is:  0.0\n",
        "Acoount number is:  20\n",
        "Balance is:  550.5\n"
       ]
      }
     ],
     "prompt_number": 12
    },
    {
     "cell_type": "heading",
     "level": 2,
     "metadata": {},
     "source": [
      "Example-complex.cpp, Page no-367"
     ]
    },
    {
     "cell_type": "code",
     "collapsed": false,
     "input": [
      "import math\n",
      "def add (self, c2): #objects as parameters \n",
      "    temp=Complex()\n",
      "    temp._Complex__real=self._Complex__real+c2._Complex__real\n",
      "    temp._Complex__imag=self._Complex__imag+c2._Complex__imag\n",
      "    return temp\n",
      "class Complex:\n",
      "    __real=float\n",
      "    __imag=float\n",
      "    def getdata(self):\n",
      "        self.__real=float(raw_input(\"Real Part ? \"))\n",
      "        self.__imag=float(raw_input(\"Imag Part ? \"))\n",
      "    def outdata(self, msg):\n",
      "        print msg, \n",
      "        print self.__real,\n",
      "        if self.__imag<0:\n",
      "            print \"-i\",\n",
      "        else:\n",
      "            print \"+i\",\n",
      "        print math.fabs(self.__imag) #print absolute value\n",
      "    add=add\n",
      "c1=Complex()\n",
      "c2=Complex()\n",
      "c3=Complex()\n",
      "print \"Enter Complex number c1...\"\n",
      "c1.getdata()\n",
      "print \"Enter Complex number c2...\"\n",
      "c2.getdata()\n",
      "c3=c1.add(c2)\n",
      "c3.outdata(\"c3=c1.add(c2):\")"
     ],
     "language": "python",
     "metadata": {},
     "outputs": [
      {
       "output_type": "stream",
       "stream": "stdout",
       "text": [
        "Enter Complex number c1...\n"
       ]
      },
      {
       "name": "stdout",
       "output_type": "stream",
       "stream": "stdout",
       "text": [
        "Real Part ? 1.5\n"
       ]
      },
      {
       "name": "stdout",
       "output_type": "stream",
       "stream": "stdout",
       "text": [
        "Imag Part ? 2\n"
       ]
      },
      {
       "output_type": "stream",
       "stream": "stdout",
       "text": [
        "Enter Complex number c2...\n"
       ]
      },
      {
       "name": "stdout",
       "output_type": "stream",
       "stream": "stdout",
       "text": [
        "Real Part ? 3\n"
       ]
      },
      {
       "name": "stdout",
       "output_type": "stream",
       "stream": "stdout",
       "text": [
        "Imag Part ? -4.3\n"
       ]
      },
      {
       "output_type": "stream",
       "stream": "stdout",
       "text": [
        "c3=c1.add(c2): 4.5 -i 2.3\n"
       ]
      }
     ],
     "prompt_number": 13
    },
    {
     "cell_type": "heading",
     "level": 2,
     "metadata": {},
     "source": [
      "Example-friend1.cpp, Page no-371"
     ]
    },
    {
     "cell_type": "code",
     "collapsed": false,
     "input": [
      "class one:\n",
      "    __data1=int\n",
      "    def setdata(self, init):\n",
      "        self.__data1=init\n",
      "class two:\n",
      "    __data2=int\n",
      "    def setdata(self, init):\n",
      "        self.__data2=init\n",
      "def add_both(a, b): #friend function\n",
      "    return a._one__data1+b._two__data2\n",
      "a=one()\n",
      "b=two()\n",
      "a.setdata(5)\n",
      "b.setdata(10)\n",
      "print \"Sum of one and two:\", add_both(a,b)"
     ],
     "language": "python",
     "metadata": {},
     "outputs": [
      {
       "output_type": "stream",
       "stream": "stdout",
       "text": [
        "Sum of one and two: 15\n"
       ]
      }
     ],
     "prompt_number": 1
    },
    {
     "cell_type": "heading",
     "level": 2,
     "metadata": {},
     "source": [
      "Example-friend2.cpp, Page no-373"
     ]
    },
    {
     "cell_type": "code",
     "collapsed": false,
     "input": [
      "class boy:\n",
      "    __income1=int\n",
      "    __income2=int\n",
      "    def setdata(self, in1, in2):\n",
      "        self.__income1=in1\n",
      "        self.__income2=in2\n",
      "class girl:\n",
      "    __income=int\n",
      "    def girlfunc(self, b1):\n",
      "        return b1._boy__income1+b1._boy__income2\n",
      "    def setdata(self, In):\n",
      "        self.__income=In\n",
      "    def show(self):\n",
      "        b1=boy()\n",
      "        b1.setdata(100, 200)\n",
      "        print \"boy's Income1 in show():\", b1._boy__income1\n",
      "        print \"girl's income in show():\", self.__income\n",
      "b1=boy()\n",
      "g1=girl()\n",
      "b1.setdata(500, 1000)\n",
      "g1.setdata(300)\n",
      "print \"boy b1 total income:\", g1.girlfunc(b1)\n",
      "g1.show()"
     ],
     "language": "python",
     "metadata": {},
     "outputs": [
      {
       "output_type": "stream",
       "stream": "stdout",
       "text": [
        "boy b1 total income: 1500\n",
        "boy's Income1 in show(): 100\n",
        "girl's income in show(): 300\n"
       ]
      }
     ],
     "prompt_number": 2
    },
    {
     "cell_type": "heading",
     "level": 2,
     "metadata": {},
     "source": [
      "Example-friend3.cpp, Page no-375"
     ]
    },
    {
     "cell_type": "code",
     "collapsed": false,
     "input": [
      "def girlfunc(self, b1):\n",
      "        return b1._boy__income1+b1._boy__income2\n",
      "class girl:\n",
      "    __income=int\n",
      "    __girlfunc=girlfunc\n",
      "    def setdata(self, In):\n",
      "        self.__income=In\n",
      "    def show(self):\n",
      "        print \"girl income:\", self.__income\n",
      "class boy:\n",
      "    __income1=int\n",
      "    __income2=int\n",
      "    def setdata(self, in1, in2):\n",
      "        self.__income1=in1\n",
      "        self.__income2=in2\n",
      "b1=boy()\n",
      "g1=girl()\n",
      "b1.setdata(500, 1000)\n",
      "g1.setdata(300)\n",
      "print \"boy b1 total income:\", g1._girl__girlfunc(b1)\n",
      "g1.show()"
     ],
     "language": "python",
     "metadata": {},
     "outputs": [
      {
       "output_type": "stream",
       "stream": "stdout",
       "text": [
        "boy b1 total income: 1500\n",
        "girl income: 300\n"
       ]
      }
     ],
     "prompt_number": 3
    },
    {
     "cell_type": "heading",
     "level": 2,
     "metadata": {},
     "source": [
      "Example-constmem.cpp, Page 377"
     ]
    },
    {
     "cell_type": "code",
     "collapsed": false,
     "input": [
      "def __init__(self):\n",
      "    self._Person__name=self._Person__address=self._Person__phone=0\n",
      "def clear(self):\n",
      "    del self._Person__name\n",
      "    del self._Person__address\n",
      "    del self._Person__phone\n",
      "def setname(self, Str):\n",
      "    if self._Person__name:\n",
      "        del self._Person__name\n",
      "    self._Person__name=Str\n",
      "def setaddress(self, Str):\n",
      "    if self._Person__address:\n",
      "        del self._Person__address\n",
      "    self._Person__address=Str\n",
      "def setphone(self, Str):\n",
      "    if self._Person__phone:\n",
      "        del self._Person__phone\n",
      "    self._Person__phone=Str\n",
      "def getname(self):\n",
      "    return self._Person__name\n",
      "def getaddress(self):\n",
      "    return self._Person__address\n",
      "def getphone(self):\n",
      "    return self._Person__phone\n",
      "def printperson(p):\n",
      "    if p.getname():\n",
      "        print \"Name :\", p.getname()\n",
      "    if p.getaddress():\n",
      "        print \"Address :\", p.getaddress()\n",
      "    if p.getphone():\n",
      "        print \"Phone :\", p.getphone()\n",
      "class Person:\n",
      "    __name=str\n",
      "    __address=str\n",
      "    __phone=str\n",
      "    __init__=__init__\n",
      "    clear=clear\n",
      "    setname=setname\n",
      "    setaddress=setaddress\n",
      "    setphone=setphone\n",
      "    getname=getname\n",
      "    getaddress=getaddress\n",
      "    getphone=getphone\n",
      "p1=Person()\n",
      "p2=Person()\n",
      "p1.setname(\"Rajkumar\")\n",
      "p1.setaddress(\"Email: rajacdacb.ernet.in\")\n",
      "p1.setphone(\"90-080-5584271\")\n",
      "printperson(p1)\n",
      "p2.setname(\"Venugopal K R\")\n",
      "p2.setaddress(\"Bangalore University\")\n",
      "p2.setphone(\"-not sure-\")\n",
      "printperson(p2)\n",
      "p1.clear()\n",
      "p2.clear()"
     ],
     "language": "python",
     "metadata": {},
     "outputs": [
      {
       "output_type": "stream",
       "stream": "stdout",
       "text": [
        "Name : Rajkumar\n",
        "Address : Email: rajacdacb.ernet.in\n",
        "Phone : 90-080-5584271\n",
        "Name : Venugopal K R\n",
        "Address : Bangalore University\n",
        "Phone : -not sure-\n"
       ]
      }
     ],
     "prompt_number": 1
    },
    {
     "cell_type": "heading",
     "level": 2,
     "metadata": {},
     "source": [
      "Example-count.cpp, Page no-382"
     ]
    },
    {
     "cell_type": "code",
     "collapsed": false,
     "input": [
      "class MyClass():\n",
      "    __count=[int]#static member\n",
      "    __number=int\n",
      "    def set(self, num):\n",
      "        self.__number=num\n",
      "        self.__count[0]+=1\n",
      "    def show(self):\n",
      "        print \"Number of calls made to 'set()' through any object:\", self.__count[0]\n",
      "obj1=MyClass()\n",
      "obj1._MyClass__count[0]=0\n",
      "obj1.show()\n",
      "obj1.set(100)\n",
      "obj1.show()\n",
      "obj2=MyClass()\n",
      "obj3=MyClass()\n",
      "obj2.set(200)\n",
      "obj2.show()\n",
      "obj2.set(250)\n",
      "obj3.set(300)\n",
      "obj1.show()"
     ],
     "language": "python",
     "metadata": {},
     "outputs": [
      {
       "output_type": "stream",
       "stream": "stdout",
       "text": [
        "Number of calls made to 'set()' through any object: 0\n",
        "Number of calls made to 'set()' through any object: 1\n",
        "Number of calls made to 'set()' through any object: 2\n",
        "Number of calls made to 'set()' through any object: 4\n"
       ]
      }
     ],
     "prompt_number": 1
    },
    {
     "cell_type": "heading",
     "level": 2,
     "metadata": {},
     "source": [
      "Example-dirs.cpp, Page no-384"
     ]
    },
    {
     "cell_type": "code",
     "collapsed": false,
     "input": [
      "class Directory:\n",
      "    __path=[str] #static member\n",
      "    def setpath(self, newpath):\n",
      "        self.__path[0]=newpath\n",
      "Directory()._Directory__path[0]=\"/usr/raj\"\n",
      "print \"Path:\", Directory()._Directory__path[0]\n",
      "Directory().setpath(\"/usr\")\n",
      "print \"Path:\", Directory()._Directory__path[0]\n",
      "dir=Directory()\n",
      "dir.setpath(\"/etc\")\n",
      "print \"Path:\", dir._Directory__path[0]"
     ],
     "language": "python",
     "metadata": {},
     "outputs": [
      {
       "output_type": "stream",
       "stream": "stdout",
       "text": [
        "Path: /usr/raj\n",
        "Path: /usr\n",
        "Path: /etc\n"
       ]
      }
     ],
     "prompt_number": 1
    },
    {
     "cell_type": "heading",
     "level": 2,
     "metadata": {},
     "source": [
      "Example Page no-389"
     ]
    },
    {
     "cell_type": "code",
     "collapsed": false,
     "input": [
      "class employee:\n",
      "    __emp_no=int\n",
      "    __emp_name=[None]*25\n",
      "    def accept(self, i, j):\n",
      "        self.__emp_no=i\n",
      "        self.__emp_name=j\n",
      "    def display(self):\n",
      "        print \"Employee Number:\", self.__emp_no,\"\\tEmployee Name:\",self.__emp_name\n",
      "e=[]*5\n",
      "for i in range(5):\n",
      "    e.append(employee())\n",
      "print \"Enter the details for five employees: \"\n",
      "for i in range(5):\n",
      "    no=int(raw_input(\"Number: \"))\n",
      "    name=raw_input(\"Name: \")\n",
      "    e[i].accept(no, name)\n",
      "print \"*****Employee Details*****\"\n",
      "for i in range(5):\n",
      "    e[i].display()"
     ],
     "language": "python",
     "metadata": {},
     "outputs": [
      {
       "output_type": "stream",
       "stream": "stdout",
       "text": [
        "Enter the details for five employees: \n"
       ]
      },
      {
       "name": "stdout",
       "output_type": "stream",
       "stream": "stdout",
       "text": [
        "Number: 1\n"
       ]
      },
      {
       "name": "stdout",
       "output_type": "stream",
       "stream": "stdout",
       "text": [
        "Name: Vishwanathan\n"
       ]
      },
      {
       "name": "stdout",
       "output_type": "stream",
       "stream": "stdout",
       "text": [
        "Number: 2\n"
       ]
      },
      {
       "name": "stdout",
       "output_type": "stream",
       "stream": "stdout",
       "text": [
        "Name: Archana\n"
       ]
      },
      {
       "name": "stdout",
       "output_type": "stream",
       "stream": "stdout",
       "text": [
        "Number: 3\n"
       ]
      },
      {
       "name": "stdout",
       "output_type": "stream",
       "stream": "stdout",
       "text": [
        "Name: Prasad\n"
       ]
      },
      {
       "name": "stdout",
       "output_type": "stream",
       "stream": "stdout",
       "text": [
        "Number: 4\n"
       ]
      },
      {
       "name": "stdout",
       "output_type": "stream",
       "stream": "stdout",
       "text": [
        "Name: Sarthak\n"
       ]
      },
      {
       "name": "stdout",
       "output_type": "stream",
       "stream": "stdout",
       "text": [
        "Number: 5\n"
       ]
      },
      {
       "name": "stdout",
       "output_type": "stream",
       "stream": "stdout",
       "text": [
        "Name: Ganeshan\n"
       ]
      },
      {
       "output_type": "stream",
       "stream": "stdout",
       "text": [
        "*****Employee Details*****\n",
        "Employee Number: 1 \tEmployee Name: Vishwanathan\n",
        "Employee Number: 2 \tEmployee Name: Archana\n",
        "Employee Number: 3 \tEmployee Name: Prasad\n",
        "Employee Number: 4 \tEmployee Name: Sarthak\n",
        "Employee Number: 5 \tEmployee Name: Ganeshan\n"
       ]
      }
     ],
     "prompt_number": 1
    }
   ],
   "metadata": {}
  }
 ]
}