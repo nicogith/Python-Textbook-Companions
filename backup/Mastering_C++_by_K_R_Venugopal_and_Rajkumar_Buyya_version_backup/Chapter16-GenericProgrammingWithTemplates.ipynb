{
 "metadata": {
  "name": "",
  "signature": "sha256:d003edbba5e427e459c859a79576baaf788de0196f037fb26a675631e1e101bf"
 },
 "nbformat": 3,
 "nbformat_minor": 0,
 "worksheets": [
  {
   "cells": [
    {
     "cell_type": "heading",
     "level": 1,
     "metadata": {},
     "source": [
      "Chapter 16-Generic Programming with Templates"
     ]
    },
    {
     "cell_type": "heading",
     "level": 2,
     "metadata": {},
     "source": [
      "Example-mswap.cpp, Page no-647"
     ]
    },
    {
     "cell_type": "code",
     "collapsed": false,
     "input": [
      "def swap(x, y): #function overloading\n",
      "    t=x\n",
      "    x=y\n",
      "    y=t\n",
      "    return x, y\n",
      "ch1, ch2=[str(x) for x in raw_input(\"Enter two characters <ch1, ch2>: \").split()]\n",
      "ch1, ch2 = swap(ch1, ch2)\n",
      "print \"On swapping <ch1, ch2>:\", ch1, ch2\n",
      "a, b=[int(x) for x in raw_input(\"Enter two characters <a, b>: \").split()]\n",
      "a, b = swap(a, b)\n",
      "print \"On swapping <a, b>:\", a,b\n",
      "c, d=[float(x) for x in raw_input(\"Enter two floats <c, d>: \").split()]\n",
      "c, d = swap(c, d)\n",
      "print \"On swapping <c, d>:\", c, d"
     ],
     "language": "python",
     "metadata": {},
     "outputs": [
      {
       "name": "stdout",
       "output_type": "stream",
       "stream": "stdout",
       "text": [
        "Enter two characters <ch1, ch2>: R K\n"
       ]
      },
      {
       "output_type": "stream",
       "stream": "stdout",
       "text": [
        "On swapping <ch1, ch2>: K R\n"
       ]
      },
      {
       "name": "stdout",
       "output_type": "stream",
       "stream": "stdout",
       "text": [
        "Enter two characters <a, b>: 5 10\n"
       ]
      },
      {
       "output_type": "stream",
       "stream": "stdout",
       "text": [
        "On swapping <a, b>: 10 5\n"
       ]
      },
      {
       "name": "stdout",
       "output_type": "stream",
       "stream": "stdout",
       "text": [
        "Enter two floats <c, d>: 20.5 99.5\n"
       ]
      },
      {
       "output_type": "stream",
       "stream": "stdout",
       "text": [
        "On swapping <c, d>: 99.5 20.5\n"
       ]
      }
     ],
     "prompt_number": 1
    },
    {
     "cell_type": "heading",
     "level": 2,
     "metadata": {},
     "source": [
      "Example-gswap.cpp, Page no-650"
     ]
    },
    {
     "cell_type": "code",
     "collapsed": false,
     "input": [
      "def swap(x, y):\n",
      "    t=x\n",
      "    x=y\n",
      "    y=t\n",
      "    return x, y\n",
      "ch1, ch2=[str(x) for x in raw_input(\"Enter two characters <ch1, ch2>: \").split()]\n",
      "ch1, ch2 = swap(ch1, ch2)\n",
      "print \"On swapping <ch1, ch2>:\", ch1, ch2\n",
      "a, b=[int(x) for x in raw_input(\"Enter two characters <a, b>: \").split()]\n",
      "a, b = swap(a, b)\n",
      "print \"On swapping <a, b>:\", a,b\n",
      "c, d=[float(x) for x in raw_input(\"Enter two floats <c, d>: \").split()]\n",
      "c, d = swap(c, d)\n",
      "print \"On swapping <c, d>:\", c, d"
     ],
     "language": "python",
     "metadata": {},
     "outputs": [
      {
       "name": "stdout",
       "output_type": "stream",
       "stream": "stdout",
       "text": [
        "Enter two characters <ch1, ch2>: R K\n"
       ]
      },
      {
       "output_type": "stream",
       "stream": "stdout",
       "text": [
        "On swapping <ch1, ch2>: K R\n"
       ]
      },
      {
       "name": "stdout",
       "output_type": "stream",
       "stream": "stdout",
       "text": [
        "Enter two characters <a, b>: 5 10\n"
       ]
      },
      {
       "output_type": "stream",
       "stream": "stdout",
       "text": [
        "On swapping <a, b>: 10 5\n"
       ]
      },
      {
       "name": "stdout",
       "output_type": "stream",
       "stream": "stdout",
       "text": [
        "Enter two floats <c, d>: 20.5 99.5\n"
       ]
      },
      {
       "output_type": "stream",
       "stream": "stdout",
       "text": [
        "On swapping <c, d>: 99.5 20.5\n"
       ]
      }
     ],
     "prompt_number": 2
    },
    {
     "cell_type": "heading",
     "level": 2,
     "metadata": {},
     "source": [
      "Example-max1.cpp, Page no-651"
     ]
    },
    {
     "cell_type": "code",
     "collapsed": false,
     "input": [
      "def Max(a, b):\n",
      "    if a>b:\n",
      "        return a\n",
      "    else:\n",
      "        return b\n",
      "ch1, ch2=[str(x) for x in raw_input(\"Enter two characters <ch1, ch2>: \").split()]\n",
      "ch = Max(ch1, ch2)\n",
      "print \"max( ch1, ch2 ):\", ch\n",
      "a, b=[int(x) for x in raw_input(\"Enter two characters <a, b>: \").split()]\n",
      "c = Max(a, b)\n",
      "print \"max( a, b ):\", c\n",
      "f1, f2=[float(x) for x in raw_input(\"Enter two floats <f1, f2>: \").split()]\n",
      "f3 = Max(f1, f2)\n",
      "print \"max( f1, f2 ):\", f3"
     ],
     "language": "python",
     "metadata": {},
     "outputs": [
      {
       "name": "stdout",
       "output_type": "stream",
       "stream": "stdout",
       "text": [
        "Enter two characters <ch1, ch2>: A B\n"
       ]
      },
      {
       "output_type": "stream",
       "stream": "stdout",
       "text": [
        "max( ch1, ch2 ): B\n"
       ]
      },
      {
       "name": "stdout",
       "output_type": "stream",
       "stream": "stdout",
       "text": [
        "Enter two characters <a, b>: 20 10\n"
       ]
      },
      {
       "output_type": "stream",
       "stream": "stdout",
       "text": [
        "max( a, b ): 20\n"
       ]
      },
      {
       "name": "stdout",
       "output_type": "stream",
       "stream": "stdout",
       "text": [
        "Enter two floats <f1, f2>: 20.5 30.9\n"
       ]
      },
      {
       "output_type": "stream",
       "stream": "stdout",
       "text": [
        "max( f1, f2 ): 30.9\n"
       ]
      }
     ],
     "prompt_number": 5
    },
    {
     "cell_type": "heading",
     "level": 2,
     "metadata": {},
     "source": [
      "Example-max2.cpp, Page no-653"
     ]
    },
    {
     "cell_type": "code",
     "collapsed": false,
     "input": [
      "def Max(a, b):\n",
      "    if a>b:\n",
      "        return a\n",
      "    else:\n",
      "        return b\n",
      "ch1, ch2=[str(x) for x in raw_input(\"Enter two characters <ch1, ch2>: \").split()]\n",
      "ch = Max(ch1, ch2)\n",
      "print \"max( ch1, ch2 ):\", ch\n",
      "a, b=[int(x) for x in raw_input(\"Enter two characters <a, b>: \").split()]\n",
      "c = Max(a, b)\n",
      "print \"max( a, b ):\", c\n",
      "str1, str2=raw_input(\"Enter two strings <str1, str2>: \").split()\n",
      "print \"max( str1, str2 ):\", Max(str1, str2)"
     ],
     "language": "python",
     "metadata": {},
     "outputs": [
      {
       "name": "stdout",
       "output_type": "stream",
       "stream": "stdout",
       "text": [
        "Enter two characters <ch1, ch2>: A Z\n"
       ]
      },
      {
       "output_type": "stream",
       "stream": "stdout",
       "text": [
        "max( ch1, ch2 ): Z\n"
       ]
      },
      {
       "name": "stdout",
       "output_type": "stream",
       "stream": "stdout",
       "text": [
        "Enter two characters <a, b>: 5 6\n"
       ]
      },
      {
       "output_type": "stream",
       "stream": "stdout",
       "text": [
        "max( a, b ): 6\n"
       ]
      },
      {
       "name": "stdout",
       "output_type": "stream",
       "stream": "stdout",
       "text": [
        "Enter two strings <str1, str2>: Tejaswi Rajkumar\n"
       ]
      },
      {
       "output_type": "stream",
       "stream": "stdout",
       "text": [
        "max( str1, str2 ): Tejaswi\n"
       ]
      }
     ],
     "prompt_number": 1
    },
    {
     "cell_type": "heading",
     "level": 2,
     "metadata": {},
     "source": [
      "Example-bsort.cpp, Page no-654"
     ]
    },
    {
     "cell_type": "code",
     "collapsed": false,
     "input": [
      "[false, true]=[0, 1]\n",
      "type=['false', 'true']\n",
      "def swap(x, y): #function overloading\n",
      "    t=x\n",
      "    x=y\n",
      "    y=t\n",
      "    return x, y\n",
      "def BubbleSort(SortData, Size):\n",
      "    swapped=true\n",
      "    for i in range(Size-1):\n",
      "        if swapped==true:\n",
      "            swapped=false\n",
      "            for j in range((Size-1)-i):\n",
      "                if SortData[j]>SortData[j+1]:\n",
      "                    swapped=true\n",
      "                    SortData[j], SortData[j+1]=swap(SortData[j], SortData[j+1])\n",
      "IntNums=[int]*25\n",
      "FloatNums=[float]*25\n",
      "print \"Program to sort elements...\"\n",
      "#Integer numbers sorting\n",
      "size=int(raw_input(\"Enter the size of the integer vector <max-25>:\"))\n",
      "print \"Enter the elements of the integer vector...\"\n",
      "for i in range(size):\n",
      "    IntNums[i]=int(raw_input())\n",
      "BubbleSort(IntNums, size)\n",
      "print \"Sorted Vector:\"\n",
      "for i in range(size):\n",
      "    print IntNums[i],\n",
      "#Floating point numbers sorting\n",
      "size=int(raw_input(\"Enter the size of the float vector <max-25>:\"))\n",
      "print \"Enter the elements of the float vector...\"\n",
      "for i in range(size):\n",
      "    FloatNums[i]=float(raw_input())\n",
      "BubbleSort(FloatNums, size)\n",
      "print \"Sorted Vector:\"\n",
      "for i in range(size):\n",
      "    print FloatNums[i],"
     ],
     "language": "python",
     "metadata": {},
     "outputs": [
      {
       "output_type": "stream",
       "stream": "stdout",
       "text": [
        "Program to sort elements...\n"
       ]
      },
      {
       "name": "stdout",
       "output_type": "stream",
       "stream": "stdout",
       "text": [
        "Enter the size of the integer vector <max-25>:4\n"
       ]
      },
      {
       "output_type": "stream",
       "stream": "stdout",
       "text": [
        "Enter the elements of the integer vector...\n"
       ]
      },
      {
       "name": "stdout",
       "output_type": "stream",
       "stream": "stdout",
       "text": [
        "8\n"
       ]
      },
      {
       "name": "stdout",
       "output_type": "stream",
       "stream": "stdout",
       "text": [
        "4\n"
       ]
      },
      {
       "name": "stdout",
       "output_type": "stream",
       "stream": "stdout",
       "text": [
        "1\n"
       ]
      },
      {
       "name": "stdout",
       "output_type": "stream",
       "stream": "stdout",
       "text": [
        "6\n"
       ]
      },
      {
       "output_type": "stream",
       "stream": "stdout",
       "text": [
        "Sorted Vector:\n",
        "1 4 6 8"
       ]
      },
      {
       "name": "stdout",
       "output_type": "stream",
       "stream": "stdout",
       "text": [
        "Enter the size of the float vector <max-25>:3\n"
       ]
      },
      {
       "output_type": "stream",
       "stream": "stdout",
       "text": [
        " Enter the elements of the float vector...\n"
       ]
      },
      {
       "name": "stdout",
       "output_type": "stream",
       "stream": "stdout",
       "text": [
        "8.5\n"
       ]
      },
      {
       "name": "stdout",
       "output_type": "stream",
       "stream": "stdout",
       "text": [
        "3.2\n"
       ]
      },
      {
       "name": "stdout",
       "output_type": "stream",
       "stream": "stdout",
       "text": [
        "8.9\n"
       ]
      },
      {
       "output_type": "stream",
       "stream": "stdout",
       "text": [
        "Sorted Vector:\n",
        "3.2 8.5 8.9\n"
       ]
      }
     ],
     "prompt_number": 1
    },
    {
     "cell_type": "heading",
     "level": 2,
     "metadata": {},
     "source": [
      "Example-tprint.cpp, Page no-656"
     ]
    },
    {
     "cell_type": "code",
     "collapsed": false,
     "input": [
      "def Print(data, nTimes=None):\n",
      "    if isinstance(nTimes, int):\n",
      "        for i in range(nTimes):\n",
      "            print data\n",
      "    else:\n",
      "        print data\n",
      "Print(1)\n",
      "Print(1.5)\n",
      "Print(520, 2)\n",
      "Print(\"OOP is Great\", 3)"
     ],
     "language": "python",
     "metadata": {},
     "outputs": [
      {
       "output_type": "stream",
       "stream": "stdout",
       "text": [
        "1\n",
        "1.5\n",
        "520\n",
        "520\n",
        "OOP is Great\n",
        "OOP is Great\n",
        "OOP is Great\n"
       ]
      }
     ],
     "prompt_number": 2
    },
    {
     "cell_type": "heading",
     "level": 2,
     "metadata": {},
     "source": [
      "Example-bsearch.cpp, Page no-658"
     ]
    },
    {
     "cell_type": "code",
     "collapsed": false,
     "input": [
      "[false, true]=[0, 1]\n",
      "type=['false', 'true']\n",
      "def RecBinSearch(Data, SrchElem, low, high):\n",
      "    if low>high:\n",
      "        return -1\n",
      "    mid=int((low+high)/2)\n",
      "    if SrchElem<Data[mid]:\n",
      "        return RecBinSearch(Data, SrchElem, low, mid-1)\n",
      "    elif SrchElem>Data[mid]:\n",
      "        return RecBinSearch(Data, SrchElem, mid+1, high)\n",
      "    return mid\n",
      "num=[int]*25\n",
      "FloatNums=[float]*25\n",
      "print \"Program to search integer elements...\"\n",
      "size=int(raw_input(\"How many elements ? \"))\n",
      "print \"Enter the elements in ascending order for binary search...\"\n",
      "for i in range(size):\n",
      "    num[i]=int(raw_input())\n",
      "elem=int(raw_input(\"Enter the element to be searched: \"))\n",
      "index=RecBinSearch(num, elem, 0, size)\n",
      "if index==-1:\n",
      "    print \"Element\", elem, \"not found\"\n",
      "else:\n",
      "    print \"Element\", elem, \"found at position\", index"
     ],
     "language": "python",
     "metadata": {},
     "outputs": [
      {
       "output_type": "stream",
       "stream": "stdout",
       "text": [
        "Program to search integer elements...\n"
       ]
      },
      {
       "name": "stdout",
       "output_type": "stream",
       "stream": "stdout",
       "text": [
        "How many elements ? 4\n"
       ]
      },
      {
       "output_type": "stream",
       "stream": "stdout",
       "text": [
        "Enter the elements in ascending order for binary search...\n"
       ]
      },
      {
       "name": "stdout",
       "output_type": "stream",
       "stream": "stdout",
       "text": [
        "1\n"
       ]
      },
      {
       "name": "stdout",
       "output_type": "stream",
       "stream": "stdout",
       "text": [
        "4\n"
       ]
      },
      {
       "name": "stdout",
       "output_type": "stream",
       "stream": "stdout",
       "text": [
        "6\n"
       ]
      },
      {
       "name": "stdout",
       "output_type": "stream",
       "stream": "stdout",
       "text": [
        "8\n"
       ]
      },
      {
       "name": "stdout",
       "output_type": "stream",
       "stream": "stdout",
       "text": [
        "Enter the element to be searched: 6\n"
       ]
      },
      {
       "output_type": "stream",
       "stream": "stdout",
       "text": [
        "Element 6 found at position 2\n"
       ]
      }
     ],
     "prompt_number": 4
    },
    {
     "cell_type": "heading",
     "level": 2,
     "metadata": {},
     "source": [
      "Example-student.cpp, Page no-661"
     ]
    },
    {
     "cell_type": "code",
     "collapsed": false,
     "input": [
      "from ctypes import *\n",
      "class stuRec(Structure):\n",
      "    name=str\n",
      "    age=int\n",
      "    collegeCode=str\n",
      "def Display(t):\n",
      "    print t\n",
      "def output(s):\n",
      "    print \"Name:\", s.name\n",
      "    print \"Age:\", s.age\n",
      "    print \"College Code:\", s.collegeCode\n",
      "s1=stuRec()\n",
      "print \"Enter student record details...\"\n",
      "s1.name=raw_input(\"Name: \")\n",
      "s1.age=int(raw_input(\"Age: \"))\n",
      "s1.collegeCode=raw_input(\"College Code: \")\n",
      "print \"The student record:\"\n",
      "print \"Name:\",\n",
      "Display(s1.name)\n",
      "print \"Age:\",\n",
      "Display(s1.age)\n",
      "print \"College Code:\",\n",
      "Display(s1.collegeCode)\n",
      "print \"The student record:\"\n",
      "output(s1)"
     ],
     "language": "python",
     "metadata": {},
     "outputs": [
      {
       "output_type": "stream",
       "stream": "stdout",
       "text": [
        "Enter student record details...\n"
       ]
      },
      {
       "name": "stdout",
       "output_type": "stream",
       "stream": "stdout",
       "text": [
        "Name: Chinamma\n"
       ]
      },
      {
       "name": "stdout",
       "output_type": "stream",
       "stream": "stdout",
       "text": [
        "Age: 18\n"
       ]
      },
      {
       "name": "stdout",
       "output_type": "stream",
       "stream": "stdout",
       "text": [
        "College Code: A\n"
       ]
      },
      {
       "output_type": "stream",
       "stream": "stdout",
       "text": [
        "The student record:\n",
        "Name: Chinamma\n",
        "Age: 18\n",
        "College Code: A\n",
        "The student record:\n",
        "Name: Chinamma\n",
        "Age: 18\n",
        "College Code: A\n"
       ]
      }
     ],
     "prompt_number": 2
    },
    {
     "cell_type": "heading",
     "level": 2,
     "metadata": {},
     "source": [
      "Example-vector.cpp, Page no-665"
     ]
    },
    {
     "cell_type": "code",
     "collapsed": false,
     "input": [
      "class vector:\n",
      "    __size=int\n",
      "    def __init__(self, vector_size):\n",
      "        self.__size=vector_size\n",
      "        self.__v=[vector]*self.__size\n",
      "    def __del__(self):\n",
      "        del self.__v\n",
      "    def elem(self, i, x=None):\n",
      "        if isinstance(x, int) or isinstance(x, float):\n",
      "            if i>=self.__size:\n",
      "                print \"Error: Out of Range\"\n",
      "                return\n",
      "            self.__v[i]=x\n",
      "        else:\n",
      "            return self.__v[i]\n",
      "    def show(self):\n",
      "        for i in range(self.__size):\n",
      "            print self.elem(i), \",\",\n",
      "int_vect=vector(5)\n",
      "float_vect=vector(4)\n",
      "for i in range(5):\n",
      "    int_vect.elem(i, i+1)\n",
      "for i in range(4):\n",
      "    float_vect.elem(i,i+1.5)\n",
      "print \"Integer Vector:\",\n",
      "int_vect.show()\n",
      "print \"\\nFloating Vector:\",\n",
      "float_vect.show()"
     ],
     "language": "python",
     "metadata": {},
     "outputs": [
      {
       "output_type": "stream",
       "stream": "stdout",
       "text": [
        "Integer Vector: 1 , 2 , 3 , 4 , 5 , \n",
        "Floating Vector: 1.5 , 2.5 , 3.5 , 4.5 ,\n"
       ]
      }
     ],
     "prompt_number": 1
    },
    {
     "cell_type": "heading",
     "level": 2,
     "metadata": {},
     "source": [
      "Example-union.cpp, Page no-670"
     ]
    },
    {
     "cell_type": "code",
     "collapsed": false,
     "input": [
      "(false, true)=(0, 1) #enum type\n",
      "type =['false', 'true']\n",
      "MAX_ITEMS=25\n",
      "def IsExist(self, item):\n",
      "    for i in range(self._Bag__ItemCount):\n",
      "        if self._Bag__contents[i]==item:\n",
      "            return true\n",
      "    return false\n",
      "def show(self):\n",
      "    for i in range(self._Bag__ItemCount):\n",
      "        print self._Bag__contents[i],\n",
      "    print \"\"\n",
      "class Bag:\n",
      "     #protected members\n",
      "    __ItemCount=int\n",
      "    def __init__(self):\n",
      "        self.__ItemCount=0\n",
      "        self.__contents=[int]*MAX_ITEMS\n",
      "    def put(self, item):\n",
      "        self.__contents[self.__ItemCount]=item\n",
      "        self.__ItemCount+=1\n",
      "    def IsEmpty(self):\n",
      "        return true if self.__ItemCount==0 else false\n",
      "    def IsFull(self):\n",
      "        return true if self.__ItemCount==MAX_ITEMS else false\n",
      "    IsExist=IsExist\n",
      "    show=show\n",
      "def read(self):\n",
      "    while(true):\n",
      "        element=int(raw_input(\"Enter Set Element <0-end>: \"))\n",
      "        if element==0:\n",
      "            break\n",
      "        self.Add(element)\n",
      "def add(s1, s2):\n",
      "    temp = Set()\n",
      "    temp=s1\n",
      "    for i in range(s2._Bag__ItemCount):\n",
      "        if s1.IsExist(s2._Bag__contents[i])==false:\n",
      "            temp.Add(s2._Bag__contents[i])\n",
      "    return temp\n",
      "class Set(Bag):\n",
      "    def Add(self,element):\n",
      "        if(self.IsExist(element)==false and self.IsFull()==false):\n",
      "            self.put(element)\n",
      "    read=read\n",
      "    def __assign__(self, s2):\n",
      "        for i in range(s2._Bag__ItemCount):\n",
      "            self.__contents[i]=s2.__contents[i]\n",
      "        self.__ItemCount=s2.__ItemCount\n",
      "    def __add__(self, s2):\n",
      "        return add(self, s2)\n",
      "s1=Set()\n",
      "s2=Set()\n",
      "s3=Set()\n",
      "print \"Enter Set 1 elements..\"\n",
      "s1.read()\n",
      "print \"Enter Set 2 elemets..\"\n",
      "s2.read()\n",
      "s3=s1+s2\n",
      "print \"Union of s1 and s2 : \",\n",
      "s3.show()"
     ],
     "language": "python",
     "metadata": {},
     "outputs": [
      {
       "output_type": "stream",
       "stream": "stdout",
       "text": [
        "Enter Set 1 elements..\n"
       ]
      },
      {
       "name": "stdout",
       "output_type": "stream",
       "stream": "stdout",
       "text": [
        "Enter Set Element <0-end>: 1\n"
       ]
      },
      {
       "name": "stdout",
       "output_type": "stream",
       "stream": "stdout",
       "text": [
        "Enter Set Element <0-end>: 2\n"
       ]
      },
      {
       "name": "stdout",
       "output_type": "stream",
       "stream": "stdout",
       "text": [
        "Enter Set Element <0-end>: 3\n"
       ]
      },
      {
       "name": "stdout",
       "output_type": "stream",
       "stream": "stdout",
       "text": [
        "Enter Set Element <0-end>: 4\n"
       ]
      },
      {
       "name": "stdout",
       "output_type": "stream",
       "stream": "stdout",
       "text": [
        "Enter Set Element <0-end>: 0\n"
       ]
      },
      {
       "output_type": "stream",
       "stream": "stdout",
       "text": [
        "Enter Set 2 elemets..\n"
       ]
      },
      {
       "name": "stdout",
       "output_type": "stream",
       "stream": "stdout",
       "text": [
        "Enter Set Element <0-end>: 2\n"
       ]
      },
      {
       "name": "stdout",
       "output_type": "stream",
       "stream": "stdout",
       "text": [
        "Enter Set Element <0-end>: 4\n"
       ]
      },
      {
       "name": "stdout",
       "output_type": "stream",
       "stream": "stdout",
       "text": [
        "Enter Set Element <0-end>: 5\n"
       ]
      },
      {
       "name": "stdout",
       "output_type": "stream",
       "stream": "stdout",
       "text": [
        "Enter Set Element <0-end>: 6\n"
       ]
      },
      {
       "name": "stdout",
       "output_type": "stream",
       "stream": "stdout",
       "text": [
        "Enter Set Element <0-end>: 0\n"
       ]
      },
      {
       "output_type": "stream",
       "stream": "stdout",
       "text": [
        "Union of s1 and s2 :  1 2 3 4 5 6 \n"
       ]
      }
     ],
     "prompt_number": 3
    },
    {
     "cell_type": "heading",
     "level": 2,
     "metadata": {},
     "source": [
      "Example-tree.cpp, Page no-673"
     ]
    },
    {
     "cell_type": "code",
     "collapsed": false,
     "input": [
      "class TreeNode:\n",
      "    def __init__(self, dataIn, l, r):\n",
      "        if isinstance(l, TreeNode):\n",
      "            self.__left=l\n",
      "            self.__right=r\n",
      "        else:\n",
      "            self.__left=None\n",
      "            self.__right=None\n",
      "        self.__data=dataIn\n",
      "class BinaryTree:\n",
      "    __root=None\n",
      "    def InsertNode(self, tree, data):\n",
      "        if tree==None:\n",
      "            tree=TreeNode(data, None, None)\n",
      "            return tree\n",
      "        if data<tree._TreeNode__data:\n",
      "            tree._TreeNode__left=self.InsertNode(tree._TreeNode__left, data)\n",
      "        elif data>tree._TreeNode__data:\n",
      "            tree._TreeNode__right=self.InsertNode(tree._TreeNode__right, data)\n",
      "        return tree\n",
      "    def PrintTreeTriangle(self, tree, level):\n",
      "        if tree:\n",
      "            self.PrintTreeTriangle(tree._TreeNode__right, level+1)\n",
      "            for i in range(level):\n",
      "                print \"\\t\",\n",
      "            print \"%g\" %tree._TreeNode__data\n",
      "            self.PrintTreeTriangle(tree._TreeNode__left, level+1)\n",
      "    def PrintTreeDiagonal(self, tree, level):\n",
      "        if tree!=None:\n",
      "            for i in range(level):\n",
      "                print \"\\t\",\n",
      "            print \"%g\" %tree._TreeNode__data\n",
      "            self.PrintTreeTriangle(tree._TreeNode__left, level+1)\n",
      "            self.PrintTreeTriangle(tree._TreeNode__right, level+1)\n",
      "    def PreOrderTraverse(self, tree):\n",
      "        if tree:\n",
      "            print \"%g\" %tree._TreeNode__data,\n",
      "            self.PreOrderTraverse(tree._TreeNode__left)\n",
      "            self.PreOrderTraverse(tree._TreeNode__right)\n",
      "    def InOrderTraverse(self, tree):\n",
      "        if tree:\n",
      "            self.InOrderTraverse(tree._TreeNode__left)\n",
      "            print \"%g\" %tree._TreeNode__data,\n",
      "            self.InOrderTraverse(tree._TreeNode__right)\n",
      "    def PostOrderTraverse(self, tree):\n",
      "        if tree:\n",
      "            self.PostOrderTraverse(tree._TreeNode__left)\n",
      "            self.PostOrderTraverse(tree._TreeNode__right)\n",
      "            print \"%g\" %tree._TreeNode__data,\n",
      "    def SearchTree(self, tree, data):\n",
      "        while(tree):\n",
      "            if data<tree._TreeNode__data:\n",
      "                tree=tree._TreeNode__left\n",
      "            elif data>tree._TreeNode__data:\n",
      "                tree=tree._TreeNode__right\n",
      "            else:\n",
      "                return tree\n",
      "        return None\n",
      "    def PreOrder(self):\n",
      "        self.PreOrderTraverse(self.__root)\n",
      "    def InOrder(self):\n",
      "        self.InOrderTraverse(self.__root)\n",
      "    def PostOrder(self):\n",
      "        self.PostOrderTraverse(self.__root)\n",
      "    def PrintTree(self, disptype):\n",
      "        if disptype==1:\n",
      "            self.PrintTreeTriangle(self.__root, 1)\n",
      "        else:\n",
      "            self.PrintTreeDiagonal(self.__root, 1)\n",
      "    def Insert(self, data):\n",
      "        self.__root=self.InsertNode(self.__root, data)\n",
      "    def Search(self, data):\n",
      "        return self.SearchTree(self.__root, data)\n",
      "btree=BinaryTree()\n",
      "print \"This Program Demonstrates the Binary Tree Operations\"\n",
      "disptype=int(raw_input(\"Tree Diplay Style: [1] - Triangular [2] - Diagonal form: \"))\n",
      "print \"Tree creation process...\"\n",
      "while 1:\n",
      "    data=float(raw_input(\"Enter node number to be inserted <0-END>: \"))\n",
      "    if data==0:\n",
      "        break\n",
      "    btree.Insert(data)\n",
      "    print \"Binary Tree is...\"\n",
      "    btree.PrintTree(disptype)\n",
      "    print \"Pre-Order Traversal:\",\n",
      "    btree.PreOrder()\n",
      "    print \"\\nIn-Order Traversal:\",\n",
      "    btree.InOrder()\n",
      "    print \"\\nPost-Order Traversal:\",\n",
      "    btree.PostOrder()\n",
      "    print \"\"\n",
      "print \"Tree search process...\"\n",
      "while(1):\n",
      "    data=float(raw_input(\"Enter node number to be inserted <0-END>: \"))\n",
      "    if data==0:\n",
      "        break\n",
      "    if btree.Search(data):\n",
      "        print \"Found data in the Tree\"\n",
      "    else:\n",
      "        print \"Not found data in the Tree\""
     ],
     "language": "python",
     "metadata": {},
     "outputs": [
      {
       "output_type": "stream",
       "stream": "stdout",
       "text": [
        "This Program Demonstrates the Binary Tree Operations\n"
       ]
      },
      {
       "name": "stdout",
       "output_type": "stream",
       "stream": "stdout",
       "text": [
        "Tree Diplay Style: [1] - Triangular [2] - Diagonal form: 1\n"
       ]
      },
      {
       "output_type": "stream",
       "stream": "stdout",
       "text": [
        "Tree creation process...\n"
       ]
      },
      {
       "name": "stdout",
       "output_type": "stream",
       "stream": "stdout",
       "text": [
        "Enter node number to be inserted <0-END>: 5\n"
       ]
      },
      {
       "output_type": "stream",
       "stream": "stdout",
       "text": [
        "Binary Tree is...\n",
        "\t5\n",
        "Pre-Order Traversal: 5 \n",
        "In-Order Traversal: 5 \n",
        "Post-Order Traversal: 5 \n"
       ]
      },
      {
       "name": "stdout",
       "output_type": "stream",
       "stream": "stdout",
       "text": [
        "Enter node number to be inserted <0-END>: 3\n"
       ]
      },
      {
       "output_type": "stream",
       "stream": "stdout",
       "text": [
        "Binary Tree is...\n",
        "\t5\n",
        "\t\t3\n",
        "Pre-Order Traversal: 5 3 \n",
        "In-Order Traversal: 3 5 \n",
        "Post-Order Traversal: 3 5 \n"
       ]
      },
      {
       "name": "stdout",
       "output_type": "stream",
       "stream": "stdout",
       "text": [
        "Enter node number to be inserted <0-END>: 8\n"
       ]
      },
      {
       "output_type": "stream",
       "stream": "stdout",
       "text": [
        "Binary Tree is...\n",
        "\t\t8\n",
        "\t5\n",
        "\t\t3\n",
        "Pre-Order Traversal: 5 3 8 \n",
        "In-Order Traversal: 3 5 8 \n",
        "Post-Order Traversal: 3 8 5 \n"
       ]
      },
      {
       "name": "stdout",
       "output_type": "stream",
       "stream": "stdout",
       "text": [
        "Enter node number to be inserted <0-END>: 2\n"
       ]
      },
      {
       "output_type": "stream",
       "stream": "stdout",
       "text": [
        "Binary Tree is...\n",
        "\t\t8\n",
        "\t5\n",
        "\t\t3\n",
        "\t\t\t2\n",
        "Pre-Order Traversal: 5 3 2 8 \n",
        "In-Order Traversal: 2 3 5 8 \n",
        "Post-Order Traversal: 2 3 8 5 \n"
       ]
      },
      {
       "name": "stdout",
       "output_type": "stream",
       "stream": "stdout",
       "text": [
        "Enter node number to be inserted <0-END>: 9\n"
       ]
      },
      {
       "output_type": "stream",
       "stream": "stdout",
       "text": [
        "Binary Tree is...\n",
        "\t\t\t9\n",
        "\t\t8\n",
        "\t5\n",
        "\t\t3\n",
        "\t\t\t2\n",
        "Pre-Order Traversal: 5 3 2 8 9 \n",
        "In-Order Traversal: 2 3 5 8 9 \n",
        "Post-Order Traversal: 2 3 9 8 5 \n"
       ]
      },
      {
       "name": "stdout",
       "output_type": "stream",
       "stream": "stdout",
       "text": [
        "Enter node number to be inserted <0-END>: 0\n"
       ]
      },
      {
       "output_type": "stream",
       "stream": "stdout",
       "text": [
        "Tree search process...\n"
       ]
      },
      {
       "name": "stdout",
       "output_type": "stream",
       "stream": "stdout",
       "text": [
        "Enter node number to be inserted <0-END>: 8\n"
       ]
      },
      {
       "output_type": "stream",
       "stream": "stdout",
       "text": [
        "Found data in the Tree\n"
       ]
      },
      {
       "name": "stdout",
       "output_type": "stream",
       "stream": "stdout",
       "text": [
        "Enter node number to be inserted <0-END>: 1\n"
       ]
      },
      {
       "output_type": "stream",
       "stream": "stdout",
       "text": [
        "Not found data in the Tree\n"
       ]
      },
      {
       "name": "stdout",
       "output_type": "stream",
       "stream": "stdout",
       "text": [
        "Enter node number to be inserted <0-END>: 0\n"
       ]
      }
     ],
     "prompt_number": 1
    },
    {
     "cell_type": "heading",
     "level": 2,
     "metadata": {},
     "source": [
      "Example-complex.cpp, Page no-679"
     ]
    },
    {
     "cell_type": "code",
     "collapsed": false,
     "input": [
      "def __add__(self, c2):\n",
      "    temp=Complex()\n",
      "    temp._Complex__real=self._Complex__real+c2._Complex__real\n",
      "    temp._Complex__imag=self._Complex__imag+c2._Complex__imag\n",
      "    return temp\n",
      "class Complex:\n",
      "    def __init__(self):\n",
      "        self.__real=self.__imag=0\n",
      "    def getdata(self):\n",
      "        self.__real=float(raw_input(\"Real part ? \"))\n",
      "        self.__imag=float(raw_input(\"Imag part ? \"))\n",
      "    #overloading + operator\n",
      "    __add__=__add__\n",
      "    def outdata(self, msg):\n",
      "        print \"%s(%g, %g)\" %(msg, self.__real, self.__imag)\n",
      "c1=Complex()\n",
      "c2=Complex()\n",
      "c3=Complex()\n",
      "print \"Addition of integer complex objects...\"\n",
      "print \"Enter Complex Number c1...\"\n",
      "c1.getdata()\n",
      "print \"Enter Complex Number c2...\"\n",
      "c2.getdata()\n",
      "c3=c1+c2 #invoking the overloaded + operator\n",
      "c3.outdata(\"c3 = c1 + c2: \")\n",
      "c4=Complex()\n",
      "c5=Complex()\n",
      "c6=Complex()\n",
      "print \"Addition of float complex objects...\"\n",
      "print \"Enter Complex Number c4...\"\n",
      "c4.getdata()\n",
      "print \"Enter Complex Number c5...\"\n",
      "c5.getdata()\n",
      "c6=c4+c5 #invoking the overloaded + operator\n",
      "c6.outdata(\"c6 = c4 + c5: \")"
     ],
     "language": "python",
     "metadata": {},
     "outputs": [
      {
       "output_type": "stream",
       "stream": "stdout",
       "text": [
        "Addition of integer complex objects...\n",
        "Enter Complex Number c1...\n"
       ]
      },
      {
       "name": "stdout",
       "output_type": "stream",
       "stream": "stdout",
       "text": [
        "Real part ? 1\n"
       ]
      },
      {
       "name": "stdout",
       "output_type": "stream",
       "stream": "stdout",
       "text": [
        "Imag part ? 2\n"
       ]
      },
      {
       "output_type": "stream",
       "stream": "stdout",
       "text": [
        "Enter Complex Number c2...\n"
       ]
      },
      {
       "name": "stdout",
       "output_type": "stream",
       "stream": "stdout",
       "text": [
        "Real part ? 3\n"
       ]
      },
      {
       "name": "stdout",
       "output_type": "stream",
       "stream": "stdout",
       "text": [
        "Imag part ? 4\n"
       ]
      },
      {
       "output_type": "stream",
       "stream": "stdout",
       "text": [
        "c3 = c1 + c2: (4, 6)\n",
        "Addition of float complex objects...\n",
        "Enter Complex Number c4...\n"
       ]
      },
      {
       "name": "stdout",
       "output_type": "stream",
       "stream": "stdout",
       "text": [
        "Real part ? 1.5\n"
       ]
      },
      {
       "name": "stdout",
       "output_type": "stream",
       "stream": "stdout",
       "text": [
        "Imag part ? 2.5\n"
       ]
      },
      {
       "output_type": "stream",
       "stream": "stdout",
       "text": [
        "Enter Complex Number c5...\n"
       ]
      },
      {
       "name": "stdout",
       "output_type": "stream",
       "stream": "stdout",
       "text": [
        "Real part ? 2.4\n"
       ]
      },
      {
       "name": "stdout",
       "output_type": "stream",
       "stream": "stdout",
       "text": [
        "Imag part ? 3.7\n"
       ]
      },
      {
       "output_type": "stream",
       "stream": "stdout",
       "text": [
        "c6 = c4 + c5: (3.9, 6.2)\n"
       ]
      }
     ],
     "prompt_number": 1
    },
    {
     "cell_type": "heading",
     "level": 2,
     "metadata": {},
     "source": [
      "Example-1, Page no-680"
     ]
    },
    {
     "cell_type": "code",
     "collapsed": false,
     "input": [
      "N=5\n",
      "def Min(arr):\n",
      "    m=arr[0]\n",
      "    for i in range(N):\n",
      "        if arr[i]<m:\n",
      "            m=arr[i]\n",
      "    return m\n",
      "a=[55,6,7,-1,8]\n",
      "b=[2.3,2.1,8.4,7.5,3.0]\n",
      "i_min=Min(a)\n",
      "f_min=Min(b)\n",
      "print \"Minimum value in integer array =\", i_min\n",
      "print \"Minimum value in float array =\", f_min"
     ],
     "language": "python",
     "metadata": {},
     "outputs": [
      {
       "output_type": "stream",
       "stream": "stdout",
       "text": [
        "Minimum value in integer array = -1\n",
        "Minimum value in float array = 2.1\n"
       ]
      }
     ],
     "prompt_number": 1
    },
    {
     "cell_type": "heading",
     "level": 2,
     "metadata": {},
     "source": [
      "Example-2, Page no-681"
     ]
    },
    {
     "cell_type": "code",
     "collapsed": false,
     "input": [
      "def add(a, b):\n",
      "    return a+b\n",
      "i1=10\n",
      "i2=20\n",
      "f1=8.2\n",
      "f2=9.9\n",
      "c1='#'\n",
      "c2='$'\n",
      "print i1,\"+\",i2, \"=\", add(i1, i2)\n",
      "print f1,\"+\",f2, \"=\", add(f1, f2)\n",
      "print c1,\"+\",c2, \"= %c\" %add(ord(c1),ord(c2))"
     ],
     "language": "python",
     "metadata": {},
     "outputs": [
      {
       "output_type": "stream",
       "stream": "stdout",
       "text": [
        "10 + 20 = 30\n",
        "8.2 + 9.9 = 18.1\n",
        "# + $ = G\n"
       ]
      }
     ],
     "prompt_number": 1
    }
   ],
   "metadata": {}
  }
 ]
}