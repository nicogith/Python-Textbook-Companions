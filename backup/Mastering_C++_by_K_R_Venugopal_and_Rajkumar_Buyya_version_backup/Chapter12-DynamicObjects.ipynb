{
 "metadata": {
  "name": "",
  "signature": "sha256:dd08d35ee9767f23c09f2b0ea16b1cee00b60ac3967c95c41f4ba5d0c6e14cf0"
 },
 "nbformat": 3,
 "nbformat_minor": 0,
 "worksheets": [
  {
   "cells": [
    {
     "cell_type": "heading",
     "level": 1,
     "metadata": {},
     "source": [
      "Chapter 12-Dynamic Objects"
     ]
    },
    {
     "cell_type": "heading",
     "level": 2,
     "metadata": {},
     "source": [
      "Example-ptrobj1.cpp, Page no-435"
     ]
    },
    {
     "cell_type": "code",
     "collapsed": false,
     "input": [
      "from ctypes import *\n",
      "class someclass(Structure):\n",
      "    data1=int\n",
      "    data2=chr\n",
      "    def __init__(self):\n",
      "        print 'Constructor someclass() is invoked'\n",
      "        self.data1=1\n",
      "        self.data2='A'\n",
      "    def __del__(self):\n",
      "        print 'Destructor ~someclass() is invoked'\n",
      "    def show(self):\n",
      "        print 'data1 =', self.data1,\n",
      "        print 'data2 =', self.data2\n",
      "object1=someclass() #object of class someclass\n",
      "ptr=POINTER(someclass) #pointer of type class someclass\n",
      "ptr=object1 #pointer pointing to object of class someclass\n",
      "print \"Accessing object through object1.show()...\"\n",
      "object1.show()\n",
      "print \"Accessing object through ptr->show()...\"\n",
      "ptr.show()"
     ],
     "language": "python",
     "metadata": {},
     "outputs": [
      {
       "output_type": "stream",
       "stream": "stdout",
       "text": [
        "Constructor someclass() is invoked\n",
        "Destructor ~someclass() is invoked\n",
        "Accessing object through object1.show()...\n",
        "data1 = 1 data2 = A\n",
        "Accessing object through ptr->show()...\n",
        "data1 = 1 data2 = A\n"
       ]
      }
     ],
     "prompt_number": 2
    },
    {
     "cell_type": "heading",
     "level": 2,
     "metadata": {},
     "source": [
      "Example-ptrobj2.cpp, Page no-437"
     ]
    },
    {
     "cell_type": "code",
     "collapsed": false,
     "input": [
      "class someclass(Structure):\n",
      "    data1=int\n",
      "    data2=chr\n",
      "    def __init__(self):\n",
      "        print 'Constructor someclass() is invoked'\n",
      "        self.data1=1\n",
      "        self.data2='A'\n",
      "    def __del__(self):\n",
      "        print 'Destructor ~someclass() is invoked'\n",
      "    def show(self):\n",
      "        print 'data1 =', self.data1,\n",
      "        print 'data2 =', self.data2\n",
      "object1=someclass()\n",
      "ptr=POINTER(someclass)\n",
      "ptr=object1\n",
      "print \"Accessing object through object1.show()...\"\n",
      "ptr.show()\n",
      "print \"Destroying dynamic object...\"\n",
      "del ptr"
     ],
     "language": "python",
     "metadata": {},
     "outputs": [
      {
       "output_type": "stream",
       "stream": "stdout",
       "text": [
        "Constructor someclass() is invoked\n",
        "Destructor ~someclass() is invoked\n",
        "Accessing object through object1.show()...\n",
        "data1 = 1 data2 = A\n",
        "Destroying dynamic object...\n"
       ]
      }
     ],
     "prompt_number": 3
    },
    {
     "cell_type": "heading",
     "level": 2,
     "metadata": {},
     "source": [
      "Example-useref.cpp, Page no-439"
     ]
    },
    {
     "cell_type": "code",
     "collapsed": false,
     "input": [
      "from ctypes import *\n",
      "t1=POINTER(c_int)\n",
      "t1=c_int(5)\n",
      "t3=c_int(5)\n",
      "t2=c_int(10)\n",
      "t1.value=t1.value+t2.value\n",
      "print \"Sum of\", t3.value,\n",
      "print \"and\", t2.value, \n",
      "print \"is:\", t1.value"
     ],
     "language": "python",
     "metadata": {},
     "outputs": [
      {
       "output_type": "stream",
       "stream": "stdout",
       "text": [
        "Sum of 5 and 10 is: 15\n"
       ]
      }
     ],
     "prompt_number": 3
    },
    {
     "cell_type": "heading",
     "level": 2,
     "metadata": {},
     "source": [
      "Example-refobj.cpp, Page no-440"
     ]
    },
    {
     "cell_type": "code",
     "collapsed": false,
     "input": [
      "from ctypes import *\n",
      "class student(Structure):\n",
      "    __roll_no=int\n",
      "    __name=str\n",
      "    def setdata(self, roll_no_in, name_in):\n",
      "        self.__roll_no=roll_no_in\n",
      "        self.__name=name_in\n",
      "    def outdata(self):\n",
      "        print \"Roll No =\", self.__roll_no\n",
      "        print \"Name =\", self.__name\n",
      "s1=student()\n",
      "s1.setdata(1, \"Savithri\")\n",
      "s1.outdata()\n",
      "s2=student()\n",
      "s2.setdata(2, \"Bhavani\")\n",
      "s2.outdata()\n",
      "s3=student()\n",
      "s3.setdata(3, \"Vani\")\n",
      "s4=s3\n",
      "s3.outdata()\n",
      "s4.outdata()"
     ],
     "language": "python",
     "metadata": {},
     "outputs": [
      {
       "output_type": "stream",
       "stream": "stdout",
       "text": [
        "Roll No = 1\n",
        "Name = Savithri\n",
        "Roll No = 2\n",
        "Name = Bhavani\n",
        "Roll No = 3\n",
        "Name = Vani\n",
        "Roll No = 3\n",
        "Name = Vani\n"
       ]
      }
     ],
     "prompt_number": 2
    },
    {
     "cell_type": "heading",
     "level": 2,
     "metadata": {},
     "source": [
      "Example-student3.cpp, Page no-442"
     ]
    },
    {
     "cell_type": "code",
     "collapsed": false,
     "input": [
      "class student:\n",
      "    __roll_no=int\n",
      "    __name=str\n",
      "    def __init__(self, roll_no_in=None, name_in=None):\n",
      "        if isinstance(roll_no_in, int):\n",
      "            self.__roll_no=roll_no_in\n",
      "            if isinstance(name_in, str):\n",
      "                self.__name=name_in\n",
      "        else:\n",
      "            flag=raw_input(\"Do you want to initialize the object (y/n): \")\n",
      "            if flag=='y' or flag=='Y':\n",
      "                self.__roll_no=int(raw_input(\"Enter Roll no. of student: \"))\n",
      "                Str=raw_input(\"Enter Name of student: \")\n",
      "                self.__name=Str\n",
      "            else:\n",
      "                self.__roll_no=0\n",
      "                self.__name=None\n",
      "    def __del__(self):\n",
      "        if isinstance(self.__name, str):\n",
      "            del self.__name\n",
      "    def Set(self):\n",
      "        student(roll_no_in, name_in)\n",
      "    def show(self):\n",
      "        if self.__roll_no:\n",
      "            print \"Roll No:\", self.__roll_no\n",
      "        else:\n",
      "            print \"Roll No: (not initialized)\"\n",
      "        if isinstance(self.__name, str):\n",
      "            print \"Name: \", self.__name\n",
      "        else:\n",
      "            print \"Name: (not initialized)\"\n",
      "s1=student()\n",
      "s2=student()\n",
      "s3=student(1)\n",
      "s4=student(2, \"Bhavani\")\n",
      "print \"Live objects contents...\"\n",
      "s1.show()\n",
      "s2.show()\n",
      "s3.show()\n",
      "s4.show()\n",
      "del s1\n",
      "del s2\n",
      "del s3\n",
      "del s4"
     ],
     "language": "python",
     "metadata": {},
     "outputs": [
      {
       "name": "stdout",
       "output_type": "stream",
       "stream": "stdout",
       "text": [
        "Do you want to initialize the object (y/n): n\n"
       ]
      },
      {
       "name": "stdout",
       "output_type": "stream",
       "stream": "stdout",
       "text": [
        "Do you want to initialize the object (y/n): y\n"
       ]
      },
      {
       "name": "stdout",
       "output_type": "stream",
       "stream": "stdout",
       "text": [
        "Enter Roll no. of student: 5\n"
       ]
      },
      {
       "name": "stdout",
       "output_type": "stream",
       "stream": "stdout",
       "text": [
        "Enter Name of student: Rekha\n"
       ]
      },
      {
       "output_type": "stream",
       "stream": "stdout",
       "text": [
        "Live objects contents...\n",
        "Roll No: (not initialized)\n",
        "Name: (not initialized)\n",
        "Roll No: 5\n",
        "Name:  Rekha\n",
        "Roll No: 1\n",
        "Name: (not initialized)\n",
        "Roll No: 2\n",
        "Name:  Bhavani\n"
       ]
      }
     ],
     "prompt_number": 3
    },
    {
     "cell_type": "heading",
     "level": 2,
     "metadata": {},
     "source": [
      "Example-student1.cpp, Page-445"
     ]
    },
    {
     "cell_type": "code",
     "collapsed": false,
     "input": [
      "class student:\n",
      "    __roll_no=int\n",
      "    __name=str\n",
      "    def setdata(self, roll_no_in, name_in):\n",
      "        self.__roll_no=roll_no_in\n",
      "        self.__name=name_in\n",
      "    def outdata(self):\n",
      "        print \"Roll No =\", self.__roll_no\n",
      "        print \"Name =\", self.__name\n",
      "s=[]*10 #array of objects\n",
      "count=0\n",
      "for i in range(10):\n",
      "    s.append(student())\n",
      "for i in range(10):\n",
      "    response=raw_input(\"Initialize student object (y/n): \")\n",
      "    if response=='y' or response=='Y':\n",
      "        roll_no=int(raw_input(\"Enter a Roll no. of student: \"))\n",
      "        name=raw_input(\"Enter name of student: \")\n",
      "        s[i].setdata(roll_no, name)\n",
      "        count+=1\n",
      "    else:\n",
      "        break\n",
      "print \"Student Details...\"\n",
      "for i in range(count):\n",
      "    s[i].outdata()"
     ],
     "language": "python",
     "metadata": {},
     "outputs": [
      {
       "name": "stdout",
       "output_type": "stream",
       "stream": "stdout",
       "text": [
        "Initialize student object (y/n): y\n"
       ]
      },
      {
       "name": "stdout",
       "output_type": "stream",
       "stream": "stdout",
       "text": [
        "Enter a Roll no. of student: 1\n"
       ]
      },
      {
       "name": "stdout",
       "output_type": "stream",
       "stream": "stdout",
       "text": [
        "Enter name of student: Rajkumar\n"
       ]
      },
      {
       "name": "stdout",
       "output_type": "stream",
       "stream": "stdout",
       "text": [
        "Initialize student object (y/n): y\n"
       ]
      },
      {
       "name": "stdout",
       "output_type": "stream",
       "stream": "stdout",
       "text": [
        "Enter a Roll no. of student: 2\n"
       ]
      },
      {
       "name": "stdout",
       "output_type": "stream",
       "stream": "stdout",
       "text": [
        "Enter name of student: Tejaswi\n"
       ]
      },
      {
       "name": "stdout",
       "output_type": "stream",
       "stream": "stdout",
       "text": [
        "Initialize student object (y/n): y\n"
       ]
      },
      {
       "name": "stdout",
       "output_type": "stream",
       "stream": "stdout",
       "text": [
        "Enter a Roll no. of student: 3\n"
       ]
      },
      {
       "name": "stdout",
       "output_type": "stream",
       "stream": "stdout",
       "text": [
        "Enter name of student: Savithri\n"
       ]
      },
      {
       "name": "stdout",
       "output_type": "stream",
       "stream": "stdout",
       "text": [
        "Initialize student object (y/n): n\n"
       ]
      },
      {
       "output_type": "stream",
       "stream": "stdout",
       "text": [
        "Student Details...\n",
        "Roll No = 1\n",
        "Name = Rajkumar\n",
        "Roll No = 2\n",
        "Name = Tejaswi\n",
        "Roll No = 3\n",
        "Name = Savithri\n"
       ]
      }
     ],
     "prompt_number": 4
    },
    {
     "cell_type": "heading",
     "level": 2,
     "metadata": {},
     "source": [
      "Example-student2.cpp, Page no-447"
     ]
    },
    {
     "cell_type": "code",
     "collapsed": false,
     "input": [
      "class student(Structure):\n",
      "    __roll_no=int\n",
      "    __name=str\n",
      "    def setdata(self, roll_no_in, name_in):\n",
      "        self.__roll_no=roll_no_in\n",
      "        self.__name=name_in\n",
      "    def outdata(self):\n",
      "        print \"Roll No =\", self.__roll_no\n",
      "        print \"Name =\", self.__name\n",
      "temp=[]*10\n",
      "s=POINTER(student) \n",
      "count=0\n",
      "for i in range(10):\n",
      "    temp.append(student())\n",
      "s=temp #pointer to array of objects\n",
      "for i in range(10):\n",
      "    response=raw_input(\"Create student object (y/n): \")\n",
      "    if response=='y' or response=='Y':\n",
      "        roll_no=int(raw_input(\"Enter a Roll no. of student: \"))\n",
      "        name=raw_input(\"Enter name of student: \")\n",
      "        s[i].setdata(roll_no, name)\n",
      "        count+=1\n",
      "    else:\n",
      "        break\n",
      "print \"Student Details...\"\n",
      "for i in range(count):\n",
      "    s[i].outdata()"
     ],
     "language": "python",
     "metadata": {},
     "outputs": [
      {
       "name": "stdout",
       "output_type": "stream",
       "stream": "stdout",
       "text": [
        "Create student object (y/n): y\n"
       ]
      },
      {
       "name": "stdout",
       "output_type": "stream",
       "stream": "stdout",
       "text": [
        "Enter a Roll no. of student: 1\n"
       ]
      },
      {
       "name": "stdout",
       "output_type": "stream",
       "stream": "stdout",
       "text": [
        "Enter name of student: Rajkumar\n"
       ]
      },
      {
       "name": "stdout",
       "output_type": "stream",
       "stream": "stdout",
       "text": [
        "Create student object (y/n): y\n"
       ]
      },
      {
       "name": "stdout",
       "output_type": "stream",
       "stream": "stdout",
       "text": [
        "Enter a Roll no. of student: 2\n"
       ]
      },
      {
       "name": "stdout",
       "output_type": "stream",
       "stream": "stdout",
       "text": [
        "Enter name of student: Tejaswi\n"
       ]
      },
      {
       "name": "stdout",
       "output_type": "stream",
       "stream": "stdout",
       "text": [
        "Create student object (y/n): y\n"
       ]
      },
      {
       "name": "stdout",
       "output_type": "stream",
       "stream": "stdout",
       "text": [
        "Enter a Roll no. of student: 3\n"
       ]
      },
      {
       "name": "stdout",
       "output_type": "stream",
       "stream": "stdout",
       "text": [
        "Enter name of student: Savithri\n"
       ]
      },
      {
       "name": "stdout",
       "output_type": "stream",
       "stream": "stdout",
       "text": [
        "Create student object (y/n): n\n"
       ]
      },
      {
       "output_type": "stream",
       "stream": "stdout",
       "text": [
        "Student Details...\n",
        "Roll No = 1\n",
        "Name = Rajkumar\n",
        "Roll No = 2\n",
        "Name = Tejaswi\n",
        "Roll No = 3\n",
        "Name = Savithri\n"
       ]
      }
     ],
     "prompt_number": 6
    },
    {
     "cell_type": "heading",
     "level": 2,
     "metadata": {},
     "source": [
      "Example-ptrmemb.cpp, Page no-452"
     ]
    },
    {
     "cell_type": "code",
     "collapsed": false,
     "input": [
      "class X:\n",
      "    __y=int\n",
      "    a=int\n",
      "    b=int\n",
      "    def init(self, z):\n",
      "        self.a=z\n",
      "        return z\n",
      "obj=X()\n",
      "ip=X.a #pointer to data member\n",
      "obj.ip=10 #access through object\n",
      "print \"a in obj after obj.*ip = 10 is\", obj.ip\n",
      "pobj=[obj] #pointer to object of class X\n",
      "pobj[0].ip=10 #access through object pointer\n",
      "print \"a in obj after pobj->*ip = 10 is\", pobj[0].ip\n",
      "ptr_init=X.init #pointer to member function\n",
      "ptr_init(obj,5) #access through object\n",
      "print \"a in obj after (obj.*ptr_init)(5) =\", obj.a\n",
      "ptr_init(pobj[0],5) #access through object pointer\n",
      "print \"a in obj after (pobj->*ptr_init)(5) =\", obj.a"
     ],
     "language": "python",
     "metadata": {},
     "outputs": [
      {
       "output_type": "stream",
       "stream": "stdout",
       "text": [
        "a in obj after obj.*ip = 10 is 10\n",
        "a in obj after pobj->*ip = 10 is 10\n",
        "a in obj after (obj.*ptr_init)(5) = 5\n",
        "a in obj after (pobj->*ptr_init)(5) = 5\n"
       ]
      }
     ],
     "prompt_number": 1
    },
    {
     "cell_type": "heading",
     "level": 2,
     "metadata": {},
     "source": [
      "Example-friend.cpp, Page no-454"
     ]
    },
    {
     "cell_type": "code",
     "collapsed": false,
     "input": [
      "class X():\n",
      "    __a=int\n",
      "    __b=int\n",
      "    def __init__(self):\n",
      "        self.__a=0\n",
      "        self.__b=0\n",
      "    def SetMembers(self, a1, b1):\n",
      "        self.__a=a1\n",
      "        self.__b=b1\n",
      "def sum(objx):\n",
      "    pa=[X._X__a]\n",
      "    pb=[X._X__b]\n",
      "    objx.pa=objx._X__a\n",
      "    objx.pb=objx._X__b\n",
      "    return objx.pa+objx.pb\n",
      "objx=X()\n",
      "pfunc=X.SetMembers\n",
      "pfunc(objx, 5, 6)\n",
      "print \"Sum =\", sum(objx)\n",
      "pobjx=[objx]\n",
      "pfunc(pobjx[0], 7, 8)\n",
      "print \"Sum =\", sum(objx)"
     ],
     "language": "python",
     "metadata": {},
     "outputs": [
      {
       "output_type": "stream",
       "stream": "stdout",
       "text": [
        "Sum = 11\n",
        "Sum = 15\n"
       ]
      }
     ],
     "prompt_number": 1
    },
    {
     "cell_type": "heading",
     "level": 2,
     "metadata": {},
     "source": [
      "Example-memhnd.cpp, Page no-455"
     ]
    },
    {
     "cell_type": "code",
     "collapsed": false,
     "input": [
      "from ctypes import *\n",
      "def out_of_memory():\n",
      "    print \"Memory exhausted, cannot allocate\"\n",
      "ip=pointer(c_int())\n",
      "total_allocated=0L\n",
      "print \"Ok, allocating...\"\n",
      "while(1):\n",
      "    ip=[int]*100\n",
      "    total_allocated+=100L\n",
      "    print \"Now got a total of\", total_allocated, \"bytes\"\n",
      "    if total_allocated==29900L:\n",
      "        break"
     ],
     "language": "python",
     "metadata": {},
     "outputs": [
      {
       "output_type": "stream",
       "stream": "stdout",
       "text": [
        "Ok, allocating...\n",
        "Now got a total of 100 bytes\n",
        "Now got a total of 200 bytes\n",
        "Now got a total of 300 bytes\n",
        "Now got a total of 400 bytes\n",
        "Now got a total of 500 bytes\n",
        "Now got a total of 600 bytes\n",
        "Now got a total of 700 bytes\n",
        "Now got a total of 800 bytes\n",
        "Now got a total of 900 bytes\n",
        "Now got a total of 1000 bytes\n",
        "Now got a total of 1100 bytes\n",
        "Now got a total of 1200 bytes\n",
        "Now got a total of 1300 bytes\n",
        "Now got a total of 1400 bytes\n",
        "Now got a total of 1500 bytes\n",
        "Now got a total of 1600 bytes\n",
        "Now got a total of 1700 bytes\n",
        "Now got a total of 1800 bytes\n",
        "Now got a total of 1900 bytes\n",
        "Now got a total of 2000 bytes\n",
        "Now got a total of 2100 bytes\n",
        "Now got a total of 2200 bytes\n",
        "Now got a total of 2300 bytes\n",
        "Now got a total of 2400 bytes\n",
        "Now got a total of 2500 bytes\n",
        "Now got a total of 2600 bytes\n",
        "Now got a total of 2700 bytes\n",
        "Now got a total of 2800 bytes\n",
        "Now got a total of 2900 bytes\n",
        "Now got a total of 3000 bytes\n",
        "Now got a total of 3100 bytes\n",
        "Now got a total of 3200 bytes\n",
        "Now got a total of 3300 bytes\n",
        "Now got a total of 3400 bytes\n",
        "Now got a total of 3500 bytes\n",
        "Now got a total of 3600 bytes\n",
        "Now got a total of 3700 bytes\n",
        "Now got a total of 3800 bytes\n",
        "Now got a total of 3900 bytes\n",
        "Now got a total of 4000 bytes\n",
        "Now got a total of 4100 bytes\n",
        "Now got a total of 4200 bytes\n",
        "Now got a total of 4300 bytes\n",
        "Now got a total of 4400 bytes\n",
        "Now got a total of 4500 bytes\n",
        "Now got a total of 4600 bytes\n",
        "Now got a total of 4700 bytes\n",
        "Now got a total of 4800 bytes\n",
        "Now got a total of 4900 bytes\n",
        "Now got a total of 5000 bytes\n",
        "Now got a total of 5100 bytes\n",
        "Now got a total of 5200 bytes\n",
        "Now got a total of 5300 bytes\n",
        "Now got a total of 5400 bytes\n",
        "Now got a total of 5500 bytes\n",
        "Now got a total of 5600 bytes\n",
        "Now got a total of 5700 bytes\n",
        "Now got a total of 5800 bytes\n",
        "Now got a total of 5900 bytes\n",
        "Now got a total of 6000 bytes\n",
        "Now got a total of 6100 bytes\n",
        "Now got a total of 6200 bytes\n",
        "Now got a total of 6300 bytes\n",
        "Now got a total of 6400 bytes\n",
        "Now got a total of 6500 bytes\n",
        "Now got a total of 6600 bytes\n",
        "Now got a total of 6700 bytes\n",
        "Now got a total of 6800 bytes\n",
        "Now got a total of 6900 bytes\n",
        "Now got a total of 7000 bytes\n",
        "Now got a total of 7100 bytes\n",
        "Now got a total of 7200 bytes\n",
        "Now got a total of 7300 bytes\n",
        "Now got a total of 7400 bytes\n",
        "Now got a total of 7500 bytes\n",
        "Now got a total of 7600 bytes\n",
        "Now got a total of 7700 bytes\n",
        "Now got a total of 7800 bytes\n",
        "Now got a total of 7900 bytes\n",
        "Now got a total of 8000 bytes\n",
        "Now got a total of 8100 bytes\n",
        "Now got a total of 8200 bytes\n",
        "Now got a total of 8300 bytes\n",
        "Now got a total of 8400 bytes\n",
        "Now got a total of 8500 bytes\n",
        "Now got a total of 8600 bytes\n",
        "Now got a total of 8700 bytes\n",
        "Now got a total of 8800 bytes\n",
        "Now got a total of 8900 bytes\n",
        "Now got a total of 9000 bytes\n",
        "Now got a total of 9100 bytes\n",
        "Now got a total of 9200 bytes\n",
        "Now got a total of 9300 bytes\n",
        "Now got a total of 9400 bytes\n",
        "Now got a total of 9500 bytes\n",
        "Now got a total of 9600 bytes\n",
        "Now got a total of 9700 bytes\n",
        "Now got a total of 9800 bytes\n",
        "Now got a total of 9900 bytes\n",
        "Now got a total of 10000 bytes\n",
        "Now got a total of 10100 bytes\n",
        "Now got a total of 10200 bytes\n",
        "Now got a total of 10300 bytes\n",
        "Now got a total of 10400 bytes\n",
        "Now got a total of 10500 bytes\n",
        "Now got a total of 10600 bytes\n",
        "Now got a total of 10700 bytes\n",
        "Now got a total of 10800 bytes\n",
        "Now got a total of 10900 bytes\n",
        "Now got a total of 11000 bytes\n",
        "Now got a total of 11100 bytes\n",
        "Now got a total of 11200 bytes\n",
        "Now got a total of 11300 bytes\n",
        "Now got a total of 11400 bytes\n",
        "Now got a total of 11500 bytes\n",
        "Now got a total of 11600 bytes\n",
        "Now got a total of 11700 bytes\n",
        "Now got a total of 11800 bytes\n",
        "Now got a total of 11900 bytes\n",
        "Now got a total of 12000 bytes\n",
        "Now got a total of 12100 bytes\n",
        "Now got a total of 12200 bytes\n",
        "Now got a total of 12300 bytes\n",
        "Now got a total of 12400 bytes\n",
        "Now got a total of 12500 bytes\n",
        "Now got a total of 12600 bytes\n",
        "Now got a total of 12700 bytes\n",
        "Now got a total of 12800 bytes\n",
        "Now got a total of 12900 bytes\n",
        "Now got a total of 13000 bytes\n",
        "Now got a total of 13100 bytes\n",
        "Now got a total of 13200 bytes\n",
        "Now got a total of 13300 bytes\n",
        "Now got a total of 13400 bytes\n",
        "Now got a total of 13500 bytes\n",
        "Now got a total of 13600 bytes\n",
        "Now got a total of 13700 bytes\n",
        "Now got a total of 13800 bytes\n",
        "Now got a total of 13900 bytes\n",
        "Now got a total of 14000 bytes\n",
        "Now got a total of 14100 bytes\n",
        "Now got a total of 14200 bytes\n",
        "Now got a total of 14300 bytes\n",
        "Now got a total of 14400 bytes\n",
        "Now got a total of 14500 bytes\n",
        "Now got a total of 14600 bytes\n",
        "Now got a total of 14700 bytes\n",
        "Now got a total of 14800 bytes\n",
        "Now got a total of 14900 bytes\n",
        "Now got a total of 15000 bytes\n",
        "Now got a total of 15100 bytes\n",
        "Now got a total of 15200 bytes\n",
        "Now got a total of 15300 bytes\n",
        "Now got a total of 15400 bytes\n",
        "Now got a total of 15500 bytes\n",
        "Now got a total of 15600 bytes\n",
        "Now got a total of 15700 bytes\n",
        "Now got a total of 15800 bytes\n",
        "Now got a total of 15900 bytes\n",
        "Now got a total of 16000 bytes\n",
        "Now got a total of 16100 bytes\n",
        "Now got a total of 16200 bytes\n",
        "Now got a total of 16300 bytes\n",
        "Now got a total of 16400 bytes\n",
        "Now got a total of 16500 bytes\n",
        "Now got a total of 16600 bytes\n",
        "Now got a total of 16700 bytes\n",
        "Now got a total of 16800 bytes\n",
        "Now got a total of 16900 bytes\n",
        "Now got a total of 17000 bytes\n",
        "Now got a total of 17100 bytes\n",
        "Now got a total of 17200 bytes\n",
        "Now got a total of 17300 bytes\n",
        "Now got a total of 17400 bytes\n",
        "Now got a total of 17500 bytes\n",
        "Now got a total of 17600 bytes\n",
        "Now got a total of 17700 bytes\n",
        "Now got a total of 17800 bytes\n",
        "Now got a total of 17900 bytes\n",
        "Now got a total of 18000 bytes\n",
        "Now got a total of 18100 bytes\n",
        "Now got a total of 18200 bytes\n",
        "Now got a total of 18300 bytes\n",
        "Now got a total of 18400 bytes\n",
        "Now got a total of 18500 bytes\n",
        "Now got a total of 18600 bytes\n",
        "Now got a total of 18700 bytes\n",
        "Now got a total of 18800 bytes\n",
        "Now got a total of 18900 bytes\n",
        "Now got a total of 19000 bytes\n",
        "Now got a total of 19100 bytes\n",
        "Now got a total of 19200 bytes\n",
        "Now got a total of 19300 bytes\n",
        "Now got a total of 19400 bytes\n",
        "Now got a total of 19500 bytes\n",
        "Now got a total of 19600 bytes\n",
        "Now got a total of 19700 bytes\n",
        "Now got a total of 19800 bytes\n",
        "Now got a total of 19900 bytes\n",
        "Now got a total of 20000 bytes\n",
        "Now got a total of 20100 bytes\n",
        "Now got a total of 20200 bytes\n",
        "Now got a total of 20300 bytes\n",
        "Now got a total of 20400 bytes\n",
        "Now got a total of 20500 bytes\n",
        "Now got a total of 20600 bytes\n",
        "Now got a total of 20700 bytes\n",
        "Now got a total of 20800 bytes\n",
        "Now got a total of 20900 bytes\n",
        "Now got a total of 21000 bytes\n",
        "Now got a total of 21100 bytes\n",
        "Now got a total of 21200 bytes\n",
        "Now got a total of 21300 bytes\n",
        "Now got a total of 21400 bytes\n",
        "Now got a total of 21500 bytes\n",
        "Now got a total of 21600 bytes\n",
        "Now got a total of 21700 bytes\n",
        "Now got a total of 21800 bytes\n",
        "Now got a total of 21900 bytes\n",
        "Now got a total of 22000 bytes\n",
        "Now got a total of 22100 bytes\n",
        "Now got a total of 22200 bytes\n",
        "Now got a total of 22300 bytes\n",
        "Now got a total of 22400 bytes\n",
        "Now got a total of 22500 bytes\n",
        "Now got a total of 22600 bytes\n",
        "Now got a total of 22700 bytes\n",
        "Now got a total of 22800 bytes\n",
        "Now got a total of 22900 bytes\n",
        "Now got a total of 23000 bytes\n",
        "Now got a total of 23100 bytes\n",
        "Now got a total of 23200 bytes\n",
        "Now got a total of 23300 bytes\n",
        "Now got a total of 23400 bytes\n",
        "Now got a total of 23500 bytes\n",
        "Now got a total of 23600 bytes\n",
        "Now got a total of 23700 bytes\n",
        "Now got a total of 23800 bytes\n",
        "Now got a total of 23900 bytes\n",
        "Now got a total of 24000 bytes\n",
        "Now got a total of 24100 bytes\n",
        "Now got a total of 24200 bytes\n",
        "Now got a total of 24300 bytes\n",
        "Now got a total of 24400 bytes\n",
        "Now got a total of 24500 bytes\n",
        "Now got a total of 24600 bytes\n",
        "Now got a total of 24700 bytes\n",
        "Now got a total of 24800 bytes\n",
        "Now got a total of 24900 bytes\n",
        "Now got a total of 25000 bytes\n",
        "Now got a total of 25100 bytes\n",
        "Now got a total of 25200 bytes\n",
        "Now got a total of 25300 bytes\n",
        "Now got a total of 25400 bytes\n",
        "Now got a total of 25500 bytes\n",
        "Now got a total of 25600 bytes\n",
        "Now got a total of 25700 bytes\n",
        "Now got a total of 25800 bytes\n",
        "Now got a total of 25900 bytes\n",
        "Now got a total of 26000 bytes\n",
        "Now got a total of 26100 bytes\n",
        "Now got a total of 26200 bytes\n",
        "Now got a total of 26300 bytes\n",
        "Now got a total of 26400 bytes\n",
        "Now got a total of 26500 bytes\n",
        "Now got a total of 26600 bytes\n",
        "Now got a total of 26700 bytes\n",
        "Now got a total of 26800 bytes\n",
        "Now got a total of 26900 bytes\n",
        "Now got a total of 27000 bytes\n",
        "Now got a total of 27100 bytes\n",
        "Now got a total of 27200 bytes\n",
        "Now got a total of 27300 bytes\n",
        "Now got a total of 27400 bytes\n",
        "Now got a total of 27500 bytes\n",
        "Now got a total of 27600 bytes\n",
        "Now got a total of 27700 bytes\n",
        "Now got a total of 27800 bytes\n",
        "Now got a total of 27900 bytes\n",
        "Now got a total of 28000 bytes\n",
        "Now got a total of 28100 bytes\n",
        "Now got a total of 28200 bytes\n",
        "Now got a total of 28300 bytes\n",
        "Now got a total of 28400 bytes\n",
        "Now got a total of 28500 bytes\n",
        "Now got a total of 28600 bytes\n",
        "Now got a total of 28700 bytes\n",
        "Now got a total of 28800 bytes\n",
        "Now got a total of 28900 bytes\n",
        "Now got a total of 29000 bytes\n",
        "Now got a total of 29100 bytes\n",
        "Now got a total of 29200 bytes\n",
        "Now got a total of 29300 bytes\n",
        "Now got a total of 29400 bytes\n",
        "Now got a total of 29500 bytes\n",
        "Now got a total of 29600 bytes\n",
        "Now got a total of 29700 bytes\n",
        "Now got a total of 29800 bytes\n",
        "Now got a total of 29900 bytes\n"
       ]
      }
     ],
     "prompt_number": 1
    },
    {
     "cell_type": "heading",
     "level": 2,
     "metadata": {},
     "source": [
      "Example-this.cpp, Page no-457"
     ]
    },
    {
     "cell_type": "code",
     "collapsed": false,
     "input": [
      "class Test:\n",
      "    __a=int\n",
      "    def setdata(self, init_a):\n",
      "        self.__a=init_a\n",
      "        print \"Address of my object, this in setdata():\", hex(id(self))\n",
      "        self.__a=init_a\n",
      "    def showdata(self):\n",
      "        print \"Data accessed in normal way: \", self.__a\n",
      "        print \"Address of my object, this in showdata(): \", hex(id(self))\n",
      "        print \"Data accessed through this->a: \", self.__a\n",
      "my=Test()\n",
      "my.setdata(25)\n",
      "my.showdata()"
     ],
     "language": "python",
     "metadata": {},
     "outputs": [
      {
       "output_type": "stream",
       "stream": "stdout",
       "text": [
        "Address of my object, this in setdata(): 0x39de488L\n",
        "Data accessed in normal way:  25\n",
        "Address of my object, this in showdata():  0x39de488L\n",
        "Data accessed through this->a:  25\n"
       ]
      }
     ],
     "prompt_number": 1
    },
    {
     "cell_type": "heading",
     "level": 2,
     "metadata": {},
     "source": [
      "Example-list.cpp, Page no-459"
     ]
    },
    {
     "cell_type": "code",
     "collapsed": false,
     "input": [
      "from ctypes import *\n",
      "class List():\n",
      "    def __init__(self, dat=None):\n",
      "        if isinstance(dat, int):\n",
      "            self.__data=dat\n",
      "        else:\n",
      "            self.__data=0\n",
      "        self.__Next=None\n",
      "    def __del__(self):\n",
      "        pass\n",
      "    def get(self):\n",
      "        return self.__data\n",
      "    def insert(self, node):\n",
      "        last=List()\n",
      "        last=self\n",
      "        while(last.__Next!=None):\n",
      "            last=last.__Next\n",
      "        last.__Next=node\n",
      "def display(first):\n",
      "    traverse=List()\n",
      "    print \"List traversal yields:\",\n",
      "    traverse=first\n",
      "    while(1):        \n",
      "        print traverse._List__data, \",\",\n",
      "        if traverse._List__Next==None:\n",
      "            break\n",
      "        traverse=traverse._List__Next\n",
      "    print \"\"\n",
      "first=List()\n",
      "first=None\n",
      "while(1):\n",
      "    print \"Linked List...\\n1.Insert\\n2.Display\\n3.Quit\\nEnter Choice: \",\n",
      "    choice=int(raw_input())\n",
      "    if choice==1:\n",
      "        data=int(raw_input(\"Enter data: \"))\n",
      "        node=List(data)\n",
      "        if first==None:\n",
      "            first=node\n",
      "        else:\n",
      "            first.insert(node)\n",
      "    elif choice==2:\n",
      "        display(first)\n",
      "    elif choice==3:\n",
      "        break\n",
      "    else:\n",
      "        print \"Bad Option Selected\""
     ],
     "language": "python",
     "metadata": {},
     "outputs": [
      {
       "output_type": "stream",
       "stream": "stdout",
       "text": [
        "Linked List...\n",
        "1.Insert\n",
        "2.Display\n",
        "3.Quit\n",
        "Enter Choice: "
       ]
      },
      {
       "name": "stdout",
       "output_type": "stream",
       "stream": "stdout",
       "text": [
        "1\n"
       ]
      },
      {
       "name": "stdout",
       "output_type": "stream",
       "stream": "stdout",
       "text": [
        "Enter data: 2\n"
       ]
      },
      {
       "output_type": "stream",
       "stream": "stdout",
       "text": [
        " Linked List...\n",
        "1.Insert\n",
        "2.Display\n",
        "3.Quit\n",
        "Enter Choice: "
       ]
      },
      {
       "name": "stdout",
       "output_type": "stream",
       "stream": "stdout",
       "text": [
        "2\n"
       ]
      },
      {
       "output_type": "stream",
       "stream": "stdout",
       "text": [
        " List traversal yields: 2 , \n",
        "Linked List...\n",
        "1.Insert\n",
        "2.Display\n",
        "3.Quit\n",
        "Enter Choice: "
       ]
      },
      {
       "name": "stdout",
       "output_type": "stream",
       "stream": "stdout",
       "text": [
        "1\n"
       ]
      },
      {
       "name": "stdout",
       "output_type": "stream",
       "stream": "stdout",
       "text": [
        "Enter data: 3\n"
       ]
      },
      {
       "output_type": "stream",
       "stream": "stdout",
       "text": [
        " Linked List...\n",
        "1.Insert\n",
        "2.Display\n",
        "3.Quit\n",
        "Enter Choice: "
       ]
      },
      {
       "name": "stdout",
       "output_type": "stream",
       "stream": "stdout",
       "text": [
        "1\n"
       ]
      },
      {
       "name": "stdout",
       "output_type": "stream",
       "stream": "stdout",
       "text": [
        "Enter data: 4\n"
       ]
      },
      {
       "output_type": "stream",
       "stream": "stdout",
       "text": [
        " Linked List...\n",
        "1.Insert\n",
        "2.Display\n",
        "3.Quit\n",
        "Enter Choice: "
       ]
      },
      {
       "name": "stdout",
       "output_type": "stream",
       "stream": "stdout",
       "text": [
        "2\n"
       ]
      },
      {
       "output_type": "stream",
       "stream": "stdout",
       "text": [
        " List traversal yields: 2 , 3 , 4 , \n",
        "Linked List...\n",
        "1.Insert\n",
        "2.Display\n",
        "3.Quit\n",
        "Enter Choice: "
       ]
      },
      {
       "name": "stdout",
       "output_type": "stream",
       "stream": "stdout",
       "text": [
        "3\n"
       ]
      },
      {
       "output_type": "stream",
       "stream": "stdout",
       "text": [
        "\n"
       ]
      }
     ],
     "prompt_number": 1
    },
    {
     "cell_type": "heading",
     "level": 2,
     "metadata": {},
     "source": [
      "Example-dll.cpp, Page no-462"
     ]
    },
    {
     "cell_type": "code",
     "collapsed": false,
     "input": [
      "class dll:\n",
      "    def __init__(self, data_in=None):\n",
      "        if isinstance(data_in, int):\n",
      "            self.__data=data_in\n",
      "        else:\n",
      "            self.__data=0\n",
      "        self.__prev=None\n",
      "        self.__Next=None\n",
      "    def __del__(self):\n",
      "        pass\n",
      "    def get(self):\n",
      "        return self.__data\n",
      "    def insert(self, node):\n",
      "        last=dll()\n",
      "        last=self\n",
      "        while(last._dll__Next!=None):\n",
      "            last=last._dll__Next\n",
      "        node._dll__prev=last\n",
      "        node._dll__Next=None\n",
      "        last._dll__Next=node\n",
      "    def FreeAllNodes(self):\n",
      "        print \"Freeing the node with data:\",\n",
      "        first=dll()\n",
      "        first=self\n",
      "        while(1):\n",
      "            temp= dll()\n",
      "            temp=first\n",
      "            print \"->\", first._dll__data,\n",
      "            del temp\n",
      "            first=first._dll__Next\n",
      "            if first==None:\n",
      "                break\n",
      "def display(first):\n",
      "    traverse=dll()\n",
      "    traverse=first\n",
      "    if first==None:\n",
      "        print \"Nothing to display !\"\n",
      "        return\n",
      "    else:\n",
      "        print \"Processing with forward -> pointer:\",\n",
      "        while(1):        \n",
      "            print \"->\", traverse._dll__data, \n",
      "            if traverse._dll__Next==None:\n",
      "                break\n",
      "            traverse=traverse._dll__Next\n",
      "        print \"\\nProcessing with backward <- pointer:\",\n",
      "        while(1):        \n",
      "            print \"->\", traverse._dll__data,\n",
      "            if traverse._dll__prev==None:\n",
      "                break\n",
      "            traverse=traverse._dll__prev\n",
      "        print \"\"\n",
      "def InsertNode(first, data):\n",
      "    node=dll(data)\n",
      "    if first==None:\n",
      "        first=node\n",
      "    else:\n",
      "        first.insert(node)\n",
      "    return first\n",
      "first=dll()\n",
      "first=None\n",
      "print \"Double Linked List Manipulation...\"\n",
      "while(1):\n",
      "    choice=int(raw_input(\"Enter Choice ([1] Insert, [2] Display, [3]Quit: \"))\n",
      "    if choice==1:\n",
      "        data=int(raw_input(\"Enter data: \"))\n",
      "        first=InsertNode(first, data)\n",
      "    elif choice==2:\n",
      "        display(first)\n",
      "    elif choice==3:\n",
      "        first.FreeAllNodes()\n",
      "        break\n",
      "    else:\n",
      "        print \"Bad Option Selected\""
     ],
     "language": "python",
     "metadata": {},
     "outputs": [
      {
       "output_type": "stream",
       "stream": "stdout",
       "text": [
        "Double Linked List Manipulation...\n"
       ]
      },
      {
       "name": "stdout",
       "output_type": "stream",
       "stream": "stdout",
       "text": [
        "Enter Choice ([1] Insert, [2] Display, [3]Quit: 1\n"
       ]
      },
      {
       "name": "stdout",
       "output_type": "stream",
       "stream": "stdout",
       "text": [
        "Enter data: 3\n"
       ]
      },
      {
       "name": "stdout",
       "output_type": "stream",
       "stream": "stdout",
       "text": [
        "Enter Choice ([1] Insert, [2] Display, [3]Quit: 2\n"
       ]
      },
      {
       "output_type": "stream",
       "stream": "stdout",
       "text": [
        "Processing with forward -> pointer: -> 3 \n",
        "Processing with backward <- pointer: -> 3 \n"
       ]
      },
      {
       "name": "stdout",
       "output_type": "stream",
       "stream": "stdout",
       "text": [
        "Enter Choice ([1] Insert, [2] Display, [3]Quit: 1\n"
       ]
      },
      {
       "name": "stdout",
       "output_type": "stream",
       "stream": "stdout",
       "text": [
        "Enter data: 7\n"
       ]
      },
      {
       "name": "stdout",
       "output_type": "stream",
       "stream": "stdout",
       "text": [
        "Enter Choice ([1] Insert, [2] Display, [3]Quit: 2\n"
       ]
      },
      {
       "output_type": "stream",
       "stream": "stdout",
       "text": [
        "Processing with forward -> pointer: -> 3 -> 7 \n",
        "Processing with backward <- pointer: -> 7 -> 3 \n"
       ]
      },
      {
       "name": "stdout",
       "output_type": "stream",
       "stream": "stdout",
       "text": [
        "Enter Choice ([1] Insert, [2] Display, [3]Quit: 1\n"
       ]
      },
      {
       "name": "stdout",
       "output_type": "stream",
       "stream": "stdout",
       "text": [
        "Enter data: 5\n"
       ]
      },
      {
       "name": "stdout",
       "output_type": "stream",
       "stream": "stdout",
       "text": [
        "Enter Choice ([1] Insert, [2] Display, [3]Quit: 2\n"
       ]
      },
      {
       "output_type": "stream",
       "stream": "stdout",
       "text": [
        "Processing with forward -> pointer: -> 3 -> 7 -> 5 \n",
        "Processing with backward <- pointer: -> 5 -> 7 -> 3 \n"
       ]
      },
      {
       "name": "stdout",
       "output_type": "stream",
       "stream": "stdout",
       "text": [
        "Enter Choice ([1] Insert, [2] Display, [3]Quit: 0\n"
       ]
      },
      {
       "output_type": "stream",
       "stream": "stdout",
       "text": [
        "Bad Option Selected\n"
       ]
      },
      {
       "name": "stdout",
       "output_type": "stream",
       "stream": "stdout",
       "text": [
        "Enter Choice ([1] Insert, [2] Display, [3]Quit: 3\n"
       ]
      },
      {
       "output_type": "stream",
       "stream": "stdout",
       "text": [
        "Freeing the node with data: -> 3 -> 7 -> 5\n"
       ]
      }
     ],
     "prompt_number": 1
    },
    {
     "cell_type": "heading",
     "level": 2,
     "metadata": {},
     "source": [
      "Example-1, Page no-466"
     ]
    },
    {
     "cell_type": "code",
     "collapsed": false,
     "input": [
      "class A:\n",
      "    __a1=int\n",
      "    def Set(self, val):\n",
      "        self.__a1=val\n",
      "class B:\n",
      "    __b1=int\n",
      "    def Set(self, val):\n",
      "        self.__b1=val\n",
      "def add(x, y):\n",
      "    return x._A__a1+y._B__b1\n",
      "ObjA=A()\n",
      "ObjB=B()\n",
      "ObjA.Set(9)\n",
      "ObjB.Set(10)\n",
      "print \"Sum of objects A and B using friend function =\", add(ObjA, ObjB)"
     ],
     "language": "python",
     "metadata": {},
     "outputs": [
      {
       "output_type": "stream",
       "stream": "stdout",
       "text": [
        "Sum of objects A and B using friend function = 19\n"
       ]
      }
     ],
     "prompt_number": 1
    },
    {
     "cell_type": "heading",
     "level": 2,
     "metadata": {},
     "source": [
      "Example-2, Page no-466"
     ]
    },
    {
     "cell_type": "code",
     "collapsed": false,
     "input": [
      "class test:\n",
      "    __data=int\n",
      "    def func(self, val):\n",
      "        self.__data=val\n",
      "t1=test()\n",
      "testptr={}\n",
      "testptr[0]=test.func #pointer to member function\n",
      "print \"Initializing test class object t1 using pointer...\"\n",
      "testptr[0](t1, 10)\n",
      "print \"Object initialized successfully\""
     ],
     "language": "python",
     "metadata": {},
     "outputs": [
      {
       "output_type": "stream",
       "stream": "stdout",
       "text": [
        "Initializing test class object t1 using pointer...\n",
        "Object initialized successfully\n"
       ]
      }
     ],
     "prompt_number": 1
    }
   ],
   "metadata": {}
  }
 ]
}