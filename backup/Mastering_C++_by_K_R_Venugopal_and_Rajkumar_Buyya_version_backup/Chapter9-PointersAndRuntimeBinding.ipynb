{
 "metadata": {
  "name": "",
  "signature": "sha256:de9763f2876edfb1bdd8ccce73ff66e5216f2e4ec3f157c8b54ef1f8d480abb5"
 },
 "nbformat": 3,
 "nbformat_minor": 0,
 "worksheets": [
  {
   "cells": [
    {
     "cell_type": "heading",
     "level": 1,
     "metadata": {},
     "source": [
      "Chapter 9- Pointers and Runtime Binding"
     ]
    },
    {
     "cell_type": "heading",
     "level": 2,
     "metadata": {},
     "source": [
      "Example-getaddr.cpp, Page no-293"
     ]
    },
    {
     "cell_type": "code",
     "collapsed": false,
     "input": [
      "from ctypes import *\n",
      "a=c_int(100)\n",
      "b=c_int(200)\n",
      "c=c_int(300)\n",
      "print 'Address', hex(id(pointer(a))), 'contains value', a.value #address of a pointer\n",
      "print 'Address', hex(id(pointer(b))), 'contains value', b.value\n",
      "print 'Address', hex(id(pointer(c))), 'contains value', c.value"
     ],
     "language": "python",
     "metadata": {},
     "outputs": [
      {
       "output_type": "stream",
       "stream": "stdout",
       "text": [
        "Address 0x3643348L contains value 100\n",
        "Address 0x36434c8L contains value 200\n",
        "Address 0x3643348L contains value 300\n"
       ]
      }
     ],
     "prompt_number": 1
    },
    {
     "cell_type": "heading",
     "level": 2,
     "metadata": {},
     "source": [
      "Example-initptr.cpp, Page no-296"
     ]
    },
    {
     "cell_type": "code",
     "collapsed": false,
     "input": [
      "from ctypes import *\n",
      "var1=c_int(10)\n",
      "var2=c_int(20)\n",
      "iptr=pointer(var1)\n",
      "print 'Address and contents of var1 is', hex(id(iptr)), 'and', iptr[0]\n",
      "iptr=pointer(var2)\n",
      "print 'Address and contents of var2 is', hex(id(iptr)), 'and', iptr[0]\n",
      "iptr[0]=125\n",
      "var1=iptr[0]*1"
     ],
     "language": "python",
     "metadata": {},
     "outputs": [
      {
       "output_type": "stream",
       "stream": "stdout",
       "text": [
        "Address and contents of var1 is 0x36434c8L and 10\n",
        "Address and contents of var2 is 0x3643648L and 20\n"
       ]
      }
     ],
     "prompt_number": 2
    },
    {
     "cell_type": "heading",
     "level": 2,
     "metadata": {},
     "source": [
      "Example-swap.cpp, Page no-298"
     ]
    },
    {
     "cell_type": "code",
     "collapsed": false,
     "input": [
      "from ctypes import *\n",
      "def swap(pa, pb):\n",
      "    temp=pa[0]\n",
      "    pa[0]=pb[0]\n",
      "    pb[0]=temp\n",
      "a=float(raw_input(\"Enter real number <a>: \"))\n",
      "b=float(raw_input(\"Enter real number <b>: \"))\n",
      "a=c_float(a)\n",
      "b=c_float(b)\n",
      "pa=pointer(a)\n",
      "pb=pointer(b)\n",
      "swap(pa, pb)\n",
      "print \"After swapping......\"\n",
      "print \"a contains %0.1f\" %(a.value)\n",
      "print \"b contains %0.1f\" %(b.value)"
     ],
     "language": "python",
     "metadata": {},
     "outputs": [
      {
       "name": "stdout",
       "output_type": "stream",
       "stream": "stdout",
       "text": [
        "Enter real number <a>: 10.5\n"
       ]
      },
      {
       "name": "stdout",
       "output_type": "stream",
       "stream": "stdout",
       "text": [
        "Enter real number <b>: 20.9\n"
       ]
      },
      {
       "output_type": "stream",
       "stream": "stdout",
       "text": [
        "After swapping......\n",
        "a contains 20.9\n",
        "b contains 10.5\n"
       ]
      }
     ],
     "prompt_number": 3
    },
    {
     "cell_type": "heading",
     "level": 2,
     "metadata": {},
     "source": [
      "Example-voidptr.cpp, Page no-300"
     ]
    },
    {
     "cell_type": "code",
     "collapsed": false,
     "input": [
      "from ctypes import *\n",
      "i1=c_int(100)\n",
      "f1=c_float(200.5)\n",
      "vptr=pointer(i1)\n",
      "print \"i1 contains\", vptr[0] #value stored in address pointed by vptr\n",
      "vptr=pointer(f1)\n",
      "print \"i1 contains\", vptr[0]"
     ],
     "language": "python",
     "metadata": {},
     "outputs": [
      {
       "output_type": "stream",
       "stream": "stdout",
       "text": [
        "i1 contains 100\n",
        "i1 contains 200.5\n"
       ]
      }
     ],
     "prompt_number": 4
    },
    {
     "cell_type": "heading",
     "level": 2,
     "metadata": {},
     "source": [
      "Example-ptrarr1.cpp, Page no-303"
     ]
    },
    {
     "cell_type": "code",
     "collapsed": false,
     "input": [
      "from ctypes import *\n",
      "a=[int]\n",
      "n=int(raw_input(\"Size of array? \"))\n",
      "print \"Array elements ?\"\n",
      "for i in range(n):\n",
      "    a.append(int(raw_input()))\n",
      "ptr=a\n",
      "small=ptr[1]\n",
      "for i in range(2, n+1):\n",
      "    if small>ptr[i]:\n",
      "        small=ptr[i]\n",
      "    i+=1 #pointer arithmetic\n",
      "print \"Smallest element is\", small"
     ],
     "language": "python",
     "metadata": {},
     "outputs": [
      {
       "name": "stdout",
       "output_type": "stream",
       "stream": "stdout",
       "text": [
        "Size of array? 5\n"
       ]
      },
      {
       "output_type": "stream",
       "stream": "stdout",
       "text": [
        "Array elements ?\n"
       ]
      },
      {
       "name": "stdout",
       "output_type": "stream",
       "stream": "stdout",
       "text": [
        "4\n"
       ]
      },
      {
       "name": "stdout",
       "output_type": "stream",
       "stream": "stdout",
       "text": [
        "2\n"
       ]
      },
      {
       "name": "stdout",
       "output_type": "stream",
       "stream": "stdout",
       "text": [
        "6\n"
       ]
      },
      {
       "name": "stdout",
       "output_type": "stream",
       "stream": "stdout",
       "text": [
        "1\n"
       ]
      },
      {
       "name": "stdout",
       "output_type": "stream",
       "stream": "stdout",
       "text": [
        "9\n"
       ]
      },
      {
       "output_type": "stream",
       "stream": "stdout",
       "text": [
        "Smallest element is 1\n"
       ]
      }
     ],
     "prompt_number": 5
    },
    {
     "cell_type": "heading",
     "level": 2,
     "metadata": {},
     "source": [
      "Example-newhand.cpp, Page no-305"
     ]
    },
    {
     "cell_type": "code",
     "collapsed": false,
     "input": [
      "size=int(raw_input(\"How many bytes to be allocated: \"))\n",
      "try:\n",
      "    data=[int]*size\n",
      "    print \"Memory allocation success, address =\", hex(id(data))\n",
      "except:\n",
      "    print \"Could not allocate. Bye...\"\n",
      "del data"
     ],
     "language": "python",
     "metadata": {},
     "outputs": [
      {
       "name": "stdout",
       "output_type": "stream",
       "stream": "stdout",
       "text": [
        "How many bytes to be allocated: 300\n"
       ]
      },
      {
       "output_type": "stream",
       "stream": "stdout",
       "text": [
        "Memory allocation success, address = 0x3716188L\n"
       ]
      }
     ],
     "prompt_number": 1
    },
    {
     "cell_type": "heading",
     "level": 2,
     "metadata": {},
     "source": [
      "Example-ptr2ptr.cpp, Page no-306"
     ]
    },
    {
     "cell_type": "code",
     "collapsed": false,
     "input": [
      "data=c_int()\n",
      "iptr=pointer(data)\n",
      "ptriptr=pointer(iptr) #pointer to a pointer\n",
      "iptr[0]=100\n",
      "print \"The variable 'data' contains\", data.value\n",
      "ptriptr[0][0]=200\n",
      "print \"The variable 'data' contains\", data.value\n",
      "data.value=300\n",
      "print \"ptriptr is pointing to\", ptriptr[0][0]"
     ],
     "language": "python",
     "metadata": {},
     "outputs": [
      {
       "output_type": "stream",
       "stream": "stdout",
       "text": [
        "The variable 'data' contains 100\n",
        "The variable 'data' contains 200\n",
        "ptriptr is pointing to 300\n"
       ]
      }
     ],
     "prompt_number": 6
    },
    {
     "cell_type": "heading",
     "level": 2,
     "metadata": {},
     "source": [
      "Example-big.cpp, Page no-308"
     ]
    },
    {
     "cell_type": "code",
     "collapsed": false,
     "input": [
      "from ctypes import *\n",
      "def FindBig(pa, pb, pbig):\n",
      "    if pa[0]>pb[0]:\n",
      "        pbig[0]=pa[0]\n",
      "    else:\n",
      "        pbig[0]=pb[0]\n",
      "    return pbig\n",
      "a=c_int()\n",
      "b=c_int()\n",
      "big=pointer(c_int())\n",
      "a, b=[int(x) for x in raw_input(\"Enter two integers: \").split()]\n",
      "pa=[a]#pointer to a\n",
      "pb=[b]#pointer to b\n",
      "big=FindBig(pa, pb, big)\n",
      "print \"The value as obtained from the pointer:\", big[0]"
     ],
     "language": "python",
     "metadata": {},
     "outputs": [
      {
       "name": "stdout",
       "output_type": "stream",
       "stream": "stdout",
       "text": [
        "Enter two integers: 10 20\n"
       ]
      },
      {
       "output_type": "stream",
       "stream": "stdout",
       "text": [
        "The value as obtained from the pointer: 20\n"
       ]
      }
     ],
     "prompt_number": 1
    },
    {
     "cell_type": "heading",
     "level": 2,
     "metadata": {},
     "source": [
      "Example-sortptr.cpp, Page no-309"
     ]
    },
    {
     "cell_type": "code",
     "collapsed": false,
     "input": [
      "from ctypes import *\n",
      "def SortByPtrExchange(person, n):\n",
      "    for i in range(n-1):\n",
      "        flag=1\n",
      "        for j in range(n-1-i):\n",
      "            if person[j]>person[j+1]:\n",
      "                flag=0\n",
      "                temp=person[j]\n",
      "                person[j]=person[j+1]\n",
      "                person[j+1]=temp\n",
      "        if flag:\n",
      "            break\n",
      "n=c_int(0)\n",
      "choice=c_char_p()\n",
      "person=[[c_char_p]*100]*40\n",
      "while(1):\n",
      "    person[n.value]=raw_input(\"Enter name: \")\n",
      "    n.value+=1\n",
      "    choice=raw_input(\"Enter another(y/n)? \")\n",
      "    if choice!='y':\n",
      "        break\n",
      "print \"Unsorted list: \"\n",
      "for i in range(n.value):\n",
      "    print person[i]\n",
      "SortByPtrExchange(person, n.value)\n",
      "print \"Sorted list: \"\n",
      "for i in range(n.value):\n",
      "    print person[i]\n",
      "for i in range(n.value):\n",
      "    del person[i]"
     ],
     "language": "python",
     "metadata": {},
     "outputs": [
      {
       "name": "stdout",
       "output_type": "stream",
       "stream": "stdout",
       "text": [
        "Enter name: Tejaswi\n"
       ]
      },
      {
       "name": "stdout",
       "output_type": "stream",
       "stream": "stdout",
       "text": [
        "Enter another(y/n)? y\n"
       ]
      },
      {
       "name": "stdout",
       "output_type": "stream",
       "stream": "stdout",
       "text": [
        "Enter name: Prasad\n"
       ]
      },
      {
       "name": "stdout",
       "output_type": "stream",
       "stream": "stdout",
       "text": [
        "Enter another(y/n)? y\n"
       ]
      },
      {
       "name": "stdout",
       "output_type": "stream",
       "stream": "stdout",
       "text": [
        "Enter name: Prakash\n"
       ]
      },
      {
       "name": "stdout",
       "output_type": "stream",
       "stream": "stdout",
       "text": [
        "Enter another(y/n)? y\n"
       ]
      },
      {
       "name": "stdout",
       "output_type": "stream",
       "stream": "stdout",
       "text": [
        "Enter name: Sudeep\n"
       ]
      },
      {
       "name": "stdout",
       "output_type": "stream",
       "stream": "stdout",
       "text": [
        "Enter another(y/n)? y\n"
       ]
      },
      {
       "name": "stdout",
       "output_type": "stream",
       "stream": "stdout",
       "text": [
        "Enter name: Anand\n"
       ]
      },
      {
       "name": "stdout",
       "output_type": "stream",
       "stream": "stdout",
       "text": [
        "Enter another(y/n)? n\n"
       ]
      },
      {
       "output_type": "stream",
       "stream": "stdout",
       "text": [
        "Unsorted list: \n",
        "Tejaswi\n",
        "Prasad\n",
        "Prakash\n",
        "Sudeep\n",
        "Anand\n",
        "Sorted list: \n",
        "Anand\n",
        "Prakash\n",
        "Prasad\n",
        "Sudeep\n",
        "Tejaswi\n"
       ]
      }
     ],
     "prompt_number": 1
    },
    {
     "cell_type": "heading",
     "level": 2,
     "metadata": {},
     "source": [
      "Example-show.cpp, Page no-311"
     ]
    },
    {
     "cell_type": "code",
     "collapsed": false,
     "input": [
      "def show(a, m):\n",
      "    c=a\n",
      "    for i in range(m):\n",
      "        for j in range(3):\n",
      "            print c[i][j],\n",
      "        print \"\"\n",
      "c=[(1, 2, 3), (4, 5, 6)] #initialization of a 2D array\n",
      "show(c, 2)"
     ],
     "language": "python",
     "metadata": {},
     "outputs": [
      {
       "output_type": "stream",
       "stream": "stdout",
       "text": [
        "1 2 3 \n",
        "4 5 6 \n"
       ]
      }
     ],
     "prompt_number": 2
    },
    {
     "cell_type": "heading",
     "level": 2,
     "metadata": {},
     "source": [
      "Example-matrix.cpp, Page no-313"
     ]
    },
    {
     "cell_type": "code",
     "collapsed": false,
     "input": [
      "def MatAlloc(row, col):\n",
      "    p=[[int]*col]*row #dynamic array\n",
      "    return p\n",
      "def MatRelease(p, row):\n",
      "    for i in range(row):\n",
      "        del p[i]\n",
      "    del p\n",
      "def MatRead(a, row, col):\n",
      "    for i in range(row):\n",
      "        for j in range(col):\n",
      "            print  \"Matrix[\", i, \",\", j, \"] = ? \",\n",
      "            a[i][j]=int(raw_input())\n",
      "def MatMul(a, m, n, b, p, q, c):\n",
      "    if n!=p:\n",
      "        print \"Error: Invalid matrix order for multiplication\"\n",
      "        return\n",
      "    for i in range(m):\n",
      "        for j in range(q):\n",
      "            c[i][j]=0\n",
      "            for k in range(n):\n",
      "                c[i][j]+=a[i][k]*b[k][j]\n",
      "def MatShow(a, row, col):\n",
      "    for i in range(row):\n",
      "        print \"\"\n",
      "        for j in range(col):\n",
      "            print a[i][j],\n",
      "print \"Enter Matrix A details...\"\n",
      "m=int(raw_input(\"How many rows ? \"))\n",
      "n=int(raw_input(\"How many columns ? \"))\n",
      "a=MatAlloc(m, n)\n",
      "MatRead(a, m, n)\n",
      "print \"Enter Matrix B details...\"\n",
      "p=int(raw_input(\"How many rows ? \"))\n",
      "q=int(raw_input(\"How many columns ? \"))\n",
      "b=MatAlloc(p, q)\n",
      "MatRead(b, p, q)\n",
      "c=MatAlloc(m, q)\n",
      "MatMul(a, m, n, b, p, q, c)\n",
      "print \"Matrix C = A * B ...\",\n",
      "MatShow(c, m, q)"
     ],
     "language": "python",
     "metadata": {},
     "outputs": [
      {
       "output_type": "stream",
       "stream": "stdout",
       "text": [
        " Enter Matrix A details...\n"
       ]
      },
      {
       "name": "stdout",
       "output_type": "stream",
       "stream": "stdout",
       "text": [
        "How many rows ? 3\n"
       ]
      },
      {
       "name": "stdout",
       "output_type": "stream",
       "stream": "stdout",
       "text": [
        "How many columns ? 2\n"
       ]
      },
      {
       "output_type": "stream",
       "stream": "stdout",
       "text": [
        "Matrix[ 0 , 0 ] = ? "
       ]
      },
      {
       "name": "stdout",
       "output_type": "stream",
       "stream": "stdout",
       "text": [
        "1\n"
       ]
      },
      {
       "output_type": "stream",
       "stream": "stdout",
       "text": [
        " Matrix[ 0 , 1 ] = ? "
       ]
      },
      {
       "name": "stdout",
       "output_type": "stream",
       "stream": "stdout",
       "text": [
        "1\n"
       ]
      },
      {
       "output_type": "stream",
       "stream": "stdout",
       "text": [
        " Matrix[ 1 , 0 ] = ? "
       ]
      },
      {
       "name": "stdout",
       "output_type": "stream",
       "stream": "stdout",
       "text": [
        "1\n"
       ]
      },
      {
       "output_type": "stream",
       "stream": "stdout",
       "text": [
        " Matrix[ 1 , 1 ] = ? "
       ]
      },
      {
       "name": "stdout",
       "output_type": "stream",
       "stream": "stdout",
       "text": [
        "1\n"
       ]
      },
      {
       "output_type": "stream",
       "stream": "stdout",
       "text": [
        " Matrix[ 2 , 0 ] = ? "
       ]
      },
      {
       "name": "stdout",
       "output_type": "stream",
       "stream": "stdout",
       "text": [
        "1\n"
       ]
      },
      {
       "output_type": "stream",
       "stream": "stdout",
       "text": [
        " Matrix[ 2 , 1 ] = ? "
       ]
      },
      {
       "name": "stdout",
       "output_type": "stream",
       "stream": "stdout",
       "text": [
        "1\n"
       ]
      },
      {
       "output_type": "stream",
       "stream": "stdout",
       "text": [
        " Enter Matrix B details...\n"
       ]
      },
      {
       "name": "stdout",
       "output_type": "stream",
       "stream": "stdout",
       "text": [
        "How many rows ? 2\n"
       ]
      },
      {
       "name": "stdout",
       "output_type": "stream",
       "stream": "stdout",
       "text": [
        "How many columns ? 3\n"
       ]
      },
      {
       "output_type": "stream",
       "stream": "stdout",
       "text": [
        "Matrix[ 0 , 0 ] = ? "
       ]
      },
      {
       "name": "stdout",
       "output_type": "stream",
       "stream": "stdout",
       "text": [
        "1\n"
       ]
      },
      {
       "output_type": "stream",
       "stream": "stdout",
       "text": [
        " Matrix[ 0 , 1 ] = ? "
       ]
      },
      {
       "name": "stdout",
       "output_type": "stream",
       "stream": "stdout",
       "text": [
        "1\n"
       ]
      },
      {
       "output_type": "stream",
       "stream": "stdout",
       "text": [
        " Matrix[ 0 , 2 ] = ? "
       ]
      },
      {
       "name": "stdout",
       "output_type": "stream",
       "stream": "stdout",
       "text": [
        "1\n"
       ]
      },
      {
       "output_type": "stream",
       "stream": "stdout",
       "text": [
        " Matrix[ 1 , 0 ] = ? "
       ]
      },
      {
       "name": "stdout",
       "output_type": "stream",
       "stream": "stdout",
       "text": [
        "1\n"
       ]
      },
      {
       "output_type": "stream",
       "stream": "stdout",
       "text": [
        " Matrix[ 1 , 1 ] = ? "
       ]
      },
      {
       "name": "stdout",
       "output_type": "stream",
       "stream": "stdout",
       "text": [
        "1\n"
       ]
      },
      {
       "output_type": "stream",
       "stream": "stdout",
       "text": [
        " Matrix[ 1 , 2 ] = ? "
       ]
      },
      {
       "name": "stdout",
       "output_type": "stream",
       "stream": "stdout",
       "text": [
        "1\n"
       ]
      },
      {
       "output_type": "stream",
       "stream": "stdout",
       "text": [
        " Matrix C = A * B ... \n",
        "2 2 2 \n",
        "2 2 2 \n",
        "2 2 2\n"
       ]
      }
     ],
     "prompt_number": 5
    },
    {
     "cell_type": "heading",
     "level": 2,
     "metadata": {},
     "source": [
      "Example-3ptr.cpp, Page no-315"
     ]
    },
    {
     "cell_type": "code",
     "collapsed": false,
     "input": [
      "arr=[((2, 1), (3, 6), (5, 3)), ((0, 9), (2, 3), (5, 8))]\n",
      "print hex(id(arr))\n",
      "print hex(id(arr[0]))\n",
      "print hex(id(arr[0][0]))\n",
      "print arr[0][0][0]\n",
      "print hex(id(arr))\n",
      "print hex(id(arr[0]))\n",
      "print hex(id(arr[0][1]))\n",
      "print arr[0][0][0]+1\n",
      "for i in range(2):\n",
      "    for j in range(3):\n",
      "        for k in range(2):\n",
      "            print \"arr[\",i,\"][\", j, \"][\", k, \"] = \", arr[i][j][k]"
     ],
     "language": "python",
     "metadata": {},
     "outputs": [
      {
       "output_type": "stream",
       "stream": "stdout",
       "text": [
        "0x3729e88L\n",
        "0x3652ab0L\n",
        "0x364e388L\n",
        "2\n",
        "0x3729e88L\n",
        "0x3652ab0L\n",
        "0x364e6c8L\n",
        "3\n",
        "arr[ 0 ][ 0 ][ 0 ] =  2\n",
        "arr[ 0 ][ 0 ][ 1 ] =  1\n",
        "arr[ 0 ][ 1 ][ 0 ] =  3\n",
        "arr[ 0 ][ 1 ][ 1 ] =  6\n",
        "arr[ 0 ][ 2 ][ 0 ] =  5\n",
        "arr[ 0 ][ 2 ][ 1 ] =  3\n",
        "arr[ 1 ][ 0 ][ 0 ] =  0\n",
        "arr[ 1 ][ 0 ][ 1 ] =  9\n",
        "arr[ 1 ][ 1 ][ 0 ] =  2\n",
        "arr[ 1 ][ 1 ][ 1 ] =  3\n",
        "arr[ 1 ][ 2 ][ 0 ] =  5\n",
        "arr[ 1 ][ 2 ][ 1 ] =  8\n"
       ]
      }
     ],
     "prompt_number": 2
    },
    {
     "cell_type": "heading",
     "level": 2,
     "metadata": {},
     "source": [
      "Example-ptrinc.cpp, Page no-317"
     ]
    },
    {
     "cell_type": "code",
     "collapsed": false,
     "input": [
      "ia=[2, 5, 9]\n",
      "ptr=ia\n",
      "for i in range(3):\n",
      "    print ptr[i], \n",
      "    i+=1"
     ],
     "language": "python",
     "metadata": {},
     "outputs": [
      {
       "output_type": "stream",
       "stream": "stdout",
       "text": [
        "2 5 9\n"
       ]
      }
     ],
     "prompt_number": 3
    },
    {
     "cell_type": "heading",
     "level": 2,
     "metadata": {},
     "source": [
      "Example-strfunc.cpp, Page no-318"
     ]
    },
    {
     "cell_type": "code",
     "collapsed": false,
     "input": [
      "temp=raw_input(\"Enter string1: \")\n",
      "s1=temp\n",
      "temp=raw_input(\"Enter string2: \")\n",
      "s2=temp\n",
      "print \"Length of string1:\", len(s1) #string length\n",
      "s3=s1+s2 #string concatenation\n",
      "print \"Strings' on concatenation:\", s3\n",
      "print \"String comparison using...\"\n",
      "print \"Library function:\", s1>s2 # - operator is not supppoertd with string operands in python\n",
      "print \"User's function:\", s1>s2# - operator is not supppoertd with string operands in python"
     ],
     "language": "python",
     "metadata": {},
     "outputs": [
      {
       "name": "stdout",
       "output_type": "stream",
       "stream": "stdout",
       "text": [
        "Enter string1: Object\n"
       ]
      },
      {
       "name": "stdout",
       "output_type": "stream",
       "stream": "stdout",
       "text": [
        "Enter string2: Oriented\n"
       ]
      },
      {
       "output_type": "stream",
       "stream": "stdout",
       "text": [
        " Length of string1: 6\n",
        "Strings' on concatenation: ObjectOriented\n",
        "String comparison using...\n",
        "Library function: False\n",
        "User's function: False\n"
       ]
      }
     ],
     "prompt_number": 2
    },
    {
     "cell_type": "heading",
     "level": 2,
     "metadata": {},
     "source": [
      "Example-rfact.cpp, Page no-322"
     ]
    },
    {
     "cell_type": "code",
     "collapsed": false,
     "input": [
      "from ctypes import *\n",
      "def fact(num):\n",
      "    if num==0:\n",
      "        return 1\n",
      "    else:\n",
      "        return num*fact(num-1)\n",
      "ptrfact={}\n",
      "ptrfact[0]=fact #function pointer\n",
      "n=int(raw_input(\"Enter the number whose factorial is to be found: \"))\n",
      "f1=ptrfact[0](n)\n",
      "print \"The factorial of\", n, \"is\", f1\n",
      "print \"The factorial of\", n+1, \"is\", ptrfact[0](n+1)"
     ],
     "language": "python",
     "metadata": {},
     "outputs": [
      {
       "name": "stdout",
       "output_type": "stream",
       "stream": "stdout",
       "text": [
        "Enter the number whose factorial is to be found: 5\n"
       ]
      },
      {
       "output_type": "stream",
       "stream": "stdout",
       "text": [
        "The factorial of 5 is 120\n",
        "The factorial of 6 is 720\n"
       ]
      }
     ],
     "prompt_number": 1
    },
    {
     "cell_type": "heading",
     "level": 2,
     "metadata": {},
     "source": [
      "Example-rmain.cpp, Page no-323"
     ]
    },
    {
     "cell_type": "code",
     "collapsed": false,
     "input": [
      "#this program will print hello infinite number of times\n",
      "def main():\n",
      "    p={}\n",
      "    print \"Hello...\",\n",
      "    p[0]=main #function pointer to main()\n",
      "    p[0]()\n",
      "main()"
     ],
     "language": "python",
     "metadata": {},
     "outputs": [],
     "prompt_number": 1
    },
    {
     "cell_type": "heading",
     "level": 2,
     "metadata": {},
     "source": [
      "Example-passfn.cpp, Page no-324"
     ]
    },
    {
     "cell_type": "code",
     "collapsed": false,
     "input": [
      "def small(a, b):\n",
      "    return a if a<b else b\n",
      "def large(a, b):\n",
      "    return a if a>b else b\n",
      "def select(fn, x, y):\n",
      "    value=fn(x, y)\n",
      "    return value\n",
      "ptrf={}\n",
      "m, n=[int(x) for x in raw_input(\"Enter two integers: \").split()]\n",
      "high=select(large, m, n) #function as parameter\n",
      "ptrf[0]=small #function pointer\n",
      "low=select(ptrf[0], m, n) #pointer to function as parameter\n",
      "print \"Large =\", high\n",
      "print \"Small =\", low"
     ],
     "language": "python",
     "metadata": {},
     "outputs": [
      {
       "name": "stdout",
       "output_type": "stream",
       "stream": "stdout",
       "text": [
        "Enter two integers: 10 20\n"
       ]
      },
      {
       "output_type": "stream",
       "stream": "stdout",
       "text": [
        "Large = 20\n",
        "Small = 10\n"
       ]
      }
     ],
     "prompt_number": 1
    },
    {
     "cell_type": "heading",
     "level": 2,
     "metadata": {},
     "source": [
      "Example-bdate.cpp, Page no-326"
     ]
    },
    {
     "cell_type": "code",
     "collapsed": false,
     "input": [
      "from ctypes import *\n",
      "class date(Structure):\n",
      "    _fields_=[('data', c_int), ('month', c_int), ('year', c_int)]\n",
      "    def show(self):\n",
      "        print '%s-%s-%s' %(self.day, self.month, self.year)\n",
      "def read(dp):\n",
      "    dp.day=int(raw_input(\"Enter day: \"))\n",
      "    dp.month=int(raw_input(\"Enter month: \"))\n",
      "    dp.year=int(raw_input(\"Enter year: \"))\n",
      "d1=date()\n",
      "dp1=POINTER(date)\n",
      "dp2=POINTER(date)\n",
      "print \"Enter birthday of boy...\"\n",
      "read(d1)\n",
      "dp2=date()\n",
      "print \"Enter birthday of girl...\"\n",
      "read(dp2)\n",
      "print \"Birth date of boy:\",\n",
      "dp1=d1\n",
      "dp1.show()\n",
      "print \"Birth date of girl:\",\n",
      "dp2.show()"
     ],
     "language": "python",
     "metadata": {},
     "outputs": [
      {
       "output_type": "stream",
       "stream": "stdout",
       "text": [
        "Enter birthday of boy...\n"
       ]
      },
      {
       "name": "stdout",
       "output_type": "stream",
       "stream": "stdout",
       "text": [
        "Enter day: 14\n"
       ]
      },
      {
       "name": "stdout",
       "output_type": "stream",
       "stream": "stdout",
       "text": [
        "Enter month: 4\n"
       ]
      },
      {
       "name": "stdout",
       "output_type": "stream",
       "stream": "stdout",
       "text": [
        "Enter year: 71\n"
       ]
      },
      {
       "output_type": "stream",
       "stream": "stdout",
       "text": [
        "Enter birthday of girl...\n"
       ]
      },
      {
       "name": "stdout",
       "output_type": "stream",
       "stream": "stdout",
       "text": [
        "Enter day: 1\n"
       ]
      },
      {
       "name": "stdout",
       "output_type": "stream",
       "stream": "stdout",
       "text": [
        "Enter month: 4\n"
       ]
      },
      {
       "name": "stdout",
       "output_type": "stream",
       "stream": "stdout",
       "text": [
        "Enter year: 72\n"
       ]
      },
      {
       "output_type": "stream",
       "stream": "stdout",
       "text": [
        "Birth date of boy: 14-4-71\n",
        "Birth date of girl: 1-4-72\n"
       ]
      }
     ],
     "prompt_number": 1
    },
    {
     "cell_type": "heading",
     "level": 2,
     "metadata": {},
     "source": [
      "Eample-list.cpp, Page no-329"
     ]
    },
    {
     "cell_type": "code",
     "collapsed": false,
     "input": [
      "from ctypes import *\n",
      "class LIST(Structure):\n",
      "    data=int\n",
      "    Next=None\n",
      "def InsertNode(data, first):\n",
      "    newnode=LIST()\n",
      "    newnode.data=data\n",
      "    newnode.Next=first\n",
      "    return newnode\n",
      "def DeleteNode(data, first):\n",
      "    current=LIST()\n",
      "    pred=LIST()\n",
      "    if first==None:\n",
      "        print \"Empty list\"\n",
      "        return first\n",
      "    pred=current=first\n",
      "    while(1):\n",
      "        if current.data==data:\n",
      "            if current==first:\n",
      "                first=current.Next\n",
      "                current=current.Next\n",
      "            else:\n",
      "                pred.Next=current.Next\n",
      "                current=current.Next\n",
      "            del current\n",
      "            return first\n",
      "        current=current.Next\n",
      "    return first\n",
      "def DisplayList(first):\n",
      "    List=LIST()\n",
      "    List=first\n",
      "    while(1):        \n",
      "        print \"->\", List.data,\n",
      "        if List.Next==None:\n",
      "            break\n",
      "        List=List.Next\n",
      "    print \"\"\n",
      "List=LIST()\n",
      "List=None\n",
      "print \"Linked-list manipulation program...\"\n",
      "while(1):\n",
      "    choice=int(raw_input(\"List operation, 1- Insert, 2- Display, 3-Delete, 4-Quit: \"))\n",
      "    if choice==1:\n",
      "        data=int(raw_input(\"Enter data for node to be created: \"))\n",
      "        List=InsertNode(data, List)\n",
      "    elif choice==2:\n",
      "        print \"List Contents:\",\n",
      "        DisplayList(List)\n",
      "    elif choice==3:\n",
      "        data=int(raw_input(\"Enter data for node to be delete: \"))\n",
      "        List=DeleteNode(data, List)\n",
      "    elif choice==4:\n",
      "        print \"End of Linked List Computation !!.\"\n",
      "        break\n",
      "    else:\n",
      "        print \"Bad Option Selected\""
     ],
     "language": "python",
     "metadata": {},
     "outputs": [
      {
       "output_type": "stream",
       "stream": "stdout",
       "text": [
        "Linked-list manipulation program...\n"
       ]
      },
      {
       "name": "stdout",
       "output_type": "stream",
       "stream": "stdout",
       "text": [
        "List operation, 1- Insert, 2- Display, 3-Delete, 4-Quit: 1\n"
       ]
      },
      {
       "name": "stdout",
       "output_type": "stream",
       "stream": "stdout",
       "text": [
        "Enter data for node to be created: 5\n"
       ]
      },
      {
       "name": "stdout",
       "output_type": "stream",
       "stream": "stdout",
       "text": [
        "List operation, 1- Insert, 2- Display, 3-Delete, 4-Quit: 1\n"
       ]
      },
      {
       "name": "stdout",
       "output_type": "stream",
       "stream": "stdout",
       "text": [
        "Enter data for node to be created: 7\n"
       ]
      },
      {
       "name": "stdout",
       "output_type": "stream",
       "stream": "stdout",
       "text": [
        "List operation, 1- Insert, 2- Display, 3-Delete, 4-Quit: 1\n"
       ]
      },
      {
       "name": "stdout",
       "output_type": "stream",
       "stream": "stdout",
       "text": [
        "Enter data for node to be created: 3\n"
       ]
      },
      {
       "name": "stdout",
       "output_type": "stream",
       "stream": "stdout",
       "text": [
        "List operation, 1- Insert, 2- Display, 3-Delete, 4-Quit: 2\n"
       ]
      },
      {
       "output_type": "stream",
       "stream": "stdout",
       "text": [
        "List Contents: -> 3 -> 7 -> 5 \n"
       ]
      },
      {
       "name": "stdout",
       "output_type": "stream",
       "stream": "stdout",
       "text": [
        "List operation, 1- Insert, 2- Display, 3-Delete, 4-Quit: 3\n"
       ]
      },
      {
       "name": "stdout",
       "output_type": "stream",
       "stream": "stdout",
       "text": [
        "Enter data for node to be delete: 7\n"
       ]
      },
      {
       "name": "stdout",
       "output_type": "stream",
       "stream": "stdout",
       "text": [
        "List operation, 1- Insert, 2- Display, 3-Delete, 4-Quit: 2\n"
       ]
      },
      {
       "output_type": "stream",
       "stream": "stdout",
       "text": [
        "List Contents: -> 3 -> 5 \n"
       ]
      },
      {
       "name": "stdout",
       "output_type": "stream",
       "stream": "stdout",
       "text": [
        "List operation, 1- Insert, 2- Display, 3-Delete, 4-Quit: 4\n"
       ]
      },
      {
       "output_type": "stream",
       "stream": "stdout",
       "text": [
        "End of Linked List Computation !!.\n"
       ]
      }
     ],
     "prompt_number": 1
    },
    {
     "cell_type": "heading",
     "level": 2,
     "metadata": {},
     "source": [
      "Example-wild1.cpp, Page no-332"
     ]
    },
    {
     "cell_type": "code",
     "collapsed": false,
     "input": [
      "p=[int]*10 #uninitialized integer pointer\n",
      "for i in range(10):\n",
      "    print p[i],"
     ],
     "language": "python",
     "metadata": {},
     "outputs": [
      {
       "output_type": "stream",
       "stream": "stdout",
       "text": [
        "<type 'int'> <type 'int'> <type 'int'> <type 'int'> <type 'int'> <type 'int'> <type 'int'> <type 'int'> <type 'int'> <type 'int'>\n"
       ]
      }
     ],
     "prompt_number": 1
    },
    {
     "cell_type": "heading",
     "level": 2,
     "metadata": {},
     "source": [
      "Example-wild2.cpp, Page no-332"
     ]
    },
    {
     "cell_type": "code",
     "collapsed": false,
     "input": [
      "name=\"Savithri\"\n",
      "print name"
     ],
     "language": "python",
     "metadata": {},
     "outputs": [
      {
       "output_type": "stream",
       "stream": "stdout",
       "text": [
        "Savithri\n"
       ]
      }
     ],
     "prompt_number": 1
    },
    {
     "cell_type": "heading",
     "level": 2,
     "metadata": {},
     "source": [
      "Example-wild3.cpp, Page no-333"
     ]
    },
    {
     "cell_type": "code",
     "collapsed": false,
     "input": [
      "def nameplease():\n",
      "    name=\"Savithri\"\n",
      "    return name\n",
      "def charplease():\n",
      "    ch='X'\n",
      "    return ch\n",
      "p1=nameplease()\n",
      "p2=charplease()\n",
      "print \"Name =\", p1\n",
      "print \"Char =\", p2"
     ],
     "language": "python",
     "metadata": {},
     "outputs": [
      {
       "output_type": "stream",
       "stream": "stdout",
       "text": [
        "Name = Savithri\n",
        "Char = X\n"
       ]
      }
     ],
     "prompt_number": 1
    },
    {
     "cell_type": "heading",
     "level": 2,
     "metadata": {},
     "source": [
      "Example-wild4.cpp, Page no-334"
     ]
    },
    {
     "cell_type": "code",
     "collapsed": false,
     "input": [
      "p1=str\n",
      "def temp():\n",
      "    name=\"Savithri\"\n",
      "    global p1\n",
      "    p1=name\n",
      "temp()\n",
      "print \"Name =\", p1"
     ],
     "language": "python",
     "metadata": {},
     "outputs": [
      {
       "output_type": "stream",
       "stream": "stdout",
       "text": [
        "Name = Savithri\n"
       ]
      }
     ],
     "prompt_number": 1
    },
    {
     "cell_type": "heading",
     "level": 2,
     "metadata": {},
     "source": [
      "Example-1, Page no-335"
     ]
    },
    {
     "cell_type": "code",
     "collapsed": false,
     "input": [
      "Str=\"Programming\"\n",
      "count=0\n",
      "str_ptr=Str[0]\n",
      "while(count+1<len(Str)):\n",
      "    count+=1\n",
      "    str_ptr=Str[count]\n",
      "count+=1\n",
      "print \"Number of characters in the word Programming =\", count"
     ],
     "language": "python",
     "metadata": {},
     "outputs": [
      {
       "output_type": "stream",
       "stream": "stdout",
       "text": [
        "Number of characters in the word Programming = 11\n"
       ]
      }
     ],
     "prompt_number": 1
    },
    {
     "cell_type": "heading",
     "level": 2,
     "metadata": {},
     "source": [
      "Example-2, Page no-335"
     ]
    },
    {
     "cell_type": "code",
     "collapsed": false,
     "input": [
      "def sort(x):\n",
      "    for k in range(SIZE-1):\n",
      "        i=0\n",
      "        while i<=(SIZE-k-2):\n",
      "            if x[i]>x[i+1]:\n",
      "                x[i], x[i+1]=x[i+1], x[i]\n",
      "            i+=1\n",
      "    return x\n",
      "SIZE=10\n",
      "a=[4,59,84,35,9,17,41,19,2,21]\n",
      "ptr=a\n",
      "temp=ptr\n",
      "print \"Given array elements:\"\n",
      "for i in range(SIZE):\n",
      "    print temp[i],\n",
      "ptr=sort(ptr)\n",
      "temp=ptr\n",
      "print \"\\nSorted array elemnets:\"\n",
      "for i in range(SIZE):\n",
      "    print temp[i],"
     ],
     "language": "python",
     "metadata": {},
     "outputs": [
      {
       "output_type": "stream",
       "stream": "stdout",
       "text": [
        "Given array elements:\n",
        "4 59 84 35 9 17 41 19 2 21 \n",
        "Sorted array elemnets:\n",
        "2 4 9 17 19 21 35 41 59 84\n"
       ]
      }
     ],
     "prompt_number": 1
    }
   ],
   "metadata": {}
  }
 ]
}