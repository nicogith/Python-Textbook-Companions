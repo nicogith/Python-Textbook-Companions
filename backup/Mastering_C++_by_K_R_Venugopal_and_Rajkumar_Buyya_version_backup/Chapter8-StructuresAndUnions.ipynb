{
 "metadata": {
  "name": "",
  "signature": "sha256:f7e7015d0709344fbfb1dd6045265378d35165eecd34afefa9304b97a8f3cb07"
 },
 "nbformat": 3,
 "nbformat_minor": 0,
 "worksheets": [
  {
   "cells": [
    {
     "cell_type": "heading",
     "level": 1,
     "metadata": {},
     "source": [
      "Chapter 8-Structures and Unions"
     ]
    },
    {
     "cell_type": "heading",
     "level": 2,
     "metadata": {},
     "source": [
      "Example-student1.cpp, Page no-260"
     ]
    },
    {
     "cell_type": "code",
     "collapsed": false,
     "input": [
      "from ctypes import *\n",
      "class Student(Structure): #structure\n",
      "    roll_no =int\n",
      "    name =str\n",
      "    branch =str\n",
      "    marks=int\n",
      "s1=Student() #object of struct student\n",
      "print \"Enter data for student...\"\n",
      "s1.roll_no=int(raw_input(\"Roll Number ? \"))\n",
      "s1.name=raw_input(\"Name ? \")\n",
      "s1.branch=raw_input(\"Branch ? \")\n",
      "s1.marks=int(raw_input(\"Total Marks <max-325> ? \"))\n",
      "print \"Student Report\"\n",
      "print \"--------------\"\n",
      "print \"Roll Number:\", s1.roll_no\n",
      "print \"Name:\", s1.name\n",
      "print \"Branch:\", s1.branch\n",
      "print \"Percentage:%f\" %(s1.marks*(100.0/325))"
     ],
     "language": "python",
     "metadata": {},
     "outputs": [
      {
       "output_type": "stream",
       "stream": "stdout",
       "text": [
        "Enter data for student...\n"
       ]
      },
      {
       "name": "stdout",
       "output_type": "stream",
       "stream": "stdout",
       "text": [
        "Roll Number ? 5\n"
       ]
      },
      {
       "name": "stdout",
       "output_type": "stream",
       "stream": "stdout",
       "text": [
        "Name ? Mangala\n"
       ]
      },
      {
       "name": "stdout",
       "output_type": "stream",
       "stream": "stdout",
       "text": [
        "Branch ? Computer\n"
       ]
      },
      {
       "name": "stdout",
       "output_type": "stream",
       "stream": "stdout",
       "text": [
        "Total Marks <max-325> ? 290\n"
       ]
      },
      {
       "output_type": "stream",
       "stream": "stdout",
       "text": [
        "Student Report\n",
        "--------------\n",
        "Roll Number: 5\n",
        "Name: Mangala\n",
        "Branch: Computer\n",
        "Percentage:89.230769\n"
       ]
      }
     ],
     "prompt_number": 2
    },
    {
     "cell_type": "heading",
     "level": 2,
     "metadata": {},
     "source": [
      "Example-days.cpp, Page no-262"
     ]
    },
    {
     "cell_type": "code",
     "collapsed": false,
     "input": [
      "from ctypes import *\n",
      "class date(Structure):\n",
      "    _fields_=[(\"day\", c_int),(\"month\", c_int),(\"year\",c_int)]\n",
      "d1=date(14, 4, 1971)\n",
      "d2=date(3, 7, 1996)\n",
      "print \"Birth date:\",\n",
      "print \"%s-%s-%s\" %(d1.day, d1.month, d1.year)\n",
      "print \"Today date:\",\n",
      "print \"%s-%s-%s\" %(d2.day, d2.month, d2.year)"
     ],
     "language": "python",
     "metadata": {},
     "outputs": [
      {
       "output_type": "stream",
       "stream": "stdout",
       "text": [
        "Birth date: 14-4-1971\n",
        "Today date: 3-7-1996\n"
       ]
      }
     ],
     "prompt_number": 3
    },
    {
     "cell_type": "heading",
     "level": 2,
     "metadata": {},
     "source": [
      "Example-student2.cpp, Page no-264"
     ]
    },
    {
     "cell_type": "code",
     "collapsed": false,
     "input": [
      "from ctypes import *\n",
      "class date(Structure):\n",
      "    _fields_=[(\"day\", c_int),(\"month\", c_int),(\"year\",c_int)]\n",
      "class Student(Structure):\n",
      "    _fields_=[(\"roll_no\", c_int), (\"name\", c_char*25), (\"birthday\", date), (\"branch\", c_char*15),(\"marks\", c_int)]#nested structure\n",
      "s1=Student()\n",
      "print \"Enter data for student...\"\n",
      "s1.roll_no=int(raw_input(\"Roll Number ? \"))\n",
      "s1.name=raw_input(\"Name ? \")\n",
      "birthday=date(0, 0, 0)\n",
      "print \"Enter date of birth <day month year>: \",\n",
      "d, m, y=[int(x) for x in raw_input().split()]\n",
      "birthday.day=d\n",
      "birthday.month=m\n",
      "birthday.year=y\n",
      "s1.birthday=birthday\n",
      "s1.branch=raw_input(\"Branch ? \")\n",
      "s1.marks=int(raw_input(\"Total Marks <max-325> ? \"))\n",
      "print \"Student Report\"\n",
      "print \"--------------\"\n",
      "print \"Roll Number:\", s1.roll_no\n",
      "print \"Name:\", s1.name\n",
      "print \"%s-%s-%s\" %(s1.birthday.day, s1.birthday.month, s1.birthday.year)\n",
      "print \"Branch:\", s1.branch\n",
      "print \"Percentage:%f\" %(s1.marks*(100.0/325))"
     ],
     "language": "python",
     "metadata": {},
     "outputs": [
      {
       "output_type": "stream",
       "stream": "stdout",
       "text": [
        "Enter data for student...\n"
       ]
      },
      {
       "name": "stdout",
       "output_type": "stream",
       "stream": "stdout",
       "text": [
        "Roll Number ? 9\n"
       ]
      },
      {
       "name": "stdout",
       "output_type": "stream",
       "stream": "stdout",
       "text": [
        "Name ? Savithri\n"
       ]
      },
      {
       "output_type": "stream",
       "stream": "stdout",
       "text": [
        "Enter date of birth <day month year>: "
       ]
      },
      {
       "name": "stdout",
       "output_type": "stream",
       "stream": "stdout",
       "text": [
        "2 2 1972\n"
       ]
      },
      {
       "name": "stdout",
       "output_type": "stream",
       "stream": "stdout",
       "text": [
        "Branch ? Electrical\n"
       ]
      },
      {
       "name": "stdout",
       "output_type": "stream",
       "stream": "stdout",
       "text": [
        "Total Marks <max-325> ? 295\n"
       ]
      },
      {
       "output_type": "stream",
       "stream": "stdout",
       "text": [
        " Student Report\n",
        "--------------\n",
        "Roll Number: 9\n",
        "Name: Savithri\n",
        "2-2-1972\n",
        "Branch: Electrical\n",
        "Percentage:90.769231\n"
       ]
      }
     ],
     "prompt_number": 5
    },
    {
     "cell_type": "heading",
     "level": 2,
     "metadata": {},
     "source": [
      "Example-student3.cpp, Page no-267"
     ]
    },
    {
     "cell_type": "code",
     "collapsed": false,
     "input": [
      "from ctypes import *\n",
      "class Student(Structure):\n",
      "    _fields_=[(\"roll_no\", c_int), (\"name\", c_char*25), (\"branch\", c_char*15),(\"marks\", c_int)]\n",
      "s=[]\n",
      "n=int(raw_input(\"How many students to be processed <max-10>: \"))\n",
      "for i in range(n):\n",
      "    print \"Enter data for student\", i+1, \"...\"\n",
      "    r=int(raw_input(\"Roll Number ? \"))\n",
      "    name=raw_input(\"Name ? \")\n",
      "    b=raw_input(\"Branch ? \")\n",
      "    m=int(raw_input(\"Total marks <max-325> ? \"))\n",
      "    s.append(Student(r, name, b, m)) #array of structure objects\n",
      "print \"Students Report\"\n",
      "print \"--------------\"\n",
      "for i in range(n):\n",
      "    print \"Roll Number:\", s[i].roll_no\n",
      "    print \"Name:\", s[i].name\n",
      "    print \"Branch:\", s[i].branch\n",
      "    print \"Percentage: %f\" %(s[i].marks*(100.0/325))"
     ],
     "language": "python",
     "metadata": {},
     "outputs": [
      {
       "name": "stdout",
       "output_type": "stream",
       "stream": "stdout",
       "text": [
        "How many students to be processed <max-10>: 2\n"
       ]
      },
      {
       "output_type": "stream",
       "stream": "stdout",
       "text": [
        "Enter data for student 1 ...\n"
       ]
      },
      {
       "name": "stdout",
       "output_type": "stream",
       "stream": "stdout",
       "text": [
        "Roll Number ? 5\n"
       ]
      },
      {
       "name": "stdout",
       "output_type": "stream",
       "stream": "stdout",
       "text": [
        "Name ? Mangala\n"
       ]
      },
      {
       "name": "stdout",
       "output_type": "stream",
       "stream": "stdout",
       "text": [
        "Branch ? Computer\n"
       ]
      },
      {
       "name": "stdout",
       "output_type": "stream",
       "stream": "stdout",
       "text": [
        "Total marks <max-325> ? 290\n"
       ]
      },
      {
       "output_type": "stream",
       "stream": "stdout",
       "text": [
        "Enter data for student 2 ...\n"
       ]
      },
      {
       "name": "stdout",
       "output_type": "stream",
       "stream": "stdout",
       "text": [
        "Roll Number ? 9\n"
       ]
      },
      {
       "name": "stdout",
       "output_type": "stream",
       "stream": "stdout",
       "text": [
        "Name ? Shivakumar\n"
       ]
      },
      {
       "name": "stdout",
       "output_type": "stream",
       "stream": "stdout",
       "text": [
        "Branch ? Electronics\n"
       ]
      },
      {
       "name": "stdout",
       "output_type": "stream",
       "stream": "stdout",
       "text": [
        "Total marks <max-325> ? 250\n"
       ]
      },
      {
       "output_type": "stream",
       "stream": "stdout",
       "text": [
        "Students Report\n",
        "--------------\n",
        "Roll Number: 5\n",
        "Name: Mangala\n",
        "Branch: Computer\n",
        "Percentage: 89.230769\n",
        "Roll Number: 9\n",
        "Name: Shivakumar\n",
        "Branch: Electronics\n",
        "Percentage: 76.923077\n"
       ]
      }
     ],
     "prompt_number": 7
    },
    {
     "cell_type": "heading",
     "level": 2,
     "metadata": {},
     "source": [
      "Example-student4.cpp, Page no-269"
     ]
    },
    {
     "cell_type": "code",
     "collapsed": false,
     "input": [
      "from ctypes import *\n",
      "class Student(Structure):\n",
      "    _fields_=[(\"roll_no\", c_int), (\"name\", c_char*25), (\"branch\", c_char*15),(\"marks\", c_int)]\n",
      "STUDENTS_COUNT=5\n",
      "s=[]\n",
      "s.append(Student(2, 'Tejaswi', 'CS', 285))#initialization of array of structures\n",
      "s.append(Student(3, 'Laxmi', 'IT', 215))\n",
      "s.append(Student(5, 'Bhavani', 'Electronics', 250))\n",
      "s.append(Student(7, 'Anil', 'Civil', 215))\n",
      "s.append(Student(9, 'Savithri', 'Electrical', 290))\n",
      "print \"Students Report\"\n",
      "print \"--------------\"\n",
      "for i in range(STUDENTS_COUNT):\n",
      "    print \"Roll Number:\", s[i].roll_no\n",
      "    print \"Name:\", s[i].name\n",
      "    print \"Branch:\", s[i].branch\n",
      "    print \"Percentage: %0.4f\" %(s[i].marks*(100.0/325))"
     ],
     "language": "python",
     "metadata": {},
     "outputs": [
      {
       "output_type": "stream",
       "stream": "stdout",
       "text": [
        "Students Report\n",
        "--------------\n",
        "Roll Number: 2\n",
        "Name: Tejaswi\n",
        "Branch: CS\n",
        "Percentage: 87.6923\n",
        "Roll Number: 3\n",
        "Name: Laxmi\n",
        "Branch: IT\n",
        "Percentage: 66.1538\n",
        "Roll Number: 5\n",
        "Name: Bhavani\n",
        "Branch: Electronics\n",
        "Percentage: 76.9231\n",
        "Roll Number: 7\n",
        "Name: Anil\n",
        "Branch: Civil\n",
        "Percentage: 66.1538\n",
        "Roll Number: 9\n",
        "Name: Savithri\n",
        "Branch: Electrical\n",
        "Percentage: 89.2308\n"
       ]
      }
     ],
     "prompt_number": 8
    },
    {
     "cell_type": "heading",
     "level": 2,
     "metadata": {},
     "source": [
      "Example-student5.cpp, Page no-271"
     ]
    },
    {
     "cell_type": "code",
     "collapsed": false,
     "input": [
      "from ctypes import *\n",
      "class Student(Structure):\n",
      "    _fields_=[(\"roll_no\", c_int), (\"name\", c_char*25), (\"branch\", c_char*15),(\"marks\", c_int)]\n",
      "def read():\n",
      "    dull=Student()\n",
      "    dull.roll_no=int(raw_input(\"Roll Number ? \"))\n",
      "    dull.name=raw_input(\"Name ? \")\n",
      "    dull.branch=raw_input(\"Branch ? \")\n",
      "    dull.marks=int(raw_input(\"Total marks <max-325> ? \"))\n",
      "    return dull #returning structure object\n",
      "def show(genius): #passing object of structure\n",
      "    print \"Roll Number:\", genius.roll_no\n",
      "    print \"Name:\", genius.name\n",
      "    print \"Branch:\", genius.branch\n",
      "    print \"Percentage: %0.4f\" %(genius.marks*(100.0/325))\n",
      "s=[]\n",
      "n=int(raw_input(\"How many students to be processed <max-10>: \"))\n",
      "for i in range(n):\n",
      "    print \"Enter data for student\", i+1, \"...\"\n",
      "    s.append(read())\n",
      "print \"Students Report\"\n",
      "print \"--------------\"\n",
      "for i in range(n):\n",
      "    show(s[i])"
     ],
     "language": "python",
     "metadata": {},
     "outputs": [
      {
       "name": "stdout",
       "output_type": "stream",
       "stream": "stdout",
       "text": [
        "How many students to be processed <max-10>: 2\n"
       ]
      },
      {
       "output_type": "stream",
       "stream": "stdout",
       "text": [
        "Enter data for student 1 ...\n"
       ]
      },
      {
       "name": "stdout",
       "output_type": "stream",
       "stream": "stdout",
       "text": [
        "Roll Number ? 3\n"
       ]
      },
      {
       "name": "stdout",
       "output_type": "stream",
       "stream": "stdout",
       "text": [
        "Name ? Smrithi\n"
       ]
      },
      {
       "name": "stdout",
       "output_type": "stream",
       "stream": "stdout",
       "text": [
        "Branch ? Genetics\n"
       ]
      },
      {
       "name": "stdout",
       "output_type": "stream",
       "stream": "stdout",
       "text": [
        "Total marks <max-325> ? 295\n"
       ]
      },
      {
       "output_type": "stream",
       "stream": "stdout",
       "text": [
        "Enter data for student 2 ...\n"
       ]
      },
      {
       "name": "stdout",
       "output_type": "stream",
       "stream": "stdout",
       "text": [
        "Roll Number ? 10\n"
       ]
      },
      {
       "name": "stdout",
       "output_type": "stream",
       "stream": "stdout",
       "text": [
        "Name ? Bindhu\n"
       ]
      },
      {
       "name": "stdout",
       "output_type": "stream",
       "stream": "stdout",
       "text": [
        "Branch ? MCA\n"
       ]
      },
      {
       "name": "stdout",
       "output_type": "stream",
       "stream": "stdout",
       "text": [
        "Total marks <max-325> ? 300\n"
       ]
      },
      {
       "output_type": "stream",
       "stream": "stdout",
       "text": [
        "Students Report\n",
        "--------------\n",
        "Roll Number: 3\n",
        "Name: Smrithi\n",
        "Branch: Genetics\n",
        "Percentage: 90.7692\n",
        "Roll Number: 10\n",
        "Name: Bindhu\n",
        "Branch: MCA\n",
        "Percentage: 92.3077\n"
       ]
      }
     ],
     "prompt_number": 9
    },
    {
     "cell_type": "heading",
     "level": 2,
     "metadata": {},
     "source": [
      "Example-student6.cpp, Page no-273"
     ]
    },
    {
     "cell_type": "code",
     "collapsed": false,
     "input": [
      "from ctypes import *\n",
      "class Student(Structure):\n",
      "    _fields_=[(\"roll_no\", c_int), (\"name\", c_char*25), (\"branch\", c_char*15),(\"marks\", c_int)]\n",
      "def HighestMarks(s, count): #passing array of structures\n",
      "    big=s[0].marks\n",
      "    for i in range(1, count):\n",
      "        if s[i].marks>big:\n",
      "            big=s[i].marks\n",
      "            index=i\n",
      "    return index\n",
      "def read():\n",
      "    dull=Student()\n",
      "    dull.roll_no=int(raw_input(\"Roll Number ? \"))\n",
      "    dull.name=raw_input(\"Name ? \")\n",
      "    dull.branch=raw_input(\"Branch ? \")\n",
      "    dull.marks=int(raw_input(\"Total marks <max-325> ? \"))\n",
      "    return dull\n",
      "def show(genius):\n",
      "    print \"Roll Number:\", genius.roll_no\n",
      "    print \"Name:\", genius.name\n",
      "    print \"Branch:\", genius.branch\n",
      "    print \"Percentage: %0.4f\" %(genius.marks*(100.0/325))\n",
      "s=[]\n",
      "n=int(raw_input(\"How many students to be processed <max-10>: \"))\n",
      "for i in range(n):\n",
      "    print \"Enter data for student\", i+1, \"...\"\n",
      "    s.append(read())\n",
      "print \"Students Report\"\n",
      "print \"--------------\"\n",
      "Id=HighestMarks(s, n)\n",
      "print \"Details of student scoring higest marks...\"\n",
      "show(s[Id])"
     ],
     "language": "python",
     "metadata": {},
     "outputs": [
      {
       "name": "stdout",
       "output_type": "stream",
       "stream": "stdout",
       "text": [
        "How many students to be processed <max-10>: 3\n"
       ]
      },
      {
       "output_type": "stream",
       "stream": "stdout",
       "text": [
        "Enter data for student 1 ...\n"
       ]
      },
      {
       "name": "stdout",
       "output_type": "stream",
       "stream": "stdout",
       "text": [
        "Roll Number ? 3\n"
       ]
      },
      {
       "name": "stdout",
       "output_type": "stream",
       "stream": "stdout",
       "text": [
        "Name ? Smrithi\n"
       ]
      },
      {
       "name": "stdout",
       "output_type": "stream",
       "stream": "stdout",
       "text": [
        "Branch ? Genetics\n"
       ]
      },
      {
       "name": "stdout",
       "output_type": "stream",
       "stream": "stdout",
       "text": [
        "Total marks <max-325> ? 295\n"
       ]
      },
      {
       "output_type": "stream",
       "stream": "stdout",
       "text": [
        "Enter data for student 2 ...\n"
       ]
      },
      {
       "name": "stdout",
       "output_type": "stream",
       "stream": "stdout",
       "text": [
        "Roll Number ? 15\n"
       ]
      },
      {
       "name": "stdout",
       "output_type": "stream",
       "stream": "stdout",
       "text": [
        "Name ? Rajkumar\n"
       ]
      },
      {
       "name": "stdout",
       "output_type": "stream",
       "stream": "stdout",
       "text": [
        "Branch ? Computer\n"
       ]
      },
      {
       "name": "stdout",
       "output_type": "stream",
       "stream": "stdout",
       "text": [
        "Total marks <max-325> ? 315\n"
       ]
      },
      {
       "output_type": "stream",
       "stream": "stdout",
       "text": [
        "Enter data for student 3 ...\n"
       ]
      },
      {
       "name": "stdout",
       "output_type": "stream",
       "stream": "stdout",
       "text": [
        "Roll Number ? 7\n"
       ]
      },
      {
       "name": "stdout",
       "output_type": "stream",
       "stream": "stdout",
       "text": [
        "Name ? Laxmi\n"
       ]
      },
      {
       "name": "stdout",
       "output_type": "stream",
       "stream": "stdout",
       "text": [
        "Branch ? Electronics\n"
       ]
      },
      {
       "name": "stdout",
       "output_type": "stream",
       "stream": "stdout",
       "text": [
        "Total marks <max-325> ? 255\n"
       ]
      },
      {
       "output_type": "stream",
       "stream": "stdout",
       "text": [
        "Students Report\n",
        "--------------\n",
        "Details of student scoring higest marks...\n",
        "Roll Number: 15\n",
        "Name: Rajkumar\n",
        "Branch: Computer\n",
        "Percentage: 96.9231\n"
       ]
      }
     ],
     "prompt_number": 11
    },
    {
     "cell_type": "heading",
     "level": 2,
     "metadata": {},
     "source": [
      "Example-complex.cpp, Page no-278"
     ]
    },
    {
     "cell_type": "code",
     "collapsed": false,
     "input": [
      "from ctypes import *\n",
      "import sys\n",
      "import math\n",
      "class Complex(Structure):\n",
      "    x=int\n",
      "    y=int\n",
      "    def read(self):\n",
      "        self.x=int(raw_input(\"Real part? \"))\n",
      "        self.y=int(raw_input(\"Imaginary part? \"))\n",
      "    def show(self, msg):\n",
      "        print msg, self.x,\n",
      "        if self.y<0:\n",
      "            sys.stdout.write('-i')\n",
      "        else:\n",
      "            sys.stdout.write('+i')\n",
      "        print math.fabs(self.y)\n",
      "    def add(self, c2):\n",
      "        self.x+=c2.x\n",
      "        self.y+=c2.y\n",
      "c1=Complex()\n",
      "c2=Complex()\n",
      "c3=Complex()\n",
      "print \"Enter complex number c1...\"\n",
      "c1.read()\n",
      "print \"Enter complex number c2...\"\n",
      "c2.read()\n",
      "c1.show('c1 =')\n",
      "c2.show('c2 =')\n",
      "c3=c1\n",
      "c3.add(c2)\n",
      "c3.show('c3 = c1 + c2 =')"
     ],
     "language": "python",
     "metadata": {},
     "outputs": [
      {
       "output_type": "stream",
       "stream": "stdout",
       "text": [
        "Enter complex number c1...\n"
       ]
      },
      {
       "name": "stdout",
       "output_type": "stream",
       "stream": "stdout",
       "text": [
        "Real part? 1\n"
       ]
      },
      {
       "name": "stdout",
       "output_type": "stream",
       "stream": "stdout",
       "text": [
        "Imaginary part? 2\n"
       ]
      },
      {
       "output_type": "stream",
       "stream": "stdout",
       "text": [
        "Enter complex number c2...\n"
       ]
      },
      {
       "name": "stdout",
       "output_type": "stream",
       "stream": "stdout",
       "text": [
        "Real part? 3\n"
       ]
      },
      {
       "name": "stdout",
       "output_type": "stream",
       "stream": "stdout",
       "text": [
        "Imaginary part? 4\n"
       ]
      },
      {
       "output_type": "stream",
       "stream": "stdout",
       "text": [
        "c1 = 1+i 2.0\n",
        "c2 = 3+i 4.0\n",
        "c3 = c1 + c2 = 4+i 6.0\n"
       ]
      }
     ],
     "prompt_number": 12
    },
    {
     "cell_type": "heading",
     "level": 2,
     "metadata": {},
     "source": [
      "Example-emp.cpp, Page no-279"
     ]
    },
    {
     "cell_type": "code",
     "collapsed": false,
     "input": [
      "from ctypes import *\n",
      "class employee(Structure): #structure member functions\n",
      "    name=str\n",
      "    ID=long\n",
      "    dept=str\n",
      "    salary=float\n",
      "    def read(self):\n",
      "        self.name=raw_input(\"Employee Name: \")\n",
      "        self.ID=long(raw_input(\"Employee ID: \"))\n",
      "        self.dept=raw_input(\"Department: \")\n",
      "        self.salary=float(raw_input(\"Salary: \"))\n",
      "    def show(self):\n",
      "        print \"Employee Name:\", self.name\n",
      "        print \"Employee ID:\", self.ID\n",
      "        print \"Department:\", self.dept\n",
      "        print \"Salary:\", self.salary\n",
      "emp=employee()\n",
      "print \"Enter employee data:\"\n",
      "emp.read()\n",
      "print \"\\n****Employee Record****\"\n",
      "emp.show()"
     ],
     "language": "python",
     "metadata": {},
     "outputs": [
      {
       "output_type": "stream",
       "stream": "stdout",
       "text": [
        "Enter employee data:\n"
       ]
      },
      {
       "name": "stdout",
       "output_type": "stream",
       "stream": "stdout",
       "text": [
        "Employee Name: Vishwanathan\n"
       ]
      },
      {
       "name": "stdout",
       "output_type": "stream",
       "stream": "stdout",
       "text": [
        "Employee ID: 953\n"
       ]
      },
      {
       "name": "stdout",
       "output_type": "stream",
       "stream": "stdout",
       "text": [
        "Department: Finance\n"
       ]
      },
      {
       "name": "stdout",
       "output_type": "stream",
       "stream": "stdout",
       "text": [
        "Salary: 18500\n"
       ]
      },
      {
       "output_type": "stream",
       "stream": "stdout",
       "text": [
        "\n",
        "****Employee Record****\n",
        "Employee Name: Vishwanathan\n",
        "Employee ID: 953\n",
        "Department: Finance\n",
        "Salary: 18500.0\n"
       ]
      }
     ],
     "prompt_number": 14
    },
    {
     "cell_type": "heading",
     "level": 2,
     "metadata": {},
     "source": [
      "Example-union.cpp, Page no-283"
     ]
    },
    {
     "cell_type": "code",
     "collapsed": false,
     "input": [
      "from ctypes import *\n",
      "#Creates a union\n",
      "class Strings(Union):\n",
      "    _fields_ = [(\"filename\",c_char*200),\n",
      "            (\"output\", c_char*400)]\n",
      "s=Strings()\n",
      "s.filename=\"/cdacb/usrl/raj/oops/mcrokernel/pserver.cpp\"\n",
      "print \"filename:\", s.filename\n",
      "s.output=\"OOPs is a most complex entity ever created by humans\"\n",
      "print \"output:\", s.output\n",
      "print \"Size of union Strings =\",  sizeof(Strings)"
     ],
     "language": "python",
     "metadata": {},
     "outputs": [
      {
       "output_type": "stream",
       "stream": "stdout",
       "text": [
        "filename: /cdacb/usrl/raj/oops/mcrokernel/pserver.cpp\n",
        "output: OOPs is a most complex entity ever created by humans\n",
        "Size of union Strings = 400\n"
       ]
      }
     ],
     "prompt_number": 15
    },
    {
     "cell_type": "heading",
     "level": 2,
     "metadata": {},
     "source": [
      "Example-sudiff.cpp, Page no-284"
     ]
    },
    {
     "cell_type": "code",
     "collapsed": false,
     "input": [
      "from collections import namedtuple\n",
      "from ctypes import *\n",
      "class struct(Structure):\n",
      "    _fields_ = [(\"name\",c_char*25), (\"idno\", c_int), (\"salary\", c_float)]\n",
      "emp=struct()\n",
      "class union(Union):\n",
      "    _fields_ = [(\"name\",c_char*25), (\"idno\", c_int), (\"salary\", c_float)]\n",
      "desc=union()\n",
      "print \"The size of the structure is\", sizeof(emp)\n",
      "print \"The size of the union is\", sizeof(desc)"
     ],
     "language": "python",
     "metadata": {},
     "outputs": [
      {
       "output_type": "stream",
       "stream": "stdout",
       "text": [
        "The size of the structure is 36\n",
        "The size of the union is 28\n"
       ]
      }
     ],
     "prompt_number": 1
    },
    {
     "cell_type": "heading",
     "level": 2,
     "metadata": {},
     "source": [
      "Example-uaccess.cpp, Page no-285"
     ]
    },
    {
     "cell_type": "code",
     "collapsed": false,
     "input": [
      "from ctypes import *\n",
      "class emp(Union):\n",
      "    _fields_=[(\"name\",c_char*25), (\"idno\", c_int), (\"salary\", c_float)]\n",
      "def show(e):\n",
      "    print \"Employee Details...\"\n",
      "    print \"The name is %s\" %e.name\n",
      "    print \"The idno is %d\" %e.idno\n",
      "    print \"The salary is %g\" %e.salary\n",
      "e=emp()\n",
      "e.name=\"Rajkumar\"\n",
      "show(e)\n",
      "e.idno=10\n",
      "show(e)\n",
      "e.salary=9000\n",
      "show(e)"
     ],
     "language": "python",
     "metadata": {},
     "outputs": [
      {
       "output_type": "stream",
       "stream": "stdout",
       "text": [
        "Employee Details...\n",
        "The name is Rajkumar\n",
        "The idno is 1802133842\n",
        "The salary is 2.83348e+26\n",
        "Employee Details...\n",
        "The name is \n",
        "\n",
        "The idno is 10\n",
        "The salary is 1.4013e-44\n",
        "Employee Details...\n",
        "The name is \n",
        "The idno is 1175232512\n",
        "The salary is 9000\n"
       ]
      }
     ],
     "prompt_number": 2
    },
    {
     "cell_type": "heading",
     "level": 2,
     "metadata": {},
     "source": [
      "Example-uscope.cpp, Page no-286"
     ]
    },
    {
     "cell_type": "code",
     "collapsed": false,
     "input": [
      "from ctypes import *\n",
      "#Creates a union\n",
      "class union(Union):\n",
      "    _fields_ = [(\"i\", c_int), \n",
      "              (\"c\", c_char), \n",
      "              (\"f\", c_float)]\n",
      "u=union()\n",
      "u.i=10\n",
      "u.c='9'\n",
      "u.f=4.5\n",
      "print \"The value of i is\", u.i\n",
      "print \"The value of c is\", u.c\n",
      "print \"The value of f is\", u.f"
     ],
     "language": "python",
     "metadata": {},
     "outputs": [
      {
       "output_type": "stream",
       "stream": "stdout",
       "text": [
        "The value of i is 1083179008\n",
        "The value of c is \u0000\n",
        "The value of f is 4.5\n"
       ]
      }
     ],
     "prompt_number": 1
    },
    {
     "cell_type": "heading",
     "level": 2,
     "metadata": {},
     "source": [
      "Example-share.cpp, Page no-289"
     ]
    },
    {
     "cell_type": "code",
     "collapsed": false,
     "input": [
      "from collections import namedtuple\n",
      "from ctypes import *\n",
      "import sys\n",
      "class with_bits(Structure):\n",
      "    _fields_ = [(\"first\", c_uint), (\"second\", c_uint)]\n",
      "class union(Union):\n",
      "    _fields_=[(\"b\", with_bits), (\"i\", c_int)]\n",
      "i=0\n",
      "u=union()\n",
      "print \"On i=0: b.first =\",u.b.first,\"b.second =\", u.b.second\n",
      "u.b.first=9\n",
      "print \"b.first =9:\", \n",
      "print \"b.first =\", u.b.first, \"b.second =\", u.b.second"
     ],
     "language": "python",
     "metadata": {},
     "outputs": [
      {
       "output_type": "stream",
       "stream": "stdout",
       "text": [
        "On i=0: b.first = 0 b.second = 0\n",
        "b.first =9: b.first = 9 b.second = 0\n"
       ]
      }
     ],
     "prompt_number": 1
    }
   ],
   "metadata": {}
  }
 ]
}