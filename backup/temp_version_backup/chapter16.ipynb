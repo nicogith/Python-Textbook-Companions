{
 "metadata": {
  "name": "",
  "signature": "sha256:526f0478ca7a5ec4522d70a6832114c547e4784f425e0391463d5037753dde9d"
 },
 "nbformat": 3,
 "nbformat_minor": 0,
 "worksheets": [
  {
   "cells": [
    {
     "cell_type": "heading",
     "level": 1,
     "metadata": {},
     "source": [
      "Chapter 16 Microwave communication"
     ]
    },
    {
     "cell_type": "heading",
     "level": 2,
     "metadata": {},
     "source": [
      "Example 16.1 Page no 616"
     ]
    },
    {
     "cell_type": "code",
     "collapsed": false,
     "input": [
      "#Given\n",
      "Zsrc =50\n",
      "Zld  =136\n",
      "f =5800.0*10**6\n",
      "Er =2.4\n",
      "\n",
      "#Calculation\n",
      "Zq =(Zsrc * Zld)**0.5\n",
      "Vp =1/(Er)**0.5\n",
      "lamda = 300/f\n",
      "len = (lamda/4.0)*38.37*Vp\n",
      "\n",
      "#Result\n",
      "print\"(a) The required impedance is \",round(Zq,2),\"ohm\"\n",
      "print\"(b) The length of the microstrip \",round(len*10**6,2),\"inches\"\n"
     ],
     "language": "python",
     "metadata": {},
     "outputs": [
      {
       "output_type": "stream",
       "stream": "stdout",
       "text": [
        "(a) The required impedance is  82.46 ohm\n",
        "(b) The length of the microstrip  0.32 inches\n"
       ]
      }
     ],
     "prompt_number": 3
    },
    {
     "cell_type": "heading",
     "level": 2,
     "metadata": {},
     "source": [
      "Example 16.2 Page no 623"
     ]
    },
    {
     "cell_type": "code",
     "collapsed": false,
     "input": [
      "#Given\n",
      "w=0.65\n",
      "h=0.38\n",
      "\n",
      "#Calculation\n",
      "fco = 300/(2.0*((0.65*2.54)/100.0))\n",
      "f =1.42*fco\n",
      "\n",
      "#Result\n",
      "print\"(a) The cutoff frequency of the \",round(fco/10**3,3),\"GHz\"\n",
      "print\"(b) Operating frequency of the wavwguide is \",round(f/10**3,1),\"GHz\"\n"
     ],
     "language": "python",
     "metadata": {},
     "outputs": [
      {
       "output_type": "stream",
       "stream": "stdout",
       "text": [
        "(a) The cutoff frequency of the  9.085 GHz\n",
        "(b) Operating frequency of the wavwguide is  12.9 GHz\n"
       ]
      }
     ],
     "prompt_number": 7
    },
    {
     "cell_type": "heading",
     "level": 2,
     "metadata": {},
     "source": [
      "Example 16.3 Page no 623"
     ]
    },
    {
     "cell_type": "code",
     "collapsed": false,
     "input": [
      "#for the above question\n",
      "print\"The c band is approximately 4 to 6 Ghz since a waveguide acts as a high pass filter with cut off of 9.08 Ghz it will not pass c band signal\"\n"
     ],
     "language": "python",
     "metadata": {},
     "outputs": [
      {
       "output_type": "stream",
       "stream": "stdout",
       "text": [
        "The c band is approximately 4 to 6 Ghz since a waveguide acts as a high pass filter with cut off of 9.08 Ghz it will not pass c band signal\n"
       ]
      }
     ],
     "prompt_number": 8
    },
    {
     "cell_type": "heading",
     "level": 2,
     "metadata": {},
     "source": [
      "Example 16.4 Page no 648"
     ]
    },
    {
     "cell_type": "code",
     "collapsed": false,
     "input": [
      "#Given\n",
      "lamda1 =5.0\n",
      "f2 = 15.0*10**9\n",
      "D=1.524\n",
      "\n",
      "#Calculation\n",
      "f1=984/lamda1\n",
      "lamda2 =300/f2\n",
      "G = (6*(D/lamda2)**2)\n",
      "B = 70/(D/lamda2)\n",
      "\n",
      "#Result\n",
      "print\"(a) The lowest possible oprerating frequency is \",f1,\"MHz\"\n",
      "print\"(b) The gain at 15 Ghz is \",G/10**12\n",
      "print\"(c) The beam width at 15Ghz is \",round(B*10**6,2),\"degree\"\n"
     ],
     "language": "python",
     "metadata": {},
     "outputs": [
      {
       "output_type": "stream",
       "stream": "stdout",
       "text": [
        "(a) The lowest possible oprerating frequency is  196.8 MHz\n",
        "(b) The gain at 15 Ghz is  34838.64\n",
        "(c) The beam width at 15Ghz is  0.92 degree\n"
       ]
      }
     ],
     "prompt_number": 9
    },
    {
     "cell_type": "heading",
     "level": 2,
     "metadata": {},
     "source": [
      "Example 16.5 Page no 661"
     ]
    },
    {
     "cell_type": "code",
     "collapsed": false,
     "input": [
      "#Given\n",
      "T = 9.2\n",
      "theta = 20\n",
      "sin20 = 0.342\n",
      "a=5280\n",
      "\n",
      "#Calculation\n",
      "D_nautical = T/12.36\n",
      "D_statute =D_nautical*0.87\n",
      "A = D_statute*0.342\n",
      "A1=A*a\n",
      "\n",
      "#Result\n",
      "print\"(a) The line of distance to the aircraft in the statute miles \",round(D_statute,3)\n",
      "print\"(b) The altitude of the aircraft is \",round(A,2),\"mi\"\n"
     ],
     "language": "python",
     "metadata": {},
     "outputs": [
      {
       "output_type": "stream",
       "stream": "stdout",
       "text": [
        "(a) The line of distance to the aircraft in the statute miles  0.648\n",
        "(b) The altitude of the aircraft is  0.22 mi\n"
       ]
      }
     ],
     "prompt_number": 5
    }
   ],
   "metadata": {}
  }
 ]
}