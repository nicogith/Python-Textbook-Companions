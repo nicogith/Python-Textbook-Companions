{
 "metadata": {
  "name": "",
  "signature": "sha256:6d0a5becdae7bf2928f5747f4da31ef68eb2576da776218335d8b44a4a733949"
 },
 "nbformat": 3,
 "nbformat_minor": 0,
 "worksheets": [
  {
   "cells": [
    {
     "cell_type": "heading",
     "level": 1,
     "metadata": {},
     "source": [
      "Chapter 10 Multiplexing and Demultiplexing"
     ]
    },
    {
     "cell_type": "heading",
     "level": 2,
     "metadata": {},
     "source": [
      "Example 10.1 Page no 368"
     ]
    },
    {
     "cell_type": "code",
     "collapsed": false,
     "input": [
      "#Given\n",
      "BW_service = 860*10**6\n",
      "BW_ch = 6.0*10**6\n",
      "\n",
      "#calculation\n",
      "total_ch = BW_service/BW_ch\n",
      "\n",
      "#result\n",
      "print\"Total number of channels are \",round(total_ch,0)\n"
     ],
     "language": "python",
     "metadata": {},
     "outputs": [
      {
       "output_type": "stream",
       "stream": "stdout",
       "text": [
        "Total number of channels are  143.0\n"
       ]
      }
     ],
     "prompt_number": 1
    },
    {
     "cell_type": "heading",
     "level": 2,
     "metadata": {},
     "source": [
      "Example 10.2 Page no 380"
     ]
    },
    {
     "cell_type": "code",
     "collapsed": false,
     "input": [
      "#Given\n",
      "channels =16\n",
      "sampling_rate= 3.5*10**3\n",
      "w_len=6\n",
      "\n",
      "#Calculation\n",
      "available_ch =channels-1\n",
      "bpf =channels*w_len\n",
      "data_rate = sampling_rate * bpf\n",
      "\n",
      "#Result\n",
      "print\"(a) Available channels are \",available_ch\n",
      "print\"(b) Bits Per Frame = \",bpf\n",
      "print\"(c) The serial data rate \",data_rate/10**3,\"KHz\"\n",
      " \n"
     ],
     "language": "python",
     "metadata": {},
     "outputs": [
      {
       "output_type": "stream",
       "stream": "stdout",
       "text": [
        "(a) Available channels are  15\n",
        "(b) Bits Per Frame =  96\n",
        "(c) The serial data rate  336.0 KHz\n"
       ]
      }
     ],
     "prompt_number": 1
    }
   ],
   "metadata": {}
  }
 ]
}