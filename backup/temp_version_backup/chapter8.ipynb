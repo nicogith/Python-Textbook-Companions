{
 "metadata": {
  "name": "",
  "signature": "sha256:6738b73e6fb4913114449836a25c14169c484a93e5e60fcba9b0e4a9815c8f56"
 },
 "nbformat": 3,
 "nbformat_minor": 0,
 "worksheets": [
  {
   "cells": [
    {
     "cell_type": "heading",
     "level": 1,
     "metadata": {},
     "source": [
      "Chapter 8 Radio transmitters"
     ]
    },
    {
     "cell_type": "heading",
     "level": 2,
     "metadata": {},
     "source": [
      "Example 8.1 Page no 249"
     ]
    },
    {
     "cell_type": "code",
     "collapsed": false,
     "input": [
      "#Given\n",
      "f = 16*10**6\n",
      "ppm = 200\n",
      "frequency_variation = 200 *16 \n",
      "\n",
      "#Calculation\n",
      "min_f = f - frequency_variation\n",
      "max_f = f + frequency_variation\n",
      "\n",
      "#Reslt\n",
      "print\"The minimum and maximum frequencies for the crystal of 16 Mhz with stability of 200 are \",min_f,\"Hz and\",max_f,\"Hz respectively\"\n"
     ],
     "language": "python",
     "metadata": {},
     "outputs": [
      {
       "output_type": "stream",
       "stream": "stdout",
       "text": [
        "The minimum and maximum frequencies for the crystal of 16 Mhz with stability of 200 are  15996800 Hz and 16003200 Hz respectively\n"
       ]
      }
     ],
     "prompt_number": 1
    },
    {
     "cell_type": "heading",
     "level": 2,
     "metadata": {},
     "source": [
      "Example 8.2 Page no 250"
     ]
    },
    {
     "cell_type": "code",
     "collapsed": false,
     "input": [
      "#Given\n",
      "f =14.9*10**6\n",
      "mul_factor = 2*3*3\n",
      "stability_ppm =300\n",
      "variation = 0.0003\n",
      "\n",
      "#Calculation\n",
      "total_variation = variation* mul_factor\n",
      "fout = f * mul_factor\n",
      "frequency_variation = fout*total_variation\n",
      "f_lower = fout - frequency_variation\n",
      "f_upper = fout + frequency_variation\n",
      "\n",
      "#Result\n",
      "print\"(a) The output frequency of the transmitter is \",fout/10**6,\"MHz\"\n",
      "print\"(b) The maximum and minimum frequencies of the transmitter are \",round(f_lower/10**6,2),\"Mhz and \",round(f_upper/10**6,2),\"Mhz\"\n"
     ],
     "language": "python",
     "metadata": {},
     "outputs": [
      {
       "output_type": "stream",
       "stream": "stdout",
       "text": [
        "(a) The output frequency of the transmitter is  268.2 MHz\n",
        "(b) The maximum and minimum frequencies of the transmitter are  266.75 Mhz and  269.65 Mhz\n"
       ]
      }
     ],
     "prompt_number": 2
    },
    {
     "cell_type": "heading",
     "level": 2,
     "metadata": {},
     "source": [
      "Example 8.3 Page no 259"
     ]
    },
    {
     "cell_type": "code",
     "collapsed": false,
     "input": [
      "#given\n",
      "f = 10*10**6\n",
      "div_factor = 100.0\n",
      "A =63\n",
      "N = 285\n",
      "M=32\n",
      "\n",
      "#Calculation\n",
      "ref = f/div_factor\n",
      "R =M*N+A\n",
      "fout= R*ref\n",
      "\n",
      "#Result\n",
      "print\"The output frequency of the synthesizer is \",fout/10**6,\"MHz\"\n"
     ],
     "language": "python",
     "metadata": {},
     "outputs": [
      {
       "output_type": "stream",
       "stream": "stdout",
       "text": [
        "The output frequency of the synthesizer is  918.3 MHz\n"
       ]
      }
     ],
     "prompt_number": 3
    },
    {
     "cell_type": "heading",
     "level": 2,
     "metadata": {},
     "source": [
      "Example 8.4 Page no 259"
     ]
    },
    {
     "cell_type": "code",
     "collapsed": false,
     "input": [
      "#Given\n",
      "f = 10*10**6\n",
      "div_factor = 100.0\n",
      "A =64\n",
      "N = 285\n",
      "M=32\n",
      "\n",
      "#Calculation\n",
      "ref = f/div_factor\n",
      "R =M*N+A\n",
      "fout= R*ref\n",
      "\n",
      "#Result\n",
      "print\"The output frequency of the synthesizer is \",fout/10**6,\"MHz\"\n",
      "print\"The step change is \",fout/10**6-918.3,\"MHz\"\n"
     ],
     "language": "python",
     "metadata": {},
     "outputs": [
      {
       "output_type": "stream",
       "stream": "stdout",
       "text": [
        "The output frequency of the synthesizer is  918.4 MHz\n",
        "The step change is  0.1 MHz\n"
       ]
      }
     ],
     "prompt_number": 4
    }
   ],
   "metadata": {}
  }
 ]
}