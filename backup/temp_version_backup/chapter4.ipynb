{
 "metadata": {
  "name": "",
  "signature": "sha256:268207babca50d59c46d454ea7ce41b37f6eaad8a022bc43c98526f17a497ebd"
 },
 "nbformat": 3,
 "nbformat_minor": 0,
 "worksheets": [
  {
   "cells": [
    {
     "cell_type": "heading",
     "level": 1,
     "metadata": {},
     "source": [
      "chapter 4 Amplitude Modulator and Demodulator circuits"
     ]
    },
    {
     "cell_type": "heading",
     "level": 2,
     "metadata": {},
     "source": [
      "Example 4.1 Page no 129"
     ]
    },
    {
     "cell_type": "code",
     "collapsed": false,
     "input": [
      "#given\n",
      "\n",
      "Vcc =48\n",
      "I = 3.5\n",
      "efficiency =70                           #percent\n",
      "modulation = 67                          #percent\n",
      "m = modulation/100.0\n",
      "#calculation\n",
      "\n",
      "Pi = Vcc*I\n",
      "Pc=Pi\n",
      "Pm = Pi/2.0\n",
      "Pout = (efficiency*Pi)/100.0\n",
      "Ps = Pc*((m**2)/4.0)\n",
      "maximum_swing = 2*Vcc \n",
      "#Result\n",
      "\n",
      "print \"(a) RF input power to the output stage is \",Pi,\"W\"\n",
      "print \"(b) AF power required for 100 percent modulation is \",Pm,\"W\"\n",
      "print \"(c) Carrier output power is \",Pout,\"W\"\n",
      "print \"(d) Power in one sideband for 67 percent modulation is \",round(Ps,2),\"W\"\n",
      "print \"(e) maximum and minimum dc supply voltage swing with 100 percent modulation is \",maximum_swing,\"V\""
     ],
     "language": "python",
     "metadata": {},
     "outputs": [
      {
       "output_type": "stream",
       "stream": "stdout",
       "text": [
        "(a) RF input power to the output stage is  168.0 W\n",
        "(b) AF power required for 100 percent modulation is  84.0 W\n",
        "(c) Carrier output power is  117.6 W\n",
        "(d) Power in one sideband for 67 percent modulation is  18.85 W\n",
        "(e) maximum and minimum dc supply voltage swing with 100 percent modulation is  96 V\n"
       ]
      }
     ],
     "prompt_number": 10
    },
    {
     "cell_type": "heading",
     "level": 2,
     "metadata": {},
     "source": [
      "Example 4.2 Page no 145"
     ]
    },
    {
     "cell_type": "code",
     "collapsed": false,
     "input": [
      "#given\n",
      "\n",
      "fc =4.2*10**6\n",
      "f1 = 300\n",
      "f2 = 3400\n",
      "#calculation\n",
      "#upper sideband\n",
      "\n",
      "x0=fc+f1\n",
      "y0=fc+f2\n",
      "#lower sideband\n",
      "\n",
      "x1=fc-f1\n",
      "y1=fc-f2\n",
      "frequency=(x1+y1)/2.0\n",
      "#Result \n",
      "\n",
      "print \"(a) Upper sideband ranges from \",x0,\"to\",y0\n",
      "print \"    lower sideband ranges from \",x1,\"to\",y1\n",
      "print \"(b) approximate center frequency of a bandpass filter is \",frequency,\"Hz\""
     ],
     "language": "python",
     "metadata": {},
     "outputs": [
      {
       "output_type": "stream",
       "stream": "stdout",
       "text": [
        "(a) Upper sideband ranges from  4200300.0 to 4203400.0\n",
        "    lower sideband ranges from  4199700.0 to 4196600.0\n",
        "(b) approximate center frequency of a bandpass filter is  4198150.0 Hz\n"
       ]
      }
     ],
     "prompt_number": 29
    }
   ],
   "metadata": {}
  }
 ]
}