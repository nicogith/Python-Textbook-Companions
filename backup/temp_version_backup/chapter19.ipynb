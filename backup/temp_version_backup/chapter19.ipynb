{
 "metadata": {
  "name": "",
  "signature": "sha256:bbbebe541ba21d9bbb4d54500aef67ec9a094ac72f21cf0a19a14aa93b9c61ce"
 },
 "nbformat": 3,
 "nbformat_minor": 0,
 "worksheets": [
  {
   "cells": [
    {
     "cell_type": "heading",
     "level": 1,
     "metadata": {},
     "source": [
      "Chapter 19 Optical communication"
     ]
    },
    {
     "cell_type": "heading",
     "level": 2,
     "metadata": {},
     "source": [
      "Example 19.1 Page no 760"
     ]
    },
    {
     "cell_type": "code",
     "collapsed": false,
     "input": [
      "#Given\n",
      "NA = 0.29\n",
      "\n",
      "#Calculation\n",
      "import math\n",
      "critical_angle = math.asin(0.29)*180/3.14\n",
      "\n",
      "print\"The critical angle is \",round(critical_angle,2),\"degree\"\n",
      " \n"
     ],
     "language": "python",
     "metadata": {},
     "outputs": [
      {
       "output_type": "stream",
       "stream": "stdout",
       "text": [
        "The critical angle is  16.87 degree\n"
       ]
      }
     ],
     "prompt_number": 3
    },
    {
     "cell_type": "heading",
     "level": 2,
     "metadata": {},
     "source": [
      "Example 19.2 Page no 767"
     ]
    },
    {
     "cell_type": "code",
     "collapsed": false,
     "input": [
      "#Given\n",
      "B_rating_Mhzkm =600*10**6\n",
      "len_ft=500\n",
      "\n",
      "#Calculation\n",
      "bandwidth = B_rating_Mhzkm/(len_ft/3274.0)\n",
      "\n",
      "#Result\n",
      "print\"The bandwidth of the 500 feetr segment of the cable is \",bandwidth/10**6,\"MHz\"\n"
     ],
     "language": "python",
     "metadata": {},
     "outputs": [
      {
       "output_type": "stream",
       "stream": "stdout",
       "text": [
        "The bandwidth of the 500 feetr segment of the ccable is  3928.8 MHz\n"
       ]
      }
     ],
     "prompt_number": 2
    },
    {
     "cell_type": "heading",
     "level": 2,
     "metadata": {},
     "source": [
      "Example 19.3 Page no 780"
     ]
    },
    {
     "cell_type": "code",
     "collapsed": false,
     "input": [
      "#Given\n",
      "R=43*10**6\n",
      "D=1200/3274.0\n",
      "\n",
      "#Calculation\n",
      "d=1/(5.0*R*D)\n",
      "\n",
      "#Result\n",
      "print\"The dispersion factor is \",round(d*10**9,1),\"ns/km\"\n"
     ],
     "language": "python",
     "metadata": {},
     "outputs": [
      {
       "output_type": "stream",
       "stream": "stdout",
       "text": [
        "The dispersion factor is  12.7 ns/km\n"
       ]
      }
     ],
     "prompt_number": 4
    }
   ],
   "metadata": {}
  }
 ]
}