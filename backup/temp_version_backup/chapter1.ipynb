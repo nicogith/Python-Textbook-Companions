{
 "metadata": {
  "name": "",
  "signature": "sha256:fa4937e894b2eaacf3d917ad54d3257fed9024ea716662722fd829aea08934e3"
 },
 "nbformat": 3,
 "nbformat_minor": 0,
 "worksheets": [
  {
   "cells": [
    {
     "cell_type": "heading",
     "level": 1,
     "metadata": {},
     "source": [
      "Chapter 1 Introduction to electronic communication"
     ]
    },
    {
     "cell_type": "heading",
     "level": 2,
     "metadata": {},
     "source": [
      "Example 1.1.a Page no 14"
     ]
    },
    {
     "cell_type": "code",
     "collapsed": false,
     "input": [
      "#Given\n",
      "c=300000000\n",
      "f1=150000000.0\n",
      "f2=430000000.0\n",
      "f3=8000000.0\n",
      "f4=750000.0\n",
      "\n",
      "#Calculation\n",
      "W1 = c/f1\n",
      "W2=c/f2\n",
      "W3=c/f3\n",
      "W4=c/f4\n",
      "\n",
      "#Result\n",
      "print\"(a) Wavelength is \",W1,\"meter\"\n",
      "print\"(b) Wavelength is \",round(W2,3),\"meter\"\n",
      "print\"(c) Wavelength is \",W3,\"meter\"\n",
      "print\"(d) Wavelength is \",W4,\"meter\""
     ],
     "language": "python",
     "metadata": {},
     "outputs": [
      {
       "output_type": "stream",
       "stream": "stdout",
       "text": [
        "(a) Wavelength is  2.0 meter\n",
        "(b) Wavelength is  0.698 meter\n",
        "(c) Wavelength is  37.5 meter\n",
        "(d) Wavelength is  400.0 meter\n"
       ]
      }
     ],
     "prompt_number": 16
    },
    {
     "cell_type": "heading",
     "level": 2,
     "metadata": {},
     "source": [
      "Example 1.2 page no 15"
     ]
    },
    {
     "cell_type": "code",
     "collapsed": false,
     "input": [
      "#Given\n",
      "c=300000000\n",
      "wavelength=1.5\n",
      "\n",
      "#Calculation\n",
      "frequency=c/wavelength\n",
      "\n",
      "#Result\n",
      "print\"Signal frequncy is \",frequency/1000000.0,\"MHz\"\n"
     ],
     "language": "python",
     "metadata": {},
     "outputs": [
      {
       "output_type": "stream",
       "stream": "stdout",
       "text": [
        "Signal frequncy is  200.0 MHz\n"
       ]
      }
     ],
     "prompt_number": 11
    },
    {
     "cell_type": "heading",
     "level": 2,
     "metadata": {},
     "source": [
      "Example 1.3 page no 15"
     ]
    },
    {
     "cell_type": "code",
     "collapsed": false,
     "input": [
      "#Given\n",
      "wavelength_feet=75\n",
      "wavelength_meter= 75/3.28\n",
      "c=300000000\n",
      "\n",
      "#Calculation\n",
      "frequency=c/wavelength_meter\n",
      "\n",
      "#Result\n",
      "print\"The signal frequncy is \",frequency/1000000.0,\"MHz\"\n"
     ],
     "language": "python",
     "metadata": {},
     "outputs": [
      {
       "output_type": "stream",
       "stream": "stdout",
       "text": [
        "The signal frequncy is  13.12 MHz\n"
       ]
      }
     ],
     "prompt_number": 12
    },
    {
     "cell_type": "heading",
     "level": 2,
     "metadata": {},
     "source": [
      "Example 1.4 page no 15"
     ]
    },
    {
     "cell_type": "code",
     "collapsed": false,
     "input": [
      "#Given\n",
      "wavelength_inches=8\n",
      "wavelength_meter=  8/39.37\n",
      "c=300\n",
      "\n",
      "#Calculation\n",
      "frequency= c/wavelength_meter\n",
      "\n",
      "#Result\n",
      "print\"The signal freuency is \",round(frequency,1),\"MHz\"\n",
      "print\"The signnalfrequency is \",round(frequency*10**-3,2),\"GHz\"\n"
     ],
     "language": "python",
     "metadata": {},
     "outputs": [
      {
       "output_type": "stream",
       "stream": "stdout",
       "text": [
        "The signal freuency is  1476.4 MHz\n",
        "The signnalfrequency is  1.48 GHz\n"
       ]
      }
     ],
     "prompt_number": 25
    },
    {
     "cell_type": "heading",
     "level": 2,
     "metadata": {},
     "source": [
      "Example 1.5 page no 18"
     ]
    },
    {
     "cell_type": "code",
     "collapsed": false,
     "input": [
      "#Given\n",
      "f1=902000000\n",
      "f2=928000000\n",
      "\n",
      "#Calculation\n",
      "bandwidth=f2-f1\n",
      "\n",
      "#Result\n",
      "print\"Width of the band is \",bandwidth/1000000,\"MHz\"\n"
     ],
     "language": "python",
     "metadata": {},
     "outputs": [
      {
       "output_type": "stream",
       "stream": "stdout",
       "text": [
        "Width of the band is  26 MHz\n"
       ]
      }
     ],
     "prompt_number": 14
    },
    {
     "cell_type": "heading",
     "level": 2,
     "metadata": {},
     "source": [
      "Example 1.6 page no 19"
     ]
    },
    {
     "cell_type": "code",
     "collapsed": false,
     "input": [
      "#Given\n",
      "bandwidth_megahertz= 6\n",
      "f1_megahertz=54\n",
      "\n",
      "#Calculation\n",
      "f2_megahertz=f1_megahertz + bandwidth_megahertz\n",
      "\n",
      "#Result\n",
      "print\"Upper frequency limit is \",f2_megahertz,\"MHz\"\n"
     ],
     "language": "python",
     "metadata": {},
     "outputs": [
      {
       "output_type": "stream",
       "stream": "stdout",
       "text": [
        "Upper frequency limit is  60 MHz\n"
       ]
      }
     ],
     "prompt_number": 15
    }
   ],
   "metadata": {}
  }
 ]
}