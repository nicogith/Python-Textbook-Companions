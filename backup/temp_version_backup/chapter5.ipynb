{
 "metadata": {
  "name": "",
  "signature": "sha256:91b0cb714976b5e3abb5fa418cb1d12fb7cd307f6d4fd008a74f2dcf67b41e57"
 },
 "nbformat": 3,
 "nbformat_minor": 0,
 "worksheets": [
  {
   "cells": [
    {
     "cell_type": "heading",
     "level": 1,
     "metadata": {},
     "source": [
      "Chapter 5 Fundamentals of frequency modulation"
     ]
    },
    {
     "cell_type": "heading",
     "level": 2,
     "metadata": {},
     "source": [
      "Example 5.1 Page no 153"
     ]
    },
    {
     "cell_type": "code",
     "collapsed": false,
     "input": [
      "#Given\n",
      "f = 915*10**6\n",
      "fm_deviation =12.5*10**3\n",
      "\n",
      "#Calculation\n",
      "max_deviation = f + fm_deviation\n",
      "min_deviation = f - fm_deviation\n",
      "\n",
      "#Result\n",
      "print\"Maximum frequency occur during modulation is \",max_deviation/1000.0,\"KHz\"\n",
      "print\"Minimum frequency occur during modulation is \",min_deviation/1000.0,\"KHz\"\n",
      "\n"
     ],
     "language": "python",
     "metadata": {},
     "outputs": [
      {
       "output_type": "stream",
       "stream": "stdout",
       "text": [
        "Maximum frequency occur during modulation is  915012.5 KHz\n",
        "Minimum frequency occur during modulation is  914987.5 KHz\n"
       ]
      }
     ],
     "prompt_number": 1
    },
    {
     "cell_type": "heading",
     "level": 2,
     "metadata": {},
     "source": [
      "Example 5.2 Page no 160"
     ]
    },
    {
     "cell_type": "code",
     "collapsed": false,
     "input": [
      "#Given\n",
      "max_deviation = 25*10**3\n",
      "fm =15.0*10**3\n",
      "\n",
      "#Calculation\n",
      "mf =max_deviation/fm\n",
      "\n",
      "#Result\n",
      "print\"The deviation ratio of the TV sound is \",round(mf,3)\n"
     ],
     "language": "python",
     "metadata": {},
     "outputs": [
      {
       "output_type": "stream",
       "stream": "stdout",
       "text": [
        "The deviation ratio of the TV sound is  1.667\n"
       ]
      }
     ],
     "prompt_number": 1
    },
    {
     "cell_type": "heading",
     "level": 2,
     "metadata": {},
     "source": [
      "Example 5.3 Page no 162"
     ]
    },
    {
     "cell_type": "code",
     "collapsed": false,
     "input": [
      "#Given\n",
      "mf = 2.2\n",
      "fd = 7.48*10**3\n",
      "\n",
      "#Calculation\n",
      "fm = fd/mf\n",
      "\n",
      "#Result\n",
      "print\"The maximum modulating frequency is \",fm/1000.0,\"KHz\"\n"
     ],
     "language": "python",
     "metadata": {},
     "outputs": [
      {
       "output_type": "stream",
       "stream": "stdout",
       "text": [
        "The maximum modulating frequency is  3.4 KHz\n"
       ]
      }
     ],
     "prompt_number": 3
    },
    {
     "cell_type": "heading",
     "level": 2,
     "metadata": {},
     "source": [
      "Example 5.4 Page no 164"
     ]
    },
    {
     "cell_type": "code",
     "collapsed": false,
     "input": [
      "#Given\n",
      "J0 = -0.4\n",
      "J1 = -0.07\n",
      "J2 = 0.36\n",
      "J3 = 0.43\n",
      "J4 = 0.28\n",
      "\n",
      "#Result\n",
      "print\"The amplitude of the carrier is \",J0\n",
      "print\"Amplitudes of the first four sidebands are \",\" \\n \", J1,\"\\n \",J2,\"\\n \",J3,\"\\n \",J4\n"
     ],
     "language": "python",
     "metadata": {},
     "outputs": [
      {
       "output_type": "stream",
       "stream": "stdout",
       "text": [
        "The amplitude of the carrier is  -0.4\n",
        "Amplitudes of the first four sidebands are   \n",
        "  -0.07 \n",
        "  0.36 \n",
        "  0.43 \n",
        "  0.28\n"
       ]
      }
     ],
     "prompt_number": 6
    },
    {
     "cell_type": "heading",
     "level": 2,
     "metadata": {},
     "source": [
      "Example 5.5 Page no 165"
     ]
    },
    {
     "cell_type": "code",
     "collapsed": false,
     "input": [
      "#Given\n",
      "fd = 30*10**3\n",
      "fm = 5*10**3\n",
      "N=9\n",
      "\n",
      "#Calculation\n",
      "bw1 = 2*fm*N\n",
      "bw2 = 2*(fd+fm)\n",
      "\n",
      "#Result\n",
      "print\"The maximum bandwidth of the fm signal is \",bw1/10**3,\"KHz\"\n",
      "print\"Bandwidth using carson's rule \",bw2/10**3,\"KHz\"\n"
     ],
     "language": "python",
     "metadata": {},
     "outputs": [
      {
       "output_type": "stream",
       "stream": "stdout",
       "text": [
        "The maximum bandwidth of the fm signal is  90 KHz\n",
        "Bandwidth using carson's rule  70 KHz\n"
       ]
      }
     ],
     "prompt_number": 13
    },
    {
     "cell_type": "heading",
     "level": 2,
     "metadata": {},
     "source": [
      "Example 5.6 Page no 167"
     ]
    },
    {
     "cell_type": "code",
     "collapsed": false,
     "input": [
      "#Given\n",
      "S_N = 2.8\n",
      "fm = 1.5*10**3\n",
      "fd =4*10**3\n",
      "\n",
      "#Calculation\n",
      "import math\n",
      "fi= math.asin(1/S_N)\n",
      "delta = fi*fm\n",
      "SN =fd/delta\n",
      "\n",
      "#Result\n",
      "print\"(a) The frequency deviation caused by the noise \",round(delta,1),\"Hz\"\n",
      "print\"(b) The improved output signal to noise ratio is \",round(SN,1)\n"
     ],
     "language": "python",
     "metadata": {},
     "outputs": [
      {
       "output_type": "stream",
       "stream": "stdout",
       "text": [
        "(a) The frequency deviation caused by the noise  547.8 Hz\n",
        "(b) The improved output signal to noise ratio is  7.3\n"
       ]
      }
     ],
     "prompt_number": 21
    }
   ],
   "metadata": {}
  }
 ]
}