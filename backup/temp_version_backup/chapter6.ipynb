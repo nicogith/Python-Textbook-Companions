{
 "metadata": {
  "name": "",
  "signature": "sha256:aac83d9b958acba775304d5e53683242c3be955e852f2ce5dbe2f25d81f3bf36"
 },
 "nbformat": 3,
 "nbformat_minor": 0,
 "worksheets": [
  {
   "cells": [
    {
     "cell_type": "heading",
     "level": 1,
     "metadata": {},
     "source": [
      "Chapter 6 FM Circuits"
     ]
    },
    {
     "cell_type": "heading",
     "level": 2,
     "metadata": {},
     "source": [
      "Example 6.1 Page no 178"
     ]
    },
    {
     "cell_type": "code",
     "collapsed": false,
     "input": [
      "#Given\n",
      "Vc =40*10**-12\n",
      "c = 20*10**-12\n",
      "f0 = 5.5*10**6\n",
      "Ct = Vc+c\n",
      "\n",
      "#Calculation\n",
      "L = 1/((6.28*f0)**2*Ct)\n",
      "\n",
      "#Result\n",
      "print\"The value of the inductance is \",round(L*10**6,0),\"microhenry\"\n"
     ],
     "language": "python",
     "metadata": {},
     "outputs": [
      {
       "output_type": "stream",
       "stream": "stdout",
       "text": [
        "The value of the inductance is  14.0 microhenry\n"
       ]
      }
     ],
     "prompt_number": 1
    },
    {
     "cell_type": "heading",
     "level": 2,
     "metadata": {},
     "source": [
      "Example 6.2 Page no 186"
     ]
    },
    {
     "cell_type": "code",
     "collapsed": false,
     "input": [
      "#Given\n",
      "f=168.96*10**6\n",
      "multiplier=24.0\n",
      "deviation = 5*10**3\n",
      "fm = 2.8*10**3\n",
      "\n",
      "#Calculation\n",
      "f0 =f/multiplier\n",
      "fd= deviation/multiplier\n",
      "phaseshift = fd/fm\n",
      "phaseshift_degrees = phaseshift*57.3\n",
      "total_phaseshift =2*phaseshift_degrees\n",
      "\n",
      "#Result\n",
      "print\"(a) The crystal oscillator frequency is \",f0/10**6,\"MHz\"\n",
      "print\"(b) The total phase shift is \",round(total_phaseshift,3),\"degree\"\n",
      "\n",
      "\n"
     ],
     "language": "python",
     "metadata": {},
     "outputs": [
      {
       "output_type": "stream",
       "stream": "stdout",
       "text": [
        "(a) The crystal oscillator frequency is  7.04 MHz\n",
        "(b) The total phase shift is  8.527 degree\n"
       ]
      }
     ],
     "prompt_number": 2
    },
    {
     "cell_type": "heading",
     "level": 2,
     "metadata": {},
     "source": [
      "Example 6.3 Page no 187"
     ]
    },
    {
     "cell_type": "code",
     "collapsed": false,
     "input": [
      "#Given\n",
      "R =1*10**3\n",
      "phaseshift =4.263\n",
      "phaseshift_center= 45\n",
      "f =7.04*10**6\n",
      "\n",
      "#Calculation\n",
      "phase_l = phaseshift_center - phaseshift\n",
      "phase_u = phaseshift_center + phaseshift\n",
      "phaserange_total = phase_u - phase_l\n",
      "Xc1 = 1161\n",
      "C1 = 1/(6.28*f*Xc1)\n",
      "Xc2 = 861\n",
      "C2 = 1/(6.28*f*Xc2)\n",
      "\n",
      "#Result\n",
      "print\"The two values of the capacitance to achieve total deviation are \",round(C1*10**12,1),\"pf to\",round(C2*10**12,1),\"pf\"\n"
     ],
     "language": "python",
     "metadata": {},
     "outputs": [
      {
       "output_type": "stream",
       "stream": "stdout",
       "text": [
        "The two values of the capacitance to achieve total deviation are  19.5 pf to 26.3 pf\n"
       ]
      }
     ],
     "prompt_number": 5
    }
   ],
   "metadata": {}
  }
 ]
}