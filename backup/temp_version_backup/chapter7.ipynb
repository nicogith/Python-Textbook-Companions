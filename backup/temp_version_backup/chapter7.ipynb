{
 "metadata": {
  "name": "",
  "signature": "sha256:13e4ad42742896befb0b329fd930804197555dd5705f1dd526b017e9117b7b00"
 },
 "nbformat": 3,
 "nbformat_minor": 0,
 "worksheets": [
  {
   "cells": [
    {
     "cell_type": "heading",
     "level": 1,
     "metadata": {},
     "source": [
      "Chapter 7 Digital communication techniques"
     ]
    },
    {
     "cell_type": "heading",
     "level": 2,
     "metadata": {},
     "source": [
      "Example 7.1 Page no 210"
     ]
    },
    {
     "cell_type": "code",
     "collapsed": false,
     "input": [
      "#Given\n",
      "t = 71.4*10**-6\n",
      "\n",
      "#calculation\n",
      "f = 1/t\n",
      "fourth_harmonic = f*4\n",
      "min_sampling = 2*fourth_harmonic\n",
      "\n",
      "#Result\n",
      "print\"(a) The frequency of the signal is \",round(f/10**3,1),\"KHz\"\n",
      "print\"(b) The fourth harmonic is \",round(fourth_harmonic/10**3,0),\"KHz\"\n",
      "print\"(c) Minimum sampling rate is \",round(min_sampling/10**3,0),\"KHz\"\n"
     ],
     "language": "python",
     "metadata": {},
     "outputs": [
      {
       "output_type": "stream",
       "stream": "stdout",
       "text": [
        "(a) The frequency of the signal is  14.0 KHz\n",
        "(b) The fourth harmonic is  56.0 KHz\n",
        "(c) Minimum sampling rate is  112.0 KHz\n"
       ]
      }
     ],
     "prompt_number": 3
    },
    {
     "cell_type": "heading",
     "level": 2,
     "metadata": {},
     "source": [
      "Example 7.2 Page no 222"
     ]
    },
    {
     "cell_type": "code",
     "collapsed": false,
     "input": [
      "#Given\n",
      "N = 14\n",
      "discrete_levels = 2.0**N\n",
      "\n",
      "#Calculation\n",
      "num_vltg_inc =2**N-1\n",
      "resolution = 12/discrete_levels \n",
      "\n",
      "#Result\n",
      "print\"(a) The numbedr of discrete levels that are represented using N number of bits are \",discrete_levels\n",
      "print\"(b) the number odf voltage increments required to divide the voltage range are \",num_vltg_inc\n",
      "print\"(c) Resolution of the digitization \",round(resolution*10**6,2),\"microvolt\"\n"
     ],
     "language": "python",
     "metadata": {},
     "outputs": [
      {
       "output_type": "stream",
       "stream": "stdout",
       "text": [
        "(a) The numbedr of discrete levels that are represented using N number of bits are  16384.0\n",
        "(b) the number odf voltage increments required to divide the voltage range are  16383\n",
        "(c) Resolution of the digitization  732.42 microvolt\n"
       ]
      }
     ],
     "prompt_number": 5
    },
    {
     "cell_type": "heading",
     "level": 2,
     "metadata": {},
     "source": [
      "Example 7.3 Page no 225"
     ]
    },
    {
     "cell_type": "code",
     "collapsed": false,
     "input": [
      "#Given\n",
      "N =12\n",
      "SINAD1=78\n",
      "\n",
      "#Calculation\n",
      "SINAD2 = 6.02*N + 1.76\n",
      "ENOB =(SINAD1 -1.76)/6.02\n",
      "\n",
      "#Result\n",
      "print\"(a) The SINAD for 12 bit convertre is \",SINAD2,\"db\"\n",
      "print\"(b) The ENOB for the converter with SINAD of 78 dB is \",round(ENOB,2),\"bits\"   \n"
     ],
     "language": "python",
     "metadata": {},
     "outputs": [
      {
       "output_type": "stream",
       "stream": "stdout",
       "text": [
        "(a) The SINAD for 12 bit convertre is  74.0 db\n",
        "(b) The ENOB for the converter with SINAD of 78 dB is  12.66 bits\n"
       ]
      }
     ],
     "prompt_number": 7
    },
    {
     "cell_type": "heading",
     "level": 2,
     "metadata": {},
     "source": [
      "Example 7.4 Page no 233"
     ]
    },
    {
     "cell_type": "code",
     "collapsed": false,
     "input": [
      "#Gievn\n",
      "Vm = 1.0\n",
      "Vin = 0.25\n",
      "mu =255\n",
      "\n",
      "#Calculation\n",
      "import math\n",
      "Vout = (Vm*log(1+mu*(Vin/Vm)))/log(1+mu)\n",
      "gain =Vout/Vin\n",
      "\n",
      "#Result\n",
      "print\"The output voltage of the compander \",round(Vout,2),\"volt\"\n",
      "print\"Gain of the compander is \",round(gain,0)\n"
     ],
     "language": "python",
     "metadata": {},
     "outputs": [
      {
       "output_type": "stream",
       "stream": "stdout",
       "text": [
        "The output voltage of the compander  0.75 volt\n",
        "Gain of the compander is  3.0\n"
       ]
      }
     ],
     "prompt_number": 9
    },
    {
     "cell_type": "heading",
     "level": 2,
     "metadata": {},
     "source": [
      "Example 7.5 Page no 234"
     ]
    },
    {
     "cell_type": "code",
     "collapsed": false,
     "input": [
      "#Given\n",
      "Vin = 0.8\n",
      "Vm =1.0\n",
      "mu =255\n",
      "\n",
      "#Calculation\n",
      "import math\n",
      "Vout = (Vm*math.log(1+mu*(Vin/Vm)))/math.log(1+mu)\n",
      "gain =Vout/Vin\n",
      "\n",
      "#Result\n",
      "print\"The output voltage of the compander \",round(Vout,1),\"volt\"\n",
      "print\"Gain of the compander is \",round(gain,1)\n"
     ],
     "language": "python",
     "metadata": {},
     "outputs": [
      {
       "output_type": "stream",
       "stream": "stdout",
       "text": [
        "The output voltage of the compander  1.0 volt\n",
        "Gain of the compander is  1.2\n"
       ]
      }
     ],
     "prompt_number": 14
    }
   ],
   "metadata": {}
  }
 ]
}