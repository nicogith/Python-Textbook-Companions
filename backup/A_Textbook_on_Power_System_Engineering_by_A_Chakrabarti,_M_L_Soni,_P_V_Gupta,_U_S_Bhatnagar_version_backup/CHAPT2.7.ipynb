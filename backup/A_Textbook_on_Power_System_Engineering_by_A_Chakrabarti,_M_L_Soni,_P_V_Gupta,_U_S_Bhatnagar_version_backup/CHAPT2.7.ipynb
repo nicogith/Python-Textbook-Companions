{
 "metadata": {
  "name": ""
 },
 "nbformat": 3,
 "nbformat_minor": 0,
 "worksheets": [
  {
   "cells": [
    {
     "cell_type": "heading",
     "level": 1,
     "metadata": {},
     "source": [
      "CHAPTER 2.7: UNDERGROUND CABLES"
     ]
    },
    {
     "cell_type": "heading",
     "level": 2,
     "metadata": {},
     "source": [
      "Example 2.7.1, Page number 211"
     ]
    },
    {
     "cell_type": "code",
     "collapsed": false,
     "input": [
      "import math\n",
      "\n",
      "#Variable declaration\n",
      "d = 2.5              #Core diameter(cm)\n",
      "t = 1.25             #Insulation thickness(cm)\n",
      "rho = 4.5*10**14     #Resistivity of insulation(ohm-cm)\n",
      "l = 10.0**5          #Length(cm)\n",
      "\n",
      "#Calculation\n",
      "D = d+2*t                                #Overall diameter(cm)\n",
      "R_i = rho/(2*math.pi*l)*math.log(D/d)    #Insulation resistance(ohm)\n",
      "\n",
      "#Result\n",
      "print('Insulation resistance per km, R_i = %.2e ohm' %R_i)\n",
      "print('\\nNOTE: ERROR: Mistake in final answer in textbook')"
     ],
     "language": "python",
     "metadata": {},
     "outputs": [
      {
       "output_type": "stream",
       "stream": "stdout",
       "text": [
        "Insulation resistance per km, R_i = 4.96e+08 ohm\n",
        "\n",
        "NOTE: ERROR: Mistake in final answer in textbook\n"
       ]
      }
     ],
     "prompt_number": 1
    },
    {
     "cell_type": "heading",
     "level": 2,
     "metadata": {},
     "source": [
      "Example 2.7.2, Page number 211"
     ]
    },
    {
     "cell_type": "code",
     "collapsed": false,
     "input": [
      "import math\n",
      "import cmath\n",
      "\n",
      "#Variable declaration\n",
      "R = 495.0*10**6      #Insulation resistance(ohm/km)\n",
      "d = 3.0              #Core diameter(cm)\n",
      "rho = 4.5*10**14     #Resistivity of insulation(ohm-cm)\n",
      "\n",
      "#Calculation\n",
      "l = 1000.0                               #Length of cable(m)\n",
      "r_2 = d/2.0                              #Core radius(cm)\n",
      "Rho = rho/100.0                          #Resistivity of insulation(ohm-m)\n",
      "r1_r2 = cmath.exp((2*math.pi*l*R)/Rho)   #r1/r2\n",
      "r_1 = 2*r_2                              #Cable radius(cm)\n",
      "thick = r_1-r_2                          #Insulation thickness(cm)\n",
      "\n",
      "#Result\n",
      "print('Insulation thickness = %.1f cm' %thick)"
     ],
     "language": "python",
     "metadata": {},
     "outputs": [
      {
       "output_type": "stream",
       "stream": "stdout",
       "text": [
        "Insulation thickness = 1.5 cm\n"
       ]
      }
     ],
     "prompt_number": 1
    },
    {
     "cell_type": "heading",
     "level": 2,
     "metadata": {},
     "source": [
      "Example 2.7.3, Page number 212"
     ]
    },
    {
     "cell_type": "code",
     "collapsed": false,
     "input": [
      "import math\n",
      "\n",
      "#Variable declaration\n",
      "V = 66.0*10**3        #Line Voltage(V)\n",
      "l = 1.0               #Length of cable(km)\n",
      "d = 15.0              #Core diameter(cm)\n",
      "D = 60.0              #Sheath diameter(cm)\n",
      "e_r = 3.6             #Relative permittivity\n",
      "f = 50.0              #Frequency(Hz)\n",
      "\n",
      "#Calculation\n",
      "C = e_r/(18.0*math.log(D/d))*l          #Capacitance(\u00b5F)\n",
      "I_ch = V/3**0.5*2*math.pi*f*C*10**-6    #Charging current(A)\n",
      "\n",
      "#Result\n",
      "print('Capacitance, C = %.3f \u00b5F' %C)\n",
      "print('Charging current = %.2f A' %I_ch)"
     ],
     "language": "python",
     "metadata": {},
     "outputs": [
      {
       "output_type": "stream",
       "stream": "stdout",
       "text": [
        "Capacitance, C = 0.144 \u00b5F\n",
        "Charging current = 1.73 A\n"
       ]
      }
     ],
     "prompt_number": 1
    },
    {
     "cell_type": "heading",
     "level": 2,
     "metadata": {},
     "source": [
      "Example 2.7.4, Page number 212"
     ]
    },
    {
     "cell_type": "code",
     "collapsed": false,
     "input": [
      "#Variable declaration\n",
      "V_l = 132.0         #Line Voltage(kV)\n",
      "g_max = 60.0        #Maximum Line Voltage(kV)\n",
      "\n",
      "#Calculation\n",
      "V = V_l/3**0.5*2**0.5     #Phase Voltage(kV)\n",
      "d = 2*V/g_max             #Core diameter(cm)\n",
      "D = 2.718*d               #Overall diameter(cm)\n",
      "\n",
      "#Result\n",
      "print('Overall diameter of the insulation, D = %.3f cm' %D)"
     ],
     "language": "python",
     "metadata": {},
     "outputs": [
      {
       "output_type": "stream",
       "stream": "stdout",
       "text": [
        "Overall diameter of the insulation, D = 9.765 cm\n"
       ]
      }
     ],
     "prompt_number": 1
    },
    {
     "cell_type": "heading",
     "level": 2,
     "metadata": {},
     "source": [
      "Example 2.7.6, Page number 212-213"
     ]
    },
    {
     "cell_type": "code",
     "collapsed": false,
     "input": [
      "import math\n",
      "\n",
      "#Variable declaration\n",
      "V = 11.0*10**3        #Line Voltage(V)\n",
      "dia_out = 8.0         #Outside diameter(cm)\n",
      "\n",
      "#Calculation\n",
      "D = dia_out/2.0                      #Overall diameter(cm)\n",
      "d = (D)/2.718                        #Conductor diameter(cm)\n",
      "r = d/2                              #Conductor radius(cm)\n",
      "g_m = 2*V/(d*math.log(D/d)*10)       #Maximum value of electric field strength(kV/m)\n",
      "\n",
      "#Result\n",
      "print('Conductor radius, r = %.3f cm' %r)\n",
      "print('Electric field strength that must be withstood, g_m = %.f kV/m' %g_m)"
     ],
     "language": "python",
     "metadata": {},
     "outputs": [
      {
       "output_type": "stream",
       "stream": "stdout",
       "text": [
        "Conductor radius, r = 0.736 cm\n",
        "Electric field strength that must be withstood, g_m = 1495 kV/m\n"
       ]
      }
     ],
     "prompt_number": 1
    },
    {
     "cell_type": "heading",
     "level": 2,
     "metadata": {},
     "source": [
      "Example 2.7.7, Page number 214"
     ]
    },
    {
     "cell_type": "code",
     "collapsed": false,
     "input": [
      "#Variable declaration\n",
      "R_3 = 1.00            #Cable radius(cm)\n",
      "R_1 = 2.5             #Cable radius(cm)\n",
      "\n",
      "#Calculation\n",
      "R_2 = (R_1*R_3)**0.5      #Location of intersheath(cm)\n",
      "alpha = R_1/R_2           #\u03b1\n",
      "ratio = 2.0/(1+alpha)     #Ratio of maximum electric field strength with & without intersheath\n",
      "\n",
      "#Result\n",
      "print('Location of intersheath, R_2 = %.2f cm' %R_2)\n",
      "print('Ratio of maximum electric field strength with & without intersheath = %.3f ' %ratio)"
     ],
     "language": "python",
     "metadata": {},
     "outputs": [
      {
       "output_type": "stream",
       "stream": "stdout",
       "text": [
        "Location of intersheath, R_2 = 1.58 cm\n",
        "Ratio of maximum electric field strength with & without intersheath = 0.775 \n"
       ]
      }
     ],
     "prompt_number": 1
    },
    {
     "cell_type": "heading",
     "level": 2,
     "metadata": {},
     "source": [
      "Example 2.7.8, Page number 215"
     ]
    },
    {
     "cell_type": "code",
     "collapsed": false,
     "input": [
      "import math\n",
      "\n",
      "#Variable declaration\n",
      "V = 33.0              #Line Voltage(kV)\n",
      "D_2 = 2.0             #Conductor diameter(cm)\n",
      "D_1 = 3.0             #Sheath diameter(cm)\n",
      "\n",
      "#Calculation\n",
      "R_2 = D_2/2                         #Conductor radius(cm)\n",
      "R_1 = D_1/2                         #Sheath radius(cm)\n",
      "g_max = V/(R_2*math.log(R_1/R_2))   #RMS value of maximum stress in the insulation(kV/cm)\n",
      "g_min = V/(R_1*math.log(R_1/R_2))   #RMS value of minimum stress in the insulation(kV/cm)\n",
      "\n",
      "#Result\n",
      "print('Maximum stress in the insulation, g_max = %.2f kV/cm (rms)' %g_max)\n",
      "print('Minimum stress in the insulation, g_min = %.2f kV/cm (rms)' %g_min)"
     ],
     "language": "python",
     "metadata": {},
     "outputs": [
      {
       "output_type": "stream",
       "stream": "stdout",
       "text": [
        "Maximum stress in the insulation, g_max = 81.39 kV/cm (rms)\n",
        "Minimum stress in the insulation, g_min = 54.26 kV/cm (rms)\n"
       ]
      }
     ],
     "prompt_number": 1
    },
    {
     "cell_type": "heading",
     "level": 2,
     "metadata": {},
     "source": [
      "Example 2.7.9, Page number 215"
     ]
    },
    {
     "cell_type": "code",
     "collapsed": false,
     "input": [
      "import math\n",
      "\n",
      "#Variable declaration\n",
      "d = 2.5             #Conductor diameter(cm)\n",
      "D = 6.0             #Sheath diameter(cm)\n",
      "V_l = 66.0          #Line Voltage(kV)\n",
      "\n",
      "#Calculation\n",
      "alpha = (D/d)**(1.0/3)               #\u03b1\n",
      "d_1 = d*alpha                        #Best position of first intersheath(cm)\n",
      "d_2 = d_1*alpha                      #Best position of second intersheath(cm)\n",
      "V = V_l/3**0.5*2**0.5                #Peak voltage on core(kV)\n",
      "V_2 = V/(1+(1/alpha)+(1/alpha**2))   #Peak voltage on second intersheath(kV)\n",
      "V_1 = (1+(1/alpha))*V_2              #Voltage on first intersheath(kV)\n",
      "stress_max = 2*V/(d*math.log(D/d))   #Maximum stress without intersheath(kV/cm)\n",
      "stress_min = stress_max*d/D          #Minimum stress without intersheath(kV/cm)\n",
      "g_max = V*3/(1+alpha+alpha**2)       #Maximum stress with intersheath(kV/cm)\n",
      "\n",
      "#Result\n",
      "print('Maximum stress without intersheath = %.2f kV/cm' %stress_max)\n",
      "print('Best position of first intersheath, d_1 = %.2f cm' %d_1)\n",
      "print('Best position of second intersheath, d_2 = %.3f cm' %d_2)\n",
      "print('Maximum stress with intersheath = %.2f kV/cm' %g_max)\n",
      "print('Voltage on the first intersheath, V_1 = %.2f kV' %V_1)\n",
      "print('Voltage on the second intersheath, V_2 = %.2f kV' %V_2)\n",
      "print('\\nNOTE: Changes in the obtained answer is due to more precision here') "
     ],
     "language": "python",
     "metadata": {},
     "outputs": [
      {
       "output_type": "stream",
       "stream": "stdout",
       "text": [
        "Maximum stress without intersheath = 49.24 kV/cm\n",
        "Best position of first intersheath, d_1 = 3.35 cm\n",
        "Best position of second intersheath, d_2 = 4.481 cm\n",
        "Maximum stress with intersheath = 39.13 kV/cm\n",
        "Voltage on the first intersheath, V_1 = 40.85 kV\n",
        "Voltage on the second intersheath, V_2 = 23.38 kV\n",
        "\n",
        "NOTE: Changes in the obtained answer is due to more precision here\n"
       ]
      }
     ],
     "prompt_number": 1
    },
    {
     "cell_type": "heading",
     "level": 2,
     "metadata": {},
     "source": [
      "Example 2.7.10, Page number 215-216"
     ]
    },
    {
     "cell_type": "code",
     "collapsed": false,
     "input": [
      "import math\n",
      "\n",
      "#Variable declaration\n",
      "e_1 = 3.6           #Inner relative permittivity\n",
      "e_2 = 2.5           #Outer relative permittivity\n",
      "d = 1.0             #Conductor diameter(cm)\n",
      "d_1 = 3.0           #Sheath diameter(cm)\n",
      "D = 5.0             #Overall diameter(cm)\n",
      "V_l = 66.0          #Line Voltage(kV)\n",
      "\n",
      "#Calculation\n",
      "V = V_l/3**0.5*2**0.5                                          #Peak voltage on core(kV)\n",
      "g1_max = 2*V/(d*(math.log(d_1/d)+e_1/e_2*math.log(D/d_1)))     #Maximum stress in first dielectric(kV/km)\n",
      "g2_max = 2*V/(d_1*(e_2/e_1*math.log(d_1/d)+math.log(D/d_1)))   #Maximum stress in second dielectric(kV/km)\n",
      "\n",
      "#Result\n",
      "print('Maximum stress in first dielectric, g_1_max = %.2f kV/km' %g1_max)\n",
      "print('Maximum stress in second dielectric, g_2_max = %.2f kV/km' %g2_max)"
     ],
     "language": "python",
     "metadata": {},
     "outputs": [
      {
       "output_type": "stream",
       "stream": "stdout",
       "text": [
        "Maximum stress in first dielectric, g_1_max = 58.76 kV/km\n",
        "Maximum stress in second dielectric, g_2_max = 28.20 kV/km\n"
       ]
      }
     ],
     "prompt_number": 1
    },
    {
     "cell_type": "heading",
     "level": 2,
     "metadata": {},
     "source": [
      "Example 2.7.11, Page number 216-217"
     ]
    },
    {
     "cell_type": "code",
     "collapsed": false,
     "input": [
      "#Variable declaration\n",
      "V = 85.0          #Line Voltage(kV)\n",
      "g_max = 55.0      #Maximum stress(kV/cm)\n",
      "\n",
      "#Calculation\n",
      "V_1 = 0.632*V         #Intersheath potential(kV)\n",
      "d = 0.736*V/g_max     #Core diameter(cm)\n",
      "d_1 = 2*V/g_max       #Intersheath diameter(cm)\n",
      "D = 3.76*V/g_max      #Overall diameter(cm)\n",
      "d_un = 2*V/g_max      #Core diameter of ungraded cable(cm)\n",
      "D_un = 2.718*d_1      #Overall diameter of ungraded cable(cm)\n",
      "\n",
      "#Result\n",
      "print('Diameter of intersheath, d_1 = %.2f cm' %d_1)\n",
      "print('Voltage of intersheath, V_1 = %.2f kV, to neutral' %V_1)\n",
      "print('Conductor diameter of graded cable, d = %.2f cm' %d)\n",
      "print('Outside diameter of graded cable, D = %.2f cm' %D)\n",
      "print('Conductor diameter of ungraded cable, d = %.2f cm' %d_un)\n",
      "print('Outside diameter of ungraded cable, D = %.2f cm' %D_un)"
     ],
     "language": "python",
     "metadata": {},
     "outputs": [
      {
       "output_type": "stream",
       "stream": "stdout",
       "text": [
        "Diameter of intersheath, d_1 = 3.09 cm\n",
        "Voltage of intersheath, V_1 = 53.72 kV, to neutral\n",
        "Conductor diameter of graded cable, d = 1.14 cm\n",
        "Outside diameter of graded cable, D = 5.81 cm\n",
        "Conductor diameter of ungraded cable, d = 3.09 cm\n",
        "Outside diameter of ungraded cable, D = 8.40 cm\n"
       ]
      }
     ],
     "prompt_number": 1
    },
    {
     "cell_type": "heading",
     "level": 2,
     "metadata": {},
     "source": [
      "Example 2.7.12, Page number 219"
     ]
    },
    {
     "cell_type": "code",
     "collapsed": false,
     "input": [
      "import math\n",
      "\n",
      "#Variable declaration\n",
      "c = 0.3         #Capacitance b/w any 2 conductor & sheath earthed(\u00b5F/km)\n",
      "l = 10.0        #Length(km)\n",
      "V = 33.0        #Line Voltage(kV)\n",
      "f = 50.0        #Frequency(Hz)\n",
      "\n",
      "#Calculation\n",
      "C_eq = l*c                            #Capacitance b/w any 2 conductor & sheath earthed(\u00b5F)\n",
      "C_p = 2.0*C_eq                        #Capacitance per phase(\u00b5F)\n",
      "kVA = V**2*2*math.pi*f*C_p/1000.0     #Three-phase kVA required(kVA)\n",
      "\n",
      "#Result\n",
      "print('Equivalent star connected capacity, C_eq = %.f \u00b5F' %C_eq)\n",
      "print('kVA required = %.1f kVA' %kVA)"
     ],
     "language": "python",
     "metadata": {},
     "outputs": [
      {
       "output_type": "stream",
       "stream": "stdout",
       "text": [
        "Equivalent star connected capacity, C_eq = 3 \u00b5F\n",
        "kVA required = 2052.7 kVA\n"
       ]
      }
     ],
     "prompt_number": 1
    },
    {
     "cell_type": "heading",
     "level": 2,
     "metadata": {},
     "source": [
      "Example 2.7.13, Page number 219"
     ]
    },
    {
     "cell_type": "code",
     "collapsed": false,
     "input": [
      "import math\n",
      "\n",
      "#Variable declaration\n",
      "V = 11.0*10**3    #Line Voltage(V)\n",
      "f = 50.0          #Frequency(Hz)\n",
      "C_c = 3.7         #Measured capacitance(\u00b5F)\n",
      "\n",
      "#Calculation\n",
      "C_0 = 2*C_c                                   #Capacitance(\u00b5F)\n",
      "I_ch = 2*math.pi*f*C_0*V/3**0.5*10**-6        #Charging current per phase(A)\n",
      "\n",
      "#Result\n",
      "print('Charging current drawn by a cable = %.2f A' %I_ch)"
     ],
     "language": "python",
     "metadata": {},
     "outputs": [
      {
       "output_type": "stream",
       "stream": "stdout",
       "text": [
        "Charging current drawn by a cable = 14.76 A\n"
       ]
      }
     ],
     "prompt_number": 1
    },
    {
     "cell_type": "heading",
     "level": 2,
     "metadata": {},
     "source": [
      "Example 2.7.14, Page number 219-220"
     ]
    },
    {
     "cell_type": "code",
     "collapsed": false,
     "input": [
      "import math\n",
      "\n",
      "#Variable declaration\n",
      "c_s = 0.90        #Capacitance b/w all conductors(\u00b5F)\n",
      "C_0 = 0.4         #Capacitance b/w two conductor(\u00b5F)\n",
      "V = 11.0*10**3    #Line Voltage(V)\n",
      "f = 50.0          #Frequency(Hz)\n",
      "\n",
      "#Calculation\n",
      "C_s = c_s/3.0                              #Capacitance measured(\u00b5F)\n",
      "C_c = (C_0-C_s)/2.0                        #Capacitance(\u00b5F)\n",
      "C_a = 3.0/2*(C_c+(1/3.0)*C_s)              #Capacitance b/w any two conductors(\u00b5F)\n",
      "C_b = 2.0*C_c+(2.0/3)*C_s                  #Capacitance b/w any two bounded conductors and the third conductor(\u00b5F)\n",
      "C_o = 3.0*C_c+C_s                          #Capacitance to neutral(\u00b5F)\n",
      "I_c = 2.0*math.pi*f*C_o*V/3**0.5*10**-6    #Charging current(A)\n",
      "\n",
      "#Result\n",
      "print('Case(a): Capacitance between any two conductors = %.3f \u00b5F' %C_a)\n",
      "print('Case(b): Capacitance between any two bounded conductors and the third conductor = %.1f \u00b5F' %C_b)\n",
      "print('Case(c): Capacitance to neutral, C_0 = %.2f \u00b5F' %C_o)\n",
      "print('         Charging current taken by cable, I_c = %.3f A' %I_c)\n",
      "print('\\nNOTE: ERROR: Calculation mistakes in textbook answer')"
     ],
     "language": "python",
     "metadata": {},
     "outputs": [
      {
       "output_type": "stream",
       "stream": "stdout",
       "text": [
        "Case(a): Capacitance between any two conductors = 0.225 \u00b5F\n",
        "Case(b): Capacitance between any two bounded conductors and the third conductor = 0.3 \u00b5F\n",
        "Case(c): Capacitance to neutral, C_0 = 0.45 \u00b5F\n",
        "         Charging current taken by cable, I_c = 0.898 A\n",
        "\n",
        "NOTE: ERROR: Calculation mistakes in textbook answer\n"
       ]
      }
     ],
     "prompt_number": 1
    },
    {
     "cell_type": "heading",
     "level": 2,
     "metadata": {},
     "source": [
      "Example 2.7.15, Page number 220-221"
     ]
    },
    {
     "cell_type": "code",
     "collapsed": false,
     "input": [
      "import math\n",
      "\n",
      "#Variable declaration\n",
      "V = 13.2*10**3    #Line Voltage(V)\n",
      "f = 50.0          #Frequency(Hz)\n",
      "C_BC = 4.2        #Capacitance b/w two cores(\u00b5F)\n",
      "\n",
      "#Calculation\n",
      "C_n = 2.0*C_BC                              #Capacitance to neutral(\u00b5F)\n",
      "V_ph = V/3**0.5                             #Operating phase voltage(V)\n",
      "I_c = 2.0*math.pi*f*C_n*V/3**0.5*10**-6     #Charging current(A)\n",
      "\n",
      "#Result\n",
      "print('Charging current drawn by cable, I_c = %.2f A' %I_c)"
     ],
     "language": "python",
     "metadata": {},
     "outputs": [
      {
       "output_type": "stream",
       "stream": "stdout",
       "text": [
        "Charging current drawn by cable, I_c = 20.11 A\n"
       ]
      }
     ],
     "prompt_number": 1
    },
    {
     "cell_type": "heading",
     "level": 2,
     "metadata": {},
     "source": [
      "Example 2.7.16, Page number 222-223"
     ]
    },
    {
     "cell_type": "code",
     "collapsed": false,
     "input": [
      "import math\n",
      "\n",
      "#Variable declaration\n",
      "V = 33.0*10**3    #Line Voltage(V)\n",
      "f = 50.0          #Frequency(Hz)\n",
      "l = 4.0           #Length(km)\n",
      "d = 2.5           #Diameter of conductor(cm)\n",
      "t = 0.5           #Radial thickness of insulation(cm)\n",
      "e_r = 3.0         #Relative permittivity of the dielectric\n",
      "PF = 0.02         #Power factor of unloaded cable\n",
      "\n",
      "#Calculation\n",
      "#Case(a)\n",
      "r = d/2.0                                         #Radius of conductor(cm)\n",
      "R = r+t                                           #External radius(cm)\n",
      "e_0 = 8.85*10**-12                                #Permittivity\n",
      "C = 2.0*math.pi*e_0*e_r/math.log(R/r)*l*1000      #Capacitance of cable/phase(F)\n",
      "#Case(b)\n",
      "V_ph = V/3**0.5                                   #Phase voltage(V)\n",
      "I_c = V_ph*2.0*math.pi*f*C                        #Charging current/phase(A)\n",
      "#Case(c)\n",
      "kVAR = 3.0*V_ph*I_c                               #Total charging kVAR\n",
      "#Case(d)\n",
      "phi = math.acos(PF)*180/math.pi                   #\u03a6(\u00b0)\n",
      "delta = 90.0-phi                                  #\u03b4(\u00b0)\n",
      "P_c = V_ph*I_c*math.sin(delta*math.pi/180)/1000   #Dielectric loss/phase(kW)\n",
      "#Case(e)\n",
      "E_max = V_ph/(r*math.log(R/r)*1000)               #RMS value of Maximum stress in cable(kV/cm)\n",
      "\n",
      "#Result\n",
      "print('Case(a): Capacitance of the cable, C = %.3e F/phase' %C)\n",
      "print('Case(b): Charging current = %.2f A/phase' %I_c)\n",
      "print('Case(c): Total charging kVAR = %.4e kVAR' %kVAR)\n",
      "print('Case(d): Dielectric loss/phase, P_c = %.2f kW' %P_c)\n",
      "print('Case(e): Maximum stress in the cable, E_max = %.1f kV/cm (rms)' %E_max)"
     ],
     "language": "python",
     "metadata": {},
     "outputs": [
      {
       "output_type": "stream",
       "stream": "stdout",
       "text": [
        "Case(a): Capacitance of the cable, C = 1.983e-06 F/phase\n",
        "Case(b): Charging current = 11.87 A/phase\n",
        "Case(c): Total charging kVAR = 6.7847e+05 kVAR\n",
        "Case(d): Dielectric loss/phase, P_c = 4.52 kW\n",
        "Case(e): Maximum stress in the cable, E_max = 45.3 kV/cm (rms)\n"
       ]
      }
     ],
     "prompt_number": 1
    }
   ],
   "metadata": {}
  }
 ]
}