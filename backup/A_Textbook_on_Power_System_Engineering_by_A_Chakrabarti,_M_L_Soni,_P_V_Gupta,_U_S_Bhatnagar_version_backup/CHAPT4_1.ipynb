{
 "metadata": {
  "name": ""
 },
 "nbformat": 3,
 "nbformat_minor": 0,
 "worksheets": [
  {
   "cells": [
    {
     "cell_type": "heading",
     "level": 1,
     "metadata": {},
     "source": [
      "CHAPTER 4.1: INDUSTRIAL APPLICATIONS OF ELECTRIC MOTORS"
     ]
    },
    {
     "cell_type": "heading",
     "level": 2,
     "metadata": {},
     "source": [
      "Example 4.1.1, Page number 676"
     ]
    },
    {
     "cell_type": "code",
     "collapsed": false,
     "input": [
      "#Variable declaration\n",
      "capital_cost_group = 8000.0       #Capital cost of group drive(Rs)\n",
      "n_single = 5.0                    #Number of individual drive\n",
      "capital_cost_single = 2500.0      #Capital cost of individual drive(Rs)\n",
      "energy_cons_group = 40000.0       #Annual energy consumption of group drive(kWh)\n",
      "energy_cons_single = 30000.0      #Annual energy consumption of group drive(kWh)\n",
      "cost_energy = 8.0/100             #Cost of energy per kWh(Rs)\n",
      "dmo_group = 12.0                  #Depreciation,maintenance & other fixed charges for group drive(%)\n",
      "dmo_single = 18.0                 #Depreciation,maintenance & other fixed charges for individual drive(%)\n",
      "\n",
      "#Calculation\n",
      "#Case(a)\n",
      "annual_cost_energy_a = energy_cons_group*cost_energy   #Annual cost of energy(Rs)\n",
      "dmo_cost_a = capital_cost_group*dmo_group/100          #Depreciation,maintenance & other fixed charges per year for group drive(Rs)\n",
      "yearly_cost_a = annual_cost_energy_a+dmo_cost_a        #Total yearly cost(Rs)\n",
      "#Case(b)\n",
      "total_cost = capital_cost_single*n_single              #Capital cost of individual drive(Rs)\n",
      "annual_cost_energy_b = energy_cons_single*cost_energy  #Annual cost of energy(Rs)\n",
      "dmo_cost_b = total_cost*dmo_single/100                 #Depreciation,maintenance & other fixed charges per year for individual drive(Rs)\n",
      "yearly_cost_b = annual_cost_energy_b+dmo_cost_b        #Total yearly cost(Rs)\n",
      "\n",
      "#Result\n",
      "print('Total annual cost of group drive = Rs. %.f ' %yearly_cost_a)\n",
      "print('Total annual cost of individual drive = Rs. %.f ' %yearly_cost_b)"
     ],
     "language": "python",
     "metadata": {},
     "outputs": [
      {
       "output_type": "stream",
       "stream": "stdout",
       "text": [
        "Total annual cost of group drive = Rs. 4160 \n",
        "Total annual cost of individual drive = Rs. 4650 \n"
       ]
      }
     ],
     "prompt_number": 1
    },
    {
     "cell_type": "heading",
     "level": 2,
     "metadata": {},
     "source": [
      "Example 4.1.2, Page number 680"
     ]
    },
    {
     "cell_type": "code",
     "collapsed": false,
     "input": [
      "#Variable declaration\n",
      "I_sc = 6.0     #Short circuit current = 6 times full load current\n",
      "s_fl = 5.0     #Full load slip(%)\n",
      "tap = 60.0     #Auto-tranformer tapping(%)\n",
      "\n",
      "#Calculation\n",
      "#Case(a)\n",
      "I_s_fl_a = I_sc/3.0                 #I_s/I_fl\n",
      "T_s_fl_a = I_s_fl_a**2*s_fl/100     #Starting torque in terms of full-load torque\n",
      "#Case(b)\n",
      "I_s_fl_b = tap/100*I_sc             #I_s/I_fl\n",
      "T_s_fl_b = I_s_fl_b**2*s_fl/100     #Starting torque in terms of full-load torque\n",
      "\n",
      "#Result\n",
      "print('Case(a): Starting torque in terms of full-load torque, I_s/I_fl = %.1f ' %T_s_fl_a)\n",
      "print('Case(b): Starting torque in terms of full-load torque, I_s/I_fl = %.3f ' %T_s_fl_b)"
     ],
     "language": "python",
     "metadata": {},
     "outputs": [
      {
       "output_type": "stream",
       "stream": "stdout",
       "text": [
        "Case(a): Starting torque in terms of full-load torque, I_s/I_fl = 0.2 \n",
        "Case(b): Starting torque in terms of full-load torque, I_s/I_fl = 0.648 \n"
       ]
      }
     ],
     "prompt_number": 1
    },
    {
     "cell_type": "heading",
     "level": 2,
     "metadata": {},
     "source": [
      "Example 4.1.3, Page number 680-681"
     ]
    },
    {
     "cell_type": "code",
     "collapsed": false,
     "input": [
      "#Variable declaration\n",
      "V = 400.0     #IM voltage(V)\n",
      "s_fl = 5.0    #Full-load slip(%)\n",
      "I_fl = 20.0   #Full load current drawn from supply by IM(A)\n",
      "Z = 2.5       #Impedance per phase(ohm)\n",
      "I_max = 50.0  #Maximum current drawn(A)\n",
      "\n",
      "#Calculation\n",
      "V_phase = V/3**0.5                   #Normal phase voltage(V)\n",
      "P = (100**2*I_max*Z/V_phase)**0.5    #Tapping to be provided to auto-transformer(%)\n",
      "I_s = I_max/(P/100)                  #Starting current taken by motor(A)\n",
      "T_s_fl = (I_s/I_fl)**2*s_fl/100      #Starting torque in terms of full-load torque\n",
      "T_s_fl_R = (I_max/I_fl)**2*s_fl/100  #Starting torque in terms of full-load torque when a resistor is used\n",
      "\n",
      "#Result\n",
      "print('Tapping to be provided on an auto-transformer, P = %.1f percent' %P)\n",
      "print('Starting torque in terms of full-load torque, T_s = %.3f*T_fl ' %T_s_fl)\n",
      "print('Starting torque in terms of full-load torque if a resistor were used in series, T_s/T_fl = %.4f ' %T_s_fl_R)"
     ],
     "language": "python",
     "metadata": {},
     "outputs": [
      {
       "output_type": "stream",
       "stream": "stdout",
       "text": [
        "Tapping to be provided on an auto-transformer, P = 73.6 percent\n",
        "Starting torque in terms of full-load torque, T_s = 0.577*T_fl \n",
        "Starting torque in terms of full-load torque if a resistor were used in series, T_s/T_fl = 0.3125 \n"
       ]
      }
     ],
     "prompt_number": 1
    },
    {
     "cell_type": "heading",
     "level": 2,
     "metadata": {},
     "source": [
      "Example 4.1.4, Page number 681-682"
     ]
    },
    {
     "cell_type": "code",
     "collapsed": false,
     "input": [
      "import math\n",
      "\n",
      "#Variable declaration\n",
      "hp = 30.0      #Power of cage IM(hp)\n",
      "V = 500.0      #Cage IM voltage(V)\n",
      "P = 4.0        #Number of poles\n",
      "f = 50.0       #Frequency(Hz)\n",
      "I_fl = 33.0    #Full load current(A)\n",
      "s = 4.0/100    #Slip\n",
      "Z = 3.5        #Impedance per phase(ohm)\n",
      "tap = 60.0     #Auto-transformer tap setting(%)\n",
      "\n",
      "#Calculation\n",
      "#Case(1)\n",
      "I_s_1 = 3**0.5*(V/Z)                       #Starting current taken from line(A)\n",
      "N_s = 120*f/P                              #Speed(rpm)\n",
      "N_fl = N_s-N_s*s                           #Full load speed of motor(rpm)\n",
      "T_fl = hp*746*60/(2*math.pi*N_fl)          #Full load torque(N-m)\n",
      "T_s_1 = (I_s_1/I_fl)**2*s*T_fl             #Starting torque(N-m)\n",
      "#Case(2)\n",
      "V_ph = V/3**0.5                            #Phase voltage in star(V)\n",
      "I_s_2 = V_ph/Z                             #Starting current(A/phase)\n",
      "T_s_2 = (I_s_2/(I_fl/3**0.5))**2*s*T_fl    #Starting torque(N-m)\n",
      "#Case(3)\n",
      "V_ph_at = V*tap/(3**0.5*100)               #Phase voltage of auto-transformer secondary(V)\n",
      "V_impressed = V_ph_at*3**0.5               #Volatage impressed on delta-connected stator(V)\n",
      "I_s_3 = V_impressed/Z                      #Starting current(A/phase)\n",
      "I_s_line = 3**0.5*I_s_3                    #Motor starting line current from auto-transformer secondary(A)\n",
      "I_s_line_3 = tap/100*I_s_line              #Starting current taken from supply(A)\n",
      "T_s_3 = (I_s_3/(I_fl/3**0.5))**2*s*T_fl    #Starting torque(N-m)\n",
      "#Case(4)\n",
      "I_s_4 = 3**0.5*V/Z                         #Starting current from line(A)\n",
      "T_s_4 = T_fl*s*(I_s_4/I_fl)**2             #Starting torque(N-m)\n",
      "\n",
      "#Result\n",
      "print('Case(1): Starting torque for direct switching, T_s = %.f N-m' %T_s_1)\n",
      "print('         Starting current taken from supply line for direct switching, I_s = %.f A' %I_s_1)\n",
      "print('Case(2): Starting torque for star-delta starting, T_s = %.f N-m' %T_s_2)\n",
      "print('         Starting current taken from supply line for star-delta starting, I_s = %.1f A per phase' %I_s_2)\n",
      "print('Case(3): Starting torque for auto-transformer starting, T_s = %.f N-m' %T_s_3)\n",
      "print('         Starting current taken from supply line for auto-transformer starting, I_s = %.f A' %I_s_line_3)\n",
      "print('Case(4): Starting torque for series-parallel switch, T_s = %.f N-m' %T_s_4)\n",
      "print('         Starting current taken from supply line for series-parallel switch, I_s = %.f A' %I_s_4)\n",
      "print('\\nNOTE: ERROR: Calculation mistakes and more approximation in textbook solution')"
     ],
     "language": "python",
     "metadata": {},
     "outputs": [
      {
       "output_type": "stream",
       "stream": "stdout",
       "text": [
        "Case(1): Starting torque for direct switching, T_s = 334 N-m\n",
        "         Starting current taken from supply line for direct switching, I_s = 247 A\n",
        "Case(2): Starting torque for star-delta starting, T_s = 111 N-m\n",
        "         Starting current taken from supply line for star-delta starting, I_s = 82.5 A per phase\n",
        "Case(3): Starting torque for auto-transformer starting, T_s = 120 N-m\n",
        "         Starting current taken from supply line for auto-transformer starting, I_s = 89 A\n",
        "Case(4): Starting torque for series-parallel switch, T_s = 334 N-m\n",
        "         Starting current taken from supply line for series-parallel switch, I_s = 247 A\n",
        "\n",
        "NOTE: ERROR: Calculation mistakes and more approximation in textbook solution\n"
       ]
      }
     ],
     "prompt_number": 1
    },
    {
     "cell_type": "heading",
     "level": 2,
     "metadata": {},
     "source": [
      "Example 4.1.5, Page number 682"
     ]
    },
    {
     "cell_type": "code",
     "collapsed": false,
     "input": [
      "#Variable declaration\n",
      "V = 400.0      #IM voltage(V)\n",
      "f = 50.0       #Frequency(Hz)\n",
      "I_s = 5.0      #Full voltage starting current in terms of full load current\n",
      "T_s = 2.0      #Full voltage starting torque in terms of full load torque\n",
      "tap = 65.0     #Auto-tranformer tapping(%)\n",
      "\n",
      "#Calculation\n",
      "V_ph = V/3**0.5               #Phase voltage(V)\n",
      "V_ph_motor = tap/100*V_ph     #Motor phase voltage when auto-transformer is used(V)\n",
      "I_ph_motor = tap/100*I_s      #Motor phase current in terms of full load current\n",
      "I_1 = tap/100*I_ph_motor      #Line current from supply in terms of full load current\n",
      "T = (tap/100)**2*T_s          #Starting torque in terms of full load current\n",
      "V_applied = V_ph/2**0.5       #Voltage to be applied to develop full-load torque(V)\n",
      "I_line = V_applied/V_ph*I_s   #Line current in terms of full load current\n",
      "\n",
      "#Result\n",
      "print('Case(i):   Motor current per phase = %.2f*I_fl ' %I_ph_motor)\n",
      "print('Case(ii):  Current from the supply, I_1 = %.2f*I_fl ' %I_1)\n",
      "print('Case(iii): Starting torque with auto-transformer starter, T = %.3f*T_fl ' %T)\n",
      "print('Voltage to be applied if motor has to develop full-load torque at starting, V = %.f V' %V_applied)\n",
      "print('Line current from the supply to develop full-load torque at starting = %.2f*I_fl ' %I_line)"
     ],
     "language": "python",
     "metadata": {},
     "outputs": [
      {
       "output_type": "stream",
       "stream": "stdout",
       "text": [
        "Case(i):   Motor current per phase = 3.25*I_fl \n",
        "Case(ii):  Current from the supply, I_1 = 2.11*I_fl \n",
        "Case(iii): Starting torque with auto-transformer starter, T = 0.845*T_fl \n",
        "Voltage to be applied if motor has to develop full-load torque at starting, V = 163 V\n",
        "Line current from the supply to develop full-load torque at starting = 3.54*I_fl \n"
       ]
      }
     ],
     "prompt_number": 1
    },
    {
     "cell_type": "heading",
     "level": 2,
     "metadata": {},
     "source": [
      "Example 4.1.6, Page number 682"
     ]
    },
    {
     "cell_type": "code",
     "collapsed": false,
     "input": [
      "#Variable declaration\n",
      "hp = 10.0      #IM rating(hp)\n",
      "V = 400.0      #IM voltage(V)\n",
      "pf = 0.8       #Lagging power factor\n",
      "n = 0.9        #Efficiency of IM\n",
      "I_sc = 7.2     #Short-circuit current at 160V(A)\n",
      "V_sc = 160.0   #Voltage at short-circuit(V)\n",
      "\n",
      "#Calculation\n",
      "I_fl = hp*746/(3**0.5*V*pf*n)   #Full-load line current(A)\n",
      "I_sc_fv = V/V_sc*I_sc           #Short-circuit current at full voltage(A)\n",
      "I_s = I_sc_fv/3.0               #Starting current with star-delta starter(A)\n",
      "I_s_fl = I_s/I_fl               #Ratio of starting current to full load current\n",
      "\n",
      "#Result\n",
      "print('Ratio of starting current to full-load current, I_s/I_fl = %.1f ' %I_s_fl)\n",
      "print('\\nNOTE: ERROR: Calculation mistake in final answer in textbook solution')"
     ],
     "language": "python",
     "metadata": {},
     "outputs": [
      {
       "output_type": "stream",
       "stream": "stdout",
       "text": [
        "Ratio of starting current to full-load current, I_s/I_fl = 0.4 \n",
        "\n",
        "NOTE: ERROR: Calculation mistake in final answer in textbook solution\n"
       ]
      }
     ],
     "prompt_number": 1
    },
    {
     "cell_type": "heading",
     "level": 2,
     "metadata": {},
     "source": [
      "Example 4.1.7, Page number 685-686"
     ]
    },
    {
     "cell_type": "code",
     "collapsed": false,
     "input": [
      "#Variable declaration\n",
      "V = 230.0      #Voltage of DC shunt motor(V)\n",
      "N_1 = 1000.0   #No load speed(rpm)\n",
      "R_sh = 40.0    #Shunt resistance(ohm)\n",
      "N_2 = 1200.0   #Speed with series resistance(rpm)\n",
      "\n",
      "#Calculation\n",
      "phi_2 = N_1/N_2        #Flux_2 in terms flux_1\n",
      "I_N1 = V/R_sh          #Exciting current at 1000 rpm(A)\n",
      "phi_1 = 11.9           #Flux corresponding to I_N1(mWb)\n",
      "phi_N2 = phi_1*phi_2   #Flux at 1200 rpm(mWb)\n",
      "I_phi_N2 = 3.25        #Exciting current corresponding to phi_N2(A)\n",
      "R = V/I_phi_N2         #Resistance in field circuit(ohm)\n",
      "R_extra = R-R_sh       #Resistance to be placed in series with shunt field(ohm)\n",
      "\n",
      "#Result\n",
      "print('Resistance to be placed in series with shunt field = %.1f ohm' %R_extra)"
     ],
     "language": "python",
     "metadata": {},
     "outputs": [
      {
       "output_type": "stream",
       "stream": "stdout",
       "text": [
        "Resistance to be placed in series with shunt field = 30.8 ohm\n"
       ]
      }
     ],
     "prompt_number": 1
    },
    {
     "cell_type": "heading",
     "level": 2,
     "metadata": {},
     "source": [
      "Example 4.1.8, Page number 686"
     ]
    },
    {
     "cell_type": "code",
     "collapsed": false,
     "input": [
      "from sympy import *\n",
      "\n",
      "#Variable declaration\n",
      "V = 250.0      #Voltage of DC shunt motor(V)\n",
      "I = 22.5       #Current drawn from supply(A)\n",
      "N_1 = 400.0    #Speed(rpm)\n",
      "N_2 = 600.0    #Speed(rpm)\n",
      "R_sh = 100.0   #Shunt resistance(ohm)\n",
      "R_a = 0.5      #Armature resistance(ohm)\n",
      "\n",
      "#Calculation\n",
      "I_f = V/R_sh                      #Shunt field current(A)\n",
      "I_a = I-I_f                       #Armature current(A)\n",
      "E_b1 = V-I_a*R_a                  #Back emf(V)\n",
      "I_f2 = Symbol('I_f2')             #Shunt field current for N_2(A)\n",
      "E_b1_b2 = I_f*N_1/(I_f2*N_2)      #Ratio of E_b1/E_b2\n",
      "E_b2 = V-(R_a*I_f*I_a/I_f2)       #emf\n",
      "solving = (E_b1/E_b2)-(E_b1_b2)   #Solving the equated equation\n",
      "I_f2_sol = solve(solving)         #Solved I_f2\n",
      "I_f2_solution = I_f2_sol[1]       #Shunt field current for N_2(A)\n",
      "R_f = (V/I_f2_solution)-R_sh      #Additional resistance placed in shunt field circuit(ohm)\n",
      "\n",
      "#Result\n",
      "print('Additional resistance placed in the shunt field circuit, R_f = %.1f ohm' %R_f)\n",
      "print('\\nNOTE: ERROR: Calculation mistake in the finding quadratic equation solution for I_f2 in textbook')"
     ],
     "language": "python",
     "metadata": {},
     "outputs": [
      {
       "output_type": "stream",
       "stream": "stdout",
       "text": [
        "Additional resistance placed in the shunt field circuit, R_f = 53.4 ohm\n",
        "\n",
        "NOTE: ERROR: Calculation mistake in the finding quadratic equation solution for I_f2 in textbook\n"
       ]
      }
     ],
     "prompt_number": 1
    },
    {
     "cell_type": "heading",
     "level": 2,
     "metadata": {},
     "source": [
      "Example 4.1.9, Page number 686-687"
     ]
    },
    {
     "cell_type": "code",
     "collapsed": false,
     "input": [
      "#Variable declaration\n",
      "I_f1 = 25.0    #Current without diverter(A)\n",
      "N_1 = 500.0    #Speed of dc series motor without diverter(rpm)\n",
      "\n",
      "#Calculation\n",
      "I_a2 = ((3.0/2)**0.5*I_f1**2*3/2)**0.5   #Field current with diverter(A)\n",
      "N_2 = I_f1*N_1*3/(2*I_a2)                #Speed with diverter(rpm)\n",
      "\n",
      "#Result\n",
      "print('Speed when field winding is shunted by a diverter, N_2 = %.f rpm' %N_2)\n",
      "print('Current when field winding is shunted by a diverter, I_a2 = %.1f A' %I_a2)"
     ],
     "language": "python",
     "metadata": {},
     "outputs": [
      {
       "output_type": "stream",
       "stream": "stdout",
       "text": [
        "Speed when field winding is shunted by a diverter, N_2 = 553 rpm\n",
        "Current when field winding is shunted by a diverter, I_a2 = 33.9 A\n"
       ]
      }
     ],
     "prompt_number": 1
    },
    {
     "cell_type": "heading",
     "level": 2,
     "metadata": {},
     "source": [
      "Example 4.1.10, Page number 687"
     ]
    },
    {
     "cell_type": "code",
     "collapsed": false,
     "input": [
      "#Variable declaration\n",
      "V = 220.0       #DC shunt motor voltage(V)\n",
      "I_a1 = 50.0     #Armature current at 800rpm(A)\n",
      "N_1 = 800.0     #Speed of dc shunt motor(rpm)\n",
      "N_2 = 1000.0    #Speed of dc shunt motor with additional resistance(rpm)\n",
      "I_a2 = 75.0     #Armature current with additional resistance(A)\n",
      "R_a = 0.15      #Armature resistance(ohm)\n",
      "R_f = 250.0     #Field resistance(ohm)\n",
      "\n",
      "#Calculation\n",
      "E_b1 = V-R_a*I_a1                 #Back emf at 800 rpm(V)\n",
      "I_f1 = V/R_f                      #Shunt field current(A)\n",
      "E_b2 = V-R_a*I_a2                 #Back emf at 1000 rpm(V)\n",
      "I_f2 = E_b2*N_1*I_f1/(E_b1*N_2)   #Shunt field current at 1000 rpm(A)\n",
      "R_f2 = V/I_f2                     #Field resistance at 1000 rpm(ohm)\n",
      "R_add = R_f2-R_f                  #Additional resistance required(ohm)\n",
      "\n",
      "#Result\n",
      "print('Additional resistance to be inserted in the field circuit to raise the speed = %.1f ohm' %R_add)\n",
      "print('\\nNOTE: ERROR: Calculation mistake in E_b2 in the textbook solution. Hence, changes in the obtained answer from textbook')"
     ],
     "language": "python",
     "metadata": {},
     "outputs": [
      {
       "output_type": "stream",
       "stream": "stdout",
       "text": [
        "Additional resistance to be inserted in the field circuit to raise the speed = 68.1 ohm\n",
        "\n",
        "NOTE: ERROR: Calculation mistake in E_b2 in the textbook solution. Hence, changes in the obtained answer from textbook\n"
       ]
      }
     ],
     "prompt_number": 1
    },
    {
     "cell_type": "heading",
     "level": 2,
     "metadata": {},
     "source": [
      "Example 4.1.11, Page number 687"
     ]
    },
    {
     "cell_type": "code",
     "collapsed": false,
     "input": [
      "#Variable declaration\n",
      "V = 220.0       #DC series motor voltage(V)\n",
      "I_1 = 20.0      #Armature current at 800rpm(A)\n",
      "N_1 = 800.0     #Speed of dc series motor(rpm)\n",
      "R_div = 0.4     #Diverter resistance(ohm)\n",
      "R_a = 0.5       #Armature resistance(ohm)\n",
      "R_f = 0.2       #Series field resistance(ohm)\n",
      "\n",
      "#Calculation\n",
      "E_b1 = V-(R_a+R_f)*I_1          #Back emf at 800 rpm(V)\n",
      "I_2 = I_1*R_div/(R_div+R_f)     #Series field current at new speed(A)\n",
      "E_b2 = V-(R_a*I_1+R_f*I_2)      #Back emf at new speed(V)\n",
      "N_2 = I_1*N_1*E_b2/(I_2*E_b1)   #New speed with diverter(rpm)\n",
      "\n",
      "#Result\n",
      "print('Speed of motor with a diverter connected in parallel with series field, N_2 = %.f rpm' %N_2)"
     ],
     "language": "python",
     "metadata": {},
     "outputs": [
      {
       "output_type": "stream",
       "stream": "stdout",
       "text": [
        "Speed of motor with a diverter connected in parallel with series field, N_2 = 1208 rpm\n"
       ]
      }
     ],
     "prompt_number": 1
    },
    {
     "cell_type": "heading",
     "level": 2,
     "metadata": {},
     "source": [
      "Example 4.1.12, Page number 687-688"
     ]
    },
    {
     "cell_type": "code",
     "collapsed": false,
     "input": [
      "#Variable declaration\n",
      "speed_per = 15.0   #Motor speed increased by(%)\n",
      "\n",
      "#Calculation\n",
      "N_2 = (100+speed_per)/100       #New speed N_2(rpm)\n",
      "phi_2 = 1/N_2*100               #Flux_2 in terms of full load flux\n",
      "I_sc1 = 0.75                    #New series field current in terms of I_a1\n",
      "I_a2 = N_2                      #Armature current in terms of I_a1\n",
      "R_d = I_sc1/(I_a2-I_sc1)*100    #Diverter resistance in terms of series field resistance(%)\n",
      "\n",
      "#Result\n",
      "print('Diverter resistance, R_d = %.1f percent of field resistance' %R_d)"
     ],
     "language": "python",
     "metadata": {},
     "outputs": [
      {
       "output_type": "stream",
       "stream": "stdout",
       "text": [
        "Diverter resistance, R_d = 187.5 percent of field resistance\n"
       ]
      }
     ],
     "prompt_number": 1
    },
    {
     "cell_type": "heading",
     "level": 2,
     "metadata": {},
     "source": [
      "Example 4.1.13, Page number 689"
     ]
    },
    {
     "cell_type": "code",
     "collapsed": false,
     "input": [
      "#Variable declaration\n",
      "V = 250.0      #Voltage of DC shunt motor(V)\n",
      "N_1 = 400.0    #No load speed(rpm)\n",
      "R_a = 0.5      #Armature resistance(ohm)\n",
      "N_2 = 200.0    #Speed with additional resistance(rpm)\n",
      "I_a = 20.0     #Armature current(A)\n",
      "\n",
      "#Calculation\n",
      "k_phi = (V-I_a*R_a)/N_1    #k\u03a6\n",
      "R = (V-k_phi*N_2)/I_a      #Resistance(ohm)\n",
      "R_add = R-R_a              #Additional resistance to be placed in armature circuit(ohm)\n",
      "\n",
      "#Result\n",
      "print('Resistance to be placed in the armature circuit = %.f ohm' %R_add)\n",
      "print('\\nNOTE: ERROR: The data doesnt match with example 1.7 as mentioned in problem statement')"
     ],
     "language": "python",
     "metadata": {},
     "outputs": [
      {
       "output_type": "stream",
       "stream": "stdout",
       "text": [
        "Resistance to be placed in the armature circuit = 6 ohm\n",
        "\n",
        "NOTE: ERROR: The data doesnt match with example 1.7 as mentioned in problem statement\n"
       ]
      }
     ],
     "prompt_number": 1
    },
    {
     "cell_type": "heading",
     "level": 2,
     "metadata": {},
     "source": [
      "Example 4.1.14, Page number 689"
     ]
    },
    {
     "cell_type": "code",
     "collapsed": false,
     "input": [
      "#Variable declaration\n",
      "V = 400.0       #Voltage of DC shunt motor(V)\n",
      "hp = 20.0       #Power of DC shunt motor(hp)\n",
      "I = 44.0        #Current drawn by motor(A)\n",
      "N_1 = 1000.0    #Speed(rpm)\n",
      "N_2 = 800.0     #Speed with additional resistance(rpm)\n",
      "R_sh = 200.0    #Shunt field resistance(ohm)\n",
      "\n",
      "#Calculation\n",
      "output = hp*746            #Motor output(W)\n",
      "I_f1 = V/R_sh              #Shunt field current(A)\n",
      "I_a1 = I-I_f1              #Armature current(A)\n",
      "E_b1 = output/I_a1         #Back emf(V)\n",
      "R_a = (V-E_b1)/I_a1        #Armature resistance(ohm)\n",
      "I_a2 = I_a1*(N_2/N_1)**2   #Armature current at N2(A)\n",
      "E_b2 = N_2/N_1*E_b1        #Back emf at N2(V)\n",
      "r = ((V-E_b2)/I_a2)-R_a    #Resistance connected in series with armature(ohm)\n",
      "\n",
      "#Result\n",
      "print('Resistance to be connected in series with armature to reduce speed, r = %.2f ohm' %r)"
     ],
     "language": "python",
     "metadata": {},
     "outputs": [
      {
       "output_type": "stream",
       "stream": "stdout",
       "text": [
        "Resistance to be connected in series with armature to reduce speed, r = 3.24 ohm\n"
       ]
      }
     ],
     "prompt_number": 1
    },
    {
     "cell_type": "heading",
     "level": 2,
     "metadata": {},
     "source": [
      "Example 4.1.15, Page number 690"
     ]
    },
    {
     "cell_type": "code",
     "collapsed": false,
     "input": [
      "#Variable declaration\n",
      "hp = 15.0         #Power of DC shunt motor(hp)\n",
      "V = 400.0         #Voltage of DC shunt motor(V)\n",
      "N_reduce = 20.0   #Speed is to be reduced by(%)\n",
      "I_f = 3.0         #Field current(A)\n",
      "R_a = 0.5         #Armature resistance(ohm)\n",
      "n = 0.85          #Efficiency of motor\n",
      "\n",
      "#Calculation\n",
      "motor_input = hp*746/n          #Motor input(W)\n",
      "I = motor_input/V               #Motor current(A)\n",
      "I_a1 = I-I_f                    #Armature current(A)\n",
      "I_a2 = I_a1                     #Armature current at new speed(A)\n",
      "E_b1 = V-I_a1*R_a               #Back emf(V)\n",
      "E_b2 = E_b1*(100-N_reduce)/100  #Back emf at new speed(V)\n",
      "r = ((V-E_b2)/I_a2)-R_a         #Ohmic value of resistor connected in the armature circuit(ohm)\n",
      "\n",
      "#Result\n",
      "print('Ohmic value of resistor connected in the armature circuit, r = %.2f ohm' %r)"
     ],
     "language": "python",
     "metadata": {},
     "outputs": [
      {
       "output_type": "stream",
       "stream": "stdout",
       "text": [
        "Ohmic value of resistor connected in the armature circuit, r = 2.57 ohm\n"
       ]
      }
     ],
     "prompt_number": 1
    },
    {
     "cell_type": "heading",
     "level": 2,
     "metadata": {},
     "source": [
      "Example 4.1.16, Page number 697-698"
     ]
    },
    {
     "cell_type": "code",
     "collapsed": false,
     "input": [
      "#Variable declaration\n",
      "p = 6.0           #Number of poles\n",
      "f = 50.0          #Frequency(Hz)\n",
      "R_2 = 0.3         #Rotor resistance per phase(ohm)\n",
      "N_1 = 960.0       #Rotor speed(rpm)\n",
      "N_2 = 800.0       #New rotor speed with external resistance(rpm)\n",
      "\n",
      "#Calculation\n",
      "N_s = 120*f/p           #Synchronous speed(rpm)\n",
      "S_1 = (N_s-N_1)/N_s     #Slip at full load\n",
      "S_2 = (N_s-N_2)/N_s     #New slip\n",
      "R = (S_2/S_1*R_2)-R_2   #External resistance per phase added in rotor circuit to reduce speed(ohm)\n",
      "\n",
      "#Result\n",
      "print('External resistance per phase added in rotor circuit to reduce speed, R = %.1f ohm' %R)"
     ],
     "language": "python",
     "metadata": {},
     "outputs": [
      {
       "output_type": "stream",
       "stream": "stdout",
       "text": [
        "External resistance per phase added in rotor circuit to reduce speed, R = 1.2 ohm\n"
       ]
      }
     ],
     "prompt_number": 1
    },
    {
     "cell_type": "heading",
     "level": 2,
     "metadata": {},
     "source": [
      "Example 4.1.17, Page number 699"
     ]
    },
    {
     "cell_type": "code",
     "collapsed": false,
     "input": [
      "import math\n",
      "\n",
      "#Variable declaration\n",
      "hp = 50.0           #DC shunt motor rating(hp)\n",
      "V = 440.0           #Voltage(V)\n",
      "I_b = 150.0         #Breaking current(A)\n",
      "N_reduce = 40.0     #Speed of motor fallen by(%)\n",
      "R_a = 0.1           #Armature resistance(ohm)\n",
      "I_a_fl = 100.0      #Full-load armature current(A)\n",
      "N_fl = 600.0        #Full-load speed(rpm)\n",
      "\n",
      "#Calculation\n",
      "E_b = V-I_a_fl*R_a                  #Back emf of motor(V)\n",
      "V_a = V+E_b                         #Voltage across armature when braking starts(V)\n",
      "R_b = V_a/I_b                       #Resistance required(ohm)\n",
      "R_extra = R_b-R_a                   #Extra resistance required(ohm)\n",
      "T_fl = hp*746*60/(2*math.pi*N_fl)   #Full-load torque(N-m)\n",
      "T_initial_b = T_fl*I_b/I_a_fl       #Initial breaking torque(N-m)\n",
      "E_b2 = E_b*(100-N_reduce)/100       #Back emf at new speed(V)\n",
      "I = (V+E_b2)/R_b                    #Current(A)\n",
      "EBT = T_fl*I/I_a_fl                 #Torque when motor speed reduced by 40%(N-m)\n",
      "\n",
      "#Result\n",
      "print('Braking torque = %.1f N-m' %T_initial_b)\n",
      "print('Torque when motor speed has fallen, E.B.T = %.1f N-m' %EBT)\n",
      "print('\\nNOTE: ERROR: Calculation mistakes in the textbook solution')"
     ],
     "language": "python",
     "metadata": {},
     "outputs": [
      {
       "output_type": "stream",
       "stream": "stdout",
       "text": [
        "Braking torque = 890.5 N-m\n",
        "Torque when motor speed has fallen, E.B.T = 714.4 N-m\n",
        "\n",
        "NOTE: ERROR: Calculation mistakes in the textbook solution\n"
       ]
      }
     ],
     "prompt_number": 1
    },
    {
     "cell_type": "heading",
     "level": 2,
     "metadata": {},
     "source": [
      "Example 4.1.18, Page number 699-700"
     ]
    },
    {
     "cell_type": "code",
     "collapsed": false,
     "input": [
      "import math\n",
      "\n",
      "#Variable declaration\n",
      "V = 400.0           #Voltage of IM(V)\n",
      "p = 4.0             #Number of poles\n",
      "f = 50.0            #Frequency(Hz)\n",
      "hp = 25.0           #Power developed(hp)\n",
      "S = 0.04            #Slip\n",
      "R_X_2 = 1.0/4       #Ratio of rotor resistance to standstill reactance i.e R2/X2\n",
      "\n",
      "#Calculation\n",
      "N_s = 120*f/p                                                                #Synchronous speed(rpm)\n",
      "N_fl = N_s*(1-S)                                                             #Full load speed(rpm)\n",
      "T_fl = hp*735.5*60/(2*math.pi*N_fl*9.81)                                     #Full-load torque(kg-m)\n",
      "S_1 = 1.0                                                                    #Slip at standstill\n",
      "X_R_2 = 1.0/R_X_2                                                            #Ratio of standstill reactance to rotor resistance\n",
      "T_s_fl = S_1/S*((1+(S*X_R_2)**2)/(1+(S_1*X_R_2)**2))                         #T_standstill/T_fl\n",
      "T_standstill = T_s_fl*T_fl                                                   #Standstill torque(kg-m)\n",
      "S_instant = (N_s+N_fl)/N_s                                                   #Slip at instant of plugging\n",
      "T_initial = (S_instant/S)*((1+(S*X_R_2)**2)/(1+(S_instant*X_R_2)**2))*T_fl   #Initial plugging torque(kg-m)\n",
      "\n",
      "#Result\n",
      "print('Initial plugging torque = %.1f kg-m' %T_initial)\n",
      "print('Torque at standstill = %.f kg-m' %T_standstill)\n",
      "print('\\nNOTE: ERROR: Calculation mistake from full-load torque onwards. Hence, change in obtained answer from that of textbook')"
     ],
     "language": "python",
     "metadata": {},
     "outputs": [
      {
       "output_type": "stream",
       "stream": "stdout",
       "text": [
        "Initial plugging torque = 10.0 kg-m\n",
        "Torque at standstill = 19 kg-m\n",
        "\n",
        "NOTE: ERROR: Calculation mistake from full-load torque onwards. Hence, change in obtained answer from that of textbook\n"
       ]
      }
     ],
     "prompt_number": 1
    },
    {
     "cell_type": "heading",
     "level": 2,
     "metadata": {},
     "source": [
      "Example 4.1.19, Page number 701"
     ]
    },
    {
     "cell_type": "code",
     "collapsed": false,
     "input": [
      "import math\n",
      "\n",
      "#Variable declaration\n",
      "T = 312.5         #Load torque(N-m)\n",
      "N = 500.0         #Speed limit(rpm)\n",
      "R_total = 1.0     #Total resistance of armature & field(ohm)\n",
      "\n",
      "#Calculation\n",
      "input_load = 2*math.pi*N*T/60      #Input from load(W)\n",
      "E = 345.0                          #Voltage from magnetization curve(V). From Fig E1.5 page no 701\n",
      "I = 47.5                           #Current from magnetization curve(A). From Fig E1.5 page no 701\n",
      "R = E/I                            #Resistance(ohm)\n",
      "R_add = R-R_total                  #Additional resistance required(ohm)\n",
      "\n",
      "#Result\n",
      "print('Value of resistance to be connected in motor circuit = %.2f ohm' %R_add)"
     ],
     "language": "python",
     "metadata": {},
     "outputs": [
      {
       "output_type": "stream",
       "stream": "stdout",
       "text": [
        "Value of resistance to be connected in motor circuit = 6.26 ohm\n"
       ]
      }
     ],
     "prompt_number": 1
    },
    {
     "cell_type": "heading",
     "level": 2,
     "metadata": {},
     "source": [
      "Example 4.1.20, Page number 702"
     ]
    },
    {
     "cell_type": "code",
     "collapsed": false,
     "input": [
      "#Variable declaration\n",
      "V = 500.0         #Shunt motor voltage(V)\n",
      "load = 400.0      #Hoist load(kg)\n",
      "speed = 2.5       #Hoist raised speed(m/sec)\n",
      "n_motor = 0.85    #Efficiency of motor\n",
      "n_hoist = 0.75    #Efficiency of hoist\n",
      "\n",
      "#Calculation\n",
      "P_output = load*speed*9.81                     #Power output from motor(W)\n",
      "P_input = P_output/(n_motor*n_hoist)           #Motor input(W)\n",
      "I = P_input/V                                  #Current drawn from supply(A)\n",
      "output_G = load*speed*9.81*n_motor*n_hoist     #Generator output(W)\n",
      "R = V**2/output_G                              #Resistance required in the armature circuit for rheostatic braking(ohm)\n",
      "\n",
      "#Result\n",
      "print('Current drawn by the motor from supply = %.1f A' %I)\n",
      "print('Resistance required in the armature circuit for rheostatic braking, R = %.f ohm' %R)"
     ],
     "language": "python",
     "metadata": {},
     "outputs": [
      {
       "output_type": "stream",
       "stream": "stdout",
       "text": [
        "Current drawn by the motor from supply = 30.8 A\n",
        "Resistance required in the armature circuit for rheostatic braking, R = 40 ohm\n"
       ]
      }
     ],
     "prompt_number": 1
    },
    {
     "cell_type": "heading",
     "level": 2,
     "metadata": {},
     "source": [
      "Example 4.1.21, Page number 705"
     ]
    },
    {
     "cell_type": "code",
     "collapsed": false,
     "input": [
      "import math\n",
      "\n",
      "#Variable declaration\n",
      "t = 1.0          #Time(hour)\n",
      "hp = 15.0        #Motor rating(hp)\n",
      "T = 2.0          #Time constant(hour)\n",
      "theta_f = 40.0   #Temperature rise(\u00b0C)\n",
      "\n",
      "#Calculation\n",
      "P = (1.0/(1-math.exp(-t/T)))**0.5*hp     #One-hour rating of motor(hp)\n",
      "\n",
      "#Result\n",
      "print('One-hour rating of motor, P = %.f hp' %P)\n",
      "print('\\nNOTE: Changes in the obtained answer from that of textbook is due to more approximation in the textbook solution')"
     ],
     "language": "python",
     "metadata": {},
     "outputs": [
      {
       "output_type": "stream",
       "stream": "stdout",
       "text": [
        "One-hour rating of motor, P = 24 hp\n",
        "\n",
        "NOTE: Changes in the obtained answer from that of textbook is due to more approximation in the textbook solution\n"
       ]
      }
     ],
     "prompt_number": 1
    },
    {
     "cell_type": "heading",
     "level": 2,
     "metadata": {},
     "source": [
      "Example 4.1.22, Page number 706"
     ]
    },
    {
     "cell_type": "code",
     "collapsed": false,
     "input": [
      "import math\n",
      "\n",
      "#Variable declaration\n",
      "hp = 10.0                   #Motor rating(hp)\n",
      "d = 0.7                     #Diameter of cylinder(m)\n",
      "l = 1.0                     #Length of cylinder(m)\n",
      "w = 380.0                   #Weight of motor(kgm)\n",
      "heat_specific = 700.0       #Specific heat(J/kg/1\u00b0C)\n",
      "heat_dissipation = 15.0     #Outer surface heat dissipation rate(W/sq.cm/\u00b0C)\n",
      "n = 0.88                    #Efficiency\n",
      "\n",
      "#Calculation\n",
      "output = hp*735.5                                        #Output of motor(W)\n",
      "loss = (1-n)/n*output                                    #Losses(W)\n",
      "area_cooling = math.pi*d*l                               #Cooling surface area(sq.m)\n",
      "theta_m = loss/(area_cooling*heat_dissipation)           #Final temperature rise(\u00b0C)\n",
      "T_sec = w*heat_specific/(area_cooling*heat_dissipation)  #Thermal time constant(sec)\n",
      "T_hour = T_sec/3600                                      #Thermal time constant(hours)\n",
      "\n",
      "#Result\n",
      "print('Final temperature rise, \u03b8_m = %.1f \u00b0C' %theta_m)\n",
      "print('Thermal time constant of the motor = %.2f hours' %T_hour)\n",
      "print('\\nNOTE: ERROR: Mistake in calculating thermal time constant in the textbook solution')"
     ],
     "language": "python",
     "metadata": {},
     "outputs": [
      {
       "output_type": "stream",
       "stream": "stdout",
       "text": [
        "Final temperature rise, \u03b8_m = 30.4 \u00b0C\n",
        "Thermal time constant of the motor = 2.24 hours\n",
        "\n",
        "NOTE: ERROR: Mistake in calculating thermal time constant in the textbook solution\n"
       ]
      }
     ],
     "prompt_number": 1
    },
    {
     "cell_type": "heading",
     "level": 2,
     "metadata": {},
     "source": [
      "Example 4.1.23, Page number 706"
     ]
    },
    {
     "cell_type": "code",
     "collapsed": false,
     "input": [
      "import math\n",
      "\n",
      "#Variable declaration\n",
      "hp = 25.0         #Motor rating(hp)\n",
      "T = 100.0/60      #Heating time constant(hour)\n",
      "theta = 40.0      #Temperature rise(\u00b0C)\n",
      "t = 0.5           #Time(hour)\n",
      "n = 0.85          #Motor maximum efficiency\n",
      "\n",
      "#Calculation\n",
      "output = hp*735.5/1000                          #Output of motor(kW)\n",
      "output_max = output*n                           #Power at maximum efficiency(kW)\n",
      "theta_f2 = theta/(1-math.exp(-t/T))             #\u03b8_f2(\u00b0C)\n",
      "loss = 1+(output/output_max)**2                 #Losses at 18.4 kW output in terms of W\n",
      "P = ((theta_f2/theta*loss)-1)**0.5*output_max   #Half-hour rating of motor(kW)\n",
      "P_hp = P*1000/735.5                             #Half-hour rating of motor(hp)\n",
      "\n",
      "#Result\n",
      "print('Half-hour rating of motor, P = %.f kW = %.1f hp (metric)' %(P,P_hp))\n",
      "print('\\nNOTE: ERROR: Calculation mistake from final temperature rise onwards in textbook')"
     ],
     "language": "python",
     "metadata": {},
     "outputs": [
      {
       "output_type": "stream",
       "stream": "stdout",
       "text": [
        "Half-hour rating of motor, P = 45 kW = 60.8 hp (metric)\n",
        "\n",
        "NOTE: ERROR: Calculation mistake from final temperature rise onwards in textbook\n"
       ]
      }
     ],
     "prompt_number": 1
    },
    {
     "cell_type": "heading",
     "level": 2,
     "metadata": {},
     "source": [
      "Example 4.1.24, Page number 706"
     ]
    },
    {
     "cell_type": "code",
     "collapsed": false,
     "input": [
      "import math\n",
      "\n",
      "#Variable declaration\n",
      "theta_f1 = 40.0     #Temperature rise(\u00b0C)\n",
      "T = 100.0           #Heating time constant(min)\n",
      "rated_2 = 2.0       #Motor at twice the continuously rating\n",
      "\n",
      "#Calculation\n",
      "loss_cu = 2.0**2                         #Copper loss at twice full load in terms of W\n",
      "loss_total = loss_cu+1                   #Total losses at full load in terms of W\n",
      "theta_f2 = theta_f1*loss_total/rated_2   #\u03b8_f2(\u00b0C)\n",
      "t = math.log(1-(theta_f1/theta_f2))*(-T) #Time for which motor can run at twice the continuously rated output without overheating(min)\n",
      "\n",
      "#Result\n",
      "print('Motor can run at twice the continuously rated output without overheating for time, t = %.f min' %t)"
     ],
     "language": "python",
     "metadata": {},
     "outputs": [
      {
       "output_type": "stream",
       "stream": "stdout",
       "text": [
        "Motor can run at twice the continuously rated output without overheating for time, t = 51 min\n"
       ]
      }
     ],
     "prompt_number": 1
    },
    {
     "cell_type": "heading",
     "level": 2,
     "metadata": {},
     "source": [
      "Example 4.1.25, Page number 706-707"
     ]
    },
    {
     "cell_type": "code",
     "collapsed": false,
     "input": [
      "#Variable declaration\n",
      "kW = 20.0        #Motor output(kW)\n",
      "theta_1 = 50.0   #Temperature rise not to be exceeded on overload(\u00b0C)\n",
      "t_1 = 1.0        #Time on overload(hour)\n",
      "theta_2 = 30.0   #Temperature rise on full-load(\u00b0C)\n",
      "t_2 = 1.0        #Time on full-load(hour)\n",
      "theta_3 = 40.0   #Temperature rise on full-load(\u00b0C)\n",
      "t_3 = 2.0        #Time on full-load(hour)\n",
      "\n",
      "#Calculation\n",
      "e_lambda = 1.0/3                 #Obtained directly from textbook\n",
      "theta_f = theta_2/(1-e_lambda)   #\u03b8_f(\u00b0C)\n",
      "theta_f1 = theta_1/(1-e_lambda)  #\u03b8'_f(\u00b0C)\n",
      "P = (theta_f1/theta_f)**0.5*kW   #Maximum overload that can be carried by the motor(kW)\n",
      "\n",
      "#Result\n",
      "print('Maximum overload that can be carried by the motor, P = %.1f kW' %P)"
     ],
     "language": "python",
     "metadata": {},
     "outputs": [
      {
       "output_type": "stream",
       "stream": "stdout",
       "text": [
        "Maximum overload that can be carried by the motor, P = 25.8 kW\n"
       ]
      }
     ],
     "prompt_number": 1
    },
    {
     "cell_type": "heading",
     "level": 2,
     "metadata": {},
     "source": [
      "Example 4.1.26, Page number 707-708"
     ]
    },
    {
     "cell_type": "code",
     "collapsed": false,
     "input": [
      "#Variable declaration\n",
      "hp_1 = 100.0       #Motor load(hp)\n",
      "t_1 = 10.0         #Time of operation(min)\n",
      "hp_2 = 0           #Motor load(hp)\n",
      "t_2 = 5.0          #Time of operation(min)\n",
      "hp_3 = 60.0        #Motor load(hp)\n",
      "t_3 = 8.0          #Time of operation(min)\n",
      "hp_4 = 0           #Motor load(hp)\n",
      "t_4 = 4.0          #Time of operation(min)\n",
      "\n",
      "#Calculation\n",
      "t_total = t_1+t_2+t_3+t_4                                               #Total time of operation(min)\n",
      "rms = ((hp_1**2*t_1+hp_2**2*t_2+hp_3**2*t_3+hp_4**2*t_4)/t_total)**0.5  #rms horsepower\n",
      "\n",
      "#Result\n",
      "print('Required size of continuously rated motor = %.f H.P' %rms)\n",
      "print('\\nNOTE: ERROR: Calculation mistake in the textbook')\n",
      "print('      Actual value is written here instead of standard values')"
     ],
     "language": "python",
     "metadata": {},
     "outputs": [
      {
       "output_type": "stream",
       "stream": "stdout",
       "text": [
        "Required size of continuously rated motor = 69 H.P\n",
        "\n",
        "NOTE: ERROR: Calculation mistake in the textbook\n",
        "      Actual value is written here instead of standard values\n"
       ]
      }
     ],
     "prompt_number": 1
    },
    {
     "cell_type": "heading",
     "level": 2,
     "metadata": {},
     "source": [
      "Example 4.1.27, Page number 708"
     ]
    },
    {
     "cell_type": "code",
     "collapsed": false,
     "input": [
      "from scipy.integrate import quad\n",
      "\n",
      "#Variable declaration\n",
      "hp_1 = 200.0     #Motor load(hp)\n",
      "t_1 = 5.0        #Time of operation(min)\n",
      "hp_2 = 100.0     #Motor load(hp)\n",
      "t_2 = 10.0       #Time of operation(min)\n",
      "hp_3 = 0         #Motor load(hp)\n",
      "t_3 = 3.0        #Time of operation(min)\n",
      "\n",
      "#Calculation\n",
      "m = hp_1/t_1                                           #Slope of uniform rise power\n",
      "t_total = t_1+t_2+t_3                                  #Total time of operation(min)\n",
      "def integrand(x):\n",
      "    return (m*x)**2\n",
      "ans, err = quad(integrand, 0, t_1)                     #Integarted uniform area upto 5 min\n",
      "rms = ((ans+hp_2**2*t_2+hp_3**2*t_3)/t_total)**0.5     #rms horsepower\n",
      "\n",
      "#Result\n",
      "print('rms horsepower = %.1f HP. Therefore, a motor of %.f H.P should be selected' %(rms,rms+4))"
     ],
     "language": "python",
     "metadata": {},
     "outputs": [
      {
       "output_type": "stream",
       "stream": "stdout",
       "text": [
        "rms horsepower = 96.2 HP. Therefore, a motor of 100 H.P should be selected\n"
       ]
      }
     ],
     "prompt_number": 1
    },
    {
     "cell_type": "heading",
     "level": 2,
     "metadata": {},
     "source": [
      "Example 4.1.28, Page number 710"
     ]
    },
    {
     "cell_type": "code",
     "collapsed": false,
     "input": [
      "import math\n",
      "\n",
      "#Variable declaration\n",
      "V = 440.0      #DC shunt motor voltage(V)\n",
      "hp = 50.0      #Motor rating(hp)\n",
      "N = 600.0      #Speed(rpm)\n",
      "I = 80.0       #Current at full-load(A)\n",
      "I_1 = 1.1      #Lower current limit in terms of full current\n",
      "I_2 = 1.5      #Upper current limit in terms of full current\n",
      "J = 20.0       #Moment of inertia(kg-m^2)\n",
      "\n",
      "#Calculation\n",
      "T = hp*746*60/(2*math.pi*N)   #Full load torque of motor(N-m)\n",
      "T_avg_start = (I_1+I_2)/2*T   #Average starting torque(N-m)\n",
      "T_g = ((I_1+I_2)/2-1)*T       #Torque available for acceleration(N-m)\n",
      "alpha = T_g/J                 #Angular acceleration(rad/sec^2)\n",
      "t = 2*math.pi*N/(60*alpha)    #Time taken to accelerate the motor(sec)\n",
      "\n",
      "#Result\n",
      "print('Time taken to accelerate the motor to rated speed against full load torque, t = %.2f sec' %t)\n",
      "print('\\nNOTE: ERROR: Calculation mistake in the textbook solution')"
     ],
     "language": "python",
     "metadata": {},
     "outputs": [
      {
       "output_type": "stream",
       "stream": "stdout",
       "text": [
        "Time taken to accelerate the motor to rated speed against full load torque, t = 7.06 sec\n",
        "\n",
        "NOTE: ERROR: Calculation mistake in the textbook solution\n"
       ]
      }
     ],
     "prompt_number": 1
    },
    {
     "cell_type": "heading",
     "level": 2,
     "metadata": {},
     "source": [
      "Example 4.1.29, Page number 710"
     ]
    },
    {
     "cell_type": "code",
     "collapsed": false,
     "input": [
      "import math\n",
      "\n",
      "#Variable declaration\n",
      "hp = 50.0        #Motor rating(hp)\n",
      "N = 600.0        #Speed(rpm)\n",
      "energy = 276.0   #Stored energy(kg-m/hp)\n",
      "\n",
      "#Calculation\n",
      "g = 9.81\n",
      "T = hp*746*60/(2*math.pi*N*g)           #Full load torque of motor(kg-m)\n",
      "J = hp*energy*2*g/(2*math.pi*N/60)**2   #Moment of inertia(kg-m^2)\n",
      "alpha = T*g/J                           #Angular acceleration(rad/sec^2)\n",
      "t = 2*math.pi*N/(60*alpha)              #Time taken to accelerate the motor to rated speed(sec)\n",
      "\n",
      "#Result\n",
      "print('Time taken to accelerate the motor to rated speed, t = %.2f sec' %t)"
     ],
     "language": "python",
     "metadata": {},
     "outputs": [
      {
       "output_type": "stream",
       "stream": "stdout",
       "text": [
        "Time taken to accelerate the motor to rated speed, t = 7.26 sec\n"
       ]
      }
     ],
     "prompt_number": 1
    },
    {
     "cell_type": "heading",
     "level": 2,
     "metadata": {},
     "source": [
      "Example 4.1.30, Page number 710"
     ]
    },
    {
     "cell_type": "code",
     "collapsed": false,
     "input": [
      "import math\n",
      "\n",
      "#Variable declaration\n",
      "J = 1270.0     #Moment of inertia of fly-wheel(kg-m^2)\n",
      "N = 500.0      #Speed(rpm)\n",
      "hp = 50.0      #Motor rating(hp)\n",
      "\n",
      "#Calculation\n",
      "g = 9.81\n",
      "T = hp*746*60/(2*math.pi*N*g)     #Full load torque of motor(kg-m)\n",
      "T_m = 2*T                         #Accelerating torque(kg-m)\n",
      "alpha = T_m*g/J                   #Angular acceleration(rad/sec^2)\n",
      "t = 2*math.pi*N/(60*alpha)        #Time taken to accelerate a fly-wheel(sec)\n",
      "\n",
      "#Result\n",
      "print('Time taken to accelerate a fly-wheel, t = %.1f sec' %t)"
     ],
     "language": "python",
     "metadata": {},
     "outputs": [
      {
       "output_type": "stream",
       "stream": "stdout",
       "text": [
        "Time taken to accelerate a fly-wheel, t = 46.7 sec\n"
       ]
      }
     ],
     "prompt_number": 1
    },
    {
     "cell_type": "heading",
     "level": 2,
     "metadata": {},
     "source": [
      "Example 4.1.31, Page number 710-711"
     ]
    },
    {
     "cell_type": "code",
     "collapsed": false,
     "input": [
      "import math\n",
      "\n",
      "#Variable declaration\n",
      "N_1 = 1000.0   #Speed of dc shunt motor(rpm)\n",
      "N_2 = 400.0    #Speed of dc shunt motor(rpm)\n",
      "R = 14.0       #Resistance connected across armature(ohm)\n",
      "E_1 = 210.0    #EMF induced in armature at 1000 rpm(V)\n",
      "J = 17.0       #Moment of inertia(kg-m^2)\n",
      "T_F = 1.0      #Frictional torque(kg-m)\n",
      "\n",
      "#Calculation\n",
      "g = 9.81\n",
      "output = E_1**2/R                        #Motor output(W)\n",
      "T_E = output*60/(2*math.pi*N_1*g)        #Electric braking torque(kg-m)\n",
      "w_1 = 2*math.pi*N_1/60                   #\u03c9_1(rad/sec)\n",
      "k = T_E/w_1\n",
      "t = J/(g*k)*math.log(N_1/N_2)            #Time taken for dc shunt motor to fall in speed with constant excitation(sec)\n",
      "kw = T_E*N_2/N_1                         #k\u03c9\n",
      "t_F = J/(g*k)*math.log((1+T_E)/(1+kw))   #Time for the same fall if frictional torque exists(sec)\n",
      "\n",
      "#Result\n",
      "print('Time taken for dc shunt motor to fall in speed with constant excitation, t = %.1f sec' %t)\n",
      "print('Time for the same fall if frictional torque exists, t = %.1f sec' %t_F)"
     ],
     "language": "python",
     "metadata": {},
     "outputs": [
      {
       "output_type": "stream",
       "stream": "stdout",
       "text": [
        "Time taken for dc shunt motor to fall in speed with constant excitation, t = 54.2 sec\n",
        "Time for the same fall if frictional torque exists, t = 35.6 sec\n"
       ]
      }
     ],
     "prompt_number": 7
    },
    {
     "cell_type": "heading",
     "level": 2,
     "metadata": {},
     "source": [
      "Example 4.1.32, Page number 711"
     ]
    },
    {
     "cell_type": "code",
     "collapsed": false,
     "input": [
      "import math\n",
      "from scipy.integrate import quad\n",
      "\n",
      "#Variable declaration\n",
      "V = 400.0        #Voltage of synchronous motor(V)\n",
      "p = 8.0          #Number of poles\n",
      "J = 630.0        #Moment of inertia(kg-m^2)\n",
      "T_E = 165.0      #Braking torque(kg-m)\n",
      "kw_1 = 690.0     #Electric braking torque(kg-m)\n",
      "T_F = 1.4        #Frictional torque(kg-m)\n",
      "f = 50.0         #Frequency(Hz). Assumed normal supply frequency\n",
      "\n",
      "#Calculation\n",
      "g = 9.81\n",
      "#Case(a) Plugging\n",
      "T_B = T_E+T_F                                                                  #Torque(kg-m)\n",
      "beta = T_B*g/J                                                                 #Retardation(rad/sec^2)\n",
      "N_s = 120*f/p                                                                  #Synchronous speed(rad/sec)\n",
      "w = 2*math.pi*N_s/60                                                           #\u03c9(rad/sec)\n",
      "def integrand(w):\n",
      "    return (-1.0/beta)\n",
      "t_a, err = quad(integrand, w, 0)                                               #Time taken to stop the motor(sec)\n",
      "def integrand(w):\n",
      "    return (-w/(2*math.pi*beta))\n",
      "n_a, err = quad(integrand, w, 0)                                               #Number of revolutions\n",
      "#Case(b) Rheostatic braking\n",
      "k = kw_1/w\n",
      "t_b = J/(g*k)*math.log((T_F+kw_1)/T_F)                                         #Time taken to stop the motor(sec)\n",
      "n_b = 1.0/(2*math.pi*k)*(J/(g*k)*(T_F+kw_1)*(1-math.exp(-k*g*t_b/J))-T_F*t_b)  #Number of revolutions\n",
      "\n",
      "#Result\n",
      "print('Case(a): Time taken to come to standstill by plugging, t = %.1f sec' %t_a)\n",
      "print('         Number of revolutions made to come to standstill by plugging, n = %.f revolutions' %n_a)\n",
      "print('Case(b): Time taken to come to standstill by rheostatic braking, t = %.1f sec' %t_b)\n",
      "print('         Number of revolutions made to come to standstill by rheostatic braking, n = %.f revolutions' %n_b)\n",
      "print('\\nNOTE: ERROR: Calculation mistake in finding number of revolution in case(a) in textbook solution')"
     ],
     "language": "python",
     "metadata": {},
     "outputs": [
      {
       "output_type": "stream",
       "stream": "stdout",
       "text": [
        "Case(a): Time taken to come to standstill by plugging, t = 30.3 sec\n",
        "         Number of revolutions made to come to standstill by plugging, n = 189 revolutions\n",
        "Case(b): Time taken to come to standstill by rheostatic braking, t = 45.3 sec\n",
        "         Number of revolutions made to come to standstill by rheostatic braking, n = 90 revolutions\n",
        "\n",
        "NOTE: ERROR: Calculation mistake in finding number of revolution in case(a) in textbook solution\n"
       ]
      }
     ],
     "prompt_number": 1
    },
    {
     "cell_type": "heading",
     "level": 2,
     "metadata": {},
     "source": [
      "Example 4.1.33, Page number 712-713"
     ]
    },
    {
     "cell_type": "code",
     "collapsed": false,
     "input": [
      "import math\n",
      "\n",
      "#Variable declaration\n",
      "hp = 500.0      #Rating of IM(hp)\n",
      "N_nl = 40.0     #No-load speed(rpm)\n",
      "S_fl = 0.12     #Slip at full-load\n",
      "T_l = 41500.0   #Load torque(kg-m)\n",
      "t = 10.0        #Duration of each rolling period(sec)\n",
      "\n",
      "#Calculation\n",
      "g = 9.81\n",
      "T_fl = hp*746*60/(2*math.pi*N_nl*g*(1-S_fl))     #Torque at full-load(kg-m)\n",
      "T_m = 2.0*T_fl                                   #Motor torque at any instant(kg-m)\n",
      "slip = S_fl*N_nl                                 #Slip(rpm)\n",
      "slip_rad = slip*2*math.pi/60                     #Slip(rad/sec)\n",
      "k = slip_rad/T_fl\n",
      "J = -g*t/(k*math.log(1-(T_m/T_l)))               #Inertia of flywheel(kg-m^2)\n",
      "\n",
      "#Result\n",
      "print('Inertia of flywheel required, J = %.3e kg-m^2' %J)\n",
      "print('\\nNOTE: ERROR : J = 2.93*10^6 kg-m^2 and not 2.93*10^5 as mentioned in the textbook solution')"
     ],
     "language": "python",
     "metadata": {},
     "outputs": [
      {
       "output_type": "stream",
       "stream": "stdout",
       "text": [
        "Inertia of flywheel required, J = 2.929e+06 kg-m^2\n",
        "\n",
        "NOTE: ERROR : J = 2.93*10^6 kg-m^2 and not 2.93*10^5 as mentioned in the textbook solution\n"
       ]
      }
     ],
     "prompt_number": 1
    },
    {
     "cell_type": "heading",
     "level": 2,
     "metadata": {},
     "source": [
      "Example 4.1.34, Page number 713"
     ]
    },
    {
     "cell_type": "code",
     "collapsed": false,
     "input": [
      "import math\n",
      "\n",
      "#Variable declaration\n",
      "T_l = 150.0     #Load torque(kg-m)\n",
      "t = 15.0        #Duration of load torque(sec)\n",
      "T_m = 85.0      #Motor torque(kg-m)\n",
      "N = 500.0       #Speed(rpm)\n",
      "s_fl = 0.1      #Full-load slip\n",
      "\n",
      "#Calculation\n",
      "g = 9.81\n",
      "slip = N*s_fl*2*math.pi/60                   #Slip(rad/sec)\n",
      "k = slip/T_m\n",
      "T_0 = 0                                      #No-load torque(kg-m)\n",
      "J = -g*t/(k*math.log((T_l-T_m)/(T_l-T_0)))   #Moment of inertia of flywheel(kg-m^2)\n",
      "\n",
      "#Result\n",
      "print('Inertia of flywheel required, J = %.f kg-m^2' %J)\n",
      "print('\\nNOTE: ERROR : Calculation mistake in the textbook solution')"
     ],
     "language": "python",
     "metadata": {},
     "outputs": [
      {
       "output_type": "stream",
       "stream": "stdout",
       "text": [
        "Inertia of flywheel required, J = 2857 kg-m^2\n",
        "\n",
        "NOTE: ERROR : Calculation mistake in the textbook solution\n"
       ]
      }
     ],
     "prompt_number": 1
    }
   ],
   "metadata": {}
  }
 ]
}