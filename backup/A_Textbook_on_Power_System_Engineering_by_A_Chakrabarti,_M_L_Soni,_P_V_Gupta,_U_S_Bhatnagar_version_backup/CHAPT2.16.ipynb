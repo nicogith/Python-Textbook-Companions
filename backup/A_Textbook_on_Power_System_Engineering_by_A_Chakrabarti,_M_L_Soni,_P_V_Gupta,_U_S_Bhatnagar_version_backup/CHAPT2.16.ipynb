{
 "metadata": {
  "name": ""
 },
 "nbformat": 3,
 "nbformat_minor": 0,
 "worksheets": [
  {
   "cells": [
    {
     "cell_type": "heading",
     "level": 1,
     "metadata": {},
     "source": [
      "CHAPTER 2.16: POWER SYSTEM GROUNDING"
     ]
    },
    {
     "cell_type": "heading",
     "level": 2,
     "metadata": {},
     "source": [
      "Example 2.16.1, Page number 409"
     ]
    },
    {
     "cell_type": "code",
     "collapsed": false,
     "input": [
      "import math\n",
      "\n",
      "#Variable declaration\n",
      "V = 132.0*10**3        #Voltage(V)\n",
      "n = 3.0                #Number of phase\n",
      "f = 50.0               #Frequency(Hz)\n",
      "l = 50.0               #Line length(km)\n",
      "C = 0.0157*10**-6      #Capacitance to earth(F/km)\n",
      "\n",
      "#Calculation\n",
      "L = 1/(n*(2*math.pi*f)**2*C*l)     #Inductance(H)\n",
      "X_L = 2*math.pi*f*L                #Reactance(ohm)\n",
      "I_F = V/(3**0.5*X_L)               #Current(A)\n",
      "rating = I_F*V/(3**0.5*1000)       #Rating of arc suppression coil(kVA)\n",
      "\n",
      "#Result\n",
      "print('Inductance, L = %.1f Henry' %L)\n",
      "print('Rating of arc suppression coil = %.f kVA' %rating)\n",
      "print('\\nNOTE: Changes in the obtained answer from that of textbook is due to more approximation in the textbook')"
     ],
     "language": "python",
     "metadata": {},
     "outputs": [
      {
       "output_type": "stream",
       "stream": "stdout",
       "text": [
        "Inductance, L = 4.3 Henry\n",
        "Rating of arc suppression coil = 4297 kVA\n",
        "\n",
        "NOTE: Changes in the obtained answer from that of textbook is due to more approximation in the textbook\n"
       ]
      }
     ],
     "prompt_number": 1
    }
   ],
   "metadata": {}
  }
 ]
}