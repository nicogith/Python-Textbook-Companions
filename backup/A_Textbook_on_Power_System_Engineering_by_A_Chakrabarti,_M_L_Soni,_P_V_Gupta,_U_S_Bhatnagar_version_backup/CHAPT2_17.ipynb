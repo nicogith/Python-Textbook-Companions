{
 "metadata": {
  "name": ""
 },
 "nbformat": 3,
 "nbformat_minor": 0,
 "worksheets": [
  {
   "cells": [
    {
     "cell_type": "heading",
     "level": 1,
     "metadata": {},
     "source": [
      "CHAPTER 2.17: ELECTRIC POWER SUPPLY SYSTEMS"
     ]
    },
    {
     "cell_type": "heading",
     "level": 2,
     "metadata": {},
     "source": [
      "Example 2.17.1, Page number 422-423"
     ]
    },
    {
     "cell_type": "code",
     "collapsed": false,
     "input": [
      "#Variable declaration\n",
      "no_phase = 3.0          #Number of phases in ac transmission system\n",
      "V = 380.0*10**3         #Voltage b/w lines(V)\n",
      "load = 100.0            #Load(MW)\n",
      "PF = 0.9                #Power factor\n",
      "l = 150.0               #Line length(km)\n",
      "n = 0.92                #Efficiency\n",
      "r = 0.045               #Resistance(ohm/km/sq.cm)\n",
      "w_cu_1 = 0.01           #Weight of 1 cm^3 copper(kg)\n",
      "\n",
      "#Calculation\n",
      "#Case(i)\n",
      "P_loss = (1-n)*load                  #Power loss in the line(MW)\n",
      "I_L = load*10**6/(3**0.5*V*PF)       #Line current(A)\n",
      "loss_cu = P_loss/no_phase*10**6      #I^2*R loss per conductor(W)\n",
      "R = loss_cu/I_L**2                   #Resistance per conductor(ohm)\n",
      "R_km = R/l                           #Resistance per conductor per km(ohm)\n",
      "area = r/R_km                        #Conductor area(Sq.cm)\n",
      "volume = area*100.0                  #Volume of copper per km run(cm^3)\n",
      "W_cu_km = volume*w_cu_1              #Weight of copper per km run(kg)\n",
      "W_cu = no_phase*l*1000*W_cu_km       #Weight of copper for 3 conductors of 150 km(kg)\n",
      "#Case(ii)\n",
      "W_cu_dc = 1.0/2*PF**2*W_cu           #Weight of copper conductor in dc(kg)\n",
      "\n",
      "\n",
      "#Result\n",
      "print('Weight of copper required for a three-phase transmission system = %.f kg' %W_cu)\n",
      "print('Weight of copper required for the d-c transmission system = %.f kg' %W_cu_dc)\n",
      "print('\\nNOTE: Changes in the obtained answer from that of textbook is due to more precision')"
     ],
     "language": "python",
     "metadata": {},
     "outputs": [
      {
       "output_type": "stream",
       "stream": "stdout",
       "text": [
        "Weight of copper required for a three-phase transmission system = 32462 kg\n",
        "Weight of copper required for the d-c transmission system = 13147 kg\n",
        "\n",
        "NOTE: Changes in the obtained answer from that of textbook is due to more precision\n"
       ]
      }
     ],
     "prompt_number": 1
    },
    {
     "cell_type": "heading",
     "level": 2,
     "metadata": {},
     "source": [
      "Example 2.17.2, Page number 423"
     ]
    },
    {
     "cell_type": "code",
     "collapsed": false,
     "input": [
      "#Variable declaration\n",
      "P_1 = 1.0    #Assume P1 to be 1\n",
      "\n",
      "#Calculation\n",
      "P_2 = (3.0*2)**0.5            #3-phase power transmitted in terms of P_1\n",
      "inc_per = (P_2-P_1)/P_1*100   #Increase in power transmitted(%)\n",
      "\n",
      "#Result\n",
      "print('Percentage increase in power transmitted = %.f percent' %inc_per)"
     ],
     "language": "python",
     "metadata": {},
     "outputs": [
      {
       "output_type": "stream",
       "stream": "stdout",
       "text": [
        "Percentage increase in power transmitted = 145 percent\n"
       ]
      }
     ],
     "prompt_number": 1
    },
    {
     "cell_type": "heading",
     "level": 2,
     "metadata": {},
     "source": [
      "Example 2.17.3, Page number 424"
     ]
    },
    {
     "cell_type": "code",
     "collapsed": false,
     "input": [
      "#Variable declaration\n",
      "PF = 0.95    #Lagging power factor\n",
      "\n",
      "#Calculation\n",
      "P_1 = 1.0                                     #Power in terms of V*I_1\n",
      "P_2 = 2.0*PF**2                               #Power in terms of V*I_1\n",
      "P_additional_percentage = (P_2-P_1)/P_1*100   #Percentage additional power transmitted in a 3-phase 3-wire system\n",
      "\n",
      "#Result\n",
      "print('Percentage additional power transmitted in a 3-phase 3-wire system = %.f percent' %P_additional_percentage)"
     ],
     "language": "python",
     "metadata": {},
     "outputs": [
      {
       "output_type": "stream",
       "stream": "stdout",
       "text": [
        "Percentage additional power transmitted in a 3-phase 3-wire system = 80 percent\n"
       ]
      }
     ],
     "prompt_number": 1
    },
    {
     "cell_type": "heading",
     "level": 2,
     "metadata": {},
     "source": [
      "Example 2.17.4, Page number 424-425"
     ]
    },
    {
     "cell_type": "code",
     "collapsed": false,
     "input": [
      "#Variable declaration\n",
      "n = 3.0       #3-phase 4 wire ac system\n",
      "\n",
      "#Calculation\n",
      "a2_a1 = 1.0/6            #Ratio of cross-sectional area of 2 wire dc to 3-phase 4-wire system\n",
      "ratio_cu = 3.5/2*a2_a1   #Copper for 3 phase 4 wire system to copper for 2 wire dc system\n",
      "\n",
      "#Result\n",
      "print('Copper for 3-phase 4-wire system/Copper for 2-wire dc system = %.3f : 1' %ratio_cu)"
     ],
     "language": "python",
     "metadata": {},
     "outputs": [
      {
       "output_type": "stream",
       "stream": "stdout",
       "text": [
        "Copper for 3-phase 4-wire system/Copper for 2-wire dc system = 0.292 : 1\n"
       ]
      }
     ],
     "prompt_number": 1
    },
    {
     "cell_type": "heading",
     "level": 2,
     "metadata": {},
     "source": [
      "Example 2.17.5, Page number 425"
     ]
    },
    {
     "cell_type": "code",
     "collapsed": false,
     "input": [
      "#Variable declaration\n",
      "L = 60.0            #Line length(km)\n",
      "P = 5.0             #Load(MW)\n",
      "PF = 0.8            #Lagging power factor\n",
      "V = 33.0*10**3      #Voltage(V)\n",
      "n = 0.85            #Transmission efficiency\n",
      "rho = 1.73*10**-8   #Specific resistance of copper(ohm-mt)\n",
      "density = 8900.0    #Density(kg/mt^3)\n",
      "\n",
      "#Calculation\n",
      "I = P*10**6/(3**0.5*V*PF)               #Line current(A)\n",
      "line_loss = (1-n)*P*1000/n              #Line loss(kW)\n",
      "line_loss_phase = line_loss/3.0         #Line loss/phase(kW)\n",
      "R = line_loss_phase*1000/I**2           #Resistance/phase(ohm)\n",
      "a = rho*L*1000/R                        #Area of cross section of conductor(m^2)\n",
      "volume = 3.0*a*L*1000                   #Volume of copper(m^3)\n",
      "W_cu = volume*density                   #Weight of copper in 3-phase system(kg)\n",
      "I_1 = P*10**6/V                         #Current in single phase system(A)\n",
      "R_1 = line_loss*1000/(2*I_1**2)         #Resistance in single phase system(ohm)\n",
      "a_1 = rho*L*1000/R_1                    #Area of cross section of conductor in single phase system(m^2)\n",
      "volume_1 = 2.0*a_1*L*1000               #Volume of copper(m^3)\n",
      "W_cu_1 = volume_1*density               #Weight of copper in 1-phase system(kg)\n",
      "reduction_cu = (W_cu-W_cu_1)/W_cu*100   #Reduction in copper(%)\n",
      "\n",
      "#Result\n",
      "print('Weight of copper required for 3-phase 2-wire system = %.2e kg' %W_cu)\n",
      "print('Reduction of weight of copper possible = %.1f percent' %reduction_cu)\n",
      "print('\\nNOTE: ERROR: Calculation mistakes in the textbook solution')"
     ],
     "language": "python",
     "metadata": {},
     "outputs": [
      {
       "output_type": "stream",
       "stream": "stdout",
       "text": [
        "Weight of copper required for 3-phase 2-wire system = 6.76e+04 kg\n",
        "Reduction of weight of copper possible = 14.7 percent\n",
        "\n",
        "NOTE: ERROR: Calculation mistakes in the textbook solution\n"
       ]
      }
     ],
     "prompt_number": 1
    },
    {
     "cell_type": "heading",
     "level": 2,
     "metadata": {},
     "source": [
      "Example 2.17.6, Page number 427-428"
     ]
    },
    {
     "cell_type": "code",
     "collapsed": false,
     "input": [
      "from sympy import *\n",
      "\n",
      "#Variable declaration\n",
      "L = 250.0                 #Cable length(m)\n",
      "P = 80.0*10**3            #Load(W)\n",
      "V = 400.0                 #Voltage(V)\n",
      "PF = 0.8                  #Lagging power factor\n",
      "time = 4000.0             #Time of operation(hours/annum)\n",
      "a = Symbol('a')           #Area of each conductor(Sq.cm)\n",
      "cost_instal = 15.0*a+25   #Cost of cable including installation(Rs/m)\n",
      "interest_per = 0.1        #Interest & depreciation\n",
      "cost_waste_per = 0.1      #Cost of energy wasted(Rs/unit)\n",
      "r = 0.173                 #Resistance per km of 1 cm^2(ohm)\n",
      "\n",
      "#Calculation\n",
      "I = P/(3**0.5*V*PF)                                     #Line current(A)\n",
      "energy_waste = 3.0*I**2*r/a*L*10**-3*time*10**-3        #Energy wasted per annum(kWh)\n",
      "cost_energy_waste = cost_waste_per*energy_waste         #Annual cost of energy wasted as losses(Rs)\n",
      "capitaL_cost_cable = cost_instal*L                      #Capital cost of cable(Rs)\n",
      "annual_cost_cable = capitaL_cost_cable*cost_waste_per   #Annual cost on cable(Rs)\n",
      "area = (1081.25/375)**0.5                               #Area = a(Sq.cm)\n",
      "\n",
      "#Result\n",
      "print('Economical cross-section of a 3-core distributor cable, a = %.1f cm^2' %area)"
     ],
     "language": "python",
     "metadata": {},
     "outputs": [
      {
       "output_type": "stream",
       "stream": "stdout",
       "text": [
        "Economical cross-section of a 3-core distributor cable, a = 1.7 cm^2\n"
       ]
      }
     ],
     "prompt_number": 1
    },
    {
     "cell_type": "heading",
     "level": 2,
     "metadata": {},
     "source": [
      "Example 2.17.7, Page number 428"
     ]
    },
    {
     "cell_type": "code",
     "collapsed": false,
     "input": [
      "from sympy import *\n",
      "\n",
      "#Variable declaration\n",
      "V = 110.0*10**3               #Voltage(V)\n",
      "l_1 = 24.0*10**6              #Load(MW)\n",
      "t_1 = 6.0                     #Time(hours)\n",
      "l_2 = 8.0*10**6               #Load(MW)\n",
      "t_2 = 6.0                     #Time(hours)\n",
      "l_3 = 4.0*10**6               #Load(MW)\n",
      "t_3 = 12.0                    #Time(hours)\n",
      "PF = 0.8                      #Lagging power factor\n",
      "a = Symbol('a')               #Cross-section of each conductor(Sq.cm)\n",
      "cost_line = 12000.0+8000*a    #Cost of line including erection(Rs/km)\n",
      "R = 0.19/a                    #Resistance per km of each conductor(ohm)\n",
      "cost_energy = 8.0/100         #Energy cost(Rs/unit)\n",
      "interest_per = 0.1            #Interest & depreciation. Assumption\n",
      "\n",
      "#Calculation\n",
      "annual_charge = interest_per*cost_line     #Total annual charge(Rs)\n",
      "I_1 = l_1/(3**0.5*V*PF)                    #Line current for load 1(A)\n",
      "I_2 = l_2/(3**0.5*V*PF)                    #Line current for load 2(A)\n",
      "I_3 = l_3/(3**0.5*V*PF)                    #Line current for load 3(A)\n",
      "I_2_t = I_1**2*t_1+I_2**2*t_2+I_3**2*t_3   #I^2*t\n",
      "annual_energy = 3.0*R*365/1000*I_2_t       #Annual energy consumption on account of losses(kWh)\n",
      "cost_waste = annual_energy*cost_energy     #Cost of energy wasted per annum(Rs)\n",
      "area = (2888.62809917355/800.0)**0.5       #Economical cross-section = a(Sq.cm)\n",
      "\n",
      "#Result\n",
      "print('Most economical cross-section, a = %.2f cm^2' %area)"
     ],
     "language": "python",
     "metadata": {},
     "outputs": [
      {
       "output_type": "stream",
       "stream": "stdout",
       "text": [
        "Most economical cross-section, a = 1.90 cm^2\n"
       ]
      }
     ],
     "prompt_number": 1
    },
    {
     "cell_type": "heading",
     "level": 2,
     "metadata": {},
     "source": [
      "Example 2.17.8, Page number 428-429"
     ]
    },
    {
     "cell_type": "code",
     "collapsed": false,
     "input": [
      "#Variable declaration\n",
      "cost_km_cu = 2800.0         #Cost per km for each copper conductor of sq.cm(Rs)\n",
      "LF_I = 80.0/100             #Load factor of load current\n",
      "LF_loss = 65.0/100          #Load factor of losses\n",
      "interest_per = 10.0/100     #Rate of interest and depreciation\n",
      "cost_energy = 5.0/100       #Cost of energy(Rs/kWh)\n",
      "rho = 1.78*10**-8           #Resistivity(ohm-m)\n",
      "\n",
      "#Calculation\n",
      "P_2 = cost_km_cu*interest_per                   #Cost in terms of L(Rs)\n",
      "time_year = 365.0*24                            #Total hours in a year\n",
      "P_3 = cost_energy*rho*10**4*time_year*LF_loss   #Cost in terms of I^2 & L(Rs)\n",
      "delta = (P_2/P_3)**0.5                          #Economical current density for the transmission line(A/sq.cm)\n",
      "\n",
      "#Result\n",
      "print('Most economical current density for the transmission line, \u03b4 = %.f A/sq.cm' %delta)"
     ],
     "language": "python",
     "metadata": {},
     "outputs": [
      {
       "output_type": "stream",
       "stream": "stdout",
       "text": [
        "Most economical current density for the transmission line, \u03b4 = 74 A/sq.cm\n"
       ]
      }
     ],
     "prompt_number": 1
    },
    {
     "cell_type": "heading",
     "level": 2,
     "metadata": {},
     "source": [
      "Example 2.17.9, Page number 429"
     ]
    },
    {
     "cell_type": "code",
     "collapsed": false,
     "input": [
      "#Variable declaration\n",
      "MD = 1000.0                 #Maximum demand(kW)\n",
      "energy_cons = 5.0*10**6     #Annual energy consumption(kWh)\n",
      "PF = 0.85                   #Power factor\n",
      "capital_cost = 80000.0      #Capital cost of cable(Rs/km)\n",
      "cost_energy = 5.0/100       #Energy cost(Rs/kWh)\n",
      "interest_per = 10.0/100     #Rate of interest and depreciation\n",
      "r_specific = 1.72*10**-6    #Specific resistance of copper(ohm/cubic.cm)\n",
      "V = 11.0                    #Voltage(kV)\n",
      "\n",
      "#Calculation\n",
      "I = MD/(3**0.5*V*PF)                                             #Line current corresponding to maximum demand(A)\n",
      "hours_year = 365.0*24                                            #Total hours in a year\n",
      "LF = energy_cons/(MD*hours_year)                                 #Load factor\n",
      "loss_LF = 0.25*LF+0.75*LF**2                                     #Loss load factor\n",
      "P_2 = capital_cost*interest_per                                  #Cost in terms of L(Rs)\n",
      "P_3 = 3.0*I**2*r_specific*10**4*hours_year*loss_LF*cost_energy   #Cost in terms of I^2 & L(Rs)\n",
      "a = (P_3/P_2)**0.5                                               #Most economical cross-section of conductor(sq.cm)\n",
      "\n",
      "#Result\n",
      "print('Most economical cross-section of the conductor, a = %.2f cm^2' %a)\n",
      "print('\\nNOTE: ERROR: Calculation mistake in the textbook solution')"
     ],
     "language": "python",
     "metadata": {},
     "outputs": [
      {
       "output_type": "stream",
       "stream": "stdout",
       "text": [
        "Most economical cross-section of the conductor, a = 2.04 cm^2\n",
        "\n",
        "NOTE: ERROR: Calculation mistake in the textbook solution\n"
       ]
      }
     ],
     "prompt_number": 1
    }
   ],
   "metadata": {}
  }
 ]
}