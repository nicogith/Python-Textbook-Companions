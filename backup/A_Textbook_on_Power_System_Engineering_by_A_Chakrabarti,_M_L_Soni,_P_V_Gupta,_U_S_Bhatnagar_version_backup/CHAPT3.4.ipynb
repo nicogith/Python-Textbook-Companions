{
 "metadata": {
  "name": ""
 },
 "nbformat": 3,
 "nbformat_minor": 0,
 "worksheets": [
  {
   "cells": [
    {
     "cell_type": "heading",
     "level": 1,
     "metadata": {},
     "source": [
      "CHAPTER 3.4: UNSYMMETRICAL FAULTS IN POWER SYSTEMS"
     ]
    },
    {
     "cell_type": "heading",
     "level": 2,
     "metadata": {},
     "source": [
      "Example 3.4.1, Page number 510-512"
     ]
    },
    {
     "cell_type": "code",
     "collapsed": false,
     "input": [
      "import math\n",
      "import cmath\n",
      "\n",
      "#Variable declaration\n",
      "MVA = 15.0    #Generator rating(MVA)\n",
      "kV = 6.9      #Generator voltage(kV)\n",
      "X_1 = 25.0    #Positive sequence reactance(%)\n",
      "X_2 = 25.0    #Negative sequence reactance(%)\n",
      "X_0 = 8.0     #Zero sequence reactance(%)\n",
      "X = 6.0       #Reactor placed in line(%)\n",
      "\n",
      "#Calculation\n",
      "a = cmath.exp(1j*120.0*math.pi/180)                               #Operator\n",
      "Z_1 = 1j*X_1/100                                                  #Positive sequence impedance(p.u)\n",
      "Z_2 = 1j*X_2/100                                                  #Negative sequence impedance(p.u)\n",
      "Z_g0 = 1j*X_0/100                                                 #Impedance(p.u)\n",
      "Z = 1j*X/100                                                      #Impedance(p.u)\n",
      "Z_0 = Z_g0+3*Z                                                    #Zero sequence impedance(p.u)\n",
      "E_a = 1.0                                                         #Voltage(p.u)\n",
      "E_b = a**2*E_a                                                    #Voltage(p.u)\n",
      "#Case(a)\n",
      "I_a0_a = 0                                                        #Current(A)\n",
      "I_a1_a_pu = 1.0/(Z_1+Z_2)                                         #Current(p.u)\n",
      "I_a1_a = I_a1_a_pu*MVA*1000/(3**0.5*kV)                           #Current(A)\n",
      "I_a2_a = -I_a1_a                                                  #Current(A)\n",
      "I_b0_a = 0                                                        #Current(A)\n",
      "I_b1_a = a**2*I_a1_a                                              #Current(A)\n",
      "I_b2_a = a*I_a2_a                                                 #Current(A)\n",
      "I_a_a = I_a1_a+I_a2_a                                             #Line current(A)\n",
      "I_b_a = I_b1_a+I_b2_a                                             #Line current(A)\n",
      "I_c_a = -I_b_a                                                    #Line current(A)\n",
      "I_g_a = 0                                                         #Ground wire current(A)\n",
      "V_a_a = (E_a-I_a1_a*Z_1-I_a2_a*Z_2-I_a0_a*Z_0)*kV*1000/3**0.5     #Voltage(V)\n",
      "V_b_a = (a**2*E_a+1j*3**0.5*I_a1_a_pu*Z_1)*kV*1000/3**0.5         #Voltage(V)\n",
      "V_c_a = V_b_a                                                     #Voltage(V)\n",
      "#Case(b)\n",
      "I_a1_b_pu = E_a/(Z_1+(Z_2*Z_0/(Z_2+Z_0)))                         #Current(p.u)\n",
      "I_a1_b = I_a1_b_pu*MVA*1000/(3**0.5*kV)                           #Current(A)\n",
      "I_a2_b_pu = -Z_0*Z_2/(Z_2*(Z_0+Z_2))*I_a1_b_pu                    #Current(p.u)\n",
      "I_a2_b = -Z_0*Z_2/(Z_2*(Z_0+Z_2))*I_a1_b                          #Current(A)\n",
      "I_a0_b_pu = -Z_0*Z_2/(Z_0*(Z_0+Z_2))*I_a1_b_pu                    #Current(p.u)\n",
      "I_a0_b = -Z_0*Z_2/(Z_0*(Z_0+Z_2))*I_a1_b                          #Current(A)\n",
      "I_a_b = I_a0_b+I_a1_b+I_a2_b                                      #Line current(A)\n",
      "I_b_b = I_a0_b+a**2*I_a1_b+a*I_a2_b                               #Line current(A)\n",
      "I_c_b = I_a0_b+a*I_a1_b+a**2*I_a2_b                               #Line current(A)\n",
      "I_0_b = 3*I_a0_b                                                  #Current in the ground resistor(A)\n",
      "V_a_b_pu = E_a-I_a1_b_pu*Z_1-I_a2_b_pu*Z_2-I_a0_b_pu*Z_0          #Voltage(p.u)\n",
      "V_a_b = abs(V_a_b_pu)*kV*1000/(3**0.5)                            #Voltage(V)\n",
      "V_b_b = 0                                                         #Voltage(V)\n",
      "V_c_b = 0                                                         #Voltage(V)\n",
      "\n",
      "#Result\n",
      "print('Case(a): Initial symmetrical rms line current when ground is not involved in fault, I_a = %.f A' %abs(I_a_a))\n",
      "print('         Initial symmetrical rms line current when ground is not involved in fault, I_b = %.f A' %I_b_a.real)\n",
      "print('         Initial symmetrical rms line current when ground is not involved in fault, I_c = %.f A' %I_c_a.real)\n",
      "print('         Ground wire current = %.f A' %I_g_a)\n",
      "print('         Line to neutral voltage, V_a = %.f V' %V_a_a.real)\n",
      "print('         Line to neutral voltage, V_b = %.f V' %V_b_a.real)\n",
      "print('         Line to neutral voltage, V_c = %.f V' %V_c_a.real)\n",
      "print('Case(b): Initial symmetrical rms line current when fault is solidly grounded, I_a = %.f A' %abs(I_a_b))\n",
      "print('         Initial symmetrical rms line current when fault is solidly grounded, I_b = (%.f+%.fj) A' %(I_b_b.real,I_b_b.imag))\n",
      "print('         Initial symmetrical rms line current when fault is solidly grounded, I_c = (%.f+%.fj) A' %(I_c_b.real,I_c_b.imag))\n",
      "print('         Ground wire current = %.fj A' %I_0_b.imag)\n",
      "print('         Line to neutral voltage, V_a = %.f V' %V_a_b)\n",
      "print('         Line to neutral voltage, V_b = %.f V' %V_b_b)\n",
      "print('         Line to neutral voltage, V_c = %.f V' %V_c_b)\n",
      "print('\\nNOTE: Changes in the obtained answer from that of textbook is due to more precision here and approximation in textbook')"
     ],
     "language": "python",
     "metadata": {},
     "outputs": [
      {
       "output_type": "stream",
       "stream": "stdout",
       "text": [
        "Case(a): Initial symmetrical rms line current when ground is not involved in fault, I_a = 0 A\n",
        "         Initial symmetrical rms line current when ground is not involved in fault, I_b = -4348 A\n",
        "         Initial symmetrical rms line current when ground is not involved in fault, I_c = 4348 A\n",
        "         Ground wire current = 0 A\n",
        "         Line to neutral voltage, V_a = 3984 V\n",
        "         Line to neutral voltage, V_b = -1992 V\n",
        "         Line to neutral voltage, V_c = -1992 V\n",
        "Case(b): Initial symmetrical rms line current when fault is solidly grounded, I_a = 0 A\n",
        "         Initial symmetrical rms line current when fault is solidly grounded, I_b = (-4348+2445j) A\n",
        "         Initial symmetrical rms line current when fault is solidly grounded, I_c = (4348+2445j) A\n",
        "         Ground wire current = 4890j A\n",
        "         Line to neutral voltage, V_a = 4035 V\n",
        "         Line to neutral voltage, V_b = 0 V\n",
        "         Line to neutral voltage, V_c = 0 V\n",
        "\n",
        "NOTE: Changes in the obtained answer from that of textbook is due to more precision here and approximation in textbook\n"
       ]
      }
     ],
     "prompt_number": 1
    },
    {
     "cell_type": "heading",
     "level": 2,
     "metadata": {},
     "source": [
      "Example 3.4.2, Page number 512"
     ]
    },
    {
     "cell_type": "code",
     "collapsed": false,
     "input": [
      "import math\n",
      "import cmath\n",
      "\n",
      "#Variable declaration\n",
      "kVA = 10000.0     #Generator rating(kVA)\n",
      "f = 50.0          #Frequency(Hz)\n",
      "I_1 = 30.0        #Positive sequence current(%)\n",
      "I_2 = 10.0        #Negative sequence current(%)\n",
      "I_0 = 5.0         #Zero sequence current(%)\n",
      "d = 1.0/100       #Diameter of conductor(m)\n",
      "D = 5.0           #Triangular spacing(m)\n",
      "kV = 30.0         #Generator voltage on open-circuit(kV)\n",
      "l = 20.0          #Distance of line at short circuit occurance(km)\n",
      "\n",
      "#Calculation\n",
      "a = cmath.exp(1j*120.0*math.pi/180)                                #Operator\n",
      "Z_g1 = kV**2*I_1*I_2/kVA                                           #Positive phase sequence reactance of generator(ohm)\n",
      "Z_g2 = Z_g1*I_2/I_1                                                #Negative phase sequence reactance of generator(ohm)\n",
      "Z_g0 = Z_g1*I_0/I_1                                                #Zero phase sequence reactance of generator(ohm)\n",
      "r = d/2                                                            #Radius of conductor(m)\n",
      "Z_l1 = 2.0*math.pi*f*(0.5+4.606*math.log10(D/r))*10**-7*l*1000     #Positive phase sequence reactance of line(ohm)\n",
      "Z_l2 = 2.0*math.pi*f*(0.5+4.606*math.log10(D/r))*10**-7*l*1000     #Negative phase sequence reactance of line(ohm)\n",
      "Z_1 = 1j*(Z_g1+Z_l1)                                               #Z1 upto the point of fault(ohm)\n",
      "Z_2 = 1j*(Z_g2+Z_l2)                                               #Z2 upto the point of fault(ohm)\n",
      "E_a = kV*1000/3**0.5                                               #Phase voltage(V)\n",
      "I_a1 = E_a/(Z_1+Z_2)                                               #Positive sequence current in line a(A)\n",
      "I_a2 = -I_a1                                                       #Negative sequence current in line a(A)\n",
      "I_a0 = 0                                                           #Zero sequence current in line a(A)\n",
      "I_b0 = 0                                                           #Zero sequence current in line b(A)\n",
      "I_c0 = 0                                                           #Zero sequence current in line c(A)\n",
      "I_a = I_a0+I_a1+I_a2                                               #Current in line a(A)\n",
      "I_b = I_b0+a**2*I_a1+a*I_a2                                        #Current in line b(A)\n",
      "I_c = I_c0+a*I_a1+a**2*I_a2                                        #Current in line c(A)\n",
      "\n",
      "#Result\n",
      "print('Current in line a, I_a = %.f A' %abs(I_a))\n",
      "print('Current in line b, I_b = %.f A' %I_b.real)\n",
      "print('Current in line c, I_c = %.f A' %I_c.real)"
     ],
     "language": "python",
     "metadata": {},
     "outputs": [
      {
       "output_type": "stream",
       "stream": "stdout",
       "text": [
        "Current in line a, I_a = 0 A\n",
        "Current in line b, I_b = -556 A\n",
        "Current in line c, I_c = 556 A\n"
       ]
      }
     ],
     "prompt_number": 1
    },
    {
     "cell_type": "heading",
     "level": 2,
     "metadata": {},
     "source": [
      "Example 3.4.3, Page number 512-513"
     ]
    },
    {
     "cell_type": "code",
     "collapsed": false,
     "input": [
      "import math\n",
      "import cmath\n",
      "\n",
      "#Variable declaration\n",
      "kVA = 10000.0                  #Alternator rating(kVA)\n",
      "Z_g1 = complex(0.5,4.7)        #Positive sequence impedance(ohm/phase)\n",
      "Z_g2 = complex(0.2,0.6)        #Negative sequence impedance(ohm/phase)\n",
      "Z_g0 = complex(0,0.43)         #Zero sequence impedance(ohm/phase)\n",
      "Z_l1 = complex(0.36,0.25)      #Impedance(ohm)\n",
      "Z_l2 = complex(0.36,0.25)      #Impedance(ohm)\n",
      "Z_l0 = complex(2.9,0.95)       #Impedance(ohm)\n",
      "V = 6600.0                     #Voltage(V)\n",
      "\n",
      "#Calculation\n",
      "a = cmath.exp(1j*120.0*math.pi/180)                   #Operator\n",
      "#Case(a)\n",
      "E_a = V/3**0.5                                        #Phase voltage(V)\n",
      "Z_1 = Z_g1+Z_l1                                       #Z1 upto the point of fault(ohm)\n",
      "Z_2 = Z_g2+Z_l2                                       #Z2 upto the point of fault(ohm)\n",
      "Z_0 = Z_g0+Z_l0                                       #Z0 upto the point of fault(ohm)\n",
      "I_a = 3*E_a/(Z_1+Z_2+Z_0)                             #Fault current(A)\n",
      "#Case(b)\n",
      "I_a0 = abs(I_a)/3                                     #Zero sequence current of line a(A)\n",
      "I_a1 = abs(I_a)/3                                     #Positive sequence current of line a(A)\n",
      "I_a2 = abs(I_a)/3                                     #Negative sequence current of line a(A)\n",
      "I_b0 = I_a0                                           #Zero sequence current of line b(A)\n",
      "I_b1 = a**2*I_a1                                      #Positive sequence current of line b(A)\n",
      "I_b2 = a*I_a2                                         #Negative sequence current of line b(A)\n",
      "I_c0 = I_a0                                           #Zero sequence current of line c(A)\n",
      "I_c1 = a*I_a1                                         #Positive sequence current of line c(A)\n",
      "I_c2 = a**2*I_a2                                      #Negative sequence current of line c(A)\n",
      "#Case(c)\n",
      "V_b = E_a/(Z_1+Z_2+Z_0)*((a**2-a)*Z_2+(a**2-1)*Z_0)   #Voltage of the line b(V)\n",
      "V_c = E_a/(Z_1+Z_2+Z_0)*((a-a**2)*Z_2+(a-1)*Z_0)      #Voltage of the line c(V)\n",
      "\n",
      "#Result\n",
      "print('Case(a): Fault current, |I_a| = %.f A' %abs(I_a))\n",
      "print('Case(b): Zero sequence current of line a, I_a0 = %.f A' %I_a0)\n",
      "print('         Positive sequence current of line a, I_a1 = %.f A' %I_a1)\n",
      "print('         Negative sequence current of line a, I_a2 = %.f A' %I_a2)\n",
      "print('         Zero sequence current of line b, I_b0 = %.f A' %I_b0)\n",
      "print('         Positive sequence current of line b, I_b1 = (%.1f%.1fj) A' %(I_b1.real,I_b1.imag))\n",
      "print('         Negative sequence current of line b, I_b2 = (%.1f+%.1fj) A' %(I_b2.real,I_b2.imag))\n",
      "print('         Zero sequence current of line c, I_c0 = %.f A' %I_c0)\n",
      "print('         Positive sequence current of line c, I_c1 = (%.1f+%.1fj) A' %(I_c1.real,I_c1.imag))\n",
      "print('         Negative sequence current of line c, I_c2 = (%.1f%.1fj) A' %(I_c2.real,I_c2.imag))\n",
      "print('Case(c): Voltage of the sound line to earth at fault, |V_b| = %.f V' %abs(V_b))\n",
      "print('         Voltage of the sound line to earth at fault, |V_c| = %.f V' %abs(V_c))\n",
      "print('\\nNOTE: Changes in the obtained answer from that of textbook is due to more precision here')"
     ],
     "language": "python",
     "metadata": {},
     "outputs": [
      {
       "output_type": "stream",
       "stream": "stdout",
       "text": [
        "Case(a): Fault current, |I_a| = 1364 A\n",
        "Case(b): Zero sequence current of line a, I_a0 = 455 A\n",
        "         Positive sequence current of line a, I_a1 = 455 A\n",
        "         Negative sequence current of line a, I_a2 = 455 A\n",
        "         Zero sequence current of line b, I_b0 = 455 A\n",
        "         Positive sequence current of line b, I_b1 = (-227.4-393.8j) A\n",
        "         Negative sequence current of line b, I_b2 = (-227.4+393.8j) A\n",
        "         Zero sequence current of line c, I_c0 = 455 A\n",
        "         Positive sequence current of line c, I_c1 = (-227.4+393.8j) A\n",
        "         Negative sequence current of line c, I_c2 = (-227.4-393.8j) A\n",
        "Case(c): Voltage of the sound line to earth at fault, |V_b| = 2638 V\n",
        "         Voltage of the sound line to earth at fault, |V_c| = 3255 V\n",
        "\n",
        "NOTE: Changes in the obtained answer from that of textbook is due to more precision here\n"
       ]
      }
     ],
     "prompt_number": 1
    },
    {
     "cell_type": "heading",
     "level": 2,
     "metadata": {},
     "source": [
      "Example 3.4.4, Page number 513-514"
     ]
    },
    {
     "cell_type": "code",
     "collapsed": false,
     "input": [
      "import math\n",
      "import cmath\n",
      "\n",
      "#Variable declaration\n",
      "V = 11000.0                    #Alternator voltage(V)\n",
      "kVA = 50000.0                  #Alternator rating(kVA)\n",
      "Z_l1 = complex(0.4,0.7)        #Positive sequence impedance of feeder(ohm)\n",
      "Z_l2 = complex(0.4,0.7)        #Negative sequence impedance of feeder(ohm)\n",
      "Z_l0 = complex(0.7,3.0)        #Zero sequence impedance of feeder(ohm)\n",
      "Z_g1_A = complex(0,0.6)        #Positive sequence reactance(ohm)\n",
      "Z_g1_B = complex(0,0.6)        #Positive sequence reactance(ohm)\n",
      "Z_g2_A = complex(0,0.4)        #Negative sequence reactance(ohm)\n",
      "Z_g2_B = complex(0,0.4)        #Negative sequence reactance(ohm)\n",
      "Z_g0_A = complex(0,0.2)        #Zero sequence reactance(ohm)\n",
      "Z_g0_B = complex(0,0.2)        #Zero sequence reactance(ohm)\n",
      "Z_n_A = complex(0,0.2)         #Neutral reactance(ohm)\n",
      "Z_n_B = complex(0,0.2)         #Neutra reactance(ohm)\n",
      "\n",
      "#Calculation\n",
      "a = cmath.exp(1j*120.0*math.pi/180)          #Operator\n",
      "Z_g1 = 1.0/((1/Z_g1_A)+(1/Z_g1_B))           #Equivalent positive sequence impedance(ohm)\n",
      "Z_g2 = 1.0/((1/Z_g2_A)+(1/Z_g2_B))           #Equivalent negative sequence impedance(ohm)\n",
      "Z_g0 = 1.0/((1/Z_g0_A)+(1/Z_g0_B))           #Equivalent zero sequence impedance(ohm)\n",
      "Z_n = 1.0/((1/Z_n_A)+(1/Z_n_B))              #Equivalent neutral impedance(ohm)\n",
      "Z_1 = Z_l1+Z_g1                              #Positive sequence impedance(ohm)\n",
      "Z_2 = Z_l2+Z_g2                              #Negative sequence impedance(ohm)\n",
      "Z_0 = Z_l0+Z_g0+3*Z_n                        #Zero sequence impedance(ohm)\n",
      "Z = Z_0*Z_2/(Z_0+Z_2)                        #Impedance(ohm)\n",
      "E_R = V/3**0.5                               #Phase voltage(V)\n",
      "I_R1 = E_R/(Z_1+Z)                           #Postive sequence current(A)\n",
      "I_R2 = -Z*I_R1/Z_2                           #Negative sequence current(A)\n",
      "I_R0 = -Z*I_R1/Z_0                           #Zero sequence current(A)\n",
      "I_R = I_R0+I_R1+I_R2                         #Fault current in line(A)\n",
      "I_Y = I_R0+a**2*I_R1+a*I_R2                  #Fault current in line(A)\n",
      "I_B = I_R0+a*I_R1+a**2*I_R2                  #Fault current in line(A)\n",
      "I_earth = 3.0*I_R0                           #Current through earth reactance(A)\n",
      "V_neutral = abs(I_earth*Z_n)                 #Magnitude of potential above earth attained by generator neutral(V)\n",
      "\n",
      "#Result\n",
      "print('Fault current in the line R, I_R = %.f A' %abs(I_R))\n",
      "print('Fault current in the line Y, I_Y = (%.f%.fj) A' %(I_Y.real,I_Y.imag))\n",
      "print('Fault current in the line B, I_B = (%.f+%.fj) A' %(I_B.real,I_B.imag))\n",
      "print('Potential above earth attained by the alternator neutrals = %.f V' %V_neutral)\n",
      "print('\\nNOTE: ERROR: Voltage is 11000 not 11000 kV as given in textbook statement')\n",
      "print('      Changes in the obtained answer from that of textbook is due to more precision here')"
     ],
     "language": "python",
     "metadata": {},
     "outputs": [
      {
       "output_type": "stream",
       "stream": "stdout",
       "text": [
        "Fault current in the line R, I_R = 0 A\n",
        "Fault current in the line Y, I_Y = (-5128-933j) A\n",
        "Fault current in the line B, I_B = (4654+3172j) A\n",
        "Potential above earth attained by the alternator neutrals = 229 V\n",
        "\n",
        "NOTE: ERROR: Voltage is 11000 not 11000 kV as given in textbook statement\n",
        "      Changes in the obtained answer from that of textbook is due to more precision here\n"
       ]
      }
     ],
     "prompt_number": 1
    },
    {
     "cell_type": "heading",
     "level": 2,
     "metadata": {},
     "source": [
      "Example 3.4.5, Page number 514-515"
     ]
    },
    {
     "cell_type": "code",
     "collapsed": false,
     "input": [
      "import math\n",
      "import cmath\n",
      "\n",
      "#Variable declaration\n",
      "V = 6600.0             #Alternator voltage(V)\n",
      "kVA = 10000.0          #Alternator rating(kVA)\n",
      "x_1 = 15.0             #Reactance to positive sequence current(%)\n",
      "x_2 = 75.0             #Reactance to negative sequence current(%)\n",
      "x_0 = 30.0             #Reactance to zero sequence current(%)\n",
      "R_earth = 0.3          #Earth resistance(ohm)\n",
      "\n",
      "#Calculation\n",
      "a = cmath.exp(1j*120.0*math.pi/180)     #Operator\n",
      "E_g = V/3**0.5                          #Phase voltage(V)\n",
      "#Case(a)\n",
      "I = kVA*1000/(3**0.5*V)                 #Full load current of each alternator(A)\n",
      "X = x_1*V/(100*3**0.5*I)                #Positive sequence reactance(ohm)\n",
      "Z_g1 = 1j*X                             #Equivalent positive sequence impedance(ohm)\n",
      "Z_g2 = Z_g1*x_2/100                     #Equivalent negative sequence impedance(ohm)\n",
      "Z_g0 = Z_g1*x_0/100                     #Equivalent zero sequence impedance(ohm)\n",
      "Z_1 = Z_g1/3                            #Positive sequence impedance(ohm)\n",
      "Z_2 = Z_g2/3                            #Negative sequence impedance(ohm)\n",
      "Z_0 = Z_g0/3                            #Zero sequence impedance(ohm)\n",
      "I_a_a = 3*E_g/(Z_1+Z_2+Z_0)             #Fault current(A)\n",
      "#Case(b)\n",
      "Z_0_b = Z_g0                            #Impedance(ohm)\n",
      "I_a_b = 3*E_g/(Z_1+Z_2+Z_0_b)           #Fault current(A)\n",
      "#Case(c)\n",
      "Z_0_c = R_earth*3+Z_g0                  #Impedance(ohm)\n",
      "I_a_c = 3*E_g/(Z_1+Z_2+Z_0_c)           #Fault current(A)\n",
      "\n",
      "#Result\n",
      "print('Case(a): Fault current if all the alternator neutrals are solidly earthed, I_a = %.fj A' %I_a_a.imag)\n",
      "print('Case(b): Fault current if only one of the alternator neutrals is solidly earthed & others isolated, I_b = %.fj A' %I_a_b.imag)\n",
      "print('Case(c): Fault current if one of alternator neutrals is earthed through resistance & others isolated, I_c = %.f A' %abs(I_a_c))\n",
      "print('\\nNOTE: Changes in the obtained answer from that of textbook is due to more precision here')"
     ],
     "language": "python",
     "metadata": {},
     "outputs": [
      {
       "output_type": "stream",
       "stream": "stdout",
       "text": [
        "Case(a): Fault current if all the alternator neutrals are solidly earthed, I_a = -25603j A\n",
        "Case(b): Fault current if only one of the alternator neutrals is solidly earthed & others isolated, I_b = -19806j A\n",
        "Case(c): Fault current if one of alternator neutrals is earthed through resistance & others isolated, I_c = 10692 A\n",
        "\n",
        "NOTE: Changes in the obtained answer from that of textbook is due to more precision here\n"
       ]
      }
     ],
     "prompt_number": 1
    },
    {
     "cell_type": "heading",
     "level": 2,
     "metadata": {},
     "source": [
      "Example 3.4.6, Page number 515-516"
     ]
    },
    {
     "cell_type": "code",
     "collapsed": false,
     "input": [
      "import math\n",
      "import cmath\n",
      "\n",
      "#Variable declaration\n",
      "kVA_G = 2000.0          #Generator rating(kVA)\n",
      "X_G = 10.0              #Generator reactance(%)\n",
      "kVA_T1 = 2000.0         #Transformer rating(kVA)\n",
      "lv_T1 = 6.6             #LV side voltage(kV)\n",
      "hv_T1 = 11.0            #HV side voltage(kV)\n",
      "X_T1 = 5.0              #Transformer reactance(%)\n",
      "X_cable = 0.5           #Cable reactance(ohm)\n",
      "V_cable = 11.0          #Cable voltage(V)\n",
      "kVA_T2 = 2000.0         #Transformer rating(kVA)\n",
      "lv_T2 = 6.6             #LV side voltage(kV)\n",
      "hv_T2 = 11.0            #HV side voltage(kV)\n",
      "X_T2 = 5.0              #Transformer reactance(%)\n",
      "\n",
      "#Calculation\n",
      "a = cmath.exp(1j*120.0*math.pi/180)          #Operator\n",
      "kVA_base = 2000.0                            #Base kVA\n",
      "kV = 6.6                                     #Base voltage(kV)\n",
      "X_1 = X_G*kV**2*10/kVA_base                  #10% reactance at 6.6 kV(ohm)\n",
      "X_2 = X_T1*kV**2*10/kVA_base                 #5% reactance at 6.6 kV(ohm)\n",
      "X_3 = (kV/hv_T1)**2*X_cable                  #0.5 ohm at 11kV when referred to 6.6kV(ohm)\n",
      "Z_g1 = 1j*X_1                                #Positive sequence impedance of generator(ohm)\n",
      "Z_g2 = Z_g1*0.7                              #Negative sequence impedance of generator equal to 70% of +ve sequence impedance(ohm)\n",
      "T1_Z_T1_1 = 1j*X_2                           #Positive sequence impedance of transformer(ohm)\n",
      "T1_Z_T1_2 = 1j*X_2                           #Negative sequence impedance of transformer(ohm)\n",
      "Z_C1 = 1j*X_3                                #Positive sequence impedance of cable(ohm)\n",
      "Z_C2 = 1j*X_3                                #Negative sequence impedance of cable(ohm)\n",
      "T2_Z_T2_1 = 1j*X_2                           #Positive sequence impedance of transformer(ohm)\n",
      "T2_Z_T2_2 = 1j*X_2                           #Negative sequence impedance of transformer(ohm)\n",
      "Z_1 = Z_g1+T1_Z_T1_1+Z_C1+T2_Z_T2_1          #Positive sequence impedance(ohm)\n",
      "Z_2 = Z_g2+T1_Z_T1_2+Z_C2+T2_Z_T2_2          #Negative sequence impedance(ohm)\n",
      "Z_0 = 1j*X_2                                 #Zero sequence impedance(ohm)\n",
      "E_a = kV*1000/3**0.5                         #Phase voltage(V)\n",
      "#Case(a)\n",
      "I_a1 = E_a/(Z_1+Z_2)                         #Positive sequence current(A)\n",
      "I_a2 = -I_a1                                 #Negative sequence current(A)\n",
      "I_a0 = 0                                     #Zero sequence current(A)\n",
      "I_a = I_a1+I_a2+I_a0                         #Fault current in line a(A)\n",
      "I_b = (a**2-a)*I_a1                          #Fault current in line b(A)\n",
      "I_c = -I_b                                   #Fault current in line c(A)\n",
      "#Case(b)\n",
      "I_a_b = 3*E_a/(Z_1+Z_2+Z_0)                  #Fault current for line to ground fault(A)\n",
      "\n",
      "#Result\n",
      "print('Case(a): Fault current for line fault are')\n",
      "print('         I_a = %.f A' %abs(I_a))\n",
      "print('         I_b = %.f A' %abs(I_b))\n",
      "print('         I_c = %.f A' %abs(I_c))\n",
      "print('Case(b): Fault current for line to ground fault, |I_a| = %.f A' %abs(I_a_b))\n",
      "print('\\nNOTE: Changes in the obtained answer from that of textbook is due to more precision here')"
     ],
     "language": "python",
     "metadata": {},
     "outputs": [
      {
       "output_type": "stream",
       "stream": "stdout",
       "text": [
        "Case(a): Fault current for line fault are\n",
        "         I_a = 0 A\n",
        "         I_b = 784 A\n",
        "         I_c = 784 A\n",
        "Case(b): Fault current for line to ground fault, |I_a| = 1202 A\n",
        "\n",
        "NOTE: Changes in the obtained answer from that of textbook is due to more precision here\n"
       ]
      }
     ],
     "prompt_number": 1
    },
    {
     "cell_type": "heading",
     "level": 2,
     "metadata": {},
     "source": [
      "Example 3.4.7, Page number 516-518"
     ]
    },
    {
     "cell_type": "code",
     "collapsed": false,
     "input": [
      "#Variable declaration\n",
      "MVA_G1 = 40.0      #Generator rating(MVA)\n",
      "kV_G1 = 13.2       #Generator voltage(kV)\n",
      "X_st_G1 = 0.15     #Sub-transient reactance(p.u)\n",
      "X_2_G1 = 0.15      #Negative sequence reactance(p.u)\n",
      "X_0_G1 = 0.08      #Zero sequence reactance(p.u)\n",
      "MVA_G3 = 60.0      #Generator rating(MVA)\n",
      "kV_G3 = 13.8       #Generator voltage(kV)\n",
      "X_st_G3 = 0.20     #Sub-transient reactance(p.u)\n",
      "X_2_G3 = 0.20      #Negative sequence reactance(p.u)\n",
      "X_0_G3 = 0.08      #Zero sequence reactance(p.u)\n",
      "MVA_T1 = 40.0      #Transformer rating(MVA)\n",
      "kV_lv_T1 = 13.8    #Transformer low voltage(kV)\n",
      "kV_hv_T1 = 138     #Transformer high voltage(kV)\n",
      "X_1_T1 = 0.10      #Positive sequence reactance(p.u)\n",
      "X_2_T1 = 0.10      #Negative sequence reactance(p.u)\n",
      "X_0_T1 = 0.08      #Zero sequence reactance(p.u)\n",
      "MVA_T5 = 30.0      #Transformer rating(MVA)\n",
      "kV_lv_T5 = 13.8    #Transformer low voltage(kV)\n",
      "kV_hv_T5 = 138     #Transformer high voltage(kV)\n",
      "X_1_T5 = 0.10      #Positive sequence reactance(p.u)\n",
      "X_2_T5 = 0.10      #Negative sequence reactance(p.u)\n",
      "X_0_T5 = 0.08      #Zero sequence reactance(p.u)\n",
      "X_neutral = 0.05   #Reactance of reactor connected to generator neutral(p.u)\n",
      "\n",
      "#Calculation\n",
      "MVA_base = 100.0                                                  #Base MVA\n",
      "kV_line = 138.0                                                   #Base voltage for line(kV)\n",
      "kV_G = 13.8                                                       #Base voltage for generator(kV)\n",
      "X_st_G1_pu = 1j*X_st_G1*(kV_G1/kV_G)**2*MVA_base/MVA_G1           #Impedance of G1 & G2(p.u)\n",
      "X_2_G1_pu = 1j*X_2_G1*(kV_G1/kV_G)**2*MVA_base/MVA_G1             #Impedance of G1 & G2(p.u)\n",
      "X_g0_G1_pu = 1j*X_0_G1*(kV_G1/kV_G)**2*MVA_base/MVA_G1            #Impedance of G1 & G2(p.u)\n",
      "X_gn_G1_pu = 1j*X_neutral*(kV_G1/kV_G)**2*MVA_base/MVA_G1         #Impedance of G1 & G2(p.u)\n",
      "X_st_G3_pu = 1j*X_st_G3*(kV_G3/kV_G)**2*MVA_base/MVA_G3           #Impedance of G3(p.u)\n",
      "X_2_G3_pu = 1j*X_2_G3*(kV_G3/kV_G)**2*MVA_base/MVA_G3             #Impedance of G3(p.u)\n",
      "X_g0_G3_pu = 1j*X_0_G3*(kV_G3/kV_G)**2*MVA_base/MVA_G3            #Impedance of G3(p.u)\n",
      "X_gn_G3_pu = 1j*X_neutral*(kV_G3/kV_G)**2*MVA_base/MVA_G3         #Impedance of G3(p.u)\n",
      "X_1_T1_pu = 1j*X_1_T1*MVA_base/MVA_T1                             #Impedance of T1,T2,T3 & T4(p.u)\n",
      "X_2_T1_pu = 1j*X_2_T1*MVA_base/MVA_T1                             #Impedance of T1,T2,T3 & T4(p.u)\n",
      "X_0_T1_pu = 1j*X_0_T1*MVA_base/MVA_T1                             #Impedance of T1,T2,T3 & T4(p.u)\n",
      "X_1_T5_pu = 1j*X_1_T5*MVA_base/MVA_T5                             #Impedance of T5 & T6(p.u)\n",
      "X_2_T5_pu = 1j*X_2_T5*MVA_base/MVA_T5                             #Impedance of T5 & T6(p.u)\n",
      "X_0_T5_pu = 1j*X_0_T5*MVA_base/MVA_T5                             #Impedance of T5 & T6(p.u)\n",
      "X_1_line_20 = 1j*20.0*100/kV_line**2                              #Impedance of 20 ohm line(p.u)\n",
      "X_2_line_20 = 1j*20.0*100/kV_line**2                              #Impedance of 20 ohm line(p.u)\n",
      "X_0_line_20 = 3.0*X_1_line_20                                     #Impedance of 20 ohm line(p.u)\n",
      "X_1_line_10 = 1j*10.0*100/kV_line**2                              #Impedance of 10 ohm line(p.u)\n",
      "X_2_line_10 = 1j*10.0*100/kV_line**2                              #Impedance of 10 ohm line(p.u)\n",
      "X_0_line_10 = 3.0*X_1_line_10                                     #Impedance of 10 ohm line(p.u)\n",
      "#Positive,negative and zero sequence network\n",
      "Z_1_1 = X_1_T1_pu+X_1_T1_pu+X_1_line_20                           #Impedance(p.u)\n",
      "Z_2_1 = X_1_T1_pu+X_1_T5_pu+X_1_line_10                           #Impedance(p.u)\n",
      "Z_3_1 = X_1_T1_pu+X_1_T5_pu+X_1_line_10                           #Impedance(p.u)\n",
      "Z_4_1 = Z_1_1*Z_2_1/(Z_1_1+Z_2_1+Z_3_1)                           #Impedance after star-delta transformation(p.u)\n",
      "Z_5_1 = Z_3_1*Z_1_1/(Z_1_1+Z_2_1+Z_3_1)                           #Impedance after star-delta transformation(p.u)\n",
      "Z_6_1 = Z_3_1*Z_2_1/(Z_1_1+Z_2_1+Z_3_1)                           #Impedance after star-delta transformation(p.u)\n",
      "Z_7_1 = X_st_G1_pu+Z_4_1                                          #Impedance(p.u)\n",
      "Z_8_1 = X_st_G1_pu+Z_5_1                                          #Impedance(p.u)\n",
      "Z_9_1 = Z_7_1*Z_8_1/(Z_7_1+Z_8_1)                                 #Impedance in parallel(p.u). Refer Fig E4.14(e) & E4.14(f)\n",
      "Z_10_1 = Z_9_1+Z_6_1                                              #Impedance(p.u). Refer Fig E4.14(f) & E4.14(g)\n",
      "Z_11_1 = Z_10_1*X_st_G3_pu/(Z_10_1+X_st_G3_pu)                    #Impedance in parallel(p.u). Refer Fig E4.14(g) & E4.14(h)\n",
      "Z_1 = Z_11_1                                                      #Positive sequence impedance(p.u)\n",
      "Z_2 = Z_1                                                         #Negative sequence impedance(p.u)\n",
      "Z_0 = X_g0_G3_pu+3.0*X_gn_G3_pu                                   #Zero sequence impedance(p.u)\n",
      "E_g = 1.0                                                         #Voltage(p.u)\n",
      "I_f_pu = 3*E_g/(Z_1+Z_2+Z_0)                                      #L-G fault current(p.u)\n",
      "I_f = abs(I_f_pu)*MVA_base*1000/(3**0.5*kV_G)                     #Actual fault current(A)\n",
      "MVA_fault = abs(I_f_pu)*MVA_base                                  #Fault MVA\n",
      "\n",
      "#Result\n",
      "print('Fault current for a L-G fault at C = %.f A' %I_f)\n",
      "print('\\nNOTE: Changes in the obtained answer from that of textbook is due to more precision here')"
     ],
     "language": "python",
     "metadata": {},
     "outputs": [
      {
       "output_type": "stream",
       "stream": "stdout",
       "text": [
        "Fault current for a L-G fault at C = 16093 A\n",
        "\n",
        "NOTE: Changes in the obtained answer from that of textbook is due to more precision here\n"
       ]
      }
     ],
     "prompt_number": 1
    },
    {
     "cell_type": "heading",
     "level": 2,
     "metadata": {},
     "source": [
      "Example 3.4.8, Page number 518-519"
     ]
    },
    {
     "cell_type": "code",
     "collapsed": false,
     "input": [
      "#Variable declaration\n",
      "kV_G = 11.0               #Generator rating(kV)\n",
      "X_1_G = 1j*0.1            #Positive sequence reactance of generator(p.u)\n",
      "X_2_G = 1j*0.1            #Negative sequence reactance of generator(p.u)\n",
      "X_0_G = 1j*0.02           #Zero sequence reactance of generator(p.u)\n",
      "Z = 1.0                   #Earthing resistor(ohm) \n",
      "X_1_T1 = 1j*0.1           #Positive sequence reactance of 2-winding transformer(p.u)\n",
      "X_2_T1 = 1j*0.1           #Negative sequence reactance of 2-winding transformer(p.u)\n",
      "X_0_T1 = 1j*0.1           #Zero sequence reactanc of 2-winding transformere(p.u)\n",
      "X_1_T2_hv = 1j*0.05       #Positive sequence reactance of hv 3-winding transformer(p.u)\n",
      "X_2_T2_hv = 1j*0.05       #Negative sequence reactance of hv 3-winding transformer(p.u)\n",
      "X_0_T2_hv = 1j*0.05       #Zero sequence reactanc of hv 3-winding transformere(p.u)\n",
      "X_1_T2_lv_1 = 1j*0.02     #Positive sequence reactance of lv 3-winding transformer(p.u)\n",
      "X_2_T2_lv_1 = 1j*0.02     #Negative sequence reactance of lv 3-winding transformer(p.u)\n",
      "X_0_T2_lv_1 = 1j*0.02     #Zero sequence reactanc of lv 3-winding transformere(p.u)\n",
      "X_1_T2_lv_2 = 1j*0.05     #Positive sequence reactance of lv 3-winding transformer(p.u)\n",
      "X_2_T2_lv_2 = 1j*0.05     #Negative sequence reactance of lv 3-winding transformer(p.u)\n",
      "X_0_T2_lv_2 = 1j*0.05     #Zero sequence reactanc of lv 3-winding transformere(p.u)\n",
      "\n",
      "#Calculation\n",
      "MVA_b = 10.0                                                                             #Base MVA\n",
      "kV_b = 11.0                                                                              #Base voltage(kV)\n",
      "Z_n = Z*MVA_b/kV_b**2                                                                    #Impedance(p.u)\n",
      "Z_1 = X_1_G+X_1_T1+X_1_T2_hv+((X_1_T2_lv_1*X_1_T2_lv_2)/(X_1_T2_lv_1+X_1_T2_lv_2))       #Positive sequence impedance(p.u)\n",
      "Z_2 = X_2_G+X_2_T1+X_2_T2_hv+((X_2_T2_lv_1*X_2_T2_lv_2)/(X_2_T2_lv_1+X_2_T2_lv_2))       #Negative sequence impedance(p.u)\n",
      "Z_0 = ((X_0_T1+X_0_T2_hv)*X_0_T2_lv_2/(X_0_T1+X_0_T2_hv+X_0_T2_lv_2))+X_0_T2_lv_1+3*Z_n  #Zero sequence impedance(p.u)\n",
      "E = 1.0                                                                                  #Voltage(p.u)\n",
      "I_f_pu = 3*E/(Z_1+Z_2+Z_0)                                                               #Fault current(p.u)\n",
      "I_f = MVA_b*1000*abs(I_f_pu)/(3**0.5*kV_b)                                               #Fault current(A)\n",
      "\n",
      "#Result\n",
      "print('Fault current, I_f = %.f A' %I_f)\n",
      "print('\\nNOTE: Changes in the obtained answer from that of textbook is due to more precision here')"
     ],
     "language": "python",
     "metadata": {},
     "outputs": [
      {
       "output_type": "stream",
       "stream": "stdout",
       "text": [
        "Fault current, I_f = 2474 A\n",
        "\n",
        "NOTE: Changes in the obtained answer from that of textbook is due to more precision here\n"
       ]
      }
     ],
     "prompt_number": 1
    },
    {
     "cell_type": "heading",
     "level": 2,
     "metadata": {},
     "source": [
      "Example 3.4.9, Page number 519"
     ]
    },
    {
     "cell_type": "code",
     "collapsed": false,
     "input": [
      "#Variable declaration\n",
      "MVA_G = 10.0      #Generator rating(MVA)\n",
      "kV_G = 11.0       #Generator rating(kV)\n",
      "X_1_G = 27.0      #Positive sequence reactance of generator(p.u)\n",
      "X_2_G = 9.0       #Negative sequence reactance of generator(p.u)\n",
      "X_0_G = 4.5       #Zero sequence reactance of generator(p.u)\n",
      "X_1_L = 9.0       #Positive sequence reactance of line upto fault(p.u)\n",
      "X_2_L = 9.0       #Negative sequence reactance of line upto fault(p.u)\n",
      "X_0_L = 0         #Zero sequence reactance of line upto fault(p.u)\n",
      "\n",
      "#Calculation\n",
      "E_a = kV_G*1000/3**0.5          #Phase voltage(V)\n",
      "Z_1 = 1j*(X_1_G+X_1_L)          #Positive sequence reactance(p.u)\n",
      "Z_2 = 1j*(X_2_G+X_2_L)          #Negative sequence reactance(p.u)\n",
      "I_b = 1j*3**0.5*E_a/(Z_1+Z_2)   #Fault current in line b(p.u)\n",
      "I_c = -I_b                      #Fault current in line c(p.u)\n",
      "\n",
      "#Result\n",
      "print('Fault current in line b, I_b = %.f A' %abs(I_b))\n",
      "print('Fault current in line c, I_c = %.f A' %I_c.real)"
     ],
     "language": "python",
     "metadata": {},
     "outputs": [
      {
       "output_type": "stream",
       "stream": "stdout",
       "text": [
        "Fault current in line b, I_b = 204 A\n",
        "Fault current in line c, I_c = -204 A\n"
       ]
      }
     ],
     "prompt_number": 1
    },
    {
     "cell_type": "heading",
     "level": 2,
     "metadata": {},
     "source": [
      "Example 3.4.10, Page number 519-520"
     ]
    },
    {
     "cell_type": "code",
     "collapsed": false,
     "input": [
      "import math\n",
      "import cmath\n",
      "\n",
      "#Variable declaration\n",
      "MVA_A = 30.0        #Alternator rating(MVA)\n",
      "kV_A = 11.0         #Alternator rating(kV)\n",
      "X_1 = 2.5           #Reactance to positive sequence current(ohm)\n",
      "X_2 = 0.8*X_1       #Reactance to negative sequence current(ohm)\n",
      "X_0 = 0.3*X_1       #Reactance to zero sequence current(ohm)\n",
      "\n",
      "#Calculation\n",
      "#Case(a)\n",
      "a = cmath.exp(1j*120.0*math.pi/180)       #Operator\n",
      "Z_1 = 1j*X_1                              #Positive sequence impedance(ohm)\n",
      "Z_2 = 1j*X_2                              #Negative sequence impedance(ohm)\n",
      "Z_0 = 1j*X_0                              #Zero sequence impedance(ohm)\n",
      "Z_02 = Z_0*Z_2/(Z_0+Z_2)                  #Impedance(ohm)\n",
      "E_a = kV_A*1000/3**0.5                    #Phase voltage(V)\n",
      "I_a1 = E_a/(Z_1+Z_02)                     #Positive sequence current(A)\n",
      "I_a2 = -Z_0/(Z_0+Z_2)*I_a1                #Negative sequence current(A)\n",
      "I_a0 = -Z_2/(Z_0+Z_2)*I_a1                #Zero sequence current(A)\n",
      "I_0 = I_a0                                #Zero sequence current(A)\n",
      "I_a = I_a0+I_a1+I_a2                      #Line current(A)\n",
      "I_b = I_0+a**2*I_a1+a*I_a2                #Line current(A)\n",
      "I_c = I_0+a*I_a1+a**2*I_a2                #Line current(A)\n",
      "#Case(b)\n",
      "I_n = 3*abs(I_0)                          #Current through ground(A)\n",
      "#Case(c)\n",
      "V_a2 = Z_02*I_a1                          #Negative sequence voltage(V)\n",
      "V_a = 3*abs(V_a2)                         #Voltage of healthy phase to neutral(V)\n",
      "\n",
      "#Result\n",
      "print('Case(a): Currents in the faulted phase are')\n",
      "print('         I_a = %.f A' %abs(I_a))\n",
      "print('         I_b = %.f\u2220%.1f\u00b0 A' %(abs(I_b),cmath.phase(I_b)*180/math.pi))\n",
      "print('         I_c = %.f\u2220%.1f\u00b0 A' %(abs(I_c),cmath.phase(I_c)*180/math.pi))\n",
      "print('Case(b): Current through ground, I_n = %.f A' %I_n)\n",
      "print('Case(c): Voltage of healthy phase to neutral, V_a = %.f V' %V_a)\n",
      "print('\\nNOTE: Changes in the obtained answer from that of textbook is due to more precision here')"
     ],
     "language": "python",
     "metadata": {},
     "outputs": [
      {
       "output_type": "stream",
       "stream": "stdout",
       "text": [
        "Case(a): Currents in the faulted phase are\n",
        "         I_a = 0 A\n",
        "         I_b = 3234\u2220135.3\u00b0 A\n",
        "         I_c = 3234\u222044.7\u00b0 A\n",
        "Case(b): Current through ground, I_n = 4550 A\n",
        "Case(c): Voltage of healthy phase to neutral, V_a = 3412 V\n",
        "\n",
        "NOTE: Changes in the obtained answer from that of textbook is due to more precision here\n"
       ]
      }
     ],
     "prompt_number": 1
    },
    {
     "cell_type": "heading",
     "level": 2,
     "metadata": {},
     "source": [
      "Example 3.4.11, Page number 520-521"
     ]
    },
    {
     "cell_type": "code",
     "collapsed": false,
     "input": [
      "import math\n",
      "import cmath\n",
      "\n",
      "#Variable declaration\n",
      "n = 6.0       #Number of alternator\n",
      "kV_A = 6.6    #Alternator rating(kV)\n",
      "X_1 = 0.9     #Positive sequence reactance(ohm)\n",
      "X_2 = 0.72    #Negative sequence reactance(ohm)\n",
      "X_0 = 0.3     #Zero sequence reactance(ohm)\n",
      "Z_n = 0.2     #Resistance of grounding resistor(ohm)\n",
      "\n",
      "#Calculation\n",
      "E_a = kV_A*1000/3**0.5               #Phase voltage(V)\n",
      "#Case(a)\n",
      "Z_1_a = 1j*X_1/n                     #Positive sequence impedance when alternators are in parallel(ohm)\n",
      "Z_2_a = 1j*X_2/n                     #Negative sequence impedance when alternators are in parallel(ohm)\n",
      "Z_0_a = 1j*X_0/n                     #Zero sequence impedance when alternators are in parallel(ohm)\n",
      "I_a_a = 3*E_a/(Z_1_a+Z_2_a+Z_0_a)    #Fault current assuming 'a' phase to be fault(A)\n",
      "#Case(b)\n",
      "Z_0_b = 3*Z_n+1j*X_0                 #Zero sequence impedance(ohm)\n",
      "I_a_b = 3*E_a/(Z_1_a+Z_2_a+Z_0_b)    #Fault current(A)\n",
      "#Case(c)\n",
      "Z_0_c = 1j*X_0                       #Zero sequence impedance(ohm)\n",
      "I_a_c = 3*E_a/(Z_1_a+Z_2_a+Z_0_c)    #Fault current(A)\n",
      "\n",
      "#Result\n",
      "print('Case(a): Fault current if all alternator neutrals are solidly grounded, I_a = %.f A' %I_a_a.imag)\n",
      "print('Case(b): Fault current if one alternator neutral is grounded & others isolated, I_a = %.1f\u2220%.1f\u00b0 A' %(abs(I_a_b),cmath.phase(I_a_b)*180/math.pi))\n",
      "print('Case(c): Fault current if one alternator neutral is solidly grounded & others isolated, I_a = %.2fj A' %I_a_c.imag)\n",
      "print('\\nNOTE: ERROR: Calculation mistakes in the textbook solution')"
     ],
     "language": "python",
     "metadata": {},
     "outputs": [
      {
       "output_type": "stream",
       "stream": "stdout",
       "text": [
        "Case(a): Fault current if all alternator neutrals are solidly grounded, I_a = -35724 A\n",
        "Case(b): Fault current if one alternator neutral is grounded & others isolated, I_a = 13813.1\u2220-43.5\u00b0 A\n",
        "Case(c): Fault current if one alternator neutral is solidly grounded & others isolated, I_a = -20055.33j A\n",
        "\n",
        "NOTE: ERROR: Calculation mistakes in the textbook solution\n"
       ]
      }
     ],
     "prompt_number": 1
    },
    {
     "cell_type": "heading",
     "level": 2,
     "metadata": {},
     "source": [
      "Example 3.4.12, Page number 521-522"
     ]
    },
    {
     "cell_type": "code",
     "collapsed": false,
     "input": [
      "import math\n",
      "import cmath\n",
      "\n",
      "#Variable declaration\n",
      "MVA_A = 30.0        #Alternator rating(MVA)\n",
      "kV_A = 6.6          #Alternator rating(kV)\n",
      "X_G = 10.0          #Reactance of alternator(%)\n",
      "kV_lv_T = 6.6       #Transformer lv side rating(kV) \n",
      "kV_hv_T = 33.0      #Transformer hv side rating(kV) \n",
      "X_T = 6.0           #Reactance of transformer(%)\n",
      "kV_line = 33.0      #Transmission line voltage(kV)\n",
      "X_line = 4.0        #Transmission line reactance(ohm)\n",
      "X_g2 = 70.0         #Negative sequence reactance is 70% of +ve sequence reactance of generator(%)\n",
      "\n",
      "#Calculation\n",
      "MVA_base = 30.0                          #Base MVA\n",
      "kV_base = 6.6                            #Base kV\n",
      "Z_base = kV_base**2/MVA_base             #Base impedance(ohm)\n",
      "Z_g1 = 1j*Z_base*X_G/100                 #Positive sequence impedance of alternator(ohm)\n",
      "Z_T1 = 1j*Z_base*X_T/100                 #Positive sequence impedance of transformer(ohm)\n",
      "Z_L1 = 1j*(kV_base/kV_line)**2*X_line    #Positive sequence impedance of transmission line(ohm)\n",
      "Z_g2 = X_g2/100*Z_g1                     #Negative sequence impedance of alternator(ohm)\n",
      "Z_T2 = 1j*Z_base*X_T/100                 #Negative sequence impedance of transformer(ohm)\n",
      "Z_T0 = 1j*Z_base*X_T/100                 #Zero sequence impedance of transformer(ohm)\n",
      "Z_L2 = Z_L1                              #Negative sequence impedance of transmission line(ohm)\n",
      "Z_1 = Z_g1+Z_T1+Z_L1+Z_T1                #Positive sequence impedance(ohm)\n",
      "Z_2 = Z_g2+Z_T2+Z_L2+Z_T2                #Negative sequence impedance(ohm)\n",
      "Z_0 = Z_T0                               #Zero sequence impedance(ohm)\n",
      "E_a = kV_base*1000/3**0.5                #Base voltage(V)\n",
      "#Case(a)\n",
      "I_sc = E_a/Z_1                           #Fault current if all 3 phases short circuited(A)\n",
      "#Case(b)\n",
      "I_a = 3*E_a/(Z_1+Z_2+Z_0)                #Fault current if single line is grounded assuming 'a' to be grounded(A)\n",
      "#Case(c)\n",
      "I_b = 1j*3**0.5*E_a/(Z_1+Z_2)            #Fault current for a short circuit between two lines(A)\n",
      "I_c = -1j*3**0.5*E_a/(Z_1+Z_2)           #Fault current for a short circuit between two lines(A)\n",
      "\n",
      "#Result\n",
      "print('Case(a): Fault current if all 3 phases short circuited, I_sc = %.f\u2220%.f\u00b0 A' %(abs(I_sc),cmath.phase(I_sc)*180/math.pi))\n",
      "print('Case(b): Fault current if single line is grounded, I_a = %.fj A' %I_a.imag)\n",
      "print('Case(c): Fault current for a short circuit between two lines, I_b = %.f A' %I_b.real)\n",
      "print('         Fault current for a short circuit between two lines, I_c = %.f A' %I_c.real)\n",
      "print('\\nNOTE: ERROR: Calculation mistake in Z_2 in the textbook solution. Hence, changes in the obtained answer from that of textbook')"
     ],
     "language": "python",
     "metadata": {},
     "outputs": [
      {
       "output_type": "stream",
       "stream": "stdout",
       "text": [
        "Case(a): Fault current if all 3 phases short circuited, I_sc = 7948\u2220-90\u00b0 A\n",
        "Case(b): Fault current if single line is grounded, I_a = -11404j A\n",
        "Case(c): Fault current for a short circuit between two lines, I_b = 7211 A\n",
        "         Fault current for a short circuit between two lines, I_c = -7211 A\n",
        "\n",
        "NOTE: ERROR: Calculation mistake in Z_2 in the textbook solution. Hence, changes in the obtained answer from that of textbook\n"
       ]
      }
     ],
     "prompt_number": 1
    },
    {
     "cell_type": "heading",
     "level": 2,
     "metadata": {},
     "source": [
      "Example 3.4.13, Page number 522"
     ]
    },
    {
     "cell_type": "code",
     "collapsed": false,
     "input": [
      "import math\n",
      "import cmath\n",
      "\n",
      "#Variable declaration\n",
      "kV = 6.9          #Alternator rating(kV)\n",
      "MVA = 10.0        #Alternator rating(MVA)\n",
      "X_st = 0.15       #Sub-transient reactance(p.u)\n",
      "X_2 = 0.15        #Negative sequence reactance(p.u)\n",
      "X_0 = 0.05        #Zero sequence reactance(p.u)\n",
      "X = 0.397         #Grounding reactor(ohm)\n",
      "\n",
      "#Calculation\n",
      "MVA_base = 10.0                         #Base MVA\n",
      "kV_base = 6.9                           #Base kV\n",
      "Z_base = kV_base**2/MVA_base            #Base impedance(ohm)\n",
      "Z_n = X/Z_base                          #Grounding reactor(p.u)\n",
      "Z_1 = 1j*X_st                           #Positive sequence impedance(p.u)\n",
      "Z_2 = 1j*X_2                            #Negative sequence impedance(p.u)\n",
      "Z_0 = 1j*(X_0+3*Z_n)                    #Zero sequence impedance(p.u)\n",
      "E_a = 1.0                               #Phase voltage(p.u)\n",
      "I_a_pu = 3*E_a/(Z_1+Z_2+Z_0)            #Sub-transient current in the faulty phase(p.u)\n",
      "I_base = kV_base*1000/(3**0.5*Z_base)   #Base current(A)\n",
      "I_a = abs(I_a_pu)*I_base                #Sub-transient current in the faulty phase(A)\n",
      "\n",
      "#Result\n",
      "print('Sub-transient current in the faulty phase, I_a = %.f A' %I_a)\n",
      "print('\\nNOTE: Changes in the obtained answer from that of textbook is due to more precision here')"
     ],
     "language": "python",
     "metadata": {},
     "outputs": [
      {
       "output_type": "stream",
       "stream": "stdout",
       "text": [
        "Sub-transient current in the faulty phase, I_a = 4183 A\n",
        "\n",
        "NOTE: Changes in the obtained answer from that of textbook is due to more precision here\n"
       ]
      }
     ],
     "prompt_number": 1
    },
    {
     "cell_type": "heading",
     "level": 2,
     "metadata": {},
     "source": [
      "Example 3.4.14, Page number 522-523"
     ]
    },
    {
     "cell_type": "code",
     "collapsed": false,
     "input": [
      "import math\n",
      "import cmath\n",
      "\n",
      "#Variable declaration\n",
      "kVA = 10000.0    #Generator rating(kVA)\n",
      "kV = 13.8        #Generator rating(kV)\n",
      "X_st = 10.0      #Sub-transient reactance(%)\n",
      "X_2 = 10.0       #Negative sequence reactance(%)\n",
      "X_0 = 5.0        #Zero sequence reactance(%)\n",
      "X = 8.0          #Grounding reactor(%)\n",
      "X_con = 6.0      #Reactance of reactor connecting generator & transformer(%)\n",
      "\n",
      "#Calculation\n",
      "a = cmath.exp(1j*120.0*math.pi/180)    #Operator\n",
      "Z_1 = 1j*(X_st+X_con)/100              #Positive sequence impedance(p.u)\n",
      "Z_2 = 1j*(X_2+X_con)/100               #Negative sequence impedance(p.u)\n",
      "Z_0 = 1j*X_con/100                     #Zero sequence impedance(p.u)\n",
      "E_a = 1.0                              #Phase voltage(p.u)\n",
      "I_a1 = E_a/(Z_1+Z_2+Z_0)               #Sub-transient current in the faulty phase(p.u)\n",
      "I_A1 = 1j*I_a1                         #Positive sequence current(p.u)\n",
      "I_A2 = -1j*I_a1                        #Negative sequence current(p.u)\n",
      "I_A = I_A1+I_A2                        #Initial symmetrical r.m.s current in phase a(p.u)\n",
      "I_B1 = a**2*I_A1                       #Positive sequence current(p.u)\n",
      "I_B2 = a*I_A2                          #Negative sequence current(p.u)\n",
      "I_B = I_B1+I_B2                        #Initial symmetrical r.m.s current in phase b(p.u)\n",
      "I_C1 = a*I_A1                          #Positive sequence current(p.u)\n",
      "I_C2 = a**2*I_A2                       #Negative sequence current(p.u)\n",
      "I_C = I_C1+I_C2                        #Initial symmetrical r.m.s current in phase c(p.u)\n",
      "I_base = kVA/(3**0.5*kV)               #Base current(A)\n",
      "I_A_amp = I_A*I_base                   #Initial symmetrical r.m.s current in phase a(p.u)\n",
      "I_B_amp = I_B*I_base                   #Initial symmetrical r.m.s current in phase b(p.u)\n",
      "I_C_amp = I_C*I_base                   #Initial symmetrical r.m.s current in phase c(p.u)\n",
      "\n",
      "#Result\n",
      "print('Initial symmetrical r.m.s current in all phases of generator are,')\n",
      "print(' I_A = %.f A' %abs(I_A_amp))\n",
      "print(' I_B = %.f\u2220%.f\u00b0 A' %(abs(I_B_amp),cmath.phase(I_B_amp)*180/math.pi))\n",
      "print(' I_C = %.f\u2220%.f\u00b0 A' %(abs(I_C_amp),cmath.phase(I_C_amp)*180/math.pi))"
     ],
     "language": "python",
     "metadata": {},
     "outputs": [
      {
       "output_type": "stream",
       "stream": "stdout",
       "text": [
        "Initial symmetrical r.m.s current in all phases of generator are,\n",
        " I_A = 0 A\n",
        " I_B = 1907\u2220-90\u00b0 A\n",
        " I_C = 1907\u222090\u00b0 A\n"
       ]
      }
     ],
     "prompt_number": 1
    }
   ],
   "metadata": {}
  }
 ]
}