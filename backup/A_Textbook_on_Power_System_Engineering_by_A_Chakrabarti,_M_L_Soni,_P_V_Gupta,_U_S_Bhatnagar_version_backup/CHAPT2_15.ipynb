{
 "metadata": {
  "name": ""
 },
 "nbformat": 3,
 "nbformat_minor": 0,
 "worksheets": [
  {
   "cells": [
    {
     "cell_type": "heading",
     "level": 1,
     "metadata": {},
     "source": [
      "CHAPTER 2.15: INSULATION CO-ORDINATION"
     ]
    },
    {
     "cell_type": "heading",
     "level": 2,
     "metadata": {},
     "source": [
      "Example 2.15.1, Page number 398-399"
     ]
    },
    {
     "cell_type": "code",
     "collapsed": false,
     "input": [
      "#Variable declaration\n",
      "L = 30.0          #Height of arrester located(m)\n",
      "BIL = 650.0       #BIL(kV)\n",
      "de_dt = 1000.0    #Rate of rising surge wave front(kV/\u00b5-sec)\n",
      "V = 132.0         #Transformer voltage at HV side(kV)\n",
      "E_a = 400.0       #Discharge voltage of arrester(kV)\n",
      "v = 3.0*10**8     #Velocity of surge propagation(m/sec)\n",
      "\n",
      "#Calculation\n",
      "E_t = E_a+(2.0*de_dt*L/300)   #Highest voltage the transformer is subjected(kV)\n",
      "\n",
      "#Result\n",
      "print('Highest voltage to which the transformer is subjected, E_t = %.f kV' %E_t)"
     ],
     "language": "python",
     "metadata": {},
     "outputs": [
      {
       "output_type": "stream",
       "stream": "stdout",
       "text": [
        "Highest voltage to which the transformer is subjected, E_t = 600 kV\n"
       ]
      }
     ],
     "prompt_number": 1
    },
    {
     "cell_type": "heading",
     "level": 2,
     "metadata": {},
     "source": [
      "Example 2.15.2, Page number 399"
     ]
    },
    {
     "cell_type": "code",
     "collapsed": false,
     "input": [
      "#Variable declaration\n",
      "V_hv = 132.0      #Voltage at the HV side of transformer(kV)\n",
      "V_lv = 33.0       #Voltage at the LV side of transformer(kV)\n",
      "V = 860.0         #Insulator allowable voltage(kV)\n",
      "Z = 400.0         #Line surge impedance(ohm)\n",
      "BIL = 550.0       #BIL(kV)\n",
      "\n",
      "#Calculation\n",
      "V_rating_LA = V_hv*1.1*0.8                 #Voltage rating of LA(kV)\n",
      "E_a = 351.0                                #Discharge voltage at 5 kA(kV)\n",
      "I_disc = (2*V-E_a)*1000/Z                  #Discharge current(A)\n",
      "L_1 = 37.7                                 #Separation distance in current b/w arrester tap and power transformer tap(m)\n",
      "dist = 11.0                                #Lead length from tap point to ground level(m)\n",
      "de_dt = 500.0                              #Maximum rate of rise of surge(kV/\u00b5-sec)\n",
      "Inductance = 1.2                           #Inductance(\u00b5H/metre)\n",
      "di_dt = 5000.0                             #di/dt(A/\u00b5-sec)\n",
      "lead_drop = Inductance*dist*di_dt/1000     #Drop in the lead(kV)\n",
      "E_d = E_a+lead_drop                        #(kV)\n",
      "V_tr_terminal = E_d+2*de_dt*L_1/300        #Voltage at transformer terminals(kV)\n",
      "E_t = BIL/1.2                              #Highest voltage the transformer is subjected(kV)\n",
      "L = (E_t-E_a)/(2*de_dt)*300                #Distance at which lightning arrester located from transformer(m)\n",
      "L_lead = (E_t-E_a*1.1)/(2*de_dt)*300       #Distance at which lightning arrester located from transformer taken 10% lead drop(m)\n",
      "\n",
      "#Result\n",
      "print('Rating of L.A = %.1f kV' %V_rating_LA)\n",
      "print('Location of L.A, L = %.f m' %L)\n",
      "print('Location of L.A if 10 percent lead drop is considered, L = %.1f m' %L_lead)\n",
      "print('Maximum distance at which a ligtning arrester is usually connected from transformer is %.f-%.f m' %(L-2,L+3))"
     ],
     "language": "python",
     "metadata": {},
     "outputs": [
      {
       "output_type": "stream",
       "stream": "stdout",
       "text": [
        "Rating of L.A = 116.2 kV\n",
        "Location of L.A, L = 32 m\n",
        "Location of L.A if 10 percent lead drop is considered, L = 21.7 m\n",
        "Maximum distance at which a ligtning arrester is usually connected from transformer is 30-35 m\n"
       ]
      }
     ],
     "prompt_number": 1
    },
    {
     "cell_type": "heading",
     "level": 2,
     "metadata": {},
     "source": [
      "Example 2.15.3, Page number 400"
     ]
    },
    {
     "cell_type": "code",
     "collapsed": false,
     "input": [
      "#Variable declaration\n",
      "V = 138.0           #Voltage(kV)\n",
      "Z = 400.0           #Surge impedance(ohm)\n",
      "L = 15.0            #Distance of surge diverter to transformer(m)\n",
      "E = 960.0           #Maximum surge(kV)\n",
      "L_lead = 6.0        #Surge diverter lead length(m)\n",
      "L_line = 60.0       #Distance of surge diverter to line entrance(m)\n",
      "margin_5 = 0.25     #Protective margin b/w BIL & protective level\n",
      "margin_6 = 0.15     #Margin with surge diverter\n",
      "\n",
      "#Calculation\n",
      "V_rating_LA = V*1.1*0.8                                              #Voltage rating of LA(kV)\n",
      "V_rated = 120.0                                                      #Chosen rated voltage(kV)\n",
      "max_spark_over = V_rated*3.1                                         #Front of wave spark-over,max(kV)\n",
      "max_full_spark_over = V_rated*2.8                                    #Full wave spark-over,max(kV)\n",
      "max_switch_spark_over = 3.0*V_rated                                  #Switching surge spark over,max(kV)\n",
      "E_d = max_switch_spark_over                                          #Maximum discharge voltage(kV)\n",
      "I_disch = (2*E-E_d)/Z                                                #Discharge current(kA)\n",
      "V_LA_lead = L_lead*1.2*I_disch/2                                     #Voltage drop in surge diverter lead(kV)\n",
      "E_d1 = E_d+V_LA_lead                                                 #Effective discharge voltage(kV)\n",
      "de_dt = 480.0                                                        #Maximum rate of rise of surge(kV/\u00b5-sec)\n",
      "V_tr_terminal = E_d1+2*de_dt*L/300                                   #Voltage at transformer terminals(kV)\n",
      "BIL_calc = V_tr_terminal*(1+margin_5)                                #BIL calculated(kV)\n",
      "BIL_1 = 550.0                                                        #Standard BIL(kV)\n",
      "max_switch_spark_over_margin = max_switch_spark_over*(1+margin_6)    #Switching surge spark over,max(kV)\n",
      "distance_effect = 2.0*de_dt*L_line/300                               #Distance effect for line entrance(kV)\n",
      "V_peak_entrance = E_d1+distance_effect                               #Voltage at peak entrance(kV)\n",
      "\n",
      "#Result\n",
      "print('Appropriate BIL of transformer and switchgear = 650 kV')"
     ],
     "language": "python",
     "metadata": {},
     "outputs": [
      {
       "output_type": "stream",
       "stream": "stdout",
       "text": [
        "Appropriate BIL of transformer and switchgear = 650 kV\n"
       ]
      }
     ],
     "prompt_number": 1
    }
   ],
   "metadata": {}
  }
 ]
}