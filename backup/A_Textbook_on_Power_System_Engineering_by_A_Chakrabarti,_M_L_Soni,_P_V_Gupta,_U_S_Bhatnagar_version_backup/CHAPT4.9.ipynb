{
 "metadata": {
  "name": ""
 },
 "nbformat": 3,
 "nbformat_minor": 0,
 "worksheets": [
  {
   "cells": [
    {
     "cell_type": "heading",
     "level": 1,
     "metadata": {},
     "source": [
      "CHAPTER 4.9: ELECTRIC TRACTION SYSTEMS AND POWER SUPPLY"
     ]
    },
    {
     "cell_type": "heading",
     "level": 2,
     "metadata": {},
     "source": [
      "Example 4.9.1, Page number 817-818"
     ]
    },
    {
     "cell_type": "code",
     "collapsed": false,
     "input": [
      "from scipy.integrate import quad\n",
      "\n",
      "#Variable declaration\n",
      "L = 3.0           #Length of section ACB of rail(km)\n",
      "L_B_A = 2.0       #Distance of B from A(km)\n",
      "I_load = 350.0    #Loading(A/km)\n",
      "r_rail = 0.035    #Resistance of rail(ohm/km)\n",
      "r_feed = 0.03     #Resistance of negative feeder(ohm/km)\n",
      "\n",
      "#Calculation\n",
      "def integrand(x):\n",
      "    return (I_load*(L-x))\n",
      "ans, err = quad(integrand, 0, L_B_A)\n",
      "I = ans/(L_B_A-0)                         #Current in negative feeder(A)\n",
      "x = L-(I/I_load)                          #Distance from feeding point(km)\n",
      "def integrand(x):\n",
      "    return (r_rail*I_load*x)\n",
      "C, err = quad(integrand, 0, x)            #Voltage at point P(V)\n",
      "V = r_feed*L_B_A*I                        #Voltage produced by negative booster(V)\n",
      "rating = V*I/1000                         #Rating of the booster(kW)\n",
      "\n",
      "#Result\n",
      "print('Maximum potential difference between any two points of the rails, C = %.2f V' %C)\n",
      "print('Rating of the booster = %.1f kW' %rating)"
     ],
     "language": "python",
     "metadata": {},
     "outputs": [
      {
       "output_type": "stream",
       "stream": "stdout",
       "text": [
        "Maximum potential difference between any two points of the rails, C = 6.13 V\n",
        "Rating of the booster = 29.4 kW\n"
       ]
      }
     ],
     "prompt_number": 1
    },
    {
     "cell_type": "heading",
     "level": 2,
     "metadata": {},
     "source": [
      "Example 4.9.2, Page number 820"
     ]
    },
    {
     "cell_type": "code",
     "collapsed": false,
     "input": [
      "#Variable declaration\n",
      "D = 50.0    #Distance between poles(m)\n",
      "w = 0.5     #Weight of trolley wire per metre(kg)\n",
      "T = 520.0   #Maximum tension(kg)\n",
      "\n",
      "#Calculation\n",
      "l = D/2                              #Half distance b/w poles(m)\n",
      "d = w*l**2/(2*T)                     #Sag(m)\n",
      "wire_length = 2*(l+(2*d**2/(3*l)))   #Length of wire required(m)\n",
      "\n",
      "#Result\n",
      "print('Maximum sag, d = %.4f metres' %d)\n",
      "print('Length of wire required = %.f metres' %wire_length)"
     ],
     "language": "python",
     "metadata": {},
     "outputs": [
      {
       "output_type": "stream",
       "stream": "stdout",
       "text": [
        "Maximum sag, d = 0.3005 metres\n",
        "Length of wire required = 50 metres\n"
       ]
      }
     ],
     "prompt_number": 1
    }
   ],
   "metadata": {}
  }
 ]
}