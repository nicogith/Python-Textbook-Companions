{
 "metadata": {
  "name": ""
 },
 "nbformat": 3,
 "nbformat_minor": 0,
 "worksheets": [
  {
   "cells": [
    {
     "cell_type": "heading",
     "level": 1,
     "metadata": {},
     "source": [
      "CHAPTER 2.6: INTERFERENCE OF POWER LINES WITH NEIGHBOURING COMMUNICATION CIRCUITS"
     ]
    },
    {
     "cell_type": "heading",
     "level": 2,
     "metadata": {},
     "source": [
      "Example 2.6.1, Page number 206"
     ]
    },
    {
     "cell_type": "code",
     "collapsed": false,
     "input": [
      "import math\n",
      "\n",
      "#Variable declaration\n",
      "f = 50.0             #Frequency(Hz)\n",
      "d = 4.0              #Spacing b/w conductors(m)\n",
      "D = 2.0              #Distance of telephone line below conductor(m)\n",
      "s = 60.0/100         #Spacing b/w telephone line(m)\n",
      "r = 2.0              #Radius of power line(mm)\n",
      "I = 150.0            #Current in power line(A)\n",
      "\n",
      "#Calculation\n",
      "D_ac = (D**2+((d-s)/2)**2)**0.5            #Distance b/w a & c(m)\n",
      "D_ad = (D**2+(((d-s)/2)+s)**2)**0.5        #Distance b/w a & d(m)\n",
      "M = 4.0*10**-7*math.log(D_ad/D_ac)*1000    #Mutual inductance b/w circuits(H/km)\n",
      "V_CD = 2.0*math.pi*f*M*I                   #Voltage induced in the telephone line(V/km)\n",
      "\n",
      "#Result\n",
      "print('Mutual inductance between the circuits, M = %.e H/km' %M)\n",
      "print('Voltage induced in the telephone line, V_CD = %.2f V/km' %V_CD)"
     ],
     "language": "python",
     "metadata": {},
     "outputs": [
      {
       "output_type": "stream",
       "stream": "stdout",
       "text": [
        "Mutual inductance between the circuits, M = 6e-05 H/km\n",
        "Voltage induced in the telephone line, V_CD = 2.82 V/km\n"
       ]
      }
     ],
     "prompt_number": 1
    },
    {
     "cell_type": "heading",
     "level": 2,
     "metadata": {},
     "source": [
      "Example 2.6.2, Page number 206-207"
     ]
    },
    {
     "cell_type": "code",
     "collapsed": false,
     "input": [
      "import math\n",
      "\n",
      "#Variable declaration\n",
      "f = 50.0             #Frequency(Hz)\n",
      "l = 160.0            #Length of line(km)\n",
      "V = 132.0*10**3      #Line voltage(V)\n",
      "P = 25.0*10**6       #Load delivered(W)\n",
      "PF = 0.8             #Lagging power factor\n",
      "r = 5.0/1000         #Radius of power line conductor(m)\n",
      "d = 4.0              #Spacing b/w conductors(m)\n",
      "OS = 6.0             #Distance(m)\n",
      "OT = 6.5             #Distance(m)\n",
      "CT = 18.0            #Distance(m)\n",
      "\n",
      "#Calculation\n",
      "AO = 3**0.5*d/2.0                                             #Distance A to O(m). From figure E6.2\n",
      "AS = OS+AO                                                    #Distance A to S(m)\n",
      "AT = AO+OT                                                    #Distance A to T(m)\n",
      "OB = d/2.0                                                    #Distance O to B(m)\n",
      "BS = (OB**2+OS**2)**0.5                                       #Distance B to S(m)\n",
      "BT = (OB**2+OT**2)**0.5                                       #Distance B to T(m)\n",
      "M_A = 0.2*math.log(AT/AS)                                     #Mutual inductance at A(mH/km)\n",
      "M_B = 0.2*math.log(BT/BS)                                     #Mutual inductance at B(mH/km)\n",
      "M = M_B-M_A                                                   #Mutual inductance at C(mH/km)\n",
      "I = P/(3**0.5*V*PF)                                           #Current(A)\n",
      "E_m = 2.0*math.pi*f*M*I*10**-3*l                              #Induced voltage(V)\n",
      "V_A = V/3**0.5                                                #Phase voltage(V)\n",
      "h = AO+CT                                                     #Height(m)\n",
      "V_SA = V_A*math.log10(((2*h)-AS)/AS)/math.log10(((2*h)-r)/r)  #Potential(V)\n",
      "H = CT                                                        #Height(m)\n",
      "V_B = V_A                                                     #Phase voltage(V)\n",
      "V_SB = V_B*math.log10(((2*H)-BS)/BS)/math.log10(((2*H)-r)/r)  #Potential(V)\n",
      "V_S = V_SB-V_SA                                               #Total potential of S w.r.t earth(V)\n",
      "\n",
      "#Result\n",
      "print('Induced voltage at fundamental frequency, E_m = %.1f V' %E_m)\n",
      "print('Potential of telephone conductor S above earth, V_S = %.f V' %V_S)\n",
      "print('\\nNOTE: ERROR: Changes in obtained answer is due to precision and calculation mistakes in textbook')"
     ],
     "language": "python",
     "metadata": {},
     "outputs": [
      {
       "output_type": "stream",
       "stream": "stdout",
       "text": [
        "Induced voltage at fundamental frequency, E_m = 29.0 V\n",
        "Potential of telephone conductor S above earth, V_S = 2638 V\n",
        "\n",
        "NOTE: ERROR: Changes in obtained answer is due to precision and calculation mistakes in textbook\n"
       ]
      }
     ],
     "prompt_number": 1
    }
   ],
   "metadata": {}
  }
 ]
}