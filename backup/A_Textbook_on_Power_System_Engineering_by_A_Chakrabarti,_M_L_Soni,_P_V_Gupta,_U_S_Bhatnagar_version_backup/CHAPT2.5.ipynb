{
 "metadata": {
  "name": ""
 },
 "nbformat": 3,
 "nbformat_minor": 0,
 "worksheets": [
  {
   "cells": [
    {
     "cell_type": "heading",
     "level": 2,
     "metadata": {},
     "source": [
      "CHAPTER 2.5: MECHANICAL DESIGN OF OVERHEAD LINES"
     ]
    },
    {
     "cell_type": "heading",
     "level": 2,
     "metadata": {},
     "source": [
      "Example 2.5.1, Page number 198"
     ]
    },
    {
     "cell_type": "code",
     "collapsed": false,
     "input": [
      "#Variable declaration\n",
      "u = 5758.0       #Ultimate strength(kg)\n",
      "S = 2.0          #Sag(m)\n",
      "s = 2.0          #Factor of safety\n",
      "L = 250.0        #Span length(m)\n",
      "\n",
      "#Calculation\n",
      "T = u/s                                #Allowable max tension(kg)\n",
      "w = S*8.0*T/L**2                       #weight(kg/m)\n",
      "l = L/2                                #Half span length(m)\n",
      "half_span = l+(w**2*l**3/(6*T**2))     #Half span length(m)\n",
      "total_length = 2*half_span             #Total length(m)\n",
      "weight = w*total_length                #Weight of conductor(kg)\n",
      "\n",
      "#Result\n",
      "print('Weight of conductor = %.2f kg' %weight)"
     ],
     "language": "python",
     "metadata": {},
     "outputs": [
      {
       "output_type": "stream",
       "stream": "stdout",
       "text": [
        "Weight of conductor = 184.29 kg\n"
       ]
      }
     ],
     "prompt_number": 1
    },
    {
     "cell_type": "heading",
     "level": 2,
     "metadata": {},
     "source": [
      "Example 2.5.2, Page number 198"
     ]
    },
    {
     "cell_type": "code",
     "collapsed": false,
     "input": [
      "import math\n",
      "\n",
      "#Variable declaration\n",
      "L = 250.0             #Span length(m)\n",
      "h = 10.0              #Difference in height(m)\n",
      "r = 1.0               #Radius of conductor(cm)\n",
      "w = 2.5               #Weight of conductor(kg/m)\n",
      "wind = 1.2            #Wind load(kg/m)\n",
      "s = 3.0               #Factor of safety\n",
      "tensile = 4300.0      #Maximum tensile strength(kg/sq.cm)\n",
      "\n",
      "#Calculation\n",
      "W = (w**2+wind**2)**0.5       #Total pressure on conductor(kg/m)\n",
      "f = tensile/s                 #Permissible stress in conductor(kg/sq.cm)   \n",
      "a = math.pi*r**2              #Area of the conductor(sq.cm)\n",
      "T = f*a                       #Allowable max tension(kg)\n",
      "x = (L/2)-(T*h/(L*W))         #Point of maximum sag at the lower support(m)\n",
      "\n",
      "#Result\n",
      "print('Point of maximum sag at the lower support, x = %.2f metres' %x)"
     ],
     "language": "python",
     "metadata": {},
     "outputs": [
      {
       "output_type": "stream",
       "stream": "stdout",
       "text": [
        "Point of maximum sag at the lower support, x = 60.05 metres\n"
       ]
      }
     ],
     "prompt_number": 1
    },
    {
     "cell_type": "heading",
     "level": 2,
     "metadata": {},
     "source": [
      "Example 2.5.3, Page number 198-199"
     ]
    },
    {
     "cell_type": "code",
     "collapsed": false,
     "input": [
      "import math\n",
      "\n",
      "#Variable declaration\n",
      "a = 2.5             #Cross-sectional area(sq.cm)\n",
      "L = 250.0           #Span(m)\n",
      "w_c = 1.8           #Weight of conductor(kg/m)\n",
      "u = 8000.0          #Ultimate strength(kg/cm^2)\n",
      "wind = 40.0         #Wind load(kg/cm^2)\n",
      "s = 3.0             #Factor of safety\n",
      "\n",
      "#Calculation\n",
      "d = (4.0*a/math.pi)**0.5       #Diameter(cm)\n",
      "T = u*a/s                      #Allowable max tension(kg)\n",
      "w_w = wind*d/100.0             #Horizontal wind force(kg)\n",
      "w_r = (w_c**2+w_w**2)**0.5     #Resultant force(kg/m)\n",
      "S = w_r*L**2/(8*T)             #Slant sag(m)\n",
      "vertical_sag = S*(w_c/w_r)     #Vertical sag(m)\n",
      "\n",
      "#Result\n",
      "print('Vertical sag = %.3f metres' %vertical_sag)"
     ],
     "language": "python",
     "metadata": {},
     "outputs": [
      {
       "output_type": "stream",
       "stream": "stdout",
       "text": [
        "Vertical sag = 2.109 metres\n"
       ]
      }
     ],
     "prompt_number": 1
    },
    {
     "cell_type": "heading",
     "level": 2,
     "metadata": {},
     "source": [
      "Example 2.5.4, Page number 199"
     ]
    },
    {
     "cell_type": "code",
     "collapsed": false,
     "input": [
      "#Variable declaration\n",
      "a = 110.0               #Cross-sectional area(sq.mm)\n",
      "w_c = 844.0/1000        #Weight of conductor(kg/m)\n",
      "U = 7950.0              #Ultimate strength(kg)\n",
      "L = 300.0               #Span(m)\n",
      "s = 2.0                 #Factor of safety\n",
      "wind = 75.0             #Wind pressure(kg/m^2)\n",
      "h = 7.0                 #Ground clearance(m)\n",
      "d = 2.79                #Diameter of copper(mm)\n",
      "n = 7.0                 #Number of strands\n",
      "\n",
      "#Calculation\n",
      "dia = n*d                        #Diameter of conductor(mm)\n",
      "w_w = wind*dia/1000.0            #Horizontal wind force(kg)\n",
      "w = (w_c**2+w_w**2)**0.5         #Resultant force(kg)\n",
      "T = U/2.0                        #Allowable tension(m)\n",
      "l = L/2.0                        #Half-span(m)\n",
      "D = w*l**2/(2*T)                 #Distance(m)\n",
      "height = h+D                     #Height above ground at which the conductors should be supported(m)\n",
      "\n",
      "#Result\n",
      "print('Height above ground at which the conductors should be supported = %.2f metres' %height)"
     ],
     "language": "python",
     "metadata": {},
     "outputs": [
      {
       "output_type": "stream",
       "stream": "stdout",
       "text": [
        "Height above ground at which the conductors should be supported = 11.78 metres\n"
       ]
      }
     ],
     "prompt_number": 1
    },
    {
     "cell_type": "heading",
     "level": 2,
     "metadata": {},
     "source": [
      "Example 2.5.5, Page number 199"
     ]
    },
    {
     "cell_type": "code",
     "collapsed": false,
     "input": [
      "#Variable declaration\n",
      "w_w = 1.781          #Wind pressure on conductor(kg/m)\n",
      "w_i = 1.08           #Weight of ice on conductor(kg/m)\n",
      "D = 6.0              #Maximum permissible sag(m)\n",
      "s = 2.0              #Factor of safety\n",
      "w_c = 0.844          #Weight of conductor(kg/m)\n",
      "u = 7950.0           #Ultimate strength(kg)\n",
      "\n",
      "#Calculation\n",
      "w = ((w_c+w_i)**2+w_w**2)**0.5       #Total force on conductor(kg/m)\n",
      "T = u/s                              #Allowable maximum tension(kg)\n",
      "l = ((D*2*T)/w)**0.5                 #Half span(m)\n",
      "L = 2.0*l                            #Permissible span between two supports(m)\n",
      "\n",
      "#Result\n",
      "print('Permissible span between two supports = %.f metres' %L)\n",
      "print('\\nNOTE: ERROR: Horizontal wind load, w_w = 1.781 kg/m, not 1.78 kg/m as mentioned in problem statement')"
     ],
     "language": "python",
     "metadata": {},
     "outputs": [
      {
       "output_type": "stream",
       "stream": "stdout",
       "text": [
        "Permissible span between two supports = 270 metres\n",
        "\n",
        "NOTE: ERROR: Horizontal wind load, w_w = 1.781 kg/m, not 1.78 kg/m as mentioned in problem statement\n"
       ]
      }
     ],
     "prompt_number": 1
    },
    {
     "cell_type": "heading",
     "level": 2,
     "metadata": {},
     "source": [
      "Example 2.5.6, Page number 199-200"
     ]
    },
    {
     "cell_type": "code",
     "collapsed": false,
     "input": [
      "import math\n",
      "\n",
      "#Variable declaration\n",
      "a = 0.484           #Area of conductor(sq.cm)\n",
      "d = 0.889           #Overall diameter(cm)\n",
      "w_c = 428/1000.0    #Weight(kg/m)\n",
      "u = 1973.0          #Breaking strength(kg)\n",
      "s = 2.0             #Factor of safety\n",
      "L = 200.0           #Span(m)\n",
      "t = 1.0             #Ice thickness(cm)\n",
      "wind = 39.0         #Wind pressure(kg/m^2)\n",
      "\n",
      "#Calculation\n",
      "#Case(i)\n",
      "l = L/2.0                                         #Half span(m)\n",
      "T = u/s                                           #Allowable maximum tension(kg)\n",
      "D_1 = w_c*l**2/(2*T)                              #Maximum sag due to weight of conductor(m)\n",
      "#Case(ii)\n",
      "w_i = 913.5*math.pi*t*(d+t)*10**-4                #Weight of ice on conductor(kg/m)\n",
      "w = w_c+w_i                                       #Total weight of conductor & ice(kg/m)\n",
      "D_2 = w*l**2/(2*T)                                #Maximum sag due to additional weight of ice(m)\n",
      "#Case(iii)\n",
      "D = d+2.0*t                                       #Diameter due to ice(cm)\n",
      "w_w = wind*D*10**-2                               #Wind pressure on conductor(kg/m)\n",
      "w_3 = ((w_c+w_i)**2+w_w**2)**0.5                  #Total force on conductor(kg/m)\n",
      "D_3 = w_3*l**2/(2*T)                              #Maximum sag due to (i), (ii) & wind(m)\n",
      "theta = math.atan(w_w/(w_c+w_i))*180.0/math.pi    #\u03b8(\u00b0)\n",
      "vertical_sag = D_3*math.cos(theta*math.pi/180)    #Vertical sag(m)\n",
      "\n",
      "#Result\n",
      "print('Case(i)  : Maximum sag of line due to weight of conductor, D = %.2f metres' %D_1)\n",
      "print('Case(ii) : Maximum sag of line due to additional weight of ice, D = %.2f metres' %D_2)\n",
      "print('Case(iii): Maximum sag of line due to (i),(ii) plus wind, D = %.2f metres' %D_3)\n",
      "print('           Vertical sag = %.2f metres' %vertical_sag)"
     ],
     "language": "python",
     "metadata": {},
     "outputs": [
      {
       "output_type": "stream",
       "stream": "stdout",
       "text": [
        "Case(i)  : Maximum sag of line due to weight of conductor, D = 2.17 metres\n",
        "Case(ii) : Maximum sag of line due to additional weight of ice, D = 4.92 metres\n",
        "Case(iii): Maximum sag of line due to (i),(ii) plus wind, D = 7.54 metres\n",
        "           Vertical sag = 4.92 metres\n"
       ]
      }
     ],
     "prompt_number": 1
    },
    {
     "cell_type": "heading",
     "level": 2,
     "metadata": {},
     "source": [
      "Example 2.5.7, Page number 200"
     ]
    },
    {
     "cell_type": "code",
     "collapsed": false,
     "input": [
      "#Variable declaration\n",
      "W = 428/1000.0      #Weight(kg/m)\n",
      "u = 1973.0          #Breaking strength(kg)\n",
      "s = 2.0             #Factor of safety\n",
      "l = 200.0           #Span(m)\n",
      "h = 3.0             #Difference in tower height(m)\n",
      "\n",
      "#Calculation\n",
      "T = u/s                               #Allowable maximum tension(kg)\n",
      "x_2 = (l/2.0)+(T*h/(W*l))             #Point of minimum sag from tower at higher level(m)\n",
      "x_1 = l-x_2                           #Point of minimum sag from tower at lower level(m)\n",
      "\n",
      "#Result\n",
      "print('Point of minimum sag, x_1 = %.1f metres' %x_1)\n",
      "print('Point of minimum sag, x_2 = %.1f metres' %x_2)"
     ],
     "language": "python",
     "metadata": {},
     "outputs": [
      {
       "output_type": "stream",
       "stream": "stdout",
       "text": [
        "Point of minimum sag, x_1 = 65.4 metres\n",
        "Point of minimum sag, x_2 = 134.6 metres\n"
       ]
      }
     ],
     "prompt_number": 1
    },
    {
     "cell_type": "heading",
     "level": 2,
     "metadata": {},
     "source": [
      "Example 2.5.8, Page number 200-201"
     ]
    },
    {
     "cell_type": "code",
     "collapsed": false,
     "input": [
      "#Variable declaration\n",
      "h_1 = 50.0          #Height of tower P1(m)\n",
      "h_2 = 80.0          #Height of tower P2(m)\n",
      "L = 300.0           #Horizontal distance b/w towers(m)\n",
      "T = 2000.0          #Tension in conductor(kg)\n",
      "w = 0.844           #Weight of conductor(kg/m)\n",
      "\n",
      "#Calculation\n",
      "h = h_2-h_1                           #Difference in height of tower(m)\n",
      "x_2 = (L/2.0)+(T*h/(w*L))             #Point of minimum sag from tower P2(m)\n",
      "x_1 = (L/2.0)-(T*h/(w*L))             #Point of minimum sag from tower at lower level(m)\n",
      "P = (L/2.0)-x_1                       #Distance of point P(m)\n",
      "D = w*P**2/(2*T)                      #Height of P above O(m)\n",
      "D_2 = w*x_2**2/(2*T)                  #Height of P2 above O(m)\n",
      "mid_point_P2 = D_2-D                  #Mid-point below P2(m)\n",
      "clearance = h_2-mid_point_P2          #Clearance b/w conductor & water(m)\n",
      "D_1 = w*x_1**2/(2*T)                  #Height of P1 above O(m)\n",
      "mid_point_P1 = D-D_1                  #Mid-point above P1(m)\n",
      "clearance_alt = h_1+mid_point_P1      #Clearance b/w conductor & water(m)\n",
      "\n",
      "#Result\n",
      "print('Clearance b/w conductor & water at a point midway b/w towers = %.2f m above ground' %clearance)\n",
      "print('\\nALTERNATIVE METHOD:')\n",
      "print('Clearance b/w conductor & water at a point midway b/w towers = %.2f m above ground' %clearance_alt)"
     ],
     "language": "python",
     "metadata": {},
     "outputs": [
      {
       "output_type": "stream",
       "stream": "stdout",
       "text": [
        "Clearance b/w conductor & water at a point midway b/w towers = 60.25 m above ground\n",
        "\n",
        "ALTERNATIVE METHOD:\n",
        "Clearance b/w conductor & water at a point midway b/w towers = 60.25 m above ground\n"
       ]
      }
     ],
     "prompt_number": 1
    },
    {
     "cell_type": "heading",
     "level": 2,
     "metadata": {},
     "source": [
      "Example 2.5.9, Page number 201"
     ]
    },
    {
     "cell_type": "code",
     "collapsed": false,
     "input": [
      "import math\n",
      "\n",
      "#Variable declaration\n",
      "L = 300.0          #Span(m)\n",
      "a = 226.0          #Area(mm^2)\n",
      "d = 19.53/10       #Overall diameter(cm)\n",
      "w_2 = 0.844        #Weight of conductor(kg/m)\n",
      "u = 7950.0         #Ultimate strength(kg)\n",
      "t = 0.95           #Ice thickness(cm)\n",
      "wind = 39.0        #Wind pressure(kg/m^2)\n",
      "\n",
      "#Calculation\n",
      "w_i = 915.0*math.pi*t*(d+t)*10**-4      #Weight of ice on conductor(kg/m)\n",
      "w_w = wind*(d+2*t)*10**-2               #Wind load of conductor(kg/m)\n",
      "w_1  = ((w_2+w_i)**2+w_w**2)**0.5       #Total force on conductor(kg/m)\n",
      "T_2 = 1710.0                            #Tension in conductor(kg). Obtianed directly from textbook\n",
      "l = L/2.0                               #Half span(m)\n",
      "sag = w_2*l**2/(2*T_2)                  #Sag at erection(m)\n",
      "\n",
      "#Result\n",
      "print('Sag at erection = %.2f metres' %sag)\n",
      "print('Tension of the line, T_2 = %.f kg' %T_2)"
     ],
     "language": "python",
     "metadata": {},
     "outputs": [
      {
       "output_type": "stream",
       "stream": "stdout",
       "text": [
        "Sag at erection = 5.55 metres\n",
        "Tension of the line, T_2 = 1710 kg\n"
       ]
      }
     ],
     "prompt_number": 1
    },
    {
     "cell_type": "heading",
     "level": 2,
     "metadata": {},
     "source": [
      "Example 2.5.10, Page number 201-202"
     ]
    },
    {
     "cell_type": "code",
     "collapsed": false,
     "input": [
      "import math\n",
      "\n",
      "#Variable declaration\n",
      "L = 250.0          #Span(m)\n",
      "d = 1.42           #Diameter(cm)\n",
      "w = 1.09           #Dead weight(kg/m)\n",
      "wind = 37.8        #Wind pressure(kg/m^2)\n",
      "r = 1.25           #Ice thickness(cm)\n",
      "f_m = 1050.0       #Maximum working stress(kg/sq.cm)\n",
      "\n",
      "#Calculation\n",
      "w_i = 913.5*math.pi*r*(d+r)*10**-4      #Weight of ice on conductor(kg/m)\n",
      "w_w = wind*(d+2*r)*10**-2               #Wind load of conductor(kg/m)\n",
      "w_r  = ((w+w_i)**2+w_w**2)**0.5         #Resultant pressure(kg/m)\n",
      "a = math.pi*d**2/4.0                    #Area(cm^2)\n",
      "T_0 = f_m*a                             #Tension(kg)\n",
      "S = w_r*L**2/(8*T_0)                    #Total sag(m)\n",
      "vertical_sag = S*(w+w_i)/w_r            #Vertical component of sag(m)\n",
      "\n",
      "#Result\n",
      "print('Case(i) : Sag in inclined direction = %.f m' %S)\n",
      "print('Case(ii): Sag in vertical direction = %.2f m' %vertical_sag)"
     ],
     "language": "python",
     "metadata": {},
     "outputs": [
      {
       "output_type": "stream",
       "stream": "stdout",
       "text": [
        "Case(i) : Sag in inclined direction = 12 m\n",
        "Case(ii): Sag in vertical direction = 9.62 m\n"
       ]
      }
     ],
     "prompt_number": 1
    },
    {
     "cell_type": "heading",
     "level": 2,
     "metadata": {},
     "source": [
      "Example 2.5.11, Page number 202-203"
     ]
    },
    {
     "cell_type": "code",
     "collapsed": false,
     "input": [
      "import math\n",
      "\n",
      "#Variable declaration\n",
      "a = 120.0                 #Area(mm^2)\n",
      "ds = 2.11                 #Diameter of each strand(mm)\n",
      "W = 1118.0/1000           #Weight of conductor(kg/m)\n",
      "L = 200.0                 #Span(m)\n",
      "stress = 42.2             #Ultimate tensile stress(kg/mm^2)\n",
      "wind = 60.0               #Wind pressure(kg/m^2)\n",
      "t = 10.0                  #Ice thickness(mm)\n",
      "\n",
      "#Calculation\n",
      "n = 3.0                                          #Number of layers\n",
      "d = (2*n+1)*ds                                   #Overall diameter of conductor(mm)\n",
      "u = stress*a                                     #Ultimate strength(kg)\n",
      "T = u/4.0                                        #Working stregth(kg)\n",
      "#Case(a)\n",
      "S_a = W*L**2/(8*T)                               #Sag in still air(m)\n",
      "#Case(b)\n",
      "area = d*100*10.0*10**-6                         #Projected area to wind pressure(m^2)\n",
      "w_w = wind*area                                  #Wind load/m(kg)\n",
      "w_r = (W**2+w_w**2)**0.5                         #Resultant weight/m(kg)\n",
      "S_b = w_r*L**2/(8*T)                             #Total sag with wind pressure(m)\n",
      "w_i = 0.915*math.pi/4*((d+2*t)**2-(d**2))/1000.0 #Weight of ice on conductor(kg/m)\n",
      "area_i = (d+2*t)*1000.0*10**-6                   #Projected area to wind pressure(m^2)\n",
      "w_n = wind*area_i                                #Wind load/m(kg)\n",
      "w_r_c = ((W+w_i)**2+w_n**2)**0.5                 #Resultant weight/m(kg)\n",
      "S_c = w_r_c*L**2/(8*T)                           #Total sag with wind pressure and ice coating(m)\n",
      "S_v = S_c*(W+w_i)/w_r_c                          #Vertical component of sag(m)\n",
      "\n",
      "#Result\n",
      "print('Case(a) : Sag in still air, S = %.2f m' %S_a)\n",
      "print('Case(b) : Sag with wind pressure, S = %.2f m' %S_b)\n",
      "print('          Sag with wind pressure and ice coating, S = %.2f m' %S_c)\n",
      "print('          Vertical sag, S_v = %.2f m' %S_v)\n",
      "print('\\nNOTE: ERROR: calculation mistake in the textbook')"
     ],
     "language": "python",
     "metadata": {},
     "outputs": [
      {
       "output_type": "stream",
       "stream": "stdout",
       "text": [
        "Case(a) : Sag in still air, S = 4.42 m\n",
        "Case(b) : Sag with wind pressure, S = 5.63 m\n",
        "          Sag with wind pressure and ice coating, S = 10.96 m\n",
        "          Vertical sag, S_v = 7.23 m\n",
        "\n",
        "NOTE: ERROR: calculation mistake in the textbook\n"
       ]
      }
     ],
     "prompt_number": 1
    }
   ],
   "metadata": {}
  }
 ]
}