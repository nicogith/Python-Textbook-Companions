{
 "cells": [
  {
   "cell_type": "markdown",
   "metadata": {},
   "source": [
    "#  Chapter 5 : Laws of Motion"
   ]
  },
  {
   "cell_type": "markdown",
   "metadata": {},
   "source": [
    "## Example 5.1 , page : 93"
   ]
  },
  {
   "cell_type": "code",
   "execution_count": 1,
   "metadata": {
    "collapsed": false
   },
   "outputs": [
    {
     "name": "stdout",
     "output_type": "stream",
     "text": [
      "The acceleration of the astranaunt = 0 m/s²\n"
     ]
    }
   ],
   "source": [
    "# Importing module\n",
    "\n",
    "import math\n",
    "\n",
    "# Variable delaration\n",
    "\n",
    "a=100                    # Constant acceleration of the inter stellar space in m/s²\n",
    "\n",
    "# Calculation\n",
    "\n",
    "# Since there are no nearby stars to exert gravitational force on him and the small spaceship exerts negligible gravitational attraction on him, the net force acting on the astronaut, once he is out of the spaceship, is zero.\n",
    "# By the first law of motion the acceleration of the astronaut is zero.  \n",
    "\n",
    "# Result\n",
    "\n",
    "print(\"The acceleration of the astranaunt =\",0,\"m/s²\")\n"
   ]
  },
  {
   "cell_type": "markdown",
   "metadata": {},
   "source": [
    "## Example 5.2 , page : 95 "
   ]
  },
  {
   "cell_type": "code",
   "execution_count": 2,
   "metadata": {
    "collapsed": false
   },
   "outputs": [
    {
     "name": "stdout",
     "output_type": "stream",
     "text": [
      "The average resistive force exerted by the block on the bullet = 270.0 N\n"
     ]
    }
   ],
   "source": [
    "# Importing module\n",
    "\n",
    "import math\n",
    "\n",
    "# Variable delaration\n",
    " \n",
    "m=0.04                   # Mass of the bullet in kg\n",
    "u=90                     # Speedof the bullet in m/s\n",
    "s=60                     # Thickness of the wooden block at which the bullet stops in cms\n",
    "\n",
    "# Calculation\n",
    "\n",
    "s=s*10**-2\n",
    "a=u**2/(2*s)             # Retardation of the bullet in m/s²\n",
    "F=m*a                    # Retarding force in N\n",
    "\n",
    "# Result\n",
    "\n",
    "print(\"The average resistive force exerted by the block on the bullet =\",F,\"N\")\n"
   ]
  },
  {
   "cell_type": "markdown",
   "metadata": {},
   "source": [
    "## Example 5.3 , page : 96 "
   ]
  },
  {
   "cell_type": "code",
   "execution_count": 3,
   "metadata": {
    "collapsed": false
   },
   "outputs": [
    {
     "name": "stdout",
     "output_type": "stream",
     "text": [
      "Force aciting on the particle, F = g*m\n"
     ]
    }
   ],
   "source": [
    "# Importing module\n",
    "\n",
    "import math\n",
    "from sympy import *\n",
    "import numpy \n",
    "\n",
    "# Variable delaration\n",
    "\n",
    "g=symbols('g')\n",
    "m=symbols('m')\n",
    "u=symbols('u')\n",
    "ut=symbols('ut')\n",
    "t=symbols('t')\n",
    "gt=symbols('gt')\n",
    "\n",
    "# Calculation\n",
    "\n",
    "# The motion of a particle of mass m is given as follows\n",
    "y=ut+(gt**2)/2\n",
    "# Differentiating the equation of motion with respect to time t we get,\n",
    "v=u+gt\n",
    "# Again differentiating the above equation with respect to time t we get, \n",
    "a=g\n",
    "F=m*a                        # Force aciting on the particle\n",
    "# Thus the given equation describes the motion of a particle under acceleration due to gravity and y is the position coordinate in the direction of g.\n",
    "\n",
    "# Result\n",
    "\n",
    "print(\"Force aciting on the particle, F =\",F)"
   ]
  },
  {
   "cell_type": "markdown",
   "metadata": {},
   "source": [
    "## Example 5.4 , page : 96"
   ]
  },
  {
   "cell_type": "code",
   "execution_count": 4,
   "metadata": {
    "collapsed": false
   },
   "outputs": [
    {
     "name": "stdout",
     "output_type": "stream",
     "text": [
      "The impulse in the direction from the batsman to the bowler = 3.6 Ns\n"
     ]
    }
   ],
   "source": [
    "# Importing module\n",
    "\n",
    "import math\n",
    "\n",
    "# Variable delaration\n",
    "\n",
    "m=0.15                   # Mass of the ball in kg\n",
    "u=12                     # Initial speed of the ball in m/s\n",
    "\n",
    "# Calculation\n",
    "\n",
    "Delta_v=u-(-u)           # Change in velocity= Final velocity-Initial velocity\n",
    "I=m*Delta_v\n",
    "\n",
    "# Result\n",
    "\n",
    "print(\"The impulse in the direction from the batsman to the bowler =\",round(I,1),\"Ns\")\n"
   ]
  },
  {
   "cell_type": "markdown",
   "metadata": {},
   "source": [
    "## Example 5.5 , page : 98 "
   ]
  },
  {
   "cell_type": "code",
   "execution_count": 5,
   "metadata": {
    "collapsed": false
   },
   "outputs": [
    {
     "name": "stdout",
     "output_type": "stream",
     "text": [
      "(i) The direction of impulse (and force) is the same in both case and  is normal to the wall along the negative x direction\n",
      "(ii)The ratio of the magnitudes  of the impulses imparted to the ball in two cases = 1.2\n"
     ]
    }
   ],
   "source": [
    "# Importing module\n",
    "\n",
    "import math\n",
    "\n",
    "# Variable delaration\n",
    "\n",
    "θ=30                    \n",
    "\n",
    "# Calculation\n",
    "                     \n",
    "# Consider the force (or impulse) on  the ball due to  the wall using the second law, and then use the third law to answer \n",
    "                     \n",
    "# Case(a)  \n",
    "# Let u be the speed of each ball before and after collision with the wall, and m the mass of each ball.\n",
    "# Let us consider, initial momentum in x direction, P_x_in = mu and  final  momentum in x direction,P_x_fi = - mu\n",
    "# Let us consider, initial momentum in y direction, P_y_in = 0 and  final  momentum in y direction,P_y_fi = 0\n",
    "# Impulse is the change in momentum vector. Therefore,                       \n",
    "# x-component of impulse  = 2mu   and   y-component of impulse  = 0\n",
    "# Impulse and force are in the same direction. Clearly, the force on the ball due to the wall is normal to the wall, along the negative x-direction.\n",
    "# Using Newtons third law of motion, the force on the wall due to the ball is normal to the wall along the positive x-direction.                 \n",
    "                     \n",
    "# Case(b)\n",
    "# Let u be the speed of each ball before and after collision with the wall, and m the mass of each ball.\n",
    "# Let us consider, initial momentum in x direction, P_x_in = mu cos 30° and  final  momentum in x direction,P_x_fi = -mu cos 30°\n",
    "# Let us consider, initial momentum in y direction, P_y_in = mu sin 30° and  final  momentum in y direction,P_y_fi = mu sin 30°\n",
    "# x-component of impulse = 2mucos30  and  y-component of impulse = 0\n",
    "# Using Newtons third law, the force on the wall due to the ball is normal to the wall along the positive x direction.\n",
    "                     \n",
    "# The ratio of the magnitudes  of the impulses imparted to the balls in (a) and (b) is 2mu/2mu cos 30°= 1/cos 30°\n",
    "r=1/math.cos(math.radians(θ)) \n",
    "\n",
    "# Result\n",
    "                     \n",
    "print(\"(i) The direction of impulse (and force) is the same in both case and  is normal to the wall along the negative x direction\")\n",
    "print(\"(ii)The ratio of the magnitudes  of the impulses imparted to the ball in two cases =\",round(r,1))  \n"
   ]
  },
  {
   "cell_type": "markdown",
   "metadata": {},
   "source": [
    "## Example 5.6 , page : 99 "
   ]
  },
  {
   "cell_type": "code",
   "execution_count": 6,
   "metadata": {
    "collapsed": false
   },
   "outputs": [
    {
     "name": "stdout",
     "output_type": "stream",
     "text": [
      "The angle that the rope makes with the vertical in equilibrium = 40.0 °\n"
     ]
    }
   ],
   "source": [
    "# Importing module\n",
    "\n",
    "import math\n",
    "\n",
    "# Variable delaration\n",
    "\n",
    "m=6                      # The amount of mass suspended in kg\n",
    "l=2                      # Length of the rope in m\n",
    "F=50                     # The Force applied at the mid-point of the rope in the horizontal direction in N\n",
    "g=10                     # Acceleration due to gravity\n",
    "\n",
    "# Calculation\n",
    "\n",
    "T2=m*g\n",
    "T1cosθ=T2\n",
    "T2sinθ=F\n",
    "tanθ=T2sinθ/T1cosθ\n",
    "θ=math.degrees(math.atan(tanθ)) \n",
    "\n",
    "# Result\n",
    "\n",
    "print(\"The angle that the rope makes with the vertical in equilibrium =\",round(θ,0),\"°\")\n"
   ]
  },
  {
   "cell_type": "markdown",
   "metadata": {},
   "source": [
    "## Example 5.7 , page : 102"
   ]
  },
  {
   "cell_type": "code",
   "execution_count": 7,
   "metadata": {
    "collapsed": false
   },
   "outputs": [
    {
     "name": "stdout",
     "output_type": "stream",
     "text": [
      "The maximum acceleration of the train = 1.5 m/s²\n"
     ]
    }
   ],
   "source": [
    "# Importing module\n",
    "\n",
    "import math\n",
    "\n",
    "# Variable delaration\n",
    "\n",
    "u=.15                    # The co-efficient of static friction between the box and the trains floor\n",
    "g=10                     # Acceleration due to gravity\n",
    "\n",
    "# Calculation\n",
    "\n",
    "# Since the acceleration of the box is due to the static friction, ma = f ≤ μN = μmg, i.e.   a  ≤  μg \n",
    "a_max=u*g\n",
    "\n",
    "# Result\n",
    "\n",
    "print(\"The maximum acceleration of the train =\",a_max,\"m/s²\")\n"
   ]
  },
  {
   "cell_type": "markdown",
   "metadata": {},
   "source": [
    "## Example 5.8 , page : 102  "
   ]
  },
  {
   "cell_type": "code",
   "execution_count": 8,
   "metadata": {
    "collapsed": false
   },
   "outputs": [
    {
     "name": "stdout",
     "output_type": "stream",
     "text": [
      "The coefficient of static friction between the block and the surface = 0.27\n"
     ]
    }
   ],
   "source": [
    "# Importing module\n",
    "\n",
    "import math\n",
    "\n",
    "# Variable delaration\n",
    "\n",
    "m=4                      # Mass in kg\n",
    "θ=15                     # Angle of inclination of the plane with the horizontal\n",
    "\n",
    "# Calculation\n",
    "\n",
    "# Resolving the weight mg along the two directions shown, we have mgsin θ = fs, mgcosθ=N\n",
    "# As θ  increases, the self-adjusting frictional force fs increases until at θ = θ max,  \n",
    "# fs achieves its maximum value,   max_f = μ s N\n",
    "# Therefore, tan θ max  =  μ   or  θ_max  =  (tan)^-1 μ \n",
    "tanθ=math.tan(math.radians(θ))\n",
    "\n",
    "# Result\n",
    "\n",
    "print(\"The coefficient of static friction between the block and the surface =\",round(tanθ,2))\n"
   ]
  },
  {
   "cell_type": "markdown",
   "metadata": {},
   "source": [
    "## Example 5.9 , page : 102  "
   ]
  },
  {
   "cell_type": "code",
   "execution_count": 9,
   "metadata": {
    "collapsed": false
   },
   "outputs": [
    {
     "name": "stdout",
     "output_type": "stream",
     "text": [
      "The acceleration of the block  and  trolley system = 0.96 m/s²\n",
      "The tension on the string = 27.1 N\n"
     ]
    }
   ],
   "source": [
    "# Importing module\n",
    "\n",
    "import math\n",
    "\n",
    "# Variable delaration\n",
    "\n",
    "m1=20                    # Mass of the block in kg\n",
    "m2=3                     # Mass of the block in kg\n",
    "g=10                     # Acceleration due to gravity\n",
    "u_k=0.04                 # The coefficient of kinetic friction between the trolley and the surface\n",
    "\n",
    "# Calculation\n",
    "\n",
    "N=m1*g\n",
    "f_k=u_k*N\n",
    "# Applying second law to motion of the block , 30-T  = 3a\n",
    "# Applying the second law to motion of the trolley, T-fk = 20a.\n",
    "a=22/23\n",
    "T=(20*a)+f_k\n",
    "\n",
    "# Result\n",
    "\n",
    "print(\"The acceleration of the block  and  trolley system =\",round(a,2),\"m/s²\")\n",
    "print(\"The tension on the string =\",round(T,1),\"N\")\n"
   ]
  },
  {
   "cell_type": "markdown",
   "metadata": {},
   "source": [
    "## Example 5.10 , page : 105  "
   ]
  },
  {
   "cell_type": "code",
   "execution_count": 10,
   "metadata": {
    "collapsed": false
   },
   "outputs": [
    {
     "name": "stdout",
     "output_type": "stream",
     "text": [
      "The cyclist will slip while taking the circular turn.\n"
     ]
    }
   ],
   "source": [
    "# Importing module\n",
    "\n",
    "import math\n",
    "\n",
    "# Variable delaration\n",
    "\n",
    "v=18                     # Speed of the cycle in km/h\n",
    "R=3                      # Radius of the circular turn in m\n",
    "µ_s=0.1                  # Coefficient of static friction between the tyre and the road \n",
    "g=9.8                    # Acceleration due to gravity in m/s²\n",
    "\n",
    "# Calculation\n",
    "\n",
    "v=v*(5/18)               # Speed of the cycle in m/s\n",
    "v_sq=pow(v,2)\n",
    "#The condition for the cyclist not to slip is given b, v2  ≤  μ_sRg\n",
    "μ_sRg=μ_s*R*g\n",
    "\n",
    "# Result\n",
    "\n",
    "if v_sq < μ_sRg:\n",
    "    print(\"The cyclist will not slip while taking the circular turn.\")\n",
    "else:\n",
    "    print(\"The cyclist will slip while taking the circular turn.\")\n"
   ]
  },
  {
   "cell_type": "markdown",
   "metadata": {},
   "source": [
    "## Example 5.11 , page : 105  "
   ]
  },
  {
   "cell_type": "code",
   "execution_count": 11,
   "metadata": {
    "collapsed": false
   },
   "outputs": [
    {
     "name": "stdout",
     "output_type": "stream",
     "text": [
      "The optimum speed of the race-car to avoid wear and tear on its tyres = 28.1 m/s\n",
      "The maximum permissible speed to avoid slipping = 38.1 m/s\n"
     ]
    }
   ],
   "source": [
    "# Importing module\n",
    "\n",
    "import math\n",
    "\n",
    "# Variable delaration\n",
    "\n",
    "R=300                    # Radius of the circulas race track in m\n",
    "θ=15                     # Angle at which the road banked in degree\n",
    "u=0.2                    # The coefficient of friction between the wheels of a race-car and the road\n",
    "g=9.8                    # Acceleration due to gravity\n",
    "\n",
    "# Calculation\n",
    "\n",
    "#(a)\n",
    "v_o=math.sqrt(R*g*(math.tan(math.radians(θ))))\n",
    "#(b)\n",
    "v_max=math.sqrt(R*g*(u+(math.tan(math.radians(θ))))/(1-u*math.tan(math.radians(θ))))\n",
    "\n",
    "\n",
    "# Result\n",
    "\n",
    "print(\"The optimum speed of the race-car to avoid wear and tear on its tyres =\",round(v_o,1),\"m/s\")\n",
    "print(\"The maximum permissible speed to avoid slipping =\",round(v_max,1),\"m/s\")\n",
    "   "
   ]
  },
  {
   "cell_type": "markdown",
   "metadata": {},
   "source": [
    "## Example 5.12 , page : 106  "
   ]
  },
  {
   "cell_type": "code",
   "execution_count": 12,
   "metadata": {
    "collapsed": false
   },
   "outputs": [
    {
     "name": "stdout",
     "output_type": "stream",
     "text": [
      "(a) The action of the block is equal to 20 N and directed vertically downwards.\n",
      "(b) The  action  of the system on the floor is equal to 267.3 N vertically downward.\n",
      "For(a):\n",
      "(i)  The force of gravity 20 N on the block by the earth (action);the force of gravity on the earth by the block (reaction) 20 N directed upwards.\n",
      "(ii) The force on the floor by the block (action); the force on the block by the floor (reaction).\n",
      "For(b):\n",
      "(i)  The force of gravity 270 N on the system by the earth (action);the force of gravity on the earth by the system (reaction), equal to 270 N, directed upwards.\n",
      "(ii) the force on the floor by the system (action); the force on the system by the floor (reaction).\n"
     ]
    }
   ],
   "source": [
    "# Importing module\n",
    "\n",
    "import math\n",
    "\n",
    "# Variable delaration\n",
    " \n",
    "m1=2                     # Mass of the wooden block in kg\n",
    "m2=25                    # Mass of the iron cylinder in kg\n",
    "a=0.1\n",
    "g=10                     # Acceleration due to gravity\n",
    "\n",
    "# Calculation\n",
    "\n",
    "#(a)\n",
    "# The block is at rest on the floor. Its free-body has two forces on the block, the force of gravitational attraction by the earth and the normal force R of the floor on the block.\n",
    "# By the First Law, the net force on the block must be zero, hence\n",
    "e1=m1*g                  # The force of gravitational attraction by the earth\n",
    "R=e1                     # The normal force of the floor on the block\n",
    "\n",
    "#(b)\n",
    "# The system (block + cylinder) accelerates downwards with 0.1 m/s².The free-body diagram of the system shows two forces on the system : the force of gravity due to the earth; and the normal force R′ by the floor.   \n",
    "e2=(m1+m2)*g             # The force of gravitational attraction by the earth\n",
    "R_prim=e2-(m1+m2)*a      # The normal force of the floor on the block\n",
    "\n",
    "# Result\n",
    "\n",
    "print(\"(a) The action of the block is equal to\",R,\"N and directed vertically downwards.\")\n",
    "print(\"(b) The  action  of the system on the floor is equal to\",R_prim,\"N vertically downward.\")\n",
    "\n",
    "print(\"For(a):\")\n",
    "print(\"(i)  The force of gravity\",e1,\"N on the block by the earth (action);the force of gravity on the earth by the block (reaction)\",R,\"N directed upwards.\")\n",
    "print(\"(ii) The force on the floor by the block (action); the force on the block by the floor (reaction).\")\n",
    "print(\"For(b):\")\n",
    "print(\"(i)  The force of gravity\",e2,\"N on the system by the earth (action);the force of gravity on the earth by the system (reaction), equal to 270 N, directed upwards.\")\n",
    "print(\"(ii) the force on the floor by the system (action); the force on the system by the floor (reaction).\")\n"
   ]
  }
 ],
 "metadata": {
  "kernelspec": {
   "display_name": "Python 3",
   "language": "python",
   "name": "python3"
  },
  "language_info": {
   "codemirror_mode": {
    "name": "ipython",
    "version": 3
   },
   "file_extension": ".py",
   "mimetype": "text/x-python",
   "name": "python",
   "nbconvert_exporter": "python",
   "pygments_lexer": "ipython3",
   "version": "3.4.3"
  }
 },
 "nbformat": 4,
 "nbformat_minor": 0
}
