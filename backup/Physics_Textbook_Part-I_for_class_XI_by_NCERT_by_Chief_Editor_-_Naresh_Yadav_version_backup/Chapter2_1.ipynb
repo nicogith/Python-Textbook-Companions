{
 "cells": [
  {
   "cell_type": "markdown",
   "metadata": {},
   "source": [
    "#  Chapter 2 : Units and Measurement"
   ]
  },
  {
   "cell_type": "markdown",
   "metadata": {},
   "source": [
    "## Example 2.1 , page : 19"
   ]
  },
  {
   "cell_type": "code",
   "execution_count": 1,
   "metadata": {
    "collapsed": false
   },
   "outputs": [
    {
     "name": "stdout",
     "output_type": "stream",
     "text": [
      "(a) One degree = 0.017453292519943295 rad\n",
      "(b) One minute = 0.0002908882086657216 rad\n",
      "(c) One second = 4.84813681109536e-06 rad\n"
     ]
    }
   ],
   "source": [
    "# Importing module\n",
    "\n",
    "import math\n",
    "\n",
    "# Variable delaration\n",
    "\n",
    "three_sixty_degree=2*math.pi\n",
    "\n",
    "# Calculation\n",
    "\n",
    "# Since 360° = 2π rad \n",
    "one_degree=three_sixty_degree/360\n",
    "# Since 1° = 60′ \n",
    "one_minute=one_degree/60\n",
    "# Since 1′ = 60″\n",
    "one_second=one_minute/60\n",
    "\n",
    "# Result\n",
    "\n",
    "print(\"(a) One degree =\",one_degree,\"rad\")\n",
    "print(\"(b) One minute =\",one_minute,\"rad\")\n",
    "print(\"(c) One second =\",one_second,\"rad\")\n"
   ]
  },
  {
   "cell_type": "markdown",
   "metadata": {},
   "source": [
    "## Example 2.2 , page : 19"
   ]
  },
  {
   "cell_type": "code",
   "execution_count": 2,
   "metadata": {
    "collapsed": false
   },
   "outputs": [
    {
     "name": "stdout",
     "output_type": "stream",
     "text": [
      "The distance of the tower C from his original position A = 119.0 m\n"
     ]
    }
   ],
   "source": [
    "# Importing module\n",
    "\n",
    "import math\n",
    "\n",
    "# Variable delaration\n",
    " \n",
    "θ=40                     # Parallax angle in degree\n",
    "AB=100                   # Distance between A and Bin m\n",
    "\n",
    "# Calculation\n",
    "\n",
    "# AB = AC tan θ \n",
    "AC=AB/math.tan(math.radians(θ))\n",
    "\n",
    "# Result\n",
    "\n",
    "print(\"The distance of the tower C from his original position A =\",round(AC,0),\"m\")\n"
   ]
  },
  {
   "cell_type": "markdown",
   "metadata": {},
   "source": [
    "## Example 2.3 , page : 19"
   ]
  },
  {
   "cell_type": "code",
   "execution_count": 3,
   "metadata": {
    "collapsed": false
   },
   "outputs": [
    {
     "name": "stdout",
     "output_type": "stream",
     "text": [
      "The distance of the moon from the Earth = 0.0003846385723759571 m\n"
     ]
    }
   ],
   "source": [
    "# Importing module\n",
    "\n",
    "import math\n",
    "\n",
    "# Variable delaration\n",
    "\n",
    "# Since, 1°54′ = 114′ \n",
    "θ=114                    # The angle θ  subtended at the moon by the two directions of observation \n",
    "b=1.276*10**7            # Diameter of the Earth\n",
    "\n",
    "# Calculation\n",
    "\n",
    "θ=114*60*4.85*10**6\n",
    "D=b/θ                    # The earth-moon distance\n",
    "\n",
    "# Result\n",
    "\n",
    "print(\"The distance of the moon from the Earth =\",D,\"m\")\n"
   ]
  },
  {
   "cell_type": "markdown",
   "metadata": {},
   "source": [
    "## Example 2.4 , page : 19"
   ]
  },
  {
   "cell_type": "code",
   "execution_count": 4,
   "metadata": {
    "collapsed": false
   },
   "outputs": [
    {
     "name": "stdout",
     "output_type": "stream",
     "text": [
      "Sun's diameter = 1393075199.9999998 m\n"
     ]
    }
   ],
   "source": [
    "# Importing module\n",
    "\n",
    "import math\n",
    "\n",
    "# Variable declaration\n",
    "\n",
    "α=1920                   # Sun's angular diameter in minutes\n",
    "D=1.496*10**11           # The distance of the Sun from the Earth  \n",
    "\n",
    "# Calculation\n",
    "\n",
    "α=1920*4.85*10**-6       # Sun's angular diameter in radians\n",
    "d=α*D                    # Sun's diameter\n",
    "\n",
    "#Result\n",
    "\n",
    "print(\"Sun's diameter =\",d,\"m\")\n"
   ]
  },
  {
   "cell_type": "markdown",
   "metadata": {},
   "source": [
    "## Example 2.5 , page : 20"
   ]
  },
  {
   "cell_type": "code",
   "execution_count": 5,
   "metadata": {
    "collapsed": false
   },
   "outputs": [
    {
     "name": "stdout",
     "output_type": "stream",
     "text": [
      "Thus a nucleus in an atom is as small in size as the tip of a sharp pin placed at the centre of a sphere of radius about a metre long\n"
     ]
    }
   ],
   "source": [
    "# Calculation\n",
    "\n",
    "# The size of a nucleus is in the range of 10**-15 m and 10**-14 m.\n",
    "# The tip of a sharp pin is taken to be in the range of 10**5 m and 10**4 m.\n",
    "# Thus we are scaling up by a factor of 1010. An atom roughly of size 1010 m will be scaled up to a size of 1 m.\n",
    "\n",
    "# Result\n",
    "\n",
    "print(\"Thus a nucleus in an atom is as small in size as the tip of a sharp pin placed at the centre of a sphere of radius about a metre long\")\n"
   ]
  },
  {
   "cell_type": "markdown",
   "metadata": {},
   "source": [
    "## Example 2.6 , page : 25"
   ]
  },
  {
   "cell_type": "code",
   "execution_count": 6,
   "metadata": {
    "collapsed": false
   },
   "outputs": [
    {
     "name": "stdout",
     "output_type": "stream",
     "text": [
      "Clock 2 is to be preferred to clock 1\n"
     ]
    }
   ],
   "source": [
    "# Calculations\n",
    "\n",
    "# The range of variation over the seven days of observations is 162 s for clock 1, and 31 s for clock 2.\n",
    "# The average reading of clock 1 is much closer to the standard time than the average reading of clock 2.\n",
    "# The important point is that a clocks zero error is not as significant for precision work as its variation, because a zero-error can always be easily corrected.\n",
    " \n",
    "\n",
    "# Result\n",
    "\n",
    "print(\"Clock 2 is to be preferred to clock 1\")\n"
   ]
  },
  {
   "cell_type": "markdown",
   "metadata": {},
   "source": [
    "## Example 2.7 , page : 25"
   ]
  },
  {
   "cell_type": "code",
   "execution_count": 7,
   "metadata": {
    "collapsed": false
   },
   "outputs": [
    {
     "name": "stdout",
     "output_type": "stream",
     "text": [
      "The absolute errors = [0.005999999999999783, 0.06400000000000006, 0.20400000000000018, 0.08599999999999985, 0.1759999999999997]\n",
      "A more correct way will be to write, T = 2.6 ± 0.1  s \n",
      "The relative error or the percentage error = 3.8461538461538463 ≈ 4 %\n"
     ]
    }
   ],
   "source": [
    "# Importing module\n",
    "\n",
    "import math\n",
    "\n",
    "# Variable delaration\n",
    "\n",
    "p=[2.63,2.56,2.42,2.71,2.80]  # The readings of period of oscillation of a simple pendulum\n",
    "\n",
    "# Calculation\n",
    "\n",
    "T=sum(p)/len(p)\n",
    "p[:] = [x - T for x in p]\n",
    "q=[abs(x) for x in p]\n",
    "DT=sum(q)/len(p)\n",
    "δa=(round(DT,1)/round(T,1))*100\n",
    "\n",
    "# Result\n",
    "\n",
    "print(\"The absolute errors =\",q)\n",
    "print(\"A more correct way will be to write, T =\",round(T,1),\"±\", round(DT,1),\" s \")\n",
    "\n",
    "print(\"The relative error or the percentage error =\",δa,\"≈ 4 %\")\n"
   ]
  },
  {
   "cell_type": "markdown",
   "metadata": {},
   "source": [
    "## Example 2.8 , page : 26"
   ]
  },
  {
   "cell_type": "code",
   "execution_count": 8,
   "metadata": {
    "collapsed": false
   },
   "outputs": [
    {
     "name": "stdout",
     "output_type": "stream",
     "text": [
      "The temperature difference wth the error = 30 ° C ± 1.0 ° C\n"
     ]
    }
   ],
   "source": [
    "# Importing module\n",
    "\n",
    "import math\n",
    "\n",
    "# Variable delaration\n",
    "\n",
    "t1=20                    # Temperature of first body in degree Celsius\n",
    "Δt1=.5                   # Error in temperature of first body degree Celsius\n",
    "t2=50                    # Temperature of second body degree Celsius\n",
    "Δt2=.5                   # Error in temperature of first body degree Celsius\n",
    "\n",
    "# Calculation\n",
    "\n",
    "t=t2 - t1\n",
    "Δt=max((Δt1 + Δt2),(Δt1 - Δt2))\n",
    "\n",
    "\n",
    "# Result\n",
    "\n",
    "print(\"The temperature difference wth the error =\",t,\"\\u00b0 C ±\",Δt,\"\\u00b0 C\")\n"
   ]
  },
  {
   "cell_type": "markdown",
   "metadata": {},
   "source": [
    "## Example 2.9 , page : 27"
   ]
  },
  {
   "cell_type": "code",
   "execution_count": 9,
   "metadata": {
    "collapsed": false
   },
   "outputs": [
    {
     "name": "stdout",
     "output_type": "stream",
     "text": [
      "The total error in Resistance = 7 %\n"
     ]
    }
   ],
   "source": [
    "# Importing module\n",
    "\n",
    "import math\n",
    "\n",
    "# Variable delaration\n",
    " \n",
    "V=5                      # The percentage error in voltage \n",
    "I=2                      # The percentage error in current\n",
    "\n",
    "# Calculation\n",
    "\n",
    "R=V+I\n",
    "\n",
    "# Result\n",
    "\n",
    "print(\"The total error in Resistance =\",R,\"%\")"
   ]
  },
  {
   "cell_type": "markdown",
   "metadata": {},
   "source": [
    "## Example 2.10 , page : 27"
   ]
  },
  {
   "cell_type": "code",
   "execution_count": 10,
   "metadata": {
    "collapsed": false
   },
   "outputs": [
    {
     "name": "stdout",
     "output_type": "stream",
     "text": [
      "The equivalent resistance of the series combination = 300 ± 7 ohm\n",
      "The equivalent resistance of the parallel combination = 66.7 ± 1.8 ohm\n"
     ]
    }
   ],
   "source": [
    "# Importing module\n",
    "\n",
    "import math\n",
    "\n",
    "# Variable delaration\n",
    "\n",
    "R1=100                   # Resistance of first resistor in ohm\n",
    "ΔR1=3                    # Error in Resistance of first resistor in ohm\n",
    "R2=200                   # Resistance of second resistor wth error term in ohm\n",
    "ΔR2=4                    # Error in Resistance of second resistor in ohm\n",
    "\n",
    "# Calculation\n",
    "\n",
    "R=R1+R2\n",
    "ΔR=ΔR1+ΔR2\n",
    "R_prim=R1*R2/(R1+R2)\n",
    "ΔR_prim=(R_prim/R1)**2*ΔR1 + (R_prim/R2)**2*ΔR2 \n",
    "\n",
    "# Result\n",
    "\n",
    "print(\"The equivalent resistance of the series combination =\",R,\"±\",ΔR,\"ohm\")\n",
    "print(\"The equivalent resistance of the parallel combination =\",round(R_prim,1),\"±\",round(ΔR_prim,1),\"ohm\")\n"
   ]
  },
  {
   "cell_type": "markdown",
   "metadata": {},
   "source": [
    "## Example 2.11 , page : 27"
   ]
  },
  {
   "cell_type": "code",
   "execution_count": 11,
   "metadata": {
    "collapsed": false
   },
   "outputs": [
    {
     "name": "stdout",
     "output_type": "stream",
     "text": [
      "The relative error in Z is  ΔZ/Z = 4(ΔA/A)+(1/3)(ΔB/B)+(ΔC/C)+(3/2)(ΔD/D)\n"
     ]
    }
   ],
   "source": [
    "# Since the relative error in a physical quantity raised to the power k is the k times the relative error in the individual quantity.\n",
    "\n",
    "# Result\n",
    "\n",
    "print(\"The relative error in Z is  ΔZ/Z = 4(ΔA/A)+(1/3)(ΔB/B)+(ΔC/C)+(3/2)(ΔD/D)\")\n"
   ]
  },
  {
   "cell_type": "markdown",
   "metadata": {},
   "source": [
    "## Example 2.12 , page : 27"
   ]
  },
  {
   "cell_type": "code",
   "execution_count": 12,
   "metadata": {
    "collapsed": false
   },
   "outputs": [
    {
     "name": "stdout",
     "output_type": "stream",
     "text": [
      "The percentage error in g = 2.7222222222222223 ≈ 3\n"
     ]
    }
   ],
   "source": [
    "# Importing module\n",
    "\n",
    "import math\n",
    "\n",
    "# Variable delaration\n",
    "\n",
    "L=20                     # Length in cm\n",
    "ΔL=1                     # Eror in lengthin mm\n",
    "t=90                     # Total time in s\n",
    "Δt=1                     # Error in time in s\n",
    "n=100                    # Number of oscillations\n",
    "\n",
    "# Calculation\n",
    "\n",
    "# The period of oscillation of a simple pendulum is, T = 2Π √(L/g)\n",
    "# Hence, g = 4π²L/T²\n",
    "\n",
    "ΔL=ΔL*10**-1\n",
    "T=n/t\n",
    "ΔT_div_T=Δt/t                               # Error in T\n",
    "Δg_div_g= (ΔL/L) + 2*(ΔT_div_T)             # Error in g\n",
    "per_g= 100*(ΔL/L) + 2*100*(ΔT_div_T ) \n",
    "\n",
    "# Result\n",
    "\n",
    "print(\"The percentage error in g =\",per_g,\"≈ 3\")\n"
   ]
  },
  {
   "cell_type": "markdown",
   "metadata": {},
   "source": [
    "## Example 2.13 , page : 30"
   ]
  },
  {
   "cell_type": "code",
   "execution_count": 13,
   "metadata": {
    "collapsed": false
   },
   "outputs": [
    {
     "name": "stdout",
     "output_type": "stream",
     "text": [
      "Surface area of the cube = 311.3 m²\n",
      "Volume of the cube = 373.7 m^3\n"
     ]
    }
   ],
   "source": [
    "# Importing module\n",
    "\n",
    "import math\n",
    "\n",
    "# Variable delaration\n",
    "\n",
    "a=7.203                  # Side of the cube in m\n",
    "\n",
    "# Calculation\n",
    "# The number of significant figures in the measured length is 4.\n",
    "# Hence the calculated area and the volume should therefore be rounded off to 4 significant figures. \n",
    "\n",
    "SA=6*a**2                # Surface area of the cube\n",
    "V=a**3                   # Volume of the cube \n",
    "\n",
    "# Result\n",
    "\n",
    "print(\"Surface area of the cube =\",round(SA,1),\"m²\")\n",
    "print(\"Volume of the cube =\",round(V,1),\"m^3\")"
   ]
  },
  {
   "cell_type": "markdown",
   "metadata": {},
   "source": [
    "## Example 2.14 , page : 30"
   ]
  },
  {
   "cell_type": "code",
   "execution_count": 14,
   "metadata": {
    "collapsed": false
   },
   "outputs": [
    {
     "name": "stdout",
     "output_type": "stream",
     "text": [
      "Density = 4.8 g/cm^3\n"
     ]
    }
   ],
   "source": [
    "# Importing module\n",
    "\n",
    "import math\n",
    "\n",
    "# Variable delaration\n",
    "\n",
    "m=5.74                   # Mass of the substancein g\n",
    "v=1.2                    # Volume of the substance in cm^3\n",
    "\n",
    "# Calculation\n",
    "\n",
    "# There are 3 significant figures in the measured mass whereas there are only 2 significant figures in the measured  volume.\n",
    "# Hence the density should be expressed to only 2 significant figures.\n",
    "D=m/v\n",
    "\n",
    "# Result\n",
    "\n",
    "print(\"Density =\",round(D,1),\"g/cm^3\")\n"
   ]
  },
  {
   "cell_type": "markdown",
   "metadata": {},
   "source": [
    "## Example 2.15 , page : 33"
   ]
  },
  {
   "cell_type": "code",
   "execution_count": 15,
   "metadata": {
    "collapsed": false
   },
   "outputs": [
    {
     "name": "stdout",
     "output_type": "stream",
     "text": [
      "The dimensions of LHS are :[M][L T-1 ]²  = [M][L² T-²] = [M L² T-²]\n",
      "The dimensions of RHS are :[M][L T-²][L] = [M][L² T-²] = [M L² T-²]\n",
      "The dimensions of LHS and RHS are the same and hence the equation is dimensionally correct\n"
     ]
    }
   ],
   "source": [
    "# Consider the equation (1/2)mv²=mgh\n",
    "# where\n",
    "# m : Mass of the body\n",
    "# v : Velocity of the body\n",
    "# g : Acceleration due to gravity \n",
    "# h : Height\n",
    "\n",
    "#Calculation\n",
    "\n",
    "print(\"The dimensions of LHS are :[M][L T-1 ]²  = [M][L² T-²] = [M L² T-²]\")\n",
    "print(\"The dimensions of RHS are :[M][L T-²][L] = [M][L² T-²] = [M L² T-²]\")\n",
    "\n",
    "# Result\n",
    "\n",
    "print(\"The dimensions of LHS and RHS are the same and hence the equation is dimensionally correct\")\n"
   ]
  },
  {
   "cell_type": "markdown",
   "metadata": {},
   "source": [
    "## Example 2.16 , page : 33"
   ]
  },
  {
   "cell_type": "code",
   "execution_count": 1,
   "metadata": {
    "collapsed": false
   },
   "outputs": [
    {
     "name": "stdout",
     "output_type": "stream",
     "text": [
      "The correct formula for kinetic energy is, K = (1/2)mv²\n"
     ]
    }
   ],
   "source": [
    "# Calculation\n",
    "\n",
    "# Every correct formula or equation must have the same dimensions on both sides of the equation.\n",
    "# Also, only quantities with the same physical dimensions can be added or subtracted.\n",
    "# The dimensions of the quantity on the right side are \n",
    "# [M² L^3 T^-3] for (a)  \n",
    "# [M L² T-²] for (b)and (d)\n",
    "# [M L T-²] for (c)\n",
    "# The quantity on the right side of (e) has no proper dimensions since two quantities of different dimensions have been added.\n",
    "# Since the kinetic energy K has the dimensions of [M L2 T2], formulas (a), (c) and (e) are ruled out.\n",
    "# Note that dimensional arguments cannot tell which of the two, (b) or (d), is the correct formula. \n",
    "# For this, one must turn to the actual definition of kinetic energy.\n",
    "# The correct formula for kinetic energy is given by (b). \n",
    "\n",
    "# Result\n",
    "\n",
    "print(\"The correct formula for kinetic energy is, K = (1/2)mv²\")\n"
   ]
  },
  {
   "cell_type": "markdown",
   "metadata": {},
   "source": [
    "## Example 2.17 , page : 33"
   ]
  },
  {
   "cell_type": "code",
   "execution_count": 2,
   "metadata": {
    "collapsed": false
   },
   "outputs": [
    {
     "name": "stdout",
     "output_type": "stream",
     "text": [
      "The expression for the time period of a simple pendulum is, T = 2π √(l/g)\n"
     ]
    }
   ],
   "source": [
    "# Calculation\n",
    "\n",
    "# The dependence of time period T on the  quantities l, g and m as a product may be written as :\n",
    "# T = k l^x g^y m^z \n",
    "# where k is dimensionless constant and x, y and z are the exponents. \n",
    "# By considering dimensions on both sides, we have [L^0 M^0 T^1] = [L^1]^x [L^1 T^-2]^y [M^1]^z  = L^(x+y) T^(-2y) M^z\n",
    "# On equating the dimensions on both sides, we have: x + y = 0; 2y = 1; and z = 0\n",
    "# So that x = (1/2); y = -(1/2)  and  z = 0\n",
    "# T = k * l^(1/2) * g^-(1/2)\n",
    "# In other word,   T = k √(l/g)\n",
    "# The value of constant k can not be obtained by the method of dimensions.\n",
    "# Here it does not matter if some number multiplies the right side of this formula, because that does not affect its dimensions.\n",
    "# Actually, k = 2π so that T = 2π √(l/g)\n",
    "\n",
    "# Result\n",
    "\n",
    "print(\"The expression for the time period of a simple pendulum is, T = 2π √(l/g)\")\n"
   ]
  }
 ],
 "metadata": {
  "kernelspec": {
   "display_name": "Python 3",
   "language": "python",
   "name": "python3"
  },
  "language_info": {
   "codemirror_mode": {
    "name": "ipython",
    "version": 3
   },
   "file_extension": ".py",
   "mimetype": "text/x-python",
   "name": "python",
   "nbconvert_exporter": "python",
   "pygments_lexer": "ipython3",
   "version": "3.4.3"
  }
 },
 "nbformat": 4,
 "nbformat_minor": 0
}
