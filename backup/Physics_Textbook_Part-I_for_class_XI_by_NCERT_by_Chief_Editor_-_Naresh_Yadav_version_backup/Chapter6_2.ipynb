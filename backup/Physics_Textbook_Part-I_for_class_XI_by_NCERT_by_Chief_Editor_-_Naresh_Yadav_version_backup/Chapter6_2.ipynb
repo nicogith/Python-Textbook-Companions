{
 "cells": [
  {
   "cell_type": "markdown",
   "metadata": {},
   "source": [
    "#  Chapter 6 : Work, Energy and Power"
   ]
  },
  {
   "cell_type": "markdown",
   "metadata": {},
   "source": [
    "## Example 6.1 , page : 115"
   ]
  },
  {
   "cell_type": "code",
   "execution_count": 1,
   "metadata": {
    "collapsed": false
   },
   "outputs": [
    {
     "name": "stdout",
     "output_type": "stream",
     "text": [
      "The angle between the force F and the displacement d = 0.32 °\n",
      "The projection of F on d = 71.34\n"
     ]
    }
   ],
   "source": [
    "# Importing module\n",
    "\n",
    "import math\n",
    "\n",
    "# Variable declaration\n",
    "\n",
    "F = (3,4,-5)             # Force vector \n",
    "d = (5,4,3)              # Displacement vector\n",
    "\n",
    "# Calculation\n",
    "\n",
    "Fd=sum(p*q for p,q in zip(F,d))\n",
    "FF=sum(p*q for p,q in zip(F,F))\n",
    "dd=sum(p*q for p,q in zip(d,d))\n",
    "cosθ=Fd/math.sqrt(FF*dd)\n",
    "θ=math.degrees(math.acos(cosθ))\n",
    "\n",
    "# Result\n",
    "\n",
    "print(\"The angle between the force F and the displacement d =\",cosθ,\"°\")\n",
    "print(\"The projection of F on d =\",round(θ,2))\n"
   ]
  },
  {
   "cell_type": "markdown",
   "metadata": {},
   "source": [
    "## Example 6.2 , page : 116"
   ]
  },
  {
   "cell_type": "code",
   "execution_count": 2,
   "metadata": {
    "collapsed": false
   },
   "outputs": [
    {
     "name": "stdout",
     "output_type": "stream",
     "text": [
      "(a) The work done by the gravitational force = 10.0 J\n",
      "(b) The work done by the unknown resistive force -8.75 J\n"
     ]
    }
   ],
   "source": [
    "# Importing module\n",
    "\n",
    "import math\n",
    "\n",
    "# Variable declaration\n",
    "\n",
    "m=1                      # Mass of the drop in g\n",
    "h=1                      # The height at which the drop is falling in km\n",
    "v=50                     # Speed at which the drop hits the ground in m/s\n",
    "g=10                     # Accelaration due to gravity\n",
    "\n",
    "# Calculation\n",
    "\n",
    "m=m*10**-3               # Mass of the drop in kg\n",
    "h=h*10**3                # The height at which the drop is falling in m\n",
    "\n",
    "#(a)\n",
    "# We have assumed that the drop is initially at rest\n",
    "\n",
    "K=(m*pow(v,2))/2 # Change in kinetic energy of the drop\n",
    "W_g= m*g*h # The work done by the gravitational force on the drop in J\n",
    "\n",
    "#(b)\n",
    "# From the work-energy theorm, K=W_g+W_r  where Wr  is the work done by the resistive force on the raindrop\n",
    "W_r=K-W_g\n",
    "\n",
    "# Result\n",
    "\n",
    "print(\"(a) The work done by the gravitational force =\",W_g,\"J\")\n",
    "print(\"(b) The work done by the unknown resistive force\",W_r,\"J\")\n"
   ]
  },
  {
   "cell_type": "markdown",
   "metadata": {},
   "source": [
    "## Example 6.3 , page : 117 "
   ]
  },
  {
   "cell_type": "code",
   "execution_count": 3,
   "metadata": {
    "collapsed": false
   },
   "outputs": [
    {
     "name": "stdout",
     "output_type": "stream",
     "text": [
      "(a) Work done by the road on the cycle = -2000.0 J\n",
      "(b) Work done by cycle on the road = 0 J\n"
     ]
    }
   ],
   "source": [
    "# Importing module\n",
    "\n",
    "import math\n",
    "\n",
    "# Variable declaration\n",
    "\n",
    "d=10                     # The distance in m\n",
    "F=200                    # The force on cycle due to the road in N\n",
    "θ=180                    # The angle the stopping force and the displacement make with each other in degrees\n",
    "\n",
    "# Calculation\n",
    "\n",
    "W_r=F*d*math.cos(math.radians(θ))\n",
    "# From Newton’s Third Law an equal and opposite force acts on the road due to the cycle.\n",
    "# Its magnitude is 200 N. However, the road undergoes no displacement.\n",
    "#  Thus, work done by cycle on the road is zero.  \n",
    "\n",
    "# Result\n",
    "\n",
    "print(\"(a) Work done by the road on the cycle =\",W_r,\"J\")\n",
    "print(\"(b) Work done by cycle on the road = 0 J\")\n"
   ]
  },
  {
   "cell_type": "markdown",
   "metadata": {},
   "source": [
    "## Example 6.4 , page : 118 "
   ]
  },
  {
   "cell_type": "code",
   "execution_count": 4,
   "metadata": {
    "collapsed": false
   },
   "outputs": [
    {
     "name": "stdout",
     "output_type": "stream",
     "text": [
      "The emergent speed of the bullet = 63.2 m/s\n"
     ]
    }
   ],
   "source": [
    "# Importing module\n",
    "\n",
    "import math\n",
    "\n",
    "# Variable declaration\n",
    "\n",
    "m=50                     # The mass of the bullet in g\n",
    "in_v=200                 # The initial velocity of the bullet in m/s\n",
    "d=2                      # The thickness of the plywood in cm\n",
    "mp=1                     # For convenience,mass is assumed to be unity \n",
    "\n",
    "# Calculation\n",
    "\n",
    "m=m*10**-3               # The mass of the bullet in kg\n",
    "in_ke=(m*in_v**2)/2\n",
    "# Since the bullet emerges with only 10% of its initial kinetic energy\n",
    "fin_ke=0.1*in_ke\n",
    "#If v_f  is the emergent speed of the bullet,then mv_f²/2 = final kinetic energy\n",
    "v_f=math.sqrt((2*fin_ke)/m)  \n",
    "\n",
    "# Result\n",
    "\n",
    "print(\"The emergent speed of the bullet =\",round(v_f,1),\"m/s\")\n"
   ]
  },
  {
   "cell_type": "markdown",
   "metadata": {},
   "source": [
    "## Example 6.5 , page : 119 "
   ]
  },
  {
   "cell_type": "code",
   "execution_count": 5,
   "metadata": {
    "collapsed": false
   },
   "outputs": [
    {
     "name": "stdout",
     "output_type": "stream",
     "text": [
      "Work done by the women= 1750.0 J\n",
      "Work done by the frictional force= -1000 J\n"
     ]
    }
   ],
   "source": [
    "# Importing module\n",
    "\n",
    "import math\n",
    "\n",
    "# Variable declaration\n",
    "\n",
    "F1=100                   # Initial force in J\n",
    "F2=50                    # Final force in J\n",
    "d1=10                    # Initial distance covered in m\n",
    "d2=10                    # Final distance covered in m\n",
    "\n",
    "# Calculation\n",
    "\n",
    "d=d1+d2                  # Total distance covered\n",
    "A_rec1=F1*d1             # Area of the rectangle ABCD\n",
    "A_tra=((F1+F2)/2)*d2\n",
    "W_f=A_rec1+A_tra         # Work done by the women\n",
    "A_rec2=-F2*d             # Area of the rectangle AGHI\n",
    "\n",
    "# Result\n",
    "\n",
    "print(\"Work done by the women =\",W_f,\"J\")\n",
    "print(\"Work done by the frictional force =\",A_rec2,\"J\")\n"
   ]
  },
  {
   "cell_type": "markdown",
   "metadata": {},
   "source": [
    "## Example 6.6 , page : 120 "
   ]
  },
  {
   "cell_type": "code",
   "execution_count": 6,
   "metadata": {
    "collapsed": false
   },
   "outputs": [
    {
     "name": "stdout",
     "output_type": "stream",
     "text": [
      "The final kinetic energy of the block = 0.5 J\n",
      "The final speed of the block = 1.0 m/s\n"
     ]
    }
   ],
   "source": [
    "# Importing module\n",
    "\n",
    "import math\n",
    "\n",
    "# Variable declaration\n",
    "\n",
    "m=1                      # Mass of the block in kg\n",
    "v_t=2                    # Speed of the block in m/s\n",
    "x1=0.10                  # Initial point\n",
    "x2=2.01                  # Final point\n",
    "k=0.5                    # Proportionality ratio in J\n",
    "\n",
    "# Calculation\n",
    "\n",
    "k_t=(m*pow(v_t,2))/2\n",
    "k_f=k_t-(k*math.log(x2/x1))\n",
    "#Since Kinetic energy =mv²/2\n",
    "v_f=math.sqrt(2*k_f/m)\n",
    "\n",
    "# Result\n",
    "\n",
    "print(\"The final kinetic energy of the block =\",round(k_f,2),\"J\")\n",
    "print(\"The final speed of the block =\",round(v_f,2),\"m/s\")\n"
   ]
  },
  {
   "cell_type": "markdown",
   "metadata": {},
   "source": [
    "## Example 6.7 , page : 122 "
   ]
  },
  {
   "cell_type": "code",
   "execution_count": 7,
   "metadata": {
    "collapsed": false
   },
   "outputs": [
    {
     "name": "stdout",
     "output_type": "stream",
     "text": [
      "(i)   v_o = √(5gL)\n",
      "(ii)  The speed at point B, v_b = √3gL\n",
      "      The speed at point C, v_c = √gL\n",
      "(iii) The ratio  of  the kinetic energies (KB/KC) at B and C= 3.0\n",
      "At point C, the string becomes slack and the velocity of the bob is horizontal and to the left.  If the connecting string is cut at this instant, the bob will execute a projectile motion with horizontal projection akin to a rock kicked horizontally from the edge of a cliff.  Otherwise the bob will continue on its circular path and complete the revolution.\n"
     ]
    }
   ],
   "source": [
    "# Importing module\n",
    "\n",
    "import math\n",
    "\n",
    "# Calculation\n",
    "\n",
    "#(i)\n",
    "# The total mechanical energy E  of the system is conserved.We take the potential energy of the system to be zero at the lowest point A.\n",
    "# Thus, at A : E = (1/2)mv²_o\n",
    "# By Newton’s Second Law Ta-m = mv²_o/L  where TA is the tension  in the string at A. \n",
    "# At the highest point C, the string slackens, as the tension in the string (TC) becomes zero. \n",
    "# Thus, at C, E = mgl(5/2)\n",
    "# Equating this to the energy at A we get, v_o = √(5gL)\n",
    "\n",
    "#(ii)\n",
    "# We know that v_c= √(gL)\n",
    "# At B, the energy is E =(1/2)mv²_b + mgL\n",
    "# Equating this to the energy at A and employing the result  namely v²_o = (5gL), we get  v_b = √3gL\n",
    "\n",
    "#(iii)\n",
    "# The ratio of the kinetic energies at B and C  is;  K_B/K_C = (1/2)mv²_b/(1/2)mv²_c = 3/1\n",
    "\n",
    "# Result\n",
    "\n",
    "print(\"(i)   v_o = √(5gL)\")\n",
    "print(\"(ii)  The speed at point B, v_b = √3gL\")\n",
    "print(\"      The speed at point C, v_c = √gL\")\n",
    "print(\"(iii) The ratio  of  the kinetic energies (KB/KC) at B and C=\",3/1)\n",
    "print(\"At point C, the string becomes slack and the velocity of the bob is horizontal and to the left.  If the connecting string is cut at this instant, the bob will execute a projectile motion with horizontal projection akin to a rock kicked horizontally from the edge of a cliff.  Otherwise the bob will continue on its circular path and complete the revolution.\")\n"
   ]
  },
  {
   "cell_type": "markdown",
   "metadata": {},
   "source": [
    "## Example 6.8 , page : 124  "
   ]
  },
  {
   "cell_type": "code",
   "execution_count": 8,
   "metadata": {
    "collapsed": false
   },
   "outputs": [
    {
     "name": "stdout",
     "output_type": "stream",
     "text": [
      "The maximum compression of spring = 2.0 m\n"
     ]
    }
   ],
   "source": [
    "# Importing module\n",
    "\n",
    "import math\n",
    "\n",
    "# Variable declaration\n",
    "\n",
    "m=1000                   # Mass of the car in kg\n",
    "v=18                     # Speed of the car in km/h\n",
    "k=6.25*10**3             # Spring constant in N/m\n",
    "\n",
    "# Calculation\n",
    "\n",
    "v=v*(5/18)               # Speed of the car in m/s\n",
    "KE=m*v**2/2              # Kinetic energy of the car\n",
    "# At maximum compression Xm, the potential energy V of the spring is equal to the kinetic energy KE of the moving car from the principle of conservation of mechanical energy.\n",
    "Xm=math.sqrt((2*KE)/k)\n",
    "\n",
    "# Result\n",
    "\n",
    "print(\"The maximum compression of spring =\",Xm,\"m\")\n"
   ]
  },
  {
   "cell_type": "markdown",
   "metadata": {},
   "source": [
    "## Example 6.9 , page : 125  "
   ]
  },
  {
   "cell_type": "code",
   "execution_count": 9,
   "metadata": {
    "collapsed": false
   },
   "outputs": [
    {
     "name": "stdout",
     "output_type": "stream",
     "text": [
      "The  maximum compression of the spring = 1.03 m\n"
     ]
    }
   ],
   "source": [
    "# Importing module\n",
    "\n",
    "import math\n",
    "\n",
    "# Variable declaration\n",
    "\n",
    "m=1000                   # Mass of the car in kg\n",
    "µ=0.5                    # The coefficient of friction \n",
    "g=10                     # Acceleration due to gravity\n",
    "k=6.25*10**3             # Spring constant in N/m\n",
    "v=18                     # Speed of the car in km/h\n",
    "\n",
    "# Calculation\n",
    "\n",
    "v=v*(5/18)               # Speed of the car in m/s\n",
    "# In presence of friction, both the spring force and the frictional force act so as to oppose the compression of the spring \n",
    "# The change in kinetic energy is ∆K = K_f - K_i = 0 -(1/2)mv² ..........eqn 1\n",
    "# The work done by the net force is W = (1/2)mv² + µmgX_m   .............eqn 2\n",
    "# by equating the above two equations and rearranging  we obtain the following quadratic equation in the unknown X_m as \n",
    "# kX²_m + 2µmgX_m + mv² = 0\n",
    "t1=((-2*µ*m*g)+math.sqrt(abs(((2*µ*m*g)**2)-(4*k*m*v**2))))/(2*k)\n",
    "t2=((-2*µ*m*g)-math.sqrt(abs(((2*µ*m*g)**2)-(4*k*m*v**2))))/(2*k)\n",
    "X_m=max(t1,t2)\n",
    "\n",
    "# Result\n",
    "\n",
    "print(\"The  maximum compression of the spring =\",round(X_m,2),\"m\")\n"
   ]
  },
  {
   "cell_type": "markdown",
   "metadata": {},
   "source": [
    "## Example 6.10 , page : 127  "
   ]
  },
  {
   "cell_type": "code",
   "execution_count": 10,
   "metadata": {
    "collapsed": false
   },
   "outputs": [
    {
     "name": "stdout",
     "output_type": "stream",
     "text": [
      "Energy required to break one bond of DNA in eV = 6.25 ≈ 0.06 eV\n",
      "The kinetic energy of an air molecule in eV = 62.5 ≈ 0.0062 eV\n",
      "The average human consumption in a day in kcal = 2380.9523809523807 ≈ 2400 kcal\n"
     ]
    }
   ],
   "source": [
    "# Importing module\n",
    "\n",
    "import math\n",
    "\n",
    "# Variable declaration\n",
    "\n",
    "E=pow(10,20)             # Energy required to break one bond of DNA in J\n",
    "KE=pow(10,21)            # The kinetic energy of an air molecule in J\n",
    "Con=pow(10,7)            # The average human consumption in a day in J\n",
    " \n",
    "# Calculation\n",
    "#(a)\n",
    "E=(10**20)/(1.6*10**19 )     # Energy required to break one bond of DNA in eV\n",
    "#(b)        \n",
    "KE=(10**21)/(1.6*10**19)     # The kinetic energy of an air molecule in eV\n",
    "#(c)        \n",
    "consum=(10**7)/(4.2*10**3)   # The average human consumption in a day in kcal\n",
    "\n",
    "# Result\n",
    "\n",
    "print(\"(a) Energy required to break one bond of DNA in eV =\",E,\"≈ 0.06 eV\")\n",
    "print(\"(b) The kinetic energy of an air molecule in eV =\",KE,\"≈ 0.0062 eV\")\n",
    "print(\"(c) The average human consumption in a day in kcal =\",consum,\"≈ 2400 kcal\")\n",
    "         "
   ]
  },
  {
   "cell_type": "markdown",
   "metadata": {},
   "source": [
    "## Example 6.11 , page : 128  "
   ]
  },
  {
   "cell_type": "code",
   "execution_count": 11,
   "metadata": {
    "collapsed": false
   },
   "outputs": [
    {
     "name": "stdout",
     "output_type": "stream",
     "text": [
      "The minimum power delivered by the motor to the elevator in watts = 44000 watts\n",
      "The minimum power delivered by the motor to the elevator in hp = 59.0 hp\n"
     ]
    }
   ],
   "source": [
    "# Importing module\n",
    "\n",
    "import math\n",
    "\n",
    "# Variable declaration\n",
    "\n",
    "m=1800                   # Maximum load the elevator can carry in kg\n",
    "F_f=4000                 # Frictional force appearing in N\n",
    "v=2                      # Speed of the elevator in m/s\n",
    "g=10                     # Acceleration due to gravity\n",
    "\n",
    "# Calculation\n",
    "\n",
    "F=m*g+F_f                # The downward force on the elevator in N\n",
    "P=F*v\n",
    "# Since, 1 hp = 7.457*10**2 W\n",
    "P_hp=P/(7.457*10**2)\n",
    "\n",
    "# Result\n",
    "\n",
    "print(\"The minimum power delivered by the motor to the elevator in watts =\",P,\"watts\")\n",
    "print(\"The minimum power delivered by the motor to the elevator in hp =\",round(P_hp,2),\"hp\")\n"
   ]
  },
  {
   "cell_type": "markdown",
   "metadata": {},
   "source": [
    "## Example 6.12 , page : 130  "
   ]
  },
  {
   "cell_type": "code",
   "execution_count": 12,
   "metadata": {
    "collapsed": false
   },
   "outputs": [
    {
     "name": "stdout",
     "output_type": "stream",
     "text": [
      "For deuterium the fractional kinetic energy lost is = 0.1111111111111111\n",
      "For deuterium the fractional kinetic energy gained by the moderating nuclei = 0.8888888888888888\n",
      "Hence we conclude that almost 90% of the neutron’s energy is transferred to deuterium.\n"
     ]
    }
   ],
   "source": [
    "# Importing module\n",
    "\n",
    "import math\n",
    "\n",
    "# Calculation\n",
    "\n",
    "# The initial kinetic energy of the neutron is  K_1i = (1/2)*m1V²_1i\n",
    "# Its final kinetic energy is given by, K_1f = (1/2)*m1V²_1f =(1/2)*m1*(m1-m2/m1+m2)²*V²_1f\n",
    "# The fractional kinetic energy lost is  f1 = K_1f/K_1i = (m1-m2/m1+m2)²\n",
    "# The fractional kinetic energy gained by the moderating nuclei is f2 = 1-f1 = (4*m1*m2)/(m1+m2)²\n",
    "# For deuterium m2 = 2m1 \n",
    "m1=1\n",
    "m2=2*m1\n",
    "f1=((m1-m2)/(m1+m2))**2\n",
    "f2 = 1-f1\n",
    "\n",
    "# Result\n",
    "\n",
    "print(\"For deuterium the fractional kinetic energy lost is =\",f1)\n",
    "print(\"For deuterium the fractional kinetic energy gained by the moderating nuclei =\",f2)\n",
    "print(\"Hence we conclude that almost 90% of the neutron’s energy is transferred to deuterium.\")\n"
   ]
  },
  {
   "cell_type": "markdown",
   "metadata": {},
   "source": [
    "## Example 6.13 , page : 131  "
   ]
  },
  {
   "cell_type": "code",
   "execution_count": 13,
   "metadata": {
    "collapsed": false
   },
   "outputs": [
    {
     "name": "stdout",
     "output_type": "stream",
     "text": [
      "The angle at which the player has to strike the cue = 53.0 °\n"
     ]
    }
   ],
   "source": [
    "# Importing module\n",
    "\n",
    "import math\n",
    "\n",
    "# Variable declaration\n",
    "\n",
    "θ=37                     # The angle of the corner pocket in degreeac\n",
    "\n",
    "# Calculation\n",
    "\n",
    "# Here m1 = m2, where m1 is the mass of the cue and m2 is the mass of the target\n",
    "# From momentum conservation, since the masses are equal ; V_1i = V_1f + V_2f\n",
    "# Or   V_1f² = V_2f² + 2*V_1f*V_2f\n",
    "# Since the collision is elastic and m1 = m2 it follows from conservation of kinetic energy that V_1i² = V_1f² + V_2f²\n",
    "# Hence we get,   cos(θ1+θ) = 0\n",
    "θ1=math.degrees(math.acos(0))- θ\n",
    "\n",
    "# Result\n",
    "\n",
    "print(\"The angle at which the player has to strike the cue =\",θ1,\"°\")\n"
   ]
  }
 ],
 "metadata": {
  "kernelspec": {
   "display_name": "Python 3",
   "language": "python",
   "name": "python3"
  },
  "language_info": {
   "codemirror_mode": {
    "name": "ipython",
    "version": 3
   },
   "file_extension": ".py",
   "mimetype": "text/x-python",
   "name": "python",
   "nbconvert_exporter": "python",
   "pygments_lexer": "ipython3",
   "version": "3.4.3"
  }
 },
 "nbformat": 4,
 "nbformat_minor": 0
}
