{
 "metadata": {
  "name": "",
  "signature": "sha256:48e2a30220ca8f0e5ace71d8aaa9abff99fd46fdaaae4dbc00c0c67cefe15ce3"
 },
 "nbformat": 3,
 "nbformat_minor": 0,
 "worksheets": [
  {
   "cells": [
    {
     "cell_type": "heading",
     "level": 1,
     "metadata": {},
     "source": [
      "CHAPTER 17 - AC COMMUTATOR MOTORS"
     ]
    },
    {
     "cell_type": "heading",
     "level": 2,
     "metadata": {},
     "source": [
      "Example E1 - Pg 393"
     ]
    },
    {
     "cell_type": "code",
     "collapsed": false,
     "input": [
      "#Caption:Find (a)Speed (b)Power factor of motor\n",
      "#Exa:17.1\n",
      "import math\n",
      "r=25.#Resistance of motor(in ohms)\n",
      "P=2.#Number of poles\n",
      "l=0.4#Inductance of motor(in henry)\n",
      "n=1800.#Speed of motor(in r.p.m)\n",
      "V=230.#Voltage supplied(in volts)\n",
      "Il=1.#Load current(in A)\n",
      "f=50.#Frequency(in hertz)\n",
      "fr=(P*n)/120.\n",
      "Eb=V-(r*Il)\n",
      "Er=Eb/fr\n",
      "fac=(math.sqrt((V**2.)-((Il*2.*(math.pi)*f*l)**2.))-(Il*r))/Er\n",
      "n=fac*(120./P)\n",
      "print '%s %.f' %('(a)Speed(in rpm)=',n)\n",
      "pf=math.sqrt((V**2.)-((Il*2.*(math.pi)*f*l)**2.))/V\n",
      "print '%s %.2f' %('(b)Power factor=',pf)"
     ],
     "language": "python",
     "metadata": {},
     "outputs": [
      {
       "output_type": "stream",
       "stream": "stdout",
       "text": [
        "(a)Speed(in rpm)= 1472\n",
        "(b)Power factor= 0.84\n"
       ]
      }
     ],
     "prompt_number": 1
    }
   ],
   "metadata": {}
  }
 ]
}