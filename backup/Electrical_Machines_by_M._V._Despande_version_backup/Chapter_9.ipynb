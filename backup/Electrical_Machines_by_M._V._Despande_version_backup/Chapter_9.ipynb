{
 "metadata": {
  "name": "",
  "signature": "sha256:be9aefa42ea24d22209fa6e445a45f49fdad11d5bccd40a3dc326a3a8a516f5d"
 },
 "nbformat": 3,
 "nbformat_minor": 0,
 "worksheets": [
  {
   "cells": [
    {
     "cell_type": "heading",
     "level": 1,
     "metadata": {},
     "source": [
      "CHAPTER 9 - ELEMENTS OF DC MACHINE DESIGN "
     ]
    },
    {
     "cell_type": "heading",
     "level": 2,
     "metadata": {},
     "source": [
      "Example E1 - Pg 195"
     ]
    },
    {
     "cell_type": "code",
     "collapsed": false,
     "input": [
      "#Caption:Find the dimensions of D and L\n",
      "#Exa:9.1\n",
      "import math\n",
      "P=15000.#Power of shunt motor(in watt)\n",
      "V=440.#Supplied voltage to motor(in volts)\n",
      "n=1500.#Speed of motor(in r.p.m)\n",
      "e=88.#Efficiency(in %)\n",
      "B=0.65#Average flux density(in webers/m**2)\n",
      "q=30000.#Specific electric loading(ampere conductors/m)\n",
      "p=4.#Number of poles\n",
      "R_f=220.#Field resistance(in ohms)\n",
      "P_i=P/(e/100.)\n",
      "I=P_i/V\n",
      "I_f=V/R_f\n",
      "D=170.#Choosing the diameter(in mm)\n",
      "L=(P_i)/((math.pi**2.)*((D**2.)*(10.**(-6.)))*B*q*(n/60.)*(10.**(-3.)))\n",
      "print '%s %.1f' %('Required dimensions of L (min)=',L)\n",
      "print '%s %.f' %('                       D(in mm)=',D)"
     ],
     "language": "python",
     "metadata": {},
     "outputs": [
      {
       "output_type": "stream",
       "stream": "stdout",
       "text": [
        "Required dimensions of L (min)= 122.6\n",
        "                       D(in mm)= 170\n"
       ]
      }
     ],
     "prompt_number": 1
    },
    {
     "cell_type": "heading",
     "level": 2,
     "metadata": {},
     "source": [
      "Example E2 - Pg 198"
     ]
    },
    {
     "cell_type": "code",
     "collapsed": false,
     "input": [
      "#Caption: Find values of the 5 steps in a 6 stud starter for a d.c. shunt motor\n",
      "#Exa:9.2\n",
      "P_o=3730.#Output power(in watt)\n",
      "V=200.#Voltage supplied to motor(in volts)\n",
      "e=88.#Efficiency(in%)\n",
      "P_i=P_o/(e/100.)\n",
      "I=P_i/V#Full load current\n",
      "I_a=I#Neglecting field current\n",
      "L=P_i-P_o\n",
      "Cu=(1./2.)*L#Copper loss is half the total loss(Given)\n",
      "R_a=Cu/(I**2.)\n",
      "I_m=(2.*I)#Maximum current is twice full load current(Given)\n",
      "R_1=V/I_m\n",
      "g=(R_1/R_a)**(1./5.)\n",
      "R_2=R_1/g\n",
      "r1=R_1-R_2\n",
      "R_3=R_2/g\n",
      "r2=R_2-R_3\n",
      "R_4=R_3/g\n",
      "r3=R_3-R_4\n",
      "R_5=R_4/g\n",
      "r4=R_4-R_5\n",
      "R_6=R_5/g\n",
      "r5=R_5-R_6\n",
      "print '%s %.2f' %('Required resistances r1 (ohms)=',r1)\n",
      "print '%s %.2f' %('                     r2 (ohms)=',r2)\n",
      "print '%s %.2f' %('                     r3 (ohms)=',r3)\n",
      "print '%s %.2f' %('                     r4 (ohms)=',r4)\n",
      "print '%s %.2f' %('                     r5 (ohms)=',r5)\n",
      "print '%s %.2f' %('                     R_a (ohms)=',R_a)\n"
     ],
     "language": "python",
     "metadata": {},
     "outputs": [
      {
       "output_type": "stream",
       "stream": "stdout",
       "text": [
        "Required resistances r1 (ohms)= 1.63\n",
        "                     r2 (ohms)= 1.07\n",
        "                     r3 (ohms)= 0.70\n",
        "                     r4 (ohms)= 0.46\n",
        "                     r5 (ohms)= 0.30\n",
        "                     R_a (ohms)= 0.57\n"
       ]
      }
     ],
     "prompt_number": 2
    }
   ],
   "metadata": {}
  }
 ]
}