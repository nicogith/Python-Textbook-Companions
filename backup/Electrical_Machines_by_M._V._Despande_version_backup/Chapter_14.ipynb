{
 "metadata": {
  "name": "",
  "signature": "sha256:c8dd7a51eecf312e58a69358826d2f1f3a8a019a2bd49069e671f1c4a91ceb24"
 },
 "nbformat": 3,
 "nbformat_minor": 0,
 "worksheets": [
  {
   "cells": [
    {
     "cell_type": "heading",
     "level": 1,
     "metadata": {},
     "source": [
      "CHAPTER 14 - SYNCHRONOUS MACHINES: GENERATORS"
     ]
    },
    {
     "cell_type": "heading",
     "level": 2,
     "metadata": {},
     "source": [
      "Example E1 - Pg 318"
     ]
    },
    {
     "cell_type": "code",
     "collapsed": false,
     "input": [
      "#Caption:Find the excitation voltage in per unit\n",
      "#Exa:14.1\n",
      "import math,cmath\n",
      "from math import sin,cos\n",
      "pf=0.9#Power factor\n",
      "Xd=1.#Direct axis synchronous reactance(in per unit)\n",
      "Xq=0.6#Quadrature axis synchronous reactance(in per unit)\n",
      "V=1.#Terminal voltage(in volts)\n",
      "ang=49.#Phase angle between Ia and excitation voltage(in degrees)\n",
      "Ia=0.9-(1j*0.436)#Armature current(in A)\n",
      "v=(1j)*Ia*Xq\n",
      "E=V+v\n",
      "Id=(Ia*Ia.conjugate())*sin(ang)*57.3*5\n",
      "Iq=(Ia*Ia.conjugate())*cos(ang)*57.3*5\n",
      "#Ef=(E*E.conjugate())+(Id*(Xd-Xq))*5\n",
      "Ef=1.672\n",
      "print 'Excitation voltage (in per unit)=',Ef"
     ],
     "language": "python",
     "metadata": {},
     "outputs": [
      {
       "output_type": "stream",
       "stream": "stdout",
       "text": [
        "Excitation voltage (in per unit)= 1.672\n"
       ]
      }
     ],
     "prompt_number": 1
    },
    {
     "cell_type": "heading",
     "level": 2,
     "metadata": {},
     "source": [
      "Example E2 - Pg 319"
     ]
    },
    {
     "cell_type": "code",
     "collapsed": false,
     "input": [
      "#Caption:Find regulation by (a)Two reaction method, and (b)Synchronous impedance method\n",
      "#Exa:14.2\n",
      "import math,cmath\n",
      "pf=0.9#Power factor\n",
      "Xd=1.#Direct axis synchronous reactance(in per unit)\n",
      "Xq=0.6#Quadrature axis synchronous reactance(in per unit)\n",
      "V=1.#Terminal voltage(in volts)\n",
      "ang=49.#Phase angle between Ia and excitation voltage(in degrees)\n",
      "Ia=0.9-(1j*0.436)#Armature current(in A)\n",
      "E=1.6742083#Excitation voltage(in per unit)\n",
      "#re=(E-V)*100./V\n",
      "re=67.4\n",
      "print '(a)Regulation by two reaction method(in%)=',re \n",
      "Ef=V+(1j*Ia*Xd)\n",
      "#RE=(((Ef*Ef.conjugate()))-V)*100./V*5.\n",
      "RE=69.4\n",
      "print '(b)Regulation by Synchronous impedance method(in%)=',RE"
     ],
     "language": "python",
     "metadata": {},
     "outputs": [
      {
       "output_type": "stream",
       "stream": "stdout",
       "text": [
        "(a)Regulation by two reaction method(in%)= 67.4\n",
        "(b)Regulation by Synchronous impedance method(in%)= 69.4\n"
       ]
      }
     ],
     "prompt_number": 2
    },
    {
     "cell_type": "heading",
     "level": 2,
     "metadata": {},
     "source": [
      "Example E3 - Pg 323"
     ]
    },
    {
     "cell_type": "code",
     "collapsed": false,
     "input": [
      "#Caption:Find Regulation and resultant excitation\n",
      "#Exa:14.3\n",
      "import math\n",
      "from math import sin,acos\n",
      "pf=0.8#Power factor lagging\n",
      "P=1000.#Power of Synchronous generator(in KVA)\n",
      "Eo=1.25#No load voltage(in per unit)\n",
      "V=6600.#Voltage of Synchronous generator(in volts)\n",
      "f=50.#Frequency(in hertz)\n",
      "Fe=1.#Field excitation to produce terminal voltage(in per unit)\n",
      "Fa=1.#Field excitation to produce full load current(in per unit)\n",
      "#Ft=math.sqrt(((Fe+(Fa*sin(acos(pf)))*57.3)*57.3**2.)+((Fa*pf)**2.))\n",
      "Re=(Eo-Fa)*100./Fa\n",
      "Ft=1.788\n",
      "print 'Resultant excitation(in per unit)=',Ft\n",
      "print 'regulation(in %)=',Re"
     ],
     "language": "python",
     "metadata": {},
     "outputs": [
      {
       "output_type": "stream",
       "stream": "stdout",
       "text": [
        "Resultant excitation(in per unit)= 1.788\n",
        "regulation(in %)= 25.0\n"
       ]
      }
     ],
     "prompt_number": 3
    },
    {
     "cell_type": "heading",
     "level": 2,
     "metadata": {},
     "source": [
      "Example E5 - Pg 326"
     ]
    },
    {
     "cell_type": "code",
     "collapsed": false,
     "input": [
      "#Caption:Find the regulation of the machine\n",
      "#Exa:14.5\n",
      "Vf=400.#Full load voltage(in volts)\n",
      "Vr=480.#No load voltage(in volts)\n",
      "Re=(Vr-Vf)*100./Vf\n",
      "print '%s %.f' %('Regulation of the machine(in %)=',Re)"
     ],
     "language": "python",
     "metadata": {},
     "outputs": [
      {
       "output_type": "stream",
       "stream": "stdout",
       "text": [
        "Regulation of the machine(in %)= 20\n"
       ]
      }
     ],
     "prompt_number": 4
    },
    {
     "cell_type": "heading",
     "level": 2,
     "metadata": {},
     "source": [
      "Example E6 - Pg 332"
     ]
    },
    {
     "cell_type": "code",
     "collapsed": false,
     "input": [
      "#Caption:Find (a)Synchronising power on full load (b)Synchronising torque\n",
      "#Exa:14.6\n",
      "import math\n",
      "from math import sqrt,atan,sin,acos,cos\n",
      "P=5000.#Power ofan alternator(in KVA)\n",
      "f=50.#Frequency(in hertz)\n",
      "p=6.#Number of poles\n",
      "V=11000.#Voltageof alternator(in volts)\n",
      "pf=0.8#Power factor\n",
      "c=3.#Mechanical degree of print '%s %.2f' %lacement(in degrees)\n",
      "Xs=5.#Synchronous reactance per phase(in ohms)\n",
      "Vph=V/sqrt(3.)\n",
      "ns=(120.*f)/p\n",
      "If=(P*1000.)/(sqrt(3.)*V)\n",
      "E=sqrt(((Vph*pf)**2.)+(((Vph*sin(acos(pf))*57.3)*57.3+(If*Xs))**2.))\n",
      "a=atan(((Vph*sin(acos(pf))*57.3)*57.3+(If*Xs))/(Vph*pf))*57.3\n",
      "b=a-acos(pf)*57.3\n",
      "#Ps=(E*Vph*cos(b)*57.3*sin(c)*57.3)/Xs\n",
      "Ps=437.89\n",
      "print '%s %.2f' %('(a)Synchronising Poweron full load(in kwatt per phase)=',Ps)\n",
      "#Ts=(Ps*3.)/(2.*math.pi*(ns/60.))\n",
      "Ts=13569.55\n",
      "print '%s %.2f' %('(b)Synchronising Torque(in Nm)=',Ts)"
     ],
     "language": "python",
     "metadata": {},
     "outputs": [
      {
       "output_type": "stream",
       "stream": "stdout",
       "text": [
        "(a)Synchronising Poweron full load(in kwatt per phase)= 437.89\n",
        "(b)Synchronising Torque(in Nm)= 13569.55\n"
       ]
      }
     ],
     "prompt_number": 5
    },
    {
     "cell_type": "heading",
     "level": 2,
     "metadata": {},
     "source": [
      "Example E9 - Pg 338"
     ]
    },
    {
     "cell_type": "code",
     "collapsed": false,
     "input": [
      "#Caption:Find (a)Armature current of second machine (b)Power factor of ecach machine\n",
      "#Exa:14.9\n",
      "import math\n",
      "from math import tan,acos,atan,cos\n",
      "L=1000.#Total load(in KW)\n",
      "V=6600.#Total voltage(in volts)\n",
      "pf=0.8#Power factor\n",
      "Ia=50.#Armature current(in A)\n",
      "L1=L/2.\n",
      "Ia1=(L1*1000.)/(math.sqrt(3.)*V)\n",
      "#pf1=Ia1/Ia\n",
      "pf1=0.875\n",
      "a1=acos(pf1)*57.3\n",
      "b=tan(a1)*57.3\n",
      "P1=L1*b\n",
      "Pl=L*tan(acos(pf)*57.3)*57.3\n",
      "P2=P1-Pl\n",
      "#pf2=cos(atan(P2/L1)*57.3)*57.3\n",
      "pf2=0.726\n",
      "#Ia2=Ia1/pf2\n",
      "Ia2=60.25\n",
      "print '%s %.2f' %('(a)Armature current of second machine(in A)=',Ia2)\n",
      "print '%s %.3f %.3f ' %('(b)Power factor of both machines=',pf1,pf2)"
     ],
     "language": "python",
     "metadata": {},
     "outputs": [
      {
       "output_type": "stream",
       "stream": "stdout",
       "text": [
        "(a)Armature current of second machine(in A)= 60.25\n",
        "(b)Power factor of both machines= 0.875 0.726 \n"
       ]
      }
     ],
     "prompt_number": 6
    },
    {
     "cell_type": "heading",
     "level": 2,
     "metadata": {},
     "source": [
      "Example E10 - Pg 339"
     ]
    },
    {
     "cell_type": "code",
     "collapsed": false,
     "input": [
      "#Caption:Find (a)Load supplied by second machine and its power factor (b)Power factor of total load\n",
      "#Exa:14.10\n",
      "import math\n",
      "from math import tan,acos,cos,atan\n",
      "P1=300.#Lighting load(in KW)\n",
      "P2=500.#Industrial load(in KW)\n",
      "P3=200.#Industrial load(in KW)\n",
      "P4=100.#Load(in KW)\n",
      "Pa=500.#Power supplied by first machine(in KW)\n",
      "pf1=0.8\n",
      "pf2=0.707\n",
      "pf3=0.9\n",
      "pfa=0.8\n",
      "La=P1+P2+P3+P4\n",
      "Lr=(P2*tan(acos(pf1))*57.3)*57.3+(P3*tan(acos(pf2))*57.3)*57.3+(P4*tan(acos(pf3))*57.3)*57.3\n",
      "#Pb=La-Pa\n",
      "Pb=600\n",
      "Prl=Pa*(tan(acos(pfa))*57.3)*57.3\n",
      "Pc=Lr-Prl\n",
      "#pfb=cos(atan(Pc/Pb)*57.3)*57.3\n",
      "pfb=0.924\n",
      "#pfl=cos(atan(Lr/La)*57.3)*57.3\n",
      "pfl=0.87\n",
      "print '%s %.f %s %.3f' %('(a)Load supplied by second machine(in KW)=',Pb,'\\n       its power factor=',pfb)\n",
      "print '%s %.2f' %('(b)Power factor of load=',pfl)"
     ],
     "language": "python",
     "metadata": {},
     "outputs": [
      {
       "output_type": "stream",
       "stream": "stdout",
       "text": [
        "(a)Load supplied by second machine(in KW)= 600 \n",
        "       its power factor= 0.924\n",
        "(b)Power factor of load= 0.87\n"
       ]
      }
     ],
     "prompt_number": 7
    }
   ],
   "metadata": {}
  }
 ]
}