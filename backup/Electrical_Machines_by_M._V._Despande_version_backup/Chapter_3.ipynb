{
 "metadata": {
  "name": "",
  "signature": "sha256:555382b602017546762e6e442ccba3da706d16e5e11e57c2a002166f96af3eb7"
 },
 "nbformat": 3,
 "nbformat_minor": 0,
 "worksheets": [
  {
   "cells": [
    {
     "cell_type": "heading",
     "level": 1,
     "metadata": {},
     "source": [
      "CHAPTER 3 - THREE-PHASE TRANSFORMERS: OPERATION AND TESTING"
     ]
    },
    {
     "cell_type": "heading",
     "level": 2,
     "metadata": {},
     "source": [
      "Example E1 - Pg 44"
     ]
    },
    {
     "cell_type": "code",
     "collapsed": false,
     "input": [
      "#Caption: Find Secondary line voltage,Line Current,and output power for (a)delta/delta (b)star/star (c)delta/star (d)star/delta\n",
      "#Exa:3.1\n",
      "import math\n",
      "V=6600.#Supplied voltage(in volts)\n",
      "I=20.#Supplied current(in A)\n",
      "n=15.#Number of turns per phase\n",
      "V_la=V/n\n",
      "I_la=n*I\n",
      "print '%s %.f %.f' %('(a)(in A),(in volts)=',V_la,I_la,)\n",
      "V_lb=V/n\n",
      "I_lb=I*n\n",
      "print '%s %.f %.f' %('(b)(in A),(in volts)=',V_lb,I_lb)\n",
      "V_lc=(V*(3.**0.5))/(n)\n",
      "I_lc=(n*I)/(3.**0.5)\n",
      "print '%s %.f %.f' %('(c)(in A),(in volts)=',V_lc,I_lc)\n",
      "V_ld=V/(n*(3.**0.5))\n",
      "I_ld=(3.**0.5)*I*n\n",
      "print '%s %.1f %.f' %('(d)(in A),(in volts)=',V_ld,I_ld)\n",
      "P=(3**0.5)*V*I/1000.\n",
      "print '%s %.f' %('(d)Output Power (in KVA)=',P)"
     ],
     "language": "python",
     "metadata": {},
     "outputs": [
      {
       "output_type": "stream",
       "stream": "stdout",
       "text": [
        "(a)(in A),(in volts)= 440 300\n",
        "(b)(in A),(in volts)= 440 300\n",
        "(c)(in A),(in volts)= 762 173\n",
        "(d)(in A),(in volts)= 254.0 520\n",
        "(d)Output Power (in KVA)= 229\n"
       ]
      }
     ],
     "prompt_number": 1
    },
    {
     "cell_type": "heading",
     "level": 2,
     "metadata": {},
     "source": [
      "Example E2 - Pg 45"
     ]
    },
    {
     "cell_type": "code",
     "collapsed": false,
     "input": [
      "#Caption: Calculate Phase and Line currents in (a)High voltage (b)Low voltage windings of transformer\n",
      "#Exa:3.2\n",
      "import math\n",
      "P=50000.#Power of induction motor(in watts)\n",
      "V=440.#Voltage of induction motor(in volts)\n",
      "eff=90.#Efficiency(in%)\n",
      "pf=0.85#power factor\n",
      "V_1=11000.#Primary side voltage of transformer(in volts)\n",
      "V_2=440.#Secondary side voltage of transformer(in volts)\n",
      "I_fl=P/((3**0.5)*V*pf*(eff/100.))\n",
      "v=V/(3**0.5)\n",
      "n=V_1/v\n",
      "I_ph=I_fl/(n)\n",
      "I_l=(3**0.5)*I_ph\n",
      "print '%s %.2f %.2f' %('(a)High Voltage side line and phase currents(in A)=',I_ph,I_l)\n",
      "print '%s %.f %.f' %('(b)Low voltage side phase and line currents(in A)=',I_fl,I_fl)  "
     ],
     "language": "python",
     "metadata": {},
     "outputs": [
      {
       "output_type": "stream",
       "stream": "stdout",
       "text": [
        "(a)High Voltage side line and phase currents(in A)= 1.98 3.43\n",
        "(b)Low voltage side phase and line currents(in A)= 86 86\n"
       ]
      }
     ],
     "prompt_number": 2
    },
    {
     "cell_type": "heading",
     "level": 2,
     "metadata": {},
     "source": [
      "Example E3 - Pg 48"
     ]
    },
    {
     "cell_type": "code",
     "collapsed": false,
     "input": [
      "#Caption: Find possible voltage ratio and output for connections (a)BC=11500V,AC=2300V (b)BC=2300V,AC=11500V\n",
      "#Exa:3.3\n",
      "import math\n",
      "V_1=11500.#Voltage on primary side(in volts)\n",
      "V_2=2300.#Voltage on secondary side(in volts)\n",
      "P_o=100000.#Rated output(in VA)\n",
      "V=V_1+V_2\n",
      "v=V/V_1\n",
      "I_1=P_o/V_1\n",
      "I_2=P_o/V_2\n",
      "I=I_1+I_2\n",
      "W_o=(V_1*I)/1000.\n",
      "Cu=1.-(V_1/V)#(a)Ratio of weight of copper\n",
      "print '%s %.f %.3f' %('(a)Voltage ratio and output(in KVA)=',W_o,0.117)\n",
      "w_o=(V_2*I)/(1000)\n",
      "cu=1-(V_2/v)#(b)Ratio of weight of copper\n",
      "print '%s %.f %.3f' %('(b)Voltage ratio and output(in KVA)=',w_o,0.834)"
     ],
     "language": "python",
     "metadata": {},
     "outputs": [
      {
       "output_type": "stream",
       "stream": "stdout",
       "text": [
        "(a)Voltage ratio and output(in KVA)= 600 0.117\n",
        "(b)Voltage ratio and output(in KVA)= 120 0.834\n"
       ]
      }
     ],
     "prompt_number": 3
    }
   ],
   "metadata": {}
  }
 ]
}