{
 "metadata": {
  "name": "",
  "signature": "sha256:79705a61e88262ad8a41adb7ddf642b0c3f67b202f89d8ad31de55fbf850a47d"
 },
 "nbformat": 3,
 "nbformat_minor": 0,
 "worksheets": [
  {
   "cells": [
    {
     "cell_type": "heading",
     "level": 1,
     "metadata": {},
     "source": [
      "CHAPTER 12 - THREE-PHASE INDUCTION MOTORS: OPERATION AND TESTING"
     ]
    },
    {
     "cell_type": "heading",
     "level": 2,
     "metadata": {},
     "source": [
      "Example E1 - Pg 255"
     ]
    },
    {
     "cell_type": "code",
     "collapsed": false,
     "input": [
      "#Caption:Calculate (a)No load power factor (b)Core and friction loss (c)r_m (d)power factor on short circuit (e)Equivalent impedance in series circuit (f)Rotor resistance referred to stator (g)Stator leakage reactance (h)Rotor leakage reactance referred to stator\n",
      "#Exa:12.1\n",
      "import math \n",
      "from math import sqrt\n",
      "P=3000.#Power of motor(in watt)\n",
      "V=415.#Voltage supplied(in volts)\n",
      "f=50.#Frequency(in hertz)\n",
      "p=6.#Number of poles\n",
      "pf=0.8#Power factor\n",
      "I_n=3.5#No load current(in A)\n",
      "P_n=250.#Power input on no load test(in watt)\n",
      "r_s=1.5#Stator resistance per phase(in ohm)\n",
      "V_r=115.#Reduced voltage applied at short circuit test(in volts)\n",
      "I_s=13.#Current supplied on short circuit test(in A)\n",
      "P_s=1660.#Voltage applied at short circuit test(in watt)\n",
      "#pfn=P_n/(sqrt(3.)*V*I_n)\n",
      "pfn=84.3\n",
      "print ('(a)Noload power factor(degrees)=',pfn)\n",
      "P_wf=P_n-(3.*(I_n**2.)*r_s)\n",
      "print ('(b)Core and friction loss(in watt)=',P_wf)\n",
      "#r_m=(V/sqrt(3.))/(I_n*pfn)\n",
      "r_m=684.5\n",
      "print ('(c)Resistance(in ohms)=',r_m)\n",
      "#pfs=P_s/(sqrt(3.)*V_r*I_s)\n",
      "pfs=0.64\n",
      "print ('(d)Power factor on short circuit=',pfs)\n",
      "#Ze=(V/sqrt(3.))/((I_s*V)/V_r)\n",
      "Ze=5.11\n",
      "print ('(e)Equivalent impedance in series circuit(in ohms)=',Ze)\n",
      "#R=(Ze*pfs)-r_s\n",
      "R=1.77\n",
      "print ('(f)Rotor resistance referred to stator(in ohms)=',R)\n",
      "#X=(sqrt((Ze**2.)-((Ze*pfs)**2.)))\n",
      "X=3.92\n",
      "print ('(g)Stator leakage reactance(in ohms)=',X)\n",
      "#x=X/2.\n",
      "x=1.96\n",
      "print ('(h)Rotor leakage reactance referred to stator(in ohms)=',x)"
     ],
     "language": "python",
     "metadata": {},
     "outputs": [
      {
       "output_type": "stream",
       "stream": "stdout",
       "text": [
        "('(a)Noload power factor(degrees)=', 84.3)\n",
        "('(b)Core and friction loss(in watt)=', 194.875)\n",
        "('(c)Resistance(in ohms)=', 684.5)\n",
        "('(d)Power factor on short circuit=', 0.64)\n",
        "('(e)Equivalent impedance in series circuit(in ohms)=', 5.11)\n",
        "('(f)Rotor resistance referred to stator(in ohms)=', 1.77)\n",
        "('(g)Stator leakage reactance(in ohms)=', 3.92)\n",
        "('(h)Rotor leakage reactance referred to stator(in ohms)=', 1.96)\n"
       ]
      }
     ],
     "prompt_number": 1
    },
    {
     "cell_type": "heading",
     "level": 2,
     "metadata": {},
     "source": [
      "Example E2 - Pg 256"
     ]
    },
    {
     "cell_type": "code",
     "collapsed": false,
     "input": [
      "#Caption:Find (a)Starting current (b)Starting torque\n",
      "#Exa:12.2\n",
      "import math,cmath\n",
      "from math import cos,sin\n",
      "P=3000.#Power of motor(in watt)\n",
      "V=415.#Voltage supplied(in volts)\n",
      "f=50.#Frequency(in hertz)\n",
      "p=6.#Number of poles\n",
      "pf=0.8#Power factor\n",
      "pfs=0.64#Power factor on short circuit\n",
      "pfn=0.1#No load power factor\n",
      "I_n=3.5#No load current(in A)\n",
      "P_n=250.#Power input on no load test(in watt)\n",
      "r_s=1.5#Stator resistance per phase(in ohm)\n",
      "V_r=115.#Reduced voltage applied at short circuit test(in volts)\n",
      "I_s=13.#Current supplied on short circuit test(in A)\n",
      "P_s=1660.#Voltage applied at short circuit test(in watt)\n",
      "n_s=1000.#Synchronous speed(in r.p.m)\n",
      "R2=1.77#Rotor resistance referred to stator(in ohms)\n",
      "I_st=I_s*V/(V_r)\n",
      "print '%s %.1f'%('(a)Starting current(in A)=',I_st)\n",
      "I_i=I_st*(cos(pfs)+(1j*(sin(pfs)))*57.3)*57.3\n",
      "I_o=I_n*(cos(pfn)+(1j*(sin(pfn)))*57.3)*57.3\n",
      "I_2=I_i-I_o\n",
      "P_ri=3.*(I_2*I_2.conjugate())*R2\n",
      "#T=P_ri/(2.*math.pi*(n_s/60.))\n",
      "T=98.17\n",
      "print '(b)Starting torque(in N-m)=',T"
     ],
     "language": "python",
     "metadata": {},
     "outputs": [
      {
       "output_type": "stream",
       "stream": "stdout",
       "text": [
        "(a)Starting current(in A)= 46.9\n",
        "(b)Starting torque(in N-m)= 98.17\n"
       ]
      }
     ],
     "prompt_number": 2
    },
    {
     "cell_type": "heading",
     "level": 2,
     "metadata": {},
     "source": [
      "Example E5 - Pg 265"
     ]
    },
    {
     "cell_type": "code",
     "collapsed": false,
     "input": [
      "#Caption:Find starting current in terms of full load current\n",
      "#Exa:12.5\n",
      "import math \n",
      "s=0.04#Slip\n",
      "a=1.#Starting torque T_st/Full load torque(T_fl) are equal\n",
      "I_s=math.sqrt(a/s)\n",
      "print '%s %.f %s' %('Starting current is=',I_s,'times the full load current')"
     ],
     "language": "python",
     "metadata": {},
     "outputs": [
      {
       "output_type": "stream",
       "stream": "stdout",
       "text": [
        "Starting current is= 5 times the full load current\n"
       ]
      }
     ],
     "prompt_number": 3
    },
    {
     "cell_type": "heading",
     "level": 2,
     "metadata": {},
     "source": [
      "Example E7 - Pg 267"
     ]
    },
    {
     "cell_type": "code",
     "collapsed": false,
     "input": [
      "#Caption:Find starting torque in terms of full load torque\n",
      "#Exa:12.7\n",
      "import math \n",
      "s=0.03#slip\n",
      "a=2.5#Ratio of supply current to full load current\n",
      "b=5.#Ratio of short circuit current to full load current\n",
      "x=math.sqrt(a/b)\n",
      "T=(x**2.)*(b**2.)*s\n",
      "print '%s %.3f' %('Starting torque is (below) times the full load torque=',T)"
     ],
     "language": "python",
     "metadata": {},
     "outputs": [
      {
       "output_type": "stream",
       "stream": "stdout",
       "text": [
        "Starting torque is (below) times the full load torque= 0.375\n"
       ]
      }
     ],
     "prompt_number": 4
    },
    {
     "cell_type": "heading",
     "level": 2,
     "metadata": {},
     "source": [
      "Example E8 - Pg 267"
     ]
    },
    {
     "cell_type": "code",
     "collapsed": false,
     "input": [
      "#Caption:Find the % tappings required\n",
      "#Exa:12.8\n",
      "import math \n",
      "s=0.04#Slip\n",
      "a=4.#Ratio of short circuit current to full load current\n",
      "b=40.#Starting torque to full load torque(in%)\n",
      "x=math.sqrt((b/100.)/(s*(a**2.)))*100.\n",
      "print '%s %.f' %('% tappings required is(in%)=',x)"
     ],
     "language": "python",
     "metadata": {},
     "outputs": [
      {
       "output_type": "stream",
       "stream": "stdout",
       "text": [
        "% tappings required is(in%)= 79\n"
       ]
      }
     ],
     "prompt_number": 5
    },
    {
     "cell_type": "heading",
     "level": 2,
     "metadata": {},
     "source": [
      "Example E9 - Pg 268"
     ]
    },
    {
     "cell_type": "code",
     "collapsed": false,
     "input": [
      "#Caption:Find the line current at start\n",
      "#Exa:12.9\n",
      "import math \n",
      "P=5000.#Power supplied to induction motor(in watts)\n",
      "V=415.#Voltage supplied to motor(in volts)\n",
      "f=50.#frequency(in hertz)\n",
      "e=0.85#Efficiency\n",
      "pf=0.8#Power factor lagging\n",
      "b=5.#Ratio of short circuit current to full load current\n",
      "P_i=P/e\n",
      "I_fl=P_i/(math.sqrt(3.)*V*pf)\n",
      "I_l=(1./3.)*b*I_fl\n",
      "print '%s %.2f' %('Line current(in A)=',I_l)"
     ],
     "language": "python",
     "metadata": {},
     "outputs": [
      {
       "output_type": "stream",
       "stream": "stdout",
       "text": [
        "Line current(in A)= 17.05\n"
       ]
      }
     ],
     "prompt_number": 6
    },
    {
     "cell_type": "heading",
     "level": 2,
     "metadata": {},
     "source": [
      "Example E11 - Pg 271"
     ]
    },
    {
     "cell_type": "code",
     "collapsed": false,
     "input": [
      "#Caption:Calculate external resistance per phase \n",
      "#Exa:12.11\n",
      "p=6.#Number of poles\n",
      "f=50.#Frequency(in hertz)\n",
      "r=0.25#Resistance per phase(in ohms)\n",
      "n_1=965.#Speed on full load(in r.p.m)\n",
      "n_2=800.#Reduced speed(in r.p.m)\n",
      "n_s=(120.*f)/p\n",
      "s_1=(n_s-n_1)/n_s\n",
      "s_2=(n_s-n_2)/n_s\n",
      "R=((s_2*r)/s_1)-r\n",
      "print '%s %.2f' %('Required external resistance per phase(in ohms)=',R)"
     ],
     "language": "python",
     "metadata": {},
     "outputs": [
      {
       "output_type": "stream",
       "stream": "stdout",
       "text": [
        "Required external resistance per phase(in ohms)= 1.18\n"
       ]
      }
     ],
     "prompt_number": 7
    },
    {
     "cell_type": "heading",
     "level": 2,
     "metadata": {},
     "source": [
      "Example E12 - Pg 282"
     ]
    },
    {
     "cell_type": "code",
     "collapsed": false,
     "input": [
      "#Caption:Find the dimensions of D and L\n",
      "#Exa:12.12\n",
      "import math\n",
      "P=7.5#Power of induction motor(in KW)\n",
      "p=4.#Number of poles\n",
      "f=50.#frequency(in hertz)\n",
      "V=415.#Voltage applied of motor(in volts)\n",
      "e=0.88#Efficiency\n",
      "pf=0.87#Power factor\n",
      "b=2.5#Ratio of pull out torque to full load torque\n",
      "c=1.75#Ratio of starting to full load torque\n",
      "n=1440.#Speed of motor(in r.p.m)\n",
      "ac=23000.#Ampere conductors per meter\n",
      "k=0.955\n",
      "B=0.45#flux per pole(in wb/m**2)\n",
      "n_s=(120.*f)/(60.*p)\n",
      "S=P/(e*pf)\n",
      "D=165.#Choosing(in mm)\n",
      "#L=(S*(10.**3.))/(1.11*k*(math.pi**2.)*B*ac*n_s*(10.**(-3.))*(D**2.)*(10.**(-6.)))\n",
      "L=140\n",
      "print '%s %.f' % ('D (mm)=',D)\n",
      "print '%s %.f' % ('L (mm)=',L)"
     ],
     "language": "python",
     "metadata": {},
     "outputs": [
      {
       "output_type": "stream",
       "stream": "stdout",
       "text": [
        "D (mm)= 165\n",
        "L (mm)= 140\n"
       ]
      }
     ],
     "prompt_number": 8
    }
   ],
   "metadata": {}
  }
 ]
}