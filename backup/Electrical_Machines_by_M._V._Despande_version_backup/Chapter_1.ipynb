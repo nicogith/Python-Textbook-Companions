{
 "metadata": {
  "name": "",
  "signature": "sha256:864737033e4858048b12f5380ee773a5abe813ec712aa20dce406f30836cc082"
 },
 "nbformat": 3,
 "nbformat_minor": 0,
 "worksheets": [
  {
   "cells": [
    {
     "cell_type": "heading",
     "level": 1,
     "metadata": {},
     "source": [
      "CHAPTER 1 - SINGLE-PHASE TRANSFORMERS: PRINCIPLE AND CONSTRUCTION"
     ]
    },
    {
     "cell_type": "heading",
     "level": 2,
     "metadata": {},
     "source": [
      "Example E1 - Pg 5"
     ]
    },
    {
     "cell_type": "code",
     "collapsed": false,
     "input": [
      "#Caption:Find the (a) n ratio (b) load current referred to high voltage side (c) load impedance on low voltage side for full load (d) and impedance referred to high voltage side\n",
      "#Exa:1.1\n",
      "import math \n",
      "P_s=25000.#Supplied power (in VA)\n",
      "V_1=1910.#Voltage on primary side (in volt)\n",
      "V_2=240.#Voltage on secondary side (in volt)\n",
      "f=50.#frequency in hertz\n",
      "n=V_1/V_2\n",
      "print '%s %.2f' %('(a)n-ratio=',n)\n",
      "I_1=P_s/V_1\n",
      "print '%s %.1f' %('(b)load current referred to high voltage side (in A)=',I_1)\n",
      "I_2=P_s/V_2\n",
      "Z_2=V_2/I_2\n",
      "print '%s %.1f' %('(c)load impedance on low voltage side for full load (in ohm)=',Z_2)\n",
      "Z_1=Z_2*(n**2)\n",
      "print '%s %.f' %('(d)impedance referred to high voltage side(in ohm)=',Z_1)\n"
     ],
     "language": "python",
     "metadata": {},
     "outputs": [
      {
       "output_type": "stream",
       "stream": "stdout",
       "text": [
        "(a)n-ratio= 7.96\n",
        "(b)load current referred to high voltage side (in A)= 13.1\n",
        "(c)load impedance on low voltage side for full load (in ohm)= 2.3\n",
        "(d)impedance referred to high voltage side(in ohm)= 146\n"
       ]
      }
     ],
     "prompt_number": 1
    },
    {
     "cell_type": "heading",
     "level": 2,
     "metadata": {},
     "source": [
      "Example E2 - Pg 6"
     ]
    },
    {
     "cell_type": "code",
     "collapsed": false,
     "input": [
      "#Caption:Find (a) Power factor on no load (b) active current (c) magnetising current (d) copper loss in the primary winding (e) core loss\n",
      "#Exa:1.2\n",
      "import math,cmath\n",
      "from math import acos,sin\n",
      "V_1=3300.#Primary voltage (in volt)\n",
      "V_2=240.#Secondary voltage (in volt)\n",
      "I_0=2.#No load current (in A)\n",
      "P=60.#Power (in watt)\n",
      "R=0.8#Resistance of the low voltage winding (in ohm)\n",
      "Pf=P/(V_2*I_0)\n",
      "print '%s %.3f' %('(a)Power factor on no load=',Pf)\n",
      "I_c=I_0*Pf\n",
      "print '%s %.3f' %('(b)Active current(in A)=',I_c)\n",
      "theta=(acos(Pf)*57.3)\n",
      "I_m=I_0*sin(theta)\n",
      "print '%s %.3f' %('(c)magnetising current is(in A)=',I_m) #text answer is wrong\n",
      "Culoss=(I_0**2)*R\n",
      "print '%s %.1f' %('(d)copper loss in the primary winding is(in watt)=',Culoss)\n",
      "Coreloss=P-Culoss\n",
      "print '%s %.1f' %('(e)core loss(in watt)=',Coreloss)"
     ],
     "language": "python",
     "metadata": {},
     "outputs": [
      {
       "output_type": "stream",
       "stream": "stdout",
       "text": [
        "(a)Power factor on no load= 0.125\n",
        "(b)Active current(in A)= 0.250\n",
        "(c)magnetising current is(in A)= 1.821\n",
        "(d)copper loss in the primary winding is(in watt)= 3.2\n",
        "(e)core loss(in watt)= 56.8\n"
       ]
      }
     ],
     "prompt_number": 2
    },
    {
     "cell_type": "heading",
     "level": 2,
     "metadata": {},
     "source": [
      "Example E3 - Pg 8"
     ]
    },
    {
     "cell_type": "code",
     "collapsed": false,
     "input": [
      "#Caption:Find number of turns per limb on the (a) high voltage and (b) low voltage sides\n",
      "#Exa:1.3\n",
      "import math \n",
      "A=0.0386#cross sectional area of core(in m**2)\n",
      "B=1.#maximum flux density (in weber/m**2)\n",
      "f=50.#frequency (in hertz)\n",
      "V_1=3300.#voltage on primary side (in volt)\n",
      "V_2=240.#voltage on secondary side (in volt)\n",
      "C=B*A\n",
      "n_2=V_2/(4.44*C*f)\n",
      "T_2=n_2/2.\n",
      "print '%s %.f' %('(a)number of turns on low voltage side is=',T_2)\n",
      "T_1=T_2*V_1/V_2\n",
      "print '%s %.f' %('(b)number of turns on high voltage side is=',T_1)"
     ],
     "language": "python",
     "metadata": {},
     "outputs": [
      {
       "output_type": "stream",
       "stream": "stdout",
       "text": [
        "(a)number of turns on low voltage side is= 14\n",
        "(b)number of turns on high voltage side is= 193\n"
       ]
      }
     ],
     "prompt_number": 3
    },
    {
     "cell_type": "heading",
     "level": 2,
     "metadata": {},
     "source": [
      "Example E4 - Pg 13"
     ]
    },
    {
     "cell_type": "code",
     "collapsed": false,
     "input": [
      "#Caption:Calculate (a) equivalent resistance and reactance of low voltage side in terms of high voltage side (b) equivalent resistance and reactance of high voltage side in terms of low voltage side (c) total resistance and reactance of transformer in terms of high voltage side (d) total resistance and reactance of transformer in terms of low voltage side \n",
      "#Exa:1.4\n",
      "import math \n",
      "V_1=2200.#Primary side voltage(in volt)\n",
      "V_2=220.#secondary side voltage(in volt)\n",
      "f=50.#frequency(in hertz)\n",
      "r_1=1.25#Primary side resistance(in ohm)\n",
      "x_1=4.#Primary side reactance(in ohm)\n",
      "r_2=0.04#Secondary side resistance(in ohm)\n",
      "x_2=0.15#Secondary side reactance(in ohm)\n",
      "n=V_1/V_2\n",
      "R_2=(n**2.)*r_2\n",
      "print '%s %.f' %('(a)equivalent resistance of low voltage side in terms of high voltage side=',R_2)\n",
      "X_2=(n**2)*x_2\n",
      "print '%s %.f' %('\\nequivalent reactance of low voltage side in terms of high voltage side=',X_2)\n",
      "R_1=r_1/(n**2)\n",
      "print '%s %.4f' %('\\n(b)equivalent resistance of high voltage side in terms of low voltage side =',R_1)\n",
      "X_1=x_1/(n**2)\n",
      "print '%s %.2f' %('\\nequivalent reactance of high voltage side in terms of low voltage side =',X_1)\n",
      "R_t=r_1+R_2\n",
      "print '%s %.2f' %('\\n(c)total resistance of transformer in terms of high voltage side=',R_t)\n",
      "X_t=x_1+X_2\n",
      "print '%s %.f' %('\\ntotal reactance of transformer in terms of high voltage side=',X_t)\n",
      "R_e=r_2+R_1\n",
      "print '%s %.4f' %('\\n(d)total resistance of transformer in terms of low voltage side=',R_e)\n",
      "X_e=x_2+X_1\n",
      "print '%s %.2f' %('\\ntotal reactance of transformer in terms of low voltage side=',X_e)"
     ],
     "language": "python",
     "metadata": {},
     "outputs": [
      {
       "output_type": "stream",
       "stream": "stdout",
       "text": [
        "(a)equivalent resistance of low voltage side in terms of high voltage side= 4\n",
        "\n",
        "equivalent reactance of low voltage side in terms of high voltage side= 15\n",
        "\n",
        "(b)equivalent resistance of high voltage side in terms of low voltage side = 0.0125\n",
        "\n",
        "equivalent reactance of high voltage side in terms of low voltage side = 0.04\n",
        "\n",
        "(c)total resistance of transformer in terms of high voltage side= 5.25\n",
        "\n",
        "total reactance of transformer in terms of high voltage side= 19\n",
        "\n",
        "(d)total resistance of transformer in terms of low voltage side= 0.0525\n",
        "\n",
        "total reactance of transformer in terms of low voltage side= 0.19\n"
       ]
      }
     ],
     "prompt_number": 4
    },
    {
     "cell_type": "heading",
     "level": 2,
     "metadata": {},
     "source": [
      "Example E5 - Pg 14"
     ]
    },
    {
     "cell_type": "code",
     "collapsed": false,
     "input": [
      "#Caption:Find (a) terminal voltage on load (b) voltage on load at high voltage terminals (c) efficiency of transformer\n",
      "#Exa:1.5 \n",
      "import math,cmath \n",
      "n=10.#ratio of high voltage to low voltage\n",
      "V_1=200.#Voltage on low voltage side(in volt)\n",
      "x_m=231.#Magnetising resistance(in ohms)\n",
      "r_c=400.#Core loss resistance(in ohms)\n",
      "r_e=0.1#Equivalent resistance referred to low voltage side(in ohms)\n",
      "x_e=0.5#Equivalent reactance referred to low voltage side(in ohms)\n",
      "r_l=7.9#Load resistance(in ohms)\n",
      "x_l=5.5#Load reactance(in ohms)\n",
      "I_m=V_1/x_m\n",
      "I_c=V_1/r_c\n",
      "I_0=I_c+(1j*I_m)\n",
      "R_l=r_l+r_e\n",
      "X_l=x_l+x_e\n",
      "I=V_1/(R_l+(1j*X_l))\n",
      "I_1=I+I_0\n",
      "V_2=V_1-I*(r_e+(1j*x_e))\n",
      "v=193.;#math.sqrt(V_2*conj(V_2))\n",
      "print '%s %.1f' %('(a)terminal voltage on load(in volt)=',v)\n",
      "V=v*n\n",
      "print '%s %.2f' %('(b)voltage on load at hgih voltage terminals(in volt)=',V)\n",
      "P_o=v*I.real\n",
      "P_i=V_1*I_1.real\n",
      "eff=(P_o/P_i)*100\n",
      "print '%s %.1f' %('(c)efficiency of transformer is(in %)=',eff)\n",
      "#answers are rounded off due to calculation error "
     ],
     "language": "python",
     "metadata": {},
     "outputs": [
      {
       "output_type": "stream",
       "stream": "stdout",
       "text": [
        "(a)terminal voltage on load(in volt)= 193.0\n",
        "(b)voltage on load at hgih voltage terminals(in volt)= 1930.00\n",
        "(c)efficiency of transformer is(in %)= 93.6\n"
       ]
      }
     ],
     "prompt_number": 5
    },
    {
     "cell_type": "heading",
     "level": 2,
     "metadata": {},
     "source": [
      "Example E6 - Pg 15"
     ]
    },
    {
     "cell_type": "code",
     "collapsed": false,
     "input": [
      "#Caption:Find (a) impedance (b) % resistance and reactance\n",
      "#Exa:1.6\n",
      "import math\n",
      "P_s=500000.#Power supplied(in VA)\n",
      "V_1=2200.#Voltage on primary side(in volt)\n",
      "V_2=500.#Voltage on secondary side(in volt)\n",
      "f=50.#frequency(in hertz)\n",
      "r=0.01#Resistance of transformer(in ohms)\n",
      "z=0.1#impedance of transformer(in %)\n",
      "I=P_s/V_2\n",
      "Z=z*V_2/I\n",
      "print '%s %.2f' %('(a)Impedance(in ohms)=',Z)\n",
      "R=(I*r/V_2)*100\n",
      "print '%s %.f' %('(b) Resistance(in %)=',R)\n",
      "x=math.sqrt(Z**2-r**2)\n",
      "X=(x*I/V_2)*100\n",
      "print '%s %.1f' %('Reactance(in %)=',X)"
     ],
     "language": "python",
     "metadata": {},
     "outputs": [
      {
       "output_type": "stream",
       "stream": "stdout",
       "text": [
        "(a)Impedance(in ohms)= 0.05\n",
        "(b) Resistance(in %)= 2\n",
        "Reactance(in %)= 9.8\n"
       ]
      }
     ],
     "prompt_number": 6
    }
   ],
   "metadata": {}
  }
 ]
}