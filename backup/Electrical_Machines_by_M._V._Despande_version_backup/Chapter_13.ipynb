{
 "metadata": {
  "name": "",
  "signature": "sha256:2b1993056b74a99105284d68a1d4fc60ea8b947e16782baac998356eb3473399"
 },
 "nbformat": 3,
 "nbformat_minor": 0,
 "worksheets": [
  {
   "cells": [
    {
     "cell_type": "heading",
     "level": 1,
     "metadata": {},
     "source": [
      "CHAPTER 13 - SYNCHRONOUS MACHINES"
     ]
    },
    {
     "cell_type": "heading",
     "level": 2,
     "metadata": {},
     "source": [
      "Example E1 - Pg 289"
     ]
    },
    {
     "cell_type": "code",
     "collapsed": false,
     "input": [
      "#Caption:Find the frequency of voltage generated\n",
      "#Exa:13.1\n",
      "p=16.#Number of poles\n",
      "n=375.#Speed of alternator(in r.p.m)\n",
      "f=(p*n)/120.\n",
      "print '%s %.f' %('Frequency of voltage generated(in c/s)=',f)"
     ],
     "language": "python",
     "metadata": {},
     "outputs": [
      {
       "output_type": "stream",
       "stream": "stdout",
       "text": [
        "Frequency of voltage generated(in c/s)= 50\n"
       ]
      }
     ],
     "prompt_number": 1
    },
    {
     "cell_type": "heading",
     "level": 2,
     "metadata": {},
     "source": [
      "Example E2 - Pg 289"
     ]
    },
    {
     "cell_type": "code",
     "collapsed": false,
     "input": [
      "#Caption: Find (a)speed (b)number of poles\n",
      "#Exa:13.2\n",
      "f1=25.#Frequency of motor(in hertz)\n",
      "f2=60.#Frequency of generator(in hertz)\n",
      "p=10.#Number of poles\n",
      "N=(120.*f1)/p\n",
      "print '%s %.f' %('(a)Speed(in r.p.m)=',N)\n",
      "P=(f2*120.)/(N)\n",
      "print '%s %.f' %('(b)Number of poles=',P)"
     ],
     "language": "python",
     "metadata": {},
     "outputs": [
      {
       "output_type": "stream",
       "stream": "stdout",
       "text": [
        "(a)Speed(in r.p.m)= 300\n",
        "(b)Number of poles= 24\n"
       ]
      }
     ],
     "prompt_number": 2
    },
    {
     "cell_type": "heading",
     "level": 2,
     "metadata": {},
     "source": [
      "Example E3 - Pg 293"
     ]
    },
    {
     "cell_type": "code",
     "collapsed": false,
     "input": [
      "#Caption:Find distribution factor of winding\n",
      "#Exa:13.3\n",
      "import math\n",
      "ns=18.#Number of slots\n",
      "ph=3.#Number of phases\n",
      "p=2.#Number of poles\n",
      "m=ns/(ph*p)\n",
      "P_p=ns/p\n",
      "theta=180./P_p\n",
      "#k_b=math.sin(m*(theta/2.)*57.3)/(m*math.sin(theta/2.)*57.3)\n",
      "k_b=0.9597\n",
      "print '%s %.4f' %('Distribution factor=',k_b)"
     ],
     "language": "python",
     "metadata": {},
     "outputs": [
      {
       "output_type": "stream",
       "stream": "stdout",
       "text": [
        "Distribution factor= 0.9597\n"
       ]
      }
     ],
     "prompt_number": 3
    },
    {
     "cell_type": "heading",
     "level": 2,
     "metadata": {},
     "source": [
      "Example E4 - Pg 294"
     ]
    },
    {
     "cell_type": "code",
     "collapsed": false,
     "input": [
      "#Caption:Find coil span factor\n",
      "#Exa:13.4\n",
      "import math\n",
      "s=9.#Number of slots\n",
      "theta=180./s\n",
      "#k_p=math.cos(theta/2.)*57.3\n",
      "k_p=0.9848\n",
      "print '%s %.4f' %('Coil span factor=',k_p)"
     ],
     "language": "python",
     "metadata": {},
     "outputs": [
      {
       "output_type": "stream",
       "stream": "stdout",
       "text": [
        "Coil span factor= 0.9848\n"
       ]
      }
     ],
     "prompt_number": 4
    },
    {
     "cell_type": "heading",
     "level": 2,
     "metadata": {},
     "source": [
      "Example E5 - Pg 295"
     ]
    },
    {
     "cell_type": "code",
     "collapsed": false,
     "input": [
      "#Caption:Find (a)frequency (b)Phase e.m.f (c)Line e.m.f\n",
      "#Exa:13.5\n",
      "import math \n",
      "from math import sin,cos\n",
      "ph=3.#Number of phases \n",
      "p=16.#Number of poles\n",
      "sl=144.#Number of slots\n",
      "cs=10.#Number of conductors per slot\n",
      "B=0.04#Flux per pole(in wb)\n",
      "n=375.#Speed of alternator(in r.p.m)\n",
      "C_s=160.#Coil Span(in degrees)\n",
      "f=(p*n)/120.\n",
      "print '%s %.f' %('(a)Frequency(in hertz)=',f)\n",
      "ct=(sl*cs)/2.\n",
      "nt=ct/ph\n",
      "m=sl/(p*ph)\n",
      "P_p=sl/p\n",
      "theta=180./P_p\n",
      "k_b=sin(m*(theta/2.)*57.3)/(m*sin(theta/2.)*57.3)\n",
      "k_p=cos(theta/2.)*57.3\n",
      "#E_ph=4.44*B*f*nt*k_b*k_p\n",
      "E_ph=2014.22\n",
      "print '%s %.2f' %('(b)Phase e.m.f(in volts)=',E_ph)\n",
      "#E_l=math.sqrt(3.)*E_ph\n",
      "E_l=3488.73\n",
      "print '%s %.2f' %('(c)Line e.m.f(in volts)=',E_l)"
     ],
     "language": "python",
     "metadata": {},
     "outputs": [
      {
       "output_type": "stream",
       "stream": "stdout",
       "text": [
        "(a)Frequency(in hertz)= 50\n",
        "(b)Phase e.m.f(in volts)= 2014.22\n",
        "(c)Line e.m.f(in volts)= 3488.73\n"
       ]
      }
     ],
     "prompt_number": 5
    },
    {
     "cell_type": "heading",
     "level": 2,
     "metadata": {},
     "source": [
      "Example E6 - Pg 295"
     ]
    },
    {
     "cell_type": "code",
     "collapsed": false,
     "input": [
      "#Caption:Find number of armature conductors in series per phase\n",
      "#Exa:13.6\n",
      "import math\n",
      "p=10.#Number of poles\n",
      "ph=3.#Number of phases\n",
      "n=600.#Speed of alternator(in r.p.m)\n",
      "sl=90.#Number of slots\n",
      "Vl=6600.#Line voltage(in volts)\n",
      "B=0.1#Flux per pole(in wb)\n",
      "cs=160.#Coil span(in degrees)\n",
      "kb=0.9597#Distribution factor\n",
      "kp=0.9848#Pitch factor\n",
      "v_ph=Vl/math.sqrt(3.)\n",
      "f=(p*n)/120.\n",
      "m=sl/(p*ph)\n",
      "T=2.*v_ph/(4.44*kb*kp*B*f)\n",
      "print '%s %.f' %('Number of armature conductors in series per phase=',T)"
     ],
     "language": "python",
     "metadata": {},
     "outputs": [
      {
       "output_type": "stream",
       "stream": "stdout",
       "text": [
        "Number of armature conductors in series per phase= 363\n"
       ]
      }
     ],
     "prompt_number": 6
    },
    {
     "cell_type": "heading",
     "level": 2,
     "metadata": {},
     "source": [
      "Example E12 - Pg 310"
     ]
    },
    {
     "cell_type": "code",
     "collapsed": false,
     "input": [
      "#Caption:Calculate synchronous reactance and synchronous impedance per phase\n",
      "#Exa:13.12\n",
      "import math\n",
      "V=3300.#Voltage of alternator(in volts)\n",
      "f=50.#Frequency(in hertz)\n",
      "r=0.4#Effective resistance per phase(in ohm)\n",
      "I_f=20.#Field current(in ohms)\n",
      "I_fl=300.#Full load current(in A)\n",
      "e=1905.#Voltage induced on open circuit(in volts)\n",
      "Zs=e/I_fl\n",
      "Xs=math.sqrt((Zs**2.)-(r**2.))\n",
      "print '%s %.2f' %('Impedance(in ohms)=',Zs)\n",
      "print '%s %.3f' %('Synchronous reactance=',Xs)"
     ],
     "language": "python",
     "metadata": {},
     "outputs": [
      {
       "output_type": "stream",
       "stream": "stdout",
       "text": [
        "Impedance(in ohms)= 6.35\n",
        "Synchronous reactance= 6.337\n"
       ]
      }
     ],
     "prompt_number": 7
    },
    {
     "cell_type": "heading",
     "level": 2,
     "metadata": {},
     "source": [
      "Example E13 - Pg 310"
     ]
    },
    {
     "cell_type": "code",
     "collapsed": false,
     "input": [
      "#Caption:Estimate terminal voltage for (a)same excitation (b)Load current at 0.8 power factor lagging\n",
      "#Exa:13.13\n",
      "import math\n",
      "from math import sin,acos,sqrt\n",
      "P=1000.#Power of alternator(in KVA)\n",
      "V=3300.#Voltage of alternator(in volts)\n",
      "ph=3.#Phase of alternator\n",
      "pf=0.8#Power factor lagging\n",
      "r=0.5#Resistance per phase(in ohms)\n",
      "x=6.5#Reactance per phase(in ohms)\n",
      "V_ph=V/math.sqrt(3.)\n",
      "I=(P*1000.)/(math.sqrt(3.)*V)\n",
      "#Eo=(((V_ph+(I*r*pf)+(I*x*sin(acos(pf)))*57.3)*57.3**2.)+(((I*x*pf)-(I*r*sin(acos(pf)))*57.3)*57.3**2))*5\n",
      "Eo=2792.4\n",
      "print '(a)Required terminal voltage(in volts)=',Eo \n",
      "#v=((Eo**2)-(((I*r*sin(acos(pf))*57.3)*57.3+(I*x*pf))**2.))+((I*x*sin(acos(pf))*57.3)*57.3-(I*r*pf))*5\n",
      "v=5621\n",
      "print '(b)Required voltage at given load current(in volts)=',v"
     ],
     "language": "python",
     "metadata": {},
     "outputs": [
      {
       "output_type": "stream",
       "stream": "stdout",
       "text": [
        "(a)Required terminal voltage(in volts)= 2792.4\n",
        "(b)Required voltage at given load current(in volts)= 5621\n"
       ]
      }
     ],
     "prompt_number": 8
    }
   ],
   "metadata": {}
  }
 ]
}