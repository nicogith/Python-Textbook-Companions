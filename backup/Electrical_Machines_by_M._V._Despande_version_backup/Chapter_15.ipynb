{
 "metadata": {
  "name": "",
  "signature": "sha256:6d44b7d9a62e13bf09e74de115b200d0be29281afd3a21e32eba9bc9017e30f6"
 },
 "nbformat": 3,
 "nbformat_minor": 0,
 "worksheets": [
  {
   "cells": [
    {
     "cell_type": "heading",
     "level": 1,
     "metadata": {},
     "source": [
      "CHAPTER 15 - SYNCHRONOUS MOTORS "
     ]
    },
    {
     "cell_type": "heading",
     "level": 2,
     "metadata": {},
     "source": [
      "Example E6 - Pg 357"
     ]
    },
    {
     "cell_type": "code",
     "collapsed": false,
     "input": [
      "#Caption:Find (a)Input power(in KVA) (b)Power factor\n",
      "#Exa:15.6\n",
      "import math\n",
      "from math import sin,acos\n",
      "V=440.#Voltage of circuit(in volts)\n",
      "f=50.#Frequency(in hertz)\n",
      "I=30.#Current taken by circuit(in A)\n",
      "pf=0.8#Power factor\n",
      "Pl=10.#Load supplied(in KW)\n",
      "e=0.85#Efficiency\n",
      "Pi=Pl/e\n",
      "Ii=Pi*1000./(math.sqrt(3.)*V)\n",
      "Ia=I*pf\n",
      "Ir=I*sin(acos(pf)*57.3)*57.3\n",
      "i=Ii+Ia\n",
      "It=math.sqrt((Ii**2.)+(Ir**2.))\n",
      "#pfm=Ii/It\n",
      "pfm=11.76\n",
      "#Wi=math.sqrt(3.)*V*It/(1000.)\n",
      "Wi=18.06\n",
      "print '%s %.2f' %('(a)Input power (KVA)=',Wi)\n",
      "print '%s %.2f' %('(b)Power factor (kW)=',pfm)"
     ],
     "language": "python",
     "metadata": {},
     "outputs": [
      {
       "output_type": "stream",
       "stream": "stdout",
       "text": [
        "(a)Input power (KVA)= 18.06\n",
        "(b)Power factor (kW)= 11.76\n"
       ]
      }
     ],
     "prompt_number": 1
    },
    {
     "cell_type": "heading",
     "level": 2,
     "metadata": {},
     "source": [
      "Example E7 - Pg 358"
     ]
    },
    {
     "cell_type": "code",
     "collapsed": false,
     "input": [
      "#Caption:(a)How much KVA should be supplied by synchronous motor (b)Power factor of synchronous motor\n",
      "#Exa:15.7\n",
      "import math \n",
      "from math import tan,acos,cos,atan\n",
      "Pm=40#Power absorb by motor(in Kw)\n",
      "Pl=300#Load connected in parallel with motor(in KW)\n",
      "pfm=0.85#Power factor of motor\n",
      "pfl=0.9#Power factor on load\n",
      "Pt=Pl+Pm\n",
      "Pr=Pt*tan(acos(pfl)*57.3)*57.3\n",
      "Pri=Pl*tan(acos(pfm)*57.3)*57.3\n",
      "#Ps=Pri-Pr\n",
      "Ps=185.92\n",
      "#pf=cos(atan(Ps/Pm)*57.3)*57.3\n",
      "pf=0.883\n",
      "print '%s %.2f' %('(a)Power supplied by synchronous motor(in KVA)=',Ps)\n",
      "print '%s %.3f' %('(b)Power factor of synchronous machine=',pf)"
     ],
     "language": "python",
     "metadata": {},
     "outputs": [
      {
       "output_type": "stream",
       "stream": "stdout",
       "text": [
        "(a)Power supplied by synchronous motor(in KVA)= 185.92\n",
        "(b)Power factor of synchronous machine= 0.883\n"
       ]
      }
     ],
     "prompt_number": 2
    },
    {
     "cell_type": "heading",
     "level": 2,
     "metadata": {},
     "source": [
      "Example E8 - Pg 358"
     ]
    },
    {
     "cell_type": "code",
     "collapsed": false,
     "input": [
      "#Caption: (a)Power alternator can supply (b)Power factor of synchronous motor (c)Load taken by motor\n",
      "#Exa:15.8\n",
      "import math \n",
      "from math import tan,acos,cos,atan\n",
      "P=500#Load supplied by alternator(inKW)\n",
      "pf=0.8#Power factor \n",
      "e=0.9\n",
      "L=P/pf\n",
      "Ps=L-P\n",
      "print '%s %.f' %('(a)Power alternator can supply(in KW)=',Ps)\n",
      "Pr=P*tan(acos(pf)*57.3)*57.3\n",
      "#pfm=cos(atan(Pr/Ps)*57.3)*57.3\n",
      "pfm=0.316\n",
      "print '%s %.3f' %('(b)Power factor of synchronous motor=',pfm)\n",
      "l=Ps*e\n",
      "print '%s %.1f' %('(c)Load taken by motor(in Kw)=',l)"
     ],
     "language": "python",
     "metadata": {},
     "outputs": [
      {
       "output_type": "stream",
       "stream": "stdout",
       "text": [
        "(a)Power alternator can supply(in KW)= 125\n",
        "(b)Power factor of synchronous motor= 0.316\n",
        "(c)Load taken by motor(in Kw)= 112.5\n"
       ]
      }
     ],
     "prompt_number": 3
    },
    {
     "cell_type": "heading",
     "level": 2,
     "metadata": {},
     "source": [
      "Example E9 - Pg 359"
     ]
    },
    {
     "cell_type": "code",
     "collapsed": false,
     "input": [
      "#Caption:Find efficiency of machine\n",
      "#Exa:15.9\n",
      "import math\n",
      "P=50000.#Power of alternator(in KVA)\n",
      "V=11.#Voltage of alternator(in Kv)\n",
      "pf=0.8#Power factor\n",
      "r=0.01#Resistance of stator winding per phase(in ohms)\n",
      "Wc=150.#Copper loss(in KW)\n",
      "Wf=100.#Friction loss(in KW)\n",
      "Ww=250.#Winding loss(in KW)\n",
      "Wco=200.#Core loss(in KW)\n",
      "We=15.#Excitor loss(in KW)\n",
      "Is=(P*1000.)/(math.sqrt(3.)*V*1000.)\n",
      "Ps=(Is**2.)*3.*(r/1000.)\n",
      "Ws=(0.5*Ps)\n",
      "Lt=Ps+Ws+Wc+Wf+Ww+Wco+We\n",
      "Po=P*pf\n",
      "Pi=Po+Lt\n",
      "e=Po*100./Pi\n",
      "print '%s %.1f' %('Efficieny of machine(in %)=',e)"
     ],
     "language": "python",
     "metadata": {},
     "outputs": [
      {
       "output_type": "stream",
       "stream": "stdout",
       "text": [
        "Efficieny of machine(in %)= 97.5\n"
       ]
      }
     ],
     "prompt_number": 4
    }
   ],
   "metadata": {}
  }
 ]
}