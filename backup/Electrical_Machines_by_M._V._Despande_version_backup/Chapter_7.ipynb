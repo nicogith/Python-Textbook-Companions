{
 "metadata": {
  "name": "",
  "signature": "sha256:7e4e2e6787926b617e4251aa7653a01838e0c57700ac6f7c0e3e804f7aaa974a"
 },
 "nbformat": 3,
 "nbformat_minor": 0,
 "worksheets": [
  {
   "cells": [
    {
     "cell_type": "heading",
     "level": 1,
     "metadata": {},
     "source": [
      "CHAPTER 7 - PRINCIPLE AND CONSTRUCTION OF DC MACHINES"
     ]
    },
    {
     "cell_type": "heading",
     "level": 2,
     "metadata": {},
     "source": [
      "Example E3 - Pg 130"
     ]
    },
    {
     "cell_type": "code",
     "collapsed": false,
     "input": [
      "#Caption:Find effect of change in connection on voltage,current and output\n",
      "#Exa:7.3\n",
      "P=50000.#Power of generator(in watt)\n",
      "V_b1=230.#Voltage of generator(in volts)\n",
      "p=4.#Number of poles\n",
      "a=4.#Number of parallel paths for lap winding\n",
      "b=2.#Number of parallel paths for wave winding\n",
      "C=268.#Number of conductors with LAP winding\n",
      "t=2.#Two turns coils are used\n",
      "c=t*2.#Conductors per slot\n",
      "n=C/c\n",
      "I_1=P/(V_b1)\n",
      "V_b2=V_b1*b\n",
      "I_2=P/(V_b2)\n",
      "print '%s %.f %.1f' %('voltage(in volts) and Current(in A) for LAP winding=',V_b1,I_1)\n",
      "print '%s %.f %.1f' %('voltage(in volts) and Current(in A) for WAVE winding=',V_b2,I_2)\n",
      "print '%s %.f' %('Output is same for both connections(in watts)=',P)"
     ],
     "language": "python",
     "metadata": {},
     "outputs": [
      {
       "output_type": "stream",
       "stream": "stdout",
       "text": [
        "voltage(in volts) and Current(in A) for LAP winding= 230 217.4\n",
        "voltage(in volts) and Current(in A) for WAVE winding= 460 108.7\n",
        "Output is same for both connections(in watts)= 50000\n"
       ]
      }
     ],
     "prompt_number": 1
    },
    {
     "cell_type": "heading",
     "level": 2,
     "metadata": {},
     "source": [
      "Example E6 - Pg 132"
     ]
    },
    {
     "cell_type": "code",
     "collapsed": false,
     "input": [
      "#Caption: Select a two circuit armature winding for a d.c machine\n",
      "#Exa:7.6\n",
      "import math\n",
      "p=4.#Number of poles \n",
      "n=1000.#Speed of d.c. machine(in r.p.m)\n",
      "V=400.#Voltage of d.cmachine(in volts)\n",
      "B=0.04#Flux per pole(in weber)\n",
      "s_1=41.#Slot 1\n",
      "s_2=45.#Slot 2\n",
      "s_3=51.#Slot 3\n",
      "a=2.#Number of parallel paths\n",
      "Z=(V*60.*a)/(B*n*p)\n",
      "Z_c=Z/a\n",
      "Y=(s_3+1.)/(p/2.)\n",
      "t=3.#turns per coil\n",
      "c=t*a\n",
      "z=s_3*c\n",
      "print '%s %.f' %('slots=',z)\n",
      "print '%s %.f' %('turn coils=',c)\n",
      "print '%s %.f' %('coils sides per slot=',t)\n",
      "print '%s %.f' %('total number of conductors=',s_3)\n"
     ],
     "language": "python",
     "metadata": {},
     "outputs": [
      {
       "output_type": "stream",
       "stream": "stdout",
       "text": [
        "slots= 306\n",
        "turn coils= 6\n",
        "coils sides per slot= 3\n",
        "total number of conductors= 51\n"
       ]
      }
     ],
     "prompt_number": 2
    },
    {
     "cell_type": "heading",
     "level": 2,
     "metadata": {},
     "source": [
      "Example E7 - Pg 132"
     ]
    },
    {
     "cell_type": "code",
     "collapsed": false,
     "input": [
      "#Caption: Find (a)e.m.f generated at 750r.p.m for lap wound (b)e.m.f generated at 600r.p.m for wave wound (c)Speed to be driven for 400V for same flux per pole\n",
      "#Exa:7.7\n",
      "import math \n",
      "p=4.#Number of poles\n",
      "B=0.04#Flux per pole(in weber)\n",
      "c=740.#Number of conductors for lap connection\n",
      "n_1=750.#Speed of machine(in r.p.m)\n",
      "n_2=600.#Speed of machine(in r.p.m)\n",
      "V=400.#Voltage of machine(in volts)\n",
      "a=4.#Number of parallel paths for lap winding\n",
      "b=2.#Number of parallel paths for wave winding\n",
      "E=(B*c*n_1*p)/(60.*a)\n",
      "print '%s %.f' %('(a)E.M.F generated at 750r.p.m for lap wound(in volts)=',E)\n",
      "E_1=(B*c*n_2*p)/(60.*b)\n",
      "print '%s %.f' %('(b)E.M.F generated at 600r.p.m for wavewound(in volts)=',E_1)\n",
      "n=(V*60.*b)/(B*c*p)\n",
      "print '%s %.1f' %('(c)Speed of machine(in r.p.m)=',n)"
     ],
     "language": "python",
     "metadata": {},
     "outputs": [
      {
       "output_type": "stream",
       "stream": "stdout",
       "text": [
        "(a)E.M.F generated at 750r.p.m for lap wound(in volts)= 370\n",
        "(b)E.M.F generated at 600r.p.m for wavewound(in volts)= 592\n",
        "(c)Speed of machine(in r.p.m)= 405.4\n"
       ]
      }
     ],
     "prompt_number": 1
    },
    {
     "cell_type": "heading",
     "level": 2,
     "metadata": {},
     "source": [
      "Example E8 - Pg 139"
     ]
    },
    {
     "cell_type": "code",
     "collapsed": false,
     "input": [
      "#Caption: Calculate (a)Total armature current (b)Current per armature path (c)Generated e.m.f\n",
      "#Exa:7.8\n",
      "import math\n",
      "p=4.#Number of poles\n",
      "P=4000.#Power of generator(in watts)\n",
      "V=230.#Voltage of generator(in volts)\n",
      "r_f=115.#Field resistance(in ohms)\n",
      "r_a=0.1#Armature resistance(in ohms)\n",
      "a=p#number of parallel paths\n",
      "i_f=V/r_f\n",
      "i_l=P/V\n",
      "I_a=i_l+i_f\n",
      "print '%s %.1f' %('(a)Armature current(in A)=',I_a)\n",
      "i=I_a/p\n",
      "print '%s %.2f' %('(b)Current per armature path(in A)=',i)\n",
      "E=V+(I_a*r_a)\n",
      "print '%s %.2f' %('(c)E.M.F generated(in volts)=',E)"
     ],
     "language": "python",
     "metadata": {},
     "outputs": [
      {
       "output_type": "stream",
       "stream": "stdout",
       "text": [
        "(a)Armature current(in A)= 19.4\n",
        "(b)Current per armature path(in A)= 4.85\n",
        "(c)E.M.F generated(in volts)= 231.94\n"
       ]
      }
     ],
     "prompt_number": 2
    },
    {
     "cell_type": "heading",
     "level": 2,
     "metadata": {},
     "source": [
      "Example E9 - Pg 139"
     ]
    },
    {
     "cell_type": "code",
     "collapsed": false,
     "input": [
      "#Caption:Find the speed at which it will run as a motor\n",
      "#Exa:7.9\n",
      "import math\n",
      "P_g=110000.#Power of generator(in watts)\n",
      "n=402.#Speed of generator(in r.p.m)\n",
      "V=220.#Voltage of busbars(in volts)\n",
      "P_m=10900.#Power of motor(in watt)\n",
      "r_a=0.025#Armature resistance(in ohms)\n",
      "r_f=55.#Field resistance(in ohms)\n",
      "v_b=1.#Voltage drop at each brush(in volt)\n",
      "i_l=P_g/V\n",
      "i_f=V/r_f\n",
      "I_a=i_l+i_f\n",
      "V_a=I_a*r_a\n",
      "E=V+V_a+(2*v_b)\n",
      "I_1=P_m/V\n",
      "i_a=I_1-i_f\n",
      "v_a=i_a*r_a\n",
      "E_b=V-(i_a*r_a)-(2.*v_b)\n",
      "N_m=(n*E_b)/E\n",
      "print '%s %.f' %('Speed at which generator will run as motor is(in r.p.m)=',N_m)"
     ],
     "language": "python",
     "metadata": {},
     "outputs": [
      {
       "output_type": "stream",
       "stream": "stdout",
       "text": [
        "Speed at which generator will run as motor is(in r.p.m)= 372\n"
       ]
      }
     ],
     "prompt_number": 3
    },
    {
     "cell_type": "heading",
     "level": 2,
     "metadata": {},
     "source": [
      "Example E10 - Pg 140"
     ]
    },
    {
     "cell_type": "code",
     "collapsed": false,
     "input": [
      "#Caption: Calculate the speed of the motor when it is loaded and takes 60A from the mains\n",
      "#Exa:7.10\n",
      "V=230.#Voltage of motor(in volts)\n",
      "n=800.#Speedof motor(in r.p.m)\n",
      "i=5.#Current taken by motor(in A)\n",
      "r_a=0.25#Armature resistance(in ohms)\n",
      "r_f=230.#field resistance(in ohms)\n",
      "i_l=60.#Load current(in A)\n",
      "i_f=V/r_f\n",
      "i_a=i-i_f\n",
      "E_b1=V-(i_a*r_a)\n",
      "i_al=i_l-i_f\n",
      "E_b2=V-(i_al*r_a)\n",
      "N=(n*E_b2)/E_b1\n",
      "print '%s %.f' %('Required speed of motor(in r.p.m) is=',N)"
     ],
     "language": "python",
     "metadata": {},
     "outputs": [
      {
       "output_type": "stream",
       "stream": "stdout",
       "text": [
        "Required speed of motor(in r.p.m) is= 752\n"
       ]
      }
     ],
     "prompt_number": 4
    },
    {
     "cell_type": "heading",
     "level": 2,
     "metadata": {},
     "source": [
      "Example E11 - Pg 141"
     ]
    },
    {
     "cell_type": "code",
     "collapsed": false,
     "input": [
      "#Caption: Calculate Power and torque developed\n",
      "#Exa:7.11\n",
      "import math\n",
      "p=4.#Number of poles\n",
      "d=20.#Diameter of armature(in cm)\n",
      "l=25.#Core length(in cm)\n",
      "c=300.#Number of conductors\n",
      "i_a=50.#Armature current(in A)\n",
      "B=0.3#Average flux density(in weber/m**2)\n",
      "n=1000.#Speedofmotor(in r.p.m)\n",
      "T=(B*(l/100.)*(i_a/p)*c*(d/100.)*(1./2.))\n",
      "s=(2.*math.pi*n)/(60.)\n",
      "P=(T*s)/1000.\n",
      "print '%s %.3f %s %.2f' %('Torque(in Nm) developed is=',T,'\\nPower(in KW)=',P)"
     ],
     "language": "python",
     "metadata": {},
     "outputs": [
      {
       "output_type": "stream",
       "stream": "stdout",
       "text": [
        "Torque(in Nm) developed is= 28.125 \n",
        "Power(in KW)= 2.95\n"
       ]
      }
     ],
     "prompt_number": 5
    },
    {
     "cell_type": "heading",
     "level": 2,
     "metadata": {},
     "source": [
      "Example E12 - Pg 145"
     ]
    },
    {
     "cell_type": "code",
     "collapsed": false,
     "input": [
      "#Caption: Determineper pole (a)Number of cross magnetising ampereturns,and (b)Demagnetising ampereturns \n",
      "#Exa:7.12\n",
      "I=100.#Current(in A)\n",
      "c=500.#Armature conductors\n",
      "p=6.#Poles \n",
      "t=10.#Angle of lead(in degree)\n",
      "a=2.#Wave wound\n",
      "e=(10.*p)/2.\n",
      "F_d=(c*I*2.*e)/(2.*a*p*180.)\n",
      "print '%s %.f' %('(a)Number of cross magnetising ampereturns=',F_d)\n",
      "F_c=(c*I)*(1.-((2.*e)/180.))/(2.*a*p)\n",
      "print '%s %.f' %('(b)Demagnetising ampereturns=',F_c)"
     ],
     "language": "python",
     "metadata": {},
     "outputs": [
      {
       "output_type": "stream",
       "stream": "stdout",
       "text": [
        "(a)Number of cross magnetising ampereturns= 694\n",
        "(b)Demagnetising ampereturns= 1389\n"
       ]
      }
     ],
     "prompt_number": 6
    },
    {
     "cell_type": "heading",
     "level": 2,
     "metadata": {},
     "source": [
      "Example E13 - Pg 147"
     ]
    },
    {
     "cell_type": "code",
     "collapsed": false,
     "input": [
      "#Caption:Find the time of Commutation\n",
      "#Exa:7.13\n",
      "import math\n",
      "p=4.#Number of poles\n",
      "n=600.#Speed of generator(in r.p.m)\n",
      "d=0.4#Diameter of commutator(in m)\n",
      "c=243.#Number ofcommutator segments\n",
      "c_s=3.#Coil sides per layer\n",
      "w=12.5#Width of brush(in mm)\n",
      "W=0.6#Width of mica between commutator segments\n",
      "W_c=(math.pi*d*1000.)/(c)\n",
      "D=w-W+(2.*W_c)\n",
      "V_c=(math.pi*d*n)/60.\n",
      "T=D/V_c*(10.**(-3.))\n",
      "print '%s %.5f' %('Time of commutation(in sec)=',T)"
     ],
     "language": "python",
     "metadata": {},
     "outputs": [
      {
       "output_type": "stream",
       "stream": "stdout",
       "text": [
        "Time of commutation(in sec)= 0.00177\n"
       ]
      }
     ],
     "prompt_number": 7
    },
    {
     "cell_type": "heading",
     "level": 2,
     "metadata": {},
     "source": [
      "Example E14 - Pg 150"
     ]
    },
    {
     "cell_type": "code",
     "collapsed": false,
     "input": [
      "#Caption: Find average reactance voltage produce due to commutation\n",
      "#Exa:7.14\n",
      "p=4.#Number of poles\n",
      "I=300.#Current delievered by generator on full load(in A)\n",
      "L=0.02*(10.**(-3.))#Inductance of each coil(in mH)\n",
      "a=2.#Wavw wound\n",
      "i=I/2.#Current in conductors in each path(in A)\n",
      "T_c=0.00174#Time of commutation(in sec)\n",
      "E_r=(2.*L*i)/T_c\n",
      "print '%s %.2f' %('Average reactance voltage(in volts)=',E_r)"
     ],
     "language": "python",
     "metadata": {},
     "outputs": [
      {
       "output_type": "stream",
       "stream": "stdout",
       "text": [
        "Average reactance voltage(in volts)= 3.45\n"
       ]
      }
     ],
     "prompt_number": 8
    },
    {
     "cell_type": "heading",
     "level": 2,
     "metadata": {},
     "source": [
      "Example E15 - Pg 150"
     ]
    },
    {
     "cell_type": "code",
     "collapsed": false,
     "input": [
      "#Caption: Calculate the number of turns needed on each commutating pole\n",
      "#Exa:7.15\n",
      "import math\n",
      "p=4.#Number of poles\n",
      "P=125000.#Power delievered by generator(in watts)\n",
      "V=230.#Voltage of generator(in volts)\n",
      "z=240.#Armature conductors \n",
      "B=0.3#Flux density under the interpolar gap(in weber/m**2)\n",
      "g=0.01#Interpolar airgap(in m)\n",
      "a=p#LAP connection\n",
      "I_a=P/V\n",
      "F_a=(z*I_a)/(2.*a*p)\n",
      "A=(B*g)/(4.*math.pi*(10.**(-7.)))\n",
      "A_t=A+F_a\n",
      "T=A_t/I_a\n",
      "print '%s %.2f' %('The number of turns on each commutating pole=',T)"
     ],
     "language": "python",
     "metadata": {},
     "outputs": [
      {
       "output_type": "stream",
       "stream": "stdout",
       "text": [
        "The number of turns on each commutating pole= 11.89\n"
       ]
      }
     ],
     "prompt_number": 9
    }
   ],
   "metadata": {}
  }
 ]
}