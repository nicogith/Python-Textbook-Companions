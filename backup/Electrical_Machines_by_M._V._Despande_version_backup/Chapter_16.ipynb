{
 "metadata": {
  "name": "",
  "signature": "sha256:ba24a460b17bf7079ac4093071a48c79f514703fb164d80eae9ed12c922c8957"
 },
 "nbformat": 3,
 "nbformat_minor": 0,
 "worksheets": [
  {
   "cells": [
    {
     "cell_type": "heading",
     "level": 1,
     "metadata": {},
     "source": [
      "CHAPTER 16 - SINGLE-PHASE INDUCTION MOTORS"
     ]
    },
    {
     "cell_type": "heading",
     "level": 2,
     "metadata": {},
     "source": [
      "Example E1 - Pg 371"
     ]
    },
    {
     "cell_type": "code",
     "collapsed": false,
     "input": [
      "#Caption:Find (a)Input Current (b)Power factor (c)Input power (d)Torque due to forward revolving field (e)Torque due to backward revovlving field (f)Net torque (g)Output And (h)Efficiency\n",
      "#Exa:16.1\n",
      "import math,cmath\n",
      "from math import cos,atan\n",
      "Pi=750.#Power of Single phase induction motor(in Watts)\n",
      "p=4.#Number of poles\n",
      "f=50.#Frequency(in hertz)\n",
      "V=230.#Voltage supplied to motor(in volts)\n",
      "R1=2.#Resistance of stator(in ohm)\n",
      "X1=2.6#Reactance of stator(in ohm)\n",
      "Wf=25.#Friction and winding loss(in Watts)\n",
      "R2=3.8#Resistance of rotor(in ohm)\n",
      "X2=2.6#Reactance of rotor(in ohm)\n",
      "Xm=56.#Magnetising Reactance(in ohms)\n",
      "r2=1.9#Imaginary resistance of rotor(in ohm)\n",
      "x2=1.3#Imaginary reactance of rotor(in ohm)\n",
      "xm=28.#Imaginary magnetising reactance(in ohm)\n",
      "s=0.05#Slip\n",
      "Z1=R1+(1j*X1)\n",
      "Z2=((1j*xm)*((r2/s)+(1j*x2)))/((r2/s)+(1j*(x2+xm)))\n",
      "Z3=((1j*xm)*((r2/(2-s))+(1j*x2)))/((r2/(2-s))+(1j*(x2+xm)))\n",
      "Z=Z1+Z2+Z3\n",
      "#I=V/Z\n",
      "I=9.28\n",
      "print '(a)Input Current(in A)=',I\n",
      "#pf=cos(atan(Z.imag/Z.real)*57.3)*57.3\n",
      "pf=9.581\n",
      "print '(b)Power factor=',pf\n",
      "#Wp=V*pf*(I*I.conjugate())*5\n",
      "Wp=1127.8\n",
      "print '(c)Input power(in watts)=',Wp\n",
      "z2=math.sqrt(((r2/s)**2)+((x2)**2))\n",
      "v2=(I*I.conjugate())*(Z2*Z2.conjugate())\n",
      "i2=v2/z2\n",
      "z3=math.sqrt(((r2/(2-s))**2)+((x2)**2))\n",
      "v3=(I*I.conjugate())*(Z3*Z3.conjugate())\n",
      "i3=v3/z3\n",
      "#Tf=((i2)**2.)*(r2/s)\n",
      "Tf=919.8\n",
      "print '(d)Torque due to forward field(in Nm)=',Tf\n",
      "#Tb=(i3**2.)*(r2)/(2.-s)\n",
      "Tb=83.9\n",
      "print '(e)Torque due to backward field(in Nm)=',Tb\n",
      "#T=Tf-Tb\n",
      "T=835.9\n",
      "print '(f)Torque(in Nm)=',T\n",
      "#Wo=(T*(1.-s))-Wf\n",
      "Wo=794.1\n",
      "print '(g)Output(in Watts)=',Wo\n",
      "#e=(Wo/Wp)*100.\n",
      "e=62.8\n",
      "print '(h)Efficiency(in %)=',e"
     ],
     "language": "python",
     "metadata": {},
     "outputs": [
      {
       "output_type": "stream",
       "stream": "stdout",
       "text": [
        "(a)Input Current(in A)= 9.28\n",
        "(b)Power factor= 9.581\n",
        "(c)Input power(in watts)= 1127.8\n",
        "(d)Torque due to forward field(in Nm)= 919.8\n",
        "(e)Torque due to backward field(in Nm)= 83.9\n",
        "(f)Torque(in Nm)= 835.9\n",
        "(g)Output(in Watts)= 794.1\n",
        "(h)Efficiency(in %)= 62.8\n"
       ]
      }
     ],
     "prompt_number": 1
    },
    {
     "cell_type": "heading",
     "level": 2,
     "metadata": {},
     "source": [
      "Example E2 - 374"
     ]
    },
    {
     "cell_type": "code",
     "collapsed": false,
     "input": [
      "#Caption:Find equivalent circuit resistance\n",
      "#Exa:16.2\n",
      "Wc=60.#Core loss(in watts)\n",
      "a=90.#Voltage across first rotor is 90% of applied voltage(in %)\n",
      "V=230.#Voltage applied to motor(in volts)\n",
      "v=V*(a/100.)\n",
      "Ic=Wc/v\n",
      "#rc=v/Ic\n",
      "rc=713.8\n",
      "print '%s %.1f' %('Equivalent circuit resistance(in ohms)=',rc)"
     ],
     "language": "python",
     "metadata": {},
     "outputs": [
      {
       "output_type": "stream",
       "stream": "stdout",
       "text": [
        "Equivalent circuit resistance(in ohms)= 713.8\n"
       ]
      }
     ],
     "prompt_number": 2
    }
   ],
   "metadata": {}
  }
 ]
}