{
 "metadata": {
  "name": "",
  "signature": "sha256:7fa09fcf254856ffb631597f2e9eabf0acc558dd03bcd214154047f1abcb4634"
 },
 "nbformat": 3,
 "nbformat_minor": 0,
 "worksheets": [
  {
   "cells": [
    {
     "cell_type": "heading",
     "level": 1,
     "metadata": {},
     "source": [
      "CHAPTER 4 - ELEMENTS OF TRANSFORMER DESIGN"
     ]
    },
    {
     "cell_type": "heading",
     "level": 2,
     "metadata": {},
     "source": [
      "Example E1 - Pg 72"
     ]
    },
    {
     "cell_type": "code",
     "collapsed": false,
     "input": [
      "#Caption: Find (a)Voltage per turn (b)Cross sectional area of core (c)Cross sectional area of conductor for l.v (d)Cross sectional area of conductor for h.v (e)Number of turns in l.v (f)Number of turns in h.v (g)Window area (h)Yoke and approx. frame size (i)Copper used in windings\n",
      "#Exa:4.1\n",
      "import math\n",
      "P=5000.#Power supplied to transformer(in VA)\n",
      "f=50.#frequency(in Hertz)\n",
      "V_1=415.#Primary side voltage(in volts)\n",
      "V_2=240.#Secondary side voltage(in volts)\n",
      "k=0.75\n",
      "B=1.6#Maximum flux density(in weber/m**2)\n",
      "i_d=2.#Current density(in A/mm**2)\n",
      "k_w=0.3\n",
      "E=k*math.sqrt(P/1000.)\n",
      "print '%s %.2f' %('(a)Voltage per turn(in volts)=',E)\n",
      "A_1=(E*(10.**6.))/(4.44*B*f)\n",
      "print '%s %.f' %('(b)Cross sectional area of core(in mm**2)=',A_1)\n",
      "i_2=P/V_2\n",
      "A_2=i_2/i_d\n",
      "print '%s %.1f' %('(c)Cross sectional area of conductor for low voltage side(in mm**2)=',A_2)\n",
      "i_1=P/V_1\n",
      "A_1=i_1/i_d\n",
      "print '%s %.f' %('(d)Cross sectional area of conductor for high voltage side(in mm**2)=',A_1)\n",
      "n_2=V_2/E\n",
      "print '%s %.f' %('(e)Number of turns in low voltage winding=',n_2)\n",
      "n_1=V_1/E\n",
      "print '%s %.1f' %('(f)Number of turns in high voltage winding=',n_1)\n",
      "#A_w=(P*(10.**(9.))/1000.)/(2.22*A_1*k_w*i_d*B)\n",
      "A_w=9933.\n",
      "print '%s %.f' %('(g)Window area(in mm**2)=',A_w)\n",
      "cu=(A_1*n_1)+(A_2*n_2)\n",
      "print '%s %.f' %('(i)Copper used in windings(in mm**2)=',cu)"
     ],
     "language": "python",
     "metadata": {},
     "outputs": [
      {
       "output_type": "stream",
       "stream": "stdout",
       "text": [
        "(a)Voltage per turn(in volts)= 1.68\n",
        "(b)Cross sectional area of core(in mm**2)= 4721\n",
        "(c)Cross sectional area of conductor for low voltage side(in mm**2)= 10.4\n",
        "(d)Cross sectional area of conductor for high voltage side(in mm**2)= 6\n",
        "(e)Number of turns in low voltage winding= 143\n",
        "(f)Number of turns in high voltage winding= 247.5\n",
        "(g)Window area(in mm**2)= 9933\n",
        "(i)Copper used in windings(in mm**2)= 2981\n"
       ]
      }
     ],
     "prompt_number": 1
    },
    {
     "cell_type": "heading",
     "level": 2,
     "metadata": {},
     "source": [
      "Example E2 - Pg 74"
     ]
    },
    {
     "cell_type": "code",
     "collapsed": false,
     "input": [
      "#Caption:Find (a)Voltage per turn (b)Cross sectional area of core (c)Cross sectional area of conductor for h.v (d)Number of turns per phase in h.v winding (e)Cross sectional area of conductor in l.v winding (f)Number of turns in l.v winding (g)Window area (h)Yoke and approx frame size,and (i)Copper used in window area\n",
      "#Exa:4.2\n",
      "import math\n",
      "P=100000.#Power supplied to transformer(in VA)\n",
      "f=50.#Frequency(in hertz)\n",
      "V_1=11000.#Primary side voltage(in volts)\n",
      "V_2=433.#Secondary side voltage(in volts)\n",
      "k=0.45\n",
      "B=1.65#Maximum flux density(in tesla)\n",
      "k_w=0.28\n",
      "i_d=2.5#Current density(in A/mm**2)\n",
      "E=k*math.sqrt(P/1000.)\n",
      "print '%s %.1f' %('(a)Voltage per turn(in volts)=',E)\n",
      "A_1=E*(10.**6.)/(4.44*f*B)\n",
      "print '%s %.f' %('(b)Cross sectional area of core(in mm**2)=',A_1)\n",
      "I_1=P/(3*V_1)\n",
      "a_1=I_1/i_d\n",
      "print '%s %.2f' %('(c)Cross sectional area of conductor in h.v winding(in mm**2)=',a_1)\n",
      "n_1=V_1/E\n",
      "print '%s %.f' %('(d)Number of turns per phase in h.v winding(in mm**2)=',n_1)\n",
      "I_2=P/((3**0.5)*V_2)\n",
      "a_2=I_2/i_d\n",
      "print '%s %.1f' %('(e)Cross sectional area of conductor in l.v winding(in mm**2)=',a_2)\n",
      "v=V_2/(3.**0.5)\n",
      "n_2=v/E\n",
      "print '%s %.f' %('(f)Number of turns in l.v winding=',n_2)\n",
      "A_w=(P*(10.**6.))/(3.33*f*A_1*k_w*i_d*B)\n",
      "print '%s %.f' %('(g)Window Area(in mm**2)=',A_w)\n",
      "Cu=2*((a_1*n_1)+(a_2*n_2))\n",
      "print '%s %.f' %('Copper used in window area(in mm**2)=',Cu)"
     ],
     "language": "python",
     "metadata": {},
     "outputs": [
      {
       "output_type": "stream",
       "stream": "stdout",
       "text": [
        "(a)Voltage per turn(in volts)= 4.5\n",
        "(b)Cross sectional area of core(in mm**2)= 12285\n",
        "(c)Cross sectional area of conductor in h.v winding(in mm**2)= 1.21\n",
        "(d)Number of turns per phase in h.v winding(in mm**2)= 2444\n",
        "(e)Cross sectional area of conductor in l.v winding(in mm**2)= 53.3\n",
        "(f)Number of turns in l.v winding= 56\n",
        "(g)Window Area(in mm**2)= 42328\n",
        "Copper used in window area(in mm**2)= 11852\n"
       ]
      }
     ],
     "prompt_number": 2
    }
   ],
   "metadata": {}
  }
 ]
}