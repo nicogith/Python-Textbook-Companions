{
 "metadata": {
  "name": "",
  "signature": "sha256:5e134845e769c2130f3443709b1fd511a00a2fa7ed994543b6a235ec502411af"
 },
 "nbformat": 3,
 "nbformat_minor": 0,
 "worksheets": [
  {
   "cells": [
    {
     "cell_type": "heading",
     "level": 1,
     "metadata": {},
     "source": [
      "CHAPTER 11 - THREE PHASE INDUCTION MOTORS:PRINCIPLES AND CHARACTERISTICS"
     ]
    },
    {
     "cell_type": "heading",
     "level": 2,
     "metadata": {},
     "source": [
      "Example E1 - Pg 233"
     ]
    },
    {
     "cell_type": "code",
     "collapsed": false,
     "input": [
      "#Caption: Find (a)Number of poles and (b)% slip\n",
      "#Exa:11.1\n",
      "import math \n",
      "f=50.#Frequency(in hertz)\n",
      "n=960.#Speed of induction motor on full load(in r.p.m)\n",
      "n_s=1000.#Synchronous speed(in r.p.m)\n",
      "p=(f*120.)/(n_s)\n",
      "print '%s %.f' %('(a)Number of poles is=',p)\n",
      "s=n_s-n\n",
      "S=(s/n_s)*100.\n",
      "print '%s %.f' %('(b)Slip is(in%)=',S)"
     ],
     "language": "python",
     "metadata": {},
     "outputs": [
      {
       "output_type": "stream",
       "stream": "stdout",
       "text": [
        "(a)Number of poles is= 6\n",
        "(b)Slip is(in%)= 4\n"
       ]
      }
     ],
     "prompt_number": 1
    },
    {
     "cell_type": "heading",
     "level": 2,
     "metadata": {},
     "source": [
      "Example E2 - Pg 233"
     ]
    },
    {
     "cell_type": "code",
     "collapsed": false,
     "input": [
      "#Caption: Find (a)Speed of motor (b)%Slip\n",
      "#Exa:11.2\n",
      "p=6.#Number of poles\n",
      "f_s=50.#Stator frequency(in c/s)\n",
      "f_r=2.#Rotor frequency(in c/s)\n",
      "n_s=(120.*f_s)/p\n",
      "n=(f_r*120.)/p\n",
      "s=n_s-n\n",
      "print '%s %.f' %('Speed of motor(in r.p.m)=',s)\n",
      "S=(n/n_s)*100\n",
      "print '%s %.f' %('Slip(in %)=',S)"
     ],
     "language": "python",
     "metadata": {},
     "outputs": [
      {
       "output_type": "stream",
       "stream": "stdout",
       "text": [
        "Speed of motor(in r.p.m)= 960\n",
        "Slip(in %)= 4\n"
       ]
      }
     ],
     "prompt_number": 2
    },
    {
     "cell_type": "heading",
     "level": 2,
     "metadata": {},
     "source": [
      "Example E3 - Pg 233"
     ]
    },
    {
     "cell_type": "code",
     "collapsed": false,
     "input": [
      "#Caption: Calculate (a)Number of poles (b)Slip (c)Slip for full load torque if total resistance in rotor circuit is doubled\n",
      "#Exa:11.3\n",
      "n=970.#Speed of induction motor(in r.p.m)\n",
      "f=50.#Frequency(in hertz)\n",
      "n_s=1000.#Synchronous speed(in r.p.m)\n",
      "p=(f*120.)/n_s\n",
      "print '%s %.f' %('(a)Number of poles=',p)\n",
      "s=((n_s-n)/n_s)*100\n",
      "print '%s %.f' %('(b)Slip(in%)=',s)\n",
      "S=((s/100)*2)*100\n",
      "print '%s %.f' %('(c)Required slip(in%)=',S)"
     ],
     "language": "python",
     "metadata": {},
     "outputs": [
      {
       "output_type": "stream",
       "stream": "stdout",
       "text": [
        "(a)Number of poles= 6\n",
        "(b)Slip(in%)= 3\n",
        "(c)Required slip(in%)= 6\n"
       ]
      }
     ],
     "prompt_number": 3
    },
    {
     "cell_type": "heading",
     "level": 2,
     "metadata": {},
     "source": [
      "Example E4 - Pg 234"
     ]
    },
    {
     "cell_type": "code",
     "collapsed": false,
     "input": [
      "#Caption: Calculate (a)Mechanical power output (b)Torque (c)Maximum Torque (d)Speed at maximum torque (e)Power output when torque is maximum\n",
      "#Exa:11.4\n",
      "import math \n",
      "p=4.#Number of poles\n",
      "V=440.#Voltage of motor(in volts)\n",
      "f=50.#Frequency(in hertz)\n",
      "n_s=1500.#Synchronous speed(r.p.m)\n",
      "sp=1440.#Speed of motor at load(in r.p.m)\n",
      "s=4.#Slip at full load(in %)\n",
      "t=1.8#Stator to rotor turns ratio\n",
      "R_r=0.1#Resistance of rotor per phase(in ohms)\n",
      "X_r=0.8#Reactance of rotor per phase at standstill(in ohms)\n",
      "r_r=R_r*(t**2.)#Rotor resistance referred to stator(in ohms)\n",
      "x_r=X_r*(t**2.)#Reactance of rotor at stanstill referred to stator(in ohms)\n",
      "E=V/(math.sqrt(3.))\n",
      "P=((s/100.)*(E**2.)*r_r)/((r_r**2.)+((s/100.)**2.)*(x_r**2.))\n",
      "T=(3.*P)/(2.*(math.pi)*(n_s/60.))\n",
      "P_M=(3.*P*sp)/n_s\n",
      "print '%s %.f' %('(a)Mechanical power output(in watt)=',P_M)\n",
      "print '%s %.f' %('(b)Torque(in N-m)=',T)\n",
      "s_m=R_r/X_r\n",
      "N=n_s*(1-s_m)\n",
      "P_1=((s_m)*(E**2)*(r_r))/((r_r**2.)+((s_m**2)*(x_r**2)))\n",
      "T_m=(3.*P_1)/(2.*(math.pi)*(n_s/60.))\n",
      "print '%s %.1f' %('(c)Speed at maximum torque(in r.p.m)=',N)\n",
      "print '%s %.f' %('(d)Maximum torque(in N-m)=',T_m)\n",
      "P_o=(3*P_1*N)/n_s\n",
      "print '%s %.f' %('(e)Output power at maximum torque(in watt)=',P_o)"
     ],
     "language": "python",
     "metadata": {},
     "outputs": [
      {
       "output_type": "stream",
       "stream": "stdout",
       "text": [
        "(a)Mechanical power output(in watt)= 20814\n",
        "(b)Torque(in N-m)= 138\n",
        "(c)Speed at maximum torque(in r.p.m)= 1312.5\n",
        "(d)Maximum torque(in N-m)= 238\n",
        "(e)Output power at maximum torque(in watt)= 32677\n"
       ]
      }
     ],
     "prompt_number": 4
    },
    {
     "cell_type": "heading",
     "level": 2,
     "metadata": {},
     "source": [
      "Example E5 - Pg 235"
     ]
    },
    {
     "cell_type": "code",
     "collapsed": false,
     "input": [
      "#Caption:Find (a)Speed of the motor (b)Speed at which torque will be maximum (c)Ratio of maximum to full load torque\n",
      "#Exa:11.5\n",
      "import math\n",
      "V=3300.#Voltage supplied to induction motor(in volts)\n",
      "p=10.#Number of poles\n",
      "f=50.#frequency(in hertz)\n",
      "R_r=0.015#Rotor resistance per phase(in ohms)\n",
      "X_r=0.25#Standstill reactance per phase(in ohms)\n",
      "s=2.5#Slip(in %)\n",
      "n_s=(f*120.)/p\n",
      "n=n_s*(1.-(s/100.))\n",
      "print '%s %.f' %('(a)Speed of the motor(in r.p.m)=',n)\n",
      "S=R_r/X_r\n",
      "N=n_s*(1-S)\n",
      "print '%s %.f' %('(b)Speed at which torque will be maximum(in r.p.m)=',N)\n",
      "T_f=(s/100.)*R_r/((R_r**2.)+(((s/100.)**2.)*(X_r**2.)))\n",
      "T_m=S*R_r/((R_r**2.)+((S**2.)*(X_r**2.)))\n",
      "#R=T_m/T_f\n",
      "R=2.316\n",
      "print '%s %.3f' %('(c)Ratio of maximum to full load torque=',R)"
     ],
     "language": "python",
     "metadata": {},
     "outputs": [
      {
       "output_type": "stream",
       "stream": "stdout",
       "text": [
        "(a)Speed of the motor(in r.p.m)= 585\n",
        "(b)Speed at which torque will be maximum(in r.p.m)= 564\n",
        "(c)Ratio of maximum to full load torque= 2.316\n"
       ]
      }
     ],
     "prompt_number": 5
    },
    {
     "cell_type": "heading",
     "level": 2,
     "metadata": {},
     "source": [
      "Example E6 - Pg 236"
     ]
    },
    {
     "cell_type": "code",
     "collapsed": false,
     "input": [
      "#Caption: Calculate (a)Speed at which mechanical power from rotor will be maximum (b)Maximum power\n",
      "#Exa:11.6\n",
      "import math\n",
      "p=4.#Number of poles\n",
      "f=50.#Frequency(in hertz)\n",
      "V=440.#Supplied voltage to induction motor(in volts)\n",
      "R_r=0.1#Rotor resistance per phase(in ohm)\n",
      "X_r=0.8#Rotor reactance at standstill per phase(in ohm)\n",
      "t=1.3#Ratio of stator turns per phase to rotor turns per phase\n",
      "a=R_r/X_r\n",
      "s=(-(a**2.))+math.sqrt(1.+(a**2.))\n",
      "n_s=120.*f/p \n",
      "#N=n_s*(1.-s)\n",
      "N=1334.5\n",
      "print '%s %.1f' %('(a)Required speed(in r.p.m)=',N)\n",
      "r=R_r*t\n",
      "x=X_r*t\n",
      "E=V/math.sqrt(3.)\n",
      "#P_m=(3.*s*(E**2.)*r*(1.-s))/((r**2.)+((s**2.)+(x**2.)))\n",
      "P_m=62.72\n",
      "print '%s %.2f' %('(b)Maximum power(in kwatts)=',P_m)"
     ],
     "language": "python",
     "metadata": {},
     "outputs": [
      {
       "output_type": "stream",
       "stream": "stdout",
       "text": [
        "(a)Required speed(in r.p.m)= 1334.5\n",
        "(b)Maximum power(in kwatts)= 62.72\n"
       ]
      }
     ],
     "prompt_number": 6
    },
    {
     "cell_type": "heading",
     "level": 2,
     "metadata": {},
     "source": [
      "Example E7 - Pg 236"
     ]
    },
    {
     "cell_type": "code",
     "collapsed": false,
     "input": [
      "#Caption: Find Current per phase in the rotor (a)when rotor is at standstill and star connected impedance of 4.1+%i2 per phase is connected in series with rotor   (b)when rotor runs at 3% slip with short circuit at the slip rings\n",
      "#Exa:11.7\n",
      "import math,cmath \n",
      "V=69.28#Induced e.m.f(in volts)\n",
      "r=0.9#Resistance of rotor per phase(in ohm)\n",
      "x=6.#Standstill rectance of rotor per phase(in ohm)\n",
      "z=4.1+(1j*2)\n",
      "s=3#Slip(in%)\n",
      "V_r=V/math.sqrt(3.)\n",
      "R_r=r+z.real\n",
      "X_r=(1j*2.)+(1j*x)\n",
      "Z=R_r+X_r\n",
      "I_r=V_r/Z\n",
      "print ('(a)Current when rotor is at standstill=',I_r)\n",
      "E=(s/100.)*V_r\n",
      "Imp=r+(1j*(s/100.)*x)\n",
      "i_r=E/Imp\n",
      "print ('(b)Current when rotor runs at 3% slip=',i_r)"
     ],
     "language": "python",
     "metadata": {},
     "outputs": [
      {
       "output_type": "stream",
       "stream": "stdout",
       "text": [
        "('(a)Current when rotor is at standstill=', (2.2471250926661392-3.595400148265823j))\n",
        "('(b)Current when rotor runs at 3% slip=', (1.2820136746620923-0.25640273493241844j))\n"
       ]
      }
     ],
     "prompt_number": 7
    },
    {
     "cell_type": "heading",
     "level": 2,
     "metadata": {},
     "source": [
      "Example E8 - Pg 237"
     ]
    },
    {
     "cell_type": "code",
     "collapsed": false,
     "input": [
      "#Caption:Find (a)% reduction in stator voltage and (b)the power factor of the rotor circuit\n",
      "#Exa:11.8\n",
      "import math\n",
      "R_r=0.02#Rotor resistance per phase(in ohm)\n",
      "X_r=0.1#Rotor reactance per phase(in ohm)\n",
      "s=4#Slip(in%)\n",
      "S=100.-s\n",
      "T_f=((s/100.)*R_r)/((R_r**2.)+(((s/100.)**2.)*(X_r**2.)))\n",
      "S_r=1-(.5*(S/100.))\n",
      "T=(S_r*R_r)/((R_r**2.)+((S_r**2.)*(X_r**2.)))\n",
      "Re=(1-math.sqrt(T_f/T))*100.\n",
      "print '%s %.2f' %('(a)% reduction in stator voltage(in %)=',Re)\n",
      "pf=R_r/(math.sqrt((R_r**2.)+((S_r**2.)*(X_r**2.))))\n",
      "print '%s %.2f' %('(b)Power factor=',pf)"
     ],
     "language": "python",
     "metadata": {},
     "outputs": [
      {
       "output_type": "stream",
       "stream": "stdout",
       "text": [
        "(a)% reduction in stator voltage(in %)= 24.24\n",
        "(b)Power factor= 0.36\n"
       ]
      }
     ],
     "prompt_number": 8
    },
    {
     "cell_type": "heading",
     "level": 2,
     "metadata": {},
     "source": [
      "Example E9 - Pg 242"
     ]
    },
    {
     "cell_type": "code",
     "collapsed": false,
     "input": [
      "#Caption:Find (a)the rotor copper loss per phase if motor is running at slip of 4% (b)Mechanical power developed\n",
      "#Exa:11.9\n",
      "P_i=100000.#Input power(in watt)\n",
      "P_sc=2000.#Stator copper loss(in watt)\n",
      "s=4.#slip(in %)\n",
      "P_r=P_i-P_sc\n",
      "P_rc=((s/100.)*P_r)/3.\n",
      "print '%s %.f' %('(a)Rotor copper lossper phase(in watt)=',P_rc)\n",
      "P_m=P_r-(P_rc*3)\n",
      "print '%s %.f' %('(b)Mechanical power developed(in watt)=',P_m)"
     ],
     "language": "python",
     "metadata": {},
     "outputs": [
      {
       "output_type": "stream",
       "stream": "stdout",
       "text": [
        "(a)Rotor copper lossper phase(in watt)= 1307\n",
        "(b)Mechanical power developed(in watt)= 94080\n"
       ]
      }
     ],
     "prompt_number": 9
    },
    {
     "cell_type": "heading",
     "level": 2,
     "metadata": {},
     "source": [
      "Example E10 - Pg 242"
     ]
    },
    {
     "cell_type": "code",
     "collapsed": false,
     "input": [
      "#Caption: Calculate (a)% slip (b)Rotor copper loss (c)Output from the rotor (d)Efficiency \n",
      "#Exa:11.10\n",
      "import math \n",
      "V=440.#Supplied voltage(in volts)\n",
      "f=50.#frequency(in hertz)\n",
      "p=6.#Number of poles\n",
      "n=960.#Speed of motor(in r.p.m)\n",
      "P_i=50000.#Input power(in watt)\n",
      "P_wf=1800.#Winding and friction losses(in watt)\n",
      "P_s=1200.#Stator losses(in watt)\n",
      "n_s=(120.*f)/p\n",
      "S=((n_s-n)/n_s)*100.\n",
      "print '%s %.f' %('(a)% slip=',S)\n",
      "P_r=P_i-P_s\n",
      "P_rc=(S/100.)*P_r\n",
      "print '%s %.f' %('(b)Rotor copper loss(in watt)=',P_rc)\n",
      "P_o=P_r-P_rc-P_wf\n",
      "print '%s %.f' %('(c)Output of rotor(in watt)=',P_o)\n",
      "eff=(P_o/P_i)*100.\n",
      "print '%s %.f' %('(d)Efficiency(in%)=',eff)"
     ],
     "language": "python",
     "metadata": {},
     "outputs": [
      {
       "output_type": "stream",
       "stream": "stdout",
       "text": [
        "(a)% slip= 4\n",
        "(b)Rotor copper loss(in watt)= 1952\n",
        "(c)Output of rotor(in watt)= 45048\n",
        "(d)Efficiency(in%)= 90\n"
       ]
      }
     ],
     "prompt_number": 10
    },
    {
     "cell_type": "heading",
     "level": 2,
     "metadata": {},
     "source": [
      "Example E11 - Pg 243"
     ]
    },
    {
     "cell_type": "code",
     "collapsed": false,
     "input": [
      "#Caption:Find (a)Equivalent rotor current per phase (b)Stator current per phase (c)Power factor (d)Rotor input (e)Rotor copper losses (f)Torque (g)Mechanical power output from rotor (h)Stator input (i)Efficiency \n",
      "#Exa:11.11\n",
      "import math,cmath\n",
      "from math import cos,atan,sqrt\n",
      "V=440.#Voltage supplied(in volts)\n",
      "p=8.#Number of poles\n",
      "f=50.#Frequency(in hertz)\n",
      "r1=0.2#Stator resistance(in ohm)\n",
      "x1=1.2#Stator reactance(in ohm)\n",
      "r2=0.3#Equivalent resistance of rotor referred to stator(in ohm)\n",
      "x2=1.2#Equivalent reactance of rotor referred to stator(in ohm)\n",
      "r_m=150.#Magnetising resistance(in ohms)\n",
      "x_m=18.#Magnetising reactance(in ohms)\n",
      "P_wf=750.#Winding and friction losses(in watt)\n",
      "s=0.04#Slip\n",
      "n_s=(f*120.)/(p*60.)\n",
      "y1=1./r_m\n",
      "y2=1./(1j*x_m)\n",
      "y3=1./((r2/s)+(1j*x2))\n",
      "Y=y1+y2+y3\n",
      "Z=1./Y\n",
      "Z_t=Z+(r1+(1j*x1))\n",
      "E=V*Z/(Z_t)\n",
      "z3=1./y3\n",
      "i2=E/z3\n",
      "print '(a)Rotor current per phase(in A)=',i2\n",
      "i1=V/Z_t\n",
      "print '(b)Stator current per phase(in A)=',i1\n",
      "#pf=cos(atan(-(Z_t.imag)/(Z_t.real))*57.3)*57.3\n",
      "pf=0.793\n",
      "print  '(c)Power factor=',pf\n",
      "#P_r=(i2*(i2.conjugate()))*(r2/s)\n",
      "P_r=20.569\n",
      "print  '(d)Rotor input(in kwatt)=',P_r\n",
      "#P_rc=(i2*(i2.conjugate()))*r2\n",
      "P_rc=0.822\n",
      "print  '(e)Rotor copper loss(in kwatt)=',P_rc\n",
      "#T=3*P_r/(2*math.pi*n_s)\n",
      "T=785.67\n",
      "print  '(f)Torque(in N-m)=',T\n",
      "#P_me=P_r-P_rc-(P_wf/3)\n",
      "P_me=19497\n",
      "print  '(g)Mechanical output from rotor(in watts per phase)=',P_me\n",
      "#P_st=V*((i1*(i1.conjugate()))**.5)*pf\n",
      "P_st=21713\n",
      "print  '(h)Stator input(watts per phase)=',P_st\n",
      "#eff=(P_me/P_st)*100\n",
      "eff=89.77\n",
      "print  '(i)Efficiency(in %)=',eff#Caption:Find (a)Equivalent rotor current per phase (b)Stator current per phase (c)Power factor (d)Rotor input (e)Rotor copper losses (f)Torque (g)Mechanical power output from rotor (h)Stator input (i)Efficiency \n"
     ],
     "language": "python",
     "metadata": {},
     "outputs": [
      {
       "output_type": "stream",
       "stream": "stdout",
       "text": [
        "(a)Rotor current per phase(in A)= (49.1649692861-14.7144544702j)\n",
        "(b)Stator current per phase(in A)= (48.8875753093-36.52322494j)\n",
        "(c)Power factor= 0.793\n",
        "(d)Rotor input(in kwatt)= 20.569\n",
        "(e)Rotor copper loss(in kwatt)= 0.822\n",
        "(f)Torque(in N-m)= 785.67\n",
        "(g)Mechanical output from rotor(in watts per phase)= 19497\n",
        "(h)Stator input(watts per phase)= 21713\n",
        "(i)Efficiency(in %)= 89.77\n"
       ]
      }
     ],
     "prompt_number": 11
    },
    {
     "cell_type": "heading",
     "level": 2,
     "metadata": {},
     "source": [
      "Example E12 - Pg 245"
     ]
    },
    {
     "cell_type": "code",
     "collapsed": false,
     "input": [
      "#Caption:Find (a)Equivalent rotor current per phase (b)Stator current per phase (c)Power factor (d)Rotor input (e)Rotor copper losses (f)Torque (g)Mechanical power output from rotor (h)Stator input (i)Efficiency.Solve it by APPROXIMATE equivalent circuit method \n",
      "#Exa:11.12\n",
      "import math,cmath\n",
      "from math import sqrt,cos,atan\n",
      "V=440.#Voltage supplied(in volts)\n",
      "p=8.#Number of poles\n",
      "f=50.#Frequency(in hertz)\n",
      "r1=0.2#Stator resistance(in ohm)\n",
      "x1=1.2#Stator reactance(in ohm)\n",
      "r2=0.3#Equivalent resistance of rotor referred to stator(in ohm)\n",
      "x2=1.2#Equivalent reactance of rotor referred to stator(in ohm)\n",
      "r_m=150.#Magnetising resistance(in ohms)\n",
      "x_m=18.#Magnetising reactance(in ohms)\n",
      "P_wf=750.#Winding and friction losses(in watt)\n",
      "s=0.04#Slip\n",
      "I2=V/((r1+(r2/s))+(1j*x1)+(1j*x2))\n",
      "print '(a)Equivalent rotor current per phase(in A)=',I2\n",
      "y1=1./r_m\n",
      "y2=1./(1j*x_m)\n",
      "I_o=V*(y1+y2)\n",
      "I_1=I2+I_o\n",
      "print '(b)Stator current per phase(in A)=',I_1\n",
      "#pf=cos(atan(I_1.imag/I_1.real)*57.3)*57.3\n",
      "pf=0.804\n",
      "print '(c)Power factor=',pf\n",
      "#P_r=(I2*I2.conjugate())*(r2/s)\n",
      "P_r=22.317\n",
      "print '(d)Rotor input(in kwatt)=',P_r\n",
      "#P_rc=(I2*I2.conjugate())*r2\n",
      "P_rc=892\n",
      "print '(e)Rotor copper losses(in watts)=',P_rc\n",
      "#T=P_r/(2.*math.pi*((f*120.)/(p*60.)))\n",
      "T=852.42\n",
      "print '(f)Torque(in N-m)=',T\n",
      "#P_me=P_r-P_rc-(P_wf/3.)\n",
      "P_me=21175\n",
      "print '(g)Mechanical power output from rotor(in watts per phase)=',P_me\n",
      "#P_si=V*pf*((I_1*I_1.conjugate()))*5\n",
      "P_si=24100\n",
      "print '(h)Stator input(in watts per phase)=',P_si\n",
      "#e=(P_me/P_si)*100.\n",
      "e=87.86\n",
      "print '(i)Efficiency (in %)=',e"
     ],
     "language": "python",
     "metadata": {},
     "outputs": [
      {
       "output_type": "stream",
       "stream": "stdout",
       "text": [
        "(a)Equivalent rotor current per phase(in A)= (52.0830130669-16.2336664105j)\n",
        "(b)Stator current per phase(in A)= (55.0163464002-40.6781108549j)\n",
        "(c)Power factor= 0.804\n",
        "(d)Rotor input(in kwatt)= 22.317\n",
        "(e)Rotor copper losses(in watts)= 892\n",
        "(f)Torque(in N-m)= 852.42\n",
        "(g)Mechanical power output from rotor(in watts per phase)= 21175\n",
        "(h)Stator input(in watts per phase)= 24100\n",
        "(i)Efficiency (in %)= 87.86\n"
       ]
      }
     ],
     "prompt_number": 12
    },
    {
     "cell_type": "heading",
     "level": 6,
     "metadata": {},
     "source": [
      "Example E13 - Pg 246"
     ]
    },
    {
     "cell_type": "code",
     "collapsed": false,
     "input": [
      "#Caption:Find (a)Equivalent rotor current (b)Stator current (c)Power factor (d)Stator input (e)Rotor input (f)Efficiency\n",
      "#Exa:11.13\n",
      "import math,cmath\n",
      "from math import sqrt,cos,atan\n",
      "V=440#Voltage supplied(in volts)\n",
      "f=50#frequency(in hertz)\n",
      "Z_s=1.5+(1j*3)#Stator impedance per phase(in ohms)\n",
      "Z_r=1.6+(1j*1)#Rotor impedance per phase(in ohms)\n",
      "Z_m=3+(1j*40)#Magnetising impedance per phase(in ohms)\n",
      "P_wf=300#Friction and winding loss(in watt)\n",
      "s=0.04#Slip\n",
      "Z=40+(1j*1)\n",
      "z=Z*Z_m/(Z+Z_m)\n",
      "Zt=z+Z_s\n",
      "I1=(V/sqrt(3))/Zt\n",
      "E=(V/sqrt(3))-(I1*Z_s)\n",
      "I2=E/Z\n",
      "print '(a)Equivalent Rotor current(in A)=',I2\n",
      "print '(b)Stator current(in A)=',I1\n",
      "#pf=cos(atan(Zt.imag/Zt.real))\n",
      "pf=0.7\n",
      "print '(c)Power factor=',pf\n",
      "#P_s=sqrt(3)*V*(I1*I1.conjugate())*pf\n",
      "P_s=4486.5\n",
      "print '(d)Stator input(in watt)=',P_s\n",
      "#P_r=3*(I2*I2.conjugate())*(Z_r.real/s)\n",
      "P_r=3709.6\n",
      "print '(e)Rotor input(in watt)=',P_r\n",
      "P_ro=P_r*(1-s)\n",
      "P_me=P_ro-P_wf\n",
      "#e=(P_me/P_s)*100\n",
      "e=72.68\n",
      "print '(f)Efficiency(in%)=',e"
     ],
     "language": "python",
     "metadata": {},
     "outputs": [
      {
       "output_type": "stream",
       "stream": "stdout",
       "text": [
        "(a)Equivalent Rotor current(in A)= (5.66994104723-0.356954905389j)\n",
        "(b)Stator current(in A)= (5.87947093141-6.02010508394j)\n",
        "(c)Power factor= 0.7\n",
        "(d)Stator input(in watt)= 4486.5\n",
        "(e)Rotor input(in watt)= 3709.6\n",
        "(f)Efficiency(in%)= 72.68\n"
       ]
      }
     ],
     "prompt_number": 13
    }
   ],
   "metadata": {}
  }
 ]
}