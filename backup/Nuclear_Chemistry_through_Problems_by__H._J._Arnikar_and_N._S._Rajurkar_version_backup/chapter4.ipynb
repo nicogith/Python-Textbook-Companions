{
 "cells": [
  {
   "cell_type": "markdown",
   "metadata": {},
   "source": [
    "# chapter 4:radio activity"
   ]
  },
  {
   "cell_type": "markdown",
   "metadata": {},
   "source": [
    "##example 4.1;pg no:55"
   ]
  },
  {
   "cell_type": "code",
   "execution_count": 1,
   "metadata": {
    "collapsed": false
   },
   "outputs": [
    {
     "name": "stdout",
     "output_type": "stream",
     "text": [
      "Example 4.1, Page:55  \n",
      " \n",
      "\n",
      "The value of avagadro constant in 10^23 atoms per mole= 6.05\n"
     ]
    }
   ],
   "source": [
    "#cal of  value of avagadro constant\n",
    "#intiation of all variables\n",
    "# Chapter 4\n",
    "print\"Example 4.1, Page:55  \\n \\n\"\n",
    "#Given:\n",
    "t1=1600;# in year\n",
    "a=11.6*10**17;# atoms\n",
    "# Solution:\n",
    "k=0.693/t1;# year^-1\n",
    "L=(a*226)/k;# atomic mass of Radon is 226\n",
    "print\"The value of avagadro constant in 10^23 atoms per mole=\",round(L/10**23,2)"
   ]
  },
  {
   "cell_type": "markdown",
   "metadata": {},
   "source": [
    "##example 4.2;pg no:55"
   ]
  },
  {
   "cell_type": "code",
   "execution_count": 2,
   "metadata": {
    "collapsed": false
   },
   "outputs": [
    {
     "name": "stdout",
     "output_type": "stream",
     "text": [
      "Example 4.2, Page:55  \n",
      " \n",
      "\n",
      "The specific activity in dis min^-1 g^-1= 1813.0\n"
     ]
    }
   ],
   "source": [
    "#cal of specific activity\n",
    "#intiation of all variables\n",
    "# Chapter 4\n",
    "print\"Example 4.2, Page:55  \\n \\n\"\n",
    "# Given:\n",
    "t1=1.3*10**9;# in years\n",
    "w=0.0119;# wt %\n",
    "\n",
    "# Solution:\n",
    "N=(w*6.022*10**23)/(40*100);\n",
    "k=(0.693*60)/(t1*3.16*10**7);\n",
    "sa=N*k;# specific activity\n",
    "print\"The specific activity in dis min^-1 g^-1=\",round(sa)"
   ]
  },
  {
   "cell_type": "markdown",
   "metadata": {},
   "source": [
    "##example 4.3;pg no:55"
   ]
  },
  {
   "cell_type": "code",
   "execution_count": 3,
   "metadata": {
    "collapsed": false
   },
   "outputs": [
    {
     "name": "stdout",
     "output_type": "stream",
     "text": [
      "Example 4.3, Page:55  \n",
      " \n",
      "\n",
      " The no. of atoms of Na(24) are = 2.88311688312e+12\n",
      " The mass of Na(24) is * 10^-10 g 1.15\n",
      "The no. of atoms of P(32) are = 6.59657142857e+13\n",
      "The mass of P(32) is * 10^-9 g 3.51\n",
      "The no. of atoms of Ra(226) are = 2.69945165945e+18\n",
      "The mass of Ra(226) is * 10^-3 g 1.01\n"
     ]
    }
   ],
   "source": [
    "#cal of no. of atoms,mass of Na,P,Ra \n",
    "#intiation of all variables\n",
    "# Chapter 4\n",
    "print\"Example 4.3, Page:55  \\n \\n\"\n",
    "# Given:\n",
    "L=6.022*10**23;\n",
    "# Solution:\n",
    "# 1 mCi= 3.7*10^7 dis/s\n",
    "k1=0.693/(15*3600);\n",
    "N1=3.7*10**7/k1;\n",
    "m1=(24*N1*10**10)/L;\n",
    "print\" The no. of atoms of Na(24) are =\",round(N1,2)\n",
    "print\" The mass of Na(24) is * 10^-10 g\",round(m1,2)\n",
    "k2=0.693/(14.3*24*3600);\n",
    "N2=3.7*10**7/k2;\n",
    "m2=(32*N2*10**9)/L;\n",
    "print\"The no. of atoms of P(32) are =\",round(N2,2)\n",
    "print\"The mass of P(32) is * 10^-9 g\",round(m2,2)\n",
    "k3=0.693/(1600*3.16*10**7);\n",
    "N3=3.7*10**7/k3;\n",
    "m3=(226*N3*10**3)/L;\n",
    "print\"The no. of atoms of Ra(226) are =\",round(N3,2)\n",
    "print\"The mass of Ra(226) is * 10^-3 g\",round(m3,2)"
   ]
  },
  {
   "cell_type": "markdown",
   "metadata": {},
   "source": [
    "##example 4.4;pg no:56"
   ]
  },
  {
   "cell_type": "code",
   "execution_count": 4,
   "metadata": {
    "collapsed": false
   },
   "outputs": [
    {
     "name": "stdout",
     "output_type": "stream",
     "text": [
      "Example 4.4, Page:56  \n",
      " \n",
      "\n",
      "The activity in Ci/cm^3 = 2.59\n"
     ]
    }
   ],
   "source": [
    "#cal of activity\n",
    "#intiation of all variables\n",
    "# Chapter 4\n",
    "print\"Example 4.4, Page:56  \\n \\n\"\n",
    "# Given:\n",
    "t1=12.3;# in yrs\n",
    "L=6.022*10**23;\n",
    "# Solution:\n",
    "k=.693/(t1*3.16*10**7);# in s^-1\n",
    "A=(2*L)/(2.24*10**4);# no. of atoms\n",
    "a1=A*k;# dis per s\n",
    "a=a1/(3.7*10**10);# activity in Ci/cm^3\n",
    "print\"The activity in Ci/cm^3 =\",round(a,2)"
   ]
  },
  {
   "cell_type": "markdown",
   "metadata": {},
   "source": [
    "##example 4.5;pg no:56"
   ]
  },
  {
   "cell_type": "code",
   "execution_count": 5,
   "metadata": {
    "collapsed": false
   },
   "outputs": [
    {
     "name": "stdout",
     "output_type": "stream",
     "text": [
      "Example 4.5, Page:56  \n",
      " \n",
      "\n",
      "The ratio of C14/C12 in atmosphere in 10^-12 is = 1.4\n"
     ]
    }
   ],
   "source": [
    "#cal of ratio of C14/C12 in atmosphere\n",
    "#intiation of all variables\n",
    "# Chapter 4\n",
    "print\"Example 4.5, Page:56  \\n \\n\"\n",
    "# Given:\n",
    "t=5736;# in years\n",
    "Nk=16.1;# dis/min\n",
    "L=6.022*10**23;\n",
    "# Solution:\n",
    "k=(0.693*60)/(t*3.16*10**7);\n",
    "N1=Nk/k;# atoms per g for C14\n",
    "N2=L/12;#\n",
    "r=(N1*10**12)/N2;# ratio of C14/C12 in atmosphere\n",
    "print\"The ratio of C14/C12 in atmosphere in 10^-12 is =\",round(r,2)"
   ]
  },
  {
   "cell_type": "markdown",
   "metadata": {},
   "source": [
    "##example 4.7;pg no:57"
   ]
  },
  {
   "cell_type": "code",
   "execution_count": 6,
   "metadata": {
    "collapsed": false
   },
   "outputs": [
    {
     "name": "stdout",
     "output_type": "stream",
     "text": [
      "Example 4.7, Page:57  \n",
      " \n",
      "\n",
      "Number of alpha decays = and number of beta decays =  8 6\n"
     ]
    }
   ],
   "source": [
    "#cal of Number of alpha decays and number of beta decays\n",
    "#intiation of all variables\n",
    "# Chapter 4\n",
    "print\"Example 4.7, Page:57  \\n \\n\"\n",
    "# Given:\n",
    "dA = 206-238;\n",
    "dA_Beta=0;\n",
    "dA_Alpha = -4;\n",
    "\n",
    "dZ_Alpha = -2;\n",
    "dZ_Beta = 1;\n",
    "nBeta=0; #random initialisation\n",
    "dZ = 82 -92;\n",
    "# Solution:\n",
    "nAlpha = (dA- (dA_Beta* nBeta))/dA_Alpha;\n",
    "\n",
    "nBeta = (dZ- (dZ_Alpha * nAlpha))/dZ_Beta;\n",
    "\n",
    "print\"Number of alpha decays = and number of beta decays = \",nAlpha,nBeta"
   ]
  },
  {
   "cell_type": "markdown",
   "metadata": {},
   "source": [
    "##example 4.8;pg no:57"
   ]
  },
  {
   "cell_type": "code",
   "execution_count": 7,
   "metadata": {
    "collapsed": false
   },
   "outputs": [
    {
     "name": "stdout",
     "output_type": "stream",
     "text": [
      "Example 4.8, Page:57  \n",
      " \n",
      "\n",
      "\n",
      " For first photon, dE1= MeV, dI1=, since EL/ML1= & (L+PI+PF) is odd, M3 0.059 -3 5\n",
      "\n",
      " For second photon, dE2= MeV, dI2=,since  EL/ML2= & (L+PI+PF) is even, E2 1.17 2 4\n",
      "\n",
      " For third photon, dE3= MeV, d3I=, since EL/ML3= & (L+PI+PF) is even, E2 1.33 2 4\n"
     ]
    }
   ],
   "source": [
    "#cal of energy\n",
    "#intiation of all variables\n",
    "# Chapter 4\n",
    "print\"Example 4.8, Page:57  \\n \\n\"\n",
    "# Given:\n",
    "E1=0.059;\n",
    "E2=2.5;\n",
    "E3=1.33;\n",
    "Ei=0;\n",
    "Ef=0;\n",
    "\n",
    "# Solution:\n",
    "# delta E for 1,2 & 3 photon \n",
    "dE1=E1-Ei;\n",
    "dE2=E2-E3;\n",
    "dE3=E3-Ef;\n",
    "# delta I for 1,2 & 3 photon \n",
    "dI1=2-5;\n",
    "dI2=4-2;\n",
    "dI3=2-0;\n",
    "# EL/ML for 1,2 & 3 photon \n",
    "ELML1=3+1+1;\n",
    "ELML2=2+1+1;\n",
    "ELML3=2+1+1;\n",
    "print\"\\n For first photon, dE1= MeV, dI1=, since EL/ML1= & (L+PI+PF) is odd, M3\",dE1,dI1,ELML1\n",
    "print\"\\n For second photon, dE2= MeV, dI2=,since  EL/ML2= & (L+PI+PF) is even, E2\",dE2,dI2,ELML2\n",
    "print\"\\n For third photon, dE3= MeV, d3I=, since EL/ML3= & (L+PI+PF) is even, E2\",dE3,dI3,ELML3"
   ]
  },
  {
   "cell_type": "markdown",
   "metadata": {},
   "source": [
    "##example 4.9;pg no:58"
   ]
  },
  {
   "cell_type": "code",
   "execution_count": 8,
   "metadata": {
    "collapsed": false
   },
   "outputs": [
    {
     "name": "stdout",
     "output_type": "stream",
     "text": [
      "Example 4.9, Page:58  \n",
      " \n",
      "\n",
      "The energy that would be released for 0.1 mole of Co will be =(GJ) 24.08\n"
     ]
    }
   ],
   "source": [
    "#cal of energy\n",
    "#intiation of all variables\n",
    "# Chapter 4\n",
    "print\"Example 4.9, Page:58  \\n \\n\"\n",
    "# Given:\n",
    "E=2.5; # in MeV\n",
    "# Solution:\n",
    "# 1 Mev/atom=96.32GJ/mole\n",
    "E1=E*96.32# GJ/mole\n",
    "E2=0.1*E1;# for 0.1 mole\n",
    "print\"The energy that would be released for 0.1 mole of Co will be =(GJ)\",E2"
   ]
  },
  {
   "cell_type": "markdown",
   "metadata": {},
   "source": [
    "##example 4.10;pg no:58"
   ]
  },
  {
   "cell_type": "code",
   "execution_count": 9,
   "metadata": {
    "collapsed": false
   },
   "outputs": [
    {
     "name": "stdout",
     "output_type": "stream",
     "text": [
      "Example 4.10, Page:  \n",
      " \n",
      "\n",
      "The total energy dissipate per hour is = (KJ) 360.860029304\n"
     ]
    }
   ],
   "source": [
    "#cal of  total energy dissipated\n",
    "#intiation of all variables\n",
    "# Chapter 4\n",
    "print\"Example 4.10, Page:  \\n \\n\"\n",
    "# Given\n",
    "E=2.5;# in MeV\n",
    "# Solution:\n",
    "k=0.693/(5.27*3.16*10**7);# decay constant\n",
    "A=k*0.1*6.022*10**23;# atoms/s\n",
    "A1=3.6*10**3*A;# atoms /hr\n",
    "\n",
    "E1=A1*E*1.6*10**-13*10**-3;#Energy in KJ/hr\n",
    "\n",
    "print\"The total energy dissipate per hour is = (KJ)\",E1"
   ]
  },
  {
   "cell_type": "markdown",
   "metadata": {},
   "source": [
    "##example 4.11;pg no:59"
   ]
  },
  {
   "cell_type": "code",
   "execution_count": 11,
   "metadata": {
    "collapsed": false
   },
   "outputs": [
    {
     "name": "stdout",
     "output_type": "stream",
     "text": [
      "Example 4.11, Page:59  \n",
      " \n",
      "\n",
      "The net mass loss is = u 0.0044\n"
     ]
    }
   ],
   "source": [
    "#cal of net mass loss\n",
    "#intiation of all variables\n",
    "# Chapter 4\n",
    "print\"Example 4.11, Page:59  \\n \\n\"\n",
    "# Given:\n",
    "Ma=4.;#mass of alpha particle\n",
    "Mr=228.;# mass of Th\n",
    "Ea=4.; #in MeV\n",
    "\n",
    "\n",
    "# Solution:\n",
    "Er=(Ma/Mr)*Ea;# energy of recoil\n",
    "Et=Ea+Er;# total energy of transition\n",
    "\n",
    "dM=Et/931.;# net mass loss in u\n",
    "\n",
    "print\"The net mass loss is = u\",round(dM,4)"
   ]
  },
  {
   "cell_type": "markdown",
   "metadata": {},
   "source": [
    "##example 4.12;pg no:59"
   ]
  },
  {
   "cell_type": "code",
   "execution_count": 12,
   "metadata": {
    "collapsed": false
   },
   "outputs": [
    {
     "name": "stdout",
     "output_type": "stream",
     "text": [
      "Example 4.12, Page:59  \n",
      " \n",
      "\n",
      "For Ra emitting alpha\n",
      "\tEnergy of recoil is (MeV) 0.0876\n",
      "\tTotal transition energy is (MeV) 4.9506\n",
      "For Bi emitting alpha\n",
      "\tEnergy of recoil is (MeV) 0.117\n",
      "\tTotal transition energy is (MeV) 6.199\n"
     ]
    }
   ],
   "source": [
    "#cal of  value of avagadro constant\n",
    "#intiation of all variables\n",
    "# Chapter 4\n",
    "print\"Example 4.12, Page:59  \\n \\n\"\n",
    "# Given:\n",
    "Ma=4.;#mass of alpha particle\n",
    "Mr1=222.;# mass of \n",
    "Mr2=208.;\n",
    "Ea1=4.863;\n",
    "Ea2=6.082;\n",
    "# Solution:\n",
    "\n",
    "Er1=(Ma/Mr1)*Ea1;\n",
    "Et1=Ea1+Er1;\n",
    "print\"For Ra emitting alpha\"\n",
    "print\"\\tEnergy of recoil is (MeV)\",round(Er1,4)\n",
    "print\"\\tTotal transition energy is (MeV)\",round(Et1,4)\n",
    "Er2=(Ma/Mr2)*Ea2;\n",
    "Et2=Ea2+Er2;\n",
    "print\"For Bi emitting alpha\"\n",
    "print\"\\tEnergy of recoil is (MeV)\",round(Er2,4)\n",
    "print\"\\tTotal transition energy is (MeV)\",round(Et2,4)"
   ]
  },
  {
   "cell_type": "markdown",
   "metadata": {},
   "source": [
    "##example 4.13;pg no:60"
   ]
  },
  {
   "cell_type": "code",
   "execution_count": 13,
   "metadata": {
    "collapsed": false
   },
   "outputs": [
    {
     "name": "stdout",
     "output_type": "stream",
     "text": [
      "Example 4.13, Page:60  \n",
      " \n",
      "\n",
      "The Kinetic Energy and velocity are  MeV and  10^5 m/s respectively 0.0966 2.79\n"
     ]
    }
   ],
   "source": [
    "#cal of  Kinetic Energy and velocity\n",
    "#intiation of all variables\n",
    "# Chapter 4\n",
    "print\"Example 4.13, Page:60  \\n \\n\"\n",
    "# Given:\n",
    "import math\n",
    "dm=0.006332;# in u\n",
    "ma=4.;\n",
    "mCm=244.;\n",
    "\n",
    "# Solution:\n",
    "\n",
    "E=dm*931.;# in MeV\n",
    "KE=E*(ma/mCm); # in MeV\n",
    "v=math.sqrt((2.*KE*1.6*10.**-13.)/(240.*1.6605*10.**-27.));\n",
    "print\"The Kinetic Energy and velocity are  MeV and  10^5 m/s respectively\",round(KE,4),round(v/10**5,2)"
   ]
  },
  {
   "cell_type": "markdown",
   "metadata": {},
   "source": [
    "##example 4.14;pg no:60"
   ]
  },
  {
   "cell_type": "code",
   "execution_count": 14,
   "metadata": {
    "collapsed": false
   },
   "outputs": [
    {
     "name": "stdout",
     "output_type": "stream",
     "text": [
      "Example 4.14, Page:60  \n",
      " \n",
      "\n",
      "The range in Al for beta radiation is  mg/cm^2 using Katz and Penfold empirical equation and  mg/cm^2 using feathers relation. 784.8 795.0\n"
     ]
    }
   ],
   "source": [
    "#cal of rate of energy emission and Penfold empirical equation\n",
    "#intiation of all variables\n",
    "# Chapter 4\n",
    "print\"Example 4.14, Page:60  \\n \\n\"\n",
    "import math\n",
    "# Given:\n",
    "E0=1.7;# in MeV\n",
    "# Solution:\n",
    "# For E0<2.5 MeV; using Katz and Penfold empirical equation we have\n",
    "R1=412*((E0)**(1.265-0.0954*math.log(E0)));# mg/cm^2\n",
    "# Using feather's relation we have\n",
    "R2=530*E0-106;# mg/cm^2\n",
    "\n",
    "print\"The range in Al for beta radiation is  mg/cm^2 using Katz and Penfold empirical equation and  mg/cm^2 using feathers relation.\",round(R1,1),round(R2)\n"
   ]
  },
  {
   "cell_type": "markdown",
   "metadata": {},
   "source": [
    "##example 4.15;pg no:60"
   ]
  },
  {
   "cell_type": "code",
   "execution_count": 15,
   "metadata": {
    "collapsed": false
   },
   "outputs": [
    {
     "name": "stdout",
     "output_type": "stream",
     "text": [
      "Example 4.15, Page:61  \n",
      " \n",
      "\n",
      "The order for Case 1 is and emission is type  M2,Case 2 is and emission is type  E2,Case 3 is  and emission is type  E1,Case 4 is not possible. 2.0 3 2 4 1.0 2\n"
     ]
    }
   ],
   "source": [
    "#cal of emissions \n",
    "#intiation of all variables\n",
    "# Chapter 4\n",
    "print\"Example 4.15, Page:61  \\n \\n\"\n",
    "# Solution:\n",
    "L1=(5.5-3.5);# Case 1\n",
    "L2=2-0;# Case 2\n",
    "L3=1.5-.5;# Case 3\n",
    "ELML1=1+0+2;\n",
    "ELML2=1+1+2;\n",
    "ELML3=0+1+1;\n",
    "print\"The order for Case 1 is and emission is type  M2,Case 2 is and emission is type  E2,Case 3 is  and emission is type  E1,Case 4 is not possible.\",L1,ELML1,L2,ELML2,L3,ELML3\n"
   ]
  },
  {
   "cell_type": "markdown",
   "metadata": {},
   "source": [
    "##example 4.16;pg no:61"
   ]
  },
  {
   "cell_type": "code",
   "execution_count": null,
   "metadata": {
    "collapsed": true
   },
   "outputs": [],
   "source": [
    "#cal of  rate of energy emission\n",
    "#intiation of all variables\n",
    "# Chapter 4\n",
    "print\"Example 4.16, Page:61  \\n \\n\"\n",
    "# Given:\n",
    "m=4*10**-3;# in gms\n",
    "M=210;\n",
    "E=0.34;# in MeV\n",
    "# Solution:\n",
    "\n",
    "N=(m*6.022*10**23)/M;\n",
    "k=0.693/(5*24*3600);# in s^-1\n",
    "A=N*k;# in dis/s\n",
    "# Energy released at 0.34 MeV per dis/s will be\n",
    "E1=E*A;# in MeV/s\n",
    "E2=E1*1.6*10**-13;# watts\n",
    "\n",
    "print\"The rate of energy emission is W\",round(E2)"
   ]
  },
  {
   "cell_type": "markdown",
   "metadata": {},
   "source": [
    "##example 4.17;pg no:61"
   ]
  },
  {
   "cell_type": "code",
   "execution_count": 16,
   "metadata": {
    "collapsed": false
   },
   "outputs": [
    {
     "name": "stdout",
     "output_type": "stream",
     "text": [
      "Example 4.17, Page:61  \n",
      " \n",
      "\n",
      "The strength in KCi is  6.77\n"
     ]
    }
   ],
   "source": [
    "#cal of  strength in KCi\n",
    "#intiation of all variables\n",
    "# Chapter 4\n",
    "print\"Example 4.17, Page:61  \\n \\n\"\n",
    "# Given:\n",
    "A=0.2506*10**15;# atoms/s re: Ex4_10\n",
    "# Solution:\n",
    "Strength=A/(3.7*10**10);# in kCi\n",
    "S1=Strength*10**-3;# in KCi\n",
    "print\"The strength in KCi is \",round(S1,2)"
   ]
  },
  {
   "cell_type": "markdown",
   "metadata": {},
   "source": [
    "##example4.18;pg no:62"
   ]
  },
  {
   "cell_type": "code",
   "execution_count": 17,
   "metadata": {
    "collapsed": false
   },
   "outputs": [
    {
     "name": "stdout",
     "output_type": "stream",
     "text": [
      "Example 4.18, Page:62  \n",
      " \n",
      "\n",
      "\n",
      " The 1st half life, 2nd half life, 3rd half life are respectively. 9.0 4.5 2.25\n",
      "\n",
      " The 1st half life, 2nd half life, 3rd half life are respectively. 13 6 3\n",
      "\n",
      " The 1st half life, 2nd half life, 3rd half life are respectively. 500 250 125\n"
     ]
    }
   ],
   "source": [
    "#cal of half life periods\n",
    "#intiation of all variables\n",
    "# Chapter 4\n",
    "print\"Example 4.18, Page:62  \\n \\n\"\n",
    "# Given:\n",
    "N1=10^24;# atoms\n",
    "N2=10^16;# atoms\n",
    "N3=1000;# atoms\n",
    "N4=80;# atoms\n",
    "\n",
    "# Solution:\n",
    "N11=N1*0.5;# 1st half life\n",
    "N12=N11/2;# 2nd half life\n",
    "N13=N12/2;# 3rd half life\n",
    "print\"\\n The 1st half life, 2nd half life, 3rd half life are respectively.\",N11,N12,N13\n",
    "N21=N2/2;# 1st half life\n",
    "N22=N21/2;# 2nd half life\n",
    "N23=N22/2;# 3rd half life\n",
    "print\"\\n The 1st half life, 2nd half life, 3rd half life are respectively.\",N21,N22,N23\n",
    "N31=N3/2;# 1st half life\n",
    "N32=N31/2;# 2nd half life\n",
    "N33=N32/2;# 3rd half life\n",
    "print\"\\n The 1st half life, 2nd half life, 3rd half life are respectively.\",N31,N32,N33\n",
    "#Radiactivity is a statistical property. Decay kinetics are reliable only when initial number is large"
   ]
  },
  {
   "cell_type": "markdown",
   "metadata": {},
   "source": [
    "##example 4.20;pg no:62"
   ]
  },
  {
   "cell_type": "code",
   "execution_count": 18,
   "metadata": {
    "collapsed": false
   },
   "outputs": [
    {
     "name": "stdout",
     "output_type": "stream",
     "text": [
      "Example 4.20, Page:62  \n",
      " \n",
      "\n",
      "The partial half life for beta decay in Gy and partial half life for EC decay in Gy. 1.441 11.429\n"
     ]
    }
   ],
   "source": [
    "#cal of  partial half life for beta and EC decay\n",
    "#intiation of all variables\n",
    "# Chapter 4\n",
    "print\"Example 4.20, Page:62  \\n \\n\"\n",
    "# Given:\n",
    "t1=1.28*10**9;# in years\n",
    "# Solution:\n",
    "k=0.693/(1.28*10**9);\n",
    "# beta deay is 88.8%\n",
    "k1=0.888*k;\n",
    "# EC decay is 11.2%\n",
    "k2=0.112*k;\n",
    "tbeta=(0.693*10**-9)/(k1);# partial half life for beta decay in Gy\n",
    "tEC=(0.693*10**-9)/(k2);# partial half life for EC decay in Gy\n",
    "print\"The partial half life for beta decay in Gy and partial half life for EC decay in Gy.\",round(tbeta,3),round(tEC,3)"
   ]
  },
  {
   "cell_type": "markdown",
   "metadata": {},
   "source": [
    "##example 4.21;pg no:63"
   ]
  },
  {
   "cell_type": "code",
   "execution_count": 19,
   "metadata": {
    "collapsed": false
   },
   "outputs": [
    {
     "name": "stdout",
     "output_type": "stream",
     "text": [
      "Example 4.21, Page:63  \n",
      " \n",
      "\n",
      "The time required will be h 150.0\n"
     ]
    }
   ],
   "source": [
    "#cal of  time\n",
    "#intiation of all variables\n",
    "# Chapter 4\n",
    "print\"Example 4.21, Page:63  \\n \\n\"\n",
    "# Given:\n",
    "import math\n",
    "t=15.02;# in hours\n",
    "# Solution:\n",
    "ar=1000;# activity ratio given that 0.1% of intial activity\n",
    "k=0.693/t;\n",
    "t1=(math.log(ar))/k;\n",
    "print\"The time required will be h\",round(t1)"
   ]
  },
  {
   "cell_type": "markdown",
   "metadata": {},
   "source": [
    "##example 4.22;pg no:63"
   ]
  },
  {
   "cell_type": "code",
   "execution_count": 20,
   "metadata": {
    "collapsed": false
   },
   "outputs": [
    {
     "name": "stdout",
     "output_type": "stream",
     "text": [
      "Example 4.22, Page:63  \n",
      " \n",
      "\n",
      "The time required will be h 26.0\n"
     ]
    }
   ],
   "source": [
    "#cal of time required\n",
    "#intiation of all variables\n",
    "# Chapter 4\n",
    "print\"Example 4.22, Page:63  \\n \\n\"\n",
    "# Given:\n",
    "import math\n",
    "t=6.01;# in hours\n",
    "# Solution:\n",
    "ar=100/5;# activity ratio given that 5% of intial activity\n",
    "k=0.693/t;\n",
    "\n",
    "t1=(math.log(ar))/k;\n",
    "print\"The time required will be h\",round(t1)"
   ]
  },
  {
   "cell_type": "markdown",
   "metadata": {},
   "source": [
    "##example 4.23;pg no:64"
   ]
  },
  {
   "cell_type": "code",
   "execution_count": 22,
   "metadata": {
    "collapsed": false
   },
   "outputs": [
    {
     "name": "stdout",
     "output_type": "stream",
     "text": [
      "Example 4.23, Page:64  \n",
      " \n",
      "\n",
      "\n",
      " The overall decay constant will be *10^-17 s^-1 1.2\n",
      "\n",
      " The activity for k(40) in 10^5 beta/s 1.804\n",
      "\n",
      " The activity for k(41) in beta/s 21.12\n"
     ]
    }
   ],
   "source": [
    "#cal of activity for k\n",
    "#intiation of all variables\n",
    "# Chapter 4\n",
    "print\"Example 4.23, Page:64  \\n \\n\"\n",
    "# Given:\n",
    "\n",
    "t=1.83*10**9;# in years\n",
    "# Solution:\n",
    "# Part (a)\n",
    "k=(0.693)/(t*3.16*10**7);\n",
    "k1=(0.693*10**17)/(t*3.16*10**7);# in 10^-17 s^-1\n",
    "print\"\\n The overall decay constant will be *10^-17 s^-1\",round(k1,2)\n",
    "# Part (b)\n",
    "a=(6.022*10**23)/40; # atoms of K(40)\n",
    "A=a*k;# activity\n",
    "print\"\\n The activity for k(40) in 10^5 beta/s\",round(A/10**5,3)\n",
    "\n",
    "# Part (c)\n",
    "a1=(6.022*10**23*1.2*10**-4)/41; # atoms of K(41)\n",
    "A1=a1*k;# activity\n",
    "print\"\\n The activity for k(41) in beta/s\",round(A1,2)"
   ]
  },
  {
   "cell_type": "markdown",
   "metadata": {},
   "source": [
    "##example 4.24;pg no:65"
   ]
  },
  {
   "cell_type": "code",
   "execution_count": 23,
   "metadata": {
    "collapsed": false
   },
   "outputs": [
    {
     "name": "stdout",
     "output_type": "stream",
     "text": [
      "Example 4.24, Page:65  \n",
      " \n",
      "\n",
      "The decay constant is min^-1 and the half life is min 0.1511 4.5879\n"
     ]
    }
   ],
   "source": [
    "#cal of decay constant and half life\n",
    "#intiation of all variables\n",
    "# Chapter 4\n",
    "print\"Example 4.24, Page:65  \\n \\n\"\n",
    "# Given:\n",
    "import math\n",
    "a1=6520.;# c/min\n",
    "a2=4820.;#c/min\n",
    "t=2.;#min\n",
    "# Solution:\n",
    "k=math.log(a1/a2)/t;\n",
    "t1=0.693/k;# half life\n",
    "print\"The decay constant is min^-1 and the half life is min\",round(k,4),round(t1,4)"
   ]
  },
  {
   "cell_type": "markdown",
   "metadata": {},
   "source": [
    "##example 4.25;pg no:65"
   ]
  },
  {
   "cell_type": "code",
   "execution_count": 24,
   "metadata": {
    "collapsed": false
   },
   "outputs": [
    {
     "name": "stdout",
     "output_type": "stream",
     "text": [
      "Example 4.25, Page:65  \n",
      " \n",
      "\n",
      "The half life for case (a)is h and case(b) is min 1.5 12.89\n"
     ]
    }
   ],
   "source": [
    "#cal of  value of avagadro constant\n",
    "#intiation of all variables\n",
    "# Chapter 4\n",
    "print\"Example 4.25, Page:65  \\n \\n\"\n",
    "# Given:\n",
    "import math\n",
    "a=(1./32.);# activity drop of its initial value\n",
    "t1=7.5;#in h case(a)\n",
    "t2=64.45;# in min case(b)\n",
    "# Solution:\n",
    "n=math.log(a)/math.log(0.5);\n",
    "t11=t1/n;# half life\n",
    "t12=t2/n;# half life\n",
    "print\"The half life for case (a)is h and case(b) is min\",t11,t12"
   ]
  },
  {
   "cell_type": "markdown",
   "metadata": {},
   "source": [
    "##example 4.26;pg no:66"
   ]
  },
  {
   "cell_type": "code",
   "execution_count": 25,
   "metadata": {
    "collapsed": false
   },
   "outputs": [
    {
     "name": "stdout",
     "output_type": "stream",
     "text": [
      "Example 4.26, Page:66  \n",
      " \n",
      "\n",
      "The proportion of U235 704 million years back in 10^-2 is  1.3\n"
     ]
    }
   ],
   "source": [
    "#cal of  proportion of U235 704 million years back\n",
    "#intiation of all variables\n",
    "# Chapter 4\n",
    "print\"Example 4.26, Page:66  \\n \\n\"\n",
    "# Given:\n",
    "import math\n",
    "t238=4.5*10**9;# in y\n",
    "t235=7.04*10**8;# in y\n",
    "a0=0.72;# atoms per cent\n",
    "t=7.04*10**8;\n",
    "# Solution:\n",
    "\n",
    "k1=0.693/(t238);#decay constant for U 238\n",
    "N1=(100-a0)*math.exp(k1*t);\n",
    "\n",
    "k2=0.693/(t235);#decay constant for U 235\n",
    "N2=(a0)*math.exp(k2*t);\n",
    "\n",
    "proportion=N2/N1;\n",
    "print\"The proportion of U235 704 million years back in 10^-2 is \" ,round(proportion*100,2)"
   ]
  },
  {
   "cell_type": "markdown",
   "metadata": {},
   "source": [
    "##example 4.27;pg no:67"
   ]
  },
  {
   "cell_type": "code",
   "execution_count": 26,
   "metadata": {
    "collapsed": false
   },
   "outputs": [
    {
     "name": "stdout",
     "output_type": "stream",
     "text": [
      "Example 4.27, Page:67  \n",
      " \n",
      "\n",
      "The no. of atoms produced is and its mass is *10^-20 grams 1.5873 4.74\n"
     ]
    }
   ],
   "source": [
    "#cal of The no. of atoms produced is and its mass\n",
    "#intiation of all variables\n",
    "# Chapter 4\n",
    "print\"Example 4.27, Page:67  \\n \\n\"\n",
    "# Given:\n",
    "t=110;# in min\n",
    "a=10;#dpmg^-1\n",
    "# Solution:\n",
    "k=0.693/t;\n",
    "N=a/k;# atoms of F18\n",
    "mass=(N*18)/6.022*10**23;\n",
    "mass1=(N*18*10**20)/(6.022*10**23);# in 10^-20 grams\n",
    "print\"The no. of atoms produced is and its mass is *10^-20 grams\",round(N/10**3,4),round(mass1,2)"
   ]
  },
  {
   "cell_type": "markdown",
   "metadata": {},
   "source": [
    "##example 4.28;pgno:67"
   ]
  },
  {
   "cell_type": "code",
   "execution_count": 27,
   "metadata": {
    "collapsed": false
   },
   "outputs": [
    {
     "name": "stdout",
     "output_type": "stream",
     "text": [
      "Example 4.28, Page:67  \n",
      " \n",
      "\n",
      "The mass in micro-grams is  0.166\n"
     ]
    }
   ],
   "source": [
    "#cal of  mass in micro-grams\n",
    "#intiation of all variables\n",
    "# Chapter 4\n",
    "print\"Example 4.28, Page:67  \\n \\n\"\n",
    "# Given:\n",
    "import math\n",
    "t=14.3;# half life in days\n",
    "# Solution:\n",
    "k=0.693/(t*24*3600);\n",
    "N=(3.7*10**10)/(k);# No. of atoms in 1 Ci\n",
    "N1=N*(1-(math.exp(-0.693/14.3)));# atoms of S32 produced\n",
    "mass=(N1*32)/(6.022*10**23);\n",
    "m1=mass*10**6;# in micro grams\n",
    "print\"The mass in micro-grams is \",round(m1,3)"
   ]
  },
  {
   "cell_type": "markdown",
   "metadata": {},
   "source": [
    "##example 4.29;pg no:68"
   ]
  },
  {
   "cell_type": "code",
   "execution_count": 28,
   "metadata": {
    "collapsed": false
   },
   "outputs": [
    {
     "name": "stdout",
     "output_type": "stream",
     "text": [
      "Example 4.29, Page:68  \n",
      " \n",
      "\n",
      "\n",
      " The fraction decayed in 1 day will be  16.59\n",
      "\n",
      " The fraction decayed in 5 days  will be  59.63\n",
      "\n",
      " The fraction decayed in 10 days  will be . 83.7\n",
      "\n",
      " The fraction decayed in 6 half lives will be . 98.44\n",
      "\n",
      " Time needed for the decay of 99.9 percent is  half lives i.e.days. 9.97 38.069\n"
     ]
    }
   ],
   "source": [
    "#cal of fraction decays and half lives\n",
    "#intiation of all variables\n",
    "# Chapter 4\n",
    "print\"Example 4.29, Page:68  \\n \\n\"\n",
    "# Given:\n",
    "import math\n",
    "t=3.82;# in days\n",
    "# Solution:\n",
    "# part(a)\n",
    "days=1;\n",
    "D1=(1-(math.exp(-0.693*days/t)))*100;\n",
    "print\"\\n The fraction decayed in 1 day will be \",round(D1,2)\n",
    "# part(b)\n",
    "days=5;\n",
    "D1=(1-(math.exp(-0.693*days/t)))*100;\n",
    "print\"\\n The fraction decayed in 5 days  will be \",round(D1,2)\n",
    "# part(c)\n",
    "days=10;\n",
    "D1=(1-(math.exp(-0.693*days/t)))*100;\n",
    "print\"\\n The fraction decayed in 10 days  will be .\",round(D1,2)\n",
    "# part(d)\n",
    "days=6*t;\n",
    "D1=(1-(math.exp(-0.693*days/t)))*100;\n",
    "print\"\\n The fraction decayed in 6 half lives will be .\",round(D1,2)\n",
    "# part(e)\n",
    "n=math.log(0.001)/math.log(0.5);\n",
    "print\"\\n Time needed for the decay of 99.9 percent is  half lives i.e.days.\",round(n,2),round(t*n,3)"
   ]
  },
  {
   "cell_type": "markdown",
   "metadata": {},
   "source": [
    "##example 4.30;pg no:68"
   ]
  },
  {
   "cell_type": "code",
   "execution_count": 29,
   "metadata": {
    "collapsed": false
   },
   "outputs": [
    {
     "name": "stdout",
     "output_type": "stream",
     "text": [
      "Example 4.30, Page:68  \n",
      " \n",
      "\n",
      "\n",
      " The decay constant is y^-1 0.24\n",
      "\n",
      " The decay constant is y^-1 0.03\n",
      "\n",
      " The half life is y 2.92\n",
      "\n",
      " The half life is  y 23.64\n"
     ]
    }
   ],
   "source": [
    "#cal of decay constant and half life\n",
    "#intiation of all variables\n",
    "# Chapter 4\n",
    "print\"Example 4.30, Page:68  \\n \\n\"\n",
    "# Given:\n",
    "t=2.6;# years\n",
    "# Solution:\n",
    "k=0.693/t;# decay constant\n",
    "#part(a)\n",
    "kbeta=0.89*k;\n",
    "print\"\\n The decay constant is y^-1\",round(kbeta,2)\n",
    "kEC=0.11*k;\n",
    "print\"\\n The decay constant is y^-1\",round(kEC,2)\n",
    "#part(b)\n",
    "tbeta=0.693/kbeta;\n",
    "print\"\\n The half life is y\",round(tbeta,2)\n",
    "tEC=0.693/kEC;\n",
    "print\"\\n The half life is  y\",round(tEC,2)"
   ]
  },
  {
   "cell_type": "markdown",
   "metadata": {},
   "source": [
    "##example 4.31;pg no:69"
   ]
  },
  {
   "cell_type": "code",
   "execution_count": 30,
   "metadata": {
    "collapsed": false
   },
   "outputs": [
    {
     "name": "stdout",
     "output_type": "stream",
     "text": [
      "Example 4.31, Page:69  \n",
      " \n",
      "\n",
      "Decay by EC\n",
      "\n",
      "\t The decay constant is  h^-1 0.02\n",
      "\n",
      "\t The half life is h 30.48\n",
      "\n",
      "Decay by beta+\n",
      "\n",
      "\t The decay constant is h^-1 0.01\n",
      "\n",
      "\t The half life is h 67.37\n",
      "\n",
      "Decay by beta-\n",
      "\n",
      "\t The decay constant is h^-1 0.02\n",
      "\n",
      "\t The half life is h 32.82\n"
     ]
    }
   ],
   "source": [
    "#cal of Decay by beta\n",
    "#intiation of all variables\n",
    "# Chapter 4\n",
    "print\"Example 4.31, Page:69  \\n \\n\"\n",
    "# Given:\n",
    "t=12.8;# hours\n",
    "# Solution:\n",
    "k=0.693/t;# decay constant\n",
    "#part(a)by EC\n",
    "kEC=0.42*k;\n",
    "print\"Decay by EC\"\n",
    "print\"\\n\\t The decay constant is  h^-1\",round(kEC,2)\n",
    "tEC=0.693/kEC;\n",
    "print\"\\n\\t The half life is h\",round(tEC,2)\n",
    "\n",
    "#part(b)by beta+\n",
    "kbeta1=0.19*k;\n",
    "print\"\\nDecay by beta+\"\n",
    "print\"\\n\\t The decay constant is h^-1\",round(kbeta1,2)\n",
    "tbeta1=0.693/kbeta1;\n",
    "print\"\\n\\t The half life is h\",round(tbeta1,2)\n",
    "\n",
    "#part(b)by beta+\n",
    "kbeta2=0.39*k;\n",
    "print\"\\nDecay by beta-\"\n",
    "print\"\\n\\t The decay constant is h^-1\",round(kbeta2,2)\n",
    "tbeta2=0.693/kbeta2;\n",
    "print\"\\n\\t The half life is h\",round(tbeta2,2)"
   ]
  },
  {
   "cell_type": "markdown",
   "metadata": {},
   "source": [
    "##example 4.32;pg no:69"
   ]
  },
  {
   "cell_type": "code",
   "execution_count": 31,
   "metadata": {
    "collapsed": false
   },
   "outputs": [
    {
     "name": "stdout",
     "output_type": "stream",
     "text": [
      "Example 4.32, Page:69  \n",
      " \n",
      "\n",
      "The proportion of U,Ra,Rn is 1: 152879.581152 4.27107329843e+11\n"
     ]
    }
   ],
   "source": [
    "#cal of proportion of U,Ra,Rn\n",
    "#intiation of all variables\n",
    "# Chapter 4\n",
    "print\"Example 4.32, Page:69  \\n \\n\"\n",
    "# Given:\n",
    "tU=4.47*10**9;# y\n",
    "tRa=1600;# y\n",
    "tRn=3.82;# days\n",
    "nU=1;\n",
    "# Solution:\n",
    "#under secular equilibrium we have\n",
    "nRa=(tRa*365/tRn)*nU;\n",
    "nRn=(tU*365/tRn)*nU;\n",
    "print\"The proportion of U,Ra,Rn is 1:\",nRa,nRn"
   ]
  },
  {
   "cell_type": "markdown",
   "metadata": {},
   "source": [
    "##example 4.33;pg no:70"
   ]
  },
  {
   "cell_type": "code",
   "execution_count": 32,
   "metadata": {
    "collapsed": false
   },
   "outputs": [
    {
     "name": "stdout",
     "output_type": "stream",
     "text": [
      "Example 4.33, Page:70  \n",
      " \n",
      "\n",
      "The proportion of ay4 at the end of 4 hrs is 63.6\n"
     ]
    }
   ],
   "source": [
    "#cal of proportion of ay4\n",
    "#intiation of all variables\n",
    "# Chapter 4\n",
    "print\"Example 4.33, Page:70  \\n \\n\"\n",
    "# Given:\n",
    "ax0 =1.; #assume\n",
    "tx = 2.; #hrs\n",
    "ty = 1.; #hrs\n",
    "# Solution:\n",
    "# general equation connecting Ax and Ay is\n",
    "# Ax(n) = (ky * Ax(0) * (exp(-kx * t) - exp(-ky * t))/ (ky - kx)) + Ay(0) * exp(-ky * t)\n",
    "ax0 = 1.;\n",
    "ay4 = (ax0 * (0.693/1.) * ((1./4.)-(1./16.)))/((0.693/1.)-(0.693/2.)) + ax0 * (1./16.);\n",
    "ax4 = (1.* ax0)/4.;\n",
    "proportion = (ay4 * 100)/(ay4+ax4)\n",
    "print\"The proportion of ay4 at the end of 4 hrs is\",round(proportion,1)"
   ]
  },
  {
   "cell_type": "markdown",
   "metadata": {},
   "source": [
    "##example 4.34;pg no:71"
   ]
  },
  {
   "cell_type": "code",
   "execution_count": 33,
   "metadata": {
    "collapsed": false
   },
   "outputs": [
    {
     "name": "stdout",
     "output_type": "stream",
     "text": [
      "Example 4.34, Page:71  \n",
      " \n",
      "\n",
      "Activity due to La(140) at the end of 12 hrs will be dps 1111.0\n",
      "Activity due to La(140) at the end of 24 d will be dps 518.0\n"
     ]
    }
   ],
   "source": [
    "#cal of Activity due to La(140)\n",
    "#intiation of all variables\n",
    "# Chapter 4\n",
    "print\"Example 4.34, Page:71  \\n \\n\"\n",
    "#Given:\n",
    "Ax0 = 2000.; #dps\n",
    "#Solution:\n",
    "#part a\n",
    "ky = 0.693/10.;\n",
    "kx = 0.693/288.;\n",
    "# general equation connecting Ax and Ay is\n",
    "Ax12 = (ky * Ax0 * (0.5**(1./24.) - 0.5**(1.2)))/ (ky - kx)\n",
    "\n",
    "print\"Activity due to La(140) at the end of 12 hrs will be dps\",round(Ax12)\n",
    "#part b\n",
    "ky = 0.693/10.;\n",
    "kx = 0.693/288.;\n",
    "# general equation connecting Ax and Ay is\n",
    "Ax24 = (ky * Ax0 * (0.5**(2) - 0.5**(57.6)))/ (ky - kx)\n",
    "print\"Activity due to La(140) at the end of 24 d will be dps\",round(Ax24)"
   ]
  },
  {
   "cell_type": "markdown",
   "metadata": {},
   "source": [
    "##example 4.35;pg no:71"
   ]
  },
  {
   "cell_type": "code",
   "execution_count": 34,
   "metadata": {
    "collapsed": false
   },
   "outputs": [
    {
     "name": "stdout",
     "output_type": "stream",
     "text": [
      "Example 4.35, Page:71  \n",
      " \n",
      "\n",
      "The time when daughter activity reaches maximum is  and this is same when activities of both are equal. 4.48\n"
     ]
    }
   ],
   "source": [
    "#cal of time\n",
    "#intiation of all variables\n",
    "# Chapter 4\n",
    "print\"Example 4.35, Page:71  \\n \\n\"\n",
    "# Given:\n",
    "import math\n",
    "t1=2.7;# h\n",
    "t2=3.6;# h\n",
    "# Solution:\n",
    "k1=0.693/t1;\n",
    "k2=.693/t2;\n",
    "tmax=(math.log(k2/k1))/(k2-k1);\n",
    "print\"The time when daughter activity reaches maximum is  and this is same when activities of both are equal.\",round(tmax,2)"
   ]
  },
  {
   "cell_type": "markdown",
   "metadata": {},
   "source": [
    "##example 4.36;pg no:71"
   ]
  },
  {
   "cell_type": "code",
   "execution_count": 35,
   "metadata": {
    "collapsed": false
   },
   "outputs": [
    {
     "name": "stdout",
     "output_type": "stream",
     "text": [
      "Example 4.36, Page:71  \n",
      " \n",
      "\n",
      "The half life of Bi is days 3.84\n"
     ]
    }
   ],
   "source": [
    "#cal of half life of Bi\n",
    "#intiation of all variables\n",
    "# Chapter 4\n",
    "print\"Example 4.36, Page:71  \\n \\n\"\n",
    "# Given:\n",
    "tPo=138;# days\n",
    "n=24.86;# days\n",
    "# Solution:\n",
    "kPo = 0.693/tPo;\n",
    "# using simplification logx=2(x-1)/(x+1)\n",
    "kBi=((2 * 2.303)-(n*kPo))/n;\n",
    "tBi=0.693/kBi;\n",
    "print\"The half life of Bi is days\",round(tBi,2)"
   ]
  },
  {
   "cell_type": "markdown",
   "metadata": {},
   "source": [
    "##example 4.37;pg no:72"
   ]
  },
  {
   "cell_type": "code",
   "execution_count": 37,
   "metadata": {
    "collapsed": false
   },
   "outputs": [
    {
     "name": "stdout",
     "output_type": "stream",
     "text": [
      "Example 4.37, Page:72  \n",
      " \n",
      "\n",
      "The residual activity in the sample in 10^5 dps= 93.75\n"
     ]
    }
   ],
   "source": [
    "#cal of residual activity in the sample\n",
    "#intiation of all variables\n",
    "# Chapter 4\n",
    "print\"Example 4.37, Page:72  \\n \\n\"\n",
    "# Given:\n",
    "a=10*10**7;# rate\n",
    "t=15;# h\n",
    "# Soution:\n",
    "A30=a*(1-(0.5)**(2));# dps\n",
    "A45=A30*((0.5)**(3));# dps\n",
    "print\"The residual activity in the sample in 10^5 dps=\",A45/10**5"
   ]
  }
 ],
 "metadata": {
  "kernelspec": {
   "display_name": "Python 2",
   "language": "python",
   "name": "python2"
  },
  "language_info": {
   "codemirror_mode": {
    "name": "ipython",
    "version": 2
   },
   "file_extension": ".py",
   "mimetype": "text/x-python",
   "name": "python",
   "nbconvert_exporter": "python",
   "pygments_lexer": "ipython2",
   "version": "2.7.9"
  }
 },
 "nbformat": 4,
 "nbformat_minor": 0
}
