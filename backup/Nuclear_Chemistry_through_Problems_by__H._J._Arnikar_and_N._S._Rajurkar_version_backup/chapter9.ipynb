{
 "cells": [
  {
   "cell_type": "markdown",
   "metadata": {},
   "source": [
    "#chapter 9:isotopes for nuclear reactions"
   ]
  },
  {
   "cell_type": "markdown",
   "metadata": {},
   "source": [
    "##example 9.1;pg no: 126"
   ]
  },
  {
   "cell_type": "code",
   "execution_count": 1,
   "metadata": {
    "collapsed": false
   },
   "outputs": [
    {
     "name": "stdout",
     "output_type": "stream",
     "text": [
      "Example 9.1, Page:126  \n",
      " \n",
      "\n",
      "The value of numerical constant is = 0.0373\n"
     ]
    }
   ],
   "source": [
    "#cal of  value of numerical constant\n",
    "#intiation of all variables\n",
    "# Chapter 9\n",
    "print\"Example 9.1, Page:126  \\n \\n\"\n",
    "#Give:\n",
    "t=3600.;# in seconds\n",
    "F=96500.;# in columbs\n",
    "# Formula: m=0.0373fMit, Faraday's law: m=(itE)/F\n",
    "#Solution:\n",
    "constant=t/F;\n",
    "print\"The value of numerical constant is =\",round(constant,4)"
   ]
  },
  {
   "cell_type": "markdown",
   "metadata": {},
   "source": [
    "##example 9.2;pg no: 126"
   ]
  },
  {
   "cell_type": "code",
   "execution_count": 2,
   "metadata": {
    "collapsed": false
   },
   "outputs": [
    {
     "name": "stdout",
     "output_type": "stream",
     "text": [
      "Example 9.2, Page:126  \n",
      " \n",
      "\n",
      "The ion current should be in (mA)= 0.4167\n"
     ]
    }
   ],
   "source": [
    "#cal of ion current\n",
    "#intiation of all variables\n",
    "# Chapter 9\n",
    "print\"Example 9.2, Page:126  \\n \\n\"\n",
    "# Given:\n",
    "m1=24*10**-6;# g per day\n",
    "m2=10**-2;# g per day\n",
    "i1=10**-6;# in A\n",
    "#Formula: i1*m2=m1*i2\n",
    "#Solution:\n",
    "i2=(i1*m2)/m1;\n",
    "i=i2/10**-3;# in mA\n",
    "print\"The ion current should be in (mA)=\",round(i,4)"
   ]
  },
  {
   "cell_type": "markdown",
   "metadata": {},
   "source": [
    "##example 9.3;pg no: 126"
   ]
  },
  {
   "cell_type": "code",
   "execution_count": 3,
   "metadata": {
    "collapsed": false
   },
   "outputs": [
    {
     "name": "stdout",
     "output_type": "stream",
     "text": [
      "Example 9.3, Page:126  \n",
      " \n",
      "\n",
      "The net yield is = 6.0337\n"
     ]
    }
   ],
   "source": [
    "#cal of net yield\n",
    "#intiation of all variables\n",
    "# Chapter 9\n",
    "print\"Example 9.3, Page:126  \\n \\n\"\n",
    "#Given:\n",
    "f=1.0014;# seperation factor\n",
    "s=4;# series\n",
    "p=6;# parallel\n",
    "# Note: The global yield for s stages in series is(f)^s and each parallel stages simply multiplies the yield of the stage, Hence overall yield with p parallel stages (each with s stages in series) will be Y=p*(f)^s\n",
    "#Solution:\n",
    "Y=p*(f)**s;\n",
    "print\"The net yield is =\",round(Y,4)"
   ]
  },
  {
   "cell_type": "markdown",
   "metadata": {},
   "source": [
    "##example 9.4;pg no: 127"
   ]
  },
  {
   "cell_type": "code",
   "execution_count": 4,
   "metadata": {
    "collapsed": false
   },
   "outputs": [
    {
     "name": "stdout",
     "output_type": "stream",
     "text": [
      "Example 9.14, Page:127  \n",
      " \n",
      "\n",
      "\n",
      " The no. of stages will be =  1130.0\n",
      "\n",
      " The no. of stages will be = 3451.0\n"
     ]
    }
   ],
   "source": [
    "#cal of no. of stages\n",
    "#intiation of all variables\n",
    "# Chapter 9\n",
    "print\"Example 9.14, Page:127  \\n \\n\"\n",
    "# Given:\n",
    "import math\n",
    "f=1.0014;# seperation factor\n",
    "#Solution: Part (a)\n",
    "A1=3.5/0.72;# total enrichment\n",
    "n1=math.log(A1)/math.log(f);\n",
    "print\"\\n The no. of stages will be = \",round(n1)\n",
    "\n",
    "#Solution: Part (b)\n",
    "A2=90/0.72;# total enrichment\n",
    "n2=math.log(A2)/math.log(f);\n",
    "print\"\\n The no. of stages will be =\",round(n2)"
   ]
  },
  {
   "cell_type": "markdown",
   "metadata": {},
   "source": [
    "##example 9.5;pg no: 127"
   ]
  },
  {
   "cell_type": "code",
   "execution_count": 5,
   "metadata": {
    "collapsed": false
   },
   "outputs": [
    {
     "name": "stdout",
     "output_type": "stream",
     "text": [
      "Example 9.5, Page:127  \n",
      " \n",
      "\n",
      "The overall seperation factor is = 1.105\n"
     ]
    }
   ],
   "source": [
    "#cal of overall seperation factor\n",
    "#intiation of all variables\n",
    "# Chapter 9\n",
    "print\"Example 9.5, Page:127  \\n \\n\"\n",
    "# Given:\n",
    "f=1.01;# seperation factor\n",
    "n=10;# plates\n",
    "#Solution: \n",
    "A=f**n;\n",
    "print\"The overall seperation factor is =\",round(A,3)"
   ]
  },
  {
   "cell_type": "markdown",
   "metadata": {},
   "source": [
    "##example 9.6;pg no: 127"
   ]
  },
  {
   "cell_type": "code",
   "execution_count": 6,
   "metadata": {
    "collapsed": false
   },
   "outputs": [
    {
     "name": "stdout",
     "output_type": "stream",
     "text": [
      "Example 9.6, Page:127  \n",
      " \n",
      "\n",
      "The overall seperation factor is = 1.173\n"
     ]
    }
   ],
   "source": [
    "#cal of overall seperation factor\n",
    "#intiation of all variables\n",
    "# Chapter 9\n",
    "print\"Example 9.6, Page:127  \\n \\n\"\n",
    "# Given:\n",
    "f=1.01;# seperation factor\n",
    "n=16;# plates\n",
    "#Solution: \n",
    "A=f**n;\n",
    "print\"The overall seperation factor is =\",round(A,3)"
   ]
  },
  {
   "cell_type": "markdown",
   "metadata": {},
   "source": [
    "##example 9.7;pg no: 128"
   ]
  },
  {
   "cell_type": "code",
   "execution_count": 7,
   "metadata": {
    "collapsed": false
   },
   "outputs": [
    {
     "name": "stdout",
     "output_type": "stream",
     "text": [
      "Example 9.7, Page:128  \n",
      " \n",
      "\n",
      "The enthalpy for the exchange reaction in (J)= 4829.008\n"
     ]
    }
   ],
   "source": [
    "#cal of enthalpy for the exchange reaction\n",
    "#intiation of all variables\n",
    "# Chapter 9\n",
    "print\"Example 9.7, Page:128  \\n \\n\"\n",
    "# Given:\n",
    "import math\n",
    "k1=3.78;\n",
    "k2=2.79;\n",
    "t1=298.;# in K\n",
    "t2=353.;# in K\n",
    "R=8.314# Gas constant\n",
    "# Formula: log(k1/k2)=(H/R)*((t2-t1)t1*t2)\n",
    "# Solution:\n",
    "H=R*math.log(k1/k2)/((t2-t1)/(t1*t2));\n",
    "print\"The enthalpy for the exchange reaction in (J)=\",round(H,3)"
   ]
  },
  {
   "cell_type": "markdown",
   "metadata": {},
   "source": [
    "##example 9.8;pg no: 128"
   ]
  },
  {
   "cell_type": "code",
   "execution_count": 8,
   "metadata": {
    "collapsed": false
   },
   "outputs": [
    {
     "name": "stdout",
     "output_type": "stream",
     "text": [
      "Example 9.8, Page:128  \n",
      " \n",
      "\n",
      "The single stage seperation factor is =  2.67\n"
     ]
    }
   ],
   "source": [
    "#cal of single stage seperation factor\n",
    "#intiation of all variables\n",
    "# Chapter 9\n",
    "print\"Example 9.8, Page:128  \\n \\n\"\n",
    "# Given:\n",
    "a1=0.015;\n",
    "a2=0.04;\n",
    "# Solution: Defining the seperation factor f as approximately equal to (a2/a1) where a1, a2 are the relative abundances of the isotope of interest in the initial and final fractions, we have\n",
    "f=(a2/a1);\n",
    "print\"The single stage seperation factor is = \",round(f,2)"
   ]
  }
 ],
 "metadata": {
  "kernelspec": {
   "display_name": "Python 2",
   "language": "python",
   "name": "python2"
  },
  "language_info": {
   "codemirror_mode": {
    "name": "ipython",
    "version": 2
   },
   "file_extension": ".py",
   "mimetype": "text/x-python",
   "name": "python",
   "nbconvert_exporter": "python",
   "pygments_lexer": "ipython2",
   "version": "2.7.9"
  }
 },
 "nbformat": 4,
 "nbformat_minor": 0
}
