{
 "cells": [
  {
   "cell_type": "markdown",
   "metadata": {},
   "source": [
    "# chapter2 :properties of nucleon and nuclei "
   ]
  },
  {
   "cell_type": "markdown",
   "metadata": {},
   "source": [
    "##example 2.1;pg no:19"
   ]
  },
  {
   "cell_type": "code",
   "execution_count": 1,
   "metadata": {
    "collapsed": false
   },
   "outputs": [
    {
     "name": "stdout",
     "output_type": "stream",
     "text": [
      "Example 2.1, Page:19  \n",
      " \n",
      "\n",
      "\n",
      " The density nucleus of F(19) in 10^14 g cm^-3 is = 27.473593965\n",
      "\n",
      " The density nucleus of Au(197) in 10^14 g cm^-3 is = 284.857790058\n",
      "\n",
      " The density nucleus of P(239) in 10^14 g cm^-3 is = 345.588892507\n"
     ]
    }
   ],
   "source": [
    "#cal of density nucleus\n",
    "#intiation of all variables\n",
    "# Chapter 2\n",
    "print\"Example 2.1, Page:19  \\n \\n\"\n",
    "#Given:\n",
    "f=19;# atomic mass no. of F\n",
    "a=197;# atomic mass no.of Au\n",
    "p=239;# atomic mass no. of Pu\n",
    "#solution:(a)\n",
    "\n",
    "m1=f/(6.02*10**23);\n",
    "Rf=1.4*(f**(1/3))*10**-13;# in cm\n",
    "V1=1.3333*3.14*(Rf)**3;\n",
    "df=m1/(V1*10**14);# density in 10^14 g cm^-3\n",
    "print\"\\n The density nucleus of F(19) in 10^14 g cm^-3 is =\",df\n",
    "\n",
    "#(b)\n",
    "m2=a/(6.02*10**23);\n",
    "Ra=1.4*(a**(1/3))*10**-13;# in cm\n",
    "V2=1.3333*3.14*(Ra)**3;\n",
    "da=m2/(V2*10**14);# density in 10^14 g cm^-3\n",
    "print\"\\n The density nucleus of Au(197) in 10^14 g cm^-3 is =\",da\n",
    "\n",
    "\n",
    "#(c)\n",
    "m3=p/(6.02*10**23);\n",
    "Rp=1.4*(p**(1/3))*10**-13;# in cm\n",
    "V3=1.3333*3.14*(Rp)**3;\n",
    "dp=m3/(V3*10**14);# density in 10^14 g cm^-3\n",
    "print\"\\n The density nucleus of P(239) in 10^14 g cm^-3 is =\",dp\n",
    "# Note: The density for Au(197) is not calculated correctly in the textbook."
   ]
  },
  {
   "cell_type": "markdown",
   "metadata": {},
   "source": [
    "##example 2.2;pg no:20"
   ]
  },
  {
   "cell_type": "code",
   "execution_count": 2,
   "metadata": {
    "collapsed": false
   },
   "outputs": [
    {
     "name": "stdout",
     "output_type": "stream",
     "text": [
      "Example 2.2, Page:20  \n",
      " \n",
      "\n",
      "\n",
      " Case (a) Fission is possible since m1= 9.99999999998e-05\n",
      "\n",
      " Case (b) Fission is not possible since m2= -0.10838\n",
      "\n",
      " Case (c) Fission is possible since m3= 0.02642\n"
     ]
    }
   ],
   "source": [
    "#cal of Fission\n",
    "#intiation of all variables\n",
    "# Chapter 2\n",
    "print\"Example 2.2, Page:20  \\n \\n\"\n",
    "# Given:\n",
    "# (a) Be(8)= 2 He(4)\n",
    "# (b) Kr(80)= 2 Ar(40)\n",
    "# (c) Cd(108)= 2 Cr(54)\n",
    "\n",
    "\n",
    "# Solution:\n",
    "m1=8.0053-2*4.00260;\n",
    "m2=79.81638-2*39.96238;\n",
    "m3=107.90418-2*53.93888;\n",
    "\n",
    "\n",
    "if m1>0:\n",
    "\tprint\"\\n Case (a) Fission is possible since m1=\",m1\n",
    "else:\n",
    "\tprint\"\\n Case (a) Fission is not possiblesince m1=\",m1\n",
    "\n",
    "\n",
    "if m2>0:\n",
    "    print\"\\n Case (b) Fission is possible since m2=\",m2\n",
    "else:\n",
    "    print\"\\n Case (b) Fission is not possible since m2=\",m2\n",
    "\n",
    " \n",
    "if m3>0:\n",
    "    print\"\\n Case (c) Fission is possible since m3=\",m3\n",
    "else:\n",
    "\tprint\"\\n Case (c) Fission is not possible since m3=\",m3"
   ]
  },
  {
   "cell_type": "markdown",
   "metadata": {},
   "source": [
    "##example 2.3;pg no:21"
   ]
  },
  {
   "cell_type": "code",
   "execution_count": 3,
   "metadata": {
    "collapsed": false
   },
   "outputs": [
    {
     "name": "stdout",
     "output_type": "stream",
     "text": [
      "Example 2.3, Page:21  \n",
      " \n",
      "\n",
      "\n",
      " Nuclear spin of the nucleus is  2.5\n",
      " (-) \n",
      "\n",
      " Magnetic moment is = in nuclear magneton 0.8621\n"
     ]
    }
   ],
   "source": [
    "#cal of  Nuclear spin and Magnetic moment\n",
    "#intiation of all variables\n",
    "# Chapter 2\n",
    "print\"Example 2.3, Page:21  \\n \\n\"\n",
    "# Given:\n",
    "l=3.;\n",
    "f=3.;\n",
    "s=1./2.;\n",
    "\n",
    "# Solution:\n",
    "I=l-s;# total angulr momentum\n",
    "P=(-1)**(l);#nuclear parity\n",
    "mm=(I-2.293*(I/(I+1)));# in nuclear magneton\n",
    "\n",
    "print\"\\n Nuclear spin of the nucleus is \",I\n",
    "if P>0:\n",
    "    print\" (+) \"\n",
    "else:\n",
    "    print\" (-) \"\n",
    "\n",
    "print\"\\n Magnetic moment is = in nuclear magneton\",round(mm,4)"
   ]
  },
  {
   "cell_type": "markdown",
   "metadata": {},
   "source": [
    "##example 2.4;pg no:21"
   ]
  },
  {
   "cell_type": "code",
   "execution_count": 4,
   "metadata": {
    "collapsed": false
   },
   "outputs": [
    {
     "name": "stdout",
     "output_type": "stream",
     "text": [
      "Example 2.4, Page:21  \n",
      " \n",
      "\n",
      "\n",
      " Nuclear spin of the nucleus is 4.5\n",
      " (+) \n",
      "\n",
      " Magnetic moment is =in nuclear magneton 6.793\n"
     ]
    }
   ],
   "source": [
    "#cal of Nuclear spin and Magnetic moment\n",
    "#intiation of all variables\n",
    "# Chapter 2\n",
    "print\"Example 2.4, Page:21  \\n \\n\"\n",
    "# Given:\n",
    "\n",
    "l=4.;\n",
    "g=4.;\n",
    "s=1./2.;\n",
    "\n",
    "# Solution:\n",
    "I=l+s;# total angulr momentum\n",
    "P=(-1)**(l);#nuclear parity\n",
    "mm=(I+2.293);# for odd proton and I=l+s in nuclear magneton\n",
    "\n",
    "print\"\\n Nuclear spin of the nucleus is\",I\n",
    "if P>0:\n",
    "    print\" (+) \"\n",
    "else:\n",
    "    print\" (-) \"\n",
    "print\"\\n Magnetic moment is =in nuclear magneton\",mm"
   ]
  },
  {
   "cell_type": "markdown",
   "metadata": {},
   "source": [
    "##example 2.5;pg no:22"
   ]
  },
  {
   "cell_type": "code",
   "execution_count": 5,
   "metadata": {
    "collapsed": false
   },
   "outputs": [
    {
     "name": "stdout",
     "output_type": "stream",
     "text": [
      "Example 2.5, Page:22  \n",
      " \n",
      "\n",
      " The odd nucleon is 55 proton in level 2 d 5/2 (+). Hence spin is 5/2 and parity (+)\n",
      "\n",
      " Magnetic moment is =in nuclear magneton 4.793\n",
      "\n",
      " \n",
      " The odd nucleon is 47 neutron in level 1 g 9/2 (+). Hence spin is 9/2 and parity (+)\n",
      "Magnetic moment for neutron is m=-1.913 in nuclear magneton\n"
     ]
    }
   ],
   "source": [
    "#cal of  Magnetic moment\n",
    "#intiation of all variables\n",
    "# Chapter 2\n",
    "print\"Example 2.5, Page:22  \\n \\n\"\n",
    "# Given:(a) Cs(55) (b) Kr(36)\n",
    "\n",
    "# Solution: Part(a)\n",
    "print\" The odd nucleon is 55 proton in level 2 d 5/2 (+). Hence spin is 5/2 and parity (+)\"\n",
    "mm=((5./2.)+2.293);\n",
    "print\"\\n Magnetic moment is =in nuclear magneton\",mm\n",
    "# Solution: Part(b)\n",
    "print\"\\n \\n The odd nucleon is 47 neutron in level 1 g 9/2 (+). Hence spin is 9/2 and parity (+)\"\n",
    "print\"Magnetic moment for neutron is m=-1.913 in nuclear magneton\""
   ]
  },
  {
   "cell_type": "markdown",
   "metadata": {},
   "source": [
    "##example 2.7;pg no:22"
   ]
  },
  {
   "cell_type": "code",
   "execution_count": 6,
   "metadata": {
    "collapsed": false
   },
   "outputs": [
    {
     "name": "stdout",
     "output_type": "stream",
     "text": [
      "Example 2.7, Page:22  \n",
      " \n",
      "\n",
      "The nuclear g factor for P is = 2.262\n"
     ]
    }
   ],
   "source": [
    "#cal of The nuclear g factor for P\n",
    "#intiation of all variables\n",
    "# Chapter 2\n",
    "print\"Example 2.7, Page:22  \\n \\n\"\n",
    "# Given:\n",
    "h=6.6262*10**-34;# in J.s\n",
    "f=17.24*10**6;# in Hz/T\n",
    "m=5.05*10**-27;# in J/T\n",
    "# Solution:\n",
    "\n",
    "E=h*f;\n",
    "g=E/(m)\n",
    "print\"The nuclear g factor for P is =\",round(g,3)"
   ]
  },
  {
   "cell_type": "markdown",
   "metadata": {},
   "source": [
    "##example 2.8;pg no:23"
   ]
  },
  {
   "cell_type": "code",
   "execution_count": 7,
   "metadata": {
    "collapsed": false
   },
   "outputs": [
    {
     "name": "stdout",
     "output_type": "stream",
     "text": [
      "Example 2.8, Page:23  \n",
      " \n",
      "\n",
      "The NMR frequency in MHz 10.71\n"
     ]
    }
   ],
   "source": [
    "#cal of The NMR frequency\n",
    "#intiation of all variables\n",
    "# Chapter 2\n",
    "print\"Example 2.8, Page:23  \\n \\n\"\n",
    "# Given:\n",
    "\n",
    "h=6.6262*10**-34;# in J.s\n",
    "f=17.24*10**6;# in Hz/T\n",
    "m=5.05*10**-27;# in J/T\n",
    "g=1.405;\n",
    "\n",
    "# Solution:\n",
    "\n",
    "E=g*m;\n",
    "f=E/(h*10**6);# NMR frequency\n",
    "\n",
    "print\"The NMR frequency in MHz\",round(f,2)"
   ]
  },
  {
   "cell_type": "markdown",
   "metadata": {},
   "source": [
    "##example 2.9;pg no:23"
   ]
  },
  {
   "cell_type": "code",
   "execution_count": 8,
   "metadata": {
    "collapsed": false
   },
   "outputs": [
    {
     "name": "stdout",
     "output_type": "stream",
     "text": [
      "Example 2.9, Page:23 \n",
      "Magnetic field required for a proton in T= 0.711\n",
      "Magnetic field required for C 13 in T= 2.826\n"
     ]
    }
   ],
   "source": [
    "#cal of Magnetic field required\n",
    "#intiation of all variables\n",
    "# Chapter 2\n",
    "print\"Example 2.9, Page:23 \"\n",
    "# Given:\n",
    "\n",
    "h=6.6262*10**-34;# in J.s\n",
    "f=30.256*10**6;# in Hz/T\n",
    "m=5.05*10**-27;# in J/T\n",
    "g1=5.585;\n",
    "g2=1.405;\n",
    "\n",
    "# Solution:\n",
    "H1=(h*f)/(g1*m);\n",
    "H2=(h*f)/(g2*m);\n",
    "print\"Magnetic field required for a proton in T=\",round(H1,3)\n",
    "print\"Magnetic field required for C 13 in T=\",round(H2,3)"
   ]
  },
  {
   "cell_type": "markdown",
   "metadata": {},
   "source": [
    "##example 2.10;pg no:23"
   ]
  },
  {
   "cell_type": "code",
   "execution_count": 9,
   "metadata": {
    "collapsed": false
   },
   "outputs": [
    {
     "name": "stdout",
     "output_type": "stream",
     "text": [
      "Example 2.10, Page:23\n",
      "Magnetic field required for a proton in T= 0.3316\n"
     ]
    }
   ],
   "source": [
    "#cal of Magnetic field required\n",
    "#intiation of all variables\n",
    "# Chapter 2\n",
    "print\"Example 2.10, Page:23\"\n",
    "# Given:\n",
    "\n",
    "h=6.62*10**-34;# in J.s\n",
    "f=9.302*10**9;# in Hz/T\n",
    "m=9.2741*10**-24;# in J/T\n",
    "g1=2.0025;\n",
    "\n",
    "\n",
    "# Solution:\n",
    "\n",
    "H1=(h*f)/(g1*m);\n",
    "print\"Magnetic field required for a proton in T=\",round(H1,4)"
   ]
  },
  {
   "cell_type": "markdown",
   "metadata": {},
   "source": [
    "##example 2.11;pg no:24"
   ]
  },
  {
   "cell_type": "code",
   "execution_count": 10,
   "metadata": {
    "collapsed": false
   },
   "outputs": [
    {
     "name": "stdout",
     "output_type": "stream",
     "text": [
      "Example 2.11, Page:24  \n",
      " \n",
      "\n",
      "The frequency needed to bring in resonance in GHz= 33.66\n"
     ]
    }
   ],
   "source": [
    "#cal of frequency needed\n",
    "#intiation of all variables\n",
    "# Chapter 2\n",
    "print\"Example 2.11, Page:24  \\n \\n\"\n",
    "# Given:\n",
    "mf=1.201;# In T\n",
    "h=6.6262*10**-34;# in J.s\n",
    "m=9.2741*10**-24;# in J/T\n",
    "g=2.0025;\n",
    "# Solution:\n",
    "v=(g*m*mf)/(h*10**9);\n",
    "print\"The frequency needed to bring in resonance in GHz=\",round(v,2)"
   ]
  },
  {
   "cell_type": "markdown",
   "metadata": {},
   "source": [
    "##example 2.12;pg no:24"
   ]
  },
  {
   "cell_type": "code",
   "execution_count": 11,
   "metadata": {
    "collapsed": false
   },
   "outputs": [
    {
     "name": "stdout",
     "output_type": "stream",
     "text": [
      "Example 2.12, Page:24  \n",
      " \n",
      "\n",
      "\n",
      " The frequency needed to bring proton spin resonance is=MHz 63.86\n",
      "\n",
      " The frequency needed to bring electron spin resonance in GHz 4.2\n"
     ]
    }
   ],
   "source": [
    "#cal of The frequency needed to bring proton and electron\n",
    "#intiation of all variables\n",
    "# Chapter 2\n",
    "print\"Example 2.12, Page:24  \\n \\n\"\n",
    "# Given:\n",
    "mf=1.5;# In T\n",
    "h=6.6262*10**-34;# in J.s\n",
    "mb=9.2741*10**-24;# in J/T\n",
    "mn=5.0504*10**-27;#in J/T\n",
    "ge=2.002;\n",
    "gp=5.5854;\n",
    "# Solution: Part(a)\n",
    "v1=(gp*mn*mf)/(h*10**6);\n",
    "print\"\\n The frequency needed to bring proton spin resonance is=MHz\",round(v1,2)\n",
    "# Solution: Part(b)\n",
    "v2=(ge*mb*mf)/(h*10**10);\n",
    "print\"\\n The frequency needed to bring electron spin resonance in GHz\",round(v2,2)"
   ]
  },
  {
   "cell_type": "markdown",
   "metadata": {},
   "source": [
    "##example 2.13;pg no:24"
   ]
  },
  {
   "cell_type": "code",
   "execution_count": 12,
   "metadata": {
    "collapsed": false
   },
   "outputs": [
    {
     "name": "stdout",
     "output_type": "stream",
     "text": [
      "Example 2.13, Page:24  \n",
      " \n",
      "\n",
      "\n",
      " Magnetic field required for causing resonance in T= 1.004\n"
     ]
    }
   ],
   "source": [
    "#cal of Magnetic field required\n",
    "#intiation of all variables\n",
    "# Chapter 2\n",
    "print\"Example 2.13, Page:24  \\n \\n\"\n",
    "# Given:\n",
    "h=6.6262*10**-34;# in J.s\n",
    "f=40.2*10**6;# in Hz/T\n",
    "m=5.05*10**-27;# in J/T\n",
    "g1=5.256;\n",
    "\n",
    "\n",
    "# Solution:\n",
    "H1=(h*f)/(g1*m);\n",
    "print\"\\n Magnetic field required for causing resonance in T=\",round(H1,3)"
   ]
  },
  {
   "cell_type": "markdown",
   "metadata": {},
   "source": [
    "##example 2.14;pg no:25"
   ]
  },
  {
   "cell_type": "code",
   "execution_count": 13,
   "metadata": {
    "collapsed": false
   },
   "outputs": [
    {
     "name": "stdout",
     "output_type": "stream",
     "text": [
      "Example 2.14, Page: 25 \n",
      " \n",
      "\n",
      "\n",
      " The ratio of NMR frequencies of B/N is = 1.35\n"
     ]
    }
   ],
   "source": [
    "#cal of ratio of NMR frequencies\n",
    "#intiation of all variables\n",
    "# Chapter 2\n",
    "print\"Example 2.14, Page: 25 \\n \\n\"\n",
    "#Given:\n",
    "mf=1.0;# In T\n",
    "h=6.6262*10**-34;# in J.s\n",
    "mn=5.0504*10**-27;#in J/T\n",
    "gB=5.4;\n",
    "gN=4.01;\n",
    "# Solution:\n",
    "v1=(gB*mn*mf)/(h*10**6);\n",
    "\n",
    "v2=(gN*mn*mf)/(h*10**6);\n",
    "\n",
    "print\"\\n The ratio of NMR frequencies of B/N is =\",round(v1/v2,2)"
   ]
  },
  {
   "cell_type": "markdown",
   "metadata": {},
   "source": [
    "##example 2.15;pg no:25"
   ]
  },
  {
   "cell_type": "code",
   "execution_count": 14,
   "metadata": {
    "collapsed": false
   },
   "outputs": [
    {
     "name": "stdout",
     "output_type": "stream",
     "text": [
      "Example 2.15, Page:25  \n",
      " \n",
      "\n",
      "The recoil energy in (meV)= 1.95\n"
     ]
    }
   ],
   "source": [
    "#cal of recoil energy\n",
    "#intiation of all variables\n",
    "# Chapter 2\n",
    "print\"Example 2.15, Page:25  \\n \\n\"\n",
    "# Given:\n",
    "E=14.4*10**-3;# in MeV\n",
    "m=57;\n",
    "# Solution:\n",
    "Er=(536*(E)**2)/(m*10**-3);\n",
    "print\"The recoil energy in (meV)=\",round(Er,2)"
   ]
  },
  {
   "cell_type": "markdown",
   "metadata": {},
   "source": [
    "##example 2.16;pg no:25"
   ]
  },
  {
   "cell_type": "code",
   "execution_count": 15,
   "metadata": {
    "collapsed": false
   },
   "outputs": [
    {
     "name": "stdout",
     "output_type": "stream",
     "text": [
      "Example 2.16, Page:25  \n",
      " \n",
      "\n",
      "The energy emtted by the nucleus in (KeV)= 23.8\n"
     ]
    }
   ],
   "source": [
    "#cal of energy emtted by the nucleus\n",
    "#intiation of all variables\n",
    "# Chapter 2\n",
    "print\"Example 2.16, Page:25  \\n \\n\"\n",
    "import math\n",
    "# Given:\n",
    "Er=2.551;# in meV\n",
    "m=119;# atomic wt of Sn\n",
    "\n",
    "# Solution:\n",
    "E=math.sqrt(2.551*10**-3*119/536);# energy emitted by nucleus\n",
    "print\"The energy emtted by the nucleus in (KeV)=\",round(E*10**3,2)"
   ]
  },
  {
   "cell_type": "markdown",
   "metadata": {},
   "source": [
    "##example 2.17;pg no:26"
   ]
  },
  {
   "cell_type": "code",
   "execution_count": 16,
   "metadata": {
    "collapsed": false
   },
   "outputs": [
    {
     "name": "stdout",
     "output_type": "stream",
     "text": [
      "Example 2.17, Page:26  \n",
      " \n",
      "\n",
      "The doppler shift frequency in 10^11 Hz= 3.97\n"
     ]
    }
   ],
   "source": [
    "#cal of doppler shift frequency\n",
    "#intiation of all variables\n",
    "# Chapter 2\n",
    "print\"Example 2.17, Page:26  \\n \\n\"\n",
    "# Given:\n",
    "l=10**-10;# in m\n",
    "m=100;# in u\n",
    "h=6.6262*10**-34;# in J.s\n",
    "\n",
    "\n",
    "# Solution:\n",
    "v=h/(m*l*1.67*10**-27);# velocity\n",
    "f=v/l;# frequency\n",
    "\n",
    "print\"The doppler shift frequency in 10^11 Hz=\",round(f/10**11,2)"
   ]
  },
  {
   "cell_type": "markdown",
   "metadata": {},
   "source": [
    "##example 2.18;pg no:26"
   ]
  },
  {
   "cell_type": "code",
   "execution_count": 17,
   "metadata": {
    "collapsed": false
   },
   "outputs": [
    {
     "name": "stdout",
     "output_type": "stream",
     "text": [
      "Example 2.18, Page:26  \n",
      " \n",
      "\n",
      "The frequency in 10**8 cm^-1 is = 1.161\n",
      "The frequency in 10^12 MHz is = 3.48\n"
     ]
    }
   ],
   "source": [
    "#cal of frequency\n",
    "#intiation of all variables\n",
    "# Chapter 2\n",
    "print\"Example 2.18, Page:26  \\n \\n\"\n",
    "#Given:\n",
    "# 1 ev=8065 cm^-1\n",
    "E=14.4*10**3;# in eV\n",
    "# Solution:\n",
    "f1=E*8065;# frequency in cm^-1\n",
    "print\"The frequency in 10**8 cm^-1 is =\",round(f1/10**8,3)\n",
    "fr=f1*3*10**8*100;\n",
    "print\"The frequency in 10^12 MHz is =\",round(fr/10**18,2)"
   ]
  },
  {
   "cell_type": "markdown",
   "metadata": {},
   "source": [
    "##example 2.19;pg no:26"
   ]
  },
  {
   "cell_type": "code",
   "execution_count": 18,
   "metadata": {
    "collapsed": false
   },
   "outputs": [
    {
     "name": "stdout",
     "output_type": "stream",
     "text": [
      "Example 2.19, Page:26  \n",
      " \n",
      "\n",
      "The shift in frequency between the source and the sample in MHz= 25.55\n"
     ]
    }
   ],
   "source": [
    "#cal of shift in frequency between the source and the sample\n",
    "#intiation of all variables\n",
    "# Chapter 2\n",
    "print\"Example 2.19, Page:26  \\n \\n\"\n",
    "# Given:\n",
    "#Given:\n",
    "# 1 ev=8065 cm^-1\n",
    "E=14.4*10**3;# in eV\n",
    "v1=2.2*10**-3;# in m/s\n",
    "# Solution:\n",
    "f1=E*8065;# frequency in cm^-1\n",
    "fr=f1*3*10**8*100;\n",
    "fr1=(fr*v1)/(3*10**8);\n",
    "print\"The shift in frequency between the source and the sample in MHz=\",round(fr1/10**6,2)"
   ]
  },
  {
   "cell_type": "markdown",
   "metadata": {},
   "source": [
    "##example 2.20;pg no:27"
   ]
  },
  {
   "cell_type": "code",
   "execution_count": 19,
   "metadata": {
    "collapsed": false
   },
   "outputs": [
    {
     "name": "stdout",
     "output_type": "stream",
     "text": [
      "Example 2.20, Page:27  \n",
      " \n",
      "\n",
      "The recoil velocity of free atom is =(m/s) 84.21\n",
      "The recoil velocity of atom that is part of crystal in 10^-20 (m/s) 7.68\n",
      "The doppler shift for free atom in 10^10 Hz= 97.6\n",
      "The doppler shift of atom that is part of crystal in 10^-10 Hz is = 8.9\n"
     ]
    }
   ],
   "source": [
    "#cal of recoil velocity and doppler shift for an atom\n",
    "#intiation of all variables\n",
    "# Chapter 2\n",
    "print\"Example 2.20, Page:27  \\n \\n\"\n",
    "# Given:\n",
    "E=1.6*14.4*10**3*10**-19;# energy in J\n",
    "c=3*10**8;# in m/s\n",
    "m=57*1.6*10**-27;\n",
    "M=10**-4;\n",
    "h=6.6262*10**-34;# in J.s\n",
    "# Solution:\n",
    "p=E/c;\n",
    "v=p/m;\n",
    "v1=(v*m)/(M);\n",
    "v2=(v*m)/(M*10**-20);\n",
    "f1=(E*v)/(h*c);\n",
    "f2=(E*v1)/(h*c*10**-10);\n",
    "print\"The recoil velocity of free atom is =(m/s)\",round(v,2)\n",
    "print\"The recoil velocity of atom that is part of crystal in 10^-20 (m/s)\",round(v2,2)\n",
    "print\"The doppler shift for free atom in 10^10 Hz=\",round(f1/10**10,2)\n",
    "print\"The doppler shift of atom that is part of crystal in 10^-10 Hz is =\",round(f2,2)"
   ]
  },
  {
   "cell_type": "markdown",
   "metadata": {},
   "source": [
    "##example 2.21;pg no:28"
   ]
  },
  {
   "cell_type": "code",
   "execution_count": 20,
   "metadata": {
    "collapsed": false
   },
   "outputs": [
    {
     "name": "stdout",
     "output_type": "stream",
     "text": [
      "Example 2.21, Page:28  \n",
      " \n",
      "\n",
      "Ellipticity is = 0.17\n",
      "b/a is = 1.185\n"
     ]
    }
   ],
   "source": [
    "#cal of Ellipticity\n",
    "#intiation of all variables\n",
    "# Chapter 2\n",
    "print\"Example 2.21, Page:28  \\n \\n\"\n",
    "# Given:\n",
    "A=175.;\n",
    "R=1.4*10**-15*((A)**(1./3.));\n",
    "# Soluiton:\n",
    "#Part a\n",
    "sqrBMinusSqrA = (5.9 * (10** (-28))) * 5. /(2. * 71.);\n",
    "BMinusA = sqrBMinusSqrA / (2. * R);\n",
    "ellipticity = 2 * (BMinusA) / (2. * R);\n",
    "print\"Ellipticity is =\",round(ellipticity,2)\n",
    "#Part B\n",
    "b = (BMinusA + (2 * R)) /2;\n",
    "a = (-BMinusA + (2 * R)) /2;\n",
    "print\"b/a is =\",round(b/a,3)"
   ]
  },
  {
   "cell_type": "markdown",
   "metadata": {},
   "source": [
    "##example 2.22;pg no:28"
   ]
  },
  {
   "cell_type": "code",
   "execution_count": 21,
   "metadata": {
    "collapsed": false
   },
   "outputs": [
    {
     "name": "stdout",
     "output_type": "stream",
     "text": [
      "Example 2.22, Page:  \n",
      " \n",
      "\n",
      "Ellipticity is = 0.2\n",
      "b/a is = 1.222\n",
      "Ellipticity is = -0.06\n",
      "b/a is = 0.946\n"
     ]
    }
   ],
   "source": [
    "#cal of Ellipticity\n",
    "#intiation of all variables\n",
    "# Chapter 2\n",
    "print\"Example 2.22, Page:  \\n \\n\"\n",
    "# Given:\n",
    "A1=176.;\n",
    "A2=233.;\n",
    "R1=1.4*10**-15*((A1)**(1./3.));\n",
    "R2=1.4*10**-15*((A2)**(1./3.));\n",
    "# Soluiton:\n",
    "#Part a\n",
    "sqrBMinusSqrA = (5. * 7. * (10** (-28))) /(2. * 71.);\n",
    "BMinusA = sqrBMinusSqrA / (2. * R1);\n",
    "ellipticity = 2. * (BMinusA) / (2. * R1);\n",
    "print\"Ellipticity is =\",round(ellipticity,2)\n",
    "b = (BMinusA + (2. * R1)) /2.;\n",
    "a = (-BMinusA + (2. * R1)) /2.;\n",
    "print\"b/a is =\",round(b/a,3)\n",
    "#Part B\n",
    "sqrBMinusSqrA = -(5. * 3. * (10** (-28))) /(2. * 91.);\n",
    "BMinusA = sqrBMinusSqrA / (2. * R2);\n",
    "ellipticity = 2. * (BMinusA) / (2. * R2);\n",
    "print\"Ellipticity is =\",round(ellipticity,2)\n",
    "b = (BMinusA + (2. * R2)) /2.;\n",
    "a = (-BMinusA + (2. * R2)) /2.;\n",
    "print\"b/a is =\",round(b/a,3)"
   ]
  },
  {
   "cell_type": "markdown",
   "metadata": {},
   "source": [
    "##example 2.23;pg no:29"
   ]
  },
  {
   "cell_type": "code",
   "execution_count": 22,
   "metadata": {
    "collapsed": false
   },
   "outputs": [
    {
     "name": "stdout",
     "output_type": "stream",
     "text": [
      "Example 2.23, Page:29  \n",
      " \n",
      "\n",
      "Quadrapole moment in barns= 0.2761\n"
     ]
    }
   ],
   "source": [
    "#cal of Quadrapole moment\n",
    "#intiation of all variables\n",
    "# Chapter 2\n",
    "print\"Example 2.23, Page:29  \\n \\n\"\n",
    "# Given:\n",
    "e = 0.03;\n",
    "A=75.;\n",
    "R=1.4*10**-15*((A)**(1./3.));\n",
    "# Soluiton:\n",
    "BPlusA = 2. * R;\n",
    "BMinusA = e * R;\n",
    "sqrBMinusSqrA = BPlusA * BMinusA;\n",
    "BMinusA = sqrBMinusSqrA / (2. * R);\n",
    "Q = (2.*33.*sqrBMinusSqrA)/5.;\n",
    "q1=Q/10**-28;\n",
    "print\"Quadrapole moment in barns=\",round(q1,4)"
   ]
  }
 ],
 "metadata": {
  "kernelspec": {
   "display_name": "Python 2",
   "language": "python",
   "name": "python2"
  },
  "language_info": {
   "codemirror_mode": {
    "name": "ipython",
    "version": 2
   },
   "file_extension": ".py",
   "mimetype": "text/x-python",
   "name": "python",
   "nbconvert_exporter": "python",
   "pygments_lexer": "ipython2",
   "version": "2.7.9"
  }
 },
 "nbformat": 4,
 "nbformat_minor": 0
}
