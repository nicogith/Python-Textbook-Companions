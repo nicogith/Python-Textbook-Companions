{
 "cells": [
  {
   "cell_type": "markdown",
   "metadata": {},
   "source": [
    "# Chapter 8 Analog Multiplier"
   ]
  },
  {
   "cell_type": "markdown",
   "metadata": {},
   "source": [
    "## Example 8.1 Pg 267"
   ]
  },
  {
   "cell_type": "code",
   "execution_count": 1,
   "metadata": {
    "collapsed": false
   },
   "outputs": [
    {
     "name": "stdout",
     "output_type": "stream",
     "text": [
      "the output voltage of inverting amplifier (V2) is = 3.00 V\n"
     ]
    }
   ],
   "source": [
    "from math import sqrt, pi\n",
    "from __future__ import division\n",
    "# to determine the output voltage of inverting amplifier (V2)\n",
    "Vin = 18 # # V\n",
    "V1 = -6 #  # V\n",
    "\n",
    "# in the op-amp due to the infinite i/p resiostance the input current is = 0\n",
    "# i1+i2 = 0\n",
    "# it gives relation\n",
    "Vo = -Vin #\n",
    "\n",
    "# the output of multiplier is defined as\n",
    "#Vo = K*V1*V2\n",
    "\n",
    "K = 1 # # we assume\n",
    "\n",
    "V2 = (Vo/(K*V1))#\n",
    "print 'the output voltage of inverting amplifier (V2) is = %0.2f'%(V2),'V'"
   ]
  },
  {
   "cell_type": "markdown",
   "metadata": {},
   "source": [
    "## Example 8.2 Pg 267"
   ]
  },
  {
   "cell_type": "code",
   "execution_count": 2,
   "metadata": {
    "collapsed": false
   },
   "outputs": [
    {
     "name": "stdout",
     "output_type": "stream",
     "text": [
      "the output voltage of multiplier is = 225.00 V\n"
     ]
    }
   ],
   "source": [
    "# to determine the output voltage of multiplier\n",
    "Vin = 15 # # V\n",
    "\n",
    "# the output of multiplier is defined as\n",
    "#Vo = K*V1*V2\n",
    "# because of i/p terminal the circuit performs mathematical operation squaring\n",
    "# i.e  V1 = V2 = Vin\n",
    "K = 1 # # we assume\n",
    "Vo = K*(Vin)**2#\n",
    "print 'the output voltage of multiplier is = %0.2f'%(Vo),'V' "
   ]
  },
  {
   "cell_type": "markdown",
   "metadata": {},
   "source": [
    "## Example 8.3 Pg 268"
   ]
  },
  {
   "cell_type": "code",
   "execution_count": 3,
   "metadata": {
    "collapsed": false
   },
   "outputs": [
    {
     "name": "stdout",
     "output_type": "stream",
     "text": [
      "the output voltage of inverting amplifier is = 4.00  V \n",
      "the output voltage of multiplier is = 16.00  V \n"
     ]
    }
   ],
   "source": [
    "from math import sqrt, pi\n",
    "# to determine the output voltage of multiplier and inverting amplifier\n",
    "Vin = 16 #\n",
    "# the output of the inverting amplifier\n",
    "K =1 #   # we assume\n",
    "Vos = sqrt(abs(Vin)/K) #\n",
    "print 'the output voltage of inverting amplifier is = %0.2f'%(Vos),' V '\n",
    "\n",
    "# the output of the multiplier\n",
    "Vo = K*Vos**2 #\n",
    "print 'the output voltage of multiplier is = %0.2f'%(Vo),' V '"
   ]
  },
  {
   "cell_type": "markdown",
   "metadata": {},
   "source": [
    "## Example 8.5 Pg 269"
   ]
  },
  {
   "cell_type": "code",
   "execution_count": 6,
   "metadata": {
    "collapsed": false
   },
   "outputs": [
    {
     "name": "stdout",
     "output_type": "stream",
     "text": [
      "output voltage of RMS detector is = 10.00 V \n"
     ]
    }
   ],
   "source": [
    "# output voltage of of RMS detector\n",
    "Vin = 10 # \n",
    "T = 1 #  # we assume that the charging and discharging period of capacitor\n",
    "\n",
    "# the output voltage of RMS detector\n",
    "# Vo =sqrt(1/T*)integrate(Vin**2*(t),t,0,1 [,atol [,rtol]])  #\n",
    "Vo = 10 #\n",
    "print 'output voltage of RMS detector is = %0.2f'%(Vo),'V '"
   ]
  }
 ],
 "metadata": {
  "kernelspec": {
   "display_name": "Python 2",
   "language": "python",
   "name": "python2"
  },
  "language_info": {
   "codemirror_mode": {
    "name": "ipython",
    "version": 2
   },
   "file_extension": ".py",
   "mimetype": "text/x-python",
   "name": "python",
   "nbconvert_exporter": "python",
   "pygments_lexer": "ipython2",
   "version": "2.7.9"
  }
 },
 "nbformat": 4,
 "nbformat_minor": 0
}
