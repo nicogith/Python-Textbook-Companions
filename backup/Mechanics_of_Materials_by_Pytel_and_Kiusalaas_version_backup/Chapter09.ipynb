{
 "metadata": {
  "name": "",
  "signature": "sha256:19ebf66d9da8e61964dee3081a6c3e2bb440c25ec82a0b4b2dc44b82d335cf92"
 },
 "nbformat": 3,
 "nbformat_minor": 0,
 "worksheets": [
  {
   "cells": [
    {
     "cell_type": "heading",
     "level": 1,
     "metadata": {},
     "source": [
      "Chapter09:Composite Beams"
     ]
    },
    {
     "cell_type": "heading",
     "level": 2,
     "metadata": {},
     "source": [
      "Example 9.9.1, Page No:346"
     ]
    },
    {
     "cell_type": "code",
     "collapsed": false,
     "input": [
      "import math\n",
      "\n",
      "#Variable Decleration\n",
      "n=20 #Modular Ratio\n",
      "sigma_wd=8*10**6 #Maximum bending stress in wood in Pa\n",
      "sigma_st=120*10**6 #Maximum bending stress in steel in Pa\n",
      "\n",
      "#Cross Sectional Details\n",
      "Awd=45 #Area of wood in mm^2\n",
      "y_wd=160 #Neutral Axis of from bottom of the wooden section in mm\n",
      "Ast=15 #Area of steel in mm^2\n",
      "y_st=5 #Neutral Axis of the Steel section in mm\n",
      "#Dimensions\n",
      "ww=150 #width of wooden section in mm\n",
      "dw=300 #depth of wooden section in mm\n",
      "ws=75 #width of steel section in mm\n",
      "ds=10 #depth of steel section in mm\n",
      "\n",
      "#Calculations\n",
      "y_bar=(Awd*y_wd+Ast*y_st)*(Ast+Awd)**-1 #Location of Neutral axis from the bottom in mm\n",
      "#Moment of inertia \n",
      "I=(ww*dw**3*12**-1)+(ww*dw*(y_wd-y_bar)**2)+(n*ws*ds**3*12**-1)+(n*ws*ds*(y_bar-y_st)**2) #mm^4\n",
      "c_top=dw+ds-y_bar #Distance from NA to top fibre in mm\n",
      "c_bot=y_bar #Distance from NA to bottom fibre in mm\n",
      "\n",
      "#The solution will be in different order \n",
      "M1=sigma_wd*I*10**-12*c_top**-1 #Maximum Bending Moment in N.m\n",
      "M2=sigma_st*I*10**-12*c_bot**-1 #Maximum Bending Moment in N.m\n",
      "M=min(M1,M2) #Maximum allowable moment in N.m\n",
      "\n",
      "#Result\n",
      "print \"The Maximum Allowable moment that the beam can support is\",round(M,1),\"kN.m\"\n"
     ],
     "language": "python",
     "metadata": {},
     "outputs": [
      {
       "output_type": "stream",
       "stream": "stdout",
       "text": [
        "The Maximum Allowable moment that the beam can support is 25.8 kN.m\n"
       ]
      }
     ],
     "prompt_number": 1
    },
    {
     "cell_type": "heading",
     "level": 2,
     "metadata": {},
     "source": [
      "Example 9.9.2, Page No:351"
     ]
    },
    {
     "cell_type": "code",
     "collapsed": false,
     "input": [
      "import math\n",
      "\n",
      "#Variable Decleration\n",
      "dw=8 #Depth of wooden section in inches\n",
      "da=0.4 #Depth og aluminium section in inches \n",
      "w=2 #Width of the section in inches\n",
      "n=40*3**-1 #Modular Ratio\n",
      "Ewd=1.5*10**6 #Youngs modulus of wood in psi\n",
      "Eal=10**7 #Youngs Modulus of aluminium in psi\n",
      "V_max=4000 #Maximum shear in lb\n",
      "b=24 #Inches\n",
      "L=72 #Length in inches\n",
      "P=6000 #Load on the beam in lb\n",
      "\n",
      "#Calculations\n",
      "I=w*dw**3*12**-1+2*(n*w*da**3*12**-1+n*da*4.2**2) #Moment of Inertia in in^4\n",
      "\n",
      "#Part 1\n",
      "Q=(w*dw*0.5)*2+(n*da)*(dw*0.5+da*0.5) #First Moment in in^3\n",
      "tau_max=V_max*Q*I**-1*w**-1 #Maximum Shear Stress in psi\n",
      "\n",
      "#Part 2\n",
      "delta_mid=(P*b)*(48*Ewd*I)**-1*(3*L**2-4*b**2)\n",
      "\n",
      "#Result\n",
      "print \"The maximum shear stress allowable is\",round(tau_max),\"psi\"\n",
      "print \"The deflection at the mid-span is\",round(delta_mid,4),\"in\""
     ],
     "language": "python",
     "metadata": {},
     "outputs": [
      {
       "output_type": "stream",
       "stream": "stdout",
       "text": [
        "The maximum shear stress allowable is 281.0 psi\n",
        "The deflection at the mid-span is 0.0968 in\n"
       ]
      }
     ],
     "prompt_number": 14
    },
    {
     "cell_type": "heading",
     "level": 2,
     "metadata": {},
     "source": [
      "Example 9.9.3, Page No:356"
     ]
    },
    {
     "cell_type": "code",
     "collapsed": false,
     "input": [
      "import math\n",
      "import numpy as np\n",
      "\n",
      "#Variable Decleration\n",
      "b=300 #Breadth in mm\n",
      "d=500 #Depth in mm\n",
      "Ast=1500 #Area of steel in mm^2\n",
      "n=8 #Modular Ratio\n",
      "M=70*10**3 #Bending Moment in N.m\n",
      "\n",
      "#Calculations\n",
      "#Let the LHS be C\n",
      "C=2*n*Ast*b**-1*d**-1 #The LHS computation\n",
      "h=np.roots([d**-2,C*d**-1,-C])\n",
      "#Taking only real root\n",
      "h=h[1] #mm\n",
      "\n",
      "sigma_co_max=(2*M)/(b*h*(d-h*3**-1)) #Maximum Compressive Stress in GPa\n",
      "sigma_st_max=M/((d-h*3**-1)*Ast) #Maximum Stress in Steel in GPa\n",
      "#Result\n",
      "print \"The maximum stress in compression is\",round(sigma_co_max*10**3,2),\"MPa\"\n",
      "print \"The maximum stress in streel is\",round(sigma_st_max*10**3,1),\"MPa\"\n"
     ],
     "language": "python",
     "metadata": {},
     "outputs": [
      {
       "output_type": "stream",
       "stream": "stdout",
       "text": [
        "The maximum stress in compression is 6.39 MPa\n",
        "The maximum stress in streel is 104.8 MPa\n"
       ]
      }
     ],
     "prompt_number": 23
    },
    {
     "cell_type": "heading",
     "level": 2,
     "metadata": {},
     "source": [
      "Example 9.9.4, Page No:356"
     ]
    },
    {
     "cell_type": "code",
     "collapsed": false,
     "input": [
      "import math\n",
      "\n",
      "#Variable Decleration\n",
      "sigma_co_w=12 #Maximum stress in compression in MPa\n",
      "sigma_st_w=140 #Maximum stress in steel in MPa\n",
      "M=90 #Moment in kN.m\n",
      "n=8 #Modular Ratio \n",
      "\n",
      "#Calculations\n",
      "#h=0.4068d\n",
      "#bd^2=0.04266\n",
      "b=(0.04266/(1.5**2))**0.3333 #Breadth in m \n",
      "d=1.5*b #Depth in m\n",
      "h=0.4068*d #Height in m\n",
      "\n",
      "#Area of steel\n",
      "Ast=((M*10**3)/((d-h*3**-1)*sigma_st_w*10**3))*10**3 #Area of steel in mm^2\n",
      "\n",
      "#Result\n",
      "print \"The dimensions of the beam are\"\n",
      "print \"b=\",round(b*1000),\"mm and d=\",round(d*1000),\"mm\"\n",
      "print \"Area of steel=\",round(Ast),\"mm^2\"\n"
     ],
     "language": "python",
     "metadata": {},
     "outputs": [
      {
       "output_type": "stream",
       "stream": "stdout",
       "text": [
        "The dimensions of the beam are\n",
        "b= 267.0 mm and d= 400.0 mm\n",
        "Area of steel= 1859.0 mm^2\n"
       ]
      }
     ],
     "prompt_number": 28
    },
    {
     "cell_type": "heading",
     "level": 2,
     "metadata": {},
     "source": [
      "Example 9.9.5, Page No:357"
     ]
    },
    {
     "cell_type": "code",
     "collapsed": false,
     "input": [
      "import math\n",
      "import numpy as np\n",
      "\n",
      "#Variable Decleration\n",
      "A1=75*10**3 #Area 1 in mm^2\n",
      "A3=19.20*10**3 #Area 3 in m^2\n",
      "w=750 #Width in mm\n",
      "w1=350 #Width in mm\n",
      "d=444.45 #Depth in mm\n",
      "sigma_co_w=12*10**6 #Maximum Permissible Bending stress in concrete in Pa\n",
      "sigma_st_w=140*10**6 #Maximum Permissible Bending stress in steel in Pa\n",
      "n=8 #Modular Ratio\n",
      "\n",
      "#Calculations\n",
      "#After simplfying the equation we get the following \n",
      "H=np.roots([200,-200**2+A1+A3,-A1*50+100**2*200-600*A3])\n",
      "h=max(H) #Depth of NA in mm\n",
      "#Moment Of Inertia\n",
      "I=w*h**3*3**-1-(w1*(h-100)**3*3**-1)+A3*d**2 #Moment of inertia in mm^4\n",
      "\n",
      "M1=sigma_co_w*I*h**-1*(10**-3)**4*10**3 #Largest Bending Moment in concrete in N.m\n",
      "M2=sigma_st_w*I*(n*d)**-1*(10**-3)**4*10**3 #Largest Bending Moment in Steel in N.m\n",
      "M=min(M1,M2) #Largest Bending Moment that can be supported safely in N.m\n",
      "#Result\n",
      "print \"The largest Bending Moment that can be supported is\",round(M*10**-3,1),\"kN.m\""
     ],
     "language": "python",
     "metadata": {},
     "outputs": [
      {
       "output_type": "stream",
       "stream": "stdout",
       "text": [
        "The largest Bending Moment that can be supported is 185.6 kN.m\n"
       ]
      }
     ],
     "prompt_number": 27
    }
   ],
   "metadata": {}
  }
 ]
}