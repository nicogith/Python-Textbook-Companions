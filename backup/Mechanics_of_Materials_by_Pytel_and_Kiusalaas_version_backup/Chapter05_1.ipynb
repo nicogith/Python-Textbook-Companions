{
 "metadata": {
  "name": "",
  "signature": "sha256:d010557f61cf332fc38fdfe2d2ac6c4c0f491cf23de08424aa98b7c064b49092"
 },
 "nbformat": 3,
 "nbformat_minor": 0,
 "worksheets": [
  {
   "cells": [
    {
     "cell_type": "heading",
     "level": 1,
     "metadata": {},
     "source": [
      "Chapter 05:Stresses in Beams"
     ]
    },
    {
     "cell_type": "heading",
     "level": 2,
     "metadata": {},
     "source": [
      "Example 5.5.1, Page No:142"
     ]
    },
    {
     "cell_type": "code",
     "collapsed": false,
     "input": [
      "import math\n",
      "import matplotlib.pyplot as plt\n",
      "\n",
      "#Variable Decleration\n",
      "b=0.12 #Breadth of the CS of the beam in m\n",
      "h=0.2 #Depth of the CS of the beam in m\n",
      "BM_max=16*10**3 #Maximum Bending Moment in N.m\n",
      "c=0.1 #Distance of the centroid of the CS from the bottom fibre in m\n",
      "y1=0.025 #Distance in m\n",
      "BM=9.28*10**3 #Bending Moment in kN.m\n",
      "\n",
      "#Calculations\n",
      "#Preliminary Calculations\n",
      "I=b*h**3*12**-1 #Moment of Inertia in m^4\n",
      "\n",
      "#Part 1\n",
      "sigma_max=(BM_max*c)/(I) #Maximum bending stress in the beam in Pa\n",
      "\n",
      "#Part 2\n",
      "#Plot variables\n",
      "x_plot=[0.00000001,c,c+0.000000011,c+c]\n",
      "y_plot=[sigma_max,0,0,sigma_max]\n",
      "\n",
      "#Part 3\n",
      "y=h*0.5-y1 #Distance of point at which BM is 9.8kN.m\n",
      "sigma=(BM*y)/I #Bending Stress in Pa\n",
      "\n",
      "#Result\n",
      "print \"The Bending Stress at maximum Bending Moment in the beam is\",sigma_max*10**-6,\"MPa\"\n",
      "print \"The Bending Stress in part 3 is\",-sigma*10**-6,\"MPa\"\n",
      "print \"The plot for stress distribution is given below\"\n",
      "\n",
      "plt.plot(y_plot,x_plot)\n",
      "plt.ylabel(\"Distance from top fibre in m\")\n",
      "plt.xlabel(\"Stress in MPa\")\n",
      "plt.show()"
     ],
     "language": "python",
     "metadata": {},
     "outputs": [
      {
       "output_type": "stream",
       "stream": "stdout",
       "text": [
        "The Bending Stress at maximum Bending Moment in the beam is 20.0 MPa\n",
        "The Bending Stress in part 3 is -8.7 MPa\n",
        "The plot for stress distribution is given below\n"
       ]
      },
      {
       "metadata": {},
       "output_type": "display_data",
       "png": "[encoded data removed]",
       "text": [
        "<matplotlib.figure.Figure at 0x10b690cd0>"
       ]
      }
     ],
     "prompt_number": 16
    },
    {
     "cell_type": "heading",
     "level": 2,
     "metadata": {},
     "source": [
      "Example 5.5.2, Page No:143"
     ]
    },
    {
     "cell_type": "code",
     "collapsed": false,
     "input": [
      "import math\n",
      "\n",
      "#Variable Decleration\n",
      "wf=6 #Width of the top flange in inches\n",
      "df=0.8 #Depth of the top flange in inches\n",
      "dw=8 #Depth of the web portion in inches\n",
      "ww=0.8 #Width of the web portion in inches\n",
      "Ra=1600 #Reation at point A in lb\n",
      "Rb=3400 #Reaction at point B in lb\n",
      "w=400 #Load on the beam in lb/ft\n",
      "M_4=3200 #Moment at x=4 ft in lb.ft\n",
      "M_10=4000 #Moment at x=10 ft in lb.ft\n",
      "\n",
      "#Calculations\n",
      "#Preliminary Calculations\n",
      "#Area computation\n",
      "A1=dw*ww #Area of the web portion in sq.in\n",
      "A2=wf*df #Area of the top flange in sq.in\n",
      "y1=dw*0.5 #Centroid from the bottom of the web portion in inches\n",
      "y2=dw+df*0.5 #Centroid from the bottom of the flange portion in inches\n",
      "\n",
      "#y_bar computation\n",
      "y_bar=(A1*y1+A2*y2)/(A1+A2) #centroid of the section in inches from the bottom\n",
      "\n",
      "#Moment of Inertia computation\n",
      "I=(ww*dw**3*12**-1)+(A1*(y1-y_bar)**2)+(wf*df**3*12**-1)+(A2*(y2-y_bar)**2) #Moment of inertia in in^4\n",
      "\n",
      "#Maximum Bending Moment\n",
      "c_top=dw+df-y_bar #distance of top fibre in inches\n",
      "c_bot=y_bar #Distance of bottom fibre in inches\n",
      "\n",
      "#Stress at x=4 ft\n",
      "sigma_top=-(12*M_4*c_top)*I**-1 #Stress at top fibre in psi\n",
      "sigma_bot=12*M_4*c_bot*I**-1 #Stress at bottom fibre in psi\n",
      "\n",
      "#Stress at x=10 ft\n",
      "sigma_top2=M_10*12*c_top*I**-1 #Stress at the top fibre in psi\n",
      "sigma_bot2=-M_10*12*c_bot*I**-1 #Stress at the bottom fibre in psi\n",
      "\n",
      "#Maximum values\n",
      "sigma_t=max(sigma_bot,sigma_bot2,sigma_top,sigma_top2) #Maximum values for stress in tension\n",
      "sigma_c=min(sigma_top,sigma_top2,sigma_bot,sigma_bot2) #Maximum values for stress in compression\n",
      "\n",
      "#Result\n",
      "print  \"The maximum values of stress are\"\n",
      "print \"Maximum Tension=\",round(sigma_t),\"psi at x=4ft\"\n",
      "print \"Maximum Compression=\",round(-sigma_c),\"psi at x=10ft\"\n",
      "\n",
      "#NOTE:Answer is differing becuase of the decimal accuracy\n"
     ],
     "language": "python",
     "metadata": {},
     "outputs": [
      {
       "output_type": "stream",
       "stream": "stdout",
       "text": [
        "The maximum values of stress are\n",
        "Maximum Tension= 2583.0 psi at x=4ft\n",
        "Maximum Compression= 3229.0 psi at x=10ft\n"
       ]
      }
     ],
     "prompt_number": 16
    },
    {
     "cell_type": "heading",
     "level": 2,
     "metadata": {},
     "source": [
      "Example 5.5.3, Page No:145"
     ]
    },
    {
     "cell_type": "code",
     "collapsed": false,
     "input": [
      "import math\n",
      "\n",
      "#Variable Decleration\n",
      "L=4 #Length of each section in ft\n",
      "h_ab=4 #Thickness of the front section in inches\n",
      "h_bd=6 #Thickness of the back section in inches\n",
      "P=2000 #Point load acting at point A in lb\n",
      "M_B=8000 #Moment at 4ft in lb.ft\n",
      "M_D=16000 #Moment at x=8ft in lb.ft\n",
      "b=2 #Breadth in inches\n",
      "\n",
      "#Calculations\n",
      "S_ab=b*h_ab**2*6**-1 #Sectional Modulus of section AB in in^3\n",
      "S_bd=b*h_bd**2*6**-1 #Sectional Modulus of section BD in in^3\n",
      "sigma_B=12*M_B*S_ab**-1 #Maximum bending stress in psi\n",
      "sigma_D=12*M_D*S_bd**-1 #Maximum bending stress in psi\n",
      "\n",
      "#Maximum stress\n",
      "sigma_max=max(sigma_B,sigma_D) #Maximum stress in psi\n",
      "\n",
      "#Result\n",
      "print \"Comparing the two results we find that the maximum stress is\"\n",
      "print \"Sigma_max=\",round(sigma_max),\"psi\""
     ],
     "language": "python",
     "metadata": {},
     "outputs": [
      {
       "output_type": "stream",
       "stream": "stdout",
       "text": [
        "Comparing the two results we find that the maximum stress is\n",
        "Sigma_max= 18000.0 psi\n"
       ]
      }
     ],
     "prompt_number": 18
    },
    {
     "cell_type": "heading",
     "level": 2,
     "metadata": {},
     "source": [
      "Example 5.5.4, Page No:146"
     ]
    },
    {
     "cell_type": "code",
     "collapsed": false,
     "input": [
      "import math\n",
      "\n",
      "#Variable Decleration\n",
      "M=15000 #Maximum bending moment in absolute values in lb.ft\n",
      "S=42 #Sectional Modulus in in^3\n",
      "\n",
      "#Calculations\n",
      "sigma_max=M*12*S**-1 #Maximum stress in the section in psi\n",
      "\n",
      "#Result\n",
      "print \"The maximum Bending Stress in the section is\",round(sigma_max),\"psi\"\n",
      "\n",
      "#NOTE:The answer differs due to decimal point accuracy"
     ],
     "language": "python",
     "metadata": {},
     "outputs": [
      {
       "output_type": "stream",
       "stream": "stdout",
       "text": [
        "The maximum Bending Stress in the section is 4286.0 psi\n"
       ]
      }
     ],
     "prompt_number": 19
    },
    {
     "cell_type": "heading",
     "level": 2,
     "metadata": {},
     "source": [
      "Example 5.5.5, Page No:157"
     ]
    },
    {
     "cell_type": "code",
     "collapsed": false,
     "input": [
      "import math\n",
      "\n",
      "#Variable Decleration\n",
      "M_max=60*10**3 #Maximum Bending Moment in kN.m\n",
      "sigma_w=120*10**6 #Maximum Bending Stress allowed in Pa\n",
      "M_max_2=61.52*10**3 #max bending moment computed in N.m\n",
      "\n",
      "#Section details\n",
      "mass=38.7 #Mass in kg/m\n",
      "g=9.81 #Acceleration due to gravity in m/s^2\n",
      "S=549*10**3 #Sectional modulus of the section in mm^3\n",
      "\n",
      "#Calculations\n",
      "S_min=M_max*sigma_w**-1*10**9 #Minimum Sectional Modulus required in mm^3\n",
      "\n",
      "#We selecet section W310x39\n",
      "w0=mass*g*10**-3 #Weight of the beam in kN/m\n",
      "sigma_max=M_max_2*S**-1*10**3 #Maximum stress in MPa\n",
      "\n",
      "#Result\n",
      "print \"The section chosen is W310x39 with maximum stress as\",round(sigma_max,1),\"MPa\""
     ],
     "language": "python",
     "metadata": {},
     "outputs": [
      {
       "output_type": "stream",
       "stream": "stdout",
       "text": [
        "The section chosen is W310x39 with maximum stress as 112.1 MPa\n"
       ]
      }
     ],
     "prompt_number": 25
    },
    {
     "cell_type": "heading",
     "level": 2,
     "metadata": {},
     "source": [
      "Example 5.5.6, Page No:166"
     ]
    },
    {
     "cell_type": "code",
     "collapsed": false,
     "input": [
      "import math\n",
      "\n",
      "#Variable Decleration\n",
      "V_max=24 #Maximum Shear in kN\n",
      "b=0.160 #Width of the beam in m\n",
      "h=0.240 #Depth of the beam in m\n",
      "\n",
      "#Calculations\n",
      "I=b*h**3*12**-1 #Moment of Inertia of the beam in m^4\n",
      "\n",
      "#Part 1\n",
      "Q=b*(h*3**-1)**2 #First moment of Area m^3\n",
      "tau_max=(V_max*Q)*(I*b)**-1 #Maximum Shear Stress in glue in kPa\n",
      "\n",
      "#Part 2\n",
      "tau_max_2=(3.0/2.0)*(V_max/(b*h)) #Shear Stress in kPa\n",
      "Q_1=b*h*0.5*h*0.25 #First moment about NA in m^3\n",
      "tau_maxx=(V_max*Q_1)/(I*b) #Shear stress in kPa\n",
      "\n",
      "#Result\n",
      "print \"The Results agree in both parts\"\n",
      "print \"The maximum stress is\", round(tau_max_2),\"kPa\""
     ],
     "language": "python",
     "metadata": {},
     "outputs": [
      {
       "output_type": "stream",
       "stream": "stdout",
       "text": [
        "The Results agree in both parts\n",
        "The maximum stress is 938.0 kPa\n"
       ]
      }
     ],
     "prompt_number": 5
    },
    {
     "cell_type": "heading",
     "level": 2,
     "metadata": {},
     "source": [
      "Example 5.5.7, Page No:167"
     ]
    },
    {
     "cell_type": "code",
     "collapsed": false,
     "input": [
      "import math\n",
      "\n",
      "#Variable Decleration\n",
      "I=310 #Moment of inertia in in^4\n",
      "V=160 #Shear Force in kips\n",
      "#Dimension defination\n",
      "tf=0.515 #Thickness of flange in inches\n",
      "de=11.94 #Effective depth in inches\n",
      "tw=0.295 #Thickness of web in inches\n",
      "wf=8.005 #Width of lange in inches\n",
      "\n",
      "#Calculations\n",
      "#Part 1\n",
      "Q=wf*tf*(de-tf)*0.5 #First moment about NA in inch^3\n",
      "tau_min=(V*Q*10**2)/(I*tw) #Minimum shear stress in web in psi\n",
      "\n",
      "#Part 2\n",
      "A_2=(de*0.5-tf)*tw #Area in in^3\n",
      "y_bar_2=0.5*(de*0.5-tf) #Depth in inches\n",
      "\n",
      "Q_2=Q+A_2*y_bar_2 #First Moment in inches^3\n",
      "\n",
      "tau_max=(V*Q_2*10**2)/(I*tw) #Maximum Shear Stress in psi\n",
      "\n",
      "#Part 3\n",
      "V_web=10.91*tw*(tau_min+((2*3**-1)*(tau_max-tau_min))) #Shear in the web in lb\n",
      "perV=(V_web/V)*100 #Percentage shear force in web in %\n",
      "t_max_final=V*10**3/(10.91*tw)\n",
      "\n",
      "#result\n",
      "print \"The final shear stress in the web portion is\",round(t_max_final),\"psi\"\n",
      "#NOTE:Answer differs due to deciaml point accuracy"
     ],
     "language": "python",
     "metadata": {},
     "outputs": [
      {
       "output_type": "stream",
       "stream": "stdout",
       "text": [
        "The final shear stress in the web portion is 49713.0 psi\n"
       ]
      }
     ],
     "prompt_number": 18
    },
    {
     "cell_type": "heading",
     "level": 2,
     "metadata": {},
     "source": [
      "Example 5.5.8, Page No:168"
     ]
    },
    {
     "cell_type": "code",
     "collapsed": false,
     "input": [
      "import math\n",
      "\n",
      "#Variable Decleration\n",
      "I=547 #Moment of inertia in inches^4\n",
      "d=8.9 #NA deoth in inches\n",
      "V=12 #Shear Force in kips\n",
      "h=7.3 #Depth of NA\n",
      "b=2 #Width in inches\n",
      "t=1.2 #Thickness in inches\n",
      "h2=7.5 #Depth in inches\n",
      "\n",
      "#Calculations\n",
      "#Shear Stress at NA\n",
      "Q=(b*h)*(h*0.5) #First Moment about NA in in^3\n",
      "tau=(V*10**3*Q)/(I*b) #Shear stress at NA in psi\n",
      "\n",
      "#Shear Stress at a-a\n",
      "Q_1=(t*h2)*(d-h2*0.5) #First moment about NA in in^3\n",
      "tau1=(V*Q_1)/(I*t) #Shear Stress in psi\n",
      "\n",
      "#Result\n",
      "print \"Comparing two stresses\"\n",
      "print \"The maximum stress is\",round(max(tau,tau1)),\"psi\""
     ],
     "language": "python",
     "metadata": {},
     "outputs": [
      {
       "output_type": "stream",
       "stream": "stdout",
       "text": [
        "Comparing two stresses\n",
        "The maximum stress is 585.0 psi\n"
       ]
      }
     ],
     "prompt_number": 24
    },
    {
     "cell_type": "heading",
     "level": 2,
     "metadata": {},
     "source": [
      "Example 5.5.10, Page No:175"
     ]
    },
    {
     "cell_type": "code",
     "collapsed": false,
     "input": [
      "import math\n",
      "\n",
      "#Variable Decleration\n",
      "sigma_w=1000 #Working Stress in Bending in psi\n",
      "tau_w=100 #Working stress in shear in psi\n",
      "#Dimensions\n",
      "b_out=8 #Width in inches\n",
      "h=10 #Depth in inches\n",
      "b_in=6 #Width in inches\n",
      "\n",
      "#Calculations\n",
      "I=((b_out*h**3)-(b_in*b_out**3))*12**-1 #Moment of inertia in in^4\n",
      "#Design for shear\n",
      "Q=(b_out*h*0.5*0.25*h)-(b_in*b_out*0.5*0.25*b_out) #First Moment about NA in in^3\n",
      "\n",
      "#Largest P\n",
      "P=(tau_w*I*2)/(1.5*Q) #P in shear in lb\n",
      "\n",
      "#Design for bending\n",
      "P1=(sigma_w*I)/(60*5) #P in bending in lb\n",
      "\n",
      "#Result\n",
      "print \"The maximum allowable P value is\",round(min(P,P1)),\"lb\""
     ],
     "language": "python",
     "metadata": {},
     "outputs": [
      {
       "output_type": "stream",
       "stream": "stdout",
       "text": [
        "The maximum allowable P value is 1053.0 lb\n"
       ]
      }
     ],
     "prompt_number": 33
    },
    {
     "cell_type": "heading",
     "level": 2,
     "metadata": {},
     "source": [
      "Example 5.5.11, Page No:182"
     ]
    },
    {
     "cell_type": "code",
     "collapsed": false,
     "input": [
      "import math\n",
      "\n",
      "#Variable Decleration\n",
      "A=2630 #Area in mm^2\n",
      "y_bar=536.6 #Neutral Axis depth from top in mm\n",
      "tau_w=100 #Allowable stress in MPa\n",
      "sigma_b_w=280 #Allowable bending stress in MPa\n",
      "d=0.019 #Diameter of the rivet in m\n",
      "t_web=0.01 #Thickness of the web in m\n",
      "I=4140 #Moment of inertia in m^4\n",
      "V=450 #Max shear allowable in kN\n",
      "\n",
      "#Calculations\n",
      "Q=A*y_bar #first moment in mm^3\n",
      "Fw=(pi*d**2)*tau_w*10**6 #Allowable force in N\n",
      "Fw_2=d*t_web*sigma_b_w*10**6*0.5 #Allowable force in N\n",
      "e=Fw_2*I*(V*10**3*Q*10**-3)**-1 #Allowable spacing in m\n",
      "\n",
      "#Result\n",
      "print \"The maximum spacing allowed is\",round(e*1000,1),\"mm\""
     ],
     "language": "python",
     "metadata": {},
     "outputs": [
      {
       "output_type": "stream",
       "stream": "stdout",
       "text": [
        "The maximum spacing allowed is 173.4 mm\n"
       ]
      }
     ],
     "prompt_number": 6
    }
   ],
   "metadata": {}
  }
 ]
}