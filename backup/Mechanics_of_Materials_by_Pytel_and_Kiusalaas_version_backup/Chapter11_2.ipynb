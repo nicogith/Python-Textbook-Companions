{
 "metadata": {
  "name": "",
  "signature": "sha256:9e6efed33049beac69942b90d39a9e8444a663ad0d711d98275d388c059ec74c"
 },
 "nbformat": 3,
 "nbformat_minor": 0,
 "worksheets": [
  {
   "cells": [
    {
     "cell_type": "heading",
     "level": 1,
     "metadata": {},
     "source": [
      "Chapter11:Additional Beam Topics"
     ]
    },
    {
     "cell_type": "heading",
     "level": 2,
     "metadata": {},
     "source": [
      "Example 11.11.1, Page No:394"
     ]
    },
    {
     "cell_type": "code",
     "collapsed": false,
     "input": [
      "import math\n",
      "\n",
      "#Variable Decleration\n",
      "V=1000 #Force acting on he section in lb\n",
      "t=0.5 #Thickness in inches\n",
      "#Dimensions\n",
      "d=8 #Depth of the section in inches\n",
      "wf=12 #Width of the flange in inches\n",
      "wbf=8 #Width of the bottom flange in inches\n",
      "\n",
      "#Calculations\n",
      "y_bar=((d*t*0)+wbf*t*4+wf*t*8)/(d*t+wbf*t+wf*t) #Location of Neutral Axis in inches\n",
      "I=d*t*y_bar**2+t*d**3*12**-1+d*t*(d*t-y_bar)**2+wf*t*(8-y_bar)**2 #Moment of Inertia in in^4\n",
      "\n",
      "#Top Flange\n",
      "q1=V*t*t*wf*(8-y_bar)*I**-1 #Shear flow in lb/in\n",
      "#Bottom Flange\n",
      "q2=V*t*t*d*y_bar*I**-1 #Shear Flow in lb/in\n",
      "#Web\n",
      "qB=2*q1 #Shear Flow in lb/in\n",
      "qF=2*q2 #Shear Flow in lb/in\n",
      "\n",
      "#Max Shear Flow\n",
      "qMAX=qB+V*t*(8-y_bar)**2*0.5*I**-1 #Maximum Shear Flow in lb/in\n",
      "\n",
      "#Result\n",
      "print \"The Maximum Shear Flow is\",round(qMAX),\"lb/in\""
     ],
     "language": "python",
     "metadata": {},
     "outputs": [
      {
       "output_type": "stream",
       "stream": "stdout",
       "text": [
        "The Maximum Shear Flow is 133.0 lb/in\n"
       ]
      }
     ],
     "prompt_number": 6
    },
    {
     "cell_type": "heading",
     "level": 2,
     "metadata": {},
     "source": [
      "Example 11.11.2, Page No:395"
     ]
    },
    {
     "cell_type": "code",
     "collapsed": false,
     "input": [
      "import math\n",
      "\n",
      "#Variable Decleration\n",
      "V=1000 #Shear Force in lb\n",
      "#Rest ALL DATA is similar to previous problem\n",
      "\n",
      "#Calcualtions\n",
      "I=t*wf**3*12**-1+t*d**3*12**-1 #Moment of Inertia\n",
      "\n",
      "#Part 1\n",
      "q1=V*t*t*wf*3*I**-1 #Shear Flow in lb/in\n",
      "q2=V*t*t*d*2*I**-1 #Shear FLow in lb/in\n",
      "V1=2*3**-1*q1*wf #Shear force carried in lb\n",
      "V2=2*3**-1*q2*d #Shear force carried in lb\n",
      "\n",
      "#Part 2\n",
      "e=8*V2*V**-1 #Eccentricity in inches\n",
      "\n",
      "#Result\n",
      "print \"The Shear Force carried by Flanges is\"\n",
      "print \"Top Flange=\",round(V1,1),\"lb Bottom Flange=\",round(V2,1),\"lb\"\n",
      "print \"The eccentricity is\",round(e,3),\"in\""
     ],
     "language": "python",
     "metadata": {},
     "outputs": [
      {
       "output_type": "stream",
       "stream": "stdout",
       "text": [
        "The Shear Force carried by Flanges is\n",
        "Top Flange= 771.4 lb Bottom Flange= 228.6 lb\n",
        "The eccentricity is 1.829 in\n"
       ]
      }
     ],
     "prompt_number": 8
    },
    {
     "cell_type": "heading",
     "level": 2,
     "metadata": {},
     "source": [
      "Example 11.11.3, Page No:403"
     ]
    },
    {
     "cell_type": "code",
     "collapsed": false,
     "input": [
      "import math\n",
      "import numpy as np\n",
      "\n",
      "#Variable Decleration\n",
      "M=32 #Moment  in kN.m\n",
      "Iy=4.73*10**6 #Moment of inertia in y-axis in mm^4\n",
      "Iz=48.9*10**6 #Moment of inertia in z-axis in mm^4\n",
      "Sy=64.7*10**3 #Sectional Modulus in y-axis in mm^3\n",
      "Sz=379*10**3 #Sectional Modulus in z-axis in mm^3\n",
      "theta=16.2 #Angle between moment and z-axis in degrees\n",
      "\n",
      "#Calculations\n",
      "#Part 1\n",
      "alpha=np.arctan((Iz*Iy**-1)*tan(theta*pi*180**-1))*180*pi**-1 #Angle between NA and z-axis in degrees\n",
      "\n",
      "#Part 2\n",
      "My=-M*np.sin(theta*pi*180**-1) #Bending Moment in y in kN.m\n",
      "Mz=-M*np.cos(theta*pi*180**-1) #Bending Moment in z in kN.m\n",
      "\n",
      "sigma_max=My*Sy**-1+Mz*Sz**-1 #Largest Bedning Stress in MPa\n",
      "\n",
      "#Result\n",
      "print \"The angle between the  Neutral Axis and Z-Axis is\",round(alpha,1),\"degrees\"\n",
      "print \"The maximum Bending Moment is\",abs(round(sigma_max*10**6)),\"MPa\""
     ],
     "language": "python",
     "metadata": {},
     "outputs": [
      {
       "output_type": "stream",
       "stream": "stdout",
       "text": [
        "The angle between the  Neutral Axis and Z-Axis is 71.6 degrees\n",
        "The maximum Bending Moment is 219.0 MPa\n"
       ]
      }
     ],
     "prompt_number": 24
    },
    {
     "cell_type": "heading",
     "level": 2,
     "metadata": {},
     "source": [
      "Example 11.11.4, Page No:403"
     ]
    },
    {
     "cell_type": "code",
     "collapsed": false,
     "input": [
      "import math\n",
      "\n",
      "#Variable Decleration\n",
      "A=4.75 #Area in inches^2\n",
      "Iy_dash=6.27 #Moment of inertia in in^4\n",
      "Iz_dash=17.4 #Moment of inertia in in^4\n",
      "ry=0.87 #Radius of Gyration in inches\n",
      "tan_theta=0.44\n",
      "P=1 #Force in kips\n",
      "L=48 #Length in inches\n",
      "y_dash_B=-4.01 #Y coordinate of point B in inches\n",
      "z_dash_B=-0.487 #Z coordinate of point B in inches\n",
      "\n",
      "#Calcualtions\n",
      "theta=np.arctan(tan_theta) #Angle in radians\n",
      "Iy=A*ry**2 #Moment of inertia in y in in^4\n",
      "Iz=Iy_dash+Iz_dash-Iy #Moment of inertia in y in in^4\n",
      "\n",
      "#Part 1\n",
      "alpha=arctan(Iz*Iy**-1*tan_theta)*180*pi**-1 #Angle in radians\n",
      "beta=alpha-(theta*180*pi**-1) #Angle in degrees\n",
      "\n",
      "#Part 2\n",
      "M=P*L*4**-1 #Moment in kip.in\n",
      "My=M*np.sin(theta) #Moment in y in kip.in\n",
      "Mz=M*np.cos(theta) #Moment in z in kip.in\n",
      "\n",
      "y_B=y_dash_B*np.cos(theta)+z_dash_B*np.sin(theta) #Y coordinate  in inches\n",
      "z_B=z_dash_B*np.cos(theta)-y_dash_B*np.sin(theta) #Z coordinate in inches\n",
      "\n",
      "#Maximum Bending Stress\n",
      "sigma_max=My*z_B*Iy**-1-Mz*y_B*Iz**-1 #Maximum Bedning Stress in ksi\n",
      "\n",
      "#Result\n",
      "print \"The angle of inclination of the Neutral axis to the z-axis is\",round(beta,1),\"degrees\"\n",
      "print \"The maximum Bedning Stress is\",round(sigma_max,2),\"ksi\""
     ],
     "language": "python",
     "metadata": {},
     "outputs": [
      {
       "output_type": "stream",
       "stream": "stdout",
       "text": [
        "The angle of inclination of the Neutral axis to the z-axis is 44.1 degrees\n",
        "The maximum Bedning Stress is 3.69 ksi\n"
       ]
      }
     ],
     "prompt_number": 45
    },
    {
     "cell_type": "heading",
     "level": 2,
     "metadata": {},
     "source": [
      "Example 11.11.5, Page No:412"
     ]
    },
    {
     "cell_type": "code",
     "collapsed": false,
     "input": [
      "import math\n",
      "\n",
      "#Variable Decleration\n",
      "A1=4 #Area in in^2\n",
      "A2=6 #Area in in^2\n",
      "r1=7.8 #Radius in inches\n",
      "r2=14.8 #Radius in inches\n",
      "t=0.5 #Thickness in inches\n",
      "d=4 #Depth in inches\n",
      "sigma_w=18 #Maximum allowable stress in kips\n",
      "\n",
      "#Calculations\n",
      "A=A1+A2 #Area in in^2\n",
      "r_bar=(A1*(r1+t)+A2*(r2+d))*(A1+A2)**-1 #Centroidal Axis in inches\n",
      "#Simplfying the computation\n",
      "a=(r1+2*t)/r1\n",
      "b=r2/(r1+t*2)\n",
      "integral=d*math.log(a)+2*t*math.log(b) #\n",
      "R=A/integral #Radius of neutral Surface in inches\n",
      "\n",
      "#Maximum Stress\n",
      "#Answers are in variable terms hence not computable\n",
      "\n",
      "P=sigma_w/0.7847 #Maximum Allowable load in kips\n",
      "\n",
      "#Result\n",
      "print \"The maximum allowable load is\",round(P,1),\"kips\"\n"
     ],
     "language": "python",
     "metadata": {},
     "outputs": [
      {
       "output_type": "stream",
       "stream": "stdout",
       "text": [
        "The maximum allowable load is 22.9 kips\n"
       ]
      }
     ],
     "prompt_number": 58
    }
   ],
   "metadata": {}
  }
 ]
}