{
 "metadata": {
  "name": "",
  "signature": "sha256:39be4bd5a29fce6d0d8085f52939f9fac01e348dbfffcb5b53194aa4be7d5f98"
 },
 "nbformat": 3,
 "nbformat_minor": 0,
 "worksheets": [
  {
   "cells": [
    {
     "cell_type": "heading",
     "level": 1,
     "metadata": {},
     "source": [
      "Chapter10:Columns"
     ]
    },
    {
     "cell_type": "heading",
     "level": 2,
     "metadata": {},
     "source": [
      "Example 10.10.1, Page No:369"
     ]
    },
    {
     "cell_type": "code",
     "collapsed": false,
     "input": [
      "import math\n",
      "\n",
      "#Variable Decleration\n",
      "Le=7 #Effective length in m\n",
      "P=450 #Applied axial Load in kN\n",
      "FOS=3 #Factor of safety \n",
      "sigma_pl=200*10**6 #Stress allowable in Pa\n",
      "E=200*10**9 #Youngs Modulus in Pa\n",
      "end_cond=0.7 #End Condition factor to be multiplied\n",
      "\n",
      "#Calculations\n",
      "Pcr=P*FOS #Critical Load in kN\n",
      "A=Pcr*sigma_pl**-1*10**9 #Area in mm^2\n",
      "\n",
      "#Part 1\n",
      "I1=10**15*(Pcr*Le**2)*(pi**2*E)**-1 #Moment of Inertia Required in mm^4\n",
      "#From table selecting appropriate Section W250x73\n",
      "\n",
      "#Part 2\n",
      "I2=10**15*(Pcr*end_cond**2*Le**2)*(pi**2*E)**-1 #Moment of Inertia Required in mm^4\n",
      "#From table selecting appropriate Section W200x52\n",
      "\n",
      "#Lightest Section that meets these criterion is W250x58 section\n",
      "\n",
      "\n",
      "#Result\n",
      "print \"From the above computation we select W250x58 section\"\n"
     ],
     "language": "python",
     "metadata": {},
     "outputs": [
      {
       "output_type": "stream",
       "stream": "stdout",
       "text": [
        "From the above computation we select W250x58 section\n"
       ]
      }
     ],
     "prompt_number": 8
    },
    {
     "cell_type": "heading",
     "level": 2,
     "metadata": {},
     "source": [
      "Example 10.10.2, Page No:375"
     ]
    },
    {
     "cell_type": "code",
     "collapsed": false,
     "input": [
      "import math\n",
      "\n",
      "#Variabel Decleration\n",
      "E=200*10**9 #Youngs Modulus in Pa\n",
      "sigma_yp=380*10**6 #Stress allowable in Pa\n",
      "Le=10 #Length in m\n",
      "end_cond=0.5 #Support condition factor to be ,ultiplied to length\n",
      "A=15.5*10**-3 #Area in m^2\n",
      "\n",
      "#Calculations\n",
      "Cc=sqrt((2*pi**2*E)*sigma_yp**-1) #Slenderness Ratio\n",
      "\n",
      "#Part 1\n",
      "S_R1=142.9 #Slenderness ratio \n",
      "sigma_w=(12*pi**2*E)/(23*S_R1**2) #Allowable Working Stress in Pa\n",
      "P=sigma_w*A #Maximum Allowable Load in kN\n",
      "\n",
      "#Part 2\n",
      "S_R2=79.37 #Slenderness ratio \n",
      "N=5*3**-1+((3*S_R2)/(8*Cc))-(S_R2**3*(8*Cc**3)**-1) #Factor Of Safety\n",
      "\n",
      "sigma_w2=(1-(S_R2**2*0.5*Cc**-2))*(sigma_yp*N**-1) #Allowable working Stress in Pa\n",
      "P2=sigma_w2*A #Allowable Load in kN\n",
      "\n",
      "#Part 3\n",
      "S_R3=55.56 #Slenderness Ratio\n",
      "N3=5*3**-1+((3*S_R3)/(8*Cc))-(S_R3**3*(8*Cc**3)**-1) #Factor Of Safety\n",
      "\n",
      "sigma_w3=(1-(S_R3**2*0.5*Cc**-2))*(sigma_yp*N3**-1) #Allowable working Stress in Pa\n",
      "P3=sigma_w3*A #Allowable Load in kN\n",
      "\n",
      "#Result\n",
      "print \"The results for Part 1 are\"\n",
      "print \"Maximum Allowable Load P=\",round(P*10**-3),\"kN\"\n",
      "print \"Part 2\"\n",
      "print \"Maximum Allowable Load P=\",round(P2*10**-3),\"kN\"\n",
      "print \"Part 3\"\n",
      "print \"Maximum Allowable Load P=\",round(P3*10**-3),\"kN\""
     ],
     "language": "python",
     "metadata": {},
     "outputs": [
      {
       "output_type": "stream",
       "stream": "stdout",
       "text": [
        "The results for Part 1 are\n",
        "Maximum Allowable Load P= 782.0 kN\n",
        "Part 2\n",
        "Maximum Allowable Load P= 2161.0 kN\n",
        "Part 3\n",
        "Maximum Allowable Load P= 2710.0 kN\n"
       ]
      }
     ],
     "prompt_number": 22
    },
    {
     "cell_type": "heading",
     "level": 2,
     "metadata": {},
     "source": [
      "Example 10.10.3, Page No:383"
     ]
    },
    {
     "cell_type": "code",
     "collapsed": false,
     "input": [
      "import math\n",
      "import numpy as np\n",
      "\n",
      "#Variabel Decleration\n",
      "E=29*10**6 #Youngs Modulus in psi\n",
      "sigma_yp=36*10**3 #Stress in psi\n",
      "L=25 #Length in ft\n",
      "A=17.9 #Area in in^2\n",
      "Iz=640 #Moment of inertia in in^4\n",
      "Sz=92.2 #Sectional Modulus in in^3\n",
      "P=150*10**3 #Load in lb\n",
      "e=4 #Eccentricity in inches\n",
      "\n",
      "#Calculations\n",
      "\n",
      "#Part 1\n",
      "a=1.09836\n",
      "sigma_max=P*A**-1+(P*e*Sz**-1)*a #Maximum Stress in psi\n",
      "\n",
      "#Part 2\n",
      "#After simplification we get the equation to compute N\n",
      "N=2.19 #Trial and Error yields\n",
      "\n",
      "#Part 3\n",
      "v_max=e*((np.cos(sqrt((P*L**2*12**2)*(4*E*Iz)**-1)))**-1-1)\n",
      "\n",
      "#Result\n",
      "print \"The maximum compressive stress in the Column is\",round(sigma_max,2),\"psi\"\n",
      "print \"The factor of safety is\",N\n",
      "print \"The maximum lateral dfelection is\",round(v_max,3),\"in\""
     ],
     "language": "python",
     "metadata": {},
     "outputs": [
      {
       "output_type": "stream",
       "stream": "stdout",
       "text": [
        "The maximum compressive stress in the Column is 15527.57 psi\n",
        "The factor of safety is 2.19\n",
        "The maximum lateral dfelection is 0.393 in\n"
       ]
      }
     ],
     "prompt_number": 10
    },
    {
     "cell_type": "heading",
     "level": 2,
     "metadata": {},
     "source": [
      "Example 10.10.4, Page No:384"
     ]
    },
    {
     "cell_type": "code",
     "collapsed": false,
     "input": [
      "import math\n",
      "\n",
      "#Variable Decleration\n",
      "Le=7 #Effective Length in m\n",
      "N=2 #Factor of Safety\n",
      "h_max=400 #Maximum depth in mm\n",
      "E=200 #Youngs Modulus in GPa\n",
      "sigma_yp=250 #Maximum stress in yielding in MPa\n",
      "P1=400 #Load 1 in kN\n",
      "P2=900 #Load 2 in kN\n",
      "x1=75 #Distance in mm\n",
      "x2=125 #Distance in mm\n",
      "\n",
      "#Calculations\n",
      "e=(P2*x2-P1*x1)*(P1+P2)**-1 #Eccentricity in mm\n",
      "P=N*(P1+P2) #Applied load after factor of safety is considered in kN\n",
      "\n",
      "#Part 1 is not computable\n",
      "I=415*10**-6 #Moment of inertia from the table in mm^4\n",
      "\n",
      "#Part 2\n",
      "P_cr=pi**2*E*10**9*I*Le**-2 #Critical load for buckling in kN\n",
      "FOS=P_cr*10**-3/(P1+P2) #Factor of safety against buckling in y-axis\n",
      "\n",
      "\n",
      "#Result\n",
      "print \"The critical load for buckling is\",round(P_cr*10**-3),\"kN\"\n",
      "print \"The factor of safety is\",round(FOS,1)"
     ],
     "language": "python",
     "metadata": {},
     "outputs": [
      {
       "output_type": "stream",
       "stream": "stdout",
       "text": [
        "The critical load for buckling is 16718.0 kN\n",
        "The factor of safety is 12.9\n"
       ]
      }
     ],
     "prompt_number": 27
    }
   ],
   "metadata": {}
  }
 ]
}