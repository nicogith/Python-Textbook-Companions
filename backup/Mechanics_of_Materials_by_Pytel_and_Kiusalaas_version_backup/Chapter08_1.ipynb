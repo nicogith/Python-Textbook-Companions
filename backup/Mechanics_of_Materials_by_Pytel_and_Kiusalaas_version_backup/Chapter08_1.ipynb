{
 "metadata": {
  "name": "",
  "signature": "sha256:b494877451d53f8b0ca30d008c3144520923dfdb33c6562fbcdeab1b4ca2b7ce"
 },
 "nbformat": 3,
 "nbformat_minor": 0,
 "worksheets": [
  {
   "cells": [
    {
     "cell_type": "heading",
     "level": 1,
     "metadata": {},
     "source": [
      "Chapter08:Stresses due to Combined Loading"
     ]
    },
    {
     "cell_type": "heading",
     "level": 2,
     "metadata": {},
     "source": [
      "Examlple 8.8.1, Page No:275"
     ]
    },
    {
     "cell_type": "code",
     "collapsed": false,
     "input": [
      "import math\n",
      "\n",
      "#Variable Decleration\n",
      "p=125 #Pressure in psi\n",
      "r=24 #Radius of the vessel in inches\n",
      "t=0.25 #Thickness of the vessel in inches\n",
      "E=29*10**6 #Modulus of Elasticity in psi\n",
      "v=0.28 #poisson ratio\n",
      "\n",
      "#Calcualtions\n",
      "#Part 1\n",
      "sigma_c=p*r*t**-1 #Circumferential Stress in psi\n",
      "sigma_l=sigma_c/2 #Longitudinat Stress in psi\n",
      "e_c=E**-1*(sigma_c-(v*sigma_l)) #Circumferential Strain using biaxial Hooke's Law \n",
      "delta_r=e_c*r #Change in the radius in inches\n",
      "\n",
      "#Part 2\n",
      "sigma=(p*r)*(2*t)**-1 #Stress in psi\n",
      "e=E**-1*(sigma-(v*sigma)) #Strain using biaxial Hooke's Law\n",
      "delta_R=e*r #Change inradius of end-cap in inches\n",
      "\n",
      "#Result\n",
      "print \"Part 1 Answers\"\n",
      "print \"Stresses are sigma_c=\",round(sigma_c),\"psi and sigma_l=\",round(sigma_l),\"psi\"\n",
      "print \"Change of radius of cylinder=\",round(delta_r,5),\"in\"\n",
      "print \"Part 2 Answers\"\n",
      "print \"Stresses are sigma=\",round(sigma),\"psi\"\n",
      "print \"Change in radius of end cap=\",round(delta_R,5),\"in\""
     ],
     "language": "python",
     "metadata": {},
     "outputs": [
      {
       "output_type": "stream",
       "stream": "stdout",
       "text": [
        "Part 1 Answers\n",
        "Stresses are sigma_c= 12000.0 psi and sigma_l= 6000.0 psi\n",
        "Change of radius of cylinder= 0.00854 in\n",
        "Part 2 Answers\n",
        "Stresses are sigma= 6000.0 psi\n",
        "Change in radius of end cap= 0.00358 in\n"
       ]
      }
     ],
     "prompt_number": 5
    },
    {
     "cell_type": "heading",
     "level": 2,
     "metadata": {},
     "source": [
      "Example 8.8.2, Page No:280"
     ]
    },
    {
     "cell_type": "code",
     "collapsed": false,
     "input": [
      "import math\n",
      "import matplotlib.pyplot as plt\n",
      "%matplotlib inline\n",
      "\n",
      "#Variable Decleration\n",
      "P=40 #Force in kN\n",
      "b=0.050 #Width in m\n",
      "h=0.040 #Depth in m\n",
      "\n",
      "#Calculations\n",
      "#Part 1\n",
      "A=b*h #Area in m^2\n",
      "I=(b*h**3)*12**-1 #Moment of inertia in m^4\n",
      "c=h*0.5 #m\n",
      "sigma_max=(P*A**-1)+(P*c**2*I**-1) #Maximum stress in MPa\n",
      "sigma_min=(P*A**-1)-(P*c**2*I**-1) #Minimum stress in MPa\n",
      "\n",
      "#Result\n",
      "print \"The Maximum and Minimum Stress are\"\n",
      "print \"Max=\",sigma_max/1000,\"MPa and Min=\",sigma_min/1000,\"MPa\"\n",
      "\n",
      "#Plotting\n",
      "x=[20,0,-20]\n",
      "S=[-sigma_min/1000,0,sigma_max/1000]\n",
      "plt.plot(S,x)\n",
      "plt.ylabel(\"Distance from Neutral Axis in mm\")\n",
      "plt.xlabel(\"Stress in MPa\")\n",
      "plt.title(\"Stress Distribution Diagram\")\n",
      "plt.show()"
     ],
     "language": "python",
     "metadata": {},
     "outputs": [
      {
       "output_type": "stream",
       "stream": "stdout",
       "text": [
        "The Maximum and Minimum Stress are\n",
        "Max= 80.0 MPa and Min= -40.0 MPa\n"
       ]
      },
      {
       "metadata": {},
       "output_type": "display_data",
       "png": "[encoded data removed]",
       "text": [
        "<matplotlib.figure.Figure at 0x10b6d0310>"
       ]
      }
     ],
     "prompt_number": 21
    },
    {
     "cell_type": "heading",
     "level": 2,
     "metadata": {},
     "source": [
      "Example 8.8.3, Page No:281"
     ]
    },
    {
     "cell_type": "code",
     "collapsed": false,
     "input": [
      "import math\n",
      "\n",
      "#Variabel Decleration\n",
      "b=6 #Width in inches\n",
      "h=10 #Depth in inches\n",
      "P1=6000 #Force in lb\n",
      "P2=3000 #Force in lb\n",
      "L=4 #Length in ft\n",
      "P=-13400 #Load in lb\n",
      "M=6000 #Moment in lb.ft\n",
      "y=5 #Depth in inches\n",
      "P2=-9800 #Load in lb\n",
      "M2=-12000 #Moment in lb.ft\n",
      "\n",
      "#Calculations\n",
      "A=b*h #Area in in^2\n",
      "I=b*h**3*12**-1 #Moment of inertia in in^4\n",
      "T=(P1*L+P2*L*3)*(6)**-1 #Tension in the cable in lb\n",
      "\n",
      "#Computation of largest stress\n",
      "sigma_B=(P*A**-1)-(M*y*12*I**-1) #Maximum Compressive Stress caused by +ve BM in psi\n",
      "sigma_C=(P2*A**-1)-(M2*-y*12*I**-1) #Maximum Compressive Stress caused by -ve BM in psi\n",
      "\n",
      "sigma_max=max(-sigma_B,-sigma_C) #Maximum Compressive Stress in psi\n",
      "\n",
      "#Result\n",
      "print \"The maximum Stress is\",round(sigma_max),\"psi\""
     ],
     "language": "python",
     "metadata": {},
     "outputs": [
      {
       "output_type": "stream",
       "stream": "stdout",
       "text": [
        "The maximum Stress is 1603.0 psi\n"
       ]
      }
     ],
     "prompt_number": 27
    },
    {
     "cell_type": "heading",
     "level": 2,
     "metadata": {},
     "source": [
      "Example 8.8.4, Page No:297"
     ]
    },
    {
     "cell_type": "code",
     "collapsed": false,
     "input": [
      "import math\n",
      "\n",
      "#Variable Decleration\n",
      "theta=(60*pi)/180 #Angle in radians (Twice as declared)\n",
      "sigma_x=30 # Stress in x in MPa\n",
      "sigma_y=60 #Stress in y in MPa\n",
      "tau_xy=40 #Stress in MPa\n",
      "\n",
      "#Calcualtions\n",
      "sigma_xdash=0.5*(sigma_x+sigma_y)+0.5*(sigma_x-sigma_y)*cos(theta)+tau_xy*sin(theta) #Stress at x' axis in MPa\n",
      "sigma_ydash=0.5*(sigma_x+sigma_y)-0.5*(sigma_x-sigma_y)*cos(theta)-tau_xy*sin(theta) #Stress at y' axis in MPa\n",
      "tau_x_y=-0.5*(sigma_x-sigma_y)*sin(theta)+tau_xy*cos(theta) #Stress at x'y' in shear in MPa\n",
      "#Result\n",
      "print \"The new stresses at new axes are as follows\"\n",
      "print \"sigma_x'=\",round(sigma_xdash,1),\"MPa sigma_y'=\",round(sigma_ydash,1),\"MPa\"\n",
      "print \"And tau_x'y'=\",round(tau_x_y),\"MPa\""
     ],
     "language": "python",
     "metadata": {},
     "outputs": [
      {
       "output_type": "stream",
       "stream": "stdout",
       "text": [
        "The new stresses at new axes are as follows\n",
        "sigma_x'= 72.1 MPa sigma_y'= 17.9 MPa\n",
        "And tau_x'y'= 33.0 MPa\n"
       ]
      }
     ],
     "prompt_number": 22
    },
    {
     "cell_type": "heading",
     "level": 2,
     "metadata": {},
     "source": [
      "Example 8.8.5, Page No:297"
     ]
    },
    {
     "cell_type": "code",
     "collapsed": false,
     "input": [
      "import math\n",
      "\n",
      "#Variable Decleration\n",
      "sigma_x=8000 #Stress in x in psi\n",
      "sigma_y=4000 #Stress in y in psi\n",
      "tau_xy=3000 #Stress in xy in psi\n",
      "\n",
      "#Calculations\n",
      "R=sqrt(((sigma_x-sigma_y)*0.5)**2+tau_xy**2) #Resultant Stress in psi\n",
      "\n",
      "#Principal Stresses\n",
      "sigma1=(sigma_x+sigma_y)*0.5+R #Principal Stress in psi\n",
      "sigma2=(sigma_x+sigma_y)*0.5-R #Principal Stress in psi\n",
      "\n",
      "#Principal Direction\n",
      "theta1=arctan(2*tau_xy*(sigma_x-sigma_y)**-1)*0.5*180*pi**-1 #Principal direction in degrees\n",
      "theta2=theta1+90 #Second pricnipal direction in degrees\n",
      "\n",
      "#Normal Stress\n",
      "sigma_xdash=0.5*(sigma_x+sigma_y)+0.5*(sigma_x-sigma_y)*cos(2*theta1*pi*180**-1)+tau_xy*sin(2*theta1*pi*180**-1)\n",
      "\n",
      "#Result\n",
      "print \"The principal stresses are as follows\"\n",
      "print \"sigma1=\",round(sigma1),\"psi and sigma2=\",round(sigma2),\"psi\"\n",
      "print \"The corresponding directions are\"\n",
      "print \"Theta1=\",round(theta1,1),\"degrees and Theta2=\",round(theta2,1),\"degrees\"\n",
      "\n",
      "#NOTE:The answer in the textbook for principal stresses is off by 4 units in each case"
     ],
     "language": "python",
     "metadata": {},
     "outputs": [
      {
       "output_type": "stream",
       "stream": "stdout",
       "text": [
        "The principal stresses are as follows\n",
        "sigma1= 9606.0 psi and sigma2= 2394.0 psi\n",
        "The corresponding directions are\n",
        "Theta1= 28.2 degrees and Theta2= 118.2 degrees\n"
       ]
      }
     ],
     "prompt_number": 2
    },
    {
     "cell_type": "heading",
     "level": 2,
     "metadata": {},
     "source": [
      "Example 8.8.6, Page No:298"
     ]
    },
    {
     "cell_type": "code",
     "collapsed": false,
     "input": [
      "import math\n",
      "\n",
      "#Variable Decleration\n",
      "sigma_x=40 #Stress in x in MPa\n",
      "sigma_y=-100 #Stress in y in MPa\n",
      "tau_xy=-50 #Shear stress in MPa\n",
      "\n",
      "#Calculations\n",
      "tau_max=sqrt(((sigma_x-sigma_y)*0.5)**2+tau_xy**2) #Maximum in-plane shear in MPa\n",
      "\n",
      "#Orientation of Plane\n",
      "theta1=arctan(-((sigma_x-sigma_y)*(2*tau_xy)**-1))*180*pi**-1*0.5 #Angle in Degrees\n",
      "theta2=theta1+90 #Angle in degrees\n",
      "\n",
      "#Plane of max in-plane shear\n",
      "tau_x_y=-0.5*(sigma_x-sigma_y)*sin(2*theta1*pi*180**-1)+tau_xy*cos(2*theta1*pi*180**-1) \n",
      "\n",
      "#Normal Stress\n",
      "sigma=(sigma_x+sigma_y)*0.5 #Stress in MPa\n",
      "\n",
      "#Result\n",
      "print \"The maximum in-plane Shear is\",round(tau_x_y),\"MPa\""
     ],
     "language": "python",
     "metadata": {},
     "outputs": [
      {
       "output_type": "stream",
       "stream": "stdout",
       "text": [
        "The maximum in-plane Shear is -86.0 MPa\n"
       ]
      }
     ],
     "prompt_number": 24
    },
    {
     "cell_type": "heading",
     "level": 2,
     "metadata": {},
     "source": [
      "Example 8.8.7, Page No:305"
     ]
    },
    {
     "cell_type": "code",
     "collapsed": false,
     "input": [
      "import math\n",
      "\n",
      "#Vairable Decleration\n",
      "sigma_x=40 #Stress in x in MPa\n",
      "sigma_y=20 #Stress in y in MPa\n",
      "tau_xy=16 #Shear in xy in MPa\n",
      "\n",
      "#Calculations\n",
      "sigma=(sigma_x+sigma_y)*0.5 #Normal Stress in MPa\n",
      "R=sqrt(((sigma_x-sigma_y)*0.5)**2+tau_xy**2) #Resultant Stress in MPa\n",
      "\n",
      "#Part 1\n",
      "sigma1=sigma+R #Principal Stress in MPa\n",
      "sigma2=sigma-R #Principal Stress in MPa\n",
      "theta=arctan(tau_xy*((sigma_x-sigma_y)*0.5)**-1)*180*pi**-1*0.5 #Orientation in degrees\n",
      "\n",
      "#Part 2\n",
      "tau_max=18.87 #From figure in MPa\n",
      "\n",
      "#Part 3\n",
      "sigma_xdash=sigma+tau_max*cos((100-theta*2)*pi*180**-1) #Stress in MPa\n",
      "sigma_ydash=sigma-tau_max*cos((100-theta*2)*pi*180**-1) #Stress in MPa\n",
      "tau_x_y=tau_max*sin((100-2*theta)*pi*180**-1) #Shear stress in MPa\n",
      "\n",
      "#Result\n",
      "print \"The principal Stresses are\"\n",
      "print \"Sigma1=\",round(sigma1,1),\"MPa and Sigma2=\",round(sigma2,1),\"MPa\"\n",
      "print \"The Principal Plane is at\",round(theta),\"degrees\"\n",
      "print \"The  Maximum Shear Stress is\",tau_max,\"MPa\"\n",
      "print \"Sigma_x'=\",round(sigma_xdash),\"MPa and Sigma_y'=\",round(sigma_ydash,2),\"MPa\"\n",
      "print \"Tau_x'y'=\",round(tau_x_y,2),\"MPa\""
     ],
     "language": "python",
     "metadata": {},
     "outputs": [
      {
       "output_type": "stream",
       "stream": "stdout",
       "text": [
        "The principal Stresses are\n",
        "Sigma1= 48.9 MPa and Sigma2= 11.1 MPa\n",
        "The Principal Plane is at 29.0 degrees\n",
        "The  Maximum Shear Stress is 18.87 MPa\n",
        "Sigma_x'= 44.0 MPa and Sigma_y'= 15.98 MPa\n",
        "Tau_x'y'= 12.63 MPa\n"
       ]
      }
     ],
     "prompt_number": 32
    },
    {
     "cell_type": "heading",
     "level": 2,
     "metadata": {},
     "source": [
      "Example 8.8.9, Page No:316"
     ]
    },
    {
     "cell_type": "code",
     "collapsed": false,
     "input": [
      "import math\n",
      "\n",
      "#Variabel Decleration\n",
      "sigma_w=120 #Working Stress in MPa\n",
      "tau_w=70 #Working Shear in MPa\n",
      "\n",
      "#Calcualtions\n",
      "#Section a-a\n",
      "M=3750 #Applied moment at section a-a in N.m\n",
      "T=1500 #Applied Torque at section a-a in N.m\n",
      "\n",
      "#After carrying out the variable based computation we compute d\n",
      "d1=((124.62)/(sigma_w*10**3*pi))**0.3333 #Diameter of the shaft in m\n",
      "d2=((65.6)/(tau_w*10**3*pi))**0.3333 #Diameter of the shaft in m\n",
      "d=max(d1,d2) #Diameter of the shaft to be selected in m\n",
      "\n",
      "#Result\n",
      "print \"The diameter of the shaft to be selected is\",round(d*1000,1),\"mm\""
     ],
     "language": "python",
     "metadata": {},
     "outputs": [
      {
       "output_type": "stream",
       "stream": "stdout",
       "text": [
        "The diameter of the shaft to be selected is 69.2 mm\n"
       ]
      }
     ],
     "prompt_number": 37
    },
    {
     "cell_type": "heading",
     "level": 2,
     "metadata": {},
     "source": [
      "Example 8.8.10, Page No:318"
     ]
    },
    {
     "cell_type": "code",
     "collapsed": false,
     "input": [
      "import math\n",
      "\n",
      "#Variable Decleration\n",
      "t=0.01 #Thickness of the shaft in m\n",
      "p=2 #Internal Pressure in MPa\n",
      "r=0.45 #Mean radius of the vessel in m\n",
      "tw=50 #Working shear stress in MPa\n",
      "\n",
      "#Calculation\n",
      "sigma_x=(p*r)/(2*t) #Stress in MPa\n",
      "sigma_y=(p*r)/t #Stress in MPa\n",
      "\n",
      "R=100-67.5 #From the diagram in MPa\n",
      "tau_xy=sqrt((R**2-(sigma_y-67.5)**2)) #Stress in MPa\n",
      "\n",
      "J=2*pi*r**3*t #Polar Moment of inertia in mm^4\n",
      "\n",
      "T=1000*(tau_xy*J)/r #Maximum allowable Torque in kN.m\n",
      "\n",
      "#Result\n",
      "print \"The largest allowable Torque is\",round(T),\"kN.m\""
     ],
     "language": "python",
     "metadata": {},
     "outputs": [
      {
       "output_type": "stream",
       "stream": "stdout",
       "text": [
        "The largest allowable Torque is 298.0 kN.m\n"
       ]
      }
     ],
     "prompt_number": 45
    },
    {
     "cell_type": "heading",
     "level": 2,
     "metadata": {},
     "source": [
      "Example 8.8.11, Page No:320"
     ]
    },
    {
     "cell_type": "code",
     "collapsed": false,
     "input": [
      "import math\n",
      "\n",
      "#Variable Decleration\n",
      "L=15 #Length of the shaft in inches\n",
      "r=3.0/8.001 #Radius of the shaft in inches\n",
      "T=540 #Torque applied in lb.in\n",
      "\n",
      "#Calculations\n",
      "V=30 #Transverse Shear Force in lb\n",
      "M=15*V #Bending Moment in lb.in\n",
      "I=(pi*r**4)/4.0 #Moment of Inertia in in^4\n",
      "J=2*I #Polar Moment Of Inertia in in^4\n",
      "\n",
      "#Part 1\n",
      "sigma=(M*r)/I #Bending Stress in psi\n",
      "tau_t=10**-3*(T*r)/J #Shear Stress in ksi\n",
      "\n",
      "sigma_max1=13.92 #From the Mohr Circle in ksi\n",
      "\n",
      "#Part 2\n",
      "Q=(2*r**3)/3.0 #First Moment in in^3\n",
      "b=2*r # in\n",
      "\n",
      "tau_V=10**-3*(V*Q)/(I*b) #Shear Stress in ksi\n",
      "tau=tau_t+tau_V #Total Shear in ksi\n",
      "\n",
      "sigma_max2=tau #Maximum stress in ksi\n",
      "\n",
      "#Result\n",
      "print \"The maximum normal stress in case 1 is\",sigma_max1,\"ksi\"\n",
      "print \"The Maximum normal stress in case 2 is\",round(sigma_max2,2),\"ksi\""
     ],
     "language": "python",
     "metadata": {},
     "outputs": [
      {
       "output_type": "stream",
       "stream": "stdout",
       "text": [
        "The maximum normal stress in case 1 is 13.92 ksi\n",
        "The Maximum normal stress in case 2 is 6.61 ksi\n"
       ]
      }
     ],
     "prompt_number": 60
    },
    {
     "cell_type": "heading",
     "level": 2,
     "metadata": {},
     "source": [
      "Example 8.8.12, Page No:330"
     ]
    },
    {
     "cell_type": "code",
     "collapsed": false,
     "input": [
      "import math\n",
      "\n",
      "#Variable Decleration\n",
      "ex=800*10**-6 #Strain in x \n",
      "ey=200*10**-6 #Strain in y\n",
      "y_xy=-600*10**-6 #Strain in xy\n",
      "\n",
      "#Calculations\n",
      "e_bar=(ex+ey)*0.5 #Strain \n",
      "R=sqrt(2*300**2)*10**-6 #Resultant \n",
      "\n",
      "#Part 1\n",
      "e1=e_bar+R #Strain in Principal Axis\n",
      "e2=e_bar-R #Strain in Principal Axis\n",
      "\n",
      "#Part 2\n",
      "alpha=15*180**-1*pi #From the Mohr Circle in degrees\n",
      "e_xbar=e_bar-(R*cos(alpha)) #Strain in x \n",
      "e_ybar=e_bar+(R*cos(alpha)) #Strain in y\n",
      "\n",
      "shear_strain=2*R*sin(alpha) #Shear starin \n",
      "\n",
      "#Result\n",
      "print \"The principal Strains are\"\n",
      "print \"e1=\",round(e1,6),\"e2=\",round(e2,6)\n",
      "print \"The starin components are\"\n",
      "print \"ex'=\",round(e_xbar,6),\"ey'=\",round(e_ybar,6),\"y_x'y'=\",round(shear_strain,6)"
     ],
     "language": "python",
     "metadata": {},
     "outputs": [
      {
       "output_type": "stream",
       "stream": "stdout",
       "text": [
        "The principal Strains are\n",
        "e1= 0.000924 e2= 7.6e-05\n",
        "The starin components are\n",
        "ex'= 9e-05 ey'= 0.00091 y_x'y'= 0.00022\n"
       ]
      }
     ],
     "prompt_number": 16
    },
    {
     "cell_type": "heading",
     "level": 2,
     "metadata": {},
     "source": [
      "Example 8.8.13, Page No:331"
     ]
    },
    {
     "cell_type": "code",
     "collapsed": false,
     "input": [
      "import math\n",
      "\n",
      "#Variable Decleration\n",
      "e_x=800*10**-6 #Strain in x\n",
      "e_y=200*10**-6 #Strain in y\n",
      "y_xy=-600*10**-6 #Strain in xy\n",
      "v=0.30 #Poissons Ratio\n",
      "E=200 #Youngs Modulus in GPa\n",
      "R_e=424.3*10**-6 #Strain\n",
      "e_bar=500*10**-6 #Strain\n",
      "\n",
      "#Calculations\n",
      "#Part 1\n",
      "R_sigma=10**-6*R_e*(E*10**9/(1+v)) #Stress in MPa\n",
      "sigma_bar=10**-6*e_bar*(E*10**9/(1-v)) #Stress in MPa\n",
      "\n",
      "#Part 2\n",
      "sigma1=sigma_bar+R_sigma #Principal Stress in MPa\n",
      "sigma2=sigma_bar-R_sigma #Principal Stress in MPa\n",
      "\n",
      "#Result\n",
      "print \"The principal Stresses are as follows\"\n",
      "print \"Sigma1=\",round(sigma1),\"MPa and Sigma2=\",round(sigma2,1),\"MPa\""
     ],
     "language": "python",
     "metadata": {},
     "outputs": [
      {
       "output_type": "stream",
       "stream": "stdout",
       "text": [
        "The principal Stresses are as follows\n",
        "Sigma1= 208.0 MPa and Sigma2= 77.6 MPa\n"
       ]
      }
     ],
     "prompt_number": 20
    },
    {
     "cell_type": "heading",
     "level": 2,
     "metadata": {},
     "source": [
      "Example 8.8.14, Page No:336"
     ]
    },
    {
     "cell_type": "code",
     "collapsed": false,
     "input": [
      "import math\n",
      "\n",
      "#Variable Decleration\n",
      "e_a=100*10**-6 #Strain \n",
      "e_b=300*10**-6 #Strain\n",
      "e_c=-200*10**-6 #Strain\n",
      "E=180 #Youngs Modulus in GPa\n",
      "v=0.28 #Poissons Ratio \n",
      "\n",
      "#Calculations\n",
      "y_xy=(e_b-(e_a+e_c)*0.5) #Strain in xy\n",
      "e_bar=(e_a+e_c)*0.5 #Strain \n",
      "R_e=sqrt(y_xy**2+(150*10**-6)**2) #Resultant Strain\n",
      "\n",
      "#Corresponding Parameters from Mohrs Diagram\n",
      "sigma_bar=(E/(1-v))*e_bar*10**3 #Stress in MPa\n",
      "R_sigma=(E/(1+v))*R_e*10**3 #Resultant Stress in MPa\n",
      "\n",
      "#Principal Stresses\n",
      "sigma1=sigma_bar+R_sigma #MPa\n",
      "sigma2=sigma_bar-R_sigma #MPa\n",
      "\n",
      "theta=arctan(y_xy/(150*10**-6))*180*pi**-1*0.5 #Degrees\n",
      "\n",
      "#Result\n",
      "print \"The Principal Stresses are as follows\"\n",
      "print \"Sigma1=\",round(sigma1,1),\"MPa and Sigma2=\",round(sigma2,2),\"MPa\"\n",
      "print \"The plane orientation is\",round(theta,2),\"degrees\""
     ],
     "language": "python",
     "metadata": {},
     "outputs": [
      {
       "output_type": "stream",
       "stream": "stdout",
       "text": [
        "The Principal Stresses are as follows\n",
        "Sigma1= 41.0 MPa and Sigma2= -66.05 MPa\n",
        "The plane orientation is 33.4 degrees\n"
       ]
      }
     ],
     "prompt_number": 32
    }
   ],
   "metadata": {}
  }
 ]
}