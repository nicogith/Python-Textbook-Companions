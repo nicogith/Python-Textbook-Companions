{
 "metadata": {
  "name": "",
  "signature": "sha256:9b1229db232c49aaabbc7f0d29465c24cc6508532c6b435aa2f1e98a362531bd"
 },
 "nbformat": 3,
 "nbformat_minor": 0,
 "worksheets": [
  {
   "cells": [
    {
     "cell_type": "heading",
     "level": 1,
     "metadata": {},
     "source": [
      " Chapter 1:Introduction"
     ]
    },
    {
     "cell_type": "heading",
     "level": 2,
     "metadata": {},
     "source": [
      "Example 1.1 , Page no:5"
     ]
    },
    {
     "cell_type": "code",
     "collapsed": false,
     "input": [
      "#Variable declaration\n",
      "v=28.8*10**-6; #the viscosity of water at 100 degree Celsius in kgf s/m^2\n",
      "g=9.81; #Acceleration due to gravity in m/s^2\n",
      "\n",
      "#calculations\n",
      "v=28.8*10**-6*g; # Conversion of unit\n",
      "\n",
      "#result\n",
      "print (\"The viscosity of water at 100 degree Celsius = {:.4e}\".format(v)),\"N s/m^2 (or kg/m s)\""
     ],
     "language": "python",
     "metadata": {},
     "outputs": [
      {
       "output_type": "stream",
       "stream": "stdout",
       "text": [
        "The viscosity of water at 100 degree Celsius = 2.8253e-04 N s/m^2 (or kg/m s)\n"
       ]
      }
     ],
     "prompt_number": 1
    },
    {
     "cell_type": "heading",
     "level": 2,
     "metadata": {},
     "source": [
      "Example 1.2, Page no:14"
     ]
    },
    {
     "cell_type": "code",
     "collapsed": false,
     "input": [
      "#variable declaration\n",
      "i=950; # radiation flux [W/m^ 2 ]\n",
      "A=1.5; # area [m^ 2 ]\n",
      "Ti=61; # inlet temperature\n",
      "To=69; # outlet temperature\n",
      "m=1.5; # mass flow rate\n",
      "M=1.5/60; # kg/sec\n",
      "Qconductn=50; # W\n",
      "t=0.95; # transmissivity\n",
      "a=0.97; # absoptivity\n",
      "Cp=4183; # J/kg K\n",
      "\n",
      "#calculations\n",
      "q=M*Cp*(To-Ti); # heat gain rate\n",
      "n=q/(i*A); # thermal efficiency\n",
      "n_percent=n*100; # thermal efficiency\n",
      "Qreradiated=(i*A*t*a)-Qconductn-q; # rate at which energy is lost by re-radiation\n",
      "\n",
      "#result\n",
      "print \"Useful heat gain rate is \",round(q,4),\"W\"\n",
      "print \"Thermal efficiency is\",'%.4E'%n,\"i.e\",round(n_percent,3),\"%\"\n",
      "print \"The rate at which energy is lost by re-radiation and convection is \", round(Qreradiated,6),\"W\"\n",
      "      \n"
     ],
     "language": "python",
     "metadata": {},
     "outputs": [
      {
       "output_type": "stream",
       "stream": "stdout",
       "text": [
        "Useful heat gain rate is  836.6 W\n",
        "Thermal efficiency is 5.8709E-01 i.e 58.709 %\n",
        "The rate at which energy is lost by re-radiation and convection is  426.5375 W\n"
       ]
      }
     ],
     "prompt_number": 2
    },
    {
     "cell_type": "heading",
     "level": 2,
     "metadata": {},
     "source": [
      "Example 1.3, Page no:16"
     ]
    },
    {
     "cell_type": "code",
     "collapsed": false,
     "input": [
      "#variable declaration\n",
      "vi=10; # velocity at inlet in m/s\n",
      "q=1000; # heat in w\n",
      "di=0.04; # inside diameter in m\n",
      "do=0.06; # outside diameter in m\n",
      "den1=0.946; # density in kg/m^3 at 100 degree C\n",
      "Cp=1009; # specific heat in J/kg k\n",
      "den2=0.773; # specific heat at To=183.4 degree C\n",
      "\n",
      "#calculations\n",
      "m=den1*(3.14/4)*(di**2)*vi; # kg/s\n",
      "dh=q/m; # j/kg\n",
      "To=dh/Cp+100; # Exit Temperature\n",
      "vo=m/(den2*(3.14/4)*(do)**2); # Exit velocity \n",
      "dKeKg=(vo**2-vi**2)/2; # Change in Kinetic Energy per kg\n",
      "\n",
      "#result\n",
      "print \"Exit Temperature is\",round(To,4),\"degree C\"\n",
      "print \"Exit velocity is \",round(vo,4),\"m/s\"\n",
      "print \"Change in Kinetic Energy per kg =\",round(dKeKg,5),\"J/kg\""
     ],
     "language": "python",
     "metadata": {},
     "outputs": [
      {
       "output_type": "stream",
       "stream": "stdout",
       "text": [
        "Exit Temperature is 183.4119 degree C\n",
        "Exit velocity is  5.4391 m/s\n",
        "Change in Kinetic Energy per kg = -35.20795 J/kg\n"
       ]
      }
     ],
     "prompt_number": 3
    }
   ],
   "metadata": {}
  }
 ]
}