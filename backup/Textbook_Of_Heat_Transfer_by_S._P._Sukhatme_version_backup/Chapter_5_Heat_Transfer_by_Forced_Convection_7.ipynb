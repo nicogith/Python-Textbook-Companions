{
 "metadata": {
  "name": "",
  "signature": "sha256:f52bfd7811201b97d412b52a8226e438de6bc215828a85347af9b46efb493219"
 },
 "nbformat": 3,
 "nbformat_minor": 0,
 "worksheets": [
  {
   "cells": [
    {
     "cell_type": "heading",
     "level": 1,
     "metadata": {},
     "source": [
      "Chapter 5: Heat Transfer by Forced Convection"
     ]
    },
    {
     "cell_type": "heading",
     "level": 2,
     "metadata": {},
     "source": [
      "Example 5.1(a) , Page no:209"
     ]
    },
    {
     "cell_type": "code",
     "collapsed": false,
     "input": [
      "import math\n",
      "from __future__ import division\n",
      "\n",
      "#Variable declaration\n",
      "D = 0.015 ; #m\n",
      "Q = 0.05 ; #m^3/h\n",
      "H = 1000 ; #W/m^ 2\n",
      "Tb = 40 ; #degree C\n",
      "k = 0.634 ; #W/m K\n",
      "\n",
      "#calculations\n",
      "v = 0.659*10**-6 ; #m^2/ s\n",
      "Vbar = 4*Q /((3.14)*D**2) ;\n",
      "ReD = Vbar *D/v;\n",
      "h = 4.364* k/D; #W/m^2 K\n",
      "\n",
      "#result\n",
      "print\"(a) Local heat transfer coefficient is\",round(h,4),\"W/m^2 K\";"
     ],
     "language": "python",
     "metadata": {},
     "outputs": [
      {
       "output_type": "stream",
       "stream": "stdout",
       "text": [
        "(a) Local heat transfer coefficient is 184.4517 W/m^2 K\n"
       ]
      }
     ],
     "prompt_number": 1
    },
    {
     "cell_type": "heading",
     "level": 2,
     "metadata": {},
     "source": [
      "Example 5.1(b) , Page no:209"
     ]
    },
    {
     "cell_type": "code",
     "collapsed": false,
     "input": [
      "import math\n",
      "from __future__ import division\n",
      "\n",
      "#Variable declaration\n",
      "D = 0.015 ; #m\n",
      "Q = 0.05 ; #m^3/h\n",
      "H = 1000 ; #W/m^2\n",
      "Tb = 40 ; #degree C\n",
      "k = 0.634 ; #W/m K\n",
      "\n",
      "#calculations\n",
      "v = 0.659*10**-6 ; #m^2/s\n",
      "Vbar = 4*Q /((3.14)*D**2) ;\n",
      "ReD = Vbar *D/v;\n",
      "h = 4.364* k/D;\n",
      "Tw = H/h + Tb; #the local wal to bulk mean temperature difference\n",
      "\n",
      "#result\n",
      "print\"(b) Wall Temperature Tw =\",round(Tw,4),\"degree C\";"
     ],
     "language": "python",
     "metadata": {},
     "outputs": [
      {
       "output_type": "stream",
       "stream": "stdout",
       "text": [
        "(b) Wall Temperature Tw = 45.4215 degree C\n"
       ]
      }
     ],
     "prompt_number": 2
    },
    {
     "cell_type": "heading",
     "level": 2,
     "metadata": {},
     "source": [
      "Example 5.2 , Page no:213"
     ]
    },
    {
     "cell_type": "code",
     "collapsed": false,
     "input": [
      "import math\n",
      "from __future__ import division\n",
      "\n",
      "#Variable declaration\n",
      "Pr1=0.01;\n",
      "Pr2=0.1;\n",
      "Pr3=100;\n",
      "\n",
      "#Calculation\n",
      "T1 = 0.04305* Pr1 /0.0575; #For Pr = 0.01\n",
      "T2 = 0.04305* Pr2 /0.0575; #For Pr = 0.1\n",
      "T3 = 0.04305* Pr3 /0.0575 ; #For Pr = 100\n",
      "\n",
      "#result\n",
      "print\"Lth/Le at Pr =0.01 is\",round(T1,4);\n",
      "print\"Lth/Le at Pr = 1 is\",round(T2,4);\n",
      "print\"Lth/Le at Pr = 100 is\",round(T3,4);"
     ],
     "language": "python",
     "metadata": {},
     "outputs": [
      {
       "output_type": "stream",
       "stream": "stdout",
       "text": [
        "Lth/Le at Pr =0.01 is 0.0075\n",
        "Lth/Le at Pr = 1 is 0.0749\n",
        "Lth/Le at Pr = 100 is 74.8696\n"
       ]
      }
     ],
     "prompt_number": 3
    },
    {
     "cell_type": "heading",
     "level": 2,
     "metadata": {},
     "source": [
      "Example 5.3(i) , Page no:215"
     ]
    },
    {
     "cell_type": "code",
     "collapsed": false,
     "input": [
      "import math\n",
      "from __future__ import division\n",
      "\n",
      "#Variable declaration\n",
      "D = 0.015 ; #m\n",
      "V = 1 ; #m/s\n",
      "Tw = 90 ; #degree C\n",
      "Tmi = 50 ; #degree C\n",
      "Tmo = 65 ; #degree C\n",
      "k = 0.656 ; #W/m K\n",
      "rho = 984.4 ; #kg/m^3\n",
      "Pr = 3.12 ;\n",
      "rhoin = 988.1 ; #kg/m^3\n",
      "\n",
      "#calculations\n",
      "v = 0.497 * 10**-6 ; #m^2/s\n",
      "Cp = 4178 ; #J/kg K\n",
      "mdot =3.14*(D**2)* rhoin *V/4 ; #kg/s\n",
      "Re = 4* mdot /(3.14*D* rho *v) ;\n",
      "f = 0.079*( Re)** -0.25 ;\n",
      "Nu = (f /2) *(Re -1000) *Pr /(1+12.7*( f /2) **(1/2) *(( Pr**(2/3) ) -1));\n",
      "h = Nu*k/D;\n",
      "L = mdot *Cp *( Tmo -Tmi)*( math.log ((Tw - Tmi )/(Tw - Tmo )) /(((Tw -Tmi) -(Tw - Tmo ))*h*D*3.14)); #the energy equation\n",
      "\n",
      "#result\n",
      "print\"The length of tube if the exit water temperature is 65 degree C =\",round(L,4),\"m\";"
     ],
     "language": "python",
     "metadata": {},
     "outputs": [
      {
       "output_type": "stream",
       "stream": "stdout",
       "text": [
        "The length of tube if the exit water temperature is 65 degree C = 1.0876 m\n"
       ]
      }
     ],
     "prompt_number": 4
    },
    {
     "cell_type": "heading",
     "level": 2,
     "metadata": {},
     "source": [
      "Example 5.3(ii) , Page no:215"
     ]
    },
    {
     "cell_type": "code",
     "collapsed": false,
     "input": [
      "import math\n",
      "from __future__ import division\n",
      "\n",
      "#Variable declaration\n",
      "D = 0.015 ; #m\n",
      "V = 1 ; #m/s\n",
      "Tw = 90 ; #degree C\n",
      "Tmi = 50 ; #degree C\n",
      "Tmo = 65 ; #degree C\n",
      "k = 0.656 ; #W/m K\n",
      "rho = 984.4 ; #kg/m^3\n",
      "Cp = 4178 ; #J/kg K\n",
      "Pr = 3.12 ;\n",
      "rhoin = 988.1 ; #kg/m^3\n",
      "Tmo = 70 ; #degree C\n",
      "Tb = 60 ; #degree C\n",
      "k1 = 0.659 ; #W/m K\n",
      "rho1 = 983.2 ;#kg/m^3\n",
      "Cp1 = 4179 ;#J/kg K\n",
      "Pr1 = 2.98 ;\n",
      "f1 = 0.005928;\n",
      "Nud = 154.97; #the Gnielinski Eqn\n",
      "Tmo1 = 73.4 ; #degree C\n",
      "\n",
      "#calculations\n",
      "v = 0.497 * 10**-6 ; #m^2/s\n",
      "mdot =3.14*(D**2)* rhoin *V/4 ; #kg/s\n",
      "Re = 4* mdot /(3.14*D* rho *v) ;\n",
      "f = 0.079*( Re)** -0.25 ;\n",
      "Nu = (f /2) *(Re -1000) *Pr /(1+12.7*( f /2)**(1/2) *(( Pr**(2/3) ) -1) ); #W/m^2 K\n",
      "h = Nu*k/D;\n",
      "L = mdot *Cp *( Tmo -Tmi)* math.log ((Tw - Tmi )/(Tw - Tmo ))/(((Tw -Tmi) -(Tw - Tmo ))*h*D*3.14); #the energy equation\n",
      "v1 = 0.478 * 10**-6 ; #m^2/s\n",
      "Re1 = 4* mdot /(3.14*D* rho1 *v1);\n",
      "h = Nud *k1/D ; #W/m^2 K\n",
      "\n",
      "#result\n",
      "print\"Trial and error method\";\n",
      "print\"Trial 1\";\n",
      "print\"Assumed value of Tmo =70 degree C\";\n",
      "print\"Value of Tmo obtained =73.4 degree C\";\n",
      "print\"Trial 2\";\n",
      "print\"Assume Tmo =73.4 degree C\";\n",
      "print\"Value of Tmo obtained = 73.6 degree C which is in reasonably close agreement with assumed value\";"
     ],
     "language": "python",
     "metadata": {},
     "outputs": [
      {
       "output_type": "stream",
       "stream": "stdout",
       "text": [
        "Trial and error method\n",
        "Trial 1\n",
        "Assumed value of Tmo =70 degree C\n",
        "Value of Tmo obtained =73.4 degree C\n",
        "Trial 2\n",
        "Assume Tmo =73.4 degree C\n",
        "Value of Tmo obtained = 73.6 degree C which is in reasonably close agreement with assumed value\n"
       ]
      }
     ],
     "prompt_number": 5
    },
    {
     "cell_type": "heading",
     "level": 2,
     "metadata": {},
     "source": [
      "Example 5.4 , Page no:219"
     ]
    },
    {
     "cell_type": "code",
     "collapsed": false,
     "input": [
      "import math\n",
      "from __future__ import division\n",
      "\n",
      "#Variable declaration\n",
      "Di = 0.05 ; #m\n",
      "m = 300 ; #kg/min\n",
      "m1 = m/60 ; #kg/sec\n",
      "rho = 846.7 ; #kg/m^3\n",
      "k = 68.34 ; #W/m K\n",
      "c = 1274; #J/kg K\n",
      "Pr = 0.00468 ;\n",
      "\n",
      "#calculations\n",
      "v = 0.2937*10**-6 ; #m^2/s\n",
      "ReD = 4* m1 /(3.14*Di* rho *v);\n",
      "NuD = 6.3 + 0.0167*( ReD**0.85) *( Pr**0.93) ; #Assuming both temperature and velocity profile are fully developed over the length of tube\n",
      "h = NuD *k/ Di ;\n",
      "L = 300/60*1274*(500 -400) /(h*3.14* Di *30); #Equating the heat transferred through the wall of the tube to the change of enthalpy pf sodium\n",
      "\n",
      "#result\n",
      "print\"Length of tube over which the temperature rise occurs =\",round(L,4),\"m\";"
     ],
     "language": "python",
     "metadata": {},
     "outputs": [
      {
       "output_type": "stream",
       "stream": "stdout",
       "text": [
        "Length of tube over which the temperature rise occurs = 6.8659 m\n"
       ]
      }
     ],
     "prompt_number": 6
    },
    {
     "cell_type": "heading",
     "level": 2,
     "metadata": {},
     "source": [
      "Example 5.5 , Page no:231"
     ]
    },
    {
     "cell_type": "code",
     "collapsed": false,
     "input": [
      "import math\n",
      "from __future__ import division\n",
      "\n",
      "#Variable declaration\n",
      "V = 15 ; #m/s\n",
      "s =0.2 ; #m\n",
      "rho = 1.128 ; #kg/m^3\n",
      "k = 0.0276; #W/m K\n",
      "Pr = 0.699;\n",
      "\n",
      "#calculations\n",
      "Tm = (20+60) /2; ##degree C\n",
      "v = 16.96*10**-6; #m^2/s\n",
      "A=s**2;\n",
      "ReL = V *0.2/ v;\n",
      "Cf = 1.328/( ReL )**0.5; #the boundary layer may be assumed to be laminar over the entire length.\n",
      "Fd = 2* Cf *1/2* rho*A*V**2;\n",
      "Nul = 0.664*( Pr**(1/3) )*( ReL**(1/2) );\n",
      "h = Nul *k/s;\n",
      "q = 2*A*h *(60 -20) ; #rate of heat transfer q is\n",
      "Cf1 = 0.074*( ReL )**( -0.2) ; #boundary layer from leading edge, the drag coefficient is\n",
      "Fd1 = 2* Cf1 *1/2* rho *A*V**2;\n",
      "Nul1 = 0.0366*(0.699**(1/3) )*( ReL**(0.8) );\n",
      "h1 = Nul1 *k/s; #W/m^2 K\n",
      "q1 = 2*A*h1 *(60 -20) ;\n",
      "\n",
      "#result\n",
      "print\"For Laminar Boundary Layer\";\n",
      "print\"Rate of Heat transfer =\",round(q,4),\"W\";\n",
      "print\"Drag force =\",round(Fd,4),\"N\";\n",
      "print\"For Turbulent Boundary Layer from the leading edge\";\n",
      "print\"Rate of Heat transfer =\",round(q1,4),\"W\";\n",
      "print\"Drag force =\",round(Fd1,4),\"N\";"
     ],
     "language": "python",
     "metadata": {},
     "outputs": [
      {
       "output_type": "stream",
       "stream": "stdout",
       "text": [
        "For Laminar Boundary Layer\n",
        "Rate of Heat transfer = 109.447 W\n",
        "Drag force = 0.0321 N\n",
        "For Turbulent Boundary Layer from the leading edge\n",
        "Rate of Heat transfer = 226.3735 W\n",
        "Drag force = 0.067 N\n"
       ]
      }
     ],
     "prompt_number": 7
    },
    {
     "cell_type": "heading",
     "level": 2,
     "metadata": {},
     "source": [
      "Example 5.6(i) , Page no:235"
     ]
    },
    {
     "cell_type": "code",
     "collapsed": false,
     "input": [
      "import math\n",
      "from __future__ import division\n",
      "\n",
      "#Variable declaration\n",
      "D = 0.075 ; #m\n",
      "V = 1.2 ; #m/s\n",
      "Tair = 20 ; #degree C\n",
      "Tsurface = 100 ; #degree C\n",
      "k = 0.0290 ; #W/m K\n",
      "Pr = 0.696 ;\n",
      "\n",
      "#calculations\n",
      "Tm = ( Tair + Tsurface ) /2;\n",
      "v = 18.97*10**-6 ; #m^2/s\n",
      "ReD = V*D/v;\n",
      "Nu = 0.3 +((0.62*( ReD**(1/2) )*( Pr**(1/3) ))/((1+((0.4/ Pr)**(2/3) ))**(1/4)))*((1+(( ReD/282000)**(5/8)))**(4/5));\n",
      "h = Nu*k/D ; #W/m^2 K\n",
      "flux = h*( Tsurface - Tair ); #W/m^2\n",
      "q = flux *3.14*D *1; #W/m\n",
      "\n",
      "#result\n",
      "print\"Heat transfer rate per unit length =\",round(q,4),\"W/m\";"
     ],
     "language": "python",
     "metadata": {},
     "outputs": [
      {
       "output_type": "stream",
       "stream": "stdout",
       "text": [
        "Heat transfer rate per unit length = 258.8849 W/m\n"
       ]
      }
     ],
     "prompt_number": 8
    },
    {
     "cell_type": "heading",
     "level": 2,
     "metadata": {},
     "source": [
      "Example 5.6(ii) , Page no:235"
     ]
    },
    {
     "cell_type": "code",
     "collapsed": false,
     "input": [
      "import math\n",
      "from __future__ import division\n",
      "\n",
      "#Variable declaration\n",
      "D = 0.075 ; #m\n",
      "V = 1.2 ; #m/s\n",
      "Tair = 20 ; #degree C\n",
      "Tsurface = 100 ; #degree C\n",
      "k = 0.0290 ; #W/m K\n",
      "Pr = 0.696 ;\n",
      "k = 0.0290 ;\n",
      "Pr = 0.696 ;\n",
      "Tassumd = 130 ; #degree C\n",
      "Tm = 75 ; #degree C\n",
      "k1 = 0.0301 ; #W/m K\n",
      "Pr1 = 0.693 ;\n",
      "Nu1 = 33.99;\n",
      "Tavgcalc = 129.9 ; #degree C\n",
      "\n",
      "#calculations\n",
      "Tm = ( Tair + Tsurface ) /2;\n",
      "v = 18.97*10**-6 ; #m^2/s\n",
      "ReD = V*D/v;\n",
      "Nu = 0.3 +((0.62*( ReD**0.5) *( Pr**(1/3) )) /((1+((0.4/Pr)**(2/3) ))**(1/4)))*(1+( ReD /282000)**(5/8) )**(5/8);\n",
      "h = Nu*k/D ; #W/m^2 K\n",
      "flux = h*( Tsurface - Tair ); #W/m^2\n",
      "Tavg = 1500/ flux *( Tsurface - Tair );\n",
      "v1 = 20.56*10** -6 ; #m^2/s\n",
      "ReD1 = V*D/v1;\n",
      "h = Nu1*k1/D;\n",
      "Tdiff = 1500/ h; #degree C\n",
      "\n",
      "#result\n",
      "print\"Assumed average wall temperature =\",round(Tassumd,4),\"degree C\";\n",
      "print\"Calculated average wall Temperature =\",round(Tavgcalc,4),\"degree C\";\n",
      "print\"Hence,Average wall Temperature =\",round(Tavgcalc,4),\"degree C\";"
     ],
     "language": "python",
     "metadata": {},
     "outputs": [
      {
       "output_type": "stream",
       "stream": "stdout",
       "text": [
        "Assumed average wall temperature = 130.0 degree C\n",
        "Calculated average wall Temperature = 129.9 degree C\n",
        "Hence,Average wall Temperature = 129.9 degree C\n"
       ]
      }
     ],
     "prompt_number": 9
    },
    {
     "cell_type": "heading",
     "level": 2,
     "metadata": {},
     "source": [
      "Example 5.7(i) , Page no:241"
     ]
    },
    {
     "cell_type": "code",
     "collapsed": false,
     "input": [
      "import math\n",
      "from __future__ import division\n",
      "\n",
      "#Variable declaration\n",
      "D = 0.0125 ; #m\n",
      "ST = 1.5* D ;\n",
      "SL = 1.5* D ;\n",
      "Vinf = 2 ; #v\n",
      "N = 5;\n",
      "Tw = 70; #degree C\n",
      "Tmi = 30; #degree C\n",
      "L = 1; #m\n",
      "rho = 1.165 ; #kg/m^3\n",
      "Cp = 1.005 ; #kJ/kg K\n",
      "k = 0.0267 ; #W/m K\n",
      "Pr = 0.701;\n",
      "X = 1; #tube arrangement is square\n",
      "\n",
      "#calculations\n",
      "v = 16.00 *10**-6 ; #m^2/s\n",
      "Vmax = ST /(SL -D)* Vinf ; #m/s\n",
      "Re = Vmax *D/v ;\n",
      "f = 0.37/4;\n",
      "deltaP = 4*f*N*X*( rho * Vmax**2) /2 ; #N/m^2\n",
      "\n",
      "#result\n",
      "print\"(i) Pressure drop of air across the bank is\",round(deltaP,4),\"N/m^2\";"
     ],
     "language": "python",
     "metadata": {},
     "outputs": [
      {
       "output_type": "stream",
       "stream": "stdout",
       "text": [
        "(i) Pressure drop of air across the bank is 38.7945 N/m^2\n"
       ]
      }
     ],
     "prompt_number": 10
    },
    {
     "cell_type": "heading",
     "level": 2,
     "metadata": {},
     "source": [
      "Example 5.7(ii) , Page no:241"
     ]
    },
    {
     "cell_type": "code",
     "collapsed": false,
     "input": [
      "import math\n",
      "from __future__ import division\n",
      "\n",
      "#Variable declaration\n",
      "D = 0.0125 ; #m\n",
      "ST = 1.5* D ;\n",
      "SL = 1.5* D ;\n",
      "Vinf = 2 ; #m/s\n",
      "N = 5;\n",
      "Tw = 70; #degree C\n",
      "Tmi = 30; #degree C\n",
      "L = 1; #m\n",
      "rho = 1.165 ; #kg/m^3\n",
      "v = 16.00 *10**-6 ; #[m^2/s]\n",
      "Cp = 1.005*1000 ; #J/kg K\n",
      "k = 0.0267 ; #W/m K\n",
      "Pr = 0.701;\n",
      "X = 1; #tube arrangement is square\n",
      "Pr1 = 0.694 ; #At 70 degree C\n",
      "C1 = 0.27;\n",
      "m = 0.63;\n",
      "C2 = 0.93;\n",
      "\n",
      "#calculations\n",
      "#sub all value in the following expression\n",
      "# q=h*(3.14*D*L)*50*((Tw-Tmi)-(Tw-Tmo))/log((Tw-Tmi)/(Tw-Tmo))-mdot*Cp*(Tmo-Tmi), we get\n",
      "Tmo=70-40/(math.exp (190.8604/439.064));\n",
      "\n",
      "\n",
      "#Results\n",
      "print\"Tmo =\",round(Tmo,2),\"oC\"\n",
      "print\"(ii) Exit temperature of air =\",round(Tmo,4),\"oC\";"
     ],
     "language": "python",
     "metadata": {},
     "outputs": [
      {
       "output_type": "stream",
       "stream": "stdout",
       "text": [
        "Tmo = 44.1 oC\n",
        "(ii) Exit temperature of air = 44.1016 oC\n"
       ]
      }
     ],
     "prompt_number": 11
    },
    {
     "cell_type": "heading",
     "level": 2,
     "metadata": {},
     "source": [
      "Example 5.7(iii) , Page no:241"
     ]
    },
    {
     "cell_type": "code",
     "collapsed": false,
     "input": [
      "import math\n",
      "from __future__ import division\n",
      "\n",
      "#Variable declaration\n",
      "D = 0.0125 ; #m\n",
      "ST = 1.5* D ;\n",
      "SL = 1.5* D ;\n",
      "Vinf = 2 ; #m/s\n",
      "N = 5;\n",
      "Tw = 70; #degree C\n",
      "Tmi = 30; #degree C\n",
      "L = 1; #m\n",
      "rho = 1.165 ; #kg/m^3\n",
      "k = 0.0267 ; #W/m K\n",
      "Pr = 0.701;\n",
      "X = 1; #tube arrangement is square\n",
      "Pr1 = 0.694 ; #At 70 degree C\n",
      "C1 = 0.27;\n",
      "m = 0.63;\n",
      "C2 = 0.93;\n",
      "Tmo = 44.10; #in oC\n",
      "\n",
      "#calculations\n",
      "q=439.064*(40-(70-Tmo)); #Heat transfer rate per unit length to air\n",
      "\n",
      "#result\n",
      "print\"(iii) Heat transfer rate per unit length to air =\",round(q,2),\"W   (roundoff error)\";"
     ],
     "language": "python",
     "metadata": {},
     "outputs": [
      {
       "output_type": "stream",
       "stream": "stdout",
       "text": [
        "(iii) Heat transfer rate per unit length to air = 6190.8 W   (roundoff error)\n"
       ]
      }
     ],
     "prompt_number": 12
    }
   ],
   "metadata": {}
  }
 ]
}