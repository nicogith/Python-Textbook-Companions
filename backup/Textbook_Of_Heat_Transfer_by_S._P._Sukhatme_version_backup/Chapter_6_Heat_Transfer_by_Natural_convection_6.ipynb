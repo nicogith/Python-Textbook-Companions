{
 "metadata": {
  "name": "",
  "signature": "sha256:aaada7e9a1621c5448fcc2c4bafb69518918476f74efee2f04521ed97f085e1c"
 },
 "nbformat": 3,
 "nbformat_minor": 0,
 "worksheets": [
  {
   "cells": [
    {
     "cell_type": "heading",
     "level": 1,
     "metadata": {},
     "source": [
      "Chapter 6: Heat Transfer by Natural convection"
     ]
    },
    {
     "cell_type": "heading",
     "level": 2,
     "metadata": {},
     "source": [
      "Example 6.1, Page no:258"
     ]
    },
    {
     "cell_type": "code",
     "collapsed": false,
     "input": [
      "import math\n",
      "from __future__ import division\n",
      "\n",
      "#Variable declaration\n",
      "H = 0.5 ; #m\n",
      "Th = 100; #degree C\n",
      "Tl = 40; #degree C\n",
      "Pr = 0.694;\n",
      "k = 0.0297; #W/m K\n",
      "\n",
      "#calculations\n",
      "v = 20.02*10**-6 ; #m/s\n",
      "T = (Th+ Tl )/2 + 273 ; #K\n",
      "B = 1/T;\n",
      "Gr = 9.81* B *(( Th - Tl )*H**3) /(v**2) ;\n",
      "Ra = Gr*Pr;\n",
      "Nua = 0.64*( Gr**(1/4) )*( Pr**0.5) *((0.861+ Pr)**( -1/4) ); #Exact analysis\n",
      "Nub = 0.68*( Gr**(1/4) )*( Pr**0.5) *((0.952+ Pr)**( -1/4) ); #Integral method\n",
      "Nuc = 0.59*( Ra)**(1/4) ; #McAdams correlation\n",
      "Nud = 0.68 + 0.670*( Ra**(1/4) ) /(1+(0.492/ Pr)**(9/16))**(4/9) ; #Churchill and Chu correlation\n",
      "\n",
      "#result\n",
      "print\"Mean film temperature =\",round(T,4),\"K\";\n",
      "print\" ( a ) \";\n",
      "print\"Exact analysis\";\n",
      "print\"NuL =\",round(Nua,4);\n",
      "print\"\\n ( b ) \";\n",
      "print\"Integral method\";\n",
      "print\"NuL =\",round(Nub,4);\n",
      "print\"\\n ( c ) \";\n",
      "print\"McAdams correlation\";\n",
      "print\"NuL =\",round(Nuc,4);\n",
      "print\"\\n ( d ) \";\n",
      "print\"Churchill and Chu correlation\";\n",
      "print\"NuL =\",round(Nud,4);"
     ],
     "language": "python",
     "metadata": {},
     "outputs": [
      {
       "output_type": "stream",
       "stream": "stdout",
       "text": [
        "Mean film temperature = 343.0 K\n",
        " ( a ) \n",
        "Exact analysis\n",
        "NuL = 72.6196\n",
        "\n",
        " ( b ) \n",
        "Integral method\n",
        "NuL = 76.0691\n",
        "\n",
        " ( c ) \n",
        "McAdams correlation\n",
        "NuL = 81.9066\n",
        "\n",
        " ( d ) \n",
        "Churchill and Chu correlation\n",
        "NuL = 71.887\n"
       ]
      }
     ],
     "prompt_number": 1
    },
    {
     "cell_type": "heading",
     "level": 2,
     "metadata": {},
     "source": [
      "Example 6.3, Page no:260"
     ]
    },
    {
     "cell_type": "code",
     "collapsed": false,
     "input": [
      "import math\n",
      "from __future__ import division\n",
      "\n",
      "#Variable declaration\n",
      "s = 0.2 ; #m\n",
      "d = 0.005 ; #m\n",
      "rho = 7900 ; #kg/m^3\n",
      "Cp = 460 ; #J/kg K\n",
      "Tair = 20 ; #C\n",
      "Tavg = 380 ; #C\n",
      "Pr = 0.680 ;\n",
      "k = 0.0393 ; #W/m K\n",
      "h2 = 7.348 ; #W/m^2 K\n",
      "h3 = 6.780; #W/m^2 K\n",
      "\n",
      "#calculations\n",
      "Tm = ( Tavg + Tair )/2 ; #C\n",
      "v = 34.85*10**-6 ; #m^2/s\n",
      "Re = 9.81*1/(273+ Tm)*( Tavg - Tair )*(s**3) /(v**2) *Pr;\n",
      "Nu = 0.68 + 0.670*( Re**(1/4) ) /(1+(0.492/ Pr)**(4/9))**(4/9) ;\n",
      "h = Nu*k/s; #W/m^2 K\n",
      "t1 = rho*s*s*d*Cp /(( s**2) *2*h)* math.log ((430 - Tair )/(330 -Tair )); #s\n",
      "t2 = rho*s*s*d*Cp /(( s**2) *2* h2)* math.log ((330 - Tair )/(230 -Tair )); #s\n",
      "t3 = rho*s*s*d*Cp /(( s**2) *2* h3)* math.log ((230 - Tair )/(130 -Tair )); #s\n",
      "time = t1+t2+t3; #Total time\n",
      "minute = time /60;\n",
      "\n",
      "#result\n",
      "print\"Time required for the plate to cool from 430 C to 330 C is\",round(t1,4),\"s\";\n",
      "print\"Time required for the plate to cool from 330 C to 230 C is\",round(t2,4),\"s\";\n",
      "print\"Time required for the plate to cool from 230 C to 130 C is\",round(t3,4),\"s\";\n",
      "print\"Hence, time required for the plate to cool from 430 C to 130 C\";\n",
      "print\" =\",round(time,4),\"s\";\n",
      "print\" =\",round(minute,4),\"min\";"
     ],
     "language": "python",
     "metadata": {},
     "outputs": [
      {
       "output_type": "stream",
       "stream": "stdout",
       "text": [
        "Time required for the plate to cool from 430 C to 330 C is 328.9673 s\n",
        "Time required for the plate to cool from 330 C to 230 C is 481.5307 s\n",
        "Time required for the plate to cool from 230 C to 130 C is 866.4613 s\n",
        "Hence, time required for the plate to cool from 430 C to 130 C\n",
        " = 1676.9593 s\n",
        " = 27.9493 min\n"
       ]
      }
     ],
     "prompt_number": 2
    },
    {
     "cell_type": "heading",
     "level": 2,
     "metadata": {},
     "source": [
      "Example 6.4, Page no:264"
     ]
    },
    {
     "cell_type": "code",
     "collapsed": false,
     "input": [
      "import math\n",
      "from __future__ import division\n",
      "\n",
      "#Variable declaration\n",
      "D = 0.006 ; #m\n",
      "e = 0.1 ;\n",
      "Ti = 800 ; #C\n",
      "Ta = 1000 ; #C\n",
      "k = 0.0763 ; #W/m K\n",
      "Pr = 0.717 ;\n",
      "Ra2 = 6.42 ;\n",
      "Nu2 = 0.9841 ;\n",
      "h2 = 12.15 ;\n",
      "Ra3 = 6.93 ;\n",
      "Nu3 = 0.9963 ;\n",
      "h3 = 12.33 ;\n",
      "\n",
      "#calculations\n",
      "Tm = (Ta+Ti) /2;\n",
      "v = 155.1*10**-6 ; #m^2/s\n",
      "Gr = 9.81*1/1173*(200* D**3) /(v**2) ;\n",
      "Ra = Gr*Pr ;\n",
      "Nu = 0.36 + 0.518*( Ra**(1/4) ) /(1+(0.559/ Pr)**(9/16))**(4/9) ;\n",
      "h = Nu*k/D;\n",
      "x = h*(Ta -Ti); #W/m^2\n",
      "x2 = h2 *(900 -800) ;\n",
      "x3 = h3 *(910 -800) ;\n",
      "T = 900 + (910 -900) *(1306 - x2)/(x3 -x2); #Interpolation\n",
      "\n",
      "#result\n",
      "print\"Trial 1\";\n",
      "print\"Let Ta =10000 C\";\n",
      "print\"Value of h(Ta-800) =\",round(x,4),\"W/m^2, which is much larger than the required value of 1306 W/m^2\";\n",
      "print\"\\nTrial 2\";\n",
      "print\"Let Ta = 900 C\";\n",
      "print\"Value of h(Ta-800) =\",round(x2,4),\"W/m^2, which is a little less than the required value of 1306 W/m^2\";\n",
      "print\"\\nTrial 3\";\n",
      "print\"Let Ta = 910 C\";\n",
      "print\"Value of h(Ta-800) =\",round(x3,4),\"W/m^2 \\nThis value is little more than the required value of 1306 W/m^2\";\n",
      "print\"\\nThe correct value of Ta obtained by interpolation is\",round(T,4),\"C\";"
     ],
     "language": "python",
     "metadata": {},
     "outputs": [
      {
       "output_type": "stream",
       "stream": "stdout",
       "text": [
        "Trial 1\n",
        "Let Ta =10000 C\n",
        "Value of h(Ta-800) = 2722.8585 W/m^2, which is much larger than the required value of 1306 W/m^2\n",
        "\n",
        "Trial 2\n",
        "Let Ta = 900 C\n",
        "Value of h(Ta-800) = 1215.0 W/m^2, which is a little less than the required value of 1306 W/m^2\n",
        "\n",
        "Trial 3\n",
        "Let Ta = 910 C\n",
        "Value of h(Ta-800) = 1356.3 W/m^2 \n",
        "This value is little more than the required value of 1306 W/m^2\n",
        "\n",
        "The correct value of Ta obtained by interpolation is 906.4402 C\n"
       ]
      }
     ],
     "prompt_number": 3
    },
    {
     "cell_type": "heading",
     "level": 2,
     "metadata": {},
     "source": [
      "Example 6.5, Page no:269"
     ]
    },
    {
     "cell_type": "code",
     "collapsed": false,
     "input": [
      "import math\n",
      "from __future__ import division\n",
      "\n",
      "#Variable declaration\n",
      "Tp = 75 ; #Temperature of absorber plate , degree C\n",
      "Tc = 55 ; #Temperature of glass cover , degree C\n",
      "L = 0.025 ; #m\n",
      "H = 2 ; #m\n",
      "Y = 70 ; #degree\n",
      "k = 0.0294 ; #W/m K\n",
      "Pr = 0.695 ;\n",
      "\n",
      "#calculations\n",
      "a = 19/180*3.14 ; #Radians\n",
      "r = H/L ;\n",
      "Tavg = ( Tp +Tc) /2+273 ; #K\n",
      "v = 19.50*10**-6 ; #m^2/s\n",
      "Ra = 9.81*(1/ Tavg )*( Tp -Tc)*(L**3) /(v**2) *Pr*math.cos(a);\n",
      "Nu = 0.229*( Ra)**0.252;\n",
      "h = Nu*k/L ; #W/m^2 K\n",
      "Rate = h *2*1*( Tp -Tc); #W\n",
      "\n",
      "#result\n",
      "print\"Heat transfer rate =\",round(Rate,4),\"W\";"
     ],
     "language": "python",
     "metadata": {},
     "outputs": [
      {
       "output_type": "stream",
       "stream": "stdout",
       "text": [
        "Heat transfer rate = 122.8843 W\n"
       ]
      }
     ],
     "prompt_number": 4
    },
    {
     "cell_type": "heading",
     "level": 2,
     "metadata": {},
     "source": [
      "Example 6.6, Page no:270"
     ]
    },
    {
     "cell_type": "code",
     "collapsed": false,
     "input": [
      "import math\n",
      "from __future__ import division\n",
      "\n",
      "#Variable declaration\n",
      "Tair = 30 ;\n",
      "D = 0.04 ;\n",
      "Ts = 70 ;\n",
      "V = 0.3 ;\n",
      "Pr = 0.698 ;\n",
      "k = 0.0283 ;\n",
      "\n",
      "#calculations\n",
      "Tm = ( Tair + Ts )/2 ;\n",
      "v = 17.95*10**-6 ;\n",
      "Gr = 9.81*1/323*( Ts - Tair )*(D**3) /v**2;\n",
      "Re = V*D/v ;\n",
      "X = Gr/Re**2 ;\n",
      "Nuforced = 0.3 + 0.62*( Re**0.5) *( Pr**(1/3) ) /((1+(0.4/Pr)**(2/3) )**(1/4))*(1+( Re /282000)**(5/8))**(4/5) ;\n",
      "Nu = Nuforced *(1+6.275*( X)**(7/4))**(1/7) ;\n",
      "h = Nu *(k/D);\n",
      "\n",
      "#result\n",
      "print\"Since Gr/Re^2 =\",round(X,4),\"is > 0.2, we have a combined convection situation.\";\n",
      "print\"The Average heat transfer coefficient =\",round(h,4),\"W/m^2 K\";"
     ],
     "language": "python",
     "metadata": {},
     "outputs": [
      {
       "output_type": "stream",
       "stream": "stdout",
       "text": [
        "Since Gr/Re^2 = 0.5399 is > 0.2, we have a combined convection situation.\n",
        "The Average heat transfer coefficient = 10.8276 W/m^2 K\n"
       ]
      }
     ],
     "prompt_number": 5
    }
   ],
   "metadata": {}
  }
 ]
}