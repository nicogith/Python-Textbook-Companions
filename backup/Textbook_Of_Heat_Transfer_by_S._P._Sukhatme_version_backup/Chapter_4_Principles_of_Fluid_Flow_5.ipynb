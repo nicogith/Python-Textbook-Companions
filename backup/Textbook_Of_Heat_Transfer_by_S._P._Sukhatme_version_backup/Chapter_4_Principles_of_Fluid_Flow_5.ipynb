{
 "metadata": {
  "name": "",
  "signature": "sha256:c0b8814a6ac7ab401db03352df216c35ffd27c0ad0849fd68734e0e65b766ec4"
 },
 "nbformat": 3,
 "nbformat_minor": 0,
 "worksheets": [
  {
   "cells": [
    {
     "cell_type": "heading",
     "level": 1,
     "metadata": {},
     "source": [
      "Chapter 4: Principles of Fluid Flow"
     ]
    },
    {
     "cell_type": "heading",
     "level": 2,
     "metadata": {},
     "source": [
      "Example 4.1 , Page no:172"
     ]
    },
    {
     "cell_type": "code",
     "collapsed": false,
     "input": [
      "import math\n",
      "from __future__ import division\n",
      "\n",
      "#Variable declaration\n",
      "L = 3 ; #Length\n",
      "D = 0.01 ; #ID\n",
      "V = 0.2 ; #Average Velocity\n",
      "rho =999.7 ; #kg /m^ 3\n",
      "\n",
      "#calculations\n",
      "v =1.306 * 10** -6 ; #m^2/ s\n",
      "ReD =0.2*0.01/(1.306*10** -6) ;\n",
      "f = 16/ ReD ;\n",
      "deltap = 4*f*(L/D)*( rho*V **2) /2;\n",
      "Vmax = 2*V;\n",
      "\n",
      "#result\n",
      "print\"Pressure drop is\",round(deltap,4),\"Pa\";\n",
      "print\"Maximum velocity is\",round(Vmax,3),\"m/s\";"
     ],
     "language": "python",
     "metadata": {},
     "outputs": [
      {
       "output_type": "stream",
       "stream": "stdout",
       "text": [
        "Pressure drop is 250.6768 Pa\n",
        "Maximum velocity is 0.4 m/s\n"
       ]
      }
     ],
     "prompt_number": 1
    },
    {
     "cell_type": "heading",
     "level": 2,
     "metadata": {},
     "source": [
      "Example 4.2(a) , Page no:180"
     ]
    },
    {
     "cell_type": "code",
     "collapsed": false,
     "input": [
      "import math\n",
      "from __future__ import division\n",
      "\n",
      "#Variable declaration\n",
      "L = 3 ; #m\n",
      "D = 0.01 ; #m\n",
      "V = 0.2 ;#m/ s\n",
      "rho = 971.8 ; #kg /m^ 3\n",
      "\n",
      "#calculations\n",
      "v = 0.365 * 10** -6 ; #m^2/ s\n",
      "ReD = D*V/v;\n",
      "f =0.079*( ReD )**( -0.25) ;\n",
      "deltap = (4*f*L* rho *V**2) /(D *2) ;\n",
      "x = ((f/2) **0.5) *V ;\n",
      "yplus = 0.005* x /(0.365*10** -6) ;\n",
      "Vmax = x *(2.5* math.log ( yplus ) + 5.5) ;\n",
      "ratio = Vmax /V;\n",
      "\n",
      "#result\n",
      "print\"(a) If the temperature of water is increased to 80 degree C\";\n",
      "print\"Pressure drop is\",round(deltap,4),\"Pa\";\n",
      "print\"Vmax =\",round(Vmax,4),\"m/s\";\n",
      "print\"Vmax/Vbar =\",round(ratio,4);"
     ],
     "language": "python",
     "metadata": {},
     "outputs": [
      {
       "output_type": "stream",
       "stream": "stdout",
       "text": [
        "(a) If the temperature of water is increased to 80 degree C\n",
        "Pressure drop is 214.1563 Pa\n",
        "Vmax = 0.2515 m/s\n",
        "Vmax/Vbar = 1.2575\n"
       ]
      }
     ],
     "prompt_number": 2
    },
    {
     "cell_type": "heading",
     "level": 2,
     "metadata": {},
     "source": [
      "Example 4.2(b) , Page no:180"
     ]
    },
    {
     "cell_type": "code",
     "collapsed": false,
     "input": [
      "import math\n",
      "from __future__ import division\n",
      "\n",
      "#Variable declaration\n",
      "L = 3 ; #m\n",
      "D = 0.01 ; #m\n",
      "V = 0.2 ; #m/s\n",
      "V1 =0.7;\n",
      "v1 = 1.306 * 10** -6 ; #m^2/ s\n",
      "V1 =0.7; #m/ s\n",
      "\n",
      "#calculations\n",
      "ReD1 =V1*D /(1.306*10** -6) ;\n",
      "f1 = 0.079*( ReD1 )**( -0.25) ;\n",
      "deltap1 = (4* f1*L *999.7*0.7**2) /(0.01*2) ;\n",
      "x1 = (( f1 /2)**0.5) *V1 ;\n",
      "y1plus = 0.005* x1 /( v1);\n",
      "Vmax1 = x1 *(2.5* math.log ( y1plus ) + 5.5) ;\n",
      "ratio1 = Vmax1 /V1;\n",
      "\n",
      "#result\n",
      "print\"(b) If the velocity is increased to 0.7 \";\n",
      "print\"Reynolds no is\",round(ReD1,4);\n",
      "print\"Pressure drop is\",round(deltap1,4),\"pa\";\n",
      "print\"y+ at centre line =\",round(y1plus,4);\n",
      "print\"Vmax is\",round(Vmax1,4),\"pa\";\n",
      "print\"Vmax/Vbar =\",round(ratio1,4);"
     ],
     "language": "python",
     "metadata": {},
     "outputs": [
      {
       "output_type": "stream",
       "stream": "stdout",
       "text": [
        "(b) If the velocity is increased to 0.7 \n",
        "Reynolds no is 5359.8775\n",
        "Pressure drop is 2713.6598 pa\n",
        "y+ at centre line = 182.087\n",
        "Vmax is 0.8804 pa\n",
        "Vmax/Vbar = 1.2577\n"
       ]
      }
     ],
     "prompt_number": 3
    },
    {
     "cell_type": "heading",
     "level": 2,
     "metadata": {},
     "source": [
      "Example 4.3 , Page no:181"
     ]
    },
    {
     "cell_type": "code",
     "collapsed": false,
     "input": [
      "import math\n",
      "from __future__ import division\n",
      "\n",
      "#Variable declaration\n",
      "P = 80 * 10**3 ; #Pa\n",
      "L = 10 ; #m\n",
      "Vbar = 1.9 ; #m/s\n",
      "l = 0.25 ; #m\n",
      "b = 0.15 ; #m\n",
      "rho = 1.185 ; #kg /m^ 3\n",
      "\n",
      "#calculations\n",
      "mew = 18.35 * 10** -6 ; #kg /m s\n",
      "rho1 = rho *(80/101.3) ; #kg /m^ 3\n",
      "r = b/l;\n",
      "De = (4* l/2*b /2) /(l/2 + b /2) ;\n",
      "Dl = (2/3 + 11/24*0.6*(2 -0.6)) * De ;\n",
      "Re = rho1 * Dl * Vbar / mew ;\n",
      "f = 0.079*( Re ** -0.25) ;\n",
      "deltaP = 4*f*(L/ Dl )*( rho1 *( Vbar **2) /2) ;\n",
      "power = deltaP *( Vbar *l*b)\n",
      "\n",
      "#result\n",
      "print\"Reynolds no =\",round(Re,4);\n",
      "print\"f =\",round(f,4);\n",
      "print\"Pressure drop =\",round(deltaP,4),\"Pa\";\n",
      "print\"Power required =\",round(power,4),\"W\";"
     ],
     "language": "python",
     "metadata": {},
     "outputs": [
      {
       "output_type": "stream",
       "stream": "stdout",
       "text": [
        "Reynolds no = 19107.1453\n",
        "f = 0.0067\n",
        "Pressure drop = 2.3024 Pa\n",
        "Power required = 0.164 W\n"
       ]
      }
     ],
     "prompt_number": 4
    },
    {
     "cell_type": "heading",
     "level": 2,
     "metadata": {},
     "source": [
      "Example 4.4 , Page no:189"
     ]
    },
    {
     "cell_type": "code",
     "collapsed": false,
     "input": [
      "import math\n",
      "from __future__ import division\n",
      "\n",
      "#Variable declaration\n",
      "l = 2 ; #m\n",
      "b = 1 ; #m\n",
      "V = 1 ; #m/s\n",
      "rho = 1.060 ; #kg /m^ 3\n",
      "x = 1.5 ; #m^2/s\n",
      "\n",
      "#calculations\n",
      "v = 18.97 * 10** -6 ;\n",
      "Re = V*x/v; #Reynolds number\n",
      "d = 5*x/( Re **(1/2) ) *1000 ;\n",
      "Rel = V*l/v;\n",
      "cf = 1.328* Rel** -(1/2) ; #drag coefficient\n",
      "Fd = 0.00409*(1/2) *rho *(2* l*b) *1**2;\n",
      "\n",
      "#result\n",
      "print\"Thickness of Boundary layer at x =1.5 is \",round(d,4),\"mm\"\n",
      "print\"Drag Coefficient cf =\",round(cf,5);\n",
      "print\"Drag Force FD =\",round(Fd,6),\"N\";"
     ],
     "language": "python",
     "metadata": {},
     "outputs": [
      {
       "output_type": "stream",
       "stream": "stdout",
       "text": [
        "Thickness of Boundary layer at x =1.5 is  26.6716 mm\n",
        "Drag Coefficient cf = 0.00409\n",
        "Drag Force FD = 0.008671 N\n"
       ]
      }
     ],
     "prompt_number": 5
    },
    {
     "cell_type": "heading",
     "level": 2,
     "metadata": {},
     "source": [
      "Example 4.5 , Page no:195"
     ]
    },
    {
     "cell_type": "code",
     "collapsed": false,
     "input": [
      "import math\n",
      "from __future__ import division\n",
      "\n",
      "#Variable declaration\n",
      "l = 2 ; #m\n",
      "v = 4 ; #m/s\n",
      "\n",
      "#calculations\n",
      "mew = 18.1*10** -6; #N s /m^ 2\n",
      "rho = 1.205*1.5; #kg /m^ 3\n",
      "Rel = rho*v*l/ mew ;\n",
      "Cf = 0.074*(7.989*10**5) **( -0.2) - 1050/ Rel ;\n",
      "Df = Cf *1/2* rho*l*v **2;\n",
      "x = 3*10**5 * (18.1*10** -6) /(1.808*4) ;\n",
      "\n",
      "#result\n",
      "print\"Drag coefficieent is\",round(Cf,6);\n",
      "print\"Drag force per meter width =\",round(Df,6),\"N\";\n",
      "print\"Value of xc is\",round(x,6),\"m\";"
     ],
     "language": "python",
     "metadata": {},
     "outputs": [
      {
       "output_type": "stream",
       "stream": "stdout",
       "text": [
        "Drag coefficieent is 0.003569\n",
        "Drag force per meter width = 0.103221 N\n",
        "Value of xc is 0.75083 m\n"
       ]
      }
     ],
     "prompt_number": 6
    }
   ],
   "metadata": {}
  }
 ]
}