{
 "metadata": {
  "name": "",
  "signature": "sha256:7298a6e927860b27b9f6a568bbab1f848676757d89a8929c4d46b14437989042"
 },
 "nbformat": 3,
 "nbformat_minor": 0,
 "worksheets": [
  {
   "cells": [
    {
     "cell_type": "heading",
     "level": 1,
     "metadata": {},
     "source": [
      "Chapter 7: Heat Exchangers"
     ]
    },
    {
     "cell_type": "heading",
     "level": 2,
     "metadata": {},
     "source": [
      "Example 7.1, Page no:285"
     ]
    },
    {
     "cell_type": "code",
     "collapsed": false,
     "input": [
      "import math\n",
      "from __future__ import division\n",
      "\n",
      "#Variable declaration\n",
      "h = 2000 ; #W/m^2 K\n",
      "#From Table 7.1\n",
      "Uf = 0.0001 ; #fouling factor, m^2K/W\n",
      "\n",
      "#calculations\n",
      "hf = 1/(1/ h+ Uf );\n",
      "p = (h-hf)/h *100;\n",
      "\n",
      "#result\n",
      "print\"Heat transfer coefficient including the effect of foulung =\",round(hf,4),\"W/m^2 K\";\n",
      "print\"Percentage reduction =\",round(p,4);"
     ],
     "language": "python",
     "metadata": {},
     "outputs": [
      {
       "output_type": "stream",
       "stream": "stdout",
       "text": [
        "Heat transfer coefficient including the effect of foulung = 1666.6667 W/m^2 K\n",
        "Percentage reduction = 16.6667\n"
       ]
      }
     ],
     "prompt_number": 1
    },
    {
     "cell_type": "heading",
     "level": 2,
     "metadata": {},
     "source": [
      "Example 7.2, Page no:294"
     ]
    },
    {
     "cell_type": "code",
     "collapsed": false,
     "input": [
      "import math\n",
      "from __future__ import division\n",
      "\n",
      "#Variable declaration\n",
      "m = 1000 ; #kg/h\n",
      "Thi = 50 ; #C\n",
      "The = 40 ; #C\n",
      "Tci = 35 ; #C\n",
      "Tce = 40 ; #C\n",
      "U = 1000 ; #OHTC, W/m^2 K\n",
      "#From fig 7.15,\n",
      "F =0.91 ;\n",
      "#Again from fig 7.15,\n",
      "F =0.91 ;\n",
      "\n",
      "#calculations\n",
      "#Using Eqn 7.5.25\n",
      "q = m /3600*4174*( Thi - The ) ; #W\n",
      "deltaT = (( Thi - Tce ) -(The - Tci ))/math.log (( Thi -Tce)/( The -Tci )); #C\n",
      "#T1 = Th and T2 = Tc\n",
      "R = (Thi - The )/( Tce - Tci ) ;\n",
      "S = (Tce - Tci )/( Thi - Tci ) ;\n",
      "#Alternatively, taking T1 = Tc and T2 = Th\n",
      "R2 = (Tci - Tce )/( The - Thi );\n",
      "S2 = (The - Thi )/( Tci - Thi );\n",
      "A = q/(U*F* deltaT );\n",
      "\n",
      "#result\n",
      "print\"delta T =\",round(deltaT,4);\n",
      "print\"\\nTaking T1 = Th and T2 = Tc\";\n",
      "print\"R=\",round(R,4), \"S=\",round(S,4);\n",
      "print\"Hence, F =\",round(F,4);\n",
      "print\"\\nTaking T1 = Tc and T2 = Th\";\n",
      "print\"R2=\",round(R2,4),\"S2=\",round(S2,4);\n",
      "print\"Hence, F =\",round(F,4);\n",
      "print\"\\nArea =\",round(A,4),\"m^2\";"
     ],
     "language": "python",
     "metadata": {},
     "outputs": [
      {
       "output_type": "stream",
       "stream": "stdout",
       "text": [
        "delta T = 7.2135\n",
        "\n",
        "Taking T1 = Th and T2 = Tc\n",
        "R= 2.0 S= 0.3333\n",
        "Hence, F = 0.91\n",
        "\n",
        "Taking T1 = Tc and T2 = Th\n",
        "R2= 0.5 S2= 0.6667\n",
        "Hence, F = 0.91\n",
        "\n",
        "Area = 1.7663 m^2\n"
       ]
      }
     ],
     "prompt_number": 2
    },
    {
     "cell_type": "heading",
     "level": 2,
     "metadata": {},
     "source": [
      "Example 7.3, Page no:295"
     ]
    },
    {
     "cell_type": "code",
     "collapsed": false,
     "input": [
      "import math\n",
      "from __future__ import division\n",
      "\n",
      "#Variable declaration\n",
      "#Because of change of phase , Thi = The\n",
      "Thi = 100 ; #[C], Saturated steam\n",
      "The = 100 ; #[C], Condensed steam\n",
      "Tci = 30 ; #[C], Cooling water inlet\n",
      "Tce = 70 ; #[C], cooling water outlet\n",
      "#From fig 7.16\n",
      "F = 1;\n",
      "\n",
      "#calculations\n",
      "R = (Thi - The )/( Tce - Tci ) ;\n",
      "S = (Tce - Tci )/( Thi - Tci ) ;\n",
      "#For counter flow arrangement\n",
      "Tmcounter = (( Thi - Tce ) -(The - Tci ))/math.log (( Thi - Tce )/(The - Tci )); #For counter flow arrangement\n",
      "#Therefore\n",
      "Tm = F* Tmcounter ;\n",
      "\n",
      "#result\n",
      "print\"Mean Temperaature Difference =\",round(Tm,4),\"C\";"
     ],
     "language": "python",
     "metadata": {},
     "outputs": [
      {
       "output_type": "stream",
       "stream": "stdout",
       "text": [
        "Mean Temperaature Difference = 47.2089 C\n"
       ]
      }
     ],
     "prompt_number": 3
    },
    {
     "cell_type": "heading",
     "level": 2,
     "metadata": {},
     "source": [
      "Example 7.4(a), Page no:302"
     ]
    },
    {
     "cell_type": "code",
     "collapsed": false,
     "input": [
      "import math\n",
      "from __future__ import division\n",
      "\n",
      "#Variable declaration\n",
      "#Using Mean Temperature Difference approach\n",
      "mhot = 10 ; #kg/min\n",
      "mcold = 25 ; #kg/min\n",
      "hh = 1600 ; #[W/m^2 K], Heat transfer coefficient on hot side\n",
      "hc = 1600 ; #[W/m^2 K], Heat transfer coefficient on cold side\n",
      "Thi = 70 ; #C\n",
      "Tci = 25 ; #C\n",
      "The = 50 ; #C\n",
      "\n",
      "#calculations\n",
      "#Heat Transfer Rate, q\n",
      "q = mhot /60*4179*( Thi - The ); #W\n",
      "#Heat gained by cold water = heat lost by the hot water\n",
      "Tce = 25 + q *1/( mcold /60*4174) ; #C\n",
      "#Using equation 7.5.13\n",
      "Tm = (( Thi - Tci ) -(The - Tce ))/math.log (( Thi -Tci)/( The -Tce)); #C\n",
      "U = 1/(1/ hh + 1/ hc); #W/m^2 K\n",
      "A = q/(U*Tm); #Area, [m^2]\n",
      "\n",
      "#result\n",
      "print\"(a)\";\n",
      "print\"Mean Temperature Difference =\",round(Tm,4),\"C\";\n",
      "print\"Area of Heat Exchanger =\",round(A,4),\"m^2\";"
     ],
     "language": "python",
     "metadata": {},
     "outputs": [
      {
       "output_type": "stream",
       "stream": "stdout",
       "text": [
        "(a)\n",
        "Mean Temperature Difference = 28.7569 C\n",
        "Area of Heat Exchanger = 0.6055 m^2\n"
       ]
      }
     ],
     "prompt_number": 4
    },
    {
     "cell_type": "heading",
     "level": 2,
     "metadata": {},
     "source": [
      "Example 7.4(b) , Page no:302"
     ]
    },
    {
     "cell_type": "code",
     "collapsed": false,
     "input": [
      "import math\n",
      "from __future__ import division\n",
      "\n",
      "#Variable declaration\n",
      "#Using Mean Temperature Difference approach\n",
      "mhot = 10 ; #kg/min\n",
      "mcold = 25 ; #kg/min\n",
      "hh = 1600 ; #[W/m^2 K], Heat transfer coefficient on hot side\n",
      "hc = 1600 ; #[W/m^2 K], Heat transfer coefficient on cold side\n",
      "Thi = 70 ; #C\n",
      "Tci = 25 ; #C\n",
      "The = 50 ; #C\n",
      "mhot1 = 20 ; #kg/min\n",
      "\n",
      "#calculations\n",
      "#Heat Transfer Rate, q\n",
      "q = mhot/60*4179*( Thi - The ); #W\n",
      "#Heat gained by cold water = heat lost by the hot water\n",
      "Tce = 25 + q *1/( mcold /60*4174) ;\n",
      "# Using equation 7.5.13\n",
      "Tm = ((( Thi - Tci ) -(The - Tce ))/math.log (( Thi -Tci)/( The -Tce))); #C\n",
      "U = 1/(1/ hh + 1/ hc); #W/m^2 K\n",
      "A = q/(U*Tm); #Area, [m^2]\n",
      "#Flow rate on hot side i.e. 'hh' is doubled\n",
      "hh1 = 1600*2**0.8 ; #W/m^2 K\n",
      "U1 = 1/(1/ hh1 + 1/ hc); #W/m^2 K\n",
      "mhCph = mhot1 /60*4179 ; #W/K\n",
      "mcCpc = mcold /60*4174 ; #W/K\n",
      "#Therefore\n",
      "C = mhCph / mcCpc ;\n",
      "ntu = U1*A/ mhCph ;\n",
      "e = (1 - math.exp ( -(1+C)*ntu) )/(1+ C) ;\n",
      "#Therefore (Thi - The)/(Thi - Tci) = e , we get\n",
      "The = Thi - e*( Thi - Tci );\n",
      "#Equating the heat lost by water to heat gained by cold water , we get\n",
      "Tce = Tci + ( mhCph *( Thi - The ))/ mcCpc ;\n",
      "\n",
      "#result\n",
      "print\"(b)\\nNTU =\",round(ntu,4);\n",
      "print\"Exit temperature of cold and hot stream are\",round(Tce,4),\"C and\",round(The,4),\"C respectively.\";"
     ],
     "language": "python",
     "metadata": {},
     "outputs": [
      {
       "output_type": "stream",
       "stream": "stdout",
       "text": [
        "(b)\n",
        "NTU = 0.4418\n",
        "Exit temperature of cold and hot stream are 35.981 C and 56.2901 C respectively.\n"
       ]
      }
     ],
     "prompt_number": 5
    },
    {
     "cell_type": "heading",
     "level": 2,
     "metadata": {},
     "source": [
      "Example 7.5 , Page no:304"
     ]
    },
    {
     "cell_type": "code",
     "collapsed": false,
     "input": [
      "import math\n",
      "from __future__ import division\n",
      "\n",
      "#Variable declaration\n",
      "mc = 2000 ; # [kg/h]\n",
      "Tce = 40 ; # [C]\n",
      "Tci = 15 ; # [C]\n",
      "Thi = 80 ; # [C]\n",
      "U = 50 ; # OHTC, [W/m**2 K]\n",
      "A = 10 ; # Area, [m**2]\n",
      "\n",
      "#Calculations\n",
      "# Using effective NTU method\n",
      "# Assuming m_c*C_pc = (m*C_p)s\n",
      "NTU = U*A/(mc*1005/3600);\n",
      "e = (Tce-Tci)/(Thi-Tci);\n",
      "# From fig 7.23, no value of C is found corresponding to the above values, hence assumption was wrong.\n",
      "# So, m_h*C_ph must be equal to (m*C_p)s, proceeding by trail and error method\n",
      "\n",
      "mh_1 = 200\n",
      "NTU_1 = U*A/(mh_1*1.161);\n",
      "#Corresponding Values of C and e from fig 7.23\n",
      "C = .416;\n",
      "e = .78;\n",
      "#From Equation 7.6.2 Page 297\n",
      "The_1 = Thi - e*(Thi-Tci)\n",
      "#From Heat Balance\n",
      "The2_1 = Thi -  mc*1005/3600*(Tce-Tci)/(mh_1*1.161);\n",
      "\n",
      "mh_2 = 250\n",
      "NTU_2 = U*A/(mh_2*1.161);\n",
      "#Corresponding Values of C and e from fig 7.23\n",
      "C = .520;\n",
      "e = .69;\n",
      "#From Equation 7.6.2 Page 297\n",
      "The_2 = Thi - e*(Thi-Tci)\n",
      "#From Heat Balance\n",
      "The2_2 = Thi -  mc*1005/3600*(Tce-Tci)/(mh_2*1.161);\n",
      "\n",
      "mh_3 = 300\n",
      "NTU_3 = U*A/(mh_3*1.161);\n",
      "#Corresponding Values of C and e from fig 7.23\n",
      "C = .624;\n",
      "e = .625;\n",
      "#From Equation 7.6.2 Page 297\n",
      "The_3 = Thi - e*(Thi-Tci)\n",
      "#From Heat Balance\n",
      "The2_3 = Thi -  mc*1005/3600*(Tce-Tci)/(mh_3*1.161);\n",
      "\n",
      "mh_4 = 350\n",
      "NTU_4 = U*A/(mh_4*1.161);#Corresponding Values of C and e from fig 7.23\n",
      "C = .728;\n",
      "e = .57;\n",
      "#From Equation 7.6.2 Page 297\n",
      "The_4 = Thi - e*(Thi-Tci)\n",
      "#From Heat Balance\n",
      "The2_4 = Thi -  mc*1005/3600*(Tce-Tci)/(mh_4*1.161);\n",
      "\n",
      "mh_5 = 400\n",
      "NTU_5 = U*A/(mh_5*1.161);\n",
      "#Corresponding Values of C and e from fig 7.23\n",
      "C = .832;\n",
      "e = .51;\n",
      "#From Equation 7.6.2 Page 297\n",
      "The_5 = Thi - e*(Thi-Tci)\n",
      "#From Heat Balance\n",
      "The2_5 = Thi -  mc*1005/3600*(Tce-Tci)/(mh_5*1.161);\n",
      "\n",
      "#Results\n",
      "\n",
      "print (\"m_h(kg/h) \\t NTU \\t\\t  C \\t\\t  e       \\t T_he(C)    \\t\\t T_he(C)(Heat Balance)\");\n",
      "print mh_1,\"\\t\\t\",round(NTU_1,3),\"\\t\\t\",round(C,3),\"\\t\\t\",round(e,2),\"\\t\\t  \",round(The_1,1),\"\\t\\t\\t\",round(The2_1,1);\n",
      "print mh_2,\"\\t\\t\",round(NTU_2,3),\"\\t\\t\",round(C,3),\"\\t\\t\",round(e,2),\"\\t\\t  \",round(The_2,1),\"\\t\\t\\t\",round(The2_2,1);\n",
      "print mh_3,\"\\t\\t\",round(NTU_3,3),\"\\t\\t\",round(C,3),\"\\t\\t\",round(e,2),\"\\t\\t  \",round(The_3,1),\"\\t\\t\\t\",round(The2_3,1);\n",
      "print mh_4,\"\\t\\t\",round(NTU_4,3),\"\\t\\t\",round(C,3),\"\\t\\t\",round(e,2),\"\\t\\t  \",round(The_4,1),\"\\t\\t\\t\",round(The2_4,1);\n",
      "print mh_5,\"\\t\\t\",round(NTU_5,3),\"\\t\\t\",round(C,3),\"\\t\\t\",round(e,2),\"\\t\\t  \",round(The_5,1),\"\\t\\t\\t\",round(The2_5,1);\n",
      "\n",
      "#Graph\n",
      "mh=[200,250,300,350,400];\n",
      "The=[29.3,35.2,39.4,43,46.9];\n",
      "The2=[19.9,31.9,39.9,45.7,50];\n",
      "\n",
      "import matplotlib.pyplot as plt\n",
      "import numpy as np\n",
      "%matplotlib inline\n",
      "\n",
      "plt.plot (mh,The,'b',mh,The2,'r',[295,295,200],[0,39.2,39.2],'k');\n",
      "plt.title (\"mh vs The\");\n",
      "plt.xlabel(\" mh \");\n",
      "plt.ylabel(\" The \");"
     ],
     "language": "python",
     "metadata": {},
     "outputs": [
      {
       "output_type": "stream",
       "stream": "stdout",
       "text": [
        "m_h(kg/h) \t NTU \t\t  C \t\t  e       \t T_he(C)    \t\t T_he(C)(Heat Balance)\n",
        "200 \t\t2.153 \t\t0.832 \t\t0.51 \t\t   29.3 \t\t\t19.9\n",
        "250 \t\t1.723 \t\t0.832 \t\t0.51 \t\t   35.2 \t\t\t31.9\n",
        "300 \t\t1.436 \t\t0.832 \t\t0.51 \t\t   39.4 \t\t\t39.9\n",
        "350 \t\t1.23 \t\t0.832 \t\t0.51 \t\t   43.0 \t\t\t45.6\n",
        "400 \t\t1.077 \t\t0.832 \t\t0.51 \t\t   46.9 \t\t\t49.9\n"
       ]
      },
      {
       "metadata": {},
       "output_type": "display_data",
       "png": "[encoded data removed]",
       "text": [
        "<matplotlib.figure.Figure at 0x4dd1170>"
       ]
      }
     ],
     "prompt_number": 6
    }
   ],
   "metadata": {}
  }
 ]
}