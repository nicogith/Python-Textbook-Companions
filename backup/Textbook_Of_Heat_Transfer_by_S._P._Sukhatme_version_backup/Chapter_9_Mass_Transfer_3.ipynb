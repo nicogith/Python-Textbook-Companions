{
 "metadata": {
  "name": "",
  "signature": "sha256:68af0c4a8337e2d1285b325265301de0a726e4a41ce7ffd072403aa9458bcfde"
 },
 "nbformat": 3,
 "nbformat_minor": 0,
 "worksheets": [
  {
   "cells": [
    {
     "cell_type": "heading",
     "level": 1,
     "metadata": {},
     "source": [
      "Chapter 9: Mass Transfer"
     ]
    },
    {
     "cell_type": "heading",
     "level": 2,
     "metadata": {},
     "source": [
      "Example 9.1, Page no:349"
     ]
    },
    {
     "cell_type": "code",
     "collapsed": false,
     "input": [
      "import math\n",
      "from __future__ import division\n",
      "\n",
      "#Variable declaration\n",
      "wa = 0.76 ;\n",
      "wb = 0.24 ;\n",
      "ma = 28 ; #kg/kg mole\n",
      "mb = 32 ; #kg/kg mole\n",
      "\n",
      "#calculations\n",
      "xa = ( wa /ma)/( wa /ma+ wb /mb);\n",
      "xb = ( wb /mb)/( wa /ma+ wb /mb);\n",
      "\n",
      "#result\n",
      "print\"The molar fractions are given by\";\n",
      "print\"xa =\",round(xa,5);\n",
      "print\"xb =\",round(xb,5);"
     ],
     "language": "python",
     "metadata": {},
     "outputs": [
      {
       "output_type": "stream",
       "stream": "stdout",
       "text": [
        "The molar fractions are given by\n",
        "xa = 0.78351\n",
        "xb = 0.21649\n"
       ]
      }
     ],
     "prompt_number": 1
    },
    {
     "cell_type": "heading",
     "level": 2,
     "metadata": {},
     "source": [
      "Example 9.2, Page no:350"
     ]
    },
    {
     "cell_type": "code",
     "collapsed": false,
     "input": [
      "import math\n",
      "from __future__ import division\n",
      "\n",
      "#calculations\n",
      "#From Table 9.1 at 1 atm and 25 C\n",
      "Dab = 0.62*10**-5 ; #m^2/s\n",
      "#Therefore at 2 atm and 50 C\n",
      "Dab2 = Dab*(1/2)*(323/298)**1.5 ;\n",
      "\n",
      "#result\n",
      "print\"Dab at 2 atm & 50 C =\",'%.4E'%Dab2,\"m^2/s\";"
     ],
     "language": "python",
     "metadata": {},
     "outputs": [
      {
       "output_type": "stream",
       "stream": "stdout",
       "text": [
        "Dab at 2 atm & 50 C = 3.4982E-06 m^2/s\n"
       ]
      }
     ],
     "prompt_number": 2
    },
    {
     "cell_type": "heading",
     "level": 2,
     "metadata": {},
     "source": [
      "Example 9.3 (a), Page no:352"
     ]
    },
    {
     "cell_type": "code",
     "collapsed": false,
     "input": [
      "import math\n",
      "from __future__ import division\n",
      "\n",
      "#Variable declaration\n",
      "t = 0.04 ; #m\n",
      "A = 2 ; #m^ 2\n",
      "rho1 = 0.10 ;\n",
      "rho2 = 0.01 ;\n",
      "\n",
      "#calculations\n",
      "D400 = 1.6*10**-11 ; #at 400K [m^2/ s ]\n",
      "#Mass Diffusion in solid solution, assuming Ficks law is valid & steady state and one dimensional diffusion\n",
      "#Subtituting the values in eqn 9.3.3 , At 400 K\n",
      "m400 = A* D400 *( rho1 - rho2 )/t; #kg / s\n",
      "\n",
      "#result\n",
      "print\"Rate of diffusion of Hydrogen at 400 K =\",m400,\"kg/s\";"
     ],
     "language": "python",
     "metadata": {},
     "outputs": [
      {
       "output_type": "stream",
       "stream": "stdout",
       "text": [
        "Rate of diffusion of Hydrogen at 400 K = 7.2e-11 kg/s\n"
       ]
      }
     ],
     "prompt_number": 3
    },
    {
     "cell_type": "heading",
     "level": 2,
     "metadata": {},
     "source": [
      "Example 9.3 (b), Page no:352"
     ]
    },
    {
     "cell_type": "code",
     "collapsed": false,
     "input": [
      "import math\n",
      "from __future__ import division\n",
      "\n",
      "#Variable declaration\n",
      "t = 0.04 ; #m\n",
      "A = 2 ; #m^2\n",
      "rho1 = 0.10 ;\n",
      "rho2 = 0.01 ;\n",
      "\n",
      "#calculations\n",
      "D1200 = 3.5*10**-8 ; #at 1200k [m^2/s]\n",
      "#Mass Diffusion in solid solution, assuming Ficks law is valid & steady state and one dimensional diffusion\n",
      "#At 1200 K\n",
      "#From eqn 9.3.3\n",
      "m1200 = A* D1200 *( rho1 - rho2 )/t ; #At 1200 K\n",
      "\n",
      "#result\n",
      "print\"b) Rate of diffusion of Hydrogen at 1200 K =\",m1200,\"kg/s\";"
     ],
     "language": "python",
     "metadata": {},
     "outputs": [
      {
       "output_type": "stream",
       "stream": "stdout",
       "text": [
        "b) Rate of diffusion of Hydrogen at 1200 K = 1.575e-07 kg/s\n"
       ]
      }
     ],
     "prompt_number": 4
    },
    {
     "cell_type": "heading",
     "level": 2,
     "metadata": {},
     "source": [
      "Example 9.4 (a), Page no:356"
     ]
    },
    {
     "cell_type": "code",
     "collapsed": false,
     "input": [
      "import math\n",
      "from __future__ import division\n",
      "\n",
      "#Variable declaration\n",
      "L = 1 ; #m\n",
      "D = 0.005 ; #m\n",
      "Pa1 = 1 ; #atm\n",
      "Pa2 = 0 ;\n",
      "R = 8314 ;\n",
      "T = 298 ; #K\n",
      "\n",
      "#calculations\n",
      "#Assuming Equimolal counter diffusion\n",
      "#From Table 9.1\n",
      "Dab = 2.80*10**-5 ; #m^2/s\n",
      "#Substituing in eqn 9.4.12\n",
      "Na = -( Dab /(R*T)*( Pa2 - Pa1 ) *(1.014*10**5) /L )*(3.14*(D/2)**2) ;\n",
      "RNH3 = Na *17 ; #kg/s\n",
      "\n",
      "#result\n",
      "print\"Na = -Nb =\",'%.4E'%Na,\"(kg mole)/m^2 s\";\n",
      "print\"Rate at which ammonia is lost through the tube =\",'%.3E'%RNH3,\"kg/s\";"
     ],
     "language": "python",
     "metadata": {},
     "outputs": [
      {
       "output_type": "stream",
       "stream": "stdout",
       "text": [
        "Na = -Nb = 2.2489E-11 (kg mole)/m^2 s\n",
        "Rate at which ammonia is lost through the tube = 3.823E-10 kg/s\n"
       ]
      }
     ],
     "prompt_number": 5
    },
    {
     "cell_type": "heading",
     "level": 2,
     "metadata": {},
     "source": [
      "Example 9.4 (b), Page no:356"
     ]
    },
    {
     "cell_type": "code",
     "collapsed": false,
     "input": [
      "import math\n",
      "from __future__ import division\n",
      "\n",
      "#Variable declaration\n",
      "L = 1 ; #m\n",
      "D = 0.005 ; #m\n",
      "Pa1 = 1 ; #atm\n",
      "Pa2 = 0 ;\n",
      "R = 8314 ;\n",
      "T = 298 ; #K\n",
      "\n",
      "#calculations\n",
      "#Since the tank is large and the pressure and temperature at the two ends of the same tube are same, \n",
      "#we are assuming Equimolal counter diffusion\n",
      "Dab = 2.80*10**-5 ; #m^2/s\n",
      "#Substituing in eqn 9.4.12\n",
      "Na = -(Dab /(R*T)*( Pa2 - Pa1 ) *(1.014*10**5) /L )*(3.14*(D/2)**2) ;\n",
      "#Since equimolal counter diffusion is taking place\n",
      "Nb = - Na ; \n",
      "#therefore rate at which air enters the tank\n",
      "Rair = abs (Nb)*29 ; #kg/s\n",
      "\n",
      "#result\n",
      "print\"Rate at which air enters the tank =\",'%.4E'%Rair,\"kg/s\";"
     ],
     "language": "python",
     "metadata": {},
     "outputs": [
      {
       "output_type": "stream",
       "stream": "stdout",
       "text": [
        "Rate at which air enters the tank = 6.5219E-10 kg/s\n"
       ]
      }
     ],
     "prompt_number": 6
    },
    {
     "cell_type": "heading",
     "level": 2,
     "metadata": {},
     "source": [
      "Example 9.5 , Page no:359"
     ]
    },
    {
     "cell_type": "code",
     "collapsed": false,
     "input": [
      "import math\n",
      "from __future__ import division\n",
      "\n",
      "#Variable declaration\n",
      "D = 0.04 ; #m\n",
      "h = 0.20 ; #m\n",
      "hw = 0.03 ; #m\n",
      "R = 8314 ; #J/kg mole K\n",
      "Psat = 0.02339 ; #bar\n",
      "xa2 = 0 ; #mole fraction at open top\n",
      "\n",
      "#calculations\n",
      "#Evaporation of water, one dimensional\n",
      "Tw = 20+273 ; #K\n",
      "P = 1.014*10**5; #Pa\n",
      "xa1 = Psat /1.014 ; #mole fraction at liq-vap interface\n",
      "c = P/(R* Tw );\n",
      "#From Table 9.2\n",
      "Dab = 2.422*10**-5 ; #m^2/s\n",
      "#Substituting above values in eqn 9.4.18\n",
      "flux = 0.041626* Dab /0.17* math.log ((1 -0) /(1 - xa1 )); #kg mole/m^2 s\n",
      "rate = flux *18*(3.14/4) *(D**2) ;\n",
      "\n",
      "#result\n",
      "print\"Rate of evaporation of water =\",'%.4E'%rate,\"kg/s\";"
     ],
     "language": "python",
     "metadata": {},
     "outputs": [
      {
       "output_type": "stream",
       "stream": "stdout",
       "text": [
        "Rate of evaporation of water = 3.1290E-09 kg/s\n"
       ]
      }
     ],
     "prompt_number": 7
    },
    {
     "cell_type": "heading",
     "level": 2,
     "metadata": {},
     "source": [
      "Example 9.6 , Page no:364"
     ]
    },
    {
     "cell_type": "code",
     "collapsed": false,
     "input": [
      "import math\n",
      "from __future__ import division\n",
      "\n",
      "#Variable declaration\n",
      "l = 1; #length, m\n",
      "w = 0.25; #width, m\n",
      "T = 293 ; #Temperature, K\n",
      "rhoinfinity = 0; #kg/m^3\n",
      "R = 8314; #J/ kg K\n",
      "paw = 2339; #Saturation pressure of water at 20 degree C. [N/m^2]\n",
      "rhoainf = 0 ; #since air in the free stream is dry\n",
      "\n",
      "#calculations\n",
      "#From Table A.2\n",
      "v = 15.06*10**-6; #m^2/s\n",
      "# From Table 9.2\n",
      "Dab = 2.4224*10**-5; #m^2/s\n",
      "Re = 2.5/ v;\n",
      "Sc = v/ Dab ;\n",
      "#Since Re > 3*10^5, we may assume laminar boundary layer\n",
      "Sh = 0.664* Sc**(1/3) *Re**(1/2) ; #Sherwood number\n",
      "h = Sh*Dab;\n",
      "rhoaw = paw /(R /18* T); #kg/m^3\n",
      "mh = h *(2* l*w)*( rhoaw - rhoinfinity );\n",
      "\n",
      "#result\n",
      "print\"Rate of evaporation from plate =\",'%.4E'%mh,\"kg/s\";"
     ],
     "language": "python",
     "metadata": {},
     "outputs": [
      {
       "output_type": "stream",
       "stream": "stdout",
       "text": [
        "Rate of evaporation from plate = 4.8335E-05 kg/s\n"
       ]
      }
     ],
     "prompt_number": 8
    },
    {
     "cell_type": "heading",
     "level": 2,
     "metadata": {},
     "source": [
      "Example 9.7 (a) , Page no:366"
     ]
    },
    {
     "cell_type": "code",
     "collapsed": false,
     "input": [
      "import math\n",
      "from __future__ import division\n",
      "\n",
      "#Variable declaration\n",
      "D = 0.04 ; #m\n",
      "V = 1.9 ; #m/s\n",
      "rho = 1.177 ; #kg/m^3\n",
      "Pr = 0.7015 ;\n",
      "Cp = 1005 ; #J/kg K\n",
      "k = 0.02646 ; #W/m K\n",
      "\n",
      "#calculations\n",
      "#a) Colburn anology and Gnielinski equation\n",
      "#Properties of air at 27 degree C\n",
      "v = 15.718*10**-6 ; #m^2/s\n",
      "# From Table 9.2\n",
      "Dab = 2.54 * 10**-5 ; #m^2/s\n",
      "Sc = v/ Dab ;\n",
      "Re = V*D/v;\n",
      "#The flow is turbulent and eqn 9.6.5 may be applied\n",
      "#let r = h/hm\n",
      "r = rho*Cp *(( Sc/Pr)**(2/3) ); #let r = h/hm \n",
      "#From Blasius equation 4.6.4a\n",
      "f = 0.079* Re**( -0.25) ;\n",
      "#Substituting this value into Gnielinski\n",
      "Nu = ((f /2) *(Re -1000) *Pr )/(1+12.7*(( f/2)**(1/2) )*(( Pr**(2/3) ) -1));\n",
      "h = Nu*k/D;\n",
      "hm = h/r; #m/s\n",
      "\n",
      "#result\n",
      "print\"hm using Colburn anology and Gnielinski equation =\",round(hm,6);"
     ],
     "language": "python",
     "metadata": {},
     "outputs": [
      {
       "output_type": "stream",
       "stream": "stdout",
       "text": [
        "hm using Colburn anology and Gnielinski equation = 0.009495\n"
       ]
      }
     ],
     "prompt_number": 9
    },
    {
     "cell_type": "heading",
     "level": 2,
     "metadata": {},
     "source": [
      "Example 9.7 (b) , Page no:366"
     ]
    },
    {
     "cell_type": "code",
     "collapsed": false,
     "input": [
      "import math\n",
      "from __future__ import division\n",
      "\n",
      "#Variable declaration\n",
      "D = 0.04 ; #m\n",
      "V = 1.9 ; #m/s\n",
      "rho = 1.177 ; #kg/m^3\n",
      "Pr = 0.7015 ;\n",
      "Cp = 1005 ; #J/kg K\n",
      "k = 0.02646 ; #W/m K\n",
      "\n",
      "#calculations\n",
      "#(b) mess transfer correlation equivalent to the Gleilinski equation\n",
      "#Properties of air at 27 degree C\n",
      "v = 15.718*10**-6 ; #m^2/s\n",
      "#From Table 9.2\n",
      "Dab = 2.54 * 10**-5 ; #m^2/s\n",
      "Sc = v/ Dab ;\n",
      "Re = V*D/v;\n",
      "#From Blasius equation 4.6.4a\n",
      "f = 0.079* Re**( -0.25) ;\n",
      "#Substituting in eqn 9.6.7\n",
      "ShD = ((f /2) *(Re -1000) *Sc )/(1+12.7*(( f/2)) *(( Sc**(2/3) ) -1));\n",
      "hm1 = ShD * Dab /D;\n",
      "\n",
      "#result\n",
      "print\"(b) hm =\",round(hm1,6);"
     ],
     "language": "python",
     "metadata": {},
     "outputs": [
      {
       "output_type": "stream",
       "stream": "stdout",
       "text": [
        "(b) hm = 0.007258\n"
       ]
      }
     ],
     "prompt_number": 10
    },
    {
     "cell_type": "heading",
     "level": 2,
     "metadata": {},
     "source": [
      "Example 9.7 (c) , Page no:366"
     ]
    },
    {
     "cell_type": "code",
     "collapsed": false,
     "input": [
      "import math\n",
      "from __future__ import division\n",
      "\n",
      "#Variable declaration\n",
      "D = 0.04 ; #m\n",
      "V = 1.9 ; #m/s\n",
      "rho = 1.177 ; #kg/m^3\n",
      "Pr = 0.7015 ;\n",
      "Cp = 1005 ; #J/kg K\n",
      "k = 0.02646 ; #W/m K\n",
      "\n",
      "#calculations\n",
      "#c) To show that mass flux of water is very small compared to the mass flux of air flowing in the pipe\n",
      "#Properties of air at 27 degree C\n",
      "v = 15.718*10**-6 ; #m^2/s\n",
      "#From Table 9.2\n",
      "Dab = 2.54 * 10**-5 ; #m^2/s\n",
      "Sc = v/ Dab ;\n",
      "Re = V*D/v;\n",
      "#The flow is turbulent and eqn 9.6.5 may be applied\n",
      "#let r = h/hm \n",
      "r = rho*Cp *(( Sc/Pr)**(2/3) ); #let r = h/hm\n",
      "#From Blasius equation 4.6.4a\n",
      "f = 0.079* Re**( -0.25) ;\n",
      "#From steam table\n",
      "rhoaw = 1/38.77 ; #kg/m^3\n",
      "#let X = (m_a/A)_max\n",
      "X = f* rhoaw ; #kg/m^2 s\n",
      "#let Y = mass flux of air in pipe = (m/A)\n",
      "Y = rho*V ; #kg/m^2 s\n",
      "ratio = X/Y ;\n",
      "percent = ratio *100;\n",
      "\n",
      "#result\n",
      "print\"(c) (ma/A)max/(ma/A) =\",round(percent,6),\"percent Thus,\\nmass flux of water is very small compared to the mass flux of air flowing in the pipe.\";"
     ],
     "language": "python",
     "metadata": {},
     "outputs": [
      {
       "output_type": "stream",
       "stream": "stdout",
       "text": [
        "(c) (ma/A)max/(ma/A) = 0.010927 percent Thus,\n",
        "mass flux of water is very small compared to the mass flux of air flowing in the pipe.\n"
       ]
      }
     ],
     "prompt_number": 11
    },
    {
     "cell_type": "heading",
     "level": 2,
     "metadata": {},
     "source": [
      "Example 9.8 , Page no:369"
     ]
    },
    {
     "cell_type": "code",
     "collapsed": false,
     "input": [
      "import math\n",
      "from __future__ import division\n",
      "\n",
      "#Variable declaration\n",
      "V = 0.5 ; #m/s\n",
      "Th = 30 ; #C\n",
      "Tc = 26 ; #C\n",
      "#From table A.2\n",
      "rho = 1.173 ; #kg/m^3\n",
      "Cp = 1005 ; #J/kg K\n",
      "k = 0.02654 ; #W/m K\n",
      "Psat = 3363; #From steam table\n",
      "PP30 = 4246 ; #From steam table partial pressure of water vapour at 30 C, N/m^2\n",
      "\n",
      "#calculations\n",
      "Tm = (Th+ Tc )/2;\n",
      "#From Table 9.2 at 301 K\n",
      "alpha = k/( rho *Cp); #m^2/s\n",
      "Dab = 2.5584*10**-5 ; #m^2/s\n",
      "hfg = 2439.2*10**3 ; #J/kg\n",
      "#Substituting in equation 9.7.5\n",
      "#let difference = rho_aw-rho_a infinity\n",
      "difference = rho *Cp *(( alpha /Dab)**(2/3) )*( Th - Tc )/hfg ;\n",
      "#From steam table\n",
      "rhoaw = Psat /(8314/18*299) ;\n",
      "rhoinf = rhoaw - difference ;\n",
      "x = rhoinf / rho ; #mole fraction of water vapour in air stream\n",
      "PP = rhoinf *8314/18*303; #Partial pressure of water vapour in air stream\n",
      "relH = PP/ PP30 ;\n",
      "percent = relH *100;\n",
      "\n",
      "#result\n",
      "print\"Relative humidity =\",round(relH,4),\"i.e.\",round(percent,4),\"percent\";"
     ],
     "language": "python",
     "metadata": {},
     "outputs": [
      {
       "output_type": "stream",
       "stream": "stdout",
       "text": [
        "Relative humidity = 0.7441 i.e. 74.4122 percent\n"
       ]
      }
     ],
     "prompt_number": 12
    }
   ],
   "metadata": {}
  }
 ]
}