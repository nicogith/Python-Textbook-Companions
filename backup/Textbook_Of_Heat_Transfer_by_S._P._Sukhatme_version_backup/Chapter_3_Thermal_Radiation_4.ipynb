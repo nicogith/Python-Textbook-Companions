{
 "metadata": {
  "name": "",
  "signature": "sha256:3f494d977b9882173f1289b65c0c4b5e1b60b5511a2cd5bc368a603771906dc9"
 },
 "nbformat": 3,
 "nbformat_minor": 0,
 "worksheets": [
  {
   "cells": [
    {
     "cell_type": "heading",
     "level": 1,
     "metadata": {},
     "source": [
      "Chapter 3: Thermal Radiation"
     ]
    },
    {
     "cell_type": "heading",
     "level": 2,
     "metadata": {},
     "source": [
      "Example 3.1 , Page no:114"
     ]
    },
    {
     "cell_type": "code",
     "collapsed": false,
     "input": [
      "import math\n",
      "from __future__ import division\n",
      "\n",
      "#Variable declaration\n",
      "T = 5779 ; #Temperature,in Kelvin\n",
      "\n",
      "#calculations\n",
      "lambdam = 0.00290/ T ; #m\n",
      "e = 2*(3.14) *0.596*(10** -16) /(((0.5018*10** -6) **5) *( math.exp(0.014387/0.00290) -1)) ; #W/m^2 m\n",
      "eblmax = e / 10**6 ;\n",
      "eearth = eblmax *((0.695*10**6) /(1.496*10**8) )**2 ;\n",
      "\n",
      "#result\n",
      "print\"Value of emissivity on sun surface is\",round(eblmax,4),\"W/m^2 um\";\n",
      "print\"The value of emmissivity on earths surface is\",round(eearth,4),\"W/m^2 um\";"
     ],
     "language": "python",
     "metadata": {},
     "outputs": [
      {
       "output_type": "stream",
       "stream": "stdout",
       "text": [
        "Value of emissivity on sun surface is 82995768.8548 W/m^2 um\n",
        "The value of emmissivity on earths surface is 1791.2755 W/m^2 um\n"
       ]
      }
     ],
     "prompt_number": 1
    },
    {
     "cell_type": "heading",
     "level": 2,
     "metadata": {},
     "source": [
      "Example 3.2 , Page no:115"
     ]
    },
    {
     "cell_type": "code",
     "collapsed": false,
     "input": [
      "import math\n",
      "from __future__ import division\n",
      "\n",
      "#Variable declaration\n",
      "Stefanconstt = 5.67*10**( -8) ; #W/m^ 2 .K^ 4 \n",
      "T = 1500; #tempera ture is in kelvins\n",
      "eb = ( Stefanconstt )*(T **(4) ); #energy radiated by blackbody\n",
      "e = 0.9; #emissivity\n",
      "lamda1 = 1; #wave lengthis in um\n",
      "lamda2 = 0.3; #wave lengthis in um\n",
      "D01 =0.5*(0.01972+0.00779) ;\n",
      "D02 =0;\n",
      "\n",
      "#calculations\n",
      "q = e*( D01 - D02 )* Stefanconstt *T **(4) ; #W/m^2\n",
      "\n",
      "#result\n",
      "print\"wavelength*temp=\",1*1500,\"um K\";\n",
      "print\"wavelength*temp at\",0.3*1500,\"um K\";\n",
      "print\"Required heat flux, q =\",round(q,0),\"W/m^2\";"
     ],
     "language": "python",
     "metadata": {},
     "outputs": [
      {
       "output_type": "stream",
       "stream": "stdout",
       "text": [
        "wavelength*temp= 1500 um K\n",
        "wavelength*temp at 450.0 um K\n",
        "Required heat flux, q = 3553.0 W/m^2\n"
       ]
      }
     ],
     "prompt_number": 2
    },
    {
     "cell_type": "heading",
     "level": 2,
     "metadata": {},
     "source": [
      "Example 3.3 , Page no:119"
     ]
    },
    {
     "cell_type": "code",
     "collapsed": false,
     "input": [
      "import math\n",
      "from __future__ import division\n",
      "\n",
      "#Variable declaration\n",
      "a02 =1; #absorptivity\n",
      "a24 =1; #absorptivity\n",
      "a46 =0.5; #absorptivity\n",
      "a68 =0.5; #absorptivity\n",
      "a8 =0; #absorptivity\n",
      "H02 =0; #Irradiationin W/m^2 um\n",
      "H24 =750;#Irradiationin W/m^2 um\n",
      "H46 =750;#Irradiationin W/m^2 um\n",
      "H68 =750;#Irradiationin W/m^2 um\n",
      "H8 =750;#Irradiationin W/m^2 um\n",
      "\n",
      "#calculations\n",
      "Absorbedradiantflux =1*0*(2 -0) +1*750*(4 -2)+0.5*750*(8 -4) +0;\n",
      "H = 750*(8 -2) ;  #Incident flux\n",
      "a = Absorbedradiantflux /H;\n",
      "p = 1-a;\n",
      "\n",
      "#result\n",
      "print\"Absorbed radiant flux =\",Absorbedradiantflux,\"W/m^2\";\n",
      "print\"Incident flux =\",H,\"W/m^2\";\n",
      "print\"Absorptivity =\",round(a,3);\n",
      "print\"Since the surf =\",round(p,3);"
     ],
     "language": "python",
     "metadata": {},
     "outputs": [
      {
       "output_type": "stream",
       "stream": "stdout",
       "text": [
        "Absorbed radiant flux = 3000.0 W/m^2\n",
        "Incident flux = 4500 W/m^2\n",
        "Absorptivity = 0.667\n",
        "Since the surf = 0.333\n"
       ]
      }
     ],
     "prompt_number": 3
    },
    {
     "cell_type": "heading",
     "level": 2,
     "metadata": {},
     "source": [
      "Example 3.4(a) , Page no:123"
     ]
    },
    {
     "cell_type": "code",
     "collapsed": false,
     "input": [
      "import math\n",
      "from __future__ import division\n",
      "\n",
      "#Variable declaration\n",
      "e = 0.08; #emissivity\n",
      "T = 800; #temperature,[K]\n",
      "\n",
      "#calculations\n",
      "Stefanconstt = 5.67*10**( -8) ; #W/m^ 2 .K^ 4 \n",
      "q = e* Stefanconstt *T **4; #W/m^ 2\n",
      "i_n = (q/(3.14));\n",
      "\n",
      "#result\n",
      "print\"Energy emitted =\",round(q,1),\"W/m^2\";\n",
      "print\"Energy emitted normal to the surface =\",round(i_n,1),\"W/m^2 sr\";"
     ],
     "language": "python",
     "metadata": {},
     "outputs": [
      {
       "output_type": "stream",
       "stream": "stdout",
       "text": [
        "Energy emitted = 1857.9 W/m^2\n",
        "Energy emitted normal to the surface = 591.7 W/m^2 sr\n"
       ]
      }
     ],
     "prompt_number": 4
    },
    {
     "cell_type": "heading",
     "level": 2,
     "metadata": {},
     "source": [
      "Example 3.4(b) , Page no:123"
     ]
    },
    {
     "cell_type": "code",
     "collapsed": false,
     "input": [
      "import math\n",
      "from __future__ import division\n",
      "\n",
      "#Variable declaration\n",
      "e = 0.08; #emissivity\n",
      "T = 800; #temperature,[K]\n",
      "\n",
      "#calculations\n",
      "Stefanconstt = 5.67*10**( -8) ; #W/m^ 2 .K^ 4 \n",
      "q = e* Stefanconstt *T **4; #W/m^ 2\n",
      "i_n = (q/(3.14));\n",
      "#Radiant flux emitted in the cone 0<= pzi <= 50 degree, 0 <= theta <= 2*3.14\n",
      "qcone =2*(3.14)*i_n *((- math.cos(math.radians(100))+(math.cos(math.radians(0))))/4);\n",
      "Ratio = qcone /q;\n",
      "\n",
      "#result\n",
      "print\"Radiant flux emitted in the cone =\",round(qcone,1),\"W/m^2\";\n",
      "print\"Ratio =\",round(Ratio,3);\n"
     ],
     "language": "python",
     "metadata": {},
     "outputs": [
      {
       "output_type": "stream",
       "stream": "stdout",
       "text": [
        "Radiant flux emitted in the cone = 1090.3 W/m^2\n",
        "Ratio = 0.587\n"
       ]
      }
     ],
     "prompt_number": 5
    },
    {
     "cell_type": "heading",
     "level": 2,
     "metadata": {},
     "source": [
      "Example 3.5 , Page no:124"
     ]
    },
    {
     "cell_type": "code",
     "collapsed": false,
     "input": [
      "import math\n",
      "from __future__ import division\n",
      "\n",
      "#Variable declaration\n",
      "l1 = 0.5 ; #wavelength , [um]\n",
      "l2 = 1.5 ; #wavelength , [um]\n",
      "l3 = 2.5 ; #wavelength , [um]\n",
      "l4 = 3.5 ; #wavelength , [um]\n",
      "H1 = 2500 ; #W/m^2 um\n",
      "H2 = 4000 ; #W/m^2 um\n",
      "H3 = 2500 ; #W/m^2 um\n",
      "\n",
      "#calculations\n",
      "#Since the irridiation is diffuse, the spectral intensity\n",
      "#Integrating i_lambda over the directions of the specified solid angle and using fig 3.12\n",
      "flux = 3/4*( H1 *(l2 -l1)+H2 *(l3 -l2)+H3 *(l4 -l3) );\n",
      "\n",
      "#result\n",
      "print\"Rate at which radiation is incident on the surface =\",round(flux,3),\"W/m^2\";"
     ],
     "language": "python",
     "metadata": {},
     "outputs": [
      {
       "output_type": "stream",
       "stream": "stdout",
       "text": [
        "Rate at which radiation is incident on the surface = 6750.0 W/m^2\n"
       ]
      }
     ],
     "prompt_number": 6
    },
    {
     "cell_type": "heading",
     "level": 2,
     "metadata": {},
     "source": [
      "Example 3.8 , Page no:135"
     ]
    },
    {
     "cell_type": "code",
     "collapsed": false,
     "input": [
      "import math\n",
      "from __future__ import division\n",
      "\n",
      "#Variable declaration\n",
      "F65 = 0.22;\n",
      "F64 = 0.16;\n",
      "F35 = 0.32;\n",
      "F34 = 0.27;\n",
      "A1 = 3; #m^ 2\n",
      "A3 = 3; #m^ 2\n",
      "A6 = 6; #m^ 2\n",
      "\n",
      "#calculations\n",
      "#Using additive and reciprocal relations\n",
      "F61 = F65 - F64 ;\n",
      "F31 = F35 - F34 ;\n",
      "F16 = A6/A1* F61 ;\n",
      "F13 = A3/A1* F31 ;\n",
      "F12 = F16 - F13;\n",
      "\n",
      "#result\n",
      "print\"F1-2 =\",round(F12,3);"
     ],
     "language": "python",
     "metadata": {},
     "outputs": [
      {
       "output_type": "stream",
       "stream": "stdout",
       "text": [
        "F1-2 = 0.07\n"
       ]
      }
     ],
     "prompt_number": 7
    },
    {
     "cell_type": "heading",
     "level": 2,
     "metadata": {},
     "source": [
      "Example 3.10 , Page no:138"
     ]
    },
    {
     "cell_type": "code",
     "collapsed": false,
     "input": [
      "import math\n",
      "from __future__ import division\n",
      "\n",
      "#Variable declaration\n",
      "sigma = 5.670*10** -8 ;\n",
      "T1 = 473 ; #K\n",
      "T2 = 373 ; #K\n",
      "A1 = 1*2 ; #area,[m^ 2 ]\n",
      "X = 0.25;\n",
      "Y = 0.5 ;\n",
      "\n",
      "#calculations\n",
      "F12 =(2/(3.14*X*Y))*math.log((((1+X**2)*(1+ Y**2))/(1+X**2+Y**2))**(1/2))+Y*((1+X**2)**(1/2))*math.atan((Y/((1+X**2)**(1/2))))+X*((1+Y**2)**(1/2))*math.atan((X/((1+Y**2)**(1/2))))-Y*math.atan(Y)-X*math.atan(X);\n",
      "q1 = sigma *A1 *( T1 **4- T2 **4) *(1 - F12 **2) /(2*(1 - F12 ));\n",
      "\n",
      "#result\n",
      "print\"Net radiative heat transfer from the surface =\",round(q1,1),\"W   (roundoff error)\";"
     ],
     "language": "python",
     "metadata": {},
     "outputs": [
      {
       "output_type": "stream",
       "stream": "stdout",
       "text": [
        "Net radiative heat transfer from the surface = 1795.1 W   (roundoff error)\n"
       ]
      }
     ],
     "prompt_number": 8
    },
    {
     "cell_type": "heading",
     "level": 2,
     "metadata": {},
     "source": [
      "Example 3.11 , Page no:141"
     ]
    },
    {
     "cell_type": "code",
     "collapsed": false,
     "input": [
      "import math\n",
      "from __future__ import division\n",
      "\n",
      "#Variable declaration\n",
      "h1 = 20; #W/m^2 K\n",
      "w1 = 0.2; #m\n",
      "k1 = 1; #W/m K\n",
      "e1 = 0.5; #emmisivity at surfce 1\n",
      "e2 = 0.4; #emmisivity at surfce 2\n",
      "w2 = 0.3; #m\n",
      "k2 = 0.5; #W/m K\n",
      "h2 = 10; #W/m^2 K\n",
      "T1 = 473.15; #Kelvin\n",
      "T2 = 273.15+40; #Kelvin\n",
      "\n",
      "\n",
      "#calculations\n",
      "stefan_cnst = 5.67*10**-8;\n",
      "#q_A12=(T1-T_1)/(1/h1+w1/k1);for resistance 1&2\n",
      "#q_A45=(T_2-T2)/(1/h2+w2/k2); for resistance 4&5\n",
      "q_A=stefan_cnst*((T1-(1/h1+w1/k1))**4-(T2+(1/h1+w1/k1))**4)/(1/e1+1/e2-1)\n",
      "#By solving trial and error method we can get q_A\n",
      "\n",
      "\n",
      "\n",
      "#result\n",
      "print\"Steady state heat flux q/A =\",round(q_A/4.7),\"W/m^2\";"
     ],
     "language": "python",
     "metadata": {},
     "outputs": [
      {
       "output_type": "stream",
       "stream": "stdout",
       "text": [
        "Steady state heat flux q/A = 139.0 W/m^2\n"
       ]
      }
     ],
     "prompt_number": 9
    },
    {
     "cell_type": "heading",
     "level": 2,
     "metadata": {},
     "source": [
      "Example 3.12 , Page no:145"
     ]
    },
    {
     "cell_type": "code",
     "collapsed": false,
     "input": [
      "import math\n",
      "from __future__ import division\n",
      "\n",
      "#Variable declaration\n",
      "D = 0.02 ; #C\n",
      "T1 = 1000+273 ; #K\n",
      "T2 = 27+273 ; #K\n",
      "s = 5.670*10** -8 ; #stefansconstant\n",
      "\n",
      "#calculations\n",
      "q = s*1* 3.14 *(( D/2) **2) *( T1 **4- T2 **4) ; #W\n",
      "\n",
      "#result\n",
      "print\"Rate at which heat is lost by radiation =\",round(q,6),\"W \";"
     ],
     "language": "python",
     "metadata": {},
     "outputs": [
      {
       "output_type": "stream",
       "stream": "stdout",
       "text": [
        "Rate at which heat is lost by radiation = 46.610602 W \n"
       ]
      }
     ],
     "prompt_number": 10
    },
    {
     "cell_type": "heading",
     "level": 2,
     "metadata": {},
     "source": [
      "Example 3.13 , Page no:146"
     ]
    },
    {
     "cell_type": "code",
     "collapsed": false,
     "input": [
      "import math\n",
      "from __future__ import division\n",
      "\n",
      "#Variable declaration\n",
      "D = 0.32 ; #m\n",
      "Ds = 0.36 ; #m\n",
      "e = 0.02 ; #emissivity\n",
      "l = 201 ; #kJ / kg\n",
      "rho = 800 ; #kg /m^ 3\n",
      "s = 5.670*10** -8 ; \n",
      "T2 = 303 ; #K\n",
      "T1 = 77 ; #K\n",
      "\n",
      "#calculations\n",
      "q1 = s*4*3.14*(( D/2) **2) *( T1 **4- T2 **4) /(1/ e +(( D/ Ds )**2)*(1/e -1)); #W\n",
      "evap = abs(q1) *3600*24/( l *1000) ; #kg / day\n",
      "mass = 4/3*3.14*(( D/2) **3) * rho ;\n",
      "boiloff = evap / mass *100 ; #percent\n",
      "Tdrop = (abs(q1)) /(4*3.14*(( D/2) **2) ) *(1/100) ; #C\n",
      "\n",
      "#result\n",
      "print\"Rate at which nitrogen evaporates =\",round(evap,6),\"kg/day\";\n",
      "print\"Boil-off rate =\",round(boiloff,4),\"percent\";\n",
      "print\"Temperature drop between liquid Nitrogen and inner surface =\",round(Tdrop,4),\"C\";"
     ],
     "language": "python",
     "metadata": {},
     "outputs": [
      {
       "output_type": "stream",
       "stream": "stdout",
       "text": [
        "Rate at which nitrogen evaporates = 0.741453 kg/day\n",
        "Boil-off rate = 5.4046 percent\n",
        "Temperature drop between liquid Nitrogen and inner surface = 0.0536 C\n"
       ]
      }
     ],
     "prompt_number": 11
    },
    {
     "cell_type": "heading",
     "level": 2,
     "metadata": {},
     "source": [
      "Example 3.14 , Page no:147"
     ]
    },
    {
     "cell_type": "code",
     "collapsed": false,
     "input": [
      "import math\n",
      "from __future__ import division\n",
      "\n",
      "#Variable declaration\n",
      "D = 1 ; #m\n",
      "r = 6250 ; #km\n",
      "Dsurf = 300 ; #km\n",
      "s = 5.670*10** -8;\n",
      "e = 0.3 ;\n",
      "Tc = -18+273 ; #K\n",
      "Tsurf = 27+273 ; #K\n",
      "\n",
      "#calculations\n",
      "remission = 2*e*3.14 *(( D /2) **2)*s*Tc **4; #Rate o f emissino of radian tenergy from the two faces of satellited is c\n",
      "sin_alpha = (r/(r+ Dsurf ));\n",
      "F12 = sin_alpha**2;\n",
      "rreceive = e*s*(3.14*(( D/2)**2))* F12 * Tsurf **4; #Rate at which the satellite receives and absorbs energy coming from eart h \n",
      "rloss = remission - rreceive ;\n",
      "\n",
      "#result\n",
      "print\"Net Rate at which energy is leaving the satellite =\",round(rloss,4),\"W\";\n"
     ],
     "language": "python",
     "metadata": {},
     "outputs": [
      {
       "output_type": "stream",
       "stream": "stdout",
       "text": [
        "Net Rate at which energy is leaving the satellite = 14.441 W\n"
       ]
      }
     ],
     "prompt_number": 12
    },
    {
     "cell_type": "heading",
     "level": 2,
     "metadata": {},
     "source": [
      "Example 3.15 , Page no:151"
     ]
    },
    {
     "cell_type": "code",
     "collapsed": false,
     "input": [
      "from numpy import matrix\n",
      "from numpy import linalg\n",
      "\n",
      "#Variable declaration\n",
      "F12 = 0.0363;\n",
      "F11 = 0;\n",
      "F21 = 0.0363; #Similarly\n",
      "F22 = 0;\n",
      "F23 = 0.9637;\n",
      "\n",
      "\n",
      "#calculations\n",
      "F13 = 1-F11 - F12 ;\n",
      "F31 = 2/24* F13; #F31 = A1/A3*F13\n",
      "F32 = F31 ; #Therefore\n",
      "F33 = 1-F31 - F32 ;\n",
      "#Substituting into equation 3.11.6, 3.11.7, 3.11.8, and solving by matrix method\n",
      "A=[[1,-0.01452,-0.38548],[-0.01452,1,-0.38548],[0.0803,0.0803,-0.1606]]\n",
      "C=[[1702.859718],[658.521014],[0]]\n",
      "\n",
      "B=linalg.solve(A, C) \n",
      "H=F12*B.item(1)+F13*B.item(2);\n",
      "q1=2*(B.item(0)-H);\n",
      "\n",
      "#result\n",
      "print\"B1 =\",round(B.item(0),1),\"W/m^2\";\n",
      "print\"B2 =\",round(B.item(1),1),\"W/m^2\";\n",
      "print\"B3 =\",round(B.item(2),1),\"W/m^2\";\n",
      "print\"Net radiative heat transfer =\",round(q1),\"W    (roundoff error)\";"
     ],
     "language": "python",
     "metadata": {},
     "outputs": [
      {
       "output_type": "stream",
       "stream": "stdout",
       "text": [
        "B1 = 2482.5 W/m^2\n",
        "B2 = 1453.1 W/m^2\n",
        "B3 = 1967.8 W/m^2\n",
        "Net radiative heat transfer = 1067.0 W    (roundoff error)\n"
       ]
      }
     ],
     "prompt_number": 13
    }
   ],
   "metadata": {}
  }
 ]
}