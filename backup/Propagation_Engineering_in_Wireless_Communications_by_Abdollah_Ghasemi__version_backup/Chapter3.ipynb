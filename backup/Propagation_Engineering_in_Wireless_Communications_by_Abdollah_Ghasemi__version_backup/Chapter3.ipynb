{
 "metadata": {
  "name": "",
  "signature": "sha256:2889947ecf1bb93d75d23a9b033bb461f9ca25a6919259a4e295df30c37ddd8c"
 },
 "nbformat": 3,
 "nbformat_minor": 0,
 "worksheets": [
  {
   "cells": [
    {
     "cell_type": "heading",
     "level": 1,
     "metadata": {},
     "source": [
      "Chapter 3: Radiowave Propagation in Troposphere"
     ]
    },
    {
     "cell_type": "heading",
     "level": 2,
     "metadata": {},
     "source": [
      "Example 3.1, page 61"
     ]
    },
    {
     "cell_type": "code",
     "collapsed": false,
     "input": [
      "#Initialisation\n",
      "h=2                             #height in Km\n",
      "h1=5                            #height in Km\n",
      "\n",
      "\n",
      "#Calculation\n",
      "t2=290-(6.5*h)                         #Proposed formula for height h=2Km\n",
      "p2=950-117*h\n",
      "e2=8-3*h\n",
      "t21=294.98-5.22*h-0.007*h**2\n",
      "p21=1012.82-111.56*h+3.86*h**2\n",
      "p=14.35*2.72**(-0.42*h-0.02*h*h+0.001*h**3)\n",
      "\n",
      "t5=290-6.5*h1                        #Proposed formula for height h=5Km\n",
      "p5=950-117*h1\n",
      "e5=8-3*h1\n",
      "t51=294.98-5.22*h1-0.007*h1**2\n",
      "p51=1012.82-111.56*h1+3.86*h1**2\n",
      "p1=14.35*2.72**(-0.42*h1-0.02*h1**2+0.001*h1**3)\n",
      "\n",
      "\n",
      "#Results\n",
      "print'T(2) = %.1f K'%t21\n",
      "print'P(2) = %.2f hpa'%p21\n",
      "print'p(2) = %.2f hpa\\n'%p\n",
      "print'T(5) = %.1f K'%t51\n",
      "print'P(5) = %.2f hpa'%p51\n",
      "print'p(5) = %.2f hpa'%p1"
     ],
     "language": "python",
     "metadata": {},
     "outputs": [
      {
       "output_type": "stream",
       "stream": "stdout",
       "text": [
        "T(2) = 284.5 K\n",
        "P(2) = 805.14 hpa\n",
        "p(2) = 5.76 hpa\n",
        "\n",
        "T(5) = 268.7 K\n",
        "P(5) = 551.52 hpa\n",
        "p(5) = 1.21 hpa\n"
       ]
      }
     ],
     "prompt_number": 1
    },
    {
     "cell_type": "heading",
     "level": 2,
     "metadata": {},
     "source": [
      "Example 3.2, page 63"
     ]
    },
    {
     "cell_type": "code",
     "collapsed": false,
     "input": [
      "#Initialisation\n",
      "h=2                                 #Height in Km\n",
      "T=277                               #Tempreture in Kelvin\n",
      "p=716\n",
      "e=2\n",
      "        \n",
      "\n",
      "#Calculation\n",
      "er=1+(151.1/T)*(p+(4810*h/T))*10**-6      \n",
      "n=er**(0.515)                         #refractive index of the air\n",
      "N=(n-1)*10**6                       #refractivity number\n",
      " \n",
      "\n",
      "#Results\n",
      "print'n = %.5f'%n\n",
      "print'N = %d'%N"
     ],
     "language": "python",
     "metadata": {},
     "outputs": [
      {
       "output_type": "stream",
       "stream": "stdout",
       "text": [
        "n = 1.00021\n",
        "N = 210\n"
       ]
      }
     ],
     "prompt_number": 23
    },
    {
     "cell_type": "heading",
     "level": 2,
     "metadata": {},
     "source": [
      "Example 3.3, page 67"
     ]
    },
    {
     "cell_type": "code",
     "collapsed": false,
     "input": [
      "#Initialisation\n",
      "er=1.001                                   #relative permittivity of a medium\n",
      "dn=35*10**-6                               #vertical gradient of refractive index\n",
      "Re=6370                                    #actual redius of earth\n",
      "d=20                                       #transmitter and receiver distance in Km\n",
      "d1=5\n",
      "d2=15\n",
      "K1=1.3333                                  #standard atmosphere condition\n",
      "\n",
      "#Calculation\n",
      "R=(er**0.5)/dn\n",
      "K=R/(R-Re)\n",
      "hm=(125*d**2)/(K*Re)                        #Earth bulge value in the middle of the path\n",
      "h1=(500*d1*d2)/(K*Re)                       #h1\n",
      "h2=(500*d1*d2)/(K1*Re)                      #h2\n",
      "\n",
      "\n",
      "#Results\n",
      "print'Bulge value  = %.1f m'%hm\n",
      "print'Bulge value, h1  = %.2f m'%h1\n",
      "print'Bulge value, h2  = %.2f m'%h2"
     ],
     "language": "python",
     "metadata": {},
     "outputs": [
      {
       "output_type": "stream",
       "stream": "stdout",
       "text": [
        "Bulge value  = 6.1 m\n",
        "Bulge value, h1  = 4.58 m\n",
        "Bulge value, h2  = 4.42 m\n"
       ]
      }
     ],
     "prompt_number": 30
    },
    {
     "cell_type": "heading",
     "level": 2,
     "metadata": {},
     "source": [
      "Example 3.4, page 68"
     ]
    },
    {
     "cell_type": "code",
     "collapsed": false,
     "input": [
      "#Initialisation\n",
      "K=1.33\n",
      "d1=24                                     #heigth in Km\n",
      "d2=15                                      #heigth in Km\n",
      "K1=1\n",
      "Re=6370                                    #actual redius of earth\n",
      "\n",
      "#Calculation\n",
      "R=4.12*(d1**0.5+d2**0.5)\n",
      "R1=K1*Re\n",
      "Rrh=(2*R1*d1)**0.5+(2*R1*d2)**0.5\n",
      "\n",
      "#Results\n",
      "print'K=1.33'\n",
      "print'Rrh = %.1f km\\n'%R\n",
      "print'K=1'\n",
      "print'Rrh = %.1f km'%Rrh                     #wrong answer in textbook"
     ],
     "language": "python",
     "metadata": {},
     "outputs": [
      {
       "output_type": "stream",
       "stream": "stdout",
       "text": [
        "K=1.33\n",
        "Rrh = 36.1 km\n",
        "\n",
        "K=1\n",
        "Rrh = 990.1 km\n"
       ]
      }
     ],
     "prompt_number": 35
    },
    {
     "cell_type": "heading",
     "level": 2,
     "metadata": {},
     "source": [
      "Example 3.5, page 74"
     ]
    },
    {
     "cell_type": "code",
     "collapsed": false,
     "input": [
      "import math\n",
      "#Initialisation\n",
      "No=1                                          #index of refraction\n",
      "N1=1.3*10**-7\n",
      "h=20                                          #height\n",
      "\n",
      "#Calculation\n",
      "wc=math.asin(((4*No)/((4*No)+((h**2)*N1))))     #critical angle\n",
      "\n",
      "\n",
      "#Results\n",
      "print'Critical angle = %f'%wc                    #ans is not written in textbook\n"
     ],
     "language": "python",
     "metadata": {},
     "outputs": [
      {
       "output_type": "stream",
       "stream": "stdout",
       "text": [
        "Critical angle = 1.565697\n"
       ]
      }
     ],
     "prompt_number": 16
    },
    {
     "cell_type": "heading",
     "level": 2,
     "metadata": {},
     "source": [
      "Example 3.6, page 76"
     ]
    },
    {
     "cell_type": "code",
     "collapsed": false,
     "input": [
      "import math\n",
      "\n",
      "#Initialisation\n",
      "dn=-0.2                               #air refractivity gradient\n",
      "d=20                                  #height\n",
      "b=0.074                               #elevation angle from graph 3.10\n",
      "f=7                                   #frequency in Ghz from graph 3.11\n",
      "c=2*10**-6\n",
      "\n",
      "#Calculation\n",
      "t=0.156                                #1000/6370\n",
      "dm=dn+t\n",
      "a=(-c*dm*d)**0.5                      #elevation angle of waves\n",
      "\n",
      "#Results\n",
      "print'Elevation angle of waves = %.2f mrad'%(a*10**3)\n",
      "print'Elevation angle = %.3f'%b                                    #from graph 3.10\n",
      "print'Minimum frequency of coupling waves into the duct = %d Ghz'%f     #from graph 3.11"
     ],
     "language": "python",
     "metadata": {},
     "outputs": [
      {
       "output_type": "stream",
       "stream": "stdout",
       "text": [
        "Elevation angle of waves = 1.33 mrad\n",
        "Elevation angle = 0.074\n",
        "Minimum frequency of coupling waves into the duct = 7 Ghz\n"
       ]
      }
     ],
     "prompt_number": 18
    },
    {
     "cell_type": "heading",
     "level": 2,
     "metadata": {},
     "source": [
      "Example 3.7, page 80"
     ]
    },
    {
     "cell_type": "code",
     "collapsed": false,
     "input": [
      "import math\n",
      "\n",
      "#Initialisation\n",
      "f=18                                #frequency in GHz\n",
      "d=30                                #in km\n",
      "R=25                                #rainfall intensity in mm\n",
      "\n",
      "#Using Table 3.3\n",
      "av15=1.128\n",
      "av20=1.065\n",
      "av18=1.09\n",
      "kv15=0.0335\n",
      "kv20=0.0691\n",
      "kv18=0.0587\n",
      "\n",
      "#Calculation\n",
      "yr=kv18*R**av18                        #rain specific attenuation\n",
      "de=(90*(90+d)**-1)*d\n",
      "A=de*yr                                #Maximum rain attenuation\n",
      " \n",
      "#Results\n",
      "print'(1) Rain specific attenuation = %.2f dB/km'%yr\n",
      "print'(2) Maximum rain attenuation = %.1f dB'%A\n"
     ],
     "language": "python",
     "metadata": {},
     "outputs": [
      {
       "output_type": "stream",
       "stream": "stdout",
       "text": [
        "(1) Rain specific attenuation = 1.96 dB/km\n",
        "(2) Maximum rain attenuation = 44.1 dB\n"
       ]
      }
     ],
     "prompt_number": 7
    },
    {
     "cell_type": "heading",
     "level": 2,
     "metadata": {},
     "source": [
      "Example 3.9, page 89"
     ]
    },
    {
     "cell_type": "code",
     "collapsed": false,
     "input": [
      "import math\n",
      "\n",
      "#Initialisation\n",
      "rh=-1\n",
      "s=4                                    #sigma in S/m\n",
      "f=5*10**9                              #frequency in Hz\n",
      "eo=8.85*10**-12                        #permitivity of free space\n",
      "er=75                                  #permitivity of medium\n",
      "w1=30*3.14*180**-1                     #in radians\n",
      "\n",
      "#Calculation\n",
      "w=2*math.pi*f\n",
      "x=s*(w*eo)**-1\n",
      "a=math.sin(w1)-math.sqrt((er-x)-math.cos(w1)**2)\n",
      "a1=math.sin(w1)+math.sqrt((er-x)-math.cos(w1)**2)\n",
      "rh1=a/a1\n",
      "b1=(er-x)*math.sin(w1)-math.sqrt((er-x)-math.cos(w1)**2)\n",
      "b2=(er-x)*math.sin(w1)+math.sqrt((er-x)-math.cos(w1)**2)\n",
      "rv=-b1/b2\n",
      "\n",
      "\n",
      "#Results\n",
      "print'(2) X = %.1f'%x\n",
      "print'(3) Rh = %.3f'%rh1\n",
      "print'    Rv = %.1f'%rv\n"
     ],
     "language": "python",
     "metadata": {},
     "outputs": [
      {
       "output_type": "stream",
       "stream": "stdout",
       "text": [
        "(2) X = 14.4\n",
        "(3) Rh = -0.879\n",
        "    Rv = -0.6\n"
       ]
      }
     ],
     "prompt_number": 11
    },
    {
     "cell_type": "heading",
     "level": 2,
     "metadata": {},
     "source": [
      "Example 3.10, page 92"
     ]
    },
    {
     "cell_type": "code",
     "collapsed": false,
     "input": [
      "import math\n",
      "\n",
      "#Initialisation\n",
      "f=5*10**9                                                         #frequency in Hz\n",
      "c=3*10**8                                                         #speed of light\n",
      "h1=6                                                              #in metre\n",
      "h2=2                                                              #in metre\n",
      "\n",
      "#Calculation\n",
      "h=c*f**-1                                                       #wavelength \n",
      "w=math.atan(h1*2250**-1)                                        #grazing angle in radian\n",
      "w1=w*180*math.pi**-1                                        #grazing angle in degree\n",
      "a=((2*math.pi*h1*h2)*(h*300)**-1)*3.14*180**-1\n",
      "e=math.sin(a) \n",
      "F=e*2*180*math.pi**-1                                              #PGF value (wrong calculated in textbook)\n",
      "LR=20*math.log10(F)                                              #Decrease in received signal level\n",
      "\n",
      "\n",
      "#Results\n",
      "print'(1) Grazing angle = %.2f degree'%w1\n",
      "print'(2) PGF value = %f'%F                                              #wrong value calculated in textbook\n",
      "print'(3) Decrease in received signal level = %.2f dB'%LR                #wrong value calculated in textbook\n"
     ],
     "language": "python",
     "metadata": {},
     "outputs": [
      {
       "output_type": "stream",
       "stream": "stdout",
       "text": [
        "(1) Grazing angle = 0.15 degree\n",
        "(2) PGF value = 8.365884\n",
        "(3) Decrease in received signal level = 18.45 dB\n"
       ]
      }
     ],
     "prompt_number": 26
    },
    {
     "cell_type": "heading",
     "level": 2,
     "metadata": {},
     "source": [
      "Example 3.11, page 98"
     ]
    },
    {
     "cell_type": "code",
     "collapsed": false,
     "input": [
      "\n",
      "#Initialisation\n",
      "h=12.5*10**-2           #in meter\n",
      "d1=10*10**3             #in meter\n",
      "d2=15*10**3              #in meter\n",
      "d3=12.5*10**3            #in meter\n",
      "d4=12.5*10**3               #in meter\n",
      "h=1.25                    #in Kilometer\n",
      "\n",
      "#Calculation\n",
      "r1=(((d1*d2)/(d1+d2))*h)**0.5        #radius of first and fourth Fresnel zones\n",
      "r4=r1*(4)**0.5\n",
      "R1=(((d3*d4)/(d3+d4))*h)**0.5        #radius of first and fourth ellipse zones\n",
      "R4=R1*(4)**0.5\n",
      "\n",
      "#Results\n",
      "print'Radius of first fresnel zones, r1 = %.2f m'%r1\n",
      "print'Radius of Second fresnel zones, r4= %.2f m'%r4\n",
      "print'h = %.2f x 10^-4 Km'%h\n",
      "print'Radius of first ellipse, R1 = %.2f m'%R1\n",
      "print'Radius of second ellipse, R4 = %.1f m'%R4"
     ],
     "language": "python",
     "metadata": {},
     "outputs": [
      {
       "output_type": "stream",
       "stream": "stdout",
       "text": [
        "Radius of first fresnel zones, r1 = 86.60 m\n",
        "Radius of Second fresnel zones, r4= 173.21 m\n",
        "h = 1.25 x 10^-4 Km\n",
        "Radius of first ellipse, R1 = 88.39 m\n",
        "Radius of second ellipse, R4 = 176.8 m\n"
       ]
      }
     ],
     "prompt_number": 14
    },
    {
     "cell_type": "heading",
     "level": 2,
     "metadata": {},
     "source": [
      "Example 3.12, page 105"
     ]
    },
    {
     "cell_type": "code",
     "collapsed": false,
     "input": [
      "import math\n",
      "%matplotlib inline\n",
      "import matplotlib\n",
      "import numpy as np\n",
      "import matplotlib.pyplot as plt\n",
      "\n",
      "#Initialisation\n",
      "L=13200                                       #L parameter in m\n",
      "H=10240                                       #H parameter \n",
      "Re=6370000                                    #actual redius of earth\n",
      "ht=30                                         #height in m\n",
      "hr=20                                         #height in m\n",
      "re1=8453000                                    # in metre\n",
      "h1=30000                                     # in metre                        \n",
      "h2=20000                                    # in metre\n",
      "dt1=22.5\n",
      "f=10*10**9                                  #frequency in Hz\n",
      "c=3*10**8                                   #speed of light\n",
      "d=30000                                     #distance in m\n",
      "pt=30                                       #transmitter antenna power\n",
      "gt=40                                       #transmitter antenna gain\n",
      "gr=40                                       #receiver antenna gain                                    \n",
      "F3=-3\n",
      "H=-34\n",
      "D=0.75\n",
      "\n",
      "#Calculation\n",
      "dt=math.sqrt(2*re1*ht)\n",
      "X=3*dt*L**-1\n",
      "Z1=h1*H**-1\n",
      "Z2=h2*H**-1\n",
      "vx=10**-3.5                              #from fig 3.26\n",
      "z1=10**0.95                              #from fig 3.27\n",
      "z2=10**0.65                              #from fig 3.27\n",
      "\n",
      "#for d=3dt\n",
      "lv=20*math.log10(vx)\n",
      "lz1=20*math.log10(z1)\n",
      "lz2=20*math.log10(z2)\n",
      "F=(lv+lz1+lz2)*20**-1\n",
      "F1=10**(F)\n",
      "F11=20*math.log10(F1)\n",
      "X1=2*dt*L**-1\n",
      "d3=3\n",
      "f3=-F11\n",
      "\n",
      "vx1=10**-2.35                             #from fig 3.26\n",
      "lv1=20*math.log10(vx1)\n",
      "\n",
      "#for d=2dt\n",
      "F4=1+D\n",
      "F5=20*math.log10(F4)\n",
      "d2=2\n",
      "f2=-F5\n",
      "\n",
      "\n",
      "#for d=1.1dt\n",
      "F6=math.sqrt(1+D**2)\n",
      "F7=20*math.log10(F6)\n",
      "d11=1.1\n",
      "f11=-F7\n",
      "\n",
      "#for d=dt\n",
      "d1=1\n",
      "f1=0.2\n",
      "\n",
      "#for plotting graph in terms of points\n",
      "\n",
      "for N in range(0,4,1):\n",
      "    a=plot(1,0.2,'-o')\n",
      "    a1=plot(1.1,-1.9,'-o')\n",
      "    a2=plot(2,-4.8,'-o')\n",
      "    a3=plot(3,-38,'-o')\n",
      "    \n",
      "plt.annotate('d/dt',xy=(1,2),xytext=(1, 2))\n",
      "plt.annotate('1.1d/dt',xy=(1.2,0.7),xytext=(1.2, 0.7))\n",
      "plt.annotate('2d/dt',xy=(2,-0.7),xytext=(2, -0.7))\n",
      "plt.annotate('3d/dt',xy=(3,-35),xytext=(3, -35))\n",
      "xlabel(\"$d/dt$\")\n",
      "ylabel(\"$20 log(F)$ (dB)\")\n",
      "title(\"Path gain F\")\n",
      "grid()\n",
      "show(a)\n",
      "show(a1)\n",
      "show(a2)\n",
      "show(a3)\n",
      "   \n",
      "h=c*f**-1                                                                       #wavelength\n",
      "Pr=pt+gt+gr+H+F3-10*math.log10(4*math.pi*d**2)                                  #Received signal power\n",
      "\n",
      "\n",
      "#Results\n",
      "print'(1) Effective receiver path gain F = %.4f'%F11\n",
      "print'(2) Path gain F plot is shown'\n",
      "print'(3) Received signal power Pr = %.1f dBm'%Pr\n"
     ],
     "language": "python",
     "metadata": {},
     "outputs": [
      {
       "metadata": {},
       "output_type": "display_data",
       "png": "[encoded data removed]",
       "text": [
        "<matplotlib.figure.Figure at 0x7f10dda53110>"
       ]
      },
      {
       "output_type": "stream",
       "stream": "stdout",
       "text": [
        "(1) Effective receiver path gain F = -38.0000\n",
        "(2) Path gain F plot is shown\n",
        "(3) Received signal power Pr = -27.5 dBm\n"
       ]
      }
     ],
     "prompt_number": 93
    },
    {
     "cell_type": "heading",
     "level": 2,
     "metadata": {},
     "source": [
      "Example 3.13, page 109"
     ]
    },
    {
     "cell_type": "code",
     "collapsed": false,
     "input": [
      "import math\n",
      "\n",
      "\n",
      "#Initialisation\n",
      "eirp=800                                    #in KW\n",
      "d=24                                        #in Km\n",
      "a=0.03                                      #in radian\n",
      "d1=22                                       #in Km\n",
      "d2=2                                        #in Km\n",
      "h=0.4*10**-3                                #wavelength in m\n",
      "Er=45                                       #in microvolt\n",
      "\n",
      "#Calculation\n",
      "E=104.8+10*math.log10(eirp)-20*math.log10(d)                #field intensity\n",
      "V=a*math.sqrt((2*d2*d1)/((d1+d2)*h))                      #knife edge obstacle attenuation\n",
      "Lke=23                                                    #from table 3.4\n",
      "er=10**(Er*20**-1)\n",
      "\n",
      "#Results\n",
      "print'(1) Electric field intensity = %.3f microV/m'%er\n",
      "\n"
     ],
     "language": "python",
     "metadata": {},
     "outputs": [
      {
       "output_type": "stream",
       "stream": "stdout",
       "text": [
        "(1) Electric field intensity = 177.828 microV/m\n"
       ]
      }
     ],
     "prompt_number": 41
    },
    {
     "cell_type": "heading",
     "level": 2,
     "metadata": {},
     "source": [
      "Example 3.14, page 115"
     ]
    },
    {
     "cell_type": "code",
     "collapsed": false,
     "input": [
      "#Initialisation\n",
      "f1=430                                    #upper frequency band\n",
      "f2=410                                    #lower frequency band\n",
      "d=80                                      #distance in meter\n",
      "\n",
      "#Calculation\n",
      "Yv=0.1                                     #Specific attenuation obtained from graph fig 3.34 \n",
      "Lv=Yv*d                                   #loss of forest trees\n",
      "Am=((f1+f2)/2)**0.5                        #maximum value for trees excess loss.\n",
      "\n",
      "#Results\n",
      "print'Specific attenuation index, Yv = %.1f dB/m'%Yv\n",
      "print'Loss of forest trees, Lv = %.1f dB'%Lv\n",
      "print'Maximum value for trees excess loss = %.1f dB'%Am"
     ],
     "language": "python",
     "metadata": {},
     "outputs": [
      {
       "output_type": "stream",
       "stream": "stdout",
       "text": [
        "Specific attenuation index, Yv = 0.1 dB/m\n",
        "Loss of forest trees, Lv = 8.0 dB\n",
        "Maximum value for trees excess loss = 20.5 dB\n"
       ]
      }
     ],
     "prompt_number": 6
    },
    {
     "cell_type": "heading",
     "level": 2,
     "metadata": {},
     "source": [
      "Example 3.15, page 118"
     ]
    },
    {
     "cell_type": "code",
     "collapsed": false,
     "input": [
      "#Initialisation\n",
      "d=40                                           #length in meter\n",
      "Am=2                                           #area in square meter\n",
      "f=10*10**9                                    #frequency in hertz\n",
      "\n",
      "#Calculation\n",
      "As=40                                      #using graph fig 3.36, As can be obtained \n",
      "As1=30                                     #using graph fig 3.37, As can be obtained\n",
      "\n",
      "#Results\n",
      "print'Loss in the summer for trees with leaves, As = %d dB'%As\n",
      "print'Loss in winter for trees without leaves, As = %d dB'%As1"
     ],
     "language": "python",
     "metadata": {},
     "outputs": [
      {
       "output_type": "stream",
       "stream": "stdout",
       "text": [
        "Loss in the summer for trees with leaves, As = 40 dB\n",
        "Loss in winter for trees without leaves, As = 30 dB\n"
       ]
      }
     ],
     "prompt_number": 3
    }
   ],
   "metadata": {}
  }
 ]
}