{
 "metadata": {
  "name": "",
  "signature": "sha256:f6b25265ec5908e2fd1cca31e32c84564874aefa67eae115ae60252b952f2e2d"
 },
 "nbformat": 3,
 "nbformat_minor": 0,
 "worksheets": [
  {
   "cells": [
    {
     "cell_type": "heading",
     "level": 1,
     "metadata": {},
     "source": [
      "Chapter 2 : Basic Principles in Radiowave Propagation"
     ]
    },
    {
     "cell_type": "heading",
     "level": 2,
     "metadata": {},
     "source": [
      "Example 2.1, page 25"
     ]
    },
    {
     "cell_type": "code",
     "collapsed": false,
     "input": [
      "import math\n",
      "\n",
      "#Initialisation\n",
      "sig=0.005                                #sigma\n",
      "ur=1                                     #relative permeability\n",
      "er=12                                    #relative permittivity\n",
      "eo=8.85*10**-12                          #permittivity of a free space\n",
      "f1=10*10**3                              #frequency of radio wave 1\n",
      "f2=10*10**9                              #frequency of radio wave 2\n",
      "\n",
      "#Calculation\n",
      "c1=sig/(2*math.pi*f1*eo*er)              #conductivity at f1\n",
      "c2=sig/(2*math.pi*f2*eo*er)              #conductivity at f2\n",
      "\n",
      "\n",
      "#Result\n",
      "print'conductivity at f1 = %.1f >> 1'%c1\n",
      "print'conductivity at f2 = %.1f x10^-4 >> 1'%(c2*10**4)"
     ],
     "language": "python",
     "metadata": {},
     "outputs": [
      {
       "output_type": "stream",
       "stream": "stdout",
       "text": [
        "conductivity at f1 = 749.3 >> 1\n",
        "conductivity at f2 = 7.5 x10^-4 >> 1\n"
       ]
      }
     ],
     "prompt_number": 5
    },
    {
     "cell_type": "heading",
     "level": 2,
     "metadata": {},
     "source": [
      "Example 2.2, page 26"
     ]
    },
    {
     "cell_type": "code",
     "collapsed": false,
     "input": [
      "#Initialisation\n",
      "c1=3*10**8                                    #speed of light in m/s\n",
      "f1=100*10**6                                  #frequency in hertz\n",
      "f2=1*10**9                                    #frequency in hertz\n",
      "\n",
      "#Calculation\n",
      "v1=c1/(9)                                   #velocity in m/s\n",
      "v2=c1                                       #velocity in m/s\n",
      "h1=v1*f1**-1                                #wavelength at f1, v1\n",
      "h2=v2*f1**-1                                #wavelength at f1, v2\n",
      "h3=v1*f2**-1                                #wavelength at f2, v1\n",
      "h4=v2*f2**-1                                #wavelength at f2, v2\n",
      "\n",
      "#Result\n",
      "print'Velocity,'\n",
      "print'V1 = %.2f x10^7 m/s'%(v1*10**-7)\n",
      "print'V2 = %.2f x10^8 m/s'%(v2*10**-8)\n",
      "print'\\nfor f1 = 100 MHz'\n",
      "print'lambda1 = %f m'%h1\n",
      "print'lambda2 = %d m'%h2\n",
      "print'\\nfor f2 = 1 GHz'\n",
      "print'lambda1 = %.2f cm'%(h3*10)\n",
      "print'lambda2 = %d cm'%(h4*10**2)"
     ],
     "language": "python",
     "metadata": {},
     "outputs": [
      {
       "output_type": "stream",
       "stream": "stdout",
       "text": [
        "Velocity,\n",
        "V1 = 3.33 x10^7 m/s\n",
        "V2 = 3.00 x10^8 m/s\n",
        "\n",
        "for f1 = 100 MHz\n",
        "lambda1 = 0.333333 m\n",
        "lambda2 = 3 m\n",
        "\n",
        "for f2 = 1 GHz\n",
        "lambda1 = 0.33 cm\n",
        "lambda2 = 30 cm\n"
       ]
      }
     ],
     "prompt_number": 40
    },
    {
     "cell_type": "heading",
     "level": 2,
     "metadata": {},
     "source": [
      "Example 2.3, page 37"
     ]
    },
    {
     "cell_type": "code",
     "collapsed": false,
     "input": [
      "import math\n",
      "import cmath\n",
      "\n",
      "#Initialisation\n",
      "s=0.08                                     #medium conductivit\n",
      "w=10**7                                    #angular velocity\n",
      "e=8.85*10**-7                              #permitivity if free space\n",
      "u=14                                       #medium permeability\n",
      "uo=4*3.14*10**-7                           #permeability of free space\n",
      "\n",
      "#Calculation\n",
      "f=w*(2*3.14)**-1                          #frequency\n",
      "a=math.sqrt(f*math.pi*s*uo)               #attenuation\n",
      "b=a                                       #phase\n",
      "d=complex(a,b)\n",
      "y=d                                       #propagation constants\n",
      "z=math.log10(0.5)/(-math.log10(math.exp(1))*2*a)   #Depth of the land\n",
      "\n",
      "#Result\n",
      "print'(1) Attenuation = %.1f Np/m'%a\n",
      "print'    Phase = %.1f Rad/m'%b\n",
      "print'    Propagation constant = %.1f'%y.real\n",
      "print'                           + %.1f j rad/m'%y.imag\n",
      "print'(2) Depth of land = %.2f m'%z"
     ],
     "language": "python",
     "metadata": {},
     "outputs": [
      {
       "output_type": "stream",
       "stream": "stdout",
       "text": [
        "(1) Attenuation = 0.7 Np/m\n",
        "    Phase = 0.7 Rad/m\n",
        "    Propagation constant = 0.7\n",
        "                           + 0.7 j rad/m\n",
        "(2) Depth of land = 0.49 m\n"
       ]
      }
     ],
     "prompt_number": 34
    },
    {
     "cell_type": "heading",
     "level": 2,
     "metadata": {},
     "source": [
      "Example 2.6, page 38"
     ]
    },
    {
     "cell_type": "code",
     "collapsed": false,
     "input": [
      "#Initialisation\n",
      "W=100*10**-12                         #power in watt\n",
      "no=120*math.pi\n",
      "\n",
      "#Calculation\n",
      "Em=math.sqrt(2*no*W)                   #effective value of E\n",
      "Ee=Em/math.sqrt(2)                     #effective value of E\n",
      "Hm=math.sqrt((2*10**-10)/(no))         #effective value of H\n",
      "He=Hm/math.sqrt(2)                     #effective value of H\n",
      "\n",
      "#Result\n",
      "print'Em = %.1f uV/m'%(Em*10**6)\n",
      "print'Ee = %.1f uV/m'%(Ee*10**6)\n",
      "print'Hm = %.3f uA/m'%(Hm*10**6)\n",
      "print'He = %.2f uA/m'%(He*10**6)"
     ],
     "language": "python",
     "metadata": {},
     "outputs": [
      {
       "output_type": "stream",
       "stream": "stdout",
       "text": [
        "Em = 274.6 uV/m\n",
        "Ee = 194.2 uV/m\n",
        "Hm = 0.728 uA/m\n",
        "He = 0.52 uA/m\n"
       ]
      }
     ],
     "prompt_number": 42
    },
    {
     "cell_type": "heading",
     "level": 2,
     "metadata": {},
     "source": [
      "Example 2.7, page 39"
     ]
    },
    {
     "cell_type": "code",
     "collapsed": false,
     "input": [
      "#Initialisation\n",
      "f=7.5                                   #frequency in GHz\n",
      "d=40                                    #link distance in Km\n",
      "Pt=30                                   #transmitter power in dBm\n",
      "La=15                                   #additional loss\n",
      "Pth=-78                                 #RX threshold\n",
      "\n",
      "#Calculation\n",
      "FSL=92.4+(20*math.log10(f*d))            #FSL\n",
      "RSL=Pt-(0.4*FSL)-La                      #RSL\n",
      "FM=RSL-Pth                               #fade margin\n",
      "\n",
      "#Result\n",
      "print'(1) Received signal level (RSL) = %.1f dBm'%RSL\n",
      "print'(2) Fade margin = %.1f dB'%FM\n"
     ],
     "language": "python",
     "metadata": {},
     "outputs": [
      {
       "output_type": "stream",
       "stream": "stdout",
       "text": [
        "(1) Received signal level (RSL) = -41.8 dBm\n",
        "(2) Fade margin = 36.2 dB\n"
       ]
      }
     ],
     "prompt_number": 43
    },
    {
     "cell_type": "heading",
     "level": 2,
     "metadata": {},
     "source": [
      "Example 2.8, page 45"
     ]
    },
    {
     "cell_type": "code",
     "collapsed": false,
     "input": [
      "#Initialisation\n",
      "Pt=10                                        #transmitter power in watt\n",
      "Gt=5                                         #antenna power in dBm\n",
      "Lt=2                                         #feeder loss in dB\n",
      "d=8000                                       #distance in meter\n",
      "no=120*math.pi\n",
      "\n",
      "#Calculation\n",
      "EIRP=Pt+Gt-Lt                                \n",
      "x=EIRP*10**-1                                \n",
      "EIRP2=10**x                                  #Equivalent isotropic radiated power\n",
      "Ed=math.sqrt(30*EIRP2)/d                     #Electric Field Intensity\n",
      "W=(Ed**2)/(2*no)                             #power in watt\n",
      "\n",
      "#Result\n",
      "print'EIRP = %.1f W'%EIRP2\n",
      "print'|Ed| = %.2f mV/m'%(Ed*10**3)\n",
      "print'W = %.1f nW/m^2'%(W*10**9)"
     ],
     "language": "python",
     "metadata": {},
     "outputs": [
      {
       "output_type": "stream",
       "stream": "stdout",
       "text": [
        "EIRP = 20.0 W\n",
        "|Ed| = 3.06 mV/m\n",
        "W = 12.4 nW/m^2\n"
       ]
      }
     ],
     "prompt_number": 44
    },
    {
     "cell_type": "heading",
     "level": 2,
     "metadata": {},
     "source": [
      "Example 2.9, page 47"
     ]
    },
    {
     "cell_type": "code",
     "collapsed": false,
     "input": [
      "#Initialisation\n",
      "FSL=128                              #FSL in dB\n",
      "Lb=135                               #Sum of FSL and medium loss Lm\n",
      "Lc=5\n",
      "Gt=30                                #transmitter gain in dB\n",
      "Gr=30                                #reciever gain in dB\n",
      "Pr=-60                               #received signal level\n",
      "\n",
      "#Calculation\n",
      "Lm=Lb-FSL                            #medium loss in dB\n",
      "Lm1=10**(Lm*10**-1)                  #medium loss\n",
      "Pt=Lc+Lb-Gt-Gr+Pr                    #power in dBm\n",
      "Pt1=10**(Pt*10**-1)                  #power in watt      \n",
      "\n",
      "#Result\n",
      "print'Medium Loss = %d'%Lm1\n",
      "print'Pt = %.1f mW'%(Pt1)"
     ],
     "language": "python",
     "metadata": {},
     "outputs": []
    },
    {
     "cell_type": "heading",
     "level": 2,
     "metadata": {},
     "source": [
      "Example 2.10, page 50"
     ]
    },
    {
     "cell_type": "code",
     "collapsed": false,
     "input": [
      "#Initialisation\n",
      "ri1=1.00025                         #refractive index\n",
      "ri2=1.00023                         #refractive index\n",
      "h1=1                                #height in Km\n",
      "h2=1.5                              #height in Km\n",
      "n=1.00026                           #variation\n",
      "\n",
      "\n",
      "#Calculation\n",
      "deln=ri1-ri2\n",
      "delh=h2-h1\n",
      "d=deln/delh\n",
      "R=n/d                              #radius of curvature\n",
      "\n",
      "\n",
      "#Result\n",
      "print'Radiowave curvature radius, R = %.d Km'%R"
     ],
     "language": "python",
     "metadata": {},
     "outputs": [
      {
       "output_type": "stream",
       "stream": "stdout",
       "text": [
        "Radiowave curvature radius, R = 25006 Km\n"
       ]
      }
     ],
     "prompt_number": 47
    },
    {
     "cell_type": "heading",
     "level": 2,
     "metadata": {},
     "source": [
      "Example 2.11, page 51"
     ]
    },
    {
     "cell_type": "code",
     "collapsed": false,
     "input": [
      "#Initialisation\n",
      "R=25000                                       #path curvature radius in Km\n",
      "Re=6370                                       #Earth radius in Km\n",
      "\n",
      "\n",
      "#Calculation\n",
      "K=R*(R-Re)**-1                               #K factor\n",
      "Re1=K*Re                                     #equivalent radii of the Earth\n",
      "R1=(1*Re1**-1)-(1*Re**-1)+(1*R**-1)\n",
      "d=1*R1**-1                                   #equivalent radii of the path\n",
      "\n",
      "\n",
      "#Result\n",
      "print'K = %.3f'%K\n",
      "print'Re1 = %d'%Re1\n",
      "print'R1 = %d'%d\n",
      "print'Therefore, R1 ~ infinity'"
     ],
     "language": "python",
     "metadata": {},
     "outputs": [
      {
       "output_type": "stream",
       "stream": "stdout",
       "text": [
        "K = 1.342\n",
        "Re1 = 8548\n",
        "R1 = 147573952589676412928\n",
        "Therefore, R1 ~ infinity\n"
       ]
      }
     ],
     "prompt_number": 48
    }
   ],
   "metadata": {}
  }
 ]
}