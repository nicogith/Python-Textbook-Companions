{
 "metadata": {
  "name": "",
  "signature": "sha256:15fa6e92d67920db2584677dc6c97feec6c8d014491d8cba470fcffb410d752b"
 },
 "nbformat": 3,
 "nbformat_minor": 0,
 "worksheets": [
  {
   "cells": [
    {
     "cell_type": "heading",
     "level": 1,
     "metadata": {},
     "source": [
      "Chapter 7: Line of Sight Propagation"
     ]
    },
    {
     "cell_type": "heading",
     "level": 2,
     "metadata": {},
     "source": [
      "Example 7.1, page 293"
     ]
    },
    {
     "cell_type": "code",
     "collapsed": false,
     "input": [
      "import math\n",
      "\n",
      "#Initialisation\n",
      "h=200                                #height in m\n",
      "d=30*10**3                           #distance in km\n",
      "R=40*10**-6                           #height in km\n",
      "\n",
      "\n",
      "#Calculation\n",
      "phi=math.atan(h*d**-1)               # in radian\n",
      "phi1=phi*180/math.pi                 # in degree\n",
      "n=math.cos(phi1)\n",
      "r=round(n)/R                         #radius\n",
      "\n",
      "#Results\n",
      "\n",
      "print'Radius = %.1f km'%r\n"
     ],
     "language": "python",
     "metadata": {},
     "outputs": [
      {
       "output_type": "stream",
       "stream": "stdout",
       "text": [
        "Radius = 25000.0 km\n"
       ]
      }
     ],
     "prompt_number": 10
    },
    {
     "cell_type": "heading",
     "level": 2,
     "metadata": {},
     "source": [
      "Example 7.2, page 294"
     ]
    },
    {
     "cell_type": "code",
     "collapsed": false,
     "input": [
      "import math\n",
      "\n",
      "#Initialisation\n",
      "h=500                                #height in m\n",
      "a=0.000315\n",
      "b=0.0001361\n",
      "Re=6370000                           #radius of earth in m\n",
      "\n",
      "\n",
      "#Calculation\n",
      "n=1+(a*math.exp(-b*h))                \n",
      "n1=(n-1)*10**6                         #Refraction index\n",
      "c=(a*b*math.exp(-b*h))\n",
      "R=1/c                                  #Radius of path curvature in km\n",
      "d=1-(Re/R)\n",
      "K=1/d                                  #K-factor\n",
      "\n",
      "#Results\n",
      "print'(1) Refraction index = %d '%n1\n",
      "print'(2) Radius of path curvature = %d kM'%(R/10**3)\n",
      "print'(3) K-factor = %.3f'%K "
     ],
     "language": "python",
     "metadata": {},
     "outputs": [
      {
       "output_type": "stream",
       "stream": "stdout",
       "text": [
        "(1) Refraction index = 294 \n",
        "(2) Radius of path curvature = 24968 kM\n",
        "(3) K-factor = 1.343\n"
       ]
      }
     ],
     "prompt_number": 8
    },
    {
     "cell_type": "heading",
     "level": 2,
     "metadata": {},
     "source": [
      "Example 7.3, page 299"
     ]
    },
    {
     "cell_type": "code",
     "collapsed": false,
     "input": [
      "import math\n",
      "\n",
      "#Initialisation\n",
      "k1=1.3                                 #K-factor\n",
      "k2=0.7                                 #K-factor\n",
      "H1=1200                                #sea level in m\n",
      "H2=1400                                #sea level in m\n",
      "re=6370*10**3                          #radius of earth in m\n",
      "f=15*10**9                             #frequency in Hz\n",
      "a1=0.6\n",
      "d1=15*10**3                            #distance in m\n",
      "d2=20*10**3                            #distance in m\n",
      "c=3*10**8                              #speed of light\n",
      "d=30*10**3                             #distance in m\n",
      "h2=25.24       \n",
      "r2=11.55\n",
      "a2=0.3\n",
      "\n",
      "\n",
      "#Calculation\n",
      "h1=500*d1*d2/(k1*re)\n",
      "h=c*f**-1\n",
      "r1=math.sqrt((d1*d2*h)/d)\n",
      "H11=H1+h1+a1*r1                      #in meter\n",
      "H22=H2+h2+a2*r2                      #in meter\n",
      "\n",
      "#Results\n",
      "print'(1) H1 = %d m'%H11              #wrong calculation in textbook\n",
      "print'(2) H2 = %d m'%H22\n",
      "\n"
     ],
     "language": "python",
     "metadata": {},
     "outputs": [
      {
       "output_type": "stream",
       "stream": "stdout",
       "text": [
        "(1) H1 = 19322 m\n",
        "(2) H2 = 1428 m\n"
       ]
      }
     ],
     "prompt_number": 50
    },
    {
     "cell_type": "heading",
     "level": 2,
     "metadata": {},
     "source": [
      "Example 7.4, page 302"
     ]
    },
    {
     "cell_type": "code",
     "collapsed": false,
     "input": [
      "import math\n",
      "\n",
      "#Initialisation\n",
      "hr=-1                       #obstacle height and fresnel radius ratio\n",
      "\n",
      "#Calculation\n",
      "Ad=-20*hr+10                 #Diffraction loss in dB\n",
      "Ad2=16                       #from fig 7.8\n",
      "Ad3=43\n",
      "\n",
      "#Results\n",
      "print'(1) Obstacle loss = %.1f dB'%Ad\n",
      "print'(2) Knife edge obstacle = %.1f dB'%Ad2\n",
      "print'(3) Rounded obstacle = %.1f dB'%Ad3\n"
     ],
     "language": "python",
     "metadata": {},
     "outputs": [
      {
       "output_type": "stream",
       "stream": "stdout",
       "text": [
        "(1) Obstacle loss = 30.0 dB\n",
        "(2) Knife edge obstacle = 16.0 dB\n",
        "(3) Rounded obstacle = 43.0 dB\n"
       ]
      }
     ],
     "prompt_number": 3
    },
    {
     "cell_type": "heading",
     "level": 2,
     "metadata": {},
     "source": [
      "Example 7.5, page 306"
     ]
    },
    {
     "cell_type": "code",
     "collapsed": false,
     "input": [
      "import math\n",
      "\n",
      "#Initialisation\n",
      "d1=10                                               #distance in km\n",
      "d2=25                                               #distance in km\n",
      "re=6370                                            #earth radius in km               \n",
      "k=0.5                                               #climatic factor\n",
      "f=4*10**9                                           #frequency in Hz\n",
      "c=3*10**8                                          #speed of light\n",
      "d=35                                               #distance in km\n",
      "h3=400                                             #height in m\n",
      "\n",
      "#Calculation\n",
      "ho=(500*d1*d2)/(k*re)                                #Earth buldge in m\n",
      "h=c*f**-1                                             #wavelength in m\n",
      "r1=math.sqrt(d1*10**3*d2*10**3*h*(d*10**3)**-1)       #fresnel radius\n",
      "amsl=h3+ho+13.9                                       #AMSL\n",
      "\n",
      "#Results\n",
      "print'(1) Earth buldge = %.2f m'%ho\n",
      "print'(2) Fresnel radius = %.1f m'%r1\n",
      "print'(3) AMSL = %.1f m '%amsl"
     ],
     "language": "python",
     "metadata": {},
     "outputs": [
      {
       "output_type": "stream",
       "stream": "stdout",
       "text": [
        "(1) Earth buldge = 39.25 m\n",
        "(2) Fresnel radius = 23.1 m\n",
        "(3) AMSL = 453.1 m \n"
       ]
      }
     ],
     "prompt_number": 55
    },
    {
     "cell_type": "heading",
     "level": 2,
     "metadata": {},
     "source": [
      "Example 7.6, page 309"
     ]
    },
    {
     "cell_type": "code",
     "collapsed": false,
     "input": [
      "import math\n",
      "\n",
      "#Initialisation\n",
      "pt=500                                        #Transmitter power in mW\n",
      "gt=42                                         #transmitter antenna gain in dB\n",
      "gr=44                                         #receiver antenna gain in dB\n",
      "lbt=2.6                                       #transmitter branching loss in dB\n",
      "lbr=3                                         #receiver branching loss in dB\n",
      "flt=45                                        #transmitter feeder length\n",
      "flr=35                                        #receiver feeder length\n",
      "fls=6.5                                       #feeder loss\n",
      "prx=-72                                       #Receiver sensitivity\n",
      "d=30                                          #path distance in km\n",
      "f=8.4                                         #frequency in ghz\n",
      "\n",
      "#Calculation\n",
      "ptx=10*math.log10(pt)                         #transmitter threshold level\n",
      "lft=flt*fls/100\n",
      "lfr=flr*fls/100\n",
      "eirp=ptx+gt-lbt-lft                            #Transmitter effective power\n",
      "sg=ptx-prx\n",
      "fsl=92.4+20*math.log10(f)+20*math.log10(d)\n",
      "rsl=ptx+gt+gr-fsl-lft-lfr-lbt-lbr\n",
      "fm=rsl-prx\n",
      "\n",
      "#Results\n",
      "print'EIRP = %.2f dBm'%eirp\n",
      "print'SG = %.2f dBm'%sg\n",
      "print'FSL = %.2f dB'%fsl\n",
      "print'RSL = %.2f dBm'%rsl\n",
      "print'FM = %.2f dB'%fm"
     ],
     "language": "python",
     "metadata": {},
     "outputs": [
      {
       "output_type": "stream",
       "stream": "stdout",
       "text": [
        "EIRP = 63.46 dBm\n",
        "SG = 98.99 dBm\n",
        "FSL = 140.43 dB\n",
        "RSL = -38.24 dBm\n",
        "FM = 33.76 dB\n"
       ]
      }
     ],
     "prompt_number": 6
    },
    {
     "cell_type": "heading",
     "level": 2,
     "metadata": {},
     "source": [
      "Example 7.7, page 315"
     ]
    },
    {
     "cell_type": "code",
     "collapsed": false,
     "input": [
      "import math\n",
      "\n",
      "#Initialisation\n",
      "f=15                                          #frequency in GHz\n",
      "f1=18                                         #frequency in GHz\n",
      "R=50                                          #rain intensity\n",
      "ah=1.154\n",
      "kh=0.0367\n",
      "d=20                                          #distance in kM\n",
      "\n",
      "#Calculation\n",
      "yr=kh*R**ah\n",
      "do=35*math.exp(-0.015*R)                       #distance in kM\n",
      "de=d/(1+(d/do))                                #distance in kM\n",
      "Ao=yr*de                                       #Rain Loss in dB\n",
      "phi=(f**2)/(1+10**-4*f**2)\n",
      "phi1=(f1**2)/(1+10**-4*f1**2)\n",
      "H=1.12*10**-3*((phi1/phi)**0.5)*(phi*Ao)**0.55\n",
      "Ah=Ao*(phi1/phi)**(1-H)\n",
      "Av=(300*Ah)/(335+Ah)                           #Rain Loss in dB\n",
      "\n",
      "\n",
      "#Results\n",
      "print'(1) Rain Loss, A = %.2f dB'%Ao\n",
      "print'(2) rain loss for vertical polarization, Av = %.2f dB'%Av\n"
     ],
     "language": "python",
     "metadata": {},
     "outputs": [
      {
       "output_type": "stream",
       "stream": "stdout",
       "text": [
        "(1) Rain Loss, A = 30.34 dB\n",
        "(2) rain loss for vertical polarization, Av = 32.53 dB\n"
       ]
      }
     ],
     "prompt_number": 24
    },
    {
     "cell_type": "heading",
     "level": 2,
     "metadata": {},
     "source": [
      "Example 7.8, page 322"
     ]
    },
    {
     "cell_type": "code",
     "collapsed": false,
     "input": [
      "import math\n",
      "\n",
      "#Initialisation\n",
      "A=99.8                                      #in percent\n",
      "l=1250                                      #radio link in km\n",
      "C=155*10**6                                 #in bps\n",
      "T=24*60*60                                  #Total measurement time\n",
      "\n",
      "#Calculation\n",
      "U=100-A\n",
      "u=U/100\n",
      "ue=u*l/2500\n",
      "uep=ue*0.3                              #propagation unavailability value\n",
      "M=C*uep*T*10**-3                        #number of errored bits due to propagation\n",
      "\n",
      "#Results\n",
      "print'Maximum delay bit error per day = %d bits per day'%M\n"
     ],
     "language": "python",
     "metadata": {},
     "outputs": [
      {
       "output_type": "stream",
       "stream": "stdout",
       "text": [
        "Maximum delay bit error per day = 4017600 bits per day\n"
       ]
      }
     ],
     "prompt_number": 26
    },
    {
     "cell_type": "heading",
     "level": 2,
     "metadata": {},
     "source": [
      "Example 7.9, page 324"
     ]
    },
    {
     "cell_type": "code",
     "collapsed": false,
     "input": [
      "import math\n",
      "\n",
      "#Initialisation\n",
      "h=24                                #hours\n",
      "m=60                                #minutes\n",
      "s=60                                #seconds\n",
      "\n",
      "\n",
      "#Calculation\n",
      "dm=0.004*h*m*(1250*2500**-1)          #Maximum degraded minutes\n",
      "ses=0.00054*h*m*s*(1250*2500**-1)     #Severely errored seconds\n",
      "\n",
      "#Results\n",
      "print'(1) Maximum degraded minutes per day = %.2f min'%dm\n",
      "print'(2) Severely errored seconds per day = %.2f s'%ses"
     ],
     "language": "python",
     "metadata": {},
     "outputs": [
      {
       "output_type": "stream",
       "stream": "stdout",
       "text": [
        "(1) Maximum degraded minutes per day = 2.88 min\n",
        "(2) Severely errored seconds per day = 23.33 s\n"
       ]
      }
     ],
     "prompt_number": 39
    },
    {
     "cell_type": "heading",
     "level": 2,
     "metadata": {},
     "source": [
      "Example 7.10, page 331"
     ]
    },
    {
     "cell_type": "code",
     "collapsed": false,
     "input": [
      "import math\n",
      "\n",
      "#Initialisation\n",
      "Aa=15                                    #Transmitter antenna discrimination\n",
      "Ab=25                                    #Receiver antenna discrimination\n",
      "AD=110                                  #path in km                     \n",
      "s=35                                    #fading in dB\n",
      "\n",
      "#Calculation\n",
      "Ad=20*math.log10(AD*CD**-1)               #Distance discrimination\n",
      "CD=30                                       #path in km \n",
      "si=Aa+Ab+Ad                                 #in dB\n",
      "si2=si-s                                    #in dB\n",
      "\n",
      "#Results\n",
      "print'(1) S/I = %.1f dB'%si\n",
      "print'(2) S/I = %.1f dB'%si2"
     ],
     "language": "python",
     "metadata": {},
     "outputs": [
      {
       "output_type": "stream",
       "stream": "stdout",
       "text": [
        "(1) S/I = 51.3 dB\n",
        "(2) S/I = 16.3 dB\n"
       ]
      }
     ],
     "prompt_number": 36
    },
    {
     "cell_type": "heading",
     "level": 2,
     "metadata": {},
     "source": [
      "Example 7.11, page 333"
     ]
    },
    {
     "cell_type": "code",
     "collapsed": false,
     "input": [
      "import math\n",
      "\n",
      "#Initialisation\n",
      "kq=2.6*10**-6                                 #geoclimatic coefficient\n",
      "f=6                                           #frequency in GHz\n",
      "d=45                                          #distance in Km\n",
      "gc=0.098                                      #GC factor\n",
      "ab=0.25                                       #geoclimatic factor\n",
      "\n",
      "#Calculation\n",
      "po=kq*f*gc*d**3                              #In country\n",
      "po1=0.3*ab*(f*4**-1)*(d*50**-1)**3           #In mountainous area\n",
      "\n",
      "\n",
      "\n",
      "#Results\n",
      "print'Fading occurrence probability'\n",
      "print'(1) In country = %.2f'%po\n",
      "print'(2) In mountainous area = %.3f'%po1\n"
     ],
     "language": "python",
     "metadata": {},
     "outputs": [
      {
       "output_type": "stream",
       "stream": "stdout",
       "text": [
        "Fading occurrence probability\n",
        "(1) In country = 0.14\n",
        "(2) In mountainous area = 0.082\n"
       ]
      }
     ],
     "prompt_number": 32
    },
    {
     "cell_type": "heading",
     "level": 2,
     "metadata": {},
     "source": [
      "Example 7.12, page 340"
     ]
    },
    {
     "cell_type": "code",
     "collapsed": false,
     "input": [
      "import math\n",
      "\n",
      "#Initialisation\n",
      "dn=70                                       #dN = 70\n",
      "d1=1000                                     #height from sea level in m\n",
      "d2=1400                                      #height from sea level in m\n",
      "d=45                                         #radio link distance in km\n",
      "\n",
      "#Calculation\n",
      "K=10**(-4.2-0.0029*-dn)                      #Climate factor\n",
      "ep=(d2-d1)/d                                 #magnitude of the path inclination\n",
      "po=K*d**3*(1+ep)**(-1.2)*10**(0.033*6-1)      #Fading occurrence probability\n",
      "\n",
      "\n",
      "#Results\n",
      "print'(1) Climate factor K = %.4f = 10^-4'%K\n",
      "print'(2) Fading occurrence probability Po = %.2f percent'%po\n"
     ],
     "language": "python",
     "metadata": {},
     "outputs": [
      {
       "output_type": "stream",
       "stream": "stdout",
       "text": [
        "(1) Climate factor K = 0.0001 = 10^-4\n",
        "(2) Fading occurrence probability Po = 0.10 percent\n"
       ]
      }
     ],
     "prompt_number": 23
    },
    {
     "cell_type": "heading",
     "level": 2,
     "metadata": {},
     "source": [
      "Example 7.13, page 342"
     ]
    },
    {
     "cell_type": "code",
     "collapsed": false,
     "input": [
      "import math\n",
      "\n",
      "#Initialisation\n",
      "fm=35                               #fade margin\n",
      "po=0.092                            #fading occurrence probability\n",
      "\n",
      "#Calculation\n",
      "pw=po*10**(-fm*10**-1)               #deep fading occurrence \n",
      "\n",
      "\n",
      "#Results\n",
      "print'Deep fading occurrence probability, Pw = %.1f x 10^-5'%(pw*10**5)\n"
     ],
     "language": "python",
     "metadata": {},
     "outputs": [
      {
       "output_type": "stream",
       "stream": "stdout",
       "text": [
        "Deep fading occurrence probability, Pw = 2.9 x 10^-5\n"
       ]
      }
     ],
     "prompt_number": 13
    },
    {
     "cell_type": "heading",
     "level": 2,
     "metadata": {},
     "source": [
      "Example 7.14, page 343"
     ]
    },
    {
     "cell_type": "code",
     "collapsed": false,
     "input": [
      "import math\n",
      "\n",
      "#Initialisation\n",
      "d=20                                      #distance in kM\n",
      "po=0.02                                   #fading occurrence probability at 20 Km\n",
      "d1=25                                     #distance in kM\n",
      "d2=40                                     #distance in kM\n",
      "fm1=30                                    #link in kM\n",
      "fm2=35                                   #link in kM\n",
      "fm3=40                                    #link in kM\n",
      "tr=30*24*60           \n",
      "\n",
      "\n",
      "#Calculation\n",
      "po1=po*(d1*d**-1)**3                   #fading occurrence probability at 25 Km\n",
      "po2=po*(d2/d)**3                       #fading occurrence probability at 40 Km\n",
      "pw=po*10**(-fm1*10**-1)                #fade margin at 30\n",
      "pw1=po1*10**(-fm2*10**-1)             #fade margin at 35\n",
      "pw2=po2*10**(-fm3/10)                  #fade margin at 40\n",
      "u=pw+pw1+pw2                           #total fade margin\n",
      "to=u*tr                                #network outage time\n",
      "\n",
      "#Results\n",
      "print'(1) Fading occurrence probability at 20 = %.2f'%po\n",
      "print'    Fading occurrence probability at 25 = %.3f'%po1\n",
      "print'    Fading occurrence probability at 40 = %.2f'%po2\n",
      "print'(2) Fade margin at 30 = %.1f x 10^-5'%(pw*10**5)\n",
      "print'    Fade margin at 35 = %.2f x 10^-5'%(pw1*10**5)\n",
      "print'    Fade margin at 40 = %.2f x 10^-5'%(pw2*10**5)\n",
      "print'    Total fade margin = %.2f x 10**-5'%(u*10**5)\n",
      "print'(3) Network outage time , To = %.3f min per month'%(to)"
     ],
     "language": "python",
     "metadata": {},
     "outputs": [
      {
       "output_type": "stream",
       "stream": "stdout",
       "text": [
        "(1) Fading occurrence probability at 20 = 0.02\n",
        "    Fading occurrence probability at 25 = 0.039\n",
        "    Fading occurrence probability at 40 = 0.16\n",
        "(2) Fade margin at 30 = 2.0 x 10^-5\n",
        "    Fade margin at 35 = 1.24 x 10^-5\n",
        "    Fade margin at 40 = 1.60 x 10^-5\n",
        "    Total fade margin = 4.84 x 10**-5\n",
        "(3) Network outage time , To = 2.089 min per month\n"
       ]
      }
     ],
     "prompt_number": 51
    },
    {
     "cell_type": "heading",
     "level": 2,
     "metadata": {},
     "source": [
      "Example 7.15, page 344"
     ]
    },
    {
     "cell_type": "code",
     "collapsed": false,
     "input": [
      "import math\n",
      "\n",
      "#Initialisation\n",
      "ur=0.001                  #unavailability budget for hypothetical circuit\n",
      "d=50                      #path-length in km\n",
      "A=0.25                    #area conditions\n",
      "B=1                       #area conditions\n",
      "f=8                       #frequency in GHz\n",
      "\n",
      "\n",
      "#Calculation\n",
      "pw=ur*(d*(d*d)**-1)             #deep fading occurrence probability\n",
      "po=6*10**-7*A*B*f*(d**3)        #fading occurrence probability of desirable link\n",
      "FM=-math.log10(pw/po)*10        #fade margin\n",
      "\n",
      "#Results\n",
      "print'Fade margin = %.1f dB'%FM"
     ],
     "language": "python",
     "metadata": {},
     "outputs": [
      {
       "output_type": "stream",
       "stream": "stdout",
       "text": [
        "Fade margin = 38.8 dB\n"
       ]
      }
     ],
     "prompt_number": 10
    },
    {
     "cell_type": "code",
     "collapsed": false,
     "input": [],
     "language": "python",
     "metadata": {},
     "outputs": []
    }
   ],
   "metadata": {}
  }
 ]
}