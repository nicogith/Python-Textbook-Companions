{
 "metadata": {
  "name": "",
  "signature": "sha256:8b82c1850573ed04faf5b016dd3b7bb1cd3e59fe769778d2d3498929713b1cff"
 },
 "nbformat": 3,
 "nbformat_minor": 0,
 "worksheets": [
  {
   "cells": [
    {
     "cell_type": "heading",
     "level": 1,
     "metadata": {},
     "source": [
      "Chapter 4: Radiowave Propagation in Ionosphere"
     ]
    },
    {
     "cell_type": "heading",
     "level": 2,
     "metadata": {},
     "source": [
      "Example 4.1, page 130"
     ]
    },
    {
     "cell_type": "code",
     "collapsed": false,
     "input": [
      "import math\n",
      "\n",
      "#Initialisation\n",
      "h=400                                            #height in Km\n",
      "pd=1*10**8                                       #plasma density at height D\n",
      "pe=1*10**10                                     #plasma density at height E\n",
      "pf=3*10**11                                      #plasma density at height F\n",
      "Wd=20*10**3                                      #thickness of D\n",
      "We=40*10**3                                      #thickness of E\n",
      "Wf=190*10**3                                     #thickness of F\n",
      "\n",
      "#Calculation\n",
      "tecd=Wd*pd                                       #total electron content at D\n",
      "tece=We*pe                                       #total electron content at E\n",
      "tecf=Wf*pf                                       #total electron content at F\n",
      "tec=tecd+tece+tecf                               \n",
      "tec1=tec*math.sqrt(2)                            #total electron content\n",
      "\n",
      "#Results\n",
      "print'(2) TEC (D) = %.1f x 10^12 el/m^2'%(tecd/10**12)\n",
      "print'    TEC (E) = %.1f x 10^14 el/m^2'%(tece/10**14)\n",
      "print'    TEC (F) = %.2f x 10^16 el/m^2'%(tecf*10**-16)\n",
      "print'(3) TEC = %.1f x 10^16 el/m^2'%(tec1/10**16)"
     ],
     "language": "python",
     "metadata": {},
     "outputs": [
      {
       "output_type": "stream",
       "stream": "stdout",
       "text": [
        "(2) TEC (D) = 2.0 x 10^12 el/m^2\n",
        "    TEC (E) = 4.0 x 10^14 el/m^2\n",
        "    TEC (F) = 5.70 x 10^16 el/m^2\n",
        "(3) TEC = 8.1 x 10^16 el/m^2\n"
       ]
      }
     ],
     "prompt_number": 1
    },
    {
     "cell_type": "heading",
     "level": 2,
     "metadata": {},
     "source": [
      "Example 4.2, page 134"
     ]
    },
    {
     "cell_type": "code",
     "collapsed": false,
     "input": [
      "import math\n",
      "\n",
      "#Initialisation\n",
      "N=5*10**11                                    #Electron density in F layer\n",
      "\n",
      "#Calculation\n",
      "F=9*math.sqrt(N)                              #f0F frequency\n",
      "\n",
      "#Results\n",
      "print'(1) hmin = 200Km  hmax = 400Km'         #from graph\n",
      "print'(2) F = %.1f Mhz'%(F*10**-6)"
     ],
     "language": "python",
     "metadata": {},
     "outputs": [
      {
       "output_type": "stream",
       "stream": "stdout",
       "text": [
        "(1) hmin = 200Km  hmax = 400Km\n",
        "(2) F = 6.4 Mhz\n"
       ]
      }
     ],
     "prompt_number": 2
    },
    {
     "cell_type": "heading",
     "level": 2,
     "metadata": {},
     "source": [
      "Example 4.3, page 136"
     ]
    },
    {
     "cell_type": "code",
     "collapsed": false,
     "input": [
      "import math\n",
      "\n",
      "#Initialisation\n",
      "fc=6.3*10**6                            #frequency in hertz\n",
      "\n",
      "#Calculation\n",
      "f=fc*math.sqrt(2)                       #maximum usable frequency\n",
      "\n",
      "#Results\n",
      "print'Maximum usable frequency = %.3f MHz'%(f*10**-6)"
     ],
     "language": "python",
     "metadata": {},
     "outputs": [
      {
       "output_type": "stream",
       "stream": "stdout",
       "text": [
        "Maximum usable frequency = 8.910 MHz\n"
       ]
      }
     ],
     "prompt_number": 4
    },
    {
     "cell_type": "heading",
     "level": 2,
     "metadata": {},
     "source": [
      "Example 4.4, page 137"
     ]
    },
    {
     "cell_type": "code",
     "collapsed": false,
     "input": [
      "import math\n",
      "\n",
      "#Initialisation\n",
      "tec=10**17                                   #total electron content\n",
      "H=200*10**3                                  #thickness of F layer\n",
      " \n",
      "#Calculation\n",
      "pd=tec/H                                      #plasma density at F\n",
      "fc=9*math.sqrt(pd)\n",
      "ouf=3.6*fc*0.8                               #optimum usable frequency\n",
      "muf=fc*1.788                                 #maximum usable frequency\n",
      "\n",
      "#Results\n",
      "print'Maximum usable frequency = %.1f MHz'%(fc*10**-6)\n",
      "print'Optimum usable frequency < %.3f MHz'%(ouf*10**-6)\n",
      "print'Maximum usable frequency (30) = %.1f MHz'%(muf*10**-6)"
     ],
     "language": "python",
     "metadata": {},
     "outputs": [
      {
       "output_type": "stream",
       "stream": "stdout",
       "text": [
        "Maximum usable frequency = 6.4 MHz\n",
        "Optimum usable frequency < 18.328 MHz\n",
        "Maximum usable frequency (30) = 11.4 MHz\n"
       ]
      }
     ],
     "prompt_number": 5
    },
    {
     "cell_type": "heading",
     "level": 2,
     "metadata": {},
     "source": [
      "Example 4.5, page 138"
     ]
    },
    {
     "cell_type": "code",
     "collapsed": false,
     "input": [
      "import math\n",
      "\n",
      "#Initialisation\n",
      "d=1000                                          #distance in km\n",
      "re=6370                                         #earth radius in km\n",
      "dt=30                                           #in degree\n",
      "\n",
      "#Calculation\n",
      "teta=d*(2*re)**-1                               #theta in radians\n",
      "tet=teta*180*math.pi**-1                       #theta in degree\n",
      "w1=90-dt-tet\n",
      "a=math.sin(w1*3.14/180)/re\n",
      "a1=math.sin((90+dt)*3.14/180)\n",
      "h=(a1*a**-1)-re                                  #height\n",
      "#Results\n",
      "print'(1) virtual height of the reflection point = %d km'%h           #wrong value calculated in textbook"
     ],
     "language": "python",
     "metadata": {},
     "outputs": [
      {
       "output_type": "stream",
       "stream": "stdout",
       "text": [
        "(1) virtual height of the reflection point = 330 km\n"
       ]
      }
     ],
     "prompt_number": 25
    },
    {
     "cell_type": "heading",
     "level": 2,
     "metadata": {},
     "source": [
      "Example 4.6, page 142"
     ]
    },
    {
     "cell_type": "code",
     "collapsed": false,
     "input": [
      "import math\n",
      "\n",
      "#Initialisation\n",
      "d=200                            #height in Km\n",
      "f=700                            #frequency in Khz\n",
      "\n",
      "#Calculation\n",
      "T1e=0.4                          #from graph 4.10\n",
      "T2e=0.9\n",
      "T3e=1.7\n",
      "T1f=1.3\n",
      "T2f=2.8\n",
      "T3f=4.3\n",
      "Tef=0.3\n",
      "Tef1=2.7\n",
      "Tef2=0.5\n",
      "\n",
      "#Results\n",
      "print'(1) Time delay of E layer, Td(1E) = %.1f ms'%T1e\n",
      "print'                           Td(2E) = %.1f ms'%T2e\n",
      "print'                           Td(2E) = %.1f ms'%T3e\n",
      "print'    Time delay of F layer, Td(1F) = %.1f ms'%T1f\n",
      "print'                           Td(2F) = %.1f ms'%T2f\n",
      "print'                           Td(2F) = %.1f ms'%T3f\n",
      "print'(2) Time delay of E and F for a distance of 500 km, Td(E,F) = %.1f ms'%Tef\n",
      "print'(3) Td(1F,3F) = %.1f ms'%Tef1\n",
      "print'    Td(1E,3E) = %.1f ms'%Tef2"
     ],
     "language": "python",
     "metadata": {},
     "outputs": [
      {
       "output_type": "stream",
       "stream": "stdout",
       "text": [
        "(1) Time delay of E layer, Td(1E) = 0.4 ms\n",
        "                           Td(2E) = 0.9 ms\n",
        "                           Td(2E) = 1.7 ms\n",
        "    Time delay of F layer, Td(1F) = 1.3 ms\n",
        "                           Td(2F) = 2.8 ms\n",
        "                           Td(2F) = 4.3 ms\n",
        "(2) Time delay of E and F for a distance of 500 km, Td(E,F) = 0.3 ms\n",
        "(3) Td(1F,3F) = 2.7 ms\n",
        "    Td(1E,3E) = 0.5 ms\n"
       ]
      }
     ],
     "prompt_number": 14
    },
    {
     "cell_type": "heading",
     "level": 2,
     "metadata": {},
     "source": [
      "Example 4.7, page 147"
     ]
    },
    {
     "cell_type": "code",
     "collapsed": false,
     "input": [
      "import math\n",
      "\n",
      "#Initialisation\n",
      "f=1.5*10**9                                        #frequency in Hz\n",
      "tec=10**18                                         #total electron content\n",
      "g=5*10**-3                                         #geomagnetic field intensity\n",
      "a=3.36*10**2\n",
      "\n",
      "#Calculation\n",
      "teta= a*g*tec*(f**-2)                             #Faraday rotation in Radian\n",
      "c=0.8422\n",
      "x=20*math.log10(c)                                #loss value in dB\n",
      "\n",
      "#Results\n",
      "print'(1) Faraday rotation = %.1f Rad'%teta\n",
      "print'(2) Loss = %f dB'%x"
     ],
     "language": "python",
     "metadata": {},
     "outputs": [
      {
       "output_type": "stream",
       "stream": "stdout",
       "text": [
        "(1) Faraday rotation = 0.7 Rad\n",
        "(2) Loss = -1.491695 dB\n"
       ]
      }
     ],
     "prompt_number": 18
    },
    {
     "cell_type": "heading",
     "level": 2,
     "metadata": {},
     "source": [
      "Example 4.8, page 149"
     ]
    },
    {
     "cell_type": "code",
     "collapsed": false,
     "input": [
      "import math\n",
      "\n",
      "#Initialisation\n",
      "tec1=10**18                           #total electron content\n",
      "f=1.5                                 #frequency in Hertz\n",
      "tec2= 10**17                          #total electron content\n",
      "\n",
      "#Calculation\n",
      "teta = 600                            #Faraday rotation in mRadian\n",
      "T=5                                   #time delay in ns\n",
      "gd=0.5                                #time delay difference in ns\n",
      "\n",
      "#Results\n",
      "print'(1) Faraday rotation = %d mRad'%teta\n",
      "print'(2) Time delay = %d ns'%T\n",
      "print'(3) G/D = %.1f ns'%gd"
     ],
     "language": "python",
     "metadata": {},
     "outputs": [
      {
       "output_type": "stream",
       "stream": "stdout",
       "text": [
        "(1) Faraday rotation = 600 mRad\n",
        "(2) Time delay = 5 ns\n",
        "(3) G/D = 0.5 ns\n"
       ]
      }
     ],
     "prompt_number": 21
    },
    {
     "cell_type": "heading",
     "level": 2,
     "metadata": {},
     "source": [
      "Example 4.9, page 158"
     ]
    },
    {
     "cell_type": "code",
     "collapsed": false,
     "input": [
      "import math\n",
      "\n",
      "#Initialisation\n",
      "phi=166                                            #in radian                                           \n",
      "t=35*math.pi/180                                  #geographic latitude in radian\n",
      "t1=60*math.pi/180                                  #zenith angle in radian\n",
      "N=80*math.pi/180                                  #in radian\n",
      "x=92\n",
      "y=35\n",
      "h=35\n",
      "p=1.2\n",
      "\n",
      "\n",
      "\n",
      "#Calculation\n",
      "m=0.11-0.49*math.cos(t)\n",
      "fe=0.004*(1+0.021*166)**2                            #minimum value of f0E\n",
      "A=1+0.0094*(phi-66)                                  #A value\n",
      "B=(math.cos(N))\n",
      "B1=B**m                                              #B value\n",
      "C=x+y*math.cos(t)                                    #C value\n",
      "D=math.cos(t1)**p                                    #D value\n",
      "F=(A*B*C*D)**(0.25)                                  #exact value of f0E                             \n",
      "\n",
      "#Results\n",
      "print'(1) Minimum value of f0E = %.2f x 10^-2 MHz'%(fe*100)\n",
      "print'(2) f0E = %.2f MHz'%F                                           #wrong value calculated in textbook"
     ],
     "language": "python",
     "metadata": {},
     "outputs": [
      {
       "output_type": "stream",
       "stream": "stdout",
       "text": [
        "(1) Minimum value of f0E = 8.05 x 10^-2 MHz\n",
        "(2) f0E = 2.05 MHz\n"
       ]
      }
     ],
     "prompt_number": 11
    },
    {
     "cell_type": "heading",
     "level": 2,
     "metadata": {},
     "source": [
      "Example 4.10, page 159"
     ]
    },
    {
     "cell_type": "code",
     "collapsed": false,
     "input": [
      "import math\n",
      "\n",
      "#Initialisation\n",
      "g=50                                            #geomagnetic latitude in degree\n",
      "R12=100                                         #solar activity number\n",
      "x=60*math.pi/180                                #zenith angle in radians\n",
      "\n",
      "#Calculation\n",
      "f0=4.35+0.0058*g-0.00012*g**2\n",
      "f100=5.35+0.011*g-0.00023*g**2\n",
      "fs=f0+0.01*(f100-f0)*R12\n",
      "n=0.093+(0.00461*g)-(0.000054*(g**2))+(0.0031*R12)            #wrong value calculated in textbook\n",
      "F1=fs*(math.cos(x))**n                              #critical frequency\n",
      "\n",
      "#Results\n",
      "print'Critical Frequency = %.2f MHz'%F1          #wrong value calculated in textbook\n",
      "\n"
     ],
     "language": "python",
     "metadata": {},
     "outputs": [
      {
       "output_type": "stream",
       "stream": "stdout",
       "text": [
        "Critical Frequency = 3.77 MHz\n"
       ]
      }
     ],
     "prompt_number": 62
    },
    {
     "cell_type": "heading",
     "level": 2,
     "metadata": {},
     "source": [
      "Example 4.11, page 164"
     ]
    },
    {
     "cell_type": "code",
     "collapsed": false,
     "input": [
      "import math\n",
      "\n",
      "#Initialisation\n",
      "R12=150                                          #12 month average value\n",
      "fs0=4.416\n",
      "fs100=5.473\n",
      "n=0.23\n",
      "x=45*math.pi/180                                 #zenith angle in radians                    \n",
      "\n",
      "#Calculation\n",
      "f1=63.7+0.728*R12+0.00089*R12**2\n",
      "fs=fs0+0.01*(fs100-fs0)*R12\n",
      "F1=fs*(math.cos(x))**n                            #critical frequency                               #zenith angle in radians\n",
      "\n",
      "#Results\n",
      "print'(1) R12 = %d'%R12\n",
      "print'(2) F12 = %d'%f1\n",
      "print'(3) f0F1 = %.2f MHz'%F1"
     ],
     "language": "python",
     "metadata": {},
     "outputs": [
      {
       "output_type": "stream",
       "stream": "stdout",
       "text": [
        "(1) R12 = 150\n",
        "(2) F12 = 192\n",
        "(3) f0F1 = 5.54 MHz\n"
       ]
      }
     ],
     "prompt_number": 61
    },
    {
     "cell_type": "code",
     "collapsed": false,
     "input": [],
     "language": "python",
     "metadata": {},
     "outputs": []
    }
   ],
   "metadata": {}
  }
 ]
}