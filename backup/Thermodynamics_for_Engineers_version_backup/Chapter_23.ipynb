{
 "metadata": {
  "name": "",
  "signature": "sha256:ed6f0c315c457295237376ededd9c5992635644b7125968e2389e7033f5e62be"
 },
 "nbformat": 3,
 "nbformat_minor": 0,
 "worksheets": [
  {
   "cells": [
    {
     "cell_type": "heading",
     "level": 1,
     "metadata": {},
     "source": [
      "Chapter 23 - Gas Vapor mixtures"
     ]
    },
    {
     "cell_type": "heading",
     "level": 2,
     "metadata": {},
     "source": [
      "Example 1 - Pg 505"
     ]
    },
    {
     "cell_type": "code",
     "collapsed": false,
     "input": [
      "#calculate the specific humidity\n",
      "#Initalization of variables\n",
      "pv=0.3631 #psia\n",
      "pa=14.7 #psia\n",
      "cp=0.24\n",
      "tw=70 #F\n",
      "td=80 #F\n",
      "hv1=1096.6 #Btu/lb\n",
      "hfb=38.06 #Btu/lb\n",
      "#calculations\n",
      "sh=0.622*pv/(pa-pv)\n",
      "sh1=(cp*tw -cp*td + sh*1054.3)/(hv1-hfb)\n",
      "#results\n",
      "print '%s %.5f %s' %(\"Specific humidity =\",sh1,\" lb/lb\")\n"
     ],
     "language": "python",
     "metadata": {},
     "outputs": [
      {
       "output_type": "stream",
       "stream": "stdout",
       "text": [
        "Specific humidity = 0.01342  lb/lb\n"
       ]
      }
     ],
     "prompt_number": 1
    },
    {
     "cell_type": "heading",
     "level": 2,
     "metadata": {},
     "source": [
      "Example 2 - Pg 509"
     ]
    },
    {
     "cell_type": "code",
     "collapsed": false,
     "input": [
      "#calculate the relative humidity\n",
      "#Initalization of variables\n",
      "rel=0.9\n",
      "p1=0.0396 #psia\n",
      "p2=0.3631 #psia\n",
      "#calculations\n",
      "act=rel*p1\n",
      "RH=act/p2 *100.\n",
      "#results\n",
      "print '%s %.1f %s' %(\"Relative humidity =\",RH,\" percent\")\n"
     ],
     "language": "python",
     "metadata": {},
     "outputs": [
      {
       "output_type": "stream",
       "stream": "stdout",
       "text": [
        "Relative humidity = 9.8  percent\n"
       ]
      }
     ],
     "prompt_number": 2
    },
    {
     "cell_type": "heading",
     "level": 2,
     "metadata": {},
     "source": [
      "Example 3 - Pg 509"
     ]
    },
    {
     "cell_type": "code",
     "collapsed": false,
     "input": [
      "#calculate the final temperature\n",
      "#Initalization of variables\n",
      "pa=14.2\n",
      "rel=0.9\n",
      "sh=0.012 #lb/lb\n",
      "#calculations\n",
      "pv=(pa*sh)/(0.622-sh)\n",
      "sat=pv/rel\n",
      "tf=64.34 #F\n",
      "#results\n",
      "print '%s %.2f %s' %(\"From steam tables, by interpolation, Final temperature =\",tf,\" F\")\n"
     ],
     "language": "python",
     "metadata": {},
     "outputs": [
      {
       "output_type": "stream",
       "stream": "stdout",
       "text": [
        "From steam tables, by interpolation, Final temperature = 64.34  F\n"
       ]
      }
     ],
     "prompt_number": 3
    },
    {
     "cell_type": "heading",
     "level": 2,
     "metadata": {},
     "source": [
      "Example 4 - Pg 509"
     ]
    },
    {
     "cell_type": "code",
     "collapsed": false,
     "input": [
      "#calculate the heat rate addition per min\n",
      "#Initalization of variables\n",
      "pa=14.7\n",
      "pv=0.0356\n",
      "pv2=0.04\n",
      "cp=0.24\n",
      "t1=70 #F\n",
      "t2=15 #F\n",
      "R=53.35\n",
      "V=8000 #ft^3\n",
      "#calculations\n",
      "sh=0.622*pv/(pa-pv2)\n",
      "hm2=cp*t1+ sh*1092.3\n",
      "hm1=cp*t2+sh*1068.4\n",
      "Q=hm2-hm1\n",
      "m=144*(pa-pv2)*V/(R*(t2+460.))\n",
      "Q2=Q*m\n",
      "#results\n",
      "print '%s %d %s' %(\"Heat added per min =\",Q2,\"Btu/min\")\n",
      "print '%s' %(\"The answer is a bit different due to rounding off error in the textbook\")\n"
     ],
     "language": "python",
     "metadata": {},
     "outputs": [
      {
       "output_type": "stream",
       "stream": "stdout",
       "text": [
        "Heat added per min = 8821 Btu/min\n",
        "The answer is a bit different due to rounding off error in the textbook\n"
       ]
      }
     ],
     "prompt_number": 4
    },
    {
     "cell_type": "heading",
     "level": 2,
     "metadata": {},
     "source": [
      "Example 5 - Pg 511"
     ]
    },
    {
     "cell_type": "code",
     "collapsed": false,
     "input": [
      "#calculate the Temperature\n",
      "#Initalization of variables\n",
      "rel=0.45\n",
      "p1=0.4747 #psia\n",
      "print '%s' %(\"From steam table data,\")\n",
      "#calculations\n",
      "act=rel*p1\n",
      "t2=54.94 #F\n",
      "#results\n",
      "print '%s %.2f %s' %(\"Temperature =\",t2,\"F\")\n"
     ],
     "language": "python",
     "metadata": {},
     "outputs": [
      {
       "output_type": "stream",
       "stream": "stdout",
       "text": [
        "From steam table data,\n",
        "Temperature = 54.94 F\n"
       ]
      }
     ],
     "prompt_number": 5
    },
    {
     "cell_type": "heading",
     "level": 2,
     "metadata": {},
     "source": [
      "Example 6 - Pg 511"
     ]
    },
    {
     "cell_type": "code",
     "collapsed": false,
     "input": [
      "#Calculate the tonnage\n",
      "#Initalization of variables\n",
      "rel=0.6\n",
      "p1=0.6982 #psia\n",
      "pa=14.7 #psia\n",
      "t1=90 #F\n",
      "t2=54.94 #F\n",
      "cp=0.24\n",
      "p2=0.2136 #psia\n",
      "vol=4000 #ft\n",
      "t3=538 #R\n",
      "R=53.35\n",
      "#calculations\n",
      "act1=rel*p1\n",
      "sh1=0.622*act1/(pa-act1)\n",
      "hm1=cp*t1+sh1*1100.9\n",
      "sh2=0.622*p2/(pa-p2)\n",
      "hm2=cp*t2+sh2*1085.8\n",
      "con=sh1-sh2\n",
      "enth=con*23.01\n",
      "heat=hm1-hm2-enth\n",
      "mass=144*(pa-p2)*vol/(R*(t3))\n",
      "tonnage=mass*heat/200\n",
      "#results\n",
      "print '%s %.1f %s' %(\"Tonnage =\",tonnage,\"tons \")\n"
     ],
     "language": "python",
     "metadata": {},
     "outputs": [
      {
       "output_type": "stream",
       "stream": "stdout",
       "text": [
        "Tonnage = 26.6 tons \n"
       ]
      }
     ],
     "prompt_number": 6
    },
    {
     "cell_type": "heading",
     "level": 2,
     "metadata": {},
     "source": [
      "Example 7 - Pg 514"
     ]
    },
    {
     "cell_type": "code",
     "collapsed": false,
     "input": [
      "#calculate the tonnage\n",
      "#Initalization of variables\n",
      "p1=0.541 #psia\n",
      "rel=0.48\n",
      "pa=14.7 #psia\n",
      "t1=82 #F\n",
      "cp=0.24\n",
      "m1=0.75 #lb\n",
      "m2=0.25 #lb\n",
      "hm4=23.15 #Btu/lb\n",
      "mass=291 #lb\n",
      "#calculations\n",
      "p2=rel*p1\n",
      "sh=0.622*p2/(pa-p2)\n",
      "hm1=cp*t1 + sh*1097.5\n",
      "hm2=m1*hm1\n",
      "hm3=m2*41.67\n",
      "heat=hm2+hm3-hm4\n",
      "tonnage=heat*mass/200\n",
      "#results\n",
      "print '%s %.2f %s' %(\"Tonnage =\",tonnage,\" tons\")\n"
     ],
     "language": "python",
     "metadata": {},
     "outputs": [
      {
       "output_type": "stream",
       "stream": "stdout",
       "text": [
        "Tonnage = 16.35  tons\n"
       ]
      }
     ],
     "prompt_number": 7
    },
    {
     "cell_type": "heading",
     "level": 2,
     "metadata": {},
     "source": [
      "Example 8 - Pg 516"
     ]
    },
    {
     "cell_type": "code",
     "collapsed": false,
     "input": [
      "#calculate the volume of entering air and amount of make up water\n",
      "#Initalization of variables\n",
      "ce=0.8\n",
      "t1=115 #F\n",
      "tc=75 #F\n",
      "td=85 #F\n",
      "pa=14.7 #psia\n",
      "p1=0.43 #psia\n",
      "p2=0.9492 #psia\n",
      "m1=159600\n",
      "m2=31.65\n",
      "R=53.35\n",
      "T=545 #R\n",
      "#calculations\n",
      "t2=t1-ce*(t1-tc)\n",
      "Pv=0.4298- (pa-p1)*(td-tc)/(2800- 1.3*tc) \n",
      "sh1=0.622*Pv/(pa-Pv)\n",
      "sh2=0.622 *p2/(pa-p2)\n",
      "mda=m1/m2\n",
      "V=mda*R*T/(144*(pa-Pv))\n",
      "amount=mda*(sh2-sh1)\n",
      "#results\n",
      "print '%s %d %s' %(\"Volume of entering air =\",V,\"cfm\")\n",
      "print '%s %.1f %s' %(\"\\n Amount of make up water =\",amount,\"lb/min\")\n",
      "print '%s' %('The answers are a bit different due to rounding off error in textbook')\n"
     ],
     "language": "python",
     "metadata": {},
     "outputs": [
      {
       "output_type": "stream",
       "stream": "stdout",
       "text": [
        "Volume of entering air = 71087 cfm\n",
        "\n",
        " Amount of make up water = 134.0 lb/min\n",
        "The answers are a bit different due to rounding off error in textbook\n"
       ]
      }
     ],
     "prompt_number": 8
    }
   ],
   "metadata": {}
  }
 ]
}