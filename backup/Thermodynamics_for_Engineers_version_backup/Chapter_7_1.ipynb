{
 "metadata": {
  "name": "",
  "signature": "sha256:7cd10447df19fe2f7f7381338e86fa6208bc3c3a796f2e977240b17e164ee22b"
 },
 "nbformat": 3,
 "nbformat_minor": 0,
 "worksheets": [
  {
   "cells": [
    {
     "cell_type": "heading",
     "level": 1,
     "metadata": {},
     "source": [
      "Chapter 7 - Entropy"
     ]
    },
    {
     "cell_type": "heading",
     "level": 2,
     "metadata": {},
     "source": [
      "Example 1 - Pg 115"
     ]
    },
    {
     "cell_type": "code",
     "collapsed": false,
     "input": [
      "import math\n",
      "#calculate the change in entropy\n",
      "#Initialization of variables\n",
      "T2=920. #R\n",
      "T1=520. #R\n",
      "P1=14. #psia\n",
      "P2=84. #psia\n",
      "J=778.\n",
      "R=53.35\n",
      "cv=0.1715\n",
      "N=1\n",
      "#calculations\n",
      "k= math.log(T2/T1) /math.log(P2/P1)\n",
      "n=1/(1-k)\n",
      "cx=cv+R/(J*(1-n))\n",
      "dS=N*cx*math.log(T2/T1)\n",
      "#results\n",
      "print '%s %.5f %s' %(\"Change in entropy  =\",dS,\"unit of entropy\")\n"
     ],
     "language": "python",
     "metadata": {},
     "outputs": [
      {
       "output_type": "stream",
       "stream": "stdout",
       "text": [
        "Change in entropy  = 0.01411 unit of entropy\n"
       ]
      }
     ],
     "prompt_number": 1
    }
   ],
   "metadata": {}
  }
 ]
}