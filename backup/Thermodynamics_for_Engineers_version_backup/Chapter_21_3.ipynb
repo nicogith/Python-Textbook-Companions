{
 "metadata": {
  "name": "",
  "signature": "sha256:6b7b3e2ab4fd666f452b57925a83681d6f79a5b142e4777bdab089506c8a15bb"
 },
 "nbformat": 3,
 "nbformat_minor": 0,
 "worksheets": [
  {
   "cells": [
    {
     "cell_type": "heading",
     "level": 1,
     "metadata": {},
     "source": [
      "Chapter 21 - Steam Turbines"
     ]
    },
    {
     "cell_type": "heading",
     "level": 2,
     "metadata": {},
     "source": [
      "Example 1 - Pg 456"
     ]
    },
    {
     "cell_type": "code",
     "collapsed": false,
     "input": [
      "#calculate the flow rate\n",
      "#Initalization of variables\n",
      "import math\n",
      "p2=190. #psia\n",
      "p1=110. #psia\n",
      "v1=2.456 \n",
      "k=1.3\n",
      "J=778.\n",
      "A2=1.2 #in^2\n",
      "#calculations\n",
      "v2=v1*math.pow(p2/p1,(1/k))\n",
      "dh=k/(k-1) *144/J *(p2*v1-p1*v2)\n",
      "Vex=223.8*math.sqrt(dh)\n",
      "m=A2*Vex/(144.*v2)\n",
      "#results\n",
      "print '%s %.2f %s' %(\"Rate of flow =\",m,\"lb/sec\")\n"
     ],
     "language": "python",
     "metadata": {},
     "outputs": [
      {
       "output_type": "stream",
       "stream": "stdout",
       "text": [
        "Rate of flow = 3.32 lb/sec\n"
       ]
      }
     ],
     "prompt_number": 1
    },
    {
     "cell_type": "heading",
     "level": 2,
     "metadata": {},
     "source": [
      "Example 2 - Pg 458"
     ]
    },
    {
     "cell_type": "code",
     "collapsed": false,
     "input": [
      "#calculate the rate of flow\n",
      "#Initalization of variables\n",
      "import math\n",
      "h1=1205.8 #Btu/lb\n",
      "s2=1.5594\n",
      "sf=1.5948\n",
      "sfg=1.1117\n",
      "hf=1188.9 #Btu/lb\n",
      "hfg=883.2 #Btu/lb\n",
      "vf=4.049\n",
      "vfg=vf-0.018\n",
      "k=1.3\n",
      "J=778\n",
      "A2=1.2 #in^2\n",
      "#calculations\n",
      "x2=-(s2-sf)/sfg\n",
      "h2=hf-x2*hfg\n",
      "v2=vf-x2*vfg\n",
      "dh=h1-h2\n",
      "Vex=223.8*math.sqrt(dh)\n",
      "m=A2*Vex/(144*v2)\n",
      "#results\n",
      "print '%s %.2f %s' %(\"Rate of flow =\",m,\"lb/sec\")\n",
      "\n"
     ],
     "language": "python",
     "metadata": {},
     "outputs": [
      {
       "output_type": "stream",
       "stream": "stdout",
       "text": [
        "Rate of flow = 3.19 lb/sec\n"
       ]
      }
     ],
     "prompt_number": 2
    },
    {
     "cell_type": "heading",
     "level": 2,
     "metadata": {},
     "source": [
      "Example 3 - Pg 462"
     ]
    },
    {
     "cell_type": "code",
     "collapsed": false,
     "input": [
      "#calculate the blade work, angle and efficiency\n",
      "#Initalization of variables\n",
      "import math\n",
      "alp=14*math.pi/180. #degrees\n",
      "vb=900. #ft/s\n",
      "v1=2200. #ft/s\n",
      "g=32.17 #ft/s^2\n",
      "#calculations\n",
      "vrc=v1*math.cos(alp) - vb\n",
      "W=(2*vrc)/g *vb\n",
      "eta=W/(v1*v1/ (2*g)) *100.\n",
      "bet=math.atan(v1*math.sin(alp) /vrc)*180/math.pi\n",
      "#results\n",
      "print '%s %d %s' %(\"Blade work =\",W,\" ft-lb/lb\")\n",
      "print '%s %.1f %s' %(\"\\n Efficiency =\",eta,\" percent\")\n",
      "print '%s %.1f %s' %(\"\\n Blade angle =\",bet,\" degrees\")\n",
      "print '%s' %('The answers are a bit different due to rounding off error')\n"
     ],
     "language": "python",
     "metadata": {},
     "outputs": [
      {
       "output_type": "stream",
       "stream": "stdout",
       "text": [
        "Blade work = 69082  ft-lb/lb\n",
        "\n",
        " Efficiency = 91.8  percent\n",
        "\n",
        " Blade angle = 23.3  degrees\n",
        "The answers are a bit different due to rounding off error\n"
       ]
      }
     ],
     "prompt_number": 3
    },
    {
     "cell_type": "heading",
     "level": 2,
     "metadata": {},
     "source": [
      "Example 4 - Pg 463"
     ]
    },
    {
     "cell_type": "code",
     "collapsed": false,
     "input": [
      "#calculate the blade work and efficiency\n",
      "#Initalization of variables\n",
      "import math\n",
      "v1=1234. #ft/s\n",
      "v2=532. #ft/s \n",
      "kb=0.92\n",
      "alp=20. #degrees\n",
      "ve=900. #ft/s\n",
      "r=2200. #ft/s\n",
      "g=32.17 #ft/s^2\n",
      "#calculations\n",
      "vr=math.sqrt(v1*v1 +v2*v2)\n",
      "vr2=vr*kb\n",
      "vrc=vr2*math.cos(alp*math.pi/180.)\n",
      "W=(v1+vrc)*ve/g\n",
      "eta=W/(r*r /(2*g)) *100.\n",
      "#results\n",
      "print '%s %d %s' %(\"Blade work =\",W,\"ft-lb/lb\")\n",
      "print '%s %.1f %s' %(\"\\n Efficiency =\",eta,\" percent\")\n",
      "print '%s' %('The answers are a bit different due to rounding off error')\n"
     ],
     "language": "python",
     "metadata": {},
     "outputs": [
      {
       "output_type": "stream",
       "stream": "stdout",
       "text": [
        "Blade work = 67023 ft-lb/lb\n",
        "\n",
        " Efficiency = 89.1  percent\n",
        "The answers are a bit different due to rounding off error\n"
       ]
      }
     ],
     "prompt_number": 4
    },
    {
     "cell_type": "heading",
     "level": 2,
     "metadata": {},
     "source": [
      "Example 5 - Pg 464"
     ]
    },
    {
     "cell_type": "code",
     "collapsed": false,
     "input": [
      "#calculate the blade reheat in both cases\n",
      "#Initalization of variables\n",
      "import math\n",
      "v1=1234.\n",
      "v2=532.\n",
      "kb=0.92\n",
      "alp=20*math.pi/180. #degrees\n",
      "ve=900.\n",
      "r=2200. #ft/s\n",
      "g=32.17 #ft/s^2\n",
      "J=778.\n",
      "w=67000.\n",
      "#calculations\n",
      "vr=math.sqrt(v1*v1 +v2*v2)\n",
      "vr2=vr*kb\n",
      "vrc=vr2*math.cos(alp)\n",
      "reheat=(vr*vr - vr2*vr2 )/(2*g*J)\n",
      "v22=math.sqrt((vrc-ve)*(vrc-ve) +(vr2*math.sin(alp))*(vr2*math.sin(alp)))\n",
      "ein=r*r /(2*g*J)\n",
      "eout=w/J + v22*v22 /(2*g*J)\n",
      "re2=ein-eout\n",
      "#results\n",
      "print '%s %.2f %s' %(\"\\n In case 1, Blade reheat =\",reheat,\"Btu/lb\")\n",
      "print '%s %.1f %s' %(\"\\n In case 2, Blade reheat =\",re2,\" Btu/lb\")\n"
     ],
     "language": "python",
     "metadata": {},
     "outputs": [
      {
       "output_type": "stream",
       "stream": "stdout",
       "text": [
        "\n",
        " In case 1, Blade reheat = 5.54 Btu/lb\n",
        "\n",
        " In case 2, Blade reheat = 5.6  Btu/lb\n"
       ]
      }
     ],
     "prompt_number": 5
    },
    {
     "cell_type": "heading",
     "level": 2,
     "metadata": {},
     "source": [
      "Example 6 - Pg 467"
     ]
    },
    {
     "cell_type": "code",
     "collapsed": false,
     "input": [
      "#calculate the intermediate pressure\n",
      "#Initalization of variables\n",
      "h1=1416.4\n",
      "s1=1.6842\n",
      "sf=1.7319\n",
      "sfg=1.3962\n",
      "fac=1.05\n",
      "x2=0.7\n",
      "#calculations\n",
      "x6=-(s1-sf)/sfg\n",
      "h6=1156.3 - x6*960.1\n",
      "dh6=h1-h6\n",
      "drop= fac*h6/2\n",
      "h2=h1-drop\n",
      "first=(1-x2)*drop\n",
      "h3=1264.1 +first\n",
      "h4=1157 #Btu/lb\n",
      "fac2=(drop+153)/dh6\n",
      "print '%s' %(\"From air charts,\")\n",
      "p2=107 #psia\n",
      "#results\n",
      "print '%s %d %s' %(\"Intermediate pressure =\",p2,\"psia\")\n"
     ],
     "language": "python",
     "metadata": {},
     "outputs": [
      {
       "output_type": "stream",
       "stream": "stdout",
       "text": [
        "From air charts,\n",
        "Intermediate pressure = 107 psia\n"
       ]
      }
     ],
     "prompt_number": 6
    },
    {
     "cell_type": "heading",
     "level": 2,
     "metadata": {},
     "source": [
      "Example 7 - Pg 469"
     ]
    },
    {
     "cell_type": "code",
     "collapsed": false,
     "input": [
      "#calculate the shaft ouput and engine efficiency\n",
      "#Initalization of variables\n",
      "import math\n",
      "reh=1.047\n",
      "dh6=292.8\n",
      "x2=0.7\n",
      "flow=98000 #lb/hr\n",
      "loss=200 #hp\n",
      "#calculations\n",
      "intwork=reh*dh6*x2\n",
      "inthp=intwork*flow/2544\n",
      "sout=inthp-loss\n",
      "swork=sout*2544/flow\n",
      "seff=swork/290.1 *100\n",
      "#results\n",
      "print '%s %d %s' %(\"Shaft output =\",sout,\"hp\")\n",
      "print '%s %.1f %s' %(\"\\n Shaft engine efficiency =\",seff,\"percent\")\n"
     ],
     "language": "python",
     "metadata": {},
     "outputs": [
      {
       "output_type": "stream",
       "stream": "stdout",
       "text": [
        "Shaft output = 8066 hp\n",
        "\n",
        " Shaft engine efficiency = 72.2 percent\n"
       ]
      }
     ],
     "prompt_number": 7
    },
    {
     "cell_type": "heading",
     "level": 2,
     "metadata": {},
     "source": [
      "Example 8 - Pg 469"
     ]
    },
    {
     "cell_type": "code",
     "collapsed": false,
     "input": [
      "#calculate the exit temperature and pressure\n",
      "#Initalization of variables\n",
      "h1=1416.4 #Btu/lb\n",
      "h2=214.5 #Btu/lb\n",
      "#calculations\n",
      "hexa=h1-h2\n",
      "print '%s' %(\"From Air tables,\")\n",
      "pe=20 #psia\n",
      "te=321.5 #F\n",
      "#results\n",
      "print '%s %d %s' %(\"Exit Pressure =\",pe,\"psia\")\n",
      "print '%s %.1f %s' %(\"\\n Exit temperature =\",te,\" F\")\n"
     ],
     "language": "python",
     "metadata": {},
     "outputs": [
      {
       "output_type": "stream",
       "stream": "stdout",
       "text": [
        "From Air tables,\n",
        "Exit Pressure = 20 psia\n",
        "\n",
        " Exit temperature = 321.5  F\n"
       ]
      }
     ],
     "prompt_number": 8
    },
    {
     "cell_type": "heading",
     "level": 2,
     "metadata": {},
     "source": [
      "Example 9 - Pg 470"
     ]
    },
    {
     "cell_type": "code",
     "collapsed": false,
     "input": [
      "#calculate the steam rate required\n",
      "#Initalization of variables\n",
      "flow=98000. #lb/hr\n",
      "loss=200. #hp\n",
      "x= 0.11 #percent\n",
      "shp=3000. #hp\n",
      "#calculations\n",
      "sflow = x*flow\n",
      "sflow2= sflow + (flow-sflow)*shp/8060.\n",
      "srate=sflow2/shp\n",
      "#results\n",
      "print '%s %.2f %s' %(\"Steam rate required =\",srate,\" lb/hp-hr\")\n"
     ],
     "language": "python",
     "metadata": {},
     "outputs": [
      {
       "output_type": "stream",
       "stream": "stdout",
       "text": [
        "Steam rate required = 14.41  lb/hp-hr\n"
       ]
      }
     ],
     "prompt_number": 9
    }
   ],
   "metadata": {}
  }
 ]
}