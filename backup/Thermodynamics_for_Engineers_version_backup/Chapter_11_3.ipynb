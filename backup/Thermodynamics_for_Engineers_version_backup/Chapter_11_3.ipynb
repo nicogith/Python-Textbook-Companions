{
 "metadata": {
  "name": "",
  "signature": "sha256:44e64b4537965942393829519dc8a0f03d9e3358f94636d1404b1281c73e5622"
 },
 "nbformat": 3,
 "nbformat_minor": 0,
 "worksheets": [
  {
   "cells": [
    {
     "cell_type": "heading",
     "level": 1,
     "metadata": {},
     "source": [
      "Chapter 11 - Thermodynamics of Fluid flow"
     ]
    },
    {
     "cell_type": "heading",
     "level": 2,
     "metadata": {},
     "source": [
      "Example 1 - Pg 181"
     ]
    },
    {
     "cell_type": "code",
     "collapsed": false,
     "input": [
      "#calculate the reynolds number\n",
      "#Initialization of variables\n",
      "d=2.067 #in\n",
      "P=20 #psia\n",
      "R=53.35 \n",
      "T=600 #R\n",
      "mu=0.0486 #lb /ft.hr\n",
      "v=50 #ft/s\n",
      "#calculations\n",
      "rho=P*144./(R*T)\n",
      "Re=d*v*rho*3600./(12*mu)\n",
      "#results\n",
      "print '%s %d' %(\"Reynolds number = \",Re)\n",
      "print '%s' %('The answers are a bit different due to rounding off error in textbook')\n"
     ],
     "language": "python",
     "metadata": {},
     "outputs": [
      {
       "output_type": "stream",
       "stream": "stdout",
       "text": [
        "Reynolds number =  57398\n",
        "The answers are a bit different due to rounding off error in textbook\n"
       ]
      }
     ],
     "prompt_number": 1
    },
    {
     "cell_type": "heading",
     "level": 2,
     "metadata": {},
     "source": [
      "Example 2 - Pg 184"
     ]
    },
    {
     "cell_type": "code",
     "collapsed": false,
     "input": [
      "#calculate the change in pressure and the percent change\n",
      "#Initialization of variables\n",
      "eps=0.00015 \n",
      "D=2.067/12. #ft\n",
      "l=100 #ft\n",
      "P=20 #psia\n",
      "R=53.35 \n",
      "T=600 #R\n",
      "mu=0.0486 #lb /ft.hr\n",
      "v=50 #ft/s\n",
      "g=32.17 #ft/s^2\n",
      "#calculations\n",
      "rho=P*144/(R*T)\n",
      "Re=D*v*rho*3600./(mu)\n",
      "ed=eps/D\n",
      "print '%s' %(\"From figure 11.5\")\n",
      "f=0.0235\n",
      "dp=f*l*rho*v*v /(2*D*g) /144.\n",
      "change=dp/P *100.\n",
      "#results\n",
      "print '%s %.2f %s' %(\"Change in pressure =\",dp,\"psi\")\n",
      "print '%s %.2f %s' %(\"\\n Percentage change in pressure =\",change,\" percent\")\n"
     ],
     "language": "python",
     "metadata": {},
     "outputs": [
      {
       "output_type": "stream",
       "stream": "stdout",
       "text": [
        "From figure 11.5\n",
        "Change in pressure = 0.33 psi\n",
        "\n",
        " Percentage change in pressure = 1.66  percent\n"
       ]
      }
     ],
     "prompt_number": 2
    },
    {
     "cell_type": "heading",
     "level": 2,
     "metadata": {},
     "source": [
      "Example 3 - Pg 190"
     ]
    },
    {
     "cell_type": "code",
     "collapsed": false,
     "input": [
      "#calculate the final pressure\n",
      "#Initialization of variables\n",
      "v1=60. #ft/s\n",
      "d1=10. #in\n",
      "d2=15. #in\n",
      "P=15. #psia\n",
      "R=53.35\n",
      "T=540. #R\n",
      "g=32.17 #ft/s^2\n",
      "v1=60. #ft/s\n",
      "#calculations\n",
      "v2=v1*d1*d1 /d2/d2\n",
      "rho=P*144/(R*T)\n",
      "dp=rho*(v2*v2 -v1*v1)/(2*g) /144.\n",
      "p2=P-dp\n",
      "#results\n",
      "print '%s %.2f %s' %(\"Final pressure =\",p2,\" psia\")\n"
     ],
     "language": "python",
     "metadata": {},
     "outputs": [
      {
       "output_type": "stream",
       "stream": "stdout",
       "text": [
        "Final pressure = 15.02  psia\n"
       ]
      }
     ],
     "prompt_number": 3
    },
    {
     "cell_type": "heading",
     "level": 2,
     "metadata": {},
     "source": [
      "Example 4 - Pg 192"
     ]
    },
    {
     "cell_type": "code",
     "collapsed": false,
     "input": [
      "#calculate the change in entropy\n",
      "#Initialization of variables\n",
      "J=778 #ft.lb/Btu\n",
      "D=2.067/12. #ft\n",
      "l=100 #ft\n",
      "P=20 #psia\n",
      "R=53.35 \n",
      "T=600 #R\n",
      "mu=0.0486 #lb /ft.hr\n",
      "v=50 #ft/s\n",
      "g=32.17 #ft/s^2\n",
      "#calculations\n",
      "f=0.0235\n",
      "ds=f*v*v *l /(J*2*D*g*T)\n",
      "#results\n",
      "print '%s %.6f %s' %(\"Change in entropy =\",ds,\" Btu/lbm R\")\n"
     ],
     "language": "python",
     "metadata": {},
     "outputs": [
      {
       "output_type": "stream",
       "stream": "stdout",
       "text": [
        "Change in entropy = 0.001136  Btu/lbm R\n"
       ]
      }
     ],
     "prompt_number": 4
    },
    {
     "cell_type": "heading",
     "level": 2,
     "metadata": {},
     "source": [
      "Example 5 - Pg 193"
     ]
    },
    {
     "cell_type": "code",
     "collapsed": false,
     "input": [
      "#calculate the pressure, enthalpy, entropy, temperature and density of the gas\n",
      "#Initialization of variables\n",
      "v=210 #ft/s\n",
      "g=32.17 #ft/s^2\n",
      "p=200. #psia\n",
      "z=5. #ft\n",
      "x=2.361\n",
      "h=1210.3\n",
      "J=778.\n",
      "#calculations\n",
      "P0=p + v*v /(2*g*144*x) + z/(144*x)\n",
      "h0=h + v*v /(2*J*g) +z/J\n",
      "S=1.5594 #units/lb\n",
      "S0=S\n",
      "t0=401.9 #F\n",
      "v0=2.342 #cu ft/lb\n",
      "rho0=1./v0\n",
      "#results\n",
      "print '%s %d %s' %(\"Pressure =\",P0,\"psia\")\n",
      "print '%s %.2f %s' %(\"\\n Enthalpy =\",h0,\" Btu/lb\")\n",
      "print '%s %.4f %s' %(\"\\n Entropy  =\",S0,\"units/lb\")\n",
      "print '%s %.1f %s' %(\"\\n Temperature =\",t0,\" F\")\n",
      "print '%s %.3f %s' %(\"\\n Density =\",rho0,\" lb/cu ft\")\n"
     ],
     "language": "python",
     "metadata": {},
     "outputs": [
      {
       "output_type": "stream",
       "stream": "stdout",
       "text": [
        "Pressure = 202 psia\n",
        "\n",
        " Enthalpy = 1211.19  Btu/lb\n",
        "\n",
        " Entropy  = 1.5594 units/lb\n",
        "\n",
        " Temperature = 401.9  F\n",
        "\n",
        " Density = 0.427  lb/cu ft\n"
       ]
      }
     ],
     "prompt_number": 5
    },
    {
     "cell_type": "heading",
     "level": 2,
     "metadata": {},
     "source": [
      "Example 6 - Pg 197"
     ]
    },
    {
     "cell_type": "code",
     "collapsed": false,
     "input": [
      "#calculate the exit temperature\n",
      "#Initialization of variables\n",
      "%pylab inline\n",
      "import matplotlib\n",
      "from matplotlib import pyplot\n",
      "import math\n",
      "p1=40. #psia\n",
      "t1=80. #F\n",
      "p2=30. #psia\n",
      "ar=0.5 #sq ft\n",
      "v1=200. #ft/s\n",
      "R=53.35\n",
      "cp=0.24\n",
      "g=32.17\n",
      "J=778.\n",
      "#calculations\n",
      "rho1=144*p1/(R*(t1+460))\n",
      "G=rho1*v1\n",
      "h10= cp*t1 + p1*p1 /(2*g*rho1*rho1 *J)\n",
      "t2=78 #F\n",
      "h2=cp*t2\n",
      "g2=h10-h2\n",
      "rho2=math.sqrt(p1*p1 /(2*g*g2*J))\n",
      "P2=rho2*R*(t2+460)/144. \n",
      "ds2=cp*math.log((t2+460.)/(t1+460.)) - R/J *math.log(P2/p1)\n",
      "t3=77 #F\n",
      "h3=cp*t3\n",
      "g3=h10-h3\n",
      "rho3=math.sqrt(p1*p1 /(2*g*g3*J))\n",
      "P3=rho3*R*(t3+460)/144. \n",
      "ds3=cp*math.log((t3+460.)/(t1+460.)) - R/J *math.log(P3/p1)\n",
      "t4=79 #F\n",
      "h4=cp*t4\n",
      "g4=h10-h4\n",
      "rho4=math.sqrt(p1*p1 /(2*g*g4*J))\n",
      "P4=rho4*R*(t4+460)/144. \n",
      "ds4=cp*math.log((t4+460)/(t1+460.)) - R/J *math.log(P4/p1)\n",
      "h5=18.62\n",
      "t5=h5/cp\n",
      "Gv=([h4, h2, h3])\n",
      "Pv=([P4, P2, P3])\n",
      "Sv=([ds4, ds2, ds3])\n",
      "pyplot.figure(1)\n",
      "pyplot.title(\"Fanno line diagram , Enthalpy vs Entropy\")\n",
      "pyplot.xlabel(\"Entropy\")\n",
      "pyplot.ylabel(\"Enthalpy Btu/lb\")\n",
      "pyplot.plot(Sv,Gv)\n",
      "\n",
      "pyplot.figure(2)\n",
      "pyplot.title(\"Fanno line diagram , Pressure vs Entropy\")\n",
      "pyplot.xlabel(\"Entropy\")\n",
      "pyplot.ylabel(\"Pressure psia\")\n",
      "pyplot.plot(Sv,Pv)\n",
      "warn=False\n",
      "#results\n",
      "print '%s %.1f %s' %(\"Temperature at exit =\",t5,\" F\")\n"
     ],
     "language": "python",
     "metadata": {},
     "outputs": [
      {
       "output_type": "stream",
       "stream": "stdout",
       "text": [
        "Populating the interactive namespace from numpy and matplotlib\n",
        "Temperature at exit = 77.6  F"
       ]
      },
      {
       "output_type": "stream",
       "stream": "stdout",
       "text": [
        "\n"
       ]
      },
      {
       "metadata": {},
       "output_type": "display_data",
       "png": "[encoded data removed]",
       "text": [
        "<matplotlib.figure.Figure at 0x54be390>"
       ]
      },
      {
       "metadata": {},
       "output_type": "display_data",
       "png": "[encoded data removed]",
       "text": [
        "<matplotlib.figure.Figure at 0x55ca1b0>"
       ]
      }
     ],
     "prompt_number": 1
    },
    {
     "cell_type": "heading",
     "level": 2,
     "metadata": {},
     "source": [
      "Example 7 - Pg 199"
     ]
    },
    {
     "cell_type": "code",
     "collapsed": false,
     "input": [
      "#calculate the velocity required\n",
      "#Initialization of variables\n",
      "p1=40 #psia\n",
      "t1=80. #F\n",
      "p2=30 #psia\n",
      "ar=0.5 #sq ft\n",
      "v1=200 #ft/s\n",
      "R=53.35\n",
      "cp=0.24\n",
      "g=32.17\n",
      "J=778.\n",
      "t2=78. #F\n",
      "#calculations\n",
      "G=40 #lb/sq ft/sec\n",
      "rho2=144*p2/(R*(t2+460.))\n",
      "v2=p1/rho2\n",
      "#results\n",
      "print '%s %d %s' %(\"Velocity =\",v2,\"ft/s\")\n"
     ],
     "language": "python",
     "metadata": {},
     "outputs": [
      {
       "output_type": "stream",
       "stream": "stdout",
       "text": [
        "Velocity = 265 ft/s\n"
       ]
      }
     ],
     "prompt_number": 18
    },
    {
     "cell_type": "heading",
     "level": 2,
     "metadata": {},
     "source": [
      "Example 8 - Pg 206"
     ]
    },
    {
     "cell_type": "code",
     "collapsed": false,
     "input": [
      "#calculate the velocity, diameter, specific volume, density and diameter of nozzle\n",
      "#Initialization of variables\n",
      "%pylab inline\n",
      "import math\n",
      "import numpy\n",
      "import matplotlib\n",
      "from matplotlib import pyplot\n",
      "P2=([180., 160., 140., 120., 100., 80., 60., 40., 20.])\n",
      "k=1.4\n",
      "p1=200 #psia\n",
      "t1=240+460. #R\n",
      "cp=0.24\n",
      "J=778.\n",
      "gc=32.2\n",
      "R=53.35\n",
      "m=4. #lb/sec\n",
      "#calculations\n",
      "b = len(P2)\n",
      "pr=numpy.zeros(b);\n",
      "prr=numpy.zeros(b);\n",
      "T2=numpy.zeros(b);\n",
      "dt=numpy.zeros(b);\n",
      "dh=numpy.zeros(b);\n",
      "v2=numpy.zeros(b);\n",
      "vol=numpy.zeros(b);\n",
      "A2=numpy.zeros(b);\n",
      "dia=numpy.zeros(b);\n",
      "rad=numpy.zeros(b);\n",
      "den=numpy.zeros(b);\n",
      "for i in range (0,b):\n",
      "\tpr[i] = p1/P2[i]\n",
      "\tprr[i]=math.pow(pr[i],((k-1)/k))\n",
      "\tT2[i]=t1 /prr[i]\n",
      "\tdt[i]= t1 -T2[i]\n",
      "\tdh[i]=dt[i]*cp\n",
      "\tv2[i]=math.sqrt(2*gc*J*dh[i])\n",
      "\tvol[i]=(R*T2[i]) /(P2[i]*144.)\n",
      "\tA2[i]=m*vol[i]*144. /v2[i]\n",
      "\tdia[i]=math.sqrt(4/ math.pi *A2[i])\n",
      "\trad[i]=dia[i]/2.\n",
      "\tden[i]=1. /vol[i]\n",
      "\n",
      "pyplot.figure(1)\n",
      "pyplot.title ('Velocity vs pressure')\n",
      "pyplot.xlabel('Pressure in psia')\n",
      "pyplot.ylabel('velocity in ft/s')\n",
      "pyplot.plot(P2,v2)\n",
      "\n",
      "pyplot.figure(2)\n",
      "pyplot.title('specific volume vs pressure')\n",
      "pyplot.xlabel('Pressure in psia')\n",
      "pyplot.ylabel('specific volume in cu ft/lb')\n",
      "pyplot.plot(P2,vol)\n",
      "\n",
      "pyplot.figure(3)\n",
      "pyplot.title('Radius vs Pressure')\n",
      "pyplot.xlabel('Pressure in psia')\n",
      "pyplot.ylabel('Radius in in')\n",
      "plot(P2,rad)\n",
      "#results\n",
      "print '%s' %('Velocity in ft/s')\n",
      "print (v2)\n",
      "print '%s' %('Specific volume in cu ft/lb')\n",
      "print (vol)\n",
      "print '%s' %('Density in lb/cu ft')\n",
      "print (den)\n",
      "print '%s' %('Diameter of nozzle in in')\n",
      "print (dia)\n"
     ],
     "language": "python",
     "metadata": {},
     "outputs": [
      {
       "output_type": "stream",
       "stream": "stdout",
       "text": [
        "Populating the interactive namespace from numpy and matplotlib\n",
        "Velocity in ft/s"
       ]
      },
      {
       "output_type": "stream",
       "stream": "stdout",
       "text": [
        "\n",
        "[  499.61112617   721.04131991   903.0653517   1069.14361272  1229.75524527\n",
        "  1392.40468067  1565.24666139  1761.46433404  2014.34825773]\n",
        "Specific volume in cu ft/lb\n",
        "[ 1.39805384  1.52076257  1.6729549   1.86768387  2.12745999  2.4950706\n",
        "  3.06425423  4.09358926  6.71623201]\n",
        "Density in lb/cu ft\n",
        "[ 0.71528003  0.65756484  0.59774475  0.53542252  0.47004409  0.40079026\n",
        "  0.32634368  0.2442844   0.14889301]\n",
        "Diameter of nozzle in in\n",
        "[ 1.43255795  1.24370371  1.16559809  1.1318789   1.12638708  1.14637045\n",
        "  1.19822204  1.30551392  1.56373036]\n"
       ]
      },
      {
       "metadata": {},
       "output_type": "display_data",
       "png": "[encoded data removed]",
       "text": [
        "<matplotlib.figure.Figure at 0x7b96290>"
       ]
      },
      {
       "metadata": {},
       "output_type": "display_data",
       "png": "[encoded data removed]",
       "text": [
        "<matplotlib.figure.Figure at 0x5d968d0>"
       ]
      },
      {
       "metadata": {},
       "output_type": "display_data",
       "png": "[encoded data removed]",
       "text": [
        "<matplotlib.figure.Figure at 0x5d7e810>"
       ]
      }
     ],
     "prompt_number": 17
    },
    {
     "cell_type": "heading",
     "level": 2,
     "metadata": {},
     "source": [
      "Example 9 - Pg 210"
     ]
    },
    {
     "cell_type": "code",
     "collapsed": false,
     "input": [
      "#calcualte the nozzle exit area\n",
      "#Initialization of variables\n",
      "import math\n",
      "p1=200. #psia\n",
      "t1=480. #F\n",
      "eff=0.95\n",
      "g=32.2 #ft/s^2\n",
      "J=778.\n",
      "mf=3.4 #lb/s\n",
      "#calculations\n",
      "print '%s' %(\"From steam tables,\")\n",
      "h1=1257.8 \n",
      "h2=1210.5 \n",
      "dh=eff*(h1-h2)\n",
      "ve=math.sqrt(2*g*J*dh)\n",
      "h3=h1-dh\n",
      "vs=3.961\n",
      "Ae=mf*vs/ve *144.\n",
      "#results\n",
      "print '%s %.3f %s' %(\"Nozzle exit area =\",Ae,\"sq.in\")\n"
     ],
     "language": "python",
     "metadata": {},
     "outputs": [
      {
       "output_type": "stream",
       "stream": "stdout",
       "text": [
        "From steam tables,\n",
        "Nozzle exit area = 1.292 sq.in\n"
       ]
      }
     ],
     "prompt_number": 19
    },
    {
     "cell_type": "heading",
     "level": 2,
     "metadata": {},
     "source": [
      "Example 10 - Pg 216"
     ]
    },
    {
     "cell_type": "code",
     "collapsed": false,
     "input": [
      "#calculate the final temperature, pressure and exit velocity in both cases\n",
      "#Initialization of variables\n",
      "import math\n",
      "import numpy\n",
      "from numpy import roots\n",
      "R=53.35\n",
      "v=300. #ft/s\n",
      "p=100 #psia\n",
      "t1=200 #F\n",
      "q=500 #Btu/s\n",
      "gc=32.2 #ft/s^2\n",
      "J=778\n",
      "#calculations\n",
      "rho1=p*144/(R*(460.+t1))\n",
      "s=([1., -0.206, 0.00535])\n",
      "vec=numpy.roots(s)\n",
      "rho2=vec[0]\n",
      "t2=(236.6 - 0.301/rho2/rho2)/0.248\n",
      "P2=rho2*R*(t2+462) /144.\n",
      "v2=math.sqrt(2*gc*J*(236.6-0.248*t2))\n",
      "v22=rho1*v/rho2\n",
      "#results\n",
      "print '%s %.1f %s' %(\"Final temperature =\",t2,\" F\")\n",
      "print '%s %.1f %s' %(\"\\n Final pressure =\",P2,\" psia\")\n",
      "print '%s %.1f %s' %(\"\\n Exit velocity in case 1 =\",v2,\"ft/s\")\n",
      "print '%s %.1f %s' %(\"\\n Exit velocity in case 2 =\",v22,\" ft/s\")\n"
     ],
     "language": "python",
     "metadata": {},
     "outputs": [
      {
       "output_type": "stream",
       "stream": "stdout",
       "text": [
        "Final temperature = 914.6  F\n",
        "\n",
        " Final pressure = 89.5  psia\n",
        "\n",
        " Exit velocity in case 1 = 699.7 ft/s\n",
        "\n",
        " Exit velocity in case 2 = 699.0  ft/s\n"
       ]
      }
     ],
     "prompt_number": 20
    }
   ],
   "metadata": {}
  }
 ]
}