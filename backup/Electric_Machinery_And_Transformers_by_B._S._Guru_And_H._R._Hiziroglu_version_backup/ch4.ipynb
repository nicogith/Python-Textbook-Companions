{
 "metadata": {
  "name": "",
  "signature": "sha256:70c168484e144a1a119de202b1381e79ae43070d50ed5cd74f8ebb26fbefdfa1"
 },
 "nbformat": 3,
 "nbformat_minor": 0,
 "worksheets": [
  {
   "cells": [
    {
     "cell_type": "heading",
     "level": 1,
     "metadata": {},
     "source": [
      "Chapter 4: Transformers"
     ]
    },
    {
     "cell_type": "heading",
     "level": 2,
     "metadata": {},
     "source": [
      "Example 4.1, Page 210"
     ]
    },
    {
     "cell_type": "code",
     "collapsed": false,
     "input": [
      "#Variable declaration\n",
      "Nab = 200   #flux between points a and b\n",
      "Ncd = 500   #flux between points c and d\n",
      "\n",
      " \n",
      "#Calculations&Results\n",
      "#From 0 to 0.06s\n",
      "do_by_dt_1 = 0.15         #rate of change of flux\n",
      "e_ab_1 = -Nab*do_by_dt_1  #V\n",
      "e_cd_1 = Ncd*do_by_dt_1   #V\n",
      "print \"Part a: Induced emf's are %d V and %d V\"%(e_ab_1,e_cd_1) \n",
      "\n",
      "#From 0.06 to 0.1s\n",
      "do_by_dt_2 = -0.45         #rate of change of flux\n",
      "e_ab_2 = -Nab*do_by_dt_2  #V\n",
      "e_cd_2 = Ncd*do_by_dt_2   #V\n",
      "print \"Part b: Induced emf's are %d V and %d V\"%(e_ab_2,e_cd_2) "
     ],
     "language": "python",
     "metadata": {},
     "outputs": [
      {
       "output_type": "stream",
       "stream": "stdout",
       "text": [
        "Part a: Induced emf's are -30 V and 75 V\n",
        "Part b: Induced emf's are 90 V and -225 V\n"
       ]
      }
     ],
     "prompt_number": 1
    },
    {
     "cell_type": "heading",
     "level": 2,
     "metadata": {},
     "source": [
      "Example 4.2, Page 212"
     ]
    },
    {
     "cell_type": "code",
     "collapsed": false,
     "input": [
      "#Variable declaration\n",
      "N_p=150.;#no. of turns in primary winding\n",
      "N_s=750;#no. of turns in secondary winding\n",
      "f=50;#frequency in Hz\n",
      "I_2=4;#loa.d current (in Amperes)\n",
      "V_1=240;#voltage on primary side (in Volts)\n",
      "pf=0.8;#power factor\n",
      "\n",
      "#Calculations&Results\n",
      "a=N_p/N_s;\n",
      "print '(a) a-ratio=%.1f'%a\n",
      "I_1=I_2/a;\n",
      "print '(b) current in primary (in Amperes)=%.f'%I_1\n",
      "V_2=V_1/a;\n",
      "print '(c) voltage on secondary side (in Volts)=%.f'%V_2\n",
      "P_L=V_2*I_2*pf;\n",
      "print '(d) power supplied to the load (in Watts)=%.f'%P_L\n",
      "flux=V_1/(4.44*f*N_p);\n",
      "print '(e) flux in the core (in mili-Weber)=%.2f'%(flux*10**3)"
     ],
     "language": "python",
     "metadata": {},
     "outputs": [
      {
       "output_type": "stream",
       "stream": "stdout",
       "text": [
        "(a) a-ratio=0.2\n",
        "(b) current in primary (in Amperes)=20\n",
        "(c) voltage on secondary side (in Volts)=1200\n",
        "(d) power supplied to the load (in Watts)=3840\n",
        "(e) flux in the core (in mili-Weber)=7.21\n"
       ]
      }
     ],
     "prompt_number": 7
    },
    {
     "cell_type": "heading",
     "level": 2,
     "metadata": {},
     "source": [
      "Example 4.3, Page 215"
     ]
    },
    {
     "cell_type": "code",
     "collapsed": false,
     "input": [
      "import math\n",
      "\n",
      "#Variable declaration\n",
      "R_1=4;#in ohms\n",
      "R_2=0.04;#in ohms\n",
      "X_1=12;#in ohms\n",
      "X_2=0.12;#in ohms\n",
      "pf=0.866;#power factor\n",
      "V_p=2300;#primary voltage in volts\n",
      "V_s=230;#Secondary voltage in volts\n",
      "S=23000;#VA \n",
      "theta=math.acos(pf);\n",
      "\n",
      "#Calculations\n",
      "I_2=complex((S*0.75/V_s)*(math.cos(theta)),math.sin(theta));#secondary current (in Amperes)\n",
      "Z_2=complex(R_2,X_2);#secondary winding impedance (in ohms)\n",
      "E_2=V_s+I_2*Z_2;#induced emf in secondary winding (in Volts)\n",
      "a=V_p/V_s;#transformation ratio\n",
      "E_1=a*E_2;#induced emf in primary winding (in Volts)\n",
      "I_1=I_2/a;#current in primary winding\n",
      "Z_1=complex(R_1,X_1);#primary winding impedance (in ohms)\n",
      "V_1=E_1+I_1*Z_1;#source voltage\n",
      "P_o=(V_s*I_2.conjugate());#output power(in Watts)\n",
      "P_in=(V_1*I_1.conjugate());#input power\n",
      "Eff=P_o.real/P_in.real;\n",
      "\n",
      "#Result\n",
      "print 'Efficiency (%%)=%.1f'%(Eff*100)\n",
      "#answer differs due to rounding-off errors"
     ],
     "language": "python",
     "metadata": {},
     "outputs": [
      {
       "output_type": "stream",
       "stream": "stdout",
       "text": [
        "Efficiency (%)=97.8\n"
       ]
      }
     ],
     "prompt_number": 17
    },
    {
     "cell_type": "heading",
     "level": 2,
     "metadata": {},
     "source": [
      "Example 4.4, Page 219"
     ]
    },
    {
     "cell_type": "code",
     "collapsed": false,
     "input": [
      "import math\n",
      "import cmath\n",
      "\n",
      "#Variable declaration\n",
      "#From Exa:4.3\n",
      "V_2=230.;#in Volts\n",
      "\n",
      "#Calculations\n",
      "Z_1=complex(4,12);\n",
      "I_s=complex(75*(math.cos(30*math.pi/180)),75*math.sin(30*math.pi/180));#in Amperes\n",
      "a=10;#transformation ratio\n",
      "E_1=complex(2282.87*(math.cos(2.33*math.pi/180)),2282.87*math.sin(2.33*math.pi/180));#in Volts\n",
      "E_2=complex(228.287*(math.cos(2.33)*math.pi/180),228.287*math.sin(2.33*math.pi/180));#in Volts\n",
      "I_p=complex(7.5*(math.cos(30*math.pi/180)),7.5*math.sin(30*math.pi/180));#in Amperes\n",
      "P_o=14938.94;#in Watts\n",
      "R_c1=20000;#core loss resistance on primary side\n",
      "X_m1=15000;#magnetizing reactance on primary side\n",
      "I_c=E_1/R_c1;#in Amperes\n",
      "I_m=E_1/complex(0,X_m1);#in Amperes\n",
      "I_phy=I_c+I_m;#in Amperes\n",
      "I_1=I_p+I_phy;#in Amperes\n",
      "V_1=E_1+Z_1*I_1;#in Volts\n",
      "P_in=(V_1*I_1.conjugate());#in Watts\n",
      "Eff=P_o/P_in.real;\n",
      "\n",
      "#Result\n",
      "print 'Efficiency (%%)=%.1f'%(Eff*100)"
     ],
     "language": "python",
     "metadata": {},
     "outputs": [
      {
       "output_type": "stream",
       "stream": "stdout",
       "text": [
        "Efficiency (%)=95.5\n"
       ]
      }
     ],
     "prompt_number": 50
    },
    {
     "cell_type": "heading",
     "level": 2,
     "metadata": {},
     "source": [
      "Example 4.5, Page 224"
     ]
    },
    {
     "cell_type": "code",
     "collapsed": false,
     "input": [
      "import math\n",
      "\n",
      "#Variable declaration\n",
      "#Values from examples 4.3 & 4.4\n",
      "a = 10.\n",
      "R1 = 4.     #ohms\n",
      "X1 = 12.    #ohms\n",
      "R2 = 0.04  #ohms\n",
      "X2 = 0.12  #ohms\n",
      "V2 = a*230*complex(math.cos(0*math.pi/180),math.sin(0*math.pi/180))\n",
      "Ip = 7.5*complex(math.cos(30*math.pi/180),math.sin(30*math.pi/180))\n",
      "\n",
      "\n",
      "#Calculations&Results\n",
      "R_e1 =R1+(a**2*R2)   #ohms\n",
      "X_e1 = X1+(a**2*X2)  #ohms\n",
      "Z_e1 = complex(R_e1,X_e1) #ohms\n",
      "V1 = V2+(Ip*Z_e1)       #V\n",
      "Ie = V1/20000           #A\n",
      "Im = V1/complex(0,15000)#A\n",
      "I1 = Ip+Ie+Im           #A\n",
      "Po = V2*complex(7.5*math.cos(-30*math.pi/180),7.5*math.sin(-30*math.pi/180))              #W\n",
      "Pin = V1*complex(7.54*math.cos(-28.6*math.pi/180),7.54*math.sin(-28.6*math.pi/180))             #W\n",
      "N = Po/Pin\n",
      "\n",
      "#Result\n",
      "print \"Efficiency = %.2f %%\"%(N.real*100)\n",
      "#Incorrect solution in textbook"
     ],
     "language": "python",
     "metadata": {},
     "outputs": [
      {
       "output_type": "stream",
       "stream": "stdout",
       "text": [
        "Efficiency = 100.23 %\n"
       ]
      }
     ],
     "prompt_number": 53
    },
    {
     "cell_type": "heading",
     "level": 2,
     "metadata": {},
     "source": [
      "Example 4.6, Page 226"
     ]
    },
    {
     "cell_type": "code",
     "collapsed": false,
     "input": [
      "import math\n",
      "\n",
      "#Variable declaration\n",
      "S=2200;#Volt-Ampere\n",
      "V_s=220;#secondary side voltage (in Volts)\n",
      "V_2=V_s;\n",
      "V_p=440;#primary side voltage (in Volts)\n",
      "R_e1=3;#in ohms\n",
      "X_e1=4;#in ohms\n",
      "R_c1=2.5*1000;#in ohms\n",
      "X_m1=2000;#in ohms\n",
      "\n",
      "#Calculations\n",
      "a=V_p/V_2;#transformation ratio\n",
      "pf=0.707;#lagging power factor\n",
      "theta=-math.acos(pf);\n",
      "I_2=(S/V_2)*complex(math.cos(theta),math.sin(theta));#(in Amperes)\n",
      "#Refer to equivalent circuit (fig:4.16)\n",
      "I_p=I_2/a;#in Amperes\n",
      "V_2p=a*V_2;\n",
      "V_1=V_2p+I_p*complex(R_e1,X_e1);\n",
      "I_c=V_1/R_c1;#core loss current (in Amperes)\n",
      "I_m=V_1/complex(0,X_m1);\n",
      "I_1=I_p+I_c+I_m;#current supplied by source (in Amperes)\n",
      "P_o=V_p*I_p.conjugate();#output power (in Watts)\n",
      "P_in=V_1*I_1.conjugate();#input power (in Watts)\n",
      "Eff=P_o.real/P_in.real;#Efficiency\n",
      "VR=(abs(V_1)-abs(V_p))/V_p;\n",
      "\n",
      "#Results\n",
      "print 'Efficiency (%%)=%.1f'%(Eff*100)\n",
      "print 'voltage regulation (%%)=%.2f'%(VR*100)"
     ],
     "language": "python",
     "metadata": {},
     "outputs": [
      {
       "output_type": "stream",
       "stream": "stdout",
       "text": [
        "Efficiency (%)=90.6\n",
        "voltage regulation (%)=5.63\n"
       ]
      }
     ],
     "prompt_number": 57
    },
    {
     "cell_type": "heading",
     "level": 2,
     "metadata": {},
     "source": [
      "Example 4.7, Page 230"
     ]
    },
    {
     "cell_type": "code",
     "collapsed": false,
     "input": [
      "import math\n",
      "\n",
      "#Variable declaration\n",
      "S=120000;#Volt-Ampere\n",
      "V_p=2400;#in volts\n",
      "V_s=240;#in volts\n",
      "R_1=0.75;#in ohms\n",
      "R_2=0.01;#in ohms\n",
      "X_1=0.8;#in ohms\n",
      "X_2=0.02;#in ohms\n",
      "pf=0.8;#lagging\n",
      "theta=-math.acos(pf);\n",
      "\n",
      "#Calculations&Results\n",
      "a=V_p/V_s;#transformation ratio\n",
      "I_p=S/V_p;#rated load current (in Amperes)\n",
      "I_p_eta=0.7*I_p;#load current at max efficiency\n",
      "KVA=I_p_eta*V_p/1000;\n",
      "print '(a) KVA rating at max efficiency =%.f'%KVA\n",
      "P_cu_eta=I_p_eta**2*(R_1+a**2*R_2);#copper loss (in Watts)\n",
      "P_m=P_cu_eta;#core loss\n",
      "P_o=V_p*I_p_eta*pf;#power output at max efficiency\n",
      "P_in=P_o+P_m+P_cu_eta;#power input at max efficiency\n",
      "eta=P_o/P_in;\n",
      "print '(b) max efficiency (%%)=%.f'%(eta*100)\n",
      "P_o_FL=V_p*I_p*pf;#power output at full load\n",
      "P_cu_FL=I_p**2*(R_1+a**2*R_2);#copper loss at full load\n",
      "P_in_FL=P_cu_FL+P_o_FL+P_m;\n",
      "Eff=P_o_FL/P_in_FL;\n",
      "print '(c) Efficiency at full load (%%)=%.1f'%(Eff*100)\n",
      "R_c1=V_p**2/P_cu_eta;\n",
      "print '(d) equivalent core resistance (in ohms)=%.2f'%R_c1"
     ],
     "language": "python",
     "metadata": {},
     "outputs": [
      {
       "output_type": "stream",
       "stream": "stdout",
       "text": [
        "(a) KVA rating at max efficiency =84\n",
        "(b) max efficiency (%)=94\n",
        "(c) Efficiency at full load (%)=93.6\n",
        "(d) equivalent core resistance (in ohms)=2686.88\n"
       ]
      }
     ],
     "prompt_number": 60
    },
    {
     "cell_type": "heading",
     "level": 2,
     "metadata": {},
     "source": [
      "Example 4.8, Page 236"
     ]
    },
    {
     "cell_type": "code",
     "collapsed": false,
     "input": [
      "import math\n",
      "\n",
      "#Varible declaration\n",
      "#Open circuit test\n",
      "Voc = 240.  #V\n",
      "Ioc = 2.    #A\n",
      "Poc = 120.  #W\n",
      "#Short circuit test\n",
      "Vsc = 150.  #V\n",
      "Isc = 10.   #A\n",
      "Psc = 600.  #W\n",
      "\n",
      "#Calculations\n",
      "Rcl = Voc**2/Poc  #ohms\n",
      "Soc = Voc*Ioc     #apparent power under no load,ohms\n",
      "Qoc = math.sqrt(Soc**2-Poc**2)  #reactive power,VAR\n",
      "Xml = Voc**2/Qoc        #magnetization reactance,ohms\n",
      "a = 4800./240\n",
      "Rch = a**2*Rcl  #ohms\n",
      "Xmh = a**2*Xml  #ohms\n",
      "Reh = Psc/Isc**2\n",
      "Zeh = Vsc/Isc\n",
      "Xeh = math.sqrt(Zeh**2-Reh**2)\n",
      "#Winding parameters to the low-voltage side\n",
      "Rel = Reh/a**2\n",
      "Xel = Xeh/a**2\n",
      "\n",
      "#values for equivelent circuit\n",
      "Rh = 0.5*Reh  #ohms\n",
      "Xh = 0.5*Xeh  #ohms\n",
      "Rl = (0.5*Reh)/a**2 #ohms\n",
      "Xl = (0.5*Xeh)/a**2 #ohms\n",
      "\n",
      "#Results\n",
      "print \"For the equivalent circuit\"\n",
      "print \"The winding resistances are %d ohms and %.1f milli-ohms\"%(Rh,Rl*10**3)\n",
      "print \"The leakage reactances are %.2f ohms and %d milli-ohms\"%(Xh,Xl*10**3)\n"
     ],
     "language": "python",
     "metadata": {},
     "outputs": [
      {
       "output_type": "stream",
       "stream": "stdout",
       "text": [
        "For the equivalent circuit\n",
        "The winding resistances are 3 ohms and 7.5 milli-ohms\n",
        "The leakage reactances are 6.87 ohms and 17 milli-ohms\n"
       ]
      }
     ],
     "prompt_number": 61
    },
    {
     "cell_type": "heading",
     "level": 2,
     "metadata": {},
     "source": [
      "Example 4.9, Page 240"
     ]
    },
    {
     "cell_type": "code",
     "collapsed": false,
     "input": [
      "import math\n",
      "\n",
      "#Variable declaration\n",
      "#Refer to fig:4.29\n",
      "#For region A\n",
      "V_bA=230.;#in Volts\n",
      "S_bA=46000.;#Volt-Ampere\n",
      "\n",
      "#Calculations&Results\n",
      "I_bA=S_bA/V_bA;#in Amperes\n",
      "Z_bA=V_bA/I_bA;#in ohms\n",
      "Z_g_pu=complex(0.023,0.092)/Z_bA;\n",
      "R_L_pu=0.023/Z_bA;\n",
      "X_L_pu=0.069/Z_bA;\n",
      "#For region B\n",
      "#Per unit parameters on high-voltage side of the step-up transformer\n",
      "V_bB=2300.;#in Volts\n",
      "S_bB=46000.;#Volt-Ampere\n",
      "I_bB=S_bB/V_bB;#in Amperes\n",
      "Z_bB=V_bB/I_bB;#in ohms\n",
      "R_H_pu=2.3/Z_bB;\n",
      "X_H_pu=6.9/Z_bB;\n",
      "R_cH_pu1=13800./Z_bB;\n",
      "X_mH_pu1=6900./Z_bB;\n",
      "Z_l_pu=complex(2.07,4.14)/Z_bB;#Per-unit impedance of transmission line\n",
      "#Per unit parameters on high-voltage side of the step-down transformer\n",
      "X_mH_pu2=9200./Z_bB;\n",
      "R_cH_pu2=11500./Z_bB;\n",
      "#For region C\n",
      "V_bC=115.;#in Volts\n",
      "S_bC=46000.;#Volt-Ampere\n",
      "I_bC=S_bC/V_bC;#in Amperes\n",
      "Z_bC=V_bC/I_bC;#in ohms\n",
      "R_L_pu=0.00575/Z_bC;\n",
      "X_L_pu=0.01725/Z_bC;\n",
      "V_L_pu=complex(1*math.cos(0*math.pi/180),1*math.sin(0*math.pi/180));\n",
      "I_L_pu=complex(1*math.cos(-30*math.pi/180),1*math.sin(-30*math.pi/180));\n",
      "E_l_pu=V_L_pu+complex(R_L_pu,X_L_pu)*I_L_pu;\n",
      "I_l_pu=I_L_pu+E_l_pu*complex(0.01,(1./80));\n",
      "E_g_pu=E_l_pu+I_l_pu*(complex(0.02,0.06)+complex(0.018,0.036)+complex(0.02,0.06));\n",
      "I_g_pu=I_l_pu+E_g_pu*complex((1./120),(1./60));\n",
      "V_g_pu=E_g_pu+I_g_pu*(complex((0.02+0.02),(0.08+0.06)));\n",
      "V_g=V_bA*V_g_pu;\n",
      "print '(a) Generator Voltage (in Volts)=%.2f'%(abs(V_g))\n",
      "print 'Phase of generated voltage (in degree)=%.2f'%(math.degrees(math.atan(V_g.imag/V_g.real)))\n",
      "I_g=I_bA*I_g_pu;\n",
      "print '(b) Generator current (in Amperes)=%.2f'%(abs(I_g))\n",
      "print 'Phase of generator current (in degree)=%.2f'%(math.degrees(math.atan(I_g.imag/I_g.real)))\n",
      "P_o_pu=0.866;#rated power output at pf=0.866 lagging\n",
      "P_in_pu=V_g_pu*I_g_pu.conjugate();\n",
      "Eff=P_o_pu/P_in_pu.real;\n",
      "print '(c) Efficiency (%%)=%.2f'%(Eff*100)\n",
      "#Answers vary due to rounding-off errors"
     ],
     "language": "python",
     "metadata": {},
     "outputs": [
      {
       "output_type": "stream",
       "stream": "stdout",
       "text": [
        "(a) Generator Voltage (in Volts)=298.97\n",
        "Phase of generated voltage (in degree)=11.33\n",
        "(b) Generator current (in Amperes)=199.70\n",
        "Phase of generator current (in degree)=-27.80\n",
        "(c) Efficiency (%)=86.02\n"
       ]
      }
     ],
     "prompt_number": 1
    },
    {
     "cell_type": "heading",
     "level": 2,
     "metadata": {},
     "source": [
      "Example 4.10, Page 247"
     ]
    },
    {
     "cell_type": "code",
     "collapsed": false,
     "input": [
      "#Variable declaration\n",
      "V_1=2400.;#in Volts\n",
      "V_2=240.;#in Volts\n",
      "S_o=24.*1000;#Volt-Ampere\n",
      "I_1=10.;#in Amperes\n",
      "I_2=100.;#in Amperes\n",
      "#Refer to fig:4.31 (a)\n",
      "\n",
      "#Calculations\n",
      "V_1a=V_1+V_2;\n",
      "V_2a=V_2;\n",
      "a_T1=V_1a/V_2a;\n",
      "a_T2=V_2a/V_1a;\n",
      "a_T3=V_1a/V_1;\n",
      "a_T4=V_1/V_1a;\n",
      "S_oa_1=V_1a*I_1;\n",
      "S_oa_2=V_1a*I_1;\n",
      "S_oa_3=V_1a*I_2;\n",
      "S_oa_4=V_1a*I_2;\n",
      "\n",
      "#Results\n",
      "print 'Refer to fig:4.31a'\n",
      "print '(a) primary winding voltage (in Volts)=%.f'%V_1a\n",
      "print '(b) secondary winding voltage (in Volts)=%.f'%V_2a\n",
      "print '(c) ratio of transformation=%.f'%a_T1\n",
      "print '(d) nominal rating of transformer (KVA)=%.1f'%(S_oa_1/1000)\n",
      "print 'Refer to fig:4.31b'\n",
      "print '(a) primary winding voltage (in Volts)=%.f'%V_2a\n",
      "print '(b) secondary winding voltage (in Volts)=%.f'%V_1a\n",
      "print '(c) ratio of transformation=%.3f'%a_T2\n",
      "print '(d) nominal rating of transformer (KVA)=%.1f'%(S_oa_2/1000)\n",
      "print 'Refer to fig:4.31c'\n",
      "print '(a) primary winding voltage (in Volts)=%.f'%V_1a\n",
      "print '(b) secondary winding voltage (in Volts)=%.f'%V_1\n",
      "print '(c) ratio of transformation=%.1f'%a_T3\n",
      "print '(d) nominal rating of transformer (KVA)=%.f'%(S_oa_3/1000)\n",
      "print 'Refer to fig:4.31d'\n",
      "print '(a) primary winding voltage (in Volts)=%.f'%V_1\n",
      "print '(b) secondary winding voltage (in Volts)=%.f'%V_1a\n",
      "print '(c) ratio of transformation=%.2f'%a_T4\n",
      "print '(d) nominal rating of transformer (KVA)=%.f'%(S_oa_4/1000)"
     ],
     "language": "python",
     "metadata": {},
     "outputs": [
      {
       "output_type": "stream",
       "stream": "stdout",
       "text": [
        "Refer to fig:4.31a\n",
        "(a) primary winding voltage (in Volts)=2640\n",
        "(b) secondary winding voltage (in Volts)=240\n",
        "(c) ratio of transformation=11\n",
        "(d) nominal rating of transformer (KVA)=26.4\n",
        "Refer to fig:4.31b\n",
        "(a) primary winding voltage (in Volts)=240\n",
        "(b) secondary winding voltage (in Volts)=2640\n",
        "(c) ratio of transformation=0.091\n",
        "(d) nominal rating of transformer (KVA)=26.4\n",
        "Refer to fig:4.31c\n",
        "(a) primary winding voltage (in Volts)=2640\n",
        "(b) secondary winding voltage (in Volts)=2400\n",
        "(c) ratio of transformation=1.1\n",
        "(d) nominal rating of transformer (KVA)=264\n",
        "Refer to fig:4.31d\n",
        "(a) primary winding voltage (in Volts)=2400\n",
        "(b) secondary winding voltage (in Volts)=2640\n",
        "(c) ratio of transformation=0.91\n",
        "(d) nominal rating of transformer (KVA)=264\n"
       ]
      }
     ],
     "prompt_number": 2
    },
    {
     "cell_type": "heading",
     "level": 2,
     "metadata": {},
     "source": [
      "Example 4.11, Page 249"
     ]
    },
    {
     "cell_type": "code",
     "collapsed": false,
     "input": [
      "import math\n",
      "\n",
      "#Variable declaration\n",
      "V_2a=480.;#in volts\n",
      "pf=0.707;#leading\n",
      "theta=math.degrees(math.acos(pf))\n",
      "a_T=120./480;#ratio of transformation of step-up transformer\n",
      "a=360./120;#ratio of transformation of two-winding transformer\n",
      "R_cH=8.64*1000;#in ohms\n",
      "R_H=18.9;#in ohms\n",
      "X_H=21.6;#in ohms\n",
      "X_L=2.4;#in ohms\n",
      "R_L=2.1;#in ohms\n",
      "\n",
      "#Calculations\n",
      "X_mH=6.84*1000;#in ohms\n",
      "R_cL=R_cH/a**2;#equivalent core loss resistance in ohms\n",
      "X_mL=X_mH/a**2;#magnetizing reactance\n",
      "I_2a=(720./360)*complex(math.cos(theta*math.pi/180),math.sin(theta*math.pi/180));\n",
      "I_H=I_2a;\n",
      "I_pa=I_2a/a_T;\n",
      "I_com=I_pa-I_2a;#current through common winding (in Amperes)\n",
      "#on applying KVL to the output loop\n",
      "E_L=(I_2a*complex(R_H,X_H)+V_2a-I_com*complex(R_L,X_L))/4;\n",
      "V_1a=E_L+I_com*complex(R_L,X_L);\n",
      "I_ca=V_1a/R_cL;#core loss current in Amperes\n",
      "I_ma=V_1a/complex(0,X_mL);#magnetizing current in Amperes\n",
      "I_phy_a=I_ca+I_ma;#excitation current \n",
      "I_1a=I_pa+I_phy_a;\n",
      "P_o=V_2a*I_2a.conjugate();\n",
      "P_in=V_1a*I_1a.conjugate();\n",
      "Eff=P_o.real/P_in.real;\n",
      "V_2anL=V_1a/a_T;#no load voltage \n",
      "VR=(abs(V_2anL)-V_2a)/V_2a;\n",
      "\n",
      "#Result\n",
      "print 'Efficiency (%%)=%.1f'%(Eff*100)\n",
      "print 'Voltage regulation (%%)=%.2f'%(VR*100)"
     ],
     "language": "python",
     "metadata": {},
     "outputs": [
      {
       "output_type": "stream",
       "stream": "stdout",
       "text": [
        "Efficiency (%)=80.3\n",
        "Voltage regulation (%)=1.26\n"
       ]
      }
     ],
     "prompt_number": 3
    },
    {
     "cell_type": "heading",
     "level": 2,
     "metadata": {},
     "source": [
      "Example 4.12, Page 258"
     ]
    },
    {
     "cell_type": "code",
     "collapsed": false,
     "input": [
      "import math\n",
      "\n",
      "#Variable declaration\n",
      "VA = 720\n",
      "\n",
      "#Calculations&Results\n",
      "S_3phi = 3*VA*10**-3  #VA\n",
      "#For Y/Y connection\n",
      "V1l = math.sqrt(3)*360  #V\n",
      "V2l = math.sqrt(3)*120  #V\n",
      "print \"For Y/Y connection\\nThe nominal ratings are %.2f kVA and 624/%.f V\"%(S_3phi,V2l)\n",
      "\n",
      "#For delta/delta connection\n",
      "V1l = 300  #V\n",
      "V2l = 120  #V\n",
      "print \"\\nFor delta/delta connection\\nThe nominal values of line voltages are %.2f kVA and 360/%d V\"%(S_3phi,V2l)"
     ],
     "language": "python",
     "metadata": {},
     "outputs": [
      {
       "output_type": "stream",
       "stream": "stdout",
       "text": [
        "For Y/Y connection\n",
        "The nominal ratings are 2.16 kVA and 624/208 V\n",
        "\n",
        "For delta/delta connection\n",
        "The nominal values of line voltages are 2.16 kVA and 360/120 V\n"
       ]
      }
     ],
     "prompt_number": 4
    },
    {
     "cell_type": "heading",
     "level": 2,
     "metadata": {},
     "source": [
      "Example 4.13, Page 265"
     ]
    },
    {
     "cell_type": "code",
     "collapsed": false,
     "input": [
      "import math\n",
      "\n",
      "#Variable declaration\n",
      "R_H=133.5*10**-3;#in ohms\n",
      "X_H=201*10**-3;#in ohms\n",
      "R_L=39.5*10**-3;#in ohms\n",
      "X_L=61.5*10**-3;#in ohms\n",
      "R_cL=240;#in ohms\n",
      "X_mL=290;#in ohms\n",
      "pf=0.8;#lagging\n",
      "theta=-math.degrees(math.acos(pf));\n",
      "\n",
      "#Calculations&Results\n",
      "V_2n=138.564*complex(math.cos(0),math.sin(0));#rated load voltage for Y/Y connection\n",
      "I_2A=86.6*complex(math.cos(theta*math.pi/180),math.sin(theta*math.pi/180));#load current\n",
      "a=120/138.564;#transformation ratio\n",
      "I_pA=(I_2A/a)*complex(math.cos(30*math.pi/180),math.sin(30*math.pi/180));#per phase current in primary winding\n",
      "E_2n=V_2n+I_2A*complex(0.0445,0.067);#voltage induced in secondary winding\n",
      "E_2L=math.sqrt(3)*E_2n*complex(math.cos(30*math.pi/180),math.sin(30*math.pi/180));\n",
      "E_1n=a*E_2n*complex(math.cos(30*math.pi/180),math.sin(30*math.pi/180));#voltage induced in primary winding\n",
      "I_1A=I_pA+E_1n*complex((1./240),(1./290));\n",
      "print 'Line current in secondary side (in Amperes)=%.1f'%(abs(I_2A))\n",
      "print 'phase angle of induced line current in secondary (in Degree)=%.2f'%(math.degrees(math.atan(I_2A.imag/I_2A.real)))\n",
      "print 'Line current in primary side (in Amperes)=%.f'%(abs(I_1A))\n",
      "print 'phase angle of induced line current in primary (in Degree) =%.2f'%(math.degrees(math.atan(I_1A.imag/I_1A.real)))\n",
      "print 'Line voltage induced  in secondary side (in Volts)=%.1f'%(abs(E_2L))\n",
      "print 'phase angle of induced line voltage in secondary (in Degree)=%.2f'%(math.degrees(math.atan(E_2L.imag/E_2L.real)))\n",
      "V_1n=E_1n+I_1A*complex(R_L,X_L);\n",
      "V_1L=math.sqrt(3)*V_1n*complex(math.cos(30*math.pi/180),math.sin(30*math.pi/180));\n",
      "print 'Line voltage induced  in primary side (in Volts)=%.2f'%(abs(V_1L))\n",
      "print 'phase angle of induced line voltage  in primary (in Degree)=%.2f'%(math.degrees(math.atan(V_1L.imag/V_1L.real)))\n",
      "P_o=3*138.564*I_2A.conjugate()\n",
      "P_in=3*V_1n*I_1A.conjugate()\n",
      "Eff=P_o.real/P_in.real;\n",
      "print 'Efficiency (%%)=%.1f'%(Eff*100)"
     ],
     "language": "python",
     "metadata": {},
     "outputs": [
      {
       "output_type": "stream",
       "stream": "stdout",
       "text": [
        "Line current in secondary side (in Amperes)=86.6\n",
        "phase angle of induced line current in secondary (in Degree)=-36.87\n",
        "Line current in primary side (in Amperes)=100\n",
        "phase angle of induced line current in primary (in Degree) =-6.49\n",
        "Line voltage induced  in secondary side (in Volts)=251.4\n",
        "phase angle of induced line voltage in secondary (in Degree)=30.92\n",
        "Line voltage induced  in primary side (in Volts)=229.68\n",
        "phase angle of induced line voltage  in primary (in Degree)=62.00\n",
        "Efficiency (%)=92.3\n"
       ]
      }
     ],
     "prompt_number": 5
    },
    {
     "cell_type": "heading",
     "level": 2,
     "metadata": {},
     "source": [
      "Example 4.14, Page 272"
     ]
    },
    {
     "cell_type": "code",
     "collapsed": false,
     "input": [
      "#Variable declaration\n",
      "I_L=4*80/5;\n",
      "\n",
      "#Calculations&Results\n",
      "print 'Line current (in Amperes)=%.f'%I_L\n",
      "V_L=110*100/1;\n",
      "print 'Line voltage (in Volts)=%.f'%V_L\n",
      "P=(100./1)*(80/5)*352;\n",
      "print 'Power on the transmission line (in KWatts)=%.1f'%(P/1000)"
     ],
     "language": "python",
     "metadata": {},
     "outputs": [
      {
       "output_type": "stream",
       "stream": "stdout",
       "text": [
        "Line current (in Amperes)=64\n",
        "Line voltage (in Volts)=11000\n",
        "Power on the transmission line (in KWatts)=563.2\n"
       ]
      }
     ],
     "prompt_number": 6
    }
   ],
   "metadata": {}
  }
 ]
}