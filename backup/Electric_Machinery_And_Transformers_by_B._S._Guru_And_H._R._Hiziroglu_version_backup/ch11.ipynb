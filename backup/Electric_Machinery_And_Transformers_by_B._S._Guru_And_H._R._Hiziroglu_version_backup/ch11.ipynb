{
 "metadata": {
  "name": "",
  "signature": "sha256:c877f92f53167787736d030c7e71187c13be065ae6dadf741859ea31d04711be"
 },
 "nbformat": 3,
 "nbformat_minor": 0,
 "worksheets": [
  {
   "cells": [
    {
     "cell_type": "heading",
     "level": 1,
     "metadata": {},
     "source": [
      "Chapter 11: Dynamics of Electric Machines"
     ]
    },
    {
     "cell_type": "heading",
     "level": 2,
     "metadata": {},
     "source": [
      "Example 11.7, Page 646"
     ]
    },
    {
     "cell_type": "code",
     "collapsed": false,
     "input": [
      "import math\n",
      "\n",
      "#Variable declaration\n",
      "KVA=71500;#Kilo Volt-Ampere\n",
      "V_r=13800;#in Volts\n",
      "X_af=0.57;#in per unit\n",
      "X_la=0.125;#in per unit\n",
      "X_lf=0.239;#in per unit\n",
      "X_ld=0.172;#in per unit\n",
      "\n",
      "#Calculations&Results\n",
      "X_ds=X_la+((X_af*X_lf*X_ld)/(X_lf*X_ld+X_af*X_ld+X_af*X_lf));#subtransient reactance(in per unit)\n",
      "E_phy=1.;#generated voltage (in per unit)\n",
      "I_ds=E_phy/X_ds;#short circuit current (in per unit)\n",
      "X_d=X_la+((X_af*X_lf)/(X_af+X_lf));#transient reactance (in per unit)\n",
      "I_d=E_phy/X_d;#transient current (in per unit)\n",
      "I_rated=KVA*1000/(math.sqrt(3)*V_r);#in Amperes\n",
      "I_dsa=I_ds*I_rated;#sub transient current (in Amperes)\n",
      "print 'sub-transient current (in Amperes)=%.2f'%I_dsa\n",
      "I_da=I_d*I_rated;#transient current (in Amperes)\n",
      "print 'transient current (in Amperes)=%.2f'%I_da\n",
      "#Answer varies due to rounding-off errors"
     ],
     "language": "python",
     "metadata": {},
     "outputs": [
      {
       "output_type": "stream",
       "stream": "stdout",
       "text": [
        "sub-transient current (in Amperes)=14238.48\n",
        "transient current (in Amperes)=10195.69\n"
       ]
      }
     ],
     "prompt_number": 1
    },
    {
     "cell_type": "heading",
     "level": 2,
     "metadata": {},
     "source": [
      "Example 11.8, Page 652"
     ]
    },
    {
     "cell_type": "code",
     "collapsed": false,
     "input": [
      "import math\n",
      "\n",
      "#Variable declaration\n",
      "f=60.;#in Hertzs\n",
      "P=4.;#no. of poles\n",
      "P_m=0.9;\n",
      "H=10;#in Joule/Volt-Amperee\n",
      "\n",
      "#Calculations&Results\n",
      "N_s=f*120/P;#synchronous speed in (rpm)\n",
      "w_s=2*math.pi*N_s/f;#(in rad/sec)\n",
      "P_dm=P_m/math.sin(18*math.pi/180);\n",
      "t_c=P/f;#fault clearing time (in sec)\n",
      "delta_o=18*2*math.pi/360;#in rad\n",
      "delta_m=math.degrees(delta_o+((w_s/(P*H))*P_m*t_c**2))\n",
      "P_d=P_dm*math.sin(delta_m*math.pi/180);\n",
      "print '(a) power generated (in per unit)=%.2f'%P_d\n",
      "delta_2=math.pi-delta_o;\n",
      "delta_c=math.acos(((P_m/P_dm)*(delta_2-delta_o))+math.cos(delta_2));\n",
      "t_cn=math.sqrt((delta_c-delta_o)*4*H/(w_s*P_m));\n",
      "print '(b) critical fault clearing time (in sec)=%.3f'%t_cn"
     ],
     "language": "python",
     "metadata": {},
     "outputs": [
      {
       "output_type": "stream",
       "stream": "stdout",
       "text": [
        "(a) power generated (in per unit)=0.95\n",
        "(b) critical fault clearing time (in sec)=0.581\n"
       ]
      }
     ],
     "prompt_number": 2
    }
   ],
   "metadata": {}
  }
 ]
}