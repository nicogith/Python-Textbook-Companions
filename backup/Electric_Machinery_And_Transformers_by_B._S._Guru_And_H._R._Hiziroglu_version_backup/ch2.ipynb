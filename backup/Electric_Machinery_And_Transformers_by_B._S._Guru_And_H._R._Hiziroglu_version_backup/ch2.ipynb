{
 "metadata": {
  "name": "",
  "signature": "sha256:b5ac0fcf729add8ad42e5962c5649d2a5a944710ab497f047f8a98ee7c6fe43e"
 },
 "nbformat": 3,
 "nbformat_minor": 0,
 "worksheets": [
  {
   "cells": [
    {
     "cell_type": "heading",
     "level": 1,
     "metadata": {},
     "source": [
      "Chapter 1: Review of Basic Laws of Electromagnetism"
     ]
    },
    {
     "cell_type": "heading",
     "level": 2,
     "metadata": {},
     "source": [
      "Example 2.1, Page 66"
     ]
    },
    {
     "cell_type": "code",
     "collapsed": false,
     "input": [
      "#Variable declaration\n",
      "N=1000;#Number of turns\n",
      "phy_1=100*10**-3;#initial magnetic flux (in webers)\n",
      "phy_2=20*10**-3;#final magnetic flux (in webers)\n",
      "\n",
      "#Calculations\n",
      "phy=phy_2-phy_1;#change in magnetic flux\n",
      "t=5;#(in seconds)\n",
      "e=(-1)*N*(phy/t);#induced emf (in volts)\n",
      "\n",
      "#Result\n",
      "print 'Induced emf (in volts)=%.f'%e"
     ],
     "language": "python",
     "metadata": {},
     "outputs": [
      {
       "output_type": "stream",
       "stream": "stdout",
       "text": [
        "Induced emf (in volts)=16\n"
       ]
      }
     ],
     "prompt_number": 2
    },
    {
     "cell_type": "heading",
     "level": 2,
     "metadata": {},
     "source": [
      "Example 2.6, Page 90"
     ]
    },
    {
     "cell_type": "code",
     "collapsed": false,
     "input": [
      "import math\n",
      "\n",
      "#Variable declaration\n",
      "u_o=4*math.pi*10**-7;#permeablity of air\n",
      "u_r=1200;#permeablity of magnetic material\n",
      "N=1500;#No. of turns\n",
      "I=4;#current in the coil (in Amperes)\n",
      "r_i=10*10**-2;#inner radii of magnetic core (in meters)\n",
      "r_o=12*10**-2;#outer radii of magnetic core (in meters)\n",
      "\n",
      "#Calculations\n",
      "r_m=(r_i+r_o)/2;#mean radii of magnetic core (in meters)\n",
      "l_g=1*10**-2;#length of air gap (in meters)\n",
      "l_m=2*math.pi*(r_m-l_g);#in meters\n",
      "#Refer to fig:-2.14\n",
      "A_m=(r_o-r_i)**2;#cross-sectional  area of magnetic path (in meter**2)\n",
      "R_m=l_m/(u_o*u_r*A_m);#reluctance of magnetic material\n",
      "R_g=l_g/(u_o*A_m);#reluctance of air gap\n",
      "#R_m and R_g in sereis\n",
      "R=R_m+R_g;\n",
      "B_m=N*I/(R*A_m);#magnetic flux density (in Tesla)\n",
      "\n",
      "#Result\n",
      "print 'magnetic flux density (in Tesla)=%.3f T'%B_m"
     ],
     "language": "python",
     "metadata": {},
     "outputs": [
      {
       "output_type": "stream",
       "stream": "stdout",
       "text": [
        "magnetic flux density (in Tesla)=0.716 T\n"
       ]
      }
     ],
     "prompt_number": 8
    },
    {
     "cell_type": "heading",
     "level": 2,
     "metadata": {},
     "source": [
      "Example 2.10, Page 103"
     ]
    },
    {
     "cell_type": "code",
     "collapsed": false,
     "input": [
      "#Variable declaration\n",
      "#Refer to eqn 2.26\n",
      "e_21=20.;#voltage induced in coil-2 (in volts)\n",
      "I1=2000;#rate of change of current in coil-1 (in Amperes/second)\n",
      "\n",
      "#Calculations\n",
      "M=e_21/I1;# in henry\n",
      "L1=25*10**-3;#in henry\n",
      "L2=25*10**-3;#in henry\n",
      "#Refer to eqn 2.32\n",
      "k=(M/L1)*100;#coefficient of coupling\n",
      "\n",
      "#Result\n",
      "print 'percentage (%%)=%.f'%k"
     ],
     "language": "python",
     "metadata": {},
     "outputs": [
      {
       "output_type": "stream",
       "stream": "stdout",
       "text": [
        "percentage (%)=40\n"
       ]
      }
     ],
     "prompt_number": 13
    },
    {
     "cell_type": "heading",
     "level": 2,
     "metadata": {},
     "source": [
      "Example 2.11, Page 106"
     ]
    },
    {
     "cell_type": "code",
     "collapsed": false,
     "input": [
      "import math\n",
      "\n",
      "#Variable declaration\n",
      "#L1,L2=inductances of coil 1&2\n",
      "#M=mutual inductance b/w coil 1&2\n",
      "L_aid=2.38;#effective inductance when connected in sereis aiding\n",
      "L_opp=1.02;#effective inductance when connected in sereis opposing\n",
      "\n",
      "#Calculations&Results\n",
      "#L1+L2+2M=L_aid\n",
      "#L1+L2-2M=L_opp\n",
      "M=(L_aid-L_opp)/4;#in henry\n",
      "print 'mutual inductance (in henry)= %.2f'%M\n",
      "#L1=16*L2\n",
      "L1=(L_aid-2*M)/17;#in henry\n",
      "print 'inductance of coil-1 (in henry)= %.1f'%L1\n",
      "L2=L_aid-(2*M)-L1;#in henry\n",
      "print 'inductance of coil-2 (in henry)=%.1f'%L2\n",
      "k=M/(math.sqrt(L1*L2));\n",
      "print 'coefficient of coupling=%.2f'%k"
     ],
     "language": "python",
     "metadata": {},
     "outputs": [
      {
       "output_type": "stream",
       "stream": "stdout",
       "text": [
        "mutual inductance (in henry)= 0.34\n",
        "inductance of coil-1 (in henry)= 0.1\n",
        "inductance of coil-2 (in henry)=1.6\n",
        "coefficient of coupling=0.85\n"
       ]
      }
     ],
     "prompt_number": 16
    },
    {
     "cell_type": "heading",
     "level": 2,
     "metadata": {},
     "source": [
      "Example 2.12, Page 108"
     ]
    },
    {
     "cell_type": "code",
     "collapsed": false,
     "input": [
      "#Variable declaration\n",
      "L1=1.6;#self inductance of coil 1 (in Henry)\n",
      "L2=0.1;#self inductance of coil 2 (in Henry)\n",
      "M=0.34;#mutual inductance (in Henry)\n",
      "\n",
      "#Calculations&Results\n",
      "#Refer to eqn-2.45\n",
      "L_aid=((L1*L2)-M**2)*10**3/(L1+L2-(2*M));#in mili-Henry\n",
      "print 'effective inductance in parallel aiding  (in mili-Henry)=%.1f'%L_aid\n",
      "#Refer to eqn-2.46\n",
      "L_opp=((L1*L2)-M**2)*10**3/(L1+L2+(2*M));#in mili-henry\n",
      "print 'effective inductance in parallel opposing  (in mini-Henry)=%.1f'%L_opp"
     ],
     "language": "python",
     "metadata": {},
     "outputs": [
      {
       "output_type": "stream",
       "stream": "stdout",
       "text": [
        "effective inductance in parallel aiding  (in mili-Henry)=43.5\n",
        "effective inductance in parallel opposing  (in mini-Henry)=18.7\n"
       ]
      }
     ],
     "prompt_number": 18
    },
    {
     "cell_type": "heading",
     "level": 2,
     "metadata": {},
     "source": [
      "Example 2.13, Page 113"
     ]
    },
    {
     "cell_type": "code",
     "collapsed": false,
     "input": [
      "import math\n",
      "import numpy\n",
      "\n",
      "#Variable declaration\n",
      "#refer to eqn-2.50\n",
      "#eqn:-2.51,2.52 & 2.53 are obtained\n",
      "f=numpy.array([25, 25, 60]);#in hertz\n",
      "T = numpy.array([1.1,1.5,1.1])\n",
      "\n",
      "#Calculations&Results\n",
      "B_m=numpy.array([1.1, 1.5, 1.1])\n",
      "P_m=numpy.array([0.4, 0.8, 1.2])\n",
      "#On solving eqn:-2.51 & eqn:-2.53\n",
      "k_e=(0.016-0.02)/(30.25-72.6);\n",
      "#on solving eqn:-2.51 & eqn:-2.52\n",
      "n=(math.log((0.016-(30.25*k_e))/(0.032-(56.25*k_e))))/(math.log(1.1/1.5));\n",
      "k_h=(0.016-(30.25*k_e))/1.1**n;\n",
      "P_h=k_h*f*B_m**n#hysteresis loss\n",
      "P_eddy=k_e*(f**2)*B_m**2#eddy current loss\n",
      "\n",
      "#Results\n",
      "for n in range(3,):\n",
      "    print 'Frequency(Hz)\\t\\tFlux Density(T)\\t\\tHysteresis loss(W/kg)\\t\\tEddy-current loss(W/kg)\\n',(f[n]),\"\\t\\t\\t\",round(T[n],1),\"\\t\\t\\t\",round(P_h[n],3),\"\\t\\t\\t\\t\",round(P_eddy[n],3)"
     ],
     "language": "python",
     "metadata": {},
     "outputs": [
      {
       "output_type": "stream",
       "stream": "stdout",
       "text": [
        "Frequency(Hz)\t\tFlux Density(T)\t\tHysteresis loss(W/kg)\t\tEddy-current loss(W/kg)\n",
        "25 \t\t\t1.1 \t\t\t0.329 \t\t\t\t0.071\n",
        "Frequency(Hz)\t\tFlux Density(T)\t\tHysteresis loss(W/kg)\t\tEddy-current loss(W/kg)\n",
        "25 \t\t\t1.5 \t\t\t0.667 \t\t\t\t0.133\n",
        "Frequency(Hz)\t\tFlux Density(T)\t\tHysteresis loss(W/kg)\t\tEddy-current loss(W/kg)\n",
        "60 \t\t\t1.1 \t\t\t0.789 \t\t\t\t0.411\n"
       ]
      }
     ],
     "prompt_number": 62
    },
    {
     "cell_type": "heading",
     "level": 2,
     "metadata": {},
     "source": [
      "Example 2.14, Page 118"
     ]
    },
    {
     "cell_type": "code",
     "collapsed": false,
     "input": [
      "import math\n",
      "\n",
      "#Variable declaration\n",
      "u_o=4*math.pi*10**-7;#permeablity of air\n",
      "u_r=500;#permeablity of steel\n",
      "l_g=1*10**-2;#length of air gap section (in meter)\n",
      "A_g=10*10**-4;#cross-sectional area of air gap section (in meter**2)\n",
      "A_m=10*10**-4;#cross-sectional area of magnet section (in meter**2)\n",
      "A_s=10*10**-4;#cross-sectional area of steel sections (in meter**2)\n",
      "l_s=50*10**-2;#length of steel section (in meter)\n",
      "#Refer to fig:-2.29 (Demagnetization and energy-product curves of a magnet)\n",
      "H_m=-144*10**3;#(in Ampere/meter)\n",
      "B_m=0.23;#Magnetic flux density (in Tesla)\n",
      "\n",
      "#Calculations\n",
      "#refer to eqn:-2.55\n",
      "l_m=(-1*100)*(((l_g*A_m)/(u_o*A_g))+((2*l_s*A_m)/(u_o*u_r*A_s)))*(B_m/H_m);# (in centimeter)\n",
      "\n",
      "#Result\n",
      "print 'minimum length of magnet (in centimeter)=%.2f'%l_m"
     ],
     "language": "python",
     "metadata": {},
     "outputs": [
      {
       "output_type": "stream",
       "stream": "stdout",
       "text": [
        "minimum length of magnet (in centimeter)=1.53\n"
       ]
      }
     ],
     "prompt_number": 64
    },
    {
     "cell_type": "heading",
     "level": 2,
     "metadata": {},
     "source": [
      "Example 2.15, Page 119"
     ]
    },
    {
     "cell_type": "code",
     "collapsed": false,
     "input": [
      "import math\n",
      "import sympy\n",
      "\n",
      "#Variable declaration\n",
      "#From figure 2.32(a)\n",
      "lm = 52-42   #mean length of magnets,mm\n",
      "ls = 2.5+2.5+(2*math.pi*54.5/4)  #mean length of yoke,mm\n",
      "lg = 42-40   #air gap,mm\n",
      "la = 17.5+17.5+(2*math.pi*22.5/4) #mean length of rotor,mm\n",
      "\n",
      "#Calculations\n",
      "#From figure 2.32(b)\n",
      "Am = 50*(52+42)*math.pi/4   #cross-sectional area of magnet,mm^2\n",
      "As = 5*50                   #cross-sectional area of yoke,mm^2\n",
      "Ag = 50*(42+40)*math.pi/4   #cross-sectional area of air-gap,mm^2\n",
      "Aa = 35*50                  #cross-sectional area of rotor,mm^2\n",
      "\n",
      "Bm = 0.337   #T\n",
      "phi = Bm*Am  #Wb\n",
      "phi_t = round(2*phi*10**-3,3)  #Wb\n",
      "#We know that, phi_c = 2.488cos100t mWb\n",
      "from sympy import Symbol,diff,cos\n",
      "t = Symbol('t')\n",
      "d_phi_by_dt = diff(cos(100*t),t)\n",
      "e = -phi_t*d_phi_by_dt\n",
      "#Result\n",
      "print \"The induced emf is\",e,\"V\"\n",
      "#Incorrect result in textbook"
     ],
     "language": "python",
     "metadata": {},
     "outputs": [
      {
       "output_type": "stream",
       "stream": "stdout",
       "text": [
        "The induced emf is 248.8*sin(100*t) V\n"
       ]
      }
     ],
     "prompt_number": 1
    }
   ],
   "metadata": {}
  }
 ]
}