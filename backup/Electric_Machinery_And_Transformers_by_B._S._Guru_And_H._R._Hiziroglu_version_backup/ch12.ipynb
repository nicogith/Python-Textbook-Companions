{
 "metadata": {
  "name": "",
  "signature": "sha256:e669c20812e01a3de7509b854fcd373ad98ac3cfd05f973ab8a7a3082e6c1738"
 },
 "nbformat": 3,
 "nbformat_minor": 0,
 "worksheets": [
  {
   "cells": [
    {
     "cell_type": "heading",
     "level": 1,
     "metadata": {},
     "source": [
      "Chapter 12: Special-Purpose Electric Machines"
     ]
    },
    {
     "cell_type": "heading",
     "level": 2,
     "metadata": {},
     "source": [
      "Example 12.1, Page 662"
     ]
    },
    {
     "cell_type": "code",
     "collapsed": false,
     "input": [
      "import math\n",
      "\n",
      "#Variable declaration\n",
      "flux=0.004;#(in Weber)\n",
      "R_a=0.8;#armature resistance (in ohm)\n",
      "V_s=40;#applied voltage (in Volts)\n",
      "T_d=1.2;#in Newton-meter\n",
      "K_a=95;#motor constant\n",
      "\n",
      "#Calculations&Results\n",
      "w_m=(V_s/(K_a*flux))-((R_a*T_d)/(K_a*flux)**2);\n",
      "N_m=w_m*60/(2*math.pi);\n",
      "print 'speed of motor (in rpm)=%.f'%(math.ceil(N_m))\n",
      "w_mb=0;#for blocked rotor condition\n",
      "T_db=(V_s*K_a*flux)/R_a;\n",
      "print 'torque developed under blocked rotor condition (in Newton-meter)=%.f'%T_db"
     ],
     "language": "python",
     "metadata": {},
     "outputs": [
      {
       "output_type": "stream",
       "stream": "stdout",
       "text": [
        "speed of motor (in rpm)=942\n",
        "torque developed under blocked rotor condition (in Newton-meter)=19\n"
       ]
      }
     ],
     "prompt_number": 1
    },
    {
     "cell_type": "heading",
     "level": 2,
     "metadata": {},
     "source": [
      "Example 12.2, Page 662"
     ]
    },
    {
     "cell_type": "code",
     "collapsed": false,
     "input": [
      "import math\n",
      "\n",
      "#Variable declaration\n",
      "N_m=1500;#speed of motor (in rpm)\n",
      "R_a=2;#armature resistance (in ohms)\n",
      "V_s=100;\n",
      "P_o=200;#rated power \n",
      "K_a=85;#machine constant\n",
      "P_rot=15;#rotational loss\n",
      "\n",
      "#Calculations\n",
      "w_m=(2*math.pi*N_m)/60;\n",
      "P_d=P_o+P_rot;#power developed\n",
      "T_d=P_d/w_m;#torque developed\n",
      "def root(a,b,c):\n",
      "    return ((-b)+math.sqrt((b**2)-(4*a*c)))/(2*a);\n",
      "\n",
      "\n",
      "#Result\n",
      "print 'magnetic flux (in mWb)=%.2f'%(root(1,-0.0075,(2.41*10**-6))*1000)"
     ],
     "language": "python",
     "metadata": {},
     "outputs": [
      {
       "output_type": "stream",
       "stream": "stdout",
       "text": [
        "magnetic flux (in mWb)=7.16\n"
       ]
      }
     ],
     "prompt_number": 2
    },
    {
     "cell_type": "heading",
     "level": 2,
     "metadata": {},
     "source": [
      "Example 12.3, Page 682"
     ]
    },
    {
     "cell_type": "code",
     "collapsed": false,
     "input": [
      "#Variable declaration\n",
      "f=60;#frequency (in Hertzs)\n",
      "P_pi=0.5;#pole pitch\n",
      "F_d=100000;#developed thrust (in Newton)\n",
      "\n",
      "#Calculations&Results\n",
      "V_m=200000./3600;#speed of motor (in meter/sec)\n",
      "P_d=F_d*V_m;\n",
      "print 'developed power (in Kilo-Watts)=%.f'%(int(P_d/1000))\n",
      "V_s=2*P_pi*f;#synchronous speed of the motor (in meter/sec)\n",
      "s=(V_s-V_m)/V_s;#slip\n",
      "P_cu=F_d*s*V_s;\n",
      "print 'Copper loss (in Kilo-Watts)=%.f'%(int(P_cu/1000))"
     ],
     "language": "python",
     "metadata": {},
     "outputs": [
      {
       "output_type": "stream",
       "stream": "stdout",
       "text": [
        "developed power (in Kilo-Watts)=5555\n",
        "Copper loss (in Kilo-Watts)=444\n"
       ]
      }
     ],
     "prompt_number": 3
    }
   ],
   "metadata": {}
  }
 ]
}