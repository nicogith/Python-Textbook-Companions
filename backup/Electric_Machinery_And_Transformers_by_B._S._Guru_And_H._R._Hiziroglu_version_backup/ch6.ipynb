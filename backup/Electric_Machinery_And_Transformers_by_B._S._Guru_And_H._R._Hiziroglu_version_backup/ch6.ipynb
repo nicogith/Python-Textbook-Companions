{
 "metadata": {
  "name": "",
  "signature": "sha256:7f35b837b2253dca9f2e8d083caeb37360e1ab63a44aabcab2c02ccf611c4ba2"
 },
 "nbformat": 3,
 "nbformat_minor": 0,
 "worksheets": [
  {
   "cells": [
    {
     "cell_type": "heading",
     "level": 1,
     "metadata": {},
     "source": [
      "Chapter 6: Direct-Current Motors"
     ]
    },
    {
     "cell_type": "heading",
     "level": 2,
     "metadata": {},
     "source": [
      "Example 6.1, Page 360"
     ]
    },
    {
     "cell_type": "code",
     "collapsed": false,
     "input": [
      "import math\n",
      "\n",
      "#Variable declaration\n",
      "P_o=10*746;#output power (in Watts)\n",
      "V_s=220;\n",
      "P_rot=1040;#rotational loss (in Watts)\n",
      "R_a=0.75;#armature resistance (in ohms)\n",
      "R_s=0.25;#series winding resistance (in ohms)\n",
      "N_m= 1200;#(in rpm)\n",
      "\n",
      "#Calculations&Results\n",
      "P_d=P_o+P_rot;\n",
      "def root(a,b,c):\n",
      "    return ((-b)-math.sqrt((b**2)-(4*a*c)))/(2*a);\n",
      "\n",
      "I_a=root(1,-220,8500);\n",
      "print '(a) armature current at rated load (in Amperes)=%.f'%I_a\n",
      "P_in=V_s*I_a;\n",
      "print '(b) Efficiency at full load (%%)=%.2f'%((P_o/P_in)*100)\n",
      "N_s=150/I_a;\n",
      "print '(c) no. of turns per pole=%.f'%N_s\n",
      "I_an=16.67;\n",
      "E_an=V_s-(I_an*(R_a+R_s));\n",
      "N_mn=(E_an*N_m)/90;\n",
      "print '(d) new speed of motor (in rpm)=%.f'%(int (N_mn))\n",
      "T_dn=(E_an*I_an)/283.9;\n",
      "print 'driving torque (in Newton-meter)=%.2f'%T_dn"
     ],
     "language": "python",
     "metadata": {},
     "outputs": [
      {
       "output_type": "stream",
       "stream": "stdout",
       "text": [
        "(a) armature current at rated load (in Amperes)=50\n",
        "(b) Efficiency at full load (%)=67.82\n",
        "(c) no. of turns per pole=3\n",
        "(d) new speed of motor (in rpm)=2711\n",
        "driving torque (in Newton-meter)=11.94\n"
       ]
      }
     ],
     "prompt_number": 1
    },
    {
     "cell_type": "heading",
     "level": 2,
     "metadata": {},
     "source": [
      "Example 6.2, Page 365"
     ]
    },
    {
     "cell_type": "code",
     "collapsed": false,
     "input": [
      "import math\n",
      "\n",
      "#Variable declaration\n",
      "Vt = 240.  #V\n",
      "Il = 3.5   #A\n",
      "Ra = 0.5   #armature resistance,ohms\n",
      "Rsh = 160. #shunt field winding resistance,ohms\n",
      "\n",
      "#Calculations\n",
      "#No-load condition\n",
      "I_fnl = Vt/Rsh  #shunt-field current,A\n",
      "I_anl = Il - I_fnl  #armature current,A\n",
      "E_anl = Vt-I_anl*0.4    #back emf,V\n",
      "P_dnl = E_anl*I_anl #power developed,W\n",
      "P_cunl = I_anl**2*0.4+Vt*I_fnl  #toal copper loss,W\n",
      "P_innl = Vt*Il    #power input,W\n",
      "\n",
      "#Full-load condition\n",
      "If = 24   #A\n",
      "N = 2400  #rpm\n",
      "P_infl = Vt*If   #power input,W\n",
      "I_afl = If-I_fnl #armature current,A\n",
      "E_afl = Vt-0.4*I_afl  #back emf,V\n",
      "P_dfl = E_afl*I_afl   #power developed,W\n",
      "P_ofl = P_dfl-P_dnl   #power output,W\n",
      "P_cufl = Vt*I_fnl+I_afl**2*0.4  #total copper loss,Q\n",
      "\n",
      "n = P_ofl/P_infl*100\n",
      "w_mfl = (2*math.pi*N)/60  #rad/sec\n",
      "T_dfl = P_dfl/w_mfl   #N-m\n",
      "T_sfl = P_ofl/w_mfl   #N-m\n",
      "N_mnl = N*E_anl/E_afl  #rpm\n",
      "SR = (N_mnl-N)/N*100\n",
      "\n",
      "#Results\n",
      "print \"(a)Motor efficiency = %.2f %%\"%n\n",
      "print \"(b)Torque developed = %.2f N-m\\n   Torque available = %.2f N-m\"%(T_dfl,T_sfl)\n",
      "print \"(c)No load speed = %d rpm\"%N_mnl\n",
      "print \"(d)Speed regulation = %.2f %%\"%SR"
     ],
     "language": "python",
     "metadata": {},
     "outputs": [
      {
       "output_type": "stream",
       "stream": "stdout",
       "text": [
        "(a)Motor efficiency = 81.93 %\n",
        "(b)Torque developed = 20.68 N-m\n",
        "   Torque available = 18.78 N-m\n",
        "(c)No load speed = 2485 rpm\n",
        "(d)Speed regulation = 3.55 %\n"
       ]
      }
     ],
     "prompt_number": 2
    },
    {
     "cell_type": "heading",
     "level": 2,
     "metadata": {},
     "source": [
      "Example 6.3, Page 370"
     ]
    },
    {
     "cell_type": "code",
     "collapsed": false,
     "input": [
      "import math\n",
      "\n",
      "#Variable declaration\n",
      "print '(a) For Cumulative compound motor'\n",
      "V=240;#in volts(Refer to exa:6.2)\n",
      "R_a=0.4;#armature resistance (Refer to exa:6.2)\n",
      "T=20.68;#torque (Refer to exa:6.2)\n",
      "R_x=0.1;#in ohms\n",
      "I_a=22.5;#armature current of shunt motor (Refer to exa:6.2)\n",
      "\n",
      "#Calculations&Results\n",
      "I_ac=I_a/(1+0.125);#armature current of cummulative compound motor\n",
      "E_ac=V-(I_ac*(R_a+R_x));\n",
      "P_dc=E_ac*I_ac;\n",
      "print 'Power developed (in Watts)=%.f'%P_dc\n",
      "N_mc=(P_dc*60)/(T*2*math.pi);\n",
      "print 'speed (in rpm)=%.f'%int(N_mc)\n",
      "print '(b) For differential compound motor'\n",
      "I_ad=I_a/(1-0.125);#armature current of cummulative compound motor\n",
      "E_ad=V-(I_ad*(R_a+R_x));\n",
      "P_dd=E_ad*I_ad;\n",
      "print 'Power developed (in Watts)=%.3f'%P_dd\n",
      "N_md=(P_dd*60)/(T*2*math.pi);\n",
      "print 'speed (in rpm)=%.f'%(int(N_md))"
     ],
     "language": "python",
     "metadata": {},
     "outputs": [
      {
       "output_type": "stream",
       "stream": "stdout",
       "text": [
        "(a) For Cumulative compound motor\n",
        "Power developed (in Watts)=4600\n",
        "speed (in rpm)=2124\n",
        "(b) For differential compound motor\n",
        "Power developed (in Watts)=5840.816\n",
        "speed (in rpm)=2697\n"
       ]
      }
     ],
     "prompt_number": 3
    },
    {
     "cell_type": "heading",
     "level": 2,
     "metadata": {},
     "source": [
      "Example 6.4, Page 374"
     ]
    },
    {
     "cell_type": "code",
     "collapsed": false,
     "input": [
      "import math\n",
      "\n",
      "#Variable declaration\n",
      "V=120.  #V\n",
      "N_mfL=2400.;#full load speed of motor\n",
      "R_a=0.4;#armature resistance (in ohms)\n",
      "R_sh=160.;#shunt field winding resistance\n",
      "I_fL=14.75;#current drawn at full load (in Amperes)\n",
      "I_nL=2.;#current drawn at no load (in Amperes)\n",
      "R_x=3.6;#external resistance\n",
      "\n",
      "#Calculations&Results\n",
      "I_f=V/R_sh;#feild current\n",
      "I_anL=I_nL-I_f;#armature current at no load\n",
      "E_anL=V-(I_anL*R_a);#no load back emf\n",
      "P_dnL=E_anL*I_anL;#power developed at no load\n",
      "I_afL=I_fL-I_f;#armature current at full load\n",
      "E_afL=V-(I_afL*R_a);#full load back emf\n",
      "P_dfL=E_afL*I_afL;#power developed at full load\n",
      "N_mnL=(E_anL/E_afL)*N_mfL;#no load speed\n",
      "P_in_fL=V*I_fL;#power input at full load\n",
      "E_a_n=V-(I_afL*(R_a+R_x));#new back emf\n",
      "P_d_n=E_a_n*I_afL;#new power developed \n",
      "N_m_n=math.ceil((E_a_n/E_afL)*N_mfL);\n",
      "print 'After insertion of external resistance in the armature ckt'\n",
      "print '(a) motor speed (in rpm)=%.1f'%N_m_n\n",
      "P_rot_n=(N_m_n/N_mnL)*P_dnL;\n",
      "P_o_n=P_d_n-P_rot_n;\n",
      "P_x=(I_afL**2)*R_x;\n",
      "print '(b) power loss in external resistance (in Watts)=%.3f'%P_x\n",
      "Eff=P_x/P_in_fL;\n",
      "print '(c) efficiency (%%)=%.2f'%(Eff*100)"
     ],
     "language": "python",
     "metadata": {},
     "outputs": [
      {
       "output_type": "stream",
       "stream": "stdout",
       "text": [
        "After insertion of external resistance in the armature ckt\n",
        "(a) motor speed (in rpm)=1343.0\n",
        "(b) power loss in external resistance (in Watts)=705.600\n",
        "(c) efficiency (%)=39.86\n"
       ]
      }
     ],
     "prompt_number": 4
    },
    {
     "cell_type": "heading",
     "level": 2,
     "metadata": {},
     "source": [
      "Example 6.5, Page 377"
     ]
    },
    {
     "cell_type": "code",
     "collapsed": false,
     "input": [
      "import math\n",
      "\n",
      "#Variable declaration\n",
      "R_x=80;#external resistance\n",
      "#Refer to Exa 6.4\n",
      "R_sh=160;#shunt resistance\n",
      "V=120.;#in volts\n",
      "E_a=114.4;#back emf at full load\n",
      "N_m=2400;#speed of motor\n",
      "P_rot=143;#rotational losses\n",
      "\n",
      "#Calculations&Results\n",
      "I_fn=V/(R_x+R_sh);#new field-winding current\n",
      "I_f=0.75;#field current at full load\n",
      "c=math.sqrt(I_f/I_fn);#ratio of new flux to old flux\n",
      "R_a=0.4;#armature resistance\n",
      "I_a=14;#armature resistance\n",
      "I_an=I_a*c;\n",
      "E_an=V-(I_an*R_a);\n",
      "N_mn=c*(E_an/E_a)*N_m;\n",
      "print '(a) new motor speed (in rpm)=%.f'%(int(N_mn))\n",
      "P_x=(I_fn**2)*R_x;\n",
      "print '(b) Power loss in external resistance (in Watts)=%.f'%P_x\n",
      "P_in=V*(I_fn+I_an);\n",
      "P_dn=E_an*I_an;\n",
      "P_o=P_dn-P_rot;\n",
      "Eff=P_o/P_in;\n",
      "print '(c) Efficiency (%%)=%.1f'%(Eff*100)"
     ],
     "language": "python",
     "metadata": {},
     "outputs": [
      {
       "output_type": "stream",
       "stream": "stdout",
       "text": [
        "(a) new motor speed (in rpm)=2907\n",
        "(b) Power loss in external resistance (in Watts)=20\n",
        "(c) Efficiency (%)=84.9\n"
       ]
      }
     ],
     "prompt_number": 5
    },
    {
     "cell_type": "heading",
     "level": 2,
     "metadata": {},
     "source": [
      "Example 6.6, Page 380"
     ]
    },
    {
     "cell_type": "code",
     "collapsed": false,
     "input": [
      "import math\n",
      "\n",
      "#Variable declaration\n",
      "V_s=120;#in Volts\n",
      "R_fe=30;#resistance of feild winding\n",
      "I_a=50;#armature current (in Amperes)\n",
      "R_ag=0.2;#armature resistance of generator (in ohms)\n",
      "R_am=0.3;#armature resistance of motor (in ohms)\n",
      "N_m1=2000;\n",
      "N_m2=715;\n",
      "T=30;#torque (in Newton-meter)\n",
      "\n",
      "#Calculations\n",
      "w_m=(N_m1*2*math.pi)/60;\n",
      "P_d=T*w_m;#power developed\n",
      "E_am=P_d/I_a;#back emf of motor\n",
      "E_amn=E_am*N_m2/N_m1;#new back emf\n",
      "V_t=E_am+(I_a*R_am);\n",
      "V_tn=E_amn+(I_a*R_am);\n",
      "E_ag=V_t+(I_a*R_ag);#induced emf of generator\n",
      "E_agn=V_tn+(I_a*R_ag);#new induced emf of generator\n",
      "I_f=1.75;#Refer to magnetization curve\n",
      "I_fn=0.4;#Refer to magnetization curve\n",
      "R_f=V_s/I_f;\n",
      "R_fn=V_s/I_fn;\n",
      "R_x=R_f-R_fe;\n",
      "R_xn=R_fn-R_fe;\n",
      "\n",
      "#Result\n",
      "print '(a)   external resistance (in ohms)= %.2f'%R_x\n",
      "print '(b)   external resistance (in ohms)= %.f'%R_xn"
     ],
     "language": "python",
     "metadata": {},
     "outputs": [
      {
       "output_type": "stream",
       "stream": "stdout",
       "text": [
        "(a)   external resistance (in ohms)= 38.57\n",
        "(b)   external resistance (in ohms)= 270\n"
       ]
      }
     ],
     "prompt_number": 6
    },
    {
     "cell_type": "heading",
     "level": 2,
     "metadata": {},
     "source": [
      "Example 6.7, Page 383"
     ]
    },
    {
     "cell_type": "code",
     "collapsed": false,
     "input": [
      "import math\n",
      "\n",
      "#Variable declaration\n",
      "V_s=120;#in volts\n",
      "N_m=2400;#speed of motor (in rpm)\n",
      "I_in=7;#input current (in Amperes)\n",
      "L=0.5;#arm length (in meter)\n",
      "F_d=4.57;#deflection force (in Newton)\n",
      "W=0.03;#weight (in Newton)\n",
      "\n",
      "#Calculations&Results\n",
      "F=F_d-W;\n",
      "T_s=F*L;\n",
      "print 'shaft torque of motor (in Newton-meter)=%.2f'%T_s\n",
      "w_m=(2*math.pi*N_m)/60;\n",
      "P_o=T_s*w_m;\n",
      "P_in=V_s*I_in;\n",
      "Eff=P_o/P_in;\n",
      "print 'Efficiency of motor (%%)=%.1f'%(Eff*100)"
     ],
     "language": "python",
     "metadata": {},
     "outputs": [
      {
       "output_type": "stream",
       "stream": "stdout",
       "text": [
        "shaft torque of motor (in Newton-meter)=2.27\n",
        "Efficiency of motor (%)=67.9\n"
       ]
      }
     ],
     "prompt_number": 7
    },
    {
     "cell_type": "heading",
     "level": 2,
     "metadata": {},
     "source": [
      "Example 6.8, Page 385"
     ]
    },
    {
     "cell_type": "code",
     "collapsed": false,
     "input": [
      "import math\n",
      "\n",
      "#Variable declaration\n",
      "P_o=5*746;#power output (in Watts)\n",
      "N_m=1200;#speed of motor (in rpm)\n",
      "L=0.4;#arm length (in meter)\n",
      "\n",
      "#Calculations\n",
      "w_m=(2*math.pi*N_m)/60;\n",
      "T_s=P_o/w_m;\n",
      "F=T_s/L;#force reading on the scale (in Newton)\n",
      "\n",
      "#Result\n",
      "print 'Reading on the scale (in Kg)=%.3f'%(F/9.81)"
     ],
     "language": "python",
     "metadata": {},
     "outputs": [
      {
       "output_type": "stream",
       "stream": "stdout",
       "text": [
        "Reading on the scale (in Kg)=7.564\n"
       ]
      }
     ],
     "prompt_number": 8
    },
    {
     "cell_type": "heading",
     "level": 2,
     "metadata": {},
     "source": [
      "Example 6.9, Page 391"
     ]
    },
    {
     "cell_type": "code",
     "collapsed": false,
     "input": [
      "#Variable declaration\n",
      "V_s=400;#voltage applied\n",
      "R_f=200;#resistance of field winding\n",
      "I_L=30;#in Amperes\n",
      "w_m=100.;#(rad/sec)\n",
      "\n",
      "#Calculations&Results\n",
      "I_f=V_s/R_f;\n",
      "R_a=1;#armature resistance (in ohms)\n",
      "I_a=I_L-I_f;\n",
      "E_a=V_s-(I_a*R_a);#back emf (in Volts)\n",
      "V_t=E_a+V_s;#total voltage in armature ckt \n",
      "I_t=1.5*I_a;\n",
      "R=(V_t/I_t)-R_a;\n",
      "print '(1) external resistance (in ohms)=%.2f'%R\n",
      "K_3=(E_a*V_s)/((R+R_a)*w_m);\n",
      "K_4=((E_a/w_m)**2)/(R+R_a);\n",
      "T_b=K_3+(w_m*K_4);\n",
      "print '(2a) breaking torque at the instant of plugging (in Newton-meter)=%.2f'%T_b\n",
      "print '(2b) breaking torque when speed of motor approaches zero (in Newton-meter)=%.2f'%K_3"
     ],
     "language": "python",
     "metadata": {},
     "outputs": [
      {
       "output_type": "stream",
       "stream": "stdout",
       "text": [
        "(1) external resistance (in ohms)=17.38\n",
        "(2a) breaking torque at the instant of plugging (in Newton-meter)=156.24\n",
        "(2b) breaking torque when speed of motor approaches zero (in Newton-meter)=80.95\n"
       ]
      }
     ],
     "prompt_number": 9
    }
   ],
   "metadata": {}
  }
 ]
}