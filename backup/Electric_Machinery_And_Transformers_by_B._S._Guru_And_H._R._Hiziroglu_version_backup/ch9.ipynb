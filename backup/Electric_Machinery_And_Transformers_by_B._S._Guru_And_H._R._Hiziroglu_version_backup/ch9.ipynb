{
 "metadata": {
  "name": "",
  "signature": "sha256:2f47d1471db51a851b4d871c8f32dd53e091307f1f389257875e22ed24db8ea1"
 },
 "nbformat": 3,
 "nbformat_minor": 0,
 "worksheets": [
  {
   "cells": [
    {
     "cell_type": "heading",
     "level": 1,
     "metadata": {},
     "source": [
      "Chapter 9: Polyphase Induction Motors"
     ]
    },
    {
     "cell_type": "heading",
     "level": 2,
     "metadata": {},
     "source": [
      "Example 9.1, Page 513"
     ]
    },
    {
     "cell_type": "code",
     "collapsed": false,
     "input": [
      "#Variable declaration\n",
      "f=60.;#in Hertzs\n",
      "P=4;#no. of poles\n",
      "N_fL=1755;#in rpm\n",
      "\n",
      "#Calculations&Results\n",
      "N_s=120*f/P;\n",
      "print '(a) synchronous speed of induction motor (in rpm)=%.f'%N_s\n",
      "s=(N_s-N_fL)/N_s;\n",
      "print '(b) Slip at full load =%.3f'%s\n",
      "f_r=s*f;\n",
      "print '(c) rotor frequency at full load (in Hertzs)=%.1f'%f_r"
     ],
     "language": "python",
     "metadata": {},
     "outputs": [
      {
       "output_type": "stream",
       "stream": "stdout",
       "text": [
        "(a) synchronous speed of induction motor (in rpm)=1800\n",
        "(b) Slip at full load =0.025\n",
        "(c) rotor frequency at full load (in Hertzs)=1.5\n"
       ]
      }
     ],
     "prompt_number": 1
    },
    {
     "cell_type": "heading",
     "level": 2,
     "metadata": {},
     "source": [
      "Example 9.2, Page 521"
     ]
    },
    {
     "cell_type": "code",
     "collapsed": false,
     "input": [
      "import math\n",
      "\n",
      "#Variable declaration\n",
      "V=230;#in volts\n",
      "f=60.;#in Hertz\n",
      "P=6;#no. of poles\n",
      "N_s=120*f/P;#synchronous speed (in rpm)\n",
      "V_1=V/math.sqrt(3);#per phase voltage (in Volts)\n",
      "R_2=0.25;#in ohms\n",
      "R_1=0.5;#in ohms\n",
      "X_1=0.75;#in ohms\n",
      "X_2=0.5;#in ohms\n",
      "X_m=100;#in ohms\n",
      "R_c=500;#in ohms\n",
      "s=0.025;#slip\n",
      "\n",
      "#Calculations\n",
      "Z_1=complex(R_1,X_1);#in ohms\n",
      "Z_2=complex((R_2/s),X_2);#in ohms\n",
      "Z=complex(0.002,0.01)+complex(0.10025,0.0050125);\n",
      "Z_e=(1/Z);#equivalent impedance (in ohms)\n",
      "Z_in=Z_1+Z_e;#input impedance (in ohms)\n",
      "I_1=V_1/Z_in;#in Amperes\n",
      "theta=math.degrees(math.atan(I_1.imag/I_1.real))\n",
      "P_in=3*V_1*I_1.real;\n",
      "P_scl=3*(abs(I_1))**2*R_1;\n",
      "E_1=V_1-I_1*Z_1;\n",
      "I_c=E_1/R_c;#core loss current\n",
      "I_m=complex(0,E_1/X_m)\n",
      "I_phy=I_c+I_m;#excitation current (in Amperes)\n",
      "I_2=I_1-I_phy;#rotor current (in Amperes)\n",
      "P_m=3*abs(I_c)*abs(I_c)*R_c;#core loss (in Watts)\n",
      "P_ag=P_in-P_scl-P_m;#air gap power (in Watts)\n",
      "P_rcl=3*abs(I_2)*abs(I_2)*R_2;#rotor copper loss (in Watts)\n",
      "P_d=P_ag-P_rcl;#power developed (in Watts)\n",
      "P_o=P_d-150;#output power (in Watts)\n",
      "Eff=P_o.real/P_in.real\n",
      "\n",
      "#Result\n",
      "print 'Efficiency (%%)=%.2f'%(Eff*100)"
     ],
     "language": "python",
     "metadata": {},
     "outputs": [
      {
       "output_type": "stream",
       "stream": "stdout",
       "text": [
        "Efficiency (%)=87.97\n"
       ]
      }
     ],
     "prompt_number": 2
    },
    {
     "cell_type": "heading",
     "level": 2,
     "metadata": {},
     "source": [
      "Example 9.3, Page 524"
     ]
    },
    {
     "cell_type": "code",
     "collapsed": false,
     "input": [
      "import math\n",
      "\n",
      "#Variable declaration\n",
      "#Refer to data of Exa:9.2\n",
      "R_1=0.5;#in ohms\n",
      "R_2=0.25;#in ohms\n",
      "X_1=0.75;#in ohms\n",
      "X_2=0.5;#in ohms\n",
      "R_c=500;#in ohms\n",
      "s=0.025;#slip\n",
      "\n",
      "#Calculations\n",
      "I_c=132.791/500;#Core-loss currrent (in Amperes)\n",
      "I_m=complex(0,132.791/100);#Magnetization current (in Amperes)\n",
      "Z_e=R_1+complex((R_2/s),(X_1+X_2));#in ohms\n",
      "I_2=132.791/Z_e;#rotor current (in Amperes)\n",
      "I_1=I_2+I_c+I_m;#in Amperes\n",
      "P_in=3*132.791*I_1.conjugate();#power input (in Watts)\n",
      "P_scl=3*(abs(I_2))**2*R_1;#stator copper loss (in Watts)\n",
      "P_rcl=3*(abs(I_2))**2*R_2;#rotor copper loss (in Watts)\n",
      "P_m=3*(abs(I_c))**2*R_c;# core loss (in Watts)\n",
      "P_o=P_in.real-P_scl-P_rcl-P_m-150;#power output (in Watts)\n",
      "Eff=P_o/P_in.real;\n",
      "\n",
      "#Result\n",
      "print 'Efficiency (%%)=%.2f'%(Eff*100)"
     ],
     "language": "python",
     "metadata": {},
     "outputs": [
      {
       "output_type": "stream",
       "stream": "stdout",
       "text": [
        "Efficiency (%)=87.96\n"
       ]
      }
     ],
     "prompt_number": 3
    },
    {
     "cell_type": "heading",
     "level": 2,
     "metadata": {},
     "source": [
      "Example 9.4, Page 527"
     ]
    },
    {
     "cell_type": "code",
     "collapsed": false,
     "input": [
      "import cmath\n",
      "import math\n",
      "\n",
      "#Variable declaration\n",
      "V=120;#in volts\n",
      "f=60;#in Hertzs\n",
      "R_1=0.1;#in ohms\n",
      "X_1=0.15;#in ohms\n",
      "R_2=0.2;#in ohms\n",
      "X_2=0.25;#in ohms\n",
      "\n",
      "#Calculations&Results\n",
      "Z_e=R_1+complex(R_2,(X_1+X_2));#Eqv impedance in ohms\n",
      "Z_e_m = math.sqrt(Z_e.real**2+Z_e.imag**2)\n",
      "s_p=R_2/(R_2+Z_e_m);\n",
      "print 'Slip=%.3f'%s_p\n",
      "P_dm=(3*V**2)/(2*(R_1+R_2+abs(Z_e)));\n",
      "print 'max power developed (in Kilo-Watts)=%.f'%(P_dm/1000)\n",
      "N_s=120*f/6;#synchronous speed (in rpm)\n",
      "w_s=(N_s*2*math.pi)/60;#in rad/sec\n",
      "w_m=(1-s_p)*w_s;\n",
      "T_d=P_dm/w_m;\n",
      "print 'Torque developed (in Newton-meter)=%.2f'%T_d"
     ],
     "language": "python",
     "metadata": {},
     "outputs": [
      {
       "output_type": "stream",
       "stream": "stdout",
       "text": [
        "Slip=0.286\n",
        "max power developed (in Kilo-Watts)=27\n",
        "Torque developed (in Newton-meter)=300.80\n"
       ]
      }
     ],
     "prompt_number": 4
    },
    {
     "cell_type": "heading",
     "level": 2,
     "metadata": {},
     "source": [
      "Example 9.5, Page 529"
     ]
    },
    {
     "cell_type": "code",
     "collapsed": false,
     "input": [
      "import math\n",
      "\n",
      "#Variable declaration\n",
      "#Refer to data of Exa9.4\n",
      "R_1=0.1;# in ohms\n",
      "R_2=0.2;# in ohms\n",
      "X_1=0.15;# in ohms\n",
      "X_2=0.25;# in ohms\n",
      "w_s=125.66;#rad/sec\n",
      "V_1=120;#in Volts\n",
      "\n",
      "#Calculations&Results\n",
      "s_b=R_2/math.sqrt(R_1**2+(X_1+X_2)**2);\n",
      "print '(a) Breakdown slip=%.3f'%s_b\n",
      "T_dm=(3*V_1**2)/(2*w_s*(R_1+math.sqrt(R_1**2+(X_1+X_2)**2)));\n",
      "print '(b) Breakdown Torque (in Newton-meter)=%.2f'%T_dm\n",
      "P_d=T_dm*(1-s_b)*w_s;\n",
      "print '(c) Power developed by the motor (in Kilo-Watts)=%.2f'%(P_d/1000)"
     ],
     "language": "python",
     "metadata": {},
     "outputs": [
      {
       "output_type": "stream",
       "stream": "stdout",
       "text": [
        "(a) Breakdown slip=0.485\n",
        "(b) Breakdown Torque (in Newton-meter)=335.52\n",
        "(c) Power developed by the motor (in Kilo-Watts)=21.71\n"
       ]
      }
     ],
     "prompt_number": 6
    },
    {
     "cell_type": "heading",
     "level": 2,
     "metadata": {},
     "source": [
      "Example 9.6, Page 531"
     ]
    },
    {
     "cell_type": "code",
     "collapsed": false,
     "input": [
      "import math\n",
      "\n",
      "#Variable declaration\n",
      "f=60.;#in Hertzs\n",
      "P=8;#no. of poles\n",
      "R_2=0.02;#in ohms\n",
      "X_2=0.08;#in ohms\n",
      "\n",
      "#Calculations&Results\n",
      "s_b=R_2/X_2;#breakdown slip \n",
      "print '(a) breakdown slip=%.2f'%s_b\n",
      "N_s=120*f/P;#synchronous speed (in rpm)\n",
      "w_s=N_s*2*math.pi/60;\n",
      "N_m=(1-s_b)*N_s;#motor speed (in rpm)\n",
      "V_1=120.;#in V\n",
      "T_dm=(3*V_1**2*s_b)/(2*w_s*R_2)\n",
      "print 'Breakdown torque (in Newton-meter)=%.3f'%T_dm\n",
      "T_s=2*1*s_b*T_dm/(1+s_b**2);\n",
      "print '(b) Starting torque is %.2f'%(T_s/T_dm),\"times the max torque\";\n",
      "s_bn=(-(-2.5)-math.sqrt((-2.5)**2-4*1*1))/2;#new breakdown slip\n",
      "R_2n=s_bn*X_2;\n",
      "print 'rotor resistance (in ohms)=%.2f'%R_2n"
     ],
     "language": "python",
     "metadata": {},
     "outputs": [
      {
       "output_type": "stream",
       "stream": "stdout",
       "text": [
        "(a) breakdown slip=0.25\n",
        "Breakdown torque (in Newton-meter)=2864.789\n",
        "(b) Starting torque is 0.47 times the max torque\n",
        "rotor resistance (in ohms)=0.04\n"
       ]
      }
     ],
     "prompt_number": 7
    },
    {
     "cell_type": "heading",
     "level": 2,
     "metadata": {},
     "source": [
      "Example 9.7, Page 535"
     ]
    },
    {
     "cell_type": "code",
     "collapsed": false,
     "input": [
      "import math\n",
      "\n",
      "#Variable declaration\n",
      "f=60;#in Hertzs\n",
      "P=4;#no. of poles\n",
      "V_1=230;#in volts\n",
      "I_2=4.5;#rotor current (in Amperes)\n",
      "P_d=2*746;#in watts\n",
      "N_m=1710;#speed of motor in (rpm)\n",
      "\n",
      "#Calculations\n",
      "N_s=120*f/P;#Synchronous speed (in rpm)\n",
      "s=(N_s-N_m)/N_s;#slip\n",
      "w_m=2*math.pi*N_m/60;#in rad/sec\n",
      "T_d=P_d/w_m;#torque developed (in Newton-meter)\n",
      "T_dL=T_d*(0.9*230/230)**2;#in Newton-meter\n",
      "I_2L=I_2*(0.9*230/230);#in Amperes\n",
      "T_dH=8.33*1.1**2;#in Newton-meter\n",
      "I_2H=I_2*1.1;#in Amperes\n",
      "\n",
      "#Result\n",
      "print \"(a) Torque range (in Newton-meter) is:\";\n",
      "print 'minimum value=%.2f'%T_dL\n",
      "print 'maximum value=%.2f'%T_dH\n",
      "print \"(b) Current range (in Amperes) is:\";\n",
      "print 'minimum value=%.2f'%I_2L\n",
      "print 'maximum value=%.2f'%I_2H"
     ],
     "language": "python",
     "metadata": {},
     "outputs": [
      {
       "output_type": "stream",
       "stream": "stdout",
       "text": [
        "(a) Torque range (in Newton-meter) is:\n",
        "minimum value=6.75\n",
        "maximum value=10.08\n",
        "(b) Current range (in Amperes) is:\n",
        "minimum value=4.05\n",
        "maximum value=4.95\n"
       ]
      }
     ],
     "prompt_number": 8
    },
    {
     "cell_type": "heading",
     "level": 2,
     "metadata": {},
     "source": [
      "Example 9.8, Page 540"
     ]
    },
    {
     "cell_type": "code",
     "collapsed": false,
     "input": [
      "import math\n",
      "\n",
      "#Variable declaration\n",
      "V_1=208;#in Volts\n",
      "f=60;#in Hertzs\n",
      "P=4;#no. of poles\n",
      "N_m=1710;#in rpm\n",
      "\n",
      "#Calculations&Results\n",
      "R_1=2.4/2;#in ohms\n",
      "print 'R_1 (in ohms)=%.1f'%R_1\n",
      "W_oc=450./3;#in Watts\n",
      "P_fw_phy=18./3;#in Watts\n",
      "P_oc=W_oc-P_fw_phy;#in Watts\n",
      "V_oc=V_1/math.sqrt(3);#in Volts\n",
      "I_oc=1.562;#in Amperes\n",
      "R_c=V_oc**2/P_oc;\n",
      "print 'R_c=core loss resistance (in ohms)=%.f'%R_c\n",
      "S_oc=V_oc*I_oc;#in Volt-Ampere\n",
      "theta_oc=math.acos(W_oc/S_oc);\n",
      "I_m=I_oc*math.sin(theta_oc);\n",
      "X_m=V_oc/I_m;\n",
      "print 'X_m=Magnetization reactance (in ohms)=%.f'%X_m\n",
      "V_br=27/math.sqrt(3);#in Volts\n",
      "P_br=59.4/3;#in Watts\n",
      "I_br=2.77;#In Amperes\n",
      "R_e=P_br/I_br**2;\n",
      "R_2=R_e-R_1;\n",
      "print 'R_2 (in ohms)=%.2f'%R_2\n",
      "Z_e=V_br/I_br;\n",
      "X_e=math.sqrt(Z_e**2-R_e**2);\n",
      "X_1=X_e/2;\n",
      "X_2=X_1;\n",
      "print 'X_1 (in ohms)=%.1f'%X_1\n",
      "print 'X_2 (in ohms)=%.1f'%X_2"
     ],
     "language": "python",
     "metadata": {},
     "outputs": [
      {
       "output_type": "stream",
       "stream": "stdout",
       "text": [
        "R_1 (in ohms)=1.2\n",
        "R_c=core loss resistance (in ohms)=100\n",
        "X_m=Magnetization reactance (in ohms)=128\n",
        "R_2 (in ohms)=1.38\n",
        "X_1 (in ohms)=2.5\n",
        "X_2 (in ohms)=2.5\n"
       ]
      }
     ],
     "prompt_number": 9
    },
    {
     "cell_type": "heading",
     "level": 2,
     "metadata": {},
     "source": [
      "Example 9.10, Page 549"
     ]
    },
    {
     "cell_type": "code",
     "collapsed": false,
     "input": [
      "import math\n",
      "\n",
      "#Variable declaration\n",
      "R=20*10**-6;#in ohms\n",
      "X=2*10**-3;#in ohms\n",
      "P=4.;#no. of poles\n",
      "Q=48.;#no. of bars\n",
      "S=36.;#no. of slots\n",
      "#For Stator:\n",
      "m_1=3.;#no. of phases\n",
      "\n",
      "#Calculations&Results\n",
      "n=3*(S/(P*3));#coils per pole per phase \n",
      "S_p=S/P;#pole span\n",
      "S_s=180./S_p;#slot span (in electrical degree)\n",
      "k_p1=math.sin(140/2*math.pi/180);#pitch factor\n",
      "k_d1=math.sin(3*S_s/2*math.pi/180)/(3*math.sin(S_s/2*math.pi/180));#distribution factor\n",
      "k_w1=k_p1*k_d1;#winding factor\n",
      "N_1=10*S/3;#turns per phase\n",
      "#For Rotor:\n",
      "k_w2=1;\n",
      "m_2=Q/P;#no. of phases\n",
      "N_2=P/2;#turns per phase\n",
      "a=int((k_w1*N_1/(k_w2*N_2))*math.sqrt(m_1/m_2));\n",
      "R_2=a**2*R;\n",
      "print \"Rotor Parameters as reffered to stator:\";\n",
      "print 'R_2 (in mili ohms)=%.2f'%(R_2*1000)\n",
      "X_2=a**2*X;\n",
      "print 'X_2 (in ohms)=%.3f'%X_2"
     ],
     "language": "python",
     "metadata": {},
     "outputs": [
      {
       "output_type": "stream",
       "stream": "stdout",
       "text": [
        "Rotor Parameters as reffered to stator:\n",
        "R_2 (in mili ohms)=14.58\n",
        "X_2 (in ohms)=1.458\n"
       ]
      }
     ],
     "prompt_number": 11
    }
   ],
   "metadata": {}
  }
 ]
}