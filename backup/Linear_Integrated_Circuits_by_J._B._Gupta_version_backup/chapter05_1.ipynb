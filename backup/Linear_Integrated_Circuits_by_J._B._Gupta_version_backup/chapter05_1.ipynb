{
 "metadata": {
  "name": ""
 },
 "nbformat": 3,
 "nbformat_minor": 0,
 "worksheets": [
  {
   "cells": [
    {
     "cell_type": "heading",
     "level": 1,
     "metadata": {},
     "source": [
      "Chapter-5 : General Applications Of Op-Amps"
     ]
    },
    {
     "cell_type": "heading",
     "level": 2,
     "metadata": {},
     "source": [
      "Example 5.1 - Page 156"
     ]
    },
    {
     "cell_type": "code",
     "collapsed": false,
     "input": [
      "from numpy import pi\n",
      "import math\n",
      "# Given data\n",
      "fo= 15 # in kHz\n",
      "fo= fo*10**3 # in Hz\n",
      "C=0.01 # in micro F\n",
      "C=C*10**-6 # in F\n",
      "L= 1/(4*pi**2*fo**2*C) # in H\n",
      "L=math.ceil(L*10**3) # in mH\n",
      "# Let L be of 12 mH and internal resistance 30 ohm\n",
      "R=30 # internal resistance in ohm\n",
      "XL= 2*pi*L*10**-3*fo \n",
      "Q= XL/R \n",
      "R_P= Q**2*R # in ohm\n",
      "# If\n",
      "R1=100 # in ohm\n",
      "# Formula L= R_f*R_P/(R1*(R_f+R_P)) \n",
      "R_f= R1*L*R_P/(R_P-R1*L) # in ohm\n",
      "R_f=R_f*10**3 # in kohm\n",
      "R_f= 1.2 # in k ohm (Standard value)\n",
      "print \"The values of component chosen are:-\" \n",
      "print \"Value of L   = %0.f mH\" %L\n",
      "print \"Value of C   = %0.2f micro F\" %(C*10**6)\n",
      "print \"Value of R_f = %0.1f k ohm\" %R_f\n",
      "print \"Value of R1  = %0.f ohm\" %R1"
     ],
     "language": "python",
     "metadata": {},
     "outputs": [
      {
       "output_type": "stream",
       "stream": "stdout",
       "text": [
        "The values of component chosen are:-\n",
        "Value of L   = 12 mH\n",
        "Value of C   = 0.01 micro F\n",
        "Value of R_f = 1.2 k ohm\n",
        "Value of R1  = 100 ohm\n"
       ]
      }
     ],
     "prompt_number": 2
    },
    {
     "cell_type": "heading",
     "level": 2,
     "metadata": {},
     "source": [
      "Example 5.2 - Page 159"
     ]
    },
    {
     "cell_type": "code",
     "collapsed": false,
     "input": [
      "from __future__ import division\n",
      "# Given data\n",
      "Rf= 12 # in k ohm\n",
      "Rs1= 12 # in k ohm\n",
      "Rs2= 2 # in k ohm\n",
      "Rs3= 3 # in k ohm\n",
      "Vi1= 9 # in volt\n",
      "Vi2= -3 # in volt\n",
      "Vi3= -1 # in volt\n",
      "Vout= -Rf*(Vi1/Rs1+Vi2/Rs2+Vi3/Rs3) # in volt\n",
      "print \"Output voltage = %0.f volt\" %Vout"
     ],
     "language": "python",
     "metadata": {},
     "outputs": [
      {
       "output_type": "stream",
       "stream": "stdout",
       "text": [
        "Output voltage = 13 volt\n"
       ]
      }
     ],
     "prompt_number": 3
    },
    {
     "cell_type": "heading",
     "level": 2,
     "metadata": {},
     "source": [
      "Example 5.3 - Page NO 159"
     ]
    },
    {
     "cell_type": "code",
     "collapsed": false,
     "input": [
      "# Given expression Vout= -2*V1+3*V2+4*V3\n",
      "# For an operational amplifier\n",
      "# Vout= -Rf*[V1/R1+V2/R2+V3/R3]\n",
      "# Compare the above expression with the given expression for the output\n",
      "r_1=2 # value of Rf/R1\n",
      "r_2=3 # value of Rf/R2\n",
      "r_3=4 # value of Rf/R3\n",
      "# Resistance R3 will be minimum value of 10 k ohm\n",
      "R3=10 # in k ohm\n",
      "Rf= r_3*R3 # in k ohm\n",
      "R2= Rf/r_2 # in k ohm\n",
      "R1= Rf/r_1 # in k ohm\n",
      "print \"Value of Rf = %0.f k ohm\" %Rf\n",
      "print \"Value of R2 = %0.2f k ohm\" %R2\n",
      "print \"Value of R1 = %0.f k ohm\" %R1"
     ],
     "language": "python",
     "metadata": {},
     "outputs": [
      {
       "output_type": "stream",
       "stream": "stdout",
       "text": [
        "Value of Rf = 40 k ohm\n",
        "Value of R2 = 13.33 k ohm\n",
        "Value of R1 = 20 k ohm\n"
       ]
      }
     ],
     "prompt_number": 4
    },
    {
     "cell_type": "heading",
     "level": 2,
     "metadata": {},
     "source": [
      "Example : 5.4 - Page No 159\n",
      "    "
     ]
    },
    {
     "cell_type": "code",
     "collapsed": false,
     "input": [
      "# Given data\n",
      "V1= 2 # in volt\n",
      "V2= -1 # in volt\n",
      "# Let R1= (R||R)/(R+(R||R))= (R/2)/(R+R/2) = 1/3\n",
      "R1=1/3 \n",
      "Vs1= V1*R1 # in volt\n",
      "# Let R2= (1+Rf/R)= (1+2*R/R)= 3\n",
      "R2= 3 \n",
      "Vo_desh= Vs1*R2 # in volt\n",
      "Vs2= V2*R1 # in volt\n",
      "Vo_doubleDesh= Vs2*R2 # in volt\n",
      "V_out= Vo_desh+Vo_doubleDesh # in volt\n",
      "print \"Output voltage = %0.f volt\" %V_out"
     ],
     "language": "python",
     "metadata": {},
     "outputs": [
      {
       "output_type": "stream",
       "stream": "stdout",
       "text": [
        "Output voltage = 1 volt\n"
       ]
      }
     ],
     "prompt_number": 5
    },
    {
     "cell_type": "heading",
     "level": 2,
     "metadata": {},
     "source": [
      "Example : 5.5 - Page No 160\n",
      "    "
     ]
    },
    {
     "cell_type": "code",
     "collapsed": false,
     "input": [
      "# Given expression Vout= 10*(V2-V1)\n",
      "# For a differential amplifier circuit\n",
      "# Vout= Rf/R*(V2-V1)\n",
      "# Compare the above expression with the given expression for the output, we have\n",
      "RfbyR= 10 \n",
      "R=10 # minimum value of resistancce to be used in kohm\n",
      "Rf= RfbyR * R # in k ohm\n",
      "print \"Value of Rf = %0.f k ohm\" %Rf"
     ],
     "language": "python",
     "metadata": {},
     "outputs": [
      {
       "output_type": "stream",
       "stream": "stdout",
       "text": [
        "Value of Rf = 100 k ohm\n"
       ]
      }
     ],
     "prompt_number": 6
    },
    {
     "cell_type": "heading",
     "level": 2,
     "metadata": {},
     "source": [
      "Example : 5.7 - Page No 164\n",
      "    "
     ]
    },
    {
     "cell_type": "code",
     "collapsed": false,
     "input": [
      "from __future__ import division\n",
      "# Given data\n",
      "R1= 50 # in kohm\n",
      "# Let us choose\n",
      "R3= 15 # in k ohm\n",
      "R4= R3 \n",
      "# Ad= 1+2*R2/R1             (i)\n",
      "# Ad= ((1+2*R2/R1)*(V2-V1))/(V2-V1)= 1+2*R2/R1\n",
      "# For minimum differential voltage gain\n",
      "Ad_min=5 \n",
      "Ad= Ad_min \n",
      "R1_max= R1 # since Ad will be minimum only when R1 will be maximum\n",
      "# Putting values of Ad and R1 in eq(i)\n",
      "R2= (Ad-1)*R1/2 # in k ohm\n",
      "# For maximum differential voltage gain\n",
      "Ad_max=200 \n",
      "Ad= Ad_min \n",
      "# Putting values of Ad and R2 in eq(i)\n",
      "R1= 2*R2/(Ad_max-1) # in k ohm\n",
      "R1=int(R1)\n",
      "# For maximum value of Ad, R1 will have minimum value , therefore\n",
      "R1_min= 1 # in kohm\n",
      "print \"Value of R1_min = %0.f k ohm\" %R1_min\n",
      "print \"Value of R1     = %0.f-50 k ohm potentiometer\" %R1\n",
      "print \"Value of R2     = %0.f k ohm\" %R2\n",
      "print \"Value of R3     = %0.f k ohm\" %R3\n",
      "print \"Value of R4     = %0.f k ohm\" %R4"
     ],
     "language": "python",
     "metadata": {},
     "outputs": [
      {
       "output_type": "stream",
       "stream": "stdout",
       "text": [
        "Value of R1_min = 1 k ohm\n",
        "Value of R1     = 1-50 k ohm potentiometer\n",
        "Value of R2     = 100 k ohm\n",
        "Value of R3     = 15 k ohm\n",
        "Value of R4     = 15 k ohm\n"
       ]
      }
     ],
     "prompt_number": 7
    },
    {
     "cell_type": "heading",
     "level": 2,
     "metadata": {},
     "source": [
      "Example : 5.10 - Page No 179\n",
      "    "
     ]
    },
    {
     "cell_type": "code",
     "collapsed": false,
     "input": [
      "# Given data\n",
      "Vin= 10 # in volt\n",
      "R=2.2 # in k ohm\n",
      "R=R*10**3 #in ohm\n",
      "Ad=10**5 # voltage gain\n",
      "T= 1 # in ms\n",
      "T=T*10**-3 # in second\n",
      "C=1 # in micro F\n",
      "C=C*10**-6 # in F\n",
      "I= Vin/R # in volt\n",
      "V= I*T/C # in V\n",
      "print \"The output voltage at the end of the pulse = %0.3f volt\" %V\n",
      "RC_desh= R*C*Ad \n",
      "print \"The closed-loop time constant = %0.f second \" %RC_desh"
     ],
     "language": "python",
     "metadata": {},
     "outputs": [
      {
       "output_type": "stream",
       "stream": "stdout",
       "text": [
        "The output voltage at the end of the pulse = 4.545 volt\n",
        "The closed-loop time constant = 220 second \n"
       ]
      }
     ],
     "prompt_number": 8
    },
    {
     "cell_type": "heading",
     "level": 2,
     "metadata": {},
     "source": [
      "Example : 5.11 - Page No 180\n",
      "    "
     ]
    },
    {
     "cell_type": "code",
     "collapsed": false,
     "input": [
      "# Given data\n",
      "C=0.01 # in micro F\n",
      "C=C*10**-6 # in F\n",
      "omega= 10000 # in  rad/second\n",
      "# Vout/V1= (Rf/R1)/(1+s*C*Rf)\n",
      "# substituting s= j*omega we have\n",
      "# Vout/V1 = (Rf/R1)/sqrt((omega*C*Rf)**2+1)\n",
      "# At omega=0\n",
      "# Vout/V1= Rf/R1\n",
      "# Formula omega= 1/(C*Rf)\n",
      "Rf= 1/(C*omega) # in ohm\n",
      "Rf= Rf*10**-3 # in k ohm\n",
      "# 20*log10(Rf/R1) = 20\n",
      "R1= Rf/10 # in k ohm\n",
      "print \"Value of Rf = %0.f k ohm\" %Rf\n",
      "print \"Value of R1 = %0.f k ohm\" %R1"
     ],
     "language": "python",
     "metadata": {},
     "outputs": [
      {
       "output_type": "stream",
       "stream": "stdout",
       "text": [
        "Value of Rf = 10 k ohm\n",
        "Value of R1 = 1 k ohm\n"
       ]
      }
     ],
     "prompt_number": 9
    },
    {
     "cell_type": "heading",
     "level": 2,
     "metadata": {},
     "source": [
      "Example : 5.12 Page No 180\n",
      "    "
     ]
    },
    {
     "cell_type": "code",
     "collapsed": false,
     "input": [
      "%matplotlib inline\n",
      "import matplotlib.pyplot as plt\n",
      "import numpy as np\n",
      "#Given Data : \n",
      "R=40*1000 #in ohm(assumed)\n",
      "C=0.2*10**-6 #IN FARAD\n",
      "Vout=3 #in Volt\n",
      "V1=Vout #in Volt\n",
      "V2=Vout #in Volt\n",
      "plt.plot([0,50],[3,-9.5]) \n",
      "plt.title('Output voltage')\n",
      "plt.xlabel('Time in milliseconds')\n",
      "plt.ylabel('Output voltage in volts')\n",
      "plt.axis([0, 60, -12, 5])\n",
      "plt.show()\n",
      "print \"Assuming Ideal op-amp, sketch for Vout is shown in figure.\" \n",
      "\n",
      "\n"
     ],
     "language": "python",
     "metadata": {},
     "outputs": [
      {
       "metadata": {},
       "output_type": "display_data",
       "png": "[encoded data removed]",
       "text": [
        "<matplotlib.figure.Figure at 0x7f28015d6c10>"
       ]
      },
      {
       "output_type": "stream",
       "stream": "stdout",
       "text": [
        "Assuming Ideal op-amp, sketch for Vout is shown in figure.\n"
       ]
      }
     ],
     "prompt_number": 11
    },
    {
     "cell_type": "heading",
     "level": 2,
     "metadata": {},
     "source": [
      "Example : 5.13 - Page No 185"
     ]
    },
    {
     "cell_type": "code",
     "collapsed": false,
     "input": [
      "from sympy import symbols, simplify, sin\n",
      "t = symbols('t')\n",
      "# Given data\n",
      "R= 50*10**3 # in ohm\n",
      "C= 2*10**-6 # in F\n",
      "CR= C*R #scale factor\n",
      "# Vout= -CR*dvc/dt= -CR*d/dt(10*sin(4000*pi*t))\n",
      "print \"Output voltage : 12.56*cos(4000*pi*t) mV\"\n",
      "\n"
     ],
     "language": "python",
     "metadata": {},
     "outputs": [
      {
       "output_type": "stream",
       "stream": "stdout",
       "text": [
        "Output voltage : 12.56*cos(4000*pi*t) mV\n"
       ]
      }
     ],
     "prompt_number": 35
    },
    {
     "cell_type": "heading",
     "level": 2,
     "metadata": {},
     "source": [
      "Example : 5.14 - Page No 185\n",
      "    "
     ]
    },
    {
     "cell_type": "code",
     "collapsed": false,
     "input": [
      "from __future__ import division\n",
      "%matplotlib inline\n",
      "from sympy import symbols, simplify, sin\n",
      "import matplotlib.pyplot as plt\n",
      "import numpy as np\n",
      "# Given data\n",
      "fa= 1 # in kHz\n",
      "fa=fa*10**3 # in Hz\n",
      "Vp=1.5 # in volt\n",
      "f= 200 # in Hz\n",
      "C=0.1 # in micro F\n",
      "C=C*10**-6 # in F\n",
      "R= 1/(2*np.pi*fa*C) # in ohm\n",
      "R=R*10**-3 # in k ohm\n",
      "R=np.floor(R*10)/10 # in k ohm\n",
      "fb= 20*fa # in Hz\n",
      "R_desh= 1/(2*np.pi*fb*C) # in ohm\n",
      "# Let\n",
      "R_desh= 82 # in ohm\n",
      "R_OM= R # in k ohm\n",
      "print \"Value of R_OM = %0.1f k ohm\" %R_OM\n",
      "CR= C*R \n",
      "# Vin= Vp*sin(omega*t)= 1.5*sin(400*t)\n",
      "# v_out= -CR*diff(v_in) = -0.2827 Cos(400*pi*t)# in micro volt\n",
      "print \"Output Voltage = -0.2827 Cos(400*pi*t)\" \n",
      "t = np.arange(0, .015, 1.0/44100)\n",
      "v_out=-0.2827*np.sin(400*np.pi*t+np.pi/2)# in micro volt\n",
      "plt.plot(t,v_out) \n",
      "plt.title('Output Voltage Waveform')\n",
      "plt.xlabel('Time in ms')\n",
      "plt.ylabel('Vout in Volts') \n",
      "print \"Output Voltage waveform is shown in figure.\""
     ],
     "language": "python",
     "metadata": {},
     "outputs": [
      {
       "output_type": "stream",
       "stream": "stdout",
       "text": [
        "Value of R_OM = 1.5 k ohm\n",
        "Output Voltage = -0.2827 Cos(400*pi*t)\n",
        "Output Voltage waveform is shown in figure."
       ]
      },
      {
       "output_type": "stream",
       "stream": "stdout",
       "text": [
        "\n"
       ]
      },
      {
       "metadata": {},
       "output_type": "display_data",
       "png": "[encoded data removed]",
       "text": [
        "<matplotlib.figure.Figure at 0x7f27e66ccf90>"
       ]
      }
     ],
     "prompt_number": 36
    },
    {
     "cell_type": "heading",
     "level": 2,
     "metadata": {},
     "source": [
      "Example : 5.15 - Page No 186\n",
      "    "
     ]
    },
    {
     "cell_type": "code",
     "collapsed": false,
     "input": [
      "from __future__ import division\n",
      "%matplotlib inline\n",
      "from sympy import symbols, simplify, sin\n",
      "import matplotlib.pyplot as plt\n",
      "import numpy as np\n",
      "from math import sin\n",
      "t = symbols('t')\n",
      "# Given data\n",
      "Vp= 1 # in volts\n",
      "f= 1000 # in Hz\n",
      "R= 1.5*10**3 # in ohm\n",
      "C= 0.1*10**-6 # in F\n",
      "omega= 2*np.pi*f # in radian\n",
      "print \"Output Voltage = -0.942 Cos(400*pi*t)\" \n",
      "t = np.arange(0, .015, 1.0/44100)\n",
      "v_out=-0.942*np.sin(400*np.pi*t+np.pi/2)# in micro volt\n",
      "plt.plot(t,v_out) \n",
      "plt.title('Output Voltage Waveform')\n",
      "plt.xlabel('Time in ms')\n",
      "plt.ylabel('Vout in Volts') \n",
      "print \"Output Voltage waveform is shown in figure.\"\n"
     ],
     "language": "python",
     "metadata": {},
     "outputs": [
      {
       "output_type": "stream",
       "stream": "stdout",
       "text": [
        "Output Voltage = -0.942 Cos(400*pi*t)\n",
        "Output Voltage waveform is shown in figure."
       ]
      },
      {
       "output_type": "stream",
       "stream": "stdout",
       "text": [
        "\n"
       ]
      },
      {
       "metadata": {},
       "output_type": "display_data",
       "png": "[encoded data removed]",
       "text": [
        "<matplotlib.figure.Figure at 0x7f27e7a28290>"
       ]
      }
     ],
     "prompt_number": 39
    },
    {
     "cell_type": "code",
     "collapsed": false,
     "input": [],
     "language": "python",
     "metadata": {},
     "outputs": []
    }
   ],
   "metadata": {}
  }
 ]
}