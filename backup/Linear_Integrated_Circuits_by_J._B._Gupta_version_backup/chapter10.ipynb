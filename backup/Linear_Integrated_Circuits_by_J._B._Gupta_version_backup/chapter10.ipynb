{
 "metadata": {
  "name": ""
 },
 "nbformat": 3,
 "nbformat_minor": 0,
 "worksheets": [
  {
   "cells": [
    {
     "cell_type": "heading",
     "level": 1,
     "metadata": {},
     "source": [
      "Chapter-10 : Phase-Locked Loops (PLL)"
     ]
    },
    {
     "cell_type": "heading",
     "level": 2,
     "metadata": {},
     "source": [
      "Example : 10.1 - Page No 310"
     ]
    },
    {
     "cell_type": "code",
     "collapsed": false,
     "input": [
      "from math import sqrt\n",
      "from numpy import pi\n",
      "from fractions import Fraction \n",
      "# Given data\n",
      "V_pos= 12 # in volt\n",
      "V_Neg= -12 # in volt\n",
      "V=V_pos-V_Neg \n",
      "R1=15 # in k ohm\n",
      "R1=R1*10**3 # in ohm\n",
      "C1=0.01 # in micro F\n",
      "C1=C1*10**-6 # in  F\n",
      "C2=10 # in micro F\n",
      "C2=C2*10**-6 # in  F\n",
      "# (i)\n",
      "f_out= 1.2/(4*R1*C1) # in Hz\n",
      "print \"Free running frequency = %0.f kHz\" %(f_out*10**-3)\n",
      "# (ii)\n",
      "f_L= (8*f_out)/V # in Hz\n",
      "print \"Lock range = \u00b1\" ,Fraction(f_L*10**-3).limit_denominator(100),\"kHz\"\n",
      "f_C= sqrt(f_L/(2*pi*3.6*10**3*C2)) # in Hz\n",
      "print \"Capture range =\u00b1 %0.2f Hz\" %f_C"
     ],
     "language": "python",
     "metadata": {},
     "outputs": [
      {
       "output_type": "stream",
       "stream": "stdout",
       "text": [
        "Free running frequency = 2 kHz\n",
        "Lock range = \u00b1 2/3 kHz\n",
        "Capture range =\u00b1 54.29 Hz\n"
       ]
      }
     ],
     "prompt_number": 4
    }
   ],
   "metadata": {}
  }
 ]
}