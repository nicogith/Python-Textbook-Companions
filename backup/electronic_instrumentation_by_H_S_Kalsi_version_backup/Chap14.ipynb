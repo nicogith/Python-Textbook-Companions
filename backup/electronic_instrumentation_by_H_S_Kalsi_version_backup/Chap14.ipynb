{
 "metadata": {
  "name": "",
  "signature": "sha256:22e515cfdcb31a0dc094c823dd4160ebc2cdde6bfeeb65b5dbdb65b6ac7c27a6"
 },
 "nbformat": 3,
 "nbformat_minor": 0,
 "worksheets": [
  {
   "cells": [
    {
     "cell_type": "heading",
     "level": 1,
     "metadata": {},
     "source": [
      "Chapter 14 Signal conditioning"
     ]
    },
    {
     "cell_type": "heading",
     "level": 2,
     "metadata": {},
     "source": [
      "Example 14.2 Page no 508"
     ]
    },
    {
     "cell_type": "code",
     "collapsed": false,
     "input": [
      "#Given\n",
      "Va=2                                   #Volts\n",
      "Vb=1                                   #Volts\n",
      "Vc=3                                   #Volts\n",
      "R=3000.0                                 #ohm\n",
      "Rf=1000                                #ohm\n",
      "Rom=270                                #ohm\n",
      "\n",
      "#Calculation\n",
      "V0=-(Rf/R)*(Va+Vb+Vc)\n",
      "\n",
      "#Result\n",
      "print\"The output voltage is \", V0,\"Volts\""
     ],
     "language": "python",
     "metadata": {},
     "outputs": [
      {
       "output_type": "stream",
       "stream": "stdout",
       "text": [
        "The output voltage is  -2.0 Volts\n"
       ]
      }
     ],
     "prompt_number": 9
    },
    {
     "cell_type": "heading",
     "level": 2,
     "metadata": {},
     "source": [
      "Example 14.3 Page no 519"
     ]
    },
    {
     "cell_type": "code",
     "collapsed": false,
     "input": [
      "#Given\n",
      "R1=2.2*10**3                                 #ohm\n",
      "Rf=10*10**3                                  #ohm\n",
      "R=120.0*10**3                                   #ohm\n",
      "E=5                                           #volts\n",
      "a=-1000                                          \n",
      "T1=-25                                        #degree C\n",
      "T=100                                         #degree C\n",
      "\n",
      "#Calculation\n",
      "R0=a*T1\n",
      "V0=-((R0*E)/(2.0*(2*R+R0)))*(Rf/R1)\n",
      "R2=a*(T+T1)\n",
      "V1=-((R2*E)/(2.0*(2*R+R2)))*(Rf/R1)\n",
      "\n",
      "#Result\n",
      "print\" The output voltage is at 0 degree C is \", round(V0,2),\"Volts\",\"\\n The output Voltage at 100 Degree C is \",round(V1,2),\"volts\""
     ],
     "language": "python",
     "metadata": {},
     "outputs": [
      {
       "output_type": "stream",
       "stream": "stdout",
       "text": [
        " The output voltage is at 0 degree C is  -1.07 Volts \n",
        " The output Voltage at 100 Degree C is  5.17 volts\n"
       ]
      }
     ],
     "prompt_number": 13
    },
    {
     "cell_type": "heading",
     "level": 2,
     "metadata": {},
     "source": [
      "Example 14.4 Page no 521"
     ]
    },
    {
     "cell_type": "code",
     "collapsed": false,
     "input": [
      "#Given\n",
      "V0=1.5                                   #Volts\n",
      "E=10                                     #Volts\n",
      "R=100                                     #ohm\n",
      "Rf=100                                    #ohm\n",
      "\n",
      "#Calculation\n",
      "R0=(V0*R)/(E*Rf)\n",
      "\n",
      "#Result\n",
      "print\"The change in resistance of each gauge element is \", R0,\"ohm\""
     ],
     "language": "python",
     "metadata": {},
     "outputs": [
      {
       "output_type": "stream",
       "stream": "stdout",
       "text": [
        "The change in resistance of each gauge element is  0.15 ohm\n"
       ]
      }
     ],
     "prompt_number": 16
    }
   ],
   "metadata": {}
  }
 ]
}