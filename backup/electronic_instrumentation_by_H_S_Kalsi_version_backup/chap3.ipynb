{
 "metadata": {
  "name": "",
  "signature": "sha256:607025d5b183f599aab55f55aee44964f766dd94a0ecfa331fb5c9e733e05bf7"
 },
 "nbformat": 3,
 "nbformat_minor": 0,
 "worksheets": [
  {
   "cells": [
    {
     "cell_type": "heading",
     "level": 1,
     "metadata": {},
     "source": [
      "Chapter 3 Ammeters"
     ]
    },
    {
     "cell_type": "heading",
     "level": 2,
     "metadata": {},
     "source": [
      "Example 3.1 (a) Page no 65"
     ]
    },
    {
     "cell_type": "code",
     "collapsed": false,
     "input": [
      "#Given\n",
      "R=100                               #ohm\n",
      "Im=1*10**-3                          #A\n",
      "I=100*10**-3\n",
      "\n",
      "#Calculation\n",
      "Rsh=Im*R/(I-Im)\n",
      "\n",
      "#Result\n",
      "print\"The value of shunt resistance is \", round(Rsh,2),\"ohm\""
     ],
     "language": "python",
     "metadata": {},
     "outputs": [
      {
       "output_type": "stream",
       "stream": "stdout",
       "text": [
        "The value of shunt resistance is  1.01 ohm\n"
       ]
      }
     ],
     "prompt_number": 4
    },
    {
     "cell_type": "heading",
     "level": 2,
     "metadata": {},
     "source": [
      "Example 3.1 (b) Page no 65"
     ]
    },
    {
     "cell_type": "code",
     "collapsed": false,
     "input": [
      "#Given\n",
      "Im=100.0*10**-6                         #A\n",
      "Rm=500                                  #ohm\n",
      "I=100*10**-3                            #A\n",
      "\n",
      "#calculation\n",
      "n=I/Im\n",
      "Rsh=Rm/(n-1)\n",
      "\n",
      "#Result\n",
      "print\"The value of required shunt is \", round(Rsh,2),\"ohm\"\n"
     ],
     "language": "python",
     "metadata": {},
     "outputs": [
      {
       "output_type": "stream",
       "stream": "stdout",
       "text": [
        "The value of required shunt is  0.5 ohm\n"
       ]
      }
     ],
     "prompt_number": 9
    },
    {
     "cell_type": "heading",
     "level": 2,
     "metadata": {},
     "source": [
      "Example 3.2 Page no  66"
     ]
    },
    {
     "cell_type": "code",
     "collapsed": false,
     "input": [
      "#Given\n",
      "I=10.0*10**-3                             #A\n",
      "Im=1.0*10**-3                             #A\n",
      "Rm=100                                    #ohm\n",
      "I1=20.0*10**-3\n",
      "I2=50.0*10**-3\n",
      "\n",
      "#Calculation\n",
      "# For the range of 0-10 mA\n",
      "Rsh1=(Im*Rm)/(I-Im) \n",
      "\n",
      "# For the range of 0-20 mA\n",
      "Rsh2=(Im*Rm)/(I1-Im) \n",
      "\n",
      "# For the range of 0-50 mA\n",
      "Rsh3=(Im*Rm)/(I2-Im)\n",
      "\n",
      "#Result\n",
      "print\"The value of the shunt resistance required for the range 0-10 mA\", round(Rsh1,2),\"ohm\"\n",
      "print\"The value of the shunt resistance required for the range 0-20 mA\", round(Rsh2,1),\"ohm\"\n",
      "print\"The value of the shunt resistance required for the range 0-50 mA\", round(Rsh3,3),\"ohm\"\n"
     ],
     "language": "python",
     "metadata": {},
     "outputs": [
      {
       "output_type": "stream",
       "stream": "stdout",
       "text": [
        "The value of the shunt resistance required for the range 0-10 mA 11.11 ohm\n",
        "The value of the shunt resistance required for the range 0-20 mA 5.3 ohm\n",
        "The value of the shunt resistance required for the range 0-50 mA 2.041 ohm\n"
       ]
      }
     ],
     "prompt_number": 17
    },
    {
     "cell_type": "heading",
     "level": 2,
     "metadata": {},
     "source": [
      "Example 3.3 page no 67"
     ]
    },
    {
     "cell_type": "code",
     "collapsed": false,
     "input": [
      "#Given\n",
      "Im=10.0*10**-3                          #A\n",
      "Rm=500                                  #ohm\n",
      "I=1000.0*10**-3                         #A\n",
      "I1=5000.0*10**-3                        #A\n",
      "I2=10000.0*10**-3                       #A\n",
      "\n",
      "#Calculation\n",
      "# For the range of 0-1A, i.e, 1000mA\n",
      "Rsh1=(Im*Rm)/(I-Im)  \n",
      "\n",
      "# For the range of 0-5A, i.e, 5000mA\n",
      "Rsh2=(Im*Rm)/(I1-Im) \n",
      "\n",
      "# For the range of 0-10A, i.e, 10000mA\n",
      "Rsh3=(Im*Rm)/(I2-Im)\n",
      "\n",
      "#Result\n",
      "print\"The value of shunt resistance for the range 0-1A\", round(Rsh1,2),\"ohm\"\n",
      "print\"The value of shunt resistance for the range 0-5A\", round(Rsh2,3),\"ohm\"\n",
      "print\"The value of shunt resistance for the range 0-10A\", round(Rsh3*10**-1,3),\"ohm\"\n",
      "\n"
     ],
     "language": "python",
     "metadata": {},
     "outputs": [
      {
       "output_type": "stream",
       "stream": "stdout",
       "text": [
        "The value of shunt resistance for the range 0-1A 5.05 ohm\n",
        "The value of shunt resistance for the range 0-5A 1.002 ohm\n",
        "The value of shunt resistance for the range 0-10A 0.05 ohm\n"
       ]
      }
     ],
     "prompt_number": 22
    }
   ],
   "metadata": {}
  }
 ]
}