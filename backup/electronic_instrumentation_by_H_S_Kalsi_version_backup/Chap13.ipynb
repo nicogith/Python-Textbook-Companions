{
 "metadata": {
  "name": "",
  "signature": "sha256:0022da94b1d3ec30a76a501a1e2a864424059045ea34a0bef2657a4e00b24747"
 },
 "nbformat": 3,
 "nbformat_minor": 0,
 "worksheets": [
  {
   "cells": [
    {
     "cell_type": "heading",
     "level": 1,
     "metadata": {},
     "source": [
      "Chapter 13 Transducers"
     ]
    },
    {
     "cell_type": "heading",
     "level": 2,
     "metadata": {},
     "source": [
      "Example 13.1 Page no 412"
     ]
    },
    {
     "cell_type": "code",
     "collapsed": false,
     "input": [
      "#Given\n",
      "R=5*10**3                                 #ohm\n",
      "a=0.9                                     #in.\n",
      "b=3.0                                      #in.\n",
      "R2=1500                                    #ohm\n",
      "Vt=5                                       #volts\n",
      "\n",
      "#Calculation\n",
      "R2=(a*R)/b\n",
      "V0=(R2/R)*Vt\n",
      "\n",
      "#Result\n",
      "print\"The value of output resistance is \", V0,\"volts\""
     ],
     "language": "python",
     "metadata": {},
     "outputs": [
      {
       "output_type": "stream",
       "stream": "stdout",
       "text": [
        "The value of output resistance is  1.5 volts\n"
       ]
      }
     ],
     "prompt_number": 4
    },
    {
     "cell_type": "heading",
     "level": 2,
     "metadata": {},
     "source": [
      "Example 13.2 Page no 413"
     ]
    },
    {
     "cell_type": "code",
     "collapsed": false,
     "input": [
      "#Given\n",
      "a=3\n",
      "b=5.0           \n",
      "R=5*10**3                                     #ohm\n",
      "Vt=5                                           #volts\n",
      "R4=2.5*10**3                                   #ohm\n",
      "\n",
      "#Calculation\n",
      "R2=(a*R)/b\n",
      "Ve=((R2/R)*Vt-(R4/R)*Vt)\n",
      "\n",
      "#Results\n",
      "print\"The value of Ve is \",Ve,\"volts\""
     ],
     "language": "python",
     "metadata": {},
     "outputs": [
      {
       "output_type": "stream",
       "stream": "stdout",
       "text": [
        "The value of Ve is  0.5 volts\n"
       ]
      }
     ],
     "prompt_number": 9
    },
    {
     "cell_type": "heading",
     "level": 2,
     "metadata": {},
     "source": [
      "Example 13.3 Page no 417"
     ]
    },
    {
     "cell_type": "code",
     "collapsed": false,
     "input": [
      "#Given\n",
      "K=2\n",
      "R=130                               #ohm\n",
      "l=1*10**-6\n",
      "\n",
      "#Calculation\n",
      "R1=K*R*l\n",
      "\n",
      "#Result\n",
      "print\"The value of change in resistance is \", R1*10**6,\"micro ohm\""
     ],
     "language": "python",
     "metadata": {},
     "outputs": [
      {
       "output_type": "stream",
       "stream": "stdout",
       "text": [
        "The value of change in resistance is  260.0 micro ohm\n"
       ]
      }
     ],
     "prompt_number": 14
    },
    {
     "cell_type": "heading",
     "level": 2,
     "metadata": {},
     "source": [
      "Example 13.4 Page no 427"
     ]
    },
    {
     "cell_type": "code",
     "collapsed": false,
     "input": [
      "#Given\n",
      "Vt=15                                 #Volts\n",
      "R1=4000.0                              #ohm\n",
      "R2=17.0                                 #ohm\n",
      "R3=3.0                                   #ohm\n",
      "R4=950                                   #ohm\n",
      "\n",
      "#Calculation\n",
      "I=Vt/(R1+R2+R3)\n",
      "I1=Vt/(R2+R3+R4)\n",
      "\n",
      "#Result\n",
      "print\" Meter reading at 77 degree F is \", round(I*10**3,2),\"mA\",\"\\n Meter reading at 150 degree F is \",round(I1*10**3,1),\"mA\""
     ],
     "language": "python",
     "metadata": {},
     "outputs": [
      {
       "output_type": "stream",
       "stream": "stdout",
       "text": [
        " Meter reading at 77 degree F is  3.73 mA \n",
        " Meter reading at 150 degree F is  15.5 mA\n"
       ]
      }
     ],
     "prompt_number": 29
    },
    {
     "cell_type": "heading",
     "level": 2,
     "metadata": {},
     "source": [
      "Example 13.5 Page no 432"
     ]
    },
    {
     "cell_type": "code",
     "collapsed": false,
     "input": [
      "#Given\n",
      "L=2500                          #F\n",
      "a=1\n",
      "b=0.04\n",
      "\n",
      "#Calculation\n",
      "c=a-b\n",
      "Lt=L*(1/c)\n",
      "Ld=Lt-L\n",
      "\n",
      "#Result\n",
      "print\"The value of inductance is \", round(Ld,0),\"micro H\""
     ],
     "language": "python",
     "metadata": {},
     "outputs": [
      {
       "output_type": "stream",
       "stream": "stdout",
       "text": [
        "The value of inductance is  104.0 micro H\n"
       ]
      }
     ],
     "prompt_number": 8
    },
    {
     "cell_type": "heading",
     "level": 2,
     "metadata": {},
     "source": [
      "Example 13.6 Page no 437"
     ]
    },
    {
     "cell_type": "code",
     "collapsed": false,
     "input": [
      "#Given\n",
      "V1=6.3                                     #volts\n",
      "V2=5.2                                     #Volts\n",
      "a=-0.5                                       #in.\n",
      "b=-0.30\n",
      "c=-5.2\n",
      "d=-0.25\n",
      "\n",
      "#Calculation\n",
      "V0=(b*c)/a\n",
      "V=(d*c)/a\n",
      "\n",
      "#Result\n",
      "print\"(i)  The output voltage is \", V0,\"Volts\"\n",
      "print\"(ii) The output voltage is \", V,\"volts\""
     ],
     "language": "python",
     "metadata": {},
     "outputs": [
      {
       "output_type": "stream",
       "stream": "stdout",
       "text": [
        "(i)  The output voltage is  -3.12 Volts\n",
        "(ii) The output voltage is  -2.6 volts\n"
       ]
      }
     ],
     "prompt_number": 43
    },
    {
     "cell_type": "heading",
     "level": 2,
     "metadata": {},
     "source": [
      "Example 13.7 Page no 450"
     ]
    },
    {
     "cell_type": "code",
     "collapsed": false,
     "input": [
      "#Given\n",
      "K=0.32\n",
      "a=7.06*10**-3                                   #J\n",
      "\n",
      "#Calculation\n",
      "E=a/K\n",
      "\n",
      "#Result\n",
      "print\"Electric energy is \", round(E*10**3,2),\"mJ\""
     ],
     "language": "python",
     "metadata": {},
     "outputs": [
      {
       "output_type": "stream",
       "stream": "stdout",
       "text": [
        "Electric energy is  22.06 mJ\n"
       ]
      }
     ],
     "prompt_number": 49
    },
    {
     "cell_type": "heading",
     "level": 2,
     "metadata": {},
     "source": [
      "Example 13.8 (a) Page no 453"
     ]
    },
    {
     "cell_type": "code",
     "collapsed": false,
     "input": [
      "#Given\n",
      "V=30                                    #Volts\n",
      "I=10*10**-3                             #A\n",
      "Rcell=1000                                   #ohm\n",
      "R1=100*10**3                                 #ohm\n",
      "\n",
      "#Calculation\n",
      "R=(V/I)-Rcell\n",
      "I1=V/(R+R1)\n",
      "\n",
      "#Result \n",
      "print\"(i) The required series resistance is \", R*10**-3,\"Kohm\"\n",
      "print\"(ii) Dark current level is \",round(I1*10**3,1),\"mA\""
     ],
     "language": "python",
     "metadata": {},
     "outputs": [
      {
       "output_type": "stream",
       "stream": "stdout",
       "text": [
        "(i) The required series resistance is  2.0 Kohm\n",
        "(ii) Dark current level is  0.3 mA\n"
       ]
      }
     ],
     "prompt_number": 62
    },
    {
     "cell_type": "heading",
     "level": 2,
     "metadata": {},
     "source": [
      "Example 13.8 (b) Page no 460"
     ]
    },
    {
     "cell_type": "code",
     "collapsed": false,
     "input": [
      "#Given\n",
      "R0=180\n",
      "a=0.00392\n",
      "T1=60                         #degree\n",
      "T2=20                         #degree\n",
      "\n",
      "#Calculation\n",
      "R=R0*(1-(a*(T1-T2)))\n",
      "\n",
      "#Result\n",
      "print\"The resistance is \", round(R,2),\"ohm\""
     ],
     "language": "python",
     "metadata": {},
     "outputs": [
      {
       "output_type": "stream",
       "stream": "stdout",
       "text": [
        "The resistance is  151.78 ohm\n"
       ]
      }
     ],
     "prompt_number": 13
    },
    {
     "cell_type": "heading",
     "level": 2,
     "metadata": {},
     "source": [
      "Example 13.9 Page no 460"
     ]
    },
    {
     "cell_type": "code",
     "collapsed": false,
     "input": [
      "#Given\n",
      "R0=100.0\n",
      "a=0.00392\n",
      "T1=50                          #degree\n",
      "T2=25                         #degree\n",
      "R=200                          #ohm\n",
      "\n",
      "R=R0*(1+a*(T1-T2))\n",
      "t2=(((R/R0)-1)/a)+T2\n",
      "print t2"
     ],
     "language": "python",
     "metadata": {},
     "outputs": [
      {
       "output_type": "stream",
       "stream": "stdout",
       "text": [
        "50.0\n"
       ]
      }
     ],
     "prompt_number": 14
    }
   ],
   "metadata": {}
  }
 ]
}