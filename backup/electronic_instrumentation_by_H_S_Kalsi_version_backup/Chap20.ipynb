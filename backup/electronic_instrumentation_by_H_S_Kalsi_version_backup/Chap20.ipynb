{
 "metadata": {
  "name": "",
  "signature": "sha256:188a137b5dad28c9242953d4ba18308d43530d869157a87980207688e00b52f5"
 },
 "nbformat": 3,
 "nbformat_minor": 0,
 "worksheets": [
  {
   "cells": [
    {
     "cell_type": "heading",
     "level": 1,
     "metadata": {},
     "source": [
      "Chapter 20 Measurment of power"
     ]
    },
    {
     "cell_type": "heading",
     "level": 2,
     "metadata": {},
     "source": [
      "Example 20.1 Page no 721"
     ]
    },
    {
     "cell_type": "code",
     "collapsed": false,
     "input": [
      "#Given\n",
      "V1=20                            #volts\n",
      "V2=30                            #Volts\n",
      "R1=100                           #ohm\n",
      "\n",
      "#Calculation\n",
      "p=(V2**2-V1**2)/(4.0*R1)\n",
      "\n",
      "#Result\n",
      "print\"RF test power is \", p,\"Watt\""
     ],
     "language": "python",
     "metadata": {},
     "outputs": [
      {
       "output_type": "stream",
       "stream": "stdout",
       "text": [
        "RF test power is  1.25 Watt\n"
       ]
      }
     ],
     "prompt_number": 3
    },
    {
     "cell_type": "heading",
     "level": 2,
     "metadata": {},
     "source": [
      "Example 20.2 Page no 725"
     ]
    },
    {
     "cell_type": "code",
     "collapsed": false,
     "input": [
      "#Given\n",
      "m=200                           #gm\n",
      "sp=1                             #cal/gm degree C\n",
      "T1=30                            #degree C\n",
      "T2=40                            #degree C\n",
      "\n",
      "#Calculation\n",
      "P=4.18*m*sp*(T2-T1)\n",
      "\n",
      "#Result\n",
      "print\"The power is \",round(P*10**-3,1),\"K watt\""
     ],
     "language": "python",
     "metadata": {},
     "outputs": [
      {
       "output_type": "stream",
       "stream": "stdout",
       "text": [
        "The power is  8.4 K watt\n"
       ]
      }
     ],
     "prompt_number": 10
    },
    {
     "cell_type": "heading",
     "level": 2,
     "metadata": {},
     "source": [
      "Example 20.3 Page no 728"
     ]
    },
    {
     "cell_type": "code",
     "collapsed": false,
     "input": [
      "#given\n",
      "V1=8.0                               #Volts\n",
      "V2=2.0                                #Volts\n",
      "\n",
      "#Calculation\n",
      "SWR=(V1+V2)/(V1-V2)\n",
      "print\"The standing wave ratio is \", round(SWR,2)"
     ],
     "language": "python",
     "metadata": {},
     "outputs": [
      {
       "output_type": "stream",
       "stream": "stdout",
       "text": [
        "The standing wave ratio is  1.67\n"
       ]
      }
     ],
     "prompt_number": 14
    }
   ],
   "metadata": {}
  }
 ]
}