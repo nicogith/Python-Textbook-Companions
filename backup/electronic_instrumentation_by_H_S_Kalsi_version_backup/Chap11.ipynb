{
 "metadata": {
  "name": "",
  "signature": "sha256:3733f4bc277677bc2f9c52d22638fa67f4c2b3f988678afdd8082febee12d607"
 },
 "nbformat": 3,
 "nbformat_minor": 0,
 "worksheets": [
  {
   "cells": [
    {
     "cell_type": "heading",
     "level": 1,
     "metadata": {},
     "source": [
      "Chapter 11 Bridges"
     ]
    },
    {
     "cell_type": "heading",
     "level": 2,
     "metadata": {},
     "source": [
      "Example 11.1 Page no 323"
     ]
    },
    {
     "cell_type": "code",
     "collapsed": false,
     "input": [
      "#Given\n",
      "R2=15*10**3                      #ohm\n",
      "R3=40*10**3                      #ohm\n",
      "R1=10.0*10**3                      #ohm\n",
      "\n",
      "#Calculation\n",
      "Rx=(R2*R3)/R1\n",
      "\n",
      "#Result \n",
      "print\"Value of unknown resistance is \",Rx*10**-3,\"Kohm\""
     ],
     "language": "python",
     "metadata": {},
     "outputs": [
      {
       "output_type": "stream",
       "stream": "stdout",
       "text": [
        "Value of unknown resistance is  60.0 Kohm\n"
       ]
      }
     ],
     "prompt_number": 3
    },
    {
     "cell_type": "heading",
     "level": 2,
     "metadata": {},
     "source": [
      "Example 11.2 Page no 325"
     ]
    },
    {
     "cell_type": "code",
     "collapsed": false,
     "input": [
      "#Given\n",
      "E=6                             #Volts\n",
      "R1=1.0*10**3                      #ohm\n",
      "R2=2.5*10**3                    #ohm\n",
      "R3=3.5*10**3                    #ohm\n",
      "R4=10*10**3                     #ohm\n",
      "Rg=300.0                          #ohm\n",
      "\n",
      "#Calculation\n",
      "Eth=E*((R4/(R2+R4))-(R3/(R1+R3)))\n",
      "Rth=((R1*R3)/(R1+R3))+((R2*R4)/(R2+R4))\n",
      "Ig=Eth/(Rth+Rg)\n",
      "\n",
      "#Result\n",
      "print\"Current through galvanometer is \", round(Ig*10**6,0),\"micro A\""
     ],
     "language": "python",
     "metadata": {},
     "outputs": [
      {
       "output_type": "stream",
       "stream": "stdout",
       "text": [
        "Current through galvanometer is  43.0 micro A\n"
       ]
      }
     ],
     "prompt_number": 1
    },
    {
     "cell_type": "heading",
     "level": 2,
     "metadata": {},
     "source": [
      "Example 11.3 Page no 327"
     ]
    },
    {
     "cell_type": "code",
     "collapsed": false,
     "input": [
      "#Given\n",
      "E=10                              #Volts\n",
      "r=35\n",
      "R=700                             #ohm\n",
      "Rth=700                            #ohm\n",
      "Rg=125                              #ohm\n",
      "\n",
      "#Calculation\n",
      "Eth=E*r/(4.0*R)\n",
      "Ig=Eth/(Rth+Rg)\n",
      "print\"current through the galvanometer is \", round(Ig*10**6,1),\"micro A\""
     ],
     "language": "python",
     "metadata": {},
     "outputs": [
      {
       "output_type": "stream",
       "stream": "stdout",
       "text": [
        "current through the galvanometer is  151.5 micro A\n"
       ]
      }
     ],
     "prompt_number": 30
    },
    {
     "cell_type": "heading",
     "level": 2,
     "metadata": {},
     "source": [
      "Example 11.4 Page no 331"
     ]
    },
    {
     "cell_type": "code",
     "collapsed": false,
     "input": [
      "#Given\n",
      "R1=5                                   #ohm\n",
      "Rb=1                                   #ohm\n",
      "Ra=1000.0                               #ohm\n",
      "\n",
      "#Calculation\n",
      "R2=R1/0.5\n",
      "Rx=(Rb*R2)/Ra\n",
      "\n",
      "#Result\n",
      "print\"Value of Rx is \",Rx,\"ohm\""
     ],
     "language": "python",
     "metadata": {},
     "outputs": [
      {
       "output_type": "stream",
       "stream": "stdout",
       "text": [
        "Value of Rx is  0.01 ohm\n"
       ]
      }
     ],
     "prompt_number": 33
    },
    {
     "cell_type": "heading",
     "level": 2,
     "metadata": {},
     "source": [
      "Example 11.5 Page no 333"
     ]
    },
    {
     "cell_type": "code",
     "collapsed": false,
     "input": [
      "#Given\n",
      "R1=5.0*10**3                                 #ohm\n",
      "R2=5.0*10**3                                  #ohm\n",
      "R3=5.0*10**3                                  #ohm\n",
      "E=6                                         #Volts\n",
      "RV=4.5*10**3                                #ohm\n",
      "r=500\n",
      "\n",
      "#Calculation\n",
      "Rv=(R2*R3)/R1\n",
      "es=E*((R3/(R1+R3))-(RV/(R2+RV)))\n",
      "\n",
      "#Result\n",
      "print\"(i) The bridge is balanced when the temperature is 80 degree.\"\n",
      "print\"The amplitude of the error signal at 60 degree \", round(es,3),\"V\""
     ],
     "language": "python",
     "metadata": {},
     "outputs": [
      {
       "output_type": "stream",
       "stream": "stdout",
       "text": [
        "(i) The bridge is balanced when the temperature is 80 degree.\n",
        "The amplitude of the error signal at 60 degree  0.158 V\n"
       ]
      }
     ],
     "prompt_number": 4
    },
    {
     "cell_type": "heading",
     "level": 2,
     "metadata": {},
     "source": [
      "Example 11.6 (a) Page no 337"
     ]
    },
    {
     "cell_type": "code",
     "collapsed": false,
     "input": [
      "#Given\n",
      "R1=10*10**3                                   #ohm\n",
      "R2=50*10**3                                    #ohm\n",
      "R3=100*10**3                                     #ohm\n",
      "C3=100*10**-6                              #farad\n",
      "\n",
      "#Calculation\n",
      "Rx=(R2*R3)/R1\n",
      "Cx=(R1*C3)/R2\n",
      "\n",
      "#Result\n",
      "print\"The unknown capacitance is \", Cx*10**6,\"micro F\"\n"
     ],
     "language": "python",
     "metadata": {},
     "outputs": [
      {
       "output_type": "stream",
       "stream": "stdout",
       "text": [
        "The unknown capacitance is  20.0 micro F\n"
       ]
      }
     ],
     "prompt_number": 15
    },
    {
     "cell_type": "heading",
     "level": 2,
     "metadata": {},
     "source": [
      "Example 11.6 (b) Page no 338"
     ]
    },
    {
     "cell_type": "code",
     "collapsed": false,
     "input": [
      "#Given\n",
      "R1=2000.0                        #ohm\n",
      "R2=2850.0                        #ohm\n",
      "R4=52                          #ohm\n",
      "C4=0.4*10**-6                   #Farad\n",
      "f=400                           #Hz\n",
      "\n",
      "#Calculation\n",
      "import math\n",
      "Rx=(R1*R4)/R2\n",
      "Cx=(R2*C4)/R1\n",
      "A=2*math.pi*f*Cx*Rx\n",
      "\n",
      "#Result\n",
      "print\"Loss angle of capacitor is \", round(A,3)"
     ],
     "language": "python",
     "metadata": {},
     "outputs": [
      {
       "output_type": "stream",
       "stream": "stdout",
       "text": [
        "Loss angle of capacitor is  0.052\n"
       ]
      }
     ],
     "prompt_number": 6
    },
    {
     "cell_type": "heading",
     "level": 2,
     "metadata": {},
     "source": [
      "Example 11.7 Page no 339"
     ]
    },
    {
     "cell_type": "code",
     "collapsed": false,
     "input": [
      "#Given\n",
      "L3=10*10**-3                      #H\n",
      "R1=10.0*10**3                        #ohm\n",
      "R2=40*10**3                        #ohm\n",
      "R3=100*10**3                        #ohm\n",
      "\n",
      "#Calculation\n",
      "Rx=(R2*R3)/R1\n",
      "Lx=(R2*L3)/R1\n",
      "\n",
      "#Result\n",
      "print\"Equivalent unknown resistance is \", Lx*10**3,\"mH\""
     ],
     "language": "python",
     "metadata": {},
     "outputs": [
      {
       "output_type": "stream",
       "stream": "stdout",
       "text": [
        "Equivalent unknown resistance is  40.0 mH\n"
       ]
      }
     ],
     "prompt_number": 11
    },
    {
     "cell_type": "heading",
     "level": 2,
     "metadata": {},
     "source": [
      "Example 11.8 (a) Page no 341"
     ]
    },
    {
     "cell_type": "code",
     "collapsed": false,
     "input": [
      "#Given\n",
      "C1=0.01*10**-6                               #Farad\n",
      "R1=470.0*10**3                                 #ohm\n",
      "R2=5.1*10**3                                 #ohm\n",
      "R3=100*10**3                                 #ohm\n",
      "\n",
      "#Calculation\n",
      "Rx=(R2*R3)/R1\n",
      "Lx=R2*R3*C1\n",
      "\n",
      "#Result\n",
      "print\"The value of unknown impedence \", Lx,\"H\""
     ],
     "language": "python",
     "metadata": {},
     "outputs": [
      {
       "output_type": "stream",
       "stream": "stdout",
       "text": [
        "The value of unknown impedence  5.1 H\n"
       ]
      }
     ],
     "prompt_number": 8
    },
    {
     "cell_type": "heading",
     "level": 2,
     "metadata": {},
     "source": [
      "Example 11.8 (b) Page no 341"
     ]
    },
    {
     "cell_type": "code",
     "collapsed": false,
     "input": [
      "#Given\n",
      "R1=32.7                           #ohm\n",
      "L1=50*10**-3                       #H\n",
      "R2=1.36                            #ohm\n",
      "R3=100.0                             #ohm\n",
      "R4=100                             #ohm\n",
      "\n",
      "#Calculation\n",
      "r=((R4*R1)/R3)-R2\n",
      "L2=L1*(R4/R3)\n",
      "\n",
      "#Result\n",
      "print\"Resistance of the coil is \",r,\"ohm \\nInductance of the coil is \" ,L2*10**3,\"mH\""
     ],
     "language": "python",
     "metadata": {},
     "outputs": [
      {
       "output_type": "stream",
       "stream": "stdout",
       "text": [
        "Resistance of the coil is  31.34 ohm \n",
        "Inductance of the coil is  50.0 mH\n"
       ]
      }
     ],
     "prompt_number": 22
    },
    {
     "cell_type": "heading",
     "level": 2,
     "metadata": {},
     "source": [
      "Example 11.9 (a) Page no 343"
     ]
    },
    {
     "cell_type": "code",
     "collapsed": false,
     "input": [
      "#Given\n",
      "w=3000                              #rad/s\n",
      "R2=10*10**3                         #ohm\n",
      "R1=2*10**3                          #ohm\n",
      "C1=1*10**-6                         #farad\n",
      "R3=1*10**3                          #ohm\n",
      "\n",
      "#Calculation\n",
      "Rx=(w**2*R1*R2*R3*C1**2)/(1+w**2*R1**2*C1**2)\n",
      "Lx=(R2*R3*C1)/(1+w**2*R1**2*C1**2)\n",
      "\n",
      "#Result\n",
      "print\" series equivalent impedence is \", round(Lx*10**3,0),\"mH\",\"\\n Series equivqlent resistance is \",round(Rx*10**-3,2),\"Kohm\""
     ],
     "language": "python",
     "metadata": {},
     "outputs": [
      {
       "output_type": "stream",
       "stream": "stdout",
       "text": [
        " series equivalent impedence is  270.0 mH \n",
        " Series equivqlent resistance is  4.86 Kohm\n"
       ]
      }
     ],
     "prompt_number": 27
    },
    {
     "cell_type": "heading",
     "level": 2,
     "metadata": {},
     "source": [
      "Example 11.9 (b) Page no 343"
     ]
    },
    {
     "cell_type": "code",
     "collapsed": false,
     "input": [
      "#Given\n",
      "R2=1000                          #ohm\n",
      "R3=16500                         #ohm\n",
      "R4=800                           #ohm\n",
      "C4=2*10**-6                      #F\n",
      "f=50                             #Hz\n",
      "\n",
      "#Calculation\n",
      "import math\n",
      "w=2*math.pi*f\n",
      "Lx=(R2*R3*C4)/(1+(w**2*C4**2*R4**2))\n",
      "Rx=(w**2*C4**2*R4*R2*R3)/(1+w**2*C4**2*R4**2)\n",
      "\n",
      "#Result\n",
      "print\"Resistance of the coil is \", round(Rx*10**-3,1),\"Kohm\"\n",
      "print\"Inductance of the coil is \",round(Lx,1),\"H\""
     ],
     "language": "python",
     "metadata": {},
     "outputs": [
      {
       "output_type": "stream",
       "stream": "stdout",
       "text": [
        "Resistance of the coil is  4.2 Kohm\n",
        "Inductance of the coil is  26.3 H\n"
       ]
      }
     ],
     "prompt_number": 35
    },
    {
     "cell_type": "heading",
     "level": 2,
     "metadata": {},
     "source": [
      "Example 11.9 (c) Page no 345"
     ]
    },
    {
     "cell_type": "code",
     "collapsed": false,
     "input": [
      "#Given\n",
      "C4=1*10**-6                        #F\n",
      "R2=1000                            #ohm\n",
      "w=314                              #rad/s\n",
      "R3=1000\n",
      "R4=1000\n",
      "\n",
      "#Calculation\n",
      "L1=(R3*R4*C4)/(1+(w**2*C4**2*R4**2))\n",
      "Rx=(w**2*C4**2*R4*R2*R3)/(1+w**2*C4**2*R4**2)\n",
      "\n",
      "#Result\n",
      "print\"unknown resistance is\" ,round(L1,2),\"H\"\n",
      "print\"unknown inductance is\", round(Rx,2),\"ohm\""
     ],
     "language": "python",
     "metadata": {},
     "outputs": [
      {
       "output_type": "stream",
       "stream": "stdout",
       "text": [
        "unknown resistance is 0.91 H\n",
        "unknown inductance is 89.75 ohm\n"
       ]
      }
     ],
     "prompt_number": 3
    },
    {
     "cell_type": "heading",
     "level": 2,
     "metadata": {},
     "source": [
      "Example 11.10 (a) Page no 346 "
     ]
    },
    {
     "cell_type": "code",
     "collapsed": false,
     "input": [
      "#Given\n",
      "C1=0.5*10**-6                          #farad\n",
      "C3=0.5*10**-6                          #farad\n",
      "R2=2*10**3                             #ohm\n",
      "R1=1*10**3                              #ohm\n",
      "f=1000                                  #Hz\n",
      "\n",
      "#Calculation\n",
      "import math\n",
      "Rx=(C1*R2)/C3\n",
      "Cx=(R1*C3)/R2\n",
      "D=2*math.pi*f*Cx*Rx\n",
      "\n",
      "#Result\n",
      "print\" The unknown capacitance is \",Cx*10**6,\"micro farad\", \"\\n Dissipation factor is \",round(D,4)"
     ],
     "language": "python",
     "metadata": {},
     "outputs": [
      {
       "output_type": "stream",
       "stream": "stdout",
       "text": [
        " The unknown capacitance is  0.25 micro farad \n",
        " Dissipation factor is  3.1416\n"
       ]
      }
     ],
     "prompt_number": 4
    },
    {
     "cell_type": "heading",
     "level": 2,
     "metadata": {},
     "source": [
      "Example 11.10 (b) Page no 347"
     ]
    },
    {
     "cell_type": "code",
     "collapsed": false,
     "input": [
      "#Given\n",
      "R3=100.0                                   #ohm\n",
      "R4=300                                     #ohm\n",
      "C4=0.5*10**-6                              #F\n",
      "C2=100.0                                   #pf\n",
      "f=50                                       #Hz\n",
      "\n",
      "#Calculation\n",
      "import math\n",
      "W=2*math.pi*f\n",
      "C1=(R4/R3)*C2\n",
      "R1=(C4/C2)*R3\n",
      "Pf=W*R4*C4\n",
      "\n",
      "#Result\n",
      "print\"Capacitance is \", C1,\"pF\"\n",
      "print\"Equivalent series resistance is \",R1*10**6,\"Mohm\"\n",
      "print\"PF of insulation is \",round(Pf,4)\n"
     ],
     "language": "python",
     "metadata": {},
     "outputs": [
      {
       "output_type": "stream",
       "stream": "stdout",
       "text": [
        "Capacitance is  300.0 pF\n",
        "Equivalent series resistance is  0.5 Mohm\n",
        "PF of insulation is  0.0471\n"
       ]
      }
     ],
     "prompt_number": 19
    },
    {
     "cell_type": "heading",
     "level": 2,
     "metadata": {},
     "source": [
      "Example 11.10 (c) Page no 348"
     ]
    },
    {
     "cell_type": "code",
     "collapsed": false,
     "input": [
      "#Given\n",
      "R4=100                          #ohm\n",
      "C4=0.1                   #micro F\n",
      "C2=500                    #pf\n",
      "R3=300.0                     #ohm\n",
      "f=50                         #Hz\n",
      "\n",
      "#Calculation\n",
      "import math\n",
      "W=2*math.pi*f\n",
      "C1=(R4/R3)*C2\n",
      "A=W*C4*R4*10**-5\n",
      "\n",
      "#Result\n",
      "print\"The Capacitance is \",round(C1,1),\"pF\" \n",
      "print\"Dielectric loss of angle is \",round(A*180/3.14,1),\"degree\""
     ],
     "language": "python",
     "metadata": {},
     "outputs": [
      {
       "output_type": "stream",
       "stream": "stdout",
       "text": [
        "The Capacitance is  166.7 pF\n",
        "Dielectric loss of angle is  1.8 degree\n"
       ]
      }
     ],
     "prompt_number": 40
    },
    {
     "cell_type": "heading",
     "level": 2,
     "metadata": {},
     "source": [
      "Example 11.10 (d) Page no 348"
     ]
    },
    {
     "cell_type": "code",
     "collapsed": false,
     "input": [
      "#Given\n",
      "d=4.5*10**-3\n",
      "f=50                    #Hz\n",
      "C2=105*10**-12\n",
      "C4=0.5*10**-6               #F\n",
      "R3=260.0                   #ohm\n",
      "R4=1000/3.14\n",
      "K0=8.854*10**-12\n",
      "\n",
      "#Calculation\n",
      "import math\n",
      "W=2*math.pi*f\n",
      "C1=(R4/R3)*C2\n",
      "A=W*C4*R4\n",
      "a=math.pi*(6*10**-2)**2\n",
      "K=(C1*d)/(K0*a)\n",
      "\n",
      "#Result\n",
      "print\"The capacitance is \",round(C1*10**12,1),\"pF\"\n",
      "print\"Value of PF is \",round(A,3)\n",
      "print\"Relative permittivity is \",round(K,3)"
     ],
     "language": "python",
     "metadata": {},
     "outputs": [
      {
       "output_type": "stream",
       "stream": "stdout",
       "text": [
        "The capacitance is  128.6 pF\n",
        "Value of PF is  0.05\n",
        "Relative permittivity is  5.78\n"
       ]
      }
     ],
     "prompt_number": 63
    },
    {
     "cell_type": "heading",
     "level": 2,
     "metadata": {},
     "source": [
      "Example 11.10 (e) Page no 349"
     ]
    },
    {
     "cell_type": "code",
     "collapsed": false,
     "input": [
      "#Given\n",
      "R3=100               #ohm\n",
      "R4=300               #ohm\n",
      "C2=100.0                #pF\n",
      "C4=0.5                #micro F\n",
      "\n",
      "#Calculation\n",
      "import math\n",
      "C1=(R4/R3)*C2\n",
      "r1=R3*(C4/C2)\n",
      "W=2*math.pi*f\n",
      "C1=(R4/R3)*C2\n",
      "A=W*C4*R4*10**-6\n",
      "\n",
      "#Result\n",
      "print\"The value of capacitor is \",C1,\"pF\"\n",
      "print\"PF of the capacitor is \",round(A,4)"
     ],
     "language": "python",
     "metadata": {},
     "outputs": [
      {
       "output_type": "stream",
       "stream": "stdout",
       "text": [
        "The value of capacitor is  300.0 pF\n",
        "PF of the capacitor is  0.0471\n"
       ]
      }
     ],
     "prompt_number": 71
    },
    {
     "cell_type": "heading",
     "level": 2,
     "metadata": {},
     "source": [
      "Example 11.10 (f) Page no 350"
     ]
    },
    {
     "cell_type": "code",
     "collapsed": false,
     "input": [
      "#Given\n",
      "R1=300                    #ohm\n",
      "R2=100.0                    #ohm\n",
      "C1=0.6*10**-6                   # F\n",
      "C3=100.0*10**-12                   #F\n",
      "\n",
      "#Calculation\n",
      "Rx=R2*(C1/C3)\n",
      "C=(R1/R2)*C3\n",
      "\n",
      "#Result\n",
      "print\"The value of series resistance is \", Rx*10**-5,\"Mohm\"\n",
      "print\"The value of capacitance is \",C*10**12,\"pF\"\n"
     ],
     "language": "python",
     "metadata": {},
     "outputs": [
      {
       "output_type": "stream",
       "stream": "stdout",
       "text": [
        "The value of series resistance is  6.0 Mohm\n",
        "The value of capacitance is  300.0 pF\n"
       ]
      }
     ],
     "prompt_number": 80
    },
    {
     "cell_type": "heading",
     "level": 2,
     "metadata": {},
     "source": [
      "Example 11.10 (g) Page no 350"
     ]
    },
    {
     "cell_type": "code",
     "collapsed": false,
     "input": [
      "#Given\n",
      "C1=0.1*10**-6                    #F\n",
      "C2=0.25*10**-6                    #F\n",
      "R2=5000.0                           #ohm\n",
      "C3=0.25*10**-6                    #F\n",
      "f=2000                           #Hz\n",
      "\n",
      "#Calculation\n",
      "import math\n",
      "Rx=R2*(C1/C2)\n",
      "C=(R1/R2)*C3\n",
      "W=2*math.pi*f\n",
      "A=W*C*Rx*10**-6\n",
      "#Result\n",
      "print\"The value of capacitance is \", round(C*10**7,1),\"micro F\"\n",
      "print\"Dissipation factor is \", round(A*10**7,3)"
     ],
     "language": "python",
     "metadata": {},
     "outputs": [
      {
       "output_type": "stream",
       "stream": "stdout",
       "text": [
        "The value of capacitance is  0.1 micro F\n",
        "Dissipation factor is  3.77\n"
       ]
      }
     ],
     "prompt_number": 102
    },
    {
     "cell_type": "heading",
     "level": 2,
     "metadata": {},
     "source": [
      "Example 11.11 Page no 352"
     ]
    },
    {
     "cell_type": "code",
     "collapsed": false,
     "input": [
      "#Given\n",
      "R1=4.7*10**3                                     #ohm\n",
      "R2=20*10**3                                      #ohm\n",
      "R3=10*10**3                                      #ohm\n",
      "R4=100*10**3                                     #ohm\n",
      "C1=5*10**-9                                      #farad\n",
      "C3=10*10**-9                                     #farad\n",
      "\n",
      "#Calculation\n",
      "import math\n",
      "f=1/(2.0*math.pi*(math.sqrt(C1*R1*R3*C3)))\n",
      "print\"Frequency of the circuit is \", round(f*10**-3,3),\"KHz\""
     ],
     "language": "python",
     "metadata": {},
     "outputs": [
      {
       "output_type": "stream",
       "stream": "stdout",
       "text": [
        "Frequency of the circuit is  3.283 KHz\n"
       ]
      }
     ],
     "prompt_number": 6
    },
    {
     "cell_type": "heading",
     "level": 2,
     "metadata": {},
     "source": [
      "Example 11.12 Page no 353"
     ]
    },
    {
     "cell_type": "code",
     "collapsed": false,
     "input": [
      "#Given\n",
      "R1=3.1*10**3                                       #ohm\n",
      "C1=5.2*10**-6                                      #farad\n",
      "R2=25.0*10**3                                        #ohm\n",
      "f=2.5*10**3                                        #ohm\n",
      "R4=100.0*10**3                                       #ohm\n",
      "\n",
      "#Calculation\n",
      "import math\n",
      "w=2*math.pi*f\n",
      "R3=R4/R2*(R1+(1/w**2*R1*C1**2))\n",
      "C3=R2/R4*(C1/(1+w**2*R1**2*C1**2))\n",
      "\n",
      "#CResult\n",
      "print\" Equivalent parallel resistance is \",R3*10**-3,\"Kohm \",\"\\n Equivalent parallel capaciatnce is \", round(C3*10**12,1),\"pf\""
     ],
     "language": "python",
     "metadata": {},
     "outputs": [
      {
       "output_type": "stream",
       "stream": "stdout",
       "text": [
        " Equivalent parallel resistance is  12.4 Kohm  \n",
        " Equivalent parallel capaciatnce is  20.3 pf\n"
       ]
      }
     ],
     "prompt_number": 20
    },
    {
     "cell_type": "heading",
     "level": 2,
     "metadata": {},
     "source": [
      "Example 11.13 Page no 353"
     ]
    },
    {
     "cell_type": "code",
     "collapsed": false,
     "input": [
      "#Given\n",
      "C1=0.5*10**-6                           #farad\n",
      "R1=800.0                                  #ohm\n",
      "C2=1.0*10**-6                            #farad\n",
      "R2=400                                   #ohm\n",
      "R4=1000                                  #ohm\n",
      "\n",
      "#Calculation\n",
      "import math\n",
      "f=1/(2.0*math.pi*math.sqrt(R1*C1*R2*C2))\n",
      "R3=R4/((R2/R1)+(C1/C2))\n",
      "\n",
      "#Result\n",
      "print\"(i) The value of frequency for which the bridge is balanced \", round(f*10**-3,3),\"KHz\"\n",
      "print\"(ii) The value of R required to produce balance \",R3,\"ohm\""
     ],
     "language": "python",
     "metadata": {},
     "outputs": [
      {
       "output_type": "stream",
       "stream": "stdout",
       "text": [
        "(i) The value of frequency for which the bridge is balanced  0.398 KHz\n",
        "(ii) The value of R required to produce balance  1000.0 ohm\n"
       ]
      }
     ],
     "prompt_number": 30
    },
    {
     "cell_type": "heading",
     "level": 2,
     "metadata": {},
     "source": [
      "Example 11.14 Page no 359"
     ]
    },
    {
     "cell_type": "code",
     "collapsed": false,
     "input": [
      "#Given\n",
      "R2=200                                 #ohm\n",
      "R3=1000                                  #ohm\n",
      "R4=1000.0\n",
      "C=10*10**-6                              #Farad\n",
      "r=496\n",
      "\n",
      "#Calculation\n",
      "R1=(R2*R3)/R4\n",
      "L1=(C*R3/R4)*(r*R4+R2*R4+r*R2)\n",
      "\n",
      "#Result\n",
      "print\"The value of inductance is \", L1,\"H\"\n",
      "print\"The value of resistance is \",R1,\"ohm\""
     ],
     "language": "python",
     "metadata": {},
     "outputs": [
      {
       "output_type": "stream",
       "stream": "stdout",
       "text": [
        "The value of inductance is  7.952 H\n",
        "The value of resistance is  200.0 ohm\n"
       ]
      }
     ],
     "prompt_number": 108
    }
   ],
   "metadata": {}
  }
 ]
}