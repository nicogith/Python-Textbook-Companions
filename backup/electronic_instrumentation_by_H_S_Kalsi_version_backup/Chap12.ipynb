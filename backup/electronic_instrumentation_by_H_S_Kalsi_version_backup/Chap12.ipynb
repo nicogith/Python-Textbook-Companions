{
 "metadata": {
  "name": "",
  "signature": "sha256:7af0495b58ca6c852d68e4365d49889cd4f3d900affcfb795083ae4f78ea1db8"
 },
 "nbformat": 3,
 "nbformat_minor": 0,
 "worksheets": [
  {
   "cells": [
    {
     "cell_type": "heading",
     "level": 1,
     "metadata": {},
     "source": [
      "Chapter 12 Recorders"
     ]
    },
    {
     "cell_type": "heading",
     "level": 2,
     "metadata": {},
     "source": [
      "Example 12.1 Page no 373"
     ]
    },
    {
     "cell_type": "code",
     "collapsed": false,
     "input": [
      "#Given\n",
      "t=5                                    #second\n",
      "s=40.0                                    #cycle\n",
      "\n",
      "#Calculation\n",
      "p=t/s\n",
      "f=1/p\n",
      "\n",
      "#Result\n",
      "print\"The frequency of the signal is \", f,\"cycle/sec.\""
     ],
     "language": "python",
     "metadata": {},
     "outputs": [
      {
       "output_type": "stream",
       "stream": "stdout",
       "text": [
        "The frequency of the signal is  8.0 cycle/sec.\n"
       ]
      }
     ],
     "prompt_number": 5
    },
    {
     "cell_type": "heading",
     "level": 2,
     "metadata": {},
     "source": [
      "Example 12.2 Page no 373"
     ]
    },
    {
     "cell_type": "code",
     "collapsed": false,
     "input": [
      "#Given\n",
      "f=20.0                                       #Hz\n",
      "t=5                                         #mm\n",
      "\n",
      "#Calculation\n",
      "p=1/f\n",
      "s=t/p\n",
      "\n",
      "#Result\n",
      "print\"The chart speed isn\", s,\"mm/s\""
     ],
     "language": "python",
     "metadata": {},
     "outputs": [
      {
       "output_type": "stream",
       "stream": "stdout",
       "text": [
        "The chart speed isn 100.0 mm/s\n"
       ]
      }
     ],
     "prompt_number": 10
    }
   ],
   "metadata": {}
  }
 ]
}