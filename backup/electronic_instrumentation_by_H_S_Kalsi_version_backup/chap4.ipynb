{
 "metadata": {
  "name": "",
  "signature": "sha256:6894c833baa0eedea1946bb8c106382f5457dd2d09fc25376fba7e033019797b"
 },
 "nbformat": 3,
 "nbformat_minor": 0,
 "worksheets": [
  {
   "cells": [
    {
     "cell_type": "heading",
     "level": 1,
     "metadata": {},
     "source": [
      "Chapter 4 Voltmeters and multimeters"
     ]
    },
    {
     "cell_type": "heading",
     "level": 2,
     "metadata": {},
     "source": [
      "Example 4.1 Page no 80"
     ]
    },
    {
     "cell_type": "code",
     "collapsed": false,
     "input": [
      "#Given\n",
      "I=200.0*10**-6                               # A\n",
      "\n",
      "#calculation\n",
      "s=(1/I)*10**-3\n",
      "\n",
      "#Result\n",
      "print\"Sensitivity is \", s,\"Kohm/V\""
     ],
     "language": "python",
     "metadata": {},
     "outputs": [
      {
       "output_type": "stream",
       "stream": "stdout",
       "text": [
        "Sensitivity is  5.0 Kohm/V\n"
       ]
      }
     ],
     "prompt_number": 5
    },
    {
     "cell_type": "heading",
     "level": 2,
     "metadata": {},
     "source": [
      "Example 4.2 (a) Page no 81"
     ]
    },
    {
     "cell_type": "code",
     "collapsed": false,
     "input": [
      "#Given\n",
      "V=10                               #Volt\n",
      "Im=50.0*10**-6                       #A\n",
      "Rm=500                             #ohm\n",
      "\n",
      "#Calculation\n",
      "R=((V/Im)-Rm)*10**-3\n",
      "\n",
      "#Result\n",
      "print\"Reading of resistance is \", R,\"Kohm\""
     ],
     "language": "python",
     "metadata": {},
     "outputs": [
      {
       "output_type": "stream",
       "stream": "stdout",
       "text": [
        "Reading of resistance is  199.5 Kohm\n"
       ]
      }
     ],
     "prompt_number": 1
    },
    {
     "cell_type": "heading",
     "level": 2,
     "metadata": {},
     "source": [
      "Example 4.2 (b) Page no 81"
     ]
    },
    {
     "cell_type": "code",
     "collapsed": false,
     "input": [
      "#Given\n",
      "Im=500.0*10**-6                       #A\n",
      "V=50                                  #Volts\n",
      "Rm=1*10**3                            #ohm\n",
      "\n",
      "#Calculation\n",
      "S=1/Im\n",
      "Rs=(S*V)-Rm\n",
      "\n",
      "\n",
      "print\"The value of multiplier resistance is \", Rs*10**-3,\"K ohm\""
     ],
     "language": "python",
     "metadata": {},
     "outputs": [
      {
       "output_type": "stream",
       "stream": "stdout",
       "text": [
        "The value of multiplier resistance is  99.0 K ohm\n"
       ]
      }
     ],
     "prompt_number": 9
    },
    {
     "cell_type": "heading",
     "level": 2,
     "metadata": {},
     "source": [
      "Example 4.3 Page no 82"
     ]
    },
    {
     "cell_type": "code",
     "collapsed": false,
     "input": [
      "Im=50.0*10**-6                   #A\n",
      "Rm=500.0                         #ohm\n",
      "V=20                           #Volts\n",
      "V1=50                          #volts\n",
      "V2=100                         #volts\n",
      "\n",
      "#Calculation\n",
      "# For range 0-20 V\n",
      "Rs=V/(Im)-Rm\n",
      "\n",
      "# for range 0-50 V\n",
      "Rs1=V1/(Im)-Rm\n",
      "\n",
      "# for the range of 0-100 V\n",
      "Rs2=V2/(Im)-Rm\n",
      "\n",
      "#Result\n",
      "print\"The value of multiplier required for 0-20 V is \", Rs*10**-3,\"Kohm\"\n",
      "print\"The value of multiplier required for 0-50 V is \", Rs1*10**-3,\"Kohm\"\n",
      "print\"The value of multiplier required for 0-100 V is \", Rs2*10**-3,\"Kohm\""
     ],
     "language": "python",
     "metadata": {},
     "outputs": [
      {
       "output_type": "stream",
       "stream": "stdout",
       "text": [
        "The value of multiplier required for 0-20 V is  399.5 Kohm\n",
        "The value of multiplier required for 0-50 V is  999.5 Kohm\n",
        "The value of multiplier required for 0-100 V is  1999.5 Kohm\n"
       ]
      }
     ],
     "prompt_number": 24
    },
    {
     "cell_type": "heading",
     "level": 2,
     "metadata": {},
     "source": [
      "Example 4.4 Page no 82"
     ]
    },
    {
     "cell_type": "code",
     "collapsed": false,
     "input": [
      "#Given\n",
      "Im=10*10**-3                       #A\n",
      "Rm=500                             #ohm\n",
      "V=20                           #Volts\n",
      "V1=50                          #volts\n",
      "V2=100                         #volts\n",
      "\n",
      "#Calculation\n",
      "# For range 0-20 V\n",
      "Rs=V/(Im)-Rm\n",
      "\n",
      "# for range 0-50 V\n",
      "Rs1=V1/(Im)-Rm\n",
      "\n",
      "# for the range of 0-100 V\n",
      "Rs2=V2/(Im)-Rm\n",
      "\n",
      "#Result\n",
      "print\"The value of multiplier required for 0-20 V is \", Rs*10**-3,\"Kohm\"\n",
      "print\"The value of multiplier required for 0-50 V is \", Rs1*10**-3,\"Kohm\"\n",
      "print\"The value of multiplier required for 0-100 V is \", Rs2*10**-3,\"Kohm\""
     ],
     "language": "python",
     "metadata": {},
     "outputs": [
      {
       "output_type": "stream",
       "stream": "stdout",
       "text": [
        "The value of multiplier required for 0-20 V is  1.5 Kohm\n",
        "The value of multiplier required for 0-50 V is  4.5 Kohm\n",
        "The value of multiplier required for 0-100 V is  9.5 Kohm\n"
       ]
      }
     ],
     "prompt_number": 25
    },
    {
     "cell_type": "heading",
     "level": 2,
     "metadata": {},
     "source": [
      "Example 4.5 Page no 83"
     ]
    },
    {
     "cell_type": "code",
     "collapsed": false,
     "input": [
      "#Given\n",
      "Im=10.0*10**-3                                #A\n",
      "Rm=100                                      #ohm\n",
      "V=5                                         #Volts\n",
      "V1=50                                       #Volts\n",
      "V2=100                                      #volts\n",
      "\n",
      "#Calculation\n",
      "Rt=V/Im\n",
      "R3=Rt-Rm\n",
      "Rt1=V1/Im\n",
      "R2=Rt1-(R3+Rm)\n",
      "Rt2=V2/Im\n",
      "R1=Rt2-(R2+R3+Rm)\n",
      "\n",
      "#Result\n",
      "print\" R1= \", R1*10**-3,\"Kohm\",\"\\n R2= \",R2*10**-3,\"Kohm\",\"\\n R3= \",R3,\"ohm\""
     ],
     "language": "python",
     "metadata": {},
     "outputs": [
      {
       "output_type": "stream",
       "stream": "stdout",
       "text": [
        " R1=  5.0 Kohm \n",
        " R2=  4.5 Kohm \n",
        " R3=  400.0 ohm\n"
       ]
      }
     ],
     "prompt_number": 39
    },
    {
     "cell_type": "heading",
     "level": 2,
     "metadata": {},
     "source": [
      "Example 4.6 Page no 83"
     ]
    },
    {
     "cell_type": "code",
     "collapsed": false,
     "input": [
      "#Given\n",
      "V=10                                #Volts\n",
      "I=2.0*10**-3                          #A\n",
      "Rm=50                                #ohm\n",
      "V1=50                               #Volts\n",
      "V2=100                              #Volts\n",
      "V3=250                              #Volts\n",
      "\n",
      "#Calculation\n",
      "Rt=(V/I)\n",
      "R4=(Rt-Rm)\n",
      "Rt1=V1/I\n",
      "R3=Rt1-(R4+Rm)\n",
      "Rt2=V2/I\n",
      "R2=Rt2-(R3+R4+Rm)\n",
      "Rt3=V3/I\n",
      "R1=Rt3-(R2+R3+R4+Rm)\n",
      "\n",
      "#Result\n",
      "print\"Resistances are  R1=\", R1*10**-3,\"Kohm \",\"\\n R2=\",R2*10**-3,\"Kohm\",\"\\n R3=\",R3*10**-3,\"Kohm\",\"\\n R4=\",R4,\"ohm\""
     ],
     "language": "python",
     "metadata": {},
     "outputs": [
      {
       "output_type": "stream",
       "stream": "stdout",
       "text": [
        "Resistances are  R1= 75.0 Kohm  \n",
        " R2= 25.0 Kohm \n",
        " R3= 20.0 Kohm \n",
        " R4= 4950.0 ohm\n"
       ]
      }
     ],
     "prompt_number": 10
    },
    {
     "cell_type": "heading",
     "level": 2,
     "metadata": {},
     "source": [
      "Example 4.7 Page no 85"
     ]
    },
    {
     "cell_type": "code",
     "collapsed": false,
     "input": [
      "#Given\n",
      "I=200.0*10**-6                               #A\n",
      "V=50                                         #v\n",
      "Rm=100                                       #ohm\n",
      "\n",
      "#Calculation \n",
      "S=(1/I)\n",
      "Rs=((S*V)-Rm)*10**-3\n",
      "\n",
      "#Result \n",
      "print\"The value of multiplier resistance is \", Rs,\"Kohm\""
     ],
     "language": "python",
     "metadata": {},
     "outputs": [
      {
       "output_type": "stream",
       "stream": "stdout",
       "text": [
        "The value of multiplier resistance is  249.9 Kohm\n"
       ]
      }
     ],
     "prompt_number": 48
    },
    {
     "cell_type": "heading",
     "level": 2,
     "metadata": {},
     "source": [
      "Example 4.8 Page no 85"
     ]
    },
    {
     "cell_type": "code",
     "collapsed": false,
     "input": [
      "#Given\n",
      "I=50.0*10**-6                                     #A\n",
      "V=5                                              #Volts\n",
      "Rm=1000                                          #ohm\n",
      "V1=10                                             #volts\n",
      "V2=50\n",
      "\n",
      "#Calculation\n",
      "S=1/I\n",
      "# for 5 volt range\n",
      "Rs1=((S*V)-Rm)*10**-3\n",
      "\n",
      "# for 10 volt range \n",
      "Rs2=((S*V1)-Rm)*10**-3\n",
      "\n",
      "# for 50 volt range\n",
      "Rs3=((S*V2)-Rm)*10**-3\n",
      "#Result\n",
      "print\"The value of multiplier resistance is \", Rs1,\"Kohm\"\n",
      "print\"The value of multiplier resistance is \", Rs2,\"Kohm\"\n",
      "print\"The value of multiplier resistance is \", Rs3,\"Kohm\""
     ],
     "language": "python",
     "metadata": {},
     "outputs": [
      {
       "output_type": "stream",
       "stream": "stdout",
       "text": [
        "The value of multiplier resistance is  99.0 Kohm\n",
        "The value of multiplier resistance is  199.0 Kohm\n",
        "The value of multiplier resistance is  999.0 Kohm\n"
       ]
      }
     ],
     "prompt_number": 5
    },
    {
     "cell_type": "heading",
     "level": 2,
     "metadata": {},
     "source": [
      "Example 4.9 Page no 86"
     ]
    },
    {
     "cell_type": "code",
     "collapsed": false,
     "input": [
      "#Given\n",
      "Im=50.0*10**-6                             #A\n",
      "V=3                                        #volts\n",
      "V1=10                                      #Volts\n",
      "V2=30                                      #Volts\n",
      "Rm=1000                                    #ohm\n",
      "\n",
      "#Calculation\n",
      "S=1/Im\n",
      "Rs=S*V-Rm\n",
      "Rs1=S*V1-Rm\n",
      "Rs2=S*V2-Rm\n",
      "\n",
      "#Result\n",
      "print\"The value of multiplier resistance is \",\"\\n Rs1= \", Rs*10**-3,\"Kohm \\n Rs2= \",Rs1*10**-3,\"Kohm \\n Rs3= \",Rs2*10**-3,\"Kohm\""
     ],
     "language": "python",
     "metadata": {},
     "outputs": [
      {
       "output_type": "stream",
       "stream": "stdout",
       "text": [
        "The value of multiplier resistance is  \n",
        " Rs1=  59.0 Kohm \n",
        " Rs2=  199.0 Kohm \n",
        " Rs3=  599.0 Kohm\n"
       ]
      }
     ],
     "prompt_number": 16
    },
    {
     "cell_type": "heading",
     "level": 2,
     "metadata": {},
     "source": [
      "Example 4.10 Page no 86"
     ]
    },
    {
     "cell_type": "code",
     "collapsed": false,
     "input": [
      "#Given \n",
      "Im=20.0*10**-3                               #A\n",
      "v=100*10**-3                               #volts\n",
      "I=50000*10**3                               #A\n",
      "V=500                                       #Volts\n",
      "\n",
      "Rm=v/Im\n",
      "Rsh=(Im*Rm)/(I-Im)\n",
      "Rsh1=(V/Im)-Rm\n",
      "P=V*Im\n",
      "\n",
      "#Result\n",
      "print\"(i) Shunt resistance is \", round(Rsh1*10**-3,0),\"Kohm\"\n",
      "print\"(ii) Power dissipation is \",P,\"Watt\""
     ],
     "language": "python",
     "metadata": {},
     "outputs": [
      {
       "output_type": "stream",
       "stream": "stdout",
       "text": [
        "(i) Shunt resistance is  25.0 Kohm\n",
        "(ii) Power dissipation is  10.0 Watt\n"
       ]
      }
     ],
     "prompt_number": 30
    },
    {
     "cell_type": "heading",
     "level": 2,
     "metadata": {},
     "source": [
      "Example 4.11 Page no 87"
     ]
    },
    {
     "cell_type": "code",
     "collapsed": false,
     "input": [
      "#Given\n",
      "V=100                                            #Volts\n",
      "s=1000                                            #ohm/V\n",
      "R=10.0*10**3                                    #kohm\n",
      "R1=10.0*10**3                                      #kohm\n",
      "s2=20000                                          #ohm/V\n",
      "\n",
      "#Calculation\n",
      "V2=(R/(R1+R))*V\n",
      "\n",
      "#case 1\n",
      "R2=V2*s\n",
      "Req=(R*R2)/(R+R2)\n",
      "V1=(Req/(R1+Req))*V\n",
      "\n",
      "#case 2\n",
      "R3=V2*s2\n",
      "Req2=(R1*R3)/(R1+R3)\n",
      "V12=(Req2/(R1+Req2))*V\n",
      "\n",
      "#Result\n",
      "print\"(a) voltmeter indicates \", round(V1,2),\"V\"\n",
      "print\"(b) Voltmeter will read \",round(V12,2),\"V\"\n",
      "print\"This example shows that a high sensitivity voltmeter Should be used to get accurate reading\""
     ],
     "language": "python",
     "metadata": {},
     "outputs": [
      {
       "output_type": "stream",
       "stream": "stdout",
       "text": [
        "(a) voltmeter indicates  45.45 V\n",
        "(b) Voltmeter will read  49.75 V\n",
        "This example shows that a high sensitivity voltmeter Should be used to get accurate reading\n"
       ]
      }
     ],
     "prompt_number": 39
    },
    {
     "cell_type": "heading",
     "level": 2,
     "metadata": {},
     "source": [
      "Example 4.12 Page no 88"
     ]
    },
    {
     "cell_type": "code",
     "collapsed": false,
     "input": [
      "#Given\n",
      "s=1*10**3                                  #ohm/V\n",
      "Rm=0.2*10**3                         #ohm\n",
      "V=10                                 #Volts\n",
      "s1=20*10**3                           #ohm/volt\n",
      "Rm1=1.5*10**3                           #ohm\n",
      "R0=5.0*10**3                              #ohm\n",
      "R1=25.0*10**3                             #ohm\n",
      "V1=30                                   #Volt\n",
      "\n",
      "#Calculation\n",
      "VRb=(R0/(R1+R0))*V1\n",
      "Rm2=s*V\n",
      "Req=(R0*Rm2)/(R0+Rm2)\n",
      "VRb2=Req/(Req+R1)*V1\n",
      "Rm3=s1*V\n",
      "Req2=(R0*Rm3)/(R0+Rm3)\n",
      "VRb3=(Req2/(R1+Req2))*V1\n",
      "E1=((VRb-3.33)/VRb)*100\n",
      "E2=((VRb-VRb3)/VRb)*100\n",
      "\n",
      "#Result\n",
      "print\"(i) Voltage across Rb without any meter across it \", VRb,\"Volt\"\n",
      "print\"(ii) Voltage across Rb when the meter 1 is used \", round(VRb2,2),\"Volt\"\n",
      "print\"(iii) voltage across arb when the meter 2 is used \", round(VRb3,1),\"Volts\"\n",
      "print\"(iv) Error in voltmeter when meter 1 is used \", E1,\"%\"\n",
      "print\"     Error in voltmeter when meter 2 is used \",round(E2,0),\"%\""
     ],
     "language": "python",
     "metadata": {},
     "outputs": [
      {
       "output_type": "stream",
       "stream": "stdout",
       "text": [
        "(i) Voltage across Rb without any meter across it  5.0 Volt\n",
        "(ii) Voltage across Rb when the meter 1 is used  3.53 Volt\n",
        "(iii) voltage across arb when the meter 2 is used  4.9 Volts\n",
        "(iv) Error in voltmeter when meter 1 is used  33.4 %\n",
        "     Error in voltmeter when meter 2 is used  2.0 %\n"
       ]
      }
     ],
     "prompt_number": 60
    },
    {
     "cell_type": "heading",
     "level": 2,
     "metadata": {},
     "source": [
      "Example 4.13 Page no 89"
     ]
    },
    {
     "cell_type": "code",
     "collapsed": false,
     "input": [
      "#Given\n",
      "V1=5.0                          #Volt \n",
      "V2=10                         #Volt\n",
      "V3=30                         #Volt\n",
      "S=20*10**3                    #ohm/V\n",
      "Rb=5.0*10**3                    #ohm\n",
      "Ra=45.0*10**3                   #ohm\n",
      "V=50                          #Volt\n",
      "\n",
      "#Calculation\n",
      "VRb=Rb/(Ra+Rb)*V\n",
      "Rm=S*V1\n",
      "Req=(Rm*Rb)/(Rm+Rb)\n",
      "VRb1=Req/(Ra+Req)*V\n",
      "E=((V1-VRb1)/V1)*100\n",
      "Rm1=S*V2\n",
      "Req1=(Rm1*Rb)/(Rm1+Rb)\n",
      "VRb2=(Req1/(Req1+Ra))*V\n",
      "E1=((V1-VRb2)/V1)*100\n",
      "Rm2=S*V3\n",
      "Req2=(Rm2*Rb)/(Rm2+Rb)\n",
      "VRb3=Req2/(Req2+Ra)*V\n",
      "E2=((V1-VRb3)/V1)*100\n",
      "\n",
      "#Result\n",
      "print\"(i) Voltage reading with a voltmeter on 5 volt \" ,round(VRb1,3),\"Volts\",\"\\n percent error is \",round(E,2),\"%\"\n",
      "print\"(ii) Voltage reading with a voltmeter on 10 volt\", round(VRb2,2),\"Volts\",\"\\n percent error is \",round(E1,2),\"%\"\n",
      "print\"(iii) Voltage reading with a voltmeter on 10 volt\", round(VRb3,2),\"Volts\",\"\\n percent error is \",round(E,2),\"%\""
     ],
     "language": "python",
     "metadata": {},
     "outputs": [
      {
       "output_type": "stream",
       "stream": "stdout",
       "text": [
        "(i) Voltage reading with a voltmeter on 5 volt  4.785 Volts \n",
        " percent error is  4.31 %\n",
        "(ii) Voltage reading with a voltmeter on 10 volt 4.89 Volts \n",
        " percent error is  2.2 %\n",
        "(iii) Voltage reading with a voltmeter on 10 volt 4.96 Volts \n",
        " percent error is  1.0 %\n"
       ]
      }
     ],
     "prompt_number": 90
    },
    {
     "cell_type": "heading",
     "level": 2,
     "metadata": {},
     "source": [
      "Example 4.14 Page no 90"
     ]
    },
    {
     "cell_type": "code",
     "collapsed": false,
     "input": [
      "#Given\n",
      "R1=1000                              #ohm\n",
      "R2=1000.0                             #ohm\n",
      "R3=1000.0                              #ohm\n",
      "Rm=100                               #ohm\n",
      "I=1                                  #A\n",
      "\n",
      "#Calculation\n",
      "Rt=(R1)+((R2*R3)/(R2+R3)) \n",
      "Im=(((Rt)/(Rt+Rm))*I)*100\n",
      "\n",
      "#Result\n",
      "print\"Percent reading due to ammeter loading \", round(Im,1),\"%\"\n"
     ],
     "language": "python",
     "metadata": {},
     "outputs": [
      {
       "output_type": "stream",
       "stream": "stdout",
       "text": [
        "Percent reading due to ammeter loading  93.8 %\n"
       ]
      }
     ],
     "prompt_number": 7
    },
    {
     "cell_type": "heading",
     "level": 2,
     "metadata": {},
     "source": [
      "Example 4.15 Page no 100"
     ]
    },
    {
     "cell_type": "code",
     "collapsed": false,
     "input": [
      "#Given\n",
      "I=1.0*10**-3                         #A\n",
      "Erms=10                              #Volts\n",
      "V=0.45                               #Volts\n",
      "Rm=200                               #ohm\n",
      "\n",
      "#Calculation\n",
      "S=1/I\n",
      "R=(S*V*Erms-Rm)*10**-3\n",
      "\n",
      "#Result\n",
      "print\"Value of multiplier resistance is \", R,\"Kohm\""
     ],
     "language": "python",
     "metadata": {},
     "outputs": [
      {
       "output_type": "stream",
       "stream": "stdout",
       "text": [
        "Value of multiplier resistance is  4.3 Kohm\n"
       ]
      }
     ],
     "prompt_number": 98
    },
    {
     "cell_type": "heading",
     "level": 2,
     "metadata": {},
     "source": [
      "Example 4.16 Page no 101"
     ]
    },
    {
     "cell_type": "code",
     "collapsed": false,
     "input": [
      "#Given\n",
      "Ifsd=100.0*10**-6                           #A\n",
      "V=0.45                                    #Volts\n",
      "Rm=500                                    #ohm\n",
      "Erms=100\n",
      "\n",
      "#calculation\n",
      "Sdc=1/Ifsd\n",
      "Rs=(Sdc*V*100)-Rm\n",
      "Rs1=((0.45*Erms)/Ifsd)-Rm\n",
      "\n",
      "#Result\n",
      "print\"The value of multiplier resistance is \", Rs1*10**-3,\"ohm\""
     ],
     "language": "python",
     "metadata": {},
     "outputs": [
      {
       "output_type": "stream",
       "stream": "stdout",
       "text": [
        "The value of multiplier resistance is  449.5 ohm\n"
       ]
      }
     ],
     "prompt_number": 16
    },
    {
     "cell_type": "heading",
     "level": 2,
     "metadata": {},
     "source": [
      "Example 4.17 Page no 102"
     ]
    },
    {
     "cell_type": "code",
     "collapsed": false,
     "input": [
      "#Given\n",
      "Ifsd=100.0*10**-6                              #A\n",
      "Rm=100                                       #ohm\n",
      "V=50                                           #Vrms\n",
      "\n",
      "#Calculation\n",
      "Sdc=1/Ifsd\n",
      "Sac=0.9*Sdc\n",
      "Rs=Sac*V-Rm\n",
      "\n",
      "#Result\n",
      "print\"The value of multiplier resistance is \", Rs*10**-3,\"Kohm\""
     ],
     "language": "python",
     "metadata": {},
     "outputs": [
      {
       "output_type": "stream",
       "stream": "stdout",
       "text": [
        "The value of multiplier resistance is  449.9 Kohm\n"
       ]
      }
     ],
     "prompt_number": 22
    },
    {
     "cell_type": "heading",
     "level": 2,
     "metadata": {},
     "source": [
      "Example 4.18 Page no 102"
     ]
    },
    {
     "cell_type": "code",
     "collapsed": false,
     "input": [
      "#Given\n",
      "I=1.0*10**-3                                #A\n",
      "V=10                                 #volts\n",
      "Rm=250                               #ohm\n",
      "\n",
      "#Calculation\n",
      "Sdc=1/I\n",
      "Sac=0.9*Sdc\n",
      "R=(Sac*V-Rm)*10**-3\n",
      "\n",
      "#Result\n",
      "print\"Value of multiplier resistance is \", R,\"Kohm\""
     ],
     "language": "python",
     "metadata": {},
     "outputs": [
      {
       "output_type": "stream",
       "stream": "stdout",
       "text": [
        "Value of multiplier resistance is  8.75 Kohm\n"
       ]
      }
     ],
     "prompt_number": 103
    },
    {
     "cell_type": "heading",
     "level": 2,
     "metadata": {},
     "source": [
      "Example 4.19 Page no 103"
     ]
    },
    {
     "cell_type": "code",
     "collapsed": false,
     "input": [
      "#Given\n",
      "Ifsd=100*10**-6                              #A\n",
      "V=10.0                                         #Volts\n",
      "R2=10.0*10**3                                 #ohm\n",
      "Rm=100*10**3                                #ohm\n",
      "R1=10.0*10**3                                 #ohm\n",
      "\n",
      "Sdc=1/Ifsd\n",
      "Rs=Sdc*V\n",
      "Req=(R2*Rm)/(R2+Rm)\n",
      "ER2=Req/(R1+Req)\n",
      "Shw=0.45*Sdc\n",
      "Rs1=Shw*V\n",
      "Req1=(R2*Rs1)/(R2+Rs1)\n",
      "E=Req1/(R1+Req1)\n",
      "Sfw=(0.90*Sdc)\n",
      "Rs2=Sfw*V\n",
      "Req2=(R2*Rs2)/(R2+Rs2)\n",
      "E=(Req2/(R1+Req2))*V\n",
      "\n",
      "#Result\n",
      "print\"Sensitivity is \",Sdc*10**-3,\"Kohm/volt\"\n",
      "print\"Multiplier resistance is \",Rs*10**-3,\"Kohm\"\n",
      "print\"The voltage across R2 is \",round(ER2*10**1,2),\"Volts\"\n",
      "print\"Resistance using Half wave rectifier \",Rs1*10**-3,\"Kohm\"\n",
      "print\"Voltage by AC voltmeter is \",round(E,2),\"Volts\"\n",
      "print\"Resistance using full wave rectifier \",Rs2*10**-3,\"Kohm\"\n",
      "print\"Voltage by DC voltmeter is \",round(E,2),\"Volts\""
     ],
     "language": "python",
     "metadata": {},
     "outputs": [
      {
       "output_type": "stream",
       "stream": "stdout",
       "text": [
        "Sensitivity is  10.0 Kohm/volt\n",
        "Multiplier resistance is  100.0 Kohm\n",
        "The voltage across R2 is  4.76 Volts\n",
        "Resistance using Half wave rectifier  45.0 Kohm\n",
        "Voltage by AC voltmeter is  4.74 Volts\n",
        "Resistance using full wave rectifier  90.0 Kohm\n",
        "Voltage by DC voltmeter is  4.74 Volts\n"
       ]
      }
     ],
     "prompt_number": 60
    },
    {
     "cell_type": "heading",
     "level": 2,
     "metadata": {},
     "source": [
      "Example 4.20 Page no 113"
     ]
    },
    {
     "cell_type": "code",
     "collapsed": false,
     "input": [
      "#Given\n",
      "Im=1*10**-3                        #A\n",
      "Rm=100                             #ohm\n",
      "Rh=1*10**3                         #ohm\n",
      "V=3.0                               #Volts\n",
      "\n",
      "#Calculation\n",
      "R1=Rh-(Im*Rm*Rh)/V\n",
      "R2=(Im*Rm*Rh)/(V-Im*Rh)\n",
      "V1=3-0.09\n",
      "R21=(Im*Rm*Rh)/(V1-Im*Rh)\n",
      "\n",
      "#Result\n",
      "print\"(i) The value of R1= \",round(R1,2),\"ohm\",\" \\n    Value of R2= \",round(R2,2),\"ohm\"\n",
      "print\"(ii) Maximum value of R2 to compensate for a 3% Drop in Battery Voltage \",round(R21,2),\"ohm\""
     ],
     "language": "python",
     "metadata": {},
     "outputs": [
      {
       "output_type": "stream",
       "stream": "stdout",
       "text": [
        "(i) The value of R1=  966.67 ohm  \n",
        "    Value of R2=  50.0 ohm\n",
        "(ii) Maximum value of R2 to compensate for a 3% Drop in Battery Voltage  52.36 ohm\n"
       ]
      }
     ],
     "prompt_number": 13
    },
    {
     "cell_type": "heading",
     "level": 2,
     "metadata": {},
     "source": [
      "Example 4.21 Page no 113"
     ]
    },
    {
     "cell_type": "code",
     "collapsed": false,
     "input": [
      "#Given\n",
      "Rh=2000.0                       #ohm\n",
      "Ifsd=1*10**-3                   #A\n",
      "Rm=100                        #ohm\n",
      "V=3.0                            #Volts\n",
      "V1=2.58                           #Volts\n",
      "\n",
      "#Calculation\n",
      "R1=Rh-((Ifsd*Rm*Rh)/V)\n",
      "R2=(Ifsd*Rm*Rh)/(V-(Ifsd*Rh))\n",
      "R21=(Ifsd*Rm*Rh)/(V1-(Ifsd*Rh))\n",
      "\n",
      "#Result\n",
      "print\"(i) The value of R1=\",round(R1,1),\"Ohm and Value of R2=\",R2,\"Ohm\" \n",
      "print\"The maximum value of R2 is \",round(R21,2),\"ohm\""
     ],
     "language": "python",
     "metadata": {},
     "outputs": [
      {
       "output_type": "stream",
       "stream": "stdout",
       "text": [
        "(i) The value of R1= 1933.3 Ohm and Value of R2= 200.0 Ohm\n",
        "The maximum value of R2 is  344.83 ohm\n"
       ]
      }
     ],
     "prompt_number": 17
    },
    {
     "cell_type": "heading",
     "level": 2,
     "metadata": {},
     "source": [
      "Example 4.22 Page no 114"
     ]
    },
    {
     "cell_type": "code",
     "collapsed": false,
     "input": [
      "#Given\n",
      "V=3                      #volts\n",
      "Im=1.0*10**-3               #A\n",
      "Rm=100                    #ohm\n",
      "P=0.2 \n",
      "P1=0.4\n",
      "P2=0.5 \n",
      "P3=0.75\n",
      "P4=0.9\n",
      "P5=1\n",
      "\n",
      "#calculation\n",
      "Rs=(V/Im)-Rm\n",
      "Rx=((Rs+Rm)/P)-(Rs+Rm)\n",
      "Rx1=((Rs+Rm)/P1)-(Rs+Rm)\n",
      "Rx2=((Rs+Rm)/P2)-(Rs+Rm)\n",
      "Rx3=((Rs+Rm)/P3)-(Rs+Rm)\n",
      "Rx4=((Rs+Rm)/P4)-(Rs+Rm)\n",
      "Rx5=((Rs+Rm)/P5)-(Rs+Rm)\n",
      "\n",
      "#Result\n",
      "print\"The value of Rs is \",Rs*10**-3,\"Kohm\"\n",
      "print\"The value of Rx with 20% detection is \",Rx*10**-3,\"Kohm\"\n",
      "print\"The value of Rx with 40% detection is \",Rx1*10**-3,\"Kohm\"\n",
      "print\"The value of Rx with 50% detection is \",Rx2*10**-3,\"Kohm\"\n",
      "print\"The value of Rx with 75% detection is \",Rx3*10**-3,\"Kohm\"\n",
      "print\"The value of Rx with 90% detection is \",round(Rx4*10**-3,3),\"Kohm\"\n",
      "print\"The value of Rx with 100% detection is \",Rx5*10**-3,\"Kohm\""
     ],
     "language": "python",
     "metadata": {},
     "outputs": [
      {
       "output_type": "stream",
       "stream": "stdout",
       "text": [
        "The value of Rs is  2.9 Kohm\n",
        "The value of Rx with 20% detection is  12.0 Kohm\n",
        "The value of Rx with 40% detection is  4.5 Kohm\n",
        "The value of Rx with 50% detection is  3.0 Kohm\n",
        "The value of Rx with 75% detection is  1.0 Kohm\n",
        "The value of Rx with 90% detection is  0.333 Kohm\n",
        "The value of Rx with 100% detection is  0.0 Kohm\n"
       ]
      }
     ],
     "prompt_number": 40
    },
    {
     "cell_type": "heading",
     "level": 2,
     "metadata": {},
     "source": [
      "Example 4.23 Page no 115"
     ]
    },
    {
     "cell_type": "code",
     "collapsed": false,
     "input": [
      "#Given\n",
      "V=3.0                       #Volts\n",
      "I=1.0*10**-3                #A\n",
      "V1=2.8\n",
      "\n",
      "#Calculation\n",
      "Rt=V/I\n",
      "Rt1=V1/I\n",
      "E=((V-V1)/V)*100\n",
      "\n",
      "#Result\n",
      "print\"The resulting error is \", round(E,2),\"%\""
     ],
     "language": "python",
     "metadata": {},
     "outputs": [
      {
       "output_type": "stream",
       "stream": "stdout",
       "text": [
        "The resulting error is  6.67 %\n"
       ]
      }
     ],
     "prompt_number": 47
    },
    {
     "cell_type": "heading",
     "level": 2,
     "metadata": {},
     "source": [
      "Example 4.24 Page no 116"
     ]
    },
    {
     "cell_type": "code",
     "collapsed": false,
     "input": [
      "#Given\n",
      "Im=1*10**-3                    #A\n",
      "Rm=100.0                         #ohm\n",
      "Rh=2000                        #ohm\n",
      "V=3.0                            #Volts\n",
      "V1=2.7                            #Volts\n",
      "V2=3.1                            #Volts\n",
      "\n",
      "#Calculation\n",
      "R2=(Im*Rh*Rm)/(V-Im*Rh)\n",
      "R1=Rh-R2*Rm/R2+Rm\n",
      "R21=(Im*Rh*Rm)/(V1-Im*Rh)\n",
      "R22=(Im*Rh*Rm)/(V2-Im*Rh)\n",
      "\n",
      "#Result\n",
      "print\"(i) The value of R1=\",R1-66.6,\"ohm and the value of R2=\",R2,\"ohm\"\n",
      "print\"(ii) The value of R2 when battery is 2.7 V is \",round(R21,0),\"ohm\"\n",
      "print\"     The value of R2 when battery is 3.1 V is \",round(R22,0),\"ohm\""
     ],
     "language": "python",
     "metadata": {},
     "outputs": [
      {
       "output_type": "stream",
       "stream": "stdout",
       "text": [
        "(i) The value of R1= 1933.4 ohm and the value of R2= 200.0 ohm\n",
        "(ii) The value of R2 when battery is 2.7 V is  286.0 ohm\n",
        "     The value of R2 when battery is 3.1 V is  182.0 ohm\n"
       ]
      }
     ],
     "prompt_number": 72
    },
    {
     "cell_type": "heading",
     "level": 2,
     "metadata": {},
     "source": [
      "Example 4.25 Page no 118"
     ]
    },
    {
     "cell_type": "code",
     "collapsed": false,
     "input": [
      "#Given\n",
      "I=0.5                          #mA\n",
      "Im=10                          #mA\n",
      "Rm=50                          #ohm\n",
      "Rh=10.0                          #ohm\n",
      "V=3                              #Volts\n",
      "\n",
      "#Calculation\n",
      "Ih=I*Im\n",
      "Vm=Ih*Rm\n",
      "Ix=Vm/Rh\n",
      "Ish=Ix-Ih\n",
      "Rsh=Vm/Ish\n",
      "It=Ix+Ih+Ish\n",
      "V1=V-Vm*10**-3\n",
      "R1=V1/It\n",
      "\n",
      "#Result\n",
      "print\"(i) The value of shunt resistance is \", Rsh,\"ohm\"\n",
      "print\"(ii) Value of current limiting resistance is \", R1*10**3,\"ohm\""
     ],
     "language": "python",
     "metadata": {},
     "outputs": [
      {
       "output_type": "stream",
       "stream": "stdout",
       "text": [
        "(i) The value of shunt resistance is  12.5 ohm\n",
        "(ii) Value of current limiting resistance is  55.0 ohm\n"
       ]
      }
     ],
     "prompt_number": 93
    },
    {
     "cell_type": "heading",
     "level": 2,
     "metadata": {},
     "source": [
      "Example 4.26 Page no 119"
     ]
    },
    {
     "cell_type": "code",
     "collapsed": false,
     "input": [
      "#Given\n",
      "I=3\n",
      "R1=10.0                   #ohm\n",
      "R2=20.0                    #ohm\n",
      "R3=30.0*10**3                #ohm\n",
      "R11=100.0                  #ohm\n",
      "R22=200.0                   #ohm\n",
      "R12=1000                    #ohm\n",
      "R21=2000.0                   #ohm\n",
      "\n",
      "V=I*(R1/(R1+R2))\n",
      "Im=V/R3\n",
      "V1=I*(R11/(R11+R22))\n",
      "Im1=V1/R3\n",
      "V2=I*(R12/(R12+R21))\n",
      "Im2=V2/R3\n",
      "print\"(a) Current through the micrometer is \", round(Im*10**6,1),\"micro A\"\n",
      "print\"(b) The current flows through the meter movement when a 200 ohm resistor is measured \",round (Im1*10**6,1),\"micro A\"\n",
      "print\"(b) The current flows through the meter movement when a 2 Kohm resistor is measured\",round (Im1*10**6,1),\"micro A\" "
     ],
     "language": "python",
     "metadata": {},
     "outputs": [
      {
       "output_type": "stream",
       "stream": "stdout",
       "text": [
        "(a) Current through the micrometer is  33.3 micro A\n",
        "(b) The current flows through the meter movement when a 200 ohm resistor is measured  33.3 micro A\n",
        "(b) The current flows through the meter movement when a 2 Kohm resistor is measured 33.3 micro A\n"
       ]
      }
     ],
     "prompt_number": 114
    }
   ],
   "metadata": {}
  }
 ]
}