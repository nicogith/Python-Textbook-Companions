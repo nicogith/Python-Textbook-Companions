{
 "metadata": {
  "name": "",
  "signature": "sha256:09b7d26869b043c328670d7c0075696a10aa47c91999b0d80eca2e92e801eeab"
 },
 "nbformat": 3,
 "nbformat_minor": 0,
 "worksheets": [
  {
   "cells": [
    {
     "cell_type": "heading",
     "level": 1,
     "metadata": {},
     "source": [
      "Chapter 10 Measuring instruments"
     ]
    },
    {
     "cell_type": "heading",
     "level": 2,
     "metadata": {},
     "source": [
      "Example 10.1 Page no 289"
     ]
    },
    {
     "cell_type": "code",
     "collapsed": false,
     "input": [
      "#Given\n",
      "C1=600                                         #pf\n",
      "C2=100                                         #pf\n",
      "f1=2                                           #MHz\n",
      "f2=4                                           #MHz\n",
      "\n",
      "#Calculation\n",
      "import math\n",
      "Cs=(C1-4*C2)/3.0\n",
      "L=1/(4*(math.pi)**2*f1**2*(C1+Cs))\n",
      "\n",
      "#Result\n",
      "print\"The value of distributed capacitance is \",round(Cs,2),\"pf\",\"and inductance is \",round(L*10**6,3),\"micro H\""
     ],
     "language": "python",
     "metadata": {},
     "outputs": [
      {
       "output_type": "stream",
       "stream": "stdout",
       "text": [
        "The value of distributed capacitance is  66.67 pf and inductance is  9.499 micro H\n"
       ]
      }
     ],
     "prompt_number": 22
    },
    {
     "cell_type": "heading",
     "level": 2,
     "metadata": {},
     "source": [
      "Example 10.2 Page no 290"
     ]
    },
    {
     "cell_type": "code",
     "collapsed": false,
     "input": [
      "#Given\n",
      "C1=500                             #pf\n",
      "C2=110                               #pf2\n",
      "f1=1                                 #MHz\n",
      "f2=2                                   #MHz\n",
      "\n",
      "#Calculation\n",
      "import math\n",
      "Cs=(C1-4*C2)/3.0\n",
      "L=1/(4*(math.pi)**2*f1**2*(C1+Cs))\n",
      "\n",
      "#Result\n",
      "print\"The distributed capacitance is \",Cs ,\"pf\",\"and Value of L is \",round(L*10**6,3),\"micro H\""
     ],
     "language": "python",
     "metadata": {},
     "outputs": [
      {
       "output_type": "stream",
       "stream": "stdout",
       "text": [
        "The distributed capacitance is  20.0 pf and Value of L is  48.712 micro H\n"
       ]
      }
     ],
     "prompt_number": 33
    },
    {
     "cell_type": "heading",
     "level": 2,
     "metadata": {},
     "source": [
      "Example 10.3 Page no 290"
     ]
    },
    {
     "cell_type": "code",
     "collapsed": false,
     "input": [
      "#Given\n",
      "f1=2                                  #MHz\n",
      "C1=500                                   #pf\n",
      "f2=6                                  #MHz\n",
      "C2=50                                  #pf\n",
      "\n",
      "#Calculation \n",
      "Cs=(C1-9*C2)/8.0\n",
      "\n",
      "#Result\n",
      "print\"Value of self capacitance is \", Cs,\"pf\""
     ],
     "language": "python",
     "metadata": {},
     "outputs": [
      {
       "output_type": "stream",
       "stream": "stdout",
       "text": [
        "Value of self capacitance is  6.25 pf\n"
       ]
      }
     ],
     "prompt_number": 36
    }
   ],
   "metadata": {}
  }
 ]
}