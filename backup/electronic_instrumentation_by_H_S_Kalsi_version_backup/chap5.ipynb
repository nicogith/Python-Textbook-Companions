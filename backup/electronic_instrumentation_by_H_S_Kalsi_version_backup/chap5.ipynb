{
 "metadata": {
  "name": "",
  "signature": "sha256:2471290ece4efb00967c01c588e1982987585cc7ba4f2523bc3d651b33c25fb9"
 },
 "nbformat": 3,
 "nbformat_minor": 0,
 "worksheets": [
  {
   "cells": [
    {
     "cell_type": "heading",
     "level": 1,
     "metadata": {},
     "source": [
      "Chapter 5 Digital voltmeters"
     ]
    },
    {
     "cell_type": "heading",
     "level": 2,
     "metadata": {},
     "source": [
      "Example 5.1 Page no 134"
     ]
    },
    {
     "cell_type": "code",
     "collapsed": false,
     "input": [
      "#Given\n",
      "R=100.0*10**3                           #ohm\n",
      "C=1.0*10**-6                            #Farad\n",
      "ei=1\n",
      "t1=1                                  #second \n",
      "\n",
      "#Calculation\n",
      "E=(ei*t1)/(R*C)\n",
      "\n",
      "#Result\n",
      "print\"Voltage present at the output of the integrator after 1s is \", E,\"V\""
     ],
     "language": "python",
     "metadata": {},
     "outputs": [
      {
       "output_type": "stream",
       "stream": "stdout",
       "text": [
        "Voltage present at the output of the integrator after 1s is  10.0 V\n"
       ]
      }
     ],
     "prompt_number": 6
    },
    {
     "cell_type": "heading",
     "level": 2,
     "metadata": {},
     "source": [
      "Example 5.2 Page no 134"
     ]
    },
    {
     "cell_type": "code",
     "collapsed": false,
     "input": [
      "#Given\n",
      "e1=1\n",
      "er=5.0                                               #Volts\n",
      "t1=1                                                 #Second\n",
      "\n",
      "#Calculation\n",
      "t2=ei*t1/er\n",
      "\n",
      "#Result\n",
      "print\"Time interval of t2 is \", t2,\"s\""
     ],
     "language": "python",
     "metadata": {},
     "outputs": [
      {
       "output_type": "stream",
       "stream": "stdout",
       "text": [
        "Time interval of t2 is  0.2 s\n"
       ]
      }
     ],
     "prompt_number": 8
    },
    {
     "cell_type": "heading",
     "level": 2,
     "metadata": {},
     "source": [
      "Example 5.3 Page no 134"
     ]
    },
    {
     "cell_type": "code",
     "collapsed": false,
     "input": [
      "#Given\n",
      "R=100.0*10**3                   #ohm\n",
      "C=2.0*10**-6                   #farad\n",
      "e1=2                           #volts\n",
      "t1=2                           #S\n",
      "\n",
      "#Calculation\n",
      "e0=(e1*t1)/(R*C)\n",
      "\n",
      "#Result\n",
      "print\"The output of the integrator is \", e0,\"Volts\""
     ],
     "language": "python",
     "metadata": {},
     "outputs": [
      {
       "output_type": "stream",
       "stream": "stdout",
       "text": [
        "The output of the integrator is  20.0 Volts\n"
       ]
      }
     ],
     "prompt_number": 5
    },
    {
     "cell_type": "heading",
     "level": 2,
     "metadata": {},
     "source": [
      "Example 5.4 Page no 134"
     ]
    },
    {
     "cell_type": "code",
     "collapsed": false,
     "input": [
      "#Given\n",
      "e1=2                              #Volts\n",
      "t1=2                               #second\n",
      "e2=10.0                             #Volts\n",
      "\n",
      "t2=(e1*t1)/e2\n",
      "print\"Time interval is \",t2,\"second\""
     ],
     "language": "python",
     "metadata": {},
     "outputs": [
      {
       "output_type": "stream",
       "stream": "stdout",
       "text": [
        "Time interval is  0.4 second\n"
       ]
      }
     ],
     "prompt_number": 8
    },
    {
     "cell_type": "heading",
     "level": 2,
     "metadata": {},
     "source": [
      "Example 5.5 Page no 141"
     ]
    },
    {
     "cell_type": "code",
     "collapsed": false,
     "input": [
      "#given\n",
      "n=3\n",
      "\n",
      "#Calculation\n",
      "R=1/10.0**n\n",
      "\n",
      "#Result\n",
      "print\"The resolution is \", R"
     ],
     "language": "python",
     "metadata": {},
     "outputs": [
      {
       "output_type": "stream",
       "stream": "stdout",
       "text": [
        "The resolution is  0.001\n"
       ]
      }
     ],
     "prompt_number": 3
    },
    {
     "cell_type": "heading",
     "level": 2,
     "metadata": {},
     "source": [
      "Example 5.6 Page no 141"
     ]
    },
    {
     "cell_type": "code",
     "collapsed": false,
     "input": [
      "#Given \n",
      "n=5\n",
      "V=12.98                   #Volts\n",
      "V1=1                      #Volts\n",
      "V2=10                      #volts\n",
      "\n",
      "#Calculation\n",
      "R=1/10.0**n\n",
      "R1=V1*R\n",
      "R2=V2*R\n",
      "\n",
      "#Result\n",
      "print\"(i) Resolution is \", R\n",
      "print\"(ii) Any reading upto 4th decimal can be displayed. \\n Hence this will be displayed as 0.6973\"\n",
      "print\"(iii) Resolution is \",R2,\"\\n Hence decimal upto 3rd decimal place can be displayed\"\n",
      "print\"therefore on a 10 V range, the reading will be 0.697 instead of 0.6973\""
     ],
     "language": "python",
     "metadata": {},
     "outputs": [
      {
       "output_type": "stream",
       "stream": "stdout",
       "text": [
        "(i) Resolution is  1e-05\n",
        "(ii) Any reading upto 4th decimal can be displayed. \n",
        " Hence this will be displayed as 0.6973\n",
        "(iii) Resolution is  0.0001 \n",
        " Hence decimal upto 3rd decimal place can be displayed\n",
        "therefore on a 10 V range, the reading will be 0.697 instead of 0.6973\n"
       ]
      }
     ],
     "prompt_number": 13
    }
   ],
   "metadata": {}
  }
 ]
}