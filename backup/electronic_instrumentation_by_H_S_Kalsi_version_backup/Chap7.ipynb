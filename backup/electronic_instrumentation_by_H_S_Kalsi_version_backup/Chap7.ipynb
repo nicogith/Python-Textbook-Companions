{
 "metadata": {
  "name": "",
  "signature": "sha256:c42ad53e71f05c7daed7df58d8caaed6d1cdccf89baa99b8fd442bc5fe5611d6"
 },
 "nbformat": 3,
 "nbformat_minor": 0,
 "worksheets": [
  {
   "cells": [
    {
     "cell_type": "heading",
     "level": 1,
     "metadata": {},
     "source": [
      "Cahpter 7 oscilloscope"
     ]
    },
    {
     "cell_type": "heading",
     "level": 2,
     "metadata": {},
     "source": [
      "Example 7.1 Page no 222"
     ]
    },
    {
     "cell_type": "code",
     "collapsed": false,
     "input": [
      "#Given\n",
      "V=0.5                               #Volts\n",
      "n=3\n",
      "\n",
      "#Calculation\n",
      "V1=V*n\n",
      "\n",
      "#Result\n",
      "print\"Peak to peak amplitude of the signal is \", V1,\"Vp-p\""
     ],
     "language": "python",
     "metadata": {},
     "outputs": [
      {
       "output_type": "stream",
       "stream": "stdout",
       "text": [
        "Peak to peak amplitude of the signal is  1.5 Vp-p\n"
       ]
      }
     ],
     "prompt_number": 4
    },
    {
     "cell_type": "heading",
     "level": 2,
     "metadata": {},
     "source": [
      "Example 7.2 Page no 223"
     ]
    },
    {
     "cell_type": "code",
     "collapsed": false,
     "input": [
      "#Given\n",
      "t=2*10**-6                           #s\n",
      "n=4\n",
      "\n",
      "#Calculation\n",
      "T=t*n\n",
      "f=(1/T)*10**-3\n",
      "\n",
      "#Result\n",
      "print\"Frequency of the signal is \", f,\"KHz\""
     ],
     "language": "python",
     "metadata": {},
     "outputs": [
      {
       "output_type": "stream",
       "stream": "stdout",
       "text": [
        "Frequency of the signal is  125.0 KHz\n"
       ]
      }
     ],
     "prompt_number": 8
    }
   ],
   "metadata": {}
  }
 ]
}