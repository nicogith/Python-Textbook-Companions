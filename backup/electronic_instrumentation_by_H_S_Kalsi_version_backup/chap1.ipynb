{
 "metadata": {
  "name": "",
  "signature": "sha256:2624a2ba41f12934f33163ef62780c9504a218c824a031aeca0eae58b845a3fc"
 },
 "nbformat": 3,
 "nbformat_minor": 0,
 "worksheets": [
  {
   "cells": [
    {
     "cell_type": "heading",
     "level": 1,
     "metadata": {},
     "source": [
      "Chapter 1 Qualities of measurments"
     ]
    },
    {
     "cell_type": "heading",
     "level": 2,
     "metadata": {},
     "source": [
      "Example 1.1 (a) Page no 3"
     ]
    },
    {
     "cell_type": "code",
     "collapsed": false,
     "input": [
      "#Given\n",
      "V=80.0                             #expected value of voltage in Volts\n",
      "V1=79                            #Volts\n",
      "\n",
      "#Calculation\n",
      "E=V-V1\n",
      "E1=((V-V1)/V)*100\n",
      "E2=1-((V-V1)/V)\n",
      "A=100*E2\n",
      "\n",
      "#Result\n",
      "print\"(i) Absolute error is \",E,\"V\"\n",
      "print\"(ii) percent error is \", E1,\"%\"\n",
      "print\"(iii) reletive error is \", E2\n",
      "print\"(iv) percent of accuracy is \", A,\"%\""
     ],
     "language": "python",
     "metadata": {},
     "outputs": [
      {
       "output_type": "stream",
       "stream": "stdout",
       "text": [
        "(i) Absolute error is  1.0 V\n",
        "(ii) percent error is  1.25 %\n",
        "(iii) reletive error is  0.9875\n",
        "(iv) percent of accuracy is  98.75 %\n"
       ]
      }
     ],
     "prompt_number": 14
    },
    {
     "cell_type": "heading",
     "level": 2,
     "metadata": {},
     "source": [
      "Example 1.1 (b) Page no 3"
     ]
    },
    {
     "cell_type": "code",
     "collapsed": false,
     "input": [
      "#Given\n",
      "Yn=20.0                             #mA\n",
      "Xn=18                             #mA\n",
      "\n",
      "#Calculation\n",
      "e=Yn-Xn\n",
      "E=(e/Yn)*100\n",
      "A=1-(e/Yn)\n",
      "a=A*100\n",
      "\n",
      "#Result\n",
      "print\"(i) Absolute error is \", e,\"mA\"\n",
      "print\"(ii) Percent error is \",E,\"%\"\n",
      "print\"(iii) Relative accuracy is \",A\n",
      "print\"(iv) Percent accuracy is \",a,\"%\""
     ],
     "language": "python",
     "metadata": {},
     "outputs": [
      {
       "output_type": "stream",
       "stream": "stdout",
       "text": [
        "(i) Absolute error is  2.0 mA\n",
        "(ii) Percent error is  10.0 %\n",
        "(iii) Relative accuracy is  0.9\n",
        "(iv) Percent accuracy is  90.0 %\n"
       ]
      }
     ],
     "prompt_number": 13
    },
    {
     "cell_type": "heading",
     "level": 2,
     "metadata": {},
     "source": [
      "Example 1.2 Page no 4"
     ]
    },
    {
     "cell_type": "code",
     "collapsed": false,
     "input": [
      "#Given\n",
      "x1=98\n",
      "x2=101\n",
      "x3=102\n",
      "x4=97\n",
      "x5=101\n",
      "x6=100\n",
      "x7=103\n",
      "x8=98\n",
      "x9=106\n",
      "x10=99\n",
      "\n",
      "#Calculation\n",
      "X=(x1+x2+x3+x4+x5+x6+x7+x8+x9+x10)/10.0\n",
      "P=(x6/X)\n",
      "\n",
      "#Result\n",
      "print\"Precision of the 6th measurment is \",round(P,3)"
     ],
     "language": "python",
     "metadata": {},
     "outputs": [
      {
       "output_type": "stream",
       "stream": "stdout",
       "text": [
        "Precision of the 6th measurment is  0.995\n"
       ]
      }
     ],
     "prompt_number": 26
    },
    {
     "cell_type": "heading",
     "level": 2,
     "metadata": {},
     "source": [
      "Example 1.3(a) Page no 6"
     ]
    },
    {
     "cell_type": "code",
     "collapsed": false,
     "input": [
      "#given\n",
      "V=80                                  #milliammeter readings\n",
      "I=10.0                                  #mA\n",
      "V1=150                                 #Volts\n",
      "R1=1000                                #ohm/volt\n",
      "\n",
      "#Calculation\n",
      "R=V/I\n",
      "Rv=R1*V1\n",
      "Rx=(R*V1)/(V1-R)\n",
      "E=((Rx-R)/Rx)*100\n",
      "\n",
      "#Result\n",
      "print\"(i) Apparent resistance of the unknown resistance \",R,\"K ohm\"\n",
      "print \"(ii) Actual resistance of the unknown resistance is \",round(Rx,2),\"K ohm\"\n",
      "print \"(iii) Error due to the loading effet of the voltmeter \",round(E,1),\"%\" "
     ],
     "language": "python",
     "metadata": {},
     "outputs": [
      {
       "output_type": "stream",
       "stream": "stdout",
       "text": [
        "(i) Apparent resistance of the unknown resistance  8.0 K ohm\n",
        "(ii) Actual resistance of the unknown resistance is  8.45 K ohm\n",
        "(iii) Error due to the loading effet of the voltmeter  5.3 %\n"
       ]
      }
     ],
     "prompt_number": 14
    },
    {
     "cell_type": "heading",
     "level": 2,
     "metadata": {},
     "source": [
      "Example 1.3(b) Page no 7"
     ]
    },
    {
     "cell_type": "code",
     "collapsed": false,
     "input": [
      "#Given\n",
      "V=30                             #Volts\n",
      "V1=150                           #Volts\n",
      "I=0.6                            #A\n",
      "R1=1000                          #ohm/volts\n",
      "\n",
      "#Calculation\n",
      "R=V/I\n",
      "Rv=(R1*V1)\n",
      "Rx=(R*Rv)/(Rv-R)\n",
      "E=((Rx-R)/Rx)*100\n",
      "\n",
      "#Result\n",
      "print\"(i) total circuit resistance is \", R,\"ohm\"\n",
      "print \"(ii) The voltmeter resistance is \",round(Rx,2)\n",
      "print\"(iii) Error due to loading effect of voltmeter \", round(E,3),\"%\""
     ],
     "language": "python",
     "metadata": {},
     "outputs": [
      {
       "output_type": "stream",
       "stream": "stdout",
       "text": [
        "(i) total circuit resistance is  50.0 ohm\n",
        "(ii) The voltmeter resistance is  50.02\n",
        "(iii) Error due to loading effect of voltmeter  0.033 %\n"
       ]
      }
     ],
     "prompt_number": 113
    },
    {
     "cell_type": "heading",
     "level": 2,
     "metadata": {},
     "source": [
      "Example 1.4 Page no 12"
     ]
    },
    {
     "cell_type": "code",
     "collapsed": false,
     "input": [
      "#Given\n",
      "x1=49.7\n",
      "x2=50.1\n",
      "x3=50.2\n",
      "x4=49.6\n",
      "x5=49.7\n",
      "\n",
      "#Calculation\n",
      "X=(x1+x2+x3+x4+x5)/5.0\n",
      "d1=x1-X\n",
      "d2=x2-X\n",
      "d3=x3-X\n",
      "d4=x4-X\n",
      "d5=x5-X\n",
      "dtotal=(d1+d2+d3+d4+d5)\n",
      "\n",
      "#Result\n",
      "print\"(i) Arithmetic mean is \", X\n",
      "print\"(ii) derivations from each value are\"\n",
      "print \"d1=\",d1,\"\\nd2=\",d2,\"\\nd3=\",d3,\"\\nd4=\",d4,\"\\nd5=\",d5\n",
      "print\"(iii) The algebric sum of derivative is \",round(dtotal,2)"
     ],
     "language": "python",
     "metadata": {},
     "outputs": [
      {
       "output_type": "stream",
       "stream": "stdout",
       "text": [
        "(i) Arithmetic mean is  49.86\n",
        "(ii) derivations from each value are\n",
        "d1= -0.16 \n",
        "d2= 0.24 \n",
        "d3= 0.34 \n",
        "d4= -0.26 \n",
        "d5= -0.16\n",
        "(iii) The algebric sum of derivative is  0.0\n"
       ]
      }
     ],
     "prompt_number": 77
    },
    {
     "cell_type": "heading",
     "level": 2,
     "metadata": {},
     "source": [
      "Example 1.5 Page no 13"
     ]
    },
    {
     "cell_type": "code",
     "collapsed": false,
     "input": [
      "#Given\n",
      "x1=49.7\n",
      "x2=50.1\n",
      "x3=50.2\n",
      "x4=49.6\n",
      "x5=49.7\n",
      "\n",
      "#Calculation\n",
      "X=(x1+x2+x3+x4+x5)/5.0\n",
      "d1=x1-X\n",
      "d2=x2-X\n",
      "d3=x3-X\n",
      "d4=x4-X\n",
      "d5=x5-X\n",
      "dtotal=(d1+d2+d3+d4+d5)/5.0\n",
      "\n",
      "#Result\n",
      "print\"The average deviation is \",round(dtotal*10**14,3)"
     ],
     "language": "python",
     "metadata": {},
     "outputs": [
      {
       "output_type": "stream",
       "stream": "stdout",
       "text": [
        "The average deviation is  0.284\n"
       ]
      }
     ],
     "prompt_number": 86
    },
    {
     "cell_type": "heading",
     "level": 2,
     "metadata": {},
     "source": [
      "Example 1.6 Page no 13"
     ]
    },
    {
     "cell_type": "code",
     "collapsed": false,
     "input": [
      "#Given\n",
      "d1= -0.16 \n",
      "d2= 0.24 \n",
      "d3= 0.34 \n",
      "d4= -0.26 \n",
      "d5= -0.16\n",
      "\n",
      "#Calculation\n",
      "import math\n",
      "D=math.sqrt((d1**2+d2**2+d3**2+d4**2+d5**2)/4.0)\n",
      "\n",
      "#Result\n",
      "print\"The standard deviation is \",round(D,2)"
     ],
     "language": "python",
     "metadata": {},
     "outputs": [
      {
       "output_type": "stream",
       "stream": "stdout",
       "text": [
        "The standard deviation is  0.27\n"
       ]
      }
     ],
     "prompt_number": 90
    },
    {
     "cell_type": "heading",
     "level": 2,
     "metadata": {},
     "source": [
      "Example 1.7 Page no 14"
     ]
    },
    {
     "cell_type": "code",
     "collapsed": false,
     "input": [
      "#Given\n",
      "V=600                         #Volts\n",
      "V1=250.0                       #Volts\n",
      "a=0.02\n",
      "\n",
      "#Calculation\n",
      "M=a*V\n",
      "E=(M/V1)*100\n",
      "\n",
      "#Result\n",
      "print\"The limited error is \", E,\"%\""
     ],
     "language": "python",
     "metadata": {},
     "outputs": [
      {
       "output_type": "stream",
       "stream": "stdout",
       "text": [
        "The limited error is  4.8 %\n"
       ]
      }
     ],
     "prompt_number": 94
    },
    {
     "cell_type": "heading",
     "level": 2,
     "metadata": {},
     "source": [
      "Example 1.8 (a) Page no 14"
     ]
    },
    {
     "cell_type": "code",
     "collapsed": false,
     "input": [
      "#Given\n",
      "a=0.02\n",
      "I=500                           #mA\n",
      "I1=300.0                         #mA\n",
      "\n",
      "#Calculation\n",
      "M1=I*a\n",
      "M2=(M1/I1)*100\n",
      "\n",
      "#Result\n",
      "print\"Limiting error is \", round(M2,1),\"%\""
     ],
     "language": "python",
     "metadata": {},
     "outputs": [
      {
       "output_type": "stream",
       "stream": "stdout",
       "text": [
        "Limiting error is  3.3 %\n"
       ]
      }
     ],
     "prompt_number": 20
    },
    {
     "cell_type": "heading",
     "level": 2,
     "metadata": {},
     "source": [
      "Example 1.8 (b) Page no 14"
     ]
    },
    {
     "cell_type": "code",
     "collapsed": false,
     "input": [
      "#Given\n",
      "V=70.0                        #Volts\n",
      "V1=100                      #Volts\n",
      "I=80.0                        #mA\n",
      "I1=150                      #mA\n",
      "a=0.015\n",
      "\n",
      "#calculation\n",
      "M=a*V1\n",
      "E=(M/V)*100\n",
      "E1=a*I1\n",
      "E2=(E1/I)*100\n",
      "E3=E+E2\n",
      "\n",
      "#Result\n",
      "print\"limiting error is \",round (E3,3),\"%\""
     ],
     "language": "python",
     "metadata": {},
     "outputs": [
      {
       "output_type": "stream",
       "stream": "stdout",
       "text": [
        "limiting error is  4.955 %\n"
       ]
      }
     ],
     "prompt_number": 102
    }
   ],
   "metadata": {}
  }
 ]
}