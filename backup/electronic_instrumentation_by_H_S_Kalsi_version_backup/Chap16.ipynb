{
 "metadata": {
  "name": "",
  "signature": "sha256:f0d106cb20e4ff801816370dc6f9b81f6c99454631c6ab3d945167ce9fa7c469"
 },
 "nbformat": 3,
 "nbformat_minor": 0,
 "worksheets": [
  {
   "cells": [
    {
     "cell_type": "heading",
     "level": 1,
     "metadata": {},
     "source": [
      "Chapter 16 Measurment set-up"
     ]
    },
    {
     "cell_type": "heading",
     "level": 2,
     "metadata": {},
     "source": [
      "Example 16.1 Page no 619"
     ]
    },
    {
     "cell_type": "code",
     "collapsed": false,
     "input": [
      "#Given\n",
      "fd=75                   #KHz\n",
      "fm=5.0                    #KHz\n",
      "\n",
      "#Calculation\n",
      "Mi=fd/fm\n",
      "\n",
      "#Result\n",
      "print\"Modulation index is \", Mi"
     ],
     "language": "python",
     "metadata": {},
     "outputs": [
      {
       "output_type": "stream",
       "stream": "stdout",
       "text": [
        "Modulation index is  15.0\n"
       ]
      }
     ],
     "prompt_number": 2
    }
   ],
   "metadata": {}
  }
 ]
}