{
 "metadata": {
  "name": "",
  "signature": "sha256:25c836d1606fcfdd3be702967e2c46de8c90c4ed0ada91a05ae2508868159a1c"
 },
 "nbformat": 3,
 "nbformat_minor": 0,
 "worksheets": [
  {
   "cells": [
    {
     "cell_type": "heading",
     "level": 1,
     "metadata": {},
     "source": [
      "Chapter 2 Indicators and display devices"
     ]
    },
    {
     "cell_type": "heading",
     "level": 2,
     "metadata": {},
     "source": [
      "Example 2.1 (a) Page no 27"
     ]
    },
    {
     "cell_type": "code",
     "collapsed": false,
     "input": [
      "#Given\n",
      "N=100\n",
      "W=20*10**-3                                #Width of the coil in m\n",
      "A=30*10**-3                               #Depth of the coil in mm\n",
      "B=0.1                                     #flux density in wb/m**2\n",
      "I=10*10**-3                                 #current in A\n",
      "K=2.0*10**-6                                #Nm/degree\n",
      "\n",
      "#Calculation\n",
      "T=B*A*W*I*N\n",
      "x=T/K\n",
      "\n",
      "#Result\n",
      "print\"The deflection torque is \",T,\"m\"\n",
      "print\"The deflection is \", x,\"degree\"\n"
     ],
     "language": "python",
     "metadata": {},
     "outputs": [
      {
       "output_type": "stream",
       "stream": "stdout",
       "text": [
        "The deflection torque is  6e-05 m\n",
        "The deflection is  30.0 degree\n"
       ]
      }
     ],
     "prompt_number": 1
    },
    {
     "cell_type": "heading",
     "level": 2,
     "metadata": {},
     "source": [
      "Example 2.1 (b) Page no 27"
     ]
    },
    {
     "cell_type": "code",
     "collapsed": false,
     "input": [
      "#Given\n",
      "N=100\n",
      "A=20*10**-3                               #m\n",
      "d=30*10**-3                               #m\n",
      "D=0.1                                     #Wb/m**2\n",
      "t=30*10**-6                               #Nm\n",
      "\n",
      "#Calculation\n",
      "I=(t/(D*d*A*N))*10**3\n",
      "\n",
      "#Result\n",
      "print\"The current through the moving coil is \", I,\"mA\""
     ],
     "language": "python",
     "metadata": {},
     "outputs": [
      {
       "output_type": "stream",
       "stream": "stdout",
       "text": [
        "The current through the moving coil is  5.0 mA\n"
       ]
      }
     ],
     "prompt_number": 1
    }
   ],
   "metadata": {}
  }
 ]
}