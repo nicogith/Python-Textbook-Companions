{
 "metadata": {
  "name": ""
 },
 "nbformat": 3,
 "nbformat_minor": 0,
 "worksheets": [
  {
   "cells": [
    {
     "cell_type": "heading",
     "level": 1,
     "metadata": {},
     "source": [
      "\n",
      "Chapter : 1 - Analog Integrated Circuit Design : An Overview"
     ]
    },
    {
     "cell_type": "heading",
     "level": 2,
     "metadata": {},
     "source": [
      "Example -  1.1 : Page No - 35\n"
     ]
    },
    {
     "cell_type": "code",
     "collapsed": false,
     "input": [
      "#Given data\n",
      "V_EE = 10 # in V\n",
      "R2 = 2.4 # in k ohm\n",
      "R1 = 2.4 # in k ohm\n",
      "R3 = 1 # in k ohm\n",
      "V_BE3 = 0.7 # in V\n",
      "I = (V_EE - ((R2*V_EE)/(R1+R2)) - V_BE3)/R3 # in mA\n",
      "print \"The constant current = %0.1f mA\" %I"
     ],
     "language": "python",
     "metadata": {},
     "outputs": [
      {
       "output_type": "stream",
       "stream": "stdout",
       "text": [
        "The constant current = 4.3 mA\n"
       ]
      }
     ],
     "prompt_number": 1
    },
    {
     "cell_type": "heading",
     "level": 2,
     "metadata": {},
     "source": [
      "Example -  1.2 : Page No - 39"
     ]
    },
    {
     "cell_type": "code",
     "collapsed": false,
     "input": [
      "from math import log\n",
      "#Given data\n",
      "V_CC = 50 # in V\n",
      "V_BE2 = 0.7 # in V\n",
      "R = 50 # in k ohm\n",
      "R = 50 * 10**3 # in ohm\n",
      "I_C1 = 10 # in \u00b5A\n",
      "I_C1 =I_C1 * 10**-6 # in A\n",
      "V_T = 26 # in mV\n",
      "V_T = V_T * 10**-3 # in V\n",
      "I_C2 = (V_CC - V_BE2)/R # in A\n",
      "R_E = (V_T*log(I_C2/I_C1))/I_C1 # in ohm\n",
      "R_E = R_E * 10**-3 # in k ohm\n",
      "print \"The value of R_E = %0.3f k\u03a9\" %R_E"
     ],
     "language": "python",
     "metadata": {},
     "outputs": [
      {
       "output_type": "stream",
       "stream": "stdout",
       "text": [
        "The value of R_E = 11.937 k\u03a9\n"
       ]
      }
     ],
     "prompt_number": 3
    },
    {
     "cell_type": "heading",
     "level": 2,
     "metadata": {},
     "source": [
      "Example -  1.3 : Page No - 43"
     ]
    },
    {
     "cell_type": "code",
     "collapsed": false,
     "input": [
      "from __future__ import division\n",
      "#Given data\n",
      "V = 10 # in V\n",
      "V_BE = 0.715 # in V\n",
      "V_R = 0-(V_BE - V) # in V\n",
      "R = 5.6 # in  k ohm\n",
      "I_R = V_R/R # in  mA\n",
      "bita = 100 \n",
      "I_C = I_R * (bita/(1+bita)) # in mA\n",
      "print \"For transistor Q1, the collector current = %0.4f mA\" %I_C\n",
      "I_C2 = I_R # in mA\n",
      "print \"For transistor Q2, the collector current = %0.3f mA\" %I_C2\n",
      "I_C3 = I_R # in mA\n",
      "print \"For transistor Q3, the collector current = %0.3f mA \" %I_C3\n",
      "I_C4 = I_R # in mA\n",
      "print \"For transistor Q4, the collector current = %0.3f mA \" %I_C4"
     ],
     "language": "python",
     "metadata": {},
     "outputs": [
      {
       "output_type": "stream",
       "stream": "stdout",
       "text": [
        "For transistor Q1, the collector current = 1.6416 mA\n",
        "For transistor Q2, the collector current = 1.658 mA\n",
        "For transistor Q3, the collector current = 1.658 mA \n",
        "For transistor Q4, the collector current = 1.658 mA \n"
       ]
      }
     ],
     "prompt_number": 6
    },
    {
     "cell_type": "heading",
     "level": 2,
     "metadata": {},
     "source": [
      "Example -  1.4 : Page No - 44"
     ]
    },
    {
     "cell_type": "code",
     "collapsed": false,
     "input": [
      "#Given data\n",
      "V = 10 # in V\n",
      "V_BE = 0.715 # in V\n",
      "R = 5.6 # in k ohm\n",
      "I = (V-V_BE)/(R) # in mA\n",
      "bita = 100 \n",
      "I_C1 = (bita/(4+bita))*I # in mA\n",
      "print \"For transistor Q1, the collector current = %0.4f mA\" %I_C1\n",
      "I_C2 = I_C1 # in mA\n",
      "print \"For transistor Q2, the collector current = %0.4f mA\" %I_C2\n",
      "I_C3 = I_C1 # in mA\n",
      "print \"For transistor Q3, the collector current = %0.4f mA\" %I_C3\n",
      "I_C4 = I_C1 # in mA\n",
      "print \"For transistor Q4, the collector current = %0.4f mA\" %I_C4"
     ],
     "language": "python",
     "metadata": {},
     "outputs": [
      {
       "output_type": "stream",
       "stream": "stdout",
       "text": [
        "For transistor Q1, the collector current = 1.5943 mA\n",
        "For transistor Q2, the collector current = 1.5943 mA\n",
        "For transistor Q3, the collector current = 1.5943 mA\n",
        "For transistor Q4, the collector current = 1.5943 mA\n"
       ]
      }
     ],
     "prompt_number": 7
    },
    {
     "cell_type": "heading",
     "level": 2,
     "metadata": {},
     "source": [
      "Example -  1.5 : Page No - 46"
     ]
    },
    {
     "cell_type": "code",
     "collapsed": false,
     "input": [
      "from math import sqrt\n",
      "#Given data\n",
      "I_D1 = 100 # in \u00b5A\n",
      "k_n = 200 # in \u00b5A/V**2\n",
      "W = 10 # in \u00b5m\n",
      "l = 1 # in \u00b5m\n",
      "V_A = 20 # in V\n",
      "V_ov = sqrt((I_D1*2)/(k_n*(W/l))) # in V\n",
      "V_t = 0.7 # in V\n",
      "V_GS = V_t + V_ov # in V\n",
      "V_GS = round(V_GS) # in V\n",
      "V_DD = 3 # in V\n",
      "I_REF = 100 # in \u00b5A\n",
      "I_REF = I_REF * 10**-3 # in mA\n",
      "R = (V_DD - V_GS)/I_REF # in k ohm\n",
      "print \"The value of R = %0.f k\u03a9\" %R \n",
      "V_ov_min = V_ov  # in volt\n",
      "print \"The lowest possible value of V_o = %0.1f V\" %V_ov_min \n",
      "r_o2 = V_A/I_D1 # in M ohm\n",
      "print \"The output resistance % 0.1f M\u03a9\" %r_o2 \n",
      "V_O = V_GS # in V\n",
      "del_Io = V_O/r_o2 # in \u00b5A\n",
      "print \"The change in output current del_Io = %0.f \u00b5A\" %del_Io "
     ],
     "language": "python",
     "metadata": {},
     "outputs": [
      {
       "output_type": "stream",
       "stream": "stdout",
       "text": [
        "The value of R = 20 k\u03a9\n",
        "The lowest possible value of V_o = 0.3 V\n",
        "The output resistance  0.2 M\u03a9\n",
        "The change in output current del_Io = 5 \u00b5A\n"
       ]
      }
     ],
     "prompt_number": 10
    }
   ],
   "metadata": {}
  }
 ]
}