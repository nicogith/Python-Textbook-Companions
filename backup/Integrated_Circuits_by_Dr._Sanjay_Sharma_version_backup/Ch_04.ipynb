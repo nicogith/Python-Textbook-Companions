{
 "metadata": {
  "name": ""
 },
 "nbformat": 3,
 "nbformat_minor": 0,
 "worksheets": [
  {
   "cells": [
    {
     "cell_type": "heading",
     "level": 1,
     "metadata": {},
     "source": [
      "Chapter : 4 - Linear Applications of IC Op-Amps"
     ]
    },
    {
     "cell_type": "heading",
     "level": 2,
     "metadata": {},
     "source": [
      "Example 4.1 : Page No - 131"
     ]
    },
    {
     "cell_type": "code",
     "collapsed": false,
     "input": [
      "#Given data \n",
      "R1= 1 # in k\u03a9\n",
      "R2= 1 # in k\u03a9\n",
      "R3= 1 # in k\u03a9\n",
      "RF= 1 # in k\u03a9\n",
      "Vin1= 2 # in volt\n",
      "Vin2= 1 # in volt\n",
      "Vin3= 4 # in volt\n",
      "Vout= -(RF/R1*Vin1+RF/R2*Vin2+RF/R3*Vin3)\n",
      "print \"The output voltage = %0.f volts\" %Vout\n"
     ],
     "language": "python",
     "metadata": {},
     "outputs": [
      {
       "output_type": "stream",
       "stream": "stdout",
       "text": [
        "The output voltage = -7 volts\n"
       ]
      }
     ],
     "prompt_number": 1
    },
    {
     "cell_type": "heading",
     "level": 2,
     "metadata": {},
     "source": [
      "Example 4.2 : Page No - 131"
     ]
    },
    {
     "cell_type": "code",
     "collapsed": false,
     "input": [
      "#Given data\n",
      "RF= 100 # in k\u03a9\n",
      "Vout= '-(V1+10*V2+100*V3)' # Given data data expression\n",
      "# Vout= -(RF/R1*V1+RF/R2*V2+RF/R3*V3)\n",
      "# Comparing the Vout with the Given data data expression\n",
      "R1= RF # in k\u03a9\n",
      "R2= RF/10 # in k\u03a9\n",
      "R3= RF/100 # in k\u03a9\n",
      "print \"The value of R1 = %0.f k\u03a9\" %R1 \n",
      "print \"The value of R2 = %0.f k\u03a9\" %R2 \n",
      "print \"The value of R3 = %0.f k\u03a9\" %R3 "
     ],
     "language": "python",
     "metadata": {},
     "outputs": [
      {
       "output_type": "stream",
       "stream": "stdout",
       "text": [
        "The value of R1 = 100 k\u03a9\n",
        "The value of R2 = 10 k\u03a9\n",
        "The value of R3 = 1 k\u03a9\n"
       ]
      }
     ],
     "prompt_number": 2
    },
    {
     "cell_type": "heading",
     "level": 2,
     "metadata": {},
     "source": [
      "Example 4.3 : Page No - 131"
     ]
    },
    {
     "cell_type": "code",
     "collapsed": false,
     "input": [
      "#Given data \n",
      "R1= 12 # in k\u03a9\n",
      "R2= 2 # in k\u03a9\n",
      "R3= 3 # in k\u03a9\n",
      "RF= 12 # in k\u03a9\n",
      "V1= 9 # in volt\n",
      "V2= -3 # in volt\n",
      "V3= -1 # in volt\n",
      "Vout= -(RF/R1*V1+RF/R2*V2+RF/R3*V3)\n",
      "print \"The output voltage = %0.f volts\" %Vout"
     ],
     "language": "python",
     "metadata": {},
     "outputs": [
      {
       "output_type": "stream",
       "stream": "stdout",
       "text": [
        "The output voltage = 13 volts\n"
       ]
      }
     ],
     "prompt_number": 3
    },
    {
     "cell_type": "heading",
     "level": 2,
     "metadata": {},
     "source": [
      "Example 4.4 : Page No - 132"
     ]
    },
    {
     "cell_type": "code",
     "collapsed": false,
     "input": [
      "#Given data \n",
      "RF= 6 # in k\u03a9\n",
      "Vout= '-V1+2*V2-3*V3' # Given data data expression or\n",
      "Vout= '-(V1-2*V2+3*V3)' \n",
      "# Vout= -(RF/R1*V1+RF/R2*V2+RF/R3*V3)\n",
      "# Comparing the Vout with the Given data data expression\n",
      "R1= RF # in k\u03a9\n",
      "R2= RF/2 # in k\u03a9\n",
      "R3= RF/3 # in k\u03a9\n",
      "print \"The value of R1 = %0.f k\u03a9\" %R1 \n",
      "print \"The value of R2 = %0.f k\u03a9\" %R2 \n",
      "print \"The value of R3 = %0.f k\u03a9\" %R3 "
     ],
     "language": "python",
     "metadata": {},
     "outputs": [
      {
       "output_type": "stream",
       "stream": "stdout",
       "text": [
        "The value of R1 = 6 k\u03a9\n",
        "The value of R2 = 3 k\u03a9\n",
        "The value of R3 = 2 k\u03a9\n"
       ]
      }
     ],
     "prompt_number": 4
    },
    {
     "cell_type": "heading",
     "level": 2,
     "metadata": {},
     "source": [
      "Example 4.5 : Page No - 132"
     ]
    },
    {
     "cell_type": "code",
     "collapsed": false,
     "input": [
      "from __future__ import division\n",
      "#Given data \n",
      "R3= 10 # in k\u03a9\n",
      "Vout= '-2*V1+3*V2+4*V3' # Given data data expression or\n",
      "Vout= '-(2*V1-3*V2-4*V3)' \n",
      "# Vout= -(RF/R1*V1+RF/R2*V2+RF/R3*V3)\n",
      "# Comparing the Vout with the Given data data expression, we get\n",
      "RF= 4*R3 # in k\u03a9\n",
      "R2= RF/3 # in k\u03a9\n",
      "R1= RF/2 # in k\u03a9\n",
      "print \"The value of R1 = %0.f k\u03a9\" %RF\n",
      "print \"The value of R2 = %0.2f k\u03a9\" %R2 \n",
      "print \"The value of R3 = %0.f k\u03a9\" %R1 "
     ],
     "language": "python",
     "metadata": {},
     "outputs": [
      {
       "output_type": "stream",
       "stream": "stdout",
       "text": [
        "The value of R1 = 40 k\u03a9\n",
        "The value of R2 = 13.33 k\u03a9\n",
        "The value of R3 = 20 k\u03a9\n"
       ]
      }
     ],
     "prompt_number": 7
    },
    {
     "cell_type": "heading",
     "level": 2,
     "metadata": {},
     "source": [
      "Example 4.6 : Page No - 133"
     ]
    },
    {
     "cell_type": "code",
     "collapsed": false,
     "input": [
      "#Given data \n",
      "V1= 2 # in V\n",
      "V2= -1 # in V\n",
      "R=10 # assuming value in k\u03a9\n",
      "R1=R # in k\u03a9\n",
      "R2= R # in k\u03a9\n",
      "R3= R # in k\u03a9\n",
      "R4= R # in k\u03a9\n",
      "RF= 2*R # in k\u03a9\n",
      "Vin1= V1*(R1*R2/(R1+R2))/(R1+(R2*R3/(R2+R3))) # in V\n",
      "Vout1= Vin1*(1+RF/R1) # in V\n",
      "Vin2= V2*(R3*R4/(R3+R4))/(R2+(R3*R4/(R3+R4))) # in V\n",
      "Vout2= Vin2*(1+RF/R2) # in V\n",
      "Vout= Vout1+Vout2 # in V\n",
      "print \"The output voltage = %0.f volts\" %Vout\n"
     ],
     "language": "python",
     "metadata": {},
     "outputs": [
      {
       "output_type": "stream",
       "stream": "stdout",
       "text": [
        "The output voltage = 1 volts\n"
       ]
      }
     ],
     "prompt_number": 8
    },
    {
     "cell_type": "heading",
     "level": 2,
     "metadata": {},
     "source": [
      "Example 4.7 : Page No - 143"
     ]
    },
    {
     "cell_type": "code",
     "collapsed": false,
     "input": [
      "from numpy import pi \n",
      "#Given data \n",
      "R1= 10 # in k\u03a9\n",
      "CF= 0.1 # in micro F\n",
      "CF= CF*10**-6 # in F\n",
      "RF= 10*R1 # in k\u03a9\n",
      "RF= RF*10**3 # in \u03a9\n",
      "fa= 1/(2*pi*RF*CF) # in Hz\n",
      "print \"Limiting frequency = %0.2f Hz\" %fa"
     ],
     "language": "python",
     "metadata": {},
     "outputs": [
      {
       "output_type": "stream",
       "stream": "stdout",
       "text": [
        "Limiting frequency = 15.92 Hz\n"
       ]
      }
     ],
     "prompt_number": 10
    },
    {
     "cell_type": "heading",
     "level": 2,
     "metadata": {},
     "source": [
      "Example 4.8 : Page No - 145"
     ]
    },
    {
     "cell_type": "code",
     "collapsed": false,
     "input": [
      "#Given data \n",
      "f=10 # in kHz\n",
      "f=f*10**3 # in Hz\n",
      "dcGain= 10 \n",
      "fa= f/10 # in Hz\n",
      "R1= 10 # in k\u03a9\n",
      "# Formula dcGain= RF/R1\n",
      "RF= R1*dcGain # in k\u03a9\n",
      "RF=RF*10**3 # in \u03a9\n",
      "R1= R1*10**3 # in \u03a9\n",
      "# Formula fa= 1/(2*pi*RF*CF)\n",
      "CF= 1/(2*pi*RF*fa) # in F\n",
      "CF=CF*10**10 # in nF\n",
      "Rcomp= R1*RF/(R1+RF) # in \u03a9\n",
      "print \"The value of CF = %0.f nF\" %CF\n",
      "print \"The value of Rcomp = %0.2f k\u03a9\" %(Rcomp*10**-3) "
     ],
     "language": "python",
     "metadata": {},
     "outputs": [
      {
       "output_type": "stream",
       "stream": "stdout",
       "text": [
        "The value of CF = 16 nF\n",
        "The value of Rcomp = 9.09 k\u03a9\n"
       ]
      }
     ],
     "prompt_number": 17
    },
    {
     "cell_type": "heading",
     "level": 2,
     "metadata": {},
     "source": [
      "Example 4.9 : Page No - 145"
     ]
    },
    {
     "cell_type": "code",
     "collapsed": false,
     "input": [
      "#Given data \n",
      "Vin=5 # in V\n",
      "R1= 1 # in k\u03a9\n",
      "R1= R1*10**3 # in \u03a9\n",
      "CF= 0.1 # in \u00b5F\n",
      "CF= CF*10**-6 # in F\n",
      "f= 1 # in kHz\n",
      "f= f *10**3 # in Hz\n",
      "T= 1/f # in sec\n",
      "delta_Vout= Vin*T/(2*R1*CF) # in V\n",
      "print \"The maximum change in output voltage = %0.f volts\" %delta_Vout\n",
      "S= 2*pi*f*Vin # in V/sec\n",
      "print \"The minimum slew rate required = %0.5f V/micro-sec\" %(S*10**-6)"
     ],
     "language": "python",
     "metadata": {},
     "outputs": [
      {
       "output_type": "stream",
       "stream": "stdout",
       "text": [
        "The maximum change in output voltage = 25 volts\n",
        "The minimum slew rate required = 0.03142 V/micro-sec\n"
       ]
      }
     ],
     "prompt_number": 19
    },
    {
     "cell_type": "heading",
     "level": 2,
     "metadata": {},
     "source": [
      "Example 4.10 : Page No - 146"
     ]
    },
    {
     "cell_type": "code",
     "collapsed": false,
     "input": [
      "from math import log10, sqrt\n",
      "#Given data \n",
      "R_F = 1.2 # in M ohm\n",
      "R_F = R_F * 10**6 # in ohm\n",
      "C_F = 10 # in nF\n",
      "C_F = C_F * 10**-9 # in F\n",
      "f_a = 1/(2*pi*R_F*C_F) # in Hz\n",
      "print \"The safe frequency = %0.2f Hz\" %f_a \n",
      "R1 = 120 # in k ohm\n",
      "R1 = R1 * 10**3 # in ohm\n",
      "A = R_F/R1 \n",
      "AindB= 20*log10(A) # in dB\n",
      "print \"The d.c gain = %0.f dB\" %AindB \n",
      "f = 10 # in kHz\n",
      "f = f * 10**3 # in Hz\n",
      "A = (R_F/R1)/(sqrt( 1+ ((f/f_a)**2) )) \n",
      "V_in_peak = 5 # in V\n",
      "V_out_peak = V_in_peak*A # in V\n",
      "print \"The peak of output voltage = %0.f mV\" %(V_out_peak*10**3) \n",
      "\n",
      "\n"
     ],
     "language": "python",
     "metadata": {},
     "outputs": [
      {
       "output_type": "stream",
       "stream": "stdout",
       "text": [
        "The safe frequency = 13.26 Hz\n",
        "The d.c gain = 20 dB\n",
        "The peak of output voltage = 66 mV\n"
       ]
      }
     ],
     "prompt_number": 21
    },
    {
     "cell_type": "heading",
     "level": 2,
     "metadata": {},
     "source": [
      "Example 4.11 : Page No - 147"
     ]
    },
    {
     "cell_type": "code",
     "collapsed": false,
     "input": [
      "#Given data \n",
      "Vrms= 10 # in mV\n",
      "f= 2*10**3 # in kHz\n",
      "C= 2*10**-6 # in F\n",
      "R= 50*10**3 # in ohm\n",
      "SF= -1/(C*R) # scale factor\n",
      "#Vout= -1/(R*C)*sqrt(2)*Vrms*integrate('sind(2*pi*f*t)','t',0,t) # in mV\n",
      "#Vout= 1/(R*C)*sqrt(2)*Vrms/(2*pi*f)*(cos(4000*t)-1) # in mV\n",
      "V= 1/(R*C)*sqrt(2)*Vrms/(2*pi*f) # (assumed)\n",
      "print \"Output voltage in mV is : \",round(V,4),\"*(cos(4000 *t)-1) mV\""
     ],
     "language": "python",
     "metadata": {},
     "outputs": [
      {
       "output_type": "stream",
       "stream": "stdout",
       "text": [
        "Output voltage in mV is :  0.0113 *(cos(4000 *t)-1) mV\n"
       ]
      }
     ],
     "prompt_number": 22
    },
    {
     "cell_type": "heading",
     "level": 2,
     "metadata": {},
     "source": [
      "Example 4.12 : Page No - 147"
     ]
    },
    {
     "cell_type": "code",
     "collapsed": false,
     "input": [
      "#Given data \n",
      "Vin=10 # in V\n",
      "R= 2.2 # in k\u03a9\n",
      "R= R*10**3 # in \u03a9\n",
      "T= 1 # in ms\n",
      "T= T*10**-3 # in sec\n",
      "C= 1 # in \u00b5F\n",
      "C= C*10**-6 # in F\n",
      "gain= 10**5 # differential voltage gain\n",
      "I= Vin/R # in A\n",
      "V= I*T/C # in V\n",
      "print \"The capacitor voltage at the end of the pulse = %0.3f volts\" %V\n",
      "RC_desh= R*C*gain # in sec\n",
      "print \"The closed loop time constant = %0.f sec\" %RC_desh"
     ],
     "language": "python",
     "metadata": {},
     "outputs": [
      {
       "output_type": "stream",
       "stream": "stdout",
       "text": [
        "The capacitor voltage at the end of the pulse = 4.545 volts\n",
        "The closed loop time constant = 220 sec\n"
       ]
      }
     ],
     "prompt_number": 24
    },
    {
     "cell_type": "heading",
     "level": 2,
     "metadata": {},
     "source": [
      "Example 4.13 : Page No - 148"
     ]
    },
    {
     "cell_type": "code",
     "collapsed": false,
     "input": [
      "#Given data \n",
      "omega= 10000 # in rad/sec\n",
      "GaindB= 20 # peak gain in dB\n",
      "Gain= 10**(GaindB/20) \n",
      "C= 0.01 # in \u00b5F\n",
      "C= C*10**-6 # in F\n",
      "# Formula omega= 1/(C*RF)\n",
      "RF= 1/(C*omega) # in \u03a9\n",
      "R1= RF/Gain # in \u03a9\n",
      "print \"The value of RF = %0.f k\u03a9\" %(RF*10**-3)\n",
      "print \"The value of R1 = %0.f k\u03a9\" %(R1*10**-3)\n"
     ],
     "language": "python",
     "metadata": {},
     "outputs": [
      {
       "output_type": "stream",
       "stream": "stdout",
       "text": [
        "The value of RF = 10 k\u03a9\n",
        "The value of R1 = 1 k\u03a9\n"
       ]
      }
     ],
     "prompt_number": 25
    },
    {
     "cell_type": "heading",
     "level": 2,
     "metadata": {},
     "source": [
      "Example 4.14 : Page No - 148"
     ]
    },
    {
     "cell_type": "code",
     "collapsed": false,
     "input": [
      "%matplotlib inline\n",
      "import numpy as np\n",
      "from scipy.integrate import quad\n",
      "from sympy import symbols\n",
      "import matplotlib.pyplot as plt\n",
      "from matplotlib.pylab import plot, show, ylim, xlim, text, subplot\n",
      "a= symbols('a')\n",
      "# Given data\n",
      "R= 40 # in k\u03a9\n",
      "R= R*10**3 # in \u03a9\n",
      "C= 0.2 # in \u00b5F\n",
      "C= C*10**-6 # in F\n",
      "Vin= 5 # in V\n",
      "V1= 3 # in V\n",
      "t= 50 # in ms\n",
      "Vout= 3 # in V\n",
      "# Evaluation the integration\n",
      "def integrand(x):\n",
      "    return (Vin-V1)\n",
      "a=1\n",
      "ans, err = quad(integrand, 0, 50)\n",
      "# Output voltage when swith is open\n",
      "vout= -1/(R*C)*ans*10**-3+Vout #in V\n",
      "plt.plot([0,t],[Vout,vout]) \n",
      "plt.title('Output voltage') \n",
      "plt.xlabel('Time in milliseconds')\n",
      "plt.ylabel('Output voltage in volts')\n",
      "plt.show()\n",
      "print \"The value of Vout = %0.1f\" %vout\n",
      "print \"Plot for output voltage shown in figure\" "
     ],
     "language": "python",
     "metadata": {},
     "outputs": [
      {
       "metadata": {},
       "output_type": "display_data",
       "png": "[encoded data removed]",
       "text": [
        "<matplotlib.figure.Figure at 0x7fa9a122c250>"
       ]
      },
      {
       "output_type": "stream",
       "stream": "stdout",
       "text": [
        "The value of Vout = -9.5\n",
        "Plot for output voltage shown in figure\n"
       ]
      }
     ],
     "prompt_number": 1
    },
    {
     "cell_type": "heading",
     "level": 2,
     "metadata": {},
     "source": [
      "Example 4.15 : Page No - 149"
     ]
    },
    {
     "cell_type": "code",
     "collapsed": false,
     "input": [
      "from scipy.integrate import quad\n",
      "import numpy as np\n",
      "# Given data\n",
      "R= 500 # in k\u03a9\n",
      "R= R*10**3 # in \u03a9\n",
      "C= 10 # in \u00b5F\n",
      "C= C*10**-6 # in F\n",
      "vout= 12 # in V\n",
      "v= -0.5 # in V\n",
      "# given output equation : vout= -1/RC * integrate[v(t) * dt + A] \n",
      "# Evaluation the integration\n",
      "def integrand(t):\n",
      "    return -t\n",
      "ans, err = quad(integrand, 0, 1)\n",
      "vout_by_t= -1/(R*C)*ans #in V/sec\n",
      "# Time required for saturation of output voltage\n",
      "t= vout/vout_by_t # in sec\n",
      "print \"The time duration required for saturation of output voltage = %0.f seconds\" %t"
     ],
     "language": "python",
     "metadata": {},
     "outputs": [
      {
       "output_type": "stream",
       "stream": "stdout",
       "text": [
        "The time duration required for saturation of output voltage = 120 seconds\n"
       ]
      }
     ],
     "prompt_number": 30
    },
    {
     "cell_type": "heading",
     "level": 2,
     "metadata": {},
     "source": [
      "Example 4.16 : Page No - 150"
     ]
    },
    {
     "cell_type": "code",
     "collapsed": false,
     "input": [
      "#Given data \n",
      "C_F = 10 # in \u00b5F\n",
      "C_F = C_F * 10**-6 # in F\n",
      "R1 = 1/C_F # in ohm\n",
      "R1 = R1 * 10**-3 # in k ohm\n",
      "print \"The value of R1 = %0.f k\u03a9\" %R1 \n",
      "R2 = 1/(C_F*2) # in ohm\n",
      "R2 = R2 * 10**-3 # in k ohm\n",
      "print \"The value of R1 = %0.f k\u03a9\" %R2 \n",
      "R3 = 1/(C_F*5) # in ohm\n",
      "R3 = R3 * 10**-3  # in k ohm\n",
      "print \"The value of R1 = %0.f k\u03a9\" %R3 \n",
      "\n",
      "\n"
     ],
     "language": "python",
     "metadata": {},
     "outputs": [
      {
       "output_type": "stream",
       "stream": "stdout",
       "text": [
        "The value of R1 = 100 k\u03a9\n",
        "The value of R1 = 50 k\u03a9\n",
        "The value of R1 = 20 k\u03a9\n"
       ]
      }
     ],
     "prompt_number": 31
    },
    {
     "cell_type": "heading",
     "level": 2,
     "metadata": {},
     "source": [
      "Example 4.17 : Page No - 158"
     ]
    },
    {
     "cell_type": "code",
     "collapsed": false,
     "input": [
      "#Given data \n",
      "f_max = 150 # in Hz\n",
      "f_a = f_max # in Hz\n",
      "print \"The value of f_a = %0.f Hz\" %f_a\n",
      "C1 = 1 # in \u00b5F\n",
      "C1 = C1 * 10**-6 # in F\n",
      "R_F = 1/(2*pi*f_a*C1) # in ohm\n",
      "print \"The value of R_F = %0.2f k\u03a9\" %(R_F*10**-3) \n",
      "f_b = 10*f_a # in Hz\n",
      "R1 = 1/(2*pi*f_b*C1) # in ohm\n",
      "C_F = (R1*C1)/R_F # in F\n",
      "print \"The value of C_F = %0.1f \u00b5F\" %(C_F*10**6) \n",
      "R_comp = (R1*R_F)/(R1+(R_F)) # in ohm\n",
      "print \"The value of R_comp = %0.2f \u03a9\" %R_comp"
     ],
     "language": "python",
     "metadata": {},
     "outputs": [
      {
       "output_type": "stream",
       "stream": "stdout",
       "text": [
        "The value of f_a = 150 Hz\n",
        "The value of R_F = 1.06 k\u03a9\n",
        "The value of C_F = 0.1 \u00b5F\n",
        "The value of R_comp = 96.46 \u03a9\n"
       ]
      }
     ],
     "prompt_number": 33
    },
    {
     "cell_type": "heading",
     "level": 2,
     "metadata": {},
     "source": [
      "Example 4.18 : Page No - 158"
     ]
    },
    {
     "cell_type": "code",
     "collapsed": false,
     "input": [
      "from sympy import symbols, sin\n",
      "t , pi = symbols('t pi')\n",
      "#Given data \n",
      "Vmax= 10 # in \u00b5V\n",
      "f= 2*10**3 # in kHz\n",
      "#Vin= Vmax*sin(2*pi*f*t) # in \u00b5V\n",
      "Vin = (Vmax*sin(2*pi*f*t)) # in mV\n",
      "#print \"The input voltage is \"+string(Vmax)+\"*sin (\"+string(2*f)+\"pi*t) \"\n",
      "print \" The input voltage = \",Vin,\"\u00b5V\""
     ],
     "language": "python",
     "metadata": {},
     "outputs": [
      {
       "output_type": "stream",
       "stream": "stdout",
       "text": [
        " The input voltage =  10*sin(4000*pi*t) \u00b5V\n"
       ]
      }
     ],
     "prompt_number": 34
    },
    {
     "cell_type": "heading",
     "level": 2,
     "metadata": {},
     "source": [
      "Example 4.19 : Page No - 159"
     ]
    },
    {
     "cell_type": "code",
     "collapsed": false,
     "input": [
      "from __future__ import division\n",
      "%matplotlib inline\n",
      "from sympy import symbols, simplify, sin\n",
      "import matplotlib.pyplot as plt\n",
      "import numpy as np\n",
      "# Given data\n",
      "fa= 1 # in kHz\n",
      "fa=fa*10**3 # in Hz\n",
      "Vp=1.5 # in volt\n",
      "f= 200 # in Hz\n",
      "C=0.1 # in micro F\n",
      "C=C*10**-6 # in F\n",
      "R= 1/(2*np.pi*fa*C) # in ohm\n",
      "R=R*10**-3 # in k ohm\n",
      "R=np.floor(R*10)/10 # in k ohm\n",
      "fb= 20*fa # in Hz\n",
      "R_desh= 1/(2*np.pi*fb*C) # in ohm\n",
      "# Let\n",
      "R_desh= 82 # in ohm\n",
      "R_OM= R # in k ohm\n",
      "print \"Value of R_OM = %0.1f k ohm\" %R_OM\n",
      "CR= C*R \n",
      "# Vin= Vp*sin(omega*t)= 1.5*sin(400*t)\n",
      "# v_out= -CR*diff(v_in) = -0.2827 Cos(400*pi*t)# in micro volt\n",
      "print \"Output Voltage = -0.2827 Cos(400*pi*t)\" \n",
      "t = np.arange(0, .015, 1.0/44100)\n",
      "v_out=-0.2827*np.sin(400*np.pi*t+np.pi/2)# in micro volt\n",
      "plot(t,v_out) \n",
      "plt.title('Output Voltage Waveform')\n",
      "plt.xlabel('Time in ms')\n",
      "plt.ylabel('Vout in Volts') \n",
      "print \"Output Voltage waveform is shown in figure.\""
     ],
     "language": "python",
     "metadata": {},
     "outputs": [
      {
       "output_type": "stream",
       "stream": "stdout",
       "text": [
        "Value of R_OM = 1.5 k ohm\n",
        "Output Voltage = -0.2827 Cos(400*pi*t)\n",
        "Output Voltage waveform is shown in figure."
       ]
      },
      {
       "output_type": "stream",
       "stream": "stdout",
       "text": [
        "\n"
       ]
      },
      {
       "metadata": {},
       "output_type": "display_data",
       "png": "[encoded data removed]",
       "text": [
        "<matplotlib.figure.Figure at 0x7fa9a376bb90>"
       ]
      }
     ],
     "prompt_number": 2
    },
    {
     "cell_type": "heading",
     "level": 2,
     "metadata": {},
     "source": [
      "Example 4.20 : Page No - 171"
     ]
    },
    {
     "cell_type": "code",
     "collapsed": false,
     "input": [
      "from __future__ import division\n",
      "#Given data \n",
      "R2 = 100 # in ohm\n",
      "R1 = 200 # in ohm\n",
      "R_F = 100 # in k ohm\n",
      "R_F = R_F * 10**3 # in ohm\n",
      "R_G = 100 # in ohm\n",
      "Gain_max = ( 1+((2*R_F)/R_G) ) * (R2/R1) \n",
      "R = 100 # in  k ohm\n",
      "R_G1 = 0.01+R # in k ohm\n",
      "R_G1 = R_G1 * 10**3 # in ohm\n",
      "Gain_min = ( 1+((2*R_F)/R_G1) ) * (R2/R1) \n",
      "print \"The gain can be varied from \",round(Gain_min,1),\" to \",round(Gain_max,1)\n",
      "\n",
      "#Note : In the book the value of maximum gain is not accurate "
     ],
     "language": "python",
     "metadata": {},
     "outputs": [
      {
       "output_type": "stream",
       "stream": "stdout",
       "text": [
        "The gain can be varied from  1.5  to  1000.5\n"
       ]
      }
     ],
     "prompt_number": 37
    },
    {
     "cell_type": "heading",
     "level": 2,
     "metadata": {},
     "source": [
      "Example 4.21 : Page No - 172"
     ]
    },
    {
     "cell_type": "code",
     "collapsed": false,
     "input": [
      "#Given data \n",
      "R1 = 100 # in k ohm\n",
      "R2 = 100 # in k ohm\n",
      "R_F = 470 # in k ohm\n",
      "Gain = 100 \n",
      "R_G = (2*R_F)/(Gain-1) # in ohm\n",
      "print \"The value of R_G = %0.2f ohm\" %R_G"
     ],
     "language": "python",
     "metadata": {},
     "outputs": [
      {
       "output_type": "stream",
       "stream": "stdout",
       "text": [
        "The value of R_G = 9.49 ohm\n"
       ]
      }
     ],
     "prompt_number": 38
    },
    {
     "cell_type": "heading",
     "level": 2,
     "metadata": {},
     "source": [
      "Example 4.22 : Page No - 174"
     ]
    },
    {
     "cell_type": "code",
     "collapsed": false,
     "input": [
      "#Given data \n",
      "R = 100 # in ohm\n",
      "T = 25 # in degree C\n",
      "alpha = 0.00392 \n",
      "R1 = R*(1+(alpha*T)) # in ohm\n",
      "expression= 'R_T= Ro*[1+alpha*T]' \n",
      "print \"The expression for the resistance at T\u00b0C : R_T= Ro*[1+alpha*T]\"\n",
      "print \"The transducer resistance at 25\u00b0C = %0.1f \u03a9\" %R1 \n",
      "T = 100 # in degree C\n",
      "R2 = R*(1+(alpha*T)) # in ohm\n",
      "print \"The transducer resistance at 100\u00b0C = %0.1f \u03a9\" %R2 \n",
      "\n",
      "\n"
     ],
     "language": "python",
     "metadata": {},
     "outputs": [
      {
       "output_type": "stream",
       "stream": "stdout",
       "text": [
        "The expression for the resistance at T\u00b0C : R_T= Ro*[1+alpha*T]\n",
        "The transducer resistance at 25\u00b0C = 109.8 \u03a9\n",
        "The transducer resistance at 100\u00b0C = 139.2 \u03a9\n"
       ]
      }
     ],
     "prompt_number": 40
    },
    {
     "cell_type": "heading",
     "level": 2,
     "metadata": {},
     "source": [
      "Example 4.23 : Page No - 176"
     ]
    },
    {
     "cell_type": "code",
     "collapsed": false,
     "input": [
      "#Given data \n",
      "R3 = 1 # in k ohm\n",
      "R4 = 1 # in k ohm\n",
      "R_min = R4/R3 \n",
      "R_4 = 50 # in k ohm\n",
      "R_max = (R_4+R4)/R3 \n",
      "R2 = 10 # in k ohm\n",
      "A_F = 5 \n",
      "R1 = (((A_F/R_min)-1)*R2)/2 # in k ohm\n",
      "print \"The value of R1 = %0.f k\u03a9\" %R1 \n",
      "print \"The value of R2 = %0.f k\u03a9\" %R2"
     ],
     "language": "python",
     "metadata": {},
     "outputs": [
      {
       "output_type": "stream",
       "stream": "stdout",
       "text": [
        "The value of R1 = 20 k\u03a9\n",
        "The value of R2 = 10 k\u03a9\n"
       ]
      }
     ],
     "prompt_number": 41
    },
    {
     "cell_type": "heading",
     "level": 2,
     "metadata": {},
     "source": [
      "Example 4.24 : Page No - 177"
     ]
    },
    {
     "cell_type": "code",
     "collapsed": false,
     "input": [
      "#Given data \n",
      "R1= 100 # in k\u03a9\n",
      "R2=200 # in k\u03a9\n",
      "R3= 20 # in k\u03a9\n",
      "R4=40 # in k\u03a9\n",
      "#Vout= [1+R2/R1]*[R4/(R3+R4)]*Vin1-R2/R1*Vin2\n",
      "A=(1+R2/R1)*(R4/(R3+R4)) # (assumed)\n",
      "print \"Output voltage =\",int(A),\"*(Vin1-Vin2)\""
     ],
     "language": "python",
     "metadata": {},
     "outputs": [
      {
       "output_type": "stream",
       "stream": "stdout",
       "text": [
        "Output voltage = 2 *(Vin1-Vin2)\n"
       ]
      }
     ],
     "prompt_number": 43
    },
    {
     "cell_type": "heading",
     "level": 2,
     "metadata": {},
     "source": [
      "Example 4.25 : Page No - 177"
     ]
    },
    {
     "cell_type": "code",
     "collapsed": false,
     "input": [
      "#Given data \n",
      "R_F = 5 # in  k ohm\n",
      "R_G = 1 # in  k ohm\n",
      "R1 = 10 # in  k ohm\n",
      "R2 = 20 # in  k ohm\n",
      "A = (1 + ((2*R_F)/R_G))*(R2/R1) \n",
      "print \"The gain of instrumentaion amplifier = %0.f\" %A"
     ],
     "language": "python",
     "metadata": {},
     "outputs": [
      {
       "output_type": "stream",
       "stream": "stdout",
       "text": [
        "The gain of instrumentaion amplifier = 22\n"
       ]
      }
     ],
     "prompt_number": 44
    },
    {
     "cell_type": "heading",
     "level": 2,
     "metadata": {},
     "source": [
      "Example 4.27 : Page No - 178\n"
     ]
    },
    {
     "cell_type": "code",
     "collapsed": false,
     "input": [
      "#Given data \n",
      "R_F = 10 # in  k ohm\n",
      "R_G = 5 # in  k ohm\n",
      "R1 = 1 # in  k ohm\n",
      "R2 = 2 # in  k ohm\n",
      "A = (1+ ((2*R_F)/R_G))*(R2/R1) \n",
      "V_in2 = 2 # in mV\n",
      "V_in1 = 1 # in mV\n",
      "V_out = A*(V_in2-V_in1) # in mV\n",
      "print \"The output voltage = %0.f mV\" %V_out"
     ],
     "language": "python",
     "metadata": {},
     "outputs": [
      {
       "output_type": "stream",
       "stream": "stdout",
       "text": [
        "The output voltage = 10 mV\n"
       ]
      }
     ],
     "prompt_number": 46
    },
    {
     "cell_type": "heading",
     "level": 2,
     "metadata": {},
     "source": [
      "Example 4.28 : Page No - 178\n"
     ]
    },
    {
     "cell_type": "code",
     "collapsed": false,
     "input": [
      "#Given data \n",
      "V_out = 3 # in V\n",
      "V_in2 = 5 # in mV\n",
      "V_in1 = 2 # in mV\n",
      "V1 = V_in2-V_in1 # in mV\n",
      "V1 = V1 * 10**-3 # in V\n",
      "A = V_out/V1 \n",
      "R_F = 15 # in  k ohm\n",
      "R1 = 1 # in  k ohm\n",
      "R2 = 2 # in  k ohm\n",
      "R = R2/R1 # in k  ohm\n",
      "R_G = (2*R_F)/((A/R)-1) #in  k ohm\n",
      "R_G = R_G * 10**3 # in ohm\n",
      "print \"The value of R_G = %0.2f \u03a9\" %R_G"
     ],
     "language": "python",
     "metadata": {},
     "outputs": [
      {
       "output_type": "stream",
       "stream": "stdout",
       "text": [
        "The value of R_G = 60.12 \u03a9\n"
       ]
      }
     ],
     "prompt_number": 47
    },
    {
     "cell_type": "heading",
     "level": 2,
     "metadata": {},
     "source": [
      "Example 4.31 : Page No - 182\n"
     ]
    },
    {
     "cell_type": "code",
     "collapsed": false,
     "input": [
      "#Given data\n",
      "A=10000 \n",
      "R1= 100 # in k\u03a9\n",
      "A2= 1/5 # (assumed value)\n",
      "R2= R1/A2 # in k\u03a9\n",
      "# A= A1*A2 and A1= 1+2*RF/R_GB\n",
      "RFbyR_GB= (A/A2-1)/2 \n",
      "# [1+2*RF/RG]*A2= 1 and RG= RGB+100 k\u03a9\n",
      "R_G= (1-1/A2)/2*100/((1/A2-1)/2-RFbyR_GB) # in k\u03a9\n",
      "R_F= RFbyR_GB*R_G # in k\u03a9\n",
      "print \"The value of R_G = %0.f \u03a9\" %(R_G*10**3)\n",
      "print \"The value of R_F = %0.f k\u03a9\" %R_F\n",
      "print \"This is the base resistance required in series with the pot of 100 k\u03a9\"\n"
     ],
     "language": "python",
     "metadata": {},
     "outputs": [
      {
       "output_type": "stream",
       "stream": "stdout",
       "text": [
        "The value of R_G = 8 \u03a9\n",
        "The value of R_F = 200 k\u03a9\n",
        "This is the base resistance required in series with the pot of 100 k\u03a9\n"
       ]
      }
     ],
     "prompt_number": 48
    }
   ],
   "metadata": {}
  }
 ]
}