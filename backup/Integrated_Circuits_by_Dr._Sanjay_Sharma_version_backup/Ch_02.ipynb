{
 "metadata": {
  "name": ""
 },
 "nbformat": 3,
 "nbformat_minor": 0,
 "worksheets": [
  {
   "cells": [
    {
     "cell_type": "heading",
     "level": 1,
     "metadata": {},
     "source": [
      "Chapter : 2 - The 741 IC Op-Amp"
     ]
    },
    {
     "cell_type": "heading",
     "level": 2,
     "metadata": {},
     "source": [
      "Example 2.2 : Page No - 62"
     ]
    },
    {
     "cell_type": "code",
     "collapsed": false,
     "input": [
      "#Given data\n",
      "I_b1 = 18 # in \u00b5A\n",
      "I_b2 = 22 # in \u00b5A\n",
      "I_b = (I_b1+I_b2)/2 # in \u00b5A\n",
      "print \"Input bias current %0.f \u00b5A\" %I_b \n",
      "I_ios = abs(I_b1-I_b2) # in \u00b5A\n",
      "print \"Input offset current = %0.f \u00b5A\" %I_ios"
     ],
     "language": "python",
     "metadata": {},
     "outputs": [
      {
       "output_type": "stream",
       "stream": "stdout",
       "text": [
        "Input bias current 20 \u00b5A\n",
        "Input offset current = 4 \u00b5A\n"
       ]
      }
     ],
     "prompt_number": 1
    },
    {
     "cell_type": "heading",
     "level": 2,
     "metadata": {},
     "source": [
      "Example 2.4 : Page No - 66"
     ]
    },
    {
     "cell_type": "code",
     "collapsed": false,
     "input": [
      "from numpy import pi\n",
      "#Given data\n",
      "I_CQ = 10 # in \u00b5A\n",
      "I_CQ= I_CQ*10**-6 # in A\n",
      "I = I_CQ # in A\n",
      "C_C = 33 # in pF\n",
      "C_C=C_C*10**-12 # in F\n",
      "C = C_C # in F\n",
      "S = I/C # in V/sec\n",
      "print \"The slew rate = %0.3f V/\u00b5-sec\" %(S*10**-6) \n",
      "V_m = 12 # in V\n",
      "f_m = S/(2*pi*V_m) # in Hz\n",
      "f_m = f_m * 10**-3 # in kHz\n",
      "print \"Maximum possible frequency = %0.3f kHz\" %f_m "
     ],
     "language": "python",
     "metadata": {},
     "outputs": [
      {
       "output_type": "stream",
       "stream": "stdout",
       "text": [
        "The slew rate = 0.303 V/\u00b5-sec\n",
        "Maximum possible frequency = 4.019 kHz\n"
       ]
      }
     ],
     "prompt_number": 4
    },
    {
     "cell_type": "heading",
     "level": 2,
     "metadata": {},
     "source": [
      "Example 2.5 : Page No - 69"
     ]
    },
    {
     "cell_type": "code",
     "collapsed": false,
     "input": [
      "#Given data\n",
      "CMRR = 100 \n",
      "V1 = 300 # in \u00b5V\n",
      "V2 = 240 # in \u00b5V\n",
      "V_id = V1-V2 # in \u00b5V\n",
      "V_cm = (V1+V2)/2 # in \u00b5V\n",
      "A_id = 5000 \n",
      "A_cm = A_id/CMRR \n",
      "V_out = (A_id*V_id) + (A_cm*V_cm) # in \u00b5V\n",
      "V_out = V_out * 10**-3 # in mV\n",
      "print \"Part (i)\"\n",
      "print \"The output Voltage = %0.1f mV\" %V_out \n",
      "print \"\\nPart (ii)\"\n",
      "CMRR = 10**5 \n",
      "A_cm = A_id/CMRR \n",
      "V_out = (A_id*V_id) + (A_cm*V_cm) # in \u00b5V\n",
      "V_out = V_out* 10**-3 # in mV\n",
      "print \"The output voltage = %0.f mV\" %V_out "
     ],
     "language": "python",
     "metadata": {},
     "outputs": [
      {
       "output_type": "stream",
       "stream": "stdout",
       "text": [
        "Part (i)\n",
        "The output Voltage = 313.5 mV\n",
        "\n",
        "Part (ii)\n",
        "The output voltage = 300 mV\n"
       ]
      }
     ],
     "prompt_number": 9
    },
    {
     "cell_type": "heading",
     "level": 2,
     "metadata": {},
     "source": [
      "Example 2.6 : Page No - 69"
     ]
    },
    {
     "cell_type": "code",
     "collapsed": false,
     "input": [
      "from __future__ import division\n",
      "from math import log10\n",
      "#Given data\n",
      "R1 = 1 # in k ohm\n",
      "R2 = 100 # in k ohm\n",
      "A_id = R2/R1 # in k ohm\n",
      "Epsilon = 1 - (90/R2) \n",
      "A_cm = (R2*Epsilon)/(R1+R2)\n",
      "CMMR = A_id/A_cm \n",
      "CMRR = 20*log10(CMMR) # in dB\n",
      "print \"The value of CMRR = %0.f dB\" %CMRR "
     ],
     "language": "python",
     "metadata": {},
     "outputs": [
      {
       "output_type": "stream",
       "stream": "stdout",
       "text": [
        "The value of CMRR = 60 dB\n"
       ]
      }
     ],
     "prompt_number": 11
    },
    {
     "cell_type": "heading",
     "level": 2,
     "metadata": {},
     "source": [
      "Example 2.6 Again : Page No - 81"
     ]
    },
    {
     "cell_type": "code",
     "collapsed": false,
     "input": [
      "#Given data\n",
      "gm1= 1/5.26 # in mA/V\n",
      "gm1= gm1*10**-3 # in A/v\n",
      "I= 9.5 # in \u00b5A\n",
      "I=I*10**-6 # in A\n",
      "del_I= 5.5*10**-3*I # in A\n",
      "V_OS= del_I/gm1 # in V\n",
      "print \"The offset voltage = %0.1f mV\" %(V_OS*10**3)"
     ],
     "language": "python",
     "metadata": {},
     "outputs": [
      {
       "output_type": "stream",
       "stream": "stdout",
       "text": [
        "The offset voltage = 0.3 mV\n"
       ]
      }
     ],
     "prompt_number": 12
    },
    {
     "cell_type": "heading",
     "level": 2,
     "metadata": {},
     "source": [
      "Example 2.17 : Page No - 90"
     ]
    },
    {
     "cell_type": "code",
     "collapsed": false,
     "input": [
      "#Given data\n",
      "V = 10 # in V\n",
      "R1 = 1 # in k ohm\n",
      "R1=R1*10**3 # in ohm\n",
      "R2 = 9 # in  k ohm\n",
      "R2= R2*10**3 # in ohm\n",
      "I_out = 20 # in mA\n",
      "I_out=I_out*10**-3 # in A\n",
      "R_L = V/( I_out-(V/(R1+R2)) ) # in ohm\n",
      "print \"The lowest value of R_L = %0.f ohm\" %R_L "
     ],
     "language": "python",
     "metadata": {},
     "outputs": [
      {
       "output_type": "stream",
       "stream": "stdout",
       "text": [
        "The lowest value of R_L = 500 ohm\n"
       ]
      }
     ],
     "prompt_number": 13
    },
    {
     "cell_type": "heading",
     "level": 2,
     "metadata": {},
     "source": [
      "Example 2.18 : Page No - 93\n",
      "    "
     ]
    },
    {
     "cell_type": "code",
     "collapsed": false,
     "input": [
      "#Given data\n",
      "I_CQ = 10 # in \u00b5A\n",
      "I_CQ= I_CQ*10**-6 # in A\n",
      "I = I_CQ # in A\n",
      "C_C = 33 # in pF\n",
      "C_C=C_C*10**-12 # in F\n",
      "C = C_C # in F\n",
      "S = I/C # in V/sec\n",
      "print \"The slew rate = %0.3f V/\u00b5-sec\" %(S*10**-6 )\n",
      "V_m = 12 # in V\n",
      "f_m = S/(2*pi*V_m) # in Hz\n",
      "f_m = f_m * 10**-3 # in kHz\n",
      "print \"Maximum possible frequency = %0.3f kHz\" %f_m "
     ],
     "language": "python",
     "metadata": {},
     "outputs": [
      {
       "output_type": "stream",
       "stream": "stdout",
       "text": [
        "The slew rate = 0.303 V/\u00b5-sec\n",
        "Maximum possible frequency = 4.019 kHz\n"
       ]
      }
     ],
     "prompt_number": 16
    }
   ],
   "metadata": {}
  }
 ]
}