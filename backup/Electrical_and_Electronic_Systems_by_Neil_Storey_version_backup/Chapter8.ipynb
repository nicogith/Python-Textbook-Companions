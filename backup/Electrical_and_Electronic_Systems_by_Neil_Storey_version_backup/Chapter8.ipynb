{
 "cells": [
  {
   "cell_type": "markdown",
   "metadata": {},
   "source": [
    "# Chapter 8: Operational Amplifier"
   ]
  },
  {
   "cell_type": "markdown",
   "metadata": {},
   "source": [
    "## Example 8.3, Page 148"
   ]
  },
  {
   "cell_type": "code",
   "execution_count": 1,
   "metadata": {
    "collapsed": false
   },
   "outputs": [
    {
     "name": "stdout",
     "output_type": "stream",
     "text": [
      "Gain = 50\n"
     ]
    }
   ],
   "source": [
    "#Initialisation\n",
    "f=20*10**3              #bandwidth frequency in KHz\n",
    "\n",
    "#Calculation\n",
    "gain=(10**6)/(f)         #gain\n",
    "\n",
    "#Result\n",
    "print'Gain = %d'%gain"
   ]
  },
  {
   "cell_type": "markdown",
   "metadata": {},
   "source": [
    "## Example 8.4, Page 150"
   ]
  },
  {
   "cell_type": "code",
   "execution_count": 5,
   "metadata": {
    "collapsed": false,
    "scrolled": true
   },
   "outputs": [
    {
     "name": "stdout",
     "output_type": "stream",
     "text": [
      "Output Resistance = 7.5 mOhm\n",
      "\n",
      "Input Resistance = 20 GOhm\n"
     ]
    }
   ],
   "source": [
    "#Initialisation\n",
    "og=2*10**5                          #Open Loop Gain\n",
    "cg=20                              #Closed Loop Gain\n",
    "or1=75                              #Output Resistance\n",
    "ir1=2*10**6                          #Input Resistance\n",
    "\n",
    "#Calculation\n",
    "ab=og*cg**-1                           #factor (1+AB)\n",
    "or2=or1/ab                              #Output Resistance\n",
    "ir2=ir1*ab                          #Input Resistance\n",
    "\n",
    "#Result\n",
    "print'Output Resistance = %.1f mOhm\\n'%(or2*1000)\n",
    "print'Input Resistance = %d GOhm'%(ir2*10**-9)"
   ]
  },
  {
   "cell_type": "markdown",
   "metadata": {},
   "source": [
    "## Example 8.5, Page 150"
   ]
  },
  {
   "cell_type": "code",
   "execution_count": 12,
   "metadata": {
    "collapsed": false
   },
   "outputs": [
    {
     "name": "stdout",
     "output_type": "stream",
     "text": [
      "Output Resistance = 7.5 mOhm\n",
      "\n",
      "Input Resistance = 1 KOhm\n"
     ]
    }
   ],
   "source": [
    "#Initialisation\n",
    "og=2*10**5                          #Open Loop Gain\n",
    "cg=20                               #Closed Loop Gain\n",
    "or1=75                              #Output Resistance\n",
    "ir1=2*10**6                         #Input Resistance\n",
    "r1=20*10**3                         #Resistnce in Ohm\n",
    "r2=10**3                            #Resistnce in Ohm\n",
    "\n",
    "#Calculation\n",
    "ab=og*cg**-1                        #factor (1+AB)\n",
    "or2=or1*ab**-1                          #Output Resistance\n",
    "#the input is connected to a virtual earth point by the resistance R2, \n",
    "#so the input resistance is equal to R 2 ,\n",
    "ir2=r2                              #Input Resistance\n",
    "\n",
    "#Result\n",
    "print'Output Resistance = %.1f mOhm\\n'%(or2*1000)\n",
    "print'Input Resistance = %d KOhm'%(ir2*10**-3)"
   ]
  },
  {
   "cell_type": "markdown",
   "metadata": {},
   "source": [
    "## Example 8.6, Page 151"
   ]
  },
  {
   "cell_type": "code",
   "execution_count": 15,
   "metadata": {
    "collapsed": false
   },
   "outputs": [
    {
     "name": "stdout",
     "output_type": "stream",
     "text": [
      "Output Resistance = 375 uOhm\n",
      "\n",
      "Input Resistance = 400 GOhm\n"
     ]
    }
   ],
   "source": [
    "#Initialisation\n",
    "og=2*10**5                          #Open Loop Gain\n",
    "cg=1                              #Closed Loop Gain\n",
    "or1=75                              #Output Resistance\n",
    "ir1=2*10**6                          #Input Resistance\n",
    "\n",
    "#Calculation\n",
    "ab=og*cg**-1                        #factor (1+AB)\n",
    "or2=or1*ab**-1                      #Output Resistance\n",
    "ir2=ir1*ab                          #Input Resistance\n",
    "\n",
    "#Result\n",
    "print'Output Resistance = %d uOhm\\n'%(or2*10**6)       #wrong answer in the textbook\n",
    "print'Input Resistance = %d GOhm'%(ir2*10**-9)"
   ]
  }
 ],
 "metadata": {},
 "nbformat": 4,
 "nbformat_minor": 0
}
