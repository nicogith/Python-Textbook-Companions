{
 "metadata": {
  "name": "",
  "signature": "sha256:d756c6c77a4ac290c4965398d89838e2f053a559b464bd46ff8cc1c208f13b8e"
 },
 "nbformat": 3,
 "nbformat_minor": 0,
 "worksheets": [
  {
   "cells": [
    {
     "cell_type": "heading",
     "level": 1,
     "metadata": {},
     "source": [
      "Chapter 13: Capacitance and Electric Fields"
     ]
    },
    {
     "cell_type": "heading",
     "level": 2,
     "metadata": {},
     "source": [
      "Example 13.1, Page 264"
     ]
    },
    {
     "cell_type": "code",
     "collapsed": false,
     "input": [
      "#Initialization\n",
      "c=10*10**-6                            #capacitance in Farad\n",
      "v=10                                   #voltage\n",
      "\n",
      "#Calculation\n",
      "q=c*v                                   #charge in coulomb\n",
      "\n",
      "#Results\n",
      "print'Charge, q = %.1f uC'%(q*10**6)"
     ],
     "language": "python",
     "metadata": {},
     "outputs": [
      {
       "output_type": "stream",
       "stream": "stdout",
       "text": [
        "Charge, q = 100.0 uC\n"
       ]
      }
     ],
     "prompt_number": 5
    },
    {
     "cell_type": "heading",
     "level": 2,
     "metadata": {},
     "source": [
      "Example 13.2, Page 264"
     ]
    },
    {
     "cell_type": "code",
     "collapsed": false,
     "input": [
      "#Initialization\n",
      "l=25*10**-3            #length in meter\n",
      "b=10*10**-3            #breadth in meter\n",
      "d=7*10**-6            #distance between plates in meter\n",
      "e=100                  #dielectric constant of material\n",
      "e0=8.85*10**-12         #dielectric constant of air       \n",
      "\n",
      "#Calculation\n",
      "c=(e0*e*l*b)*d**-1        #Capacitance\n",
      "#Results\n",
      "print'Capacitance, C = %.1f nF'%(c*10**9)"
     ],
     "language": "python",
     "metadata": {},
     "outputs": [
      {
       "output_type": "stream",
       "stream": "stdout",
       "text": [
        "Capacitance, C = 31.6 nF\n"
       ]
      }
     ],
     "prompt_number": 9
    },
    {
     "cell_type": "heading",
     "level": 2,
     "metadata": {},
     "source": [
      "Example 13.3, Page 268"
     ]
    },
    {
     "cell_type": "code",
     "collapsed": false,
     "input": [
      "#Initialization\n",
      "v=100                          #voltage\n",
      "d=10**-5                       #distance in meter\n",
      "\n",
      "#Calculation\n",
      "e=v*d**-1                      #Electric Field Strength\n",
      "\n",
      "#Results\n",
      "print'Electric Field Strength, E = %d ^7 V/m'%round(e*10**-6)"
     ],
     "language": "python",
     "metadata": {},
     "outputs": [
      {
       "output_type": "stream",
       "stream": "stdout",
       "text": [
        "Electric Field Strength, E = 10 ^7 V/m\n"
       ]
      }
     ],
     "prompt_number": 18
    },
    {
     "cell_type": "heading",
     "level": 2,
     "metadata": {},
     "source": [
      "Example 13.4, Page 268"
     ]
    },
    {
     "cell_type": "code",
     "collapsed": false,
     "input": [
      "#Initialization\n",
      "q=15*10**-6                     #charge in coulomb\n",
      "a=200*10**-6                    #area\n",
      "\n",
      "#Calculation\n",
      "d=q/a                           #electric flux density\n",
      "\n",
      "#Results\n",
      "print'D = %d mC/m^2'%(d*10**3)"
     ],
     "language": "python",
     "metadata": {},
     "outputs": [
      {
       "output_type": "stream",
       "stream": "stdout",
       "text": [
        "D = 75 mC/m^2\n"
       ]
      }
     ],
     "prompt_number": 20
    },
    {
     "cell_type": "heading",
     "level": 2,
     "metadata": {},
     "source": [
      "Example 13.5, Page 270"
     ]
    },
    {
     "cell_type": "code",
     "collapsed": false,
     "input": [
      "#Initialization\n",
      "C1=10*10**-6                     #capacitance in Farad\n",
      "C2=25*10**-6                     #capacitance in Farad\n",
      "\n",
      "#Calculation\n",
      "C=C1+C2                     #capacitance in Farad\n",
      "\n",
      "#Results\n",
      "print'C = %d uF'%(C*10**6)"
     ],
     "language": "python",
     "metadata": {},
     "outputs": [
      {
       "output_type": "stream",
       "stream": "stdout",
       "text": [
        "C = 35 uF\n"
       ]
      }
     ],
     "prompt_number": 21
    },
    {
     "cell_type": "heading",
     "level": 2,
     "metadata": {},
     "source": [
      "Example 13.6, Page 271"
     ]
    },
    {
     "cell_type": "code",
     "collapsed": false,
     "input": [
      "#Initialization\n",
      "C1=10*10**-6                     #capacitance in Farad\n",
      "C2=25*10**-6                     #capacitance in Farad\n",
      "\n",
      "#Calculation\n",
      "C=(C1*C2)/(C1+C2)                     #capacitance in Farad\n",
      "\n",
      "#Results\n",
      "print'C = %.2f uF'%(C*10**6)"
     ],
     "language": "python",
     "metadata": {},
     "outputs": [
      {
       "output_type": "stream",
       "stream": "stdout",
       "text": [
        "C = 7.14 uF\n"
       ]
      }
     ],
     "prompt_number": 23
    },
    {
     "cell_type": "heading",
     "level": 2,
     "metadata": {},
     "source": [
      "Example 13.7, Page 275"
     ]
    },
    {
     "cell_type": "code",
     "collapsed": false,
     "input": [
      "#Initialization\n",
      "C1=10*10**-6                     #capacitance in Farad\n",
      "V=100                            #voltage\n",
      "\n",
      "#Calculation\n",
      "E=(0.5)*(C1*V**2)              #Energy stored\n",
      "\n",
      "#Results\n",
      "print'E = %.1f mJ'%(E*10**3)"
     ],
     "language": "python",
     "metadata": {},
     "outputs": [
      {
       "output_type": "stream",
       "stream": "stdout",
       "text": [
        "E = 50.0 mJ\n"
       ]
      }
     ],
     "prompt_number": 35
    },
    {
     "cell_type": "code",
     "collapsed": false,
     "input": [],
     "language": "python",
     "metadata": {},
     "outputs": []
    }
   ],
   "metadata": {}
  }
 ]
}
