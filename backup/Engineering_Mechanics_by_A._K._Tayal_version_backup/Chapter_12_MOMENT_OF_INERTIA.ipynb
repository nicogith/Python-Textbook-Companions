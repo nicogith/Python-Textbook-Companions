{
 "cells": [
  {
   "cell_type": "markdown",
   "metadata": {},
   "source": [
    "# Chapter 12 Moment of Inertia"
   ]
  },
  {
   "cell_type": "markdown",
   "metadata": {},
   "source": [
    "# Example 12.7 Moment of Inertia of an area of a plane figure with respect to an axis in its plane"
   ]
  },
  {
   "cell_type": "code",
   "execution_count": 1,
   "metadata": {
    "collapsed": false
   },
   "outputs": [
    {
     "name": "stdout",
     "output_type": "stream",
     "text": [
      "The centroidal moment of inertia about X-axis (I_x) is 300 cm**4\n",
      "The centroidal moment of inertia about Y-axis (I_y) is 150 cm**4\n"
     ]
    }
   ],
   "source": [
    "# Initilization of variables\n",
    "A= 50 # cm**2 # area of the shaded portion\n",
    "J_A=22.5*10**2 # cm**4 # polar moment of inertia of the shaded portion\n",
    "d=6 # cm\n",
    "# Calculations\n",
    "J_c=J_A-(A*d**2) \n",
    "# substuting the value of I_x from eq'n 2 in eq'n 1 we get,\n",
    "I_y=J_c/3 # cm**4 # M.O.I about Y-axis\n",
    "# Now from eq'n 2,\n",
    "I_x=2*I_y # cm**4 # M.O.I about X-axis\n",
    "# Results\n",
    "print('The centroidal moment of inertia about X-axis (I_x) is %d cm**4'%I_x)\n",
    "print('The centroidal moment of inertia about Y-axis (I_y) is %d cm**4'%I_y)"
   ]
  },
  {
   "cell_type": "markdown",
   "metadata": {},
   "source": [
    "# Example 12.8 Moment of Inertia of a Composite area or hollow section"
   ]
  },
  {
   "cell_type": "code",
   "execution_count": 2,
   "metadata": {
    "collapsed": false
   },
   "outputs": [
    {
     "name": "stdout",
     "output_type": "stream",
     "text": [
      "The M.O.I of the composite area about the centroidal x-axis is 36252.768805 cm**4\n"
     ]
    }
   ],
   "source": [
    "import math\n",
    "# Initilization of variables\n",
    "b=20 # cm # width of the pate\n",
    "d=30 # cm # depth of the plate\n",
    "r=15 # cm # radius of the circular hole\n",
    "h=20 # cm # distance between the centre of the circle & the x-axis\n",
    "# Calculations\n",
    "# (a) Location of the centroid of the composite area\n",
    "A_1=b*d # cm**2 # area of the plate\n",
    "y_1=d/2 # cm # y-coordinate of the centroid\n",
    "A_2=(math.pi*r**2)/4 # cm**2 # area of the circle removed (negative)\n",
    "y_2=h # cm # y-coordinate of the centroid\n",
    "y_c=((A_1*y_1)-(A_2*y_2))/(A_1-A_2) # cm # from the bottom edge\n",
    "# (b) Moment of Inertia of the composite area about the centroidal x-axis\n",
    "# Area (A_1) M.I of area A_1 about x-axis\n",
    "I_x1=(b*(d**3))/12 # cm**4\n",
    "# M.I of the area A_1 about the centroidal x-axis of the composite area (By parallel-axis theorem)\n",
    "OC_1=15 # cm # from the bottom edge\n",
    "OC_2=20 # cm\n",
    "OC=12.9 # cm # from the bottom edge\n",
    "d_1=OC_1-OC # cm\n",
    "d_2=OC_2-OC # cm \n",
    "I_X1=(I_x1)+(A_1*d_1**2) # cm**4\n",
    "# Area(A_2) M.I of area A_2 about x-axis\n",
    "I_x2=(math.pi*r**4)/64 # cm**2\n",
    "# M.I of the area A_2 about the centroidal x-axis of the composite area (By parallel-axis theorem)\n",
    "I_X2=(I_x2)+(A_2*d_2**2) # cm**4\n",
    "# COMPOSITE AREA:M.O.I of the composite area about the centroidal x-axis\n",
    "I_x=(I_X1)-(I_X2) # cm**4\n",
    "# Results\n",
    "print('The M.O.I of the composite area about the centroidal x-axis is %f cm**4'%I_x)\n",
    "# There may be a small error in the answer due to a decimal point "
   ]
  },
  {
   "cell_type": "markdown",
   "metadata": {},
   "source": [
    "# Example 12.9 Moment of Inertia of a Composite area or hollow section"
   ]
  },
  {
   "cell_type": "code",
   "execution_count": 3,
   "metadata": {
    "collapsed": false
   },
   "outputs": [
    {
     "name": "stdout",
     "output_type": "stream",
     "text": [
      "The M.O.I of the composite area about the centroidal x-axis is 2309333.000000 mm**4\n"
     ]
    }
   ],
   "source": [
    "from __future__ import division\n",
    "import math\n",
    "# Initilization of variables\n",
    "b1=80 # mm # width of the flange pate\n",
    "d1=20 # mm # depth of the flange plate\n",
    "b2=40 # mm # width/thickness of the web\n",
    "d2=60 # mm # depth of the web\n",
    "# Calculations\n",
    "# (a) Location of the centroid of the composite area\n",
    "A_1=b1*d1 # mm**2 # area of the flange plate\n",
    "y_1=d2+(d1/2) # mm # y-coordinate of the centroid\n",
    "A_2=b2*d2 # mm**2 # area of the web\n",
    "y_2=d2/2 # mm # y-coordinate of the centroid\n",
    "y_c=((A_1*y_1)+(A_2*y_2))/(A_1+A_2) # mm # from the bottom edge\n",
    "# (b) Moment of Inertia of the composite area about the centroidal x-axis\n",
    "# Area (A_1) M.I of area A_1 about x-axis\n",
    "I_x1=(b1*(d1**3))/12 # mm**4\n",
    "# M.I of the area A_1 about the centroidal x-axis of the composite area (By parallel-axis theorem)\n",
    "OC_1=70 # mm # from the bottom edge\n",
    "OC_2=30 # mm # from the bottom edge\n",
    "OC=y_c # mm # from the bottom edge\n",
    "d_1=(d2-y_c)+(d1/2) # mm\n",
    "d_2=y_c-OC_2 # mm \n",
    "I_X1=(I_x1)+(A_1*d_1**2) # mm**4\n",
    "# Area(A_2) M.I of area A_2 about x-axis\n",
    "I_x2=(b2*d2**3)/12 # mm**4\n",
    "# M.I of the area A_2 about the centroidal x-axis of the composite area (By parallel-axis theorem)\n",
    "I_X2=(I_x2)+(A_2*d_2**2) # mm**4\n",
    "# COMPOSITE AREA:M.O.I of the composite area about the centroidal x-axis\n",
    "I_x=(I_X1)+(I_X2) # mm**4\n",
    "# Results\n",
    "print('The M.O.I of the composite area about the centroidal x-axis is %f mm**4'%I_x)\n",
    "# NOTE: The answer given in the text book is 2.31*10**3 insted of 2.31*10**6."
   ]
  },
  {
   "cell_type": "markdown",
   "metadata": {},
   "source": [
    "# Example 12.10 Moment of Inertia of a Composite area or hollow section"
   ]
  },
  {
   "cell_type": "code",
   "execution_count": 6,
   "metadata": {
    "collapsed": false
   },
   "outputs": [
    {
     "name": "stdout",
     "output_type": "stream",
     "text": [
      "The M.O.I of the composite area about the centroidal x-axis is 10761666.666667 mm**4\n",
      "The M.O.I of the composite area about the centroidal Y-axis is 6086666.666667 mm**4\n"
     ]
    }
   ],
   "source": [
    "from __future__ import division\n",
    "import math\n",
    "# Initilization of variables\n",
    "b1=120 # mm # width of the flange pate of L-section\n",
    "d1=20 # mm # depth of the flange plate\n",
    "b2=20 # mm # width/thickness of the web\n",
    "d2=130 # mm # depth of the web\n",
    "# Calculations\n",
    "# (a) Location of the centroid of the composite area\n",
    "A_1=b1*d1 # mm**2 # area of the flange plate\n",
    "A_2=b2*d2 # mm**2 # area of the web\n",
    "y_1=d2+(d1/2) # mm # y-coordinate of the centroid\n",
    "y_2=d2/2 # mm # y-coordinate of the centroid\n",
    "x_1=60 # mm # x-coordinate of the centroid\n",
    "x_2=110 # mm # x-coordinate of the centroid\n",
    "y_c=((A_1*y_1)+(A_2*y_2))/(A_1+A_2) # mm # from the bottom edge\n",
    "x_c=((A_1*x_1)+(A_2*x_2))/(A_1+A_2) # mm # from the bottom edge\n",
    "# (b) Moment of Inertia of the composite area about the centroidal x-axis\n",
    "# Area (A_1) M.I of area A_1 about x-axis\n",
    "I_x1=(b1*(d1**3))/12 # mm**4\n",
    "# M.I of the area A_1 about the centroidal x-axis of the composite area (By parallel-axis theorem)\n",
    "OC_1=d2+(d1/2) # mm # from the bottom edge\n",
    "OC_2=d2/2 # mm # from the bottom edge\n",
    "OC=y_c # mm # from the bottom edge\n",
    "d_1=(d2-y_c)+(d1/2) # mm\n",
    "d_2=y_c-OC_2 # mm \n",
    "I_X1=(I_x1)+(A_1*d_1**2) # mm**4\n",
    "# Area(A_2) M.I of area A_2 about x-axis\n",
    "I_x2=(b2*d2**3)/12 # mm**4\n",
    "# M.I of the area A_2 about the centroidal x-axis of the composite area (By parallel-axis theorem)\n",
    "I_X2=(I_x2)+(A_2*d_2**2) # mm**4\n",
    "# COMPOSITE AREA:M.O.I of the composite area about the centroidal x-axis\n",
    "I_x=(I_X1)+(I_X2) # mm**4\n",
    "# (c) Moment of Inertia of the composite area about the centroidal y-axis\n",
    "# Area (A_1) M.I of area A_1 about y-axis\n",
    "I_y1=(d1*(b1**3))/12 # mm**4\n",
    "# M.I of the area A_1 about the centroidal y-axis of the composite area (By parallel-axis theorem)\n",
    "d_3=x_c-(b1/2) # mm # distance between c &c1 along x axis\n",
    "I_Y1=(I_y1)+(A_1*d_3**2) # mm**4\n",
    "# Area(A_2) M.I of area A_2 about y-axis\n",
    "I_y2=(d2*b2**3)/12 # mm**4\n",
    "# M.I of the area A_2 about the centroidal y-axis of the composite area (By parallel-axis theorem)\n",
    "d_4=b1-x_c-(b2/2) # mm # distance between c &c2 along x axis\n",
    "I_Y2=(I_y2)+(A_2*d_4**2) # mm**4\n",
    "# COMPOSITE AREA:M.O.I of the composite area about the centroidal y-axis\n",
    "I_y=(I_Y1)+(I_Y2) # mm**4\n",
    "# Results\n",
    "print('The M.O.I of the composite area about the centroidal x-axis is %f mm**4'%I_x)\n",
    "print('The M.O.I of the composite area about the centroidal Y-axis is %f mm**4'%I_y)\n",
    "# NOTE: The answer for I_x given in text book is 0.76*10**6 insted of 10.76*10**6"
   ]
  },
  {
   "cell_type": "markdown",
   "metadata": {},
   "source": [
    "# Example 12.14 Product of Inertia"
   ]
  },
  {
   "cell_type": "code",
   "execution_count": 7,
   "metadata": {
    "collapsed": false
   },
   "outputs": [
    {
     "name": "stdout",
     "output_type": "stream",
     "text": [
      "The Product of inertia of the L-section is 7.750000 cm**4\n"
     ]
    }
   ],
   "source": [
    "from __future__ import division\n",
    "import math\n",
    "# Initilization of variables\n",
    "b=1 # cm # smaller side of the L-section\n",
    "h=4 # cm # larger side of the L-section\n",
    "# Calculations\n",
    "# (A) RECTANGLE A_1: Using the paralel axis theorem\n",
    "Ixy=0\n",
    "I_xy1=(Ixy)+((h*b)*(b/2)*(h/2)) # cm**4\n",
    "# (B) RECTANGLE A_2: Using the paralel axis theorem\n",
    "I_xy2=(Ixy)+((b*(h-1))*(1+(3/2))*(b/2)) # cm**4\n",
    "# Product of inertia of the total area\n",
    "I_xy=I_xy1+I_xy2 # cm**4\n",
    "# Calculations\n",
    "print('The Product of inertia of the L-section is %f cm**4'%I_xy)"
   ]
  },
  {
   "cell_type": "markdown",
   "metadata": {},
   "source": [
    "# Example 12.15 Principal Moment of Inertia"
   ]
  },
  {
   "cell_type": "code",
   "execution_count": 9,
   "metadata": {
    "collapsed": false
   },
   "outputs": [
    {
     "name": "stdout",
     "output_type": "stream",
     "text": [
      "The principal axes of the section about O is -35.465403 degree\n",
      "The Maximum value of principal M.O.I is 3822.059509 cm**4\n",
      "The Minimum value of principal M.O.I is 393.940491 cm**4\n"
     ]
    }
   ],
   "source": [
    "from __future__ import division\n",
    "import math\n",
    "# Initilization of variables\n",
    "I_x=1548 # cm**4 # M.O.I of the Z-section about X-axis\n",
    "I_y=2668 # cm**4 # M.O.I of the Z-section about Y-axis\n",
    "b=12 # cm # width of flange of the Z-section\n",
    "d=3 # cm # depth of flange of the Z-section\n",
    "t=2 # cm # thickness of the web of the Z-section\n",
    "h=6 # cm # depth of the web of the Z-section\n",
    "#Calculations\n",
    "A_1=b*d # cm**2 # area of top flange\n",
    "x_1=-5 # cm # distance of the centroid from X-axis for top flange\n",
    "y_1=4.5 # cm # distance of the centroid from Y-axis for top flange\n",
    "A_2=t*h # cm**2 # area of web\n",
    "x_2=0 # cm # distance of the centroid from X-axis for the web\n",
    "y_2=0 # cm # distance of the centroid from Y-axis for the web\n",
    "A_3=b*d # cm**2 # area of bottom flange\n",
    "x_3=5 # cm # distance of the centroid from X-axis for top flange\n",
    "y_3=-4.5 # cm # distance of the centroid from Y-axis for top flange\n",
    "# Product of Inertia of the total area is,\n",
    "I_xy=((A_1*x_1*y_1)+(A_3*x_3*y_3)) # cm**4\n",
    "# The direction of the principal axes is,\n",
    "theta_m=(math.degrees(math.atan((2*I_xy)/(I_y-I_x))))/2 # degree\n",
    "# Principa M.O.I\n",
    "I_max=((I_x+I_y)/2)+(math.sqrt(((I_x-I_y)/2)**2+(I_xy)**2)) # cm**4\n",
    "I_mini=((I_x+I_y)/2)-(math.sqrt(((I_x-I_y)/2)**2+(I_xy)**2)) # cm**4\n",
    "# Results\n",
    "print('The principal axes of the section about O is %f degree'%theta_m)\n",
    "print('The Maximum value of principal M.O.I is %f cm**4'%I_max)\n",
    "print('The Minimum value of principal M.O.I is %f cm**4'%I_mini)"
   ]
  }
 ],
 "metadata": {
  "kernelspec": {
   "display_name": "Python [Root]",
   "language": "python",
   "name": "Python [Root]"
  },
  "language_info": {
   "codemirror_mode": {
    "name": "ipython",
    "version": 2
   },
   "file_extension": ".py",
   "mimetype": "text/x-python",
   "name": "python",
   "nbconvert_exporter": "python",
   "pygments_lexer": "ipython2",
   "version": "2.7.12"
  },
  "widgets": {
   "state": {},
   "version": "1.1.2"
  }
 },
 "nbformat": 4,
 "nbformat_minor": 0
}
