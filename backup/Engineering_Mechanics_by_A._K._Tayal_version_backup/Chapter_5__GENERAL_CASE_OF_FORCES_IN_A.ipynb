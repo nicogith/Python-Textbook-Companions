{
 "cells": [
  {
   "cell_type": "markdown",
   "metadata": {},
   "source": [
    "# Chapter 5 General Case of Forces in a plane"
   ]
  },
  {
   "cell_type": "markdown",
   "metadata": {
    "collapsed": true
   },
   "source": [
    "# Example 5.2 Equations of equilibrium"
   ]
  },
  {
   "cell_type": "code",
   "execution_count": 7,
   "metadata": {
    "collapsed": false
   },
   "outputs": [
    {
     "name": "stdout",
     "output_type": "stream",
     "text": [
      "('The reaction at P is', 5656.85424949238, 'N')\n",
      "('The reaction at Q is ', 4000.0, 'N')\n"
     ]
    }
   ],
   "source": [
    "import math\n",
    "\n",
    "#Initialization of Variables\n",
    "W=2000 #N\n",
    "Lab=2 #m #length of the member from the vertical to the 1st load of 2000 N\n",
    "Lac=5 #m #length of the member from the vertical to the 2nd load of 2000 N\n",
    "Lpq=3.5 #m\n",
    "\n",
    "#Calculations\n",
    "Rq=((W*Lab)+(W*Lac))/Lpq #N #take moment abt. pt P\n",
    "Xp=Rq #N #sum Fx=0\n",
    "Yp=2*W #N #sum Fy=0\n",
    "Rp=math.sqrt(Xp**2+Yp**2) #N\n",
    "\n",
    "#Resuts\n",
    "print('The reaction at P is' ,Rp ,'N')\n",
    "print('The reaction at Q is ',Rq ,'N')"
   ]
  },
  {
   "cell_type": "markdown",
   "metadata": {
    "collapsed": true
   },
   "source": [
    "# Example 5.3 Equations of equilibrium"
   ]
  },
  {
   "cell_type": "code",
   "execution_count": 6,
   "metadata": {
    "collapsed": false
   },
   "outputs": [
    {
     "name": "stdout",
     "output_type": "stream",
     "text": [
      "('The reaction at A i.e Ra is ', matrix([[ 120.27406887]]), 'N')\n",
      "('The reaction at B i.e Rb is ', matrix([[ 35.13703443]]), 'N')\n",
      "('The required tension in the string is ', matrix([[ 40.57275258]]), 'N')\n"
     ]
    }
   ],
   "source": [
    "import math,numpy\n",
    "#Initilization of vaiables\n",
    "W=25 #N # self weight of the ladder\n",
    "M=75 #N # weight of the man standing o the ladder\n",
    "theta=63.43 #degree # angle which the ladder makes with the horizontal\n",
    "alpha=30 #degree # angle made by the string with the horizontal\n",
    "Loa=2 #m # spacing between the wall and the ladder\n",
    "Lob=4 #m #length from the horizontal to the top of the ladder touching the wall(vertical)\n",
    "\n",
    "#Calculations\n",
    "#Using matrix to solve the simultaneous eqn's 3 & 4\n",
    "A=numpy.matrix('2 -4; 1 -0.577')\n",
    "B=numpy.matrix('100;100')\n",
    "C=numpy.linalg.inv(A)*B\n",
    "\n",
    "#Results\n",
    "print('The reaction at A i.e Ra is ',C[0] ,'N')\n",
    "print('The reaction at B i.e Rb is ',C[1] ,'N')\n",
    "\n",
    "#Calculations\n",
    "T=C[1]/math.cos(math.radians(alpha)) #N # from (eqn 1)\n",
    "\n",
    "#Results\n",
    "print('The required tension in the string is ',T, 'N')"
   ]
  },
  {
   "cell_type": "markdown",
   "metadata": {
    "collapsed": true
   },
   "source": [
    "# Example 5.4 Equations of Equilibrium"
   ]
  },
  {
   "cell_type": "code",
   "execution_count": 4,
   "metadata": {
    "collapsed": false
   },
   "outputs": [
    {
     "name": "stdout",
     "output_type": "stream",
     "text": [
      "('The reaction at B i.e Rb is ', 25.0, 'N')\n",
      "('The horizontal reaction at A i.e Xa is ', 21.650635094610966, 'N')\n",
      "('The vertical reaction at A i.e Ya is ', 112.5, 'N')\n"
     ]
    }
   ],
   "source": [
    "import math\n",
    "#Initilization of variables\n",
    "W=100 #N\n",
    "theta=60 #degree angle made by the ladder with the horizontal\n",
    "alpha=30 #degree angle made by the ladder with the vertical wall\n",
    "Lob=4 #m  length from the horizontal to the top of the ladder touching the wall(vertical)\n",
    "Lcd=2 #m  length from the horizontal to the centre of the ladder where the man stands\n",
    "\n",
    "#Calculations\n",
    "Lab=Lob*(1/math.cos(math.radians(alpha))) #m length of the ladder\n",
    "Lad=Lcd*math.tan(math.radians(alpha)) #m\n",
    "Rb=(W*Lad)/Lab #N take moment at A\n",
    "Xa=Rb*math.sin(math.radians(theta)) #N  From eq'n 1\n",
    "Ya=W+Rb*math.cos(math.radians(theta)) #N From eq'n 2\n",
    "\n",
    "#Results\n",
    "print('The reaction at B i.e Rb is ',Rb, 'N')\n",
    "print('The horizontal reaction at A i.e Xa is ',Xa, 'N')\n",
    "print('The vertical reaction at A i.e Ya is ',Ya,'N')\n"
   ]
  },
  {
   "cell_type": "markdown",
   "metadata": {
    "collapsed": true
   },
   "source": [
    "# Example 5.5 Equations of Equilibrium"
   ]
  },
  {
   "cell_type": "code",
   "execution_count": 3,
   "metadata": {
    "collapsed": false
   },
   "outputs": [
    {
     "name": "stdout",
     "output_type": "stream",
     "text": [
      "('The horizontal reaction at A i.e Xa is ', 28.867513459481287, 'N')\n",
      "('The vertical reaction at A i.e Ya is ', 100, 'N')\n",
      "('The reaction at B i.e Rb is ', 28.867513459481287, 'N')\n"
     ]
    }
   ],
   "source": [
    "import math\n",
    "#Initilization of variables\n",
    "W=100 #N self weight of the man\n",
    "alpha=30 #degree angle made by the ladder with the wall\n",
    "Lob=4 #m  length from the horizontal to the top of the ladder touching the wall(vertical)\n",
    "Lcd=2 #m\n",
    "\n",
    "#Calculations\n",
    "# using the equiblirium equations\n",
    "Ya=W #N  From eq'n 2\n",
    "Lad=Lcd*math.tan(math.radians(alpha)) #m Lad is the distance fom pt A to the point where the line from the cg intersects the horizontal\n",
    "Rb=(W*Lad)/Lob #N  Taking sum of moment abt A\n",
    "Xa=Rb #N From eq'n 1\n",
    "\n",
    "#Results\n",
    "print('The horizontal reaction at A i.e Xa is ',Xa, 'N')\n",
    "print('The vertical reaction at A i.e Ya is ',Ya,'N' )\n",
    "print('The reaction at B i.e Rb is ',Rb ,'N')\n"
   ]
  },
  {
   "cell_type": "markdown",
   "metadata": {
    "collapsed": true
   },
   "source": [
    "# Example 5.6 Equations of Equilibrium"
   ]
  },
  {
   "cell_type": "code",
   "execution_count": 2,
   "metadata": {
    "collapsed": false
   },
   "outputs": [
    {
     "name": "stdout",
     "output_type": "stream",
     "text": [
      "('The horizontal reaction at A i.e Xa is ', 3.84, 'N')\n",
      "('The vertical reaction at A i.e Ya is ', 7.12, 'N')\n",
      "('Therefore the reaction at A i.e Ra is ', 8.089499366462674, 'N')\n",
      "('The reaction at D i.e Rd is ', 4.8, 'N')\n"
     ]
    }
   ],
   "source": [
    "import math\n",
    "#Initilization of variables\n",
    "d=0.09 #m diametre of the right circular cylinder\n",
    "h=0.12 #m height of the cyinder\n",
    "W=10 #N  self weight of the bar\n",
    "l=0.24 #m length of the bar\n",
    "\n",
    "#Calculations\n",
    "theta=math.degrees(math.atan(h/d))  #angle which the bar makes with the horizontal\n",
    "Lad=math.sqrt(d**2+h**2) #m Lad is the length of the bar from point A to point B\n",
    "Rd=(W*h*(math.cos(theta*math.pi/180)))/Lad #N  Taking moment at A\n",
    "Xa=Rd*(math.sin(theta*math.pi/180)) #N  sum Fx=0.... From eq'n 1\n",
    "Ya=W-(Rd*(math.cos(theta*math.pi/180))) #N  sum Fy=0..... From eq'n 2\n",
    "Ra=math.sqrt(Xa**2+Ya**2) #resultant of Xa & Ya\n",
    "\n",
    "#Results\n",
    "print('The horizontal reaction at A i.e Xa is ',Xa, 'N')\n",
    "print('The vertical reaction at A i.e Ya is ',Ya, 'N')\n",
    "print('Therefore the reaction at A i.e Ra is ',Ra,'N')\n",
    "print('The reaction at D i.e Rd is ',Rd,'N')"
   ]
  }
 ],
 "metadata": {
  "kernelspec": {
   "display_name": "Python [Root]",
   "language": "python",
   "name": "Python [Root]"
  },
  "language_info": {
   "codemirror_mode": {
    "name": "ipython",
    "version": 2
   },
   "file_extension": ".py",
   "mimetype": "text/x-python",
   "name": "python",
   "nbconvert_exporter": "python",
   "pygments_lexer": "ipython2",
   "version": "2.7.12"
  },
  "widgets": {
   "state": {},
   "version": "1.1.2"
  }
 },
 "nbformat": 4,
 "nbformat_minor": 0
}
