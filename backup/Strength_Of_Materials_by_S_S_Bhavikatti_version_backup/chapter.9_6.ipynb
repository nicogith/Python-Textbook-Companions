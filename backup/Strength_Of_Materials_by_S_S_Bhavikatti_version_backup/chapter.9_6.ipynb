{
 "metadata": {
  "name": "chapter no.9.ipynb"
 },
 "nbformat": 3,
 "nbformat_minor": 0,
 "worksheets": [
  {
   "cells": [
    {
     "cell_type": "heading",
     "level": 1,
     "metadata": {},
     "source": [
      "Chapter 9:Columns And Struts"
     ]
    },
    {
     "cell_type": "heading",
     "level": 2,
     "metadata": {},
     "source": [
      "Example 9.9.1,Page No.377"
     ]
    },
    {
     "cell_type": "code",
     "collapsed": false,
     "input": [
      "import math\n",
      "import numpy as np\n",
      "\n",
      "#Initilization of Variables\n",
      "L=5000 #mm #Length of strut\n",
      "dell=10 #mm #Deflection\n",
      "W=10 #N #Load\n",
      "\n",
      "#Calculations\n",
      "\n",
      "#Central Deflection of a simply supported beam with central concentrated load is\n",
      "#dell=W*L**3*(48*E*I)**-1 \n",
      "\n",
      "#Let E*I=X\n",
      "X=W*L**3*(48*dell)**-1 #mm\n",
      "\n",
      "#Euler's Load\n",
      "#Let Euler's Load be P\n",
      "P=pi**2*X*(L**2)**-1\n",
      "\n",
      "#Result\n",
      "print\"Critical Load of Bar is\",round(P,2),\"N\""
     ],
     "language": "python",
     "metadata": {},
     "outputs": [
      {
       "output_type": "stream",
       "stream": "stdout",
       "text": [
        "Critical Load of Bar is 1028.08 N\n"
       ]
      }
     ],
     "prompt_number": 2
    },
    {
     "cell_type": "heading",
     "level": 2,
     "metadata": {},
     "source": [
      "Example 9.9.2,Page No.377"
     ]
    },
    {
     "cell_type": "code",
     "collapsed": false,
     "input": [
      "import math\n",
      "import numpy as np\n",
      "\n",
      "#Initilization of Variables\n",
      "\n",
      "L=2000 #mm #Length of square column\n",
      "E=12*10**3 #N/mm**2 #Modulus of Elasticity\n",
      "sigma=12 #N/mm*2 #stress\n",
      "W1=95*10**3 #N #Load1\n",
      "W2=200*10**3 #N #Load2\n",
      "FOS=3\n",
      "\n",
      "#Calculations\n",
      "\n",
      "#From Euler's Formula\n",
      "#P=pi**2*E*I*(L**2)**-1  .........(1)\n",
      "\n",
      "#Working Load\n",
      "#W=P*(FOS)**-1\n",
      "\n",
      "#Part-1\n",
      "\n",
      "#At W1=95*10**3 #N\n",
      "#W1=P*(3*L**2)**-1\n",
      "\n",
      "#Let 'a' be the side of the square\n",
      "#I=1*12**-1*a**4\n",
      "\n",
      "#sub value of I in Equation 1 and further rearranging we get\n",
      "a=(W1*3*12*L**2*(pi**2*E)**-1)**0.25 #mm\n",
      "\n",
      "#From Consideration of direct crushing\n",
      "#sigma*a**2=W1\n",
      "#After Reaaranging the above equation we get\n",
      "a2=(W1*(sigma)**-1)**0.5 #mm\n",
      "\n",
      "#required size is 103.67*103.67 i.e a*a\n",
      "\n",
      "#Part-2\n",
      "\n",
      "#At W2=200*10**3 #N\n",
      "#W2=P*(3*L**2)**-1\n",
      "#After substituting values and further Rearranging the above equation we get\n",
      "a3=(W2*3*12*L**2*(pi**2*E)**-1)**0.25 #mm\n",
      "\n",
      "#From consideration of direct compression,size required is\n",
      "a4=(W2*sigma**-1)**0.5\n",
      "\n",
      "#required size is 129.10*129.10 i.e a4*a4\n",
      "\n",
      "#Result\n",
      "print\"For W1 Load Required size is\",round(a*a,2),\"mm**2\"\n",
      "print\"For W2 Load Required size is\",round(a4*a4,2),\"mm**2\""
     ],
     "language": "python",
     "metadata": {},
     "outputs": [
      {
       "output_type": "stream",
       "stream": "stdout",
       "text": [
        "For W1 Load Required size is 10747.38 mm**2\n",
        "For W1 Load Required size is 16666.67 mm**2\n"
       ]
      }
     ],
     "prompt_number": 16
    },
    {
     "cell_type": "heading",
     "level": 2,
     "metadata": {},
     "source": [
      "Example 9.9.3,Page No.378"
     ]
    },
    {
     "cell_type": "code",
     "collapsed": false,
     "input": [
      "import math\n",
      "import numpy as np\n",
      "\n",
      "#Initilization of Variables\n",
      "\n",
      "#Flange \n",
      "b=100 #mm #Width\n",
      "\n",
      "D=80 #mm #Overall Depth\n",
      "t=10 #mm #Thickness of web and flanges\n",
      "L=3000 #mm #Length of strut\n",
      "E=200*10**3 #N/mm**2 #Modulus of Elasticity\n",
      "\n",
      "#Calculations\n",
      "\n",
      "#Let centroid be at depth y_bar from top fibre\n",
      "y_bar=(b*t*t*2**-1+(D-t)*t*((D-t)*2**-1+t))*(b*t+(D-t)*t)**-1 #mm \n",
      "\n",
      "#M.I at x-x axis\n",
      "I_x=1*12**-1*b*t**3+b*t*(y_bar-t*2**-1)**2+1*12**-1*t*((D-t))**3+t*((D-t))*((((D-t)*2**-1)+t)-y_bar)**2\n",
      "\n",
      "#M.I at y-y axis\n",
      "I_y=1*12**-1*t*b**3+1*12**-1*(D-t)*t**3 #mm**3\n",
      "\n",
      "#Least M.I\n",
      "I=I_y\n",
      "\n",
      "#Since both ends are hinged\n",
      "#Feective Length=Actual Length\n",
      "L=l=3000 #mm\n",
      "\n",
      "#Buckling Load \n",
      "P=pi**2*E*I*(l**2)**-1*10**-3 #KN\n",
      "\n",
      "#Result\n",
      "print\"The Buckling Load for strut of tee section\",round(P,2),\"KN\""
     ],
     "language": "python",
     "metadata": {},
     "outputs": [
      {
       "output_type": "stream",
       "stream": "stdout",
       "text": [
        "The Buckling Load for strut of tee section 184.05 KN\n"
       ]
      }
     ],
     "prompt_number": 10
    },
    {
     "cell_type": "heading",
     "level": 2,
     "metadata": {},
     "source": [
      "Example 9.9.4,Page No.379"
     ]
    },
    {
     "cell_type": "code",
     "collapsed": false,
     "input": [
      "import math\n",
      "import numpy as np\n",
      "\n",
      "#Initilization of Variables\n",
      "\n",
      "D=400 #mm #Overall Depth\n",
      "\n",
      "#Flanges\n",
      "b=300 #mm #Width\n",
      "t=50 #mm #Thickness\n",
      "\n",
      "t2=30 #mm #Web Thickness\n",
      "\n",
      "dell=10 #mm #Deflection\n",
      "w=40 #N/mm #Load\n",
      "FOS=1.75 #Factor of safety\n",
      "E=2*10**5 #N/mm**2\n",
      "\n",
      "#Calculations\n",
      "\n",
      "#M.I at x-x axis\n",
      "I_x=1*12**-1*(b*D**3-(b-t2)*b**3) #mm**4\n",
      "\n",
      "#Central Deflection\n",
      "#dell=5*w*L**4*(384*E*I)**-1\n",
      "#After sub values in above equation and further simplifying we get\n",
      "L=(dell*384*E*I_x*(5*w)**-1)**0.25\n",
      "\n",
      "#M.I aty-y axis\n",
      "I=I_y=1*12**-1*t*b**3+1*12**-1*b*t2**3+1*12**-1*t*b**3 #mm**4\n",
      "\n",
      "#Both the Ends of column are hinged\n",
      "\n",
      "#Crippling Load\n",
      "P=pi**2*E*I*(L**2)**-1 #N\n",
      "\n",
      "#Safe Load\n",
      "S=P*(FOS)**-1*10**-3 #N\n",
      "\n",
      "#Result\n",
      "print\"Safe Load if I-section is used as column with both Ends hhinged\",round(S,2),\"KN\""
     ],
     "language": "python",
     "metadata": {},
     "outputs": [
      {
       "output_type": "stream",
       "stream": "stdout",
       "text": [
        "Safe Load if I-section is used as column with both Ends hhinged 4123.29 KN\n"
       ]
      }
     ],
     "prompt_number": 19
    },
    {
     "cell_type": "heading",
     "level": 2,
     "metadata": {},
     "source": [
      "Example 9.9.5,Page No.381"
     ]
    },
    {
     "cell_type": "code",
     "collapsed": false,
     "input": [
      "import math\n",
      "import numpy as np\n",
      "\n",
      "#Initilization of Variables\n",
      "\n",
      "D=200 #mm #External Diameter\n",
      "t=20 #mm #hickness\n",
      "d=200-2*t #mm #Internal Diameter\n",
      "E=1*10**5 #N/mm**2\n",
      "a=1*(1600)**-1 #Rankine's Constant\n",
      "L=4.5 #m #Length\n",
      "sigma=550 #N/mm**2 #Stress\n",
      "FOS=2.5\n",
      "\n",
      "#Calculations\n",
      "\n",
      "#Moment of Inertia\n",
      "I=pi*D**4*64**-1-pi*d**4*64**-1\n",
      "\n",
      "#Both Ends are fixed\n",
      "\n",
      "#Effective Length\n",
      "l=1*2**-1*L*10**3 #mm\n",
      "\n",
      "#Euler's Critical Load\n",
      "P_E=pi**2*E*I*(l**2)**-1\n",
      "\n",
      "A=pi*4**-1*(D**2-d**2) #mm*2\n",
      "\n",
      "k=(I*A**-1)**0.5\n",
      "\n",
      "#Rankine's Critical Load\n",
      "P_R=sigma*A*(1+a*(l*k**-1)**2)**-1\n",
      "\n",
      "X=P_E*P_R**-1 \n",
      "\n",
      "#Safe Load using Rankine's Formula\n",
      "S=P_R*(FOS)**-1*10**-3 #KN\n",
      "\n",
      "#Result\n",
      "print\"Safe Load by Rankine's Formula is\",round(S,2),\"KN\""
     ],
     "language": "python",
     "metadata": {},
     "outputs": [
      {
       "output_type": "stream",
       "stream": "stdout",
       "text": [
        "Safe Load by Rankine's Formula is 1404.36 KN\n"
       ]
      }
     ],
     "prompt_number": 39
    },
    {
     "cell_type": "heading",
     "level": 2,
     "metadata": {},
     "source": [
      "Example 9.9.6,Page No.382"
     ]
    },
    {
     "cell_type": "code",
     "collapsed": false,
     "input": [
      "import math\n",
      "import numpy as np\n",
      "\n",
      "#Initilization of Variables\n",
      "\n",
      "L=3000 #mm #Length of column\n",
      "W=800*10**3 #N #Load\n",
      "a=1*1600**-1 #Rankine's constant\n",
      "FOS=4 #Factor of safety\n",
      "sigma=550 #N/mm**2 #stress\n",
      "\n",
      "#Calculations\n",
      "\n",
      "#Effective Length\n",
      "l=L*2**-1 #mm \n",
      "\n",
      "#Let d1=outer diameter & d2=inner diameter\n",
      "#d1=5*8**-1*d2\n",
      "\n",
      "#M.I\n",
      "#I=pi*64**-1*(d1**4-d2**4) #mm**4\n",
      "\n",
      "#Area of section\n",
      "#A=pi4**-1*(d1**2-d2**2) #mm**2\n",
      "\n",
      "#k=(I*A**-1) \n",
      "#substituting values in above equation \n",
      "#k=1*16**-1*(d1**2-d2**2)\n",
      "#after simplifying further we get\n",
      "#k=0.2948119.d1\n",
      "\n",
      "#X=l*k**-1\n",
      "#substituting values in above equation and after simplifying further we get\n",
      "#X=5087.9898*d1**-1\n",
      "\n",
      "#Crtitcal Load\n",
      "P=W*FOS #N\n",
      "\n",
      "#From Rankine's Load\n",
      "#P2=sigma*A*(1+a*(X)**2)**-1\n",
      "#substituting values in above equation and after simplifying further we get\n",
      "#d1**4-12156618*d1**4-1.96691*10**8=0\n",
      "#Solving Quadratic Equation we get\n",
      "#d1**2-12156618*d1-196691000=0\n",
      "a=1\n",
      "b=-12156.618\n",
      "c=-196691000\n",
      "\n",
      "Y=b**2-4*a*c\n",
      "\n",
      "d1_1=((-b+Y**0.5)*(2*a)**-1)**0.5 #mm\n",
      "d1_2=((-b-Y**0.5)*(2*a)**-1) #mm\n",
      "\n",
      "d2=5*8**-1*d1_1\n",
      "\n",
      "#Result\n",
      "print\"Section of cast iron hollow cylindrical column is:d1_1\",round(d1_1,2),\"mm\"\n",
      "print\"                                                 :d2  \",round(d2,2),\"mm\""
     ],
     "language": "python",
     "metadata": {},
     "outputs": [
      {
       "output_type": "stream",
       "stream": "stdout",
       "text": [
        "Section of cast iron hollow cylindrical column is:d1_1 146.16 mm\n",
        "                                                 :d2   91.35 mm\n"
       ]
      }
     ],
     "prompt_number": 25
    },
    {
     "cell_type": "heading",
     "level": 2,
     "metadata": {},
     "source": [
      "Example 9.9.7,Page No.383"
     ]
    },
    {
     "cell_type": "code",
     "collapsed": false,
     "input": [
      "import math\n",
      "import numpy as np\n",
      "\n",
      "#Initilization of Variables\n",
      "\n",
      "#Let X=(P*A**-1) #Average Stress at Failure \n",
      "Lamda_1=70 #Slenderness Ratio\n",
      "Lamda_2=170 #Slenderness Ratio\n",
      "X1=200 #N/mm**2 \n",
      "X2=69 #N/mm**2 \n",
      "\n",
      "#Rectangular section\n",
      "b=60 #mm #width\n",
      "t=20 #mm #Thickness\n",
      "\n",
      "L=1250 #mm #Length of strut\n",
      "FOS=4 #Factor of safety\n",
      "\n",
      "#Calculations\n",
      "\n",
      "#Slenderness ratio\n",
      "#Lamda=L*k**-1\n",
      "\n",
      "#The Rankine's Formula for strut\n",
      "#P=sigma*A*(1+a*(L*k**-1)**-1\n",
      "\n",
      "#From test result 1,\n",
      "#After sub values in above equation we get and further simplifying we get\n",
      "#sigma_1=200+980000*a   ...................(1)\n",
      "\n",
      "#From test result 2,\n",
      "#After sub values in above equation we get and further simplifying we get\n",
      "#sigma_2=69+1994100*a   ...................(2)\n",
      "\n",
      "#Substituting it in equation (1) we get\n",
      "a=131*1014100**-1   \n",
      "\n",
      "#Substituting a in equation 1\n",
      "sigma_1=200+980000*a #N/mm**2\n",
      "\n",
      "#Effective Length \n",
      "l=1*2**-1*L #mm\n",
      "\n",
      "#Least of M.I\n",
      "I=1*12**-1*b*t**3 #mm**4\n",
      "\n",
      "#Area \n",
      "A=b*t #mm**2 \n",
      "\n",
      "k=(I*A**-1)**0.5\n",
      "\n",
      "#Slenderness ratio\n",
      "Lamda=l*k**-1\n",
      "\n",
      "#From Rankine's Ratio\n",
      "P=sigma_1*A*(1+a*(Lamda)**2)**-1\n",
      "\n",
      "#Safe Load\n",
      "S=P*(FOS)**-1*10**-3 #N\n",
      "\n",
      "#Result\n",
      "print\"Constant in the Formula is:a      \",round(a,6)\n",
      "print\"                          :sigma_1\",round(sigma_1,2)\n",
      "print\"Safe Load is\",round(S,2),\"KN\""
     ],
     "language": "python",
     "metadata": {},
     "outputs": [
      {
       "output_type": "stream",
       "stream": "stdout",
       "text": [
        "Constant in the Formula is:a       0.000129\n",
        "                          :sigma_1 326.6\n",
        "Safe Load is 38.98 KN\n"
       ]
      }
     ],
     "prompt_number": 38
    },
    {
     "cell_type": "heading",
     "level": 2,
     "metadata": {},
     "source": [
      "Example 9.9.8,Page No.385"
     ]
    },
    {
     "cell_type": "code",
     "collapsed": false,
     "input": [
      "import math\n",
      "import numpy as np\n",
      "\n",
      "#Initilization of Variables\n",
      "\n",
      "D=200 #mm #Depth\n",
      "b=140 #mm #width\n",
      "\n",
      "#Plate\n",
      "b2=160 #mm #Width\n",
      "t2=10 #mm #Thickness\n",
      "\n",
      "L=l=4000 #mm #Length\n",
      "FOS=4 #Factor of safety\n",
      "sigma=315 #N/mm**2 #stress\n",
      "a2=1*7500**-1 \n",
      "I_xx=26.245*10**6 #mm**4 #M.I at x-x\n",
      "I_yy=3.288*10**6 #mm**4 #M.I at y-y\n",
      "a=3671 #mm**2 #Area\n",
      "k_x=84.6#mm\n",
      "k_y=29.9 #mm\n",
      "\n",
      "#Calculations\n",
      "\n",
      "#Total Area\n",
      "A=a+2*t2*b2 #mm**2\n",
      "\n",
      "#M.I\n",
      "I=I_yy+2*12**-1*t2*b2**3 #mm**4\n",
      "\n",
      "k=(I*A**-1)**0.5 #mm\n",
      "\n",
      "#Let X=L*k**-1\n",
      "X=L*k**-1\n",
      "\n",
      "#Appliying Rankine's Formula\n",
      "P=sigma*A*(1+a2*(X)**2)**-1 #N\n",
      "\n",
      "#Safe Load\n",
      "S=P*(FOS)**-1*10**-3 #KN\n",
      "\n",
      "#Result\n",
      "print\"Safe axial Load is\",round(S,2),\"KN\""
     ],
     "language": "python",
     "metadata": {},
     "outputs": [
      {
       "output_type": "stream",
       "stream": "stdout",
       "text": [
        "Safe axial Load is 220.93 KN\n"
       ]
      }
     ],
     "prompt_number": 48
    },
    {
     "cell_type": "heading",
     "level": 2,
     "metadata": {},
     "source": [
      "Example 9.9.9,Page No.389"
     ]
    },
    {
     "cell_type": "code",
     "collapsed": false,
     "input": [
      "import math\n",
      "import numpy as np\n",
      "\n",
      "#Initilization of Variables\n",
      "\n",
      "E=200*10**3 #N/mm**2 #Modulus of elasticity\n",
      "sigma=330 #N/mm**2 #Stress\n",
      "a=1*7500**-1 #Rankine's constant\n",
      "A=5205 #mm**2 #area of column\n",
      "I_xx=59.431*10**6 #mm**4 #M.I at x-x axis\n",
      "I_yy=8.575*10**6 #mm**24#M.I at y-y axis\n",
      "\n",
      "#Calculations\n",
      "\n",
      "#Total M.I\n",
      "I=I_xx+I_yy #mm**4\n",
      "\n",
      "#Area of compound Section \n",
      "A2=2*A #mm**2\n",
      "\n",
      "k=(I*A2**-1)**0.5 #mm\n",
      "\n",
      "#Equating Euler's Load to Rankine's Load we get\n",
      "#pi**2*E*I*(L**2)**-1=sigma*A*(1+a*(L*k)**2)**-1\n",
      "#After Substitt=uting values and further simplifying we get\n",
      "L=(39076198*(1-0.7975432)**-1)**0.5*10**-3 #m\n",
      "\n",
      "#Result\n",
      "print\"Length of column for which Rankine's formula and Euler's Formula give the same result is\",round(L,2),\"m\""
     ],
     "language": "python",
     "metadata": {},
     "outputs": [
      {
       "output_type": "stream",
       "stream": "stdout",
       "text": [
        "Length of column for which Rankine's formula and Euler's Formula give the same result is 13.89 m\n"
       ]
      }
     ],
     "prompt_number": 47
    },
    {
     "cell_type": "heading",
     "level": 2,
     "metadata": {},
     "source": [
      "Example 9.9.10,Page No.387"
     ]
    },
    {
     "cell_type": "code",
     "collapsed": false,
     "input": [
      "import math\n",
      "import numpy as np\n",
      "\n",
      "#Initilization of Variables\n",
      "\n",
      "sigma=326 #N/mm**2 #stress\n",
      "E=2*10**5 #N/mm**2 #Modulus of Elasticity\n",
      "FOS=2 #Factor of safety\n",
      "a=1*7500**-1 #Rankine's constant\n",
      "D=350 #mm #Overall Depth \n",
      "\n",
      "#Cover plates\n",
      "b1=500 #mm #width\n",
      "t1=10  #mm #Thickness\n",
      "\n",
      "d=220 #mm #Distance between two channels\n",
      "\n",
      "L=6000 #mm #Length of column\n",
      "\n",
      "A=5366 #mm**2 #Area of Column section \n",
      "I_xx=100.08*10**6 #mm**4 #M.I of x-x axis\n",
      "I_yy=4.306*10**6 #mm**4 #M.I of y-y axis\n",
      "C_yy=23.6 #mm #Centroid at y-y axis\n",
      "\n",
      "#Calculations\n",
      "\n",
      "#Symmetric axes are the centroidal axes is\n",
      "\n",
      "#M.I of Channel at x-x axis\n",
      "I_xx_1=2*I_xx+2*(1*12**-1*b1*t1**3+b1*t1*(D*2**-1+t1*2**-1)**2)\n",
      "\n",
      "#M.I of Channel at y-y axis\n",
      "I_yy_1=2*(I_yy+A*(d*2**-1+C_yy)**2)+2*12**-1*t1*b1**3\n",
      "\n",
      "#As I_yy<I_xx\n",
      "#So\n",
      "I=I_yy_1 #mm**4 \n",
      "\n",
      "A2=2*A+2*t1*b1 #Area of channel\n",
      "\n",
      "k=(I*A2**-1)**0.5 #mm\n",
      "\n",
      "#Critical Load\n",
      "P=sigma*A2*(1+a*(L*k**-1)**2)**-1 \n",
      "\n",
      "#Safe Load\n",
      "S=P*2**-1*10**-3 #KN\n",
      "\n",
      "#Result\n",
      "print\"Safe Load carrying Capacity is\",round(S,2),\"KN\""
     ],
     "language": "python",
     "metadata": {},
     "outputs": [
      {
       "output_type": "stream",
       "stream": "stdout",
       "text": [
        "Safe Load carrying Capacity is 2717.35 KN\n"
       ]
      }
     ],
     "prompt_number": 67
    },
    {
     "cell_type": "heading",
     "level": 2,
     "metadata": {},
     "source": [
      "Example 9.9.11,Page No.390"
     ]
    },
    {
     "cell_type": "code",
     "collapsed": false,
     "input": [
      "import math\n",
      "import numpy as np\n",
      "\n",
      "#Initilization of Variables\n",
      "\n",
      "I=4.085*10**8 #mm**4 #M.I\n",
      "A=20732.0 #mm**2 #area of column\n",
      "f_y=250 #N/mm**2 \n",
      "L=6000 #mm #Length of column\n",
      "\n",
      "#Calculations\n",
      "\n",
      "k=(I*A**-1)**0.5 #mm\n",
      "lamda=L*k**-1 #Slenderness ratro\n",
      "\n",
      "#From Indian standard table\n",
      "lamda_1=40 \n",
      "sigma_a_c_1=139 #N/mm**2\n",
      "lamda_2=50 \n",
      "sigma_a_c_2=132 #N/mm**2 \n",
      "\n",
      "#Linearly interpolating between these values for lambda=42.744\n",
      "\n",
      "sigma_a_c_3=sigma_a_c_1-2.744*10**-1*(sigma_a_c_1-sigma_a_c_2)\n",
      "\n",
      "#Safe Load carrying capacity of column\n",
      "P=sigma_a_c_3*A*10**-3\n",
      "\n",
      "#Result\n",
      "print\"Safe Load carrying capacity is\",round(P,2),\"KN\""
     ],
     "language": "python",
     "metadata": {},
     "outputs": [
      {
       "output_type": "stream",
       "stream": "stdout",
       "text": [
        "Safe Load carrying capacity is 2841.93 KN\n"
       ]
      }
     ],
     "prompt_number": 6
    }
   ],
   "metadata": {}
  }
 ]
}