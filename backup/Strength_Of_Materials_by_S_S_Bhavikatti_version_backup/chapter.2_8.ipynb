{
 "metadata": {
  "name": "chapter no.2.ipynb"
 },
 "nbformat": 3,
 "nbformat_minor": 0,
 "worksheets": [
  {
   "cells": [
    {
     "cell_type": "heading",
     "level": 1,
     "metadata": {},
     "source": [
      "Chapter 2:Simple Stresses And Strains"
     ]
    },
    {
     "cell_type": "heading",
     "level": 2,
     "metadata": {},
     "source": [
      "Example 2.2.1,Page No.14"
     ]
    },
    {
     "cell_type": "code",
     "collapsed": false,
     "input": [
      "import math\n",
      "import numpy as np\n",
      "\n",
      "#Initilization of Variables\n",
      "P=45*10**3 #N #Load\n",
      "E=200*10**3 #N/mm**2 #Modulus of elasticity of rod\n",
      "L=500 #mm #Length of rod\n",
      "d=20 #mm #Diameter of rod\n",
      "\n",
      "#Calculations\n",
      "\n",
      "A=pi*d**2*4**-1 #mm**2 #Area of circular rod\n",
      "p=P*A**-1 #N/mm**2 #stress\n",
      "e=p*E**-1 #strain \n",
      "dell_l=(P*L)*(A*E)**-1\n",
      "\n",
      "#Result\n",
      "print\"The stress in bar due to Load is\",round(p,5),\"N/mm\"\n",
      "print\"The strain in bar due to Load is\",round(e,5),\"N/mm\"\n",
      "print\"The Elongation in bar due to Load is\",round(dell_l,2),\"mm\""
     ],
     "language": "python",
     "metadata": {},
     "outputs": [
      {
       "output_type": "stream",
       "stream": "stdout",
       "text": [
        "The stress in bar due to Load is 143.23945 N/mm\n",
        "The strain in bar due to Load is 0.00072 N/mm\n",
        "The Elongation in bar due to Load is 0.36 mm\n"
       ]
      }
     ],
     "prompt_number": 1
    },
    {
     "cell_type": "heading",
     "level": 2,
     "metadata": {},
     "source": [
      "Example 2.2.2,Page No.15"
     ]
    },
    {
     "cell_type": "code",
     "collapsed": false,
     "input": [
      "import math\n",
      "import numpy as np\n",
      "\n",
      "#Initilization of Variables\n",
      "      \n",
      "A=15*0.75 #mm**2 #area of steel tape\n",
      "P=100 #N #Force apllied\n",
      "L=30*10**3 #mm #Length of tape\n",
      "E=200*10**3 #N/m**2 #Modulus of Elasticity of steel tape\n",
      "AB=150 #m #Measurement of Line AB \n",
      "\n",
      "#Calculations\n",
      "\n",
      "dell_l=P*L*(A*E)**-1 #mm #Elongation\n",
      "l=L+dell_l*10**-3 #mm #Actual Length \n",
      "AB1=AB*l*L**-1 #m Actual Length of AB\n",
      "\n",
      "#Result\n",
      "print\"The Actual Length of Line AB is\",round(AB1,2),\"m\""
     ],
     "language": "python",
     "metadata": {},
     "outputs": [
      {
       "output_type": "stream",
       "stream": "stdout",
       "text": [
        "The Actual Length of Line AB is 150.0 m\n"
       ]
      }
     ],
     "prompt_number": 2
    },
    {
     "cell_type": "heading",
     "level": 2,
     "metadata": {},
     "source": [
      "Example 2.2.3,Page No.15"
     ]
    },
    {
     "cell_type": "code",
     "collapsed": false,
     "input": [
      "import math\n",
      "import numpy as np\n",
      "\n",
      "#Initilization of Variables\n",
      "\n",
      "#Let y be the yield stress\n",
      "\n",
      "y=250 #N/mm**2 #yield stress\n",
      "FOS=1.75 #Factor of safety\n",
      "P=140*10**3 #N #compressive Load\n",
      "D=101.6 #mm #External diameter\n",
      "\n",
      "#Calculations\n",
      "\n",
      "p=y*(FOS)**-1 #N/mm**2 #Permissible stress\n",
      "A=P*p**-1 #mm**2 #Area of hollow tube\n",
      "\n",
      "#Let d be the internal diameter of tube\n",
      "d=-((A*4*(pi)**-1)-D**2)\n",
      "X=d**0.5\n",
      "t=(D-X)*2**-1 #mm #Thickness of steel tube\n",
      "\n",
      "#result\n",
      "print\"The thickness of steel tube is\",round(t,2),\"mm\""
     ],
     "language": "python",
     "metadata": {},
     "outputs": [
      {
       "output_type": "stream",
       "stream": "stdout",
       "text": [
        "The thickness of steel tube is 3.17 mm\n"
       ]
      }
     ],
     "prompt_number": 3
    },
    {
     "cell_type": "heading",
     "level": 2,
     "metadata": {},
     "source": [
      "Example 2.2.4,Page No.16"
     ]
    },
    {
     "cell_type": "code",
     "collapsed": false,
     "input": [
      "import math\n",
      "import numpy as np\n",
      "\n",
      "#Initilization of Variables\n",
      "\n",
      "d=25 #mm #diameter of steel\n",
      "d2=18 #mm #Diameter at neck\n",
      "L=200 #mm #length of stee\n",
      "P=80*10**3 #KN #Load  \n",
      "P1=160*10**3 #N #Load at Elastic Limit\n",
      "P2=180*10**3 #N #Max Load\n",
      "L1=56 #mm #Total Extension\n",
      "dell_l=0.16 #mm #Extension\n",
      "\n",
      "\n",
      "#Calculations\n",
      "\n",
      "A=pi*d**2*4**-1 #Area of steel #mm**2\n",
      "\n",
      "p=P1*A**-1 #Stress at Elastic Limit #N/mm**2\n",
      "Y=P*L*(A*dell_l)**-1 #Modulus of elasticity\n",
      "\n",
      "#Let % elongation be x\n",
      "x=L1*L**-1*100 \n",
      "\n",
      "#Percentage reduction in area\n",
      "#Let % A be a\n",
      "a=((pi*4**-1*d**2)-(pi*4**-1*d2**2))*(pi*4**-1*d**2)**-1*100\n",
      "\n",
      "#Ultimate tensile stress\n",
      "sigma=P2*A**-1 #N/mm**2\n",
      "\n",
      "#result\n",
      "print\"Stress at Elastic limit is\",round(p,2),\"N/mm**2\"\n",
      "print\"Young's Modulus is\",round(Y,2),\"N/mm**2\"\n",
      "print\"Percentage Elongation is\",round(a,2)\n",
      "print\"Percentage reduction in area is\",round(P2,2)\n",
      "print\"Ultimate tensile stress\",round(sigma,2),\"N/mm**2\""
     ],
     "language": "python",
     "metadata": {},
     "outputs": [
      {
       "output_type": "stream",
       "stream": "stdout",
       "text": [
        "Stress at Elastic limit is 325.95 N/mm**2\n",
        "Young's Modulus is 203718.33 N/mm**2\n",
        "Percentage Elongation is 48.16\n",
        "Percentage reduction in area is 180000.0\n",
        "Ultimate tensile stress 366.69 N/mm**2\n"
       ]
      }
     ],
     "prompt_number": 4
    },
    {
     "cell_type": "heading",
     "level": 2,
     "metadata": {},
     "source": [
      "Example 2.2.5,Page No.16"
     ]
    },
    {
     "cell_type": "code",
     "collapsed": false,
     "input": [
      "import math\n",
      "import numpy as np\n",
      "%matplotlib  inline\n",
      "\n",
      "#Initilization of Variables\n",
      "\n",
      "d=20 #mm #Diameter of bar\n",
      "d2=14.7 #mm #Diameter at neck   \n",
      "L=200 #mm #guage Length \n",
      "\n",
      "#Calculations\n",
      "\n",
      "print \"The Shear Force and Bending Moment Diagrams are the results\"\n",
      "\n",
      "#Plotting the Shear Force Diagram\n",
      "\n",
      "X1=[0,10,20,30,40,50,60]\n",
      "Y1=[0,32,64,95,127,160,190]\n",
      "Z1=[0,0,0,0,0,0,0]\n",
      "plt.plot(X1,Y1,X1,Z1)\n",
      "plt.xlabel(\"Extension in divisions\")\n",
      "plt.ylabel(\"Load in kN\")\n",
      "plt.show()\n",
      "\n",
      "A=pi*4**-1*d**2 #mm**2 #Area of Bar\n",
      "A2=pi*4**-1*d2**2\n",
      "\n",
      "P=45 #KN #Load obtained from graph\n",
      "dell=0.143 #mm #Divisions\n",
      "\n",
      "#Modulus of Elasticity\n",
      "E=P*L*(dell*A)**-1 \n",
      "\n",
      "BL=93*10**3 #N #Breaking Load\n",
      "\n",
      "#Nominal stress at Breaking point\n",
      "sigma=BL*A**-1 #KN/mm**2 \n",
      "\n",
      "#True stress at breaking Point\n",
      "sigma1=BL*A2**-1\n",
      "\n",
      "#Percentage Elongation \n",
      "dell_l=(A-A2)*A**-1*100\n",
      "\n",
      "#Result\n",
      "print\"The Value of ELongation is\",round(E,2),\"N/mm**2\"\n",
      "print\"The Nominal stress at the Breaking Point\",round(sigma,2),\"KN/mm**2\"\n",
      "print\"The True stress at the Breaking Point\",round(sigma1,2),\"KN/mm**2\"\n",
      "print\"The Percentage Reduction in Area is\",round(dell_l,2)"
     ],
     "language": "python",
     "metadata": {},
     "outputs": [
      {
       "output_type": "stream",
       "stream": "stdout",
       "text": [
        "The Shear Force and Bending Moment Diagrams are the results\n"
       ]
      },
      {
       "metadata": {},
       "output_type": "display_data",
       "png": "[encoded data removed]",
       "text": [
        "<matplotlib.figure.Figure at 0x4e723b0>"
       ]
      },
      {
       "output_type": "stream",
       "stream": "stdout",
       "text": [
        "The Value of ELongation is 200.33 N/mm**2\n",
        "The Nominal stress at the Breaking Point 296.03 KN/mm**2\n",
        "The True stress at the Breaking Point 547.97 KN/mm**2\n",
        "The Percentage Reduction in Area is 45.98\n"
       ]
      }
     ],
     "prompt_number": 5
    },
    {
     "cell_type": "heading",
     "level": 2,
     "metadata": {},
     "source": [
      "Example 2.2.6,Page No.19"
     ]
    },
    {
     "cell_type": "code",
     "collapsed": false,
     "input": [
      "import math\n",
      "import numpy as np\n",
      "\n",
      "#Initilization of Variables\n",
      "\n",
      "P=40*10**3 #N #Load   \n",
      "L1=160 #mm #Length of Bar1\n",
      "L2=240 #mm #Length of bar2\n",
      "L3=160 #mm #Length of bar3\n",
      "d1=25 #mm #Diameter of Bar1\n",
      "d2=20 #mm #diameter of bar2\n",
      "d3=25 #mm #diameter of bar3\n",
      "dell_l=0.285 #mm #Total Extension of bar\n",
      "\n",
      "#Calculations\n",
      "\n",
      "E=P*4*(dell_l*pi)**-1*(L1*(d1**2)**-1+L2*(d2**2)**-1+L3*(d3**2)**-1)\n",
      "\n",
      "#Result\n",
      "print\"The Young's Modulus of the material\",round(E,2),\"N/mm**2\""
     ],
     "language": "python",
     "metadata": {},
     "outputs": [
      {
       "output_type": "stream",
       "stream": "stdout",
       "text": [
        "The Young's Modulus of the material 198714.72 N/mm**2\n"
       ]
      }
     ],
     "prompt_number": 6
    },
    {
     "cell_type": "heading",
     "level": 2,
     "metadata": {},
     "source": [
      "Example 2.2.7,Page No.19"
     ]
    },
    {
     "cell_type": "code",
     "collapsed": false,
     "input": [
      "import math\n",
      "import numpy as np\n",
      "\n",
      "#Initilization of Variables\n",
      "\n",
      "E1=2*10**5 #N/mm**2 #modulus of Elasticity of material1\n",
      "E2=1*10**5 #N/mm**2 #modulus of Elasticity of material2\n",
      "P=25*10**3 #N #Load \n",
      "t=20 #mm #thickness of material\n",
      "b1=40 #mm #width of material1\n",
      "b2=30 #mm #width of material2\n",
      "L1=500 #mm #Length of material1\n",
      "L2=750 #mm #Length of material2\n",
      "\n",
      "#Calculations\n",
      "\n",
      "A1=b1*t #mm**2 #Area of materila1\n",
      "A2=b2*t #mm**2 #Area of material2\n",
      "\n",
      "dell_l1=P*L1*(A1*E1)**-1 #Extension of Portion1\n",
      "dell_l2=P*L2*(A2*E2)**-1 #Extension of portion2\n",
      "\n",
      "#Total Extension of Bar is\n",
      "dell_l=dell_l1+dell_l2\n",
      "\n",
      "#Result\n",
      "print\"The Total Extension of the Bar is\",round(dell_l,2),\"mm\""
     ],
     "language": "python",
     "metadata": {},
     "outputs": [
      {
       "output_type": "stream",
       "stream": "stdout",
       "text": [
        "The Total Extension of the Bar is 0.39 mm\n"
       ]
      }
     ],
     "prompt_number": 15
    },
    {
     "cell_type": "heading",
     "level": 2,
     "metadata": {},
     "source": [
      "Example 2.2.8,Page No.20"
     ]
    },
    {
     "cell_type": "code",
     "collapsed": false,
     "input": [
      "import math\n",
      "import numpy as np\n",
      "\n",
      "#Initilization of Variables\n",
      "\n",
      "L=1000 #mm #Length of Bar\n",
      "l=400 #mm #Length upto which bire is drilled \n",
      "D=30 #mm #diameter of bar\n",
      "d1=10 #mm #diameter of bore\n",
      "P=25*10**3 #N #Load\n",
      "dell_l=0.185 #mm #Extension of bar\n",
      "\n",
      "#Calculations    \n",
      "\n",
      "L1=L-l #Length of bar above the bore\n",
      "L2=400 #mm #Length of bore\n",
      "\n",
      "A1=pi*4**-1*D**2 #Area of bar\n",
      "A2=pi*4**-1*(D**2-d1**2) #Area of bore\n",
      "\n",
      "E=P*dell_l**-1*(L1*A1**-1+L2*A2**-1)\n",
      "\n",
      "#Result\n",
      "print\"The Modulus of ELasticity is\",round(E,2),\"N/mm**2\""
     ],
     "language": "python",
     "metadata": {},
     "outputs": [
      {
       "output_type": "stream",
       "stream": "stdout",
       "text": [
        "The Modulus of ELasticity is 200735.96 N/mm**2\n"
       ]
      }
     ],
     "prompt_number": 7
    },
    {
     "cell_type": "heading",
     "level": 2,
     "metadata": {},
     "source": [
      "Example 2.2.11,Page No.23"
     ]
    },
    {
     "cell_type": "code",
     "collapsed": false,
     "input": [
      "import math\n",
      "import numpy as np\n",
      "\n",
      "#Initilization of Variables\n",
      "\n",
      "t=10 #mm #Thickness of steel\n",
      "b1=60 #mm #width of plate1\n",
      "b2=40 #mm #width of plate2\n",
      "P=60*10**3 #Load\n",
      "L=600 #mm #Length of plate\n",
      "E=2*10**5 #N/mm**2\n",
      "    \n",
      "#Calculations\n",
      "\n",
      "#Extension of taperong bar of rectangular section\n",
      "dell_l=P*L*(t*E*(b1-b2))**-1*log(b1*b2**-1)\n",
      "\n",
      "A_av=(b1*t+b2*t)*2**-1 #Average Area #mm**2\n",
      "dell_l2=P*L*(A_av*E)**-1 \n",
      "\n",
      "#PErcentage Error\n",
      "e=(dell_l-dell_l2)*(dell_l)**-1*100\n",
      "\n",
      "#Result\n",
      "print\"The Percentage Error is\",round(e,2)"
     ],
     "language": "python",
     "metadata": {},
     "outputs": [
      {
       "output_type": "stream",
       "stream": "stdout",
       "text": [
        "The Percentage Error is 1.35\n"
       ]
      }
     ],
     "prompt_number": 8
    },
    {
     "cell_type": "heading",
     "level": 2,
     "metadata": {},
     "source": [
      "Example 2.2.12,Page No.23"
     ]
    },
    {
     "cell_type": "code",
     "collapsed": false,
     "input": [
      "import math\n",
      "import numpy as np\n",
      "\n",
      "#Initilization of Variables\n",
      "\n",
      "L=1.5 #m #Length of steel bar\n",
      "L1=1000 #m0 #Length of steel bar 1\n",
      "L2=500 #m #Length of steel bar 2   \n",
      "d1=40 #Diameter of steel bar 1\n",
      "d2=20 #diameter of steel bar 2\n",
      "E=2*10**5 #N/mm**2 #Modulus of Elasticity\n",
      "P=160*10**3 #N #Load\n",
      "\n",
      "#Calculations\n",
      "\n",
      "A1=pi*4**-1*d1**2 #Area of Portion 1\n",
      "\n",
      "#Extension of uniform Portion 1\n",
      "dell_l1=P*L1*(A1*E)**-1 #mm\n",
      "\n",
      "#Extension of uniform Portion 2\n",
      "dell_l2=4*P*L2*(pi*d1*d2*E)**-1 #mm\n",
      "\n",
      "#Total Extension of Bar\n",
      "dell_l=dell_l1+dell_l2\n",
      "\n",
      "#Result\n",
      "print\"The Elongation of the Bar is\",round(dell_l,2),\"mm\" "
     ],
     "language": "python",
     "metadata": {},
     "outputs": [
      {
       "output_type": "stream",
       "stream": "stdout",
       "text": [
        "The Elongation of the Bar is 1.27 mm\n"
       ]
      }
     ],
     "prompt_number": 9
    },
    {
     "cell_type": "heading",
     "level": 2,
     "metadata": {},
     "source": [
      "Example 2.2.14,Page No.25"
     ]
    },
    {
     "cell_type": "code",
     "collapsed": false,
     "input": [
      "import math\n",
      "import numpy as np\n",
      "\n",
      "#Initilization of Variables\n",
      "\n",
      "#Portion AB\n",
      "L_AB=600 #mm #Length of AB\n",
      "A_AB=40*40 #mm**2 #Cross-section Area of AB\n",
      "\n",
      "#Portion BC\n",
      "L_BC=800 #mm #Length of BC\n",
      "A_BC=30*30 #mm #Length of BC\n",
      "\n",
      "#Portion CD\n",
      "L_CD=1000 #mm #Length of CD\n",
      "A_CD=20*20 #mm #Area of CD\n",
      "\n",
      "P1=80*10**3 #N #Load1\n",
      "P2=60*10**3 #N #Load2\n",
      "P3=40*10**3 #N #Load3\n",
      "\n",
      "E=2*10**5 #Modulus of Elasticity\n",
      "\n",
      "#Calculations\n",
      "\n",
      "P4=P1-P2+P3 #Load4\n",
      "\n",
      "#Now Force in AB\n",
      "F_AB=P1\n",
      "\n",
      "#Force in BC\n",
      "F_BC=P1-P2\n",
      "\n",
      "#Force in CD\n",
      "F_CD=P4\n",
      "\n",
      "#Extension of AB\n",
      "dell_l_AB=F_AB*L_AB*(A_AB*E)**-1\n",
      "\n",
      "#Extension of BC\n",
      "dell_l_BC=F_BC*L_BC*(A_BC*E)**-1\n",
      "\n",
      "#Extension of CD\n",
      "dell_l_CD=F_CD*L_CD*(A_CD*E)**-1\n",
      "\n",
      "#Total Extension\n",
      "dell_l=dell_l_AB+dell_l_BC+dell_l_CD\n",
      "\n",
      "#Result\n",
      "print\"The Total Extension in Bar is\",round(dell_l,2),\"mm\""
     ],
     "language": "python",
     "metadata": {},
     "outputs": [
      {
       "output_type": "stream",
       "stream": "stdout",
       "text": [
        "The Total Extension in Bar is 0.99 mm\n"
       ]
      }
     ],
     "prompt_number": 5
    },
    {
     "cell_type": "heading",
     "level": 2,
     "metadata": {},
     "source": [
      "Example 2.2.15,Page No.26"
     ]
    },
    {
     "cell_type": "code",
     "collapsed": false,
     "input": [
      "import math\n",
      "import numpy as np\n",
      "\n",
      "#Initilization of Variables\n",
      "\n",
      "L=800 #mm #Length of bar\n",
      "F1=30*10**3 #N #Force acting on the bar\n",
      "F2=60*10**3 #N #force acting on the bar\n",
      "L=800 #mm #Length of bar\n",
      "d=25 #mm #diameter of bar \n",
      "L_AC=275 #mm #Length of AC\n",
      "L_CD=150 #mm #Length of CD\n",
      "L_DB=375 #mm #Length of DB\n",
      "E=2*10**5 #Pa #Modulus of elasticity\n",
      "\n",
      "#Calculations\n",
      "\n",
      "#Let P be the Reaction on tne Bar from support at A\n",
      "\n",
      "#Shortening of Portion AC\n",
      "#dell_l_AC1=P*L_AC*(A*E)**-1\n",
      "\n",
      "#Shortening of Portion CD\n",
      "#dell_l_CD1=(30+P)*L_CD*(A*E)**-1\n",
      "\n",
      "#Extension of Portion DB\n",
      "#dell_l_DB1=(30-P)*L_DB*(A*E)**-1\n",
      "\n",
      "#Total Extensions=1*(A*E)**-1*(P*L_AC-(30+P)*L_CD+(30-P)*L_DB)\n",
      "#As Supports are unyielding,Total Extensions=0\n",
      "\n",
      "#After substituting values in above equation and Further simplifying we get\n",
      "P=(30*375-150*30)*800**-1\n",
      "\n",
      "#Reaction of support A\n",
      "R_A=P\n",
      "\n",
      "#Reaction of support B\n",
      "R_B=30-P\n",
      "\n",
      "#Cross-sectional Area\n",
      "A=pi*4**-1*d**2\n",
      "\n",
      "#Stress in Portion AC\n",
      "sigma1=P*10**3*A**-1 #N/mm**2\n",
      "\n",
      "#Stress in Portion CD\n",
      "sigma2=(30+P)*10**3*A**-1 #N/mm**2\n",
      "\n",
      "#Stress in Portion DB\n",
      "sigma3=(30-P)*10**3*A**-1 #N/mm**2\n",
      "\n",
      "#Shortening of Portion AC\n",
      "dell_l_AC2=P*10**3*L_AC*(A*E)**-1 #mm \n",
      "\n",
      "#Shortening of Portion CD\n",
      "dell_l_CD2=(30+P)*10**3*L_CD*(A*E)**-1 #mm \n",
      "\n",
      "#Extension of Portion DB\n",
      "dell_l_DB2=(30-P)*10**3*L_DB*(A*E)**-1 #mm \n",
      "\n",
      "#result\n",
      "print\"The Reactios at two Ends are:R_A\",round(R_A,2),\"KN\"\n",
      "print\"                            :R_B\",round(R_B,2),\"KN\"\n",
      "print\"Stress in Portion AC\",round(sigma1,2),\"N/mm**2\"\n",
      "print\"Stress in Portion CD\",round(sigma2,2),\"N/mm**2\"\n",
      "print\"Stress in Portion DB\",round(sigma3,2),\"N/mm**2\"\n",
      "print\"Shortening of Portion AC\",round(dell_l_AC2,3),\"mm\"\n",
      "print\"Shortening of Portion CD\",round(dell_l_CD2,3),\"mm\"\n",
      "print\"Shortening of Portion DB\",round(dell_l_DB2,3),\"mm\""
     ],
     "language": "python",
     "metadata": {},
     "outputs": [
      {
       "output_type": "stream",
       "stream": "stdout",
       "text": [
        "The Reactios at two Ends are:R_A 8.44 KN\n",
        "                            :R_B 21.56 KN\n",
        "Stress in Portion AC 17.19 N/mm**2\n",
        "Stress in Portion CD 78.3 N/mm**2\n",
        "Stress in Portion DB 43.93 N/mm**2\n",
        "Shortening of Portion AC 0.024 mm\n",
        "Shortening of Portion CD 0.059 mm\n",
        "Shortening of Portion DB 0.082 mm\n"
       ]
      }
     ],
     "prompt_number": 10
    },
    {
     "cell_type": "heading",
     "level": 2,
     "metadata": {},
     "source": [
      "Example 2.2.19,Page No.29"
     ]
    },
    {
     "cell_type": "code",
     "collapsed": false,
     "input": [
      "import math\n",
      "import numpy as np\n",
      "\n",
      "#Initilization of Variables\n",
      "     \n",
      "h=4 #m #height of Pillars\n",
      "P=20 #KN #Load at M\n",
      "\n",
      "#Calculations\n",
      "\n",
      "#Let P_A,P_B,P_C,P_D be the forces introduced  in the Pillars\n",
      "#Sun of All Vertical Forces\n",
      "#P_A+P_B+P_C+P_D=20  ....................(1)\n",
      "\n",
      "#Sum of moment about AB, we get\n",
      "#P_D+P_C=12   ....................(2)\n",
      "\n",
      "#Sum of Moment about AD\n",
      "#P_C+P_B=8    ....................(3)\n",
      "\n",
      "#Let dell_l_A,dell_l_B,dell_l-C,dell_l_D be the deformations of Pillars A,B,C,D respectively\n",
      "#Diagonals AC and BD will remain straight Lines even after the Load is applied.\n",
      "#Deflection of central Point is given by (dell_l_A+dell_l_C)*2**-1 & (dell_l_B+dell_l_D)*2**-1\n",
      "\n",
      "#dell_l_A+dell_l_C=dell_l_B+ell_l_D\n",
      "#P_A*L*(A*E)**-1+P_C*L*(A*E)**-1=P_B*L*(A*E)**-1+P_D*L*(A*E)**-1\n",
      "\n",
      "#Since Pillars are identical in Length,cross-sectional area,material Property\n",
      "#P_A+P_C=P_B+P_D      ..............(4)\n",
      "\n",
      "#From Equations 1 and 4 we get\n",
      "#P_B+P_D=10      ....................(5)\n",
      "  \n",
      "#Substracting Equation 3 from Equation 2 we get\n",
      "#P_D-P_B=4     ....................(6)\n",
      "\n",
      "#Adding Equation 5 and 6 we get\n",
      "\n",
      "P_D=14*2**-1\n",
      "P_C=12-P_D\n",
      "P_B=8-P_C\n",
      "\n",
      "#Now substituting values of P_B,P_C,P_D in equation1 we get\n",
      "P_A=20-(P_B+P_C+P_D)\n",
      "\n",
      "#Result\n",
      "print\"The Forces Developed in the Pillars are:P_A\",round(P_A,2),\"KN\"\n",
      "print\"                                       :P_B\",round(P_B,2),\"KN\"\n",
      "print\"                                       :P_C\",round(P_C,2),\"KN\"\n",
      "print\"                                       :P_D\",round(P_D,2),\"KN\""
     ],
     "language": "python",
     "metadata": {},
     "outputs": [
      {
       "output_type": "stream",
       "stream": "stdout",
       "text": [
        "The Forces Developed in the Pillars are:P_A 5.0 KN\n",
        "                                       :P_B 3.0 KN\n",
        "                                       :P_C 5.0 KN\n",
        "                                       :P_D 7.0 KN\n"
       ]
      }
     ],
     "prompt_number": 11
    },
    {
     "cell_type": "heading",
     "level": 2,
     "metadata": {},
     "source": [
      "Example 2.2.20,Page No.31"
     ]
    },
    {
     "cell_type": "code",
     "collapsed": false,
     "input": [
      "import math\n",
      "import numpy as np\n",
      "\n",
      "#Initilization of Variables\n",
      "\n",
      "sigma=150 #N/mm**2 #Stress\n",
      "P=40*10**3 #N #Load\n",
      "\n",
      "#Calculations\n",
      "\n",
      "#LEt P_A.P_B,P_C,P_D be the forces developed in wires A,B,C,D respectively\n",
      "\n",
      "#Let sum of all Vertical Forces=0\n",
      "#P_A+P_B+P_C+P_D=40   ..........................(1)\n",
      "\n",
      "#Let x be the distance between each wires\n",
      "#sum of all moments=0\n",
      "#P_B*x+P_C*2*x+P_D*3*x=40*2*x\n",
      "\n",
      "#After further simplifying we get\n",
      "#P_B+2*P_C+3*P_D=80     ..........................(2)\n",
      "\n",
      "#As the equations of statics ae not enough to find unknowns,Consider compatibilit Equations\n",
      "\n",
      "#Let dell_l be the increse in elongation of wire\n",
      "\n",
      "#dell_l_B=dell_l_A+dell_l\n",
      "#dell_l_C=dell_l_A+2*dell_l\n",
      "#dell_l_D=dell_l_A+3*dell_l\n",
      "\n",
      "#Let P1 be the force required for the Elongation of wires,then\n",
      "#P_B=P_A+P1    ]\n",
      "#P_C=P_A+2*P1  ]\n",
      "#P_D=P_A+3*P1  ]     ................................(3)  \n",
      "\n",
      "#from Equation (3) and (1) we get\n",
      "#2*P_A+3*P1=20      ................................(4)\n",
      "\n",
      "#from Equation (3) and (2) we get\n",
      "#6*P_A+14*P1=80 \n",
      "\n",
      "#subtracting 3 times equation (4) from (3) we get\n",
      "P1=20*5**-1\n",
      "\n",
      "#from Equation 4 we get\n",
      "P_A=(80-14*P1)*6**-1\n",
      "P_B=P_A+P1\n",
      "P_C=P_A+2*P1    \n",
      "P_D=P_A+3*P1\n",
      "\n",
      "#Let d be the diameter required,then\n",
      "d=(P_D*10**3*4*(pi*150)**-1)**0.5\n",
      "\n",
      "#result\n",
      "print\"The Required Diameter is\",round(d,2),\"mm\""
     ],
     "language": "python",
     "metadata": {},
     "outputs": [
      {
       "output_type": "stream",
       "stream": "stdout",
       "text": [
        "The Required Diameter is 11.65 mm\n"
       ]
      }
     ],
     "prompt_number": 12
    },
    {
     "cell_type": "heading",
     "level": 2,
     "metadata": {},
     "source": [
      "Example 2.2.21,Page No.32"
     ]
    },
    {
     "cell_type": "code",
     "collapsed": false,
     "input": [
      "import math\n",
      "import numpy as np\n",
      "\n",
      "#Initilization of Variables\n",
      "\n",
      "P=20*10**3 #N #Load\n",
      "d=6 #mm #diameter of wire\n",
      "E=2*10**5 #N/mm**2 \n",
      "L_BO=4000 #mm #Length of BO\n",
      "\n",
      "#Calculations\n",
      "\n",
      "#Let theta be the angle between OA and OB and also between OC and OB\n",
      "theta=30\n",
      "\n",
      "#Let P_OA,P_OB,P_OC be the Forces introduced in wires OA,OB,OC respectively\n",
      "#Due to symmetry P_OA=P_OC   (same angles)\n",
      "\n",
      "#Sum of all Vertical Forces=0\n",
      "#P_OA*cos(theta)+P_OB+P_OC*cos(theta)=P\n",
      "\n",
      "#After further simplifyinf we get\n",
      "#2*P_OA*cos(theta)+P_OB=20  ...............(1)\n",
      "\n",
      "#Let oo1 be the extension of BO\n",
      "#oo1=L_A1o1*(cos(theta))**-1\n",
      "\n",
      "#From relation we get\n",
      "#P_OB*L_BO=P_OA*L_AO*(cos(theta))**-1\n",
      "\n",
      "#But L_AO=L_BO*(cos(theta))**-1\n",
      "\n",
      "#After substituting value of L_AO in above equation we get\n",
      "#P_OB=0.75*P_OA    .......................(2)\n",
      "\n",
      "#substituting in Equation 1 we get\n",
      "#2*P_OA*cos(theta)+0.75*P_OA=20\n",
      "\n",
      "P_OA=20*(2*cos(theta*pi*180**-1)+0.75)**-1\n",
      "\n",
      "P_OB=0.75*P_OA\n",
      "\n",
      "A=pi*4**-1*d**2   \n",
      "\n",
      "#Vertical displacement of Load\n",
      "dell_l_BO=P_OB*10**3*L_BO*(A*E)**-1\n",
      "                    \n",
      "#Result\n",
      "print\"Forces in each wire is:P_OA\",round(P_OA,2),\"KN\"\n",
      "print\"                      :P_OB\",round(P_OB,2),\"KN\"\n",
      "print\"Vertical displacement of Loadis\",round(dell_l_BO,2),\"mm\""
     ],
     "language": "python",
     "metadata": {},
     "outputs": [
      {
       "output_type": "stream",
       "stream": "stdout",
       "text": [
        "Forces in each wire is:P_OA 8.06 KN\n",
        "                      :P_OB 6.04 KN\n",
        "Vertical displacement of Loadis 4.27 mm\n"
       ]
      }
     ],
     "prompt_number": 13
    },
    {
     "cell_type": "heading",
     "level": 2,
     "metadata": {},
     "source": [
      "Example 2.2.22,Page No.34"
     ]
    },
    {
     "cell_type": "code",
     "collapsed": false,
     "input": [
      "import math\n",
      "import numpy as np\n",
      "\n",
      "#Initilization of Variables\n",
      "\n",
      "L_s=L_a=L=500 #mm #Length of bar\n",
      "A_a=50*20 #mm #Area of aluminium strip\n",
      "A_s=50*15 #mm #Area of steel strip\n",
      "P=50*10**3 #N #Load\n",
      "E_a=1*10**5 #N/mm**2 #Modulus of aluminium \n",
      "E_s=2*10**5 #N/mm**2 #Modulus of steel\n",
      "\n",
      "#Calculations\n",
      "\n",
      "#Let P_a and P_s br the Load shared by aluminium and steel strip\n",
      "#P_a+P_s=P     ..................(1)\n",
      "\n",
      "#For compatibility condition,dell_l_a=dell_l_s\n",
      "#P_a*L_a*(A_a*E_a)**-1=P_s*L_s*(A_s*E_s)**-1    .....(2)\n",
      "\n",
      "#As L_a=L_s we get\n",
      "#P_s=1.5*P_a   .................(3)\n",
      "   \n",
      "#From Equation 1 and 2 we get\n",
      "P_a=P*2.5**-1\n",
      "\n",
      "#Substituting in equation 1 we get\n",
      "P_s=P-P_a\n",
      "\n",
      "#stress in aluminium strip \n",
      "sigma_a=P_a*A_a**-1\n",
      "\n",
      "#stress in steel strip\n",
      "sigma_s=P_s*A_s**-1\n",
      "\n",
      "#Now from the relation we get\n",
      "dell_l_a=dell_l_s=P_s*L_s*(A_s*E_s)**-1\n",
      "\n",
      "#result\n",
      "print\"Stress in  Aluminium strip is\",round(sigma_a,2),\"N/mm**2\"\n",
      "print\"Stress in  steel strip is\",round(sigma_s,2),\"N/mm**2\"\n",
      "print\"The Extension of the bar is\",round(dell_l_s,2),\"mm\""
     ],
     "language": "python",
     "metadata": {},
     "outputs": [
      {
       "output_type": "stream",
       "stream": "stdout",
       "text": [
        "Stress in  Aluminium strip is 20.0 N/mm**2\n",
        "Stress in  steel strip is 40.0 N/mm**2\n",
        "The Extension of the bar is 0.1 mm\n"
       ]
      }
     ],
     "prompt_number": 14
    },
    {
     "cell_type": "heading",
     "level": 2,
     "metadata": {},
     "source": [
      "Example 2.2.23,Page No.35"
     ]
    },
    {
     "cell_type": "code",
     "collapsed": false,
     "input": [
      "import math\n",
      "import numpy as np\n",
      "\n",
      "#Initilization of Variables\n",
      "\n",
      "D_s=20 #mm #Diameter of steel\n",
      "D_Ci=20 #mm #Internal Diameter of Copper\n",
      "t=5 #mm #THickness of copper bar\n",
      "P=100*10**3 #N #Load\n",
      "E_s=2*10**5 #N/mm**2 #modulus of elasticity of steel\n",
      "E_c=1.2*10**5 #N/mm**2 #Modulus of Elasticity of Copper\n",
      "\n",
      "#Calculations\n",
      "\n",
      "A_s=pi*4**-1*D_s**2 #mm**2 #Area of steel\n",
      "D_Ce=D_s+2*t #mm #External Diameterof Copper Tube\n",
      "\n",
      "A_c=pi*4**-1*(D_Ce**2-D_Ci**2) #mm**2 #Area of Copper\n",
      "\n",
      "#From static Equilibrium condition\n",
      "#Let P_s and P_c be the Load shared by steel and copper in KN\n",
      "#P_s+P_c=100 ....................................(1)\n",
      "\n",
      "#From compatibility Equation,dell_l_s=dell_l_c\n",
      "#P_s*L*(A_s*E_s)**-1=P_c*L*(A_c*E_c)**-1\n",
      "\n",
      "#Substituting values in above Equation we get\n",
      "#P_s=1.3333*P_C \n",
      "\n",
      "#Now Substituting value of P_s in Equation (1),we get\n",
      "P_c=100*2.3333**-1 #KN\n",
      "P_s=100-P_c #KN\n",
      "\n",
      "#Stress in steel\n",
      "sigma_s=P_s*10**3*A_s**-1 #N/mm**2   \n",
      "\n",
      "#Stress in copper\n",
      "sigma_c=P_c*10**3*A_c**-1 #N/mm**2\n",
      "\n",
      "#Result\n",
      "print\"Stresses Developed in Two material are:sigma_s\",round(sigma_s,2),\"N/mm**2\"\n",
      "print\"                                      :sigma_c\",round(sigma_c,2),\"N/mm**2\""
     ],
     "language": "python",
     "metadata": {},
     "outputs": [
      {
       "output_type": "stream",
       "stream": "stdout",
       "text": [
        "Stresses Developed in Two material are:sigma_s 181.89 N/mm**2\n",
        "                                      :sigma_c 109.14 N/mm**2\n"
       ]
      }
     ],
     "prompt_number": 15
    },
    {
     "cell_type": "heading",
     "level": 2,
     "metadata": {},
     "source": [
      "Example 2.2.24,Page No.36"
     ]
    },
    {
     "cell_type": "code",
     "collapsed": false,
     "input": [
      "import math\n",
      "import numpy as np\n",
      "\n",
      "#Initilization of Variables\n",
      "\n",
      "A_C=230*400 #mm #Area of column\n",
      "D_s=12 #mm #Diameter of steel Bar\n",
      "P=600*10**3 #N #Axial compression\n",
      "#E_s*E_c=18.67\n",
      "n=8 #number of steel Bars\n",
      "\n",
      "#Calculations  \n",
      "\n",
      "A_s=pi*4**-1*D_s**2*n #Area of steel #mm**2 \n",
      "A_c=A_C-A_s #mm**2 #Area of concrete\n",
      "\n",
      "#From static Equilibrium condition\n",
      "#P_s+P_c=600   .........(1)\n",
      "\n",
      "#Now from compatibility Equation dell_l_s=dell_l_c we get,\n",
      "#P_s*L*(A_s*E_s)**-1=P_c*L*(A_c*E_c)**-1\n",
      "\n",
      "#Substituting values in above Equation we get\n",
      "#P_s=0.1854*P_c\n",
      "\n",
      "#Now Substituting value of P_s in Equation (1),we get\n",
      "P_c=600*1.1854**-1\n",
      "P_s=600-P_c\n",
      "\n",
      "#Stress in steel\n",
      "sigma_s=P_s*10**3*A_s**-1 #N/mm**2\n",
      "\n",
      "#Stress in copper\n",
      "sigma_c=P_c*10**3*A_c**-1 #N/mm**2\n",
      "\n",
      "#Result\n",
      "print\"Stresses Developed in Two material are:sigma_s\",round(sigma_s,2),\"N/mm**2\"\n",
      "print\"                                      :sigma_c\",round(sigma_c,2),\"N/mm**2\""
     ],
     "language": "python",
     "metadata": {},
     "outputs": [
      {
       "output_type": "stream",
       "stream": "stdout",
       "text": [
        "Stresses Developed in Two material are:sigma_s 103.72 N/mm**2\n",
        "                                      :sigma_c 5.56 N/mm**2\n"
       ]
      }
     ],
     "prompt_number": 16
    },
    {
     "cell_type": "heading",
     "level": 2,
     "metadata": {},
     "source": [
      "Example 2.2.25,Page No.36"
     ]
    },
    {
     "cell_type": "code",
     "collapsed": false,
     "input": [
      "import math\n",
      "import numpy as np\n",
      "\n",
      "#Initilization of Variables\n",
      "\n",
      "P=200*10**3 #N #Load\n",
      "A_a=1000 #mm**2 #Area of Aluminium\n",
      "A_s=800 #mm**2 #Area of steel\n",
      "E_a=1*10**5 #N/mm**2 #Modulus of Elasticity of Aluminium\n",
      "E_s=2*10**5 #N/mm**2 #Modulus of ELasticity of steel\n",
      "sigma_a1=65 #N/mm**2 #stress in aluminium\n",
      "sigma_s1=150 #N/mm**2 #Stress in steel\n",
      "\n",
      "#Calculations   \n",
      "\n",
      "#Let P_a and P_s be the force in aluminium and steel pillar respectively\n",
      "\n",
      "#Now,sum of forces in Vertical direction we get\n",
      "#2*P_a+P_s=200  .........................................(1)\n",
      "\n",
      "#By compatibility Equation dell_l_s=dell_l_a we get\n",
      "#P_s=1.28*P_a  ..........................................(2)\n",
      "\n",
      "#Now substituting value of P_s in Equation 1 we get\n",
      "P_a=200*3.28**-1 #KN\n",
      "P_s=200-2*P_a   #KN\n",
      "\n",
      "#Stress developed in aluminium\n",
      "sigma_a=P_a*10**3*A_a**-1 #N/mm**2 \n",
      "\n",
      "#Stress developed in steel\n",
      "sigma_s=P_s*10**3*A_s**-1 #N/mm**2 \n",
      "\n",
      "#Part-2\n",
      "\n",
      "#Let sigma_a1 and sigma_s1 be the stresses in Aluminium and steel due to Additional LOad\n",
      "\n",
      "P_a1=sigma_a1*A_a #Load carrying capacity of aluminium\n",
      "P_s1=1.28*P_a1\n",
      "\n",
      "#Total Load carrying capacity \n",
      "P1=2*P_a1+P_s1 #N \n",
      "\n",
      "P_s2=sigma_s1*A_s #Load carrying capacity of steel\n",
      "P_a2=P_s2*1.28**-1\n",
      "\n",
      "#Total Load carrying capacity\n",
      "P2=2*P_a2+P_s2\n",
      "\n",
      "#Additional Load\n",
      "P3=P1-P\n",
      "\n",
      "#Result\n",
      "print\"Stresses Developed in Each Pillar is:sigma_a\",round(sigma_a,2),\"N/mm**2\"\n",
      "print\"                                    :sigma_s\",round(sigma_s,2),\"N/mm**2\"\n",
      "print\"Additional Load taken by pillars is\",round(P3,2),\"N\""
     ],
     "language": "python",
     "metadata": {},
     "outputs": [
      {
       "output_type": "stream",
       "stream": "stdout",
       "text": [
        "Stresses Developed in Each Pillar is:sigma_a 60.98 N/mm**2\n",
        "                                    :sigma_s 97.56 N/mm**2\n",
        "Additional Load taken by pillars is 13200.0 N\n"
       ]
      }
     ],
     "prompt_number": 17
    },
    {
     "cell_type": "heading",
     "level": 2,
     "metadata": {},
     "source": [
      "Example 2.2.26,Page No.37"
     ]
    },
    {
     "cell_type": "code",
     "collapsed": false,
     "input": [
      "import math\n",
      "import numpy as np\n",
      "\n",
      "#Initilization of Variables\n",
      "\n",
      "L=500 #mm #Length of assembly\n",
      "D=16 #mm #Diameter of steel bolt\n",
      "Di=20 #mm #internal Diameter of copper tube\n",
      "Do=30 #mm #External Diameter of copper tube\n",
      "E_s=2*10**5 #N/mm**2 #Modulus of Elasticity of steel\n",
      "E_c=1.2*10**5 #N/mm**2 #Modulus of Elasticity of copper\n",
      "p=2 #mm #Pitch of nut\n",
      "\n",
      "#Calculations\n",
      "\n",
      "#Let P_s be the Force in bolt and P_c be the FOrce in copper tube\n",
      "#P_s=-P_s\n",
      "\n",
      "dell=1*4**-1*2 #Quarter turn of nut total movement\n",
      "\n",
      "#dell=dell_s+dell_c\n",
      "    \n",
      "#Area of steel\n",
      "A_s=pi*4**-1*D**2\n",
      "\n",
      "#Area of copper\n",
      "A_c=pi*4**-1*(Do**2-Di**2)\n",
      "\n",
      "#dell=P*L*(A_s*E_s)**-1+P*L*(A_c*E_c)**-1\n",
      "P=dell*(1*(A_s*E_s)**-1+1*(A_c*E_c)**-1)**-1*L**-1 #LOad\n",
      "\n",
      "P_s=P*A_s**-1\n",
      "P_c=P*A_c**-1\n",
      "\n",
      "#result\n",
      "print\"stress introduced in bolt is\",round(P_s,2),\"N/mm**2\"\n",
      "print\"stress introduced in tube is\",round(P_c,2),\"N/mm**2\""
     ],
     "language": "python",
     "metadata": {},
     "outputs": [
      {
       "output_type": "stream",
       "stream": "stdout",
       "text": [
        "stress introduced in bolt is 107.91 N/mm**2\n",
        "stress introduced in tube is 55.25 N/mm**2\n"
       ]
      }
     ],
     "prompt_number": 18
    },
    {
     "cell_type": "heading",
     "level": 2,
     "metadata": {},
     "source": [
      "Example 2.2.27,Page No.39"
     ]
    },
    {
     "cell_type": "code",
     "collapsed": false,
     "input": [
      "import math\n",
      "import numpy as np\n",
      "\n",
      "#Initilization of Variables\n",
      "\n",
      "D=20 #mm #Diameter of Bolts\n",
      "Di=25 #m #internal Diameter\n",
      "t=10 #mm #Thickness of bolt\n",
      "E_s=2*10**5 #N/mm**2 #Modulus of Elasticity\n",
      "E_c=1.2*10**5 #N/mm**2 #Modulus of copper\n",
      "p=3 #mm #Pitch\n",
      "theta=30 #degree\n",
      "L_c=500 #Lengh of copper \n",
      "L_s=600 #Length of steel\n",
      "\n",
      "#Calculations\n",
      "\n",
      "#Let P_s be the Force in each bolt and P_c be the FOrce in copper tube\n",
      "#From Static Equilibrium condition\n",
      "#P_c=2*P_s\n",
      "\n",
      "#As nut moves by 60 degree.If nut moves by 360 degree its Longitudinal movement is by 3 mm\n",
      "dell=theta*360**-1*p\n",
      "\n",
      "#From Compatibility Equaton we get\n",
      "#dell=dell_c+dell_s\n",
      "\n",
      "\n",
      "A_s=pi*4**-1*Di**2 #mm**2 #Area of steel\n",
      "A_c=pi*4**-1*(45**2-Di**2) #mm**2 #Area of copper\n",
      "\n",
      "#Force introduced in steel\n",
      "P_s=0.5*(2*L_c*(A_c*E_c)**-1+L_s*(A_s*E_s)**-1)**-1 #N\n",
      "P_s2=P_s*A_s**-1\n",
      "\n",
      "#Force introduced in copper     \n",
      "P_c=2*P_s*A_c**-1 #N\n",
      "\n",
      "#Result\n",
      "print\"Stress introduced in bolt is\",round(P_s2,2),\"N/mm**2\"\n",
      "print\"stress introduced in tube is\",round(P_c,2),\"N/mm**2\""
     ],
     "language": "python",
     "metadata": {},
     "outputs": [
      {
       "output_type": "stream",
       "stream": "stdout",
       "text": [
        "Stress introduced in bolt is 74.4 N/mm**2\n",
        "stress introduced in tube is 66.43 N/mm**2\n"
       ]
      }
     ],
     "prompt_number": 19
    },
    {
     "cell_type": "heading",
     "level": 2,
     "metadata": {},
     "source": [
      "Example 2.2.28,Page No.40"
     ]
    },
    {
     "cell_type": "code",
     "collapsed": false,
     "input": [
      "import math\n",
      "import numpy as np\n",
      "\n",
      "#Initilization of Variables\n",
      "\n",
      "L=9 #m #Length of rigid bar\n",
      "L_b=3000 #Length of bar\n",
      "A_b=1000 #mm**2 #Area of bar\n",
      "E_b=1*10**5 #N/mm**2 #Modulus of Elasticity of brasss bar\n",
      "L_s=5000 #mm #Length of steel bar\n",
      "A_s=445 #mm**2 #Area of steel bar\n",
      "E_s=2*10**5 #N/mm**2 #Modulus of elasticity of steel bar\n",
      "P=3000 #N #Load\n",
      "\n",
      "#Calculations\n",
      "\n",
      "#From static equilibrium Equation of the rod after appliying Load is\n",
      "#P_b+P_s=P   ......................(1)\n",
      "\n",
      "#P_b=1.8727*P_s ..................(2)\n",
      "\n",
      "#NOw substituting equation 2 in equation 1 we get\n",
      "P_s=P*2.8727**-1\n",
      "P_b=P-P_s\n",
      "\n",
      "d=P_s*L*P**-1  \n",
      "\n",
      "#Result\n",
      "print\"Distance at which Load applied even after which bar remains horizontal is\",round(d,2),\"m\" "
     ],
     "language": "python",
     "metadata": {},
     "outputs": [
      {
       "output_type": "stream",
       "stream": "stdout",
       "text": [
        "Distance at which Load applied even after which bar remains horizontal is 3.13 m\n"
       ]
      }
     ],
     "prompt_number": 20
    },
    {
     "cell_type": "heading",
     "level": 2,
     "metadata": {},
     "source": [
      "Example 2.2.29,Page No.41"
     ]
    },
    {
     "cell_type": "code",
     "collapsed": false,
     "input": [
      "import math\n",
      "import numpy as np\n",
      "\n",
      "#Initilization of Variables\n",
      "\n",
      "A_b=1000 #MM**2 #Area of brass bar\n",
      "E_b=1*10**5 #N/mm**2 #Modulus of Elasticity of brass\n",
      "A_s=600 #N/mm**2 #Area of steel rod\n",
      "E_s=2*10**5 #N/mm**2 #Modulus of eLasticity of steel bar\n",
      "P=10*10**2 #N #Load\n",
      "\n",
      "#Calculations\n",
      "\n",
      "#Let P_b be the tensile force in brass bar and P_s be the compressive force in steel bar\n",
      "#Now taking moment about A we get static Equilibrium condition as\n",
      "#P_b+2*P_s=27500 ......................................(1)\n",
      "\n",
      "#Now from deformed shape  we get\n",
      "#dell_s=2*dell_b\n",
      "\n",
      "#P_s*L_s*(A_s*E_s)**-1=P_b*L_b*(A_b*E_b)**-1\n",
      "#Further simplifying we get\n",
      "#P_s=1.2*P_b   .........................................(2)\n",
      "\n",
      "#Now substituting equation 1 in equation 2 we get\n",
      "P_b=27500*3.4**-1\n",
      "P_s=1.2*P_b     \n",
      "\n",
      "#Tensile stress in brass bar \n",
      "sigma_b=P_b*A_b**-1\n",
      "\n",
      "#compressive stress in steel bar\n",
      "sigma_s=P_s*A_s**-1\n",
      "\n",
      "#Result\n",
      "print\"Compressive Stress in Bar is\",round(sigma_s,2),\"N/mm**2\"\n",
      "print\"tensile Stress in Bar is\",round(sigma_b,2),\"N/mm**2\""
     ],
     "language": "python",
     "metadata": {},
     "outputs": [
      {
       "output_type": "stream",
       "stream": "stdout",
       "text": [
        "Compressive Stress in Bar is 16.18 N/mm**2\n",
        "tensile Stress in Bar is 8.09 N/mm**2\n"
       ]
      }
     ],
     "prompt_number": 21
    },
    {
     "cell_type": "heading",
     "level": 2,
     "metadata": {},
     "source": [
      "Example 2.2.30,Page No.44"
     ]
    },
    {
     "cell_type": "code",
     "collapsed": false,
     "input": [
      "import math\n",
      "import numpy as np\n",
      "\n",
      "#Initilization of Variables\n",
      "\n",
      "L=12.6 #m #Length of rail\n",
      "t1=24 #Degree celsius\n",
      "t2=44 #degree celsius\n",
      "alpha=12*10**-6 #Per degree celsius\n",
      "E=2*10**5 #N/mm**2 #Modulus of ELasticity\n",
      "gamma=2 #mm #Gap provided for Expansion\n",
      "sigma=20 #N/mm**2 #Stress\n",
      "\n",
      "#Calculations     \n",
      "\n",
      "t=t2-t1 #Temperature Difference\n",
      "\n",
      "#Free Expansion of the rails\n",
      "dell=alpha*t*L*1000 #mm \n",
      "\n",
      "#When no expansion joint is provided then\n",
      "p=dell*E*(L*10**3)**-1\n",
      "\n",
      "#When a gap of 2 mm is provided,then free expansion prevented is\n",
      "dell_1=dell-gamma\n",
      "p2=dell_1*E*(L*10**3)**-1\n",
      "\n",
      "#When stress is developed,then gap left is\n",
      "gamma2=-(sigma*L*10**3*E**-1-dell)\n",
      "\n",
      "#Result\n",
      "print\"The minimum gap between the two rails is\",round(dell,2),\"mm\"\n",
      "print\"Thermal Developed in the rials if:No expansionn joint is provided:p\",round(p,2),\"N/mm**2\"\n",
      "print\"                                 :If a gap of is provided then   :p2\",round(p2,2),\"N/mm**2\"\n",
      "print\"When stress is developed gap left between the rails is\",round(gamma2,2),\"mm\""
     ],
     "language": "python",
     "metadata": {},
     "outputs": [
      {
       "output_type": "stream",
       "stream": "stdout",
       "text": [
        "The minimum gap between the two rails is 3.02 mm\n",
        "Thermal Developed in the rials if:No expansionn joint is provided:p 48.0 N/mm**2\n",
        "                                 :If a gap of is provided then   :p2 16.25 N/mm**2\n",
        "When stress is developed gap left between the rails is 1.76 mm\n"
       ]
      }
     ],
     "prompt_number": 22
    },
    {
     "cell_type": "heading",
     "level": 2,
     "metadata": {},
     "source": [
      "Example 2.2.31,Page No.45"
     ]
    },
    {
     "cell_type": "code",
     "collapsed": false,
     "input": [
      "import math\n",
      "import numpy as np\n",
      "\n",
      "#Initilization of Variables\n",
      "\n",
      "t=20 #degree celsius\n",
      "E_a=70*10**9 #N/mm**2 #Modulus of Elasticicty of aluminium\n",
      "alpha_a=11*10**-6 #per degree celsius #Temperature coeff of aluminium\n",
      "alpha_s=12*10**-6 #Per degree celsius #Temperature coeff of steel\n",
      "L_a=1000 #mm #Length of aluminium \n",
      "L_s=3000 #mm #Length of steel\n",
      "E_a=7*10**4 #N/mm**2 #Modulus of Elasticity of aluminium\n",
      "E_s=2*10**5 #N/mm*2 #Modulus of Elasticity of steel\n",
      "A_a=600 #mm**2 #Area of aluminium\n",
      "A_s=300 #mm**2 #Area of steel\n",
      "\n",
      "#Calculations\n",
      "\n",
      "#Free Expansion \n",
      "dell=alpha_a*t*L_a+alpha_s*t*L_s\n",
      "  \n",
      "#support Reaction\n",
      "P=dell*(L_a*(A_a*E_a)**-1+L_s*(A_s*E_s)**-1)**-1\n",
      "\n",
      "#Result\n",
      "print\"Reaction at support is\",round(P,2),\"N\""
     ],
     "language": "python",
     "metadata": {},
     "outputs": [
      {
       "output_type": "stream",
       "stream": "stdout",
       "text": [
        "Reaction at support is 12735.48 N\n"
       ]
      }
     ],
     "prompt_number": 23
    },
    {
     "cell_type": "heading",
     "level": 2,
     "metadata": {},
     "source": [
      "Example 2.2.33,Page No.48"
     ]
    },
    {
     "cell_type": "code",
     "collapsed": false,
     "input": [
      "import math\n",
      "import numpy as np\n",
      "\n",
      "#Initilization of Variables\n",
      "\n",
      "D=25 #mm #Diameter of Brass\n",
      "De=50 #mm #External Diameter of steel tube\n",
      "Di=25 #mm #Internal Diameter of steel tube\n",
      "L=1.5 #m #Length of both bars\n",
      "t1=30 #degree celsius #Initial Temperature\n",
      "t2=100 #degree celsius #final Temperature\n",
      "E_s=2*10**5 #N/mm**2 #Modulus of ELasticity of steel bar\n",
      "E_b=1*10**5 #N/mm**2 #Modulus of Elasticity of brass bar\n",
      "alpha_s=11.6*10**-6 #Temperature Coeff of steel\n",
      "alpha_b=18.7*10**-6 #Temperature coeff of brass bar\n",
      "d=20 #mm #diameter of pins\n",
      "\n",
      "#Calculations\n",
      "\n",
      "t=t2-t1 #Temperature Difference\n",
      "A_s=pi*4**-1*(De**2-Di**2) #mm**2 #Area of steel\n",
      "A_b=pi*4**-1*D**2 #mm**2 #Area of brass\n",
      "\n",
      "#Let P_b be the tensile force in brass bar and P_s be the compressive force in steel bar\n",
      "#But from Equilibrium of Forces \n",
      "#P_b=P_s=P\n",
      "\n",
      "#Let dell=dell_s+dell_b\n",
      "dell=(alpha_b-alpha_s)*t*L*1000\n",
      "\n",
      "P=dell*(1*(A_s*E_s)**-1+1*(A_b*E_b)**-1)**-1*(L*1000)**-1\n",
      "P_b=P_s=P\n",
      "\n",
      "#Stress in steel\n",
      "sigma_s=P_s*A_s**-1\n",
      "\n",
      "#Stress in Brass\n",
      "sigma_b=P_b*A_b**-1\n",
      "\n",
      "#Area of Pins\n",
      "A_p=pi*4**-1*d**2\n",
      "\n",
      "#Since,the force is resisted by two cross section of pins\n",
      "tou=P*(2*A_p)**-1\n",
      "    \n",
      "#Result\n",
      "print\"Stress in steel bar is\",round(sigma_s,2),\"N/mm**2\"\n",
      "print\"Stress in Brass bar is\",round(sigma_b,2),\"N/mm**2\"\n",
      "print\"Shear Stresss induced in pins is\",round(tou,2),\"N/mm**2\""
     ],
     "language": "python",
     "metadata": {},
     "outputs": [
      {
       "output_type": "stream",
       "stream": "stdout",
       "text": [
        "Stress in steel bar is 14.2 N/mm**2\n",
        "Stress in Brass bar is 42.6 N/mm**2\n",
        "Shear Stresss induced in pins is 33.28 N/mm**2\n"
       ]
      }
     ],
     "prompt_number": 24
    },
    {
     "cell_type": "heading",
     "level": 2,
     "metadata": {},
     "source": [
      "Example 2.2.34,Page No.49"
     ]
    },
    {
     "cell_type": "code",
     "collapsed": false,
     "input": [
      "import math\n",
      "import numpy as np\n",
      "\n",
      "#Initilization of Variables\n",
      "\n",
      "b_s=60 #mm #width of steel Bar\n",
      "t_s=10 #mm #thickness of steel Bar\n",
      "b_c=40 #mm #width of copper bar\n",
      "t_c=5  #mm #thickness of copper bar\n",
      "E_s=2*10**5 #N/mm**2 #Modulus of Elasticity of steel bar\n",
      "E_c=1*10**5 #N/mm**2 #Modulus of Elasticity of copper bar\n",
      "alpha_s=12*10**-6 #Per degree celsius #Temperature coeff of steel bar\n",
      "alpha_c=17*10**-6 #Per degree celsius #Temperature coeff of copper bar\n",
      "L_s=L_c=L=1000 #mm #Length of bar\n",
      "t=80 #degree celsius\n",
      "\n",
      "#Calculations\n",
      "\n",
      "A_s=b_s*t_s #Area of steel bar\n",
      "A_c=b_c*t_c #Area of copper bar\n",
      "\n",
      "#Let P_s be the tensile force in steel bar and P_c be the compressive force in copper bar\n",
      "#The equilibrium of forces gives \n",
      "#P_s=2*P_c\n",
      "\n",
      "#Let dell=dell_s+dell_b\n",
      "dell=(alpha_c-alpha_s)*t\n",
      "\n",
      "P_c=dell*(2*(A_s*E_s)**-1+1*(A_c*E_c)**-1)**-1\n",
      "P_s=2*P_c\n",
      "\n",
      "#Stress in copper \n",
      "sigma_c=P_c*A_c**-1\n",
      "\n",
      "#Stress in steel   \n",
      "sigma_s=P_s*A_s**-1\n",
      "\n",
      "#Change  in Length of bar\n",
      "dell_2=alpha_s*t*L+P_s*L_s*(A_s*E_s)**-1\n",
      "\n",
      "#result\n",
      "print\"Stress in copper is\",round(sigma_c,2),\"N/mm**2\"\n",
      "print\"Stress in steel is\",round(sigma_s,2),\"N/mm**2\"\n",
      "print\"the change in Length is\",round(dell_2,2),\"mm\""
     ],
     "language": "python",
     "metadata": {},
     "outputs": [
      {
       "output_type": "stream",
       "stream": "stdout",
       "text": [
        "Stress in copper is 30.0 N/mm**2\n",
        "Stress in steel is 20.0 N/mm**2\n",
        "the change in Length is 1.06 mm\n"
       ]
      }
     ],
     "prompt_number": 25
    },
    {
     "cell_type": "heading",
     "level": 2,
     "metadata": {},
     "source": [
      "Example 2.2.35,Page No.50"
     ]
    },
    {
     "cell_type": "code",
     "collapsed": false,
     "input": [
      "import math\n",
      "import numpy as np\n",
      "\n",
      "#Initilization of Variables\n",
      "\n",
      "P=2*10**5 #N #Weight\n",
      "L=1 #m #Length of each rod\n",
      "A_c=A_s=A=500 #mm**2 #Area of each rod\n",
      "t=40 #degree celsius #temperature\n",
      "E_s=2*10**5 #N/mm**2 #Modulus of Elasticity of steel rod\n",
      "E_c=1*10**5 #N/mm**2 #modulus of Elastictiy  of copper rod\n",
      "alpha_s=1.2*10**-5 #Per degree Celsius #temp coeff of steel rod\n",
      "alpha_c=1.8*10**-5 #Per degree Celsius #Temp coeff of copper rod\n",
      "\n",
      "#Calculations\n",
      "\n",
      "#Let P_s be the force in each one of the copper rods and P_s be the force in steel rod\n",
      "#2*P_c+P_s=P   .....................(1)\n",
      "\n",
      "#Extension of copper bar=Extension of steel bar\n",
      "#P_s*L*(A_s*E_s)**-1=P_c*L*(A_c*E_c)**-1\n",
      "#after simplifying above equation we get\n",
      "#P_s=2*P_c      ........................(2)\n",
      "\n",
      "#Now substituting value of P_s in Equation 1 we get\n",
      "P_c=P*4**-1\n",
      "P_s=2*P_c\n",
      "\n",
      "#Now EXtension due to copper Load\n",
      "dell_1=P_c*L*1000*(A_c*E_c)**-1\n",
      "\n",
      "#Part-2\n",
      "\n",
      "#Due to rise of temperature of40 degree celsius\n",
      "\n",
      "#As bars are rigidly joined,let P_c1 be the compressive forccesdeveloped in copper bar and P_s1 be the tensile force in steel causing changes\n",
      "#P_s1=2*P_c1\n",
      "\n",
      "#dell_s+dell_c=(alpha_c-alpha_s)*t*L      .......................................(3)\n",
      "#P_s1*L*(A_s*E_s)**-1+P_c1*L*(A_c*E_c)**-1=(alpha_c-alpha_s)*t*L   ................(4)\n",
      "#After substituting values in above equation and further simplifying we get,\n",
      "P_c1=(alpha_c-alpha_s)*t*L*(2*(A_s*E_s)**-1+1*(A_c*E_c)**-1)**-1  #.................(5)\n",
      "P_s1=2*P_c1\n",
      "\n",
      "#Extension of bar due to temperature rise\n",
      "dell_2=alpha_s*t*L+P_s1*L*(A_s*E_s)**-1\n",
      "\n",
      "#Amount by which bar will descend\n",
      "dell_3=dell_1+dell_2\n",
      "\n",
      "#Load carried by steel bar\n",
      "P_S=P_s+P_s1\n",
      "\n",
      "#Load carried by copper bar\n",
      "P_C=P_c-P_c1\n",
      "\n",
      "#Part-3\n",
      "\n",
      "#Let P_c1_1=P_c                 #For convenience\n",
      "#Rise in temperature if Load is to be carried out by steel rod alone\n",
      "P_c1_1=P_c\n",
      "\n",
      "#From equation 5 \n",
      "t=P_c1_1*(2*(A_s*E_s)**-1+1*(A_c*E_c)**-1)*(alpha_c-alpha_s)**-1\n",
      "\n",
      "#result\n",
      "print\"Extension Due top copper Load\",round(dell_1,2),\"mm\"\n",
      "print\"Load carried by each rod:P_s\",round(P_s,2),\"N\"\n",
      "print\"                        :P_c\",round(P_c,2),\"N\"\n",
      "print\"Rise in Temperature of steel rod should be\",round(t,2),\"degree Celsius\""
     ],
     "language": "python",
     "metadata": {},
     "outputs": [
      {
       "output_type": "stream",
       "stream": "stdout",
       "text": [
        "Extension Due top copper Load 1.0 mm\n",
        "Load carried by each rod:P_s 100000.0 N\n",
        "                        :P_c 50000.0 N\n",
        "Rise in Temperature of steel rod should be 333.33 degree Celsius\n"
       ]
      }
     ],
     "prompt_number": 26
    },
    {
     "cell_type": "heading",
     "level": 2,
     "metadata": {},
     "source": [
      "Example 2.2.36,Page No.53"
     ]
    },
    {
     "cell_type": "code",
     "collapsed": false,
     "input": [
      "import math\n",
      "import numpy as np\n",
      "\n",
      "#Initilization of Variables\n",
      "\n",
      "t=40 #degree celsius #temperature\n",
      "A_s=400 #mm**2 #Area of steel bar\n",
      "A_c=600 #mm**2 #Area of copper bar\n",
      "E_s=2*10**5 #N/mm**2 #Modulus of Elasticity of steel bar\n",
      "E_c=1*10**5 #N/mm**2 #Modulus of Elasticity of copper bar\n",
      "alpha_s=12*10**-6 #degree celsius #Temperature coeff of steel bar\n",
      "alpha_c=18*10**-6 #degree celsius #Temperature coeff of copper bar\n",
      "L_c=800 #mm #Length of copper bar\n",
      "L_s=600 #mm #Length of steel bar\n",
      "\n",
      "#Calculations\n",
      "\n",
      "#Let P_s be the tensile force in steel bar and P_c be the compressive force in copper bar\n",
      "#Static Equilibrium obtained by taking moment about A\n",
      "#P_c=2*P_s\n",
      "\n",
      "#From property of similar triangles we get\n",
      "#(alpha_c*Lc-dell_c)*1**-1=(alpha_s*L_s-dell_s)*2**-1\n",
      "#After substituting values in above equations and further simplifying we get\n",
      "P_s=(2*alpha_c*L_c-alpha_s*L_s)*t*(L_s*(A_s*E_s)**-1+4*L_c*(A_c*E_c)**-1)**-1\n",
      "P_c=2*P_s\n",
      "\n",
      "#Stress in steel rod\n",
      "sigma_s=P_s*A_s**-1 #N/mm**2 \n",
      "\n",
      "#Stress in copper rod\n",
      "sigma_c=P_c*A_c**-1 #N/mm**2\n",
      "\n",
      "#Result\n",
      "print\"Stress in steel rod is\",round(sigma_s,2),\"N/mm**2\"\n",
      "print\"STress in copper rod is\",round(sigma_c,2),\"N/mm**2\""
     ],
     "language": "python",
     "metadata": {},
     "outputs": [
      {
       "output_type": "stream",
       "stream": "stdout",
       "text": [
        "Stress in steel rod is 35.51 N/mm**2\n",
        "STress in copper rod is 47.34 N/mm**2\n"
       ]
      }
     ],
     "prompt_number": 4
    },
    {
     "cell_type": "heading",
     "level": 2,
     "metadata": {},
     "source": [
      "Example 2.2.37,Page No.61"
     ]
    },
    {
     "cell_type": "code",
     "collapsed": false,
     "input": [
      "import math\n",
      "import numpy as np\n",
      "\n",
      "#Initilization of Variables\n",
      "\n",
      "d=20 #mm #Diameter of bar\n",
      "P=37.7*10**3 #N #Load\n",
      "L=200 #mm #Guage Length \n",
      "dell=0.12 #mm #Extension\n",
      "dell_d=0.0036 #mm #contraction in diameter\n",
      "\n",
      "#Calculations\n",
      "\n",
      "#Area of bar\n",
      "A=pi*4**-1*d**2\n",
      "\n",
      "#Let s and dell_s be the Linear strain and Lateral strain\n",
      "s=dell*L**-1\n",
      "dell_s=dell_d*d**-1\n",
      "mu=dell_s*s**-1 #Poissoin's ratio \n",
      "\n",
      "#dell=P*L*(A*E)**-1\n",
      "E=P*L*(dell*A)**-1 #N/mm**2 #Modulus of Elasticity of bar\n",
      "\n",
      "#Modulus of Rigidity\n",
      "G=E*(2*(1+mu))**-1 #N/mm**2\n",
      "\n",
      "#Bulk Modulus \n",
      "K=E*(3*(1-2*mu))**-1 #N/mm**2\n",
      "\n",
      "#result\n",
      "print\"Poisson's ratio is\",round(mu,2)\n",
      "print\"The Elastic constant are:E\",round(E,2)\n",
      "print\"                        :G\",round(G,2)\n",
      "print\"                        :K\",round(K,2)"
     ],
     "language": "python",
     "metadata": {},
     "outputs": [
      {
       "output_type": "stream",
       "stream": "stdout",
       "text": [
        "Poisson's ratio is 0.3\n",
        "The Elastic constant are:E 200004.71\n",
        "                        :G 76924.89\n",
        "                        :K 166670.59\n"
       ]
      }
     ],
     "prompt_number": 13
    },
    {
     "cell_type": "heading",
     "level": 2,
     "metadata": {},
     "source": [
      "Example 2.2.38,Page No.62"
     ]
    },
    {
     "cell_type": "code",
     "collapsed": false,
     "input": [
      "import math\n",
      "import numpy as np\n",
      "\n",
      "#Initilization of Variables\n",
      "\n",
      "d=100 #mm #Diameter of circular rod\n",
      "P=1*10**6 #N #Tensile Force\n",
      "mu=0.3 #Poisson's ratio\n",
      "E=2*10**5 #N/mm**2 #Young's Modulus \n",
      "L=500 #mm #Length of rod\n",
      "\n",
      "#Calculations\n",
      "\n",
      "#Modulus of Rigidity\n",
      "G=E*(2*(1+mu))**-1 #N/mm**2\n",
      "\n",
      "#Bulk Modulus \n",
      "K=E*(3*(1-2*mu))**-1 #N/mm**2\n",
      "\n",
      "A=pi*4**-1*d**2 #mm**2 #Area of Circular rod\n",
      "#Let sigma be the Longitudinal stress\n",
      "sigma=P*A**-1 #N/mm**2 \n",
      "\n",
      "s=sigma*E**-1 #Linear strain\n",
      "e_x=s\n",
      "\n",
      "#Volumetric strain\n",
      "e_v=e_x*(1-2*mu)\n",
      "\n",
      "v=pi*4**-1*d**2*L\n",
      "#Change in VOlume\n",
      "dell_v=e_v*v\n",
      "\n",
      "#Result\n",
      "print\"Bulk Modulus  is\",round(E,2),\"N/mm**2\"\n",
      "print\"Modulus of Rigidity is\",round(G,2),\"N/mm**2\"\n",
      "print\"The change in Volume is\",round(dell_v,2),\"mm**3\""
     ],
     "language": "python",
     "metadata": {},
     "outputs": [
      {
       "output_type": "stream",
       "stream": "stdout",
       "text": [
        "Bulk Modulus  is 200000.0 N/mm**2\n",
        "Modulus of Rigidity is 76923.08 N/mm**2\n",
        "The change in Volume is 1000.0 mm**3\n"
       ]
      }
     ],
     "prompt_number": 21
    },
    {
     "cell_type": "heading",
     "level": 2,
     "metadata": {},
     "source": [
      "Example 2.2.39,Page No.62"
     ]
    },
    {
     "cell_type": "code",
     "collapsed": false,
     "input": [
      "import math\n",
      "import numpy as np\n",
      "\n",
      "#Initilization of Variables\n",
      "\n",
      "L=500 #mm #Length of rectangular cross section bar\n",
      "A=20*40 #mm**2 #Area of rectangular cross section bar\n",
      "P1=4*10**4 #N #Tensile Force on 20mm*40mm Faces\n",
      "P2=2*10**5 #N #compressive force on 20mm*500mm Faces\n",
      "P3=3*10**5 #N #Tensile Force on 40mm*500mm Faces\n",
      "E=2*10**5 #N/mm**2 #young's Modulus \n",
      "mu=0.3 #Poisson's Ratio\n",
      "\n",
      "#Calculations\n",
      "\n",
      "#Let P_x,P_y,P_z be the forces n x,y,z directions\n",
      "\n",
      "P_x=P1*A**-1\n",
      "P_y=P2*A**-1\n",
      "P_z=P3*A**-1\n",
      "\n",
      "#Let e_x,e_y,e_z be the strains in x,y,z directions\n",
      "e_x=1*E**-1*(50+mu*20-15*mu)\n",
      "e_y=1*E**-1*(-mu*50-20-mu*15)\n",
      "e_z=1*E**-1*(-mu*50+mu*20+15)\n",
      "\n",
      "#Volumetric strain\n",
      "e_v=e_x+e_y+e_z\n",
      "\n",
      "#Volume\n",
      "V=20*40*500 #mm**3\n",
      "#Change in Volume \n",
      "dell_v=e_v*V #mm**3\n",
      "\n",
      "#Result\n",
      "print\"The change in Volume is\",round(dell_v,2),\"mm**3\""
     ],
     "language": "python",
     "metadata": {},
     "outputs": [
      {
       "output_type": "stream",
       "stream": "stdout",
       "text": [
        "The change in Volume is 36.0 mm**3\n"
       ]
      }
     ],
     "prompt_number": 2
    },
    {
     "cell_type": "heading",
     "level": 2,
     "metadata": {},
     "source": [
      "Example 2.2.41,Page No.65"
     ]
    },
    {
     "cell_type": "code",
     "collapsed": false,
     "input": [
      "import math\n",
      "import numpy as np\n",
      "\n",
      "#Initilization of Variables\n",
      "\n",
      "E=2.1*10**5 #N/mm**2 #Young's Modulus \n",
      "G=0.78*10**5 #N/mm**2 #Modulus of Rigidity\n",
      "\n",
      "#Calculations\n",
      "\n",
      "#Now using the relation\n",
      "#E=2*G*(1+mu)\n",
      "mu=E*(2*G)**-1-1 #Poisson's ratio\n",
      "\n",
      "#Bulk Modulus \n",
      "K=E*(3*(1-2*mu))**-1 #N/mm**2\n",
      "\n",
      "\n",
      "#Result\n",
      "print\"The Poisson's Ratio is\",round(mu,2)\n",
      "print\"The modulus of Rigidity\",round(K,2),\"N/mm**2\""
     ],
     "language": "python",
     "metadata": {},
     "outputs": [
      {
       "output_type": "stream",
       "stream": "stdout",
       "text": [
        "The Poisson's Ratio is 0.35\n",
        "The modulus of Rigidity 227500.0 N/mm**2\n"
       ]
      }
     ],
     "prompt_number": 5
    },
    {
     "cell_type": "heading",
     "level": 2,
     "metadata": {},
     "source": [
      "Example 2.2.42,Page No.65"
     ]
    },
    {
     "cell_type": "code",
     "collapsed": false,
     "input": [
      "import math\n",
      "import numpy as np\n",
      "\n",
      "#Initilization of Variables\n",
      "\n",
      "G=0.4*10**5 #N/mm**2 #Modulus of rigidity\n",
      "K=0.75*10**5 #N/mm**2 #Bulk Modulus \n",
      "\n",
      "#Calculations\n",
      "\n",
      "#Young's Modulus\n",
      "E=9*G*K*(3*K+G)**-1\n",
      "\n",
      "#Now from the relation\n",
      "#E=2*G(1+2*mu)\n",
      "mu=E*(2*G)**-1-1 #POissoin's ratio \n",
      "\n",
      "#result\n",
      "print\"Young's modulus is\",round(E,2),\"N/mm**2\"\n",
      "print\"Poissoin's ratio is\",round(mu,2)"
     ],
     "language": "python",
     "metadata": {},
     "outputs": [
      {
       "output_type": "stream",
       "stream": "stdout",
       "text": [
        "Young's modulus is 101886.79 N/mm**2\n",
        "Poissoin's ratio is 0.27\n"
       ]
      }
     ],
     "prompt_number": 25
    },
    {
     "cell_type": "heading",
     "level": 2,
     "metadata": {},
     "source": [
      "Example 2.2.43,Page No.65"
     ]
    },
    {
     "cell_type": "code",
     "collapsed": false,
     "input": [
      "import math\n",
      "import numpy as np\n",
      "\n",
      "#Initilization of Variables\n",
      "\n",
      "b=60 #mm #width of bar\n",
      "d=30 #mm #depth of bar\n",
      "L=200 #mm #Length of bar\n",
      "A=30*60 #mm**2 #Area of bar\n",
      "A2=30*200 #mm**2 #Area of bar along which expansion is restrained\n",
      "P=180*10**3 #N #Compressive force\n",
      "E=2*10**5 #N/mm**2 #Young's Modulus\n",
      "mu=0.3 #Poissoin's ratio\n",
      "\n",
      "#Calculations\n",
      "\n",
      "#The bar is restrained from expanding in Y direction\n",
      "P_z=0\n",
      "P_x=P*A**-1 #stress developed in x direction\n",
      "\n",
      "#Now taking compressive strain as positive\n",
      "#e_x=P_x*E**-1-mu*P_y*E**-1      .......................(1)\n",
      "#e_y=-mu*P_x*E**-1+P_y*E**-1       ....................(2)\n",
      "#e_z=-mu*P_x*E**-1-mu*P_y*E**-1  ......................(3)\n",
      "\n",
      "#Part-1\n",
      "#When it is fully restrained\n",
      "e_y=0\n",
      "P_y=30 #N/mm**2 \n",
      "e_x=P_x*E**-1-mu*P_y*E**-1\n",
      "e_z=-mu*P_x*E**-1-mu*P_y*E**-1\n",
      "\n",
      "#Change in Length \n",
      "dell_l=e_x*L #mm\n",
      "\n",
      "#Change in width\n",
      "dell_b=b*e_y\n",
      "\n",
      "#change in Depth\n",
      "dell_d=d*e_z\n",
      "\n",
      "#Volume of bar\n",
      "V=b*d*L #mm**3\n",
      "#Change in Volume\n",
      "e_v=(e_x+e_y+e_z)*V #mm**3\n",
      "\n",
      "#Part-2\n",
      "#When 50% is restrained\n",
      "\n",
      "#Free strain in Y direction\n",
      "e_y1=mu*P_x*E**-1\n",
      "\n",
      "#As 50% is restrained,so\n",
      "e_y2=-50*100**-1*e_y1\n",
      "\n",
      "#But form Equation 2 we have e_y=-mu*P_x*E**-1+P_y*E**-1 \n",
      "#After substituting values in above equation and furthe simplifying we get\n",
      "P_y=e_y2*E+d\n",
      "\n",
      "e_x2=P_x*E**-1-mu*P_y*E**-1 \n",
      "e_z2=-mu*P_x*E**-1-mu*P_y*E**-1\n",
      "\n",
      "#Change in Length \n",
      "dell_l2=e_x2*L #mm\n",
      "\n",
      "#Change in width\n",
      "dell_b2=b*e_y2\n",
      "\n",
      "#change in Depth\n",
      "dell_d2=d*e_z2\n",
      "\n",
      "#Change in Volume\n",
      "e_v2=(e_x2+e_y2+e_z2)*V #mm**3\n",
      "\n",
      "#REsult\n",
      "print\"Change in Dimension of bar is:dell_l\",round(dell_l,2),\"mm\"\n",
      "print\"                             :dell_b\",round(dell_b,4),\"mm\"\n",
      "print\"                             :dell_d\",round(dell_d,2),\"mm\"\n",
      "print\"Change in Volume is\",round(e_v,2),\"mm**3\"\n",
      "print\"Changes in material when only 50% of expansion can be reatrained:dell_l2\",round(dell_l2,2),\"mm\"\n",
      "print\"                                                                :dell_b2\",round(dell_b2,4),\"mm\"\n",
      "print\"                                                                :dell_d2\",round(dell_d2,2),\"mm\""
     ],
     "language": "python",
     "metadata": {},
     "outputs": [
      {
       "output_type": "stream",
       "stream": "stdout",
       "text": [
        "Change in Dimension of bar is:dell_l 0.09 mm\n",
        "                             :dell_b 0.0 mm\n",
        "                             :dell_d -0.01 mm\n",
        "Change in Volume is 93.6 mm**3\n",
        "Changes in material when only 50% of expansion can be reatrained:dell_l2 0.1 mm\n",
        "                                                                :dell_b2 -0.0045 mm\n",
        "                                                                :dell_d2 -0.01 mm\n"
       ]
      }
     ],
     "prompt_number": 23
    },
    {
     "cell_type": "heading",
     "level": 2,
     "metadata": {},
     "source": [
      "Example 2.2.44,Page No.72"
     ]
    },
    {
     "cell_type": "code",
     "collapsed": false,
     "input": [
      "import math\n",
      "import numpy as np\n",
      "\n",
      "#Initilization of Variables\n",
      "\n",
      "P=10*10**3 #N #Load\n",
      "E=2*10**5 #N/mm**2 #Young's Modulus\n",
      "d2=12 #mm #Diameter of bar1\n",
      "d1=16 #mm #diameter of bar2\n",
      "L1=200 #mm #Length of bar1\n",
      "L2=500 #mm #Length of bar2\n",
      "\n",
      "#Calculations\n",
      "\n",
      "#Let A1 and A2 be the cross Area of Bar1 & bar2 respectively\n",
      "A1=pi*4**-1*d1**2 #mm**2\n",
      "A2=pi*4**-1*d2**2 #mm**2\n",
      "\n",
      "#Let p1 and p2 be the stress in Bar1 nad bar2 respectively\n",
      "p1=P*A1**-1 #N/mm**2\n",
      "p2=P*A2**-1 #N/mm**2\n",
      "\n",
      "#Let V1 nad V2 be the Volume of of Bar1 and Bar2\n",
      "V1=A1*(L1+L1)\n",
      "V2=A2*L2\n",
      "\n",
      "#Let E be the strain Energy stored in the bar\n",
      "E=p1**2*(2*E)**-1*V1+p2**2*V2*(2*E)**-1\n",
      "\n",
      "#result\n",
      "print\"The Strain Energy stored in Bar is\",round(E,2),\"N-mm\""
     ],
     "language": "python",
     "metadata": {},
     "outputs": [
      {
       "output_type": "stream",
       "stream": "stdout",
       "text": [
        "The Strain Energy stored in Bar is 1602.6 N-mm\n"
       ]
      }
     ],
     "prompt_number": 74
    },
    {
     "cell_type": "heading",
     "level": 2,
     "metadata": {},
     "source": [
      "Example 2.2.45,Page No.73"
     ]
    },
    {
     "cell_type": "code",
     "collapsed": false,
     "input": [
      "import math\n",
      "import numpy as np\n",
      "\n",
      "#Initilization of Variables\n",
      "\n",
      "#Bar-A\n",
      "d1=30 #mm #Diameter of bar1\n",
      "L=600 #mm #length of bar1\n",
      "\n",
      "#Bar-B\n",
      "d2=30 #mm #Diameter of bar2\n",
      "d3=20 #mm #Diameter of bar2\n",
      "L2=600 #mm #length of bar2\n",
      "\n",
      "#Calculations\n",
      "\n",
      "#Area of bar-A\n",
      "A1=pi*4**-1*d1**2\n",
      "\n",
      "#Area of bar-B\n",
      "A2=pi*4**-1*d2**2\n",
      "A3=pi*4**-1*d3**2\n",
      "\n",
      "#let SE be the Strain Energy\n",
      "#Strain Energy stored in Bar-A\n",
      "#SE=p**2*(2*E)**-1*V\n",
      "#After substituting values and simolifying further we get\n",
      "#SE=P**2*E**-1*0.4244\n",
      "\n",
      "#Strain Energy stored in Bar-B\n",
      "#SE2=p1**2*V1*(2*E)**-1+p2**2*V2*(2*E)**-1\n",
      "#After substituting values and simolifying further we get\n",
      "#SE2=0.6897*P**2*E**-1\n",
      "\n",
      "#Let X be the ratio of SE in Bar-B and SE in Bar-A\n",
      "X=0.6897*0.4244**-1\n",
      "\n",
      "#Part-2\n",
      "\n",
      "#When Max stress is produced is same:Let p be the max stress produced\n",
      "\n",
      "#Stress in bar A is p throughout \n",
      "#In bar B:stress in 20mm dia.portion=p2=p\n",
      "\n",
      "#Stress in 30 mm dia.portion\n",
      "#p1=P*A2*A3**-1\n",
      "#After substituting values and simolifying further we get\n",
      "#p1=4*9**-1*p\n",
      "\n",
      "#Strain Energy in bar A\n",
      "#SE_1=p**2*(2*E)**-1*A1*L1\n",
      "#After substituting values and simolifying further we get\n",
      "#SE_1=67500*p**2*pi*E**-1\n",
      "\n",
      "#Strain Energy in bar B\n",
      "#SE_2=p1**2*V1*(2*E)**-1+p2**2*V2*(2*E)**-1\n",
      "#After substituting values and simolifying further we get\n",
      "#SE_2=21666.67*pi*p**2*E**-1\n",
      "\n",
      "#Let Y be the Ratio of SE in bar B and SE in bar A\n",
      "Y=21666.67*67500**-1\n",
      "\n",
      "#result\n",
      "print\"Gradually applied Load is\",round(X,2)\n",
      "print\"Gradually applied Load is\",round(Y,2)"
     ],
     "language": "python",
     "metadata": {},
     "outputs": [
      {
       "output_type": "stream",
       "stream": "stdout",
       "text": [
        "Gradually applied Load is 1.63\n",
        "Gradually applied Load is 0.32\n"
       ]
      }
     ],
     "prompt_number": 4
    },
    {
     "cell_type": "heading",
     "level": 2,
     "metadata": {},
     "source": [
      "Example 2.2.46,Page No.74"
     ]
    },
    {
     "cell_type": "code",
     "collapsed": false,
     "input": [
      "import math\n",
      "import numpy as np\n",
      "\n",
      "#Initilization of Variables  \n",
      "\n",
      "W=100 #N #Load\n",
      "E=2*10**5 #N/mm**2 #Young's Modulus \n",
      "h=60 #mm #Height through Load falls down\n",
      "L=400 #mm #Length of collar\n",
      "d=30 #mm #diameter of bar\n",
      "\n",
      "#Calculations\n",
      "\n",
      "A=pi*4**-1*d**2 #mm**2 #Area of bar\n",
      "\n",
      "#Instantaneous stress produced is\n",
      "p=W*A**-1*(1+(1+(2*A*E*h*(W*L)**-1))**0.5)\n",
      "\n",
      "#Now the EXtension of the bar is neglected in calculating work doneby the Load,then\n",
      "P=(2*E*h*W*(A*L)**-1)**0.5\n",
      "\n",
      "#Let percentage error be denoted by E1\n",
      "#Percentage error in approximating is\n",
      "E1=(p-P)*p**-1*100\n",
      "\n",
      "#Instantaneous Extension produced is\n",
      "dell_l=round(P,3)*E**-1*L\n",
      "\n",
      "#Result\n",
      "print\"The Instantaneous stress is\",round(p,2),\"N/mm\"\n",
      "print\"Percentage Error is\",round(E1,2)\n",
      "print\"The Instantaneous extension is\",round(dell_l,2),\"mm\""
     ],
     "language": "python",
     "metadata": {},
     "outputs": [
      {
       "output_type": "stream",
       "stream": "stdout",
       "text": [
        "The Instantaneous stress is 92.27 N/mm\n",
        "Percentage Error is 0.15\n",
        "The Instantaneous extension is 0.18 mm\n"
       ]
      }
     ],
     "prompt_number": 23
    },
    {
     "cell_type": "heading",
     "level": 2,
     "metadata": {},
     "source": [
      "Example 2.2.47,Page No.75"
     ]
    },
    {
     "cell_type": "code",
     "collapsed": false,
     "input": [
      "import math\n",
      "import numpy as np\n",
      "\n",
      "#Initilization of Variables\n",
      "\n",
      "d=20 #mm #Diameter of steel bar\n",
      "L=1000 #mm #Length of bar\n",
      "E=2*10**5 #N/mm**2 #Young's Modulus \n",
      "p=300 #N/mm**2 #max Permissible stress\n",
      "h=50 #mm #Height through which weight will fall\n",
      "w=600 #N #Load\n",
      "\n",
      "#Calculations\n",
      "\n",
      "#ARea of steel bar\n",
      "A=pi*4**-1*d**2\n",
      "\n",
      "#Instantaneous extension is\n",
      "dell_l=p*L*E**-1 #mm \n",
      "\n",
      "#Work done by Load \n",
      "#W=W1*(h+dell_l)\n",
      "\n",
      "#Volume of bar\n",
      "V=round(A,2)*L\n",
      "#Let E1 be the strain Energy\n",
      "E1=p**2*(2*E)**-1*V\n",
      "\n",
      "#Answer in Book for Strain Energy is Incorrect \n",
      "\n",
      "#Now Equating Workdone by Load to strain Energy \n",
      "W1=E1*51.5**-1\n",
      "\n",
      "#Now when w=600 N\n",
      "#Let W2 be the Work done by the Load\n",
      "#W2=w(h2*dell_l)\n",
      "\n",
      "h=E1*w**-1-dell_l\n",
      "\n",
      "#Result\n",
      "print\"The Max Lodad which can Fall from a height of 50 mm on the collar is\",round(W1,2),\"N\"\n",
      "print\"the Max Height from which a 600 N Load can fall on the collar is\",round(h,2),\"mm\""
     ],
     "language": "python",
     "metadata": {},
     "outputs": [
      {
       "output_type": "stream",
       "stream": "stdout",
       "text": [
        "The Max Lodad which can Fall from a height of 50 mm on the collar is 1372.54 N\n",
        "the Max Height from which a 600 N Load can fall on the collar is 116.31 mm\n"
       ]
      }
     ],
     "prompt_number": 40
    },
    {
     "cell_type": "heading",
     "level": 2,
     "metadata": {},
     "source": [
      "Example 2.2.48,Page No.76"
     ]
    },
    {
     "cell_type": "code",
     "collapsed": false,
     "input": [
      "import math\n",
      "import numpy as np\n",
      "\n",
      "#Initilization of Variables\n",
      "\n",
      "D_s=30 #mm #Diameter of steel rod\n",
      "d=30 #mm #Internal Diameter of copper tube\n",
      "D=40#mm #External Diameter of copper tube\n",
      "E_s=2*10**5 #N/mm**2 #Young's Modulus of Steel rod\n",
      "E_c=1*10**5#N/mm**2 #Young's Modulus of copper tube\n",
      "P=100 #N #Load\n",
      "h=40 #mm #height from which Load falls\n",
      "L=800 #mm #Length \n",
      "\n",
      "#Calculations\n",
      "\n",
      "#Area of steel rod\n",
      "A_s=pi*4**-1*D_s**2\n",
      "\n",
      "#Area of copper tube\n",
      "A_c=pi*4**-1*(D**2-d**2)\n",
      "\n",
      "#But Dell_s=dell_c=dell\n",
      "#p_s*E_s**-1*L=p_c*L*E_c\n",
      "#After simplifying furthe we get\n",
      "#p_s=2*p_c\n",
      "\n",
      "#Now Equating internal Energy to Workdone we get\n",
      "p_c=(2*P*h*L**-1*(4*A_s*E_s**-1+A_c*E_c**-1))**0.5\n",
      "p_s=2*p_c\n",
      "\n",
      "#Result\n",
      "print A_s\n",
      "print\"STress produced in steel is\",round(p_s,2),\"N/mm**2\"\n",
      "print\"STress produced in copper is\",round(p_c,2),\"N/mm**2\""
     ],
     "language": "python",
     "metadata": {},
     "outputs": [
      {
       "output_type": "stream",
       "stream": "stdout",
       "text": [
        "706.858347058\n",
        "STress produced in steel is 0.89 N/mm**2\n",
        "STress produced in copper is 0.44 N/mm**2\n"
       ]
      }
     ],
     "prompt_number": 9
    },
    {
     "cell_type": "heading",
     "level": 2,
     "metadata": {},
     "source": [
      "Example 2.2.49,Page No.77"
     ]
    },
    {
     "cell_type": "code",
     "collapsed": false,
     "input": [
      "import math\n",
      "import numpy as np\n",
      "\n",
      "dell=0.25 #mm #Instantaneous Extension\n",
      "\n",
      "#Bar-A\n",
      "b1=25 #mm #width of bar\n",
      "D1=500 #mm #Depth of bar\n",
      "\n",
      "#Bar-B\n",
      "b2_1=25 #mm #width of upper bar\n",
      "b2_2=15 #mm #Width of Lower Bar\n",
      "L2=200 #mm #Length  of upper bar\n",
      "L1=300 #mm #Length of Lower bar\n",
      "\n",
      "E=2*10**5 #N/mm**2 #Young's Modulus of bar\n",
      "\n",
      "#Calculations\n",
      "\n",
      "#Strain\n",
      "e=dell*D1**-1 \n",
      "\n",
      "#Load\n",
      "p=e*E\n",
      "\n",
      "#Area of bar-A\n",
      "A=pi*4**-1*25**2\n",
      "\n",
      "#Volume of bar-A\n",
      "V=A*D1\n",
      "\n",
      "#Let E1 be the Energy of Blow\n",
      "#Energy of Blow\n",
      "E1=p**2*(E)**-1*V\n",
      "\n",
      "#Let p2 be the Max stress in bar B When this blow is applied.\n",
      "#the max stress occurs in the 15mm dia. portion,Hence, the stress in 25 mm dia.portion is\n",
      "#p2*pi*4**-1*b2_2**2*(pi*4**-1*b2_2**2=0.36*p\n",
      "\n",
      "#Strain Energy of bar B\n",
      "#E2=p**2*(2*E)**-1*v1+1*(2*E)**-1*(0.36*p2)**2*v2\n",
      "#After substituting values and Further substituting values we get\n",
      "#E2=0.1643445*p2**2\n",
      "\n",
      "#Equating it to Energy of applied blow,we get\n",
      "p2=(12271.846*0.1643445**-1)**0.5\n",
      "\n",
      "#Stress in top portion\n",
      "sigma=0.36*p2\n",
      "\n",
      "#Extension in Bar-1\n",
      "dell_1=p2*E**-1*L1\n",
      "\n",
      "#Extension in Bar-2\n",
      "dell_2=0.36*p2*E**-1*L2\n",
      "\n",
      "#Extension of bar\n",
      "dell_3=dell_1+dell_2\n",
      "\n",
      "#Result\n",
      "print\"Instantaneous Max stress is\",round(sigma,2),\"N/mm**2\"\n",
      "print\"extension in Bar is\",round(dell_3,2),\"mm\""
     ],
     "language": "python",
     "metadata": {},
     "outputs": [
      {
       "output_type": "stream",
       "stream": "stdout",
       "text": [
        "Instantaneous Max stress is 98.37 N/mm**2\n",
        "extension in Bar is 0.51 mm\n"
       ]
      }
     ],
     "prompt_number": 1
    }
   ],
   "metadata": {}
  }
 ]
}