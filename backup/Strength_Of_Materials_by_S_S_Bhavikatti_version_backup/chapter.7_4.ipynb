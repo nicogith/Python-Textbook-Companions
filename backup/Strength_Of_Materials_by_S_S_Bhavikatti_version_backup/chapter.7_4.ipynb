{
 "metadata": {
  "name": "chapter no.7.ipynb"
 },
 "nbformat": 3,
 "nbformat_minor": 0,
 "worksheets": [
  {
   "cells": [
    {
     "cell_type": "heading",
     "level": 1,
     "metadata": {},
     "source": [
      "Chapter No.7:Compound Stresses And Strains"
     ]
    },
    {
     "cell_type": "heading",
     "level": 2,
     "metadata": {},
     "source": [
      "Example 7.1,Page No.269"
     ]
    },
    {
     "cell_type": "code",
     "collapsed": false,
     "input": [
      "import math\n",
      "import numpy as np\n",
      "\n",
      "#Initilization of Variables\n",
      "\n",
      "sigma1=30 #N/mm**2 #Stress in tension\n",
      "d=20 #mm #Diameter \n",
      "sigma2=90 #N/mm**2 #Max compressive stress\n",
      "sigma3=25 #N/mm**2\n",
      "\n",
      "#Calculations\n",
      "\n",
      "#In TEnsion\n",
      "\n",
      "#Corresponding stress in shear\n",
      "P=sigma1*2**-1 #N/mm**2\n",
      "\n",
      "#Tensile force\n",
      "F=pi*4**-1*d**2*sigma1\n",
      "\n",
      "#In Compression\n",
      "\n",
      "#Correspong shear stress\n",
      "P2=sigma2*2**-1 #N/mm**2\n",
      "\n",
      "#Correspong compressive(axial) stress\n",
      "p=2*sigma3 #N/mm**2 \n",
      "\n",
      "#Corresponding Compressive force\n",
      "P3=p*pi*4**-1*d**2 #N\n",
      "\n",
      "#Result\n",
      "print\"Failure Loads are:\",round(F,2),\"N\"\n",
      "print\"                 :\",round(P3,2),\"N\""
     ],
     "language": "python",
     "metadata": {},
     "outputs": [
      {
       "output_type": "stream",
       "stream": "stdout",
       "text": [
        "Failure Loads are: 9424.78 N\n",
        "                 : 15707.96 N\n"
       ]
      }
     ],
     "prompt_number": 24
    },
    {
     "cell_type": "heading",
     "level": 2,
     "metadata": {},
     "source": [
      "Example No.7.2,Page No.270"
     ]
    },
    {
     "cell_type": "code",
     "collapsed": false,
     "input": [
      "import math\n",
      "import numpy as np\n",
      "\n",
      "#Initilization of Variables\n",
      "\n",
      "d=25 #mm #Diameter of circular bar\n",
      "F=20*10**3 #N #Axial Force\n",
      "theta=30 #Degree #angle \n",
      "\n",
      "#Calculations\n",
      "\n",
      "#Axial stresses\n",
      "p=F*(pi*4**-1*d**2)**-1 #N/mm**2\n",
      "\n",
      "#Normal Stress\n",
      "p_n=p*(cos(30*pi*180**-1))**2\n",
      "\n",
      "#Tangential Stress\n",
      "p_t=p*2**-1*sin(2*theta*pi*180**-1)\n",
      "\n",
      "#Max shear stress occurs on plane where theta2=45 \n",
      "theta2=45\n",
      "sigma_max=p*2**-1*sin(2*theta2*pi*180**-1)\n",
      "\n",
      "#Result\n",
      "print\"Stresses developed on a plane making 30 degree is:\",round(p_n,2),\"N/mm**2\"\n",
      "print\"                                                 :\",round(p_t,2),\"N/mm**2\"\n",
      "print\"stress on max shear stress is\",round(sigma_max,2),\"N/mm**2\""
     ],
     "language": "python",
     "metadata": {},
     "outputs": [
      {
       "output_type": "stream",
       "stream": "stdout",
       "text": [
        "Stresses developed on a plane making 30 degree is: 30.56 N/mm**2\n",
        "                                                 : 17.64 N/mm**2\n",
        "stress on max shear stress is 20.37 N/mm**2\n"
       ]
      }
     ],
     "prompt_number": 38
    },
    {
     "cell_type": "heading",
     "level": 2,
     "metadata": {},
     "source": [
      "Example No.7.3,Page No.272"
     ]
    },
    {
     "cell_type": "code",
     "collapsed": false,
     "input": [
      "import math\n",
      "import numpy as np\n",
      "\n",
      "#Initilization of Variables\n",
      "\n",
      "theta=30 #degree\n",
      "\n",
      "#Stresses acting on material\n",
      "p1=120 #N/mm**2\n",
      "p2=80 #N/mm**2\n",
      "\n",
      "#Calculations\n",
      "\n",
      "#Normal Stress\n",
      "P_n=(p1+p2)*2**-1+(p1-p2)*2**-1*cos(2*theta*pi*180**-1) #N/mm**2\n",
      "\n",
      "#Tangential stress\n",
      "P_t=(p1-p2)*2**-1*sin(2*theta*pi*180**-1)\n",
      "\n",
      "#Resultant stress\n",
      "P=(P_n**2+P_t**2)**0.5 #N/mm**2\n",
      "\n",
      "#Inclination to the plane\n",
      "phi=arctan(P_n*P_t**-1)*(180*pi**-1)\n",
      "\n",
      "#Angle made by resultant with 120 #N/mm**2 stress\n",
      "phi2=phi+theta #Degree\n",
      "\n",
      "#Result\n",
      "print\"Normal Stress is\",round(P_n,2),\"N/mm**2\"\n",
      "print\"Tangential Stress is\",round(P_t,2),\"N/mm**2\"\n",
      "print\"Angle made by resultant\",round(phi2,2),\"Degree\""
     ],
     "language": "python",
     "metadata": {},
     "outputs": [
      {
       "output_type": "stream",
       "stream": "stdout",
       "text": [
        "Normal Stress is 110.0 N/mm**2\n",
        "Tangential Stress is 17.32 N/mm**2\n",
        "Angle made by resultant 111.05 Degree\n"
       ]
      }
     ],
     "prompt_number": 30
    },
    {
     "cell_type": "heading",
     "level": 2,
     "metadata": {},
     "source": [
      "Example No.7.4,Page No.272"
     ]
    },
    {
     "cell_type": "code",
     "collapsed": false,
     "input": [
      "import math\n",
      "import numpy as np\n",
      "\n",
      "#Initilization of Variables\n",
      "\n",
      "#Direct Stresses\n",
      "P1=60 #N/mm**2 \n",
      "P2=100 #N/mm**2\n",
      "\n",
      "Theta=25 #Degree #Angle\n",
      "\n",
      "#Calculations\n",
      "\n",
      "#Normal Stress\n",
      "P_n=(P1-P2)*2**-1+(P1+P2)*2**-1*cos(2*Theta*pi*180**-1) #N/mm**2\n",
      "\n",
      "#Tangential Stress\n",
      "P_t=(P1+P2)*2**-1*sin(Theta*2*pi*180**-1) #N/mm**2\n",
      "\n",
      "#Resultant stress\n",
      "P=(P_n**2+P_t**2)**0.5 #N/mm**2\n",
      "\n",
      "theta2=arctan(P_n*P_t**-1)*(180*pi**-1)\n",
      "\n",
      "#Result\n",
      "print\"Stresses on the plane AC is:\",round(P_n,2),\"N/mm**2\"\n",
      "print\"                            \",round(P_t,2),\"N/mm**2\""
     ],
     "language": "python",
     "metadata": {},
     "outputs": [
      {
       "output_type": "stream",
       "stream": "stdout",
       "text": [
        "Stresses on the plane AC is: 31.42 N/mm**2\n",
        "                             61.28 N/mm**2\n"
       ]
      }
     ],
     "prompt_number": 25
    },
    {
     "cell_type": "heading",
     "level": 2,
     "metadata": {},
     "source": [
      "Example No.7.6,Page No.278"
     ]
    },
    {
     "cell_type": "code",
     "collapsed": false,
     "input": [
      "import math\n",
      "import numpy as np\n",
      "\n",
      "#Initilization of Variables\n",
      "\n",
      "#Stresses acting on material\n",
      "p_x=180 #N/mm**2 \n",
      "p_y=120 #N/mm**2\n",
      "\n",
      "q=80 #N/mm**2\n",
      "\n",
      "#Calculations\n",
      "\n",
      "theta=arctan(2*q*(p_x-p_y)**-1)*(180*pi**-1) #degrees\n",
      "theta2=theta*2**-1 #Degrees\n",
      "theta3=theta+180 #Degrees\n",
      "theta4=theta3*2**-1 #Degrees\n",
      "\n",
      "#Stresses\n",
      "p_1=(p_x+p_y)*2**-1+(((p_x-p_y)*2**-1)**2+q**2)**0.5 #N/mm**2\n",
      "p_2=(p_x+p_y)*2**-1-(((p_x-p_y)*2**-1)**2+q**2)**0.5 #N/mm**2\n",
      "\n",
      "#Max shear stress\n",
      "q_max=(((p_x-p_y)*2**-1)**2+q**2)**0.5 #N/mm**2\n",
      "\n",
      "#Result\n",
      "print\"Magnitude of Principal stress is:\",round(p_1,2),\"N/mm**2\"\n",
      "print\"                                 \",round(p_2,2),\"N/mm**2\"\n",
      "print\"Magnitude of max shear stress is\",round(q_max,2),\"N/mm**2\""
     ],
     "language": "python",
     "metadata": {},
     "outputs": [
      {
       "output_type": "stream",
       "stream": "stdout",
       "text": [
        "Magnitude of Principal stress is: 235.44 N/mm**2\n",
        "                                  64.56 N/mm**2\n",
        "Magnitude of max shear stress is 85.44 N/mm**2\n"
       ]
      }
     ],
     "prompt_number": 40
    },
    {
     "cell_type": "heading",
     "level": 2,
     "metadata": {},
     "source": [
      "Example No.7.7,Page No.279"
     ]
    },
    {
     "cell_type": "code",
     "collapsed": false,
     "input": [
      "import math\n",
      "import numpy as np\n",
      "\n",
      "#Initilization of Variables\n",
      "\n",
      "#stresses\n",
      "p_x=60 #N/mm**2\n",
      "p_y=-40 #N/mm**2\n",
      "\n",
      "q=10 #N/mm**2 #shear stress\n",
      "\n",
      "#Calculations\n",
      "\n",
      "#Principal Stresses\n",
      "p1=(p_x+p_y)*2**-1+(((p_x-p_y)*2**-1)**2+q**2)**0.5 #N/mm**2\n",
      "p2=(p_x+p_y)*2**-1-(((p_x-p_y)*2**-1)**2+q**2)**0.5 #N/mm**2\n",
      "\n",
      "#Max shear stress\n",
      "q_max=(((p_x-p_y)*2**-1)**2+q**2)**0.5 #N/mm**2\n",
      "\n",
      "#Inclination of principal stress to plane\n",
      "theta=arctan(2*q*(p_x-p_y)**-1)*(180*pi**-1)#Degrees\n",
      "theta2=(theta)*2**-1 #degrees\n",
      "\n",
      "theta3=(theta+180)*2**-1  #degrees\n",
      "\n",
      "#Result\n",
      "print\"Principal Stresses are:\",round(p1,2),\"N/mm**2\"\n",
      "print\"                      :\",round(p2,2),\"N/mm**2\"\n",
      "print\"Max shear stresses\",round(q_max,2),\"N/mm**2\""
     ],
     "language": "python",
     "metadata": {},
     "outputs": [
      {
       "output_type": "stream",
       "stream": "stdout",
       "text": [
        "Principal Stresses are: 60.99 N/mm**2\n",
        "                      : -40.99 N/mm**2\n",
        "Max shear stresses 50.99 N/mm**2\n"
       ]
      }
     ],
     "prompt_number": 16
    },
    {
     "cell_type": "heading",
     "level": 2,
     "metadata": {},
     "source": [
      "Example No.7.8,Page No.280"
     ]
    },
    {
     "cell_type": "code",
     "collapsed": false,
     "input": [
      "import math\n",
      "import numpy as np\n",
      "\n",
      "#Initilization of Variables\n",
      "\n",
      "#stresses\n",
      "p_x=-120 #N/mm**2\n",
      "p_y=-80 #N/mm**2\n",
      "\n",
      "q=-60 #N/mm**2 #shear stress\n",
      "\n",
      "#Calculations\n",
      "\n",
      "#Principal Stresses\n",
      "p1=(p_x+p_y)*2**-1+(((p_x-p_y)*2**-1)**2+q**2)**0.5 #N/mm**2\n",
      "p2=(p_x+p_y)*2**-1-(((p_x-p_y)*2**-1)**2+q**2)**0.5 #N/mm**2\n",
      "\n",
      "#Max shear stress\n",
      "q_max=(((p_x-p_y)*2**-1)**2+q**2)**0.5 #N/mm**2\n",
      "\n",
      "#Inclination of principal stress to plane\n",
      "theta=arctan(2*q*(p_x-p_y)**-1)*(180*pi**-1)#Degrees\n",
      "theta2=(theta)*2**-1 #degrees\n",
      "\n",
      "theta3=(theta+180)*2**-1  #degrees\n",
      "\n",
      "#Result\n",
      "print\"Principal Stresses are:\",round(p1,2),\"N/mm**2\"\n",
      "print\"                      :\",round(p2,2),\"N/mm**2\"\n",
      "print\"Max shear stresses\",round(q_max,2),\"N/mm**2\""
     ],
     "language": "python",
     "metadata": {},
     "outputs": [
      {
       "output_type": "stream",
       "stream": "stdout",
       "text": [
        "Principal Stresses are: -36.75 N/mm**2\n",
        "                      : -163.25 N/mm**2\n",
        "Max shear stresses 63.25 N/mm**2\n"
       ]
      }
     ],
     "prompt_number": 17
    },
    {
     "cell_type": "heading",
     "level": 2,
     "metadata": {},
     "source": [
      "Example No.7.9,Page No.282"
     ]
    },
    {
     "cell_type": "code",
     "collapsed": false,
     "input": [
      "import math\n",
      "import numpy as np\n",
      "\n",
      "#Initilization of Variables\n",
      "\n",
      "#stresses\n",
      "p_x=-40 #N/mm**2\n",
      "p_y=80 #N/mm**2\n",
      "\n",
      "q=48 #N/mm**2 #shear stress\n",
      "\n",
      "#Calculations\n",
      "\n",
      "#Max shear stress\n",
      "q_max=((((p_x-p_y)*2**-1)**2)+q**2)**0.5 #N/mm**2\n",
      "\n",
      "#Inclination of principal stress to plane\n",
      "theta=arctan(2*q*(p_x-p_y)**-1)*(180*pi**-1)#Degrees\n",
      "theta2=(theta)*2**-1 #degrees\n",
      "\n",
      "theta3=(theta+180)*2**-1  #degrees\n",
      "\n",
      "#Normal Corresponding stress\n",
      "p_n=(p_x+p_y)*2**-1+(p_x-p_y)*2**-1*cos(2*(theta2+45)*pi*180**-1)+q*sin(2*(theta2+45)*pi*180**-1) #Degrees\n",
      "\n",
      "#Resultant stress\n",
      "p=((p_n**2+q_max**2)**0.5) #N/mm**2\n",
      "\n",
      "phi=arctan(p_n*q_max**-1)*(180*pi**-1) #Degrees\n",
      "\n",
      "#Inclination to the plane\n",
      "alpha=round((theta2+45),2)+round(phi ,2)#Degree\n",
      "\n",
      "#Answer in book is incorrect of alpha ie41.25\n",
      "\n",
      "#Result\n",
      "print\"Planes of max shear stress:\",round(p_n,2),\"N/mm**2\"\n",
      "print\"                           \",round(q_max,2),\"N/mm*2\"\n",
      "print\"Resultant Stress is\",round(p,2),\"N/mm**2\""
     ],
     "language": "python",
     "metadata": {},
     "outputs": [
      {
       "output_type": "stream",
       "stream": "stdout",
       "text": [
        "Planes of max shear stress: 20.0 N/mm**2\n",
        "                            76.84 N/mm*2\n",
        "Resultant Stress is 79.4 N/mm**2\n"
       ]
      }
     ],
     "prompt_number": 40
    },
    {
     "cell_type": "heading",
     "level": 2,
     "metadata": {},
     "source": [
      "Example No.7.10,Page No.283"
     ]
    },
    {
     "cell_type": "code",
     "collapsed": false,
     "input": [
      "import math\n",
      "import numpy as np\n",
      "\n",
      "#Initilization of Variables\n",
      "\n",
      "#Stresses\n",
      "p_x=50*cos(35*pi*180**-1)\n",
      "q=50*sin(35*pi*180**-1)\n",
      "p_y=0\n",
      "\n",
      "theta=40 #Degrees #Plane AB inclined to vertical\n",
      "\n",
      "#Calculations\n",
      "\n",
      "#Normal Stress on AB\n",
      "p_n=(p_x+p_y)*2**-1+(p_x-p_y)*2**-1*cos(2*theta*pi*180**-1)+q*sin(2*theta*pi*180**-1)\n",
      "\n",
      "#Tangential Stress on AB\n",
      "p_t=(p_x-p_y)*2**-1*sin(2*theta*pi*180**-1)-q*cos(2*theta*pi*180**-1) #N/mm**2\n",
      "\n",
      "#Resultant stress\n",
      "p=(p_n**2+p_t**2)**0.5 #N/mm**2\n",
      "\n",
      "#Angle of resultant\n",
      "phi=arctan(p_n*p_t**-1)*(180*pi**-1) #degrees\n",
      "phi2=phi+theta #Degrees\n",
      "\n",
      "#Result\n",
      "print\"Magnitude of resultant stress is\",round(p,2),\"N/mm**2\"\n",
      "print\"Direction of Resultant stress is\",round(phi2,2),\"Degrees\""
     ],
     "language": "python",
     "metadata": {},
     "outputs": [
      {
       "output_type": "stream",
       "stream": "stdout",
       "text": [
        "Magnitude of resultant stress is 54.44 N/mm**2\n",
        "Direction of Resultant stress is 113.8 Degrees\n"
       ]
      }
     ],
     "prompt_number": 8
    },
    {
     "cell_type": "heading",
     "level": 2,
     "metadata": {},
     "source": [
      "Example No.7.12,Page No.285"
     ]
    },
    {
     "cell_type": "code",
     "collapsed": false,
     "input": [
      "import math\n",
      "import numpy as np\n",
      "\n",
      "#Initilization of Variables\n",
      "\n",
      "#Direct stresses\n",
      "p_x=120 #N/mm**2 #Tensile stress\n",
      "p_y=-100 #N/mm**2 #Compressive stress\n",
      "p1=160 #N/mm**2 #Major principal stress\n",
      "\n",
      "#Calculations\n",
      "\n",
      "#Let q be the shearing stress\n",
      "\n",
      "#p1=(p_x+p_y)*2**-1+((((p_x+p_y)*2**-1)**2)+q**2)**0.5\n",
      "#After further simplifying we get\n",
      "q=(p1-((p_x+p_y)*2**-1))**2-((p_x-p_y)*2**-1)**2 #N/mm**2\n",
      "q2=(q)**0.5 #N/mm**2\n",
      "\n",
      "#Minimum Principal stress\n",
      "p2=(p_x+p_y)*2**-1-(((p_x-p_y)*2**-1)**2+q2**2)**0.5 #N/mm**2\n",
      "\n",
      "#Max shearing stress\n",
      "q_max=(((p_x-p_y)*2**-1)**2+q2**2)**0.5 #N/mm**2\n",
      "\n",
      "#Result\n",
      "print\"Shearing stress of material\",round(q,2),\"N/mm**2\"\n",
      "print\"Min Principal stress\",round(p2,2),\"N/mm**2\"\n",
      "print\"Max shearing stress\",round(q_max,2),\"N/mm**2\""
     ],
     "language": "python",
     "metadata": {},
     "outputs": [
      {
       "output_type": "stream",
       "stream": "stdout",
       "text": [
        "Shearing stress of material 10400.0 N/mm**2\n",
        "Min Principal stress -140.0 N/mm**2\n",
        "Max shearing stress 150.0 N/mm**2\n"
       ]
      }
     ],
     "prompt_number": 19
    },
    {
     "cell_type": "heading",
     "level": 2,
     "metadata": {},
     "source": [
      "Example No.7.14,Page No.291"
     ]
    },
    {
     "cell_type": "code",
     "collapsed": false,
     "input": [
      "import math\n",
      "import numpy as np\n",
      "\n",
      "#Initilization of Variables\n",
      "\n",
      "F=40*10**3 #N #Shear Force\n",
      "M=20*10**6 #Bending Moment\n",
      "\n",
      "#Rectangular section\n",
      "b=100 #mm #Width\n",
      "d=200 #mm #Depth\n",
      "\n",
      "x=20 #mm #Distance from Top surface upto point\n",
      "y=80 #mm #Distance from point to Bottom\n",
      "\n",
      "#Calculations\n",
      "\n",
      "I=1*12**-1*b*d**3 #mm**4 #M.I\n",
      "\n",
      "#At 20 mm Below top Fibre\n",
      "f_x=M*I**-1*y #N/mm**2 #Stress\n",
      "\n",
      "#Assuming sagging moment ,f_x is compressive p_x=f_x=-24 #N/mm**2\n",
      "p_x=f_x=-24 #N/mm**2\n",
      "\n",
      "#Shearing stress\n",
      "q=F*(b*I)**-1*(b*x*(b-x*2**-1)) #N/mm**2\n",
      "\n",
      "#Direct stresses\n",
      "\n",
      "p_y=0 #N/mm**2\n",
      "\n",
      "p1=(p_x+p_y)*2**-1+(((p_x+p_y)*2**-1)**2+q**2)**0.5 #N/mm**2\n",
      "p2=(p_x+p_y)*2**-1-(((p_x+p_y)*2**-1)**2+q**2)**0.5 #N/mm**2\n",
      "\n",
      "#Result\n",
      "print\"Directions of principal stresses at a point below 20mm is:\",round(p1,2),\"N/mm**2\"\n",
      "print\"                                                          \",round(p2,2),\"N/mm**2\""
     ],
     "language": "python",
     "metadata": {},
     "outputs": [
      {
       "output_type": "stream",
       "stream": "stdout",
       "text": [
        "Directions of principal stresses at a point below 20mm is: 0.05 N/mm**2\n",
        "                                                           -24.05 N/mm**2\n"
       ]
      }
     ],
     "prompt_number": 36
    },
    {
     "cell_type": "heading",
     "level": 2,
     "metadata": {},
     "source": [
      "Example No.7.15,Page No.292"
     ]
    },
    {
     "cell_type": "code",
     "collapsed": false,
     "input": [
      "import math\n",
      "import numpy as np\n",
      "\n",
      "#Initilization of Variables\n",
      "\n",
      "L=4000 #mm #Span\n",
      "W1=W2=W3=2*10**3 #N #Load\n",
      "\n",
      "#SEction of beam\n",
      "b=100 #mm #Width\n",
      "d=240 #mm #Dept\n",
      "\n",
      "#Calculations\n",
      "\n",
      "#Let R_A and R_B be the reactions\n",
      "R_A=R_B=(W1+W2+W3)*2**-1 #KN\n",
      "\n",
      "#Now at the section 1.5m from left support A\n",
      "#Shear Force\n",
      "F=R_A-W1 #KN\n",
      "\n",
      "#B.M\n",
      "M=R_A*1.5-W1*0.5 #KN-m\n",
      "\n",
      "#M.I\n",
      "I=1*12**-1*b*d**3 #mm**4\n",
      "\n",
      "#Bending stress\n",
      "#f=M*I**-1*y\n",
      "#After Sub values and further simplifying we get\n",
      "#f=3.04*10**-2*y\n",
      "\n",
      "#As it varies Linearly\n",
      "\n",
      "#at distance 0 From NA \n",
      "f1=0\n",
      "#at distance 60 mm from NA\n",
      "f2=1.823 #N/mm**2\n",
      "#at distance 120 mm from NA\n",
      "f3=3.646 #N/mm**2\n",
      "\n",
      "#Shearing stress\n",
      "q=F*b*d*2**-1*d*4**-1*(b*I)**-1\n",
      "\n",
      "#At 60 mm above NA\n",
      "q2=F*b*d*4**-1*(d*2**-1-d*8**-1)*(b*I)**-1\n",
      "\n",
      "#At 120 mm above NA\n",
      "q3=0 \n",
      "\n",
      "#At NA element is under pure shear\n",
      "p1=q #N/mm**2\n",
      "p2=-q #N/mm**2 \n",
      "\n",
      "#Inclination of principal plane to vertical\n",
      "#theta=2*q*0**-1\n",
      "#Further simplifying we get\n",
      "#theta=infinity\n",
      "\n",
      "#therefore\n",
      "theta=90*2**-1 #degrees\n",
      "theta2=270*2**-1 #degrees\n",
      "\n",
      "#At 60 mm From NA\n",
      "p_x=-1.823 #N/mm**2 \n",
      "p_y=0\n",
      "q=0.0469 #N/mm**2\n",
      "\n",
      "#principal planes\n",
      "P1=(p_x+p_y)*2**-1+(((p_x+p_y)*2**-1)**2+q**2)**0.5 #N/mm**2\n",
      "P2=(p_x+p_y)*2**-1-(((p_x+p_y)*2**-1)**2+q**2)**0.5 #N/mm**2\n",
      "\n",
      "#Principal planes inclination to hte plane of p_x is given by\n",
      "theta3=(arctan(2*q*(p_x-p_y)**-1)*(180*pi**-1))\n",
      "theta4=theta3*2**-1#degrees\n",
      "\n",
      "theta5=theta3+180 #Degrees\n",
      "\n",
      "#At 120 mm From N-A\n",
      "p_x2=3.646 #N/mm**2\n",
      "p_y2=0 #N/mm**2\n",
      "q2=0 #N/mm**2\n",
      "\n",
      "P3=p_x2 #N/mm**2\n",
      "P4=0 #N/mm**2\n",
      "\n",
      "#Answer for P2 at 60 mm  from NA is incorrect\n",
      "\n",
      "#Result\n",
      "print\"Principal Planes at 60 mm from NA:\",round(p_x,2),\"N/mm**2\"\n",
      "print\"                                  \",round(p_y,2),\"N/mm**2\"\n",
      "print\"Principal Stresses at 60 mm From NA\",round(P1,4),\"N/mm**2\"\n",
      "print\"                                   \",round(P2,4),\"N/mm**2\"\n",
      "print\"Principal Planes at 60 mm from NA:\",round(p_x2,4),\"N/mm**2\"\n",
      "print\"                                  \",round(p_y2,4),\"N/mm**2\"\n",
      "print\"Principal Stresses at 60 mm From NA\",round(P3,4),\"N/mm**2\"\n",
      "print\"                                   \",round(P4,4),\"N/mm**2\""
     ],
     "language": "python",
     "metadata": {},
     "outputs": [
      {
       "output_type": "stream",
       "stream": "stdout",
       "text": [
        "Principal Planes at 60 mm from NA: -1.82 N/mm**2\n",
        "                                   0.0 N/mm**2\n",
        "Principal Stresses at 60 mm From NA 0.0012 N/mm**2\n",
        "                                    -1.8242 N/mm**2\n",
        "Principal Planes at 60 mm from NA: 3.646 N/mm**2\n",
        "                                   0.0 N/mm**2\n",
        "Principal Stresses at 60 mm From NA 3.646 N/mm**2\n",
        "                                    0.0 N/mm**2\n"
       ]
      }
     ],
     "prompt_number": 23
    },
    {
     "cell_type": "heading",
     "level": 2,
     "metadata": {},
     "source": [
      "Example No.7.16,Page No.295"
     ]
    },
    {
     "cell_type": "code",
     "collapsed": false,
     "input": [
      "import math\n",
      "import numpy as np\n",
      "\n",
      "#Initilization of Variables\n",
      "\n",
      "L=8000 #mm #Span of beam\n",
      "w=40*10**6 #N/mm #udl\n",
      "\n",
      "#I-section\n",
      "\n",
      "#Flanges\n",
      "b=100 #mm #Width\n",
      "t=10 #mm #Thickness\n",
      "\n",
      "D=400 #mm #Overall Depth\n",
      "t2=10 #mm #thickness of web\n",
      "\n",
      "#Calculations\n",
      "\n",
      "#Let R_A and R_B be the Reactions at A & B respectively\n",
      "R_A=w*2**-1*L*10**-9 #KN\n",
      "\n",
      "#Shear force at 2m for left support\n",
      "F=R_A-2*w*10**-6 #KN\n",
      "\n",
      "#Bending Moment\n",
      "M=R_A*2-2*w*10**-6 #KN-m\n",
      "\n",
      "#M.I\n",
      "I=1*12**-1*b*D**3-1*12**-1*(b-t)*(D-2*t2)**3 #mm**4\n",
      "\n",
      "#Bending stress at 100 mm above N_A\n",
      "f=M*10**6*I**-1*b\n",
      "\n",
      "#Shear stress \n",
      "q=F*10**3*(t*I)**-1*(b*t*(D-t)*2**-1 +t2*(b-t2)*145) #N/mm**2\n",
      "\n",
      "p_x=-197.06 #N/mm**2 \n",
      "p_y=0 #N/mm**2\n",
      "q=21.38 #N/mm**2\n",
      "\n",
      "#Principal Stresses\n",
      "\n",
      "P1=(p_x+p_y)*2**-1+(((p_x-p_y)*2**-1)**2+q**2)**0.5 #N/mm**2\n",
      "P2=(p_x+p_y)*2**-1-(((p_x-p_y)*2**-1)**2+q**2)**0.5 #N/mm**2\n",
      "\n",
      "#Max shear stress\n",
      "q_max=(((p_x-p_y)*2**-1)**2+q**2)**0.5 #N/mm**2\n",
      "\n",
      "#Result\n",
      "print\"Principal Stresses are:\",round(P1,2),\"N/mm**2\"\n",
      "print\"                       \",round(P2,2),\"N/mm**2\"\n",
      "print\"Max shear stress\",round(q_max,2),\"N/mm**2\""
     ],
     "language": "python",
     "metadata": {},
     "outputs": [
      {
       "output_type": "stream",
       "stream": "stdout",
       "text": [
        "Principal Stresses are: 2.29 N/mm**2\n",
        "                        -199.35 N/mm**2\n",
        "Max shear stress 100.82 N/mm**2\n"
       ]
      }
     ],
     "prompt_number": 48
    },
    {
     "cell_type": "heading",
     "level": 2,
     "metadata": {},
     "source": [
      "Example No.7.18,Page No.298"
     ]
    },
    {
     "cell_type": "code",
     "collapsed": false,
     "input": [
      "import math\n",
      "import numpy as np\n",
      "\n",
      "#Initilization of Variables\n",
      "\n",
      "d=100 #mm #Diameter of shaft\n",
      "M=3*10**6 #N-mm #B.M\n",
      "T=6*10**6 #N-mm #Twisting Moment\n",
      "mu=0.3\n",
      "\n",
      "#Calculations\n",
      "\n",
      "#Max principal Stress\n",
      "\n",
      "P1=16*(pi*d**3)**-1*(M+(M**2+T**2)**0.5) #N/mm**2 \n",
      "P2=16*(pi*d**3)**-1*(M-(M**2+T**2)**0.5) #N/mm**2 \n",
      "\n",
      "#Direct stress\n",
      "P=round(P1,2)-mu*round(P2,2) #N/mm**2 \n",
      "\n",
      "#Result\n",
      "print\"Principal stresses are:\",round(P1,2),\"N/mm**2\"\n",
      "print\"                      :\",round(P2,2),\"N/mm**2\"\n",
      "print\"Stress Producing the same strain is\",round(P,2),\"N/mm**2\""
     ],
     "language": "python",
     "metadata": {},
     "outputs": [
      {
       "output_type": "stream",
       "stream": "stdout",
       "text": [
        "Principal stresses are: 49.44 N/mm**2\n",
        "                      : -18.89 N/mm**2\n",
        "Stress Producing the same strain is 55.11 N/mm**2\n"
       ]
      }
     ],
     "prompt_number": 51
    },
    {
     "cell_type": "heading",
     "level": 2,
     "metadata": {},
     "source": [
      "Example No.7.19,Page No.299"
     ]
    },
    {
     "cell_type": "code",
     "collapsed": false,
     "input": [
      "import math\n",
      "import numpy as np\n",
      "\n",
      "#Initilization of Variables\n",
      "\n",
      "d=75 #mm #diameter \n",
      "P=30*10**6 #W #Power transmitted\n",
      "W=6 #N-mm/sec #Load\n",
      "L=1000 #mm \n",
      "N=300 #r.p.m\n",
      "\n",
      "#Calculations\n",
      "\n",
      "#B.M\n",
      "M=W*L*4**-1 #N-mm\n",
      "T=P*60*(2*pi*N)**-1 #Torque transmitted\n",
      "\n",
      "#M.I\n",
      "I=pi*64**-1*d**4 #mm**4\n",
      "\n",
      "#Bending stress\n",
      "f_A=M*I**-1*(d*2**-1) #N/mm**2\n",
      "\n",
      "#At A\n",
      "p_x=f_A\n",
      "p_y=0\n",
      "\n",
      "#Polar Modulus\n",
      "J=pi*32**-1*d**4 #mm**4\n",
      "\n",
      "#Shearing stress\n",
      "q=T*J**-1*(d*2**-1) #N/mm**2\n",
      "\n",
      "#Principal Stresses\n",
      "P1=(p_x+p_y)*2**-1+(((p_x-p_y)*2**-1)**2+q**2)**0.5 #N/mm**2\n",
      "P2=(p_x+p_y)*2**-1-(((p_x-p_y)*2**-1)**2+q**2)**0.5 #N/mm**2\n",
      "\n",
      "#Max shear stress\n",
      "q_max=(((p_x-p_y)*2**-1)**2+q**2)**0.5 #N/mm**2\n",
      "\n",
      "#Bending stress\n",
      "p_x2=0\n",
      "p_y2=0\n",
      "\n",
      "#Shearing stress\n",
      "q2=T*J**-1*d*2**-1 #N/mm**2\n",
      "\n",
      "#Principal stresses\n",
      "P3=(p_x2+p_y2)*2**-1+(((p_x2-p_y2)*2**-1)**2+q2**2)**0.5 #N/mm**2\n",
      "P4=(p_x2+p_y2)*2**-1-(((p_x2-p_y2)*2**-1)**2+q2**2)**0.5 #N/mm**2\n",
      "\n",
      "#Max shear stress\n",
      "q_max2=(((p_x2-p_y2)*2**-1)**2+q2**2)**0.5 #N/mm**2\n",
      "\n",
      "#Answer for Principal Stresses P1,P2 and Max stress i.e q_max is incorrect in Book\n",
      "\n",
      "#Result\n",
      "print\"Principal Stresses at vertical Diameter:P1\",round(P1,2),\"N/mm**2\"\n",
      "print\"                                       :P2\",round(P2,2),\"N/mm**2\"\n",
      "print\"Max stress at vertical Diameter        :  \",round(q_max,2),\"N/mm**2\"\n",
      "print\"Principal Stresses at Horizontal Diameter:P3\",round(P3,2),\"N/mm**2\"\n",
      "print\"                                       :P4\",round(P4,2),\"N/mm**2\"\n",
      "print\"Max stress at Horizontal Diameter      :  \",round(q_max2,2),\"N/mm**2\""
     ],
     "language": "python",
     "metadata": {},
     "outputs": [
      {
       "output_type": "stream",
       "stream": "stdout",
       "text": [
        "Principal Stresses at vertical Diameter:P1 11.55 N/mm**2\n",
        "                                       :P2 -11.51 N/mm**2\n",
        "Max stress at vertical Diameter        :   11.53 N/mm**2\n",
        "Principal Stresses at Horizontal Diameter:P3 11.53 N/mm**2\n",
        "                                       :P4 -11.53 N/mm**2\n",
        "Max stress at Horizontal Diameter      :   11.53 N/mm**2\n"
       ]
      }
     ],
     "prompt_number": 20
    },
    {
     "cell_type": "heading",
     "level": 2,
     "metadata": {},
     "source": [
      "Example No.7.20,Page No.302"
     ]
    },
    {
     "cell_type": "code",
     "collapsed": false,
     "input": [
      "import math\n",
      "import numpy as np\n",
      "\n",
      "#Initilization of Variables\n",
      "\n",
      "d1=100 #mm #External Diameter\n",
      "d2=50  #mm #Internal Diameter\n",
      "N=500  #mm #r.p.m\n",
      "P=60*10**6 #N-mm/sec #Power\n",
      "p=100 #N/mm**2 #principal stress\n",
      "\n",
      "#Calculations\n",
      "\n",
      "#M.I\n",
      "I=pi*(d1**4-d2**4)*64**-1 #mm**4\n",
      "\n",
      "#Bending Stress\n",
      "#f=M*I*d1*2**-1 #N/mm**2\n",
      "\n",
      "#Principal Planes\n",
      "#p_x=32*M*(pi*(d1**4-d2**4))*d1\n",
      "#p_y=0\n",
      "\n",
      "#Shear stress\n",
      "#q=T*J**-1*(d1*2**-1)\n",
      "#After sub values and further simplifying we get\n",
      "#q=16*T*d1*(pi*(d1**4-d2**4))*d1\n",
      "\n",
      "#Principal stresses\n",
      "#P1=(p_x+p_y)*2**-1+(((p_x-p_y)*2**-1)**2+q**2)**0.5 #N/mm**2\n",
      "#After sub values and further simplifying we get\n",
      "#P1=16*(pi*(d1**4-d2**4))*d1*(M+(M**2+t**2)**0.5)  ...............(1)\n",
      "\n",
      "#P=2*pi*N*T*60**-1\n",
      "#After sub values and further simplifying we get\n",
      "T=P*60*(2*pi*N)**-1*10**-6 #N-mm\n",
      "\n",
      "#Again Sub values and further simplifying Equation 1 we get\n",
      "M=(337.533)*(36.84)**-1 #KN-m\n",
      "\n",
      "#Min Principal stress\n",
      "#P2=(p_x+p_y)*2**-1-(((p_x-p_y)*2**-1)**2+q**2)**0.5 #N/mm**2\n",
      "#Sub values and further simplifying we get\n",
      "P2=16*(pi*(d1**4-d2**4))*d1*(M-(M**2+T**2)**0.5)*10**-11\n",
      "\n",
      "#Result\n",
      "print\"Bending Moment safely applied to shaft is\",round(M,2),\"KN-m\"\n",
      "print\"Min Principal Stress is\",round(P2,3),\"N/mm**2\""
     ],
     "language": "python",
     "metadata": {},
     "outputs": [
      {
       "output_type": "stream",
       "stream": "stdout",
       "text": [
        "Bending Moment safely applied to shaft is 9.16 KN-m\n",
        "Min Principal Stress is -0.336 N/mm**2\n"
       ]
      }
     ],
     "prompt_number": 32
    },
    {
     "cell_type": "heading",
     "level": 2,
     "metadata": {},
     "source": [
      "Example No.7.21,Page No.303"
     ]
    },
    {
     "cell_type": "code",
     "collapsed": false,
     "input": [
      "import math\n",
      "import numpy as np\n",
      "\n",
      "#Initilization of Variables\n",
      "\n",
      "d=150 #mm #Diameter\n",
      "T=20*10**6 #N #Torque\n",
      "M=12*10**6 #N-mm #B.M\n",
      "F=200*10**3 #N #Axial Thrust\n",
      "\n",
      "#Calculations\n",
      "\n",
      "#M.I\n",
      "I=(pi*64**-1*d**4)\n",
      "\n",
      "#Bending stress \n",
      "f_A=M*I**-1*(d*2**-1) #N/mm**2\n",
      "f_B=-f_A #N/mm**2\n",
      "\n",
      "#Axial thrust due to thrust\n",
      "sigma=F*(pi*4**-1*d**2)**-1\n",
      "\n",
      "#At A\n",
      "p_x=f_A-sigma #N/mm**2\n",
      "\n",
      "#At B\n",
      "p_x2=f_B-sigma #N/mm**2\n",
      "\n",
      "p_y=0 #At A and B\n",
      "\n",
      "#Polar Modulus\n",
      "J=pi*32**-1*d**4 #mm**4\n",
      "\n",
      "#Shearing stress at A and B\n",
      "q=T*J**-1*(d*2**-1) #N/mm**2\n",
      "\n",
      "\n",
      "#Principal Stresses\n",
      "#At A\n",
      "P1=(p_x+p_y)*2**-1+(((p_x-p_y)*2**-1)**2+q**2)**0.5 #N/mm**2\n",
      "P2=(p_x+p_y)*2**-1-(((p_x-p_y)*2**-1)**2+q**2)**0.5 #N/mm**2\n",
      "\n",
      "#Max shear stress\n",
      "q_max1=(((p_x-p_y)*2**-1)**2+q**2)**0.5 #N/mm**2\n",
      "\n",
      "#At B\n",
      "P1_2=(p_x2+p_y)*2**-1+(((p_x2-p_y)*2**-1)**2+q**2)**0.5 #N/mm**2\n",
      "P2_2=(p_x2+p_y)*2**-1-(((p_x2-p_y)*2**-1)**2+q**2)**0.5 #N/mm**2\n",
      "\n",
      "#Max shear stress\n",
      "q_max2=(((p_x2-p_y)*2**-1)**2+q**2)**0.5 #N/mm**2\n",
      "\n",
      "\n",
      "#Result\n",
      "print\"MAx Principal Stresses:P1\",round(P1,2),\"N/mm**2\"\n",
      "print\"                      :P2\",round(P2,2),\"N/mm**2\"\n",
      "print\"Min Principal Stresses:P1_2\",round(P1_2,2),\"N/mm**2\"\n",
      "print\"                      :P2_2\",round(P2_2,2),\"N/mm**2\""
     ],
     "language": "python",
     "metadata": {},
     "outputs": [
      {
       "output_type": "stream",
       "stream": "stdout",
       "text": [
        "MAx Principal Stresses:P1 45.1 N/mm**2\n",
        "                      :P2 -20.2 N/mm**2\n",
        "Min Principal Stresses:P1_2 14.65 N/mm**2\n",
        "                      :P2_2 -62.18 N/mm**2\n"
       ]
      }
     ],
     "prompt_number": 19
    },
    {
     "cell_type": "heading",
     "level": 2,
     "metadata": {},
     "source": [
      "Example No.7.22,Page No.311"
     ]
    },
    {
     "cell_type": "code",
     "collapsed": false,
     "input": [
      "import math\n",
      "import numpy as np\n",
      "\n",
      "#Initilization of Variables\n",
      "\n",
      "#strains\n",
      "e_A=500 #microns\n",
      "e_B=250 #microns\n",
      "e_C=-150 #microns\n",
      "E=2*10**5 #N/mm**2 #Modulus of Elasticity\n",
      "mu=0.3 #Poissoin's ratio\n",
      "theta=45 #Degrees\n",
      "\n",
      "#Calculations\n",
      "\n",
      "e_x=e_A=500\n",
      "e_45=e_B=250\n",
      "e_y=e_C=-150 \n",
      "\n",
      "#e_45=(e_x+e_y)*2**-1+(e_x-e_y)*2**-1*cos(2*theta)+rho_x_y*2**-1*sin(2*theta)\n",
      "#After sub values and further simplifying we get\n",
      "rho_x_y=(e_45-(e_x+e_y)*2**-1-(e_x-e_y)*2**-1*cos(2*theta*pi*180**-1))*(sin(2*theta*pi*180**-1))**-1*2\n",
      "\n",
      "#Principal strains are given by\n",
      "e1=(e_x+e_y)*2**-1+(((e_x-e_y)*2**-1)**2+(rho_x_y*2**-1)**2)**0.5 #microns\n",
      "e2=(e_x+e_y)*2**-1-(((e_x-e_y)*2**-1)**2+(rho_x_y*2**-1)**2)**0.5 #microns\n",
      "\n",
      "#Principal Stresses\n",
      "sigma1=E*(e1+mu*e2)*(1-mu**2)**-1*10**-6 #N/mm**2\n",
      "sigma2=E*(e2+mu*e1)*(1-mu**2)**-1*10**-6 #N/mm**2\n",
      "\n",
      "#Result\n",
      "print\"Principal Strains are:e1\",round(e1,2),\"N/mm**2\"\n",
      "print\"                     :e2\",round(e2,2),\"N/mm**2\"\n",
      "print\"Principal Stresses are:sigma1\",round(sigma1,2),\"N/mm**2\"\n",
      "print\"                      :sigma2\",round(sigma2,2),\"N/mm**2\""
     ],
     "language": "python",
     "metadata": {},
     "outputs": [
      {
       "output_type": "stream",
       "stream": "stdout",
       "text": [
        "Principal Strains are:e1 508.54 N/mm**2\n",
        "                     :e2 -158.54 N/mm**2\n",
        "Principal Stresses are:sigma1 101.31 N/mm**2\n",
        "                      :sigma2 -1.31 N/mm**2\n"
       ]
      }
     ],
     "prompt_number": 10
    },
    {
     "cell_type": "heading",
     "level": 2,
     "metadata": {},
     "source": [
      "Example No.7.23,Page No.313"
     ]
    },
    {
     "cell_type": "code",
     "collapsed": false,
     "input": [
      "import math\n",
      "import numpy as np\n",
      "\n",
      "#Initilization of Variables\n",
      "\n",
      "#Strains\n",
      "e_A=600 #microns\n",
      "e_B=-450 #microns\n",
      "e_C=100 #micron\n",
      "E=2*10**5 #N/mm**2 #Modulus of Elasticity\n",
      "mu=0.3 #Poissoin's ratio\n",
      "theta=240\n",
      "\n",
      "#Calculations\n",
      "\n",
      "e_x=e_A=600\n",
      "\n",
      "#e_A=(e_x+e_y)*2**-1+(e_x-e_y)*2**-1*cos(theta)+rho_x_y*2**-1*sin(theta)\n",
      "#After sub values and further simplifying we get\n",
      "#-450=(e_x+e_y)*2**-1-(e_x-e_y)*2**-1*(0.5)-0.866*2**-1*rho_x_y   .....................(1)\n",
      "\n",
      "#e_C=(e_x+e_y)*2**-1+(e_x-e_y)*2**-1*cos(2*theta)+rho_x_y*2**-1*sin(2*theta)\n",
      "#After sub values and further simplifying we get\n",
      "#100=(e_x+e_y)*2**-1-0.5*(e_x-e_y)*2**-1*(0.5)-0.866*2**-1*rho_x_y   .....................(2)\n",
      "\n",
      "#Adding Equation 1 and 2 we get equations as\n",
      "#-350=e_x+e_y-(e_x-e_y)*2**-1    ...............(3)\n",
      "#Further simplifying we get\n",
      "\n",
      "e_y=(-700-e_x)*3**-1    #micron              \n",
      "\n",
      "rho_x_y=(e_C-(e_x+e_y)*2**-1-(e_x-e_y)*2**-1*cos(2*theta*pi*180**-1))*(sin(2*theta*pi*180**-1))**-1*2 #micron\n",
      "\n",
      "#Principal strains\n",
      "e1=(e_x+e_y)*2**-1-(((e_x-e_y)*2**-1)**2+(rho_x_y*2**-1)**2)**0.5 #microns\n",
      "e2=(e_x+e_y)*2**-1+(((e_x-e_y)*2**-1)**2+(rho_x_y*2**-1)**2)**0.5 #microns\n",
      "\n",
      "#Principal Stresses\n",
      "sigma1=E*(e1+mu*e2)*(1-mu**2)**-1*10**-6 #N/mm**2\n",
      "sigma2=E*(e2+mu*e1)*(1-mu**2)**-1*10**-6 #N/mm**2\n",
      "\n",
      "\n",
      "#Result\n",
      "print\"Principal Stresses are:sigma1\",round(sigma1,2),\"N/mm**2\"\n",
      "print\"                      :sigma2\",round(sigma2,2),\"N/mm**2\""
     ],
     "language": "python",
     "metadata": {},
     "outputs": [
      {
       "output_type": "stream",
       "stream": "stdout",
       "text": [
        "Principal Stresses are:sigma1 -69.49 N/mm**2\n",
        "                      :sigma2 117.11 N/mm**2\n"
       ]
      }
     ],
     "prompt_number": 18
    }
   ],
   "metadata": {}
  }
 ]
}