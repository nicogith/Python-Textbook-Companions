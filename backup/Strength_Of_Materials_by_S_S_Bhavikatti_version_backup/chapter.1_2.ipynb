{
 "metadata": {
  "name": "chapter no.1.ipynb"
 },
 "nbformat": 3,
 "nbformat_minor": 0,
 "worksheets": [
  {
   "cells": [
    {
     "cell_type": "heading",
     "level": 1,
     "metadata": {},
     "source": [
      "Chapter No.1:Introduction"
     ]
    }
   ],
   "metadata": {}
  }
 ]
}