{
 "metadata": {
  "name": "",
  "signature": "sha256:1481d1999e9016b92221ce8448ff32599db545d782d2bf3365587f6b7e7a231e"
 },
 "nbformat": 3,
 "nbformat_minor": 0,
 "worksheets": [
  {
   "cells": [
    {
     "cell_type": "heading",
     "level": 1,
     "metadata": {},
     "source": [
      "Chapter6- Laminar Flow Between Solid Boundaries"
     ]
    },
    {
     "cell_type": "heading",
     "level": 2,
     "metadata": {},
     "source": [
      "Ex1-pg196"
     ]
    },
    {
     "cell_type": "code",
     "collapsed": false,
     "input": [
      "import math\n",
      "#calculate Reynolds number and Maximum velocity and Volumetric flow rate and \"Pressure gradient along the pipe\n",
      "RD=0.83;\n",
      "rho_w=1000.; ## density of water in kg/m^3\n",
      "v=2.3; ## m/s\n",
      "d=0.012; ## m\n",
      "u=0.08; ## dynamic viscocity in kg/m/s\n",
      "\n",
      "rho_oil=RD*rho_w;\n",
      "\n",
      "Re=rho_oil*v*d/u;\n",
      "print'%s %.1f %s'%(\"Reynolds number =\",Re,\"\")\n",
      "\n",
      "v_max=2*v;\n",
      "print'%s %.1f %s'%(\"Maximum velocity =\",v_max,\"m/s^-1\")\n",
      "\n",
      "\n",
      "Q=math.pi/4*d**2*v;\n",
      "print'%s %.2f %s'%(\"Volumetric flow rate =\",Q,\"m^3/s^-1\")\n",
      "\n",
      "\n",
      "p=-128.*Q*u/math.pi/d**4;\n",
      "print'%s %.3f %s'%(\"Pressure gradient along the pipe = \",p,\"Pa/m^-1\")"
     ],
     "language": "python",
     "metadata": {},
     "outputs": [
      {
       "output_type": "stream",
       "stream": "stdout",
       "text": [
        "Reynolds number = 286.3 \n",
        "Maximum velocity = 4.6 m/s^-1\n",
        "Volumetric flow rate = 0.00 m^3/s^-1\n",
        "Pressure gradient along the pipe =  -40888.889 Pa/m^-1\n"
       ]
      }
     ],
     "prompt_number": 1
    },
    {
     "cell_type": "heading",
     "level": 2,
     "metadata": {},
     "source": [
      "Ex2-pg203"
     ]
    },
    {
     "cell_type": "code",
     "collapsed": false,
     "input": [
      "import math\n",
      "#calculate Rate at which oil must be supplied\n",
      "c=0.001; ## m\n",
      "p1=15*10**3; ## Pa\n",
      "u=0.6; ## kg/m/s\n",
      "R=6.; ## ratio of R2/R1\n",
      "\n",
      "Q=math.pi*c**3*p1/(6*u*math.log(R));\n",
      "print'%s %.8f %s'%(\"Rate at which oil must be supplied =\",Q,\"m^3/s\")\n",
      "#without round off error we cant get exact result \n"
     ],
     "language": "python",
     "metadata": {},
     "outputs": [
      {
       "output_type": "stream",
       "stream": "stdout",
       "text": [
        "Rate at which oil must be supplied = 0.00000731 m^3/s\n"
       ]
      }
     ],
     "prompt_number": 2
    },
    {
     "cell_type": "heading",
     "level": 2,
     "metadata": {},
     "source": [
      "Ex3-pg206"
     ]
    },
    {
     "cell_type": "code",
     "collapsed": false,
     "input": [
      "import math\n",
      "#calculate \"The load the pad will support and The rate at which oil must be supplied\n",
      "F=6*10**3; ## Pa\n",
      "b=0.12; ## m\n",
      "\n",
      "f=F*b;\n",
      "print'%s %.f %s'%(\"The load the pad will support =\",f,\"N/m\")\n",
      "\n",
      "\n",
      "dp=12*10**3; ## N/m^2\n",
      "dx=0.12; ## m\n",
      "c=0.00018; ## m\n",
      "u=0.5; ## kg/m/s\n",
      "V=5.; ## m/s\n",
      "\n",
      "q=(dp/dx)*c**3/12./u + V*c/2.;\n",
      "print'%s %.5f %s'%(\"The rate at which oil must be supplied =\",q,\"m^2/s\")\n"
     ],
     "language": "python",
     "metadata": {},
     "outputs": [
      {
       "output_type": "stream",
       "stream": "stdout",
       "text": [
        "The load the pad will support = 720 N/m\n",
        "The rate at which oil must be supplied = 0.00045 m^2/s\n"
       ]
      }
     ],
     "prompt_number": 3
    },
    {
     "cell_type": "heading",
     "level": 2,
     "metadata": {},
     "source": [
      "Ex4-pg209"
     ]
    },
    {
     "cell_type": "code",
     "collapsed": false,
     "input": [
      "import math\n",
      "#calculate \"Velocity of the dashpot\n",
      "d_p=0.05; ## diameter of piston in m\n",
      "d_c=0.0504; ## diameter of cylinder in m\n",
      "SG=0.87;\n",
      "rho_w=1000.; ## kg/m^3\n",
      "v=10**-4; ## m^2/s\n",
      "dp=1.4*10**6; ## Pa\n",
      "l=0.13; ## m\n",
      "\n",
      "c=(d_c-d_p)/2.; ## clearance\n",
      "\n",
      "u=SG*rho_w*v; ## Dynamice viscocity\n",
      "\n",
      "Vp=dp*c**3/(6.*u*l*(d_p/2.+c));\n",
      "print'%s %.4f %s'%(\"Velocity of the dashpot =\",Vp,\"m/s\")\n"
     ],
     "language": "python",
     "metadata": {},
     "outputs": [
      {
       "output_type": "stream",
       "stream": "stdout",
       "text": [
        "Velocity of the dashpot = 0.0065 m/s\n"
       ]
      }
     ],
     "prompt_number": 5
    },
    {
     "cell_type": "heading",
     "level": 2,
     "metadata": {},
     "source": [
      "Ex5-pg214"
     ]
    },
    {
     "cell_type": "code",
     "collapsed": false,
     "input": [
      "import math\n",
      "\n",
      "#calculate Dynamic viscosity and Kinematic viscosity and Reynolds number of sphere and Reynolds number\n",
      "\n",
      "d=0.00475; ## m\n",
      "g=9.81; ## m/s^2\n",
      "rho_s=1151.; ## kg/m^3\n",
      "rho=880.; ## kg/m^3\n",
      "u=0.006; ## m/s\n",
      "\n",
      "F=math.pi/6.*d**3*g*(rho_s-rho);\n",
      "\n",
      "rat_d=0.25; ## ratio of d/D\n",
      "rat_F=1.8; ## ratio of F/Fo\n",
      "\n",
      "dynamic=F/(1.8*3*math.pi*u*d);\n",
      "\n",
      "kinematic=dynamic/rho;\n",
      "\n",
      "print'%s %.3f %s'%(\"Dynamic viscosity = \",dynamic,\"kg/m/s\")\n",
      "\n",
      "\n",
      "print'%s %.5f %s'%(\"Kinematic viscosity =\",kinematic,\"m^2/s\")\n",
      "\n",
      "\n",
      "print(\"Reynolds number of sphere \")\n",
      "\n",
      "Re=rho*u*d/dynamic;\n",
      "print'%s %.3f %s'%(\"Reynolds number =\",Re,\"\")\n",
      "\n"
     ],
     "language": "python",
     "metadata": {},
     "outputs": [
      {
       "output_type": "stream",
       "stream": "stdout",
       "text": [
        "Dynamic viscosity =  0.309 kg/m/s\n",
        "Kinematic viscosity = 0.00035 m^2/s\n",
        "Reynolds number of sphere \n",
        "Reynolds number = 0.081 \n"
       ]
      }
     ],
     "prompt_number": 6
    },
    {
     "cell_type": "heading",
     "level": 2,
     "metadata": {},
     "source": [
      "Ex6-pg218"
     ]
    },
    {
     "cell_type": "code",
     "collapsed": false,
     "input": [
      "import math\n",
      "#calculate viscosity of the liquid \n",
      "D=0.120; ## m\n",
      "h=0.08; ## m\n",
      "c=0.001; ## m\n",
      "t=0.01875; ## m\n",
      "rev=65.; ## revolutions per min\n",
      "T=4*10**-3; ## N.m\n",
      "\n",
      "K1=math.pi*h/4./c;\n",
      "K2=math.pi/32./t;\n",
      "\n",
      "u=T/(rev*2*math.pi/60.)/(K1*D**3+K2*D**4);\n",
      "print'%s %.4f %s'%(\"viscosity of the liquid =\",u,\"pa.s\")\n"
     ],
     "language": "python",
     "metadata": {},
     "outputs": [
      {
       "output_type": "stream",
       "stream": "stdout",
       "text": [
        "viscosity of the liquid = 0.0054 pa.s\n"
       ]
      }
     ],
     "prompt_number": 7
    },
    {
     "cell_type": "heading",
     "level": 2,
     "metadata": {},
     "source": [
      "Ex7-pg229"
     ]
    },
    {
     "cell_type": "code",
     "collapsed": false,
     "input": [
      "import math\n",
      "#calculate Volumetric flow rate of oil and The load supported by the bearing\n",
      "V=10.; ## m/s\n",
      "h1=0.0005; ## m\n",
      "h2=0.00025; ## m\n",
      "L=0.1; ## m\n",
      "b=0.1; ## m\n",
      "RD=0.87;\n",
      "u=2*10**-4; ## m^2/s\n",
      "rho_w=1000.; ## kg/m^3\n",
      "\n",
      "H=h1/h2;\n",
      "\n",
      "Q=V/2*(1+H**2)/(1+H**3)*b*h1;\n",
      "print'%s %.5f %s'%(\"Volumetric flow rate of oil =\",Q,\"m^3/s\")\n",
      "\n",
      "\n",
      "F=V/2.*(1.-(1.+H**2)/(1.+H**3))*12.*RD*rho_w*u/h1**2*L**2/4.*b;\n",
      "print'%s %.1f %s'%(\"The load supported by the bearing =\",F,\"N\")\n"
     ],
     "language": "python",
     "metadata": {},
     "outputs": [
      {
       "output_type": "stream",
       "stream": "stdout",
       "text": [
        "Volumetric flow rate of oil = 0.00014 m^3/s\n",
        "The load supported by the bearing = 4640.0 N\n"
       ]
      }
     ],
     "prompt_number": 8
    }
   ],
   "metadata": {}
  }
 ]
}