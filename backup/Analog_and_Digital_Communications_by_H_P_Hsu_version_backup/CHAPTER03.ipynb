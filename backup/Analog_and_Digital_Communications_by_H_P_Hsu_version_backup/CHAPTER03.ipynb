{
 "metadata": {
  "name": "",
  "signature": "sha256:7baac9edb2128ede2f66bcc8790788a8e9bd4ebfa3d83c78364ed1ad1c37e3be"
 },
 "nbformat": 3,
 "nbformat_minor": 0,
 "worksheets": [
  {
   "cells": [
    {
     "cell_type": "heading",
     "level": 1,
     "metadata": {},
     "source": [
      "CHAPTER03:AMPLITUDE"
     ]
    },
    {
     "cell_type": "heading",
     "level": 2,
     "metadata": {},
     "source": [
      "Example E07 : Pg 3.14"
     ]
    },
    {
     "cell_type": "code",
     "collapsed": false,
     "input": [
      "# Page Number: 3.14\n",
      "# Example 3.7\n",
      "# Given\n",
      "# (a)efficiency=((u**2)/(2+(u**2)))\n",
      "u=0.5;\n",
      "n=((u**2.)/(2.+(u**2.)));\n",
      "np=n*100.;\n",
      "print\"Efficiney: \",round(np,2),\"%\"\n",
      "\n",
      "# (b)nmax,\n",
      "# nmax occurs at u=1;\n",
      "u1=1.;\n",
      "nmax=((u1**2.)/(2.+(u1**2.)));\n",
      "nmaxp=nmax*100.;\n",
      "print\"Efficiney max: \",nmaxp,\"%\""
     ],
     "language": "python",
     "metadata": {},
     "outputs": [
      {
       "output_type": "stream",
       "stream": "stdout",
       "text": [
        "Efficiney:  11.11 %\n",
        "Efficiney max:  33.3333333333 %\n"
       ]
      }
     ],
     "prompt_number": 1
    },
    {
     "cell_type": "heading",
     "level": 2,
     "metadata": {},
     "source": [
      "Example E08 : Pg 3.14"
     ]
    },
    {
     "cell_type": "code",
     "collapsed": false,
     "input": [
      "# Page Number: 3.14\n",
      "# Example 3.8\n",
      "# Given\n",
      "# From waveform\n",
      "Amax=150.;\n",
      "Amin=30.;\n",
      "\n",
      "# (a)Modulation index\n",
      "u=((Amax-Amin)/(Amax+Amin));\n",
      "print\"Modulation Index: \",round(u,2)\n",
      "\n",
      "Ac=(Amax/(1.+u));\n",
      "# (b)\n",
      "# Carrier Power\n",
      "Pc=(Ac**2.)/2.;\n",
      "print\"Carrier Power: \",round(Pc,2),\"W\"\n",
      "\n",
      "# Side band Power\n",
      "PSB=(Amin**2.)/2.;\n",
      "print\"USB=LSB Power: \",round(PSB,2),\"W\"\n",
      "\n",
      "# Total Average power\n",
      "Pt=Pc+(2.*PSB);\n",
      "print\"Total Average Power: \",round(Pt,2),\"W\"\n",
      "\n",
      "# (c)Peak Envelope Power\n",
      "# Given\n",
      "R=60; # Ohm\n",
      "PEP=(Amax**2)/(2*R);\n",
      "print\"Peak Envelope Power: \",round(PEP),\"W\"\n",
      "\n",
      "# (d) Modulation Efficieny\n",
      "n=PSB/Pt;\n",
      "print\"Modulation efficieny: \",round(n,2)\n",
      "\n",
      "# (e) Given\n",
      "# (i) u=0.2\n",
      "u1=0.2;\n",
      "A1=(60./u1)-Ac;\n",
      "print\"A=\",round(A1)\n",
      "\n",
      "# (ii) u=0.8\n",
      "u2=0.8;\n",
      "A2=(60./u2)-Ac;\n",
      "print \"A=\",round(A2)"
     ],
     "language": "python",
     "metadata": {},
     "outputs": [
      {
       "output_type": "stream",
       "stream": "stdout",
       "text": [
        "Modulation Index:  0.67\n",
        "Carrier Power:  4050.0 W\n",
        "USB=LSB Power:  450.0 W\n",
        "Total Average Power:  4950.0 W\n",
        "Peak Envelope Power:  188.0 W\n",
        "Modulation efficieny:  0.09\n",
        "A= 210.0\n",
        "A= -15.0\n"
       ]
      }
     ],
     "prompt_number": 2
    }
   ],
   "metadata": {}
  }
 ]
}