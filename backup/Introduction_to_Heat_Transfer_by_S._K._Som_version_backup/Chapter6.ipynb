{
 "cells": [
  {
   "cell_type": "markdown",
   "metadata": {
    "collapsed": true
   },
   "source": [
    "# Chapter 06:Incompressible viscous flow: A brief review"
   ]
  },
  {
   "cell_type": "markdown",
   "metadata": {},
   "source": [
    "## Ex6.1:pg-226"
   ]
  },
  {
   "cell_type": "code",
   "execution_count": 10,
   "metadata": {
    "collapsed": false
   },
   "outputs": [
    {
     "name": "stdout",
     "output_type": "stream",
     "text": [
      "Introduction to heat transfer by S.K.Som, Chapter 6, Example 1\n",
      "Umax in m/s is\n",
      "Umax= 1.6\n",
      "The shear stress T in N/m**2\n",
      "T= 64.0\n",
      "(dp/dx) in N/m**3 is\n",
      "X= -19200.0\n",
      "The Shear stress at a distance of 0.002m from the lower plate in N/m**2\n",
      "t= -57.6\n",
      "The shear stress at a distance of 0.002m from the upper plate in N/m**2\n",
      "t= 57.6\n",
      "The opposite signs in t represents the opposite directions.The plus sign is in the direction of flow and the minus sign is in the direction opposite to the flow \n",
      "The pressure drop over a distance of 2m in N/m**2 is\n",
      "deltaP= 38400.0\n"
     ]
    }
   ],
   "source": [
    "import math\n",
    " \n",
    "print\"Introduction to heat transfer by S.K.Som, Chapter 6, Example 1\"\n",
    " #Oil of specific gravity 0.90 and dynamic viscosity (mu=0.1Pa*s) flows between two fixed plates kept 2*b=10mm apart,So b=5mm.\n",
    "#The average velocity is Uav=1.60m/s\n",
    "Uav=1.60;\n",
    "mu=0.1;\n",
    "b=0.005;  #in metre\n",
    " #Umax is maximum velocity\n",
    " Umax=(3/2)*Uav\n",
    "print\"Umax in m/s is\"\n",
    "Umax=(3/2)*Uav\n",
    "print\"Umax=\",Umax\n",
    " #The shear stress at the plate is given by T=2*Âµ*(Umax/b)\n",
    "print\"The shear stress T in N/m**2\"\n",
    "T=2*mu*(Umax/b) \n",
    " #The shear sress at a distance from plate is given by t=y*(dp/dx)\n",
    "#(dp/dx)=X=-3*mu*(Uav/b**2)\n",
    "print\"T=\",T\n",
    "print\"(dp/dx) in N/m**3 is\"\n",
    "X=-3*mu*(Uav/b**2)\n",
    " #Taking modulus of X by multipying it with negative sign.\n",
    "print\"X=\",X\n",
    "print\"The Shear stress at a distance of 0.002m from the lower plate in N/m**2\"\n",
    "y=b-0.002;\n",
    "t=y*(X) #NOTE:Answer given in the book is incorrect (Calculation mistake)\n",
    "print\"t=\",t\n",
    "print\"The shear stress at a distance of 0.002m from the upper plate in N/m**2\"\n",
    "t=-y*(X) #NOTE:Answer given in the book is incorrect (Calculation mistake)\n",
    "print\"t=\",t\n",
    "print\"The opposite signs in t represents the opposite directions.The plus sign is in the direction of flow and the minus sign is in the direction opposite to the flow \"\n",
    " #deltaP is the pressure drop\n",
    "print\"The pressure drop over a distance of 2m in N/m**2 is\"\n",
    " #Since pressure drop is considered at a distance of 2m so L=2m\n",
    "L=2;\n",
    "deltaP=(-X)*L\n",
    "print\"deltaP=\",deltaP"
   ]
  },
  {
   "cell_type": "markdown",
   "metadata": {},
   "source": [
    "## Ex6.3:pg-229"
   ]
  },
  {
   "cell_type": "code",
   "execution_count": 14,
   "metadata": {
    "collapsed": false
   },
   "outputs": [
    {
     "name": "stdout",
     "output_type": "stream",
     "text": [
      "Introduction to heat transfer by S.K.Som, Chapter 6, Example 3\n",
      "The rate of change of pressure with respect to length in N/m**3\n",
      "X= 2000\n",
      "Flow rate(Q) in m**3/s is)\n",
      "Q= 0.00333333333333\n",
      "The viscosity of oil(mu)in kg/(m*s)\n",
      "mu= 0.0920388472731\n"
     ]
    }
   ],
   "source": [
    "import math\n",
    " \n",
    "print\"Introduction to heat transfer by S.K.Som, Chapter 6, Example 3\"\n",
    " #Oil of specific gravity (sg)=0.90 is discharged at a rate(mdot)=3kg/s under a pressure difference dp=10KN/m**2 over a length dz=5m of a pipe having a diameter(D) of 50mm.\n",
    "dp=10*10**3; #in N/m**2\n",
    "dz=5;\n",
    "D=0.05; #in metre\n",
    "mdot=3;\n",
    "sg=0.90;\n",
    " #X=dp/dz is the rate of change of pressure\n",
    "print\"The rate of change of pressure with respect to length in N/m**3\"\n",
    "X=dp/dz\n",
    "print\"X=\",X\n",
    " #Flow rate is Q\n",
    "print\"Flow rate(Q) in m**3/s is)\"\n",
    "Q=mdot/(sg*10**3)\n",
    "print\"Q=\",Q\n",
    " #The viscosity of oil is mu=(pi*D**4*X)/(128*Q*dz)\n",
    "print\"The viscosity of oil(mu)in kg/(m*s)\"\n",
    "mu=(math.pi*D**4*X)/(128*Q)\n",
    "print\"mu=\",mu"
   ]
  },
  {
   "cell_type": "markdown",
   "metadata": {},
   "source": [
    "## Ex6.7:pg-250   "
   ]
  },
  {
   "cell_type": "code",
   "execution_count": 16,
   "metadata": {
    "collapsed": false
   },
   "outputs": [
    {
     "name": "stdout",
     "output_type": "stream",
     "text": [
      " Introduction to heat transfer by S.K.Som, Chapter 6, Example 7\n",
      "The maximum length of plate in m is \n",
      "L= 2.5\n",
      "The average skin friction coefficient is\n",
      "cfL= 1.328\n",
      "Drag force on one side of plate in N is\n",
      "Fd= 21.5136\n"
     ]
    }
   ],
   "source": [
    "import math\n",
    " \n",
    "print\"Introduction to heat transfer by S.K.Som, Chapter 6, Example 7\"\n",
    " #A flat plate B=1.2m wide and of length L is kept parallel to a uniform stream of air of velocity Uinf=3m/s in a wind tunnel.\n",
    "Uinf=3;\n",
    "B=1.2;\n",
    " #If it is desired to have a laminar boundary layer only on the plate \n",
    "#Assume that the laminar flow exists up to a reynold number(ReL)=5*10**5.Take density of air as rhoair=1.2kg/m**3 and viscosity of air as nuair=1.5*10**-5 m**2/s.\n",
    "nuair=1.5*10**-5;\n",
    "rhoair=1.2;\n",
    "ReL=5*10**5;\n",
    " #For maximum length of the plate reynolds number is ReL=Uinf*L/nuair\n",
    "#so L=ReL*nuair/Uinf\n",
    "print\"The maximum length of plate in m is \"\n",
    "L=ReL*nuair/Uinf\n",
    "print\"L=\",L\n",
    " #The average skin friction coefficient is cfL=1.328/(ReL)**(1/2)\n",
    "print\"The average skin friction coefficient is\"\n",
    "cfL=1.328/(ReL)**(1/2)\n",
    "print\"cfL=\",cfL\n",
    " #Fd is drag force\n",
    "print\"Drag force on one side of plate in N is\"\n",
    "Fd=cfL*(rhoair*Uinf**2/2)*B*L\n",
    "print\"Fd=\",Fd"
   ]
  },
  {
   "cell_type": "markdown",
   "metadata": {},
   "source": [
    "## Ex6.10:pg-268   "
   ]
  },
  {
   "cell_type": "code",
   "execution_count": 17,
   "metadata": {
    "collapsed": false
   },
   "outputs": [
    {
     "name": "stdout",
     "output_type": "stream",
     "text": [
      "Introduction to heat transfer by S.K.Som, Chapter 6, Example 10\n",
      "Wind velocity(Uinf)in m/s is\n",
      "Uinf= 10\n",
      "Reynolds number is\n",
      "ReL= 4000000.0\n",
      "Friction coefficient is\n",
      "CbarfL= 0.0735645\n",
      "Drag force on one side of the plate per unit metre width in Newton is \n",
      "FD= 26.48322\n",
      "The turbulent boundary layer thickness at the trailing edge in metre is \n",
      "delta= 2.274\n"
     ]
    }
   ],
   "source": [
    "import math\n",
    " \n",
    "print\"Introduction to heat transfer by S.K.Som, Chapter 6, Example 10\"\n",
    " #Wind at a speed of U=36km/hr blows over a flat plate of length,L=6m .If the density and kinematic viscosity of air are rho=1.2kg/m**3 and mu=1.5*10**-5m**2/s respectively.\n",
    "U=36;\n",
    "L=6;\n",
    "rho=1.2;\n",
    "mu=1.5*10**-5;\n",
    " #Wind velocity in m/s is Uinf\n",
    "print\"Wind velocity(Uinf)in m/s is\"\n",
    "Uinf=U*1000/3600\n",
    "print\"Uinf=\",Uinf\n",
    " #Reynolds number is given by ReL=L*Uinf/mu\n",
    "print\"Reynolds number is\"\n",
    "ReL=L*Uinf/mu\n",
    "print\"ReL=\",ReL\n",
    " #We consider that transition of boundary layer takes place from laminar to turbulent takes place at ReL=5*10**5.\n",
    "#Therfore the corresponding friction coefficient is given by  CbarfL=(0.074-ReL**(1/5))-(1742/ReL)\n",
    "print\"Friction coefficient is\"\n",
    "CbarfL=(0.074/ReL**(1/5))-(1742/ReL)\n",
    "print\"CbarfL=\",CbarfL\n",
    " #Drag force on one side of the plate per unit metre width is given by FD=CbarfL*rho*Uinf**2*L/2\n",
    "print\"Drag force on one side of the plate per unit metre width in Newton is \"\n",
    "FD=CbarfL*rho*Uinf**2*L/2\n",
    "print\"FD=\",FD\n",
    " #The turbulent boundary layer thickness at the trailing edge is given by delta=L*(0.379/ReL**(1/5))\n",
    "print\"The turbulent boundary layer thickness at the trailing edge in metre is \"\n",
    "delta=L*(0.379/ReL**(1/5))\n",
    "print\"delta=\",delta"
   ]
  }
 ],
 "metadata": {
  "kernelspec": {
   "display_name": "Python 2",
   "language": "python",
   "name": "python2"
  },
  "language_info": {
   "codemirror_mode": {
    "name": "ipython",
    "version": 2
   },
   "file_extension": ".py",
   "mimetype": "text/x-python",
   "name": "python",
   "nbconvert_exporter": "python",
   "pygments_lexer": "ipython2",
   "version": "2.7.11"
  }
 },
 "nbformat": 4,
 "nbformat_minor": 0
}
