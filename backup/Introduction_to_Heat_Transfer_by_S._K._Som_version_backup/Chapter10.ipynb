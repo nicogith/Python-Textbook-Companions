{
 "cells": [
  {
   "cell_type": "markdown",
   "metadata": {
    "collapsed": true
   },
   "source": [
    "# Chapter 10:Principles of heat exchangers"
   ]
  },
  {
   "cell_type": "markdown",
   "metadata": {},
   "source": [
    "## Ex10.1:pg-415"
   ]
  },
  {
   "cell_type": "code",
   "execution_count": 1,
   "metadata": {
    "collapsed": false
   },
   "outputs": [
    {
     "name": "stdout",
     "output_type": "stream",
     "text": [
      "Introduction to heat transfer by S.K.Som, Chapter 10, Example 1\n",
      "The rate of heat transfer from water is given by Q=mdot*cp*(T3-T4) in W\n",
      "Q= 11286.0\n",
      "(a) For a parallel flow arrangement\n",
      "LMTD is given by (deltaT2-deltaT1)/(ln(deltaT2/deltaT1)) in Â°C \n",
      "LMTD= 35.4699026617\n",
      "Area(A)=Q/(U*LMTD) in m**2\n",
      "A= 0.397731567932\n",
      "(b)For counterflow arrangement\n",
      "LMTD=(deltaT2-deltaT1)/(ln(deltaT2/deltaT1))inÂ°C \n",
      "LMTD= 36.3143018164\n",
      "Area(A)=Q/(U*LMTD) in m**2\n",
      "A= 0.38848330532\n"
     ]
    }
   ],
   "source": [
    "import math\n",
    " \n",
    "print\"Introduction to heat transfer by S.K.Som, Chapter 10, Example 1\"\n",
    "#A brine solution is heated from temprature ,T1=8Â°C to temprature,T2=14Â°C in a double pipe heat exchanger.\n",
    "T1=8.0;\n",
    "T2=14.0;\n",
    "#Water entering at temprature T3=55Â°C and leaving at temprature,T4=40Â°C at the mass flow rate of (mdot)=0.18kg/s\n",
    "mdot=0.18;\n",
    "T3=55.0;\n",
    "T4=40.0;\n",
    "#Specific heat (cp) of water =4.18kJ/(kg*K)\n",
    "cp=4.18*10**3;\n",
    "#overall heat transfer coefficient(U)=800 W/(m**2*K)\n",
    "U=800.0;\n",
    "#The rate of heat transfer from water is given by Q=mdot*cp*(T3-T4)\n",
    "print\"The rate of heat transfer from water is given by Q=mdot*cp*(T3-T4) in W\"\n",
    "Q=mdot*cp*(T3-T4)\n",
    "print\"Q=\",Q\n",
    "print\"(a) For a parallel flow arrangement\"\n",
    "#For a parallel flow arrangement deltaT1=T3-T1 and deltaT2=T4-T2. \n",
    "deltaT1=T3-T1;#deltaT1 is temprature difference \n",
    "deltaT2=T4-T2;#deltaT2 is temprature difference \n",
    "#LMTD(math.log mean temprature difference) is defined as (deltaT2-deltaT1)/(ln(deltaT2/deltaT1)) for both parallel and counter flow.\n",
    "print\"LMTD is given by (deltaT2-deltaT1)/(ln(deltaT2/deltaT1)) in Â°C \"\n",
    "#let X=math.log10((deltaT2/deltaT1)) and Y=math.log10(2.718281)\n",
    "X=math.log10((deltaT2/deltaT1));\n",
    "Y=math.log10(2.718281);\n",
    "#ln=(ln(deltaT2/deltaT1))\n",
    "ln=X/Y;\n",
    "LMTD=(deltaT2-deltaT1)/ln\n",
    "print\"LMTD=\",LMTD\n",
    "#Area(A)=Q/(U*LMTD) in m**2\n",
    "print\"Area(A)=Q/(U*LMTD) in m**2\"\n",
    "A=Q/(U*LMTD)\n",
    "print\"A=\",A\n",
    "print\"(b)For counterflow arrangement\"\n",
    "deltaT1=T3-T2;\n",
    "deltaT2=T4-T1;\n",
    "print\"LMTD=(deltaT2-deltaT1)/(ln(deltaT2/deltaT1))inÂ°C \"\n",
    "X=math.log10((deltaT2/deltaT1));\n",
    "Y=math.log10(2.718281);\n",
    "ln=X/Y;\n",
    "LMTD=(deltaT2-deltaT1)/ln\n",
    "print\"LMTD=\",LMTD\n",
    "print\"Area(A)=Q/(U*LMTD) in m**2\"\n",
    "A=Q/(U*LMTD)\n",
    "print\"A=\",A"
   ]
  },
  {
   "cell_type": "markdown",
   "metadata": {},
   "source": [
    "## Ex10.2:pg-416"
   ]
  },
  {
   "cell_type": "code",
   "execution_count": 3,
   "metadata": {
    "collapsed": false
   },
   "outputs": [
    {
     "name": "stdout",
     "output_type": "stream",
     "text": [
      "Introduction to heat transfer by S.K.Som, Chapter 10, Example 2\n",
      "The inlet temprature(Tc1) of cold oil in Â°C \n",
      "Tc1= 55.0948103792\n",
      "The rate of heat transfer Q=mdoth*ch*(Th1-Th2) in W\n",
      "Q= 190190.0\n",
      "LMTD is given by (deltaT2-deltaT1)/(ln(deltaT2/deltaT1)) in Â°C \n",
      "LMTD= 28.996452611\n",
      "Area(A)=Q/(U*LMTD) in m**2\n",
      "A= 10.0908895279\n"
     ]
    }
   ],
   "source": [
    "import math\n",
    " \n",
    "print\"Introduction to heat transfer by S.K.Som, Chapter 10, Example 2\"\n",
    "#Hot oil(specific heat,ch=2.09kJ/(kg*K)) flows through counter flow heat excahnger at the mass flow rate of mdoth=(0.7kg/s)\n",
    "ch=2.09*10**3;\n",
    "mdoth=0.7;\n",
    "#overall heat transfer coefficient(U)=650 W/(m**2*K)\n",
    "U=650;\n",
    "#It enters at temprature,Th1=200Â°C and leaves at temprature,Th2=70Â°C \n",
    "Th1=200;\n",
    "Th2=70;\n",
    "#Cold oil(specific heat,cc=1.67kJ/(kg*K) exits at temprature,Tc2=150Â°C at the mass flow rate of mdotc=(1.2kg/s)\n",
    "mdotc=1.2;\n",
    "cc=1.67*10**3;\n",
    "Tc2=150;\n",
    "#The unknown inlet temprature(Tc1) of cold oil may be found from energy balance mdotc*(Tc2-Tc1)=mdoth*(Th2-Th1)\n",
    "print\"The inlet temprature(Tc1) of cold oil in Â°C \"\n",
    "Tc1=Tc2-((mdoth*ch)/(mdotc*cc))*(Th1-Th2)\n",
    "print\"Tc1=\",Tc1\n",
    "#The rate of heat transfer can be calculate as Q=mdoth*ch*(Th1-Th2)\n",
    "print\"The rate of heat transfer Q=mdoth*ch*(Th1-Th2) in W\"\n",
    "Q=mdoth*ch*(Th1-Th2)\n",
    "deltaT1=Th1-Tc2;\n",
    "print\"Q=\",Q\n",
    "#deltaT1 is temprature difference between hot oil inlet temprature and cold oil exit temprature\n",
    "deltaT2=Th2-Tc1;\n",
    "#deltaT2 is temprature difference between hot oil exit temprature and cold oil inlet temprature\n",
    "#LMTD(math.log mean temprature difference) is defined as (deltaT2-deltaT1)/(ln(deltaT2/deltaT1)) for counter flow.\n",
    "print\"LMTD is given by (deltaT2-deltaT1)/(ln(deltaT2/deltaT1)) in Â°C \"\n",
    "#let X=log10((deltaT2/deltaT1)) and Y=log10(2.718281)\n",
    "X=math.log10((deltaT2/deltaT1));\n",
    "Y=math.log10(2.718281);\n",
    "#ln=(ln(deltaT2/deltaT1))\n",
    "ln=X/Y;\n",
    "LMTD=(deltaT2-deltaT1)/ln\n",
    "print\"LMTD=\",LMTD\n",
    "#Area(A)=Q/(U*LMTD) in m**2\n",
    "print\"Area(A)=Q/(U*LMTD) in m**2\"\n",
    "A=Q/(U*LMTD)\n",
    "print\"A=\",A"
   ]
  },
  {
   "cell_type": "markdown",
   "metadata": {},
   "source": [
    "## Ex10.3:pg-417"
   ]
  },
  {
   "cell_type": "code",
   "execution_count": 5,
   "metadata": {
    "collapsed": false
   },
   "outputs": [
    {
     "name": "stdout",
     "output_type": "stream",
     "text": [
      "Introduction to heat transfer by S.K.Som, Chapter 10, Example 3\n",
      "The outlet temprature(Tho) of oil in Â°C \n",
      "Tho= 70.6666666667\n",
      "For a counterflow heat exchanger\n",
      "deltaT1= 10\n",
      "deltaT2= 20.6666666667\n",
      "LMTD is given by (deltaT2-deltaT1)/(ln(deltaT2/deltaT1)) in Â°C \n",
      "LMTD= 14.6936488511\n",
      "dimensionless parameters P and R are\n",
      "P= 0\n",
      "R= 0.733333333333\n",
      "correction factor(F) for the cross flow arrangement as obtained from graph of F vs Single Pass flow with fluids unmixed\n",
      "Q= 167200.0\n",
      "overall heat transfer coefficient(U)=Q/(A*F*LMTD)in W/(m**2*K)\n",
      "U= 758.604399737\n"
     ]
    }
   ],
   "source": [
    "import math\n",
    " \n",
    "print\"Introduction to heat transfer by S.K.Som, Chapter 10, Example 3\"\n",
    "#A cross flow heat exchanger with both fluids unmixed is used to heat water((specific heat,cc=4.18kJ/(kg*K)) from temprature Tci=50Â°C to Tco=90Â°C \n",
    "#flowing at the mass flow rate of (mdotc)=1kg/s\n",
    "Tci=50;\n",
    "Tco=90;\n",
    "cc=4.18*10**3;\n",
    "mdotc=1;\n",
    "#The hot engine oil has (specific heat,ch=1.9kJ/(kg*K)) flowing at the mass flow rate of mdoth=3kg/s enters at temprature Thi=100Â°C\n",
    "mdoth=3;\n",
    "Thi=100;\n",
    "ch=1.9*10**3;\n",
    "#The unknown outlet temprature(Tho) of  oil may be found from energy balance mdotc*(Tco-Tci)=mdoth*(Tho-Thi)\n",
    "print\"The outlet temprature(Tho) of oil in Â°C \"\n",
    "Tho=Thi-((mdotc*cc)/(mdoth*ch))*(Tco-Tci)\n",
    "print\"Tho=\",Tho\n",
    "print\"For a counterflow heat exchanger\"\n",
    "deltaT1=Thi-Tco;#deltaT1 is temprature difference \n",
    "deltaT2=Tho-Tci;#deltaT2 is temprature difference \n",
    "print\"deltaT1=\",deltaT1\n",
    "print\"deltaT2=\",deltaT2\n",
    "#LMTD(math.log mean temprature difference) is defined as (deltaT2-deltaT1)/(ln(deltaT2/deltaT1)) for counter flow.\n",
    "print\"LMTD is given by (deltaT2-deltaT1)/(ln(deltaT2/deltaT1)) in Â°C \"\n",
    "#let X=log10((deltaT2/deltaT1)) and Y=log10(2.718281)\n",
    "X=math.log10((deltaT2/deltaT1));\n",
    "Y=math.log10(2.718281);\n",
    "ln=X/Y;\n",
    "LMTD=(deltaT2-deltaT1)/ln\n",
    "print\"LMTD=\",LMTD\n",
    "#Area(A)=20m**2\n",
    "A=20;\n",
    "#We have to employ correction factor(F) for the cross flow arrangement.\n",
    "#We evaluate dimensionless parameters P=(Tco-Tci)/(Thi-Tco) and R=(Thi-Tho)/(Tco-Tci).\n",
    "print\"dimensionless parameters P and R are\"\n",
    "P=(Tco-Tci)/(Thi-Tci)\n",
    "R=(Thi-Tho)/(Tco-Tci)\n",
    "print\"P=\",P\n",
    "print\"R=\",R\n",
    "print\"correction factor(F) for the cross flow arrangement as obtained from graph of F vs Single Pass flow with fluids unmixed\"\n",
    "F=0.75\n",
    "#The rate of heat transfer can be calculate as Q=mdoth*ch*(Th1-Th2)\n",
    "Q=mdotc*cc*(Tco-Tci);\n",
    "print\"Q=\",Q\n",
    "#overall heat transfer coefficient(U)=Q/(A*F*LMTD)\n",
    "print\"overall heat transfer coefficient(U)=Q/(A*F*LMTD)in W/(m**2*K)\"\n",
    "U=Q/(A*F*LMTD)\n",
    "print\"U=\",U"
   ]
  },
  {
   "cell_type": "markdown",
   "metadata": {},
   "source": [
    "## Ex10.5:pg-419"
   ]
  },
  {
   "cell_type": "code",
   "execution_count": 7,
   "metadata": {
    "collapsed": false
   },
   "outputs": [
    {
     "name": "stdout",
     "output_type": "stream",
     "text": [
      "Introduction to heat transfer by S.K.Som, Chapter 10, Example 5\n",
      "(a)Applying LMTD method\n",
      "The rate of heat transfer Q=mdotw*cpw*(Tout-Tin) in W\n",
      "Q= 300960.0\n",
      "The unknown outlet temprature(Thout) of geothermal fluid  in Â°C \n",
      "Thout= 125.085846868\n",
      "LMTD is given by (deltaT2-deltaT1)/(ln(deltaT2/deltaT1)) in Â°C \n",
      "LMTD= 81.903612671\n",
      "Area(A)=Q/(U*LMTD) in m**2\n",
      "A= 6.12427197827\n",
      "To provide this surface area ,The length(L) of the tube required is given by L=A/(pi*D) in m\n",
      "L= 129.961087757\n",
      "(b)Applying NTU method\n",
      "The heat capacity rates are defined as Ch=mdoth*cph and Cc=mdotw*cpw in KW/Â°C\n",
      "Ch= 8.62\n",
      "Cc= 5.016\n",
      "C=Cmin/Cmax\n",
      "C= 0.581902552204\n",
      "Heat transfer effectiveness is defined as eff=Q/(Cmin*(Thin-Tin))\n",
      "eff= 0.461538461538\n",
      "NTU is determined by NTU=(1/(C-1))*ln((eff-1)/(eff*C-1))\n",
      "NTU= 0.732568418453\n",
      "Area(A)=(NTU*Cmin)/U in m**2\n",
      "A= 6.12427197827\n",
      "To provide this surface area ,The length(L) of the tube required is given by L=A/(pi*D) in m\n",
      "Hence same result is obtained for both methods\n",
      "L= 129.961087757\n"
     ]
    }
   ],
   "source": [
    "import math\n",
    " \n",
    "print\"Introduction to heat transfer by S.K.Som, Chapter 10, Example 5\"\n",
    "#Water is heated from temprature ,Tin=30Â°C  to Tout=90Â°C  in a counter flow double pipe heat exchanger.\n",
    "Tin=30;\n",
    "Tout=90;\n",
    "#Water flows at a mass flow rate of mdotw=1.2kg/s\n",
    "mdotw=1.2;\n",
    "#The heating is accomplished by a geothermal fluid which enters the heat exchanger at temprature ,Thin=160Â°C at the mass flow rate of mdoth=2kg/s\n",
    "mdoth=2;\n",
    "Thin=160;\n",
    "#The inner tube is thin walled having diameter(D)=15mm or 0.015m\n",
    "D=0.015;\n",
    "#overall heat transfer coefficient(U)=600 W/(m**2*K)\n",
    "U=600;\n",
    "#The specific heat of water and geothermal fluid is (cpw=4.18kJ/(kg*K))and(cph=4.31kJ/(kg*K)) respectively\n",
    "cpw=4.18*10**3;\n",
    "cph=4.31*10**3;\n",
    "#The rate of heat transfer in heat exchanger can be calculate as Q=mdotw*cpw*(Tout-Tin)\n",
    "print\"(a)Applying LMTD method\"\n",
    "print\"The rate of heat transfer Q=mdotw*cpw*(Tout-Tin) in W\"\n",
    "Q=mdotw*cpw*(Tout-Tin)\n",
    "print\"Q=\",Q\n",
    "#The unknown outlet temprature(Thout) of geothermal fluid may be found from energy balance mdotw*cpw*(Tout-Tin)=mdoth*cph*(Thin-Thout)\n",
    "print\"The unknown outlet temprature(Thout) of geothermal fluid  in Â°C \"\n",
    "Thout=Thin-Q/(mdoth*cph)\n",
    "print\"Thout=\",Thout\n",
    "deltaT1=Thin-Tout;#Temprature difference between inlet temprature of hot fluid and outlet temprature of cold fluid\n",
    "deltaT2=Thout-Tin;#Temprature difference between outlet temprature of hot fluid and inlet temprature of cold fluid\n",
    "#LMTD is defined as (deltaT2-deltaT1)/(ln(deltaT2/deltaT1)) for counter flow.\n",
    "print\"LMTD is given by (deltaT2-deltaT1)/(ln(deltaT2/deltaT1)) in Â°C \"\n",
    "#let X=math.log10((deltaT2/deltaT1))and Y=math.log10(2.718281)\n",
    "X=math.log10((deltaT2/deltaT1));\n",
    "Y=math.log10(2.718281);\n",
    "ln=X/Y;\n",
    "LMTD=(deltaT2-deltaT1)/ln\n",
    "print\"LMTD=\",LMTD\n",
    "#Area(A)=Q/(U*LMTD) in m**2\n",
    "print\"Area(A)=Q/(U*LMTD) in m**2\"\n",
    "A=Q/(U*LMTD)\n",
    "print\"A=\",A\n",
    "print\"To provide this surface area ,The length(L) of the tube required is given by L=A/(pi*D) in m\"\n",
    "L=A/(math.pi*D)\n",
    "print\"L=\",L\n",
    "print\"(b)Applying NTU method\"\n",
    "#The heat capacity rates are defined as Ch=mdoth*cph and Cc=mdotw*cw in KW/Â°C\n",
    "print\"The heat capacity rates are defined as Ch=mdoth*cph and Cc=mdotw*cpw in KW/Â°C\"\n",
    "Ch=(mdoth*cph)/1000\n",
    "Cc=(mdotw*cpw)/1000\n",
    "print\"Ch=\",Ch\n",
    "print\"Cc=\",Cc\n",
    "#So Cmin=Cc and Cmax=Ch\n",
    "Cmin=Cc;\n",
    "Cmax=Ch;\n",
    "#C is defined as Cmin/Cmax\n",
    "print\"C=Cmin/Cmax\"\n",
    "C=Cmin/Cmax\n",
    "print\"C=\",C\n",
    "#Heat transfer effectiveness is (eff)\n",
    "print\"Heat transfer effectiveness is defined as eff=Q/(Cmin*(Thin-Tin))\"\n",
    "eff=(Q/1000)/(Cmin*(Thin-Tin))\n",
    "print\"eff=\",eff\n",
    "print\"NTU is determined by NTU=(1/(C-1))*ln((eff-1)/(eff*C-1))\"\n",
    "#let X=math.log10((eff-1)/(eff*C-1)) and Y=math.log10(2.718281)\n",
    "X=math.log10((eff-1)/(eff*C-1));\n",
    "Y=math.log10(2.718281);\n",
    "#ln=ln((eff-1)/(eff*C-1))\n",
    "ln=X/Y;\n",
    "#NTU is Number of transfer units\n",
    "NTU=(1/(C-1))*ln\n",
    "print\"NTU=\",NTU\n",
    "#NTU =U*A/Cmin\n",
    "print\"Area(A)=(NTU*Cmin)/U in m**2\"\n",
    "A=(NTU*Cmin*1000)/U\n",
    "print\"A=\",A\n",
    "print\"To provide this surface area ,The length(L) of the tube required is given by L=A/(pi*D) in m\"\n",
    "L=A/(math.pi*D)\n",
    "print\"Hence same result is obtained for both methods\"\n",
    "print\"L=\",L"
   ]
  },
  {
   "cell_type": "markdown",
   "metadata": {},
   "source": [
    "## Ex10.6:pg-422"
   ]
  },
  {
   "cell_type": "code",
   "execution_count": 8,
   "metadata": {
    "collapsed": false
   },
   "outputs": [
    {
     "name": "stdout",
     "output_type": "stream",
     "text": [
      "Introduction to heat transfer by S.K.Som, Chapter 10, Example 6\n",
      "NTU is defined as (U*A)/Cmin \n",
      "NTU= 1.86170212766\n",
      "Heat transfer effectiveness(eff) is defined as (1-e**(-NTU*(1-C))/(1-C*e**(-NTU*(1-C))\n",
      "eff= 0.683715054322\n",
      "The total heat transfer rate (Q)=eff*Cmin*(Thi-Tci) in kW\n",
      "Q= 163.886498521\n"
     ]
    }
   ],
   "source": [
    "import math\n",
    " \n",
    "print\"Introduction to heat transfer by S.K.Som, Chapter 10, Example 6\"\n",
    "#Water having specific heat,cw=4.18kJ/(kg*K) enters a counterflow double pipe heat exchanger at temprature,Tci=35Â°C flowing at the mass flow rate of mdotw=0.8 kg/s.\n",
    "cw=4.18;\n",
    "mdotw=0.8;\n",
    "Tci=35;\n",
    "#It is heated by oil having specific heat,co=1.88kJ/(kg*K) flowing at the mass flow rate of mdoto=1.5 kg/s from an inlet temprature(Thi) of 120Â°C.\n",
    "co=1.88;\n",
    "mdoto=1.5;\n",
    "Thi=120;\n",
    "#For an area(A) of 15m**2 and an overall heat transfer coefficient(U) of 350W/(m**2*K).\n",
    "A=15;\n",
    "U=350;\n",
    "#Cwater and Co are heat capacities for water and oil respectively\n",
    "#Cwater=mdotw*cw and Co=mdoto*co\n",
    "Cwater=mdotw*cw;\n",
    "Co=mdoto*co;\n",
    "#C=Cmin/Cmax\n",
    "Cmin=min(Cwater,Co);\n",
    "Cmax=max(Cwater,Co);\n",
    "C=Cmin/Cmax;\n",
    "#NTU is number of transfer units\n",
    "#NTU=(U*A)/Cmin\n",
    "print\"NTU is defined as (U*A)/Cmin \"\n",
    "NTU=(U*A)/(Cmin*1000)\n",
    "print\"NTU=\",NTU\n",
    "#Heat transfer effectiveness(eff) is defined as (1-e**(-NTU*(1-C))/(1-C*e**(-NTU*(1-C))\n",
    "print\"Heat transfer effectiveness(eff) is defined as (1-e**(-NTU*(1-C))/(1-C*e**(-NTU*(1-C))\"\n",
    "eff=(1-math.e**(-NTU*(1-C)))/(1-C*math.e**(-NTU*(1-C)))\n",
    "print\"eff=\",eff\n",
    "#Hence The total heat transfer rate (Q)=eff*Cmin*(Thi-Tci)in kW.\n",
    "print\"The total heat transfer rate (Q)=eff*Cmin*(Thi-Tci) in kW\"                           \n",
    "Q=eff*Cmin*(Thi-Tci)\n",
    "print\"Q=\",Q"
   ]
  },
  {
   "cell_type": "markdown",
   "metadata": {},
   "source": [
    "## Ex10.7:pg-424 "
   ]
  },
  {
   "cell_type": "code",
   "execution_count": 9,
   "metadata": {
    "collapsed": false
   },
   "outputs": [
    {
     "name": "stdout",
     "output_type": "stream",
     "text": [
      "Introduction to heat transfer by S.K.Som, Chapter 10, Example 7\n",
      "NTU is defined as (U*A)/Cmin \n",
      "NTU= 5.44554455446\n",
      "The effectiveness of heat exchanger is\n",
      "eff= 9.98333889769\n",
      "The total heat transfer rate(Q)=eff*Cmin*(Thi-Tci) in W\n",
      "Q= 10587330.901\n",
      "The exit temprature of air in Â°C \n",
      "Tho= -923.250584257\n"
     ]
    }
   ],
   "source": [
    "import math\n",
    " \n",
    "print\"Introduction to heat transfer by S.K.Som, Chapter 10, Example 7\"\n",
    "#Water enters a cross flow heat exchanger (both fluids unmixed) at temprature(Tci)=20Â°C amd flows at a mass flow rate of mdotw=7kg/s\n",
    "Tci=20;\n",
    "mdotw=7;\n",
    "#The air flows at a mass flow rate of mdota=10kg/s from Temprature(Thi)=125Â°C \n",
    "mdota=10;\n",
    "Thi=125;\n",
    "#The overall heat transfer coefficient(U)=220W/(m**2*K)and Area(A)=250m**2.\n",
    "U=220;\n",
    "A=250;\n",
    "#The specific heat of air (cpa=1.01kJ/(kg*K)) and water is (cpw=4.18kJ/(kg*K))\n",
    "cpa=1.01;\n",
    "cpw=4.18;\n",
    "#Cair and Cwater are heat capacities of air and water respectively\n",
    "Cair=mdota*cpa;\n",
    "Cwater=mdotw*cpw;\n",
    "#C=Cmin/Cmax\n",
    "Cmin=min(Cwater,Cair);\n",
    "Cmax=max(Cwater,Cair);\n",
    "C=Cmin/Cmax;\n",
    "#NTU is number of transfer units\n",
    "#NTU=(U*A)/Cmin\n",
    "print\"NTU is defined as (U*A)/Cmin \"\n",
    "NTU=(U*A)/(Cmin*1000)\n",
    "print\"NTU=\",NTU\n",
    "#To determine the effectiveness of heat exchanger we have to find out the suitable expression \n",
    "#For this type of heat exchanger The effectiveness(eff)is determined by (1-e**((NTU**.22*(e**-(C*NTU**0.78)-1)/C)\n",
    "print\"The effectiveness of heat exchanger is\"\n",
    "eff=(1-math.e**((NTU**0.22))*(math.e**(-C*NTU**0.78)-1)/C)\n",
    "print\"eff=\",eff\n",
    "#Hence The total heat transfer rate(Q)=eff*Cmin*(Thi-Tci)in W.\n",
    "print\"The total heat transfer rate(Q)=eff*Cmin*(Thi-Tci) in W\"\n",
    "Q=eff*Cmin*1000*(Thi-Tci)\n",
    "print\"Q=\",Q\n",
    "#The exit temprature(Tho) of air is given by Thi-(Q/(mdota*cpa))\n",
    "print\"The exit temprature of air in Â°C \"\n",
    "Tho=Thi-(Q/(mdota*1000*cpa))#NOTE:-The answer slightly varies from the answer in book(i.e Tho=26Â°C) because the value of Q taken in book is approximated to 1*10**6W.\n",
    "print\"Tho=\",Tho"
   ]
  },
  {
   "cell_type": "markdown",
   "metadata": {},
   "source": [
    "## Ex10.8:pg-437"
   ]
  },
  {
   "cell_type": "code",
   "execution_count": 10,
   "metadata": {
    "collapsed": false
   },
   "outputs": [
    {
     "name": "stdout",
     "output_type": "stream",
     "text": [
      "Introduction to heat transfer by S.K.Som, Chapter 10, Example 8\n",
      "(a)Considering a parallel flow arrangement \n",
      "Tho= 50\n",
      "The minimum flow rate required for the oil in kg/s\n",
      "mdoth= 2.22340425532\n",
      "(b)Theoretical question\n",
      "If LMTD--->0,Then for a finite value of heat transfer rate U*A--->infinity.For a given finite length this implies value of U which is not possible.\n",
      "(c)Let us consider a counter flow arrangement\n",
      "The minimum flow rate required for the oil in kg/s\n",
      "Ch= 2.78666666667\n",
      "Cc= 8.36\n",
      "Effectiveness of heat exchanger is \n",
      "eff= 1.0\n"
     ]
    }
   ],
   "source": [
    "import math\n",
    " \n",
    "print\"Introduction to heat transfer by S.K.Som, Chapter 10, Example 8\"\n",
    "#A double pipe heat exchanger of length(L)=0.30m is to be used to heat water(specific heat,cc=4.18kJ/(kg*K)) and mass flow rate(mdotw=2kg/s)\n",
    "L=0.30;\n",
    "cc=4.18;\n",
    "mdotw=2;\n",
    "#The water enters at temprature(Tci)=25Â°C  and leaves at temprature(Tco)=50Â°C\n",
    "#The flow rate of oil is mdoth\n",
    "Tci=25;\n",
    "Tco=50; \n",
    "#The oil used as hot fluid has(specific heat,ch=1.88kJ/(kg*K)) and has inlet temprature(Thi)=100Â°C \n",
    "ch=1.88;\n",
    "Thi=100;\n",
    "print\"(a)Considering a parallel flow arrangement \"\n",
    "#For minimum value of mdoth\n",
    "#The theoretical minimum value of outlet temprature of hot fluid(Tho) under this situation is equal to Tco\n",
    "Tho=Tco;\n",
    "print\"Tho=\",Tho\n",
    "#The mass flow rate of oil is given by energy balance as mdoth=(mdotw*cpw*(Tco-Tci))/(cph*(Thi-Tho))\n",
    "print\"The minimum flow rate required for the oil in kg/s\"\n",
    "mdoth=(mdotw*cc*(Tco-Tci))/(ch*(Thi-Tho))\n",
    "print\"mdoth=\",mdoth\n",
    "print\"(b)Theoretical question\"\n",
    "print\"If LMTD--->0,Then for a finite value of heat transfer rate U*A--->infinity.For a given finite length this implies value of U which is not possible.\"\n",
    "print\"(c)Let us consider a counter flow arrangement\"\n",
    "#In this case value of Tho=Tci.\n",
    "Tho=Tci;\n",
    "#The mass flow rate of oil is given by energy balance as mdoth=(mdotw*cpw*(Tco-Tci))/(cph*(Thi-Tho))\n",
    "print\"The minimum flow rate required for the oil in kg/s\"\n",
    "mdoth=(mdotw*cc*(Tco-Tci))/(ch*(Thi-Tci))\n",
    "#Now Heat capacities are Ch=mdoth*ch and Cc=mdotw*cc\n",
    "Ch=mdoth*ch; \n",
    "Cc=mdotw*cc;\n",
    "print\"Ch=\",Ch\n",
    "print\"Cc=\",Cc\n",
    "Cmin=min(Ch,Cc);#minimum heat capacity in Ch and Cc \n",
    "#Effectiveness of heat exchanger is eff.\n",
    "#Tho=Tci for this kind of arrangement\n",
    "Tho=Tci;\n",
    "print\"Effectiveness of heat exchanger is \"\n",
    "eff=(mdoth*ch*(Thi-Tho))/(mdoth*ch*(Thi-Tci))\n",
    "print\"eff=\",eff"
   ]
  }
 ],
 "metadata": {
  "kernelspec": {
   "display_name": "Python 2",
   "language": "python",
   "name": "python2"
  },
  "language_info": {
   "codemirror_mode": {
    "name": "ipython",
    "version": 2
   },
   "file_extension": ".py",
   "mimetype": "text/x-python",
   "name": "python",
   "nbconvert_exporter": "python",
   "pygments_lexer": "ipython2",
   "version": "2.7.11"
  }
 },
 "nbformat": 4,
 "nbformat_minor": 0
}
