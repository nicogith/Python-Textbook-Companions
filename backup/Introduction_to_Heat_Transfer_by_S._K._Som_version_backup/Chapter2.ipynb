{
 "cells": [
  {
   "cell_type": "markdown",
   "metadata": {
    "collapsed": true
   },
   "source": [
    "# Chapter 02:One dimensional steady-state heat conduction"
   ]
  },
  {
   "cell_type": "markdown",
   "metadata": {},
   "source": [
    "## Ex2.1:pg-33"
   ]
  },
  {
   "cell_type": "code",
   "execution_count": 1,
   "metadata": {
    "collapsed": false
   },
   "outputs": [
    {
     "name": "stdout",
     "output_type": "stream",
     "text": [
      "Introduction to heat transfer by S.K.Som, Chapter 2, Example 1\n",
      "The convective resistance Ro= 1/(ho*A) at the outer surface in KW**-1 is\n",
      "Ro= 0.0666666666667\n",
      "The conduction resistance Rs= Ls/(ks*A) of steel sheet in KW**-1 is\n",
      "Rs= 8e-05\n",
      "The conduction resistance Rg= Lg/(kg*A) of glass wool in KW**-1 is\n",
      "Rg= 2.66666666667\n",
      "The conduction resistance Rp= Lp/(kp*A) of plywood in KW**-1 is\n",
      "Rp= 0.266666666667\n",
      "The convective resistance Ri= 1/(hi*A) at the outer surface in KW**-1 is\n",
      "Ri= 0.111111111111\n",
      "The rate of heat flow Q=(To-Ti)/(Ro+Rs+Rg+Rp+Ri) in W is\n",
      "Q= 12.5353919471\n",
      "The temprature at the outer surface of wall is T1=To-(Q*Ro) in Â°C\n",
      "T1= 23.1643072035\n",
      "The temprature at the interface b/w steel sheet and glass wool is T2=T1-(Q*Rs) inÂ°C\n",
      "T2= 23.1633043722\n",
      "The temprature at the interface b/w glass wool and plywood is T3=T2-(Q*Rg) inÂ°C\n",
      "T3= -10.2644074867\n",
      "The temprature at the inner surface of wall is T4=T3-(Q*Rp)in Â°C\n",
      "T4= -13.6071786725\n",
      "Check for Ti(in Â°C)\n",
      "The value is same as given in the problem\n",
      "Ti= -15.0\n"
     ]
    }
   ],
   "source": [
    "import math\n",
    " \n",
    "print\"Introduction to heat transfer by S.K.Som, Chapter 2, Example 1\"\n",
    "#The length of steel sheet (Ls)=1.5 mm and thermal conductivity (ks)=25 W/(mK) at the outer surface.\n",
    "Ls=1.5;\n",
    "ks=25;\n",
    "#The length of plywood (Lp)=10 mm and thermal conductivity (kp)= .05 W/(mK) at the inner surface.\n",
    "Lp=10;\n",
    "kp=.05;\n",
    "#The length of glass wool (Lg)=20 mm and thermal conductivity (kg)= .01W/(mK) in between steel sheet and plywood.\n",
    "Lg=20;\n",
    "kg=.01;\n",
    "#The temprature of van inside cold Enviroment is (Ti)= -15Â°C  while the outside surface is exposed to a surrounding ambient temprature (To)=24Â°C \n",
    "To=24;\n",
    "Ti=-15;\n",
    "#The average value of heat transfer coefficients at the inner and outside surfaces of the wall are hi=12 W/(m**2*K) and ho= 20 W/(m**2*K) \n",
    "hi=12;\n",
    "ho=20;\n",
    "#The surface area of wall (A)= .75 m**2 \n",
    "A=.75;\n",
    "#The convective resistance is Ro= 1/(ho*A) at the outer surface\n",
    "print\"The convective resistance Ro= 1/(ho*A) at the outer surface in KW**-1 is\"\n",
    "Ro=1/(ho*A)\n",
    "print\"Ro=\",Ro\n",
    "#The conduction resistance is Rs= Ls/(ks*A) of steel sheet\n",
    "print\"The conduction resistance Rs= Ls/(ks*A) of steel sheet in KW**-1 is\"\n",
    "Rs=Ls*10**-3/(ks*A)\n",
    "print\"Rs=\",Rs\n",
    "#The conduction resistance is Rg= Lg/(kg*A) of glass wool\n",
    "print\"The conduction resistance Rg= Lg/(kg*A) of glass wool in KW**-1 is\"\n",
    "Rg= Lg*10**-3/(kg*A)\n",
    "print\"Rg=\",Rg\n",
    "#The conduction resistance is Rp= Lp/(kp*A) of plywood\n",
    "print\"The conduction resistance Rp= Lp/(kp*A) of plywood in KW**-1 is\"\n",
    "Rp= Lp*10**-3/(kp*A)\n",
    "print\"Rp=\",Rp\n",
    "#The convective resistance is Ri= 1/(hi*A) at the outer surface\n",
    "print\"The convective resistance Ri= 1/(hi*A) at the outer surface in KW**-1 is\"\n",
    "Ri= 1/(hi*A)\n",
    "print\"Ri=\",Ri\n",
    "#The rate of heat flow is Q=(To-Ti)/(Ro+Rs+Rg+Rp+Ri)\n",
    "print\"The rate of heat flow Q=(To-Ti)/(Ro+Rs+Rg+Rp+Ri) in W is\"\n",
    "Q=(To-Ti)/(Ro+Rs+Rg+Rp+Ri)\n",
    "print\"Q=\",Q\n",
    "#The tempraure at the outer surface of wall is T1.\n",
    "#The temprature at the interface b/w steel sheet and glass wool is T2.\n",
    "#The temprature at the interface b/w glass wool and plywood is T3.\n",
    "#The tempraure at the inner surface of wall is T4.\n",
    "print\"The temprature at the outer surface of wall is T1=To-(Q*Ro) in Â°C\"\n",
    "T1=To-(Q*Ro)\n",
    "print\"T1=\",T1\n",
    "print\"The temprature at the interface b/w steel sheet and glass wool is T2=T1-(Q*Rs) inÂ°C\"\n",
    "T2=T1-(Q*Rs)\n",
    "print\"T2=\",T2\n",
    "print\"The temprature at the interface b/w glass wool and plywood is T3=T2-(Q*Rg) inÂ°C\"\n",
    "T3=T2-(Q*Rg)\n",
    "print\"T3=\",T3\n",
    "print\"The temprature at the inner surface of wall is T4=T3-(Q*Rp)in Â°C\"\n",
    "T4=T3-(Q*Rp)\n",
    "print\"T4=\",T4\n",
    "#Check for Ti(Temprature inside the van)\n",
    "print\"Check for Ti(in Â°C)\"\n",
    "Ti=T4-(Q*Ri)\n",
    "print\"The value is same as given in the problem\"\n",
    "print\"Ti=\",Ti"
   ]
  },
  {
   "cell_type": "markdown",
   "metadata": {},
   "source": [
    "## Ex2.2:pg-36"
   ]
  },
  {
   "cell_type": "code",
   "execution_count": 1,
   "metadata": {
    "collapsed": false
   },
   "outputs": [
    {
     "name": "stdout",
     "output_type": "stream",
     "text": [
      "Introduction to heat transfer by S.K.Som, Chapter 2, Example 2\n",
      "The thickness of insulating material L=ki*(((Ti-To)/Q)-(Lb/kb)) in m\n",
      "L= 0.056\n"
     ]
    }
   ],
   "source": [
    "import math\n",
    " \n",
    "print\"Introduction to heat transfer by S.K.Som, Chapter 2, Example 2\"\n",
    "#The Thickness of fire clay bricks (Lb)=.2 m\n",
    "Lb=0.2;\n",
    "#The thermal conductivity of fire clay bricks(kb)=1.0 W/(m*K)\n",
    "kb=1;\n",
    "#the Thicknes of insulating material is L\n",
    "#The thermal conductivity of insulating material(ki)=.07 W/(m*K)\n",
    "ki=.07;\n",
    "#The furnace inner brick surface is at temprature Ti=1250 K\n",
    "Ti=1250;\n",
    "#The furnace outer brick surface is at temprature To=310 K\n",
    "To=310;\n",
    "#The maximum allowable heat transfer rate(Q) from wall = 900 W/m**2\n",
    "Q=900;\n",
    "#Q=(Ti-To)/((Lb/kb)+(L/ki)) so L=ki*(((Ti-To)/Q)-(Lb/kb))\n",
    "print\"The thickness of insulating material L=ki*(((Ti-To)/Q)-(Lb/kb)) in m\"\n",
    "L=ki*(((Ti-To)/Q)-(Lb/kb))\n",
    "print\"L=\",L"
   ]
  },
  {
   "cell_type": "markdown",
   "metadata": {},
   "source": [
    "## Ex2.4:pg-36"
   ]
  },
  {
   "cell_type": "code",
   "execution_count": 3,
   "metadata": {
    "collapsed": false
   },
   "outputs": [
    {
     "name": "stdout",
     "output_type": "stream",
     "text": [
      "Introduction to heat transfer by S.K.Som, Chapter 2, Example 4\n",
      "Heat transfer per unit surface area through film qf=(To-Tinf)/((1/h)+(Lf/kf))in W/(m**2)\n",
      "qf= 4000.0\n",
      "Heat transfer per unit surface area through substrate qs=(To-T1/(Ls/ks)in W/(m**2)\n",
      "qs= 1000.0\n",
      "Heat flux qo=qs+qf in W/(m**2)\n",
      "qo= 5000.0\n",
      "If the film is not transparent and all of the radiant heat flux is absorbed at its upper surface then\n",
      "Rate of heat conduction through the film and substrate q1=(To-T1)/(Ls/ks) in W/m**2\n",
      "q1= 1000.0\n",
      "The temprature of the top surface of the film T2=(q1*(Lf*10**-3/kf))+To in Â°C\n",
      "T2= 70.0\n",
      "Rate of convective heat transfer from the upper surface of film to air q2=h*(T2-Tinf)in W/m**2\n",
      "q2= 1250.0\n",
      "Heat flux qo=q1+q2 in W/m**2 \n",
      "qo= 2250.0\n"
     ]
    }
   ],
   "source": [
    "import math\n",
    " \n",
    "print\"Introduction to heat transfer by S.K.Som, Chapter 2, Example 4\"\n",
    "#To cure the bond at a temprature(To),a radiant source used to provide a heat flux qo W/m**2 \n",
    "#The back of the substrate is maintained at a temprature T1\n",
    "#The film is exposed to air at a temprature (Tinf)\n",
    "#the convective heat transfer coefficient is h.\n",
    "#Given To=60Â°C,Tinf=20Â°C,h=25 W/(m**K)and T1=30Â°C\n",
    "To=60;\n",
    "Tinf=20;\n",
    "h=25;\n",
    "T1=30;\n",
    "#Ls is the thickness of substrate and Lf is thickness of film in mm.\n",
    "Ls=1.5;\n",
    "Lf=.25;\n",
    "#kf and ks are thermal conductivity of film and substrate respectively in W/(m*K)\n",
    "kf=.025;\n",
    "ks=.05;\n",
    "#qo is Heat flux.\n",
    "#qo=qf+qs where qf and qs are rate of heat transfer per unit surface area through the film and the substrate respectively.\n",
    "print\"Heat transfer per unit surface area through film qf=(To-Tinf)/((1/h)+(Lf/kf))in W/(m**2)\"\n",
    "qf=(To-Tinf)/((1/h)+(Lf*10**-3/kf))\n",
    "print\"qf=\",qf\n",
    "print\"Heat transfer per unit surface area through substrate qs=(To-T1/(Ls/ks)in W/(m**2)\"\n",
    "qs=(To-T1)/(Ls*10**-3/ks)\n",
    "print\"qs=\",qs\n",
    "print\"Heat flux qo=qs+qf in W/(m**2)\"\n",
    "qo=qs+qf\n",
    "print\"qo=\",qo\n",
    "#If the film is not transparent and all of the radiant heat flux is absorbed at its upper surface then qo=q1+q2\n",
    "#q1 is rate of heat conduction through the film and substrate\n",
    "#q2 is rate of convective heat transfer from the upper surface of film to air\n",
    "print\"If the film is not transparent and all of the radiant heat flux is absorbed at its upper surface then\"\n",
    "print\"Rate of heat conduction through the film and substrate q1=(To-T1)/(Ls/ks) in W/m**2\"\n",
    "q1=(To-T1)/(Ls*10**-3/ks)\n",
    "print\"q1=\",q1\n",
    "#To determine q2 we need to find the temprature(T2) of the top surface \n",
    "print\"The temprature of the top surface of the film T2=(q1*(Lf*10**-3/kf))+To in Â°C\"\n",
    "T2=(q1*(Lf*10**-3/kf))+To\n",
    "print\"T2=\",T2\n",
    "print\"Rate of convective heat transfer from the upper surface of film to air q2=h*(T2-Tinf)in W/m**2\"\n",
    "q2=h*(T2-Tinf)\n",
    "print\"q2=\",q2\n",
    "print\"Heat flux qo=q1+q2 in W/m**2 \"\n",
    "qo=q1+q2\n",
    "print\"qo=\",qo"
   ]
  },
  {
   "cell_type": "markdown",
   "metadata": {},
   "source": [
    "## Ex2.6:pg-38"
   ]
  },
  {
   "cell_type": "code",
   "execution_count": 6,
   "metadata": {
    "collapsed": false
   },
   "outputs": [
    {
     "name": "stdout",
     "output_type": "stream",
     "text": [
      " Introduction to heat transfer by S.K.Som, Chapter 2, Example 6\n",
      "(a)The expression for the temprature distribution in the plate T=160+2*10**3*(x-100*x**2)\n",
      "(b)The maximum temprature occurs at x=5mm or 0.005m away from the left surface towards the right\n",
      "The maximum temprature(Tmax) in Â°C is\n",
      "Tmax= 165.0\n",
      "(c(i))The rate of heat transfer at the left face in MW/m**2 is\n",
      "Q= -1\n",
      "The minus sign indicates that the heat flow in the negative direction\n",
      "(c(ii))The rate of heat transfer at the right face in MW/m**2 is\n",
      "Q= 1.2\n",
      "The minus sign for (q/A)@x=0 and the plus sign for (q/A)@x=0.02 indicates that heat is lost from both the surfaces to surroundings\n",
      "(c(iii))The rate of heat transfer at the centre in MW/m**2 is\n",
      "Q= 0.4\n"
     ]
    }
   ],
   "source": [
    "import math\n",
    " \n",
    "print\"Introduction to heat transfer by S.K.Som, Chapter 2, Example 6\"\n",
    "#The thickness of plate 20mm or .02m with uniform heat generation qg=80MW/m**3\n",
    "#The thermal conductivity of wall(k)is 200W/m*K.\n",
    "k=200;\n",
    "#The left and right faces are kept at tempratures T=160Â°C and T=120Â°C respectively\n",
    "#We start with the equation (d**2T/dx**2)+(qg/k)=0 or T=-(qg/2k)*x**2 +(c1*x)+c2 \n",
    "#With qg=80*10**6W/m**3 and k=200W/(m*K)\n",
    "#Applying boundary condition at x=0,T=160Â°C and x=0.02,T=120Â°C we get constant c2=160Â°C and c2=2000m**-1\n",
    "#Hence T=160+2*10**3*(x-100*x**2)----->eq.1\n",
    "print\"(a)The expression for the temprature distribution in the plate T=160+2*10**3*(x-100*x**2)\" \n",
    "#For maximum temprature differentiating eq.1 with respect to x and equating it to zero...we get dT/dx=(2*10**3)-(4*10**5*x)=0,which gives x=0.005m=5mm\n",
    "print\"(b)The maximum temprature occurs at x=5mm or 0.005m away from the left surface towards the right\"\n",
    "x=0.005;\n",
    "#The maximum temprature is Tmax\n",
    "print\"The maximum temprature(Tmax) in Â°C is\"\n",
    "Tmax=160+2*10**3*(x-100*x**2)\n",
    "print\"Tmax=\",Tmax\n",
    "#The rate of heat transfer(q/A) is given by -k*(dT/dx)\n",
    "#Let dT/dx=X and (q/A)=Q\n",
    "print\"(c(i))The rate of heat transfer at the left face in MW/m**2 is\"\n",
    "#For left face x=0\n",
    "x=0;\n",
    "X=(2*10**3)-(4*10**5*x);\n",
    "Q=-k*X/10**6\n",
    "print\"Q=\",Q\n",
    "print\"The minus sign indicates that the heat flow in the negative direction\"\n",
    "print\"(c(ii))The rate of heat transfer at the right face in MW/m**2 is\"\n",
    "#For right face x=0.02\n",
    "x=0.02;\n",
    "X=(2*10**3)-(4*10**5*x);\n",
    "Q=-k*X/10**6\n",
    "print\"Q=\",Q\n",
    "#(q/A)@x=0 implies rate of heat transfer at the position where x=0. \n",
    "print\"The minus sign for (q/A)@x=0 and the plus sign for (q/A)@x=0.02 indicates that heat is lost from both the surfaces to surroundings\"\n",
    "print\"(c(iii))The rate of heat transfer at the centre in MW/m**2 is\"\n",
    "#For centre x=0.01\n",
    "x=0.01;\n",
    "X=(2*10**3)-(4*10**5*x);\n",
    "Q=-k*X/10**6\n",
    "#A check for the above results can be made from an energy balance of the plate as |(q/A)|@x=0+|(q/A)|@x=0.02=qG*0.02\n",
    "print\"Q=\",Q"
   ]
  },
  {
   "cell_type": "markdown",
   "metadata": {},
   "source": [
    "## Ex2.9:pg- 48"
   ]
  },
  {
   "cell_type": "code",
   "execution_count": 16,
   "metadata": {
    "collapsed": false
   },
   "outputs": [
    {
     "name": "stdout",
     "output_type": "stream",
     "text": [
      "Introduction to heat transfer by S.K.Som, Chapter 2, Example 9\n",
      "The critical thickness of insulation in metre is\n",
      "X= 0.182340462632\n",
      "The heat transfer rate Q per metre of tube length in W/m is \n",
      "Q= 26.807459995\n",
      "X= 0.559673817307\n",
      "The heat transfer rate per metre of tube length Q in W/m is \n",
      "Q= 28.1996765363\n",
      "X= 1.79194526577\n",
      "The heat transfer rate per metre of tube length Q in W/m is \n",
      "Q= 21.1086798197\n"
     ]
    }
   ],
   "source": [
    "import math\n",
    " \n",
    "print\"Introduction to heat transfer by S.K.Som, Chapter 2, Example 9\"\n",
    "#A thin walled copper tube of outside metal radius r=0.01m carries steam at temprature, T1=400K.It is inside a room where the surrounding air temprature is Tinf=300K.\n",
    "T1=400;\n",
    "Tinf=300;\n",
    "r=0.01;\n",
    "#The tube is insulated with magnesia insulation of an approximate thermal conductivity of k=0.07W/(m*K)\n",
    "k=0.07;\n",
    "#External convective Coefficient h=4W/(m**2*K)\n",
    "h=4;\n",
    "#Critical thickness(rc) is given by k/h\n",
    "print\"The critical thickness of insulation in metre is\"\n",
    "rc=k/h\n",
    "#We use the rate of heat transfer per metre of tube length as Q=(Ti-Tinf)/((ln(r2/r1)/(2*math.pi*L*k))+(1/(h*2*math.pi*r2*L))) where length,L=1m\n",
    "L=1;\n",
    "#When 0.002m thick layer of insulation r1=0.01m,r2=0.01+0.002=0.012m\n",
    "r1=0.01;#inner radius\n",
    "r2=0.012;#outer radius\n",
    "#Let ln(r2/r1)=X\n",
    "X=math.log(r2/r1)/math.log(2.718);\n",
    "print\"X=\",X\n",
    "#The heat transfer rate per metre of tube length is Q\n",
    "print\"The heat transfer rate Q per metre of tube length in W/m is \"\n",
    "Q=(T1-Tinf)/(((X)/(2*math.pi*L*k))+(1/(h*2*math.pi*r2*L)))\n",
    "print\"Q=\",Q\n",
    "#When critical thickness of insulation r1=0.01m,r2=0.0175m\n",
    "r2=0.0175;#outer radius\n",
    "r1=0.01;#inner radius\n",
    "#Let ln(r2/r1)=X\n",
    "X=math.log(r2/r1)/math.log(2.718);\n",
    "print\"X=\",X\n",
    "#The heat transfer rate per metre of tube length is Q \n",
    "print\"The heat transfer rate per metre of tube length Q in W/m is \"\n",
    "Q=(T1-Tinf)/(((X)/(2*math.pi*L*k))+(1/(h*2*math.pi*r2*L)))\n",
    "print\"Q=\",Q\n",
    "#When there is a 0.05 m thick layer of insulation r1=0.01m,r2=.01+0.05=0.06m\n",
    "r1=0.01;#inner radius\n",
    "r2=0.06;#outer radius\n",
    "#Let ln(r2/r1)=X\n",
    "X=math.log(r2/r1)/math.log(2.718);\n",
    "print\"X=\",X\n",
    "#The heat transfer rate per metre of tube length is Q \n",
    "print\"The heat transfer rate per metre of tube length Q in W/m is \"\n",
    "Q=(T1-Tinf)/(((X)/(2*math.pi*L*k))+(1/(h*2*math.pi*r2*L)))\n",
    "#It is important to note that Q increases by 5.2% when the insulation thickness increases from 0.002m to critical thickness. \n",
    "#Addition of insulation beyond the critical thickness decreases the value of Q (The heat loss).\n",
    "print\"Q=\",Q"
   ]
  },
  {
   "cell_type": "markdown",
   "metadata": {},
   "source": [
    "## Ex2.10:pg-49"
   ]
  },
  {
   "cell_type": "code",
   "execution_count": 8,
   "metadata": {
    "collapsed": false
   },
   "outputs": [
    {
     "name": "stdout",
     "output_type": "stream",
     "text": [
      "Introduction to heat transfer by S.K.Som, Chapter 2, Example 10\n",
      "the thickness of insulation in metre is\n",
      "t= 0.019\n"
     ]
    }
   ],
   "source": [
    "import math\n",
    " \n",
    "print\"Introduction to heat transfer by S.K.Som, Chapter 2, Example 10\"\n",
    "#A copper pipe having 35mm outer diameter(Do) and 30mm inner diameter(Di) carries liquid oxygen to the storage site of a space shuttle at temprature,T1=-182Â°C\n",
    "#mass flow rate is ,mdot=0.06m**3/min. \n",
    "Di=0.03;#in metre\n",
    "Do=0.035;# in metre\n",
    "T1=-182;\n",
    "mdot=0.06;\n",
    "#The ambient air is at temprature(Ta)=20Â°C and has a dew point(T3)=10Â°C.\n",
    "Ta=20;\n",
    "T3=10;\n",
    "#The thermal conductivity(k) of insulating material is 0.02W/(m*k)\n",
    "k=0.02;\n",
    "#The convective heat transfer coefficient on the outside is h=17W/(m**2*K)\n",
    "h=17;\n",
    "#The thermal conductivity of copper kcu=400W/(m*K)\n",
    "kcu=400;\n",
    "#We can write Q=((Ta-T1)/(R1+R2+R3))=((Ta-T3)/(R3)),Rearranging we get ((R1+R2+R3)/(R3))=((Ta-T1)/(Ta-T3))--------eq.1\n",
    "#The conduction Resistance of copper pipe(R1)=ln(0.035/0.03)/(2*math.pi*L*kcu)=3.85*10**-4/(2*math.pi*L)K/W\n",
    "#The conduction resistance of insulating material (R2)=ln(r3/0.035)/(2*math.pi*L*k)=(1/(2*math.pi*L))((50*ln(r3/0.035)))K/W where r3 is the outer radius of insulation in metres.\n",
    "#The convective resistance at the outer surface(R3)=1/(2*math.pi*L*h*r3)=(1/2*math.pi*L)*(mdot/r3)K/W\n",
    "#Substituting the values in eq.1 we have 1+((50*ln(r3/0.035)+(3.85*10**-4))/(mdot/r3))=20-(-182)/(20-10)\n",
    "#A rearrangement of the above equation gives r3*ln(r3)+3.35*r3=0.023\n",
    "#The equation is solved by trial and error method which finally gives r3=0.054m\n",
    "r3=0.054;#outer radius of insulation\n",
    "#Therefore the thickness of insulation is given by t=r3-Do\n",
    "print\"the thickness of insulation in metre is\"\n",
    "t=r3-Do\n",
    "print\"t=\",t"
   ]
  },
  {
   "cell_type": "markdown",
   "metadata": {},
   "source": [
    "## Ex2.11:pg-52"
   ]
  },
  {
   "cell_type": "code",
   "execution_count": 9,
   "metadata": {
    "collapsed": false
   },
   "outputs": [
    {
     "name": "stdout",
     "output_type": "stream",
     "text": [
      "Introduction to heat transfer by S.K.Som, Chapter 2, Example 11\n",
      "The rate of heat generation of thermal energy in W/m**3 is\n",
      "qG= 407436654.315\n",
      "The temprature of wire at the centre in K is \n",
      "To= 656.631455962\n"
     ]
    }
   ],
   "source": [
    "import math\n",
    " \n",
    "print\"Introduction to heat transfer by S.K.Som, Chapter 2, Example 11\"\n",
    "#An electrical resistance wire 2.5mm or 2.5*10**-3m in diameter(D) and L=0.5m long has a measured voltage drop of E=25V for a current flow of I=40A.\n",
    "D=2.5*10**-3;\n",
    "I=40;\n",
    "E=25;\n",
    "L=0.5;\n",
    "ro=D/2;#ro is radius of wire\n",
    "#The thermal conductivity(k) of wire material is 24W/(m*K) \n",
    "k=24;\n",
    "#The rate of generation of thermal energy per unit volume is given by qG=(E*I)/(L*math.pi*D**2/4)\n",
    "print\"The rate of heat generation of thermal energy in W/m**3 is\"\n",
    "qG=(E*I)/(L*math.pi*D**2/4)\n",
    "print\"qG=\",qG\n",
    "#The temprature at the centre is given by To=Tw+((qG*ro**2)/(4*k)) where Tw=650K is surface temprature \n",
    "Tw=650;\n",
    "print\"The temprature of wire at the centre in K is \"\n",
    "To=Tw+((qG*ro**2)/(4*k))\n",
    "#Note:The answer in the book is incorrect(value of D has been put instead of ro)\n",
    "print\"To=\",To"
   ]
  },
  {
   "cell_type": "markdown",
   "metadata": {},
   "source": [
    "## Ex2.12:pg-56"
   ]
  },
  {
   "cell_type": "code",
   "execution_count": 10,
   "metadata": {
    "collapsed": false
   },
   "outputs": [
    {
     "name": "stdout",
     "output_type": "stream",
     "text": [
      "Introduction to heat transfer by S.K.Som, Chapter 2, Example 12\n",
      "The inner(A1) and outer surfaces(A2) areas of the tank in m**2 are\n",
      "The convective resistance(Ri) at the inner surface in K/W is \n",
      "Ri= 0.000159154943092\n",
      "The conduction resistance(Rs)of the tank in K/W is\n",
      "Rs= 0.0\n",
      "The convective resistance(Roc) at the outer surface in K/W is\n",
      "Roc= 0.00127323954474\n",
      "The radiative heat transfer coefficient hr in W/(m**2*K) is\n",
      "hr= 5.26265474661\n",
      "Therefore the radiative resistance(Ror) at the outer surface in K/W is\n",
      "Ror= 0.00241938642385\n",
      "The equivalent resistance in K/W is\n",
      "Ro= 0.000834218925785\n",
      "The total resistance in K/W is\n",
      "Rtotal= 0.000993373868877\n",
      "The rate of heat transfer,Q in W is\n",
      "Q= 20133.406592\n",
      "The outer surface temprature in Â°C is\n",
      "T2= 3.2043311804\n",
      "which is sufficiently close to the assumption.So there is no need of further iteration\n",
      "The total heat transfer(Qt) during a 24-hour period in KJ is\n",
      "Qt= 1739526.32955\n",
      "Therefore,the amount of ice(mice)in kG which melts during a 24 hour period is\n",
      "mice= 5208.16266333\n"
     ]
    }
   ],
   "source": [
    "import math\n",
    " \n",
    "print\"Introduction to heat transfer by S.K.Som, Chapter 2, Example 12\"\n",
    "#A spherical tank of internal diameter, Di=5m ,made of t=25mm thick stainless steel(thermal conductivity,k=15W/(m*K)),is used to store water at temprature(Ti)=0Â°C.Do is outer diameter\n",
    "Di=5;\n",
    "t=25;\n",
    "Do=5+2*(t/1000);#in metre\n",
    "k=15;\n",
    "Ti=0;\n",
    "#The tank is located in a room whose temprature is (To)=20Â°C.\n",
    "To=20;\n",
    "#Emmisivity is 1.\n",
    "#The convection heat transfer coefficients at the inner and outer surfaces of the tank are hi=80W/(m**2*K) and ho=10W/(m**2*K)\n",
    "hi=80;\n",
    "ho=10;\n",
    "#The heat of fusion of ice at atmospheric pressure is deltahf=334kJ/kg.The stefan-boltzman constant(sigma) is 5.67*10**-8W/m**2.\n",
    "sigma=5.67*10**-8;\n",
    "deltahf=334;\n",
    "#The inner surface area is (A1) and outer surface area is (A2)of the tank\n",
    "print\"The inner(A1) and outer surfaces(A2) areas of the tank in m**2 are\"\n",
    "A1=math.pi*Di**2\n",
    "A2=math.pi*Do**2\n",
    "#The individual thermal resistances can be determined as\n",
    "#The convective resistance is (Ri)\n",
    "print\"The convective resistance(Ri) at the inner surface in K/W is \"\n",
    "Ri=1/(hi*A1)\n",
    "print\"Ri=\",Ri\n",
    "#The conduction resistance is(Rs)\n",
    "print\"The conduction resistance(Rs)of the tank in K/W is\"\n",
    "Rs=(Do-Di)/(2*k*math.pi*Di*Do)\n",
    "print\"Rs=\",Rs\n",
    "#The convective resistance is(Roc)\n",
    "print\"The convective resistance(Roc) at the outer surface in K/W is\"\n",
    "Roc=1/(ho*A2)\n",
    "print\"Roc=\",Roc\n",
    "#The radiative resistance(Ror) at the outer surface is Ror=1/(A2*hr) \n",
    "#The radiative heat transfer coefficient hr is determined by hr=sigma*(T2**2+293.15**2)*(T2+293.15)\n",
    "#But we do not know the outer surface temprature T2 of the tank and hence we cannot determine the value of hr.\n",
    "#Therfore we adopt an iterative procedure.We assume T2=4Â°C=277.15K.Putting the value in hr=sigma*(T2**2+293.15**2)*(T2+293.15) we get\n",
    "T2=277.15;\n",
    "print\"The radiative heat transfer coefficient hr in W/(m**2*K) is\"\n",
    "hr=sigma*(T2**2+293.15**2)*(T2+293.15)\n",
    "print\"hr=\",hr\n",
    "print\"Therefore the radiative resistance(Ror) at the outer surface in K/W is\"\n",
    "Ror=1/(A2*hr)\n",
    "print\"Ror=\",Ror\n",
    "#The two parallel resistances Roc and Ror can be replaced by an equivalent resistance Ro as X=(1/Ro)=(1/Roc)+(1/Ror)\n",
    "print\"The equivalent resistance in K/W is\"\n",
    "X=(1/Roc)+(1/Ror);\n",
    "Ro=1/X\n",
    "print\"Ro=\",Ro\n",
    "#Now the resistance Ri,Rs and Ro are in series an hence the total resistance becomes Rtotal=Ri+Rs+Ro \n",
    "print\"The total resistance in K/W is\"\n",
    "Rtotal=Ri+Rs+Ro \n",
    "print\"Rtotal=\",Rtotal\n",
    "#The rate of heat transfer is given by Q=(To-Ti)/Rtotal\n",
    "print\"The rate of heat transfer,Q in W is\"\n",
    "Q=(To-Ti)/Rtotal\n",
    "print\"Q=\",Q\n",
    "#The outer surface(T2) is calculated as T2=To-Q*Ro\n",
    "print\"The outer surface temprature in Â°C is\"\n",
    "T2=To-Q*Ro\n",
    "print\"T2=\",T2\n",
    "print\"which is sufficiently close to the assumption.So there is no need of further iteration\"\n",
    "#The total heat transfer is (Qt),during a 24-hour period\n",
    "print\"The total heat transfer(Qt) during a 24-hour period in KJ is\"\n",
    "Qt=Q*24*3600/1000\n",
    "print\"Qt=\",Qt\n",
    "#the amount of ice in kG which melts during a 24 hour period is (mice)\n",
    "print\"Therefore,the amount of ice(mice)in kG which melts during a 24 hour period is\"\n",
    "mice=Qt/deltahf\n",
    "print\"mice=\",mice"
   ]
  },
  {
   "cell_type": "markdown",
   "metadata": {},
   "source": [
    "## Ex2.13:pg-68"
   ]
  },
  {
   "cell_type": "code",
   "execution_count": 13,
   "metadata": {
    "collapsed": false
   },
   "outputs": [
    {
     "name": "stdout",
     "output_type": "stream",
     "text": [
      "Introduction to heat transfer by S.K.Som, Chapter 2, Example 13\n",
      "P/A in m**-1 is\n",
      "X= 400.0\n",
      "m in m**-1 is\n",
      "m= 3.28797974611\n",
      "M in W/K is\n",
      "M= 0.0955478103936\n",
      "thetab in Â°C is \n",
      "thetab= 100\n",
      "Heat loss from rod in Watt, for different value of length(in m) is \n",
      "Q= 0.705573384326\n",
      "Q= 1.32655528327\n",
      "Q= 2.53006298798\n",
      "Q= 5.56299390901\n",
      "Q= 8.29001416681\n",
      "Q= 9.45769063154\n",
      "Q= 9.52862252977\n",
      "Q= 9.55478103936\n",
      "For an infintely long rod heat loss in W is\n",
      "We see that since k is large there is significant difference  between the finite length and the infinte length cases\n",
      "However when the length of the rod approaches 1m,the result become almost same.\n",
      "Qinf= 9.55478103936\n"
     ]
    }
   ],
   "source": [
    "import math\n",
    " \n",
    "print\"Introduction to heat transfer by S.K.Som, Chapter 2, Example 13\"\n",
    "#A very long,10mm diameter(D) copper rod(thermal conductivity,k=370W/(m*K))is exposed to an enviroment at temprature,Tinf=20Â°C.\n",
    "D=0.01;\n",
    "k=370;\n",
    "Tinf=20;\n",
    "#The base temprature of the radius maintained at Tb=120Â°C.\n",
    "Tb=120;\n",
    "#The heat transfer coefficient between the rod and the surrounding air is h=10W/(m*K**2)\n",
    "h=10;\n",
    "#The rate of heat transfer for all finite lengths will be given by P/A=(4*pi*D)/(pi*D**2)\n",
    "#Let P/A=X\n",
    "print\"P/A in m**-1 is\"\n",
    "X=(4*math.pi*D)/(math.pi*D**2)\n",
    "print\"X=\",X\n",
    "#m is defined as ((h*p)/(k*A)]**0.5 \n",
    "print\"m in m**-1 is\"\n",
    "m=(h*X/k)**0.5\n",
    "print\"m=\",m\n",
    "#Let Y=h/(m*k)\n",
    "Y=h/(m*k)\n",
    "#Let M=(h*P*k*A)**0.5\n",
    "P=(math.pi*D);#perimeter of the rod\n",
    "A=(math.pi*D**2)/4;#Area of the rod\n",
    "print\"M in W/K is\"\n",
    "M=(h*P*k*A)**0.5\n",
    "print\"M=\",M\n",
    "#thetab is the parameter that defines the base temprature\n",
    "print\"thetab in Â°C is \"\n",
    "thetab=Tb-Tinf\n",
    "print\"thetab=\",thetab\n",
    "#Heat loss from the rod is defined as Q=(h*P*k*A)*thetab*(((h/m*k)+math.tanh(m*L)]/(1+(h/m*k)*math.tanh(m*L)]}\n",
    "print\"Heat loss from rod in Watt, for different value of length(in m) is \"\n",
    "L=0.02#Length of rod\n",
    "Q=M*thetab*(((Y)+math.tanh(m*L))/(1+(Y)*math.tanh(m*L)))\n",
    "print\"Q=\",Q\n",
    "L=0.04#length of rod\n",
    "Q=M*thetab*(((Y)+math.tanh(m*L))/(1+(Y)*math.tanh(m*L)))\n",
    "print\"Q=\",Q\n",
    "L=0.08#length of rod\n",
    "Q=M*thetab*(((Y)+math.tanh(m*L))/(1+(Y)*math.tanh(m*L)))\n",
    "print\"Q=\",Q\n",
    "L=0.20#length of rod\n",
    "Q=M*thetab*(((Y)+math.tanh(m*L))/(1+(Y)*math.tanh(m*L)))\n",
    "print\"Q=\",Q\n",
    "L=0.40#length of rod\n",
    "Q=M*thetab*(((Y)+math.tanh(m*L))/(1+(Y)*math.tanh(m*L)))\n",
    "print\"Q=\",Q\n",
    "L=0.80#length of rod\n",
    "Q=M*thetab*(((Y)+math.tanh(m*L))/(1+(Y)*math.tanh(m*L)))\n",
    "print\"Q=\",Q\n",
    "L=1.00#length of rod\n",
    "Q=M*thetab*(((Y)+math.tanh(m*L))/(1+(Y)*math.tanh(m*L)))\n",
    "print\"Q=\",Q\n",
    "L=10.00#length of rod\n",
    "Q=M*thetab*(((Y)+math.tanh(m*L))/(1+(Y)*math.tanh(m*L)))\n",
    "print\"Q=\",Q\n",
    "#For an infinitely long rod we use heat loss as ,Qinf=(h*P*k*A)**0.5*thetab\n",
    "print\"For an infintely long rod heat loss in W is\"\n",
    "Qinf=(h*P*k*A)**0.5*thetab\n",
    "print\"We see that since k is large there is significant difference  between the finite length and the infinte length cases\"\n",
    "print\"However when the length of the rod approaches 1m,the result become almost same.\" \n",
    "print\"Qinf=\",Qinf"
   ]
  },
  {
   "cell_type": "markdown",
   "metadata": {},
   "source": [
    "## Ex2.14:pg-81"
   ]
  },
  {
   "cell_type": "code",
   "execution_count": 14,
   "metadata": {
    "collapsed": false
   },
   "outputs": [
    {
     "name": "stdout",
     "output_type": "stream",
     "text": [
      "Introduction to heat transfer by S.K.Som, Chapter 2, Example 14\n",
      "The thermal conductivity of Rod B kB in W/(m*K) is \n",
      "kB= 18.0\n"
     ]
    }
   ],
   "source": [
    "import math\n",
    " \n",
    "print\"Introduction to heat transfer by S.K.Som, Chapter 2, Example 14\"\n",
    "#Considering two very long slender rods of the same diameter but of different materials.\n",
    "#The base of each rod is maintained at 100Â°C while the surfaces of the rod are exposed to 20Â°C\n",
    "#By traversing length of each rod with a thermocouple it was observed that tempratures of rod were equal at the position xA=0.15m and xB=0.075 from base.\n",
    "xA=0.15;\n",
    "xB=0.075;\n",
    "#Thermal conductivity of rod A is known to be kA=72 W/(m*K)\n",
    "kA=72;\n",
    "#In case of a very long slender rod we use the tip boundary condition thetaL=0 as L--->infinity\n",
    "#Therfore we can write for the locations where the tempratures are equal thetab*e**(-mA*xA)=thetab*e**(-mB*xB) or xA/xB=mB/mA,Again mB/mA=(kA/kB)**0.5\n",
    "#So kB=kA*(xB/xA)**2\n",
    "#The thermal conductivity of Rod B iskB\n",
    "print\"The thermal conductivity of Rod B kB in W/(m*K) is \"\n",
    "kB=kA*(xB/xA)**2\n",
    "print\"kB=\",kB"
   ]
  },
  {
   "cell_type": "markdown",
   "metadata": {},
   "source": [
    "## Ex2.15:pg-83"
   ]
  },
  {
   "cell_type": "code",
   "execution_count": 15,
   "metadata": {
    "collapsed": false
   },
   "outputs": [
    {
     "name": "stdout",
     "output_type": "stream",
     "text": [
      "Introduction to heat transfer by S.K.Som, Chapter 2, Example 15\n",
      " perimeter of each fin in m is\n",
      "P= 0.202\n",
      "Cross sectional area of fin in m**2 is\n",
      "A= 0.0001\n",
      "M= 0.834805366538\n",
      "m= 36.2958855016\n",
      "Temprature parameter at fin base in K is\n",
      "thetab= 100\n",
      "Fixed temprature at fin tip in K is\n",
      "thetaL= 50\n",
      "Heat loss from the plate at 400K in W is\n",
      "Qb= 13028.1662009\n"
     ]
    }
   ],
   "source": [
    "import math\n",
    " \n",
    "print\"Introduction to heat transfer by S.K.Som, Chapter 2, Example 15\"\n",
    "#A stack that is b=300mm wide and l=100mm deep contains N=60 fins each of length L=12mm.\n",
    "L=0.012;#in metre\n",
    "b=0.3;#in metre\n",
    "l=0.1;#in metre\n",
    "N=60;\n",
    "#The entire stack is made of aluminum which is everywhere t=1.0 mm thick.\n",
    "t=0.001;#in metre\n",
    "#The temprature limitations associated with electrical components are  Tb=400K and TL=350K.\n",
    "#Tb is base temprature and TL is end temprature\n",
    "Tb=400;\n",
    "TL=350; \n",
    "#Given convection heat transfer coefficient(h=150W/(m**2*K)),Surrounding Temprature(Tinf=300K),thermal conductivity of aluminium(kaluminium=230W/(m*K))\n",
    "h=150;\n",
    "Tinf=300;\n",
    "kal=230;\n",
    "#Here both the ends of the fins are at fixed tempratures .Therefore we use M=(h*P*k*A)**0.5 and m=((h*P)/(k*A))**0.5,thetab=Tb-Tinf,thetaL=TL-Tinf\n",
    "#from the given data perimeter of each fin is given by P= 2*(l+t)in m and area of each fin is A=t*l\n",
    "print\" perimeter of each fin in m is\"\n",
    "P= 2*(l+t)\n",
    "print\"P=\",P\n",
    "print\"Cross sectional area of fin in m**2 is\"\n",
    "A=t*l\n",
    "print\"A=\",A\n",
    "#M is defined as (h*P*kal*A)**0.5 and m is defined as ((h*P)/(kal*A))**0.5\n",
    "M=(h*P*kal*A)**0.5\n",
    "m=((h*P)/(kal*A))**0.5\n",
    "print\"M=\",M\n",
    "print\"m=\",m\n",
    "#thetab and thetaL are the parameters that define the fin tempratures at base and tip respectively.\n",
    "print\"Temprature parameter at fin base in K is\"\n",
    "thetab=Tb-Tinf\n",
    "print\"thetab=\",thetab\n",
    "print\"Fixed temprature at fin tip in K is\"\n",
    "thetaL=TL-Tinf\n",
    "print\"thetaL=\",thetaL\n",
    "#Heat loss from the plate is Qb\n",
    "print\"Heat loss from the plate at 400K in W is\"\n",
    "Qb=(N*(h*P*kal*A)**0.5*thetab*((math.cosh(m*L)-(thetaL/thetab))/(math.sinh(m*L))))+(((l*b)-(N*A))*h*thetab)+(l*b*h*thetab)\n",
    "print\"Qb=\",Qb"
   ]
  }
 ],
 "metadata": {
  "kernelspec": {
   "display_name": "Python 2",
   "language": "python",
   "name": "python2"
  },
  "language_info": {
   "codemirror_mode": {
    "name": "ipython",
    "version": 2
   },
   "file_extension": ".py",
   "mimetype": "text/x-python",
   "name": "python",
   "nbconvert_exporter": "python",
   "pygments_lexer": "ipython2",
   "version": "2.7.11"
  }
 },
 "nbformat": 4,
 "nbformat_minor": 0
}
