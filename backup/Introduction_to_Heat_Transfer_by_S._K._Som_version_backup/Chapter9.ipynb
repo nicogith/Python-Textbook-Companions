{
 "cells": [
  {
   "cell_type": "markdown",
   "metadata": {
    "collapsed": true
   },
   "source": [
    "# Chapter 09:Heat transfer in condensation and boiling"
   ]
  },
  {
   "cell_type": "markdown",
   "metadata": {},
   "source": [
    "## Ex9.1:pg-392"
   ]
  },
  {
   "cell_type": "code",
   "execution_count": 17,
   "metadata": {
    "collapsed": false
   },
   "outputs": [
    {
     "name": "stdout",
     "output_type": "stream",
     "text": [
      "Introduction to heat transfer by S.K.Som, Chapter 9, Example 1\n",
      "The properties of condensate(liquid water) are evaluated at the mean film temprature \n",
      "The mean film temprature inÂ°C is\n",
      "tf= 95\n",
      "hfg= 2270000.0\n",
      "The average heat transfer coefficient over length L in W/(m**2*K)\n",
      "hbar= 0.745\n",
      "The rate of heat transfer per unit width in W/m \n",
      "Q= 3.772\n",
      "The total rate of condensation in kg/(s*m)\n",
      "mdotc= 1.66167400881e-06\n",
      "We have to check whether the flow is laminar or not \n",
      "Reynolds no. is\n",
      "Therefore the flow is laminar and hence the use of the equation is justified\n",
      "ReL= 0.0221556534508\n"
     ]
    }
   ],
   "source": [
    "import math\n",
    " \n",
    "print\"Introduction to heat transfer by S.K.Som, Chapter 9, Example 1\"\n",
    "#A vertical cooling fin, Approximately a flat plate length,(L)=0.4m high is exposed to saturated steam(temprature,Tg=100Â°C) at atmospheric pressure.\n",
    "L=0.4;\n",
    "Tg=100;\n",
    "#The fin is maintained at temprature,Tw=90Â°C by cooling water.\n",
    "Tw=90;\n",
    "print\"The properties of condensate(liquid water) are evaluated at the mean film temprature \"\n",
    "#tf is mean film temprature\n",
    "print\"The mean film temprature inÂ°C is\"\n",
    "tf=(Tg+Tw)/2\n",
    "print\"tf=\",tf\n",
    "#The properties of condensate are density(rho=962kg/m**3),conductivity(k=0.677W/(m*K)),viscosity(mu=3*10**-4 kg/(m*s))\n",
    "rho=962;\n",
    "k=0.677;\n",
    "mu=3*10**-4;\n",
    "#The value rhov=0.598kg/m**3 and hfg=2.27*10**6J/kg at 100Â°C are found from steam table\n",
    "#g is acceleration due to gravity =9.81m/s**2\n",
    "g=9.81;\n",
    "rhov=0.598;#rhov is vapour density\n",
    "hfg=2.27*10**6;#hfg is enthalpy of vaporisation\n",
    "print\"hfg=\",hfg\n",
    "#The average heat transfer coefficient over length L is hbarL=0.943*((rho*(rho-rhov)*g*h*L**3)/(mu*k*(Tg-Tw)))**(1/4)\n",
    "print\"The average heat transfer coefficient over length L in W/(m**2*K)\"\n",
    "hbarL=0.943*((rho*(rho-rhov)*g*hfg*k**3)/(mu*L*(Tg-Tw)))**(1/4)\n",
    "print\"hbar=\",hbar\n",
    "#The rate of heat transfer per unit width is Q=hbarL*L*(Tg-Tw)\n",
    "print\"The rate of heat transfer per unit width in W/m \"\n",
    "Q=hbarL*L*(Tg-Tw)\n",
    "print\"Q=\",Q\n",
    "#The rate of condensation is given by mdotc=(Q/hfg)\n",
    "print\"The total rate of condensation in kg/(s*m)\"\n",
    "mdotc=(Q/hfg)\n",
    "print\"mdotc=\",mdotc\n",
    "print\"We have to check whether the flow is laminar or not \"\n",
    "#Reynolds no is given by ReL=(4*mdotc)/(mu)\n",
    "print\"Reynolds no. is\"\n",
    "ReL=(4*mdotc)/(mu)\n",
    "print\"Therefore the flow is laminar and hence the use of the equation is justified\"\n",
    "print\"ReL=\",ReL"
   ]
  },
  {
   "cell_type": "markdown",
   "metadata": {},
   "source": [
    "## Ex9.2:pg-393"
   ]
  },
  {
   "cell_type": "code",
   "execution_count": 16,
   "metadata": {
    "collapsed": false
   },
   "outputs": [
    {
     "name": "stdout",
     "output_type": "stream",
     "text": [
      "Introduction to heat transfer by S.K.Som, Chapter 9, Example 2\n",
      "The mean film temprature inÂ°C is\n",
      "tf= 95\n",
      "hfg= 2270000.0\n",
      "The average heat transfer coefficient in W/(m**2*K)\n",
      "hbar= 0.745\n",
      "The total rate of condensation in kg/s\n",
      "Check for reynolds no.\n",
      "mdotc= 1.54657700017e-06\n",
      "Reynolds number is\n",
      "Re= 0.00343683777816\n"
     ]
    }
   ],
   "source": [
    "import math\n",
    " \n",
    "print\"Introduction to heat transfer by S.K.Som, Chapter 9, Example 2\"\n",
    "#Steam is condensed at temprature(Tg=100Â°C) on the outer surafce of a horizontal tube of length(L=3m) and diameter(d)=50mm or .05m\n",
    "Tg=100;\n",
    "L=3;\n",
    "D=0.05;\n",
    "#The Tube surface is maintained at temprature,Tw=90Â°C \n",
    "Tw=90;\n",
    "#tf is mean film temprature\n",
    "print\"The mean film temprature inÂ°C is\"\n",
    "tf=(Tg+Tw)/2\n",
    "print\"tf=\",tf\n",
    "#The properties of condensate are density(rho=962kg/m**3),conductivity(k=0.677W/(m*K)),viscosity(mu=3*10**-4 kg/(m*s))\n",
    "rho=962;\n",
    "k=0.677;\n",
    "mu=3*10**-4;\n",
    "#The value rhov=0.598kg/m**3 and hfg=2.27*10**6J/kg at 100Â°C are found from steam table\n",
    "#g is acceleration due to gravity =9.81m/s**2\n",
    "g=9.81;\n",
    "rhov=0.598;#vapour density\n",
    "hfg=2.27*10**6;#enthalpy of vaporisation\n",
    "print\"hfg=\",hfg\n",
    "#The average heat transfer coefficient hbar=0.745*((rho*(rho-rhov)*g*hfg*k**3)/(mu*D*(Tg-Tw)))**(1/4)\n",
    "print\"The average heat transfer coefficient in W/(m**2*K)\"\n",
    "hbar=0.745*((rho*(rho-rhov)*g*hfg*k**3)/(mu*D*(Tg-Tw)))**(1/4)\n",
    "print\"hbar=\",hbar\n",
    "#The rate of condensation is given by mdotc=(hbar*(pi*D*L)*(Tg-Tw))/hfg\n",
    "print\"The total rate of condensation in kg/s\"\n",
    "mdotc=(hbar*(math.pi*D*L)*(Tg-Tw))/hfg\n",
    "print\"Check for reynolds no.\"\n",
    "print\"mdotc=\",mdotc\n",
    "#For a horizontal tube having length,L,perimeter is P=2L\n",
    "P=2*L;\n",
    "#Re is reynolds number\n",
    "print\"Reynolds number is\"\n",
    "Re=(4*mdotc)/(mu*P)\n",
    "print\"Re=\",Re"
   ]
  },
  {
   "cell_type": "markdown",
   "metadata": {},
   "source": [
    "## Ex9.3:pg-394"
   ]
  },
  {
   "cell_type": "code",
   "execution_count": 13,
   "metadata": {
    "collapsed": false
   },
   "outputs": [
    {
     "name": "stdout",
     "output_type": "stream",
     "text": [
      "Introduction to heat transfer by S.K.Som, Chapter 9, Example 3\n",
      "The mean film temprature inÂ°C is\n",
      "tf= 80\n",
      "The average heat transfer coefficient over length L in W/(m**2*K)\n",
      "hbar= 0.943\n",
      "The rate of heat transfer  in kW \n",
      "Q= 0.016974\n",
      "(b)The film thickness at the trailing edges in m is\n",
      "delta= 1.0\n",
      "The total rate of condensation in kg/s\n",
      "mdotc= 7.47753303965e-06\n",
      "Hence the average flow velocity at the trailing edge in m/s is\n",
      "v= 2.56431174199e-08\n"
     ]
    }
   ],
   "source": [
    "import math\n",
    " \n",
    "print\"Introduction to heat transfer by S.K.Som, Chapter 9, Example 3\"\n",
    "#A vertical plate having length,(L)=1.5m is maintained at temprature(Tw) of 60Â°C in the presence of saturated steam(temprature,Tg=100Â°C) at atmospheric pressure.\n",
    "L=1.5;\n",
    "Tg=100;\n",
    "Tw=60;\n",
    "#Consider the width of plate to be (B)=0.3m\n",
    "B=0.3;\n",
    "#tf is the mean film temprature\n",
    "print\"The mean film temprature inÂ°C is\"\n",
    "tf=(Tg+Tw)/2\n",
    "print\"tf=\",tf\n",
    "#The relevant properties are desity(rho=972kg/m**3),conductivity(k=0.670W/(m*K)),viscosity(mu=3.54*10**-4 kg/(m*s))\n",
    "#specific heat(cp=4.2J/(kg*K)),vapur density(rhov(100Â°C)=0.598k/m**3),Enthalpy of vaporisation(hfg(100Â°C)=2.27*10**6J/kg)\n",
    "#g is acceleration due to gravity =9.81m/s**2\n",
    "g=9.81;\n",
    "rho=972;\n",
    "k=0.670;\n",
    "mu=3.54*10**-4;\n",
    "cp=4.2;\n",
    "rhov=0.598;\n",
    "hfg=2.27*10**6;\n",
    "#The average heat transfer coefficient over length L is hbar=0.943*((rho*(rho-rhov)*g*h*L**3)/(mu*k*(Tg-Tw)))**(1/4)\n",
    "print\"The average heat transfer coefficient over length L in W/(m**2*K)\"\n",
    "hbar=0.943*((rho*(rho-rhov)*g*hfg*k**3)/(mu*L*(Tg-Tw)))**(1/4)\n",
    "print\"hbar=\",hbar\n",
    "#The rate of heat transfer Q=hbarL*A*(Tg-Tw)\n",
    "#Area(A)=L*B\n",
    "A=L*B;\n",
    "print\"The rate of heat transfer  in kW \"\n",
    "Q=(hbar*A*(Tg-Tw))/1000\n",
    "print\"Q=\",Q\n",
    "#The film thickness at the trailing edges is found out by delta=((4*mu*k*x*(Tg-Tw))/(g*hfg*rho*(rho-rhov)))**(1/4)\n",
    "print\"(b)The film thickness at the trailing edges in m is\"\n",
    "#at trailing edges x=1.5m\n",
    "x=1.5;\n",
    "delta=((4*mu*k*x*(Tg-Tw))/(g*hfg*rho*(rho-rhov)))**(1/4)\n",
    "print\"delta=\",delta\n",
    "#The rate of condensation is given by mdotc=(Q/hfg)\n",
    "print\"The total rate of condensation in kg/s\"\n",
    "mdotc=((Q*1000)/hfg)\n",
    "print\"mdotc=\",mdotc\n",
    "#v is the average flow velocity\n",
    "print\"Hence the average flow velocity at the trailing edge in m/s is\"\n",
    "v=(mdotc)/(rho*delta*B)\n",
    "print\"v=\",v"
   ]
  },
  {
   "cell_type": "markdown",
   "metadata": {},
   "source": [
    "## Ex9.4:pg-396"
   ]
  },
  {
   "cell_type": "code",
   "execution_count": 11,
   "metadata": {
    "collapsed": false
   },
   "outputs": [
    {
     "name": "stdout",
     "output_type": "stream",
     "text": [
      "Introduction to heat transfer by S.K.Som, Chapter 9, Example 4\n",
      "The mean film temprature inÂ°C is\n",
      "tf= 30\n",
      " Modified enthalpy in J/kg is\n",
      "hfgdash= 131330.0\n",
      "The average heat transfer coefficient over length L in W/(m**2*K)\n",
      "hbar= 0.555\n",
      "The total rate of condensation in kg/hr\n",
      "mdotc= 0.00716923260703\n"
     ]
    }
   ],
   "source": [
    "import math\n",
    " \n",
    "print\"Introduction to heat transfer by S.K.Som, Chapter 9, Example 4\"\n",
    "#Saturated freon-012 at Temprature(Tg)=35Â°C is condensed horizontal tube of diameter(D)=15mm or.015m at a lower vapour velocity.\n",
    "#length,L=1m,Since per meter of tube is considered.\n",
    "L=1;\n",
    "Tg=35;\n",
    "D=0.015;\n",
    "#The tube wall is maintained at temprature(Tw)=25Â°C\n",
    "Tw=25;\n",
    "#For freon-12 at 35Â°C,enthalpy of vaporisation(hfg=131.33kJ/kg) and vapour density(rhov=42.68kg/m**3)\n",
    "hfg=131.33*10**3;\n",
    "rhov=42.68;\n",
    "#tf is mean film temprature\n",
    "print\"The mean film temprature inÂ°C is\"\n",
    "tf=(Tg+Tw)/2\n",
    "print\"tf=\",tf\n",
    "#The relevant properties at 30Â°C are density(rho=1.29*10**3kg/m**3),conductivity(k=0.071W/(mK)),viscosity(mu=2.50*10**-4kg/(m*s)),specific heat(cp=983J/(kg*Â°C))\n",
    "rho=1.29*10**3;\n",
    "k=0.071;\n",
    "mu=2.50*10**-4;\n",
    "cp=983;\n",
    "#g is acceleration due to gravity =9.81m/s**2\n",
    "g=9.81;\n",
    "#we found the modified enthalpy by using following equation hfgdash=hfg+(3/8)*cp*(Tg-Tw)\n",
    "print\" Modified enthalpy in J/kg is\"\n",
    "hfgdash=hfg+((3/8)*cp*(Tg-Tw))\n",
    "print\"hfgdash=\",hfgdash\n",
    "#The average heat transfer coefficient over length L is hbar=0.555*((rho*(rho-rhov)*g*hfgdash*k**3)/(mu*D*(Tg-Tw)))**(1/4)\n",
    "print\"The average heat transfer coefficient over length L in W/(m**2*K)\"\n",
    "hbar=0.555*((rho*(rho-rhov)*g*hfgdash*k**3)/(mu*D*(Tg-Tw)))**(1/4)\n",
    "print\"hbar=\",hbar\n",
    "#The rate of condensation is given by mdotc=(hbar*(pi*D*L)*(Tg-Tw))/hfg\n",
    "print\"The total rate of condensation in kg/hr\"\n",
    "mdotc=((hbar*(math.pi*D*L)*(Tg-Tw))/hfg)*3600\n",
    "print\"mdotc=\",mdotc"
   ]
  },
  {
   "cell_type": "markdown",
   "metadata": {},
   "source": [
    "## Ex9.5:pg-397"
   ]
  },
  {
   "cell_type": "code",
   "execution_count": 7,
   "metadata": {
    "collapsed": false
   },
   "outputs": [
    {
     "name": "stdout",
     "output_type": "stream",
     "text": [
      "Introduction to heat transfer by S.K.Som, Chapter 9, Example 5\n",
      "Heat transfer coefficient in W/m**2 is\n",
      "h= 105042.262441\n"
     ]
    }
   ],
   "source": [
    "import math\n",
    " \n",
    "print\"Introduction to heat transfer by S.K.Som, Chapter 9, Example 5\"\n",
    "#A nickel wire of length(L)=0.1m,Diameter(D)=1mm or .001m \n",
    "#Submerged horizontally in water at pressure=1 atm(101kPa) requires current,I=150A at voltage ,E=2.2V to maintain wire at temprature(T1)=110Â°C\n",
    "L=0.1;\n",
    "T1=110;\n",
    "D=0.001;\n",
    "I=150;\n",
    "E=2.2;\n",
    "#Area(A)=(math.pi*D*L)\n",
    "A=math.pi*D*L;\n",
    "#The saturation temprature of water at one atmospheric pressure(101kPa) is T2=100Â°C.\n",
    "T2=100;\n",
    "#We can write from energy balance E*I=h*A*(T1-T2),we can find heat transfer coefficient from it.\n",
    "#h is heat transfer coefficient\n",
    "print\"Heat transfer coefficient in W/m**2 is\"\n",
    "h=(E*I)/(A*(T1-T2))\n",
    "print\"h=\",h"
   ]
  },
  {
   "cell_type": "markdown",
   "metadata": {},
   "source": [
    "## Ex9.6:pg-398"
   ]
  },
  {
   "cell_type": "code",
   "execution_count": 18,
   "metadata": {
    "collapsed": false
   },
   "outputs": [
    {
     "name": "stdout",
     "output_type": "stream",
     "text": [
      "Introduction to heat transfer by S.K.Som, Chapter 9, Example 6\n",
      "Critical Heat flux in W/m**2 is\n",
      "qc= 202044.0\n",
      "The burn out voltage in Volts is  \n",
      "E= 1.90421983831\n"
     ]
    }
   ],
   "source": [
    "import math\n",
    " \n",
    "print\"Introduction to heat transfer by S.K.Som, Chapter 9, Example 6\"\n",
    "#In a laboratory experiment,A current(I)=100A burns out a nickel wire having Diameter(D)=1mm or 0.001mm,length(L)=0.3m\n",
    "I=100;\n",
    "D=.001;\n",
    "L=0.3;\n",
    "#It is submerged horizontally in water at one atmospheric pressure.\n",
    "#For saturated water at one atmospheric pressure,density(rhol=960kg/m**3),vapour density(rhov=0.60kg/m**3),enthalpy of vaporisation(hfg=2.26*10**6J/kg),surface tension(sigma=0.055N/m).\n",
    "rhol=960;\n",
    "rhov=0.60;\n",
    "hfg=2.26*10**6;\n",
    "sigma=0.055;\n",
    "#Area(A)=(pi*D*L)\n",
    "A=math.pi*D*L;\n",
    "#g is acceleration due to gravity =9.81m/s**2\n",
    "g=9.81;\n",
    "#The wire is burnt out when heat reaches its peak\n",
    "#We use following expression to determine critical heat flux qc=0.149*hfg*rhov*((sigma*g*(rhol-rhov))/rhov**2)**(1/4)*((rhol+rhov)/rhol)**(1/2) \n",
    "print\"Critical Heat flux in W/m**2 is\"\n",
    "qc=0.149*hfg*rhov*((sigma*g*(rhol-rhov))/rhov**2)**(1/4)*((rhol+rhov)/rhol)**(1/2) \n",
    "print\"qc=\",qc\n",
    "#From the energy balance E*I=qc*A\n",
    "#E is the burn out voltage\n",
    "print\"The burn out voltage in Volts is  \"\n",
    "E=(qc*A)/I\n",
    "print\"E=\",E"
   ]
  },
  {
   "cell_type": "markdown",
   "metadata": {},
   "source": [
    "## Ex9.7:pg-399"
   ]
  },
  {
   "cell_type": "code",
   "execution_count": 19,
   "metadata": {
    "collapsed": false
   },
   "outputs": [
    {
     "name": "stdout",
     "output_type": "stream",
     "text": [
      "Introduction to heat transfer by S.K.Som, Chapter 9, Example 7\n",
      "Heat flux q in W/m**2 is\n",
      "The peak heat flux for water at one atmospheric pressure is qc=1.24*10**6(found in example 9.6).Since q<qc,The regime of boiling is nucleate.\n",
      "q= 3636.07255495\n"
     ]
    }
   ],
   "source": [
    "import math\n",
    " \n",
    "print\"Introduction to heat transfer by S.K.Som, Chapter 9, Example 7\"\n",
    "#A heated nickel plate at temprature (T1)=110Â°C is submereged in water at one atmospheric pressure.\n",
    "T1=110;\n",
    "#For nucleate boiling coefficient(csf=0.006) and n=1\n",
    "csf=0.006;\n",
    "n=1;\n",
    "#For saturated water at one atmospheric pressure,density of liquid(rhol=960kg/m**3),vapour density(rhov=0.60kg/m**3)\n",
    "#enthalpy of vaporisation(hfg=2.26*10**6J/kg),surface tension(sigma=0.055N/m),saturation temprature(T2)=100Â°C\n",
    "T2=100;\n",
    "rhol=960;\n",
    "rhov=0.60;\n",
    "hfg=2.26*10**6;\n",
    "sigma=0.055;\n",
    "#g is acceleration due to gravity =9.81m/s**2\n",
    "g=9.81;\n",
    "#We take specific heat of liquid(cpl=4.216kJ/(kg*K)),prandtl number of liquid(Prl=1.74),viscosity of liquid(mul=2.82*10**-4kg/(m*s))\n",
    "cpl=4.216*10**3;\n",
    "Prl=1.74;\n",
    "mul=2.82*10**-4;\n",
    "#The heat flux q is given by expression q=(mul*hfg)*(((rhol-rhov)*g)/sigma)**(1/2)*((cpl*(T1-T2))*(csf*hfg*prl**n))**3 \n",
    "print\"Heat flux q in W/m**2 is\"\n",
    "q=(mul*hfg)*(((rhol-rhov)*g)/sigma)**(1/2)*((cpl*(T1-T2))/(csf*hfg*Prl**n))**3 \n",
    "print\"The peak heat flux for water at one atmospheric pressure is qc=1.24*10**6(found in example 9.6).Since q<qc,The regime of boiling is nucleate.\"\n",
    "print\"q=\",q"
   ]
  },
  {
   "cell_type": "markdown",
   "metadata": {},
   "source": [
    "## Ex9.8:pg-401"
   ]
  },
  {
   "cell_type": "code",
   "execution_count": 21,
   "metadata": {
    "collapsed": false
   },
   "outputs": [
    {
     "name": "stdout",
     "output_type": "stream",
     "text": [
      "Introduction to heat transfer by S.K.Som, Chapter 9, Example 8\n",
      "The heat flux in W/m**2 is\n",
      "q= 750000.0\n",
      "The surface temprature in Â°C is\n",
      "Tw= 120.0\n",
      "The value of the coefficient csf is \n",
      "csf= 0.0214423761571\n"
     ]
    }
   ],
   "source": [
    "import math\n",
    " \n",
    "print\"Introduction to heat transfer by S.K.Som, Chapter 9, Example 8\"\n",
    "#A Copper bar whose one end is exposed to boiling water while the other end is encapsulated by an electric heater.\n",
    "#Thermocouples are inserted in the bar to measure the tempratures at two locations A and b at distances xA=10mm and xB=30mm from the surface.\n",
    "xA=.010;\n",
    "xB=.030;\n",
    "#Under steady condition nucleate boiling is maintained in saturated water at atmospheric pressure and the tempratures are TA=140Â°C and TB=180Â°C,n=1\n",
    "TA=140;\n",
    "TB=180;\n",
    "n=1;\n",
    "#The values of relevant properties of water and other parameters are \n",
    "#density of liquid(rhol=960kg/m**3),vapour density(rhov=0.60kg/m**3),specific heat of liquid(cpl=4.216 kJ/(kg*K))\n",
    "#enthalpy of vaporisation(hfg=2.26*106J/kg),prandtl number of liquiid(Prl=1.74),viscosity of liquid(mul=2.82*10**-4kg/(m*s)),surface tension(sigma1=0.055N/m).\n",
    "rhol=960;\n",
    "rhov=0.60;\n",
    "cpl=4.216*10**3;\n",
    "hfg=2.26*10**6;\n",
    "Prl=1.74;\n",
    "mul=2.82*10**-4;\n",
    "sigma1=0.055;\n",
    "#We have to know the value of heat flux(q) and the surface temprature(Tw).\n",
    "#Since we know the tempratures at location A and B,The heat flux q is determined by fourier law of heat conduction in the bar at steady-state as\n",
    "#q=k*((TB-TA)/(xB-xA))\n",
    "#We take for copper conductivity,k=375W/(m*K)\n",
    "k=375;\n",
    "print\"The heat flux in W/m**2 is\"\n",
    "q=k*((TB-TA)/(xB-xA))\n",
    "print\"q=\",q\n",
    "#g is acceleration due to gravity =9.81m/s**2\n",
    "g=9.81;\n",
    "#The surface temprature is given by Tw=TA-((TB-TA)/(xB-xA))*xA\n",
    "print\"The surface temprature in Â°C is\"\n",
    "Tw=TA-((TB-TA)/(xB-xA))*xA\n",
    "print\"Tw=\",Tw\n",
    "#Temprature,T=100Â°C,since copper bar is exposed to boiling water. \n",
    "T=100;\n",
    "#Now we use following equation to determine csf,q=(mul*hfg)*(((rhol-rhov)*g)/sigma1)**(1/2)*((cpl*(Tw-T))/(csf*hfg*Prl**n))**3 \n",
    "#Manipulating above equation to find csf we get csf=((cpl*(Tw-T))/(((q/((mul*hfg)*(((rhol-rhov)*g)/sigma1)**(1/2))**(1/3))*hfg*Prl**n))\n",
    "print\"The value of the coefficient csf is \"\n",
    "csf=((cpl*(Tw-T))/(((q/((mul*hfg)*(((rhol-rhov)*g)/sigma1)**(1/2)))**(1/3))*hfg*Prl**n))#[NOTE:The answer in the book is incorrect.(Calcultion mistake)]\n",
    "print\"csf=\",csf"
   ]
  }
 ],
 "metadata": {
  "kernelspec": {
   "display_name": "Python 2",
   "language": "python",
   "name": "python2"
  },
  "language_info": {
   "codemirror_mode": {
    "name": "ipython",
    "version": 2
   },
   "file_extension": ".py",
   "mimetype": "text/x-python",
   "name": "python",
   "nbconvert_exporter": "python",
   "pygments_lexer": "ipython2",
   "version": "2.7.11"
  }
 },
 "nbformat": 4,
 "nbformat_minor": 0
}
