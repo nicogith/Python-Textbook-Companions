{
 "cells": [
  {
   "cell_type": "markdown",
   "metadata": {},
   "source": [
    "#Chapter 2 Applications Of Operational Amplifier"
   ]
  },
  {
   "cell_type": "markdown",
   "metadata": {},
   "source": [
    "##Example 1 pagenumber 2.86"
   ]
  },
  {
   "cell_type": "code",
   "execution_count": 1,
   "metadata": {
    "collapsed": false
   },
   "outputs": [
    {
     "name": "stdout",
     "output_type": "stream",
     "text": [
      "R1= 100.0 kohm\n",
      "R2= 10 kohm\n",
      "R3= 1 kohm\n"
     ]
    }
   ],
   "source": [
    "#given\n",
    "Rf=10;#ohm\n",
    "gain1=0.1;\n",
    "gain2=1;\n",
    "gain3=10;\n",
    "#determine r1,r1,r3 \n",
    "\n",
    "print 'R1=',Rf/gain1,'kohm';\n",
    "print 'R2=',Rf/gain2,'kohm';\n",
    "print 'R3=',Rf/gain3,'kohm';\n"
   ]
  },
  {
   "cell_type": "markdown",
   "metadata": {},
   "source": [
    "##Example 2 pagenumber 2.86"
   ]
  },
  {
   "cell_type": "code",
   "execution_count": 1,
   "metadata": {
    "collapsed": false
   },
   "outputs": [
    {
     "name": "stdout",
     "output_type": "stream",
     "text": [
      "output voltage  3.0 volt\n"
     ]
    }
   ],
   "source": [
    "#given\n",
    "v1=5;#volt\n",
    "v2=2;#volt\n",
    "rf1=10e3;#ohm\n",
    "r1=10e3;#ohm\n",
    "#determine output voltage\n",
    "v0=-((-v1*rf1/r1)-(-v2*rf1/r1));#output voltage\n",
    "print 'output voltage ',v0,'volt'\n"
   ]
  },
  {
   "cell_type": "markdown",
   "metadata": {},
   "source": [
    "##Example 4 pagenumber 2.87"
   ]
  },
  {
   "cell_type": "code",
   "execution_count": 7,
   "metadata": {
    "collapsed": false
   },
   "outputs": [
    {
     "name": "stdout",
     "output_type": "stream",
     "text": [
      "switch off gain  1.0\n",
      "switch on gain -2.0\n"
     ]
    }
   ],
   "source": [
    "#given\n",
    "r1=10e3;#ohm\n",
    "rf1=20e3;#ohm\n",
    "r2=5e3;#ohm\n",
    "#determine gain of amplifier\n",
    "a1=1+rf1/r1;#gain\n",
    "a2=-rf1/r1;\n",
    "print 'switch off gain ',a1+a2;\n",
    "print 'switch on gain',a2;"
   ]
  },
  {
   "cell_type": "markdown",
   "metadata": {
    "collapsed": true
   },
   "source": [
    "##Example 5 pagenumber 2.87"
   ]
  },
  {
   "cell_type": "code",
   "execution_count": 10,
   "metadata": {
    "collapsed": false
   },
   "outputs": [
    {
     "name": "stdout",
     "output_type": "stream",
     "text": [
      "output voltage  6.0 volt\n"
     ]
    }
   ],
   "source": [
    "#given\n",
    "v1=2;#volt\n",
    "v2=3;#volt\n",
    "r1=1e3;#ohm\n",
    "rf1=5e3;#ohm\n",
    "r2=8e3;#ohm\n",
    "#determine output voltage\n",
    "v11=v2*r2/(r2+r1);#output voltage\n",
    "print 'output voltage ',(1+rf1/r1)*(v2-v1),'volt'\n"
   ]
  },
  {
   "cell_type": "markdown",
   "metadata": {},
   "source": [
    "##Example 6 pagenumber 2.90"
   ]
  },
  {
   "cell_type": "code",
   "execution_count": 19,
   "metadata": {
    "collapsed": false
   },
   "outputs": [
    {
     "name": "stdout",
     "output_type": "stream",
     "text": [
      "gain amplifer  4.5\n"
     ]
    }
   ],
   "source": [
    "#given\n",
    "r1=2e3;#ohm\n",
    "rf1=8e3;#ohm\n",
    "A=45;\n",
    "#determine gain\n",
    "a=1+(rf1/r1)\n",
    "gain=A/(1+A/a);\n",
    "print 'gain amplifer ',gain\n"
   ]
  },
  {
   "cell_type": "markdown",
   "metadata": {},
   "source": [
    "##Example 7 pagenumber 2.91"
   ]
  },
  {
   "cell_type": "code",
   "execution_count": 20,
   "metadata": {
    "collapsed": false
   },
   "outputs": [
    {
     "name": "stdout",
     "output_type": "stream",
     "text": [
      "commom mode rejection ratio  929.0\n"
     ]
    }
   ],
   "source": [
    "#given\n",
    "r1=1e3;#ohm\n",
    "r2=100e3;#ohm\n",
    "rf1=90e3;#ohm\n",
    "#determine cmrr\n",
    "ac=10e3/(r1+r2);#common mode gain\n",
    "ad=(rf1+r1*((r2)/(r1+r2)*2))/r1;#differential mode gaih\n",
    "print 'commom mode rejection ratio ',ad/ac#error in book\n"
   ]
  },
  {
   "cell_type": "markdown",
   "metadata": {},
   "source": [
    "##Example 8 pagenumber 2.92"
   ]
  },
  {
   "cell_type": "code",
   "execution_count": 52,
   "metadata": {
    "collapsed": false
   },
   "outputs": [
    {
     "name": "stdout",
     "output_type": "stream",
     "text": [
      "output current -4.0 mA\n"
     ]
    }
   ],
   "source": [
    "#given\n",
    "ii1=2e-3;#A\n",
    "rf1=2e3;#ohm\n",
    "r0=2e3;#ohm\n",
    "#determine output current\n",
    "i0=-(ii1+(ii1*rf1)/r0)#output current\n",
    "\n",
    "print 'output current',i0*1e3,'mA'\n"
   ]
  },
  {
   "cell_type": "markdown",
   "metadata": {},
   "source": [
    "##Example 10 pagenumber 2.94"
   ]
  },
  {
   "cell_type": "code",
   "execution_count": 1,
   "metadata": {
    "collapsed": false
   },
   "outputs": [
    {
     "name": "stdout",
     "output_type": "stream",
     "text": [
      "output voltage  -0.0 volt\n"
     ]
    }
   ],
   "source": [
    "#given\n",
    "v1=5;#volt\n",
    "v2=2;#volt\n",
    "r1=10e3;#ohm\n",
    "rf1=r1;#ohm\n",
    "#determine output voltage\n",
    "v01=-v1*(rf1/r1);#output voltage\n",
    "v0=-(rf1/r1)*(v01+v1)\n",
    "\n",
    "print 'output voltage ',v0,'volt'\n"
   ]
  },
  {
   "cell_type": "markdown",
   "metadata": {},
   "source": [
    "##Example 11 pagenumber 2.95"
   ]
  },
  {
   "cell_type": "code",
   "execution_count": 3,
   "metadata": {
    "collapsed": false
   },
   "outputs": [
    {
     "name": "stdout",
     "output_type": "stream",
     "text": [
      "output voltage  -5.0 v1 + 2.0 v2\n"
     ]
    }
   ],
   "source": [
    "#given\n",
    "rf1=10e3;#ohm\n",
    "r1=2e3;#ohm\n",
    "r2=5e3;#ohm\n",
    "#determine output voltage\n",
    "print 'output voltage ',-rf1/r1,'v1 +',rf1/r2,'v2'\n"
   ]
  },
  {
   "cell_type": "markdown",
   "metadata": {},
   "source": [
    "##Example 13 pagenumber 2.97"
   ]
  },
  {
   "cell_type": "code",
   "execution_count": 7,
   "metadata": {
    "collapsed": false
   },
   "outputs": [
    {
     "name": "stdout",
     "output_type": "stream",
     "text": [
      "R1= 1.592 Kohm\n",
      "Ri= 10 Kohm\n",
      "Rf= 5.76 Kohm\n"
     ]
    }
   ],
   "source": [
    "#given\n",
    "freq=1e3;#hz\n",
    "c=0.1e-6;#farad\n",
    "#determine rf ri r1\n",
    "r1=1/(2*3.14*freq*c)\n",
    "print 'R1=',round(r1/1e3,3),'Kohm'\n",
    "print 'Ri= 10 Kohm'\n",
    "ri=10e3;\n",
    "rf=(1.576-1)*ri;\n",
    "print 'Rf=',rf/1000,'Kohm'\n"
   ]
  },
  {
   "cell_type": "markdown",
   "metadata": {},
   "source": [
    "##Example 14 pagenumber 2.97"
   ]
  },
  {
   "cell_type": "code",
   "execution_count": 10,
   "metadata": {
    "collapsed": false
   },
   "outputs": [
    {
     "name": "stdout",
     "output_type": "stream",
     "text": [
      "R1= 796.0 ohm\n",
      "R2= 9.0 ohm\n",
      "R3= 32.0 ohm\n"
     ]
    }
   ],
   "source": [
    "#given\n",
    "fc=3e3;#hz\n",
    "q=30;\n",
    "af=20;\n",
    "c=0.1e-6;#farad\n",
    "#determine r1 r2 r3\n",
    "r1=q/(2*3.14*fc*c*af)\n",
    "r2=q/(2*3.14*fc*c*(2*q*q-af))\n",
    "r3=q/(3.14*fc*c)/1e3;\n",
    "print 'R1=',round(r1),'ohm'\n",
    "print 'R2=',round(r2),'ohm'\n",
    "print 'R3=',round(r3),'ohm'\n"
   ]
  },
  {
   "cell_type": "markdown",
   "metadata": {},
   "source": [
    "##Example 15 pagenumber 2.98"
   ]
  },
  {
   "cell_type": "code",
   "execution_count": 12,
   "metadata": {
    "collapsed": false
   },
   "outputs": [
    {
     "name": "stdout",
     "output_type": "stream",
     "text": [
      "R=   11.0 Kohm\n",
      "Rf1= 66.0 Kohm\n"
     ]
    }
   ],
   "source": [
    "#given\n",
    "fc=1.5e3;#hz\n",
    "c=0.01e-6;#farad\n",
    "r1=33e3;#ohm\n",
    "#determine rf1\n",
    "r=1/(2*3.14*fc*c)\n",
    "rf1=2*r1\n",
    "print 'R=  ',round(r/1e3),'Kohm'\n",
    "print 'Rf1=',round(rf1/1e3),'Kohm'\n"
   ]
  },
  {
   "cell_type": "markdown",
   "metadata": {},
   "source": [
    "##Example 16 pagenumber 2.99"
   ]
  },
  {
   "cell_type": "code",
   "execution_count": 20,
   "metadata": {
    "collapsed": false
   },
   "outputs": [
    {
     "name": "stdout",
     "output_type": "stream",
     "text": [
      "R1= 3.18 Kohm\n",
      "R2= 723.8 ohm\n"
     ]
    }
   ],
   "source": [
    "#given\n",
    "f1=500;#hz\n",
    "f2=2.2e3;#hz\n",
    "a=5;\n",
    "c=0.1e-6;#farad\n",
    "rf1=10e3;#ohm\n",
    "#determine r1 r2\n",
    "r1=1/(2*3.14*f1*c)\n",
    "r2=1/(2*3.14*f2*c)\n",
    "print 'R1=',round(r1/1000,2),'Kohm'\n",
    "print 'R2=',round(r2,1),'ohm'\n"
   ]
  },
  {
   "cell_type": "markdown",
   "metadata": {},
   "source": [
    "##Example 17 pagenumber 2.100"
   ]
  },
  {
   "cell_type": "code",
   "execution_count": 54,
   "metadata": {
    "collapsed": false
   },
   "outputs": [
    {
     "name": "stdout",
     "output_type": "stream",
     "text": [
      "Vin  0.1  volt\n"
     ]
    }
   ],
   "source": [
    "#given\n",
    "R=100e3;#ohm\n",
    "IB=1e-6;#A\n",
    "Vt=25e-3;#volt\n",
    "v0=0;#volt\n",
    "#determine Vin\n",
    "Vin=(v0*2.3*Vt)+(R*IB);#input voltage\n",
    "print \"Vin \",round(Vin,3),\" volt\"\n"
   ]
  },
  {
   "cell_type": "markdown",
   "metadata": {},
   "source": [
    "##Example 18 pagenumber 2.101"
   ]
  },
  {
   "cell_type": "code",
   "execution_count": 24,
   "metadata": {
    "collapsed": false
   },
   "outputs": [
    {
     "name": "stdout",
     "output_type": "stream",
     "text": [
      "R1= 1885.0 Kohm\n",
      "R2= 29    ohm\n"
     ]
    }
   ],
   "source": [
    "#given\n",
    "freq=100;#hz\n",
    "c=0.1e-6;#farad\n",
    "#determine r1 r2\n",
    "r2=29;#assume\n",
    "r1=((0.065/(freq*c))*10)*r2\n",
    "print 'R1=',round(r1/1e3,3),'Kohm'\n",
    "print 'R2= 29    ohm'\n"
   ]
  },
  {
   "cell_type": "markdown",
   "metadata": {},
   "source": [
    "##Example 19 pagenumber 2.101"
   ]
  },
  {
   "cell_type": "code",
   "execution_count": 56,
   "metadata": {
    "collapsed": false
   },
   "outputs": [
    {
     "name": "stdout",
     "output_type": "stream",
     "text": [
      "R1= 10.0 Kohm\n",
      "Rf1= 5.0 Kohm\n"
     ]
    }
   ],
   "source": [
    "#given\n",
    "freq=15.9e3;#hz\n",
    "a=1.5;\n",
    "#determine rf1 r1\n",
    "c=0.001e-6;#farad\n",
    "r1=1/(2*3.14*freq*c)\n",
    "rf1=(a-1)*(1/(2*3.14*freq*c))#feedback resistance\n",
    "print 'R=',round(r1/1e3,1),'Kohm'\n",
    "print'Rf=',round(rf1/1e3,1),'Kohm'\n"
   ]
  },
  {
   "cell_type": "markdown",
   "metadata": {},
   "source": [
    "##Example 20 pagenumber 2.103"
   ]
  },
  {
   "cell_type": "code",
   "execution_count": 25,
   "metadata": {
    "collapsed": false
   },
   "outputs": [
    {
     "name": "stdout",
     "output_type": "stream",
     "text": [
      "output voltage  14.7 volt\n"
     ]
    }
   ],
   "source": [
    "#given\n",
    "v1=2;#volt\n",
    "v2=3;#volt\n",
    "v3=6;#volt\n",
    "v4=8;#volt\n",
    "rf1=50e3;#ohm\n",
    "r1=40e3;#ohm\n",
    "r2=25e3;#ohm\n",
    "r3=10e3;#ohm\n",
    "r4=20e3;#ohm\n",
    "#determine output voltage\n",
    "v0x=-(v1*rf1/r1)-(v2*rf1/r2);\n",
    "vn=12e3*v3/(r3+12e3)+(7.5e3*v4/(r4+7.5e3));\n",
    "v0y=(1+rf1/(r1*r2/(r1+r2)))*vn;\n",
    "print 'output voltage ',round(v0x+v0y,1),'volt'\n"
   ]
  },
  {
   "cell_type": "markdown",
   "metadata": {},
   "source": [
    "##Example 22 pagenumber 2.105"
   ]
  },
  {
   "cell_type": "code",
   "execution_count": 4,
   "metadata": {
    "collapsed": false
   },
   "outputs": [
    {
     "name": "stdout",
     "output_type": "stream",
     "text": [
      "output voltage  -25 volt\n"
     ]
    },
    {
     "data": {
      "image/png": "[encoded data removed]",
      "text/plain": [
       "<matplotlib.figure.Figure at 0xa347f60>"
      ]
     },
     "metadata": {},
     "output_type": "display_data"
    }
   ],
   "source": [
    "#given\n",
    "%matplotlib inline\n",
    "from matplotlib.pyplot import plot, text, xlabel, ylabel, show, axes, title, gca\n",
    "from numpy import arange, nditer\n",
    "rc1=1;\n",
    "vi=5;#volt\n",
    "c=1e-6;#farad\n",
    "r=1e6;#ohm\n",
    "#determine output voltage\n",
    "v0=-(1/rc1)*(vi*5)#output voltage\n",
    "from array import array\n",
    "x=array('f',[0,1,2,3,4,5,6])\n",
    "y=array('f',[0,-5,-10,-15,-20,-25,-30])\n",
    "plot(x,y) \n",
    "title(\"Example 22\")\n",
    "xlabel(\"t in seconds\")\n",
    "ylabel(\"output voltage in volts\")\n",
    "print 'output voltage ',v0,'volt';\n"
   ]
  },
  {
   "cell_type": "markdown",
   "metadata": {},
   "source": [
    "##Example 23 paenumber 2.106"
   ]
  },
  {
   "cell_type": "code",
   "execution_count": 45,
   "metadata": {
    "collapsed": false
   },
   "outputs": [
    {
     "name": "stdout",
     "output_type": "stream",
     "text": [
      "output voltage 0.01 -0.414 volt\n",
      "output voltage 0.1 -0.474 volt\n",
      "output voltage 1.0 -0.533 volt\n"
     ]
    }
   ],
   "source": [
    "#given\n",
    "from array import array\n",
    "vi=array('f',[10e-3,100e-3,1]);\n",
    "r1=1e3;#ohm\n",
    "i1=10e-13;#A\n",
    "#determine output voltage\n",
    "w=0;\n",
    "import math\n",
    "while w<3 : v0=-(0.02571)*(math.log(vi[w]/(i1*r1))); print'output voltage',round(vi[w],3),round(v0,3),'volt'; w=w+1;#error in book\n"
   ]
  },
  {
   "cell_type": "markdown",
   "metadata": {},
   "source": [
    "##Example 24 pagenumber 2.107"
   ]
  },
  {
   "cell_type": "code",
   "execution_count": 37,
   "metadata": {
    "collapsed": false
   },
   "outputs": [
    {
     "name": "stdout",
     "output_type": "stream",
     "text": [
      "output voltage  0.067 volt\n"
     ]
    }
   ],
   "source": [
    "#given\n",
    "k1=1.38e-23;#j/k\n",
    "t1=298;#k\n",
    "q=1.6e-19;#columb\n",
    "vi=10e-3;#volt\n",
    "ri=10e3;#ohm\n",
    "#determine output voltage\n",
    "import math\n",
    "v0=-(k1*t1/q)*0.4343*math.log(vi/ri)/2.303;#output voltage\n",
    "print 'output voltage ',round(v0,3),'volt'\n"
   ]
  },
  {
   "cell_type": "markdown",
   "metadata": {},
   "source": [
    "##Example 25 pagenumber 2.108"
   ]
  },
  {
   "cell_type": "code",
   "execution_count": 39,
   "metadata": {
    "collapsed": false
   },
   "outputs": [
    {
     "name": "stdout",
     "output_type": "stream",
     "text": [
      "output voltage  14751.04 volt\n"
     ]
    }
   ],
   "source": [
    "#given\n",
    "rf1=10e3;#ohm\n",
    "vi=1e-2;#volt\n",
    "#determine output voltage\n",
    "import math\n",
    "v0=math.exp(-vi/26e-3)*rf1*2.167;#output voltage\n",
    "print'output voltage ',round(v0,2),'volt'\n"
   ]
  },
  {
   "cell_type": "markdown",
   "metadata": {},
   "source": [
    "##Example 26 pagenumber 2.109"
   ]
  },
  {
   "cell_type": "code",
   "execution_count": 18,
   "metadata": {
    "collapsed": false,
    "scrolled": true
   },
   "outputs": [
    {
     "name": "stdout",
     "output_type": "stream",
     "text": [
      "quality factor   3.333\n",
      "lower frequency  1291.781 hz\n",
      "upper frequency  1741.781 hz\n"
     ]
    }
   ],
   "source": [
    "#given\n",
    "freq=1.5e3;#hz\n",
    "bw=450;#hz\n",
    "#determine qualityfactor f1 f2\n",
    "q=freq/bw;#quality factor\n",
    "import math\n",
    "f1=freq*math.sqrt(1+(1/(4*q*q)))-freq/(2*q);#lower frequency\n",
    "f2=freq*math.sqrt(1+(1/(4*q*q)))+bw/2;#upper frequency\n",
    "print'quality factor  ',round(q,3)\n",
    "print'lower frequency ',round(f1,3),'hz'\n",
    "print'upper frequency ',round(f2,3),'hz'\n"
   ]
  },
  {
   "cell_type": "markdown",
   "metadata": {},
   "source": [
    "##Exammple 27 pagenumber 2.109"
   ]
  },
  {
   "cell_type": "code",
   "execution_count": 34,
   "metadata": {
    "collapsed": false
   },
   "outputs": [
    {
     "name": "stdout",
     "output_type": "stream",
     "text": [
      "Rf  7.962   Kohm\n",
      "R1  796.178 ohm\n",
      "Cf  0.01    μfarad\n"
     ]
    }
   ],
   "source": [
    "#given\n",
    "freq=200;#hz\n",
    "vi=2;#volt\n",
    "c1=0.1e-6;#farad\n",
    "freqb=2000;#hz\n",
    "#determine cf1 rf1 r1\n",
    "rf1=1/(2*3.14*freq*c1);#feedback resistance\n",
    "r1=1/(2*3.14*c1*freqb);#input resistance\n",
    "cf1=r1*c1/rf1;#feedback capacitance\n",
    "print'Rf ',round(rf1/1e3,3),'  Kohm'\n",
    "print'R1 ',round(r1,3),'ohm'\n",
    "print'Cf ',round(cf1*1e6,3),'   μfarad'#error in book\n"
   ]
  },
  {
   "cell_type": "code",
   "execution_count": null,
   "metadata": {
    "collapsed": true
   },
   "outputs": [],
   "source": []
  }
 ],
 "metadata": {
  "kernelspec": {
   "display_name": "Python 2",
   "language": "python",
   "name": "python2"
  },
  "language_info": {
   "codemirror_mode": {
    "name": "ipython",
    "version": 2
   },
   "file_extension": ".py",
   "mimetype": "text/x-python",
   "name": "python",
   "nbconvert_exporter": "python",
   "pygments_lexer": "ipython2",
   "version": "2.7.10"
  }
 },
 "nbformat": 4,
 "nbformat_minor": 0
}
