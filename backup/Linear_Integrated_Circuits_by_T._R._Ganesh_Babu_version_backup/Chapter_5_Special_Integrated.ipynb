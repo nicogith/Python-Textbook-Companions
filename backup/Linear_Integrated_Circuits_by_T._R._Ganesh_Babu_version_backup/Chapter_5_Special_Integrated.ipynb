{
 "cells": [
  {
   "cell_type": "markdown",
   "metadata": {
    "collapsed": true
   },
   "source": [
    "#Chapter 5 Special Integrated Circuits"
   ]
  },
  {
   "cell_type": "markdown",
   "metadata": {},
   "source": [
    "##Example 1 pagenumber 5.95"
   ]
  },
  {
   "cell_type": "code",
   "execution_count": 1,
   "metadata": {
    "collapsed": false
   },
   "outputs": [
    {
     "name": "stdout",
     "output_type": "stream",
     "text": [
      "R1  72.0 Kohm\n"
     ]
    }
   ],
   "source": [
    "#given\n",
    "w=8e-3;#second\n",
    "c1=0.1e-6;#farad\n",
    "#determine r1\n",
    "r1=w/(1.11*c1);\n",
    "print'R1 ',round(r1/1e3),'Kohm'\n"
   ]
  },
  {
   "cell_type": "markdown",
   "metadata": {},
   "source": [
    "##Example 2 pagenumber 5.95"
   ]
  },
  {
   "cell_type": "code",
   "execution_count": 2,
   "metadata": {
    "collapsed": false
   },
   "outputs": [
    {
     "name": "stdout",
     "output_type": "stream",
     "text": [
      "frequency  9.667 Khz\n",
      "dutycycle  0.667\n"
     ]
    }
   ],
   "source": [
    "#given\n",
    "ra=5e3;#ohm\n",
    "rb=ra;\n",
    "c1=0.01e-6;#farad\n",
    "#determine frequency dutycycle\n",
    "freq=1.45/((ra+2*rb)*c1);#frequency\n",
    "w=(ra+rb)/(ra+2*rb);#dutycycle\n",
    "print'frequency ',round(freq/1e3,3),'Khz'\n",
    "print'dutycycle ',round(w,3)\n"
   ]
  },
  {
   "cell_type": "markdown",
   "metadata": {
    "collapsed": true
   },
   "source": [
    "##Example 3 pagenumber 5.96"
   ]
  },
  {
   "cell_type": "code",
   "execution_count": 5,
   "metadata": {
    "collapsed": false
   },
   "outputs": [
    {
     "name": "stdout",
     "output_type": "stream",
     "text": [
      "Ra  3.625 Kohm\n",
      "Rb  1.813 Kohm\n"
     ]
    }
   ],
   "source": [
    "#given\n",
    "freq=2e3;#hz\n",
    "w=0.75;\n",
    "c1=0.1e-6;#farad\n",
    "#determine ra rb\n",
    "#for 0.75 dutycycle rb=0.5*ra\n",
    "ra=1.45/freq*(1/(c1*2));\n",
    "rb=0.5*round(ra);\n",
    "print'Ra ',round(ra/1e3,3),'Kohm'\n",
    "print'Rb ',round(rb/1e3,3),'Kohm'\n"
   ]
  },
  {
   "cell_type": "markdown",
   "metadata": {
    "collapsed": true
   },
   "source": [
    "##Example 4 pagenumber 5.97"
   ]
  },
  {
   "cell_type": "code",
   "execution_count": 2,
   "metadata": {
    "collapsed": false
   },
   "outputs": [
    {
     "name": "stdout",
     "output_type": "stream",
     "text": [
      "on time     0.062 milisecond\n",
      "tof         0.047 milisecond\n",
      "frequency   9.177 Khz\n",
      "duty cycle  0.139\n"
     ]
    }
   ],
   "source": [
    "#given\n",
    "ra=2.2e3;#ohm\n",
    "rb=6.8e3;#ohm\n",
    "c1=0.01e-6;#farad\n",
    "#determine ontime offtime frequency dutycycle\n",
    "t1=0.69*(ra+rb)*c1;#on time\n",
    "t2=0.69*rb*c1;#tof\n",
    "freq=1.45/((ra+2*rb)*c1);#frequency\n",
    "w=ra/(ra+2*rb);#duty cycle\n",
    "print'on time    ',round(t1*1e3,3),'milisecond'\n",
    "print'tof        ',round(t2*1e3,3),'milisecond'\n",
    "print'frequency  ',round(freq/1e3,3),'Khz'\n",
    "print'duty cycle ',round(w,3)\n"
   ]
  },
  {
   "cell_type": "markdown",
   "metadata": {
    "collapsed": true
   },
   "source": [
    "##Example 5 pagenumber 5.98"
   ]
  },
  {
   "cell_type": "code",
   "execution_count": 9,
   "metadata": {
    "collapsed": false
   },
   "outputs": [
    {
     "name": "stdout",
     "output_type": "stream",
     "text": [
      "Ra  2.854 Mohm\n",
      "Rb  2.943 Mohm\n"
     ]
    }
   ],
   "source": [
    "#given\n",
    "t1=4;#second\n",
    "t2=2;#second\n",
    "c1=1e-6;#farad\n",
    "#detemine ra rb\n",
    "t12=t1+t2;\n",
    "w=t1/t12;\n",
    "#ra=0.97*rb\n",
    "rb=(t1/(0.69*c1))/(1+0.97);\n",
    "ra=0.97*rb;\n",
    "print'Ra ',round(ra/1e6,3),'Mohm'\n",
    "print'Rb ',round(rb/1e6,3),'Mohm'\n"
   ]
  },
  {
   "cell_type": "markdown",
   "metadata": {
    "collapsed": true
   },
   "source": [
    "##Example 6 pagenumber 5.99"
   ]
  },
  {
   "cell_type": "code",
   "execution_count": 11,
   "metadata": {
    "collapsed": false
   },
   "outputs": [
    {
     "name": "stdout",
     "output_type": "stream",
     "text": [
      "R1  540.5 Kohm\n"
     ]
    }
   ],
   "source": [
    "#given\n",
    "t1=6;#second\n",
    "c1=10e-6;#farad\n",
    "#determine r1\n",
    "r1=t1/(1.11*c1);\n",
    "print'R1 ',round(r1/1e3,1),'Kohm'\n"
   ]
  },
  {
   "cell_type": "markdown",
   "metadata": {},
   "source": [
    "##Example 7 pagenumber 5.100"
   ]
  },
  {
   "cell_type": "code",
   "execution_count": 33,
   "metadata": {
    "collapsed": false
   },
   "outputs": [
    {
     "name": "stdout",
     "output_type": "stream",
     "text": [
      "rms voltage  1.0 volt\n"
     ]
    }
   ],
   "source": [
    "#given\n",
    "en=20e-9;#volt/sqrt(z)\n",
    "fce=20;#hz\n",
    "inw=0.5e-12;#A/sqrt(hz)\n",
    "fci=20e3\n",
    "#determine voltage current spectraldensities rmsnoise\n",
    "r1=r1;\n",
    "import math\n",
    "en=math.pow(fce*math.log(fci/fce)+(fci-fce),en);\n",
    "print'rms voltage ',round(en,3),'volt'\n"
   ]
  },
  {
   "cell_type": "markdown",
   "metadata": {
    "collapsed": true
   },
   "source": [
    "##Example 7 pagenumber 5.100"
   ]
  },
  {
   "cell_type": "code",
   "execution_count": 38,
   "metadata": {
    "collapsed": false,
    "scrolled": true
   },
   "outputs": [
    {
     "name": "stdout",
     "output_type": "stream",
     "text": [
      "voltage      12.167 nanovolt/sqrt(hz)\n",
      "current      0.001 nA/sqrt(hz)\n",
      "rms voltage  1.0 volt\n"
     ]
    }
   ],
   "source": [
    "#given\n",
    "r1=9*1e3;#ohm\n",
    "k1=1.38*1e-23;\n",
    "t1=298;#k\n",
    "#determine voltage current spectraldensities rmsnoise\n",
    "r1=r1;\n",
    "import math\n",
    "er=math.sqrt(4e0*k1*t1*r1);#voltage\n",
    "i1=er/r1;#current\n",
    "er12=1/er;\n",
    "w=20e3-20;\n",
    "er1=math.pow(w,er*1e0);#rms voltage\n",
    "print'voltage     ',round(er*1e9,3),'nanovolt/sqrt(hz)'\n",
    "print'current     ',round(i1*1e9,3),'nA/sqrt(hz)'\n",
    "print'rms voltage ',round(er1,3),'volt'\n"
   ]
  },
  {
   "cell_type": "markdown",
   "metadata": {},
   "source": [
    "# Example 8 pagenumber 5.100"
   ]
  },
  {
   "cell_type": "code",
   "execution_count": 39,
   "metadata": {
    "collapsed": false
   },
   "outputs": [
    {
     "name": "stdout",
     "output_type": "stream",
     "text": [
      "voltage      12.167 nanovolt\n",
      "current      1.352 pA\n",
      "rms voltage  0.9 volt\n"
     ]
    }
   ],
   "source": [
    "#given\n",
    "r1=9e3;#ohm\n",
    "k1=1.38*1e-23\n",
    "t1=298;#kelvin\n",
    "#determine voltage current spectraldensities rmsnoise\n",
    "r1=r1;\n",
    "import math\n",
    "er=math.sqrt(4*k1*t1*r1);#voltage\n",
    "i1=er/r1;#current\n",
    "er12=1/er;\n",
    "w=20e3-20;#width constant\n",
    "er1=r1/10e3;#rms voltage\n",
    "print'voltage     ',round(er*1e9,3),'nanovolt';\n",
    "print'current     ',round(i1*1e12,3),'pA';\n",
    "print'rms voltage ',round(er1,3),'volt';#error in book\n"
   ]
  },
  {
   "cell_type": "markdown",
   "metadata": {
    "collapsed": true
   },
   "source": [
    "##Example 9 pagenumber 5.101"
   ]
  },
  {
   "cell_type": "code",
   "execution_count": 24,
   "metadata": {
    "collapsed": false
   },
   "outputs": [
    {
     "name": "stdout",
     "output_type": "stream",
     "text": [
      "signal to noise id  1.0  =  61.933 dB\n",
      "signal to noise id  0.001  =  31.933 dB\n"
     ]
    }
   ],
   "source": [
    "#given\n",
    "fh=2e6;#hz\n",
    "id=[1e-6,1e-9];\n",
    "i=0;\n",
    "import math\n",
    "while i<2 :\n",
    "    In=math.sqrt(2*1.602e-19*id[i]*fh);\n",
    "    print'signal to noise id ',round((id[i]*1e6),3),' = ',round(20*math.log10(id[i]/In),3),'dB';\n",
    "    i=i+1;\n",
    "\n"
   ]
  },
  {
   "cell_type": "markdown",
   "metadata": {},
   "source": [
    "##Example 10 pagenumber 5.101"
   ]
  },
  {
   "cell_type": "code",
   "execution_count": 26,
   "metadata": {
    "collapsed": false
   },
   "outputs": [
    {
     "name": "stdout",
     "output_type": "stream",
     "text": [
      "rms voltage  1257.142 μvolt\n"
     ]
    }
   ],
   "source": [
    "#given\n",
    "r1=100e3;#ohm\n",
    "rf=250e3;#ohm\n",
    "r3=70e3;#ohm\n",
    "fce=200;#hz\n",
    "fci=2e3;#hz\n",
    "ft=1e6;#hz\n",
    "enw=20e-9;\n",
    "inw=0.5e-12;\n",
    "f1=0.1;\n",
    "#determine RMS voltage\n",
    "import math\n",
    "fa=ft/(1+(rf/r1));\n",
    "rn=r1*rf/(r1+rf);\n",
    "p=fce*math.log(fa/f1)+1.57*fa-f1;\n",
    "q=(r3*r3+rn*rn)*(fci*math.log(fa/f1)+1.5*fa-f1);\n",
    "r=1.65e-20*(r3+rn)*(1.57*fa-f1);\n",
    "en=(1+rf/r1)*(enw*enw+p+inw*inw*q+r);\n",
    "\n",
    "print'rms voltage ',round(math.sqrt(en),3),'μvolt';#error in book\n"
   ]
  },
  {
   "cell_type": "code",
   "execution_count": null,
   "metadata": {
    "collapsed": true
   },
   "outputs": [],
   "source": []
  }
 ],
 "metadata": {
  "kernelspec": {
   "display_name": "Python 2",
   "language": "python",
   "name": "python2"
  },
  "language_info": {
   "codemirror_mode": {
    "name": "ipython",
    "version": 2
   },
   "file_extension": ".py",
   "mimetype": "text/x-python",
   "name": "python",
   "nbconvert_exporter": "python",
   "pygments_lexer": "ipython2",
   "version": "2.7.10"
  }
 },
 "nbformat": 4,
 "nbformat_minor": 0
}
