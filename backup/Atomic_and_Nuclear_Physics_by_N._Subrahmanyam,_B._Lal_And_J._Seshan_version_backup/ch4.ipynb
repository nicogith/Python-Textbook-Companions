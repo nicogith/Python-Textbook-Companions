{
 "metadata": {
  "name": "",
  "signature": ""
 },
 "nbformat": 3,
 "nbformat_minor": 0,
 "worksheets": [
  {
   "cells": [
    {
     "cell_type": "heading",
     "level": 1,
     "metadata": {},
     "source": [
      "chapter 04 : Mechanics"
     ]
    },
    {
     "cell_type": "heading",
     "level": 2,
     "metadata": {},
     "source": [
      "Ex4.1 : : Pg: 124 "
     ]
    },
    {
     "cell_type": "code",
     "collapsed": false,
     "input": [
      "from math import exp\n",
      "#Percentage transmission of beam through potential barrier\n",
      "eV = 1.6e-019     # Energy required by an electron to move through a potential barrier of one volt, joules\n",
      "m = 9.1e-031     # Mass of electron, kg\n",
      "E = 4.0*eV     # Energy of each electron, joule\n",
      "Vo = 6.0*eV    # Height of potential barrier, joule\n",
      "a = 10e-010     # Width of potential barrier, m\n",
      "h_bar = 1.054e-34     # Reduced Planck's constant, J-s\n",
      "k = 2*m*(Vo-E)/h_bar**2\n",
      "# Since 2*k*a = 2*a*[2*m*(Vo-E)**1/2]/h_bar so\n",
      "pow = 2.0*a/h_bar*(2*m*(Vo-E))**(1.0/2)     # Power of exponential in the expression for T\n",
      "T = (16*E/Vo)*(1-E/Vo)*exp(-1*pow)     # Transmission coefficient of the beam through the potential barrier\n",
      "percent_T = T*100     \n",
      "print \"The percentage transmission of beam throught potential barrier = %5.3e %%\"% percent_T "
     ],
     "language": "python",
     "metadata": {},
     "outputs": [
      {
       "output_type": "stream",
       "stream": "stdout",
       "text": [
        "The percentage transmission of beam throught potential barrier = 1.828e-04 %\n"
       ]
      }
     ],
     "prompt_number": 4
    },
    {
     "cell_type": "heading",
     "level": 2,
     "metadata": {},
     "source": [
      "Ex4.2 : : Pg: 125 "
     ]
    },
    {
     "cell_type": "code",
     "collapsed": false,
     "input": [
      "from math import pi\n",
      "#Width of the potential barrier\n",
      "A = 222.0     # Atomic weight of radioactive atom\n",
      "Z = 86.0     # Atomic number of radioactive atom\n",
      "eV = 1.6e-19     # Energy required by an electron to move through a potential barrier of one volt, joules\n",
      "epsilon_0 = 8.854e-012     # Absolute electrical permittivity of free space, coulomb square per newton per metre square\n",
      "e = 1.6e-19      # Charge on an electron, coulomb\n",
      "r0 = 1.5e-015     # Nuclear radius constant, m\n",
      "r = r0*A**(1.0/3)     # Radius of the radioactive atom, m\n",
      "E = 4*eV*1e+06     # Kinetic energy of an alpha particle, joule\n",
      "# At the distance of closest approach, r1, E = 2*(Z-2)*e**2/(4*pi*epsilon_0*r1)\n",
      "# Solving for r1, we have\n",
      "r1 = 2*(Z-2)*e**2/(4*pi*epsilon_0*E)     # The distance form the centre of the nucleus at which PE = KE\n",
      "a = r1 - r     # Width of the potential barrier, m\n",
      "print \"The width of the potential barrier of the alpha particle = %5.2e m\"% a "
     ],
     "language": "python",
     "metadata": {},
     "outputs": [
      {
       "output_type": "stream",
       "stream": "stdout",
       "text": [
        "The width of the potential barrier of the alpha particle = 5.13e-14 m\n"
       ]
      }
     ],
     "prompt_number": 8
    },
    {
     "cell_type": "heading",
     "level": 2,
     "metadata": {},
     "source": [
      "Ex4.3:  : Pg : 125 "
     ]
    },
    {
     "cell_type": "code",
     "collapsed": false,
     "input": [
      "#Energy of electrons through the potential barrier\n",
      "h_bar = 1.054e-34     # Reduced Planck's constant, J-s\n",
      "Vo = 8e-019     # Height of potential barrier, joules\n",
      "m = 9.1e-031     # Mass of an electron, kg\n",
      "a = 5e-010     # Width of potential barrier, m\n",
      "T = 1.0/2     # Transmission coefficient of electrons\n",
      "# As T = 1/((1 + m*Vo**2*a**2)/2*E*h**2), solving for E we have\n",
      "E = m*Vo**2*a**2/(2*(1/T-1)*h_bar**2*1.6e-019)     # Energy of half of the electrons through the potential barrier, eV\n",
      "print \"The energy of electrons through the potential barrier = %5.2f eV\"% E  "
     ],
     "language": "python",
     "metadata": {},
     "outputs": [
      {
       "output_type": "stream",
       "stream": "stdout",
       "text": [
        "The energy of electrons through the potential barrier = 40.96 eV\n"
       ]
      }
     ],
     "prompt_number": 10
    },
    {
     "cell_type": "heading",
     "level": 2,
     "metadata": {},
     "source": [
      "Ex4.4 : : Pg: 126 "
     ]
    },
    {
     "cell_type": "code",
     "collapsed": false,
     "input": [
      "from math import pi, sqrt\n",
      "#Zero point energy of a system \n",
      "h = 6.626e-034     # Planck's constant, Js\n",
      "x = 1.0e-02     # Displacement of the spring about its mean position, m\n",
      "F = 1.0e-02     # Force applied to the spring-mass system, N\n",
      "m = 1.0e-03     # Mass of attached to the spring, kg\n",
      "# As F = k*x, k = 4*pi**2*f**2*m is the stiffness constant, solving for f, \n",
      "f = sqrt(F/(4*pi**2*m*x))     # Frequency of oscillations of mass-spring system, Hz\n",
      "U = 1.0/2*h*f     # Zero point energy of the mass-spring system, J\n",
      "print \"The zero point energy of the mass-spring system = %4.2e J\"% U "
     ],
     "language": "python",
     "metadata": {},
     "outputs": [
      {
       "output_type": "stream",
       "stream": "stdout",
       "text": [
        "The zero point energy of the mass-spring system = 1.67e-33 J\n"
       ]
      }
     ],
     "prompt_number": 15
    }
   ],
   "metadata": {}
  }
 ]
}
