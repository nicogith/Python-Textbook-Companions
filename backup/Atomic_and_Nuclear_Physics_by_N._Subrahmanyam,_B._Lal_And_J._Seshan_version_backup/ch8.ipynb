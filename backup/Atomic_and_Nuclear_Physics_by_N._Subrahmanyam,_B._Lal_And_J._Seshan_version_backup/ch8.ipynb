{
 "metadata": {
  "name": "",
  "signature": ""
 },
 "nbformat": 3,
 "nbformat_minor": 0,
 "worksheets": [
  {
   "cells": [
    {
     "cell_type": "heading",
     "level": 1,
     "metadata": {},
     "source": [
      "chapter 08 : Raman Effect & Spectroscopic Techniques"
     ]
    },
    {
     "cell_type": "heading",
     "level": 2,
     "metadata": {},
     "source": [
      "Ex8.1 : : Pg: 184 "
     ]
    },
    {
     "cell_type": "code",
     "collapsed": false,
     "input": [
      "#Stokes and anti stokes wavelength\n",
      "c = 3e+08     # Speed of light, m/s\n",
      "Lo = 2537e-010     # Wavelength of the exciting line, metre\n",
      "Ls = 2683e-010     # Wavelength of stokes line, metre\n",
      "Lm = (Ls * Lo)/(Ls - Lo)     # Raman shift, per m\n",
      "print \"The Raman shift = %5.3e per cm\"% (1/Lm*1e-02) \n",
      "Lo1 = 5461e-010     # Wavelength of exciting line for stokes wavelength, metre\n",
      "Ls = (Lm * Lo1)/(Lm - Lo1)     # Stokes wavelength for the new exciting line, metre\n",
      "Las = (Lm * Lo1)/(Lm + Lo1)     # Anti-Stokes wavelength for the new exciting line, metre\n",
      "print \"The stokes wavelength for the new exciting line = %4d Angstrom\"% (Ls/1e-010) \n",
      "print \"The anti-stokes wavelength for the new exciting line = %4d Angstrom\"% (Las/1e-010) "
     ],
     "language": "python",
     "metadata": {},
     "outputs": [
      {
       "output_type": "stream",
       "stream": "stdout",
       "text": [
        "The Raman shift = 2.145e+03 per cm\n",
        "The stokes wavelength for the new exciting line = 6185 Angstrom\n",
        "The anti-stokes wavelength for the new exciting line = 4888 Angstrom\n"
       ]
      }
     ],
     "prompt_number": 6
    },
    {
     "cell_type": "heading",
     "level": 2,
     "metadata": {},
     "source": [
      "Ex8.2 : : Pg: 185 "
     ]
    },
    {
     "cell_type": "code",
     "collapsed": false,
     "input": [
      "#Wavelength of infrared absorption line\n",
      "L1 = 4554     # wavelength of the stokes line, Angstorm\n",
      "L2 = 4178     # wavelength of antistokes line, Angstorm\n",
      "Lm = 2*L1*L2/(L1-L2)     # Wavelength of infrared absorption line, Angstorm\n",
      "print \"The Wavelength of infrared absorption line = %5.3e Angstorm\"% Lm  "
     ],
     "language": "python",
     "metadata": {},
     "outputs": [
      {
       "output_type": "stream",
       "stream": "stdout",
       "text": [
        "The Wavelength of infrared absorption line = 1.012e+05 Angstorm\n"
       ]
      }
     ],
     "prompt_number": 7
    }
   ],
   "metadata": {}
  }
 ]
}
