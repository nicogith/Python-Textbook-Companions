{
 "metadata": {
  "name": "",
  "signature": ""
 },
 "nbformat": 3,
 "nbformat_minor": 0,
 "worksheets": [
  {
   "cells": [
    {
     "cell_type": "heading",
     "level": 1,
     "metadata": {},
     "source": [
      "chapter 05 : Atomic Physics"
     ]
    },
    {
     "cell_type": "heading",
     "level": 2,
     "metadata": {},
     "source": [
      "Ex5.1 : Pg:145 "
     ]
    },
    {
     "cell_type": "code",
     "collapsed": false,
     "input": [
      "#L-S coupling for two electrons\n",
      "# For 2D(3/2) state\n",
      "l2 = 1     # Orbital quantum number for p state\n",
      "l1 = 1     # Orbital quantum number for p state\n",
      "print \"The values of orbital quantum number L, for l1 = %d and l2 = %d are: \"%(l1, l2) \n",
      "for L in range(l2-l1,l2+l1+1,1):\n",
      "    print \"%d \"% L,  "
     ],
     "language": "python",
     "metadata": {},
     "outputs": [
      {
       "output_type": "stream",
       "stream": "stdout",
       "text": [
        "The values of orbital quantum number L, for l1 = 1 and l2 = 1 are: \n",
        "0  1  2 \n"
       ]
      }
     ],
     "prompt_number": 5
    },
    {
     "cell_type": "heading",
     "level": 2,
     "metadata": {},
     "source": [
      "Ex5.2 : Pg:145 "
     ]
    },
    {
     "cell_type": "code",
     "collapsed": false,
     "input": [
      "#Term values for L-S coupling\n",
      "# For 2D(3/2) state\n",
      "# Set-I values of L and S\n",
      "L = 1     # Orbital quantum number\n",
      "S = 1.0/2     # Spin quantum number\n",
      "print \"The term values for L = %d and S = %2.1f (P-state) are:\"%(L, S) \n",
      "J1 = 3.0/2     # Total quantum number\n",
      "print \"%dP(%2.1f)\\t\"% (2*S+1,J1), \n",
      "J2 = 1.0/2     # Total quantum number\n",
      "print \"%dP(%2.1f)\"% (2*S+1,J2) \n",
      "\n",
      "# Set-II values of L and S\n",
      "L = 2     # Orbital quantum number\n",
      "S = 1.0/2     # Spin quantum number\n",
      "print \"The term values for L = %d and S = %2.1f (P-state) are:\"%(L, S) \n",
      "J1 = 5.0/2     # Total quantum number\n",
      "print \"%dD(%2.1f)\\t\"% (2*S+1,J1), \n",
      "J2 = 3.0/2     # Total quantum number\n",
      "print \"%dD(%2.1f)\"% (2*S+1,J2) "
     ],
     "language": "python",
     "metadata": {},
     "outputs": [
      {
       "output_type": "stream",
       "stream": "stdout",
       "text": [
        "The term values for L = 1 and S = 0.5 (P-state) are:\n",
        "2P(1.5)\t2P(0.5)\n",
        "The term values for L = 2 and S = 0.5 (P-state) are:\n",
        "2D(2.5)\t2D(1.5)\n"
       ]
      }
     ],
     "prompt_number": 18
    },
    {
     "cell_type": "heading",
     "level": 2,
     "metadata": {},
     "source": [
      "Ex5.4 : Pg:146 "
     ]
    },
    {
     "cell_type": "code",
     "collapsed": false,
     "input": [
      "from math import acos, degrees, sqrt\n",
      "#Angle between l and s for 2D(3/2) state\n",
      "# For 2D(3/2) state\n",
      "l = 2.0     # Orbital quantum number\n",
      "s = 1.0/2     # Spin quantum number\n",
      "j = l+s     # Total quantum number\n",
      "# Now by cosine rule of L-S coupling\n",
      "# cos(theta) = (j*(j+1)-l*(l+1)-s*(s+1))/(2*sqrt(s*(s+1))*sqrt(l*(l+1))), solving for theta\n",
      "theta = degrees(acos((l*(l+1)+s*(s+1)-j*(j+1))/(2*sqrt(s*(s+1))*sqrt(l*(l+1)))))     # Angle between l and s for 2D(3/2) state\n",
      "print \"The angle between l and s for 2D(3/2) state = %5.1f degrees\"% theta  "
     ],
     "language": "python",
     "metadata": {},
     "outputs": [
      {
       "output_type": "stream",
       "stream": "stdout",
       "text": [
        "The angle between l and s for 2D(3/2) state = 118.1 degrees\n"
       ]
      }
     ],
     "prompt_number": 20
    }
   ],
   "metadata": {}
  }
 ]
}
