{
 "metadata": {
  "name": "",
  "signature": ""
 },
 "nbformat": 3,
 "nbformat_minor": 0,
 "worksheets": [
  {
   "cells": [
    {
     "cell_type": "heading",
     "level": 1,
     "metadata": {},
     "source": [
      "chapter 03 : Matter Waves, Wave particle duality & Uncertainty principle"
     ]
    },
    {
     "cell_type": "heading",
     "level": 2,
     "metadata": {},
     "source": [
      "Ex3.1 : : Pg: 77 "
     ]
    },
    {
     "cell_type": "code",
     "collapsed": false,
     "input": [
      "#Kinetic energy of an electron\n",
      "h = 6.6e-034     # Planck's constant, J-s\n",
      "m = 9.1e-031     # mass of an electron, kg\n",
      "L = 9e-010     # wavelength of an electron, m\n",
      "# since E = (m*v**2)/2, Energy of an electron, joule\n",
      "# thus v = sqrt(2*E/m), solving for L in terms of E, we have\n",
      "# L = h/sqrt(2*m*E), wavelength of an electron, m\n",
      "# On solving for E\n",
      "E = h**2/(2*m*L**2)\n",
      "print \"The kinetic energy of an electron = %6.4f eV\"% (E/1.6e-019) "
     ],
     "language": "python",
     "metadata": {},
     "outputs": [
      {
       "output_type": "stream",
       "stream": "stdout",
       "text": [
        "The kinetic energy of an electron = 1.8468 eV\n"
       ]
      }
     ],
     "prompt_number": 49
    },
    {
     "cell_type": "heading",
     "level": 2,
     "metadata": {},
     "source": [
      "Ex3.2 : : Pg: 78 "
     ]
    },
    {
     "cell_type": "code",
     "collapsed": false,
     "input": [
      "from math import sqrt\n",
      "#Wavelength of electrons\n",
      "h = 6.6e-034     # Planck's constant, J-s\n",
      "m = 9.1e-031     # mass of an electron, kg\n",
      "e = 1.6e-019     # Charge on an electron, coulomb\n",
      "E = 100*e     # Energy of beam of electrons, joule\n",
      "# since E = (m*v**2)/2     # Energy of beam of electron, joule\n",
      "p = sqrt(2*m*E)     # Momentum of beam of electrons, kg-m/s\n",
      "L = h/p     # wavelength of a beam of electron, m\n",
      "print \"The wavelength of electrons = %4.2f angstorm\"% (L/1e-010) "
     ],
     "language": "python",
     "metadata": {},
     "outputs": [
      {
       "output_type": "stream",
       "stream": "stdout",
       "text": [
        "The wavelength of electrons = 1.22 angstorm\n"
       ]
      }
     ],
     "prompt_number": 50
    },
    {
     "cell_type": "heading",
     "level": 2,
     "metadata": {},
     "source": [
      "Ex3.3 : : Pg: 78 "
     ]
    },
    {
     "cell_type": "code",
     "collapsed": false,
     "input": [
      "#Momentum of photon\n",
      "h = 6.624e-034     # Planck's constant, J-s\n",
      "L = 6e-07     # wavelength of photon, m\n",
      "M = h/L     # Momentum of photon, kg-m/s\n",
      "print \"The momentum of photon = %5.3e kg-m/s\"% (M) "
     ],
     "language": "python",
     "metadata": {},
     "outputs": [
      {
       "output_type": "stream",
       "stream": "stdout",
       "text": [
        "The momentum of photon = 1.104e-27 kg-m/s\n"
       ]
      }
     ],
     "prompt_number": 51
    },
    {
     "cell_type": "heading",
     "level": 2,
     "metadata": {},
     "source": [
      "Ex3.4 : : Pg: 78 "
     ]
    },
    {
     "cell_type": "code",
     "collapsed": false,
     "input": [
      "from math import sqrt\n",
      "#Momentum of an electron\n",
      "m = 9.1e-031     # Mass of an electron, kg\n",
      "E = 1.6e-010     # Kinetic energy of an electron, joule\n",
      "# Since E = p**2/2*m     # Kinetic energy of an electron, joule\n",
      "p = sqrt(2*m*E)     # Momentum of an electron, kg-m/s\n",
      "print \"The momentum of an electron = %3.1e kg-m/s\"% p  "
     ],
     "language": "python",
     "metadata": {},
     "outputs": [
      {
       "output_type": "stream",
       "stream": "stdout",
       "text": [
        "The momentum of an electron = 1.7e-20 kg-m/s\n"
       ]
      }
     ],
     "prompt_number": 52
    },
    {
     "cell_type": "heading",
     "level": 2,
     "metadata": {},
     "source": [
      "Ex3.5 : : Pg: 79 "
     ]
    },
    {
     "cell_type": "code",
     "collapsed": false,
     "input": [
      "from math import sqrt\n",
      "#wavelength of a particle\n",
      "h = 6.624e-034     # Planck's constant, J-s\n",
      "m = 9e-031     # Mass of an electron, kg\n",
      "U = 1.6e-017     # Kinetic energy of an particle, joule\n",
      "# Since U = (m*v**2)/2     # Kinetic energy of a particle, joule\n",
      "# such that v = sqrt(2*U/m)     # Velocity of the particle, m/s\n",
      "L = h/sqrt(2*m*U)     # wavelength of a particle, m\n",
      "print \"The wavelength of a particle = %5.3f angstorm\"% (L/1e-010) "
     ],
     "language": "python",
     "metadata": {},
     "outputs": [
      {
       "output_type": "stream",
       "stream": "stdout",
       "text": [
        "The wavelength of a particle = 1.234 angstorm\n"
       ]
      }
     ],
     "prompt_number": 53
    },
    {
     "cell_type": "heading",
     "level": 2,
     "metadata": {},
     "source": [
      "Ex3.6 : : Pg: 79 "
     ]
    },
    {
     "cell_type": "code",
     "collapsed": false,
     "input": [
      "#Comparison of energy of photon and neutron\n",
      "m = 1.67e-027     # Mass of neutron, kg\n",
      "L = 1e-010     # Wavelength of neutron and photon, m\n",
      "c = 3e+08     # Velocity of light, m/s\n",
      "h = 6.624e-034     # Plancks constant, joule second\n",
      "U_1 = h*c/L     # Energy of photon, joule\n",
      "# Since  U_2 = (m*v**2)/2, Energy of neutron, joule\n",
      "# Thus v = h/m*L_2, Velocity of the particle, m/s\n",
      "# on solving for U_2\n",
      "U_2 = h**2/(2*m*L**2)     # Energy of photon, joule\n",
      "print \"The ratio of energy of photon and neutron = %4.2e \"% (U_1/U_2) "
     ],
     "language": "python",
     "metadata": {},
     "outputs": [
      {
       "output_type": "stream",
       "stream": "stdout",
       "text": [
        "The ratio of energy of photon and neutron = 1.51e+05 \n"
       ]
      }
     ],
     "prompt_number": 54
    },
    {
     "cell_type": "heading",
     "level": 2,
     "metadata": {},
     "source": [
      "Ex3.7: : Pg: 80"
     ]
    },
    {
     "cell_type": "code",
     "collapsed": false,
     "input": [
      "from math import sqrt\n",
      "#de-Broglie wavelength of electrons \n",
      "L_1 = 3e-07     # Wavelength of ultraviolet light, m\n",
      "L_0 = 4e-07     # Threshold wavelength of ultraviolet light, m\n",
      "m = 9.1e-031     # Mass of an electron, kg\n",
      "c = 3e+08     # Velocity of light, m/s\n",
      "h = 6.624e-034     # Plancks constant, joule-second\n",
      "U = h*c*(1/L_1-1/L_0)     # Maximum Kinetic energy of emitted electrons, joule\n",
      "# since U = m*v**2/2, Kinetic energy of electrons, joule\n",
      "# Thus v = sqrt(2*U/m), so that L_2 becomes\n",
      "L_2 = h/sqrt(2*m*U)     # wavelength of electrons, m\n",
      "print \"The wavelength of the electrons = %3.1f angstorm\"% (L_2/1e-010) "
     ],
     "language": "python",
     "metadata": {},
     "outputs": [
      {
       "output_type": "stream",
       "stream": "stdout",
       "text": [
        "The wavelength of the electrons = 12.1 angstorm\n"
       ]
      }
     ],
     "prompt_number": 55
    },
    {
     "cell_type": "heading",
     "level": 2,
     "metadata": {},
     "source": [
      "Ex3.8 : :Pg: 80"
     ]
    },
    {
     "cell_type": "code",
     "collapsed": false,
     "input": [
      "from math import sqrt\n",
      "#de-Broglie wavelength of accelerated electrons \n",
      "m = 9.1e-031     # Mass of an electron, kg\n",
      "e = 1.6e-019     # Charge on an electron, Coulamb\n",
      "h = 6.624e-034     # Plancks constant, joule second\n",
      "V = 1     # For simplicity, we assume retarding potential to be unity, volt\n",
      "# Since  e*V = (m*v**2)/2     # Energy of electron, joule\n",
      "v = sqrt(2*e*V/m)     # Velocity of electrons, m/s\n",
      "L = h/(m*v)     # Wavelength of electrons, m\n",
      "print \"The de-Broglie wavelength of accelerated electrons = %5.2f/sqrt(V) \"% (L/1e-010) "
     ],
     "language": "python",
     "metadata": {},
     "outputs": [
      {
       "output_type": "stream",
       "stream": "stdout",
       "text": [
        "The de-Broglie wavelength of accelerated electrons = 12.28/sqrt(V) \n"
       ]
      }
     ],
     "prompt_number": 56
    },
    {
     "cell_type": "heading",
     "level": 2,
     "metadata": {},
     "source": [
      "Ex3.9 : : Pg: 81 "
     ]
    },
    {
     "cell_type": "code",
     "collapsed": false,
     "input": [
      "from math import sqrt\n",
      "#Wavelength of matter waves\n",
      "E = 2e-016     # Energy of electrons, joule \n",
      "h = 6.624e-034     # Planck's constant, J-s\n",
      "m = 9.1e-031     # mass of the electron, kg\n",
      "# since E = (m*v**2)/2, the energy of an electron, joule\n",
      "# such that v = sqrt(2*E/m)     # Velocity of electron, m/s\n",
      "# As L = h/m*v, wavelength of the electron, m\n",
      "# on solving for L in terms of E\n",
      "L = h/sqrt(2*m*E)     # wavelength of the electron, m\n",
      "print \"The wavelength of the electron = %5.3f angstorm\"% (L/1e-010) "
     ],
     "language": "python",
     "metadata": {},
     "outputs": [
      {
       "output_type": "stream",
       "stream": "stdout",
       "text": [
        "The wavelength of the electron = 0.347 angstorm\n"
       ]
      }
     ],
     "prompt_number": 57
    },
    {
     "cell_type": "heading",
     "level": 2,
     "metadata": {},
     "source": [
      "Ex3.10 : : Pg: 81 "
     ]
    },
    {
     "cell_type": "code",
     "collapsed": false,
     "input": [
      "from math import sqrt\n",
      "#Momentum of proton\n",
      "U = 1.6e-010     # Kinetic energy of proton, joule \n",
      "h = 6.624e-034     # Planck's constant, J-s\n",
      "m = 1.67e-027     # mass of proton, kg\n",
      "v = sqrt(2*U/m)     # Velocity of proton, m/s\n",
      "p = m*v     # Momentum of proton, kg m/s\n",
      "print \"The momentum of proton = %4.2e kgm/s\"% p"
     ],
     "language": "python",
     "metadata": {},
     "outputs": [
      {
       "output_type": "stream",
       "stream": "stdout",
       "text": [
        "The momentum of proton = 7.31e-19 kgm/s\n"
       ]
      }
     ],
     "prompt_number": 58
    },
    {
     "cell_type": "heading",
     "level": 2,
     "metadata": {},
     "source": [
      "Ex3.11 : : Pg: 82 "
     ]
    },
    {
     "cell_type": "code",
     "collapsed": false,
     "input": [
      "from math import sqrt\n",
      "#Wavelength of an electron\n",
      "U = 1.6e-013     # Kinetic energy of the electron, joule \n",
      "h = 6.624e-034     # Planck's constant, J-s\n",
      "m = 9.1e-031     # Mass of the electron, kg\n",
      "v = sqrt(2*U/m)     # Velocity of the electron, m/s\n",
      "L = h/(m*v)     # Wavelength of the electron, m\n",
      "print \"The wavelength of an electron = %5.3e angstorm\" % (L/1e-010) "
     ],
     "language": "python",
     "metadata": {},
     "outputs": [
      {
       "output_type": "stream",
       "stream": "stdout",
       "text": [
        "The wavelength of an electron = 1.228e-02 angstorm\n"
       ]
      }
     ],
     "prompt_number": 59
    },
    {
     "cell_type": "heading",
     "level": 2,
     "metadata": {},
     "source": [
      "Ex3.12: :Pg: 82 "
     ]
    },
    {
     "cell_type": "code",
     "collapsed": false,
     "input": [
      "from math import sqrt\n",
      "#De-Broglie wavelength of thermal neutrons\n",
      "m = 1.6749e-027     # Mass of neutron, kg\n",
      "h = 6.624e-034     # Plancks constant, joule second\n",
      "k = 1.38e-021     # Boltzmann constant, joule per kelvin\n",
      "T = 300     # Temperature of thermal neutrons, kelvin\n",
      "# Since m*v**2/2 = (3/2)*k*T     # Energy of neutron, joule\n",
      "v = sqrt(3*k*T/m)     # Velocity of neutrons, m/s\n",
      "L = h/(m*v)     # Wavelength of neutrons, m\n",
      "print \"The de-Broglie wavelength of thermal neutrons = %5.3f angstorm \"% (L/1e-010) "
     ],
     "language": "python",
     "metadata": {},
     "outputs": []
    },
    {
     "cell_type": "heading",
     "level": 2,
     "metadata": {},
     "source": [
      "Ex3.13 : :Pg: 82 "
     ]
    },
    {
     "cell_type": "code",
     "collapsed": false,
     "input": [
      "#Kinetic energy of a proton\n",
      "L = 1e-010     # wavelength of proton, m\n",
      "m = 1.67e-027     # Mass of proton, kg\n",
      "h = 6.624e-034     # Plancks constant, joule second\n",
      "# Since L = h/(m*v)     # wavelength of proton, m\n",
      "v = h/m*L     # Velocity of proton, m/s\n",
      "v_k = h**2/(2*L**2*m)     # Kinetic energy of proton, joule\n",
      "print \"The kinetic energy of proton = %3.1e eV \"% (v_k/1.6e-019) "
     ],
     "language": "python",
     "metadata": {},
     "outputs": []
    },
    {
     "cell_type": "heading",
     "level": 2,
     "metadata": {},
     "source": [
      "Ex3.14: : Pg: 85 "
     ]
    },
    {
     "cell_type": "code",
     "collapsed": false,
     "input": [
      "#Energy of electrons in a one dimensional box\n",
      "n1 = 1; l = 0; ml = 0; ms = 1.0/2     # Quantum numbers of first electron\n",
      "n2 = 1; l = 0; ml = 0; ms = -1.0/2     # Quantum numbers of second electron\n",
      "# The lowest energy corresponds to the ground state of electrons \n",
      "n = n1     # n1 = n2 = n\n",
      "m = 9.1e-031     # Mass of electron, kg\n",
      "h = 6.626e-034     # Planck's constant, Js\n",
      "a = 1     # For convenience, length of the box is assumed to be unity\n",
      "E = 2*n**2*h**2/(8*m*a**2)     # Lowest energy of electron, joule\n",
      "print \"The lowest energy of electron = %6.4e/a**2\"% E"
     ],
     "language": "python",
     "metadata": {},
     "outputs": []
    },
    {
     "cell_type": "heading",
     "level": 2,
     "metadata": {},
     "source": [
      "Ex3.15: : Pg:85 "
     ]
    },
    {
     "cell_type": "code",
     "collapsed": false,
     "input": [
      "#Lowest energy of three electrons in box\n",
      "n1 = 1; l = 0; ml = 0; ms = 1.0/2     # Quantum numbers of first electron\n",
      "n2 = 1; l = 0; ml = 0; ms = -1.0/2     # Quantum numbers of second electron\n",
      "n3 = 2; l = 0; ml = 0; ms = +1.0/2     # Quantum numbers of third electron\n",
      "# The lowest energy corresponds to the ground state of electrons\n",
      "m = 9.1e-031     # Mass of electron, kg\n",
      "h = 6.626e-034     # Planck's constant, Js\n",
      "a = 1.0     # For convenience, length of the box is assumed to be unity\n",
      "E = (n1**2*h**2/(8*m*a**2)+n2**2*h**2/(8*m*a**2))+n3**2*h**2/(8*m*a**2)     # Lowest energy of electron, joule\n",
      "print \"The lowest energy of electron = %6.4e/a**2\"% E"
     ],
     "language": "python",
     "metadata": {},
     "outputs": []
    },
    {
     "cell_type": "heading",
     "level": 2,
     "metadata": {},
     "source": [
      "Ex3.16 : :Pg: 86 "
     ]
    },
    {
     "cell_type": "code",
     "collapsed": false,
     "input": [
      "#Zero point energy of system\n",
      "m = 9.1e-031     # Mass of an electron, kg\n",
      "a = 1e-010     # Length of box, m\n",
      "h = 6.624e-034     # Plancks constant, joule second\n",
      "n = 1     # Principal quantum number for the lowest energy level\n",
      "E1 = 2*h**2/(8*m*a**2)     # Energy for the two electron system in the n =1 energy level, joule\n",
      "E2 = 8*(2**2*h**2)/(8*m*a**2)     # Energy for the eight electron system in the n = 2 energy level, joule\n",
      "E = E1 +E2     # Total lowest energy of system, joule\n",
      "print \"The zero point energy of system = %4.2e J \"% E"
     ],
     "language": "python",
     "metadata": {},
     "outputs": []
    },
    {
     "cell_type": "heading",
     "level": 2,
     "metadata": {},
     "source": [
      "Ex3.17 : :Pg: 86 "
     ]
    },
    {
     "cell_type": "code",
     "collapsed": false,
     "input": [
      "#Mean energy per electron at 0K\n",
      "m = 9.1e-031     # Mass of an electron, kg\n",
      "a = 50e-010     # Length of molecule, m\n",
      "h = 6.624e-034     # Plancks constant, joule second\n",
      "E = h**2/(8*m*a**2)     # Energy per electron, joule\n",
      "print \"The mean energy per electron at 0K = %3.1e eV \"% (E/1.6e-019) "
     ],
     "language": "python",
     "metadata": {},
     "outputs": []
    },
    {
     "cell_type": "heading",
     "level": 2,
     "metadata": {},
     "source": [
      "Ex3.18 : :Pg: 87 "
     ]
    },
    {
     "cell_type": "code",
     "collapsed": false,
     "input": [
      "#Lowest energy of two electron system\n",
      "m = 9.1e-031     # Mass of an electron, kg\n",
      "a = 1e-010     # Length of box, m\n",
      "h = 6.624e-034     # Plancks constant, joule second\n",
      "E = 2*h**2/(8*m*a**2)     # Energy of two electron system, joule\n",
      "print \"The lowest energy of two electron system = %4.1f, eV\"% (E/1.6e-019) "
     ],
     "language": "python",
     "metadata": {},
     "outputs": []
    },
    {
     "cell_type": "heading",
     "level": 2,
     "metadata": {},
     "source": [
      "Ex3.19 : :Pg: 87 "
     ]
    },
    {
     "cell_type": "code",
     "collapsed": false,
     "input": [
      "#Total energy of the three electron system\n",
      "m = 9.1e-031     # Mass of an electron, kg\n",
      "h = 6.624e-034     # Plancks constant, joule second\n",
      "a = 1e-010     # Length of the molecule, m\n",
      "E = 6*h**2/(8*m*a**2)     # Energy of three electron system, joule\n",
      "print \"The total energy of three electron system = %6.2f, eV \"%(E/1.6e-019) "
     ],
     "language": "python",
     "metadata": {},
     "outputs": []
    },
    {
     "cell_type": "heading",
     "level": 2,
     "metadata": {},
     "source": [
      "Ex3.20 : :Pg: 92 "
     ]
    },
    {
     "cell_type": "code",
     "collapsed": false,
     "input": [
      "#Minimum uncertainity in the velocity of an electron\n",
      "m = 9.1e-031     # Mass of an electron, kg\n",
      "del_x = 1e-010     # Length of the box, m\n",
      "h_bar = 1.054e-034     # Reduced Plancks constant, joule second\n",
      "del_v = h_bar/(m*del_x)     # Minimum uncertainity in velocity, m/s\n",
      "print \"The minimum uncertainity in the velocity of electron = %4.2e m/s \"% del_v  "
     ],
     "language": "python",
     "metadata": {},
     "outputs": []
    },
    {
     "cell_type": "heading",
     "level": 2,
     "metadata": {},
     "source": [
      "Ex3.21 : :Pg: 92 "
     ]
    },
    {
     "cell_type": "code",
     "collapsed": false,
     "input": [
      "#Uncertainity in momentum and kinetic energy of the proton\n",
      "m = 1.67e-027     # Mass of a proton, kg\n",
      "del_x = 1e-014     # Uncertainity in position, m\n",
      "h_bar = 1.054e-034     # Reduced Plancks constant, joule second\n",
      "del_p = h_bar/del_x     # Minimum uncertainity in momentum, kgm/s\n",
      "del_E = del_p**2/(2*m)     # Minimum uncertainity in kinetic energy, joule\n",
      "print \"The minimum uncertainity in momentum of the proton = %5.3e kgm/s\"%del_p  \n",
      "print \"The minimum uncertainity in kinetic energy of the proton = %5.3e eV\"% (del_E/1.6e-019) "
     ],
     "language": "python",
     "metadata": {},
     "outputs": []
    },
    {
     "cell_type": "heading",
     "level": 2,
     "metadata": {},
     "source": [
      "Ex3.22 : :Pg: 93 "
     ]
    },
    {
     "cell_type": "code",
     "collapsed": false,
     "input": [
      "from math import pi\n",
      "#Uncertainity in the position of an electron\n",
      "m = 9.1e-031     # Mass of an electron, kg\n",
      "v = 600     # Speed of electron, m/s\n",
      "h_bar = 6.6e-034     # Reduced Plancks constant, joule second\n",
      "p = m*v     # Momentum of electron, kgm/s\n",
      "del_p = 5e-05*m*v     # Minimum uncertainity in momentum, kgm/s\n",
      "del_x = h_bar/(4*pi*del_p)     # Uncertainity in position, m\n",
      "print \"The uncertainity in the position of the electron = %5.3f mm\"% (del_x/1e-03) "
     ],
     "language": "python",
     "metadata": {},
     "outputs": []
    },
    {
     "cell_type": "heading",
     "level": 2,
     "metadata": {},
     "source": [
      "Ex3.23 : :Pg: 93 "
     ]
    },
    {
     "cell_type": "code",
     "collapsed": false,
     "input": [
      "from math import pi\n",
      "#Uncertainity in the position of a bullet\n",
      "m = 0.025     # Mass of an bullet, kg\n",
      "v = 400     # Speed of bullet, m/s\n",
      "h_bar = 6.6e-034     # Reduced Plancks constant, joule second\n",
      "p = m*v     # Momentum of bullet, kgm/s\n",
      "del_p = 2e-04*p     # Minimum uncertainity in momentum, kgm/s\n",
      "del_x = h_bar/(4*pi*del_p)     # Uncertainity in position, m\n",
      "print \"The uncertainity in the position of the bullet = %5.3e m\"% del_x  "
     ],
     "language": "python",
     "metadata": {},
     "outputs": []
    },
    {
     "cell_type": "heading",
     "level": 2,
     "metadata": {},
     "source": [
      "Ex3.24 : :Pg: 94 "
     ]
    },
    {
     "cell_type": "code",
     "collapsed": false,
     "input": [
      "from math import pi\n",
      "#Unertainity in the position of an electron\n",
      "m = 9.1e-31     # Mass of an electron, kg\n",
      "v = 300     # Speed of electron, m/s\n",
      "h_bar = 6.6e-034     # Reduced Plancks constant, joule second\n",
      "p = m*v     # Momentum of electron, kgm/s\n",
      "del_p = 1e-04*p     # Minimum uncertainity in momentum, kgm/s\n",
      "del_x = h_bar/(4*pi*del_p)     # Uncertainity in position, m\n",
      "print \"The uncertainity in the position of the electron = %5.3f mm\"% (del_x/1e-03) "
     ],
     "language": "python",
     "metadata": {},
     "outputs": []
    },
    {
     "cell_type": "heading",
     "level": 2,
     "metadata": {},
     "source": [
      "Ex3.25 : :Pg: 94 "
     ]
    },
    {
     "cell_type": "code",
     "collapsed": false,
     "input": [
      "from math import pi\n",
      "#Unertainity in the velocity of an electron\n",
      "m = 9.1e-31     # Mass of an electron, kg\n",
      "del_x = 1e-10     # Length of box, m\n",
      "h_bar = 6.6e-034     # Reduced Plancks constant, joule second\n",
      "del_p = m*del_v     # Uncertainity in Momentum of electron, kgm/s\n",
      "del_v = h_bar/(2*pi*del_x*m)     # Minimum uncertainity in velocity of an electron, m/s\n",
      "print \"The uncertainity in the velocity of the electron = %3.2e m/s\"% del_v  "
     ],
     "language": "python",
     "metadata": {},
     "outputs": []
    },
    {
     "cell_type": "heading",
     "level": 2,
     "metadata": {},
     "source": [
      "Ex3.26 : :Pg: 94 "
     ]
    },
    {
     "cell_type": "code",
     "collapsed": false,
     "input": [
      "#Minimum uncertainity in the energy of the excited state of an atom\n",
      "del_t = 1e-08     # Life time of an excited state of an atom, seconds\n",
      "h_bar = 1.054e-034     # Reduced Plancks constant, joule second\n",
      "del_E = h_bar/del_t     # Minimum uncertainity in the energy of excited state, joule\n",
      "print \"The minimum uncertainity in the energy of the excited state = %5.3e joule\"% del_E "
     ],
     "language": "python",
     "metadata": {},
     "outputs": []
    }
   ],
   "metadata": {}
  }
 ]
}
