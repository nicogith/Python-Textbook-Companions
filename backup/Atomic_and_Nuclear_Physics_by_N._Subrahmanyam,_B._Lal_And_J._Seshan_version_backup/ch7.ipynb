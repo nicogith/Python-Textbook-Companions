{
 "metadata": {
  "name": "",
  "signature": ""
 },
 "nbformat": 3,
 "nbformat_minor": 0,
 "worksheets": [
  {
   "cells": [
    {
     "cell_type": "heading",
     "level": 1,
     "metadata": {},
     "source": [
      "chapter 07 : Molecular Physics"
     ]
    },
    {
     "cell_type": "heading",
     "level": 2,
     "metadata": {},
     "source": [
      "Ex7.1 : : Pg: 170 "
     ]
    },
    {
     "cell_type": "code",
     "collapsed": false,
     "input": [
      "from math import sqrt, pi\n",
      "#Frequency of oscillation of a hydrogen molecule\n",
      "K = 4.8e+02     # Force constant, N/m\n",
      "m = 1.67e-027     # Mass of hydrogen atom, kg\n",
      "mu = m/2     # Reduced mass of the system, kg\n",
      "v = 1/(2*pi)*sqrt(K/mu)     # Frequency of oscillation of a hydrogen molecule, Hz\n",
      "print \"The frequency of oscillation of a hydrogen molecule = %3.1e Hz\"% v"
     ],
     "language": "python",
     "metadata": {},
     "outputs": [
      {
       "output_type": "stream",
       "stream": "stdout",
       "text": [
        "The frequency of oscillation of a hydrogen molecule = 1.2e+14 Hz\n"
       ]
      }
     ],
     "prompt_number": 2
    },
    {
     "cell_type": "heading",
     "level": 2,
     "metadata": {},
     "source": [
      "Ex7.2: : Pg: 170 "
     ]
    },
    {
     "cell_type": "code",
     "collapsed": false,
     "input": [
      "from math import sqrt, pi\n",
      "#bond Length of carbon monoxide\n",
      "h = 6.626e-034     # Planck's constant, Js\n",
      "c = 2.997e+010     # Speed of light, cm/s\n",
      "B = 1.921     # Rotational constant for CO, per cm\n",
      "nu_bar = 2*B     # Wavenumber of first line in rotation spectra of CO, per cm\n",
      "mu = 11.384e-027     # Reduced mass of the CO system, per cm\n",
      "I = 2*h/(8*pi**2*nu_bar*c)     # Moment of inertia of CO molecule about the axis of rotation, kg-m/s\n",
      "r = sqrt(I/mu)     # Bond length of CO molecule, m\n",
      "print \"The bond length of CO molecule = %5.2f angstrom\"% (r/1e-010) "
     ],
     "language": "python",
     "metadata": {},
     "outputs": [
      {
       "output_type": "stream",
       "stream": "stdout",
       "text": [
        "The bond length of CO molecule =  1.13 angstrom\n"
       ]
      }
     ],
     "prompt_number": 4
    },
    {
     "cell_type": "heading",
     "level": 2,
     "metadata": {},
     "source": [
      "Ex7.3: : Pg: 171 "
     ]
    },
    {
     "cell_type": "code",
     "collapsed": false,
     "input": [
      "from math import exp\n",
      "#Intensity ratio of J states for HCL molecule\n",
      "e = 1.6e-019     # Energy equivalent of 1 eV, J/eV\n",
      "K = 1.38e-23     # Boltzmann constant, J/K\n",
      "T = 300     # Absolute room temperature, K\n",
      "J1 = 0     # Rotational quantum number for ground level\n",
      "J2 = 10     # Rotational quantum number for 10th level\n",
      "EJ1 = J1*(J1+1)*1.3e-03     # Energy of ground level of HCL molecule, eV\n",
      "EJ2 = J2*(J2+1)*1.3e-03     # Energy of 10th level of HCL molecule, eV\n",
      "# As n10/n0 is propotional to (2J+1)*exp(-(EJ2-EJ1))/KT, so\n",
      "I_ratio = (2*J2+1)/(2*J1+1)*exp(-(EJ2 - EJ1)/(K*T/e))     # Intensity ratio of J10 and J1 states\n",
      "print \"The intensity ratio of J-states for HCL molecule = %4.2f\"% (I_ratio) "
     ],
     "language": "python",
     "metadata": {},
     "outputs": [
      {
       "output_type": "stream",
       "stream": "stdout",
       "text": [
        "The intensity ratio of J-states for HCL molecule = 0.08\n"
       ]
      }
     ],
     "prompt_number": 5
    },
    {
     "cell_type": "heading",
     "level": 2,
     "metadata": {},
     "source": [
      "Ex7.4: : Pg: 171 "
     ]
    },
    {
     "cell_type": "code",
     "collapsed": false,
     "input": [
      "from math import sqrt\n",
      "#CO molecule in lower state\n",
      "R = 1.13e-010     # Bond length of CO molecule, m\n",
      "h_red = 1.054e-034     # Reduced Planck's constant, Js\n",
      "mu = 1.14e-026     # Reduced mass ofthe system, kg\n",
      "J = 1     # Rotational quantum number for lowest state\n",
      "I = mu*R**2     # Moment of inertia of CO molecule about the axis of rotation, kg-metre square\n",
      "EJ = J*(J + 1)*h_red**2/(2*I)     # Energy of the CO molecule in the lowest state, J\n",
      "omega = sqrt(2*EJ/I)     # Angular velocity of the CO molecule in the lowest state, rad per sec\n",
      "print \"The energy of the CO molecule in the lowest state = %4.2e J\" %EJ  \n",
      "print \"The angular velocity of the CO molecule in the lowest state = %4.2e rad/sec\" %omega "
     ],
     "language": "python",
     "metadata": {},
     "outputs": [
      {
       "output_type": "stream",
       "stream": "stdout",
       "text": [
        "The energy of the CO molecule in the lowest state = 7.63e-23 J\n",
        "The angular velocity of the CO molecule in the lowest state = 1.02e+12 rad/sec\n"
       ]
      }
     ],
     "prompt_number": 6
    }
   ],
   "metadata": {}
  }
 ]
}
