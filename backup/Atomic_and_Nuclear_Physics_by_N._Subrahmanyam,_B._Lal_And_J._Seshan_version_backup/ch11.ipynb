{
 "metadata": {
  "name": "",
  "signature": ""
 },
 "nbformat": 3,
 "nbformat_minor": 0,
 "worksheets": [
  {
   "cells": [
    {
     "cell_type": "heading",
     "level": 1,
     "metadata": {},
     "source": [
      "chapter 11 : Nuclear Reactions"
     ]
    },
    {
     "cell_type": "heading",
     "level": 2,
     "metadata": {},
     "source": [
      "Ex11.1 : : Pg: 229 "
     ]
    },
    {
     "cell_type": "code",
     "collapsed": false,
     "input": [
      "#Energy balance of a nuclear reaction\n",
      "mu = 931.5     # Energy equivalent of 1 amu, MeV\n",
      "M_D = 2.0141     # Mass of deuterium atom, amu\n",
      "M_He = 3.01603     # Mass of helium-3, amu\n",
      "mn = 1.008665     # Mass of neutron, amu\n",
      "MD = (2*M_D - M_He - mn)     # Mass defect of the reaction, amu\n",
      "Q = MD*mu     # Energy balance of the nuclear reaction, MeV\n",
      "print  \"The energy balance of the nuclear reaction = %4.2f MeV\"% Q "
     ],
     "language": "python",
     "metadata": {},
     "outputs": [
      {
       "output_type": "stream",
       "stream": "stdout",
       "text": [
        "The energy balance of the nuclear reaction = 3.26 MeV\n"
       ]
      }
     ],
     "prompt_number": 8
    },
    {
     "cell_type": "heading",
     "level": 2,
     "metadata": {},
     "source": [
      "Ex11.2: : Pg:229"
     ]
    },
    {
     "cell_type": "code",
     "collapsed": false,
     "input": [
      "#Threshold energy for the reaction\n",
      "mu = 931.5     # Energy equivalent of 1 amu, MeV\n",
      "mx = 1.008665     # Mass of neutron, amu\n",
      "Mx = 13.003355     # Mass of carbon atom, amu\n",
      "M_alpha = 4.002603     # Mass of alpha particle, amu\n",
      "M_Be = 10.013534     # Mass of beryllium, amu\n",
      "MD = (Mx + mx - M_Be - M_alpha)     # Mass defect of the reaction, amu\n",
      "Q = MD*mu     # Q-value of the nuclear reaction, MeV\n",
      "E_th = -Q*(1 + mx/Mx)     # Threshold energy for the reaction in the laboratory, MeV\n",
      "print  \"The threshold energy of the reaction is = %4.2f MeV\"% E_th  "
     ],
     "language": "python",
     "metadata": {},
     "outputs": [
      {
       "output_type": "stream",
       "stream": "stdout",
       "text": [
        "The threshold energy of the reaction is = 4.13 MeV\n"
       ]
      }
     ],
     "prompt_number": 9
    },
    {
     "cell_type": "heading",
     "level": 2,
     "metadata": {},
     "source": [
      "Ex11.3 : : Pg: 229 "
     ]
    },
    {
     "cell_type": "code",
     "collapsed": false,
     "input": [
      "#Gamma ray emission\n",
      "h_bar = 1.0e-034     # Order of reduced Planck's constant, Js\n",
      "e = 1.0e-019     # Order of energy equivalent of 1 eV, J/eV\n",
      "tau1 = 1e-009     # Life time of gamma ray emission, sec\n",
      "tau2 = 1e-012     # Life time of gamma ray emission, sec \n",
      "W1 = h_bar/tau1     # Full width at half maxima for tau1, eV\n",
      "W2 = h_bar/tau2     # Full width at half maxima for tau2, eV\n",
      "print  \"The full width at half maxima for %1.0e = %1.0e eV\"%(tau1, W1/e) \n",
      "print  \"The full width at half maxima for %1.0e = %1.0e eV\"%(tau2, W2/e) "
     ],
     "language": "python",
     "metadata": {},
     "outputs": [
      {
       "output_type": "stream",
       "stream": "stdout",
       "text": [
        "The full width at half maxima for 1e-09 = 1e-06 eV\n",
        "The full width at half maxima for 1e-12 = 1e-03 eV\n"
       ]
      }
     ],
     "prompt_number": 10
    }
   ],
   "metadata": {}
  }
 ]
}
