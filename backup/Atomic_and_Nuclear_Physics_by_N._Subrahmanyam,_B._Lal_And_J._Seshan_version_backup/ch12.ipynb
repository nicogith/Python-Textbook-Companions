{
 "metadata": {
  "name": "",
  "signature": ""
 },
 "nbformat": 3,
 "nbformat_minor": 0,
 "worksheets": [
  {
   "cells": [
    {
     "cell_type": "heading",
     "level": 1,
     "metadata": {},
     "source": [
      "chapter 12 : Nuclear Models"
     ]
    },
    {
     "cell_type": "heading",
     "level": 2,
     "metadata": {},
     "source": [
      "Ex12.1 : Pg:246 "
     ]
    },
    {
     "cell_type": "code",
     "collapsed": false,
     "input": [
      "#Rate of consumption of U-235 per year\n",
      "e = 1.6e-019     # Energy equivalent of 1 eV, J/eV\n",
      "amu = 1.6e-027     # Mass of a nucleon, kg\n",
      "P_out = 250e+06     # Output power of nuclear reactor, J/s\n",
      "E = 200e+06*e     # Energy released per fission of U-235, J\n",
      "n = P_out/E     # Number of fissions per second\n",
      "m = 235*amu     # Mass of a nucleon, kg\n",
      "m_sec = m*n     # Consumption per second of U-235, kg\n",
      "m_year = m_sec*365*24*60*60     # Consumption per year of U-235, kg\n",
      "print  \"The rate of consumption of U-235 per year = %5.2f kg\"% m_year "
     ],
     "language": "python",
     "metadata": {},
     "outputs": [
      {
       "output_type": "stream",
       "stream": "stdout",
       "text": [
        "The rate of consumption of U-235 per year = 92.64 kg\n"
       ]
      }
     ],
     "prompt_number": 29
    },
    {
     "cell_type": "heading",
     "level": 2,
     "metadata": {},
     "source": [
      "Ex12.2 : Pg:246"
     ]
    },
    {
     "cell_type": "code",
     "collapsed": false,
     "input": [
      "#Rate of fission of U-235 \n",
      "e = 1.6e-019     # Energy equivalent of 1 eV, J/eV\n",
      "E1 = 32e+06     # Energy released per second, J\n",
      "E2 = 200e+06     # Energy released per fission, J\n",
      "N = E1/E2     # Number of atoms undergoing fission per second\n",
      "print  \"The number of atoms undergoing fission per second = %1.0e\"%(N/e)  "
     ],
     "language": "python",
     "metadata": {},
     "outputs": [
      {
       "output_type": "stream",
       "stream": "stdout",
       "text": [
        "The number of atoms undergoing fission per second = 1e+18\n"
       ]
      }
     ],
     "prompt_number": 30
    },
    {
     "cell_type": "heading",
     "level": 2,
     "metadata": {},
     "source": [
      "Ex12.3 : Pg: 247"
     ]
    },
    {
     "cell_type": "code",
     "collapsed": false,
     "input": [
      "#Binding energy of helium nucleus \n",
      "e = 1.6e-019     # Energy equivalent of 1 eV, J/eV\n",
      "amu = 931     # Energy equivalent of 1 amu, MeV\n",
      "m = 2*1.007825+2*1.008665-4.002603     # Mass difference in formation of He, amu\n",
      "E = m*amu     # Energy equivalent of mass difference for He nucleus, MeV\n",
      "print  \"The minimum energy required to break He nucleus = %5.2f MeV\"% E "
     ],
     "language": "python",
     "metadata": {},
     "outputs": [
      {
       "output_type": "stream",
       "stream": "stdout",
       "text": [
        "The minimum energy required to break He nucleus = 28.28 MeV\n"
       ]
      }
     ],
     "prompt_number": 31
    },
    {
     "cell_type": "heading",
     "level": 2,
     "metadata": {},
     "source": [
      "Ex12.4 : PG: 247 "
     ]
    },
    {
     "cell_type": "code",
     "collapsed": false,
     "input": [
      "#Energy released during fusion of deuterium nuclei\n",
      "e = 1.6e-019     # Energy equivalent of 1 eV, J/eV\n",
      "amu = 931.5     # Energy equivalent of 1 amu, MeV\n",
      "M_H = 2.014102     # Mass of hydrogen nucleus, amu\n",
      "M_He = 4.002603     # Mass of helium nucleus, amu\n",
      "m = 2*M_H-M_He     # Mass difference, amu\n",
      "E = m*amu     # Energy released during fusion of deuterium nuclei, MeV\n",
      "print  \"The energy released during fusion of deuterium nuclei = %6.3f MeV\"%E "
     ],
     "language": "python",
     "metadata": {},
     "outputs": [
      {
       "output_type": "stream",
       "stream": "stdout",
       "text": [
        "The energy released during fusion of deuterium nuclei = 23.847 MeV\n"
       ]
      }
     ],
     "prompt_number": 32
    },
    {
     "cell_type": "heading",
     "level": 2,
     "metadata": {},
     "source": [
      "Ex12.5 : Pg: 247 "
     ]
    },
    {
     "cell_type": "code",
     "collapsed": false,
     "input": [
      "#Energy required to break one gram mole of helium\n",
      "amu = 931.5     # Energy equivalent of 1 amu, MeV\n",
      "mp = 1.007825     # Mass of proton, amu\n",
      "mn = 1.008665     # Mass of neutron, amu\n",
      "M_He = 4.002603     # Mass of helium nucleus, amu\n",
      "N = 6.023e+023     # Avogadro's number, g/mol\n",
      "m = 2*mp+2*mn-M_He     # Mass difference, amu\n",
      "E1 = m*amu     # Energy required to break one atom of He, MeV\n",
      "E = N*E1     # Energy required to break one gram mole of He, MeV\n",
      "print  \"The energy required to break one gram mole of He = %5.3e MeV\"% E "
     ],
     "language": "python",
     "metadata": {},
     "outputs": [
      {
       "output_type": "stream",
       "stream": "stdout",
       "text": [
        "The energy required to break one gram mole of He = 1.704e+25 MeV\n"
       ]
      }
     ],
     "prompt_number": 33
    },
    {
     "cell_type": "heading",
     "level": 2,
     "metadata": {},
     "source": [
      "Ex12.6 : Pg: 248 "
     ]
    },
    {
     "cell_type": "code",
     "collapsed": false,
     "input": [
      "#Energy liberated during production of alpha particles\n",
      "amu = 931     # Energy equivalent of 1 amu, MeV\n",
      "mp = 1.007825     # Mass of proton, amu\n",
      "M_Li = 7.016005     # Mass of lithium nucleus, amu\n",
      "M_He = 4.002604     # Mass of helium nucleus, amu\n",
      "dm = M_Li+mp-2*M_He     # Mass difference, amu\n",
      "U = dm*amu     # Energy liberated during production of two alpha particles, MeV\n",
      "print  \"The energy liberated during production of two alpha particles = %5.2f MeV\"%U \n",
      "# Result \n",
      "# The energy liberated during production of two alpha particles = 17.34 MeV  "
     ],
     "language": "python",
     "metadata": {},
     "outputs": [
      {
       "output_type": "stream",
       "stream": "stdout",
       "text": [
        "The energy liberated during production of two alpha particles = 17.34 MeV\n"
       ]
      }
     ],
     "prompt_number": 34
    },
    {
     "cell_type": "heading",
     "level": 2,
     "metadata": {},
     "source": [
      "Ex12.7 : Pg: 248"
     ]
    },
    {
     "cell_type": "code",
     "collapsed": false,
     "input": [
      "#Kinetic energy of neutrons \n",
      "d = 2.2     # Binding energy of deuterium, MeV\n",
      "H3 = 8.5     # Binding energy of tritium, MeV\n",
      "He4 = 28.3     # Binding energy of helium, MeV\n",
      "KE = He4-d-H3     # Kinetic energy of the neutron, MeV\n",
      "print  \"The kinetic energy of the neutron = %4.1f MeV\"% KE  "
     ],
     "language": "python",
     "metadata": {},
     "outputs": [
      {
       "output_type": "stream",
       "stream": "stdout",
       "text": [
        "The kinetic energy of the neutron = 17.6 MeV\n"
       ]
      }
     ],
     "prompt_number": 35
    },
    {
     "cell_type": "heading",
     "level": 2,
     "metadata": {},
     "source": [
      "Ex12.8 : Pg: 248 "
     ]
    },
    {
     "cell_type": "code",
     "collapsed": false,
     "input": [
      "#Consumption rate of U-235\n",
      "N = 6.023e+026     # Avogadro's number, No. of atoms per kg\n",
      "e = 1.6e-019     # Energy equivalent of 1 eV, J/eV\n",
      "P = 100e+06     # Average power generation, J/s\n",
      "U = P*365*24*60*60     # Energy required in one year, J\n",
      "U1 = 180e+06*e     # Energy produced by one atom fission of U-235\n",
      "n = U/U1     # Number of atoms required to produce energy in one year\n",
      "M = n*235/N     # Mass of U-235 required per year, kg\n",
      "print  \"The rate of consumption of U-235 per year = %7.4f kg\"% M "
     ],
     "language": "python",
     "metadata": {},
     "outputs": [
      {
       "output_type": "stream",
       "stream": "stdout",
       "text": [
        "The rate of consumption of U-235 per year = 42.7237 kg\n"
       ]
      }
     ],
     "prompt_number": 36
    },
    {
     "cell_type": "heading",
     "level": 2,
     "metadata": {},
     "source": [
      "Ex12.9 : Pg: 249 "
     ]
    },
    {
     "cell_type": "code",
     "collapsed": false,
     "input": [
      "#Minimum disintegraton energy of nucleus\n",
      "mn = 1.008665     # Mass of neutron, amu\n",
      "mp = 1.007276     # Mass of proton, amu\n",
      "amu = 931     # Energy equivalent of 1 amu, MeV\n",
      "BE = 2.21     # Binding energy of deutron nucleus, MeV\n",
      "E = BE/amu     # Binding energy of deutron nucleus, amu\n",
      "M_D = mp+mn-E     # Mass of deuterium nucleus, amu\n",
      "print  \"The mass of deuterium nucleus = %8.6f amu\"% M_D "
     ],
     "language": "python",
     "metadata": {},
     "outputs": [
      {
       "output_type": "stream",
       "stream": "stdout",
       "text": [
        "The mass of deuterium nucleus = 2.013567 amu\n"
       ]
      }
     ],
     "prompt_number": 37
    },
    {
     "cell_type": "heading",
     "level": 2,
     "metadata": {},
     "source": [
      "Ex12.10 : Pg: 249 "
     ]
    },
    {
     "cell_type": "code",
     "collapsed": false,
     "input": [
      "#Rate of fission of U-235 \n",
      "N = 6.023e+026     # Avogadro's number, No. of atoms per kg\n",
      "e = 1.6e-019     # Energy equivalent of 1 eV, J/eV\n",
      "P = 1     # Average power generation, J/s\n",
      "U = P*365*24*60*60     # Energy required in one year, J\n",
      "U1 = 200e+06*e     # Energy produced by one atom fission of U-235\n",
      "n = U/U1     # Number of atoms undergoing fission per year\n",
      "M = n/N     # Mass of U-235 required per year, kg\n",
      "print  \"The rate of fission of U-235 per year = %5.3e kg\"% M "
     ],
     "language": "python",
     "metadata": {},
     "outputs": [
      {
       "output_type": "stream",
       "stream": "stdout",
       "text": [
        "The rate of fission of U-235 per year = 1.636e-09 kg\n"
       ]
      }
     ],
     "prompt_number": 38
    },
    {
     "cell_type": "heading",
     "level": 2,
     "metadata": {},
     "source": [
      "Ex12.11 : Pg: 250"
     ]
    },
    {
     "cell_type": "code",
     "collapsed": false,
     "input": [
      "#Energy released during fission of U-235 \n",
      "N = 6.023e+023     # Avogadro's number\n",
      "A = 235     # Mass number of U-235\n",
      "n = N/235     # Number of atoms in 1g of U-235\n",
      "E = 200     # Energy produced by fission of 1 U-235 atom, MeV\n",
      "U = n*E     # Energy produced by fission of 1g of U-235 atoms, MeV\n",
      "print  \"The energy produced by fission of 1g of U-235 atoms = %5.3e MeV\"% U "
     ],
     "language": "python",
     "metadata": {},
     "outputs": [
      {
       "output_type": "stream",
       "stream": "stdout",
       "text": [
        "The energy produced by fission of 1g of U-235 atoms = 5.126e+23 MeV\n"
       ]
      }
     ],
     "prompt_number": 39
    },
    {
     "cell_type": "heading",
     "level": 2,
     "metadata": {},
     "source": [
      "Ex12.12 : Pg: 250"
     ]
    },
    {
     "cell_type": "code",
     "collapsed": false,
     "input": [
      "#Minimum energy of gamma photon for pair production \n",
      "c = 3.0e+08     # Speed of light, m/s\n",
      "me = 9.1e-031     # Mass of electron, kg\n",
      "e = 1.6e-019     # Energy equivalent of 1 eV, J/eV\n",
      "mp = me     # Mass of positron, kg\n",
      "U = (me+mp)*c**2/(e*1e+06)     # Energy of gamma-ray photon, MeV\n",
      "print  \"The energy of gamma-ray photon = %5.3f MeV\"%U "
     ],
     "language": "python",
     "metadata": {},
     "outputs": [
      {
       "output_type": "stream",
       "stream": "stdout",
       "text": [
        "The energy of gamma-ray photon = 1.024 MeV\n"
       ]
      }
     ],
     "prompt_number": 40
    },
    {
     "cell_type": "heading",
     "level": 2,
     "metadata": {},
     "source": [
      "Ex12.13 : Pg: 250 "
     ]
    },
    {
     "cell_type": "code",
     "collapsed": false,
     "input": [
      "from sympy import symbols, solve\n",
      "#Uranium atom undergoing fission in a reactor\n",
      "P_out = 800e+06     # Output power of the reactor, J/s\n",
      "E1 = P_out*24*60*60     # Energy required one day, J\n",
      "eta = 0.25     # Efiiciency of reactor\n",
      "N = symbols('N')     # Declare N as the variable\n",
      "E2 = N*200e+06*1.6e-019*eta     # Useful energy produced by N atoms in a day, J\n",
      "N=solve(E2-E1, N)[0]         # Number of U-235 atoms consumed in one day\n",
      "m = N*235/6.023e+026     # Mass of uranium consumption in one day, kg\n",
      "print  \"The number of U-235 atoms consumed in one day = %4.2e atoms\"% N \n",
      "print  \"The mass of uranium consumption in one day = %4.2f kg\"% m  "
     ],
     "language": "python",
     "metadata": {},
     "outputs": [
      {
       "output_type": "stream",
       "stream": "stdout",
       "text": [
        "The number of U-235 atoms consumed in one day = 8.64e+24 atoms\n",
        "The mass of uranium consumption in one day = 3.37 kg\n"
       ]
      }
     ],
     "prompt_number": 41
    },
    {
     "cell_type": "heading",
     "level": 2,
     "metadata": {},
     "source": [
      "Ex12.14 : Pg: 250"
     ]
    },
    {
     "cell_type": "code",
     "collapsed": false,
     "input": [
      "from sympy import symbols, solve\n",
      "#Amount of uranium fuel required for one day operation\n",
      "e = 1.6e-019     # Energy equivalent of 1 eV, J/eV\n",
      "eta = 0.20     # Efficiency of the nuclear reactor\n",
      "E1 = 100e+06*24*60*60     # Average energy required per day, J\n",
      "m = symbols('m')     # Suppose amount of fuel required be m kg\n",
      "n = m*6.023e+026/235     # Number of uranium atoms\n",
      "E = 200e+06*e     # Energy released per fission of U-235, J\n",
      "U = E*n     # Total energy released by fission of U-235, J\n",
      "E2 = U*eta     # Useful energy produced by n atoms in a day, J\n",
      "m = solve(E2-E1)[0]   \n",
      "print  \"The mass of uranium fuel required for one day operation = %6.4f kg/day\"% m "
     ],
     "language": "python",
     "metadata": {},
     "outputs": [
      {
       "output_type": "stream",
       "stream": "stdout",
       "text": [
        "The mass of uranium fuel required for one day operation = 0.5267 kg/day\n"
       ]
      }
     ],
     "prompt_number": 42
    },
    {
     "cell_type": "heading",
     "level": 2,
     "metadata": {},
     "source": [
      "Ex12.15 : Pg: 251 "
     ]
    },
    {
     "cell_type": "code",
     "collapsed": false,
     "input": [
      "from __future__ import division\n",
      "#Binding energy of Fe using Weizsaecker formula\n",
      "amu = 931.5     # Energy equivalent of 1 amu, MeV\n",
      "A = 56     # Mass number of Fe\n",
      "Z = 26     # Atomic number of Fe\n",
      "av = 15.7     # Binding energy per nucleon due to volume effect, MeV\n",
      "As = 17.8     # Surface energy constant, MeV\n",
      "ac = 0.711     # Coulomb energy constant, MeV\n",
      "aa = 23.7     # asymmetric energy constant, MeV\n",
      "ap = 11.18     # Pairing energy constant, MeV\n",
      "BE = av*A - As*A**(2/3) - ac*Z**2*A**(-1/3)-aa*(A-2*Z)**2*A**(-1)+ap*A**(-1/2)     # Weizsaecker Semiempirical mass formula\n",
      "M_Fe = 55.939395     # Atomic mass of Fe-56\n",
      "mp = 1.007825     # Mass of proton, amu\n",
      "mn = 1.008665     # Mass of neutron, amu\n",
      "E_B = (Z*mp+(A-Z)*mn-M_Fe)*amu     # Binding energy of Fe-56, MeV\n",
      "print  \"The binding energy of Fe-56 using Weizsaecker formula = %6.2f MeV\"% BE  \n",
      "print  \"The binding energy of Fe-56 using mass defect = %6.2f MeV\"%E_B  \n",
      "print  \"The result of the semi empirical formula agrees with the experimental value within %3.1f percent\"% abs((BE-E_B)/BE*100)\n",
      "# Result\n",
      "# The binding energy of Fe-56 using Weizsaecker formula = 487.75 MeV\n",
      "# The binding energy of Fe-56 using mass defect = 488.11 MeV \n",
      "# The result of the semi empirical formula agrees with the experimental value within 0.1 percent "
     ],
     "language": "python",
     "metadata": {},
     "outputs": [
      {
       "output_type": "stream",
       "stream": "stdout",
       "text": [
        "The binding energy of Fe-56 using Weizsaecker formula = 487.75 MeV\n",
        "The binding energy of Fe-56 using mass defect = 488.11 MeV\n",
        "The result of the semi empirical formula agrees with the experimental value within 0.1 percent\n"
       ]
      }
     ],
     "prompt_number": 43
    }
   ],
   "metadata": {}
  }
 ]
}
