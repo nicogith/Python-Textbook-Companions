{
 "metadata": {
  "name": "",
  "signature": ""
 },
 "nbformat": 3,
 "nbformat_minor": 0,
 "worksheets": [
  {
   "cells": [
    {
     "cell_type": "heading",
     "level": 1,
     "metadata": {},
     "source": [
      "chapter 09 : Interaction of charged Particle and Neutron With Matters"
     ]
    },
    {
     "cell_type": "heading",
     "level": 2,
     "metadata": {},
     "source": [
      "Ex9.1 : Pg:201 "
     ]
    },
    {
     "cell_type": "code",
     "collapsed": false,
     "input": [
      "#Maximum energy transferred by alpha particles\n",
      "E_alpha = 3e+06     # Incident energy of alpha particles, eV\n",
      "m = 9.1e-031     # Mass of an electron, kg\n",
      "M = 4*1.67e-027     # Mass of an alpha particle, kg\n",
      "# As E_alpha = 1/2*M*v**2 so E_electron = 1/2*m*(2*v)**2\n",
      "# From the two equations\n",
      "E_electron = 4*E_alpha*m/M     # Maximum energy of electron, eV\n",
      "print \"The maximum energy transferred by alpha particles to the electron = %5.3f keV\"%(E_electron/1e+03) "
     ],
     "language": "python",
     "metadata": {},
     "outputs": [
      {
       "output_type": "stream",
       "stream": "stdout",
       "text": [
        "The maximum energy transferred by alpha particles to the electron = 1.635 keV\n"
       ]
      }
     ],
     "prompt_number": 2
    },
    {
     "cell_type": "heading",
     "level": 2,
     "metadata": {},
     "source": [
      "Ex9.2 : Pg:201 "
     ]
    },
    {
     "cell_type": "code",
     "collapsed": false,
     "input": [
      "#Rate of energy loss and range of deuteron and alpha particle\n",
      "E_loss_P = 59     # Specific rate of energy loss per unit mass per unit area of proton, keV per mg cm square\n",
      "R_prime_P = 50     # Range of proton, mg per cm\n",
      "Z_D = 1     # Atomic number of deuteron\n",
      "m_D = 2     # Mass of deuteron, units\n",
      "E_loss_D = Z_D**2*E_loss_P     # Specific rate of energy loss per unit mass per unit area of deuteron, keV per mg cm square\n",
      "R_prime_D = R_prime_P*m_D/Z_D**2     # Range of deuteron, mg per cm square\n",
      "Z_alpha = 2     # Atomic number of alpha particle\n",
      "m_alpha = 4     # Mass of alpha particle, units\n",
      "E_loss_alpha = Z_alpha**2*E_loss_P     # Specific rate of energy loss per unit mass per unit area of alpha particle, keV per mg cm square\n",
      "R_prime_alpha = R_prime_P*m_alpha/Z_alpha**2     # Range of alpha particle, mg per cm square\n",
      "print \"The specific rate of energy loss per unit mass per unit area of deuteron = %2d keV per mg cm square\"% (E_loss_D) \n",
      "print \"The range of deuteron = %3d mg per cm square\"% (R_prime_D) \n",
      "print \"The specific rate of energy loss per unit mass per unit area of alpha particle = %2d keV per mg cm square\"% (E_loss_alpha) \n",
      "print \"The range of alpha particle = %2d mg per cm square\"% (R_prime_alpha) "
     ],
     "language": "python",
     "metadata": {},
     "outputs": [
      {
       "output_type": "stream",
       "stream": "stdout",
       "text": [
        "The specific rate of energy loss per unit mass per unit area of deuteron = 59 keV per mg cm square\n",
        "The range of deuteron = 100 mg per cm square\n",
        "The specific rate of energy loss per unit mass per unit area of alpha particle = 236 keV per mg cm square\n",
        "The range of alpha particle = 50 mg per cm square\n"
       ]
      }
     ],
     "prompt_number": 5
    },
    {
     "cell_type": "heading",
     "level": 2,
     "metadata": {},
     "source": [
      "Ex9.3 : Pg:202 "
     ]
    },
    {
     "cell_type": "code",
     "collapsed": false,
     "input": [
      "from math import log\n",
      "#Thickness of concrete collimator\n",
      "rho = 2200e-03     # Density of concrete, g per cm\n",
      "mu_m = 0.064     # Mass attenuation coefficient of concrete, cm square per g\n",
      "mu = rho*mu_m     # Linear attenuation coefficient o concrete, per cm\n",
      "# As attenuation exponential is exp(-mu*x) = 1e+06, solving for x\n",
      "x = -log(1e-06)/mu \n",
      "print \"The required thickness of concrete to attenuate a collimated beam = %2d cm\"% x "
     ],
     "language": "python",
     "metadata": {},
     "outputs": [
      {
       "output_type": "stream",
       "stream": "stdout",
       "text": [
        "The required thickness of concrete to attenuate a collimated beam = 98 cm\n"
       ]
      }
     ],
     "prompt_number": 7
    },
    {
     "cell_type": "heading",
     "level": 2,
     "metadata": {},
     "source": [
      "Ex9.4 : Pg:202 "
     ]
    },
    {
     "cell_type": "code",
     "collapsed": false,
     "input": [
      "from math import log\n",
      "#Average number of collsions for thermalization of neutrons\n",
      "A = 9.0     # Mass number of beryllium\n",
      "xi = 2.0/A - 4.0/(3*A**2)     # Logarithmic energy decrement of energy distribution of neutron\n",
      "E0 = 2.0     # Initial energy of neutrons, MeV\n",
      "En_prime = 0.025e-06     # Thermal energy of the neutrons, MeV\n",
      "n = 1.0/xi*log(E0/En_prime)     # Average number of collisions needed for neutrons to thermalize\n",
      "En_half = 1.0/2*E0     # Half of the initial energy of neutrons, MeV\n",
      "n_half = 1.0/xi*log(E0/En_half)     # Number of collsions for half the initial energy of neutrons\n",
      "print \"The average number of collsions for thermalization of neutrons = %2d\"% n  \n",
      "print \"The number of collsions for half the initial energy of neutrons = %3.1f\"% n_half "
     ],
     "language": "python",
     "metadata": {},
     "outputs": [
      {
       "output_type": "stream",
       "stream": "stdout",
       "text": [
        "The average number of collsions for thermalization of neutrons = 88\n",
        "The number of collsions for half the initial energy of neutrons = 3.4\n"
       ]
      }
     ],
     "prompt_number": 12
    },
    {
     "cell_type": "heading",
     "level": 2,
     "metadata": {},
     "source": [
      "Ex9.5 : Pg:202 "
     ]
    },
    {
     "cell_type": "code",
     "collapsed": false,
     "input": [
      "#Change in voltage across a G.M. tube\n",
      "e= 1.6e-019     # Charge on an electron, coulomb\n",
      "W = 25     # Ionization potential of gas (Ar/N2), eV\n",
      "E = 5e+06     # Energy of incident alpha particles, eV\n",
      "C = 1e-010     # Capacity of the system, farad\n",
      "N = E/W     # Number of ions produced\n",
      "delta_V = N*e/C     # Change in voltage across the G.M. tube, volt\n",
      "print \"The change in voltage across the G.M. tube = %3.1e volt\"% delta_V"
     ],
     "language": "python",
     "metadata": {},
     "outputs": [
      {
       "output_type": "stream",
       "stream": "stdout",
       "text": [
        "The change in voltage across the G.M. tube = 3.2e-04 volt\n"
       ]
      }
     ],
     "prompt_number": 13
    }
   ],
   "metadata": {}
  }
 ]
}
