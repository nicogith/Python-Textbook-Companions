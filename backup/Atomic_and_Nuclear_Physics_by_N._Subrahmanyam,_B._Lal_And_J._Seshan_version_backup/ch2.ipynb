{
 "metadata": {
  "name": "",
  "signature": ""
 },
 "nbformat": 3,
 "nbformat_minor": 0,
 "worksheets": [
  {
   "cells": [
    {
     "cell_type": "heading",
     "level": 1,
     "metadata": {},
     "source": [
      "chapter 02 : Quantum Mechanics"
     ]
    },
    {
     "cell_type": "heading",
     "level": 2,
     "metadata": {},
     "source": [
      "Ex2.1 : Pg:4 "
     ]
    },
    {
     "cell_type": "code",
     "collapsed": false,
     "input": [
      "#Threshold wavelength of tungsten\n",
      "phi = 4.5*1.6e-019     # Work function for tungesten, joule\n",
      "h = 6.6e-034     # Planck's constant, Js\n",
      "c = 3e+08     # Speed of light, m/s\n",
      "# As phi = h*c/L0, solving for L0\n",
      "L0 = h*c/phi     # Threshold wavelength of tungesten, m\n",
      "print \"The threshold wavelength of tungesten = %4d angstrom\"%   (L0/1e-010) "
     ],
     "language": "python",
     "metadata": {},
     "outputs": [
      {
       "output_type": "stream",
       "stream": "stdout",
       "text": [
        "The threshold wavelength of tungesten = 2750 angstrom\n"
       ]
      }
     ],
     "prompt_number": 65
    },
    {
     "cell_type": "heading",
     "level": 2,
     "metadata": {},
     "source": [
      "Ex2.2 : Pg:44 "
     ]
    },
    {
     "cell_type": "code",
     "collapsed": false,
     "input": [
      "from math import sqrt\n",
      "#Maximum velocity of photoelectrons\n",
      "phi = 4*1.6e-019     # Work function for photoelectric surface, joule\n",
      "h = 6.6e-034     # Planck's constant, Js\n",
      "e = 1.6e-019     # Electronic charge, coulomb\n",
      "m = 9.1e-031     # Mass of the electron, kg\n",
      "f = 1e+15     # Frequency of incident photons, Hz\n",
      "c = 3e+08     # Speed of light, m/s\n",
      "# KE = 1/2*m*v**2 = h*f - phi, solving for v, we have\n",
      "v = sqrt(2*(h*f - phi)/m)     # Maximum velocity of photoelectrons, m/s\n",
      "print \"The maximum velocity of photoelectrons = %5.3e m/s\" %v"
     ],
     "language": "python",
     "metadata": {},
     "outputs": [
      {
       "output_type": "stream",
       "stream": "stdout",
       "text": [
        "The maximum velocity of photoelectrons = 2.097e+05 m/s\n"
       ]
      }
     ],
     "prompt_number": 66
    },
    {
     "cell_type": "heading",
     "level": 2,
     "metadata": {},
     "source": [
      "Ex2.3 : Pg:45 "
     ]
    },
    {
     "cell_type": "code",
     "collapsed": false,
     "input": [
      "#Energy of photoelectrons\n",
      "h = 6.6e-034     # Planck's constant, Js\n",
      "c = 3e+08     # Speed of light, m/s\n",
      "e = 1.6e-019     # Energy equivalent of 1 joule, joule/eV\n",
      "L = 1800e-010     # Wavelength of incident light, m\n",
      "L0 = 2300e-010     # Threshold wavelength of tungsten, m\n",
      "E = h*c*(1/L - 1/L0)     # Energy of photoelectrons emitted from tungsten, joule\n",
      "print \"The energy of photoelectrons emitted from tungsten = %3.1f eV\"%(E/e) "
     ],
     "language": "python",
     "metadata": {},
     "outputs": [
      {
       "output_type": "stream",
       "stream": "stdout",
       "text": [
        "The energy of photoelectrons emitted from tungsten = 1.5 eV\n"
       ]
      }
     ],
     "prompt_number": 67
    },
    {
     "cell_type": "heading",
     "level": 2,
     "metadata": {},
     "source": [
      "Ex2.4 : Pg:45 "
     ]
    },
    {
     "cell_type": "code",
     "collapsed": false,
     "input": [
      "#Longest wavelength of incident radiation\n",
      "h = 6.624e-034     # Planck's constant, Js\n",
      "c = 3e+08     # Speed of light, m/s\n",
      "e = 1.6e-019     # Energy equivalent of 1 eV, joule/eV\n",
      "phi = 6*e        # Work function of metal, joule\n",
      "f0 = phi/h     # Threshold frequency for metal surface, Hz\n",
      "L0 = c/f0      # Threshold (Longest) wavelength for metal, m\n",
      "print \"The longest wavelength of incident radiation = %4d angstrom\"%(L0/1e-010) "
     ],
     "language": "python",
     "metadata": {},
     "outputs": [
      {
       "output_type": "stream",
       "stream": "stdout",
       "text": [
        "The longest wavelength of incident radiation = 2070 angstrom\n"
       ]
      }
     ],
     "prompt_number": 68
    },
    {
     "cell_type": "heading",
     "level": 2,
     "metadata": {},
     "source": [
      "Ex2.5 : Pg:46 "
     ]
    },
    {
     "cell_type": "code",
     "collapsed": false,
     "input": [
      "#Threshold frequency and wavelength\n",
      "h = 6.62e-034     # Planck's constant, Js\n",
      "phi = 3.31e-019        # Work function of metal, joule\n",
      "c = 3e+08     # Speed of light, m/s\n",
      "f0 = phi/h     # Threshold frequency for metal surface, Hz\n",
      "L0 = c/f0      # Threshold wavelength for metal, m\n",
      "print \"The threshold frequency for metal = %1.0e Hz\"% f0 \n",
      "print \"The threshold wavelength for metal = %4d angstrom\"% round(L0/1e-10)"
     ],
     "language": "python",
     "metadata": {},
     "outputs": [
      {
       "output_type": "stream",
       "stream": "stdout",
       "text": [
        "The threshold frequency for metal = 5e+14 Hz\n",
        "The threshold wavelength for metal = 6000 angstrom\n"
       ]
      }
     ],
     "prompt_number": 69
    },
    {
     "cell_type": "heading",
     "level": 2,
     "metadata": {},
     "source": [
      "Ex2.6 : Pg:46 "
     ]
    },
    {
     "cell_type": "code",
     "collapsed": false,
     "input": [
      "from math import sqrt\n",
      "#Maximum velocity of emitted electrons\n",
      "h = 6.624e-034     # Planck's constant, Js\n",
      "c = 3e+08     # Speed of light, m/s\n",
      "m = 9.1e-031     # Mass of an electron, kg\n",
      "e = 1.6e-019     # Energy equivalent of 1 eV, joule/eV\n",
      "L = 4300e-010     # Wavelength of incident light, m\n",
      "phi = 5*e        # Work function of nickel surface, joule\n",
      "f0 = phi/h     # Threshold frequency for nickel, Hz\n",
      "L0 = c/f0      # Threshold wavelength for nickel, m\n",
      "print \"The threshold wavelength for nickel = %4d angstrom\"% (L0/1e-10) \n",
      "print \"Since %4d A < %4d A, the electrons will not be emitted.\"% (L0/1e-010, L/1e-010) \n",
      "phi = 2.83*e    # Work function of potassium surface, joule\n",
      "f0 = phi/h     # Threshold frequency for potassium, Hz\n",
      "L0 = c/f0      # Threshold wavelength for potassium, m\n",
      "print \"The threshold wavelength for potassium = %4d angstrom\"%(L0/1e-10) \n",
      "print \"Since %4d A > %4d A, the electrons will be emitted.\"%(L0/1e-010, L/1e-010) \n",
      "# Now KE = 1/2*m*v0**2 = h*f - h*f0, where v0 is the maximum velocity \n",
      "# solving for v0, we have\n",
      "v0 = sqrt(2*h*c/m*(1/L - 1/L0))     # Maximum velocity of photoelectrons, m/s\n",
      "print \"The maximum velocity of photoelectrons = %5.3e m/s\"% v0 "
     ],
     "language": "python",
     "metadata": {},
     "outputs": [
      {
       "output_type": "stream",
       "stream": "stdout",
       "text": [
        "The threshold wavelength for nickel = 2484 angstrom\n",
        "Since 2484 A < 4300 A, the electrons will not be emitted.\n",
        "The threshold wavelength for potassium = 4388 angstrom\n",
        "Since 4388 A > 4300 A, the electrons will be emitted.\n",
        "The maximum velocity of photoelectrons = 1.433e+05 m/s\n"
       ]
      }
     ],
     "prompt_number": 70
    },
    {
     "cell_type": "heading",
     "level": 2,
     "metadata": {},
     "source": [
      "Ex2.7 : Pg:47 "
     ]
    },
    {
     "cell_type": "code",
     "collapsed": false,
     "input": [
      "#Maximum energy of ejected electrons\n",
      "h = 6.6e-034     # Planck's constant, Js\n",
      "c = 3e+08     # Speed of light, m/s\n",
      "L = 2537e-010     # Wavelength of incident light, m\n",
      "L0 = 3250e-010     # Threshold wavelength of silver, m\n",
      "# As U = h*(f - f0), the kinetic energy of ejected electrons\n",
      "U = h*c*(1/L - 1/L0)     # Maximum energy of ejected electrons, J\n",
      "print \"The maximum energy of ejected electrons = %5.3e J\"% U "
     ],
     "language": "python",
     "metadata": {},
     "outputs": [
      {
       "output_type": "stream",
       "stream": "stdout",
       "text": [
        "The maximum energy of ejected electrons = 1.712e-19 J\n"
       ]
      }
     ],
     "prompt_number": 71
    },
    {
     "cell_type": "heading",
     "level": 2,
     "metadata": {},
     "source": [
      "Ex2.8 : Pg:47 "
     ]
    },
    {
     "cell_type": "code",
     "collapsed": false,
     "input": [
      "#Maximum kinetic energy and stopping potential of ejected electrons\n",
      "h = 6.624e-034     # Planck's constant, Js\n",
      "c = 3e+08     # Speed of light, m/s\n",
      "e = 1.6e-019     # Energy equivalent of 1 eV, joule/eV\n",
      "phi_0 = 1.51*e    # Work function of the metal surface, J \n",
      "L = 4000e-010     # Wavelength of incident light, m\n",
      "f = c/L     # Frequency of incident light, Hz\n",
      "U = h*f - phi_0     # Maximum kinetic energy of ejected electrons, J\n",
      "V = U/e     # Stopping potential for ejected electrons, volt\n",
      "print \"The maximum energy of ejected electrons = %5.3f eV\"%(U/e) \n",
      "print \"The stopping potential of ejected electrons = %5.3f V\"%(V) "
     ],
     "language": "python",
     "metadata": {},
     "outputs": [
      {
       "output_type": "stream",
       "stream": "stdout",
       "text": [
        "The maximum energy of ejected electrons = 1.595 eV\n",
        "The stopping potential of ejected electrons = 1.595 V\n"
       ]
      }
     ],
     "prompt_number": 72
    },
    {
     "cell_type": "heading",
     "level": 2,
     "metadata": {},
     "source": [
      "Ex2.9 : Pg:48 "
     ]
    },
    {
     "cell_type": "code",
     "collapsed": false,
     "input": [
      "#Work function of metal\n",
      "h = 6.624e-034     # Planck's constant, Js\n",
      "c = 3e+08     # Speed of light, m/s\n",
      "e = 1.6e-019     # Energy equivalent of 1 eV, joule/eV\n",
      "V = 1     # Stopping potential for the electrons emitted from the metal, V\n",
      "L = 2500e-010     # Wavelength of incident light, m\n",
      "f = c/L     # Frequency of incident light, Hz\n",
      "# Now KE = h*f - phi = e*V, Einstein's Photoelectric equation, solving for phi\n",
      "phi = h*f - e*V     # Work function of metal\n",
      "print \"The work function of metal = %5.3f eV\"% (phi/e) "
     ],
     "language": "python",
     "metadata": {},
     "outputs": [
      {
       "output_type": "stream",
       "stream": "stdout",
       "text": [
        "The work function of metal = 3.968 eV\n"
       ]
      }
     ],
     "prompt_number": 73
    },
    {
     "cell_type": "heading",
     "level": 2,
     "metadata": {},
     "source": [
      "Ex2.10 : Pg:48 "
     ]
    },
    {
     "cell_type": "code",
     "collapsed": false,
     "input": [
      "#Energy of electrons emitted from the surface of tungsten\n",
      "h = 6.624e-034     # Planck's constant, Js\n",
      "c = 3e+08     # Speed of light, m/s\n",
      "e = 1.6e-019     # Energy equivalent of 1 eV, joule/eV\n",
      "L = 1800e-010     # Wavelength of incident light, m\n",
      "L0 = 2300e-010     # Threshold wavelength of tungsten, m\n",
      "E = h*c*(1/L - 1/L0)     # Einstein's photoelectric equation for kinetic energy of emitted electrons, J\n",
      "print \"The energy of electrons emitted from the surface of tungsten = %3.1f eV\"% (E/e) "
     ],
     "language": "python",
     "metadata": {},
     "outputs": [
      {
       "output_type": "stream",
       "stream": "stdout",
       "text": [
        "The energy of electrons emitted from the surface of tungsten = 1.5 eV\n"
       ]
      }
     ],
     "prompt_number": 74
    },
    {
     "cell_type": "heading",
     "level": 2,
     "metadata": {},
     "source": [
      "Ex2.11  : Pg:49 "
     ]
    },
    {
     "cell_type": "code",
     "collapsed": false,
     "input": [
      "#Energy of photon\n",
      "h = 6.624e-034     # Planck's constant, Js\n",
      "c = 3e+08     # Speed of light, m/s\n",
      "e = 1.6e-019     # Energy equivalent of 1 eV, joule/eV\n",
      "L = 1800e-010     # Wavelength of incident light, m\n",
      "L0 = 2300e-010     # Threshold wavelength of tungsten, m\n",
      "E = h*c*(1/L - 1/L0)     # Einstein's photoelectric equation for kinetic energy of emitted electrons, J\n",
      "print \"The energy of electrons emitted from the surface of tungsten = %3.1f eV\"% (E/e) "
     ],
     "language": "python",
     "metadata": {},
     "outputs": [
      {
       "output_type": "stream",
       "stream": "stdout",
       "text": [
        "The energy of electrons emitted from the surface of tungsten = 1.5 eV\n"
       ]
      }
     ],
     "prompt_number": 75
    },
    {
     "cell_type": "heading",
     "level": 2,
     "metadata": {},
     "source": [
      "Ex2.12 : Pg:49 "
     ]
    },
    {
     "cell_type": "code",
     "collapsed": false,
     "input": [
      "from math import sqrt\n",
      "#Velocity of the emitted electron\n",
      "m = 9.1e-031     # Mass of electron, kg\n",
      "c = 3e+08     # Speed of light, m/s\n",
      "e = 1.6e-019     # Energy equivalent of 1 eV, joule/eV\n",
      "phi = 2.3*e     # Work function of metal, J\n",
      "L = 4300e-010     # Wavelength of incident light, m\n",
      "# As 1/2*m*v**2 = h*f - phi = h*c/L - phi, Einstein's photoelectric equation\n",
      "# Solving for v\n",
      "v = sqrt(2*(h*c/L - phi)/m)     # Velocity of emitted electron, m/s\n",
      "print \"The velocity of emitted electron = %4.2e eV\"% v "
     ],
     "language": "python",
     "metadata": {},
     "outputs": [
      {
       "output_type": "stream",
       "stream": "stdout",
       "text": [
        "The velocity of emitted electron = 4.55e+05 eV\n"
       ]
      }
     ],
     "prompt_number": 76
    },
    {
     "cell_type": "heading",
     "level": 2,
     "metadata": {},
     "source": [
      "Ex2.13 : Pg:50 "
     ]
    },
    {
     "cell_type": "code",
     "collapsed": false,
     "input": [
      "#Energy of a quantum of light\n",
      "c = 3e+08     # Speed of light, m/s\n",
      "e = 1.6e-019     # Energy equivalent of 1 eV, joule/eV\n",
      "L = 5.3e-07     # Wavelength of incident light, m\n",
      "E = h*c/L     # Energy of the incident light, J\n",
      "print \"The energy of incident light = %4.2f eV\"% (E/e) "
     ],
     "language": "python",
     "metadata": {},
     "outputs": [
      {
       "output_type": "stream",
       "stream": "stdout",
       "text": [
        "The energy of incident light = 2.34 eV\n"
       ]
      }
     ],
     "prompt_number": 77
    },
    {
     "cell_type": "heading",
     "level": 2,
     "metadata": {},
     "source": [
      "Ex2.14 : Pg:54 "
     ]
    },
    {
     "cell_type": "code",
     "collapsed": false,
     "input": [
      "#Ratio of masses of a proton and an electron\n",
      "RH = 1.09678e+07     # Rydberg constant for hydrogen, per metre\n",
      "RHe = 1.09722e+07     # Rydberg constant for helium, per metre\n",
      "MH_m_ratio = (RH - 1.0/4*RHe)/(RHe - RH)     # Ratio of mass of a proton to that of an electron\n",
      "print \"The ratio of mass of a proton to that of an electron = %4d\" %MH_m_ratio"
     ],
     "language": "python",
     "metadata": {},
     "outputs": [
      {
       "output_type": "stream",
       "stream": "stdout",
       "text": [
        "The ratio of mass of a proton to that of an electron = 1869\n"
       ]
      }
     ],
     "prompt_number": 78
    },
    {
     "cell_type": "heading",
     "level": 2,
     "metadata": {},
     "source": [
      "Ex2.15 : Pg:56"
     ]
    },
    {
     "cell_type": "code",
     "collapsed": false,
     "input": [
      "from math import pi\n",
      "#First Bohr Orbit in hydrogen atoms \n",
      "n = 1     # Principle quantum number of first orbit in H-atom\n",
      "h = 6.624e-034     # Planck's Constant, Js\n",
      "c = 3e+08     # Speed of light, m/s\n",
      "epsilon_0 = 8.85e-012     # Absolute electrical permittivity of free space, coulomb square per newton per metre square\n",
      "Z = 1     # Atomic number of hydrogen\n",
      "m = 9.1e-031     # Mass of an electron, kg\n",
      "e = 1.6e-019     # Charge on an electron, coulomb\n",
      "r = epsilon_0*n**2*h**2/(pi*m*Z*e**2)     # Radius of first Bohr's orbit, m\n",
      "v = Z*e**2/(2*8.85e-012*h*n)     # Velocity of electron in the first Bohr orbit, m/s\n",
      "print \"The radius of first Bohr orbit = %5.3f angstrom\" %(r/1e-010) \n",
      "print \"The velocity of electron in first Bohr orbit = (1/%3d)c\"%(1/v*c) "
     ],
     "language": "python",
     "metadata": {},
     "outputs": [
      {
       "output_type": "stream",
       "stream": "stdout",
       "text": [
        "The radius of first Bohr orbit = 0.531 angstrom\n",
        "The velocity of electron in first Bohr orbit = (1/137)c\n"
       ]
      }
     ],
     "prompt_number": 79
    },
    {
     "cell_type": "heading",
     "level": 2,
     "metadata": {},
     "source": [
      "Ex2.16 : Pg:57"
     ]
    },
    {
     "cell_type": "code",
     "collapsed": false,
     "input": [
      "#Wavelength of Balmer H_beta lines\n",
      "L_Hb = 6563e-010     # Wavelength of H_beta line, m\n",
      "R = 1.097e+07     # Rydberg constant, per metre\n",
      "L1 = 36/(5*R)     # Wavenumber of H_alpha line, per metre\n",
      "L2 = 16/(3*R)     # Wavenumber of H_beta line, per metre\n",
      "L_ratio = L2/L1     # Ratio of wavelengths of H_beta and H_alpha lines\n",
      "L2 = L_ratio*L1     # Wavelength of Balmer H_beta line, m\n",
      "print \"The wavelength of Balmer H_beta line = %4d angstrom\"%(L2/1e-010) "
     ],
     "language": "python",
     "metadata": {},
     "outputs": [
      {
       "output_type": "stream",
       "stream": "stdout",
       "text": [
        "The wavelength of Balmer H_beta line = 4861 angstrom\n"
       ]
      }
     ],
     "prompt_number": 80
    },
    {
     "cell_type": "heading",
     "level": 2,
     "metadata": {},
     "source": [
      "Ex2.17 : Pg: 58"
     ]
    },
    {
     "cell_type": "code",
     "collapsed": false,
     "input": [
      "#First excitation energy of hydrogen atoms \n",
      "n1 = 1.0     # Principle quantum number of first orbit in H-atom\n",
      "n2 = 2.0     # Principle quantum number of second orbit in H-atom\n",
      "m = 9.1e-031     # Mass of the electron, C\n",
      "e = 1.6e-019     # Charge on an electron, coulomb\n",
      "h = 6.624e-034     # Planck's Constant, Js\n",
      "epsilon_0 = 8.85e-012     # Absolute electrical permittivity of free space, coulomb square per newton per metre square\n",
      "U = m*e**4/(8*epsilon_0**2*h**2)*(1/n1**2 - 1/n2**2)     # First excitation energy of hydrogen atom, J\n",
      "print \"The first excitation energy of hydrogen atom = %5.2f eV\"%(U/e) "
     ],
     "language": "python",
     "metadata": {},
     "outputs": [
      {
       "output_type": "stream",
       "stream": "stdout",
       "text": [
        "The first excitation energy of hydrogen atom = 10.17 eV\n"
       ]
      }
     ],
     "prompt_number": 81
    },
    {
     "cell_type": "heading",
     "level": 2,
     "metadata": {},
     "source": [
      "Ex2.18 : Pg:58"
     ]
    },
    {
     "cell_type": "code",
     "collapsed": false,
     "input": [
      "#Energy difference in the emission or absorption of sodium D1 lines\n",
      "h = 6.624e-034     # Planck's Constant, Js\n",
      "c = 3e+08     # Speed of light, m/s\n",
      "L = 590e-09     # Wavelenght of sodium D1 line, m\n",
      "E = h*c/L     # Energy difference in the emission or absorption of sodium D1 line, J\n",
      "print \"The energy difference in the emission or absorption of sodium D1 line = %4.2e J\"% E  "
     ],
     "language": "python",
     "metadata": {},
     "outputs": [
      {
       "output_type": "stream",
       "stream": "stdout",
       "text": [
        "The energy difference in the emission or absorption of sodium D1 line = 3.37e-19 J\n"
       ]
      }
     ],
     "prompt_number": 82
    },
    {
     "cell_type": "heading",
     "level": 2,
     "metadata": {},
     "source": [
      "Ex2.19 : Pg:58"
     ]
    },
    {
     "cell_type": "code",
     "collapsed": false,
     "input": [
      "#Wavelength of first line of Balmer series\n",
      "n1 = 2.0     # Ground level of Balmer line in H-atom\n",
      "n2 = 4.0     # Third level of Balmer line in H-atom\n",
      "R = 1.097e+07     # Rydberg constant, per metre\n",
      "L2 = 1.0/((1.0/n1**2 - 1.0/n2**2)*R)     # Wavelength of second line of Balmer series, m\n",
      "n2 = 3     # Second level of Balmer line in H-atom\n",
      "L1 = 1/((1.0/n1**2 - 1.0/n2**2)*R)     # Wavelength of first line of Balmer series, m\n",
      "L_ratio = L1/L2     # Wavelength ratio of first and second line of Balmer series, m\n",
      "L2 = 4861     # Given wavelength of second line of Balmer series, angstrom\n",
      "L1 = L2*L_ratio     # Wavelength of first line of Balmer series, angstrom\n",
      "print \"The wavelength of first line of Balmer series = %4d angstrom\" %L1 "
     ],
     "language": "python",
     "metadata": {},
     "outputs": [
      {
       "output_type": "stream",
       "stream": "stdout",
       "text": [
        "The wavelength of first line of Balmer series = 6562 angstrom\n"
       ]
      }
     ],
     "prompt_number": 83
    },
    {
     "cell_type": "heading",
     "level": 2,
     "metadata": {},
     "source": [
      "Ex2.20 : Pg:59"
     ]
    },
    {
     "cell_type": "code",
     "collapsed": false,
     "input": [
      "#Minimum energy of the electrons in Balmer series \n",
      "n1 = 2.0     # Ground level of Balmer line in H-atom\n",
      "n2 = 3.0     # Second level of Balmer line in H-atom\n",
      "m = 9.1e-031     # Mass of the electron, C\n",
      "e = 1.6e-019     # Charge on an electron, coulomb\n",
      "h = 6.624e-034     # Planck's Constant, Js\n",
      "epsilon_0 = 8.85e-012     # Absolute electrical permittivity of free space, coulomb square per newton per metre square\n",
      "E = m*e**4/(8*epsilon_0**2*h**2)*(1/n1**2 - 1/n2**2) # Min energy required by electron to correspond to 1st wavenumber of Balmer series, J\n",
      "print \"Minimum energy required by an electron to correspond to first wavenumber of Balmer series = %4.2f\"%(E/e) "
     ],
     "language": "python",
     "metadata": {},
     "outputs": [
      {
       "output_type": "stream",
       "stream": "stdout",
       "text": [
        "Minimum energy required by an electron to correspond to first wavenumber of Balmer series = 1.88\n"
       ]
      }
     ],
     "prompt_number": 84
    },
    {
     "cell_type": "heading",
     "level": 2,
     "metadata": {},
     "source": [
      "Ex2.21 : Pg:59"
     ]
    },
    {
     "cell_type": "code",
     "collapsed": false,
     "input": [
      "#Ionization potential of hydrogen atom \n",
      "m = 9.1e-031     # Mass of the electron, C\n",
      "e = 1.6e-019     # Charge on an electron, coulomb\n",
      "h = 6.626e-034     # Planck's Constant, Js\n",
      "epsilon_0 = 8.85e-012     # Absolute electrical permittivity of free space, coulomb square per newton per metre square\n",
      "phi = m*e**4/(8*epsilon_0**2*h**2)     # Work function or ionization energy of hydrogen atom, J\n",
      "print \"The ionization energy of hydrogen atom = %5.2f eV\"%(phi/e) "
     ],
     "language": "python",
     "metadata": {},
     "outputs": [
      {
       "output_type": "stream",
       "stream": "stdout",
       "text": [
        "The ionization energy of hydrogen atom = 13.55 eV\n"
       ]
      }
     ],
     "prompt_number": 85
    },
    {
     "cell_type": "heading",
     "level": 2,
     "metadata": {},
     "source": [
      "Ex2.22 : Pg:60"
     ]
    },
    {
     "cell_type": "code",
     "collapsed": false,
     "input": [
      "#Wavelength of second number of Balmer series of hydrogen \n",
      "n1 = 2.0     # Principle quantum number of second orbit in H-atom\n",
      "n2 = 3.0     # Principle quantum number of third orbit in H-atom\n",
      "R = 1.097e+07     # Rydberg constant, per metre\n",
      "L1 = 1/((1/n1**2 - 1/n2**2)*R)     # Wavelength of first Balmer line, m\n",
      "n2 = 4.0     # Principle quantum number of third orbit in H-atom \n",
      "L2 = 1/((1.0/n1**2 - 1/n2**2)*R)     # Wavelength of second Balmer line, m\n",
      "L_ratio = L2/L1     # Wavelength ratio of second and first line of Balmer series\n",
      "L1 = 6563e-010     # Given wavelength of first line of Balmer series, m\n",
      "L2 = L_ratio*L1     # Wavelength of second Balmer line, m\n",
      "print \"The wavelength of second Balmer line = %4e m\"%(L2) "
     ],
     "language": "python",
     "metadata": {},
     "outputs": [
      {
       "output_type": "stream",
       "stream": "stdout",
       "text": [
        "The wavelength of second Balmer line = 4.861481e-07 m\n"
       ]
      }
     ],
     "prompt_number": 86
    },
    {
     "cell_type": "heading",
     "level": 2,
     "metadata": {},
     "source": [
      "Ex2.23 : Pg:60 "
     ]
    },
    {
     "cell_type": "code",
     "collapsed": false,
     "input": [
      "#Wavelength of emitted light\n",
      "e = 1.6e-019     # Charge on an electron, coulomb\n",
      "h = 6.624e-034     # Planck's Constant, Js\n",
      "n = 2     # Principal quantum number for second orbit in H-atom\n",
      "V = 13.6     # Ionization potential of H-atom, V\n",
      "U1 = -1*V*e     # Energy of electron in first orbit, J\n",
      "U2 = U1/n**2     # Energy of electron in second orbit, J\n",
      "# As U2 - U1 = h*c/L, solving for L\n",
      "L = h*c/(U2 - U1)     # Wavelength of light emitted in the transition from second orbit to the first orbit, m\n",
      "print \"The wavelength of light emitted in the transition from second orbit to the first orbit = %4d angstrom\"%(L/1e-010) "
     ],
     "language": "python",
     "metadata": {},
     "outputs": [
      {
       "output_type": "stream",
       "stream": "stdout",
       "text": [
        "The wavelength of light emitted in the transition from second orbit to the first orbit = 1217 angstrom\n"
       ]
      }
     ],
     "prompt_number": 87
    },
    {
     "cell_type": "heading",
     "level": 2,
     "metadata": {},
     "source": [
      "Ex2.24 : Pg:61"
     ]
    },
    {
     "cell_type": "code",
     "collapsed": false,
     "input": [
      "#Radius and speed of electron in the first Bohr orbit\n",
      "m = 9.1e-031     # Mass of the electron, C\n",
      "e = 1.6e-019     # Charge on an electron, coulomb\n",
      "h = 6.626e-034     # Planck's Constant, Js\n",
      "epsilon_0 = 8.85e-012     # Absolute electrical permittivity of free space, coulomb square per newton per metre square\n",
      "Z = 1;n = 1 \n",
      "r_H = epsilon_0*n**2*h**2/(pi*m*Z*e**2)     # Radius of first Bohr orbit, m\n",
      "v_H = Z*e**2/(2*epsilon_0*n*h)     # Velocity of the electron in the first Bohr orbit, m/s\n",
      "print \"The radius of first Bohr orbit = %4.2e m\"%(r_H) \n",
      "print \"The velocity of the electron in the first Bohr orbit = %3.1e m/s\"%(v_H) "
     ],
     "language": "python",
     "metadata": {},
     "outputs": [
      {
       "output_type": "stream",
       "stream": "stdout",
       "text": [
        "The radius of first Bohr orbit = 5.31e-11 m\n",
        "The velocity of the electron in the first Bohr orbit = 2.2e+06 m/s\n"
       ]
      }
     ],
     "prompt_number": 88
    },
    {
     "cell_type": "heading",
     "level": 2,
     "metadata": {},
     "source": [
      "Ex2.25 : Pg:61"
     ]
    },
    {
     "cell_type": "code",
     "collapsed": false,
     "input": [
      "#Radius and velocity of electron for H and He\n",
      "m = 9.1e-031     # Mass of the electron, kg\n",
      "e = 1.6e-019     # Charge on an electron, coulomb\n",
      "h = 6.624e-034     # Planck's Constant, Js\n",
      "epsilon_0 = 8.85e-012     # Absolute electrical permittivity of free space, coulomb square per newton per metre square\n",
      "c = 3e+08     # Speed of light, m/s\n",
      "Z = 1; n = 1     # Atomic number and principal quantum number of H-atom\n",
      "r_H = epsilon_0*n**2*h**2/(pi*m*Z*e**2)     # Radius of first Bohr orbit for H-atom, m\n",
      "v_H = Z*e**2/(2*epsilon_0*n*h)     # Velocity of the electron in the first Bohr orbit of H-atom, m/s\n",
      "print \"The radius of first Bohr orbit = %4.2e m\"%(r_H) \n",
      "print \"The velocity of the electron in the first Bohr orbit = %3.1e m/s\"%(v_H) \n",
      "print \"The velocity of the electron in H-atom compared to the velocity of light = %4.2e\"%(v_H/c) \n",
      "Z = 2     # Atomic number of He-atom\n",
      "r_He = r_H/Z     # Radius of first Bohr orbit for He-atom, m\n",
      "v_He = 2*v_H     # Velocity of the electron in the first Bohr orbit of He-atom, m/s\n",
      "print \"The radius of first Bohr orbit = %4.2e m\"%(r_He) \n",
      "print \"The velocity of the electron in the first Bohr orbit = %3.1e m/s\"%(v_He) \n",
      "print \"The velocity of the electron in He-atom compared to the velocity of light = %5.3e\"%(v_He/c) "
     ],
     "language": "python",
     "metadata": {},
     "outputs": [
      {
       "output_type": "stream",
       "stream": "stdout",
       "text": [
        "The radius of first Bohr orbit = 5.31e-11 m\n",
        "The velocity of the electron in the first Bohr orbit = 2.2e+06 m/s\n",
        "The velocity of the electron in H-atom compared to the velocity of light = 7.28e-03\n",
        "The radius of first Bohr orbit = 2.65e-11 m\n",
        "The velocity of the electron in the first Bohr orbit = 4.4e+06 m/s\n",
        "The velocity of the electron in He-atom compared to the velocity of light = 1.456e-02\n"
       ]
      }
     ],
     "prompt_number": 89
    },
    {
     "cell_type": "heading",
     "level": 2,
     "metadata": {},
     "source": [
      "Ex2.26 : Pg:62 "
     ]
    },
    {
     "cell_type": "code",
     "collapsed": false,
     "input": [
      "#Difference in wavelength in the spectra of hydrogen and deuterium\n",
      "R_H = 1.097e+07     # Rydberg constant for H-atom, per metre\n",
      "M_H = 1.0     # Mass of H-atom, amu\n",
      "M_D = 2*M_H     # Mass of D-atom, amu\n",
      "m = 0.000549*M_H     # Mass of an electron, amu\n",
      "R_D = R_H*(1+m/M_H)/(1+m/M_D)     # Rydberg constant for D-atom, per metre\n",
      "n1 = 2.0; n2 = 3.0     # Principal qunatum numbers for first line of Balmer series\n",
      "L_H = 1/(R_H*(1/n1**2 - 1/n2**2))     # Wavelength of H-atom, m\n",
      "L_D = 1/(R_D*(1/n1**2 - 1/n2**2))     # Wavelength of D-atom, m\n",
      "delta_H = (L_H - L_D)/1e-010     # Difference in wavelength in the spectra of hydrogen and deuterium, angstrom\n",
      "print \"The difference in wavelength in the spectra of hydrogen and deuterium = %3.1f angstrom\"% delta_H "
     ],
     "language": "python",
     "metadata": {},
     "outputs": [
      {
       "output_type": "stream",
       "stream": "stdout",
       "text": [
        "The difference in wavelength in the spectra of hydrogen and deuterium = 1.8 angstrom\n"
       ]
      }
     ],
     "prompt_number": 90
    },
    {
     "cell_type": "heading",
     "level": 2,
     "metadata": {},
     "source": [
      "Ex2.27 : Pg:63"
     ]
    },
    {
     "cell_type": "code",
     "collapsed": false,
     "input": [
      "#Ionization energy of hydrogen atom with orbiting muon \n",
      "m = 9.1e-031     # Mass of the electron, kg\n",
      "e = 1.6e-019     # Charge on an electron, coulomb\n",
      "h = 6.624e-034     # Planck's Constant, Js\n",
      "epsilon_0 = 8.85e-012     # Absolute electrical permittivity of free space, coulomb square per newton per metre square\n",
      "m1 = 200*m     # Mass of muon, kg\n",
      "phi1 = m1*e**4/(8*epsilon_0**2*h**2)     # Ionization energy of H-atom with muon, J\n",
      "print \"The ionization energy of hydrogen atom with orbiting muon = %4.2e eV\"%(phi1/1.6e-019) \n",
      "# Result \n",
      "# The ionization energy of hydrogen atom with orbiting muon = 2.71e+003 eV "
     ],
     "language": "python",
     "metadata": {},
     "outputs": [
      {
       "output_type": "stream",
       "stream": "stdout",
       "text": [
        "The ionization energy of hydrogen atom with orbiting muon = 2.71e+03 eV\n"
       ]
      }
     ],
     "prompt_number": 91
    },
    {
     "cell_type": "heading",
     "level": 2,
     "metadata": {},
     "source": [
      "Ex2.28 : Pg:64"
     ]
    },
    {
     "cell_type": "code",
     "collapsed": false,
     "input": [
      "#Photon emitted by hydrogen atom \n",
      "e = 1.6e-019     # Energy equivalent of 1 eV, joule/eV\n",
      "h = 6.624e-034     # Planck's constant, Js\n",
      "c = 3e+08     # Speed of light, m/s\n",
      "E1 = -13.6     # Energy of electron in the first orbit of hydrogen atom, eV\n",
      "n = 2     # Principal quantum number for second orbit\n",
      "E2 = E1/n**2     # Energy of electron in the second orbit of hydrogen atom, eV\n",
      "E = (E2 - E1)*e     # Energy of photon emitted, joule\n",
      "P = E/c     # Momentum of photon, kg-m/s\n",
      "L = (h/P)/1e-010     # de_Broglie wavelength of photon, angstrom\n",
      "print \"The energy of photon emitted by hydrogen atom %5.2e J\"% E\n",
      "print \"The momentum of photon = %4.2e kg-m/s\"% P  \n",
      "print \"The de_Broglie wavelength of photon = %4d angstrom\"% L "
     ],
     "language": "python",
     "metadata": {},
     "outputs": [
      {
       "output_type": "stream",
       "stream": "stdout",
       "text": [
        "The energy of photon emitted by hydrogen atom 1.63e-18 J\n",
        "The momentum of photon = 5.44e-27 kg-m/s\n",
        "The de_Broglie wavelength of photon = 1217 angstrom\n"
       ]
      }
     ],
     "prompt_number": 92
    },
    {
     "cell_type": "heading",
     "level": 2,
     "metadata": {},
     "source": [
      "Ex2.29 : Pg:64"
     ]
    },
    {
     "cell_type": "code",
     "collapsed": false,
     "input": [
      "#Energy required to create a vacancy in Cu \n",
      "n = 1     # Principal quantum number of K shell\n",
      "Z = 29     # Atomic number of copper\n",
      "U = 13.6     # Ionization potential of hydrogen atom, eV\n",
      "E1 = Z**2*U/n**2     # Energy required to create a vacancy in K-shell of copper atom, eV\n",
      "n = 2     # Principal quantum number of L shell\n",
      "E2 = Z**2*U/n**2     # Energy required to create a vacancy in K-shell of copper atom, eV\n",
      "print \"The energy required to create a vacancy in K-shell of copper atom = %5.2e eV\"% E1 \n",
      "print \"The energy required to create a vacancy in L-shell of copper atom = %5.2e eV\"% E2 "
     ],
     "language": "python",
     "metadata": {},
     "outputs": [
      {
       "output_type": "stream",
       "stream": "stdout",
       "text": [
        "The energy required to create a vacancy in K-shell of copper atom = 1.14e+04 eV\n",
        "The energy required to create a vacancy in L-shell of copper atom = 2.86e+03 eV\n"
       ]
      }
     ],
     "prompt_number": 93
    },
    {
     "cell_type": "heading",
     "level": 2,
     "metadata": {},
     "source": [
      "Ex2.30 : Pg:65 "
     ]
    },
    {
     "cell_type": "code",
     "collapsed": false,
     "input": [
      "#Excitation potential for mercury\n",
      "e = 1.6e-019     # Energy equivalent of 1 eV, joule/eV\n",
      "h = 6.624e-034     # Planck's constant, Js\n",
      "c = 3e+08     # Speed of light, m/s\n",
      "L = 2537e-010     # Wavelength of absorbed line of Hg, m\n",
      "V = h*c/(e*L)     # Excitation potential for Hg, v\n",
      "print \"The excitation potential for Hg = %3.1f V\"% V"
     ],
     "language": "python",
     "metadata": {},
     "outputs": [
      {
       "output_type": "stream",
       "stream": "stdout",
       "text": [
        "The excitation potential for Hg = 4.9 V\n"
       ]
      }
     ],
     "prompt_number": 94
    },
    {
     "cell_type": "heading",
     "level": 2,
     "metadata": {},
     "source": [
      "Ex2.31 : Pg:65"
     ]
    },
    {
     "cell_type": "code",
     "collapsed": false,
     "input": [
      "#Atomic number of impurity in Zinc target \n",
      "L1 = 1.43603e-010     # Wavelength of characteristic K_alpha line from Zn, m\n",
      "Z1 = 30.0     # Atomic number of zinc\n",
      "L2 = 0.53832e-010     # Wavelength of unknown line from Zn, m\n",
      "# As (1/L1)/(1/L2) = (Z1/Z2)**2, solving for Z2\n",
      "Z2 = Z1*(L1/L2)**(1.0/2)     # Atomic number of impurity in Zn target\n",
      "print \"The atomic number of impurity in Zn target = %2d\"% round(Z2) "
     ],
     "language": "python",
     "metadata": {},
     "outputs": [
      {
       "output_type": "stream",
       "stream": "stdout",
       "text": [
        "The atomic number of impurity in Zn target = 49\n"
       ]
      }
     ],
     "prompt_number": 95
    },
    {
     "cell_type": "heading",
     "level": 2,
     "metadata": {},
     "source": [
      "Ex2.32 : Pg:65 "
     ]
    },
    {
     "cell_type": "code",
     "collapsed": false,
     "input": [
      "#Mu-mesonic atom subjected to Bohr orbit\n",
      "Z = 3     # Atomic number of Mu-mesonic atom\n",
      "m_e = 9.1e-031     # Mass of the electron, kg\n",
      "e = 1.6e-019     # Charge on an electron, coulomb\n",
      "h = 6.624e-034     # Planck's Constant, Js\n",
      "epsilon_0 = 8.85e-012     # Absolute electrical permittivity of free space, coulomb square per newton per metre square\n",
      "m = 200*m_e     # Mass of a muon, kg\n",
      "# As r_H = epsilon_0***h**2/(pi*m*(e**2) and r = epsilon_0*n**2*h**2/(pi*m*Z*(e**2)\n",
      "# r = r_H gives\n",
      "n = sqrt(m/m_e*Z)     # Value of n for which r = r_H\n",
      "n1 = 1.0; n2 = 2.0     # Principal quantum numbers corresponding to first excitation\n",
      "U = m*e**4*Z**2.0/(8*epsilon_0**2*h**2*1.6e-019)*(1/n1**2-1/n2**2)     # First excitation potential of the atom, eV\n",
      "print \"The value of n for which radius of orbit is equal to Bohr radius = %2d\"% round(n)\n",
      "print \"The first excitation potential of the atom = %4.2e eV\"% U  "
     ],
     "language": "python",
     "metadata": {},
     "outputs": [
      {
       "output_type": "stream",
       "stream": "stdout",
       "text": [
        "The value of n for which radius of orbit is equal to Bohr radius = 24\n",
        "The first excitation potential of the atom = 1.83e+04 eV\n"
       ]
      }
     ],
     "prompt_number": 96
    }
   ],
   "metadata": {}
  }
 ]
}
