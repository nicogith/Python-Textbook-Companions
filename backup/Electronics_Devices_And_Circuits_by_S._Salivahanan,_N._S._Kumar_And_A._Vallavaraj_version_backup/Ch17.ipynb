{
 "cells": [
  {
   "cell_type": "markdown",
   "metadata": {},
   "source": [
    "# Ch-17 : Blocking Oscillators and Time Based Generators"
   ]
  },
  {
   "cell_type": "markdown",
   "metadata": {},
   "source": [
    "## Page No. 536 Example 17.1."
   ]
  },
  {
   "cell_type": "code",
   "execution_count": 1,
   "metadata": {
    "collapsed": false
   },
   "outputs": [
    {
     "name": "stdout",
     "output_type": "stream",
     "text": [
      "RE < VBB-VP/IP, i.e.  RE(k-ohm) < 20-2.9/1.6*10**-3 =10.69 kohm\n",
      "RE > VBB-VV/IV, i.e.  RE(k-ohm) < 20-1.118/3.5*10**-3 =5.39 kohm\n",
      "Therefore,  CE  = 0.24 uF\n",
      "Therefore,  R1 = VR1/IE =20.00 ohm\n",
      "  R2(ohm) = 11*10**3/250 =44.00 ohm\n"
     ]
    }
   ],
   "source": [
    "RE=(20-2.9)/(1.6) # in k-ohm\n",
    "print \"RE < VBB-VP/IP, i.e.  RE(k-ohm) < 20-2.9/1.6*10**-3 =%0.2f kohm\"%RE\n",
    "RE=(20-1.118)/(3.5) # in k-ohm\n",
    "print \"RE > VBB-VV/IV, i.e.  RE(k-ohm) < 20-1.118/3.5*10**-3 =%0.2f kohm\"%RE\n",
    "# answer in textbook is wrong\n",
    "CE=1./(500*(2.303*10**4)*0.36) # in farady\n",
    "x1=CE*10**6 # in uF\n",
    "print \"Therefore,  CE  = %0.2f uF\"%x1\n",
    "R1=5./(250*10**-3) #in ohm\n",
    "print \"Therefore,  R1 = VR1/IE =%0.2f ohm\"%R1\n",
    "R2=11000./250\n",
    "print \"  R2(ohm) = 11*10**3/250 =%0.2f ohm\"%R2"
   ]
  }
 ],
 "metadata": {
  "kernelspec": {
   "display_name": "Python 2",
   "language": "python",
   "name": "python2"
  },
  "language_info": {
   "codemirror_mode": {
    "name": "ipython",
    "version": 2
   },
   "file_extension": ".py",
   "mimetype": "text/x-python",
   "name": "python",
   "nbconvert_exporter": "python",
   "pygments_lexer": "ipython2",
   "version": "2.7.9"
  }
 },
 "nbformat": 4,
 "nbformat_minor": 0
}
