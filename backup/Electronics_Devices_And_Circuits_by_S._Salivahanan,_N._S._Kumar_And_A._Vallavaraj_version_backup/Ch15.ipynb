{
 "cells": [
  {
   "cell_type": "markdown",
   "metadata": {},
   "source": [
    "# Ch-15 : Oscillators"
   ]
  },
  {
   "cell_type": "markdown",
   "metadata": {},
   "source": [
    "## Page No. 475 Example 15.1."
   ]
  },
  {
   "cell_type": "code",
   "execution_count": 1,
   "metadata": {
    "collapsed": false
   },
   "outputs": [
    {
     "name": "stdout",
     "output_type": "stream",
     "text": [
      "L1 = (1 / 4*pi**2*fo**2*C) - L1 =0.04 mH\n"
     ]
    }
   ],
   "source": [
    "from math import pi\n",
    "L1=(1./(4*(pi**2)*((120*10**3)**2)*0.004*10**-6))-(0.4*10**-3)  #in henry\n",
    "x1=L1*10**3 #in mH\n",
    "print \"L1 = (1 / 4*pi**2*fo**2*C) - L1 =%0.2f mH\"%x1"
   ]
  },
  {
   "cell_type": "markdown",
   "metadata": {},
   "source": [
    "## Page No. 475 Example 15.2."
   ]
  },
  {
   "cell_type": "code",
   "execution_count": 2,
   "metadata": {
    "collapsed": false
   },
   "outputs": [
    {
     "name": "stdout",
     "output_type": "stream",
     "text": [
      "When fo = 950 kHz\n",
      "           C =13.89 pF\n",
      "When fo = 2050 kHz\n",
      "           C = 2.98 pF\n",
      "Hence, the range of capacitance is from 2.98 pF to 13.89 pF\n"
     ]
    }
   ],
   "source": [
    "from math import pi\n",
    "print \"When fo = 950 kHz\"\n",
    "C=1./(4*(pi**2)*((2*10**-3)+(20*10**-6))*((950*10**3)**2)) #farady\n",
    "x1=C*10**12 #pF\n",
    "print \"           C =%0.2f pF\"%x1\n",
    "print \"When fo = 2050 kHz\"\n",
    "C=1./(4*(pi**2)*((2*10**-3)+(20*10**-6))*((2050*10**3)**2)) #farady\n",
    "x1=C*10**12 #pF\n",
    "print \"           C = %0.2f pF\"%x1\n",
    "print \"Hence, the range of capacitance is from 2.98 pF to 13.89 pF\""
   ]
  },
  {
   "cell_type": "markdown",
   "metadata": {},
   "source": [
    "## Page No. 476 Example 15.3"
   ]
  },
  {
   "cell_type": "code",
   "execution_count": 8,
   "metadata": {
    "collapsed": false
   },
   "outputs": [
    {
     "name": "stdout",
     "output_type": "stream",
     "text": [
      "fo = 1 / 2*pi*sqrt(50*10**-6*500*10**-12) =1.01 MHz\n",
      "Feedback factor,  beta = L1 / L2 =3.17\n"
     ]
    }
   ],
   "source": [
    "from math import sqrt,pi\n",
    "L1=38.*10**-6\n",
    "L2=12.*10**-6\n",
    "C=500.*10**-12\n",
    "L=L1+L2\n",
    "fo = 1. / (2*pi*sqrt(L*C))\n",
    "x1=fo*10**-6\n",
    "print \"fo = 1 / 2*pi*sqrt(50*10**-6*500*10**-12) =%0.2f MHz\"%x1\n",
    "beta=L1/L2\n",
    "print \"Feedback factor,  beta = L1 / L2 =%0.2f\"% beta"
   ]
  },
  {
   "cell_type": "markdown",
   "metadata": {},
   "source": [
    "## Page No. 478 Example 15.4."
   ]
  },
  {
   "cell_type": "code",
   "execution_count": 9,
   "metadata": {
    "collapsed": false
   },
   "outputs": [
    {
     "name": "stdout",
     "output_type": "stream",
     "text": [
      "L = (C1+C2) / (4*pi**2*fo**2*C1*C2) =13.93 mH\n",
      "The voltage gain required to produce oscillation is\n",
      "    Av > C1/C2 =10.00\n"
     ]
    }
   ],
   "source": [
    "from math import pi\n",
    "C1=0.2*10**-6\n",
    "C2=0.02*10**-6\n",
    "fo=10.*10**3\n",
    "L=(C1+C2)/(4*pi**2*fo**2*C1*C2)\n",
    "x1=L*10**3\n",
    "print \"L = (C1+C2) / (4*pi**2*fo**2*C1*C2) =%0.2f mH\"%x1\n",
    "print \"The voltage gain required to produce oscillation is\"\n",
    "x2=C1/C2\n",
    "print \"    Av > C1/C2 =%0.2f\"%x2"
   ]
  },
  {
   "cell_type": "markdown",
   "metadata": {},
   "source": [
    "## Page No. 480 Example 15.5."
   ]
  },
  {
   "cell_type": "code",
   "execution_count": 10,
   "metadata": {
    "collapsed": false
   },
   "outputs": [
    {
     "name": "stdout",
     "output_type": "stream",
     "text": [
      "(i) In a Colpitts oscillator, a series combination of C1 and C2 which is in parallel with inductance L and frequency of oscillations is\n",
      "    fo = 1 / 2pi*sqrt(LCeq) = 1 / 2pi*sqrt(L*C1*C2/C1+C2) =87.17 kHz\n",
      "Vf = Vo*C1 / C2 =2.00 V\n",
      "  Gain = 500*10**-12 / 100*10**-12 =5.00\n",
      "C1 = C2 / 10 =50.00 pF\n",
      "(v) The frequncy of oscillation is\n",
      "fo = 118.03 kHz\n"
     ]
    }
   ],
   "source": [
    "from math import sqrt,pi\n",
    "L=40.*10**-3\n",
    "C1=100.*10**-12\n",
    "C2=500.*10**-12\n",
    "Vo=10.\n",
    "print \"(i) In a Colpitts oscillator, a series combination of C1 and C2 which is in parallel with inductance L and frequency of oscillations is\"\n",
    "fo=1./ (2*pi*sqrt((L*C1*C2)/(C1+C2)))\n",
    "x1=fo*10**-3\n",
    "print \"    fo = 1 / 2pi*sqrt(LCeq) = 1 / 2pi*sqrt(L*C1*C2/C1+C2) =%0.2f kHz\"%x1\n",
    "Vf=(Vo*C1)/C2\n",
    "print \"Vf = Vo*C1 / C2 =%0.2f V\"%Vf\n",
    "gain=C2/C1\n",
    "print \"  Gain = 500*10**-12 / 100*10**-12 =%0.2f\"%gain\n",
    "x2=C2/10\n",
    "x3=x2*10**12\n",
    "print \"C1 = C2 / 10 =%0.2f pF\"%x3\n",
    "print \"(v) The frequncy of oscillation is\"\n",
    "fo=1./ (2*pi*sqrt((40*50*500*10**-27)/((50*10**-12)+(500*10**-12))))\n",
    "x4=fo*10**-3\n",
    "print \"fo = %0.2f kHz\"% x4"
   ]
  },
  {
   "cell_type": "markdown",
   "metadata": {},
   "source": [
    "## Page No. 481 Example 15.6."
   ]
  },
  {
   "cell_type": "code",
   "execution_count": 11,
   "metadata": {
    "collapsed": false
   },
   "outputs": [
    {
     "name": "stdout",
     "output_type": "stream",
     "text": [
      "When  fo = 400 kHz,  Cmax(pF) =2638.57\n",
      "When  fo = 1200 kHz,  Cmin = 293.17 pF\n"
     ]
    }
   ],
   "source": [
    "from math import sqrt,pi\n",
    "fo1=400.*10**3\n",
    "fo2=1200.*10**3\n",
    "Lp=60.*10**-6\n",
    "C = 1 / (4*pi**2*fo1**2*Lp)\n",
    "x1=C*10**12\n",
    "print \"When  fo = 400 kHz,  Cmax(pF) =%0.2f\"%x1  # answer in textbook is wrong\n",
    "C = 1. / (4*pi**2*fo2**2*Lp)\n",
    "x2=C*10**12\n",
    "print \"When  fo = 1200 kHz,  Cmin = %0.2f pF\"%x2"
   ]
  },
  {
   "cell_type": "markdown",
   "metadata": {},
   "source": [
    "## Page No. 482 Example 15.7."
   ]
  },
  {
   "cell_type": "code",
   "execution_count": 12,
   "metadata": {
    "collapsed": false
   },
   "outputs": [
    {
     "name": "stdout",
     "output_type": "stream",
     "text": [
      "When  fo = 540 kHz,  Cmax = 86.87 pF\n",
      "When  fo = 1650 kHz,  Cmin = 9.30 pF\n",
      "Hence, the capacitor range required is 9.3-86.87 pF\n"
     ]
    }
   ],
   "source": [
    "from math import sqrt,pi\n",
    "fo1=540.*10**3\n",
    "fo2=1650.*10**3\n",
    "L=1*10.**-3\n",
    "Cmax = 1. / (4*pi**2*fo1**2*L)\n",
    "x1=Cmax*10**12\n",
    "print \"When  fo = 540 kHz,  Cmax = %0.2f pF\"%x1\n",
    "Cmin = 1. / (4*pi**2*fo2**2*L)\n",
    "x2=Cmin*10**12\n",
    "print \"When  fo = 1650 kHz,  Cmin = %0.2f pF\"%x2\n",
    "print \"Hence, the capacitor range required is 9.3-86.87 pF\""
   ]
  },
  {
   "cell_type": "markdown",
   "metadata": {},
   "source": [
    "## Page No. 483 Example 15.8."
   ]
  },
  {
   "cell_type": "code",
   "execution_count": 13,
   "metadata": {
    "collapsed": false
   },
   "outputs": [
    {
     "name": "stdout",
     "output_type": "stream",
     "text": [
      " fo =3.25 kHz\n"
     ]
    }
   ],
   "source": [
    "from math import sqrt,pi\n",
    "fo=1./(2*pi*(200*10**3)*(100*10**-12)*sqrt(6)) #in Hz\n",
    "x1=fo*10**-3 #in kHz\n",
    "print \" fo =%0.2f kHz\"%x1"
   ]
  },
  {
   "cell_type": "markdown",
   "metadata": {},
   "source": [
    "## Page No. 486 Example 15.9."
   ]
  },
  {
   "cell_type": "code",
   "execution_count": 14,
   "metadata": {
    "collapsed": false
   },
   "outputs": [
    {
     "name": "stdout",
     "output_type": "stream",
     "text": [
      "fo = 606.69 Hz\n",
      "beta =155.70\n"
     ]
    }
   ],
   "source": [
    "from math import sqrt,pi\n",
    "fo=1./(2*3.142*10000*(0.01*10**-6)*sqrt(6+((4*2.2*10**3)/(10000)))) #in Hz\n",
    "print \"fo = %0.2f Hz\"%fo\n",
    "beta=23.+(29.*(10/2.2))+(4*(2.2/10))\n",
    "print \"beta =%0.2f\"%beta"
   ]
  },
  {
   "cell_type": "markdown",
   "metadata": {},
   "source": [
    "## Page No. 487 Example 15.10."
   ]
  },
  {
   "cell_type": "code",
   "execution_count": 18,
   "metadata": {
    "collapsed": false
   },
   "outputs": [
    {
     "name": "stdout",
     "output_type": "stream",
     "text": [
      "  C=0.42 nF\n",
      "  hfe >=50.68\n"
     ]
    }
   ],
   "source": [
    "from math import sqrt,pi\n",
    "fo=1./(2*pi*(10*10**3)*(7.1*10**3)*sqrt(6+((4*40*10**3)/(7.1*10**3)))) # in Farady\n",
    "x1=fo*10**9 # in nF\n",
    "print \"  C=%0.2f nF\"%x1\n",
    "h=23.+(29.*(7.1/40))+(4*(40/7.1))\n",
    "print \"  hfe >=%0.2f\"% h"
   ]
  },
  {
   "cell_type": "markdown",
   "metadata": {},
   "source": [
    "## Page No. 488 Example 15.11."
   ]
  },
  {
   "cell_type": "code",
   "execution_count": 19,
   "metadata": {
    "collapsed": false
   },
   "outputs": [
    {
     "name": "stdout",
     "output_type": "stream",
     "text": [
      "Therefore,  C = 1 / 2*pi*R*fo =159.15 pF\n"
     ]
    }
   ],
   "source": [
    "from math import sqrt,pi\n",
    "C=1./(2*pi*100000*10000) # in farady\n",
    "x1=C*10**12 #in pF\n",
    "print \"Therefore,  C = 1 / 2*pi*R*fo =%0.2f pF\"%x1"
   ]
  },
  {
   "cell_type": "markdown",
   "metadata": {},
   "source": [
    "## Page No. 489 Example 15.12."
   ]
  },
  {
   "cell_type": "code",
   "execution_count": 20,
   "metadata": {
    "collapsed": false
   },
   "outputs": [
    {
     "name": "stdout",
     "output_type": "stream",
     "text": [
      "(a) The series resonant frequencies of the crystal is\n",
      "  fs = 1 / 2*pi*sqrt(L*Cs) = 918.88 kHz\n",
      "Q factor of the crystal at fs = omegaS*L / R = 2*pi*fs*L / R =577.36\n",
      "(b) The parallel resonant frequency of the crystal is\n",
      "  fp = 1/2pi * sqrt((Cs+Cp)/(L*Cs*Cp)) =946.05 kHz\n",
      "Q factor of the crystal at fp = omegaS*L / R = 2*pi*fs*L / R =594.39\n"
     ]
    }
   ],
   "source": [
    "from math import sqrt,pi\n",
    "print \"(a) The series resonant frequencies of the crystal is\"\n",
    "fs=1./(2*pi*sqrt(0.5*0.06*10**-12))  #in Hz\n",
    "x1=fs*10**-3 #in kHz\n",
    "print \"  fs = 1 / 2*pi*sqrt(L*Cs) = %0.2f kHz\"%x1\n",
    "fs=(2.*pi*(918.9*10**3)*0.5)/(5*10**3)\n",
    "print \"Q factor of the crystal at fs = omegaS*L / R = 2*pi*fs*L / R =%0.2f\"%fs\n",
    "print \"(b) The parallel resonant frequency of the crystal is\"\n",
    "fp=(1./(2*pi))*sqrt((1.06*10**-12)/(0.5*(0.06*10**-12)*(1*10**-12))) # in Hz\n",
    "x1=fp*10**-3\n",
    "print \"  fp = 1/2pi * sqrt((Cs+Cp)/(L*Cs*Cp)) =%0.2f kHz\"%x1\n",
    "fp=(2.*pi*(946.*10**3)*0.5)/(5.*10**3)\n",
    "print \"Q factor of the crystal at fp = omegaS*L / R = 2*pi*fs*L / R =%0.2f\"%fp"
   ]
  }
 ],
 "metadata": {
  "kernelspec": {
   "display_name": "Python 2",
   "language": "python",
   "name": "python2"
  },
  "language_info": {
   "codemirror_mode": {
    "name": "ipython",
    "version": 2
   },
   "file_extension": ".py",
   "mimetype": "text/x-python",
   "name": "python",
   "nbconvert_exporter": "python",
   "pygments_lexer": "ipython2",
   "version": "2.7.9"
  }
 },
 "nbformat": 4,
 "nbformat_minor": 0
}
