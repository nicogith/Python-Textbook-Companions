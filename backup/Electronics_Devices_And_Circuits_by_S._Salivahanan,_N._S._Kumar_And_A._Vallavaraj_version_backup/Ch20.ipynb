{
 "cells": [
  {
   "cell_type": "markdown",
   "metadata": {},
   "source": [
    "# Ch-20 : Operational Amplifiers"
   ]
  },
  {
   "cell_type": "markdown",
   "metadata": {},
   "source": [
    "## Page No. 620 Example 20.1."
   ]
  },
  {
   "cell_type": "code",
   "execution_count": 2,
   "metadata": {
    "collapsed": false
   },
   "outputs": [
    {
     "name": "stdout",
     "output_type": "stream",
     "text": [
      "    CMRR = Ad / Acm = 10**5\n",
      "    Therefore, the common-mode gain, Acm = Ad / CMRR =1.00\n"
     ]
    }
   ],
   "source": [
    "print \"    CMRR = Ad / Acm = 10**5\"\n",
    "acm=(1.0*10**5)/(10**5)\n",
    "print \"    Therefore, the common-mode gain, Acm = Ad / CMRR =%0.2f\"%acm"
   ]
  },
  {
   "cell_type": "markdown",
   "metadata": {},
   "source": [
    "## Page No. 620 Example 20.2."
   ]
  },
  {
   "cell_type": "code",
   "execution_count": 3,
   "metadata": {
    "collapsed": false
   },
   "outputs": [
    {
     "name": "stdout",
     "output_type": "stream",
     "text": [
      "    The slew rate,        SR = dVo / dt\n",
      "    SR =5.00 V/us\n"
     ]
    }
   ],
   "source": [
    "sr=20./(4) # in V/us\n",
    "print \"    The slew rate,        SR = dVo / dt\"\n",
    "print \"    SR =%0.2f V/us\"%sr"
   ]
  },
  {
   "cell_type": "markdown",
   "metadata": {},
   "source": [
    "## Page No. 621 Example 20.3."
   ]
  },
  {
   "cell_type": "code",
   "execution_count": 4,
   "metadata": {
    "collapsed": false
   },
   "outputs": [
    {
     "name": "stdout",
     "output_type": "stream",
     "text": [
      "The 741C has typical slew rate of 0.5 V/us. Using Eq.(20.8), the slew rate is,\n",
      "      SR = 2*pi*f*Vm / 10**6 = 0.5 V/us\n",
      "The maximum output voltage,  Vm = A*Vid =1.00 V\n",
      "The maximum frequency of the input for which undistorted output is obtained is given by,\n",
      "     fmax = SR*10**6 / 2*pi*Vm =79.58\n"
     ]
    }
   ],
   "source": [
    "from math import sqrt,pi\n",
    "print \"The 741C has typical slew rate of 0.5 V/us. Using Eq.(20.8), the slew rate is,\"\n",
    "print \"      SR = 2*pi*f*Vm / 10**6 = 0.5 V/us\"\n",
    "vm=50.*(20*10**-3) # in volts\n",
    "print \"The maximum output voltage,  Vm = A*Vid =%0.2f V\"%vm\n",
    "print \"The maximum frequency of the input for which undistorted output is obtained is given by,\"\n",
    "f=(0.5*10**6)/(2*pi*1) # in kHz\n",
    "x1=f*10**-3\n",
    "print \"     fmax = SR*10**6 / 2*pi*Vm =%0.2f\"%x1"
   ]
  },
  {
   "cell_type": "markdown",
   "metadata": {},
   "source": [
    "## Page No. 622 Example 20.4."
   ]
  },
  {
   "cell_type": "code",
   "execution_count": 6,
   "metadata": {
    "collapsed": false
   },
   "outputs": [
    {
     "name": "stdout",
     "output_type": "stream",
     "text": [
      "The 741C has typical slew rate of 0.5 V/us. Using Eq.(20.8), the slew rate is,\n",
      "      SR = 2*pi*f*Vm / 10**6 = 0.5 V/us\n",
      "The maximum output voltage,  Vm(V peak-to-peak) = SR*10**6 / 2*pi*f =1.99     = 3.98 V peak-to-peak\n",
      "The maximum peak-to-peak input voltage for undistorted output is,\n",
      "      Vid(V peak-to-peak) = Vm/A = 0.40\n"
     ]
    }
   ],
   "source": [
    "from math import pi,sqrt\n",
    "print \"The 741C has typical slew rate of 0.5 V/us. Using Eq.(20.8), the slew rate is,\"\n",
    "print \"      SR = 2*pi*f*Vm / 10**6 = 0.5 V/us\"\n",
    "vm=(0.5*10**6)/(2*pi*(40*10**3)) # in volts\n",
    "print \"The maximum output voltage,  Vm(V peak-to-peak) = SR*10**6 / 2*pi*f =%0.2f\"%vm,\"    = 3.98 V peak-to-peak\"\n",
    "print \"The maximum peak-to-peak input voltage for undistorted output is,\"\n",
    "vid=3.98/10 # in volts\n",
    "print \"      Vid(V peak-to-peak) = Vm/A = %0.2f\"%vid"
   ]
  },
  {
   "cell_type": "markdown",
   "metadata": {},
   "source": [
    "## Page No. 623 Example 20.5."
   ]
  },
  {
   "cell_type": "code",
   "execution_count": 7,
   "metadata": {
    "collapsed": false
   },
   "outputs": [
    {
     "name": "stdout",
     "output_type": "stream",
     "text": [
      "  The closed-loop voltage gain Af = -RF / R1 =-10.00\n"
     ]
    }
   ],
   "source": [
    "af=-10./1\n",
    "print \"  The closed-loop voltage gain Af = -RF / R1 =%0.2f\"%af"
   ]
  },
  {
   "cell_type": "markdown",
   "metadata": {},
   "source": [
    "## Page No. 624 Example 20.6. "
   ]
  },
  {
   "cell_type": "code",
   "execution_count": 8,
   "metadata": {
    "collapsed": false
   },
   "outputs": [
    {
     "name": "stdout",
     "output_type": "stream",
     "text": [
      "  The closed-loop voltage gain, AF = 1 + RF/R1 =11.00\n",
      "  The feedback factor,  beta = R1 / R1+RF =0.09\n"
     ]
    }
   ],
   "source": [
    "af=1.+(10./1)\n",
    "print \"  The closed-loop voltage gain, AF = 1 + RF/R1 =%0.2f\"%af\n",
    "beta=1/(1+10.)\n",
    "print \"  The feedback factor,  beta = R1 / R1+RF =%0.2f\"%beta"
   ]
  },
  {
   "cell_type": "markdown",
   "metadata": {},
   "source": [
    "## Page No. 625 Example 20.7."
   ]
  },
  {
   "cell_type": "code",
   "execution_count": 9,
   "metadata": {
    "collapsed": false
   },
   "outputs": [
    {
     "name": "stdout",
     "output_type": "stream",
     "text": [
      "The output voltage is given by,\n",
      "    Vo = -Rf/R * (V1+V2+...+Vn) =-9.00 V\n"
     ]
    }
   ],
   "source": [
    "v=-(2+3+4) # in volts\n",
    "print \"The output voltage is given by,\"\n",
    "print \"    Vo = -Rf/R * (V1+V2+...+Vn) =%0.2f V\"%v"
   ]
  },
  {
   "cell_type": "markdown",
   "metadata": {},
   "source": [
    "## Page No. 626 Example 20.8."
   ]
  },
  {
   "cell_type": "code",
   "execution_count": 10,
   "metadata": {
    "collapsed": false
   },
   "outputs": [
    {
     "name": "stdout",
     "output_type": "stream",
     "text": [
      "1.  Given: fL = 1 kHz\n",
      "2.  Since R and C values are not given, let assume C = 0.01 uF\n",
      "3.  Therefore, R(k-ohm) = 1 / 2*pi*fL*C =15.92 kohm\n",
      "4.  Given pass band gain A = 1 + Rf/Ri = 2 i.e. the value of Rf = Ri\n",
      "Let Rf = Ri = 10 k-ohm. The high pass circuit values are shown in Fig.20.31\n"
     ]
    }
   ],
   "source": [
    "from math import pi\n",
    "print \"1.  Given: fL = 1 kHz\"\n",
    "print \"2.  Since R and C values are not given, let assume C = 0.01 uF\"\n",
    "r=1/(2*pi*(10**3)*(0.01*10**-6))\n",
    "x1=r*10**-3  # in k-ohm\n",
    "print \"3.  Therefore, R(k-ohm) = 1 / 2*pi*fL*C =%0.2f kohm\"%x1\n",
    "print \"4.  Given pass band gain A = 1 + Rf/Ri = 2 i.e. the value of Rf = Ri\"\n",
    "print \"Let Rf = Ri = 10 k-ohm. The high pass circuit values are shown in Fig.20.31\""
   ]
  },
  {
   "cell_type": "markdown",
   "metadata": {},
   "source": [
    "## Page No. 627 Example 20.9."
   ]
  },
  {
   "cell_type": "code",
   "execution_count": 1,
   "metadata": {
    "collapsed": false
   },
   "outputs": [
    {
     "name": "stdout",
     "output_type": "stream",
     "text": [
      "(b) With      C = 0.01 uF,  R = 0.5*10**-3/0.01*10**-6 =50.00 kohm\n",
      "(c) Maximum value of differential input voltage is\n",
      "          2*Vsat*(R2 / R1+R2) =0.00\n",
      "Therefore, the peak values for the differential input voltage just exceed +-2 x 6.48 V\n"
     ]
    }
   ],
   "source": [
    "r=(0.5)/0.01 # in k-ohm\n",
    "print \"(b) With      C = 0.01 uF,  R = 0.5*10**-3/0.01*10**-6 =%0.2f kohm\"%r\n",
    "print \"(c) Maximum value of differential input voltage is\"\n",
    "x=2.*14*(100/(100+116))\n",
    "print \"          2*Vsat*(R2 / R1+R2) =%0.2f\"%x\n",
    "print \"Therefore, the peak values for the differential input voltage just exceed +-2 x 6.48 V\""
   ]
  }
 ],
 "metadata": {
  "kernelspec": {
   "display_name": "Python 2",
   "language": "python",
   "name": "python2"
  },
  "language_info": {
   "codemirror_mode": {
    "name": "ipython",
    "version": 2
   },
   "file_extension": ".py",
   "mimetype": "text/x-python",
   "name": "python",
   "nbconvert_exporter": "python",
   "pygments_lexer": "ipython2",
   "version": "2.7.9"
  }
 },
 "nbformat": 4,
 "nbformat_minor": 0
}
