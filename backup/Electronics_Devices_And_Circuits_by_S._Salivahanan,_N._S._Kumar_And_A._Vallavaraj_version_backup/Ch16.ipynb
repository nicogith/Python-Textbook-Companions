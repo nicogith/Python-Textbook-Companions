{
 "cells": [
  {
   "cell_type": "markdown",
   "metadata": {},
   "source": [
    "# Ch-16 : Wave Shaping and Multivibrator Circuits"
   ]
  },
  {
   "cell_type": "markdown",
   "metadata": {},
   "source": [
    "## Page No. 512 Example 16.1."
   ]
  },
  {
   "cell_type": "code",
   "execution_count": 1,
   "metadata": {
    "collapsed": false
   },
   "outputs": [
    {
     "name": "stdout",
     "output_type": "stream",
     "text": [
      "Given      tr = 35 ns\n",
      "We know that,  tr = 0.35 / BW\n",
      "Therefore,    BW = 0.35 / tr =10.00 MHz\n"
     ]
    }
   ],
   "source": [
    "print \"Given      tr = 35 ns\"\n",
    "bw=0.35/(35*10**-9) # in Hz\n",
    "x1=bw*10**-6  #in MHz\n",
    "print \"We know that,  tr = 0.35 / BW\"\n",
    "print \"Therefore,    BW = 0.35 / tr =%0.2f MHz\"%x1"
   ]
  },
  {
   "cell_type": "markdown",
   "metadata": {},
   "source": [
    "## Page No. 514 Example 16.2."
   ]
  },
  {
   "cell_type": "code",
   "execution_count": 2,
   "metadata": {
    "collapsed": false
   },
   "outputs": [
    {
     "name": "stdout",
     "output_type": "stream",
     "text": [
      "Given      ton = 70 ns\n",
      "         C = ton / 0.1*Rs =1166.67 pF\n",
      "      tre = 2.3*RB*C =15.46 u-seconds\n",
      "      f = 1/2T = 1/2tre =33.33 kHz\n"
     ]
    }
   ],
   "source": [
    "print \"Given      ton = 70 ns\"\n",
    "C=(70*10**-9)/(0.1*600)  # in faraday\n",
    "x1=C*10**12  # in pF\n",
    "print \"         C = ton / 0.1*Rs =%0.2f pF\"%x1  # approximately 1200 pF\n",
    "tre=2.3*(5.6*10**3)*(1200*10**-12) # in seconds\n",
    "x2=tre*10**6  #in us\n",
    "print \"      tre = 2.3*RB*C =%0.2f u-seconds\"%x2\n",
    "f=1./(2*(15*10**-6))  #in Hz\n",
    "x3=f*10**-3  #in kHz\n",
    "print \"      f = 1/2T = 1/2tre =%0.2f kHz\"%x3"
   ]
  },
  {
   "cell_type": "markdown",
   "metadata": {},
   "source": [
    "## Page No. 514 Example 16.3."
   ]
  },
  {
   "cell_type": "code",
   "execution_count": 27,
   "metadata": {
    "collapsed": false
   },
   "outputs": [
    {
     "name": "stdout",
     "output_type": "stream",
     "text": [
      "transition voltage: 3.00\n"
     ]
    },
    {
     "data": {
      "image/png": "[encoded data removed]",
      "text/plain": [
       "<matplotlib.figure.Figure at 0x7f02396e67d0>"
      ]
     },
     "metadata": {},
     "output_type": "display_data"
    },
    {
     "data": {
      "image/png": "[encoded data removed]",
      "text/plain": [
       "<matplotlib.figure.Figure at 0x7f0239952290>"
      ]
     },
     "metadata": {},
     "output_type": "display_data"
    }
   ],
   "source": [
    "from numpy import arange,sin,pi\n",
    "%matplotlib inline\n",
    "from matplotlib.pyplot import plot,subplot,title,xlabel,show,ylabel\n",
    "amp = 15.\n",
    "vi_t=3.# # transition voltage\n",
    "t=arange(0,2*pi+0.1,0.1)\n",
    "vi=[]\n",
    "for x in t:\n",
    "    vi.append(amp*sin(x))\n",
    "vo=[]\n",
    "for x in vi:\n",
    "    vo.append(x+3)# # output voltage\n",
    "print 'transition voltage: %0.2f'%vi_t\n",
    "for i in range(0,len(t)):\n",
    "    if(vo[(i)]<=0):\n",
    "        vo[(i)]=0\n",
    "\n",
    "subplot(2,1,1)\n",
    "plot(t,vo,2,'011','',[0,0,7,18])\n",
    "title('Ouptut voltage in sin wave')\n",
    "xlabel('t')\n",
    "ylabel('vo')\n",
    "show()\n",
    "\n",
    "\n",
    "t=arange(0,20+0.1,0.1)\n",
    "vo=[]\n",
    "for i in range(0,int(len(t)/2)):\n",
    "    vo.append(15+3)\n",
    "\n",
    "for i in range(int(len(t)/2-1),len(t)-1):\n",
    "    vo.append(0)\n",
    "subplot(3,1,2)\n",
    "\n",
    "plot(t,vo,2,'011','',[0,-5,21,20])#\n",
    "title('Ouptut voltage in square wave')\n",
    "xlabel('t')\n",
    "ylabel('vo')#\n",
    "show()"
   ]
  },
  {
   "cell_type": "markdown",
   "metadata": {},
   "source": [
    "## Page No. 515 Example 16.4."
   ]
  },
  {
   "cell_type": "code",
   "execution_count": 35,
   "metadata": {
    "collapsed": false
   },
   "outputs": [
    {
     "data": {
      "image/png": "[encoded data removed]",
      "text/plain": [
       "<matplotlib.figure.Figure at 0x7f0239638290>"
      ]
     },
     "metadata": {},
     "output_type": "display_data"
    }
   ],
   "source": [
    "from numpy import arange\n",
    "%matplotlib inline\n",
    "from matplotlib.pyplot import plot,subplot,title,xlabel,show,ylabel\n",
    "\n",
    "t= arange(0,20+0.1,0.1)\n",
    "x=[]\n",
    "for i in range(0,len(t)):\n",
    "    if(t[(i)]<=5):\n",
    "        x.append((15.0/5)*t[(i)])\n",
    "    elif(t[(i)]>=5 and t[(i)]<=15):\n",
    "        x.append(-3.2*t[(i)]+30)\n",
    "    elif(t[(i)]>=15 and t[(i)]<=20):\n",
    "        x.append((15./5)*t[(i)]-60)\n",
    "y=[]\n",
    "for i in range(0,len(t)):\n",
    "    if(x[(i)]>3):\n",
    "        y.append(x[(i)])\n",
    "    elif(x[i]<=3):\n",
    "        y.append(3)\n",
    "plot(t,y,2,'011','',[0,0,20,16])#\n",
    "\n",
    "title('output voltage')\n",
    "xlabel('t')\n",
    "ylabel('Vo')\n",
    "show()"
   ]
  },
  {
   "cell_type": "markdown",
   "metadata": {},
   "source": [
    "## Page No. 516 Example 16.5."
   ]
  },
  {
   "cell_type": "code",
   "execution_count": 23,
   "metadata": {
    "collapsed": false
   },
   "outputs": [
    {
     "data": {
      "image/png": "[encoded data removed]",
      "text/plain": [
       "<matplotlib.figure.Figure at 0x7fa57b0ed350>"
      ]
     },
     "metadata": {},
     "output_type": "display_data"
    },
    {
     "name": "stdout",
     "output_type": "stream",
     "text": [
      "max output voltage is 5V\n",
      "min output voltage is -3V\n"
     ]
    }
   ],
   "source": [
    "from numpy import arange\n",
    "%matplotlib inline\n",
    "from matplotlib.pyplot import plot,subplot,title,xlabel,show,ylabel,legend\n",
    "\n",
    "\n",
    "#let input wave be V_in=V_p_in*sin(2*pi*f*t) \n",
    "f=1.#    #Frequency is 1Hz\n",
    "T=1./f#\n",
    "V_p_in=10#    #Peak input voltage\n",
    "V_th=0.7#    #knee voltage of diode\n",
    "#let n be double the number of cycles of output shown in graph\n",
    "for n in range(0,2):\n",
    "    t=arange(T*n/2.,T*(n+1)/2.+0.0005,0.0005)    #time for each half cycle\n",
    "    V_in=[]\n",
    "    for tt in t:\n",
    "        V_in.append(V_p_in*sin(2*pi*f*tt))\n",
    "    Vout=V_in#\n",
    "    if (n%2)==0: #positive half,D1 conducts till V_in=5V\n",
    "        a=(Vout<5)#    \n",
    "        b=(Vout>5)#    \n",
    "        y=[]\n",
    "        for vv in Vout:\n",
    "            y.append(a*vv+5*b)#    #output follows input till 5V then is constant at 5V\n",
    "    else:                    #negative half, D2 conducts till V_in=-3V\n",
    "        a=(Vout<-3)#    \n",
    "        b=(Vout>-3)#\n",
    "        for vv in Vout:\n",
    "            y.append(-3*a+b*vv)  #output follows input till -3V then stays constant at -3V\n",
    "    \n",
    "        plot(t,y[0:1001])\n",
    "        plot(t,V_in)\n",
    "legend(['output','input'])\n",
    "title('Positive and Negative diode limiter')\n",
    "xlabel('t')\n",
    "ylabel('Vo')\n",
    "show()\n",
    "print 'max output voltage is 5V'\n",
    "print 'min output voltage is -3V'"
   ]
  },
  {
   "cell_type": "markdown",
   "metadata": {},
   "source": [
    "## Page No. 518 Example 16.8."
   ]
  },
  {
   "cell_type": "code",
   "execution_count": 40,
   "metadata": {
    "collapsed": false
   },
   "outputs": [
    {
     "name": "stdout",
     "output_type": "stream",
     "text": [
      "V_DC = 10.00 V\n"
     ]
    },
    {
     "data": {
      "image/png": "[encoded data removed]",
      "text/plain": [
       "<matplotlib.figure.Figure at 0x7f0239c14410>"
      ]
     },
     "metadata": {},
     "output_type": "display_data"
    }
   ],
   "source": [
    "from numpy import arange,pi,sin\n",
    "%matplotlib inline\n",
    "from matplotlib.pyplot import plot,subplot,title,xlabel,show,ylabel\n",
    "#Positive Clamping circuit\n",
    "#let input voltage be V_in=V_p_in*sin(2*pi*f*t)\n",
    "V_p_in=10.#\n",
    "V_DC=(V_p_in)#    #DC level added to output\n",
    "print 'V_DC = %0.2f V'%V_DC\n",
    "for n in range(0,2):\n",
    "    t=arange(n/2,(n+1)/2+0.0005,0.0005)\n",
    "    V_in=[]\n",
    "    for tt in t:\n",
    "        V_in.append(V_p_in*sin(2*pi*tt))\n",
    "    Vout=[]\n",
    "    for vv in V_in:\n",
    "        Vout.append(V_DC+vv)\n",
    "    plot(t,Vout)\n",
    "\n",
    "title('Positive clipper graph')\n",
    "xlabel('t')\n",
    "ylabel('Vo')\n",
    "show()"
   ]
  },
  {
   "cell_type": "markdown",
   "metadata": {},
   "source": [
    "## Page No. 519 Example 16.9."
   ]
  },
  {
   "cell_type": "code",
   "execution_count": 2,
   "metadata": {
    "collapsed": false
   },
   "outputs": [
    {
     "name": "stdout",
     "output_type": "stream",
     "text": [
      "V_DC = -12.00 V\n"
     ]
    },
    {
     "data": {
      "image/png": "[encoded data removed]",
      "text/plain": [
       "<matplotlib.figure.Figure at 0x7fa57b361650>"
      ]
     },
     "metadata": {},
     "output_type": "display_data"
    }
   ],
   "source": [
    "from numpy import arange,pi,sin\n",
    "%matplotlib inline\n",
    "from matplotlib.pyplot import plot,subplot,title,xlabel,show,ylabel\n",
    "#Negative Clamping circuit\n",
    "#let input voltage be V_in=V_p_in*sin(2*pi*f*t)\n",
    "V_p_in=12#\n",
    "V_DC=-(V_p_in)#    #DC level added to output\n",
    "print 'V_DC = %0.2f V'%V_DC\n",
    "#t=[]\n",
    "for n in range(0,2):\n",
    "    t=(n/2.,(n+1)/2.+0.0005,0.0005)\n",
    "    V_in=[]\n",
    "    for tt in t:\n",
    "        V_in.append(V_p_in*sin(2*pi*tt))\n",
    "    Vout=[]\n",
    "    for vv in V_in:\n",
    "        Vout.append(V_DC+vv)\n",
    "    plot(t,Vout)\n",
    "\n",
    "title('Negative clipper graph')\n",
    "xlabel('t')\n",
    "ylabel('Vo')\n",
    "show()\n"
   ]
  },
  {
   "cell_type": "markdown",
   "metadata": {},
   "source": [
    "## Page No. 520 Example 16.10."
   ]
  },
  {
   "cell_type": "code",
   "execution_count": 3,
   "metadata": {
    "collapsed": false
   },
   "outputs": [
    {
     "name": "stdout",
     "output_type": "stream",
     "text": [
      "The frequency of a symmetrical astable multivibrator is\n",
      "      f = 1/1.386RC =36.08 kHz\n"
     ]
    }
   ],
   "source": [
    "f=1./(1.386*(20*10**3)*(1000*10**-12))  #in Hz\n",
    "x1=f*10**-3  # in kHz\n",
    "print \"The frequency of a symmetrical astable multivibrator is\"\n",
    "print \"      f = 1/1.386RC =%0.2f kHz\"%x1  # answer in textbook is wrong"
   ]
  },
  {
   "cell_type": "markdown",
   "metadata": {},
   "source": [
    "## Page No. 521 Example 16.11."
   ]
  },
  {
   "cell_type": "code",
   "execution_count": 4,
   "metadata": {
    "collapsed": false
   },
   "outputs": [
    {
     "name": "stdout",
     "output_type": "stream",
     "text": [
      "The period of oscillation for an asymmetrical astable multivibrator is,\n",
      "    T = 0.693(R1C1+R2C2) = 360.36 us\n",
      "Therefore, the frequency of oscillation, f = 1/T =2.78 kHz\n"
     ]
    }
   ],
   "source": [
    "print \"The period of oscillation for an asymmetrical astable multivibrator is,\"\n",
    "t=0.693*(((2*10**3)*0.01*10**-6)+((10*10**3)*(0.05*10**-6))) # seconds\n",
    "x1=t*10**6 # in us\n",
    "print \"    T = 0.693(R1C1+R2C2) = %0.2f us\"%x1\n",
    "f=1./(360.36*10**-6)  # in Hz\n",
    "x2=f*10**-3 # in kHz\n",
    "print \"Therefore, the frequency of oscillation, f = 1/T =%0.2f kHz\"%x2"
   ]
  },
  {
   "cell_type": "markdown",
   "metadata": {},
   "source": [
    "## Page No. 522 Example 16.12."
   ]
  },
  {
   "cell_type": "code",
   "execution_count": 1,
   "metadata": {
    "collapsed": false
   },
   "outputs": [
    {
     "name": "stdout",
     "output_type": "stream",
     "text": [
      "The period of oscillation is,  T = 1/f = 10.00 us\n",
      "        T1 = 2us  (given)\n",
      "Hence,  T2 = T - T1 =8.00 us\n",
      "        T1 = 0.693*R1C1\n",
      "Therefore,  C1 = T1 / 0.693R1 =144.30 pF\n",
      "        T2 = 0.693*R2*C2\n",
      "Therefore,  C2 = T2 / 0.693R2 =577.20 pF\n"
     ]
    }
   ],
   "source": [
    "t=1./(100*10**3)  # in seconds\n",
    "x1=t*10**6  # in us\n",
    "print \"The period of oscillation is,  T = 1/f = %0.2f us\"%x1\n",
    "print \"        T1 = 2us  (given)\"\n",
    "t2=10-2 # in us\n",
    "print \"Hence,  T2 = T - T1 =%0.2f us\"%t2\n",
    "print \"        T1 = 0.693*R1C1\"\n",
    "c1=(2*10**-6)/(0.693*(20*10**3))  # in faraday\n",
    "x1=c1*10**12  # in pF\n",
    "print \"Therefore,  C1 = T1 / 0.693R1 =%0.2f pF\"%x1  #answer in textbook is wrong\n",
    "c2=(8*10**-6)/(0.693*(20*10**3))  # in faraday\n",
    "x1=c2*10**12  # in pF\n",
    "print \"        T2 = 0.693*R2*C2\"  #answer in textbook is wrong\n",
    "print \"Therefore,  C2 = T2 / 0.693R2 =%0.2f pF\"%x1"
   ]
  },
  {
   "cell_type": "markdown",
   "metadata": {},
   "source": [
    "## Page No. 523 Example 16.13."
   ]
  },
  {
   "cell_type": "code",
   "execution_count": 2,
   "metadata": {
    "collapsed": false
   },
   "outputs": [
    {
     "name": "stdout",
     "output_type": "stream",
     "text": [
      "  RC = 12-0.2/1*10**-3 = 11.80 kohm\n",
      "         R <= hfe*RC\n",
      "  R <=1.18 Mohm\n",
      "Hence, let us assume that R = R1 = R2 = 1 M-ohm\n",
      "    Toff = 0.693*R*C1\n",
      "Therefore,  C1 =28.86 pF\n",
      "    Ton = 0.693*R*C2\n",
      "Therefore,  C2 = 14.43 pF\n"
     ]
    }
   ],
   "source": [
    "rc=(12-0.2)/(1*10**-3)  # in ohm\n",
    "x1=rc*10**-3  # in k-ohm\n",
    "print \"  RC = 12-0.2/1*10**-3 = %0.2f kohm\"%x1\n",
    "r=100.*11.8*10**3  # in ohm\n",
    "x1=r*10**-6  # in M-ohm\n",
    "print \"         R <= hfe*RC\"\n",
    "print \"  R <=%0.2f Mohm\"%x1\n",
    "print \"Hence, let us assume that R = R1 = R2 = 1 M-ohm\"\n",
    "print \"    Toff = 0.693*R*C1\"\n",
    "c1=(20*10**-6)/(0.693*10**6)  # in faraday\n",
    "x1=c1*10**12  # in pF\n",
    "print \"Therefore,  C1 =%0.2f pF\"%x1\n",
    "print \"    Ton = 0.693*R*C2\"\n",
    "c1=(10*10**-6)/(0.693*10**6)  # in faraday\n",
    "x1=c1*10**12  # in pF\n",
    "print \"Therefore,  C2 = %0.2f pF\"%x1"
   ]
  },
  {
   "cell_type": "markdown",
   "metadata": {},
   "source": [
    "## Page No. 523 Example 16.14."
   ]
  },
  {
   "cell_type": "code",
   "execution_count": 3,
   "metadata": {
    "collapsed": false
   },
   "outputs": [
    {
     "name": "stdout",
     "output_type": "stream",
     "text": [
      "At stable state, Q2 is ON and Q2 is OFF:\n",
      "    RC2(ohm) = RC1(ohm) = VCC-VCE(sat) / IC(sat) =950.00 ohm\n",
      "IB2(sat) = IC(sat) / hfe(min) =0.30 mA\n",
      "Also,    IB1(sat) = 0.3 mA\n",
      "  R = VCC-VBE(sat) / IB2(sat) = 17.67 kohm\n",
      "                                          [because, VBE(sat) = 0.7 V for Si transistor]\n",
      "At quasi-stable state, Q1 is ON and Q2 is OFF\n",
      "    T = 0.693*R*C\n",
      "Therefore,      C= T / 0.693*R =0.01 uF\n",
      "Assume,    IB1(sat) = IR2\n",
      "Therefore,  IR1 = IB1(sat)+IR2 =0.60 mA\n",
      "    VCC = VBE(sat) + IR1(RC2+R1)\n",
      "Therefore,  R1 = (VCC-VBE(sat) / IR1) - RC2 =7.88 kohm\n",
      "    R2 = VBE(sat)-(-VBB) / IR2 =7.33 kohm\n",
      "The speed up capacitor C1 is chosen such that R1C1 = 1 us and hence,\n",
      "      C1 = 127.67 pF\n"
     ]
    }
   ],
   "source": [
    "print \"At stable state, Q2 is ON and Q2 is OFF:\"\n",
    "rc2=(6.-0.3)/(6*10**-3) # in ohm\n",
    "print \"    RC2(ohm) = RC1(ohm) = VCC-VCE(sat) / IC(sat) =%0.2f ohm\"%rc2\n",
    "ib2=(6.*10**-3)/20 # in ampere\n",
    "x1=ib2*10**3  # in mA\n",
    "print \"IB2(sat) = IC(sat) / hfe(min) =%0.2f mA\"%x1\n",
    "print \"Also,    IB1(sat) = 0.3 mA\"\n",
    "r=(6-0.7)/(0.3*10**-3)  # in ohm\n",
    "x1=r*10**-3  # in k-ohm\n",
    "print \"  R = VCC-VBE(sat) / IB2(sat) = %0.2f kohm\"%x1\n",
    "print \"                                          [because, VBE(sat) = 0.7 V for Si transistor]\"\n",
    "print \"At quasi-stable state, Q1 is ON and Q2 is OFF\"\n",
    "print \"    T = 0.693*R*C\"\n",
    "c=(140.*10**-6)/(0.693*17.67*10**3)  # in F\n",
    "x1=c*10**6  # in uF\n",
    "print \"Therefore,      C= T / 0.693*R =%0.2f uF\"%x1\n",
    "print \"Assume,    IB1(sat) = IR2\"\n",
    "ir2=0.3+0.3  # in mA\n",
    "print \"Therefore,  IR1 = IB1(sat)+IR2 =%0.2f mA\"%ir2\n",
    "r1=((6-0.7)/(0.6*10**-3))-950  # in ohm\n",
    "x1=r1*10**-3  # in k-ohm\n",
    "print \"    VCC = VBE(sat) + IR1(RC2+R1)\"\n",
    "print \"Therefore,  R1 = (VCC-VBE(sat) / IR1) - RC2 =%0.2f kohm\"%x1\n",
    "r2=(0.7+1.5)/(0.3*10**-3)  # in ohm\n",
    "x1=r2*10**-3  # in k-ohm\n",
    "print \"    R2 = VBE(sat)-(-VBB) / IR2 =%0.2f kohm\"%x1\n",
    "print \"The speed up capacitor C1 is chosen such that R1C1 = 1 us and hence,\"\n",
    "c1=(1.0*10**-6)/(7.833*10**3)  # in F\n",
    "x1=c1*10**12  # in pF\n",
    "print \"      C1 = %0.2f pF\" %x1  # answer in textbook is wrong"
   ]
  },
  {
   "cell_type": "markdown",
   "metadata": {},
   "source": [
    "## Page No. 524 Example 16.15."
   ]
  },
  {
   "cell_type": "code",
   "execution_count": 4,
   "metadata": {
    "collapsed": false
   },
   "outputs": [
    {
     "name": "stdout",
     "output_type": "stream",
     "text": [
      "      VB1 = -VBB*R2 / R2+R3 = -1.57 V\n",
      "          IC2 = [VCC-VC2(sat) / RC2] - [VC2(sat)-(-VBB) / R2+R3] =5.21 mA\n",
      "      IB2 > IC2 / hfe(min) > 0.27\n",
      "Therefore,  I6 = 0.13 mA\n",
      "            I3 =0.63 mA\n",
      "            VC1 = 10.62 V\n"
     ]
    }
   ],
   "source": [
    "vb1=(-12.*15*10**3)/(115.*10**3)  # in volts\n",
    "print \"      VB1 = -VBB*R2 / R2+R3 = %0.2f V\"%vb1\n",
    "ic2=((12-0.3)/(2.2*10**3))-((0.3+12)/(115*10**3)) # in A\n",
    "x1=ic2*10**3  # in mA  (Since Q2 is ON VC2(sat) = 0.3 V)\n",
    "print \"          IC2 = [VCC-VC2(sat) / RC2] - [VC2(sat)-(-VBB) / R2+R3] =%0.2f mA\"%x1             # answer in textbook is wrong\n",
    "ib2=(5.35*10**-3)/20  # in A\n",
    "x1=ib2*10**3  # in mA\n",
    "print \"      IB2 > IC2 / hfe(min) > %0.2f\"%x1  # approximately 0.5 mA\n",
    "i6=(0.7+12)/(100)  # in mA\n",
    "print \"Therefore,  I6 = %0.2f mA\"%i6\n",
    "i3=0.5+0.127  # in mA\n",
    "print \"            I3 =%0.2f mA\"%i3\n",
    "vc1=12-((0.627*10**-3)*(2.2*10**3))\n",
    "print \"            VC1 = %0.2f V\"%vc1"
   ]
  },
  {
   "cell_type": "markdown",
   "metadata": {},
   "source": [
    "## Page No. 525 Example 16.16."
   ]
  },
  {
   "cell_type": "code",
   "execution_count": 5,
   "metadata": {
    "collapsed": false
   },
   "outputs": [
    {
     "name": "stdout",
     "output_type": "stream",
     "text": [
      "Voltage across RE is VE = VB2 - VBE =4.30 V\n",
      "    RE = VE / IE =2.15 kohm\n",
      "     IC*RC2 = VCC - VE - VCE(sat) = 7.50 V\n",
      "     RC2 =3.75 kohm\n",
      "     I2 = 0.1*IC2 =0.20 mA\n",
      "     R2 = VB2 / I2 =25.00 kohm\n",
      "     IB2 = IC2 / hfe(min) = 0.00 uA\n",
      "RC1 + R1 =31.82\n",
      "  I1 = VB2 / R2 =0.12 mA\n",
      "  IC1 = IE = VB1-VBE / RE =1.07 mA\n",
      "Therefore,  RC1 =4.84 kohm\n",
      "  R1 = 26.96 kohm\n",
      "  RB < hfe*RE\n",
      "  RB = hfe*RE / 10 =21.50 kohm\n"
     ]
    }
   ],
   "source": [
    "ve=5-0.7  # in volts\n",
    "print \"Voltage across RE is VE = VB2 - VBE =%0.2f V\"%ve\n",
    "re=4.3/2 # in k-ohm\n",
    "print \"    RE = VE / IE =%0.2f kohm\"%re\n",
    "x=12-4.3-0.2  # in volts\n",
    "print \"     IC*RC2 = VCC - VE - VCE(sat) = %0.2f V\"%x\n",
    "rc2=7.5/(2)  # in k-ohm\n",
    "print \"     RC2 =%0.2f kohm\"%rc2\n",
    "i2=0.1*2  # in mA\n",
    "print \"     I2 = 0.1*IC2 =%0.2f mA\"%i2\n",
    "r2=5/0.2  # in k-ohm\n",
    "print \"     R2 = VB2 / I2 =%0.2f kohm\"%r2\n",
    "ib2=(210**-3)/100  # in A\n",
    "x1=ib2*10**6  # in uA\n",
    "print \"     IB2 = IC2 / hfe(min) = %0.2f uA\"%x1\n",
    "x=7/(0.22)  # in k-ohm\n",
    "print \"RC1 + R1 =%0.2f\"%x\n",
    "i1=3./25 # in mA\n",
    "print \"  I1 = VB2 / R2 =%0.2f mA\"%i1\n",
    "ic1=(3-0.7)/2.15  # in mA\n",
    "print \"  IC1 = IE = VB1-VBE / RE =%0.2f mA\"%ic1\n",
    "rc1=(12-((0.12*10**-3)*(56.8*10**3)))/(1.07*10**-3)  # in  ohm\n",
    "x1=rc1*10**-3  # in k-ohm\n",
    "print \"Therefore,  RC1 =%0.2f kohm\"%x1\n",
    "r1=31.8-4.84\n",
    "print \"  R1 = %0.2f kohm\"%r1\n",
    "rb=(100*2.15)/10\n",
    "print \"  RB < hfe*RE\"\n",
    "print \"  RB = hfe*RE / 10 =%0.2f kohm\"%rb"
   ]
  }
 ],
 "metadata": {
  "kernelspec": {
   "display_name": "Python 2",
   "language": "python",
   "name": "python2"
  },
  "language_info": {
   "codemirror_mode": {
    "name": "ipython",
    "version": 2
   },
   "file_extension": ".py",
   "mimetype": "text/x-python",
   "name": "python",
   "nbconvert_exporter": "python",
   "pygments_lexer": "ipython2",
   "version": "2.7.9"
  }
 },
 "nbformat": 4,
 "nbformat_minor": 0
}
