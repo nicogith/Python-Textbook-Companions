{
 "cells": [
  {
   "cell_type": "markdown",
   "metadata": {},
   "source": [
    "# Ch-6 : Bipolar Junction Transistor "
   ]
  },
  {
   "cell_type": "markdown",
   "metadata": {},
   "source": [
    "## Page No. 151 Example 6.1."
   ]
  },
  {
   "cell_type": "code",
   "execution_count": 1,
   "metadata": {
    "collapsed": false
   },
   "outputs": [
    {
     "name": "stdout",
     "output_type": "stream",
     "text": [
      "The emitter current is,\n",
      "IE = IB + IC\n",
      "10 = IB + 9.8\n",
      "Therefore,    IB(mA) =0.20\n"
     ]
    }
   ],
   "source": [
    "IE=10\n",
    "IC=9.8\n",
    "print \"The emitter current is,\"\n",
    "print \"IE = IB + IC\"\n",
    "print \"10 = IB + 9.8\"\n",
    "IB=IE-IC\n",
    "print \"Therefore,    IB(mA) =%0.2f\"%IB"
   ]
  },
  {
   "cell_type": "markdown",
   "metadata": {},
   "source": [
    "## Page No. 152 Example 6.2."
   ]
  },
  {
   "cell_type": "code",
   "execution_count": 3,
   "metadata": {
    "collapsed": false
   },
   "outputs": [
    {
     "name": "stdout",
     "output_type": "stream",
     "text": [
      "The common-base d.c. current gain,\n",
      "alpha = IC/IE = 0.9873\n"
     ]
    }
   ],
   "source": [
    "IE=6.28\n",
    "IC=6.20\n",
    "print \"The common-base d.c. current gain,\"\n",
    "alpha=IC/IE\n",
    "print \"alpha = IC/IE = %0.4f\"%alpha"
   ]
  },
  {
   "cell_type": "markdown",
   "metadata": {},
   "source": [
    "## Page No. 155 Example 6.3."
   ]
  },
  {
   "cell_type": "code",
   "execution_count": 5,
   "metadata": {
    "collapsed": false
   },
   "outputs": [
    {
     "name": "stdout",
     "output_type": "stream",
     "text": [
      "The common-base d.c. current gain (alpha) is,\n",
      "alpha = 0.967 = IC/IE = IC/10\n",
      "\n",
      "Therefore,    IC = 9.67 mA\n",
      "The emitter current,    IE = IB + IC\n",
      "Therefore,    IB =0.33 mA\n"
     ]
    }
   ],
   "source": [
    "alpha=0.967\n",
    "IE=10\n",
    "print \"The common-base d.c. current gain (alpha) is,\"\n",
    "print \"alpha = 0.967 = IC/IE = IC/10\"\n",
    "IC=alpha*IE\n",
    "print \"\\nTherefore,    IC = %0.2f mA\"%IC\n",
    "print \"The emitter current,    IE = IB + IC\"\n",
    "IB=IE-IC\n",
    "print \"Therefore,    IB =%0.2f mA\"%IB"
   ]
  },
  {
   "cell_type": "markdown",
   "metadata": {},
   "source": [
    "## Page No. 156 Example 6.4."
   ]
  },
  {
   "cell_type": "code",
   "execution_count": 6,
   "metadata": {
    "collapsed": false
   },
   "outputs": [
    {
     "name": "stdout",
     "output_type": "stream",
     "text": [
      "The common-base d.c. current gain, alpha = IC/IE\n",
      "Therefore,  IC =9.80 mA\n",
      "The emitter current, IE = IB + IC\n",
      "Therefore,  IB =0.20 mA\n"
     ]
    }
   ],
   "source": [
    "IE=10\n",
    "alpha=0.98\n",
    "print \"The common-base d.c. current gain, alpha = IC/IE\"\n",
    "IC=alpha*IE\n",
    "print \"Therefore,  IC =%0.2f mA\"%IC\n",
    "print \"The emitter current, IE = IB + IC\"\n",
    "IB=IE-IC\n",
    "print \"Therefore,  IB =%0.2f mA\"%IB"
   ]
  },
  {
   "cell_type": "markdown",
   "metadata": {},
   "source": [
    "## Page No. 158 Example 6.5."
   ]
  },
  {
   "cell_type": "code",
   "execution_count": 8,
   "metadata": {
    "collapsed": false
   },
   "outputs": [
    {
     "name": "stdout",
     "output_type": "stream",
     "text": [
      "If alpha=0.97, beta = alpha/(1 - alpha)\n",
      "beta = 32.3333\n",
      "If beta=200, alpha = beta/(beta + 1)\n",
      "alpha =0.0000\n"
     ]
    }
   ],
   "source": [
    "alpha=0.97\n",
    "print \"If alpha=0.97, beta = alpha/(1 - alpha)\"\n",
    "beta=alpha/(1-alpha)\n",
    "print \"beta = %0.4f\"%beta\n",
    "beta1=200\n",
    "print \"If beta=200, alpha = beta/(beta + 1)\"\n",
    "alpha1 =beta1/(beta1+1)\n",
    "print \"alpha =%0.4f\"%alpha1"
   ]
  },
  {
   "cell_type": "markdown",
   "metadata": {},
   "source": [
    "## Page No. 158 Example 6.6."
   ]
  },
  {
   "cell_type": "code",
   "execution_count": 10,
   "metadata": {
    "collapsed": false
   },
   "outputs": [
    {
     "name": "stdout",
     "output_type": "stream",
     "text": [
      "beta = 100 = IC / IB\n",
      "Therefore,    IB =0.40 mA\n",
      "IE = IB + IC\n",
      "IE =40.40 mA\n"
     ]
    }
   ],
   "source": [
    "beta=100.0\n",
    "IC=40\n",
    "print \"beta = 100 = IC / IB\"\n",
    "IB=IC/beta\n",
    "print \"Therefore,    IB =%0.2f mA\"%IB\n",
    "print \"IE = IB + IC\"\n",
    "IE=IB+IC\n",
    "print \"IE =%0.2f mA\"%IE"
   ]
  },
  {
   "cell_type": "markdown",
   "metadata": {},
   "source": [
    "## Page No. 159 Example 6.7."
   ]
  },
  {
   "cell_type": "code",
   "execution_count": 12,
   "metadata": {
    "collapsed": false
   },
   "outputs": [
    {
     "name": "stdout",
     "output_type": "stream",
     "text": [
      "The common-base current gain, alpha = beta / (beta + 1) =0.9934\n",
      "Also,    alpha = IC / IE\n",
      "Therefore,    IC = 9.93 mA\n",
      "the emitter current,    IE = IB + IC\n",
      "Therefore,    IB =0.07 mA\n"
     ]
    }
   ],
   "source": [
    "beta=150.\n",
    "IE=10\n",
    "alpha=beta/(beta+1)\n",
    "print \"The common-base current gain, alpha = beta / (beta + 1) =%0.4f\"%alpha\n",
    "print \"Also,    alpha = IC / IE\"\n",
    "IC=alpha*IE\n",
    "print \"Therefore,    IC = %0.2f mA\"%IC\n",
    "print \"the emitter current,    IE = IB + IC\"\n",
    "IB=IE-IC\n",
    "print \"Therefore,    IB =%0.2f mA\"%IB"
   ]
  },
  {
   "cell_type": "markdown",
   "metadata": {},
   "source": [
    "## Page No. 160 Example 6.8."
   ]
  },
  {
   "cell_type": "code",
   "execution_count": 14,
   "metadata": {
    "collapsed": false
   },
   "outputs": [
    {
     "name": "stdout",
     "output_type": "stream",
     "text": [
      "We know that (beta),  beta = 170 = IC / IB\n",
      "Therefore,    IB =0.47 mA\n",
      "and    IE = IB + IC =80.47 mA\n"
     ]
    }
   ],
   "source": [
    "beta=170.\n",
    "IC=80\n",
    "print \"We know that (beta),  beta = 170 = IC / IB\"\n",
    "IB=IC/beta\n",
    "print \"Therefore,    IB =%0.2f mA\"%IB\n",
    "IE=IB+IC\n",
    "print \"and    IE = IB + IC =%0.2f mA\"%IE"
   ]
  },
  {
   "cell_type": "markdown",
   "metadata": {},
   "source": [
    "## Page No. 161 Example 6.9."
   ]
  },
  {
   "cell_type": "code",
   "execution_count": 15,
   "metadata": {
    "collapsed": false
   },
   "outputs": [
    {
     "name": "stdout",
     "output_type": "stream",
     "text": [
      "beta = 200 = IC / IB\n",
      "Therefore,    IC = 25.00 mA\n",
      "and    IE = IB + IC =25.12 mA\n"
     ]
    }
   ],
   "source": [
    "IB=0.125\n",
    "beta=200\n",
    "print \"beta = 200 = IC / IB\"\n",
    "IC=beta*IB\n",
    "print \"Therefore,    IC = %0.2f mA\"%IC\n",
    "IE=IB+IC\n",
    "print \"and    IE = IB + IC =%0.2f mA\"%IE"
   ]
  },
  {
   "cell_type": "markdown",
   "metadata": {},
   "source": [
    "## Page No. 162 Example 6.10"
   ]
  },
  {
   "cell_type": "code",
   "execution_count": 16,
   "metadata": {
    "collapsed": false
   },
   "outputs": [
    {
     "name": "stdout",
     "output_type": "stream",
     "text": [
      "We know that base current,  IB = IE / (1 + beta) =0.12 mA\n",
      "and collector current,  IC = IE - IB =11.88 mA\n"
     ]
    }
   ],
   "source": [
    "IE=12.\n",
    "beta=100\n",
    "IB=IE/(1+beta)\n",
    "print \"We know that base current,  IB = IE / (1 + beta) =%0.2f mA\"%IB\n",
    "IC=IE-IB\n",
    "print \"and collector current,  IC = IE - IB =%0.2f mA\"%IC"
   ]
  },
  {
   "cell_type": "markdown",
   "metadata": {},
   "source": [
    "## Page No. 162 Example 6.11"
   ]
  },
  {
   "cell_type": "code",
   "execution_count": 17,
   "metadata": {
    "collapsed": false
   },
   "outputs": [
    {
     "name": "stdout",
     "output_type": "stream",
     "text": [
      "(a) To find beta of the transistor \n",
      "beta = IC / IB = 20.0000\n",
      "(b) To find alpha of the transistor\n",
      "alpha = beta / (1+beta) = 0.9524\n",
      "(c) To find emitter current, IE\n",
      "IE = IB + IC = 2.10 mA\n",
      "(d) To find the new value of beta when delta_IB = 25uA and delta_IC = 0.6mA\n",
      "Therefore,  IB = 125.00 uA\n",
      "            IC = 2.60 mA\n",
      "New value of beta of the transistor,\n",
      "beta = IC / IB =20.8000\n"
     ]
    }
   ],
   "source": [
    "IB=100*10**-6\n",
    "IC=2*10**-3\n",
    "beta=IC/IB\n",
    "print \"(a) To find beta of the transistor \"\n",
    "print \"beta = IC / IB = %0.4f\"%beta\n",
    "alpha=beta/(beta+1)\n",
    "print \"(b) To find alpha of the transistor\"\n",
    "print \"alpha = beta / (1+beta) = %0.4f\"%alpha\n",
    "IE=IB+IC\n",
    "IE1=IE*10**3\n",
    "print \"(c) To find emitter current, IE\"\n",
    "print \"IE = IB + IC = %0.2f mA\"%IE1\n",
    "# answer in the textbook is wrong\n",
    "print \"(d) To find the new value of beta when delta_IB = 25uA and delta_IC = 0.6mA\"\n",
    "delta_IB=25*10**-6\n",
    "delta_IC=0.6*10**-3\n",
    "IB1=IB+delta_IB\n",
    "IB11=IB1*10**6\n",
    "IC1=IC+delta_IC\n",
    "IC11=IC1*10**3\n",
    "print \"Therefore,  IB = %0.2f uA\"%IB11\n",
    "print \"            IC = %0.2f mA\"%IC11\n",
    "beta1=IC1/IB1\n",
    "print \"New value of beta of the transistor,\"\n",
    "print \"beta = IC / IB =%0.4f\"%beta1"
   ]
  },
  {
   "cell_type": "markdown",
   "metadata": {},
   "source": [
    "## Page No. 163 Example 6.12."
   ]
  },
  {
   "cell_type": "code",
   "execution_count": 19,
   "metadata": {
    "collapsed": false
   },
   "outputs": [
    {
     "name": "stdout",
     "output_type": "stream",
     "text": [
      "The collector current is, IC = ((alpha*IB)/(1-alpha))+(ICO/(1-alpha)) = 5.15 mA\n",
      "The emitter current is, IE = IB + IC =5.25 mA\n"
     ]
    }
   ],
   "source": [
    "alpha=0.98\n",
    "ICO=5*10**-6\n",
    "ICBO=ICO\n",
    "IB=100*10**-6\n",
    "IC=((alpha*IB)/(1-alpha))+(ICO/(1-alpha))\n",
    "IC1=IC*10**3\n",
    "print \"The collector current is, IC = ((alpha*IB)/(1-alpha))+(ICO/(1-alpha)) = %0.2f mA\"%IC1\n",
    "IE=IB+IC\n",
    "IE1=IE*10**3\n",
    "print \"The emitter current is, IE = IB + IC =%0.2f mA\"%IE1"
   ]
  },
  {
   "cell_type": "markdown",
   "metadata": {},
   "source": [
    "## Page No. 164 Example 6.13."
   ]
  },
  {
   "cell_type": "code",
   "execution_count": 20,
   "metadata": {
    "collapsed": false
   },
   "outputs": [
    {
     "name": "stdout",
     "output_type": "stream",
     "text": [
      "(a) To find the value of collector current when IB = 0.25mA\n",
      "IC = (beta*IB) + ((1+beta)*ICBO) = 13.01 mA\n",
      "(b) To find the value of new collector current if temperature rises to 50 C\n",
      "I''CBO(beta=50) = ICBO*(2**((T2-T1)/10)) =49.25 uA\n",
      "Therefore, the collector current at 50 C is\n",
      "IC = (beta*IB) + ((1+beta)*I''CBO) =15.01 mA\n"
     ]
    }
   ],
   "source": [
    "ICBO=10*10**-6\n",
    "hFE=50\n",
    "beta=hFE\n",
    "IB=0.25*10**-3\n",
    "IC=(beta*IB)+((1+beta)*ICBO)\n",
    "IC1=IC*10**3\n",
    "print \"(a) To find the value of collector current when IB = 0.25mA\"\n",
    "print \"IC = (beta*IB) + ((1+beta)*ICBO) = %0.2f mA\"%IC1\n",
    "T1=27.\n",
    "T2=50.\n",
    "I_CBO = ICBO * (2**((T2-T1)/10))\n",
    "I_CBO1=I_CBO*10**6\n",
    "print \"(b) To find the value of new collector current if temperature rises to 50 C\"\n",
    "print \"I''CBO(beta=50) = ICBO*(2**((T2-T1)/10)) =%0.2f uA\"%I_CBO1\n",
    "IC2=(beta*IB)+((1+beta)*I_CBO)\n",
    "IC3=IC2*10**3\n",
    "print \"Therefore, the collector current at 50 C is\"\n",
    "print \"IC = (beta*IB) + ((1+beta)*I''CBO) =%0.2f mA\"%IC3"
   ]
  },
  {
   "cell_type": "markdown",
   "metadata": {},
   "source": [
    "## Page No. 165 Example 6.14."
   ]
  },
  {
   "cell_type": "code",
   "execution_count": 21,
   "metadata": {
    "collapsed": false
   },
   "outputs": [
    {
     "name": "stdout",
     "output_type": "stream",
     "text": [
      "The current gain of the transistor is alpha = delta_IC/delta_IE = 0.9900\n"
     ]
    }
   ],
   "source": [
    "delta_IC=0.99*10**-3\n",
    "delta_IE=1*10**-3\n",
    "alpha=delta_IC/delta_IE\n",
    "print \"The current gain of the transistor is alpha = delta_IC/delta_IE = %0.4f\"%alpha"
   ]
  },
  {
   "cell_type": "markdown",
   "metadata": {},
   "source": [
    "## Page No. 165 Example 6.15"
   ]
  },
  {
   "cell_type": "code",
   "execution_count": 23,
   "metadata": {
    "collapsed": false
   },
   "outputs": [
    {
     "name": "stdout",
     "output_type": "stream",
     "text": [
      "The d.c. current gain of the transistor in CB mode is, alpha_dc = beta_dc/(1+beta_dc) =0.99\n"
     ]
    }
   ],
   "source": [
    "beta_dc=100.\n",
    "alpha_dc=beta_dc/(1+beta_dc)\n",
    "print \"The d.c. current gain of the transistor in CB mode is, alpha_dc = beta_dc/(1+beta_dc) =%0.2f\"%alpha_dc"
   ]
  },
  {
   "cell_type": "markdown",
   "metadata": {},
   "source": [
    "## Page No. 165 Example 6.16."
   ]
  },
  {
   "cell_type": "code",
   "execution_count": 24,
   "metadata": {
    "collapsed": false
   },
   "outputs": [
    {
     "name": "stdout",
     "output_type": "stream",
     "text": [
      "Common base current gain is, alpha = delta_IC/delta_IE =0.99\n",
      "Common-emitter current gain is beta = alpha / (1-alpha) =199.00\n"
     ]
    }
   ],
   "source": [
    "delta_IC=0.995*10**-3\n",
    "delta_IE=1*10**-3\n",
    "alpha=delta_IC/delta_IE\n",
    "print \"Common base current gain is, alpha = delta_IC/delta_IE =%0.2f\"%alpha\n",
    "beta=alpha/(1-alpha)\n",
    "print \"Common-emitter current gain is beta = alpha / (1-alpha) =%0.2f\"%beta"
   ]
  },
  {
   "cell_type": "markdown",
   "metadata": {},
   "source": [
    "## Page No. 166 Example 6.17."
   ]
  },
  {
   "cell_type": "code",
   "execution_count": 26,
   "metadata": {
    "collapsed": false
   },
   "outputs": [
    {
     "name": "stdout",
     "output_type": "stream",
     "text": [
      "We know that,  alpha = beta/(1+beta)\n",
      "Therefore, the common base current gain is, alpha =0.98\n",
      "We also know that, alpha = IC / IE\n",
      "Therefore,  IC = alpha * IE = 2.94 mA\n"
     ]
    }
   ],
   "source": [
    "beta=49.\n",
    "alpha=beta/(1+beta)\n",
    "print \"We know that,  alpha = beta/(1+beta)\"\n",
    "print \"Therefore, the common base current gain is, alpha =%0.2f\"%alpha\n",
    "print \"We also know that, alpha = IC / IE\"\n",
    "IE=3*10**-3\n",
    "IC=alpha*IE\n",
    "IC1=IC*10**3\n",
    "print \"Therefore,  IC = alpha * IE = %0.2f mA\"%IC1"
   ]
  },
  {
   "cell_type": "markdown",
   "metadata": {},
   "source": [
    "## Page No. 166 Example 6.18."
   ]
  },
  {
   "cell_type": "code",
   "execution_count": 32,
   "metadata": {
    "collapsed": false
   },
   "outputs": [
    {
     "name": "stdout",
     "output_type": "stream",
     "text": [
      "The collector current, IC(mA) = beta * IB =2.25 mA\n",
      "The emitter current, IE(mA) = IC + IB =2.26 mA\n",
      "Common-base current gain, alpha = beta/(1+beta) = 0.99\n"
     ]
    }
   ],
   "source": [
    "IB=15*10**-6\n",
    "beta=150.\n",
    "IC=beta*IB\n",
    "IC1=IC*10**3\n",
    "print \"The collector current, IC(mA) = beta * IB =%0.2f mA\"%IC1\n",
    "IE=IC+IB\n",
    "IE1=IE*10**3\n",
    "print \"The emitter current, IE(mA) = IC + IB =%0.2f mA\"%IE1\n",
    "alpha=beta/(1+beta)\n",
    "print \"Common-base current gain, alpha = beta/(1+beta) = %0.2f\"%alpha"
   ]
  },
  {
   "cell_type": "markdown",
   "metadata": {},
   "source": [
    "## Page No. 167 Example 6.19."
   ]
  },
  {
   "cell_type": "code",
   "execution_count": 34,
   "metadata": {
    "collapsed": false
   },
   "outputs": [
    {
     "name": "stdout",
     "output_type": "stream",
     "text": [
      "Referring to fig.6.18, the base current is,\n",
      "IB = (VBB - VBE) / RB =16.50 uA\n",
      "The collector current is, IC = beta*IB =3.30 mA\n",
      "The emitter current is, IE = IC + IB =3.32 mA\n",
      "Therefore, VCE = VCC - IC*RC =3.40 V\n"
     ]
    }
   ],
   "source": [
    "print \"Referring to fig.6.18, the base current is,\"\n",
    "VBB=4\n",
    "VBE=0.7\n",
    "RB=200*10**3\n",
    "IB=(VBB-VBE)/RB\n",
    "IB1=IB*10**6\n",
    "print \"IB = (VBB - VBE) / RB =%0.2f uA\"%IB1\n",
    "beta=200\n",
    "IC=beta*IB\n",
    "IC1=IC*10**3\n",
    "print \"The collector current is, IC = beta*IB =%0.2f mA\"%IC1\n",
    "IE=IC+IB\n",
    "IE1=IE*10**3\n",
    "print \"The emitter current is, IE = IC + IB =%0.2f mA\"%IE1\n",
    "VCC=10\n",
    "RC=2*10**3\n",
    "VCE=VCC-(IC*RC)\n",
    "print \"Therefore, VCE = VCC - IC*RC =%0.2f V\"%VCE"
   ]
  },
  {
   "cell_type": "markdown",
   "metadata": {},
   "source": [
    "## Page No. 167 Example 6.20."
   ]
  },
  {
   "cell_type": "code",
   "execution_count": 35,
   "metadata": {
    "collapsed": false
   },
   "outputs": [
    {
     "name": "stdout",
     "output_type": "stream",
     "text": [
      "2.48 IC = ((alpha_dc*IB)/(1-alpha_dc)) + (ICBO/(1-alpha_dc)) =2.48 mA\n",
      "Therefore,  IE = IB + IC =2.50 mA\n"
     ]
    }
   ],
   "source": [
    "alpha_dc=0.99\n",
    "ICBO=5*10**-6\n",
    "IB=20*10**-6\n",
    "IC=((alpha_dc*IB)/(1-alpha_dc))+(ICBO/(1-alpha_dc))\n",
    "IC1=IC*10**3\n",
    "print IC1,\"IC = ((alpha_dc*IB)/(1-alpha_dc)) + (ICBO/(1-alpha_dc)) =%0.2f mA\"%IC1\n",
    "IE=IB+IC\n",
    "IE1=IE*10**3\n",
    "print \"Therefore,  IE = IB + IC =%0.2f mA\"%IE1"
   ]
  },
  {
   "cell_type": "markdown",
   "metadata": {},
   "source": [
    "## Page No. 168 Example 6.21."
   ]
  },
  {
   "cell_type": "code",
   "execution_count": 37,
   "metadata": {
    "collapsed": false
   },
   "outputs": [
    {
     "name": "stdout",
     "output_type": "stream",
     "text": [
      "The leakage current  ICBO = 0.2 uA\n",
      "                     ICEO = 18 uA\n",
      "Assume that          IB = 30 mA\n",
      "IE = IB + IC\n",
      "IC = IE - IB = (beta*IB)+((1+beta)*ICBO)\n",
      "We know that,  ICEO = ICBO/(1-alpha) = (1+beta)*ICBO\n",
      "beta = (ICEO / ICBO)-1 =89.00\n",
      "IC = (beta*IB) + ((1+beta)*ICBO) =2.67 A\n",
      "alpha_dc = 1 - (ICBO / ICEO) =0.99\n",
      "beta_dc = (IC-ICBO) / (IB-ICEO) =89.05\n"
     ]
    }
   ],
   "source": [
    "ICBO=0.2*10**-6\n",
    "ICEO=18*10**-6\n",
    "IB=30*10**-3\n",
    "print \"The leakage current  ICBO = 0.2 uA\"\n",
    "print \"                     ICEO = 18 uA\"\n",
    "print \"Assume that          IB = 30 mA\"\n",
    "print \"IE = IB + IC\"\n",
    "print \"IC = IE - IB = (beta*IB)+((1+beta)*ICBO)\"\n",
    "print \"We know that,  ICEO = ICBO/(1-alpha) = (1+beta)*ICBO\"\n",
    "beta=(ICEO/ICBO)-1\n",
    "print \"beta = (ICEO / ICBO)-1 =%0.2f\"%beta\n",
    "IC=(beta*IB)+((1+beta)*ICBO)\n",
    "print \"IC = (beta*IB) + ((1+beta)*ICBO) =%0.2f A\"%IC\n",
    "alpha_dc=1-(ICBO/ICEO)\n",
    "print \"alpha_dc = 1 - (ICBO / ICEO) =%0.2f\"%alpha_dc\n",
    "beta_dc=(IC-ICBO)/(IB-ICEO)\n",
    "print \"beta_dc = (IC-ICBO) / (IB-ICEO) =%0.2f\"%beta_dc"
   ]
  },
  {
   "cell_type": "markdown",
   "metadata": {},
   "source": [
    "## Page No. 168 Example 6.22."
   ]
  },
  {
   "cell_type": "code",
   "execution_count": 39,
   "metadata": {
    "collapsed": false
   },
   "outputs": [
    {
     "name": "stdout",
     "output_type": "stream",
     "text": [
      "Assume that,  IB = 1 mA\n",
      "IC = ((alpha_dc*IB) / (1-alpha_dc)) + (ICBO/(1-alpha_dc)) = 104.00 mA\n",
      "IE = IC + IB = 105.00 mA\n"
     ]
    }
   ],
   "source": [
    "alpha_dc=0.99\n",
    "ICBO=50*10**-6\n",
    "IB=1*10**-3\n",
    "IC=((alpha_dc*IB)/(1-alpha_dc))+(ICBO/(1-alpha_dc))\n",
    "IC1=IC*10**3\n",
    "print \"Assume that,  IB = 1 mA\"\n",
    "print \"IC = ((alpha_dc*IB) / (1-alpha_dc)) + (ICBO/(1-alpha_dc)) = %0.2f mA\"%IC1\n",
    "IE=IC+IB\n",
    "IE1=IE*10**3\n",
    "print \"IE = IC + IB = %0.2f mA\"%IE1"
   ]
  },
  {
   "cell_type": "markdown",
   "metadata": {},
   "source": [
    "## Page No. 169 Example 6.23."
   ]
  },
  {
   "cell_type": "code",
   "execution_count": 43,
   "metadata": {
    "collapsed": false
   },
   "outputs": [
    {
     "name": "stdout",
     "output_type": "stream",
     "text": [
      "(i) DC load line:\n",
      "Maximum VCE = VCC = 24V\n",
      "Maximum  IC = VCC / RC = 0.00 mA\n",
      "(ii) For fixing the optimum operating point Q, mark the middle of the d.c. load line AB and the corresponding VCE and IC values can be found\n",
      "Here,    VCEQ(V) = VCC / 2 = 12.00 V\n",
      "         ICQ = 1.5 mA\n",
      "\n",
      "(iii) AC load line\n",
      "AC load,   R_a.c. = RC || RL = 6.00 kohm\n",
      "Therefore, maximum VCE(V) = VCEQ + ICQ*R_a.c. = 21.00 \n",
      "This locates the point D(OD = 21V) on the VCE axis\n",
      "Maximum IC =  ICQ + VCEQ/R_a.c. = 1.50 mA\n",
      "This locates the point C(OC = 3.5mA) on the IC axis. By joining points C and D a.c. load line CD is constructed. \n"
     ]
    },
    {
     "data": {
      "image/png": "[encoded data removed]",
      "text/plain": [
       "<matplotlib.figure.Figure at 0x7f1e72637b90>"
      ]
     },
     "metadata": {},
     "output_type": "display_data"
    }
   ],
   "source": [
    "%matplotlib inline\n",
    "from matplotlib.pyplot import plot,title,xlabel,ylabel,show,legend\n",
    "print \"(i) DC load line:\"\n",
    "print \"Maximum VCE = VCC = 24V\"\n",
    "IC=24/(8*10**3)  #in Ampere\n",
    "x1=IC*10**3  #in mA\n",
    "print \"Maximum  IC = VCC / RC = %0.2f mA\"%x1\n",
    "print \"(ii) For fixing the optimum operating point Q, mark the middle of the d.c. load line AB and the corresponding VCE and IC values can be found\"\n",
    "VCEQ=24./2\n",
    "print \"Here,    VCEQ(V) = VCC / 2 = %0.2f V\"%VCEQ #in volts\n",
    "print \"         ICQ = 1.5 mA\"\n",
    "print \"\"\n",
    "print \"(iii) AC load line\"\n",
    "Rac=(8*24.)/(8+24) #in k-ohm\n",
    "print \"AC load,   R_a.c. = RC || RL = %0.2f kohm\"%Rac\n",
    "VCE=12+((1.5*10**-3)*(6*10**3)) #in Volts\n",
    "print \"Therefore, maximum VCE(V) = VCEQ + ICQ*R_a.c. = %0.2f \"%VCE\n",
    "print \"This locates the point D(OD = 21V) on the VCE axis\"\n",
    "IC=(1.5*10**-3)+(12/(6*10**3))  #in Ampere\n",
    "x3=IC*10**3  #in mA\n",
    "print \"Maximum IC =  ICQ + VCEQ/R_a.c. = %0.2f mA\"%x3\n",
    "print \"This locates the point C(OC = 3.5mA) on the IC axis. By joining points C and D a.c. load line CD is constructed. \"\n",
    "x=[24,0]\n",
    "y=[0,3]\n",
    "plot(x,y)\n",
    "x1=[21,0]\n",
    "y1=[0,3.5]\n",
    "plot(x1,y1)\n",
    "title(\"Fig.6.22(b)\")\n",
    "xlabel(\"VCE(V)\")\n",
    "ylabel(\"IC(mA)\")\n",
    "show()"
   ]
  },
  {
   "cell_type": "markdown",
   "metadata": {},
   "source": [
    "## Page No. 170 Example 6.24."
   ]
  },
  {
   "cell_type": "code",
   "execution_count": 45,
   "metadata": {
    "collapsed": false
   },
   "outputs": [
    {
     "name": "stdout",
     "output_type": "stream",
     "text": [
      "(i) DC load line:\n",
      "Maximum VCE = VCC = 12V, which locates the point B(OB = 12V) of the d.c. load line\n",
      "Maximum  IC = VCC / (RC+RE) = 0.00 mA\n",
      "(ii) Operating point Q\n",
      "Therefore,    V2 = 0.00 V\n",
      "       V2 = VBE + IE*RE\n",
      "Therefore,  IE = V2-VBE / RE = 3.30 mA\n",
      "        IC  = IE =3.30 mA\n",
      "VCE = VCC - IC(RC+RE) = 5.40 V\n",
      "(iii) AC load line\n",
      "AC load,   Ra.c.(k-ohm) = RC || RL = 0.60 kohm\n",
      "Therefore, maximum VCE = VCEQ + ICQ*Ra.c. = 7.38 V\n",
      "Maximum  IC(mA) = ICQ + VCEQ/Ra.c. = 12.30 mA\n"
     ]
    },
    {
     "data": {
      "image/png": "[encoded data removed]",
      "text/plain": [
       "<matplotlib.figure.Figure at 0x7f1e723cb6d0>"
      ]
     },
     "metadata": {},
     "output_type": "display_data"
    }
   ],
   "source": [
    "%matplotlib inline\n",
    "from matplotlib.pyplot import plot,title,xlabel,ylabel,show,legend\n",
    "print \"(i) DC load line:\"\n",
    "print \"Maximum VCE = VCC = 12V, which locates the point B(OB = 12V) of the d.c. load line\"\n",
    "IC=12/(2*10**3)  #in Ampere\n",
    "x1=IC*10**3  #in mA\n",
    "print \"Maximum  IC = VCC / (RC+RE) = %0.2f mA\"%x1\n",
    "\n",
    "print \"(ii) Operating point Q\"\n",
    "V2=((4*10**3)/(12*10**3))*12  #in V\n",
    "print \"Therefore,    V2 = %0.2f V\"%V2\n",
    "print \"       V2 = VBE + IE*RE\"\n",
    "IE=(4-0.7)/(1*10**3)  #in Ampere\n",
    "x2=IE*10**3  #in mA\n",
    "print \"Therefore,  IE = V2-VBE / RE = %0.2f mA\"%x2\n",
    "IC=x2 #in mA\n",
    "print \"        IC  = IE =%0.2f mA\"%IC\n",
    "VCE=12-((3.3*10**-3)*(2*10**3)) #in volts\n",
    "print \"VCE = VCC - IC(RC+RE) = %0.2f V\"%VCE\n",
    "print \"(iii) AC load line\"\n",
    "Rac=1.5/2.5 #in k-ohm\n",
    "print \"AC load,   Ra.c.(k-ohm) = RC || RL = %0.2f kohm\"%Rac\n",
    "VCE=5.4+((3.3*10**-3)*(0.6*10**3)) #in Volts\n",
    "print \"Therefore, maximum VCE = VCEQ + ICQ*Ra.c. = %0.2f V\"%VCE\n",
    "IC=(3.3*10**-3)+(5.4/(0.6*10**3))  #in Ampere\n",
    "x3=IC*10**3  #in mA\n",
    "print \"Maximum  IC(mA) = ICQ + VCEQ/Ra.c. = %0.2f mA\"%x3\n",
    "x=[7.38,0]\n",
    "y=[0,12.3]\n",
    "plot(x,y)\n",
    "x1=[12,0]\n",
    "y1=[0,6]\n",
    "plot(x1,y1)\n",
    "title(\"Fig.6.23(b)\")\n",
    "xlabel(\"VCE(V) -->\")\n",
    "ylabel(\"IC(mA) -->\")\n",
    "show()"
   ]
  },
  {
   "cell_type": "markdown",
   "metadata": {},
   "source": [
    "## Page No. 171 Example 6.25."
   ]
  },
  {
   "cell_type": "code",
   "execution_count": 49,
   "metadata": {
    "collapsed": false
   },
   "outputs": [
    {
     "name": "stdout",
     "output_type": "stream",
     "text": [
      "The collector resistance is, RC = (VCC - VCEQ) / ICQ =4.00 kohm\n",
      "The base current is, IBQ = ICQ / beta =10.00 uA\n",
      "The base resistance is, RB = (VCC - VBE(on)) / IBQ =0.93 Mohm\n"
     ]
    }
   ],
   "source": [
    "ICQ=1*10**-3\n",
    "VCEQ=6.\n",
    "VCC=10.\n",
    "beta=100.\n",
    "VBE=0.7\n",
    "RC=(VCC-VCEQ)/ICQ\n",
    "RC1=RC*10**-3\n",
    "RC2=round(RC1)\n",
    "print \"The collector resistance is, RC = (VCC - VCEQ) / ICQ =%0.2f kohm\"%RC2\n",
    "IBQ=ICQ/beta\n",
    "IBQ1=IBQ*10**6\n",
    "print \"The base current is, IBQ = ICQ / beta =%0.2f uA\"%IBQ1\n",
    "RB=(VCC-VBE)/IBQ\n",
    "RB1=RB*10**-6\n",
    "print \"The base resistance is, RB = (VCC - VBE(on)) / IBQ =%0.2f Mohm\"%RB1"
   ]
  },
  {
   "cell_type": "markdown",
   "metadata": {},
   "source": [
    "## Page No. 171 Example 6.26."
   ]
  },
  {
   "cell_type": "code",
   "execution_count": 50,
   "metadata": {
    "collapsed": false
   },
   "outputs": [
    {
     "name": "stdout",
     "output_type": "stream",
     "text": [
      "VBB = IB*RB + VBE(on) + IE*RE\n",
      "Also,  IE = IB + IC = IB + beta*IB = (1 + beta)*IB\n",
      "The base current,  IB = (VBB - VBE(on)) / (RB + ((1+beta)*RE)) =53.35 uA\n",
      "Therefore,  IC = beta*IB =5.33 mA\n",
      "IE = IC + IB = 5.39 mA\n",
      "VCE = VCC - (IC*RC) - (IE*RE) =4.63 V\n",
      "The Q point is at\n",
      "VCEQ = 4.63 V\n",
      "and ICQ(mA) = 5.33 mA\n"
     ]
    }
   ],
   "source": [
    "beta=100\n",
    "VBE=0.7\n",
    "VCC=10\n",
    "RB=20*10**3\n",
    "RC=0.4*10**3\n",
    "RE=0.6*10**3\n",
    "VBB=5\n",
    "print \"VBB = IB*RB + VBE(on) + IE*RE\"\n",
    "print \"Also,  IE = IB + IC = IB + beta*IB = (1 + beta)*IB\"\n",
    "IB=(VBB-VBE)/(RB+((1+beta)*RE))\n",
    "IB1=IB*10**6\n",
    "print \"The base current,  IB = (VBB - VBE(on)) / (RB + ((1+beta)*RE)) =%0.2f uA\"%IB1\n",
    "IC=beta*IB\n",
    "IC1=IC*10**3\n",
    "print \"Therefore,  IC = beta*IB =%0.2f mA\"%IC1\n",
    "IE=IC+IB\n",
    "IE1=IE*10**3\n",
    "print \"IE = IC + IB = %0.2f mA\"%IE1\n",
    "VCE=VCC-(IC*RC)-(IE*RE)\n",
    "print \"VCE = VCC - (IC*RC) - (IE*RE) =%0.2f V\"%VCE\n",
    "print \"The Q point is at\"\n",
    "print \"VCEQ = %0.2f V\"%VCE\n",
    "print \"and ICQ(mA) = %0.2f mA\"%IC1"
   ]
  },
  {
   "cell_type": "markdown",
   "metadata": {},
   "source": [
    "## Page No. 172 Example 6.27. "
   ]
  },
  {
   "cell_type": "code",
   "execution_count": 54,
   "metadata": {
    "collapsed": false
   },
   "outputs": [
    {
     "name": "stdout",
     "output_type": "stream",
     "text": [
      "(i) DC load line:\n",
      "When  VCE = 0, IC = VCC/RC = 0.00 mA\n",
      "\n",
      "(ii) Operating point Q:\n",
      "Therefore,              IB = VCC-VBE / RB = 10.00 uA\n",
      "Therefore,              IC(mA) = beta*IB = 1.00 mA\n",
      "                           VCE = VCC - IC*RC = 03 V\n",
      "Therefore operating point is VCEQ = 3 V and ICQ = 1 mA\n",
      "\n",
      "(iii) Stability factor:    S = 1 + beta = 1 + 100 = 101\n"
     ]
    },
    {
     "data": {
      "image/png": "[encoded data removed]",
      "text/plain": [
       "<matplotlib.figure.Figure at 0x7f1e72288a10>"
      ]
     },
     "metadata": {},
     "output_type": "display_data"
    }
   ],
   "source": [
    "%matplotlib inline\n",
    "from matplotlib.pyplot import plot,title,xlabel,ylabel,show,legend\n",
    "print \"(i) DC load line:\"\n",
    "IC=6/(3*10**3) #in Ampere\n",
    "x1=IC*10**3  #in mA\n",
    "print \"When  VCE = 0, IC = VCC/RC = %0.2f mA\"%x1\n",
    "print \"\"\n",
    "print \"(ii) Operating point Q:\"\n",
    "IB=(6-0.7)/(530*10**3)\n",
    "x2=IB*10**6\n",
    "print \"Therefore,              IB = VCC-VBE / RB = %0.2f uA\"%x2\n",
    "IC=100*10*10**-6 # in Ampere\n",
    "x3=IC*10**3 # in mA\n",
    "print \"Therefore,              IC(mA) = beta*IB = %0.2f mA\"%x3\n",
    "VCE=6-((1*10**-3)*(3*10**3)) # in volts\n",
    "print \"                           VCE = VCC - IC*RC = %02.f V\"%VCE\n",
    "print \"Therefore operating point is VCEQ = 3 V and ICQ = 1 mA\"\n",
    "print \"\"\n",
    "print \"(iii) Stability factor:    S = 1 + beta = 1 + 100 = 101\"\n",
    "x=[6,0]\n",
    "y=[0,2]\n",
    "plot(x,y)\n",
    "title(\"DC load line\")\n",
    "xlabel(\"VCE (V) --->\")\n",
    "ylabel(\"IC (mA) --->\")\n",
    "show()"
   ]
  },
  {
   "cell_type": "markdown",
   "metadata": {},
   "source": [
    "## Page No. 172 Example 6.28."
   ]
  },
  {
   "cell_type": "code",
   "execution_count": 55,
   "metadata": {
    "collapsed": false
   },
   "outputs": [
    {
     "name": "stdout",
     "output_type": "stream",
     "text": [
      "(a) To determine RB :\n",
      "RC = (VCC - VCE) / IC =5.00 kohm\n",
      "IB = IC / beta = 10.00 uA\n",
      "RB = (VCC - VBE - (IC*RC)) / IB = 630.00 kohm\n",
      "(b) Stability factor, S =(1 + beta) / (1 + (beta*(RC / (RC+RB)))) =56.51\n",
      "(c) VCC = (beta*IB*RC) + (IB*RB) + VBE\n",
      "        = IB * ((beta*RC) + RB) + VBE\n",
      "IB = (VCC-VBE) / ((beta*RC)+RB) =12.84 uA\n",
      "IC = beta*IB =0.64 mA\n",
      "VCE = VCC - (IC*RC) =8.79 V\n",
      "Therefore the coordinates of new operating point are :\n",
      "VCEQ(V) =8.79 V\n",
      "ICQ =0.64 mA\n"
     ]
    }
   ],
   "source": [
    "VCC=12.\n",
    "beta=100.\n",
    "VBE=0.7\n",
    "print \"(a) To determine RB :\"\n",
    "VCE=7\n",
    "IC=1*10**-3\n",
    "RC=(VCC-VCE)/IC\n",
    "RC1=RC*10**-3\n",
    "print \"RC = (VCC - VCE) / IC =%0.2f kohm\"%RC1\n",
    "IB=IC/beta\n",
    "IB1=IB*10**6\n",
    "print \"IB = IC / beta = %0.2f uA\"%IB1\n",
    "RB=(VCC-VBE-(IC*RC))/IB\n",
    "RB1=RB*10**-3\n",
    "print \"RB = (VCC - VBE - (IC*RC)) / IB = %0.2f kohm\"%RB1\n",
    "S=(1+beta)/(1+(beta*(RC/(RC+RB))))\n",
    "print \"(b) Stability factor, S =(1 + beta) / (1 + (beta*(RC / (RC+RB)))) =%0.2f\"%S\n",
    "beta1=50\n",
    "print \"(c) VCC = (beta*IB*RC) + (IB*RB) + VBE\"\n",
    "print \"        = IB * ((beta*RC) + RB) + VBE\"\n",
    "IB=(VCC-VBE)/((beta1*RC)+RB)\n",
    "IB1=IB*10**6\n",
    "print \"IB = (VCC-VBE) / ((beta*RC)+RB) =%0.2f uA\"%IB1\n",
    "IC=beta1*IB\n",
    "IC1=IC*10**3\n",
    "print \"IC = beta*IB =%0.2f mA\"%IC1\n",
    "VCE=VCC-(IC*RC)\n",
    "print \"VCE = VCC - (IC*RC) =%0.2f V\"%VCE\n",
    "print \"Therefore the coordinates of new operating point are :\"\n",
    "print \"VCEQ(V) =%0.2f V\"%VCE\n",
    "print \"ICQ =%0.2f mA\"%IC1"
   ]
  },
  {
   "cell_type": "markdown",
   "metadata": {},
   "source": [
    "## Page No. 173 Example 6.29."
   ]
  },
  {
   "cell_type": "code",
   "execution_count": 56,
   "metadata": {
    "collapsed": false
   },
   "outputs": [
    {
     "name": "stdout",
     "output_type": "stream",
     "text": [
      "RB = VCEQ / IB =32.00 kohm\n",
      "Stability factor, S = (1+beta) / 1 + (beta*(RC/RC+RB)) =56.90\n"
     ]
    }
   ],
   "source": [
    "VCC=12.\n",
    "RC=250.\n",
    "IB=0.25*10**-3\n",
    "beta=100.\n",
    "VCEQ=8.\n",
    "RB=VCEQ/IB\n",
    "RB1=RB*10**-3\n",
    "print \"RB = VCEQ / IB =%0.2f kohm\"%RB1\n",
    "S=(1+beta)/(1+(beta*(RC/(RC+RB))))\n",
    "print \"Stability factor, S = (1+beta) / 1 + (beta*(RC/RC+RB)) =%0.2f\"%S"
   ]
  },
  {
   "cell_type": "markdown",
   "metadata": {},
   "source": [
    "## Page No. 173 Example 6.30."
   ]
  },
  {
   "cell_type": "code",
   "execution_count": 59,
   "metadata": {
    "collapsed": false
   },
   "outputs": [
    {
     "name": "stdout",
     "output_type": "stream",
     "text": [
      "For a germanium transistor, VBE=0.3V. As alpha=0.985\n",
      "beta = alpha / ( 1 - alpha) =66.00\n",
      "(a) To find the coordinates of the operating point\n",
      "Referring to fig. 6.29,\n",
      "Thevenin voltage,     VT = (R2 / (R1+R2)) * VCC =0.00 V\n",
      "Thevenin resistance, RB = (R1 * R2) / (R1 + R2) = 14.74 kohm\n",
      "Therefore,   IC =-0.13 mA\n",
      "Since IB is very small, IC ~ IE = 1.73 mA\n",
      "Therefore,    VCE = VCC - (IC*RC) - (IE*RE) =16.67 V\n",
      "Therefore, the coordinates of the operating point are :\n",
      "IC = -0.13 mA\n",
      "VCE =16.67 V\n",
      "(b) To find the stability factor S\n",
      "S =7.24\n"
     ]
    }
   ],
   "source": [
    "VCC=16\n",
    "RC=3*10**3\n",
    "RE=2*10**3\n",
    "R1=56*10**3\n",
    "R2=20*10**3\n",
    "alpha=0.985\n",
    "VBE=0.3\n",
    "print \"For a germanium transistor, VBE=0.3V. As alpha=0.985\"\n",
    "beta=alpha/(1-alpha)\n",
    "beta1=round(beta)\n",
    "print \"beta = alpha / ( 1 - alpha) =%0.2f\"%beta1\n",
    "print \"(a) To find the coordinates of the operating point\"\n",
    "print \"Referring to fig. 6.29,\"\n",
    "VT=(R2/(R1+R2))*VCC\n",
    "print \"Thevenin voltage,     VT = (R2 / (R1+R2)) * VCC =%0.2f V\"%VT\n",
    "RB=(R1*R2)/(R1+R2)\n",
    "RB1=RB*10**-3\n",
    "print \"Thevenin resistance, RB = (R1 * R2) / (R1 + R2) = %0.2f kohm\"%RB1\n",
    "IC=(VT-VBE)/((RB/beta)+(RE/beta)+RE)\n",
    "IC1=IC*10**3\n",
    "print \"Therefore,   IC =%0.2f mA\"%IC1\n",
    "print \"Since IB is very small, IC ~ IE = 1.73 mA\"\n",
    "IE=IC\n",
    "VCE=VCC-(IC*RC)-(IE*RE)\n",
    "print \"Therefore,    VCE = VCC - (IC*RC) - (IE*RE) =%0.2f V\"%VCE\n",
    "print \"Therefore, the coordinates of the operating point are :\"\n",
    "print \"IC = %0.2f mA\"%IC1\n",
    "print \"VCE =%0.2f V\"%VCE\n",
    "print \"(b) To find the stability factor S\"\n",
    "S = (1+beta)*((1+(RB/RE))/(1+beta+(RB/RE)))\n",
    "print \"S =%0.2f\"%S"
   ]
  },
  {
   "cell_type": "markdown",
   "metadata": {},
   "source": [
    "## Page No. 174 Example 6.31."
   ]
  },
  {
   "cell_type": "code",
   "execution_count": 60,
   "metadata": {
    "collapsed": false
   },
   "outputs": [
    {
     "name": "stdout",
     "output_type": "stream",
     "text": [
      "(a) To determine RE,\n",
      "VCE = VCC - (IC*RC) - (IE*RE)\n",
      "Therefore,  RE = 1.30 kohm\n",
      "(b) To determine R1 and R2,\n",
      "Therefore,  RB(k-ohm) = ((RE*beta) / (((1+beta)/S)-1)) - RE = 5.92 kohm\n",
      "Therefore,    R2 = 6.50 kohm\n",
      "Therefore, R1 = R2 / ((R2/RB)-1)= 64.00 kohm\n"
     ]
    }
   ],
   "source": [
    "VCE=12\n",
    "IC=2*10**-3\n",
    "VCC=24\n",
    "VBE=0.7\n",
    "beta=50\n",
    "RC=4.7*10**3\n",
    "S=5.1\n",
    "print \"(a) To determine RE,\"\n",
    "print \"VCE = VCC - (IC*RC) - (IE*RE)\"\n",
    "RE = (VCC - (IC*RC) - VCE)/IC  #IC=IE\n",
    "RE1=RE*10**-3\n",
    "print \"Therefore,  RE = %0.2f kohm\"%RE1\n",
    "\n",
    "print \"(b) To determine R1 and R2,\"\n",
    "RB=((RE*beta)/(((1+beta)/S)-1))-RE\n",
    "RB1=(RB*10**-3)\n",
    "print \"Therefore,  RB(k-ohm) = ((RE*beta) / (((1+beta)/S)-1)) - RE = %0.2f kohm\"%RB1\n",
    "R2=0.1*beta*RE\n",
    "R2_1=R2*10**-3\n",
    "print \"Therefore,    R2 = %0.2f kohm\"%R2_1\n",
    "R1=(5.9*10**3*R2)/(R2-(5.9*10**3)) #RB=5.9\n",
    "R1_1=round(R1*10**-3)\n",
    "print \"Therefore, R1 = R2 / ((R2/RB)-1)= %0.2f kohm\"%R1_1"
   ]
  },
  {
   "cell_type": "markdown",
   "metadata": {},
   "source": [
    "## Page No. 174 Example 6.32."
   ]
  },
  {
   "cell_type": "code",
   "execution_count": 61,
   "metadata": {
    "collapsed": false
   },
   "outputs": [
    {
     "name": "stdout",
     "output_type": "stream",
     "text": [
      "RTH = R1 || R2 = 10.00 kohm\n",
      "VTH  = (R2 / (R1+R2)) * VCC = 1.79 V\n",
      "IBQ = (VTH-VBE(on)) / (RTH + ((1+beta)*RE)) =15.46 uA\n",
      "Therefore,    ICQ = beta * IBQ =2.32 mA\n",
      "IEQ = IBQ + ICQ = 2.33 mA\n",
      "VCEQ = VCC - (ICQ*RC) - (IEQ*RE) = 4.43 V\n",
      "The Q point is at :\n",
      "VCEQ = 4.43 V\n",
      "ICQ = 2.32 mA\n"
     ]
    }
   ],
   "source": [
    "R1=56*10**3\n",
    "R2=12.2*10**3\n",
    "RC=2*10**3\n",
    "RE=400\n",
    "VCC=10\n",
    "VBE=0.7\n",
    "beta=150\n",
    "RTH=(R1*R2)/(R1+R2)\n",
    "RTH1=round(RTH*10**-3)\n",
    "print \"RTH = R1 || R2 = %0.2f kohm\"%RTH1\n",
    "VTH=(R2/(R1+R2))*VCC\n",
    "print \"VTH  = (R2 / (R1+R2)) * VCC = %0.2f V\"%VTH\n",
    "IBQ=(VTH-VBE)/(RTH+((1+beta)*RE))\n",
    "IBQ1=IBQ*10**6\n",
    "print \"IBQ = (VTH-VBE(on)) / (RTH + ((1+beta)*RE)) =%0.2f uA\"%IBQ1\n",
    "ICQ=beta*IBQ\n",
    "ICQ1=ICQ*10**3\n",
    "print \"Therefore,    ICQ = beta * IBQ =%0.2f mA\"%ICQ1\n",
    "IEQ=IBQ+ICQ\n",
    "IEQ1=IEQ*10**3\n",
    "print \"IEQ = IBQ + ICQ = %0.2f mA\"%IEQ1\n",
    "VCEQ=VCC-(ICQ*RC)-(IEQ*RE)\n",
    "print \"VCEQ = VCC - (ICQ*RC) - (IEQ*RE) = %0.2f V\"%VCEQ\n",
    "print \"The Q point is at :\"\n",
    "print \"VCEQ = %0.2f V\"%VCEQ\n",
    "print \"ICQ = %0.2f mA\"%ICQ1"
   ]
  },
  {
   "cell_type": "markdown",
   "metadata": {},
   "source": [
    "## Page No. 174 Example 6.33. "
   ]
  },
  {
   "cell_type": "code",
   "execution_count": 64,
   "metadata": {
    "collapsed": false
   },
   "outputs": [
    {
     "name": "stdout",
     "output_type": "stream",
     "text": [
      "IB = 128.90 uA\n",
      "IC = 7.73 mA \n",
      "VCE = 5.75 V\n",
      "To find stability factor, (S):\n",
      "Stability factor for voltage divider bias is\n",
      "S =(1+beta)/(1+(beta*(RE/(RE+RB)))) =        where RB = R1 || R2 = 61\n"
     ]
    }
   ],
   "source": [
    "VCC=22\n",
    "RC=2*10**3\n",
    "beta=60\n",
    "VBE=0.6\n",
    "R1=100*10**3\n",
    "R2=5*10**3\n",
    "RE=100\n",
    "a=VCC-VBE-((R1*VCC)/(R1+R2))\n",
    "c=(((R1*R2)/(R1+R2))+((1+beta)*RE))\n",
    "IB=a/c\n",
    "IB1=IB*10**6\n",
    "print \"IB = %0.2f uA\"%IB1\n",
    "IC=beta*IB\n",
    "IC1=IC*10**3\n",
    "print \"IC = %0.2f mA \"%IC1\n",
    "VCE = VCC - (IC*RC) - ((1+beta)*IB*RE)\n",
    "print \"VCE = %0.2f V\"%VCE\n",
    "print \"To find stability factor, (S):\"\n",
    "print \"Stability factor for voltage divider bias is\"\n",
    "RB=(R1*R2)/(R1+R2)\n",
    "S=(1+beta)/(1+(beta*(RE/(RE+RB))))\n",
    "print \"S =(1+beta)/(1+(beta*(RE/(RE+RB)))) =        where RB = R1 || R2 = %0.f\"%S"
   ]
  },
  {
   "cell_type": "markdown",
   "metadata": {},
   "source": [
    "## Page No. 175 Example 6.34."
   ]
  },
  {
   "cell_type": "code",
   "execution_count": 68,
   "metadata": {
    "collapsed": false
   },
   "outputs": [
    {
     "name": "stdout",
     "output_type": "stream",
     "text": [
      "IB = 46.50 uA\n",
      "Hence, IC = beta * IB =2.33 mA\n",
      "VCE = VCC - IC*RC = 5.35 V\n",
      "Therefore,the co-ordinates of the new operating point are:\n",
      "VCEQ = 5.35 V\n",
      "ICQ = 2.33 mA\n",
      "To find the stability factor S\n",
      "S = (1+beta) / (1 + (beta*[RC/(RC+RB)])) =51.00\n"
     ]
    }
   ],
   "source": [
    "VCC=10\n",
    "RC=2*10**3\n",
    "beta=50\n",
    "RB=100*10**3\n",
    "VBE=0.7  #collector to base resistor\n",
    "IB=(VCC-VBE)/(RB+(beta*RC))\n",
    "IB1=IB*10**6\n",
    "print \"IB = %0.2f uA\"%IB1\n",
    "IC=beta*IB\n",
    "IC1=IC*10**3\n",
    "print \"Hence, IC = beta * IB =%0.2f mA\"%IC1\n",
    "VCE=VCC-(IC*RC)\n",
    "print \"VCE = VCC - IC*RC = %0.2f V\"%VCE\n",
    "print \"Therefore,the co-ordinates of the new operating point are:\"\n",
    "print \"VCEQ = %0.2f V\"%VCE\n",
    "print \"ICQ = %0.2f mA\"%IC1\n",
    "print \"To find the stability factor S\"\n",
    "S=(1+beta)/(1+(beta*(RC/(RC+RB))))\n",
    "print \"S = (1+beta) / (1 + (beta*[RC/(RC+RB)])) =%0.2f\"%S"
   ]
  }
 ],
 "metadata": {
  "kernelspec": {
   "display_name": "Python 2",
   "language": "python",
   "name": "python2"
  },
  "language_info": {
   "codemirror_mode": {
    "name": "ipython",
    "version": 2
   },
   "file_extension": ".py",
   "mimetype": "text/x-python",
   "name": "python",
   "nbconvert_exporter": "python",
   "pygments_lexer": "ipython2",
   "version": "2.7.9"
  }
 },
 "nbformat": 4,
 "nbformat_minor": 0
}
