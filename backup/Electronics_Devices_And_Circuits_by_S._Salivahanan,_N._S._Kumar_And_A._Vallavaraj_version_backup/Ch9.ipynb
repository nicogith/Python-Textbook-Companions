{
 "cells": [
  {
   "cell_type": "markdown",
   "metadata": {},
   "source": [
    "# Ch-9 : Midband Analysis of Small Signal Amplifiers"
   ]
  },
  {
   "cell_type": "markdown",
   "metadata": {},
   "source": [
    "## Page No. 221 Example 9.1."
   ]
  },
  {
   "cell_type": "code",
   "execution_count": 1,
   "metadata": {
    "collapsed": false
   },
   "outputs": [
    {
     "name": "stdout",
     "output_type": "stream",
     "text": [
      "  Exact analysis :\n",
      "Current gain,  AI = -hfe / 1+hoe*RL = -48.78\n",
      "Input resistance,  Ri = hie - (hfe*hre / hoe+(1/RL)) = 600.00 ohm\n",
      "Voltage gain,    Av = AI*(RL/Ri) = -49.26 \n",
      "      Yo = hoe - (hfe*hre / hie+Rs) = 0.00 mho\n",
      "      Ro(k-ohm) = 1/Yo = 51.43 kohm\n",
      "  Approximate analysis\n",
      "        AI = -hfe = -50\n",
      "        Ri = hie = 1 k-ohm\n",
      "        Av = - hfe*RL / hie = -50.00\n",
      "        Ro = infinity\n"
     ]
    }
   ],
   "source": [
    "print \"  Exact analysis :\"\n",
    "AI=(-50)/(1+((25*10**-6)*(10**3)))\n",
    "print \"Current gain,  AI = -hfe / 1+hoe*RL = %0.2f\"%AI\n",
    "Ri=1000-((50*2*10**-4)/((25*10**-6)+(1/1000)))  #in ohm\n",
    "print \"Input resistance,  Ri = hie - (hfe*hre / hoe+(1/RL)) = %0.2f ohm\"%Ri\n",
    "Av=(-48.78)*(1000/990.24)\n",
    "print \"Voltage gain,    Av = AI*(RL/Ri) = %0.2f \"%Av\n",
    "Yo=(25*10**-6)-((100*10**-4)/(1000+800))  #in mho\n",
    "print \"      Yo = hoe - (hfe*hre / hie+Rs) = %0.2f mho\"%Yo\n",
    "Ro=1/Yo #in ohm\n",
    "x1=Ro*10**-3\n",
    "print \"      Ro(k-ohm) = 1/Yo = %0.2f kohm\"%x1\n",
    "print \"  Approximate analysis\"\n",
    "print \"        AI = -hfe = -50\"\n",
    "print \"        Ri = hie = 1 k-ohm\"\n",
    "Av=-(50.*1000)/1000\n",
    "print \"        Av = - hfe*RL / hie = %0.2f\"%Av\n",
    "print \"        Ro = infinity\""
   ]
  },
  {
   "cell_type": "markdown",
   "metadata": {},
   "source": [
    "## Page No. 223 Example 9.2."
   ]
  },
  {
   "cell_type": "code",
   "execution_count": 1,
   "metadata": {
    "collapsed": false
   },
   "outputs": [
    {
     "name": "stdout",
     "output_type": "stream",
     "text": [
      "(i) For RE = 200 ohm,\n",
      "      hoe*(RE + RC) = 0.05 \n",
      "Since hoe*(RE+RC) < 0.1, the approximate model is permissible.\n",
      "      AI = -hfe = -55\n",
      "      Ri = hie + (1+hfe)*RE = 12.50 kohm\n",
      "      Av = AI * (RC/Ri) = 0.00 \n",
      "Output resistance, Ro = infinity\n",
      "Output terminal resistance, RoT = Ro || RC = 2 k-ohm\n",
      "(ii) For RE = 400 ohm\n",
      "      hoe*(RE + RC) = 0.05 \n",
      "Since hoe*(RE+RC) < 0.1, the approximate model is permissible.\n",
      "      AI = -hfe = -55\n",
      "      Ri(k-ohm) = hie + (1+hfe)*RE = 23.70 kohm\n",
      "      Av = AI * (RC/Ri) = -4.64\n",
      "Output resistance, Ro = infinity\n",
      "Output terminal resistance, RoT = Ro || RC = 2 k-ohm\n",
      "(iii) For RE = 1000 ohm\n",
      "Since hoe*(RE+RC) < 0.1, the approximate model is permissible.\n",
      "      AI = -hfe = -55\n",
      "      Ri(k-ohm) = hie + (1+hfe)*RE = 57.30 kohm\n",
      "      Av = AI * (RC/Ri) = 0.00 \n",
      "Output resistance, Ro = infinity\n",
      "Output terminal resistance, RoT = Ro || RC = 2 k-ohm\n"
     ]
    }
   ],
   "source": [
    "RC=2*10**3\n",
    "hie=1300\n",
    "hre=2*10**-4\n",
    "hfe=55\n",
    "hoe=22*10**-6\n",
    "print \"(i) For RE = 200 ohm,\"\n",
    "RE=200\n",
    "x=hoe*(RE+RC)\n",
    "print \"      hoe*(RE + RC) = %0.2f \"%x\n",
    "print \"Since hoe*(RE+RC) < 0.1, the approximate model is permissible.\"\n",
    "AI=-hfe\n",
    "print \"      AI = -hfe = -55\"\n",
    "Ri=hie+((1+hfe)*RE)\n",
    "x1=Ri*10**-3\n",
    "print \"      Ri = hie + (1+hfe)*RE = %0.2f kohm\"%x1\n",
    "Av=AI*(RC/Ri)\n",
    "print \"      Av = AI * (RC/Ri) = %0.2f \"%Av\n",
    "print \"Output resistance, Ro = infinity\"\n",
    "print \"Output terminal resistance, RoT = Ro || RC = 2 k-ohm\"\n",
    "print \"(ii) For RE = 400 ohm\"\n",
    "RE=400.\n",
    "x2=hoe*(RE+RC)\n",
    "print \"      hoe*(RE + RC) = %0.2f \"%x2\n",
    "print \"Since hoe*(RE+RC) < 0.1, the approximate model is permissible.\"\n",
    "AI=-hfe\n",
    "print \"      AI = -hfe = -55\"\n",
    "Ri=hie+((1+hfe)*RE)\n",
    "x3=Ri*10**-3\n",
    "print \"      Ri(k-ohm) = hie + (1+hfe)*RE = %0.2f kohm\"%x3\n",
    "Av=AI*(RC/Ri)\n",
    "print \"      Av = AI * (RC/Ri) = %0.2f\"%Av\n",
    "print \"Output resistance, Ro = infinity\"\n",
    "print \"Output terminal resistance, RoT = Ro || RC = 2 k-ohm\"\n",
    "print \"(iii) For RE = 1000 ohm\"\n",
    "print \"Since hoe*(RE+RC) < 0.1, the approximate model is permissible.\"\n",
    "AI=-hfe\n",
    "print \"      AI = -hfe = -55\"\n",
    "Ri=1300+((1+55)*1000)\n",
    "x3=Ri*10**-3\n",
    "print \"      Ri(k-ohm) = hie + (1+hfe)*RE = %0.2f kohm\"%x3\n",
    "Av=AI*(RC/Ri)\n",
    "print \"      Av = AI * (RC/Ri) = %0.2f \"%Av\n",
    "print \"Output resistance, Ro = infinity\"\n",
    "print \"Output terminal resistance, RoT = Ro || RC = 2 k-ohm\""
   ]
  },
  {
   "cell_type": "markdown",
   "metadata": {},
   "source": [
    "## Page No. 225 Example 9.3."
   ]
  },
  {
   "cell_type": "code",
   "execution_count": 2,
   "metadata": {
    "collapsed": false
   },
   "outputs": [
    {
     "name": "stdout",
     "output_type": "stream",
     "text": [
      "Conversion formulae :\n",
      "      hic = hie = 1200 ohm,\n",
      "      hfc = -(1+hfe) = -61.00 \n",
      "hre = 1, hoc = hoe = 25 uA/V\n",
      "Exact analysis :\n",
      "Current gain,      AI = -hfe / (1 + (hoc*RL)) = 58.10 \n",
      "Input impedance,      Ri(k-ohm) = hic + hrc*AI*RL = 117.39 kohm\n",
      "Voltage gain,      Av = AI*RL / Ri = 0.99 \n",
      "Output resistance, Ro :\n",
      "      Yo = 1/Ro = hoc - (hfc*hrc/hic+Rs) =0.03  mho\n",
      "      Ro  = 34.40 ohm\n",
      "Approximate analysis :\n",
      "Current gain,      AI = 1 + hfe = 61.00 \n",
      "Input impedance,      Ri = hie + (1+hfe)RL = 123.20 kohm\n",
      "Voltage gain,      Av = 1 - hie/Ri = 0.99 \n",
      "Output resistance,      Ro:\n",
      "      Yo(mho) = (1+hfe) / (hie+RS) = 0.03 mho\n",
      "      Ro = 34.43 ohm \n"
     ]
    }
   ],
   "source": [
    "RS=900.\n",
    "RL=2000.\n",
    "hie=1200.\n",
    "hre=2*10**-4\n",
    "hfe=60.\n",
    "hoe=25*10**-6\n",
    "print \"Conversion formulae :\"\n",
    "hic=hie\n",
    "print \"      hic = hie = 1200 ohm,\"\n",
    "hfc=-(1+hfe)\n",
    "print \"      hfc = -(1+hfe) = %0.2f \"%hfc\n",
    "print \"hre = 1, hoc = hoe = 25 uA/V\"\n",
    "hoc=hoe\n",
    "hre=1\n",
    "print \"Exact analysis :\"\n",
    "format(7)\n",
    "AI=-hfc/(1+(hoc*RL))\n",
    "print \"Current gain,      AI = -hfe / (1 + (hoc*RL)) = %0.2f \"%AI\n",
    "Ri=hic + (hre*AI*RL)\n",
    "x1=Ri*10**-3\n",
    "print \"Input impedance,      Ri(k-ohm) = hic + hrc*AI*RL = %0.2f kohm\"%x1\n",
    "Av=(AI*RL)/Ri\n",
    "print \"Voltage gain,      Av = AI*RL / Ri = %0.2f \"%Av\n",
    "Yo=hoc-((hfc*hre)/(hic+RS))\n",
    "print \"Output resistance, Ro :\"\n",
    "print \"      Yo = 1/Ro = hoc - (hfc*hrc/hic+Rs) =%0.2f  mho\"%Yo\n",
    "Ro=1./Yo\n",
    "print \"      Ro  = %0.2f ohm\"%Ro\n",
    "print \"Approximate analysis :\"\n",
    "AI=1+hfe\n",
    "print \"Current gain,      AI = 1 + hfe = %0.2f \"%AI\n",
    "Ri=hie+((1+hfe)*RL)\n",
    "x2=Ri*10**-3\n",
    "print \"Input impedance,      Ri = hie + (1+hfe)RL = %0.2f kohm\"%x2\n",
    "Av=1-(hie/Ri)\n",
    "print \"Voltage gain,      Av = 1 - hie/Ri = %0.2f \"%Av\n",
    "print \"Output resistance,      Ro:\"\n",
    "Yo=(1+hfe)/(hie+RS)\n",
    "print \"      Yo(mho) = (1+hfe) / (hie+RS) = %0.2f mho\"%Yo\n",
    "Ro=1./Yo\n",
    "print \"      Ro = %0.2f ohm \"%Ro"
   ]
  },
  {
   "cell_type": "markdown",
   "metadata": {},
   "source": [
    "## Page No. 228 Example 9.4."
   ]
  },
  {
   "cell_type": "code",
   "execution_count": 3,
   "metadata": {
    "collapsed": false
   },
   "outputs": [
    {
     "name": "stdout",
     "output_type": "stream",
     "text": [
      "Current gain,        AI = -hfc / 1+hoc*RL''\n",
      "where,        RL'' = RE || RL = 0.05 kohm\n",
      "Therefore,  AI = 86.21 \n",
      "Input resistance,        Ri = hic + hrc*AI*RL'' = 691.06 kohm\n",
      "Voltage gain,        Av = AI*RL'' / Ri = 1.00 \n",
      "Output resistance,        Ro = 1 / Yo\n",
      "        Yo = hoc - (hfc*hrc)/(hic+RS'')\n",
      "where,        RS'' = RS || R1 || R2 = 0.91 kohm\n",
      "        Yo = 0.04 \n",
      "        Ro = 22.99 ohm\n",
      "        Ro'' = Ro || RLdash = 22.92 ohm\n"
     ]
    }
   ],
   "source": [
    "hic=1.4*10**3\n",
    "hfc=-100\n",
    "hrc=1\n",
    "hoc=20*10**-6\n",
    "R1=20*10**3\n",
    "RS=1*10**3\n",
    "R2=20*10**3\n",
    "RE=10*10**3\n",
    "RL=40*10**3\n",
    "print \"Current gain,        AI = -hfc / 1+hoc*RL''\"\n",
    "RLd=(RE*RL)/(RE+RL)\n",
    "x1=RLd*10**-3\n",
    "print \"where,        RL'' = RE || RL = %0.2f kohm\"%x\n",
    "AI = -hfc / (1+(hoc*RLd))\n",
    "print \"Therefore,  AI = %0.2f \"%AI \n",
    "Ri=hic+(hrc*AI*RLd)\n",
    "x2=Ri*10**-3\n",
    "print \"Input resistance,        Ri = hic + hrc*AI*RL'' = %0.2f kohm\"%x2\n",
    "Av=(AI*RLd)/Ri\n",
    "print \"Voltage gain,        Av = AI*RL'' / Ri = %0.2f \"%Av\n",
    "print \"Output resistance,        Ro = 1 / Yo\"\n",
    "print \"        Yo = hoc - (hfc*hrc)/(hic+RS'')\"\n",
    "RSd=(RS*R1*R2)/((R1*R2)+(RS*R2)+(RS*R1))\n",
    "x3=RSd*10**-3\n",
    "print \"where,        RS'' = RS || R1 || R2 = %0.2f kohm\"%x3\n",
    "Yo = hoc - ((hfc*hrc)/(hic+RSd))\n",
    "print \"        Yo = %0.2f \"%Yo\n",
    "# answer in textbook is wrong\n",
    "Ro=1/0.0435\n",
    "print \"        Ro = %0.2f ohm\"%Ro\n",
    "Rod=(Ro*RLd)/(Ro+RLd)\n",
    "print \"        Ro'' = Ro || RLdash = %0.2f ohm\"%Rod"
   ]
  },
  {
   "cell_type": "markdown",
   "metadata": {},
   "source": [
    "## Page No. 229 Example 9.5."
   ]
  },
  {
   "cell_type": "code",
   "execution_count": 4,
   "metadata": {
    "collapsed": false
   },
   "outputs": [
    {
     "name": "stdout",
     "output_type": "stream",
     "text": [
      "      Exact analysis\n",
      "Current gain,      AI = -hfb / (1 + hob*RL) = 0.98 \n",
      "Input impedance,      Ri(ohm) = hib + hrb*AI*RL = 22.29 ohm\n",
      "Voltage gain,      Av = AI*RL / Ri = 43.94 \n",
      "Overall current gain,      Avc = Av*Ri / Ri+Rs = 0.80 \n",
      "Overall current gain,      AIS = AI*Rs / Ri+Rs = 0.96 \n",
      "Output admittance,      Yo(u-mho) = hob * (hfb*hrb / hib+Rs) = 0.74 \n",
      "      Ro(M-ohm) = 1 / Yo = 1.35\n",
      "Power gain,      AP = Av*AI = 43.04 \n",
      "Approximate analysis\n",
      "Current gain,      AI = -hfb = 0.98 \n",
      "Input impedance,      Ri = hib = 22.00 ohm\n",
      "Reaaranging this equation,      hfe = -hfb / 1+hfb = 49.00\n",
      "From Table 9.3,      hib = hie / 1+hfe\n",
      "      hie = hib(1+hfe) = 1100.00 ohm\n",
      "      Av = 44.55\n",
      "Output impedance,      Ro = infinity\n",
      "Overall voltage gain,      Avs = Av*Ri / Ri+Rs = 0.80 \n",
      "Overall current gain,      AIS = AI*Rs / Ri+Rs = 0.96 \n",
      "Power gain,      AP = Av*AI = 43.65\n"
     ]
    }
   ],
   "source": [
    "Rs=1200.\n",
    "RL=1000.\n",
    "hib=22.\n",
    "hrb=3*10**-4\n",
    "hfb=-0.98\n",
    "hob=0.5*10**-6\n",
    "print \"      Exact analysis\"\n",
    "AI=-hfb/(1+(hob*RL))\n",
    "print \"Current gain,      AI = -hfb / (1 + hob*RL) = %0.2f \"%AI\n",
    "Ri=hib+(hrb*AI*RL)\n",
    "print \"Input impedance,      Ri(ohm) = hib + hrb*AI*RL = %0.2f ohm\"%Ri\n",
    "Av=(AI*RL)/Ri\n",
    "print \"Voltage gain,      Av = AI*RL / Ri = %0.2f \"%Av\n",
    "Avs=(Av*Ri)/(Ri+Rs)\n",
    "print \"Overall current gain,      Avc = Av*Ri / Ri+Rs = %0.2f \"%Avs\n",
    "AIS=(AI*Rs)/(Ri+Rs)\n",
    "print \"Overall current gain,      AIS = AI*Rs / Ri+Rs = %0.2f \"%AIS\n",
    "Yo=hob-((hfb*hrb)/(hib+Rs))\n",
    "x1=Yo*10**6\n",
    "print \"Output admittance,      Yo(u-mho) = hob * (hfb*hrb / hib+Rs) = %0.2f \"%x1\n",
    "Ro=1/Yo\n",
    "x2=Ro*10**-6\n",
    "print \"      Ro(M-ohm) = 1 / Yo = %0.2f\"%x2\n",
    "AP=Av*AI\n",
    "print \"Power gain,      AP = Av*AI = %0.2f \"%AP\n",
    "print \"Approximate analysis\"\n",
    "AI=-hfb\n",
    "print \"Current gain,      AI = -hfb = %0.2f \"%AI\n",
    "Ri=hib\n",
    "print \"Input impedance,      Ri = hib = %0.2f ohm\"%Ri\n",
    "hfe = -hfb / (1+hfb)\n",
    "print \"Reaaranging this equation,      hfe = -hfb / 1+hfb = %0.2f\"%hfe\n",
    "print \"From Table 9.3,      hib = hie / 1+hfe\"\n",
    "hie=hib*(1+hfe)\n",
    "print \"      hie = hib(1+hfe) = %0.2f ohm\"%hie\n",
    "Av=hfe*RL / hie\n",
    "print \"      Av = %0.2f\"%Av\n",
    "print \"Output impedance,      Ro = infinity\"\n",
    "Avs=(Av*Ri)/(Ri+Rs)\n",
    "print \"Overall voltage gain,      Avs = Av*Ri / Ri+Rs = %0.2f \"%Avs\n",
    "AIS=(AI*Rs)/(Ri+Rs)\n",
    "print \"Overall current gain,      AIS = AI*Rs / Ri+Rs = %0.2f \"%AIS\n",
    "AP=Av*AI\n",
    "print \"Power gain,      AP = Av*AI = %0.2f\"%AP"
   ]
  },
  {
   "cell_type": "markdown",
   "metadata": {},
   "source": [
    "## Page No. 230 Example 9.6."
   ]
  },
  {
   "cell_type": "code",
   "execution_count": 5,
   "metadata": {
    "collapsed": false
   },
   "outputs": [
    {
     "name": "stdout",
     "output_type": "stream",
     "text": [
      "Current gain,      AI = -hfb / 1+hob*RL''\n",
      "where,      RL'' = RC || RL = 6.46 kohm\n",
      "      AI = 0.98 \n",
      "Input impedance Ri :\n",
      "      Ri = hib + hrb*AI*RL'' = 25.83 ohm\n",
      "Voltage gain Av :\n",
      "      Av = (AI*RL'') / Ri = 244.36 \n",
      "Output Resistance Ro :\n",
      "The output admittance\n",
      "      Yo(u-mho) = 1 / Ro = hob - (hfb*hrb / hib+RS'') =       where RS'' = RS || RE = 0.99 u-mho\n",
      "      Ro = 1 / Yo = 1.01 M-ohm \n",
      "      RS'' = Ro || RL'' = 6.42 kohm\n"
     ]
    }
   ],
   "source": [
    "hib=24.\n",
    "hfb=-0.98\n",
    "hob=0.49*10**-6\n",
    "hrb=2.9*10**-4\n",
    "RS=600.\n",
    "RE=6*10**3\n",
    "RC=12*10**3\n",
    "RL=14*10**3\n",
    "print \"Current gain,      AI = -hfb / 1+hob*RL''\"\n",
    "RLd=(RC*RL)/(RC+RL)\n",
    "x1=RLd*10**-3\n",
    "print \"where,      RL'' = RC || RL = %0.2f kohm\"%x1\n",
    "AI=-hfb / (1+hob*RLd)\n",
    "print \"      AI = %0.2f \"%AI\n",
    "print \"Input impedance Ri :\"\n",
    "Ri=hib+(hrb*AI*RLd)\n",
    "print \"      Ri = hib + hrb*AI*RL'' = %0.2f ohm\"%Ri\n",
    "print \"Voltage gain Av :\"\n",
    "Av=(AI*RLd)/Ri\n",
    "print \"      Av = (AI*RL'') / Ri = %0.2f \"%Av\n",
    "print \"Output Resistance Ro :\"\n",
    "print \"The output admittance\"\n",
    "RSd=(RS*RE)/(RS+RE)\n",
    "Yo=hob-((hfb*hrb)/(hib+RSd))\n",
    "x4=Yo*10**6\n",
    "print \"      Yo(u-mho) = 1 / Ro = hob - (hfb*hrb / hib+RS'') =       where RS'' = RS || RE = %0.2f u-mho\"%x4\n",
    "Ro=1./Yo\n",
    "x2=Ro*10**-6\n",
    "print \"      Ro = 1 / Yo = %0.2f M-ohm \"%x2\n",
    "RSd=(Ro*RLd)/(Ro+RLd)\n",
    "x3=RSd*10**-3\n",
    "print \"      RS'' = Ro || RL'' = %0.2f kohm\"%x3"
   ]
  },
  {
   "cell_type": "markdown",
   "metadata": {},
   "source": [
    "## Page No. 232 Example 9.7."
   ]
  },
  {
   "cell_type": "code",
   "execution_count": 6,
   "metadata": {
    "collapsed": false
   },
   "outputs": [
    {
     "name": "stdout",
     "output_type": "stream",
     "text": [
      "From h-parameter model\n",
      "      Zi = hie = 500 ohm\n",
      "      Zo = RC = 5.1 k-ohm\n",
      "      Av = (-hfe*RC) / hie = -612.00 \n",
      "      AI = -hfe = -60\n",
      "From re model\n",
      "      Zi = beta*re      where re = 26mV / Ie\n",
      "From the circuit,      Ib = (VCC - VBE) / RB = 51.82 uA\n",
      "      Ie = Ic = beta*Ib = 3.11 mA\n",
      "      re = 26mV / Ie = 8.37 ohm\n",
      "      Zi = beta*re = 502.20 ohm\n",
      "      Zo = RC = 5.1 k-ohm\n",
      "      Av = -RC / re = -609.00 \n",
      "      AI = -beta = -60\n"
     ]
    }
   ],
   "source": [
    "hfe=60.\n",
    "hie=500.\n",
    "IC=3*10**-3\n",
    "RB=220*10**3\n",
    "RC=5.1*10**3\n",
    "VCC=12.\n",
    "VBE=0.6\n",
    "print \"From h-parameter model\"\n",
    "beta=hfe\n",
    "Zo=RC\n",
    "Av=(-hfe*RC)/hie\n",
    "print \"      Zi = hie = 500 ohm\"\n",
    "print \"      Zo = RC = 5.1 k-ohm\"\n",
    "print \"      Av = (-hfe*RC) / hie = %0.2f \"%Av\n",
    "print \"      AI = -hfe = -60\"\n",
    "print \"From re model\"\n",
    "print \"      Zi = beta*re      where re = 26mV / Ie\"\n",
    "Ib=(VCC - VBE)/RB\n",
    "x1=Ib*10**6\n",
    "print \"From the circuit,      Ib = (VCC - VBE) / RB = %0.2f uA\"%x1\n",
    "Ie=beta*(51.8*10**-6)\n",
    "x2=Ie*10**3\n",
    "print \"      Ie = Ic = beta*Ib = %0.2f mA\"%x2\n",
    "re = (26) / (3.108)\n",
    "print \"      re = 26mV / Ie = %0.2f ohm\"%re\n",
    "Zi = beta*8.37\n",
    "print \"      Zi = beta*re = %0.2f ohm\"%Zi\n",
    "print \"      Zo = RC = 5.1 k-ohm\"\n",
    "Av=int(-RC/re)\n",
    "print \"      Av = -RC / re = %0.2f \"%Av\n",
    "print \"      AI = -beta = -60\""
   ]
  },
  {
   "cell_type": "markdown",
   "metadata": {},
   "source": [
    "## Page No. 233 Example 9.8."
   ]
  },
  {
   "cell_type": "code",
   "execution_count": 7,
   "metadata": {
    "collapsed": false
   },
   "outputs": [
    {
     "name": "stdout",
     "output_type": "stream",
     "text": [
      "h-parameter analysis :\n",
      "Zi = RB || hie\n",
      "      RB = R1 || R2 = 40 k-ohm || 4.7 k-ohm = 4.21 \n",
      "      Zi = 4.2 k-ohm || 3.2 k-ohm = 1.82\n",
      "      Zo = RC = 4 k-ohm\n",
      "      Av = -hfe*RC / hie = -125.00 \n",
      "      AI = -hfe*RB / RB+hie = -56.79 \n",
      "Using r model :\n",
      "To find IB,\n",
      "      VB = R2*VCC / R1+R2 = 1.68 \n",
      "Using Thevenin equivalent for input part,\n",
      "IB = (VB-VBE) / (RB+((1+beta)*RE)) = 8.63 uA\n",
      "      IC = beta*IB = 0.86 mA\n",
      "      IE ~ IC = 0.86 mA\n",
      "30.2325581395       re = 26mV / IE = 30.23 ohm\n",
      "    Zi = RB || beta*re = 1.76 kohm\n",
      " Zo = RC = 4 k-ohm\n",
      "      Av = -RC / re = -132.31\n",
      "      AI = (-beta*RB) / (RB+(beta*re)) = -58.15\n"
     ]
    }
   ],
   "source": [
    "hie=3.2*10**3\n",
    "hfe=100.\n",
    "R1=40*10**3\n",
    "R2=4.7*10**3\n",
    "RC=4*10**3\n",
    "VCC=16.\n",
    "VBE=0.6\n",
    "RE=1.2*10**3\n",
    "beta=100.\n",
    "print \"h-parameter analysis :\"\n",
    "print \"Zi = RB || hie\"\n",
    "RB=(R1*R2)/(R1+R2)\n",
    "x1=RB*10**-3\n",
    "print \"      RB = R1 || R2 = 40 k-ohm || 4.7 k-ohm = %0.2f \"%x1\n",
    "Zi=(RB*hie)/(RB+hie)\n",
    "x2=Zi*10**-3\n",
    "print \"      Zi = 4.2 k-ohm || 3.2 k-ohm = %0.2f\"%x2\n",
    "print \"      Zo = RC = 4 k-ohm\"\n",
    "Av=(-hfe*RC)/hie\n",
    "print \"      Av = -hfe*RC / hie = %0.2f \"%Av\n",
    "AI=(-hfe*RB)/(RB+hie)\n",
    "print \"      AI = -hfe*RB / RB+hie = %0.2f \"%AI\n",
    "print \"Using r model :\"\n",
    "print \"To find IB,\"\n",
    "VB=(R2*VCC)/(R1+R2)\n",
    "print \"      VB = R2*VCC / R1+R2 = %0.2f \"%VB\n",
    "print \"Using Thevenin equivalent for input part,\"\n",
    "IB=1.082/(125.4*10**3)\n",
    "x3=IB*10**6\n",
    "print \"IB = (VB-VBE) / (RB+((1+beta)*RE)) = %0.2f uA\"%x3\n",
    "IC=beta*IB\n",
    "x4=IC*10**3\n",
    "print \"      IC = beta*IB = %0.2f mA\"%x4\n",
    "print \"      IE ~ IC = %0.2f mA\"%x4\n",
    "IE = IC\n",
    "re=(26*10**-3)/(0.86*10**-3)\n",
    "print re,\"      re = 26mV / IE = %0.2f ohm\"%re\n",
    "Zi=(RB*beta*re)/(RB+(beta*re))\n",
    "x5=Zi*10**-3\n",
    "print \"    Zi = RB || beta*re = %0.2f kohm\"%x5\n",
    "print \" Zo = RC = 4 k-ohm\"\n",
    "Av=-RC/re\n",
    "print \"      Av = -RC / re = %0.2f\"%Av\n",
    "AI=(-100*(4.2*10**3))/((4.2*10**3)+(100*30.23))\n",
    "print \"      AI = (-beta*RB) / (RB+(beta*re)) = %0.2f\"%AI"
   ]
  },
  {
   "cell_type": "markdown",
   "metadata": {},
   "source": [
    "## Page No. 235 Example 9.9."
   ]
  },
  {
   "cell_type": "code",
   "execution_count": 8,
   "metadata": {
    "collapsed": false
   },
   "outputs": [
    {
     "name": "stdout",
     "output_type": "stream",
     "text": [
      "      |IE| = VEE-VBE / RE = 1.85 mA\n",
      "      re(ohm) = 26mV / IE = 14.05 ohm\n",
      "      Zi = RE || re = 14.00 ohm\n",
      "      Zo = RC = 3.00 kohm\n",
      "      Av = RC / re = 213.52 \n",
      "      AI = 1\n"
     ]
    }
   ],
   "source": [
    "VBE=0.6\n",
    "VEE=8.\n",
    "VCC=10.\n",
    "RE=4*10**3\n",
    "RC=3*10**3\n",
    "IE=(VEE-VBE)/RE\n",
    "x1=IE*10**3\n",
    "print \"      |IE| = VEE-VBE / RE = %0.2f mA\"%x1\n",
    "re=(26*10**-3)/IE\n",
    "print \"      re(ohm) = 26mV / IE = %0.2f ohm\"%re\n",
    "Zi=(RE*re)/(RE+re)\n",
    "print \"      Zi = RE || re = %0.2f ohm\"%Zi\n",
    "Zo=RC*10**-3\n",
    "print \"      Zo = RC = %0.2f kohm\"%Zo\n",
    "Av=3000/14.05\n",
    "print \"      Av = RC / re = %0.2f \"%Av\n",
    "print \"      AI = 1\""
   ]
  },
  {
   "cell_type": "markdown",
   "metadata": {},
   "source": [
    "## Page No. 238 Example 9.10."
   ]
  },
  {
   "cell_type": "code",
   "execution_count": 9,
   "metadata": {
    "collapsed": false
   },
   "outputs": [
    {
     "name": "stdout",
     "output_type": "stream",
     "text": [
      "We know that IB = VCC-VBE / RB+(1+beta)*RE\n",
      "Therefore,  IB = 85.67 uA\n",
      "IE = (1+beta)*IB = 8.57 mA\n",
      "The dynamic resistance is\n",
      "    re = 3.03 ohm\n",
      "The input impedance of the amplifier is\n",
      "    Zb = (1+beta)(re+RE) =  92.22 k-ohm \n",
      "The input impedance of the amplifier stage is\n",
      "    Zi = RB || Zb = 41.36 kohm\n",
      "The voltage gain of the amplifier is\n",
      "Av = RE / re+RE = 1.00 \n"
     ]
    }
   ],
   "source": [
    "print \"We know that IB = VCC-VBE / RB+(1+beta)*RE\"\n",
    "IB=((15-0.7)/((75*10**3)+(101*910)))*10**6\n",
    "print \"Therefore,  IB = %0.2f uA\"%IB  # in uA\n",
    "print \"IE = (1+beta)*IB = 8.57 mA\"\n",
    "print \"The dynamic resistance is\"\n",
    "re=0.026/(8.57*10**-3)\n",
    "print \"    re = %0.2f ohm\"% re  # in ohm\n",
    "print \"The input impedance of the amplifier is\"\n",
    "zb=(101*(3.03+910))*10**-3  # in k-ohm\n",
    "print \"    Zb = (1+beta)(re+RE) =  %0.2f k-ohm \"%zb\n",
    "print \"The input impedance of the amplifier stage is\"\n",
    "Zi=((75*92.2*10**6)/((75*10**3)+(92.2*10**3)))*10**-3  # in k-ohm\n",
    "print \"    Zi = RB || Zb = %0.2f kohm\"%Zi\n",
    "print \"The voltage gain of the amplifier is\"\n",
    "av=910./(3.03+910)\n",
    "print \"Av = RE / re+RE = %0.2f \"%av"
   ]
  },
  {
   "cell_type": "markdown",
   "metadata": {},
   "source": [
    "## Page No. 240 Example 9.11."
   ]
  },
  {
   "cell_type": "code",
   "execution_count": 10,
   "metadata": {
    "collapsed": false
   },
   "outputs": [
    {
     "name": "stdout",
     "output_type": "stream",
     "text": [
      "From fig.9.55, IB = (VCC-VBE) / (RB + (1+beta)*RE) = 11.58 uA\n",
      "  IE = (1+beta)*IB = 1.17 mA\n",
      "The load resistance of the emitter follower is rL = RE || RL = 49.25 ohm \n",
      "  Zi = RB || (1+beta)(re+rL) = 7.13 kohm\n",
      "  VL / VS = (rL/re+rL)(Zi/Rs+Zi) = 0.59 \n"
     ]
    }
   ],
   "source": [
    "\n",
    "VCC=10.\n",
    "RB=470*10**3\n",
    "RE=3.3*10**3\n",
    "beta=100.\n",
    "RS=1*10**3\n",
    "RL=50.\n",
    "re=22.4\n",
    "VBE=0.7\n",
    "IB = (VCC-VBE) / (RB + ((1+beta)*RE))\n",
    "x1=IB*10**6\n",
    "print \"From fig.9.55, IB = (VCC-VBE) / (RB + (1+beta)*RE) = %0.2f uA\"%x1\n",
    "IE=(1+beta)*IB\n",
    "x2=IE*10**3\n",
    "print \"  IE = (1+beta)*IB = %0.2f mA\"%x2\n",
    "rL=(RE*RL)/(RE+RL)\n",
    "print \"The load resistance of the emitter follower is rL = RE || RL = %0.2f ohm \"%rL                            # answer in textbook is wrong\n",
    "x=(1+beta)*(re+rL)\n",
    "Zi=(RB*x)/(RB+x)\n",
    "x3=Zi*10**-3\n",
    "print \"  Zi = RB || (1+beta)(re+rL) = %0.2f kohm\"%x3\n",
    "y=(50/(22.4+50))*((7.13*10**3)/((1*10**3)+(7.3*10**3)))  # answer in textbook is wrong\n",
    "print \"  VL / VS = (rL/re+rL)(Zi/Rs+Zi) = %0.2f \"%y"
   ]
  },
  {
   "cell_type": "markdown",
   "metadata": {},
   "source": [
    "## Page No. 241 Example 9.12. "
   ]
  },
  {
   "cell_type": "code",
   "execution_count": 11,
   "metadata": {
    "collapsed": false
   },
   "outputs": [
    {
     "name": "stdout",
     "output_type": "stream",
     "text": [
      "We know that,  IE = VEE-VBE / RE\n",
      "Therefore,  IE = 2.65 mA\n",
      "      Zb = re(ohm) = 9.81 ohm\n",
      "      Zi(ohm) = re || RE = 9.76 ohm\n",
      "      Av = RC / re = 101.92 \n",
      "      VL / VS = Av*(re/re+RS)*(RL/RL+RS) = 13.38\n",
      "      VL(in mV (rms)) = Av*VS = 133.75 \n",
      "      iL( in uA (rms)) = VL / RL = 33.44 \n",
      "      iL / iS = alpha*(RS/RS+re)*(RC/RC+RL) = 0.17 \n"
     ]
    }
   ],
   "source": [
    "RS=50.\n",
    "RE=2*10**3\n",
    "Ro=1*10**3\n",
    "RL=4*10**3\n",
    "VEE=6.\n",
    "VBE=0.7\n",
    "RC=1000.\n",
    "VS=10*10**-3\n",
    "IE=(VEE-VBE)/RE\n",
    "x1=IE*10**3\n",
    "print \"We know that,  IE = VEE-VBE / RE\"\n",
    "print \"Therefore,  IE = %0.2f mA\"%x1\n",
    "re=0.026/IE\n",
    "print \"      Zb = re(ohm) = %0.2f ohm\"%re\n",
    "Zi=(re*RE)/(re+RE)\n",
    "print \"      Zi(ohm) = re || RE = %0.2f ohm\"%Zi\n",
    "Av=RC/re\n",
    "print \"      Av = RC / re = %0.2f \"%Av\n",
    "x=Av*(re/(re+RS))*(RL/(RL+RC))\n",
    "print \"      VL / VS = Av*(re/re+RS)*(RL/RL+RS) = %0.2f\"%x\n",
    "VL=x*VS\n",
    "x2=VL*10**3\n",
    "print \"      VL(in mV (rms)) = Av*VS = %0.2f \"%x2\n",
    "iL=VL/RL\n",
    "x3=iL*10**6\n",
    "print \"      iL( in uA (rms)) = VL / RL = %0.2f \"%x3\n",
    "alpha=1.\n",
    "y=alpha*(RS/(RS+re))*(RC/(RC+RL))\n",
    "print \"      iL / iS = alpha*(RS/RS+re)*(RC/RC+RL) = %0.2f \"%y"
   ]
  },
  {
   "cell_type": "markdown",
   "metadata": {},
   "source": [
    "## Page No. 243 Example 9.13."
   ]
  },
  {
   "cell_type": "code",
   "execution_count": 12,
   "metadata": {
    "collapsed": false
   },
   "outputs": [
    {
     "name": "stdout",
     "output_type": "stream",
     "text": [
      "The emitter current of the common base amplifier is\n",
      "      IE = VEE-VBE / RE = 0.00 A\n",
      "      re = 0.026 / IE = 24.14 ohm\n",
      "      Av = RC /re = 497.20 \n",
      "      VL/VS = Av*(re/re+RS)*(RL/RL+RC) = 195.23 \n",
      "      iL/iS = Ai*(RS/RS+re)*(RC/RC+RL) = 0.44\n"
     ]
    }
   ],
   "source": [
    "from __future__ import division\n",
    "RC=12*10**3\n",
    "RL=15*10**3\n",
    "RS=10.\n",
    "RE=22*10**3\n",
    "VEE=24.\n",
    "VBE=0.3\n",
    "print \"The emitter current of the common base amplifier is\"\n",
    "IE=(VEE-VBE)/RE\n",
    "print \"      IE = VEE-VBE / RE = %0.2f A\"%IE\n",
    "re=0.026/IE\n",
    "print \"      re = 0.026 / IE = %0.2f ohm\"%re\n",
    "Av=RC/re\n",
    "print \"      Av = RC /re = %0.2f \"%Av\n",
    "x=497*(24.14/(24.14+10))*((15*10**3)/((12*10**3)+(15*10**3)))\n",
    "print \"      VL/VS = Av*(re/re+RS)*(RL/RL+RC) = %0.2f \"%x\n",
    "Ai=3.413\n",
    "y=Ai*(RS/(RS+re))*(RC/(RC+RL))\n",
    "print \"      iL/iS = Ai*(RS/RS+re)*(RC/RC+RL) = %0.2f\"%y"
   ]
  },
  {
   "cell_type": "markdown",
   "metadata": {},
   "source": [
    "## Page No. 244 Example 9.14."
   ]
  },
  {
   "cell_type": "code",
   "execution_count": 1,
   "metadata": {
    "collapsed": false
   },
   "outputs": [
    {
     "name": "stdout",
     "output_type": "stream",
     "text": [
      "We know that,  IE(mA) = VEE-VBE / RE = 1.77 mA\n",
      "      re = 0.026 / IE = 14.72 ohm\n",
      "      Zi = RE || re = 14.68 ohm\n",
      "      Zo = RC || re = 2.20 kohm\n",
      "      Av = Zo/Zi = RC||rc/RE||re = 149.68 \n",
      "      VL/VS = Av*(Zi/RS+Zi)*(RL/RL+Zo) = 51.94 \n",
      "      VL = Av*VS = 149.68 rms\n"
     ]
    }
   ],
   "source": [
    "rc=1.5*10**6\n",
    "RE=4.7*10**3\n",
    "Ro=2.2*10**3\n",
    "RS=20\n",
    "RL=10*10**3\n",
    "VS=20*10**-3\n",
    "VEE=9\n",
    "VBE=0.7\n",
    "IE=(VEE-VBE)/RE\n",
    "x1=IE*10**3\n",
    "print \"We know that,  IE(mA) = VEE-VBE / RE = %0.2f mA\"%x1\n",
    "re=0.026/IE\n",
    "print \"      re = 0.026 / IE = %0.2f ohm\"%re\n",
    "Zi=(RE*re)/(RE+re)\n",
    "print \"      Zi = RE || re = %0.2f ohm\"%Zi\n",
    "Zo=(Ro*rc)/(Ro+rc)\n",
    "x2=Zo*10**-3\n",
    "print \"      Zo = RC || re = %0.2f kohm\"%x2\n",
    "Av=Zo/Zi\n",
    "print \"      Av = Zo/Zi = RC||rc/RE||re = %0.2f \"%Av\n",
    "x=Av*(Zi/(RS+Zi))*(RL/(RL+Zo))\n",
    "print \"      VL/VS = Av*(Zi/RS+Zi)*(RL/RL+Zo) = %0.2f \"%x\n",
    "y=x*VS\n",
    "print \"      VL = Av*VS = %0.2f rms\"%Av"
   ]
  },
  {
   "cell_type": "markdown",
   "metadata": {},
   "source": [
    "## Page No. 245 Example 9.15."
   ]
  },
  {
   "cell_type": "code",
   "execution_count": 2,
   "metadata": {
    "collapsed": false
   },
   "outputs": [
    {
     "name": "stdout",
     "output_type": "stream",
     "text": [
      "      VB = (R2 / R1+R2)*VCC = 1.48 V\n",
      "      VE = 1.39 - 0.7 = 0.69 V\n",
      "      IE(mA) = VE / RE = 1.01 mA\n",
      "      re = 0.026/IE = 25.62 ohm\n",
      "      Zi = R1 || R2 || beta*(re+RE) = 4.00 kohm\n",
      "The overall voltage gain is VL/VS = (-RC/RE+re)*(Zi/RS+Zi)*(RL/RC+RL) = -3.33 \n",
      "      Zi = R1 || R2 || betare = 1.56 kohm\n",
      "      VL/VS = (-RC/re)*(Zi/RS+Zi)*(RL/RC+RL) = -76.27\n"
     ]
    }
   ],
   "source": [
    "beta=100.\n",
    "VCC=10.\n",
    "R2=4.7*10**3\n",
    "R1=27*10**3\n",
    "RE=680.\n",
    "RC=3.3*10**3\n",
    "RS=600.\n",
    "RL=15*10**3\n",
    "VB=(10*4.7*10**3)/((27*10**3)+(4.7*10**3))\n",
    "print \"      VB = (R2 / R1+R2)*VCC = %0.2f V\"%VB\n",
    "# answer in textbook is wrong\n",
    "VE=1.39-0.7\n",
    "print \"      VE = 1.39 - 0.7 = %0.2f V\"%VE\n",
    "IE=VE/RE\n",
    "x1=IE*10**3\n",
    "print \"      IE(mA) = VE / RE = %0.2f mA\"%x1\n",
    "re=0.026/IE\n",
    "print \"      re = 0.026/IE = %0.2f ohm\"%re\n",
    "x=beta*(re+RE)\n",
    "Zi=(R1*R2*x)/((R2*x)+(R1*x)+(R1+R2))  # answer in textbook is wrong\n",
    "x2=Zi*10**-3\n",
    "print \"      Zi = R1 || R2 || beta*(re+RE) = %0.2f kohm\"%x2\n",
    "y=(-RC/(RE+re))*(Zi/(RS+Zi))*(RL/(RC+RL))\n",
    "print \"The overall voltage gain is VL/VS = (-RC/RE+re)*(Zi/RS+Zi)*(RL/RC+RL) = %0.2f \"%y\n",
    "u=beta*re\n",
    "Zi=(R1*R2*u)/((R2*u)+(R1*u)+(R1*R2))\n",
    "x3=Zi*10**-3\n",
    "print \"      Zi = R1 || R2 || betare = %0.2f kohm\"%x3\n",
    "z=(-RC/re)*(Zi/(RS+Zi))*(RL/(RC+RL))  # answer in textbook is wrong\n",
    "print \"      VL/VS = (-RC/re)*(Zi/RS+Zi)*(RL/RC+RL) = %0.2f\"%z"
   ]
  },
  {
   "cell_type": "markdown",
   "metadata": {},
   "source": [
    "## Page No. 246 Example 9.16."
   ]
  },
  {
   "cell_type": "code",
   "execution_count": 3,
   "metadata": {
    "collapsed": false
   },
   "outputs": [
    {
     "name": "stdout",
     "output_type": "stream",
     "text": [
      "      VB1 = (RB3*VCC)/(RB3+RB2+RB1) = 3.38 V\n",
      "      IE1 = VE1/RE = (VB1-VBE1)/RE = 2.06 mA\n",
      "      re1 = 26mV/IE1 = 12.64 ohm\n",
      "      re2 = 12.64 ohm                (since IE2 = IE1)\n",
      "Voltage gain of the second stage,\n",
      "      Av2 = RC / re2 = 174.11\n",
      "Overall voltage gain,\n",
      "      Av = Av1*Av2 = -174.11\n"
     ]
    }
   ],
   "source": [
    "RB1=7.5*10**3\n",
    "RB2=6.8*10**3\n",
    "RB3=3.3*10**3\n",
    "RE=1.3*10**3\n",
    "RC=2.2*10**3\n",
    "beta1=120.\n",
    "beta2=120.\n",
    "VCC=18.\n",
    "VBE1=0.7\n",
    "VB1=(RB3*VCC)/(RB3+RB2+RB1)\n",
    "print \"      VB1 = (RB3*VCC)/(RB3+RB2+RB1) = %0.2f V\"%VB1\n",
    "IE1=(VB1-VBE1)/RE\n",
    "x1=IE1*10**3\n",
    "print \"      IE1 = VE1/RE = (VB1-VBE1)/RE = %0.2f mA\"%x1\n",
    "re1=(26*10**-3)/IE1\n",
    "print \"      re1 = 26mV/IE1 = %0.2f ohm\"%re1\n",
    "re2=re1\n",
    "print \"      re2 = %0.2f ohm                (since IE2 = IE1)\"%re2\n",
    "print \"Voltage gain of the second stage,\"\n",
    "Av2=RC/re2\n",
    "print \"      Av2 = RC / re2 = %0.2f\"%Av2\n",
    "print \"Overall voltage gain,\"\n",
    "Av1=-1\n",
    "Av=Av1*Av2\n",
    "print \"      Av = Av1*Av2 = %0.2f\"%Av"
   ]
  },
  {
   "cell_type": "markdown",
   "metadata": {},
   "source": [
    "## Page No. 248 Example 9.17. "
   ]
  },
  {
   "cell_type": "code",
   "execution_count": 4,
   "metadata": {
    "collapsed": false
   },
   "outputs": [
    {
     "name": "stdout",
     "output_type": "stream",
     "text": [
      "The voltage gain,\n",
      "      Av = Vo/Vi = -u*RD / RD+rd = -6.25\n",
      "The minus sign indicates a 180 degree phase shift between Vi and Vo\n",
      "Input impedance  Zi(M-ohm) = RG = 10.00 \n",
      "Output impedance  Zo(k-ohm) = RD = 5.00 \n"
     ]
    }
   ],
   "source": [
    "RD=5*10**3\n",
    "RG=10*10**6\n",
    "u=50.\n",
    "rd=35*10**3\n",
    "print \"The voltage gain,\"\n",
    "Av=(-u*RD)/(RD+rd)\n",
    "print \"      Av = Vo/Vi = -u*RD / RD+rd = %0.2f\"%Av\n",
    "print \"The minus sign indicates a 180 degree phase shift between Vi and Vo\"\n",
    "Zi=RG*10**-6\n",
    "print \"Input impedance  Zi(M-ohm) = RG = %0.2f \"%Zi\n",
    "Zo=RD*10**-3\n",
    "print \"Output impedance  Zo(k-ohm) = RD = %0.2f \"%Zo"
   ]
  },
  {
   "cell_type": "markdown",
   "metadata": {},
   "source": [
    "## Page No. 252 Example 9.18."
   ]
  },
  {
   "cell_type": "code",
   "execution_count": 5,
   "metadata": {
    "collapsed": false
   },
   "outputs": [
    {
     "name": "stdout",
     "output_type": "stream",
     "text": [
      "The voltage gain,\n",
      "      Av = Vo/Vi = u*RS / (u+1)*RS+rd = 0.84 \n",
      "Output impedance,  Zo(ohm) = 1/gm || RS = (rd/u) || RS = 595.74 ohm\n"
     ]
    }
   ],
   "source": [
    "RS=4*10**3\n",
    "RG=10*10**6\n",
    "u=50.\n",
    "rd=35*10**3\n",
    "print \"The voltage gain,\"\n",
    "Av=(u*RS)/(((1+u)*RS)+rd)\n",
    "print \"      Av = Vo/Vi = u*RS / (u+1)*RS+rd = %0.2f \"%Av\n",
    "x=rd/u\n",
    "Zo=(x*RS)/(RS+x)\n",
    "print \"Output impedance,  Zo(ohm) = 1/gm || RS = (rd/u) || RS = %0.2f ohm\"%Zo"
   ]
  },
  {
   "cell_type": "markdown",
   "metadata": {},
   "source": [
    "## Page No. 254 Example 9.19."
   ]
  },
  {
   "cell_type": "code",
   "execution_count": 6,
   "metadata": {
    "collapsed": false
   },
   "outputs": [
    {
     "name": "stdout",
     "output_type": "stream",
     "text": [
      "The voltage gain,\n",
      "   Av = Vo/Vi = (gm*rd + 1)*RD / (RD+rd) = 2.76\n",
      "Input impedance,  Zi(k-ohm) = RS || 1/gm = 0.41 k0hm\n",
      "Output impedance,  Zo ~ RD = 2 k-ohm\n"
     ]
    }
   ],
   "source": [
    "RD=2*10**3\n",
    "RS=1*10**3\n",
    "gm=1.43*10**-3\n",
    "rd=35*10**3\n",
    "print \"The voltage gain,\"\n",
    "Av=(((gm*rd)+1)*RD)/(RD+rd)\n",
    "print \"   Av = Vo/Vi = (gm*rd + 1)*RD / (RD+rd) = %0.2f\"%Av\n",
    "x=1./gm\n",
    "Zi=(RS*x)/(RS+x)\n",
    "x1=Zi*10**-3\n",
    "print \"Input impedance,  Zi(k-ohm) = RS || 1/gm = %0.2f k0hm\"%x1\n",
    "print \"Output impedance,  Zo ~ RD = 2 k-ohm\""
   ]
  },
  {
   "cell_type": "markdown",
   "metadata": {},
   "source": [
    "## Page No. 256 Example 9.20."
   ]
  },
  {
   "cell_type": "code",
   "execution_count": 7,
   "metadata": {
    "collapsed": false
   },
   "outputs": [
    {
     "name": "stdout",
     "output_type": "stream",
     "text": [
      "  In the first set,\n",
      "    Vid = Vd(uV) = V1 = V2 = 200.00 uV\n",
      "      Vc(uV) = 1/2(V1+V2) = 0.00\n",
      "  In the second set,\n",
      "    Vd = V1 = V2 = 200.00 uV\n",
      "      Vc = 1/2(V1+V2) = 1000.00 uV\n"
     ]
    }
   ],
   "source": [
    "print \"  In the first set,\"\n",
    "Vid=100-(-100) #in uV\n",
    "print \"    Vid = Vd(uV) = V1 = V2 = %0.2f uV\"%Vid\n",
    "Vc=(1/2)*(100+(-100)) # in uV\n",
    "print \"      Vc(uV) = 1/2(V1+V2) = %0.2f\"%Vc\n",
    "print \"  In the second set,\"\n",
    "Vd=1100-900 # in uV\n",
    "print \"    Vd = V1 = V2 = %0.2f uV\"%Vd\n",
    "Vc=(1./2)*(1100+900)\n",
    "print \"      Vc = 1/2(V1+V2) = %0.2f uV\"%Vc"
   ]
  },
  {
   "cell_type": "markdown",
   "metadata": {},
   "source": [
    "## Page No. 258 Example 9.21."
   ]
  },
  {
   "cell_type": "code",
   "execution_count": 8,
   "metadata": {
    "collapsed": false
   },
   "outputs": [
    {
     "name": "stdout",
     "output_type": "stream",
     "text": [
      "     IE = (VEE - VBE)/2*REE = 110.00 uA\n",
      "    IC = alpha_F*IE = 108.91 uA\n",
      "    IB = IC / beta_F = 1.09 uA\n",
      "    VC = VCC - IC*RC = 7.92 V\n",
      "    VCE = VC - VE = 8.62 V\n",
      "    IE = VEE / 2*REE = 115.38 uA\n"
     ]
    }
   ],
   "source": [
    "VEE=15.\n",
    "VBE=0.7\n",
    "REE=65*10**3\n",
    "IE = (VEE - VBE)/(2*REE)\n",
    "IE1=IE*10**6\n",
    "print \"     IE = (VEE - VBE)/2*REE = %0.2f uA\"%IE1\n",
    "alphaF=100./101.\n",
    "IC=(alphaF*IE)\n",
    "IC1=IC*10**6\n",
    "print \"    IC = alpha_F*IE = %0.2f uA\"%IC1\n",
    "betaF=100.\n",
    "IB=IC/betaF\n",
    "IB1=IB*10**6\n",
    "print \"    IB = IC / beta_F = %0.2f uA\"%IB1\n",
    "VCC=VEE\n",
    "RC=REE\n",
    "VC=VCC-(IC*RC)\n",
    "print \"    VC = VCC - IC*RC = %0.2f V\"%VC\n",
    "VE=-0.7\n",
    "VCE=VC - VE\n",
    "print \"    VCE = VC - VE = %0.2f V\"%VCE\n",
    "IE=(VEE/(2*REE))*10**6\n",
    "print \"    IE = VEE / 2*REE = %0.2f uA\"%IE"
   ]
  },
  {
   "cell_type": "markdown",
   "metadata": {},
   "source": [
    "## Page No. 262 Example 9.22."
   ]
  },
  {
   "cell_type": "code",
   "execution_count": 9,
   "metadata": {
    "collapsed": false
   },
   "outputs": [
    {
     "name": "stdout",
     "output_type": "stream",
     "text": [
      "    IDS = ISS / 2 = 87.50 uA\n",
      "    VGS = VTH + sqrt(ISS/Kn) = 1.24 V\n",
      "    VDS = VDD - (IDS*RD) + VGS = 7.55 V\n",
      "Checking for saturation,\n",
      "     VGS - VTN = 0.24 \n",
      "and VDS >= 0.2. Thus, both transistors in the differential amplifier are baised at Q-point of :\n",
      "87.50\n",
      "7.55\n",
      "    VIC= 7.31 V\n"
     ]
    }
   ],
   "source": [
    "from math import sqrt\n",
    "VDD=12.\n",
    "VSS=VDD\n",
    "ISS=175*10**-6\n",
    "RD=65*10**3\n",
    "Kn=3*10**-3\n",
    "VTN=1.\n",
    "IDS=ISS/2.\n",
    "IDS1=IDS*10**6\n",
    "print \"    IDS = ISS / 2 = %0.2f uA\"%IDS1\n",
    "VGS=VTN+sqrt(ISS/Kn)\n",
    "print \"    VGS = VTH + sqrt(ISS/Kn) = %0.2f V\"%VGS\n",
    "VDS=VDD-(IDS*RD)+VGS\n",
    "print \"    VDS = VDD - (IDS*RD) + VGS = %0.2f V\"%VDS\n",
    "print \"Checking for saturation,\"\n",
    "x=VGS-VTN\n",
    "print \"     VGS - VTN = %0.2f \"%x\n",
    "print \"and VDS >= 0.2. Thus, both transistors in the differential amplifier are baised at Q-point of :\"\n",
    "print \"%0.2f\" %IDS1\n",
    "print \"%0.2f\"%(VDS)\n",
    "VIC = VDD - IDS*RD + VTN\n",
    "print \"    VIC= %0.2f V\"%VIC"
   ]
  },
  {
   "cell_type": "markdown",
   "metadata": {},
   "source": [
    "## Page No. 263 Example 9.23."
   ]
  },
  {
   "cell_type": "code",
   "execution_count": 10,
   "metadata": {
    "collapsed": false
   },
   "outputs": [
    {
     "name": "stdout",
     "output_type": "stream",
     "text": [
      "beta = hfe = 100\n",
      "    IE = (VEE-VBE) / ((2*RE)+(RS/beta)) = 1.01 mA\n",
      "IC ~ IE = 1.009 mA\n",
      "    Therefore       ICQ = 1.01 mA\n",
      "    VCE = VCC + VBE - IC*RC = 12.70 V\n",
      "and      VCEQ = 12.70 V\n",
      "The differential gain is : \n",
      "      Ad = hfe*RC / RS+hie = 135.54 \n",
      "Common mode gain is : \n",
      "    AC = (hfe*Re) / (((2*RE)*(1+hfe)) + RS + hie) = 0.40 \n",
      "CMRR = Ad / AC = 341.72 \n",
      "CMRR = 20log|Ad/AC| = 50.67 dB\n",
      "The output voltage is Vo = Ad*Vd + AC*VC. Here,\n",
      "     Ad [mV(peak-peak)] = VS1 - VS2 = 20.00 \n",
      "Then,      VC [mV(peak-peak)]= (VS1+VS2) / 2 = 50.00 \n",
      "Therefore,      Vo [V(peak-peak)] = 2.73 \n"
     ]
    }
   ],
   "source": [
    "from math import log10\n",
    "VS1=60*10**-3\n",
    "VS2=40*10**-3\n",
    "hie=3.2*10**3\n",
    "hfe=100.\n",
    "VEE=12.\n",
    "VCC=VEE\n",
    "VBE=0.7\n",
    "beta=hfe\n",
    "RE=5.6*10**3\n",
    "RS=120.\n",
    "RC=4.5*10**3\n",
    "Rc=4.5*10**-5\n",
    "IE=(VEE-VBE)/((2*RE)+(RS/beta))\n",
    "IE1=IE*10**3\n",
    "print \"beta = hfe = 100\"\n",
    "print \"    IE = (VEE-VBE) / ((2*RE)+(RS/beta)) = %0.2f mA\"%IE1\n",
    "IC=IE\n",
    "print \"IC ~ IE = 1.009 mA\"\n",
    "print \"    Therefore       ICQ = %0.2f mA\"%IE1\n",
    "VCE=VCC+VBE-(IC*Rc)\n",
    "print \"    VCE = VCC + VBE - IC*RC = %0.2f V\"%VCE\n",
    "# answer in textbook is wrong\n",
    "print \"and      VCEQ = %0.2f V\"%VCE  # answer in textbook is wrong\n",
    "print \"The differential gain is : \"\n",
    "Ad=(hfe*RC)/(RS+hie)\n",
    "print \"      Ad = hfe*RC / RS+hie = %0.2f \"%Ad\n",
    "print \"Common mode gain is : \"\n",
    "AC=(hfe*RC)/(((2*RE)*(1+hfe))+RS+hie)\n",
    "print \"    AC = (hfe*Re) / (((2*RE)*(1+hfe)) + RS + hie) = %0.2f \"%AC\n",
    "CMRR = Ad / AC\n",
    "print \"CMRR = Ad / AC = %0.2f \"%CMRR\n",
    "CMRR1=20*log10(135.54/0.3966)\n",
    "print \"CMRR = 20log|Ad/AC| = %0.2f dB\"%CMRR1\n",
    "print \"The output voltage is Vo = Ad*Vd + AC*VC. Here,\"\n",
    "Vd=VS1-VS2\n",
    "Vd1=Vd*10**3\n",
    "print \"     Ad [mV(peak-peak)] = VS1 - VS2 = %0.2f \"%Vd1\n",
    "VC=(VS1+VS2)/2\n",
    "VC1=VC*10**3\n",
    "print \"Then,      VC [mV(peak-peak)]= (VS1+VS2) / 2 = %0.2f \"%VC1\n",
    "Vo = Ad*Vd + AC*VC\n",
    "print \"Therefore,      Vo [V(peak-peak)] = %0.2f \"%Vo"
   ]
  },
  {
   "cell_type": "markdown",
   "metadata": {},
   "source": [
    "## Page No. 264 Example 9.24."
   ]
  },
  {
   "cell_type": "code",
   "execution_count": 11,
   "metadata": {
    "collapsed": false
   },
   "outputs": [
    {
     "name": "stdout",
     "output_type": "stream",
     "text": [
      "From the circuit 9.90(a),\n",
      "  RL = hoe*(RL || RC) = 0.05 \n",
      "For equivalent circuit refer fig.9.90(b).\n",
      "  Input resistance,    Ri = hie || 100k = 398.41 \n",
      "  Output resistance,    Ro = 50k || 3k || 5k = 1807.23 \n",
      "Therefore,    Vo/Vi = -hfe*Ro / hie = -180.72 \n",
      "    Vi/VS = Ri/(Ri+RS) = 0.28 \n",
      "Hence,    Avs = Vo/VS = (Vo/Vi)*(Vi/VS) = 51.49 \n"
     ]
    }
   ],
   "source": [
    "hie=400.\n",
    "hre=2.1*10**-4\n",
    "hfe=40.\n",
    "hoe=25*10**-6\n",
    "RL=5*10**3\n",
    "RC=3*10**3\n",
    "print \"From the circuit 9.90(a),\"\n",
    "Rth=(RL*RC)/(RL+RC)\n",
    "RLd=hoe*(Rth)\n",
    "print \"  RL = hoe*(RL || RC) = %0.2f \"%RLd\n",
    "print \"For equivalent circuit refer fig.9.90(b).\"\n",
    "Ri=(hie*100*10**3)/(hie+(100*10**3))\n",
    "print \"  Input resistance,    Ri = hie || 100k = %0.2f \"%Ri\n",
    "R1=50.0*10**3\n",
    "Ro=(R1*RC*RL)/((RC*RL)+(R1*RL)+(R1*RC))\n",
    "print \"  Output resistance,    Ro = 50k || 3k || 5k = %0.2f \"%Ro\n",
    "x=(-hfe*Ro)/hie\n",
    "print \"Therefore,    Vo/Vi = -hfe*Ro / hie = %0.2f \"%x\n",
    "RS=1*10**3\n",
    "y=Ri/(Ri+RS)\n",
    "print \"    Vi/VS = Ri/(Ri+RS) = %0.2f \"%y\n",
    "Avs=abs(x*y)\n",
    "print \"Hence,    Avs = Vo/VS = (Vo/Vi)*(Vi/VS) = %0.2f \"%Avs"
   ]
  }
 ],
 "metadata": {
  "kernelspec": {
   "display_name": "Python 2",
   "language": "python",
   "name": "python2"
  },
  "language_info": {
   "codemirror_mode": {
    "name": "ipython",
    "version": 2
   },
   "file_extension": ".py",
   "mimetype": "text/x-python",
   "name": "python",
   "nbconvert_exporter": "python",
   "pygments_lexer": "ipython2",
   "version": "2.7.9"
  }
 },
 "nbformat": 4,
 "nbformat_minor": 0
}
