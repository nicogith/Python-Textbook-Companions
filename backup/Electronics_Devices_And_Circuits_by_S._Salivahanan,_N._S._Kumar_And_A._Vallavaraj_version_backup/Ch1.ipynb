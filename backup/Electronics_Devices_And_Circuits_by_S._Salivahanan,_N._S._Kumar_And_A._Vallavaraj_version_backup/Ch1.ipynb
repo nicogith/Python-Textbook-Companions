{
 "cells": [
  {
   "cell_type": "markdown",
   "metadata": {},
   "source": [
    "# Ch-1 :  Physical properties of elements"
   ]
  },
  {
   "cell_type": "markdown",
   "metadata": {},
   "source": [
    "## Page No.4  Example 1.1."
   ]
  },
  {
   "cell_type": "code",
   "execution_count": 7,
   "metadata": {
    "collapsed": false
   },
   "outputs": [
    {
     "name": "stdout",
     "output_type": "stream",
     "text": [
      "r1=0.53 (A.U)\n",
      "r2=2.12 (meters)\n",
      "r3=4.77 (meters)\n"
     ]
    }
   ],
   "source": [
    "from math import pi\n",
    "epsilon=8.854*10**-12\n",
    "h=6.62*10**-34 #planck's constant\n",
    "m=9.1*10**-31 #mass of electron\n",
    "q=1.6*10**-19 #charge of electron\n",
    "for n in [1]:\n",
    "    r1=(epsilon*(h**2)*(n**2))/(pi*m*(q**2)) #radius of 1st orbit for hydrogen\n",
    "    x1=r1*10**10  # in A.U\n",
    "    print \"r1=%0.2f (A.U)\"%x1\n",
    "\n",
    "for n in [2]:\n",
    "    r2=(epsilon*(h**2)*(n**2))/(pi*m*(q**2)) #radius of 2st orbit for hydrogen\n",
    "    x2=r2*10**10  # in A.U\n",
    "    print \"r2=%0.2f (meters)\"%x2\n",
    "\n",
    "for n in [3]:\n",
    "    r3=(epsilon*(h**2)*(n**2))/(pi*m*(q**2)) #radius of 3st orbit for hydrogen\n",
    "    x3=r3*10**10  # in A.U\n",
    "    print \"r3=%0.2f (meters)\"%x3"
   ]
  },
  {
   "cell_type": "markdown",
   "metadata": {},
   "source": [
    "## Page No. 6 Example 1.2."
   ]
  },
  {
   "cell_type": "code",
   "execution_count": 9,
   "metadata": {
    "collapsed": false
   },
   "outputs": [
    {
     "name": "stdout",
     "output_type": "stream",
     "text": [
      "Wavelenth of the emitted photon is =920.97 (Armstrong)\n"
     ]
    }
   ],
   "source": [
    "E1=-13.6# #energy of 10th state\n",
    "E10=-13.6/10**2# #enery in the ground state\n",
    "lamda=12400/(E10-E1)# #wavelength of emitted photon\n",
    "print \"Wavelenth of the emitted photon is =%0.2f (Armstrong)\"%lamda"
   ]
  },
  {
   "cell_type": "markdown",
   "metadata": {},
   "source": [
    "## Page No. 6 Example 1.3."
   ]
  },
  {
   "cell_type": "code",
   "execution_count": 10,
   "metadata": {
    "collapsed": false
   },
   "outputs": [
    {
     "name": "stdout",
     "output_type": "stream",
     "text": [
      "the wavelength limit = 12400 / Einfinity-E2 =3647.06 (A.U)\n"
     ]
    }
   ],
   "source": [
    "Einfinity=0 #energy of electron at infinite orbit\n",
    "E2=-13.6/2**2 #energy of electron at second orbit\n",
    "wavelength=12400/(Einfinity-E2) #wavelength limit\n",
    "print \"the wavelength limit = 12400 / Einfinity-E2 =%0.2f (A.U)\"%wavelength"
   ]
  }
 ],
 "metadata": {
  "kernelspec": {
   "display_name": "Python 2",
   "language": "python",
   "name": "python2"
  },
  "language_info": {
   "codemirror_mode": {
    "name": "ipython",
    "version": 2
   },
   "file_extension": ".py",
   "mimetype": "text/x-python",
   "name": "python",
   "nbconvert_exporter": "python",
   "pygments_lexer": "ipython2",
   "version": "2.7.9"
  }
 },
 "nbformat": 4,
 "nbformat_minor": 0
}
