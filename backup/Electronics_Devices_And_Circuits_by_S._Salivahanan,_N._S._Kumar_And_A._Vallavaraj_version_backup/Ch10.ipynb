{
 "cells": [
  {
   "cell_type": "markdown",
   "metadata": {},
   "source": [
    "# Ch-10 : Multistage Amplifiers"
   ]
  },
  {
   "cell_type": "markdown",
   "metadata": {},
   "source": [
    "## Page No. 316 Example 10.1."
   ]
  },
  {
   "cell_type": "code",
   "execution_count": 1,
   "metadata": {
    "collapsed": false
   },
   "outputs": [
    {
     "name": "stdout",
     "output_type": "stream",
     "text": [
      "For the second stage ZL = RE2 and the current gain of the second stage is\n",
      "                 AI2 = -Ie2 / Ib2 = -hfc / (hoc*RE2) =55.45\n",
      "For the second stage,\n",
      "          Ri2 = hic + (hrc*AI2*RE2) =223.42 kohm\n",
      "                 AV2 = Vo/V2 = (AI2*Re2) / Ri2 = 0.99 \n",
      "The First Stage :\n",
      "              RL1= RC1 || Ri2 =3.93 kohm\n",
      "Current gain,\n",
      "                 AI1 = -IC1/Ib1 = -hfe/(1+(hoe*RL1)) =-54.63\n",
      "The input impedance of the first stage, which is also the input impedance of the cascaded amplifier is\n",
      "         Ri1 = hie + hre*AI1*RL1 =1.49 kohm\n",
      "The voltage gain of the first stage is\n",
      "                 AV1 = V2/V1 = (AI1*RL1) / Ri1 =-143.83\n",
      "The output admittance of the first transistor Q1\n",
      "           Yo1(uA/V) = hoe - ((hfe*hre) / (hie+RS)) =11.36\n",
      "The output impedance of the first stage\n",
      "          Ro1 = 1 / Yo1 =88.00 kohm\n",
      "The output impedance taking RC1 into account is\n",
      "        Rot1(k-ohm) = Ro1 || RC1 =3.83 kohm\n",
      "The output admittance of the second stage\n",
      "            Yo2 = hoc-((hfc*hrc) / (hic+Rot1)) =0.01 A/V\n",
      "Output impedance,\n",
      "            RO2 = 1 / Yo2 =86.77 ohm\n",
      "Hence,      Ro2(ohm) = (RO2*RE2) / (RO2+RE2) =85.15 ohm\n",
      "         Ib2/Ic1 = -Rc1/ Rc1+Ri2 =-0.02\n",
      "             AI = -AI2*AI1*(Rc1 / Ri2+Rc1) =-53.29\n",
      "            AV = AV2*AV1 =-142.80\n",
      "The overall voltage gain taking the source impedance into account,\n",
      "          AVs = Vo/Vs = Av(Ri1 / Ri1+Rs) =-101.86\n"
     ]
    }
   ],
   "source": [
    "hie=1600.\n",
    "hfe=60.\n",
    "hre=5*10**-4\n",
    "hoe=25*10**-6\n",
    "hic=1600.\n",
    "hfc=-61.\n",
    "hrc=1.\n",
    "hoc=25*10**-6\n",
    "print \"For the second stage ZL = RE2 and the current gain of the second stage is\"\n",
    "RE2=4000.\n",
    "AI2=-hfc/(1+(hoc*RE2))\n",
    "print \"                 AI2 = -Ie2 / Ib2 = -hfc / (hoc*RE2) =%0.2f\"%AI2\n",
    "print \"For the second stage,\"\n",
    "Ri2 = hic + (hrc*AI2*RE2)\n",
    "Ri22=Ri2*10**-3\n",
    "print \"          Ri2 = hic + (hrc*AI2*RE2) =%0.2f kohm\"%Ri22\n",
    "Re2=4000.\n",
    "AV2=(AI2*Re2)/Ri2\n",
    "print \"                 AV2 = Vo/V2 = (AI2*Re2) / Ri2 = %0.2f \"%AV2\n",
    "print \"The First Stage :\"\n",
    "RC1=4000.\n",
    "RL1=(RC1*Ri2)/(RC1+Ri2)\n",
    "RL11=RL1*10**-3\n",
    "print \"              RL1= RC1 || Ri2 =%0.2f kohm\"%RL11\n",
    "print \"Current gain,\"\n",
    "AI1= -hfe/(1+(hoe*RL1))\n",
    "print \"                 AI1 = -IC1/Ib1 = -hfe/(1+(hoe*RL1)) =%0.2f\"%AI1\n",
    "print \"The input impedance of the first stage, which is also the input impedance of the cascaded amplifier is\"\n",
    "Ri1=hie +(hre*AI1*RL1)  # answer in textbook is wrong \n",
    "Ri11=Ri1*10**-3\n",
    "print \"         Ri1 = hie + hre*AI1*RL1 =%0.2f kohm\"%Ri11\n",
    "print \"The voltage gain of the first stage is\"\n",
    "AV1=(AI1*RL1)/Ri1  # answer in textbook is wrong \n",
    "print \"                 AV1 = V2/V1 = (AI1*RL1) / Ri1 =%0.2f\"%AV1\n",
    "print \"The output admittance of the first transistor Q1\"\n",
    "RS=600.\n",
    "Yo1=hoe-((hfe*hre)/(hie+RS))\n",
    "Yo0=Yo1*10**6\n",
    "print \"           Yo1(uA/V) = hoe - ((hfe*hre) / (hie+RS)) =%0.2f\"%Yo0\n",
    "print \"The output impedance of the first stage\"\n",
    "Ro1=1./Yo1\n",
    "Ro0=Ro1*10**-3\n",
    "print \"          Ro1 = 1 / Yo1 =%0.2f kohm\"%Ro0\n",
    "print \"The output impedance taking RC1 into account is\"\n",
    "Rot1=(Ro1*RC1)/(Ro1+RC1)\n",
    "Rott=Rot1*10**-3\n",
    "print \"        Rot1(k-ohm) = Ro1 || RC1 =%0.2f kohm\"%Rott\n",
    "print \"The output admittance of the second stage\"\n",
    "Yo2=hoc-((hfc*hrc)/(hic+Rot1))\n",
    "print \"            Yo2 = hoc-((hfc*hrc) / (hic+Rot1)) =%0.2f A/V\"%Yo2\n",
    "print \"Output impedance,\"\n",
    "RO2=1/(11.525*10**-3)\n",
    "print \"            RO2 = 1 / Yo2 =%0.2f ohm\"%RO2\n",
    "Ro2=(87.*4000.)/(87+4000)\n",
    "print \"Hence,      Ro2(ohm) = (RO2*RE2) / (RO2+RE2) =%0.2f ohm\"%Ro2\n",
    "Rc1=4000.\n",
    "x=(-Rc1)/ (Rc1+Ri2)\n",
    "print \"         Ib2/Ic1 = -Rc1/ Rc1+Ri2 =%0.2f\"%x\n",
    "AI=-AI2*x*AI1\n",
    "print \"             AI = -AI2*AI1*(Rc1 / Ri2+Rc1) =%0.2f\"%AI\n",
    "AV=AV2*AV1\n",
    "print \"            AV = AV2*AV1 =%0.2f\"%AV  # answer in textbook is wrong\n",
    "print \"The overall voltage gain taking the source impedance into account,\"\n",
    "AVs=AV*(Ri1/(Ri1+RS))\n",
    "print \"          AVs = Vo/Vs = Av(Ri1 / Ri1+Rs) =%0.2f\"%AVs # answer in textbook is wrong"
   ]
  },
  {
   "cell_type": "markdown",
   "metadata": {},
   "source": [
    "## Page No. 325 Example 10.2."
   ]
  },
  {
   "cell_type": "code",
   "execution_count": 3,
   "metadata": {
    "collapsed": false
   },
   "outputs": [
    {
     "name": "stdout",
     "output_type": "stream",
     "text": [
      "Ro = 1/hoe =33.33 kohm\n",
      "RB = R1 || R2 =9.09 kohm\n",
      "Ri = hie =1.20 kohm\n",
      "RC'' = RC || Ro =4.35 kohm\n",
      "Ri'' = RB || Ri =1.06 kohm\n",
      "Rci'' = Rc'' || Ri'' =0.85 kohm\n",
      "rbe = hfe / gm =1000.00 ohm\n",
      "(a) Mid-band current gain,\n",
      "AIm = (-hfe*R''C) / (RC''+Ri'') =-39.91\n",
      "(b) Mid-band voltage gain,\n",
      "AVm = (-hfe) * (Rcid/hie) =-36.25\n",
      "(c) Lower 3dB frequency,\n",
      "fL = 1 / (2*pi*CC*(R_C+R_i)) =4.87 Hz\n",
      "Higher 3dB frequency,\n",
      "fH = 1 / (2*pi*C*rbe) =994.72 kHz\n",
      "(d) Voltage gain x bandwidth\n",
      "|AVmfH| =36.06\n"
     ]
    }
   ],
   "source": [
    "from math import pi\n",
    "hfe=50.\n",
    "hie=1200.\n",
    "hoe=30*10**-6\n",
    "hre=2.5*10**-4\n",
    "RC=5*10**3\n",
    "C=160*10**-12\n",
    "CC=6*10**-6\n",
    "R1=100*10**3\n",
    "R2=10*10**3\n",
    "gm=50*10**-3\n",
    "Ro=1./hoe\n",
    "x1=(Ro*10**-3)\n",
    "print \"Ro = 1/hoe =%0.2f kohm\"%x1\n",
    "RB=(R1*R2)/(R1+R2)\n",
    "x2=RB*10**-3\n",
    "print \"RB = R1 || R2 =%0.2f kohm\"%x2\n",
    "Ri=hie\n",
    "x3=Ri*10**-3\n",
    "print \"Ri = hie =%0.2f kohm\"%x3\n",
    "R_C=(RC*Ro)/(RC+Ro)\n",
    "x4=R_C*10**-3\n",
    "print \"RC'' = RC || Ro =%0.2f kohm\"%x4\n",
    "R_i=(RB*Ri)/(RB+Ri)\n",
    "x6=R_i*10**-3\n",
    "print \"Ri'' = RB || Ri =%0.2f kohm\"%x6\n",
    "R_ci=(R_C*R_i)/(R_C+R_i)\n",
    "x7=R_ci*10**-3\n",
    "print \"Rci'' = Rc'' || Ri'' =%0.2f kohm\"%x7\n",
    "rbe=hfe/gm\n",
    "print \"rbe = hfe / gm =%0.2f ohm\"%rbe\n",
    "print \"(a) Mid-band current gain,\"\n",
    "AIm=(-50*4.35*10**3)/((4.35*10**3)+(1.1*10**3))\n",
    "print \"AIm = (-hfe*R''C) / (RC''+Ri'') =%0.2f\"%AIm\n",
    "print \"(b) Mid-band voltage gain,\"\n",
    "AVm=(-50)*((0.87*10**3)/(1.2*10**3))\n",
    "print \"AVm = (-hfe) * (Rcid/hie) =%0.2f\"%AVm\n",
    "print \"(c) Lower 3dB frequency,\"\n",
    "fL=1./(2*pi*6*10**-6*(5.45*10**3))\n",
    "print \"fL = 1 / (2*pi*CC*(R_C+R_i)) =%0.2f Hz\"%fL\n",
    "print \"Higher 3dB frequency,\"\n",
    "fH=1/(2*pi*C*rbe)\n",
    "x8=fH*10**-3\n",
    "print \"fH = 1 / (2*pi*C*rbe) =%0.2f kHz\"%x8  # answer in textbook is wrong \n",
    "print \"(d) Voltage gain x bandwidth\"\n",
    "y=abs(AVm*fH)\n",
    "x9=(y*10**-6)\n",
    "print \"|AVmfH| =%0.2f\"%x9"
   ]
  }
 ],
 "metadata": {
  "kernelspec": {
   "display_name": "Python 2",
   "language": "python",
   "name": "python2"
  },
  "language_info": {
   "codemirror_mode": {
    "name": "ipython",
    "version": 2
   },
   "file_extension": ".py",
   "mimetype": "text/x-python",
   "name": "python",
   "nbconvert_exporter": "python",
   "pygments_lexer": "ipython2",
   "version": "2.7.9"
  }
 },
 "nbformat": 4,
 "nbformat_minor": 0
}
