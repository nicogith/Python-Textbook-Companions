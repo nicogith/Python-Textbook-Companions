{
 "cells": [
  {
   "cell_type": "markdown",
   "metadata": {},
   "source": [
    "# Ch-12 : Large Signal Amplifiers"
   ]
  },
  {
   "cell_type": "markdown",
   "metadata": {},
   "source": [
    "## Page No. 414 Example 12.1."
   ]
  },
  {
   "cell_type": "code",
   "execution_count": 1,
   "metadata": {
    "collapsed": false
   },
   "outputs": [
    {
     "name": "stdout",
     "output_type": "stream",
     "text": [
      "RL'' = (N1/N2)**2 * RL =1.60 kohm\n"
     ]
    }
   ],
   "source": [
    "RL=16*10**2 #in ohm\n",
    "x1=RL*10**-3 # in k-ohm\n",
    "print \"RL'' = (N1/N2)**2 * RL =%0.2f kohm\"%x1"
   ]
  },
  {
   "cell_type": "markdown",
   "metadata": {},
   "source": [
    "## Page No. 414 Example 12.2."
   ]
  },
  {
   "cell_type": "code",
   "execution_count": 2,
   "metadata": {
    "collapsed": false
   },
   "outputs": [
    {
     "name": "stdout",
     "output_type": "stream",
     "text": [
      "(N1/N2)**2 = RL''/RL =900.00\n",
      "N1/N2 =30.00\n",
      "Hence, N1 : N2 = 30 : 1\n"
     ]
    }
   ],
   "source": [
    "x1=7200./8\n",
    "print \"(N1/N2)**2 = RL''/RL =%0.2f\"%x1\n",
    "x2=x1**0.5\n",
    "print \"N1/N2 =%0.2f\"%x2\n",
    "print \"Hence, N1 : N2 = 30 : 1\""
   ]
  },
  {
   "cell_type": "markdown",
   "metadata": {},
   "source": [
    "## Page No. 415 Example 12.3."
   ]
  },
  {
   "cell_type": "code",
   "execution_count": 5,
   "metadata": {
    "collapsed": false
   },
   "outputs": [
    {
     "name": "stdout",
     "output_type": "stream",
     "text": [
      "(i) Series-fed load\n",
      "Overall efficiency,  eta = 25(Vmax-Vmin / Vmax) =23.33 %\n",
      "(ii) Transformer-coupled load\n",
      "Overall efficiency,  eta = 50*(Vmax-Vmin / Vmax+Vmin) =43.75 %\n"
     ]
    }
   ],
   "source": [
    "print \"(i) Series-fed load\"\n",
    "eta=(25.*14)/15. #in percentage\n",
    "print \"Overall efficiency,  eta = 25(Vmax-Vmin / Vmax) =%0.2f %%\"%eta\n",
    "print \"(ii) Transformer-coupled load\"\n",
    "eta=50.*(14./16) #in percentage\n",
    "print \"Overall efficiency,  eta = 50*(Vmax-Vmin / Vmax+Vmin) =%0.2f %%\"%eta"
   ]
  },
  {
   "cell_type": "markdown",
   "metadata": {},
   "source": [
    "## Page No. 415 Example 12.4."
   ]
  },
  {
   "cell_type": "code",
   "execution_count": 7,
   "metadata": {
    "collapsed": false
   },
   "outputs": [
    {
     "name": "stdout",
     "output_type": "stream",
     "text": [
      "Collector circuity efficiency,\n",
      "    eta = (pi/4)*(1-(VCE/VCC))*100 =68.07 %\n"
     ]
    }
   ],
   "source": [
    "from math import pi\n",
    "VCE=2.\n",
    "VCC=15.\n",
    "eta=(pi/4.)*(1-(VCE/VCC))*100.\n",
    "print \"Collector circuity efficiency,\"\n",
    "print \"    eta = (pi/4)*(1-(VCE/VCC))*100 =%0.2f %%\"%eta"
   ]
  },
  {
   "cell_type": "markdown",
   "metadata": {},
   "source": [
    "## Page No. 416 Example 12.5."
   ]
  },
  {
   "cell_type": "code",
   "execution_count": 8,
   "metadata": {
    "collapsed": false
   },
   "outputs": [
    {
     "name": "stdout",
     "output_type": "stream",
     "text": [
      "We know that,  TJ = TA + theta*PD\n",
      "Therefore,  TJ = 27 degree C + (8 degree C/W)*3W =51.00 degree C\n"
     ]
    }
   ],
   "source": [
    "theta=8.\n",
    "TA=27.\n",
    "PD=3.\n",
    "TJ=TA+(theta*PD)\n",
    "print \"We know that,  TJ = TA + theta*PD\"\n",
    "print \"Therefore,  TJ = 27 degree C + (8 degree C/W)*3W =%0.2f degree C\"%TJ"
   ]
  },
  {
   "cell_type": "markdown",
   "metadata": {},
   "source": [
    "## Page No. 417 Example 12.6."
   ]
  },
  {
   "cell_type": "code",
   "execution_count": 9,
   "metadata": {
    "collapsed": false
   },
   "outputs": [
    {
     "name": "stdout",
     "output_type": "stream",
     "text": [
      "PD = (TJ-TA)/thetaJ-A = (160-40)/80 =1.50 W\n"
     ]
    }
   ],
   "source": [
    "TJ=160.\n",
    "TA=40.\n",
    "theta=80.\n",
    "PD=(TJ-TA)/theta\n",
    "print \"PD = (TJ-TA)/thetaJ-A = (160-40)/80 =%0.2f W\"%PD"
   ]
  },
  {
   "cell_type": "markdown",
   "metadata": {},
   "source": [
    "## Page No. 418 Example 12.7."
   ]
  },
  {
   "cell_type": "code",
   "execution_count": 10,
   "metadata": {
    "collapsed": false
   },
   "outputs": [
    {
     "name": "stdout",
     "output_type": "stream",
     "text": [
      "    theta_J-A = theta_J-C + theta_C-A || theta_HS-A =12.31 degree C/w\n",
      "    PD = TJ-TA / theta_J-A =9.75 W\n"
     ]
    }
   ],
   "source": [
    "thetaH=8.\n",
    "TA=40.\n",
    "TJ=160.\n",
    "thetaJ=5.\n",
    "thetaC=85.\n",
    "x1=(thetaC*thetaH)/(thetaC+thetaH)\n",
    "theta=thetaJ+x1\n",
    "print \"    theta_J-A = theta_J-C + theta_C-A || theta_HS-A =%0.2f degree C/w\"%theta\n",
    "PD=(TJ-TA)/theta\n",
    "print \"    PD = TJ-TA / theta_J-A =%0.2f W\"%PD"
   ]
  }
 ],
 "metadata": {
  "kernelspec": {
   "display_name": "Python 2",
   "language": "python",
   "name": "python2"
  },
  "language_info": {
   "codemirror_mode": {
    "name": "ipython",
    "version": 2
   },
   "file_extension": ".py",
   "mimetype": "text/x-python",
   "name": "python",
   "nbconvert_exporter": "python",
   "pygments_lexer": "ipython2",
   "version": "2.7.9"
  }
 },
 "nbformat": 4,
 "nbformat_minor": 0
}
