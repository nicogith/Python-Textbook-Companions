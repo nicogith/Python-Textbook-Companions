{
 "cells": [
  {
   "cell_type": "markdown",
   "metadata": {},
   "source": [
    "# Ch-21 : Transducers"
   ]
  },
  {
   "cell_type": "markdown",
   "metadata": {},
   "source": [
    "## Page No. 632 Example 21.1."
   ]
  },
  {
   "cell_type": "code",
   "execution_count": 1,
   "metadata": {
    "collapsed": false
   },
   "outputs": [
    {
     "name": "stdout",
     "output_type": "stream",
     "text": [
      "The electron mobility, un = sigma*RH =2000.00 cm**2/V-s\n"
     ]
    }
   ],
   "source": [
    "u=10.*200 # in cm**2/V-s\n",
    "print \"The electron mobility, un = sigma*RH =%0.2f cm**2/V-s\"%u"
   ]
  },
  {
   "cell_type": "markdown",
   "metadata": {},
   "source": [
    "## Page No. 633 Example 21.2."
   ]
  },
  {
   "cell_type": "code",
   "execution_count": 3,
   "metadata": {
    "collapsed": false
   },
   "outputs": [
    {
     "name": "stdout",
     "output_type": "stream",
     "text": [
      "We know that the electron mobilty, un = sigma/nq\n",
      "Therefore, the electron concentration,\n",
      "           n = sigma / uq =1.25e+22 m**-3\n"
     ]
    }
   ],
   "source": [
    "n=10./((50*10**-4)*(1.6*10**-19))  # m**-3\n",
    "print \"We know that the electron mobilty, un = sigma/nq\"\n",
    "print \"Therefore, the electron concentration,\"\n",
    "print \"           n = sigma / uq =%0.2e m**-3\"%n"
   ]
  },
  {
   "cell_type": "markdown",
   "metadata": {},
   "source": [
    "## Page No. 634 Example 21.3."
   ]
  },
  {
   "cell_type": "code",
   "execution_count": 4,
   "metadata": {
    "collapsed": false
   },
   "outputs": [
    {
     "name": "stdout",
     "output_type": "stream",
     "text": [
      "We know that the number of conduction electrons, i.e. electron density,\n",
      "       n = B*I/VH*q*w =5.00e+21 m**3\n"
     ]
    }
   ],
   "source": [
    "n=(1.2*20)/(60*(1.6*10**-19)*(0.5*10**-3)) #  in m**3\n",
    "print \"We know that the number of conduction electrons, i.e. electron density,\"\n",
    "print \"       n = B*I/VH*q*w =%0.2e m**3\"%n"
   ]
  }
 ],
 "metadata": {
  "kernelspec": {
   "display_name": "Python 2",
   "language": "python",
   "name": "python2"
  },
  "language_info": {
   "codemirror_mode": {
    "name": "ipython",
    "version": 2
   },
   "file_extension": ".py",
   "mimetype": "text/x-python",
   "name": "python",
   "nbconvert_exporter": "python",
   "pygments_lexer": "ipython2",
   "version": "2.7.9"
  }
 },
 "nbformat": 4,
 "nbformat_minor": 0
}
