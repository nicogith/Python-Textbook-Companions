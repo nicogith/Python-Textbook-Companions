{
 "metadata": {
  "name": ""
 },
 "nbformat": 3,
 "nbformat_minor": 0,
 "worksheets": [
  {
   "cells": [
    {
     "cell_type": "heading",
     "level": 1,
     "metadata": {},
     "source": [
      "Chapter 1: Structure and Bonding"
     ]
    },
    {
     "cell_type": "heading",
     "level": 2,
     "metadata": {},
     "source": [
      "Problem: 1, Page no: 35"
     ]
    },
    {
     "cell_type": "code",
     "collapsed": false,
     "input": [
      "# Constant\n",
      "c = 3 * 10 ** 10                # Velocity of light, cm/sec\n",
      "\n",
      "# Variable\n",
      "wavelength = 3500 * 10 ** -8    # Wavelength of radiation, cm\n",
      "\n",
      "# Solution\n",
      "print \"v = c / wavelength\"\n",
      "print \"v: Velocity, c: Speed of light\"\n",
      "\n",
      "v = c / wavelength\n",
      "\n",
      "print \"The frequency of radiation is\", '{:.2e}'.format(v), \"Heartz.\""
     ],
     "language": "python",
     "metadata": {},
     "outputs": [
      {
       "output_type": "stream",
       "stream": "stdout",
       "text": [
        "v = c / wavelength\n",
        "v: Velocity, c: Speed of light\n",
        "The frequency of radiation is 8.57e+14 Heartz.\n"
       ]
      }
     ],
     "prompt_number": 6
    },
    {
     "cell_type": "heading",
     "level": 2,
     "metadata": {},
     "source": [
      "Problem: 2, Page no: 36"
     ]
    },
    {
     "cell_type": "code",
     "collapsed": false,
     "input": [
      "# Constant\n",
      "c = 3 * 10 ** 8                 # speed of light, m/sec\n",
      "\n",
      "# Variable\n",
      "f = 5 * 10 ** 16                # frequency, cycles/sec\n",
      "\n",
      "# Solution\n",
      "v_bar = f / c\n",
      "print \"The wave number is\", '{:.2e}'.format(v_bar), \"cycles/m.\"\n"
     ],
     "language": "python",
     "metadata": {},
     "outputs": [
      {
       "output_type": "stream",
       "stream": "stdout",
       "text": [
        "The wave number is 1.67e+08 cycles/m.\n"
       ]
      }
     ],
     "prompt_number": 7
    },
    {
     "cell_type": "heading",
     "level": 2,
     "metadata": {},
     "source": [
      "Problem: 3, Page no: 36"
     ]
    },
    {
     "cell_type": "code",
     "collapsed": false,
     "input": [
      "# Constant\n",
      "c = 3 * 10 ** 8                 # Speed of light, m/sec\n",
      "\n",
      "# Variable\n",
      "T = 2.4 * 10 ** -10             # Time period, sec\n",
      "\n",
      "# Solution\n",
      "f = 1 / T                       # Frequency, /sec\n",
      "lamda = c / f                   # wavelength, m\n",
      "v_bar = 1 / lamda               # wavenumber, /meter\n",
      "\n",
      "print \"Frequency:\", '{:.2e}'.format(f), \"/sec\"\n",
      "print \"Wavelength:\", '{:.2e}'.format(lamda), \"m\"\n",
      "print \"Wave number:\", '{:.2e}'.format(v_bar), \"/m\"\n"
     ],
     "language": "python",
     "metadata": {},
     "outputs": [
      {
       "output_type": "stream",
       "stream": "stdout",
       "text": [
        "Frequency: 4.17e+09 /sec\n",
        "Wavelength: 7.20e-02 m\n",
        "Wave number: 1.39e+01 /m\n"
       ]
      }
     ],
     "prompt_number": 8
    },
    {
     "cell_type": "heading",
     "level": 2,
     "metadata": {},
     "source": [
      "Problem: 4, Page no: 36"
     ]
    },
    {
     "cell_type": "code",
     "collapsed": false,
     "input": [
      "import math\n",
      "\n",
      "# Constants\n",
      "c = 3 * 10 ** 8                 # Speed of light, m/sec\n",
      "m = 9.1 * 10 ** -31             # Mass of electron, kg\n",
      "h = 6.626 * 10 ** -34           # Plank's constant, J.sec\n",
      "\n",
      "# Variable\n",
      "ke = 4.55 * 10 ** -25           # Kinetic Energy, J\n",
      "\n",
      "# Solution\n",
      "v = math.sqrt(ke * 2 / m)\n",
      "\n",
      "lamda = h / (m * v)\n",
      "\n",
      "print \"The de Broglie wavelength is\", '{:.2e}'.format(lamda), \"m\"\n"
     ],
     "language": "python",
     "metadata": {},
     "outputs": [
      {
       "output_type": "stream",
       "stream": "stdout",
       "text": [
        "The de Broglie wavelength is 7.28e-07 m\n"
       ]
      }
     ],
     "prompt_number": 9
    },
    {
     "cell_type": "heading",
     "level": 2,
     "metadata": {},
     "source": [
      "Problem: 5, Page no: 36"
     ]
    },
    {
     "cell_type": "code",
     "collapsed": false,
     "input": [
      "# Constant\n",
      "h = 6.626 * 10 ** -34           # Plank's constant, J.sec\n",
      "\n",
      "# Variables\n",
      "m = 10 * 10 ** -3               # Mass of the ball, kg\n",
      "v = 10 ** 5                     # Velocity of ball, cm / sec\n",
      "\n",
      "# Solution\n",
      "lamda = (h * 10 ** 7) / (m * v)\n",
      "print \"The Wavelength of iron ball is\", \"{:.2}\".format(lamda), \"cm\"\n"
     ],
     "language": "python",
     "metadata": {},
     "outputs": [
      {
       "output_type": "stream",
       "stream": "stdout",
       "text": [
        "The Wavelength of iron ball is 6.6e-30 cm\n"
       ]
      }
     ],
     "prompt_number": 10
    },
    {
     "cell_type": "heading",
     "level": 2,
     "metadata": {},
     "source": [
      "Problem: 6, Page no: 37"
     ]
    },
    {
     "cell_type": "code",
     "collapsed": false,
     "input": [
      "# Constant\n",
      "h = 6.626 * 10 ** -34           # Plank's constant, J.sec\n",
      "\n",
      "# Variable\n",
      "lamda = 2 * 10 ** -10           # wavelength, m\n",
      "\n",
      "# Solution\n",
      "p = h / lamda\n",
      "\n",
      "print \"The momentum of the particle is\", \"{:.2}\".format(p), \"kg.m/s\"\n"
     ],
     "language": "python",
     "metadata": {},
     "outputs": [
      {
       "output_type": "stream",
       "stream": "stdout",
       "text": [
        "The momentum of the particle is 3.3e-24 kg.m/s\n"
       ]
      }
     ],
     "prompt_number": 12
    },
    {
     "cell_type": "heading",
     "level": 2,
     "metadata": {},
     "source": [
      "Problem: 7, Page no: 37"
     ]
    },
    {
     "cell_type": "code",
     "collapsed": false,
     "input": [
      "# Constants\n",
      "m = 9.1 * 10 ** -31             # Mass of electron, kg\n",
      "h = 6.626 * 10 ** -34           # Plank's constant, J.sec\n",
      "pi = 3.141                      # Pi\n",
      "\n",
      "# Variable\n",
      "delta_x = 1 * 10 ** -10         # uncertainty in velocity, m\n",
      "\n",
      "# Solution\n",
      "delta_v = h / (4 * pi * m * delta_x)\n",
      "\n",
      "print \"Uncertainty in position of electron >=\",\n",
      "print \"{:.2}\".format(delta_v), \"m/s\"\n"
     ],
     "language": "python",
     "metadata": {},
     "outputs": [
      {
       "output_type": "stream",
       "stream": "stdout",
       "text": [
        "Uncertainty in position of electron >= 5.8e+05 m/s\n"
       ]
      }
     ],
     "prompt_number": 20
    },
    {
     "cell_type": "heading",
     "level": 2,
     "metadata": {},
     "source": [
      "Problem: 8, Page no: 37"
     ]
    },
    {
     "cell_type": "code",
     "collapsed": false,
     "input": [
      "# Constants\n",
      "h = 6.626 * 10 ** -34           # Plank's constant, J.sec\n",
      "pi = 3.141                      # Pi\n",
      "\n",
      "# Variables\n",
      "m = 10 ** -11                   # Mass of particle, g\n",
      "v = 10 ** -4                    # Velocity of particle, cm/sec\n",
      "delta_v = 0.1 / 100             # Uncertainty in velocity\n",
      "\n",
      "# Solution\n",
      "delta_v = v / 1000\n",
      "delta_x = (h * 10 ** 7) / (4 * pi * delta_v * m)\n",
      "\n",
      "print \"Uncertainty in position >=\",\n",
      "print \"{:.3e}\".format(delta_x), \"cm\"\n"
     ],
     "language": "python",
     "metadata": {},
     "outputs": [
      {
       "output_type": "stream",
       "stream": "stdout",
       "text": [
        "Uncertainty in position 5.27e-10 cm\n"
       ]
      }
     ],
     "prompt_number": 19
    },
    {
     "cell_type": "heading",
     "level": 2,
     "metadata": {},
     "source": [
      "Problem: 9, Page no: 37"
     ]
    },
    {
     "cell_type": "code",
     "collapsed": false,
     "input": [
      "# Constants\n",
      "c = 3 * 10 ** 8                 # Speed of light, m/sec\n",
      "h = 6.626 * 10 ** -34           # Plank's constant, J.sec\n",
      "\n",
      "# Variable\n",
      "lamda = 650 * 10 ** -12         # Wavelength of radiation, m\n",
      "\n",
      "# Solution\n",
      "E = h * c / lamda\n",
      "\n",
      "print \"Energy per photon\", \"{:.3e}\".format(E), \"J\"\n"
     ],
     "language": "python",
     "metadata": {},
     "outputs": [
      {
       "output_type": "stream",
       "stream": "stdout",
       "text": [
        "Energy per photon 3.058e-16 J\n"
       ]
      }
     ],
     "prompt_number": 22
    },
    {
     "cell_type": "heading",
     "level": 2,
     "metadata": {},
     "source": [
      "Problem: 10, Page no: 37"
     ]
    },
    {
     "cell_type": "code",
     "collapsed": false,
     "input": [
      "# Constant\n",
      "h = 6.625 * 10 ** -34           # Plank's constant, J.sec\n",
      "\n",
      "# Variables\n",
      "v = 6.5 * 10 ** 7               # Velocity of particle, m/s\n",
      "lamda = 5 * 10 ** -11           # Wavelength, m\n",
      "\n",
      "# Solution\n",
      "P = h / lamda\n",
      "\n",
      "print \"The momentum of the particle\", \"{:.2e}\".format(P), \"kg.m/s\"\n"
     ],
     "language": "python",
     "metadata": {},
     "outputs": [
      {
       "output_type": "stream",
       "stream": "stdout",
       "text": [
        "The momentum of the particle 1.33e-23 kg.m/s\n"
       ]
      }
     ],
     "prompt_number": 24
    },
    {
     "cell_type": "heading",
     "level": 2,
     "metadata": {},
     "source": [
      "Problem: 11, Page no: 38"
     ]
    },
    {
     "cell_type": "code",
     "collapsed": false,
     "input": [
      "import math\n",
      "\n",
      "# Constants\n",
      "c = 3 * 10 ** 8                 # Speed of light, m/sec\n",
      "m = 9.1 * 10 ** -31             # Mass of electron, kg\n",
      "h = 6.626 * 10 ** -34           # Plank's constant, J.sec\n",
      "\n",
      "# Variables\n",
      "lamda = 200 * 10 ** -7          # Wavelength, cm\n",
      "wf = 6.95 * 10 ** -12           # Work function, erg\n",
      "\n",
      "# Solution\n",
      "E = (h * c) * 10 ** 9 / lamda\n",
      "\n",
      "print \"Energy of photon\", \"{:.3e}\".format(E), \"erg\"\n",
      "\n",
      "ke = E - wf\n",
      "\n",
      "v = math.sqrt((2 * ke) / (m * 10 ** 3)) * 10 ** -2\n",
      "\n",
      "print \"The maximum velocity of electron\", \"{:.3e}\".format(v), \"m/sec\"\n"
     ],
     "language": "python",
     "metadata": {},
     "outputs": [
      {
       "output_type": "stream",
       "stream": "stdout",
       "text": [
        "Energy of photon 9.939e-12 erg\n",
        "The maximum velocity of electron 8.105e+05 m/sec\n"
       ]
      }
     ],
     "prompt_number": 26
    },
    {
     "cell_type": "heading",
     "level": 2,
     "metadata": {},
     "source": [
      "Problem: 12, Page no: 38"
     ]
    },
    {
     "cell_type": "code",
     "collapsed": false,
     "input": [
      "# Constant\n",
      "h = 6.626 * 10 ** -34           # Plank's constant, J.sec\n",
      "\n",
      "# Variables\n",
      "m = 150                         # Weight of ball, gm\n",
      "v = 50                          # Velocity, m/sec\n",
      "\n",
      "lamda = h / (m * v * 10 ** -8)\n",
      "print \"Wavelength of ball\", \"{:.3e}\".format(lamda), \"m\"\n",
      "print \"Its wavelength is so short that it does not fall\",\n",
      "print \"in visible range, so we cannot observe it.\"\n"
     ],
     "language": "python",
     "metadata": {},
     "outputs": [
      {
       "output_type": "stream",
       "stream": "stdout",
       "text": [
        "Wavelength of ball 8.835e-30 m\n",
        "Its wavelength is so short that it does not fall in visible range, so we cannot observe it.\n"
       ]
      }
     ],
     "prompt_number": 34
    },
    {
     "cell_type": "heading",
     "level": 2,
     "metadata": {},
     "source": [
      "Problem: 13, Page no: 39"
     ]
    },
    {
     "cell_type": "code",
     "collapsed": false,
     "input": [
      "# Constant\n",
      "h = 6.626 * 10 ** -34           # Plank's constant, J.sec\n",
      "pi = 3.141                      # Pi\n",
      "\n",
      "# Variables\n",
      "m = 0.1                         # Mass of base ball, kg\n",
      "delta_x = 10 ** -10             # Uncertainty in position, m\n",
      "\n",
      "# Solution\n",
      "delta_v = h / (4 * pi * m * delta_x)\n",
      "\n",
      "print \"Uncertainty in velocity >=\", \"{:.2e}\".format(delta_v), \"m/s\"\n"
     ],
     "language": "python",
     "metadata": {},
     "outputs": [
      {
       "output_type": "stream",
       "stream": "stdout",
       "text": [
        "Uncertainty in velocity >= 5.27e-24 m/s\n"
       ]
      }
     ],
     "prompt_number": 35
    },
    {
     "cell_type": "heading",
     "level": 2,
     "metadata": {},
     "source": [
      "Problem: 14, Page no: 39"
     ]
    },
    {
     "cell_type": "code",
     "collapsed": false,
     "input": [
      "# Constant\n",
      "t_v = 1.3 * 10 ** 15            # Threashold freq. Pt, /sec\n",
      "h = 6.626 * 10 ** -34           # Plank's constant, J.sec\n",
      "\n",
      "\n",
      "# Solution\n",
      "print \"The threshold frequency is the lowest frequency\",\n",
      "print \"that photons may possess to produce the photoelectric\",\n",
      "print \"effect.\"\n",
      "E = h * t_v\n",
      "print \"The energy corresponding to this frequency is the minimum\",\n",
      "print \"energy =\", \"{:.2e}\".format(E), \"erg\"\n"
     ],
     "language": "python",
     "metadata": {},
     "outputs": [
      {
       "output_type": "stream",
       "stream": "stdout",
       "text": [
        "The threshold frequency is the lowest frequency that photons may possess to produce the photoelectric effect.\n",
        "The energy corresponding to this frequency is the minimum energy = 8.61e-19 erg\n"
       ]
      }
     ],
     "prompt_number": 38
    },
    {
     "cell_type": "heading",
     "level": 2,
     "metadata": {},
     "source": [
      "Problem: 15, Page no: 39"
     ]
    },
    {
     "cell_type": "code",
     "collapsed": false,
     "input": [
      "# Constants\n",
      "m = 9.1 * 10 ** -31             # Mass of electron, kg\n",
      "h = 6.626 * 10 ** -34           # Plank's constant, J.sec\n",
      "e = 1.602 * 10 ** -19           # Charge of electron, C\n",
      "\n",
      "# Variable\n",
      "v = 1.87 * 10 ** 9              # Velocity of electron, m/sec\n",
      "\n",
      "# Solution\n",
      "V = m * v ** 2 / (2 * e)\n",
      "lamda = h / (m * v)\n",
      "\n",
      "print \"The voltage is\", \"{:.2e}\".format(V), \"volt\"\n",
      "print \"The de Broglie wavelength is\", \"{:.2e}\".format(lamda), \"m\"\n"
     ],
     "language": "python",
     "metadata": {},
     "outputs": [
      {
       "output_type": "stream",
       "stream": "stdout",
       "text": [
        "The voltage is 9.93e+06 volt\n",
        "The de Broglie wavelength is 3.89e-13 m\n"
       ]
      }
     ],
     "prompt_number": 39
    },
    {
     "cell_type": "heading",
     "level": 2,
     "metadata": {},
     "source": [
      "Problem 16, Page no: 39"
     ]
    },
    {
     "cell_type": "code",
     "collapsed": false,
     "input": [
      "# Constants\n",
      "m = 9.1 * 10 ** -31             # Mass of electron, kg\n",
      "h = 6.626 * 10 ** -34           # Plank's constant, J.sec\n",
      "\n",
      "# Variable\n",
      "lamda = 4.8 * 10 ** -9          # Wavelength of electron, m\n",
      "\n",
      "# Solution\n",
      "ke = ((h / lamda) ** 2) / (2 * m)\n",
      "\n",
      "print \"The Kinetic Energy of moving electron is\", \"{:.2e}\".format(ke),\n",
      "print \"J\"\n"
     ],
     "language": "python",
     "metadata": {},
     "outputs": [
      {
       "output_type": "stream",
       "stream": "stdout",
       "text": [
        "The Kinetic Energy of moving electron is 1.05e-20 J\n"
       ]
      }
     ],
     "prompt_number": 40
    },
    {
     "cell_type": "heading",
     "level": 2,
     "metadata": {},
     "source": [
      "Problem: 17, Page no: 39"
     ]
    },
    {
     "cell_type": "code",
     "collapsed": false,
     "input": [
      "# Constants\n",
      "m = 9.1 * 10 ** -31             # Mass of electron, kg\n",
      "h = 6.626 * 10 ** -34           # Plank's constant, J.sec\n",
      "c = 3 * 10 ** 8                 # Speed of light, m/sec\n",
      "\n",
      "# Variables\n",
      "v = 6.46 * 10 ** 5              # Velocity of electron, m/sec\n",
      "lamda = 200 * 10 ** -9          # Wavelength of light, m\n",
      "\n",
      "# Solution\n",
      "E = (h * c) / lamda\n",
      "ke = m * v ** 2\n",
      "w = E - ke\n",
      "\n",
      "print \"The workfunction of the metal surface is\", \"{:.3e}\".format(w),\n",
      "print \"J\"\n"
     ],
     "language": "python",
     "metadata": {},
     "outputs": [
      {
       "output_type": "stream",
       "stream": "stdout",
       "text": [
        "The workfunction of the metal surface is 6.141e-19 J\n"
       ]
      }
     ],
     "prompt_number": 44
    },
    {
     "cell_type": "heading",
     "level": 2,
     "metadata": {},
     "source": [
      "Problem: 18, Page no: 40"
     ]
    },
    {
     "cell_type": "code",
     "collapsed": false,
     "input": [
      "import math\n",
      "\n",
      "# Constants\n",
      "e = 1.602 * 10 ** -19           # Charge of proton, C\n",
      "m_p = 1.66 * 10 ** -27          # Mass of proton, kg\n",
      "m_e = 9.1 * 10 ** -31           # Mass of electron, kg\n",
      "h = 6.626 * 10 ** -34           # Plank's constant, J.sec\n",
      "\n",
      "# Variable\n",
      "V = 35                          # Acceleration potential, volt\n",
      "\n",
      "# Solution\n",
      "lamda_p = h / math.sqrt(2 * e * V * m_p)\n",
      "lamda_e = h / math.sqrt(2 * e * V * m_e)\n",
      "\n",
      "print \"The wavelength of electron when accelerated with same\",\n",
      "print \"potential is\", \"{:.3e}\".format(lamda_e), \"m\"\n"
     ],
     "language": "python",
     "metadata": {},
     "outputs": [
      {
       "output_type": "stream",
       "stream": "stdout",
       "text": [
        "The wavelength of electron when accelerated with same potential is 2.074e-10 m\n"
       ]
      }
     ],
     "prompt_number": 45
    },
    {
     "cell_type": "heading",
     "level": 2,
     "metadata": {},
     "source": [
      "Problem: 19, Page no: 41"
     ]
    },
    {
     "cell_type": "code",
     "collapsed": false,
     "input": [
      "B_O1 = (10 - 6) / 2              # Bond Order for O2\n",
      "B_O2 = (10 - 7) / 2              # Bond Order for O2-\n",
      "\n",
      "print \"Bond length of O2- > O2 as Bond order of O2\",\n",
      "print \"> Bond order of O2- :\", B_O1 > B_O2\n",
      "print \"Both are paramagnetic, because they contain unpaired electrons.\"\n"
     ],
     "language": "python",
     "metadata": {},
     "outputs": [
      {
       "output_type": "stream",
       "stream": "stdout",
       "text": [
        "Bond length of O2- > O2 as Bond order of O2 > Bond order of O2- : True\n",
        "Both are paramagnetic, because they contain unpaired electrons.\n"
       ]
      }
     ],
     "prompt_number": 51
    },
    {
     "cell_type": "heading",
     "level": 2,
     "metadata": {},
     "source": [
      "Problem: 20, Page no: 41"
     ]
    },
    {
     "cell_type": "code",
     "collapsed": false,
     "input": [
      "B_O = (9 - 4) / 2.0         # Bond order of N2+\n",
      "\n",
      "print \"MO configuration of N2+ is\"\n",
      "print \"\u03c3(1s2)\u03c3*(1s2)\u03c3(2s2)\u03c3*(2s2) [\u03c0(2px2) = \u03c0(2py2)] \u03c3(2pz1)\\n\"\n",
      "print \"The Bond order of N2+, 1/2[Nb - Na] =\", B_O\n"
     ],
     "language": "python",
     "metadata": {},
     "outputs": [
      {
       "output_type": "stream",
       "stream": "stdout",
       "text": [
        "MO configuration of N2+ is\n",
        "\u03c3(1s2)\u03c3*(1s2)\u03c3(2s2)\u03c3*(2s2) [\u03c0(2px2) = \u03c0(2py2)] \u03c3(2pz1)\n",
        "\n",
        "The Bond order of N2+, 1/2[Nb - Na] = 2.5\n"
       ]
      }
     ],
     "prompt_number": 8
    },
    {
     "cell_type": "heading",
     "level": 2,
     "metadata": {},
     "source": [
      "Problem: 21, Page no: 41"
     ]
    },
    {
     "cell_type": "code",
     "collapsed": false,
     "input": [
      "# Solution\n",
      "v_n = 2 * 5             # number of valence e- in nitrogen\n",
      "v_co = 4 + 6            # number of valence e- in CO\n",
      "\n",
      "print \"The number of valence electrons in N2\", v_n\n",
      "print \"The number of valence electrons in CO\", v_co\n"
     ],
     "language": "python",
     "metadata": {},
     "outputs": [
      {
       "output_type": "stream",
       "stream": "stdout",
       "text": [
        "The number of valence electrons in N2 10\n",
        "The number of valence electrons in CO 10\n"
       ]
      }
     ],
     "prompt_number": 55
    },
    {
     "cell_type": "heading",
     "level": 2,
     "metadata": {},
     "source": [
      "Problem: 22, Page no: 41"
     ]
    },
    {
     "cell_type": "code",
     "collapsed": false,
     "input": [
      "print \"O2(+2) [B.O. = 1.0] < O2(-1) [B.O. = 1.5] <\",\n",
      "print \"O2 [B.O. = 2.0] < O2(+1) [B.O. =2.5]\"\n"
     ],
     "language": "python",
     "metadata": {},
     "outputs": [
      {
       "output_type": "stream",
       "stream": "stdout",
       "text": [
        "O2(+2) [B.O. = 1.0] < O2(-1) [B.O. = 1.5] < O2 [B.O. = 2.0] < O2(+1) [B.O. =2.5]\n"
       ]
      }
     ],
     "prompt_number": 2
    },
    {
     "cell_type": "heading",
     "level": 2,
     "metadata": {},
     "source": [
      "Problem: 23, Page no: 41"
     ]
    },
    {
     "cell_type": "code",
     "collapsed": false,
     "input": [
      "print \"The number of electrons in N2-\", (7 + 8)\n",
      "print \"The molecular configuration of N2- is\"\n",
      "print \"\u03c3(1s2)\u03c3*(1s2)\u03c3(2s2)\u03c3*(2s2) [\u03c0(2px2) = \u03c0(2py2)]\",\n",
      "print \"\u03c3(2pz2) [\u03c0*(2px1) = \u03c0*(2py0)] OR [\u03c0*(2px0) = \u03c0*(2py1)]\"\n"
     ],
     "language": "python",
     "metadata": {},
     "outputs": [
      {
       "output_type": "stream",
       "stream": "stdout",
       "text": [
        "The number of electrons in N2- 15\n",
        "The molecular configuration of N2- is\n",
        "\u03c3(1s2)\u03c3*(1s2)\u03c3(2s2)\u03c3*(2s2) [\u03c0(2px2) = \u03c0(2py2)] \u03c3(2pz2) [\u03c0*(2px1) = \u03c0*(2py0)] OR [\u03c0*(2px0) = \u03c0*(2py1)]\n"
       ]
      }
     ],
     "prompt_number": 6
    }
   ],
   "metadata": {}
  }
 ]
}