{
 "metadata": {
  "name": ""
 },
 "nbformat": 3,
 "nbformat_minor": 0,
 "worksheets": [
  {
   "cells": [
    {
     "cell_type": "heading",
     "level": 1,
     "metadata": {},
     "source": [
      "Chapter 15: Environmental Pollution and Control"
     ]
    },
    {
     "cell_type": "heading",
     "level": 2,
     "metadata": {},
     "source": [
      "Problem: 1, Page No: 401"
     ]
    },
    {
     "cell_type": "code",
     "collapsed": false,
     "input": [
      "# Constant\n",
      "MM = 294                # Molar mass, K2Cr2O7\n",
      "\n",
      "# Variables\n",
      "v_eff = 25              # cm ^ 3, effluent\n",
      "v = 8.3                 # cm ^ 3, K2Cr2O7\n",
      "M = 0.001               # M, K2Cr2O7\n",
      "\n",
      "# Solution\n",
      "w_O = v * 8 * 6 * M / 1000.\n",
      "\n",
      "print \"8.3 cm^3 of 0.006 N K2Cr2O7 =\", \"{:.3e}\".format(w_O), \"g of O2\"\n",
      "print \"25 ml of the effluent requires\", \"{:.3e}\".format(w_O), \"g of O2\"\n",
      "\n",
      "cod = w_O * 10 ** 6 / 25.\n",
      "print \"1 l of the effluent requires\", \"{:.2f}\".format(cod), \"g of O2\"\n",
      "print \"COD of the effluent sample is\", \"{:.2f}\".format(cod), \"ppm or mg / L\"\n"
     ],
     "language": "python",
     "metadata": {},
     "outputs": [
      {
       "output_type": "stream",
       "stream": "stdout",
       "text": [
        "8.3 cm^3 of 0.006 N K2Cr2O7 = 3.984e-04 g of O2\n",
        "25 ml of the effluent requires 3.984e-04 g of O2\n",
        "1 l of the effluent requires 15.94 g of O2\n",
        "COD of the effluent sample is 15.94 ppm or mg / L\n"
       ]
      }
     ],
     "prompt_number": 2
    },
    {
     "cell_type": "heading",
     "level": 2,
     "metadata": {},
     "source": [
      "Problem: 2, Page No: 401"
     ]
    },
    {
     "cell_type": "code",
     "collapsed": false,
     "input": [
      "# Variables\n",
      "v0 = 30                 # cm^3, effluent\n",
      "v1 = 9.8                # cm^3, K2Cr2O7\n",
      "M = 0.001               # M, K2Cr2O7\n",
      "\n",
      "# Solution\n",
      "O_30eff = 6 * 8 * v1 * M\n",
      "print \"So 30 cm^3 of effluent contains =\", \"{:.4f}\".format(O_30eff), \"mg of O2\"\n",
      "\n",
      "cod = O_30eff * 1000 / 30.\n",
      "\n",
      "print \"1 l of the effluent requires\", cod, \"mg of O2\"\n",
      "print \"COD of the effluent sample =\", cod, \"ppm\"\n"
     ],
     "language": "python",
     "metadata": {},
     "outputs": [
      {
       "output_type": "stream",
       "stream": "stdout",
       "text": [
        "So 30 cm^3 of effluent contains = 0.4704 mg of O2\n",
        "1 l of the effluent requires 15.68 mg of O2\n",
        "COD of the effluent sample = 15.68 ppm\n"
       ]
      }
     ],
     "prompt_number": 1
    },
    {
     "cell_type": "heading",
     "level": 2,
     "metadata": {},
     "source": [
      "Problem: 3, Page No: 401"
     ]
    },
    {
     "cell_type": "code",
     "collapsed": false,
     "input": [
      "# Variables\n",
      "v0 = 25             # ml, sewage\n",
      "d0_O = 410          # ppm, dissolved oxygen\n",
      "d1_O = 120          # ppm, dissolved oxygen\n",
      "v1 = 50             # ml, sewage\n",
      "\n",
      "# Solution\n",
      "print \"BOD = (DOb - DOi) * Dilution Factor\"\n",
      "print \"BOD = (DOb - DOi) *\",\n",
      "print \"(ml of sample after dilution) / (ml of sample before dilution)\"\n",
      "\n",
      "BOD = (d0_O - d1_O) * (v1 / v0)\n",
      "print \"BOD =\", BOD, \"ppm\"\n"
     ],
     "language": "python",
     "metadata": {},
     "outputs": [
      {
       "output_type": "stream",
       "stream": "stdout",
       "text": [
        "BOD = (DOb - DOi) * Dilution Factor\n",
        "BOD = (DOb - DOi) * (ml of sample after dilution) / (ml of sample before dilution)\n",
        "BOD = 580 ppm\n"
       ]
      }
     ],
     "prompt_number": 10
    }
   ],
   "metadata": {}
  }
 ]
}