{
 "metadata": {
  "name": ""
 },
 "nbformat": 3,
 "nbformat_minor": 0,
 "worksheets": [
  {
   "cells": [
    {
     "cell_type": "heading",
     "level": 1,
     "metadata": {},
     "source": [
      "Chapter 7: Solid State"
     ]
    },
    {
     "cell_type": "heading",
     "level": 2,
     "metadata": {},
     "source": [
      "Problem 1, Page no: 209"
     ]
    },
    {
     "cell_type": "code",
     "collapsed": false,
     "input": [
      "# Solution\n",
      "print \"Weiss indices  \\t\\t\\t1/2, 2/3, infinity \\t2/3, 2, 1/3\"\n",
      "print \"Reciprocal of Weiss indices  2, 3/2, 1/infinity \\t3/2, 1/2, 3\"\n",
      "print \"Clear fractions\\t\\t\\t4, 3, 0            \\t3, 1, 6\"\n",
      "print \"Miller indices \\t\\t\\t  (430)            \\t  (316)\"\n"
     ],
     "language": "python",
     "metadata": {},
     "outputs": [
      {
       "output_type": "stream",
       "stream": "stdout",
       "text": [
        "Weiss indices  \t\t\t1/2, 2/3, infinity \t2/3, 2, 1/3\n",
        "Reciprocal of Weiss indices  2, 3/2, 1/infinity \t3/2, 1/2, 3\n",
        "Clear fractions\t\t\t4, 3, 0            \t3, 1, 6\n",
        "Miller indices \t\t\t  (430)            \t  (316)\n"
       ]
      }
     ],
     "prompt_number": 3
    },
    {
     "cell_type": "heading",
     "level": 2,
     "metadata": {},
     "source": [
      "Problem 2, Page no: 209"
     ]
    },
    {
     "cell_type": "code",
     "collapsed": false,
     "input": [
      "from math import sqrt\n",
      "\n",
      "\n",
      "# Variable\n",
      "a = 450                 # pm\n",
      "\n",
      "# Solution\n",
      "d220 = a / sqrt(2 ** 2 + 2 ** 2 + 0)\n",
      "print \"Interplanar spacing\", int(d220)\n"
     ],
     "language": "python",
     "metadata": {},
     "outputs": [
      {
       "output_type": "stream",
       "stream": "stdout",
       "text": [
        "Interplanar spacing 159\n"
       ]
      }
     ],
     "prompt_number": 5
    },
    {
     "cell_type": "heading",
     "level": 2,
     "metadata": {},
     "source": [
      "Problem 3, Page no: 209"
     ]
    },
    {
     "cell_type": "code",
     "collapsed": false,
     "input": [
      "# Solution\n",
      "print \"Intercept    \\t(a, b ,c)\\t\\t(a, 2b, c) \\t\\t(a, 2b, 2c) \\t\\t(infi, b, -c)\"\n",
      "print \"Weiss indices\\t 1, 1, 1 \\t\\t 1, 2, 1   \\t\\t 1, 2, 2    \\t\\t infi, 1, -1\"\n",
      "print \"Reciprocals  \\t 1, 1, 1 \\t\\t 1, 1/2, 1 \\t\\t 1, 1/2, 1/2\\t\\t 0, 1, -1\"\n",
      "print \"Miller indicec\\t (111)  \\t\\t (212)    \\t\\t (211)        \\t\\t   (011)\"\n"
     ],
     "language": "python",
     "metadata": {},
     "outputs": [
      {
       "output_type": "stream",
       "stream": "stdout",
       "text": [
        "Intercept    \t(a, b ,c)\t\t(a, 2b, c) \t\t(a, 2b, 2c) \t\t(infi, b, -c)\n",
        "Weiss indices\t 1, 1, 1 \t\t 1, 2, 1   \t\t 1, 2, 2    \t\t infi, 1, -1\n",
        "Reciprocals  \t 1, 1, 1 \t\t 1, 1/2, 1 \t\t 1, 1/2, 1/2\t\t 0, 1, -1\n",
        "Miller indicec\t (111)  \t\t (212)    \t\t (211)        \t\t   (011)\n"
       ]
      }
     ],
     "prompt_number": 7
    },
    {
     "cell_type": "heading",
     "level": 2,
     "metadata": {},
     "source": [
      "Problem 4, Page no: 209"
     ]
    },
    {
     "cell_type": "code",
     "collapsed": false,
     "input": [
      "# Variables\n",
      "rNa = 0.98 * 10 ** - 10             # m\n",
      "rCl = 1.81 * 10 ** - 10             # m\n",
      "\n",
      "# Solution\n",
      "rr = rNa / rCl\n",
      "print \"When the radius ration is\", \"{:.2f}\".format(rr),\n",
      "print \", the coordination number is 6.\"\n"
     ],
     "language": "python",
     "metadata": {},
     "outputs": [
      {
       "output_type": "stream",
       "stream": "stdout",
       "text": [
        "When the radius ration is 0.54 , the coordination number is 6.\n"
       ]
      }
     ],
     "prompt_number": 9
    },
    {
     "cell_type": "heading",
     "level": 2,
     "metadata": {},
     "source": [
      "Problem 5, Page no: 210"
     ]
    },
    {
     "cell_type": "code",
     "collapsed": false,
     "input": [
      "# Variables\n",
      "rLi = 68                 # pm\n",
      "rF = 136.                 # pm\n",
      "\n",
      "# Solution\n",
      "rr = rLi / rF\n",
      "print \"Radius ratio =\", rr\n",
      "print \"The structure of LiF is scc and C.N of Li+ = 6\"\n"
     ],
     "language": "python",
     "metadata": {},
     "outputs": [
      {
       "output_type": "stream",
       "stream": "stdout",
       "text": [
        "Radius ratio = 0.5\n",
        "The structure of LiF is scc and C.N of Li+ = 6\n"
       ]
      }
     ],
     "prompt_number": 2
    },
    {
     "cell_type": "heading",
     "level": 2,
     "metadata": {},
     "source": [
      "Problem 6, Page no: 210"
     ]
    },
    {
     "cell_type": "code",
     "collapsed": false,
     "input": [
      "from math import sin\n",
      "\n",
      "\n",
      "# Variables\n",
      "lamda = 2 * 10 ** - 10          # m\n",
      "theta = 30                      # degrees\n",
      "\n",
      "# Solution\n",
      "print \"For first-order reflection\"\n",
      "d = lamda / (2 * sin(theta))\n",
      "dist = 2 * d\n",
      "print \"Hence, distance between planes is\", \"{:.0e}\".format(abs(dist)), \"m\"\n"
     ],
     "language": "python",
     "metadata": {},
     "outputs": [
      {
       "output_type": "stream",
       "stream": "stdout",
       "text": [
        "For first-order reflection\n",
        "Hence, distance between planes is 2e-10 m\n"
       ]
      }
     ],
     "prompt_number": 3
    },
    {
     "cell_type": "heading",
     "level": 2,
     "metadata": {},
     "source": [
      "Problem 7, Page no: 210"
     ]
    },
    {
     "cell_type": "code",
     "collapsed": false,
     "input": [
      "from math import sqrt\n",
      "\n",
      "\n",
      "# Variables\n",
      "r = 174.6                   # pm\n",
      "\n",
      "# Solution\n",
      "a = r * sqrt(8)\n",
      "print \"For 200 plane: h = 2, k = 0, l = 0\"\n",
      "d200 = a / sqrt(2 ** 2)\n",
      "print \"d200 =\", \"{:.1f}\".format(d200), \"pm\"\n",
      "print \"For 200 plane: h = 2, k = 2, l = 0\"\n",
      "d220 = a / sqrt(2 ** 2 + 2 ** 2)\n",
      "print \"d220 =\", d220, \"pm\"\n"
     ],
     "language": "python",
     "metadata": {},
     "outputs": [
      {
       "output_type": "stream",
       "stream": "stdout",
       "text": [
        "For 200 plane: h = 2, k = 0, l = 0\n",
        "d200 = 246.9 pm\n",
        "For 200 plane: h = 2, k = 2, l = 0\n",
        "d220 = 174.6 pm\n"
       ]
      }
     ],
     "prompt_number": 17
    },
    {
     "cell_type": "heading",
     "level": 2,
     "metadata": {},
     "source": [
      "Problem 8, Page no: 210"
     ]
    },
    {
     "cell_type": "code",
     "collapsed": false,
     "input": [
      "# Constant\n",
      "N = 6.023 * 10 ** 23\n",
      "\n",
      "# Variables\n",
      "wt = 55.6\n",
      "p = 0.29                # nm\n",
      "n = 2\n",
      "\n",
      "# Solution\n",
      "print \"For BCC pattern,\"\n",
      "print \"number of atoms per unit cell = 2\"\n",
      "d = n * (wt * 10 ** -3) / (N * (p * 10 ** - 9) ** 3)\n",
      "print \"Density of the metal is\", \"{:.2e}\".format(d), \"kg / m^3\"\n",
      "print \"Number of nearest enighbour for BCC = 8\"\n"
     ],
     "language": "python",
     "metadata": {},
     "outputs": [
      {
       "output_type": "stream",
       "stream": "stdout",
       "text": [
        "For BCC pattern,\n",
        "number of atoms per unit cell = 2\n",
        "Density of the metal is 7.57e+03 kg / m^3\n",
        "Number of nearest enighbour for BCC = 8\n"
       ]
      }
     ],
     "prompt_number": 4
    },
    {
     "cell_type": "heading",
     "level": 2,
     "metadata": {},
     "source": [
      "Problem 9, Page no: 210"
     ]
    },
    {
     "cell_type": "code",
     "collapsed": false,
     "input": [
      "# Solution\n",
      "print \"Intercept    \\t2a/2, 2b, c/3\"\n",
      "print \"Weiss indices\\t1, 2, 1/3\"\n",
      "print \"Reciprocals  \\t1, 1/2, 3\"\n",
      "print \"Miller indices\\t (216)\"\n"
     ],
     "language": "python",
     "metadata": {},
     "outputs": [
      {
       "output_type": "stream",
       "stream": "stdout",
       "text": [
        "Intercept    \t2a/2, 2b, c/3\n",
        "Weiss indices\t1, 2, 1/3\n",
        "Reciprocals  \t1, 1/2, 3\n",
        "Miller indices\t (216)\n"
       ]
      }
     ],
     "prompt_number": 19
    },
    {
     "cell_type": "heading",
     "level": 2,
     "metadata": {},
     "source": [
      "Problem 10, Page no: 211"
     ]
    },
    {
     "cell_type": "code",
     "collapsed": false,
     "input": [
      "# Constant\n",
      "N = 6.023 * 10 ** 23\n",
      "\n",
      "# Variables\n",
      "D = 0.53                # g / cm ^ 3\n",
      "MM = 6.94               # g / mol\n",
      "n = 2\n",
      "\n",
      "# Solution\n",
      "print \"For BCC pattern,\"\n",
      "print \"number of atoms per unit cell = 2\"\n",
      "V = D * N / (n * MM)\n",
      "V = 1 / V\n",
      "print \"Volume of a unit cell of lithium metal is\", \"{:.2e}\".format(V), \"cc\"\n"
     ],
     "language": "python",
     "metadata": {},
     "outputs": [
      {
       "output_type": "stream",
       "stream": "stdout",
       "text": [
        "For BCC pattern,\n",
        "number of atoms per unit cell = 2\n",
        "Volume of a unit cell of lithium metal is 4.35e-23 cc\n"
       ]
      }
     ],
     "prompt_number": 23
    },
    {
     "cell_type": "heading",
     "level": 2,
     "metadata": {},
     "source": [
      "Problem 11, Page no: 211"
     ]
    },
    {
     "cell_type": "code",
     "collapsed": false,
     "input": [
      "from math import sqrt\n",
      "\n",
      "\n",
      "print \"AB remain in BCC structure if the edge length is a then body diagonal\",\n",
      "print \"is root(3)a\"\n",
      "print \"root(3)a = 2(r+  +  r-)\"\n",
      "A = (sqrt(3) * 0.4123 - 2 * 0.81) / 2\n",
      "print \"A+ =\", \"{:.2f}\".format(A), \"nm\"\n"
     ],
     "language": "python",
     "metadata": {},
     "outputs": [
      {
       "output_type": "stream",
       "stream": "stdout",
       "text": [
        "AB remain in BCC structure if the edge length is a then body diagonal is root(3)a\n",
        "root(3)a = 2(r+  +  r-)\n",
        "A+ = -0.45 nm\n"
       ]
      }
     ],
     "prompt_number": 25
    }
   ],
   "metadata": {}
  }
 ]
}