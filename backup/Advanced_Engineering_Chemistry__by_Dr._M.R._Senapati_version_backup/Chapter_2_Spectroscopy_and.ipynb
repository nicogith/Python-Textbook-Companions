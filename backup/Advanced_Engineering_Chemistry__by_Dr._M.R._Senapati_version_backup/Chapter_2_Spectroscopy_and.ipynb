{
 "metadata": {
  "name": ""
 },
 "nbformat": 3,
 "nbformat_minor": 0,
 "worksheets": [
  {
   "cells": [
    {
     "cell_type": "heading",
     "level": 1,
     "metadata": {},
     "source": [
      "Chapter 2: Spectroscopy and Photochemistry"
     ]
    },
    {
     "cell_type": "heading",
     "level": 2,
     "metadata": {},
     "source": [
      "Problem: 1, Page no: 65"
     ]
    },
    {
     "cell_type": "code",
     "collapsed": false,
     "input": [
      "# Constants\n",
      "m_br79 = 78.9183            # Mass of 79Br, amu\n",
      "m_br81 = 80.9163            # Mass of 91Br, amu\n",
      "Na = 6.022 * 10 ** 23       # Mole constant, /mol\n",
      "pi = 3.141                  # Pi\n",
      "c = 3 * 10 ** 10            # Speed of light, cm /s\n",
      "\n",
      "# Variable\n",
      "wave_no = 323.2             # Wave no. of fund. vibration of 79Br - 81Br, /cm\n",
      "\n",
      "# Solution\n",
      "mu = (m_br79 * m_br81) / ((m_br79 + m_br81) * Na)\n",
      "\n",
      "k = 4 * (pi * c * wave_no) ** 2 * mu * 10 ** -3\n",
      "\n",
      "print \"The force constant of the bond is\", \"{:.3e}\".format(k), \"N/m\"\n"
     ],
     "language": "python",
     "metadata": {},
     "outputs": [
      {
       "output_type": "stream",
       "stream": "stdout",
       "text": [
        "The force constant of the bond is 2.461e+02 N/m\n"
       ]
      }
     ],
     "prompt_number": 2
    },
    {
     "cell_type": "heading",
     "level": 2,
     "metadata": {},
     "source": [
      "Problem: 2, Page no: 65"
     ]
    },
    {
     "cell_type": "code",
     "collapsed": false,
     "input": [
      "# Constants\n",
      "Na = 6.022 * 10 ** 23           # Mole constant, /mol\n",
      "pi = 3.141                      # Pi\n",
      "c = 3 * 10 ** 10                # Speed of light, cm /s\n",
      "h = 6.626 * 10 ** -34           # Plank's constant, J.sec\n",
      "\n",
      "# Variables\n",
      "b_l = 112.81 * 10 ** -12        # Equillibrium bond length, m\n",
      "m1 = 12                         # Mass of Carbon, g /mol\n",
      "m2 = 16                         # Mass of Oxygen, g /mol\n",
      "\n",
      "# Solution\n",
      "mu = m1 * m2 / ((m1 + m2) * Na)  # g\n",
      "mu *= 10 ** -3                   # kg\n",
      "\n",
      "B = h / (8 * pi ** 2 * mu * b_l ** 2 * c)\n",
      "v2_3 = B * 6\n",
      "\n",
      "print \"The reduced mass of CO is\", \"{:.3e}\".format(mu), \"kg\"\n",
      "print \"The frequency of 3->2 transition is\", \"{:.2f}\".format(v2_3), \"/cm\"\n"
     ],
     "language": "python",
     "metadata": {},
     "outputs": [
      {
       "output_type": "stream",
       "stream": "stdout",
       "text": [
        "The reduced mass of CO is 1.139e-26 kg\n",
        "The frequency of 3->2 transition is 11.59 /cm\n"
       ]
      }
     ],
     "prompt_number": 3
    },
    {
     "cell_type": "heading",
     "level": 2,
     "metadata": {},
     "source": [
      "Problem: 3, Page no: 66"
     ]
    },
    {
     "cell_type": "code",
     "collapsed": false,
     "input": [
      "# Constants\n",
      "Na = 6.022 * 10 ** 23       # Mole constant, /mol\n",
      "\n",
      "# Variables\n",
      "d_NaCl = 2.36 * 10 ** -10           # Intermolecular dist. NaCl, m\n",
      "m_Cl = 35 * 10 ** -3                # Atomic mass, kg /mol\n",
      "m_Na = 23 * 10 ** -3                # Atomic mass, kg /mol\n",
      "\n",
      "# Solution\n",
      "mu = m_Na * m_Cl / ((m_Na + m_Cl) * 10 ** -3 * Na) * 10 ** -3\n",
      "\n",
      "I = mu * d_NaCl ** 2\n",
      "\n",
      "print \"The reduced mass of NaCl is\", \"{:.3e}\".format(mu), \"kg\"\n",
      "print \"The moment of inertia of NaCl is\", \"{:.3e}\".format(I), \"kg.m^2\"\n"
     ],
     "language": "python",
     "metadata": {},
     "outputs": [
      {
       "output_type": "stream",
       "stream": "stdout",
       "text": [
        "The reduced mass of NaCl is 2.305e-26 kg\n",
        "The moment of inertia of NaCl is 1.284e-45 kg.m^2\n"
       ]
      }
     ],
     "prompt_number": 4
    },
    {
     "cell_type": "heading",
     "level": 2,
     "metadata": {},
     "source": [
      "Problem: 4, Page no: 66"
     ]
    },
    {
     "cell_type": "code",
     "collapsed": false,
     "input": [
      "import math\n",
      "\n",
      "# Constant\n",
      "e = 4000                    # Extinction coeff., dm^3/mol/cm\n",
      "\n",
      "# Variable\n",
      "x = 3                       # Solution thickness, cm\n",
      "\n",
      "# Solution\n",
      "A = math.log10(1 / 0.3)     # Absorbance\n",
      "C = A / (e * x)\n",
      "\n",
      "print \"The concentration of the solution is\", \"{:.2e}\".format(C), \"mol/dm^3\"\n"
     ],
     "language": "python",
     "metadata": {},
     "outputs": [
      {
       "output_type": "stream",
       "stream": "stdout",
       "text": [
        "The concentration of the solution is 4.36e-05 mol/dm^3\n"
       ]
      }
     ],
     "prompt_number": 5
    },
    {
     "cell_type": "heading",
     "level": 2,
     "metadata": {},
     "source": [
      "Problem: 5, Page no: 67"
     ]
    },
    {
     "cell_type": "code",
     "collapsed": false,
     "input": [
      "# Constants\n",
      "pi = 3.141                  # Pi\n",
      "c = 3 * 10 ** 10            # Speed of light, cm /s\n",
      "\n",
      "# Variables\n",
      "v_bar = 2140                # Fundamental vibrating freq, /cm\n",
      "m_C = 19.9 * 10 ** -27      # Atomic mass of C, kg\n",
      "m_O = 26.6 * 10 ** -27      # Atomic mass of O, kg\n",
      "\n",
      "# Solution\n",
      "mu = m_O * m_C / (m_C + m_O)\n",
      "k = 4 * (pi * c * v_bar) ** 2 * mu\n",
      "\n",
      "print \"The force constant of the molecule is\", \"{:.3e}\".format(k), \"N/m\"\n"
     ],
     "language": "python",
     "metadata": {},
     "outputs": [
      {
       "output_type": "stream",
       "stream": "stdout",
       "text": [
        "The force constant of the molecule is 1.852e+03 N/m\n"
       ]
      }
     ],
     "prompt_number": 6
    },
    {
     "cell_type": "heading",
     "level": 2,
     "metadata": {},
     "source": [
      "Problem: 6, Page no: 67"
     ]
    },
    {
     "cell_type": "code",
     "collapsed": false,
     "input": [
      "print \"a) Microwave < IR < UV-Visible < X-Ray.\"\n",
      "print \"b) HCl and NO because they possess permanent dipole moments, so they are rotationally active.\""
     ],
     "language": "python",
     "metadata": {},
     "outputs": [
      {
       "output_type": "stream",
       "stream": "stdout",
       "text": [
        "a) Microwave < IR < UV-Visible < X-Ray.\n",
        "b) HCl and NO because they possess permanent dipole moments, so they are rotationally active.\n"
       ]
      }
     ],
     "prompt_number": 8
    },
    {
     "cell_type": "heading",
     "level": 2,
     "metadata": {},
     "source": [
      "Problem: 7, Page no: 67"
     ]
    },
    {
     "cell_type": "code",
     "collapsed": false,
     "input": [
      "import math\n",
      "\n",
      "# Constants\n",
      "pi = 3.141                  # pi\n",
      "c = 3 * 10 ** 10            # speed of light, cm /s\n",
      "h = 6.626 * 10 ** -34       # Plank's constant, J.sec\n",
      "Na = 6.022 * 10 ** 23       # Mole constant, /mol\n",
      "\n",
      "# Variables\n",
      "d = 20.7                    # Interspacing, /cm\n",
      "m1 = 1                      # Mass of H, g / mol\n",
      "m2 = 35.5                   # Masso f Cl, g / mol\n",
      "\n",
      "# Solution\n",
      "B = 0.1035 * 10 ** 2        # /m\n",
      "I = h / (8 * pi ** 2 * B * c)\n",
      "mu = m1 * m2 / ((m1 + m2) * Na)\n",
      "mu *= 10 ** -3\n",
      "r = math.sqrt(I / mu)\n",
      "\n",
      "print \"The intermolecular distance of HCl is\", \"{:.3e}\".format(r), \"m\"\n",
      "# Discrepency in value is due to error in calculation in the textbook\n"
     ],
     "language": "python",
     "metadata": {},
     "outputs": [
      {
       "output_type": "stream",
       "stream": "stdout",
       "text": [
        "The intermolecular distance of HCl is 1.294e-10 m\n"
       ]
      }
     ],
     "prompt_number": 9
    },
    {
     "cell_type": "heading",
     "level": 2,
     "metadata": {},
     "source": [
      "Problem: 8, Page no: 68"
     ]
    },
    {
     "cell_type": "code",
     "collapsed": false,
     "input": [
      "import math\n",
      "\n",
      "# Constant\n",
      "e = 8000                # Molar absorbtion coeff, dm^3 / mol / cm\n",
      "\n",
      "# Variable\n",
      "l = 2.5                 # Thickness of solution, cm\n",
      "\n",
      "# Solution\n",
      "C = math.log10(1 / 0.3) / (e * l)\n",
      "\n",
      "print \"The concentration of Solution from Lambert-Beer's Law is\",\n",
      "print \"{:.2e}\".format(C), \"mol/dm^3\"\n"
     ],
     "language": "python",
     "metadata": {},
     "outputs": [
      {
       "output_type": "stream",
       "stream": "stdout",
       "text": [
        "The concentration of Solution from Lambert-Beer's Law is 2.61e-05 mol/dm^3\n"
       ]
      }
     ],
     "prompt_number": 10
    },
    {
     "cell_type": "heading",
     "level": 2,
     "metadata": {},
     "source": [
      "Problem: 9, Page no: 68"
     ]
    },
    {
     "cell_type": "code",
     "collapsed": false,
     "input": [
      "print \"a) In the visible-UV spectra, CH2 = CHOCHOCH3 exhibits\"\n",
      "print \"a higher value of lambda(max) because it has two conjugated\"\n",
      "print \"chromophores, that is, one double bond (C=C) and a carbonyl\"\n",
      "print \"group.\"\n",
      "\n",
      "print\n",
      "print \"b) Because of the symmetrical vibrations of C=C double bond and\"\n",
      "print \"triple bond, ethylene and acetylene do not absorb IR energy.\"\n"
     ],
     "language": "python",
     "metadata": {},
     "outputs": [
      {
       "output_type": "stream",
       "stream": "stdout",
       "text": [
        "a) In the visible-UV spectra, CH2 = CHOCHOCH3 exhibits\n",
        "a higher value of lambda(max) because it has two conjugated\n",
        "chromophores, that is, one double bond (C=C) and a carbonyl\n",
        "group.\n",
        "\n",
        "b) Because of the symmetrical vibrations of C=C double bond and\n",
        "triple bond, ethylene and acetylene do not absorb IR energy.\n"
       ]
      }
     ],
     "prompt_number": 13
    },
    {
     "cell_type": "heading",
     "level": 2,
     "metadata": {},
     "source": [
      "Problem: 10, Page no: 68"
     ]
    },
    {
     "cell_type": "code",
     "collapsed": false,
     "input": [
      "print \"Because CO2 is a linear molecule.\"\n",
      "v_deg = 3 * 3 - 5\n",
      "print \"The vibrational degree of freedom is\", v_deg"
     ],
     "language": "python",
     "metadata": {},
     "outputs": [
      {
       "output_type": "stream",
       "stream": "stdout",
       "text": [
        "Because CO2 is a linear molecule.\n",
        "The vibrational degree of freedom is 4\n"
       ]
      }
     ],
     "prompt_number": 14
    }
   ],
   "metadata": {}
  }
 ]
}