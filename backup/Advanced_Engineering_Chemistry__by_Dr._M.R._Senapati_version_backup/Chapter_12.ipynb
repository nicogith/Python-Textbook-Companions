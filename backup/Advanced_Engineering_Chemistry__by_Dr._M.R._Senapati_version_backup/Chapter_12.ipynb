{
 "metadata": {
  "name": ""
 },
 "nbformat": 3,
 "nbformat_minor": 0,
 "worksheets": [
  {
   "cells": [
    {
     "cell_type": "heading",
     "level": 1,
     "metadata": {},
     "source": [
      "Chapter 12: Polymers and Polymerization"
     ]
    },
    {
     "cell_type": "heading",
     "level": 2,
     "metadata": {},
     "source": [
      "Problem: 1, Page no: 311"
     ]
    },
    {
     "cell_type": "code",
     "collapsed": false,
     "input": [
      "# Variable\n",
      "Mwt = 21150             # g / mol\n",
      "\n",
      "# Solution\n",
      "m = 2 * 12 + 3 * 1.008 + 1 * 35.45      # g / mer\n",
      "n = Mwt / m\n",
      "print \"The degree of polymerization is\", int(n)\n"
     ],
     "language": "python",
     "metadata": {},
     "outputs": [
      {
       "output_type": "stream",
       "stream": "stdout",
       "text": [
        "The degree of polymerization is 338\n"
       ]
      }
     ],
     "prompt_number": 1
    },
    {
     "cell_type": "heading",
     "level": 2,
     "metadata": {},
     "source": [
      "Problem: 2, Page no: 312"
     ]
    },
    {
     "cell_type": "code",
     "collapsed": false,
     "input": [
      "# Variables\n",
      "n = 10000               # degree of polymerisation\n",
      "\n",
      "# Solution\n",
      "m = 8 * 12 + 8 * 1.008  # g / mer\n",
      "M = n * m\n",
      "print \"Molecular weight of polystyrene chain,\", M, \"g /mol\"\n"
     ],
     "language": "python",
     "metadata": {},
     "outputs": [
      {
       "output_type": "stream",
       "stream": "stdout",
       "text": [
        "Molecular weight of polystyrene chain, 1040640.0 g /mol\n"
       ]
      }
     ],
     "prompt_number": 2
    },
    {
     "cell_type": "heading",
     "level": 2,
     "metadata": {},
     "source": [
      "Problem: 3, Page no: 312"
     ]
    },
    {
     "cell_type": "code",
     "collapsed": false,
     "input": [
      "# Variables\n",
      "d1 = 920                    # density, kg / m^3\n",
      "d2 = 961.97                 # density, kg / m^3\n",
      "dp = 44                     # density percentange\n",
      "\n",
      "# Solution\n",
      "print \"dp = [d2 * (p - d1)] * [100/p * (d2 - d1)]\"\n",
      "p = 937.98\n",
      "print \"Density of sample is\", p, \"kg / m^3\"\n"
     ],
     "language": "python",
     "metadata": {},
     "outputs": [
      {
       "output_type": "stream",
       "stream": "stdout",
       "text": [
        "dp = [d2 * (p - d1)] * [100/p * (d2 - d1)]\n",
        "Density of sample is 937.98 kg / m^3\n"
       ]
      }
     ],
     "prompt_number": 3
    },
    {
     "cell_type": "heading",
     "level": 2,
     "metadata": {},
     "source": [
      "Problem: 4, Page no: 313"
     ]
    },
    {
     "cell_type": "code",
     "collapsed": false,
     "input": [
      "# Constant\n",
      "Na = 6.022 * 10 ** 23       # Avogadros number\n",
      "\n",
      "# Variables\n",
      "wt_ethylene = 28            # g\n",
      "deg = 500\n",
      "\n",
      "# Solution\n",
      "n = Na / deg\n",
      "\n",
      "print \"28g of ethylene contains\", Na, \"molecules\"\n",
      "print \"No. of polyethylene formed\", \"{:.3e}\".format(n), \"molecules\"\n"
     ],
     "language": "python",
     "metadata": {},
     "outputs": [
      {
       "output_type": "stream",
       "stream": "stdout",
       "text": [
        "28g of ethylene contains 6.022e+23 molecules\n",
        "No. of polyethylene formed 1.204e+21 molecules\n"
       ]
      }
     ],
     "prompt_number": 5
    }
   ],
   "metadata": {}
  }
 ]
}