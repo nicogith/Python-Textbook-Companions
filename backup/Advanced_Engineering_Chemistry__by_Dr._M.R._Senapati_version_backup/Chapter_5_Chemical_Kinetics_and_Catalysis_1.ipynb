{
 "metadata": {
  "name": ""
 },
 "nbformat": 3,
 "nbformat_minor": 0,
 "worksheets": [
  {
   "cells": [
    {
     "cell_type": "heading",
     "level": 1,
     "metadata": {},
     "source": [
      "Chapter 5: Chemical Kinetics and Catalysis"
     ]
    },
    {
     "cell_type": "heading",
     "level": 2,
     "metadata": {},
     "source": [
      "Problem: 1, Page no: 149"
     ]
    },
    {
     "cell_type": "code",
     "collapsed": false,
     "input": [
      "# Variables\n",
      "K = 3.5 * 10 ** - 2             # Rate constant\n",
      "\n",
      "# Solution\n",
      "print \"First order reaction = 0.693 / K\"\n",
      "t_05 = 0.693 / K\n",
      "print \"Time taken for half the initial concentration to react\", t_05, \"minutes\"\n"
     ],
     "language": "python",
     "metadata": {},
     "outputs": [
      {
       "output_type": "stream",
       "stream": "stdout",
       "text": [
        "First order reaction = 0.693 / K\n",
        "Time taken for half the initial concentration to react 19.8 minutes\n"
       ]
      }
     ],
     "prompt_number": 2
    },
    {
     "cell_type": "heading",
     "level": 2,
     "metadata": {},
     "source": [
      "Problem: 2, Page no: 150"
     ]
    },
    {
     "cell_type": "code",
     "collapsed": false,
     "input": [
      "# Variables\n",
      "t05 = 40                    # minutes\n",
      "\n",
      "# Solution\n",
      "print \"Rate constant = 0.693 / t05\"\n",
      "K = 0.693 / t05\n",
      "print \"Rate constant\", \"{:.4f}\".format(K), \"/ min\"\n"
     ],
     "language": "python",
     "metadata": {},
     "outputs": [
      {
       "output_type": "stream",
       "stream": "stdout",
       "text": [
        "Rate constant = 0.693 / t05\n",
        "Rate constant 0.0173 / min\n"
       ]
      }
     ],
     "prompt_number": 5
    },
    {
     "cell_type": "heading",
     "level": 2,
     "metadata": {},
     "source": [
      "Problem: 3, Page no: 150"
     ]
    },
    {
     "cell_type": "code",
     "collapsed": false,
     "input": [
      "from math import log10\n",
      "\n",
      "# Variables\n",
      "t0 = 37.0                   # cm^3 of KMnO4\n",
      "t5 = 29.8                   # cm^3 of KMnO4\n",
      "t15 = 19.6                  # cm^3 of KMnO4\n",
      "t25 = 12.3                  # cm^3 of KMnO4\n",
      "t45 = 5.00                  # cm^3 of KMnO4\n",
      "\n",
      "# Solution\n",
      "K5 = 2.303 / 5 * log10(t0 / t5)\n",
      "K15 = 2.303 / 15 * log10(t0 / t15)\n",
      "K25 = 2.303 / 25 * log10(t0 / t25)\n",
      "K45 = 2.303 / 45 * log10(t0 / t45)\n",
      "\n",
      "print \"At t = 5 min, K =\", \"{:.3e}\".format(K5), \"/min\"\n",
      "print \"At t = 15 min, K =\", \"{:.3e}\".format(K15), \"/min\"\n",
      "print \"At t = 25 min, K =\", \"{:.3e}\".format(K25), \"/min\"\n",
      "print \"At t = 45 min, K =\", \"{:.3e}\".format(K45), \"/min\"\n",
      "print \"As the different values of K are nearly same, so the reaction\",\n",
      "print \"is of first-order\"\n",
      "K = (K45 + K25 + K5 + K15) / 4\n",
      "print \"The average value of K = \", \"{:.3e}\".format(K), \"/min\"\n"
     ],
     "language": "python",
     "metadata": {},
     "outputs": [
      {
       "output_type": "stream",
       "stream": "stdout",
       "text": [
        "At t = 5 min, K = 4.329e-02 /min\n",
        "At t = 15 min, K = 4.237e-02 /min\n",
        "At t = 25 min, K = 4.406e-02 /min\n",
        "At t = 45 min, K = 4.449e-02 /min\n",
        "As the different values of K are nearly same, so the reaction is of first-order\n",
        "The average value of K =  4.355e-02 /min\n"
       ]
      }
     ],
     "prompt_number": 1
    },
    {
     "cell_type": "heading",
     "level": 2,
     "metadata": {},
     "source": [
      "Problem : 4, Page no: 150"
     ]
    },
    {
     "cell_type": "code",
     "collapsed": false,
     "input": [
      "# Variables\n",
      "t = 60                  # min\n",
      "x = \"0.5a\"\n",
      "K = 5.2 * 10 ** - 3     # / mol L / min\n",
      "\n",
      "# Solution\n",
      "a = 1 / (t * K)\n",
      "print \"Initial concentration\", \"{:.3f}\".format(a), \"mol / L\"\n"
     ],
     "language": "python",
     "metadata": {},
     "outputs": [
      {
       "output_type": "stream",
       "stream": "stdout",
       "text": [
        "Initial concentration 3.205 mol / L\n"
       ]
      }
     ],
     "prompt_number": 13
    },
    {
     "cell_type": "heading",
     "level": 2,
     "metadata": {},
     "source": [
      "Problem: 5, Page no: 151"
     ]
    },
    {
     "cell_type": "code",
     "collapsed": false,
     "input": [
      "from math import log10\n",
      "\n",
      "# Solution\n",
      "print \"99.9 % / 50 % =\",\n",
      "times = round((2.303 * log10(100 / (100 - 99.9))) / (2.303 * log10(100 / (100 - 50))))\n",
      "print times\n"
     ],
     "language": "python",
     "metadata": {},
     "outputs": [
      {
       "output_type": "stream",
       "stream": "stdout",
       "text": [
        "99.9 % / 50 % = 10.0\n"
       ]
      }
     ],
     "prompt_number": 18
    },
    {
     "cell_type": "heading",
     "level": 2,
     "metadata": {},
     "source": [
      "Problem: 6, Page no: 151"
     ]
    },
    {
     "cell_type": "code",
     "collapsed": false,
     "input": [
      "from math import log10\n",
      "\n",
      "# Constants\n",
      "R = 1.987               # cal / K / mol\n",
      "\n",
      "# Variables\n",
      "T1 = 273.0              # K\n",
      "T2 = 303.0              # K\n",
      "K1 = 2.45 * 10 ** -5\n",
      "K2 = 162 * 10 ** -5\n",
      "\n",
      "# Solution\n",
      "Ea = log10(K2 / K1) * R * 2.303 / ((T2 - T1) / (T1 * T2))\n",
      "print \"The activation energy of the reaction is\", int(Ea), \"cal / mol\"\n"
     ],
     "language": "python",
     "metadata": {},
     "outputs": [
      {
       "output_type": "stream",
       "stream": "stdout",
       "text": [
        "The activation energy of the reaction is 22968 cal / mol\n"
       ]
      }
     ],
     "prompt_number": 22
    },
    {
     "cell_type": "heading",
     "level": 2,
     "metadata": {},
     "source": [
      "Problem: 7, Page no: 151"
     ]
    },
    {
     "cell_type": "code",
     "collapsed": false,
     "input": [
      "# Variables\n",
      "t05 = 30                # minutes\n",
      "a = 0.1                 # M\n",
      "\n",
      "# Solution\n",
      "print \"For second order reaction,\"\n",
      "print \"t0.5 = 1 / Ka\"\n",
      "K = 1 / (a * t05)\n",
      "print \"The rate constant is\", \"{:.3f}\".format(K), \"mol / lit / min\"\n"
     ],
     "language": "python",
     "metadata": {},
     "outputs": [
      {
       "output_type": "stream",
       "stream": "stdout",
       "text": [
        "For second order reaction,\n",
        "t0.5 = 1 / Ka\n",
        "The rate constant is 0.333 mol / lit / min\n"
       ]
      }
     ],
     "prompt_number": 23
    },
    {
     "cell_type": "heading",
     "level": 2,
     "metadata": {},
     "source": [
      "Problem: 8, Page no: 151"
     ]
    },
    {
     "cell_type": "code",
     "collapsed": false,
     "input": [
      "from math import log\n",
      "\n",
      "# Variables\n",
      "T = 500                     # C\n",
      "Pi = 350                    # torr\n",
      "r1 = 1.07                   # torr / s\n",
      "r2 = 0.76                   # torr / s\n",
      "\n",
      "# Solution\n",
      "print \"1.07 = k(0.95a)^n\"\n",
      "print \"0.76 = k(0.80a)^n\"\n",
      "n = log(r1 / r2) / log(0.95 / 0.80)\n",
      "print \"Hence, order of reaction is\", round(n)\n"
     ],
     "language": "python",
     "metadata": {},
     "outputs": [
      {
       "output_type": "stream",
       "stream": "stdout",
       "text": [
        "1.07 = k(0.95a)^n\n",
        "0.76 = k(0.80a)^n\n",
        "Hence, order of reaction is 2.0\n"
       ]
      }
     ],
     "prompt_number": 4
    },
    {
     "cell_type": "heading",
     "level": 2,
     "metadata": {},
     "source": [
      "Problem: 9, Page no: 152"
     ]
    },
    {
     "cell_type": "code",
     "collapsed": false,
     "input": [
      "# Solution\n",
      "print \"Applying steady state approximation to the concentration of NOCl2,\",\n",
      "print \"we get\"\n",
      "print \"d[NOCl2] / dt = 0 = k1 [NO] [Cl2] - k-1 [NOCl2] - k2 [NO] [NOCl2]\"\n",
      "print \"[NOCl2] = k1 [NO] [Cl2] / (k-1 + k2 [NO])\"\n",
      "print \"Now, the overall rate of reaction,\"\n",
      "print \"d[NOCl2] / dt = k2 [NO] [NOCl2]\"\n",
      "print \"From the above equations we get,\"\n",
      "print \"(k1 k2 / k-1) * [NO]^2 * [Cl2], if k2[NO] << k-1\"\n",
      "print \"k [NO]^2[Cl2], where k = k1 * k2 / k-1\"\n"
     ],
     "language": "python",
     "metadata": {},
     "outputs": [
      {
       "output_type": "stream",
       "stream": "stdout",
       "text": [
        "Applying steady state approximation to the concentration of NOCl2, we get\n",
        "d[NOCl2] / dt = 0 = k1 [NO] [Cl2] - k-1 [NOCl2] - k2 [NO] [NOCl2]\n",
        "[NOCl2] = k1 [NO] [Cl2] / (k-1 + k2 [NO])\n",
        "Now, the overall rate of reaction,\n",
        "d[NOCl2] / dt = k2 [NO] [NOCl2]\n",
        "From the above equations we get,\n",
        "(k1 k2 / k-1) * [NO]^2 * [Cl2], if k2[NO] << k-1\n",
        "k [NO]^2[Cl2], where k = k1 * k2 / k-1\n"
       ]
      }
     ],
     "prompt_number": 5
    },
    {
     "cell_type": "heading",
     "level": 2,
     "metadata": {},
     "source": [
      "Problem: 10, Page no: 153"
     ]
    },
    {
     "cell_type": "code",
     "collapsed": false,
     "input": [
      "from math import log10\n",
      "\n",
      "# Constant\n",
      "R = 1.987               # cal / K / mol\n",
      "\n",
      "# Variables\n",
      "K2_K1 = 4               # factor increase\n",
      "T1 = 27                 # C\n",
      "T2 = 47                 # C\n",
      "\n",
      "# Solution\n",
      "T1 += 273.0\n",
      "T2 += 273.0\n",
      "Ea = log10(4) * 2.303 * R * (T1 * T2 / (T2 - T1))\n",
      "print \"The activation energy for the reaction is\", \"{:.2e}\".format(Ea),\n",
      "print \"cal /mol\"\n"
     ],
     "language": "python",
     "metadata": {},
     "outputs": [
      {
       "output_type": "stream",
       "stream": "stdout",
       "text": [
        "The activation energy for the reaction is 1.32e+04 cal /mol\n"
       ]
      }
     ],
     "prompt_number": 2
    },
    {
     "cell_type": "heading",
     "level": 2,
     "metadata": {},
     "source": [
      "Problem: 11, Page no: 153"
     ]
    },
    {
     "cell_type": "code",
     "collapsed": false,
     "input": [
      "from math import log10\n",
      "\n",
      "# Variables\n",
      "a = 1                  # mole\n",
      "x = 3 / 4.0            # reaction completed\n",
      "\n",
      "# Solution\n",
      "K = (2.303 / 6) * log10(1 / (1 - x))\n",
      "print \"The rate constant is\", \"{:.3f}\".format(K), \"/min\"\n"
     ],
     "language": "python",
     "metadata": {},
     "outputs": [
      {
       "output_type": "stream",
       "stream": "stdout",
       "text": [
        "The rate constant is 0.231 /min\n"
       ]
      }
     ],
     "prompt_number": 11
    },
    {
     "cell_type": "heading",
     "level": 2,
     "metadata": {},
     "source": [
      "Problem: 12, Page no: 153"
     ]
    },
    {
     "cell_type": "code",
     "collapsed": false,
     "input": [
      "from math import log10\n",
      "\n",
      "# Solution\n",
      "print \"Let the initial concentration be 100, when x = 25\",\n",
      "print \" t = 30 minutes\"\n",
      "a = 100\n",
      "x = 25.0\n",
      "t = 30          # minutes\n",
      "K = 2.303 / t * log10(a / (a - x))\n",
      "t05 = 0.683 / K\n",
      "t = 2.303 / K * log10(a / x)\n",
      "print \"K =\", \"{:.2e}\".format(K), \"/ min\"\n",
      "print \"T0.5 =\", \"{:.2f}\".format(t05), \"min\"\n",
      "print \"t =\", \"{:.1f}\".format(t), \"min\"\n"
     ],
     "language": "python",
     "metadata": {},
     "outputs": [
      {
       "output_type": "stream",
       "stream": "stdout",
       "text": [
        "Let the initial concentration be 100, when x = 25  t = 30 minutes\n",
        "K = 9.59e-03 / min\n",
        "T0.5 = 71.21 min\n",
        "t = 144.6 min\n"
       ]
      }
     ],
     "prompt_number": 15
    }
   ],
   "metadata": {}
  }
 ]
}