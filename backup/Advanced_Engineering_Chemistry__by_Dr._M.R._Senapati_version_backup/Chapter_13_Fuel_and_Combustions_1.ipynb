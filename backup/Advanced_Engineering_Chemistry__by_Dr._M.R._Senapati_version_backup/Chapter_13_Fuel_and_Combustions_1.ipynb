{
 "metadata": {
  "name": ""
 },
 "nbformat": 3,
 "nbformat_minor": 0,
 "worksheets": [
  {
   "cells": [
    {
     "cell_type": "heading",
     "level": 1,
     "metadata": {},
     "source": [
      "Chapter 13: Fuel and Combustions"
     ]
    },
    {
     "cell_type": "heading",
     "level": 2,
     "metadata": {},
     "source": [
      "Problem: 1, Page No: 350"
     ]
    },
    {
     "cell_type": "code",
     "collapsed": false,
     "input": [
      "# Variables\n",
      "C = 84                  # Percentage\n",
      "S = 1.5                 # Percentage\n",
      "N = 0.6                 # Percentage\n",
      "H = 5.5                 # Percentage\n",
      "O = 8.4                 # Percentage\n",
      "\n",
      "# Solution\n",
      "GCV = (8080 * C + 34500 * (H - O / 8) + 2240 * S) / 100\n",
      "LCV = (GCV - 9 * H / 100 * 587)\n",
      "print \"Gross Calorific Value\", int(GCV), \"kcal / kg\"\n",
      "print \"Net Calorific Value\", \"{:.2f}\".format(LCV), \"kcal / kg\"\n"
     ],
     "language": "python",
     "metadata": {},
     "outputs": [
      {
       "output_type": "stream",
       "stream": "stdout",
       "text": [
        "Gross Calorific Value 8356 kcal / kg\n",
        "Net Calorific Value 8065.48 kcal / kg\n"
       ]
      }
     ],
     "prompt_number": 4
    },
    {
     "cell_type": "heading",
     "level": 2,
     "metadata": {},
     "source": [
      "Problem: 2, Page No: 350"
     ]
    },
    {
     "cell_type": "code",
     "collapsed": false,
     "input": [
      "# Variables\n",
      "C = 90              # Percentage\n",
      "O = 3.0             # Percentage\n",
      "S = 0.5             # Percentage\n",
      "N = 0.5             # Percentage\n",
      "ash = 2.5           # Percentage\n",
      "LCV = 8490.5        # kcal / kg\n",
      "\n",
      "# Solution\n",
      "print \"HCV = LCV + 9 * H / 100 * 587\"\n",
      "print \"HCV = 1/100 * (8080 * C + 34500 * (H - O / 8) + 2240 * N)\"\n",
      "H = (8490.5 - 7754.8) / (345 - 52.8)\n",
      "H = 4.575\n",
      "print \"The precentage of H is\", H, \"%\"\n",
      "HCV = LCV + 52.8 * H\n",
      "print \"Higeher calorific value of coal\", \"{:.1f}\".format(HCV), \"kcal / kg\"\n"
     ],
     "language": "python",
     "metadata": {},
     "outputs": [
      {
       "output_type": "stream",
       "stream": "stdout",
       "text": [
        "HCV = LCV + 9 * H / 100 * 587\n",
        "HCV = 1/100 * (8080 * C + 34500 * (H - O / 8) + 2240 * N)\n",
        "The precentage of H is 4.575 %\n",
        "Higeher calorific value of coal 8732.1 kcal / kg\n"
       ]
      }
     ],
     "prompt_number": 4
    },
    {
     "cell_type": "heading",
     "level": 2,
     "metadata": {},
     "source": [
      "Problem: 3, Page No: 351"
     ]
    },
    {
     "cell_type": "code",
     "collapsed": false,
     "input": [
      "# Variables\n",
      "x = 0.72                # g\n",
      "W = 250                 # g\n",
      "w = 150                 # g\n",
      "t1 = 27.3               # C\n",
      "t2 = 29.1               # C\n",
      "\n",
      "# Solution\n",
      "HCV = ((W + w) * (t2 - t1)) / x\n",
      "HCV *= 4185.0 / 10 ** 6\n",
      "print \"HCV of fuel is\", \"{:.3f}\".format(HCV), \"KJ / Kg\"\n"
     ],
     "language": "python",
     "metadata": {},
     "outputs": [
      {
       "output_type": "stream",
       "stream": "stdout",
       "text": [
        "HCV of fuel is 4.185 KJ / Kg\n"
       ]
      }
     ],
     "prompt_number": 4
    },
    {
     "cell_type": "heading",
     "level": 2,
     "metadata": {},
     "source": [
      "Problem: 4, Page No: 351"
     ]
    },
    {
     "cell_type": "code",
     "collapsed": false,
     "input": [
      "# Variables\n",
      "x = 0.84                # g\n",
      "W = 1060                # g\n",
      "w = 135                 # g\n",
      "delta_t = 2.5           # C\n",
      "\n",
      "# Solution\n",
      "HCV = ((W + w) * delta_t) / x\n",
      "print \"HCV of fuel is\", \"{:.2f}\".format(HCV), \"kcal / kg\"\n"
     ],
     "language": "python",
     "metadata": {},
     "outputs": [
      {
       "output_type": "stream",
       "stream": "stdout",
       "text": [
        "HCV of fuel is 3556.55 kcal / kg\n"
       ]
      }
     ],
     "prompt_number": 5
    },
    {
     "cell_type": "heading",
     "level": 2,
     "metadata": {},
     "source": [
      "Problem: 5, Page No: 351"
     ]
    },
    {
     "cell_type": "code",
     "collapsed": false,
     "input": [
      "# Variables\n",
      "V = 0.1                 # m ^ 3\n",
      "W = 25                  # kg\n",
      "t1 = 20                 # C\n",
      "t2 = 33                 # C\n",
      "m = 0.025               # kg\n",
      "\n",
      "# Solution\n",
      "HCV = W * (t2 - t1) / V\n",
      "LCV = HCV - (m / V) * 580\n",
      "print \"HCV is\", HCV, \"kcal / m^3\"\n",
      "print \"LCV is\", LCV, \"kcal / m^3\"\n"
     ],
     "language": "python",
     "metadata": {},
     "outputs": [
      {
       "output_type": "stream",
       "stream": "stdout",
       "text": [
        "HCV is 3250.0 kcal / m^3\n",
        "LCV is 3105.0 kcal / m^3\n"
       ]
      }
     ],
     "prompt_number": 6
    },
    {
     "cell_type": "heading",
     "level": 2,
     "metadata": {},
     "source": [
      "Problem: 6, Page No: 351"
     ]
    },
    {
     "cell_type": "code",
     "collapsed": false,
     "input": [
      "# Variables\n",
      "w1 = 2.5                # g\n",
      "w2 = 2.415              # g\n",
      "r = 1.528               # g\n",
      "ma = 0.245              # Mass of ash, g\n",
      "\n",
      "# Solution\n",
      "m = w1 - w2             # Mass of moisture in coal\n",
      "mv = w2 - r             # Mass of volatile matter\n",
      "moisp = m * 100 / w1\n",
      "volp = mv * 100 / w1\n",
      "ashp = ma * 100 / w1\n",
      "carbp = 100 - (moisp + volp + ashp)\n",
      "print \"Percentage of moisture:\", moisp, \"%\"\n",
      "print \"Percentage of volatile matter:\", volp, \"%\"\n",
      "print \"Percentage of ash:\", ashp, \"%\"\n",
      "print \"Percentage of fixed carbon:\", carbp, \"%\"\n"
     ],
     "language": "python",
     "metadata": {},
     "outputs": [
      {
       "output_type": "stream",
       "stream": "stdout",
       "text": [
        "Percentage of moisture: 3.4 %\n",
        "Percentage of volatile matter: 35.48 %\n",
        "Percentage of ash: 9.8 %\n",
        "Percentage of fixed carbon: 51.32 %\n"
       ]
      }
     ],
     "prompt_number": 9
    },
    {
     "cell_type": "heading",
     "level": 2,
     "metadata": {},
     "source": [
      "Problem: 7, Page No: 352"
     ]
    },
    {
     "cell_type": "code",
     "collapsed": false,
     "input": [
      "# Variables\n",
      "wt_coke = 2             # kg\n",
      "\n",
      "# Solution\n",
      "wt_O = 2 * 32 / 12.0\n",
      "wt_air = wt_O * 100 / 23.2\n",
      "Vol_air = wt_air / 28.94 * 22.4\n",
      "print \"Volume of air needed for the complete combustion of 2kg coke\",\n",
      "print \"is\", \"{:.3f}\".format(Vol_air), \"litres at NTP\"\n"
     ],
     "language": "python",
     "metadata": {},
     "outputs": [
      {
       "output_type": "stream",
       "stream": "stdout",
       "text": [
        "Volume of air needed for the complete combustion of 2kg coke is 17.793 litres at NTP\n"
       ]
      }
     ],
     "prompt_number": 10
    },
    {
     "cell_type": "heading",
     "level": 2,
     "metadata": {},
     "source": [
      "Problem: 8, Page No: 352"
     ]
    },
    {
     "cell_type": "code",
     "collapsed": false,
     "input": [
      "# Variables\n",
      "C = 86              # Percent\n",
      "H = 4               # Percent\n",
      "N = 1.3             # Percent\n",
      "S = 3               # Percent\n",
      "O = 4               # Percent\n",
      "Ash = 1.7           # Percent\n",
      "wt = 500            # g\n",
      "\n",
      "# Solution\n",
      "wt_C = C / 100.0\n",
      "wt_S = S / 100.0\n",
      "wt_H = H / 100.0\n",
      "wt_O = O / 100.0\n",
      "\n",
      "print \"Nitrogen and ash are incombustible, so they do not require oxygen.\"\n",
      "wt_O_C = 32 / 12.0 * wt_C\n",
      "wt_O_S = 32 / 32.0 * wt_S\n",
      "wt_O_H = 32 / 4.0 * wt_H\n",
      "\n",
      "Twt_O = wt_O_H + wt_O_S + wt_O_C\n",
      "wt_O_needed = Twt_O - wt_O\n",
      "wt_air = (100.0 / 23.0 * wt_O_needed) * 500 / 1000.0\n",
      "print \"Minimum Wt. of air required by 500g of fuel\", \"{:.2f}\".format(wt_air), \"kg\"\n"
     ],
     "language": "python",
     "metadata": {},
     "outputs": [
      {
       "output_type": "stream",
       "stream": "stdout",
       "text": [
        "Nitrogen and ash are incombustible, so they do not require oxygen.\n",
        "Minimum Wt. of air required by 500g of fuel 5.66 kg\n"
       ]
      }
     ],
     "prompt_number": 5
    },
    {
     "cell_type": "heading",
     "level": 2,
     "metadata": {},
     "source": [
      "Problem: 9, Page No: 353"
     ]
    },
    {
     "cell_type": "code",
     "collapsed": false,
     "input": [
      "# Variables\n",
      "wt_C = 3                # kg\n",
      "\n",
      "# Solution\n",
      "wt_air = wt_C * 32 * 100 / 12.0 / 23.0\n",
      "vol_air = wt_air * 1000 * 22.4 / 28.94\n",
      "\n",
      "print \"H2(g)  +  1/2 O2(g)  --> H20(l)\"\n",
      "print \" 1            0.5         1\\t\\t(By Vol.)\"\n",
      "print \"CO(g)  +  1/2 O2(g)  --> CO2(g)\"\n",
      "print \" 1             0.5        1\\t\\t(By Vol.)\"\n",
      "print \"CH4(g) +  2   O2(g)  --> CO2(g) + 2H2O(l)\"\n",
      "print \" 1             2          1\\t\\t(By Vol.)\"\n",
      "\n",
      "print \"Weight of air for the combustion of 3kg carbon\",\n",
      "print \"{:.3f}\".format(wt_air), \"kg\"\n",
      "print \"Vol. pf air required for combustion of 3kg carbon\",\n",
      "print \"{:.3e}\".format(vol_air), \"L\",\n",
      "print \"or\", \"{:.2f}\".format(vol_air / 1000), \"m^3\"\n"
     ],
     "language": "python",
     "metadata": {},
     "outputs": [
      {
       "output_type": "stream",
       "stream": "stdout",
       "text": [
        "H2(g)  +  1/2 O2(g)  --> H20(l)\n",
        " 1            0.5         1\t\t(By Vol.)\n",
        "CO(g)  +  1/2 O2(g)  --> CO2(g)\n",
        " 1             0.5        1\t\t(By Vol.)\n",
        "CH4(g) +  2   O2(g)  --> CO2(g) + 2H2O(l)\n",
        " 1             2          1\t\t(By Vol.)\n",
        "Weight of air for the combustion of 3kg carbon 34.783 kg\n",
        "Vol. pf air required for combustion of 3kg carbon 2.692e+04 L or 26.92 m^3\n"
       ]
      }
     ],
     "prompt_number": 11
    },
    {
     "cell_type": "heading",
     "level": 2,
     "metadata": {},
     "source": [
      "Problem: 10, Page No: 353"
     ]
    },
    {
     "cell_type": "code",
     "collapsed": false,
     "input": [
      "# Variables\n",
      "H = 0.30                # m^3\n",
      "CO = 0.10               # m^3\n",
      "CH4 = 0.04              # m^3\n",
      "N2 = 0.56               # m^3\n",
      "\n",
      "# Soution\n",
      "vol_oxygen = H * 0.5 + CO * 0.5 + CH4 * 2\n",
      "vol_air = vol_oxygen * 100 / 21\n",
      "print \"Volumer of air required for complete combustion of 1 m^3 of\",\n",
      "print \"producer gas:\", \"{:.3f}\".format(vol_air), \"m^3\"\n"
     ],
     "language": "python",
     "metadata": {},
     "outputs": [
      {
       "output_type": "stream",
       "stream": "stdout",
       "text": [
        "Volumer of air required for complete combustion of 1 m^3 of producer gas: 1.333 m^3\n"
       ]
      }
     ],
     "prompt_number": 21
    },
    {
     "cell_type": "heading",
     "level": 2,
     "metadata": {},
     "source": [
      "Problem: 11, Page No: 354"
     ]
    },
    {
     "cell_type": "code",
     "collapsed": false,
     "input": [
      "# Variables\n",
      "H = 15.4                # Percentage\n",
      "C = 84.6                # Percentage\n",
      "wt_fuel = 1             # kg\n",
      "wt_C = 0.846            # kg\n",
      "wt_H = 0.154            # kg\n",
      "\n",
      "# Solution\n",
      "print \"The combustion reactions are,\"\n",
      "print \"C + O2 --> CO2\"\n",
      "print \"12  32  \\t(by Weight)\"\n",
      "print \"2H2 + O2 --> H20\"\n",
      "print \" 4    32\\t(by Weight)\"\n",
      "\n",
      "wt_O = 32 / 12.0 * wt_C\n",
      "wt_O_H = 32 / 4.0 * wt_H\n",
      "Twt_O = wt_O + wt_O_H\n",
      "print \"Because 32 gm of O2 occupies a volume of 22.4 liters at NTP\"\n",
      "print \"3.488 * 1000 gm of O2 will occupy\",\n",
      "print \"{:.1f}\".format(22.4 / 32 * Twt_O * 1000), \"liters\"\n"
     ],
     "language": "python",
     "metadata": {},
     "outputs": [
      {
       "output_type": "stream",
       "stream": "stdout",
       "text": [
        "The combustion reactions are,\n",
        "C + O2 --> CO2\n",
        "12  32  \t(by Weight)\n",
        "2H2 + O2 --> H20\n",
        " 4    32\t(by Weight)\n",
        "Because 32 gm of O2 occupies a volume of 22.4 liters at NTP\n",
        "3.488 * 1000 gm of O2 will occupy 2441.6 liters\n"
       ]
      }
     ],
     "prompt_number": 10
    },
    {
     "cell_type": "heading",
     "level": 2,
     "metadata": {},
     "source": [
      "Problem: 12, Page No: 354"
     ]
    },
    {
     "cell_type": "code",
     "collapsed": false,
     "input": [
      "# Variables\n",
      "C = 750                 # g\n",
      "H = 52                  # g\n",
      "O = 121                 # g\n",
      "N = 32                  # g\n",
      "ash = 45                # g\n",
      "\n",
      "# Solution\n",
      "min_wt_air = (C * 32 / 12. + H * 16 / 2. - O) * 100 / 23.\n",
      "HCV = 1 / 1000. * (8080 * C + 34500 * (H - O / 8.) + 2240 * 0)\n",
      "LCV = HCV - 0.09 * H * 587 / 10.0\n",
      "\n",
      "print \"HCV is\", int(HCV), \"kcal/kg\"\n",
      "print \"LCV is\", int(LCV), \"kcal/kg\"\n"
     ],
     "language": "python",
     "metadata": {},
     "outputs": [
      {
       "output_type": "stream",
       "stream": "stdout",
       "text": [
        "HCV is 7332 kcal/kg\n",
        "LCV is 7057 kcal/kg\n"
       ]
      }
     ],
     "prompt_number": 25
    },
    {
     "cell_type": "heading",
     "level": 2,
     "metadata": {},
     "source": [
      "Problem: 13, Page No: 355"
     ]
    },
    {
     "cell_type": "code",
     "collapsed": false,
     "input": [
      "# Variables\n",
      "C = 81              # Percent\n",
      "H = 8               # Percent\n",
      "N = 2               # Percent\n",
      "O = 5               # Percent\n",
      "\n",
      "# Solution\n",
      "print \"In 1kg coal,\"\n",
      "\n",
      "wt_C = C * 10\n",
      "wt_H = H * 10\n",
      "wt_N = N * 10\n",
      "wt_O = O * 10\n",
      "wt_ash = 100 - (wt_O + wt_N + wt_H + wt_C)\n",
      "\n",
      "wt_air = ((wt_C * 32 / 12. + wt_H * 16 / 2. - wt_O) * 100 / 23.) / 1000.\n",
      "\n",
      "print \"Weight of air required for complete combustion of 10kg coal\",\n",
      "print \"=\", \"{:.2f}\".format(wt_air * 10), \"kg\"\n",
      "\n",
      "HCV = 1 / 100. * (8080 * C + 34500 * (H - O / 8.))\n",
      "LCV = HCV - 0.09 * H * 587\n",
      "\n",
      "print \"HCV is\", int(HCV), \"kcal/kg\"\n",
      "print \"LCV is\", int(LCV), \"kcal/kg\"\n"
     ],
     "language": "python",
     "metadata": {},
     "outputs": [
      {
       "output_type": "stream",
       "stream": "stdout",
       "text": [
        "In 1kg coal,\n",
        "Weight of air required for complete combustion of 10kg coal = 119.57 kg\n",
        "HCV is 9089 kcal/kg\n",
        "LCV is 8666 kcal/kg\n"
       ]
      }
     ],
     "prompt_number": 27
    },
    {
     "cell_type": "heading",
     "level": 2,
     "metadata": {},
     "source": [
      "Problem: 14, Page No: 355"
     ]
    },
    {
     "cell_type": "code",
     "collapsed": false,
     "input": [
      "# Variables\n",
      "C = 80              # Percent\n",
      "H = 7               # Percent\n",
      "N = 2.1             # Percent\n",
      "O = 3               # Percent\n",
      "S = 3.5             # Percent\n",
      "Ash = 4.4           # Percent\n",
      "\n",
      "# Solution\n",
      "HCV = 1 / 100. * (8080 * C + 34500 * (H - O / 8.) + 2240 * S)\n",
      "LCV = HCV - 0.09 * H * 587\n",
      "\n",
      "print \"HCV is\", int(HCV), \"kcal/kg\"\n",
      "print \"LCV is\", int(LCV), \"kcal/kg\"\n"
     ],
     "language": "python",
     "metadata": {},
     "outputs": [
      {
       "output_type": "stream",
       "stream": "stdout",
       "text": [
        "HCV is 8828 kcal/kg\n",
        "LCV is 8458 kcal/kg\n"
       ]
      }
     ],
     "prompt_number": 30
    }
   ],
   "metadata": {}
  }
 ]
}