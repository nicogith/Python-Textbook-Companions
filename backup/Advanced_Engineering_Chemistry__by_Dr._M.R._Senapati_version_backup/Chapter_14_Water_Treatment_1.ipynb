{
 "metadata": {
  "name": ""
 },
 "nbformat": 3,
 "nbformat_minor": 0,
 "worksheets": [
  {
   "cells": [
    {
     "cell_type": "heading",
     "level": 1,
     "metadata": {},
     "source": [
      "Chapter 14: Water Treatment"
     ]
    },
    {
     "cell_type": "heading",
     "level": 2,
     "metadata": {},
     "source": [
      "Problem: 1, Page No:378"
     ]
    },
    {
     "cell_type": "code",
     "collapsed": false,
     "input": [
      "# Variables\n",
      "wt_CaSO4 = 160                  # mg / l\n",
      "\n",
      "# Solution\n",
      "hardness = 100 * wt_CaSO4 / 136.\n",
      "print \"The hardness is\", \"{:.2f}\".format(hardness), \"mg / L of CaCO3 eqv.\"\n"
     ],
     "language": "python",
     "metadata": {},
     "outputs": [
      {
       "output_type": "stream",
       "stream": "stdout",
       "text": [
        "The hardness is 117.65 mg / L of CaCO3 eqv.\n"
       ]
      }
     ],
     "prompt_number": 2
    },
    {
     "cell_type": "heading",
     "level": 2,
     "metadata": {},
     "source": [
      "Problem: 2, Page No:378"
     ]
    },
    {
     "cell_type": "code",
     "collapsed": false,
     "input": [
      "# Variables\n",
      "wt1 = 9.3                   # mg / L\n",
      "wt2 = 17.4                  # mg / L\n",
      "wt3 = 8.7                   # mg / L\n",
      "wt4 = 12.6                  # mg / L\n",
      "\n",
      "# Solution\n",
      "temp_hardness = wt1 * 100 / 146. + wt2 * 100 / 162.\n",
      "per_hardness = wt3 * 100 / 95. + wt4 * 100 / 136.\n",
      "total_hardness = temp_hardness + per_hardness\n",
      "\n",
      "print \"Temporary hardness:\", \"{:.2f}\".format(temp_hardness), \"mg / L\"\n",
      "print \"Total hardness:\", \"{:.2f}\".format(total_hardness), \"mg / L\"\n"
     ],
     "language": "python",
     "metadata": {},
     "outputs": [
      {
       "output_type": "stream",
       "stream": "stdout",
       "text": [
        "Temporary hardness: 17.11 mg / L\n",
        "Total hardness: 35.53 mg / L\n"
       ]
      }
     ],
     "prompt_number": 4
    },
    {
     "cell_type": "heading",
     "level": 2,
     "metadata": {},
     "source": [
      "Problem: 3, Page No:378"
     ]
    },
    {
     "cell_type": "code",
     "collapsed": false,
     "input": [
      "# Variables\n",
      "wt1 = 32.4                  # mg / L\n",
      "wt2 = 29.2                  # mg / L\n",
      "wt3 = 13.5                  # mg / L\n",
      "\n",
      "# Solution\n",
      "temp_hardness = wt1 * 100 / 162. + wt2 * 100 / 146.\n",
      "per_hardness = wt3 * 100 / 136.\n",
      "\n",
      "print \"Temporary hardness:\", \"{:.2f}\".format(temp_hardness), \"mg / L\"\n",
      "print \"Permanent hardness:\", \"{:.2f}\".format(per_hardness), \"mg / L\"\n"
     ],
     "language": "python",
     "metadata": {},
     "outputs": [
      {
       "output_type": "stream",
       "stream": "stdout",
       "text": [
        "Temporary hardness: 40.00 mg / L\n",
        "Permanent hardness: 9.93 mg / L\n"
       ]
      }
     ],
     "prompt_number": 5
    },
    {
     "cell_type": "heading",
     "level": 2,
     "metadata": {},
     "source": [
      "Problem: 4, Page No:379"
     ]
    },
    {
     "cell_type": "code",
     "collapsed": false,
     "input": [
      "# Variables\n",
      "i1 = 180            # mg / L, CaCl2\n",
      "i2 = 210            # mg / L, Ca(NO3)2\n",
      "i3 = 123            # mg / L, MgSO4\n",
      "i4 = 90             # mg / L, Mg(HCO3)2\n",
      "\n",
      "# Solution\n",
      "i1_req = i1 * 100 / 111.\n",
      "i2_req = i2 * 100 / 164.\n",
      "i3_req = i3 * 100 / 120.\n",
      "i4_req = i4 * 100 / 146.\n",
      "\n",
      "lime_req = 74 / 100. * (2 * i4_req + i3_req) * 100 / 70. * 10000\n",
      "soda_req = 106 / 100. * (i1_req + i3_req + i2_req) * 100 / 80. * 10000\n",
      "\n",
      "print \"Lime Required\", \"{:.1e}\".format(lime_req), \"mg\",\n",
      "print \"=\", \"{:.1f}\".format(lime_req / 10 ** 6), \"kg\"\n",
      "print \"Soda Required\", \"{:.1e}\".format(soda_req), \"mg\",\n",
      "print \"=\", \"{:.1f}\".format(soda_req / 10 ** 6), \"kg\"\n"
     ],
     "language": "python",
     "metadata": {},
     "outputs": [
      {
       "output_type": "stream",
       "stream": "stdout",
       "text": [
        "Lime Required 2.4e+06 mg = 2.4 kg\n",
        "Soda Required 5.2e+06 mg = 5.2 kg\n"
       ]
      }
     ],
     "prompt_number": 3
    },
    {
     "cell_type": "heading",
     "level": 2,
     "metadata": {},
     "source": [
      "Problem: 5, Page No:379"
     ]
    },
    {
     "cell_type": "code",
     "collapsed": false,
     "input": [
      "# Variables\n",
      "wt1 = 32.4                  # mg / L, Ca(HCO3)2\n",
      "wt2 = 29.29                 # mg / L, Mg(HCO3)2\n",
      "wt3 = 13.5                  # mg / L, CaSO4\n",
      "\n",
      "# Solution\n",
      "wt1_equi = wt1 * 100 / 162.\n",
      "wt2_equi = wt2 * 100 / 146.\n",
      "wt3_equi = wt3 * 100 / 136.\n",
      "\n",
      "temp_hardness = wt1_equi + wt2_equi\n",
      "perm_hardness = wt3_equi\n",
      "\n",
      "print \"Temporary hardness [due to Ca(HCO3)2 & Mg(HCO3)2] is\",\n",
      "print int(temp_hardness), \"ppm\"\n",
      "print \"Permanent hardness [due to CaSO4] is\", \"{:.1f}\".format(perm_hardness), \"ppm\"\n"
     ],
     "language": "python",
     "metadata": {},
     "outputs": [
      {
       "output_type": "stream",
       "stream": "stdout",
       "text": [
        "Temporary hardness [due to Ca(HCO3)2 & Mg(HCO3)2] is 40 ppm\n",
        "Permanent hardness [due to CaSO4] is 9.9 ppm\n"
       ]
      }
     ],
     "prompt_number": 8
    },
    {
     "cell_type": "heading",
     "level": 2,
     "metadata": {},
     "source": [
      "Problem: 6, Page No:380"
     ]
    },
    {
     "cell_type": "code",
     "collapsed": false,
     "input": [
      "# Variables\n",
      "v1 = 150                # litres, NaCl\n",
      "\n",
      "# Solution\n",
      "v_hardwater = 22500 * v1 / 3 / 0.6 / 58.5\n",
      "\n",
      "print \"The amount of hard water that can be softened using this softner is\",\n",
      "print int(v_hardwater), \"litres\"\n"
     ],
     "language": "python",
     "metadata": {},
     "outputs": [
      {
       "output_type": "stream",
       "stream": "stdout",
       "text": [
        "The amount of hard water that can be softened using this softner is 32051 litres\n"
       ]
      }
     ],
     "prompt_number": 9
    },
    {
     "cell_type": "heading",
     "level": 2,
     "metadata": {},
     "source": [
      "Problem: 7, Page No:380"
     ]
    },
    {
     "cell_type": "code",
     "collapsed": false,
     "input": [
      "# Variables\n",
      "v1 = 30                 # litres, NaCl\n",
      "w = 1500                # mg / L, NaCl\n",
      "\n",
      "# Solution\n",
      "hardness = 45 * 50 / 58.5 * 1000 / 1000\n",
      "print \"Hardness of water is\", \"{:.2f}\".format(hardness), \"ppm\"\n"
     ],
     "language": "python",
     "metadata": {},
     "outputs": [
      {
       "output_type": "stream",
       "stream": "stdout",
       "text": [
        "Hardness of water is 38.46 ppm\n"
       ]
      }
     ],
     "prompt_number": 7
    },
    {
     "cell_type": "heading",
     "level": 2,
     "metadata": {},
     "source": [
      "Problem: 8, Page No:381"
     ]
    },
    {
     "cell_type": "code",
     "collapsed": false,
     "input": [
      "# Variables\n",
      "v1_water = 50               # ml, water\n",
      "w1_CaCO3 = 1.5              # mg, pure CaCO3\n",
      "v1_EDTA = 44                # ml, EDTA\n",
      "v2_EDTA = 40                # ml, EDTA\n",
      "v2_water = 20               # ml, water\n",
      "\n",
      "# Solution\n",
      "EDTA_1ml = v1_water * w1_CaCO3 / v1_EDTA\n",
      "hardwater_40ml = v2_water * 1.704\n",
      "total_hardness0 = hardwater_40ml * 1000 / 40\n",
      "total_hardness1 = total_hardness0 * 0.07\n",
      "\n",
      "print \"Total hardness is\", \"{:.2f}\".format(total_hardness1), \"\u00b0Cl\"\n"
     ],
     "language": "python",
     "metadata": {},
     "outputs": [
      {
       "output_type": "stream",
       "stream": "stdout",
       "text": [
        "Total hardness is 59.64 \u00b0Cl\n"
       ]
      }
     ],
     "prompt_number": 2
    },
    {
     "cell_type": "heading",
     "level": 2,
     "metadata": {},
     "source": [
      "Problem: 9, Page No:381"
     ]
    },
    {
     "cell_type": "code",
     "collapsed": false,
     "input": [
      "# Constants\n",
      "Fe = 56\n",
      "S = 32\n",
      "O = 16\n",
      "Ca = 40\n",
      "C = 12\n",
      "\n",
      "# Solution\n",
      "hardness100 = Fe + S + O * 4\n",
      "\n",
      "print \"215 ppm of hardness is\", \"{:.1f}\".format(hardness100 * 215 / 100.),\n",
      "print \"ppm of FeSO4\"\n"
     ],
     "language": "python",
     "metadata": {},
     "outputs": [
      {
       "output_type": "stream",
       "stream": "stdout",
       "text": [
        "215 ppm of hardness is 326.8 ppm of FeSO4\n"
       ]
      }
     ],
     "prompt_number": 14
    },
    {
     "cell_type": "heading",
     "level": 2,
     "metadata": {},
     "source": [
      "Problem: 10, Page No:381"
     ]
    },
    {
     "cell_type": "code",
     "collapsed": false,
     "input": [
      "# Variables\n",
      "v1 = 50.                # ml, hardwater\n",
      "v2 = 15                 # ml, EDTA\n",
      "m = 0.01                # M, EDTA\n",
      "\n",
      "# Solution\n",
      "M = v2 * m / v1\n",
      "N = M * 2\n",
      "S = N * 50 * 1000\n",
      "\n",
      "print \"Molarity of hardness is\", M, \"M\"\n",
      "print \"Normality of hardness is\", N, \"N\"\n",
      "print \"Strength of hardness is\", S, \"ppm or mg / L\"\n"
     ],
     "language": "python",
     "metadata": {},
     "outputs": [
      {
       "output_type": "stream",
       "stream": "stdout",
       "text": [
        "Molarity of hardness is 0.003 M\n",
        "Normality of hardness is 0.006 N\n",
        "Strength of hardness is 300.0 ppm or mg / L\n"
       ]
      }
     ],
     "prompt_number": 1
    },
    {
     "cell_type": "heading",
     "level": 2,
     "metadata": {},
     "source": [
      "Problem: 11, Page No:382"
     ]
    },
    {
     "cell_type": "code",
     "collapsed": false,
     "input": [
      "# Variable\n",
      "C = 16.5                    # ppm, CO3-2\n",
      "\n",
      "# Solution\n",
      "Molarity = C * 10 ** - 6 / 60.\n",
      "\n",
      "print \"Molarity of CO3-2 is\", \"{:.1e}\".format(Molarity), \"mol / L\"\n"
     ],
     "language": "python",
     "metadata": {},
     "outputs": [
      {
       "output_type": "stream",
       "stream": "stdout",
       "text": [
        "Molarity of CO3-2 is 2.7e-07 mol / L\n"
       ]
      }
     ],
     "prompt_number": 6
    }
   ],
   "metadata": {}
  }
 ]
}